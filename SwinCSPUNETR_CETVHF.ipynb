{
 "cells": [
  {
   "cell_type": "code",
   "execution_count": 1,
   "metadata": {},
   "outputs": [
    {
     "name": "stdout",
     "output_type": "stream",
     "text": [
      "MONAI version: 1.4.0\n",
      "Numpy version: 1.26.3\n",
      "Pytorch version: 2.4.1+cu121\n",
      "MONAI flags: HAS_EXT = False, USE_COMPILED = False, USE_META_DICT = False\n",
      "MONAI rev id: 46a5272196a6c2590ca2589029eed8e4d56ff008\n",
      "MONAI __file__: c:\\ProgramData\\anaconda3\\envs\\ship\\Lib\\site-packages\\monai\\__init__.py\n",
      "\n",
      "Optional dependencies:\n",
      "Pytorch Ignite version: NOT INSTALLED or UNKNOWN VERSION.\n",
      "ITK version: NOT INSTALLED or UNKNOWN VERSION.\n",
      "Nibabel version: 5.3.2\n",
      "scikit-image version: 0.24.0\n",
      "scipy version: 1.14.1\n",
      "Pillow version: 10.2.0\n",
      "Tensorboard version: NOT INSTALLED or UNKNOWN VERSION.\n",
      "gdown version: 5.2.0\n",
      "TorchVision version: 0.19.1+cu121\n",
      "tqdm version: 4.66.5\n",
      "lmdb version: NOT INSTALLED or UNKNOWN VERSION.\n",
      "psutil version: 6.0.0\n",
      "pandas version: 2.2.3\n",
      "einops version: 0.8.0\n",
      "transformers version: NOT INSTALLED or UNKNOWN VERSION.\n",
      "mlflow version: NOT INSTALLED or UNKNOWN VERSION.\n",
      "pynrrd version: NOT INSTALLED or UNKNOWN VERSION.\n",
      "clearml version: NOT INSTALLED or UNKNOWN VERSION.\n",
      "\n",
      "For details about installing the optional dependencies, please visit:\n",
      "    https://docs.monai.io/en/latest/installation.html#installing-the-recommended-dependencies\n",
      "\n"
     ]
    }
   ],
   "source": [
    "import os\n",
    "import shutil\n",
    "import tempfile\n",
    "\n",
    "import matplotlib.pyplot as plt\n",
    "from tqdm import tqdm\n",
    "\n",
    "import random\n",
    "import numpy as np\n",
    "import torch\n",
    "\n",
    "\n",
    "from monai.losses import DiceCELoss\n",
    "from monai.inferers import sliding_window_inference\n",
    "from monai.transforms import (\n",
    "    AsDiscrete,\n",
    "    EnsureChannelFirstd,\n",
    "    Compose,\n",
    "    CropForegroundd,\n",
    "    LoadImaged,\n",
    "    Orientationd,\n",
    "    RandFlipd,\n",
    "    RandCropByPosNegLabeld,\n",
    "    RandShiftIntensityd,\n",
    "    ScaleIntensityRanged,\n",
    "    Spacingd,\n",
    "    RandRotate90d,\n",
    ")\n",
    "\n",
    "from monai.config import print_config\n",
    "from monai.metrics import DiceMetric\n",
    "from src.models.swincspunetr import SwinCSPUNETR\n",
    "\n",
    "from monai.data import (\n",
    "    DataLoader,\n",
    "    CacheDataset,\n",
    "    load_decathlon_datalist,\n",
    "    decollate_batch,\n",
    ")\n",
    "\n",
    "# 랜덤 시드 고정\n",
    "def set_seed(seed):\n",
    "    random.seed(seed)\n",
    "    np.random.seed(seed)\n",
    "    torch.manual_seed(seed)\n",
    "    if torch.cuda.is_available():\n",
    "        torch.cuda.manual_seed_all(seed)\n",
    "\n",
    "set_seed(42)\n",
    "\n",
    "\n",
    "print_config()"
   ]
  },
  {
   "cell_type": "code",
   "execution_count": 2,
   "metadata": {},
   "outputs": [
    {
     "name": "stdout",
     "output_type": "stream",
     "text": [
      "클래스 비율: {0: 0.0, 1: 0.16393442622950818, 2: 0.01639344262295082, 3: 0.2459016393442623, 4: 0.16393442622950818, 5: 0.2459016393442623, 6: 0.16393442622950818}\n",
      "최종 합계: 1.0\n",
      "클래스 비율 리스트: [0.0, 0.16393442622950818, 0.01639344262295082, 0.2459016393442623, 0.16393442622950818, 0.2459016393442623, 0.16393442622950818]\n"
     ]
    }
   ],
   "source": [
    "class_info = {\n",
    "    0: {\"name\": \"background\", \"weight\": 0},  # weight 없음\n",
    "    1: {\"name\": \"apo-ferritin\", \"weight\": 1000},\n",
    "    2: {\"name\": \"beta-amylase\", \"weight\": 100}, # 4130\n",
    "    3: {\"name\": \"beta-galactosidase\", \"weight\": 1500}, #3080\n",
    "    4: {\"name\": \"ribosome\", \"weight\": 1000},\n",
    "    5: {\"name\": \"thyroglobulin\", \"weight\": 1500},\n",
    "    6: {\"name\": \"virus-like-particle\", \"weight\": 1000},\n",
    "}\n",
    "\n",
    "# 가중치에 비례한 비율 계산\n",
    "raw_ratios = {\n",
    "    k: (v[\"weight\"] if v[\"weight\"] is not None else 0.01)  # 가중치 비례, None일 경우 기본값a\n",
    "    for k, v in class_info.items()\n",
    "}\n",
    "total = sum(raw_ratios.values())\n",
    "ratios = {k: v / total for k, v in raw_ratios.items()}\n",
    "\n",
    "# 최종 합계가 1인지 확인\n",
    "final_total = sum(ratios.values())\n",
    "print(\"클래스 비율:\", ratios)\n",
    "print(\"최종 합계:\", final_total)\n",
    "\n",
    "# 비율을 리스트로 변환\n",
    "ratios_list = [ratios[k] for k in sorted(ratios.keys())]\n",
    "print(\"클래스 비율 리스트:\", ratios_list)"
   ]
  },
  {
   "cell_type": "markdown",
   "metadata": {},
   "source": [
    "# 모델 설정"
   ]
  },
  {
   "cell_type": "code",
   "execution_count": 3,
   "metadata": {},
   "outputs": [],
   "source": [
    "from src.dataset.dataset import create_dataloaders\n",
    "from monai.transforms import (\n",
    "    Compose, LoadImaged, EnsureChannelFirstd, NormalizeIntensityd,\n",
    "    Orientationd, CropForegroundd, GaussianSmoothd, ScaleIntensityd,\n",
    "    RandSpatialCropd, RandRotate90d, RandFlipd, RandGaussianNoised,\n",
    "    ToTensord, RandCropByLabelClassesd\n",
    ")\n",
    "from monai.transforms import CastToTyped\n",
    "import numpy as np\n",
    "\n",
    "train_img_dir = \"./datasets/train/images\"\n",
    "train_label_dir = \"./datasets/train/labels\"\n",
    "val_img_dir = \"./datasets/val/images\"\n",
    "val_label_dir = \"./datasets/val/labels\"\n",
    "# DATA CONFIG\n",
    "img_size =  96 # Match your patch size\n",
    "img_depth = img_size\n",
    "n_classes = 7\n",
    "batch_size = 1 # 13.8GB GPU memory required for 128x128 img size\n",
    "num_samples = batch_size # 한 이미지에서 뽑을 샘플 수\n",
    "loader_batch = 1\n",
    "num_repeat = 60\n",
    "accumulation_steps = 16\n",
    "\n",
    "# MODEL CONFIG\n",
    "feature_size = 48\n",
    "use_checkpoint = True\n",
    "use_v2 = True\n",
    "drop_rate= 0.25\n",
    "attn_drop_rate = 0.25\n",
    "num_bottleneck = 2\n",
    "\n",
    "# TRAINING CONFIG\n",
    "num_epochs = 4000\n",
    "\n",
    "lr = 0.001\n",
    "\n",
    "# LOSS\n",
    "warmup_epochs = 5\n",
    "schedule_epochs = 10\n",
    "warmup_ce = 8.0\n",
    "warmup_tv = 0.1\n",
    "warmup_hd = 0.1\n",
    "ce_end = 0.2\n",
    "tv_end = 0.4\n",
    "hd_end = 0.4\n",
    "include_background = False\n",
    "reduction = \"mean\"\n",
    "softmax = True\n",
    "tversky_alpha = 0.52  # Tversky loss의 alpha 값 = lamda\n",
    "tversky_beta = 1.0 - tversky_alpha\n",
    "tversky_smooth = 1e-5\n",
    "tv_boost = 1.2\n",
    "hd_boost = 1.2\n",
    "\n",
    "\n",
    "class_weights = None\n",
    "class_weights = torch.tensor([0.0001, 1, 0.001, 1.1, 1, 1.1, 1], dtype=torch.float32)  # 클래스별 가중치\n",
    "\n",
    "# INIT\n",
    "start_epoch = 0\n",
    "best_val_loss = float('inf')\n",
    "best_val_fbeta_score = 0\n",
    "\n",
    "non_random_transforms = Compose([\n",
    "    EnsureChannelFirstd(keys=[\"image\", \"label\"], channel_dim=\"no_channel\"),\n",
    "    NormalizeIntensityd(keys=\"image\"),\n",
    "    Orientationd(keys=[\"image\", \"label\"], axcodes=\"RAS\"),\n",
    "    CastToTyped(keys=[\"image\"], dtype=np.float16),\n",
    "    GaussianSmoothd(\n",
    "        keys=[\"image\"],      # 변환을 적용할 키\n",
    "        sigma=[1.0, 1.0, 1.0]  # 각 축(x, y, z)의 시그마 값\n",
    "        ),\n",
    "])\n",
    "random_transforms = Compose([\n",
    "    RandCropByLabelClassesd(\n",
    "        keys=[\"image\", \"label\"],\n",
    "        label_key=\"label\",\n",
    "        spatial_size=[img_depth, img_size, img_size],\n",
    "        num_classes=n_classes,\n",
    "        num_samples=num_samples, \n",
    "        ratios=ratios_list,\n",
    "    ),\n",
    "    RandRotate90d(keys=[\"image\", \"label\"], prob=0.5, spatial_axes=[1, 2]),\n",
    "    RandFlipd(keys=[\"image\", \"label\"], prob=0.5, spatial_axis=0),\n",
    "    RandFlipd(keys=[\"image\", \"label\"], prob=0.5, spatial_axis=1),\n",
    "    RandFlipd(keys=[\"image\", \"label\"], prob=0.5, spatial_axis=2),\n",
    "])"
   ]
  },
  {
   "cell_type": "code",
   "execution_count": 4,
   "metadata": {},
   "outputs": [
    {
     "name": "stderr",
     "output_type": "stream",
     "text": [
      "Loading dataset: 100%|██████████| 24/24 [00:39<00:00,  1.63s/it]\n",
      "Loading dataset: 100%|██████████| 4/4 [00:12<00:00,  3.19s/it]\n"
     ]
    }
   ],
   "source": [
    "train_loader, val_loader = None, None\n",
    "train_loader, val_loader = create_dataloaders(\n",
    "    train_img_dir, \n",
    "    train_label_dir, \n",
    "    val_img_dir, \n",
    "    val_label_dir, \n",
    "    non_random_transforms = non_random_transforms, \n",
    "    random_transforms = random_transforms, \n",
    "    batch_size = loader_batch,\n",
    "    num_workers=0,train_num_repeat=num_repeat)"
   ]
  },
  {
   "cell_type": "markdown",
   "metadata": {},
   "source": [
    "https://monai.io/model-zoo.html"
   ]
  },
  {
   "cell_type": "code",
   "execution_count": 5,
   "metadata": {},
   "outputs": [
    {
     "name": "stderr",
     "output_type": "stream",
     "text": [
      "<>:8: SyntaxWarning: invalid escape sequence '\\l'\n",
      "<>:8: SyntaxWarning: invalid escape sequence '\\l'\n",
      "C:\\Users\\Seungwoo\\AppData\\Local\\Temp\\ipykernel_38320\\3816069460.py:8: SyntaxWarning: invalid escape sequence '\\l'\n",
      "  \"\"\"\n"
     ]
    }
   ],
   "source": [
    "import torch\n",
    "import torch.nn as nn\n",
    "import torch.nn.functional as F\n",
    "\n",
    "from monai.losses import TverskyLoss, LogHausdorffDTLoss\n",
    "\n",
    "class AdaptiveCombinedLoss(nn.Module):\n",
    "    \"\"\"\n",
    "    요구사항:\n",
    "    1) Warm-up 단계 (0 ~ warmup_epochs):\n",
    "       - CE 위주로 학습(예: CE=1.0), Tversky/HD는 작게(예: 0.1)\n",
    "    2) Warm-up 종료 시점:\n",
    "       - 해당 시점 손실값 참고해 Kendall(\\log\\sigma) 초기값/가중치 보정\n",
    "    3) Kendall(2018) 식:\n",
    "       - (1/(2σ_i^2))*L_i + log(σ_i^2)\n",
    "       - Tversky/HD는 더 강조(상수 w_i를 크게) + CE 최소 한도 유지\n",
    "    4) Warm-up 이후 스케줄링:\n",
    "       - CE 점진 감소(1.0→0.3), Tversky/HD 점진 증가(0.1→1.0)\n",
    "       - 필요시 Tversky/HD를 추가로 boost\n",
    "    \"\"\"\n",
    "\n",
    "    def __init__(\n",
    "        self,\n",
    "        # 1) Warm-up & 스케줄\n",
    "        warmup_epochs: int = 5,\n",
    "        schedule_epochs: int = 10,\n",
    "\n",
    "        # 2) Warm-up 시 고정 가중치\n",
    "        warmup_ce=1.0,\n",
    "        warmup_tv=0.1,\n",
    "        warmup_hd=0.1,\n",
    "\n",
    "        # 3) 스케줄에서의 최종 가중치\n",
    "        ce_end=0.3,\n",
    "        tv_end=1.0,\n",
    "        hd_end=1.0,\n",
    "\n",
    "        # 4) Tversky/HD를 추가로 더 키우고 싶다면 boost 사용\n",
    "        #    (예: 2.0이면 TV/HD가 2배 더 강조)\n",
    "        tv_boost=1.2,\n",
    "        hd_boost=1.2,\n",
    "\n",
    "        # MONAI Loss 설정\n",
    "        include_background=True,\n",
    "        reduction=\"mean\",\n",
    "        softmax=True,\n",
    "\n",
    "        # Tversky 파라미터\n",
    "        tversky_alpha=0.52,\n",
    "        tversky_beta=None,  # None이면 1 - alpha\n",
    "        tversky_smooth=1e-5,\n",
    "\n",
    "        # Kendall(2018) 식 사용 여부\n",
    "        use_uncertainty=True,\n",
    "    ):\n",
    "        super().__init__()\n",
    "        self.warmup_epochs = warmup_epochs\n",
    "        self.schedule_epochs = schedule_epochs\n",
    "\n",
    "        # Warm-up 고정 가중치\n",
    "        self.warmup_ce = warmup_ce\n",
    "        self.warmup_tv = warmup_tv\n",
    "        self.warmup_hd = warmup_hd\n",
    "\n",
    "        # Warm-up 이후 스케줄 start/end\n",
    "        self.ce_start, self.ce_end = warmup_ce, ce_end\n",
    "        self.tv_start, self.tv_end = warmup_tv, tv_end\n",
    "        self.hd_start, self.hd_end = warmup_hd, hd_end\n",
    "\n",
    "        # Tversky/HD 추가 배율(강조)\n",
    "        self.tv_boost = tv_boost\n",
    "        self.hd_boost = hd_boost\n",
    "\n",
    "        self.use_uncertainty = use_uncertainty\n",
    "\n",
    "        if tversky_beta is None:\n",
    "            tversky_beta = 1.0 - tversky_alpha\n",
    "\n",
    "        # 배경 채널 무시 설정\n",
    "        if not include_background:\n",
    "            ignore_index = 0\n",
    "        else:\n",
    "            ignore_index = -100\n",
    "\n",
    "        # (1) 개별 손실 정의\n",
    "        self.ce_loss = nn.CrossEntropyLoss()\n",
    "        self.tversky_loss = TverskyLoss(\n",
    "            alpha=tversky_alpha,\n",
    "            beta=tversky_beta,\n",
    "            smooth_nr=tversky_smooth,\n",
    "            smooth_dr=tversky_smooth,\n",
    "            softmax=softmax,\n",
    "            reduction=reduction,\n",
    "            include_background=include_background\n",
    "        )\n",
    "        self.haus_loss = LogHausdorffDTLoss(\n",
    "            softmax=softmax,\n",
    "            reduction=reduction,\n",
    "            include_background=include_background\n",
    "        )\n",
    "\n",
    "        # (2) Kendall을 위한 log_sigma 파라미터\n",
    "        if self.use_uncertainty:\n",
    "            self.log_sigma_ce   = nn.Parameter(torch.zeros(1))\n",
    "            self.log_sigma_tv   = nn.Parameter(torch.zeros(1))\n",
    "            self.log_sigma_haus = nn.Parameter(torch.zeros(1))\n",
    "\n",
    "        # (3) 현재 epoch, warm-up 손실 기록\n",
    "        self.current_epoch = 0\n",
    "        self.last_warmup_ce   = 0.0\n",
    "        self.last_warmup_tv   = 0.0\n",
    "        self.last_warmup_haus = 0.0\n",
    "\n",
    "    def set_epoch(self, epoch: int):\n",
    "        \"\"\"학습 루프에서 매 epoch마다 호출하여 현재 epoch 갱신.\"\"\"\n",
    "        self.current_epoch = epoch\n",
    "\n",
    "    def record_warmup_losses(self, ce_val, tv_val, hd_val):\n",
    "        \"\"\"\n",
    "        Warm-up 단계 손실값을 기록 -> 이후 log_sigma 초기값 조정 등 활용 가능\n",
    "        \"\"\"\n",
    "        self.last_warmup_ce   = ce_val\n",
    "        self.last_warmup_tv   = tv_val\n",
    "        self.last_warmup_haus = hd_val\n",
    "\n",
    "    def end_of_warmup_init(self):\n",
    "        \"\"\"\n",
    "        Warm-up → Kendall 전환 시점에서,\n",
    "        warm-up 손실값 등을 참고해 log_sigma 등 초기 설정\n",
    "        \"\"\"\n",
    "        if self.use_uncertainty:\n",
    "            with torch.no_grad():\n",
    "                # 예시: warm-up에서 CE가 안정적, TV/HD가 크면\n",
    "                # TV/HD 강조 위해 log_sigma를 음수로 조정\n",
    "                self.log_sigma_ce[0]   = 0.0   # CE\n",
    "                self.log_sigma_tv[0]   = -0.5  # TV\n",
    "                self.log_sigma_haus[0] = -0.5  # HD\n",
    "\n",
    "    def forward(self, preds, targets):\n",
    "        \"\"\"\n",
    "        preds: (B, C, D, H, W) - logit\n",
    "        targets: (B, D, H, W) - 정수 라벨\n",
    "        \"\"\"\n",
    "        # 1) 개별 손실 계산\n",
    "        loss_ce   = self.ce_loss(preds, targets)\n",
    "        loss_tv   = self.tversky_loss(preds, targets)\n",
    "        loss_haus = self.haus_loss(preds, targets)\n",
    "\n",
    "        # 2) Warm-up 단계\n",
    "        if self.current_epoch < self.warmup_epochs:\n",
    "            total_loss = (\n",
    "                self.warmup_ce * loss_ce\n",
    "                + self.warmup_tv * loss_tv\n",
    "                + self.warmup_hd * loss_haus\n",
    "            )\n",
    "        else:\n",
    "            # Warm-up 이후 → Kendall + 스케줄\n",
    "            # (a) ratio 계산\n",
    "            progress = self.current_epoch - self.warmup_epochs\n",
    "            ratio = float(progress) / float(self.schedule_epochs)\n",
    "            ratio = max(0.0, min(1.0, ratio))  # 0 ~ 1\n",
    "\n",
    "            # (b) CE, TV, HAUS 선형 보간 가중치\n",
    "            w_ce   = self.ce_start + (self.ce_end - self.ce_start)*ratio\n",
    "            w_tv   = self.tv_start + (self.tv_end - self.tv_start)*ratio\n",
    "            w_haus = self.hd_start + (self.hd_end - self.hd_start)*ratio\n",
    "\n",
    "            \n",
    "\n",
    "            if self.use_uncertainty:\n",
    "                # (c) Kendall 식\n",
    "                sigma_ce   = torch.exp(self.log_sigma_ce)\n",
    "                sigma_tv   = torch.exp(self.log_sigma_tv)\n",
    "                sigma_haus = torch.exp(self.log_sigma_haus)\n",
    "\n",
    "                ce_term   = (1.0/(2.0*sigma_ce**2))   * loss_ce   + torch.log(sigma_ce**2)\n",
    "                tv_term   = (1.0/(2.0*sigma_tv**2))   * loss_tv   + torch.log(sigma_tv**2)\n",
    "                haus_term = (1.0/(2.0*sigma_haus**2)) * loss_haus + torch.log(sigma_haus**2)\n",
    "\n",
    "                tv_term   = tv_term   * self.tv_boost\n",
    "                haus_term = haus_term * self.hd_boost\n",
    "                \n",
    "                # (d) 최종 합산 (TV/HD > CE가 되도록 w_tv, w_haus를 크게)\n",
    "                total_loss = w_ce*ce_term + w_tv*tv_term + w_haus*haus_term\n",
    "            else:\n",
    "                # Kendall 미사용 시 단순 가중합\n",
    "                total_loss = w_ce*loss_ce + w_tv*loss_tv + w_haus*loss_haus\n",
    "\n",
    "        return total_loss"
   ]
  },
  {
   "cell_type": "code",
   "execution_count": 6,
   "metadata": {},
   "outputs": [
    {
     "name": "stderr",
     "output_type": "stream",
     "text": [
      "c:\\ProgramData\\anaconda3\\envs\\ship\\Lib\\site-packages\\monai\\utils\\deprecate_utils.py:221: FutureWarning: monai.networks.nets.swin_unetr SwinUNETR.__init__:img_size: Argument `img_size` has been deprecated since version 1.3. It will be removed in version 1.5. The img_size argument is not required anymore and checks on the input size are run during forward().\n",
      "  warn_deprecated(argname, msg, warning_category)\n"
     ]
    },
    {
     "name": "stdout",
     "output_type": "stream",
     "text": [
      "기존 best model 발견: model_checkpoints\\SwinUNETRv2_CETVHF_weighted_f48s96lr1e-03_T-a0.52b0.48Wc8.0_Wt0.1Wh0.1_We5_Se10_tvb1.20_hb1.20_b1_r60\\best_model.pt\n"
     ]
    },
    {
     "name": "stderr",
     "output_type": "stream",
     "text": [
      "C:\\Users\\Seungwoo\\AppData\\Local\\Temp\\ipykernel_38320\\1934337249.py:72: FutureWarning: You are using `torch.load` with `weights_only=False` (the current default value), which uses the default pickle module implicitly. It is possible to construct malicious pickle data which will execute arbitrary code during unpickling (See https://github.com/pytorch/pytorch/blob/main/SECURITY.md#untrusted-models for more details). In a future release, the default value for `weights_only` will be flipped to `True`. This limits the functions that could be executed during unpickling. Arbitrary objects will no longer be allowed to be loaded via this mode unless they are explicitly allowlisted by the user via `torch.serialization.add_safe_globals`. We recommend you start setting `weights_only=True` for any use case where you don't have full control of the loaded file. Please open an issue on GitHub for any issues related to this experimental feature.\n",
      "  checkpoint = torch.load(best_model_path, map_location=device)\n"
     ]
    },
    {
     "name": "stdout",
     "output_type": "stream",
     "text": [
      "기존 학습된 가중치를 성공적으로 로드했습니다.\n"
     ]
    }
   ],
   "source": [
    "import torch.optim as optim\n",
    "from tqdm import tqdm\n",
    "import numpy as np\n",
    "import torch\n",
    "from pathlib import Path\n",
    "from monai.metrics import DiceMetric\n",
    "\n",
    "device = torch.device(\"cuda\" if torch.cuda.is_available() else \"cpu\")\n",
    "\n",
    "model = SwinCSPUNETR(\n",
    "    img_size=(img_depth, img_size, img_size),\n",
    "    in_channels=1,\n",
    "    out_channels=n_classes,\n",
    "    feature_size=feature_size,\n",
    "    use_checkpoint=True,\n",
    "    drop_rate = drop_rate,\n",
    "    attn_drop_rate = attn_drop_rate,\n",
    "    use_v2 = use_v2,\n",
    "    n=num_bottleneck\n",
    ").to(device)\n",
    "# Pretrained weights 불러오기\n",
    "# if use_checkpoint:\n",
    "#     pretrain_path = \"./swin_unetr_btcv_segmentation/models/model.pt\"\n",
    "#     weight = torch.load(pretrain_path, map_location=device)\n",
    "\n",
    "#     # 출력 레이어의 키를 제외한 나머지 가중치만 로드\n",
    "#     filtered_weights = {k: v for k, v in weight.items() if \"out.conv.conv\" not in k}\n",
    "\n",
    "#     # strict=False로 로드하여 불일치하는 부분 무시\n",
    "#     model.load_state_dict(filtered_weights, strict=False)\n",
    "#     print(\"Filtered weights loaded successfully. Output layer will be trained from scratch.\")\n",
    "\n",
    "\n",
    "# Loss function\n",
    "criterion = AdaptiveCombinedLoss(\n",
    "    warmup_epochs=warmup_epochs,\n",
    "    schedule_epochs=schedule_epochs,\n",
    "    warmup_ce=warmup_ce,\n",
    "    warmup_tv=warmup_tv,\n",
    "    warmup_hd=warmup_hd,\n",
    "    ce_end=ce_end,\n",
    "    tv_end=tv_end,\n",
    "    hd_end=hd_end,\n",
    "    include_background=include_background,\n",
    "    reduction=reduction,\n",
    "    tversky_alpha=tversky_alpha,\n",
    "    tversky_beta=tversky_beta,\n",
    "    tversky_smooth=tversky_smooth,\n",
    "    tv_boost=tv_boost,\n",
    "    hd_boost=hd_boost,\n",
    ")\n",
    "\n",
    "pretrain_str = \"yes\" if use_checkpoint else \"no\"\n",
    "weight_str = \"weighted\" if class_weights is not None else \"\"\n",
    "if tv_boost == hd_boost == 1.0:\n",
    "    boost_str = f\"b{tv_boost:.2f}\"\n",
    "else:\n",
    "    boost_str = f\"tvb{tv_boost:.2f}_hb{hd_boost:.2f}\"\n",
    "# 체크포인트 디렉토리 및 파일 설정\n",
    "checkpoint_base_dir = Path(\"./model_checkpoints\")\n",
    "folder_name = f\"SwinCSPUNETr_CETVHF_{weight_str}_f{feature_size}s{img_size}_numb{num_bottleneck}_lr{lr:.0e}_T-a{tversky_alpha:.2f}b{tversky_beta:.2f}Wc{warmup_ce}_Wt{warmup_tv}Wh{warmup_hd}_We{warmup_epochs}_Se{schedule_epochs}_{boost_str}_b{batch_size}_r{num_repeat}\"\n",
    "checkpoint_dir = checkpoint_base_dir / folder_name\n",
    "optimizer = optim.AdamW(list(model.parameters()) + list(criterion.parameters()), lr=lr, weight_decay=1e-5)\n",
    "scheduler = torch.optim.lr_scheduler.ReduceLROnPlateau(optimizer, patience=5, factor=0.5)\n",
    "# 체크포인트 디렉토리 생성\n",
    "checkpoint_dir.mkdir(parents=True, exist_ok=True)\n",
    "\n",
    "if checkpoint_dir.exists():\n",
    "    best_model_path = checkpoint_dir / 'best_model.pt'\n",
    "    if best_model_path.exists():\n",
    "        print(f\"기존 best model 발견: {best_model_path}\")\n",
    "        try:\n",
    "            checkpoint = torch.load(best_model_path, map_location=device)\n",
    "            # 체크포인트 내부 키 검증\n",
    "            required_keys = ['model_state_dict', 'optimizer_state_dict', 'epoch', 'best_val_loss']\n",
    "            if all(k in checkpoint for k in required_keys):\n",
    "                model.load_state_dict(checkpoint['model_state_dict'])\n",
    "                optimizer.load_state_dict(checkpoint['optimizer_state_dict'])\n",
    "                start_epoch = checkpoint['epoch']\n",
    "                best_val_loss = checkpoint['best_val_loss']\n",
    "                print(\"기존 학습된 가중치를 성공적으로 로드했습니다.\")\n",
    "                checkpoint= None\n",
    "            else:\n",
    "                raise ValueError(\"체크포인트 파일에 필요한 key가 없습니다.\")\n",
    "        except Exception as e:\n",
    "            print(f\"체크포인트 파일을 로드하는 중 오류 발생: {e}\")"
   ]
  },
  {
   "cell_type": "code",
   "execution_count": 7,
   "metadata": {},
   "outputs": [
    {
     "name": "stdout",
     "output_type": "stream",
     "text": [
      "torch.Size([1, 1, 96, 96, 96]) torch.Size([1, 1, 96, 96, 96])\n"
     ]
    }
   ],
   "source": [
    "batch = next(iter(val_loader))\n",
    "images, labels = batch[\"image\"], batch[\"label\"]\n",
    "print(images.shape, labels.shape)"
   ]
  },
  {
   "cell_type": "code",
   "execution_count": 8,
   "metadata": {},
   "outputs": [],
   "source": [
    "torch.backends.cudnn.benchmark = True"
   ]
  },
  {
   "cell_type": "code",
   "execution_count": 9,
   "metadata": {},
   "outputs": [
    {
     "name": "stderr",
     "output_type": "stream",
     "text": [
      "\u001b[34m\u001b[1mwandb\u001b[0m: Using wandb-core as the SDK backend. Please refer to https://wandb.me/wandb-core for more information.\n",
      "\u001b[34m\u001b[1mwandb\u001b[0m: Currently logged in as: \u001b[33mwoow070840\u001b[0m (\u001b[33mwaooang\u001b[0m). Use \u001b[1m`wandb login --relogin`\u001b[0m to force relogin\n"
     ]
    },
    {
     "data": {
      "text/html": [
       "Tracking run with wandb version 0.18.3"
      ],
      "text/plain": [
       "<IPython.core.display.HTML object>"
      ]
     },
     "metadata": {},
     "output_type": "display_data"
    },
    {
     "data": {
      "text/html": [
       "Run data is saved locally in <code>e:\\Workspace\\czll\\wandb\\run-20250102_022621-r5caidqr</code>"
      ],
      "text/plain": [
       "<IPython.core.display.HTML object>"
      ]
     },
     "metadata": {},
     "output_type": "display_data"
    },
    {
     "data": {
      "text/html": [
       "Syncing run <strong><a href='https://wandb.ai/waooang/czii_SwinUnetR/runs/r5caidqr' target=\"_blank\">SwinUNETRv2_CETVHF_weighted_f48s96lr1e-03_T-a0.52b0.48Wc8.0_Wt0.1Wh0.1_We5_Se10_tvb1.20_hb1.20_b1_r60</a></strong> to <a href='https://wandb.ai/waooang/czii_SwinUnetR' target=\"_blank\">Weights & Biases</a> (<a href='https://wandb.me/run' target=\"_blank\">docs</a>)<br/>"
      ],
      "text/plain": [
       "<IPython.core.display.HTML object>"
      ]
     },
     "metadata": {},
     "output_type": "display_data"
    },
    {
     "data": {
      "text/html": [
       " View project at <a href='https://wandb.ai/waooang/czii_SwinUnetR' target=\"_blank\">https://wandb.ai/waooang/czii_SwinUnetR</a>"
      ],
      "text/plain": [
       "<IPython.core.display.HTML object>"
      ]
     },
     "metadata": {},
     "output_type": "display_data"
    },
    {
     "data": {
      "text/html": [
       " View run at <a href='https://wandb.ai/waooang/czii_SwinUnetR/runs/r5caidqr' target=\"_blank\">https://wandb.ai/waooang/czii_SwinUnetR/runs/r5caidqr</a>"
      ],
      "text/plain": [
       "<IPython.core.display.HTML object>"
      ]
     },
     "metadata": {},
     "output_type": "display_data"
    },
    {
     "data": {
      "text/plain": [
       "[]"
      ]
     },
     "execution_count": 9,
     "metadata": {},
     "output_type": "execute_result"
    }
   ],
   "source": [
    "import wandb\n",
    "from datetime import datetime\n",
    "\n",
    "current_time = datetime.now().strftime('%Y%m%d_%H%M%S')\n",
    "run_name = folder_name\n",
    "\n",
    "# wandb 초기화\n",
    "wandb.init(\n",
    "    project='czii_SwinUnetR',  # 프로젝트 이름 설정\n",
    "    name=run_name,         # 실행(run) 이름 설정\n",
    "    config={\n",
    "        'num_epochs': num_epochs,\n",
    "        'learning_rate': lr,\n",
    "        'batch_size': batch_size,\n",
    "        'lambda': tversky_alpha,\n",
    "        \"cross_entropy_weight\": warmup_ce,\n",
    "        \"tversky_weight\": warmup_tv,\n",
    "        \"hausdorff_weight\": warmup_hd,\n",
    "        \"cross_entropy_weight_end\": ce_end,\n",
    "        \"tversky_weight_end\": tv_end,\n",
    "        \"hausdorff_weight_end\": hd_end,\n",
    "        \"tversky_weight_boost\": tv_boost,\n",
    "        \"hausdorff_weight_boost\": hd_boost,\n",
    "        \"include_background\": include_background,\n",
    "        \"wramup_epochs\": warmup_epochs,\n",
    "        \"schedule_epochs\": schedule_epochs,\n",
    "        \"include_background\": include_background,\n",
    "        \"reduction\": reduction,\n",
    "        'feature_size': feature_size,\n",
    "        'img_size': img_size,\n",
    "        'sampling_ratio': ratios_list,\n",
    "        'device': device.type,\n",
    "        \"checkpoint_dir\": str(folder_name),\n",
    "        \"class_weights\": class_weights.tolist() if class_weights is not None else None,\n",
    "        \"use_checkpoint\": use_checkpoint,\n",
    "        \"drop_rate\": drop_rate,\n",
    "        \"attn_drop_rate\": attn_drop_rate,\n",
    "        \"use_v2\": use_v2,\n",
    "        \"accumulation_steps\": accumulation_steps,\n",
    "        \"num_repeat\": num_repeat,\n",
    "        \n",
    "        # 필요한 하이퍼파라미터 추가\n",
    "    }\n",
    ")\n",
    "# 모델을 wandb에 연결\n",
    "wandb.watch(model, log='all')"
   ]
  },
  {
   "cell_type": "markdown",
   "metadata": {},
   "source": [
    "# 학습"
   ]
  },
  {
   "cell_type": "code",
   "execution_count": 10,
   "metadata": {},
   "outputs": [],
   "source": [
    "from monai.metrics import DiceMetric\n",
    "    \n",
    "def processing(batch_data, model, criterion, device):\n",
    "    images = batch_data['image'].to(device)  # Input 이미지 (B, 1, 96, 96, 96)\n",
    "    labels = batch_data['label'].to(device)  # 라벨 (B, 96, 96, 96)\n",
    "\n",
    "    labels = labels.squeeze(1)  # (B, 1, 96, 96, 96) → (B, 96, 96, 96)\n",
    "    labels = labels.long()  # 라벨을 정수형으로 변환\n",
    "\n",
    "    # 원핫 인코딩 (B, H, W, D) → (B, num_classes, H, W, D)\n",
    "    \n",
    "    labels_onehot = torch.nn.functional.one_hot(labels, num_classes=n_classes)\n",
    "    labels_onehot = labels_onehot.permute(0, 4, 1, 2, 3).float()  # (B, num_classes, H, W, D)\n",
    "\n",
    "    # 모델 예측\n",
    "    outputs = model(images)  # outputs: (B, num_classes, H, W, D)\n",
    "\n",
    "    # Loss 계산\n",
    "    # loss = criterion(outputs, labels_onehot)\n",
    "    loss = criterion(outputs, labels_onehot)\n",
    "    return loss, outputs, labels, outputs.argmax(dim=1)\n",
    "\n",
    "def train_one_epoch(model, train_loader, criterion, optimizer, device, epoch, accumulation_steps=4):\n",
    "    model.train()\n",
    "    epoch_loss = 0\n",
    "    optimizer.zero_grad()  # 그래디언트 초기화\n",
    "    with tqdm(train_loader, desc='Training') as pbar:\n",
    "        for i, batch_data in enumerate(pbar):\n",
    "            # 손실 계산\n",
    "            loss, _, _, _ = processing(batch_data, model, criterion, device)\n",
    "\n",
    "            # 그래디언트를 계산하고 누적\n",
    "            loss = loss / accumulation_steps  # 그래디언트 누적을 위한 스케일링\n",
    "            loss.backward()  # 그래디언트 계산 및 누적\n",
    "            \n",
    "            # 그래디언트 업데이트 (accumulation_steps마다 한 번)\n",
    "            if (i + 1) % accumulation_steps == 0 or (i + 1) == len(train_loader):\n",
    "                optimizer.step()  # 파라미터 업데이트\n",
    "                optimizer.zero_grad()  # 누적된 그래디언트 초기화\n",
    "            \n",
    "            # 손실값 누적 (스케일링 복구)\n",
    "            epoch_loss += loss.item() * accumulation_steps  # 실제 손실값 반영\n",
    "            pbar.set_postfix(loss=loss.item() * accumulation_steps)  # 실제 손실값 출력\n",
    "    avg_loss = epoch_loss / len(train_loader)\n",
    "    wandb.log({'train_epoch_loss': avg_loss, 'epoch': epoch + 1})\n",
    "    return avg_loss\n",
    "\n",
    "\n",
    "def validate_one_epoch(model, val_loader, criterion, device, epoch, calculate_dice_interval):\n",
    "    model.eval()\n",
    "    val_loss = 0\n",
    "    \n",
    "    class_dice_scores = {i: [] for i in range(n_classes)}\n",
    "    class_f_beta_scores = {i: [] for i in range(n_classes)}\n",
    "    with torch.no_grad():\n",
    "        with tqdm(val_loader, desc='Validation') as pbar:\n",
    "            for batch_data in pbar:\n",
    "                loss, _, labels, preds = processing(batch_data, model, criterion, device)\n",
    "                val_loss += loss.item()\n",
    "                pbar.set_postfix(loss=loss.item())\n",
    "\n",
    "                # 각 클래스별 Dice 점수 계산\n",
    "                if epoch % calculate_dice_interval == 0:\n",
    "                    for i in range(n_classes):\n",
    "                        pred_i = (preds == i)\n",
    "                        label_i = (labels == i)\n",
    "                        dice_score = (2.0 * torch.sum(pred_i & label_i)) / (torch.sum(pred_i) + torch.sum(label_i) + 1e-8)\n",
    "                        class_dice_scores[i].append(dice_score.item())\n",
    "                        precision = (torch.sum(pred_i & label_i) + 1e-8) / (torch.sum(pred_i) + 1e-8)\n",
    "                        recall = (torch.sum(pred_i & label_i) + 1e-8) / (torch.sum(label_i) + 1e-8)\n",
    "                        f_beta_score = (1 + 4**2) * (precision * recall) / (4**2 * precision + recall + 1e-8)\n",
    "                        class_f_beta_scores[i].append(f_beta_score.item())\n",
    "\n",
    "    avg_loss = val_loss / len(val_loader)\n",
    "    # 에포크별 평균 손실 로깅\n",
    "    wandb.log({'val_epoch_loss': avg_loss, 'epoch': epoch + 1})\n",
    "    \n",
    "    # 각 클래스별 평균 Dice 점수 출력\n",
    "    if epoch % calculate_dice_interval == 0:\n",
    "        print(\"Validation Dice Score\")\n",
    "        all_classes_dice_scores = []\n",
    "        for i in range(n_classes):\n",
    "            mean_dice = np.mean(class_dice_scores[i])\n",
    "            wandb.log({f'class_{i}_dice_score': mean_dice, 'epoch': epoch + 1})\n",
    "            print(f\"Class {i}: {mean_dice:.4f}\", end=\", \")\n",
    "            if i not in [0, 2]:  # 평균에 포함할 클래스만 추가\n",
    "                all_classes_dice_scores.append(mean_dice)\n",
    "            \n",
    "        print()\n",
    "    if epoch % calculate_dice_interval == 0:\n",
    "        print(\"Validation F-beta Score\")\n",
    "        all_classes_fbeta_scores = []\n",
    "        for i in range(n_classes):\n",
    "            mean_fbeta = np.mean(class_f_beta_scores[i])\n",
    "            wandb.log({f'class_{i}_f_beta_score': mean_fbeta, 'epoch': epoch + 1})\n",
    "            print(f\"Class {i}: {mean_fbeta:.4f}\", end=\", \")\n",
    "            if i not in [0, 2]:  # 평균에 포함할 클래스만 추가\n",
    "                all_classes_fbeta_scores.append(mean_fbeta)\n",
    "        print()\n",
    "        overall_mean_dice = np.mean(all_classes_dice_scores)\n",
    "        overall_mean_fbeta = np.mean(all_classes_fbeta_scores)\n",
    "        wandb.log({'overall_mean_f_beta_score': overall_mean_fbeta, 'overall_mean_dice_score': overall_mean_dice, 'epoch': epoch + 1})\n",
    "        print(f\"\\nOverall Mean Dice Score: {overall_mean_dice:.4f}\\nOverall Mean F-beta Score: {overall_mean_fbeta:.4f}\\n\")\n",
    "\n",
    "    if overall_mean_fbeta is None:\n",
    "        overall_mean_fbeta = 0\n",
    "\n",
    "    return val_loss / len(val_loader), overall_mean_fbeta\n",
    "\n",
    "def train_model(\n",
    "    model, train_loader, val_loader, criterion, optimizer, num_epochs, patience, \n",
    "    device, start_epoch, best_val_loss, best_val_fbeta_score, calculate_dice_interval=1,\n",
    "    accumulation_steps=4\n",
    "):\n",
    "    \"\"\"\n",
    "    모델을 학습하고 검증하는 함수\n",
    "    Args:\n",
    "        model: 학습할 모델\n",
    "        train_loader: 학습 데이터 로더\n",
    "        val_loader: 검증 데이터 로더\n",
    "        criterion: 손실 함수\n",
    "        optimizer: 최적화 알고리즘\n",
    "        num_epochs: 총 학습 epoch 수\n",
    "        patience: early stopping 기준\n",
    "        device: GPU/CPU 장치\n",
    "        start_epoch: 시작 epoch\n",
    "        best_val_loss: 이전 최적 validation loss\n",
    "        best_val_fbeta_score: 이전 최적 validation f-beta score\n",
    "        calculate_dice_interval: Dice 점수 계산 주기\n",
    "    \"\"\"\n",
    "    epochs_no_improve = 0\n",
    "\n",
    "    for epoch in range(start_epoch, num_epochs):\n",
    "        print(f\"Epoch {epoch + 1}/{num_epochs}\")\n",
    "\n",
    "        # Train One Epoch\n",
    "        train_loss = train_one_epoch(\n",
    "            model=model, \n",
    "            train_loader=train_loader, \n",
    "            criterion=criterion, \n",
    "            optimizer=optimizer, \n",
    "            device=device,\n",
    "            epoch=epoch,\n",
    "            accumulation_steps= accumulation_steps\n",
    "        )\n",
    "        \n",
    "        scheduler.step(train_loss)\n",
    "        # Validate One Epoch\n",
    "        val_loss, overall_mean_fbeta_score = validate_one_epoch(\n",
    "            model=model, \n",
    "            val_loader=val_loader, \n",
    "            criterion=criterion, \n",
    "            device=device, \n",
    "            epoch=epoch, \n",
    "            calculate_dice_interval=calculate_dice_interval\n",
    "        )\n",
    "\n",
    "        \n",
    "        print(f\"Training Loss: {train_loss:.4f}, Validation Loss: {val_loss:.4f}, Validation F-beta: {overall_mean_fbeta_score:.4f}\")\n",
    "\n",
    "        if val_loss < best_val_loss and overall_mean_fbeta_score > best_val_fbeta_score:\n",
    "            best_val_loss = val_loss\n",
    "            best_val_fbeta_score = overall_mean_fbeta_score\n",
    "            epochs_no_improve = 0\n",
    "            checkpoint_path = os.path.join(checkpoint_dir, 'best_model.pt')\n",
    "            torch.save({\n",
    "                'epoch': epoch + 1,\n",
    "                'model_state_dict': model.state_dict(),\n",
    "                'optimizer_state_dict': optimizer.state_dict(),\n",
    "                'best_val_loss': best_val_loss,\n",
    "                'best_val_fbeta_score': best_val_fbeta_score\n",
    "            }, checkpoint_path)\n",
    "            print(f\"========================================================\")\n",
    "            print(f\"SUPER Best model saved. Loss:{best_val_loss:.4f}, Score:{best_val_fbeta_score:.4f}\")\n",
    "            print(f\"========================================================\")\n",
    "\n",
    "        # Early stopping 조건 체크\n",
    "        if val_loss >= best_val_loss and overall_mean_fbeta_score <= best_val_fbeta_score:\n",
    "            epochs_no_improve += 1\n",
    "        else:\n",
    "            epochs_no_improve = 0\n",
    "\n",
    "        if epochs_no_improve >= patience:\n",
    "            print(\"Early stopping\")\n",
    "            checkpoint_path = os.path.join(checkpoint_dir, 'last.pt')\n",
    "            torch.save({\n",
    "                'epoch': epoch + 1,\n",
    "                'model_state_dict': model.state_dict(),\n",
    "                'optimizer_state_dict': optimizer.state_dict(),\n",
    "                'best_val_loss': best_val_loss,\n",
    "                'best_val_fbeta_score': best_val_fbeta_score\n",
    "            }, checkpoint_path)\n",
    "            break\n",
    "        # if epochs_no_improve%6 == 0:\n",
    "        #     # 손실이 개선되지 않았으므로 lambda 감소\n",
    "        #     new_lamda = max(criterion.lamda - 0.01, 0.1)  # 최소값은 0.1로 설정\n",
    "        #     criterion.set_lamda(new_lamda)\n",
    "        #     print(f\"Validation loss did not improve. Reducing lambda to {new_lamda:.4f}\")\n",
    "\n",
    "    wandb.finish()\n"
   ]
  },
  {
   "cell_type": "code",
   "execution_count": null,
   "metadata": {},
   "outputs": [
    {
     "name": "stdout",
     "output_type": "stream",
     "text": [
      "Epoch 10/4000\n"
     ]
    },
    {
     "name": "stderr",
     "output_type": "stream",
     "text": [
      "Training:   0%|          | 0/1440 [00:00<?, ?it/s]c:\\ProgramData\\anaconda3\\envs\\ship\\Lib\\site-packages\\torch\\utils\\checkpoint.py:1399: FutureWarning: `torch.cpu.amp.autocast(args...)` is deprecated. Please use `torch.amp.autocast('cpu', args...)` instead.\n",
      "  with device_autocast_ctx, torch.cpu.amp.autocast(**cpu_autocast_kwargs), recompute_context:  # type: ignore[attr-defined]\n",
      "Training: 100%|██████████| 1440/1440 [33:12<00:00,  1.38s/it, loss=0.176]\n",
      "Validation: 100%|██████████| 12/12 [00:13<00:00,  1.15s/it, loss=0.612]\n"
     ]
    },
    {
     "name": "stdout",
     "output_type": "stream",
     "text": [
      "Validation Dice Score\n",
      "Class 0: 0.9907, Class 1: 0.1387, Class 2: 0.0000, Class 3: 0.1614, Class 4: 0.4665, Class 5: 0.0742, Class 6: 0.4390, \n",
      "Validation F-beta Score\n",
      "Class 0: 0.9961, Class 1: 0.5946, Class 2: 0.6667, Class 3: 0.2980, Class 4: 0.6693, Class 5: 0.2949, Class 6: 0.7588, \n",
      "\n",
      "Overall Mean Dice Score: 0.2560\n",
      "Overall Mean F-beta Score: 0.5231\n",
      "\n",
      "Training Loss: 0.4414, Validation Loss: 0.5655, Validation F-beta: 0.5231\n",
      "Epoch 11/4000\n"
     ]
    },
    {
     "name": "stderr",
     "output_type": "stream",
     "text": [
      "Training: 100%|██████████| 1440/1440 [32:53<00:00,  1.37s/it, loss=0.347]\n",
      "Validation: 100%|██████████| 12/12 [00:14<00:00,  1.17s/it, loss=0.334]\n"
     ]
    },
    {
     "name": "stdout",
     "output_type": "stream",
     "text": [
      "Validation Dice Score\n",
      "Class 0: 0.9928, Class 1: 0.3084, Class 2: 0.0000, Class 3: 0.0837, Class 4: 0.2690, Class 5: 0.2669, Class 6: 0.4392, \n",
      "Validation F-beta Score\n",
      "Class 0: 0.9952, Class 1: 0.6951, Class 2: 0.4167, Class 3: 0.3204, Class 4: 0.5958, Class 5: 0.2005, Class 6: 0.7211, \n",
      "\n",
      "Overall Mean Dice Score: 0.2735\n",
      "Overall Mean F-beta Score: 0.5066\n",
      "\n",
      "Training Loss: 0.4411, Validation Loss: 0.5067, Validation F-beta: 0.5066\n",
      "Epoch 12/4000\n"
     ]
    },
    {
     "name": "stderr",
     "output_type": "stream",
     "text": [
      "Training: 100%|██████████| 1440/1440 [32:37<00:00,  1.36s/it, loss=0.685]\n",
      "Validation: 100%|██████████| 12/12 [00:13<00:00,  1.12s/it, loss=1.54] \n"
     ]
    },
    {
     "name": "stdout",
     "output_type": "stream",
     "text": [
      "Validation Dice Score\n",
      "Class 0: 0.9917, Class 1: 0.4277, Class 2: 0.0010, Class 3: 0.0412, Class 4: 0.4708, Class 5: 0.1146, Class 6: 0.3016, \n",
      "Validation F-beta Score\n",
      "Class 0: 0.9974, Class 1: 0.5603, Class 2: 0.4172, Class 3: 0.2819, Class 4: 0.6563, Class 5: 0.3441, Class 6: 0.7274, \n",
      "\n",
      "Overall Mean Dice Score: 0.2712\n",
      "Overall Mean F-beta Score: 0.5140\n",
      "\n",
      "Training Loss: 0.4237, Validation Loss: 0.5509, Validation F-beta: 0.5140\n",
      "Epoch 13/4000\n"
     ]
    },
    {
     "name": "stderr",
     "output_type": "stream",
     "text": [
      "Training: 100%|██████████| 1440/1440 [32:52<00:00,  1.37s/it, loss=0.418]\n",
      "Validation: 100%|██████████| 12/12 [00:15<00:00,  1.26s/it, loss=0.279]\n"
     ]
    },
    {
     "name": "stdout",
     "output_type": "stream",
     "text": [
      "Validation Dice Score\n",
      "Class 0: 0.9907, Class 1: 0.4154, Class 2: 0.0000, Class 3: 0.1531, Class 4: 0.5575, Class 5: 0.1324, Class 6: 0.5161, \n",
      "Validation F-beta Score\n",
      "Class 0: 0.9958, Class 1: 0.4293, Class 2: 0.5833, Class 3: 0.4480, Class 4: 0.7721, Class 5: 0.1884, Class 6: 0.7917, \n",
      "\n",
      "Overall Mean Dice Score: 0.3549\n",
      "Overall Mean F-beta Score: 0.5259\n",
      "\n",
      "Training Loss: 0.4056, Validation Loss: 0.5895, Validation F-beta: 0.5259\n",
      "Epoch 14/4000\n"
     ]
    },
    {
     "name": "stderr",
     "output_type": "stream",
     "text": [
      "Training: 100%|██████████| 1440/1440 [32:51<00:00,  1.37s/it, loss=0.183]\n",
      "Validation: 100%|██████████| 12/12 [00:13<00:00,  1.14s/it, loss=0.217]\n"
     ]
    },
    {
     "name": "stdout",
     "output_type": "stream",
     "text": [
      "Validation Dice Score\n",
      "Class 0: 0.9918, Class 1: 0.2402, Class 2: 0.0013, Class 3: 0.0509, Class 4: 0.3666, Class 5: 0.1732, Class 6: 0.2850, \n",
      "Validation F-beta Score\n",
      "Class 0: 0.9957, Class 1: 0.8131, Class 2: 0.2507, Class 3: 0.2832, Class 4: 0.5680, Class 5: 0.2280, Class 6: 0.8063, \n",
      "\n",
      "Overall Mean Dice Score: 0.2232\n",
      "Overall Mean F-beta Score: 0.5397\n",
      "\n",
      "Training Loss: 0.4034, Validation Loss: 0.4822, Validation F-beta: 0.5397\n",
      "Epoch 15/4000\n"
     ]
    },
    {
     "name": "stderr",
     "output_type": "stream",
     "text": [
      "Training: 100%|██████████| 1440/1440 [32:41<00:00,  1.36s/it, loss=0.383]\n",
      "Validation: 100%|██████████| 12/12 [00:12<00:00,  1.08s/it, loss=0.338]\n"
     ]
    },
    {
     "name": "stdout",
     "output_type": "stream",
     "text": [
      "Validation Dice Score\n",
      "Class 0: 0.9931, Class 1: 0.2834, Class 2: 0.0000, Class 3: 0.0901, Class 4: 0.4746, Class 5: 0.1342, Class 6: 0.2758, \n",
      "Validation F-beta Score\n",
      "Class 0: 0.9962, Class 1: 0.5406, Class 2: 0.2500, Class 3: 0.7403, Class 4: 0.6400, Class 5: 0.2755, Class 6: 0.8524, \n",
      "\n",
      "Overall Mean Dice Score: 0.2516\n",
      "Overall Mean F-beta Score: 0.6097\n",
      "\n",
      "Training Loss: 0.3871, Validation Loss: 0.4531, Validation F-beta: 0.6097\n",
      "========================================================\n",
      "SUPER Best model saved. Loss:0.4531, Score:0.6097\n",
      "========================================================\n",
      "Epoch 16/4000\n"
     ]
    },
    {
     "name": "stderr",
     "output_type": "stream",
     "text": [
      "Training: 100%|██████████| 1440/1440 [32:45<00:00,  1.37s/it, loss=0.259]\n",
      "Validation: 100%|██████████| 12/12 [00:13<00:00,  1.11s/it, loss=0.246]\n"
     ]
    },
    {
     "name": "stdout",
     "output_type": "stream",
     "text": [
      "Validation Dice Score\n",
      "Class 0: 0.9937, Class 1: 0.4297, Class 2: 0.0000, Class 3: 0.1436, Class 4: 0.1483, Class 5: 0.3102, Class 6: 0.3127, \n",
      "Validation F-beta Score\n",
      "Class 0: 0.9973, Class 1: 0.7098, Class 2: 0.7500, Class 3: 0.3481, Class 4: 0.4449, Class 5: 0.3522, Class 6: 0.7351, \n",
      "\n",
      "Overall Mean Dice Score: 0.2689\n",
      "Overall Mean F-beta Score: 0.5180\n",
      "\n",
      "Training Loss: 0.3930, Validation Loss: 0.4748, Validation F-beta: 0.5180\n",
      "Epoch 17/4000\n"
     ]
    },
    {
     "name": "stderr",
     "output_type": "stream",
     "text": [
      "Training: 100%|██████████| 1440/1440 [32:30<00:00,  1.35s/it, loss=0.257]\n",
      "Validation: 100%|██████████| 12/12 [00:15<00:00,  1.26s/it, loss=0.453]\n"
     ]
    },
    {
     "name": "stdout",
     "output_type": "stream",
     "text": [
      "Validation Dice Score\n",
      "Class 0: 0.9943, Class 1: 0.5171, Class 2: 0.0465, Class 3: 0.1624, Class 4: 0.1084, Class 5: 0.2678, Class 6: 0.3917, \n",
      "Validation F-beta Score\n",
      "Class 0: 0.9976, Class 1: 0.5147, Class 2: 0.6124, Class 3: 0.3934, Class 4: 0.5190, Class 5: 0.2928, Class 6: 0.6515, \n",
      "\n",
      "Overall Mean Dice Score: 0.2895\n",
      "Overall Mean F-beta Score: 0.4743\n",
      "\n",
      "Training Loss: 0.3950, Validation Loss: 0.4768, Validation F-beta: 0.4743\n",
      "Epoch 18/4000\n"
     ]
    },
    {
     "name": "stderr",
     "output_type": "stream",
     "text": [
      "Training: 100%|██████████| 1440/1440 [32:51<00:00,  1.37s/it, loss=0.373]\n",
      "Validation: 100%|██████████| 12/12 [00:14<00:00,  1.21s/it, loss=0.239]\n"
     ]
    },
    {
     "name": "stdout",
     "output_type": "stream",
     "text": [
      "Validation Dice Score\n",
      "Class 0: 0.9922, Class 1: 0.2993, Class 2: 0.0541, Class 3: 0.2667, Class 4: 0.3187, Class 5: 0.3275, Class 6: 0.6447, \n",
      "Validation F-beta Score\n",
      "Class 0: 0.9974, Class 1: 0.7697, Class 2: 0.7913, Class 3: 0.3804, Class 4: 0.6797, Class 5: 0.3562, Class 6: 0.8971, \n",
      "\n",
      "Overall Mean Dice Score: 0.3714\n",
      "Overall Mean F-beta Score: 0.6166\n",
      "\n",
      "Training Loss: 0.3773, Validation Loss: 0.4866, Validation F-beta: 0.6166\n",
      "Epoch 19/4000\n"
     ]
    },
    {
     "name": "stderr",
     "output_type": "stream",
     "text": [
      "Training: 100%|██████████| 1440/1440 [32:50<00:00,  1.37s/it, loss=0.399]\n",
      "Validation: 100%|██████████| 12/12 [00:15<00:00,  1.30s/it, loss=0.501]\n"
     ]
    },
    {
     "name": "stdout",
     "output_type": "stream",
     "text": [
      "Validation Dice Score\n",
      "Class 0: 0.9900, Class 1: 0.4144, Class 2: 0.0000, Class 3: 0.1278, Class 4: 0.4194, Class 5: 0.3211, Class 6: 0.5143, \n",
      "Validation F-beta Score\n",
      "Class 0: 0.9970, Class 1: 0.6174, Class 2: 0.5000, Class 3: 0.2694, Class 4: 0.4092, Class 5: 0.3624, Class 6: 0.9535, \n",
      "\n",
      "Overall Mean Dice Score: 0.3594\n",
      "Overall Mean F-beta Score: 0.5224\n",
      "\n",
      "Training Loss: 0.3843, Validation Loss: 0.6721, Validation F-beta: 0.5224\n",
      "Epoch 20/4000\n"
     ]
    },
    {
     "name": "stderr",
     "output_type": "stream",
     "text": [
      "Training: 100%|██████████| 1440/1440 [32:39<00:00,  1.36s/it, loss=0.201]\n",
      "Validation: 100%|██████████| 12/12 [00:14<00:00,  1.24s/it, loss=0.248]\n"
     ]
    },
    {
     "name": "stdout",
     "output_type": "stream",
     "text": [
      "Validation Dice Score\n",
      "Class 0: 0.9947, Class 1: 0.5640, Class 2: 0.0000, Class 3: 0.2545, Class 4: 0.3204, Class 5: 0.3042, Class 6: 0.4384, \n",
      "Validation F-beta Score\n",
      "Class 0: 0.9981, Class 1: 0.8121, Class 2: 0.5000, Class 3: 0.2970, Class 4: 0.6863, Class 5: 0.5091, Class 6: 0.8654, \n",
      "\n",
      "Overall Mean Dice Score: 0.3763\n",
      "Overall Mean F-beta Score: 0.6340\n",
      "\n",
      "Training Loss: 0.3752, Validation Loss: 0.4367, Validation F-beta: 0.6340\n",
      "========================================================\n",
      "SUPER Best model saved. Loss:0.4367, Score:0.6340\n",
      "========================================================\n",
      "Epoch 21/4000\n"
     ]
    },
    {
     "name": "stderr",
     "output_type": "stream",
     "text": [
      "Training: 100%|██████████| 1440/1440 [32:41<00:00,  1.36s/it, loss=0.824]\n",
      "Validation: 100%|██████████| 12/12 [00:15<00:00,  1.26s/it, loss=0.715]\n"
     ]
    },
    {
     "name": "stdout",
     "output_type": "stream",
     "text": [
      "Validation Dice Score\n",
      "Class 0: 0.9930, Class 1: 0.3946, Class 2: 0.0000, Class 3: 0.2378, Class 4: 0.2265, Class 5: 0.3404, Class 6: 0.3604, \n",
      "Validation F-beta Score\n",
      "Class 0: 0.9962, Class 1: 0.6913, Class 2: 0.3333, Class 3: 0.4540, Class 4: 0.5346, Class 5: 0.3234, Class 6: 0.8081, \n",
      "\n",
      "Overall Mean Dice Score: 0.3120\n",
      "Overall Mean F-beta Score: 0.5623\n",
      "\n",
      "Training Loss: 0.3787, Validation Loss: 0.5091, Validation F-beta: 0.5623\n",
      "Epoch 22/4000\n"
     ]
    },
    {
     "name": "stderr",
     "output_type": "stream",
     "text": [
      "Training: 100%|██████████| 1440/1440 [33:08<00:00,  1.38s/it, loss=0.544]\n",
      "Validation: 100%|██████████| 12/12 [00:14<00:00,  1.24s/it, loss=0.358]\n"
     ]
    },
    {
     "name": "stdout",
     "output_type": "stream",
     "text": [
      "Validation Dice Score\n",
      "Class 0: 0.9936, Class 1: 0.3641, Class 2: 0.0017, Class 3: 0.2342, Class 4: 0.4799, Class 5: 0.2866, Class 6: 0.4361, \n",
      "Validation F-beta Score\n",
      "Class 0: 0.9965, Class 1: 0.7498, Class 2: 0.3342, Class 3: 0.3413, Class 4: 0.6794, Class 5: 0.2681, Class 6: 0.8270, \n",
      "\n",
      "Overall Mean Dice Score: 0.3602\n",
      "Overall Mean F-beta Score: 0.5731\n",
      "\n",
      "Training Loss: 0.3738, Validation Loss: 0.4465, Validation F-beta: 0.5731\n",
      "Epoch 23/4000\n"
     ]
    },
    {
     "name": "stderr",
     "output_type": "stream",
     "text": [
      "Training: 100%|██████████| 1440/1440 [33:05<00:00,  1.38s/it, loss=0.634]\n",
      "Validation: 100%|██████████| 12/12 [00:12<00:00,  1.05s/it, loss=1.4]  \n"
     ]
    },
    {
     "name": "stdout",
     "output_type": "stream",
     "text": [
      "Validation Dice Score\n",
      "Class 0: 0.9915, Class 1: 0.2356, Class 2: 0.0000, Class 3: 0.0265, Class 4: 0.3726, Class 5: 0.1645, Class 6: 0.0785, \n",
      "Validation F-beta Score\n",
      "Class 0: 0.9944, Class 1: 0.7367, Class 2: 0.5833, Class 3: 0.3488, Class 4: 0.5496, Class 5: 0.1485, Class 6: 0.9129, \n",
      "\n",
      "Overall Mean Dice Score: 0.1756\n",
      "Overall Mean F-beta Score: 0.5393\n",
      "\n",
      "Training Loss: 0.3625, Validation Loss: 0.5585, Validation F-beta: 0.5393\n",
      "Epoch 24/4000\n"
     ]
    },
    {
     "name": "stderr",
     "output_type": "stream",
     "text": [
      "Training: 100%|██████████| 1440/1440 [32:45<00:00,  1.36s/it, loss=0.498]\n",
      "Validation: 100%|██████████| 12/12 [00:14<00:00,  1.19s/it, loss=0.686]\n"
     ]
    },
    {
     "name": "stdout",
     "output_type": "stream",
     "text": [
      "Validation Dice Score\n",
      "Class 0: 0.9935, Class 1: 0.4627, Class 2: 0.0000, Class 3: 0.1645, Class 4: 0.2815, Class 5: 0.1699, Class 6: 0.5085, \n",
      "Validation F-beta Score\n",
      "Class 0: 0.9980, Class 1: 0.7475, Class 2: 0.3333, Class 3: 0.2339, Class 4: 0.6578, Class 5: 0.3659, Class 6: 0.9392, \n",
      "\n",
      "Overall Mean Dice Score: 0.3174\n",
      "Overall Mean F-beta Score: 0.5889\n",
      "\n",
      "Training Loss: 0.3657, Validation Loss: 0.4627, Validation F-beta: 0.5889\n",
      "Epoch 25/4000\n"
     ]
    },
    {
     "name": "stderr",
     "output_type": "stream",
     "text": [
      "Training: 100%|██████████| 1440/1440 [32:59<00:00,  1.37s/it, loss=0.494]\n",
      "Validation: 100%|██████████| 12/12 [00:14<00:00,  1.19s/it, loss=0.496]\n"
     ]
    },
    {
     "name": "stdout",
     "output_type": "stream",
     "text": [
      "Validation Dice Score\n",
      "Class 0: 0.9942, Class 1: 0.3063, Class 2: 0.0569, Class 3: 0.2707, Class 4: 0.4012, Class 5: 0.2407, Class 6: 0.2558, \n",
      "Validation F-beta Score\n",
      "Class 0: 0.9970, Class 1: 0.7804, Class 2: 0.2906, Class 3: 0.3935, Class 4: 0.7226, Class 5: 0.3606, Class 6: 0.9449, \n",
      "\n",
      "Overall Mean Dice Score: 0.2949\n",
      "Overall Mean F-beta Score: 0.6404\n",
      "\n",
      "Training Loss: 0.3530, Validation Loss: 0.4309, Validation F-beta: 0.6404\n",
      "========================================================\n",
      "SUPER Best model saved. Loss:0.4309, Score:0.6404\n",
      "========================================================\n",
      "Epoch 26/4000\n"
     ]
    },
    {
     "name": "stderr",
     "output_type": "stream",
     "text": [
      "Training: 100%|██████████| 1440/1440 [33:30<00:00,  1.40s/it, loss=0.387]\n",
      "Validation: 100%|██████████| 12/12 [00:13<00:00,  1.11s/it, loss=0.63] \n"
     ]
    },
    {
     "name": "stdout",
     "output_type": "stream",
     "text": [
      "Validation Dice Score\n",
      "Class 0: 0.9932, Class 1: 0.3376, Class 2: 0.0006, Class 3: 0.2019, Class 4: 0.3997, Class 5: 0.1707, Class 6: 0.3792, \n",
      "Validation F-beta Score\n",
      "Class 0: 0.9968, Class 1: 0.9249, Class 2: 0.5837, Class 3: 0.3471, Class 4: 0.5988, Class 5: 0.2223, Class 6: 0.7283, \n",
      "\n",
      "Overall Mean Dice Score: 0.2978\n",
      "Overall Mean F-beta Score: 0.5643\n",
      "\n",
      "Training Loss: 0.3470, Validation Loss: 0.4416, Validation F-beta: 0.5643\n",
      "Epoch 27/4000\n"
     ]
    },
    {
     "name": "stderr",
     "output_type": "stream",
     "text": [
      "Training: 100%|██████████| 1440/1440 [33:23<00:00,  1.39s/it, loss=0.519]\n",
      "Validation: 100%|██████████| 12/12 [00:16<00:00,  1.35s/it, loss=0.479]\n"
     ]
    },
    {
     "name": "stdout",
     "output_type": "stream",
     "text": [
      "Validation Dice Score\n",
      "Class 0: 0.9922, Class 1: 0.7005, Class 2: 0.0000, Class 3: 0.2853, Class 4: 0.3370, Class 5: 0.0912, Class 6: 0.4372, \n",
      "Validation F-beta Score\n",
      "Class 0: 0.9968, Class 1: 0.8755, Class 2: 0.5000, Class 3: 0.3180, Class 4: 0.5390, Class 5: 0.1475, Class 6: 0.7617, \n",
      "\n",
      "Overall Mean Dice Score: 0.3703\n",
      "Overall Mean F-beta Score: 0.5283\n",
      "\n",
      "Training Loss: 0.3546, Validation Loss: 0.5223, Validation F-beta: 0.5283\n",
      "Epoch 28/4000\n"
     ]
    },
    {
     "name": "stderr",
     "output_type": "stream",
     "text": [
      "Training: 100%|██████████| 1440/1440 [33:08<00:00,  1.38s/it, loss=0.533]\n",
      "Validation: 100%|██████████| 12/12 [00:14<00:00,  1.24s/it, loss=1.22] \n"
     ]
    },
    {
     "name": "stdout",
     "output_type": "stream",
     "text": [
      "Validation Dice Score\n",
      "Class 0: 0.9917, Class 1: 0.4600, Class 2: 0.0000, Class 3: 0.3296, Class 4: 0.3469, Class 5: 0.1770, Class 6: 0.2984, \n",
      "Validation F-beta Score\n",
      "Class 0: 0.9957, Class 1: 0.7234, Class 2: 0.5833, Class 3: 0.4115, Class 4: 0.4643, Class 5: 0.1590, Class 6: 0.7093, \n",
      "\n",
      "Overall Mean Dice Score: 0.3224\n",
      "Overall Mean F-beta Score: 0.4935\n",
      "\n",
      "Training Loss: 0.3429, Validation Loss: 0.5312, Validation F-beta: 0.4935\n",
      "Epoch 29/4000\n"
     ]
    },
    {
     "name": "stderr",
     "output_type": "stream",
     "text": [
      "Training: 100%|██████████| 1440/1440 [33:31<00:00,  1.40s/it, loss=0.48] \n",
      "Validation: 100%|██████████| 12/12 [00:15<00:00,  1.28s/it, loss=0.733]\n"
     ]
    },
    {
     "name": "stdout",
     "output_type": "stream",
     "text": [
      "Validation Dice Score\n",
      "Class 0: 0.9937, Class 1: 0.3916, Class 2: 0.0462, Class 3: 0.2461, Class 4: 0.4295, Class 5: 0.3587, Class 6: 0.2940, \n",
      "Validation F-beta Score\n",
      "Class 0: 0.9949, Class 1: 0.7378, Class 2: 0.4528, Class 3: 0.3862, Class 4: 0.7694, Class 5: 0.3332, Class 6: 0.8862, \n",
      "\n",
      "Overall Mean Dice Score: 0.3440\n",
      "Overall Mean F-beta Score: 0.6226\n",
      "\n",
      "Training Loss: 0.3493, Validation Loss: 0.4297, Validation F-beta: 0.6226\n",
      "Epoch 30/4000\n"
     ]
    },
    {
     "name": "stderr",
     "output_type": "stream",
     "text": [
      "Training: 100%|██████████| 1440/1440 [34:14<00:00,  1.43s/it, loss=0.173]\n",
      "Validation: 100%|██████████| 12/12 [00:15<00:00,  1.29s/it, loss=0.162]\n"
     ]
    },
    {
     "name": "stdout",
     "output_type": "stream",
     "text": [
      "Validation Dice Score\n",
      "Class 0: 0.9911, Class 1: 0.5719, Class 2: 0.0000, Class 3: 0.2385, Class 4: 0.4707, Class 5: 0.0729, Class 6: 0.6066, \n",
      "Validation F-beta Score\n",
      "Class 0: 0.9946, Class 1: 0.6210, Class 2: 0.4167, Class 3: 0.3835, Class 4: 0.6249, Class 5: 0.3007, Class 6: 0.9572, \n",
      "\n",
      "Overall Mean Dice Score: 0.3921\n",
      "Overall Mean F-beta Score: 0.5775\n",
      "\n",
      "Training Loss: 0.3399, Validation Loss: 0.6509, Validation F-beta: 0.5775\n",
      "Epoch 31/4000\n"
     ]
    },
    {
     "name": "stderr",
     "output_type": "stream",
     "text": [
      "Training: 100%|██████████| 1440/1440 [35:31<00:00,  1.48s/it, loss=0.145]\n",
      "Validation: 100%|██████████| 12/12 [00:15<00:00,  1.27s/it, loss=0.452]\n"
     ]
    },
    {
     "name": "stdout",
     "output_type": "stream",
     "text": [
      "Validation Dice Score\n",
      "Class 0: 0.9937, Class 1: 0.4310, Class 2: 0.0000, Class 3: 0.2166, Class 4: 0.3585, Class 5: 0.2705, Class 6: 0.5321, \n",
      "Validation F-beta Score\n",
      "Class 0: 0.9977, Class 1: 0.9331, Class 2: 0.4167, Class 3: 0.3556, Class 4: 0.7385, Class 5: 0.2313, Class 6: 0.8384, \n",
      "\n",
      "Overall Mean Dice Score: 0.3617\n",
      "Overall Mean F-beta Score: 0.6194\n",
      "\n",
      "Training Loss: 0.3369, Validation Loss: 0.4633, Validation F-beta: 0.6194\n",
      "Epoch 32/4000\n"
     ]
    },
    {
     "name": "stderr",
     "output_type": "stream",
     "text": [
      "Training: 100%|██████████| 1440/1440 [35:28<00:00,  1.48s/it, loss=0.353]\n",
      "Validation: 100%|██████████| 12/12 [00:16<00:00,  1.36s/it, loss=0.316]\n"
     ]
    },
    {
     "name": "stdout",
     "output_type": "stream",
     "text": [
      "Validation Dice Score\n",
      "Class 0: 0.9940, Class 1: 0.5915, Class 2: 0.0270, Class 3: 0.1757, Class 4: 0.3730, Class 5: 0.2657, Class 6: 0.6948, \n",
      "Validation F-beta Score\n",
      "Class 0: 0.9974, Class 1: 0.7438, Class 2: 0.8502, Class 3: 0.3959, Class 4: 0.6400, Class 5: 0.3043, Class 6: 0.7861, \n",
      "\n",
      "Overall Mean Dice Score: 0.4201\n",
      "Overall Mean F-beta Score: 0.5740\n",
      "\n",
      "Training Loss: 0.3327, Validation Loss: 0.4362, Validation F-beta: 0.5740\n",
      "Epoch 33/4000\n"
     ]
    },
    {
     "name": "stderr",
     "output_type": "stream",
     "text": [
      "Training: 100%|██████████| 1440/1440 [35:28<00:00,  1.48s/it, loss=0.235]\n",
      "Validation: 100%|██████████| 12/12 [00:16<00:00,  1.41s/it, loss=0.29] \n"
     ]
    },
    {
     "name": "stdout",
     "output_type": "stream",
     "text": [
      "Validation Dice Score\n",
      "Class 0: 0.9935, Class 1: 0.5753, Class 2: 0.0071, Class 3: 0.2726, Class 4: 0.3477, Class 5: 0.3427, Class 6: 0.4508, \n",
      "Validation F-beta Score\n",
      "Class 0: 0.9962, Class 1: 0.7506, Class 2: 0.3379, Class 3: 0.3456, Class 4: 0.6585, Class 5: 0.3031, Class 6: 0.8966, \n",
      "\n",
      "Overall Mean Dice Score: 0.3978\n",
      "Overall Mean F-beta Score: 0.5909\n",
      "\n",
      "Training Loss: 0.3381, Validation Loss: 0.4638, Validation F-beta: 0.5909\n",
      "Epoch 34/4000\n"
     ]
    },
    {
     "name": "stderr",
     "output_type": "stream",
     "text": [
      "Training: 100%|██████████| 1440/1440 [35:12<00:00,  1.47s/it, loss=0.362]\n",
      "Validation: 100%|██████████| 12/12 [00:15<00:00,  1.31s/it, loss=0.366]\n"
     ]
    },
    {
     "name": "stdout",
     "output_type": "stream",
     "text": [
      "Validation Dice Score\n",
      "Class 0: 0.9929, Class 1: 0.2688, Class 2: 0.0550, Class 3: 0.3275, Class 4: 0.5018, Class 5: 0.3845, Class 6: 0.2238, \n",
      "Validation F-beta Score\n",
      "Class 0: 0.9968, Class 1: 0.7011, Class 2: 0.2066, Class 3: 0.6057, Class 4: 0.5638, Class 5: 0.3220, Class 6: 0.9117, \n",
      "\n",
      "Overall Mean Dice Score: 0.3413\n",
      "Overall Mean F-beta Score: 0.6209\n",
      "\n",
      "Training Loss: 0.3331, Validation Loss: 0.5945, Validation F-beta: 0.6209\n",
      "Epoch 35/4000\n"
     ]
    },
    {
     "name": "stderr",
     "output_type": "stream",
     "text": [
      "Training: 100%|██████████| 1440/1440 [35:51<00:00,  1.49s/it, loss=0.329]\n",
      "Validation: 100%|██████████| 12/12 [00:13<00:00,  1.13s/it, loss=0.265]\n"
     ]
    },
    {
     "name": "stdout",
     "output_type": "stream",
     "text": [
      "Validation Dice Score\n",
      "Class 0: 0.9912, Class 1: 0.0675, Class 2: 0.0667, Class 3: 0.3004, Class 4: 0.5275, Class 5: 0.1568, Class 6: 0.2794, \n",
      "Validation F-beta Score\n",
      "Class 0: 0.9954, Class 1: 0.5619, Class 2: 0.8904, Class 3: 0.5328, Class 4: 0.5947, Class 5: 0.2175, Class 6: 0.8896, \n",
      "\n",
      "Overall Mean Dice Score: 0.2664\n",
      "Overall Mean F-beta Score: 0.5593\n",
      "\n",
      "Training Loss: 0.3381, Validation Loss: 0.5850, Validation F-beta: 0.5593\n",
      "Epoch 36/4000\n"
     ]
    },
    {
     "name": "stderr",
     "output_type": "stream",
     "text": [
      "Training: 100%|██████████| 1440/1440 [34:50<00:00,  1.45s/it, loss=0.288]\n",
      "Validation: 100%|██████████| 12/12 [00:14<00:00,  1.17s/it, loss=1.72] \n"
     ]
    },
    {
     "name": "stdout",
     "output_type": "stream",
     "text": [
      "Validation Dice Score\n",
      "Class 0: 0.9933, Class 1: 0.5470, Class 2: 0.0054, Class 3: 0.1829, Class 4: 0.1395, Class 5: 0.1291, Class 6: 0.3431, \n",
      "Validation F-beta Score\n",
      "Class 0: 0.9980, Class 1: 0.7590, Class 2: 0.5030, Class 3: 0.2324, Class 4: 0.5997, Class 5: 0.1793, Class 6: 0.7073, \n",
      "\n",
      "Overall Mean Dice Score: 0.2683\n",
      "Overall Mean F-beta Score: 0.4955\n",
      "\n",
      "Training Loss: 0.3244, Validation Loss: 0.5911, Validation F-beta: 0.4955\n",
      "Epoch 37/4000\n"
     ]
    },
    {
     "name": "stderr",
     "output_type": "stream",
     "text": [
      "Training: 100%|██████████| 1440/1440 [33:46<00:00,  1.41s/it, loss=0.354]\n",
      "Validation: 100%|██████████| 12/12 [00:14<00:00,  1.17s/it, loss=0.515]\n"
     ]
    },
    {
     "name": "stdout",
     "output_type": "stream",
     "text": [
      "Validation Dice Score\n",
      "Class 0: 0.9944, Class 1: 0.3340, Class 2: 0.0000, Class 3: 0.1287, Class 4: 0.6227, Class 5: 0.1402, Class 6: 0.6165, \n",
      "Validation F-beta Score\n",
      "Class 0: 0.9961, Class 1: 0.8070, Class 2: 0.7500, Class 3: 0.3519, Class 4: 0.6688, Class 5: 0.4646, Class 6: 0.9605, \n",
      "\n",
      "Overall Mean Dice Score: 0.3684\n",
      "Overall Mean F-beta Score: 0.6506\n",
      "\n",
      "Training Loss: 0.3204, Validation Loss: 0.3994, Validation F-beta: 0.6506\n",
      "========================================================\n",
      "SUPER Best model saved. Loss:0.3994, Score:0.6506\n",
      "========================================================\n",
      "Epoch 38/4000\n"
     ]
    },
    {
     "name": "stderr",
     "output_type": "stream",
     "text": [
      "Training: 100%|██████████| 1440/1440 [33:01<00:00,  1.38s/it, loss=0.169]\n",
      "Validation: 100%|██████████| 12/12 [00:14<00:00,  1.23s/it, loss=0.631]\n"
     ]
    },
    {
     "name": "stdout",
     "output_type": "stream",
     "text": [
      "Validation Dice Score\n",
      "Class 0: 0.9939, Class 1: 0.2820, Class 2: 0.0131, Class 3: 0.3221, Class 4: 0.2916, Class 5: 0.2525, Class 6: 0.2817, \n",
      "Validation F-beta Score\n",
      "Class 0: 0.9955, Class 1: 0.5474, Class 2: 0.2578, Class 3: 0.3880, Class 4: 0.7777, Class 5: 0.2361, Class 6: 0.8890, \n",
      "\n",
      "Overall Mean Dice Score: 0.2860\n",
      "Overall Mean F-beta Score: 0.5677\n",
      "\n",
      "Training Loss: 0.3263, Validation Loss: 0.4437, Validation F-beta: 0.5677\n",
      "Epoch 39/4000\n"
     ]
    },
    {
     "name": "stderr",
     "output_type": "stream",
     "text": [
      "Training: 100%|██████████| 1440/1440 [33:23<00:00,  1.39s/it, loss=0.619]\n",
      "Validation: 100%|██████████| 12/12 [00:15<00:00,  1.26s/it, loss=1.17] \n"
     ]
    },
    {
     "name": "stdout",
     "output_type": "stream",
     "text": [
      "Validation Dice Score\n",
      "Class 0: 0.9911, Class 1: 0.5296, Class 2: 0.0146, Class 3: 0.2959, Class 4: 0.2237, Class 5: 0.2839, Class 6: 0.5651, \n",
      "Validation F-beta Score\n",
      "Class 0: 0.9961, Class 1: 0.8484, Class 2: 0.5919, Class 3: 0.3675, Class 4: 0.7124, Class 5: 0.2183, Class 6: 0.9254, \n",
      "\n",
      "Overall Mean Dice Score: 0.3796\n",
      "Overall Mean F-beta Score: 0.6144\n",
      "\n",
      "Training Loss: 0.3205, Validation Loss: 0.5588, Validation F-beta: 0.6144\n",
      "Epoch 40/4000\n"
     ]
    },
    {
     "name": "stderr",
     "output_type": "stream",
     "text": [
      "Training: 100%|██████████| 1440/1440 [33:04<00:00,  1.38s/it, loss=0.169]\n",
      "Validation: 100%|██████████| 12/12 [00:16<00:00,  1.35s/it, loss=0.385]\n"
     ]
    },
    {
     "name": "stdout",
     "output_type": "stream",
     "text": [
      "Validation Dice Score\n",
      "Class 0: 0.9943, Class 1: 0.5372, Class 2: 0.0037, Class 3: 0.2403, Class 4: 0.4686, Class 5: 0.3021, Class 6: 0.5499, \n",
      "Validation F-beta Score\n",
      "Class 0: 0.9952, Class 1: 0.6830, Class 2: 0.3353, Class 3: 0.3942, Class 4: 0.6747, Class 5: 0.3511, Class 6: 0.9560, \n",
      "\n",
      "Overall Mean Dice Score: 0.4196\n",
      "Overall Mean F-beta Score: 0.6118\n",
      "\n",
      "Training Loss: 0.3137, Validation Loss: 0.3894, Validation F-beta: 0.6118\n",
      "Epoch 41/4000\n"
     ]
    },
    {
     "name": "stderr",
     "output_type": "stream",
     "text": [
      "Training: 100%|██████████| 1440/1440 [33:02<00:00,  1.38s/it, loss=0.316]\n",
      "Validation: 100%|██████████| 12/12 [00:13<00:00,  1.13s/it, loss=1.03] \n"
     ]
    },
    {
     "name": "stdout",
     "output_type": "stream",
     "text": [
      "Validation Dice Score\n",
      "Class 0: 0.9916, Class 1: 0.3693, Class 2: 0.0154, Class 3: 0.2740, Class 4: 0.3073, Class 5: 0.1384, Class 6: 0.2732, \n",
      "Validation F-beta Score\n",
      "Class 0: 0.9950, Class 1: 0.7131, Class 2: 0.5088, Class 3: 0.5614, Class 4: 0.6912, Class 5: 0.1876, Class 6: 0.6833, \n",
      "\n",
      "Overall Mean Dice Score: 0.2724\n",
      "Overall Mean F-beta Score: 0.5673\n",
      "\n",
      "Training Loss: 0.3210, Validation Loss: 0.5803, Validation F-beta: 0.5673\n",
      "Epoch 42/4000\n"
     ]
    },
    {
     "name": "stderr",
     "output_type": "stream",
     "text": [
      "Training:  34%|███▍      | 487/1440 [11:13<20:39,  1.30s/it, loss=0.609]"
     ]
    }
   ],
   "source": [
    "train_model(\n",
    "    model=model,\n",
    "    train_loader=train_loader,\n",
    "    val_loader=val_loader,\n",
    "    criterion=criterion,\n",
    "    optimizer=optimizer,\n",
    "    num_epochs=num_epochs,\n",
    "    patience=10,\n",
    "    device=device,\n",
    "    start_epoch=start_epoch,\n",
    "    best_val_loss=best_val_loss,\n",
    "    best_val_fbeta_score=best_val_fbeta_score,\n",
    "    calculate_dice_interval=1,\n",
    "    accumulation_steps = accumulation_steps\n",
    "     ) "
   ]
  },
  {
   "cell_type": "code",
   "execution_count": 12,
   "metadata": {},
   "outputs": [
    {
     "ename": "SyntaxError",
     "evalue": "invalid syntax (879943805.py, line 1)",
     "output_type": "error",
     "traceback": [
      "\u001b[1;36m  Cell \u001b[1;32mIn[12], line 1\u001b[1;36m\u001b[0m\n\u001b[1;33m    if:\u001b[0m\n\u001b[1;37m      ^\u001b[0m\n\u001b[1;31mSyntaxError\u001b[0m\u001b[1;31m:\u001b[0m invalid syntax\n"
     ]
    }
   ],
   "source": [
    "if:"
   ]
  },
  {
   "cell_type": "markdown",
   "metadata": {},
   "source": [
    "# VAl"
   ]
  },
  {
   "cell_type": "code",
   "execution_count": null,
   "metadata": {},
   "outputs": [
    {
     "data": {
      "text/html": [
       "Finishing last run (ID:fs6utwyo) before initializing another..."
      ],
      "text/plain": [
       "<IPython.core.display.HTML object>"
      ]
     },
     "metadata": {},
     "output_type": "display_data"
    },
    {
     "data": {
      "application/vnd.jupyter.widget-view+json": {
       "model_id": "29cc3ae761af43baae5aca60b5d2e7f4",
       "version_major": 2,
       "version_minor": 0
      },
      "text/plain": [
       "VBox(children=(Label(value='0.009 MB of 0.009 MB uploaded\\r'), FloatProgress(value=1.0, max=1.0)))"
      ]
     },
     "metadata": {},
     "output_type": "display_data"
    },
    {
     "data": {
      "text/html": [
       "<style>\n",
       "    table.wandb td:nth-child(1) { padding: 0 10px; text-align: left ; width: auto;} td:nth-child(2) {text-align: left ; width: 100%}\n",
       "    .wandb-row { display: flex; flex-direction: row; flex-wrap: wrap; justify-content: flex-start; width: 100% }\n",
       "    .wandb-col { display: flex; flex-direction: column; flex-basis: 100%; flex: 1; padding: 10px; }\n",
       "    </style>\n",
       "<div class=\"wandb-row\"><div class=\"wandb-col\"><h3>Run history:</h3><br/><table class=\"wandb\"><tr><td>class_0_dice_score</td><td>▁</td></tr><tr><td>class_0_f_beta_score</td><td>▁</td></tr><tr><td>class_1_dice_score</td><td>▁</td></tr><tr><td>class_1_f_beta_score</td><td>▁</td></tr><tr><td>class_2_dice_score</td><td>▁</td></tr><tr><td>class_2_f_beta_score</td><td>▁</td></tr><tr><td>class_3_dice_score</td><td>▁</td></tr><tr><td>class_3_f_beta_score</td><td>▁</td></tr><tr><td>class_4_dice_score</td><td>▁</td></tr><tr><td>class_4_f_beta_score</td><td>▁</td></tr><tr><td>class_5_dice_score</td><td>▁</td></tr><tr><td>class_5_f_beta_score</td><td>▁</td></tr><tr><td>class_6_dice_score</td><td>▁</td></tr><tr><td>class_6_f_beta_score</td><td>▁</td></tr><tr><td>epoch</td><td>▁▁▁▁▁▁▁▁▁▁▁▁▁▁▁▁</td></tr><tr><td>overall_mean_dice_score</td><td>▁</td></tr><tr><td>overall_mean_f_beta_score</td><td>▁</td></tr><tr><td>val_epoch_loss</td><td>▁</td></tr></table><br/></div><div class=\"wandb-col\"><h3>Run summary:</h3><br/><table class=\"wandb\"><tr><td>class_0_dice_score</td><td>0.65703</td></tr><tr><td>class_0_f_beta_score</td><td>0.50748</td></tr><tr><td>class_1_dice_score</td><td>0.53332</td></tr><tr><td>class_1_f_beta_score</td><td>0.64703</td></tr><tr><td>class_2_dice_score</td><td>0.00286</td></tr><tr><td>class_2_f_beta_score</td><td>0.02334</td></tr><tr><td>class_3_dice_score</td><td>0.23703</td></tr><tr><td>class_3_f_beta_score</td><td>0.23033</td></tr><tr><td>class_4_dice_score</td><td>0.65487</td></tr><tr><td>class_4_f_beta_score</td><td>0.62525</td></tr><tr><td>class_5_dice_score</td><td>0.47899</td></tr><tr><td>class_5_f_beta_score</td><td>0.51448</td></tr><tr><td>class_6_dice_score</td><td>0.42545</td></tr><tr><td>class_6_f_beta_score</td><td>0.47197</td></tr><tr><td>epoch</td><td>1</td></tr><tr><td>overall_mean_dice_score</td><td>0.42708</td></tr><tr><td>overall_mean_f_beta_score</td><td>0.43141</td></tr><tr><td>val_epoch_loss</td><td>0.7152</td></tr></table><br/></div></div>"
      ],
      "text/plain": [
       "<IPython.core.display.HTML object>"
      ]
     },
     "metadata": {},
     "output_type": "display_data"
    },
    {
     "data": {
      "text/html": [
       " View run <strong style=\"color:#cdcd00\">SwinUNETR96_96_lr0.001_lambda0.52_batch2</strong> at: <a href='https://wandb.ai/waooang/czii_SwinUnetR_val/runs/fs6utwyo' target=\"_blank\">https://wandb.ai/waooang/czii_SwinUnetR_val/runs/fs6utwyo</a><br/> View project at: <a href='https://wandb.ai/waooang/czii_SwinUnetR_val' target=\"_blank\">https://wandb.ai/waooang/czii_SwinUnetR_val</a><br/>Synced 4 W&B file(s), 0 media file(s), 3 artifact file(s) and 0 other file(s)"
      ],
      "text/plain": [
       "<IPython.core.display.HTML object>"
      ]
     },
     "metadata": {},
     "output_type": "display_data"
    },
    {
     "data": {
      "text/html": [
       "Find logs at: <code>.\\wandb\\run-20241219_200219-fs6utwyo\\logs</code>"
      ],
      "text/plain": [
       "<IPython.core.display.HTML object>"
      ]
     },
     "metadata": {},
     "output_type": "display_data"
    },
    {
     "data": {
      "text/html": [
       "Successfully finished last run (ID:fs6utwyo). Initializing new run:<br/>"
      ],
      "text/plain": [
       "<IPython.core.display.HTML object>"
      ]
     },
     "metadata": {},
     "output_type": "display_data"
    },
    {
     "data": {
      "text/html": [
       "Tracking run with wandb version 0.18.3"
      ],
      "text/plain": [
       "<IPython.core.display.HTML object>"
      ]
     },
     "metadata": {},
     "output_type": "display_data"
    },
    {
     "data": {
      "text/html": [
       "Run data is saved locally in <code>e:\\Workspace\\czll\\wandb\\run-20241219_200454-121l7bn3</code>"
      ],
      "text/plain": [
       "<IPython.core.display.HTML object>"
      ]
     },
     "metadata": {},
     "output_type": "display_data"
    },
    {
     "data": {
      "text/html": [
       "Syncing run <strong><a href='https://wandb.ai/waooang/czii_SwinUnetR_val/runs/121l7bn3' target=\"_blank\">SwinUNETR96_96_lr0.001_lambda0.52_batch2</a></strong> to <a href='https://wandb.ai/waooang/czii_SwinUnetR_val' target=\"_blank\">Weights & Biases</a> (<a href='https://wandb.me/run' target=\"_blank\">docs</a>)<br/>"
      ],
      "text/plain": [
       "<IPython.core.display.HTML object>"
      ]
     },
     "metadata": {},
     "output_type": "display_data"
    },
    {
     "data": {
      "text/html": [
       " View project at <a href='https://wandb.ai/waooang/czii_SwinUnetR_val' target=\"_blank\">https://wandb.ai/waooang/czii_SwinUnetR_val</a>"
      ],
      "text/plain": [
       "<IPython.core.display.HTML object>"
      ]
     },
     "metadata": {},
     "output_type": "display_data"
    },
    {
     "data": {
      "text/html": [
       " View run at <a href='https://wandb.ai/waooang/czii_SwinUnetR_val/runs/121l7bn3' target=\"_blank\">https://wandb.ai/waooang/czii_SwinUnetR_val/runs/121l7bn3</a>"
      ],
      "text/plain": [
       "<IPython.core.display.HTML object>"
      ]
     },
     "metadata": {},
     "output_type": "display_data"
    },
    {
     "name": "stderr",
     "output_type": "stream",
     "text": [
      "Loading dataset: 100%|██████████| 4/4 [00:06<00:00,  1.58s/it]\n",
      "C:\\Users\\Seungwoo\\AppData\\Local\\Temp\\ipykernel_21000\\1177025787.py:95: FutureWarning: You are using `torch.load` with `weights_only=False` (the current default value), which uses the default pickle module implicitly. It is possible to construct malicious pickle data which will execute arbitrary code during unpickling (See https://github.com/pytorch/pytorch/blob/main/SECURITY.md#untrusted-models for more details). In a future release, the default value for `weights_only` will be flipped to `True`. This limits the functions that could be executed during unpickling. Arbitrary objects will no longer be allowed to be loaded via this mode unless they are explicitly allowlisted by the user via `torch.serialization.add_safe_globals`. We recommend you start setting `weights_only=True` for any use case where you don't have full control of the loaded file. Please open an issue on GitHub for any issues related to this experimental feature.\n",
      "  checkpoint = torch.load(pretrain_path, map_location=device)\n",
      "Validation: 100%|██████████| 4/4 [00:01<00:00,  2.38it/s, loss=0.865]"
     ]
    },
    {
     "name": "stdout",
     "output_type": "stream",
     "text": [
      "Validation Dice Score\n",
      "Class 0: 0.6570, Class 1: 0.5333, Class 2: 0.0029, Class 3: 0.2370, \n",
      "Class 4: 0.6549, Class 5: 0.4790, Class 6: 0.4255, \n",
      "Validation F-beta Score\n",
      "Class 0: 0.5075, Class 1: 0.6470, Class 2: 0.0233, Class 3: 0.2303, \n",
      "Class 4: 0.6252, Class 5: 0.5145, Class 6: 0.4720, \n",
      "Overall Mean Dice Score: 0.4659\n",
      "Overall Mean F-beta Score: 0.4978\n",
      "\n"
     ]
    },
    {
     "name": "stderr",
     "output_type": "stream",
     "text": [
      "\n"
     ]
    }
   ],
   "source": [
    "from monai.data import DataLoader, Dataset, CacheDataset\n",
    "from monai.transforms import (\n",
    "    Compose, LoadImaged, EnsureChannelFirstd, NormalizeIntensityd,\n",
    "    Orientationd, CropForegroundd, GaussianSmoothd, ScaleIntensityd,\n",
    "    RandSpatialCropd, RandRotate90d, RandFlipd, RandGaussianNoised,\n",
    "    ToTensord, RandCropByLabelClassesd\n",
    ")\n",
    "from monai.metrics import DiceMetric\n",
    "from monai.networks.nets import UNETR, SwinUNETR\n",
    "from monai.losses import TverskyLoss\n",
    "import torch\n",
    "import numpy as np\n",
    "from tqdm import tqdm\n",
    "import wandb\n",
    "from src.dataset.dataset import make_val_dataloader\n",
    "\n",
    "val_img_dir = \"./datasets/val/images\"\n",
    "val_label_dir = \"./datasets/val/labels\"\n",
    "img_depth = 96\n",
    "img_size = 96  # Match your patch size\n",
    "n_classes = 7\n",
    "batch_size = 2 # 13.8GB GPU memory required for 128x128 img size\n",
    "num_samples = batch_size # 한 이미지에서 뽑을 샘플 수\n",
    "loader_batch = 1\n",
    "lamda = 0.52\n",
    "\n",
    "wandb.init(\n",
    "    project='czii_SwinUnetR_val',  # 프로젝트 이름 설정\n",
    "    name='SwinUNETR96_96_lr0.001_lambda0.52_batch2',         # 실행(run) 이름 설정\n",
    "    config={\n",
    "        'learning_rate': 0.001,\n",
    "        'batch_size': batch_size,\n",
    "        'lambda': lamda,\n",
    "        'img_size': img_size,\n",
    "        'device': 'cuda',\n",
    "        \"checkpoint_dir\": \"./model_checkpoints/SwinUNETR96_96_lr0.001_lambda0.52_batch2\",\n",
    "        \n",
    "    }\n",
    ")\n",
    "\n",
    "non_random_transforms = Compose([\n",
    "    EnsureChannelFirstd(keys=[\"image\", \"label\"], channel_dim=\"no_channel\"),\n",
    "    NormalizeIntensityd(keys=\"image\"),\n",
    "    Orientationd(keys=[\"image\", \"label\"], axcodes=\"RAS\"),\n",
    "    GaussianSmoothd(\n",
    "        keys=[\"image\"],      # 변환을 적용할 키\n",
    "        sigma=[1.0, 1.0, 1.0]  # 각 축(x, y, z)의 시그마 값\n",
    "        ),\n",
    "])\n",
    "random_transforms = Compose([\n",
    "    RandCropByLabelClassesd(\n",
    "        keys=[\"image\", \"label\"],\n",
    "        label_key=\"label\",\n",
    "        spatial_size=[img_depth, img_size, img_size],\n",
    "        num_classes=n_classes,\n",
    "        num_samples=num_samples, \n",
    "        ratios=ratios_list,\n",
    "    ),\n",
    "    RandRotate90d(keys=[\"image\", \"label\"], prob=0.5, spatial_axes=[1, 2]),\n",
    "    RandFlipd(keys=[\"image\", \"label\"], prob=0.5, spatial_axis=0),\n",
    "])\n",
    "\n",
    "val_loader = make_val_dataloader(\n",
    "    val_img_dir, \n",
    "    val_label_dir, \n",
    "    non_random_transforms = non_random_transforms, \n",
    "    random_transforms = random_transforms, \n",
    "    batch_size = loader_batch,\n",
    "    num_workers=0\n",
    ")\n",
    "criterion = TverskyLoss(\n",
    "    alpha= 1 - lamda,  # FP에 대한 가중치\n",
    "    beta=lamda,       # FN에 대한 가중치\n",
    "    include_background=False,  # 배경 클래스 제외\n",
    "    softmax=True\n",
    ")\n",
    "    \n",
    "    \n",
    "from monai.metrics import DiceMetric\n",
    "\n",
    "img_size = 96\n",
    "img_depth = img_size\n",
    "n_classes = 7 \n",
    "\n",
    "device = torch.device(\"cuda\" if torch.cuda.is_available() else \"cpu\")\n",
    "pretrain_path = \"./model_checkpoints/SwinUNETR96_96_lr0.001_lambda0.52_batch2/best_model.pt\"\n",
    "model = SwinUNETR(\n",
    "    img_size=(img_depth, img_size, img_size),\n",
    "    in_channels=1,\n",
    "    out_channels=n_classes,\n",
    "    feature_size=48,\n",
    "    use_checkpoint=True,\n",
    ").to(device)\n",
    "# Pretrained weights 불러오기\n",
    "checkpoint = torch.load(pretrain_path, map_location=device)\n",
    "model.load_state_dict(checkpoint['model_state_dict'])\n",
    "\n",
    "val_loss, overall_mean_fbeta_score = validate_one_epoch(\n",
    "    model=model, \n",
    "    val_loader=val_loader, \n",
    "    criterion=criterion, \n",
    "    device=device, \n",
    "    epoch=0, \n",
    "    calculate_dice_interval=1\n",
    ")"
   ]
  },
  {
   "cell_type": "markdown",
   "metadata": {},
   "source": [
    "# Inference"
   ]
  },
  {
   "cell_type": "code",
   "execution_count": null,
   "metadata": {},
   "outputs": [],
   "source": [
    "from src.dataset.preprocessing import Preprocessor"
   ]
  },
  {
   "cell_type": "code",
   "execution_count": null,
   "metadata": {},
   "outputs": [
    {
     "name": "stdout",
     "output_type": "stream",
     "text": [
      "Done.\n"
     ]
    }
   ],
   "source": [
    "from monai.inferers import sliding_window_inference\n",
    "from monai.transforms import Compose, EnsureChannelFirstd, NormalizeIntensityd, Orientationd, GaussianSmoothd\n",
    "from monai.data import DataLoader, Dataset, CacheDataset\n",
    "from monai.networks.nets import SwinUNETR\n",
    "from pathlib import Path\n",
    "import numpy as np\n",
    "import copick\n",
    "\n",
    "import torch\n",
    "print(\"Done.\")"
   ]
  },
  {
   "cell_type": "code",
   "execution_count": null,
   "metadata": {},
   "outputs": [
    {
     "name": "stdout",
     "output_type": "stream",
     "text": [
      "Config file written to ./kaggle/working/copick.config\n",
      "file length: 7\n"
     ]
    }
   ],
   "source": [
    "config_blob = \"\"\"{\n",
    "    \"name\": \"czii_cryoet_mlchallenge_2024\",\n",
    "    \"description\": \"2024 CZII CryoET ML Challenge training data.\",\n",
    "    \"version\": \"1.0.0\",\n",
    "\n",
    "    \"pickable_objects\": [\n",
    "        {\n",
    "            \"name\": \"apo-ferritin\",\n",
    "            \"is_particle\": true,\n",
    "            \"pdb_id\": \"4V1W\",\n",
    "            \"label\": 1,\n",
    "            \"color\": [  0, 117, 220, 128],\n",
    "            \"radius\": 60,\n",
    "            \"map_threshold\": 0.0418\n",
    "        },\n",
    "        {\n",
    "          \"name\" : \"beta-amylase\",\n",
    "            \"is_particle\": true,\n",
    "            \"pdb_id\": \"8ZRZ\",\n",
    "            \"label\": 2,\n",
    "            \"color\": [255, 255, 255, 128],\n",
    "            \"radius\": 90,\n",
    "            \"map_threshold\": 0.0578  \n",
    "        },\n",
    "        {\n",
    "            \"name\": \"beta-galactosidase\",\n",
    "            \"is_particle\": true,\n",
    "            \"pdb_id\": \"6X1Q\",\n",
    "            \"label\": 3,\n",
    "            \"color\": [ 76,   0,  92, 128],\n",
    "            \"radius\": 90,\n",
    "            \"map_threshold\": 0.0578\n",
    "        },\n",
    "        {\n",
    "            \"name\": \"ribosome\",\n",
    "            \"is_particle\": true,\n",
    "            \"pdb_id\": \"6EK0\",\n",
    "            \"label\": 4,\n",
    "            \"color\": [  0,  92,  49, 128],\n",
    "            \"radius\": 150,\n",
    "            \"map_threshold\": 0.0374\n",
    "        },\n",
    "        {\n",
    "            \"name\": \"thyroglobulin\",\n",
    "            \"is_particle\": true,\n",
    "            \"pdb_id\": \"6SCJ\",\n",
    "            \"label\": 5,\n",
    "            \"color\": [ 43, 206,  72, 128],\n",
    "            \"radius\": 130,\n",
    "            \"map_threshold\": 0.0278\n",
    "        },\n",
    "        {\n",
    "            \"name\": \"virus-like-particle\",\n",
    "            \"is_particle\": true,\n",
    "            \"label\": 6,\n",
    "            \"color\": [255, 204, 153, 128],\n",
    "            \"radius\": 135,\n",
    "            \"map_threshold\": 0.201\n",
    "        },\n",
    "        {\n",
    "            \"name\": \"membrane\",\n",
    "            \"is_particle\": false,\n",
    "            \"label\": 8,\n",
    "            \"color\": [100, 100, 100, 128]\n",
    "        },\n",
    "        {\n",
    "            \"name\": \"background\",\n",
    "            \"is_particle\": false,\n",
    "            \"label\": 9,\n",
    "            \"color\": [10, 150, 200, 128]\n",
    "        }\n",
    "    ],\n",
    "\n",
    "    \"overlay_root\": \"./kaggle/working/overlay\",\n",
    "\n",
    "    \"overlay_fs_args\": {\n",
    "        \"auto_mkdir\": true\n",
    "    },\n",
    "\n",
    "    \"static_root\": \"./kaggle/input/czii-cryo-et-object-identification/test/static\"\n",
    "}\"\"\"\n",
    "\n",
    "copick_config_path = \"./kaggle/working/copick.config\"\n",
    "preprocessor = Preprocessor(config_blob,copick_config_path=copick_config_path)\n",
    "non_random_transforms = Compose([\n",
    "    EnsureChannelFirstd(keys=[\"image\"], channel_dim=\"no_channel\"),\n",
    "    NormalizeIntensityd(keys=\"image\"),\n",
    "    Orientationd(keys=[\"image\"], axcodes=\"RAS\"),\n",
    "    GaussianSmoothd(\n",
    "        keys=[\"image\"],      # 변환을 적용할 키\n",
    "        sigma=[1.0, 1.0, 1.0]  # 각 축(x, y, z)의 시그마 값\n",
    "        ),\n",
    "    ])"
   ]
  },
  {
   "cell_type": "code",
   "execution_count": null,
   "metadata": {},
   "outputs": [
    {
     "name": "stderr",
     "output_type": "stream",
     "text": [
      "c:\\ProgramData\\anaconda3\\envs\\ship\\Lib\\site-packages\\monai\\utils\\deprecate_utils.py:221: FutureWarning: monai.networks.nets.swin_unetr SwinUNETR.__init__:img_size: Argument `img_size` has been deprecated since version 1.3. It will be removed in version 1.5. The img_size argument is not required anymore and checks on the input size are run during forward().\n",
      "  warn_deprecated(argname, msg, warning_category)\n",
      "C:\\Users\\Seungwoo\\AppData\\Local\\Temp\\ipykernel_6248\\2937359115.py:15: FutureWarning: You are using `torch.load` with `weights_only=False` (the current default value), which uses the default pickle module implicitly. It is possible to construct malicious pickle data which will execute arbitrary code during unpickling (See https://github.com/pytorch/pytorch/blob/main/SECURITY.md#untrusted-models for more details). In a future release, the default value for `weights_only` will be flipped to `True`. This limits the functions that could be executed during unpickling. Arbitrary objects will no longer be allowed to be loaded via this mode unless they are explicitly allowlisted by the user via `torch.serialization.add_safe_globals`. We recommend you start setting `weights_only=True` for any use case where you don't have full control of the loaded file. Please open an issue on GitHub for any issues related to this experimental feature.\n",
      "  checkpoint = torch.load(pretrain_path, map_location=device)\n"
     ]
    },
    {
     "data": {
      "text/plain": [
       "<All keys matched successfully>"
      ]
     },
     "execution_count": 15,
     "metadata": {},
     "output_type": "execute_result"
    }
   ],
   "source": [
    "img_size = 96\n",
    "img_depth = img_size\n",
    "n_classes = 7 \n",
    "\n",
    "device = torch.device(\"cuda\" if torch.cuda.is_available() else \"cpu\")\n",
    "pretrain_path = \"./model_checkpoints/SwinUNETR96_96_lr0.001_lambda0.52_batch2/best_model.pt\"\n",
    "model = SwinUNETR(\n",
    "    img_size=(img_depth, img_size, img_size),\n",
    "    in_channels=1,\n",
    "    out_channels=n_classes,\n",
    "    feature_size=48,\n",
    "    use_checkpoint=True,\n",
    ").to(device)\n",
    "# Pretrained weights 불러오기\n",
    "checkpoint = torch.load(pretrain_path, map_location=device)\n",
    "model.load_state_dict(checkpoint['model_state_dict'])\n"
   ]
  },
  {
   "cell_type": "code",
   "execution_count": null,
   "metadata": {},
   "outputs": [
    {
     "name": "stderr",
     "output_type": "stream",
     "text": [
      "Validation:   0%|          | 0/4 [00:03<?, ?it/s, loss=0.764]\n"
     ]
    },
    {
     "ename": "ZeroDivisionError",
     "evalue": "integer modulo by zero",
     "output_type": "error",
     "traceback": [
      "\u001b[1;31m---------------------------------------------------------------------------\u001b[0m",
      "\u001b[1;31mZeroDivisionError\u001b[0m                         Traceback (most recent call last)",
      "Cell \u001b[1;32mIn[16], line 1\u001b[0m\n\u001b[1;32m----> 1\u001b[0m val_loss \u001b[38;5;241m=\u001b[39m \u001b[43mvalidate_one_epoch\u001b[49m\u001b[43m(\u001b[49m\n\u001b[0;32m      2\u001b[0m \u001b[43m            \u001b[49m\u001b[43mmodel\u001b[49m\u001b[38;5;241;43m=\u001b[39;49m\u001b[43mmodel\u001b[49m\u001b[43m,\u001b[49m\u001b[43m \u001b[49m\n\u001b[0;32m      3\u001b[0m \u001b[43m            \u001b[49m\u001b[43mval_loader\u001b[49m\u001b[38;5;241;43m=\u001b[39;49m\u001b[43mval_loader\u001b[49m\u001b[43m,\u001b[49m\u001b[43m \u001b[49m\n\u001b[0;32m      4\u001b[0m \u001b[43m            \u001b[49m\u001b[43mcriterion\u001b[49m\u001b[38;5;241;43m=\u001b[39;49m\u001b[43mcriterion\u001b[49m\u001b[43m,\u001b[49m\u001b[43m \u001b[49m\n\u001b[0;32m      5\u001b[0m \u001b[43m            \u001b[49m\u001b[43mdevice\u001b[49m\u001b[38;5;241;43m=\u001b[39;49m\u001b[43mdevice\u001b[49m\u001b[43m,\u001b[49m\u001b[43m \u001b[49m\n\u001b[0;32m      6\u001b[0m \u001b[43m            \u001b[49m\u001b[43mepoch\u001b[49m\u001b[38;5;241;43m=\u001b[39;49m\u001b[38;5;241;43m1\u001b[39;49m\u001b[43m,\u001b[49m\u001b[43m \u001b[49m\n\u001b[0;32m      7\u001b[0m \u001b[43m            \u001b[49m\u001b[43mcalculate_dice_interval\u001b[49m\u001b[38;5;241;43m=\u001b[39;49m\u001b[38;5;241;43m0\u001b[39;49m\n\u001b[0;32m      8\u001b[0m \u001b[43m        \u001b[49m\u001b[43m)\u001b[49m\n",
      "Cell \u001b[1;32mIn[11], line 64\u001b[0m, in \u001b[0;36mvalidate_one_epoch\u001b[1;34m(model, val_loader, criterion, device, epoch, calculate_dice_interval)\u001b[0m\n\u001b[0;32m     61\u001b[0m pbar\u001b[38;5;241m.\u001b[39mset_postfix(loss\u001b[38;5;241m=\u001b[39mloss\u001b[38;5;241m.\u001b[39mitem())\n\u001b[0;32m     63\u001b[0m \u001b[38;5;66;03m# 각 클래스별 Dice 점수 계산\u001b[39;00m\n\u001b[1;32m---> 64\u001b[0m \u001b[38;5;28;01mif\u001b[39;00m \u001b[43mepoch\u001b[49m\u001b[43m \u001b[49m\u001b[38;5;241;43m%\u001b[39;49m\u001b[43m \u001b[49m\u001b[43mcalculate_dice_interval\u001b[49m \u001b[38;5;241m==\u001b[39m \u001b[38;5;241m0\u001b[39m:\n\u001b[0;32m     65\u001b[0m     \u001b[38;5;28;01mfor\u001b[39;00m i \u001b[38;5;129;01min\u001b[39;00m \u001b[38;5;28mrange\u001b[39m(n_classes):\n\u001b[0;32m     66\u001b[0m         pred_i \u001b[38;5;241m=\u001b[39m (preds \u001b[38;5;241m==\u001b[39m i)\n",
      "\u001b[1;31mZeroDivisionError\u001b[0m: integer modulo by zero"
     ]
    }
   ],
   "source": [
    "val_loss = validate_one_epoch(\n",
    "            model=model, \n",
    "            val_loader=val_loader, \n",
    "            criterion=criterion, \n",
    "            device=device, \n",
    "            epoch=1, \n",
    "            calculate_dice_interval=0\n",
    "        )"
   ]
  },
  {
   "cell_type": "code",
   "execution_count": null,
   "metadata": {},
   "outputs": [
    {
     "name": "stdout",
     "output_type": "stream",
     "text": [
      "Processing volume 1/7\n"
     ]
    },
    {
     "name": "stderr",
     "output_type": "stream",
     "text": [
      "Loading dataset: 100%|██████████| 1/1 [00:01<00:00,  1.94s/it]\n"
     ]
    },
    {
     "name": "stdout",
     "output_type": "stream",
     "text": [
      "Processing volume 2/7\n"
     ]
    },
    {
     "name": "stderr",
     "output_type": "stream",
     "text": [
      "Loading dataset: 100%|██████████| 1/1 [00:01<00:00,  1.89s/it]\n"
     ]
    },
    {
     "name": "stdout",
     "output_type": "stream",
     "text": [
      "Processing volume 3/7\n"
     ]
    },
    {
     "name": "stderr",
     "output_type": "stream",
     "text": [
      "Loading dataset: 100%|██████████| 1/1 [00:01<00:00,  1.79s/it]\n"
     ]
    },
    {
     "name": "stdout",
     "output_type": "stream",
     "text": [
      "Submission saved to: submission.csv\n"
     ]
    }
   ],
   "source": [
    "import torch\n",
    "import numpy as np\n",
    "from scipy.ndimage import label, center_of_mass\n",
    "import pandas as pd\n",
    "from tqdm import tqdm\n",
    "from monai.data import CacheDataset, DataLoader\n",
    "from monai.transforms import Compose, NormalizeIntensity\n",
    "import cc3d\n",
    "\n",
    "def dict_to_df(coord_dict, experiment_name):\n",
    "    all_coords = []\n",
    "    all_labels = []\n",
    "    \n",
    "    for label, coords in coord_dict.items():\n",
    "        all_coords.append(coords)\n",
    "        all_labels.extend([label] * len(coords))\n",
    "    \n",
    "    all_coords = np.vstack(all_coords)\n",
    "    df = pd.DataFrame({\n",
    "        'experiment': experiment_name,\n",
    "        'particle_type': all_labels,\n",
    "        'x': all_coords[:, 0],\n",
    "        'y': all_coords[:, 1],\n",
    "        'z': all_coords[:, 2]\n",
    "    })\n",
    "    return df\n",
    "\n",
    "id_to_name = {1: \"apo-ferritin\", \n",
    "              2: \"beta-amylase\",\n",
    "              3: \"beta-galactosidase\", \n",
    "              4: \"ribosome\", \n",
    "              5: \"thyroglobulin\", \n",
    "              6: \"virus-like-particle\"}\n",
    "BLOB_THRESHOLD = 200\n",
    "CERTAINTY_THRESHOLD = 0.05\n",
    "\n",
    "classes = [1, 2, 3, 4, 5, 6]\n",
    "\n",
    "model.eval()\n",
    "with torch.no_grad():\n",
    "    location_dfs = []  # DataFrame 리스트로 초기화\n",
    "    \n",
    "    for vol_idx, run in enumerate(preprocessor.root.runs):\n",
    "        print(f\"Processing volume {vol_idx + 1}/{len(preprocessor.root.runs)}\")\n",
    "        tomogram = preprocessor.processing(run=run, task=\"task\")\n",
    "        task_files = [{\"image\": tomogram}]\n",
    "        task_ds = CacheDataset(data=task_files, transform=non_random_transforms)\n",
    "        task_loader = DataLoader(task_ds, batch_size=1, num_workers=0)\n",
    "        \n",
    "        for task_data in task_loader:\n",
    "            images = task_data['image'].to(\"cuda\")\n",
    "            outputs = sliding_window_inference(\n",
    "                inputs=images,\n",
    "                roi_size=(96, 96, 96),  # ROI 크기\n",
    "                sw_batch_size=4,\n",
    "                predictor=model.forward,\n",
    "                overlap=0.1,\n",
    "                sw_device=\"cuda\",\n",
    "                device=\"cpu\",\n",
    "                buffer_steps=1,\n",
    "                buffer_dim=-1\n",
    "            )\n",
    "            outputs = outputs.argmax(dim=1).squeeze(0).cpu().numpy()  # 클래스 채널 예측\n",
    "            location = {}  # 좌표 저장용 딕셔너리\n",
    "            for c in classes:\n",
    "                cc = cc3d.connected_components(outputs == c)  # cc3d 라벨링\n",
    "                stats = cc3d.statistics(cc)\n",
    "                zyx = stats['centroids'][1:] * 10.012444  # 스케일 변환\n",
    "                zyx_large = zyx[stats['voxel_counts'][1:] > BLOB_THRESHOLD]  # 크기 필터링\n",
    "                xyz = np.ascontiguousarray(zyx_large[:, ::-1])  # 좌표 스왑 (z, y, x -> x, y, z)\n",
    "\n",
    "                location[id_to_name[c]] = xyz  # ID 이름 매칭 저장\n",
    "\n",
    "            # 데이터프레임 변환\n",
    "            df = dict_to_df(location, run.name)\n",
    "            location_dfs.append(df)  # 리스트에 추가\n",
    "        \n",
    "        # if vol_idx == 2:\n",
    "        #     break\n",
    "    \n",
    "    # DataFrame 병합\n",
    "    final_df = pd.concat(location_dfs, ignore_index=True)\n",
    "    \n",
    "    # ID 추가 및 CSV 저장\n",
    "    final_df.insert(loc=0, column='id', value=np.arange(len(final_df)))\n",
    "    final_df.to_csv(\"submission.csv\", index=False)\n",
    "    print(\"Submission saved to: submission.csv\")\n"
   ]
  }
 ],
 "metadata": {
  "kernelspec": {
   "display_name": "ship",
   "language": "python",
   "name": "python3"
  },
  "language_info": {
   "codemirror_mode": {
    "name": "ipython",
    "version": 3
   },
   "file_extension": ".py",
   "mimetype": "text/x-python",
   "name": "python",
   "nbconvert_exporter": "python",
   "pygments_lexer": "ipython3",
   "version": "3.12.7"
  }
 },
 "nbformat": 4,
 "nbformat_minor": 2
}
