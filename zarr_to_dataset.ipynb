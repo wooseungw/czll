{
 "cells": [
  {
   "cell_type": "code",
   "execution_count": 1,
   "metadata": {},
   "outputs": [],
   "source": [
    "\n",
    "# from pathlib import Path\n",
    "# import zarr\n",
    "\n",
    "# def find_all_zarr_files():\n",
    "#     \"\"\"각 실험 디렉토리의 모든 zarr 파일 찾기\"\"\"\n",
    "#     base_path = Path('./kaggle/input/czii-cryo-et-object-identification/train')\n",
    "#     experiments = {}\n",
    "    \n",
    "#     for exp_dir in base_path.glob(\"**/VoxelSpacing10.000\"):\n",
    "#         exp_name = exp_dir.parent.name  # 실험 이름 (예: TS_5_4)\n",
    "#         zarr_files = list(exp_dir.glob(\"*.zarr\"))\n",
    "        \n",
    "#         if zarr_files:\n",
    "#             experiments[exp_name] = {\n",
    "#                 'path': str(exp_dir),\n",
    "#                 'files': [f.name for f in zarr_files]\n",
    "#             }\n",
    "    \n",
    "#     return experiments\n",
    "\n",
    "# def test_all_zarr_files():\n",
    "#     \"\"\"모든 실험의 zarr 파일 정보 출력\"\"\"\n",
    "#     experiments = find_all_zarr_files()\n",
    "    \n",
    "#     for exp_name, info in experiments.items():\n",
    "#         print(f\"\\n실험: {exp_name}\")\n",
    "#         print(f\"경로: {info['path']}\")\n",
    "#         print(\"zarr 파일들:\")\n",
    "#         for zarr_file in info['files']:\n",
    "#             zarr_path = Path(info['path']) / zarr_file\n",
    "#             try:\n",
    "#                 root = zarr.open(str(zarr_path), mode='r')\n",
    "#                 sample = root[0]\n",
    "#                 print(f\"- {zarr_file}: shape={sample.shape}\")\n",
    "#             except Exception as e:\n",
    "#                 print(f\"- {zarr_file}: 오류 발생 ({str(e)})\")\n",
    "\n",
    "# if __name__ == \"__main__\":\n",
    "#     test_all_zarr_files()"
   ]
  },
  {
   "cell_type": "code",
   "execution_count": 2,
   "metadata": {},
   "outputs": [
    {
     "name": "stderr",
     "output_type": "stream",
     "text": [
      "c:\\Users\\pook0\\.conda\\envs\\UM\\Lib\\site-packages\\tqdm\\auto.py:21: TqdmWarning: IProgress not found. Please update jupyter and ipywidgets. See https://ipywidgets.readthedocs.io/en/stable/user_install.html\n",
      "  from .autonotebook import tqdm as notebook_tqdm\n"
     ]
    },
    {
     "name": "stdout",
     "output_type": "stream",
     "text": [
      "이미지 shape: torch.Size([8, 1, 3, 96, 96])\n",
      "라벨 shape: torch.Size([8, 1, 96, 96])\n",
      "Crop 정보: {'z_start': tensor([91, 91, 91, 91, 91, 91, 91, 91]), 'z_center': tensor([92, 92, 92, 92, 92, 92, 92, 92]), 'y_start': tensor([267, 267, 267, 267, 267, 267, 267, 267]), 'x_start': tensor([267, 267, 267, 267, 267, 267, 267, 267]), 'crop_size': [tensor([96, 96, 96, 96, 96, 96, 96, 96]), tensor([96, 96, 96, 96, 96, 96, 96, 96])], 'original_shape': [tensor([184, 184, 184, 184, 184, 184, 184, 184]), tensor([630, 630, 630, 630, 630, 630, 630, 630]), tensor([630, 630, 630, 630, 630, 630, 630, 630])], 'file_name': ['isonetcorrected_TS_69_2_image', 'denoised_TS_69_2_image', 'isonetcorrected_TS_5_4_image', 'isonetcorrected_TS_6_4_image', 'ctfdeconvolved_TS_73_6_image', 'denoised_TS_6_4_image', 'wbp_TS_86_3_image', 'wbp_TS_73_6_image']}\n"
     ]
    }
   ],
   "source": [
    "from pathlib import Path\n",
    "import numpy as np\n",
    "import torch\n",
    "from torch.utils.data import Dataset, DataLoader\n",
    "from typing import Dict, List, Tuple\n",
    "from monai.transforms import (\n",
    "    Compose,\n",
    "    EnsureChannelFirstd,\n",
    "    NormalizeIntensityd\n",
    ")\n",
    "\n",
    "class CryoET_2_5D_Dataset(Dataset):\n",
    "    def __init__(self, \n",
    "                 data_dir: str, \n",
    "                 mode: str = 'train',\n",
    "                 slice_depth: int = 3,\n",
    "                 crop_size: Tuple[int, int] = (96, 96),\n",
    "                 transform = None):\n",
    "        \"\"\"\n",
    "        Args:\n",
    "            data_dir: 데이터셋 기본 경로\n",
    "            mode: 'train' 또는 'val'\n",
    "            slice_depth: 중심 기준 슬라이스 수 (항상 홀수)\n",
    "            crop_size: (height, width) crop 크기\n",
    "            transform: MONAI transform\n",
    "        \"\"\"\n",
    "        self.data_dir = Path(data_dir) / mode\n",
    "        self.slice_depth = slice_depth\n",
    "        self.crop_size = crop_size\n",
    "        self.transform = transform\n",
    "        self.pad_size = slice_depth // 2\n",
    "        \n",
    "        # 이미지와 라벨 파일 리스트\n",
    "        self.image_files = sorted(list((self.data_dir / 'images').glob('*.npy')))\n",
    "        self.label_files = sorted(list((self.data_dir / 'labels').glob('*.npy')))\n",
    "        \n",
    "        assert len(self.image_files) == len(self.label_files), \"이미지와 라벨 수가 다릅니다\"\n",
    "        \n",
    "    def __len__(self):\n",
    "        return len(self.image_files)\n",
    "        \n",
    "    def __getitem__(self, idx) -> Dict:\n",
    "        # 이미지와 라벨 로드\n",
    "        image = np.load(self.image_files[idx])  # (D, H, W)\n",
    "        label = np.load(self.label_files[idx])  # (D, H, W)\n",
    "        \n",
    "        # 원본 shape 저장\n",
    "        original_shape = image.shape\n",
    "        \n",
    "        # 중심 슬라이스 선택\n",
    "        center_idx = image.shape[0] // 2\n",
    "        start_idx = center_idx - self.pad_size\n",
    "        end_idx = center_idx + self.pad_size + 1\n",
    "        \n",
    "        # 패딩 처리\n",
    "        if start_idx < 0 or end_idx > image.shape[0]:\n",
    "            padded_image = np.pad(\n",
    "                image,\n",
    "                ((self.pad_size, self.pad_size), (0, 0), (0, 0)),\n",
    "                mode='edge'\n",
    "            )\n",
    "            start_idx += self.pad_size\n",
    "            end_idx += self.pad_size\n",
    "            slices = padded_image[start_idx:end_idx]\n",
    "        else:\n",
    "            slices = image[start_idx:end_idx]\n",
    "        \n",
    "        # 중심 슬라이스의 라벨만 사용\n",
    "        center_label = label[center_idx]\n",
    "        \n",
    "        # 중앙 crop 좌표 계산\n",
    "        start_h = (image.shape[1] - self.crop_size[0]) // 2\n",
    "        start_w = (image.shape[2] - self.crop_size[1]) // 2\n",
    "        \n",
    "        # crop 적용\n",
    "        slices_cropped = slices[:, \n",
    "                              start_h:start_h + self.crop_size[0], \n",
    "                              start_w:start_w + self.crop_size[1]]\n",
    "        label_cropped = center_label[start_h:start_h + self.crop_size[0],\n",
    "                                   start_w:start_w + self.crop_size[1]]\n",
    "        \n",
    "        data_dict = {\n",
    "            'image': np.array(slices_cropped)[None, ...],  # (1, D, H, W)\n",
    "            'label': np.array(label_cropped)[None, ...],   # (1, H, W)\n",
    "            'crop_info': {\n",
    "                'z_start': start_idx,\n",
    "                'z_center': center_idx,\n",
    "                'y_start': start_h,\n",
    "                'x_start': start_w,\n",
    "                'crop_size': self.crop_size,\n",
    "                'original_shape': original_shape,\n",
    "                'file_name': self.image_files[idx].stem\n",
    "            }\n",
    "        }\n",
    "        \n",
    "        if self.transform:\n",
    "            data_dict = self.transform(data_dict)\n",
    "            \n",
    "        return data_dict\n",
    "\n",
    "# Transform 설정\n",
    "train_transforms = Compose([\n",
    "    EnsureChannelFirstd(\n",
    "        keys=['image', 'label'],\n",
    "        channel_dim=0,\n",
    "        allow_missing_keys=True\n",
    "    ),\n",
    "    NormalizeIntensityd(\n",
    "        keys=['image'],\n",
    "        allow_missing_keys=True\n",
    "    )\n",
    "])\n",
    "\n",
    "def create_dataloaders(data_dir: str, batch_size: int = 8):\n",
    "    train_ds = CryoET_2_5D_Dataset(\n",
    "        data_dir=data_dir,\n",
    "        mode='train',\n",
    "        transform=train_transforms,\n",
    "        slice_depth=3,\n",
    "        crop_size=(96, 96)\n",
    "    )\n",
    "    \n",
    "    val_ds = CryoET_2_5D_Dataset(\n",
    "        data_dir=data_dir,\n",
    "        mode='val',\n",
    "        transform=None,\n",
    "        slice_depth=3,\n",
    "        crop_size=(96, 96)\n",
    "    )\n",
    "    \n",
    "    train_loader = DataLoader(\n",
    "        train_ds, \n",
    "        batch_size=batch_size,\n",
    "        shuffle=True,\n",
    "        num_workers=0,\n",
    "        pin_memory=torch.cuda.is_available()\n",
    "    )\n",
    "    \n",
    "    val_loader = DataLoader(\n",
    "        val_ds,\n",
    "        batch_size=batch_size,\n",
    "        num_workers=0,\n",
    "        pin_memory=torch.cuda.is_available()\n",
    "    )\n",
    "    \n",
    "    return train_loader, val_loader\n",
    "\n",
    "# 테스트\n",
    "if __name__ == \"__main__\":\n",
    "    data_dir = \"./datasets\"\n",
    "    train_loader, val_loader = create_dataloaders(data_dir)\n",
    "    \n",
    "    # 데이터 확인\n",
    "    batch = next(iter(train_loader))\n",
    "    print(\"이미지 shape:\", batch['image'].shape)\n",
    "    print(\"라벨 shape:\", batch['label'].shape)\n",
    "    print(\"Crop 정보:\", batch['crop_info'])"
   ]
  },
  {
   "cell_type": "code",
   "execution_count": null,
   "metadata": {},
   "outputs": [
    {
     "name": "stdout",
     "output_type": "stream",
     "text": [
      "load_pretrained: grid-size from 14 to 6\n"
     ]
    },
    {
     "name": "stderr",
     "output_type": "stream",
     "text": [
      "Epoch 1/40: 100%|██████████| 3/3 [00:05<00:00,  1.97s/it, loss=0.966]\n",
      "                                                                                 \r"
     ]
    },
    {
     "name": "stdout",
     "output_type": "stream",
     "text": [
      "Validation Loss: 0.9633\n"
     ]
    },
    {
     "name": "stderr",
     "output_type": "stream",
     "text": [
      "Epoch 2/40: 100%|██████████| 3/3 [00:04<00:00,  1.53s/it, loss=0.953]\n",
      "                                                                                 \r"
     ]
    },
    {
     "name": "stdout",
     "output_type": "stream",
     "text": [
      "Validation Loss: 0.9656\n"
     ]
    },
    {
     "name": "stderr",
     "output_type": "stream",
     "text": [
      "Epoch 3/40: 100%|██████████| 3/3 [00:04<00:00,  1.53s/it, loss=0.935]\n",
      "                                                                                 \r"
     ]
    },
    {
     "name": "stdout",
     "output_type": "stream",
     "text": [
      "Validation Loss: 0.9656\n"
     ]
    },
    {
     "name": "stderr",
     "output_type": "stream",
     "text": [
      "Epoch 4/40: 100%|██████████| 3/3 [00:04<00:00,  1.51s/it, loss=0.919]\n",
      "                                                                                 \r"
     ]
    },
    {
     "name": "stdout",
     "output_type": "stream",
     "text": [
      "Validation Loss: 0.9677\n"
     ]
    },
    {
     "name": "stderr",
     "output_type": "stream",
     "text": [
      "Epoch 5/40: 100%|██████████| 3/3 [00:04<00:00,  1.51s/it, loss=0.903]\n",
      "                                                                                 \r"
     ]
    },
    {
     "name": "stdout",
     "output_type": "stream",
     "text": [
      "Validation Loss: 0.9689\n"
     ]
    },
    {
     "name": "stderr",
     "output_type": "stream",
     "text": [
      "Epoch 6/40: 100%|██████████| 3/3 [00:04<00:00,  1.55s/it, loss=0.885]\n",
      "                                                                                \r"
     ]
    },
    {
     "name": "stdout",
     "output_type": "stream",
     "text": [
      "Validation Loss: 0.9505\n"
     ]
    },
    {
     "name": "stderr",
     "output_type": "stream",
     "text": [
      "Epoch 7/40: 100%|██████████| 3/3 [00:04<00:00,  1.57s/it, loss=0.875]\n",
      "                                                                                 \r"
     ]
    },
    {
     "name": "stdout",
     "output_type": "stream",
     "text": [
      "Validation Loss: 0.9416\n"
     ]
    },
    {
     "name": "stderr",
     "output_type": "stream",
     "text": [
      "Epoch 8/40: 100%|██████████| 3/3 [00:04<00:00,  1.62s/it, loss=0.843]\n",
      "                                                                                 \r"
     ]
    },
    {
     "name": "stdout",
     "output_type": "stream",
     "text": [
      "Validation Loss: 0.9027\n"
     ]
    },
    {
     "name": "stderr",
     "output_type": "stream",
     "text": [
      "Epoch 9/40: 100%|██████████| 3/3 [00:04<00:00,  1.55s/it, loss=0.856]\n",
      "                                                                                 \r"
     ]
    },
    {
     "name": "stdout",
     "output_type": "stream",
     "text": [
      "Validation Loss: 0.8631\n"
     ]
    },
    {
     "name": "stderr",
     "output_type": "stream",
     "text": [
      "Epoch 10/40: 100%|██████████| 3/3 [00:04<00:00,  1.55s/it, loss=0.831]\n",
      "                                                                                  \r"
     ]
    },
    {
     "name": "stdout",
     "output_type": "stream",
     "text": [
      "Validation Loss: 0.8464\n"
     ]
    },
    {
     "name": "stderr",
     "output_type": "stream",
     "text": [
      "Epoch 11/40: 100%|██████████| 3/3 [00:04<00:00,  1.58s/it, loss=0.822]       \n",
      "                                                                                  \r"
     ]
    },
    {
     "name": "stdout",
     "output_type": "stream",
     "text": [
      "Validation Loss: 0.8687\n"
     ]
    },
    {
     "name": "stderr",
     "output_type": "stream",
     "text": [
      "Epoch 12/40: 100%|██████████| 3/3 [00:04<00:00,  1.53s/it, loss=0.814]\n",
      "                                                                                  \r"
     ]
    },
    {
     "name": "stdout",
     "output_type": "stream",
     "text": [
      "Validation Loss: 0.8617\n"
     ]
    },
    {
     "name": "stderr",
     "output_type": "stream",
     "text": [
      "Epoch 13/40: 100%|██████████| 3/3 [00:04<00:00,  1.51s/it, loss=0.825]\n",
      "                                                                                  \r"
     ]
    },
    {
     "name": "stdout",
     "output_type": "stream",
     "text": [
      "Validation Loss: 0.8263\n"
     ]
    },
    {
     "name": "stderr",
     "output_type": "stream",
     "text": [
      "Epoch 14/40: 100%|██████████| 3/3 [00:04<00:00,  1.53s/it, loss=0.779]\n",
      "                                                                                  \r"
     ]
    },
    {
     "name": "stdout",
     "output_type": "stream",
     "text": [
      "Validation Loss: 0.8430\n"
     ]
    },
    {
     "name": "stderr",
     "output_type": "stream",
     "text": [
      "Epoch 15/40: 100%|██████████| 3/3 [00:04<00:00,  1.59s/it, loss=0.802]\n",
      "                                                                                  \r"
     ]
    },
    {
     "name": "stdout",
     "output_type": "stream",
     "text": [
      "Validation Loss: 0.8139\n"
     ]
    },
    {
     "name": "stderr",
     "output_type": "stream",
     "text": [
      "Epoch 16/40: 100%|██████████| 3/3 [00:04<00:00,  1.58s/it, loss=0.814]\n",
      "                                                                                  \r"
     ]
    },
    {
     "name": "stdout",
     "output_type": "stream",
     "text": [
      "Validation Loss: 0.8506\n"
     ]
    },
    {
     "name": "stderr",
     "output_type": "stream",
     "text": [
      "Epoch 17/40: 100%|██████████| 3/3 [00:04<00:00,  1.55s/it, loss=0.781]\n",
      "                                                                                  \r"
     ]
    },
    {
     "name": "stdout",
     "output_type": "stream",
     "text": [
      "Validation Loss: 0.8457\n"
     ]
    },
    {
     "name": "stderr",
     "output_type": "stream",
     "text": [
      "Epoch 18/40: 100%|██████████| 3/3 [00:04<00:00,  1.56s/it, loss=0.817]\n",
      "                                                                                  \r"
     ]
    },
    {
     "name": "stdout",
     "output_type": "stream",
     "text": [
      "Validation Loss: 0.8094\n"
     ]
    },
    {
     "name": "stderr",
     "output_type": "stream",
     "text": [
      "Epoch 19/40: 100%|██████████| 3/3 [00:04<00:00,  1.55s/it, loss=0.839]\n",
      "                                                                                  \r"
     ]
    },
    {
     "name": "stdout",
     "output_type": "stream",
     "text": [
      "Validation Loss: 0.8847\n"
     ]
    },
    {
     "name": "stderr",
     "output_type": "stream",
     "text": [
      "Epoch 20/40: 100%|██████████| 3/3 [00:04<00:00,  1.58s/it, loss=0.84] \n",
      "                                                                                  \r"
     ]
    },
    {
     "name": "stdout",
     "output_type": "stream",
     "text": [
      "Validation Loss: 0.8834\n"
     ]
    },
    {
     "name": "stderr",
     "output_type": "stream",
     "text": [
      "Epoch 21/40: 100%|██████████| 3/3 [00:05<00:00,  1.67s/it, loss=0.822]       \n",
      "                                                                                  \r"
     ]
    },
    {
     "name": "stdout",
     "output_type": "stream",
     "text": [
      "Validation Loss: 0.8235\n"
     ]
    },
    {
     "name": "stderr",
     "output_type": "stream",
     "text": [
      "Epoch 22/40: 100%|██████████| 3/3 [00:04<00:00,  1.63s/it, loss=0.805]\n",
      "                                                                                  \r"
     ]
    },
    {
     "name": "stdout",
     "output_type": "stream",
     "text": [
      "Validation Loss: 0.8426\n"
     ]
    },
    {
     "name": "stderr",
     "output_type": "stream",
     "text": [
      "Epoch 23/40: 100%|██████████| 3/3 [00:05<00:00,  1.74s/it, loss=0.807]\n",
      "                                                                                  \r"
     ]
    },
    {
     "name": "stdout",
     "output_type": "stream",
     "text": [
      "Validation Loss: 0.8722\n"
     ]
    },
    {
     "name": "stderr",
     "output_type": "stream",
     "text": [
      "Epoch 24/40: 100%|██████████| 3/3 [00:05<00:00,  1.70s/it, loss=0.789]\n",
      "                                                                                 \r"
     ]
    },
    {
     "name": "stdout",
     "output_type": "stream",
     "text": [
      "Validation Loss: 0.8502\n"
     ]
    },
    {
     "name": "stderr",
     "output_type": "stream",
     "text": [
      "Epoch 25/40: 100%|██████████| 3/3 [00:04<00:00,  1.65s/it, loss=0.818]\n",
      "                                                                                  \r"
     ]
    },
    {
     "name": "stdout",
     "output_type": "stream",
     "text": [
      "Validation Loss: 0.8025\n"
     ]
    },
    {
     "name": "stderr",
     "output_type": "stream",
     "text": [
      "Epoch 26/40: 100%|██████████| 3/3 [00:04<00:00,  1.59s/it, loss=0.817]\n",
      "                                                                                  \r"
     ]
    },
    {
     "name": "stdout",
     "output_type": "stream",
     "text": [
      "Validation Loss: 0.8007\n"
     ]
    },
    {
     "name": "stderr",
     "output_type": "stream",
     "text": [
      "Epoch 27/40: 100%|██████████| 3/3 [00:04<00:00,  1.66s/it, loss=0.801]\n",
      "                                                                                  \r"
     ]
    },
    {
     "name": "stdout",
     "output_type": "stream",
     "text": [
      "Validation Loss: 0.8170\n"
     ]
    },
    {
     "name": "stderr",
     "output_type": "stream",
     "text": [
      "Epoch 28/40: 100%|██████████| 3/3 [00:04<00:00,  1.60s/it, loss=0.801]\n",
      "                                                                                  \r"
     ]
    },
    {
     "name": "stdout",
     "output_type": "stream",
     "text": [
      "Validation Loss: 0.8146\n"
     ]
    },
    {
     "name": "stderr",
     "output_type": "stream",
     "text": [
      "Epoch 29/40: 100%|██████████| 3/3 [00:04<00:00,  1.66s/it, loss=0.791]\n",
      "                                                                                 \r"
     ]
    },
    {
     "name": "stdout",
     "output_type": "stream",
     "text": [
      "Validation Loss: 0.8205\n"
     ]
    },
    {
     "name": "stderr",
     "output_type": "stream",
     "text": [
      "Epoch 30/40: 100%|██████████| 3/3 [00:04<00:00,  1.64s/it, loss=0.8]  \n",
      "                                                                                  \r"
     ]
    },
    {
     "name": "stdout",
     "output_type": "stream",
     "text": [
      "Validation Loss: 0.8261\n"
     ]
    },
    {
     "name": "stderr",
     "output_type": "stream",
     "text": [
      "Epoch 31/40: 100%|██████████| 3/3 [00:04<00:00,  1.61s/it, loss=0.777]       \n",
      "                                                                                  \r"
     ]
    },
    {
     "name": "stdout",
     "output_type": "stream",
     "text": [
      "Validation Loss: 0.8251\n"
     ]
    },
    {
     "name": "stderr",
     "output_type": "stream",
     "text": [
      "Epoch 32/40: 100%|██████████| 3/3 [00:05<00:00,  1.69s/it, loss=0.808]\n",
      "                                                                                  \r"
     ]
    },
    {
     "name": "stdout",
     "output_type": "stream",
     "text": [
      "Validation Loss: 0.8228\n"
     ]
    },
    {
     "name": "stderr",
     "output_type": "stream",
     "text": [
      "Epoch 33/40: 100%|██████████| 3/3 [00:04<00:00,  1.59s/it, loss=0.792]\n",
      "                                                                                  \r"
     ]
    },
    {
     "name": "stdout",
     "output_type": "stream",
     "text": [
      "Validation Loss: 0.8252\n"
     ]
    },
    {
     "name": "stderr",
     "output_type": "stream",
     "text": [
      "Epoch 34/40: 100%|██████████| 3/3 [00:04<00:00,  1.56s/it, loss=0.808]\n",
      "                                                                                  \r"
     ]
    },
    {
     "name": "stdout",
     "output_type": "stream",
     "text": [
      "Validation Loss: 0.8273\n"
     ]
    },
    {
     "name": "stderr",
     "output_type": "stream",
     "text": [
      "Epoch 35/40: 100%|██████████| 3/3 [00:05<00:00,  1.68s/it, loss=0.85] \n",
      "                                                                                  \r"
     ]
    },
    {
     "name": "stdout",
     "output_type": "stream",
     "text": [
      "Validation Loss: 0.8243\n"
     ]
    },
    {
     "name": "stderr",
     "output_type": "stream",
     "text": [
      "Epoch 36/40: 100%|██████████| 3/3 [00:05<00:00,  1.68s/it, loss=0.79] \n",
      "                                                                                  \r"
     ]
    },
    {
     "name": "stdout",
     "output_type": "stream",
     "text": [
      "Validation Loss: 0.8266\n"
     ]
    },
    {
     "name": "stderr",
     "output_type": "stream",
     "text": [
      "Epoch 37/40: 100%|██████████| 3/3 [00:04<00:00,  1.65s/it, loss=0.778]\n",
      "                                                                                  \r"
     ]
    },
    {
     "name": "stdout",
     "output_type": "stream",
     "text": [
      "Validation Loss: 0.8249\n"
     ]
    },
    {
     "name": "stderr",
     "output_type": "stream",
     "text": [
      "Epoch 38/40: 100%|██████████| 3/3 [00:04<00:00,  1.65s/it, loss=0.807]\n",
      "                                                                                  \r"
     ]
    },
    {
     "name": "stdout",
     "output_type": "stream",
     "text": [
      "Validation Loss: 0.8193\n"
     ]
    },
    {
     "name": "stderr",
     "output_type": "stream",
     "text": [
      "Epoch 39/40: 100%|██████████| 3/3 [00:05<00:00,  1.68s/it, loss=0.797]\n",
      "                                                                                  \r"
     ]
    },
    {
     "name": "stdout",
     "output_type": "stream",
     "text": [
      "Validation Loss: 0.8331\n"
     ]
    },
    {
     "name": "stderr",
     "output_type": "stream",
     "text": [
      "Epoch 40/40: 100%|██████████| 3/3 [00:04<00:00,  1.63s/it, loss=0.814]\n",
      "                                                                                  \r"
     ]
    },
    {
     "name": "stdout",
     "output_type": "stream",
     "text": [
      "Validation Loss: 0.8413\n"
     ]
    },
    {
     "name": "stderr",
     "output_type": "stream",
     "text": [
      "                                                                             \r"
     ]
    }
   ],
   "source": [
    "from CSANet.CSANet.networks.vit_seg_modeling import VisionTransformer as ViT_seg\n",
    "from CSANet.CSANet.networks.vit_seg_modeling import CONFIGS as CONFIGS_ViT_seg\n",
    "import torch.optim as optim\n",
    "from tqdm import tqdm\n",
    "import numpy as np\n",
    "import torch\n",
    "from monai.losses import TverskyLoss\n",
    "\n",
    "# Model Configuration\n",
    "vit_name = 'R50-ViT-B_16'\n",
    "config_vit = CONFIGS_ViT_seg[vit_name]\n",
    "config_vit.n_classes = 7  # Your number of classes\n",
    "config_vit.n_skip = 3\n",
    "img_size = 96  # Match your patch size\n",
    "vit_patches_size = 16\n",
    "\n",
    "# Initialize model\n",
    "config_vit.patches.grid = (int(img_size / vit_patches_size), int(img_size / vit_patches_size))\n",
    "model = ViT_seg(config_vit, img_size=img_size, num_classes=config_vit.n_classes)\n",
    "model.cuda()\n",
    "\n",
    "# Load pretrained weights\n",
    "model.load_from(weights=np.load(config_vit.real_pretrained_path, allow_pickle=True))\n",
    "\n",
    "# Training setup\n",
    "num_epochs = 40\n",
    "optimizer = optim.AdamW(model.parameters(), lr=0.001)\n",
    "# TverskyLoss 설정\n",
    "criterion = TverskyLoss(\n",
    "    alpha=0.3,  # FP에 대한 가중치\n",
    "    beta=0.7,   # FN에 대한 가중치\n",
    "    include_background=True,\n",
    "    softmax=True\n",
    ")\n",
    "\n",
    "\n",
    "# Training loop 수정\n",
    "for epoch in range(num_epochs):\n",
    "    model.train()\n",
    "    epoch_loss = 0\n",
    "    with tqdm(train_loader, desc=f'Epoch {epoch+1}/{num_epochs}') as pbar:\n",
    "        for batch_data in pbar:\n",
    "            images = batch_data['image'].cuda()\n",
    "            labels = batch_data['label'].cuda()\n",
    "            \n",
    "            # 차원 분리 및 reshape\n",
    "            # print(images.shape)\n",
    "            if images.shape[2] == 96:\n",
    "                images = images.permute(0, 1, 4, 2, 3)\n",
    "                labels = labels.permute(0, 1, 4, 2, 3)\n",
    "                # print(images.shape)\n",
    "            # prev_image, image, next_image = torch.split(images, 1, dim=2)\n",
    "            center = images.shape[2] // 2\n",
    "            prev_image = images[:, :, 0:center, :, :]\n",
    "            image = images[:, :, center:center+1, :, :]\n",
    "            next_image = images[:, :, center+1:, :, :]\n",
    "            \n",
    "            # 필요한 차원 형태로 변환\n",
    "            prev_image = prev_image.squeeze(2)  # [B, C, H, W]\n",
    "            image = image.squeeze(2)\n",
    "            next_image = next_image.squeeze(2)\n",
    "            \n",
    "            # 라벨 처리\n",
    "            #labels = labels[:, :, center:center+1, :, :]\n",
    "            #labels = labels.squeeze(2)  # [B, 1, H, W]\n",
    "            labels = labels.squeeze(1)  # [B, H, W]\n",
    "\n",
    "            optimizer.zero_grad()\n",
    "            outputs = model(prev_image, image, next_image)\n",
    "\n",
    "            # 라벨을 long으로 변환하고 one-hot encoding\n",
    "            labels = labels.long()\n",
    "            labels_onehot = torch.nn.functional.one_hot(labels, num_classes=config_vit.n_classes)  # [B, H, W, C]\n",
    "            # 차원 순서 변경: [B, H, W, C] -> [B, C, H, W]\n",
    "            labels_onehot = labels_onehot.permute(0, 3, 1, 2).float()\n",
    "            \n",
    "            loss = criterion(outputs, labels_onehot)\n",
    "            loss.backward()\n",
    "            optimizer.step()\n",
    "            \n",
    "            epoch_loss += loss.item()\n",
    "            pbar.set_postfix({'loss': loss.item()})\n",
    "    \n",
    "    # Training loop는 그대로 유지\n",
    "\n",
    "    # Training loop 내부의 validation과 saving 코드 수정\n",
    "    # Validation\n",
    "    if (epoch + 1) % 1 == 0:  # Validate every 5 epochs\n",
    "        model.eval()\n",
    "        val_loss = 0\n",
    "        with torch.no_grad():\n",
    "            val_loop = tqdm(val_loader, desc=f'Validation Epoch {epoch+1}', leave=False)\n",
    "            for val_data in val_loop:\n",
    "                val_images = val_data['image'].cuda()\n",
    "                val_labels = val_data['label'].cuda()\n",
    "                \n",
    "                # Training과 동일한 방식으로 데이터 처리\n",
    "                val_prev, val_curr, val_next = torch.split(val_images, 1, dim=2)\n",
    "                val_prev = val_prev.squeeze(2)\n",
    "                val_curr = val_curr.squeeze(2)\n",
    "                val_next = val_next.squeeze(2)\n",
    "                \n",
    "                val_labels = val_labels.squeeze(1)\n",
    "                val_labels = val_labels.long()\n",
    "                \n",
    "                val_outputs = model(val_prev, val_curr, val_next)\n",
    "                \n",
    "                val_labels_onehot = torch.nn.functional.one_hot(val_labels, num_classes=config_vit.n_classes)\n",
    "                val_labels_onehot = val_labels_onehot.permute(0, 3, 1, 2).float()\n",
    "                \n",
    "                current_loss = criterion(val_outputs, val_labels_onehot).item()\n",
    "                val_loss += current_loss\n",
    "                val_loop.set_postfix({'val_loss': current_loss})\n",
    "        ''\n",
    "        print(f'Validation Loss: {val_loss/len(val_loader):.4f}')\n",
    "        \n",
    "    # 체크포인트 저장\n",
    "    if (epoch + 1) % 10 == 0:  # Save every 10 epochs\n",
    "        # 체크포인트 디렉토리 생성\n",
    "        checkpoint_dir = Path(\"./model_checkpoint\")\n",
    "        checkpoint_dir.mkdir(parents=True, exist_ok=True)\n",
    "        \n",
    "        with tqdm(total=1, desc=f'Saving checkpoint for epoch {epoch+1}', leave=False) as pbar:\n",
    "            torch.save({\n",
    "                'epoch': epoch,\n",
    "                'model_state_dict': model.state_dict(),\n",
    "                'optimizer_state_dict': optimizer.state_dict(),\n",
    "                'loss': epoch_loss,\n",
    "            }, checkpoint_dir / f'checkpoint_epoch_{epoch+1}.pth')\n",
    "            pbar.update(1)\n"
   ]
  }
 ],
 "metadata": {
  "kernelspec": {
   "display_name": "UM",
   "language": "python",
   "name": "python3"
  },
  "language_info": {
   "codemirror_mode": {
    "name": "ipython",
    "version": 3
   },
   "file_extension": ".py",
   "mimetype": "text/x-python",
   "name": "python",
   "nbconvert_exporter": "python",
   "pygments_lexer": "ipython3",
   "version": "3.12.7"
  }
 },
 "nbformat": 4,
 "nbformat_minor": 2
}
