{
 "cells": [
  {
   "cell_type": "code",
   "execution_count": 1,
   "metadata": {},
   "outputs": [],
   "source": [
    "\n",
    "# from pathlib import Path\n",
    "# import zarr\n",
    "\n",
    "# def find_all_zarr_files():\n",
    "#     \"\"\"각 실험 디렉토리의 모든 zarr 파일 찾기\"\"\"\n",
    "#     base_path = Path('./kaggle/input/czii-cryo-et-object-identification/train')\n",
    "#     experiments = {}\n",
    "    \n",
    "#     for exp_dir in base_path.glob(\"**/VoxelSpacing10.000\"):\n",
    "#         exp_name = exp_dir.parent.name  # 실험 이름 (예: TS_5_4)\n",
    "#         zarr_files = list(exp_dir.glob(\"*.zarr\"))\n",
    "        \n",
    "#         if zarr_files:\n",
    "#             experiments[exp_name] = {\n",
    "#                 'path': str(exp_dir),\n",
    "#                 'files': [f.name for f in zarr_files]\n",
    "#             }\n",
    "    \n",
    "#     return experiments\n",
    "\n",
    "# def test_all_zarr_files():\n",
    "#     \"\"\"모든 실험의 zarr 파일 정보 출력\"\"\"\n",
    "#     experiments = find_all_zarr_files()\n",
    "    \n",
    "#     for exp_name, info in experiments.items():\n",
    "#         print(f\"\\n실험: {exp_name}\")\n",
    "#         print(f\"경로: {info['path']}\")\n",
    "#         print(\"zarr 파일들:\")\n",
    "#         for zarr_file in info['files']:\n",
    "#             zarr_path = Path(info['path']) / zarr_file\n",
    "#             try:\n",
    "#                 root = zarr.open(str(zarr_path), mode='r')\n",
    "#                 sample = root[0]\n",
    "#                 print(f\"- {zarr_file}: shape={sample.shape}\")\n",
    "#             except Exception as e:\n",
    "#                 print(f\"- {zarr_file}: 오류 발생 ({str(e)})\")\n",
    "\n",
    "# if __name__ == \"__main__\":\n",
    "#     test_all_zarr_files()"
   ]
  },
  {
   "cell_type": "code",
   "execution_count": 2,
   "metadata": {},
   "outputs": [
    {
     "name": "stderr",
     "output_type": "stream",
     "text": [
      "c:\\Users\\pook0\\.conda\\envs\\UM\\Lib\\site-packages\\tqdm\\auto.py:21: TqdmWarning: IProgress not found. Please update jupyter and ipywidgets. See https://ipywidgets.readthedocs.io/en/stable/user_install.html\n",
      "  from .autonotebook import tqdm as notebook_tqdm\n"
     ]
    },
    {
     "name": "stdout",
     "output_type": "stream",
     "text": [
      "이미지 shape: torch.Size([8, 1, 3, 126, 126])\n",
      "라벨 shape: torch.Size([8, 1, 126, 126])\n",
      "Crop 정보: {'z_start': tensor([91, 91, 91, 91, 91, 91, 91, 91]), 'z_center': tensor([92, 92, 92, 92, 92, 92, 92, 92]), 'y_start': tensor([252, 252, 252, 252, 252, 252, 252, 252]), 'x_start': tensor([252, 252, 252, 252, 252, 252, 252, 252]), 'crop_size': [tensor([126, 126, 126, 126, 126, 126, 126, 126]), tensor([126, 126, 126, 126, 126, 126, 126, 126])], 'original_shape': [tensor([184, 184, 184, 184, 184, 184, 184, 184]), tensor([630, 630, 630, 630, 630, 630, 630, 630]), tensor([630, 630, 630, 630, 630, 630, 630, 630])], 'file_name': ['ctfdeconvolved_TS_6_6_image', 'isonetcorrected_TS_6_4_image', 'denoised_TS_73_6_image', 'isonetcorrected_TS_86_3_image', 'denoised_TS_6_6_image', 'wbp_TS_73_6_image', 'denoised_TS_6_4_image', 'wbp_TS_6_4_image']}\n"
     ]
    }
   ],
   "source": [
    "from pathlib import Path\n",
    "import numpy as np\n",
    "import torch\n",
    "from torch.utils.data import Dataset, DataLoader\n",
    "from typing import Dict, List, Tuple\n",
    "from monai.transforms import (\n",
    "    Compose,\n",
    "    EnsureChannelFirstd,\n",
    "    NormalizeIntensityd\n",
    ")\n",
    "\n",
    "class CryoET_2_5D_Dataset(Dataset):\n",
    "    def __init__(self, \n",
    "                 data_dir: str, \n",
    "                 mode: str = 'train',\n",
    "                 slice_depth: int = 3,\n",
    "                 crop_size: Tuple[int, int] = (96, 96),\n",
    "                 transform = None):\n",
    "        \"\"\"\n",
    "        Args:\n",
    "            data_dir: 데이터셋 기본 경로\n",
    "            mode: 'train' 또는 'val'\n",
    "            slice_depth: 중심 기준 슬라이스 수 (항상 홀수)\n",
    "            crop_size: (height, width) crop 크기\n",
    "            transform: MONAI transform\n",
    "        \"\"\"\n",
    "        self.data_dir = Path(data_dir) / mode\n",
    "        self.slice_depth = slice_depth\n",
    "        self.crop_size = crop_size\n",
    "        self.transform = transform\n",
    "        self.pad_size = slice_depth // 2\n",
    "        \n",
    "        # 이미지와 라벨 파일 리스트\n",
    "        self.image_files = sorted(list((self.data_dir / 'images').glob('*.npy')))\n",
    "        self.label_files = sorted(list((self.data_dir / 'labels').glob('*.npy')))\n",
    "        \n",
    "        assert len(self.image_files) == len(self.label_files), \"이미지와 라벨 수가 다릅니다\"\n",
    "        \n",
    "    def __len__(self):\n",
    "        return len(self.image_files)\n",
    "        \n",
    "    def __getitem__(self, idx) -> Dict:\n",
    "        # 이미지와 라벨 로드\n",
    "        image = np.load(self.image_files[idx])  # (D, H, W)\n",
    "        label = np.load(self.label_files[idx])  # (D, H, W)\n",
    "        \n",
    "        # 원본 shape 저장\n",
    "        original_shape = image.shape\n",
    "        \n",
    "        # 중심 슬라이스 선택\n",
    "        center_idx = image.shape[0] // 2\n",
    "        start_idx = center_idx - self.pad_size\n",
    "        end_idx = center_idx + self.pad_size + 1\n",
    "        \n",
    "        # 패딩 처리\n",
    "        if start_idx < 0 or end_idx > image.shape[0]:\n",
    "            padded_image = np.pad(\n",
    "                image,\n",
    "                ((self.pad_size, self.pad_size), (0, 0), (0, 0)),\n",
    "                mode='edge'\n",
    "            )\n",
    "            start_idx += self.pad_size\n",
    "            end_idx += self.pad_size\n",
    "            slices = padded_image[start_idx:end_idx]\n",
    "        else:\n",
    "            slices = image[start_idx:end_idx]\n",
    "        \n",
    "        # 중심 슬라이스의 라벨만 사용\n",
    "        center_label = label[center_idx]\n",
    "        \n",
    "        # 중앙 crop 좌표 계산\n",
    "        start_h = (image.shape[1] - self.crop_size[0]) // 2\n",
    "        start_w = (image.shape[2] - self.crop_size[1]) // 2\n",
    "        \n",
    "        # crop 적용\n",
    "        slices_cropped = slices[:, \n",
    "                              start_h:start_h + self.crop_size[0], \n",
    "                              start_w:start_w + self.crop_size[1]]\n",
    "        label_cropped = center_label[start_h:start_h + self.crop_size[0],\n",
    "                                   start_w:start_w + self.crop_size[1]]\n",
    "        \n",
    "        data_dict = {\n",
    "            'image': np.array(slices_cropped)[None, ...],  # (1, D, H, W)\n",
    "            'label': np.array(label_cropped)[None, ...],   # (1, H, W)\n",
    "            'crop_info': {\n",
    "                'z_start': start_idx,\n",
    "                'z_center': center_idx,\n",
    "                'y_start': start_h,\n",
    "                'x_start': start_w,\n",
    "                'crop_size': self.crop_size,\n",
    "                'original_shape': original_shape,\n",
    "                'file_name': self.image_files[idx].stem\n",
    "            }\n",
    "        }\n",
    "        \n",
    "        if self.transform:\n",
    "            data_dict = self.transform(data_dict)\n",
    "            \n",
    "        return data_dict\n",
    "\n",
    "# Transform 설정\n",
    "train_transforms = Compose([\n",
    "    EnsureChannelFirstd(\n",
    "        keys=['image', 'label'],\n",
    "        channel_dim=0,\n",
    "        allow_missing_keys=True\n",
    "    ),\n",
    "    NormalizeIntensityd(\n",
    "        keys=['image'],\n",
    "        allow_missing_keys=True\n",
    "    )\n",
    "])\n",
    "\n",
    "def create_dataloaders(data_dir: str, batch_size: int = 8, crop_size: int =96):\n",
    "    train_ds = CryoET_2_5D_Dataset(\n",
    "        data_dir=data_dir,\n",
    "        mode='train',\n",
    "        transform=train_transforms,\n",
    "        slice_depth=3,\n",
    "        crop_size=(crop_size, crop_size)\n",
    "    )\n",
    "    \n",
    "    val_ds = CryoET_2_5D_Dataset(\n",
    "        data_dir=data_dir,\n",
    "        mode='val',\n",
    "        transform=None,\n",
    "        slice_depth=3,\n",
    "        crop_size=(crop_size, crop_size)\n",
    "    )\n",
    "    \n",
    "    train_loader = DataLoader(\n",
    "        train_ds, \n",
    "        batch_size=batch_size,\n",
    "        shuffle=True,\n",
    "        num_workers=0,\n",
    "        pin_memory=torch.cuda.is_available()\n",
    "    )\n",
    "    \n",
    "    val_loader = DataLoader(\n",
    "        val_ds,\n",
    "        batch_size=batch_size,\n",
    "        num_workers=0,\n",
    "        pin_memory=torch.cuda.is_available()\n",
    "    )\n",
    "    \n",
    "    return train_loader, val_loader\n",
    "\n",
    "# 테스트\n",
    "if __name__ == \"__main__\":\n",
    "    data_dir = \"./datasets\"\n",
    "    crop_size = 126\n",
    "    batch_size = 8\n",
    "    train_loader, val_loader = create_dataloaders(data_dir, batch_size = batch_size, crop_size = crop_size)\n",
    "    \n",
    "    # 데이터 확인\n",
    "    batch = next(iter(train_loader))\n",
    "    print(\"이미지 shape:\", batch['image'].shape)\n",
    "    print(\"라벨 shape:\", batch['label'].shape)\n",
    "    print(\"Crop 정보:\", batch['crop_info'])"
   ]
  },
  {
   "cell_type": "code",
   "execution_count": null,
   "metadata": {},
   "outputs": [
    {
     "name": "stdout",
     "output_type": "stream",
     "text": [
      "load_pretrained: grid-size from 14 to 4\n"
     ]
    },
    {
     "name": "stderr",
     "output_type": "stream",
     "text": [
      "Epoch 1/100: 100%|██████████| 3/3 [00:05<00:00,  1.68s/it, loss=0.959]\n",
      "                                                                                 \r"
     ]
    },
    {
     "name": "stdout",
     "output_type": "stream",
     "text": [
      "Validation Loss: 0.9560\n",
      "Best model saved with validation loss: 0.9560\n"
     ]
    },
    {
     "name": "stderr",
     "output_type": "stream",
     "text": [
      "Epoch 2/100: 100%|██████████| 3/3 [00:04<00:00,  1.59s/it, loss=0.944]\n",
      "                                                                                 \r"
     ]
    },
    {
     "name": "stdout",
     "output_type": "stream",
     "text": [
      "Validation Loss: 0.9543\n",
      "Best model saved with validation loss: 0.9543\n"
     ]
    },
    {
     "name": "stderr",
     "output_type": "stream",
     "text": [
      "Epoch 3/100: 100%|██████████| 3/3 [00:04<00:00,  1.51s/it, loss=0.925]\n",
      "                                                                                \r"
     ]
    },
    {
     "name": "stdout",
     "output_type": "stream",
     "text": [
      "Validation Loss: 0.9297\n",
      "Best model saved with validation loss: 0.9297\n"
     ]
    },
    {
     "name": "stderr",
     "output_type": "stream",
     "text": [
      "Epoch 4/100: 100%|██████████| 3/3 [00:04<00:00,  1.52s/it, loss=0.903]\n",
      "                                                                                 \r"
     ]
    },
    {
     "name": "stdout",
     "output_type": "stream",
     "text": [
      "Validation Loss: 0.9088\n",
      "Best model saved with validation loss: 0.9088\n"
     ]
    },
    {
     "name": "stderr",
     "output_type": "stream",
     "text": [
      "Epoch 5/100: 100%|██████████| 3/3 [00:04<00:00,  1.54s/it, loss=0.893]\n",
      "                                                                                 \r"
     ]
    },
    {
     "name": "stdout",
     "output_type": "stream",
     "text": [
      "Validation Loss: 0.9041\n",
      "Best model saved with validation loss: 0.9041\n"
     ]
    },
    {
     "name": "stderr",
     "output_type": "stream",
     "text": [
      "Epoch 6/100: 100%|██████████| 3/3 [00:04<00:00,  1.55s/it, loss=0.878]\n",
      "                                                                                 \r"
     ]
    },
    {
     "name": "stdout",
     "output_type": "stream",
     "text": [
      "Validation Loss: 0.8986\n",
      "Best model saved with validation loss: 0.8986\n"
     ]
    },
    {
     "name": "stderr",
     "output_type": "stream",
     "text": [
      "Epoch 7/100: 100%|██████████| 3/3 [00:04<00:00,  1.56s/it, loss=0.863]\n",
      "                                                                                 \r"
     ]
    },
    {
     "name": "stdout",
     "output_type": "stream",
     "text": [
      "Validation Loss: 0.8793\n",
      "Best model saved with validation loss: 0.8793\n"
     ]
    },
    {
     "name": "stderr",
     "output_type": "stream",
     "text": [
      "Epoch 8/100: 100%|██████████| 3/3 [00:04<00:00,  1.60s/it, loss=0.852]\n",
      "                                                                                 \r"
     ]
    },
    {
     "name": "stdout",
     "output_type": "stream",
     "text": [
      "Validation Loss: 0.8632\n",
      "Best model saved with validation loss: 0.8632\n"
     ]
    },
    {
     "name": "stderr",
     "output_type": "stream",
     "text": [
      "Epoch 9/100: 100%|██████████| 3/3 [00:04<00:00,  1.47s/it, loss=0.856]\n",
      "                                                                                 \r"
     ]
    },
    {
     "name": "stdout",
     "output_type": "stream",
     "text": [
      "Validation Loss: 0.8544\n",
      "Best model saved with validation loss: 0.8544\n"
     ]
    },
    {
     "name": "stderr",
     "output_type": "stream",
     "text": [
      "Epoch 10/100: 100%|██████████| 3/3 [00:04<00:00,  1.50s/it, loss=0.833]\n",
      "                                                                                  \r"
     ]
    },
    {
     "name": "stdout",
     "output_type": "stream",
     "text": [
      "Validation Loss: 0.8632\n"
     ]
    },
    {
     "name": "stderr",
     "output_type": "stream",
     "text": [
      "Epoch 11/100: 100%|██████████| 3/3 [00:04<00:00,  1.56s/it, loss=0.841]      \n",
      "                                                                                  \r"
     ]
    },
    {
     "name": "stdout",
     "output_type": "stream",
     "text": [
      "Validation Loss: 0.8509\n",
      "Best model saved with validation loss: 0.8509\n"
     ]
    },
    {
     "name": "stderr",
     "output_type": "stream",
     "text": [
      "Epoch 12/100: 100%|██████████| 3/3 [00:04<00:00,  1.51s/it, loss=0.838]\n",
      "                                                                                 \r"
     ]
    },
    {
     "name": "stdout",
     "output_type": "stream",
     "text": [
      "Validation Loss: 0.8804\n"
     ]
    },
    {
     "name": "stderr",
     "output_type": "stream",
     "text": [
      "Epoch 13/100: 100%|██████████| 3/3 [00:04<00:00,  1.53s/it, loss=0.837]\n",
      "                                                                                  \r"
     ]
    },
    {
     "name": "stdout",
     "output_type": "stream",
     "text": [
      "Validation Loss: 0.8724\n"
     ]
    },
    {
     "name": "stderr",
     "output_type": "stream",
     "text": [
      "Epoch 14/100: 100%|██████████| 3/3 [00:04<00:00,  1.54s/it, loss=0.818]\n",
      "                                                                                  \r"
     ]
    },
    {
     "name": "stdout",
     "output_type": "stream",
     "text": [
      "Validation Loss: 0.8564\n"
     ]
    },
    {
     "name": "stderr",
     "output_type": "stream",
     "text": [
      "Epoch 15/100: 100%|██████████| 3/3 [00:04<00:00,  1.46s/it, loss=0.849]\n",
      "                                                                                  \r"
     ]
    },
    {
     "name": "stdout",
     "output_type": "stream",
     "text": [
      "Validation Loss: 0.8645\n"
     ]
    },
    {
     "name": "stderr",
     "output_type": "stream",
     "text": [
      "Epoch 16/100: 100%|██████████| 3/3 [00:04<00:00,  1.47s/it, loss=0.831]\n",
      "                                                                                  \r"
     ]
    },
    {
     "name": "stdout",
     "output_type": "stream",
     "text": [
      "Validation Loss: 0.8522\n"
     ]
    },
    {
     "name": "stderr",
     "output_type": "stream",
     "text": [
      "Epoch 17/100: 100%|██████████| 3/3 [00:04<00:00,  1.51s/it, loss=0.829]\n",
      "                                                                                  \r"
     ]
    },
    {
     "name": "stdout",
     "output_type": "stream",
     "text": [
      "Validation Loss: 0.8646\n"
     ]
    },
    {
     "name": "stderr",
     "output_type": "stream",
     "text": [
      "Epoch 18/100: 100%|██████████| 3/3 [00:04<00:00,  1.51s/it, loss=0.83] \n",
      "                                                                                  \r"
     ]
    },
    {
     "name": "stdout",
     "output_type": "stream",
     "text": [
      "Validation Loss: 0.8777\n"
     ]
    },
    {
     "name": "stderr",
     "output_type": "stream",
     "text": [
      "Epoch 19/100: 100%|██████████| 3/3 [00:04<00:00,  1.50s/it, loss=0.814]\n",
      "                                                                                  \r"
     ]
    },
    {
     "name": "stdout",
     "output_type": "stream",
     "text": [
      "Validation Loss: 0.8717\n"
     ]
    },
    {
     "name": "stderr",
     "output_type": "stream",
     "text": [
      "Epoch 20/100: 100%|██████████| 3/3 [00:04<00:00,  1.48s/it, loss=0.797]\n",
      "                                                                                  \r"
     ]
    },
    {
     "name": "stdout",
     "output_type": "stream",
     "text": [
      "Validation Loss: 0.8641\n"
     ]
    },
    {
     "name": "stderr",
     "output_type": "stream",
     "text": [
      "Epoch 21/100: 100%|██████████| 3/3 [00:04<00:00,  1.53s/it, loss=0.813]      \n",
      "                                                                                  \r"
     ]
    },
    {
     "name": "stdout",
     "output_type": "stream",
     "text": [
      "Validation Loss: 0.8645\n"
     ]
    },
    {
     "name": "stderr",
     "output_type": "stream",
     "text": [
      "Epoch 22/100: 100%|██████████| 3/3 [00:04<00:00,  1.48s/it, loss=0.812]\n",
      "                                                                                  \r"
     ]
    },
    {
     "name": "stdout",
     "output_type": "stream",
     "text": [
      "Validation Loss: 0.8684\n"
     ]
    },
    {
     "name": "stderr",
     "output_type": "stream",
     "text": [
      "Epoch 23/100: 100%|██████████| 3/3 [00:04<00:00,  1.49s/it, loss=0.827]\n",
      "                                                                                  \r"
     ]
    },
    {
     "name": "stdout",
     "output_type": "stream",
     "text": [
      "Validation Loss: 0.8657\n"
     ]
    },
    {
     "name": "stderr",
     "output_type": "stream",
     "text": [
      "Epoch 24/100: 100%|██████████| 3/3 [00:04<00:00,  1.50s/it, loss=0.802]\n",
      "                                                                                  \r"
     ]
    },
    {
     "name": "stdout",
     "output_type": "stream",
     "text": [
      "Validation Loss: 0.8625\n"
     ]
    },
    {
     "name": "stderr",
     "output_type": "stream",
     "text": [
      "Epoch 25/100: 100%|██████████| 3/3 [00:04<00:00,  1.51s/it, loss=0.843]\n",
      "                                                                                  \r"
     ]
    },
    {
     "name": "stdout",
     "output_type": "stream",
     "text": [
      "Validation Loss: 0.8678\n"
     ]
    },
    {
     "name": "stderr",
     "output_type": "stream",
     "text": [
      "Epoch 26/100: 100%|██████████| 3/3 [00:04<00:00,  1.48s/it, loss=0.847]\n",
      "                                                                                  \r"
     ]
    },
    {
     "name": "stdout",
     "output_type": "stream",
     "text": [
      "Validation Loss: 0.8723\n"
     ]
    },
    {
     "name": "stderr",
     "output_type": "stream",
     "text": [
      "Epoch 27/100: 100%|██████████| 3/3 [00:04<00:00,  1.49s/it, loss=0.795]\n",
      "                                                                                  \r"
     ]
    },
    {
     "name": "stdout",
     "output_type": "stream",
     "text": [
      "Validation Loss: 0.8721\n"
     ]
    },
    {
     "name": "stderr",
     "output_type": "stream",
     "text": [
      "Epoch 28/100: 100%|██████████| 3/3 [00:04<00:00,  1.51s/it, loss=0.812]\n",
      "                                                                                  \r"
     ]
    },
    {
     "name": "stdout",
     "output_type": "stream",
     "text": [
      "Validation Loss: 0.8680\n"
     ]
    },
    {
     "name": "stderr",
     "output_type": "stream",
     "text": [
      "Epoch 29/100: 100%|██████████| 3/3 [00:04<00:00,  1.51s/it, loss=0.802]\n",
      "                                                                                  \r"
     ]
    },
    {
     "name": "stdout",
     "output_type": "stream",
     "text": [
      "Validation Loss: 0.8680\n"
     ]
    },
    {
     "name": "stderr",
     "output_type": "stream",
     "text": [
      "Epoch 30/100: 100%|██████████| 3/3 [00:04<00:00,  1.49s/it, loss=0.811]\n",
      "                                                                                 \r"
     ]
    },
    {
     "name": "stdout",
     "output_type": "stream",
     "text": [
      "Validation Loss: 0.8699\n"
     ]
    },
    {
     "name": "stderr",
     "output_type": "stream",
     "text": [
      "Epoch 31/100: 100%|██████████| 3/3 [00:04<00:00,  1.49s/it, loss=0.826]      \n",
      "                                                                                  \r"
     ]
    },
    {
     "name": "stdout",
     "output_type": "stream",
     "text": [
      "Validation Loss: 0.8687\n"
     ]
    },
    {
     "name": "stderr",
     "output_type": "stream",
     "text": [
      "Epoch 32/100: 100%|██████████| 3/3 [00:04<00:00,  1.49s/it, loss=0.81] \n",
      "                                                                                  \r"
     ]
    },
    {
     "name": "stdout",
     "output_type": "stream",
     "text": [
      "Validation Loss: 0.8653\n"
     ]
    },
    {
     "name": "stderr",
     "output_type": "stream",
     "text": [
      "Epoch 33/100: 100%|██████████| 3/3 [00:04<00:00,  1.48s/it, loss=0.808]\n",
      "                                                                                  \r"
     ]
    },
    {
     "name": "stdout",
     "output_type": "stream",
     "text": [
      "Validation Loss: 0.8641\n"
     ]
    },
    {
     "name": "stderr",
     "output_type": "stream",
     "text": [
      "Epoch 34/100: 100%|██████████| 3/3 [00:04<00:00,  1.49s/it, loss=0.825]\n",
      "                                                                                  \r"
     ]
    },
    {
     "name": "stdout",
     "output_type": "stream",
     "text": [
      "Validation Loss: 0.8631\n"
     ]
    },
    {
     "name": "stderr",
     "output_type": "stream",
     "text": [
      "Epoch 35/100: 100%|██████████| 3/3 [00:04<00:00,  1.52s/it, loss=0.826]\n",
      "                                                                                  \r"
     ]
    },
    {
     "name": "stdout",
     "output_type": "stream",
     "text": [
      "Validation Loss: 0.8627\n"
     ]
    },
    {
     "name": "stderr",
     "output_type": "stream",
     "text": [
      "Epoch 36/100: 100%|██████████| 3/3 [00:04<00:00,  1.45s/it, loss=0.808]\n",
      "                                                                                  \r"
     ]
    },
    {
     "name": "stdout",
     "output_type": "stream",
     "text": [
      "Validation Loss: 0.8626\n"
     ]
    },
    {
     "name": "stderr",
     "output_type": "stream",
     "text": [
      "Epoch 37/100: 100%|██████████| 3/3 [00:04<00:00,  1.50s/it, loss=0.809]\n",
      "                                                                                  \r"
     ]
    },
    {
     "name": "stdout",
     "output_type": "stream",
     "text": [
      "Validation Loss: 0.8622\n"
     ]
    },
    {
     "name": "stderr",
     "output_type": "stream",
     "text": [
      "Epoch 38/100: 100%|██████████| 3/3 [00:04<00:00,  1.52s/it, loss=0.809]\n",
      "                                                                                  \r"
     ]
    },
    {
     "name": "stdout",
     "output_type": "stream",
     "text": [
      "Validation Loss: 0.8627\n"
     ]
    },
    {
     "name": "stderr",
     "output_type": "stream",
     "text": [
      "Epoch 39/100: 100%|██████████| 3/3 [00:04<00:00,  1.50s/it, loss=0.825]\n",
      "                                                                                  \r"
     ]
    },
    {
     "name": "stdout",
     "output_type": "stream",
     "text": [
      "Validation Loss: 0.8623\n"
     ]
    },
    {
     "name": "stderr",
     "output_type": "stream",
     "text": [
      "Epoch 40/100: 100%|██████████| 3/3 [00:04<00:00,  1.49s/it, loss=0.808]\n",
      "                                                                                  \r"
     ]
    },
    {
     "name": "stdout",
     "output_type": "stream",
     "text": [
      "Validation Loss: 0.8610\n"
     ]
    },
    {
     "name": "stderr",
     "output_type": "stream",
     "text": [
      "Epoch 41/100: 100%|██████████| 3/3 [00:04<00:00,  1.58s/it, loss=0.842]      \n",
      "                                                                                  \r"
     ]
    },
    {
     "name": "stdout",
     "output_type": "stream",
     "text": [
      "Validation Loss: 0.8668\n"
     ]
    },
    {
     "name": "stderr",
     "output_type": "stream",
     "text": [
      "Epoch 42/100: 100%|██████████| 3/3 [00:04<00:00,  1.48s/it, loss=0.827]\n",
      "                                                                                  \r"
     ]
    },
    {
     "name": "stdout",
     "output_type": "stream",
     "text": [
      "Validation Loss: 0.8658\n"
     ]
    },
    {
     "name": "stderr",
     "output_type": "stream",
     "text": [
      "Epoch 43/100: 100%|██████████| 3/3 [00:04<00:00,  1.48s/it, loss=0.776]\n",
      "                                                                                  \r"
     ]
    },
    {
     "name": "stdout",
     "output_type": "stream",
     "text": [
      "Validation Loss: 0.8637\n"
     ]
    },
    {
     "name": "stderr",
     "output_type": "stream",
     "text": [
      "Epoch 44/100: 100%|██████████| 3/3 [00:04<00:00,  1.49s/it, loss=0.808]\n",
      "                                                                                  \r"
     ]
    },
    {
     "name": "stdout",
     "output_type": "stream",
     "text": [
      "Validation Loss: 0.8612\n"
     ]
    },
    {
     "name": "stderr",
     "output_type": "stream",
     "text": [
      "Epoch 45/100: 100%|██████████| 3/3 [00:04<00:00,  1.52s/it, loss=0.825]\n",
      "                                                                                 \r"
     ]
    },
    {
     "name": "stdout",
     "output_type": "stream",
     "text": [
      "Validation Loss: 0.8603\n"
     ]
    },
    {
     "name": "stderr",
     "output_type": "stream",
     "text": [
      "Epoch 46/100: 100%|██████████| 3/3 [00:04<00:00,  1.44s/it, loss=0.809]\n",
      "                                                                                  \r"
     ]
    },
    {
     "name": "stdout",
     "output_type": "stream",
     "text": [
      "Validation Loss: 0.8631\n"
     ]
    },
    {
     "name": "stderr",
     "output_type": "stream",
     "text": [
      "Epoch 47/100: 100%|██████████| 3/3 [00:04<00:00,  1.51s/it, loss=0.809]\n",
      "                                                                                  \r"
     ]
    },
    {
     "name": "stdout",
     "output_type": "stream",
     "text": [
      "Validation Loss: 0.8647\n"
     ]
    },
    {
     "name": "stderr",
     "output_type": "stream",
     "text": [
      "Epoch 48/100: 100%|██████████| 3/3 [00:04<00:00,  1.47s/it, loss=0.809]\n",
      "                                                                                  \r"
     ]
    },
    {
     "name": "stdout",
     "output_type": "stream",
     "text": [
      "Validation Loss: 0.8641\n"
     ]
    },
    {
     "name": "stderr",
     "output_type": "stream",
     "text": [
      "Epoch 49/100: 100%|██████████| 3/3 [00:04<00:00,  1.50s/it, loss=0.825]\n",
      "                                                                                  \r"
     ]
    },
    {
     "name": "stdout",
     "output_type": "stream",
     "text": [
      "Validation Loss: 0.8634\n"
     ]
    },
    {
     "name": "stderr",
     "output_type": "stream",
     "text": [
      "Epoch 50/100: 100%|██████████| 3/3 [00:04<00:00,  1.49s/it, loss=0.825]\n",
      "                                                                                  \r"
     ]
    },
    {
     "name": "stdout",
     "output_type": "stream",
     "text": [
      "Validation Loss: 0.8623\n"
     ]
    },
    {
     "name": "stderr",
     "output_type": "stream",
     "text": [
      "Epoch 51/100: 100%|██████████| 3/3 [00:04<00:00,  1.53s/it, loss=0.808]      \n",
      "                                                                                  \r"
     ]
    },
    {
     "name": "stdout",
     "output_type": "stream",
     "text": [
      "Validation Loss: 0.8627\n"
     ]
    },
    {
     "name": "stderr",
     "output_type": "stream",
     "text": [
      "Epoch 52/100: 100%|██████████| 3/3 [00:04<00:00,  1.48s/it, loss=0.859]\n",
      "                                                                                  \r"
     ]
    },
    {
     "name": "stdout",
     "output_type": "stream",
     "text": [
      "Validation Loss: 0.8652\n"
     ]
    },
    {
     "name": "stderr",
     "output_type": "stream",
     "text": [
      "Epoch 53/100: 100%|██████████| 3/3 [00:04<00:00,  1.52s/it, loss=0.792]\n",
      "                                                                                  \r"
     ]
    },
    {
     "name": "stdout",
     "output_type": "stream",
     "text": [
      "Validation Loss: 0.8677\n"
     ]
    },
    {
     "name": "stderr",
     "output_type": "stream",
     "text": [
      "Epoch 54/100: 100%|██████████| 3/3 [00:04<00:00,  1.46s/it, loss=0.808]\n",
      "                                                                                  \r"
     ]
    },
    {
     "name": "stdout",
     "output_type": "stream",
     "text": [
      "Validation Loss: 0.8670\n"
     ]
    },
    {
     "name": "stderr",
     "output_type": "stream",
     "text": [
      "Epoch 55/100: 100%|██████████| 3/3 [00:04<00:00,  1.51s/it, loss=0.808]\n",
      "                                                                                  \r"
     ]
    },
    {
     "name": "stdout",
     "output_type": "stream",
     "text": [
      "Validation Loss: 0.8640\n"
     ]
    },
    {
     "name": "stderr",
     "output_type": "stream",
     "text": [
      "Epoch 56/100: 100%|██████████| 3/3 [00:04<00:00,  1.51s/it, loss=0.825]\n",
      "                                                                                  \r"
     ]
    },
    {
     "name": "stdout",
     "output_type": "stream",
     "text": [
      "Validation Loss: 0.8632\n"
     ]
    },
    {
     "name": "stderr",
     "output_type": "stream",
     "text": [
      "Epoch 57/100: 100%|██████████| 3/3 [00:04<00:00,  1.48s/it, loss=0.79] \n",
      "                                                                                  \r"
     ]
    },
    {
     "name": "stdout",
     "output_type": "stream",
     "text": [
      "Validation Loss: 0.8639\n"
     ]
    },
    {
     "name": "stderr",
     "output_type": "stream",
     "text": [
      "Epoch 58/100: 100%|██████████| 3/3 [00:04<00:00,  1.48s/it, loss=0.807]\n",
      "                                                                                  \r"
     ]
    },
    {
     "name": "stdout",
     "output_type": "stream",
     "text": [
      "Validation Loss: 0.8641\n"
     ]
    },
    {
     "name": "stderr",
     "output_type": "stream",
     "text": [
      "Epoch 59/100: 100%|██████████| 3/3 [00:04<00:00,  1.47s/it, loss=0.807]\n",
      "                                                                                  \r"
     ]
    },
    {
     "name": "stdout",
     "output_type": "stream",
     "text": [
      "Validation Loss: 0.8635\n"
     ]
    },
    {
     "name": "stderr",
     "output_type": "stream",
     "text": [
      "Epoch 60/100: 100%|██████████| 3/3 [00:04<00:00,  1.50s/it, loss=0.809]\n",
      "                                                                                  \r"
     ]
    },
    {
     "name": "stdout",
     "output_type": "stream",
     "text": [
      "Validation Loss: 0.8630\n"
     ]
    },
    {
     "name": "stderr",
     "output_type": "stream",
     "text": [
      "Epoch 61/100: 100%|██████████| 3/3 [00:04<00:00,  1.53s/it, loss=0.8]        \n",
      "                                                                                  \r"
     ]
    },
    {
     "name": "stdout",
     "output_type": "stream",
     "text": [
      "Validation Loss: 0.8641\n"
     ]
    },
    {
     "name": "stderr",
     "output_type": "stream",
     "text": [
      "Epoch 62/100: 100%|██████████| 3/3 [00:04<00:00,  1.51s/it, loss=0.809]\n",
      "                                                                                  \r"
     ]
    },
    {
     "name": "stdout",
     "output_type": "stream",
     "text": [
      "Validation Loss: 0.8661\n"
     ]
    },
    {
     "name": "stderr",
     "output_type": "stream",
     "text": [
      "Epoch 63/100: 100%|██████████| 3/3 [00:04<00:00,  1.56s/it, loss=0.826]\n",
      "                                                                                  \r"
     ]
    },
    {
     "name": "stdout",
     "output_type": "stream",
     "text": [
      "Validation Loss: 0.8652\n"
     ]
    },
    {
     "name": "stderr",
     "output_type": "stream",
     "text": [
      "Epoch 64/100: 100%|██████████| 3/3 [00:04<00:00,  1.52s/it, loss=0.808]\n",
      "                                                                                 \r"
     ]
    },
    {
     "name": "stdout",
     "output_type": "stream",
     "text": [
      "Validation Loss: 0.8602\n"
     ]
    },
    {
     "name": "stderr",
     "output_type": "stream",
     "text": [
      "Epoch 65/100: 100%|██████████| 3/3 [00:04<00:00,  1.47s/it, loss=0.777]\n",
      "                                                                                 \r"
     ]
    },
    {
     "name": "stdout",
     "output_type": "stream",
     "text": [
      "Validation Loss: 0.8596\n"
     ]
    },
    {
     "name": "stderr",
     "output_type": "stream",
     "text": [
      "Epoch 66/100: 100%|██████████| 3/3 [00:04<00:00,  1.49s/it, loss=0.824]\n",
      "                                                                                 \r"
     ]
    },
    {
     "name": "stdout",
     "output_type": "stream",
     "text": [
      "Validation Loss: 0.8596\n"
     ]
    },
    {
     "name": "stderr",
     "output_type": "stream",
     "text": [
      "Epoch 67/100: 100%|██████████| 3/3 [00:04<00:00,  1.47s/it, loss=0.824]\n",
      "                                                                                 \r"
     ]
    },
    {
     "name": "stdout",
     "output_type": "stream",
     "text": [
      "Validation Loss: 0.8603\n"
     ]
    },
    {
     "name": "stderr",
     "output_type": "stream",
     "text": [
      "Epoch 68/100: 100%|██████████| 3/3 [00:04<00:00,  1.49s/it, loss=0.808]\n",
      "                                                                                 \r"
     ]
    },
    {
     "name": "stdout",
     "output_type": "stream",
     "text": [
      "Validation Loss: 0.8601\n"
     ]
    },
    {
     "name": "stderr",
     "output_type": "stream",
     "text": [
      "Epoch 69/100: 100%|██████████| 3/3 [00:04<00:00,  1.55s/it, loss=0.807]\n",
      "                                                                                 \r"
     ]
    },
    {
     "name": "stdout",
     "output_type": "stream",
     "text": [
      "Validation Loss: 0.8600\n"
     ]
    },
    {
     "name": "stderr",
     "output_type": "stream",
     "text": [
      "Epoch 70/100: 100%|██████████| 3/3 [00:04<00:00,  1.48s/it, loss=0.774]\n",
      "                                                                                 \r"
     ]
    },
    {
     "name": "stdout",
     "output_type": "stream",
     "text": [
      "Validation Loss: 0.8598\n"
     ]
    },
    {
     "name": "stderr",
     "output_type": "stream",
     "text": [
      "Epoch 71/100: 100%|██████████| 3/3 [00:04<00:00,  1.52s/it, loss=0.824]      \n",
      "                                                                                 \r"
     ]
    },
    {
     "name": "stdout",
     "output_type": "stream",
     "text": [
      "Validation Loss: 0.8596\n"
     ]
    },
    {
     "name": "stderr",
     "output_type": "stream",
     "text": [
      "Epoch 72/100: 100%|██████████| 3/3 [00:04<00:00,  1.53s/it, loss=0.824]\n",
      "                                                                                 \r"
     ]
    },
    {
     "name": "stdout",
     "output_type": "stream",
     "text": [
      "Validation Loss: 0.8596\n"
     ]
    },
    {
     "name": "stderr",
     "output_type": "stream",
     "text": [
      "Epoch 73/100: 100%|██████████| 3/3 [00:04<00:00,  1.52s/it, loss=0.824]\n",
      "                                                                                 \r"
     ]
    },
    {
     "name": "stdout",
     "output_type": "stream",
     "text": [
      "Validation Loss: 0.8597\n"
     ]
    },
    {
     "name": "stderr",
     "output_type": "stream",
     "text": [
      "Epoch 74/100: 100%|██████████| 3/3 [00:04<00:00,  1.52s/it, loss=0.824]\n",
      "                                                                                 \r"
     ]
    },
    {
     "name": "stdout",
     "output_type": "stream",
     "text": [
      "Validation Loss: 0.8598\n"
     ]
    },
    {
     "name": "stderr",
     "output_type": "stream",
     "text": [
      "Epoch 75/100: 100%|██████████| 3/3 [00:04<00:00,  1.53s/it, loss=0.807]\n",
      "                                                                                 \r"
     ]
    },
    {
     "name": "stdout",
     "output_type": "stream",
     "text": [
      "Validation Loss: 0.8598\n"
     ]
    },
    {
     "name": "stderr",
     "output_type": "stream",
     "text": [
      "Epoch 76/100: 100%|██████████| 3/3 [00:04<00:00,  1.52s/it, loss=0.806]\n",
      "                                                                                 \r"
     ]
    },
    {
     "name": "stdout",
     "output_type": "stream",
     "text": [
      "Validation Loss: 0.8598\n"
     ]
    },
    {
     "name": "stderr",
     "output_type": "stream",
     "text": [
      "Epoch 77/100: 100%|██████████| 3/3 [00:04<00:00,  1.53s/it, loss=0.84] \n",
      "                                                                                 \r"
     ]
    },
    {
     "name": "stdout",
     "output_type": "stream",
     "text": [
      "Validation Loss: 0.8601\n"
     ]
    },
    {
     "name": "stderr",
     "output_type": "stream",
     "text": [
      "Epoch 78/100: 100%|██████████| 3/3 [00:04<00:00,  1.54s/it, loss=0.807]\n",
      "                                                                                  \r"
     ]
    },
    {
     "name": "stdout",
     "output_type": "stream",
     "text": [
      "Validation Loss: 0.8606\n"
     ]
    },
    {
     "name": "stderr",
     "output_type": "stream",
     "text": [
      "Epoch 79/100: 100%|██████████| 3/3 [00:04<00:00,  1.49s/it, loss=0.773]\n",
      "                                                                                  \r"
     ]
    },
    {
     "name": "stdout",
     "output_type": "stream",
     "text": [
      "Validation Loss: 0.8607\n"
     ]
    },
    {
     "name": "stderr",
     "output_type": "stream",
     "text": [
      "Epoch 80/100: 100%|██████████| 3/3 [00:04<00:00,  1.49s/it, loss=0.824]\n",
      "                                                                                 \r"
     ]
    },
    {
     "name": "stdout",
     "output_type": "stream",
     "text": [
      "Validation Loss: 0.8603\n"
     ]
    },
    {
     "name": "stderr",
     "output_type": "stream",
     "text": [
      "Epoch 81/100: 100%|██████████| 3/3 [00:04<00:00,  1.59s/it, loss=0.79]       \n",
      "                                                                                 \r"
     ]
    },
    {
     "name": "stdout",
     "output_type": "stream",
     "text": [
      "Validation Loss: 0.8602\n"
     ]
    },
    {
     "name": "stderr",
     "output_type": "stream",
     "text": [
      "Epoch 82/100: 100%|██████████| 3/3 [00:04<00:00,  1.48s/it, loss=0.823]\n",
      "                                                                                  \r"
     ]
    },
    {
     "name": "stdout",
     "output_type": "stream",
     "text": [
      "Validation Loss: 0.8605\n"
     ]
    },
    {
     "name": "stderr",
     "output_type": "stream",
     "text": [
      "Epoch 83/100: 100%|██████████| 3/3 [00:04<00:00,  1.47s/it, loss=0.773]\n",
      "                                                                                 \r"
     ]
    },
    {
     "name": "stdout",
     "output_type": "stream",
     "text": [
      "Validation Loss: 0.8605\n"
     ]
    },
    {
     "name": "stderr",
     "output_type": "stream",
     "text": [
      "Epoch 84/100: 100%|██████████| 3/3 [00:04<00:00,  1.49s/it, loss=0.841]\n",
      "                                                                                 \r"
     ]
    },
    {
     "name": "stdout",
     "output_type": "stream",
     "text": [
      "Validation Loss: 0.8601\n"
     ]
    },
    {
     "name": "stderr",
     "output_type": "stream",
     "text": [
      "Epoch 85/100: 100%|██████████| 3/3 [00:04<00:00,  1.49s/it, loss=0.791]\n",
      "                                                                                 \r"
     ]
    },
    {
     "name": "stdout",
     "output_type": "stream",
     "text": [
      "Validation Loss: 0.8599\n"
     ]
    },
    {
     "name": "stderr",
     "output_type": "stream",
     "text": [
      "Epoch 86/100: 100%|██████████| 3/3 [00:04<00:00,  1.48s/it, loss=0.806]\n",
      "                                                                                 \r"
     ]
    },
    {
     "name": "stdout",
     "output_type": "stream",
     "text": [
      "Validation Loss: 0.8599\n"
     ]
    },
    {
     "name": "stderr",
     "output_type": "stream",
     "text": [
      "Epoch 87/100: 100%|██████████| 3/3 [00:04<00:00,  1.48s/it, loss=0.773]\n",
      "                                                                                 \r"
     ]
    },
    {
     "name": "stdout",
     "output_type": "stream",
     "text": [
      "Validation Loss: 0.8601\n"
     ]
    },
    {
     "name": "stderr",
     "output_type": "stream",
     "text": [
      "Epoch 88/100: 100%|██████████| 3/3 [00:04<00:00,  1.44s/it, loss=0.806]\n",
      "                                                                                 \r"
     ]
    },
    {
     "name": "stdout",
     "output_type": "stream",
     "text": [
      "Validation Loss: 0.8601\n"
     ]
    },
    {
     "name": "stderr",
     "output_type": "stream",
     "text": [
      "Epoch 89/100: 100%|██████████| 3/3 [00:04<00:00,  1.47s/it, loss=0.806]\n",
      "                                                                                 \r"
     ]
    },
    {
     "name": "stdout",
     "output_type": "stream",
     "text": [
      "Validation Loss: 0.8600\n"
     ]
    },
    {
     "name": "stderr",
     "output_type": "stream",
     "text": [
      "Epoch 90/100: 100%|██████████| 3/3 [00:04<00:00,  1.52s/it, loss=0.84] \n",
      "                                                                                 \r"
     ]
    },
    {
     "name": "stdout",
     "output_type": "stream",
     "text": [
      "Validation Loss: 0.8601\n"
     ]
    },
    {
     "name": "stderr",
     "output_type": "stream",
     "text": [
      "Epoch 91/100: 100%|██████████| 3/3 [00:04<00:00,  1.59s/it, loss=0.806]      \n",
      "                                                                                 \r"
     ]
    },
    {
     "name": "stdout",
     "output_type": "stream",
     "text": [
      "Validation Loss: 0.8601\n"
     ]
    },
    {
     "name": "stderr",
     "output_type": "stream",
     "text": [
      "Epoch 92/100: 100%|██████████| 3/3 [00:04<00:00,  1.50s/it, loss=0.84] \n",
      "                                                                                 \r"
     ]
    },
    {
     "name": "stdout",
     "output_type": "stream",
     "text": [
      "Validation Loss: 0.8602\n"
     ]
    },
    {
     "name": "stderr",
     "output_type": "stream",
     "text": [
      "Epoch 93/100: 100%|██████████| 3/3 [00:04<00:00,  1.57s/it, loss=0.806]\n",
      "                                                                                 \r"
     ]
    },
    {
     "name": "stdout",
     "output_type": "stream",
     "text": [
      "Validation Loss: 0.8604\n"
     ]
    },
    {
     "name": "stderr",
     "output_type": "stream",
     "text": [
      "Epoch 94/100: 100%|██████████| 3/3 [00:04<00:00,  1.52s/it, loss=0.823]\n",
      "                                                                                 \r"
     ]
    },
    {
     "name": "stdout",
     "output_type": "stream",
     "text": [
      "Validation Loss: 0.8601\n"
     ]
    },
    {
     "name": "stderr",
     "output_type": "stream",
     "text": [
      "Epoch 95/100: 100%|██████████| 3/3 [00:04<00:00,  1.53s/it, loss=0.775]\n",
      "                                                                                 \r"
     ]
    },
    {
     "name": "stdout",
     "output_type": "stream",
     "text": [
      "Validation Loss: 0.8602\n"
     ]
    },
    {
     "name": "stderr",
     "output_type": "stream",
     "text": [
      "Epoch 96/100: 100%|██████████| 3/3 [00:04<00:00,  1.53s/it, loss=0.84] \n",
      "                                                                                  \r"
     ]
    },
    {
     "name": "stdout",
     "output_type": "stream",
     "text": [
      "Validation Loss: 0.8611\n"
     ]
    },
    {
     "name": "stderr",
     "output_type": "stream",
     "text": [
      "Epoch 97/100: 100%|██████████| 3/3 [00:04<00:00,  1.51s/it, loss=0.824]\n",
      "                                                                                  \r"
     ]
    },
    {
     "name": "stdout",
     "output_type": "stream",
     "text": [
      "Validation Loss: 0.8616\n"
     ]
    },
    {
     "name": "stderr",
     "output_type": "stream",
     "text": [
      "Epoch 98/100: 100%|██████████| 3/3 [00:04<00:00,  1.50s/it, loss=0.841]\n",
      "                                                                                  \r"
     ]
    },
    {
     "name": "stdout",
     "output_type": "stream",
     "text": [
      "Validation Loss: 0.8613\n"
     ]
    },
    {
     "name": "stderr",
     "output_type": "stream",
     "text": [
      "Epoch 99/100: 100%|██████████| 3/3 [00:04<00:00,  1.53s/it, loss=0.81] \n",
      "                                                                                  \r"
     ]
    },
    {
     "name": "stdout",
     "output_type": "stream",
     "text": [
      "Validation Loss: 0.8608\n"
     ]
    },
    {
     "name": "stderr",
     "output_type": "stream",
     "text": [
      "Epoch 100/100: 100%|██████████| 3/3 [00:04<00:00,  1.56s/it, loss=0.823]\n",
      "                                                                                   \r"
     ]
    },
    {
     "name": "stdout",
     "output_type": "stream",
     "text": [
      "Validation Loss: 0.8614\n"
     ]
    },
    {
     "name": "stderr",
     "output_type": "stream",
     "text": [
      "                                                                              \r"
     ]
    }
   ],
   "source": [
    "from CSANet.CSANet.networks.vit_seg_modeling import VisionTransformer as ViT_seg\n",
    "from CSANet.CSANet.networks.vit_seg_modeling import CONFIGS as CONFIGS_ViT_seg\n",
    "import torch.optim as optim\n",
    "from tqdm import tqdm\n",
    "import numpy as np\n",
    "import torch\n",
    "from monai.losses import TverskyLoss\n",
    "\n",
    "# Model Configuration\n",
    "vit_name = 'R50-ViT-B_16'\n",
    "config_vit = CONFIGS_ViT_seg[vit_name]\n",
    "config_vit.n_classes = 7  # Your number of classes\n",
    "config_vit.n_skip = 3\n",
    "vit_patches_size = 16\n",
    "img_size = vit_patches_size * 4  # Match your patch size\n",
    "batch_size = 8\n",
    "# Training setup\n",
    "num_epochs = 100\n",
    "lamda = 0.2\n",
    "lr = 0.001\n",
    "\n",
    "data_dir = \"./datasets\"\n",
    "train_loader, val_loader = create_dataloaders(data_dir, batch_size=batch_size, crop_size=img_size)\n",
    "\n",
    "# Initialize model\n",
    "config_vit.patches.grid = (int(img_size / vit_patches_size), int(img_size / vit_patches_size))\n",
    "model = ViT_seg(config_vit, img_size=img_size, num_classes=config_vit.n_classes)\n",
    "model.cuda()\n",
    "\n",
    "# Load pretrained weights\n",
    "model.load_from(weights=np.load(config_vit.real_pretrained_path, allow_pickle=True))\n",
    "\n",
    "optimizer = optim.AdamW(model.parameters(), lr=lr)\n",
    "\n",
    "\n",
    "# TverskyLoss 설정\n",
    "criterion = TverskyLoss(\n",
    "    alpha=lamda,  # FP에 대한 가중치\n",
    "    beta=1-lamda,   # FN에 대한 가중치\n",
    "    include_background=True,\n",
    "    softmax=True\n",
    ")\n",
    "\n",
    "# 체크포인트 저장 디렉토리 설정\n",
    "checkpoint_base_dir = Path(\"./model_checkpoints\")\n",
    "checkpoint_dir = checkpoint_base_dir / f\"img{img_size}_lr{lr}_lambda{lamda}\"\n",
    "checkpoint_dir.mkdir(parents=True, exist_ok=True)\n",
    "\n",
    "# Training loop 수정\n",
    "for epoch in range(num_epochs):\n",
    "    model.train()\n",
    "    epoch_loss = 0\n",
    "    with tqdm(train_loader, desc=f'Epoch {epoch+1}/{num_epochs}') as pbar:\n",
    "        for batch_data in pbar:\n",
    "            images = batch_data['image'].cuda()\n",
    "            labels = batch_data['label'].cuda()\n",
    "            \n",
    "            # 차원 분리 및 reshape\n",
    "            # print(images.shape)\n",
    "            if images.shape[2] == 96:\n",
    "                images = images.permute(0, 1, 4, 2, 3)\n",
    "                labels = labels.permute(0, 1, 4, 2, 3)\n",
    "                # print(images.shape)\n",
    "            # prev_image, image, next_image = torch.split(images, 1, dim=2)\n",
    "            center = images.shape[2] // 2\n",
    "            prev_image = images[:, :, 0:center, :, :]\n",
    "            image = images[:, :, center:center+1, :, :]\n",
    "            next_image = images[:, :, center+1:, :, :]\n",
    "            \n",
    "            # 필요한 차원 형태로 변환\n",
    "            prev_image = prev_image.squeeze(2)  # [B, C, H, W]\n",
    "            image = image.squeeze(2)\n",
    "            next_image = next_image.squeeze(2)\n",
    "            \n",
    "            # 라벨 처리\n",
    "            #labels = labels[:, :, center:center+1, :, :]\n",
    "            #labels = labels.squeeze(2)  # [B, 1, H, W]\n",
    "            labels = labels.squeeze(1)  # [B, H, W]\n",
    "\n",
    "            optimizer.zero_grad()\n",
    "            outputs = model(prev_image, image, next_image)\n",
    "\n",
    "            # 라벨을 long으로 변환하고 one-hot encoding\n",
    "            labels = labels.long()\n",
    "            labels_onehot = torch.nn.functional.one_hot(labels, num_classes=config_vit.n_classes)  # [B, H, W, C]\n",
    "            # 차원 순서 변경: [B, H, W, C] -> [B, C, H, W]\n",
    "            labels_onehot = labels_onehot.permute(0, 3, 1, 2).float()\n",
    "            \n",
    "            loss = criterion(outputs, labels_onehot)\n",
    "            loss.backward()\n",
    "            optimizer.step()\n",
    "            \n",
    "            epoch_loss += loss.item()\n",
    "            pbar.set_postfix({'loss': loss.item()})\n",
    "    \n",
    "    # Training loop는 그대로 유지\n",
    "\n",
    "    # Training loop 내부의 validation과 saving 코드 수정\n",
    "    # Validation\n",
    "    if (epoch + 1) % 1 == 0:  # Validate every 5 epochs\n",
    "        model.eval()\n",
    "        val_loss = 0\n",
    "        with torch.no_grad():\n",
    "            val_loop = tqdm(val_loader, desc=f'Validation Epoch {epoch+1}', leave=False)\n",
    "            for val_data in val_loop:\n",
    "                val_images = val_data['image'].cuda()\n",
    "                val_labels = val_data['label'].cuda()\n",
    "                \n",
    "                # Training과 동일한 방식으로 데이터 처리\n",
    "                val_prev, val_curr, val_next = torch.split(val_images, 1, dim=2)\n",
    "                val_prev = val_prev.squeeze(2)\n",
    "                val_curr = val_curr.squeeze(2)\n",
    "                val_next = val_next.squeeze(2)\n",
    "                \n",
    "                val_labels = val_labels.squeeze(1)\n",
    "                val_labels = val_labels.long()\n",
    "                \n",
    "                val_outputs = model(val_prev, val_curr, val_next)\n",
    "                \n",
    "                val_labels_onehot = torch.nn.functional.one_hot(val_labels, num_classes=config_vit.n_classes)\n",
    "                val_labels_onehot = val_labels_onehot.permute(0, 3, 1, 2).float()\n",
    "                \n",
    "                current_loss = criterion(val_outputs, val_labels_onehot).item()\n",
    "                val_loss += current_loss\n",
    "                val_loop.set_postfix({'val_loss': current_loss})\n",
    "        ''\n",
    "        print(f'Validation Loss: {val_loss/len(val_loader):.4f}')\n",
    "        # Best model 저장\n",
    "        if epoch == 0 or val_loss < best_val_loss:\n",
    "            best_val_loss = val_loss\n",
    "            best_model_wts = model.state_dict()\n",
    "            torch.save(best_model_wts, checkpoint_dir / 'best_model.pt')\n",
    "            print(f'Best model saved with validation loss: {best_val_loss/len(val_loader):.4f}')\n",
    "            \n",
    "    # 체크포인트 저장\n",
    "    if (epoch + 1) % 25 == 0:  # Save every 25 epochs        \n",
    "        with tqdm(total=1, desc=f'Saving checkpoint for epoch {epoch+1}', leave=False) as pbar:\n",
    "            torch.save({\n",
    "                'epoch': epoch,\n",
    "                'model_state_dict': model.state_dict(),\n",
    "                'optimizer_state_dict': optimizer.state_dict(),\n",
    "                'loss': epoch_loss,40\n",
    "            }, checkpoint_dir / f'checkpoint_epoch_{epoch+1}.pt')\n",
    "            pbar.update(1)\n"
   ]
  },
  {
   "cell_type": "code",
   "execution_count": 4,
   "metadata": {},
   "outputs": [
    {
     "name": "stdout",
     "output_type": "stream",
     "text": [
      "베스트 모델 로드 중: model_checkpoints\\img64_lr0.001_lambda0.2\\best_model.pt\n"
     ]
    },
    {
     "name": "stderr",
     "output_type": "stream",
     "text": [
      "C:\\Users\\pook0\\AppData\\Local\\Temp\\ipykernel_13428\\3418544050.py:181: FutureWarning: You are using `torch.load` with `weights_only=False` (the current default value), which uses the default pickle module implicitly. It is possible to construct malicious pickle data which will execute arbitrary code during unpickling (See https://github.com/pytorch/pytorch/blob/main/SECURITY.md#untrusted-models for more details). In a future release, the default value for `weights_only` will be flipped to `True`. This limits the functions that could be executed during unpickling. Arbitrary objects will no longer be allowed to be loaded via this mode unless they are explicitly allowlisted by the user via `torch.serialization.add_safe_globals`. We recommend you start setting `weights_only=True` for any use case where you don't have full control of the loaded file. Please open an issue on GitHub for any issues related to this experimental feature.\n",
      "  model.load_state_dict(torch.load(checkpoint_path))\n",
      "Testing:   0%|          | 0/1 [00:00<?, ?it/s]"
     ]
    },
    {
     "name": "stdout",
     "output_type": "stream",
     "text": [
      "Crop info keys: dict_keys(['z_start', 'z_center', 'y_start', 'x_start', 'crop_size', 'original_shape', 'file_name'])\n",
      "z_start: type=<class 'torch.Tensor'>, shape/len=torch.Size([4])\n",
      "z_center: type=<class 'torch.Tensor'>, shape/len=torch.Size([4])\n",
      "y_start: type=<class 'torch.Tensor'>, shape/len=torch.Size([4])\n",
      "x_start: type=<class 'torch.Tensor'>, shape/len=torch.Size([4])\n",
      "crop_size: type=<class 'list'>, shape/len=2\n",
      "original_shape: type=<class 'list'>, shape/len=3\n",
      "file_name: type=<class 'list'>, shape/len=4\n"
     ]
    },
    {
     "name": "stderr",
     "output_type": "stream",
     "text": [
      "Testing: 100%|██████████| 1/1 [00:00<00:00,  1.31it/s]"
     ]
    },
    {
     "name": "stdout",
     "output_type": "stream",
     "text": [
      "\n",
      "평균 F4-score: 0.9444\n"
     ]
    },
    {
     "name": "stderr",
     "output_type": "stream",
     "text": [
      "\n"
     ]
    }
   ],
   "source": [
    "from pathlib import Path\n",
    "import numpy as np\n",
    "import torch\n",
    "from scipy import ndimage\n",
    "from typing import List, Dict, Tuple\n",
    "from tqdm import tqdm\n",
    "\n",
    "def get_center_points(label_map: np.ndarray, crop_info: Dict, exclude_class: int = 1) -> List[Dict]:\n",
    "    \"\"\"객체 중심점 추출 (class 1 제외)\"\"\"\n",
    "    centers = []\n",
    "    \n",
    "    for class_id in np.unique(label_map):\n",
    "        # class 1 제외\n",
    "        if class_id == 0 or class_id == exclude_class:\n",
    "            continue\n",
    "            \n",
    "        # 현재 클래스에 대한 바이너리 마스크\n",
    "        class_mask = label_map == class_id\n",
    "        labeled_array, num_features = ndimage.label(class_mask)\n",
    "        \n",
    "        # 각 객체의 중심점 계산\n",
    "        for label_id in range(1, num_features + 1):\n",
    "            object_mask = labeled_array == label_id\n",
    "            coords = np.array(np.nonzero(object_mask))  # [num_dims, N]\n",
    "            \n",
    "            if coords.size > 0:\n",
    "                # 3D 데이터의 경우 3개의 좌표가 있을 수 있으므로 차원 확인\n",
    "                if coords.shape[0] == 2:  # 2D case\n",
    "                    y, x = coords.mean(axis=1)\n",
    "                else:  # 3D case or other\n",
    "                    coord_means = coords.mean(axis=1)\n",
    "                    y, x = coord_means[-2:]  # 마지막 두 차원을 y, x로 사용\n",
    "                \n",
    "                # crop 좌표를 원본 좌표로 변환\n",
    "                orig_x = x + crop_info['x_start']\n",
    "                orig_y = y + crop_info['y_start']\n",
    "                orig_z = crop_info['z_center']\n",
    "                \n",
    "                centers.append({\n",
    "                    'x': float(orig_x),\n",
    "                    'y': float(orig_y),\n",
    "                    'z': float(orig_z),\n",
    "                    'class': int(class_id)\n",
    "                })\n",
    "    \n",
    "    return centers\n",
    "\n",
    "def calculate_distance(point1: Dict, point2: Dict) -> float:\n",
    "    \"\"\"두 점 사이의 유클리드 거리\"\"\"\n",
    "    return np.sqrt(\n",
    "        (point1['x'] - point2['x'])**2 + \n",
    "        (point1['y'] - point2['y'])**2 + \n",
    "        (point1['z'] - point2['z'])**2\n",
    "    )\n",
    "\n",
    "def calculate_fbeta_score(pred_centers: List[Dict], \n",
    "                         gt_centers: List[Dict], \n",
    "                         distance_threshold: float = 10.0,\n",
    "                         beta: float = 4.0) -> float:\n",
    "    \"\"\"F-beta score 계산 (beta=4)\"\"\"\n",
    "    if len(pred_centers) == 0 and len(gt_centers) == 0:\n",
    "        return 1.0\n",
    "    if len(pred_centers) == 0 or len(gt_centers) == 0:\n",
    "        return 0.0\n",
    "    \n",
    "    # 거리 행렬 계산\n",
    "    distances = np.zeros((len(pred_centers), len(gt_centers)))\n",
    "    for i, pred in enumerate(pred_centers):\n",
    "        for j, gt in enumerate(gt_centers):\n",
    "            # 같은 클래스인 경우에만 매칭\n",
    "            if pred['class'] == gt['class']:\n",
    "                distances[i, j] = calculate_distance(pred, gt)\n",
    "            else:\n",
    "                distances[i, j] = float('inf')\n",
    "    \n",
    "    # 매칭 및 점수 계산\n",
    "    true_positives = 0\n",
    "    matched_gt = set()\n",
    "    \n",
    "    for i in range(len(pred_centers)):\n",
    "        if np.min(distances[i]) > distance_threshold:\n",
    "            continue\n",
    "            \n",
    "        min_dist_idx = np.argmin(distances[i])\n",
    "        if min_dist_idx not in matched_gt:\n",
    "            true_positives += 1\n",
    "            matched_gt.add(min_dist_idx)\n",
    "    \n",
    "    precision = true_positives / len(pred_centers) if len(pred_centers) > 0 else 0\n",
    "    recall = true_positives / len(gt_centers) if len(gt_centers) > 0 else 0\n",
    "    \n",
    "    # F-beta 계산\n",
    "    beta_square = beta ** 2\n",
    "    if precision == 0 and recall == 0:\n",
    "        return 0.0\n",
    "    fbeta = (1 + beta_square) * (precision * recall) / (beta_square * precision + recall)\n",
    "    \n",
    "    return fbeta\n",
    "\n",
    "def test_segmentation(model, test_loader, device, config_vit):\n",
    "    \"\"\"테스트 및 평가\"\"\"\n",
    "    model.eval()\n",
    "    results = []\n",
    "    total_score = 0\n",
    "    num_samples = 0\n",
    "    \n",
    "    with torch.no_grad():\n",
    "        for batch in tqdm(test_loader, desc=\"Testing\"):\n",
    "            # 데이터 준비\n",
    "            images = batch['image'].to(device)\n",
    "            labels = batch['label'].to(device)\n",
    "            crop_info = batch['crop_info']\n",
    "            \n",
    "            # crop_info 디버깅\n",
    "            print(\"Crop info keys:\", crop_info.keys())\n",
    "            for k, v in crop_info.items():\n",
    "                print(f\"{k}: type={type(v)}, shape/len={v.shape if torch.is_tensor(v) else len(v) if hasattr(v, '__len__') else 'scalar'}\")\n",
    "            \n",
    "            # 2.5D 입력 준비\n",
    "            prev_image = images[:, :, 0:1, :, :].squeeze(2)\n",
    "            curr_image = images[:, :, 1:2, :, :].squeeze(2)\n",
    "            next_image = images[:, :, 2:3, :, :].squeeze(2)\n",
    "            \n",
    "            # 추론\n",
    "            outputs = model(prev_image, curr_image, next_image)\n",
    "            pred = torch.argmax(outputs, dim=1)  # (B, H, W)\n",
    "            \n",
    "            # 배치의 각 샘플에 대해 처리\n",
    "            for i in range(pred.size(0)):\n",
    "                try:\n",
    "                    # crop_info 처리\n",
    "                    batch_crop_info = {}\n",
    "                    for k, v in crop_info.items():\n",
    "                        if torch.is_tensor(v):\n",
    "                            batch_crop_info[k] = v[i].item()\n",
    "                        elif isinstance(v, (list, tuple)) and len(v) > i:\n",
    "                            batch_crop_info[k] = v[i]\n",
    "                        else:\n",
    "                            batch_crop_info[k] = v\n",
    "                    \n",
    "                    # 예측 및 정답 라벨에서 중심점 추출\n",
    "                    pred_centers = get_center_points(\n",
    "                        pred[i].cpu().numpy(), \n",
    "                        batch_crop_info\n",
    "                    )\n",
    "                    gt_centers = get_center_points(\n",
    "                        labels[i].cpu().numpy(),\n",
    "                        batch_crop_info\n",
    "                    )\n",
    "                    \n",
    "                    # F-beta score 계산\n",
    "                    score = calculate_fbeta_score(pred_centers, gt_centers, beta=4.0)\n",
    "                    \n",
    "                    results.append({\n",
    "                        'file_name': batch_crop_info.get('file_name', f'sample_{num_samples}'),\n",
    "                        'pred_centers': pred_centers,\n",
    "                        'gt_centers': gt_centers,\n",
    "                        'score': score\n",
    "                    })\n",
    "                    \n",
    "                    total_score += score\n",
    "                    num_samples += 1\n",
    "                    \n",
    "                except Exception as e:\n",
    "                    print(f\"Error processing sample {i}: {str(e)}\")\n",
    "                    continue\n",
    "    \n",
    "    avg_score = total_score / num_samples if num_samples > 0 else 0\n",
    "    print(f\"\\n평균 F4-score: {avg_score:.4f}\")\n",
    "    \n",
    "    return results\n",
    "\n",
    "def load_best_model(model, checkpoint_dir: str = \"./model_checkpoints\"):\n",
    "    \"\"\"베스트 모델 가중치 로드\"\"\"\n",
    "    checkpoint_path = Path(checkpoint_dir) / 'best_model.pt'  # .pth에서 .pt로 변경\n",
    "    \n",
    "    if not checkpoint_path.exists():\n",
    "        raise FileNotFoundError(f\"베스트 모델을 찾을 수 없습니다: {checkpoint_path}\")\n",
    "    \n",
    "    print(f\"베스트 모델 로드 중: {checkpoint_path}\")\n",
    "    model.load_state_dict(torch.load(checkpoint_path))\n",
    "    model = model.cuda()\n",
    "    model.eval()\n",
    "    \n",
    "    return model\n",
    "\n",
    "# 사용 예시\n",
    "model = ViT_seg(config_vit, img_size=img_size, num_classes=config_vit.n_classes)\n",
    "model = load_best_model(model, checkpoint_dir=checkpoint_dir)\n",
    "\n",
    "# 테스트 실행\n",
    "if __name__ == \"__main__\":\n",
    "    test_loader = val_loader  # val_loader를 test_loader로 사용\n",
    "    device = torch.device('cuda' if torch.cuda.is_available() else 'cpu')\n",
    "    \n",
    "    # 결과 디렉토리 생성\n",
    "    save_dir = Path(\"./test_results\")\n",
    "    save_dir.mkdir(parents=True, exist_ok=True)\n",
    "    \n",
    "    # 테스트 실행 및 결과 저장\n",
    "    results = test_segmentation(model, test_loader, device, config_vit)\n",
    "    np.save(save_dir / \"test_results.npy\", results)"
   ]
  },
  {
   "cell_type": "code",
   "execution_count": 5,
   "metadata": {},
   "outputs": [
    {
     "data": {
      "image/png": "[encoded data removed]",
      "text/plain": [
       "<Figure size 1500x500 with 1 Axes>"
      ]
     },
     "metadata": {},
     "output_type": "display_data"
    },
    {
     "data": {
      "image/png": "[encoded data removed]",
      "text/plain": [
       "<Figure size 1500x500 with 1 Axes>"
      ]
     },
     "metadata": {},
     "output_type": "display_data"
    },
    {
     "data": {
      "image/png": "[encoded data removed]",
      "text/plain": [
       "<Figure size 1500x500 with 1 Axes>"
      ]
     },
     "metadata": {},
     "output_type": "display_data"
    },
    {
     "data": {
      "image/png": "[encoded data removed]",
      "text/plain": [
       "<Figure size 1500x500 with 1 Axes>"
      ]
     },
     "metadata": {},
     "output_type": "display_data"
    },
    {
     "name": "stdout",
     "output_type": "stream",
     "text": [
      "\n",
      "=== 결과 통계 ===\n",
      "평균 F4-score: 0.9444\n",
      "최대 F4-score: 0.9444\n",
      "최소 F4-score: 0.9444\n"
     ]
    },
    {
     "data": {
      "image/png": "[encoded data removed]",
      "text/plain": [
       "<Figure size 1000x500 with 1 Axes>"
      ]
     },
     "metadata": {},
     "output_type": "display_data"
    }
   ],
   "source": [
    "import numpy as np\n",
    "import matplotlib.pyplot as plt\n",
    "from pathlib import Path\n",
    "import torch\n",
    "\n",
    "def visualize_results(results_path: str = \"./test_results/test_results.npy\", num_samples: int = 5):\n",
    "    \"\"\"테스트 결과 시각화\"\"\"\n",
    "    \n",
    "    # 결과 로드\n",
    "    results = np.load(results_path, allow_pickle=True)\n",
    "    \n",
    "    # 샘플 선택\n",
    "    indices = np.random.choice(len(results), min(num_samples, len(results)), replace=False)\n",
    "    \n",
    "    for idx in indices:\n",
    "        result = results[idx]\n",
    "        \n",
    "        # 그림 설정\n",
    "        plt.figure(figsize=(15, 5))\n",
    "        \n",
    "        # 예측된 중심점과 GT 중심점 표시\n",
    "        plt.title(f\"Sample {result['file_name']}\\nScore: {result['score']:.4f}\")\n",
    "        \n",
    "        # 중심점 플롯\n",
    "        for center in result['pred_centers']:\n",
    "            plt.scatter(center['x'], center['y'], c='r', marker='x', s=100, label='Prediction')\n",
    "            plt.text(center['x'], center['y'], f\"Class {center['class']}\", fontsize=8)\n",
    "        \n",
    "        for center in result['gt_centers']:\n",
    "            plt.scatter(center['x'], center['y'], c='b', marker='o', s=100, label='Ground Truth')\n",
    "            plt.text(center['x'], center['y'], f\"Class {center['class']}\", fontsize=8)\n",
    "        \n",
    "        plt.legend()\n",
    "        plt.grid(True)\n",
    "        plt.show()\n",
    "    \n",
    "    # 전체 통계\n",
    "    scores = [r['score'] for r in results]\n",
    "    print(f\"\\n=== 결과 통계 ===\")\n",
    "    print(f\"평균 F4-score: {np.mean(scores):.4f}\")\n",
    "    print(f\"최대 F4-score: {np.max(scores):.4f}\")\n",
    "    print(f\"최소 F4-score: {np.min(scores):.4f}\")\n",
    "    \n",
    "    # Score 분포 히스토그램\n",
    "    plt.figure(figsize=(10, 5))\n",
    "    plt.hist(scores, bins=20)\n",
    "    plt.title(\"F4-score Distribution\")\n",
    "    plt.xlabel(\"Score\")\n",
    "    plt.ylabel(\"Count\")\n",
    "    plt.show()\n",
    "\n",
    "if __name__ == \"__main__\":\n",
    "    visualize_results()"
   ]
  }
 ],
 "metadata": {
  "kernelspec": {
   "display_name": "UM",
   "language": "python",
   "name": "python3"
  },
  "language_info": {
   "codemirror_mode": {
    "name": "ipython",
    "version": 3
   },
   "file_extension": ".py",
   "mimetype": "text/x-python",
   "name": "python",
   "nbconvert_exporter": "python",
   "pygments_lexer": "ipython3",
   "version": "3.12.7"
  }
 },
 "nbformat": 4,
 "nbformat_minor": 2
}
