{
 "cells": [
  {
   "cell_type": "code",
   "execution_count": 1,
   "metadata": {},
   "outputs": [
    {
     "name": "stderr",
     "output_type": "stream",
     "text": [
      "c:\\Users\\pook0\\.conda\\envs\\UM\\Lib\\site-packages\\tqdm\\auto.py:21: TqdmWarning: IProgress not found. Please update jupyter and ipywidgets. See https://ipywidgets.readthedocs.io/en/stable/user_install.html\n",
      "  from .autonotebook import tqdm as notebook_tqdm\n"
     ]
    },
    {
     "name": "stdout",
     "output_type": "stream",
     "text": [
      "MONAI version: 1.4.0\n",
      "Numpy version: 1.26.4\n",
      "Pytorch version: 2.4.1+cu121\n",
      "MONAI flags: HAS_EXT = False, USE_COMPILED = False, USE_META_DICT = False\n",
      "MONAI rev id: 46a5272196a6c2590ca2589029eed8e4d56ff008\n",
      "MONAI __file__: c:\\Users\\<username>\\.conda\\envs\\UM\\Lib\\site-packages\\monai\\__init__.py\n",
      "\n",
      "Optional dependencies:\n",
      "Pytorch Ignite version: NOT INSTALLED or UNKNOWN VERSION.\n",
      "ITK version: NOT INSTALLED or UNKNOWN VERSION.\n",
      "Nibabel version: 5.3.2\n",
      "scikit-image version: 0.24.0\n",
      "scipy version: 1.14.1\n",
      "Pillow version: 10.2.0\n",
      "Tensorboard version: 2.18.0\n",
      "gdown version: 5.2.0\n",
      "TorchVision version: 0.19.1+cu121\n",
      "tqdm version: 4.66.5\n",
      "lmdb version: NOT INSTALLED or UNKNOWN VERSION.\n",
      "psutil version: 6.0.0\n",
      "pandas version: 2.2.3\n",
      "einops version: 0.8.0\n",
      "transformers version: NOT INSTALLED or UNKNOWN VERSION.\n",
      "mlflow version: 2.17.2\n",
      "pynrrd version: NOT INSTALLED or UNKNOWN VERSION.\n",
      "clearml version: NOT INSTALLED or UNKNOWN VERSION.\n",
      "\n",
      "For details about installing the optional dependencies, please visit:\n",
      "    https://docs.monai.io/en/latest/installation.html#installing-the-recommended-dependencies\n",
      "\n"
     ]
    }
   ],
   "source": [
    "import os\n",
    "import shutil\n",
    "import tempfile\n",
    "\n",
    "import matplotlib.pyplot as plt\n",
    "from tqdm import tqdm\n",
    "\n",
    "import random\n",
    "import numpy as np\n",
    "import torch\n",
    "\n",
    "from monai.losses import DiceCELoss\n",
    "from monai.inferers import sliding_window_inference\n",
    "from monai.transforms import (\n",
    "    AsDiscrete,\n",
    "    EnsureChannelFirstd,\n",
    "    Compose,\n",
    "    CropForegroundd,\n",
    "    LoadImaged,\n",
    "    Orientationd,\n",
    "    RandFlipd,\n",
    "    RandCropByPosNegLabeld,\n",
    "    RandShiftIntensityd,\n",
    "    ScaleIntensityRanged,\n",
    "    Spacingd,\n",
    "    RandRotate90d,\n",
    ")\n",
    "\n",
    "from monai.config import print_config\n",
    "from monai.metrics import DiceMetric\n",
    "# from src.models.swincspunetr import SwinCSPUNETR\n",
    "# from src.models.swincspunetr_unet import SwinCSPUNETR_unet\n",
    "# from src.models.swincspunetr3plus import SwinCSPUNETR3plus\n",
    "\n",
    "from monai.data import (\n",
    "    DataLoader,\n",
    "    CacheDataset,\n",
    "    load_decathlon_datalist,\n",
    "    decollate_batch,\n",
    ")\n",
    "\n",
    "# 랜덤 시드 고정\n",
    "def set_seed(seed):\n",
    "    random.seed(seed)\n",
    "    np.random.seed(seed)\n",
    "    torch.manual_seed(seed)\n",
    "    if torch.cuda.is_available():\n",
    "        torch.cuda.manual_seed_all(seed)\n",
    "\n",
    "set_seed(42)\n",
    "\n",
    "\n",
    "print_config()"
   ]
  },
  {
   "cell_type": "code",
   "execution_count": 2,
   "metadata": {},
   "outputs": [
    {
     "name": "stdout",
     "output_type": "stream",
     "text": [
      "클래스 비율: {0: 0.0, 1: 0.16393442622950818, 2: 0.01639344262295082, 3: 0.2459016393442623, 4: 0.16393442622950818, 5: 0.2459016393442623, 6: 0.16393442622950818}\n",
      "최종 합계: 1.0\n",
      "클래스 비율 리스트: [0.0, 0.16393442622950818, 0.01639344262295082, 0.2459016393442623, 0.16393442622950818, 0.2459016393442623, 0.16393442622950818]\n"
     ]
    }
   ],
   "source": [
    "class_info = {\n",
    "    0: {\"name\": \"background\", \"weight\": 0},  # weight 없음\n",
    "    1: {\"name\": \"apo-ferritin\", \"weight\": 1000},\n",
    "    2: {\"name\": \"beta-amylase\", \"weight\": 100}, # 4130\n",
    "    3: {\"name\": \"beta-galactosidase\", \"weight\": 1500}, #3080\n",
    "    4: {\"name\": \"ribosome\", \"weight\": 1000},\n",
    "    5: {\"name\": \"thyroglobulin\", \"weight\": 1500},\n",
    "    6: {\"name\": \"virus-like-particle\", \"weight\": 1000},\n",
    "}\n",
    "\n",
    "# 가중치에 비례한 비율 계산\n",
    "raw_ratios = {\n",
    "    k: (v[\"weight\"] if v[\"weight\"] is not None else 0.01)  # 가중치 비례, None일 경우 기본값a\n",
    "    for k, v in class_info.items()\n",
    "}\n",
    "total = sum(raw_ratios.values())\n",
    "ratios = {k: v / total for k, v in raw_ratios.items()}\n",
    "\n",
    "# 최종 합계가 1인지 확인\n",
    "final_total = sum(ratios.values())\n",
    "print(\"클래스 비율:\", ratios)\n",
    "print(\"최종 합계:\", final_total)\n",
    "\n",
    "# 비율을 리스트로 변환\n",
    "ratios_list = [ratios[k] for k in sorted(ratios.keys())]\n",
    "print(\"클래스 비율 리스트:\", ratios_list)"
   ]
  },
  {
   "cell_type": "markdown",
   "metadata": {},
   "source": [
    "# 모델 설정"
   ]
  },
  {
   "cell_type": "code",
   "execution_count": 3,
   "metadata": {},
   "outputs": [],
   "source": [
    "from src.dataset.dataset import create_dataloaders, create_dataloaders_bw\n",
    "from monai.transforms import (\n",
    "    Compose, LoadImaged, EnsureChannelFirstd, NormalizeIntensityd,\n",
    "    Orientationd, CropForegroundd, GaussianSmoothd, ScaleIntensityd,\n",
    "    RandSpatialCropd, RandRotate90d, RandFlipd, RandGaussianNoised,\n",
    "    ToTensord, RandCropByLabelClassesd, RandCropd,RandCropByPosNegLabeld, RandGaussianSmoothd\n",
    ")\n",
    "from monai.transforms import CastToTyped\n",
    "import numpy as np\n",
    "\n",
    "train_img_dir = \"./datasets/train_de/images\"\n",
    "train_label_dir = \"./datasets/train_de/labels\"\n",
    "val_img_dir = \"./datasets/val_de/images\"\n",
    "val_label_dir = \"./datasets/val_de/labels\"\n",
    "# DATA CONFIG\n",
    "img_size =  96 # Match your patch size\n",
    "img_depth = 32\n",
    "n_classes = 7\n",
    "batch_size = 32 # 13.8GB GPU memory required for 128x128 img size\n",
    "loader_batch = 1\n",
    "num_samples = batch_size // loader_batch # 한 이미지에서 뽑을 샘플 수\n",
    "num_repeat = 20\n",
    "# MODEL CONFIG\n",
    "num_epochs = 4000\n",
    "lamda = 0.5\n",
    "beta = 2.0\n",
    "ce_weight = 0.4\n",
    "qfl_weight = 0.3\n",
    "lr = 0.01\n",
    "feature_size = (32, 64, 128, 256)\n",
    "use_checkpoint = True\n",
    "use_v2 = True\n",
    "drop_rate= 0.2\n",
    "attn_drop_rate = 0.2\n",
    "num_bottleneck = 2\n",
    "# CLASS_WEIGHTS\n",
    "class_weights = None\n",
    "# class_weights = torch.tensor([0.0001, 1, 0.001, 1.1, 1, 1.1, 1], dtype=torch.float32)  # 클래스별 가중치\n",
    "# class_weights = torch.tensor([0.9,1,0.9,1.1,1,1.1,1], dtype=torch.float32)  # 클래스별 가중치\n",
    "sigma = 2.0\n",
    "accumulation_steps = 1\n",
    "# INIT\n",
    "start_epoch = 0\n",
    "best_val_loss = float('inf')\n",
    "best_val_fbeta_score = 0\n",
    "\n",
    "non_random_transforms = Compose([\n",
    "    EnsureChannelFirstd(keys=[\"image\", \"label\"], channel_dim=\"no_channel\"),\n",
    "    NormalizeIntensityd(keys=\"image\"),\n",
    "    Orientationd(keys=[\"image\", \"label\"], axcodes=\"RAS\"),\n",
    "    # GaussianSmoothd(\n",
    "    #     keys=[\"image\"],      # 변환을 적용할 키\n",
    "    #     sigma=[sigma, sigma, sigma]  # 각 축(x, y, z)의 시그마 값\n",
    "    #     ),\n",
    "])\n",
    "random_transforms = Compose([\n",
    "    RandCropByLabelClassesd(\n",
    "        keys=[\"image\", \"label\"],\n",
    "        label_key=\"label\",\n",
    "        spatial_size=[img_depth, img_size, img_size],\n",
    "        num_classes=n_classes,\n",
    "        num_samples=num_samples, \n",
    "        ratios=ratios_list,\n",
    "    ),\n",
    "    RandRotate90d(keys=[\"image\", \"label\"], prob=0.5, spatial_axes=[1, 2]),\n",
    "    RandFlipd(keys=[\"image\", \"label\"], prob=0.5, spatial_axis=0),\n",
    "    RandFlipd(keys=[\"image\", \"label\"], prob=0.5, spatial_axis=1),\n",
    "    RandFlipd(keys=[\"image\", \"label\"], prob=0.5, spatial_axis=2),\n",
    "    # RandGaussianSmoothd(\n",
    "    # keys=[\"image\"],      # 변환을 적용할 키\n",
    "    # sigma_x = (0.0, sigma), # 각 축(x, y, z)의 시그마 값\n",
    "    # sigma_y = (0.0, sigma),\n",
    "    # sigma_z = (0.0, sigma),\n",
    "    # prob=1.0,\n",
    "    # ),\n",
    "])\n",
    "val_random_transforms = Compose([\n",
    "    RandCropByLabelClassesd(\n",
    "        keys=[\"image\", \"label\"],\n",
    "        label_key=\"label\",\n",
    "        spatial_size=[img_depth, img_size, img_size],\n",
    "        num_classes=n_classes,\n",
    "        num_samples=num_samples, \n",
    "        ratios=ratios_list,\n",
    "    ),\n",
    "    # RandRotate90d(keys=[\"image\", \"label\"], prob=0.5, spatial_axes=[1, 2]),\n",
    "    # RandFlipd(keys=[\"image\", \"label\"], prob=0.5, spatial_axis=0),\n",
    "    # RandFlipd(keys=[\"image\", \"label\"], prob=0.5, spatial_axis=1),\n",
    "    # RandFlipd(keys=[\"image\", \"label\"], prob=0.5, spatial_axis=2),\n",
    "    # RandGaussianSmoothd(\n",
    "    # keys=[\"image\"],      # 변환을 적용할 키\n",
    "    # sigma_x = (0.0, sigma), # 각 축(x, y, z)의 시그마 값\n",
    "    # sigma_y = (0.0, sigma),\n",
    "    # sigma_z = (0.0, sigma),\n",
    "    # prob=1.0,\n",
    "    # ),\n",
    "])\n"
   ]
  },
  {
   "cell_type": "code",
   "execution_count": 4,
   "metadata": {},
   "outputs": [],
   "source": [
    "train_loader, val_loader = None, None\n",
    "train_loader, val_loader = create_dataloaders_bw(\n",
    "    train_img_dir, \n",
    "    train_label_dir, \n",
    "    val_img_dir, \n",
    "    val_label_dir, \n",
    "    non_random_transforms = non_random_transforms, \n",
    "    val_non_random_transforms=non_random_transforms,\n",
    "    random_transforms = random_transforms, \n",
    "    val_random_transforms=val_random_transforms,\n",
    "    batch_size = loader_batch,\n",
    "    num_workers=0,\n",
    "    train_num_repeat=num_repeat,\n",
    "    val_num_repeat=num_repeat,\n",
    "    )"
   ]
  },
  {
   "cell_type": "markdown",
   "metadata": {},
   "source": [
    "https://monai.io/model-zoo.html"
   ]
  },
  {
   "cell_type": "code",
   "execution_count": 5,
   "metadata": {},
   "outputs": [],
   "source": [
    "# import torch\n",
    "# import torch.nn as nn\n",
    "# import torch.nn.functional as F\n",
    "# from monai.losses import TverskyLoss\n",
    "\n",
    "# device = torch.device(\"cuda\" if torch.cuda.is_available() else \"cpu\")\n",
    "\n",
    "# # DynamicTverskyLoss 클래스 정의\n",
    "# class DynamicTverskyLoss(TverskyLoss):\n",
    "#     def __init__(self, lamda=0.5, **kwargs):\n",
    "#         super().__init__(alpha=1 - lamda, beta=lamda, **kwargs)\n",
    "#         self.lamda = lamda\n",
    "\n",
    "#     def set_lamda(self, lamda):\n",
    "#         self.lamda = lamda\n",
    "#         self.alpha = 1 - lamda\n",
    "#         self.beta = lamda\n",
    "\n",
    "\n",
    "# # CombinedCETverskyLoss 클래스\n",
    "# class CombinedCETverskyLoss_cl_weight(nn.Module):\n",
    "    \n",
    "    \n",
    "#     def __init__(self, lamda=0.5, ce_weight=0.5, n_classes=7, class_weights=None, ignore_index=-1, **kwargs):\n",
    "#         super().__init__()\n",
    "#         self.n_classes = n_classes\n",
    "#         self.ce_weight = ce_weight\n",
    "#         self.ignore_index = ignore_index\n",
    "        \n",
    "#         # CrossEntropyLoss에서 클래스별 가중치를 적용\n",
    "#         self.ce = nn.CrossEntropyLoss(weight=class_weights, ignore_index=self.ignore_index, reduction='mean', **kwargs)\n",
    "        \n",
    "#         # TverskyLoss\n",
    "#         self.tversky = DynamicTverskyLoss(lamda=lamda, reduction=\"none\",softmax=True, **kwargs)\n",
    "\n",
    "#     def forward(self, inputs, targets):\n",
    "        \n",
    "#         # CrossEntropyLoss는 정수형 클래스 인덱스를 사용\n",
    "#         ce_loss = self.ce(inputs, targets)\n",
    "\n",
    "#         # TverskyLoss 계산 (원핫 인코딩된 라벨을 사용)\n",
    "        \n",
    "#         tversky_loss = self.tversky(inputs, targets)\n",
    "\n",
    "#         # 클래스별 가중치 적용 (Tversky 손실에도 가중치를 곱하기)\n",
    "#         class_weights = torch.tensor(self.ce.weight)  # CrossEntropy의 weight를 사용\n",
    "\n",
    "#         # Tversky 손실이 (B, num_classes) 형태이므로, 가중치를 클래스 차원에 곱합니다.\n",
    "#         tversky_loss = tversky_loss * class_weights.view(1, self.n_classes)\n",
    "\n",
    "#         # 최종 손실 계산\n",
    "#         final_loss = self.ce_weight * ce_loss + (1 - self.ce_weight) * tversky_loss.mean()  # mean()으로 배치에 대해 평균\n",
    "#         return final_loss\n",
    "\n",
    "#     def set_lamda(self, lamda):\n",
    "#         self.tversky.set_lamda(lamda)\n",
    "\n",
    "#     @property\n",
    "#     def lamda(self):\n",
    "#         return self.tversky.lamda\n",
    "\n",
    "# # CombinedCETverskyLoss 클래스\n",
    "# class CombinedCETverskyLoss(nn.Module):\n",
    "    \n",
    "#     def __init__(self, lamda=0.5, ce_weight=0.5, n_classes=7, class_weights=None, ignore_index=-1, **kwargs):\n",
    "#         super().__init__()\n",
    "#         self.n_classes = n_classes\n",
    "#         self.ce_weight = ce_weight\n",
    "#         self.ignore_index = ignore_index\n",
    "        \n",
    "#         # CrossEntropyLoss에서 클래스별 가중치를 적용\n",
    "#         self.ce = nn.CrossEntropyLoss(ignore_index=self.ignore_index, reduction='mean', **kwargs)\n",
    "        \n",
    "#         # TverskyLoss\n",
    "#         self.tversky = DynamicTverskyLoss(lamda=lamda, reduction=\"mean\",softmax=True, **kwargs)\n",
    "\n",
    "#     def forward(self, inputs, targets):\n",
    "        \n",
    "#         # CrossEntropyLoss는 정수형 클래스 인덱스를 사용\n",
    "#         ce_loss = self.ce(inputs, targets)\n",
    "\n",
    "#         # TverskyLoss 계산 (원핫 인코딩된 라벨을 사용)\n",
    "        \n",
    "#         tversky_loss = self.tversky(inputs, targets)\n",
    "\n",
    "#         # 최종 손실 계산\n",
    "#         final_loss = self.ce_weight * ce_loss + (1 - self.ce_weight) * tversky_loss  # mean()으로 배치에 대해 평균\n",
    "        \n",
    "#         return final_loss\n",
    "\n",
    "#     def set_lamda(self, lamda):\n",
    "#         self.tversky.set_lamda(lamda)\n",
    "\n",
    "#     @property\n",
    "#     def lamda(self):\n",
    "#         return self.tversky.lamda\n",
    "\n",
    "# criterion = CombinedCETverskyLoss(\n",
    "#     lamda=lamda,\n",
    "#     ce_weight=ce_weight,\n",
    "#     n_classes=n_classes,\n",
    "#     class_weights=class_weights,\n",
    "# ).to(device)"
   ]
  },
  {
   "cell_type": "code",
   "execution_count": 6,
   "metadata": {},
   "outputs": [],
   "source": [
    "import torch\n",
    "\n",
    "def qfl_loss(cls_pred, quality_pred, gt_onehot, beta=2.0):\n",
    "    \"\"\"\n",
    "    Quality Focal Loss for segmentation tasks.\n",
    "    \n",
    "    Args:\n",
    "        cls_pred: Class probabilities [B, C, D, H, W].\n",
    "        quality_pred: Predicted quality scores [B, 1, D, H, W].\n",
    "        gt: Ground truth segmentation mask [B, C, D, H, W] (one-hot encoded).\n",
    "        beta: Focal Loss hyperparameter.\n",
    "    \n",
    "    Returns:\n",
    "        Loss value (scalar).\n",
    "    \"\"\"\n",
    "    # One-hot encode the ground truth mask\n",
    "    # num_classes = cls_pred.shape[1]\n",
    "    \n",
    "    # Softmax for class probabilities\n",
    "    prob = torch.softmax(cls_pred, dim=1)  # [B, C, D, H, W]\n",
    "    prob = torch.clamp(prob, min=1e-6, max=1 - 1e-6)  # 확률 범위 안정화\n",
    "    \n",
    "    # 품질 점수를 IoU로 예측했다고 가정 (Sigmoid 사용)\n",
    "    quality = torch.sigmoid(quality_pred)  # [B, 1, D, H, W]\n",
    "    quality = torch.clamp(quality, min=1e-6, max=1 - 1e-6)  # 품질 예측 범위 안정화\n",
    "    \n",
    "    # Positive Loss: Ground truth mask가 있는 위치에서의 Loss\n",
    "    pos_mask = gt_onehot == 1\n",
    "    pos_loss = -((1 - prob)**2) * torch.log(prob) * quality  # [B, C, D, H, W]\n",
    "    pos_loss = pos_loss[pos_mask].mean()  # Positive 영역 Loss\n",
    "\n",
    "    # Negative Loss: Ground truth가 없는 위치에서의 Loss\n",
    "    neg_mask = gt_onehot == 0\n",
    "    neg_loss = -(prob**beta) * torch.log(1 - prob) * (1 - quality)  # [B, C, D, H, W]\n",
    "    neg_loss = neg_loss[neg_mask].mean()  # Negative 영역 Loss\n",
    "\n",
    "    # 최종 Loss\n",
    "    return pos_loss + neg_loss\n",
    "\n",
    "import torch\n",
    "import torch.nn as nn\n",
    "import torch.nn.functional as F\n",
    "from monai.losses import TverskyLoss\n",
    "\n",
    "device = torch.device(\"cuda\" if torch.cuda.is_available() else \"cpu\")\n",
    "\n",
    "# DynamicTverskyLoss 클래스 정의\n",
    "class DynamicTverskyLoss(TverskyLoss):\n",
    "    def __init__(self, lamda=0.5, **kwargs):\n",
    "        super().__init__(alpha=1 - lamda, beta=lamda, **kwargs)\n",
    "        self.lamda = lamda\n",
    "\n",
    "    def set_lamda(self, lamda):\n",
    "        self.lamda = lamda\n",
    "        self.alpha = 1 - lamda\n",
    "        self.beta = lamda\n",
    "\n",
    "# CombinedCETverskyLoss 클래스\n",
    "class CombinedCE_QFL_TverskyLoss(nn.Module):\n",
    "    \n",
    "    def __init__(self, lamda=0.5, ce_weight=0.4, qfl_weight=0.3,  n_classes=7, class_weights=None, ignore_index=-1, **kwargs):\n",
    "        super().__init__()\n",
    "        self.n_classes = n_classes\n",
    "        self.ce_weight = ce_weight\n",
    "        self.qfl_weight = qfl_weight\n",
    "        self.ignore_index = ignore_index\n",
    "        \n",
    "        # CrossEntropyLoss에서 클래스별 가중치를 적용\n",
    "        self.QFL = qfl_loss\n",
    "        \n",
    "        self.ce = nn.CrossEntropyLoss(ignore_index=self.ignore_index, reduction='mean', **kwargs)\n",
    "        \n",
    "        # TverskyLoss\n",
    "        self.tversky = DynamicTverskyLoss(lamda=lamda, reduction=\"mean\",softmax=True, **kwargs)\n",
    "\n",
    "    def forward(self, inputs, scores, targets, beta=2.0):\n",
    "        \n",
    "        # CrossEntropyLoss는 정수형 클래스 인덱스를 사용\n",
    "        ce_loss = self.ce(inputs, targets)\n",
    "        \n",
    "        # QFL_loss 계산\n",
    "        QFL_loss = self.QFL(inputs, scores, targets, beta)\n",
    "\n",
    "        # TverskyLoss 계산 (원핫 인코딩된 라벨을 사용)\n",
    "        \n",
    "        tversky_loss = self.tversky(inputs, targets)\n",
    "\n",
    "        # 최종 손실 계산\n",
    "        final_loss = self.ce_weight * ce_loss + self.qfl_weight * QFL_loss + (1 - self.ce_weight - self.qfl_weight) * tversky_loss  # mean()으로 배치에 대해 평균\n",
    "        \n",
    "        return final_loss\n",
    "\n",
    "    def set_lamda(self, lamda):\n",
    "        self.tversky.set_lamda(lamda)\n",
    "\n",
    "    @property\n",
    "    def lamda(self):\n",
    "        return self.tversky.lamda\n",
    "\n",
    "criterion = CombinedCE_QFL_TverskyLoss(\n",
    "    lamda=lamda,\n",
    "    ce_weight=ce_weight,\n",
    "    qfl_weight=qfl_weight,\n",
    "    n_classes=n_classes,\n",
    "    class_weights=class_weights,\n",
    ").to(device)\n"
   ]
  },
  {
   "cell_type": "code",
   "execution_count": 7,
   "metadata": {},
   "outputs": [
    {
     "name": "stderr",
     "output_type": "stream",
     "text": [
      "c:\\Users\\pook0\\.conda\\envs\\UM\\Lib\\site-packages\\torch\\nn\\init.py:453: UserWarning: Initializing zero-element tensors is a no-op\n",
      "  warnings.warn(\"Initializing zero-element tensors is a no-op\")\n"
     ]
    }
   ],
   "source": [
    "import torch.optim as optim\n",
    "from tqdm import tqdm\n",
    "import numpy as np\n",
    "import torch\n",
    "from pathlib import Path\n",
    "from monai.networks.nets import UNet\n",
    "from src.models import UNet_CBAM_bw\n",
    "from monai.networks.layers.factories import Act, Norm\n",
    "\n",
    "device = torch.device(\"cuda\" if torch.cuda.is_available() else \"cpu\")\n",
    "\n",
    "\n",
    "model = UNet_CBAM_bw(\n",
    "    spatial_dims=3,\n",
    "    in_channels=1,\n",
    "    out_channels=n_classes,\n",
    "    channels=feature_size,\n",
    "    strides=(2, 2, 2),\n",
    "    dropout = drop_rate,\n",
    "    norm = Norm.INSTANCE,\n",
    "    act = Act.PRELU,\n",
    ").to(device)\n",
    "\n",
    "pretrain_str = \"yes\" if use_checkpoint else \"no\"\n",
    "weight_str = \"weighted\" if class_weights is not None else \"\"\n",
    "\n",
    "# 체크포인트 디렉토리 및 파일 설정\n",
    "checkpoint_base_dir = Path(\"./model_checkpoints\")\n",
    "folder_name = f\"CBAM_qfl_deno_noclswt_{weight_str}_f{feature_size}_d{img_depth}_s{img_size}_dropr{drop_rate}_lr{lr:.0e}_a{lamda:.2f}_b{batch_size}_r{num_repeat}_ce{ce_weight}_qfl{qfl_weight}_ac{accumulation_steps}\"\n",
    "checkpoint_dir = checkpoint_base_dir / folder_name\n",
    "optimizer = optim.AdamW(model.parameters(), lr=lr, weight_decay=1e-5)\n",
    "scheduler = torch.optim.lr_scheduler.ReduceLROnPlateau(optimizer, patience=5, factor=0.5)\n",
    "# 체크포인트 디렉토리 생성\n",
    "checkpoint_dir.mkdir(parents=True, exist_ok=True)\n",
    "\n",
    "if checkpoint_dir.exists():\n",
    "    best_model_path = checkpoint_dir / 'best_model.pt'\n",
    "    if best_model_path.exists():\n",
    "        print(f\"기존 best model 발견: {best_model_path}\")\n",
    "        try:\n",
    "            checkpoint = torch.load(best_model_path, map_location=device)\n",
    "            # 체크포인트 내부 키 검증\n",
    "            required_keys = ['model_state_dict', 'optimizer_state_dict', 'epoch', 'best_val_loss']\n",
    "            if all(k in checkpoint for k in required_keys):\n",
    "                model.load_state_dict(checkpoint['model_state_dict'])\n",
    "                optimizer.load_state_dict(checkpoint['optimizer_state_dict'])\n",
    "                start_epoch = checkpoint['epoch']\n",
    "                best_val_loss = checkpoint['best_val_loss']\n",
    "                print(\"기존 학습된 가중치를 성공적으로 로드했습니다.\")\n",
    "                checkpoint= None\n",
    "            else:\n",
    "                raise ValueError(\"체크포인트 파일에 필요한 key가 없습니다.\")\n",
    "        except Exception as e:\n",
    "            print(f\"체크포인트 파일을 로드하는 중 오류 발생: {e}\")"
   ]
  },
  {
   "cell_type": "code",
   "execution_count": 8,
   "metadata": {},
   "outputs": [
    {
     "name": "stdout",
     "output_type": "stream",
     "text": [
      "torch.Size([32, 1, 32, 96, 96]) torch.Size([32, 1, 32, 96, 96])\n"
     ]
    }
   ],
   "source": [
    "batch = next(iter(val_loader))\n",
    "images, labels = batch[\"image\"], batch[\"label\"]\n",
    "print(images.shape, labels.shape)"
   ]
  },
  {
   "cell_type": "code",
   "execution_count": 9,
   "metadata": {},
   "outputs": [],
   "source": [
    "torch.backends.cudnn.benchmark = True"
   ]
  },
  {
   "cell_type": "code",
   "execution_count": 10,
   "metadata": {},
   "outputs": [
    {
     "name": "stderr",
     "output_type": "stream",
     "text": [
      "\u001b[34m\u001b[1mwandb\u001b[0m: Using wandb-core as the SDK backend.  Please refer to https://wandb.me/wandb-core for more information.\n",
      "\u001b[34m\u001b[1mwandb\u001b[0m: Currently logged in as: \u001b[33mpook0612\u001b[0m (\u001b[33mlimbw\u001b[0m). Use \u001b[1m`wandb login --relogin`\u001b[0m to force relogin\n"
     ]
    },
    {
     "data": {
      "text/html": [
       "Tracking run with wandb version 0.19.1"
      ],
      "text/plain": [
       "<IPython.core.display.HTML object>"
      ]
     },
     "metadata": {},
     "output_type": "display_data"
    },
    {
     "data": {
      "text/html": [
       "Run data is saved locally in <code>c:\\Workspace\\czll\\wandb\\run-20250129_001344-xfoddtk0</code>"
      ],
      "text/plain": [
       "<IPython.core.display.HTML object>"
      ]
     },
     "metadata": {},
     "output_type": "display_data"
    },
    {
     "data": {
      "text/html": [
       "Syncing run <strong><a href='https://wandb.ai/limbw/czii_UNet/runs/xfoddtk0' target=\"_blank\">CBAM_qfl_deno_noclswt__f(32, 64, 128, 256)_d32_s96_dropr0.2_lr1e-02_a0.50_b32_r20_ce0.4_qfl0.3_ac1</a></strong> to <a href='https://wandb.ai/limbw/czii_UNet' target=\"_blank\">Weights & Biases</a> (<a href='https://wandb.me/developer-guide' target=\"_blank\">docs</a>)<br>"
      ],
      "text/plain": [
       "<IPython.core.display.HTML object>"
      ]
     },
     "metadata": {},
     "output_type": "display_data"
    },
    {
     "data": {
      "text/html": [
       " View project at <a href='https://wandb.ai/limbw/czii_UNet' target=\"_blank\">https://wandb.ai/limbw/czii_UNet</a>"
      ],
      "text/plain": [
       "<IPython.core.display.HTML object>"
      ]
     },
     "metadata": {},
     "output_type": "display_data"
    },
    {
     "data": {
      "text/html": [
       " View run at <a href='https://wandb.ai/limbw/czii_UNet/runs/xfoddtk0' target=\"_blank\">https://wandb.ai/limbw/czii_UNet/runs/xfoddtk0</a>"
      ],
      "text/plain": [
       "<IPython.core.display.HTML object>"
      ]
     },
     "metadata": {},
     "output_type": "display_data"
    }
   ],
   "source": [
    "import wandb\n",
    "from datetime import datetime\n",
    "\n",
    "current_time = datetime.now().strftime('%Y%m%d_%H%M%S')\n",
    "run_name = folder_name\n",
    "\n",
    "# wandb 초기화\n",
    "wandb.init(\n",
    "    project='czii_UNet',  # 프로젝트 이름 설정\n",
    "    name=run_name,         # 실행(run) 이름 설정\n",
    "    config={\n",
    "        'num_epochs': num_epochs,\n",
    "        'learning_rate': lr,\n",
    "        'batch_size': batch_size,\n",
    "        'lambda': lamda,\n",
    "        \"cross_entropy_weight\": ce_weight,\n",
    "        'feature_size': feature_size,\n",
    "        'img_size': img_size,\n",
    "        'sampling_ratio': ratios_list,\n",
    "        'device': device.type,\n",
    "        \"checkpoint_dir\": str(checkpoint_dir),\n",
    "        \"class_weights\": class_weights.tolist() if class_weights is not None else None,\n",
    "        \"use_checkpoint\": use_checkpoint,\n",
    "        \"drop_rate\": drop_rate,\n",
    "        # \"attn_drop_rate\": attn_drop_rate,\n",
    "        # \"use_v2\": use_v2,\n",
    "        \"accumulation_steps\": accumulation_steps,\n",
    "        \"num_repeat\": num_repeat,\n",
    "        # \"num_bottleneck\": num_bottleneck,\n",
    "        \n",
    "        # 필요한 하이퍼파라미터 추가\n",
    "    }\n",
    ")\n",
    "# 모델을 wandb에 연결\n",
    "wandb.watch(model, log='all')"
   ]
  },
  {
   "cell_type": "markdown",
   "metadata": {},
   "source": [
    "# 학습"
   ]
  },
  {
   "cell_type": "code",
   "execution_count": 11,
   "metadata": {},
   "outputs": [],
   "source": [
    "from monai.metrics import DiceMetric\n",
    "    \n",
    "def processing(batch_data, model, criterion, device):\n",
    "    images = batch_data['image'].to(device)  # Input 이미지 (B, 1, 96, 96, 96)\n",
    "    labels = batch_data['label'].to(device)  # 라벨 (B, 96, 96, 96)\n",
    "\n",
    "    labels = labels.squeeze(1)  # (B, 1, 96, 96, 96) → (B, 96, 96, 96)\n",
    "    labels = labels.long()  # 라벨을 정수형으로 변환\n",
    "\n",
    "    # 원핫 인코딩 (B, H, W, D) → (B, num_classes, H, W, D)\n",
    "    \n",
    "    labels_onehot = torch.nn.functional.one_hot(labels, num_classes=n_classes)\n",
    "    labels_onehot = labels_onehot.permute(0, 4, 1, 2, 3).float()  # (B, num_classes, H, W, D)\n",
    "\n",
    "    # 모델 예측\n",
    "    outputs, scores = model(images)  # outputs: (B, num_classes, H, W, D)\n",
    "\n",
    "    # Loss 계산\n",
    "    loss = criterion(outputs, scores, labels_onehot, beta)\n",
    "    # loss = loss_fn(criterion(outputs, labels_onehot),class_weights=class_weights, device=device)\n",
    "    return loss, outputs, labels, outputs.argmax(dim=1)\n",
    "\n",
    "def train_one_epoch(model, train_loader, criterion, optimizer, device, epoch, accumulation_steps=4):\n",
    "    model.train()\n",
    "    epoch_loss = 0\n",
    "    optimizer.zero_grad()  # 그래디언트 초기화\n",
    "    with tqdm(train_loader, desc='Training') as pbar:\n",
    "        for i, batch_data in enumerate(pbar):\n",
    "            # 손실 계산\n",
    "            loss, _, _, _ = processing(batch_data, model, criterion, device)\n",
    "\n",
    "            # 그래디언트를 계산하고 누적\n",
    "            loss = loss / accumulation_steps  # 그래디언트 누적을 위한 스케일링\n",
    "            loss.backward()  # 그래디언트 계산 및 누적\n",
    "            \n",
    "            # 그래디언트 업데이트 (accumulation_steps마다 한 번)\n",
    "            if (i + 1) % accumulation_steps == 0 or (i + 1) == len(train_loader):\n",
    "                optimizer.step()  # 파라미터 업데이트\n",
    "                optimizer.zero_grad()  # 누적된 그래디언트 초기화\n",
    "            \n",
    "            # 손실값 누적 (스케일링 복구)\n",
    "            epoch_loss += loss.item() * accumulation_steps  # 실제 손실값 반영\n",
    "            pbar.set_postfix(loss=loss.item() * accumulation_steps)  # 실제 손실값 출력\n",
    "    avg_loss = epoch_loss / len(train_loader)\n",
    "    wandb.log({'train_epoch_loss': avg_loss, 'epoch': epoch + 1})\n",
    "    return avg_loss\n",
    "\n",
    "\n",
    "def validate_one_epoch(model, val_loader, criterion, device, epoch, calculate_dice_interval, ce_weight):\n",
    "    model.eval()\n",
    "    val_loss = 0\n",
    "    \n",
    "    class_dice_scores = {i: [] for i in range(n_classes)}\n",
    "    class_f_beta_scores = {i: [] for i in range(n_classes)}\n",
    "    class_mIoU_scores = {i: [] for i in range(n_classes)}\n",
    "    with torch.no_grad():\n",
    "        with tqdm(val_loader, desc='Validation') as pbar:\n",
    "            for batch_data in pbar:\n",
    "                loss, _, labels, preds = processing(batch_data, model, criterion, device)\n",
    "                val_loss += loss.item()\n",
    "                pbar.set_postfix(loss=loss.item())\n",
    "\n",
    "                # 각 클래스별 Dice 점수 계산\n",
    "                if epoch % calculate_dice_interval == 0:\n",
    "                    for i in range(n_classes):\n",
    "                        pred_i = (preds == i)\n",
    "                        label_i = (labels == i)\n",
    "                        dice_score = (2.0 * torch.sum(pred_i & label_i)) / (torch.sum(pred_i) + torch.sum(label_i) + 1e-8)\n",
    "                        class_dice_scores[i].append(dice_score.item())\n",
    "                        precision = (torch.sum(pred_i & label_i) + 1e-8) / (torch.sum(pred_i) + 1e-8)\n",
    "                        recall = (torch.sum(pred_i & label_i) + 1e-8) / (torch.sum(label_i) + 1e-8)\n",
    "                        f_beta_score = (1 + 4**2) * (precision * recall) / (4**2 * precision + recall + 1e-8)\n",
    "                        class_f_beta_scores[i].append(f_beta_score.item())\n",
    "                        intersection = torch.sum(pred_i & label_i).float()\n",
    "                        union = torch.sum(pred_i | label_i).float()\n",
    "                        iou = (intersection + 1e-8) / (union + 1e-8)\n",
    "                        class_mIoU_scores[i].append(iou.item())\n",
    "\n",
    "    avg_loss = val_loss / len(val_loader)\n",
    "    # 에포크별 평균 손실 로깅\n",
    "    wandb.log({'val_epoch_loss': avg_loss, 'epoch': epoch + 1})\n",
    "    \n",
    "    # 각 클래스별 평균 Dice 점수 출력\n",
    "    if epoch % calculate_dice_interval == 0:\n",
    "        print(\"Validation Dice Score\")\n",
    "        all_classes_dice_scores = []\n",
    "        for i in range(n_classes):\n",
    "            mean_dice = np.mean(class_dice_scores[i])\n",
    "            wandb.log({f'class_{i}_dice_score': mean_dice, 'epoch': epoch + 1})\n",
    "            print(f\"Class {i}: {mean_dice:.4f}\", end=\", \")\n",
    "            if i not in [0, 2]:  # 평균에 포함할 클래스만 추가\n",
    "                all_classes_dice_scores.append(mean_dice)\n",
    "            \n",
    "        print()\n",
    "    if epoch % calculate_dice_interval == 0:\n",
    "        print(\"Validation F-beta Score\")\n",
    "        all_classes_fbeta_scores = []\n",
    "        for i in range(n_classes):\n",
    "            mean_fbeta = np.mean(class_f_beta_scores[i])\n",
    "            wandb.log({f'class_{i}_f_beta_score': mean_fbeta, 'epoch': epoch + 1})\n",
    "            print(f\"Class {i}: {mean_fbeta:.4f}\", end=\", \")\n",
    "            if i not in [0, 2]:  # 평균에 포함할 클래스만 추가\n",
    "                all_classes_fbeta_scores.append(mean_fbeta)\n",
    "               \n",
    "        print() \n",
    "    if epoch % calculate_dice_interval == 0:\n",
    "        print(\"Validation mIoU Score\")\n",
    "        all_classes_mIoU_scores = []\n",
    "        for i in range(n_classes):\n",
    "            mean_IoU = np.mean(class_mIoU_scores[i])\n",
    "            wandb.log({f'class_{i}_IoU_score': mean_fbeta, 'epoch': epoch + 1})\n",
    "            print(f\"Class {i}: {mean_IoU:.4f}\", end=\", \")\n",
    "            if i not in [0, 2]:  # 평균에 포함할 클래스만 추가\n",
    "                all_classes_mIoU_scores.append(mean_IoU)\n",
    "                \n",
    "        print()\n",
    "        overall_mean_dice = np.mean(all_classes_dice_scores)\n",
    "        overall_mean_fbeta = np.mean(all_classes_fbeta_scores)\n",
    "        overall_mean_IoU = np.mean(all_classes_mIoU_scores)\n",
    "        final_score = overall_mean_fbeta * (1 - ce_weight) + overall_mean_IoU * ce_weight\n",
    "        wandb.log({'overall_mean_f_beta_score': overall_mean_fbeta, 'overall_mean_dice_score': overall_mean_dice, 'epoch': epoch + 1, 'overall_mean_IoU_score': overall_mean_IoU, 'final_score': final_score})  \n",
    "        print(f\"\\nOverall Mean Dice Score: {overall_mean_dice:.4f}\\nOverall Mean F-beta Score: {overall_mean_fbeta:.4f}\\nOverall Mean IoU Score: {overall_mean_IoU:.4f}\\nFinal_score: {final_score:.4f}\")\n",
    "\n",
    "    if overall_mean_fbeta is None:\n",
    "        overall_mean_fbeta = 0\n",
    "\n",
    "    \n",
    "    \n",
    "    return val_loss / len(val_loader), final_score \n",
    "\n",
    "def train_model(\n",
    "    model, train_loader, val_loader, criterion, optimizer, num_epochs, patience, \n",
    "    device, start_epoch, best_val_loss, best_val_fbeta_score, calculate_dice_interval=1,\n",
    "    accumulation_steps=4, pretrained=False\n",
    "):\n",
    "    \"\"\"\n",
    "    모델을 학습하고 검증하는 함수\n",
    "    Args:\n",
    "        model: 학습할 모델\n",
    "        train_loader: 학습 데이터 로더\n",
    "        val_loader: 검증 데이터 로더\n",
    "        criterion: 손실 함수\n",
    "        optimizer: 최적화 알고리즘\n",
    "        num_epochs: 총 학습 epoch 수\n",
    "        patience: early stopping 기준\n",
    "        device: GPU/CPU 장치\n",
    "        start_epoch: 시작 epoch\n",
    "        best_val_loss: 이전 최적 validation loss\n",
    "        best_val_fbeta_score: 이전 최적 validation f-beta score\n",
    "        calculate_dice_interval: Dice 점수 계산 주기\n",
    "    \"\"\"\n",
    "    epochs_no_improve = 0\n",
    "\n",
    "    for epoch in range(start_epoch, num_epochs):\n",
    "        print(f\"Epoch {epoch + 1}/{num_epochs}\")\n",
    "\n",
    "        # Train One Epoch\n",
    "        train_loss = train_one_epoch(\n",
    "            model=model, \n",
    "            train_loader=train_loader, \n",
    "            criterion=criterion, \n",
    "            optimizer=optimizer, \n",
    "            device=device,\n",
    "            epoch=epoch,\n",
    "            accumulation_steps= accumulation_steps\n",
    "        )\n",
    "        \n",
    "        scheduler.step(train_loss)\n",
    "        # Validate One Epoch\n",
    "        val_loss, overall_mean_fbeta_score = validate_one_epoch(\n",
    "            model=model, \n",
    "            val_loader=val_loader, \n",
    "            criterion=criterion, \n",
    "            device=device, \n",
    "            epoch=epoch, \n",
    "            calculate_dice_interval=calculate_dice_interval,\n",
    "            ce_weight = 0.5\n",
    "        )\n",
    "\n",
    "        \n",
    "        print(f\"Training Loss: {train_loss:.4f}, Validation Loss: {val_loss:.4f}, Validation hybrid_score: {overall_mean_fbeta_score:.4f}\")\n",
    "\n",
    "        if val_loss < best_val_loss and overall_mean_fbeta_score > best_val_fbeta_score:\n",
    "            best_val_loss = val_loss\n",
    "            best_val_fbeta_score = overall_mean_fbeta_score\n",
    "            epochs_no_improve = 0\n",
    "            if pretrained:\n",
    "                checkpoint_path = os.path.join(checkpoint_dir, 'best_model_pretrained.pt')\n",
    "            else:\n",
    "                checkpoint_path = os.path.join(checkpoint_dir, 'best_model.pt')\n",
    "            torch.save({\n",
    "                'epoch': epoch + 1,\n",
    "                'model_state_dict': model.state_dict(),\n",
    "                'optimizer_state_dict': optimizer.state_dict(),\n",
    "                'best_val_loss': best_val_loss,\n",
    "                'best_val_fbeta_score': best_val_fbeta_score\n",
    "            }, checkpoint_path)\n",
    "            print(f\"========================================================\")\n",
    "            print(f\"SUPER Best model saved. Loss:{best_val_loss:.4f}, Score:{best_val_fbeta_score:.4f}\")\n",
    "            print(f\"========================================================\")\n",
    "\n",
    "        # Early stopping 조건 체크\n",
    "        if val_loss >= best_val_loss and overall_mean_fbeta_score <= best_val_fbeta_score:\n",
    "            epochs_no_improve += 1\n",
    "        else:\n",
    "            epochs_no_improve = 0\n",
    "\n",
    "        if epochs_no_improve >= patience:\n",
    "            print(\"Early stopping\")\n",
    "            checkpoint_path = os.path.join(checkpoint_dir, 'last.pt')\n",
    "            torch.save({\n",
    "                'epoch': epoch + 1,\n",
    "                'model_state_dict': model.state_dict(),\n",
    "                'optimizer_state_dict': optimizer.state_dict(),\n",
    "                'best_val_loss': best_val_loss,\n",
    "                'best_val_fbeta_score': best_val_fbeta_score\n",
    "            }, checkpoint_path)\n",
    "            break\n",
    "        # if epochs_no_improve % 6 == 0 & epochs_no_improve != 0:\n",
    "        #     # 손실이 개선되지 않았으므로 lambda 감소\n",
    "        #     new_lamda = max(criterion.lamda - 0.01, 0.35)  # 최소값은 0.1로 설정\n",
    "        #     criterion.set_lamda(new_lamda)\n",
    "        #     print(f\"Validation loss did not improve. Reducing lambda to {new_lamda:.4f}\")\n",
    "\n",
    "    wandb.finish()\n"
   ]
  },
  {
   "cell_type": "code",
   "execution_count": null,
   "metadata": {},
   "outputs": [
    {
     "name": "stdout",
     "output_type": "stream",
     "text": [
      "Epoch 1/4000\n"
     ]
    },
    {
     "name": "stderr",
     "output_type": "stream",
     "text": [
      "Training: 100%|██████████| 120/120 [03:27<00:00,  1.73s/it, loss=0.305]\n",
      "Validation: 100%|██████████| 20/20 [00:16<00:00,  1.23it/s, loss=0.303]\n"
     ]
    },
    {
     "name": "stdout",
     "output_type": "stream",
     "text": [
      "Validation Dice Score\n",
      "Class 0: 0.9831, Class 1: 0.0000, Class 2: 0.0000, Class 3: 0.0000, Class 4: 0.3657, Class 5: 0.0001, Class 6: 0.4126, \n",
      "Validation F-beta Score\n",
      "Class 0: 0.9920, Class 1: 0.0000, Class 2: 0.0000, Class 3: 0.0000, Class 4: 0.3062, Class 5: 0.0001, Class 6: 0.4872, \n",
      "Validation mIoU Score\n",
      "Class 0: 0.9668, Class 1: 0.0000, Class 2: 0.0000, Class 3: 0.0000, Class 4: 0.2242, Class 5: 0.0000, Class 6: 0.2637, \n",
      "\n",
      "Overall Mean Dice Score: 0.1557\n",
      "Overall Mean F-beta Score: 0.1587\n",
      "Overall Mean IoU Score: 0.0976\n",
      "Final_score: 0.1281\n",
      "Training Loss: 0.3445, Validation Loss: 0.3034, Validation hybrid_score: 0.1281\n",
      "========================================================\n",
      "SUPER Best model saved. Loss:0.3034, Score:0.1281\n",
      "========================================================\n",
      "Epoch 2/4000\n"
     ]
    },
    {
     "name": "stderr",
     "output_type": "stream",
     "text": [
      "Training: 100%|██████████| 120/120 [02:57<00:00,  1.48s/it, loss=0.277]\n",
      "Validation: 100%|██████████| 20/20 [00:18<00:00,  1.08it/s, loss=0.274]\n"
     ]
    },
    {
     "name": "stdout",
     "output_type": "stream",
     "text": [
      "Validation Dice Score\n",
      "Class 0: 0.9840, Class 1: 0.0913, Class 2: 0.0000, Class 3: 0.2528, Class 4: 0.5400, Class 5: 0.2160, Class 6: 0.7349, \n",
      "Validation F-beta Score\n",
      "Class 0: 0.9883, Class 1: 0.0567, Class 2: 0.0000, Class 3: 0.2429, Class 4: 0.5105, Class 5: 0.1597, Class 6: 0.8600, \n",
      "Validation mIoU Score\n",
      "Class 0: 0.9686, Class 1: 0.0482, Class 2: 0.0000, Class 3: 0.1463, Class 4: 0.3715, Class 5: 0.1216, Class 6: 0.5824, \n",
      "\n",
      "Overall Mean Dice Score: 0.3670\n",
      "Overall Mean F-beta Score: 0.3660\n",
      "Overall Mean IoU Score: 0.2540\n",
      "Final_score: 0.3100\n",
      "Training Loss: 0.2854, Validation Loss: 0.2754, Validation hybrid_score: 0.3100\n",
      "========================================================\n",
      "SUPER Best model saved. Loss:0.2754, Score:0.3100\n",
      "========================================================\n",
      "Epoch 3/4000\n"
     ]
    },
    {
     "name": "stderr",
     "output_type": "stream",
     "text": [
      "Training: 100%|██████████| 120/120 [02:55<00:00,  1.46s/it, loss=0.255]\n",
      "Validation: 100%|██████████| 20/20 [00:16<00:00,  1.20it/s, loss=0.251]\n"
     ]
    },
    {
     "name": "stdout",
     "output_type": "stream",
     "text": [
      "Validation Dice Score\n",
      "Class 0: 0.9861, Class 1: 0.4066, Class 2: 0.0005, Class 3: 0.3899, Class 4: 0.6224, Class 5: 0.3231, Class 6: 0.8388, \n",
      "Validation F-beta Score\n",
      "Class 0: 0.9897, Class 1: 0.4304, Class 2: 0.0003, Class 3: 0.3487, Class 4: 0.5866, Class 5: 0.2766, Class 6: 0.8005, \n",
      "Validation mIoU Score\n",
      "Class 0: 0.9726, Class 1: 0.2572, Class 2: 0.0003, Class 3: 0.2432, Class 4: 0.4530, Class 5: 0.1939, Class 6: 0.7230, \n",
      "\n",
      "Overall Mean Dice Score: 0.5162\n",
      "Overall Mean F-beta Score: 0.4886\n",
      "Overall Mean IoU Score: 0.3741\n",
      "Final_score: 0.4313\n",
      "Training Loss: 0.2633, Validation Loss: 0.2557, Validation hybrid_score: 0.4313\n",
      "========================================================\n",
      "SUPER Best model saved. Loss:0.2557, Score:0.4313\n",
      "========================================================\n",
      "Epoch 4/4000\n"
     ]
    },
    {
     "name": "stderr",
     "output_type": "stream",
     "text": [
      "Training: 100%|██████████| 120/120 [02:53<00:00,  1.45s/it, loss=0.262]\n",
      "Validation: 100%|██████████| 20/20 [00:15<00:00,  1.26it/s, loss=0.245]\n"
     ]
    },
    {
     "name": "stdout",
     "output_type": "stream",
     "text": [
      "Validation Dice Score\n",
      "Class 0: 0.9861, Class 1: 0.6053, Class 2: 0.0092, Class 3: 0.3516, Class 4: 0.6587, Class 5: 0.3510, Class 6: 0.8357, \n",
      "Validation F-beta Score\n",
      "Class 0: 0.9860, Class 1: 0.6332, Class 2: 0.0050, Class 3: 0.5260, Class 4: 0.6549, Class 5: 0.3155, Class 6: 0.9358, \n",
      "Validation mIoU Score\n",
      "Class 0: 0.9726, Class 1: 0.4351, Class 2: 0.0046, Class 3: 0.2145, Class 4: 0.4931, Class 5: 0.2145, Class 6: 0.7182, \n",
      "\n",
      "Overall Mean Dice Score: 0.5604\n",
      "Overall Mean F-beta Score: 0.6131\n",
      "Overall Mean IoU Score: 0.4151\n",
      "Final_score: 0.5141\n",
      "Training Loss: 0.2539, Validation Loss: 0.2483, Validation hybrid_score: 0.5141\n",
      "========================================================\n",
      "SUPER Best model saved. Loss:0.2483, Score:0.5141\n",
      "========================================================\n",
      "Epoch 5/4000\n"
     ]
    },
    {
     "name": "stderr",
     "output_type": "stream",
     "text": [
      "Training: 100%|██████████| 120/120 [02:51<00:00,  1.43s/it, loss=0.251]\n",
      "Validation: 100%|██████████| 20/20 [00:15<00:00,  1.26it/s, loss=0.245]\n"
     ]
    },
    {
     "name": "stdout",
     "output_type": "stream",
     "text": [
      "Validation Dice Score\n",
      "Class 0: 0.9874, Class 1: 0.6766, Class 2: 0.0257, Class 3: 0.3891, Class 4: 0.6705, Class 5: 0.3712, Class 6: 0.8422, \n",
      "Validation F-beta Score\n",
      "Class 0: 0.9886, Class 1: 0.6832, Class 2: 0.0142, Class 3: 0.4463, Class 4: 0.6705, Class 5: 0.3235, Class 6: 0.9189, \n",
      "Validation mIoU Score\n",
      "Class 0: 0.9751, Class 1: 0.5131, Class 2: 0.0132, Class 3: 0.2436, Class 4: 0.5068, Class 5: 0.2302, Class 6: 0.7282, \n",
      "\n",
      "Overall Mean Dice Score: 0.5899\n",
      "Overall Mean F-beta Score: 0.6085\n",
      "Overall Mean IoU Score: 0.4444\n",
      "Final_score: 0.5264\n",
      "Training Loss: 0.2494, Validation Loss: 0.2436, Validation hybrid_score: 0.5264\n",
      "========================================================\n",
      "SUPER Best model saved. Loss:0.2436, Score:0.5264\n",
      "========================================================\n",
      "Epoch 6/4000\n"
     ]
    },
    {
     "name": "stderr",
     "output_type": "stream",
     "text": [
      "Training: 100%|██████████| 120/120 [02:45<00:00,  1.38s/it, loss=0.242]\n",
      "Validation: 100%|██████████| 20/20 [00:15<00:00,  1.26it/s, loss=0.255]\n"
     ]
    },
    {
     "name": "stdout",
     "output_type": "stream",
     "text": [
      "Validation Dice Score\n",
      "Class 0: 0.9857, Class 1: 0.7051, Class 2: 0.1035, Class 3: 0.4039, Class 4: 0.6865, Class 5: 0.4260, Class 6: 0.8789, \n",
      "Validation F-beta Score\n",
      "Class 0: 0.9840, Class 1: 0.7423, Class 2: 0.0673, Class 3: 0.5439, Class 4: 0.7394, Class 5: 0.4088, Class 6: 0.9166, \n",
      "Validation mIoU Score\n",
      "Class 0: 0.9718, Class 1: 0.5458, Class 2: 0.0567, Class 3: 0.2572, Class 4: 0.5238, Class 5: 0.2727, Class 6: 0.7844, \n",
      "\n",
      "Overall Mean Dice Score: 0.6201\n",
      "Overall Mean F-beta Score: 0.6702\n",
      "Overall Mean IoU Score: 0.4768\n",
      "Final_score: 0.5735\n",
      "Training Loss: 0.2448, Validation Loss: 0.2412, Validation hybrid_score: 0.5735\n",
      "========================================================\n",
      "SUPER Best model saved. Loss:0.2412, Score:0.5735\n",
      "========================================================\n",
      "Epoch 7/4000\n"
     ]
    },
    {
     "name": "stderr",
     "output_type": "stream",
     "text": [
      "Training: 100%|██████████| 120/120 [02:54<00:00,  1.45s/it, loss=0.246]\n",
      "Validation: 100%|██████████| 20/20 [00:16<00:00,  1.23it/s, loss=0.25] \n"
     ]
    },
    {
     "name": "stdout",
     "output_type": "stream",
     "text": [
      "Validation Dice Score\n",
      "Class 0: 0.9862, Class 1: 0.6544, Class 2: 0.1228, Class 3: 0.4287, Class 4: 0.6900, Class 5: 0.4367, Class 6: 0.8253, \n",
      "Validation F-beta Score\n",
      "Class 0: 0.9855, Class 1: 0.8275, Class 2: 0.0874, Class 3: 0.5526, Class 4: 0.6691, Class 5: 0.4402, Class 6: 0.9460, \n",
      "Validation mIoU Score\n",
      "Class 0: 0.9727, Class 1: 0.4885, Class 2: 0.0681, Class 3: 0.2739, Class 4: 0.5293, Class 5: 0.2808, Class 6: 0.7067, \n",
      "\n",
      "Overall Mean Dice Score: 0.6070\n",
      "Overall Mean F-beta Score: 0.6870\n",
      "Overall Mean IoU Score: 0.4559\n",
      "Final_score: 0.5715\n",
      "Training Loss: 0.2425, Validation Loss: 0.2411, Validation hybrid_score: 0.5715\n",
      "Epoch 8/4000\n"
     ]
    },
    {
     "name": "stderr",
     "output_type": "stream",
     "text": [
      "Training: 100%|██████████| 120/120 [02:54<00:00,  1.45s/it, loss=0.24] \n",
      "Validation: 100%|██████████| 20/20 [00:16<00:00,  1.24it/s, loss=0.243]\n"
     ]
    },
    {
     "name": "stdout",
     "output_type": "stream",
     "text": [
      "Validation Dice Score\n",
      "Class 0: 0.9873, Class 1: 0.7231, Class 2: 0.0830, Class 3: 0.4454, Class 4: 0.6692, Class 5: 0.4301, Class 6: 0.8501, \n",
      "Validation F-beta Score\n",
      "Class 0: 0.9890, Class 1: 0.8384, Class 2: 0.0546, Class 3: 0.5067, Class 4: 0.6315, Class 5: 0.3810, Class 6: 0.9481, \n",
      "Validation mIoU Score\n",
      "Class 0: 0.9749, Class 1: 0.5687, Class 2: 0.0449, Class 3: 0.2879, Class 4: 0.5041, Class 5: 0.2756, Class 6: 0.7418, \n",
      "\n",
      "Overall Mean Dice Score: 0.6236\n",
      "Overall Mean F-beta Score: 0.6612\n",
      "Overall Mean IoU Score: 0.4756\n",
      "Final_score: 0.5684\n",
      "Training Loss: 0.2407, Validation Loss: 0.2404, Validation hybrid_score: 0.5684\n",
      "Epoch 9/4000\n"
     ]
    },
    {
     "name": "stderr",
     "output_type": "stream",
     "text": [
      "Training: 100%|██████████| 120/120 [02:48<00:00,  1.40s/it, loss=0.238]\n",
      "Validation: 100%|██████████| 20/20 [00:15<00:00,  1.27it/s, loss=0.236]\n"
     ]
    },
    {
     "name": "stdout",
     "output_type": "stream",
     "text": [
      "Validation Dice Score\n",
      "Class 0: 0.9870, Class 1: 0.7330, Class 2: 0.1719, Class 3: 0.4325, Class 4: 0.6776, Class 5: 0.4389, Class 6: 0.8532, \n",
      "Validation F-beta Score\n",
      "Class 0: 0.9876, Class 1: 0.8327, Class 2: 0.1398, Class 3: 0.6130, Class 4: 0.6458, Class 5: 0.3967, Class 6: 0.9532, \n",
      "Validation mIoU Score\n",
      "Class 0: 0.9744, Class 1: 0.5795, Class 2: 0.0977, Class 3: 0.2774, Class 4: 0.5139, Class 5: 0.2830, Class 6: 0.7465, \n",
      "\n",
      "Overall Mean Dice Score: 0.6270\n",
      "Overall Mean F-beta Score: 0.6883\n",
      "Overall Mean IoU Score: 0.4800\n",
      "Final_score: 0.5842\n",
      "Training Loss: 0.2395, Validation Loss: 0.2383, Validation hybrid_score: 0.5842\n",
      "========================================================\n",
      "SUPER Best model saved. Loss:0.2383, Score:0.5842\n",
      "========================================================\n",
      "Epoch 10/4000\n"
     ]
    },
    {
     "name": "stderr",
     "output_type": "stream",
     "text": [
      "Training: 100%|██████████| 120/120 [02:46<00:00,  1.39s/it, loss=0.241]\n",
      "Validation: 100%|██████████| 20/20 [00:15<00:00,  1.26it/s, loss=0.233]\n"
     ]
    },
    {
     "name": "stdout",
     "output_type": "stream",
     "text": [
      "Validation Dice Score\n",
      "Class 0: 0.9872, Class 1: 0.7679, Class 2: 0.1798, Class 3: 0.4733, Class 4: 0.6960, Class 5: 0.4718, Class 6: 0.8988, \n",
      "Validation F-beta Score\n",
      "Class 0: 0.9879, Class 1: 0.7529, Class 2: 0.1763, Class 3: 0.5451, Class 4: 0.6405, Class 5: 0.4811, Class 6: 0.9428, \n",
      "Validation mIoU Score\n",
      "Class 0: 0.9747, Class 1: 0.6250, Class 2: 0.1032, Class 3: 0.3122, Class 4: 0.5349, Class 5: 0.3106, Class 6: 0.8167, \n",
      "\n",
      "Overall Mean Dice Score: 0.6616\n",
      "Overall Mean F-beta Score: 0.6725\n",
      "Overall Mean IoU Score: 0.5199\n",
      "Final_score: 0.5962\n",
      "Training Loss: 0.2379, Validation Loss: 0.2328, Validation hybrid_score: 0.5962\n",
      "========================================================\n",
      "SUPER Best model saved. Loss:0.2328, Score:0.5962\n",
      "========================================================\n",
      "Epoch 11/4000\n"
     ]
    },
    {
     "name": "stderr",
     "output_type": "stream",
     "text": [
      "Training: 100%|██████████| 120/120 [02:46<00:00,  1.39s/it, loss=0.248]\n",
      "Validation: 100%|██████████| 20/20 [00:15<00:00,  1.26it/s, loss=0.24] \n"
     ]
    },
    {
     "name": "stdout",
     "output_type": "stream",
     "text": [
      "Validation Dice Score\n",
      "Class 0: 0.9882, Class 1: 0.7445, Class 2: 0.1937, Class 3: 0.4445, Class 4: 0.7087, Class 5: 0.4231, Class 6: 0.8605, \n",
      "Validation F-beta Score\n",
      "Class 0: 0.9900, Class 1: 0.8603, Class 2: 0.1483, Class 3: 0.5630, Class 4: 0.6717, Class 5: 0.3569, Class 6: 0.9231, \n",
      "Validation mIoU Score\n",
      "Class 0: 0.9766, Class 1: 0.5942, Class 2: 0.1106, Class 3: 0.2871, Class 4: 0.5498, Class 5: 0.2697, Class 6: 0.7652, \n",
      "\n",
      "Overall Mean Dice Score: 0.6363\n",
      "Overall Mean F-beta Score: 0.6750\n",
      "Overall Mean IoU Score: 0.4932\n",
      "Final_score: 0.5841\n",
      "Training Loss: 0.2367, Validation Loss: 0.2337, Validation hybrid_score: 0.5841\n",
      "Epoch 12/4000\n"
     ]
    },
    {
     "name": "stderr",
     "output_type": "stream",
     "text": [
      "Training: 100%|██████████| 120/120 [02:46<00:00,  1.39s/it, loss=0.237]\n",
      "Validation: 100%|██████████| 20/20 [00:15<00:00,  1.28it/s, loss=0.233]\n"
     ]
    },
    {
     "name": "stdout",
     "output_type": "stream",
     "text": [
      "Validation Dice Score\n",
      "Class 0: 0.9875, Class 1: 0.7695, Class 2: 0.1689, Class 3: 0.4416, Class 4: 0.7132, Class 5: 0.4672, Class 6: 0.8634, \n",
      "Validation F-beta Score\n",
      "Class 0: 0.9867, Class 1: 0.8185, Class 2: 0.1509, Class 3: 0.5636, Class 4: 0.7308, Class 5: 0.4439, Class 6: 0.9500, \n",
      "Validation mIoU Score\n",
      "Class 0: 0.9753, Class 1: 0.6264, Class 2: 0.0947, Class 3: 0.2849, Class 4: 0.5553, Class 5: 0.3062, Class 6: 0.7610, \n",
      "\n",
      "Overall Mean Dice Score: 0.6510\n",
      "Overall Mean F-beta Score: 0.7014\n",
      "Overall Mean IoU Score: 0.5068\n",
      "Final_score: 0.6041\n",
      "Training Loss: 0.2352, Validation Loss: 0.2341, Validation hybrid_score: 0.6041\n",
      "Epoch 13/4000\n"
     ]
    },
    {
     "name": "stderr",
     "output_type": "stream",
     "text": [
      "Training: 100%|██████████| 120/120 [02:48<00:00,  1.40s/it, loss=0.237]\n",
      "Validation: 100%|██████████| 20/20 [00:15<00:00,  1.27it/s, loss=0.248]\n"
     ]
    },
    {
     "name": "stdout",
     "output_type": "stream",
     "text": [
      "Validation Dice Score\n",
      "Class 0: 0.9841, Class 1: 0.6812, Class 2: 0.1527, Class 3: 0.4407, Class 4: 0.6565, Class 5: 0.4332, Class 6: 0.8320, \n",
      "Validation F-beta Score\n",
      "Class 0: 0.9794, Class 1: 0.8951, Class 2: 0.1302, Class 3: 0.5799, Class 4: 0.8049, Class 5: 0.4180, Class 6: 0.9511, \n",
      "Validation mIoU Score\n",
      "Class 0: 0.9686, Class 1: 0.5188, Class 2: 0.0881, Class 3: 0.2838, Class 4: 0.4911, Class 5: 0.2784, Class 6: 0.7153, \n",
      "\n",
      "Overall Mean Dice Score: 0.6087\n",
      "Overall Mean F-beta Score: 0.7298\n",
      "Overall Mean IoU Score: 0.4575\n",
      "Final_score: 0.5937\n",
      "Training Loss: 0.2369, Validation Loss: 0.2436, Validation hybrid_score: 0.5937\n",
      "Epoch 14/4000\n"
     ]
    },
    {
     "name": "stderr",
     "output_type": "stream",
     "text": [
      "Training: 100%|██████████| 120/120 [02:46<00:00,  1.38s/it, loss=0.246]\n",
      "Validation: 100%|██████████| 20/20 [00:15<00:00,  1.28it/s, loss=0.236]\n"
     ]
    },
    {
     "name": "stdout",
     "output_type": "stream",
     "text": [
      "Validation Dice Score\n",
      "Class 0: 0.9869, Class 1: 0.7867, Class 2: 0.1675, Class 3: 0.4910, Class 4: 0.7314, Class 5: 0.4663, Class 6: 0.8960, \n",
      "Validation F-beta Score\n",
      "Class 0: 0.9858, Class 1: 0.8123, Class 2: 0.1643, Class 3: 0.5144, Class 4: 0.7290, Class 5: 0.5095, Class 6: 0.9498, \n",
      "Validation mIoU Score\n",
      "Class 0: 0.9741, Class 1: 0.6498, Class 2: 0.0947, Class 3: 0.3281, Class 4: 0.5772, Class 5: 0.3056, Class 6: 0.8122, \n",
      "\n",
      "Overall Mean Dice Score: 0.6743\n",
      "Overall Mean F-beta Score: 0.7030\n",
      "Overall Mean IoU Score: 0.5346\n",
      "Final_score: 0.6188\n",
      "Training Loss: 0.2347, Validation Loss: 0.2327, Validation hybrid_score: 0.6188\n",
      "========================================================\n",
      "SUPER Best model saved. Loss:0.2327, Score:0.6188\n",
      "========================================================\n",
      "Epoch 15/4000\n"
     ]
    },
    {
     "name": "stderr",
     "output_type": "stream",
     "text": [
      "Training: 100%|██████████| 120/120 [02:46<00:00,  1.39s/it, loss=0.239]\n",
      "Validation: 100%|██████████| 20/20 [00:15<00:00,  1.27it/s, loss=0.229]\n"
     ]
    },
    {
     "name": "stdout",
     "output_type": "stream",
     "text": [
      "Validation Dice Score\n",
      "Class 0: 0.9865, Class 1: 0.7501, Class 2: 0.2005, Class 3: 0.4763, Class 4: 0.6864, Class 5: 0.4522, Class 6: 0.8869, \n",
      "Validation F-beta Score\n",
      "Class 0: 0.9838, Class 1: 0.8760, Class 2: 0.1629, Class 3: 0.5668, Class 4: 0.7862, Class 5: 0.4341, Class 6: 0.9548, \n",
      "Validation mIoU Score\n",
      "Class 0: 0.9734, Class 1: 0.6018, Class 2: 0.1147, Class 3: 0.3140, Class 4: 0.5250, Class 5: 0.2937, Class 6: 0.7974, \n",
      "\n",
      "Overall Mean Dice Score: 0.6504\n",
      "Overall Mean F-beta Score: 0.7236\n",
      "Overall Mean IoU Score: 0.5064\n",
      "Final_score: 0.6150\n",
      "Training Loss: 0.2342, Validation Loss: 0.2358, Validation hybrid_score: 0.6150\n",
      "Epoch 16/4000\n"
     ]
    },
    {
     "name": "stderr",
     "output_type": "stream",
     "text": [
      "Training: 100%|██████████| 120/120 [02:46<00:00,  1.39s/it, loss=0.227]\n",
      "Validation: 100%|██████████| 20/20 [00:15<00:00,  1.27it/s, loss=0.224]\n"
     ]
    },
    {
     "name": "stdout",
     "output_type": "stream",
     "text": [
      "Validation Dice Score\n",
      "Class 0: 0.9867, Class 1: 0.7232, Class 2: 0.1428, Class 3: 0.4663, Class 4: 0.7289, Class 5: 0.4625, Class 6: 0.8664, \n",
      "Validation F-beta Score\n",
      "Class 0: 0.9850, Class 1: 0.8694, Class 2: 0.1173, Class 3: 0.5632, Class 4: 0.7720, Class 5: 0.4456, Class 6: 0.9501, \n",
      "Validation mIoU Score\n",
      "Class 0: 0.9738, Class 1: 0.5697, Class 2: 0.0801, Class 3: 0.3057, Class 4: 0.5748, Class 5: 0.3029, Class 6: 0.7656, \n",
      "\n",
      "Overall Mean Dice Score: 0.6495\n",
      "Overall Mean F-beta Score: 0.7200\n",
      "Overall Mean IoU Score: 0.5037\n",
      "Final_score: 0.6119\n",
      "Training Loss: 0.2337, Validation Loss: 0.2370, Validation hybrid_score: 0.6119\n",
      "Epoch 17/4000\n"
     ]
    },
    {
     "name": "stderr",
     "output_type": "stream",
     "text": [
      "Training: 100%|██████████| 120/120 [02:46<00:00,  1.39s/it, loss=0.241]\n",
      "Validation: 100%|██████████| 20/20 [00:15<00:00,  1.26it/s, loss=0.227]\n"
     ]
    },
    {
     "name": "stdout",
     "output_type": "stream",
     "text": [
      "Validation Dice Score\n",
      "Class 0: 0.9879, Class 1: 0.7744, Class 2: 0.2465, Class 3: 0.4520, Class 4: 0.6998, Class 5: 0.4803, Class 6: 0.8927, \n",
      "Validation F-beta Score\n",
      "Class 0: 0.9870, Class 1: 0.8654, Class 2: 0.2636, Class 3: 0.5268, Class 4: 0.7291, Class 5: 0.4652, Class 6: 0.9535, \n",
      "Validation mIoU Score\n",
      "Class 0: 0.9762, Class 1: 0.6338, Class 2: 0.1474, Class 3: 0.2939, Class 4: 0.5399, Class 5: 0.3174, Class 6: 0.8070, \n",
      "\n",
      "Overall Mean Dice Score: 0.6599\n",
      "Overall Mean F-beta Score: 0.7080\n",
      "Overall Mean IoU Score: 0.5184\n",
      "Final_score: 0.6132\n",
      "Training Loss: 0.2325, Validation Loss: 0.2316, Validation hybrid_score: 0.6132\n",
      "Epoch 18/4000\n"
     ]
    },
    {
     "name": "stderr",
     "output_type": "stream",
     "text": [
      "Training: 100%|██████████| 120/120 [02:46<00:00,  1.39s/it, loss=0.233]\n",
      "Validation: 100%|██████████| 20/20 [00:15<00:00,  1.28it/s, loss=0.216]\n"
     ]
    },
    {
     "name": "stdout",
     "output_type": "stream",
     "text": [
      "Validation Dice Score\n",
      "Class 0: 0.9864, Class 1: 0.7964, Class 2: 0.2117, Class 3: 0.4858, Class 4: 0.7099, Class 5: 0.4823, Class 6: 0.8808, \n",
      "Validation F-beta Score\n",
      "Class 0: 0.9834, Class 1: 0.8454, Class 2: 0.2307, Class 3: 0.6193, Class 4: 0.7637, Class 5: 0.5103, Class 6: 0.9575, \n",
      "Validation mIoU Score\n",
      "Class 0: 0.9731, Class 1: 0.6626, Class 2: 0.1269, Class 3: 0.3228, Class 4: 0.5513, Class 5: 0.3198, Class 6: 0.7880, \n",
      "\n",
      "Overall Mean Dice Score: 0.6710\n",
      "Overall Mean F-beta Score: 0.7392\n",
      "Overall Mean IoU Score: 0.5289\n",
      "Final_score: 0.6341\n",
      "Training Loss: 0.2323, Validation Loss: 0.2309, Validation hybrid_score: 0.6341\n",
      "========================================================\n",
      "SUPER Best model saved. Loss:0.2309, Score:0.6341\n",
      "========================================================\n",
      "Epoch 19/4000\n"
     ]
    },
    {
     "name": "stderr",
     "output_type": "stream",
     "text": [
      "Training: 100%|██████████| 120/120 [02:46<00:00,  1.39s/it, loss=0.229]\n",
      "Validation: 100%|██████████| 20/20 [00:15<00:00,  1.27it/s, loss=0.238]\n"
     ]
    },
    {
     "name": "stdout",
     "output_type": "stream",
     "text": [
      "Validation Dice Score\n",
      "Class 0: 0.9874, Class 1: 0.7630, Class 2: 0.1791, Class 3: 0.4619, Class 4: 0.7310, Class 5: 0.4900, Class 6: 0.8801, \n",
      "Validation F-beta Score\n",
      "Class 0: 0.9865, Class 1: 0.8599, Class 2: 0.1734, Class 3: 0.5642, Class 4: 0.7425, Class 5: 0.4783, Class 6: 0.9562, \n",
      "Validation mIoU Score\n",
      "Class 0: 0.9751, Class 1: 0.6222, Class 2: 0.1034, Class 3: 0.3027, Class 4: 0.5769, Class 5: 0.3255, Class 6: 0.7867, \n",
      "\n",
      "Overall Mean Dice Score: 0.6652\n",
      "Overall Mean F-beta Score: 0.7202\n",
      "Overall Mean IoU Score: 0.5228\n",
      "Final_score: 0.6215\n",
      "Training Loss: 0.2325, Validation Loss: 0.2318, Validation hybrid_score: 0.6215\n",
      "Epoch 20/4000\n"
     ]
    },
    {
     "name": "stderr",
     "output_type": "stream",
     "text": [
      "Training: 100%|██████████| 120/120 [02:47<00:00,  1.40s/it, loss=0.236]\n",
      "Validation: 100%|██████████| 20/20 [00:15<00:00,  1.26it/s, loss=0.222]\n"
     ]
    },
    {
     "name": "stdout",
     "output_type": "stream",
     "text": [
      "Validation Dice Score\n",
      "Class 0: 0.9871, Class 1: 0.7614, Class 2: 0.2289, Class 3: 0.4902, Class 4: 0.7267, Class 5: 0.4791, Class 6: 0.8669, \n",
      "Validation F-beta Score\n",
      "Class 0: 0.9840, Class 1: 0.8783, Class 2: 0.2450, Class 3: 0.6363, Class 4: 0.8000, Class 5: 0.4865, Class 6: 0.9627, \n",
      "Validation mIoU Score\n",
      "Class 0: 0.9746, Class 1: 0.6163, Class 2: 0.1336, Class 3: 0.3273, Class 4: 0.5723, Class 5: 0.3171, Class 6: 0.7658, \n",
      "\n",
      "Overall Mean Dice Score: 0.6649\n",
      "Overall Mean F-beta Score: 0.7528\n",
      "Overall Mean IoU Score: 0.5198\n",
      "Final_score: 0.6363\n",
      "Training Loss: 0.2301, Validation Loss: 0.2303, Validation hybrid_score: 0.6363\n",
      "========================================================\n",
      "SUPER Best model saved. Loss:0.2303, Score:0.6363\n",
      "========================================================\n",
      "Epoch 21/4000\n"
     ]
    },
    {
     "name": "stderr",
     "output_type": "stream",
     "text": [
      "Training: 100%|██████████| 120/120 [02:45<00:00,  1.38s/it, loss=0.233]\n",
      "Validation: 100%|██████████| 20/20 [00:15<00:00,  1.26it/s, loss=0.232]\n"
     ]
    },
    {
     "name": "stdout",
     "output_type": "stream",
     "text": [
      "Validation Dice Score\n",
      "Class 0: 0.9866, Class 1: 0.7458, Class 2: 0.2132, Class 3: 0.4246, Class 4: 0.7284, Class 5: 0.4941, Class 6: 0.8801, \n",
      "Validation F-beta Score\n",
      "Class 0: 0.9838, Class 1: 0.8864, Class 2: 0.2923, Class 3: 0.6574, Class 4: 0.7560, Class 5: 0.4903, Class 6: 0.9599, \n",
      "Validation mIoU Score\n",
      "Class 0: 0.9735, Class 1: 0.5965, Class 2: 0.1236, Class 3: 0.2708, Class 4: 0.5745, Class 5: 0.3304, Class 6: 0.7864, \n",
      "\n",
      "Overall Mean Dice Score: 0.6546\n",
      "Overall Mean F-beta Score: 0.7500\n",
      "Overall Mean IoU Score: 0.5117\n",
      "Final_score: 0.6309\n",
      "Training Loss: 0.2320, Validation Loss: 0.2336, Validation hybrid_score: 0.6309\n",
      "Epoch 22/4000\n"
     ]
    },
    {
     "name": "stderr",
     "output_type": "stream",
     "text": [
      "Training: 100%|██████████| 120/120 [02:46<00:00,  1.38s/it, loss=0.24] \n",
      "Validation: 100%|██████████| 20/20 [00:15<00:00,  1.26it/s, loss=0.24] \n"
     ]
    },
    {
     "name": "stdout",
     "output_type": "stream",
     "text": [
      "Validation Dice Score\n",
      "Class 0: 0.9868, Class 1: 0.7804, Class 2: 0.2101, Class 3: 0.4516, Class 4: 0.7345, Class 5: 0.5049, Class 6: 0.8815, \n",
      "Validation F-beta Score\n",
      "Class 0: 0.9834, Class 1: 0.8456, Class 2: 0.2662, Class 3: 0.6260, Class 4: 0.8045, Class 5: 0.5227, Class 6: 0.9500, \n",
      "Validation mIoU Score\n",
      "Class 0: 0.9740, Class 1: 0.6414, Class 2: 0.1216, Class 3: 0.2926, Class 4: 0.5820, Class 5: 0.3396, Class 6: 0.7894, \n",
      "\n",
      "Overall Mean Dice Score: 0.6706\n",
      "Overall Mean F-beta Score: 0.7498\n",
      "Overall Mean IoU Score: 0.5290\n",
      "Final_score: 0.6394\n",
      "Training Loss: 0.2305, Validation Loss: 0.2321, Validation hybrid_score: 0.6394\n",
      "Epoch 23/4000\n"
     ]
    },
    {
     "name": "stderr",
     "output_type": "stream",
     "text": [
      "Training: 100%|██████████| 120/120 [02:47<00:00,  1.39s/it, loss=0.231]\n",
      "Validation: 100%|██████████| 20/20 [00:16<00:00,  1.21it/s, loss=0.229]\n"
     ]
    },
    {
     "name": "stdout",
     "output_type": "stream",
     "text": [
      "Validation Dice Score\n",
      "Class 0: 0.9864, Class 1: 0.7429, Class 2: 0.2089, Class 3: 0.4375, Class 4: 0.7187, Class 5: 0.4688, Class 6: 0.9047, \n",
      "Validation F-beta Score\n",
      "Class 0: 0.9836, Class 1: 0.8777, Class 2: 0.2279, Class 3: 0.5752, Class 4: 0.7231, Class 5: 0.5409, Class 6: 0.9516, \n",
      "Validation mIoU Score\n",
      "Class 0: 0.9732, Class 1: 0.5932, Class 2: 0.1223, Class 3: 0.2827, Class 4: 0.5630, Class 5: 0.3084, Class 6: 0.8267, \n",
      "\n",
      "Overall Mean Dice Score: 0.6545\n",
      "Overall Mean F-beta Score: 0.7337\n",
      "Overall Mean IoU Score: 0.5148\n",
      "Final_score: 0.6242\n",
      "Training Loss: 0.2297, Validation Loss: 0.2326, Validation hybrid_score: 0.6242\n",
      "Epoch 24/4000\n"
     ]
    },
    {
     "name": "stderr",
     "output_type": "stream",
     "text": [
      "Training: 100%|██████████| 120/120 [02:46<00:00,  1.39s/it, loss=0.231]\n",
      "Validation: 100%|██████████| 20/20 [00:16<00:00,  1.25it/s, loss=0.233]\n"
     ]
    },
    {
     "name": "stdout",
     "output_type": "stream",
     "text": [
      "Validation Dice Score\n",
      "Class 0: 0.9868, Class 1: 0.7847, Class 2: 0.1963, Class 3: 0.4714, Class 4: 0.7067, Class 5: 0.5091, Class 6: 0.8667, \n",
      "Validation F-beta Score\n",
      "Class 0: 0.9842, Class 1: 0.8724, Class 2: 0.2097, Class 3: 0.6122, Class 4: 0.7324, Class 5: 0.5586, Class 6: 0.9616, \n",
      "Validation mIoU Score\n",
      "Class 0: 0.9740, Class 1: 0.6481, Class 2: 0.1112, Class 3: 0.3108, Class 4: 0.5487, Class 5: 0.3423, Class 6: 0.7652, \n",
      "\n",
      "Overall Mean Dice Score: 0.6677\n",
      "Overall Mean F-beta Score: 0.7475\n",
      "Overall Mean IoU Score: 0.5230\n",
      "Final_score: 0.6352\n",
      "Training Loss: 0.2304, Validation Loss: 0.2322, Validation hybrid_score: 0.6352\n",
      "Epoch 25/4000\n"
     ]
    },
    {
     "name": "stderr",
     "output_type": "stream",
     "text": [
      "Training: 100%|██████████| 120/120 [02:47<00:00,  1.39s/it, loss=0.23] \n",
      "Validation: 100%|██████████| 20/20 [00:15<00:00,  1.26it/s, loss=0.229]\n"
     ]
    },
    {
     "name": "stdout",
     "output_type": "stream",
     "text": [
      "Validation Dice Score\n",
      "Class 0: 0.9866, Class 1: 0.7963, Class 2: 0.1860, Class 3: 0.4917, Class 4: 0.7249, Class 5: 0.4783, Class 6: 0.8593, \n",
      "Validation F-beta Score\n",
      "Class 0: 0.9837, Class 1: 0.8569, Class 2: 0.1968, Class 3: 0.5668, Class 4: 0.7204, Class 5: 0.5710, Class 6: 0.9640, \n",
      "Validation mIoU Score\n",
      "Class 0: 0.9735, Class 1: 0.6626, Class 2: 0.1053, Class 3: 0.3273, Class 4: 0.5699, Class 5: 0.3173, Class 6: 0.7540, \n",
      "\n",
      "Overall Mean Dice Score: 0.6701\n",
      "Overall Mean F-beta Score: 0.7358\n",
      "Overall Mean IoU Score: 0.5262\n",
      "Final_score: 0.6310\n",
      "Training Loss: 0.2298, Validation Loss: 0.2319, Validation hybrid_score: 0.6310\n",
      "Epoch 26/4000\n"
     ]
    },
    {
     "name": "stderr",
     "output_type": "stream",
     "text": [
      "Training: 100%|██████████| 120/120 [02:46<00:00,  1.39s/it, loss=0.225]\n",
      "Validation: 100%|██████████| 20/20 [00:15<00:00,  1.26it/s, loss=0.227]\n"
     ]
    },
    {
     "name": "stdout",
     "output_type": "stream",
     "text": [
      "Validation Dice Score\n",
      "Class 0: 0.9864, Class 1: 0.7494, Class 2: 0.2123, Class 3: 0.4888, Class 4: 0.7390, Class 5: 0.5128, Class 6: 0.8360, \n",
      "Validation F-beta Score\n",
      "Class 0: 0.9835, Class 1: 0.8968, Class 2: 0.2337, Class 3: 0.6274, Class 4: 0.7503, Class 5: 0.5706, Class 6: 0.9636, \n",
      "Validation mIoU Score\n",
      "Class 0: 0.9732, Class 1: 0.6005, Class 2: 0.1216, Class 3: 0.3243, Class 4: 0.5875, Class 5: 0.3465, Class 6: 0.7197, \n",
      "\n",
      "Overall Mean Dice Score: 0.6652\n",
      "Overall Mean F-beta Score: 0.7617\n",
      "Overall Mean IoU Score: 0.5157\n",
      "Final_score: 0.6387\n",
      "Training Loss: 0.2296, Validation Loss: 0.2333, Validation hybrid_score: 0.6387\n",
      "Epoch 27/4000\n"
     ]
    },
    {
     "name": "stderr",
     "output_type": "stream",
     "text": [
      "Training: 100%|██████████| 120/120 [02:57<00:00,  1.48s/it, loss=0.228]\n",
      "Validation: 100%|██████████| 20/20 [00:15<00:00,  1.26it/s, loss=0.247]\n"
     ]
    },
    {
     "name": "stdout",
     "output_type": "stream",
     "text": [
      "Validation Dice Score\n",
      "Class 0: 0.9867, Class 1: 0.7876, Class 2: 0.2495, Class 3: 0.4647, Class 4: 0.7304, Class 5: 0.4850, Class 6: 0.8676, \n",
      "Validation F-beta Score\n",
      "Class 0: 0.9832, Class 1: 0.7994, Class 2: 0.3051, Class 3: 0.5457, Class 4: 0.7566, Class 5: 0.5807, Class 6: 0.9647, \n",
      "Validation mIoU Score\n",
      "Class 0: 0.9737, Class 1: 0.6510, Class 2: 0.1457, Class 3: 0.3051, Class 4: 0.5778, Class 5: 0.3234, Class 6: 0.7680, \n",
      "\n",
      "Overall Mean Dice Score: 0.6671\n",
      "Overall Mean F-beta Score: 0.7294\n",
      "Overall Mean IoU Score: 0.5251\n",
      "Final_score: 0.6272\n",
      "Training Loss: 0.2295, Validation Loss: 0.2330, Validation hybrid_score: 0.6272\n",
      "Epoch 28/4000\n"
     ]
    },
    {
     "name": "stderr",
     "output_type": "stream",
     "text": [
      "Training: 100%|██████████| 120/120 [02:52<00:00,  1.44s/it, loss=0.238]\n",
      "Validation: 100%|██████████| 20/20 [00:16<00:00,  1.24it/s, loss=0.231]\n"
     ]
    },
    {
     "name": "stdout",
     "output_type": "stream",
     "text": [
      "Validation Dice Score\n",
      "Class 0: 0.9872, Class 1: 0.7368, Class 2: 0.2657, Class 3: 0.4848, Class 4: 0.7458, Class 5: 0.4835, Class 6: 0.8790, \n",
      "Validation F-beta Score\n",
      "Class 0: 0.9850, Class 1: 0.8800, Class 2: 0.2612, Class 3: 0.6347, Class 4: 0.7625, Class 5: 0.5157, Class 6: 0.9605, \n",
      "Validation mIoU Score\n",
      "Class 0: 0.9747, Class 1: 0.5852, Class 2: 0.1575, Class 3: 0.3209, Class 4: 0.5954, Class 5: 0.3208, Class 6: 0.7850, \n",
      "\n",
      "Overall Mean Dice Score: 0.6660\n",
      "Overall Mean F-beta Score: 0.7507\n",
      "Overall Mean IoU Score: 0.5215\n",
      "Final_score: 0.6361\n",
      "Training Loss: 0.2302, Validation Loss: 0.2305, Validation hybrid_score: 0.6361\n",
      "Epoch 29/4000\n"
     ]
    },
    {
     "name": "stderr",
     "output_type": "stream",
     "text": [
      "Training: 100%|██████████| 120/120 [02:53<00:00,  1.45s/it, loss=0.244]\n",
      "Validation: 100%|██████████| 20/20 [00:16<00:00,  1.21it/s, loss=0.238]\n"
     ]
    },
    {
     "name": "stdout",
     "output_type": "stream",
     "text": [
      "Validation Dice Score\n",
      "Class 0: 0.9869, Class 1: 0.7818, Class 2: 0.2945, Class 3: 0.4876, Class 4: 0.7425, Class 5: 0.4827, Class 6: 0.8846, \n",
      "Validation F-beta Score\n",
      "Class 0: 0.9846, Class 1: 0.8844, Class 2: 0.2826, Class 3: 0.6181, Class 4: 0.7243, Class 5: 0.5710, Class 6: 0.9594, \n",
      "Validation mIoU Score\n",
      "Class 0: 0.9741, Class 1: 0.6433, Class 2: 0.1793, Class 3: 0.3240, Class 4: 0.5914, Class 5: 0.3201, Class 6: 0.7936, \n",
      "\n",
      "Overall Mean Dice Score: 0.6759\n",
      "Overall Mean F-beta Score: 0.7514\n",
      "Overall Mean IoU Score: 0.5345\n",
      "Final_score: 0.6430\n",
      "Training Loss: 0.2285, Validation Loss: 0.2296, Validation hybrid_score: 0.6430\n",
      "========================================================\n",
      "SUPER Best model saved. Loss:0.2296, Score:0.6430\n",
      "========================================================\n",
      "Epoch 30/4000\n"
     ]
    },
    {
     "name": "stderr",
     "output_type": "stream",
     "text": [
      "Training: 100%|██████████| 120/120 [02:55<00:00,  1.46s/it, loss=0.235]\n",
      "Validation: 100%|██████████| 20/20 [00:15<00:00,  1.25it/s, loss=0.226]\n"
     ]
    },
    {
     "name": "stdout",
     "output_type": "stream",
     "text": [
      "Validation Dice Score\n",
      "Class 0: 0.9862, Class 1: 0.7965, Class 2: 0.1730, Class 3: 0.4753, Class 4: 0.7248, Class 5: 0.5002, Class 6: 0.8727, \n",
      "Validation F-beta Score\n",
      "Class 0: 0.9841, Class 1: 0.8580, Class 2: 0.1605, Class 3: 0.5910, Class 4: 0.7359, Class 5: 0.5461, Class 6: 0.9606, \n",
      "Validation mIoU Score\n",
      "Class 0: 0.9728, Class 1: 0.6630, Class 2: 0.0998, Class 3: 0.3131, Class 4: 0.5693, Class 5: 0.3351, Class 6: 0.7752, \n",
      "\n",
      "Overall Mean Dice Score: 0.6739\n",
      "Overall Mean F-beta Score: 0.7383\n",
      "Overall Mean IoU Score: 0.5311\n",
      "Final_score: 0.6347\n",
      "Training Loss: 0.2284, Validation Loss: 0.2341, Validation hybrid_score: 0.6347\n",
      "Epoch 31/4000\n"
     ]
    },
    {
     "name": "stderr",
     "output_type": "stream",
     "text": [
      "Training: 100%|██████████| 120/120 [02:51<00:00,  1.43s/it, loss=0.234]\n",
      "Validation: 100%|██████████| 20/20 [00:16<00:00,  1.24it/s, loss=0.246]\n"
     ]
    },
    {
     "name": "stdout",
     "output_type": "stream",
     "text": [
      "Validation Dice Score\n",
      "Class 0: 0.9859, Class 1: 0.7471, Class 2: 0.2668, Class 3: 0.4651, Class 4: 0.7277, Class 5: 0.4941, Class 6: 0.8578, \n",
      "Validation F-beta Score\n",
      "Class 0: 0.9808, Class 1: 0.8874, Class 2: 0.3243, Class 3: 0.6059, Class 4: 0.7794, Class 5: 0.6093, Class 6: 0.9689, \n",
      "Validation mIoU Score\n",
      "Class 0: 0.9723, Class 1: 0.5991, Class 2: 0.1609, Class 3: 0.3047, Class 4: 0.5733, Class 5: 0.3299, Class 6: 0.7522, \n",
      "\n",
      "Overall Mean Dice Score: 0.6584\n",
      "Overall Mean F-beta Score: 0.7702\n",
      "Overall Mean IoU Score: 0.5118\n",
      "Final_score: 0.6410\n",
      "Training Loss: 0.2293, Validation Loss: 0.2351, Validation hybrid_score: 0.6410\n",
      "Epoch 32/4000\n"
     ]
    },
    {
     "name": "stderr",
     "output_type": "stream",
     "text": [
      "Training: 100%|██████████| 120/120 [02:51<00:00,  1.43s/it, loss=0.249]\n",
      "Validation: 100%|██████████| 20/20 [00:15<00:00,  1.26it/s, loss=0.219]\n"
     ]
    },
    {
     "name": "stdout",
     "output_type": "stream",
     "text": [
      "Validation Dice Score\n",
      "Class 0: 0.9877, Class 1: 0.7942, Class 2: 0.2756, Class 3: 0.4625, Class 4: 0.7131, Class 5: 0.4591, Class 6: 0.8862, \n",
      "Validation F-beta Score\n",
      "Class 0: 0.9875, Class 1: 0.8426, Class 2: 0.2438, Class 3: 0.5904, Class 4: 0.7358, Class 5: 0.4057, Class 6: 0.9549, \n",
      "Validation mIoU Score\n",
      "Class 0: 0.9756, Class 1: 0.6598, Class 2: 0.1660, Class 3: 0.3024, Class 4: 0.5557, Class 5: 0.3009, Class 6: 0.7966, \n",
      "\n",
      "Overall Mean Dice Score: 0.6630\n",
      "Overall Mean F-beta Score: 0.7059\n",
      "Overall Mean IoU Score: 0.5231\n",
      "Final_score: 0.6145\n",
      "Training Loss: 0.2285, Validation Loss: 0.2309, Validation hybrid_score: 0.6145\n",
      "Epoch 33/4000\n"
     ]
    },
    {
     "name": "stderr",
     "output_type": "stream",
     "text": [
      "Training: 100%|██████████| 120/120 [02:51<00:00,  1.43s/it, loss=0.22] \n",
      "Validation: 100%|██████████| 20/20 [00:16<00:00,  1.23it/s, loss=0.224]\n"
     ]
    },
    {
     "name": "stdout",
     "output_type": "stream",
     "text": [
      "Validation Dice Score\n",
      "Class 0: 0.9871, Class 1: 0.7553, Class 2: 0.2934, Class 3: 0.4706, Class 4: 0.7376, Class 5: 0.4881, Class 6: 0.8673, \n",
      "Validation F-beta Score\n",
      "Class 0: 0.9847, Class 1: 0.8531, Class 2: 0.3188, Class 3: 0.6612, Class 4: 0.7370, Class 5: 0.5328, Class 6: 0.9668, \n",
      "Validation mIoU Score\n",
      "Class 0: 0.9745, Class 1: 0.6091, Class 2: 0.1758, Class 3: 0.3096, Class 4: 0.5865, Class 5: 0.3246, Class 6: 0.7668, \n",
      "\n",
      "Overall Mean Dice Score: 0.6638\n",
      "Overall Mean F-beta Score: 0.7502\n",
      "Overall Mean IoU Score: 0.5193\n",
      "Final_score: 0.6348\n",
      "Training Loss: 0.2275, Validation Loss: 0.2324, Validation hybrid_score: 0.6348\n",
      "Epoch 34/4000\n"
     ]
    },
    {
     "name": "stderr",
     "output_type": "stream",
     "text": [
      "Training: 100%|██████████| 120/120 [02:52<00:00,  1.44s/it, loss=0.238]\n",
      "Validation: 100%|██████████| 20/20 [00:16<00:00,  1.23it/s, loss=0.224]\n"
     ]
    },
    {
     "name": "stdout",
     "output_type": "stream",
     "text": [
      "Validation Dice Score\n",
      "Class 0: 0.9876, Class 1: 0.7647, Class 2: 0.1246, Class 3: 0.4934, Class 4: 0.7245, Class 5: 0.5089, Class 6: 0.8973, \n",
      "Validation F-beta Score\n",
      "Class 0: 0.9874, Class 1: 0.8832, Class 2: 0.0904, Class 3: 0.6105, Class 4: 0.7109, Class 5: 0.5094, Class 6: 0.9536, \n",
      "Validation mIoU Score\n",
      "Class 0: 0.9755, Class 1: 0.6213, Class 2: 0.0695, Class 3: 0.3300, Class 4: 0.5697, Class 5: 0.3431, Class 6: 0.8142, \n",
      "\n",
      "Overall Mean Dice Score: 0.6778\n",
      "Overall Mean F-beta Score: 0.7335\n",
      "Overall Mean IoU Score: 0.5357\n",
      "Final_score: 0.6346\n",
      "Training Loss: 0.2276, Validation Loss: 0.2309, Validation hybrid_score: 0.6346\n",
      "Epoch 35/4000\n"
     ]
    },
    {
     "name": "stderr",
     "output_type": "stream",
     "text": [
      "Training: 100%|██████████| 120/120 [02:53<00:00,  1.45s/it, loss=0.225]\n",
      "Validation: 100%|██████████| 20/20 [00:16<00:00,  1.23it/s, loss=0.236]\n"
     ]
    },
    {
     "name": "stdout",
     "output_type": "stream",
     "text": [
      "Validation Dice Score\n",
      "Class 0: 0.9857, Class 1: 0.7815, Class 2: 0.2534, Class 3: 0.4805, Class 4: 0.7301, Class 5: 0.4905, Class 6: 0.8799, \n",
      "Validation F-beta Score\n",
      "Class 0: 0.9811, Class 1: 0.8297, Class 2: 0.2318, Class 3: 0.5859, Class 4: 0.8069, Class 5: 0.5817, Class 6: 0.9604, \n",
      "Validation mIoU Score\n",
      "Class 0: 0.9718, Class 1: 0.6425, Class 2: 0.1503, Class 3: 0.3181, Class 4: 0.5756, Class 5: 0.3268, Class 6: 0.7862, \n",
      "\n",
      "Overall Mean Dice Score: 0.6725\n",
      "Overall Mean F-beta Score: 0.7529\n",
      "Overall Mean IoU Score: 0.5299\n",
      "Final_score: 0.6414\n",
      "Training Loss: 0.2284, Validation Loss: 0.2325, Validation hybrid_score: 0.6414\n",
      "Epoch 36/4000\n"
     ]
    },
    {
     "name": "stderr",
     "output_type": "stream",
     "text": [
      "Training: 100%|██████████| 120/120 [02:52<00:00,  1.43s/it, loss=0.233]\n",
      "Validation: 100%|██████████| 20/20 [00:15<00:00,  1.26it/s, loss=0.224]\n"
     ]
    },
    {
     "name": "stdout",
     "output_type": "stream",
     "text": [
      "Validation Dice Score\n",
      "Class 0: 0.9869, Class 1: 0.7657, Class 2: 0.2086, Class 3: 0.4667, Class 4: 0.7097, Class 5: 0.5142, Class 6: 0.8743, \n",
      "Validation F-beta Score\n",
      "Class 0: 0.9837, Class 1: 0.8811, Class 2: 0.2090, Class 3: 0.6151, Class 4: 0.8008, Class 5: 0.5086, Class 6: 0.9607, \n",
      "Validation mIoU Score\n",
      "Class 0: 0.9741, Class 1: 0.6221, Class 2: 0.1219, Class 3: 0.3058, Class 4: 0.5514, Class 5: 0.3486, Class 6: 0.7776, \n",
      "\n",
      "Overall Mean Dice Score: 0.6661\n",
      "Overall Mean F-beta Score: 0.7533\n",
      "Overall Mean IoU Score: 0.5211\n",
      "Final_score: 0.6372\n",
      "Training Loss: 0.2285, Validation Loss: 0.2295, Validation hybrid_score: 0.6372\n",
      "Epoch 37/4000\n"
     ]
    },
    {
     "name": "stderr",
     "output_type": "stream",
     "text": [
      "Training: 100%|██████████| 120/120 [02:52<00:00,  1.43s/it, loss=0.229]\n",
      "Validation: 100%|██████████| 20/20 [00:15<00:00,  1.26it/s, loss=0.229]\n"
     ]
    },
    {
     "name": "stdout",
     "output_type": "stream",
     "text": [
      "Validation Dice Score\n",
      "Class 0: 0.9882, Class 1: 0.7920, Class 2: 0.2970, Class 3: 0.4942, Class 4: 0.7367, Class 5: 0.4865, Class 6: 0.9059, \n",
      "Validation F-beta Score\n",
      "Class 0: 0.9866, Class 1: 0.8055, Class 2: 0.2892, Class 3: 0.6020, Class 4: 0.7739, Class 5: 0.5019, Class 6: 0.9491, \n",
      "Validation mIoU Score\n",
      "Class 0: 0.9767, Class 1: 0.6571, Class 2: 0.1813, Class 3: 0.3294, Class 4: 0.5843, Class 5: 0.3239, Class 6: 0.8282, \n",
      "\n",
      "Overall Mean Dice Score: 0.6830\n",
      "Overall Mean F-beta Score: 0.7265\n",
      "Overall Mean IoU Score: 0.5446\n",
      "Final_score: 0.6355\n",
      "Training Loss: 0.2275, Validation Loss: 0.2277, Validation hybrid_score: 0.6355\n",
      "Epoch 38/4000\n"
     ]
    },
    {
     "name": "stderr",
     "output_type": "stream",
     "text": [
      "Training: 100%|██████████| 120/120 [02:51<00:00,  1.43s/it, loss=0.234]\n",
      "Validation: 100%|██████████| 20/20 [00:16<00:00,  1.23it/s, loss=0.243]\n"
     ]
    },
    {
     "name": "stdout",
     "output_type": "stream",
     "text": [
      "Validation Dice Score\n",
      "Class 0: 0.9878, Class 1: 0.8002, Class 2: 0.2309, Class 3: 0.4798, Class 4: 0.7487, Class 5: 0.4835, Class 6: 0.8875, \n",
      "Validation F-beta Score\n",
      "Class 0: 0.9868, Class 1: 0.8673, Class 2: 0.2557, Class 3: 0.6008, Class 4: 0.7534, Class 5: 0.4736, Class 6: 0.9651, \n",
      "Validation mIoU Score\n",
      "Class 0: 0.9758, Class 1: 0.6681, Class 2: 0.1379, Class 3: 0.3175, Class 4: 0.5994, Class 5: 0.3203, Class 6: 0.7981, \n",
      "\n",
      "Overall Mean Dice Score: 0.6800\n",
      "Overall Mean F-beta Score: 0.7320\n",
      "Overall Mean IoU Score: 0.5407\n",
      "Final_score: 0.6364\n",
      "Training Loss: 0.2270, Validation Loss: 0.2287, Validation hybrid_score: 0.6364\n",
      "Epoch 39/4000\n"
     ]
    },
    {
     "name": "stderr",
     "output_type": "stream",
     "text": [
      "Training: 100%|██████████| 120/120 [02:51<00:00,  1.43s/it, loss=0.223]\n",
      "Validation: 100%|██████████| 20/20 [00:15<00:00,  1.26it/s, loss=0.232]\n"
     ]
    },
    {
     "name": "stdout",
     "output_type": "stream",
     "text": [
      "Validation Dice Score\n",
      "Class 0: 0.9862, Class 1: 0.7595, Class 2: 0.2387, Class 3: 0.4780, Class 4: 0.7373, Class 5: 0.4920, Class 6: 0.8845, \n",
      "Validation F-beta Score\n",
      "Class 0: 0.9829, Class 1: 0.9041, Class 2: 0.2756, Class 3: 0.5866, Class 4: 0.7662, Class 5: 0.5582, Class 6: 0.9667, \n",
      "Validation mIoU Score\n",
      "Class 0: 0.9728, Class 1: 0.6138, Class 2: 0.1435, Class 3: 0.3157, Class 4: 0.5847, Class 5: 0.3279, Class 6: 0.7940, \n",
      "\n",
      "Overall Mean Dice Score: 0.6703\n",
      "Overall Mean F-beta Score: 0.7564\n",
      "Overall Mean IoU Score: 0.5272\n",
      "Final_score: 0.6418\n",
      "Training Loss: 0.2271, Validation Loss: 0.2310, Validation hybrid_score: 0.6418\n",
      "Epoch 40/4000\n"
     ]
    },
    {
     "name": "stderr",
     "output_type": "stream",
     "text": [
      "Training: 100%|██████████| 120/120 [02:50<00:00,  1.42s/it, loss=0.23] \n",
      "Validation: 100%|██████████| 20/20 [00:16<00:00,  1.22it/s, loss=0.23] \n"
     ]
    },
    {
     "name": "stdout",
     "output_type": "stream",
     "text": [
      "Validation Dice Score\n",
      "Class 0: 0.9871, Class 1: 0.8018, Class 2: 0.2173, Class 3: 0.4886, Class 4: 0.7318, Class 5: 0.4704, Class 6: 0.8875, \n",
      "Validation F-beta Score\n",
      "Class 0: 0.9867, Class 1: 0.8192, Class 2: 0.2436, Class 3: 0.6059, Class 4: 0.7260, Class 5: 0.4523, Class 6: 0.9587, \n",
      "Validation mIoU Score\n",
      "Class 0: 0.9745, Class 1: 0.6700, Class 2: 0.1264, Class 3: 0.3255, Class 4: 0.5776, Class 5: 0.3096, Class 6: 0.7984, \n",
      "\n",
      "Overall Mean Dice Score: 0.6760\n",
      "Overall Mean F-beta Score: 0.7124\n",
      "Overall Mean IoU Score: 0.5362\n",
      "Final_score: 0.6243\n",
      "Training Loss: 0.2266, Validation Loss: 0.2298, Validation hybrid_score: 0.6243\n",
      "Epoch 41/4000\n"
     ]
    },
    {
     "name": "stderr",
     "output_type": "stream",
     "text": [
      "Training: 100%|██████████| 120/120 [02:52<00:00,  1.44s/it, loss=0.234]\n",
      "Validation: 100%|██████████| 20/20 [00:16<00:00,  1.24it/s, loss=0.24] \n"
     ]
    },
    {
     "name": "stdout",
     "output_type": "stream",
     "text": [
      "Validation Dice Score\n",
      "Class 0: 0.9869, Class 1: 0.7703, Class 2: 0.2469, Class 3: 0.4847, Class 4: 0.7141, Class 5: 0.4844, Class 6: 0.8714, \n",
      "Validation F-beta Score\n",
      "Class 0: 0.9856, Class 1: 0.8788, Class 2: 0.2414, Class 3: 0.6074, Class 4: 0.7233, Class 5: 0.4951, Class 6: 0.9643, \n",
      "Validation mIoU Score\n",
      "Class 0: 0.9741, Class 1: 0.6279, Class 2: 0.1445, Class 3: 0.3224, Class 4: 0.5565, Class 5: 0.3221, Class 6: 0.7723, \n",
      "\n",
      "Overall Mean Dice Score: 0.6650\n",
      "Overall Mean F-beta Score: 0.7338\n",
      "Overall Mean IoU Score: 0.5202\n",
      "Final_score: 0.6270\n",
      "Training Loss: 0.2264, Validation Loss: 0.2325, Validation hybrid_score: 0.6270\n",
      "Epoch 42/4000\n"
     ]
    },
    {
     "name": "stderr",
     "output_type": "stream",
     "text": [
      "Training: 100%|██████████| 120/120 [02:52<00:00,  1.43s/it, loss=0.235]\n",
      "Validation: 100%|██████████| 20/20 [00:16<00:00,  1.22it/s, loss=0.233]\n"
     ]
    },
    {
     "name": "stdout",
     "output_type": "stream",
     "text": [
      "Validation Dice Score\n",
      "Class 0: 0.9866, Class 1: 0.8033, Class 2: 0.2452, Class 3: 0.4793, Class 4: 0.7245, Class 5: 0.5045, Class 6: 0.8847, \n",
      "Validation F-beta Score\n",
      "Class 0: 0.9838, Class 1: 0.8597, Class 2: 0.2411, Class 3: 0.5882, Class 4: 0.7317, Class 5: 0.5853, Class 6: 0.9675, \n",
      "Validation mIoU Score\n",
      "Class 0: 0.9735, Class 1: 0.6727, Class 2: 0.1467, Class 3: 0.3181, Class 4: 0.5692, Class 5: 0.3391, Class 6: 0.7937, \n",
      "\n",
      "Overall Mean Dice Score: 0.6793\n",
      "Overall Mean F-beta Score: 0.7465\n",
      "Overall Mean IoU Score: 0.5386\n",
      "Final_score: 0.6425\n",
      "Training Loss: 0.2270, Validation Loss: 0.2297, Validation hybrid_score: 0.6425\n",
      "Epoch 43/4000\n"
     ]
    },
    {
     "name": "stderr",
     "output_type": "stream",
     "text": [
      "Training: 100%|██████████| 120/120 [02:50<00:00,  1.42s/it, loss=0.243]\n",
      "Validation: 100%|██████████| 20/20 [00:15<00:00,  1.26it/s, loss=0.221]\n"
     ]
    },
    {
     "name": "stdout",
     "output_type": "stream",
     "text": [
      "Validation Dice Score\n",
      "Class 0: 0.9868, Class 1: 0.7938, Class 2: 0.2709, Class 3: 0.4940, Class 4: 0.7194, Class 5: 0.4908, Class 6: 0.8927, \n",
      "Validation F-beta Score\n",
      "Class 0: 0.9834, Class 1: 0.8605, Class 2: 0.3002, Class 3: 0.5555, Class 4: 0.7172, Class 5: 0.6186, Class 6: 0.9651, \n",
      "Validation mIoU Score\n",
      "Class 0: 0.9740, Class 1: 0.6598, Class 2: 0.1655, Class 3: 0.3300, Class 4: 0.5634, Class 5: 0.3272, Class 6: 0.8068, \n",
      "\n",
      "Overall Mean Dice Score: 0.6781\n",
      "Overall Mean F-beta Score: 0.7434\n",
      "Overall Mean IoU Score: 0.5374\n",
      "Final_score: 0.6404\n",
      "Training Loss: 0.2269, Validation Loss: 0.2286, Validation hybrid_score: 0.6404\n",
      "Epoch 44/4000\n"
     ]
    },
    {
     "name": "stderr",
     "output_type": "stream",
     "text": [
      "Training: 100%|██████████| 120/120 [02:55<00:00,  1.46s/it, loss=0.226]\n",
      "Validation: 100%|██████████| 20/20 [00:16<00:00,  1.20it/s, loss=0.237]\n"
     ]
    },
    {
     "name": "stdout",
     "output_type": "stream",
     "text": [
      "Validation Dice Score\n",
      "Class 0: 0.9873, Class 1: 0.7765, Class 2: 0.2647, Class 3: 0.5125, Class 4: 0.7399, Class 5: 0.5136, Class 6: 0.8950, \n",
      "Validation F-beta Score\n",
      "Class 0: 0.9854, Class 1: 0.8555, Class 2: 0.2376, Class 3: 0.5783, Class 4: 0.7640, Class 5: 0.5486, Class 6: 0.9624, \n",
      "Validation mIoU Score\n",
      "Class 0: 0.9749, Class 1: 0.6369, Class 2: 0.1620, Class 3: 0.3463, Class 4: 0.5884, Class 5: 0.3470, Class 6: 0.8104, \n",
      "\n",
      "Overall Mean Dice Score: 0.6875\n",
      "Overall Mean F-beta Score: 0.7418\n",
      "Overall Mean IoU Score: 0.5458\n",
      "Final_score: 0.6438\n",
      "Training Loss: 0.2245, Validation Loss: 0.2307, Validation hybrid_score: 0.6438\n",
      "Epoch 45/4000\n"
     ]
    },
    {
     "name": "stderr",
     "output_type": "stream",
     "text": [
      "Training: 100%|██████████| 120/120 [02:51<00:00,  1.43s/it, loss=0.229]\n",
      "Validation: 100%|██████████| 20/20 [00:16<00:00,  1.24it/s, loss=0.227]\n"
     ]
    },
    {
     "name": "stdout",
     "output_type": "stream",
     "text": [
      "Validation Dice Score\n",
      "Class 0: 0.9870, Class 1: 0.7996, Class 2: 0.2489, Class 3: 0.4797, Class 4: 0.7361, Class 5: 0.4983, Class 6: 0.9010, \n",
      "Validation F-beta Score\n",
      "Class 0: 0.9834, Class 1: 0.8665, Class 2: 0.2403, Class 3: 0.6260, Class 4: 0.7942, Class 5: 0.5620, Class 6: 0.9610, \n",
      "Validation mIoU Score\n",
      "Class 0: 0.9744, Class 1: 0.6684, Class 2: 0.1507, Class 3: 0.3179, Class 4: 0.5831, Class 5: 0.3333, Class 6: 0.8202, \n",
      "\n",
      "Overall Mean Dice Score: 0.6829\n",
      "Overall Mean F-beta Score: 0.7619\n",
      "Overall Mean IoU Score: 0.5446\n",
      "Final_score: 0.6533\n",
      "Training Loss: 0.2265, Validation Loss: 0.2306, Validation hybrid_score: 0.6533\n",
      "Epoch 46/4000\n"
     ]
    },
    {
     "name": "stderr",
     "output_type": "stream",
     "text": [
      "Training: 100%|██████████| 120/120 [02:48<00:00,  1.40s/it, loss=0.221]\n",
      "Validation: 100%|██████████| 20/20 [00:16<00:00,  1.25it/s, loss=0.243]\n"
     ]
    },
    {
     "name": "stdout",
     "output_type": "stream",
     "text": [
      "Validation Dice Score\n",
      "Class 0: 0.9877, Class 1: 0.7884, Class 2: 0.3731, Class 3: 0.5142, Class 4: 0.7499, Class 5: 0.4772, Class 6: 0.9017, \n",
      "Validation F-beta Score\n",
      "Class 0: 0.9867, Class 1: 0.8640, Class 2: 0.3625, Class 3: 0.5746, Class 4: 0.7608, Class 5: 0.4979, Class 6: 0.9326, \n",
      "Validation mIoU Score\n",
      "Class 0: 0.9756, Class 1: 0.6524, Class 2: 0.2334, Class 3: 0.3484, Class 4: 0.6005, Class 5: 0.3160, Class 6: 0.8213, \n",
      "\n",
      "Overall Mean Dice Score: 0.6863\n",
      "Overall Mean F-beta Score: 0.7260\n",
      "Overall Mean IoU Score: 0.5477\n",
      "Final_score: 0.6368\n",
      "Training Loss: 0.2248, Validation Loss: 0.2316, Validation hybrid_score: 0.6368\n",
      "Epoch 47/4000\n"
     ]
    },
    {
     "name": "stderr",
     "output_type": "stream",
     "text": [
      "Training: 100%|██████████| 120/120 [02:46<00:00,  1.38s/it, loss=0.223]\n",
      "Validation: 100%|██████████| 20/20 [00:15<00:00,  1.27it/s, loss=0.235]\n"
     ]
    },
    {
     "name": "stdout",
     "output_type": "stream",
     "text": [
      "Validation Dice Score\n",
      "Class 0: 0.9866, Class 1: 0.7973, Class 2: 0.2652, Class 3: 0.4759, Class 4: 0.7257, Class 5: 0.4675, Class 6: 0.8904, \n",
      "Validation F-beta Score\n",
      "Class 0: 0.9836, Class 1: 0.8546, Class 2: 0.3446, Class 3: 0.6286, Class 4: 0.7190, Class 5: 0.5450, Class 6: 0.9660, \n",
      "Validation mIoU Score\n",
      "Class 0: 0.9736, Class 1: 0.6638, Class 2: 0.1581, Class 3: 0.3134, Class 4: 0.5707, Class 5: 0.3074, Class 6: 0.8028, \n",
      "\n",
      "Overall Mean Dice Score: 0.6714\n",
      "Overall Mean F-beta Score: 0.7426\n",
      "Overall Mean IoU Score: 0.5316\n",
      "Final_score: 0.6371\n",
      "Training Loss: 0.2258, Validation Loss: 0.2305, Validation hybrid_score: 0.6371\n",
      "Epoch 48/4000\n"
     ]
    },
    {
     "name": "stderr",
     "output_type": "stream",
     "text": [
      "Training: 100%|██████████| 120/120 [02:57<00:00,  1.48s/it, loss=0.23] \n",
      "Validation: 100%|██████████| 20/20 [00:15<00:00,  1.25it/s, loss=0.236]\n"
     ]
    },
    {
     "name": "stdout",
     "output_type": "stream",
     "text": [
      "Validation Dice Score\n",
      "Class 0: 0.9864, Class 1: 0.7792, Class 2: 0.2660, Class 3: 0.4636, Class 4: 0.7217, Class 5: 0.4954, Class 6: 0.8918, \n",
      "Validation F-beta Score\n",
      "Class 0: 0.9838, Class 1: 0.8636, Class 2: 0.2930, Class 3: 0.6448, Class 4: 0.7025, Class 5: 0.5917, Class 6: 0.9690, \n",
      "Validation mIoU Score\n",
      "Class 0: 0.9732, Class 1: 0.6402, Class 2: 0.1572, Class 3: 0.3033, Class 4: 0.5661, Class 5: 0.3315, Class 6: 0.8053, \n",
      "\n",
      "Overall Mean Dice Score: 0.6703\n",
      "Overall Mean F-beta Score: 0.7543\n",
      "Overall Mean IoU Score: 0.5293\n",
      "Final_score: 0.6418\n",
      "Training Loss: 0.2255, Validation Loss: 0.2321, Validation hybrid_score: 0.6418\n",
      "Epoch 49/4000\n"
     ]
    },
    {
     "name": "stderr",
     "output_type": "stream",
     "text": [
      "Training: 100%|██████████| 120/120 [02:52<00:00,  1.44s/it, loss=0.222]\n",
      "Validation: 100%|██████████| 20/20 [00:16<00:00,  1.25it/s, loss=0.223]\n"
     ]
    },
    {
     "name": "stdout",
     "output_type": "stream",
     "text": [
      "Validation Dice Score\n",
      "Class 0: 0.9879, Class 1: 0.7705, Class 2: 0.2870, Class 3: 0.4660, Class 4: 0.7282, Class 5: 0.4850, Class 6: 0.8872, \n",
      "Validation F-beta Score\n",
      "Class 0: 0.9864, Class 1: 0.8911, Class 2: 0.2541, Class 3: 0.6382, Class 4: 0.7207, Class 5: 0.5124, Class 6: 0.9661, \n",
      "Validation mIoU Score\n",
      "Class 0: 0.9761, Class 1: 0.6303, Class 2: 0.1765, Class 3: 0.3061, Class 4: 0.5737, Class 5: 0.3230, Class 6: 0.7978, \n",
      "\n",
      "Overall Mean Dice Score: 0.6674\n",
      "Overall Mean F-beta Score: 0.7457\n",
      "Overall Mean IoU Score: 0.5262\n",
      "Final_score: 0.6359\n",
      "Training Loss: 0.2252, Validation Loss: 0.2300, Validation hybrid_score: 0.6359\n",
      "Epoch 50/4000\n"
     ]
    },
    {
     "name": "stderr",
     "output_type": "stream",
     "text": [
      "Training: 100%|██████████| 120/120 [02:52<00:00,  1.44s/it, loss=0.23] \n",
      "Validation: 100%|██████████| 20/20 [00:16<00:00,  1.21it/s, loss=0.229]\n"
     ]
    },
    {
     "name": "stdout",
     "output_type": "stream",
     "text": [
      "Validation Dice Score\n",
      "Class 0: 0.9873, Class 1: 0.7524, Class 2: 0.3105, Class 3: 0.5071, Class 4: 0.7391, Class 5: 0.4869, Class 6: 0.8932, \n",
      "Validation F-beta Score\n",
      "Class 0: 0.9856, Class 1: 0.8942, Class 2: 0.3701, Class 3: 0.6126, Class 4: 0.7510, Class 5: 0.5038, Class 6: 0.9641, \n",
      "Validation mIoU Score\n",
      "Class 0: 0.9749, Class 1: 0.6069, Class 2: 0.1911, Class 3: 0.3413, Class 4: 0.5868, Class 5: 0.3239, Class 6: 0.8075, \n",
      "\n",
      "Overall Mean Dice Score: 0.6757\n",
      "Overall Mean F-beta Score: 0.7451\n",
      "Overall Mean IoU Score: 0.5333\n",
      "Final_score: 0.6392\n",
      "Training Loss: 0.2249, Validation Loss: 0.2286, Validation hybrid_score: 0.6392\n",
      "Epoch 51/4000\n"
     ]
    },
    {
     "name": "stderr",
     "output_type": "stream",
     "text": [
      "Training: 100%|██████████| 120/120 [02:52<00:00,  1.44s/it, loss=0.23] \n",
      "Validation: 100%|██████████| 20/20 [00:15<00:00,  1.27it/s, loss=0.229]\n"
     ]
    },
    {
     "name": "stdout",
     "output_type": "stream",
     "text": [
      "Validation Dice Score\n",
      "Class 0: 0.9873, Class 1: 0.7904, Class 2: 0.2954, Class 3: 0.4818, Class 4: 0.7347, Class 5: 0.4921, Class 6: 0.9093, \n",
      "Validation F-beta Score\n",
      "Class 0: 0.9853, Class 1: 0.8609, Class 2: 0.3321, Class 3: 0.6168, Class 4: 0.7529, Class 5: 0.5230, Class 6: 0.9567, \n",
      "Validation mIoU Score\n",
      "Class 0: 0.9749, Class 1: 0.6557, Class 2: 0.1793, Class 3: 0.3190, Class 4: 0.5817, Class 5: 0.3290, Class 6: 0.8342, \n",
      "\n",
      "Overall Mean Dice Score: 0.6817\n",
      "Overall Mean F-beta Score: 0.7420\n",
      "Overall Mean IoU Score: 0.5439\n",
      "Final_score: 0.6430\n",
      "Training Loss: 0.2248, Validation Loss: 0.2298, Validation hybrid_score: 0.6430\n",
      "Epoch 52/4000\n"
     ]
    },
    {
     "name": "stderr",
     "output_type": "stream",
     "text": [
      "Training: 100%|██████████| 120/120 [02:47<00:00,  1.39s/it, loss=0.231]\n",
      "Validation: 100%|██████████| 20/20 [00:16<00:00,  1.25it/s, loss=0.221]\n"
     ]
    },
    {
     "name": "stdout",
     "output_type": "stream",
     "text": [
      "Validation Dice Score\n",
      "Class 0: 0.9863, Class 1: 0.7843, Class 2: 0.2840, Class 3: 0.4894, Class 4: 0.7249, Class 5: 0.4867, Class 6: 0.8795, \n",
      "Validation F-beta Score\n",
      "Class 0: 0.9823, Class 1: 0.8678, Class 2: 0.2741, Class 3: 0.6163, Class 4: 0.7920, Class 5: 0.5579, Class 6: 0.9715, \n",
      "Validation mIoU Score\n",
      "Class 0: 0.9730, Class 1: 0.6479, Class 2: 0.1715, Class 3: 0.3251, Class 4: 0.5700, Class 5: 0.3229, Class 6: 0.7853, \n",
      "\n",
      "Overall Mean Dice Score: 0.6730\n",
      "Overall Mean F-beta Score: 0.7611\n",
      "Overall Mean IoU Score: 0.5302\n",
      "Final_score: 0.6457\n",
      "Training Loss: 0.2242, Validation Loss: 0.2305, Validation hybrid_score: 0.6457\n",
      "Epoch 53/4000\n"
     ]
    },
    {
     "name": "stderr",
     "output_type": "stream",
     "text": [
      "Training: 100%|██████████| 120/120 [02:56<00:00,  1.47s/it, loss=0.234]\n",
      "Validation: 100%|██████████| 20/20 [00:16<00:00,  1.22it/s, loss=0.214]\n"
     ]
    },
    {
     "name": "stdout",
     "output_type": "stream",
     "text": [
      "Validation Dice Score\n",
      "Class 0: 0.9872, Class 1: 0.7783, Class 2: 0.2747, Class 3: 0.4708, Class 4: 0.7444, Class 5: 0.5229, Class 6: 0.9010, \n",
      "Validation F-beta Score\n",
      "Class 0: 0.9841, Class 1: 0.8804, Class 2: 0.3326, Class 3: 0.6022, Class 4: 0.7607, Class 5: 0.5986, Class 6: 0.9638, \n",
      "Validation mIoU Score\n",
      "Class 0: 0.9747, Class 1: 0.6395, Class 2: 0.1642, Class 3: 0.3092, Class 4: 0.5939, Class 5: 0.3554, Class 6: 0.8205, \n",
      "\n",
      "Overall Mean Dice Score: 0.6835\n",
      "Overall Mean F-beta Score: 0.7612\n",
      "Overall Mean IoU Score: 0.5437\n",
      "Final_score: 0.6524\n",
      "Training Loss: 0.2244, Validation Loss: 0.2293, Validation hybrid_score: 0.6524\n",
      "========================================================\n",
      "SUPER Best model saved. Loss:0.2293, Score:0.6524\n",
      "========================================================\n",
      "Epoch 54/4000\n"
     ]
    },
    {
     "name": "stderr",
     "output_type": "stream",
     "text": [
      "Training: 100%|██████████| 120/120 [02:51<00:00,  1.43s/it, loss=0.23] \n",
      "Validation: 100%|██████████| 20/20 [00:16<00:00,  1.25it/s, loss=0.232]\n"
     ]
    },
    {
     "name": "stdout",
     "output_type": "stream",
     "text": [
      "Validation Dice Score\n",
      "Class 0: 0.9868, Class 1: 0.7903, Class 2: 0.2459, Class 3: 0.4940, Class 4: 0.7395, Class 5: 0.5138, Class 6: 0.8986, \n",
      "Validation F-beta Score\n",
      "Class 0: 0.9842, Class 1: 0.8809, Class 2: 0.2930, Class 3: 0.6276, Class 4: 0.7644, Class 5: 0.5608, Class 6: 0.9646, \n",
      "Validation mIoU Score\n",
      "Class 0: 0.9740, Class 1: 0.6550, Class 2: 0.1447, Class 3: 0.3295, Class 4: 0.5874, Class 5: 0.3467, Class 6: 0.8165, \n",
      "\n",
      "Overall Mean Dice Score: 0.6872\n",
      "Overall Mean F-beta Score: 0.7597\n",
      "Overall Mean IoU Score: 0.5470\n",
      "Final_score: 0.6533\n",
      "Training Loss: 0.2225, Validation Loss: 0.2284, Validation hybrid_score: 0.6533\n",
      "========================================================\n",
      "SUPER Best model saved. Loss:0.2284, Score:0.6533\n",
      "========================================================\n",
      "Epoch 55/4000\n"
     ]
    },
    {
     "name": "stderr",
     "output_type": "stream",
     "text": [
      "Training: 100%|██████████| 120/120 [02:46<00:00,  1.39s/it, loss=0.227]\n",
      "Validation: 100%|██████████| 20/20 [00:16<00:00,  1.24it/s, loss=0.227]\n"
     ]
    },
    {
     "name": "stdout",
     "output_type": "stream",
     "text": [
      "Validation Dice Score\n",
      "Class 0: 0.9876, Class 1: 0.7772, Class 2: 0.2189, Class 3: 0.5176, Class 4: 0.7404, Class 5: 0.5084, Class 6: 0.9037, \n",
      "Validation F-beta Score\n",
      "Class 0: 0.9855, Class 1: 0.8663, Class 2: 0.2667, Class 3: 0.6249, Class 4: 0.7426, Class 5: 0.5616, Class 6: 0.9565, \n",
      "Validation mIoU Score\n",
      "Class 0: 0.9755, Class 1: 0.6399, Class 2: 0.1266, Class 3: 0.3508, Class 4: 0.5889, Class 5: 0.3440, Class 6: 0.8257, \n",
      "\n",
      "Overall Mean Dice Score: 0.6894\n",
      "Overall Mean F-beta Score: 0.7504\n",
      "Overall Mean IoU Score: 0.5499\n",
      "Final_score: 0.6501\n",
      "Training Loss: 0.2232, Validation Loss: 0.2271, Validation hybrid_score: 0.6501\n",
      "Epoch 56/4000\n"
     ]
    },
    {
     "name": "stderr",
     "output_type": "stream",
     "text": [
      "Training: 100%|██████████| 120/120 [02:55<00:00,  1.46s/it, loss=0.229]\n",
      "Validation: 100%|██████████| 20/20 [00:16<00:00,  1.22it/s, loss=0.225]\n"
     ]
    },
    {
     "name": "stdout",
     "output_type": "stream",
     "text": [
      "Validation Dice Score\n",
      "Class 0: 0.9875, Class 1: 0.7954, Class 2: 0.2770, Class 3: 0.5263, Class 4: 0.7432, Class 5: 0.5010, Class 6: 0.8864, \n",
      "Validation F-beta Score\n",
      "Class 0: 0.9843, Class 1: 0.8858, Class 2: 0.2878, Class 3: 0.6106, Class 4: 0.7813, Class 5: 0.5697, Class 6: 0.9631, \n",
      "Validation mIoU Score\n",
      "Class 0: 0.9752, Class 1: 0.6618, Class 2: 0.1677, Class 3: 0.3592, Class 4: 0.5926, Class 5: 0.3362, Class 6: 0.7965, \n",
      "\n",
      "Overall Mean Dice Score: 0.6905\n",
      "Overall Mean F-beta Score: 0.7621\n",
      "Overall Mean IoU Score: 0.5493\n",
      "Final_score: 0.6557\n",
      "Training Loss: 0.2229, Validation Loss: 0.2289, Validation hybrid_score: 0.6557\n",
      "Epoch 57/4000\n"
     ]
    },
    {
     "name": "stderr",
     "output_type": "stream",
     "text": [
      "Training: 100%|██████████| 120/120 [02:52<00:00,  1.44s/it, loss=0.228]\n",
      "Validation: 100%|██████████| 20/20 [00:16<00:00,  1.22it/s, loss=0.236]\n"
     ]
    },
    {
     "name": "stdout",
     "output_type": "stream",
     "text": [
      "Validation Dice Score\n",
      "Class 0: 0.9863, Class 1: 0.7900, Class 2: 0.2596, Class 3: 0.4728, Class 4: 0.7435, Class 5: 0.4914, Class 6: 0.8984, \n",
      "Validation F-beta Score\n",
      "Class 0: 0.9831, Class 1: 0.8666, Class 2: 0.2657, Class 3: 0.6245, Class 4: 0.7802, Class 5: 0.5500, Class 6: 0.9627, \n",
      "Validation mIoU Score\n",
      "Class 0: 0.9730, Class 1: 0.6559, Class 2: 0.1550, Class 3: 0.3118, Class 4: 0.5927, Class 5: 0.3279, Class 6: 0.8162, \n",
      "\n",
      "Overall Mean Dice Score: 0.6792\n",
      "Overall Mean F-beta Score: 0.7568\n",
      "Overall Mean IoU Score: 0.5409\n",
      "Final_score: 0.6489\n",
      "Training Loss: 0.2224, Validation Loss: 0.2307, Validation hybrid_score: 0.6489\n",
      "Epoch 58/4000\n"
     ]
    },
    {
     "name": "stderr",
     "output_type": "stream",
     "text": [
      "Training: 100%|██████████| 120/120 [02:49<00:00,  1.41s/it, loss=0.222]\n",
      "Validation: 100%|██████████| 20/20 [00:15<00:00,  1.27it/s, loss=0.219]\n"
     ]
    },
    {
     "name": "stdout",
     "output_type": "stream",
     "text": [
      "Validation Dice Score\n",
      "Class 0: 0.9872, Class 1: 0.7957, Class 2: 0.2642, Class 3: 0.4925, Class 4: 0.7386, Class 5: 0.5076, Class 6: 0.8939, \n",
      "Validation F-beta Score\n",
      "Class 0: 0.9865, Class 1: 0.8891, Class 2: 0.2825, Class 3: 0.5626, Class 4: 0.7168, Class 5: 0.5301, Class 6: 0.9581, \n",
      "Validation mIoU Score\n",
      "Class 0: 0.9747, Class 1: 0.6628, Class 2: 0.1591, Class 3: 0.3287, Class 4: 0.5864, Class 5: 0.3413, Class 6: 0.8085, \n",
      "\n",
      "Overall Mean Dice Score: 0.6857\n",
      "Overall Mean F-beta Score: 0.7313\n",
      "Overall Mean IoU Score: 0.5455\n",
      "Final_score: 0.6384\n",
      "Training Loss: 0.2216, Validation Loss: 0.2316, Validation hybrid_score: 0.6384\n",
      "Epoch 59/4000\n"
     ]
    },
    {
     "name": "stderr",
     "output_type": "stream",
     "text": [
      "Training: 100%|██████████| 120/120 [02:47<00:00,  1.39s/it, loss=0.227]\n",
      "Validation: 100%|██████████| 20/20 [00:16<00:00,  1.25it/s, loss=0.232]\n"
     ]
    },
    {
     "name": "stdout",
     "output_type": "stream",
     "text": [
      "Validation Dice Score\n",
      "Class 0: 0.9878, Class 1: 0.7804, Class 2: 0.3059, Class 3: 0.5098, Class 4: 0.7517, Class 5: 0.5012, Class 6: 0.8963, \n",
      "Validation F-beta Score\n",
      "Class 0: 0.9856, Class 1: 0.8705, Class 2: 0.3496, Class 3: 0.5952, Class 4: 0.7629, Class 5: 0.5560, Class 6: 0.9642, \n",
      "Validation mIoU Score\n",
      "Class 0: 0.9758, Class 1: 0.6450, Class 2: 0.1845, Class 3: 0.3437, Class 4: 0.6033, Class 5: 0.3356, Class 6: 0.8124, \n",
      "\n",
      "Overall Mean Dice Score: 0.6879\n",
      "Overall Mean F-beta Score: 0.7498\n",
      "Overall Mean IoU Score: 0.5480\n",
      "Final_score: 0.6489\n",
      "Training Loss: 0.2239, Validation Loss: 0.2291, Validation hybrid_score: 0.6489\n",
      "Epoch 60/4000\n"
     ]
    },
    {
     "name": "stderr",
     "output_type": "stream",
     "text": [
      "Training: 100%|██████████| 120/120 [02:46<00:00,  1.38s/it, loss=0.23] \n",
      "Validation: 100%|██████████| 20/20 [00:16<00:00,  1.25it/s, loss=0.227]\n"
     ]
    },
    {
     "name": "stdout",
     "output_type": "stream",
     "text": [
      "Validation Dice Score\n",
      "Class 0: 0.9874, Class 1: 0.7860, Class 2: 0.2423, Class 3: 0.4959, Class 4: 0.7363, Class 5: 0.5017, Class 6: 0.8871, \n",
      "Validation F-beta Score\n",
      "Class 0: 0.9857, Class 1: 0.8638, Class 2: 0.2341, Class 3: 0.6060, Class 4: 0.7354, Class 5: 0.5484, Class 6: 0.9612, \n",
      "Validation mIoU Score\n",
      "Class 0: 0.9752, Class 1: 0.6489, Class 2: 0.1450, Class 3: 0.3313, Class 4: 0.5836, Class 5: 0.3375, Class 6: 0.7977, \n",
      "\n",
      "Overall Mean Dice Score: 0.6814\n",
      "Overall Mean F-beta Score: 0.7430\n",
      "Overall Mean IoU Score: 0.5398\n",
      "Final_score: 0.6414\n",
      "Training Loss: 0.2235, Validation Loss: 0.2300, Validation hybrid_score: 0.6414\n",
      "Epoch 61/4000\n"
     ]
    },
    {
     "name": "stderr",
     "output_type": "stream",
     "text": [
      "Training: 100%|██████████| 120/120 [02:47<00:00,  1.40s/it, loss=0.228]\n",
      "Validation: 100%|██████████| 20/20 [00:15<00:00,  1.26it/s, loss=0.236]\n"
     ]
    },
    {
     "name": "stdout",
     "output_type": "stream",
     "text": [
      "Validation Dice Score\n",
      "Class 0: 0.9880, Class 1: 0.7985, Class 2: 0.2494, Class 3: 0.4892, Class 4: 0.7481, Class 5: 0.4955, Class 6: 0.9010, \n",
      "Validation F-beta Score\n",
      "Class 0: 0.9867, Class 1: 0.8649, Class 2: 0.2665, Class 3: 0.5999, Class 4: 0.7382, Class 5: 0.5321, Class 6: 0.9552, \n",
      "Validation mIoU Score\n",
      "Class 0: 0.9763, Class 1: 0.6666, Class 2: 0.1489, Class 3: 0.3259, Class 4: 0.5986, Class 5: 0.3323, Class 6: 0.8204, \n",
      "\n",
      "Overall Mean Dice Score: 0.6865\n",
      "Overall Mean F-beta Score: 0.7381\n",
      "Overall Mean IoU Score: 0.5487\n",
      "Final_score: 0.6434\n",
      "Training Loss: 0.2219, Validation Loss: 0.2274, Validation hybrid_score: 0.6434\n",
      "Epoch 62/4000\n"
     ]
    },
    {
     "name": "stderr",
     "output_type": "stream",
     "text": [
      "Training: 100%|██████████| 120/120 [02:46<00:00,  1.39s/it, loss=0.227]\n",
      "Validation: 100%|██████████| 20/20 [00:16<00:00,  1.25it/s, loss=0.218]\n"
     ]
    },
    {
     "name": "stdout",
     "output_type": "stream",
     "text": [
      "Validation Dice Score\n",
      "Class 0: 0.9873, Class 1: 0.7957, Class 2: 0.3214, Class 3: 0.4916, Class 4: 0.7435, Class 5: 0.5085, Class 6: 0.9077, \n",
      "Validation F-beta Score\n",
      "Class 0: 0.9847, Class 1: 0.8797, Class 2: 0.4105, Class 3: 0.6234, Class 4: 0.7884, Class 5: 0.5347, Class 6: 0.9544, \n",
      "Validation mIoU Score\n",
      "Class 0: 0.9750, Class 1: 0.6629, Class 2: 0.1983, Class 3: 0.3278, Class 4: 0.5930, Class 5: 0.3425, Class 6: 0.8312, \n",
      "\n",
      "Overall Mean Dice Score: 0.6894\n",
      "Overall Mean F-beta Score: 0.7561\n",
      "Overall Mean IoU Score: 0.5515\n",
      "Final_score: 0.6538\n",
      "Training Loss: 0.2225, Validation Loss: 0.2281, Validation hybrid_score: 0.6538\n",
      "========================================================\n",
      "SUPER Best model saved. Loss:0.2281, Score:0.6538\n",
      "========================================================\n",
      "Epoch 63/4000\n"
     ]
    },
    {
     "name": "stderr",
     "output_type": "stream",
     "text": [
      "Training: 100%|██████████| 120/120 [02:47<00:00,  1.39s/it, loss=0.227]\n",
      "Validation: 100%|██████████| 20/20 [00:22<00:00,  1.15s/it, loss=0.229]\n"
     ]
    },
    {
     "name": "stdout",
     "output_type": "stream",
     "text": [
      "Validation Dice Score\n",
      "Class 0: 0.9874, Class 1: 0.7987, Class 2: 0.2233, Class 3: 0.4680, Class 4: 0.7247, Class 5: 0.5044, Class 6: 0.9070, \n",
      "Validation F-beta Score\n",
      "Class 0: 0.9857, Class 1: 0.8959, Class 2: 0.2692, Class 3: 0.5405, Class 4: 0.7508, Class 5: 0.5260, Class 6: 0.9610, \n",
      "Validation mIoU Score\n",
      "Class 0: 0.9752, Class 1: 0.6663, Class 2: 0.1318, Class 3: 0.3076, Class 4: 0.5697, Class 5: 0.3392, Class 6: 0.8304, \n",
      "\n",
      "Overall Mean Dice Score: 0.6806\n",
      "Overall Mean F-beta Score: 0.7348\n",
      "Overall Mean IoU Score: 0.5426\n",
      "Final_score: 0.6387\n",
      "Training Loss: 0.2223, Validation Loss: 0.2293, Validation hybrid_score: 0.6387\n",
      "Epoch 64/4000\n"
     ]
    },
    {
     "name": "stderr",
     "output_type": "stream",
     "text": [
      "Training: 100%|██████████| 120/120 [02:57<00:00,  1.48s/it, loss=0.23] \n",
      "Validation: 100%|██████████| 20/20 [00:16<00:00,  1.22it/s, loss=0.229]\n"
     ]
    },
    {
     "name": "stdout",
     "output_type": "stream",
     "text": [
      "Validation Dice Score\n",
      "Class 0: 0.9871, Class 1: 0.7901, Class 2: 0.2837, Class 3: 0.4547, Class 4: 0.7558, Class 5: 0.5012, Class 6: 0.8885, \n",
      "Validation F-beta Score\n",
      "Class 0: 0.9845, Class 1: 0.9020, Class 2: 0.3419, Class 3: 0.5730, Class 4: 0.7640, Class 5: 0.5674, Class 6: 0.9671, \n",
      "Validation mIoU Score\n",
      "Class 0: 0.9746, Class 1: 0.6544, Class 2: 0.1729, Class 3: 0.2974, Class 4: 0.6081, Class 5: 0.3361, Class 6: 0.8001, \n",
      "\n",
      "Overall Mean Dice Score: 0.6781\n",
      "Overall Mean F-beta Score: 0.7547\n",
      "Overall Mean IoU Score: 0.5392\n",
      "Final_score: 0.6470\n",
      "Training Loss: 0.2225, Validation Loss: 0.2303, Validation hybrid_score: 0.6470\n",
      "Epoch 65/4000\n"
     ]
    },
    {
     "name": "stderr",
     "output_type": "stream",
     "text": [
      "Training: 100%|██████████| 120/120 [02:56<00:00,  1.47s/it, loss=0.226]\n",
      "Validation: 100%|██████████| 20/20 [00:15<00:00,  1.25it/s, loss=0.231]\n"
     ]
    },
    {
     "name": "stdout",
     "output_type": "stream",
     "text": [
      "Validation Dice Score\n",
      "Class 0: 0.9871, Class 1: 0.8092, Class 2: 0.2296, Class 3: 0.4857, Class 4: 0.7401, Class 5: 0.5171, Class 6: 0.9050, \n",
      "Validation F-beta Score\n",
      "Class 0: 0.9849, Class 1: 0.8739, Class 2: 0.2995, Class 3: 0.6053, Class 4: 0.7283, Class 5: 0.5892, Class 6: 0.9627, \n",
      "Validation mIoU Score\n",
      "Class 0: 0.9745, Class 1: 0.6805, Class 2: 0.1351, Class 3: 0.3228, Class 4: 0.5884, Class 5: 0.3512, Class 6: 0.8270, \n",
      "\n",
      "Overall Mean Dice Score: 0.6914\n",
      "Overall Mean F-beta Score: 0.7519\n",
      "Overall Mean IoU Score: 0.5540\n",
      "Final_score: 0.6529\n",
      "Training Loss: 0.2215, Validation Loss: 0.2288, Validation hybrid_score: 0.6529\n",
      "Epoch 66/4000\n"
     ]
    },
    {
     "name": "stderr",
     "output_type": "stream",
     "text": [
      "Training: 100%|██████████| 120/120 [02:46<00:00,  1.38s/it, loss=0.222]\n",
      "Validation: 100%|██████████| 20/20 [00:15<00:00,  1.27it/s, loss=0.225]\n"
     ]
    },
    {
     "name": "stdout",
     "output_type": "stream",
     "text": [
      "Validation Dice Score\n",
      "Class 0: 0.9868, Class 1: 0.7760, Class 2: 0.2894, Class 3: 0.4734, Class 4: 0.7428, Class 5: 0.4969, Class 6: 0.9003, \n",
      "Validation F-beta Score\n",
      "Class 0: 0.9836, Class 1: 0.8682, Class 2: 0.3205, Class 3: 0.6115, Class 4: 0.7828, Class 5: 0.5509, Class 6: 0.9705, \n",
      "Validation mIoU Score\n",
      "Class 0: 0.9739, Class 1: 0.6371, Class 2: 0.1750, Class 3: 0.3112, Class 4: 0.5917, Class 5: 0.3334, Class 6: 0.8193, \n",
      "\n",
      "Overall Mean Dice Score: 0.6779\n",
      "Overall Mean F-beta Score: 0.7568\n",
      "Overall Mean IoU Score: 0.5386\n",
      "Final_score: 0.6477\n",
      "Training Loss: 0.2212, Validation Loss: 0.2305, Validation hybrid_score: 0.6477\n",
      "Epoch 67/4000\n"
     ]
    },
    {
     "name": "stderr",
     "output_type": "stream",
     "text": [
      "Training: 100%|██████████| 120/120 [02:46<00:00,  1.39s/it, loss=0.225]\n",
      "Validation: 100%|██████████| 20/20 [00:15<00:00,  1.26it/s, loss=0.238]\n"
     ]
    },
    {
     "name": "stdout",
     "output_type": "stream",
     "text": [
      "Validation Dice Score\n",
      "Class 0: 0.9877, Class 1: 0.7886, Class 2: 0.2566, Class 3: 0.4893, Class 4: 0.7520, Class 5: 0.5005, Class 6: 0.8841, \n",
      "Validation F-beta Score\n",
      "Class 0: 0.9846, Class 1: 0.8752, Class 2: 0.2958, Class 3: 0.5641, Class 4: 0.8064, Class 5: 0.5519, Class 6: 0.9636, \n",
      "Validation mIoU Score\n",
      "Class 0: 0.9757, Class 1: 0.6562, Class 2: 0.1516, Class 3: 0.3267, Class 4: 0.6033, Class 5: 0.3363, Class 6: 0.7928, \n",
      "\n",
      "Overall Mean Dice Score: 0.6829\n",
      "Overall Mean F-beta Score: 0.7523\n",
      "Overall Mean IoU Score: 0.5431\n",
      "Final_score: 0.6477\n",
      "Training Loss: 0.2215, Validation Loss: 0.2273, Validation hybrid_score: 0.6477\n",
      "Epoch 68/4000\n"
     ]
    },
    {
     "name": "stderr",
     "output_type": "stream",
     "text": [
      "Training: 100%|██████████| 120/120 [02:46<00:00,  1.39s/it, loss=0.219]\n",
      "Validation: 100%|██████████| 20/20 [00:16<00:00,  1.24it/s, loss=0.232]\n"
     ]
    },
    {
     "name": "stdout",
     "output_type": "stream",
     "text": [
      "Validation Dice Score\n",
      "Class 0: 0.9877, Class 1: 0.8203, Class 2: 0.3370, Class 3: 0.4864, Class 4: 0.7403, Class 5: 0.4862, Class 6: 0.8836, \n",
      "Validation F-beta Score\n",
      "Class 0: 0.9859, Class 1: 0.8906, Class 2: 0.3780, Class 3: 0.5553, Class 4: 0.7287, Class 5: 0.5465, Class 6: 0.9657, \n",
      "Validation mIoU Score\n",
      "Class 0: 0.9758, Class 1: 0.6964, Class 2: 0.2085, Class 3: 0.3241, Class 4: 0.5890, Class 5: 0.3245, Class 6: 0.7918, \n",
      "\n",
      "Overall Mean Dice Score: 0.6834\n",
      "Overall Mean F-beta Score: 0.7373\n",
      "Overall Mean IoU Score: 0.5452\n",
      "Final_score: 0.6413\n",
      "Training Loss: 0.2218, Validation Loss: 0.2286, Validation hybrid_score: 0.6413\n",
      "Epoch 69/4000\n"
     ]
    },
    {
     "name": "stderr",
     "output_type": "stream",
     "text": [
      "Training: 100%|██████████| 120/120 [02:47<00:00,  1.39s/it, loss=0.219]\n",
      "Validation: 100%|██████████| 20/20 [00:16<00:00,  1.25it/s, loss=0.212]\n"
     ]
    },
    {
     "name": "stdout",
     "output_type": "stream",
     "text": [
      "Validation Dice Score\n",
      "Class 0: 0.9873, Class 1: 0.7691, Class 2: 0.2577, Class 3: 0.5181, Class 4: 0.7545, Class 5: 0.5013, Class 6: 0.9030, \n",
      "Validation F-beta Score\n",
      "Class 0: 0.9849, Class 1: 0.8820, Class 2: 0.3262, Class 3: 0.6143, Class 4: 0.7779, Class 5: 0.5482, Class 6: 0.9622, \n",
      "Validation mIoU Score\n",
      "Class 0: 0.9750, Class 1: 0.6272, Class 2: 0.1548, Class 3: 0.3507, Class 4: 0.6062, Class 5: 0.3354, Class 6: 0.8236, \n",
      "\n",
      "Overall Mean Dice Score: 0.6892\n",
      "Overall Mean F-beta Score: 0.7569\n",
      "Overall Mean IoU Score: 0.5486\n",
      "Final_score: 0.6528\n",
      "Training Loss: 0.2216, Validation Loss: 0.2284, Validation hybrid_score: 0.6528\n",
      "Epoch 70/4000\n"
     ]
    },
    {
     "name": "stderr",
     "output_type": "stream",
     "text": [
      "Training: 100%|██████████| 120/120 [02:49<00:00,  1.41s/it, loss=0.226]\n",
      "Validation: 100%|██████████| 20/20 [00:15<00:00,  1.26it/s, loss=0.232]\n"
     ]
    },
    {
     "name": "stdout",
     "output_type": "stream",
     "text": [
      "Validation Dice Score\n",
      "Class 0: 0.9872, Class 1: 0.7881, Class 2: 0.2886, Class 3: 0.5146, Class 4: 0.7657, Class 5: 0.4909, Class 6: 0.8882, \n",
      "Validation F-beta Score\n",
      "Class 0: 0.9848, Class 1: 0.8953, Class 2: 0.2835, Class 3: 0.5868, Class 4: 0.7744, Class 5: 0.5650, Class 6: 0.9658, \n",
      "Validation mIoU Score\n",
      "Class 0: 0.9747, Class 1: 0.6512, Class 2: 0.1788, Class 3: 0.3486, Class 4: 0.6214, Class 5: 0.3283, Class 6: 0.7994, \n",
      "\n",
      "Overall Mean Dice Score: 0.6895\n",
      "Overall Mean F-beta Score: 0.7575\n",
      "Overall Mean IoU Score: 0.5498\n",
      "Final_score: 0.6536\n",
      "Training Loss: 0.2209, Validation Loss: 0.2296, Validation hybrid_score: 0.6536\n",
      "Epoch 71/4000\n"
     ]
    },
    {
     "name": "stderr",
     "output_type": "stream",
     "text": [
      "Training: 100%|██████████| 120/120 [02:47<00:00,  1.39s/it, loss=0.229]\n",
      "Validation: 100%|██████████| 20/20 [00:15<00:00,  1.27it/s, loss=0.222]\n"
     ]
    },
    {
     "name": "stdout",
     "output_type": "stream",
     "text": [
      "Validation Dice Score\n",
      "Class 0: 0.9873, Class 1: 0.7964, Class 2: 0.2858, Class 3: 0.4884, Class 4: 0.7308, Class 5: 0.4859, Class 6: 0.8989, \n",
      "Validation F-beta Score\n",
      "Class 0: 0.9842, Class 1: 0.8864, Class 2: 0.3525, Class 3: 0.5839, Class 4: 0.7681, Class 5: 0.5481, Class 6: 0.9653, \n",
      "Validation mIoU Score\n",
      "Class 0: 0.9749, Class 1: 0.6639, Class 2: 0.1709, Class 3: 0.3245, Class 4: 0.5771, Class 5: 0.3235, Class 6: 0.8166, \n",
      "\n",
      "Overall Mean Dice Score: 0.6801\n",
      "Overall Mean F-beta Score: 0.7503\n",
      "Overall Mean IoU Score: 0.5411\n",
      "Final_score: 0.6457\n",
      "Training Loss: 0.2216, Validation Loss: 0.2284, Validation hybrid_score: 0.6457\n",
      "Epoch 72/4000\n"
     ]
    },
    {
     "name": "stderr",
     "output_type": "stream",
     "text": [
      "Training:  62%|██████▏   | 74/120 [01:52<01:10,  1.53s/it, loss=0.214]"
     ]
    }
   ],
   "source": [
    "train_model(\n",
    "    model=model,\n",
    "    train_loader=train_loader,\n",
    "    val_loader=val_loader,\n",
    "    criterion=criterion,\n",
    "    optimizer=optimizer,\n",
    "    num_epochs=num_epochs,\n",
    "    patience=10,\n",
    "    device=device,\n",
    "    start_epoch=start_epoch,\n",
    "    best_val_loss=best_val_loss,\n",
    "    best_val_fbeta_score=best_val_fbeta_score,\n",
    "    calculate_dice_interval=1,\n",
    "    accumulation_steps = accumulation_steps,\n",
    "    pretrained=False\n",
    "     ) "
   ]
  },
  {
   "cell_type": "code",
   "execution_count": null,
   "metadata": {},
   "outputs": [
    {
     "ename": "SyntaxError",
     "evalue": "invalid syntax (879943805.py, line 1)",
     "output_type": "error",
     "traceback": [
      "\u001b[1;36m  Cell \u001b[1;32mIn[12], line 1\u001b[1;36m\u001b[0m\n\u001b[1;33m    if:\u001b[0m\n\u001b[1;37m      ^\u001b[0m\n\u001b[1;31mSyntaxError\u001b[0m\u001b[1;31m:\u001b[0m invalid syntax\n"
     ]
    }
   ],
   "source": [
    "if:"
   ]
  },
  {
   "cell_type": "markdown",
   "metadata": {},
   "source": [
    "# VAl"
   ]
  },
  {
   "cell_type": "code",
   "execution_count": null,
   "metadata": {},
   "outputs": [
    {
     "data": {
      "text/html": [
       "Finishing last run (ID:fs6utwyo) before initializing another..."
      ],
      "text/plain": [
       "<IPython.core.display.HTML object>"
      ]
     },
     "metadata": {},
     "output_type": "display_data"
    },
    {
     "data": {
      "application/vnd.jupyter.widget-view+json": {
       "model_id": "29cc3ae761af43baae5aca60b5d2e7f4",
       "version_major": 2,
       "version_minor": 0
      },
      "text/plain": [
       "VBox(children=(Label(value='0.009 MB of 0.009 MB uploaded\\r'), FloatProgress(value=1.0, max=1.0)))"
      ]
     },
     "metadata": {},
     "output_type": "display_data"
    },
    {
     "data": {
      "text/html": [
       "<style>\n",
       "    table.wandb td:nth-child(1) { padding: 0 10px; text-align: left ; width: auto;} td:nth-child(2) {text-align: left ; width: 100%}\n",
       "    .wandb-row { display: flex; flex-direction: row; flex-wrap: wrap; justify-content: flex-start; width: 100% }\n",
       "    .wandb-col { display: flex; flex-direction: column; flex-basis: 100%; flex: 1; padding: 10px; }\n",
       "    </style>\n",
       "<div class=\"wandb-row\"><div class=\"wandb-col\"><h3>Run history:</h3><br/><table class=\"wandb\"><tr><td>class_0_dice_score</td><td>▁</td></tr><tr><td>class_0_f_beta_score</td><td>▁</td></tr><tr><td>class_1_dice_score</td><td>▁</td></tr><tr><td>class_1_f_beta_score</td><td>▁</td></tr><tr><td>class_2_dice_score</td><td>▁</td></tr><tr><td>class_2_f_beta_score</td><td>▁</td></tr><tr><td>class_3_dice_score</td><td>▁</td></tr><tr><td>class_3_f_beta_score</td><td>▁</td></tr><tr><td>class_4_dice_score</td><td>▁</td></tr><tr><td>class_4_f_beta_score</td><td>▁</td></tr><tr><td>class_5_dice_score</td><td>▁</td></tr><tr><td>class_5_f_beta_score</td><td>▁</td></tr><tr><td>class_6_dice_score</td><td>▁</td></tr><tr><td>class_6_f_beta_score</td><td>▁</td></tr><tr><td>epoch</td><td>▁▁▁▁▁▁▁▁▁▁▁▁▁▁▁▁</td></tr><tr><td>overall_mean_dice_score</td><td>▁</td></tr><tr><td>overall_mean_f_beta_score</td><td>▁</td></tr><tr><td>val_epoch_loss</td><td>▁</td></tr></table><br/></div><div class=\"wandb-col\"><h3>Run summary:</h3><br/><table class=\"wandb\"><tr><td>class_0_dice_score</td><td>0.65703</td></tr><tr><td>class_0_f_beta_score</td><td>0.50748</td></tr><tr><td>class_1_dice_score</td><td>0.53332</td></tr><tr><td>class_1_f_beta_score</td><td>0.64703</td></tr><tr><td>class_2_dice_score</td><td>0.00286</td></tr><tr><td>class_2_f_beta_score</td><td>0.02334</td></tr><tr><td>class_3_dice_score</td><td>0.23703</td></tr><tr><td>class_3_f_beta_score</td><td>0.23033</td></tr><tr><td>class_4_dice_score</td><td>0.65487</td></tr><tr><td>class_4_f_beta_score</td><td>0.62525</td></tr><tr><td>class_5_dice_score</td><td>0.47899</td></tr><tr><td>class_5_f_beta_score</td><td>0.51448</td></tr><tr><td>class_6_dice_score</td><td>0.42545</td></tr><tr><td>class_6_f_beta_score</td><td>0.47197</td></tr><tr><td>epoch</td><td>1</td></tr><tr><td>overall_mean_dice_score</td><td>0.42708</td></tr><tr><td>overall_mean_f_beta_score</td><td>0.43141</td></tr><tr><td>val_epoch_loss</td><td>0.7152</td></tr></table><br/></div></div>"
      ],
      "text/plain": [
       "<IPython.core.display.HTML object>"
      ]
     },
     "metadata": {},
     "output_type": "display_data"
    },
    {
     "data": {
      "text/html": [
       " View run <strong style=\"color:#cdcd00\">SwinUNETR96_96_lr0.001_lambda0.52_batch2</strong> at: <a href='https://wandb.ai/waooang/czii_SwinUnetR_val/runs/fs6utwyo' target=\"_blank\">https://wandb.ai/waooang/czii_SwinUnetR_val/runs/fs6utwyo</a><br/> View project at: <a href='https://wandb.ai/waooang/czii_SwinUnetR_val' target=\"_blank\">https://wandb.ai/waooang/czii_SwinUnetR_val</a><br/>Synced 4 W&B file(s), 0 media file(s), 3 artifact file(s) and 0 other file(s)"
      ],
      "text/plain": [
       "<IPython.core.display.HTML object>"
      ]
     },
     "metadata": {},
     "output_type": "display_data"
    },
    {
     "data": {
      "text/html": [
       "Find logs at: <code>.\\wandb\\run-20241219_200219-fs6utwyo\\logs</code>"
      ],
      "text/plain": [
       "<IPython.core.display.HTML object>"
      ]
     },
     "metadata": {},
     "output_type": "display_data"
    },
    {
     "data": {
      "text/html": [
       "Successfully finished last run (ID:fs6utwyo). Initializing new run:<br/>"
      ],
      "text/plain": [
       "<IPython.core.display.HTML object>"
      ]
     },
     "metadata": {},
     "output_type": "display_data"
    },
    {
     "data": {
      "text/html": [
       "Tracking run with wandb version 0.18.3"
      ],
      "text/plain": [
       "<IPython.core.display.HTML object>"
      ]
     },
     "metadata": {},
     "output_type": "display_data"
    },
    {
     "data": {
      "text/html": [
       "Run data is saved locally in <code>e:\\Workspace\\czll\\wandb\\run-20241219_200454-121l7bn3</code>"
      ],
      "text/plain": [
       "<IPython.core.display.HTML object>"
      ]
     },
     "metadata": {},
     "output_type": "display_data"
    },
    {
     "data": {
      "text/html": [
       "Syncing run <strong><a href='https://wandb.ai/waooang/czii_SwinUnetR_val/runs/121l7bn3' target=\"_blank\">SwinUNETR96_96_lr0.001_lambda0.52_batch2</a></strong> to <a href='https://wandb.ai/waooang/czii_SwinUnetR_val' target=\"_blank\">Weights & Biases</a> (<a href='https://wandb.me/run' target=\"_blank\">docs</a>)<br/>"
      ],
      "text/plain": [
       "<IPython.core.display.HTML object>"
      ]
     },
     "metadata": {},
     "output_type": "display_data"
    },
    {
     "data": {
      "text/html": [
       " View project at <a href='https://wandb.ai/waooang/czii_SwinUnetR_val' target=\"_blank\">https://wandb.ai/waooang/czii_SwinUnetR_val</a>"
      ],
      "text/plain": [
       "<IPython.core.display.HTML object>"
      ]
     },
     "metadata": {},
     "output_type": "display_data"
    },
    {
     "data": {
      "text/html": [
       " View run at <a href='https://wandb.ai/waooang/czii_SwinUnetR_val/runs/121l7bn3' target=\"_blank\">https://wandb.ai/waooang/czii_SwinUnetR_val/runs/121l7bn3</a>"
      ],
      "text/plain": [
       "<IPython.core.display.HTML object>"
      ]
     },
     "metadata": {},
     "output_type": "display_data"
    },
    {
     "name": "stderr",
     "output_type": "stream",
     "text": [
      "Loading dataset: 100%|██████████| 4/4 [00:06<00:00,  1.58s/it]\n",
      "C:\\Users\\Seungwoo\\AppData\\Local\\Temp\\ipykernel_21000\\1177025787.py:95: FutureWarning: You are using `torch.load` with `weights_only=False` (the current default value), which uses the default pickle module implicitly. It is possible to construct malicious pickle data which will execute arbitrary code during unpickling (See https://github.com/pytorch/pytorch/blob/main/SECURITY.md#untrusted-models for more details). In a future release, the default value for `weights_only` will be flipped to `True`. This limits the functions that could be executed during unpickling. Arbitrary objects will no longer be allowed to be loaded via this mode unless they are explicitly allowlisted by the user via `torch.serialization.add_safe_globals`. We recommend you start setting `weights_only=True` for any use case where you don't have full control of the loaded file. Please open an issue on GitHub for any issues related to this experimental feature.\n",
      "  checkpoint = torch.load(pretrain_path, map_location=device)\n",
      "Validation: 100%|██████████| 4/4 [00:01<00:00,  2.38it/s, loss=0.865]"
     ]
    },
    {
     "name": "stdout",
     "output_type": "stream",
     "text": [
      "Validation Dice Score\n",
      "Class 0: 0.6570, Class 1: 0.5333, Class 2: 0.0029, Class 3: 0.2370, \n",
      "Class 4: 0.6549, Class 5: 0.4790, Class 6: 0.4255, \n",
      "Validation F-beta Score\n",
      "Class 0: 0.5075, Class 1: 0.6470, Class 2: 0.0233, Class 3: 0.2303, \n",
      "Class 4: 0.6252, Class 5: 0.5145, Class 6: 0.4720, \n",
      "Overall Mean Dice Score: 0.4659\n",
      "Overall Mean F-beta Score: 0.4978\n",
      "\n"
     ]
    },
    {
     "name": "stderr",
     "output_type": "stream",
     "text": [
      "\n"
     ]
    },
    {
     "ename": "",
     "evalue": "",
     "output_type": "error",
     "traceback": [
      "\u001b[1;31mnotebook controller is DISPOSED. \n",
      "\u001b[1;31m자세한 내용은 Jupyter <a href='command:jupyter.viewOutput'>로그</a>를 참조하세요."
     ]
    },
    {
     "ename": "",
     "evalue": "",
     "output_type": "error",
     "traceback": [
      "\u001b[1;31mnotebook controller is DISPOSED. \n",
      "\u001b[1;31m자세한 내용은 Jupyter <a href='command:jupyter.viewOutput'>로그</a>를 참조하세요."
     ]
    }
   ],
   "source": [
    "from monai.data import DataLoader, Dataset, CacheDataset\n",
    "from monai.transforms import (\n",
    "    Compose, LoadImaged, EnsureChannelFirstd, NormalizeIntensityd,\n",
    "    Orientationd, CropForegroundd, GaussianSmoothd, ScaleIntensityd,\n",
    "    RandSpatialCropd, RandRotate90d, RandFlipd, RandGaussianNoised,\n",
    "    ToTensord, RandCropByLabelClassesd\n",
    ")\n",
    "from monai.metrics import DiceMetric\n",
    "from monai.networks.nets import UNETR, SwinUNETR\n",
    "from monai.losses import TverskyLoss\n",
    "import torch\n",
    "import numpy as np\n",
    "from tqdm import tqdm\n",
    "import wandb\n",
    "from src.dataset.dataset import make_val_dataloader\n",
    "\n",
    "val_img_dir = \"./datasets/val/images\"\n",
    "val_label_dir = \"./datasets/val/labels\"\n",
    "img_depth = 96\n",
    "img_size = 96  # Match your patch size\n",
    "n_classes = 7\n",
    "batch_size = 2 # 13.8GB GPU memory required for 128x128 img size\n",
    "num_samples = batch_size # 한 이미지에서 뽑을 샘플 수\n",
    "loader_batch = 1\n",
    "lamda = 0.52\n",
    "\n",
    "wandb.init(\n",
    "    project='czii_SwinUnetR_val',  # 프로젝트 이름 설정\n",
    "    name='SwinUNETR96_96_lr0.001_lambda0.52_batch2',         # 실행(run) 이름 설정\n",
    "    config={\n",
    "        'learning_rate': 0.001,\n",
    "        'batch_size': batch_size,\n",
    "        'lambda': lamda,\n",
    "        'img_size': img_size,\n",
    "        'device': 'cuda',\n",
    "        \"checkpoint_dir\": \"./model_checkpoints/SwinUNETR96_96_lr0.001_lambda0.52_batch2\",\n",
    "        \n",
    "    }\n",
    ")\n",
    "\n",
    "non_random_transforms = Compose([\n",
    "    EnsureChannelFirstd(keys=[\"image\", \"label\"], channel_dim=\"no_channel\"),\n",
    "    NormalizeIntensityd(keys=\"image\"),\n",
    "    Orientationd(keys=[\"image\", \"label\"], axcodes=\"RAS\"),\n",
    "    GaussianSmoothd(\n",
    "        keys=[\"image\"],      # 변환을 적용할 키\n",
    "        sigma=[1.0, 1.0, 1.0]  # 각 축(x, y, z)의 시그마 값\n",
    "        ),\n",
    "])\n",
    "random_transforms = Compose([\n",
    "    RandCropByLabelClassesd(\n",
    "        keys=[\"image\", \"label\"],\n",
    "        label_key=\"label\",\n",
    "        spatial_size=[img_depth, img_size, img_size],\n",
    "        num_classes=n_classes,\n",
    "        num_samples=num_samples, \n",
    "        ratios=ratios_list,\n",
    "    ),\n",
    "    RandRotate90d(keys=[\"image\", \"label\"], prob=0.5, spatial_axes=[1, 2]),\n",
    "    RandFlipd(keys=[\"image\", \"label\"], prob=0.5, spatial_axis=0),\n",
    "])\n",
    "\n",
    "val_loader = make_val_dataloader(\n",
    "    val_img_dir, \n",
    "    val_label_dir, \n",
    "    non_random_transforms = non_random_transforms, \n",
    "    random_transforms = random_transforms, \n",
    "    batch_size = loader_batch,\n",
    "    num_workers=0\n",
    ")\n",
    "criterion = TverskyLoss(\n",
    "    alpha= 1 - lamda,  # FP에 대한 가중치\n",
    "    beta=lamda,       # FN에 대한 가중치\n",
    "    include_background=False,  # 배경 클래스 제외\n",
    "    softmax=True\n",
    ")\n",
    "    \n",
    "    \n",
    "from monai.metrics import DiceMetric\n",
    "\n",
    "img_size = 96\n",
    "img_depth = img_size\n",
    "n_classes = 7 \n",
    "\n",
    "device = torch.device(\"cuda\" if torch.cuda.is_available() else \"cpu\")\n",
    "pretrain_path = \"./model_checkpoints/SwinUNETR96_96_lr0.001_lambda0.52_batch2/best_model.pt\"\n",
    "model = SwinUNETR(\n",
    "    img_size=(img_depth, img_size, img_size),\n",
    "    in_channels=1,\n",
    "    out_channels=n_classes,\n",
    "    feature_size=48,\n",
    "    use_checkpoint=True,\n",
    ").to(device)\n",
    "# Pretrained weights 불러오기\n",
    "checkpoint = torch.load(pretrain_path, map_location=device)\n",
    "model.load_state_dict(checkpoint['model_state_dict'])\n",
    "\n",
    "val_loss, overall_mean_fbeta_score = validate_one_epoch(\n",
    "    model=model, \n",
    "    val_loader=val_loader, \n",
    "    criterion=criterion, \n",
    "    device=device, \n",
    "    epoch=0, \n",
    "    calculate_dice_interval=1\n",
    ")"
   ]
  },
  {
   "cell_type": "markdown",
   "metadata": {},
   "source": [
    "# Inference"
   ]
  },
  {
   "cell_type": "code",
   "execution_count": null,
   "metadata": {},
   "outputs": [
    {
     "ename": "",
     "evalue": "",
     "output_type": "error",
     "traceback": [
      "\u001b[1;31mnotebook controller is DISPOSED. \n",
      "\u001b[1;31m자세한 내용은 Jupyter <a href='command:jupyter.viewOutput'>로그</a>를 참조하세요."
     ]
    },
    {
     "ename": "",
     "evalue": "",
     "output_type": "error",
     "traceback": [
      "\u001b[1;31mnotebook controller is DISPOSED. \n",
      "\u001b[1;31m자세한 내용은 Jupyter <a href='command:jupyter.viewOutput'>로그</a>를 참조하세요."
     ]
    }
   ],
   "source": [
    "from src.dataset.preprocessing import Preprocessor"
   ]
  },
  {
   "cell_type": "code",
   "execution_count": null,
   "metadata": {},
   "outputs": [
    {
     "name": "stdout",
     "output_type": "stream",
     "text": [
      "Done.\n"
     ]
    },
    {
     "ename": "",
     "evalue": "",
     "output_type": "error",
     "traceback": [
      "\u001b[1;31mnotebook controller is DISPOSED. \n",
      "\u001b[1;31m자세한 내용은 Jupyter <a href='command:jupyter.viewOutput'>로그</a>를 참조하세요."
     ]
    },
    {
     "ename": "",
     "evalue": "",
     "output_type": "error",
     "traceback": [
      "\u001b[1;31mnotebook controller is DISPOSED. \n",
      "\u001b[1;31m자세한 내용은 Jupyter <a href='command:jupyter.viewOutput'>로그</a>를 참조하세요."
     ]
    }
   ],
   "source": [
    "from monai.inferers import sliding_window_inference\n",
    "from monai.transforms import Compose, EnsureChannelFirstd, NormalizeIntensityd, Orientationd, GaussianSmoothd\n",
    "from monai.data import DataLoader, Dataset, CacheDataset\n",
    "from monai.networks.nets import SwinUNETR\n",
    "from pathlib import Path\n",
    "import numpy as np\n",
    "import copick\n",
    "\n",
    "import torch\n",
    "print(\"Done.\")"
   ]
  },
  {
   "cell_type": "code",
   "execution_count": null,
   "metadata": {},
   "outputs": [
    {
     "name": "stdout",
     "output_type": "stream",
     "text": [
      "Config file written to ./kaggle/working/copick.config\n",
      "file length: 7\n"
     ]
    },
    {
     "ename": "",
     "evalue": "",
     "output_type": "error",
     "traceback": [
      "\u001b[1;31mnotebook controller is DISPOSED. \n",
      "\u001b[1;31m자세한 내용은 Jupyter <a href='command:jupyter.viewOutput'>로그</a>를 참조하세요."
     ]
    },
    {
     "ename": "",
     "evalue": "",
     "output_type": "error",
     "traceback": [
      "\u001b[1;31mnotebook controller is DISPOSED. \n",
      "\u001b[1;31m자세한 내용은 Jupyter <a href='command:jupyter.viewOutput'>로그</a>를 참조하세요."
     ]
    }
   ],
   "source": [
    "config_blob = \"\"\"{\n",
    "    \"name\": \"czii_cryoet_mlchallenge_2024\",\n",
    "    \"description\": \"2024 CZII CryoET ML Challenge training data.\",\n",
    "    \"version\": \"1.0.0\",\n",
    "\n",
    "    \"pickable_objects\": [\n",
    "        {\n",
    "            \"name\": \"apo-ferritin\",\n",
    "            \"is_particle\": true,\n",
    "            \"pdb_id\": \"4V1W\",\n",
    "            \"label\": 1,\n",
    "            \"color\": [  0, 117, 220, 128],\n",
    "            \"radius\": 60,\n",
    "            \"map_threshold\": 0.0418\n",
    "        },\n",
    "        {\n",
    "          \"name\" : \"beta-amylase\",\n",
    "            \"is_particle\": true,\n",
    "            \"pdb_id\": \"8ZRZ\",\n",
    "            \"label\": 2,\n",
    "            \"color\": [255, 255, 255, 128],\n",
    "            \"radius\": 90,\n",
    "            \"map_threshold\": 0.0578  \n",
    "        },\n",
    "        {\n",
    "            \"name\": \"beta-galactosidase\",\n",
    "            \"is_particle\": true,\n",
    "            \"pdb_id\": \"6X1Q\",\n",
    "            \"label\": 3,\n",
    "            \"color\": [ 76,   0,  92, 128],\n",
    "            \"radius\": 90,\n",
    "            \"map_threshold\": 0.0578\n",
    "        },\n",
    "        {\n",
    "            \"name\": \"ribosome\",\n",
    "            \"is_particle\": true,\n",
    "            \"pdb_id\": \"6EK0\",\n",
    "            \"label\": 4,\n",
    "            \"color\": [  0,  92,  49, 128],\n",
    "            \"radius\": 150,\n",
    "            \"map_threshold\": 0.0374\n",
    "        },\n",
    "        {\n",
    "            \"name\": \"thyroglobulin\",\n",
    "            \"is_particle\": true,\n",
    "            \"pdb_id\": \"6SCJ\",\n",
    "            \"label\": 5,\n",
    "            \"color\": [ 43, 206,  72, 128],\n",
    "            \"radius\": 130,\n",
    "            \"map_threshold\": 0.0278\n",
    "        },\n",
    "        {\n",
    "            \"name\": \"virus-like-particle\",\n",
    "            \"is_particle\": true,\n",
    "            \"label\": 6,\n",
    "            \"color\": [255, 204, 153, 128],\n",
    "            \"radius\": 135,\n",
    "            \"map_threshold\": 0.201\n",
    "        },\n",
    "        {\n",
    "            \"name\": \"membrane\",\n",
    "            \"is_particle\": false,\n",
    "            \"label\": 8,\n",
    "            \"color\": [100, 100, 100, 128]\n",
    "        },\n",
    "        {\n",
    "            \"name\": \"background\",\n",
    "            \"is_particle\": false,\n",
    "            \"label\": 9,\n",
    "            \"color\": [10, 150, 200, 128]\n",
    "        }\n",
    "    ],\n",
    "\n",
    "    \"overlay_root\": \"./kaggle/working/overlay\",\n",
    "\n",
    "    \"overlay_fs_args\": {\n",
    "        \"auto_mkdir\": true\n",
    "    },\n",
    "\n",
    "    \"static_root\": \"./kaggle/input/czii-cryo-et-object-identification/test/static\"\n",
    "}\"\"\"\n",
    "\n",
    "copick_config_path = \"./kaggle/working/copick.config\"\n",
    "preprocessor = Preprocessor(config_blob,copick_config_path=copick_config_path)\n",
    "non_random_transforms = Compose([\n",
    "    EnsureChannelFirstd(keys=[\"image\"], channel_dim=\"no_channel\"),\n",
    "    NormalizeIntensityd(keys=\"image\"),\n",
    "    Orientationd(keys=[\"image\"], axcodes=\"RAS\"),\n",
    "    GaussianSmoothd(\n",
    "        keys=[\"image\"],      # 변환을 적용할 키\n",
    "        sigma=[1.0, 1.0, 1.0]  # 각 축(x, y, z)의 시그마 값\n",
    "        ),\n",
    "    ])"
   ]
  },
  {
   "cell_type": "code",
   "execution_count": null,
   "metadata": {},
   "outputs": [
    {
     "name": "stderr",
     "output_type": "stream",
     "text": [
      "c:\\ProgramData\\anaconda3\\envs\\ship\\Lib\\site-packages\\monai\\utils\\deprecate_utils.py:221: FutureWarning: monai.networks.nets.swin_unetr SwinUNETR.__init__:img_size: Argument `img_size` has been deprecated since version 1.3. It will be removed in version 1.5. The img_size argument is not required anymore and checks on the input size are run during forward().\n",
      "  warn_deprecated(argname, msg, warning_category)\n",
      "C:\\Users\\Seungwoo\\AppData\\Local\\Temp\\ipykernel_6248\\2937359115.py:15: FutureWarning: You are using `torch.load` with `weights_only=False` (the current default value), which uses the default pickle module implicitly. It is possible to construct malicious pickle data which will execute arbitrary code during unpickling (See https://github.com/pytorch/pytorch/blob/main/SECURITY.md#untrusted-models for more details). In a future release, the default value for `weights_only` will be flipped to `True`. This limits the functions that could be executed during unpickling. Arbitrary objects will no longer be allowed to be loaded via this mode unless they are explicitly allowlisted by the user via `torch.serialization.add_safe_globals`. We recommend you start setting `weights_only=True` for any use case where you don't have full control of the loaded file. Please open an issue on GitHub for any issues related to this experimental feature.\n",
      "  checkpoint = torch.load(pretrain_path, map_location=device)\n"
     ]
    },
    {
     "data": {
      "text/plain": [
       "<All keys matched successfully>"
      ]
     },
     "execution_count": 15,
     "metadata": {},
     "output_type": "execute_result"
    },
    {
     "ename": "",
     "evalue": "",
     "output_type": "error",
     "traceback": [
      "\u001b[1;31mnotebook controller is DISPOSED. \n",
      "\u001b[1;31m자세한 내용은 Jupyter <a href='command:jupyter.viewOutput'>로그</a>를 참조하세요."
     ]
    },
    {
     "ename": "",
     "evalue": "",
     "output_type": "error",
     "traceback": [
      "\u001b[1;31mnotebook controller is DISPOSED. \n",
      "\u001b[1;31m자세한 내용은 Jupyter <a href='command:jupyter.viewOutput'>로그</a>를 참조하세요."
     ]
    }
   ],
   "source": [
    "img_size = 96\n",
    "img_depth = img_size\n",
    "n_classes = 7 \n",
    "\n",
    "device = torch.device(\"cuda\" if torch.cuda.is_available() else \"cpu\")\n",
    "pretrain_path = \"./model_checkpoints/SwinUNETR96_96_lr0.001_lambda0.52_batch2/best_model.pt\"\n",
    "model = SwinUNETR(\n",
    "    img_size=(img_depth, img_size, img_size),\n",
    "    in_channels=1,\n",
    "    out_channels=n_classes,\n",
    "    feature_size=48,\n",
    "    use_checkpoint=True,\n",
    ").to(device)\n",
    "# Pretrained weights 불러오기\n",
    "checkpoint = torch.load(pretrain_path, map_location=device)\n",
    "model.load_state_dict(checkpoint['model_state_dict'])\n"
   ]
  },
  {
   "cell_type": "code",
   "execution_count": null,
   "metadata": {},
   "outputs": [
    {
     "name": "stderr",
     "output_type": "stream",
     "text": [
      "Validation:   0%|          | 0/4 [00:03<?, ?it/s, loss=0.764]\n"
     ]
    },
    {
     "ename": "ZeroDivisionError",
     "evalue": "integer modulo by zero",
     "output_type": "error",
     "traceback": [
      "\u001b[1;31m---------------------------------------------------------------------------\u001b[0m",
      "\u001b[1;31mZeroDivisionError\u001b[0m                         Traceback (most recent call last)",
      "Cell \u001b[1;32mIn[16], line 1\u001b[0m\n\u001b[1;32m----> 1\u001b[0m val_loss \u001b[38;5;241m=\u001b[39m \u001b[43mvalidate_one_epoch\u001b[49m\u001b[43m(\u001b[49m\n\u001b[0;32m      2\u001b[0m \u001b[43m            \u001b[49m\u001b[43mmodel\u001b[49m\u001b[38;5;241;43m=\u001b[39;49m\u001b[43mmodel\u001b[49m\u001b[43m,\u001b[49m\u001b[43m \u001b[49m\n\u001b[0;32m      3\u001b[0m \u001b[43m            \u001b[49m\u001b[43mval_loader\u001b[49m\u001b[38;5;241;43m=\u001b[39;49m\u001b[43mval_loader\u001b[49m\u001b[43m,\u001b[49m\u001b[43m \u001b[49m\n\u001b[0;32m      4\u001b[0m \u001b[43m            \u001b[49m\u001b[43mcriterion\u001b[49m\u001b[38;5;241;43m=\u001b[39;49m\u001b[43mcriterion\u001b[49m\u001b[43m,\u001b[49m\u001b[43m \u001b[49m\n\u001b[0;32m      5\u001b[0m \u001b[43m            \u001b[49m\u001b[43mdevice\u001b[49m\u001b[38;5;241;43m=\u001b[39;49m\u001b[43mdevice\u001b[49m\u001b[43m,\u001b[49m\u001b[43m \u001b[49m\n\u001b[0;32m      6\u001b[0m \u001b[43m            \u001b[49m\u001b[43mepoch\u001b[49m\u001b[38;5;241;43m=\u001b[39;49m\u001b[38;5;241;43m1\u001b[39;49m\u001b[43m,\u001b[49m\u001b[43m \u001b[49m\n\u001b[0;32m      7\u001b[0m \u001b[43m            \u001b[49m\u001b[43mcalculate_dice_interval\u001b[49m\u001b[38;5;241;43m=\u001b[39;49m\u001b[38;5;241;43m0\u001b[39;49m\n\u001b[0;32m      8\u001b[0m \u001b[43m        \u001b[49m\u001b[43m)\u001b[49m\n",
      "Cell \u001b[1;32mIn[11], line 64\u001b[0m, in \u001b[0;36mvalidate_one_epoch\u001b[1;34m(model, val_loader, criterion, device, epoch, calculate_dice_interval)\u001b[0m\n\u001b[0;32m     61\u001b[0m pbar\u001b[38;5;241m.\u001b[39mset_postfix(loss\u001b[38;5;241m=\u001b[39mloss\u001b[38;5;241m.\u001b[39mitem())\n\u001b[0;32m     63\u001b[0m \u001b[38;5;66;03m# 각 클래스별 Dice 점수 계산\u001b[39;00m\n\u001b[1;32m---> 64\u001b[0m \u001b[38;5;28;01mif\u001b[39;00m \u001b[43mepoch\u001b[49m\u001b[43m \u001b[49m\u001b[38;5;241;43m%\u001b[39;49m\u001b[43m \u001b[49m\u001b[43mcalculate_dice_interval\u001b[49m \u001b[38;5;241m==\u001b[39m \u001b[38;5;241m0\u001b[39m:\n\u001b[0;32m     65\u001b[0m     \u001b[38;5;28;01mfor\u001b[39;00m i \u001b[38;5;129;01min\u001b[39;00m \u001b[38;5;28mrange\u001b[39m(n_classes):\n\u001b[0;32m     66\u001b[0m         pred_i \u001b[38;5;241m=\u001b[39m (preds \u001b[38;5;241m==\u001b[39m i)\n",
      "\u001b[1;31mZeroDivisionError\u001b[0m: integer modulo by zero"
     ]
    },
    {
     "ename": "",
     "evalue": "",
     "output_type": "error",
     "traceback": [
      "\u001b[1;31mnotebook controller is DISPOSED. \n",
      "\u001b[1;31m자세한 내용은 Jupyter <a href='command:jupyter.viewOutput'>로그</a>를 참조하세요."
     ]
    },
    {
     "ename": "",
     "evalue": "",
     "output_type": "error",
     "traceback": [
      "\u001b[1;31mnotebook controller is DISPOSED. \n",
      "\u001b[1;31m자세한 내용은 Jupyter <a href='command:jupyter.viewOutput'>로그</a>를 참조하세요."
     ]
    }
   ],
   "source": [
    "val_loss = validate_one_epoch(\n",
    "            model=model, \n",
    "            val_loader=val_loader, \n",
    "            criterion=criterion, \n",
    "            device=device, \n",
    "            epoch=1, \n",
    "            calculate_dice_interval=0\n",
    "        )"
   ]
  },
  {
   "cell_type": "code",
   "execution_count": null,
   "metadata": {},
   "outputs": [
    {
     "name": "stdout",
     "output_type": "stream",
     "text": [
      "Processing volume 1/7\n"
     ]
    },
    {
     "name": "stderr",
     "output_type": "stream",
     "text": [
      "Loading dataset: 100%|██████████| 1/1 [00:01<00:00,  1.94s/it]\n"
     ]
    },
    {
     "name": "stdout",
     "output_type": "stream",
     "text": [
      "Processing volume 2/7\n"
     ]
    },
    {
     "name": "stderr",
     "output_type": "stream",
     "text": [
      "Loading dataset: 100%|██████████| 1/1 [00:01<00:00,  1.89s/it]\n"
     ]
    },
    {
     "name": "stdout",
     "output_type": "stream",
     "text": [
      "Processing volume 3/7\n"
     ]
    },
    {
     "name": "stderr",
     "output_type": "stream",
     "text": [
      "Loading dataset: 100%|██████████| 1/1 [00:01<00:00,  1.79s/it]\n"
     ]
    },
    {
     "name": "stdout",
     "output_type": "stream",
     "text": [
      "Submission saved to: submission.csv\n"
     ]
    },
    {
     "ename": "",
     "evalue": "",
     "output_type": "error",
     "traceback": [
      "\u001b[1;31mnotebook controller is DISPOSED. \n",
      "\u001b[1;31m자세한 내용은 Jupyter <a href='command:jupyter.viewOutput'>로그</a>를 참조하세요."
     ]
    },
    {
     "ename": "",
     "evalue": "",
     "output_type": "error",
     "traceback": [
      "\u001b[1;31mnotebook controller is DISPOSED. \n",
      "\u001b[1;31m자세한 내용은 Jupyter <a href='command:jupyter.viewOutput'>로그</a>를 참조하세요."
     ]
    }
   ],
   "source": [
    "import torch\n",
    "import numpy as np\n",
    "from scipy.ndimage import label, center_of_mass\n",
    "import pandas as pd\n",
    "from tqdm import tqdm\n",
    "from monai.data import CacheDataset, DataLoader\n",
    "from monai.transforms import Compose, NormalizeIntensity\n",
    "import cc3d\n",
    "\n",
    "def dict_to_df(coord_dict, experiment_name):\n",
    "    all_coords = []\n",
    "    all_labels = []\n",
    "    \n",
    "    for label, coords in coord_dict.items():\n",
    "        all_coords.append(coords)\n",
    "        all_labels.extend([label] * len(coords))\n",
    "    \n",
    "    all_coords = np.vstack(all_coords)\n",
    "    df = pd.DataFrame({\n",
    "        'experiment': experiment_name,\n",
    "        'particle_type': all_labels,\n",
    "        'x': all_coords[:, 0],\n",
    "        'y': all_coords[:, 1],\n",
    "        'z': all_coords[:, 2]\n",
    "    })\n",
    "    return df\n",
    "\n",
    "id_to_name = {1: \"apo-ferritin\", \n",
    "              2: \"beta-amylase\",\n",
    "              3: \"beta-galactosidase\", \n",
    "              4: \"ribosome\", \n",
    "              5: \"thyroglobulin\", \n",
    "              6: \"virus-like-particle\"}\n",
    "BLOB_THRESHOLD = 200\n",
    "CERTAINTY_THRESHOLD = 0.05\n",
    "\n",
    "classes = [1, 2, 3, 4, 5, 6]\n",
    "\n",
    "model.eval()\n",
    "with torch.no_grad():\n",
    "    location_dfs = []  # DataFrame 리스트로 초기화\n",
    "    \n",
    "    for vol_idx, run in enumerate(preprocessor.root.runs):\n",
    "        print(f\"Processing volume {vol_idx + 1}/{len(preprocessor.root.runs)}\")\n",
    "        tomogram = preprocessor.processing(run=run, task=\"task\")\n",
    "        task_files = [{\"image\": tomogram}]\n",
    "        task_ds = CacheDataset(data=task_files, transform=non_random_transforms)\n",
    "        task_loader = DataLoader(task_ds, batch_size=1, num_workers=0)\n",
    "        \n",
    "        for task_data in task_loader:\n",
    "            images = task_data['image'].to(\"cuda\")\n",
    "            outputs = sliding_window_inference(\n",
    "                inputs=images,\n",
    "                roi_size=(96, 96, 96),  # ROI 크기\n",
    "                sw_batch_size=4,\n",
    "                predictor=model.forward,\n",
    "                overlap=0.1,\n",
    "                sw_device=\"cuda\",\n",
    "                device=\"cpu\",\n",
    "                buffer_steps=1,\n",
    "                buffer_dim=-1\n",
    "            )\n",
    "            outputs = outputs.argmax(dim=1).squeeze(0).cpu().numpy()  # 클래스 채널 예측\n",
    "            location = {}  # 좌표 저장용 딕셔너리\n",
    "            for c in classes:\n",
    "                cc = cc3d.connected_components(outputs == c)  # cc3d 라벨링\n",
    "                stats = cc3d.statistics(cc)\n",
    "                zyx = stats['centroids'][1:] * 10.012444  # 스케일 변환\n",
    "                zyx_large = zyx[stats['voxel_counts'][1:] > BLOB_THRESHOLD]  # 크기 필터링\n",
    "                xyz = np.ascontiguousarray(zyx_large[:, ::-1])  # 좌표 스왑 (z, y, x -> x, y, z)\n",
    "\n",
    "                location[id_to_name[c]] = xyz  # ID 이름 매칭 저장\n",
    "\n",
    "            # 데이터프레임 변환\n",
    "            df = dict_to_df(location, run.name)\n",
    "            location_dfs.append(df)  # 리스트에 추가\n",
    "        \n",
    "        # if vol_idx == 2:\n",
    "        #     break\n",
    "    \n",
    "    # DataFrame 병합\n",
    "    final_df = pd.concat(location_dfs, ignore_index=True)\n",
    "    \n",
    "    # ID 추가 및 CSV 저장\n",
    "    final_df.insert(loc=0, column='id', value=np.arange(len(final_df)))\n",
    "    final_df.to_csv(\"submission.csv\", index=False)\n",
    "    print(\"Submission saved to: submission.csv\")\n"
   ]
  }
 ],
 "metadata": {
  "kernelspec": {
   "display_name": "UM",
   "language": "python",
   "name": "python3"
  },
  "language_info": {
   "codemirror_mode": {
    "name": "ipython",
    "version": 3
   },
   "file_extension": ".py",
   "mimetype": "text/x-python",
   "name": "python",
   "nbconvert_exporter": "python",
   "pygments_lexer": "ipython3",
   "version": "3.12.7"
  }
 },
 "nbformat": 4,
 "nbformat_minor": 2
}
