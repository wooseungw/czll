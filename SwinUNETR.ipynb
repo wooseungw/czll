{
 "cells": [
  {
   "cell_type": "code",
   "execution_count": 1,
   "metadata": {},
   "outputs": [
    {
     "name": "stdout",
     "output_type": "stream",
     "text": [
      "MONAI version: 1.4.0\n",
      "Numpy version: 1.26.3\n",
      "Pytorch version: 2.4.1+cu121\n",
      "MONAI flags: HAS_EXT = False, USE_COMPILED = False, USE_META_DICT = False\n",
      "MONAI rev id: 46a5272196a6c2590ca2589029eed8e4d56ff008\n",
      "MONAI __file__: c:\\ProgramData\\anaconda3\\envs\\ship\\Lib\\site-packages\\monai\\__init__.py\n",
      "\n",
      "Optional dependencies:\n",
      "Pytorch Ignite version: NOT INSTALLED or UNKNOWN VERSION.\n",
      "ITK version: NOT INSTALLED or UNKNOWN VERSION.\n",
      "Nibabel version: 5.3.2\n",
      "scikit-image version: 0.24.0\n",
      "scipy version: 1.14.1\n",
      "Pillow version: 10.2.0\n",
      "Tensorboard version: NOT INSTALLED or UNKNOWN VERSION.\n",
      "gdown version: 5.2.0\n",
      "TorchVision version: 0.19.1+cu121\n",
      "tqdm version: 4.66.5\n",
      "lmdb version: NOT INSTALLED or UNKNOWN VERSION.\n",
      "psutil version: 6.0.0\n",
      "pandas version: 2.2.3\n",
      "einops version: 0.8.0\n",
      "transformers version: NOT INSTALLED or UNKNOWN VERSION.\n",
      "mlflow version: NOT INSTALLED or UNKNOWN VERSION.\n",
      "pynrrd version: NOT INSTALLED or UNKNOWN VERSION.\n",
      "clearml version: NOT INSTALLED or UNKNOWN VERSION.\n",
      "\n",
      "For details about installing the optional dependencies, please visit:\n",
      "    https://docs.monai.io/en/latest/installation.html#installing-the-recommended-dependencies\n",
      "\n"
     ]
    }
   ],
   "source": [
    "import os\n",
    "import shutil\n",
    "import tempfile\n",
    "\n",
    "import matplotlib.pyplot as plt\n",
    "from tqdm import tqdm\n",
    "\n",
    "from monai.losses import DiceCELoss\n",
    "from monai.inferers import sliding_window_inference\n",
    "from monai.transforms import (\n",
    "    AsDiscrete,\n",
    "    EnsureChannelFirstd,\n",
    "    Compose,\n",
    "    CropForegroundd,\n",
    "    LoadImaged,\n",
    "    Orientationd,\n",
    "    RandFlipd,\n",
    "    RandCropByPosNegLabeld,\n",
    "    RandShiftIntensityd,\n",
    "    ScaleIntensityRanged,\n",
    "    Spacingd,\n",
    "    RandRotate90d,\n",
    ")\n",
    "\n",
    "from monai.config import print_config\n",
    "from monai.metrics import DiceMetric\n",
    "from monai.networks.nets import UNETR, SwinUNETR\n",
    "\n",
    "from monai.data import (\n",
    "    DataLoader,\n",
    "    CacheDataset,\n",
    "    load_decathlon_datalist,\n",
    "    decollate_batch,\n",
    ")\n",
    "\n",
    "\n",
    "import torch\n",
    "\n",
    "print_config()"
   ]
  },
  {
   "cell_type": "code",
   "execution_count": 2,
   "metadata": {},
   "outputs": [],
   "source": [
    "# class_info = {\n",
    "#     0: {\"name\": \"background\", \"weight\": 10000},  # weight 없음\n",
    "#     1: {\"name\": \"apo-ferritin\", \"weight\": 300},\n",
    "#     2: {\"name\": \"beta-amylase\", \"weight\": 100}, # 4130\n",
    "#     3: {\"name\": \"beta-galactosidase\", \"weight\": 150}, #3080\n",
    "#     4: {\"name\": \"ribosome\", \"weight\": 6000},\n",
    "#     5: {\"name\": \"thyroglobulin\", \"weight\": 4000},\n",
    "#     6: {\"name\": \"virus-like-particle\", \"weight\": 2000},\n",
    "# }\n",
    "\n",
    "# # 가중치에 비례한 비율 계산\n",
    "# raw_ratios = {\n",
    "#     k: (v[\"weight\"] if v[\"weight\"] is not None else 0.01)  # 가중치 비례, None일 경우 기본값\n",
    "#     for k, v in class_info.items()\n",
    "# }\n",
    "# total = sum(raw_ratios.values())\n",
    "# ratios = {k: v / total for k, v in raw_ratios.items()}\n",
    "\n",
    "# # 최종 합계가 1인지 확인\n",
    "# final_total = sum(ratios.values())\n",
    "# print(\"클래스 비율:\", ratios)\n",
    "# print(\"최종 합계:\", final_total)\n",
    "\n",
    "# # 비율을 리스트로 변환\n",
    "# ratios_list = [ratios[k] for k in sorted(ratios.keys())]\n",
    "# print(\"클래스 비율 리스트:\", ratios_list)"
   ]
  },
  {
   "cell_type": "code",
   "execution_count": 3,
   "metadata": {},
   "outputs": [
    {
     "name": "stdout",
     "output_type": "stream",
     "text": [
      "반비례 클래스 비율: {0: 0.0009068923821039903, 1: 0.3022974607013301, 2: 0.009068923821039904, 3: 0.6045949214026602, 4: 0.015114873035066504, 5: 0.022672309552599756, 6: 0.04534461910519951}\n",
      "최종 합계: 1.0\n",
      "반비례 클래스 비율 리스트: [0.0009068923821039903, 0.3022974607013301, 0.009068923821039904, 0.6045949214026602, 0.015114873035066504, 0.022672309552599756, 0.04534461910519951]\n"
     ]
    }
   ],
   "source": [
    "class_info = {\n",
    "    0: {\"name\": \"background\", \"weight\": 100000},  # weight 없음\n",
    "    1: {\"name\": \"apo-ferritin\", \"weight\": 300},\n",
    "    2: {\"name\": \"beta-amylase\", \"weight\": 10000}, # 100\n",
    "    3: {\"name\": \"beta-galactosidase\", \"weight\": 150}, #3080\n",
    "    4: {\"name\": \"ribosome\", \"weight\": 6000},\n",
    "    5: {\"name\": \"thyroglobulin\", \"weight\": 4000},\n",
    "    6: {\"name\": \"virus-like-particle\", \"weight\": 2000},\n",
    "}\n",
    "\n",
    "# 가중치의 역수 계산 (0인 경우 작은 값을 대체)\n",
    "inverse_ratios = {\n",
    "    k: (1 / v[\"weight\"] if v[\"weight\"] > 0 else 1e-6)\n",
    "    for k, v in class_info.items()\n",
    "}\n",
    "\n",
    "# 정규화하여 비율 계산\n",
    "total_inverse = sum(inverse_ratios.values())\n",
    "ratios_inverse = {k: v / total_inverse for k, v in inverse_ratios.items()}\n",
    "\n",
    "# 최종 합계가 1인지 확인\n",
    "final_total_inverse = sum(ratios_inverse.values())\n",
    "print(\"반비례 클래스 비율:\", ratios_inverse)\n",
    "print(\"최종 합계:\", final_total_inverse)\n",
    "\n",
    "# 비율을 리스트로 변환\n",
    "ratios_list = [ratios_inverse[k] for k in sorted(ratios_inverse.keys())]\n",
    "print(\"반비례 클래스 비율 리스트:\", ratios_list)\n"
   ]
  },
  {
   "cell_type": "code",
   "execution_count": 4,
   "metadata": {},
   "outputs": [],
   "source": [
    "from src.dataset.dataset import create_dataloaders\n",
    "from monai.transforms import (\n",
    "    Compose, LoadImaged, EnsureChannelFirstd, NormalizeIntensityd,\n",
    "    Orientationd, CropForegroundd, GaussianSmoothd, ScaleIntensityd,\n",
    "    RandSpatialCropd, RandRotate90d, RandFlipd, RandGaussianNoised,\n",
    "    ToTensord, RandCropByLabelClassesd\n",
    ")\n",
    "\n",
    "train_img_dir = \"./datasets/train/images\"\n",
    "train_label_dir = \"./datasets/train/labels\"\n",
    "val_img_dir = \"./datasets/val/images\"\n",
    "val_label_dir = \"./datasets/val/labels\"\n",
    "img_depth = 64\n",
    "img_size = 64  # Match your patch size\n",
    "n_classes = 7\n",
    "batch_size = 6 # 13.8GB GPU memory required for 128x128 img size\n",
    "num_samples = batch_size # 한 이미지에서 뽑을 샘플 수\n",
    "loader_batch = 1\n",
    "\n",
    "non_random_transforms = Compose([\n",
    "    EnsureChannelFirstd(keys=[\"image\", \"label\"], channel_dim=\"no_channel\"),\n",
    "    NormalizeIntensityd(keys=\"image\"),\n",
    "    Orientationd(keys=[\"image\", \"label\"], axcodes=\"RAS\"),\n",
    "    GaussianSmoothd(\n",
    "        keys=[\"image\"],      # 변환을 적용할 키\n",
    "        sigma=[1.0, 1.0, 1.0]  # 각 축(x, y, z)의 시그마 값\n",
    "        ),\n",
    "])\n",
    "random_transforms = Compose([\n",
    "    \n",
    "    RandCropByLabelClassesd(\n",
    "        keys=[\"image\", \"label\"],\n",
    "        label_key=\"label\",\n",
    "        spatial_size=[img_depth, img_size, img_size],\n",
    "        num_classes=n_classes,\n",
    "        num_samples=num_samples, \n",
    "        ratios=ratios_list,\n",
    "    ),\n",
    "    RandRotate90d(keys=[\"image\", \"label\"], prob=0.5, spatial_axes=[1, 2]),\n",
    "    RandFlipd(keys=[\"image\", \"label\"], prob=0.5, spatial_axis=0),\n",
    "])\n"
   ]
  },
  {
   "cell_type": "code",
   "execution_count": 5,
   "metadata": {},
   "outputs": [
    {
     "name": "stderr",
     "output_type": "stream",
     "text": [
      "Loading dataset: 100%|██████████| 24/24 [00:37<00:00,  1.56s/it]\n",
      "Loading dataset: 100%|██████████| 4/4 [00:06<00:00,  1.51s/it]\n"
     ]
    }
   ],
   "source": [
    "train_loader, val_loader = None, None\n",
    "train_loader, val_loader = create_dataloaders(\n",
    "    train_img_dir, \n",
    "    train_label_dir, \n",
    "    val_img_dir, \n",
    "    val_label_dir, \n",
    "    non_random_transforms = non_random_transforms, \n",
    "    random_transforms = random_transforms, \n",
    "    batch_size = loader_batch,\n",
    "    num_workers=0)"
   ]
  },
  {
   "cell_type": "markdown",
   "metadata": {},
   "source": [
    "https://monai.io/model-zoo.html"
   ]
  },
  {
   "cell_type": "code",
   "execution_count": 6,
   "metadata": {},
   "outputs": [],
   "source": [
    "from monai.losses import TverskyLoss\n",
    "import torch\n",
    "\n",
    "def loss_fn(loss, class_weights, device):\n",
    "    \"\"\"\n",
    "    Tversky 손실에 클래스별 가중치를 적용하여 최종 스칼라 값을 반환합니다.\n",
    "\n",
    "    Args:\n",
    "        loss: Tversky 손실 텐서 (B, num_classes, H, W, D).\n",
    "        class_weights: 클래스별 가중치 텐서 (num_classes,).\n",
    "        device: 사용할 장치 (예: 'cuda' 또는 'cpu').\n",
    "\n",
    "    Returns:\n",
    "        torch.Tensor: 최종 가중 평균 손실 값 (스칼라).\n",
    "    \"\"\"\n",
    "    # 가중치를 device로 이동\n",
    "    class_weights = class_weights.to(device)\n",
    "\n",
    "    # 클래스 차원에 가중치 적용 (B, num_classes, ...)\n",
    "    class_weights = class_weights.view(1, n_classes, 1, 1, 1)  # [1, num_classes, 1, 1, 1]\n",
    "    weighted_loss = loss * class_weights\n",
    "\n",
    "    # 모든 차원을 평균 내어 스칼라 손실 반환\n",
    "    final_loss = torch.mean(weighted_loss)\n",
    "    return final_loss"
   ]
  },
  {
   "cell_type": "code",
   "execution_count": 7,
   "metadata": {},
   "outputs": [
    {
     "name": "stderr",
     "output_type": "stream",
     "text": [
      "c:\\ProgramData\\anaconda3\\envs\\ship\\Lib\\site-packages\\monai\\utils\\deprecate_utils.py:221: FutureWarning: monai.networks.nets.swin_unetr SwinUNETR.__init__:img_size: Argument `img_size` has been deprecated since version 1.3. It will be removed in version 1.5. The img_size argument is not required anymore and checks on the input size are run during forward().\n",
      "  warn_deprecated(argname, msg, warning_category)\n"
     ]
    }
   ],
   "source": [
    "import torch.optim as optim\n",
    "from tqdm import tqdm\n",
    "import numpy as np\n",
    "import torch\n",
    "from pathlib import Path\n",
    "from monai.metrics import DiceMetric\n",
    "# Model Configuration\n",
    "start_epoch = 0\n",
    "best_val_loss = float('inf')\n",
    "\n",
    "# Training setup\n",
    "num_epochs = 4000\n",
    "lamda = 0.52\n",
    "lr = 0.001\n",
    "feature_size = 24\n",
    "\n",
    "# class_weights = torch.tensor([0.001, 1, 0.3, 1, 1, 1, 1], dtype=torch.float32)  # 클래스별 가중치\n",
    "device = torch.device(\"cuda\" if torch.cuda.is_available() else \"cpu\")\n",
    "\n",
    "model = SwinUNETR(\n",
    "    img_size=(img_depth, img_size, img_size),\n",
    "    in_channels=1,\n",
    "    out_channels=n_classes,\n",
    "    feature_size=feature_size,\n",
    "    use_checkpoint=False,\n",
    ").to(device)\n",
    "# Pretrained weights 불러오기\n",
    "# pretrain_path = \"./swin_unetr_btcv_segmentation/models/model.pt\"\n",
    "# weight = torch.load(pretrain_path, map_location=device)\n",
    "\n",
    "# # 출력 레이어의 키를 제외한 나머지 가중치만 로드\n",
    "# filtered_weights = {k: v for k, v in weight.items() if \"out.conv.conv\" not in k}\n",
    "\n",
    "# # strict=False로 로드하여 불일치하는 부분 무시\n",
    "# model.load_state_dict(filtered_weights, strict=False)\n",
    "# print(\"Filtered weights loaded successfully. Output layer will be trained from scratch.\")\n",
    "\n",
    "# Load pretrained weights\n",
    "# model.load_from(weights=np.load(config_vit.real_pretrained_path, allow_pickle=True))\n",
    "# TverskyLoss 설정\n",
    "criterion = TverskyLoss(\n",
    "    alpha= 1 - lamda,  # FP에 대한 가중치\n",
    "    beta=lamda,       # FN에 대한 가중치\n",
    "    include_background=False,  # 배경 클래스 제외\n",
    "    softmax=True\n",
    ")\n",
    "\n",
    "# 체크포인트 디렉토리 및 파일 설정\n",
    "checkpoint_base_dir = Path(\"./model_checkpoints\")\n",
    "checkpoint_dir = checkpoint_base_dir / f\"SwinUNETR_no_pretrain_f{feature_size}_{img_depth}_{img_size}_lr{lr}_lambda{lamda}_batch{batch_size}\"\n",
    "optimizer = optim.AdamW(model.parameters(), lr=lr, weight_decay=1e-5)\n",
    "\n",
    "# 체크포인트 디렉토리 생성\n",
    "checkpoint_dir.mkdir(parents=True, exist_ok=True)\n",
    "\n",
    "if checkpoint_dir.exists():\n",
    "    best_model_path = checkpoint_dir / 'best_model.pt'\n",
    "    if best_model_path.exists():\n",
    "        print(f\"기존 best model 발견: {best_model_path}\")\n",
    "        try:\n",
    "            checkpoint = torch.load(best_model_path, map_location=device)\n",
    "            # 체크포인트 내부 키 검증\n",
    "            required_keys = ['model_state_dict', 'optimizer_state_dict', 'epoch', 'best_val_loss']\n",
    "            if all(k in checkpoint for k in required_keys):\n",
    "                model.load_state_dict(checkpoint['model_state_dict'])\n",
    "                optimizer.load_state_dict(checkpoint['optimizer_state_dict'])\n",
    "                start_epoch = checkpoint['epoch']\n",
    "                best_val_loss = checkpoint['best_val_loss']\n",
    "                print(\"기존 학습된 가중치를 성공적으로 로드했습니다.\")\n",
    "            else:\n",
    "                raise ValueError(\"체크포인트 파일에 필요한 key가 없습니다.\")\n",
    "        except Exception as e:\n",
    "            print(f\"체크포인트 파일을 로드하는 중 오류 발생: {e}\")\n"
   ]
  },
  {
   "cell_type": "code",
   "execution_count": 8,
   "metadata": {},
   "outputs": [
    {
     "name": "stdout",
     "output_type": "stream",
     "text": [
      "torch.Size([6, 1, 64, 64, 64]) torch.Size([6, 1, 64, 64, 64])\n"
     ]
    }
   ],
   "source": [
    "batch = next(iter(val_loader))\n",
    "images, labels = batch[\"image\"], batch[\"label\"]\n",
    "print(images.shape, labels.shape)"
   ]
  },
  {
   "cell_type": "code",
   "execution_count": 9,
   "metadata": {},
   "outputs": [],
   "source": [
    "torch.backends.cudnn.benchmark = True"
   ]
  },
  {
   "cell_type": "code",
   "execution_count": 10,
   "metadata": {},
   "outputs": [
    {
     "name": "stderr",
     "output_type": "stream",
     "text": [
      "\u001b[34m\u001b[1mwandb\u001b[0m: Using wandb-core as the SDK backend. Please refer to https://wandb.me/wandb-core for more information.\n",
      "\u001b[34m\u001b[1mwandb\u001b[0m: Currently logged in as: \u001b[33mwoow070840\u001b[0m (\u001b[33mwaooang\u001b[0m). Use \u001b[1m`wandb login --relogin`\u001b[0m to force relogin\n"
     ]
    },
    {
     "data": {
      "text/html": [
       "Tracking run with wandb version 0.18.3"
      ],
      "text/plain": [
       "<IPython.core.display.HTML object>"
      ]
     },
     "metadata": {},
     "output_type": "display_data"
    },
    {
     "data": {
      "text/html": [
       "Run data is saved locally in <code>e:\\Workspace\\czll\\wandb\\run-20241219_174412-0c22ut4a</code>"
      ],
      "text/plain": [
       "<IPython.core.display.HTML object>"
      ]
     },
     "metadata": {},
     "output_type": "display_data"
    },
    {
     "data": {
      "text/html": [
       "Syncing run <strong><a href='https://wandb.ai/waooang/czii_SwinUnetR/runs/0c22ut4a' target=\"_blank\">SwinUNETR_lr0.001_bs6_lambda0.52_20241219_174411</a></strong> to <a href='https://wandb.ai/waooang/czii_SwinUnetR' target=\"_blank\">Weights & Biases</a> (<a href='https://wandb.me/run' target=\"_blank\">docs</a>)<br/>"
      ],
      "text/plain": [
       "<IPython.core.display.HTML object>"
      ]
     },
     "metadata": {},
     "output_type": "display_data"
    },
    {
     "data": {
      "text/html": [
       " View project at <a href='https://wandb.ai/waooang/czii_SwinUnetR' target=\"_blank\">https://wandb.ai/waooang/czii_SwinUnetR</a>"
      ],
      "text/plain": [
       "<IPython.core.display.HTML object>"
      ]
     },
     "metadata": {},
     "output_type": "display_data"
    },
    {
     "data": {
      "text/html": [
       " View run at <a href='https://wandb.ai/waooang/czii_SwinUnetR/runs/0c22ut4a' target=\"_blank\">https://wandb.ai/waooang/czii_SwinUnetR/runs/0c22ut4a</a>"
      ],
      "text/plain": [
       "<IPython.core.display.HTML object>"
      ]
     },
     "metadata": {},
     "output_type": "display_data"
    },
    {
     "data": {
      "text/plain": [
       "[]"
      ]
     },
     "execution_count": 10,
     "metadata": {},
     "output_type": "execute_result"
    }
   ],
   "source": [
    "import wandb\n",
    "from datetime import datetime\n",
    "\n",
    "current_time = datetime.now().strftime('%Y%m%d_%H%M%S')\n",
    "run_name = f'SwinUNETR_lr{lr}_bs{batch_size}_lambda{lamda}_{current_time}'\n",
    "\n",
    "# wandb 초기화\n",
    "wandb.init(\n",
    "    project='czii_SwinUnetR',  # 프로젝트 이름 설정\n",
    "    name=run_name,         # 실행(run) 이름 설정\n",
    "    config={\n",
    "        'num_epochs': num_epochs,\n",
    "        'learning_rate': lr,\n",
    "        'batch_size': batch_size,\n",
    "        'lambda': lamda,\n",
    "        # 필요한 하이퍼파라미터 추가\n",
    "    }\n",
    ")\n",
    "# 모델을 wandb에 연결\n",
    "wandb.watch(model, log='all')"
   ]
  },
  {
   "cell_type": "code",
   "execution_count": null,
   "metadata": {},
   "outputs": [
    {
     "name": "stdout",
     "output_type": "stream",
     "text": [
      "Epoch 1/4000\n"
     ]
    },
    {
     "name": "stderr",
     "output_type": "stream",
     "text": [
      "Training: 100%|██████████| 24/24 [00:22<00:00,  1.06it/s, loss=0.974]\n",
      "Validation: 100%|██████████| 4/4 [00:01<00:00,  2.59it/s, loss=0.981]\n"
     ]
    },
    {
     "name": "stdout",
     "output_type": "stream",
     "text": [
      "Validation Dice Score\n",
      "Class 0: 0.3165, Class 1: 0.0035, Class 2: 0.0005, Class 3: 0.2409, \n",
      "Class 4: 0.0098, Class 5: 0.0387, Class 6: 0.0043, \n",
      "Validation F-beta Score\n",
      "Class 0: 0.1979, Class 1: 0.0093, Class 2: 0.0003, Class 3: 0.6133, \n",
      "Class 4: 0.0634, Class 5: 0.0978, Class 6: 0.0327, \n",
      "Overall Mean Dice Score: 0.0878\n",
      "'Overall_mean_f_beta_score': 0.1449\n",
      "\n",
      "Training Loss: 0.9867, Validation Loss: 0.9781\n",
      "========================================================\n",
      "Best model saved with validation loss: 0.9781\n",
      "========================================================\n",
      "Epoch 2/4000\n"
     ]
    },
    {
     "name": "stderr",
     "output_type": "stream",
     "text": [
      "Training: 100%|██████████| 24/24 [00:16<00:00,  1.48it/s, loss=0.955]\n",
      "Validation: 100%|██████████| 4/4 [00:01<00:00,  2.59it/s, loss=0.968]\n"
     ]
    },
    {
     "name": "stdout",
     "output_type": "stream",
     "text": [
      "Validation Dice Score\n",
      "Class 0: 0.4856, Class 1: 0.0127, Class 2: 0.0003, Class 3: 0.3064, \n",
      "Class 4: 0.0014, Class 5: 0.0802, Class 6: 0.0343, \n",
      "Validation F-beta Score\n",
      "Class 0: 0.3343, Class 1: 0.0088, Class 2: 0.0003, Class 3: 0.7076, \n",
      "Class 4: 0.0093, Class 5: 0.1056, Class 6: 0.2166, \n",
      "Overall Mean Dice Score: 0.1316\n",
      "'Overall_mean_f_beta_score': 0.1975\n",
      "\n",
      "Training Loss: 0.9698, Validation Loss: 0.9625\n",
      "========================================================\n",
      "Best model saved with validation loss: 0.9625\n",
      "========================================================\n",
      "Epoch 3/4000\n"
     ]
    },
    {
     "name": "stderr",
     "output_type": "stream",
     "text": [
      "Training: 100%|██████████| 24/24 [00:15<00:00,  1.50it/s, loss=0.924]\n",
      "Validation: 100%|██████████| 4/4 [00:01<00:00,  2.57it/s, loss=0.918]\n"
     ]
    },
    {
     "name": "stdout",
     "output_type": "stream",
     "text": [
      "Validation Dice Score\n",
      "Class 0: 0.4666, Class 1: 0.0207, Class 2: 0.0000, Class 3: 0.5051, \n",
      "Class 4: 0.0005, Class 5: 0.0412, Class 6: 0.0109, \n",
      "Validation F-beta Score\n",
      "Class 0: 0.3175, Class 1: 0.0285, Class 2: 0.2500, Class 3: 0.7399, \n",
      "Class 4: 0.0041, Class 5: 0.0564, Class 6: 0.0771, \n",
      "Overall Mean Dice Score: 0.1493\n",
      "'Overall_mean_f_beta_score': 0.2105\n",
      "\n",
      "Training Loss: 0.9514, Validation Loss: 0.9354\n",
      "========================================================\n",
      "Best model saved with validation loss: 0.9354\n",
      "========================================================\n",
      "Epoch 4/4000\n"
     ]
    },
    {
     "name": "stderr",
     "output_type": "stream",
     "text": [
      "Training: 100%|██████████| 24/24 [00:16<00:00,  1.49it/s, loss=0.928]\n",
      "Validation: 100%|██████████| 4/4 [00:01<00:00,  2.58it/s, loss=0.955]\n"
     ]
    },
    {
     "name": "stdout",
     "output_type": "stream",
     "text": [
      "Validation Dice Score\n",
      "Class 0: 0.4887, Class 1: 0.0285, Class 2: 0.0000, Class 3: 0.4645, \n",
      "Class 4: 0.0010, Class 5: 0.0738, Class 6: 0.0206, \n",
      "Validation F-beta Score\n",
      "Class 0: 0.3371, Class 1: 0.0283, Class 2: 0.2500, Class 3: 0.5959, \n",
      "Class 4: 0.0076, Class 5: 0.1213, Class 6: 0.1310, \n",
      "Overall Mean Dice Score: 0.1539\n",
      "'Overall_mean_f_beta_score': 0.2102\n",
      "\n",
      "Training Loss: 0.9307, Validation Loss: 0.9305\n",
      "========================================================\n",
      "Best model saved with validation loss: 0.9305\n",
      "========================================================\n",
      "Epoch 5/4000\n"
     ]
    },
    {
     "name": "stderr",
     "output_type": "stream",
     "text": [
      "Training: 100%|██████████| 24/24 [00:16<00:00,  1.49it/s, loss=0.929]\n",
      "Validation: 100%|██████████| 4/4 [00:01<00:00,  2.60it/s, loss=0.915]\n"
     ]
    },
    {
     "name": "stdout",
     "output_type": "stream",
     "text": [
      "Validation Dice Score\n",
      "Class 0: 0.5160, Class 1: 0.1061, Class 2: 0.0000, Class 3: 0.4828, \n",
      "Class 4: 0.0012, Class 5: 0.0747, Class 6: 0.0195, \n",
      "Validation F-beta Score\n",
      "Class 0: 0.3618, Class 1: 0.1728, Class 2: 0.7500, Class 3: 0.6341, \n",
      "Class 4: 0.0075, Class 5: 0.1620, Class 6: 0.1258, \n",
      "Overall Mean Dice Score: 0.1715\n",
      "'Overall_mean_f_beta_score': 0.3163\n",
      "\n",
      "Training Loss: 0.9338, Validation Loss: 0.9268\n",
      "========================================================\n",
      "Best model saved with validation loss: 0.9268\n",
      "========================================================\n",
      "Epoch 6/4000\n"
     ]
    },
    {
     "name": "stderr",
     "output_type": "stream",
     "text": [
      "Training: 100%|██████████| 24/24 [00:16<00:00,  1.49it/s, loss=0.909]\n",
      "Validation: 100%|██████████| 4/4 [00:01<00:00,  2.58it/s, loss=0.96] \n"
     ]
    },
    {
     "name": "stdout",
     "output_type": "stream",
     "text": [
      "Validation Dice Score\n",
      "Class 0: 0.5381, Class 1: 0.1113, Class 2: 0.0000, Class 3: 0.4603, \n",
      "Class 4: 0.0016, Class 5: 0.0832, Class 6: 0.0109, \n",
      "Validation F-beta Score\n",
      "Class 0: 0.3826, Class 1: 0.1616, Class 2: 0.0000, Class 3: 0.6372, \n",
      "Class 4: 0.0084, Class 5: 0.1361, Class 6: 0.0763, \n",
      "Overall Mean Dice Score: 0.1722\n",
      "'Overall_mean_f_beta_score': 0.2003\n",
      "\n",
      "Training Loss: 0.9154, Validation Loss: 0.9230\n",
      "========================================================\n",
      "Best model saved with validation loss: 0.9230\n",
      "========================================================\n",
      "Epoch 7/4000\n"
     ]
    },
    {
     "name": "stderr",
     "output_type": "stream",
     "text": [
      "Training: 100%|██████████| 24/24 [00:16<00:00,  1.49it/s, loss=0.924]\n",
      "Validation: 100%|██████████| 4/4 [00:01<00:00,  2.59it/s, loss=0.911]\n"
     ]
    },
    {
     "name": "stdout",
     "output_type": "stream",
     "text": [
      "Validation Dice Score\n",
      "Class 0: 0.5496, Class 1: 0.1440, Class 2: 0.0000, Class 3: 0.5981, \n",
      "Class 4: 0.0035, Class 5: 0.0648, Class 6: 0.0094, \n",
      "Validation F-beta Score\n",
      "Class 0: 0.3939, Class 1: 0.1961, Class 2: 0.0000, Class 3: 0.5921, \n",
      "Class 4: 0.0173, Class 5: 0.0891, Class 6: 0.0675, \n",
      "Overall Mean Dice Score: 0.1956\n",
      "'Overall_mean_f_beta_score': 0.1937\n",
      "\n",
      "Training Loss: 0.9164, Validation Loss: 0.8951\n",
      "========================================================\n",
      "Best model saved with validation loss: 0.8951\n",
      "========================================================\n",
      "Epoch 8/4000\n"
     ]
    },
    {
     "name": "stderr",
     "output_type": "stream",
     "text": [
      "Training: 100%|██████████| 24/24 [00:16<00:00,  1.49it/s, loss=0.935]\n",
      "Validation: 100%|██████████| 4/4 [00:01<00:00,  2.61it/s, loss=0.882]\n"
     ]
    },
    {
     "name": "stdout",
     "output_type": "stream",
     "text": [
      "Validation Dice Score\n",
      "Class 0: 0.5236, Class 1: 0.1136, Class 2: 0.0000, Class 3: 0.5886, \n",
      "Class 4: 0.0006, Class 5: 0.0533, Class 6: 0.0333, \n",
      "Validation F-beta Score\n",
      "Class 0: 0.3690, Class 1: 0.3281, Class 2: 0.0000, Class 3: 0.6532, \n",
      "Class 4: 0.0040, Class 5: 0.1655, Class 6: 0.1529, \n",
      "Overall Mean Dice Score: 0.1876\n",
      "'Overall_mean_f_beta_score': 0.2390\n",
      "\n",
      "Training Loss: 0.9091, Validation Loss: 0.8919\n",
      "========================================================\n",
      "Best model saved with validation loss: 0.8919\n",
      "========================================================\n",
      "Epoch 9/4000\n"
     ]
    },
    {
     "name": "stderr",
     "output_type": "stream",
     "text": [
      "Training: 100%|██████████| 24/24 [00:16<00:00,  1.48it/s, loss=0.919]\n",
      "Validation: 100%|██████████| 4/4 [00:01<00:00,  2.57it/s, loss=0.891]\n"
     ]
    },
    {
     "name": "stdout",
     "output_type": "stream",
     "text": [
      "Validation Dice Score\n",
      "Class 0: 0.5910, Class 1: 0.3264, Class 2: 0.0000, Class 3: 0.4899, \n",
      "Class 4: 0.0038, Class 5: 0.0823, Class 6: 0.0197, \n",
      "Validation F-beta Score\n",
      "Class 0: 0.4358, Class 1: 0.4462, Class 2: 0.2500, Class 3: 0.5408, \n",
      "Class 4: 0.0175, Class 5: 0.1711, Class 6: 0.1175, \n",
      "Overall Mean Dice Score: 0.2162\n",
      "'Overall_mean_f_beta_score': 0.2827\n",
      "\n",
      "Training Loss: 0.9050, Validation Loss: 0.9057\n",
      "Epoch 10/4000\n"
     ]
    },
    {
     "name": "stderr",
     "output_type": "stream",
     "text": [
      "Training: 100%|██████████| 24/24 [00:16<00:00,  1.50it/s, loss=0.906]\n",
      "Validation: 100%|██████████| 4/4 [00:01<00:00,  2.60it/s, loss=0.892]\n"
     ]
    },
    {
     "name": "stdout",
     "output_type": "stream",
     "text": [
      "Validation Dice Score\n",
      "Class 0: 0.6201, Class 1: 0.2526, Class 2: 0.0000, Class 3: 0.5120, \n",
      "Class 4: 0.0006, Class 5: 0.0790, Class 6: 0.1171, \n",
      "Validation F-beta Score\n",
      "Class 0: 0.4662, Class 1: 0.5236, Class 2: 0.0000, Class 3: 0.5075, \n",
      "Class 4: 0.0045, Class 5: 0.1577, Class 6: 0.4191, \n",
      "Overall Mean Dice Score: 0.2259\n",
      "'Overall_mean_f_beta_score': 0.2969\n",
      "\n",
      "Training Loss: 0.8991, Validation Loss: 0.8822\n",
      "========================================================\n",
      "Best model saved with validation loss: 0.8822\n",
      "========================================================\n",
      "Epoch 11/4000\n"
     ]
    },
    {
     "name": "stderr",
     "output_type": "stream",
     "text": [
      "Training: 100%|██████████| 24/24 [00:16<00:00,  1.49it/s, loss=0.847]\n",
      "Validation: 100%|██████████| 4/4 [00:01<00:00,  2.58it/s, loss=0.88] \n"
     ]
    },
    {
     "name": "stdout",
     "output_type": "stream",
     "text": [
      "Validation Dice Score\n",
      "Class 0: 0.6660, Class 1: 0.4178, Class 2: 0.0000, Class 3: 0.6438, \n",
      "Class 4: 0.0013, Class 5: 0.0826, Class 6: 0.1122, \n",
      "Validation F-beta Score\n",
      "Class 0: 0.5167, Class 1: 0.4834, Class 2: 0.2500, Class 3: 0.6994, \n",
      "Class 4: 0.0089, Class 5: 0.1280, Class 6: 0.2604, \n",
      "Overall Mean Dice Score: 0.2748\n",
      "'Overall_mean_f_beta_score': 0.3353\n",
      "\n",
      "Training Loss: 0.8811, Validation Loss: 0.8666\n",
      "========================================================\n",
      "Best model saved with validation loss: 0.8666\n",
      "========================================================\n",
      "Epoch 12/4000\n"
     ]
    },
    {
     "name": "stderr",
     "output_type": "stream",
     "text": [
      "Training: 100%|██████████| 24/24 [00:16<00:00,  1.49it/s, loss=0.875]\n",
      "Validation: 100%|██████████| 4/4 [00:01<00:00,  2.60it/s, loss=0.858]\n"
     ]
    },
    {
     "name": "stdout",
     "output_type": "stream",
     "text": [
      "Validation Dice Score\n",
      "Class 0: 0.6802, Class 1: 0.3456, Class 2: 0.0000, Class 3: 0.5852, \n",
      "Class 4: 0.0008, Class 5: 0.0661, Class 6: 0.1666, \n",
      "Validation F-beta Score\n",
      "Class 0: 0.5322, Class 1: 0.7460, Class 2: 0.5000, Class 3: 0.6651, \n",
      "Class 4: 0.0061, Class 5: 0.1287, Class 6: 0.3612, \n",
      "Overall Mean Dice Score: 0.2635\n",
      "'Overall_mean_f_beta_score': 0.4199\n",
      "\n",
      "Training Loss: 0.8727, Validation Loss: 0.8602\n",
      "========================================================\n",
      "Best model saved with validation loss: 0.8602\n",
      "========================================================\n",
      "Epoch 13/4000\n"
     ]
    },
    {
     "name": "stderr",
     "output_type": "stream",
     "text": [
      "Training: 100%|██████████| 24/24 [00:16<00:00,  1.48it/s, loss=0.813]\n",
      "Validation: 100%|██████████| 4/4 [00:01<00:00,  2.61it/s, loss=0.889]\n"
     ]
    },
    {
     "name": "stdout",
     "output_type": "stream",
     "text": [
      "Validation Dice Score\n",
      "Class 0: 0.6900, Class 1: 0.5021, Class 2: 0.0000, Class 3: 0.5016, \n",
      "Class 4: 0.0007, Class 5: 0.1682, Class 6: 0.1182, \n",
      "Validation F-beta Score\n",
      "Class 0: 0.5441, Class 1: 0.5278, Class 2: 0.2500, Class 3: 0.5962, \n",
      "Class 4: 0.0056, Class 5: 0.2215, Class 6: 0.3063, \n",
      "Overall Mean Dice Score: 0.2830\n",
      "'Overall_mean_f_beta_score': 0.3502\n",
      "\n",
      "Training Loss: 0.8648, Validation Loss: 0.8665\n",
      "Epoch 14/4000\n"
     ]
    },
    {
     "name": "stderr",
     "output_type": "stream",
     "text": [
      "Training: 100%|██████████| 24/24 [00:16<00:00,  1.49it/s, loss=0.841]\n",
      "Validation: 100%|██████████| 4/4 [00:01<00:00,  2.57it/s, loss=0.931]\n"
     ]
    },
    {
     "name": "stdout",
     "output_type": "stream",
     "text": [
      "Validation Dice Score\n",
      "Class 0: 0.6691, Class 1: 0.5747, Class 2: 0.0000, Class 3: 0.4558, \n",
      "Class 4: 0.0027, Class 5: 0.1568, Class 6: 0.1872, \n",
      "Validation F-beta Score\n",
      "Class 0: 0.5211, Class 1: 0.5838, Class 2: 0.0000, Class 3: 0.4988, \n",
      "Class 4: 0.0165, Class 5: 0.2759, Class 6: 0.4208, \n",
      "Overall Mean Dice Score: 0.2923\n",
      "'Overall_mean_f_beta_score': 0.3310\n",
      "\n",
      "Training Loss: 0.8614, Validation Loss: 0.8575\n",
      "========================================================\n",
      "Best model saved with validation loss: 0.8575\n",
      "========================================================\n",
      "Epoch 15/4000\n"
     ]
    },
    {
     "name": "stderr",
     "output_type": "stream",
     "text": [
      "Training: 100%|██████████| 24/24 [00:17<00:00,  1.36it/s, loss=0.832]\n",
      "Validation: 100%|██████████| 4/4 [00:01<00:00,  2.60it/s, loss=0.817]\n"
     ]
    },
    {
     "name": "stdout",
     "output_type": "stream",
     "text": [
      "Validation Dice Score\n",
      "Class 0: 0.6847, Class 1: 0.5978, Class 2: 0.0000, Class 3: 0.4847, \n",
      "Class 4: 0.0016, Class 5: 0.1645, Class 6: 0.2829, \n",
      "Validation F-beta Score\n",
      "Class 0: 0.5386, Class 1: 0.7347, Class 2: 0.0000, Class 3: 0.5613, \n",
      "Class 4: 0.0097, Class 5: 0.3380, Class 6: 0.4976, \n",
      "Overall Mean Dice Score: 0.3166\n",
      "'Overall_mean_f_beta_score': 0.3828\n",
      "\n",
      "Training Loss: 0.8736, Validation Loss: 0.8447\n",
      "========================================================\n",
      "Best model saved with validation loss: 0.8447\n",
      "========================================================\n",
      "Epoch 16/4000\n"
     ]
    },
    {
     "name": "stderr",
     "output_type": "stream",
     "text": [
      "Training: 100%|██████████| 24/24 [00:15<00:00,  1.52it/s, loss=0.843]\n",
      "Validation: 100%|██████████| 4/4 [00:01<00:00,  2.56it/s, loss=0.868]\n"
     ]
    },
    {
     "name": "stdout",
     "output_type": "stream",
     "text": [
      "Validation Dice Score\n",
      "Class 0: 0.6797, Class 1: 0.6806, Class 2: 0.0000, Class 3: 0.5438, \n",
      "Class 4: 0.0016, Class 5: 0.0764, Class 6: 0.1011, \n",
      "Validation F-beta Score\n",
      "Class 0: 0.5318, Class 1: 0.7629, Class 2: 0.0000, Class 3: 0.5218, \n",
      "Class 4: 0.0108, Class 5: 0.1627, Class 6: 0.2092, \n",
      "Overall Mean Dice Score: 0.2976\n",
      "'Overall_mean_f_beta_score': 0.3142\n",
      "\n",
      "Training Loss: 0.8652, Validation Loss: 0.8573\n",
      "Epoch 17/4000\n"
     ]
    },
    {
     "name": "stderr",
     "output_type": "stream",
     "text": [
      "Training: 100%|██████████| 24/24 [00:15<00:00,  1.53it/s, loss=0.888]\n",
      "Validation: 100%|██████████| 4/4 [00:01<00:00,  2.62it/s, loss=0.871]\n"
     ]
    },
    {
     "name": "stdout",
     "output_type": "stream",
     "text": [
      "Validation Dice Score\n",
      "Class 0: 0.6800, Class 1: 0.6177, Class 2: 0.0000, Class 3: 0.5322, \n",
      "Class 4: 0.0026, Class 5: 0.1428, Class 6: 0.2333, \n",
      "Validation F-beta Score\n",
      "Class 0: 0.5341, Class 1: 0.7283, Class 2: 0.0000, Class 3: 0.6399, \n",
      "Class 4: 0.0165, Class 5: 0.1843, Class 6: 0.3117, \n",
      "Overall Mean Dice Score: 0.3155\n",
      "'Overall_mean_f_beta_score': 0.3450\n",
      "\n",
      "Training Loss: 0.8586, Validation Loss: 0.8438\n",
      "========================================================\n",
      "Best model saved with validation loss: 0.8438\n",
      "========================================================\n",
      "Epoch 18/4000\n"
     ]
    },
    {
     "name": "stderr",
     "output_type": "stream",
     "text": [
      "Training: 100%|██████████| 24/24 [00:15<00:00,  1.52it/s, loss=0.853]\n",
      "Validation: 100%|██████████| 4/4 [00:01<00:00,  2.70it/s, loss=0.842]\n"
     ]
    },
    {
     "name": "stdout",
     "output_type": "stream",
     "text": [
      "Validation Dice Score\n",
      "Class 0: 0.6744, Class 1: 0.5286, Class 2: 0.0158, Class 3: 0.4586, \n",
      "Class 4: 0.0014, Class 5: 0.1679, Class 6: 0.2093, \n",
      "Validation F-beta Score\n",
      "Class 0: 0.5278, Class 1: 0.7610, Class 2: 0.0129, Class 3: 0.4781, \n",
      "Class 4: 0.0090, Class 5: 0.3403, Class 6: 0.4337, \n",
      "Overall Mean Dice Score: 0.2937\n",
      "'Overall_mean_f_beta_score': 0.3661\n",
      "\n",
      "Training Loss: 0.8512, Validation Loss: 0.8465\n",
      "Epoch 19/4000\n"
     ]
    },
    {
     "name": "stderr",
     "output_type": "stream",
     "text": [
      "Training: 100%|██████████| 24/24 [00:15<00:00,  1.52it/s, loss=0.869]\n",
      "Validation: 100%|██████████| 4/4 [00:01<00:00,  2.60it/s, loss=0.849]\n"
     ]
    },
    {
     "name": "stdout",
     "output_type": "stream",
     "text": [
      "Validation Dice Score\n",
      "Class 0: 0.6741, Class 1: 0.6505, Class 2: 0.0046, Class 3: 0.5193, \n",
      "Class 4: 0.0014, Class 5: 0.0965, Class 6: 0.3191, \n",
      "Validation F-beta Score\n",
      "Class 0: 0.5286, Class 1: 0.7756, Class 2: 0.0074, Class 3: 0.6140, \n",
      "Class 4: 0.0090, Class 5: 0.1754, Class 6: 0.4268, \n",
      "Overall Mean Dice Score: 0.3237\n",
      "'Overall_mean_f_beta_score': 0.3624\n",
      "\n",
      "Training Loss: 0.8619, Validation Loss: 0.8572\n",
      "Epoch 20/4000\n"
     ]
    },
    {
     "name": "stderr",
     "output_type": "stream",
     "text": [
      "Training: 100%|██████████| 24/24 [00:15<00:00,  1.53it/s, loss=0.836]\n",
      "Validation: 100%|██████████| 4/4 [00:01<00:00,  2.62it/s, loss=0.814]\n"
     ]
    },
    {
     "name": "stdout",
     "output_type": "stream",
     "text": [
      "Validation Dice Score\n",
      "Class 0: 0.6778, Class 1: 0.5711, Class 2: 0.0244, Class 3: 0.5564, \n",
      "Class 4: 0.0030, Class 5: 0.1472, Class 6: 0.2979, \n",
      "Validation F-beta Score\n",
      "Class 0: 0.5345, Class 1: 0.7288, Class 2: 0.0518, Class 3: 0.5926, \n",
      "Class 4: 0.0158, Class 5: 0.1838, Class 6: 0.4195, \n",
      "Overall Mean Dice Score: 0.3254\n",
      "'Overall_mean_f_beta_score': 0.3610\n",
      "\n",
      "Training Loss: 0.8472, Validation Loss: 0.8580\n",
      "Epoch 21/4000\n"
     ]
    },
    {
     "name": "stderr",
     "output_type": "stream",
     "text": [
      "Training: 100%|██████████| 24/24 [00:15<00:00,  1.52it/s, loss=0.883]\n",
      "Validation: 100%|██████████| 4/4 [00:01<00:00,  2.60it/s, loss=0.83] \n"
     ]
    },
    {
     "name": "stdout",
     "output_type": "stream",
     "text": [
      "Validation Dice Score\n",
      "Class 0: 0.6733, Class 1: 0.6045, Class 2: 0.0189, Class 3: 0.5561, \n",
      "Class 4: 0.0014, Class 5: 0.1529, Class 6: 0.2502, \n",
      "Validation F-beta Score\n",
      "Class 0: 0.5260, Class 1: 0.8393, Class 2: 0.0305, Class 3: 0.6105, \n",
      "Class 4: 0.0101, Class 5: 0.3561, Class 6: 0.5161, \n",
      "Overall Mean Dice Score: 0.3225\n",
      "'Overall_mean_f_beta_score': 0.4127\n",
      "\n",
      "Training Loss: 0.8450, Validation Loss: 0.8373\n",
      "========================================================\n",
      "Best model saved with validation loss: 0.8373\n",
      "========================================================\n",
      "Epoch 22/4000\n"
     ]
    },
    {
     "name": "stderr",
     "output_type": "stream",
     "text": [
      "Training: 100%|██████████| 24/24 [00:15<00:00,  1.52it/s, loss=0.834]\n",
      "Validation: 100%|██████████| 4/4 [00:01<00:00,  2.62it/s, loss=0.809]\n"
     ]
    },
    {
     "name": "stdout",
     "output_type": "stream",
     "text": [
      "Validation Dice Score\n",
      "Class 0: 0.6797, Class 1: 0.6213, Class 2: 0.0030, Class 3: 0.5505, \n",
      "Class 4: 0.0004, Class 5: 0.0650, Class 6: 0.2808, \n",
      "Validation F-beta Score\n",
      "Class 0: 0.5322, Class 1: 0.7807, Class 2: 0.0087, Class 3: 0.7377, \n",
      "Class 4: 0.0027, Class 5: 0.1799, Class 6: 0.4479, \n",
      "Overall Mean Dice Score: 0.3144\n",
      "'Overall_mean_f_beta_score': 0.3842\n",
      "\n",
      "Training Loss: 0.8413, Validation Loss: 0.8449\n",
      "Epoch 23/4000\n"
     ]
    },
    {
     "name": "stderr",
     "output_type": "stream",
     "text": [
      "Training: 100%|██████████| 24/24 [00:15<00:00,  1.52it/s, loss=0.829]\n",
      "Validation: 100%|██████████| 4/4 [00:01<00:00,  2.69it/s, loss=0.806]\n"
     ]
    },
    {
     "name": "stdout",
     "output_type": "stream",
     "text": [
      "Validation Dice Score\n",
      "Class 0: 0.6807, Class 1: 0.6827, Class 2: 0.0071, Class 3: 0.5914, \n",
      "Class 4: 0.0008, Class 5: 0.1218, Class 6: 0.3715, \n",
      "Validation F-beta Score\n",
      "Class 0: 0.5327, Class 1: 0.7840, Class 2: 0.0233, Class 3: 0.6954, \n",
      "Class 4: 0.0060, Class 5: 0.2879, Class 6: 0.6199, \n",
      "Overall Mean Dice Score: 0.3509\n",
      "'Overall_mean_f_beta_score': 0.4213\n",
      "\n",
      "Training Loss: 0.8449, Validation Loss: 0.8215\n",
      "========================================================\n",
      "Best model saved with validation loss: 0.8215\n",
      "========================================================\n",
      "Epoch 24/4000\n"
     ]
    },
    {
     "name": "stderr",
     "output_type": "stream",
     "text": [
      "Training: 100%|██████████| 24/24 [00:15<00:00,  1.51it/s, loss=0.843]\n",
      "Validation: 100%|██████████| 4/4 [00:01<00:00,  2.63it/s, loss=0.824]\n"
     ]
    },
    {
     "name": "stdout",
     "output_type": "stream",
     "text": [
      "Validation Dice Score\n",
      "Class 0: 0.6753, Class 1: 0.4648, Class 2: 0.0528, Class 3: 0.5551, \n",
      "Class 4: 0.0005, Class 5: 0.1022, Class 6: 0.1536, \n",
      "Validation F-beta Score\n",
      "Class 0: 0.5276, Class 1: 0.5786, Class 2: 0.0896, Class 3: 0.6477, \n",
      "Class 4: 0.0038, Class 5: 0.1843, Class 6: 0.2806, \n",
      "Overall Mean Dice Score: 0.2863\n",
      "'Overall_mean_f_beta_score': 0.3303\n",
      "\n",
      "Training Loss: 0.8402, Validation Loss: 0.8449\n",
      "Epoch 25/4000\n"
     ]
    },
    {
     "name": "stderr",
     "output_type": "stream",
     "text": [
      "Training: 100%|██████████| 24/24 [00:15<00:00,  1.51it/s, loss=0.821]\n",
      "Validation: 100%|██████████| 4/4 [00:01<00:00,  2.64it/s, loss=0.807]\n"
     ]
    },
    {
     "name": "stdout",
     "output_type": "stream",
     "text": [
      "Validation Dice Score\n",
      "Class 0: 0.6791, Class 1: 0.5564, Class 2: 0.0698, Class 3: 0.6414, \n",
      "Class 4: 0.0021, Class 5: 0.2412, Class 6: 0.0701, \n",
      "Validation F-beta Score\n",
      "Class 0: 0.5339, Class 1: 0.6442, Class 2: 0.1374, Class 3: 0.6982, \n",
      "Class 4: 0.0132, Class 5: 0.4006, Class 6: 0.1748, \n",
      "Overall Mean Dice Score: 0.3229\n",
      "'Overall_mean_f_beta_score': 0.3718\n",
      "\n",
      "Training Loss: 0.8345, Validation Loss: 0.8322\n",
      "Epoch 26/4000\n"
     ]
    },
    {
     "name": "stderr",
     "output_type": "stream",
     "text": [
      "Training: 100%|██████████| 24/24 [00:15<00:00,  1.52it/s, loss=0.807]\n",
      "Validation: 100%|██████████| 4/4 [00:01<00:00,  2.70it/s, loss=0.836]\n"
     ]
    },
    {
     "name": "stdout",
     "output_type": "stream",
     "text": [
      "Validation Dice Score\n",
      "Class 0: 0.6835, Class 1: 0.3399, Class 2: 0.0811, Class 3: 0.5995, \n",
      "Class 4: 0.0007, Class 5: 0.1142, Class 6: 0.1982, \n",
      "Validation F-beta Score\n",
      "Class 0: 0.5368, Class 1: 0.4289, Class 2: 0.2567, Class 3: 0.6273, \n",
      "Class 4: 0.0055, Class 5: 0.2565, Class 6: 0.4237, \n",
      "Overall Mean Dice Score: 0.2881\n",
      "'Overall_mean_f_beta_score': 0.3622\n",
      "\n",
      "Training Loss: 0.8408, Validation Loss: 0.8541\n",
      "Epoch 27/4000\n"
     ]
    },
    {
     "name": "stderr",
     "output_type": "stream",
     "text": [
      "Training: 100%|██████████| 24/24 [00:15<00:00,  1.52it/s, loss=0.805]\n",
      "Validation: 100%|██████████| 4/4 [00:01<00:00,  2.67it/s, loss=0.857]\n"
     ]
    },
    {
     "name": "stdout",
     "output_type": "stream",
     "text": [
      "Validation Dice Score\n",
      "Class 0: 0.6798, Class 1: 0.7161, Class 2: 0.0362, Class 3: 0.6079, \n",
      "Class 4: 0.0011, Class 5: 0.2393, Class 6: 0.3189, \n",
      "Validation F-beta Score\n",
      "Class 0: 0.5327, Class 1: 0.8490, Class 2: 0.0993, Class 3: 0.5859, \n",
      "Class 4: 0.0077, Class 5: 0.4355, Class 6: 0.5888, \n",
      "Overall Mean Dice Score: 0.3713\n",
      "'Overall_mean_f_beta_score': 0.4427\n",
      "\n",
      "Training Loss: 0.8329, Validation Loss: 0.8034\n",
      "========================================================\n",
      "Best model saved with validation loss: 0.8034\n",
      "========================================================\n",
      "Epoch 28/4000\n"
     ]
    },
    {
     "name": "stderr",
     "output_type": "stream",
     "text": [
      "Training: 100%|██████████| 24/24 [00:15<00:00,  1.52it/s, loss=0.767]\n",
      "Validation: 100%|██████████| 4/4 [00:01<00:00,  2.58it/s, loss=0.783]\n"
     ]
    },
    {
     "name": "stdout",
     "output_type": "stream",
     "text": [
      "Validation Dice Score\n",
      "Class 0: 0.6844, Class 1: 0.6701, Class 2: 0.0167, Class 3: 0.6067, \n",
      "Class 4: 0.0011, Class 5: 0.1728, Class 6: 0.4439, \n",
      "Validation F-beta Score\n",
      "Class 0: 0.5376, Class 1: 0.7381, Class 2: 0.0572, Class 3: 0.7028, \n",
      "Class 4: 0.0075, Class 5: 0.2504, Class 6: 0.6530, \n",
      "Overall Mean Dice Score: 0.3708\n",
      "'Overall_mean_f_beta_score': 0.4210\n",
      "\n",
      "Training Loss: 0.8386, Validation Loss: 0.8065\n",
      "Epoch 29/4000\n"
     ]
    },
    {
     "name": "stderr",
     "output_type": "stream",
     "text": [
      "Training: 100%|██████████| 24/24 [00:15<00:00,  1.50it/s, loss=0.853]\n",
      "Validation: 100%|██████████| 4/4 [00:01<00:00,  2.63it/s, loss=0.887]\n"
     ]
    },
    {
     "name": "stdout",
     "output_type": "stream",
     "text": [
      "Validation Dice Score\n",
      "Class 0: 0.6889, Class 1: 0.6039, Class 2: 0.0964, Class 3: 0.5901, \n",
      "Class 4: 0.0004, Class 5: 0.1429, Class 6: 0.1866, \n",
      "Validation F-beta Score\n",
      "Class 0: 0.5417, Class 1: 0.7549, Class 2: 0.2900, Class 3: 0.6023, \n",
      "Class 4: 0.0026, Class 5: 0.3479, Class 6: 0.3537, \n",
      "Overall Mean Dice Score: 0.3299\n",
      "'Overall_mean_f_beta_score': 0.4133\n",
      "\n",
      "Training Loss: 0.8357, Validation Loss: 0.8381\n",
      "Epoch 30/4000\n"
     ]
    },
    {
     "name": "stderr",
     "output_type": "stream",
     "text": [
      "Training: 100%|██████████| 24/24 [00:15<00:00,  1.52it/s, loss=0.813]\n",
      "Validation: 100%|██████████| 4/4 [00:01<00:00,  2.60it/s, loss=0.848]\n"
     ]
    },
    {
     "name": "stdout",
     "output_type": "stream",
     "text": [
      "Validation Dice Score\n",
      "Class 0: 0.6695, Class 1: 0.5775, Class 2: 0.0547, Class 3: 0.5397, \n",
      "Class 4: 0.0028, Class 5: 0.1787, Class 6: 0.2181, \n",
      "Validation F-beta Score\n",
      "Class 0: 0.5226, Class 1: 0.7430, Class 2: 0.1642, Class 3: 0.6037, \n",
      "Class 4: 0.0156, Class 5: 0.2992, Class 6: 0.4126, \n",
      "Overall Mean Dice Score: 0.3201\n",
      "'Overall_mean_f_beta_score': 0.3944\n",
      "\n",
      "Training Loss: 0.8300, Validation Loss: 0.8421\n",
      "Epoch 31/4000\n"
     ]
    },
    {
     "name": "stderr",
     "output_type": "stream",
     "text": [
      "Training: 100%|██████████| 24/24 [00:15<00:00,  1.54it/s, loss=0.835]\n",
      "Validation: 100%|██████████| 4/4 [00:01<00:00,  2.66it/s, loss=0.828]\n"
     ]
    },
    {
     "name": "stdout",
     "output_type": "stream",
     "text": [
      "Validation Dice Score\n",
      "Class 0: 0.6792, Class 1: 0.6950, Class 2: 0.0117, Class 3: 0.4226, \n",
      "Class 4: 0.0008, Class 5: 0.1634, Class 6: 0.5574, \n",
      "Validation F-beta Score\n",
      "Class 0: 0.5323, Class 1: 0.7264, Class 2: 0.0130, Class 3: 0.5866, \n",
      "Class 4: 0.0060, Class 5: 0.1979, Class 6: 0.6837, \n",
      "Overall Mean Dice Score: 0.3614\n",
      "'Overall_mean_f_beta_score': 0.3923\n",
      "\n",
      "Training Loss: 0.8361, Validation Loss: 0.8300\n",
      "Epoch 32/4000\n"
     ]
    },
    {
     "name": "stderr",
     "output_type": "stream",
     "text": [
      "Training: 100%|██████████| 24/24 [00:15<00:00,  1.51it/s, loss=0.876]\n",
      "Validation: 100%|██████████| 4/4 [00:01<00:00,  2.64it/s, loss=0.851]\n"
     ]
    },
    {
     "name": "stdout",
     "output_type": "stream",
     "text": [
      "Validation Dice Score\n",
      "Class 0: 0.6786, Class 1: 0.4780, Class 2: 0.0188, Class 3: 0.6212, \n",
      "Class 4: 0.0048, Class 5: 0.1427, Class 6: 0.0820, \n",
      "Validation F-beta Score\n",
      "Class 0: 0.5338, Class 1: 0.8188, Class 2: 0.0492, Class 3: 0.6272, \n",
      "Class 4: 0.0226, Class 5: 0.2625, Class 6: 0.0949, \n",
      "Overall Mean Dice Score: 0.2894\n",
      "'Overall_mean_f_beta_score': 0.3441\n",
      "\n",
      "Training Loss: 0.8248, Validation Loss: 0.8439\n",
      "Epoch 33/4000\n"
     ]
    },
    {
     "name": "stderr",
     "output_type": "stream",
     "text": [
      "Training: 100%|██████████| 24/24 [00:15<00:00,  1.52it/s, loss=0.82] \n",
      "Validation: 100%|██████████| 4/4 [00:01<00:00,  2.64it/s, loss=0.813]\n"
     ]
    },
    {
     "name": "stdout",
     "output_type": "stream",
     "text": [
      "Validation Dice Score\n",
      "Class 0: 0.6781, Class 1: 0.6638, Class 2: 0.0364, Class 3: 0.6715, \n",
      "Class 4: 0.0024, Class 5: 0.2184, Class 6: 0.1964, \n",
      "Validation F-beta Score\n",
      "Class 0: 0.5315, Class 1: 0.7125, Class 2: 0.0837, Class 3: 0.7422, \n",
      "Class 4: 0.0151, Class 5: 0.3394, Class 6: 0.3117, \n",
      "Overall Mean Dice Score: 0.3524\n",
      "'Overall_mean_f_beta_score': 0.3909\n",
      "\n",
      "Training Loss: 0.8244, Validation Loss: 0.8228\n",
      "Epoch 34/4000\n"
     ]
    },
    {
     "name": "stderr",
     "output_type": "stream",
     "text": [
      "Training: 100%|██████████| 24/24 [00:15<00:00,  1.53it/s, loss=0.845]\n",
      "Validation: 100%|██████████| 4/4 [00:01<00:00,  2.62it/s, loss=0.844]\n"
     ]
    },
    {
     "name": "stdout",
     "output_type": "stream",
     "text": [
      "Validation Dice Score\n",
      "Class 0: 0.6764, Class 1: 0.5642, Class 2: 0.0266, Class 3: 0.5547, \n",
      "Class 4: 0.0018, Class 5: 0.2138, Class 6: 0.4899, \n",
      "Validation F-beta Score\n",
      "Class 0: 0.5303, Class 1: 0.8692, Class 2: 0.0889, Class 3: 0.6807, \n",
      "Class 4: 0.0117, Class 5: 0.3379, Class 6: 0.5581, \n",
      "Overall Mean Dice Score: 0.3610\n",
      "'Overall_mean_f_beta_score': 0.4395\n",
      "\n",
      "Training Loss: 0.8222, Validation Loss: 0.8178\n",
      "Epoch 35/4000\n"
     ]
    },
    {
     "name": "stderr",
     "output_type": "stream",
     "text": [
      "Training: 100%|██████████| 24/24 [00:15<00:00,  1.52it/s, loss=0.825]\n",
      "Validation: 100%|██████████| 4/4 [00:01<00:00,  2.66it/s, loss=0.847]\n"
     ]
    },
    {
     "name": "stdout",
     "output_type": "stream",
     "text": [
      "Validation Dice Score\n",
      "Class 0: 0.6862, Class 1: 0.5869, Class 2: 0.0214, Class 3: 0.5899, \n",
      "Class 4: 0.0009, Class 5: 0.1438, Class 6: 0.5139, \n",
      "Validation F-beta Score\n",
      "Class 0: 0.5394, Class 1: 0.8687, Class 2: 0.0686, Class 3: 0.6700, \n",
      "Class 4: 0.0073, Class 5: 0.3203, Class 6: 0.5503, \n",
      "Overall Mean Dice Score: 0.3633\n",
      "'Overall_mean_f_beta_score': 0.4321\n",
      "\n",
      "Training Loss: 0.8328, Validation Loss: 0.8207\n",
      "Epoch 36/4000\n"
     ]
    },
    {
     "name": "stderr",
     "output_type": "stream",
     "text": [
      "Training: 100%|██████████| 24/24 [00:15<00:00,  1.51it/s, loss=0.857]\n",
      "Validation: 100%|██████████| 4/4 [00:01<00:00,  2.66it/s, loss=0.833]\n"
     ]
    },
    {
     "name": "stdout",
     "output_type": "stream",
     "text": [
      "Validation Dice Score\n",
      "Class 0: 0.6840, Class 1: 0.6630, Class 2: 0.0738, Class 3: 0.6190, \n",
      "Class 4: 0.0007, Class 5: 0.2242, Class 6: 0.3197, \n",
      "Validation F-beta Score\n",
      "Class 0: 0.5370, Class 1: 0.8366, Class 2: 0.2323, Class 3: 0.7301, \n",
      "Class 4: 0.0052, Class 5: 0.3689, Class 6: 0.5213, \n",
      "Overall Mean Dice Score: 0.3692\n",
      "'Overall_mean_f_beta_score': 0.4616\n",
      "\n",
      "Training Loss: 0.8325, Validation Loss: 0.7970\n",
      "========================================================\n",
      "Best model saved with validation loss: 0.7970\n",
      "========================================================\n",
      "Epoch 37/4000\n"
     ]
    },
    {
     "name": "stderr",
     "output_type": "stream",
     "text": [
      "Training: 100%|██████████| 24/24 [00:15<00:00,  1.52it/s, loss=0.843]\n",
      "Validation: 100%|██████████| 4/4 [00:01<00:00,  2.63it/s, loss=0.85] \n"
     ]
    },
    {
     "name": "stdout",
     "output_type": "stream",
     "text": [
      "Validation Dice Score\n",
      "Class 0: 0.6848, Class 1: 0.4826, Class 2: 0.0865, Class 3: 0.5087, \n",
      "Class 4: 0.0008, Class 5: 0.1415, Class 6: 0.1747, \n",
      "Validation F-beta Score\n",
      "Class 0: 0.5398, Class 1: 0.7368, Class 2: 0.1604, Class 3: 0.6063, \n",
      "Class 4: 0.0059, Class 5: 0.2386, Class 6: 0.2244, \n",
      "Overall Mean Dice Score: 0.2971\n",
      "'Overall_mean_f_beta_score': 0.3589\n",
      "\n",
      "Training Loss: 0.8397, Validation Loss: 0.8496\n",
      "Epoch 38/4000\n"
     ]
    },
    {
     "name": "stderr",
     "output_type": "stream",
     "text": [
      "Training: 100%|██████████| 24/24 [00:15<00:00,  1.53it/s, loss=0.858]\n",
      "Validation: 100%|██████████| 4/4 [00:01<00:00,  2.67it/s, loss=0.741]\n"
     ]
    },
    {
     "name": "stdout",
     "output_type": "stream",
     "text": [
      "Validation Dice Score\n",
      "Class 0: 0.6908, Class 1: 0.6279, Class 2: 0.0145, Class 3: 0.5814, \n",
      "Class 4: 0.0009, Class 5: 0.1534, Class 6: 0.2700, \n",
      "Validation F-beta Score\n",
      "Class 0: 0.5445, Class 1: 0.8777, Class 2: 0.0577, Class 3: 0.7335, \n",
      "Class 4: 0.0069, Class 5: 0.3587, Class 6: 0.3436, \n",
      "Overall Mean Dice Score: 0.3341\n",
      "'Overall_mean_f_beta_score': 0.4175\n",
      "\n",
      "Training Loss: 0.8290, Validation Loss: 0.8279\n",
      "Epoch 39/4000\n"
     ]
    },
    {
     "name": "stderr",
     "output_type": "stream",
     "text": [
      "Training: 100%|██████████| 24/24 [00:15<00:00,  1.52it/s, loss=0.813]\n",
      "Validation: 100%|██████████| 4/4 [00:01<00:00,  2.60it/s, loss=0.847]\n"
     ]
    },
    {
     "name": "stdout",
     "output_type": "stream",
     "text": [
      "Validation Dice Score\n",
      "Class 0: 0.6840, Class 1: 0.6657, Class 2: 0.0143, Class 3: 0.7025, \n",
      "Class 4: 0.0035, Class 5: 0.2312, Class 6: 0.0964, \n",
      "Validation F-beta Score\n",
      "Class 0: 0.5390, Class 1: 0.7930, Class 2: 0.0491, Class 3: 0.6852, \n",
      "Class 4: 0.0208, Class 5: 0.3838, Class 6: 0.2265, \n",
      "Overall Mean Dice Score: 0.3425\n",
      "'Overall_mean_f_beta_score': 0.3853\n",
      "\n",
      "Training Loss: 0.8358, Validation Loss: 0.8078\n",
      "Epoch 40/4000\n"
     ]
    },
    {
     "name": "stderr",
     "output_type": "stream",
     "text": [
      "Training: 100%|██████████| 24/24 [00:15<00:00,  1.52it/s, loss=0.904]\n",
      "Validation: 100%|██████████| 4/4 [00:01<00:00,  2.70it/s, loss=0.685]\n"
     ]
    },
    {
     "name": "stdout",
     "output_type": "stream",
     "text": [
      "Validation Dice Score\n",
      "Class 0: 0.6705, Class 1: 0.7264, Class 2: 0.0233, Class 3: 0.6758, \n",
      "Class 4: 0.0013, Class 5: 0.2180, Class 6: 0.3253, \n",
      "Validation F-beta Score\n",
      "Class 0: 0.5254, Class 1: 0.7745, Class 2: 0.0508, Class 3: 0.6295, \n",
      "Class 4: 0.0079, Class 5: 0.3220, Class 6: 0.3883, \n",
      "Overall Mean Dice Score: 0.3772\n",
      "'Overall_mean_f_beta_score': 0.3855\n",
      "\n",
      "Training Loss: 0.8300, Validation Loss: 0.8040\n",
      "Epoch 41/4000\n"
     ]
    },
    {
     "name": "stderr",
     "output_type": "stream",
     "text": [
      "Training: 100%|██████████| 24/24 [00:15<00:00,  1.52it/s, loss=0.835]\n",
      "Validation: 100%|██████████| 4/4 [00:01<00:00,  2.65it/s, loss=0.848]\n"
     ]
    },
    {
     "name": "stdout",
     "output_type": "stream",
     "text": [
      "Validation Dice Score\n",
      "Class 0: 0.6860, Class 1: 0.6696, Class 2: 0.0633, Class 3: 0.5524, \n",
      "Class 4: 0.0021, Class 5: 0.1726, Class 6: 0.2888, \n",
      "Validation F-beta Score\n",
      "Class 0: 0.5389, Class 1: 0.8474, Class 2: 0.1698, Class 3: 0.6572, \n",
      "Class 4: 0.0122, Class 5: 0.4728, Class 6: 0.4118, \n",
      "Overall Mean Dice Score: 0.3478\n",
      "'Overall_mean_f_beta_score': 0.4443\n",
      "\n",
      "Training Loss: 0.8294, Validation Loss: 0.8149\n",
      "Epoch 42/4000\n"
     ]
    },
    {
     "name": "stderr",
     "output_type": "stream",
     "text": [
      "Training: 100%|██████████| 24/24 [00:15<00:00,  1.51it/s, loss=0.856]\n",
      "Validation: 100%|██████████| 4/4 [00:01<00:00,  2.63it/s, loss=0.704]\n"
     ]
    },
    {
     "name": "stdout",
     "output_type": "stream",
     "text": [
      "Validation Dice Score\n",
      "Class 0: 0.6884, Class 1: 0.7685, Class 2: 0.0818, Class 3: 0.5955, \n",
      "Class 4: 0.0007, Class 5: 0.1521, Class 6: 0.3442, \n",
      "Validation F-beta Score\n",
      "Class 0: 0.5418, Class 1: 0.7346, Class 2: 0.2128, Class 3: 0.6933, \n",
      "Class 4: 0.0052, Class 5: 0.2777, Class 6: 0.4561, \n",
      "Overall Mean Dice Score: 0.3759\n",
      "'Overall_mean_f_beta_score': 0.4174\n",
      "\n",
      "Training Loss: 0.8320, Validation Loss: 0.7898\n",
      "========================================================\n",
      "Best model saved with validation loss: 0.7898\n",
      "========================================================\n",
      "Epoch 43/4000\n"
     ]
    },
    {
     "name": "stderr",
     "output_type": "stream",
     "text": [
      "Training: 100%|██████████| 24/24 [00:15<00:00,  1.52it/s, loss=0.822]\n",
      "Validation: 100%|██████████| 4/4 [00:01<00:00,  2.63it/s, loss=0.849]\n"
     ]
    },
    {
     "name": "stdout",
     "output_type": "stream",
     "text": [
      "Validation Dice Score\n",
      "Class 0: 0.6815, Class 1: 0.7346, Class 2: 0.0584, Class 3: 0.5833, \n",
      "Class 4: 0.0020, Class 5: 0.1208, Class 6: 0.3709, \n",
      "Validation F-beta Score\n",
      "Class 0: 0.5352, Class 1: 0.6678, Class 2: 0.0913, Class 3: 0.5957, \n",
      "Class 4: 0.0130, Class 5: 0.2364, Class 6: 0.6593, \n",
      "Overall Mean Dice Score: 0.3645\n",
      "'Overall_mean_f_beta_score': 0.3998\n",
      "\n",
      "Training Loss: 0.8294, Validation Loss: 0.8293\n",
      "Epoch 44/4000\n"
     ]
    },
    {
     "name": "stderr",
     "output_type": "stream",
     "text": [
      "Training: 100%|██████████| 24/24 [00:15<00:00,  1.51it/s, loss=0.846]\n",
      "Validation: 100%|██████████| 4/4 [00:01<00:00,  2.69it/s, loss=0.744]\n"
     ]
    },
    {
     "name": "stdout",
     "output_type": "stream",
     "text": [
      "Validation Dice Score\n",
      "Class 0: 0.6812, Class 1: 0.7139, Class 2: 0.0702, Class 3: 0.5752, \n",
      "Class 4: 0.0007, Class 5: 0.1341, Class 6: 0.3169, \n",
      "Validation F-beta Score\n",
      "Class 0: 0.5336, Class 1: 0.8345, Class 2: 0.2440, Class 3: 0.5769, \n",
      "Class 4: 0.0049, Class 5: 0.2414, Class 6: 0.5359, \n",
      "Overall Mean Dice Score: 0.3560\n",
      "'Overall_mean_f_beta_score': 0.4245\n",
      "\n",
      "Training Loss: 0.8351, Validation Loss: 0.8125\n",
      "Epoch 45/4000\n"
     ]
    },
    {
     "name": "stderr",
     "output_type": "stream",
     "text": [
      "Training: 100%|██████████| 24/24 [00:15<00:00,  1.52it/s, loss=0.811]\n",
      "Validation: 100%|██████████| 4/4 [00:01<00:00,  2.66it/s, loss=0.829]\n"
     ]
    },
    {
     "name": "stdout",
     "output_type": "stream",
     "text": [
      "Validation Dice Score\n",
      "Class 0: 0.6784, Class 1: 0.7033, Class 2: 0.0783, Class 3: 0.4883, \n",
      "Class 4: 0.0013, Class 5: 0.1739, Class 6: 0.3970, \n",
      "Validation F-beta Score\n",
      "Class 0: 0.5335, Class 1: 0.8329, Class 2: 0.1876, Class 3: 0.5294, \n",
      "Class 4: 0.0092, Class 5: 0.2832, Class 6: 0.7556, \n",
      "Overall Mean Dice Score: 0.3601\n",
      "'Overall_mean_f_beta_score': 0.4473\n",
      "\n",
      "Training Loss: 0.8298, Validation Loss: 0.8396\n",
      "Epoch 46/4000\n"
     ]
    },
    {
     "name": "stderr",
     "output_type": "stream",
     "text": [
      "Training: 100%|██████████| 24/24 [00:15<00:00,  1.53it/s, loss=0.822]\n",
      "Validation: 100%|██████████| 4/4 [00:01<00:00,  2.55it/s, loss=0.884]\n"
     ]
    },
    {
     "name": "stdout",
     "output_type": "stream",
     "text": [
      "Validation Dice Score\n",
      "Class 0: 0.6815, Class 1: 0.6337, Class 2: 0.0698, Class 3: 0.5793, \n",
      "Class 4: 0.0003, Class 5: 0.1763, Class 6: 0.4089, \n",
      "Validation F-beta Score\n",
      "Class 0: 0.5347, Class 1: 0.7635, Class 2: 0.1378, Class 3: 0.6086, \n",
      "Class 4: 0.0020, Class 5: 0.3274, Class 6: 0.3510, \n",
      "Overall Mean Dice Score: 0.3643\n",
      "'Overall_mean_f_beta_score': 0.3893\n",
      "\n",
      "Training Loss: 0.8316, Validation Loss: 0.8299\n",
      "Epoch 47/4000\n"
     ]
    },
    {
     "name": "stderr",
     "output_type": "stream",
     "text": [
      "Training: 100%|██████████| 24/24 [00:15<00:00,  1.53it/s, loss=0.827]\n",
      "Validation: 100%|██████████| 4/4 [00:01<00:00,  2.65it/s, loss=0.771]\n"
     ]
    },
    {
     "name": "stdout",
     "output_type": "stream",
     "text": [
      "Validation Dice Score\n",
      "Class 0: 0.6727, Class 1: 0.6748, Class 2: 0.0000, Class 3: 0.5865, \n",
      "Class 4: 0.0026, Class 5: 0.1489, Class 6: 0.3719, \n",
      "Validation F-beta Score\n",
      "Class 0: 0.5291, Class 1: 0.8671, Class 2: 0.0000, Class 3: 0.5572, \n",
      "Class 4: 0.0154, Class 5: 0.2204, Class 6: 0.5042, \n",
      "Overall Mean Dice Score: 0.3511\n",
      "'Overall_mean_f_beta_score': 0.3848\n",
      "\n",
      "Training Loss: 0.8211, Validation Loss: 0.8010\n",
      "Epoch 48/4000\n"
     ]
    },
    {
     "name": "stderr",
     "output_type": "stream",
     "text": [
      "Training: 100%|██████████| 24/24 [00:15<00:00,  1.53it/s, loss=0.861]\n",
      "Validation: 100%|██████████| 4/4 [00:01<00:00,  2.65it/s, loss=0.827]\n"
     ]
    },
    {
     "name": "stdout",
     "output_type": "stream",
     "text": [
      "Validation Dice Score\n",
      "Class 0: 0.6827, Class 1: 0.7525, Class 2: 0.0752, Class 3: 0.5355, \n",
      "Class 4: 0.0034, Class 5: 0.2509, Class 6: 0.1514, \n",
      "Validation F-beta Score\n",
      "Class 0: 0.5373, Class 1: 0.8416, Class 2: 0.2008, Class 3: 0.6403, \n",
      "Class 4: 0.0216, Class 5: 0.4426, Class 6: 0.1746, \n",
      "Overall Mean Dice Score: 0.3502\n",
      "'Overall_mean_f_beta_score': 0.4084\n",
      "\n",
      "Training Loss: 0.8309, Validation Loss: 0.8225\n",
      "Epoch 49/4000\n"
     ]
    },
    {
     "name": "stderr",
     "output_type": "stream",
     "text": [
      "Training: 100%|██████████| 24/24 [00:15<00:00,  1.52it/s, loss=0.838]\n",
      "Validation: 100%|██████████| 4/4 [00:01<00:00,  2.62it/s, loss=0.811]\n"
     ]
    },
    {
     "name": "stdout",
     "output_type": "stream",
     "text": [
      "Validation Dice Score\n",
      "Class 0: 0.6885, Class 1: 0.5840, Class 2: 0.0137, Class 3: 0.5859, \n",
      "Class 4: 0.0011, Class 5: 0.1221, Class 6: 0.1308, \n",
      "Validation F-beta Score\n",
      "Class 0: 0.5428, Class 1: 0.6621, Class 2: 0.0406, Class 3: 0.6826, \n",
      "Class 4: 0.0082, Class 5: 0.2526, Class 6: 0.1189, \n",
      "Overall Mean Dice Score: 0.3037\n",
      "'Overall_mean_f_beta_score': 0.3297\n",
      "\n",
      "Training Loss: 0.8104, Validation Loss: 0.8524\n",
      "Epoch 50/4000\n"
     ]
    },
    {
     "name": "stderr",
     "output_type": "stream",
     "text": [
      "Training: 100%|██████████| 24/24 [00:15<00:00,  1.55it/s, loss=0.812]\n",
      "Validation: 100%|██████████| 4/4 [00:01<00:00,  2.62it/s, loss=0.786]\n"
     ]
    },
    {
     "name": "stdout",
     "output_type": "stream",
     "text": [
      "Validation Dice Score\n",
      "Class 0: 0.6845, Class 1: 0.5259, Class 2: 0.0500, Class 3: 0.5723, \n",
      "Class 4: 0.0020, Class 5: 0.2464, Class 6: 0.1762, \n",
      "Validation F-beta Score\n",
      "Class 0: 0.5385, Class 1: 0.5718, Class 2: 0.1770, Class 3: 0.6220, \n",
      "Class 4: 0.0137, Class 5: 0.4244, Class 6: 0.2910, \n",
      "Overall Mean Dice Score: 0.3225\n",
      "'Overall_mean_f_beta_score': 0.3769\n",
      "\n",
      "Training Loss: 0.8186, Validation Loss: 0.8196\n",
      "Epoch 51/4000\n"
     ]
    },
    {
     "name": "stderr",
     "output_type": "stream",
     "text": [
      "Training: 100%|██████████| 24/24 [00:15<00:00,  1.53it/s, loss=0.849]\n",
      "Validation: 100%|██████████| 4/4 [00:01<00:00,  2.68it/s, loss=0.874]\n"
     ]
    },
    {
     "name": "stdout",
     "output_type": "stream",
     "text": [
      "Validation Dice Score\n",
      "Class 0: 0.6815, Class 1: 0.6505, Class 2: 0.1039, Class 3: 0.5589, \n",
      "Class 4: 0.0032, Class 5: 0.2596, Class 6: 0.1886, \n",
      "Validation F-beta Score\n",
      "Class 0: 0.5354, Class 1: 0.8548, Class 2: 0.1904, Class 3: 0.6101, \n",
      "Class 4: 0.0208, Class 5: 0.4511, Class 6: 0.3100, \n",
      "Overall Mean Dice Score: 0.3495\n",
      "'Overall_mean_f_beta_score': 0.4246\n",
      "\n",
      "Training Loss: 0.8249, Validation Loss: 0.8220\n",
      "Epoch 52/4000\n"
     ]
    },
    {
     "name": "stderr",
     "output_type": "stream",
     "text": [
      "Training: 100%|██████████| 24/24 [00:15<00:00,  1.52it/s, loss=0.814]\n",
      "Validation: 100%|██████████| 4/4 [00:01<00:00,  2.58it/s, loss=0.761]\n"
     ]
    },
    {
     "name": "stdout",
     "output_type": "stream",
     "text": [
      "Validation Dice Score\n",
      "Class 0: 0.6889, Class 1: 0.6301, Class 2: 0.0178, Class 3: 0.6381, \n",
      "Class 4: 0.0019, Class 5: 0.2812, Class 6: 0.3640, \n",
      "Validation F-beta Score\n",
      "Class 0: 0.5433, Class 1: 0.8201, Class 2: 0.0550, Class 3: 0.6722, \n",
      "Class 4: 0.0136, Class 5: 0.4286, Class 6: 0.5850, \n",
      "Overall Mean Dice Score: 0.3746\n",
      "'Overall_mean_f_beta_score': 0.4454\n",
      "\n",
      "Training Loss: 0.8250, Validation Loss: 0.8055\n",
      "Epoch 53/4000\n"
     ]
    },
    {
     "name": "stderr",
     "output_type": "stream",
     "text": [
      "Training: 100%|██████████| 24/24 [00:15<00:00,  1.53it/s, loss=0.796]\n",
      "Validation: 100%|██████████| 4/4 [00:01<00:00,  2.61it/s, loss=0.849]\n"
     ]
    },
    {
     "name": "stdout",
     "output_type": "stream",
     "text": [
      "Validation Dice Score\n",
      "Class 0: 0.6988, Class 1: 0.7149, Class 2: 0.0371, Class 3: 0.6026, \n",
      "Class 4: 0.0012, Class 5: 0.1995, Class 6: 0.4694, \n",
      "Validation F-beta Score\n",
      "Class 0: 0.5549, Class 1: 0.7952, Class 2: 0.1005, Class 3: 0.7213, \n",
      "Class 4: 0.0087, Class 5: 0.2799, Class 6: 0.4614, \n",
      "Overall Mean Dice Score: 0.3891\n",
      "'Overall_mean_f_beta_score': 0.4174\n",
      "\n",
      "Training Loss: 0.8117, Validation Loss: 0.8163\n",
      "Epoch 54/4000\n"
     ]
    },
    {
     "name": "stderr",
     "output_type": "stream",
     "text": [
      "Training: 100%|██████████| 24/24 [00:15<00:00,  1.52it/s, loss=0.831]\n",
      "Validation: 100%|██████████| 4/4 [00:01<00:00,  2.64it/s, loss=0.852]\n"
     ]
    },
    {
     "name": "stdout",
     "output_type": "stream",
     "text": [
      "Validation Dice Score\n",
      "Class 0: 0.6868, Class 1: 0.5536, Class 2: 0.1017, Class 3: 0.5770, \n",
      "Class 4: 0.0019, Class 5: 0.1065, Class 6: 0.5320, \n",
      "Validation F-beta Score\n",
      "Class 0: 0.5419, Class 1: 0.7378, Class 2: 0.2834, Class 3: 0.6155, \n",
      "Class 4: 0.0131, Class 5: 0.1838, Class 6: 0.7388, \n",
      "Overall Mean Dice Score: 0.3656\n",
      "'Overall_mean_f_beta_score': 0.4449\n",
      "\n",
      "Training Loss: 0.8269, Validation Loss: 0.8412\n",
      "Epoch 55/4000\n"
     ]
    },
    {
     "name": "stderr",
     "output_type": "stream",
     "text": [
      "Training: 100%|██████████| 24/24 [00:15<00:00,  1.52it/s, loss=0.823]\n",
      "Validation: 100%|██████████| 4/4 [00:01<00:00,  2.66it/s, loss=0.765]\n"
     ]
    },
    {
     "name": "stdout",
     "output_type": "stream",
     "text": [
      "Validation Dice Score\n",
      "Class 0: 0.6805, Class 1: 0.6606, Class 2: 0.0236, Class 3: 0.6299, \n",
      "Class 4: 0.0028, Class 5: 0.2827, Class 6: 0.2311, \n",
      "Validation F-beta Score\n",
      "Class 0: 0.5347, Class 1: 0.8125, Class 2: 0.1042, Class 3: 0.6780, \n",
      "Class 4: 0.0184, Class 5: 0.4530, Class 6: 0.1989, \n",
      "Overall Mean Dice Score: 0.3587\n",
      "'Overall_mean_f_beta_score': 0.4000\n",
      "\n",
      "Training Loss: 0.8333, Validation Loss: 0.7945\n",
      "Epoch 56/4000\n"
     ]
    },
    {
     "name": "stderr",
     "output_type": "stream",
     "text": [
      "Training: 100%|██████████| 24/24 [00:15<00:00,  1.51it/s, loss=0.808]\n",
      "Validation: 100%|██████████| 4/4 [00:01<00:00,  2.64it/s, loss=0.833]\n"
     ]
    },
    {
     "name": "stdout",
     "output_type": "stream",
     "text": [
      "Validation Dice Score\n",
      "Class 0: 0.6811, Class 1: 0.7231, Class 2: 0.0571, Class 3: 0.5473, \n",
      "Class 4: 0.0049, Class 5: 0.1355, Class 6: 0.2798, \n",
      "Validation F-beta Score\n",
      "Class 0: 0.5368, Class 1: 0.8453, Class 2: 0.1501, Class 3: 0.5930, \n",
      "Class 4: 0.0205, Class 5: 0.3564, Class 6: 0.5511, \n",
      "Overall Mean Dice Score: 0.3470\n",
      "'Overall_mean_f_beta_score': 0.4362\n",
      "\n",
      "Training Loss: 0.8183, Validation Loss: 0.8345\n",
      "Epoch 57/4000\n"
     ]
    },
    {
     "name": "stderr",
     "output_type": "stream",
     "text": [
      "Training: 100%|██████████| 24/24 [00:15<00:00,  1.52it/s, loss=0.829]\n",
      "Validation: 100%|██████████| 4/4 [00:01<00:00,  2.67it/s, loss=0.828]\n"
     ]
    },
    {
     "name": "stdout",
     "output_type": "stream",
     "text": [
      "Validation Dice Score\n",
      "Class 0: 0.6865, Class 1: 0.6338, Class 2: 0.0000, Class 3: 0.6121, \n",
      "Class 4: 0.0040, Class 5: 0.1874, Class 6: 0.4299, \n",
      "Validation F-beta Score\n",
      "Class 0: 0.5418, Class 1: 0.6763, Class 2: 0.0000, Class 3: 0.6197, \n",
      "Class 4: 0.0231, Class 5: 0.3402, Class 6: 0.5807, \n",
      "Overall Mean Dice Score: 0.3648\n",
      "'Overall_mean_f_beta_score': 0.3974\n",
      "\n",
      "Training Loss: 0.8185, Validation Loss: 0.8212\n",
      "Epoch 58/4000\n"
     ]
    },
    {
     "name": "stderr",
     "output_type": "stream",
     "text": [
      "Training: 100%|██████████| 24/24 [00:15<00:00,  1.52it/s, loss=0.817]\n",
      "Validation: 100%|██████████| 4/4 [00:01<00:00,  2.55it/s, loss=0.807]\n"
     ]
    },
    {
     "name": "stdout",
     "output_type": "stream",
     "text": [
      "Validation Dice Score\n",
      "Class 0: 0.6871, Class 1: 0.7251, Class 2: 0.0415, Class 3: 0.6200, \n",
      "Class 4: 0.0023, Class 5: 0.1053, Class 6: 0.3183, \n",
      "Validation F-beta Score\n",
      "Class 0: 0.5414, Class 1: 0.8792, Class 2: 0.1365, Class 3: 0.6714, \n",
      "Class 4: 0.0165, Class 5: 0.2218, Class 6: 0.3535, \n",
      "Overall Mean Dice Score: 0.3571\n",
      "'Overall_mean_f_beta_score': 0.4029\n",
      "\n",
      "Training Loss: 0.8116, Validation Loss: 0.8222\n",
      "Epoch 59/4000\n"
     ]
    },
    {
     "name": "stderr",
     "output_type": "stream",
     "text": [
      "Training: 100%|██████████| 24/24 [00:15<00:00,  1.52it/s, loss=0.87] \n",
      "Validation: 100%|██████████| 4/4 [00:01<00:00,  2.62it/s, loss=0.819]\n"
     ]
    },
    {
     "name": "stdout",
     "output_type": "stream",
     "text": [
      "Validation Dice Score\n",
      "Class 0: 0.6956, Class 1: 0.3329, Class 2: 0.0466, Class 3: 0.6645, \n",
      "Class 4: 0.0036, Class 5: 0.1691, Class 6: 0.2403, \n",
      "Validation F-beta Score\n",
      "Class 0: 0.5517, Class 1: 0.7501, Class 2: 0.1098, Class 3: 0.6624, \n",
      "Class 4: 0.0211, Class 5: 0.2554, Class 6: 0.2999, \n",
      "Overall Mean Dice Score: 0.3075\n",
      "'Overall_mean_f_beta_score': 0.3786\n",
      "\n",
      "Training Loss: 0.8194, Validation Loss: 0.8390\n",
      "Epoch 60/4000\n"
     ]
    },
    {
     "name": "stderr",
     "output_type": "stream",
     "text": [
      "Training: 100%|██████████| 24/24 [00:15<00:00,  1.53it/s, loss=0.804]\n",
      "Validation: 100%|██████████| 4/4 [00:01<00:00,  2.74it/s, loss=0.769]\n"
     ]
    },
    {
     "name": "stdout",
     "output_type": "stream",
     "text": [
      "Validation Dice Score\n",
      "Class 0: 0.6852, Class 1: 0.7098, Class 2: 0.0000, Class 3: 0.6034, \n",
      "Class 4: 0.0009, Class 5: 0.2964, Class 6: 0.3399, \n",
      "Validation F-beta Score\n",
      "Class 0: 0.5405, Class 1: 0.8356, Class 2: 0.0000, Class 3: 0.6639, \n",
      "Class 4: 0.0064, Class 5: 0.4432, Class 6: 0.6327, \n",
      "Overall Mean Dice Score: 0.3765\n",
      "'Overall_mean_f_beta_score': 0.4460\n",
      "\n",
      "Training Loss: 0.8172, Validation Loss: 0.7920\n",
      "Epoch 61/4000\n"
     ]
    },
    {
     "name": "stderr",
     "output_type": "stream",
     "text": [
      "Training: 100%|██████████| 24/24 [00:15<00:00,  1.53it/s, loss=0.847]\n",
      "Validation: 100%|██████████| 4/4 [00:01<00:00,  2.59it/s, loss=0.748]\n"
     ]
    },
    {
     "name": "stdout",
     "output_type": "stream",
     "text": [
      "Validation Dice Score\n",
      "Class 0: 0.7001, Class 1: 0.7257, Class 2: 0.0488, Class 3: 0.5199, \n",
      "Class 4: 0.0025, Class 5: 0.2317, Class 6: 0.3003, \n",
      "Validation F-beta Score\n",
      "Class 0: 0.5564, Class 1: 0.8851, Class 2: 0.1302, Class 3: 0.5526, \n",
      "Class 4: 0.0169, Class 5: 0.4846, Class 6: 0.5322, \n",
      "Overall Mean Dice Score: 0.3613\n",
      "'Overall_mean_f_beta_score': 0.4511\n",
      "\n",
      "Training Loss: 0.8261, Validation Loss: 0.8114\n",
      "Epoch 62/4000\n"
     ]
    },
    {
     "name": "stderr",
     "output_type": "stream",
     "text": [
      "Training: 100%|██████████| 24/24 [00:15<00:00,  1.53it/s, loss=0.774]\n",
      "Validation: 100%|██████████| 4/4 [00:01<00:00,  2.63it/s, loss=0.811]\n"
     ]
    },
    {
     "name": "stdout",
     "output_type": "stream",
     "text": [
      "Validation Dice Score\n",
      "Class 0: 0.6856, Class 1: 0.5785, Class 2: 0.0000, Class 3: 0.5916, \n",
      "Class 4: 0.0052, Class 5: 0.2670, Class 6: 0.5676, \n",
      "Validation F-beta Score\n",
      "Class 0: 0.5413, Class 1: 0.6500, Class 2: 0.0000, Class 3: 0.7496, \n",
      "Class 4: 0.0295, Class 5: 0.3689, Class 6: 0.5485, \n",
      "Overall Mean Dice Score: 0.3851\n",
      "'Overall_mean_f_beta_score': 0.4125\n",
      "\n",
      "Training Loss: 0.8064, Validation Loss: 0.8087\n",
      "Epoch 63/4000\n"
     ]
    },
    {
     "name": "stderr",
     "output_type": "stream",
     "text": [
      "Training: 100%|██████████| 24/24 [00:15<00:00,  1.52it/s, loss=0.807]\n",
      "Validation: 100%|██████████| 4/4 [00:01<00:00,  2.68it/s, loss=0.868]\n"
     ]
    },
    {
     "name": "stdout",
     "output_type": "stream",
     "text": [
      "Validation Dice Score\n",
      "Class 0: 0.6881, Class 1: 0.4966, Class 2: 0.1274, Class 3: 0.6251, \n",
      "Class 4: 0.0034, Class 5: 0.1523, Class 6: 0.2352, \n",
      "Validation F-beta Score\n",
      "Class 0: 0.5421, Class 1: 0.8008, Class 2: 0.2739, Class 3: 0.6403, \n",
      "Class 4: 0.0206, Class 5: 0.3744, Class 6: 0.3636, \n",
      "Overall Mean Dice Score: 0.3326\n",
      "'Overall_mean_f_beta_score': 0.4308\n",
      "\n",
      "Training Loss: 0.8196, Validation Loss: 0.8329\n",
      "Epoch 64/4000\n"
     ]
    },
    {
     "name": "stderr",
     "output_type": "stream",
     "text": [
      "Training: 100%|██████████| 24/24 [00:15<00:00,  1.53it/s, loss=0.829]\n",
      "Validation: 100%|██████████| 4/4 [00:01<00:00,  2.64it/s, loss=0.86] \n"
     ]
    },
    {
     "name": "stdout",
     "output_type": "stream",
     "text": [
      "Validation Dice Score\n",
      "Class 0: 0.6863, Class 1: 0.6995, Class 2: 0.0347, Class 3: 0.7201, \n",
      "Class 4: 0.0045, Class 5: 0.3265, Class 6: 0.2447, \n",
      "Validation F-beta Score\n",
      "Class 0: 0.5418, Class 1: 0.8013, Class 2: 0.1106, Class 3: 0.7145, \n",
      "Class 4: 0.0264, Class 5: 0.5836, Class 6: 0.4498, \n",
      "Overall Mean Dice Score: 0.3881\n",
      "'Overall_mean_f_beta_score': 0.4611\n",
      "\n",
      "Training Loss: 0.8159, Validation Loss: 0.7809\n",
      "========================================================\n",
      "Best model saved with validation loss: 0.7809\n",
      "========================================================\n",
      "Epoch 65/4000\n"
     ]
    },
    {
     "name": "stderr",
     "output_type": "stream",
     "text": [
      "Training: 100%|██████████| 24/24 [00:15<00:00,  1.53it/s, loss=0.84] \n",
      "Validation: 100%|██████████| 4/4 [00:01<00:00,  2.60it/s, loss=0.784]\n"
     ]
    },
    {
     "name": "stdout",
     "output_type": "stream",
     "text": [
      "Validation Dice Score\n",
      "Class 0: 0.6955, Class 1: 0.7624, Class 2: 0.0252, Class 3: 0.5743, \n",
      "Class 4: 0.0008, Class 5: 0.1766, Class 6: 0.4147, \n",
      "Validation F-beta Score\n",
      "Class 0: 0.5502, Class 1: 0.8046, Class 2: 0.0904, Class 3: 0.6306, \n",
      "Class 4: 0.0062, Class 5: 0.3039, Class 6: 0.7842, \n",
      "Overall Mean Dice Score: 0.3785\n",
      "'Overall_mean_f_beta_score': 0.4529\n",
      "\n",
      "Training Loss: 0.8090, Validation Loss: 0.8162\n",
      "Epoch 66/4000\n"
     ]
    },
    {
     "name": "stderr",
     "output_type": "stream",
     "text": [
      "Training: 100%|██████████| 24/24 [00:15<00:00,  1.52it/s, loss=0.818]\n",
      "Validation: 100%|██████████| 4/4 [00:01<00:00,  2.70it/s, loss=0.826]\n"
     ]
    },
    {
     "name": "stdout",
     "output_type": "stream",
     "text": [
      "Validation Dice Score\n",
      "Class 0: 0.6974, Class 1: 0.7072, Class 2: 0.1489, Class 3: 0.6394, \n",
      "Class 4: 0.0010, Class 5: 0.1092, Class 6: 0.1933, \n",
      "Validation F-beta Score\n",
      "Class 0: 0.5523, Class 1: 0.8581, Class 2: 0.2981, Class 3: 0.7368, \n",
      "Class 4: 0.0073, Class 5: 0.1581, Class 6: 0.3890, \n",
      "Overall Mean Dice Score: 0.3566\n",
      "'Overall_mean_f_beta_score': 0.4285\n",
      "\n",
      "Training Loss: 0.8082, Validation Loss: 0.7948\n",
      "Epoch 67/4000\n"
     ]
    },
    {
     "name": "stderr",
     "output_type": "stream",
     "text": [
      "Training: 100%|██████████| 24/24 [00:15<00:00,  1.54it/s, loss=0.905]\n",
      "Validation: 100%|██████████| 4/4 [00:01<00:00,  2.62it/s, loss=0.826]\n"
     ]
    },
    {
     "name": "stdout",
     "output_type": "stream",
     "text": [
      "Validation Dice Score\n",
      "Class 0: 0.6962, Class 1: 0.7316, Class 2: 0.1300, Class 3: 0.4892, \n",
      "Class 4: 0.0015, Class 5: 0.1065, Class 6: 0.1431, \n",
      "Validation F-beta Score\n",
      "Class 0: 0.5527, Class 1: 0.8579, Class 2: 0.2439, Class 3: 0.5102, \n",
      "Class 4: 0.0105, Class 5: 0.1948, Class 6: 0.1517, \n",
      "Overall Mean Dice Score: 0.3283\n",
      "'Overall_mean_f_beta_score': 0.3602\n",
      "\n",
      "Training Loss: 0.8099, Validation Loss: 0.8320\n",
      "Epoch 68/4000\n"
     ]
    },
    {
     "name": "stderr",
     "output_type": "stream",
     "text": [
      "Training: 100%|██████████| 24/24 [00:15<00:00,  1.52it/s, loss=0.825]\n",
      "Validation: 100%|██████████| 4/4 [00:01<00:00,  2.59it/s, loss=0.781]\n"
     ]
    },
    {
     "name": "stdout",
     "output_type": "stream",
     "text": [
      "Validation Dice Score\n",
      "Class 0: 0.6848, Class 1: 0.6968, Class 2: 0.0328, Class 3: 0.5926, \n",
      "Class 4: 0.0021, Class 5: 0.2104, Class 6: 0.2058, \n",
      "Validation F-beta Score\n",
      "Class 0: 0.5414, Class 1: 0.8527, Class 2: 0.0798, Class 3: 0.6138, \n",
      "Class 4: 0.0131, Class 5: 0.4356, Class 6: 0.3393, \n",
      "Overall Mean Dice Score: 0.3465\n",
      "'Overall_mean_f_beta_score': 0.4108\n",
      "\n",
      "Training Loss: 0.8305, Validation Loss: 0.7998\n",
      "Epoch 69/4000\n"
     ]
    },
    {
     "name": "stderr",
     "output_type": "stream",
     "text": [
      "Training: 100%|██████████| 24/24 [00:15<00:00,  1.52it/s, loss=0.806]\n",
      "Validation: 100%|██████████| 4/4 [00:01<00:00,  2.64it/s, loss=0.824]\n"
     ]
    },
    {
     "name": "stdout",
     "output_type": "stream",
     "text": [
      "Validation Dice Score\n",
      "Class 0: 0.6859, Class 1: 0.6881, Class 2: 0.0847, Class 3: 0.5520, \n",
      "Class 4: 0.0042, Class 5: 0.2219, Class 6: 0.0455, \n",
      "Validation F-beta Score\n",
      "Class 0: 0.5431, Class 1: 0.8090, Class 2: 0.2491, Class 3: 0.6219, \n",
      "Class 4: 0.0256, Class 5: 0.3775, Class 6: 0.0732, \n",
      "Overall Mean Dice Score: 0.3260\n",
      "'Overall_mean_f_beta_score': 0.3856\n",
      "\n",
      "Training Loss: 0.8186, Validation Loss: 0.8439\n",
      "Epoch 70/4000\n"
     ]
    },
    {
     "name": "stderr",
     "output_type": "stream",
     "text": [
      "Training: 100%|██████████| 24/24 [00:15<00:00,  1.53it/s, loss=0.845]\n",
      "Validation: 100%|██████████| 4/4 [00:01<00:00,  2.54it/s, loss=0.832]\n"
     ]
    },
    {
     "name": "stdout",
     "output_type": "stream",
     "text": [
      "Validation Dice Score\n",
      "Class 0: 0.6925, Class 1: 0.7136, Class 2: 0.0738, Class 3: 0.5980, \n",
      "Class 4: 0.0049, Class 5: 0.2147, Class 6: 0.2888, \n",
      "Validation F-beta Score\n",
      "Class 0: 0.5490, Class 1: 0.8052, Class 2: 0.1978, Class 3: 0.6162, \n",
      "Class 4: 0.0268, Class 5: 0.3376, Class 6: 0.5308, \n",
      "Overall Mean Dice Score: 0.3695\n",
      "'Overall_mean_f_beta_score': 0.4376\n",
      "\n",
      "Training Loss: 0.8149, Validation Loss: 0.8197\n",
      "Epoch 71/4000\n"
     ]
    },
    {
     "name": "stderr",
     "output_type": "stream",
     "text": [
      "Training: 100%|██████████| 24/24 [00:15<00:00,  1.52it/s, loss=0.805]\n",
      "Validation: 100%|██████████| 4/4 [00:01<00:00,  2.62it/s, loss=0.843]\n"
     ]
    },
    {
     "name": "stdout",
     "output_type": "stream",
     "text": [
      "Validation Dice Score\n",
      "Class 0: 0.6865, Class 1: 0.4498, Class 2: 0.0388, Class 3: 0.6360, \n",
      "Class 4: 0.0144, Class 5: 0.2345, Class 6: 0.3978, \n",
      "Validation F-beta Score\n",
      "Class 0: 0.5443, Class 1: 0.8306, Class 2: 0.0811, Class 3: 0.7176, \n",
      "Class 4: 0.0606, Class 5: 0.4335, Class 6: 0.5571, \n",
      "Overall Mean Dice Score: 0.3511\n",
      "'Overall_mean_f_beta_score': 0.4607\n",
      "\n",
      "Training Loss: 0.8245, Validation Loss: 0.8112\n",
      "Epoch 72/4000\n"
     ]
    },
    {
     "name": "stderr",
     "output_type": "stream",
     "text": [
      "Training: 100%|██████████| 24/24 [00:15<00:00,  1.51it/s, loss=0.879]\n",
      "Validation: 100%|██████████| 4/4 [00:01<00:00,  2.58it/s, loss=0.749]\n"
     ]
    },
    {
     "name": "stdout",
     "output_type": "stream",
     "text": [
      "Validation Dice Score\n",
      "Class 0: 0.6988, Class 1: 0.7763, Class 2: 0.1118, Class 3: 0.5283, \n",
      "Class 4: 0.0032, Class 5: 0.2213, Class 6: 0.4222, \n",
      "Validation F-beta Score\n",
      "Class 0: 0.5544, Class 1: 0.8189, Class 2: 0.3402, Class 3: 0.5643, \n",
      "Class 4: 0.0234, Class 5: 0.3519, Class 6: 0.5843, \n",
      "Overall Mean Dice Score: 0.3946\n",
      "'Overall_mean_f_beta_score': 0.4625\n",
      "\n",
      "Training Loss: 0.8193, Validation Loss: 0.7811\n",
      "Epoch 73/4000\n"
     ]
    },
    {
     "name": "stderr",
     "output_type": "stream",
     "text": [
      "Training: 100%|██████████| 24/24 [00:15<00:00,  1.51it/s, loss=0.847]\n",
      "Validation: 100%|██████████| 4/4 [00:01<00:00,  2.61it/s, loss=0.792]\n"
     ]
    },
    {
     "name": "stdout",
     "output_type": "stream",
     "text": [
      "Validation Dice Score\n",
      "Class 0: 0.7040, Class 1: 0.6700, Class 2: 0.0491, Class 3: 0.5141, \n",
      "Class 4: 0.0047, Class 5: 0.1988, Class 6: 0.5504, \n",
      "Validation F-beta Score\n",
      "Class 0: 0.5603, Class 1: 0.8595, Class 2: 0.0839, Class 3: 0.5528, \n",
      "Class 4: 0.0334, Class 5: 0.3164, Class 6: 0.7041, \n",
      "Overall Mean Dice Score: 0.3844\n",
      "'Overall_mean_f_beta_score': 0.4444\n",
      "\n",
      "Training Loss: 0.8101, Validation Loss: 0.8125\n",
      "Epoch 74/4000\n"
     ]
    },
    {
     "name": "stderr",
     "output_type": "stream",
     "text": [
      "Training: 100%|██████████| 24/24 [00:15<00:00,  1.52it/s, loss=0.826]\n",
      "Validation: 100%|██████████| 4/4 [00:01<00:00,  2.62it/s, loss=0.797]\n"
     ]
    },
    {
     "name": "stdout",
     "output_type": "stream",
     "text": [
      "Validation Dice Score\n",
      "Class 0: 0.7060, Class 1: 0.7692, Class 2: 0.0656, Class 3: 0.5876, \n",
      "Class 4: 0.0200, Class 5: 0.2079, Class 6: 0.5507, \n",
      "Validation F-beta Score\n",
      "Class 0: 0.5632, Class 1: 0.7952, Class 2: 0.2351, Class 3: 0.5552, \n",
      "Class 4: 0.1200, Class 5: 0.3139, Class 6: 0.7152, \n",
      "Overall Mean Dice Score: 0.4153\n",
      "'Overall_mean_f_beta_score': 0.4711\n",
      "\n",
      "Training Loss: 0.8077, Validation Loss: 0.7860\n",
      "Epoch 75/4000\n"
     ]
    },
    {
     "name": "stderr",
     "output_type": "stream",
     "text": [
      "Training: 100%|██████████| 24/24 [00:15<00:00,  1.53it/s, loss=0.828]\n",
      "Validation: 100%|██████████| 4/4 [00:01<00:00,  2.67it/s, loss=0.876]\n"
     ]
    },
    {
     "name": "stdout",
     "output_type": "stream",
     "text": [
      "Validation Dice Score\n",
      "Class 0: 0.7032, Class 1: 0.8356, Class 2: 0.0613, Class 3: 0.4690, \n",
      "Class 4: 0.0028, Class 5: 0.2584, Class 6: 0.1313, \n",
      "Validation F-beta Score\n",
      "Class 0: 0.5594, Class 1: 0.8407, Class 2: 0.1441, Class 3: 0.4554, \n",
      "Class 4: 0.0216, Class 5: 0.4686, Class 6: 0.2930, \n",
      "Overall Mean Dice Score: 0.3517\n",
      "'Overall_mean_f_beta_score': 0.3975\n",
      "\n",
      "Training Loss: 0.8031, Validation Loss: 0.8198\n",
      "Epoch 76/4000\n"
     ]
    },
    {
     "name": "stderr",
     "output_type": "stream",
     "text": [
      "Training: 100%|██████████| 24/24 [00:15<00:00,  1.53it/s, loss=0.758]\n",
      "Validation: 100%|██████████| 4/4 [00:01<00:00,  2.63it/s, loss=0.744]\n"
     ]
    },
    {
     "name": "stdout",
     "output_type": "stream",
     "text": [
      "Validation Dice Score\n",
      "Class 0: 0.7068, Class 1: 0.7597, Class 2: 0.1219, Class 3: 0.6354, \n",
      "Class 4: 0.0203, Class 5: 0.3187, Class 6: 0.4416, \n",
      "Validation F-beta Score\n",
      "Class 0: 0.5656, Class 1: 0.8128, Class 2: 0.2243, Class 3: 0.6802, \n",
      "Class 4: 0.1105, Class 5: 0.4074, Class 6: 0.4964, \n",
      "Overall Mean Dice Score: 0.4292\n",
      "'Overall_mean_f_beta_score': 0.4710\n",
      "\n",
      "Training Loss: 0.8234, Validation Loss: 0.7729\n",
      "========================================================\n",
      "Best model saved with validation loss: 0.7729\n",
      "========================================================\n",
      "Epoch 77/4000\n"
     ]
    },
    {
     "name": "stderr",
     "output_type": "stream",
     "text": [
      "Training: 100%|██████████| 24/24 [00:15<00:00,  1.52it/s, loss=0.879]\n",
      "Validation: 100%|██████████| 4/4 [00:01<00:00,  2.64it/s, loss=0.802]\n"
     ]
    },
    {
     "name": "stdout",
     "output_type": "stream",
     "text": [
      "Validation Dice Score\n",
      "Class 0: 0.7018, Class 1: 0.7156, Class 2: 0.0807, Class 3: 0.5569, \n",
      "Class 4: 0.0120, Class 5: 0.2077, Class 6: 0.3316, \n",
      "Validation F-beta Score\n",
      "Class 0: 0.5581, Class 1: 0.8282, Class 2: 0.1728, Class 3: 0.5417, \n",
      "Class 4: 0.0747, Class 5: 0.3610, Class 6: 0.4241, \n",
      "Overall Mean Dice Score: 0.3723\n",
      "'Overall_mean_f_beta_score': 0.4229\n",
      "\n",
      "Training Loss: 0.8236, Validation Loss: 0.8100\n",
      "Epoch 78/4000\n"
     ]
    },
    {
     "name": "stderr",
     "output_type": "stream",
     "text": [
      "Training: 100%|██████████| 24/24 [00:15<00:00,  1.52it/s, loss=0.719]\n",
      "Validation: 100%|██████████| 4/4 [00:01<00:00,  2.61it/s, loss=0.817]\n"
     ]
    },
    {
     "name": "stdout",
     "output_type": "stream",
     "text": [
      "Validation Dice Score\n",
      "Class 0: 0.7046, Class 1: 0.6814, Class 2: 0.0908, Class 3: 0.6244, \n",
      "Class 4: 0.0106, Class 5: 0.3029, Class 6: 0.4310, \n",
      "Validation F-beta Score\n",
      "Class 0: 0.5613, Class 1: 0.8654, Class 2: 0.3399, Class 3: 0.7046, \n",
      "Class 4: 0.0659, Class 5: 0.4169, Class 6: 0.5227, \n",
      "Overall Mean Dice Score: 0.4065\n",
      "'Overall_mean_f_beta_score': 0.4967\n",
      "\n",
      "Training Loss: 0.8125, Validation Loss: 0.7749\n",
      "Epoch 79/4000\n"
     ]
    },
    {
     "name": "stderr",
     "output_type": "stream",
     "text": [
      "Training: 100%|██████████| 24/24 [00:15<00:00,  1.52it/s, loss=0.823]\n",
      "Validation: 100%|██████████| 4/4 [00:01<00:00,  2.63it/s, loss=0.82] \n"
     ]
    },
    {
     "name": "stdout",
     "output_type": "stream",
     "text": [
      "Validation Dice Score\n",
      "Class 0: 0.7093, Class 1: 0.6837, Class 2: 0.0281, Class 3: 0.6250, \n",
      "Class 4: 0.0068, Class 5: 0.1931, Class 6: 0.4245, \n",
      "Validation F-beta Score\n",
      "Class 0: 0.5660, Class 1: 0.8584, Class 2: 0.0967, Class 3: 0.6549, \n",
      "Class 4: 0.0433, Class 5: 0.3685, Class 6: 0.5013, \n",
      "Overall Mean Dice Score: 0.3815\n",
      "'Overall_mean_f_beta_score': 0.4413\n",
      "\n",
      "Training Loss: 0.7927, Validation Loss: 0.8137\n",
      "Epoch 80/4000\n"
     ]
    },
    {
     "name": "stderr",
     "output_type": "stream",
     "text": [
      "Training: 100%|██████████| 24/24 [00:15<00:00,  1.53it/s, loss=0.849]\n",
      "Validation: 100%|██████████| 4/4 [00:01<00:00,  2.58it/s, loss=0.806]\n"
     ]
    },
    {
     "name": "stdout",
     "output_type": "stream",
     "text": [
      "Validation Dice Score\n",
      "Class 0: 0.7164, Class 1: 0.6946, Class 2: 0.1683, Class 3: 0.6732, \n",
      "Class 4: 0.0174, Class 5: 0.1050, Class 6: 0.4152, \n",
      "Validation F-beta Score\n",
      "Class 0: 0.5744, Class 1: 0.8158, Class 2: 0.4236, Class 3: 0.7719, \n",
      "Class 4: 0.1117, Class 5: 0.2370, Class 6: 0.5985, \n",
      "Overall Mean Dice Score: 0.3986\n",
      "'Overall_mean_f_beta_score': 0.5047\n",
      "\n",
      "Training Loss: 0.8153, Validation Loss: 0.8056\n",
      "Epoch 81/4000\n"
     ]
    },
    {
     "name": "stderr",
     "output_type": "stream",
     "text": [
      "Training: 100%|██████████| 24/24 [00:15<00:00,  1.52it/s, loss=0.815]\n",
      "Validation: 100%|██████████| 4/4 [00:01<00:00,  2.68it/s, loss=0.848]\n"
     ]
    },
    {
     "name": "stdout",
     "output_type": "stream",
     "text": [
      "Validation Dice Score\n",
      "Class 0: 0.7207, Class 1: 0.4982, Class 2: 0.0695, Class 3: 0.6267, \n",
      "Class 4: 0.0331, Class 5: 0.2179, Class 6: 0.3168, \n",
      "Validation F-beta Score\n",
      "Class 0: 0.5801, Class 1: 0.6121, Class 2: 0.2829, Class 3: 0.6484, \n",
      "Class 4: 0.1906, Class 5: 0.3494, Class 6: 0.3980, \n",
      "Overall Mean Dice Score: 0.3547\n",
      "'Overall_mean_f_beta_score': 0.4374\n",
      "\n",
      "Training Loss: 0.8102, Validation Loss: 0.8082\n",
      "Epoch 82/4000\n"
     ]
    },
    {
     "name": "stderr",
     "output_type": "stream",
     "text": [
      "Training: 100%|██████████| 24/24 [00:15<00:00,  1.52it/s, loss=0.761]\n",
      "Validation: 100%|██████████| 4/4 [00:01<00:00,  2.52it/s, loss=0.789]\n"
     ]
    },
    {
     "name": "stdout",
     "output_type": "stream",
     "text": [
      "Validation Dice Score\n",
      "Class 0: 0.7252, Class 1: 0.5633, Class 2: 0.1988, Class 3: 0.5514, \n",
      "Class 4: 0.0068, Class 5: 0.3384, Class 6: 0.4282, \n",
      "Validation F-beta Score\n",
      "Class 0: 0.5859, Class 1: 0.8591, Class 2: 0.4027, Class 3: 0.5906, \n",
      "Class 4: 0.0502, Class 5: 0.4288, Class 6: 0.6550, \n",
      "Overall Mean Dice Score: 0.4017\n",
      "'Overall_mean_f_beta_score': 0.5103\n",
      "\n",
      "Training Loss: 0.8194, Validation Loss: 0.7930\n",
      "Epoch 83/4000\n"
     ]
    },
    {
     "name": "stderr",
     "output_type": "stream",
     "text": [
      "Training: 100%|██████████| 24/24 [00:15<00:00,  1.52it/s, loss=0.838]\n",
      "Validation: 100%|██████████| 4/4 [00:01<00:00,  2.67it/s, loss=0.783]\n"
     ]
    },
    {
     "name": "stdout",
     "output_type": "stream",
     "text": [
      "Validation Dice Score\n",
      "Class 0: 0.7297, Class 1: 0.7756, Class 2: 0.0903, Class 3: 0.5467, \n",
      "Class 4: 0.0014, Class 5: 0.3099, Class 6: 0.1154, \n",
      "Validation F-beta Score\n",
      "Class 0: 0.5905, Class 1: 0.8453, Class 2: 0.1490, Class 3: 0.6359, \n",
      "Class 4: 0.0107, Class 5: 0.4300, Class 6: 0.2374, \n",
      "Overall Mean Dice Score: 0.3670\n",
      "'Overall_mean_f_beta_score': 0.4141\n",
      "\n",
      "Training Loss: 0.8192, Validation Loss: 0.7826\n",
      "Epoch 84/4000\n"
     ]
    },
    {
     "name": "stderr",
     "output_type": "stream",
     "text": [
      "Training: 100%|██████████| 24/24 [00:15<00:00,  1.52it/s, loss=0.829]\n",
      "Validation: 100%|██████████| 4/4 [00:01<00:00,  2.67it/s, loss=0.772]\n"
     ]
    },
    {
     "name": "stdout",
     "output_type": "stream",
     "text": [
      "Validation Dice Score\n",
      "Class 0: 0.7331, Class 1: 0.6700, Class 2: 0.2154, Class 3: 0.5788, \n",
      "Class 4: 0.0149, Class 5: 0.2896, Class 6: 0.2958, \n",
      "Validation F-beta Score\n",
      "Class 0: 0.5962, Class 1: 0.7808, Class 2: 0.4070, Class 3: 0.6020, \n",
      "Class 4: 0.0911, Class 5: 0.4250, Class 6: 0.3998, \n",
      "Overall Mean Dice Score: 0.3997\n",
      "'Overall_mean_f_beta_score': 0.4717\n",
      "\n",
      "Training Loss: 0.8158, Validation Loss: 0.7874\n",
      "Epoch 85/4000\n"
     ]
    },
    {
     "name": "stderr",
     "output_type": "stream",
     "text": [
      "Training: 100%|██████████| 24/24 [00:15<00:00,  1.56it/s, loss=0.763]\n",
      "Validation: 100%|██████████| 4/4 [00:01<00:00,  2.62it/s, loss=0.701]\n"
     ]
    },
    {
     "name": "stdout",
     "output_type": "stream",
     "text": [
      "Validation Dice Score\n",
      "Class 0: 0.7483, Class 1: 0.6806, Class 2: 0.0328, Class 3: 0.3742, \n",
      "Class 4: 0.0267, Class 5: 0.2678, Class 6: 0.5465, \n",
      "Validation F-beta Score\n",
      "Class 0: 0.6154, Class 1: 0.8670, Class 2: 0.0629, Class 3: 0.4217, \n",
      "Class 4: 0.1457, Class 5: 0.3314, Class 6: 0.7065, \n",
      "Overall Mean Dice Score: 0.3824\n",
      "'Overall_mean_f_beta_score': 0.4501\n",
      "\n",
      "Training Loss: 0.8112, Validation Loss: 0.7943\n",
      "Epoch 86/4000\n"
     ]
    },
    {
     "name": "stderr",
     "output_type": "stream",
     "text": [
      "Training: 100%|██████████| 24/24 [00:15<00:00,  1.51it/s, loss=0.856]\n",
      "Validation: 100%|██████████| 4/4 [00:01<00:00,  2.64it/s, loss=0.75] \n"
     ]
    },
    {
     "name": "stdout",
     "output_type": "stream",
     "text": [
      "Validation Dice Score\n",
      "Class 0: 0.7515, Class 1: 0.7591, Class 2: 0.1058, Class 3: 0.6773, \n",
      "Class 4: 0.0020, Class 5: 0.2145, Class 6: 0.4042, \n",
      "Validation F-beta Score\n",
      "Class 0: 0.6188, Class 1: 0.7773, Class 2: 0.2436, Class 3: 0.7334, \n",
      "Class 4: 0.0145, Class 5: 0.3587, Class 6: 0.6070, \n",
      "Overall Mean Dice Score: 0.4163\n",
      "'Overall_mean_f_beta_score': 0.4790\n",
      "\n",
      "Training Loss: 0.8086, Validation Loss: 0.7804\n",
      "Epoch 87/4000\n"
     ]
    },
    {
     "name": "stderr",
     "output_type": "stream",
     "text": [
      "Training: 100%|██████████| 24/24 [00:15<00:00,  1.51it/s, loss=0.757]\n",
      "Validation: 100%|██████████| 4/4 [00:01<00:00,  2.71it/s, loss=0.829]\n"
     ]
    },
    {
     "name": "stdout",
     "output_type": "stream",
     "text": [
      "Validation Dice Score\n",
      "Class 0: 0.7872, Class 1: 0.7728, Class 2: 0.0471, Class 3: 0.5806, \n",
      "Class 4: 0.0191, Class 5: 0.1866, Class 6: 0.3275, \n",
      "Validation F-beta Score\n",
      "Class 0: 0.6644, Class 1: 0.9073, Class 2: 0.1097, Class 3: 0.6038, \n",
      "Class 4: 0.1073, Class 5: 0.3243, Class 6: 0.4951, \n",
      "Overall Mean Dice Score: 0.3887\n",
      "'Overall_mean_f_beta_score': 0.4588\n",
      "\n",
      "Training Loss: 0.8096, Validation Loss: 0.8042\n",
      "Epoch 88/4000\n"
     ]
    },
    {
     "name": "stderr",
     "output_type": "stream",
     "text": [
      "Training: 100%|██████████| 24/24 [00:15<00:00,  1.52it/s, loss=0.842]\n",
      "Validation: 100%|██████████| 4/4 [00:01<00:00,  2.66it/s, loss=0.813]\n"
     ]
    },
    {
     "name": "stdout",
     "output_type": "stream",
     "text": [
      "Validation Dice Score\n",
      "Class 0: 0.8221, Class 1: 0.7903, Class 2: 0.1197, Class 3: 0.6854, \n",
      "Class 4: 0.0165, Class 5: 0.2802, Class 6: 0.3790, \n",
      "Validation F-beta Score\n",
      "Class 0: 0.7129, Class 1: 0.8947, Class 2: 0.2270, Class 3: 0.7315, \n",
      "Class 4: 0.1042, Class 5: 0.4592, Class 6: 0.5757, \n",
      "Overall Mean Dice Score: 0.4419\n",
      "'Overall_mean_f_beta_score': 0.5293\n",
      "\n",
      "Training Loss: 0.8128, Validation Loss: 0.7716\n",
      "========================================================\n",
      "Best model saved with validation loss: 0.7716\n",
      "========================================================\n",
      "Epoch 89/4000\n"
     ]
    },
    {
     "name": "stderr",
     "output_type": "stream",
     "text": [
      "Training: 100%|██████████| 24/24 [00:15<00:00,  1.52it/s, loss=0.764]\n",
      "Validation: 100%|██████████| 4/4 [00:01<00:00,  2.55it/s, loss=0.794]\n"
     ]
    },
    {
     "name": "stdout",
     "output_type": "stream",
     "text": [
      "Validation Dice Score\n",
      "Class 0: 0.9226, Class 1: 0.7539, Class 2: 0.0965, Class 3: 0.5999, \n",
      "Class 4: 0.0667, Class 5: 0.1160, Class 6: 0.3675, \n",
      "Validation F-beta Score\n",
      "Class 0: 0.8661, Class 1: 0.8411, Class 2: 0.2266, Class 3: 0.7267, \n",
      "Class 4: 0.2188, Class 5: 0.2617, Class 6: 0.5630, \n",
      "Overall Mean Dice Score: 0.4176\n",
      "'Overall_mean_f_beta_score': 0.5292\n",
      "\n",
      "Training Loss: 0.8049, Validation Loss: 0.7826\n",
      "Epoch 90/4000\n"
     ]
    },
    {
     "name": "stderr",
     "output_type": "stream",
     "text": [
      "Training: 100%|██████████| 24/24 [00:15<00:00,  1.51it/s, loss=0.765]\n",
      "Validation: 100%|██████████| 4/4 [00:01<00:00,  2.61it/s, loss=0.783]\n"
     ]
    },
    {
     "name": "stdout",
     "output_type": "stream",
     "text": [
      "Validation Dice Score\n",
      "Class 0: 0.9818, Class 1: 0.6872, Class 2: 0.0261, Class 3: 0.5348, \n",
      "Class 4: 0.0500, Class 5: 0.2713, Class 6: 0.4776, \n",
      "Validation F-beta Score\n",
      "Class 0: 0.9722, Class 1: 0.8793, Class 2: 0.0474, Class 3: 0.5801, \n",
      "Class 4: 0.0694, Class 5: 0.3531, Class 6: 0.7973, \n",
      "Overall Mean Dice Score: 0.4327\n",
      "'Overall_mean_f_beta_score': 0.5284\n",
      "\n",
      "Training Loss: 0.8074, Validation Loss: 0.8019\n",
      "Epoch 91/4000\n"
     ]
    },
    {
     "name": "stderr",
     "output_type": "stream",
     "text": [
      "Training: 100%|██████████| 24/24 [00:15<00:00,  1.52it/s, loss=0.849]\n",
      "Validation: 100%|██████████| 4/4 [00:01<00:00,  2.58it/s, loss=0.773]\n"
     ]
    },
    {
     "name": "stdout",
     "output_type": "stream",
     "text": [
      "Validation Dice Score\n",
      "Class 0: 0.9810, Class 1: 0.7744, Class 2: 0.0495, Class 3: 0.5497, \n",
      "Class 4: 0.2025, Class 5: 0.2764, Class 6: 0.6609, \n",
      "Validation F-beta Score\n",
      "Class 0: 0.9706, Class 1: 0.8570, Class 2: 0.0721, Class 3: 0.6290, \n",
      "Class 4: 0.2869, Class 5: 0.3851, Class 6: 0.8594, \n",
      "Overall Mean Dice Score: 0.4992\n",
      "'Overall_mean_f_beta_score': 0.5800\n",
      "\n",
      "Training Loss: 0.8116, Validation Loss: 0.7511\n",
      "========================================================\n",
      "Best model saved with validation loss: 0.7511\n",
      "========================================================\n",
      "Epoch 92/4000\n"
     ]
    },
    {
     "name": "stderr",
     "output_type": "stream",
     "text": [
      "Training: 100%|██████████| 24/24 [00:15<00:00,  1.53it/s, loss=0.827]\n",
      "Validation: 100%|██████████| 4/4 [00:01<00:00,  2.41it/s, loss=0.846]\n"
     ]
    },
    {
     "name": "stdout",
     "output_type": "stream",
     "text": [
      "Validation Dice Score\n",
      "Class 0: 0.9806, Class 1: 0.7237, Class 2: 0.0711, Class 3: 0.5443, \n",
      "Class 4: 0.2427, Class 5: 0.1479, Class 6: 0.1732, \n",
      "Validation F-beta Score\n",
      "Class 0: 0.9695, Class 1: 0.9099, Class 2: 0.1837, Class 3: 0.5867, \n",
      "Class 4: 0.3848, Class 5: 0.2433, Class 6: 0.3244, \n",
      "Overall Mean Dice Score: 0.4119\n",
      "'Overall_mean_f_beta_score': 0.5146\n",
      "\n",
      "Training Loss: 0.8133, Validation Loss: 0.8004\n",
      "Epoch 93/4000\n"
     ]
    },
    {
     "name": "stderr",
     "output_type": "stream",
     "text": [
      "Training: 100%|██████████| 24/24 [00:16<00:00,  1.47it/s, loss=0.735]\n",
      "Validation: 100%|██████████| 4/4 [00:01<00:00,  2.42it/s, loss=0.816]\n"
     ]
    },
    {
     "name": "stdout",
     "output_type": "stream",
     "text": [
      "Validation Dice Score\n",
      "Class 0: 0.9775, Class 1: 0.5728, Class 2: 0.1184, Class 3: 0.6080, \n",
      "Class 4: 0.2075, Class 5: 0.1891, Class 6: 0.4156, \n",
      "Validation F-beta Score\n",
      "Class 0: 0.9639, Class 1: 0.8860, Class 2: 0.2591, Class 3: 0.6443, \n",
      "Class 4: 0.2488, Class 5: 0.4147, Class 6: 0.5332, \n",
      "Overall Mean Dice Score: 0.4413\n",
      "'Overall_mean_f_beta_score': 0.5643\n",
      "\n",
      "Training Loss: 0.7903, Validation Loss: 0.8009\n",
      "Epoch 94/4000\n"
     ]
    },
    {
     "name": "stderr",
     "output_type": "stream",
     "text": [
      "Training: 100%|██████████| 24/24 [00:15<00:00,  1.53it/s, loss=0.816]\n",
      "Validation: 100%|██████████| 4/4 [00:01<00:00,  2.66it/s, loss=0.827]\n"
     ]
    },
    {
     "name": "stdout",
     "output_type": "stream",
     "text": [
      "Validation Dice Score\n",
      "Class 0: 0.9844, Class 1: 0.7880, Class 2: 0.1589, Class 3: 0.5907, \n",
      "Class 4: 0.3032, Class 5: 0.2238, Class 6: 0.7658, \n",
      "Validation F-beta Score\n",
      "Class 0: 0.9762, Class 1: 0.7928, Class 2: 0.3681, Class 3: 0.6610, \n",
      "Class 4: 0.3596, Class 5: 0.4280, Class 6: 0.8081, \n",
      "Overall Mean Dice Score: 0.5450\n",
      "'Overall_mean_f_beta_score': 0.6277\n",
      "\n",
      "Training Loss: 0.7968, Validation Loss: 0.7864\n",
      "Epoch 95/4000\n"
     ]
    },
    {
     "name": "stderr",
     "output_type": "stream",
     "text": [
      "Training: 100%|██████████| 24/24 [00:15<00:00,  1.52it/s, loss=0.787]\n",
      "Validation: 100%|██████████| 4/4 [00:01<00:00,  2.66it/s, loss=0.797]\n"
     ]
    },
    {
     "name": "stdout",
     "output_type": "stream",
     "text": [
      "Validation Dice Score\n",
      "Class 0: 0.9803, Class 1: 0.7325, Class 2: 0.0619, Class 3: 0.6612, \n",
      "Class 4: 0.3104, Class 5: 0.1894, Class 6: 0.4410, \n",
      "Validation F-beta Score\n",
      "Class 0: 0.9676, Class 1: 0.7392, Class 2: 0.1987, Class 3: 0.7675, \n",
      "Class 4: 0.5031, Class 5: 0.3580, Class 6: 0.6047, \n",
      "Overall Mean Dice Score: 0.4824\n",
      "'Overall_mean_f_beta_score': 0.5913\n",
      "\n",
      "Training Loss: 0.7860, Validation Loss: 0.7777\n",
      "Epoch 96/4000\n"
     ]
    },
    {
     "name": "stderr",
     "output_type": "stream",
     "text": [
      "Training: 100%|██████████| 24/24 [00:15<00:00,  1.52it/s, loss=0.784]\n",
      "Validation: 100%|██████████| 4/4 [00:01<00:00,  2.75it/s, loss=0.853]\n"
     ]
    },
    {
     "name": "stdout",
     "output_type": "stream",
     "text": [
      "Validation Dice Score\n",
      "Class 0: 0.9770, Class 1: 0.7109, Class 2: 0.1841, Class 3: 0.6344, \n",
      "Class 4: 0.2030, Class 5: 0.1636, Class 6: 0.3351, \n",
      "Validation F-beta Score\n",
      "Class 0: 0.9616, Class 1: 0.8858, Class 2: 0.3312, Class 3: 0.7451, \n",
      "Class 4: 0.3344, Class 5: 0.2653, Class 6: 0.4295, \n",
      "Overall Mean Dice Score: 0.4583\n",
      "'Overall_mean_f_beta_score': 0.5647\n",
      "\n",
      "Training Loss: 0.8061, Validation Loss: 0.7905\n",
      "Epoch 97/4000\n"
     ]
    },
    {
     "name": "stderr",
     "output_type": "stream",
     "text": [
      "Training: 100%|██████████| 24/24 [00:15<00:00,  1.53it/s, loss=0.805]\n",
      "Validation: 100%|██████████| 4/4 [00:01<00:00,  2.71it/s, loss=0.794]\n"
     ]
    },
    {
     "name": "stdout",
     "output_type": "stream",
     "text": [
      "Validation Dice Score\n",
      "Class 0: 0.9855, Class 1: 0.7265, Class 2: 0.1566, Class 3: 0.5683, \n",
      "Class 4: 0.2273, Class 5: 0.3605, Class 6: 0.7360, \n",
      "Validation F-beta Score\n",
      "Class 0: 0.9781, Class 1: 0.7770, Class 2: 0.3396, Class 3: 0.6171, \n",
      "Class 4: 0.3705, Class 5: 0.4777, Class 6: 0.7164, \n",
      "Overall Mean Dice Score: 0.5372\n",
      "'Overall_mean_f_beta_score': 0.6109\n",
      "\n",
      "Training Loss: 0.8049, Validation Loss: 0.7623\n",
      "Epoch 98/4000\n"
     ]
    },
    {
     "name": "stderr",
     "output_type": "stream",
     "text": [
      "Training: 100%|██████████| 24/24 [00:15<00:00,  1.54it/s, loss=0.875]\n",
      "Validation: 100%|██████████| 4/4 [00:01<00:00,  2.62it/s, loss=0.81] \n"
     ]
    },
    {
     "name": "stdout",
     "output_type": "stream",
     "text": [
      "Validation Dice Score\n",
      "Class 0: 0.9801, Class 1: 0.6412, Class 2: 0.2863, Class 3: 0.6447, \n",
      "Class 4: 0.2743, Class 5: 0.2037, Class 6: 0.4627, \n",
      "Validation F-beta Score\n",
      "Class 0: 0.9680, Class 1: 0.8148, Class 2: 0.3377, Class 3: 0.6306, \n",
      "Class 4: 0.5455, Class 5: 0.3401, Class 6: 0.5865, \n",
      "Overall Mean Dice Score: 0.4990\n",
      "'Overall_mean_f_beta_score': 0.6033\n",
      "\n",
      "Training Loss: 0.7897, Validation Loss: 0.7876\n",
      "Epoch 99/4000\n"
     ]
    },
    {
     "name": "stderr",
     "output_type": "stream",
     "text": [
      "Training: 100%|██████████| 24/24 [00:15<00:00,  1.53it/s, loss=0.817]\n",
      "Validation: 100%|██████████| 4/4 [00:01<00:00,  2.65it/s, loss=0.797]\n"
     ]
    },
    {
     "name": "stdout",
     "output_type": "stream",
     "text": [
      "Validation Dice Score\n",
      "Class 0: 0.9808, Class 1: 0.6623, Class 2: 0.1470, Class 3: 0.6401, \n",
      "Class 4: 0.2097, Class 5: 0.1934, Class 6: 0.5059, \n",
      "Validation F-beta Score\n",
      "Class 0: 0.9681, Class 1: 0.8693, Class 2: 0.2278, Class 3: 0.6839, \n",
      "Class 4: 0.2815, Class 5: 0.4145, Class 6: 0.6668, \n",
      "Overall Mean Dice Score: 0.4770\n",
      "'Overall_mean_f_beta_score': 0.5874\n",
      "\n",
      "Training Loss: 0.8034, Validation Loss: 0.7900\n",
      "Epoch 100/4000\n"
     ]
    },
    {
     "name": "stderr",
     "output_type": "stream",
     "text": [
      "Training: 100%|██████████| 24/24 [00:15<00:00,  1.53it/s, loss=0.766]\n",
      "Validation: 100%|██████████| 4/4 [00:01<00:00,  2.66it/s, loss=0.744]\n"
     ]
    },
    {
     "name": "stdout",
     "output_type": "stream",
     "text": [
      "Validation Dice Score\n",
      "Class 0: 0.9837, Class 1: 0.6759, Class 2: 0.1275, Class 3: 0.5814, \n",
      "Class 4: 0.1592, Class 5: 0.1358, Class 6: 0.5048, \n",
      "Validation F-beta Score\n",
      "Class 0: 0.9748, Class 1: 0.8484, Class 2: 0.3574, Class 3: 0.7222, \n",
      "Class 4: 0.1878, Class 5: 0.2095, Class 6: 0.5872, \n",
      "Overall Mean Dice Score: 0.4526\n",
      "'Overall_mean_f_beta_score': 0.5553\n",
      "\n",
      "Training Loss: 0.7994, Validation Loss: 0.7888\n",
      "Epoch 101/4000\n"
     ]
    },
    {
     "name": "stderr",
     "output_type": "stream",
     "text": [
      "Training: 100%|██████████| 24/24 [00:15<00:00,  1.53it/s, loss=0.792]\n",
      "Validation: 100%|██████████| 4/4 [00:01<00:00,  2.61it/s, loss=0.818]\n"
     ]
    },
    {
     "name": "stdout",
     "output_type": "stream",
     "text": [
      "Validation Dice Score\n",
      "Class 0: 0.9803, Class 1: 0.7293, Class 2: 0.0535, Class 3: 0.5898, \n",
      "Class 4: 0.4402, Class 5: 0.3138, Class 6: 0.0407, \n",
      "Validation F-beta Score\n",
      "Class 0: 0.9704, Class 1: 0.8218, Class 2: 0.1659, Class 3: 0.6446, \n",
      "Class 4: 0.4496, Class 5: 0.4767, Class 6: 0.0741, \n",
      "Overall Mean Dice Score: 0.4496\n",
      "'Overall_mean_f_beta_score': 0.5147\n",
      "\n",
      "Training Loss: 0.7899, Validation Loss: 0.7832\n",
      "Epoch 102/4000\n"
     ]
    },
    {
     "name": "stderr",
     "output_type": "stream",
     "text": [
      "Training: 100%|██████████| 24/24 [00:15<00:00,  1.55it/s, loss=0.759]\n",
      "Validation: 100%|██████████| 4/4 [00:01<00:00,  2.62it/s, loss=0.787]\n"
     ]
    },
    {
     "name": "stdout",
     "output_type": "stream",
     "text": [
      "Validation Dice Score\n",
      "Class 0: 0.9803, Class 1: 0.7811, Class 2: 0.1102, Class 3: 0.6031, \n",
      "Class 4: 0.3793, Class 5: 0.2734, Class 6: 0.4721, \n",
      "Validation F-beta Score\n",
      "Class 0: 0.9721, Class 1: 0.9057, Class 2: 0.2186, Class 3: 0.5840, \n",
      "Class 4: 0.4151, Class 5: 0.4227, Class 6: 0.5950, \n",
      "Overall Mean Dice Score: 0.5142\n",
      "'Overall_mean_f_beta_score': 0.5876\n",
      "\n",
      "Training Loss: 0.7930, Validation Loss: 0.7373\n",
      "========================================================\n",
      "Best model saved with validation loss: 0.7373\n",
      "========================================================\n",
      "Epoch 103/4000\n"
     ]
    },
    {
     "name": "stderr",
     "output_type": "stream",
     "text": [
      "Training: 100%|██████████| 24/24 [00:15<00:00,  1.53it/s, loss=0.818]\n",
      "Validation: 100%|██████████| 4/4 [00:01<00:00,  2.64it/s, loss=0.749]\n"
     ]
    },
    {
     "name": "stdout",
     "output_type": "stream",
     "text": [
      "Validation Dice Score\n",
      "Class 0: 0.9815, Class 1: 0.7580, Class 2: 0.0976, Class 3: 0.5167, \n",
      "Class 4: 0.3453, Class 5: 0.2502, Class 6: 0.7248, \n",
      "Validation F-beta Score\n",
      "Class 0: 0.9706, Class 1: 0.8133, Class 2: 0.3420, Class 3: 0.6036, \n",
      "Class 4: 0.4755, Class 5: 0.3920, Class 6: 0.8566, \n",
      "Overall Mean Dice Score: 0.5249\n",
      "'Overall_mean_f_beta_score': 0.6362\n",
      "\n",
      "Training Loss: 0.7884, Validation Loss: 0.7793\n",
      "Epoch 104/4000\n"
     ]
    },
    {
     "name": "stderr",
     "output_type": "stream",
     "text": [
      "Training: 100%|██████████| 24/24 [00:15<00:00,  1.52it/s, loss=0.822]\n",
      "Validation: 100%|██████████| 4/4 [00:01<00:00,  2.66it/s, loss=0.773]\n"
     ]
    },
    {
     "name": "stdout",
     "output_type": "stream",
     "text": [
      "Validation Dice Score\n",
      "Class 0: 0.9826, Class 1: 0.7486, Class 2: 0.1211, Class 3: 0.5228, \n",
      "Class 4: 0.3406, Class 5: 0.2245, Class 6: 0.6547, \n",
      "Validation F-beta Score\n",
      "Class 0: 0.9765, Class 1: 0.8835, Class 2: 0.3087, Class 3: 0.5605, \n",
      "Class 4: 0.4232, Class 5: 0.3084, Class 6: 0.8273, \n",
      "Overall Mean Dice Score: 0.5136\n",
      "'Overall_mean_f_beta_score': 0.6126\n",
      "\n",
      "Training Loss: 0.8059, Validation Loss: 0.7348\n",
      "========================================================\n",
      "Best model saved with validation loss: 0.7348\n",
      "========================================================\n",
      "Epoch 105/4000\n"
     ]
    },
    {
     "name": "stderr",
     "output_type": "stream",
     "text": [
      "Training: 100%|██████████| 24/24 [00:15<00:00,  1.52it/s, loss=0.82] \n",
      "Validation: 100%|██████████| 4/4 [00:01<00:00,  2.62it/s, loss=0.808]\n"
     ]
    },
    {
     "name": "stdout",
     "output_type": "stream",
     "text": [
      "Validation Dice Score\n",
      "Class 0: 0.9820, Class 1: 0.7044, Class 2: 0.0572, Class 3: 0.5567, \n",
      "Class 4: 0.3089, Class 5: 0.1707, Class 6: 0.3374, \n",
      "Validation F-beta Score\n",
      "Class 0: 0.9706, Class 1: 0.9113, Class 2: 0.1278, Class 3: 0.6142, \n",
      "Class 4: 0.4857, Class 5: 0.2969, Class 6: 0.3727, \n",
      "Overall Mean Dice Score: 0.4453\n",
      "'Overall_mean_f_beta_score': 0.5399\n",
      "\n",
      "Training Loss: 0.8033, Validation Loss: 0.8243\n",
      "Epoch 106/4000\n"
     ]
    },
    {
     "name": "stderr",
     "output_type": "stream",
     "text": [
      "Training: 100%|██████████| 24/24 [00:15<00:00,  1.53it/s, loss=0.821]\n",
      "Validation: 100%|██████████| 4/4 [00:01<00:00,  2.70it/s, loss=0.741]\n"
     ]
    },
    {
     "name": "stdout",
     "output_type": "stream",
     "text": [
      "Validation Dice Score\n",
      "Class 0: 0.9817, Class 1: 0.7442, Class 2: 0.1482, Class 3: 0.5265, \n",
      "Class 4: 0.3488, Class 5: 0.3137, Class 6: 0.5336, \n",
      "Validation F-beta Score\n",
      "Class 0: 0.9713, Class 1: 0.8227, Class 2: 0.3716, Class 3: 0.6435, \n",
      "Class 4: 0.5830, Class 5: 0.4150, Class 6: 0.6299, \n",
      "Overall Mean Dice Score: 0.5138\n",
      "'Overall_mean_f_beta_score': 0.6339\n",
      "\n",
      "Training Loss: 0.7920, Validation Loss: 0.7421\n",
      "Epoch 107/4000\n"
     ]
    },
    {
     "name": "stderr",
     "output_type": "stream",
     "text": [
      "Training: 100%|██████████| 24/24 [00:15<00:00,  1.52it/s, loss=0.756]\n",
      "Validation: 100%|██████████| 4/4 [00:01<00:00,  2.66it/s, loss=0.784]\n"
     ]
    },
    {
     "name": "stdout",
     "output_type": "stream",
     "text": [
      "Validation Dice Score\n",
      "Class 0: 0.9824, Class 1: 0.7706, Class 2: 0.1445, Class 3: 0.6387, \n",
      "Class 4: 0.3027, Class 5: 0.2438, Class 6: 0.4853, \n",
      "Validation F-beta Score\n",
      "Class 0: 0.9733, Class 1: 0.7956, Class 2: 0.3114, Class 3: 0.7004, \n",
      "Class 4: 0.4883, Class 5: 0.2731, Class 6: 0.5394, \n",
      "Overall Mean Dice Score: 0.5097\n",
      "'Overall_mean_f_beta_score': 0.5831\n",
      "\n",
      "Training Loss: 0.7770, Validation Loss: 0.7563\n",
      "Epoch 108/4000\n"
     ]
    },
    {
     "name": "stderr",
     "output_type": "stream",
     "text": [
      "Training: 100%|██████████| 24/24 [00:15<00:00,  1.51it/s, loss=0.793]\n",
      "Validation: 100%|██████████| 4/4 [00:01<00:00,  2.72it/s, loss=0.752]\n"
     ]
    },
    {
     "name": "stdout",
     "output_type": "stream",
     "text": [
      "Validation Dice Score\n",
      "Class 0: 0.9845, Class 1: 0.7312, Class 2: 0.2153, Class 3: 0.5467, \n",
      "Class 4: 0.2997, Class 5: 0.1329, Class 6: 0.3900, \n",
      "Validation F-beta Score\n",
      "Class 0: 0.9746, Class 1: 0.8676, Class 2: 0.3796, Class 3: 0.5766, \n",
      "Class 4: 0.4387, Class 5: 0.2975, Class 6: 0.4463, \n",
      "Overall Mean Dice Score: 0.4715\n",
      "'Overall_mean_f_beta_score': 0.5687\n",
      "\n",
      "Training Loss: 0.7925, Validation Loss: 0.7850\n",
      "Epoch 109/4000\n"
     ]
    },
    {
     "name": "stderr",
     "output_type": "stream",
     "text": [
      "Training: 100%|██████████| 24/24 [00:15<00:00,  1.52it/s, loss=0.855]\n",
      "Validation: 100%|██████████| 4/4 [00:01<00:00,  2.69it/s, loss=0.781]\n"
     ]
    },
    {
     "name": "stdout",
     "output_type": "stream",
     "text": [
      "Validation Dice Score\n",
      "Class 0: 0.9845, Class 1: 0.7185, Class 2: 0.1506, Class 3: 0.7109, \n",
      "Class 4: 0.2940, Class 5: 0.2657, Class 6: 0.4146, \n",
      "Validation F-beta Score\n",
      "Class 0: 0.9778, Class 1: 0.8140, Class 2: 0.2415, Class 3: 0.7574, \n",
      "Class 4: 0.4271, Class 5: 0.3876, Class 6: 0.5800, \n",
      "Overall Mean Dice Score: 0.5055\n",
      "'Overall_mean_f_beta_score': 0.5979\n",
      "\n",
      "Training Loss: 0.7966, Validation Loss: 0.7241\n",
      "========================================================\n",
      "Best model saved with validation loss: 0.7241\n",
      "========================================================\n",
      "Epoch 110/4000\n"
     ]
    },
    {
     "name": "stderr",
     "output_type": "stream",
     "text": [
      "Training: 100%|██████████| 24/24 [00:15<00:00,  1.52it/s, loss=0.796]\n",
      "Validation: 100%|██████████| 4/4 [00:01<00:00,  2.61it/s, loss=0.778]\n"
     ]
    },
    {
     "name": "stdout",
     "output_type": "stream",
     "text": [
      "Validation Dice Score\n",
      "Class 0: 0.9829, Class 1: 0.6035, Class 2: 0.0819, Class 3: 0.6324, \n",
      "Class 4: 0.4727, Class 5: 0.2905, Class 6: 0.4823, \n",
      "Validation F-beta Score\n",
      "Class 0: 0.9752, Class 1: 0.6750, Class 2: 0.1482, Class 3: 0.7063, \n",
      "Class 4: 0.4723, Class 5: 0.4396, Class 6: 0.5964, \n",
      "Overall Mean Dice Score: 0.5066\n",
      "'Overall_mean_f_beta_score': 0.5733\n",
      "\n",
      "Training Loss: 0.7893, Validation Loss: 0.7442\n",
      "Epoch 111/4000\n"
     ]
    },
    {
     "name": "stderr",
     "output_type": "stream",
     "text": [
      "Training: 100%|██████████| 24/24 [00:15<00:00,  1.52it/s, loss=0.801]\n",
      "Validation: 100%|██████████| 4/4 [00:01<00:00,  2.58it/s, loss=0.794]\n"
     ]
    },
    {
     "name": "stdout",
     "output_type": "stream",
     "text": [
      "Validation Dice Score\n",
      "Class 0: 0.9816, Class 1: 0.7154, Class 2: 0.0563, Class 3: 0.6108, \n",
      "Class 4: 0.3216, Class 5: 0.2635, Class 6: 0.6040, \n",
      "Validation F-beta Score\n",
      "Class 0: 0.9753, Class 1: 0.8703, Class 2: 0.1181, Class 3: 0.6782, \n",
      "Class 4: 0.4422, Class 5: 0.3956, Class 6: 0.6809, \n",
      "Overall Mean Dice Score: 0.5076\n",
      "'Overall_mean_f_beta_score': 0.5944\n",
      "\n",
      "Training Loss: 0.7839, Validation Loss: 0.7705\n",
      "Epoch 112/4000\n"
     ]
    },
    {
     "name": "stderr",
     "output_type": "stream",
     "text": [
      "Training: 100%|██████████| 24/24 [00:15<00:00,  1.52it/s, loss=0.738]\n",
      "Validation: 100%|██████████| 4/4 [00:01<00:00,  2.63it/s, loss=0.724]\n"
     ]
    },
    {
     "name": "stdout",
     "output_type": "stream",
     "text": [
      "Validation Dice Score\n",
      "Class 0: 0.9864, Class 1: 0.6722, Class 2: 0.1042, Class 3: 0.6369, \n",
      "Class 4: 0.3469, Class 5: 0.2425, Class 6: 0.3711, \n",
      "Validation F-beta Score\n",
      "Class 0: 0.9798, Class 1: 0.8601, Class 2: 0.1495, Class 3: 0.6448, \n",
      "Class 4: 0.5549, Class 5: 0.3159, Class 6: 0.3377, \n",
      "Overall Mean Dice Score: 0.4800\n",
      "'Overall_mean_f_beta_score': 0.5490\n",
      "\n",
      "Training Loss: 0.8015, Validation Loss: 0.7691\n",
      "Epoch 113/4000\n"
     ]
    },
    {
     "name": "stderr",
     "output_type": "stream",
     "text": [
      "Training: 100%|██████████| 24/24 [00:15<00:00,  1.54it/s, loss=0.774]\n",
      "Validation: 100%|██████████| 4/4 [00:01<00:00,  2.71it/s, loss=0.788]\n"
     ]
    },
    {
     "name": "stdout",
     "output_type": "stream",
     "text": [
      "Validation Dice Score\n",
      "Class 0: 0.9857, Class 1: 0.8032, Class 2: 0.1198, Class 3: 0.5714, \n",
      "Class 4: 0.2917, Class 5: 0.1714, Class 6: 0.7527, \n",
      "Validation F-beta Score\n",
      "Class 0: 0.9787, Class 1: 0.8352, Class 2: 0.3253, Class 3: 0.6755, \n",
      "Class 4: 0.3672, Class 5: 0.3062, Class 6: 0.8019, \n",
      "Overall Mean Dice Score: 0.5280\n",
      "'Overall_mean_f_beta_score': 0.6129\n",
      "\n",
      "Training Loss: 0.7931, Validation Loss: 0.7921\n",
      "Epoch 114/4000\n"
     ]
    },
    {
     "name": "stderr",
     "output_type": "stream",
     "text": [
      "Training: 100%|██████████| 24/24 [00:15<00:00,  1.51it/s, loss=0.773]\n",
      "Validation: 100%|██████████| 4/4 [00:01<00:00,  2.57it/s, loss=0.8]  \n"
     ]
    },
    {
     "name": "stdout",
     "output_type": "stream",
     "text": [
      "Validation Dice Score\n",
      "Class 0: 0.9801, Class 1: 0.5679, Class 2: 0.2325, Class 3: 0.6231, \n",
      "Class 4: 0.4171, Class 5: 0.2199, Class 6: 0.2617, \n",
      "Validation F-beta Score\n",
      "Class 0: 0.9680, Class 1: 0.8271, Class 2: 0.5263, Class 3: 0.6071, \n",
      "Class 4: 0.6196, Class 5: 0.4068, Class 6: 0.5288, \n",
      "Overall Mean Dice Score: 0.4718\n",
      "'Overall_mean_f_beta_score': 0.6405\n",
      "\n",
      "Training Loss: 0.8001, Validation Loss: 0.7711\n",
      "Epoch 115/4000\n"
     ]
    },
    {
     "name": "stderr",
     "output_type": "stream",
     "text": [
      "Training: 100%|██████████| 24/24 [00:15<00:00,  1.53it/s, loss=0.73] \n",
      "Validation: 100%|██████████| 4/4 [00:01<00:00,  2.72it/s, loss=0.743]\n"
     ]
    },
    {
     "name": "stdout",
     "output_type": "stream",
     "text": [
      "Validation Dice Score\n",
      "Class 0: 0.9831, Class 1: 0.8252, Class 2: 0.0014, Class 3: 0.5516, \n",
      "Class 4: 0.2696, Class 5: 0.3559, Class 6: 0.5667, \n",
      "Validation F-beta Score\n",
      "Class 0: 0.9772, Class 1: 0.8350, Class 2: 0.0026, Class 3: 0.5944, \n",
      "Class 4: 0.3105, Class 5: 0.4474, Class 6: 0.6339, \n",
      "Overall Mean Dice Score: 0.5077\n",
      "'Overall_mean_f_beta_score': 0.5430\n",
      "\n",
      "Training Loss: 0.7999, Validation Loss: 0.7314\n",
      "Epoch 116/4000\n"
     ]
    },
    {
     "name": "stderr",
     "output_type": "stream",
     "text": [
      "Training: 100%|██████████| 24/24 [00:15<00:00,  1.52it/s, loss=0.746]\n",
      "Validation: 100%|██████████| 4/4 [00:01<00:00,  2.69it/s, loss=0.797]\n"
     ]
    },
    {
     "name": "stdout",
     "output_type": "stream",
     "text": [
      "Validation Dice Score\n",
      "Class 0: 0.9852, Class 1: 0.7681, Class 2: 0.0297, Class 3: 0.5502, \n",
      "Class 4: 0.1318, Class 5: 0.1456, Class 6: 0.6521, \n",
      "Validation F-beta Score\n",
      "Class 0: 0.9765, Class 1: 0.7795, Class 2: 0.0926, Class 3: 0.5761, \n",
      "Class 4: 0.3045, Class 5: 0.1856, Class 6: 0.8703, \n",
      "Overall Mean Dice Score: 0.4661\n",
      "'Overall_mean_f_beta_score': 0.5407\n",
      "\n",
      "Training Loss: 0.7866, Validation Loss: 0.8007\n",
      "Epoch 117/4000\n"
     ]
    },
    {
     "name": "stderr",
     "output_type": "stream",
     "text": [
      "Training: 100%|██████████| 24/24 [00:15<00:00,  1.53it/s, loss=0.82] \n",
      "Validation: 100%|██████████| 4/4 [00:01<00:00,  2.60it/s, loss=0.783]\n"
     ]
    },
    {
     "name": "stdout",
     "output_type": "stream",
     "text": [
      "Validation Dice Score\n",
      "Class 0: 0.9855, Class 1: 0.7601, Class 2: 0.0009, Class 3: 0.5836, \n",
      "Class 4: 0.1089, Class 5: 0.3076, Class 6: 0.6372, \n",
      "Validation F-beta Score\n",
      "Class 0: 0.9777, Class 1: 0.8732, Class 2: 0.0026, Class 3: 0.7313, \n",
      "Class 4: 0.1542, Class 5: 0.4605, Class 6: 0.6420, \n",
      "Overall Mean Dice Score: 0.4834\n",
      "'Overall_mean_f_beta_score': 0.5488\n",
      "\n",
      "Training Loss: 0.7958, Validation Loss: 0.7670\n",
      "Epoch 118/4000\n"
     ]
    },
    {
     "name": "stderr",
     "output_type": "stream",
     "text": [
      "Training: 100%|██████████| 24/24 [00:15<00:00,  1.54it/s, loss=0.747]\n",
      "Validation: 100%|██████████| 4/4 [00:01<00:00,  2.66it/s, loss=0.739]\n"
     ]
    },
    {
     "name": "stdout",
     "output_type": "stream",
     "text": [
      "Validation Dice Score\n",
      "Class 0: 0.9804, Class 1: 0.7285, Class 2: 0.0475, Class 3: 0.4925, \n",
      "Class 4: 0.1668, Class 5: 0.2127, Class 6: 0.7243, \n",
      "Validation F-beta Score\n",
      "Class 0: 0.9670, Class 1: 0.8375, Class 2: 0.1288, Class 3: 0.5527, \n",
      "Class 4: 0.3766, Class 5: 0.3420, Class 6: 0.8530, \n",
      "Overall Mean Dice Score: 0.4790\n",
      "'Overall_mean_f_beta_score': 0.5797\n",
      "\n",
      "Training Loss: 0.7835, Validation Loss: 0.7791\n",
      "Epoch 119/4000\n"
     ]
    },
    {
     "name": "stderr",
     "output_type": "stream",
     "text": [
      "Training: 100%|██████████| 24/24 [00:15<00:00,  1.54it/s, loss=0.773]\n",
      "Validation: 100%|██████████| 4/4 [00:01<00:00,  2.67it/s, loss=0.8]  \n"
     ]
    },
    {
     "name": "stdout",
     "output_type": "stream",
     "text": [
      "Validation Dice Score\n",
      "Class 0: 0.9816, Class 1: 0.6092, Class 2: 0.0010, Class 3: 0.6223, \n",
      "Class 4: 0.3536, Class 5: 0.2866, Class 6: 0.2081, \n",
      "Validation F-beta Score\n",
      "Class 0: 0.9694, Class 1: 0.7375, Class 2: 0.0032, Class 3: 0.7355, \n",
      "Class 4: 0.3720, Class 5: 0.4669, Class 6: 0.3139, \n",
      "Overall Mean Dice Score: 0.4375\n",
      "'Overall_mean_f_beta_score': 0.5141\n",
      "\n",
      "Training Loss: 0.7867, Validation Loss: 0.7930\n",
      "Epoch 120/4000\n"
     ]
    },
    {
     "name": "stderr",
     "output_type": "stream",
     "text": [
      "Training: 100%|██████████| 24/24 [00:15<00:00,  1.53it/s, loss=0.799]\n",
      "Validation: 100%|██████████| 4/4 [00:01<00:00,  2.67it/s, loss=0.802]\n"
     ]
    },
    {
     "name": "stdout",
     "output_type": "stream",
     "text": [
      "Validation Dice Score\n",
      "Class 0: 0.9859, Class 1: 0.7632, Class 2: 0.2099, Class 3: 0.4636, \n",
      "Class 4: 0.6008, Class 5: 0.2057, Class 6: 0.3974, \n",
      "Validation F-beta Score\n",
      "Class 0: 0.9773, Class 1: 0.7865, Class 2: 0.4096, Class 3: 0.5611, \n",
      "Class 4: 0.6517, Class 5: 0.4655, Class 6: 0.4197, \n",
      "Overall Mean Dice Score: 0.5181\n",
      "'Overall_mean_f_beta_score': 0.6102\n",
      "\n",
      "Training Loss: 0.7798, Validation Loss: 0.7852\n",
      "Epoch 121/4000\n"
     ]
    },
    {
     "name": "stderr",
     "output_type": "stream",
     "text": [
      "Training: 100%|██████████| 24/24 [00:15<00:00,  1.52it/s, loss=0.843]\n",
      "Validation: 100%|██████████| 4/4 [00:01<00:00,  2.69it/s, loss=0.806]\n"
     ]
    },
    {
     "name": "stdout",
     "output_type": "stream",
     "text": [
      "Validation Dice Score\n",
      "Class 0: 0.9850, Class 1: 0.6631, Class 2: 0.2133, Class 3: 0.5668, \n",
      "Class 4: 0.3574, Class 5: 0.3372, Class 6: 0.7344, \n",
      "Validation F-beta Score\n",
      "Class 0: 0.9789, Class 1: 0.8859, Class 2: 0.4028, Class 3: 0.6147, \n",
      "Class 4: 0.3784, Class 5: 0.4790, Class 6: 0.7892, \n",
      "Overall Mean Dice Score: 0.5510\n",
      "'Overall_mean_f_beta_score': 0.6470\n",
      "\n",
      "Training Loss: 0.7873, Validation Loss: 0.7513\n",
      "Epoch 122/4000\n"
     ]
    },
    {
     "name": "stderr",
     "output_type": "stream",
     "text": [
      "Training: 100%|██████████| 24/24 [00:15<00:00,  1.54it/s, loss=0.753]\n",
      "Validation: 100%|██████████| 4/4 [00:01<00:00,  2.69it/s, loss=0.781]\n"
     ]
    },
    {
     "name": "stdout",
     "output_type": "stream",
     "text": [
      "Validation Dice Score\n",
      "Class 0: 0.9844, Class 1: 0.7484, Class 2: 0.1277, Class 3: 0.5442, \n",
      "Class 4: 0.2468, Class 5: 0.1827, Class 6: 0.5689, \n",
      "Validation F-beta Score\n",
      "Class 0: 0.9754, Class 1: 0.8810, Class 2: 0.2799, Class 3: 0.6518, \n",
      "Class 4: 0.4143, Class 5: 0.3616, Class 6: 0.5841, \n",
      "Overall Mean Dice Score: 0.4861\n",
      "'Overall_mean_f_beta_score': 0.5926\n",
      "\n",
      "Training Loss: 0.7904, Validation Loss: 0.7913\n",
      "Epoch 123/4000\n"
     ]
    },
    {
     "name": "stderr",
     "output_type": "stream",
     "text": [
      "Training: 100%|██████████| 24/24 [00:15<00:00,  1.52it/s, loss=0.771]\n",
      "Validation: 100%|██████████| 4/4 [00:01<00:00,  2.70it/s, loss=0.725]\n"
     ]
    },
    {
     "name": "stdout",
     "output_type": "stream",
     "text": [
      "Validation Dice Score\n",
      "Class 0: 0.9798, Class 1: 0.7710, Class 2: 0.0773, Class 3: 0.5111, \n",
      "Class 4: 0.3641, Class 5: 0.3120, Class 6: 0.6004, \n",
      "Validation F-beta Score\n",
      "Class 0: 0.9710, Class 1: 0.8961, Class 2: 0.1195, Class 3: 0.5545, \n",
      "Class 4: 0.4654, Class 5: 0.4699, Class 6: 0.6194, \n",
      "Overall Mean Dice Score: 0.5166\n",
      "'Overall_mean_f_beta_score': 0.5851\n",
      "\n",
      "Training Loss: 0.7921, Validation Loss: 0.7271\n",
      "Epoch 124/4000\n"
     ]
    },
    {
     "name": "stderr",
     "output_type": "stream",
     "text": [
      "Training: 100%|██████████| 24/24 [00:15<00:00,  1.52it/s, loss=0.721]\n",
      "Validation: 100%|██████████| 4/4 [00:01<00:00,  2.67it/s, loss=0.783]\n"
     ]
    },
    {
     "name": "stdout",
     "output_type": "stream",
     "text": [
      "Validation Dice Score\n",
      "Class 0: 0.9834, Class 1: 0.8325, Class 2: 0.0582, Class 3: 0.5487, \n",
      "Class 4: 0.3406, Class 5: 0.2166, Class 6: 0.5330, \n",
      "Validation F-beta Score\n",
      "Class 0: 0.9760, Class 1: 0.8711, Class 2: 0.1247, Class 3: 0.5828, \n",
      "Class 4: 0.2993, Class 5: 0.4304, Class 6: 0.5611, \n",
      "Overall Mean Dice Score: 0.5018\n",
      "'Overall_mean_f_beta_score': 0.5493\n",
      "\n",
      "Training Loss: 0.7789, Validation Loss: 0.7795\n",
      "Epoch 125/4000\n"
     ]
    },
    {
     "name": "stderr",
     "output_type": "stream",
     "text": [
      "Training: 100%|██████████| 24/24 [00:15<00:00,  1.53it/s, loss=0.77] \n",
      "Validation: 100%|██████████| 4/4 [00:01<00:00,  2.70it/s, loss=0.703]\n"
     ]
    },
    {
     "name": "stdout",
     "output_type": "stream",
     "text": [
      "Validation Dice Score\n",
      "Class 0: 0.9794, Class 1: 0.8380, Class 2: 0.0001, Class 3: 0.6673, \n",
      "Class 4: 0.3606, Class 5: 0.2955, Class 6: 0.6832, \n",
      "Validation F-beta Score\n",
      "Class 0: 0.9692, Class 1: 0.7963, Class 2: 0.0003, Class 3: 0.6758, \n",
      "Class 4: 0.4482, Class 5: 0.5449, Class 6: 0.8397, \n",
      "Overall Mean Dice Score: 0.5463\n",
      "'Overall_mean_f_beta_score': 0.6106\n",
      "\n",
      "Training Loss: 0.7969, Validation Loss: 0.7269\n",
      "Epoch 126/4000\n"
     ]
    },
    {
     "name": "stderr",
     "output_type": "stream",
     "text": [
      "Training: 100%|██████████| 24/24 [00:15<00:00,  1.54it/s, loss=0.766]\n",
      "Validation: 100%|██████████| 4/4 [00:01<00:00,  2.67it/s, loss=0.7]  \n"
     ]
    },
    {
     "name": "stdout",
     "output_type": "stream",
     "text": [
      "Validation Dice Score\n",
      "Class 0: 0.9840, Class 1: 0.7951, Class 2: 0.1930, Class 3: 0.5444, \n",
      "Class 4: 0.2006, Class 5: 0.2739, Class 6: 0.5784, \n",
      "Validation F-beta Score\n",
      "Class 0: 0.9737, Class 1: 0.7626, Class 2: 0.3924, Class 3: 0.5849, \n",
      "Class 4: 0.4865, Class 5: 0.5309, Class 6: 0.6018, \n",
      "Overall Mean Dice Score: 0.5099\n",
      "'Overall_mean_f_beta_score': 0.6190\n",
      "\n",
      "Training Loss: 0.8026, Validation Loss: 0.7425\n",
      "Epoch 127/4000\n"
     ]
    },
    {
     "name": "stderr",
     "output_type": "stream",
     "text": [
      "Training: 100%|██████████| 24/24 [00:15<00:00,  1.54it/s, loss=0.845]\n",
      "Validation: 100%|██████████| 4/4 [00:01<00:00,  2.71it/s, loss=0.793]\n"
     ]
    },
    {
     "name": "stdout",
     "output_type": "stream",
     "text": [
      "Validation Dice Score\n",
      "Class 0: 0.9830, Class 1: 0.7996, Class 2: 0.1053, Class 3: 0.4869, \n",
      "Class 4: 0.4181, Class 5: 0.3983, Class 6: 0.5692, \n",
      "Validation F-beta Score\n",
      "Class 0: 0.9760, Class 1: 0.7851, Class 2: 0.2634, Class 3: 0.6353, \n",
      "Class 4: 0.4419, Class 5: 0.5913, Class 6: 0.5730, \n",
      "Overall Mean Dice Score: 0.5372\n",
      "'Overall_mean_f_beta_score': 0.6094\n",
      "\n",
      "Training Loss: 0.7946, Validation Loss: 0.7510\n",
      "Epoch 128/4000\n"
     ]
    },
    {
     "name": "stderr",
     "output_type": "stream",
     "text": [
      "Training: 100%|██████████| 24/24 [00:15<00:00,  1.54it/s, loss=0.814]\n",
      "Validation: 100%|██████████| 4/4 [00:01<00:00,  2.64it/s, loss=0.754]\n"
     ]
    },
    {
     "name": "stdout",
     "output_type": "stream",
     "text": [
      "Validation Dice Score\n",
      "Class 0: 0.9831, Class 1: 0.6846, Class 2: 0.1575, Class 3: 0.6864, \n",
      "Class 4: 0.4730, Class 5: 0.2902, Class 6: 0.0410, \n",
      "Validation F-beta Score\n",
      "Class 0: 0.9750, Class 1: 0.8519, Class 2: 0.2747, Class 3: 0.7150, \n",
      "Class 4: 0.5694, Class 5: 0.5034, Class 6: 0.1108, \n",
      "Overall Mean Dice Score: 0.4737\n",
      "'Overall_mean_f_beta_score': 0.5714\n",
      "\n",
      "Training Loss: 0.7901, Validation Loss: 0.7645\n",
      "Epoch 129/4000\n"
     ]
    },
    {
     "name": "stderr",
     "output_type": "stream",
     "text": [
      "Training: 100%|██████████| 24/24 [00:15<00:00,  1.54it/s, loss=0.765]\n",
      "Validation: 100%|██████████| 4/4 [00:01<00:00,  2.66it/s, loss=0.827]\n"
     ]
    },
    {
     "name": "stdout",
     "output_type": "stream",
     "text": [
      "Validation Dice Score\n",
      "Class 0: 0.9830, Class 1: 0.8003, Class 2: 0.0700, Class 3: 0.6787, \n",
      "Class 4: 0.4322, Class 5: 0.2374, Class 6: 0.3593, \n",
      "Validation F-beta Score\n",
      "Class 0: 0.9753, Class 1: 0.8657, Class 2: 0.1785, Class 3: 0.6825, \n",
      "Class 4: 0.4622, Class 5: 0.3537, Class 6: 0.5150, \n",
      "Overall Mean Dice Score: 0.5087\n",
      "'Overall_mean_f_beta_score': 0.5761\n",
      "\n",
      "Training Loss: 0.7929, Validation Loss: 0.7383\n",
      "Epoch 130/4000\n"
     ]
    },
    {
     "name": "stderr",
     "output_type": "stream",
     "text": [
      "Training: 100%|██████████| 24/24 [00:15<00:00,  1.52it/s, loss=0.801]\n",
      "Validation: 100%|██████████| 4/4 [00:01<00:00,  2.67it/s, loss=0.723]\n"
     ]
    },
    {
     "name": "stdout",
     "output_type": "stream",
     "text": [
      "Validation Dice Score\n",
      "Class 0: 0.9857, Class 1: 0.7703, Class 2: 0.1579, Class 3: 0.6436, \n",
      "Class 4: 0.3450, Class 5: 0.3272, Class 6: 0.4278, \n",
      "Validation F-beta Score\n",
      "Class 0: 0.9802, Class 1: 0.8165, Class 2: 0.2202, Class 3: 0.7069, \n",
      "Class 4: 0.3911, Class 5: 0.4039, Class 6: 0.5125, \n",
      "Overall Mean Dice Score: 0.5225\n",
      "'Overall_mean_f_beta_score': 0.5759\n",
      "\n",
      "Training Loss: 0.7816, Validation Loss: 0.7437\n",
      "Epoch 131/4000\n"
     ]
    },
    {
     "name": "stderr",
     "output_type": "stream",
     "text": [
      "Training: 100%|██████████| 24/24 [00:15<00:00,  1.52it/s, loss=0.8]  \n",
      "Validation: 100%|██████████| 4/4 [00:01<00:00,  2.66it/s, loss=0.777]\n"
     ]
    },
    {
     "name": "stdout",
     "output_type": "stream",
     "text": [
      "Validation Dice Score\n",
      "Class 0: 0.9848, Class 1: 0.6601, Class 2: 0.0815, Class 3: 0.6547, \n",
      "Class 4: 0.4005, Class 5: 0.3619, Class 6: 0.7857, \n",
      "Validation F-beta Score\n",
      "Class 0: 0.9774, Class 1: 0.7645, Class 2: 0.1856, Class 3: 0.7780, \n",
      "Class 4: 0.5868, Class 5: 0.4409, Class 6: 0.7950, \n",
      "Overall Mean Dice Score: 0.5613\n",
      "'Overall_mean_f_beta_score': 0.6469\n",
      "\n",
      "Training Loss: 0.7894, Validation Loss: 0.7439\n",
      "Epoch 132/4000\n"
     ]
    },
    {
     "name": "stderr",
     "output_type": "stream",
     "text": [
      "Training: 100%|██████████| 24/24 [00:15<00:00,  1.53it/s, loss=0.813]\n",
      "Validation: 100%|██████████| 4/4 [00:01<00:00,  2.66it/s, loss=0.804]\n"
     ]
    },
    {
     "name": "stdout",
     "output_type": "stream",
     "text": [
      "Validation Dice Score\n",
      "Class 0: 0.9819, Class 1: 0.8036, Class 2: 0.0454, Class 3: 0.6007, \n",
      "Class 4: 0.2767, Class 5: 0.2249, Class 6: 0.7005, \n",
      "Validation F-beta Score\n",
      "Class 0: 0.9726, Class 1: 0.8386, Class 2: 0.1548, Class 3: 0.6292, \n",
      "Class 4: 0.3211, Class 5: 0.4803, Class 6: 0.8299, \n",
      "Overall Mean Dice Score: 0.5191\n",
      "'Overall_mean_f_beta_score': 0.6038\n",
      "\n",
      "Training Loss: 0.7911, Validation Loss: 0.7775\n",
      "Epoch 133/4000\n"
     ]
    },
    {
     "name": "stderr",
     "output_type": "stream",
     "text": [
      "Training: 100%|██████████| 24/24 [00:15<00:00,  1.52it/s, loss=0.767]\n",
      "Validation: 100%|██████████| 4/4 [00:01<00:00,  2.72it/s, loss=0.766]\n"
     ]
    },
    {
     "name": "stdout",
     "output_type": "stream",
     "text": [
      "Validation Dice Score\n",
      "Class 0: 0.9839, Class 1: 0.7390, Class 2: 0.0683, Class 3: 0.6409, \n",
      "Class 4: 0.3591, Class 5: 0.1741, Class 6: 0.3644, \n",
      "Validation F-beta Score\n",
      "Class 0: 0.9741, Class 1: 0.7391, Class 2: 0.1866, Class 3: 0.7148, \n",
      "Class 4: 0.4937, Class 5: 0.3309, Class 6: 0.3437, \n",
      "Overall Mean Dice Score: 0.4757\n",
      "'Overall_mean_f_beta_score': 0.5404\n",
      "\n",
      "Training Loss: 0.7794, Validation Loss: 0.7911\n",
      "Epoch 134/4000\n"
     ]
    },
    {
     "name": "stderr",
     "output_type": "stream",
     "text": [
      "Training: 100%|██████████| 24/24 [00:15<00:00,  1.52it/s, loss=0.798]\n",
      "Validation: 100%|██████████| 4/4 [00:01<00:00,  2.71it/s, loss=0.782]\n"
     ]
    },
    {
     "name": "stdout",
     "output_type": "stream",
     "text": [
      "Validation Dice Score\n",
      "Class 0: 0.9801, Class 1: 0.7012, Class 2: 0.0547, Class 3: 0.4734, \n",
      "Class 4: 0.2542, Class 5: 0.2936, Class 6: 0.5756, \n",
      "Validation F-beta Score\n",
      "Class 0: 0.9680, Class 1: 0.8779, Class 2: 0.1152, Class 3: 0.5928, \n",
      "Class 4: 0.5014, Class 5: 0.3537, Class 6: 0.8359, \n",
      "Overall Mean Dice Score: 0.4761\n",
      "'Overall_mean_f_beta_score': 0.6064\n",
      "\n",
      "Training Loss: 0.7817, Validation Loss: 0.7476\n",
      "Epoch 135/4000\n"
     ]
    },
    {
     "name": "stderr",
     "output_type": "stream",
     "text": [
      "Training: 100%|██████████| 24/24 [00:15<00:00,  1.54it/s, loss=0.84] \n",
      "Validation: 100%|██████████| 4/4 [00:01<00:00,  2.64it/s, loss=0.743]\n"
     ]
    },
    {
     "name": "stdout",
     "output_type": "stream",
     "text": [
      "Validation Dice Score\n",
      "Class 0: 0.9833, Class 1: 0.7939, Class 2: 0.0938, Class 3: 0.5644, \n",
      "Class 4: 0.2425, Class 5: 0.3387, Class 6: 0.8089, \n",
      "Validation F-beta Score\n",
      "Class 0: 0.9743, Class 1: 0.8041, Class 2: 0.1677, Class 3: 0.6131, \n",
      "Class 4: 0.3068, Class 5: 0.5211, Class 6: 0.8984, \n",
      "Overall Mean Dice Score: 0.5465\n",
      "'Overall_mean_f_beta_score': 0.6122\n",
      "\n",
      "Training Loss: 0.7838, Validation Loss: 0.7199\n",
      "========================================================\n",
      "Best model saved with validation loss: 0.7199\n",
      "========================================================\n",
      "Epoch 136/4000\n"
     ]
    },
    {
     "name": "stderr",
     "output_type": "stream",
     "text": [
      "Training: 100%|██████████| 24/24 [00:15<00:00,  1.53it/s, loss=0.768]\n",
      "Validation: 100%|██████████| 4/4 [00:01<00:00,  2.73it/s, loss=0.717]\n"
     ]
    },
    {
     "name": "stdout",
     "output_type": "stream",
     "text": [
      "Validation Dice Score\n",
      "Class 0: 0.9853, Class 1: 0.7927, Class 2: 0.1830, Class 3: 0.5778, \n",
      "Class 4: 0.1768, Class 5: 0.3134, Class 6: 0.3619, \n",
      "Validation F-beta Score\n",
      "Class 0: 0.9779, Class 1: 0.8731, Class 2: 0.3596, Class 3: 0.6006, \n",
      "Class 4: 0.2699, Class 5: 0.4657, Class 6: 0.4590, \n",
      "Overall Mean Dice Score: 0.4844\n",
      "'Overall_mean_f_beta_score': 0.5723\n",
      "\n",
      "Training Loss: 0.7852, Validation Loss: 0.7533\n",
      "Epoch 137/4000\n"
     ]
    },
    {
     "name": "stderr",
     "output_type": "stream",
     "text": [
      "Training: 100%|██████████| 24/24 [00:15<00:00,  1.52it/s, loss=0.699]\n",
      "Validation: 100%|██████████| 4/4 [00:01<00:00,  2.70it/s, loss=0.855]\n"
     ]
    },
    {
     "name": "stdout",
     "output_type": "stream",
     "text": [
      "Validation Dice Score\n",
      "Class 0: 0.9855, Class 1: 0.3838, Class 2: 0.1590, Class 3: 0.6582, \n",
      "Class 4: 0.3750, Class 5: 0.0708, Class 6: 0.1774, \n",
      "Validation F-beta Score\n",
      "Class 0: 0.9759, Class 1: 0.4475, Class 2: 0.2778, Class 3: 0.6854, \n",
      "Class 4: 0.4764, Class 5: 0.1333, Class 6: 0.1449, \n",
      "Overall Mean Dice Score: 0.4014\n",
      "'Overall_mean_f_beta_score': 0.4487\n",
      "\n",
      "Training Loss: 0.7762, Validation Loss: 0.7989\n",
      "Epoch 138/4000\n"
     ]
    },
    {
     "name": "stderr",
     "output_type": "stream",
     "text": [
      "Training: 100%|██████████| 24/24 [00:15<00:00,  1.52it/s, loss=0.729]\n",
      "Validation: 100%|██████████| 4/4 [00:01<00:00,  2.69it/s, loss=0.7]  \n"
     ]
    },
    {
     "name": "stdout",
     "output_type": "stream",
     "text": [
      "Validation Dice Score\n",
      "Class 0: 0.9824, Class 1: 0.7750, Class 2: 0.2040, Class 3: 0.5152, \n",
      "Class 4: 0.5151, Class 5: 0.2137, Class 6: 0.3483, \n",
      "Validation F-beta Score\n",
      "Class 0: 0.9751, Class 1: 0.8005, Class 2: 0.4347, Class 3: 0.5157, \n",
      "Class 4: 0.5441, Class 5: 0.3232, Class 6: 0.3601, \n",
      "Overall Mean Dice Score: 0.5077\n",
      "'Overall_mean_f_beta_score': 0.5648\n",
      "\n",
      "Training Loss: 0.7887, Validation Loss: 0.7649\n",
      "Epoch 139/4000\n"
     ]
    },
    {
     "name": "stderr",
     "output_type": "stream",
     "text": [
      "Training: 100%|██████████| 24/24 [00:15<00:00,  1.54it/s, loss=0.802]\n",
      "Validation: 100%|██████████| 4/4 [00:01<00:00,  2.77it/s, loss=0.785]\n"
     ]
    },
    {
     "name": "stdout",
     "output_type": "stream",
     "text": [
      "Validation Dice Score\n",
      "Class 0: 0.9845, Class 1: 0.7741, Class 2: 0.1411, Class 3: 0.5402, \n",
      "Class 4: 0.3219, Class 5: 0.0862, Class 6: 0.3163, \n",
      "Validation F-beta Score\n",
      "Class 0: 0.9780, Class 1: 0.7917, Class 2: 0.1583, Class 3: 0.6397, \n",
      "Class 4: 0.3566, Class 5: 0.1408, Class 6: 0.3420, \n",
      "Overall Mean Dice Score: 0.4520\n",
      "'Overall_mean_f_beta_score': 0.4867\n",
      "\n",
      "Training Loss: 0.7907, Validation Loss: 0.8149\n",
      "Epoch 140/4000\n"
     ]
    },
    {
     "name": "stderr",
     "output_type": "stream",
     "text": [
      "Training: 100%|██████████| 24/24 [00:15<00:00,  1.54it/s, loss=0.779]\n",
      "Validation: 100%|██████████| 4/4 [00:01<00:00,  2.65it/s, loss=0.797]\n"
     ]
    },
    {
     "name": "stdout",
     "output_type": "stream",
     "text": [
      "Validation Dice Score\n",
      "Class 0: 0.9830, Class 1: 0.7716, Class 2: 0.0100, Class 3: 0.5785, \n",
      "Class 4: 0.3839, Class 5: 0.2302, Class 6: 0.4650, \n",
      "Validation F-beta Score\n",
      "Class 0: 0.9721, Class 1: 0.8299, Class 2: 0.0201, Class 3: 0.6472, \n",
      "Class 4: 0.6071, Class 5: 0.3611, Class 6: 0.6525, \n",
      "Overall Mean Dice Score: 0.4889\n",
      "'Overall_mean_f_beta_score': 0.5843\n",
      "\n",
      "Training Loss: 0.8078, Validation Loss: 0.7885\n",
      "Epoch 141/4000\n"
     ]
    },
    {
     "name": "stderr",
     "output_type": "stream",
     "text": [
      "Training: 100%|██████████| 24/24 [00:15<00:00,  1.54it/s, loss=0.812]\n",
      "Validation: 100%|██████████| 4/4 [00:01<00:00,  2.68it/s, loss=0.685]\n"
     ]
    },
    {
     "name": "stdout",
     "output_type": "stream",
     "text": [
      "Validation Dice Score\n",
      "Class 0: 0.9838, Class 1: 0.7710, Class 2: 0.1045, Class 3: 0.5591, \n",
      "Class 4: 0.2930, Class 5: 0.3271, Class 6: 0.8329, \n",
      "Validation F-beta Score\n",
      "Class 0: 0.9765, Class 1: 0.8423, Class 2: 0.1340, Class 3: 0.6093, \n",
      "Class 4: 0.4501, Class 5: 0.4935, Class 6: 0.8687, \n",
      "Overall Mean Dice Score: 0.5531\n",
      "'Overall_mean_f_beta_score': 0.6249\n",
      "\n",
      "Training Loss: 0.7720, Validation Loss: 0.7229\n",
      "Epoch 142/4000\n"
     ]
    },
    {
     "name": "stderr",
     "output_type": "stream",
     "text": [
      "Training: 100%|██████████| 24/24 [00:15<00:00,  1.53it/s, loss=0.758]\n",
      "Validation: 100%|██████████| 4/4 [00:01<00:00,  2.60it/s, loss=0.743]\n"
     ]
    },
    {
     "name": "stdout",
     "output_type": "stream",
     "text": [
      "Validation Dice Score\n",
      "Class 0: 0.9813, Class 1: 0.7829, Class 2: 0.0636, Class 3: 0.6165, \n",
      "Class 4: 0.3801, Class 5: 0.1923, Class 6: 0.4584, \n",
      "Validation F-beta Score\n",
      "Class 0: 0.9708, Class 1: 0.8735, Class 2: 0.1907, Class 3: 0.6606, \n",
      "Class 4: 0.4458, Class 5: 0.3784, Class 6: 0.8041, \n",
      "Overall Mean Dice Score: 0.4964\n",
      "'Overall_mean_f_beta_score': 0.6177\n",
      "\n",
      "Training Loss: 0.7860, Validation Loss: 0.7513\n",
      "Epoch 143/4000\n"
     ]
    },
    {
     "name": "stderr",
     "output_type": "stream",
     "text": [
      "Training: 100%|██████████| 24/24 [00:16<00:00,  1.47it/s, loss=0.79] \n",
      "Validation: 100%|██████████| 4/4 [00:01<00:00,  2.61it/s, loss=0.751]\n"
     ]
    },
    {
     "name": "stdout",
     "output_type": "stream",
     "text": [
      "Validation Dice Score\n",
      "Class 0: 0.9814, Class 1: 0.7117, Class 2: 0.1246, Class 3: 0.6441, \n",
      "Class 4: 0.2025, Class 5: 0.1940, Class 6: 0.6362, \n",
      "Validation F-beta Score\n",
      "Class 0: 0.9709, Class 1: 0.8932, Class 2: 0.2358, Class 3: 0.7040, \n",
      "Class 4: 0.3629, Class 5: 0.3652, Class 6: 0.6188, \n",
      "Overall Mean Dice Score: 0.4992\n",
      "'Overall_mean_f_beta_score': 0.5930\n",
      "\n",
      "Training Loss: 0.7962, Validation Loss: 0.7710\n",
      "Epoch 144/4000\n"
     ]
    },
    {
     "name": "stderr",
     "output_type": "stream",
     "text": [
      "Training: 100%|██████████| 24/24 [00:15<00:00,  1.53it/s, loss=0.762]\n",
      "Validation: 100%|██████████| 4/4 [00:01<00:00,  2.64it/s, loss=0.772]\n"
     ]
    },
    {
     "name": "stdout",
     "output_type": "stream",
     "text": [
      "Validation Dice Score\n",
      "Class 0: 0.9834, Class 1: 0.5563, Class 2: 0.0578, Class 3: 0.5797, \n",
      "Class 4: 0.2890, Class 5: 0.2269, Class 6: 0.4455, \n",
      "Validation F-beta Score\n",
      "Class 0: 0.9785, Class 1: 0.4997, Class 2: 0.1425, Class 3: 0.6208, \n",
      "Class 4: 0.3546, Class 5: 0.2224, Class 6: 0.5803, \n",
      "Overall Mean Dice Score: 0.4484\n",
      "'Overall_mean_f_beta_score': 0.4855\n",
      "\n",
      "Training Loss: 0.7841, Validation Loss: 0.7526\n",
      "Epoch 145/4000\n"
     ]
    },
    {
     "name": "stderr",
     "output_type": "stream",
     "text": [
      "Training: 100%|██████████| 24/24 [00:15<00:00,  1.53it/s, loss=0.817]\n",
      "Validation: 100%|██████████| 4/4 [00:01<00:00,  2.70it/s, loss=0.733]\n"
     ]
    },
    {
     "name": "stdout",
     "output_type": "stream",
     "text": [
      "Validation Dice Score\n",
      "Class 0: 0.9839, Class 1: 0.7497, Class 2: 0.0723, Class 3: 0.6482, \n",
      "Class 4: 0.4161, Class 5: 0.4324, Class 6: 0.5403, \n",
      "Validation F-beta Score\n",
      "Class 0: 0.9740, Class 1: 0.9181, Class 2: 0.2154, Class 3: 0.7390, \n",
      "Class 4: 0.6847, Class 5: 0.6225, Class 6: 0.6993, \n",
      "Overall Mean Dice Score: 0.5490\n",
      "'Overall_mean_f_beta_score': 0.6933\n",
      "\n",
      "Training Loss: 0.7884, Validation Loss: 0.7355\n",
      "Epoch 146/4000\n"
     ]
    },
    {
     "name": "stderr",
     "output_type": "stream",
     "text": [
      "Training: 100%|██████████| 24/24 [00:15<00:00,  1.52it/s, loss=0.767]\n",
      "Validation: 100%|██████████| 4/4 [00:01<00:00,  2.62it/s, loss=0.757]\n"
     ]
    },
    {
     "name": "stdout",
     "output_type": "stream",
     "text": [
      "Validation Dice Score\n",
      "Class 0: 0.9834, Class 1: 0.7526, Class 2: 0.1984, Class 3: 0.5385, \n",
      "Class 4: 0.4165, Class 5: 0.2361, Class 6: 0.3703, \n",
      "Validation F-beta Score\n",
      "Class 0: 0.9729, Class 1: 0.7820, Class 2: 0.4347, Class 3: 0.6030, \n",
      "Class 4: 0.5293, Class 5: 0.5195, Class 6: 0.3955, \n",
      "Overall Mean Dice Score: 0.4994\n",
      "'Overall_mean_f_beta_score': 0.6053\n",
      "\n",
      "Training Loss: 0.7902, Validation Loss: 0.7473\n",
      "Epoch 147/4000\n"
     ]
    },
    {
     "name": "stderr",
     "output_type": "stream",
     "text": [
      "Training: 100%|██████████| 24/24 [00:15<00:00,  1.53it/s, loss=0.715]\n",
      "Validation: 100%|██████████| 4/4 [00:01<00:00,  2.61it/s, loss=0.687]\n"
     ]
    },
    {
     "name": "stdout",
     "output_type": "stream",
     "text": [
      "Validation Dice Score\n",
      "Class 0: 0.9818, Class 1: 0.7821, Class 2: 0.0413, Class 3: 0.5884, \n",
      "Class 4: 0.2664, Class 5: 0.3340, Class 6: 0.5854, \n",
      "Validation F-beta Score\n",
      "Class 0: 0.9724, Class 1: 0.8256, Class 2: 0.0902, Class 3: 0.6709, \n",
      "Class 4: 0.3327, Class 5: 0.4979, Class 6: 0.7489, \n",
      "Overall Mean Dice Score: 0.5113\n",
      "'Overall_mean_f_beta_score': 0.5912\n",
      "\n",
      "Training Loss: 0.7742, Validation Loss: 0.7369\n",
      "Epoch 148/4000\n"
     ]
    },
    {
     "name": "stderr",
     "output_type": "stream",
     "text": [
      "Training: 100%|██████████| 24/24 [00:15<00:00,  1.53it/s, loss=0.747]\n",
      "Validation: 100%|██████████| 4/4 [00:01<00:00,  2.65it/s, loss=0.767]\n"
     ]
    },
    {
     "name": "stdout",
     "output_type": "stream",
     "text": [
      "Validation Dice Score\n",
      "Class 0: 0.9824, Class 1: 0.7021, Class 2: 0.0435, Class 3: 0.6206, \n",
      "Class 4: 0.3986, Class 5: 0.2492, Class 6: 0.5610, \n",
      "Validation F-beta Score\n",
      "Class 0: 0.9709, Class 1: 0.8505, Class 2: 0.0923, Class 3: 0.7027, \n",
      "Class 4: 0.6489, Class 5: 0.5284, Class 6: 0.5790, \n",
      "Overall Mean Dice Score: 0.5082\n",
      "'Overall_mean_f_beta_score': 0.6247\n",
      "\n",
      "Training Loss: 0.7801, Validation Loss: 0.7362\n",
      "Epoch 149/4000\n"
     ]
    },
    {
     "name": "stderr",
     "output_type": "stream",
     "text": [
      "Training: 100%|██████████| 24/24 [00:15<00:00,  1.54it/s, loss=0.681]\n",
      "Validation: 100%|██████████| 4/4 [00:01<00:00,  2.61it/s, loss=0.773]\n"
     ]
    },
    {
     "name": "stdout",
     "output_type": "stream",
     "text": [
      "Validation Dice Score\n",
      "Class 0: 0.9834, Class 1: 0.8223, Class 2: 0.0887, Class 3: 0.6298, \n",
      "Class 4: 0.3813, Class 5: 0.1978, Class 6: 0.8584, \n",
      "Validation F-beta Score\n",
      "Class 0: 0.9746, Class 1: 0.8725, Class 2: 0.2382, Class 3: 0.6298, \n",
      "Class 4: 0.6880, Class 5: 0.3068, Class 6: 0.8447, \n",
      "Overall Mean Dice Score: 0.5660\n",
      "'Overall_mean_f_beta_score': 0.6507\n",
      "\n",
      "Training Loss: 0.7836, Validation Loss: 0.7632\n",
      "Epoch 150/4000\n"
     ]
    },
    {
     "name": "stderr",
     "output_type": "stream",
     "text": [
      "Training: 100%|██████████| 24/24 [00:15<00:00,  1.54it/s, loss=0.859]\n",
      "Validation: 100%|██████████| 4/4 [00:01<00:00,  2.63it/s, loss=0.727]\n"
     ]
    },
    {
     "name": "stdout",
     "output_type": "stream",
     "text": [
      "Validation Dice Score\n",
      "Class 0: 0.9874, Class 1: 0.8096, Class 2: 0.1515, Class 3: 0.6494, \n",
      "Class 4: 0.4279, Class 5: 0.0778, Class 6: 0.5689, \n",
      "Validation F-beta Score\n",
      "Class 0: 0.9826, Class 1: 0.8941, Class 2: 0.1788, Class 3: 0.7017, \n",
      "Class 4: 0.5348, Class 5: 0.1789, Class 6: 0.6446, \n",
      "Overall Mean Dice Score: 0.5246\n",
      "'Overall_mean_f_beta_score': 0.5879\n",
      "\n",
      "Training Loss: 0.7970, Validation Loss: 0.7839\n",
      "Epoch 151/4000\n"
     ]
    },
    {
     "name": "stderr",
     "output_type": "stream",
     "text": [
      "Training: 100%|██████████| 24/24 [00:15<00:00,  1.54it/s, loss=0.832]\n",
      "Validation: 100%|██████████| 4/4 [00:01<00:00,  2.70it/s, loss=0.796]\n"
     ]
    },
    {
     "name": "stdout",
     "output_type": "stream",
     "text": [
      "Validation Dice Score\n",
      "Class 0: 0.9826, Class 1: 0.7506, Class 2: 0.0770, Class 3: 0.6882, \n",
      "Class 4: 0.3002, Class 5: 0.1431, Class 6: 0.2341, \n",
      "Validation F-beta Score\n",
      "Class 0: 0.9714, Class 1: 0.8492, Class 2: 0.1232, Class 3: 0.7377, \n",
      "Class 4: 0.3292, Class 5: 0.3032, Class 6: 0.3694, \n",
      "Overall Mean Dice Score: 0.4537\n",
      "'Overall_mean_f_beta_score': 0.5262\n",
      "\n",
      "Training Loss: 0.7910, Validation Loss: 0.7961\n",
      "Epoch 152/4000\n"
     ]
    },
    {
     "name": "stderr",
     "output_type": "stream",
     "text": [
      "Training: 100%|██████████| 24/24 [00:15<00:00,  1.53it/s, loss=0.727]\n",
      "Validation: 100%|██████████| 4/4 [00:01<00:00,  2.64it/s, loss=0.791]\n"
     ]
    },
    {
     "name": "stdout",
     "output_type": "stream",
     "text": [
      "Validation Dice Score\n",
      "Class 0: 0.9817, Class 1: 0.7503, Class 2: 0.1395, Class 3: 0.5823, \n",
      "Class 4: 0.3878, Class 5: 0.1632, Class 6: 0.5410, \n",
      "Validation F-beta Score\n",
      "Class 0: 0.9721, Class 1: 0.8712, Class 2: 0.3017, Class 3: 0.6076, \n",
      "Class 4: 0.5183, Class 5: 0.3113, Class 6: 0.5957, \n",
      "Overall Mean Dice Score: 0.5066\n",
      "'Overall_mean_f_beta_score': 0.5968\n",
      "\n",
      "Training Loss: 0.7719, Validation Loss: 0.7885\n",
      "Epoch 153/4000\n"
     ]
    },
    {
     "name": "stderr",
     "output_type": "stream",
     "text": [
      "Training: 100%|██████████| 24/24 [00:15<00:00,  1.53it/s, loss=0.799]\n",
      "Validation: 100%|██████████| 4/4 [00:01<00:00,  2.69it/s, loss=0.691]\n"
     ]
    },
    {
     "name": "stdout",
     "output_type": "stream",
     "text": [
      "Validation Dice Score\n",
      "Class 0: 0.9845, Class 1: 0.6379, Class 2: 0.1292, Class 3: 0.6391, \n",
      "Class 4: 0.3010, Class 5: 0.2747, Class 6: 0.7560, \n",
      "Validation F-beta Score\n",
      "Class 0: 0.9764, Class 1: 0.8531, Class 2: 0.3226, Class 3: 0.6621, \n",
      "Class 4: 0.4042, Class 5: 0.5087, Class 6: 0.8131, \n",
      "Overall Mean Dice Score: 0.5318\n",
      "'Overall_mean_f_beta_score': 0.6486\n",
      "\n",
      "Training Loss: 0.7953, Validation Loss: 0.7586\n",
      "Epoch 154/4000\n"
     ]
    },
    {
     "name": "stderr",
     "output_type": "stream",
     "text": [
      "Training: 100%|██████████| 24/24 [00:15<00:00,  1.53it/s, loss=0.825]\n",
      "Validation: 100%|██████████| 4/4 [00:01<00:00,  2.64it/s, loss=0.797]\n"
     ]
    },
    {
     "name": "stdout",
     "output_type": "stream",
     "text": [
      "Validation Dice Score\n",
      "Class 0: 0.9828, Class 1: 0.7248, Class 2: 0.0165, Class 3: 0.5550, \n",
      "Class 4: 0.3499, Class 5: 0.1736, Class 6: 0.7898, \n",
      "Validation F-beta Score\n",
      "Class 0: 0.9714, Class 1: 0.8438, Class 2: 0.0345, Class 3: 0.6962, \n",
      "Class 4: 0.5814, Class 5: 0.2983, Class 6: 0.8485, \n",
      "Overall Mean Dice Score: 0.5132\n",
      "'Overall_mean_f_beta_score': 0.6106\n",
      "\n",
      "Training Loss: 0.7952, Validation Loss: 0.7932\n",
      "Epoch 155/4000\n"
     ]
    },
    {
     "name": "stderr",
     "output_type": "stream",
     "text": [
      "Training: 100%|██████████| 24/24 [00:15<00:00,  1.52it/s, loss=0.826]\n",
      "Validation: 100%|██████████| 4/4 [00:01<00:00,  2.66it/s, loss=0.699]\n"
     ]
    },
    {
     "name": "stdout",
     "output_type": "stream",
     "text": [
      "Validation Dice Score\n",
      "Class 0: 0.9879, Class 1: 0.7302, Class 2: 0.0690, Class 3: 0.6690, \n",
      "Class 4: 0.5657, Class 5: 0.3528, Class 6: 0.7359, \n",
      "Validation F-beta Score\n",
      "Class 0: 0.9832, Class 1: 0.7998, Class 2: 0.1414, Class 3: 0.7476, \n",
      "Class 4: 0.5390, Class 5: 0.4745, Class 6: 0.7860, \n",
      "Overall Mean Dice Score: 0.5872\n",
      "'Overall_mean_f_beta_score': 0.6388\n",
      "\n",
      "Training Loss: 0.7847, Validation Loss: 0.7539\n",
      "Epoch 156/4000\n"
     ]
    },
    {
     "name": "stderr",
     "output_type": "stream",
     "text": [
      "Training: 100%|██████████| 24/24 [00:15<00:00,  1.54it/s, loss=0.787]\n",
      "Validation: 100%|██████████| 4/4 [00:01<00:00,  2.68it/s, loss=0.73] \n"
     ]
    },
    {
     "name": "stdout",
     "output_type": "stream",
     "text": [
      "Validation Dice Score\n",
      "Class 0: 0.9829, Class 1: 0.8347, Class 2: 0.0872, Class 3: 0.5637, \n",
      "Class 4: 0.4616, Class 5: 0.2744, Class 6: 0.7084, \n",
      "Validation F-beta Score\n",
      "Class 0: 0.9725, Class 1: 0.8515, Class 2: 0.2202, Class 3: 0.6797, \n",
      "Class 4: 0.6532, Class 5: 0.3764, Class 6: 0.8826, \n",
      "Overall Mean Dice Score: 0.5590\n",
      "'Overall_mean_f_beta_score': 0.6623\n",
      "\n",
      "Training Loss: 0.7909, Validation Loss: 0.7173\n",
      "========================================================\n",
      "Best model saved with validation loss: 0.7173\n",
      "========================================================\n",
      "Epoch 157/4000\n"
     ]
    },
    {
     "name": "stderr",
     "output_type": "stream",
     "text": [
      "Training: 100%|██████████| 24/24 [00:15<00:00,  1.52it/s, loss=0.819]\n",
      "Validation: 100%|██████████| 4/4 [00:01<00:00,  2.59it/s, loss=0.809]\n"
     ]
    },
    {
     "name": "stdout",
     "output_type": "stream",
     "text": [
      "Validation Dice Score\n",
      "Class 0: 0.9842, Class 1: 0.7469, Class 2: 0.1805, Class 3: 0.6083, \n",
      "Class 4: 0.4391, Class 5: 0.2413, Class 6: 0.3397, \n",
      "Validation F-beta Score\n",
      "Class 0: 0.9774, Class 1: 0.8013, Class 2: 0.1703, Class 3: 0.6516, \n",
      "Class 4: 0.4490, Class 5: 0.4422, Class 6: 0.3570, \n",
      "Overall Mean Dice Score: 0.5057\n",
      "'Overall_mean_f_beta_score': 0.5498\n",
      "\n",
      "Training Loss: 0.7784, Validation Loss: 0.7732\n",
      "Epoch 158/4000\n"
     ]
    },
    {
     "name": "stderr",
     "output_type": "stream",
     "text": [
      "Training: 100%|██████████| 24/24 [00:15<00:00,  1.52it/s, loss=0.825]\n",
      "Validation: 100%|██████████| 4/4 [00:01<00:00,  2.68it/s, loss=0.785]\n"
     ]
    },
    {
     "name": "stdout",
     "output_type": "stream",
     "text": [
      "Validation Dice Score\n",
      "Class 0: 0.9860, Class 1: 0.8066, Class 2: 0.1443, Class 3: 0.6675, \n",
      "Class 4: 0.2783, Class 5: 0.3482, Class 6: 0.5507, \n",
      "Validation F-beta Score\n",
      "Class 0: 0.9799, Class 1: 0.8706, Class 2: 0.2726, Class 3: 0.7279, \n",
      "Class 4: 0.2881, Class 5: 0.4913, Class 6: 0.5993, \n",
      "Overall Mean Dice Score: 0.5402\n",
      "'Overall_mean_f_beta_score': 0.6042\n",
      "\n",
      "Training Loss: 0.7908, Validation Loss: 0.7383\n",
      "Epoch 159/4000\n"
     ]
    },
    {
     "name": "stderr",
     "output_type": "stream",
     "text": [
      "Training: 100%|██████████| 24/24 [00:15<00:00,  1.54it/s, loss=0.739]\n",
      "Validation: 100%|██████████| 4/4 [00:01<00:00,  2.77it/s, loss=0.763]\n"
     ]
    },
    {
     "name": "stdout",
     "output_type": "stream",
     "text": [
      "Validation Dice Score\n",
      "Class 0: 0.9834, Class 1: 0.8421, Class 2: 0.0898, Class 3: 0.6439, \n",
      "Class 4: 0.4074, Class 5: 0.3083, Class 6: 0.6635, \n",
      "Validation F-beta Score\n",
      "Class 0: 0.9756, Class 1: 0.8734, Class 2: 0.1036, Class 3: 0.6682, \n",
      "Class 4: 0.5125, Class 5: 0.5087, Class 6: 0.7363, \n",
      "Overall Mean Dice Score: 0.5626\n",
      "'Overall_mean_f_beta_score': 0.6255\n",
      "\n",
      "Training Loss: 0.7926, Validation Loss: 0.7359\n",
      "Epoch 160/4000\n"
     ]
    },
    {
     "name": "stderr",
     "output_type": "stream",
     "text": [
      "Training: 100%|██████████| 24/24 [00:15<00:00,  1.53it/s, loss=0.763]\n",
      "Validation: 100%|██████████| 4/4 [00:01<00:00,  2.67it/s, loss=0.782]\n"
     ]
    },
    {
     "name": "stdout",
     "output_type": "stream",
     "text": [
      "Validation Dice Score\n",
      "Class 0: 0.9834, Class 1: 0.7561, Class 2: 0.1714, Class 3: 0.6173, \n",
      "Class 4: 0.3907, Class 5: 0.3162, Class 6: 0.3762, \n",
      "Validation F-beta Score\n",
      "Class 0: 0.9745, Class 1: 0.9176, Class 2: 0.2554, Class 3: 0.6374, \n",
      "Class 4: 0.4126, Class 5: 0.5065, Class 6: 0.4163, \n",
      "Overall Mean Dice Score: 0.5159\n",
      "'Overall_mean_f_beta_score': 0.5886\n",
      "\n",
      "Training Loss: 0.7727, Validation Loss: 0.7320\n",
      "Epoch 161/4000\n"
     ]
    },
    {
     "name": "stderr",
     "output_type": "stream",
     "text": [
      "Training: 100%|██████████| 24/24 [00:15<00:00,  1.53it/s, loss=0.759]\n",
      "Validation: 100%|██████████| 4/4 [00:01<00:00,  2.75it/s, loss=0.702]\n"
     ]
    },
    {
     "name": "stdout",
     "output_type": "stream",
     "text": [
      "Validation Dice Score\n",
      "Class 0: 0.9846, Class 1: 0.7311, Class 2: 0.1390, Class 3: 0.6530, \n",
      "Class 4: 0.4889, Class 5: 0.3174, Class 6: 0.6172, \n",
      "Validation F-beta Score\n",
      "Class 0: 0.9764, Class 1: 0.8142, Class 2: 0.2652, Class 3: 0.7160, \n",
      "Class 4: 0.5285, Class 5: 0.5062, Class 6: 0.6514, \n",
      "Overall Mean Dice Score: 0.5616\n",
      "'Overall_mean_f_beta_score': 0.6368\n",
      "\n",
      "Training Loss: 0.7881, Validation Loss: 0.7543\n",
      "Epoch 162/4000\n"
     ]
    },
    {
     "name": "stderr",
     "output_type": "stream",
     "text": [
      "Training: 100%|██████████| 24/24 [00:15<00:00,  1.54it/s, loss=0.777]\n",
      "Validation: 100%|██████████| 4/4 [00:01<00:00,  2.69it/s, loss=0.722]\n"
     ]
    },
    {
     "name": "stdout",
     "output_type": "stream",
     "text": [
      "Validation Dice Score\n",
      "Class 0: 0.9840, Class 1: 0.7541, Class 2: 0.0390, Class 3: 0.6511, \n",
      "Class 4: 0.4804, Class 5: 0.1754, Class 6: 0.6465, \n",
      "Validation F-beta Score\n",
      "Class 0: 0.9759, Class 1: 0.9047, Class 2: 0.0879, Class 3: 0.6802, \n",
      "Class 4: 0.6292, Class 5: 0.2383, Class 6: 0.7121, \n",
      "Overall Mean Dice Score: 0.5329\n",
      "'Overall_mean_f_beta_score': 0.6041\n",
      "\n",
      "Training Loss: 0.7702, Validation Loss: 0.7219\n",
      "Epoch 163/4000\n"
     ]
    },
    {
     "name": "stderr",
     "output_type": "stream",
     "text": [
      "Training: 100%|██████████| 24/24 [00:15<00:00,  1.54it/s, loss=0.714]\n",
      "Validation: 100%|██████████| 4/4 [00:01<00:00,  2.56it/s, loss=0.724]\n"
     ]
    },
    {
     "name": "stdout",
     "output_type": "stream",
     "text": [
      "Validation Dice Score\n",
      "Class 0: 0.9863, Class 1: 0.6890, Class 2: 0.1071, Class 3: 0.5760, \n",
      "Class 4: 0.3476, Class 5: 0.3245, Class 6: 0.6027, \n",
      "Validation F-beta Score\n",
      "Class 0: 0.9806, Class 1: 0.8855, Class 2: 0.1553, Class 3: 0.6504, \n",
      "Class 4: 0.5192, Class 5: 0.3828, Class 6: 0.6493, \n",
      "Overall Mean Dice Score: 0.5190\n",
      "'Overall_mean_f_beta_score': 0.6033\n",
      "\n",
      "Training Loss: 0.7831, Validation Loss: 0.7382\n",
      "Epoch 164/4000\n"
     ]
    },
    {
     "name": "stderr",
     "output_type": "stream",
     "text": [
      "Training: 100%|██████████| 24/24 [00:15<00:00,  1.53it/s, loss=0.723]\n",
      "Validation: 100%|██████████| 4/4 [00:01<00:00,  2.71it/s, loss=0.809]\n"
     ]
    },
    {
     "name": "stdout",
     "output_type": "stream",
     "text": [
      "Validation Dice Score\n",
      "Class 0: 0.9839, Class 1: 0.7395, Class 2: 0.1343, Class 3: 0.6759, \n",
      "Class 4: 0.3651, Class 5: 0.1683, Class 6: 0.3243, \n",
      "Validation F-beta Score\n",
      "Class 0: 0.9757, Class 1: 0.7868, Class 2: 0.2444, Class 3: 0.7258, \n",
      "Class 4: 0.4250, Class 5: 0.2548, Class 6: 0.4070, \n",
      "Overall Mean Dice Score: 0.4845\n",
      "'Overall_mean_f_beta_score': 0.5457\n",
      "\n",
      "Training Loss: 0.7722, Validation Loss: 0.7583\n",
      "Epoch 165/4000\n"
     ]
    },
    {
     "name": "stderr",
     "output_type": "stream",
     "text": [
      "Training: 100%|██████████| 24/24 [00:15<00:00,  1.54it/s, loss=0.77] \n",
      "Validation: 100%|██████████| 4/4 [00:01<00:00,  2.55it/s, loss=0.661]\n"
     ]
    },
    {
     "name": "stdout",
     "output_type": "stream",
     "text": [
      "Validation Dice Score\n",
      "Class 0: 0.9842, Class 1: 0.6141, Class 2: 0.0908, Class 3: 0.5629, \n",
      "Class 4: 0.2882, Class 5: 0.3274, Class 6: 0.8456, \n",
      "Validation F-beta Score\n",
      "Class 0: 0.9793, Class 1: 0.8564, Class 2: 0.2272, Class 3: 0.5919, \n",
      "Class 4: 0.3252, Class 5: 0.4942, Class 6: 0.7865, \n",
      "Overall Mean Dice Score: 0.5305\n",
      "'Overall_mean_f_beta_score': 0.6087\n",
      "\n",
      "Training Loss: 0.7734, Validation Loss: 0.7578\n",
      "Epoch 166/4000\n"
     ]
    },
    {
     "name": "stderr",
     "output_type": "stream",
     "text": [
      "Training: 100%|██████████| 24/24 [00:15<00:00,  1.53it/s, loss=0.773]\n",
      "Validation: 100%|██████████| 4/4 [00:01<00:00,  2.69it/s, loss=0.788]\n"
     ]
    },
    {
     "name": "stdout",
     "output_type": "stream",
     "text": [
      "Validation Dice Score\n",
      "Class 0: 0.9846, Class 1: 0.6531, Class 2: 0.1482, Class 3: 0.5677, \n",
      "Class 4: 0.5345, Class 5: 0.2534, Class 6: 0.6930, \n",
      "Validation F-beta Score\n",
      "Class 0: 0.9778, Class 1: 0.8633, Class 2: 0.2812, Class 3: 0.6399, \n",
      "Class 4: 0.6310, Class 5: 0.4053, Class 6: 0.8026, \n",
      "Overall Mean Dice Score: 0.5478\n",
      "'Overall_mean_f_beta_score': 0.6573\n",
      "\n",
      "Training Loss: 0.7830, Validation Loss: 0.7721\n",
      "Epoch 167/4000\n"
     ]
    },
    {
     "name": "stderr",
     "output_type": "stream",
     "text": [
      "Training: 100%|██████████| 24/24 [00:15<00:00,  1.52it/s, loss=0.762]\n",
      "Validation: 100%|██████████| 4/4 [00:01<00:00,  2.74it/s, loss=0.697]\n"
     ]
    },
    {
     "name": "stdout",
     "output_type": "stream",
     "text": [
      "Validation Dice Score\n",
      "Class 0: 0.9825, Class 1: 0.7394, Class 2: 0.0091, Class 3: 0.6284, \n",
      "Class 4: 0.3479, Class 5: 0.4382, Class 6: 0.4567, \n",
      "Validation F-beta Score\n",
      "Class 0: 0.9742, Class 1: 0.8807, Class 2: 0.0140, Class 3: 0.6387, \n",
      "Class 4: 0.5553, Class 5: 0.5434, Class 6: 0.5781, \n",
      "Overall Mean Dice Score: 0.5146\n",
      "'Overall_mean_f_beta_score': 0.5978\n",
      "\n",
      "Training Loss: 0.7716, Validation Loss: 0.7298\n",
      "Epoch 168/4000\n"
     ]
    },
    {
     "name": "stderr",
     "output_type": "stream",
     "text": [
      "Training: 100%|██████████| 24/24 [00:15<00:00,  1.52it/s, loss=0.78] \n",
      "Validation: 100%|██████████| 4/4 [00:01<00:00,  2.70it/s, loss=0.836]\n"
     ]
    },
    {
     "name": "stdout",
     "output_type": "stream",
     "text": [
      "Validation Dice Score\n",
      "Class 0: 0.9841, Class 1: 0.7384, Class 2: 0.0650, Class 3: 0.5832, \n",
      "Class 4: 0.4091, Class 5: 0.1390, Class 6: 0.3199, \n",
      "Validation F-beta Score\n",
      "Class 0: 0.9752, Class 1: 0.8871, Class 2: 0.0816, Class 3: 0.7318, \n",
      "Class 4: 0.5705, Class 5: 0.2279, Class 6: 0.4227, \n",
      "Overall Mean Dice Score: 0.4627\n",
      "'Overall_mean_f_beta_score': 0.5567\n",
      "\n",
      "Training Loss: 0.7759, Validation Loss: 0.7963\n",
      "Epoch 169/4000\n"
     ]
    },
    {
     "name": "stderr",
     "output_type": "stream",
     "text": [
      "Training: 100%|██████████| 24/24 [00:15<00:00,  1.53it/s, loss=0.719]\n",
      "Validation: 100%|██████████| 4/4 [00:01<00:00,  2.63it/s, loss=0.761]\n"
     ]
    },
    {
     "name": "stdout",
     "output_type": "stream",
     "text": [
      "Validation Dice Score\n",
      "Class 0: 0.9863, Class 1: 0.6778, Class 2: 0.0361, Class 3: 0.6094, \n",
      "Class 4: 0.3206, Class 5: 0.2722, Class 6: 0.8021, \n",
      "Validation F-beta Score\n",
      "Class 0: 0.9781, Class 1: 0.8484, Class 2: 0.0940, Class 3: 0.7296, \n",
      "Class 4: 0.4186, Class 5: 0.3320, Class 6: 0.8629, \n",
      "Overall Mean Dice Score: 0.5292\n",
      "'Overall_mean_f_beta_score': 0.6091\n",
      "\n",
      "Training Loss: 0.7800, Validation Loss: 0.7727\n",
      "Epoch 170/4000\n"
     ]
    },
    {
     "name": "stderr",
     "output_type": "stream",
     "text": [
      "Training: 100%|██████████| 24/24 [00:15<00:00,  1.54it/s, loss=0.742]\n",
      "Validation: 100%|██████████| 4/4 [00:01<00:00,  2.67it/s, loss=0.736]\n"
     ]
    },
    {
     "name": "stdout",
     "output_type": "stream",
     "text": [
      "Validation Dice Score\n",
      "Class 0: 0.9820, Class 1: 0.7024, Class 2: 0.0178, Class 3: 0.6878, \n",
      "Class 4: 0.4054, Class 5: 0.1551, Class 6: 0.7530, \n",
      "Validation F-beta Score\n",
      "Class 0: 0.9717, Class 1: 0.8270, Class 2: 0.0568, Class 3: 0.6939, \n",
      "Class 4: 0.6137, Class 5: 0.3527, Class 6: 0.8249, \n",
      "Overall Mean Dice Score: 0.5291\n",
      "'Overall_mean_f_beta_score': 0.6201\n",
      "\n",
      "Training Loss: 0.7923, Validation Loss: 0.7749\n",
      "Epoch 171/4000\n"
     ]
    },
    {
     "name": "stderr",
     "output_type": "stream",
     "text": [
      "Training: 100%|██████████| 24/24 [00:15<00:00,  1.55it/s, loss=0.802]\n",
      "Validation: 100%|██████████| 4/4 [00:01<00:00,  2.63it/s, loss=0.779]\n"
     ]
    },
    {
     "name": "stdout",
     "output_type": "stream",
     "text": [
      "Validation Dice Score\n",
      "Class 0: 0.9843, Class 1: 0.7989, Class 2: 0.0426, Class 3: 0.6568, \n",
      "Class 4: 0.4919, Class 5: 0.3066, Class 6: 0.5678, \n",
      "Validation F-beta Score\n",
      "Class 0: 0.9770, Class 1: 0.8989, Class 2: 0.0888, Class 3: 0.7213, \n",
      "Class 4: 0.6596, Class 5: 0.4826, Class 6: 0.4927, \n",
      "Overall Mean Dice Score: 0.5499\n",
      "'Overall_mean_f_beta_score': 0.6173\n",
      "\n",
      "Training Loss: 0.7721, Validation Loss: 0.7298\n",
      "Epoch 172/4000\n"
     ]
    },
    {
     "name": "stderr",
     "output_type": "stream",
     "text": [
      "Training: 100%|██████████| 24/24 [00:15<00:00,  1.52it/s, loss=0.814]\n",
      "Validation: 100%|██████████| 4/4 [00:01<00:00,  2.63it/s, loss=0.745]\n"
     ]
    },
    {
     "name": "stdout",
     "output_type": "stream",
     "text": [
      "Validation Dice Score\n",
      "Class 0: 0.9808, Class 1: 0.8365, Class 2: 0.0659, Class 3: 0.4252, \n",
      "Class 4: 0.3665, Class 5: 0.2359, Class 6: 0.5882, \n",
      "Validation F-beta Score\n",
      "Class 0: 0.9707, Class 1: 0.8376, Class 2: 0.2165, Class 3: 0.5134, \n",
      "Class 4: 0.6198, Class 5: 0.3858, Class 6: 0.6739, \n",
      "Overall Mean Dice Score: 0.4999\n",
      "'Overall_mean_f_beta_score': 0.6025\n",
      "\n",
      "Training Loss: 0.7812, Validation Loss: 0.7733\n",
      "Epoch 173/4000\n"
     ]
    },
    {
     "name": "stderr",
     "output_type": "stream",
     "text": [
      "Training: 100%|██████████| 24/24 [00:15<00:00,  1.54it/s, loss=0.852]\n",
      "Validation: 100%|██████████| 4/4 [00:01<00:00,  2.67it/s, loss=0.727]\n"
     ]
    },
    {
     "name": "stdout",
     "output_type": "stream",
     "text": [
      "Validation Dice Score\n",
      "Class 0: 0.9835, Class 1: 0.7361, Class 2: 0.2383, Class 3: 0.5727, \n",
      "Class 4: 0.4881, Class 5: 0.1407, Class 6: 0.5351, \n",
      "Validation F-beta Score\n",
      "Class 0: 0.9754, Class 1: 0.7612, Class 2: 0.4023, Class 3: 0.6665, \n",
      "Class 4: 0.5343, Class 5: 0.2644, Class 6: 0.6704, \n",
      "Overall Mean Dice Score: 0.5278\n",
      "'Overall_mean_f_beta_score': 0.6106\n",
      "\n",
      "Training Loss: 0.7925, Validation Loss: 0.7881\n",
      "Epoch 174/4000\n"
     ]
    },
    {
     "name": "stderr",
     "output_type": "stream",
     "text": [
      "Training: 100%|██████████| 24/24 [00:15<00:00,  1.53it/s, loss=0.764]\n",
      "Validation: 100%|██████████| 4/4 [00:01<00:00,  2.60it/s, loss=0.727]\n"
     ]
    },
    {
     "name": "stdout",
     "output_type": "stream",
     "text": [
      "Validation Dice Score\n",
      "Class 0: 0.9833, Class 1: 0.7579, Class 2: 0.1840, Class 3: 0.6261, \n",
      "Class 4: 0.3206, Class 5: 0.2874, Class 6: 0.2713, \n",
      "Validation F-beta Score\n",
      "Class 0: 0.9740, Class 1: 0.8816, Class 2: 0.2957, Class 3: 0.6262, \n",
      "Class 4: 0.4335, Class 5: 0.4650, Class 6: 0.3998, \n",
      "Overall Mean Dice Score: 0.4901\n",
      "'Overall_mean_f_beta_score': 0.5823\n",
      "\n",
      "Training Loss: 0.7827, Validation Loss: 0.7417\n",
      "Epoch 175/4000\n"
     ]
    },
    {
     "name": "stderr",
     "output_type": "stream",
     "text": [
      "Training: 100%|██████████| 24/24 [00:15<00:00,  1.53it/s, loss=0.775]\n",
      "Validation: 100%|██████████| 4/4 [00:01<00:00,  2.72it/s, loss=0.656]\n"
     ]
    },
    {
     "name": "stdout",
     "output_type": "stream",
     "text": [
      "Validation Dice Score\n",
      "Class 0: 0.9853, Class 1: 0.8152, Class 2: 0.0452, Class 3: 0.5764, \n",
      "Class 4: 0.6271, Class 5: 0.3909, Class 6: 0.5763, \n",
      "Validation F-beta Score\n",
      "Class 0: 0.9805, Class 1: 0.8545, Class 2: 0.1340, Class 3: 0.6539, \n",
      "Class 4: 0.6305, Class 5: 0.5307, Class 6: 0.5591, \n",
      "Overall Mean Dice Score: 0.5738\n",
      "'Overall_mean_f_beta_score': 0.6205\n",
      "\n",
      "Training Loss: 0.7848, Validation Loss: 0.7334\n",
      "Epoch 176/4000\n"
     ]
    },
    {
     "name": "stderr",
     "output_type": "stream",
     "text": [
      "Training: 100%|██████████| 24/24 [00:15<00:00,  1.53it/s, loss=0.766]\n",
      "Validation: 100%|██████████| 4/4 [00:01<00:00,  2.78it/s, loss=0.812]\n"
     ]
    },
    {
     "name": "stdout",
     "output_type": "stream",
     "text": [
      "Validation Dice Score\n",
      "Class 0: 0.9832, Class 1: 0.7873, Class 2: 0.1214, Class 3: 0.5610, \n",
      "Class 4: 0.3144, Class 5: 0.2502, Class 6: 0.1627, \n",
      "Validation F-beta Score\n",
      "Class 0: 0.9729, Class 1: 0.8470, Class 2: 0.2779, Class 3: 0.6175, \n",
      "Class 4: 0.4077, Class 5: 0.4553, Class 6: 0.2211, \n",
      "Overall Mean Dice Score: 0.4543\n",
      "'Overall_mean_f_beta_score': 0.5428\n",
      "\n",
      "Training Loss: 0.7773, Validation Loss: 0.7807\n",
      "Epoch 177/4000\n"
     ]
    },
    {
     "name": "stderr",
     "output_type": "stream",
     "text": [
      "Training: 100%|██████████| 24/24 [00:15<00:00,  1.53it/s, loss=0.839]\n",
      "Validation: 100%|██████████| 4/4 [00:01<00:00,  2.51it/s, loss=0.794]\n"
     ]
    },
    {
     "name": "stdout",
     "output_type": "stream",
     "text": [
      "Validation Dice Score\n",
      "Class 0: 0.9836, Class 1: 0.7549, Class 2: 0.3389, Class 3: 0.5542, \n",
      "Class 4: 0.3106, Class 5: 0.1564, Class 6: 0.4957, \n",
      "Validation F-beta Score\n",
      "Class 0: 0.9778, Class 1: 0.8701, Class 2: 0.4329, Class 3: 0.5833, \n",
      "Class 4: 0.4015, Class 5: 0.2048, Class 6: 0.5749, \n",
      "Overall Mean Dice Score: 0.5134\n",
      "'Overall_mean_f_beta_score': 0.5779\n",
      "\n",
      "Training Loss: 0.7812, Validation Loss: 0.7667\n",
      "Epoch 178/4000\n"
     ]
    },
    {
     "name": "stderr",
     "output_type": "stream",
     "text": [
      "Training: 100%|██████████| 24/24 [00:15<00:00,  1.54it/s, loss=0.784]\n",
      "Validation: 100%|██████████| 4/4 [00:01<00:00,  2.67it/s, loss=0.786]\n"
     ]
    },
    {
     "name": "stdout",
     "output_type": "stream",
     "text": [
      "Validation Dice Score\n",
      "Class 0: 0.9877, Class 1: 0.7833, Class 2: 0.2451, Class 3: 0.5630, \n",
      "Class 4: 0.2286, Class 5: 0.2693, Class 6: 0.6108, \n",
      "Validation F-beta Score\n",
      "Class 0: 0.9831, Class 1: 0.8176, Class 2: 0.3322, Class 3: 0.6325, \n",
      "Class 4: 0.2728, Class 5: 0.4378, Class 6: 0.6308, \n",
      "Overall Mean Dice Score: 0.5268\n",
      "'Overall_mean_f_beta_score': 0.5867\n",
      "\n",
      "Training Loss: 0.7690, Validation Loss: 0.7628\n",
      "Epoch 179/4000\n"
     ]
    },
    {
     "name": "stderr",
     "output_type": "stream",
     "text": [
      "Training: 100%|██████████| 24/24 [00:16<00:00,  1.50it/s, loss=0.803]\n",
      "Validation: 100%|██████████| 4/4 [00:01<00:00,  2.68it/s, loss=0.757]\n"
     ]
    },
    {
     "name": "stdout",
     "output_type": "stream",
     "text": [
      "Validation Dice Score\n",
      "Class 0: 0.9779, Class 1: 0.7267, Class 2: 0.1212, Class 3: 0.5948, \n",
      "Class 4: 0.2604, Class 5: 0.1416, Class 6: 0.3011, \n",
      "Validation F-beta Score\n",
      "Class 0: 0.9651, Class 1: 0.9316, Class 2: 0.2293, Class 3: 0.6461, \n",
      "Class 4: 0.2911, Class 5: 0.2990, Class 6: 0.4508, \n",
      "Overall Mean Dice Score: 0.4462\n",
      "'Overall_mean_f_beta_score': 0.5447\n",
      "\n",
      "Training Loss: 0.7833, Validation Loss: 0.8051\n",
      "Epoch 180/4000\n"
     ]
    },
    {
     "name": "stderr",
     "output_type": "stream",
     "text": [
      "Training: 100%|██████████| 24/24 [00:15<00:00,  1.53it/s, loss=0.816]\n",
      "Validation: 100%|██████████| 4/4 [00:01<00:00,  2.67it/s, loss=0.721]\n"
     ]
    },
    {
     "name": "stdout",
     "output_type": "stream",
     "text": [
      "Validation Dice Score\n",
      "Class 0: 0.9866, Class 1: 0.8471, Class 2: 0.0229, Class 3: 0.6365, \n",
      "Class 4: 0.3163, Class 5: 0.2414, Class 6: 0.8013, \n",
      "Validation F-beta Score\n",
      "Class 0: 0.9806, Class 1: 0.9136, Class 2: 0.0733, Class 3: 0.7550, \n",
      "Class 4: 0.3898, Class 5: 0.3115, Class 6: 0.8533, \n",
      "Overall Mean Dice Score: 0.5503\n",
      "'Overall_mean_f_beta_score': 0.6110\n",
      "\n",
      "Training Loss: 0.7760, Validation Loss: 0.7474\n",
      "Epoch 181/4000\n"
     ]
    },
    {
     "name": "stderr",
     "output_type": "stream",
     "text": [
      "Training: 100%|██████████| 24/24 [00:15<00:00,  1.55it/s, loss=0.755]\n",
      "Validation: 100%|██████████| 4/4 [00:01<00:00,  2.64it/s, loss=0.84] \n"
     ]
    },
    {
     "name": "stdout",
     "output_type": "stream",
     "text": [
      "Validation Dice Score\n",
      "Class 0: 0.9823, Class 1: 0.6869, Class 2: 0.0528, Class 3: 0.5196, \n",
      "Class 4: 0.3701, Class 5: 0.2616, Class 6: 0.5795, \n",
      "Validation F-beta Score\n",
      "Class 0: 0.9721, Class 1: 0.8755, Class 2: 0.1361, Class 3: 0.5885, \n",
      "Class 4: 0.5573, Class 5: 0.3630, Class 6: 0.6385, \n",
      "Overall Mean Dice Score: 0.4932\n",
      "'Overall_mean_f_beta_score': 0.5901\n",
      "\n",
      "Training Loss: 0.7730, Validation Loss: 0.8001\n",
      "Epoch 182/4000\n"
     ]
    },
    {
     "name": "stderr",
     "output_type": "stream",
     "text": [
      "Training: 100%|██████████| 24/24 [00:15<00:00,  1.56it/s, loss=0.789]\n",
      "Validation: 100%|██████████| 4/4 [00:01<00:00,  2.67it/s, loss=0.858]\n"
     ]
    },
    {
     "name": "stdout",
     "output_type": "stream",
     "text": [
      "Validation Dice Score\n",
      "Class 0: 0.9815, Class 1: 0.8219, Class 2: 0.1400, Class 3: 0.4435, \n",
      "Class 4: 0.4135, Class 5: 0.2468, Class 6: 0.5345, \n",
      "Validation F-beta Score\n",
      "Class 0: 0.9751, Class 1: 0.8586, Class 2: 0.2596, Class 3: 0.4698, \n",
      "Class 4: 0.4608, Class 5: 0.4223, Class 6: 0.5773, \n",
      "Overall Mean Dice Score: 0.5117\n",
      "'Overall_mean_f_beta_score': 0.5748\n",
      "\n",
      "Training Loss: 0.7865, Validation Loss: 0.7807\n",
      "Epoch 183/4000\n"
     ]
    },
    {
     "name": "stderr",
     "output_type": "stream",
     "text": [
      "Training: 100%|██████████| 24/24 [00:15<00:00,  1.54it/s, loss=0.757]\n",
      "Validation: 100%|██████████| 4/4 [00:01<00:00,  2.66it/s, loss=0.714]\n"
     ]
    },
    {
     "name": "stdout",
     "output_type": "stream",
     "text": [
      "Validation Dice Score\n",
      "Class 0: 0.9835, Class 1: 0.5929, Class 2: 0.0022, Class 3: 0.6999, \n",
      "Class 4: 0.5683, Class 5: 0.1638, Class 6: 0.4163, \n",
      "Validation F-beta Score\n",
      "Class 0: 0.9715, Class 1: 0.8525, Class 2: 0.0083, Class 3: 0.8439, \n",
      "Class 4: 0.6355, Class 5: 0.3140, Class 6: 0.6370, \n",
      "Overall Mean Dice Score: 0.4896\n",
      "'Overall_mean_f_beta_score': 0.6090\n",
      "\n",
      "Training Loss: 0.7848, Validation Loss: 0.7854\n",
      "Epoch 184/4000\n"
     ]
    },
    {
     "name": "stderr",
     "output_type": "stream",
     "text": [
      "Training: 100%|██████████| 24/24 [00:15<00:00,  1.52it/s, loss=0.823]\n",
      "Validation: 100%|██████████| 4/4 [00:01<00:00,  2.67it/s, loss=0.764]\n"
     ]
    },
    {
     "name": "stdout",
     "output_type": "stream",
     "text": [
      "Validation Dice Score\n",
      "Class 0: 0.9863, Class 1: 0.7226, Class 2: 0.1642, Class 3: 0.6231, \n",
      "Class 4: 0.4628, Class 5: 0.3718, Class 6: 0.3821, \n",
      "Validation F-beta Score\n",
      "Class 0: 0.9822, Class 1: 0.7476, Class 2: 0.2463, Class 3: 0.6691, \n",
      "Class 4: 0.4936, Class 5: 0.4948, Class 6: 0.4221, \n",
      "Overall Mean Dice Score: 0.5304\n",
      "'Overall_mean_f_beta_score': 0.5794\n",
      "\n",
      "Training Loss: 0.7923, Validation Loss: 0.7318\n",
      "Epoch 185/4000\n"
     ]
    },
    {
     "name": "stderr",
     "output_type": "stream",
     "text": [
      "Training: 100%|██████████| 24/24 [00:15<00:00,  1.53it/s, loss=0.837]\n",
      "Validation: 100%|██████████| 4/4 [00:01<00:00,  2.62it/s, loss=0.794]\n"
     ]
    },
    {
     "name": "stdout",
     "output_type": "stream",
     "text": [
      "Validation Dice Score\n",
      "Class 0: 0.9836, Class 1: 0.7518, Class 2: 0.2394, Class 3: 0.4283, \n",
      "Class 4: 0.3848, Class 5: 0.2615, Class 6: 0.5960, \n",
      "Validation F-beta Score\n",
      "Class 0: 0.9739, Class 1: 0.8462, Class 2: 0.5083, Class 3: 0.5576, \n",
      "Class 4: 0.5469, Class 5: 0.4469, Class 6: 0.6698, \n",
      "Overall Mean Dice Score: 0.5208\n",
      "'Overall_mean_f_beta_score': 0.6500\n",
      "\n",
      "Training Loss: 0.7829, Validation Loss: 0.7493\n",
      "Epoch 186/4000\n"
     ]
    },
    {
     "name": "stderr",
     "output_type": "stream",
     "text": [
      "Training: 100%|██████████| 24/24 [00:15<00:00,  1.52it/s, loss=0.816]\n",
      "Validation: 100%|██████████| 4/4 [00:01<00:00,  2.63it/s, loss=0.726]\n"
     ]
    },
    {
     "name": "stdout",
     "output_type": "stream",
     "text": [
      "Validation Dice Score\n",
      "Class 0: 0.9857, Class 1: 0.5677, Class 2: 0.0138, Class 3: 0.7017, \n",
      "Class 4: 0.5413, Class 5: 0.3251, Class 6: 0.3496, \n",
      "Validation F-beta Score\n",
      "Class 0: 0.9778, Class 1: 0.6355, Class 2: 0.0621, Class 3: 0.7422, \n",
      "Class 4: 0.6584, Class 5: 0.5207, Class 6: 0.3433, \n",
      "Overall Mean Dice Score: 0.4978\n",
      "'Overall_mean_f_beta_score': 0.5629\n",
      "\n",
      "Training Loss: 0.7694, Validation Loss: 0.7597\n",
      "Epoch 187/4000\n"
     ]
    },
    {
     "name": "stderr",
     "output_type": "stream",
     "text": [
      "Training: 100%|██████████| 24/24 [00:15<00:00,  1.54it/s, loss=0.809]\n",
      "Validation: 100%|██████████| 4/4 [00:01<00:00,  2.75it/s, loss=0.882]\n"
     ]
    },
    {
     "name": "stdout",
     "output_type": "stream",
     "text": [
      "Validation Dice Score\n",
      "Class 0: 0.9843, Class 1: 0.7840, Class 2: 0.1032, Class 3: 0.5960, \n",
      "Class 4: 0.4164, Class 5: 0.1644, Class 6: 0.3596, \n",
      "Validation F-beta Score\n",
      "Class 0: 0.9758, Class 1: 0.8779, Class 2: 0.2099, Class 3: 0.5699, \n",
      "Class 4: 0.5267, Class 5: 0.2769, Class 6: 0.4091, \n",
      "Overall Mean Dice Score: 0.4868\n",
      "'Overall_mean_f_beta_score': 0.5494\n",
      "\n",
      "Training Loss: 0.7808, Validation Loss: 0.7975\n",
      "Epoch 188/4000\n"
     ]
    },
    {
     "name": "stderr",
     "output_type": "stream",
     "text": [
      "Training: 100%|██████████| 24/24 [00:15<00:00,  1.55it/s, loss=0.721]\n",
      "Validation: 100%|██████████| 4/4 [00:01<00:00,  2.66it/s, loss=0.761]\n"
     ]
    },
    {
     "name": "stdout",
     "output_type": "stream",
     "text": [
      "Validation Dice Score\n",
      "Class 0: 0.9836, Class 1: 0.7953, Class 2: 0.0772, Class 3: 0.4944, \n",
      "Class 4: 0.4207, Class 5: 0.0953, Class 6: 0.4078, \n",
      "Validation F-beta Score\n",
      "Class 0: 0.9738, Class 1: 0.8547, Class 2: 0.1686, Class 3: 0.6460, \n",
      "Class 4: 0.5450, Class 5: 0.1985, Class 6: 0.3984, \n",
      "Overall Mean Dice Score: 0.4678\n",
      "'Overall_mean_f_beta_score': 0.5407\n",
      "\n",
      "Training Loss: 0.7717, Validation Loss: 0.8062\n",
      "Epoch 189/4000\n"
     ]
    },
    {
     "name": "stderr",
     "output_type": "stream",
     "text": [
      "Training: 100%|██████████| 24/24 [00:15<00:00,  1.53it/s, loss=0.765]\n",
      "Validation: 100%|██████████| 4/4 [00:01<00:00,  2.27it/s, loss=0.636]\n"
     ]
    },
    {
     "name": "stdout",
     "output_type": "stream",
     "text": [
      "Validation Dice Score\n",
      "Class 0: 0.9810, Class 1: 0.8394, Class 2: 0.0043, Class 3: 0.6290, \n",
      "Class 4: 0.3487, Class 5: 0.3985, Class 6: 0.7412, \n",
      "Validation F-beta Score\n",
      "Class 0: 0.9695, Class 1: 0.9107, Class 2: 0.0118, Class 3: 0.6568, \n",
      "Class 4: 0.7042, Class 5: 0.5393, Class 6: 0.7835, \n",
      "Overall Mean Dice Score: 0.5632\n",
      "'Overall_mean_f_beta_score': 0.6537\n",
      "\n",
      "Training Loss: 0.7636, Validation Loss: 0.6979\n",
      "========================================================\n",
      "Best model saved with validation loss: 0.6979\n",
      "========================================================\n",
      "Epoch 190/4000\n"
     ]
    },
    {
     "name": "stderr",
     "output_type": "stream",
     "text": [
      "Training: 100%|██████████| 24/24 [00:16<00:00,  1.45it/s, loss=0.736]\n",
      "Validation: 100%|██████████| 4/4 [00:01<00:00,  2.60it/s, loss=0.728]\n"
     ]
    },
    {
     "name": "stdout",
     "output_type": "stream",
     "text": [
      "Validation Dice Score\n",
      "Class 0: 0.9833, Class 1: 0.7582, Class 2: 0.1753, Class 3: 0.6084, \n",
      "Class 4: 0.5296, Class 5: 0.1954, Class 6: 0.5015, \n",
      "Validation F-beta Score\n",
      "Class 0: 0.9766, Class 1: 0.8659, Class 2: 0.2716, Class 3: 0.6808, \n",
      "Class 4: 0.5771, Class 5: 0.2328, Class 6: 0.5956, \n",
      "Overall Mean Dice Score: 0.5360\n",
      "'Overall_mean_f_beta_score': 0.6001\n",
      "\n",
      "Training Loss: 0.7631, Validation Loss: 0.7593\n",
      "Epoch 191/4000\n"
     ]
    },
    {
     "name": "stderr",
     "output_type": "stream",
     "text": [
      "Training: 100%|██████████| 24/24 [00:15<00:00,  1.53it/s, loss=0.728]\n",
      "Validation: 100%|██████████| 4/4 [00:01<00:00,  2.67it/s, loss=0.77] \n"
     ]
    },
    {
     "name": "stdout",
     "output_type": "stream",
     "text": [
      "Validation Dice Score\n",
      "Class 0: 0.9859, Class 1: 0.8254, Class 2: 0.0879, Class 3: 0.5648, \n",
      "Class 4: 0.4038, Class 5: 0.2916, Class 6: 0.5673, \n",
      "Validation F-beta Score\n",
      "Class 0: 0.9790, Class 1: 0.8801, Class 2: 0.2280, Class 3: 0.6611, \n",
      "Class 4: 0.3726, Class 5: 0.4328, Class 6: 0.6053, \n",
      "Overall Mean Dice Score: 0.5324\n",
      "'Overall_mean_f_beta_score': 0.5941\n",
      "\n",
      "Training Loss: 0.7760, Validation Loss: 0.7383\n",
      "Epoch 192/4000\n"
     ]
    },
    {
     "name": "stderr",
     "output_type": "stream",
     "text": [
      "Training: 100%|██████████| 24/24 [00:15<00:00,  1.53it/s, loss=0.767]\n",
      "Validation: 100%|██████████| 4/4 [00:01<00:00,  2.60it/s, loss=0.809]\n"
     ]
    },
    {
     "name": "stdout",
     "output_type": "stream",
     "text": [
      "Validation Dice Score\n",
      "Class 0: 0.9828, Class 1: 0.7130, Class 2: 0.1617, Class 3: 0.6360, \n",
      "Class 4: 0.4173, Class 5: 0.2357, Class 6: 0.3242, \n",
      "Validation F-beta Score\n",
      "Class 0: 0.9738, Class 1: 0.8531, Class 2: 0.3035, Class 3: 0.6535, \n",
      "Class 4: 0.5443, Class 5: 0.3699, Class 6: 0.4869, \n",
      "Overall Mean Dice Score: 0.4958\n",
      "'Overall_mean_f_beta_score': 0.5978\n",
      "\n",
      "Training Loss: 0.7687, Validation Loss: 0.7843\n",
      "Epoch 193/4000\n"
     ]
    },
    {
     "name": "stderr",
     "output_type": "stream",
     "text": [
      "Training: 100%|██████████| 24/24 [00:15<00:00,  1.52it/s, loss=0.728]\n",
      "Validation: 100%|██████████| 4/4 [00:01<00:00,  2.68it/s, loss=0.743]\n"
     ]
    },
    {
     "name": "stdout",
     "output_type": "stream",
     "text": [
      "Validation Dice Score\n",
      "Class 0: 0.9830, Class 1: 0.8195, Class 2: 0.0841, Class 3: 0.5031, \n",
      "Class 4: 0.2850, Class 5: 0.3772, Class 6: 0.6545, \n",
      "Validation F-beta Score\n",
      "Class 0: 0.9742, Class 1: 0.8516, Class 2: 0.1774, Class 3: 0.6414, \n",
      "Class 4: 0.5604, Class 5: 0.4998, Class 6: 0.7309, \n",
      "Overall Mean Dice Score: 0.5295\n",
      "'Overall_mean_f_beta_score': 0.6337\n",
      "\n",
      "Training Loss: 0.7761, Validation Loss: 0.7333\n",
      "Epoch 194/4000\n"
     ]
    },
    {
     "name": "stderr",
     "output_type": "stream",
     "text": [
      "Training: 100%|██████████| 24/24 [00:15<00:00,  1.54it/s, loss=0.789]\n",
      "Validation: 100%|██████████| 4/4 [00:01<00:00,  2.65it/s, loss=0.772]\n"
     ]
    },
    {
     "name": "stdout",
     "output_type": "stream",
     "text": [
      "Validation Dice Score\n",
      "Class 0: 0.9842, Class 1: 0.6235, Class 2: 0.0410, Class 3: 0.4662, \n",
      "Class 4: 0.5261, Class 5: 0.3762, Class 6: 0.5618, \n",
      "Validation F-beta Score\n",
      "Class 0: 0.9760, Class 1: 0.6645, Class 2: 0.1071, Class 3: 0.4646, \n",
      "Class 4: 0.7444, Class 5: 0.5726, Class 6: 0.6107, \n",
      "Overall Mean Dice Score: 0.5113\n",
      "'Overall_mean_f_beta_score': 0.5914\n",
      "\n",
      "Training Loss: 0.7703, Validation Loss: 0.7747\n",
      "Epoch 195/4000\n"
     ]
    },
    {
     "name": "stderr",
     "output_type": "stream",
     "text": [
      "Training: 100%|██████████| 24/24 [00:15<00:00,  1.53it/s, loss=0.796]\n",
      "Validation: 100%|██████████| 4/4 [00:01<00:00,  2.71it/s, loss=0.759]\n"
     ]
    },
    {
     "name": "stdout",
     "output_type": "stream",
     "text": [
      "Validation Dice Score\n",
      "Class 0: 0.9857, Class 1: 0.8051, Class 2: 0.1664, Class 3: 0.6490, \n",
      "Class 4: 0.3333, Class 5: 0.3431, Class 6: 0.3855, \n",
      "Validation F-beta Score\n",
      "Class 0: 0.9813, Class 1: 0.9185, Class 2: 0.3343, Class 3: 0.7027, \n",
      "Class 4: 0.2921, Class 5: 0.5066, Class 6: 0.3863, \n",
      "Overall Mean Dice Score: 0.5240\n",
      "'Overall_mean_f_beta_score': 0.5888\n",
      "\n",
      "Training Loss: 0.7689, Validation Loss: 0.7518\n",
      "Epoch 196/4000\n"
     ]
    },
    {
     "name": "stderr",
     "output_type": "stream",
     "text": [
      "Training: 100%|██████████| 24/24 [00:15<00:00,  1.53it/s, loss=0.764]\n",
      "Validation: 100%|██████████| 4/4 [00:01<00:00,  2.65it/s, loss=0.759]\n"
     ]
    },
    {
     "name": "stdout",
     "output_type": "stream",
     "text": [
      "Validation Dice Score\n",
      "Class 0: 0.9837, Class 1: 0.7140, Class 2: 0.1644, Class 3: 0.5615, \n",
      "Class 4: 0.4673, Class 5: 0.3272, Class 6: 0.3648, \n",
      "Validation F-beta Score\n",
      "Class 0: 0.9753, Class 1: 0.8667, Class 2: 0.3176, Class 3: 0.5983, \n",
      "Class 4: 0.5733, Class 5: 0.5163, Class 6: 0.3698, \n",
      "Overall Mean Dice Score: 0.5119\n",
      "'Overall_mean_f_beta_score': 0.6025\n",
      "\n",
      "Training Loss: 0.7660, Validation Loss: 0.7440\n",
      "Epoch 197/4000\n"
     ]
    },
    {
     "name": "stderr",
     "output_type": "stream",
     "text": [
      "Training: 100%|██████████| 24/24 [00:15<00:00,  1.53it/s, loss=0.758]\n",
      "Validation: 100%|██████████| 4/4 [00:01<00:00,  2.64it/s, loss=0.739]\n"
     ]
    },
    {
     "name": "stdout",
     "output_type": "stream",
     "text": [
      "Validation Dice Score\n",
      "Class 0: 0.9851, Class 1: 0.6977, Class 2: 0.1225, Class 3: 0.5771, \n",
      "Class 4: 0.3420, Class 5: 0.1913, Class 6: 0.6880, \n",
      "Validation F-beta Score\n",
      "Class 0: 0.9798, Class 1: 0.9166, Class 2: 0.2381, Class 3: 0.6510, \n",
      "Class 4: 0.3817, Class 5: 0.2469, Class 6: 0.7811, \n",
      "Overall Mean Dice Score: 0.5148\n",
      "'Overall_mean_f_beta_score': 0.5993\n",
      "\n",
      "Training Loss: 0.7894, Validation Loss: 0.7880\n",
      "Epoch 198/4000\n"
     ]
    },
    {
     "name": "stderr",
     "output_type": "stream",
     "text": [
      "Training: 100%|██████████| 24/24 [00:15<00:00,  1.51it/s, loss=0.82] \n",
      "Validation: 100%|██████████| 4/4 [00:01<00:00,  2.61it/s, loss=0.803]\n"
     ]
    },
    {
     "name": "stdout",
     "output_type": "stream",
     "text": [
      "Validation Dice Score\n",
      "Class 0: 0.9872, Class 1: 0.8138, Class 2: 0.1174, Class 3: 0.4762, \n",
      "Class 4: 0.1294, Class 5: 0.1877, Class 6: 0.7338, \n",
      "Validation F-beta Score\n",
      "Class 0: 0.9798, Class 1: 0.8570, Class 2: 0.2658, Class 3: 0.6009, \n",
      "Class 4: 0.1497, Class 5: 0.2755, Class 6: 0.8630, \n",
      "Overall Mean Dice Score: 0.4922\n",
      "'Overall_mean_f_beta_score': 0.5702\n",
      "\n",
      "Training Loss: 0.7788, Validation Loss: 0.7866\n",
      "Epoch 199/4000\n"
     ]
    },
    {
     "name": "stderr",
     "output_type": "stream",
     "text": [
      "Training: 100%|██████████| 24/24 [00:15<00:00,  1.52it/s, loss=0.817]\n",
      "Validation: 100%|██████████| 4/4 [00:01<00:00,  2.65it/s, loss=0.702]\n"
     ]
    },
    {
     "name": "stdout",
     "output_type": "stream",
     "text": [
      "Validation Dice Score\n",
      "Class 0: 0.9834, Class 1: 0.8213, Class 2: 0.1325, Class 3: 0.5842, \n",
      "Class 4: 0.2167, Class 5: 0.2314, Class 6: 0.5737, \n",
      "Validation F-beta Score\n",
      "Class 0: 0.9761, Class 1: 0.8924, Class 2: 0.2732, Class 3: 0.6682, \n",
      "Class 4: 0.1989, Class 5: 0.3042, Class 6: 0.6188, \n",
      "Overall Mean Dice Score: 0.5062\n",
      "'Overall_mean_f_beta_score': 0.5617\n",
      "\n",
      "Training Loss: 0.7804, Validation Loss: 0.7605\n",
      "Epoch 200/4000\n"
     ]
    },
    {
     "name": "stderr",
     "output_type": "stream",
     "text": [
      "Training: 100%|██████████| 24/24 [00:15<00:00,  1.52it/s, loss=0.814]\n",
      "Validation: 100%|██████████| 4/4 [00:01<00:00,  2.72it/s, loss=0.71] \n"
     ]
    },
    {
     "name": "stdout",
     "output_type": "stream",
     "text": [
      "Validation Dice Score\n",
      "Class 0: 0.9820, Class 1: 0.7739, Class 2: 0.1088, Class 3: 0.6453, \n",
      "Class 4: 0.1259, Class 5: 0.2380, Class 6: 0.3781, \n",
      "Validation F-beta Score\n",
      "Class 0: 0.9709, Class 1: 0.7998, Class 2: 0.2107, Class 3: 0.7474, \n",
      "Class 4: 0.2075, Class 5: 0.3281, Class 6: 0.6360, \n",
      "Overall Mean Dice Score: 0.4646\n",
      "'Overall_mean_f_beta_score': 0.5572\n",
      "\n",
      "Training Loss: 0.7785, Validation Loss: 0.7865\n",
      "Epoch 201/4000\n"
     ]
    },
    {
     "name": "stderr",
     "output_type": "stream",
     "text": [
      "Training: 100%|██████████| 24/24 [00:15<00:00,  1.52it/s, loss=0.81] \n",
      "Validation: 100%|██████████| 4/4 [00:01<00:00,  2.66it/s, loss=0.713]\n"
     ]
    },
    {
     "name": "stdout",
     "output_type": "stream",
     "text": [
      "Validation Dice Score\n",
      "Class 0: 0.9861, Class 1: 0.7876, Class 2: 0.0870, Class 3: 0.6482, \n",
      "Class 4: 0.6289, Class 5: 0.1826, Class 6: 0.4410, \n",
      "Validation F-beta Score\n",
      "Class 0: 0.9797, Class 1: 0.8350, Class 2: 0.1302, Class 3: 0.6251, \n",
      "Class 4: 0.5755, Class 5: 0.3627, Class 6: 0.5334, \n",
      "Overall Mean Dice Score: 0.5373\n",
      "'Overall_mean_f_beta_score': 0.5774\n",
      "\n",
      "Training Loss: 0.7772, Validation Loss: 0.7530\n",
      "Epoch 202/4000\n"
     ]
    },
    {
     "name": "stderr",
     "output_type": "stream",
     "text": [
      "Training: 100%|██████████| 24/24 [00:15<00:00,  1.53it/s, loss=0.798]\n",
      "Validation: 100%|██████████| 4/4 [00:01<00:00,  2.65it/s, loss=0.868]\n"
     ]
    },
    {
     "name": "stdout",
     "output_type": "stream",
     "text": [
      "Validation Dice Score\n",
      "Class 0: 0.9866, Class 1: 0.8105, Class 2: 0.2122, Class 3: 0.5937, \n",
      "Class 4: 0.4811, Class 5: 0.2109, Class 6: 0.7350, \n",
      "Validation F-beta Score\n",
      "Class 0: 0.9814, Class 1: 0.8860, Class 2: 0.4251, Class 3: 0.5921, \n",
      "Class 4: 0.5261, Class 5: 0.2306, Class 6: 0.8119, \n",
      "Overall Mean Dice Score: 0.5757\n",
      "'Overall_mean_f_beta_score': 0.6362\n",
      "\n",
      "Training Loss: 0.7696, Validation Loss: 0.7561\n",
      "Epoch 203/4000\n"
     ]
    },
    {
     "name": "stderr",
     "output_type": "stream",
     "text": [
      "Training: 100%|██████████| 24/24 [00:15<00:00,  1.54it/s, loss=0.649]\n",
      "Validation: 100%|██████████| 4/4 [00:01<00:00,  2.69it/s, loss=0.739]\n"
     ]
    },
    {
     "name": "stdout",
     "output_type": "stream",
     "text": [
      "Validation Dice Score\n",
      "Class 0: 0.9814, Class 1: 0.7377, Class 2: 0.1923, Class 3: 0.5917, \n",
      "Class 4: 0.4020, Class 5: 0.2280, Class 6: 0.4949, \n",
      "Validation F-beta Score\n",
      "Class 0: 0.9722, Class 1: 0.7470, Class 2: 0.4349, Class 3: 0.6257, \n",
      "Class 4: 0.4066, Class 5: 0.3846, Class 6: 0.5985, \n",
      "Overall Mean Dice Score: 0.5183\n",
      "'Overall_mean_f_beta_score': 0.5956\n",
      "\n",
      "Training Loss: 0.7833, Validation Loss: 0.7491\n",
      "Epoch 204/4000\n"
     ]
    },
    {
     "name": "stderr",
     "output_type": "stream",
     "text": [
      "Training: 100%|██████████| 24/24 [00:15<00:00,  1.53it/s, loss=0.869]\n",
      "Validation: 100%|██████████| 4/4 [00:01<00:00,  2.63it/s, loss=0.755]\n"
     ]
    },
    {
     "name": "stdout",
     "output_type": "stream",
     "text": [
      "Validation Dice Score\n",
      "Class 0: 0.9790, Class 1: 0.8009, Class 2: 0.2183, Class 3: 0.6085, \n",
      "Class 4: 0.3600, Class 5: 0.2342, Class 6: 0.5616, \n",
      "Validation F-beta Score\n",
      "Class 0: 0.9703, Class 1: 0.7904, Class 2: 0.4854, Class 3: 0.5777, \n",
      "Class 4: 0.5529, Class 5: 0.4396, Class 6: 0.5561, \n",
      "Overall Mean Dice Score: 0.5375\n",
      "'Overall_mean_f_beta_score': 0.6246\n",
      "\n",
      "Training Loss: 0.7677, Validation Loss: 0.7414\n",
      "Epoch 205/4000\n"
     ]
    },
    {
     "name": "stderr",
     "output_type": "stream",
     "text": [
      "Training: 100%|██████████| 24/24 [00:15<00:00,  1.52it/s, loss=0.866]\n",
      "Validation: 100%|██████████| 4/4 [00:01<00:00,  2.69it/s, loss=0.729]\n"
     ]
    },
    {
     "name": "stdout",
     "output_type": "stream",
     "text": [
      "Validation Dice Score\n",
      "Class 0: 0.9869, Class 1: 0.5759, Class 2: 0.0682, Class 3: 0.7222, \n",
      "Class 4: 0.5124, Class 5: 0.2887, Class 6: 0.7341, \n",
      "Validation F-beta Score\n",
      "Class 0: 0.9804, Class 1: 0.6611, Class 2: 0.1515, Class 3: 0.7425, \n",
      "Class 4: 0.5841, Class 5: 0.4699, Class 6: 0.6425, \n",
      "Overall Mean Dice Score: 0.5555\n",
      "'Overall_mean_f_beta_score': 0.6046\n",
      "\n",
      "Training Loss: 0.7922, Validation Loss: 0.7726\n",
      "Epoch 206/4000\n"
     ]
    },
    {
     "name": "stderr",
     "output_type": "stream",
     "text": [
      "Training: 100%|██████████| 24/24 [00:15<00:00,  1.54it/s, loss=0.752]\n",
      "Validation: 100%|██████████| 4/4 [00:01<00:00,  2.60it/s, loss=0.754]\n"
     ]
    },
    {
     "name": "stdout",
     "output_type": "stream",
     "text": [
      "Validation Dice Score\n",
      "Class 0: 0.9836, Class 1: 0.7702, Class 2: 0.1440, Class 3: 0.5879, \n",
      "Class 4: 0.3058, Class 5: 0.2841, Class 6: 0.4022, \n",
      "Validation F-beta Score\n",
      "Class 0: 0.9759, Class 1: 0.8542, Class 2: 0.3547, Class 3: 0.6178, \n",
      "Class 4: 0.5725, Class 5: 0.4159, Class 6: 0.4467, \n",
      "Overall Mean Dice Score: 0.4968\n",
      "'Overall_mean_f_beta_score': 0.6054\n",
      "\n",
      "Training Loss: 0.7708, Validation Loss: 0.7292\n",
      "Epoch 207/4000\n"
     ]
    },
    {
     "name": "stderr",
     "output_type": "stream",
     "text": [
      "Training: 100%|██████████| 24/24 [00:15<00:00,  1.53it/s, loss=0.773]\n",
      "Validation: 100%|██████████| 4/4 [00:01<00:00,  2.66it/s, loss=0.77] \n"
     ]
    },
    {
     "name": "stdout",
     "output_type": "stream",
     "text": [
      "Validation Dice Score\n",
      "Class 0: 0.9844, Class 1: 0.8025, Class 2: 0.0838, Class 3: 0.4944, \n",
      "Class 4: 0.5009, Class 5: 0.2762, Class 6: 0.4027, \n",
      "Validation F-beta Score\n",
      "Class 0: 0.9747, Class 1: 0.8619, Class 2: 0.2022, Class 3: 0.5976, \n",
      "Class 4: 0.6522, Class 5: 0.4896, Class 6: 0.4664, \n",
      "Overall Mean Dice Score: 0.5064\n",
      "'Overall_mean_f_beta_score': 0.6064\n",
      "\n",
      "Training Loss: 0.7809, Validation Loss: 0.7661\n",
      "Epoch 208/4000\n"
     ]
    },
    {
     "name": "stderr",
     "output_type": "stream",
     "text": [
      "Training: 100%|██████████| 24/24 [00:15<00:00,  1.53it/s, loss=0.754]\n",
      "Validation: 100%|██████████| 4/4 [00:01<00:00,  2.60it/s, loss=0.861]\n"
     ]
    },
    {
     "name": "stdout",
     "output_type": "stream",
     "text": [
      "Validation Dice Score\n",
      "Class 0: 0.9824, Class 1: 0.8525, Class 2: 0.0714, Class 3: 0.5882, \n",
      "Class 4: 0.3327, Class 5: 0.1386, Class 6: 0.2757, \n",
      "Validation F-beta Score\n",
      "Class 0: 0.9718, Class 1: 0.8435, Class 2: 0.1281, Class 3: 0.6465, \n",
      "Class 4: 0.4488, Class 5: 0.2749, Class 6: 0.3574, \n",
      "Overall Mean Dice Score: 0.4631\n",
      "'Overall_mean_f_beta_score': 0.5244\n",
      "\n",
      "Training Loss: 0.7707, Validation Loss: 0.7830\n",
      "Epoch 209/4000\n"
     ]
    },
    {
     "name": "stderr",
     "output_type": "stream",
     "text": [
      "Training: 100%|██████████| 24/24 [00:15<00:00,  1.52it/s, loss=0.818]\n",
      "Validation: 100%|██████████| 4/4 [00:01<00:00,  2.69it/s, loss=0.81] \n"
     ]
    },
    {
     "name": "stdout",
     "output_type": "stream",
     "text": [
      "Validation Dice Score\n",
      "Class 0: 0.9828, Class 1: 0.7953, Class 2: 0.1264, Class 3: 0.5389, \n",
      "Class 4: 0.3190, Class 5: 0.1065, Class 6: 0.7574, \n",
      "Validation F-beta Score\n",
      "Class 0: 0.9735, Class 1: 0.8852, Class 2: 0.2594, Class 3: 0.6627, \n",
      "Class 4: 0.3673, Class 5: 0.2451, Class 6: 0.7106, \n",
      "Overall Mean Dice Score: 0.5181\n",
      "'Overall_mean_f_beta_score': 0.5862\n",
      "\n",
      "Training Loss: 0.7783, Validation Loss: 0.7835\n",
      "Epoch 210/4000\n"
     ]
    },
    {
     "name": "stderr",
     "output_type": "stream",
     "text": [
      "Training: 100%|██████████| 24/24 [00:15<00:00,  1.53it/s, loss=0.81] \n",
      "Validation: 100%|██████████| 4/4 [00:01<00:00,  2.64it/s, loss=0.792]\n"
     ]
    },
    {
     "name": "stdout",
     "output_type": "stream",
     "text": [
      "Validation Dice Score\n",
      "Class 0: 0.9845, Class 1: 0.7376, Class 2: 0.1126, Class 3: 0.5025, \n",
      "Class 4: 0.3156, Class 5: 0.2636, Class 6: 0.7613, \n",
      "Validation F-beta Score\n",
      "Class 0: 0.9789, Class 1: 0.7653, Class 2: 0.2915, Class 3: 0.5765, \n",
      "Class 4: 0.2888, Class 5: 0.3860, Class 6: 0.7687, \n",
      "Overall Mean Dice Score: 0.5254\n",
      "'Overall_mean_f_beta_score': 0.5794\n",
      "\n",
      "Training Loss: 0.7630, Validation Loss: 0.7696\n",
      "Epoch 211/4000\n"
     ]
    },
    {
     "name": "stderr",
     "output_type": "stream",
     "text": [
      "Training: 100%|██████████| 24/24 [00:15<00:00,  1.55it/s, loss=0.833]\n",
      "Validation: 100%|██████████| 4/4 [00:01<00:00,  2.67it/s, loss=0.664]\n"
     ]
    },
    {
     "name": "stdout",
     "output_type": "stream",
     "text": [
      "Validation Dice Score\n",
      "Class 0: 0.9849, Class 1: 0.8381, Class 2: 0.1224, Class 3: 0.6123, \n",
      "Class 4: 0.3554, Class 5: 0.4046, Class 6: 0.7948, \n",
      "Validation F-beta Score\n",
      "Class 0: 0.9777, Class 1: 0.9233, Class 2: 0.2877, Class 3: 0.7006, \n",
      "Class 4: 0.4932, Class 5: 0.5502, Class 6: 0.8167, \n",
      "Overall Mean Dice Score: 0.5875\n",
      "'Overall_mean_f_beta_score': 0.6785\n",
      "\n",
      "Training Loss: 0.7682, Validation Loss: 0.7282\n",
      "Epoch 212/4000\n"
     ]
    },
    {
     "name": "stderr",
     "output_type": "stream",
     "text": [
      "Training: 100%|██████████| 24/24 [00:15<00:00,  1.52it/s, loss=0.864]\n",
      "Validation: 100%|██████████| 4/4 [00:01<00:00,  2.61it/s, loss=0.628]\n"
     ]
    },
    {
     "name": "stdout",
     "output_type": "stream",
     "text": [
      "Validation Dice Score\n",
      "Class 0: 0.9865, Class 1: 0.6378, Class 2: 0.1426, Class 3: 0.6395, \n",
      "Class 4: 0.5239, Class 5: 0.3600, Class 6: 0.7488, \n",
      "Validation F-beta Score\n",
      "Class 0: 0.9831, Class 1: 0.6883, Class 2: 0.2481, Class 3: 0.6793, \n",
      "Class 4: 0.5849, Class 5: 0.4160, Class 6: 0.8248, \n",
      "Overall Mean Dice Score: 0.5770\n",
      "'Overall_mean_f_beta_score': 0.6321\n",
      "\n",
      "Training Loss: 0.7722, Validation Loss: 0.7139\n",
      "Epoch 213/4000\n"
     ]
    },
    {
     "name": "stderr",
     "output_type": "stream",
     "text": [
      "Training: 100%|██████████| 24/24 [00:15<00:00,  1.53it/s, loss=0.799]\n",
      "Validation: 100%|██████████| 4/4 [00:01<00:00,  2.65it/s, loss=0.83] \n"
     ]
    },
    {
     "name": "stdout",
     "output_type": "stream",
     "text": [
      "Validation Dice Score\n",
      "Class 0: 0.9860, Class 1: 0.7153, Class 2: 0.2016, Class 3: 0.4997, \n",
      "Class 4: 0.3565, Class 5: 0.2537, Class 6: 0.4208, \n",
      "Validation F-beta Score\n",
      "Class 0: 0.9829, Class 1: 0.8584, Class 2: 0.2991, Class 3: 0.6886, \n",
      "Class 4: 0.3295, Class 5: 0.3828, Class 6: 0.4218, \n",
      "Overall Mean Dice Score: 0.4905\n",
      "'Overall_mean_f_beta_score': 0.5662\n",
      "\n",
      "Training Loss: 0.7837, Validation Loss: 0.8115\n",
      "Epoch 214/4000\n"
     ]
    },
    {
     "name": "stderr",
     "output_type": "stream",
     "text": [
      "Training: 100%|██████████| 24/24 [00:15<00:00,  1.54it/s, loss=0.809]\n",
      "Validation: 100%|██████████| 4/4 [00:01<00:00,  2.71it/s, loss=0.773]\n"
     ]
    },
    {
     "name": "stdout",
     "output_type": "stream",
     "text": [
      "Validation Dice Score\n",
      "Class 0: 0.9875, Class 1: 0.6688, Class 2: 0.0464, Class 3: 0.5849, \n",
      "Class 4: 0.3418, Class 5: 0.1540, Class 6: 0.4380, \n",
      "Validation F-beta Score\n",
      "Class 0: 0.9809, Class 1: 0.8849, Class 2: 0.1145, Class 3: 0.6836, \n",
      "Class 4: 0.2920, Class 5: 0.2251, Class 6: 0.5168, \n",
      "Overall Mean Dice Score: 0.4602\n",
      "'Overall_mean_f_beta_score': 0.5283\n",
      "\n",
      "Training Loss: 0.7812, Validation Loss: 0.8089\n",
      "Epoch 215/4000\n"
     ]
    },
    {
     "name": "stderr",
     "output_type": "stream",
     "text": [
      "Training: 100%|██████████| 24/24 [00:16<00:00,  1.50it/s, loss=0.769]\n",
      "Validation: 100%|██████████| 4/4 [00:01<00:00,  2.71it/s, loss=0.817]\n"
     ]
    },
    {
     "name": "stdout",
     "output_type": "stream",
     "text": [
      "Validation Dice Score\n",
      "Class 0: 0.9820, Class 1: 0.6499, Class 2: 0.0770, Class 3: 0.5819, \n",
      "Class 4: 0.3075, Class 5: 0.2705, Class 6: 0.4544, \n",
      "Validation F-beta Score\n",
      "Class 0: 0.9732, Class 1: 0.8682, Class 2: 0.1376, Class 3: 0.5704, \n",
      "Class 4: 0.3156, Class 5: 0.3623, Class 6: 0.6645, \n",
      "Overall Mean Dice Score: 0.4748\n",
      "'Overall_mean_f_beta_score': 0.5560\n",
      "\n",
      "Training Loss: 0.7844, Validation Loss: 0.7761\n",
      "Epoch 216/4000\n"
     ]
    },
    {
     "name": "stderr",
     "output_type": "stream",
     "text": [
      "Training: 100%|██████████| 24/24 [00:15<00:00,  1.51it/s, loss=0.845]\n",
      "Validation: 100%|██████████| 4/4 [00:01<00:00,  2.62it/s, loss=0.814]\n"
     ]
    },
    {
     "name": "stdout",
     "output_type": "stream",
     "text": [
      "Validation Dice Score\n",
      "Class 0: 0.9848, Class 1: 0.7314, Class 2: 0.2522, Class 3: 0.6795, \n",
      "Class 4: 0.4988, Class 5: 0.1896, Class 6: 0.7570, \n",
      "Validation F-beta Score\n",
      "Class 0: 0.9769, Class 1: 0.8296, Class 2: 0.4274, Class 3: 0.7643, \n",
      "Class 4: 0.6321, Class 5: 0.2675, Class 6: 0.8518, \n",
      "Overall Mean Dice Score: 0.5847\n",
      "'Overall_mean_f_beta_score': 0.6785\n",
      "\n",
      "Training Loss: 0.7735, Validation Loss: 0.7374\n",
      "Epoch 217/4000\n"
     ]
    },
    {
     "name": "stderr",
     "output_type": "stream",
     "text": [
      "Training: 100%|██████████| 24/24 [00:15<00:00,  1.54it/s, loss=0.666]\n",
      "Validation: 100%|██████████| 4/4 [00:01<00:00,  2.71it/s, loss=0.708]\n"
     ]
    },
    {
     "name": "stdout",
     "output_type": "stream",
     "text": [
      "Validation Dice Score\n",
      "Class 0: 0.9829, Class 1: 0.8253, Class 2: 0.0367, Class 3: 0.6512, \n",
      "Class 4: 0.5071, Class 5: 0.2930, Class 6: 0.6123, \n",
      "Validation F-beta Score\n",
      "Class 0: 0.9744, Class 1: 0.8433, Class 2: 0.0918, Class 3: 0.7232, \n",
      "Class 4: 0.6320, Class 5: 0.3713, Class 6: 0.6943, \n",
      "Overall Mean Dice Score: 0.5584\n",
      "'Overall_mean_f_beta_score': 0.6186\n",
      "\n",
      "Training Loss: 0.7671, Validation Loss: 0.7331\n",
      "Epoch 218/4000\n"
     ]
    },
    {
     "name": "stderr",
     "output_type": "stream",
     "text": [
      "Training: 100%|██████████| 24/24 [00:15<00:00,  1.53it/s, loss=0.787]\n",
      "Validation: 100%|██████████| 4/4 [00:01<00:00,  2.72it/s, loss=0.829]\n"
     ]
    },
    {
     "name": "stdout",
     "output_type": "stream",
     "text": [
      "Validation Dice Score\n",
      "Class 0: 0.9835, Class 1: 0.7719, Class 2: 0.0036, Class 3: 0.6589, \n",
      "Class 4: 0.3772, Class 5: 0.1334, Class 6: 0.3330, \n",
      "Validation F-beta Score\n",
      "Class 0: 0.9741, Class 1: 0.8714, Class 2: 0.0119, Class 3: 0.7366, \n",
      "Class 4: 0.4802, Class 5: 0.2664, Class 6: 0.4609, \n",
      "Overall Mean Dice Score: 0.4659\n",
      "'Overall_mean_f_beta_score': 0.5431\n",
      "\n",
      "Training Loss: 0.7783, Validation Loss: 0.7796\n",
      "Epoch 219/4000\n"
     ]
    },
    {
     "name": "stderr",
     "output_type": "stream",
     "text": [
      "Training: 100%|██████████| 24/24 [00:15<00:00,  1.52it/s, loss=0.744]\n",
      "Validation: 100%|██████████| 4/4 [00:01<00:00,  2.62it/s, loss=0.743]\n"
     ]
    },
    {
     "name": "stdout",
     "output_type": "stream",
     "text": [
      "Validation Dice Score\n",
      "Class 0: 0.9838, Class 1: 0.7654, Class 2: 0.2386, Class 3: 0.4695, \n",
      "Class 4: 0.3082, Class 5: 0.1729, Class 6: 0.3464, \n",
      "Validation F-beta Score\n",
      "Class 0: 0.9730, Class 1: 0.8785, Class 2: 0.4216, Class 3: 0.5914, \n",
      "Class 4: 0.3952, Class 5: 0.3730, Class 6: 0.4644, \n",
      "Overall Mean Dice Score: 0.4692\n",
      "'Overall_mean_f_beta_score': 0.5853\n",
      "\n",
      "Training Loss: 0.7778, Validation Loss: 0.7840\n",
      "Epoch 220/4000\n"
     ]
    },
    {
     "name": "stderr",
     "output_type": "stream",
     "text": [
      "Training: 100%|██████████| 24/24 [00:15<00:00,  1.54it/s, loss=0.786]\n",
      "Validation: 100%|██████████| 4/4 [00:01<00:00,  2.70it/s, loss=0.764]\n"
     ]
    },
    {
     "name": "stdout",
     "output_type": "stream",
     "text": [
      "Validation Dice Score\n",
      "Class 0: 0.9847, Class 1: 0.8139, Class 2: 0.1273, Class 3: 0.5707, \n",
      "Class 4: 0.4530, Class 5: 0.2347, Class 6: 0.4180, \n",
      "Validation F-beta Score\n",
      "Class 0: 0.9761, Class 1: 0.8323, Class 2: 0.2831, Class 3: 0.6724, \n",
      "Class 4: 0.5634, Class 5: 0.4773, Class 6: 0.3919, \n",
      "Overall Mean Dice Score: 0.5146\n",
      "'Overall_mean_f_beta_score': 0.5995\n",
      "\n",
      "Training Loss: 0.7822, Validation Loss: 0.7415\n",
      "Epoch 221/4000\n"
     ]
    },
    {
     "name": "stderr",
     "output_type": "stream",
     "text": [
      "Training: 100%|██████████| 24/24 [00:15<00:00,  1.52it/s, loss=0.849]\n",
      "Validation: 100%|██████████| 4/4 [00:01<00:00,  2.70it/s, loss=0.746]\n"
     ]
    },
    {
     "name": "stdout",
     "output_type": "stream",
     "text": [
      "Validation Dice Score\n",
      "Class 0: 0.9862, Class 1: 0.5295, Class 2: 0.1176, Class 3: 0.6969, \n",
      "Class 4: 0.1212, Class 5: 0.2716, Class 6: 0.6927, \n",
      "Validation F-beta Score\n",
      "Class 0: 0.9779, Class 1: 0.6720, Class 2: 0.3229, Class 3: 0.7618, \n",
      "Class 4: 0.2585, Class 5: 0.4527, Class 6: 0.8677, \n",
      "Overall Mean Dice Score: 0.4880\n",
      "'Overall_mean_f_beta_score': 0.6162\n",
      "\n",
      "Training Loss: 0.7680, Validation Loss: 0.7756\n",
      "Epoch 222/4000\n"
     ]
    },
    {
     "name": "stderr",
     "output_type": "stream",
     "text": [
      "Training: 100%|██████████| 24/24 [00:15<00:00,  1.52it/s, loss=0.698]\n",
      "Validation: 100%|██████████| 4/4 [00:01<00:00,  2.72it/s, loss=0.805]\n"
     ]
    },
    {
     "name": "stdout",
     "output_type": "stream",
     "text": [
      "Validation Dice Score\n",
      "Class 0: 0.9849, Class 1: 0.7393, Class 2: 0.1378, Class 3: 0.6230, \n",
      "Class 4: 0.4477, Class 5: 0.3500, Class 6: 0.5984, \n",
      "Validation F-beta Score\n",
      "Class 0: 0.9789, Class 1: 0.8084, Class 2: 0.2965, Class 3: 0.6941, \n",
      "Class 4: 0.5047, Class 5: 0.5193, Class 6: 0.6850, \n",
      "Overall Mean Dice Score: 0.5544\n",
      "'Overall_mean_f_beta_score': 0.6410\n",
      "\n",
      "Training Loss: 0.7711, Validation Loss: 0.7244\n",
      "Epoch 223/4000\n"
     ]
    },
    {
     "name": "stderr",
     "output_type": "stream",
     "text": [
      "Training: 100%|██████████| 24/24 [00:15<00:00,  1.53it/s, loss=0.801]\n",
      "Validation: 100%|██████████| 4/4 [00:01<00:00,  2.73it/s, loss=0.726]\n"
     ]
    },
    {
     "name": "stdout",
     "output_type": "stream",
     "text": [
      "Validation Dice Score\n",
      "Class 0: 0.9854, Class 1: 0.8155, Class 2: 0.2230, Class 3: 0.5104, \n",
      "Class 4: 0.4421, Class 5: 0.2804, Class 6: 0.6465, \n",
      "Validation F-beta Score\n",
      "Class 0: 0.9783, Class 1: 0.8544, Class 2: 0.3246, Class 3: 0.6727, \n",
      "Class 4: 0.6626, Class 5: 0.3999, Class 6: 0.6022, \n",
      "Overall Mean Dice Score: 0.5576\n",
      "'Overall_mean_f_beta_score': 0.6421\n",
      "\n",
      "Training Loss: 0.7691, Validation Loss: 0.7635\n",
      "Epoch 224/4000\n"
     ]
    },
    {
     "name": "stderr",
     "output_type": "stream",
     "text": [
      "Training: 100%|██████████| 24/24 [00:15<00:00,  1.53it/s, loss=0.836]\n",
      "Validation: 100%|██████████| 4/4 [00:01<00:00,  2.65it/s, loss=0.732]\n"
     ]
    },
    {
     "name": "stdout",
     "output_type": "stream",
     "text": [
      "Validation Dice Score\n",
      "Class 0: 0.9846, Class 1: 0.7976, Class 2: 0.0908, Class 3: 0.6316, \n",
      "Class 4: 0.5582, Class 5: 0.1973, Class 6: 0.5155, \n",
      "Validation F-beta Score\n",
      "Class 0: 0.9771, Class 1: 0.8919, Class 2: 0.2341, Class 3: 0.6684, \n",
      "Class 4: 0.6156, Class 5: 0.3681, Class 6: 0.6136, \n",
      "Overall Mean Dice Score: 0.5394\n",
      "'Overall_mean_f_beta_score': 0.6241\n",
      "\n",
      "Training Loss: 0.7737, Validation Loss: 0.7622\n",
      "Epoch 225/4000\n"
     ]
    },
    {
     "name": "stderr",
     "output_type": "stream",
     "text": [
      "Training: 100%|██████████| 24/24 [00:15<00:00,  1.53it/s, loss=0.774]\n",
      "Validation: 100%|██████████| 4/4 [00:01<00:00,  2.70it/s, loss=0.735]\n"
     ]
    },
    {
     "name": "stdout",
     "output_type": "stream",
     "text": [
      "Validation Dice Score\n",
      "Class 0: 0.9826, Class 1: 0.7969, Class 2: 0.0214, Class 3: 0.6276, \n",
      "Class 4: 0.4462, Class 5: 0.2404, Class 6: 0.6583, \n",
      "Validation F-beta Score\n",
      "Class 0: 0.9748, Class 1: 0.9132, Class 2: 0.0772, Class 3: 0.6068, \n",
      "Class 4: 0.5269, Class 5: 0.3265, Class 6: 0.8343, \n",
      "Overall Mean Dice Score: 0.5391\n",
      "'Overall_mean_f_beta_score': 0.6085\n",
      "\n",
      "Training Loss: 0.7732, Validation Loss: 0.7444\n",
      "Epoch 226/4000\n"
     ]
    },
    {
     "name": "stderr",
     "output_type": "stream",
     "text": [
      "Training: 100%|██████████| 24/24 [00:15<00:00,  1.52it/s, loss=0.719]\n",
      "Validation: 100%|██████████| 4/4 [00:01<00:00,  2.71it/s, loss=0.786]\n"
     ]
    },
    {
     "name": "stdout",
     "output_type": "stream",
     "text": [
      "Validation Dice Score\n",
      "Class 0: 0.9820, Class 1: 0.8636, Class 2: 0.1811, Class 3: 0.5926, \n",
      "Class 4: 0.5817, Class 5: 0.1905, Class 6: 0.3408, \n",
      "Validation F-beta Score\n",
      "Class 0: 0.9714, Class 1: 0.8696, Class 2: 0.2913, Class 3: 0.6571, \n",
      "Class 4: 0.6145, Class 5: 0.3866, Class 6: 0.4280, \n",
      "Overall Mean Dice Score: 0.5332\n",
      "'Overall_mean_f_beta_score': 0.6027\n",
      "\n",
      "Training Loss: 0.7586, Validation Loss: 0.7428\n",
      "Epoch 227/4000\n"
     ]
    },
    {
     "name": "stderr",
     "output_type": "stream",
     "text": [
      "Training: 100%|██████████| 24/24 [00:15<00:00,  1.54it/s, loss=0.836]\n",
      "Validation: 100%|██████████| 4/4 [00:01<00:00,  2.61it/s, loss=0.739]\n"
     ]
    },
    {
     "name": "stdout",
     "output_type": "stream",
     "text": [
      "Validation Dice Score\n",
      "Class 0: 0.9852, Class 1: 0.8439, Class 2: 0.0863, Class 3: 0.6787, \n",
      "Class 4: 0.4005, Class 5: 0.2554, Class 6: 0.4494, \n",
      "Validation F-beta Score\n",
      "Class 0: 0.9776, Class 1: 0.8225, Class 2: 0.1685, Class 3: 0.7118, \n",
      "Class 4: 0.6365, Class 5: 0.3873, Class 6: 0.6025, \n",
      "Overall Mean Dice Score: 0.5285\n",
      "'Overall_mean_f_beta_score': 0.6152\n",
      "\n",
      "Training Loss: 0.7848, Validation Loss: 0.7566\n",
      "Epoch 228/4000\n"
     ]
    },
    {
     "name": "stderr",
     "output_type": "stream",
     "text": [
      "Training: 100%|██████████| 24/24 [00:15<00:00,  1.54it/s, loss=0.69] \n",
      "Validation: 100%|██████████| 4/4 [00:01<00:00,  2.68it/s, loss=0.78] \n"
     ]
    },
    {
     "name": "stdout",
     "output_type": "stream",
     "text": [
      "Validation Dice Score\n",
      "Class 0: 0.9799, Class 1: 0.7777, Class 2: 0.0735, Class 3: 0.5999, \n",
      "Class 4: 0.4405, Class 5: 0.2384, Class 6: 0.5801, \n",
      "Validation F-beta Score\n",
      "Class 0: 0.9679, Class 1: 0.8814, Class 2: 0.1681, Class 3: 0.6038, \n",
      "Class 4: 0.7308, Class 5: 0.4192, Class 6: 0.6378, \n",
      "Overall Mean Dice Score: 0.5271\n",
      "'Overall_mean_f_beta_score': 0.6299\n",
      "\n",
      "Training Loss: 0.7890, Validation Loss: 0.7486\n",
      "Epoch 229/4000\n"
     ]
    },
    {
     "name": "stderr",
     "output_type": "stream",
     "text": [
      "Training: 100%|██████████| 24/24 [00:15<00:00,  1.53it/s, loss=0.742]\n",
      "Validation: 100%|██████████| 4/4 [00:01<00:00,  2.72it/s, loss=0.785]\n"
     ]
    },
    {
     "name": "stdout",
     "output_type": "stream",
     "text": [
      "Validation Dice Score\n",
      "Class 0: 0.9821, Class 1: 0.6860, Class 2: 0.0850, Class 3: 0.5414, \n",
      "Class 4: 0.4699, Class 5: 0.3206, Class 6: 0.6044, \n",
      "Validation F-beta Score\n",
      "Class 0: 0.9732, Class 1: 0.8588, Class 2: 0.1248, Class 3: 0.6292, \n",
      "Class 4: 0.6325, Class 5: 0.4817, Class 6: 0.6373, \n",
      "Overall Mean Dice Score: 0.5271\n",
      "'Overall_mean_f_beta_score': 0.6196\n",
      "\n",
      "Training Loss: 0.7748, Validation Loss: 0.7485\n",
      "Epoch 230/4000\n"
     ]
    },
    {
     "name": "stderr",
     "output_type": "stream",
     "text": [
      "Training: 100%|██████████| 24/24 [00:15<00:00,  1.54it/s, loss=0.776]\n",
      "Validation: 100%|██████████| 4/4 [00:01<00:00,  2.65it/s, loss=0.751]\n"
     ]
    },
    {
     "name": "stdout",
     "output_type": "stream",
     "text": [
      "Validation Dice Score\n",
      "Class 0: 0.9846, Class 1: 0.7729, Class 2: 0.1691, Class 3: 0.6231, \n",
      "Class 4: 0.5004, Class 5: 0.2572, Class 6: 0.5575, \n",
      "Validation F-beta Score\n",
      "Class 0: 0.9773, Class 1: 0.8068, Class 2: 0.2859, Class 3: 0.6552, \n",
      "Class 4: 0.6315, Class 5: 0.4228, Class 6: 0.6069, \n",
      "Overall Mean Dice Score: 0.5521\n",
      "'Overall_mean_f_beta_score': 0.6266\n",
      "\n",
      "Training Loss: 0.7808, Validation Loss: 0.7675\n",
      "Epoch 231/4000\n"
     ]
    },
    {
     "name": "stderr",
     "output_type": "stream",
     "text": [
      "Training: 100%|██████████| 24/24 [00:15<00:00,  1.52it/s, loss=0.804]\n",
      "Validation: 100%|██████████| 4/4 [00:01<00:00,  2.65it/s, loss=0.752]\n"
     ]
    },
    {
     "name": "stdout",
     "output_type": "stream",
     "text": [
      "Validation Dice Score\n",
      "Class 0: 0.9849, Class 1: 0.7989, Class 2: 0.0958, Class 3: 0.6165, \n",
      "Class 4: 0.4022, Class 5: 0.2623, Class 6: 0.6924, \n",
      "Validation F-beta Score\n",
      "Class 0: 0.9767, Class 1: 0.7731, Class 2: 0.1376, Class 3: 0.7156, \n",
      "Class 4: 0.5812, Class 5: 0.5069, Class 6: 0.7313, \n",
      "Overall Mean Dice Score: 0.5504\n",
      "'Overall_mean_f_beta_score': 0.6318\n",
      "\n",
      "Training Loss: 0.7659, Validation Loss: 0.7533\n",
      "Epoch 232/4000\n"
     ]
    },
    {
     "name": "stderr",
     "output_type": "stream",
     "text": [
      "Training: 100%|██████████| 24/24 [00:15<00:00,  1.53it/s, loss=0.746]\n",
      "Validation: 100%|██████████| 4/4 [00:01<00:00,  2.75it/s, loss=0.755]\n"
     ]
    },
    {
     "name": "stdout",
     "output_type": "stream",
     "text": [
      "Validation Dice Score\n",
      "Class 0: 0.9831, Class 1: 0.8189, Class 2: 0.1633, Class 3: 0.5879, \n",
      "Class 4: 0.3108, Class 5: 0.2726, Class 6: 0.7489, \n",
      "Validation F-beta Score\n",
      "Class 0: 0.9731, Class 1: 0.8937, Class 2: 0.2685, Class 3: 0.6820, \n",
      "Class 4: 0.4544, Class 5: 0.4997, Class 6: 0.7992, \n",
      "Overall Mean Dice Score: 0.5551\n",
      "'Overall_mean_f_beta_score': 0.6529\n",
      "\n",
      "Training Loss: 0.7720, Validation Loss: 0.7412\n",
      "Epoch 233/4000\n"
     ]
    },
    {
     "name": "stderr",
     "output_type": "stream",
     "text": [
      "Training: 100%|██████████| 24/24 [00:15<00:00,  1.55it/s, loss=0.763]\n",
      "Validation: 100%|██████████| 4/4 [00:01<00:00,  2.74it/s, loss=0.696]\n"
     ]
    },
    {
     "name": "stdout",
     "output_type": "stream",
     "text": [
      "Validation Dice Score\n",
      "Class 0: 0.9864, Class 1: 0.8189, Class 2: 0.0715, Class 3: 0.6048, \n",
      "Class 4: 0.5118, Class 5: 0.2672, Class 6: 0.7388, \n",
      "Validation F-beta Score\n",
      "Class 0: 0.9817, Class 1: 0.7836, Class 2: 0.1750, Class 3: 0.6656, \n",
      "Class 4: 0.4683, Class 5: 0.3976, Class 6: 0.7545, \n",
      "Overall Mean Dice Score: 0.5713\n",
      "'Overall_mean_f_beta_score': 0.6038\n",
      "\n",
      "Training Loss: 0.7831, Validation Loss: 0.7163\n",
      "Epoch 234/4000\n"
     ]
    },
    {
     "name": "stderr",
     "output_type": "stream",
     "text": [
      "Training: 100%|██████████| 24/24 [00:15<00:00,  1.52it/s, loss=0.775]\n",
      "Validation: 100%|██████████| 4/4 [00:01<00:00,  2.66it/s, loss=0.745]\n"
     ]
    },
    {
     "name": "stdout",
     "output_type": "stream",
     "text": [
      "Validation Dice Score\n",
      "Class 0: 0.9831, Class 1: 0.8061, Class 2: 0.0870, Class 3: 0.5601, \n",
      "Class 4: 0.2742, Class 5: 0.1740, Class 6: 0.5308, \n",
      "Validation F-beta Score\n",
      "Class 0: 0.9725, Class 1: 0.8779, Class 2: 0.1739, Class 3: 0.6045, \n",
      "Class 4: 0.3748, Class 5: 0.2628, Class 6: 0.4823, \n",
      "Overall Mean Dice Score: 0.4879\n",
      "'Overall_mean_f_beta_score': 0.5355\n",
      "\n",
      "Training Loss: 0.7765, Validation Loss: 0.7787\n",
      "Epoch 235/4000\n"
     ]
    },
    {
     "name": "stderr",
     "output_type": "stream",
     "text": [
      "Training: 100%|██████████| 24/24 [00:15<00:00,  1.53it/s, loss=0.735]\n",
      "Validation: 100%|██████████| 4/4 [00:01<00:00,  2.63it/s, loss=0.771]\n"
     ]
    },
    {
     "name": "stdout",
     "output_type": "stream",
     "text": [
      "Validation Dice Score\n",
      "Class 0: 0.9828, Class 1: 0.7477, Class 2: 0.2866, Class 3: 0.6175, \n",
      "Class 4: 0.5619, Class 5: 0.3941, Class 6: 0.6119, \n",
      "Validation F-beta Score\n",
      "Class 0: 0.9754, Class 1: 0.8431, Class 2: 0.4560, Class 3: 0.6644, \n",
      "Class 4: 0.6572, Class 5: 0.5767, Class 6: 0.6843, \n",
      "Overall Mean Dice Score: 0.6004\n",
      "'Overall_mean_f_beta_score': 0.6939\n",
      "\n",
      "Training Loss: 0.7558, Validation Loss: 0.7251\n",
      "Epoch 236/4000\n"
     ]
    },
    {
     "name": "stderr",
     "output_type": "stream",
     "text": [
      "Training: 100%|██████████| 24/24 [00:15<00:00,  1.51it/s, loss=0.81] \n",
      "Validation: 100%|██████████| 4/4 [00:01<00:00,  2.68it/s, loss=0.754]\n"
     ]
    },
    {
     "name": "stdout",
     "output_type": "stream",
     "text": [
      "Validation Dice Score\n",
      "Class 0: 0.9900, Class 1: 0.8089, Class 2: 0.0983, Class 3: 0.5899, \n",
      "Class 4: 0.5148, Class 5: 0.1311, Class 6: 0.4378, \n",
      "Validation F-beta Score\n",
      "Class 0: 0.9842, Class 1: 0.8346, Class 2: 0.2143, Class 3: 0.6852, \n",
      "Class 4: 0.5768, Class 5: 0.2106, Class 6: 0.5976, \n",
      "Overall Mean Dice Score: 0.5101\n",
      "'Overall_mean_f_beta_score': 0.5862\n",
      "\n",
      "Training Loss: 0.7768, Validation Loss: 0.7569\n",
      "Epoch 237/4000\n"
     ]
    },
    {
     "name": "stderr",
     "output_type": "stream",
     "text": [
      "Training: 100%|██████████| 24/24 [00:15<00:00,  1.54it/s, loss=0.744]\n",
      "Validation: 100%|██████████| 4/4 [00:01<00:00,  2.69it/s, loss=0.762]\n"
     ]
    },
    {
     "name": "stdout",
     "output_type": "stream",
     "text": [
      "Validation Dice Score\n",
      "Class 0: 0.9875, Class 1: 0.6524, Class 2: 0.1285, Class 3: 0.6162, \n",
      "Class 4: 0.3955, Class 5: 0.2036, Class 6: 0.5730, \n",
      "Validation F-beta Score\n",
      "Class 0: 0.9821, Class 1: 0.8347, Class 2: 0.2302, Class 3: 0.7524, \n",
      "Class 4: 0.3724, Class 5: 0.2339, Class 6: 0.6147, \n",
      "Overall Mean Dice Score: 0.5081\n",
      "'Overall_mean_f_beta_score': 0.5743\n",
      "\n",
      "Training Loss: 0.7802, Validation Loss: 0.7554\n",
      "Epoch 238/4000\n"
     ]
    },
    {
     "name": "stderr",
     "output_type": "stream",
     "text": [
      "Training: 100%|██████████| 24/24 [00:15<00:00,  1.58it/s, loss=0.806]\n",
      "Validation: 100%|██████████| 4/4 [00:01<00:00,  2.69it/s, loss=0.691]\n"
     ]
    },
    {
     "name": "stdout",
     "output_type": "stream",
     "text": [
      "Validation Dice Score\n",
      "Class 0: 0.9875, Class 1: 0.7516, Class 2: 0.0761, Class 3: 0.5808, \n",
      "Class 4: 0.3459, Class 5: 0.2436, Class 6: 0.2250, \n",
      "Validation F-beta Score\n",
      "Class 0: 0.9811, Class 1: 0.8805, Class 2: 0.0917, Class 3: 0.7243, \n",
      "Class 4: 0.3929, Class 5: 0.4141, Class 6: 0.4723, \n",
      "Overall Mean Dice Score: 0.4586\n",
      "'Overall_mean_f_beta_score': 0.5653\n",
      "\n",
      "Training Loss: 0.7879, Validation Loss: 0.7795\n",
      "Epoch 239/4000\n"
     ]
    },
    {
     "name": "stderr",
     "output_type": "stream",
     "text": [
      "Training: 100%|██████████| 24/24 [00:15<00:00,  1.57it/s, loss=0.834]\n",
      "Validation: 100%|██████████| 4/4 [00:01<00:00,  2.70it/s, loss=0.777]\n"
     ]
    },
    {
     "name": "stdout",
     "output_type": "stream",
     "text": [
      "Validation Dice Score\n",
      "Class 0: 0.9868, Class 1: 0.7113, Class 2: 0.0732, Class 3: 0.6099, \n",
      "Class 4: 0.6217, Class 5: 0.3281, Class 6: 0.6457, \n",
      "Validation F-beta Score\n",
      "Class 0: 0.9815, Class 1: 0.9230, Class 2: 0.1439, Class 3: 0.6513, \n",
      "Class 4: 0.7321, Class 5: 0.4746, Class 6: 0.6389, \n",
      "Overall Mean Dice Score: 0.5681\n",
      "'Overall_mean_f_beta_score': 0.6493\n",
      "\n",
      "Training Loss: 0.7803, Validation Loss: 0.7391\n",
      "Early stopping\n"
     ]
    },
    {
     "data": {
      "application/vnd.jupyter.widget-view+json": {
       "model_id": "92bf14a45dd6419ea77ffa1d4b4b80e3",
       "version_major": 2,
       "version_minor": 0
      },
      "text/plain": [
       "VBox(children=(Label(value='0.627 MB of 0.627 MB uploaded\\r'), FloatProgress(value=1.0, max=1.0)))"
      ]
     },
     "metadata": {},
     "output_type": "display_data"
    },
    {
     "data": {
      "text/html": [
       "<style>\n",
       "    table.wandb td:nth-child(1) { padding: 0 10px; text-align: left ; width: auto;} td:nth-child(2) {text-align: left ; width: 100%}\n",
       "    .wandb-row { display: flex; flex-direction: row; flex-wrap: wrap; justify-content: flex-start; width: 100% }\n",
       "    .wandb-col { display: flex; flex-direction: column; flex-basis: 100%; flex: 1; padding: 10px; }\n",
       "    </style>\n",
       "<div class=\"wandb-row\"><div class=\"wandb-col\"><h3>Run history:</h3><br/><table class=\"wandb\"><tr><td>class_0_dice_score</td><td>▁▂▂▂▂▂▂▂▂▂▂▃▃▃▃▇████████████████████████</td></tr><tr><td>class_0_f_beta_score</td><td>▁▁▂▃▃▃▃▃▃▃▃▃▃▃▃▄▄▄██████████████████████</td></tr><tr><td>class_1_dice_score</td><td>▁▁▄▃▄▃▄▅▅▄▆▅▇▆▇▆▅▆▇▅▆▆▇█▇▇▇▆▇▇▅█▆▇▇▇█▇█▆</td></tr><tr><td>class_1_f_beta_score</td><td>▁▃▆▅▆█▆▇▇▆▇▇▇████▇▆▇▄▇▇█▇▇█▇█▇█▇▇▇▆▇▇▇██</td></tr><tr><td>class_2_dice_score</td><td>▁▄▁▄▃▃▁▂▃▃▂▅▆▄▁▂▅▃▅▄▄▂▃▇▁▂▅▅▇█▅▅▇▂▂█▄▇▄▃</td></tr><tr><td>class_2_f_beta_score</td><td>▅▁▃▂▅▃▁▃▂▂▅▃▂▄▃▃▁▁▅▇▆▅▇▄▄▄▅▂▄▂▇▅▅▄█▂▆▃▃▂</td></tr><tr><td>class_3_dice_score</td><td>▁▅▄▅▇▆▅▆▆▇▇▅▆▅▅▇▅▅▇█▇▆▅▆▆▅▅▅▇▆█▆▅▄▅▅▆▆▆▆</td></tr><tr><td>class_3_f_beta_score</td><td>▂▂▄▃▂▂▃▄▂▄▅▃▅▁▄▂▃▅▂▂▄▂▂▁▁▄▅▄▅▃▅▅▃█▄▃▂▂▅▂</td></tr><tr><td>class_4_dice_score</td><td>▁▁▁▁▁▁▁▁▁▁▁▁▁▁▁▁▁▂▃▅▅▅▆▄▆▄▅▆▆▅█▄▇▇▇▄▆▇▆▄</td></tr><tr><td>class_4_f_beta_score</td><td>▁▁▁▁▁▁▁▁▁▁▁▁▁▁▁▁▂▂▆▅▅▄▄▂▅▆▄▆▄▆▄▆▆█▅▆▅▆▇█</td></tr><tr><td>class_5_dice_score</td><td>▁▂▃▂▂▂▅▄▅▄▆▆▆▃▄▄▅▆▇▄▇▇▇▃▆▅▅▃▄█▆▆▃▆▃▆▇▄▅█</td></tr><tr><td>class_5_f_beta_score</td><td>▁▁▂▁▄▃▄▅▅▃▃▆▅█▄▅▃▃▅▆▆▅▆▅▇▃▅▇▃▅▇▃▇█▇▃▃▆▅▃</td></tr><tr><td>class_6_dice_score</td><td>▁▁▂▅▃▄▃▂▃▃▅▁▄▄▅▅▆▇▇▃▃█▆█▂▆▆█▆▅▅▄▅▅▄▃▆▃▆▆</td></tr><tr><td>class_6_f_beta_score</td><td>▁▁▁▄▃▄▃▅▃▃▅▇▂▅▄▄▃▄▆▆▁▅█▃▆▄▄▆▇▄▆▆▅▄▆█▆▄▆▆</td></tr><tr><td>epoch</td><td>▁▁▂▂▂▂▂▂▂▃▄▄▄▄▄▅▅▅▅▅▅▅▆▆▆▆▆▆▇▇▇▇▇▇▇▇████</td></tr><tr><td>overall_mean_dice_score</td><td>▁▁▃▃▂▄▃▄▄▄▃▅▄▄▄▅▅█▆▇▇▇▇▆█▅▇▇▇██▇▇▇▇██▇▇█</td></tr><tr><td>overall_mean_f_beta_score</td><td>▁▄▃▄▄▃▄▅▅▅▅▅▄▅▄▆▅▅▅▆▆█▇▆▇▇▇█▇█▆▇█▆▆▇▇▆▇▇</td></tr><tr><td>train_epoch_loss</td><td>█▆▅▅▄▃▃▃▃▃▃▃▃▃▂▂▂▂▂▂▂▂▂▂▂▂▂▂▁▂▁▂▁▂▂▁▁▁▁▁</td></tr><tr><td>val_epoch_loss</td><td>█▆▇▅▆▅▆▅▅▅▅▅▆▅▅▅▄▃▃▂▅▂▄▁▃▄▅▁▂▃▃▁▃▁▃▃▂▄▁▂</td></tr></table><br/></div><div class=\"wandb-col\"><h3>Run summary:</h3><br/><table class=\"wandb\"><tr><td>class_0_dice_score</td><td>0.98685</td></tr><tr><td>class_0_f_beta_score</td><td>0.98149</td></tr><tr><td>class_1_dice_score</td><td>0.71126</td></tr><tr><td>class_1_f_beta_score</td><td>0.92296</td></tr><tr><td>class_2_dice_score</td><td>0.07323</td></tr><tr><td>class_2_f_beta_score</td><td>0.14393</td></tr><tr><td>class_3_dice_score</td><td>0.60993</td></tr><tr><td>class_3_f_beta_score</td><td>0.6513</td></tr><tr><td>class_4_dice_score</td><td>0.62173</td></tr><tr><td>class_4_f_beta_score</td><td>0.73213</td></tr><tr><td>class_5_dice_score</td><td>0.32808</td></tr><tr><td>class_5_f_beta_score</td><td>0.47465</td></tr><tr><td>class_6_dice_score</td><td>0.64565</td></tr><tr><td>class_6_f_beta_score</td><td>0.6389</td></tr><tr><td>epoch</td><td>239</td></tr><tr><td>overall_mean_dice_score</td><td>0.5681</td></tr><tr><td>overall_mean_f_beta_score</td><td>0.64934</td></tr><tr><td>train_epoch_loss</td><td>0.7803</td></tr><tr><td>val_epoch_loss</td><td>0.73907</td></tr></table><br/></div></div>"
      ],
      "text/plain": [
       "<IPython.core.display.HTML object>"
      ]
     },
     "metadata": {},
     "output_type": "display_data"
    },
    {
     "data": {
      "text/html": [
       " View run <strong style=\"color:#cdcd00\">SwinUNETR_lr0.001_bs6_lambda0.52_20241219_174411</strong> at: <a href='https://wandb.ai/waooang/czii_SwinUnetR/runs/0c22ut4a' target=\"_blank\">https://wandb.ai/waooang/czii_SwinUnetR/runs/0c22ut4a</a><br/> View project at: <a href='https://wandb.ai/waooang/czii_SwinUnetR' target=\"_blank\">https://wandb.ai/waooang/czii_SwinUnetR</a><br/>Synced 4 W&B file(s), 0 media file(s), 3 artifact file(s) and 0 other file(s)"
      ],
      "text/plain": [
       "<IPython.core.display.HTML object>"
      ]
     },
     "metadata": {},
     "output_type": "display_data"
    },
    {
     "data": {
      "text/html": [
       "Find logs at: <code>.\\wandb\\run-20241219_174412-0c22ut4a\\logs</code>"
      ],
      "text/plain": [
       "<IPython.core.display.HTML object>"
      ]
     },
     "metadata": {},
     "output_type": "display_data"
    }
   ],
   "source": [
    "from monai.metrics import DiceMetric\n",
    "\n",
    "def create_metric_dict(num_classes):\n",
    "    \"\"\"각 클래스별 DiceMetric 생성\"\"\"\n",
    "    metrics = {}\n",
    "    for i in range(num_classes):\n",
    "        metrics[f'dice_class_{i}'] = DiceMetric(\n",
    "            include_background=False if i == 0 else False,\n",
    "            reduction=\"mean\",\n",
    "            get_not_nans=False\n",
    "        )\n",
    "    return metrics\n",
    "    \n",
    "def processing(batch_data, model, criterion, device):\n",
    "    images = batch_data['image'].to(device)  # Input 이미지 (B, 1, 96, 96, 96)\n",
    "    labels = batch_data['label'].to(device)  # 라벨 (B, 96, 96, 96)\n",
    "\n",
    "    labels = labels.squeeze(1)  # (B, 1, 96, 96, 96) → (B, 96, 96, 96)\n",
    "    labels = labels.long()  # 라벨을 정수형으로 변환\n",
    "\n",
    "    # 원핫 인코딩 (B, H, W, D) → (B, num_classes, H, W, D)\n",
    "    \n",
    "    labels_onehot = torch.nn.functional.one_hot(labels, num_classes=n_classes)\n",
    "    labels_onehot = labels_onehot.permute(0, 4, 1, 2, 3).float()  # (B, num_classes, H, W, D)\n",
    "\n",
    "    # 모델 예측\n",
    "    outputs = model(images)  # outputs: (B, num_classes, H, W, D)\n",
    "\n",
    "    # Loss 계산\n",
    "    # loss = loss_fn(criterion(outputs, labels_onehot), class_weights, device)\n",
    "    loss = criterion(outputs, labels_onehot)\n",
    "    return loss, outputs, labels, outputs.argmax(dim=1)\n",
    "\n",
    "def train_one_epoch(model, train_loader, criterion, optimizer, device, epoch):\n",
    "    model.train()\n",
    "    epoch_loss = 0\n",
    "    with tqdm(train_loader, desc='Training') as pbar:\n",
    "        for batch_data in pbar:\n",
    "            optimizer.zero_grad()\n",
    "            loss, _, _, _ = processing(batch_data, model, criterion, device)\n",
    "            loss.backward()\n",
    "            optimizer.step()\n",
    "\n",
    "            epoch_loss += loss.item()\n",
    "            pbar.set_postfix(loss=loss.item())\n",
    "    avg_loss = epoch_loss / len(train_loader)\n",
    "    wandb.log({'train_epoch_loss': avg_loss, 'epoch': epoch + 1})\n",
    "    return epoch_loss / len(train_loader)\n",
    "\n",
    "def validate_one_epoch(model, val_loader, criterion, device, epoch, calculate_dice_interval):\n",
    "    model.eval()\n",
    "    val_loss = 0\n",
    "    metrics = create_metric_dict(n_classes)\n",
    "    class_dice_scores = {i: [] for i in range(n_classes)}\n",
    "    class_f_beta_scores = {i: [] for i in range(n_classes)}\n",
    "    with torch.no_grad():\n",
    "        with tqdm(val_loader, desc='Validation') as pbar:\n",
    "            for batch_data in pbar:\n",
    "                loss, _, labels, preds = processing(batch_data, model, criterion, device)\n",
    "                val_loss += loss.item()\n",
    "                pbar.set_postfix(loss=loss.item())\n",
    "\n",
    "                # 각 클래스별 Dice 점수 계산\n",
    "                if epoch % calculate_dice_interval == 0:\n",
    "                    for i in range(n_classes):\n",
    "                        pred_i = (preds == i)\n",
    "                        label_i = (labels == i)\n",
    "                        dice_score = (2.0 * torch.sum(pred_i & label_i)) / (torch.sum(pred_i) + torch.sum(label_i) + 1e-8)\n",
    "                        class_dice_scores[i].append(dice_score.item())\n",
    "                        precision = (torch.sum(pred_i & label_i) + 1e-8) / (torch.sum(pred_i) + 1e-8)\n",
    "                        recall = (torch.sum(pred_i & label_i) + 1e-8) / (torch.sum(label_i) + 1e-8)\n",
    "                        f_beta_score = (1 + 4**2) * (precision * recall) / (4**2 * precision + recall + 1e-8)\n",
    "                        class_f_beta_scores[i].append(f_beta_score.item())\n",
    "\n",
    "    avg_loss = val_loss / len(val_loader)\n",
    "    # 에포크별 평균 손실 로깅\n",
    "    wandb.log({'val_epoch_loss': avg_loss, 'epoch': epoch + 1})\n",
    "    \n",
    "    # 각 클래스별 평균 Dice 점수 출력\n",
    "    if epoch % calculate_dice_interval == 0:\n",
    "        print(\"Validation Dice Score\")\n",
    "        all_classes_dice_scores = []\n",
    "        for i in range(n_classes):\n",
    "            mean_dice = np.mean(class_dice_scores[i])\n",
    "            wandb.log({f'class_{i}_dice_score': mean_dice, 'epoch': epoch + 1})\n",
    "            print(f\"Class {i}: {mean_dice:.4f}\", end=\", \")\n",
    "            all_classes_dice_scores.append(mean_dice)\n",
    "            if i == 3:\n",
    "                print()\n",
    "        print()\n",
    "    if epoch % calculate_dice_interval == 0:\n",
    "        print(\"Validation F-beta Score\")\n",
    "        all_classes_fbeta_scores = []\n",
    "        for i in range(n_classes):\n",
    "            mean_fbeta = np.mean(class_f_beta_scores[i])\n",
    "            wandb.log({f'class_{i}_f_beta_score': mean_fbeta, 'epoch': epoch + 1})\n",
    "            all_classes_fbeta_scores.append(mean_fbeta)\n",
    "            print(f\"Class {i}: {mean_fbeta:.4f}\", end=\", \")\n",
    "            if i == 3:\n",
    "                print()\n",
    "        overall_mean_dice = np.mean(all_classes_dice_scores)\n",
    "        overall_mean_fbeta = np.mean(all_classes_fbeta_scores)\n",
    "        wandb.log({'overall_mean_f_beta_score': overall_mean_fbeta,'overall_mean_dice_score': overall_mean_dice, 'epoch': epoch + 1})\n",
    "        print(f\"\\nOverall Mean Dice Score: {overall_mean_dice:.4f}\\n'Overall_mean_f_beta_score': {overall_mean_fbeta:.4f}\\n\")\n",
    "    return val_loss / len(val_loader)\n",
    "\n",
    "def train_model(\n",
    "    model, train_loader, val_loader, criterion, optimizer, num_epochs, patience, \n",
    "    device, start_epoch, best_val_loss, calculate_dice_interval=1\n",
    "):\n",
    "    \"\"\"\n",
    "    모델을 학습하고 검증하는 함수\n",
    "    Args:\n",
    "        model: 학습할 모델\n",
    "        train_loader: 학습 데이터 로더\n",
    "        val_loader: 검증 데이터 로더\n",
    "        criterion: 손실 함수\n",
    "        optimizer: 최적화 알고리즘\n",
    "        num_epochs: 총 학습 epoch 수\n",
    "        patience: early stopping 기준\n",
    "        device: GPU/CPU 장치\n",
    "        start_epoch: 시작 epoch\n",
    "        best_val_loss: 이전 최적 validation loss\n",
    "        calculate_dice_interval: Dice 점수 계산 주기\n",
    "    \"\"\"\n",
    "\n",
    "    epochs_no_improve = 0\n",
    "\n",
    "    for epoch in range(start_epoch, num_epochs):\n",
    "        print(f\"Epoch {epoch + 1}/{num_epochs}\")\n",
    "\n",
    "        # Train One Epoch\n",
    "        train_loss = train_one_epoch(\n",
    "            model=model, \n",
    "            train_loader=train_loader, \n",
    "            criterion=criterion, \n",
    "            optimizer=optimizer, \n",
    "            device=device,\n",
    "            epoch=epoch\n",
    "        )\n",
    "\n",
    "        # Validate One Epoch\n",
    "        val_loss = validate_one_epoch(\n",
    "            model=model, \n",
    "            val_loader=val_loader, \n",
    "            criterion=criterion, \n",
    "            device=device, \n",
    "            epoch=epoch, \n",
    "            calculate_dice_interval=calculate_dice_interval\n",
    "        )\n",
    "\n",
    "        print(f\"Training Loss: {train_loss:.4f}, Validation Loss: {val_loss:.4f}\")\n",
    "\n",
    "        # Early stopping 및 모델 저장 로직\n",
    "        if val_loss < best_val_loss:\n",
    "            best_val_loss = val_loss\n",
    "            epochs_no_improve = 0\n",
    "            checkpoint_path = os.path.join(checkpoint_dir, 'best_model.pt')\n",
    "            torch.save({\n",
    "                'epoch': epoch + 1,\n",
    "                'model_state_dict': model.state_dict(),\n",
    "                'optimizer_state_dict': optimizer.state_dict(),\n",
    "                'best_val_loss': best_val_loss,\n",
    "            }, checkpoint_path)\n",
    "            print(f\"========================================================\")\n",
    "            print(f\"Best model saved with validation loss: {best_val_loss:.4f}\")\n",
    "            print(f\"========================================================\")\n",
    "        else:\n",
    "            epochs_no_improve += 1\n",
    "        if epochs_no_improve >= patience:\n",
    "            print(\"Early stopping\")\n",
    "            checkpoint_path = os.path.join(checkpoint_dir, 'last.pt')\n",
    "            torch.save({\n",
    "                'epoch': epoch + 1,\n",
    "                'model_state_dict': model.state_dict(),\n",
    "                'optimizer_state_dict': optimizer.state_dict(),\n",
    "                'best_val_loss': best_val_loss,\n",
    "            }, checkpoint_path)\n",
    "            break\n",
    "    wandb.finish()\n",
    "train_model(\n",
    "    model=model,\n",
    "    train_loader=train_loader,\n",
    "    val_loader=val_loader,\n",
    "    criterion=criterion,\n",
    "    optimizer=optimizer,\n",
    "    num_epochs=num_epochs,\n",
    "    patience=100,\n",
    "    device=device,\n",
    "    start_epoch=start_epoch,\n",
    "    best_val_loss=best_val_loss,\n",
    "    calculate_dice_interval=1\n",
    ")"
   ]
  },
  {
   "cell_type": "code",
   "execution_count": null,
   "metadata": {},
   "outputs": [],
   "source": []
  },
  {
   "cell_type": "markdown",
   "metadata": {},
   "source": [
    "# Inference"
   ]
  },
  {
   "cell_type": "code",
   "execution_count": 12,
   "metadata": {},
   "outputs": [],
   "source": [
    "from src.dataset.preprocessing import Preprocessor"
   ]
  },
  {
   "cell_type": "code",
   "execution_count": 13,
   "metadata": {},
   "outputs": [
    {
     "name": "stdout",
     "output_type": "stream",
     "text": [
      "Done.\n"
     ]
    }
   ],
   "source": [
    "from monai.inferers import sliding_window_inference\n",
    "from monai.transforms import Compose, EnsureChannelFirstd, NormalizeIntensityd, Orientationd, GaussianSmoothd\n",
    "from monai.data import DataLoader, Dataset, CacheDataset\n",
    "from monai.networks.nets import SwinUNETR\n",
    "from pathlib import Path\n",
    "import numpy as np\n",
    "import copick\n",
    "\n",
    "import torch\n",
    "print(\"Done.\")"
   ]
  },
  {
   "cell_type": "code",
   "execution_count": 14,
   "metadata": {},
   "outputs": [
    {
     "name": "stdout",
     "output_type": "stream",
     "text": [
      "Config file written to ./kaggle/working/copick.config\n",
      "file length: 7\n"
     ]
    }
   ],
   "source": [
    "config_blob = \"\"\"{\n",
    "    \"name\": \"czii_cryoet_mlchallenge_2024\",\n",
    "    \"description\": \"2024 CZII CryoET ML Challenge training data.\",\n",
    "    \"version\": \"1.0.0\",\n",
    "\n",
    "    \"pickable_objects\": [\n",
    "        {\n",
    "            \"name\": \"apo-ferritin\",\n",
    "            \"is_particle\": true,\n",
    "            \"pdb_id\": \"4V1W\",\n",
    "            \"label\": 1,\n",
    "            \"color\": [  0, 117, 220, 128],\n",
    "            \"radius\": 60,\n",
    "            \"map_threshold\": 0.0418\n",
    "        },\n",
    "        {\n",
    "          \"name\" : \"beta-amylase\",\n",
    "            \"is_particle\": true,\n",
    "            \"pdb_id\": \"8ZRZ\",\n",
    "            \"label\": 2,\n",
    "            \"color\": [255, 255, 255, 128],\n",
    "            \"radius\": 90,\n",
    "            \"map_threshold\": 0.0578  \n",
    "        },\n",
    "        {\n",
    "            \"name\": \"beta-galactosidase\",\n",
    "            \"is_particle\": true,\n",
    "            \"pdb_id\": \"6X1Q\",\n",
    "            \"label\": 3,\n",
    "            \"color\": [ 76,   0,  92, 128],\n",
    "            \"radius\": 90,\n",
    "            \"map_threshold\": 0.0578\n",
    "        },\n",
    "        {\n",
    "            \"name\": \"ribosome\",\n",
    "            \"is_particle\": true,\n",
    "            \"pdb_id\": \"6EK0\",\n",
    "            \"label\": 4,\n",
    "            \"color\": [  0,  92,  49, 128],\n",
    "            \"radius\": 150,\n",
    "            \"map_threshold\": 0.0374\n",
    "        },\n",
    "        {\n",
    "            \"name\": \"thyroglobulin\",\n",
    "            \"is_particle\": true,\n",
    "            \"pdb_id\": \"6SCJ\",\n",
    "            \"label\": 5,\n",
    "            \"color\": [ 43, 206,  72, 128],\n",
    "            \"radius\": 130,\n",
    "            \"map_threshold\": 0.0278\n",
    "        },\n",
    "        {\n",
    "            \"name\": \"virus-like-particle\",\n",
    "            \"is_particle\": true,\n",
    "            \"label\": 6,\n",
    "            \"color\": [255, 204, 153, 128],\n",
    "            \"radius\": 135,\n",
    "            \"map_threshold\": 0.201\n",
    "        },\n",
    "        {\n",
    "            \"name\": \"membrane\",\n",
    "            \"is_particle\": false,\n",
    "            \"label\": 8,\n",
    "            \"color\": [100, 100, 100, 128]\n",
    "        },\n",
    "        {\n",
    "            \"name\": \"background\",\n",
    "            \"is_particle\": false,\n",
    "            \"label\": 9,\n",
    "            \"color\": [10, 150, 200, 128]\n",
    "        }\n",
    "    ],\n",
    "\n",
    "    \"overlay_root\": \"./kaggle/working/overlay\",\n",
    "\n",
    "    \"overlay_fs_args\": {\n",
    "        \"auto_mkdir\": true\n",
    "    },\n",
    "\n",
    "    \"static_root\": \"./kaggle/input/czii-cryo-et-object-identification/test/static\"\n",
    "}\"\"\"\n",
    "\n",
    "copick_config_path = \"./kaggle/working/copick.config\"\n",
    "preprocessor = Preprocessor(config_blob,copick_config_path=copick_config_path)\n",
    "non_random_transforms = Compose([\n",
    "    EnsureChannelFirstd(keys=[\"image\"], channel_dim=\"no_channel\"),\n",
    "    NormalizeIntensityd(keys=\"image\"),\n",
    "    Orientationd(keys=[\"image\"], axcodes=\"RAS\"),\n",
    "    GaussianSmoothd(\n",
    "        keys=[\"image\"],      # 변환을 적용할 키\n",
    "        sigma=[1.0, 1.0, 1.0]  # 각 축(x, y, z)의 시그마 값\n",
    "        ),\n",
    "    ])"
   ]
  },
  {
   "cell_type": "code",
   "execution_count": 15,
   "metadata": {},
   "outputs": [
    {
     "name": "stderr",
     "output_type": "stream",
     "text": [
      "c:\\ProgramData\\anaconda3\\envs\\ship\\Lib\\site-packages\\monai\\utils\\deprecate_utils.py:221: FutureWarning: monai.networks.nets.swin_unetr SwinUNETR.__init__:img_size: Argument `img_size` has been deprecated since version 1.3. It will be removed in version 1.5. The img_size argument is not required anymore and checks on the input size are run during forward().\n",
      "  warn_deprecated(argname, msg, warning_category)\n",
      "C:\\Users\\Seungwoo\\AppData\\Local\\Temp\\ipykernel_6248\\2937359115.py:15: FutureWarning: You are using `torch.load` with `weights_only=False` (the current default value), which uses the default pickle module implicitly. It is possible to construct malicious pickle data which will execute arbitrary code during unpickling (See https://github.com/pytorch/pytorch/blob/main/SECURITY.md#untrusted-models for more details). In a future release, the default value for `weights_only` will be flipped to `True`. This limits the functions that could be executed during unpickling. Arbitrary objects will no longer be allowed to be loaded via this mode unless they are explicitly allowlisted by the user via `torch.serialization.add_safe_globals`. We recommend you start setting `weights_only=True` for any use case where you don't have full control of the loaded file. Please open an issue on GitHub for any issues related to this experimental feature.\n",
      "  checkpoint = torch.load(pretrain_path, map_location=device)\n"
     ]
    },
    {
     "data": {
      "text/plain": [
       "<All keys matched successfully>"
      ]
     },
     "execution_count": 15,
     "metadata": {},
     "output_type": "execute_result"
    }
   ],
   "source": [
    "img_size = 96\n",
    "img_depth = img_size\n",
    "n_classes = 7 \n",
    "\n",
    "device = torch.device(\"cuda\" if torch.cuda.is_available() else \"cpu\")\n",
    "pretrain_path = \"./model_checkpoints/SwinUNETR96_96_lr0.001_lambda0.52_batch2/best_model.pt\"\n",
    "model = SwinUNETR(\n",
    "    img_size=(img_depth, img_size, img_size),\n",
    "    in_channels=1,\n",
    "    out_channels=n_classes,\n",
    "    feature_size=48,\n",
    "    use_checkpoint=True,\n",
    ").to(device)\n",
    "# Pretrained weights 불러오기\n",
    "checkpoint = torch.load(pretrain_path, map_location=device)\n",
    "model.load_state_dict(checkpoint['model_state_dict'])\n"
   ]
  },
  {
   "cell_type": "code",
   "execution_count": 16,
   "metadata": {},
   "outputs": [
    {
     "name": "stderr",
     "output_type": "stream",
     "text": [
      "Validation:   0%|          | 0/4 [00:03<?, ?it/s, loss=0.764]\n"
     ]
    },
    {
     "ename": "ZeroDivisionError",
     "evalue": "integer modulo by zero",
     "output_type": "error",
     "traceback": [
      "\u001b[1;31m---------------------------------------------------------------------------\u001b[0m",
      "\u001b[1;31mZeroDivisionError\u001b[0m                         Traceback (most recent call last)",
      "Cell \u001b[1;32mIn[16], line 1\u001b[0m\n\u001b[1;32m----> 1\u001b[0m val_loss \u001b[38;5;241m=\u001b[39m \u001b[43mvalidate_one_epoch\u001b[49m\u001b[43m(\u001b[49m\n\u001b[0;32m      2\u001b[0m \u001b[43m            \u001b[49m\u001b[43mmodel\u001b[49m\u001b[38;5;241;43m=\u001b[39;49m\u001b[43mmodel\u001b[49m\u001b[43m,\u001b[49m\u001b[43m \u001b[49m\n\u001b[0;32m      3\u001b[0m \u001b[43m            \u001b[49m\u001b[43mval_loader\u001b[49m\u001b[38;5;241;43m=\u001b[39;49m\u001b[43mval_loader\u001b[49m\u001b[43m,\u001b[49m\u001b[43m \u001b[49m\n\u001b[0;32m      4\u001b[0m \u001b[43m            \u001b[49m\u001b[43mcriterion\u001b[49m\u001b[38;5;241;43m=\u001b[39;49m\u001b[43mcriterion\u001b[49m\u001b[43m,\u001b[49m\u001b[43m \u001b[49m\n\u001b[0;32m      5\u001b[0m \u001b[43m            \u001b[49m\u001b[43mdevice\u001b[49m\u001b[38;5;241;43m=\u001b[39;49m\u001b[43mdevice\u001b[49m\u001b[43m,\u001b[49m\u001b[43m \u001b[49m\n\u001b[0;32m      6\u001b[0m \u001b[43m            \u001b[49m\u001b[43mepoch\u001b[49m\u001b[38;5;241;43m=\u001b[39;49m\u001b[38;5;241;43m1\u001b[39;49m\u001b[43m,\u001b[49m\u001b[43m \u001b[49m\n\u001b[0;32m      7\u001b[0m \u001b[43m            \u001b[49m\u001b[43mcalculate_dice_interval\u001b[49m\u001b[38;5;241;43m=\u001b[39;49m\u001b[38;5;241;43m0\u001b[39;49m\n\u001b[0;32m      8\u001b[0m \u001b[43m        \u001b[49m\u001b[43m)\u001b[49m\n",
      "Cell \u001b[1;32mIn[11], line 64\u001b[0m, in \u001b[0;36mvalidate_one_epoch\u001b[1;34m(model, val_loader, criterion, device, epoch, calculate_dice_interval)\u001b[0m\n\u001b[0;32m     61\u001b[0m pbar\u001b[38;5;241m.\u001b[39mset_postfix(loss\u001b[38;5;241m=\u001b[39mloss\u001b[38;5;241m.\u001b[39mitem())\n\u001b[0;32m     63\u001b[0m \u001b[38;5;66;03m# 각 클래스별 Dice 점수 계산\u001b[39;00m\n\u001b[1;32m---> 64\u001b[0m \u001b[38;5;28;01mif\u001b[39;00m \u001b[43mepoch\u001b[49m\u001b[43m \u001b[49m\u001b[38;5;241;43m%\u001b[39;49m\u001b[43m \u001b[49m\u001b[43mcalculate_dice_interval\u001b[49m \u001b[38;5;241m==\u001b[39m \u001b[38;5;241m0\u001b[39m:\n\u001b[0;32m     65\u001b[0m     \u001b[38;5;28;01mfor\u001b[39;00m i \u001b[38;5;129;01min\u001b[39;00m \u001b[38;5;28mrange\u001b[39m(n_classes):\n\u001b[0;32m     66\u001b[0m         pred_i \u001b[38;5;241m=\u001b[39m (preds \u001b[38;5;241m==\u001b[39m i)\n",
      "\u001b[1;31mZeroDivisionError\u001b[0m: integer modulo by zero"
     ]
    }
   ],
   "source": [
    "val_loss = validate_one_epoch(\n",
    "            model=model, \n",
    "            val_loader=val_loader, \n",
    "            criterion=criterion, \n",
    "            device=device, \n",
    "            epoch=1, \n",
    "            calculate_dice_interval=0\n",
    "        )"
   ]
  },
  {
   "cell_type": "code",
   "execution_count": null,
   "metadata": {},
   "outputs": [
    {
     "name": "stdout",
     "output_type": "stream",
     "text": [
      "Processing volume 1/7\n"
     ]
    },
    {
     "name": "stderr",
     "output_type": "stream",
     "text": [
      "Loading dataset: 100%|██████████| 1/1 [00:01<00:00,  1.94s/it]\n"
     ]
    },
    {
     "name": "stdout",
     "output_type": "stream",
     "text": [
      "Processing volume 2/7\n"
     ]
    },
    {
     "name": "stderr",
     "output_type": "stream",
     "text": [
      "Loading dataset: 100%|██████████| 1/1 [00:01<00:00,  1.89s/it]\n"
     ]
    },
    {
     "name": "stdout",
     "output_type": "stream",
     "text": [
      "Processing volume 3/7\n"
     ]
    },
    {
     "name": "stderr",
     "output_type": "stream",
     "text": [
      "Loading dataset: 100%|██████████| 1/1 [00:01<00:00,  1.79s/it]\n"
     ]
    },
    {
     "name": "stdout",
     "output_type": "stream",
     "text": [
      "Submission saved to: submission.csv\n"
     ]
    }
   ],
   "source": [
    "import torch\n",
    "import numpy as np\n",
    "from scipy.ndimage import label, center_of_mass\n",
    "import pandas as pd\n",
    "from tqdm import tqdm\n",
    "from monai.data import CacheDataset, DataLoader\n",
    "from monai.transforms import Compose, NormalizeIntensity\n",
    "import cc3d\n",
    "\n",
    "def dict_to_df(coord_dict, experiment_name):\n",
    "    all_coords = []\n",
    "    all_labels = []\n",
    "    \n",
    "    for label, coords in coord_dict.items():\n",
    "        all_coords.append(coords)\n",
    "        all_labels.extend([label] * len(coords))\n",
    "    \n",
    "    all_coords = np.vstack(all_coords)\n",
    "    df = pd.DataFrame({\n",
    "        'experiment': experiment_name,\n",
    "        'particle_type': all_labels,\n",
    "        'x': all_coords[:, 0],\n",
    "        'y': all_coords[:, 1],\n",
    "        'z': all_coords[:, 2]\n",
    "    })\n",
    "    return df\n",
    "\n",
    "id_to_name = {1: \"apo-ferritin\", \n",
    "              2: \"beta-amylase\",\n",
    "              3: \"beta-galactosidase\", \n",
    "              4: \"ribosome\", \n",
    "              5: \"thyroglobulin\", \n",
    "              6: \"virus-like-particle\"}\n",
    "BLOB_THRESHOLD = 200\n",
    "CERTAINTY_THRESHOLD = 0.05\n",
    "\n",
    "classes = [1, 2, 3, 4, 5, 6]\n",
    "\n",
    "model.eval()\n",
    "with torch.no_grad():\n",
    "    location_dfs = []  # DataFrame 리스트로 초기화\n",
    "    \n",
    "    for vol_idx, run in enumerate(preprocessor.root.runs):\n",
    "        print(f\"Processing volume {vol_idx + 1}/{len(preprocessor.root.runs)}\")\n",
    "        tomogram = preprocessor.processing(run=run, task=\"task\")\n",
    "        task_files = [{\"image\": tomogram}]\n",
    "        task_ds = CacheDataset(data=task_files, transform=non_random_transforms)\n",
    "        task_loader = DataLoader(task_ds, batch_size=1, num_workers=0)\n",
    "        \n",
    "        for task_data in task_loader:\n",
    "            images = task_data['image'].to(\"cuda\")\n",
    "            outputs = sliding_window_inference(\n",
    "                inputs=images,\n",
    "                roi_size=(96, 96, 96),  # ROI 크기\n",
    "                sw_batch_size=4,\n",
    "                predictor=model.forward,\n",
    "                overlap=0.1,\n",
    "                sw_device=\"cuda\",\n",
    "                device=\"cpu\",\n",
    "                buffer_steps=1,\n",
    "                buffer_dim=-1\n",
    "            )\n",
    "            outputs = outputs.argmax(dim=1).squeeze(0).cpu().numpy()  # 클래스 채널 예측\n",
    "            location = {}  # 좌표 저장용 딕셔너리\n",
    "            for c in classes:\n",
    "                cc = cc3d.connected_components(outputs == c)  # cc3d 라벨링\n",
    "                stats = cc3d.statistics(cc)\n",
    "                zyx = stats['centroids'][1:] * 10.012444  # 스케일 변환\n",
    "                zyx_large = zyx[stats['voxel_counts'][1:] > BLOB_THRESHOLD]  # 크기 필터링\n",
    "                xyz = np.ascontiguousarray(zyx_large[:, ::-1])  # 좌표 스왑 (z, y, x -> x, y, z)\n",
    "\n",
    "                location[id_to_name[c]] = xyz  # ID 이름 매칭 저장\n",
    "\n",
    "            # 데이터프레임 변환\n",
    "            df = dict_to_df(location, run.name)\n",
    "            location_dfs.append(df)  # 리스트에 추가\n",
    "        \n",
    "        # if vol_idx == 2:\n",
    "        #     break\n",
    "    \n",
    "    # DataFrame 병합\n",
    "    final_df = pd.concat(location_dfs, ignore_index=True)\n",
    "    \n",
    "    # ID 추가 및 CSV 저장\n",
    "    final_df.insert(loc=0, column='id', value=np.arange(len(final_df)))\n",
    "    final_df.to_csv(\"submission.csv\", index=False)\n",
    "    print(\"Submission saved to: submission.csv\")\n"
   ]
  }
 ],
 "metadata": {
  "kernelspec": {
   "display_name": "ship",
   "language": "python",
   "name": "python3"
  },
  "language_info": {
   "codemirror_mode": {
    "name": "ipython",
    "version": 3
   },
   "file_extension": ".py",
   "mimetype": "text/x-python",
   "name": "python",
   "nbconvert_exporter": "python",
   "pygments_lexer": "ipython3",
   "version": "3.12.7"
  }
 },
 "nbformat": 4,
 "nbformat_minor": 2
}
