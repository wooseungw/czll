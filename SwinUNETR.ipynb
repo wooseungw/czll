{
 "cells": [
  {
   "cell_type": "code",
   "execution_count": 1,
   "metadata": {},
   "outputs": [
    {
     "name": "stdout",
     "output_type": "stream",
     "text": [
      "MONAI version: 1.4.0\n",
      "Numpy version: 1.26.3\n",
      "Pytorch version: 2.4.1+cu121\n",
      "MONAI flags: HAS_EXT = False, USE_COMPILED = False, USE_META_DICT = False\n",
      "MONAI rev id: 46a5272196a6c2590ca2589029eed8e4d56ff008\n",
      "MONAI __file__: c:\\ProgramData\\anaconda3\\envs\\ship\\Lib\\site-packages\\monai\\__init__.py\n",
      "\n",
      "Optional dependencies:\n",
      "Pytorch Ignite version: NOT INSTALLED or UNKNOWN VERSION.\n",
      "ITK version: NOT INSTALLED or UNKNOWN VERSION.\n",
      "Nibabel version: 5.3.2\n",
      "scikit-image version: 0.24.0\n",
      "scipy version: 1.14.1\n",
      "Pillow version: 10.2.0\n",
      "Tensorboard version: NOT INSTALLED or UNKNOWN VERSION.\n",
      "gdown version: 5.2.0\n",
      "TorchVision version: 0.19.1+cu121\n",
      "tqdm version: 4.66.5\n",
      "lmdb version: NOT INSTALLED or UNKNOWN VERSION.\n",
      "psutil version: 6.0.0\n",
      "pandas version: 2.2.3\n",
      "einops version: 0.8.0\n",
      "transformers version: NOT INSTALLED or UNKNOWN VERSION.\n",
      "mlflow version: NOT INSTALLED or UNKNOWN VERSION.\n",
      "pynrrd version: NOT INSTALLED or UNKNOWN VERSION.\n",
      "clearml version: NOT INSTALLED or UNKNOWN VERSION.\n",
      "\n",
      "For details about installing the optional dependencies, please visit:\n",
      "    https://docs.monai.io/en/latest/installation.html#installing-the-recommended-dependencies\n",
      "\n"
     ]
    }
   ],
   "source": [
    "import os\n",
    "import shutil\n",
    "import tempfile\n",
    "\n",
    "import matplotlib.pyplot as plt\n",
    "from tqdm import tqdm\n",
    "\n",
    "from monai.losses import DiceCELoss\n",
    "from monai.inferers import sliding_window_inference\n",
    "from monai.transforms import (\n",
    "    AsDiscrete,\n",
    "    EnsureChannelFirstd,\n",
    "    Compose,\n",
    "    CropForegroundd,\n",
    "    LoadImaged,\n",
    "    Orientationd,\n",
    "    RandFlipd,\n",
    "    RandCropByPosNegLabeld,\n",
    "    RandShiftIntensityd,\n",
    "    ScaleIntensityRanged,\n",
    "    Spacingd,\n",
    "    RandRotate90d,\n",
    ")\n",
    "\n",
    "from monai.config import print_config\n",
    "from monai.metrics import DiceMetric\n",
    "from monai.networks.nets import UNETR, SwinUNETR\n",
    "\n",
    "from monai.data import (\n",
    "    DataLoader,\n",
    "    CacheDataset,\n",
    "    load_decathlon_datalist,\n",
    "    decollate_batch,\n",
    ")\n",
    "\n",
    "\n",
    "import torch\n",
    "\n",
    "print_config()"
   ]
  },
  {
   "cell_type": "code",
   "execution_count": 2,
   "metadata": {},
   "outputs": [
    {
     "name": "stdout",
     "output_type": "stream",
     "text": [
      "클래스 비율: {0: 0.0, 1: 0.14084507042253522, 2: 0.014084507042253521, 3: 0.28169014084507044, 4: 0.14084507042253522, 5: 0.28169014084507044, 6: 0.14084507042253522}\n",
      "최종 합계: 1.0\n",
      "클래스 비율 리스트: [0.0, 0.14084507042253522, 0.014084507042253521, 0.28169014084507044, 0.14084507042253522, 0.28169014084507044, 0.14084507042253522]\n"
     ]
    }
   ],
   "source": [
    "class_info = {\n",
    "    0: {\"name\": \"background\", \"weight\": 0},  # weight 없음\n",
    "    1: {\"name\": \"apo-ferritin\", \"weight\": 1000},\n",
    "    2: {\"name\": \"beta-amylase\", \"weight\": 100}, # 4130\n",
    "    3: {\"name\": \"beta-galactosidase\", \"weight\": 2000}, #3080\n",
    "    4: {\"name\": \"ribosome\", \"weight\": 1000},\n",
    "    5: {\"name\": \"thyroglobulin\", \"weight\": 2000},\n",
    "    6: {\"name\": \"virus-like-particle\", \"weight\": 1000},\n",
    "}\n",
    "\n",
    "# 가중치에 비례한 비율 계산\n",
    "raw_ratios = {\n",
    "    k: (v[\"weight\"] if v[\"weight\"] is not None else 0.01)  # 가중치 비례, None일 경우 기본값a\n",
    "    for k, v in class_info.items()\n",
    "}\n",
    "total = sum(raw_ratios.values())\n",
    "ratios = {k: v / total for k, v in raw_ratios.items()}\n",
    "\n",
    "# 최종 합계가 1인지 확인\n",
    "final_total = sum(ratios.values())\n",
    "print(\"클래스 비율:\", ratios)\n",
    "print(\"최종 합계:\", final_total)\n",
    "\n",
    "# 비율을 리스트로 변환\n",
    "ratios_list = [ratios[k] for k in sorted(ratios.keys())]\n",
    "print(\"클래스 비율 리스트:\", ratios_list)"
   ]
  },
  {
   "cell_type": "code",
   "execution_count": 3,
   "metadata": {},
   "outputs": [],
   "source": [
    "# class_info = {\n",
    "#     0: {\"name\": \"background\", \"weight\": 1000000},  # weight 없음\n",
    "#     1: {\"name\": \"apo-ferritin\", \"weight\": 3000},\n",
    "#     2: {\"name\": \"beta-amylase\", \"weight\": 30000}, # 100\n",
    "#     3: {\"name\": \"beta-galactosidase\", \"weight\": 1000}, #3080\n",
    "#     4: {\"name\": \"ribosome\", \"weight\": 6000},\n",
    "#     5: {\"name\": \"thyroglobulin\", \"weight\": 1000},\n",
    "#     6: {\"name\": \"virus-like-particle\", \"weight\": 2000},\n",
    "# }\n",
    "\n",
    "# # 가중치의 역수 계산 (0인 경우 작은 값을 대체)\n",
    "# inverse_ratios = {\n",
    "#     k: (1 / v[\"weight\"] if v[\"weight\"] > 0 else 1e-6)\n",
    "#     for k, v in class_info.items()\n",
    "# }\n",
    "\n",
    "# # 정규화하여 비율 계산\n",
    "# total_inverse = sum(inverse_ratios.values())\n",
    "# ratios_inverse = {k: v / total_inverse for k, v in inverse_ratios.items()}\n",
    "\n",
    "# # 최종 합계가 1인지 확인\n",
    "# final_total_inverse = sum(ratios_inverse.values())\n",
    "# print(\"반비례 클래스 비율:\", ratios_inverse)\n",
    "# print(\"최종 합계:\", final_total_inverse)\n",
    "\n",
    "# # 비율을 리스트로 변환\n",
    "# ratios_list = [ratios_inverse[k] for k in sorted(ratios_inverse.keys())]\n",
    "# print(\"반비례 클래스 비율 리스트:\", ratios_list)\n"
   ]
  },
  {
   "cell_type": "markdown",
   "metadata": {},
   "source": [
    "# 모델 설정"
   ]
  },
  {
   "cell_type": "code",
   "execution_count": 4,
   "metadata": {},
   "outputs": [],
   "source": [
    "from src.dataset.dataset import create_dataloaders\n",
    "from monai.transforms import (\n",
    "    Compose, LoadImaged, EnsureChannelFirstd, NormalizeIntensityd,\n",
    "    Orientationd, CropForegroundd, GaussianSmoothd, ScaleIntensityd,\n",
    "    RandSpatialCropd, RandRotate90d, RandFlipd, RandGaussianNoised,\n",
    "    ToTensord, RandCropByLabelClassesd\n",
    ")\n",
    "\n",
    "train_img_dir = \"./datasets/train/images\"\n",
    "train_label_dir = \"./datasets/train/labels\"\n",
    "val_img_dir = \"./datasets/val/images\"\n",
    "val_label_dir = \"./datasets/val/labels\"\n",
    "# DATA CONFIG\n",
    "img_depth = 96\n",
    "img_size =  96 # Match your patch size\n",
    "n_classes = 7\n",
    "batch_size =2 # 13.8GB GPU memory required for 128x128 img size\n",
    "num_samples = batch_size # 한 이미지에서 뽑을 샘플 수\n",
    "loader_batch = 1\n",
    "# MODEL CONFIG\n",
    "num_epochs = 4000\n",
    "lamda = 0.52\n",
    "lr = 0.001\n",
    "feature_size = 48\n",
    "use_checkpoint = True\n",
    "use_v2 = True\n",
    "drop_rate= 0.25\n",
    "attn_drop_rate = 0.25\n",
    "# CLASS_WEIGHTS\n",
    "class_weights = None\n",
    "class_weights = torch.tensor([0.001, 1, 0.001, 1.1, 1, 1.1, 1], dtype=torch.float32)  # 클래스별 가중치\n",
    "# INIT\n",
    "start_epoch = 0\n",
    "best_val_loss = float('inf')\n",
    "best_val_fbeta_score = 0\n",
    "\n",
    "non_random_transforms = Compose([\n",
    "    EnsureChannelFirstd(keys=[\"image\", \"label\"], channel_dim=\"no_channel\"),\n",
    "    NormalizeIntensityd(keys=\"image\"),\n",
    "    Orientationd(keys=[\"image\", \"label\"], axcodes=\"RAS\"),\n",
    "    GaussianSmoothd(\n",
    "        keys=[\"image\"],      # 변환을 적용할 키\n",
    "        sigma=[1.0, 1.0, 1.0]  # 각 축(x, y, z)의 시그마 값\n",
    "        ),\n",
    "])\n",
    "random_transforms = Compose([\n",
    "    RandCropByLabelClassesd(\n",
    "        keys=[\"image\", \"label\"],\n",
    "        label_key=\"label\",\n",
    "        spatial_size=[img_depth, img_size, img_size],\n",
    "        num_classes=n_classes,\n",
    "        num_samples=num_samples, \n",
    "        ratios=ratios_list,\n",
    "    ),\n",
    "    RandRotate90d(keys=[\"image\", \"label\"], prob=0.5, spatial_axes=[1, 2]),\n",
    "    RandFlipd(keys=[\"image\", \"label\"], prob=0.5, spatial_axis=0),\n",
    "    RandFlipd(keys=[\"image\", \"label\"], prob=0.5, spatial_axis=1),\n",
    "    RandFlipd(keys=[\"image\", \"label\"], prob=0.5, spatial_axis=2),\n",
    "])\n"
   ]
  },
  {
   "cell_type": "code",
   "execution_count": 5,
   "metadata": {},
   "outputs": [
    {
     "name": "stderr",
     "output_type": "stream",
     "text": [
      "Loading dataset: 100%|██████████| 24/24 [00:40<00:00,  1.70s/it]\n",
      "Loading dataset: 100%|██████████| 4/4 [00:06<00:00,  1.63s/it]\n"
     ]
    }
   ],
   "source": [
    "train_loader, val_loader = None, None\n",
    "train_loader, val_loader = create_dataloaders(\n",
    "    train_img_dir, \n",
    "    train_label_dir, \n",
    "    val_img_dir, \n",
    "    val_label_dir, \n",
    "    non_random_transforms = non_random_transforms, \n",
    "    random_transforms = random_transforms, \n",
    "    batch_size = loader_batch,\n",
    "    num_workers=0)"
   ]
  },
  {
   "cell_type": "markdown",
   "metadata": {},
   "source": [
    "https://monai.io/model-zoo.html"
   ]
  },
  {
   "cell_type": "code",
   "execution_count": 6,
   "metadata": {},
   "outputs": [],
   "source": [
    "from monai.losses import TverskyLoss\n",
    "import torch\n",
    "\n",
    "def loss_fn(loss, class_weights, device):\n",
    "    \"\"\"\n",
    "    Tversky 손실에 클래스별 가중치를 적용하여 최종 스칼라 값을 반환합니다.\n",
    "\n",
    "    Args:\n",
    "        loss: Tversky 손실 텐서 (B, num_classes, H, W, D).\n",
    "        class_weights: 클래스별 가중치 텐서 (num_classes,).\n",
    "        device: 사용할 장치 (예: 'cuda' 또는 'cpu').\n",
    "\n",
    "    Returns:\n",
    "        torch.Tensor: 최종 가중 평균 손실 값 (스칼라).\n",
    "    \"\"\"\n",
    "    # 가중치를 device로 이동\n",
    "    class_weights = class_weights.to(device)\n",
    "\n",
    "    # 클래스 차원에 가중치 적용 (B, num_classes, ...)\n",
    "    class_weights = class_weights.view(1, n_classes, 1, 1, 1)  # [1, num_classes, 1, 1, 1]\n",
    "    weighted_loss = loss * class_weights\n",
    "\n",
    "    # 모든 차원을 평균 내어 스칼라 손실 반환\n",
    "    final_loss = torch.mean(weighted_loss)\n",
    "    return final_loss"
   ]
  },
  {
   "cell_type": "code",
   "execution_count": 7,
   "metadata": {},
   "outputs": [
    {
     "name": "stderr",
     "output_type": "stream",
     "text": [
      "c:\\ProgramData\\anaconda3\\envs\\ship\\Lib\\site-packages\\monai\\utils\\deprecate_utils.py:221: FutureWarning: monai.networks.nets.swin_unetr SwinUNETR.__init__:img_size: Argument `img_size` has been deprecated since version 1.3. It will be removed in version 1.5. The img_size argument is not required anymore and checks on the input size are run during forward().\n",
      "  warn_deprecated(argname, msg, warning_category)\n"
     ]
    }
   ],
   "source": [
    "import torch.optim as optim\n",
    "from tqdm import tqdm\n",
    "import numpy as np\n",
    "import torch\n",
    "from pathlib import Path\n",
    "from monai.metrics import DiceMetric\n",
    "\n",
    "device = torch.device(\"cuda\" if torch.cuda.is_available() else \"cpu\")\n",
    "\n",
    "model = SwinUNETR(\n",
    "    img_size=(img_depth, img_size, img_size),\n",
    "    in_channels=1,\n",
    "    out_channels=n_classes,\n",
    "    feature_size=feature_size,\n",
    "    use_checkpoint=True,\n",
    "    drop_rate = drop_rate,\n",
    "    attn_drop_rate = attn_drop_rate,\n",
    "    use_v2 = use_v2,\n",
    ").to(device)\n",
    "# Pretrained weights 불러오기\n",
    "# if use_checkpoint:\n",
    "#     pretrain_path = \"./swin_unetr_btcv_segmentation/models/model.pt\"\n",
    "#     weight = torch.load(pretrain_path, map_location=device)\n",
    "\n",
    "#     # 출력 레이어의 키를 제외한 나머지 가중치만 로드\n",
    "#     filtered_weights = {k: v for k, v in weight.items() if \"out.conv.conv\" not in k}\n",
    "\n",
    "#     # strict=False로 로드하여 불일치하는 부분 무시\n",
    "#     model.load_state_dict(filtered_weights, strict=False)\n",
    "#     print(\"Filtered weights loaded successfully. Output layer will be trained from scratch.\")\n",
    "\n",
    "# Load pretrained weights\n",
    "# model.load_from(weights=np.load(config_vit.real_pretrained_path, allow_pickle=True))\n",
    "# TverskyLoss 설정\n",
    "criterion = TverskyLoss(\n",
    "    alpha= lamda,  # FP에 대한 가중치\n",
    "    beta= 1-lamda,       # FN에 대한 가중치\n",
    "    # include_background=False,  # 배경 클래스 제외\n",
    "    reduction=\"none\",  # 각 픽셀에 대한 손실 반환\n",
    "    softmax=True\n",
    ")\n",
    "pretrain_str = \"yes\" if use_checkpoint else \"no\"\n",
    "weight_str = \"weighted\" if class_weights is not None else \"\"\n",
    "\n",
    "# 체크포인트 디렉토리 및 파일 설정\n",
    "checkpoint_base_dir = Path(\"./model_checkpoints\")\n",
    "checkpoint_dir = checkpoint_base_dir / f\"SwinUNETR_v2_p{pretrain_str}_{weight_str}_f{feature_size}_d{img_depth}_s{img_size}_lr{lr:.0e}_a{lamda:.2f}_b{1-lamda:.2f}_batch{batch_size}\"\n",
    "optimizer = optim.AdamW(model.parameters(), lr=lr, weight_decay=1e-5)\n",
    "\n",
    "# 체크포인트 디렉토리 생성\n",
    "checkpoint_dir.mkdir(parents=True, exist_ok=True)\n",
    "\n",
    "if checkpoint_dir.exists():\n",
    "    best_model_path = checkpoint_dir / 'best_model.pt'\n",
    "    if best_model_path.exists():\n",
    "        print(f\"기존 best model 발견: {best_model_path}\")\n",
    "        try:\n",
    "            checkpoint = torch.load(best_model_path, map_location=device)\n",
    "            # 체크포인트 내부 키 검증\n",
    "            required_keys = ['model_state_dict', 'optimizer_state_dict', 'epoch', 'best_val_loss']\n",
    "            if all(k in checkpoint for k in required_keys):\n",
    "                model.load_state_dict(checkpoint['model_state_dict'])\n",
    "                optimizer.load_state_dict(checkpoint['optimizer_state_dict'])\n",
    "                start_epoch = checkpoint['epoch']\n",
    "                best_val_loss = checkpoint['best_val_loss']\n",
    "                print(\"기존 학습된 가중치를 성공적으로 로드했습니다.\")\n",
    "            else:\n",
    "                raise ValueError(\"체크포인트 파일에 필요한 key가 없습니다.\")\n",
    "        except Exception as e:\n",
    "            print(f\"체크포인트 파일을 로드하는 중 오류 발생: {e}\")"
   ]
  },
  {
   "cell_type": "code",
   "execution_count": 8,
   "metadata": {},
   "outputs": [
    {
     "name": "stdout",
     "output_type": "stream",
     "text": [
      "torch.Size([2, 1, 96, 96, 96]) torch.Size([2, 1, 96, 96, 96])\n"
     ]
    }
   ],
   "source": [
    "batch = next(iter(val_loader))\n",
    "images, labels = batch[\"image\"], batch[\"label\"]\n",
    "print(images.shape, labels.shape)"
   ]
  },
  {
   "cell_type": "code",
   "execution_count": 9,
   "metadata": {},
   "outputs": [],
   "source": [
    "torch.backends.cudnn.benchmark = True"
   ]
  },
  {
   "cell_type": "code",
   "execution_count": 10,
   "metadata": {},
   "outputs": [
    {
     "name": "stderr",
     "output_type": "stream",
     "text": [
      "\u001b[34m\u001b[1mwandb\u001b[0m: Using wandb-core as the SDK backend. Please refer to https://wandb.me/wandb-core for more information.\n",
      "\u001b[34m\u001b[1mwandb\u001b[0m: Currently logged in as: \u001b[33mwoow070840\u001b[0m (\u001b[33mwaooang\u001b[0m). Use \u001b[1m`wandb login --relogin`\u001b[0m to force relogin\n"
     ]
    },
    {
     "data": {
      "text/html": [
       "Tracking run with wandb version 0.18.3"
      ],
      "text/plain": [
       "<IPython.core.display.HTML object>"
      ]
     },
     "metadata": {},
     "output_type": "display_data"
    },
    {
     "data": {
      "text/html": [
       "Run data is saved locally in <code>e:\\Workspace\\czll\\wandb\\run-20241223_134128-xb1t9zju</code>"
      ],
      "text/plain": [
       "<IPython.core.display.HTML object>"
      ]
     },
     "metadata": {},
     "output_type": "display_data"
    },
    {
     "data": {
      "text/html": [
       "Syncing run <strong><a href='https://wandb.ai/waooang/czii_SwinUnetR/runs/xb1t9zju' target=\"_blank\">SwinUNETR_pyes_weighted_f48_d96_s96_lr1e-03_a0.52_b0.48_batch2_20241223_134128</a></strong> to <a href='https://wandb.ai/waooang/czii_SwinUnetR' target=\"_blank\">Weights & Biases</a> (<a href='https://wandb.me/run' target=\"_blank\">docs</a>)<br/>"
      ],
      "text/plain": [
       "<IPython.core.display.HTML object>"
      ]
     },
     "metadata": {},
     "output_type": "display_data"
    },
    {
     "data": {
      "text/html": [
       " View project at <a href='https://wandb.ai/waooang/czii_SwinUnetR' target=\"_blank\">https://wandb.ai/waooang/czii_SwinUnetR</a>"
      ],
      "text/plain": [
       "<IPython.core.display.HTML object>"
      ]
     },
     "metadata": {},
     "output_type": "display_data"
    },
    {
     "data": {
      "text/html": [
       " View run at <a href='https://wandb.ai/waooang/czii_SwinUnetR/runs/xb1t9zju' target=\"_blank\">https://wandb.ai/waooang/czii_SwinUnetR/runs/xb1t9zju</a>"
      ],
      "text/plain": [
       "<IPython.core.display.HTML object>"
      ]
     },
     "metadata": {},
     "output_type": "display_data"
    },
    {
     "data": {
      "text/plain": [
       "[]"
      ]
     },
     "execution_count": 10,
     "metadata": {},
     "output_type": "execute_result"
    }
   ],
   "source": [
    "import wandb\n",
    "from datetime import datetime\n",
    "\n",
    "current_time = datetime.now().strftime('%Y%m%d_%H%M%S')\n",
    "run_name = f'SwinUNETR_p{pretrain_str}_{weight_str}_f{feature_size}_d{img_depth}_s{img_size}_lr{lr:.0e}_a{lamda:.2f}_b{1-lamda:.2f}_batch{batch_size}_{current_time}'\n",
    "\n",
    "# wandb 초기화\n",
    "wandb.init(\n",
    "    project='czii_SwinUnetR',  # 프로젝트 이름 설정\n",
    "    name=run_name,         # 실행(run) 이름 설정\n",
    "    config={\n",
    "        'num_epochs': num_epochs,\n",
    "        'learning_rate': lr,\n",
    "        'batch_size': batch_size,\n",
    "        'lambda': lamda,\n",
    "        'feature_size': feature_size,\n",
    "        'img_size': img_size,\n",
    "        'sampling_ratio': ratios_list,\n",
    "        'device': device.type,\n",
    "        \"checkpoint_dir\": str(checkpoint_dir),\n",
    "        \"class_weights\": class_weights.tolist() if class_weights is not None else None,\n",
    "        \"use_checkpoint\": use_checkpoint,\n",
    "        \"drop_rate\": drop_rate,\n",
    "        \"attn_drop_rate\": attn_drop_rate,\n",
    "        \"use_v2\": use_v2,\n",
    "        \n",
    "        # 필요한 하이퍼파라미터 추가\n",
    "    }\n",
    ")\n",
    "# 모델을 wandb에 연결\n",
    "wandb.watch(model, log='all')"
   ]
  },
  {
   "cell_type": "markdown",
   "metadata": {},
   "source": [
    "# 학습"
   ]
  },
  {
   "cell_type": "code",
   "execution_count": 11,
   "metadata": {},
   "outputs": [],
   "source": [
    "from monai.metrics import DiceMetric\n",
    "    \n",
    "def processing(batch_data, model, criterion, device):\n",
    "    images = batch_data['image'].to(device)  # Input 이미지 (B, 1, 96, 96, 96)\n",
    "    labels = batch_data['label'].to(device)  # 라벨 (B, 96, 96, 96)\n",
    "\n",
    "    labels = labels.squeeze(1)  # (B, 1, 96, 96, 96) → (B, 96, 96, 96)\n",
    "    labels = labels.long()  # 라벨을 정수형으로 변환\n",
    "\n",
    "    # 원핫 인코딩 (B, H, W, D) → (B, num_classes, H, W, D)\n",
    "    \n",
    "    labels_onehot = torch.nn.functional.one_hot(labels, num_classes=n_classes)\n",
    "    labels_onehot = labels_onehot.permute(0, 4, 1, 2, 3).float()  # (B, num_classes, H, W, D)\n",
    "\n",
    "    # 모델 예측\n",
    "    outputs = model(images)  # outputs: (B, num_classes, H, W, D)\n",
    "\n",
    "    # Loss 계산\n",
    "    # loss = criterion(outputs, labels_onehot)\n",
    "    loss = loss_fn(criterion(outputs, labels_onehot),class_weights=class_weights, device=device)\n",
    "    return loss, outputs, labels, outputs.argmax(dim=1)\n",
    "\n",
    "def train_one_epoch(model, train_loader, criterion, optimizer, device, epoch):\n",
    "    model.train()\n",
    "    epoch_loss = 0\n",
    "    with tqdm(train_loader, desc='Training') as pbar:\n",
    "        for batch_data in pbar:\n",
    "            optimizer.zero_grad()\n",
    "            loss, _, _, _ = processing(batch_data, model, criterion, device)\n",
    "            loss.backward()\n",
    "            optimizer.step()\n",
    "\n",
    "            epoch_loss += loss.item()\n",
    "            pbar.set_postfix(loss=loss.item())\n",
    "    avg_loss = epoch_loss / len(train_loader)\n",
    "    wandb.log({'train_epoch_loss': avg_loss, 'epoch': epoch + 1})\n",
    "    return epoch_loss / len(train_loader)\n",
    "\n",
    "def validate_one_epoch(model, val_loader, criterion, device, epoch, calculate_dice_interval):\n",
    "    model.eval()\n",
    "    val_loss = 0\n",
    "    \n",
    "    class_dice_scores = {i: [] for i in range(n_classes)}\n",
    "    class_f_beta_scores = {i: [] for i in range(n_classes)}\n",
    "    with torch.no_grad():\n",
    "        with tqdm(val_loader, desc='Validation') as pbar:\n",
    "            for batch_data in pbar:\n",
    "                loss, _, labels, preds = processing(batch_data, model, criterion, device)\n",
    "                val_loss += loss.item()\n",
    "                pbar.set_postfix(loss=loss.item())\n",
    "\n",
    "                # 각 클래스별 Dice 점수 계산\n",
    "                if epoch % calculate_dice_interval == 0:\n",
    "                    for i in range(n_classes):\n",
    "                        pred_i = (preds == i)\n",
    "                        label_i = (labels == i)\n",
    "                        dice_score = (2.0 * torch.sum(pred_i & label_i)) / (torch.sum(pred_i) + torch.sum(label_i) + 1e-8)\n",
    "                        class_dice_scores[i].append(dice_score.item())\n",
    "                        precision = (torch.sum(pred_i & label_i) + 1e-8) / (torch.sum(pred_i) + 1e-8)\n",
    "                        recall = (torch.sum(pred_i & label_i) + 1e-8) / (torch.sum(label_i) + 1e-8)\n",
    "                        f_beta_score = (1 + 4**2) * (precision * recall) / (4**2 * precision + recall + 1e-8)\n",
    "                        class_f_beta_scores[i].append(f_beta_score.item())\n",
    "\n",
    "    avg_loss = val_loss / len(val_loader)\n",
    "    # 에포크별 평균 손실 로깅\n",
    "    wandb.log({'val_epoch_loss': avg_loss, 'epoch': epoch + 1})\n",
    "    \n",
    "    # 각 클래스별 평균 Dice 점수 출력\n",
    "    if epoch % calculate_dice_interval == 0:\n",
    "        print(\"Validation Dice Score\")\n",
    "        all_classes_dice_scores = []\n",
    "        for i in range(n_classes):\n",
    "            mean_dice = np.mean(class_dice_scores[i])\n",
    "            wandb.log({f'class_{i}_dice_score': mean_dice, 'epoch': epoch + 1})\n",
    "            print(f\"Class {i}: {mean_dice:.4f}\", end=\", \")\n",
    "            if i not in [0, 2]:  # 평균에 포함할 클래스만 추가\n",
    "                all_classes_dice_scores.append(mean_dice)\n",
    "            \n",
    "        print()\n",
    "    if epoch % calculate_dice_interval == 0:\n",
    "        print(\"Validation F-beta Score\")\n",
    "        all_classes_fbeta_scores = []\n",
    "        for i in range(n_classes):\n",
    "            mean_fbeta = np.mean(class_f_beta_scores[i])\n",
    "            wandb.log({f'class_{i}_f_beta_score': mean_fbeta, 'epoch': epoch + 1})\n",
    "            print(f\"Class {i}: {mean_fbeta:.4f}\", end=\", \")\n",
    "            if i not in [0, 2]:  # 평균에 포함할 클래스만 추가\n",
    "                all_classes_fbeta_scores.append(mean_fbeta)\n",
    "        print()\n",
    "        overall_mean_dice = np.mean(all_classes_dice_scores)\n",
    "        overall_mean_fbeta = np.mean(all_classes_fbeta_scores)\n",
    "        wandb.log({'overall_mean_f_beta_score': overall_mean_fbeta, 'overall_mean_dice_score': overall_mean_dice, 'epoch': epoch + 1})\n",
    "        print(f\"\\nOverall Mean Dice Score: {overall_mean_dice:.4f}\\nOverall Mean F-beta Score: {overall_mean_fbeta:.4f}\\n\")\n",
    "\n",
    "    if overall_mean_fbeta is None:\n",
    "        overall_mean_fbeta = 0\n",
    "\n",
    "    return val_loss / len(val_loader), overall_mean_fbeta\n",
    "\n",
    "def train_model(\n",
    "    model, train_loader, val_loader, criterion, optimizer, num_epochs, patience, \n",
    "    device, start_epoch, best_val_loss, best_val_fbeta_score, calculate_dice_interval=1\n",
    "):\n",
    "    \"\"\"\n",
    "    모델을 학습하고 검증하는 함수\n",
    "    Args:\n",
    "        model: 학습할 모델\n",
    "        train_loader: 학습 데이터 로더\n",
    "        val_loader: 검증 데이터 로더\n",
    "        criterion: 손실 함수\n",
    "        optimizer: 최적화 알고리즘\n",
    "        num_epochs: 총 학습 epoch 수\n",
    "        patience: early stopping 기준\n",
    "        device: GPU/CPU 장치\n",
    "        start_epoch: 시작 epoch\n",
    "        best_val_loss: 이전 최적 validation loss\n",
    "        best_val_fbeta_score: 이전 최적 validation f-beta score\n",
    "        calculate_dice_interval: Dice 점수 계산 주기\n",
    "    \"\"\"\n",
    "    epochs_no_improve = 0\n",
    "\n",
    "    for epoch in range(start_epoch, num_epochs):\n",
    "        print(f\"Epoch {epoch + 1}/{num_epochs}\")\n",
    "\n",
    "        # Train One Epoch\n",
    "        train_loss = train_one_epoch(\n",
    "            model=model, \n",
    "            train_loader=train_loader, \n",
    "            criterion=criterion, \n",
    "            optimizer=optimizer, \n",
    "            device=device,\n",
    "            epoch=epoch\n",
    "        )\n",
    "\n",
    "        # Validate One Epoch\n",
    "        val_loss, overall_mean_fbeta_score = validate_one_epoch(\n",
    "            model=model, \n",
    "            val_loader=val_loader, \n",
    "            criterion=criterion, \n",
    "            device=device, \n",
    "            epoch=epoch, \n",
    "            calculate_dice_interval=calculate_dice_interval\n",
    "        )\n",
    "\n",
    "        \n",
    "        print(f\"Training Loss: {train_loss:.4f}, Validation Loss: {val_loss:.4f}, Validation F-beta: {overall_mean_fbeta_score:.4f}\")\n",
    "\n",
    "        if val_loss < best_val_loss and overall_mean_fbeta_score > best_val_fbeta_score:\n",
    "            best_val_loss = val_loss\n",
    "            best_val_fbeta_score = overall_mean_fbeta_score\n",
    "            epochs_no_improve = 0\n",
    "            checkpoint_path = os.path.join(checkpoint_dir, 'best_model.pt')\n",
    "            torch.save({\n",
    "                'epoch': epoch + 1,\n",
    "                'model_state_dict': model.state_dict(),\n",
    "                'optimizer_state_dict': optimizer.state_dict(),\n",
    "                'best_val_loss': best_val_loss,\n",
    "                'best_val_fbeta_score': best_val_fbeta_score\n",
    "            }, checkpoint_path)\n",
    "            print(f\"========================================================\")\n",
    "            print(f\"SUPER Best model saved. Loss:{best_val_loss:.4f}, Score:{best_val_fbeta_score:.4f}\")\n",
    "            print(f\"========================================================\")\n",
    "        \n",
    "        # Validation Loss 기준 모델 저장\n",
    "        if val_loss < best_val_loss:\n",
    "            best_val_loss = val_loss\n",
    "            epochs_no_improve = 0\n",
    "            checkpoint_path = os.path.join(checkpoint_dir, 'best_model_val_loss.pt')\n",
    "            torch.save({\n",
    "                'epoch': epoch + 1,\n",
    "                'model_state_dict': model.state_dict(),\n",
    "                'optimizer_state_dict': optimizer.state_dict(),\n",
    "                'best_val_loss': best_val_loss,\n",
    "                'best_val_fbeta_score': best_val_fbeta_score\n",
    "            }, checkpoint_path)\n",
    "            print(f\"========================================================\")\n",
    "            print(f\"Best model saved based on validation loss: {best_val_loss:.4f}\")\n",
    "            print(f\"========================================================\")\n",
    "\n",
    "        # Validation F-beta Score 기준 모델 저장\n",
    "        if overall_mean_fbeta_score > best_val_fbeta_score:\n",
    "            best_val_fbeta_score = overall_mean_fbeta_score\n",
    "            epochs_no_improve = 0\n",
    "            checkpoint_path = os.path.join(checkpoint_dir, 'best_model_val_fbeta.pt')\n",
    "            torch.save({\n",
    "                'epoch': epoch + 1,\n",
    "                'model_state_dict': model.state_dict(),\n",
    "                'optimizer_state_dict': optimizer.state_dict(),\n",
    "                'best_val_loss': best_val_loss,\n",
    "                'best_val_fbeta_score': best_val_fbeta_score\n",
    "            }, checkpoint_path)\n",
    "            print(f\"========================================================\")\n",
    "            print(f\"Best model saved based on F-beta score: {best_val_fbeta_score:.4f}\")\n",
    "            print(f\"========================================================\")\n",
    "\n",
    "        # Early stopping 조건 체크\n",
    "        if val_loss >= best_val_loss and overall_mean_fbeta_score <= best_val_fbeta_score:\n",
    "            epochs_no_improve += 1\n",
    "        else:\n",
    "            epochs_no_improve = 0\n",
    "\n",
    "        if epochs_no_improve >= patience:\n",
    "            print(\"Early stopping\")\n",
    "            checkpoint_path = os.path.join(checkpoint_dir, 'last.pt')\n",
    "            torch.save({\n",
    "                'epoch': epoch + 1,\n",
    "                'model_state_dict': model.state_dict(),\n",
    "                'optimizer_state_dict': optimizer.state_dict(),\n",
    "                'best_val_loss': best_val_loss,\n",
    "                'best_val_fbeta_score': best_val_fbeta_score\n",
    "            }, checkpoint_path)\n",
    "            break\n",
    "\n",
    "    wandb.finish()\n"
   ]
  },
  {
   "cell_type": "code",
   "execution_count": 12,
   "metadata": {},
   "outputs": [
    {
     "name": "stdout",
     "output_type": "stream",
     "text": [
      "Epoch 1/4000\n"
     ]
    },
    {
     "name": "stderr",
     "output_type": "stream",
     "text": [
      "Training:   0%|          | 0/24 [00:00<?, ?it/s]c:\\ProgramData\\anaconda3\\envs\\ship\\Lib\\site-packages\\torch\\utils\\checkpoint.py:1399: FutureWarning: `torch.cpu.amp.autocast(args...)` is deprecated. Please use `torch.amp.autocast('cpu', args...)` instead.\n",
      "  with device_autocast_ctx, torch.cpu.amp.autocast(**cpu_autocast_kwargs), recompute_context:  # type: ignore[attr-defined]\n",
      "Training: 100%|██████████| 24/24 [01:06<00:00,  2.77s/it, loss=0.657]\n",
      "Validation: 100%|██████████| 4/4 [00:02<00:00,  1.82it/s, loss=0.648]\n"
     ]
    },
    {
     "name": "stdout",
     "output_type": "stream",
     "text": [
      "Validation Dice Score\n",
      "Class 0: 0.8799, Class 1: 0.0000, Class 2: 0.0000, Class 3: 0.0000, Class 4: 0.2765, Class 5: 0.0323, Class 6: 0.0000, \n",
      "Validation F-beta Score\n",
      "Class 0: 0.7967, Class 1: 0.0000, Class 2: 0.0000, Class 3: 0.0000, Class 4: 0.5808, Class 5: 0.1817, Class 6: 0.0000, \n",
      "\n",
      "Overall Mean Dice Score: 0.0618\n",
      "Overall Mean F-beta Score: 0.1525\n",
      "\n",
      "Training Loss: 0.6652, Validation Loss: 0.6415, Validation F-beta: 0.1525\n",
      "========================================================\n",
      "SUPER Best model saved. Loss:0.6415, Score:0.1525\n",
      "========================================================\n",
      "Epoch 2/4000\n"
     ]
    },
    {
     "name": "stderr",
     "output_type": "stream",
     "text": [
      "Training: 100%|██████████| 24/24 [00:55<00:00,  2.31s/it, loss=0.618]\n",
      "Validation: 100%|██████████| 4/4 [00:01<00:00,  2.00it/s, loss=0.634]\n"
     ]
    },
    {
     "name": "stdout",
     "output_type": "stream",
     "text": [
      "Validation Dice Score\n",
      "Class 0: 0.9548, Class 1: 0.0000, Class 2: 0.0000, Class 3: 0.0000, Class 4: 0.2614, Class 5: 0.0786, Class 6: 0.0080, \n",
      "Validation F-beta Score\n",
      "Class 0: 0.9232, Class 1: 0.0000, Class 2: 0.5000, Class 3: 0.0000, Class 4: 0.2405, Class 5: 0.2738, Class 6: 0.0318, \n",
      "\n",
      "Overall Mean Dice Score: 0.0696\n",
      "Overall Mean F-beta Score: 0.1092\n",
      "\n",
      "Training Loss: 0.6368, Validation Loss: 0.6248, Validation F-beta: 0.1092\n",
      "========================================================\n",
      "Best model saved based on validation loss: 0.6248\n",
      "========================================================\n",
      "Epoch 3/4000\n"
     ]
    },
    {
     "name": "stderr",
     "output_type": "stream",
     "text": [
      "Training: 100%|██████████| 24/24 [00:49<00:00,  2.05s/it, loss=0.616]\n",
      "Validation: 100%|██████████| 4/4 [00:01<00:00,  2.01it/s, loss=0.572]\n"
     ]
    },
    {
     "name": "stdout",
     "output_type": "stream",
     "text": [
      "Validation Dice Score\n",
      "Class 0: 0.9836, Class 1: 0.0000, Class 2: 0.0000, Class 3: 0.0890, Class 4: 0.3131, Class 5: 0.0878, Class 6: 0.2446, \n",
      "Validation F-beta Score\n",
      "Class 0: 0.9807, Class 1: 0.2500, Class 2: 0.5000, Class 3: 0.1838, Class 4: 0.3525, Class 5: 0.0762, Class 6: 0.2722, \n",
      "\n",
      "Overall Mean Dice Score: 0.1469\n",
      "Overall Mean F-beta Score: 0.2269\n",
      "\n",
      "Training Loss: 0.6157, Validation Loss: 0.5889, Validation F-beta: 0.2269\n",
      "========================================================\n",
      "SUPER Best model saved. Loss:0.5889, Score:0.2269\n",
      "========================================================\n",
      "Epoch 4/4000\n"
     ]
    },
    {
     "name": "stderr",
     "output_type": "stream",
     "text": [
      "Training: 100%|██████████| 24/24 [00:49<00:00,  2.05s/it, loss=0.583]\n",
      "Validation: 100%|██████████| 4/4 [00:02<00:00,  1.99it/s, loss=0.58] \n"
     ]
    },
    {
     "name": "stdout",
     "output_type": "stream",
     "text": [
      "Validation Dice Score\n",
      "Class 0: 0.9776, Class 1: 0.0000, Class 2: 0.0000, Class 3: 0.0001, Class 4: 0.1956, Class 5: 0.1883, Class 6: 0.1049, \n",
      "Validation F-beta Score\n",
      "Class 0: 0.9662, Class 1: 0.2500, Class 2: 0.2500, Class 3: 0.0001, Class 4: 0.2816, Class 5: 0.2854, Class 6: 0.2412, \n",
      "\n",
      "Overall Mean Dice Score: 0.0978\n",
      "Overall Mean F-beta Score: 0.2116\n",
      "\n",
      "Training Loss: 0.6016, Validation Loss: 0.6008, Validation F-beta: 0.2116\n",
      "Epoch 5/4000\n"
     ]
    },
    {
     "name": "stderr",
     "output_type": "stream",
     "text": [
      "Training: 100%|██████████| 24/24 [00:51<00:00,  2.13s/it, loss=0.561]\n",
      "Validation: 100%|██████████| 4/4 [00:02<00:00,  1.77it/s, loss=0.575]\n"
     ]
    },
    {
     "name": "stdout",
     "output_type": "stream",
     "text": [
      "Validation Dice Score\n",
      "Class 0: 0.9787, Class 1: 0.0000, Class 2: 0.0000, Class 3: 0.0268, Class 4: 0.3531, Class 5: 0.1187, Class 6: 0.1779, \n",
      "Validation F-beta Score\n",
      "Class 0: 0.9749, Class 1: 0.0000, Class 2: 0.0000, Class 3: 0.0386, Class 4: 0.4795, Class 5: 0.1154, Class 6: 0.2103, \n",
      "\n",
      "Overall Mean Dice Score: 0.1353\n",
      "Overall Mean F-beta Score: 0.1687\n",
      "\n",
      "Training Loss: 0.5903, Validation Loss: 0.5829, Validation F-beta: 0.1687\n",
      "========================================================\n",
      "Best model saved based on validation loss: 0.5829\n",
      "========================================================\n",
      "Epoch 6/4000\n"
     ]
    },
    {
     "name": "stderr",
     "output_type": "stream",
     "text": [
      "Training: 100%|██████████| 24/24 [00:54<00:00,  2.29s/it, loss=0.611]\n",
      "Validation: 100%|██████████| 4/4 [00:02<00:00,  1.93it/s, loss=0.593]\n"
     ]
    },
    {
     "name": "stdout",
     "output_type": "stream",
     "text": [
      "Validation Dice Score\n",
      "Class 0: 0.9842, Class 1: 0.0018, Class 2: 0.0000, Class 3: 0.0553, Class 4: 0.3646, Class 5: 0.2040, Class 6: 0.0288, \n",
      "Validation F-beta Score\n",
      "Class 0: 0.9835, Class 1: 0.0011, Class 2: 0.0000, Class 3: 0.0454, Class 4: 0.3930, Class 5: 0.2283, Class 6: 0.0286, \n",
      "\n",
      "Overall Mean Dice Score: 0.1309\n",
      "Overall Mean F-beta Score: 0.1393\n",
      "\n",
      "Training Loss: 0.5871, Validation Loss: 0.5858, Validation F-beta: 0.1393\n",
      "Epoch 7/4000\n"
     ]
    },
    {
     "name": "stderr",
     "output_type": "stream",
     "text": [
      "Training: 100%|██████████| 24/24 [00:51<00:00,  2.14s/it, loss=0.572]\n",
      "Validation: 100%|██████████| 4/4 [00:02<00:00,  1.92it/s, loss=0.563]\n"
     ]
    },
    {
     "name": "stdout",
     "output_type": "stream",
     "text": [
      "Validation Dice Score\n",
      "Class 0: 0.9818, Class 1: 0.0194, Class 2: 0.0000, Class 3: 0.0788, Class 4: 0.3556, Class 5: 0.2104, Class 6: 0.1282, \n",
      "Validation F-beta Score\n",
      "Class 0: 0.9781, Class 1: 0.0198, Class 2: 0.5000, Class 3: 0.1390, Class 4: 0.4002, Class 5: 0.2113, Class 6: 0.1671, \n",
      "\n",
      "Overall Mean Dice Score: 0.1585\n",
      "Overall Mean F-beta Score: 0.1875\n",
      "\n",
      "Training Loss: 0.5771, Validation Loss: 0.5673, Validation F-beta: 0.1875\n",
      "========================================================\n",
      "Best model saved based on validation loss: 0.5673\n",
      "========================================================\n",
      "Epoch 8/4000\n"
     ]
    },
    {
     "name": "stderr",
     "output_type": "stream",
     "text": [
      "Training: 100%|██████████| 24/24 [00:49<00:00,  2.06s/it, loss=0.58] \n",
      "Validation: 100%|██████████| 4/4 [00:02<00:00,  1.91it/s, loss=0.564]\n"
     ]
    },
    {
     "name": "stdout",
     "output_type": "stream",
     "text": [
      "Validation Dice Score\n",
      "Class 0: 0.9863, Class 1: 0.0000, Class 2: 0.0000, Class 3: 0.1472, Class 4: 0.3202, Class 5: 0.2632, Class 6: 0.2127, \n",
      "Validation F-beta Score\n",
      "Class 0: 0.9849, Class 1: 0.0000, Class 2: 0.5000, Class 3: 0.1416, Class 4: 0.3233, Class 5: 0.2491, Class 6: 0.2235, \n",
      "\n",
      "Overall Mean Dice Score: 0.1887\n",
      "Overall Mean F-beta Score: 0.1875\n",
      "\n",
      "Training Loss: 0.5693, Validation Loss: 0.5546, Validation F-beta: 0.1875\n",
      "========================================================\n",
      "Best model saved based on validation loss: 0.5546\n",
      "========================================================\n",
      "Epoch 9/4000\n"
     ]
    },
    {
     "name": "stderr",
     "output_type": "stream",
     "text": [
      "Training: 100%|██████████| 24/24 [00:49<00:00,  2.08s/it, loss=0.58] \n",
      "Validation: 100%|██████████| 4/4 [00:02<00:00,  1.74it/s, loss=0.527]\n"
     ]
    },
    {
     "name": "stdout",
     "output_type": "stream",
     "text": [
      "Validation Dice Score\n",
      "Class 0: 0.9825, Class 1: 0.0175, Class 2: 0.0000, Class 3: 0.0904, Class 4: 0.1662, Class 5: 0.3179, Class 6: 0.4789, \n",
      "Validation F-beta Score\n",
      "Class 0: 0.9709, Class 1: 0.0203, Class 2: 0.5000, Class 3: 0.0988, Class 4: 0.3139, Class 5: 0.5071, Class 6: 0.5160, \n",
      "\n",
      "Overall Mean Dice Score: 0.2142\n",
      "Overall Mean F-beta Score: 0.2912\n",
      "\n",
      "Training Loss: 0.5858, Validation Loss: 0.5532, Validation F-beta: 0.2912\n",
      "========================================================\n",
      "SUPER Best model saved. Loss:0.5532, Score:0.2912\n",
      "========================================================\n",
      "Epoch 10/4000\n"
     ]
    },
    {
     "name": "stderr",
     "output_type": "stream",
     "text": [
      "Training: 100%|██████████| 24/24 [00:53<00:00,  2.22s/it, loss=0.574]\n",
      "Validation: 100%|██████████| 4/4 [00:02<00:00,  1.82it/s, loss=0.587]\n"
     ]
    },
    {
     "name": "stdout",
     "output_type": "stream",
     "text": [
      "Validation Dice Score\n",
      "Class 0: 0.9761, Class 1: 0.0000, Class 2: 0.0000, Class 3: 0.0283, Class 4: 0.3504, Class 5: 0.2034, Class 6: 0.0000, \n",
      "Validation F-beta Score\n",
      "Class 0: 0.9712, Class 1: 0.0000, Class 2: 0.7500, Class 3: 0.0284, Class 4: 0.3534, Class 5: 0.2882, Class 6: 0.0000, \n",
      "\n",
      "Overall Mean Dice Score: 0.1164\n",
      "Overall Mean F-beta Score: 0.1340\n",
      "\n",
      "Training Loss: 0.5724, Validation Loss: 0.5812, Validation F-beta: 0.1340\n",
      "Epoch 11/4000\n"
     ]
    },
    {
     "name": "stderr",
     "output_type": "stream",
     "text": [
      "Training: 100%|██████████| 24/24 [00:51<00:00,  2.16s/it, loss=0.587]\n",
      "Validation: 100%|██████████| 4/4 [00:02<00:00,  1.89it/s, loss=0.584]\n"
     ]
    },
    {
     "name": "stdout",
     "output_type": "stream",
     "text": [
      "Validation Dice Score\n",
      "Class 0: 0.9778, Class 1: 0.0317, Class 2: 0.0000, Class 3: 0.0564, Class 4: 0.1390, Class 5: 0.1734, Class 6: 0.1734, \n",
      "Validation F-beta Score\n",
      "Class 0: 0.9676, Class 1: 0.0473, Class 2: 0.2500, Class 3: 0.0891, Class 4: 0.2326, Class 5: 0.1712, Class 6: 0.1915, \n",
      "\n",
      "Overall Mean Dice Score: 0.1148\n",
      "Overall Mean F-beta Score: 0.1463\n",
      "\n",
      "Training Loss: 0.5738, Validation Loss: 0.5887, Validation F-beta: 0.1463\n",
      "Epoch 12/4000\n"
     ]
    },
    {
     "name": "stderr",
     "output_type": "stream",
     "text": [
      "Training: 100%|██████████| 24/24 [00:50<00:00,  2.10s/it, loss=0.591]\n",
      "Validation: 100%|██████████| 4/4 [00:02<00:00,  1.86it/s, loss=0.539]\n"
     ]
    },
    {
     "name": "stdout",
     "output_type": "stream",
     "text": [
      "Validation Dice Score\n",
      "Class 0: 0.9864, Class 1: 0.0076, Class 2: 0.0000, Class 3: 0.0735, Class 4: 0.4415, Class 5: 0.3015, Class 6: 0.1960, \n",
      "Validation F-beta Score\n",
      "Class 0: 0.9836, Class 1: 0.0067, Class 2: 0.0000, Class 3: 0.1187, Class 4: 0.4905, Class 5: 0.3344, Class 6: 0.1994, \n",
      "\n",
      "Overall Mean Dice Score: 0.2040\n",
      "Overall Mean F-beta Score: 0.2299\n",
      "\n",
      "Training Loss: 0.5760, Validation Loss: 0.5572, Validation F-beta: 0.2299\n",
      "Epoch 13/4000\n"
     ]
    },
    {
     "name": "stderr",
     "output_type": "stream",
     "text": [
      "Training: 100%|██████████| 24/24 [00:49<00:00,  2.08s/it, loss=0.568]\n",
      "Validation: 100%|██████████| 4/4 [00:02<00:00,  1.91it/s, loss=0.622]\n"
     ]
    },
    {
     "name": "stdout",
     "output_type": "stream",
     "text": [
      "Validation Dice Score\n",
      "Class 0: 0.9812, Class 1: 0.0153, Class 2: 0.0000, Class 3: 0.1288, Class 4: 0.0972, Class 5: 0.2609, Class 6: 0.4993, \n",
      "Validation F-beta Score\n",
      "Class 0: 0.9727, Class 1: 0.0137, Class 2: 0.2500, Class 3: 0.2148, Class 4: 0.1906, Class 5: 0.3994, Class 6: 0.4713, \n",
      "\n",
      "Overall Mean Dice Score: 0.2003\n",
      "Overall Mean F-beta Score: 0.2580\n",
      "\n",
      "Training Loss: 0.5678, Validation Loss: 0.5497, Validation F-beta: 0.2580\n",
      "========================================================\n",
      "Best model saved based on validation loss: 0.5497\n",
      "========================================================\n",
      "Epoch 14/4000\n"
     ]
    },
    {
     "name": "stderr",
     "output_type": "stream",
     "text": [
      "Training: 100%|██████████| 24/24 [00:49<00:00,  2.06s/it, loss=0.557]\n",
      "Validation: 100%|██████████| 4/4 [00:01<00:00,  2.01it/s, loss=0.576]\n"
     ]
    },
    {
     "name": "stdout",
     "output_type": "stream",
     "text": [
      "Validation Dice Score\n",
      "Class 0: 0.9823, Class 1: 0.0592, Class 2: 0.0000, Class 3: 0.1546, Class 4: 0.4823, Class 5: 0.1392, Class 6: 0.2011, \n",
      "Validation F-beta Score\n",
      "Class 0: 0.9823, Class 1: 0.0671, Class 2: 0.0000, Class 3: 0.2324, Class 4: 0.4151, Class 5: 0.2221, Class 6: 0.2569, \n",
      "\n",
      "Overall Mean Dice Score: 0.2073\n",
      "Overall Mean F-beta Score: 0.2387\n",
      "\n",
      "Training Loss: 0.5597, Validation Loss: 0.5553, Validation F-beta: 0.2387\n",
      "Epoch 15/4000\n"
     ]
    },
    {
     "name": "stderr",
     "output_type": "stream",
     "text": [
      "Training: 100%|██████████| 24/24 [00:50<00:00,  2.12s/it, loss=0.549]\n",
      "Validation: 100%|██████████| 4/4 [00:02<00:00,  2.00it/s, loss=0.579]\n"
     ]
    },
    {
     "name": "stdout",
     "output_type": "stream",
     "text": [
      "Validation Dice Score\n",
      "Class 0: 0.9814, Class 1: 0.0258, Class 2: 0.0000, Class 3: 0.0566, Class 4: 0.2372, Class 5: 0.0860, Class 6: 0.3230, \n",
      "Validation F-beta Score\n",
      "Class 0: 0.9782, Class 1: 0.0336, Class 2: 0.0000, Class 3: 0.1238, Class 4: 0.2477, Class 5: 0.1035, Class 6: 0.4234, \n",
      "\n",
      "Overall Mean Dice Score: 0.1457\n",
      "Overall Mean F-beta Score: 0.1864\n",
      "\n",
      "Training Loss: 0.5676, Validation Loss: 0.5821, Validation F-beta: 0.1864\n",
      "Epoch 16/4000\n"
     ]
    },
    {
     "name": "stderr",
     "output_type": "stream",
     "text": [
      "Training: 100%|██████████| 24/24 [00:51<00:00,  2.15s/it, loss=0.556]\n",
      "Validation: 100%|██████████| 4/4 [00:02<00:00,  1.92it/s, loss=0.526]\n"
     ]
    },
    {
     "name": "stdout",
     "output_type": "stream",
     "text": [
      "Validation Dice Score\n",
      "Class 0: 0.9861, Class 1: 0.0770, Class 2: 0.0000, Class 3: 0.0149, Class 4: 0.0164, Class 5: 0.2537, Class 6: 0.7197, \n",
      "Validation F-beta Score\n",
      "Class 0: 0.9787, Class 1: 0.0555, Class 2: 0.0000, Class 3: 0.0504, Class 4: 0.0718, Class 5: 0.3203, Class 6: 0.6890, \n",
      "\n",
      "Overall Mean Dice Score: 0.2163\n",
      "Overall Mean F-beta Score: 0.2374\n",
      "\n",
      "Training Loss: 0.5601, Validation Loss: 0.5444, Validation F-beta: 0.2374\n",
      "========================================================\n",
      "Best model saved based on validation loss: 0.5444\n",
      "========================================================\n",
      "Epoch 17/4000\n"
     ]
    },
    {
     "name": "stderr",
     "output_type": "stream",
     "text": [
      "Training: 100%|██████████| 24/24 [00:50<00:00,  2.11s/it, loss=0.555]\n",
      "Validation: 100%|██████████| 4/4 [00:02<00:00,  1.98it/s, loss=0.518]\n"
     ]
    },
    {
     "name": "stdout",
     "output_type": "stream",
     "text": [
      "Validation Dice Score\n",
      "Class 0: 0.9897, Class 1: 0.0168, Class 2: 0.0000, Class 3: 0.1105, Class 4: 0.5236, Class 5: 0.3325, Class 6: 0.2411, \n",
      "Validation F-beta Score\n",
      "Class 0: 0.9873, Class 1: 0.0228, Class 2: 0.0000, Class 3: 0.1357, Class 4: 0.5585, Class 5: 0.4474, Class 6: 0.2798, \n",
      "\n",
      "Overall Mean Dice Score: 0.2449\n",
      "Overall Mean F-beta Score: 0.2888\n",
      "\n",
      "Training Loss: 0.5677, Validation Loss: 0.5291, Validation F-beta: 0.2888\n",
      "========================================================\n",
      "Best model saved based on validation loss: 0.5291\n",
      "========================================================\n",
      "Epoch 18/4000\n"
     ]
    },
    {
     "name": "stderr",
     "output_type": "stream",
     "text": [
      "Training: 100%|██████████| 24/24 [00:50<00:00,  2.12s/it, loss=0.586]\n",
      "Validation: 100%|██████████| 4/4 [00:02<00:00,  1.96it/s, loss=0.571]\n"
     ]
    },
    {
     "name": "stdout",
     "output_type": "stream",
     "text": [
      "Validation Dice Score\n",
      "Class 0: 0.9856, Class 1: 0.1173, Class 2: 0.0240, Class 3: 0.1710, Class 4: 0.2587, Class 5: 0.0571, Class 6: 0.2601, \n",
      "Validation F-beta Score\n",
      "Class 0: 0.9793, Class 1: 0.2133, Class 2: 0.0163, Class 3: 0.3068, Class 4: 0.3517, Class 5: 0.1064, Class 6: 0.2067, \n",
      "\n",
      "Overall Mean Dice Score: 0.1728\n",
      "Overall Mean F-beta Score: 0.2370\n",
      "\n",
      "Training Loss: 0.5597, Validation Loss: 0.5751, Validation F-beta: 0.2370\n",
      "Epoch 19/4000\n"
     ]
    },
    {
     "name": "stderr",
     "output_type": "stream",
     "text": [
      "Training: 100%|██████████| 24/24 [00:46<00:00,  1.96s/it, loss=0.576]\n",
      "Validation: 100%|██████████| 4/4 [00:01<00:00,  2.17it/s, loss=0.544]\n"
     ]
    },
    {
     "name": "stdout",
     "output_type": "stream",
     "text": [
      "Validation Dice Score\n",
      "Class 0: 0.9825, Class 1: 0.1043, Class 2: 0.0298, Class 3: 0.0265, Class 4: 0.2823, Class 5: 0.2193, Class 6: 0.1376, \n",
      "Validation F-beta Score\n",
      "Class 0: 0.9733, Class 1: 0.2355, Class 2: 0.0246, Class 3: 0.0404, Class 4: 0.3778, Class 5: 0.3610, Class 6: 0.1656, \n",
      "\n",
      "Overall Mean Dice Score: 0.1540\n",
      "Overall Mean F-beta Score: 0.2361\n",
      "\n",
      "Training Loss: 0.5402, Validation Loss: 0.5768, Validation F-beta: 0.2361\n",
      "Epoch 20/4000\n"
     ]
    },
    {
     "name": "stderr",
     "output_type": "stream",
     "text": [
      "Training: 100%|██████████| 24/24 [00:42<00:00,  1.75s/it, loss=0.567]\n",
      "Validation: 100%|██████████| 4/4 [00:01<00:00,  2.17it/s, loss=0.53] \n"
     ]
    },
    {
     "name": "stdout",
     "output_type": "stream",
     "text": [
      "Validation Dice Score\n",
      "Class 0: 0.9865, Class 1: 0.1315, Class 2: 0.0065, Class 3: 0.1570, Class 4: 0.4944, Class 5: 0.2560, Class 6: 0.1452, \n",
      "Validation F-beta Score\n",
      "Class 0: 0.9821, Class 1: 0.1600, Class 2: 0.0091, Class 3: 0.2285, Class 4: 0.4596, Class 5: 0.3318, Class 6: 0.1771, \n",
      "\n",
      "Overall Mean Dice Score: 0.2368\n",
      "Overall Mean F-beta Score: 0.2714\n",
      "\n",
      "Training Loss: 0.5723, Validation Loss: 0.5341, Validation F-beta: 0.2714\n",
      "Epoch 21/4000\n"
     ]
    },
    {
     "name": "stderr",
     "output_type": "stream",
     "text": [
      "Training: 100%|██████████| 24/24 [00:41<00:00,  1.74s/it, loss=0.54] \n",
      "Validation: 100%|██████████| 4/4 [00:01<00:00,  2.22it/s, loss=0.55] \n"
     ]
    },
    {
     "name": "stdout",
     "output_type": "stream",
     "text": [
      "Validation Dice Score\n",
      "Class 0: 0.9847, Class 1: 0.1194, Class 2: 0.0145, Class 3: 0.1885, Class 4: 0.3461, Class 5: 0.2841, Class 6: 0.1741, \n",
      "Validation F-beta Score\n",
      "Class 0: 0.9787, Class 1: 0.2552, Class 2: 0.0234, Class 3: 0.3040, Class 4: 0.4365, Class 5: 0.4076, Class 6: 0.2000, \n",
      "\n",
      "Overall Mean Dice Score: 0.2224\n",
      "Overall Mean F-beta Score: 0.3207\n",
      "\n",
      "Training Loss: 0.5607, Validation Loss: 0.5541, Validation F-beta: 0.3207\n",
      "========================================================\n",
      "Best model saved based on F-beta score: 0.3207\n",
      "========================================================\n",
      "Epoch 22/4000\n"
     ]
    },
    {
     "name": "stderr",
     "output_type": "stream",
     "text": [
      "Training: 100%|██████████| 24/24 [00:41<00:00,  1.74s/it, loss=0.58] \n",
      "Validation: 100%|██████████| 4/4 [00:01<00:00,  2.21it/s, loss=0.522]\n"
     ]
    },
    {
     "name": "stdout",
     "output_type": "stream",
     "text": [
      "Validation Dice Score\n",
      "Class 0: 0.9800, Class 1: 0.0882, Class 2: 0.0530, Class 3: 0.0869, Class 4: 0.3663, Class 5: 0.3730, Class 6: 0.3885, \n",
      "Validation F-beta Score\n",
      "Class 0: 0.9724, Class 1: 0.0814, Class 2: 0.0559, Class 3: 0.0974, Class 4: 0.5439, Class 5: 0.4655, Class 6: 0.4415, \n",
      "\n",
      "Overall Mean Dice Score: 0.2606\n",
      "Overall Mean F-beta Score: 0.3259\n",
      "\n",
      "Training Loss: 0.5492, Validation Loss: 0.5334, Validation F-beta: 0.3259\n",
      "========================================================\n",
      "Best model saved based on F-beta score: 0.3259\n",
      "========================================================\n",
      "Epoch 23/4000\n"
     ]
    },
    {
     "name": "stderr",
     "output_type": "stream",
     "text": [
      "Training: 100%|██████████| 24/24 [00:42<00:00,  1.75s/it, loss=0.532]\n",
      "Validation: 100%|██████████| 4/4 [00:01<00:00,  2.20it/s, loss=0.554]\n"
     ]
    },
    {
     "name": "stdout",
     "output_type": "stream",
     "text": [
      "Validation Dice Score\n",
      "Class 0: 0.9845, Class 1: 0.1679, Class 2: 0.0374, Class 3: 0.1266, Class 4: 0.4881, Class 5: 0.2356, Class 6: 0.2579, \n",
      "Validation F-beta Score\n",
      "Class 0: 0.9804, Class 1: 0.1122, Class 2: 0.0443, Class 3: 0.2464, Class 4: 0.5442, Class 5: 0.2404, Class 6: 0.2883, \n",
      "\n",
      "Overall Mean Dice Score: 0.2552\n",
      "Overall Mean F-beta Score: 0.2863\n",
      "\n",
      "Training Loss: 0.5548, Validation Loss: 0.5371, Validation F-beta: 0.2863\n",
      "Epoch 24/4000\n"
     ]
    },
    {
     "name": "stderr",
     "output_type": "stream",
     "text": [
      "Training: 100%|██████████| 24/24 [00:42<00:00,  1.77s/it, loss=0.574]\n",
      "Validation: 100%|██████████| 4/4 [00:01<00:00,  2.18it/s, loss=0.581]\n"
     ]
    },
    {
     "name": "stdout",
     "output_type": "stream",
     "text": [
      "Validation Dice Score\n",
      "Class 0: 0.9822, Class 1: 0.0339, Class 2: 0.0197, Class 3: 0.1004, Class 4: 0.4436, Class 5: 0.2460, Class 6: 0.1317, \n",
      "Validation F-beta Score\n",
      "Class 0: 0.9743, Class 1: 0.0250, Class 2: 0.0299, Class 3: 0.2054, Class 4: 0.5055, Class 5: 0.3448, Class 6: 0.1474, \n",
      "\n",
      "Overall Mean Dice Score: 0.1911\n",
      "Overall Mean F-beta Score: 0.2456\n",
      "\n",
      "Training Loss: 0.5495, Validation Loss: 0.5574, Validation F-beta: 0.2456\n",
      "Epoch 25/4000\n"
     ]
    },
    {
     "name": "stderr",
     "output_type": "stream",
     "text": [
      "Training: 100%|██████████| 24/24 [00:42<00:00,  1.76s/it, loss=0.503]\n",
      "Validation: 100%|██████████| 4/4 [00:01<00:00,  2.18it/s, loss=0.565]\n"
     ]
    },
    {
     "name": "stdout",
     "output_type": "stream",
     "text": [
      "Validation Dice Score\n",
      "Class 0: 0.9853, Class 1: 0.1914, Class 2: 0.0597, Class 3: 0.0750, Class 4: 0.2000, Class 5: 0.1776, Class 6: 0.0706, \n",
      "Validation F-beta Score\n",
      "Class 0: 0.9815, Class 1: 0.4148, Class 2: 0.0842, Class 3: 0.1458, Class 4: 0.2907, Class 5: 0.2233, Class 6: 0.1109, \n",
      "\n",
      "Overall Mean Dice Score: 0.1429\n",
      "Overall Mean F-beta Score: 0.2371\n",
      "\n",
      "Training Loss: 0.5351, Validation Loss: 0.5755, Validation F-beta: 0.2371\n",
      "Epoch 26/4000\n"
     ]
    },
    {
     "name": "stderr",
     "output_type": "stream",
     "text": [
      "Training: 100%|██████████| 24/24 [00:42<00:00,  1.77s/it, loss=0.54] \n",
      "Validation: 100%|██████████| 4/4 [00:01<00:00,  2.19it/s, loss=0.545]\n"
     ]
    },
    {
     "name": "stdout",
     "output_type": "stream",
     "text": [
      "Validation Dice Score\n",
      "Class 0: 0.9799, Class 1: 0.4012, Class 2: 0.0378, Class 3: 0.0915, Class 4: 0.2748, Class 5: 0.1684, Class 6: 0.1843, \n",
      "Validation F-beta Score\n",
      "Class 0: 0.9742, Class 1: 0.6255, Class 2: 0.0537, Class 3: 0.1571, Class 4: 0.3424, Class 5: 0.1906, Class 6: 0.1671, \n",
      "\n",
      "Overall Mean Dice Score: 0.2240\n",
      "Overall Mean F-beta Score: 0.2965\n",
      "\n",
      "Training Loss: 0.5376, Validation Loss: 0.5426, Validation F-beta: 0.2965\n",
      "Epoch 27/4000\n"
     ]
    },
    {
     "name": "stderr",
     "output_type": "stream",
     "text": [
      "Training: 100%|██████████| 24/24 [00:41<00:00,  1.73s/it, loss=0.545]\n",
      "Validation: 100%|██████████| 4/4 [00:01<00:00,  2.21it/s, loss=0.514]\n"
     ]
    },
    {
     "name": "stdout",
     "output_type": "stream",
     "text": [
      "Validation Dice Score\n",
      "Class 0: 0.9831, Class 1: 0.2796, Class 2: 0.0426, Class 3: 0.0000, Class 4: 0.2917, Class 5: 0.1994, Class 6: 0.3979, \n",
      "Validation F-beta Score\n",
      "Class 0: 0.9768, Class 1: 0.5070, Class 2: 0.0410, Class 3: 0.0000, Class 4: 0.4983, Class 5: 0.1687, Class 6: 0.4259, \n",
      "\n",
      "Overall Mean Dice Score: 0.2337\n",
      "Overall Mean F-beta Score: 0.3200\n",
      "\n",
      "Training Loss: 0.5481, Validation Loss: 0.5224, Validation F-beta: 0.3200\n",
      "========================================================\n",
      "Best model saved based on validation loss: 0.5224\n",
      "========================================================\n",
      "Epoch 28/4000\n"
     ]
    },
    {
     "name": "stderr",
     "output_type": "stream",
     "text": [
      "Training: 100%|██████████| 24/24 [00:41<00:00,  1.73s/it, loss=0.524]\n",
      "Validation: 100%|██████████| 4/4 [00:01<00:00,  2.21it/s, loss=0.532]\n"
     ]
    },
    {
     "name": "stdout",
     "output_type": "stream",
     "text": [
      "Validation Dice Score\n",
      "Class 0: 0.9811, Class 1: 0.0924, Class 2: 0.0357, Class 3: 0.1194, Class 4: 0.3801, Class 5: 0.2060, Class 6: 0.1866, \n",
      "Validation F-beta Score\n",
      "Class 0: 0.9751, Class 1: 0.1783, Class 2: 0.0550, Class 3: 0.1152, Class 4: 0.4596, Class 5: 0.3008, Class 6: 0.2351, \n",
      "\n",
      "Overall Mean Dice Score: 0.1969\n",
      "Overall Mean F-beta Score: 0.2578\n",
      "\n",
      "Training Loss: 0.5362, Validation Loss: 0.5505, Validation F-beta: 0.2578\n",
      "Epoch 29/4000\n"
     ]
    },
    {
     "name": "stderr",
     "output_type": "stream",
     "text": [
      "Training: 100%|██████████| 24/24 [00:41<00:00,  1.73s/it, loss=0.486]\n",
      "Validation: 100%|██████████| 4/4 [00:01<00:00,  2.17it/s, loss=0.542]\n"
     ]
    },
    {
     "name": "stdout",
     "output_type": "stream",
     "text": [
      "Validation Dice Score\n",
      "Class 0: 0.9860, Class 1: 0.4390, Class 2: 0.0058, Class 3: 0.1251, Class 4: 0.3778, Class 5: 0.3647, Class 6: 0.2911, \n",
      "Validation F-beta Score\n",
      "Class 0: 0.9813, Class 1: 0.4325, Class 2: 0.0091, Class 3: 0.1041, Class 4: 0.3677, Class 5: 0.5252, Class 6: 0.3252, \n",
      "\n",
      "Overall Mean Dice Score: 0.3195\n",
      "Overall Mean F-beta Score: 0.3509\n",
      "\n",
      "Training Loss: 0.5220, Validation Loss: 0.5095, Validation F-beta: 0.3509\n",
      "========================================================\n",
      "SUPER Best model saved. Loss:0.5095, Score:0.3509\n",
      "========================================================\n",
      "Epoch 30/4000\n"
     ]
    },
    {
     "name": "stderr",
     "output_type": "stream",
     "text": [
      "Training: 100%|██████████| 24/24 [00:42<00:00,  1.76s/it, loss=0.487]\n",
      "Validation: 100%|██████████| 4/4 [00:01<00:00,  2.16it/s, loss=0.559]\n"
     ]
    },
    {
     "name": "stdout",
     "output_type": "stream",
     "text": [
      "Validation Dice Score\n",
      "Class 0: 0.9857, Class 1: 0.3518, Class 2: 0.0000, Class 3: 0.2139, Class 4: 0.3572, Class 5: 0.1501, Class 6: 0.2542, \n",
      "Validation F-beta Score\n",
      "Class 0: 0.9908, Class 1: 0.3202, Class 2: 0.0000, Class 3: 0.2342, Class 4: 0.2861, Class 5: 0.1121, Class 6: 0.3468, \n",
      "\n",
      "Overall Mean Dice Score: 0.2654\n",
      "Overall Mean F-beta Score: 0.2599\n",
      "\n",
      "Training Loss: 0.5300, Validation Loss: 0.5378, Validation F-beta: 0.2599\n",
      "Epoch 31/4000\n"
     ]
    },
    {
     "name": "stderr",
     "output_type": "stream",
     "text": [
      "Training: 100%|██████████| 24/24 [00:41<00:00,  1.73s/it, loss=0.487]\n",
      "Validation: 100%|██████████| 4/4 [00:01<00:00,  2.20it/s, loss=0.56] \n"
     ]
    },
    {
     "name": "stdout",
     "output_type": "stream",
     "text": [
      "Validation Dice Score\n",
      "Class 0: 0.9792, Class 1: 0.2946, Class 2: 0.0000, Class 3: 0.0000, Class 4: 0.3330, Class 5: 0.2247, Class 6: 0.5652, \n",
      "Validation F-beta Score\n",
      "Class 0: 0.9729, Class 1: 0.3623, Class 2: 0.0000, Class 3: 0.0000, Class 4: 0.3396, Class 5: 0.3004, Class 6: 0.5643, \n",
      "\n",
      "Overall Mean Dice Score: 0.2835\n",
      "Overall Mean F-beta Score: 0.3133\n",
      "\n",
      "Training Loss: 0.5373, Validation Loss: 0.5236, Validation F-beta: 0.3133\n",
      "Epoch 32/4000\n"
     ]
    },
    {
     "name": "stderr",
     "output_type": "stream",
     "text": [
      "Training: 100%|██████████| 24/24 [00:41<00:00,  1.72s/it, loss=0.553]\n",
      "Validation: 100%|██████████| 4/4 [00:01<00:00,  2.22it/s, loss=0.578]\n"
     ]
    },
    {
     "name": "stdout",
     "output_type": "stream",
     "text": [
      "Validation Dice Score\n",
      "Class 0: 0.9824, Class 1: 0.4424, Class 2: 0.0246, Class 3: 0.1279, Class 4: 0.3177, Class 5: 0.3189, Class 6: 0.1434, \n",
      "Validation F-beta Score\n",
      "Class 0: 0.9811, Class 1: 0.4746, Class 2: 0.0239, Class 3: 0.1320, Class 4: 0.3007, Class 5: 0.4550, Class 6: 0.1650, \n",
      "\n",
      "Overall Mean Dice Score: 0.2701\n",
      "Overall Mean F-beta Score: 0.3055\n",
      "\n",
      "Training Loss: 0.5179, Validation Loss: 0.5267, Validation F-beta: 0.3055\n",
      "Epoch 33/4000\n"
     ]
    },
    {
     "name": "stderr",
     "output_type": "stream",
     "text": [
      "Training: 100%|██████████| 24/24 [00:42<00:00,  1.75s/it, loss=0.593]\n",
      "Validation: 100%|██████████| 4/4 [00:01<00:00,  2.22it/s, loss=0.606]\n"
     ]
    },
    {
     "name": "stdout",
     "output_type": "stream",
     "text": [
      "Validation Dice Score\n",
      "Class 0: 0.9868, Class 1: 0.4185, Class 2: 0.1060, Class 3: 0.1521, Class 4: 0.3260, Class 5: 0.3080, Class 6: 0.3573, \n",
      "Validation F-beta Score\n",
      "Class 0: 0.9877, Class 1: 0.4291, Class 2: 0.0951, Class 3: 0.1629, Class 4: 0.3495, Class 5: 0.2540, Class 6: 0.3612, \n",
      "\n",
      "Overall Mean Dice Score: 0.3124\n",
      "Overall Mean F-beta Score: 0.3113\n",
      "\n",
      "Training Loss: 0.5306, Validation Loss: 0.4916, Validation F-beta: 0.3113\n",
      "========================================================\n",
      "Best model saved based on validation loss: 0.4916\n",
      "========================================================\n",
      "Epoch 34/4000\n"
     ]
    },
    {
     "name": "stderr",
     "output_type": "stream",
     "text": [
      "Training: 100%|██████████| 24/24 [00:42<00:00,  1.77s/it, loss=0.536]\n",
      "Validation: 100%|██████████| 4/4 [00:01<00:00,  2.25it/s, loss=0.485]\n"
     ]
    },
    {
     "name": "stdout",
     "output_type": "stream",
     "text": [
      "Validation Dice Score\n",
      "Class 0: 0.9868, Class 1: 0.2075, Class 2: 0.0509, Class 3: 0.2042, Class 4: 0.2620, Class 5: 0.3488, Class 6: 0.4455, \n",
      "Validation F-beta Score\n",
      "Class 0: 0.9864, Class 1: 0.1485, Class 2: 0.0476, Class 3: 0.1914, Class 4: 0.3106, Class 5: 0.4110, Class 6: 0.4296, \n",
      "\n",
      "Overall Mean Dice Score: 0.2936\n",
      "Overall Mean F-beta Score: 0.2982\n",
      "\n",
      "Training Loss: 0.5236, Validation Loss: 0.5109, Validation F-beta: 0.2982\n",
      "Epoch 35/4000\n"
     ]
    },
    {
     "name": "stderr",
     "output_type": "stream",
     "text": [
      "Training: 100%|██████████| 24/24 [00:42<00:00,  1.77s/it, loss=0.471]\n",
      "Validation: 100%|██████████| 4/4 [00:01<00:00,  2.20it/s, loss=0.443]\n"
     ]
    },
    {
     "name": "stdout",
     "output_type": "stream",
     "text": [
      "Validation Dice Score\n",
      "Class 0: 0.9879, Class 1: 0.3102, Class 2: 0.0311, Class 3: 0.3050, Class 4: 0.1219, Class 5: 0.2848, Class 6: 0.3739, \n",
      "Validation F-beta Score\n",
      "Class 0: 0.9839, Class 1: 0.4134, Class 2: 0.0518, Class 3: 0.3045, Class 4: 0.1354, Class 5: 0.3818, Class 6: 0.4003, \n",
      "\n",
      "Overall Mean Dice Score: 0.2792\n",
      "Overall Mean F-beta Score: 0.3271\n",
      "\n",
      "Training Loss: 0.5211, Validation Loss: 0.5324, Validation F-beta: 0.3271\n",
      "Epoch 36/4000\n"
     ]
    },
    {
     "name": "stderr",
     "output_type": "stream",
     "text": [
      "Training: 100%|██████████| 24/24 [00:42<00:00,  1.78s/it, loss=0.505]\n",
      "Validation: 100%|██████████| 4/4 [00:01<00:00,  2.23it/s, loss=0.575]\n"
     ]
    },
    {
     "name": "stdout",
     "output_type": "stream",
     "text": [
      "Validation Dice Score\n",
      "Class 0: 0.9858, Class 1: 0.3034, Class 2: 0.0334, Class 3: 0.1165, Class 4: 0.3208, Class 5: 0.3351, Class 6: 0.2969, \n",
      "Validation F-beta Score\n",
      "Class 0: 0.9822, Class 1: 0.3141, Class 2: 0.0748, Class 3: 0.1532, Class 4: 0.4010, Class 5: 0.3169, Class 6: 0.3451, \n",
      "\n",
      "Overall Mean Dice Score: 0.2745\n",
      "Overall Mean F-beta Score: 0.3060\n",
      "\n",
      "Training Loss: 0.5125, Validation Loss: 0.5118, Validation F-beta: 0.3060\n",
      "Epoch 37/4000\n"
     ]
    },
    {
     "name": "stderr",
     "output_type": "stream",
     "text": [
      "Training: 100%|██████████| 24/24 [00:41<00:00,  1.72s/it, loss=0.506]\n",
      "Validation: 100%|██████████| 4/4 [00:01<00:00,  2.24it/s, loss=0.481]\n"
     ]
    },
    {
     "name": "stdout",
     "output_type": "stream",
     "text": [
      "Validation Dice Score\n",
      "Class 0: 0.9874, Class 1: 0.3190, Class 2: 0.1511, Class 3: 0.2003, Class 4: 0.3962, Class 5: 0.3102, Class 6: 0.2968, \n",
      "Validation F-beta Score\n",
      "Class 0: 0.9850, Class 1: 0.5271, Class 2: 0.1106, Class 3: 0.1901, Class 4: 0.4000, Class 5: 0.3214, Class 6: 0.4187, \n",
      "\n",
      "Overall Mean Dice Score: 0.3045\n",
      "Overall Mean F-beta Score: 0.3715\n",
      "\n",
      "Training Loss: 0.5150, Validation Loss: 0.4956, Validation F-beta: 0.3715\n",
      "========================================================\n",
      "Best model saved based on F-beta score: 0.3715\n",
      "========================================================\n",
      "Epoch 38/4000\n"
     ]
    },
    {
     "name": "stderr",
     "output_type": "stream",
     "text": [
      "Training: 100%|██████████| 24/24 [00:41<00:00,  1.74s/it, loss=0.52] \n",
      "Validation: 100%|██████████| 4/4 [00:01<00:00,  2.22it/s, loss=0.501]\n"
     ]
    },
    {
     "name": "stdout",
     "output_type": "stream",
     "text": [
      "Validation Dice Score\n",
      "Class 0: 0.9873, Class 1: 0.5587, Class 2: 0.0215, Class 3: 0.2129, Class 4: 0.2230, Class 5: 0.2610, Class 6: 0.5271, \n",
      "Validation F-beta Score\n",
      "Class 0: 0.9823, Class 1: 0.6049, Class 2: 0.0291, Class 3: 0.2310, Class 4: 0.3677, Class 5: 0.3011, Class 6: 0.5243, \n",
      "\n",
      "Overall Mean Dice Score: 0.3565\n",
      "Overall Mean F-beta Score: 0.4058\n",
      "\n",
      "Training Loss: 0.5259, Validation Loss: 0.4687, Validation F-beta: 0.4058\n",
      "========================================================\n",
      "SUPER Best model saved. Loss:0.4687, Score:0.4058\n",
      "========================================================\n",
      "Epoch 39/4000\n"
     ]
    },
    {
     "name": "stderr",
     "output_type": "stream",
     "text": [
      "Training: 100%|██████████| 24/24 [00:42<00:00,  1.75s/it, loss=0.583]\n",
      "Validation: 100%|██████████| 4/4 [00:01<00:00,  2.07it/s, loss=0.562]\n"
     ]
    },
    {
     "name": "stdout",
     "output_type": "stream",
     "text": [
      "Validation Dice Score\n",
      "Class 0: 0.9858, Class 1: 0.5753, Class 2: 0.0450, Class 3: 0.2431, Class 4: 0.3145, Class 5: 0.2393, Class 6: 0.5234, \n",
      "Validation F-beta Score\n",
      "Class 0: 0.9810, Class 1: 0.5931, Class 2: 0.1067, Class 3: 0.3171, Class 4: 0.4233, Class 5: 0.3039, Class 6: 0.5659, \n",
      "\n",
      "Overall Mean Dice Score: 0.3791\n",
      "Overall Mean F-beta Score: 0.4407\n",
      "\n",
      "Training Loss: 0.5220, Validation Loss: 0.4771, Validation F-beta: 0.4407\n",
      "========================================================\n",
      "Best model saved based on F-beta score: 0.4407\n",
      "========================================================\n",
      "Epoch 40/4000\n"
     ]
    },
    {
     "name": "stderr",
     "output_type": "stream",
     "text": [
      "Training: 100%|██████████| 24/24 [00:41<00:00,  1.75s/it, loss=0.503]\n",
      "Validation: 100%|██████████| 4/4 [00:01<00:00,  2.21it/s, loss=0.523]\n"
     ]
    },
    {
     "name": "stdout",
     "output_type": "stream",
     "text": [
      "Validation Dice Score\n",
      "Class 0: 0.9869, Class 1: 0.3407, Class 2: 0.0642, Class 3: 0.1669, Class 4: 0.2870, Class 5: 0.2187, Class 6: 0.4655, \n",
      "Validation F-beta Score\n",
      "Class 0: 0.9870, Class 1: 0.3820, Class 2: 0.1331, Class 3: 0.2390, Class 4: 0.2455, Class 5: 0.2652, Class 6: 0.5142, \n",
      "\n",
      "Overall Mean Dice Score: 0.2958\n",
      "Overall Mean F-beta Score: 0.3292\n",
      "\n",
      "Training Loss: 0.5024, Validation Loss: 0.5280, Validation F-beta: 0.3292\n",
      "Epoch 41/4000\n"
     ]
    },
    {
     "name": "stderr",
     "output_type": "stream",
     "text": [
      "Training: 100%|██████████| 24/24 [00:41<00:00,  1.71s/it, loss=0.542]\n",
      "Validation: 100%|██████████| 4/4 [00:01<00:00,  2.18it/s, loss=0.475]\n"
     ]
    },
    {
     "name": "stdout",
     "output_type": "stream",
     "text": [
      "Validation Dice Score\n",
      "Class 0: 0.9827, Class 1: 0.5719, Class 2: 0.0000, Class 3: 0.2523, Class 4: 0.4448, Class 5: 0.3141, Class 6: 0.3755, \n",
      "Validation F-beta Score\n",
      "Class 0: 0.9741, Class 1: 0.5704, Class 2: 0.0000, Class 3: 0.2012, Class 4: 0.6501, Class 5: 0.4584, Class 6: 0.3951, \n",
      "\n",
      "Overall Mean Dice Score: 0.3917\n",
      "Overall Mean F-beta Score: 0.4550\n",
      "\n",
      "Training Loss: 0.5243, Validation Loss: 0.4803, Validation F-beta: 0.4550\n",
      "========================================================\n",
      "Best model saved based on F-beta score: 0.4550\n",
      "========================================================\n",
      "Epoch 42/4000\n"
     ]
    },
    {
     "name": "stderr",
     "output_type": "stream",
     "text": [
      "Training: 100%|██████████| 24/24 [00:41<00:00,  1.73s/it, loss=0.502]\n",
      "Validation: 100%|██████████| 4/4 [00:01<00:00,  2.26it/s, loss=0.53] \n"
     ]
    },
    {
     "name": "stdout",
     "output_type": "stream",
     "text": [
      "Validation Dice Score\n",
      "Class 0: 0.9817, Class 1: 0.3097, Class 2: 0.0961, Class 3: 0.0844, Class 4: 0.2411, Class 5: 0.2260, Class 6: 0.4940, \n",
      "Validation F-beta Score\n",
      "Class 0: 0.9796, Class 1: 0.2883, Class 2: 0.0888, Class 3: 0.0833, Class 4: 0.2368, Class 5: 0.3020, Class 6: 0.5314, \n",
      "\n",
      "Overall Mean Dice Score: 0.2710\n",
      "Overall Mean F-beta Score: 0.2884\n",
      "\n",
      "Training Loss: 0.5163, Validation Loss: 0.5241, Validation F-beta: 0.2884\n",
      "Epoch 43/4000\n"
     ]
    },
    {
     "name": "stderr",
     "output_type": "stream",
     "text": [
      "Training: 100%|██████████| 24/24 [00:41<00:00,  1.75s/it, loss=0.507]\n",
      "Validation: 100%|██████████| 4/4 [00:01<00:00,  2.20it/s, loss=0.491]\n"
     ]
    },
    {
     "name": "stdout",
     "output_type": "stream",
     "text": [
      "Validation Dice Score\n",
      "Class 0: 0.9892, Class 1: 0.4985, Class 2: 0.1428, Class 3: 0.2115, Class 4: 0.1601, Class 5: 0.2218, Class 6: 0.1336, \n",
      "Validation F-beta Score\n",
      "Class 0: 0.9839, Class 1: 0.6365, Class 2: 0.2156, Class 3: 0.2712, Class 4: 0.1372, Class 5: 0.3934, Class 6: 0.1514, \n",
      "\n",
      "Overall Mean Dice Score: 0.2451\n",
      "Overall Mean F-beta Score: 0.3179\n",
      "\n",
      "Training Loss: 0.5061, Validation Loss: 0.5222, Validation F-beta: 0.3179\n",
      "Epoch 44/4000\n"
     ]
    },
    {
     "name": "stderr",
     "output_type": "stream",
     "text": [
      "Training: 100%|██████████| 24/24 [00:42<00:00,  1.75s/it, loss=0.495]\n",
      "Validation: 100%|██████████| 4/4 [00:01<00:00,  2.20it/s, loss=0.521]\n"
     ]
    },
    {
     "name": "stdout",
     "output_type": "stream",
     "text": [
      "Validation Dice Score\n",
      "Class 0: 0.9866, Class 1: 0.3483, Class 2: 0.0646, Class 3: 0.1922, Class 4: 0.2736, Class 5: 0.3000, Class 6: 0.3627, \n",
      "Validation F-beta Score\n",
      "Class 0: 0.9848, Class 1: 0.7428, Class 2: 0.0511, Class 3: 0.1927, Class 4: 0.2617, Class 5: 0.3883, Class 6: 0.3676, \n",
      "\n",
      "Overall Mean Dice Score: 0.2953\n",
      "Overall Mean F-beta Score: 0.3906\n",
      "\n",
      "Training Loss: 0.5017, Validation Loss: 0.5102, Validation F-beta: 0.3906\n",
      "Epoch 45/4000\n"
     ]
    },
    {
     "name": "stderr",
     "output_type": "stream",
     "text": [
      "Training: 100%|██████████| 24/24 [00:42<00:00,  1.76s/it, loss=0.536]\n",
      "Validation: 100%|██████████| 4/4 [00:01<00:00,  2.21it/s, loss=0.495]\n"
     ]
    },
    {
     "name": "stdout",
     "output_type": "stream",
     "text": [
      "Validation Dice Score\n",
      "Class 0: 0.9850, Class 1: 0.4931, Class 2: 0.0594, Class 3: 0.1972, Class 4: 0.2308, Class 5: 0.2634, Class 6: 0.4768, \n",
      "Validation F-beta Score\n",
      "Class 0: 0.9781, Class 1: 0.4942, Class 2: 0.1234, Class 3: 0.2694, Class 4: 0.3212, Class 5: 0.3199, Class 6: 0.6036, \n",
      "\n",
      "Overall Mean Dice Score: 0.3322\n",
      "Overall Mean F-beta Score: 0.4017\n",
      "\n",
      "Training Loss: 0.5104, Validation Loss: 0.4957, Validation F-beta: 0.4017\n",
      "Epoch 46/4000\n"
     ]
    },
    {
     "name": "stderr",
     "output_type": "stream",
     "text": [
      "Training: 100%|██████████| 24/24 [00:42<00:00,  1.75s/it, loss=0.5]  \n",
      "Validation: 100%|██████████| 4/4 [00:01<00:00,  2.28it/s, loss=0.448]\n"
     ]
    },
    {
     "name": "stdout",
     "output_type": "stream",
     "text": [
      "Validation Dice Score\n",
      "Class 0: 0.9878, Class 1: 0.5970, Class 2: 0.0179, Class 3: 0.1932, Class 4: 0.4804, Class 5: 0.3372, Class 6: 0.5426, \n",
      "Validation F-beta Score\n",
      "Class 0: 0.9848, Class 1: 0.6365, Class 2: 0.0262, Class 3: 0.2249, Class 4: 0.4990, Class 5: 0.3436, Class 6: 0.7150, \n",
      "\n",
      "Overall Mean Dice Score: 0.4301\n",
      "Overall Mean F-beta Score: 0.4838\n",
      "\n",
      "Training Loss: 0.5072, Validation Loss: 0.4649, Validation F-beta: 0.4838\n",
      "========================================================\n",
      "SUPER Best model saved. Loss:0.4649, Score:0.4838\n",
      "========================================================\n",
      "Epoch 47/4000\n"
     ]
    },
    {
     "name": "stderr",
     "output_type": "stream",
     "text": [
      "Training: 100%|██████████| 24/24 [00:41<00:00,  1.72s/it, loss=0.436]\n",
      "Validation: 100%|██████████| 4/4 [00:01<00:00,  2.22it/s, loss=0.551]\n"
     ]
    },
    {
     "name": "stdout",
     "output_type": "stream",
     "text": [
      "Validation Dice Score\n",
      "Class 0: 0.9862, Class 1: 0.2294, Class 2: 0.0954, Class 3: 0.2726, Class 4: 0.2898, Class 5: 0.2289, Class 6: 0.1654, \n",
      "Validation F-beta Score\n",
      "Class 0: 0.9823, Class 1: 0.3128, Class 2: 0.1349, Class 3: 0.3408, Class 4: 0.2724, Class 5: 0.3082, Class 6: 0.1722, \n",
      "\n",
      "Overall Mean Dice Score: 0.2372\n",
      "Overall Mean F-beta Score: 0.2813\n",
      "\n",
      "Training Loss: 0.5089, Validation Loss: 0.5366, Validation F-beta: 0.2813\n",
      "Epoch 48/4000\n"
     ]
    },
    {
     "name": "stderr",
     "output_type": "stream",
     "text": [
      "Training: 100%|██████████| 24/24 [00:41<00:00,  1.71s/it, loss=0.452]\n",
      "Validation: 100%|██████████| 4/4 [00:01<00:00,  2.21it/s, loss=0.424]\n"
     ]
    },
    {
     "name": "stdout",
     "output_type": "stream",
     "text": [
      "Validation Dice Score\n",
      "Class 0: 0.9879, Class 1: 0.3786, Class 2: 0.0346, Class 3: 0.0971, Class 4: 0.2430, Class 5: 0.4057, Class 6: 0.2985, \n",
      "Validation F-beta Score\n",
      "Class 0: 0.9893, Class 1: 0.5120, Class 2: 0.0579, Class 3: 0.0771, Class 4: 0.2000, Class 5: 0.4448, Class 6: 0.4995, \n",
      "\n",
      "Overall Mean Dice Score: 0.2846\n",
      "Overall Mean F-beta Score: 0.3467\n",
      "\n",
      "Training Loss: 0.4966, Validation Loss: 0.5106, Validation F-beta: 0.3467\n",
      "Epoch 49/4000\n"
     ]
    },
    {
     "name": "stderr",
     "output_type": "stream",
     "text": [
      "Training: 100%|██████████| 24/24 [00:42<00:00,  1.75s/it, loss=0.496]\n",
      "Validation: 100%|██████████| 4/4 [00:01<00:00,  2.17it/s, loss=0.507]\n"
     ]
    },
    {
     "name": "stdout",
     "output_type": "stream",
     "text": [
      "Validation Dice Score\n",
      "Class 0: 0.9861, Class 1: 0.6003, Class 2: 0.0058, Class 3: 0.1711, Class 4: 0.3277, Class 5: 0.4165, Class 6: 0.7050, \n",
      "Validation F-beta Score\n",
      "Class 0: 0.9845, Class 1: 0.7725, Class 2: 0.0046, Class 3: 0.1419, Class 4: 0.3362, Class 5: 0.4428, Class 6: 0.7490, \n",
      "\n",
      "Overall Mean Dice Score: 0.4441\n",
      "Overall Mean F-beta Score: 0.4885\n",
      "\n",
      "Training Loss: 0.4948, Validation Loss: 0.4586, Validation F-beta: 0.4885\n",
      "========================================================\n",
      "SUPER Best model saved. Loss:0.4586, Score:0.4885\n",
      "========================================================\n",
      "Epoch 50/4000\n"
     ]
    },
    {
     "name": "stderr",
     "output_type": "stream",
     "text": [
      "Training: 100%|██████████| 24/24 [00:42<00:00,  1.76s/it, loss=0.445]\n",
      "Validation: 100%|██████████| 4/4 [00:01<00:00,  2.22it/s, loss=0.372]\n"
     ]
    },
    {
     "name": "stdout",
     "output_type": "stream",
     "text": [
      "Validation Dice Score\n",
      "Class 0: 0.9884, Class 1: 0.6484, Class 2: 0.0250, Class 3: 0.2616, Class 4: 0.6309, Class 5: 0.4190, Class 6: 0.4944, \n",
      "Validation F-beta Score\n",
      "Class 0: 0.9872, Class 1: 0.6969, Class 2: 0.0210, Class 3: 0.2307, Class 4: 0.7558, Class 5: 0.4285, Class 6: 0.5335, \n",
      "\n",
      "Overall Mean Dice Score: 0.4909\n",
      "Overall Mean F-beta Score: 0.5291\n",
      "\n",
      "Training Loss: 0.5067, Validation Loss: 0.4251, Validation F-beta: 0.5291\n",
      "========================================================\n",
      "SUPER Best model saved. Loss:0.4251, Score:0.5291\n",
      "========================================================\n",
      "Epoch 51/4000\n"
     ]
    },
    {
     "name": "stderr",
     "output_type": "stream",
     "text": [
      "Training: 100%|██████████| 24/24 [00:41<00:00,  1.74s/it, loss=0.485]\n",
      "Validation: 100%|██████████| 4/4 [00:01<00:00,  2.23it/s, loss=0.49] \n"
     ]
    },
    {
     "name": "stdout",
     "output_type": "stream",
     "text": [
      "Validation Dice Score\n",
      "Class 0: 0.9878, Class 1: 0.2765, Class 2: 0.0712, Class 3: 0.0886, Class 4: 0.3170, Class 5: 0.2837, Class 6: 0.3665, \n",
      "Validation F-beta Score\n",
      "Class 0: 0.9833, Class 1: 0.2873, Class 2: 0.0899, Class 3: 0.0688, Class 4: 0.3824, Class 5: 0.3152, Class 6: 0.3327, \n",
      "\n",
      "Overall Mean Dice Score: 0.2665\n",
      "Overall Mean F-beta Score: 0.2773\n",
      "\n",
      "Training Loss: 0.5011, Validation Loss: 0.5222, Validation F-beta: 0.2773\n",
      "Epoch 52/4000\n"
     ]
    },
    {
     "name": "stderr",
     "output_type": "stream",
     "text": [
      "Training: 100%|██████████| 24/24 [00:41<00:00,  1.73s/it, loss=0.403]\n",
      "Validation: 100%|██████████| 4/4 [00:01<00:00,  2.26it/s, loss=0.472]\n"
     ]
    },
    {
     "name": "stdout",
     "output_type": "stream",
     "text": [
      "Validation Dice Score\n",
      "Class 0: 0.9866, Class 1: 0.4682, Class 2: 0.0671, Class 3: 0.1631, Class 4: 0.5734, Class 5: 0.3271, Class 6: 0.3975, \n",
      "Validation F-beta Score\n",
      "Class 0: 0.9820, Class 1: 0.4522, Class 2: 0.0911, Class 3: 0.1729, Class 4: 0.6573, Class 5: 0.4284, Class 6: 0.3822, \n",
      "\n",
      "Overall Mean Dice Score: 0.3859\n",
      "Overall Mean F-beta Score: 0.4186\n",
      "\n",
      "Training Loss: 0.5191, Validation Loss: 0.4937, Validation F-beta: 0.4186\n",
      "Epoch 53/4000\n"
     ]
    },
    {
     "name": "stderr",
     "output_type": "stream",
     "text": [
      "Training: 100%|██████████| 24/24 [00:42<00:00,  1.76s/it, loss=0.542]\n",
      "Validation: 100%|██████████| 4/4 [00:01<00:00,  2.22it/s, loss=0.372]\n"
     ]
    },
    {
     "name": "stdout",
     "output_type": "stream",
     "text": [
      "Validation Dice Score\n",
      "Class 0: 0.9853, Class 1: 0.4578, Class 2: 0.1524, Class 3: 0.3095, Class 4: 0.4164, Class 5: 0.2696, Class 6: 0.4645, \n",
      "Validation F-beta Score\n",
      "Class 0: 0.9833, Class 1: 0.5682, Class 2: 0.1521, Class 3: 0.2655, Class 4: 0.3848, Class 5: 0.3047, Class 6: 0.5720, \n",
      "\n",
      "Overall Mean Dice Score: 0.3836\n",
      "Overall Mean F-beta Score: 0.4190\n",
      "\n",
      "Training Loss: 0.4972, Validation Loss: 0.4587, Validation F-beta: 0.4190\n",
      "Epoch 54/4000\n"
     ]
    },
    {
     "name": "stderr",
     "output_type": "stream",
     "text": [
      "Training: 100%|██████████| 24/24 [00:42<00:00,  1.76s/it, loss=0.552]\n",
      "Validation: 100%|██████████| 4/4 [00:01<00:00,  2.16it/s, loss=0.457]\n"
     ]
    },
    {
     "name": "stdout",
     "output_type": "stream",
     "text": [
      "Validation Dice Score\n",
      "Class 0: 0.9872, Class 1: 0.5705, Class 2: 0.1013, Class 3: 0.1111, Class 4: 0.3823, Class 5: 0.3212, Class 6: 0.2465, \n",
      "Validation F-beta Score\n",
      "Class 0: 0.9818, Class 1: 0.7389, Class 2: 0.1477, Class 3: 0.0750, Class 4: 0.4711, Class 5: 0.3953, Class 6: 0.3371, \n",
      "\n",
      "Overall Mean Dice Score: 0.3263\n",
      "Overall Mean F-beta Score: 0.4035\n",
      "\n",
      "Training Loss: 0.4994, Validation Loss: 0.5060, Validation F-beta: 0.4035\n",
      "Epoch 55/4000\n"
     ]
    },
    {
     "name": "stderr",
     "output_type": "stream",
     "text": [
      "Training: 100%|██████████| 24/24 [00:42<00:00,  1.76s/it, loss=0.424]\n",
      "Validation: 100%|██████████| 4/4 [00:01<00:00,  2.24it/s, loss=0.328]\n"
     ]
    },
    {
     "name": "stdout",
     "output_type": "stream",
     "text": [
      "Validation Dice Score\n",
      "Class 0: 0.9877, Class 1: 0.4296, Class 2: 0.1128, Class 3: 0.3422, Class 4: 0.4057, Class 5: 0.3826, Class 6: 0.5638, \n",
      "Validation F-beta Score\n",
      "Class 0: 0.9910, Class 1: 0.7190, Class 2: 0.1161, Class 3: 0.3721, Class 4: 0.3262, Class 5: 0.3851, Class 6: 0.6426, \n",
      "\n",
      "Overall Mean Dice Score: 0.4248\n",
      "Overall Mean F-beta Score: 0.4890\n",
      "\n",
      "Training Loss: 0.4964, Validation Loss: 0.4428, Validation F-beta: 0.4890\n",
      "Epoch 56/4000\n"
     ]
    },
    {
     "name": "stderr",
     "output_type": "stream",
     "text": [
      "Training: 100%|██████████| 24/24 [00:43<00:00,  1.81s/it, loss=0.471]\n",
      "Validation: 100%|██████████| 4/4 [00:01<00:00,  2.11it/s, loss=0.482]\n"
     ]
    },
    {
     "name": "stdout",
     "output_type": "stream",
     "text": [
      "Validation Dice Score\n",
      "Class 0: 0.9839, Class 1: 0.2880, Class 2: 0.0656, Class 3: 0.1882, Class 4: 0.4317, Class 5: 0.2194, Class 6: 0.4799, \n",
      "Validation F-beta Score\n",
      "Class 0: 0.9771, Class 1: 0.3075, Class 2: 0.1429, Class 3: 0.2369, Class 4: 0.4987, Class 5: 0.2878, Class 6: 0.5757, \n",
      "\n",
      "Overall Mean Dice Score: 0.3214\n",
      "Overall Mean F-beta Score: 0.3813\n",
      "\n",
      "Training Loss: 0.5095, Validation Loss: 0.4987, Validation F-beta: 0.3813\n",
      "Epoch 57/4000\n"
     ]
    },
    {
     "name": "stderr",
     "output_type": "stream",
     "text": [
      "Training: 100%|██████████| 24/24 [00:41<00:00,  1.72s/it, loss=0.49] \n",
      "Validation: 100%|██████████| 4/4 [00:01<00:00,  2.19it/s, loss=0.452]\n"
     ]
    },
    {
     "name": "stdout",
     "output_type": "stream",
     "text": [
      "Validation Dice Score\n",
      "Class 0: 0.9854, Class 1: 0.7350, Class 2: 0.0560, Class 3: 0.1834, Class 4: 0.4434, Class 5: 0.3847, Class 6: 0.3042, \n",
      "Validation F-beta Score\n",
      "Class 0: 0.9865, Class 1: 0.8217, Class 2: 0.0925, Class 3: 0.2536, Class 4: 0.3827, Class 5: 0.3681, Class 6: 0.2588, \n",
      "\n",
      "Overall Mean Dice Score: 0.4101\n",
      "Overall Mean F-beta Score: 0.4170\n",
      "\n",
      "Training Loss: 0.4987, Validation Loss: 0.4601, Validation F-beta: 0.4170\n",
      "Epoch 58/4000\n"
     ]
    },
    {
     "name": "stderr",
     "output_type": "stream",
     "text": [
      "Training: 100%|██████████| 24/24 [00:41<00:00,  1.74s/it, loss=0.509]\n",
      "Validation: 100%|██████████| 4/4 [00:01<00:00,  2.24it/s, loss=0.554]\n"
     ]
    },
    {
     "name": "stdout",
     "output_type": "stream",
     "text": [
      "Validation Dice Score\n",
      "Class 0: 0.9870, Class 1: 0.1363, Class 2: 0.0518, Class 3: 0.1978, Class 4: 0.6517, Class 5: 0.2807, Class 6: 0.5029, \n",
      "Validation F-beta Score\n",
      "Class 0: 0.9865, Class 1: 0.2273, Class 2: 0.0536, Class 3: 0.2345, Class 4: 0.6510, Class 5: 0.3831, Class 6: 0.4876, \n",
      "\n",
      "Overall Mean Dice Score: 0.3539\n",
      "Overall Mean F-beta Score: 0.3967\n",
      "\n",
      "Training Loss: 0.4980, Validation Loss: 0.5004, Validation F-beta: 0.3967\n",
      "Epoch 59/4000\n"
     ]
    },
    {
     "name": "stderr",
     "output_type": "stream",
     "text": [
      "Training: 100%|██████████| 24/24 [00:42<00:00,  1.75s/it, loss=0.43] \n",
      "Validation: 100%|██████████| 4/4 [00:01<00:00,  2.16it/s, loss=0.488]\n"
     ]
    },
    {
     "name": "stdout",
     "output_type": "stream",
     "text": [
      "Validation Dice Score\n",
      "Class 0: 0.9857, Class 1: 0.2624, Class 2: 0.0151, Class 3: 0.2311, Class 4: 0.5969, Class 5: 0.2538, Class 6: 0.5017, \n",
      "Validation F-beta Score\n",
      "Class 0: 0.9856, Class 1: 0.3306, Class 2: 0.0297, Class 3: 0.2583, Class 4: 0.5674, Class 5: 0.2756, Class 6: 0.4496, \n",
      "\n",
      "Overall Mean Dice Score: 0.3692\n",
      "Overall Mean F-beta Score: 0.3763\n",
      "\n",
      "Training Loss: 0.4732, Validation Loss: 0.4902, Validation F-beta: 0.3763\n",
      "Epoch 60/4000\n"
     ]
    },
    {
     "name": "stderr",
     "output_type": "stream",
     "text": [
      "Training: 100%|██████████| 24/24 [00:41<00:00,  1.74s/it, loss=0.539]\n",
      "Validation: 100%|██████████| 4/4 [00:01<00:00,  2.24it/s, loss=0.481]\n"
     ]
    },
    {
     "name": "stdout",
     "output_type": "stream",
     "text": [
      "Validation Dice Score\n",
      "Class 0: 0.9817, Class 1: 0.5342, Class 2: 0.0231, Class 3: 0.2964, Class 4: 0.3927, Class 5: 0.2249, Class 6: 0.3638, \n",
      "Validation F-beta Score\n",
      "Class 0: 0.9722, Class 1: 0.8367, Class 2: 0.0555, Class 3: 0.4612, Class 4: 0.4888, Class 5: 0.2819, Class 6: 0.3589, \n",
      "\n",
      "Overall Mean Dice Score: 0.3624\n",
      "Overall Mean F-beta Score: 0.4855\n",
      "\n",
      "Training Loss: 0.4958, Validation Loss: 0.4981, Validation F-beta: 0.4855\n",
      "Epoch 61/4000\n"
     ]
    },
    {
     "name": "stderr",
     "output_type": "stream",
     "text": [
      "Training: 100%|██████████| 24/24 [00:41<00:00,  1.72s/it, loss=0.405]\n",
      "Validation: 100%|██████████| 4/4 [00:01<00:00,  2.22it/s, loss=0.522]\n"
     ]
    },
    {
     "name": "stdout",
     "output_type": "stream",
     "text": [
      "Validation Dice Score\n",
      "Class 0: 0.9838, Class 1: 0.4814, Class 2: 0.0682, Class 3: 0.0391, Class 4: 0.2587, Class 5: 0.3851, Class 6: 0.5053, \n",
      "Validation F-beta Score\n",
      "Class 0: 0.9783, Class 1: 0.5250, Class 2: 0.0761, Class 3: 0.0270, Class 4: 0.4925, Class 5: 0.4194, Class 6: 0.4979, \n",
      "\n",
      "Overall Mean Dice Score: 0.3339\n",
      "Overall Mean F-beta Score: 0.3924\n",
      "\n",
      "Training Loss: 0.4914, Validation Loss: 0.5040, Validation F-beta: 0.3924\n",
      "Epoch 62/4000\n"
     ]
    },
    {
     "name": "stderr",
     "output_type": "stream",
     "text": [
      "Training: 100%|██████████| 24/24 [00:41<00:00,  1.74s/it, loss=0.4]  \n",
      "Validation: 100%|██████████| 4/4 [00:01<00:00,  2.19it/s, loss=0.499]\n"
     ]
    },
    {
     "name": "stdout",
     "output_type": "stream",
     "text": [
      "Validation Dice Score\n",
      "Class 0: 0.9894, Class 1: 0.4759, Class 2: 0.0393, Class 3: 0.1832, Class 4: 0.6338, Class 5: 0.3653, Class 6: 0.3419, \n",
      "Validation F-beta Score\n",
      "Class 0: 0.9864, Class 1: 0.5607, Class 2: 0.0341, Class 3: 0.1623, Class 4: 0.7068, Class 5: 0.4522, Class 6: 0.4378, \n",
      "\n",
      "Overall Mean Dice Score: 0.4000\n",
      "Overall Mean F-beta Score: 0.4640\n",
      "\n",
      "Training Loss: 0.4835, Validation Loss: 0.4713, Validation F-beta: 0.4640\n",
      "Epoch 63/4000\n"
     ]
    },
    {
     "name": "stderr",
     "output_type": "stream",
     "text": [
      "Training: 100%|██████████| 24/24 [00:42<00:00,  1.77s/it, loss=0.458]\n",
      "Validation: 100%|██████████| 4/4 [00:01<00:00,  2.20it/s, loss=0.482]\n"
     ]
    },
    {
     "name": "stdout",
     "output_type": "stream",
     "text": [
      "Validation Dice Score\n",
      "Class 0: 0.9878, Class 1: 0.7132, Class 2: 0.0469, Class 3: 0.1711, Class 4: 0.2783, Class 5: 0.3005, Class 6: 0.5270, \n",
      "Validation F-beta Score\n",
      "Class 0: 0.9858, Class 1: 0.7686, Class 2: 0.0434, Class 3: 0.1214, Class 4: 0.3284, Class 5: 0.3716, Class 6: 0.5718, \n",
      "\n",
      "Overall Mean Dice Score: 0.3980\n",
      "Overall Mean F-beta Score: 0.4324\n",
      "\n",
      "Training Loss: 0.4852, Validation Loss: 0.4759, Validation F-beta: 0.4324\n",
      "Epoch 64/4000\n"
     ]
    },
    {
     "name": "stderr",
     "output_type": "stream",
     "text": [
      "Training: 100%|██████████| 24/24 [00:42<00:00,  1.77s/it, loss=0.529]\n",
      "Validation: 100%|██████████| 4/4 [00:01<00:00,  2.26it/s, loss=0.323]\n"
     ]
    },
    {
     "name": "stdout",
     "output_type": "stream",
     "text": [
      "Validation Dice Score\n",
      "Class 0: 0.9861, Class 1: 0.3983, Class 2: 0.0335, Class 3: 0.5264, Class 4: 0.6535, Class 5: 0.3398, Class 6: 0.4199, \n",
      "Validation F-beta Score\n",
      "Class 0: 0.9847, Class 1: 0.4763, Class 2: 0.0486, Class 3: 0.6566, Class 4: 0.7574, Class 5: 0.2907, Class 6: 0.3869, \n",
      "\n",
      "Overall Mean Dice Score: 0.4676\n",
      "Overall Mean F-beta Score: 0.5136\n",
      "\n",
      "Training Loss: 0.5041, Validation Loss: 0.4365, Validation F-beta: 0.5136\n",
      "Epoch 65/4000\n"
     ]
    },
    {
     "name": "stderr",
     "output_type": "stream",
     "text": [
      "Training: 100%|██████████| 24/24 [00:41<00:00,  1.75s/it, loss=0.43] \n",
      "Validation: 100%|██████████| 4/4 [00:01<00:00,  2.20it/s, loss=0.375]\n"
     ]
    },
    {
     "name": "stdout",
     "output_type": "stream",
     "text": [
      "Validation Dice Score\n",
      "Class 0: 0.9840, Class 1: 0.6716, Class 2: 0.1361, Class 3: 0.3396, Class 4: 0.4824, Class 5: 0.3215, Class 6: 0.5859, \n",
      "Validation F-beta Score\n",
      "Class 0: 0.9785, Class 1: 0.7341, Class 2: 0.1813, Class 3: 0.3698, Class 4: 0.5216, Class 5: 0.4617, Class 6: 0.5575, \n",
      "\n",
      "Overall Mean Dice Score: 0.4802\n",
      "Overall Mean F-beta Score: 0.5289\n",
      "\n",
      "Training Loss: 0.4740, Validation Loss: 0.4150, Validation F-beta: 0.5289\n",
      "========================================================\n",
      "Best model saved based on validation loss: 0.4150\n",
      "========================================================\n",
      "Epoch 66/4000\n"
     ]
    },
    {
     "name": "stderr",
     "output_type": "stream",
     "text": [
      "Training: 100%|██████████| 24/24 [00:41<00:00,  1.73s/it, loss=0.389]\n",
      "Validation: 100%|██████████| 4/4 [00:01<00:00,  2.19it/s, loss=0.537]\n"
     ]
    },
    {
     "name": "stdout",
     "output_type": "stream",
     "text": [
      "Validation Dice Score\n",
      "Class 0: 0.9836, Class 1: 0.3799, Class 2: 0.0840, Class 3: 0.2394, Class 4: 0.4307, Class 5: 0.2004, Class 6: 0.1840, \n",
      "Validation F-beta Score\n",
      "Class 0: 0.9829, Class 1: 0.4601, Class 2: 0.0884, Class 3: 0.2064, Class 4: 0.3603, Class 5: 0.2226, Class 6: 0.2294, \n",
      "\n",
      "Overall Mean Dice Score: 0.2869\n",
      "Overall Mean F-beta Score: 0.2958\n",
      "\n",
      "Training Loss: 0.4951, Validation Loss: 0.5225, Validation F-beta: 0.2958\n",
      "Epoch 67/4000\n"
     ]
    },
    {
     "name": "stderr",
     "output_type": "stream",
     "text": [
      "Training: 100%|██████████| 24/24 [00:41<00:00,  1.72s/it, loss=0.532]\n",
      "Validation: 100%|██████████| 4/4 [00:01<00:00,  2.20it/s, loss=0.507]\n"
     ]
    },
    {
     "name": "stdout",
     "output_type": "stream",
     "text": [
      "Validation Dice Score\n",
      "Class 0: 0.9871, Class 1: 0.3591, Class 2: 0.0218, Class 3: 0.2336, Class 4: 0.6270, Class 5: 0.4087, Class 6: 0.8277, \n",
      "Validation F-beta Score\n",
      "Class 0: 0.9865, Class 1: 0.5589, Class 2: 0.0625, Class 3: 0.2342, Class 4: 0.6450, Class 5: 0.3356, Class 6: 0.8533, \n",
      "\n",
      "Overall Mean Dice Score: 0.4912\n",
      "Overall Mean F-beta Score: 0.5254\n",
      "\n",
      "Training Loss: 0.4917, Validation Loss: 0.4453, Validation F-beta: 0.5254\n",
      "Epoch 68/4000\n"
     ]
    },
    {
     "name": "stderr",
     "output_type": "stream",
     "text": [
      "Training: 100%|██████████| 24/24 [00:41<00:00,  1.75s/it, loss=0.572]\n",
      "Validation: 100%|██████████| 4/4 [00:01<00:00,  2.16it/s, loss=0.386]\n"
     ]
    },
    {
     "name": "stdout",
     "output_type": "stream",
     "text": [
      "Validation Dice Score\n",
      "Class 0: 0.9847, Class 1: 0.4322, Class 2: 0.0715, Class 3: 0.1883, Class 4: 0.4565, Class 5: 0.3695, Class 6: 0.7658, \n",
      "Validation F-beta Score\n",
      "Class 0: 0.9849, Class 1: 0.5987, Class 2: 0.1059, Class 3: 0.1868, Class 4: 0.3919, Class 5: 0.4254, Class 6: 0.7684, \n",
      "\n",
      "Overall Mean Dice Score: 0.4425\n",
      "Overall Mean F-beta Score: 0.4742\n",
      "\n",
      "Training Loss: 0.5026, Validation Loss: 0.4433, Validation F-beta: 0.4742\n",
      "Epoch 69/4000\n"
     ]
    },
    {
     "name": "stderr",
     "output_type": "stream",
     "text": [
      "Training: 100%|██████████| 24/24 [00:42<00:00,  1.77s/it, loss=0.427]\n",
      "Validation: 100%|██████████| 4/4 [00:01<00:00,  2.20it/s, loss=0.515]\n"
     ]
    },
    {
     "name": "stdout",
     "output_type": "stream",
     "text": [
      "Validation Dice Score\n",
      "Class 0: 0.9862, Class 1: 0.0000, Class 2: 0.0000, Class 3: 0.2026, Class 4: 0.5075, Class 5: 0.4993, Class 6: 0.2332, \n",
      "Validation F-beta Score\n",
      "Class 0: 0.9908, Class 1: 0.0000, Class 2: 0.0000, Class 3: 0.2302, Class 4: 0.4288, Class 5: 0.5292, Class 6: 0.3266, \n",
      "\n",
      "Overall Mean Dice Score: 0.2885\n",
      "Overall Mean F-beta Score: 0.3030\n",
      "\n",
      "Training Loss: 0.4665, Validation Loss: 0.4993, Validation F-beta: 0.3030\n",
      "Epoch 70/4000\n"
     ]
    },
    {
     "name": "stderr",
     "output_type": "stream",
     "text": [
      "Training: 100%|██████████| 24/24 [00:41<00:00,  1.72s/it, loss=0.5]  \n",
      "Validation: 100%|██████████| 4/4 [00:01<00:00,  2.24it/s, loss=0.563]\n"
     ]
    },
    {
     "name": "stdout",
     "output_type": "stream",
     "text": [
      "Validation Dice Score\n",
      "Class 0: 0.9871, Class 1: 0.3970, Class 2: 0.0176, Class 3: 0.2272, Class 4: 0.6186, Class 5: 0.2609, Class 6: 0.3300, \n",
      "Validation F-beta Score\n",
      "Class 0: 0.9873, Class 1: 0.3778, Class 2: 0.0427, Class 3: 0.3188, Class 4: 0.5543, Class 5: 0.3539, Class 6: 0.3079, \n",
      "\n",
      "Overall Mean Dice Score: 0.3667\n",
      "Overall Mean F-beta Score: 0.3825\n",
      "\n",
      "Training Loss: 0.4983, Validation Loss: 0.5013, Validation F-beta: 0.3825\n",
      "Epoch 71/4000\n"
     ]
    },
    {
     "name": "stderr",
     "output_type": "stream",
     "text": [
      "Training: 100%|██████████| 24/24 [00:41<00:00,  1.71s/it, loss=0.454]\n",
      "Validation: 100%|██████████| 4/4 [00:01<00:00,  2.19it/s, loss=0.504]\n"
     ]
    },
    {
     "name": "stdout",
     "output_type": "stream",
     "text": [
      "Validation Dice Score\n",
      "Class 0: 0.9888, Class 1: 0.6562, Class 2: 0.0682, Class 3: 0.2993, Class 4: 0.4323, Class 5: 0.2373, Class 6: 0.4146, \n",
      "Validation F-beta Score\n",
      "Class 0: 0.9851, Class 1: 0.6313, Class 2: 0.0685, Class 3: 0.4189, Class 4: 0.4038, Class 5: 0.3501, Class 6: 0.4181, \n",
      "\n",
      "Overall Mean Dice Score: 0.4080\n",
      "Overall Mean F-beta Score: 0.4444\n",
      "\n",
      "Training Loss: 0.4921, Validation Loss: 0.4854, Validation F-beta: 0.4444\n",
      "Epoch 72/4000\n"
     ]
    },
    {
     "name": "stderr",
     "output_type": "stream",
     "text": [
      "Training: 100%|██████████| 24/24 [00:42<00:00,  1.78s/it, loss=0.48] \n",
      "Validation: 100%|██████████| 4/4 [00:01<00:00,  2.19it/s, loss=0.521]\n"
     ]
    },
    {
     "name": "stdout",
     "output_type": "stream",
     "text": [
      "Validation Dice Score\n",
      "Class 0: 0.9834, Class 1: 0.4610, Class 2: 0.1433, Class 3: 0.2606, Class 4: 0.4763, Class 5: 0.2456, Class 6: 0.1641, \n",
      "Validation F-beta Score\n",
      "Class 0: 0.9754, Class 1: 0.5892, Class 2: 0.3494, Class 3: 0.2986, Class 4: 0.6573, Class 5: 0.3125, Class 6: 0.1853, \n",
      "\n",
      "Overall Mean Dice Score: 0.3215\n",
      "Overall Mean F-beta Score: 0.4086\n",
      "\n",
      "Training Loss: 0.4937, Validation Loss: 0.4854, Validation F-beta: 0.4086\n",
      "Epoch 73/4000\n"
     ]
    },
    {
     "name": "stderr",
     "output_type": "stream",
     "text": [
      "Training: 100%|██████████| 24/24 [00:42<00:00,  1.76s/it, loss=0.518]\n",
      "Validation: 100%|██████████| 4/4 [00:01<00:00,  2.15it/s, loss=0.474]\n"
     ]
    },
    {
     "name": "stdout",
     "output_type": "stream",
     "text": [
      "Validation Dice Score\n",
      "Class 0: 0.9871, Class 1: 0.6690, Class 2: 0.1604, Class 3: 0.1775, Class 4: 0.3853, Class 5: 0.3723, Class 6: 0.7579, \n",
      "Validation F-beta Score\n",
      "Class 0: 0.9835, Class 1: 0.7002, Class 2: 0.1889, Class 3: 0.1735, Class 4: 0.4765, Class 5: 0.4554, Class 6: 0.9050, \n",
      "\n",
      "Overall Mean Dice Score: 0.4724\n",
      "Overall Mean F-beta Score: 0.5421\n",
      "\n",
      "Training Loss: 0.4917, Validation Loss: 0.4441, Validation F-beta: 0.5421\n",
      "========================================================\n",
      "Best model saved based on F-beta score: 0.5421\n",
      "========================================================\n",
      "Epoch 74/4000\n"
     ]
    },
    {
     "name": "stderr",
     "output_type": "stream",
     "text": [
      "Training: 100%|██████████| 24/24 [00:42<00:00,  1.78s/it, loss=0.484]\n",
      "Validation: 100%|██████████| 4/4 [00:01<00:00,  2.18it/s, loss=0.541]\n"
     ]
    },
    {
     "name": "stdout",
     "output_type": "stream",
     "text": [
      "Validation Dice Score\n",
      "Class 0: 0.9826, Class 1: 0.5986, Class 2: 0.1466, Class 3: 0.1948, Class 4: 0.1763, Class 5: 0.2100, Class 6: 0.5240, \n",
      "Validation F-beta Score\n",
      "Class 0: 0.9835, Class 1: 0.8092, Class 2: 0.1691, Class 3: 0.2573, Class 4: 0.1305, Class 5: 0.3163, Class 6: 0.5397, \n",
      "\n",
      "Overall Mean Dice Score: 0.3407\n",
      "Overall Mean F-beta Score: 0.4106\n",
      "\n",
      "Training Loss: 0.4871, Validation Loss: 0.4890, Validation F-beta: 0.4106\n",
      "Epoch 75/4000\n"
     ]
    },
    {
     "name": "stderr",
     "output_type": "stream",
     "text": [
      "Training: 100%|██████████| 24/24 [00:41<00:00,  1.74s/it, loss=0.518]\n",
      "Validation: 100%|██████████| 4/4 [00:01<00:00,  2.22it/s, loss=0.55] \n"
     ]
    },
    {
     "name": "stdout",
     "output_type": "stream",
     "text": [
      "Validation Dice Score\n",
      "Class 0: 0.9839, Class 1: 0.3438, Class 2: 0.1354, Class 3: 0.2306, Class 4: 0.5449, Class 5: 0.4174, Class 6: 0.4070, \n",
      "Validation F-beta Score\n",
      "Class 0: 0.9880, Class 1: 0.4103, Class 2: 0.1067, Class 3: 0.1888, Class 4: 0.5104, Class 5: 0.3821, Class 6: 0.3991, \n",
      "\n",
      "Overall Mean Dice Score: 0.3887\n",
      "Overall Mean F-beta Score: 0.3781\n",
      "\n",
      "Training Loss: 0.5052, Validation Loss: 0.4667, Validation F-beta: 0.3781\n",
      "Epoch 76/4000\n"
     ]
    },
    {
     "name": "stderr",
     "output_type": "stream",
     "text": [
      "Training: 100%|██████████| 24/24 [00:41<00:00,  1.72s/it, loss=0.507]\n",
      "Validation: 100%|██████████| 4/4 [00:01<00:00,  2.22it/s, loss=0.574]\n"
     ]
    },
    {
     "name": "stdout",
     "output_type": "stream",
     "text": [
      "Validation Dice Score\n",
      "Class 0: 0.9796, Class 1: 0.4022, Class 2: 0.0265, Class 3: 0.1909, Class 4: 0.3734, Class 5: 0.2935, Class 6: 0.4146, \n",
      "Validation F-beta Score\n",
      "Class 0: 0.9797, Class 1: 0.5144, Class 2: 0.0618, Class 3: 0.2493, Class 4: 0.3333, Class 5: 0.2947, Class 6: 0.6054, \n",
      "\n",
      "Overall Mean Dice Score: 0.3349\n",
      "Overall Mean F-beta Score: 0.3994\n",
      "\n",
      "Training Loss: 0.4920, Validation Loss: 0.5049, Validation F-beta: 0.3994\n",
      "Epoch 77/4000\n"
     ]
    },
    {
     "name": "stderr",
     "output_type": "stream",
     "text": [
      "Training: 100%|██████████| 24/24 [00:41<00:00,  1.72s/it, loss=0.51] \n",
      "Validation: 100%|██████████| 4/4 [00:01<00:00,  2.19it/s, loss=0.508]\n"
     ]
    },
    {
     "name": "stdout",
     "output_type": "stream",
     "text": [
      "Validation Dice Score\n",
      "Class 0: 0.9824, Class 1: 0.4622, Class 2: 0.0671, Class 3: 0.1905, Class 4: 0.5085, Class 5: 0.4146, Class 6: 0.2238, \n",
      "Validation F-beta Score\n",
      "Class 0: 0.9861, Class 1: 0.6286, Class 2: 0.0833, Class 3: 0.2241, Class 4: 0.4612, Class 5: 0.3634, Class 6: 0.2579, \n",
      "\n",
      "Overall Mean Dice Score: 0.3599\n",
      "Overall Mean F-beta Score: 0.3870\n",
      "\n",
      "Training Loss: 0.4845, Validation Loss: 0.4936, Validation F-beta: 0.3870\n",
      "Epoch 78/4000\n"
     ]
    },
    {
     "name": "stderr",
     "output_type": "stream",
     "text": [
      "Training: 100%|██████████| 24/24 [00:42<00:00,  1.76s/it, loss=0.479]\n",
      "Validation: 100%|██████████| 4/4 [00:01<00:00,  2.21it/s, loss=0.453]\n"
     ]
    },
    {
     "name": "stdout",
     "output_type": "stream",
     "text": [
      "Validation Dice Score\n",
      "Class 0: 0.9877, Class 1: 0.4968, Class 2: 0.1047, Class 3: 0.3292, Class 4: 0.4328, Class 5: 0.2967, Class 6: 0.0000, \n",
      "Validation F-beta Score\n",
      "Class 0: 0.9851, Class 1: 0.5140, Class 2: 0.1246, Class 3: 0.3540, Class 4: 0.3957, Class 5: 0.4671, Class 6: 0.0000, \n",
      "\n",
      "Overall Mean Dice Score: 0.3111\n",
      "Overall Mean F-beta Score: 0.3461\n",
      "\n",
      "Training Loss: 0.4682, Validation Loss: 0.4993, Validation F-beta: 0.3461\n",
      "Epoch 79/4000\n"
     ]
    },
    {
     "name": "stderr",
     "output_type": "stream",
     "text": [
      "Training: 100%|██████████| 24/24 [00:41<00:00,  1.73s/it, loss=0.511]\n",
      "Validation: 100%|██████████| 4/4 [00:01<00:00,  2.18it/s, loss=0.569]\n"
     ]
    },
    {
     "name": "stdout",
     "output_type": "stream",
     "text": [
      "Validation Dice Score\n",
      "Class 0: 0.9882, Class 1: 0.3743, Class 2: 0.1538, Class 3: 0.3133, Class 4: 0.1742, Class 5: 0.2311, Class 6: 0.2942, \n",
      "Validation F-beta Score\n",
      "Class 0: 0.9846, Class 1: 0.5518, Class 2: 0.2171, Class 3: 0.3467, Class 4: 0.2381, Class 5: 0.2496, Class 6: 0.2968, \n",
      "\n",
      "Overall Mean Dice Score: 0.2774\n",
      "Overall Mean F-beta Score: 0.3366\n",
      "\n",
      "Training Loss: 0.4805, Validation Loss: 0.5175, Validation F-beta: 0.3366\n",
      "Epoch 80/4000\n"
     ]
    },
    {
     "name": "stderr",
     "output_type": "stream",
     "text": [
      "Training: 100%|██████████| 24/24 [00:41<00:00,  1.72s/it, loss=0.524]\n",
      "Validation: 100%|██████████| 4/4 [00:01<00:00,  2.23it/s, loss=0.518]\n"
     ]
    },
    {
     "name": "stdout",
     "output_type": "stream",
     "text": [
      "Validation Dice Score\n",
      "Class 0: 0.9875, Class 1: 0.5118, Class 2: 0.1345, Class 3: 0.1297, Class 4: 0.3861, Class 5: 0.4044, Class 6: 0.5588, \n",
      "Validation F-beta Score\n",
      "Class 0: 0.9851, Class 1: 0.5929, Class 2: 0.1234, Class 3: 0.1109, Class 4: 0.4912, Class 5: 0.3949, Class 6: 0.6133, \n",
      "\n",
      "Overall Mean Dice Score: 0.3982\n",
      "Overall Mean F-beta Score: 0.4406\n",
      "\n",
      "Training Loss: 0.4793, Validation Loss: 0.4730, Validation F-beta: 0.4406\n",
      "Epoch 81/4000\n"
     ]
    },
    {
     "name": "stderr",
     "output_type": "stream",
     "text": [
      "Training: 100%|██████████| 24/24 [00:41<00:00,  1.75s/it, loss=0.574]\n",
      "Validation: 100%|██████████| 4/4 [00:01<00:00,  2.23it/s, loss=0.361]\n"
     ]
    },
    {
     "name": "stdout",
     "output_type": "stream",
     "text": [
      "Validation Dice Score\n",
      "Class 0: 0.9857, Class 1: 0.7051, Class 2: 0.0594, Class 3: 0.2729, Class 4: 0.3946, Class 5: 0.3134, Class 6: 0.8081, \n",
      "Validation F-beta Score\n",
      "Class 0: 0.9796, Class 1: 0.7268, Class 2: 0.0563, Class 3: 0.3664, Class 4: 0.5817, Class 5: 0.4138, Class 6: 0.7638, \n",
      "\n",
      "Overall Mean Dice Score: 0.4988\n",
      "Overall Mean F-beta Score: 0.5705\n",
      "\n",
      "Training Loss: 0.4920, Validation Loss: 0.4069, Validation F-beta: 0.5705\n",
      "========================================================\n",
      "SUPER Best model saved. Loss:0.4069, Score:0.5705\n",
      "========================================================\n",
      "Epoch 82/4000\n"
     ]
    },
    {
     "name": "stderr",
     "output_type": "stream",
     "text": [
      "Training: 100%|██████████| 24/24 [00:42<00:00,  1.78s/it, loss=0.59] \n",
      "Validation: 100%|██████████| 4/4 [00:01<00:00,  2.05it/s, loss=0.395]\n"
     ]
    },
    {
     "name": "stdout",
     "output_type": "stream",
     "text": [
      "Validation Dice Score\n",
      "Class 0: 0.9801, Class 1: 0.6353, Class 2: 0.0987, Class 3: 0.4159, Class 4: 0.3153, Class 5: 0.0583, Class 6: 0.3660, \n",
      "Validation F-beta Score\n",
      "Class 0: 0.9699, Class 1: 0.5944, Class 2: 0.0942, Class 3: 0.4867, Class 4: 0.4427, Class 5: 0.1331, Class 6: 0.4336, \n",
      "\n",
      "Overall Mean Dice Score: 0.3582\n",
      "Overall Mean F-beta Score: 0.4181\n",
      "\n",
      "Training Loss: 0.4760, Validation Loss: 0.4641, Validation F-beta: 0.4181\n",
      "Epoch 83/4000\n"
     ]
    },
    {
     "name": "stderr",
     "output_type": "stream",
     "text": [
      "Training: 100%|██████████| 24/24 [00:42<00:00,  1.76s/it, loss=0.479]\n",
      "Validation: 100%|██████████| 4/4 [00:01<00:00,  2.20it/s, loss=0.503]\n"
     ]
    },
    {
     "name": "stdout",
     "output_type": "stream",
     "text": [
      "Validation Dice Score\n",
      "Class 0: 0.9858, Class 1: 0.4304, Class 2: 0.0708, Class 3: 0.2712, Class 4: 0.4053, Class 5: 0.2936, Class 6: 0.4796, \n",
      "Validation F-beta Score\n",
      "Class 0: 0.9806, Class 1: 0.5341, Class 2: 0.0714, Class 3: 0.3389, Class 4: 0.4836, Class 5: 0.4019, Class 6: 0.4329, \n",
      "\n",
      "Overall Mean Dice Score: 0.3760\n",
      "Overall Mean F-beta Score: 0.4383\n",
      "\n",
      "Training Loss: 0.4752, Validation Loss: 0.4727, Validation F-beta: 0.4383\n",
      "Epoch 84/4000\n"
     ]
    },
    {
     "name": "stderr",
     "output_type": "stream",
     "text": [
      "Training: 100%|██████████| 24/24 [00:41<00:00,  1.75s/it, loss=0.507]\n",
      "Validation: 100%|██████████| 4/4 [00:01<00:00,  2.18it/s, loss=0.434]\n"
     ]
    },
    {
     "name": "stdout",
     "output_type": "stream",
     "text": [
      "Validation Dice Score\n",
      "Class 0: 0.9891, Class 1: 0.5897, Class 2: 0.0232, Class 3: 0.1666, Class 4: 0.4525, Class 5: 0.4569, Class 6: 0.6235, \n",
      "Validation F-beta Score\n",
      "Class 0: 0.9871, Class 1: 0.7913, Class 2: 0.0214, Class 3: 0.1516, Class 4: 0.4892, Class 5: 0.4852, Class 6: 0.9039, \n",
      "\n",
      "Overall Mean Dice Score: 0.4578\n",
      "Overall Mean F-beta Score: 0.5642\n",
      "\n",
      "Training Loss: 0.4944, Validation Loss: 0.4366, Validation F-beta: 0.5642\n",
      "Epoch 85/4000\n"
     ]
    },
    {
     "name": "stderr",
     "output_type": "stream",
     "text": [
      "Training: 100%|██████████| 24/24 [00:41<00:00,  1.72s/it, loss=0.467]\n",
      "Validation: 100%|██████████| 4/4 [00:01<00:00,  2.26it/s, loss=0.466]\n"
     ]
    },
    {
     "name": "stdout",
     "output_type": "stream",
     "text": [
      "Validation Dice Score\n",
      "Class 0: 0.9843, Class 1: 0.4934, Class 2: 0.0160, Class 3: 0.2252, Class 4: 0.5012, Class 5: 0.3862, Class 6: 0.6847, \n",
      "Validation F-beta Score\n",
      "Class 0: 0.9843, Class 1: 0.4793, Class 2: 0.0208, Class 3: 0.2026, Class 4: 0.5111, Class 5: 0.4239, Class 6: 0.7619, \n",
      "\n",
      "Overall Mean Dice Score: 0.4582\n",
      "Overall Mean F-beta Score: 0.4758\n",
      "\n",
      "Training Loss: 0.4740, Validation Loss: 0.4647, Validation F-beta: 0.4758\n",
      "Epoch 86/4000\n"
     ]
    },
    {
     "name": "stderr",
     "output_type": "stream",
     "text": [
      "Training: 100%|██████████| 24/24 [00:41<00:00,  1.73s/it, loss=0.491]\n",
      "Validation: 100%|██████████| 4/4 [00:01<00:00,  2.33it/s, loss=0.499]\n"
     ]
    },
    {
     "name": "stdout",
     "output_type": "stream",
     "text": [
      "Validation Dice Score\n",
      "Class 0: 0.9876, Class 1: 0.4154, Class 2: 0.1114, Class 3: 0.0071, Class 4: 0.3333, Class 5: 0.3336, Class 6: 0.4105, \n",
      "Validation F-beta Score\n",
      "Class 0: 0.9879, Class 1: 0.3861, Class 2: 0.2092, Class 3: 0.0119, Class 4: 0.2714, Class 5: 0.3833, Class 6: 0.3968, \n",
      "\n",
      "Overall Mean Dice Score: 0.3000\n",
      "Overall Mean F-beta Score: 0.2899\n",
      "\n",
      "Training Loss: 0.4789, Validation Loss: 0.5096, Validation F-beta: 0.2899\n",
      "Epoch 87/4000\n"
     ]
    },
    {
     "name": "stderr",
     "output_type": "stream",
     "text": [
      "Training: 100%|██████████| 24/24 [00:42<00:00,  1.75s/it, loss=0.507]\n",
      "Validation: 100%|██████████| 4/4 [00:01<00:00,  2.20it/s, loss=0.488]\n"
     ]
    },
    {
     "name": "stdout",
     "output_type": "stream",
     "text": [
      "Validation Dice Score\n",
      "Class 0: 0.9845, Class 1: 0.8020, Class 2: 0.1142, Class 3: 0.3723, Class 4: 0.3971, Class 5: 0.3461, Class 6: 0.4775, \n",
      "Validation F-beta Score\n",
      "Class 0: 0.9748, Class 1: 0.8200, Class 2: 0.2048, Class 3: 0.4811, Class 4: 0.6778, Class 5: 0.4668, Class 6: 0.5845, \n",
      "\n",
      "Overall Mean Dice Score: 0.4790\n",
      "Overall Mean F-beta Score: 0.6061\n",
      "\n",
      "Training Loss: 0.4788, Validation Loss: 0.4578, Validation F-beta: 0.6061\n",
      "========================================================\n",
      "Best model saved based on F-beta score: 0.6061\n",
      "========================================================\n",
      "Epoch 88/4000\n"
     ]
    },
    {
     "name": "stderr",
     "output_type": "stream",
     "text": [
      "Training: 100%|██████████| 24/24 [00:42<00:00,  1.76s/it, loss=0.446]\n",
      "Validation: 100%|██████████| 4/4 [00:01<00:00,  2.27it/s, loss=0.491]\n"
     ]
    },
    {
     "name": "stdout",
     "output_type": "stream",
     "text": [
      "Validation Dice Score\n",
      "Class 0: 0.9866, Class 1: 0.5611, Class 2: 0.1036, Class 3: 0.3293, Class 4: 0.3943, Class 5: 0.3134, Class 6: 0.4152, \n",
      "Validation F-beta Score\n",
      "Class 0: 0.9874, Class 1: 0.4822, Class 2: 0.1196, Class 3: 0.3769, Class 4: 0.3429, Class 5: 0.3589, Class 6: 0.3897, \n",
      "\n",
      "Overall Mean Dice Score: 0.4027\n",
      "Overall Mean F-beta Score: 0.3901\n",
      "\n",
      "Training Loss: 0.4618, Validation Loss: 0.4629, Validation F-beta: 0.3901\n",
      "Epoch 89/4000\n"
     ]
    },
    {
     "name": "stderr",
     "output_type": "stream",
     "text": [
      "Training: 100%|██████████| 24/24 [00:41<00:00,  1.71s/it, loss=0.487]\n",
      "Validation: 100%|██████████| 4/4 [00:01<00:00,  2.21it/s, loss=0.411]\n"
     ]
    },
    {
     "name": "stdout",
     "output_type": "stream",
     "text": [
      "Validation Dice Score\n",
      "Class 0: 0.9861, Class 1: 0.5679, Class 2: 0.1504, Class 3: 0.3630, Class 4: 0.4478, Class 5: 0.3507, Class 6: 0.3702, \n",
      "Validation F-beta Score\n",
      "Class 0: 0.9844, Class 1: 0.8151, Class 2: 0.2658, Class 3: 0.4068, Class 4: 0.4408, Class 5: 0.3709, Class 6: 0.4561, \n",
      "\n",
      "Overall Mean Dice Score: 0.4199\n",
      "Overall Mean F-beta Score: 0.4979\n",
      "\n",
      "Training Loss: 0.4978, Validation Loss: 0.4619, Validation F-beta: 0.4979\n",
      "Epoch 90/4000\n"
     ]
    },
    {
     "name": "stderr",
     "output_type": "stream",
     "text": [
      "Training: 100%|██████████| 24/24 [00:41<00:00,  1.72s/it, loss=0.551]\n",
      "Validation: 100%|██████████| 4/4 [00:01<00:00,  2.22it/s, loss=0.372]\n"
     ]
    },
    {
     "name": "stdout",
     "output_type": "stream",
     "text": [
      "Validation Dice Score\n",
      "Class 0: 0.9888, Class 1: 0.5280, Class 2: 0.1323, Class 3: 0.0643, Class 4: 0.4783, Class 5: 0.3904, Class 6: 0.6203, \n",
      "Validation F-beta Score\n",
      "Class 0: 0.9862, Class 1: 0.7993, Class 2: 0.1656, Class 3: 0.1274, Class 4: 0.5014, Class 5: 0.4925, Class 6: 0.5823, \n",
      "\n",
      "Overall Mean Dice Score: 0.4163\n",
      "Overall Mean F-beta Score: 0.5006\n",
      "\n",
      "Training Loss: 0.4845, Validation Loss: 0.4603, Validation F-beta: 0.5006\n",
      "Epoch 91/4000\n"
     ]
    },
    {
     "name": "stderr",
     "output_type": "stream",
     "text": [
      "Training: 100%|██████████| 24/24 [00:41<00:00,  1.74s/it, loss=0.496]\n",
      "Validation: 100%|██████████| 4/4 [00:01<00:00,  2.19it/s, loss=0.322]\n"
     ]
    },
    {
     "name": "stdout",
     "output_type": "stream",
     "text": [
      "Validation Dice Score\n",
      "Class 0: 0.9883, Class 1: 0.7559, Class 2: 0.1131, Class 3: 0.2783, Class 4: 0.4747, Class 5: 0.3546, Class 6: 0.8474, \n",
      "Validation F-beta Score\n",
      "Class 0: 0.9877, Class 1: 0.8240, Class 2: 0.1320, Class 3: 0.3423, Class 4: 0.4760, Class 5: 0.3478, Class 6: 0.8113, \n",
      "\n",
      "Overall Mean Dice Score: 0.5422\n",
      "Overall Mean F-beta Score: 0.5603\n",
      "\n",
      "Training Loss: 0.4730, Validation Loss: 0.4065, Validation F-beta: 0.5603\n",
      "========================================================\n",
      "Best model saved based on validation loss: 0.4065\n",
      "========================================================\n",
      "Epoch 92/4000\n"
     ]
    },
    {
     "name": "stderr",
     "output_type": "stream",
     "text": [
      "Training: 100%|██████████| 24/24 [00:46<00:00,  1.93s/it, loss=0.394]\n",
      "Validation: 100%|██████████| 4/4 [00:02<00:00,  1.88it/s, loss=0.492]\n"
     ]
    },
    {
     "name": "stdout",
     "output_type": "stream",
     "text": [
      "Validation Dice Score\n",
      "Class 0: 0.9868, Class 1: 0.6594, Class 2: 0.1273, Class 3: 0.1740, Class 4: 0.2207, Class 5: 0.3917, Class 6: 0.3685, \n",
      "Validation F-beta Score\n",
      "Class 0: 0.9817, Class 1: 0.5872, Class 2: 0.1664, Class 3: 0.1575, Class 4: 0.4028, Class 5: 0.4638, Class 6: 0.6106, \n",
      "\n",
      "Overall Mean Dice Score: 0.3629\n",
      "Overall Mean F-beta Score: 0.4444\n",
      "\n",
      "Training Loss: 0.4805, Validation Loss: 0.4793, Validation F-beta: 0.4444\n",
      "Epoch 93/4000\n"
     ]
    },
    {
     "name": "stderr",
     "output_type": "stream",
     "text": [
      "Training: 100%|██████████| 24/24 [00:49<00:00,  2.07s/it, loss=0.423]\n",
      "Validation: 100%|██████████| 4/4 [00:01<00:00,  2.00it/s, loss=0.403]\n"
     ]
    },
    {
     "name": "stdout",
     "output_type": "stream",
     "text": [
      "Validation Dice Score\n",
      "Class 0: 0.9913, Class 1: 0.4126, Class 2: 0.1757, Class 3: 0.3388, Class 4: 0.5548, Class 5: 0.3721, Class 6: 0.2206, \n",
      "Validation F-beta Score\n",
      "Class 0: 0.9894, Class 1: 0.5339, Class 2: 0.1908, Class 3: 0.3100, Class 4: 0.6242, Class 5: 0.4887, Class 6: 0.3208, \n",
      "\n",
      "Overall Mean Dice Score: 0.3798\n",
      "Overall Mean F-beta Score: 0.4555\n",
      "\n",
      "Training Loss: 0.4711, Validation Loss: 0.4814, Validation F-beta: 0.4555\n",
      "Epoch 94/4000\n"
     ]
    },
    {
     "name": "stderr",
     "output_type": "stream",
     "text": [
      "Training: 100%|██████████| 24/24 [00:50<00:00,  2.10s/it, loss=0.404]\n",
      "Validation: 100%|██████████| 4/4 [00:02<00:00,  1.94it/s, loss=0.447]\n"
     ]
    },
    {
     "name": "stdout",
     "output_type": "stream",
     "text": [
      "Validation Dice Score\n",
      "Class 0: 0.9874, Class 1: 0.6911, Class 2: 0.2242, Class 3: 0.2613, Class 4: 0.3853, Class 5: 0.3628, Class 6: 0.5970, \n",
      "Validation F-beta Score\n",
      "Class 0: 0.9817, Class 1: 0.7547, Class 2: 0.3466, Class 3: 0.2619, Class 4: 0.5205, Class 5: 0.5047, Class 6: 0.6604, \n",
      "\n",
      "Overall Mean Dice Score: 0.4595\n",
      "Overall Mean F-beta Score: 0.5404\n",
      "\n",
      "Training Loss: 0.4876, Validation Loss: 0.4391, Validation F-beta: 0.5404\n",
      "Epoch 95/4000\n"
     ]
    },
    {
     "name": "stderr",
     "output_type": "stream",
     "text": [
      "Training: 100%|██████████| 24/24 [00:50<00:00,  2.12s/it, loss=0.602]\n",
      "Validation: 100%|██████████| 4/4 [00:01<00:00,  2.00it/s, loss=0.498]\n"
     ]
    },
    {
     "name": "stdout",
     "output_type": "stream",
     "text": [
      "Validation Dice Score\n",
      "Class 0: 0.9875, Class 1: 0.2824, Class 2: 0.0000, Class 3: 0.2728, Class 4: 0.6587, Class 5: 0.3894, Class 6: 0.4015, \n",
      "Validation F-beta Score\n",
      "Class 0: 0.9850, Class 1: 0.4648, Class 2: 0.0000, Class 3: 0.4519, Class 4: 0.6611, Class 5: 0.4646, Class 6: 0.6367, \n",
      "\n",
      "Overall Mean Dice Score: 0.4010\n",
      "Overall Mean F-beta Score: 0.5358\n",
      "\n",
      "Training Loss: 0.4912, Validation Loss: 0.4614, Validation F-beta: 0.5358\n",
      "Epoch 96/4000\n"
     ]
    },
    {
     "name": "stderr",
     "output_type": "stream",
     "text": [
      "Training: 100%|██████████| 24/24 [00:48<00:00,  2.04s/it, loss=0.557]\n",
      "Validation: 100%|██████████| 4/4 [00:01<00:00,  2.04it/s, loss=0.457]\n"
     ]
    },
    {
     "name": "stdout",
     "output_type": "stream",
     "text": [
      "Validation Dice Score\n",
      "Class 0: 0.9851, Class 1: 0.4441, Class 2: 0.0926, Class 3: 0.3388, Class 4: 0.3609, Class 5: 0.4121, Class 6: 0.5966, \n",
      "Validation F-beta Score\n",
      "Class 0: 0.9804, Class 1: 0.6689, Class 2: 0.0751, Class 3: 0.3594, Class 4: 0.4478, Class 5: 0.5866, Class 6: 0.5938, \n",
      "\n",
      "Overall Mean Dice Score: 0.4305\n",
      "Overall Mean F-beta Score: 0.5313\n",
      "\n",
      "Training Loss: 0.4734, Validation Loss: 0.4584, Validation F-beta: 0.5313\n",
      "Epoch 97/4000\n"
     ]
    },
    {
     "name": "stderr",
     "output_type": "stream",
     "text": [
      "Training: 100%|██████████| 24/24 [00:48<00:00,  2.04s/it, loss=0.447]\n",
      "Validation: 100%|██████████| 4/4 [00:02<00:00,  1.92it/s, loss=0.426]\n"
     ]
    },
    {
     "name": "stdout",
     "output_type": "stream",
     "text": [
      "Validation Dice Score\n",
      "Class 0: 0.9864, Class 1: 0.5659, Class 2: 0.0394, Class 3: 0.2452, Class 4: 0.4626, Class 5: 0.3177, Class 6: 0.5868, \n",
      "Validation F-beta Score\n",
      "Class 0: 0.9834, Class 1: 0.6378, Class 2: 0.0518, Class 3: 0.3570, Class 4: 0.4807, Class 5: 0.3751, Class 6: 0.5959, \n",
      "\n",
      "Overall Mean Dice Score: 0.4356\n",
      "Overall Mean F-beta Score: 0.4893\n",
      "\n",
      "Training Loss: 0.4794, Validation Loss: 0.4675, Validation F-beta: 0.4893\n",
      "Epoch 98/4000\n"
     ]
    },
    {
     "name": "stderr",
     "output_type": "stream",
     "text": [
      "Training: 100%|██████████| 24/24 [00:45<00:00,  1.92s/it, loss=0.488]\n",
      "Validation: 100%|██████████| 4/4 [00:01<00:00,  2.21it/s, loss=0.52] \n"
     ]
    },
    {
     "name": "stdout",
     "output_type": "stream",
     "text": [
      "Validation Dice Score\n",
      "Class 0: 0.9811, Class 1: 0.3505, Class 2: 0.0253, Class 3: 0.0000, Class 4: 0.3513, Class 5: 0.3290, Class 6: 0.1599, \n",
      "Validation F-beta Score\n",
      "Class 0: 0.9792, Class 1: 0.3996, Class 2: 0.0449, Class 3: 0.0000, Class 4: 0.3481, Class 5: 0.3882, Class 6: 0.2118, \n",
      "\n",
      "Overall Mean Dice Score: 0.2381\n",
      "Overall Mean F-beta Score: 0.2695\n",
      "\n",
      "Training Loss: 0.4913, Validation Loss: 0.5399, Validation F-beta: 0.2695\n",
      "Epoch 99/4000\n"
     ]
    },
    {
     "name": "stderr",
     "output_type": "stream",
     "text": [
      "Training: 100%|██████████| 24/24 [00:41<00:00,  1.74s/it, loss=0.438]\n",
      "Validation: 100%|██████████| 4/4 [00:01<00:00,  2.17it/s, loss=0.525]\n"
     ]
    },
    {
     "name": "stdout",
     "output_type": "stream",
     "text": [
      "Validation Dice Score\n",
      "Class 0: 0.9863, Class 1: 0.2020, Class 2: 0.1262, Class 3: 0.1880, Class 4: 0.5422, Class 5: 0.3272, Class 6: 0.2401, \n",
      "Validation F-beta Score\n",
      "Class 0: 0.9815, Class 1: 0.2677, Class 2: 0.1876, Class 3: 0.1652, Class 4: 0.6051, Class 5: 0.3952, Class 6: 0.2372, \n",
      "\n",
      "Overall Mean Dice Score: 0.2999\n",
      "Overall Mean F-beta Score: 0.3341\n",
      "\n",
      "Training Loss: 0.4846, Validation Loss: 0.5138, Validation F-beta: 0.3341\n",
      "Epoch 100/4000\n"
     ]
    },
    {
     "name": "stderr",
     "output_type": "stream",
     "text": [
      "Training: 100%|██████████| 24/24 [00:40<00:00,  1.69s/it, loss=0.488]\n",
      "Validation: 100%|██████████| 4/4 [00:01<00:00,  2.23it/s, loss=0.492]\n"
     ]
    },
    {
     "name": "stdout",
     "output_type": "stream",
     "text": [
      "Validation Dice Score\n",
      "Class 0: 0.9867, Class 1: 0.7187, Class 2: 0.0080, Class 3: 0.4000, Class 4: 0.5350, Class 5: 0.2421, Class 6: 0.8084, \n",
      "Validation F-beta Score\n",
      "Class 0: 0.9825, Class 1: 0.8262, Class 2: 0.0202, Class 3: 0.5772, Class 4: 0.6141, Class 5: 0.2651, Class 6: 0.8921, \n",
      "\n",
      "Overall Mean Dice Score: 0.5408\n",
      "Overall Mean F-beta Score: 0.6350\n",
      "\n",
      "Training Loss: 0.4703, Validation Loss: 0.4442, Validation F-beta: 0.6350\n",
      "========================================================\n",
      "Best model saved based on F-beta score: 0.6350\n",
      "========================================================\n",
      "Epoch 101/4000\n"
     ]
    },
    {
     "name": "stderr",
     "output_type": "stream",
     "text": [
      "Training: 100%|██████████| 24/24 [00:40<00:00,  1.71s/it, loss=0.485]\n",
      "Validation: 100%|██████████| 4/4 [00:01<00:00,  2.23it/s, loss=0.433]\n"
     ]
    },
    {
     "name": "stdout",
     "output_type": "stream",
     "text": [
      "Validation Dice Score\n",
      "Class 0: 0.9890, Class 1: 0.6898, Class 2: 0.1436, Class 3: 0.2507, Class 4: 0.4351, Class 5: 0.4138, Class 6: 0.4927, \n",
      "Validation F-beta Score\n",
      "Class 0: 0.9850, Class 1: 0.8088, Class 2: 0.2257, Class 3: 0.2191, Class 4: 0.5873, Class 5: 0.4661, Class 6: 0.4930, \n",
      "\n",
      "Overall Mean Dice Score: 0.4564\n",
      "Overall Mean F-beta Score: 0.5149\n",
      "\n",
      "Training Loss: 0.4960, Validation Loss: 0.4419, Validation F-beta: 0.5149\n",
      "Epoch 102/4000\n"
     ]
    },
    {
     "name": "stderr",
     "output_type": "stream",
     "text": [
      "Training: 100%|██████████| 24/24 [00:40<00:00,  1.69s/it, loss=0.524]\n",
      "Validation: 100%|██████████| 4/4 [00:01<00:00,  2.23it/s, loss=0.536]\n"
     ]
    },
    {
     "name": "stdout",
     "output_type": "stream",
     "text": [
      "Validation Dice Score\n",
      "Class 0: 0.9828, Class 1: 0.4977, Class 2: 0.0000, Class 3: 0.2462, Class 4: 0.4490, Class 5: 0.2715, Class 6: 0.7983, \n",
      "Validation F-beta Score\n",
      "Class 0: 0.9775, Class 1: 0.5429, Class 2: 0.0000, Class 3: 0.2531, Class 4: 0.7247, Class 5: 0.2225, Class 6: 0.7561, \n",
      "\n",
      "Overall Mean Dice Score: 0.4525\n",
      "Overall Mean F-beta Score: 0.4999\n",
      "\n",
      "Training Loss: 0.4810, Validation Loss: 0.4495, Validation F-beta: 0.4999\n",
      "Epoch 103/4000\n"
     ]
    },
    {
     "name": "stderr",
     "output_type": "stream",
     "text": [
      "Training: 100%|██████████| 24/24 [00:44<00:00,  1.86s/it, loss=0.488]\n",
      "Validation: 100%|██████████| 4/4 [00:01<00:00,  2.22it/s, loss=0.507]\n"
     ]
    },
    {
     "name": "stdout",
     "output_type": "stream",
     "text": [
      "Validation Dice Score\n",
      "Class 0: 0.9890, Class 1: 0.3523, Class 2: 0.1796, Class 3: 0.2092, Class 4: 0.3516, Class 5: 0.4015, Class 6: 0.2060, \n",
      "Validation F-beta Score\n",
      "Class 0: 0.9869, Class 1: 0.3903, Class 2: 0.1863, Class 3: 0.2164, Class 4: 0.5146, Class 5: 0.5016, Class 6: 0.2132, \n",
      "\n",
      "Overall Mean Dice Score: 0.3041\n",
      "Overall Mean F-beta Score: 0.3672\n",
      "\n",
      "Training Loss: 0.4832, Validation Loss: 0.5112, Validation F-beta: 0.3672\n",
      "Epoch 104/4000\n"
     ]
    },
    {
     "name": "stderr",
     "output_type": "stream",
     "text": [
      "Training:   8%|▊         | 2/24 [00:03<00:42,  1.92s/it, loss=0.453]"
     ]
    }
   ],
   "source": [
    "train_model(\n",
    "    model=model,\n",
    "    train_loader=train_loader,\n",
    "    val_loader=val_loader,\n",
    "    criterion=criterion,\n",
    "    optimizer=optimizer,\n",
    "    num_epochs=num_epochs,\n",
    "    patience=30,\n",
    "    device=device,\n",
    "    start_epoch=start_epoch,\n",
    "    best_val_loss=best_val_loss,\n",
    "    best_val_fbeta_score=best_val_fbeta_score,\n",
    "    calculate_dice_interval=1\n",
    ")"
   ]
  },
  {
   "cell_type": "code",
   "execution_count": 13,
   "metadata": {},
   "outputs": [
    {
     "ename": "SyntaxError",
     "evalue": "invalid syntax (879943805.py, line 1)",
     "output_type": "error",
     "traceback": [
      "\u001b[1;36m  Cell \u001b[1;32mIn[13], line 1\u001b[1;36m\u001b[0m\n\u001b[1;33m    if:\u001b[0m\n\u001b[1;37m      ^\u001b[0m\n\u001b[1;31mSyntaxError\u001b[0m\u001b[1;31m:\u001b[0m invalid syntax\n"
     ]
    }
   ],
   "source": [
    "if:"
   ]
  },
  {
   "cell_type": "markdown",
   "metadata": {},
   "source": [
    "# VAl"
   ]
  },
  {
   "cell_type": "code",
   "execution_count": null,
   "metadata": {},
   "outputs": [
    {
     "data": {
      "text/html": [
       "Finishing last run (ID:fs6utwyo) before initializing another..."
      ],
      "text/plain": [
       "<IPython.core.display.HTML object>"
      ]
     },
     "metadata": {},
     "output_type": "display_data"
    },
    {
     "data": {
      "application/vnd.jupyter.widget-view+json": {
       "model_id": "29cc3ae761af43baae5aca60b5d2e7f4",
       "version_major": 2,
       "version_minor": 0
      },
      "text/plain": [
       "VBox(children=(Label(value='0.009 MB of 0.009 MB uploaded\\r'), FloatProgress(value=1.0, max=1.0)))"
      ]
     },
     "metadata": {},
     "output_type": "display_data"
    },
    {
     "data": {
      "text/html": [
       "<style>\n",
       "    table.wandb td:nth-child(1) { padding: 0 10px; text-align: left ; width: auto;} td:nth-child(2) {text-align: left ; width: 100%}\n",
       "    .wandb-row { display: flex; flex-direction: row; flex-wrap: wrap; justify-content: flex-start; width: 100% }\n",
       "    .wandb-col { display: flex; flex-direction: column; flex-basis: 100%; flex: 1; padding: 10px; }\n",
       "    </style>\n",
       "<div class=\"wandb-row\"><div class=\"wandb-col\"><h3>Run history:</h3><br/><table class=\"wandb\"><tr><td>class_0_dice_score</td><td>▁</td></tr><tr><td>class_0_f_beta_score</td><td>▁</td></tr><tr><td>class_1_dice_score</td><td>▁</td></tr><tr><td>class_1_f_beta_score</td><td>▁</td></tr><tr><td>class_2_dice_score</td><td>▁</td></tr><tr><td>class_2_f_beta_score</td><td>▁</td></tr><tr><td>class_3_dice_score</td><td>▁</td></tr><tr><td>class_3_f_beta_score</td><td>▁</td></tr><tr><td>class_4_dice_score</td><td>▁</td></tr><tr><td>class_4_f_beta_score</td><td>▁</td></tr><tr><td>class_5_dice_score</td><td>▁</td></tr><tr><td>class_5_f_beta_score</td><td>▁</td></tr><tr><td>class_6_dice_score</td><td>▁</td></tr><tr><td>class_6_f_beta_score</td><td>▁</td></tr><tr><td>epoch</td><td>▁▁▁▁▁▁▁▁▁▁▁▁▁▁▁▁</td></tr><tr><td>overall_mean_dice_score</td><td>▁</td></tr><tr><td>overall_mean_f_beta_score</td><td>▁</td></tr><tr><td>val_epoch_loss</td><td>▁</td></tr></table><br/></div><div class=\"wandb-col\"><h3>Run summary:</h3><br/><table class=\"wandb\"><tr><td>class_0_dice_score</td><td>0.65703</td></tr><tr><td>class_0_f_beta_score</td><td>0.50748</td></tr><tr><td>class_1_dice_score</td><td>0.53332</td></tr><tr><td>class_1_f_beta_score</td><td>0.64703</td></tr><tr><td>class_2_dice_score</td><td>0.00286</td></tr><tr><td>class_2_f_beta_score</td><td>0.02334</td></tr><tr><td>class_3_dice_score</td><td>0.23703</td></tr><tr><td>class_3_f_beta_score</td><td>0.23033</td></tr><tr><td>class_4_dice_score</td><td>0.65487</td></tr><tr><td>class_4_f_beta_score</td><td>0.62525</td></tr><tr><td>class_5_dice_score</td><td>0.47899</td></tr><tr><td>class_5_f_beta_score</td><td>0.51448</td></tr><tr><td>class_6_dice_score</td><td>0.42545</td></tr><tr><td>class_6_f_beta_score</td><td>0.47197</td></tr><tr><td>epoch</td><td>1</td></tr><tr><td>overall_mean_dice_score</td><td>0.42708</td></tr><tr><td>overall_mean_f_beta_score</td><td>0.43141</td></tr><tr><td>val_epoch_loss</td><td>0.7152</td></tr></table><br/></div></div>"
      ],
      "text/plain": [
       "<IPython.core.display.HTML object>"
      ]
     },
     "metadata": {},
     "output_type": "display_data"
    },
    {
     "data": {
      "text/html": [
       " View run <strong style=\"color:#cdcd00\">SwinUNETR96_96_lr0.001_lambda0.52_batch2</strong> at: <a href='https://wandb.ai/waooang/czii_SwinUnetR_val/runs/fs6utwyo' target=\"_blank\">https://wandb.ai/waooang/czii_SwinUnetR_val/runs/fs6utwyo</a><br/> View project at: <a href='https://wandb.ai/waooang/czii_SwinUnetR_val' target=\"_blank\">https://wandb.ai/waooang/czii_SwinUnetR_val</a><br/>Synced 4 W&B file(s), 0 media file(s), 3 artifact file(s) and 0 other file(s)"
      ],
      "text/plain": [
       "<IPython.core.display.HTML object>"
      ]
     },
     "metadata": {},
     "output_type": "display_data"
    },
    {
     "data": {
      "text/html": [
       "Find logs at: <code>.\\wandb\\run-20241219_200219-fs6utwyo\\logs</code>"
      ],
      "text/plain": [
       "<IPython.core.display.HTML object>"
      ]
     },
     "metadata": {},
     "output_type": "display_data"
    },
    {
     "data": {
      "text/html": [
       "Successfully finished last run (ID:fs6utwyo). Initializing new run:<br/>"
      ],
      "text/plain": [
       "<IPython.core.display.HTML object>"
      ]
     },
     "metadata": {},
     "output_type": "display_data"
    },
    {
     "data": {
      "text/html": [
       "Tracking run with wandb version 0.18.3"
      ],
      "text/plain": [
       "<IPython.core.display.HTML object>"
      ]
     },
     "metadata": {},
     "output_type": "display_data"
    },
    {
     "data": {
      "text/html": [
       "Run data is saved locally in <code>e:\\Workspace\\czll\\wandb\\run-20241219_200454-121l7bn3</code>"
      ],
      "text/plain": [
       "<IPython.core.display.HTML object>"
      ]
     },
     "metadata": {},
     "output_type": "display_data"
    },
    {
     "data": {
      "text/html": [
       "Syncing run <strong><a href='https://wandb.ai/waooang/czii_SwinUnetR_val/runs/121l7bn3' target=\"_blank\">SwinUNETR96_96_lr0.001_lambda0.52_batch2</a></strong> to <a href='https://wandb.ai/waooang/czii_SwinUnetR_val' target=\"_blank\">Weights & Biases</a> (<a href='https://wandb.me/run' target=\"_blank\">docs</a>)<br/>"
      ],
      "text/plain": [
       "<IPython.core.display.HTML object>"
      ]
     },
     "metadata": {},
     "output_type": "display_data"
    },
    {
     "data": {
      "text/html": [
       " View project at <a href='https://wandb.ai/waooang/czii_SwinUnetR_val' target=\"_blank\">https://wandb.ai/waooang/czii_SwinUnetR_val</a>"
      ],
      "text/plain": [
       "<IPython.core.display.HTML object>"
      ]
     },
     "metadata": {},
     "output_type": "display_data"
    },
    {
     "data": {
      "text/html": [
       " View run at <a href='https://wandb.ai/waooang/czii_SwinUnetR_val/runs/121l7bn3' target=\"_blank\">https://wandb.ai/waooang/czii_SwinUnetR_val/runs/121l7bn3</a>"
      ],
      "text/plain": [
       "<IPython.core.display.HTML object>"
      ]
     },
     "metadata": {},
     "output_type": "display_data"
    },
    {
     "name": "stderr",
     "output_type": "stream",
     "text": [
      "Loading dataset: 100%|██████████| 4/4 [00:06<00:00,  1.58s/it]\n",
      "C:\\Users\\Seungwoo\\AppData\\Local\\Temp\\ipykernel_21000\\1177025787.py:95: FutureWarning: You are using `torch.load` with `weights_only=False` (the current default value), which uses the default pickle module implicitly. It is possible to construct malicious pickle data which will execute arbitrary code during unpickling (See https://github.com/pytorch/pytorch/blob/main/SECURITY.md#untrusted-models for more details). In a future release, the default value for `weights_only` will be flipped to `True`. This limits the functions that could be executed during unpickling. Arbitrary objects will no longer be allowed to be loaded via this mode unless they are explicitly allowlisted by the user via `torch.serialization.add_safe_globals`. We recommend you start setting `weights_only=True` for any use case where you don't have full control of the loaded file. Please open an issue on GitHub for any issues related to this experimental feature.\n",
      "  checkpoint = torch.load(pretrain_path, map_location=device)\n",
      "Validation: 100%|██████████| 4/4 [00:01<00:00,  2.38it/s, loss=0.865]"
     ]
    },
    {
     "name": "stdout",
     "output_type": "stream",
     "text": [
      "Validation Dice Score\n",
      "Class 0: 0.6570, Class 1: 0.5333, Class 2: 0.0029, Class 3: 0.2370, \n",
      "Class 4: 0.6549, Class 5: 0.4790, Class 6: 0.4255, \n",
      "Validation F-beta Score\n",
      "Class 0: 0.5075, Class 1: 0.6470, Class 2: 0.0233, Class 3: 0.2303, \n",
      "Class 4: 0.6252, Class 5: 0.5145, Class 6: 0.4720, \n",
      "Overall Mean Dice Score: 0.4659\n",
      "Overall Mean F-beta Score: 0.4978\n",
      "\n"
     ]
    },
    {
     "name": "stderr",
     "output_type": "stream",
     "text": [
      "\n"
     ]
    }
   ],
   "source": [
    "from monai.data import DataLoader, Dataset, CacheDataset\n",
    "from monai.transforms import (\n",
    "    Compose, LoadImaged, EnsureChannelFirstd, NormalizeIntensityd,\n",
    "    Orientationd, CropForegroundd, GaussianSmoothd, ScaleIntensityd,\n",
    "    RandSpatialCropd, RandRotate90d, RandFlipd, RandGaussianNoised,\n",
    "    ToTensord, RandCropByLabelClassesd\n",
    ")\n",
    "from monai.metrics import DiceMetric\n",
    "from monai.networks.nets import UNETR, SwinUNETR\n",
    "from monai.losses import TverskyLoss\n",
    "import torch\n",
    "import numpy as np\n",
    "from tqdm import tqdm\n",
    "import wandb\n",
    "from src.dataset.dataset import make_val_dataloader\n",
    "\n",
    "val_img_dir = \"./datasets/val/images\"\n",
    "val_label_dir = \"./datasets/val/labels\"\n",
    "img_depth = 96\n",
    "img_size = 96  # Match your patch size\n",
    "n_classes = 7\n",
    "batch_size = 2 # 13.8GB GPU memory required for 128x128 img size\n",
    "num_samples = batch_size # 한 이미지에서 뽑을 샘플 수\n",
    "loader_batch = 1\n",
    "lamda = 0.52\n",
    "\n",
    "wandb.init(\n",
    "    project='czii_SwinUnetR_val',  # 프로젝트 이름 설정\n",
    "    name='SwinUNETR96_96_lr0.001_lambda0.52_batch2',         # 실행(run) 이름 설정\n",
    "    config={\n",
    "        'learning_rate': 0.001,\n",
    "        'batch_size': batch_size,\n",
    "        'lambda': lamda,\n",
    "        'img_size': img_size,\n",
    "        'device': 'cuda',\n",
    "        \"checkpoint_dir\": \"./model_checkpoints/SwinUNETR96_96_lr0.001_lambda0.52_batch2\",\n",
    "        \n",
    "    }\n",
    ")\n",
    "\n",
    "non_random_transforms = Compose([\n",
    "    EnsureChannelFirstd(keys=[\"image\", \"label\"], channel_dim=\"no_channel\"),\n",
    "    NormalizeIntensityd(keys=\"image\"),\n",
    "    Orientationd(keys=[\"image\", \"label\"], axcodes=\"RAS\"),\n",
    "    GaussianSmoothd(\n",
    "        keys=[\"image\"],      # 변환을 적용할 키\n",
    "        sigma=[1.0, 1.0, 1.0]  # 각 축(x, y, z)의 시그마 값\n",
    "        ),\n",
    "])\n",
    "random_transforms = Compose([\n",
    "    RandCropByLabelClassesd(\n",
    "        keys=[\"image\", \"label\"],\n",
    "        label_key=\"label\",\n",
    "        spatial_size=[img_depth, img_size, img_size],\n",
    "        num_classes=n_classes,\n",
    "        num_samples=num_samples, \n",
    "        ratios=ratios_list,\n",
    "    ),\n",
    "    RandRotate90d(keys=[\"image\", \"label\"], prob=0.5, spatial_axes=[1, 2]),\n",
    "    RandFlipd(keys=[\"image\", \"label\"], prob=0.5, spatial_axis=0),\n",
    "])\n",
    "\n",
    "val_loader = make_val_dataloader(\n",
    "    val_img_dir, \n",
    "    val_label_dir, \n",
    "    non_random_transforms = non_random_transforms, \n",
    "    random_transforms = random_transforms, \n",
    "    batch_size = loader_batch,\n",
    "    num_workers=0\n",
    ")\n",
    "criterion = TverskyLoss(\n",
    "    alpha= 1 - lamda,  # FP에 대한 가중치\n",
    "    beta=lamda,       # FN에 대한 가중치\n",
    "    include_background=False,  # 배경 클래스 제외\n",
    "    softmax=True\n",
    ")\n",
    "    \n",
    "    \n",
    "from monai.metrics import DiceMetric\n",
    "\n",
    "img_size = 96\n",
    "img_depth = img_size\n",
    "n_classes = 7 \n",
    "\n",
    "device = torch.device(\"cuda\" if torch.cuda.is_available() else \"cpu\")\n",
    "pretrain_path = \"./model_checkpoints/SwinUNETR96_96_lr0.001_lambda0.52_batch2/best_model.pt\"\n",
    "model = SwinUNETR(\n",
    "    img_size=(img_depth, img_size, img_size),\n",
    "    in_channels=1,\n",
    "    out_channels=n_classes,\n",
    "    feature_size=48,\n",
    "    use_checkpoint=True,\n",
    ").to(device)\n",
    "# Pretrained weights 불러오기\n",
    "checkpoint = torch.load(pretrain_path, map_location=device)\n",
    "model.load_state_dict(checkpoint['model_state_dict'])\n",
    "\n",
    "val_loss, overall_mean_fbeta_score = validate_one_epoch(\n",
    "    model=model, \n",
    "    val_loader=val_loader, \n",
    "    criterion=criterion, \n",
    "    device=device, \n",
    "    epoch=0, \n",
    "    calculate_dice_interval=1\n",
    ")"
   ]
  },
  {
   "cell_type": "markdown",
   "metadata": {},
   "source": [
    "# Inference"
   ]
  },
  {
   "cell_type": "code",
   "execution_count": null,
   "metadata": {},
   "outputs": [],
   "source": [
    "from src.dataset.preprocessing import Preprocessor"
   ]
  },
  {
   "cell_type": "code",
   "execution_count": null,
   "metadata": {},
   "outputs": [
    {
     "name": "stdout",
     "output_type": "stream",
     "text": [
      "Done.\n"
     ]
    }
   ],
   "source": [
    "from monai.inferers import sliding_window_inference\n",
    "from monai.transforms import Compose, EnsureChannelFirstd, NormalizeIntensityd, Orientationd, GaussianSmoothd\n",
    "from monai.data import DataLoader, Dataset, CacheDataset\n",
    "from monai.networks.nets import SwinUNETR\n",
    "from pathlib import Path\n",
    "import numpy as np\n",
    "import copick\n",
    "\n",
    "import torch\n",
    "print(\"Done.\")"
   ]
  },
  {
   "cell_type": "code",
   "execution_count": null,
   "metadata": {},
   "outputs": [
    {
     "name": "stdout",
     "output_type": "stream",
     "text": [
      "Config file written to ./kaggle/working/copick.config\n",
      "file length: 7\n"
     ]
    }
   ],
   "source": [
    "config_blob = \"\"\"{\n",
    "    \"name\": \"czii_cryoet_mlchallenge_2024\",\n",
    "    \"description\": \"2024 CZII CryoET ML Challenge training data.\",\n",
    "    \"version\": \"1.0.0\",\n",
    "\n",
    "    \"pickable_objects\": [\n",
    "        {\n",
    "            \"name\": \"apo-ferritin\",\n",
    "            \"is_particle\": true,\n",
    "            \"pdb_id\": \"4V1W\",\n",
    "            \"label\": 1,\n",
    "            \"color\": [  0, 117, 220, 128],\n",
    "            \"radius\": 60,\n",
    "            \"map_threshold\": 0.0418\n",
    "        },\n",
    "        {\n",
    "          \"name\" : \"beta-amylase\",\n",
    "            \"is_particle\": true,\n",
    "            \"pdb_id\": \"8ZRZ\",\n",
    "            \"label\": 2,\n",
    "            \"color\": [255, 255, 255, 128],\n",
    "            \"radius\": 90,\n",
    "            \"map_threshold\": 0.0578  \n",
    "        },\n",
    "        {\n",
    "            \"name\": \"beta-galactosidase\",\n",
    "            \"is_particle\": true,\n",
    "            \"pdb_id\": \"6X1Q\",\n",
    "            \"label\": 3,\n",
    "            \"color\": [ 76,   0,  92, 128],\n",
    "            \"radius\": 90,\n",
    "            \"map_threshold\": 0.0578\n",
    "        },\n",
    "        {\n",
    "            \"name\": \"ribosome\",\n",
    "            \"is_particle\": true,\n",
    "            \"pdb_id\": \"6EK0\",\n",
    "            \"label\": 4,\n",
    "            \"color\": [  0,  92,  49, 128],\n",
    "            \"radius\": 150,\n",
    "            \"map_threshold\": 0.0374\n",
    "        },\n",
    "        {\n",
    "            \"name\": \"thyroglobulin\",\n",
    "            \"is_particle\": true,\n",
    "            \"pdb_id\": \"6SCJ\",\n",
    "            \"label\": 5,\n",
    "            \"color\": [ 43, 206,  72, 128],\n",
    "            \"radius\": 130,\n",
    "            \"map_threshold\": 0.0278\n",
    "        },\n",
    "        {\n",
    "            \"name\": \"virus-like-particle\",\n",
    "            \"is_particle\": true,\n",
    "            \"label\": 6,\n",
    "            \"color\": [255, 204, 153, 128],\n",
    "            \"radius\": 135,\n",
    "            \"map_threshold\": 0.201\n",
    "        },\n",
    "        {\n",
    "            \"name\": \"membrane\",\n",
    "            \"is_particle\": false,\n",
    "            \"label\": 8,\n",
    "            \"color\": [100, 100, 100, 128]\n",
    "        },\n",
    "        {\n",
    "            \"name\": \"background\",\n",
    "            \"is_particle\": false,\n",
    "            \"label\": 9,\n",
    "            \"color\": [10, 150, 200, 128]\n",
    "        }\n",
    "    ],\n",
    "\n",
    "    \"overlay_root\": \"./kaggle/working/overlay\",\n",
    "\n",
    "    \"overlay_fs_args\": {\n",
    "        \"auto_mkdir\": true\n",
    "    },\n",
    "\n",
    "    \"static_root\": \"./kaggle/input/czii-cryo-et-object-identification/test/static\"\n",
    "}\"\"\"\n",
    "\n",
    "copick_config_path = \"./kaggle/working/copick.config\"\n",
    "preprocessor = Preprocessor(config_blob,copick_config_path=copick_config_path)\n",
    "non_random_transforms = Compose([\n",
    "    EnsureChannelFirstd(keys=[\"image\"], channel_dim=\"no_channel\"),\n",
    "    NormalizeIntensityd(keys=\"image\"),\n",
    "    Orientationd(keys=[\"image\"], axcodes=\"RAS\"),\n",
    "    GaussianSmoothd(\n",
    "        keys=[\"image\"],      # 변환을 적용할 키\n",
    "        sigma=[1.0, 1.0, 1.0]  # 각 축(x, y, z)의 시그마 값\n",
    "        ),\n",
    "    ])"
   ]
  },
  {
   "cell_type": "code",
   "execution_count": null,
   "metadata": {},
   "outputs": [
    {
     "name": "stderr",
     "output_type": "stream",
     "text": [
      "c:\\ProgramData\\anaconda3\\envs\\ship\\Lib\\site-packages\\monai\\utils\\deprecate_utils.py:221: FutureWarning: monai.networks.nets.swin_unetr SwinUNETR.__init__:img_size: Argument `img_size` has been deprecated since version 1.3. It will be removed in version 1.5. The img_size argument is not required anymore and checks on the input size are run during forward().\n",
      "  warn_deprecated(argname, msg, warning_category)\n",
      "C:\\Users\\Seungwoo\\AppData\\Local\\Temp\\ipykernel_6248\\2937359115.py:15: FutureWarning: You are using `torch.load` with `weights_only=False` (the current default value), which uses the default pickle module implicitly. It is possible to construct malicious pickle data which will execute arbitrary code during unpickling (See https://github.com/pytorch/pytorch/blob/main/SECURITY.md#untrusted-models for more details). In a future release, the default value for `weights_only` will be flipped to `True`. This limits the functions that could be executed during unpickling. Arbitrary objects will no longer be allowed to be loaded via this mode unless they are explicitly allowlisted by the user via `torch.serialization.add_safe_globals`. We recommend you start setting `weights_only=True` for any use case where you don't have full control of the loaded file. Please open an issue on GitHub for any issues related to this experimental feature.\n",
      "  checkpoint = torch.load(pretrain_path, map_location=device)\n"
     ]
    },
    {
     "data": {
      "text/plain": [
       "<All keys matched successfully>"
      ]
     },
     "execution_count": 15,
     "metadata": {},
     "output_type": "execute_result"
    }
   ],
   "source": [
    "img_size = 96\n",
    "img_depth = img_size\n",
    "n_classes = 7 \n",
    "\n",
    "device = torch.device(\"cuda\" if torch.cuda.is_available() else \"cpu\")\n",
    "pretrain_path = \"./model_checkpoints/SwinUNETR96_96_lr0.001_lambda0.52_batch2/best_model.pt\"\n",
    "model = SwinUNETR(\n",
    "    img_size=(img_depth, img_size, img_size),\n",
    "    in_channels=1,\n",
    "    out_channels=n_classes,\n",
    "    feature_size=48,\n",
    "    use_checkpoint=True,\n",
    ").to(device)\n",
    "# Pretrained weights 불러오기\n",
    "checkpoint = torch.load(pretrain_path, map_location=device)\n",
    "model.load_state_dict(checkpoint['model_state_dict'])\n"
   ]
  },
  {
   "cell_type": "code",
   "execution_count": null,
   "metadata": {},
   "outputs": [
    {
     "name": "stderr",
     "output_type": "stream",
     "text": [
      "Validation:   0%|          | 0/4 [00:03<?, ?it/s, loss=0.764]\n"
     ]
    },
    {
     "ename": "ZeroDivisionError",
     "evalue": "integer modulo by zero",
     "output_type": "error",
     "traceback": [
      "\u001b[1;31m---------------------------------------------------------------------------\u001b[0m",
      "\u001b[1;31mZeroDivisionError\u001b[0m                         Traceback (most recent call last)",
      "Cell \u001b[1;32mIn[16], line 1\u001b[0m\n\u001b[1;32m----> 1\u001b[0m val_loss \u001b[38;5;241m=\u001b[39m \u001b[43mvalidate_one_epoch\u001b[49m\u001b[43m(\u001b[49m\n\u001b[0;32m      2\u001b[0m \u001b[43m            \u001b[49m\u001b[43mmodel\u001b[49m\u001b[38;5;241;43m=\u001b[39;49m\u001b[43mmodel\u001b[49m\u001b[43m,\u001b[49m\u001b[43m \u001b[49m\n\u001b[0;32m      3\u001b[0m \u001b[43m            \u001b[49m\u001b[43mval_loader\u001b[49m\u001b[38;5;241;43m=\u001b[39;49m\u001b[43mval_loader\u001b[49m\u001b[43m,\u001b[49m\u001b[43m \u001b[49m\n\u001b[0;32m      4\u001b[0m \u001b[43m            \u001b[49m\u001b[43mcriterion\u001b[49m\u001b[38;5;241;43m=\u001b[39;49m\u001b[43mcriterion\u001b[49m\u001b[43m,\u001b[49m\u001b[43m \u001b[49m\n\u001b[0;32m      5\u001b[0m \u001b[43m            \u001b[49m\u001b[43mdevice\u001b[49m\u001b[38;5;241;43m=\u001b[39;49m\u001b[43mdevice\u001b[49m\u001b[43m,\u001b[49m\u001b[43m \u001b[49m\n\u001b[0;32m      6\u001b[0m \u001b[43m            \u001b[49m\u001b[43mepoch\u001b[49m\u001b[38;5;241;43m=\u001b[39;49m\u001b[38;5;241;43m1\u001b[39;49m\u001b[43m,\u001b[49m\u001b[43m \u001b[49m\n\u001b[0;32m      7\u001b[0m \u001b[43m            \u001b[49m\u001b[43mcalculate_dice_interval\u001b[49m\u001b[38;5;241;43m=\u001b[39;49m\u001b[38;5;241;43m0\u001b[39;49m\n\u001b[0;32m      8\u001b[0m \u001b[43m        \u001b[49m\u001b[43m)\u001b[49m\n",
      "Cell \u001b[1;32mIn[11], line 64\u001b[0m, in \u001b[0;36mvalidate_one_epoch\u001b[1;34m(model, val_loader, criterion, device, epoch, calculate_dice_interval)\u001b[0m\n\u001b[0;32m     61\u001b[0m pbar\u001b[38;5;241m.\u001b[39mset_postfix(loss\u001b[38;5;241m=\u001b[39mloss\u001b[38;5;241m.\u001b[39mitem())\n\u001b[0;32m     63\u001b[0m \u001b[38;5;66;03m# 각 클래스별 Dice 점수 계산\u001b[39;00m\n\u001b[1;32m---> 64\u001b[0m \u001b[38;5;28;01mif\u001b[39;00m \u001b[43mepoch\u001b[49m\u001b[43m \u001b[49m\u001b[38;5;241;43m%\u001b[39;49m\u001b[43m \u001b[49m\u001b[43mcalculate_dice_interval\u001b[49m \u001b[38;5;241m==\u001b[39m \u001b[38;5;241m0\u001b[39m:\n\u001b[0;32m     65\u001b[0m     \u001b[38;5;28;01mfor\u001b[39;00m i \u001b[38;5;129;01min\u001b[39;00m \u001b[38;5;28mrange\u001b[39m(n_classes):\n\u001b[0;32m     66\u001b[0m         pred_i \u001b[38;5;241m=\u001b[39m (preds \u001b[38;5;241m==\u001b[39m i)\n",
      "\u001b[1;31mZeroDivisionError\u001b[0m: integer modulo by zero"
     ]
    }
   ],
   "source": [
    "val_loss = validate_one_epoch(\n",
    "            model=model, \n",
    "            val_loader=val_loader, \n",
    "            criterion=criterion, \n",
    "            device=device, \n",
    "            epoch=1, \n",
    "            calculate_dice_interval=0\n",
    "        )"
   ]
  },
  {
   "cell_type": "code",
   "execution_count": null,
   "metadata": {},
   "outputs": [
    {
     "name": "stdout",
     "output_type": "stream",
     "text": [
      "Processing volume 1/7\n"
     ]
    },
    {
     "name": "stderr",
     "output_type": "stream",
     "text": [
      "Loading dataset: 100%|██████████| 1/1 [00:01<00:00,  1.94s/it]\n"
     ]
    },
    {
     "name": "stdout",
     "output_type": "stream",
     "text": [
      "Processing volume 2/7\n"
     ]
    },
    {
     "name": "stderr",
     "output_type": "stream",
     "text": [
      "Loading dataset: 100%|██████████| 1/1 [00:01<00:00,  1.89s/it]\n"
     ]
    },
    {
     "name": "stdout",
     "output_type": "stream",
     "text": [
      "Processing volume 3/7\n"
     ]
    },
    {
     "name": "stderr",
     "output_type": "stream",
     "text": [
      "Loading dataset: 100%|██████████| 1/1 [00:01<00:00,  1.79s/it]\n"
     ]
    },
    {
     "name": "stdout",
     "output_type": "stream",
     "text": [
      "Submission saved to: submission.csv\n"
     ]
    }
   ],
   "source": [
    "import torch\n",
    "import numpy as np\n",
    "from scipy.ndimage import label, center_of_mass\n",
    "import pandas as pd\n",
    "from tqdm import tqdm\n",
    "from monai.data import CacheDataset, DataLoader\n",
    "from monai.transforms import Compose, NormalizeIntensity\n",
    "import cc3d\n",
    "\n",
    "def dict_to_df(coord_dict, experiment_name):\n",
    "    all_coords = []\n",
    "    all_labels = []\n",
    "    \n",
    "    for label, coords in coord_dict.items():\n",
    "        all_coords.append(coords)\n",
    "        all_labels.extend([label] * len(coords))\n",
    "    \n",
    "    all_coords = np.vstack(all_coords)\n",
    "    df = pd.DataFrame({\n",
    "        'experiment': experiment_name,\n",
    "        'particle_type': all_labels,\n",
    "        'x': all_coords[:, 0],\n",
    "        'y': all_coords[:, 1],\n",
    "        'z': all_coords[:, 2]\n",
    "    })\n",
    "    return df\n",
    "\n",
    "id_to_name = {1: \"apo-ferritin\", \n",
    "              2: \"beta-amylase\",\n",
    "              3: \"beta-galactosidase\", \n",
    "              4: \"ribosome\", \n",
    "              5: \"thyroglobulin\", \n",
    "              6: \"virus-like-particle\"}\n",
    "BLOB_THRESHOLD = 200\n",
    "CERTAINTY_THRESHOLD = 0.05\n",
    "\n",
    "classes = [1, 2, 3, 4, 5, 6]\n",
    "\n",
    "model.eval()\n",
    "with torch.no_grad():\n",
    "    location_dfs = []  # DataFrame 리스트로 초기화\n",
    "    \n",
    "    for vol_idx, run in enumerate(preprocessor.root.runs):\n",
    "        print(f\"Processing volume {vol_idx + 1}/{len(preprocessor.root.runs)}\")\n",
    "        tomogram = preprocessor.processing(run=run, task=\"task\")\n",
    "        task_files = [{\"image\": tomogram}]\n",
    "        task_ds = CacheDataset(data=task_files, transform=non_random_transforms)\n",
    "        task_loader = DataLoader(task_ds, batch_size=1, num_workers=0)\n",
    "        \n",
    "        for task_data in task_loader:\n",
    "            images = task_data['image'].to(\"cuda\")\n",
    "            outputs = sliding_window_inference(\n",
    "                inputs=images,\n",
    "                roi_size=(96, 96, 96),  # ROI 크기\n",
    "                sw_batch_size=4,\n",
    "                predictor=model.forward,\n",
    "                overlap=0.1,\n",
    "                sw_device=\"cuda\",\n",
    "                device=\"cpu\",\n",
    "                buffer_steps=1,\n",
    "                buffer_dim=-1\n",
    "            )\n",
    "            outputs = outputs.argmax(dim=1).squeeze(0).cpu().numpy()  # 클래스 채널 예측\n",
    "            location = {}  # 좌표 저장용 딕셔너리\n",
    "            for c in classes:\n",
    "                cc = cc3d.connected_components(outputs == c)  # cc3d 라벨링\n",
    "                stats = cc3d.statistics(cc)\n",
    "                zyx = stats['centroids'][1:] * 10.012444  # 스케일 변환\n",
    "                zyx_large = zyx[stats['voxel_counts'][1:] > BLOB_THRESHOLD]  # 크기 필터링\n",
    "                xyz = np.ascontiguousarray(zyx_large[:, ::-1])  # 좌표 스왑 (z, y, x -> x, y, z)\n",
    "\n",
    "                location[id_to_name[c]] = xyz  # ID 이름 매칭 저장\n",
    "\n",
    "            # 데이터프레임 변환\n",
    "            df = dict_to_df(location, run.name)\n",
    "            location_dfs.append(df)  # 리스트에 추가\n",
    "        \n",
    "        # if vol_idx == 2:\n",
    "        #     break\n",
    "    \n",
    "    # DataFrame 병합\n",
    "    final_df = pd.concat(location_dfs, ignore_index=True)\n",
    "    \n",
    "    # ID 추가 및 CSV 저장\n",
    "    final_df.insert(loc=0, column='id', value=np.arange(len(final_df)))\n",
    "    final_df.to_csv(\"submission.csv\", index=False)\n",
    "    print(\"Submission saved to: submission.csv\")\n"
   ]
  }
 ],
 "metadata": {
  "kernelspec": {
   "display_name": "ship",
   "language": "python",
   "name": "python3"
  },
  "language_info": {
   "codemirror_mode": {
    "name": "ipython",
    "version": 3
   },
   "file_extension": ".py",
   "mimetype": "text/x-python",
   "name": "python",
   "nbconvert_exporter": "python",
   "pygments_lexer": "ipython3",
   "version": "3.12.7"
  }
 },
 "nbformat": 4,
 "nbformat_minor": 2
}
