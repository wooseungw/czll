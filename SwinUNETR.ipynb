{
 "cells": [
  {
   "cell_type": "code",
   "execution_count": 1,
   "metadata": {},
   "outputs": [
    {
     "name": "stdout",
     "output_type": "stream",
     "text": [
      "MONAI version: 1.4.0\n",
      "Numpy version: 1.26.3\n",
      "Pytorch version: 2.4.1+cu121\n",
      "MONAI flags: HAS_EXT = False, USE_COMPILED = False, USE_META_DICT = False\n",
      "MONAI rev id: 46a5272196a6c2590ca2589029eed8e4d56ff008\n",
      "MONAI __file__: c:\\ProgramData\\anaconda3\\envs\\ship\\Lib\\site-packages\\monai\\__init__.py\n",
      "\n",
      "Optional dependencies:\n",
      "Pytorch Ignite version: NOT INSTALLED or UNKNOWN VERSION.\n",
      "ITK version: NOT INSTALLED or UNKNOWN VERSION.\n",
      "Nibabel version: 5.3.2\n",
      "scikit-image version: 0.24.0\n",
      "scipy version: 1.14.1\n",
      "Pillow version: 10.2.0\n",
      "Tensorboard version: NOT INSTALLED or UNKNOWN VERSION.\n",
      "gdown version: 5.2.0\n",
      "TorchVision version: 0.19.1+cu121\n",
      "tqdm version: 4.66.5\n",
      "lmdb version: NOT INSTALLED or UNKNOWN VERSION.\n",
      "psutil version: 6.0.0\n",
      "pandas version: 2.2.3\n",
      "einops version: 0.8.0\n",
      "transformers version: NOT INSTALLED or UNKNOWN VERSION.\n",
      "mlflow version: NOT INSTALLED or UNKNOWN VERSION.\n",
      "pynrrd version: NOT INSTALLED or UNKNOWN VERSION.\n",
      "clearml version: NOT INSTALLED or UNKNOWN VERSION.\n",
      "\n",
      "For details about installing the optional dependencies, please visit:\n",
      "    https://docs.monai.io/en/latest/installation.html#installing-the-recommended-dependencies\n",
      "\n"
     ]
    }
   ],
   "source": [
    "import os\n",
    "import shutil\n",
    "import tempfile\n",
    "\n",
    "import matplotlib.pyplot as plt\n",
    "from tqdm import tqdm\n",
    "\n",
    "from monai.losses import DiceCELoss\n",
    "from monai.inferers import sliding_window_inference\n",
    "from monai.transforms import (\n",
    "    AsDiscrete,\n",
    "    EnsureChannelFirstd,\n",
    "    Compose,\n",
    "    CropForegroundd,\n",
    "    LoadImaged,\n",
    "    Orientationd,\n",
    "    RandFlipd,\n",
    "    RandCropByPosNegLabeld,\n",
    "    RandShiftIntensityd,\n",
    "    ScaleIntensityRanged,\n",
    "    Spacingd,\n",
    "    RandRotate90d,\n",
    ")\n",
    "\n",
    "from monai.config import print_config\n",
    "from monai.metrics import DiceMetric\n",
    "from monai.networks.nets import UNETR, SwinUNETR\n",
    "\n",
    "from monai.data import (\n",
    "    DataLoader,\n",
    "    CacheDataset,\n",
    "    load_decathlon_datalist,\n",
    "    decollate_batch,\n",
    ")\n",
    "\n",
    "\n",
    "import torch\n",
    "\n",
    "print_config()"
   ]
  },
  {
   "cell_type": "code",
   "execution_count": 2,
   "metadata": {},
   "outputs": [
    {
     "name": "stdout",
     "output_type": "stream",
     "text": [
      "클래스 비율: {0: 0.001162385214460072, 1: 0.725328373823085, 2: 0.013134952923398814, 3: 0.024410089503661515, 4: 0.0209229338602813, 5: 0.11740090666046728, 6: 0.09764035801464606}\n",
      "최종 합계: 1.0\n",
      "클래스 비율 리스트: [0.001162385214460072, 0.725328373823085, 0.013134952923398814, 0.024410089503661515, 0.0209229338602813, 0.11740090666046728, 0.09764035801464606]\n"
     ]
    }
   ],
   "source": [
    "class_info = {\n",
    "    0: {\"name\": \"background\", \"weight\": 100},  # weight 없음\n",
    "    1: {\"name\": \"apo-ferritin\", \"weight\": 62400},\n",
    "    2: {\"name\": \"beta-amylase\", \"weight\": 1130}, # 4130\n",
    "    3: {\"name\": \"beta-galactosidase\", \"weight\": 2100}, #3080\n",
    "    4: {\"name\": \"ribosome\", \"weight\": 1800},\n",
    "    5: {\"name\": \"thyroglobulin\", \"weight\": 10100},\n",
    "    6: {\"name\": \"virus-like-particle\", \"weight\": 8400},\n",
    "}\n",
    "\n",
    "# 가중치에 비례한 비율 계산\n",
    "raw_ratios = {\n",
    "    k: (v[\"weight\"] if v[\"weight\"] is not None else 0.01)  # 가중치 비례, None일 경우 기본값\n",
    "    for k, v in class_info.items()\n",
    "}\n",
    "total = sum(raw_ratios.values())\n",
    "ratios = {k: v / total for k, v in raw_ratios.items()}\n",
    "\n",
    "# 최종 합계가 1인지 확인\n",
    "final_total = sum(ratios.values())\n",
    "print(\"클래스 비율:\", ratios)\n",
    "print(\"최종 합계:\", final_total)\n",
    "\n",
    "# 비율을 리스트로 변환\n",
    "ratios_list = [ratios[k] for k in sorted(ratios.keys())]\n",
    "print(\"클래스 비율 리스트:\", ratios_list)"
   ]
  },
  {
   "cell_type": "code",
   "execution_count": 3,
   "metadata": {},
   "outputs": [],
   "source": [
    "from src.dataset.dataset import create_dataloaders\n",
    "from monai.transforms import (\n",
    "    Compose, LoadImaged, EnsureChannelFirstd, NormalizeIntensityd,\n",
    "    Orientationd, CropForegroundd, GaussianSmoothd, ScaleIntensityd,\n",
    "    RandSpatialCropd, RandRotate90d, RandFlipd, RandGaussianNoised,\n",
    "    ToTensord, RandCropByLabelClassesd\n",
    ")\n",
    "\n",
    "train_img_dir = \"./datasets/train/images\"\n",
    "train_label_dir = \"./datasets/train/labels\"\n",
    "val_img_dir = \"./datasets/val/images\"\n",
    "val_label_dir = \"./datasets/val/labels\"\n",
    "img_depth = 96\n",
    "img_size = 96  # Match your patch size\n",
    "n_classes = 7\n",
    "batch_size = 2 # 13.8GB GPU memory required for 128x128 img size\n",
    "num_samples = batch_size # 한 이미지에서 뽑을 샘플 수\n",
    "loader_batch = 1\n",
    "\n",
    "non_random_transforms = Compose([\n",
    "    EnsureChannelFirstd(keys=[\"image\", \"label\"], channel_dim=\"no_channel\"),\n",
    "    NormalizeIntensityd(keys=\"image\"),\n",
    "    Orientationd(keys=[\"image\", \"label\"], axcodes=\"RAS\"),\n",
    "    GaussianSmoothd(\n",
    "        keys=[\"image\"],      # 변환을 적용할 키\n",
    "        sigma=[1.0, 1.0, 1.0]  # 각 축(x, y, z)의 시그마 값\n",
    "        ),\n",
    "])\n",
    "random_transforms = Compose([\n",
    "    \n",
    "    RandCropByLabelClassesd(\n",
    "        keys=[\"image\", \"label\"],\n",
    "        label_key=\"label\",\n",
    "        spatial_size=[img_depth, img_size, img_size],\n",
    "        num_classes=n_classes,\n",
    "        num_samples=num_samples, \n",
    "        ratios=ratios_list,\n",
    "    ),\n",
    "    RandRotate90d(keys=[\"image\", \"label\"], prob=0.5, spatial_axes=[1, 2]),\n",
    "    RandFlipd(keys=[\"image\", \"label\"], prob=0.5, spatial_axis=0),\n",
    "])\n"
   ]
  },
  {
   "cell_type": "code",
   "execution_count": 4,
   "metadata": {},
   "outputs": [
    {
     "name": "stderr",
     "output_type": "stream",
     "text": [
      "Loading dataset: 100%|██████████| 24/24 [00:38<00:00,  1.60s/it]\n",
      "Loading dataset: 100%|██████████| 4/4 [00:06<00:00,  1.58s/it]\n"
     ]
    }
   ],
   "source": [
    "train_loader, val_loader = None, None\n",
    "train_loader, val_loader = create_dataloaders(\n",
    "    train_img_dir, \n",
    "    train_label_dir, \n",
    "    val_img_dir, \n",
    "    val_label_dir, \n",
    "    non_random_transforms = non_random_transforms, \n",
    "    random_transforms = random_transforms, \n",
    "    batch_size = loader_batch,\n",
    "    num_workers=0)"
   ]
  },
  {
   "cell_type": "markdown",
   "metadata": {},
   "source": [
    "https://monai.io/model-zoo.html"
   ]
  },
  {
   "cell_type": "code",
   "execution_count": 5,
   "metadata": {},
   "outputs": [
    {
     "name": "stderr",
     "output_type": "stream",
     "text": [
      "c:\\ProgramData\\anaconda3\\envs\\ship\\Lib\\site-packages\\monai\\utils\\deprecate_utils.py:221: FutureWarning: monai.networks.nets.swin_unetr SwinUNETR.__init__:img_size: Argument `img_size` has been deprecated since version 1.3. It will be removed in version 1.5. The img_size argument is not required anymore and checks on the input size are run during forward().\n",
      "  warn_deprecated(argname, msg, warning_category)\n",
      "C:\\Users\\Seungwoo\\AppData\\Local\\Temp\\ipykernel_26096\\2541161994.py:27: FutureWarning: You are using `torch.load` with `weights_only=False` (the current default value), which uses the default pickle module implicitly. It is possible to construct malicious pickle data which will execute arbitrary code during unpickling (See https://github.com/pytorch/pytorch/blob/main/SECURITY.md#untrusted-models for more details). In a future release, the default value for `weights_only` will be flipped to `True`. This limits the functions that could be executed during unpickling. Arbitrary objects will no longer be allowed to be loaded via this mode unless they are explicitly allowlisted by the user via `torch.serialization.add_safe_globals`. We recommend you start setting `weights_only=True` for any use case where you don't have full control of the loaded file. Please open an issue on GitHub for any issues related to this experimental feature.\n",
      "  weight = torch.load(pretrain_path, map_location=device)\n"
     ]
    },
    {
     "name": "stdout",
     "output_type": "stream",
     "text": [
      "Filtered weights loaded successfully. Output layer will be trained from scratch.\n"
     ]
    }
   ],
   "source": [
    "import torch.optim as optim\n",
    "from tqdm import tqdm\n",
    "import numpy as np\n",
    "import torch\n",
    "from monai.losses import TverskyLoss\n",
    "from pathlib import Path\n",
    "from monai.metrics import DiceMetric\n",
    "# Model Configuration\n",
    "start_epoch = 0\n",
    "best_val_loss = float('inf')\n",
    "\n",
    "# Training setup\n",
    "num_epochs = 4000\n",
    "lamda = 0.52\n",
    "lr = 0.001\n",
    "\n",
    "device = torch.device(\"cuda\" if torch.cuda.is_available() else \"cpu\")\n",
    "pretrain_path = \"./swin_unetr_btcv_segmentation/models/model.pt\"\n",
    "model = SwinUNETR(\n",
    "    img_size=(img_depth, img_size, img_size),\n",
    "    in_channels=1,\n",
    "    out_channels=n_classes,\n",
    "    feature_size=48,\n",
    "    use_checkpoint=True,\n",
    ").to(device)\n",
    "# Pretrained weights 불러오기\n",
    "weight = torch.load(pretrain_path, map_location=device)\n",
    "\n",
    "# 출력 레이어의 키를 제외한 나머지 가중치만 로드\n",
    "filtered_weights = {k: v for k, v in weight.items() if \"out.conv.conv\" not in k}\n",
    "\n",
    "# strict=False로 로드하여 불일치하는 부분 무시\n",
    "model.load_state_dict(filtered_weights, strict=False)\n",
    "print(\"Filtered weights loaded successfully. Output layer will be trained from scratch.\")\n",
    "\n",
    "# Load pretrained weights\n",
    "# model.load_from(weights=np.load(config_vit.real_pretrained_path, allow_pickle=True))\n",
    "\n",
    "# TverskyLoss 설정\n",
    "criterion = TverskyLoss(\n",
    "    alpha=1- lamda,  # FP에 대한 가중치\n",
    "    beta= lamda,  # FN에 대한 가중치\n",
    "    include_background=False,\n",
    "    softmax=True\n",
    ")\n",
    "\n",
    "# 체크포인트 디렉토리 및 파일 설정\n",
    "checkpoint_base_dir = Path(\"./model_checkpoints\")\n",
    "checkpoint_dir = checkpoint_base_dir / f\"SwinUNETR{img_depth}_{img_size}_lr{lr}_lambda{lamda}_batch{batch_size}\"\n",
    "optimizer = optim.AdamW(model.parameters(), lr=lr, weight_decay=1e-5)\n",
    "\n",
    "# 체크포인트 디렉토리 생성\n",
    "checkpoint_dir.mkdir(parents=True, exist_ok=True)\n",
    "\n",
    "if checkpoint_dir.exists():\n",
    "    best_model_path = checkpoint_dir / 'best_model.pt'\n",
    "    if best_model_path.exists():\n",
    "        print(f\"기존 best model 발견: {best_model_path}\")\n",
    "        try:\n",
    "            checkpoint = torch.load(best_model_path, map_location=device)\n",
    "            # 체크포인트 내부 키 검증\n",
    "            required_keys = ['model_state_dict', 'optimizer_state_dict', 'epoch', 'best_val_loss']\n",
    "            if all(k in checkpoint for k in required_keys):\n",
    "                model.load_state_dict(checkpoint['model_state_dict'])\n",
    "                optimizer.load_state_dict(checkpoint['optimizer_state_dict'])\n",
    "                start_epoch = checkpoint['epoch']\n",
    "                best_val_loss = checkpoint['best_val_loss']\n",
    "                print(\"기존 학습된 가중치를 성공적으로 로드했습니다.\")\n",
    "            else:\n",
    "                raise ValueError(\"체크포인트 파일에 필요한 key가 없습니다.\")\n",
    "        except Exception as e:\n",
    "            print(f\"체크포인트 파일을 로드하는 중 오류 발생: {e}\")\n"
   ]
  },
  {
   "cell_type": "code",
   "execution_count": 6,
   "metadata": {},
   "outputs": [
    {
     "name": "stdout",
     "output_type": "stream",
     "text": [
      "torch.Size([2, 1, 96, 96, 96]) torch.Size([2, 1, 96, 96, 96])\n"
     ]
    }
   ],
   "source": [
    "batch = next(iter(val_loader))\n",
    "images, labels = batch[\"image\"], batch[\"label\"]\n",
    "print(images.shape, labels.shape)"
   ]
  },
  {
   "cell_type": "code",
   "execution_count": 7,
   "metadata": {},
   "outputs": [],
   "source": [
    "torch.backends.cudnn.benchmark = True"
   ]
  },
  {
   "cell_type": "code",
   "execution_count": 8,
   "metadata": {},
   "outputs": [
    {
     "name": "stdout",
     "output_type": "stream",
     "text": [
      "Epoch 1/4000\n"
     ]
    },
    {
     "name": "stderr",
     "output_type": "stream",
     "text": [
      "Training:   0%|          | 0/24 [00:00<?, ?it/s]c:\\ProgramData\\anaconda3\\envs\\ship\\Lib\\site-packages\\torch\\utils\\checkpoint.py:1399: FutureWarning: `torch.cpu.amp.autocast(args...)` is deprecated. Please use `torch.amp.autocast('cpu', args...)` instead.\n",
      "  with device_autocast_ctx, torch.cpu.amp.autocast(**cpu_autocast_kwargs), recompute_context:  # type: ignore[attr-defined]\n",
      "Training: 100%|██████████| 24/24 [00:53<00:00,  2.25s/it, loss=0.994]\n",
      "Validation: 100%|██████████| 4/4 [00:03<00:00,  1.02it/s, loss=0.992]\n"
     ]
    },
    {
     "name": "stdout",
     "output_type": "stream",
     "text": [
      "Validation Dice Score\n",
      "Class 0: 0.5776, Class 1: 0.0125, Class 2: 0.0000, Class 3: 0.0000, \n",
      "Class 4: 0.0019, Class 5: 0.1248, Class 6: 0.2523, \n",
      "Training Loss: 0.9893, Validation Loss: 0.9729\n",
      "========================================================\n",
      "Best model saved with validation loss: 0.9729\n",
      "========================================================\n",
      "Epoch 2/4000\n"
     ]
    },
    {
     "name": "stderr",
     "output_type": "stream",
     "text": [
      "Training: 100%|██████████| 24/24 [00:53<00:00,  2.22s/it, loss=0.992]\n",
      "Validation: 100%|██████████| 4/4 [00:04<00:00,  1.10s/it, loss=0.973]\n"
     ]
    },
    {
     "name": "stdout",
     "output_type": "stream",
     "text": [
      "Validation Dice Score\n",
      "Class 0: 0.6379, Class 1: 0.0625, Class 2: 0.0014, Class 3: 0.0000, \n",
      "Class 4: 0.0124, Class 5: 0.0918, Class 6: 0.0881, \n",
      "Training Loss: 0.9834, Validation Loss: 0.9716\n",
      "========================================================\n",
      "Best model saved with validation loss: 0.9716\n",
      "========================================================\n",
      "Epoch 3/4000\n"
     ]
    },
    {
     "name": "stderr",
     "output_type": "stream",
     "text": [
      "Training: 100%|██████████| 24/24 [00:51<00:00,  2.14s/it, loss=0.938]\n",
      "Validation: 100%|██████████| 4/4 [00:04<00:00,  1.10s/it, loss=0.911]\n"
     ]
    },
    {
     "name": "stdout",
     "output_type": "stream",
     "text": [
      "Validation Dice Score\n",
      "Class 0: 0.6738, Class 1: 0.1830, Class 2: 0.0009, Class 3: 0.0000, \n",
      "Class 4: 0.1751, Class 5: 0.0954, Class 6: 0.5061, \n",
      "Training Loss: 0.9505, Validation Loss: 0.9074\n",
      "========================================================\n",
      "Best model saved with validation loss: 0.9074\n",
      "========================================================\n",
      "Epoch 4/4000\n"
     ]
    },
    {
     "name": "stderr",
     "output_type": "stream",
     "text": [
      "Training: 100%|██████████| 24/24 [00:53<00:00,  2.23s/it, loss=0.915]\n",
      "Validation: 100%|██████████| 4/4 [00:04<00:00,  1.17s/it, loss=0.947]\n"
     ]
    },
    {
     "name": "stdout",
     "output_type": "stream",
     "text": [
      "Validation Dice Score\n",
      "Class 0: 0.6463, Class 1: 0.3043, Class 2: 0.0010, Class 3: 0.0000, \n",
      "Class 4: 0.1142, Class 5: 0.1032, Class 6: 0.3547, \n",
      "Training Loss: 0.9219, Validation Loss: 0.8799\n",
      "========================================================\n",
      "Best model saved with validation loss: 0.8799\n",
      "========================================================\n",
      "Epoch 5/4000\n"
     ]
    },
    {
     "name": "stderr",
     "output_type": "stream",
     "text": [
      "Training: 100%|██████████| 24/24 [00:52<00:00,  2.20s/it, loss=0.897]\n",
      "Validation: 100%|██████████| 4/4 [00:04<00:00,  1.10s/it, loss=0.918]\n"
     ]
    },
    {
     "name": "stdout",
     "output_type": "stream",
     "text": [
      "Validation Dice Score\n",
      "Class 0: 0.6341, Class 1: 0.3872, Class 2: 0.0032, Class 3: 0.0000, \n",
      "Class 4: 0.0586, Class 5: 0.1926, Class 6: 0.1757, \n",
      "Training Loss: 0.8722, Validation Loss: 0.8764\n",
      "========================================================\n",
      "Best model saved with validation loss: 0.8764\n",
      "========================================================\n",
      "Epoch 6/4000\n"
     ]
    },
    {
     "name": "stderr",
     "output_type": "stream",
     "text": [
      "Training: 100%|██████████| 24/24 [00:50<00:00,  2.11s/it, loss=0.805]\n",
      "Validation: 100%|██████████| 4/4 [00:04<00:00,  1.12s/it, loss=0.817]\n"
     ]
    },
    {
     "name": "stdout",
     "output_type": "stream",
     "text": [
      "Validation Dice Score\n",
      "Class 0: 0.6687, Class 1: 0.4182, Class 2: 0.0006, Class 3: 0.0028, \n",
      "Class 4: 0.1623, Class 5: 0.2672, Class 6: 0.4328, \n",
      "Training Loss: 0.8564, Validation Loss: 0.8287\n",
      "========================================================\n",
      "Best model saved with validation loss: 0.8287\n",
      "========================================================\n",
      "Epoch 7/4000\n"
     ]
    },
    {
     "name": "stderr",
     "output_type": "stream",
     "text": [
      "Training: 100%|██████████| 24/24 [00:52<00:00,  2.20s/it, loss=0.758]\n",
      "Validation: 100%|██████████| 4/4 [00:05<00:00,  1.38s/it, loss=0.876]\n"
     ]
    },
    {
     "name": "stdout",
     "output_type": "stream",
     "text": [
      "Validation Dice Score\n",
      "Class 0: 0.6514, Class 1: 0.4534, Class 2: 0.0006, Class 3: 0.0000, \n",
      "Class 4: 0.2018, Class 5: 0.2305, Class 6: 0.5204, \n",
      "Training Loss: 0.8596, Validation Loss: 0.8152\n",
      "========================================================\n",
      "Best model saved with validation loss: 0.8152\n",
      "========================================================\n",
      "Epoch 8/4000\n"
     ]
    },
    {
     "name": "stderr",
     "output_type": "stream",
     "text": [
      "Training: 100%|██████████| 24/24 [00:52<00:00,  2.20s/it, loss=0.819]\n",
      "Validation: 100%|██████████| 4/4 [00:04<00:00,  1.11s/it, loss=0.716]\n"
     ]
    },
    {
     "name": "stdout",
     "output_type": "stream",
     "text": [
      "Validation Dice Score\n",
      "Class 0: 0.6845, Class 1: 0.5599, Class 2: 0.0001, Class 3: 0.0000, \n",
      "Class 4: 0.2154, Class 5: 0.2317, Class 6: 0.6773, \n",
      "Training Loss: 0.8709, Validation Loss: 0.7652\n",
      "========================================================\n",
      "Best model saved with validation loss: 0.7652\n",
      "========================================================\n",
      "Epoch 9/4000\n"
     ]
    },
    {
     "name": "stderr",
     "output_type": "stream",
     "text": [
      "Training: 100%|██████████| 24/24 [00:51<00:00,  2.14s/it, loss=0.923]\n",
      "Validation: 100%|██████████| 4/4 [00:04<00:00,  1.14s/it, loss=0.784]\n"
     ]
    },
    {
     "name": "stdout",
     "output_type": "stream",
     "text": [
      "Validation Dice Score\n",
      "Class 0: 0.6717, Class 1: 0.1045, Class 2: 0.0000, Class 3: 0.0198, \n",
      "Class 4: 0.2981, Class 5: 0.2795, Class 6: 0.5007, \n",
      "Training Loss: 0.8292, Validation Loss: 0.8239\n",
      "Epoch 10/4000\n"
     ]
    },
    {
     "name": "stderr",
     "output_type": "stream",
     "text": [
      "Training: 100%|██████████| 24/24 [00:51<00:00,  2.14s/it, loss=0.816]\n",
      "Validation: 100%|██████████| 4/4 [00:04<00:00,  1.13s/it, loss=0.745]\n"
     ]
    },
    {
     "name": "stdout",
     "output_type": "stream",
     "text": [
      "Validation Dice Score\n",
      "Class 0: 0.6735, Class 1: 0.5112, Class 2: 0.0009, Class 3: 0.0340, \n",
      "Class 4: 0.4332, Class 5: 0.2245, Class 6: 0.2825, \n",
      "Training Loss: 0.8353, Validation Loss: 0.7946\n",
      "Epoch 11/4000\n"
     ]
    },
    {
     "name": "stderr",
     "output_type": "stream",
     "text": [
      "Training: 100%|██████████| 24/24 [00:52<00:00,  2.17s/it, loss=0.87] \n",
      "Validation: 100%|██████████| 4/4 [00:04<00:00,  1.18s/it, loss=0.836]\n"
     ]
    },
    {
     "name": "stdout",
     "output_type": "stream",
     "text": [
      "Validation Dice Score\n",
      "Class 0: 0.6721, Class 1: 0.4545, Class 2: 0.0004, Class 3: 0.0152, \n",
      "Class 4: 0.4389, Class 5: 0.2046, Class 6: 0.3471, \n",
      "Training Loss: 0.8256, Validation Loss: 0.7972\n",
      "Epoch 12/4000\n"
     ]
    },
    {
     "name": "stderr",
     "output_type": "stream",
     "text": [
      "Training: 100%|██████████| 24/24 [00:53<00:00,  2.24s/it, loss=0.85] \n",
      "Validation: 100%|██████████| 4/4 [00:04<00:00,  1.18s/it, loss=0.805]\n"
     ]
    },
    {
     "name": "stdout",
     "output_type": "stream",
     "text": [
      "Validation Dice Score\n",
      "Class 0: 0.6754, Class 1: 0.5615, Class 2: 0.0014, Class 3: 0.0441, \n",
      "Class 4: 0.3329, Class 5: 0.2878, Class 6: 0.1901, \n",
      "Training Loss: 0.8252, Validation Loss: 0.7840\n",
      "Epoch 13/4000\n"
     ]
    },
    {
     "name": "stderr",
     "output_type": "stream",
     "text": [
      "Training: 100%|██████████| 24/24 [00:54<00:00,  2.25s/it, loss=0.821]\n",
      "Validation: 100%|██████████| 4/4 [00:04<00:00,  1.10s/it, loss=0.833]\n"
     ]
    },
    {
     "name": "stdout",
     "output_type": "stream",
     "text": [
      "Validation Dice Score\n",
      "Class 0: 0.6647, Class 1: 0.6181, Class 2: 0.0019, Class 3: 0.0230, \n",
      "Class 4: 0.3208, Class 5: 0.1321, Class 6: 0.4370, \n",
      "Training Loss: 0.8206, Validation Loss: 0.7862\n",
      "Epoch 14/4000\n"
     ]
    },
    {
     "name": "stderr",
     "output_type": "stream",
     "text": [
      "Training: 100%|██████████| 24/24 [00:51<00:00,  2.14s/it, loss=0.842]\n",
      "Validation: 100%|██████████| 4/4 [00:04<00:00,  1.12s/it, loss=0.775]\n"
     ]
    },
    {
     "name": "stdout",
     "output_type": "stream",
     "text": [
      "Validation Dice Score\n",
      "Class 0: 0.6708, Class 1: 0.6712, Class 2: 0.0022, Class 3: 0.0638, \n",
      "Class 4: 0.2292, Class 5: 0.2213, Class 6: 0.3670, \n",
      "Training Loss: 0.8261, Validation Loss: 0.7731\n",
      "Epoch 15/4000\n"
     ]
    },
    {
     "name": "stderr",
     "output_type": "stream",
     "text": [
      "Training: 100%|██████████| 24/24 [00:53<00:00,  2.23s/it, loss=0.815]\n",
      "Validation: 100%|██████████| 4/4 [00:04<00:00,  1.16s/it, loss=0.682]\n"
     ]
    },
    {
     "name": "stdout",
     "output_type": "stream",
     "text": [
      "Validation Dice Score\n",
      "Class 0: 0.6851, Class 1: 0.6059, Class 2: 0.0000, Class 3: 0.0000, \n",
      "Class 4: 0.1426, Class 5: 0.2436, Class 6: 0.6653, \n",
      "Training Loss: 0.7974, Validation Loss: 0.7722\n",
      "Epoch 16/4000\n"
     ]
    },
    {
     "name": "stderr",
     "output_type": "stream",
     "text": [
      "Training: 100%|██████████| 24/24 [00:52<00:00,  2.20s/it, loss=0.735]\n",
      "Validation: 100%|██████████| 4/4 [00:04<00:00,  1.12s/it, loss=0.767]\n"
     ]
    },
    {
     "name": "stdout",
     "output_type": "stream",
     "text": [
      "Validation Dice Score\n",
      "Class 0: 0.6712, Class 1: 0.5660, Class 2: 0.0007, Class 3: 0.0274, \n",
      "Class 4: 0.2980, Class 5: 0.1373, Class 6: 0.5332, \n",
      "Training Loss: 0.7984, Validation Loss: 0.7900\n",
      "Epoch 17/4000\n"
     ]
    },
    {
     "name": "stderr",
     "output_type": "stream",
     "text": [
      "Training: 100%|██████████| 24/24 [00:51<00:00,  2.15s/it, loss=0.724]\n",
      "Validation: 100%|██████████| 4/4 [00:04<00:00,  1.07s/it, loss=0.78] \n"
     ]
    },
    {
     "name": "stdout",
     "output_type": "stream",
     "text": [
      "Validation Dice Score\n",
      "Class 0: 0.6515, Class 1: 0.7352, Class 2: 0.0003, Class 3: 0.0198, \n",
      "Class 4: 0.0748, Class 5: 0.2244, Class 6: 0.6420, \n",
      "Training Loss: 0.7941, Validation Loss: 0.7684\n",
      "Epoch 18/4000\n"
     ]
    },
    {
     "name": "stderr",
     "output_type": "stream",
     "text": [
      "Training: 100%|██████████| 24/24 [00:51<00:00,  2.13s/it, loss=0.833]\n",
      "Validation: 100%|██████████| 4/4 [00:04<00:00,  1.06s/it, loss=0.821]\n"
     ]
    },
    {
     "name": "stdout",
     "output_type": "stream",
     "text": [
      "Validation Dice Score\n",
      "Class 0: 0.6423, Class 1: 0.5551, Class 2: 0.0009, Class 3: 0.0258, \n",
      "Class 4: 0.2545, Class 5: 0.3468, Class 6: 0.7344, \n",
      "Training Loss: 0.8077, Validation Loss: 0.7405\n",
      "========================================================\n",
      "Best model saved with validation loss: 0.7405\n",
      "========================================================\n",
      "Epoch 19/4000\n"
     ]
    },
    {
     "name": "stderr",
     "output_type": "stream",
     "text": [
      "Training: 100%|██████████| 24/24 [00:52<00:00,  2.19s/it, loss=0.752]\n",
      "Validation: 100%|██████████| 4/4 [00:04<00:00,  1.15s/it, loss=0.736]\n"
     ]
    },
    {
     "name": "stdout",
     "output_type": "stream",
     "text": [
      "Validation Dice Score\n",
      "Class 0: 0.6596, Class 1: 0.6850, Class 2: 0.0017, Class 3: 0.0216, \n",
      "Class 4: 0.2389, Class 5: 0.1750, Class 6: 0.4496, \n",
      "Training Loss: 0.8034, Validation Loss: 0.7574\n",
      "Epoch 20/4000\n"
     ]
    },
    {
     "name": "stderr",
     "output_type": "stream",
     "text": [
      "Training: 100%|██████████| 24/24 [00:55<00:00,  2.33s/it, loss=0.886]\n",
      "Validation: 100%|██████████| 4/4 [00:04<00:00,  1.09s/it, loss=0.811]\n"
     ]
    },
    {
     "name": "stdout",
     "output_type": "stream",
     "text": [
      "Validation Dice Score\n",
      "Class 0: 0.6702, Class 1: 0.1876, Class 2: 0.0001, Class 3: 0.0008, \n",
      "Class 4: 0.3171, Class 5: 0.2018, Class 6: 0.3994, \n",
      "Training Loss: 0.7950, Validation Loss: 0.8483\n",
      "Epoch 21/4000\n"
     ]
    },
    {
     "name": "stderr",
     "output_type": "stream",
     "text": [
      "Training: 100%|██████████| 24/24 [00:52<00:00,  2.20s/it, loss=0.823]\n",
      "Validation: 100%|██████████| 4/4 [00:04<00:00,  1.16s/it, loss=0.678]\n"
     ]
    },
    {
     "name": "stdout",
     "output_type": "stream",
     "text": [
      "Validation Dice Score\n",
      "Class 0: 0.6760, Class 1: 0.5655, Class 2: 0.0016, Class 3: 0.0241, \n",
      "Class 4: 0.3948, Class 5: 0.2805, Class 6: 0.7453, \n",
      "Training Loss: 0.7966, Validation Loss: 0.7448\n",
      "Epoch 22/4000\n"
     ]
    },
    {
     "name": "stderr",
     "output_type": "stream",
     "text": [
      "Training: 100%|██████████| 24/24 [00:51<00:00,  2.16s/it, loss=0.823]\n",
      "Validation: 100%|██████████| 4/4 [00:06<00:00,  1.64s/it, loss=0.694]\n"
     ]
    },
    {
     "name": "stdout",
     "output_type": "stream",
     "text": [
      "Validation Dice Score\n",
      "Class 0: 0.6802, Class 1: 0.7521, Class 2: 0.0008, Class 3: 0.0796, \n",
      "Class 4: 0.2764, Class 5: 0.1847, Class 6: 0.5420, \n",
      "Training Loss: 0.7897, Validation Loss: 0.7202\n",
      "========================================================\n",
      "Best model saved with validation loss: 0.7202\n",
      "========================================================\n",
      "Epoch 23/4000\n"
     ]
    },
    {
     "name": "stderr",
     "output_type": "stream",
     "text": [
      "Training: 100%|██████████| 24/24 [00:52<00:00,  2.18s/it, loss=0.736]\n",
      "Validation: 100%|██████████| 4/4 [00:04<00:00,  1.13s/it, loss=0.673]\n"
     ]
    },
    {
     "name": "stdout",
     "output_type": "stream",
     "text": [
      "Validation Dice Score\n",
      "Class 0: 0.6563, Class 1: 0.6645, Class 2: 0.0019, Class 3: 0.0705, \n",
      "Class 4: 0.3403, Class 5: 0.1827, Class 6: 0.6230, \n",
      "Training Loss: 0.8121, Validation Loss: 0.7290\n",
      "Epoch 24/4000\n"
     ]
    },
    {
     "name": "stderr",
     "output_type": "stream",
     "text": [
      "Training: 100%|██████████| 24/24 [00:54<00:00,  2.27s/it, loss=0.799]\n",
      "Validation: 100%|██████████| 4/4 [00:04<00:00,  1.15s/it, loss=0.705]\n"
     ]
    },
    {
     "name": "stdout",
     "output_type": "stream",
     "text": [
      "Validation Dice Score\n",
      "Class 0: 0.6674, Class 1: 0.6940, Class 2: 0.0019, Class 3: 0.1035, \n",
      "Class 4: 0.3942, Class 5: 0.1381, Class 6: 0.7147, \n",
      "Training Loss: 0.7999, Validation Loss: 0.7188\n",
      "========================================================\n",
      "Best model saved with validation loss: 0.7188\n",
      "========================================================\n",
      "Epoch 25/4000\n"
     ]
    },
    {
     "name": "stderr",
     "output_type": "stream",
     "text": [
      "Training: 100%|██████████| 24/24 [00:54<00:00,  2.27s/it, loss=0.711]\n",
      "Validation: 100%|██████████| 4/4 [00:04<00:00,  1.14s/it, loss=0.812]\n"
     ]
    },
    {
     "name": "stdout",
     "output_type": "stream",
     "text": [
      "Validation Dice Score\n",
      "Class 0: 0.6902, Class 1: 0.6941, Class 2: 0.0015, Class 3: 0.0049, \n",
      "Class 4: 0.3220, Class 5: 0.0948, Class 6: 0.5099, \n",
      "Training Loss: 0.7742, Validation Loss: 0.7950\n",
      "Epoch 26/4000\n"
     ]
    },
    {
     "name": "stderr",
     "output_type": "stream",
     "text": [
      "Training: 100%|██████████| 24/24 [00:58<00:00,  2.42s/it, loss=0.698]\n",
      "Validation: 100%|██████████| 4/4 [00:04<00:00,  1.25s/it, loss=0.805]\n"
     ]
    },
    {
     "name": "stdout",
     "output_type": "stream",
     "text": [
      "Validation Dice Score\n",
      "Class 0: 0.6762, Class 1: 0.7145, Class 2: 0.0028, Class 3: 0.0224, \n",
      "Class 4: 0.2970, Class 5: 0.1996, Class 6: 0.7125, \n",
      "Training Loss: 0.7889, Validation Loss: 0.7122\n",
      "========================================================\n",
      "Best model saved with validation loss: 0.7122\n",
      "========================================================\n",
      "Epoch 27/4000\n"
     ]
    },
    {
     "name": "stderr",
     "output_type": "stream",
     "text": [
      "Training: 100%|██████████| 24/24 [00:55<00:00,  2.33s/it, loss=0.817]\n",
      "Validation: 100%|██████████| 4/4 [00:04<00:00,  1.14s/it, loss=0.627]\n"
     ]
    },
    {
     "name": "stdout",
     "output_type": "stream",
     "text": [
      "Validation Dice Score\n",
      "Class 0: 0.6695, Class 1: 0.6197, Class 2: 0.0021, Class 3: 0.1621, \n",
      "Class 4: 0.2675, Class 5: 0.2296, Class 6: 0.7039, \n",
      "Training Loss: 0.7858, Validation Loss: 0.7162\n",
      "Epoch 28/4000\n"
     ]
    },
    {
     "name": "stderr",
     "output_type": "stream",
     "text": [
      "Training: 100%|██████████| 24/24 [00:55<00:00,  2.31s/it, loss=0.797]\n",
      "Validation: 100%|██████████| 4/4 [00:04<00:00,  1.18s/it, loss=0.811]\n"
     ]
    },
    {
     "name": "stdout",
     "output_type": "stream",
     "text": [
      "Validation Dice Score\n",
      "Class 0: 0.6784, Class 1: 0.6926, Class 2: 0.0032, Class 3: 0.0646, \n",
      "Class 4: 0.2991, Class 5: 0.4294, Class 6: 0.6230, \n",
      "Training Loss: 0.7776, Validation Loss: 0.6991\n",
      "========================================================\n",
      "Best model saved with validation loss: 0.6991\n",
      "========================================================\n",
      "Epoch 29/4000\n"
     ]
    },
    {
     "name": "stderr",
     "output_type": "stream",
     "text": [
      "Training: 100%|██████████| 24/24 [00:53<00:00,  2.25s/it, loss=0.764]\n",
      "Validation: 100%|██████████| 4/4 [00:04<00:00,  1.15s/it, loss=0.706]\n"
     ]
    },
    {
     "name": "stdout",
     "output_type": "stream",
     "text": [
      "Validation Dice Score\n",
      "Class 0: 0.6816, Class 1: 0.5611, Class 2: 0.0011, Class 3: 0.0504, \n",
      "Class 4: 0.2637, Class 5: 0.2996, Class 6: 0.3865, \n",
      "Training Loss: 0.7769, Validation Loss: 0.7700\n",
      "Epoch 30/4000\n"
     ]
    },
    {
     "name": "stderr",
     "output_type": "stream",
     "text": [
      "Training: 100%|██████████| 24/24 [00:56<00:00,  2.37s/it, loss=0.862]\n",
      "Validation: 100%|██████████| 4/4 [00:04<00:00,  1.23s/it, loss=0.823]\n"
     ]
    },
    {
     "name": "stdout",
     "output_type": "stream",
     "text": [
      "Validation Dice Score\n",
      "Class 0: 0.6846, Class 1: 0.7038, Class 2: 0.0000, Class 3: 0.0835, \n",
      "Class 4: 0.3351, Class 5: 0.3088, Class 6: 0.7774, \n",
      "Training Loss: 0.7794, Validation Loss: 0.7084\n",
      "Epoch 31/4000\n"
     ]
    },
    {
     "name": "stderr",
     "output_type": "stream",
     "text": [
      "Training: 100%|██████████| 24/24 [00:53<00:00,  2.22s/it, loss=0.738]\n",
      "Validation: 100%|██████████| 4/4 [00:04<00:00,  1.09s/it, loss=0.583]\n"
     ]
    },
    {
     "name": "stdout",
     "output_type": "stream",
     "text": [
      "Validation Dice Score\n",
      "Class 0: 0.6880, Class 1: 0.7357, Class 2: 0.0002, Class 3: 0.0935, \n",
      "Class 4: 0.4039, Class 5: 0.3071, Class 6: 0.3664, \n",
      "Training Loss: 0.8086, Validation Loss: 0.7103\n",
      "Epoch 32/4000\n"
     ]
    },
    {
     "name": "stderr",
     "output_type": "stream",
     "text": [
      "Training: 100%|██████████| 24/24 [00:50<00:00,  2.12s/it, loss=0.828]\n",
      "Validation: 100%|██████████| 4/4 [00:04<00:00,  1.08s/it, loss=0.825]\n"
     ]
    },
    {
     "name": "stdout",
     "output_type": "stream",
     "text": [
      "Validation Dice Score\n",
      "Class 0: 0.6805, Class 1: 0.3776, Class 2: 0.0014, Class 3: 0.1010, \n",
      "Class 4: 0.4489, Class 5: 0.3648, Class 6: 0.7831, \n",
      "Training Loss: 0.7907, Validation Loss: 0.7028\n",
      "Epoch 33/4000\n"
     ]
    },
    {
     "name": "stderr",
     "output_type": "stream",
     "text": [
      "Training: 100%|██████████| 24/24 [00:52<00:00,  2.18s/it, loss=0.856]\n",
      "Validation: 100%|██████████| 4/4 [00:04<00:00,  1.23s/it, loss=0.756]\n"
     ]
    },
    {
     "name": "stdout",
     "output_type": "stream",
     "text": [
      "Validation Dice Score\n",
      "Class 0: 0.6803, Class 1: 0.5589, Class 2: 0.0000, Class 3: 0.0396, \n",
      "Class 4: 0.3134, Class 5: 0.2279, Class 6: 0.5934, \n",
      "Training Loss: 0.7711, Validation Loss: 0.7992\n",
      "Epoch 34/4000\n"
     ]
    },
    {
     "name": "stderr",
     "output_type": "stream",
     "text": [
      "Training: 100%|██████████| 24/24 [00:52<00:00,  2.19s/it, loss=0.733]\n",
      "Validation: 100%|██████████| 4/4 [00:04<00:00,  1.17s/it, loss=0.678]\n"
     ]
    },
    {
     "name": "stdout",
     "output_type": "stream",
     "text": [
      "Validation Dice Score\n",
      "Class 0: 0.6851, Class 1: 0.6130, Class 2: 0.0018, Class 3: 0.1630, \n",
      "Class 4: 0.4578, Class 5: 0.3147, Class 6: 0.4046, \n",
      "Training Loss: 0.7623, Validation Loss: 0.7398\n",
      "Epoch 35/4000\n"
     ]
    },
    {
     "name": "stderr",
     "output_type": "stream",
     "text": [
      "Training: 100%|██████████| 24/24 [00:49<00:00,  2.08s/it, loss=0.782]\n",
      "Validation: 100%|██████████| 4/4 [00:04<00:00,  1.13s/it, loss=0.739]\n"
     ]
    },
    {
     "name": "stdout",
     "output_type": "stream",
     "text": [
      "Validation Dice Score\n",
      "Class 0: 0.6731, Class 1: 0.7370, Class 2: 0.0008, Class 3: 0.0474, \n",
      "Class 4: 0.5682, Class 5: 0.2525, Class 6: 0.1958, \n",
      "Training Loss: 0.7708, Validation Loss: 0.7667\n",
      "Epoch 36/4000\n"
     ]
    },
    {
     "name": "stderr",
     "output_type": "stream",
     "text": [
      "Training: 100%|██████████| 24/24 [00:50<00:00,  2.08s/it, loss=0.803]\n",
      "Validation: 100%|██████████| 4/4 [00:04<00:00,  1.14s/it, loss=0.648]\n"
     ]
    },
    {
     "name": "stdout",
     "output_type": "stream",
     "text": [
      "Validation Dice Score\n",
      "Class 0: 0.6635, Class 1: 0.6665, Class 2: 0.0014, Class 3: 0.1218, \n",
      "Class 4: 0.3341, Class 5: 0.1563, Class 6: 0.7848, \n",
      "Training Loss: 0.7774, Validation Loss: 0.7353\n",
      "Epoch 37/4000\n"
     ]
    },
    {
     "name": "stderr",
     "output_type": "stream",
     "text": [
      "Training: 100%|██████████| 24/24 [00:50<00:00,  2.10s/it, loss=0.748]\n",
      "Validation: 100%|██████████| 4/4 [00:04<00:00,  1.14s/it, loss=0.628]\n"
     ]
    },
    {
     "name": "stdout",
     "output_type": "stream",
     "text": [
      "Validation Dice Score\n",
      "Class 0: 0.6799, Class 1: 0.5194, Class 2: 0.0017, Class 3: 0.1072, \n",
      "Class 4: 0.2020, Class 5: 0.2957, Class 6: 0.3577, \n",
      "Training Loss: 0.7757, Validation Loss: 0.7918\n",
      "Epoch 38/4000\n"
     ]
    },
    {
     "name": "stderr",
     "output_type": "stream",
     "text": [
      "Training: 100%|██████████| 24/24 [00:49<00:00,  2.08s/it, loss=0.687]\n",
      "Validation: 100%|██████████| 4/4 [00:04<00:00,  1.11s/it, loss=0.884]\n"
     ]
    },
    {
     "name": "stdout",
     "output_type": "stream",
     "text": [
      "Validation Dice Score\n",
      "Class 0: 0.6857, Class 1: 0.6271, Class 2: 0.0009, Class 3: 0.0863, \n",
      "Class 4: 0.1608, Class 5: 0.2587, Class 6: 0.5165, \n",
      "Training Loss: 0.7572, Validation Loss: 0.7888\n",
      "Epoch 39/4000\n"
     ]
    },
    {
     "name": "stderr",
     "output_type": "stream",
     "text": [
      "Training: 100%|██████████| 24/24 [00:50<00:00,  2.09s/it, loss=0.831]\n",
      "Validation: 100%|██████████| 4/4 [00:04<00:00,  1.11s/it, loss=0.695]\n"
     ]
    },
    {
     "name": "stdout",
     "output_type": "stream",
     "text": [
      "Validation Dice Score\n",
      "Class 0: 0.6672, Class 1: 0.6226, Class 2: 0.0012, Class 3: 0.0118, \n",
      "Class 4: 0.4134, Class 5: 0.3285, Class 6: 0.5848, \n",
      "Training Loss: 0.7839, Validation Loss: 0.7351\n",
      "Epoch 40/4000\n"
     ]
    },
    {
     "name": "stderr",
     "output_type": "stream",
     "text": [
      "Training: 100%|██████████| 24/24 [00:50<00:00,  2.10s/it, loss=0.714]\n",
      "Validation: 100%|██████████| 4/4 [00:04<00:00,  1.19s/it, loss=0.753]\n"
     ]
    },
    {
     "name": "stdout",
     "output_type": "stream",
     "text": [
      "Validation Dice Score\n",
      "Class 0: 0.6815, Class 1: 0.7665, Class 2: 0.0004, Class 3: 0.0653, \n",
      "Class 4: 0.2482, Class 5: 0.1836, Class 6: 0.8825, \n",
      "Training Loss: 0.7799, Validation Loss: 0.7346\n",
      "Epoch 41/4000\n"
     ]
    },
    {
     "name": "stderr",
     "output_type": "stream",
     "text": [
      "Training: 100%|██████████| 24/24 [00:50<00:00,  2.09s/it, loss=0.788]\n",
      "Validation: 100%|██████████| 4/4 [00:04<00:00,  1.06s/it, loss=0.806]\n"
     ]
    },
    {
     "name": "stdout",
     "output_type": "stream",
     "text": [
      "Validation Dice Score\n",
      "Class 0: 0.6607, Class 1: 0.6242, Class 2: 0.0041, Class 3: 0.1291, \n",
      "Class 4: 0.2597, Class 5: 0.1742, Class 6: 0.6413, \n",
      "Training Loss: 0.7954, Validation Loss: 0.7404\n",
      "Epoch 42/4000\n"
     ]
    },
    {
     "name": "stderr",
     "output_type": "stream",
     "text": [
      "Training: 100%|██████████| 24/24 [00:49<00:00,  2.08s/it, loss=0.73] \n",
      "Validation: 100%|██████████| 4/4 [00:04<00:00,  1.08s/it, loss=0.622]\n"
     ]
    },
    {
     "name": "stdout",
     "output_type": "stream",
     "text": [
      "Validation Dice Score\n",
      "Class 0: 0.6664, Class 1: 0.7561, Class 2: 0.0020, Class 3: 0.0298, \n",
      "Class 4: 0.2986, Class 5: 0.3841, Class 6: 0.8831, \n",
      "Training Loss: 0.7624, Validation Loss: 0.6848\n",
      "========================================================\n",
      "Best model saved with validation loss: 0.6848\n",
      "========================================================\n",
      "Epoch 43/4000\n"
     ]
    },
    {
     "name": "stderr",
     "output_type": "stream",
     "text": [
      "Training: 100%|██████████| 24/24 [00:50<00:00,  2.09s/it, loss=0.781]\n",
      "Validation: 100%|██████████| 4/4 [00:04<00:00,  1.14s/it, loss=0.665]\n"
     ]
    },
    {
     "name": "stdout",
     "output_type": "stream",
     "text": [
      "Validation Dice Score\n",
      "Class 0: 0.6733, Class 1: 0.7446, Class 2: 0.0009, Class 3: 0.0415, \n",
      "Class 4: 0.2602, Class 5: 0.2453, Class 6: 0.5772, \n",
      "Training Loss: 0.7642, Validation Loss: 0.7308\n",
      "Epoch 44/4000\n"
     ]
    },
    {
     "name": "stderr",
     "output_type": "stream",
     "text": [
      "Training: 100%|██████████| 24/24 [00:50<00:00,  2.10s/it, loss=0.65] \n",
      "Validation: 100%|██████████| 4/4 [00:04<00:00,  1.10s/it, loss=0.659]\n"
     ]
    },
    {
     "name": "stdout",
     "output_type": "stream",
     "text": [
      "Validation Dice Score\n",
      "Class 0: 0.6597, Class 1: 0.7941, Class 2: 0.0023, Class 3: 0.1307, \n",
      "Class 4: 0.6573, Class 5: 0.2987, Class 6: 0.8183, \n",
      "Training Loss: 0.7494, Validation Loss: 0.6746\n",
      "========================================================\n",
      "Best model saved with validation loss: 0.6746\n",
      "========================================================\n",
      "Epoch 45/4000\n"
     ]
    },
    {
     "name": "stderr",
     "output_type": "stream",
     "text": [
      "Training: 100%|██████████| 24/24 [00:50<00:00,  2.10s/it, loss=0.752]\n",
      "Validation: 100%|██████████| 4/4 [00:04<00:00,  1.11s/it, loss=0.699]\n"
     ]
    },
    {
     "name": "stdout",
     "output_type": "stream",
     "text": [
      "Validation Dice Score\n",
      "Class 0: 0.6545, Class 1: 0.7283, Class 2: 0.0000, Class 3: 0.0034, \n",
      "Class 4: 0.4929, Class 5: 0.1666, Class 6: 0.8277, \n",
      "Training Loss: 0.7845, Validation Loss: 0.7084\n",
      "Epoch 46/4000\n"
     ]
    },
    {
     "name": "stderr",
     "output_type": "stream",
     "text": [
      "Training: 100%|██████████| 24/24 [00:50<00:00,  2.12s/it, loss=0.827]\n",
      "Validation: 100%|██████████| 4/4 [00:04<00:00,  1.14s/it, loss=0.664]\n"
     ]
    },
    {
     "name": "stdout",
     "output_type": "stream",
     "text": [
      "Validation Dice Score\n",
      "Class 0: 0.6757, Class 1: 0.5238, Class 2: 0.0009, Class 3: 0.1379, \n",
      "Class 4: 0.2381, Class 5: 0.1923, Class 6: 0.8035, \n",
      "Training Loss: 0.7841, Validation Loss: 0.7596\n",
      "Epoch 47/4000\n"
     ]
    },
    {
     "name": "stderr",
     "output_type": "stream",
     "text": [
      "Training: 100%|██████████| 24/24 [00:50<00:00,  2.09s/it, loss=0.781]\n",
      "Validation: 100%|██████████| 4/4 [00:04<00:00,  1.09s/it, loss=0.813]\n"
     ]
    },
    {
     "name": "stdout",
     "output_type": "stream",
     "text": [
      "Validation Dice Score\n",
      "Class 0: 0.6683, Class 1: 0.6815, Class 2: 0.0017, Class 3: 0.0668, \n",
      "Class 4: 0.2174, Class 5: 0.1741, Class 6: 0.7035, \n",
      "Training Loss: 0.7541, Validation Loss: 0.7316\n",
      "Epoch 48/4000\n"
     ]
    },
    {
     "name": "stderr",
     "output_type": "stream",
     "text": [
      "Training: 100%|██████████| 24/24 [00:49<00:00,  2.08s/it, loss=0.641]\n",
      "Validation: 100%|██████████| 4/4 [00:04<00:00,  1.07s/it, loss=0.839]\n"
     ]
    },
    {
     "name": "stdout",
     "output_type": "stream",
     "text": [
      "Validation Dice Score\n",
      "Class 0: 0.6648, Class 1: 0.6769, Class 2: 0.0008, Class 3: 0.0000, \n",
      "Class 4: 0.3934, Class 5: 0.3350, Class 6: 0.8283, \n",
      "Training Loss: 0.7564, Validation Loss: 0.6649\n",
      "========================================================\n",
      "Best model saved with validation loss: 0.6649\n",
      "========================================================\n",
      "Epoch 49/4000\n"
     ]
    },
    {
     "name": "stderr",
     "output_type": "stream",
     "text": [
      "Training: 100%|██████████| 24/24 [00:50<00:00,  2.11s/it, loss=0.635]\n",
      "Validation: 100%|██████████| 4/4 [00:04<00:00,  1.09s/it, loss=0.734]\n"
     ]
    },
    {
     "name": "stdout",
     "output_type": "stream",
     "text": [
      "Validation Dice Score\n",
      "Class 0: 0.6692, Class 1: 0.7990, Class 2: 0.0026, Class 3: 0.0000, \n",
      "Class 4: 0.2623, Class 5: 0.2511, Class 6: 0.4210, \n",
      "Training Loss: 0.7659, Validation Loss: 0.7673\n",
      "Epoch 50/4000\n"
     ]
    },
    {
     "name": "stderr",
     "output_type": "stream",
     "text": [
      "Training: 100%|██████████| 24/24 [00:50<00:00,  2.09s/it, loss=0.795]\n",
      "Validation: 100%|██████████| 4/4 [00:04<00:00,  1.10s/it, loss=0.769]\n"
     ]
    },
    {
     "name": "stdout",
     "output_type": "stream",
     "text": [
      "Validation Dice Score\n",
      "Class 0: 0.6627, Class 1: 0.7115, Class 2: 0.0006, Class 3: 0.1215, \n",
      "Class 4: 0.1330, Class 5: 0.4329, Class 6: 0.8052, \n",
      "Training Loss: 0.7709, Validation Loss: 0.6940\n",
      "Epoch 51/4000\n"
     ]
    },
    {
     "name": "stderr",
     "output_type": "stream",
     "text": [
      "Training: 100%|██████████| 24/24 [00:50<00:00,  2.09s/it, loss=0.779]\n",
      "Validation: 100%|██████████| 4/4 [00:04<00:00,  1.08s/it, loss=0.765]\n"
     ]
    },
    {
     "name": "stdout",
     "output_type": "stream",
     "text": [
      "Validation Dice Score\n",
      "Class 0: 0.6721, Class 1: 0.4762, Class 2: 0.0009, Class 3: 0.1677, \n",
      "Class 4: 0.3191, Class 5: 0.3839, Class 6: 0.5114, \n",
      "Training Loss: 0.7604, Validation Loss: 0.7532\n",
      "Epoch 52/4000\n"
     ]
    },
    {
     "name": "stderr",
     "output_type": "stream",
     "text": [
      "Training: 100%|██████████| 24/24 [00:50<00:00,  2.09s/it, loss=0.655]\n",
      "Validation: 100%|██████████| 4/4 [00:04<00:00,  1.10s/it, loss=0.833]\n"
     ]
    },
    {
     "name": "stdout",
     "output_type": "stream",
     "text": [
      "Validation Dice Score\n",
      "Class 0: 0.6678, Class 1: 0.5210, Class 2: 0.0011, Class 3: 0.1418, \n",
      "Class 4: 0.2599, Class 5: 0.2929, Class 6: 0.8292, \n",
      "Training Loss: 0.7670, Validation Loss: 0.7279\n",
      "Epoch 53/4000\n"
     ]
    },
    {
     "name": "stderr",
     "output_type": "stream",
     "text": [
      "Training: 100%|██████████| 24/24 [00:50<00:00,  2.08s/it, loss=0.682]\n",
      "Validation: 100%|██████████| 4/4 [00:04<00:00,  1.09s/it, loss=0.95] \n"
     ]
    },
    {
     "name": "stdout",
     "output_type": "stream",
     "text": [
      "Validation Dice Score\n",
      "Class 0: 0.6727, Class 1: 0.5572, Class 2: 0.0003, Class 3: 0.0547, \n",
      "Class 4: 0.0525, Class 5: 0.3116, Class 6: 0.6081, \n",
      "Training Loss: 0.7630, Validation Loss: 0.7585\n",
      "Epoch 54/4000\n"
     ]
    },
    {
     "name": "stderr",
     "output_type": "stream",
     "text": [
      "Training: 100%|██████████| 24/24 [00:50<00:00,  2.10s/it, loss=0.835]\n",
      "Validation: 100%|██████████| 4/4 [00:04<00:00,  1.13s/it, loss=0.722]\n"
     ]
    },
    {
     "name": "stdout",
     "output_type": "stream",
     "text": [
      "Validation Dice Score\n",
      "Class 0: 0.6664, Class 1: 0.8650, Class 2: 0.0014, Class 3: 0.1570, \n",
      "Class 4: 0.4434, Class 5: 0.2982, Class 6: 0.6720, \n",
      "Training Loss: 0.7662, Validation Loss: 0.6928\n",
      "Epoch 55/4000\n"
     ]
    },
    {
     "name": "stderr",
     "output_type": "stream",
     "text": [
      "Training: 100%|██████████| 24/24 [00:49<00:00,  2.08s/it, loss=0.624]\n",
      "Validation: 100%|██████████| 4/4 [00:04<00:00,  1.07s/it, loss=0.702]\n"
     ]
    },
    {
     "name": "stdout",
     "output_type": "stream",
     "text": [
      "Validation Dice Score\n",
      "Class 0: 0.6697, Class 1: 0.8211, Class 2: 0.0028, Class 3: 0.0000, \n",
      "Class 4: 0.2199, Class 5: 0.2456, Class 6: 0.8404, \n",
      "Training Loss: 0.7669, Validation Loss: 0.7275\n",
      "Epoch 56/4000\n"
     ]
    },
    {
     "name": "stderr",
     "output_type": "stream",
     "text": [
      "Training: 100%|██████████| 24/24 [00:50<00:00,  2.09s/it, loss=0.587]\n",
      "Validation: 100%|██████████| 4/4 [00:04<00:00,  1.05s/it, loss=0.739]\n"
     ]
    },
    {
     "name": "stdout",
     "output_type": "stream",
     "text": [
      "Validation Dice Score\n",
      "Class 0: 0.6624, Class 1: 0.7598, Class 2: 0.0000, Class 3: 0.0000, \n",
      "Class 4: 0.3719, Class 5: 0.3655, Class 6: 0.6137, \n",
      "Training Loss: 0.7212, Validation Loss: 0.7316\n",
      "Epoch 57/4000\n"
     ]
    },
    {
     "name": "stderr",
     "output_type": "stream",
     "text": [
      "Training: 100%|██████████| 24/24 [00:50<00:00,  2.10s/it, loss=0.74] \n",
      "Validation: 100%|██████████| 4/4 [00:04<00:00,  1.07s/it, loss=0.715]\n"
     ]
    },
    {
     "name": "stdout",
     "output_type": "stream",
     "text": [
      "Validation Dice Score\n",
      "Class 0: 0.6590, Class 1: 0.7512, Class 2: 0.0015, Class 3: 0.3300, \n",
      "Class 4: 0.5187, Class 5: 0.2753, Class 6: 0.6468, \n",
      "Training Loss: 0.7690, Validation Loss: 0.6472\n",
      "========================================================\n",
      "Best model saved with validation loss: 0.6472\n",
      "========================================================\n",
      "Epoch 58/4000\n"
     ]
    },
    {
     "name": "stderr",
     "output_type": "stream",
     "text": [
      "Training: 100%|██████████| 24/24 [00:52<00:00,  2.17s/it, loss=0.769]\n",
      "Validation: 100%|██████████| 4/4 [00:04<00:00,  1.07s/it, loss=0.745]\n"
     ]
    },
    {
     "name": "stdout",
     "output_type": "stream",
     "text": [
      "Validation Dice Score\n",
      "Class 0: 0.6562, Class 1: 0.5699, Class 2: 0.0008, Class 3: 0.1509, \n",
      "Class 4: 0.5520, Class 5: 0.2323, Class 6: 0.6231, \n",
      "Training Loss: 0.7803, Validation Loss: 0.7244\n",
      "Epoch 59/4000\n"
     ]
    },
    {
     "name": "stderr",
     "output_type": "stream",
     "text": [
      "Training: 100%|██████████| 24/24 [00:50<00:00,  2.09s/it, loss=0.724]\n",
      "Validation: 100%|██████████| 4/4 [00:04<00:00,  1.07s/it, loss=0.772]\n"
     ]
    },
    {
     "name": "stdout",
     "output_type": "stream",
     "text": [
      "Validation Dice Score\n",
      "Class 0: 0.6601, Class 1: 0.7659, Class 2: 0.0021, Class 3: 0.0743, \n",
      "Class 4: 0.4424, Class 5: 0.2790, Class 6: 0.5140, \n",
      "Training Loss: 0.7854, Validation Loss: 0.7319\n",
      "Epoch 60/4000\n"
     ]
    },
    {
     "name": "stderr",
     "output_type": "stream",
     "text": [
      "Training: 100%|██████████| 24/24 [00:50<00:00,  2.10s/it, loss=0.789]\n",
      "Validation: 100%|██████████| 4/4 [00:04<00:00,  1.08s/it, loss=0.745]\n"
     ]
    },
    {
     "name": "stdout",
     "output_type": "stream",
     "text": [
      "Validation Dice Score\n",
      "Class 0: 0.6558, Class 1: 0.6913, Class 2: 0.0016, Class 3: 0.1563, \n",
      "Class 4: 0.1777, Class 5: 0.1843, Class 6: 0.6950, \n",
      "Training Loss: 0.7592, Validation Loss: 0.7466\n",
      "Epoch 61/4000\n"
     ]
    },
    {
     "name": "stderr",
     "output_type": "stream",
     "text": [
      "Training: 100%|██████████| 24/24 [00:50<00:00,  2.10s/it, loss=0.834]\n",
      "Validation: 100%|██████████| 4/4 [00:04<00:00,  1.05s/it, loss=0.835]\n"
     ]
    },
    {
     "name": "stdout",
     "output_type": "stream",
     "text": [
      "Validation Dice Score\n",
      "Class 0: 0.6573, Class 1: 0.5591, Class 2: 0.0022, Class 3: 0.0217, \n",
      "Class 4: 0.3975, Class 5: 0.3098, Class 6: 0.4867, \n",
      "Training Loss: 0.7685, Validation Loss: 0.7619\n",
      "Epoch 62/4000\n"
     ]
    },
    {
     "name": "stderr",
     "output_type": "stream",
     "text": [
      "Training: 100%|██████████| 24/24 [00:50<00:00,  2.10s/it, loss=0.757]\n",
      "Validation: 100%|██████████| 4/4 [00:04<00:00,  1.10s/it, loss=0.687]\n"
     ]
    },
    {
     "name": "stdout",
     "output_type": "stream",
     "text": [
      "Validation Dice Score\n",
      "Class 0: 0.6613, Class 1: 0.8022, Class 2: 0.0041, Class 3: 0.0084, \n",
      "Class 4: 0.1719, Class 5: 0.2460, Class 6: 0.8001, \n",
      "Training Loss: 0.7551, Validation Loss: 0.6781\n",
      "Epoch 63/4000\n"
     ]
    },
    {
     "name": "stderr",
     "output_type": "stream",
     "text": [
      "Training: 100%|██████████| 24/24 [00:50<00:00,  2.12s/it, loss=0.693]\n",
      "Validation: 100%|██████████| 4/4 [00:04<00:00,  1.08s/it, loss=0.802]\n"
     ]
    },
    {
     "name": "stdout",
     "output_type": "stream",
     "text": [
      "Validation Dice Score\n",
      "Class 0: 0.6617, Class 1: 0.6019, Class 2: 0.0033, Class 3: 0.1924, \n",
      "Class 4: 0.2547, Class 5: 0.3448, Class 6: 0.5808, \n",
      "Training Loss: 0.7473, Validation Loss: 0.7078\n",
      "Epoch 64/4000\n"
     ]
    },
    {
     "name": "stderr",
     "output_type": "stream",
     "text": [
      "Training: 100%|██████████| 24/24 [00:50<00:00,  2.09s/it, loss=0.836]\n",
      "Validation: 100%|██████████| 4/4 [00:04<00:00,  1.06s/it, loss=0.675]\n"
     ]
    },
    {
     "name": "stdout",
     "output_type": "stream",
     "text": [
      "Validation Dice Score\n",
      "Class 0: 0.6605, Class 1: 0.7520, Class 2: 0.0014, Class 3: 0.1658, \n",
      "Class 4: 0.4525, Class 5: 0.4397, Class 6: 0.5807, \n",
      "Training Loss: 0.7671, Validation Loss: 0.6425\n",
      "========================================================\n",
      "Best model saved with validation loss: 0.6425\n",
      "========================================================\n",
      "Epoch 65/4000\n"
     ]
    },
    {
     "name": "stderr",
     "output_type": "stream",
     "text": [
      "Training: 100%|██████████| 24/24 [00:49<00:00,  2.08s/it, loss=0.756]\n",
      "Validation: 100%|██████████| 4/4 [00:04<00:00,  1.03s/it, loss=0.666]\n"
     ]
    },
    {
     "name": "stdout",
     "output_type": "stream",
     "text": [
      "Validation Dice Score\n",
      "Class 0: 0.6602, Class 1: 0.7625, Class 2: 0.0009, Class 3: 0.1383, \n",
      "Class 4: 0.4181, Class 5: 0.4698, Class 6: 0.8227, \n",
      "Training Loss: 0.7405, Validation Loss: 0.6558\n",
      "Epoch 66/4000\n"
     ]
    },
    {
     "name": "stderr",
     "output_type": "stream",
     "text": [
      "Training: 100%|██████████| 24/24 [00:50<00:00,  2.09s/it, loss=0.641]\n",
      "Validation: 100%|██████████| 4/4 [00:04<00:00,  1.08s/it, loss=0.727]\n"
     ]
    },
    {
     "name": "stdout",
     "output_type": "stream",
     "text": [
      "Validation Dice Score\n",
      "Class 0: 0.6513, Class 1: 0.7781, Class 2: 0.0017, Class 3: 0.1558, \n",
      "Class 4: 0.5420, Class 5: 0.2977, Class 6: 0.8696, \n",
      "Training Loss: 0.7325, Validation Loss: 0.6620\n",
      "Epoch 67/4000\n"
     ]
    },
    {
     "name": "stderr",
     "output_type": "stream",
     "text": [
      "Training: 100%|██████████| 24/24 [00:50<00:00,  2.09s/it, loss=0.813]\n",
      "Validation: 100%|██████████| 4/4 [00:04<00:00,  1.05s/it, loss=0.54] \n"
     ]
    },
    {
     "name": "stdout",
     "output_type": "stream",
     "text": [
      "Validation Dice Score\n",
      "Class 0: 0.6523, Class 1: 0.7508, Class 2: 0.0008, Class 3: 0.0840, \n",
      "Class 4: 0.4196, Class 5: 0.2454, Class 6: 0.6599, \n",
      "Training Loss: 0.7795, Validation Loss: 0.6762\n",
      "Epoch 68/4000\n"
     ]
    },
    {
     "name": "stderr",
     "output_type": "stream",
     "text": [
      "Training: 100%|██████████| 24/24 [00:50<00:00,  2.09s/it, loss=0.735]\n",
      "Validation: 100%|██████████| 4/4 [00:04<00:00,  1.07s/it, loss=0.729]\n"
     ]
    },
    {
     "name": "stdout",
     "output_type": "stream",
     "text": [
      "Validation Dice Score\n",
      "Class 0: 0.6591, Class 1: 0.7618, Class 2: 0.0019, Class 3: 0.0959, \n",
      "Class 4: 0.3988, Class 5: 0.2091, Class 6: 0.4059, \n",
      "Training Loss: 0.7552, Validation Loss: 0.7568\n",
      "Epoch 69/4000\n"
     ]
    },
    {
     "name": "stderr",
     "output_type": "stream",
     "text": [
      "Training: 100%|██████████| 24/24 [00:49<00:00,  2.08s/it, loss=0.728]\n",
      "Validation: 100%|██████████| 4/4 [00:04<00:00,  1.07s/it, loss=0.685]\n"
     ]
    },
    {
     "name": "stdout",
     "output_type": "stream",
     "text": [
      "Validation Dice Score\n",
      "Class 0: 0.6551, Class 1: 0.8397, Class 2: 0.0008, Class 3: 0.1369, \n",
      "Class 4: 0.3453, Class 5: 0.2983, Class 6: 0.7789, \n",
      "Training Loss: 0.7618, Validation Loss: 0.6827\n",
      "Epoch 70/4000\n"
     ]
    },
    {
     "name": "stderr",
     "output_type": "stream",
     "text": [
      "Training: 100%|██████████| 24/24 [00:50<00:00,  2.11s/it, loss=0.801]\n",
      "Validation: 100%|██████████| 4/4 [00:04<00:00,  1.06s/it, loss=0.729]\n"
     ]
    },
    {
     "name": "stdout",
     "output_type": "stream",
     "text": [
      "Validation Dice Score\n",
      "Class 0: 0.6554, Class 1: 0.6100, Class 2: 0.0008, Class 3: 0.0652, \n",
      "Class 4: 0.2672, Class 5: 0.3248, Class 6: 0.4329, \n",
      "Training Loss: 0.7256, Validation Loss: 0.7720\n",
      "Epoch 71/4000\n"
     ]
    },
    {
     "name": "stderr",
     "output_type": "stream",
     "text": [
      "Training: 100%|██████████| 24/24 [00:50<00:00,  2.11s/it, loss=0.807]\n",
      "Validation: 100%|██████████| 4/4 [00:04<00:00,  1.10s/it, loss=0.776]\n"
     ]
    },
    {
     "name": "stdout",
     "output_type": "stream",
     "text": [
      "Validation Dice Score\n",
      "Class 0: 0.6562, Class 1: 0.7121, Class 2: 0.0019, Class 3: 0.0000, \n",
      "Class 4: 0.5180, Class 5: 0.0346, Class 6: 0.4232, \n",
      "Training Loss: 0.7661, Validation Loss: 0.7657\n",
      "Epoch 72/4000\n"
     ]
    },
    {
     "name": "stderr",
     "output_type": "stream",
     "text": [
      "Training: 100%|██████████| 24/24 [00:49<00:00,  2.08s/it, loss=0.72] \n",
      "Validation: 100%|██████████| 4/4 [00:04<00:00,  1.07s/it, loss=0.804]\n"
     ]
    },
    {
     "name": "stdout",
     "output_type": "stream",
     "text": [
      "Validation Dice Score\n",
      "Class 0: 0.6618, Class 1: 0.6580, Class 2: 0.0012, Class 3: 0.1556, \n",
      "Class 4: 0.5456, Class 5: 0.2995, Class 6: 0.6491, \n",
      "Training Loss: 0.7441, Validation Loss: 0.7202\n",
      "Epoch 73/4000\n"
     ]
    },
    {
     "name": "stderr",
     "output_type": "stream",
     "text": [
      "Training: 100%|██████████| 24/24 [00:50<00:00,  2.10s/it, loss=0.73] \n",
      "Validation: 100%|██████████| 4/4 [00:04<00:00,  1.06s/it, loss=0.574]\n"
     ]
    },
    {
     "name": "stdout",
     "output_type": "stream",
     "text": [
      "Validation Dice Score\n",
      "Class 0: 0.6638, Class 1: 0.7695, Class 2: 0.0010, Class 3: 0.1088, \n",
      "Class 4: 0.3420, Class 5: 0.1832, Class 6: 0.1959, \n",
      "Training Loss: 0.7545, Validation Loss: 0.7802\n",
      "Epoch 74/4000\n"
     ]
    },
    {
     "name": "stderr",
     "output_type": "stream",
     "text": [
      "Training: 100%|██████████| 24/24 [00:50<00:00,  2.11s/it, loss=0.725]\n",
      "Validation: 100%|██████████| 4/4 [00:04<00:00,  1.06s/it, loss=0.578]\n"
     ]
    },
    {
     "name": "stdout",
     "output_type": "stream",
     "text": [
      "Validation Dice Score\n",
      "Class 0: 0.6680, Class 1: 0.7605, Class 2: 0.0018, Class 3: 0.0718, \n",
      "Class 4: 0.3355, Class 5: 0.3411, Class 6: 0.4518, \n",
      "Training Loss: 0.7535, Validation Loss: 0.7491\n",
      "Epoch 75/4000\n"
     ]
    },
    {
     "name": "stderr",
     "output_type": "stream",
     "text": [
      "Training: 100%|██████████| 24/24 [00:50<00:00,  2.10s/it, loss=0.755]\n",
      "Validation: 100%|██████████| 4/4 [00:04<00:00,  1.07s/it, loss=0.718]\n"
     ]
    },
    {
     "name": "stdout",
     "output_type": "stream",
     "text": [
      "Validation Dice Score\n",
      "Class 0: 0.6611, Class 1: 0.8246, Class 2: 0.0009, Class 3: 0.0128, \n",
      "Class 4: 0.2877, Class 5: 0.2617, Class 6: 0.7928, \n",
      "Training Loss: 0.7781, Validation Loss: 0.7137\n",
      "Epoch 76/4000\n"
     ]
    },
    {
     "name": "stderr",
     "output_type": "stream",
     "text": [
      "Training: 100%|██████████| 24/24 [00:50<00:00,  2.09s/it, loss=0.75] \n",
      "Validation: 100%|██████████| 4/4 [00:04<00:00,  1.14s/it, loss=0.586]\n"
     ]
    },
    {
     "name": "stdout",
     "output_type": "stream",
     "text": [
      "Validation Dice Score\n",
      "Class 0: 0.6631, Class 1: 0.4271, Class 2: 0.0012, Class 3: 0.2320, \n",
      "Class 4: 0.3772, Class 5: 0.3898, Class 6: 0.6168, \n",
      "Training Loss: 0.7678, Validation Loss: 0.6971\n",
      "Epoch 77/4000\n"
     ]
    },
    {
     "name": "stderr",
     "output_type": "stream",
     "text": [
      "Training: 100%|██████████| 24/24 [00:51<00:00,  2.14s/it, loss=0.699]\n",
      "Validation: 100%|██████████| 4/4 [00:04<00:00,  1.09s/it, loss=0.867]\n"
     ]
    },
    {
     "name": "stdout",
     "output_type": "stream",
     "text": [
      "Validation Dice Score\n",
      "Class 0: 0.6684, Class 1: 0.6739, Class 2: 0.0025, Class 3: 0.1023, \n",
      "Class 4: 0.2749, Class 5: 0.1824, Class 6: 0.2299, \n",
      "Training Loss: 0.7273, Validation Loss: 0.8161\n",
      "Epoch 78/4000\n"
     ]
    },
    {
     "name": "stderr",
     "output_type": "stream",
     "text": [
      "Training: 100%|██████████| 24/24 [00:50<00:00,  2.10s/it, loss=0.745]\n",
      "Validation: 100%|██████████| 4/4 [00:04<00:00,  1.09s/it, loss=0.696]\n"
     ]
    },
    {
     "name": "stdout",
     "output_type": "stream",
     "text": [
      "Validation Dice Score\n",
      "Class 0: 0.6624, Class 1: 0.7761, Class 2: 0.0006, Class 3: 0.1248, \n",
      "Class 4: 0.4103, Class 5: 0.3415, Class 6: 0.8344, \n",
      "Training Loss: 0.7353, Validation Loss: 0.6836\n",
      "Epoch 79/4000\n"
     ]
    },
    {
     "name": "stderr",
     "output_type": "stream",
     "text": [
      "Training: 100%|██████████| 24/24 [00:50<00:00,  2.11s/it, loss=0.545]\n",
      "Validation: 100%|██████████| 4/4 [00:04<00:00,  1.10s/it, loss=0.721]\n"
     ]
    },
    {
     "name": "stdout",
     "output_type": "stream",
     "text": [
      "Validation Dice Score\n",
      "Class 0: 0.6595, Class 1: 0.7971, Class 2: 0.0026, Class 3: 0.1589, \n",
      "Class 4: 0.2196, Class 5: 0.2812, Class 6: 0.7847, \n",
      "Training Loss: 0.7420, Validation Loss: 0.7148\n",
      "Epoch 80/4000\n"
     ]
    },
    {
     "name": "stderr",
     "output_type": "stream",
     "text": [
      "Training: 100%|██████████| 24/24 [00:50<00:00,  2.10s/it, loss=0.662]\n",
      "Validation: 100%|██████████| 4/4 [00:04<00:00,  1.07s/it, loss=0.707]\n"
     ]
    },
    {
     "name": "stdout",
     "output_type": "stream",
     "text": [
      "Validation Dice Score\n",
      "Class 0: 0.6581, Class 1: 0.8218, Class 2: 0.0019, Class 3: 0.1561, \n",
      "Class 4: 0.4680, Class 5: 0.3009, Class 6: 0.3909, \n",
      "Training Loss: 0.7334, Validation Loss: 0.7114\n",
      "Epoch 81/4000\n"
     ]
    },
    {
     "name": "stderr",
     "output_type": "stream",
     "text": [
      "Training: 100%|██████████| 24/24 [00:50<00:00,  2.09s/it, loss=0.517]\n",
      "Validation: 100%|██████████| 4/4 [00:04<00:00,  1.07s/it, loss=0.694]\n"
     ]
    },
    {
     "name": "stdout",
     "output_type": "stream",
     "text": [
      "Validation Dice Score\n",
      "Class 0: 0.6609, Class 1: 0.8025, Class 2: 0.0014, Class 3: 0.1769, \n",
      "Class 4: 0.3844, Class 5: 0.4317, Class 6: 0.7946, \n",
      "Training Loss: 0.7520, Validation Loss: 0.6346\n",
      "========================================================\n",
      "Best model saved with validation loss: 0.6346\n",
      "========================================================\n",
      "Epoch 82/4000\n"
     ]
    },
    {
     "name": "stderr",
     "output_type": "stream",
     "text": [
      "Training: 100%|██████████| 24/24 [00:50<00:00,  2.09s/it, loss=0.674]\n",
      "Validation: 100%|██████████| 4/4 [00:04<00:00,  1.05s/it, loss=0.769]\n"
     ]
    },
    {
     "name": "stdout",
     "output_type": "stream",
     "text": [
      "Validation Dice Score\n",
      "Class 0: 0.6622, Class 1: 0.7656, Class 2: 0.0012, Class 3: 0.0302, \n",
      "Class 4: 0.2305, Class 5: 0.2962, Class 6: 0.7980, \n",
      "Training Loss: 0.7316, Validation Loss: 0.6837\n",
      "Epoch 83/4000\n"
     ]
    },
    {
     "name": "stderr",
     "output_type": "stream",
     "text": [
      "Training: 100%|██████████| 24/24 [00:50<00:00,  2.10s/it, loss=0.704]\n",
      "Validation: 100%|██████████| 4/4 [00:04<00:00,  1.13s/it, loss=0.746]\n"
     ]
    },
    {
     "name": "stdout",
     "output_type": "stream",
     "text": [
      "Validation Dice Score\n",
      "Class 0: 0.6618, Class 1: 0.7356, Class 2: 0.0020, Class 3: 0.1988, \n",
      "Class 4: 0.4366, Class 5: 0.3172, Class 6: 0.7629, \n",
      "Training Loss: 0.7397, Validation Loss: 0.6684\n",
      "Epoch 84/4000\n"
     ]
    },
    {
     "name": "stderr",
     "output_type": "stream",
     "text": [
      "Training: 100%|██████████| 24/24 [00:50<00:00,  2.09s/it, loss=0.661]\n",
      "Validation: 100%|██████████| 4/4 [00:04<00:00,  1.04s/it, loss=0.655]\n"
     ]
    },
    {
     "name": "stdout",
     "output_type": "stream",
     "text": [
      "Validation Dice Score\n",
      "Class 0: 0.6730, Class 1: 0.6348, Class 2: 0.0025, Class 3: 0.1495, \n",
      "Class 4: 0.3157, Class 5: 0.3573, Class 6: 0.4568, \n",
      "Training Loss: 0.7521, Validation Loss: 0.7064\n",
      "Epoch 85/4000\n"
     ]
    },
    {
     "name": "stderr",
     "output_type": "stream",
     "text": [
      "Training: 100%|██████████| 24/24 [00:50<00:00,  2.11s/it, loss=0.8]  \n",
      "Validation: 100%|██████████| 4/4 [00:04<00:00,  1.05s/it, loss=0.619]\n"
     ]
    },
    {
     "name": "stdout",
     "output_type": "stream",
     "text": [
      "Validation Dice Score\n",
      "Class 0: 0.6634, Class 1: 0.7554, Class 2: 0.0018, Class 3: 0.2403, \n",
      "Class 4: 0.4117, Class 5: 0.3217, Class 6: 0.8637, \n",
      "Training Loss: 0.7496, Validation Loss: 0.6449\n",
      "Epoch 86/4000\n"
     ]
    },
    {
     "name": "stderr",
     "output_type": "stream",
     "text": [
      "Training: 100%|██████████| 24/24 [00:50<00:00,  2.09s/it, loss=0.799]\n",
      "Validation: 100%|██████████| 4/4 [00:04<00:00,  1.08s/it, loss=0.743]\n"
     ]
    },
    {
     "name": "stdout",
     "output_type": "stream",
     "text": [
      "Validation Dice Score\n",
      "Class 0: 0.6531, Class 1: 0.7215, Class 2: 0.0007, Class 3: 0.0676, \n",
      "Class 4: 0.4273, Class 5: 0.3341, Class 6: 0.6552, \n",
      "Training Loss: 0.7368, Validation Loss: 0.7059\n",
      "Epoch 87/4000\n"
     ]
    },
    {
     "name": "stderr",
     "output_type": "stream",
     "text": [
      "Training: 100%|██████████| 24/24 [00:50<00:00,  2.11s/it, loss=0.804]\n",
      "Validation: 100%|██████████| 4/4 [00:04<00:00,  1.08s/it, loss=0.663]\n"
     ]
    },
    {
     "name": "stdout",
     "output_type": "stream",
     "text": [
      "Validation Dice Score\n",
      "Class 0: 0.6601, Class 1: 0.5903, Class 2: 0.0010, Class 3: 0.2156, \n",
      "Class 4: 0.6315, Class 5: 0.3315, Class 6: 0.6652, \n",
      "Training Loss: 0.7593, Validation Loss: 0.6558\n",
      "Epoch 88/4000\n"
     ]
    },
    {
     "name": "stderr",
     "output_type": "stream",
     "text": [
      "Training: 100%|██████████| 24/24 [00:50<00:00,  2.11s/it, loss=0.789]\n",
      "Validation: 100%|██████████| 4/4 [00:04<00:00,  1.06s/it, loss=0.739]\n"
     ]
    },
    {
     "name": "stdout",
     "output_type": "stream",
     "text": [
      "Validation Dice Score\n",
      "Class 0: 0.6631, Class 1: 0.7057, Class 2: 0.0017, Class 3: 0.1163, \n",
      "Class 4: 0.5307, Class 5: 0.1991, Class 6: 0.8685, \n",
      "Training Loss: 0.7723, Validation Loss: 0.6857\n",
      "Epoch 89/4000\n"
     ]
    },
    {
     "name": "stderr",
     "output_type": "stream",
     "text": [
      "Training: 100%|██████████| 24/24 [00:49<00:00,  2.08s/it, loss=0.599]\n",
      "Validation: 100%|██████████| 4/4 [00:04<00:00,  1.06s/it, loss=0.702]\n"
     ]
    },
    {
     "name": "stdout",
     "output_type": "stream",
     "text": [
      "Validation Dice Score\n",
      "Class 0: 0.6651, Class 1: 0.5342, Class 2: 0.0014, Class 3: 0.0927, \n",
      "Class 4: 0.1604, Class 5: 0.3430, Class 6: 0.8880, \n",
      "Training Loss: 0.7248, Validation Loss: 0.7476\n",
      "Epoch 90/4000\n"
     ]
    },
    {
     "name": "stderr",
     "output_type": "stream",
     "text": [
      "Training: 100%|██████████| 24/24 [00:50<00:00,  2.11s/it, loss=0.774]\n",
      "Validation: 100%|██████████| 4/4 [00:04<00:00,  1.06s/it, loss=0.782]\n"
     ]
    },
    {
     "name": "stdout",
     "output_type": "stream",
     "text": [
      "Validation Dice Score\n",
      "Class 0: 0.6760, Class 1: 0.5815, Class 2: 0.0016, Class 3: 0.0816, \n",
      "Class 4: 0.4527, Class 5: 0.3443, Class 6: 0.8168, \n",
      "Training Loss: 0.7379, Validation Loss: 0.6867\n",
      "Epoch 91/4000\n"
     ]
    },
    {
     "name": "stderr",
     "output_type": "stream",
     "text": [
      "Training: 100%|██████████| 24/24 [00:49<00:00,  2.08s/it, loss=0.741]\n",
      "Validation: 100%|██████████| 4/4 [00:04<00:00,  1.06s/it, loss=0.601]\n"
     ]
    },
    {
     "name": "stdout",
     "output_type": "stream",
     "text": [
      "Validation Dice Score\n",
      "Class 0: 0.6767, Class 1: 0.8061, Class 2: 0.0025, Class 3: 0.0136, \n",
      "Class 4: 0.4412, Class 5: 0.4645, Class 6: 0.7275, \n",
      "Training Loss: 0.7703, Validation Loss: 0.6534\n",
      "Epoch 92/4000\n"
     ]
    },
    {
     "name": "stderr",
     "output_type": "stream",
     "text": [
      "Training: 100%|██████████| 24/24 [00:50<00:00,  2.10s/it, loss=0.802]\n",
      "Validation: 100%|██████████| 4/4 [00:04<00:00,  1.07s/it, loss=0.584]\n"
     ]
    },
    {
     "name": "stdout",
     "output_type": "stream",
     "text": [
      "Validation Dice Score\n",
      "Class 0: 0.6715, Class 1: 0.8077, Class 2: 0.0012, Class 3: 0.1426, \n",
      "Class 4: 0.4012, Class 5: 0.3315, Class 6: 0.6579, \n",
      "Training Loss: 0.7280, Validation Loss: 0.6907\n",
      "Epoch 93/4000\n"
     ]
    },
    {
     "name": "stderr",
     "output_type": "stream",
     "text": [
      "Training: 100%|██████████| 24/24 [00:50<00:00,  2.11s/it, loss=0.823]\n",
      "Validation: 100%|██████████| 4/4 [00:04<00:00,  1.08s/it, loss=0.525]\n"
     ]
    },
    {
     "name": "stdout",
     "output_type": "stream",
     "text": [
      "Validation Dice Score\n",
      "Class 0: 0.6629, Class 1: 0.7978, Class 2: 0.0011, Class 3: 0.1800, \n",
      "Class 4: 0.5191, Class 5: 0.3657, Class 6: 0.6145, \n",
      "Training Loss: 0.7465, Validation Loss: 0.6642\n",
      "Epoch 94/4000\n"
     ]
    },
    {
     "name": "stderr",
     "output_type": "stream",
     "text": [
      "Training: 100%|██████████| 24/24 [00:50<00:00,  2.09s/it, loss=0.878]\n",
      "Validation: 100%|██████████| 4/4 [00:04<00:00,  1.06s/it, loss=0.722]\n"
     ]
    },
    {
     "name": "stdout",
     "output_type": "stream",
     "text": [
      "Validation Dice Score\n",
      "Class 0: 0.6622, Class 1: 0.6365, Class 2: 0.0024, Class 3: 0.1380, \n",
      "Class 4: 0.5354, Class 5: 0.3391, Class 6: 0.6269, \n",
      "Training Loss: 0.7706, Validation Loss: 0.7309\n",
      "Epoch 95/4000\n"
     ]
    },
    {
     "name": "stderr",
     "output_type": "stream",
     "text": [
      "Training: 100%|██████████| 24/24 [00:50<00:00,  2.10s/it, loss=0.896]\n",
      "Validation: 100%|██████████| 4/4 [00:04<00:00,  1.11s/it, loss=0.474]\n"
     ]
    },
    {
     "name": "stdout",
     "output_type": "stream",
     "text": [
      "Validation Dice Score\n",
      "Class 0: 0.6563, Class 1: 0.7981, Class 2: 0.0041, Class 3: 0.3876, \n",
      "Class 4: 0.5067, Class 5: 0.4686, Class 6: 0.8569, \n",
      "Training Loss: 0.7594, Validation Loss: 0.5804\n",
      "========================================================\n",
      "Best model saved with validation loss: 0.5804\n",
      "========================================================\n",
      "Epoch 96/4000\n"
     ]
    },
    {
     "name": "stderr",
     "output_type": "stream",
     "text": [
      "Training: 100%|██████████| 24/24 [00:50<00:00,  2.09s/it, loss=0.686]\n",
      "Validation: 100%|██████████| 4/4 [00:04<00:00,  1.12s/it, loss=0.742]\n"
     ]
    },
    {
     "name": "stdout",
     "output_type": "stream",
     "text": [
      "Validation Dice Score\n",
      "Class 0: 0.6642, Class 1: 0.6782, Class 2: 0.0027, Class 3: 0.1029, \n",
      "Class 4: 0.3361, Class 5: 0.3692, Class 6: 0.7114, \n",
      "Training Loss: 0.7681, Validation Loss: 0.7308\n",
      "Epoch 97/4000\n"
     ]
    },
    {
     "name": "stderr",
     "output_type": "stream",
     "text": [
      "Training: 100%|██████████| 24/24 [00:50<00:00,  2.11s/it, loss=0.682]\n",
      "Validation: 100%|██████████| 4/4 [00:04<00:00,  1.09s/it, loss=0.722]\n"
     ]
    },
    {
     "name": "stdout",
     "output_type": "stream",
     "text": [
      "Validation Dice Score\n",
      "Class 0: 0.6573, Class 1: 0.7432, Class 2: 0.0008, Class 3: 0.2752, \n",
      "Class 4: 0.3774, Class 5: 0.3465, Class 6: 0.6787, \n",
      "Training Loss: 0.7356, Validation Loss: 0.6901\n",
      "Epoch 98/4000\n"
     ]
    },
    {
     "name": "stderr",
     "output_type": "stream",
     "text": [
      "Training: 100%|██████████| 24/24 [00:50<00:00,  2.09s/it, loss=0.715]\n",
      "Validation: 100%|██████████| 4/4 [00:04<00:00,  1.07s/it, loss=0.637]\n"
     ]
    },
    {
     "name": "stdout",
     "output_type": "stream",
     "text": [
      "Validation Dice Score\n",
      "Class 0: 0.6630, Class 1: 0.7380, Class 2: 0.0010, Class 3: 0.1713, \n",
      "Class 4: 0.5674, Class 5: 0.3055, Class 6: 0.6453, \n",
      "Training Loss: 0.7439, Validation Loss: 0.6464\n",
      "Epoch 99/4000\n"
     ]
    },
    {
     "name": "stderr",
     "output_type": "stream",
     "text": [
      "Training: 100%|██████████| 24/24 [00:50<00:00,  2.09s/it, loss=0.743]\n",
      "Validation: 100%|██████████| 4/4 [00:04<00:00,  1.07s/it, loss=0.643]\n"
     ]
    },
    {
     "name": "stdout",
     "output_type": "stream",
     "text": [
      "Validation Dice Score\n",
      "Class 0: 0.6631, Class 1: 0.7063, Class 2: 0.0041, Class 3: 0.2216, \n",
      "Class 4: 0.2690, Class 5: 0.2914, Class 6: 0.8524, \n",
      "Training Loss: 0.7258, Validation Loss: 0.6858\n",
      "Epoch 100/4000\n"
     ]
    },
    {
     "name": "stderr",
     "output_type": "stream",
     "text": [
      "Training: 100%|██████████| 24/24 [00:50<00:00,  2.09s/it, loss=0.713]\n",
      "Validation: 100%|██████████| 4/4 [00:04<00:00,  1.04s/it, loss=0.84] \n"
     ]
    },
    {
     "name": "stdout",
     "output_type": "stream",
     "text": [
      "Validation Dice Score\n",
      "Class 0: 0.6686, Class 1: 0.6721, Class 2: 0.0017, Class 3: 0.1075, \n",
      "Class 4: 0.2921, Class 5: 0.3460, Class 6: 0.4377, \n",
      "Training Loss: 0.7332, Validation Loss: 0.7602\n",
      "Epoch 101/4000\n"
     ]
    },
    {
     "name": "stderr",
     "output_type": "stream",
     "text": [
      "Training: 100%|██████████| 24/24 [00:50<00:00,  2.08s/it, loss=0.876]\n",
      "Validation: 100%|██████████| 4/4 [00:04<00:00,  1.07s/it, loss=0.683]\n"
     ]
    },
    {
     "name": "stdout",
     "output_type": "stream",
     "text": [
      "Validation Dice Score\n",
      "Class 0: 0.6712, Class 1: 0.8009, Class 2: 0.0025, Class 3: 0.1937, \n",
      "Class 4: 0.4710, Class 5: 0.0793, Class 6: 0.8384, \n",
      "Training Loss: 0.7517, Validation Loss: 0.6665\n",
      "Epoch 102/4000\n"
     ]
    },
    {
     "name": "stderr",
     "output_type": "stream",
     "text": [
      "Training: 100%|██████████| 24/24 [00:50<00:00,  2.09s/it, loss=0.76] \n",
      "Validation: 100%|██████████| 4/4 [00:04<00:00,  1.04s/it, loss=0.702]\n"
     ]
    },
    {
     "name": "stdout",
     "output_type": "stream",
     "text": [
      "Validation Dice Score\n",
      "Class 0: 0.6595, Class 1: 0.6825, Class 2: 0.0009, Class 3: 0.1474, \n",
      "Class 4: 0.4525, Class 5: 0.3091, Class 6: 0.6621, \n",
      "Training Loss: 0.7591, Validation Loss: 0.7180\n",
      "Epoch 103/4000\n"
     ]
    },
    {
     "name": "stderr",
     "output_type": "stream",
     "text": [
      "Training: 100%|██████████| 24/24 [00:50<00:00,  2.11s/it, loss=0.786]\n",
      "Validation: 100%|██████████| 4/4 [00:04<00:00,  1.08s/it, loss=0.604]\n"
     ]
    },
    {
     "name": "stdout",
     "output_type": "stream",
     "text": [
      "Validation Dice Score\n",
      "Class 0: 0.6637, Class 1: 0.7132, Class 2: 0.0019, Class 3: 0.2639, \n",
      "Class 4: 0.2083, Class 5: 0.3087, Class 6: 0.6505, \n",
      "Training Loss: 0.7736, Validation Loss: 0.7200\n",
      "Epoch 104/4000\n"
     ]
    },
    {
     "name": "stderr",
     "output_type": "stream",
     "text": [
      "Training: 100%|██████████| 24/24 [00:50<00:00,  2.11s/it, loss=0.81] \n",
      "Validation: 100%|██████████| 4/4 [00:04<00:00,  1.04s/it, loss=0.805]\n"
     ]
    },
    {
     "name": "stdout",
     "output_type": "stream",
     "text": [
      "Validation Dice Score\n",
      "Class 0: 0.6611, Class 1: 0.7235, Class 2: 0.0010, Class 3: 0.0844, \n",
      "Class 4: 0.2110, Class 5: 0.2919, Class 6: 0.5932, \n",
      "Training Loss: 0.7579, Validation Loss: 0.7675\n",
      "Epoch 105/4000\n"
     ]
    },
    {
     "name": "stderr",
     "output_type": "stream",
     "text": [
      "Training: 100%|██████████| 24/24 [00:50<00:00,  2.11s/it, loss=0.889]\n",
      "Validation: 100%|██████████| 4/4 [00:04<00:00,  1.06s/it, loss=0.668]\n"
     ]
    },
    {
     "name": "stdout",
     "output_type": "stream",
     "text": [
      "Validation Dice Score\n",
      "Class 0: 0.6522, Class 1: 0.8124, Class 2: 0.0011, Class 3: 0.1874, \n",
      "Class 4: 0.3477, Class 5: 0.3221, Class 6: 0.8549, \n",
      "Training Loss: 0.7412, Validation Loss: 0.6593\n",
      "Epoch 106/4000\n"
     ]
    },
    {
     "name": "stderr",
     "output_type": "stream",
     "text": [
      "Training: 100%|██████████| 24/24 [00:50<00:00,  2.10s/it, loss=0.682]\n",
      "Validation: 100%|██████████| 4/4 [00:04<00:00,  1.05s/it, loss=0.555]\n"
     ]
    },
    {
     "name": "stdout",
     "output_type": "stream",
     "text": [
      "Validation Dice Score\n",
      "Class 0: 0.6658, Class 1: 0.8196, Class 2: 0.0024, Class 3: 0.1719, \n",
      "Class 4: 0.4340, Class 5: 0.2821, Class 6: 0.8347, \n",
      "Training Loss: 0.7359, Validation Loss: 0.6262\n",
      "Epoch 107/4000\n"
     ]
    },
    {
     "name": "stderr",
     "output_type": "stream",
     "text": [
      "Training: 100%|██████████| 24/24 [00:50<00:00,  2.09s/it, loss=0.798]\n",
      "Validation: 100%|██████████| 4/4 [00:04<00:00,  1.07s/it, loss=0.728]\n"
     ]
    },
    {
     "name": "stdout",
     "output_type": "stream",
     "text": [
      "Validation Dice Score\n",
      "Class 0: 0.6660, Class 1: 0.7225, Class 2: 0.0016, Class 3: 0.0922, \n",
      "Class 4: 0.5407, Class 5: 0.3701, Class 6: 0.4408, \n",
      "Training Loss: 0.7311, Validation Loss: 0.6980\n",
      "Epoch 108/4000\n"
     ]
    },
    {
     "name": "stderr",
     "output_type": "stream",
     "text": [
      "Training: 100%|██████████| 24/24 [00:50<00:00,  2.11s/it, loss=0.771]\n",
      "Validation: 100%|██████████| 4/4 [00:04<00:00,  1.06s/it, loss=0.712]\n"
     ]
    },
    {
     "name": "stdout",
     "output_type": "stream",
     "text": [
      "Validation Dice Score\n",
      "Class 0: 0.6673, Class 1: 0.8355, Class 2: 0.0018, Class 3: 0.0609, \n",
      "Class 4: 0.4002, Class 5: 0.3088, Class 6: 0.8678, \n",
      "Training Loss: 0.7313, Validation Loss: 0.6287\n",
      "Epoch 109/4000\n"
     ]
    },
    {
     "name": "stderr",
     "output_type": "stream",
     "text": [
      "Training: 100%|██████████| 24/24 [00:49<00:00,  2.08s/it, loss=0.687]\n",
      "Validation: 100%|██████████| 4/4 [00:04<00:00,  1.04s/it, loss=0.707]\n"
     ]
    },
    {
     "name": "stdout",
     "output_type": "stream",
     "text": [
      "Validation Dice Score\n",
      "Class 0: 0.6645, Class 1: 0.8090, Class 2: 0.0015, Class 3: 0.1920, \n",
      "Class 4: 0.4259, Class 5: 0.3340, Class 6: 0.8705, \n",
      "Training Loss: 0.7149, Validation Loss: 0.6089\n",
      "Epoch 110/4000\n"
     ]
    },
    {
     "name": "stderr",
     "output_type": "stream",
     "text": [
      "Training: 100%|██████████| 24/24 [00:53<00:00,  2.21s/it, loss=0.659]\n",
      "Validation: 100%|██████████| 4/4 [00:04<00:00,  1.07s/it, loss=0.715]\n"
     ]
    },
    {
     "name": "stdout",
     "output_type": "stream",
     "text": [
      "Validation Dice Score\n",
      "Class 0: 0.6475, Class 1: 0.8013, Class 2: 0.0019, Class 3: 0.2264, \n",
      "Class 4: 0.4649, Class 5: 0.2383, Class 6: 0.6312, \n",
      "Training Loss: 0.7512, Validation Loss: 0.6587\n",
      "Epoch 111/4000\n"
     ]
    },
    {
     "name": "stderr",
     "output_type": "stream",
     "text": [
      "Training: 100%|██████████| 24/24 [00:50<00:00,  2.10s/it, loss=0.765]\n",
      "Validation: 100%|██████████| 4/4 [00:04<00:00,  1.06s/it, loss=0.705]\n"
     ]
    },
    {
     "name": "stdout",
     "output_type": "stream",
     "text": [
      "Validation Dice Score\n",
      "Class 0: 0.6541, Class 1: 0.6113, Class 2: 0.0023, Class 3: 0.1225, \n",
      "Class 4: 0.3274, Class 5: 0.3423, Class 6: 0.2909, \n",
      "Training Loss: 0.7635, Validation Loss: 0.7927\n",
      "Epoch 112/4000\n"
     ]
    },
    {
     "name": "stderr",
     "output_type": "stream",
     "text": [
      "Training: 100%|██████████| 24/24 [00:50<00:00,  2.12s/it, loss=0.707]\n",
      "Validation: 100%|██████████| 4/4 [00:04<00:00,  1.12s/it, loss=0.597]\n"
     ]
    },
    {
     "name": "stdout",
     "output_type": "stream",
     "text": [
      "Validation Dice Score\n",
      "Class 0: 0.6623, Class 1: 0.7579, Class 2: 0.0008, Class 3: 0.1656, \n",
      "Class 4: 0.2173, Class 5: 0.1678, Class 6: 0.8302, \n",
      "Training Loss: 0.7396, Validation Loss: 0.6850\n",
      "Epoch 113/4000\n"
     ]
    },
    {
     "name": "stderr",
     "output_type": "stream",
     "text": [
      "Training: 100%|██████████| 24/24 [00:50<00:00,  2.11s/it, loss=0.764]\n",
      "Validation: 100%|██████████| 4/4 [00:04<00:00,  1.07s/it, loss=0.673]\n"
     ]
    },
    {
     "name": "stdout",
     "output_type": "stream",
     "text": [
      "Validation Dice Score\n",
      "Class 0: 0.6690, Class 1: 0.8063, Class 2: 0.0021, Class 3: 0.0593, \n",
      "Class 4: 0.4531, Class 5: 0.3453, Class 6: 0.8774, \n",
      "Training Loss: 0.7645, Validation Loss: 0.6334\n",
      "Epoch 114/4000\n"
     ]
    },
    {
     "name": "stderr",
     "output_type": "stream",
     "text": [
      "Training: 100%|██████████| 24/24 [00:50<00:00,  2.09s/it, loss=0.66] \n",
      "Validation: 100%|██████████| 4/4 [00:04<00:00,  1.11s/it, loss=0.735]\n"
     ]
    },
    {
     "name": "stdout",
     "output_type": "stream",
     "text": [
      "Validation Dice Score\n",
      "Class 0: 0.6611, Class 1: 0.6907, Class 2: 0.0030, Class 3: 0.1877, \n",
      "Class 4: 0.3389, Class 5: 0.1491, Class 6: 0.3945, \n",
      "Training Loss: 0.7314, Validation Loss: 0.7770\n",
      "Epoch 115/4000\n"
     ]
    },
    {
     "name": "stderr",
     "output_type": "stream",
     "text": [
      "Training: 100%|██████████| 24/24 [00:49<00:00,  2.08s/it, loss=0.879]\n",
      "Validation: 100%|██████████| 4/4 [00:04<00:00,  1.06s/it, loss=0.904]\n"
     ]
    },
    {
     "name": "stdout",
     "output_type": "stream",
     "text": [
      "Validation Dice Score\n",
      "Class 0: 0.6615, Class 1: 0.7749, Class 2: 0.0022, Class 3: 0.0284, \n",
      "Class 4: 0.1938, Class 5: 0.2323, Class 6: 0.2082, \n",
      "Training Loss: 0.7314, Validation Loss: 0.8319\n",
      "Epoch 116/4000\n"
     ]
    },
    {
     "name": "stderr",
     "output_type": "stream",
     "text": [
      "Training: 100%|██████████| 24/24 [00:50<00:00,  2.09s/it, loss=0.735]\n",
      "Validation: 100%|██████████| 4/4 [00:04<00:00,  1.06s/it, loss=0.659]\n"
     ]
    },
    {
     "name": "stdout",
     "output_type": "stream",
     "text": [
      "Validation Dice Score\n",
      "Class 0: 0.6558, Class 1: 0.7931, Class 2: 0.0019, Class 3: 0.1492, \n",
      "Class 4: 0.2116, Class 5: 0.2071, Class 6: 0.8944, \n",
      "Training Loss: 0.7275, Validation Loss: 0.6816\n",
      "Epoch 117/4000\n"
     ]
    },
    {
     "name": "stderr",
     "output_type": "stream",
     "text": [
      "Training: 100%|██████████| 24/24 [00:50<00:00,  2.10s/it, loss=0.809]\n",
      "Validation: 100%|██████████| 4/4 [00:04<00:00,  1.10s/it, loss=0.832]\n"
     ]
    },
    {
     "name": "stdout",
     "output_type": "stream",
     "text": [
      "Validation Dice Score\n",
      "Class 0: 0.6707, Class 1: 0.7096, Class 2: 0.0024, Class 3: 0.0022, \n",
      "Class 4: 0.4935, Class 5: 0.1792, Class 6: 0.4455, \n",
      "Training Loss: 0.7304, Validation Loss: 0.7733\n",
      "Epoch 118/4000\n"
     ]
    },
    {
     "name": "stderr",
     "output_type": "stream",
     "text": [
      "Training: 100%|██████████| 24/24 [00:50<00:00,  2.09s/it, loss=0.752]\n",
      "Validation: 100%|██████████| 4/4 [00:04<00:00,  1.08s/it, loss=0.701]\n"
     ]
    },
    {
     "name": "stdout",
     "output_type": "stream",
     "text": [
      "Validation Dice Score\n",
      "Class 0: 0.6580, Class 1: 0.7499, Class 2: 0.0016, Class 3: 0.0569, \n",
      "Class 4: 0.5026, Class 5: 0.3788, Class 6: 0.9100, \n",
      "Training Loss: 0.7617, Validation Loss: 0.6787\n",
      "Epoch 119/4000\n"
     ]
    },
    {
     "name": "stderr",
     "output_type": "stream",
     "text": [
      "Training: 100%|██████████| 24/24 [00:50<00:00,  2.09s/it, loss=0.605]\n",
      "Validation: 100%|██████████| 4/4 [00:04<00:00,  1.05s/it, loss=0.718]\n"
     ]
    },
    {
     "name": "stdout",
     "output_type": "stream",
     "text": [
      "Validation Dice Score\n",
      "Class 0: 0.6576, Class 1: 0.6686, Class 2: 0.0007, Class 3: 0.1920, \n",
      "Class 4: 0.4689, Class 5: 0.2478, Class 6: 0.6633, \n",
      "Training Loss: 0.7418, Validation Loss: 0.6684\n",
      "Epoch 120/4000\n"
     ]
    },
    {
     "name": "stderr",
     "output_type": "stream",
     "text": [
      "Training: 100%|██████████| 24/24 [00:51<00:00,  2.13s/it, loss=0.844]\n",
      "Validation: 100%|██████████| 4/4 [00:04<00:00,  1.08s/it, loss=0.595]\n"
     ]
    },
    {
     "name": "stdout",
     "output_type": "stream",
     "text": [
      "Validation Dice Score\n",
      "Class 0: 0.6566, Class 1: 0.6847, Class 2: 0.0031, Class 3: 0.1733, \n",
      "Class 4: 0.5271, Class 5: 0.3037, Class 6: 0.6930, \n",
      "Training Loss: 0.7293, Validation Loss: 0.6782\n",
      "Epoch 121/4000\n"
     ]
    },
    {
     "name": "stderr",
     "output_type": "stream",
     "text": [
      "Training: 100%|██████████| 24/24 [00:50<00:00,  2.12s/it, loss=0.741]\n",
      "Validation: 100%|██████████| 4/4 [00:04<00:00,  1.08s/it, loss=0.587]\n"
     ]
    },
    {
     "name": "stdout",
     "output_type": "stream",
     "text": [
      "Validation Dice Score\n",
      "Class 0: 0.6609, Class 1: 0.8129, Class 2: 0.0004, Class 3: 0.0632, \n",
      "Class 4: 0.2976, Class 5: 0.5062, Class 6: 0.9026, \n",
      "Training Loss: 0.7274, Validation Loss: 0.6437\n",
      "Epoch 122/4000\n"
     ]
    },
    {
     "name": "stderr",
     "output_type": "stream",
     "text": [
      "Training: 100%|██████████| 24/24 [00:49<00:00,  2.06s/it, loss=0.85] \n",
      "Validation: 100%|██████████| 4/4 [00:04<00:00,  1.08s/it, loss=0.858]\n"
     ]
    },
    {
     "name": "stdout",
     "output_type": "stream",
     "text": [
      "Validation Dice Score\n",
      "Class 0: 0.6574, Class 1: 0.8101, Class 2: 0.0013, Class 3: 0.1994, \n",
      "Class 4: 0.2695, Class 5: 0.3299, Class 6: 0.8647, \n",
      "Training Loss: 0.7461, Validation Loss: 0.7352\n",
      "Epoch 123/4000\n"
     ]
    },
    {
     "name": "stderr",
     "output_type": "stream",
     "text": [
      "Training: 100%|██████████| 24/24 [00:51<00:00,  2.14s/it, loss=0.57] \n",
      "Validation: 100%|██████████| 4/4 [00:04<00:00,  1.25s/it, loss=0.749]\n"
     ]
    },
    {
     "name": "stdout",
     "output_type": "stream",
     "text": [
      "Validation Dice Score\n",
      "Class 0: 0.6525, Class 1: 0.8311, Class 2: 0.0011, Class 3: 0.0002, \n",
      "Class 4: 0.3290, Class 5: 0.3789, Class 6: 0.6492, \n",
      "Training Loss: 0.7328, Validation Loss: 0.7382\n",
      "Epoch 124/4000\n"
     ]
    },
    {
     "name": "stderr",
     "output_type": "stream",
     "text": [
      "Training: 100%|██████████| 24/24 [00:50<00:00,  2.10s/it, loss=0.679]\n",
      "Validation: 100%|██████████| 4/4 [00:04<00:00,  1.06s/it, loss=0.69] \n"
     ]
    },
    {
     "name": "stdout",
     "output_type": "stream",
     "text": [
      "Validation Dice Score\n",
      "Class 0: 0.6617, Class 1: 0.7452, Class 2: 0.0018, Class 3: 0.0631, \n",
      "Class 4: 0.3648, Class 5: 0.3266, Class 6: 0.8533, \n",
      "Training Loss: 0.7564, Validation Loss: 0.7111\n",
      "Epoch 125/4000\n"
     ]
    },
    {
     "name": "stderr",
     "output_type": "stream",
     "text": [
      "Training: 100%|██████████| 24/24 [00:50<00:00,  2.09s/it, loss=0.7]  \n",
      "Validation: 100%|██████████| 4/4 [00:04<00:00,  1.06s/it, loss=0.671]\n"
     ]
    },
    {
     "name": "stdout",
     "output_type": "stream",
     "text": [
      "Validation Dice Score\n",
      "Class 0: 0.6632, Class 1: 0.7566, Class 2: 0.0019, Class 3: 0.1874, \n",
      "Class 4: 0.3827, Class 5: 0.3646, Class 6: 0.5785, \n",
      "Training Loss: 0.7325, Validation Loss: 0.7006\n",
      "Epoch 126/4000\n"
     ]
    },
    {
     "name": "stderr",
     "output_type": "stream",
     "text": [
      "Training: 100%|██████████| 24/24 [00:49<00:00,  2.07s/it, loss=0.611]\n",
      "Validation: 100%|██████████| 4/4 [00:04<00:00,  1.05s/it, loss=0.647]\n"
     ]
    },
    {
     "name": "stdout",
     "output_type": "stream",
     "text": [
      "Validation Dice Score\n",
      "Class 0: 0.6559, Class 1: 0.7555, Class 2: 0.0011, Class 3: 0.0854, \n",
      "Class 4: 0.5162, Class 5: 0.3629, Class 6: 0.9030, \n",
      "Training Loss: 0.7034, Validation Loss: 0.6653\n",
      "Epoch 127/4000\n"
     ]
    },
    {
     "name": "stderr",
     "output_type": "stream",
     "text": [
      "Training: 100%|██████████| 24/24 [00:50<00:00,  2.11s/it, loss=0.821]\n",
      "Validation: 100%|██████████| 4/4 [00:04<00:00,  1.08s/it, loss=0.557]\n"
     ]
    },
    {
     "name": "stdout",
     "output_type": "stream",
     "text": [
      "Validation Dice Score\n",
      "Class 0: 0.6574, Class 1: 0.8322, Class 2: 0.0003, Class 3: 0.0889, \n",
      "Class 4: 0.4186, Class 5: 0.2152, Class 6: 0.8438, \n",
      "Training Loss: 0.7262, Validation Loss: 0.6488\n",
      "Epoch 128/4000\n"
     ]
    },
    {
     "name": "stderr",
     "output_type": "stream",
     "text": [
      "Training: 100%|██████████| 24/24 [00:50<00:00,  2.11s/it, loss=0.813]\n",
      "Validation: 100%|██████████| 4/4 [00:04<00:00,  1.08s/it, loss=0.6]  \n"
     ]
    },
    {
     "name": "stdout",
     "output_type": "stream",
     "text": [
      "Validation Dice Score\n",
      "Class 0: 0.6567, Class 1: 0.8140, Class 2: 0.0009, Class 3: 0.0982, \n",
      "Class 4: 0.4489, Class 5: 0.4309, Class 6: 0.6759, \n",
      "Training Loss: 0.7335, Validation Loss: 0.6755\n",
      "Epoch 129/4000\n"
     ]
    },
    {
     "name": "stderr",
     "output_type": "stream",
     "text": [
      "Training: 100%|██████████| 24/24 [00:50<00:00,  2.10s/it, loss=0.814]\n",
      "Validation: 100%|██████████| 4/4 [00:04<00:00,  1.08s/it, loss=0.648]\n"
     ]
    },
    {
     "name": "stdout",
     "output_type": "stream",
     "text": [
      "Validation Dice Score\n",
      "Class 0: 0.6603, Class 1: 0.8691, Class 2: 0.0015, Class 3: 0.2160, \n",
      "Class 4: 0.2647, Class 5: 0.3852, Class 6: 0.8245, \n",
      "Training Loss: 0.7557, Validation Loss: 0.6240\n",
      "Epoch 130/4000\n"
     ]
    },
    {
     "name": "stderr",
     "output_type": "stream",
     "text": [
      "Training: 100%|██████████| 24/24 [00:50<00:00,  2.09s/it, loss=0.741]\n",
      "Validation: 100%|██████████| 4/4 [00:04<00:00,  1.06s/it, loss=0.787]\n"
     ]
    },
    {
     "name": "stdout",
     "output_type": "stream",
     "text": [
      "Validation Dice Score\n",
      "Class 0: 0.6532, Class 1: 0.8209, Class 2: 0.0004, Class 3: 0.1161, \n",
      "Class 4: 0.4524, Class 5: 0.3357, Class 6: 0.8245, \n",
      "Training Loss: 0.7051, Validation Loss: 0.6730\n",
      "Epoch 131/4000\n"
     ]
    },
    {
     "name": "stderr",
     "output_type": "stream",
     "text": [
      "Training: 100%|██████████| 24/24 [00:50<00:00,  2.09s/it, loss=0.793]\n",
      "Validation: 100%|██████████| 4/4 [00:04<00:00,  1.05s/it, loss=0.618]\n"
     ]
    },
    {
     "name": "stdout",
     "output_type": "stream",
     "text": [
      "Validation Dice Score\n",
      "Class 0: 0.6608, Class 1: 0.6312, Class 2: 0.0018, Class 3: 0.1999, \n",
      "Class 4: 0.3171, Class 5: 0.3669, Class 6: 0.8120, \n",
      "Training Loss: 0.7352, Validation Loss: 0.6840\n",
      "Epoch 132/4000\n"
     ]
    },
    {
     "name": "stderr",
     "output_type": "stream",
     "text": [
      "Training: 100%|██████████| 24/24 [00:50<00:00,  2.09s/it, loss=0.641]\n",
      "Validation: 100%|██████████| 4/4 [00:04<00:00,  1.06s/it, loss=0.636]\n"
     ]
    },
    {
     "name": "stdout",
     "output_type": "stream",
     "text": [
      "Validation Dice Score\n",
      "Class 0: 0.6632, Class 1: 0.7796, Class 2: 0.0001, Class 3: 0.0000, \n",
      "Class 4: 0.3358, Class 5: 0.1930, Class 6: 0.7653, \n",
      "Training Loss: 0.7297, Validation Loss: 0.7150\n",
      "Epoch 133/4000\n"
     ]
    },
    {
     "name": "stderr",
     "output_type": "stream",
     "text": [
      "Training: 100%|██████████| 24/24 [00:50<00:00,  2.10s/it, loss=0.627]\n",
      "Validation: 100%|██████████| 4/4 [00:04<00:00,  1.07s/it, loss=0.665]\n"
     ]
    },
    {
     "name": "stdout",
     "output_type": "stream",
     "text": [
      "Validation Dice Score\n",
      "Class 0: 0.6629, Class 1: 0.8244, Class 2: 0.0000, Class 3: 0.1676, \n",
      "Class 4: 0.1515, Class 5: 0.2021, Class 6: 0.8477, \n",
      "Training Loss: 0.7481, Validation Loss: 0.6726\n",
      "Epoch 134/4000\n"
     ]
    },
    {
     "name": "stderr",
     "output_type": "stream",
     "text": [
      "Training: 100%|██████████| 24/24 [00:49<00:00,  2.08s/it, loss=0.744]\n",
      "Validation: 100%|██████████| 4/4 [00:04<00:00,  1.07s/it, loss=0.663]\n"
     ]
    },
    {
     "name": "stdout",
     "output_type": "stream",
     "text": [
      "Validation Dice Score\n",
      "Class 0: 0.6690, Class 1: 0.8004, Class 2: 0.0023, Class 3: 0.0504, \n",
      "Class 4: 0.2616, Class 5: 0.4448, Class 6: 0.6407, \n",
      "Training Loss: 0.7398, Validation Loss: 0.6944\n",
      "Epoch 135/4000\n"
     ]
    },
    {
     "name": "stderr",
     "output_type": "stream",
     "text": [
      "Training: 100%|██████████| 24/24 [00:50<00:00,  2.09s/it, loss=0.66] \n",
      "Validation: 100%|██████████| 4/4 [00:04<00:00,  1.05s/it, loss=0.789]\n"
     ]
    },
    {
     "name": "stdout",
     "output_type": "stream",
     "text": [
      "Validation Dice Score\n",
      "Class 0: 0.6553, Class 1: 0.7986, Class 2: 0.0001, Class 3: 0.2464, \n",
      "Class 4: 0.2117, Class 5: 0.3584, Class 6: 0.8786, \n",
      "Training Loss: 0.7573, Validation Loss: 0.6682\n",
      "Epoch 136/4000\n"
     ]
    },
    {
     "name": "stderr",
     "output_type": "stream",
     "text": [
      "Training: 100%|██████████| 24/24 [00:50<00:00,  2.11s/it, loss=0.654]\n",
      "Validation: 100%|██████████| 4/4 [00:04<00:00,  1.14s/it, loss=0.499]\n"
     ]
    },
    {
     "name": "stdout",
     "output_type": "stream",
     "text": [
      "Validation Dice Score\n",
      "Class 0: 0.6578, Class 1: 0.7518, Class 2: 0.0019, Class 3: 0.2192, \n",
      "Class 4: 0.3774, Class 5: 0.4458, Class 6: 0.6109, \n",
      "Training Loss: 0.7473, Validation Loss: 0.6784\n",
      "Epoch 137/4000\n"
     ]
    },
    {
     "name": "stderr",
     "output_type": "stream",
     "text": [
      "Training: 100%|██████████| 24/24 [00:50<00:00,  2.11s/it, loss=0.658]\n",
      "Validation: 100%|██████████| 4/4 [00:04<00:00,  1.08s/it, loss=0.781]\n"
     ]
    },
    {
     "name": "stdout",
     "output_type": "stream",
     "text": [
      "Validation Dice Score\n",
      "Class 0: 0.6585, Class 1: 0.6645, Class 2: 0.0026, Class 3: 0.1080, \n",
      "Class 4: 0.5648, Class 5: 0.3625, Class 6: 0.4495, \n",
      "Training Loss: 0.7266, Validation Loss: 0.6896\n",
      "Epoch 138/4000\n"
     ]
    },
    {
     "name": "stderr",
     "output_type": "stream",
     "text": [
      "Training: 100%|██████████| 24/24 [00:50<00:00,  2.11s/it, loss=0.647]\n",
      "Validation: 100%|██████████| 4/4 [00:04<00:00,  1.06s/it, loss=0.719]\n"
     ]
    },
    {
     "name": "stdout",
     "output_type": "stream",
     "text": [
      "Validation Dice Score\n",
      "Class 0: 0.6592, Class 1: 0.8135, Class 2: 0.0026, Class 3: 0.1307, \n",
      "Class 4: 0.5074, Class 5: 0.3455, Class 6: 0.8598, \n",
      "Training Loss: 0.7336, Validation Loss: 0.6642\n",
      "Epoch 139/4000\n"
     ]
    },
    {
     "name": "stderr",
     "output_type": "stream",
     "text": [
      "Training: 100%|██████████| 24/24 [00:50<00:00,  2.10s/it, loss=0.746]\n",
      "Validation: 100%|██████████| 4/4 [00:04<00:00,  1.07s/it, loss=0.807]\n"
     ]
    },
    {
     "name": "stdout",
     "output_type": "stream",
     "text": [
      "Validation Dice Score\n",
      "Class 0: 0.6518, Class 1: 0.8066, Class 2: 0.0018, Class 3: 0.2266, \n",
      "Class 4: 0.2324, Class 5: 0.4108, Class 6: 0.8089, \n",
      "Training Loss: 0.7469, Validation Loss: 0.6808\n",
      "Epoch 140/4000\n"
     ]
    },
    {
     "name": "stderr",
     "output_type": "stream",
     "text": [
      "Training: 100%|██████████| 24/24 [00:50<00:00,  2.10s/it, loss=0.703]\n",
      "Validation: 100%|██████████| 4/4 [00:04<00:00,  1.05s/it, loss=0.788]\n"
     ]
    },
    {
     "name": "stdout",
     "output_type": "stream",
     "text": [
      "Validation Dice Score\n",
      "Class 0: 0.6617, Class 1: 0.8122, Class 2: 0.0029, Class 3: 0.1215, \n",
      "Class 4: 0.3918, Class 5: 0.2366, Class 6: 0.6595, \n",
      "Training Loss: 0.7453, Validation Loss: 0.7244\n",
      "Epoch 141/4000\n"
     ]
    },
    {
     "name": "stderr",
     "output_type": "stream",
     "text": [
      "Training: 100%|██████████| 24/24 [00:50<00:00,  2.09s/it, loss=0.677]\n",
      "Validation: 100%|██████████| 4/4 [00:04<00:00,  1.08s/it, loss=0.596]\n"
     ]
    },
    {
     "name": "stdout",
     "output_type": "stream",
     "text": [
      "Validation Dice Score\n",
      "Class 0: 0.6621, Class 1: 0.7239, Class 2: 0.0025, Class 3: 0.1395, \n",
      "Class 4: 0.3028, Class 5: 0.2918, Class 6: 0.4397, \n",
      "Training Loss: 0.7377, Validation Loss: 0.7229\n",
      "Epoch 142/4000\n"
     ]
    },
    {
     "name": "stderr",
     "output_type": "stream",
     "text": [
      "Training: 100%|██████████| 24/24 [00:50<00:00,  2.09s/it, loss=0.616]\n",
      "Validation: 100%|██████████| 4/4 [00:04<00:00,  1.07s/it, loss=0.675]\n"
     ]
    },
    {
     "name": "stdout",
     "output_type": "stream",
     "text": [
      "Validation Dice Score\n",
      "Class 0: 0.6601, Class 1: 0.8307, Class 2: 0.0007, Class 3: 0.1416, \n",
      "Class 4: 0.4041, Class 5: 0.3655, Class 6: 0.6586, \n",
      "Training Loss: 0.7659, Validation Loss: 0.6557\n",
      "Epoch 143/4000\n"
     ]
    },
    {
     "name": "stderr",
     "output_type": "stream",
     "text": [
      "Training: 100%|██████████| 24/24 [00:50<00:00,  2.09s/it, loss=0.722]\n",
      "Validation: 100%|██████████| 4/4 [00:04<00:00,  1.05s/it, loss=0.679]\n"
     ]
    },
    {
     "name": "stdout",
     "output_type": "stream",
     "text": [
      "Validation Dice Score\n",
      "Class 0: 0.6654, Class 1: 0.7881, Class 2: 0.0000, Class 3: 0.2555, \n",
      "Class 4: 0.4160, Class 5: 0.4760, Class 6: 0.9136, \n",
      "Training Loss: 0.7286, Validation Loss: 0.6619\n",
      "Epoch 144/4000\n"
     ]
    },
    {
     "name": "stderr",
     "output_type": "stream",
     "text": [
      "Training: 100%|██████████| 24/24 [00:50<00:00,  2.10s/it, loss=0.693]\n",
      "Validation: 100%|██████████| 4/4 [00:04<00:00,  1.05s/it, loss=0.747]\n"
     ]
    },
    {
     "name": "stdout",
     "output_type": "stream",
     "text": [
      "Validation Dice Score\n",
      "Class 0: 0.6584, Class 1: 0.8153, Class 2: 0.0025, Class 3: 0.2614, \n",
      "Class 4: 0.4323, Class 5: 0.2822, Class 6: 0.6302, \n",
      "Training Loss: 0.7425, Validation Loss: 0.6852\n",
      "Epoch 145/4000\n"
     ]
    },
    {
     "name": "stderr",
     "output_type": "stream",
     "text": [
      "Training: 100%|██████████| 24/24 [00:51<00:00,  2.13s/it, loss=0.613]\n",
      "Validation: 100%|██████████| 4/4 [00:04<00:00,  1.11s/it, loss=0.634]"
     ]
    },
    {
     "name": "stdout",
     "output_type": "stream",
     "text": [
      "Validation Dice Score\n",
      "Class 0: 0.6457, Class 1: 0.6694, Class 2: 0.0019, Class 3: 0.1549, \n",
      "Class 4: 0.1889, Class 5: 0.4656, Class 6: 0.8733, \n",
      "Training Loss: 0.7257, Validation Loss: 0.6848\n",
      "Early stopping\n"
     ]
    },
    {
     "name": "stderr",
     "output_type": "stream",
     "text": [
      "\n"
     ]
    }
   ],
   "source": [
    "from monai.metrics import DiceMetric\n",
    "\n",
    "def create_metric_dict(num_classes):\n",
    "    \"\"\"각 클래스별 DiceMetric 생성\"\"\"\n",
    "    metrics = {}\n",
    "    for i in range(num_classes):\n",
    "        metrics[f'dice_class_{i}'] = DiceMetric(\n",
    "            include_background=False if i == 0 else False,\n",
    "            reduction=\"mean\",\n",
    "            get_not_nans=False\n",
    "        )\n",
    "    return metrics\n",
    "    \n",
    "def processing(batch_data, model, criterion, device):\n",
    "    images = batch_data['image'].to(device)  # Input 이미지 (B, 1, 96, 96, 96)\n",
    "    labels = batch_data['label'].to(device)  # 라벨 (B, 96, 96, 96)\n",
    "\n",
    "    labels = labels.squeeze(1)  # (B, 1, 96, 96, 96) → (B, 96, 96, 96)\n",
    "    labels = labels.long()  # 라벨을 정수형으로 변환\n",
    "\n",
    "    # 원핫 인코딩 (B, H, W, D) → (B, num_classes, H, W, D)\n",
    "    \n",
    "    labels_onehot = torch.nn.functional.one_hot(labels, num_classes=n_classes)\n",
    "    labels_onehot = labels_onehot.permute(0, 4, 1, 2, 3).float()  # (B, num_classes, H, W, D)\n",
    "\n",
    "    # 모델 예측\n",
    "    outputs = model(images)  # outputs: (B, num_classes, H, W, D)\n",
    "\n",
    "    # Loss 계산\n",
    "    loss = criterion(outputs, labels_onehot)\n",
    "\n",
    "    return loss, outputs, labels, outputs.argmax(dim=1)\n",
    "\n",
    "def train_one_epoch(model, train_loader, criterion, optimizer, device):\n",
    "    model.train()\n",
    "    epoch_loss = 0\n",
    "    with tqdm(train_loader, desc='Training') as pbar:\n",
    "        for batch_data in pbar:\n",
    "            optimizer.zero_grad()\n",
    "            loss, _, _, _ = processing(batch_data, model, criterion, device)\n",
    "            loss.backward()\n",
    "            optimizer.step()\n",
    "\n",
    "            epoch_loss += loss.item()\n",
    "            pbar.set_postfix(loss=loss.item())\n",
    "\n",
    "    return epoch_loss / len(train_loader)\n",
    "\n",
    "def validate_one_epoch(model, val_loader, criterion, device, epoch, calculate_dice_interval):\n",
    "    model.eval()\n",
    "    val_loss = 0\n",
    "    metrics = create_metric_dict(n_classes)\n",
    "    class_dice_scores = {i: [] for i in range(n_classes)}\n",
    "    with torch.no_grad():\n",
    "        with tqdm(val_loader, desc='Validation') as pbar:\n",
    "            for batch_data in pbar:\n",
    "                loss, _, labels, preds = processing(batch_data, model, criterion, device)\n",
    "                val_loss += loss.item()\n",
    "                pbar.set_postfix(loss=loss.item())\n",
    "\n",
    "                # 각 클래스별 Dice 점수 계산\n",
    "                if epoch % calculate_dice_interval == 0:\n",
    "                    for i in range(n_classes):\n",
    "                        pred_i = (preds == i)\n",
    "                        label_i = (labels == i)\n",
    "                        dice_score = (2.0 * torch.sum(pred_i & label_i)) / (torch.sum(pred_i) + torch.sum(label_i) + 1e-8)\n",
    "                        class_dice_scores[i].append(dice_score.item())\n",
    "\n",
    "    # 각 클래스별 평균 Dice 점수 출력\n",
    "    if epoch % calculate_dice_interval == 0:\n",
    "        print(\"Validation Dice Score\")\n",
    "        for i in range(n_classes):\n",
    "            mean_dice = np.mean(class_dice_scores[i])\n",
    "            print(f\"Class {i}: {mean_dice:.4f}\", end=\", \")\n",
    "            if i == 3:\n",
    "                print()\n",
    "        print()\n",
    "\n",
    "    return val_loss / len(val_loader)\n",
    "\n",
    "def train_model(\n",
    "    model, train_loader, val_loader, criterion, optimizer, num_epochs, patience, \n",
    "    device, start_epoch, best_val_loss, calculate_dice_interval=1\n",
    "):\n",
    "    \"\"\"\n",
    "    모델을 학습하고 검증하는 함수\n",
    "    Args:\n",
    "        model: 학습할 모델\n",
    "        train_loader: 학습 데이터 로더\n",
    "        val_loader: 검증 데이터 로더\n",
    "        criterion: 손실 함수\n",
    "        optimizer: 최적화 알고리즘\n",
    "        num_epochs: 총 학습 epoch 수\n",
    "        patience: early stopping 기준\n",
    "        device: GPU/CPU 장치\n",
    "        start_epoch: 시작 epoch\n",
    "        best_val_loss: 이전 최적 validation loss\n",
    "        calculate_dice_interval: Dice 점수 계산 주기\n",
    "    \"\"\"\n",
    "\n",
    "    epochs_no_improve = 0\n",
    "\n",
    "    for epoch in range(start_epoch, num_epochs):\n",
    "        print(f\"Epoch {epoch + 1}/{num_epochs}\")\n",
    "\n",
    "        # Train One Epoch\n",
    "        train_loss = train_one_epoch(\n",
    "            model=model, \n",
    "            train_loader=train_loader, \n",
    "            criterion=criterion, \n",
    "            optimizer=optimizer, \n",
    "            device=device\n",
    "        )\n",
    "\n",
    "        # Validate One Epoch\n",
    "        val_loss = validate_one_epoch(\n",
    "            model=model, \n",
    "            val_loader=val_loader, \n",
    "            criterion=criterion, \n",
    "            device=device, \n",
    "            epoch=epoch, \n",
    "            calculate_dice_interval=calculate_dice_interval\n",
    "        )\n",
    "\n",
    "        print(f\"Training Loss: {train_loss:.4f}, Validation Loss: {val_loss:.4f}\")\n",
    "\n",
    "        # Early stopping 및 모델 저장 로직\n",
    "        if val_loss < best_val_loss:\n",
    "            best_val_loss = val_loss\n",
    "            epochs_no_improve = 0\n",
    "            checkpoint_path = os.path.join(checkpoint_dir, 'best_model.pt')\n",
    "            torch.save({\n",
    "                'epoch': epoch + 1,\n",
    "                'model_state_dict': model.state_dict(),\n",
    "                'optimizer_state_dict': optimizer.state_dict(),\n",
    "                'best_val_loss': best_val_loss,\n",
    "            }, checkpoint_path)\n",
    "            print(f\"========================================================\")\n",
    "            print(f\"Best model saved with validation loss: {best_val_loss:.4f}\")\n",
    "            print(f\"========================================================\")\n",
    "        else:\n",
    "            epochs_no_improve += 1\n",
    "\n",
    "        if epochs_no_improve >= patience:\n",
    "            print(\"Early stopping\")\n",
    "            break\n",
    "\n",
    "train_model(\n",
    "    model=model,\n",
    "    train_loader=train_loader,\n",
    "    val_loader=val_loader,\n",
    "    criterion=criterion,\n",
    "    optimizer=optimizer,\n",
    "    num_epochs=num_epochs,\n",
    "    patience=50,\n",
    "    device=device,\n",
    "    start_epoch=start_epoch,\n",
    "    best_val_loss=best_val_loss,\n",
    "    calculate_dice_interval=1\n",
    ")"
   ]
  },
  {
   "cell_type": "markdown",
   "metadata": {},
   "source": [
    "# Inference"
   ]
  },
  {
   "cell_type": "code",
   "execution_count": 1,
   "metadata": {},
   "outputs": [],
   "source": [
    "from src.dataset.preprocessing import Preprocessor"
   ]
  },
  {
   "cell_type": "code",
   "execution_count": 2,
   "metadata": {},
   "outputs": [
    {
     "name": "stdout",
     "output_type": "stream",
     "text": [
      "Done.\n"
     ]
    }
   ],
   "source": [
    "from monai.inferers import sliding_window_inference\n",
    "from monai.transforms import Compose, EnsureChannelFirstd, NormalizeIntensityd, Orientationd, GaussianSmoothd\n",
    "from monai.data import DataLoader, Dataset, CacheDataset\n",
    "from monai.networks.nets import SwinUNETR\n",
    "from pathlib import Path\n",
    "import numpy as np\n",
    "import copick\n",
    "\n",
    "import torch\n",
    "print(\"Done.\")"
   ]
  },
  {
   "cell_type": "code",
   "execution_count": 3,
   "metadata": {},
   "outputs": [
    {
     "name": "stdout",
     "output_type": "stream",
     "text": [
      "Config file written to ./kaggle/working/copick.config\n",
      "file length: 7\n"
     ]
    }
   ],
   "source": [
    "config_blob = \"\"\"{\n",
    "    \"name\": \"czii_cryoet_mlchallenge_2024\",\n",
    "    \"description\": \"2024 CZII CryoET ML Challenge training data.\",\n",
    "    \"version\": \"1.0.0\",\n",
    "\n",
    "    \"pickable_objects\": [\n",
    "        {\n",
    "            \"name\": \"apo-ferritin\",\n",
    "            \"is_particle\": true,\n",
    "            \"pdb_id\": \"4V1W\",\n",
    "            \"label\": 1,\n",
    "            \"color\": [  0, 117, 220, 128],\n",
    "            \"radius\": 60,\n",
    "            \"map_threshold\": 0.0418\n",
    "        },\n",
    "        {\n",
    "          \"name\" : \"beta-amylase\",\n",
    "            \"is_particle\": true,\n",
    "            \"pdb_id\": \"8ZRZ\",\n",
    "            \"label\": 2,\n",
    "            \"color\": [255, 255, 255, 128],\n",
    "            \"radius\": 90,\n",
    "            \"map_threshold\": 0.0578  \n",
    "        },\n",
    "        {\n",
    "            \"name\": \"beta-galactosidase\",\n",
    "            \"is_particle\": true,\n",
    "            \"pdb_id\": \"6X1Q\",\n",
    "            \"label\": 3,\n",
    "            \"color\": [ 76,   0,  92, 128],\n",
    "            \"radius\": 90,\n",
    "            \"map_threshold\": 0.0578\n",
    "        },\n",
    "        {\n",
    "            \"name\": \"ribosome\",\n",
    "            \"is_particle\": true,\n",
    "            \"pdb_id\": \"6EK0\",\n",
    "            \"label\": 4,\n",
    "            \"color\": [  0,  92,  49, 128],\n",
    "            \"radius\": 150,\n",
    "            \"map_threshold\": 0.0374\n",
    "        },\n",
    "        {\n",
    "            \"name\": \"thyroglobulin\",\n",
    "            \"is_particle\": true,\n",
    "            \"pdb_id\": \"6SCJ\",\n",
    "            \"label\": 5,\n",
    "            \"color\": [ 43, 206,  72, 128],\n",
    "            \"radius\": 130,\n",
    "            \"map_threshold\": 0.0278\n",
    "        },\n",
    "        {\n",
    "            \"name\": \"virus-like-particle\",\n",
    "            \"is_particle\": true,\n",
    "            \"label\": 6,\n",
    "            \"color\": [255, 204, 153, 128],\n",
    "            \"radius\": 135,\n",
    "            \"map_threshold\": 0.201\n",
    "        },\n",
    "        {\n",
    "            \"name\": \"membrane\",\n",
    "            \"is_particle\": false,\n",
    "            \"label\": 8,\n",
    "            \"color\": [100, 100, 100, 128]\n",
    "        },\n",
    "        {\n",
    "            \"name\": \"background\",\n",
    "            \"is_particle\": false,\n",
    "            \"label\": 9,\n",
    "            \"color\": [10, 150, 200, 128]\n",
    "        }\n",
    "    ],\n",
    "\n",
    "    \"overlay_root\": \"./kaggle/working/overlay\",\n",
    "\n",
    "    \"overlay_fs_args\": {\n",
    "        \"auto_mkdir\": true\n",
    "    },\n",
    "\n",
    "    \"static_root\": \"./kaggle/input/czii-cryo-et-object-identification/test/static\"\n",
    "}\"\"\"\n",
    "\n",
    "copick_config_path = \"./kaggle/working/copick.config\"\n",
    "preprocessor = Preprocessor(config_blob,copick_config_path=copick_config_path)\n",
    "non_random_transforms = Compose([\n",
    "    EnsureChannelFirstd(keys=[\"image\"], channel_dim=\"no_channel\"),\n",
    "    NormalizeIntensityd(keys=\"image\"),\n",
    "    Orientationd(keys=[\"image\"], axcodes=\"RAS\"),\n",
    "    GaussianSmoothd(\n",
    "        keys=[\"image\"],      # 변환을 적용할 키\n",
    "        sigma=[1.0, 1.0, 1.0]  # 각 축(x, y, z)의 시그마 값\n",
    "        ),\n",
    "    ])"
   ]
  },
  {
   "cell_type": "code",
   "execution_count": 4,
   "metadata": {},
   "outputs": [
    {
     "name": "stderr",
     "output_type": "stream",
     "text": [
      "c:\\ProgramData\\anaconda3\\envs\\ship\\Lib\\site-packages\\monai\\utils\\deprecate_utils.py:221: FutureWarning: monai.networks.nets.swin_unetr SwinUNETR.__init__:img_size: Argument `img_size` has been deprecated since version 1.3. It will be removed in version 1.5. The img_size argument is not required anymore and checks on the input size are run during forward().\n",
      "  warn_deprecated(argname, msg, warning_category)\n",
      "C:\\Users\\Seungwoo\\AppData\\Local\\Temp\\ipykernel_38640\\2937359115.py:15: FutureWarning: You are using `torch.load` with `weights_only=False` (the current default value), which uses the default pickle module implicitly. It is possible to construct malicious pickle data which will execute arbitrary code during unpickling (See https://github.com/pytorch/pytorch/blob/main/SECURITY.md#untrusted-models for more details). In a future release, the default value for `weights_only` will be flipped to `True`. This limits the functions that could be executed during unpickling. Arbitrary objects will no longer be allowed to be loaded via this mode unless they are explicitly allowlisted by the user via `torch.serialization.add_safe_globals`. We recommend you start setting `weights_only=True` for any use case where you don't have full control of the loaded file. Please open an issue on GitHub for any issues related to this experimental feature.\n",
      "  checkpoint = torch.load(pretrain_path, map_location=device)\n"
     ]
    },
    {
     "data": {
      "text/plain": [
       "<All keys matched successfully>"
      ]
     },
     "execution_count": 4,
     "metadata": {},
     "output_type": "execute_result"
    }
   ],
   "source": [
    "img_size = 96\n",
    "img_depth = img_size\n",
    "n_classes = 7 \n",
    "\n",
    "device = torch.device(\"cuda\" if torch.cuda.is_available() else \"cpu\")\n",
    "pretrain_path = \"./model_checkpoints/SwinUNETR96_96_lr0.001_lambda0.52_batch2/best_model.pt\"\n",
    "model = SwinUNETR(\n",
    "    img_size=(img_depth, img_size, img_size),\n",
    "    in_channels=1,\n",
    "    out_channels=n_classes,\n",
    "    feature_size=48,\n",
    "    use_checkpoint=True,\n",
    ").to(device)\n",
    "# Pretrained weights 불러오기\n",
    "checkpoint = torch.load(pretrain_path, map_location=device)\n",
    "model.load_state_dict(checkpoint['model_state_dict'])\n"
   ]
  },
  {
   "cell_type": "code",
   "execution_count": null,
   "metadata": {},
   "outputs": [
    {
     "name": "stdout",
     "output_type": "stream",
     "text": [
      "Processing volume 1/7\n"
     ]
    },
    {
     "name": "stderr",
     "output_type": "stream",
     "text": [
      "Loading dataset: 100%|██████████| 1/1 [00:01<00:00,  1.94s/it]\n"
     ]
    },
    {
     "name": "stdout",
     "output_type": "stream",
     "text": [
      "Processing volume 2/7\n"
     ]
    },
    {
     "name": "stderr",
     "output_type": "stream",
     "text": [
      "Loading dataset: 100%|██████████| 1/1 [00:01<00:00,  1.89s/it]\n"
     ]
    },
    {
     "name": "stdout",
     "output_type": "stream",
     "text": [
      "Processing volume 3/7\n"
     ]
    },
    {
     "name": "stderr",
     "output_type": "stream",
     "text": [
      "Loading dataset: 100%|██████████| 1/1 [00:01<00:00,  1.79s/it]\n"
     ]
    },
    {
     "name": "stdout",
     "output_type": "stream",
     "text": [
      "Submission saved to: submission.csv\n"
     ]
    }
   ],
   "source": [
    "import torch\n",
    "import numpy as np\n",
    "from scipy.ndimage import label, center_of_mass\n",
    "import pandas as pd\n",
    "from tqdm import tqdm\n",
    "from monai.data import CacheDataset, DataLoader\n",
    "from monai.transforms import Compose, NormalizeIntensity\n",
    "import cc3d\n",
    "\n",
    "def dict_to_df(coord_dict, experiment_name):\n",
    "    all_coords = []\n",
    "    all_labels = []\n",
    "    \n",
    "    for label, coords in coord_dict.items():\n",
    "        all_coords.append(coords)\n",
    "        all_labels.extend([label] * len(coords))\n",
    "    \n",
    "    all_coords = np.vstack(all_coords)\n",
    "    df = pd.DataFrame({\n",
    "        'experiment': experiment_name,\n",
    "        'particle_type': all_labels,\n",
    "        'x': all_coords[:, 0],\n",
    "        'y': all_coords[:, 1],\n",
    "        'z': all_coords[:, 2]\n",
    "    })\n",
    "    return df\n",
    "\n",
    "id_to_name = {1: \"apo-ferritin\", \n",
    "              2: \"beta-amylase\",\n",
    "              3: \"beta-galactosidase\", \n",
    "              4: \"ribosome\", \n",
    "              5: \"thyroglobulin\", \n",
    "              6: \"virus-like-particle\"}\n",
    "BLOB_THRESHOLD = 200\n",
    "CERTAINTY_THRESHOLD = 0.05\n",
    "\n",
    "classes = [1, 2, 3, 4, 5, 6]\n",
    "\n",
    "model.eval()\n",
    "with torch.no_grad():\n",
    "    location_dfs = []  # DataFrame 리스트로 초기화\n",
    "    \n",
    "    for vol_idx, run in enumerate(preprocessor.root.runs):\n",
    "        print(f\"Processing volume {vol_idx + 1}/{len(preprocessor.root.runs)}\")\n",
    "        tomogram = preprocessor.processing(run=run, task=\"task\")\n",
    "        task_files = [{\"image\": tomogram}]\n",
    "        task_ds = CacheDataset(data=task_files, transform=non_random_transforms)\n",
    "        task_loader = DataLoader(task_ds, batch_size=1, num_workers=0)\n",
    "        \n",
    "        for task_data in task_loader:\n",
    "            images = task_data['image'].to(\"cuda\")\n",
    "            outputs = sliding_window_inference(\n",
    "                inputs=images,\n",
    "                roi_size=(96, 96, 96),  # ROI 크기\n",
    "                sw_batch_size=4,\n",
    "                predictor=model.forward,\n",
    "                overlap=0.1,\n",
    "                sw_device=\"cuda\",\n",
    "                device=\"cpu\",\n",
    "                buffer_steps=1,\n",
    "                buffer_dim=-1\n",
    "            )\n",
    "            outputs = outputs.argmax(dim=1).squeeze(0).cpu().numpy()  # 클래스 채널 예측\n",
    "            location = {}  # 좌표 저장용 딕셔너리\n",
    "            for c in classes:\n",
    "                cc = cc3d.connected_components(outputs == c)  # cc3d 라벨링\n",
    "                stats = cc3d.statistics(cc)\n",
    "                zyx = stats['centroids'][1:] * 10.012444  # 스케일 변환\n",
    "                zyx_large = zyx[stats['voxel_counts'][1:] > BLOB_THRESHOLD]  # 크기 필터링\n",
    "                xyz = np.ascontiguousarray(zyx_large[:, ::-1])  # 좌표 스왑 (z, y, x -> x, y, z)\n",
    "\n",
    "                location[id_to_name[c]] = xyz  # ID 이름 매칭 저장\n",
    "\n",
    "            # 데이터프레임 변환\n",
    "            df = dict_to_df(location, run.name)\n",
    "            location_dfs.append(df)  # 리스트에 추가\n",
    "        \n",
    "        # if vol_idx == 2:\n",
    "        #     break\n",
    "    \n",
    "    # DataFrame 병합\n",
    "    final_df = pd.concat(location_dfs, ignore_index=True)\n",
    "    \n",
    "    # ID 추가 및 CSV 저장\n",
    "    final_df.insert(loc=0, column='id', value=np.arange(len(final_df)))\n",
    "    final_df.to_csv(\"submission.csv\", index=False)\n",
    "    print(\"Submission saved to: submission.csv\")\n"
   ]
  }
 ],
 "metadata": {
  "kernelspec": {
   "display_name": "ship",
   "language": "python",
   "name": "python3"
  },
  "language_info": {
   "codemirror_mode": {
    "name": "ipython",
    "version": 3
   },
   "file_extension": ".py",
   "mimetype": "text/x-python",
   "name": "python",
   "nbconvert_exporter": "python",
   "pygments_lexer": "ipython3",
   "version": "3.12.7"
  }
 },
 "nbformat": 4,
 "nbformat_minor": 2
}
