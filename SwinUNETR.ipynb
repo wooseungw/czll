{
 "cells": [
  {
   "cell_type": "code",
   "execution_count": 1,
   "metadata": {},
   "outputs": [
    {
     "name": "stdout",
     "output_type": "stream",
     "text": [
      "MONAI version: 1.4.0\n",
      "Numpy version: 1.26.3\n",
      "Pytorch version: 2.4.1+cu121\n",
      "MONAI flags: HAS_EXT = False, USE_COMPILED = False, USE_META_DICT = False\n",
      "MONAI rev id: 46a5272196a6c2590ca2589029eed8e4d56ff008\n",
      "MONAI __file__: c:\\ProgramData\\anaconda3\\envs\\ship\\Lib\\site-packages\\monai\\__init__.py\n",
      "\n",
      "Optional dependencies:\n",
      "Pytorch Ignite version: NOT INSTALLED or UNKNOWN VERSION.\n",
      "ITK version: NOT INSTALLED or UNKNOWN VERSION.\n",
      "Nibabel version: 5.3.2\n",
      "scikit-image version: 0.24.0\n",
      "scipy version: 1.14.1\n",
      "Pillow version: 10.2.0\n",
      "Tensorboard version: NOT INSTALLED or UNKNOWN VERSION.\n",
      "gdown version: 5.2.0\n",
      "TorchVision version: 0.19.1+cu121\n",
      "tqdm version: 4.66.5\n",
      "lmdb version: NOT INSTALLED or UNKNOWN VERSION.\n",
      "psutil version: 6.0.0\n",
      "pandas version: 2.2.3\n",
      "einops version: 0.8.0\n",
      "transformers version: NOT INSTALLED or UNKNOWN VERSION.\n",
      "mlflow version: NOT INSTALLED or UNKNOWN VERSION.\n",
      "pynrrd version: NOT INSTALLED or UNKNOWN VERSION.\n",
      "clearml version: NOT INSTALLED or UNKNOWN VERSION.\n",
      "\n",
      "For details about installing the optional dependencies, please visit:\n",
      "    https://docs.monai.io/en/latest/installation.html#installing-the-recommended-dependencies\n",
      "\n"
     ]
    }
   ],
   "source": [
    "import os\n",
    "import shutil\n",
    "import tempfile\n",
    "\n",
    "import matplotlib.pyplot as plt\n",
    "from tqdm import tqdm\n",
    "\n",
    "from monai.losses import DiceCELoss\n",
    "from monai.inferers import sliding_window_inference\n",
    "from monai.transforms import (\n",
    "    AsDiscrete,\n",
    "    EnsureChannelFirstd,\n",
    "    Compose,\n",
    "    CropForegroundd,\n",
    "    LoadImaged,\n",
    "    Orientationd,\n",
    "    RandFlipd,\n",
    "    RandCropByPosNegLabeld,\n",
    "    RandShiftIntensityd,\n",
    "    ScaleIntensityRanged,\n",
    "    Spacingd,\n",
    "    RandRotate90d,\n",
    ")\n",
    "\n",
    "from monai.config import print_config\n",
    "from monai.metrics import DiceMetric\n",
    "from monai.networks.nets import UNETR, SwinUNETR\n",
    "\n",
    "from monai.data import (\n",
    "    DataLoader,\n",
    "    CacheDataset,\n",
    "    load_decathlon_datalist,\n",
    "    decollate_batch,\n",
    ")\n",
    "\n",
    "\n",
    "import torch\n",
    "\n",
    "print_config()"
   ]
  },
  {
   "cell_type": "code",
   "execution_count": 2,
   "metadata": {},
   "outputs": [],
   "source": [
    "# class_info = {\n",
    "#     0: {\"name\": \"background\", \"weight\": 10000},  # weight 없음\n",
    "#     1: {\"name\": \"apo-ferritin\", \"weight\": 300},\n",
    "#     2: {\"name\": \"beta-amylase\", \"weight\": 100}, # 4130\n",
    "#     3: {\"name\": \"beta-galactosidase\", \"weight\": 150}, #3080\n",
    "#     4: {\"name\": \"ribosome\", \"weight\": 6000},\n",
    "#     5: {\"name\": \"thyroglobulin\", \"weight\": 4000},\n",
    "#     6: {\"name\": \"virus-like-particle\", \"weight\": 2000},\n",
    "# }\n",
    "\n",
    "# # 가중치에 비례한 비율 계산\n",
    "# raw_ratios = {\n",
    "#     k: (v[\"weight\"] if v[\"weight\"] is not None else 0.01)  # 가중치 비례, None일 경우 기본값\n",
    "#     for k, v in class_info.items()\n",
    "# }\n",
    "# total = sum(raw_ratios.values())\n",
    "# ratios = {k: v / total for k, v in raw_ratios.items()}\n",
    "\n",
    "# # 최종 합계가 1인지 확인\n",
    "# final_total = sum(ratios.values())\n",
    "# print(\"클래스 비율:\", ratios)\n",
    "# print(\"최종 합계:\", final_total)\n",
    "\n",
    "# # 비율을 리스트로 변환\n",
    "# ratios_list = [ratios[k] for k in sorted(ratios.keys())]\n",
    "# print(\"클래스 비율 리스트:\", ratios_list)"
   ]
  },
  {
   "cell_type": "code",
   "execution_count": 3,
   "metadata": {},
   "outputs": [
    {
     "name": "stdout",
     "output_type": "stream",
     "text": [
      "반비례 클래스 비율: {0: 0.008995502248875561, 1: 0.29985007496251875, 2: 0.008995502248875561, 3: 0.5997001499250375, 4: 0.014992503748125935, 5: 0.022488755622188904, 6: 0.04497751124437781}\n",
      "최종 합계: 1.0\n",
      "반비례 클래스 비율 리스트: [0.008995502248875561, 0.29985007496251875, 0.008995502248875561, 0.5997001499250375, 0.014992503748125935, 0.022488755622188904, 0.04497751124437781]\n"
     ]
    }
   ],
   "source": [
    "class_info = {\n",
    "    0: {\"name\": \"background\", \"weight\": 10000},  # weight 없음\n",
    "    1: {\"name\": \"apo-ferritin\", \"weight\": 300},\n",
    "    2: {\"name\": \"beta-amylase\", \"weight\": 10000}, # 100\n",
    "    3: {\"name\": \"beta-galactosidase\", \"weight\": 150}, #3080\n",
    "    4: {\"name\": \"ribosome\", \"weight\": 6000},\n",
    "    5: {\"name\": \"thyroglobulin\", \"weight\": 4000},\n",
    "    6: {\"name\": \"virus-like-particle\", \"weight\": 2000},\n",
    "}\n",
    "\n",
    "# 가중치의 역수 계산 (0인 경우 작은 값을 대체)\n",
    "inverse_ratios = {\n",
    "    k: (1 / v[\"weight\"] if v[\"weight\"] > 0 else 1e-6)\n",
    "    for k, v in class_info.items()\n",
    "}\n",
    "\n",
    "# 정규화하여 비율 계산\n",
    "total_inverse = sum(inverse_ratios.values())\n",
    "ratios_inverse = {k: v / total_inverse for k, v in inverse_ratios.items()}\n",
    "\n",
    "# 최종 합계가 1인지 확인\n",
    "final_total_inverse = sum(ratios_inverse.values())\n",
    "print(\"반비례 클래스 비율:\", ratios_inverse)\n",
    "print(\"최종 합계:\", final_total_inverse)\n",
    "\n",
    "# 비율을 리스트로 변환\n",
    "ratios_list = [ratios_inverse[k] for k in sorted(ratios_inverse.keys())]\n",
    "print(\"반비례 클래스 비율 리스트:\", ratios_list)\n"
   ]
  },
  {
   "cell_type": "code",
   "execution_count": 4,
   "metadata": {},
   "outputs": [],
   "source": [
    "from src.dataset.dataset import create_dataloaders\n",
    "from monai.transforms import (\n",
    "    Compose, LoadImaged, EnsureChannelFirstd, NormalizeIntensityd,\n",
    "    Orientationd, CropForegroundd, GaussianSmoothd, ScaleIntensityd,\n",
    "    RandSpatialCropd, RandRotate90d, RandFlipd, RandGaussianNoised,\n",
    "    ToTensord, RandCropByLabelClassesd\n",
    ")\n",
    "\n",
    "train_img_dir = \"./datasets/train/images\"\n",
    "train_label_dir = \"./datasets/train/labels\"\n",
    "val_img_dir = \"./datasets/val/images\"\n",
    "val_label_dir = \"./datasets/val/labels\"\n",
    "img_depth = 96\n",
    "img_size = 96  # Match your patch size\n",
    "n_classes = 7\n",
    "batch_size = 2 # 13.8GB GPU memory required for 128x128 img size\n",
    "num_samples = batch_size # 한 이미지에서 뽑을 샘플 수\n",
    "loader_batch = 1\n",
    "\n",
    "non_random_transforms = Compose([\n",
    "    EnsureChannelFirstd(keys=[\"image\", \"label\"], channel_dim=\"no_channel\"),\n",
    "    NormalizeIntensityd(keys=\"image\"),\n",
    "    Orientationd(keys=[\"image\", \"label\"], axcodes=\"RAS\"),\n",
    "    GaussianSmoothd(\n",
    "        keys=[\"image\"],      # 변환을 적용할 키\n",
    "        sigma=[1.0, 1.0, 1.0]  # 각 축(x, y, z)의 시그마 값\n",
    "        ),\n",
    "])\n",
    "random_transforms = Compose([\n",
    "    \n",
    "    RandCropByLabelClassesd(\n",
    "        keys=[\"image\", \"label\"],\n",
    "        label_key=\"label\",\n",
    "        spatial_size=[img_depth, img_size, img_size],\n",
    "        num_classes=n_classes,\n",
    "        num_samples=num_samples, \n",
    "        ratios=ratios_list,\n",
    "    ),\n",
    "    RandRotate90d(keys=[\"image\", \"label\"], prob=0.5, spatial_axes=[1, 2]),\n",
    "    RandFlipd(keys=[\"image\", \"label\"], prob=0.5, spatial_axis=0),\n",
    "])\n"
   ]
  },
  {
   "cell_type": "code",
   "execution_count": 5,
   "metadata": {},
   "outputs": [
    {
     "name": "stderr",
     "output_type": "stream",
     "text": [
      "Loading dataset: 100%|██████████| 24/24 [00:41<00:00,  1.72s/it]\n",
      "Loading dataset: 100%|██████████| 4/4 [00:07<00:00,  1.76s/it]\n"
     ]
    }
   ],
   "source": [
    "train_loader, val_loader = None, None\n",
    "train_loader, val_loader = create_dataloaders(\n",
    "    train_img_dir, \n",
    "    train_label_dir, \n",
    "    val_img_dir, \n",
    "    val_label_dir, \n",
    "    non_random_transforms = non_random_transforms, \n",
    "    random_transforms = random_transforms, \n",
    "    batch_size = loader_batch,\n",
    "    num_workers=0)"
   ]
  },
  {
   "cell_type": "markdown",
   "metadata": {},
   "source": [
    "https://monai.io/model-zoo.html"
   ]
  },
  {
   "cell_type": "code",
   "execution_count": 6,
   "metadata": {},
   "outputs": [
    {
     "name": "stderr",
     "output_type": "stream",
     "text": [
      "c:\\ProgramData\\anaconda3\\envs\\ship\\Lib\\site-packages\\monai\\utils\\deprecate_utils.py:221: FutureWarning: monai.networks.nets.swin_unetr SwinUNETR.__init__:img_size: Argument `img_size` has been deprecated since version 1.3. It will be removed in version 1.5. The img_size argument is not required anymore and checks on the input size are run during forward().\n",
      "  warn_deprecated(argname, msg, warning_category)\n"
     ]
    }
   ],
   "source": [
    "import torch.optim as optim\n",
    "from tqdm import tqdm\n",
    "import numpy as np\n",
    "import torch\n",
    "from monai.losses import TverskyLoss\n",
    "from pathlib import Path\n",
    "from monai.metrics import DiceMetric\n",
    "# Model Configuration\n",
    "start_epoch = 0\n",
    "best_val_loss = float('inf')\n",
    "\n",
    "# Training setup\n",
    "num_epochs = 4000\n",
    "lamda = 0.52\n",
    "lr = 0.001\n",
    "\n",
    "device = torch.device(\"cuda\" if torch.cuda.is_available() else \"cpu\")\n",
    "\n",
    "model = SwinUNETR(\n",
    "    img_size=(img_depth, img_size, img_size),\n",
    "    in_channels=1,\n",
    "    out_channels=n_classes,\n",
    "    feature_size=36,\n",
    "    use_checkpoint=False,\n",
    ").to(device)\n",
    "# Pretrained weights 불러오기\n",
    "# pretrain_path = \"./swin_unetr_btcv_segmentation/models/model.pt\"\n",
    "# weight = torch.load(pretrain_path, map_location=device)\n",
    "\n",
    "# # 출력 레이어의 키를 제외한 나머지 가중치만 로드\n",
    "# filtered_weights = {k: v for k, v in weight.items() if \"out.conv.conv\" not in k}\n",
    "\n",
    "# # strict=False로 로드하여 불일치하는 부분 무시\n",
    "# model.load_state_dict(filtered_weights, strict=False)\n",
    "# print(\"Filtered weights loaded successfully. Output layer will be trained from scratch.\")\n",
    "\n",
    "# Load pretrained weights\n",
    "# model.load_from(weights=np.load(config_vit.real_pretrained_path, allow_pickle=True))\n",
    "\n",
    "# TverskyLoss 설정\n",
    "criterion = TverskyLoss(\n",
    "    alpha=1- lamda,  # FP에 대한 가중치\n",
    "    beta= lamda,  # FN에 대한 가중치\n",
    "    include_background=False,\n",
    "    softmax=True\n",
    ")\n",
    "\n",
    "# 체크포인트 디렉토리 및 파일 설정\n",
    "checkpoint_base_dir = Path(\"./model_checkpoints\")\n",
    "checkpoint_dir = checkpoint_base_dir / f\"SwinUNETR_no_pretrain_f36_newratio_{img_depth}_{img_size}_lr{lr}_lambda{lamda}_batch{batch_size}\"\n",
    "optimizer = optim.AdamW(model.parameters(), lr=lr, weight_decay=1e-5)\n",
    "\n",
    "# 체크포인트 디렉토리 생성\n",
    "checkpoint_dir.mkdir(parents=True, exist_ok=True)\n",
    "\n",
    "if checkpoint_dir.exists():\n",
    "    best_model_path = checkpoint_dir / 'best_model.pt'\n",
    "    if best_model_path.exists():\n",
    "        print(f\"기존 best model 발견: {best_model_path}\")\n",
    "        try:\n",
    "            checkpoint = torch.load(best_model_path, map_location=device)\n",
    "            # 체크포인트 내부 키 검증\n",
    "            required_keys = ['model_state_dict', 'optimizer_state_dict', 'epoch', 'best_val_loss']\n",
    "            if all(k in checkpoint for k in required_keys):\n",
    "                model.load_state_dict(checkpoint['model_state_dict'])\n",
    "                optimizer.load_state_dict(checkpoint['optimizer_state_dict'])\n",
    "                start_epoch = checkpoint['epoch']\n",
    "                best_val_loss = checkpoint['best_val_loss']\n",
    "                print(\"기존 학습된 가중치를 성공적으로 로드했습니다.\")\n",
    "            else:\n",
    "                raise ValueError(\"체크포인트 파일에 필요한 key가 없습니다.\")\n",
    "        except Exception as e:\n",
    "            print(f\"체크포인트 파일을 로드하는 중 오류 발생: {e}\")\n"
   ]
  },
  {
   "cell_type": "code",
   "execution_count": 7,
   "metadata": {},
   "outputs": [
    {
     "name": "stdout",
     "output_type": "stream",
     "text": [
      "torch.Size([2, 1, 96, 96, 96]) torch.Size([2, 1, 96, 96, 96])\n"
     ]
    }
   ],
   "source": [
    "batch = next(iter(val_loader))\n",
    "images, labels = batch[\"image\"], batch[\"label\"]\n",
    "print(images.shape, labels.shape)"
   ]
  },
  {
   "cell_type": "code",
   "execution_count": 8,
   "metadata": {},
   "outputs": [],
   "source": [
    "torch.backends.cudnn.benchmark = True"
   ]
  },
  {
   "cell_type": "code",
   "execution_count": 9,
   "metadata": {},
   "outputs": [
    {
     "name": "stdout",
     "output_type": "stream",
     "text": [
      "Epoch 1/4000\n"
     ]
    },
    {
     "name": "stderr",
     "output_type": "stream",
     "text": [
      "Training: 100%|██████████| 24/24 [00:50<00:00,  2.10s/it, loss=0.977]\n",
      "Validation: 100%|██████████| 4/4 [00:04<00:00,  1.00s/it, loss=0.993]\n"
     ]
    },
    {
     "name": "stdout",
     "output_type": "stream",
     "text": [
      "Validation Dice Score\n",
      "Class 0: 0.5830, Class 1: 0.0014, Class 2: 0.0070, Class 3: 0.0014, \n",
      "Class 4: 0.1662, Class 5: 0.0546, Class 6: 0.0000, \n",
      "Training Loss: 0.9906, Validation Loss: 0.9818\n",
      "========================================================\n",
      "Best model saved with validation loss: 0.9818\n",
      "========================================================\n",
      "Epoch 2/4000\n"
     ]
    },
    {
     "name": "stderr",
     "output_type": "stream",
     "text": [
      "Training: 100%|██████████| 24/24 [00:38<00:00,  1.61s/it, loss=0.964]\n",
      "Validation: 100%|██████████| 4/4 [00:03<00:00,  1.16it/s, loss=0.984]\n"
     ]
    },
    {
     "name": "stdout",
     "output_type": "stream",
     "text": [
      "Validation Dice Score\n",
      "Class 0: 0.5560, Class 1: 0.0001, Class 2: 0.0017, Class 3: 0.0012, \n",
      "Class 4: 0.2247, Class 5: 0.0700, Class 6: 0.0007, \n",
      "Training Loss: 0.9800, Validation Loss: 0.9656\n",
      "========================================================\n",
      "Best model saved with validation loss: 0.9656\n",
      "========================================================\n",
      "Epoch 3/4000\n"
     ]
    },
    {
     "name": "stderr",
     "output_type": "stream",
     "text": [
      "Training: 100%|██████████| 24/24 [00:38<00:00,  1.59s/it, loss=0.979]\n",
      "Validation: 100%|██████████| 4/4 [00:03<00:00,  1.16it/s, loss=0.939]\n"
     ]
    },
    {
     "name": "stdout",
     "output_type": "stream",
     "text": [
      "Validation Dice Score\n",
      "Class 0: 0.5813, Class 1: 0.0001, Class 2: 0.0139, Class 3: 0.0013, \n",
      "Class 4: 0.1712, Class 5: 0.1338, Class 6: 0.0022, \n",
      "Training Loss: 0.9635, Validation Loss: 0.9636\n",
      "========================================================\n",
      "Best model saved with validation loss: 0.9636\n",
      "========================================================\n",
      "Epoch 4/4000\n"
     ]
    },
    {
     "name": "stderr",
     "output_type": "stream",
     "text": [
      "Training: 100%|██████████| 24/24 [00:38<00:00,  1.59s/it, loss=0.914]\n",
      "Validation: 100%|██████████| 4/4 [00:03<00:00,  1.14it/s, loss=0.959]\n"
     ]
    },
    {
     "name": "stdout",
     "output_type": "stream",
     "text": [
      "Validation Dice Score\n",
      "Class 0: 0.6143, Class 1: 0.0000, Class 2: 0.0076, Class 3: 0.0006, \n",
      "Class 4: 0.2311, Class 5: 0.1268, Class 6: 0.0000, \n",
      "Training Loss: 0.9662, Validation Loss: 0.9523\n",
      "========================================================\n",
      "Best model saved with validation loss: 0.9523\n",
      "========================================================\n",
      "Epoch 5/4000\n"
     ]
    },
    {
     "name": "stderr",
     "output_type": "stream",
     "text": [
      "Training: 100%|██████████| 24/24 [00:38<00:00,  1.59s/it, loss=0.941]\n",
      "Validation: 100%|██████████| 4/4 [00:03<00:00,  1.14it/s, loss=0.985]\n"
     ]
    },
    {
     "name": "stdout",
     "output_type": "stream",
     "text": [
      "Validation Dice Score\n",
      "Class 0: 0.5956, Class 1: 0.0006, Class 2: 0.0068, Class 3: 0.0012, \n",
      "Class 4: 0.0495, Class 5: 0.1314, Class 6: 0.0825, \n",
      "Training Loss: 0.9534, Validation Loss: 0.9674\n",
      "Epoch 6/4000\n"
     ]
    },
    {
     "name": "stderr",
     "output_type": "stream",
     "text": [
      "Training: 100%|██████████| 24/24 [00:37<00:00,  1.58s/it, loss=0.9]  \n",
      "Validation: 100%|██████████| 4/4 [00:02<00:00,  1.54it/s, loss=0.886]\n"
     ]
    },
    {
     "name": "stdout",
     "output_type": "stream",
     "text": [
      "Validation Dice Score\n",
      "Class 0: 0.5861, Class 1: 0.0006, Class 2: 0.0081, Class 3: 0.0006, \n",
      "Class 4: 0.2097, Class 5: 0.2266, Class 6: 0.3027, \n",
      "Training Loss: 0.9470, Validation Loss: 0.9002\n",
      "========================================================\n",
      "Best model saved with validation loss: 0.9002\n",
      "========================================================\n",
      "Epoch 7/4000\n"
     ]
    },
    {
     "name": "stderr",
     "output_type": "stream",
     "text": [
      "Training: 100%|██████████| 24/24 [00:38<00:00,  1.60s/it, loss=0.935]\n",
      "Validation: 100%|██████████| 4/4 [00:02<00:00,  1.45it/s, loss=0.954]\n"
     ]
    },
    {
     "name": "stdout",
     "output_type": "stream",
     "text": [
      "Validation Dice Score\n",
      "Class 0: 0.6342, Class 1: 0.0008, Class 2: 0.0065, Class 3: 0.0010, \n",
      "Class 4: 0.1619, Class 5: 0.1973, Class 6: 0.1338, \n",
      "Training Loss: 0.9456, Validation Loss: 0.9272\n",
      "Epoch 8/4000\n"
     ]
    },
    {
     "name": "stderr",
     "output_type": "stream",
     "text": [
      "Training: 100%|██████████| 24/24 [00:38<00:00,  1.58s/it, loss=0.916]\n",
      "Validation: 100%|██████████| 4/4 [00:03<00:00,  1.16it/s, loss=0.942]\n"
     ]
    },
    {
     "name": "stdout",
     "output_type": "stream",
     "text": [
      "Validation Dice Score\n",
      "Class 0: 0.6191, Class 1: 0.0008, Class 2: 0.0058, Class 3: 0.0010, \n",
      "Class 4: 0.2745, Class 5: 0.0592, Class 6: 0.0175, \n",
      "Training Loss: 0.9165, Validation Loss: 0.9515\n",
      "Epoch 9/4000\n"
     ]
    },
    {
     "name": "stderr",
     "output_type": "stream",
     "text": [
      "Training: 100%|██████████| 24/24 [00:37<00:00,  1.55s/it, loss=0.961]\n",
      "Validation: 100%|██████████| 4/4 [00:02<00:00,  1.52it/s, loss=0.942]\n"
     ]
    },
    {
     "name": "stdout",
     "output_type": "stream",
     "text": [
      "Validation Dice Score\n",
      "Class 0: 0.6068, Class 1: 0.0004, Class 2: 0.0033, Class 3: 0.0005, \n",
      "Class 4: 0.3064, Class 5: 0.1367, Class 6: 0.1280, \n",
      "Training Loss: 0.9176, Validation Loss: 0.9334\n",
      "Epoch 10/4000\n"
     ]
    },
    {
     "name": "stderr",
     "output_type": "stream",
     "text": [
      "Training: 100%|██████████| 24/24 [00:37<00:00,  1.58s/it, loss=0.912]\n",
      "Validation: 100%|██████████| 4/4 [00:03<00:00,  1.14it/s, loss=0.942]\n"
     ]
    },
    {
     "name": "stdout",
     "output_type": "stream",
     "text": [
      "Validation Dice Score\n",
      "Class 0: 0.6131, Class 1: 0.0003, Class 2: 0.0056, Class 3: 0.0011, \n",
      "Class 4: 0.1784, Class 5: 0.2427, Class 6: 0.0790, \n",
      "Training Loss: 0.9217, Validation Loss: 0.9297\n",
      "Epoch 11/4000\n"
     ]
    },
    {
     "name": "stderr",
     "output_type": "stream",
     "text": [
      "Training: 100%|██████████| 24/24 [00:38<00:00,  1.59s/it, loss=0.901]\n",
      "Validation: 100%|██████████| 4/4 [00:02<00:00,  1.52it/s, loss=0.928]\n"
     ]
    },
    {
     "name": "stdout",
     "output_type": "stream",
     "text": [
      "Validation Dice Score\n",
      "Class 0: 0.6261, Class 1: 0.0003, Class 2: 0.0047, Class 3: 0.0010, \n",
      "Class 4: 0.3239, Class 5: 0.2231, Class 6: 0.0021, \n",
      "Training Loss: 0.9211, Validation Loss: 0.9165\n",
      "Epoch 12/4000\n"
     ]
    },
    {
     "name": "stderr",
     "output_type": "stream",
     "text": [
      "Training: 100%|██████████| 24/24 [00:39<00:00,  1.66s/it, loss=0.939]\n",
      "Validation: 100%|██████████| 4/4 [00:03<00:00,  1.06it/s, loss=0.959]\n"
     ]
    },
    {
     "name": "stdout",
     "output_type": "stream",
     "text": [
      "Validation Dice Score\n",
      "Class 0: 0.6274, Class 1: 0.0005, Class 2: 0.0073, Class 3: 0.0009, \n",
      "Class 4: 0.1844, Class 5: 0.1788, Class 6: 0.1263, \n",
      "Training Loss: 0.9136, Validation Loss: 0.9331\n",
      "Epoch 13/4000\n"
     ]
    },
    {
     "name": "stderr",
     "output_type": "stream",
     "text": [
      "Training: 100%|██████████| 24/24 [00:38<00:00,  1.60s/it, loss=0.892]\n",
      "Validation: 100%|██████████| 4/4 [00:02<00:00,  1.51it/s, loss=0.943]\n"
     ]
    },
    {
     "name": "stdout",
     "output_type": "stream",
     "text": [
      "Validation Dice Score\n",
      "Class 0: 0.6174, Class 1: 0.0004, Class 2: 0.0012, Class 3: 0.0015, \n",
      "Class 4: 0.3334, Class 5: 0.1248, Class 6: 0.2397, \n",
      "Training Loss: 0.9115, Validation Loss: 0.9151\n",
      "Epoch 14/4000\n"
     ]
    },
    {
     "name": "stderr",
     "output_type": "stream",
     "text": [
      "Training: 100%|██████████| 24/24 [00:37<00:00,  1.57s/it, loss=0.943]\n",
      "Validation: 100%|██████████| 4/4 [00:03<00:00,  1.14it/s, loss=0.927]\n"
     ]
    },
    {
     "name": "stdout",
     "output_type": "stream",
     "text": [
      "Validation Dice Score\n",
      "Class 0: 0.6267, Class 1: 0.0002, Class 2: 0.0011, Class 3: 0.0006, \n",
      "Class 4: 0.4088, Class 5: 0.2125, Class 6: 0.0927, \n",
      "Training Loss: 0.9293, Validation Loss: 0.9013\n",
      "Epoch 15/4000\n"
     ]
    },
    {
     "name": "stderr",
     "output_type": "stream",
     "text": [
      "Training: 100%|██████████| 24/24 [00:37<00:00,  1.57s/it, loss=0.917]\n",
      "Validation: 100%|██████████| 4/4 [00:02<00:00,  1.55it/s, loss=0.932]\n"
     ]
    },
    {
     "name": "stdout",
     "output_type": "stream",
     "text": [
      "Validation Dice Score\n",
      "Class 0: 0.6108, Class 1: 0.0006, Class 2: 0.0005, Class 3: 0.0019, \n",
      "Class 4: 0.2246, Class 5: 0.3230, Class 6: 0.1726, \n",
      "Training Loss: 0.9165, Validation Loss: 0.8926\n",
      "========================================================\n",
      "Best model saved with validation loss: 0.8926\n",
      "========================================================\n",
      "Epoch 16/4000\n"
     ]
    },
    {
     "name": "stderr",
     "output_type": "stream",
     "text": [
      "Training: 100%|██████████| 24/24 [00:37<00:00,  1.58s/it, loss=0.865]\n",
      "Validation: 100%|██████████| 4/4 [00:03<00:00,  1.06it/s, loss=0.925]\n"
     ]
    },
    {
     "name": "stdout",
     "output_type": "stream",
     "text": [
      "Validation Dice Score\n",
      "Class 0: 0.6090, Class 1: 0.0001, Class 2: 0.0108, Class 3: 0.0014, \n",
      "Class 4: 0.3920, Class 5: 0.2246, Class 6: 0.1291, \n",
      "Training Loss: 0.8986, Validation Loss: 0.8978\n",
      "Epoch 17/4000\n"
     ]
    },
    {
     "name": "stderr",
     "output_type": "stream",
     "text": [
      "Training: 100%|██████████| 24/24 [00:37<00:00,  1.57s/it, loss=0.939]\n",
      "Validation: 100%|██████████| 4/4 [00:02<00:00,  1.64it/s, loss=0.937]\n"
     ]
    },
    {
     "name": "stdout",
     "output_type": "stream",
     "text": [
      "Validation Dice Score\n",
      "Class 0: 0.6176, Class 1: 0.0004, Class 2: 0.0228, Class 3: 0.0007, \n",
      "Class 4: 0.2906, Class 5: 0.1386, Class 6: 0.2394, \n",
      "Training Loss: 0.8972, Validation Loss: 0.9151\n",
      "Epoch 18/4000\n"
     ]
    },
    {
     "name": "stderr",
     "output_type": "stream",
     "text": [
      "Training: 100%|██████████| 24/24 [00:37<00:00,  1.57s/it, loss=0.919]\n",
      "Validation: 100%|██████████| 4/4 [00:03<00:00,  1.16it/s, loss=0.968]\n"
     ]
    },
    {
     "name": "stdout",
     "output_type": "stream",
     "text": [
      "Validation Dice Score\n",
      "Class 0: 0.6208, Class 1: 0.0011, Class 2: 0.0002, Class 3: 0.0006, \n",
      "Class 4: 0.2092, Class 5: 0.1323, Class 6: 0.1831, \n",
      "Training Loss: 0.9137, Validation Loss: 0.9366\n",
      "Epoch 19/4000\n"
     ]
    },
    {
     "name": "stderr",
     "output_type": "stream",
     "text": [
      "Training: 100%|██████████| 24/24 [00:37<00:00,  1.57s/it, loss=0.876]\n",
      "Validation: 100%|██████████| 4/4 [00:02<00:00,  1.55it/s, loss=0.842]\n"
     ]
    },
    {
     "name": "stdout",
     "output_type": "stream",
     "text": [
      "Validation Dice Score\n",
      "Class 0: 0.6306, Class 1: 0.0009, Class 2: 0.0204, Class 3: 0.0012, \n",
      "Class 4: 0.3075, Class 5: 0.1078, Class 6: 0.2677, \n",
      "Training Loss: 0.8986, Validation Loss: 0.9120\n",
      "Epoch 20/4000\n"
     ]
    },
    {
     "name": "stderr",
     "output_type": "stream",
     "text": [
      "Training: 100%|██████████| 24/24 [00:37<00:00,  1.56s/it, loss=0.855]\n",
      "Validation: 100%|██████████| 4/4 [00:03<00:00,  1.12it/s, loss=0.88] \n"
     ]
    },
    {
     "name": "stdout",
     "output_type": "stream",
     "text": [
      "Validation Dice Score\n",
      "Class 0: 0.6150, Class 1: 0.0006, Class 2: 0.0535, Class 3: 0.0007, \n",
      "Class 4: 0.2480, Class 5: 0.2074, Class 6: 0.0942, \n",
      "Training Loss: 0.9024, Validation Loss: 0.9203\n",
      "Epoch 21/4000\n"
     ]
    },
    {
     "name": "stderr",
     "output_type": "stream",
     "text": [
      "Training: 100%|██████████| 24/24 [00:37<00:00,  1.56s/it, loss=0.985]\n",
      "Validation: 100%|██████████| 4/4 [00:02<00:00,  1.55it/s, loss=0.919]\n"
     ]
    },
    {
     "name": "stdout",
     "output_type": "stream",
     "text": [
      "Validation Dice Score\n",
      "Class 0: 0.6059, Class 1: 0.0007, Class 2: 0.0470, Class 3: 0.0019, \n",
      "Class 4: 0.2615, Class 5: 0.1770, Class 6: 0.0884, \n",
      "Training Loss: 0.9226, Validation Loss: 0.9188\n",
      "Epoch 22/4000\n"
     ]
    },
    {
     "name": "stderr",
     "output_type": "stream",
     "text": [
      "Training: 100%|██████████| 24/24 [00:37<00:00,  1.55s/it, loss=0.848]\n",
      "Validation: 100%|██████████| 4/4 [00:03<00:00,  1.16it/s, loss=0.969]\n"
     ]
    },
    {
     "name": "stdout",
     "output_type": "stream",
     "text": [
      "Validation Dice Score\n",
      "Class 0: 0.6202, Class 1: 0.0008, Class 2: 0.0218, Class 3: 0.0016, \n",
      "Class 4: 0.1451, Class 5: 0.1548, Class 6: 0.1005, \n",
      "Training Loss: 0.9043, Validation Loss: 0.9457\n",
      "Epoch 23/4000\n"
     ]
    },
    {
     "name": "stderr",
     "output_type": "stream",
     "text": [
      "Training: 100%|██████████| 24/24 [00:37<00:00,  1.57s/it, loss=0.981]\n",
      "Validation: 100%|██████████| 4/4 [00:02<00:00,  1.51it/s, loss=0.951]\n"
     ]
    },
    {
     "name": "stdout",
     "output_type": "stream",
     "text": [
      "Validation Dice Score\n",
      "Class 0: 0.6229, Class 1: 0.0006, Class 2: 0.0585, Class 3: 0.0019, \n",
      "Class 4: 0.1222, Class 5: 0.1616, Class 6: 0.1464, \n",
      "Training Loss: 0.9148, Validation Loss: 0.9402\n",
      "Epoch 24/4000\n"
     ]
    },
    {
     "name": "stderr",
     "output_type": "stream",
     "text": [
      "Training: 100%|██████████| 24/24 [00:38<00:00,  1.61s/it, loss=0.922]\n",
      "Validation: 100%|██████████| 4/4 [00:02<00:00,  1.63it/s, loss=0.971]\n"
     ]
    },
    {
     "name": "stdout",
     "output_type": "stream",
     "text": [
      "Validation Dice Score\n",
      "Class 0: 0.6284, Class 1: 0.0007, Class 2: 0.0747, Class 3: 0.0049, \n",
      "Class 4: 0.2529, Class 5: 0.2063, Class 6: 0.0192, \n",
      "Training Loss: 0.9012, Validation Loss: 0.9239\n",
      "Epoch 25/4000\n"
     ]
    },
    {
     "name": "stderr",
     "output_type": "stream",
     "text": [
      "Training: 100%|██████████| 24/24 [00:49<00:00,  2.06s/it, loss=0.899]\n",
      "Validation: 100%|██████████| 4/4 [00:03<00:00,  1.29it/s, loss=0.933]\n"
     ]
    },
    {
     "name": "stdout",
     "output_type": "stream",
     "text": [
      "Validation Dice Score\n",
      "Class 0: 0.6281, Class 1: 0.0005, Class 2: 0.0281, Class 3: 0.0017, \n",
      "Class 4: 0.3409, Class 5: 0.2235, Class 6: 0.2115, \n",
      "Training Loss: 0.9065, Validation Loss: 0.8984\n",
      "Epoch 26/4000\n"
     ]
    },
    {
     "name": "stderr",
     "output_type": "stream",
     "text": [
      "Training: 100%|██████████| 24/24 [00:45<00:00,  1.90s/it, loss=0.886]\n",
      "Validation: 100%|██████████| 4/4 [00:02<00:00,  1.61it/s, loss=0.963]\n"
     ]
    },
    {
     "name": "stdout",
     "output_type": "stream",
     "text": [
      "Validation Dice Score\n",
      "Class 0: 0.6280, Class 1: 0.0004, Class 2: 0.0008, Class 3: 0.0024, \n",
      "Class 4: 0.2089, Class 5: 0.2374, Class 6: 0.0004, \n",
      "Training Loss: 0.9019, Validation Loss: 0.9331\n",
      "Epoch 27/4000\n"
     ]
    },
    {
     "name": "stderr",
     "output_type": "stream",
     "text": [
      "Training: 100%|██████████| 24/24 [00:40<00:00,  1.68s/it, loss=0.912]\n",
      "Validation: 100%|██████████| 4/4 [00:03<00:00,  1.17it/s, loss=0.915]\n"
     ]
    },
    {
     "name": "stdout",
     "output_type": "stream",
     "text": [
      "Validation Dice Score\n",
      "Class 0: 0.6139, Class 1: 0.0000, Class 2: 0.0192, Class 3: 0.0081, \n",
      "Class 4: 0.2756, Class 5: 0.2674, Class 6: 0.1907, \n",
      "Training Loss: 0.9010, Validation Loss: 0.8945\n",
      "Epoch 28/4000\n"
     ]
    },
    {
     "name": "stderr",
     "output_type": "stream",
     "text": [
      "Training: 100%|██████████| 24/24 [00:31<00:00,  1.32s/it, loss=0.962]\n",
      "Validation: 100%|██████████| 4/4 [00:02<00:00,  1.77it/s, loss=0.884]\n"
     ]
    },
    {
     "name": "stdout",
     "output_type": "stream",
     "text": [
      "Validation Dice Score\n",
      "Class 0: 0.6267, Class 1: 0.0002, Class 2: 0.0575, Class 3: 0.0145, \n",
      "Class 4: 0.3125, Class 5: 0.3491, Class 6: 0.1639, \n",
      "Training Loss: 0.9004, Validation Loss: 0.8818\n",
      "========================================================\n",
      "Best model saved with validation loss: 0.8818\n",
      "========================================================\n",
      "Epoch 29/4000\n"
     ]
    },
    {
     "name": "stderr",
     "output_type": "stream",
     "text": [
      "Training: 100%|██████████| 24/24 [00:51<00:00,  2.14s/it, loss=0.906]\n",
      "Validation: 100%|██████████| 4/4 [00:02<00:00,  1.49it/s, loss=0.917]\n"
     ]
    },
    {
     "name": "stdout",
     "output_type": "stream",
     "text": [
      "Validation Dice Score\n",
      "Class 0: 0.6262, Class 1: 0.0002, Class 2: 0.0815, Class 3: 0.0215, \n",
      "Class 4: 0.2469, Class 5: 0.1821, Class 6: 0.1496, \n",
      "Training Loss: 0.8984, Validation Loss: 0.9075\n",
      "Epoch 30/4000\n"
     ]
    },
    {
     "name": "stderr",
     "output_type": "stream",
     "text": [
      "Training: 100%|██████████| 24/24 [00:35<00:00,  1.47s/it, loss=0.94] \n",
      "Validation: 100%|██████████| 4/4 [00:02<00:00,  1.94it/s, loss=0.95] \n"
     ]
    },
    {
     "name": "stdout",
     "output_type": "stream",
     "text": [
      "Validation Dice Score\n",
      "Class 0: 0.6286, Class 1: 0.0004, Class 2: 0.0741, Class 3: 0.0186, \n",
      "Class 4: 0.3053, Class 5: 0.1852, Class 6: 0.0160, \n",
      "Training Loss: 0.9055, Validation Loss: 0.9210\n",
      "Epoch 31/4000\n"
     ]
    },
    {
     "name": "stderr",
     "output_type": "stream",
     "text": [
      "Training: 100%|██████████| 24/24 [00:25<00:00,  1.06s/it, loss=0.888]\n",
      "Validation: 100%|██████████| 4/4 [00:01<00:00,  2.14it/s, loss=0.952]\n"
     ]
    },
    {
     "name": "stdout",
     "output_type": "stream",
     "text": [
      "Validation Dice Score\n",
      "Class 0: 0.6237, Class 1: 0.0007, Class 2: 0.0466, Class 3: 0.0317, \n",
      "Class 4: 0.2266, Class 5: 0.2480, Class 6: 0.0000, \n",
      "Training Loss: 0.8786, Validation Loss: 0.9155\n",
      "Epoch 32/4000\n"
     ]
    },
    {
     "name": "stderr",
     "output_type": "stream",
     "text": [
      "Training: 100%|██████████| 24/24 [00:23<00:00,  1.02it/s, loss=0.883]\n",
      "Validation: 100%|██████████| 4/4 [00:01<00:00,  2.06it/s, loss=0.934]\n"
     ]
    },
    {
     "name": "stdout",
     "output_type": "stream",
     "text": [
      "Validation Dice Score\n",
      "Class 0: 0.6454, Class 1: 0.0006, Class 2: 0.0238, Class 3: 0.1023, \n",
      "Class 4: 0.3015, Class 5: 0.2345, Class 6: 0.1384, \n",
      "Training Loss: 0.9036, Validation Loss: 0.8953\n",
      "Epoch 33/4000\n"
     ]
    },
    {
     "name": "stderr",
     "output_type": "stream",
     "text": [
      "Training: 100%|██████████| 24/24 [00:24<00:00,  1.01s/it, loss=0.822]\n",
      "Validation: 100%|██████████| 4/4 [00:01<00:00,  2.21it/s, loss=0.858]\n"
     ]
    },
    {
     "name": "stdout",
     "output_type": "stream",
     "text": [
      "Validation Dice Score\n",
      "Class 0: 0.6469, Class 1: 0.0007, Class 2: 0.0000, Class 3: 0.0884, \n",
      "Class 4: 0.1756, Class 5: 0.1014, Class 6: 0.1354, \n",
      "Training Loss: 0.8893, Validation Loss: 0.9399\n",
      "Epoch 34/4000\n"
     ]
    },
    {
     "name": "stderr",
     "output_type": "stream",
     "text": [
      "Training: 100%|██████████| 24/24 [00:23<00:00,  1.02it/s, loss=0.828]\n",
      "Validation: 100%|██████████| 4/4 [00:01<00:00,  2.31it/s, loss=0.894]\n"
     ]
    },
    {
     "name": "stdout",
     "output_type": "stream",
     "text": [
      "Validation Dice Score\n",
      "Class 0: 0.6311, Class 1: 0.0006, Class 2: 0.0002, Class 3: 0.1225, \n",
      "Class 4: 0.2576, Class 5: 0.1342, Class 6: 0.1129, \n",
      "Training Loss: 0.8798, Validation Loss: 0.9164\n",
      "Epoch 35/4000\n"
     ]
    },
    {
     "name": "stderr",
     "output_type": "stream",
     "text": [
      "Training: 100%|██████████| 24/24 [00:23<00:00,  1.03it/s, loss=0.846]\n",
      "Validation: 100%|██████████| 4/4 [00:01<00:00,  2.29it/s, loss=0.871]\n"
     ]
    },
    {
     "name": "stdout",
     "output_type": "stream",
     "text": [
      "Validation Dice Score\n",
      "Class 0: 0.6337, Class 1: 0.0004, Class 2: 0.0000, Class 3: 0.2760, \n",
      "Class 4: 0.1071, Class 5: 0.1782, Class 6: 0.0953, \n",
      "Training Loss: 0.8645, Validation Loss: 0.9099\n",
      "Epoch 36/4000\n"
     ]
    },
    {
     "name": "stderr",
     "output_type": "stream",
     "text": [
      "Training: 100%|██████████| 24/24 [00:23<00:00,  1.03it/s, loss=0.878]\n",
      "Validation: 100%|██████████| 4/4 [00:01<00:00,  2.33it/s, loss=0.827]\n"
     ]
    },
    {
     "name": "stdout",
     "output_type": "stream",
     "text": [
      "Validation Dice Score\n",
      "Class 0: 0.6360, Class 1: 0.0003, Class 2: 0.0035, Class 3: 0.3323, \n",
      "Class 4: 0.2862, Class 5: 0.2250, Class 6: 0.0845, \n",
      "Training Loss: 0.8527, Validation Loss: 0.8854\n",
      "Epoch 37/4000\n"
     ]
    },
    {
     "name": "stderr",
     "output_type": "stream",
     "text": [
      "Training: 100%|██████████| 24/24 [00:23<00:00,  1.03it/s, loss=0.878]\n",
      "Validation: 100%|██████████| 4/4 [00:01<00:00,  2.29it/s, loss=0.928]\n"
     ]
    },
    {
     "name": "stdout",
     "output_type": "stream",
     "text": [
      "Validation Dice Score\n",
      "Class 0: 0.6385, Class 1: 0.0005, Class 2: 0.0000, Class 3: 0.2151, \n",
      "Class 4: 0.1795, Class 5: 0.2095, Class 6: 0.1443, \n",
      "Training Loss: 0.8502, Validation Loss: 0.8847\n",
      "Epoch 38/4000\n"
     ]
    },
    {
     "name": "stderr",
     "output_type": "stream",
     "text": [
      "Training: 100%|██████████| 24/24 [00:24<00:00,  1.01s/it, loss=0.925]\n",
      "Validation: 100%|██████████| 4/4 [00:01<00:00,  2.35it/s, loss=0.903]\n"
     ]
    },
    {
     "name": "stdout",
     "output_type": "stream",
     "text": [
      "Validation Dice Score\n",
      "Class 0: 0.6358, Class 1: 0.0002, Class 2: 0.0000, Class 3: 0.4995, \n",
      "Class 4: 0.2651, Class 5: 0.2461, Class 6: 0.2261, \n",
      "Training Loss: 0.8366, Validation Loss: 0.8230\n",
      "========================================================\n",
      "Best model saved with validation loss: 0.8230\n",
      "========================================================\n",
      "Epoch 39/4000\n"
     ]
    },
    {
     "name": "stderr",
     "output_type": "stream",
     "text": [
      "Training: 100%|██████████| 24/24 [00:23<00:00,  1.03it/s, loss=0.837]\n",
      "Validation: 100%|██████████| 4/4 [00:01<00:00,  2.27it/s, loss=0.846]\n"
     ]
    },
    {
     "name": "stdout",
     "output_type": "stream",
     "text": [
      "Validation Dice Score\n",
      "Class 0: 0.6396, Class 1: 0.0005, Class 2: 0.0057, Class 3: 0.3362, \n",
      "Class 4: 0.5715, Class 5: 0.2786, Class 6: 0.3480, \n",
      "Training Loss: 0.8349, Validation Loss: 0.7762\n",
      "========================================================\n",
      "Best model saved with validation loss: 0.7762\n",
      "========================================================\n",
      "Epoch 40/4000\n"
     ]
    },
    {
     "name": "stderr",
     "output_type": "stream",
     "text": [
      "Training: 100%|██████████| 24/24 [00:24<00:00,  1.01s/it, loss=0.769]\n",
      "Validation: 100%|██████████| 4/4 [00:01<00:00,  2.19it/s, loss=0.825]\n"
     ]
    },
    {
     "name": "stdout",
     "output_type": "stream",
     "text": [
      "Validation Dice Score\n",
      "Class 0: 0.6304, Class 1: 0.0004, Class 2: 0.0058, Class 3: 0.3827, \n",
      "Class 4: 0.2702, Class 5: 0.3484, Class 6: 0.1868, \n",
      "Training Loss: 0.8386, Validation Loss: 0.8303\n",
      "Epoch 41/4000\n"
     ]
    },
    {
     "name": "stderr",
     "output_type": "stream",
     "text": [
      "Training: 100%|██████████| 24/24 [00:23<00:00,  1.02it/s, loss=0.751]\n",
      "Validation: 100%|██████████| 4/4 [00:01<00:00,  2.19it/s, loss=0.807]\n"
     ]
    },
    {
     "name": "stdout",
     "output_type": "stream",
     "text": [
      "Validation Dice Score\n",
      "Class 0: 0.6102, Class 1: 0.0006, Class 2: 0.0900, Class 3: 0.2476, \n",
      "Class 4: 0.2011, Class 5: 0.2056, Class 6: 0.2447, \n",
      "Training Loss: 0.8358, Validation Loss: 0.8752\n",
      "Epoch 42/4000\n"
     ]
    },
    {
     "name": "stderr",
     "output_type": "stream",
     "text": [
      "Training: 100%|██████████| 24/24 [00:23<00:00,  1.04it/s, loss=0.823]\n",
      "Validation: 100%|██████████| 4/4 [00:01<00:00,  2.23it/s, loss=0.842]\n"
     ]
    },
    {
     "name": "stdout",
     "output_type": "stream",
     "text": [
      "Validation Dice Score\n",
      "Class 0: 0.6149, Class 1: 0.0006, Class 2: 0.1013, Class 3: 0.3505, \n",
      "Class 4: 0.3158, Class 5: 0.2482, Class 6: 0.2707, \n",
      "Training Loss: 0.8278, Validation Loss: 0.8227\n",
      "Epoch 43/4000\n"
     ]
    },
    {
     "name": "stderr",
     "output_type": "stream",
     "text": [
      "Training: 100%|██████████| 24/24 [00:23<00:00,  1.04it/s, loss=0.888]\n",
      "Validation: 100%|██████████| 4/4 [00:01<00:00,  2.29it/s, loss=0.846]\n"
     ]
    },
    {
     "name": "stdout",
     "output_type": "stream",
     "text": [
      "Validation Dice Score\n",
      "Class 0: 0.6186, Class 1: 0.0002, Class 2: 0.0950, Class 3: 0.4920, \n",
      "Class 4: 0.4737, Class 5: 0.2234, Class 6: 0.2010, \n",
      "Training Loss: 0.8394, Validation Loss: 0.7839\n",
      "Epoch 44/4000\n"
     ]
    },
    {
     "name": "stderr",
     "output_type": "stream",
     "text": [
      "Training: 100%|██████████| 24/24 [00:23<00:00,  1.03it/s, loss=0.834]\n",
      "Validation: 100%|██████████| 4/4 [00:01<00:00,  2.33it/s, loss=0.914]\n"
     ]
    },
    {
     "name": "stdout",
     "output_type": "stream",
     "text": [
      "Validation Dice Score\n",
      "Class 0: 0.6187, Class 1: 0.0003, Class 2: 0.1186, Class 3: 0.3689, \n",
      "Class 4: 0.3320, Class 5: 0.1755, Class 6: 0.1746, \n",
      "Training Loss: 0.8301, Validation Loss: 0.8481\n",
      "Epoch 45/4000\n"
     ]
    },
    {
     "name": "stderr",
     "output_type": "stream",
     "text": [
      "Training: 100%|██████████| 24/24 [00:23<00:00,  1.03it/s, loss=0.892]\n",
      "Validation: 100%|██████████| 4/4 [00:01<00:00,  2.24it/s, loss=0.831]\n"
     ]
    },
    {
     "name": "stdout",
     "output_type": "stream",
     "text": [
      "Validation Dice Score\n",
      "Class 0: 0.6092, Class 1: 0.0006, Class 2: 0.1295, Class 3: 0.6038, \n",
      "Class 4: 0.3615, Class 5: 0.3768, Class 6: 0.1865, \n",
      "Training Loss: 0.8688, Validation Loss: 0.7685\n",
      "========================================================\n",
      "Best model saved with validation loss: 0.7685\n",
      "========================================================\n",
      "Epoch 46/4000\n"
     ]
    },
    {
     "name": "stderr",
     "output_type": "stream",
     "text": [
      "Training: 100%|██████████| 24/24 [00:23<00:00,  1.04it/s, loss=0.829]\n",
      "Validation: 100%|██████████| 4/4 [00:01<00:00,  2.17it/s, loss=0.827]\n"
     ]
    },
    {
     "name": "stdout",
     "output_type": "stream",
     "text": [
      "Validation Dice Score\n",
      "Class 0: 0.6140, Class 1: 0.0006, Class 2: 0.0568, Class 3: 0.3692, \n",
      "Class 4: 0.2186, Class 5: 0.1921, Class 6: 0.2007, \n",
      "Training Loss: 0.8357, Validation Loss: 0.8584\n",
      "Epoch 47/4000\n"
     ]
    },
    {
     "name": "stderr",
     "output_type": "stream",
     "text": [
      "Training: 100%|██████████| 24/24 [00:23<00:00,  1.04it/s, loss=0.847]\n",
      "Validation: 100%|██████████| 4/4 [00:01<00:00,  2.29it/s, loss=0.801]\n"
     ]
    },
    {
     "name": "stdout",
     "output_type": "stream",
     "text": [
      "Validation Dice Score\n",
      "Class 0: 0.6103, Class 1: 0.0008, Class 2: 0.0465, Class 3: 0.4506, \n",
      "Class 4: 0.3149, Class 5: 0.1314, Class 6: 0.2466, \n",
      "Training Loss: 0.8591, Validation Loss: 0.8433\n",
      "Epoch 48/4000\n"
     ]
    },
    {
     "name": "stderr",
     "output_type": "stream",
     "text": [
      "Training: 100%|██████████| 24/24 [00:23<00:00,  1.04it/s, loss=0.827]\n",
      "Validation: 100%|██████████| 4/4 [00:01<00:00,  2.34it/s, loss=0.857]\n"
     ]
    },
    {
     "name": "stdout",
     "output_type": "stream",
     "text": [
      "Validation Dice Score\n",
      "Class 0: 0.6085, Class 1: 0.0005, Class 2: 0.1177, Class 3: 0.3519, \n",
      "Class 4: 0.3006, Class 5: 0.2820, Class 6: 0.0250, \n",
      "Training Loss: 0.8297, Validation Loss: 0.8558\n",
      "Epoch 49/4000\n"
     ]
    },
    {
     "name": "stderr",
     "output_type": "stream",
     "text": [
      "Training: 100%|██████████| 24/24 [00:23<00:00,  1.04it/s, loss=0.789]\n",
      "Validation: 100%|██████████| 4/4 [00:01<00:00,  2.28it/s, loss=0.802]\n"
     ]
    },
    {
     "name": "stdout",
     "output_type": "stream",
     "text": [
      "Validation Dice Score\n",
      "Class 0: 0.6217, Class 1: 0.0004, Class 2: 0.0177, Class 3: 0.3117, \n",
      "Class 4: 0.2716, Class 5: 0.2174, Class 6: 0.2407, \n",
      "Training Loss: 0.8368, Validation Loss: 0.8604\n",
      "Epoch 50/4000\n"
     ]
    },
    {
     "name": "stderr",
     "output_type": "stream",
     "text": [
      "Training: 100%|██████████| 24/24 [00:23<00:00,  1.03it/s, loss=0.808]\n",
      "Validation: 100%|██████████| 4/4 [00:01<00:00,  2.30it/s, loss=0.912]\n"
     ]
    },
    {
     "name": "stdout",
     "output_type": "stream",
     "text": [
      "Validation Dice Score\n",
      "Class 0: 0.6126, Class 1: 0.0007, Class 2: 0.0000, Class 3: 0.2868, \n",
      "Class 4: 0.2875, Class 5: 0.1705, Class 6: 0.2208, \n",
      "Training Loss: 0.8260, Validation Loss: 0.8639\n",
      "Epoch 51/4000\n"
     ]
    },
    {
     "name": "stderr",
     "output_type": "stream",
     "text": [
      "Training: 100%|██████████| 24/24 [00:23<00:00,  1.03it/s, loss=0.942]\n",
      "Validation: 100%|██████████| 4/4 [00:01<00:00,  2.23it/s, loss=0.854]\n"
     ]
    },
    {
     "name": "stdout",
     "output_type": "stream",
     "text": [
      "Validation Dice Score\n",
      "Class 0: 0.6085, Class 1: 0.0003, Class 2: 0.1575, Class 3: 0.5003, \n",
      "Class 4: 0.2445, Class 5: 0.3732, Class 6: 0.1448, \n",
      "Training Loss: 0.8325, Validation Loss: 0.8101\n",
      "Epoch 52/4000\n"
     ]
    },
    {
     "name": "stderr",
     "output_type": "stream",
     "text": [
      "Training: 100%|██████████| 24/24 [00:23<00:00,  1.04it/s, loss=0.837]\n",
      "Validation: 100%|██████████| 4/4 [00:01<00:00,  2.30it/s, loss=0.897]\n"
     ]
    },
    {
     "name": "stdout",
     "output_type": "stream",
     "text": [
      "Validation Dice Score\n",
      "Class 0: 0.6127, Class 1: 0.0008, Class 2: 0.0589, Class 3: 0.2279, \n",
      "Class 4: 0.2141, Class 5: 0.2384, Class 6: 0.1974, \n",
      "Training Loss: 0.8392, Validation Loss: 0.8809\n",
      "Epoch 53/4000\n"
     ]
    },
    {
     "name": "stderr",
     "output_type": "stream",
     "text": [
      "Training: 100%|██████████| 24/24 [00:23<00:00,  1.04it/s, loss=0.884]\n",
      "Validation: 100%|██████████| 4/4 [00:01<00:00,  2.31it/s, loss=0.868]\n"
     ]
    },
    {
     "name": "stdout",
     "output_type": "stream",
     "text": [
      "Validation Dice Score\n",
      "Class 0: 0.6132, Class 1: 0.0004, Class 2: 0.1095, Class 3: 0.3912, \n",
      "Class 4: 0.1878, Class 5: 0.3108, Class 6: 0.3914, \n",
      "Training Loss: 0.8340, Validation Loss: 0.8168\n",
      "Epoch 54/4000\n"
     ]
    },
    {
     "name": "stderr",
     "output_type": "stream",
     "text": [
      "Training: 100%|██████████| 24/24 [00:23<00:00,  1.04it/s, loss=0.849]\n",
      "Validation: 100%|██████████| 4/4 [00:01<00:00,  2.34it/s, loss=0.744]\n"
     ]
    },
    {
     "name": "stdout",
     "output_type": "stream",
     "text": [
      "Validation Dice Score\n",
      "Class 0: 0.6164, Class 1: 0.0008, Class 2: 0.0783, Class 3: 0.4935, \n",
      "Class 4: 0.4635, Class 5: 0.1945, Class 6: 0.0752, \n",
      "Training Loss: 0.8111, Validation Loss: 0.8051\n",
      "Epoch 55/4000\n"
     ]
    },
    {
     "name": "stderr",
     "output_type": "stream",
     "text": [
      "Training: 100%|██████████| 24/24 [00:23<00:00,  1.03it/s, loss=0.697]\n",
      "Validation: 100%|██████████| 4/4 [00:01<00:00,  2.30it/s, loss=0.769]\n"
     ]
    },
    {
     "name": "stdout",
     "output_type": "stream",
     "text": [
      "Validation Dice Score\n",
      "Class 0: 0.6066, Class 1: 0.0002, Class 2: 0.0001, Class 3: 0.4673, \n",
      "Class 4: 0.4076, Class 5: 0.3046, Class 6: 0.1998, \n",
      "Training Loss: 0.8146, Validation Loss: 0.8107\n",
      "Epoch 56/4000\n"
     ]
    },
    {
     "name": "stderr",
     "output_type": "stream",
     "text": [
      "Training: 100%|██████████| 24/24 [00:23<00:00,  1.03it/s, loss=0.706]\n",
      "Validation: 100%|██████████| 4/4 [00:01<00:00,  2.30it/s, loss=0.749]\n"
     ]
    },
    {
     "name": "stdout",
     "output_type": "stream",
     "text": [
      "Validation Dice Score\n",
      "Class 0: 0.6155, Class 1: 0.0001, Class 2: 0.0347, Class 3: 0.4481, \n",
      "Class 4: 0.3839, Class 5: 0.2871, Class 6: 0.1166, \n",
      "Training Loss: 0.8137, Validation Loss: 0.8263\n",
      "Epoch 57/4000\n"
     ]
    },
    {
     "name": "stderr",
     "output_type": "stream",
     "text": [
      "Training: 100%|██████████| 24/24 [00:23<00:00,  1.04it/s, loss=0.792]\n",
      "Validation: 100%|██████████| 4/4 [00:01<00:00,  2.25it/s, loss=0.849]\n"
     ]
    },
    {
     "name": "stdout",
     "output_type": "stream",
     "text": [
      "Validation Dice Score\n",
      "Class 0: 0.6091, Class 1: 0.0005, Class 2: 0.0781, Class 3: 0.2651, \n",
      "Class 4: 0.3766, Class 5: 0.2177, Class 6: 0.1034, \n",
      "Training Loss: 0.8406, Validation Loss: 0.8404\n",
      "Epoch 58/4000\n"
     ]
    },
    {
     "name": "stderr",
     "output_type": "stream",
     "text": [
      "Training: 100%|██████████| 24/24 [00:23<00:00,  1.03it/s, loss=0.698]\n",
      "Validation: 100%|██████████| 4/4 [00:01<00:00,  2.34it/s, loss=0.764]\n"
     ]
    },
    {
     "name": "stdout",
     "output_type": "stream",
     "text": [
      "Validation Dice Score\n",
      "Class 0: 0.6075, Class 1: 0.0005, Class 2: 0.0825, Class 3: 0.3688, \n",
      "Class 4: 0.3664, Class 5: 0.2127, Class 6: 0.1983, \n",
      "Training Loss: 0.8182, Validation Loss: 0.8428\n",
      "Epoch 59/4000\n"
     ]
    },
    {
     "name": "stderr",
     "output_type": "stream",
     "text": [
      "Training: 100%|██████████| 24/24 [00:23<00:00,  1.03it/s, loss=0.75] \n",
      "Validation: 100%|██████████| 4/4 [00:01<00:00,  2.36it/s, loss=0.907]\n"
     ]
    },
    {
     "name": "stdout",
     "output_type": "stream",
     "text": [
      "Validation Dice Score\n",
      "Class 0: 0.6181, Class 1: 0.0002, Class 2: 0.0377, Class 3: 0.2949, \n",
      "Class 4: 0.2888, Class 5: 0.1769, Class 6: 0.1365, \n",
      "Training Loss: 0.8334, Validation Loss: 0.8826\n",
      "Epoch 60/4000\n"
     ]
    },
    {
     "name": "stderr",
     "output_type": "stream",
     "text": [
      "Training: 100%|██████████| 24/24 [00:23<00:00,  1.03it/s, loss=0.761]\n",
      "Validation: 100%|██████████| 4/4 [00:01<00:00,  2.30it/s, loss=0.904]\n"
     ]
    },
    {
     "name": "stdout",
     "output_type": "stream",
     "text": [
      "Validation Dice Score\n",
      "Class 0: 0.6090, Class 1: 0.0001, Class 2: 0.0529, Class 3: 0.3137, \n",
      "Class 4: 0.2870, Class 5: 0.2762, Class 6: 0.1657, \n",
      "Training Loss: 0.8378, Validation Loss: 0.8503\n",
      "Epoch 61/4000\n"
     ]
    },
    {
     "name": "stderr",
     "output_type": "stream",
     "text": [
      "Training: 100%|██████████| 24/24 [00:23<00:00,  1.04it/s, loss=0.874]\n",
      "Validation: 100%|██████████| 4/4 [00:01<00:00,  2.31it/s, loss=0.84] \n"
     ]
    },
    {
     "name": "stdout",
     "output_type": "stream",
     "text": [
      "Validation Dice Score\n",
      "Class 0: 0.6198, Class 1: 0.0003, Class 2: 0.0679, Class 3: 0.3429, \n",
      "Class 4: 0.0229, Class 5: 0.1780, Class 6: 0.1500, \n",
      "Training Loss: 0.8170, Validation Loss: 0.8835\n",
      "Epoch 62/4000\n"
     ]
    },
    {
     "name": "stderr",
     "output_type": "stream",
     "text": [
      "Training: 100%|██████████| 24/24 [00:23<00:00,  1.03it/s, loss=0.747]\n",
      "Validation: 100%|██████████| 4/4 [00:01<00:00,  2.33it/s, loss=0.867]\n"
     ]
    },
    {
     "name": "stdout",
     "output_type": "stream",
     "text": [
      "Validation Dice Score\n",
      "Class 0: 0.6152, Class 1: 0.0001, Class 2: 0.0247, Class 3: 0.4890, \n",
      "Class 4: 0.2777, Class 5: 0.2365, Class 6: 0.2492, \n",
      "Training Loss: 0.8325, Validation Loss: 0.8161\n",
      "Epoch 63/4000\n"
     ]
    },
    {
     "name": "stderr",
     "output_type": "stream",
     "text": [
      "Training: 100%|██████████| 24/24 [00:23<00:00,  1.04it/s, loss=0.81] \n",
      "Validation: 100%|██████████| 4/4 [00:01<00:00,  2.32it/s, loss=0.852]\n"
     ]
    },
    {
     "name": "stdout",
     "output_type": "stream",
     "text": [
      "Validation Dice Score\n",
      "Class 0: 0.6133, Class 1: 0.0002, Class 2: 0.1148, Class 3: 0.4760, \n",
      "Class 4: 0.5279, Class 5: 0.3731, Class 6: 0.2862, \n",
      "Training Loss: 0.8515, Validation Loss: 0.7667\n",
      "========================================================\n",
      "Best model saved with validation loss: 0.7667\n",
      "========================================================\n",
      "Epoch 64/4000\n"
     ]
    },
    {
     "name": "stderr",
     "output_type": "stream",
     "text": [
      "Training: 100%|██████████| 24/24 [00:23<00:00,  1.03it/s, loss=0.843]\n",
      "Validation: 100%|██████████| 4/4 [00:01<00:00,  2.27it/s, loss=0.811]\n"
     ]
    },
    {
     "name": "stdout",
     "output_type": "stream",
     "text": [
      "Validation Dice Score\n",
      "Class 0: 0.6000, Class 1: 0.0003, Class 2: 0.0000, Class 3: 0.4919, \n",
      "Class 4: 0.3773, Class 5: 0.1606, Class 6: 0.1430, \n",
      "Training Loss: 0.8180, Validation Loss: 0.8172\n",
      "Epoch 65/4000\n"
     ]
    },
    {
     "name": "stderr",
     "output_type": "stream",
     "text": [
      "Training: 100%|██████████| 24/24 [00:23<00:00,  1.03it/s, loss=0.899]\n",
      "Validation: 100%|██████████| 4/4 [00:01<00:00,  2.30it/s, loss=0.859]\n"
     ]
    },
    {
     "name": "stdout",
     "output_type": "stream",
     "text": [
      "Validation Dice Score\n",
      "Class 0: 0.5989, Class 1: 0.0003, Class 2: 0.0943, Class 3: 0.3208, \n",
      "Class 4: 0.4380, Class 5: 0.3354, Class 6: 0.3003, \n",
      "Training Loss: 0.8270, Validation Loss: 0.7983\n",
      "Epoch 66/4000\n"
     ]
    },
    {
     "name": "stderr",
     "output_type": "stream",
     "text": [
      "Training: 100%|██████████| 24/24 [00:23<00:00,  1.04it/s, loss=0.878]\n",
      "Validation: 100%|██████████| 4/4 [00:01<00:00,  2.29it/s, loss=0.846]\n"
     ]
    },
    {
     "name": "stdout",
     "output_type": "stream",
     "text": [
      "Validation Dice Score\n",
      "Class 0: 0.6106, Class 1: 0.0000, Class 2: 0.1384, Class 3: 0.4273, \n",
      "Class 4: 0.3027, Class 5: 0.2532, Class 6: 0.1408, \n",
      "Training Loss: 0.8187, Validation Loss: 0.8171\n",
      "Epoch 67/4000\n"
     ]
    },
    {
     "name": "stderr",
     "output_type": "stream",
     "text": [
      "Training: 100%|██████████| 24/24 [00:23<00:00,  1.04it/s, loss=0.839]\n",
      "Validation: 100%|██████████| 4/4 [00:01<00:00,  2.31it/s, loss=0.887]\n"
     ]
    },
    {
     "name": "stdout",
     "output_type": "stream",
     "text": [
      "Validation Dice Score\n",
      "Class 0: 0.6086, Class 1: 0.0003, Class 2: 0.0771, Class 3: 0.1059, \n",
      "Class 4: 0.1047, Class 5: 0.3012, Class 6: 0.3101, \n",
      "Training Loss: 0.8535, Validation Loss: 0.8801\n",
      "Epoch 68/4000\n"
     ]
    },
    {
     "name": "stderr",
     "output_type": "stream",
     "text": [
      "Training: 100%|██████████| 24/24 [00:23<00:00,  1.03it/s, loss=0.783]\n",
      "Validation: 100%|██████████| 4/4 [00:01<00:00,  2.32it/s, loss=0.701]\n"
     ]
    },
    {
     "name": "stdout",
     "output_type": "stream",
     "text": [
      "Validation Dice Score\n",
      "Class 0: 0.6098, Class 1: 0.0007, Class 2: 0.1113, Class 3: 0.4099, \n",
      "Class 4: 0.2952, Class 5: 0.3630, Class 6: 0.3157, \n",
      "Training Loss: 0.8250, Validation Loss: 0.7818\n",
      "Epoch 69/4000\n"
     ]
    },
    {
     "name": "stderr",
     "output_type": "stream",
     "text": [
      "Training: 100%|██████████| 24/24 [00:23<00:00,  1.03it/s, loss=0.853]\n",
      "Validation: 100%|██████████| 4/4 [00:01<00:00,  2.33it/s, loss=0.765]\n"
     ]
    },
    {
     "name": "stdout",
     "output_type": "stream",
     "text": [
      "Validation Dice Score\n",
      "Class 0: 0.6122, Class 1: 0.0002, Class 2: 0.1049, Class 3: 0.5816, \n",
      "Class 4: 0.4512, Class 5: 0.3273, Class 6: 0.1595, \n",
      "Training Loss: 0.8378, Validation Loss: 0.7884\n",
      "Epoch 70/4000\n"
     ]
    },
    {
     "name": "stderr",
     "output_type": "stream",
     "text": [
      "Training: 100%|██████████| 24/24 [00:23<00:00,  1.04it/s, loss=0.834]\n",
      "Validation: 100%|██████████| 4/4 [00:01<00:00,  2.33it/s, loss=0.88] \n"
     ]
    },
    {
     "name": "stdout",
     "output_type": "stream",
     "text": [
      "Validation Dice Score\n",
      "Class 0: 0.6015, Class 1: 0.0005, Class 2: 0.0128, Class 3: 0.2831, \n",
      "Class 4: 0.3557, Class 5: 0.1764, Class 6: 0.3727, \n",
      "Training Loss: 0.8403, Validation Loss: 0.8302\n",
      "Epoch 71/4000\n"
     ]
    },
    {
     "name": "stderr",
     "output_type": "stream",
     "text": [
      "Training: 100%|██████████| 24/24 [00:23<00:00,  1.04it/s, loss=0.742]\n",
      "Validation: 100%|██████████| 4/4 [00:01<00:00,  2.28it/s, loss=0.808]\n"
     ]
    },
    {
     "name": "stdout",
     "output_type": "stream",
     "text": [
      "Validation Dice Score\n",
      "Class 0: 0.5914, Class 1: 0.0007, Class 2: 0.0829, Class 3: 0.3981, \n",
      "Class 4: 0.3893, Class 5: 0.2849, Class 6: 0.0098, \n",
      "Training Loss: 0.8355, Validation Loss: 0.8258\n",
      "Epoch 72/4000\n"
     ]
    },
    {
     "name": "stderr",
     "output_type": "stream",
     "text": [
      "Training: 100%|██████████| 24/24 [00:23<00:00,  1.04it/s, loss=0.714]\n",
      "Validation: 100%|██████████| 4/4 [00:01<00:00,  2.32it/s, loss=0.761]\n"
     ]
    },
    {
     "name": "stdout",
     "output_type": "stream",
     "text": [
      "Validation Dice Score\n",
      "Class 0: 0.6119, Class 1: 0.0004, Class 2: 0.0453, Class 3: 0.5234, \n",
      "Class 4: 0.3962, Class 5: 0.2258, Class 6: 0.1546, \n",
      "Training Loss: 0.8193, Validation Loss: 0.8229\n",
      "Epoch 73/4000\n"
     ]
    },
    {
     "name": "stderr",
     "output_type": "stream",
     "text": [
      "Training: 100%|██████████| 24/24 [00:23<00:00,  1.04it/s, loss=0.814]\n",
      "Validation: 100%|██████████| 4/4 [00:01<00:00,  2.34it/s, loss=0.91] \n"
     ]
    },
    {
     "name": "stdout",
     "output_type": "stream",
     "text": [
      "Validation Dice Score\n",
      "Class 0: 0.6106, Class 1: 0.0002, Class 2: 0.1049, Class 3: 0.5911, \n",
      "Class 4: 0.3092, Class 5: 0.2566, Class 6: 0.2110, \n",
      "Training Loss: 0.8146, Validation Loss: 0.7947\n",
      "Epoch 74/4000\n"
     ]
    },
    {
     "name": "stderr",
     "output_type": "stream",
     "text": [
      "Training: 100%|██████████| 24/24 [00:23<00:00,  1.04it/s, loss=0.882]\n",
      "Validation: 100%|██████████| 4/4 [00:01<00:00,  2.33it/s, loss=0.906]\n"
     ]
    },
    {
     "name": "stdout",
     "output_type": "stream",
     "text": [
      "Validation Dice Score\n",
      "Class 0: 0.6070, Class 1: 0.0005, Class 2: 0.1301, Class 3: 0.1594, \n",
      "Class 4: 0.3117, Class 5: 0.1346, Class 6: 0.1258, \n",
      "Training Loss: 0.8491, Validation Loss: 0.8859\n",
      "Epoch 75/4000\n"
     ]
    },
    {
     "name": "stderr",
     "output_type": "stream",
     "text": [
      "Training: 100%|██████████| 24/24 [00:23<00:00,  1.03it/s, loss=0.763]\n",
      "Validation: 100%|██████████| 4/4 [00:01<00:00,  2.40it/s, loss=0.754]\n"
     ]
    },
    {
     "name": "stdout",
     "output_type": "stream",
     "text": [
      "Validation Dice Score\n",
      "Class 0: 0.6093, Class 1: 0.0004, Class 2: 0.1519, Class 3: 0.3955, \n",
      "Class 4: 0.4106, Class 5: 0.3356, Class 6: 0.3881, \n",
      "Training Loss: 0.8403, Validation Loss: 0.7869\n",
      "Epoch 76/4000\n"
     ]
    },
    {
     "name": "stderr",
     "output_type": "stream",
     "text": [
      "Training: 100%|██████████| 24/24 [00:23<00:00,  1.03it/s, loss=0.769]\n",
      "Validation: 100%|██████████| 4/4 [00:01<00:00,  2.30it/s, loss=0.858]\n"
     ]
    },
    {
     "name": "stdout",
     "output_type": "stream",
     "text": [
      "Validation Dice Score\n",
      "Class 0: 0.6020, Class 1: 0.0003, Class 2: 0.0038, Class 3: 0.3532, \n",
      "Class 4: 0.5030, Class 5: 0.1924, Class 6: 0.2737, \n",
      "Training Loss: 0.8149, Validation Loss: 0.8385\n",
      "Epoch 77/4000\n"
     ]
    },
    {
     "name": "stderr",
     "output_type": "stream",
     "text": [
      "Training: 100%|██████████| 24/24 [00:23<00:00,  1.04it/s, loss=0.912]\n",
      "Validation: 100%|██████████| 4/4 [00:02<00:00,  1.77it/s, loss=0.792]\n"
     ]
    },
    {
     "name": "stdout",
     "output_type": "stream",
     "text": [
      "Validation Dice Score\n",
      "Class 0: 0.5872, Class 1: 0.0007, Class 2: 0.0629, Class 3: 0.2505, \n",
      "Class 4: 0.3814, Class 5: 0.2831, Class 6: 0.3143, \n",
      "Training Loss: 0.8349, Validation Loss: 0.8135\n",
      "Epoch 78/4000\n"
     ]
    },
    {
     "name": "stderr",
     "output_type": "stream",
     "text": [
      "Training: 100%|██████████| 24/24 [00:22<00:00,  1.05it/s, loss=0.741]\n",
      "Validation: 100%|██████████| 4/4 [00:01<00:00,  2.25it/s, loss=0.871]\n"
     ]
    },
    {
     "name": "stdout",
     "output_type": "stream",
     "text": [
      "Validation Dice Score\n",
      "Class 0: 0.6089, Class 1: 0.0002, Class 2: 0.0438, Class 3: 0.4257, \n",
      "Class 4: 0.4861, Class 5: 0.2215, Class 6: 0.1127, \n",
      "Training Loss: 0.8226, Validation Loss: 0.8241\n",
      "Epoch 79/4000\n"
     ]
    },
    {
     "name": "stderr",
     "output_type": "stream",
     "text": [
      "Training: 100%|██████████| 24/24 [00:23<00:00,  1.03it/s, loss=0.837]\n",
      "Validation: 100%|██████████| 4/4 [00:01<00:00,  2.43it/s, loss=0.891]\n"
     ]
    },
    {
     "name": "stdout",
     "output_type": "stream",
     "text": [
      "Validation Dice Score\n",
      "Class 0: 0.6024, Class 1: 0.0002, Class 2: 0.0368, Class 3: 0.3947, \n",
      "Class 4: 0.4252, Class 5: 0.1933, Class 6: 0.1311, \n",
      "Training Loss: 0.8349, Validation Loss: 0.8260\n",
      "Epoch 80/4000\n"
     ]
    },
    {
     "name": "stderr",
     "output_type": "stream",
     "text": [
      "Training: 100%|██████████| 24/24 [00:23<00:00,  1.02it/s, loss=0.825]\n",
      "Validation: 100%|██████████| 4/4 [00:01<00:00,  2.32it/s, loss=0.776]\n"
     ]
    },
    {
     "name": "stdout",
     "output_type": "stream",
     "text": [
      "Validation Dice Score\n",
      "Class 0: 0.6036, Class 1: 0.0005, Class 2: 0.0882, Class 3: 0.4609, \n",
      "Class 4: 0.4974, Class 5: 0.1922, Class 6: 0.2813, \n",
      "Training Loss: 0.8083, Validation Loss: 0.8088\n",
      "Epoch 81/4000\n"
     ]
    },
    {
     "name": "stderr",
     "output_type": "stream",
     "text": [
      "Training: 100%|██████████| 24/24 [00:23<00:00,  1.04it/s, loss=0.786]\n",
      "Validation: 100%|██████████| 4/4 [00:01<00:00,  2.30it/s, loss=0.839]\n"
     ]
    },
    {
     "name": "stdout",
     "output_type": "stream",
     "text": [
      "Validation Dice Score\n",
      "Class 0: 0.6115, Class 1: 0.0008, Class 2: 0.0919, Class 3: 0.2409, \n",
      "Class 4: 0.3306, Class 5: 0.0694, Class 6: 0.1163, \n",
      "Training Loss: 0.8180, Validation Loss: 0.8878\n",
      "Epoch 82/4000\n"
     ]
    },
    {
     "name": "stderr",
     "output_type": "stream",
     "text": [
      "Training: 100%|██████████| 24/24 [00:23<00:00,  1.04it/s, loss=0.893]\n",
      "Validation: 100%|██████████| 4/4 [00:01<00:00,  2.29it/s, loss=0.772]\n"
     ]
    },
    {
     "name": "stdout",
     "output_type": "stream",
     "text": [
      "Validation Dice Score\n",
      "Class 0: 0.6052, Class 1: 0.0004, Class 2: 0.1656, Class 3: 0.4897, \n",
      "Class 4: 0.3030, Class 5: 0.1928, Class 6: 0.1237, \n",
      "Training Loss: 0.8178, Validation Loss: 0.8147\n",
      "Epoch 83/4000\n"
     ]
    },
    {
     "name": "stderr",
     "output_type": "stream",
     "text": [
      "Training: 100%|██████████| 24/24 [00:22<00:00,  1.05it/s, loss=0.798]\n",
      "Validation: 100%|██████████| 4/4 [00:01<00:00,  2.31it/s, loss=0.761]\n"
     ]
    },
    {
     "name": "stdout",
     "output_type": "stream",
     "text": [
      "Validation Dice Score\n",
      "Class 0: 0.5954, Class 1: 0.0005, Class 2: 0.1717, Class 3: 0.5097, \n",
      "Class 4: 0.4356, Class 5: 0.2306, Class 6: 0.0383, \n",
      "Training Loss: 0.8105, Validation Loss: 0.7940\n",
      "Epoch 84/4000\n"
     ]
    },
    {
     "name": "stderr",
     "output_type": "stream",
     "text": [
      "Training: 100%|██████████| 24/24 [00:23<00:00,  1.04it/s, loss=0.848]\n",
      "Validation: 100%|██████████| 4/4 [00:01<00:00,  2.30it/s, loss=0.843]\n"
     ]
    },
    {
     "name": "stdout",
     "output_type": "stream",
     "text": [
      "Validation Dice Score\n",
      "Class 0: 0.5987, Class 1: 0.0003, Class 2: 0.0353, Class 3: 0.2954, \n",
      "Class 4: 0.4277, Class 5: 0.1383, Class 6: 0.1469, \n",
      "Training Loss: 0.8064, Validation Loss: 0.8734\n",
      "Epoch 85/4000\n"
     ]
    },
    {
     "name": "stderr",
     "output_type": "stream",
     "text": [
      "Training: 100%|██████████| 24/24 [00:23<00:00,  1.03it/s, loss=0.87] \n",
      "Validation: 100%|██████████| 4/4 [00:01<00:00,  2.38it/s, loss=0.9]  \n"
     ]
    },
    {
     "name": "stdout",
     "output_type": "stream",
     "text": [
      "Validation Dice Score\n",
      "Class 0: 0.5930, Class 1: 0.0004, Class 2: 0.0385, Class 3: 0.4635, \n",
      "Class 4: 0.3323, Class 5: 0.2855, Class 6: 0.0674, \n",
      "Training Loss: 0.8114, Validation Loss: 0.8361\n",
      "Epoch 86/4000\n"
     ]
    },
    {
     "name": "stderr",
     "output_type": "stream",
     "text": [
      "Training: 100%|██████████| 24/24 [00:23<00:00,  1.03it/s, loss=0.757]\n",
      "Validation: 100%|██████████| 4/4 [00:01<00:00,  2.36it/s, loss=0.841]\n"
     ]
    },
    {
     "name": "stdout",
     "output_type": "stream",
     "text": [
      "Validation Dice Score\n",
      "Class 0: 0.6080, Class 1: 0.0005, Class 2: 0.1005, Class 3: 0.4867, \n",
      "Class 4: 0.0467, Class 5: 0.2487, Class 6: 0.3219, \n",
      "Training Loss: 0.8030, Validation Loss: 0.8276\n",
      "Epoch 87/4000\n"
     ]
    },
    {
     "name": "stderr",
     "output_type": "stream",
     "text": [
      "Training: 100%|██████████| 24/24 [00:23<00:00,  1.04it/s, loss=0.829]\n",
      "Validation: 100%|██████████| 4/4 [00:01<00:00,  2.32it/s, loss=0.683]\n"
     ]
    },
    {
     "name": "stdout",
     "output_type": "stream",
     "text": [
      "Validation Dice Score\n",
      "Class 0: 0.6099, Class 1: 0.0002, Class 2: 0.1568, Class 3: 0.5285, \n",
      "Class 4: 0.3281, Class 5: 0.3963, Class 6: 0.2934, \n",
      "Training Loss: 0.8119, Validation Loss: 0.7546\n",
      "========================================================\n",
      "Best model saved with validation loss: 0.7546\n",
      "========================================================\n",
      "Epoch 88/4000\n"
     ]
    },
    {
     "name": "stderr",
     "output_type": "stream",
     "text": [
      "Training: 100%|██████████| 24/24 [00:23<00:00,  1.04it/s, loss=0.805]\n",
      "Validation: 100%|██████████| 4/4 [00:01<00:00,  2.31it/s, loss=0.885]\n"
     ]
    },
    {
     "name": "stdout",
     "output_type": "stream",
     "text": [
      "Validation Dice Score\n",
      "Class 0: 0.5944, Class 1: 0.0004, Class 2: 0.0433, Class 3: 0.3447, \n",
      "Class 4: 0.4440, Class 5: 0.1373, Class 6: 0.0040, \n",
      "Training Loss: 0.8121, Validation Loss: 0.8490\n",
      "Epoch 89/4000\n"
     ]
    },
    {
     "name": "stderr",
     "output_type": "stream",
     "text": [
      "Training: 100%|██████████| 24/24 [00:23<00:00,  1.04it/s, loss=0.883]\n",
      "Validation: 100%|██████████| 4/4 [00:01<00:00,  2.38it/s, loss=0.884]\n"
     ]
    },
    {
     "name": "stdout",
     "output_type": "stream",
     "text": [
      "Validation Dice Score\n",
      "Class 0: 0.6102, Class 1: 0.0005, Class 2: 0.0762, Class 3: 0.2533, \n",
      "Class 4: 0.4330, Class 5: 0.2982, Class 6: 0.2208, \n",
      "Training Loss: 0.8203, Validation Loss: 0.8227\n",
      "Epoch 90/4000\n"
     ]
    },
    {
     "name": "stderr",
     "output_type": "stream",
     "text": [
      "Training: 100%|██████████| 24/24 [00:23<00:00,  1.03it/s, loss=0.832]\n",
      "Validation: 100%|██████████| 4/4 [00:01<00:00,  2.29it/s, loss=0.864]\n"
     ]
    },
    {
     "name": "stdout",
     "output_type": "stream",
     "text": [
      "Validation Dice Score\n",
      "Class 0: 0.6073, Class 1: 0.0008, Class 2: 0.0668, Class 3: 0.3246, \n",
      "Class 4: 0.1904, Class 5: 0.1984, Class 6: 0.3750, \n",
      "Training Loss: 0.8151, Validation Loss: 0.8494\n",
      "Epoch 91/4000\n"
     ]
    },
    {
     "name": "stderr",
     "output_type": "stream",
     "text": [
      "Training: 100%|██████████| 24/24 [00:23<00:00,  1.03it/s, loss=0.742]\n",
      "Validation: 100%|██████████| 4/4 [00:01<00:00,  2.34it/s, loss=0.908]\n"
     ]
    },
    {
     "name": "stdout",
     "output_type": "stream",
     "text": [
      "Validation Dice Score\n",
      "Class 0: 0.6218, Class 1: 0.0005, Class 2: 0.0470, Class 3: 0.3271, \n",
      "Class 4: 0.3313, Class 5: 0.3230, Class 6: 0.1580, \n",
      "Training Loss: 0.7950, Validation Loss: 0.8340\n",
      "Epoch 92/4000\n"
     ]
    },
    {
     "name": "stderr",
     "output_type": "stream",
     "text": [
      "Training: 100%|██████████| 24/24 [00:23<00:00,  1.03it/s, loss=0.813]\n",
      "Validation: 100%|██████████| 4/4 [00:01<00:00,  2.36it/s, loss=0.949]\n"
     ]
    },
    {
     "name": "stdout",
     "output_type": "stream",
     "text": [
      "Validation Dice Score\n",
      "Class 0: 0.6042, Class 1: 0.0004, Class 2: 0.1951, Class 3: 0.3107, \n",
      "Class 4: 0.3905, Class 5: 0.2174, Class 6: 0.1518, \n",
      "Training Loss: 0.8256, Validation Loss: 0.8373\n",
      "Epoch 93/4000\n"
     ]
    },
    {
     "name": "stderr",
     "output_type": "stream",
     "text": [
      "Training: 100%|██████████| 24/24 [00:23<00:00,  1.04it/s, loss=0.861]\n",
      "Validation: 100%|██████████| 4/4 [00:01<00:00,  2.25it/s, loss=0.736]\n"
     ]
    },
    {
     "name": "stdout",
     "output_type": "stream",
     "text": [
      "Validation Dice Score\n",
      "Class 0: 0.5950, Class 1: 0.0001, Class 2: 0.0482, Class 3: 0.6659, \n",
      "Class 4: 0.4338, Class 5: 0.3026, Class 6: 0.2542, \n",
      "Training Loss: 0.8263, Validation Loss: 0.7617\n",
      "Epoch 94/4000\n"
     ]
    },
    {
     "name": "stderr",
     "output_type": "stream",
     "text": [
      "Training: 100%|██████████| 24/24 [00:23<00:00,  1.04it/s, loss=0.723]\n",
      "Validation: 100%|██████████| 4/4 [00:01<00:00,  2.29it/s, loss=0.909]\n"
     ]
    },
    {
     "name": "stdout",
     "output_type": "stream",
     "text": [
      "Validation Dice Score\n",
      "Class 0: 0.6131, Class 1: 0.0006, Class 2: 0.1024, Class 3: 0.3989, \n",
      "Class 4: 0.3745, Class 5: 0.2201, Class 6: 0.3446, \n",
      "Training Loss: 0.8267, Validation Loss: 0.8103\n",
      "Epoch 95/4000\n"
     ]
    },
    {
     "name": "stderr",
     "output_type": "stream",
     "text": [
      "Training: 100%|██████████| 24/24 [00:23<00:00,  1.04it/s, loss=0.877]\n",
      "Validation: 100%|██████████| 4/4 [00:01<00:00,  2.35it/s, loss=0.812]\n"
     ]
    },
    {
     "name": "stdout",
     "output_type": "stream",
     "text": [
      "Validation Dice Score\n",
      "Class 0: 0.6015, Class 1: 0.0004, Class 2: 0.1586, Class 3: 0.5002, \n",
      "Class 4: 0.1270, Class 5: 0.3932, Class 6: 0.4981, \n",
      "Training Loss: 0.8300, Validation Loss: 0.7480\n",
      "========================================================\n",
      "Best model saved with validation loss: 0.7480\n",
      "========================================================\n",
      "Epoch 96/4000\n"
     ]
    },
    {
     "name": "stderr",
     "output_type": "stream",
     "text": [
      "Training: 100%|██████████| 24/24 [00:23<00:00,  1.03it/s, loss=0.878]\n",
      "Validation: 100%|██████████| 4/4 [00:01<00:00,  2.26it/s, loss=0.74] \n"
     ]
    },
    {
     "name": "stdout",
     "output_type": "stream",
     "text": [
      "Validation Dice Score\n",
      "Class 0: 0.5968, Class 1: 0.0005, Class 2: 0.0505, Class 3: 0.5238, \n",
      "Class 4: 0.3322, Class 5: 0.3388, Class 6: 0.4962, \n",
      "Training Loss: 0.8138, Validation Loss: 0.7488\n",
      "Epoch 97/4000\n"
     ]
    },
    {
     "name": "stderr",
     "output_type": "stream",
     "text": [
      "Training: 100%|██████████| 24/24 [00:23<00:00,  1.04it/s, loss=0.773]\n",
      "Validation: 100%|██████████| 4/4 [00:01<00:00,  2.33it/s, loss=0.7]  \n"
     ]
    },
    {
     "name": "stdout",
     "output_type": "stream",
     "text": [
      "Validation Dice Score\n",
      "Class 0: 0.6037, Class 1: 0.0002, Class 2: 0.2582, Class 3: 0.5613, \n",
      "Class 4: 0.2860, Class 5: 0.4463, Class 6: 0.2954, \n",
      "Training Loss: 0.8099, Validation Loss: 0.7282\n",
      "========================================================\n",
      "Best model saved with validation loss: 0.7282\n",
      "========================================================\n",
      "Epoch 98/4000\n"
     ]
    },
    {
     "name": "stderr",
     "output_type": "stream",
     "text": [
      "Training: 100%|██████████| 24/24 [00:23<00:00,  1.04it/s, loss=0.818]\n",
      "Validation: 100%|██████████| 4/4 [00:01<00:00,  2.20it/s, loss=0.84] \n"
     ]
    },
    {
     "name": "stdout",
     "output_type": "stream",
     "text": [
      "Validation Dice Score\n",
      "Class 0: 0.6047, Class 1: 0.0003, Class 2: 0.1104, Class 3: 0.4726, \n",
      "Class 4: 0.1479, Class 5: 0.1556, Class 6: 0.0513, \n",
      "Training Loss: 0.8071, Validation Loss: 0.8669\n",
      "Epoch 99/4000\n"
     ]
    },
    {
     "name": "stderr",
     "output_type": "stream",
     "text": [
      "Training: 100%|██████████| 24/24 [00:22<00:00,  1.04it/s, loss=0.86] \n",
      "Validation: 100%|██████████| 4/4 [00:01<00:00,  2.21it/s, loss=0.837]\n"
     ]
    },
    {
     "name": "stdout",
     "output_type": "stream",
     "text": [
      "Validation Dice Score\n",
      "Class 0: 0.6021, Class 1: 0.0008, Class 2: 0.1187, Class 3: 0.2024, \n",
      "Class 4: 0.3950, Class 5: 0.1883, Class 6: 0.1753, \n",
      "Training Loss: 0.8125, Validation Loss: 0.8458\n",
      "Epoch 100/4000\n"
     ]
    },
    {
     "name": "stderr",
     "output_type": "stream",
     "text": [
      "Training: 100%|██████████| 24/24 [00:22<00:00,  1.05it/s, loss=0.811]\n",
      "Validation: 100%|██████████| 4/4 [00:01<00:00,  2.30it/s, loss=0.831]\n"
     ]
    },
    {
     "name": "stdout",
     "output_type": "stream",
     "text": [
      "Validation Dice Score\n",
      "Class 0: 0.6055, Class 1: 0.0009, Class 2: 0.0458, Class 3: 0.1688, \n",
      "Class 4: 0.3060, Class 5: 0.2211, Class 6: 0.4835, \n",
      "Training Loss: 0.8075, Validation Loss: 0.8176\n",
      "Epoch 101/4000\n"
     ]
    },
    {
     "name": "stderr",
     "output_type": "stream",
     "text": [
      "Training: 100%|██████████| 24/24 [00:23<00:00,  1.04it/s, loss=0.921]\n",
      "Validation: 100%|██████████| 4/4 [00:01<00:00,  2.24it/s, loss=0.923]\n"
     ]
    },
    {
     "name": "stdout",
     "output_type": "stream",
     "text": [
      "Validation Dice Score\n",
      "Class 0: 0.6103, Class 1: 0.0005, Class 2: 0.0000, Class 3: 0.3188, \n",
      "Class 4: 0.4454, Class 5: 0.1599, Class 6: 0.4644, \n",
      "Training Loss: 0.8480, Validation Loss: 0.8294\n",
      "Epoch 102/4000\n"
     ]
    },
    {
     "name": "stderr",
     "output_type": "stream",
     "text": [
      "Training: 100%|██████████| 24/24 [00:23<00:00,  1.04it/s, loss=0.87] \n",
      "Validation: 100%|██████████| 4/4 [00:01<00:00,  2.34it/s, loss=0.88] \n"
     ]
    },
    {
     "name": "stdout",
     "output_type": "stream",
     "text": [
      "Validation Dice Score\n",
      "Class 0: 0.6045, Class 1: 0.0009, Class 2: 0.0581, Class 3: 0.2399, \n",
      "Class 4: 0.2718, Class 5: 0.2794, Class 6: 0.2360, \n",
      "Training Loss: 0.7782, Validation Loss: 0.8396\n",
      "Epoch 103/4000\n"
     ]
    },
    {
     "name": "stderr",
     "output_type": "stream",
     "text": [
      "Training: 100%|██████████| 24/24 [00:23<00:00,  1.04it/s, loss=0.873]\n",
      "Validation: 100%|██████████| 4/4 [00:01<00:00,  2.34it/s, loss=0.75] \n"
     ]
    },
    {
     "name": "stdout",
     "output_type": "stream",
     "text": [
      "Validation Dice Score\n",
      "Class 0: 0.6002, Class 1: 0.0003, Class 2: 0.0453, Class 3: 0.6269, \n",
      "Class 4: 0.4073, Class 5: 0.2263, Class 6: 0.3627, \n",
      "Training Loss: 0.8243, Validation Loss: 0.7779\n",
      "Epoch 104/4000\n"
     ]
    },
    {
     "name": "stderr",
     "output_type": "stream",
     "text": [
      "Training: 100%|██████████| 24/24 [00:23<00:00,  1.04it/s, loss=0.681]\n",
      "Validation: 100%|██████████| 4/4 [00:01<00:00,  2.21it/s, loss=0.843]\n"
     ]
    },
    {
     "name": "stdout",
     "output_type": "stream",
     "text": [
      "Validation Dice Score\n",
      "Class 0: 0.6054, Class 1: 0.0007, Class 2: 0.0586, Class 3: 0.3279, \n",
      "Class 4: 0.1895, Class 5: 0.1343, Class 6: 0.3131, \n",
      "Training Loss: 0.8092, Validation Loss: 0.8645\n",
      "Epoch 105/4000\n"
     ]
    },
    {
     "name": "stderr",
     "output_type": "stream",
     "text": [
      "Training: 100%|██████████| 24/24 [00:22<00:00,  1.04it/s, loss=0.936]\n",
      "Validation: 100%|██████████| 4/4 [00:01<00:00,  2.30it/s, loss=0.995]\n"
     ]
    },
    {
     "name": "stdout",
     "output_type": "stream",
     "text": [
      "Validation Dice Score\n",
      "Class 0: 0.5972, Class 1: 0.0002, Class 2: 0.0666, Class 3: 0.3305, \n",
      "Class 4: 0.1442, Class 5: 0.3021, Class 6: 0.3049, \n",
      "Training Loss: 0.8321, Validation Loss: 0.8315\n",
      "Epoch 106/4000\n"
     ]
    },
    {
     "name": "stderr",
     "output_type": "stream",
     "text": [
      "Training: 100%|██████████| 24/24 [00:23<00:00,  1.04it/s, loss=0.746]\n",
      "Validation: 100%|██████████| 4/4 [00:01<00:00,  2.31it/s, loss=0.902]\n"
     ]
    },
    {
     "name": "stdout",
     "output_type": "stream",
     "text": [
      "Validation Dice Score\n",
      "Class 0: 0.5994, Class 1: 0.0004, Class 2: 0.0597, Class 3: 0.5435, \n",
      "Class 4: 0.5104, Class 5: 0.2762, Class 6: 0.2398, \n",
      "Training Loss: 0.8121, Validation Loss: 0.7825\n",
      "Epoch 107/4000\n"
     ]
    },
    {
     "name": "stderr",
     "output_type": "stream",
     "text": [
      "Training: 100%|██████████| 24/24 [00:22<00:00,  1.04it/s, loss=0.836]\n",
      "Validation: 100%|██████████| 4/4 [00:01<00:00,  2.30it/s, loss=0.89] \n"
     ]
    },
    {
     "name": "stdout",
     "output_type": "stream",
     "text": [
      "Validation Dice Score\n",
      "Class 0: 0.6015, Class 1: 0.0016, Class 2: 0.0655, Class 3: 0.3601, \n",
      "Class 4: 0.3330, Class 5: 0.2805, Class 6: 0.2984, \n",
      "Training Loss: 0.8096, Validation Loss: 0.8291\n",
      "Epoch 108/4000\n"
     ]
    },
    {
     "name": "stderr",
     "output_type": "stream",
     "text": [
      "Training: 100%|██████████| 24/24 [00:23<00:00,  1.03it/s, loss=0.857]\n",
      "Validation: 100%|██████████| 4/4 [00:01<00:00,  2.31it/s, loss=0.748]\n"
     ]
    },
    {
     "name": "stdout",
     "output_type": "stream",
     "text": [
      "Validation Dice Score\n",
      "Class 0: 0.5975, Class 1: 0.0013, Class 2: 0.0749, Class 3: 0.2958, \n",
      "Class 4: 0.1922, Class 5: 0.2622, Class 6: 0.7191, \n",
      "Training Loss: 0.8086, Validation Loss: 0.7665\n",
      "Epoch 109/4000\n"
     ]
    },
    {
     "name": "stderr",
     "output_type": "stream",
     "text": [
      "Training: 100%|██████████| 24/24 [00:23<00:00,  1.04it/s, loss=0.782]\n",
      "Validation: 100%|██████████| 4/4 [00:01<00:00,  2.31it/s, loss=0.912]\n"
     ]
    },
    {
     "name": "stdout",
     "output_type": "stream",
     "text": [
      "Validation Dice Score\n",
      "Class 0: 0.6005, Class 1: 0.0008, Class 2: 0.0936, Class 3: 0.4615, \n",
      "Class 4: 0.3552, Class 5: 0.2819, Class 6: 0.4546, \n",
      "Training Loss: 0.8220, Validation Loss: 0.7769\n",
      "Epoch 110/4000\n"
     ]
    },
    {
     "name": "stderr",
     "output_type": "stream",
     "text": [
      "Training: 100%|██████████| 24/24 [00:23<00:00,  1.04it/s, loss=0.837]\n",
      "Validation: 100%|██████████| 4/4 [00:01<00:00,  2.33it/s, loss=0.705]\n"
     ]
    },
    {
     "name": "stdout",
     "output_type": "stream",
     "text": [
      "Validation Dice Score\n",
      "Class 0: 0.5998, Class 1: 0.0003, Class 2: 0.0318, Class 3: 0.4114, \n",
      "Class 4: 0.3554, Class 5: 0.3145, Class 6: 0.6188, \n",
      "Training Loss: 0.7993, Validation Loss: 0.7681\n",
      "Epoch 111/4000\n"
     ]
    },
    {
     "name": "stderr",
     "output_type": "stream",
     "text": [
      "Training: 100%|██████████| 24/24 [00:23<00:00,  1.03it/s, loss=0.829]\n",
      "Validation: 100%|██████████| 4/4 [00:01<00:00,  2.30it/s, loss=0.908]\n"
     ]
    },
    {
     "name": "stdout",
     "output_type": "stream",
     "text": [
      "Validation Dice Score\n",
      "Class 0: 0.6019, Class 1: 0.0005, Class 2: 0.1031, Class 3: 0.4334, \n",
      "Class 4: 0.2206, Class 5: 0.2494, Class 6: 0.4747, \n",
      "Training Loss: 0.8094, Validation Loss: 0.8223\n",
      "Epoch 112/4000\n"
     ]
    },
    {
     "name": "stderr",
     "output_type": "stream",
     "text": [
      "Training: 100%|██████████| 24/24 [00:23<00:00,  1.04it/s, loss=0.888]\n",
      "Validation: 100%|██████████| 4/4 [00:01<00:00,  2.35it/s, loss=0.784]\n"
     ]
    },
    {
     "name": "stdout",
     "output_type": "stream",
     "text": [
      "Validation Dice Score\n",
      "Class 0: 0.6020, Class 1: 0.0003, Class 2: 0.0298, Class 3: 0.2818, \n",
      "Class 4: 0.2777, Class 5: 0.2396, Class 6: 0.6852, \n",
      "Training Loss: 0.8180, Validation Loss: 0.8029\n",
      "Epoch 113/4000\n"
     ]
    },
    {
     "name": "stderr",
     "output_type": "stream",
     "text": [
      "Training: 100%|██████████| 24/24 [00:23<00:00,  1.04it/s, loss=0.765]\n",
      "Validation: 100%|██████████| 4/4 [00:01<00:00,  2.32it/s, loss=0.765]\n"
     ]
    },
    {
     "name": "stdout",
     "output_type": "stream",
     "text": [
      "Validation Dice Score\n",
      "Class 0: 0.6033, Class 1: 0.0005, Class 2: 0.1323, Class 3: 0.4957, \n",
      "Class 4: 0.4724, Class 5: 0.3222, Class 6: 0.1832, \n",
      "Training Loss: 0.8032, Validation Loss: 0.7548\n",
      "Epoch 114/4000\n"
     ]
    },
    {
     "name": "stderr",
     "output_type": "stream",
     "text": [
      "Training: 100%|██████████| 24/24 [00:23<00:00,  1.04it/s, loss=0.93] \n",
      "Validation: 100%|██████████| 4/4 [00:01<00:00,  2.37it/s, loss=0.842]\n"
     ]
    },
    {
     "name": "stdout",
     "output_type": "stream",
     "text": [
      "Validation Dice Score\n",
      "Class 0: 0.5962, Class 1: 0.0001, Class 2: 0.0895, Class 3: 0.4043, \n",
      "Class 4: 0.2802, Class 5: 0.1241, Class 6: 0.2005, \n",
      "Training Loss: 0.7952, Validation Loss: 0.8564\n",
      "Epoch 115/4000\n"
     ]
    },
    {
     "name": "stderr",
     "output_type": "stream",
     "text": [
      "Training: 100%|██████████| 24/24 [00:23<00:00,  1.04it/s, loss=0.869]\n",
      "Validation: 100%|██████████| 4/4 [00:01<00:00,  2.29it/s, loss=0.809]\n"
     ]
    },
    {
     "name": "stdout",
     "output_type": "stream",
     "text": [
      "Validation Dice Score\n",
      "Class 0: 0.6071, Class 1: 0.0003, Class 2: 0.0702, Class 3: 0.4786, \n",
      "Class 4: 0.4177, Class 5: 0.3071, Class 6: 0.1898, \n",
      "Training Loss: 0.8068, Validation Loss: 0.7913\n",
      "Epoch 116/4000\n"
     ]
    },
    {
     "name": "stderr",
     "output_type": "stream",
     "text": [
      "Training: 100%|██████████| 24/24 [00:23<00:00,  1.04it/s, loss=0.753]\n",
      "Validation: 100%|██████████| 4/4 [00:01<00:00,  2.27it/s, loss=0.853]\n"
     ]
    },
    {
     "name": "stdout",
     "output_type": "stream",
     "text": [
      "Validation Dice Score\n",
      "Class 0: 0.5940, Class 1: 0.0003, Class 2: 0.0297, Class 3: 0.2472, \n",
      "Class 4: 0.4231, Class 5: 0.2048, Class 6: 0.0808, \n",
      "Training Loss: 0.8169, Validation Loss: 0.8697\n",
      "Epoch 117/4000\n"
     ]
    },
    {
     "name": "stderr",
     "output_type": "stream",
     "text": [
      "Training: 100%|██████████| 24/24 [00:23<00:00,  1.04it/s, loss=0.8]  \n",
      "Validation: 100%|██████████| 4/4 [00:01<00:00,  2.29it/s, loss=0.829]\n"
     ]
    },
    {
     "name": "stdout",
     "output_type": "stream",
     "text": [
      "Validation Dice Score\n",
      "Class 0: 0.6115, Class 1: 0.0006, Class 2: 0.0883, Class 3: 0.5048, \n",
      "Class 4: 0.2558, Class 5: 0.2362, Class 6: 0.0600, \n",
      "Training Loss: 0.8138, Validation Loss: 0.8346\n",
      "Epoch 118/4000\n"
     ]
    },
    {
     "name": "stderr",
     "output_type": "stream",
     "text": [
      "Training: 100%|██████████| 24/24 [00:23<00:00,  1.04it/s, loss=0.692]\n",
      "Validation: 100%|██████████| 4/4 [00:01<00:00,  2.29it/s, loss=0.782]\n"
     ]
    },
    {
     "name": "stdout",
     "output_type": "stream",
     "text": [
      "Validation Dice Score\n",
      "Class 0: 0.6121, Class 1: 0.0006, Class 2: 0.0528, Class 3: 0.5077, \n",
      "Class 4: 0.1849, Class 5: 0.2612, Class 6: 0.4481, \n",
      "Training Loss: 0.7994, Validation Loss: 0.7846\n",
      "Epoch 119/4000\n"
     ]
    },
    {
     "name": "stderr",
     "output_type": "stream",
     "text": [
      "Training: 100%|██████████| 24/24 [00:23<00:00,  1.04it/s, loss=0.82] \n",
      "Validation: 100%|██████████| 4/4 [00:01<00:00,  2.31it/s, loss=0.873]\n"
     ]
    },
    {
     "name": "stdout",
     "output_type": "stream",
     "text": [
      "Validation Dice Score\n",
      "Class 0: 0.6109, Class 1: 0.0003, Class 2: 0.1707, Class 3: 0.4545, \n",
      "Class 4: 0.1481, Class 5: 0.2114, Class 6: 0.0013, \n",
      "Training Loss: 0.8144, Validation Loss: 0.8570\n",
      "Epoch 120/4000\n"
     ]
    },
    {
     "name": "stderr",
     "output_type": "stream",
     "text": [
      "Training: 100%|██████████| 24/24 [00:23<00:00,  1.04it/s, loss=0.748]\n",
      "Validation: 100%|██████████| 4/4 [00:01<00:00,  2.28it/s, loss=0.669]\n"
     ]
    },
    {
     "name": "stdout",
     "output_type": "stream",
     "text": [
      "Validation Dice Score\n",
      "Class 0: 0.6028, Class 1: 0.0005, Class 2: 0.1634, Class 3: 0.6332, \n",
      "Class 4: 0.6420, Class 5: 0.2666, Class 6: 0.0000, \n",
      "Training Loss: 0.7941, Validation Loss: 0.7393\n",
      "Epoch 121/4000\n"
     ]
    },
    {
     "name": "stderr",
     "output_type": "stream",
     "text": [
      "Training: 100%|██████████| 24/24 [00:23<00:00,  1.03it/s, loss=0.932]\n",
      "Validation: 100%|██████████| 4/4 [00:01<00:00,  2.29it/s, loss=0.832]\n"
     ]
    },
    {
     "name": "stdout",
     "output_type": "stream",
     "text": [
      "Validation Dice Score\n",
      "Class 0: 0.6013, Class 1: 0.0004, Class 2: 0.1500, Class 3: 0.2368, \n",
      "Class 4: 0.4028, Class 5: 0.2427, Class 6: 0.2444, \n",
      "Training Loss: 0.8116, Validation Loss: 0.8162\n",
      "Epoch 122/4000\n"
     ]
    },
    {
     "name": "stderr",
     "output_type": "stream",
     "text": [
      "Training: 100%|██████████| 24/24 [00:23<00:00,  1.03it/s, loss=0.734]\n",
      "Validation: 100%|██████████| 4/4 [00:01<00:00,  2.33it/s, loss=0.854]\n"
     ]
    },
    {
     "name": "stdout",
     "output_type": "stream",
     "text": [
      "Validation Dice Score\n",
      "Class 0: 0.6019, Class 1: 0.0004, Class 2: 0.0140, Class 3: 0.3664, \n",
      "Class 4: 0.3269, Class 5: 0.1613, Class 6: 0.0330, \n",
      "Training Loss: 0.7963, Validation Loss: 0.8755\n",
      "Epoch 123/4000\n"
     ]
    },
    {
     "name": "stderr",
     "output_type": "stream",
     "text": [
      "Training: 100%|██████████| 24/24 [00:23<00:00,  1.04it/s, loss=0.698]\n",
      "Validation: 100%|██████████| 4/4 [00:01<00:00,  2.27it/s, loss=0.829]\n"
     ]
    },
    {
     "name": "stdout",
     "output_type": "stream",
     "text": [
      "Validation Dice Score\n",
      "Class 0: 0.5918, Class 1: 0.0007, Class 2: 0.0109, Class 3: 0.5349, \n",
      "Class 4: 0.4876, Class 5: 0.2401, Class 6: 0.1710, \n",
      "Training Loss: 0.7999, Validation Loss: 0.7943\n",
      "Epoch 124/4000\n"
     ]
    },
    {
     "name": "stderr",
     "output_type": "stream",
     "text": [
      "Training: 100%|██████████| 24/24 [00:23<00:00,  1.04it/s, loss=0.809]\n",
      "Validation: 100%|██████████| 4/4 [00:01<00:00,  2.26it/s, loss=0.879]\n"
     ]
    },
    {
     "name": "stdout",
     "output_type": "stream",
     "text": [
      "Validation Dice Score\n",
      "Class 0: 0.6061, Class 1: 0.0009, Class 2: 0.0704, Class 3: 0.3236, \n",
      "Class 4: 0.3833, Class 5: 0.1720, Class 6: 0.4129, \n",
      "Training Loss: 0.7971, Validation Loss: 0.8311\n",
      "Epoch 125/4000\n"
     ]
    },
    {
     "name": "stderr",
     "output_type": "stream",
     "text": [
      "Training: 100%|██████████| 24/24 [00:23<00:00,  1.04it/s, loss=0.729]\n",
      "Validation: 100%|██████████| 4/4 [00:01<00:00,  2.29it/s, loss=0.751]\n"
     ]
    },
    {
     "name": "stdout",
     "output_type": "stream",
     "text": [
      "Validation Dice Score\n",
      "Class 0: 0.6112, Class 1: 0.0004, Class 2: 0.0579, Class 3: 0.4271, \n",
      "Class 4: 0.5073, Class 5: 0.2637, Class 6: 0.3282, \n",
      "Training Loss: 0.7893, Validation Loss: 0.7912\n",
      "Epoch 126/4000\n"
     ]
    },
    {
     "name": "stderr",
     "output_type": "stream",
     "text": [
      "Training: 100%|██████████| 24/24 [00:23<00:00,  1.04it/s, loss=0.777]\n",
      "Validation: 100%|██████████| 4/4 [00:01<00:00,  2.29it/s, loss=0.839]\n"
     ]
    },
    {
     "name": "stdout",
     "output_type": "stream",
     "text": [
      "Validation Dice Score\n",
      "Class 0: 0.6120, Class 1: 0.0005, Class 2: 0.0967, Class 3: 0.4217, \n",
      "Class 4: 0.1619, Class 5: 0.3215, Class 6: 0.5289, \n",
      "Training Loss: 0.8077, Validation Loss: 0.7964\n",
      "Epoch 127/4000\n"
     ]
    },
    {
     "name": "stderr",
     "output_type": "stream",
     "text": [
      "Training: 100%|██████████| 24/24 [00:23<00:00,  1.04it/s, loss=0.748]\n",
      "Validation: 100%|██████████| 4/4 [00:01<00:00,  2.35it/s, loss=0.818]\n"
     ]
    },
    {
     "name": "stdout",
     "output_type": "stream",
     "text": [
      "Validation Dice Score\n",
      "Class 0: 0.6039, Class 1: 0.0007, Class 2: 0.0496, Class 3: 0.4000, \n",
      "Class 4: 0.2777, Class 5: 0.2992, Class 6: 0.5480, \n",
      "Training Loss: 0.7949, Validation Loss: 0.7802\n",
      "Epoch 128/4000\n"
     ]
    },
    {
     "name": "stderr",
     "output_type": "stream",
     "text": [
      "Training: 100%|██████████| 24/24 [00:23<00:00,  1.03it/s, loss=0.713]\n",
      "Validation: 100%|██████████| 4/4 [00:01<00:00,  2.34it/s, loss=0.796]\n"
     ]
    },
    {
     "name": "stdout",
     "output_type": "stream",
     "text": [
      "Validation Dice Score\n",
      "Class 0: 0.6079, Class 1: 0.0006, Class 2: 0.1239, Class 3: 0.3530, \n",
      "Class 4: 0.2185, Class 5: 0.3928, Class 6: 0.4922, \n",
      "Training Loss: 0.7893, Validation Loss: 0.7759\n",
      "Epoch 129/4000\n"
     ]
    },
    {
     "name": "stderr",
     "output_type": "stream",
     "text": [
      "Training: 100%|██████████| 24/24 [00:23<00:00,  1.04it/s, loss=0.621]\n",
      "Validation: 100%|██████████| 4/4 [00:01<00:00,  2.37it/s, loss=0.816]\n"
     ]
    },
    {
     "name": "stdout",
     "output_type": "stream",
     "text": [
      "Validation Dice Score\n",
      "Class 0: 0.5952, Class 1: 0.0007, Class 2: 0.0242, Class 3: 0.4899, \n",
      "Class 4: 0.2829, Class 5: 0.2791, Class 6: 0.2935, \n",
      "Training Loss: 0.8155, Validation Loss: 0.8184\n",
      "Epoch 130/4000\n"
     ]
    },
    {
     "name": "stderr",
     "output_type": "stream",
     "text": [
      "Training: 100%|██████████| 24/24 [00:23<00:00,  1.04it/s, loss=0.827]\n",
      "Validation: 100%|██████████| 4/4 [00:01<00:00,  2.33it/s, loss=0.817]\n"
     ]
    },
    {
     "name": "stdout",
     "output_type": "stream",
     "text": [
      "Validation Dice Score\n",
      "Class 0: 0.6161, Class 1: 0.0009, Class 2: 0.0845, Class 3: 0.5139, \n",
      "Class 4: 0.3154, Class 5: 0.4208, Class 6: 0.3169, \n",
      "Training Loss: 0.8042, Validation Loss: 0.7848\n",
      "Epoch 131/4000\n"
     ]
    },
    {
     "name": "stderr",
     "output_type": "stream",
     "text": [
      "Training: 100%|██████████| 24/24 [00:23<00:00,  1.03it/s, loss=0.799]\n",
      "Validation: 100%|██████████| 4/4 [00:01<00:00,  2.33it/s, loss=0.794]\n"
     ]
    },
    {
     "name": "stdout",
     "output_type": "stream",
     "text": [
      "Validation Dice Score\n",
      "Class 0: 0.6138, Class 1: 0.0004, Class 2: 0.0000, Class 3: 0.1927, \n",
      "Class 4: 0.3321, Class 5: 0.2401, Class 6: 0.5060, \n",
      "Training Loss: 0.7601, Validation Loss: 0.8339\n",
      "Epoch 132/4000\n"
     ]
    },
    {
     "name": "stderr",
     "output_type": "stream",
     "text": [
      "Training: 100%|██████████| 24/24 [00:23<00:00,  1.04it/s, loss=0.803]\n",
      "Validation: 100%|██████████| 4/4 [00:01<00:00,  2.31it/s, loss=0.873]\n"
     ]
    },
    {
     "name": "stdout",
     "output_type": "stream",
     "text": [
      "Validation Dice Score\n",
      "Class 0: 0.6109, Class 1: 0.0006, Class 2: 0.1009, Class 3: 0.3842, \n",
      "Class 4: 0.3335, Class 5: 0.2381, Class 6: 0.2720, \n",
      "Training Loss: 0.7834, Validation Loss: 0.8374\n",
      "Epoch 133/4000\n"
     ]
    },
    {
     "name": "stderr",
     "output_type": "stream",
     "text": [
      "Training: 100%|██████████| 24/24 [00:23<00:00,  1.04it/s, loss=0.766]\n",
      "Validation: 100%|██████████| 4/4 [00:01<00:00,  2.28it/s, loss=0.732]\n"
     ]
    },
    {
     "name": "stdout",
     "output_type": "stream",
     "text": [
      "Validation Dice Score\n",
      "Class 0: 0.6133, Class 1: 0.0006, Class 2: 0.0648, Class 3: 0.5456, \n",
      "Class 4: 0.4903, Class 5: 0.2065, Class 6: 0.3092, \n",
      "Training Loss: 0.8055, Validation Loss: 0.7668\n",
      "Epoch 134/4000\n"
     ]
    },
    {
     "name": "stderr",
     "output_type": "stream",
     "text": [
      "Training: 100%|██████████| 24/24 [00:23<00:00,  1.04it/s, loss=0.778]\n",
      "Validation: 100%|██████████| 4/4 [00:01<00:00,  2.28it/s, loss=0.904]\n"
     ]
    },
    {
     "name": "stdout",
     "output_type": "stream",
     "text": [
      "Validation Dice Score\n",
      "Class 0: 0.5996, Class 1: 0.0006, Class 2: 0.0544, Class 3: 0.3606, \n",
      "Class 4: 0.2574, Class 5: 0.1765, Class 6: 0.3045, \n",
      "Training Loss: 0.7971, Validation Loss: 0.8602\n",
      "Epoch 135/4000\n"
     ]
    },
    {
     "name": "stderr",
     "output_type": "stream",
     "text": [
      "Training: 100%|██████████| 24/24 [00:23<00:00,  1.03it/s, loss=0.883]\n",
      "Validation: 100%|██████████| 4/4 [00:01<00:00,  2.30it/s, loss=0.811]\n"
     ]
    },
    {
     "name": "stdout",
     "output_type": "stream",
     "text": [
      "Validation Dice Score\n",
      "Class 0: 0.5959, Class 1: 0.0002, Class 2: 0.1222, Class 3: 0.2555, \n",
      "Class 4: 0.1344, Class 5: 0.3514, Class 6: 0.3043, \n",
      "Training Loss: 0.8253, Validation Loss: 0.8305\n",
      "Epoch 136/4000\n"
     ]
    },
    {
     "name": "stderr",
     "output_type": "stream",
     "text": [
      "Training: 100%|██████████| 24/24 [00:23<00:00,  1.03it/s, loss=0.895]\n",
      "Validation: 100%|██████████| 4/4 [00:01<00:00,  2.30it/s, loss=0.776]\n"
     ]
    },
    {
     "name": "stdout",
     "output_type": "stream",
     "text": [
      "Validation Dice Score\n",
      "Class 0: 0.6083, Class 1: 0.0004, Class 2: 0.0000, Class 3: 0.4899, \n",
      "Class 4: 0.4455, Class 5: 0.3096, Class 6: 0.5465, \n",
      "Training Loss: 0.8131, Validation Loss: 0.7764\n",
      "Epoch 137/4000\n"
     ]
    },
    {
     "name": "stderr",
     "output_type": "stream",
     "text": [
      "Training: 100%|██████████| 24/24 [00:23<00:00,  1.03it/s, loss=0.62] \n",
      "Validation: 100%|██████████| 4/4 [00:01<00:00,  2.32it/s, loss=0.897]\n"
     ]
    },
    {
     "name": "stdout",
     "output_type": "stream",
     "text": [
      "Validation Dice Score\n",
      "Class 0: 0.5930, Class 1: 0.0011, Class 2: 0.0977, Class 3: 0.3668, \n",
      "Class 4: 0.2872, Class 5: 0.3562, Class 6: 0.3031, \n",
      "Training Loss: 0.8076, Validation Loss: 0.7884\n",
      "Epoch 138/4000\n"
     ]
    },
    {
     "name": "stderr",
     "output_type": "stream",
     "text": [
      "Training: 100%|██████████| 24/24 [00:23<00:00,  1.04it/s, loss=0.843]\n",
      "Validation: 100%|██████████| 4/4 [00:01<00:00,  2.25it/s, loss=0.91] \n"
     ]
    },
    {
     "name": "stdout",
     "output_type": "stream",
     "text": [
      "Validation Dice Score\n",
      "Class 0: 0.5977, Class 1: 0.0007, Class 2: 0.1463, Class 3: 0.3823, \n",
      "Class 4: 0.2051, Class 5: 0.2930, Class 6: 0.2812, \n",
      "Training Loss: 0.8062, Validation Loss: 0.8141\n",
      "Epoch 139/4000\n"
     ]
    },
    {
     "name": "stderr",
     "output_type": "stream",
     "text": [
      "Training: 100%|██████████| 24/24 [00:23<00:00,  1.03it/s, loss=0.909]\n",
      "Validation: 100%|██████████| 4/4 [00:01<00:00,  2.33it/s, loss=0.887]\n"
     ]
    },
    {
     "name": "stdout",
     "output_type": "stream",
     "text": [
      "Validation Dice Score\n",
      "Class 0: 0.6179, Class 1: 0.0003, Class 2: 0.0066, Class 3: 0.4749, \n",
      "Class 4: 0.3341, Class 5: 0.2878, Class 6: 0.2916, \n",
      "Training Loss: 0.8161, Validation Loss: 0.8199\n",
      "Epoch 140/4000\n"
     ]
    },
    {
     "name": "stderr",
     "output_type": "stream",
     "text": [
      "Training: 100%|██████████| 24/24 [00:23<00:00,  1.03it/s, loss=0.852]\n",
      "Validation: 100%|██████████| 4/4 [00:01<00:00,  2.28it/s, loss=0.733]\n"
     ]
    },
    {
     "name": "stdout",
     "output_type": "stream",
     "text": [
      "Validation Dice Score\n",
      "Class 0: 0.6147, Class 1: 0.0001, Class 2: 0.1100, Class 3: 0.5709, \n",
      "Class 4: 0.2342, Class 5: 0.2742, Class 6: 0.5472, \n",
      "Training Loss: 0.7801, Validation Loss: 0.7852\n",
      "Epoch 141/4000\n"
     ]
    },
    {
     "name": "stderr",
     "output_type": "stream",
     "text": [
      "Training: 100%|██████████| 24/24 [00:23<00:00,  1.04it/s, loss=0.833]\n",
      "Validation: 100%|██████████| 4/4 [00:01<00:00,  2.29it/s, loss=0.899]\n"
     ]
    },
    {
     "name": "stdout",
     "output_type": "stream",
     "text": [
      "Validation Dice Score\n",
      "Class 0: 0.6039, Class 1: 0.0012, Class 2: 0.1173, Class 3: 0.2657, \n",
      "Class 4: 0.5375, Class 5: 0.2355, Class 6: 0.3248, \n",
      "Training Loss: 0.7851, Validation Loss: 0.8340\n",
      "Epoch 142/4000\n"
     ]
    },
    {
     "name": "stderr",
     "output_type": "stream",
     "text": [
      "Training: 100%|██████████| 24/24 [00:22<00:00,  1.04it/s, loss=0.843]\n",
      "Validation: 100%|██████████| 4/4 [00:01<00:00,  2.30it/s, loss=0.718]\n"
     ]
    },
    {
     "name": "stdout",
     "output_type": "stream",
     "text": [
      "Validation Dice Score\n",
      "Class 0: 0.6100, Class 1: 0.0002, Class 2: 0.2537, Class 3: 0.3280, \n",
      "Class 4: 0.4360, Class 5: 0.3141, Class 6: 0.1788, \n",
      "Training Loss: 0.7976, Validation Loss: 0.7898\n",
      "Epoch 143/4000\n"
     ]
    },
    {
     "name": "stderr",
     "output_type": "stream",
     "text": [
      "Training: 100%|██████████| 24/24 [00:23<00:00,  1.04it/s, loss=0.826]\n",
      "Validation: 100%|██████████| 4/4 [00:01<00:00,  2.30it/s, loss=0.758]\n"
     ]
    },
    {
     "name": "stdout",
     "output_type": "stream",
     "text": [
      "Validation Dice Score\n",
      "Class 0: 0.6191, Class 1: 0.0002, Class 2: 0.1407, Class 3: 0.4630, \n",
      "Class 4: 0.5264, Class 5: 0.3346, Class 6: 0.1657, \n",
      "Training Loss: 0.7956, Validation Loss: 0.7708\n",
      "Epoch 144/4000\n"
     ]
    },
    {
     "name": "stderr",
     "output_type": "stream",
     "text": [
      "Training: 100%|██████████| 24/24 [00:23<00:00,  1.03it/s, loss=0.764]\n",
      "Validation: 100%|██████████| 4/4 [00:01<00:00,  2.27it/s, loss=0.936]\n"
     ]
    },
    {
     "name": "stdout",
     "output_type": "stream",
     "text": [
      "Validation Dice Score\n",
      "Class 0: 0.6188, Class 1: 0.0010, Class 2: 0.1425, Class 3: 0.2992, \n",
      "Class 4: 0.2205, Class 5: 0.2675, Class 6: 0.2405, \n",
      "Training Loss: 0.8237, Validation Loss: 0.8575\n",
      "Epoch 145/4000\n"
     ]
    },
    {
     "name": "stderr",
     "output_type": "stream",
     "text": [
      "Training: 100%|██████████| 24/24 [00:23<00:00,  1.04it/s, loss=0.874]\n",
      "Validation: 100%|██████████| 4/4 [00:01<00:00,  2.32it/s, loss=0.764]\n"
     ]
    },
    {
     "name": "stdout",
     "output_type": "stream",
     "text": [
      "Validation Dice Score\n",
      "Class 0: 0.6228, Class 1: 0.0008, Class 2: 0.2060, Class 3: 0.4827, \n",
      "Class 4: 0.2971, Class 5: 0.3425, Class 6: 0.3165, \n",
      "Training Loss: 0.7963, Validation Loss: 0.7790\n",
      "Epoch 146/4000\n"
     ]
    },
    {
     "name": "stderr",
     "output_type": "stream",
     "text": [
      "Training: 100%|██████████| 24/24 [00:23<00:00,  1.04it/s, loss=0.701]\n",
      "Validation: 100%|██████████| 4/4 [00:01<00:00,  2.30it/s, loss=0.703]\n"
     ]
    },
    {
     "name": "stdout",
     "output_type": "stream",
     "text": [
      "Validation Dice Score\n",
      "Class 0: 0.6195, Class 1: 0.0006, Class 2: 0.0980, Class 3: 0.4626, \n",
      "Class 4: 0.1903, Class 5: 0.4853, Class 6: 0.5167, \n",
      "Training Loss: 0.7942, Validation Loss: 0.7265\n",
      "========================================================\n",
      "Best model saved with validation loss: 0.7265\n",
      "========================================================\n",
      "Epoch 147/4000\n"
     ]
    },
    {
     "name": "stderr",
     "output_type": "stream",
     "text": [
      "Training: 100%|██████████| 24/24 [00:23<00:00,  1.04it/s, loss=0.765]\n",
      "Validation: 100%|██████████| 4/4 [00:01<00:00,  2.26it/s, loss=0.757]\n"
     ]
    },
    {
     "name": "stdout",
     "output_type": "stream",
     "text": [
      "Validation Dice Score\n",
      "Class 0: 0.6066, Class 1: 0.0005, Class 2: 0.2097, Class 3: 0.5559, \n",
      "Class 4: 0.5100, Class 5: 0.2994, Class 6: 0.4054, \n",
      "Training Loss: 0.8106, Validation Loss: 0.7236\n",
      "========================================================\n",
      "Best model saved with validation loss: 0.7236\n",
      "========================================================\n",
      "Epoch 148/4000\n"
     ]
    },
    {
     "name": "stderr",
     "output_type": "stream",
     "text": [
      "Training: 100%|██████████| 24/24 [00:23<00:00,  1.04it/s, loss=0.724]\n",
      "Validation: 100%|██████████| 4/4 [00:01<00:00,  2.19it/s, loss=0.819]\n"
     ]
    },
    {
     "name": "stdout",
     "output_type": "stream",
     "text": [
      "Validation Dice Score\n",
      "Class 0: 0.6036, Class 1: 0.0005, Class 2: 0.0640, Class 3: 0.5055, \n",
      "Class 4: 0.4582, Class 5: 0.2735, Class 6: 0.2829, \n",
      "Training Loss: 0.8082, Validation Loss: 0.7869\n",
      "Epoch 149/4000\n"
     ]
    },
    {
     "name": "stderr",
     "output_type": "stream",
     "text": [
      "Training: 100%|██████████| 24/24 [00:23<00:00,  1.04it/s, loss=0.637]\n",
      "Validation: 100%|██████████| 4/4 [00:01<00:00,  2.25it/s, loss=0.868]\n"
     ]
    },
    {
     "name": "stdout",
     "output_type": "stream",
     "text": [
      "Validation Dice Score\n",
      "Class 0: 0.5981, Class 1: 0.0006, Class 2: 0.0000, Class 3: 0.5579, \n",
      "Class 4: 0.4354, Class 5: 0.4431, Class 6: 0.4303, \n",
      "Training Loss: 0.7742, Validation Loss: 0.7359\n",
      "Epoch 150/4000\n"
     ]
    },
    {
     "name": "stderr",
     "output_type": "stream",
     "text": [
      "Training: 100%|██████████| 24/24 [00:22<00:00,  1.04it/s, loss=0.756]\n",
      "Validation: 100%|██████████| 4/4 [00:01<00:00,  2.22it/s, loss=0.831]\n"
     ]
    },
    {
     "name": "stdout",
     "output_type": "stream",
     "text": [
      "Validation Dice Score\n",
      "Class 0: 0.6070, Class 1: 0.0007, Class 2: 0.1368, Class 3: 0.0931, \n",
      "Class 4: 0.1262, Class 5: 0.2701, Class 6: 0.6008, \n",
      "Training Loss: 0.8088, Validation Loss: 0.8537\n",
      "Epoch 151/4000\n"
     ]
    },
    {
     "name": "stderr",
     "output_type": "stream",
     "text": [
      "Training: 100%|██████████| 24/24 [00:23<00:00,  1.04it/s, loss=0.739]\n",
      "Validation: 100%|██████████| 4/4 [00:01<00:00,  2.25it/s, loss=0.782]\n"
     ]
    },
    {
     "name": "stdout",
     "output_type": "stream",
     "text": [
      "Validation Dice Score\n",
      "Class 0: 0.6067, Class 1: 0.0007, Class 2: 0.0048, Class 3: 0.4645, \n",
      "Class 4: 0.6292, Class 5: 0.2414, Class 6: 0.2793, \n",
      "Training Loss: 0.7778, Validation Loss: 0.7617\n",
      "Epoch 152/4000\n"
     ]
    },
    {
     "name": "stderr",
     "output_type": "stream",
     "text": [
      "Training: 100%|██████████| 24/24 [00:23<00:00,  1.04it/s, loss=0.854]\n",
      "Validation: 100%|██████████| 4/4 [00:01<00:00,  2.27it/s, loss=0.869]\n"
     ]
    },
    {
     "name": "stdout",
     "output_type": "stream",
     "text": [
      "Validation Dice Score\n",
      "Class 0: 0.6035, Class 1: 0.0010, Class 2: 0.1443, Class 3: 0.3504, \n",
      "Class 4: 0.3079, Class 5: 0.2651, Class 6: 0.3167, \n",
      "Training Loss: 0.8231, Validation Loss: 0.8081\n",
      "Epoch 153/4000\n"
     ]
    },
    {
     "name": "stderr",
     "output_type": "stream",
     "text": [
      "Training: 100%|██████████| 24/24 [00:23<00:00,  1.04it/s, loss=0.802]\n",
      "Validation: 100%|██████████| 4/4 [00:01<00:00,  2.26it/s, loss=0.84] \n"
     ]
    },
    {
     "name": "stdout",
     "output_type": "stream",
     "text": [
      "Validation Dice Score\n",
      "Class 0: 0.6071, Class 1: 0.0011, Class 2: 0.0880, Class 3: 0.3403, \n",
      "Class 4: 0.4184, Class 5: 0.2858, Class 6: 0.5990, \n",
      "Training Loss: 0.8075, Validation Loss: 0.7896\n",
      "Epoch 154/4000\n"
     ]
    },
    {
     "name": "stderr",
     "output_type": "stream",
     "text": [
      "Training: 100%|██████████| 24/24 [00:23<00:00,  1.04it/s, loss=0.794]\n",
      "Validation: 100%|██████████| 4/4 [00:01<00:00,  2.27it/s, loss=0.655]\n"
     ]
    },
    {
     "name": "stdout",
     "output_type": "stream",
     "text": [
      "Validation Dice Score\n",
      "Class 0: 0.6071, Class 1: 0.0004, Class 2: 0.0501, Class 3: 0.5189, \n",
      "Class 4: 0.3341, Class 5: 0.2942, Class 6: 0.3173, \n",
      "Training Loss: 0.8043, Validation Loss: 0.7755\n",
      "Epoch 155/4000\n"
     ]
    },
    {
     "name": "stderr",
     "output_type": "stream",
     "text": [
      "Training: 100%|██████████| 24/24 [00:23<00:00,  1.04it/s, loss=0.806]\n",
      "Validation: 100%|██████████| 4/4 [00:01<00:00,  2.18it/s, loss=0.749]\n"
     ]
    },
    {
     "name": "stdout",
     "output_type": "stream",
     "text": [
      "Validation Dice Score\n",
      "Class 0: 0.6225, Class 1: 0.0011, Class 2: 0.0380, Class 3: 0.2835, \n",
      "Class 4: 0.3048, Class 5: 0.3652, Class 6: 0.6839, \n",
      "Training Loss: 0.8154, Validation Loss: 0.7771\n",
      "Epoch 156/4000\n"
     ]
    },
    {
     "name": "stderr",
     "output_type": "stream",
     "text": [
      "Training: 100%|██████████| 24/24 [00:22<00:00,  1.05it/s, loss=0.686]\n",
      "Validation: 100%|██████████| 4/4 [00:01<00:00,  2.25it/s, loss=0.865]\n"
     ]
    },
    {
     "name": "stdout",
     "output_type": "stream",
     "text": [
      "Validation Dice Score\n",
      "Class 0: 0.6092, Class 1: 0.0008, Class 2: 0.1158, Class 3: 0.5298, \n",
      "Class 4: 0.4892, Class 5: 0.2382, Class 6: 0.2086, \n",
      "Training Loss: 0.7545, Validation Loss: 0.7567\n",
      "Epoch 157/4000\n"
     ]
    },
    {
     "name": "stderr",
     "output_type": "stream",
     "text": [
      "Training: 100%|██████████| 24/24 [00:22<00:00,  1.05it/s, loss=0.771]\n",
      "Validation: 100%|██████████| 4/4 [00:01<00:00,  2.30it/s, loss=0.673]\n"
     ]
    },
    {
     "name": "stdout",
     "output_type": "stream",
     "text": [
      "Validation Dice Score\n",
      "Class 0: 0.6035, Class 1: 0.0006, Class 2: 0.1378, Class 3: 0.5259, \n",
      "Class 4: 0.3972, Class 5: 0.3115, Class 6: 0.3917, \n",
      "Training Loss: 0.7934, Validation Loss: 0.7588\n",
      "Epoch 158/4000\n"
     ]
    },
    {
     "name": "stderr",
     "output_type": "stream",
     "text": [
      "Training: 100%|██████████| 24/24 [00:23<00:00,  1.04it/s, loss=0.843]\n",
      "Validation: 100%|██████████| 4/4 [00:01<00:00,  2.23it/s, loss=0.783]\n"
     ]
    },
    {
     "name": "stdout",
     "output_type": "stream",
     "text": [
      "Validation Dice Score\n",
      "Class 0: 0.5909, Class 1: 0.0005, Class 2: 0.1160, Class 3: 0.4568, \n",
      "Class 4: 0.2883, Class 5: 0.3065, Class 6: 0.2992, \n",
      "Training Loss: 0.8200, Validation Loss: 0.7879\n",
      "Epoch 159/4000\n"
     ]
    },
    {
     "name": "stderr",
     "output_type": "stream",
     "text": [
      "Training: 100%|██████████| 24/24 [00:22<00:00,  1.05it/s, loss=0.809]\n",
      "Validation: 100%|██████████| 4/4 [00:01<00:00,  2.26it/s, loss=0.808]\n"
     ]
    },
    {
     "name": "stdout",
     "output_type": "stream",
     "text": [
      "Validation Dice Score\n",
      "Class 0: 0.6116, Class 1: 0.0001, Class 2: 0.1513, Class 3: 0.5374, \n",
      "Class 4: 0.2995, Class 5: 0.3127, Class 6: 0.1153, \n",
      "Training Loss: 0.7798, Validation Loss: 0.8003\n",
      "Epoch 160/4000\n"
     ]
    },
    {
     "name": "stderr",
     "output_type": "stream",
     "text": [
      "Training: 100%|██████████| 24/24 [00:23<00:00,  1.04it/s, loss=0.872]\n",
      "Validation: 100%|██████████| 4/4 [00:01<00:00,  2.20it/s, loss=0.753]\n"
     ]
    },
    {
     "name": "stdout",
     "output_type": "stream",
     "text": [
      "Validation Dice Score\n",
      "Class 0: 0.6063, Class 1: 0.0009, Class 2: 0.2531, Class 3: 0.3997, \n",
      "Class 4: 0.3817, Class 5: 0.1995, Class 6: 0.2209, \n",
      "Training Loss: 0.7794, Validation Loss: 0.8112\n",
      "Epoch 161/4000\n"
     ]
    },
    {
     "name": "stderr",
     "output_type": "stream",
     "text": [
      "Training: 100%|██████████| 24/24 [00:23<00:00,  1.04it/s, loss=0.677]\n",
      "Validation: 100%|██████████| 4/4 [00:01<00:00,  2.27it/s, loss=0.827]\n"
     ]
    },
    {
     "name": "stdout",
     "output_type": "stream",
     "text": [
      "Validation Dice Score\n",
      "Class 0: 0.6173, Class 1: 0.0008, Class 2: 0.0704, Class 3: 0.5413, \n",
      "Class 4: 0.5776, Class 5: 0.3800, Class 6: 0.1910, \n",
      "Training Loss: 0.7883, Validation Loss: 0.7729\n",
      "Epoch 162/4000\n"
     ]
    },
    {
     "name": "stderr",
     "output_type": "stream",
     "text": [
      "Training: 100%|██████████| 24/24 [00:22<00:00,  1.04it/s, loss=0.812]\n",
      "Validation: 100%|██████████| 4/4 [00:01<00:00,  2.23it/s, loss=0.842]\n"
     ]
    },
    {
     "name": "stdout",
     "output_type": "stream",
     "text": [
      "Validation Dice Score\n",
      "Class 0: 0.6197, Class 1: 0.0008, Class 2: 0.0833, Class 3: 0.4223, \n",
      "Class 4: 0.3085, Class 5: 0.2117, Class 6: 0.4139, \n",
      "Training Loss: 0.8045, Validation Loss: 0.8174\n",
      "Epoch 163/4000\n"
     ]
    },
    {
     "name": "stderr",
     "output_type": "stream",
     "text": [
      "Training: 100%|██████████| 24/24 [00:23<00:00,  1.04it/s, loss=0.724]\n",
      "Validation: 100%|██████████| 4/4 [00:01<00:00,  2.25it/s, loss=0.671]\n"
     ]
    },
    {
     "name": "stdout",
     "output_type": "stream",
     "text": [
      "Validation Dice Score\n",
      "Class 0: 0.6050, Class 1: 0.0017, Class 2: 0.1463, Class 3: 0.3138, \n",
      "Class 4: 0.3860, Class 5: 0.2716, Class 6: 0.4977, \n",
      "Training Loss: 0.7846, Validation Loss: 0.7912\n",
      "Epoch 164/4000\n"
     ]
    },
    {
     "name": "stderr",
     "output_type": "stream",
     "text": [
      "Training: 100%|██████████| 24/24 [00:23<00:00,  1.04it/s, loss=0.682]\n",
      "Validation: 100%|██████████| 4/4 [00:01<00:00,  2.20it/s, loss=0.864]\n"
     ]
    },
    {
     "name": "stdout",
     "output_type": "stream",
     "text": [
      "Validation Dice Score\n",
      "Class 0: 0.6087, Class 1: 0.0015, Class 2: 0.0456, Class 3: 0.5248, \n",
      "Class 4: 0.4787, Class 5: 0.1587, Class 6: 0.4210, \n",
      "Training Loss: 0.7732, Validation Loss: 0.7691\n",
      "Epoch 165/4000\n"
     ]
    },
    {
     "name": "stderr",
     "output_type": "stream",
     "text": [
      "Training: 100%|██████████| 24/24 [00:23<00:00,  1.04it/s, loss=0.935]\n",
      "Validation: 100%|██████████| 4/4 [00:01<00:00,  2.25it/s, loss=0.716]\n"
     ]
    },
    {
     "name": "stdout",
     "output_type": "stream",
     "text": [
      "Validation Dice Score\n",
      "Class 0: 0.6008, Class 1: 0.0009, Class 2: 0.0000, Class 3: 0.4522, \n",
      "Class 4: 0.4538, Class 5: 0.2134, Class 6: 0.4383, \n",
      "Training Loss: 0.7798, Validation Loss: 0.7878\n",
      "Epoch 166/4000\n"
     ]
    },
    {
     "name": "stderr",
     "output_type": "stream",
     "text": [
      "Training: 100%|██████████| 24/24 [00:23<00:00,  1.04it/s, loss=0.812]\n",
      "Validation: 100%|██████████| 4/4 [00:01<00:00,  2.32it/s, loss=0.841]\n"
     ]
    },
    {
     "name": "stdout",
     "output_type": "stream",
     "text": [
      "Validation Dice Score\n",
      "Class 0: 0.6116, Class 1: 0.0005, Class 2: 0.0477, Class 3: 0.3919, \n",
      "Class 4: 0.3584, Class 5: 0.3497, Class 6: 0.3415, \n",
      "Training Loss: 0.7900, Validation Loss: 0.8032\n",
      "Epoch 167/4000\n"
     ]
    },
    {
     "name": "stderr",
     "output_type": "stream",
     "text": [
      "Training: 100%|██████████| 24/24 [00:22<00:00,  1.04it/s, loss=0.903]\n",
      "Validation: 100%|██████████| 4/4 [00:01<00:00,  2.28it/s, loss=0.775]\n"
     ]
    },
    {
     "name": "stdout",
     "output_type": "stream",
     "text": [
      "Validation Dice Score\n",
      "Class 0: 0.6054, Class 1: 0.0008, Class 2: 0.0913, Class 3: 0.5368, \n",
      "Class 4: 0.1745, Class 5: 0.3090, Class 6: 0.5333, \n",
      "Training Loss: 0.8101, Validation Loss: 0.7834\n",
      "Epoch 168/4000\n"
     ]
    },
    {
     "name": "stderr",
     "output_type": "stream",
     "text": [
      "Training: 100%|██████████| 24/24 [00:23<00:00,  1.04it/s, loss=0.648]\n",
      "Validation: 100%|██████████| 4/4 [00:01<00:00,  2.22it/s, loss=0.746]\n"
     ]
    },
    {
     "name": "stdout",
     "output_type": "stream",
     "text": [
      "Validation Dice Score\n",
      "Class 0: 0.6012, Class 1: 0.0012, Class 2: 0.0541, Class 3: 0.4448, \n",
      "Class 4: 0.3684, Class 5: 0.3739, Class 6: 0.1995, \n",
      "Training Loss: 0.7723, Validation Loss: 0.8231\n",
      "Epoch 169/4000\n"
     ]
    },
    {
     "name": "stderr",
     "output_type": "stream",
     "text": [
      "Training: 100%|██████████| 24/24 [00:23<00:00,  1.04it/s, loss=0.797]\n",
      "Validation: 100%|██████████| 4/4 [00:01<00:00,  2.25it/s, loss=0.694]\n"
     ]
    },
    {
     "name": "stdout",
     "output_type": "stream",
     "text": [
      "Validation Dice Score\n",
      "Class 0: 0.6067, Class 1: 0.0004, Class 2: 0.1471, Class 3: 0.4411, \n",
      "Class 4: 0.4366, Class 5: 0.2855, Class 6: 0.3519, \n",
      "Training Loss: 0.7879, Validation Loss: 0.7835\n",
      "Epoch 170/4000\n"
     ]
    },
    {
     "name": "stderr",
     "output_type": "stream",
     "text": [
      "Training: 100%|██████████| 24/24 [00:23<00:00,  1.04it/s, loss=0.819]\n",
      "Validation: 100%|██████████| 4/4 [00:01<00:00,  2.25it/s, loss=0.749]\n"
     ]
    },
    {
     "name": "stdout",
     "output_type": "stream",
     "text": [
      "Validation Dice Score\n",
      "Class 0: 0.6058, Class 1: 0.0006, Class 2: 0.0894, Class 3: 0.4427, \n",
      "Class 4: 0.2867, Class 5: 0.2726, Class 6: 0.1929, \n",
      "Training Loss: 0.8000, Validation Loss: 0.8005\n",
      "Epoch 171/4000\n"
     ]
    },
    {
     "name": "stderr",
     "output_type": "stream",
     "text": [
      "Training: 100%|██████████| 24/24 [00:23<00:00,  1.04it/s, loss=0.851]\n",
      "Validation: 100%|██████████| 4/4 [00:01<00:00,  2.21it/s, loss=0.613]\n"
     ]
    },
    {
     "name": "stdout",
     "output_type": "stream",
     "text": [
      "Validation Dice Score\n",
      "Class 0: 0.6049, Class 1: 0.0009, Class 2: 0.1931, Class 3: 0.5861, \n",
      "Class 4: 0.5212, Class 5: 0.3683, Class 6: 0.5155, \n",
      "Training Loss: 0.8207, Validation Loss: 0.6936\n",
      "========================================================\n",
      "Best model saved with validation loss: 0.6936\n",
      "========================================================\n",
      "Epoch 172/4000\n"
     ]
    },
    {
     "name": "stderr",
     "output_type": "stream",
     "text": [
      "Training: 100%|██████████| 24/24 [00:23<00:00,  1.04it/s, loss=0.772]\n",
      "Validation: 100%|██████████| 4/4 [00:01<00:00,  2.21it/s, loss=0.87] \n"
     ]
    },
    {
     "name": "stdout",
     "output_type": "stream",
     "text": [
      "Validation Dice Score\n",
      "Class 0: 0.6087, Class 1: 0.0015, Class 2: 0.0000, Class 3: 0.3995, \n",
      "Class 4: 0.4619, Class 5: 0.1394, Class 6: 0.3156, \n",
      "Training Loss: 0.8116, Validation Loss: 0.8195\n",
      "Epoch 173/4000\n"
     ]
    },
    {
     "name": "stderr",
     "output_type": "stream",
     "text": [
      "Training: 100%|██████████| 24/24 [00:23<00:00,  1.03it/s, loss=0.777]\n",
      "Validation: 100%|██████████| 4/4 [00:01<00:00,  2.26it/s, loss=0.682]\n"
     ]
    },
    {
     "name": "stdout",
     "output_type": "stream",
     "text": [
      "Validation Dice Score\n",
      "Class 0: 0.6011, Class 1: 0.0013, Class 2: 0.1817, Class 3: 0.3926, \n",
      "Class 4: 0.3780, Class 5: 0.4134, Class 6: 0.4678, \n",
      "Training Loss: 0.7854, Validation Loss: 0.7434\n",
      "Epoch 174/4000\n"
     ]
    },
    {
     "name": "stderr",
     "output_type": "stream",
     "text": [
      "Training: 100%|██████████| 24/24 [00:23<00:00,  1.03it/s, loss=0.704]\n",
      "Validation: 100%|██████████| 4/4 [00:01<00:00,  2.25it/s, loss=0.778]\n"
     ]
    },
    {
     "name": "stdout",
     "output_type": "stream",
     "text": [
      "Validation Dice Score\n",
      "Class 0: 0.6063, Class 1: 0.0011, Class 2: 0.0588, Class 3: 0.3152, \n",
      "Class 4: 0.3985, Class 5: 0.3612, Class 6: 0.5923, \n",
      "Training Loss: 0.7842, Validation Loss: 0.7814\n",
      "Epoch 175/4000\n"
     ]
    },
    {
     "name": "stderr",
     "output_type": "stream",
     "text": [
      "Training: 100%|██████████| 24/24 [00:22<00:00,  1.04it/s, loss=0.888]\n",
      "Validation: 100%|██████████| 4/4 [00:01<00:00,  2.26it/s, loss=0.921]\n"
     ]
    },
    {
     "name": "stdout",
     "output_type": "stream",
     "text": [
      "Validation Dice Score\n",
      "Class 0: 0.6100, Class 1: 0.0010, Class 2: 0.0491, Class 3: 0.3147, \n",
      "Class 4: 0.4910, Class 5: 0.2333, Class 6: 0.6045, \n",
      "Training Loss: 0.8039, Validation Loss: 0.7933\n",
      "Epoch 176/4000\n"
     ]
    },
    {
     "name": "stderr",
     "output_type": "stream",
     "text": [
      "Training: 100%|██████████| 24/24 [00:23<00:00,  1.04it/s, loss=0.766]\n",
      "Validation: 100%|██████████| 4/4 [00:01<00:00,  2.32it/s, loss=0.821]\n"
     ]
    },
    {
     "name": "stdout",
     "output_type": "stream",
     "text": [
      "Validation Dice Score\n",
      "Class 0: 0.6092, Class 1: 0.0011, Class 2: 0.0714, Class 3: 0.3471, \n",
      "Class 4: 0.3735, Class 5: 0.2448, Class 6: 0.3744, \n",
      "Training Loss: 0.7661, Validation Loss: 0.8159\n",
      "Epoch 177/4000\n"
     ]
    },
    {
     "name": "stderr",
     "output_type": "stream",
     "text": [
      "Training: 100%|██████████| 24/24 [00:23<00:00,  1.04it/s, loss=0.804]\n",
      "Validation: 100%|██████████| 4/4 [00:01<00:00,  2.27it/s, loss=0.785]\n"
     ]
    },
    {
     "name": "stdout",
     "output_type": "stream",
     "text": [
      "Validation Dice Score\n",
      "Class 0: 0.6183, Class 1: 0.0011, Class 2: 0.0029, Class 3: 0.3184, \n",
      "Class 4: 0.5181, Class 5: 0.1865, Class 6: 0.1959, \n",
      "Training Loss: 0.8158, Validation Loss: 0.8440\n",
      "Epoch 178/4000\n"
     ]
    },
    {
     "name": "stderr",
     "output_type": "stream",
     "text": [
      "Training: 100%|██████████| 24/24 [00:23<00:00,  1.04it/s, loss=0.715]\n",
      "Validation: 100%|██████████| 4/4 [00:01<00:00,  2.29it/s, loss=0.791]\n"
     ]
    },
    {
     "name": "stdout",
     "output_type": "stream",
     "text": [
      "Validation Dice Score\n",
      "Class 0: 0.6121, Class 1: 0.0010, Class 2: 0.0534, Class 3: 0.3787, \n",
      "Class 4: 0.4652, Class 5: 0.2405, Class 6: 0.2603, \n",
      "Training Loss: 0.7929, Validation Loss: 0.7962\n",
      "Epoch 179/4000\n"
     ]
    },
    {
     "name": "stderr",
     "output_type": "stream",
     "text": [
      "Training: 100%|██████████| 24/24 [00:22<00:00,  1.04it/s, loss=0.911]\n",
      "Validation: 100%|██████████| 4/4 [00:01<00:00,  2.24it/s, loss=0.759]\n"
     ]
    },
    {
     "name": "stdout",
     "output_type": "stream",
     "text": [
      "Validation Dice Score\n",
      "Class 0: 0.6172, Class 1: 0.0012, Class 2: 0.2090, Class 3: 0.5333, \n",
      "Class 4: 0.4635, Class 5: 0.2875, Class 6: 0.3216, \n",
      "Training Loss: 0.8008, Validation Loss: 0.7564\n",
      "Epoch 180/4000\n"
     ]
    },
    {
     "name": "stderr",
     "output_type": "stream",
     "text": [
      "Training: 100%|██████████| 24/24 [00:23<00:00,  1.04it/s, loss=0.753]\n",
      "Validation: 100%|██████████| 4/4 [00:01<00:00,  2.31it/s, loss=0.83] \n"
     ]
    },
    {
     "name": "stdout",
     "output_type": "stream",
     "text": [
      "Validation Dice Score\n",
      "Class 0: 0.6207, Class 1: 0.0004, Class 2: 0.1277, Class 3: 0.4556, \n",
      "Class 4: 0.2923, Class 5: 0.3262, Class 6: 0.1052, \n",
      "Training Loss: 0.7848, Validation Loss: 0.7909\n",
      "Epoch 181/4000\n"
     ]
    },
    {
     "name": "stderr",
     "output_type": "stream",
     "text": [
      "Training: 100%|██████████| 24/24 [00:24<00:00,  1.00s/it, loss=0.706]\n",
      "Validation: 100%|██████████| 4/4 [00:01<00:00,  2.22it/s, loss=0.947]\n"
     ]
    },
    {
     "name": "stdout",
     "output_type": "stream",
     "text": [
      "Validation Dice Score\n",
      "Class 0: 0.5987, Class 1: 0.0006, Class 2: 0.1852, Class 3: 0.2534, \n",
      "Class 4: 0.5148, Class 5: 0.2160, Class 6: 0.3747, \n",
      "Training Loss: 0.7656, Validation Loss: 0.8039\n",
      "Epoch 182/4000\n"
     ]
    },
    {
     "name": "stderr",
     "output_type": "stream",
     "text": [
      "Training: 100%|██████████| 24/24 [00:23<00:00,  1.04it/s, loss=0.829]\n",
      "Validation: 100%|██████████| 4/4 [00:01<00:00,  2.27it/s, loss=0.927]\n"
     ]
    },
    {
     "name": "stdout",
     "output_type": "stream",
     "text": [
      "Validation Dice Score\n",
      "Class 0: 0.6153, Class 1: 0.0007, Class 2: 0.1522, Class 3: 0.3657, \n",
      "Class 4: 0.3541, Class 5: 0.2981, Class 6: 0.2782, \n",
      "Training Loss: 0.8079, Validation Loss: 0.8041\n",
      "Epoch 183/4000\n"
     ]
    },
    {
     "name": "stderr",
     "output_type": "stream",
     "text": [
      "Training: 100%|██████████| 24/24 [00:23<00:00,  1.03it/s, loss=0.743]\n",
      "Validation: 100%|██████████| 4/4 [00:01<00:00,  2.27it/s, loss=0.794]\n"
     ]
    },
    {
     "name": "stdout",
     "output_type": "stream",
     "text": [
      "Validation Dice Score\n",
      "Class 0: 0.6133, Class 1: 0.0015, Class 2: 0.1734, Class 3: 0.2135, \n",
      "Class 4: 0.3450, Class 5: 0.3811, Class 6: 0.4267, \n",
      "Training Loss: 0.8064, Validation Loss: 0.8116\n",
      "Epoch 184/4000\n"
     ]
    },
    {
     "name": "stderr",
     "output_type": "stream",
     "text": [
      "Training: 100%|██████████| 24/24 [00:23<00:00,  1.04it/s, loss=0.799]\n",
      "Validation: 100%|██████████| 4/4 [00:01<00:00,  2.21it/s, loss=0.707]\n"
     ]
    },
    {
     "name": "stdout",
     "output_type": "stream",
     "text": [
      "Validation Dice Score\n",
      "Class 0: 0.6143, Class 1: 0.0007, Class 2: 0.0706, Class 3: 0.5728, \n",
      "Class 4: 0.3858, Class 5: 0.1556, Class 6: 0.3451, \n",
      "Training Loss: 0.8128, Validation Loss: 0.7949\n",
      "Epoch 185/4000\n"
     ]
    },
    {
     "name": "stderr",
     "output_type": "stream",
     "text": [
      "Training: 100%|██████████| 24/24 [00:23<00:00,  1.04it/s, loss=0.952]\n",
      "Validation: 100%|██████████| 4/4 [00:01<00:00,  2.26it/s, loss=0.845]\n"
     ]
    },
    {
     "name": "stdout",
     "output_type": "stream",
     "text": [
      "Validation Dice Score\n",
      "Class 0: 0.6096, Class 1: 0.0013, Class 2: 0.0750, Class 3: 0.3745, \n",
      "Class 4: 0.3548, Class 5: 0.2332, Class 6: 0.1647, \n",
      "Training Loss: 0.8033, Validation Loss: 0.8228\n",
      "Epoch 186/4000\n"
     ]
    },
    {
     "name": "stderr",
     "output_type": "stream",
     "text": [
      "Training: 100%|██████████| 24/24 [00:23<00:00,  1.04it/s, loss=0.719]\n",
      "Validation: 100%|██████████| 4/4 [00:01<00:00,  2.26it/s, loss=0.835]\n"
     ]
    },
    {
     "name": "stdout",
     "output_type": "stream",
     "text": [
      "Validation Dice Score\n",
      "Class 0: 0.6080, Class 1: 0.0013, Class 2: 0.1138, Class 3: 0.4503, \n",
      "Class 4: 0.4036, Class 5: 0.3706, Class 6: 0.5277, \n",
      "Training Loss: 0.7954, Validation Loss: 0.7453\n",
      "Epoch 187/4000\n"
     ]
    },
    {
     "name": "stderr",
     "output_type": "stream",
     "text": [
      "Training: 100%|██████████| 24/24 [00:23<00:00,  1.04it/s, loss=0.8]  \n",
      "Validation: 100%|██████████| 4/4 [00:01<00:00,  2.27it/s, loss=0.782]\n"
     ]
    },
    {
     "name": "stdout",
     "output_type": "stream",
     "text": [
      "Validation Dice Score\n",
      "Class 0: 0.6261, Class 1: 0.0012, Class 2: 0.0246, Class 3: 0.4091, \n",
      "Class 4: 0.4332, Class 5: 0.2850, Class 6: 0.5851, \n",
      "Training Loss: 0.7970, Validation Loss: 0.7742\n",
      "Epoch 188/4000\n"
     ]
    },
    {
     "name": "stderr",
     "output_type": "stream",
     "text": [
      "Training: 100%|██████████| 24/24 [00:23<00:00,  1.04it/s, loss=0.878]\n",
      "Validation: 100%|██████████| 4/4 [00:01<00:00,  2.25it/s, loss=0.796]\n"
     ]
    },
    {
     "name": "stdout",
     "output_type": "stream",
     "text": [
      "Validation Dice Score\n",
      "Class 0: 0.6204, Class 1: 0.0014, Class 2: 0.0770, Class 3: 0.4312, \n",
      "Class 4: 0.5143, Class 5: 0.3919, Class 6: 0.3926, \n",
      "Training Loss: 0.7691, Validation Loss: 0.7423\n",
      "Epoch 189/4000\n"
     ]
    },
    {
     "name": "stderr",
     "output_type": "stream",
     "text": [
      "Training: 100%|██████████| 24/24 [00:23<00:00,  1.04it/s, loss=0.823]\n",
      "Validation: 100%|██████████| 4/4 [00:01<00:00,  2.30it/s, loss=0.751]\n"
     ]
    },
    {
     "name": "stdout",
     "output_type": "stream",
     "text": [
      "Validation Dice Score\n",
      "Class 0: 0.6087, Class 1: 0.0010, Class 2: 0.0400, Class 3: 0.5517, \n",
      "Class 4: 0.4689, Class 5: 0.2028, Class 6: 0.4000, \n",
      "Training Loss: 0.8035, Validation Loss: 0.7486\n",
      "Epoch 190/4000\n"
     ]
    },
    {
     "name": "stderr",
     "output_type": "stream",
     "text": [
      "Training: 100%|██████████| 24/24 [00:23<00:00,  1.04it/s, loss=0.899]\n",
      "Validation: 100%|██████████| 4/4 [00:01<00:00,  2.27it/s, loss=0.816]\n"
     ]
    },
    {
     "name": "stdout",
     "output_type": "stream",
     "text": [
      "Validation Dice Score\n",
      "Class 0: 0.6103, Class 1: 0.0013, Class 2: 0.1533, Class 3: 0.4848, \n",
      "Class 4: 0.2872, Class 5: 0.2729, Class 6: 0.4188, \n",
      "Training Loss: 0.7992, Validation Loss: 0.7918\n",
      "Epoch 191/4000\n"
     ]
    },
    {
     "name": "stderr",
     "output_type": "stream",
     "text": [
      "Training: 100%|██████████| 24/24 [00:23<00:00,  1.03it/s, loss=0.855]\n",
      "Validation: 100%|██████████| 4/4 [00:01<00:00,  2.22it/s, loss=0.838]\n"
     ]
    },
    {
     "name": "stdout",
     "output_type": "stream",
     "text": [
      "Validation Dice Score\n",
      "Class 0: 0.6205, Class 1: 0.0014, Class 2: 0.1312, Class 3: 0.4446, \n",
      "Class 4: 0.3945, Class 5: 0.2873, Class 6: 0.1669, \n",
      "Training Loss: 0.7830, Validation Loss: 0.8151\n",
      "Epoch 192/4000\n"
     ]
    },
    {
     "name": "stderr",
     "output_type": "stream",
     "text": [
      "Training: 100%|██████████| 24/24 [00:23<00:00,  1.04it/s, loss=0.846]\n",
      "Validation: 100%|██████████| 4/4 [00:01<00:00,  2.26it/s, loss=0.869]\n"
     ]
    },
    {
     "name": "stdout",
     "output_type": "stream",
     "text": [
      "Validation Dice Score\n",
      "Class 0: 0.6097, Class 1: 0.0008, Class 2: 0.2607, Class 3: 0.4022, \n",
      "Class 4: 0.4064, Class 5: 0.2146, Class 6: 0.2029, \n",
      "Training Loss: 0.8015, Validation Loss: 0.7993\n",
      "Epoch 193/4000\n"
     ]
    },
    {
     "name": "stderr",
     "output_type": "stream",
     "text": [
      "Training: 100%|██████████| 24/24 [00:23<00:00,  1.03it/s, loss=0.775]\n",
      "Validation: 100%|██████████| 4/4 [00:01<00:00,  2.34it/s, loss=0.809]\n"
     ]
    },
    {
     "name": "stdout",
     "output_type": "stream",
     "text": [
      "Validation Dice Score\n",
      "Class 0: 0.6005, Class 1: 0.0018, Class 2: 0.0821, Class 3: 0.5862, \n",
      "Class 4: 0.3286, Class 5: 0.2559, Class 6: 0.3463, \n",
      "Training Loss: 0.7995, Validation Loss: 0.7592\n",
      "Epoch 194/4000\n"
     ]
    },
    {
     "name": "stderr",
     "output_type": "stream",
     "text": [
      "Training: 100%|██████████| 24/24 [00:23<00:00,  1.04it/s, loss=0.855]\n",
      "Validation: 100%|██████████| 4/4 [00:01<00:00,  2.29it/s, loss=0.761]\n"
     ]
    },
    {
     "name": "stdout",
     "output_type": "stream",
     "text": [
      "Validation Dice Score\n",
      "Class 0: 0.6005, Class 1: 0.0011, Class 2: 0.1659, Class 3: 0.4045, \n",
      "Class 4: 0.3811, Class 5: 0.2823, Class 6: 0.2705, \n",
      "Training Loss: 0.7885, Validation Loss: 0.7961\n",
      "Epoch 195/4000\n"
     ]
    },
    {
     "name": "stderr",
     "output_type": "stream",
     "text": [
      "Training: 100%|██████████| 24/24 [00:23<00:00,  1.04it/s, loss=0.746]\n",
      "Validation: 100%|██████████| 4/4 [00:01<00:00,  2.31it/s, loss=0.906]\n"
     ]
    },
    {
     "name": "stdout",
     "output_type": "stream",
     "text": [
      "Validation Dice Score\n",
      "Class 0: 0.6131, Class 1: 0.0018, Class 2: 0.0347, Class 3: 0.1442, \n",
      "Class 4: 0.2405, Class 5: 0.1662, Class 6: 0.5609, \n",
      "Training Loss: 0.7918, Validation Loss: 0.8686\n",
      "Epoch 196/4000\n"
     ]
    },
    {
     "name": "stderr",
     "output_type": "stream",
     "text": [
      "Training: 100%|██████████| 24/24 [00:23<00:00,  1.04it/s, loss=0.733]\n",
      "Validation: 100%|██████████| 4/4 [00:01<00:00,  2.28it/s, loss=0.865]\n"
     ]
    },
    {
     "name": "stdout",
     "output_type": "stream",
     "text": [
      "Validation Dice Score\n",
      "Class 0: 0.6001, Class 1: 0.0012, Class 2: 0.0645, Class 3: 0.3535, \n",
      "Class 4: 0.5334, Class 5: 0.3165, Class 6: 0.4750, \n",
      "Training Loss: 0.7819, Validation Loss: 0.7623\n",
      "Epoch 197/4000\n"
     ]
    },
    {
     "name": "stderr",
     "output_type": "stream",
     "text": [
      "Training: 100%|██████████| 24/24 [00:23<00:00,  1.03it/s, loss=0.769]\n",
      "Validation: 100%|██████████| 4/4 [00:01<00:00,  2.31it/s, loss=0.83] \n"
     ]
    },
    {
     "name": "stdout",
     "output_type": "stream",
     "text": [
      "Validation Dice Score\n",
      "Class 0: 0.6073, Class 1: 0.0015, Class 2: 0.0114, Class 3: 0.5775, \n",
      "Class 4: 0.4749, Class 5: 0.2967, Class 6: 0.2563, \n",
      "Training Loss: 0.8045, Validation Loss: 0.7753\n",
      "Epoch 198/4000\n"
     ]
    },
    {
     "name": "stderr",
     "output_type": "stream",
     "text": [
      "Training: 100%|██████████| 24/24 [00:23<00:00,  1.04it/s, loss=0.845]\n",
      "Validation: 100%|██████████| 4/4 [00:01<00:00,  2.25it/s, loss=0.659]\n"
     ]
    },
    {
     "name": "stdout",
     "output_type": "stream",
     "text": [
      "Validation Dice Score\n",
      "Class 0: 0.6138, Class 1: 0.0019, Class 2: 0.1649, Class 3: 0.4837, \n",
      "Class 4: 0.4110, Class 5: 0.2333, Class 6: 0.3965, \n",
      "Training Loss: 0.7946, Validation Loss: 0.7561\n",
      "Epoch 199/4000\n"
     ]
    },
    {
     "name": "stderr",
     "output_type": "stream",
     "text": [
      "Training: 100%|██████████| 24/24 [00:23<00:00,  1.04it/s, loss=0.707]\n",
      "Validation: 100%|██████████| 4/4 [00:01<00:00,  2.29it/s, loss=0.856]\n"
     ]
    },
    {
     "name": "stdout",
     "output_type": "stream",
     "text": [
      "Validation Dice Score\n",
      "Class 0: 0.6085, Class 1: 0.0026, Class 2: 0.0582, Class 3: 0.3717, \n",
      "Class 4: 0.4142, Class 5: 0.2510, Class 6: 0.5976, \n",
      "Training Loss: 0.7735, Validation Loss: 0.7568\n",
      "Epoch 200/4000\n"
     ]
    },
    {
     "name": "stderr",
     "output_type": "stream",
     "text": [
      "Training: 100%|██████████| 24/24 [00:23<00:00,  1.03it/s, loss=0.866]\n",
      "Validation: 100%|██████████| 4/4 [00:01<00:00,  2.31it/s, loss=0.735]\n"
     ]
    },
    {
     "name": "stdout",
     "output_type": "stream",
     "text": [
      "Validation Dice Score\n",
      "Class 0: 0.6094, Class 1: 0.0011, Class 2: 0.2502, Class 3: 0.6172, \n",
      "Class 4: 0.4441, Class 5: 0.3305, Class 6: 0.3867, \n",
      "Training Loss: 0.7810, Validation Loss: 0.7366\n",
      "Epoch 201/4000\n"
     ]
    },
    {
     "name": "stderr",
     "output_type": "stream",
     "text": [
      "Training: 100%|██████████| 24/24 [00:23<00:00,  1.03it/s, loss=0.847]\n",
      "Validation: 100%|██████████| 4/4 [00:01<00:00,  2.32it/s, loss=0.836]\n"
     ]
    },
    {
     "name": "stdout",
     "output_type": "stream",
     "text": [
      "Validation Dice Score\n",
      "Class 0: 0.6167, Class 1: 0.0014, Class 2: 0.0912, Class 3: 0.4280, \n",
      "Class 4: 0.4968, Class 5: 0.3115, Class 6: 0.5643, \n",
      "Training Loss: 0.8045, Validation Loss: 0.7459\n",
      "Epoch 202/4000\n"
     ]
    },
    {
     "name": "stderr",
     "output_type": "stream",
     "text": [
      "Training: 100%|██████████| 24/24 [00:23<00:00,  1.04it/s, loss=0.679]\n",
      "Validation: 100%|██████████| 4/4 [00:01<00:00,  2.31it/s, loss=0.756]\n"
     ]
    },
    {
     "name": "stdout",
     "output_type": "stream",
     "text": [
      "Validation Dice Score\n",
      "Class 0: 0.6251, Class 1: 0.0009, Class 2: 0.0654, Class 3: 0.4886, \n",
      "Class 4: 0.6986, Class 5: 0.3640, Class 6: 0.5426, \n",
      "Training Loss: 0.7925, Validation Loss: 0.7001\n",
      "Epoch 203/4000\n"
     ]
    },
    {
     "name": "stderr",
     "output_type": "stream",
     "text": [
      "Training: 100%|██████████| 24/24 [00:23<00:00,  1.03it/s, loss=0.883]\n",
      "Validation: 100%|██████████| 4/4 [00:01<00:00,  2.31it/s, loss=0.782]\n"
     ]
    },
    {
     "name": "stdout",
     "output_type": "stream",
     "text": [
      "Validation Dice Score\n",
      "Class 0: 0.6299, Class 1: 0.0021, Class 2: 0.2530, Class 3: 0.3029, \n",
      "Class 4: 0.0690, Class 5: 0.3742, Class 6: 0.4347, \n",
      "Training Loss: 0.7997, Validation Loss: 0.8075\n",
      "Epoch 204/4000\n"
     ]
    },
    {
     "name": "stderr",
     "output_type": "stream",
     "text": [
      "Training: 100%|██████████| 24/24 [00:23<00:00,  1.03it/s, loss=0.748]\n",
      "Validation: 100%|██████████| 4/4 [00:01<00:00,  2.30it/s, loss=0.667]\n"
     ]
    },
    {
     "name": "stdout",
     "output_type": "stream",
     "text": [
      "Validation Dice Score\n",
      "Class 0: 0.6237, Class 1: 0.0008, Class 2: 0.1028, Class 3: 0.5424, \n",
      "Class 4: 0.4826, Class 5: 0.3539, Class 6: 0.4230, \n",
      "Training Loss: 0.7916, Validation Loss: 0.7410\n",
      "Epoch 205/4000\n"
     ]
    },
    {
     "name": "stderr",
     "output_type": "stream",
     "text": [
      "Training: 100%|██████████| 24/24 [00:23<00:00,  1.04it/s, loss=0.769]\n",
      "Validation: 100%|██████████| 4/4 [00:01<00:00,  2.26it/s, loss=0.828]\n"
     ]
    },
    {
     "name": "stdout",
     "output_type": "stream",
     "text": [
      "Validation Dice Score\n",
      "Class 0: 0.6340, Class 1: 0.0008, Class 2: 0.0323, Class 3: 0.3999, \n",
      "Class 4: 0.3084, Class 5: 0.2801, Class 6: 0.1551, \n",
      "Training Loss: 0.8019, Validation Loss: 0.8493\n",
      "Epoch 206/4000\n"
     ]
    },
    {
     "name": "stderr",
     "output_type": "stream",
     "text": [
      "Training: 100%|██████████| 24/24 [00:23<00:00,  1.04it/s, loss=0.647]\n",
      "Validation: 100%|██████████| 4/4 [00:01<00:00,  2.25it/s, loss=0.825]\n"
     ]
    },
    {
     "name": "stdout",
     "output_type": "stream",
     "text": [
      "Validation Dice Score\n",
      "Class 0: 0.6249, Class 1: 0.0009, Class 2: 0.1085, Class 3: 0.5465, \n",
      "Class 4: 0.3772, Class 5: 0.3785, Class 6: 0.6097, \n",
      "Training Loss: 0.7914, Validation Loss: 0.7584\n",
      "Epoch 207/4000\n"
     ]
    },
    {
     "name": "stderr",
     "output_type": "stream",
     "text": [
      "Training: 100%|██████████| 24/24 [00:23<00:00,  1.04it/s, loss=0.886]\n",
      "Validation: 100%|██████████| 4/4 [00:01<00:00,  2.34it/s, loss=0.822]\n"
     ]
    },
    {
     "name": "stdout",
     "output_type": "stream",
     "text": [
      "Validation Dice Score\n",
      "Class 0: 0.6259, Class 1: 0.0015, Class 2: 0.0406, Class 3: 0.5012, \n",
      "Class 4: 0.3342, Class 5: 0.3197, Class 6: 0.2299, \n",
      "Training Loss: 0.7747, Validation Loss: 0.8058\n",
      "Epoch 208/4000\n"
     ]
    },
    {
     "name": "stderr",
     "output_type": "stream",
     "text": [
      "Training: 100%|██████████| 24/24 [00:23<00:00,  1.03it/s, loss=0.87] \n",
      "Validation: 100%|██████████| 4/4 [00:01<00:00,  2.34it/s, loss=0.824]\n"
     ]
    },
    {
     "name": "stdout",
     "output_type": "stream",
     "text": [
      "Validation Dice Score\n",
      "Class 0: 0.6308, Class 1: 0.0006, Class 2: 0.0536, Class 3: 0.1856, \n",
      "Class 4: 0.6329, Class 5: 0.2308, Class 6: 0.0000, \n",
      "Training Loss: 0.8011, Validation Loss: 0.8518\n",
      "Epoch 209/4000\n"
     ]
    },
    {
     "name": "stderr",
     "output_type": "stream",
     "text": [
      "Training: 100%|██████████| 24/24 [00:23<00:00,  1.03it/s, loss=0.88] \n",
      "Validation: 100%|██████████| 4/4 [00:01<00:00,  2.21it/s, loss=0.794]\n"
     ]
    },
    {
     "name": "stdout",
     "output_type": "stream",
     "text": [
      "Validation Dice Score\n",
      "Class 0: 0.6170, Class 1: 0.0027, Class 2: 0.0269, Class 3: 0.2816, \n",
      "Class 4: 0.3884, Class 5: 0.3621, Class 6: 0.7673, \n",
      "Training Loss: 0.7862, Validation Loss: 0.7791\n",
      "Epoch 210/4000\n"
     ]
    },
    {
     "name": "stderr",
     "output_type": "stream",
     "text": [
      "Training: 100%|██████████| 24/24 [00:23<00:00,  1.04it/s, loss=0.754]\n",
      "Validation: 100%|██████████| 4/4 [00:01<00:00,  2.28it/s, loss=0.773]\n"
     ]
    },
    {
     "name": "stdout",
     "output_type": "stream",
     "text": [
      "Validation Dice Score\n",
      "Class 0: 0.6213, Class 1: 0.0018, Class 2: 0.2253, Class 3: 0.3056, \n",
      "Class 4: 0.0618, Class 5: 0.2337, Class 6: 0.3685, \n",
      "Training Loss: 0.7799, Validation Loss: 0.8226\n",
      "Epoch 211/4000\n"
     ]
    },
    {
     "name": "stderr",
     "output_type": "stream",
     "text": [
      "Training: 100%|██████████| 24/24 [00:23<00:00,  1.04it/s, loss=0.895]\n",
      "Validation: 100%|██████████| 4/4 [00:01<00:00,  2.29it/s, loss=0.699]\n"
     ]
    },
    {
     "name": "stdout",
     "output_type": "stream",
     "text": [
      "Validation Dice Score\n",
      "Class 0: 0.6229, Class 1: 0.0017, Class 2: 0.1978, Class 3: 0.5309, \n",
      "Class 4: 0.3366, Class 5: 0.2801, Class 6: 0.3516, \n",
      "Training Loss: 0.7909, Validation Loss: 0.7527\n",
      "Epoch 212/4000\n"
     ]
    },
    {
     "name": "stderr",
     "output_type": "stream",
     "text": [
      "Training: 100%|██████████| 24/24 [00:23<00:00,  1.03it/s, loss=0.799]\n",
      "Validation: 100%|██████████| 4/4 [00:01<00:00,  2.33it/s, loss=0.733]\n"
     ]
    },
    {
     "name": "stdout",
     "output_type": "stream",
     "text": [
      "Validation Dice Score\n",
      "Class 0: 0.6177, Class 1: 0.0025, Class 2: 0.1121, Class 3: 0.4091, \n",
      "Class 4: 0.4926, Class 5: 0.4230, Class 6: 0.5709, \n",
      "Training Loss: 0.7784, Validation Loss: 0.7256\n",
      "Epoch 213/4000\n"
     ]
    },
    {
     "name": "stderr",
     "output_type": "stream",
     "text": [
      "Training: 100%|██████████| 24/24 [00:23<00:00,  1.04it/s, loss=0.746]\n",
      "Validation: 100%|██████████| 4/4 [00:01<00:00,  2.25it/s, loss=0.687]\n"
     ]
    },
    {
     "name": "stdout",
     "output_type": "stream",
     "text": [
      "Validation Dice Score\n",
      "Class 0: 0.6157, Class 1: 0.0008, Class 2: 0.1973, Class 3: 0.6496, \n",
      "Class 4: 0.5415, Class 5: 0.2362, Class 6: 0.3031, \n",
      "Training Loss: 0.7793, Validation Loss: 0.7114\n",
      "Epoch 214/4000\n"
     ]
    },
    {
     "name": "stderr",
     "output_type": "stream",
     "text": [
      "Training: 100%|██████████| 24/24 [00:23<00:00,  1.04it/s, loss=0.78] \n",
      "Validation: 100%|██████████| 4/4 [00:01<00:00,  2.33it/s, loss=0.839]\n"
     ]
    },
    {
     "name": "stdout",
     "output_type": "stream",
     "text": [
      "Validation Dice Score\n",
      "Class 0: 0.6170, Class 1: 0.0021, Class 2: 0.1275, Class 3: 0.3905, \n",
      "Class 4: 0.4149, Class 5: 0.2162, Class 6: 0.3211, \n",
      "Training Loss: 0.7791, Validation Loss: 0.8180\n",
      "Epoch 215/4000\n"
     ]
    },
    {
     "name": "stderr",
     "output_type": "stream",
     "text": [
      "Training: 100%|██████████| 24/24 [00:23<00:00,  1.04it/s, loss=0.63] \n",
      "Validation: 100%|██████████| 4/4 [00:01<00:00,  2.30it/s, loss=0.784]\n"
     ]
    },
    {
     "name": "stdout",
     "output_type": "stream",
     "text": [
      "Validation Dice Score\n",
      "Class 0: 0.6124, Class 1: 0.0010, Class 2: 0.0969, Class 3: 0.4213, \n",
      "Class 4: 0.5745, Class 5: 0.2975, Class 6: 0.4883, \n",
      "Training Loss: 0.7847, Validation Loss: 0.7446\n",
      "Epoch 216/4000\n"
     ]
    },
    {
     "name": "stderr",
     "output_type": "stream",
     "text": [
      "Training: 100%|██████████| 24/24 [00:23<00:00,  1.03it/s, loss=0.689]\n",
      "Validation: 100%|██████████| 4/4 [00:01<00:00,  2.31it/s, loss=0.839]\n"
     ]
    },
    {
     "name": "stdout",
     "output_type": "stream",
     "text": [
      "Validation Dice Score\n",
      "Class 0: 0.6197, Class 1: 0.0025, Class 2: 0.0000, Class 3: 0.4304, \n",
      "Class 4: 0.5757, Class 5: 0.3822, Class 6: 0.7346, \n",
      "Training Loss: 0.7538, Validation Loss: 0.7347\n",
      "Epoch 217/4000\n"
     ]
    },
    {
     "name": "stderr",
     "output_type": "stream",
     "text": [
      "Training: 100%|██████████| 24/24 [00:23<00:00,  1.04it/s, loss=0.711]\n",
      "Validation: 100%|██████████| 4/4 [00:01<00:00,  2.31it/s, loss=0.615]\n"
     ]
    },
    {
     "name": "stdout",
     "output_type": "stream",
     "text": [
      "Validation Dice Score\n",
      "Class 0: 0.6212, Class 1: 0.0009, Class 2: 0.1278, Class 3: 0.5390, \n",
      "Class 4: 0.4454, Class 5: 0.3429, Class 6: 0.3577, \n",
      "Training Loss: 0.7943, Validation Loss: 0.7472\n",
      "Epoch 218/4000\n"
     ]
    },
    {
     "name": "stderr",
     "output_type": "stream",
     "text": [
      "Training: 100%|██████████| 24/24 [00:23<00:00,  1.03it/s, loss=0.897]\n",
      "Validation: 100%|██████████| 4/4 [00:01<00:00,  2.28it/s, loss=0.685]\n"
     ]
    },
    {
     "name": "stdout",
     "output_type": "stream",
     "text": [
      "Validation Dice Score\n",
      "Class 0: 0.6375, Class 1: 0.0017, Class 2: 0.0589, Class 3: 0.2213, \n",
      "Class 4: 0.5139, Class 5: 0.2730, Class 6: 0.5670, \n",
      "Training Loss: 0.7791, Validation Loss: 0.7801\n",
      "Epoch 219/4000\n"
     ]
    },
    {
     "name": "stderr",
     "output_type": "stream",
     "text": [
      "Training: 100%|██████████| 24/24 [00:23<00:00,  1.03it/s, loss=0.706]\n",
      "Validation: 100%|██████████| 4/4 [00:01<00:00,  2.34it/s, loss=0.803]\n"
     ]
    },
    {
     "name": "stdout",
     "output_type": "stream",
     "text": [
      "Validation Dice Score\n",
      "Class 0: 0.6401, Class 1: 0.0030, Class 2: 0.0539, Class 3: 0.3024, \n",
      "Class 4: 0.3299, Class 5: 0.3423, Class 6: 0.6220, \n",
      "Training Loss: 0.7833, Validation Loss: 0.7789\n",
      "Epoch 220/4000\n"
     ]
    },
    {
     "name": "stderr",
     "output_type": "stream",
     "text": [
      "Training: 100%|██████████| 24/24 [00:23<00:00,  1.04it/s, loss=0.757]\n",
      "Validation: 100%|██████████| 4/4 [00:01<00:00,  2.30it/s, loss=0.834]\n"
     ]
    },
    {
     "name": "stdout",
     "output_type": "stream",
     "text": [
      "Validation Dice Score\n",
      "Class 0: 0.6324, Class 1: 0.0027, Class 2: 0.0000, Class 3: 0.2592, \n",
      "Class 4: 0.2942, Class 5: 0.3538, Class 6: 0.4757, \n",
      "Training Loss: 0.7804, Validation Loss: 0.7936\n",
      "Epoch 221/4000\n"
     ]
    },
    {
     "name": "stderr",
     "output_type": "stream",
     "text": [
      "Training: 100%|██████████| 24/24 [00:23<00:00,  1.04it/s, loss=0.672]\n",
      "Validation: 100%|██████████| 4/4 [00:01<00:00,  2.31it/s, loss=0.686]"
     ]
    },
    {
     "name": "stdout",
     "output_type": "stream",
     "text": [
      "Validation Dice Score\n",
      "Class 0: 0.6311, Class 1: 0.0011, Class 2: 0.3569, Class 3: 0.6572, \n",
      "Class 4: 0.5841, Class 5: 0.3023, Class 6: 0.4196, \n",
      "Training Loss: 0.7968, Validation Loss: 0.6978\n",
      "Early stopping\n"
     ]
    },
    {
     "name": "stderr",
     "output_type": "stream",
     "text": [
      "\n"
     ]
    }
   ],
   "source": [
    "from monai.metrics import DiceMetric\n",
    "\n",
    "def create_metric_dict(num_classes):\n",
    "    \"\"\"각 클래스별 DiceMetric 생성\"\"\"\n",
    "    metrics = {}\n",
    "    for i in range(num_classes):\n",
    "        metrics[f'dice_class_{i}'] = DiceMetric(\n",
    "            include_background=False if i == 0 else False,\n",
    "            reduction=\"mean\",\n",
    "            get_not_nans=False\n",
    "        )\n",
    "    return metrics\n",
    "    \n",
    "def processing(batch_data, model, criterion, device):\n",
    "    images = batch_data['image'].to(device)  # Input 이미지 (B, 1, 96, 96, 96)\n",
    "    labels = batch_data['label'].to(device)  # 라벨 (B, 96, 96, 96)\n",
    "\n",
    "    labels = labels.squeeze(1)  # (B, 1, 96, 96, 96) → (B, 96, 96, 96)\n",
    "    labels = labels.long()  # 라벨을 정수형으로 변환\n",
    "\n",
    "    # 원핫 인코딩 (B, H, W, D) → (B, num_classes, H, W, D)\n",
    "    \n",
    "    labels_onehot = torch.nn.functional.one_hot(labels, num_classes=n_classes)\n",
    "    labels_onehot = labels_onehot.permute(0, 4, 1, 2, 3).float()  # (B, num_classes, H, W, D)\n",
    "\n",
    "    # 모델 예측\n",
    "    outputs = model(images)  # outputs: (B, num_classes, H, W, D)\n",
    "\n",
    "    # Loss 계산\n",
    "    loss = criterion(outputs, labels_onehot)\n",
    "\n",
    "    return loss, outputs, labels, outputs.argmax(dim=1)\n",
    "\n",
    "def train_one_epoch(model, train_loader, criterion, optimizer, device):\n",
    "    model.train()\n",
    "    epoch_loss = 0\n",
    "    with tqdm(train_loader, desc='Training') as pbar:\n",
    "        for batch_data in pbar:\n",
    "            optimizer.zero_grad()\n",
    "            loss, _, _, _ = processing(batch_data, model, criterion, device)\n",
    "            loss.backward()\n",
    "            optimizer.step()\n",
    "\n",
    "            epoch_loss += loss.item()\n",
    "            pbar.set_postfix(loss=loss.item())\n",
    "\n",
    "    return epoch_loss / len(train_loader)\n",
    "\n",
    "def validate_one_epoch(model, val_loader, criterion, device, epoch, calculate_dice_interval):\n",
    "    model.eval()\n",
    "    val_loss = 0\n",
    "    metrics = create_metric_dict(n_classes)\n",
    "    class_dice_scores = {i: [] for i in range(n_classes)}\n",
    "    with torch.no_grad():\n",
    "        with tqdm(val_loader, desc='Validation') as pbar:\n",
    "            for batch_data in pbar:\n",
    "                loss, _, labels, preds = processing(batch_data, model, criterion, device)\n",
    "                val_loss += loss.item()\n",
    "                pbar.set_postfix(loss=loss.item())\n",
    "\n",
    "                # 각 클래스별 Dice 점수 계산\n",
    "                if epoch % calculate_dice_interval == 0:\n",
    "                    for i in range(n_classes):\n",
    "                        pred_i = (preds == i)\n",
    "                        label_i = (labels == i)\n",
    "                        dice_score = (2.0 * torch.sum(pred_i & label_i)) / (torch.sum(pred_i) + torch.sum(label_i) + 1e-8)\n",
    "                        class_dice_scores[i].append(dice_score.item())\n",
    "\n",
    "    # 각 클래스별 평균 Dice 점수 출력\n",
    "    if epoch % calculate_dice_interval == 0:\n",
    "        print(\"Validation Dice Score\")\n",
    "        for i in range(n_classes):\n",
    "            mean_dice = np.mean(class_dice_scores[i])\n",
    "            print(f\"Class {i}: {mean_dice:.4f}\", end=\", \")\n",
    "            if i == 3:\n",
    "                print()\n",
    "        print()\n",
    "\n",
    "    return val_loss / len(val_loader)\n",
    "\n",
    "def train_model(\n",
    "    model, train_loader, val_loader, criterion, optimizer, num_epochs, patience, \n",
    "    device, start_epoch, best_val_loss, calculate_dice_interval=1\n",
    "):\n",
    "    \"\"\"\n",
    "    모델을 학습하고 검증하는 함수\n",
    "    Args:\n",
    "        model: 학습할 모델\n",
    "        train_loader: 학습 데이터 로더\n",
    "        val_loader: 검증 데이터 로더\n",
    "        criterion: 손실 함수\n",
    "        optimizer: 최적화 알고리즘\n",
    "        num_epochs: 총 학습 epoch 수\n",
    "        patience: early stopping 기준\n",
    "        device: GPU/CPU 장치\n",
    "        start_epoch: 시작 epoch\n",
    "        best_val_loss: 이전 최적 validation loss\n",
    "        calculate_dice_interval: Dice 점수 계산 주기\n",
    "    \"\"\"\n",
    "\n",
    "    epochs_no_improve = 0\n",
    "\n",
    "    for epoch in range(start_epoch, num_epochs):\n",
    "        print(f\"Epoch {epoch + 1}/{num_epochs}\")\n",
    "\n",
    "        # Train One Epoch\n",
    "        train_loss = train_one_epoch(\n",
    "            model=model, \n",
    "            train_loader=train_loader, \n",
    "            criterion=criterion, \n",
    "            optimizer=optimizer, \n",
    "            device=device\n",
    "        )\n",
    "\n",
    "        # Validate One Epoch\n",
    "        val_loss = validate_one_epoch(\n",
    "            model=model, \n",
    "            val_loader=val_loader, \n",
    "            criterion=criterion, \n",
    "            device=device, \n",
    "            epoch=epoch, \n",
    "            calculate_dice_interval=calculate_dice_interval\n",
    "        )\n",
    "\n",
    "        print(f\"Training Loss: {train_loss:.4f}, Validation Loss: {val_loss:.4f}\")\n",
    "\n",
    "        # Early stopping 및 모델 저장 로직\n",
    "        if val_loss < best_val_loss:\n",
    "            best_val_loss = val_loss\n",
    "            epochs_no_improve = 0\n",
    "            checkpoint_path = os.path.join(checkpoint_dir, 'best_model.pt')\n",
    "            torch.save({\n",
    "                'epoch': epoch + 1,\n",
    "                'model_state_dict': model.state_dict(),\n",
    "                'optimizer_state_dict': optimizer.state_dict(),\n",
    "                'best_val_loss': best_val_loss,\n",
    "            }, checkpoint_path)\n",
    "            print(f\"========================================================\")\n",
    "            print(f\"Best model saved with validation loss: {best_val_loss:.4f}\")\n",
    "            print(f\"========================================================\")\n",
    "        else:\n",
    "            epochs_no_improve += 1\n",
    "\n",
    "        if epochs_no_improve >= patience:\n",
    "            print(\"Early stopping\")\n",
    "            break\n",
    "\n",
    "train_model(\n",
    "    model=model,\n",
    "    train_loader=train_loader,\n",
    "    val_loader=val_loader,\n",
    "    criterion=criterion,\n",
    "    optimizer=optimizer,\n",
    "    num_epochs=num_epochs,\n",
    "    patience=50,\n",
    "    device=device,\n",
    "    start_epoch=start_epoch,\n",
    "    best_val_loss=best_val_loss,\n",
    "    calculate_dice_interval=1\n",
    ")"
   ]
  },
  {
   "cell_type": "code",
   "execution_count": 10,
   "metadata": {},
   "outputs": [
    {
     "ename": "SyntaxError",
     "evalue": "invalid syntax (879943805.py, line 1)",
     "output_type": "error",
     "traceback": [
      "\u001b[1;36m  Cell \u001b[1;32mIn[10], line 1\u001b[1;36m\u001b[0m\n\u001b[1;33m    if:\u001b[0m\n\u001b[1;37m      ^\u001b[0m\n\u001b[1;31mSyntaxError\u001b[0m\u001b[1;31m:\u001b[0m invalid syntax\n"
     ]
    }
   ],
   "source": [
    "if:"
   ]
  },
  {
   "cell_type": "markdown",
   "metadata": {},
   "source": [
    "# Inference"
   ]
  },
  {
   "cell_type": "code",
   "execution_count": null,
   "metadata": {},
   "outputs": [],
   "source": [
    "from src.dataset.preprocessing import Preprocessor"
   ]
  },
  {
   "cell_type": "code",
   "execution_count": null,
   "metadata": {},
   "outputs": [
    {
     "name": "stdout",
     "output_type": "stream",
     "text": [
      "Done.\n"
     ]
    }
   ],
   "source": [
    "from monai.inferers import sliding_window_inference\n",
    "from monai.transforms import Compose, EnsureChannelFirstd, NormalizeIntensityd, Orientationd, GaussianSmoothd\n",
    "from monai.data import DataLoader, Dataset, CacheDataset\n",
    "from monai.networks.nets import SwinUNETR\n",
    "from pathlib import Path\n",
    "import numpy as np\n",
    "import copick\n",
    "\n",
    "import torch\n",
    "print(\"Done.\")"
   ]
  },
  {
   "cell_type": "code",
   "execution_count": null,
   "metadata": {},
   "outputs": [
    {
     "name": "stdout",
     "output_type": "stream",
     "text": [
      "Config file written to ./kaggle/working/copick.config\n",
      "file length: 7\n"
     ]
    }
   ],
   "source": [
    "config_blob = \"\"\"{\n",
    "    \"name\": \"czii_cryoet_mlchallenge_2024\",\n",
    "    \"description\": \"2024 CZII CryoET ML Challenge training data.\",\n",
    "    \"version\": \"1.0.0\",\n",
    "\n",
    "    \"pickable_objects\": [\n",
    "        {\n",
    "            \"name\": \"apo-ferritin\",\n",
    "            \"is_particle\": true,\n",
    "            \"pdb_id\": \"4V1W\",\n",
    "            \"label\": 1,\n",
    "            \"color\": [  0, 117, 220, 128],\n",
    "            \"radius\": 60,\n",
    "            \"map_threshold\": 0.0418\n",
    "        },\n",
    "        {\n",
    "          \"name\" : \"beta-amylase\",\n",
    "            \"is_particle\": true,\n",
    "            \"pdb_id\": \"8ZRZ\",\n",
    "            \"label\": 2,\n",
    "            \"color\": [255, 255, 255, 128],\n",
    "            \"radius\": 90,\n",
    "            \"map_threshold\": 0.0578  \n",
    "        },\n",
    "        {\n",
    "            \"name\": \"beta-galactosidase\",\n",
    "            \"is_particle\": true,\n",
    "            \"pdb_id\": \"6X1Q\",\n",
    "            \"label\": 3,\n",
    "            \"color\": [ 76,   0,  92, 128],\n",
    "            \"radius\": 90,\n",
    "            \"map_threshold\": 0.0578\n",
    "        },\n",
    "        {\n",
    "            \"name\": \"ribosome\",\n",
    "            \"is_particle\": true,\n",
    "            \"pdb_id\": \"6EK0\",\n",
    "            \"label\": 4,\n",
    "            \"color\": [  0,  92,  49, 128],\n",
    "            \"radius\": 150,\n",
    "            \"map_threshold\": 0.0374\n",
    "        },\n",
    "        {\n",
    "            \"name\": \"thyroglobulin\",\n",
    "            \"is_particle\": true,\n",
    "            \"pdb_id\": \"6SCJ\",\n",
    "            \"label\": 5,\n",
    "            \"color\": [ 43, 206,  72, 128],\n",
    "            \"radius\": 130,\n",
    "            \"map_threshold\": 0.0278\n",
    "        },\n",
    "        {\n",
    "            \"name\": \"virus-like-particle\",\n",
    "            \"is_particle\": true,\n",
    "            \"label\": 6,\n",
    "            \"color\": [255, 204, 153, 128],\n",
    "            \"radius\": 135,\n",
    "            \"map_threshold\": 0.201\n",
    "        },\n",
    "        {\n",
    "            \"name\": \"membrane\",\n",
    "            \"is_particle\": false,\n",
    "            \"label\": 8,\n",
    "            \"color\": [100, 100, 100, 128]\n",
    "        },\n",
    "        {\n",
    "            \"name\": \"background\",\n",
    "            \"is_particle\": false,\n",
    "            \"label\": 9,\n",
    "            \"color\": [10, 150, 200, 128]\n",
    "        }\n",
    "    ],\n",
    "\n",
    "    \"overlay_root\": \"./kaggle/working/overlay\",\n",
    "\n",
    "    \"overlay_fs_args\": {\n",
    "        \"auto_mkdir\": true\n",
    "    },\n",
    "\n",
    "    \"static_root\": \"./kaggle/input/czii-cryo-et-object-identification/test/static\"\n",
    "}\"\"\"\n",
    "\n",
    "copick_config_path = \"./kaggle/working/copick.config\"\n",
    "preprocessor = Preprocessor(config_blob,copick_config_path=copick_config_path)\n",
    "non_random_transforms = Compose([\n",
    "    EnsureChannelFirstd(keys=[\"image\"], channel_dim=\"no_channel\"),\n",
    "    NormalizeIntensityd(keys=\"image\"),\n",
    "    Orientationd(keys=[\"image\"], axcodes=\"RAS\"),\n",
    "    GaussianSmoothd(\n",
    "        keys=[\"image\"],      # 변환을 적용할 키\n",
    "        sigma=[1.0, 1.0, 1.0]  # 각 축(x, y, z)의 시그마 값\n",
    "        ),\n",
    "    ])"
   ]
  },
  {
   "cell_type": "code",
   "execution_count": null,
   "metadata": {},
   "outputs": [
    {
     "name": "stderr",
     "output_type": "stream",
     "text": [
      "c:\\ProgramData\\anaconda3\\envs\\ship\\Lib\\site-packages\\monai\\utils\\deprecate_utils.py:221: FutureWarning: monai.networks.nets.swin_unetr SwinUNETR.__init__:img_size: Argument `img_size` has been deprecated since version 1.3. It will be removed in version 1.5. The img_size argument is not required anymore and checks on the input size are run during forward().\n",
      "  warn_deprecated(argname, msg, warning_category)\n",
      "C:\\Users\\Seungwoo\\AppData\\Local\\Temp\\ipykernel_38640\\2937359115.py:15: FutureWarning: You are using `torch.load` with `weights_only=False` (the current default value), which uses the default pickle module implicitly. It is possible to construct malicious pickle data which will execute arbitrary code during unpickling (See https://github.com/pytorch/pytorch/blob/main/SECURITY.md#untrusted-models for more details). In a future release, the default value for `weights_only` will be flipped to `True`. This limits the functions that could be executed during unpickling. Arbitrary objects will no longer be allowed to be loaded via this mode unless they are explicitly allowlisted by the user via `torch.serialization.add_safe_globals`. We recommend you start setting `weights_only=True` for any use case where you don't have full control of the loaded file. Please open an issue on GitHub for any issues related to this experimental feature.\n",
      "  checkpoint = torch.load(pretrain_path, map_location=device)\n"
     ]
    },
    {
     "data": {
      "text/plain": [
       "<All keys matched successfully>"
      ]
     },
     "execution_count": 4,
     "metadata": {},
     "output_type": "execute_result"
    }
   ],
   "source": [
    "img_size = 96\n",
    "img_depth = img_size\n",
    "n_classes = 7 \n",
    "\n",
    "device = torch.device(\"cuda\" if torch.cuda.is_available() else \"cpu\")\n",
    "pretrain_path = \"./model_checkpoints/SwinUNETR96_96_lr0.001_lambda0.52_batch2/best_model.pt\"\n",
    "model = SwinUNETR(\n",
    "    img_size=(img_depth, img_size, img_size),\n",
    "    in_channels=1,\n",
    "    out_channels=n_classes,\n",
    "    feature_size=48,\n",
    "    use_checkpoint=True,\n",
    ").to(device)\n",
    "# Pretrained weights 불러오기\n",
    "checkpoint = torch.load(pretrain_path, map_location=device)\n",
    "model.load_state_dict(checkpoint['model_state_dict'])\n"
   ]
  },
  {
   "cell_type": "code",
   "execution_count": null,
   "metadata": {},
   "outputs": [
    {
     "name": "stdout",
     "output_type": "stream",
     "text": [
      "Processing volume 1/7\n"
     ]
    },
    {
     "name": "stderr",
     "output_type": "stream",
     "text": [
      "Loading dataset: 100%|██████████| 1/1 [00:01<00:00,  1.94s/it]\n"
     ]
    },
    {
     "name": "stdout",
     "output_type": "stream",
     "text": [
      "Processing volume 2/7\n"
     ]
    },
    {
     "name": "stderr",
     "output_type": "stream",
     "text": [
      "Loading dataset: 100%|██████████| 1/1 [00:01<00:00,  1.89s/it]\n"
     ]
    },
    {
     "name": "stdout",
     "output_type": "stream",
     "text": [
      "Processing volume 3/7\n"
     ]
    },
    {
     "name": "stderr",
     "output_type": "stream",
     "text": [
      "Loading dataset: 100%|██████████| 1/1 [00:01<00:00,  1.79s/it]\n"
     ]
    },
    {
     "name": "stdout",
     "output_type": "stream",
     "text": [
      "Submission saved to: submission.csv\n"
     ]
    }
   ],
   "source": [
    "import torch\n",
    "import numpy as np\n",
    "from scipy.ndimage import label, center_of_mass\n",
    "import pandas as pd\n",
    "from tqdm import tqdm\n",
    "from monai.data import CacheDataset, DataLoader\n",
    "from monai.transforms import Compose, NormalizeIntensity\n",
    "import cc3d\n",
    "\n",
    "def dict_to_df(coord_dict, experiment_name):\n",
    "    all_coords = []\n",
    "    all_labels = []\n",
    "    \n",
    "    for label, coords in coord_dict.items():\n",
    "        all_coords.append(coords)\n",
    "        all_labels.extend([label] * len(coords))\n",
    "    \n",
    "    all_coords = np.vstack(all_coords)\n",
    "    df = pd.DataFrame({\n",
    "        'experiment': experiment_name,\n",
    "        'particle_type': all_labels,\n",
    "        'x': all_coords[:, 0],\n",
    "        'y': all_coords[:, 1],\n",
    "        'z': all_coords[:, 2]\n",
    "    })\n",
    "    return df\n",
    "\n",
    "id_to_name = {1: \"apo-ferritin\", \n",
    "              2: \"beta-amylase\",\n",
    "              3: \"beta-galactosidase\", \n",
    "              4: \"ribosome\", \n",
    "              5: \"thyroglobulin\", \n",
    "              6: \"virus-like-particle\"}\n",
    "BLOB_THRESHOLD = 200\n",
    "CERTAINTY_THRESHOLD = 0.05\n",
    "\n",
    "classes = [1, 2, 3, 4, 5, 6]\n",
    "\n",
    "model.eval()\n",
    "with torch.no_grad():\n",
    "    location_dfs = []  # DataFrame 리스트로 초기화\n",
    "    \n",
    "    for vol_idx, run in enumerate(preprocessor.root.runs):\n",
    "        print(f\"Processing volume {vol_idx + 1}/{len(preprocessor.root.runs)}\")\n",
    "        tomogram = preprocessor.processing(run=run, task=\"task\")\n",
    "        task_files = [{\"image\": tomogram}]\n",
    "        task_ds = CacheDataset(data=task_files, transform=non_random_transforms)\n",
    "        task_loader = DataLoader(task_ds, batch_size=1, num_workers=0)\n",
    "        \n",
    "        for task_data in task_loader:\n",
    "            images = task_data['image'].to(\"cuda\")\n",
    "            outputs = sliding_window_inference(\n",
    "                inputs=images,\n",
    "                roi_size=(96, 96, 96),  # ROI 크기\n",
    "                sw_batch_size=4,\n",
    "                predictor=model.forward,\n",
    "                overlap=0.1,\n",
    "                sw_device=\"cuda\",\n",
    "                device=\"cpu\",\n",
    "                buffer_steps=1,\n",
    "                buffer_dim=-1\n",
    "            )\n",
    "            outputs = outputs.argmax(dim=1).squeeze(0).cpu().numpy()  # 클래스 채널 예측\n",
    "            location = {}  # 좌표 저장용 딕셔너리\n",
    "            for c in classes:\n",
    "                cc = cc3d.connected_components(outputs == c)  # cc3d 라벨링\n",
    "                stats = cc3d.statistics(cc)\n",
    "                zyx = stats['centroids'][1:] * 10.012444  # 스케일 변환\n",
    "                zyx_large = zyx[stats['voxel_counts'][1:] > BLOB_THRESHOLD]  # 크기 필터링\n",
    "                xyz = np.ascontiguousarray(zyx_large[:, ::-1])  # 좌표 스왑 (z, y, x -> x, y, z)\n",
    "\n",
    "                location[id_to_name[c]] = xyz  # ID 이름 매칭 저장\n",
    "\n",
    "            # 데이터프레임 변환\n",
    "            df = dict_to_df(location, run.name)\n",
    "            location_dfs.append(df)  # 리스트에 추가\n",
    "        \n",
    "        # if vol_idx == 2:\n",
    "        #     break\n",
    "    \n",
    "    # DataFrame 병합\n",
    "    final_df = pd.concat(location_dfs, ignore_index=True)\n",
    "    \n",
    "    # ID 추가 및 CSV 저장\n",
    "    final_df.insert(loc=0, column='id', value=np.arange(len(final_df)))\n",
    "    final_df.to_csv(\"submission.csv\", index=False)\n",
    "    print(\"Submission saved to: submission.csv\")\n"
   ]
  }
 ],
 "metadata": {
  "kernelspec": {
   "display_name": "ship",
   "language": "python",
   "name": "python3"
  },
  "language_info": {
   "codemirror_mode": {
    "name": "ipython",
    "version": 3
   },
   "file_extension": ".py",
   "mimetype": "text/x-python",
   "name": "python",
   "nbconvert_exporter": "python",
   "pygments_lexer": "ipython3",
   "version": "3.12.7"
  }
 },
 "nbformat": 4,
 "nbformat_minor": 2
}
