{
 "cells": [
  {
   "cell_type": "code",
   "execution_count": 1,
   "metadata": {},
   "outputs": [
    {
     "name": "stdout",
     "output_type": "stream",
     "text": [
      "MONAI version: 1.4.0\n",
      "Numpy version: 1.26.3\n",
      "Pytorch version: 2.4.1+cu121\n",
      "MONAI flags: HAS_EXT = False, USE_COMPILED = False, USE_META_DICT = False\n",
      "MONAI rev id: 46a5272196a6c2590ca2589029eed8e4d56ff008\n",
      "MONAI __file__: c:\\ProgramData\\anaconda3\\envs\\ship\\Lib\\site-packages\\monai\\__init__.py\n",
      "\n",
      "Optional dependencies:\n",
      "Pytorch Ignite version: NOT INSTALLED or UNKNOWN VERSION.\n",
      "ITK version: NOT INSTALLED or UNKNOWN VERSION.\n",
      "Nibabel version: 5.3.2\n",
      "scikit-image version: 0.24.0\n",
      "scipy version: 1.14.1\n",
      "Pillow version: 10.2.0\n",
      "Tensorboard version: NOT INSTALLED or UNKNOWN VERSION.\n",
      "gdown version: 5.2.0\n",
      "TorchVision version: 0.19.1+cu121\n",
      "tqdm version: 4.66.5\n",
      "lmdb version: NOT INSTALLED or UNKNOWN VERSION.\n",
      "psutil version: 6.0.0\n",
      "pandas version: 2.2.3\n",
      "einops version: 0.8.0\n",
      "transformers version: NOT INSTALLED or UNKNOWN VERSION.\n",
      "mlflow version: NOT INSTALLED or UNKNOWN VERSION.\n",
      "pynrrd version: NOT INSTALLED or UNKNOWN VERSION.\n",
      "clearml version: NOT INSTALLED or UNKNOWN VERSION.\n",
      "\n",
      "For details about installing the optional dependencies, please visit:\n",
      "    https://docs.monai.io/en/latest/installation.html#installing-the-recommended-dependencies\n",
      "\n"
     ]
    }
   ],
   "source": [
    "import os\n",
    "import shutil\n",
    "import tempfile\n",
    "\n",
    "import matplotlib.pyplot as plt\n",
    "from tqdm import tqdm\n",
    "\n",
    "from monai.losses import DiceCELoss\n",
    "from monai.inferers import sliding_window_inference\n",
    "from monai.transforms import (\n",
    "    AsDiscrete,\n",
    "    EnsureChannelFirstd,\n",
    "    Compose,\n",
    "    CropForegroundd,\n",
    "    LoadImaged,\n",
    "    Orientationd,\n",
    "    RandFlipd,\n",
    "    RandCropByPosNegLabeld,\n",
    "    RandShiftIntensityd,\n",
    "    ScaleIntensityRanged,\n",
    "    Spacingd,\n",
    "    RandRotate90d,\n",
    ")\n",
    "\n",
    "from monai.config import print_config\n",
    "from monai.metrics import DiceMetric\n",
    "from monai.networks.nets import UNETR, SwinUNETR\n",
    "\n",
    "from monai.data import (\n",
    "    DataLoader,\n",
    "    CacheDataset,\n",
    "    load_decathlon_datalist,\n",
    "    decollate_batch,\n",
    ")\n",
    "\n",
    "\n",
    "import torch\n",
    "\n",
    "print_config()"
   ]
  },
  {
   "cell_type": "code",
   "execution_count": 2,
   "metadata": {},
   "outputs": [
    {
     "name": "stdout",
     "output_type": "stream",
     "text": [
      "클래스 비율: {0: 0.001162385214460072, 1: 0.725328373823085, 2: 0.013134952923398814, 3: 0.024410089503661515, 4: 0.0209229338602813, 5: 0.11740090666046728, 6: 0.09764035801464606}\n",
      "최종 합계: 1.0\n",
      "클래스 비율 리스트: [0.001162385214460072, 0.725328373823085, 0.013134952923398814, 0.024410089503661515, 0.0209229338602813, 0.11740090666046728, 0.09764035801464606]\n"
     ]
    }
   ],
   "source": [
    "class_info = {\n",
    "    0: {\"name\": \"background\", \"weight\": 100},  # weight 없음\n",
    "    1: {\"name\": \"apo-ferritin\", \"weight\": 62400},\n",
    "    2: {\"name\": \"beta-amylase\", \"weight\": 1130}, # 4130\n",
    "    3: {\"name\": \"beta-galactosidase\", \"weight\": 2100}, #3080\n",
    "    4: {\"name\": \"ribosome\", \"weight\": 1800},\n",
    "    5: {\"name\": \"thyroglobulin\", \"weight\": 10100},\n",
    "    6: {\"name\": \"virus-like-particle\", \"weight\": 8400},\n",
    "}\n",
    "\n",
    "# 가중치에 비례한 비율 계산\n",
    "raw_ratios = {\n",
    "    k: (v[\"weight\"] if v[\"weight\"] is not None else 0.01)  # 가중치 비례, None일 경우 기본값\n",
    "    for k, v in class_info.items()\n",
    "}\n",
    "total = sum(raw_ratios.values())\n",
    "ratios = {k: v / total for k, v in raw_ratios.items()}\n",
    "\n",
    "# 최종 합계가 1인지 확인\n",
    "final_total = sum(ratios.values())\n",
    "print(\"클래스 비율:\", ratios)\n",
    "print(\"최종 합계:\", final_total)\n",
    "\n",
    "# 비율을 리스트로 변환\n",
    "ratios_list = [ratios[k] for k in sorted(ratios.keys())]\n",
    "print(\"클래스 비율 리스트:\", ratios_list)"
   ]
  },
  {
   "cell_type": "code",
   "execution_count": null,
   "metadata": {},
   "outputs": [],
   "source": [
    "from src.dataset.dataset import create_dataloaders\n",
    "from monai.transforms import (\n",
    "    Compose, LoadImaged, EnsureChannelFirstd, NormalizeIntensityd,\n",
    "    Orientationd, CropForegroundd, GaussianSmoothd, ScaleIntensityd,\n",
    "    RandSpatialCropd, RandRotate90d, RandFlipd, RandGaussianNoised,\n",
    "    ToTensord, RandCropByLabelClassesd\n",
    ")\n",
    "\n",
    "train_img_dir = \"./datasets/train/images\"\n",
    "train_label_dir = \"./datasets/train/labels\"\n",
    "val_img_dir = \"./datasets/val/images\"\n",
    "val_label_dir = \"./datasets/val/labels\"\n",
    "img_depth = 96\n",
    "img_size = 96  # Match your patch size\n",
    "n_classes = 7\n",
    "batch_size = 2 # 13.8GB GPU memory required for 128x128 img size\n",
    "num_samples = batch_size # 한 이미지에서 뽑을 샘플 수\n",
    "loader_batch = 1\n",
    "\n",
    "non_random_transforms = Compose([\n",
    "    EnsureChannelFirstd(keys=[\"image\", \"label\"], channel_dim=\"no_channel\"),\n",
    "    NormalizeIntensityd(keys=\"image\"),\n",
    "    Orientationd(keys=[\"image\", \"label\"], axcodes=\"RAS\"),\n",
    "    GaussianSmoothd(\n",
    "        keys=[\"image\"],      # 변환을 적용할 키\n",
    "        sigma=[1.0, 1.0, 1.0]  # 각 축(x, y, z)의 시그마 값\n",
    "        ),\n",
    "])\n",
    "random_transforms = Compose([\n",
    "    \n",
    "    RandCropByLabelClassesd(\n",
    "        keys=[\"image\", \"label\"],\n",
    "        label_key=\"label\",\n",
    "        spatial_size=[img_depth, img_size, img_size],\n",
    "        num_classes=n_classes,\n",
    "        num_samples=num_samples, \n",
    "        ratios=ratios_list,\n",
    "    ),\n",
    "    RandRotate90d(keys=[\"image\", \"label\"], prob=0.5, spatial_axes=[1, 2]),\n",
    "    RandFlipd(keys=[\"image\", \"label\"], prob=0.5, spatial_axis=0),\n",
    "])\n"
   ]
  },
  {
   "cell_type": "code",
   "execution_count": 4,
   "metadata": {},
   "outputs": [
    {
     "name": "stderr",
     "output_type": "stream",
     "text": [
      "Loading dataset: 100%|██████████| 24/24 [00:39<00:00,  1.66s/it]\n",
      "Loading dataset: 100%|██████████| 4/4 [00:06<00:00,  1.64s/it]\n"
     ]
    }
   ],
   "source": [
    "train_loader, val_loader = None, None\n",
    "train_loader, val_loader = create_dataloaders(\n",
    "    train_img_dir, \n",
    "    train_label_dir, \n",
    "    val_img_dir, \n",
    "    val_label_dir, \n",
    "    non_random_transforms = non_random_transforms, \n",
    "    random_transforms = random_transforms, \n",
    "    batch_size = loader_batch,\n",
    "    num_workers=0)"
   ]
  },
  {
   "cell_type": "markdown",
   "metadata": {},
   "source": [
    "https://monai.io/model-zoo.html"
   ]
  },
  {
   "cell_type": "code",
   "execution_count": 5,
   "metadata": {},
   "outputs": [
    {
     "name": "stderr",
     "output_type": "stream",
     "text": [
      "c:\\ProgramData\\anaconda3\\envs\\ship\\Lib\\site-packages\\monai\\utils\\deprecate_utils.py:221: FutureWarning: monai.networks.nets.swin_unetr SwinUNETR.__init__:img_size: Argument `img_size` has been deprecated since version 1.3. It will be removed in version 1.5. The img_size argument is not required anymore and checks on the input size are run during forward().\n",
      "  warn_deprecated(argname, msg, warning_category)\n",
      "C:\\Users\\Seungwoo\\AppData\\Local\\Temp\\ipykernel_38200\\2541161994.py:27: FutureWarning: You are using `torch.load` with `weights_only=False` (the current default value), which uses the default pickle module implicitly. It is possible to construct malicious pickle data which will execute arbitrary code during unpickling (See https://github.com/pytorch/pytorch/blob/main/SECURITY.md#untrusted-models for more details). In a future release, the default value for `weights_only` will be flipped to `True`. This limits the functions that could be executed during unpickling. Arbitrary objects will no longer be allowed to be loaded via this mode unless they are explicitly allowlisted by the user via `torch.serialization.add_safe_globals`. We recommend you start setting `weights_only=True` for any use case where you don't have full control of the loaded file. Please open an issue on GitHub for any issues related to this experimental feature.\n",
      "  weight = torch.load(pretrain_path, map_location=device)\n"
     ]
    },
    {
     "name": "stdout",
     "output_type": "stream",
     "text": [
      "Filtered weights loaded successfully. Output layer will be trained from scratch.\n"
     ]
    }
   ],
   "source": [
    "import torch.optim as optim\n",
    "from tqdm import tqdm\n",
    "import numpy as np\n",
    "import torch\n",
    "from monai.losses import TverskyLoss\n",
    "from pathlib import Path\n",
    "from monai.metrics import DiceMetric\n",
    "# Model Configuration\n",
    "start_epoch = 0\n",
    "best_val_loss = float('inf')\n",
    "\n",
    "# Training setup\n",
    "num_epochs = 4000\n",
    "lamda = 0.52\n",
    "lr = 0.001\n",
    "\n",
    "device = torch.device(\"cuda\" if torch.cuda.is_available() else \"cpu\")\n",
    "pretrain_path = \"./swin_unetr_btcv_segmentation/models/model.pt\"\n",
    "model = SwinUNETR(\n",
    "    img_size=(img_depth, img_size, img_size),\n",
    "    in_channels=1,\n",
    "    out_channels=n_classes,\n",
    "    feature_size=48,\n",
    "    use_checkpoint=True,\n",
    ").to(device)\n",
    "# Pretrained weights 불러오기\n",
    "weight = torch.load(pretrain_path, map_location=device)\n",
    "\n",
    "# 출력 레이어의 키를 제외한 나머지 가중치만 로드\n",
    "filtered_weights = {k: v for k, v in weight.items() if \"out.conv.conv\" not in k}\n",
    "\n",
    "# strict=False로 로드하여 불일치하는 부분 무시\n",
    "model.load_state_dict(filtered_weights, strict=False)\n",
    "print(\"Filtered weights loaded successfully. Output layer will be trained from scratch.\")\n",
    "\n",
    "# Load pretrained weights\n",
    "# model.load_from(weights=np.load(config_vit.real_pretrained_path, allow_pickle=True))\n",
    "\n",
    "# TverskyLoss 설정\n",
    "criterion = TverskyLoss(\n",
    "    alpha=1- lamda,  # FP에 대한 가중치\n",
    "    beta= lamda,  # FN에 대한 가중치\n",
    "    include_background=False,\n",
    "    softmax=True\n",
    ")\n",
    "\n",
    "# 체크포인트 디렉토리 및 파일 설정\n",
    "checkpoint_base_dir = Path(\"./model_checkpoints\")\n",
    "checkpoint_dir = checkpoint_base_dir / f\"SwinUNETR{img_depth}_{img_size}_lr{lr}_lambda{lamda}_batch{batch_size}\"\n",
    "optimizer = optim.AdamW(model.parameters(), lr=lr, weight_decay=1e-5)\n",
    "\n",
    "# 체크포인트 디렉토리 생성\n",
    "checkpoint_dir.mkdir(parents=True, exist_ok=True)\n",
    "\n",
    "if checkpoint_dir.exists():\n",
    "    best_model_path = checkpoint_dir / 'best_model.pt'\n",
    "    if best_model_path.exists():\n",
    "        print(f\"기존 best model 발견: {best_model_path}\")\n",
    "        try:\n",
    "            checkpoint = torch.load(best_model_path, map_location=device)\n",
    "            # 체크포인트 내부 키 검증\n",
    "            required_keys = ['model_state_dict', 'optimizer_state_dict', 'epoch', 'best_val_loss']\n",
    "            if all(k in checkpoint for k in required_keys):\n",
    "                model.load_state_dict(checkpoint['model_state_dict'])\n",
    "                optimizer.load_state_dict(checkpoint['optimizer_state_dict'])\n",
    "                start_epoch = checkpoint['epoch']\n",
    "                best_val_loss = checkpoint['best_val_loss']\n",
    "                print(\"기존 학습된 가중치를 성공적으로 로드했습니다.\")\n",
    "            else:\n",
    "                raise ValueError(\"체크포인트 파일에 필요한 key가 없습니다.\")\n",
    "        except Exception as e:\n",
    "            print(f\"체크포인트 파일을 로드하는 중 오류 발생: {e}\")\n"
   ]
  },
  {
   "cell_type": "code",
   "execution_count": 6,
   "metadata": {},
   "outputs": [
    {
     "name": "stdout",
     "output_type": "stream",
     "text": [
      "torch.Size([4, 1, 64, 64, 64]) torch.Size([4, 1, 64, 64, 64])\n"
     ]
    }
   ],
   "source": [
    "batch = next(iter(val_loader))\n",
    "images, labels = batch[\"image\"], batch[\"label\"]\n",
    "print(images.shape, labels.shape)"
   ]
  },
  {
   "cell_type": "code",
   "execution_count": 7,
   "metadata": {},
   "outputs": [],
   "source": [
    "torch.backends.cudnn.benchmark = True"
   ]
  },
  {
   "cell_type": "code",
   "execution_count": 8,
   "metadata": {},
   "outputs": [
    {
     "name": "stdout",
     "output_type": "stream",
     "text": [
      "Epoch 1/4000\n"
     ]
    },
    {
     "name": "stderr",
     "output_type": "stream",
     "text": [
      "Training:   0%|          | 0/24 [00:00<?, ?it/s]c:\\ProgramData\\anaconda3\\envs\\ship\\Lib\\site-packages\\torch\\utils\\checkpoint.py:1399: FutureWarning: `torch.cpu.amp.autocast(args...)` is deprecated. Please use `torch.amp.autocast('cpu', args...)` instead.\n",
      "  with device_autocast_ctx, torch.cpu.amp.autocast(**cpu_autocast_kwargs), recompute_context:  # type: ignore[attr-defined]\n",
      "Training: 100%|██████████| 24/24 [00:23<00:00,  1.02it/s, loss=0.979]\n",
      "Validation: 100%|██████████| 4/4 [00:01<00:00,  2.86it/s, loss=0.979]\n"
     ]
    },
    {
     "name": "stdout",
     "output_type": "stream",
     "text": [
      "Validation Dice Score\n",
      "Class 0: 0.3239, Class 1: 0.1276, Class 2: 0.0000, Class 3: 0.0002, \n",
      "Class 4: 0.0175, Class 5: 0.0099, Class 6: 0.0007, \n",
      "Training Loss: 0.9849, Validation Loss: 0.9762\n",
      "Best model saved with validation loss: 0.9762\n",
      "Epoch 2/4000\n"
     ]
    },
    {
     "name": "stderr",
     "output_type": "stream",
     "text": [
      "Training: 100%|██████████| 24/24 [00:16<00:00,  1.49it/s, loss=0.938]\n",
      "Validation: 100%|██████████| 4/4 [00:01<00:00,  2.82it/s, loss=0.943]\n"
     ]
    },
    {
     "name": "stdout",
     "output_type": "stream",
     "text": [
      "Validation Dice Score\n",
      "Class 0: 0.4436, Class 1: 0.3968, Class 2: 0.0000, Class 3: 0.0004, \n",
      "Class 4: 0.0076, Class 5: 0.1083, Class 6: 0.0705, \n",
      "Training Loss: 0.9594, Validation Loss: 0.9370\n",
      "Best model saved with validation loss: 0.9370\n",
      "Epoch 3/4000\n"
     ]
    },
    {
     "name": "stderr",
     "output_type": "stream",
     "text": [
      "Training: 100%|██████████| 24/24 [00:16<00:00,  1.49it/s, loss=0.94] \n",
      "Validation: 100%|██████████| 4/4 [00:01<00:00,  2.88it/s, loss=0.958]\n"
     ]
    },
    {
     "name": "stdout",
     "output_type": "stream",
     "text": [
      "Validation Dice Score\n",
      "Class 0: 0.4941, Class 1: 0.5040, Class 2: 0.0012, Class 3: 0.0009, \n",
      "Class 4: 0.0590, Class 5: 0.1317, Class 6: 0.0687, \n",
      "Training Loss: 0.9366, Validation Loss: 0.9085\n",
      "Best model saved with validation loss: 0.9085\n",
      "Epoch 4/4000\n"
     ]
    },
    {
     "name": "stderr",
     "output_type": "stream",
     "text": [
      "Training: 100%|██████████| 24/24 [00:16<00:00,  1.49it/s, loss=0.927]\n",
      "Validation: 100%|██████████| 4/4 [00:01<00:00,  2.89it/s, loss=0.848]\n"
     ]
    },
    {
     "name": "stdout",
     "output_type": "stream",
     "text": [
      "Validation Dice Score\n",
      "Class 0: 0.5240, Class 1: 0.5882, Class 2: 0.0000, Class 3: 0.0019, \n",
      "Class 4: 0.1077, Class 5: 0.1425, Class 6: 0.1681, \n",
      "Training Loss: 0.9099, Validation Loss: 0.8875\n",
      "Best model saved with validation loss: 0.8875\n",
      "Epoch 5/4000\n"
     ]
    },
    {
     "name": "stderr",
     "output_type": "stream",
     "text": [
      "Training: 100%|██████████| 24/24 [00:16<00:00,  1.49it/s, loss=0.932]\n",
      "Validation: 100%|██████████| 4/4 [00:01<00:00,  2.96it/s, loss=0.903]\n"
     ]
    },
    {
     "name": "stdout",
     "output_type": "stream",
     "text": [
      "Validation Dice Score\n",
      "Class 0: 0.4947, Class 1: 0.5503, Class 2: 0.0000, Class 3: 0.0029, \n",
      "Class 4: 0.1704, Class 5: 0.0640, Class 6: 0.2410, \n",
      "Training Loss: 0.8996, Validation Loss: 0.8830\n",
      "Best model saved with validation loss: 0.8830\n",
      "Epoch 6/4000\n"
     ]
    },
    {
     "name": "stderr",
     "output_type": "stream",
     "text": [
      "Training: 100%|██████████| 24/24 [00:16<00:00,  1.50it/s, loss=0.898]\n",
      "Validation: 100%|██████████| 4/4 [00:01<00:00,  2.81it/s, loss=0.881]\n"
     ]
    },
    {
     "name": "stdout",
     "output_type": "stream",
     "text": [
      "Validation Dice Score\n",
      "Class 0: 0.5303, Class 1: 0.5727, Class 2: 0.0000, Class 3: 0.0018, \n",
      "Class 4: 0.0310, Class 5: 0.0754, Class 6: 0.2834, \n",
      "Training Loss: 0.8992, Validation Loss: 0.8871\n",
      "Epoch 7/4000\n"
     ]
    },
    {
     "name": "stderr",
     "output_type": "stream",
     "text": [
      "Training: 100%|██████████| 24/24 [00:16<00:00,  1.48it/s, loss=0.859]\n",
      "Validation: 100%|██████████| 4/4 [00:01<00:00,  2.74it/s, loss=0.855]\n"
     ]
    },
    {
     "name": "stdout",
     "output_type": "stream",
     "text": [
      "Validation Dice Score\n",
      "Class 0: 0.5225, Class 1: 0.6277, Class 2: 0.0000, Class 3: 0.0007, \n",
      "Class 4: 0.0591, Class 5: 0.0862, Class 6: 0.4479, \n",
      "Training Loss: 0.8817, Validation Loss: 0.8407\n",
      "Best model saved with validation loss: 0.8407\n",
      "Epoch 8/4000\n"
     ]
    },
    {
     "name": "stderr",
     "output_type": "stream",
     "text": [
      "Training: 100%|██████████| 24/24 [00:16<00:00,  1.49it/s, loss=0.856]\n",
      "Validation: 100%|██████████| 4/4 [00:01<00:00,  2.91it/s, loss=0.874]\n"
     ]
    },
    {
     "name": "stdout",
     "output_type": "stream",
     "text": [
      "Validation Dice Score\n",
      "Class 0: 0.5081, Class 1: 0.5969, Class 2: 0.0003, Class 3: 0.0005, \n",
      "Class 4: 0.0657, Class 5: 0.0843, Class 6: 0.2408, \n",
      "Training Loss: 0.8734, Validation Loss: 0.8664\n",
      "Epoch 9/4000\n"
     ]
    },
    {
     "name": "stderr",
     "output_type": "stream",
     "text": [
      "Training: 100%|██████████| 24/24 [00:16<00:00,  1.50it/s, loss=0.879]\n",
      "Validation: 100%|██████████| 4/4 [00:01<00:00,  2.66it/s, loss=0.856]\n"
     ]
    },
    {
     "name": "stdout",
     "output_type": "stream",
     "text": [
      "Validation Dice Score\n",
      "Class 0: 0.5307, Class 1: 0.7149, Class 2: 0.0087, Class 3: 0.0008, \n",
      "Class 4: 0.1122, Class 5: 0.1186, Class 6: 0.1941, \n",
      "Training Loss: 0.8699, Validation Loss: 0.8537\n",
      "Epoch 10/4000\n"
     ]
    },
    {
     "name": "stderr",
     "output_type": "stream",
     "text": [
      "Training: 100%|██████████| 24/24 [00:16<00:00,  1.50it/s, loss=0.862]\n",
      "Validation: 100%|██████████| 4/4 [00:01<00:00,  2.82it/s, loss=0.847]\n"
     ]
    },
    {
     "name": "stdout",
     "output_type": "stream",
     "text": [
      "Validation Dice Score\n",
      "Class 0: 0.5187, Class 1: 0.6641, Class 2: 0.0046, Class 3: 0.0005, \n",
      "Class 4: 0.0961, Class 5: 0.2726, Class 6: 0.3178, \n",
      "Training Loss: 0.8652, Validation Loss: 0.8208\n",
      "Best model saved with validation loss: 0.8208\n",
      "Epoch 11/4000\n"
     ]
    },
    {
     "name": "stderr",
     "output_type": "stream",
     "text": [
      "Training: 100%|██████████| 24/24 [00:16<00:00,  1.48it/s, loss=0.879]\n",
      "Validation: 100%|██████████| 4/4 [00:01<00:00,  2.91it/s, loss=0.818]\n"
     ]
    },
    {
     "name": "stdout",
     "output_type": "stream",
     "text": [
      "Validation Dice Score\n",
      "Class 0: 0.5140, Class 1: 0.6885, Class 2: 0.0000, Class 3: 0.0002, \n",
      "Class 4: 0.0715, Class 5: 0.1423, Class 6: 0.3361, \n",
      "Training Loss: 0.8590, Validation Loss: 0.8382\n",
      "Epoch 12/4000\n"
     ]
    },
    {
     "name": "stderr",
     "output_type": "stream",
     "text": [
      "Training: 100%|██████████| 24/24 [00:16<00:00,  1.49it/s, loss=0.83] \n",
      "Validation: 100%|██████████| 4/4 [00:01<00:00,  2.82it/s, loss=0.813]\n"
     ]
    },
    {
     "name": "stdout",
     "output_type": "stream",
     "text": [
      "Validation Dice Score\n",
      "Class 0: 0.5201, Class 1: 0.5876, Class 2: 0.0017, Class 3: 0.0010, \n",
      "Class 4: 0.0734, Class 5: 0.1572, Class 6: 0.4362, \n",
      "Training Loss: 0.8584, Validation Loss: 0.8279\n",
      "Epoch 13/4000\n"
     ]
    },
    {
     "name": "stderr",
     "output_type": "stream",
     "text": [
      "Training: 100%|██████████| 24/24 [00:16<00:00,  1.50it/s, loss=0.89] \n",
      "Validation: 100%|██████████| 4/4 [00:01<00:00,  2.88it/s, loss=0.876]\n"
     ]
    },
    {
     "name": "stdout",
     "output_type": "stream",
     "text": [
      "Validation Dice Score\n",
      "Class 0: 0.5197, Class 1: 0.7344, Class 2: 0.0032, Class 3: 0.0003, \n",
      "Class 4: 0.0782, Class 5: 0.1919, Class 6: 0.4731, \n",
      "Training Loss: 0.8657, Validation Loss: 0.8257\n",
      "Epoch 14/4000\n"
     ]
    },
    {
     "name": "stderr",
     "output_type": "stream",
     "text": [
      "Training: 100%|██████████| 24/24 [00:16<00:00,  1.50it/s, loss=0.882]\n",
      "Validation: 100%|██████████| 4/4 [00:01<00:00,  2.85it/s, loss=0.856]\n"
     ]
    },
    {
     "name": "stdout",
     "output_type": "stream",
     "text": [
      "Validation Dice Score\n",
      "Class 0: 0.4938, Class 1: 0.7225, Class 2: 0.0410, Class 3: 0.0006, \n",
      "Class 4: 0.1134, Class 5: 0.2537, Class 6: 0.3516, \n",
      "Training Loss: 0.8663, Validation Loss: 0.8381\n",
      "Epoch 15/4000\n"
     ]
    },
    {
     "name": "stderr",
     "output_type": "stream",
     "text": [
      "Training: 100%|██████████| 24/24 [00:16<00:00,  1.48it/s, loss=0.857]\n",
      "Validation: 100%|██████████| 4/4 [00:01<00:00,  2.80it/s, loss=0.801]\n"
     ]
    },
    {
     "name": "stdout",
     "output_type": "stream",
     "text": [
      "Validation Dice Score\n",
      "Class 0: 0.5004, Class 1: 0.7815, Class 2: 0.0063, Class 3: 0.0008, \n",
      "Class 4: 0.0471, Class 5: 0.1682, Class 6: 0.6307, \n",
      "Training Loss: 0.8630, Validation Loss: 0.7981\n",
      "Best model saved with validation loss: 0.7981\n",
      "Epoch 16/4000\n"
     ]
    },
    {
     "name": "stderr",
     "output_type": "stream",
     "text": [
      "Training: 100%|██████████| 24/24 [00:16<00:00,  1.48it/s, loss=0.845]\n",
      "Validation: 100%|██████████| 4/4 [00:01<00:00,  2.81it/s, loss=0.744]\n"
     ]
    },
    {
     "name": "stdout",
     "output_type": "stream",
     "text": [
      "Validation Dice Score\n",
      "Class 0: 0.5168, Class 1: 0.7593, Class 2: 0.0000, Class 3: 0.0001, \n",
      "Class 4: 0.2135, Class 5: 0.3059, Class 6: 0.6122, \n",
      "Training Loss: 0.8641, Validation Loss: 0.7988\n",
      "Epoch 17/4000\n"
     ]
    },
    {
     "name": "stderr",
     "output_type": "stream",
     "text": [
      "Training: 100%|██████████| 24/24 [00:16<00:00,  1.48it/s, loss=0.819]\n",
      "Validation: 100%|██████████| 4/4 [00:01<00:00,  2.81it/s, loss=0.823]\n"
     ]
    },
    {
     "name": "stdout",
     "output_type": "stream",
     "text": [
      "Validation Dice Score\n",
      "Class 0: 0.5125, Class 1: 0.5664, Class 2: 0.0115, Class 3: 0.0001, \n",
      "Class 4: 0.1280, Class 5: 0.3489, Class 6: 0.3585, \n",
      "Training Loss: 0.8664, Validation Loss: 0.8354\n",
      "Epoch 18/4000\n"
     ]
    },
    {
     "name": "stderr",
     "output_type": "stream",
     "text": [
      "Training: 100%|██████████| 24/24 [00:16<00:00,  1.50it/s, loss=0.842]\n",
      "Validation: 100%|██████████| 4/4 [00:01<00:00,  2.83it/s, loss=0.786]\n"
     ]
    },
    {
     "name": "stdout",
     "output_type": "stream",
     "text": [
      "Validation Dice Score\n",
      "Class 0: 0.5141, Class 1: 0.7979, Class 2: 0.0178, Class 3: 0.0016, \n",
      "Class 4: 0.0712, Class 5: 0.4051, Class 6: 0.4194, \n",
      "Training Loss: 0.8377, Validation Loss: 0.7886\n",
      "Best model saved with validation loss: 0.7886\n",
      "Epoch 19/4000\n"
     ]
    },
    {
     "name": "stderr",
     "output_type": "stream",
     "text": [
      "Training: 100%|██████████| 24/24 [00:16<00:00,  1.49it/s, loss=0.876]\n",
      "Validation: 100%|██████████| 4/4 [00:01<00:00,  2.80it/s, loss=0.871]\n"
     ]
    },
    {
     "name": "stdout",
     "output_type": "stream",
     "text": [
      "Validation Dice Score\n",
      "Class 0: 0.5054, Class 1: 0.5176, Class 2: 0.0000, Class 3: 0.0012, \n",
      "Class 4: 0.2235, Class 5: 0.2688, Class 6: 0.3975, \n",
      "Training Loss: 0.8459, Validation Loss: 0.8379\n",
      "Epoch 20/4000\n"
     ]
    },
    {
     "name": "stderr",
     "output_type": "stream",
     "text": [
      "Training: 100%|██████████| 24/24 [00:16<00:00,  1.49it/s, loss=0.853]\n",
      "Validation: 100%|██████████| 4/4 [00:01<00:00,  2.86it/s, loss=0.893]\n"
     ]
    },
    {
     "name": "stdout",
     "output_type": "stream",
     "text": [
      "Validation Dice Score\n",
      "Class 0: 0.4969, Class 1: 0.6433, Class 2: 0.0430, Class 3: 0.0008, \n",
      "Class 4: 0.2121, Class 5: 0.1131, Class 6: 0.0000, \n",
      "Training Loss: 0.8590, Validation Loss: 0.8706\n",
      "Epoch 21/4000\n"
     ]
    },
    {
     "name": "stderr",
     "output_type": "stream",
     "text": [
      "Training: 100%|██████████| 24/24 [00:15<00:00,  1.50it/s, loss=0.883]\n",
      "Validation: 100%|██████████| 4/4 [00:01<00:00,  2.89it/s, loss=0.836]\n"
     ]
    },
    {
     "name": "stdout",
     "output_type": "stream",
     "text": [
      "Validation Dice Score\n",
      "Class 0: 0.5164, Class 1: 0.6861, Class 2: 0.0178, Class 3: 0.0004, \n",
      "Class 4: 0.1416, Class 5: 0.1815, Class 6: 0.4391, \n",
      "Training Loss: 0.8501, Validation Loss: 0.8443\n",
      "Epoch 22/4000\n"
     ]
    },
    {
     "name": "stderr",
     "output_type": "stream",
     "text": [
      "Training: 100%|██████████| 24/24 [00:16<00:00,  1.50it/s, loss=0.847]\n",
      "Validation: 100%|██████████| 4/4 [00:01<00:00,  2.85it/s, loss=0.81] \n"
     ]
    },
    {
     "name": "stdout",
     "output_type": "stream",
     "text": [
      "Validation Dice Score\n",
      "Class 0: 0.5059, Class 1: 0.6983, Class 2: 0.1008, Class 3: 0.0001, \n",
      "Class 4: 0.0807, Class 5: 0.1943, Class 6: 0.3760, \n",
      "Training Loss: 0.8496, Validation Loss: 0.8199\n",
      "Epoch 23/4000\n"
     ]
    },
    {
     "name": "stderr",
     "output_type": "stream",
     "text": [
      "Training: 100%|██████████| 24/24 [00:16<00:00,  1.49it/s, loss=0.871]\n",
      "Validation: 100%|██████████| 4/4 [00:01<00:00,  2.82it/s, loss=0.896]\n"
     ]
    },
    {
     "name": "stdout",
     "output_type": "stream",
     "text": [
      "Validation Dice Score\n",
      "Class 0: 0.4976, Class 1: 0.7634, Class 2: 0.0011, Class 3: 0.0017, \n",
      "Class 4: 0.1625, Class 5: 0.0773, Class 6: 0.2088, \n",
      "Training Loss: 0.8481, Validation Loss: 0.8395\n",
      "Epoch 24/4000\n"
     ]
    },
    {
     "name": "stderr",
     "output_type": "stream",
     "text": [
      "Training: 100%|██████████| 24/24 [00:16<00:00,  1.49it/s, loss=0.849]\n",
      "Validation: 100%|██████████| 4/4 [00:01<00:00,  2.87it/s, loss=0.867]\n"
     ]
    },
    {
     "name": "stdout",
     "output_type": "stream",
     "text": [
      "Validation Dice Score\n",
      "Class 0: 0.5111, Class 1: 0.6422, Class 2: 0.0379, Class 3: 0.0014, \n",
      "Class 4: 0.0507, Class 5: 0.1761, Class 6: 0.4730, \n",
      "Training Loss: 0.8551, Validation Loss: 0.8442\n",
      "Epoch 25/4000\n"
     ]
    },
    {
     "name": "stderr",
     "output_type": "stream",
     "text": [
      "Training: 100%|██████████| 24/24 [00:16<00:00,  1.48it/s, loss=0.89] \n",
      "Validation: 100%|██████████| 4/4 [00:01<00:00,  2.81it/s, loss=0.847]\n"
     ]
    },
    {
     "name": "stdout",
     "output_type": "stream",
     "text": [
      "Validation Dice Score\n",
      "Class 0: 0.5035, Class 1: 0.8017, Class 2: 0.0138, Class 3: 0.0016, \n",
      "Class 4: 0.0389, Class 5: 0.1414, Class 6: 0.3002, \n",
      "Training Loss: 0.8565, Validation Loss: 0.8255\n",
      "Epoch 26/4000\n"
     ]
    },
    {
     "name": "stderr",
     "output_type": "stream",
     "text": [
      "Training: 100%|██████████| 24/24 [00:16<00:00,  1.46it/s, loss=0.814]\n",
      "Validation: 100%|██████████| 4/4 [00:01<00:00,  2.88it/s, loss=0.786]\n"
     ]
    },
    {
     "name": "stdout",
     "output_type": "stream",
     "text": [
      "Validation Dice Score\n",
      "Class 0: 0.4956, Class 1: 0.7530, Class 2: 0.0863, Class 3: 0.0004, \n",
      "Class 4: 0.2742, Class 5: 0.2968, Class 6: 0.4082, \n",
      "Training Loss: 0.8468, Validation Loss: 0.8106\n",
      "Epoch 27/4000\n"
     ]
    },
    {
     "name": "stderr",
     "output_type": "stream",
     "text": [
      "Training: 100%|██████████| 24/24 [00:15<00:00,  1.52it/s, loss=0.813]\n",
      "Validation: 100%|██████████| 4/4 [00:01<00:00,  2.90it/s, loss=0.764]\n"
     ]
    },
    {
     "name": "stdout",
     "output_type": "stream",
     "text": [
      "Validation Dice Score\n",
      "Class 0: 0.4953, Class 1: 0.7484, Class 2: 0.0057, Class 3: 0.0020, \n",
      "Class 4: 0.1216, Class 5: 0.2745, Class 6: 0.5929, \n",
      "Training Loss: 0.8294, Validation Loss: 0.8020\n",
      "Epoch 28/4000\n"
     ]
    },
    {
     "name": "stderr",
     "output_type": "stream",
     "text": [
      "Training: 100%|██████████| 24/24 [00:15<00:00,  1.53it/s, loss=0.804]\n",
      "Validation: 100%|██████████| 4/4 [00:01<00:00,  3.01it/s, loss=0.84] \n"
     ]
    },
    {
     "name": "stdout",
     "output_type": "stream",
     "text": [
      "Validation Dice Score\n",
      "Class 0: 0.5011, Class 1: 0.5401, Class 2: 0.0231, Class 3: 0.0011, \n",
      "Class 4: 0.2180, Class 5: 0.1323, Class 6: 0.5141, \n",
      "Training Loss: 0.8441, Validation Loss: 0.8601\n",
      "Epoch 29/4000\n"
     ]
    },
    {
     "name": "stderr",
     "output_type": "stream",
     "text": [
      "Training: 100%|██████████| 24/24 [00:15<00:00,  1.53it/s, loss=0.826]\n",
      "Validation: 100%|██████████| 4/4 [00:01<00:00,  2.92it/s, loss=0.837]\n"
     ]
    },
    {
     "name": "stdout",
     "output_type": "stream",
     "text": [
      "Validation Dice Score\n",
      "Class 0: 0.5068, Class 1: 0.6929, Class 2: 0.0110, Class 3: 0.0006, \n",
      "Class 4: 0.0571, Class 5: 0.1990, Class 6: 0.7164, \n",
      "Training Loss: 0.8376, Validation Loss: 0.8254\n",
      "Epoch 30/4000\n"
     ]
    },
    {
     "name": "stderr",
     "output_type": "stream",
     "text": [
      "Training: 100%|██████████| 24/24 [00:15<00:00,  1.53it/s, loss=0.859]\n",
      "Validation: 100%|██████████| 4/4 [00:01<00:00,  2.93it/s, loss=0.83] \n"
     ]
    },
    {
     "name": "stdout",
     "output_type": "stream",
     "text": [
      "Validation Dice Score\n",
      "Class 0: 0.5139, Class 1: 0.7966, Class 2: 0.0213, Class 3: 0.0006, \n",
      "Class 4: 0.1149, Class 5: 0.2326, Class 6: 0.6664, \n",
      "Training Loss: 0.8351, Validation Loss: 0.7929\n",
      "Epoch 31/4000\n"
     ]
    },
    {
     "name": "stderr",
     "output_type": "stream",
     "text": [
      "Training: 100%|██████████| 24/24 [00:15<00:00,  1.53it/s, loss=0.815]\n",
      "Validation: 100%|██████████| 4/4 [00:01<00:00,  2.88it/s, loss=0.804]\n"
     ]
    },
    {
     "name": "stdout",
     "output_type": "stream",
     "text": [
      "Validation Dice Score\n",
      "Class 0: 0.4934, Class 1: 0.7217, Class 2: 0.0000, Class 3: 0.0008, \n",
      "Class 4: 0.2333, Class 5: 0.1891, Class 6: 0.5101, \n",
      "Training Loss: 0.8348, Validation Loss: 0.8077\n",
      "Epoch 32/4000\n"
     ]
    },
    {
     "name": "stderr",
     "output_type": "stream",
     "text": [
      "Training: 100%|██████████| 24/24 [00:15<00:00,  1.53it/s, loss=0.789]\n",
      "Validation: 100%|██████████| 4/4 [00:01<00:00,  2.97it/s, loss=0.921]\n"
     ]
    },
    {
     "name": "stdout",
     "output_type": "stream",
     "text": [
      "Validation Dice Score\n",
      "Class 0: 0.5064, Class 1: 0.6727, Class 2: 0.0484, Class 3: 0.0018, \n",
      "Class 4: 0.0701, Class 5: 0.2873, Class 6: 0.3319, \n",
      "Training Loss: 0.8346, Validation Loss: 0.8578\n",
      "Epoch 33/4000\n"
     ]
    },
    {
     "name": "stderr",
     "output_type": "stream",
     "text": [
      "Training: 100%|██████████| 24/24 [00:15<00:00,  1.54it/s, loss=0.81] \n",
      "Validation: 100%|██████████| 4/4 [00:01<00:00,  2.99it/s, loss=0.818]\n"
     ]
    },
    {
     "name": "stdout",
     "output_type": "stream",
     "text": [
      "Validation Dice Score\n",
      "Class 0: 0.5192, Class 1: 0.6852, Class 2: 0.0208, Class 3: 0.0016, \n",
      "Class 4: 0.1183, Class 5: 0.3904, Class 6: 0.3743, \n",
      "Training Loss: 0.8405, Validation Loss: 0.8338\n",
      "Epoch 34/4000\n"
     ]
    },
    {
     "name": "stderr",
     "output_type": "stream",
     "text": [
      "Training: 100%|██████████| 24/24 [00:15<00:00,  1.53it/s, loss=0.88] \n",
      "Validation: 100%|██████████| 4/4 [00:01<00:00,  2.94it/s, loss=0.786]\n"
     ]
    },
    {
     "name": "stdout",
     "output_type": "stream",
     "text": [
      "Validation Dice Score\n",
      "Class 0: 0.5006, Class 1: 0.7808, Class 2: 0.0200, Class 3: 0.0008, \n",
      "Class 4: 0.1283, Class 5: 0.1009, Class 6: 0.5576, \n",
      "Training Loss: 0.8402, Validation Loss: 0.8025\n",
      "Epoch 35/4000\n"
     ]
    },
    {
     "name": "stderr",
     "output_type": "stream",
     "text": [
      "Training: 100%|██████████| 24/24 [00:15<00:00,  1.54it/s, loss=0.866]\n",
      "Validation: 100%|██████████| 4/4 [00:01<00:00,  2.97it/s, loss=0.839]\n"
     ]
    },
    {
     "name": "stdout",
     "output_type": "stream",
     "text": [
      "Validation Dice Score\n",
      "Class 0: 0.5041, Class 1: 0.7453, Class 2: 0.0472, Class 3: 0.0001, \n",
      "Class 4: 0.1576, Class 5: 0.2538, Class 6: 0.5552, \n",
      "Training Loss: 0.8379, Validation Loss: 0.8122\n",
      "Epoch 36/4000\n"
     ]
    },
    {
     "name": "stderr",
     "output_type": "stream",
     "text": [
      "Training: 100%|██████████| 24/24 [00:15<00:00,  1.53it/s, loss=0.871]\n",
      "Validation: 100%|██████████| 4/4 [00:01<00:00,  2.96it/s, loss=0.818]\n"
     ]
    },
    {
     "name": "stdout",
     "output_type": "stream",
     "text": [
      "Validation Dice Score\n",
      "Class 0: 0.4956, Class 1: 0.7693, Class 2: 0.0206, Class 3: 0.0000, \n",
      "Class 4: 0.1888, Class 5: 0.1868, Class 6: 0.1930, \n",
      "Training Loss: 0.8427, Validation Loss: 0.8296\n",
      "Epoch 37/4000\n"
     ]
    },
    {
     "name": "stderr",
     "output_type": "stream",
     "text": [
      "Training: 100%|██████████| 24/24 [00:15<00:00,  1.53it/s, loss=0.824]\n",
      "Validation: 100%|██████████| 4/4 [00:01<00:00,  2.96it/s, loss=0.811]\n"
     ]
    },
    {
     "name": "stdout",
     "output_type": "stream",
     "text": [
      "Validation Dice Score\n",
      "Class 0: 0.5030, Class 1: 0.7317, Class 2: 0.0538, Class 3: 0.0002, \n",
      "Class 4: 0.2002, Class 5: 0.3131, Class 6: 0.3787, \n",
      "Training Loss: 0.8215, Validation Loss: 0.8114\n",
      "Epoch 38/4000\n"
     ]
    },
    {
     "name": "stderr",
     "output_type": "stream",
     "text": [
      "Training: 100%|██████████| 24/24 [00:15<00:00,  1.53it/s, loss=0.845]\n",
      "Validation: 100%|██████████| 4/4 [00:01<00:00,  2.92it/s, loss=0.821]\n"
     ]
    },
    {
     "name": "stdout",
     "output_type": "stream",
     "text": [
      "Validation Dice Score\n",
      "Class 0: 0.4980, Class 1: 0.8302, Class 2: 0.0953, Class 3: 0.0007, \n",
      "Class 4: 0.2536, Class 5: 0.3765, Class 6: 0.4420, \n",
      "Training Loss: 0.8428, Validation Loss: 0.7876\n",
      "Best model saved with validation loss: 0.7876\n",
      "Epoch 39/4000\n"
     ]
    },
    {
     "name": "stderr",
     "output_type": "stream",
     "text": [
      "Training: 100%|██████████| 24/24 [00:15<00:00,  1.54it/s, loss=0.857]\n",
      "Validation: 100%|██████████| 4/4 [00:01<00:00,  2.97it/s, loss=0.784]\n"
     ]
    },
    {
     "name": "stdout",
     "output_type": "stream",
     "text": [
      "Validation Dice Score\n",
      "Class 0: 0.4909, Class 1: 0.8261, Class 2: 0.0015, Class 3: 0.0007, \n",
      "Class 4: 0.1254, Class 5: 0.3345, Class 6: 0.5141, \n",
      "Training Loss: 0.8395, Validation Loss: 0.7978\n",
      "Epoch 40/4000\n"
     ]
    },
    {
     "name": "stderr",
     "output_type": "stream",
     "text": [
      "Training: 100%|██████████| 24/24 [00:15<00:00,  1.53it/s, loss=0.87] \n",
      "Validation: 100%|██████████| 4/4 [00:01<00:00,  2.94it/s, loss=0.826]\n"
     ]
    },
    {
     "name": "stdout",
     "output_type": "stream",
     "text": [
      "Validation Dice Score\n",
      "Class 0: 0.4976, Class 1: 0.5900, Class 2: 0.0000, Class 3: 0.0001, \n",
      "Class 4: 0.1952, Class 5: 0.1633, Class 6: 0.3759, \n",
      "Training Loss: 0.8358, Validation Loss: 0.8491\n",
      "Epoch 41/4000\n"
     ]
    },
    {
     "name": "stderr",
     "output_type": "stream",
     "text": [
      "Training: 100%|██████████| 24/24 [00:15<00:00,  1.53it/s, loss=0.834]\n",
      "Validation: 100%|██████████| 4/4 [00:01<00:00,  2.81it/s, loss=0.806]\n"
     ]
    },
    {
     "name": "stdout",
     "output_type": "stream",
     "text": [
      "Validation Dice Score\n",
      "Class 0: 0.4938, Class 1: 0.8070, Class 2: 0.0000, Class 3: 0.0001, \n",
      "Class 4: 0.1243, Class 5: 0.2490, Class 6: 0.5945, \n",
      "Training Loss: 0.8447, Validation Loss: 0.8203\n",
      "Epoch 42/4000\n"
     ]
    },
    {
     "name": "stderr",
     "output_type": "stream",
     "text": [
      "Training: 100%|██████████| 24/24 [00:16<00:00,  1.50it/s, loss=0.85] \n",
      "Validation: 100%|██████████| 4/4 [00:01<00:00,  2.82it/s, loss=0.8]  \n"
     ]
    },
    {
     "name": "stdout",
     "output_type": "stream",
     "text": [
      "Validation Dice Score\n",
      "Class 0: 0.4984, Class 1: 0.6709, Class 2: 0.0038, Class 3: 0.0006, \n",
      "Class 4: 0.0770, Class 5: 0.2396, Class 6: 0.6078, \n",
      "Training Loss: 0.8404, Validation Loss: 0.8219\n",
      "Epoch 43/4000\n"
     ]
    },
    {
     "name": "stderr",
     "output_type": "stream",
     "text": [
      "Training: 100%|██████████| 24/24 [00:15<00:00,  1.52it/s, loss=0.832]\n",
      "Validation: 100%|██████████| 4/4 [00:01<00:00,  2.83it/s, loss=0.805]\n"
     ]
    },
    {
     "name": "stdout",
     "output_type": "stream",
     "text": [
      "Validation Dice Score\n",
      "Class 0: 0.4909, Class 1: 0.7008, Class 2: 0.0569, Class 3: 0.0011, \n",
      "Class 4: 0.1948, Class 5: 0.2078, Class 6: 0.5339, \n",
      "Training Loss: 0.8343, Validation Loss: 0.8107\n",
      "Epoch 44/4000\n"
     ]
    },
    {
     "name": "stderr",
     "output_type": "stream",
     "text": [
      "Training: 100%|██████████| 24/24 [00:15<00:00,  1.51it/s, loss=0.887]\n",
      "Validation: 100%|██████████| 4/4 [00:01<00:00,  2.86it/s, loss=0.846]\n"
     ]
    },
    {
     "name": "stdout",
     "output_type": "stream",
     "text": [
      "Validation Dice Score\n",
      "Class 0: 0.4867, Class 1: 0.7744, Class 2: 0.0815, Class 3: 0.0021, \n",
      "Class 4: 0.1582, Class 5: 0.3683, Class 6: 0.4973, \n",
      "Training Loss: 0.8409, Validation Loss: 0.8014\n",
      "Epoch 45/4000\n"
     ]
    },
    {
     "name": "stderr",
     "output_type": "stream",
     "text": [
      "Training: 100%|██████████| 24/24 [00:15<00:00,  1.51it/s, loss=0.821]\n",
      "Validation: 100%|██████████| 4/4 [00:01<00:00,  2.96it/s, loss=0.701]\n"
     ]
    },
    {
     "name": "stdout",
     "output_type": "stream",
     "text": [
      "Validation Dice Score\n",
      "Class 0: 0.4862, Class 1: 0.8335, Class 2: 0.0000, Class 3: 0.0014, \n",
      "Class 4: 0.2498, Class 5: 0.3771, Class 6: 0.5655, \n",
      "Training Loss: 0.8373, Validation Loss: 0.7660\n",
      "Best model saved with validation loss: 0.7660\n",
      "Epoch 46/4000\n"
     ]
    },
    {
     "name": "stderr",
     "output_type": "stream",
     "text": [
      "Training: 100%|██████████| 24/24 [00:15<00:00,  1.52it/s, loss=0.815]\n",
      "Validation: 100%|██████████| 4/4 [00:01<00:00,  2.86it/s, loss=0.81] \n"
     ]
    },
    {
     "name": "stdout",
     "output_type": "stream",
     "text": [
      "Validation Dice Score\n",
      "Class 0: 0.5105, Class 1: 0.7100, Class 2: 0.0833, Class 3: 0.0016, \n",
      "Class 4: 0.2020, Class 5: 0.2222, Class 6: 0.4435, \n",
      "Training Loss: 0.8149, Validation Loss: 0.8224\n",
      "Epoch 47/4000\n"
     ]
    },
    {
     "name": "stderr",
     "output_type": "stream",
     "text": [
      "Training: 100%|██████████| 24/24 [00:15<00:00,  1.53it/s, loss=0.836]\n",
      "Validation: 100%|██████████| 4/4 [00:01<00:00,  2.89it/s, loss=0.793]\n"
     ]
    },
    {
     "name": "stdout",
     "output_type": "stream",
     "text": [
      "Validation Dice Score\n",
      "Class 0: 0.5156, Class 1: 0.8042, Class 2: 0.0849, Class 3: 0.0015, \n",
      "Class 4: 0.1091, Class 5: 0.1270, Class 6: 0.6165, \n",
      "Training Loss: 0.8315, Validation Loss: 0.7967\n",
      "Epoch 48/4000\n"
     ]
    },
    {
     "name": "stderr",
     "output_type": "stream",
     "text": [
      "Training: 100%|██████████| 24/24 [00:17<00:00,  1.34it/s, loss=0.783]\n",
      "Validation: 100%|██████████| 4/4 [00:01<00:00,  2.83it/s, loss=0.799]\n"
     ]
    },
    {
     "name": "stdout",
     "output_type": "stream",
     "text": [
      "Validation Dice Score\n",
      "Class 0: 0.5031, Class 1: 0.8218, Class 2: 0.0228, Class 3: 0.0004, \n",
      "Class 4: 0.3870, Class 5: 0.4673, Class 6: 0.6687, \n",
      "Training Loss: 0.8229, Validation Loss: 0.7822\n",
      "Epoch 49/4000\n"
     ]
    },
    {
     "name": "stderr",
     "output_type": "stream",
     "text": [
      "Training: 100%|██████████| 24/24 [00:15<00:00,  1.53it/s, loss=0.847]\n",
      "Validation: 100%|██████████| 4/4 [00:01<00:00,  2.94it/s, loss=0.806]\n"
     ]
    },
    {
     "name": "stdout",
     "output_type": "stream",
     "text": [
      "Validation Dice Score\n",
      "Class 0: 0.4955, Class 1: 0.7515, Class 2: 0.0020, Class 3: 0.0001, \n",
      "Class 4: 0.2002, Class 5: 0.0971, Class 6: 0.3318, \n",
      "Training Loss: 0.8328, Validation Loss: 0.8165\n",
      "Epoch 50/4000\n"
     ]
    },
    {
     "name": "stderr",
     "output_type": "stream",
     "text": [
      "Training: 100%|██████████| 24/24 [00:15<00:00,  1.52it/s, loss=0.886]\n",
      "Validation: 100%|██████████| 4/4 [00:01<00:00,  2.77it/s, loss=0.754]\n"
     ]
    },
    {
     "name": "stdout",
     "output_type": "stream",
     "text": [
      "Validation Dice Score\n",
      "Class 0: 0.5024, Class 1: 0.8133, Class 2: 0.0349, Class 3: 0.0019, \n",
      "Class 4: 0.1780, Class 5: 0.3589, Class 6: 0.6001, \n",
      "Training Loss: 0.8255, Validation Loss: 0.7733\n",
      "Epoch 51/4000\n"
     ]
    },
    {
     "name": "stderr",
     "output_type": "stream",
     "text": [
      "Training: 100%|██████████| 24/24 [00:15<00:00,  1.52it/s, loss=0.781]\n",
      "Validation: 100%|██████████| 4/4 [00:01<00:00,  2.93it/s, loss=0.816]\n"
     ]
    },
    {
     "name": "stdout",
     "output_type": "stream",
     "text": [
      "Validation Dice Score\n",
      "Class 0: 0.5001, Class 1: 0.8315, Class 2: 0.0065, Class 3: 0.0006, \n",
      "Class 4: 0.1472, Class 5: 0.3773, Class 6: 0.5218, \n",
      "Training Loss: 0.8349, Validation Loss: 0.8108\n",
      "Epoch 52/4000\n"
     ]
    },
    {
     "name": "stderr",
     "output_type": "stream",
     "text": [
      "Training: 100%|██████████| 24/24 [00:15<00:00,  1.52it/s, loss=0.779]\n",
      "Validation: 100%|██████████| 4/4 [00:01<00:00,  2.90it/s, loss=0.788]\n"
     ]
    },
    {
     "name": "stdout",
     "output_type": "stream",
     "text": [
      "Validation Dice Score\n",
      "Class 0: 0.5006, Class 1: 0.7997, Class 2: 0.0036, Class 3: 0.0027, \n",
      "Class 4: 0.2993, Class 5: 0.1669, Class 6: 0.7067, \n",
      "Training Loss: 0.8269, Validation Loss: 0.8002\n",
      "Epoch 53/4000\n"
     ]
    },
    {
     "name": "stderr",
     "output_type": "stream",
     "text": [
      "Training: 100%|██████████| 24/24 [00:15<00:00,  1.53it/s, loss=0.809]\n",
      "Validation: 100%|██████████| 4/4 [00:01<00:00,  2.90it/s, loss=0.767]\n"
     ]
    },
    {
     "name": "stdout",
     "output_type": "stream",
     "text": [
      "Validation Dice Score\n",
      "Class 0: 0.5000, Class 1: 0.8368, Class 2: 0.0000, Class 3: 0.0001, \n",
      "Class 4: 0.0096, Class 5: 0.1854, Class 6: 0.7496, \n",
      "Training Loss: 0.8250, Validation Loss: 0.7879\n",
      "Epoch 54/4000\n"
     ]
    },
    {
     "name": "stderr",
     "output_type": "stream",
     "text": [
      "Training: 100%|██████████| 24/24 [00:15<00:00,  1.52it/s, loss=0.866]\n",
      "Validation: 100%|██████████| 4/4 [00:01<00:00,  2.91it/s, loss=0.829]\n"
     ]
    },
    {
     "name": "stdout",
     "output_type": "stream",
     "text": [
      "Validation Dice Score\n",
      "Class 0: 0.5004, Class 1: 0.7781, Class 2: 0.0431, Class 3: 0.0019, \n",
      "Class 4: 0.1803, Class 5: 0.1682, Class 6: 0.4562, \n",
      "Training Loss: 0.8383, Validation Loss: 0.8032\n",
      "Epoch 55/4000\n"
     ]
    },
    {
     "name": "stderr",
     "output_type": "stream",
     "text": [
      "Training: 100%|██████████| 24/24 [00:15<00:00,  1.52it/s, loss=0.854]\n",
      "Validation: 100%|██████████| 4/4 [00:01<00:00,  2.84it/s, loss=0.765]\n"
     ]
    },
    {
     "name": "stdout",
     "output_type": "stream",
     "text": [
      "Validation Dice Score\n",
      "Class 0: 0.5009, Class 1: 0.8348, Class 2: 0.0366, Class 3: 0.0022, \n",
      "Class 4: 0.1984, Class 5: 0.3375, Class 6: 0.0000, \n",
      "Training Loss: 0.8261, Validation Loss: 0.8390\n",
      "Epoch 56/4000\n"
     ]
    },
    {
     "name": "stderr",
     "output_type": "stream",
     "text": [
      "Training: 100%|██████████| 24/24 [00:15<00:00,  1.52it/s, loss=0.816]\n",
      "Validation: 100%|██████████| 4/4 [00:01<00:00,  2.83it/s, loss=0.688]\n"
     ]
    },
    {
     "name": "stdout",
     "output_type": "stream",
     "text": [
      "Validation Dice Score\n",
      "Class 0: 0.4933, Class 1: 0.8074, Class 2: 0.1029, Class 3: 0.0001, \n",
      "Class 4: 0.0304, Class 5: 0.2688, Class 6: 0.7981, \n",
      "Training Loss: 0.8201, Validation Loss: 0.7611\n",
      "Best model saved with validation loss: 0.7611\n",
      "Epoch 57/4000\n"
     ]
    },
    {
     "name": "stderr",
     "output_type": "stream",
     "text": [
      "Training: 100%|██████████| 24/24 [00:15<00:00,  1.53it/s, loss=0.746]\n",
      "Validation: 100%|██████████| 4/4 [00:01<00:00,  2.98it/s, loss=0.746]\n"
     ]
    },
    {
     "name": "stdout",
     "output_type": "stream",
     "text": [
      "Validation Dice Score\n",
      "Class 0: 0.4963, Class 1: 0.8730, Class 2: 0.0166, Class 3: 0.0001, \n",
      "Class 4: 0.3535, Class 5: 0.3632, Class 6: 0.6625, \n",
      "Training Loss: 0.8226, Validation Loss: 0.7763\n",
      "Epoch 58/4000\n"
     ]
    },
    {
     "name": "stderr",
     "output_type": "stream",
     "text": [
      "Training: 100%|██████████| 24/24 [00:15<00:00,  1.53it/s, loss=0.799]\n",
      "Validation: 100%|██████████| 4/4 [00:01<00:00,  2.94it/s, loss=0.875]\n"
     ]
    },
    {
     "name": "stdout",
     "output_type": "stream",
     "text": [
      "Validation Dice Score\n",
      "Class 0: 0.4958, Class 1: 0.7503, Class 2: 0.0228, Class 3: 0.0004, \n",
      "Class 4: 0.2131, Class 5: 0.3446, Class 6: 0.5725, \n",
      "Training Loss: 0.8214, Validation Loss: 0.8193\n",
      "Epoch 59/4000\n"
     ]
    },
    {
     "name": "stderr",
     "output_type": "stream",
     "text": [
      "Training: 100%|██████████| 24/24 [00:15<00:00,  1.53it/s, loss=0.872]\n",
      "Validation: 100%|██████████| 4/4 [00:01<00:00,  2.95it/s, loss=0.764]\n"
     ]
    },
    {
     "name": "stdout",
     "output_type": "stream",
     "text": [
      "Validation Dice Score\n",
      "Class 0: 0.5145, Class 1: 0.7981, Class 2: 0.0485, Class 3: 0.0005, \n",
      "Class 4: 0.3417, Class 5: 0.2551, Class 6: 0.7987, \n",
      "Training Loss: 0.8240, Validation Loss: 0.8167\n",
      "Epoch 60/4000\n"
     ]
    },
    {
     "name": "stderr",
     "output_type": "stream",
     "text": [
      "Training: 100%|██████████| 24/24 [00:15<00:00,  1.53it/s, loss=0.836]\n",
      "Validation: 100%|██████████| 4/4 [00:01<00:00,  2.94it/s, loss=0.828]\n"
     ]
    },
    {
     "name": "stdout",
     "output_type": "stream",
     "text": [
      "Validation Dice Score\n",
      "Class 0: 0.5190, Class 1: 0.7344, Class 2: 0.0000, Class 3: 0.0004, \n",
      "Class 4: 0.1648, Class 5: 0.1354, Class 6: 0.3945, \n",
      "Training Loss: 0.8364, Validation Loss: 0.8321\n",
      "Epoch 61/4000\n"
     ]
    },
    {
     "name": "stderr",
     "output_type": "stream",
     "text": [
      "Training: 100%|██████████| 24/24 [00:15<00:00,  1.53it/s, loss=0.773]\n",
      "Validation: 100%|██████████| 4/4 [00:01<00:00,  2.92it/s, loss=0.756]\n"
     ]
    },
    {
     "name": "stdout",
     "output_type": "stream",
     "text": [
      "Validation Dice Score\n",
      "Class 0: 0.5090, Class 1: 0.7836, Class 2: 0.0399, Class 3: 0.0004, \n",
      "Class 4: 0.3351, Class 5: 0.3830, Class 6: 0.7136, \n",
      "Training Loss: 0.8278, Validation Loss: 0.7712\n",
      "Epoch 62/4000\n"
     ]
    },
    {
     "name": "stderr",
     "output_type": "stream",
     "text": [
      "Training: 100%|██████████| 24/24 [00:15<00:00,  1.51it/s, loss=0.818]\n",
      "Validation: 100%|██████████| 4/4 [00:01<00:00,  2.69it/s, loss=0.798]\n"
     ]
    },
    {
     "name": "stdout",
     "output_type": "stream",
     "text": [
      "Validation Dice Score\n",
      "Class 0: 0.5014, Class 1: 0.8544, Class 2: 0.0107, Class 3: 0.0004, \n",
      "Class 4: 0.0263, Class 5: 0.4497, Class 6: 0.6039, \n",
      "Training Loss: 0.8168, Validation Loss: 0.7531\n",
      "Best model saved with validation loss: 0.7531\n",
      "Epoch 63/4000\n"
     ]
    },
    {
     "name": "stderr",
     "output_type": "stream",
     "text": [
      "Training: 100%|██████████| 24/24 [00:15<00:00,  1.52it/s, loss=0.84] \n",
      "Validation: 100%|██████████| 4/4 [00:01<00:00,  2.93it/s, loss=0.789]\n"
     ]
    },
    {
     "name": "stdout",
     "output_type": "stream",
     "text": [
      "Validation Dice Score\n",
      "Class 0: 0.5055, Class 1: 0.8376, Class 2: 0.0917, Class 3: 0.0007, \n",
      "Class 4: 0.2886, Class 5: 0.2917, Class 6: 0.7335, \n",
      "Training Loss: 0.8121, Validation Loss: 0.7539\n",
      "Epoch 64/4000\n"
     ]
    },
    {
     "name": "stderr",
     "output_type": "stream",
     "text": [
      "Training: 100%|██████████| 24/24 [00:15<00:00,  1.53it/s, loss=0.827]\n",
      "Validation: 100%|██████████| 4/4 [00:01<00:00,  2.99it/s, loss=0.742]\n"
     ]
    },
    {
     "name": "stdout",
     "output_type": "stream",
     "text": [
      "Validation Dice Score\n",
      "Class 0: 0.5125, Class 1: 0.8532, Class 2: 0.0000, Class 3: 0.0009, \n",
      "Class 4: 0.3670, Class 5: 0.3264, Class 6: 0.4061, \n",
      "Training Loss: 0.8207, Validation Loss: 0.7770\n",
      "Epoch 65/4000\n"
     ]
    },
    {
     "name": "stderr",
     "output_type": "stream",
     "text": [
      "Training: 100%|██████████| 24/24 [00:15<00:00,  1.53it/s, loss=0.812]\n",
      "Validation: 100%|██████████| 4/4 [00:01<00:00,  2.97it/s, loss=0.849]\n"
     ]
    },
    {
     "name": "stdout",
     "output_type": "stream",
     "text": [
      "Validation Dice Score\n",
      "Class 0: 0.5118, Class 1: 0.6636, Class 2: 0.0896, Class 3: 0.0004, \n",
      "Class 4: 0.2870, Class 5: 0.3220, Class 6: 0.3945, \n",
      "Training Loss: 0.8255, Validation Loss: 0.8385\n",
      "Epoch 66/4000\n"
     ]
    },
    {
     "name": "stderr",
     "output_type": "stream",
     "text": [
      "Training: 100%|██████████| 24/24 [00:15<00:00,  1.53it/s, loss=0.765]\n",
      "Validation: 100%|██████████| 4/4 [00:01<00:00,  2.95it/s, loss=0.826]\n"
     ]
    },
    {
     "name": "stdout",
     "output_type": "stream",
     "text": [
      "Validation Dice Score\n",
      "Class 0: 0.5176, Class 1: 0.7632, Class 2: 0.0379, Class 3: 0.0015, \n",
      "Class 4: 0.3372, Class 5: 0.3152, Class 6: 0.6261, \n",
      "Training Loss: 0.8068, Validation Loss: 0.8116\n",
      "Epoch 67/4000\n"
     ]
    },
    {
     "name": "stderr",
     "output_type": "stream",
     "text": [
      "Training: 100%|██████████| 24/24 [00:15<00:00,  1.53it/s, loss=0.857]\n",
      "Validation: 100%|██████████| 4/4 [00:01<00:00,  2.92it/s, loss=0.768]\n"
     ]
    },
    {
     "name": "stdout",
     "output_type": "stream",
     "text": [
      "Validation Dice Score\n",
      "Class 0: 0.5167, Class 1: 0.7905, Class 2: 0.0516, Class 3: 0.0024, \n",
      "Class 4: 0.2058, Class 5: 0.4328, Class 6: 0.5825, \n",
      "Training Loss: 0.8193, Validation Loss: 0.7515\n",
      "Best model saved with validation loss: 0.7515\n",
      "Epoch 68/4000\n"
     ]
    },
    {
     "name": "stderr",
     "output_type": "stream",
     "text": [
      "Training: 100%|██████████| 24/24 [00:15<00:00,  1.54it/s, loss=0.864]\n",
      "Validation: 100%|██████████| 4/4 [00:01<00:00,  2.93it/s, loss=0.778]\n"
     ]
    },
    {
     "name": "stdout",
     "output_type": "stream",
     "text": [
      "Validation Dice Score\n",
      "Class 0: 0.5176, Class 1: 0.7850, Class 2: 0.0000, Class 3: 0.0001, \n",
      "Class 4: 0.1132, Class 5: 0.2134, Class 6: 0.6433, \n",
      "Training Loss: 0.8222, Validation Loss: 0.7885\n",
      "Epoch 69/4000\n"
     ]
    },
    {
     "name": "stderr",
     "output_type": "stream",
     "text": [
      "Training: 100%|██████████| 24/24 [00:15<00:00,  1.53it/s, loss=0.859]\n",
      "Validation: 100%|██████████| 4/4 [00:01<00:00,  2.95it/s, loss=0.752]\n"
     ]
    },
    {
     "name": "stdout",
     "output_type": "stream",
     "text": [
      "Validation Dice Score\n",
      "Class 0: 0.5043, Class 1: 0.8062, Class 2: 0.1114, Class 3: 0.0008, \n",
      "Class 4: 0.1585, Class 5: 0.4269, Class 6: 0.6862, \n",
      "Training Loss: 0.8228, Validation Loss: 0.7701\n",
      "Epoch 70/4000\n"
     ]
    },
    {
     "name": "stderr",
     "output_type": "stream",
     "text": [
      "Training: 100%|██████████| 24/24 [00:15<00:00,  1.54it/s, loss=0.827]\n",
      "Validation: 100%|██████████| 4/4 [00:01<00:00,  2.94it/s, loss=0.791]\n"
     ]
    },
    {
     "name": "stdout",
     "output_type": "stream",
     "text": [
      "Validation Dice Score\n",
      "Class 0: 0.5146, Class 1: 0.8446, Class 2: 0.0872, Class 3: 0.0000, \n",
      "Class 4: 0.2895, Class 5: 0.0675, Class 6: 0.8442, \n",
      "Training Loss: 0.8133, Validation Loss: 0.7734\n",
      "Epoch 71/4000\n"
     ]
    },
    {
     "name": "stderr",
     "output_type": "stream",
     "text": [
      "Training: 100%|██████████| 24/24 [00:15<00:00,  1.53it/s, loss=0.814]\n",
      "Validation: 100%|██████████| 4/4 [00:01<00:00,  2.93it/s, loss=0.795]\n"
     ]
    },
    {
     "name": "stdout",
     "output_type": "stream",
     "text": [
      "Validation Dice Score\n",
      "Class 0: 0.5009, Class 1: 0.8334, Class 2: 0.0093, Class 3: 0.0013, \n",
      "Class 4: 0.1297, Class 5: 0.3770, Class 6: 0.5440, \n",
      "Training Loss: 0.8241, Validation Loss: 0.7812\n",
      "Epoch 72/4000\n"
     ]
    },
    {
     "name": "stderr",
     "output_type": "stream",
     "text": [
      "Training: 100%|██████████| 24/24 [00:15<00:00,  1.54it/s, loss=0.853]\n",
      "Validation: 100%|██████████| 4/4 [00:01<00:00,  3.00it/s, loss=0.858]\n"
     ]
    },
    {
     "name": "stdout",
     "output_type": "stream",
     "text": [
      "Validation Dice Score\n",
      "Class 0: 0.4971, Class 1: 0.7650, Class 2: 0.0111, Class 3: 0.0005, \n",
      "Class 4: 0.2063, Class 5: 0.3590, Class 6: 0.7305, \n",
      "Training Loss: 0.8183, Validation Loss: 0.8038\n",
      "Epoch 73/4000\n"
     ]
    },
    {
     "name": "stderr",
     "output_type": "stream",
     "text": [
      "Training: 100%|██████████| 24/24 [00:15<00:00,  1.53it/s, loss=0.81] \n",
      "Validation: 100%|██████████| 4/4 [00:01<00:00,  2.96it/s, loss=0.727]\n"
     ]
    },
    {
     "name": "stdout",
     "output_type": "stream",
     "text": [
      "Validation Dice Score\n",
      "Class 0: 0.5050, Class 1: 0.7531, Class 2: 0.2468, Class 3: 0.0043, \n",
      "Class 4: 0.3112, Class 5: 0.2813, Class 6: 0.5732, \n",
      "Training Loss: 0.8109, Validation Loss: 0.7778\n",
      "Epoch 74/4000\n"
     ]
    },
    {
     "name": "stderr",
     "output_type": "stream",
     "text": [
      "Training: 100%|██████████| 24/24 [00:15<00:00,  1.53it/s, loss=0.769]\n",
      "Validation: 100%|██████████| 4/4 [00:01<00:00,  3.00it/s, loss=0.831]\n"
     ]
    },
    {
     "name": "stdout",
     "output_type": "stream",
     "text": [
      "Validation Dice Score\n",
      "Class 0: 0.4995, Class 1: 0.8391, Class 2: 0.0055, Class 3: 0.0017, \n",
      "Class 4: 0.2700, Class 5: 0.2295, Class 6: 0.5851, \n",
      "Training Loss: 0.8141, Validation Loss: 0.7799\n",
      "Epoch 75/4000\n"
     ]
    },
    {
     "name": "stderr",
     "output_type": "stream",
     "text": [
      "Training: 100%|██████████| 24/24 [00:15<00:00,  1.53it/s, loss=0.804]\n",
      "Validation: 100%|██████████| 4/4 [00:01<00:00,  2.94it/s, loss=0.812]\n"
     ]
    },
    {
     "name": "stdout",
     "output_type": "stream",
     "text": [
      "Validation Dice Score\n",
      "Class 0: 0.4986, Class 1: 0.8477, Class 2: 0.1557, Class 3: 0.0008, \n",
      "Class 4: 0.0533, Class 5: 0.4732, Class 6: 0.4521, \n",
      "Training Loss: 0.8115, Validation Loss: 0.7756\n",
      "Epoch 76/4000\n"
     ]
    },
    {
     "name": "stderr",
     "output_type": "stream",
     "text": [
      "Training: 100%|██████████| 24/24 [00:15<00:00,  1.54it/s, loss=0.859]\n",
      "Validation: 100%|██████████| 4/4 [00:01<00:00,  2.93it/s, loss=0.837]\n"
     ]
    },
    {
     "name": "stdout",
     "output_type": "stream",
     "text": [
      "Validation Dice Score\n",
      "Class 0: 0.4879, Class 1: 0.8160, Class 2: 0.0616, Class 3: 0.0017, \n",
      "Class 4: 0.2566, Class 5: 0.2071, Class 6: 0.4823, \n",
      "Training Loss: 0.8297, Validation Loss: 0.8025\n",
      "Epoch 77/4000\n"
     ]
    },
    {
     "name": "stderr",
     "output_type": "stream",
     "text": [
      "Training: 100%|██████████| 24/24 [00:15<00:00,  1.53it/s, loss=0.82] \n",
      "Validation: 100%|██████████| 4/4 [00:01<00:00,  2.97it/s, loss=0.811]\n"
     ]
    },
    {
     "name": "stdout",
     "output_type": "stream",
     "text": [
      "Validation Dice Score\n",
      "Class 0: 0.4949, Class 1: 0.8573, Class 2: 0.0589, Class 3: 0.0002, \n",
      "Class 4: 0.1802, Class 5: 0.4724, Class 6: 0.7038, \n",
      "Training Loss: 0.8249, Validation Loss: 0.7989\n",
      "Epoch 78/4000\n"
     ]
    },
    {
     "name": "stderr",
     "output_type": "stream",
     "text": [
      "Training: 100%|██████████| 24/24 [00:15<00:00,  1.54it/s, loss=0.747]\n",
      "Validation: 100%|██████████| 4/4 [00:01<00:00,  2.99it/s, loss=0.817]\n"
     ]
    },
    {
     "name": "stdout",
     "output_type": "stream",
     "text": [
      "Validation Dice Score\n",
      "Class 0: 0.4931, Class 1: 0.8076, Class 2: 0.0421, Class 3: 0.0010, \n",
      "Class 4: 0.1138, Class 5: 0.2607, Class 6: 0.6306, \n",
      "Training Loss: 0.8002, Validation Loss: 0.7851\n",
      "Epoch 79/4000\n"
     ]
    },
    {
     "name": "stderr",
     "output_type": "stream",
     "text": [
      "Training: 100%|██████████| 24/24 [00:15<00:00,  1.53it/s, loss=0.845]\n",
      "Validation: 100%|██████████| 4/4 [00:01<00:00,  2.92it/s, loss=0.783]\n"
     ]
    },
    {
     "name": "stdout",
     "output_type": "stream",
     "text": [
      "Validation Dice Score\n",
      "Class 0: 0.5000, Class 1: 0.8132, Class 2: 0.0209, Class 3: 0.0010, \n",
      "Class 4: 0.3783, Class 5: 0.2284, Class 6: 0.3876, \n",
      "Training Loss: 0.8122, Validation Loss: 0.7985\n",
      "Epoch 80/4000\n"
     ]
    },
    {
     "name": "stderr",
     "output_type": "stream",
     "text": [
      "Training: 100%|██████████| 24/24 [00:15<00:00,  1.54it/s, loss=0.736]\n",
      "Validation: 100%|██████████| 4/4 [00:01<00:00,  2.95it/s, loss=0.714]\n"
     ]
    },
    {
     "name": "stdout",
     "output_type": "stream",
     "text": [
      "Validation Dice Score\n",
      "Class 0: 0.5037, Class 1: 0.8608, Class 2: 0.0516, Class 3: 0.0012, \n",
      "Class 4: 0.2420, Class 5: 0.4111, Class 6: 0.7679, \n",
      "Training Loss: 0.8194, Validation Loss: 0.7315\n",
      "Best model saved with validation loss: 0.7315\n",
      "Epoch 81/4000\n"
     ]
    },
    {
     "name": "stderr",
     "output_type": "stream",
     "text": [
      "Training: 100%|██████████| 24/24 [00:15<00:00,  1.53it/s, loss=0.81] \n",
      "Validation: 100%|██████████| 4/4 [00:01<00:00,  2.92it/s, loss=0.861]\n"
     ]
    },
    {
     "name": "stdout",
     "output_type": "stream",
     "text": [
      "Validation Dice Score\n",
      "Class 0: 0.5173, Class 1: 0.8578, Class 2: 0.1582, Class 3: 0.0004, \n",
      "Class 4: 0.0110, Class 5: 0.3288, Class 6: 0.8133, \n",
      "Training Loss: 0.8041, Validation Loss: 0.8015\n",
      "Epoch 82/4000\n"
     ]
    },
    {
     "name": "stderr",
     "output_type": "stream",
     "text": [
      "Training: 100%|██████████| 24/24 [00:15<00:00,  1.53it/s, loss=0.731]\n",
      "Validation: 100%|██████████| 4/4 [00:01<00:00,  2.92it/s, loss=0.764]\n"
     ]
    },
    {
     "name": "stdout",
     "output_type": "stream",
     "text": [
      "Validation Dice Score\n",
      "Class 0: 0.5166, Class 1: 0.7518, Class 2: 0.0301, Class 3: 0.0010, \n",
      "Class 4: 0.0128, Class 5: 0.1942, Class 6: 0.7923, \n",
      "Training Loss: 0.8272, Validation Loss: 0.8102\n",
      "Epoch 83/4000\n"
     ]
    },
    {
     "name": "stderr",
     "output_type": "stream",
     "text": [
      "Training: 100%|██████████| 24/24 [00:15<00:00,  1.53it/s, loss=0.86] \n",
      "Validation: 100%|██████████| 4/4 [00:01<00:00,  2.95it/s, loss=0.729]\n"
     ]
    },
    {
     "name": "stdout",
     "output_type": "stream",
     "text": [
      "Validation Dice Score\n",
      "Class 0: 0.5133, Class 1: 0.8486, Class 2: 0.0030, Class 3: 0.0005, \n",
      "Class 4: 0.1098, Class 5: 0.3130, Class 6: 0.6437, \n",
      "Training Loss: 0.8154, Validation Loss: 0.7578\n",
      "Epoch 84/4000\n"
     ]
    },
    {
     "name": "stderr",
     "output_type": "stream",
     "text": [
      "Training: 100%|██████████| 24/24 [00:15<00:00,  1.54it/s, loss=0.804]\n",
      "Validation: 100%|██████████| 4/4 [00:01<00:00,  2.93it/s, loss=0.826]\n"
     ]
    },
    {
     "name": "stdout",
     "output_type": "stream",
     "text": [
      "Validation Dice Score\n",
      "Class 0: 0.5132, Class 1: 0.8029, Class 2: 0.0637, Class 3: 0.0009, \n",
      "Class 4: 0.4147, Class 5: 0.3333, Class 6: 0.5968, \n",
      "Training Loss: 0.8340, Validation Loss: 0.7919\n",
      "Epoch 85/4000\n"
     ]
    },
    {
     "name": "stderr",
     "output_type": "stream",
     "text": [
      "Training: 100%|██████████| 24/24 [00:15<00:00,  1.53it/s, loss=0.803]\n",
      "Validation: 100%|██████████| 4/4 [00:01<00:00,  2.95it/s, loss=0.765]\n"
     ]
    },
    {
     "name": "stdout",
     "output_type": "stream",
     "text": [
      "Validation Dice Score\n",
      "Class 0: 0.5138, Class 1: 0.8267, Class 2: 0.0000, Class 3: 0.0001, \n",
      "Class 4: 0.2196, Class 5: 0.3869, Class 6: 0.5585, \n",
      "Training Loss: 0.8153, Validation Loss: 0.7529\n",
      "Epoch 86/4000\n"
     ]
    },
    {
     "name": "stderr",
     "output_type": "stream",
     "text": [
      "Training: 100%|██████████| 24/24 [00:15<00:00,  1.53it/s, loss=0.828]\n",
      "Validation: 100%|██████████| 4/4 [00:01<00:00,  2.93it/s, loss=0.809]\n"
     ]
    },
    {
     "name": "stdout",
     "output_type": "stream",
     "text": [
      "Validation Dice Score\n",
      "Class 0: 0.5036, Class 1: 0.8248, Class 2: 0.0000, Class 3: 0.0005, \n",
      "Class 4: 0.2672, Class 5: 0.2330, Class 6: 0.6000, \n",
      "Training Loss: 0.8120, Validation Loss: 0.7931\n",
      "Epoch 87/4000\n"
     ]
    },
    {
     "name": "stderr",
     "output_type": "stream",
     "text": [
      "Training: 100%|██████████| 24/24 [00:15<00:00,  1.53it/s, loss=0.808]\n",
      "Validation: 100%|██████████| 4/4 [00:01<00:00,  3.02it/s, loss=0.864]\n"
     ]
    },
    {
     "name": "stdout",
     "output_type": "stream",
     "text": [
      "Validation Dice Score\n",
      "Class 0: 0.5111, Class 1: 0.8060, Class 2: 0.0098, Class 3: 0.0005, \n",
      "Class 4: 0.0598, Class 5: 0.2354, Class 6: 0.6309, \n",
      "Training Loss: 0.8208, Validation Loss: 0.8184\n",
      "Epoch 88/4000\n"
     ]
    },
    {
     "name": "stderr",
     "output_type": "stream",
     "text": [
      "Training: 100%|██████████| 24/24 [00:15<00:00,  1.53it/s, loss=0.869]\n",
      "Validation: 100%|██████████| 4/4 [00:01<00:00,  3.01it/s, loss=0.803]\n"
     ]
    },
    {
     "name": "stdout",
     "output_type": "stream",
     "text": [
      "Validation Dice Score\n",
      "Class 0: 0.5005, Class 1: 0.8309, Class 2: 0.0152, Class 3: 0.0016, \n",
      "Class 4: 0.1090, Class 5: 0.4206, Class 6: 0.8386, \n",
      "Training Loss: 0.8187, Validation Loss: 0.7610\n",
      "Epoch 89/4000\n"
     ]
    },
    {
     "name": "stderr",
     "output_type": "stream",
     "text": [
      "Training: 100%|██████████| 24/24 [00:15<00:00,  1.53it/s, loss=0.867]\n",
      "Validation: 100%|██████████| 4/4 [00:01<00:00,  2.99it/s, loss=0.685]\n"
     ]
    },
    {
     "name": "stdout",
     "output_type": "stream",
     "text": [
      "Validation Dice Score\n",
      "Class 0: 0.5055, Class 1: 0.7350, Class 2: 0.0951, Class 3: 0.0013, \n",
      "Class 4: 0.3804, Class 5: 0.2388, Class 6: 0.6398, \n",
      "Training Loss: 0.8230, Validation Loss: 0.7633\n",
      "Epoch 90/4000\n"
     ]
    },
    {
     "name": "stderr",
     "output_type": "stream",
     "text": [
      "Training: 100%|██████████| 24/24 [00:15<00:00,  1.53it/s, loss=0.872]\n",
      "Validation: 100%|██████████| 4/4 [00:01<00:00,  2.94it/s, loss=0.798]\n"
     ]
    },
    {
     "name": "stdout",
     "output_type": "stream",
     "text": [
      "Validation Dice Score\n",
      "Class 0: 0.5142, Class 1: 0.8472, Class 2: 0.0290, Class 3: 0.0005, \n",
      "Class 4: 0.0966, Class 5: 0.2276, Class 6: 0.8007, \n",
      "Training Loss: 0.8365, Validation Loss: 0.7937\n",
      "Epoch 91/4000\n"
     ]
    },
    {
     "name": "stderr",
     "output_type": "stream",
     "text": [
      "Training: 100%|██████████| 24/24 [00:15<00:00,  1.53it/s, loss=0.798]\n",
      "Validation: 100%|██████████| 4/4 [00:01<00:00,  2.92it/s, loss=0.784]\n"
     ]
    },
    {
     "name": "stdout",
     "output_type": "stream",
     "text": [
      "Validation Dice Score\n",
      "Class 0: 0.5155, Class 1: 0.8657, Class 2: 0.0409, Class 3: 0.0024, \n",
      "Class 4: 0.2942, Class 5: 0.3284, Class 6: 0.8162, \n",
      "Training Loss: 0.8198, Validation Loss: 0.7495\n",
      "Epoch 92/4000\n"
     ]
    },
    {
     "name": "stderr",
     "output_type": "stream",
     "text": [
      "Training: 100%|██████████| 24/24 [00:15<00:00,  1.54it/s, loss=0.831]\n",
      "Validation: 100%|██████████| 4/4 [00:01<00:00,  2.97it/s, loss=0.846]\n"
     ]
    },
    {
     "name": "stdout",
     "output_type": "stream",
     "text": [
      "Validation Dice Score\n",
      "Class 0: 0.5123, Class 1: 0.7599, Class 2: 0.1240, Class 3: 0.0007, \n",
      "Class 4: 0.2126, Class 5: 0.2579, Class 6: 0.7557, \n",
      "Training Loss: 0.8163, Validation Loss: 0.8113\n",
      "Epoch 93/4000\n"
     ]
    },
    {
     "name": "stderr",
     "output_type": "stream",
     "text": [
      "Training: 100%|██████████| 24/24 [00:15<00:00,  1.53it/s, loss=0.72] \n",
      "Validation: 100%|██████████| 4/4 [00:01<00:00,  2.95it/s, loss=0.835]\n"
     ]
    },
    {
     "name": "stdout",
     "output_type": "stream",
     "text": [
      "Validation Dice Score\n",
      "Class 0: 0.5041, Class 1: 0.8129, Class 2: 0.0000, Class 3: 0.0005, \n",
      "Class 4: 0.1447, Class 5: 0.0584, Class 6: 0.7261, \n",
      "Training Loss: 0.8357, Validation Loss: 0.8075\n",
      "Epoch 94/4000\n"
     ]
    },
    {
     "name": "stderr",
     "output_type": "stream",
     "text": [
      "Training: 100%|██████████| 24/24 [00:15<00:00,  1.54it/s, loss=0.787]\n",
      "Validation: 100%|██████████| 4/4 [00:01<00:00,  2.92it/s, loss=0.813]\n"
     ]
    },
    {
     "name": "stdout",
     "output_type": "stream",
     "text": [
      "Validation Dice Score\n",
      "Class 0: 0.5154, Class 1: 0.8354, Class 2: 0.0830, Class 3: 0.0007, \n",
      "Class 4: 0.1256, Class 5: 0.2997, Class 6: 0.6472, \n",
      "Training Loss: 0.8112, Validation Loss: 0.7654\n",
      "Epoch 95/4000\n"
     ]
    },
    {
     "name": "stderr",
     "output_type": "stream",
     "text": [
      "Training: 100%|██████████| 24/24 [00:15<00:00,  1.52it/s, loss=0.826]\n",
      "Validation: 100%|██████████| 4/4 [00:01<00:00,  2.80it/s, loss=0.797]\n"
     ]
    },
    {
     "name": "stdout",
     "output_type": "stream",
     "text": [
      "Validation Dice Score\n",
      "Class 0: 0.5099, Class 1: 0.8648, Class 2: 0.0577, Class 3: 0.0002, \n",
      "Class 4: 0.2596, Class 5: 0.2448, Class 6: 0.3913, \n",
      "Training Loss: 0.8327, Validation Loss: 0.8102\n",
      "Epoch 96/4000\n"
     ]
    },
    {
     "name": "stderr",
     "output_type": "stream",
     "text": [
      "Training: 100%|██████████| 24/24 [00:15<00:00,  1.51it/s, loss=0.841]\n",
      "Validation: 100%|██████████| 4/4 [00:01<00:00,  3.02it/s, loss=0.729]\n"
     ]
    },
    {
     "name": "stdout",
     "output_type": "stream",
     "text": [
      "Validation Dice Score\n",
      "Class 0: 0.5072, Class 1: 0.8127, Class 2: 0.0233, Class 3: 0.0010, \n",
      "Class 4: 0.1408, Class 5: 0.4408, Class 6: 0.5537, \n",
      "Training Loss: 0.8158, Validation Loss: 0.7858\n",
      "Epoch 97/4000\n"
     ]
    },
    {
     "name": "stderr",
     "output_type": "stream",
     "text": [
      "Training: 100%|██████████| 24/24 [00:15<00:00,  1.54it/s, loss=0.747]\n",
      "Validation: 100%|██████████| 4/4 [00:01<00:00,  2.96it/s, loss=0.805]\n"
     ]
    },
    {
     "name": "stdout",
     "output_type": "stream",
     "text": [
      "Validation Dice Score\n",
      "Class 0: 0.5037, Class 1: 0.8392, Class 2: 0.0849, Class 3: 0.0014, \n",
      "Class 4: 0.0301, Class 5: 0.3164, Class 6: 0.4200, \n",
      "Training Loss: 0.8093, Validation Loss: 0.8213\n",
      "Epoch 98/4000\n"
     ]
    },
    {
     "name": "stderr",
     "output_type": "stream",
     "text": [
      "Training: 100%|██████████| 24/24 [00:15<00:00,  1.53it/s, loss=0.814]\n",
      "Validation: 100%|██████████| 4/4 [00:01<00:00,  2.95it/s, loss=0.782]\n"
     ]
    },
    {
     "name": "stdout",
     "output_type": "stream",
     "text": [
      "Validation Dice Score\n",
      "Class 0: 0.5136, Class 1: 0.8764, Class 2: 0.0594, Class 3: 0.0009, \n",
      "Class 4: 0.2562, Class 5: 0.4186, Class 6: 0.8001, \n",
      "Training Loss: 0.8130, Validation Loss: 0.7788\n",
      "Epoch 99/4000\n"
     ]
    },
    {
     "name": "stderr",
     "output_type": "stream",
     "text": [
      "Training: 100%|██████████| 24/24 [00:15<00:00,  1.53it/s, loss=0.852]\n",
      "Validation: 100%|██████████| 4/4 [00:01<00:00,  2.97it/s, loss=0.763]\n"
     ]
    },
    {
     "name": "stdout",
     "output_type": "stream",
     "text": [
      "Validation Dice Score\n",
      "Class 0: 0.5086, Class 1: 0.8133, Class 2: 0.0801, Class 3: 0.0006, \n",
      "Class 4: 0.1107, Class 5: 0.2984, Class 6: 0.8277, \n",
      "Training Loss: 0.8251, Validation Loss: 0.7677\n",
      "Epoch 100/4000\n"
     ]
    },
    {
     "name": "stderr",
     "output_type": "stream",
     "text": [
      "Training: 100%|██████████| 24/24 [00:15<00:00,  1.53it/s, loss=0.776]\n",
      "Validation: 100%|██████████| 4/4 [00:01<00:00,  3.00it/s, loss=0.788]\n"
     ]
    },
    {
     "name": "stdout",
     "output_type": "stream",
     "text": [
      "Validation Dice Score\n",
      "Class 0: 0.5080, Class 1: 0.7204, Class 2: 0.0000, Class 3: 0.0024, \n",
      "Class 4: 0.1317, Class 5: 0.3090, Class 6: 0.6339, \n",
      "Training Loss: 0.8068, Validation Loss: 0.8221\n",
      "Epoch 101/4000\n"
     ]
    },
    {
     "name": "stderr",
     "output_type": "stream",
     "text": [
      "Training: 100%|██████████| 24/24 [00:15<00:00,  1.53it/s, loss=0.821]\n",
      "Validation: 100%|██████████| 4/4 [00:01<00:00,  2.94it/s, loss=0.863]\n"
     ]
    },
    {
     "name": "stdout",
     "output_type": "stream",
     "text": [
      "Validation Dice Score\n",
      "Class 0: 0.5128, Class 1: 0.8238, Class 2: 0.0579, Class 3: 0.0012, \n",
      "Class 4: 0.1064, Class 5: 0.1712, Class 6: 0.2231, \n",
      "Training Loss: 0.7942, Validation Loss: 0.8350\n",
      "Epoch 102/4000\n"
     ]
    },
    {
     "name": "stderr",
     "output_type": "stream",
     "text": [
      "Training: 100%|██████████| 24/24 [00:15<00:00,  1.53it/s, loss=0.772]\n",
      "Validation: 100%|██████████| 4/4 [00:01<00:00,  2.92it/s, loss=0.823]\n"
     ]
    },
    {
     "name": "stdout",
     "output_type": "stream",
     "text": [
      "Validation Dice Score\n",
      "Class 0: 0.5089, Class 1: 0.7758, Class 2: 0.0406, Class 3: 0.0006, \n",
      "Class 4: 0.1311, Class 5: 0.2830, Class 6: 0.3676, \n",
      "Training Loss: 0.8138, Validation Loss: 0.8372\n",
      "Epoch 103/4000\n"
     ]
    },
    {
     "name": "stderr",
     "output_type": "stream",
     "text": [
      "Training: 100%|██████████| 24/24 [00:15<00:00,  1.54it/s, loss=0.81] \n",
      "Validation: 100%|██████████| 4/4 [00:01<00:00,  2.93it/s, loss=0.828]\n"
     ]
    },
    {
     "name": "stdout",
     "output_type": "stream",
     "text": [
      "Validation Dice Score\n",
      "Class 0: 0.4967, Class 1: 0.8349, Class 2: 0.1075, Class 3: 0.0001, \n",
      "Class 4: 0.2713, Class 5: 0.3557, Class 6: 0.4888, \n",
      "Training Loss: 0.7975, Validation Loss: 0.7991\n",
      "Epoch 104/4000\n"
     ]
    },
    {
     "name": "stderr",
     "output_type": "stream",
     "text": [
      "Training: 100%|██████████| 24/24 [00:15<00:00,  1.53it/s, loss=0.787]\n",
      "Validation: 100%|██████████| 4/4 [00:01<00:00,  3.00it/s, loss=0.729]\n"
     ]
    },
    {
     "name": "stdout",
     "output_type": "stream",
     "text": [
      "Validation Dice Score\n",
      "Class 0: 0.5100, Class 1: 0.8012, Class 2: 0.1180, Class 3: 0.0009, \n",
      "Class 4: 0.1296, Class 5: 0.2636, Class 6: 0.7171, \n",
      "Training Loss: 0.8097, Validation Loss: 0.7773\n",
      "Epoch 105/4000\n"
     ]
    },
    {
     "name": "stderr",
     "output_type": "stream",
     "text": [
      "Training: 100%|██████████| 24/24 [00:15<00:00,  1.53it/s, loss=0.794]\n",
      "Validation: 100%|██████████| 4/4 [00:01<00:00,  2.90it/s, loss=0.799]\n"
     ]
    },
    {
     "name": "stdout",
     "output_type": "stream",
     "text": [
      "Validation Dice Score\n",
      "Class 0: 0.5185, Class 1: 0.8559, Class 2: 0.0000, Class 3: 0.0001, \n",
      "Class 4: 0.1160, Class 5: 0.3479, Class 6: 0.4681, \n",
      "Training Loss: 0.7986, Validation Loss: 0.7542\n",
      "Epoch 106/4000\n"
     ]
    },
    {
     "name": "stderr",
     "output_type": "stream",
     "text": [
      "Training: 100%|██████████| 24/24 [00:15<00:00,  1.54it/s, loss=0.796]\n",
      "Validation: 100%|██████████| 4/4 [00:01<00:00,  2.90it/s, loss=0.78] \n"
     ]
    },
    {
     "name": "stdout",
     "output_type": "stream",
     "text": [
      "Validation Dice Score\n",
      "Class 0: 0.5236, Class 1: 0.7984, Class 2: 0.0884, Class 3: 0.0011, \n",
      "Class 4: 0.1065, Class 5: 0.5088, Class 6: 0.6991, \n",
      "Training Loss: 0.8040, Validation Loss: 0.7709\n",
      "Epoch 107/4000\n"
     ]
    },
    {
     "name": "stderr",
     "output_type": "stream",
     "text": [
      "Training: 100%|██████████| 24/24 [00:15<00:00,  1.53it/s, loss=0.769]\n",
      "Validation: 100%|██████████| 4/4 [00:01<00:00,  2.99it/s, loss=0.804]\n"
     ]
    },
    {
     "name": "stdout",
     "output_type": "stream",
     "text": [
      "Validation Dice Score\n",
      "Class 0: 0.5152, Class 1: 0.7787, Class 2: 0.1790, Class 3: 0.0017, \n",
      "Class 4: 0.1494, Class 5: 0.2661, Class 6: 0.3080, \n",
      "Training Loss: 0.8053, Validation Loss: 0.7887\n",
      "Epoch 108/4000\n"
     ]
    },
    {
     "name": "stderr",
     "output_type": "stream",
     "text": [
      "Training: 100%|██████████| 24/24 [00:15<00:00,  1.53it/s, loss=0.813]\n",
      "Validation: 100%|██████████| 4/4 [00:01<00:00,  2.92it/s, loss=0.842]\n"
     ]
    },
    {
     "name": "stdout",
     "output_type": "stream",
     "text": [
      "Validation Dice Score\n",
      "Class 0: 0.5197, Class 1: 0.7754, Class 2: 0.0000, Class 3: 0.0005, \n",
      "Class 4: 0.0408, Class 5: 0.4075, Class 6: 0.6043, \n",
      "Training Loss: 0.8313, Validation Loss: 0.7847\n",
      "Epoch 109/4000\n"
     ]
    },
    {
     "name": "stderr",
     "output_type": "stream",
     "text": [
      "Training: 100%|██████████| 24/24 [00:15<00:00,  1.54it/s, loss=0.792]\n",
      "Validation: 100%|██████████| 4/4 [00:01<00:00,  2.93it/s, loss=0.801]\n"
     ]
    },
    {
     "name": "stdout",
     "output_type": "stream",
     "text": [
      "Validation Dice Score\n",
      "Class 0: 0.5254, Class 1: 0.8356, Class 2: 0.0112, Class 3: 0.0021, \n",
      "Class 4: 0.3985, Class 5: 0.4039, Class 6: 0.6174, \n",
      "Training Loss: 0.8171, Validation Loss: 0.7588\n",
      "Epoch 110/4000\n"
     ]
    },
    {
     "name": "stderr",
     "output_type": "stream",
     "text": [
      "Training: 100%|██████████| 24/24 [00:15<00:00,  1.53it/s, loss=0.805]\n",
      "Validation: 100%|██████████| 4/4 [00:01<00:00,  2.95it/s, loss=0.848]\n"
     ]
    },
    {
     "name": "stdout",
     "output_type": "stream",
     "text": [
      "Validation Dice Score\n",
      "Class 0: 0.5202, Class 1: 0.8143, Class 2: 0.0927, Class 3: 0.0015, \n",
      "Class 4: 0.1831, Class 5: 0.2152, Class 6: 0.5808, \n",
      "Training Loss: 0.8024, Validation Loss: 0.7918\n",
      "Epoch 111/4000\n"
     ]
    },
    {
     "name": "stderr",
     "output_type": "stream",
     "text": [
      "Training: 100%|██████████| 24/24 [00:15<00:00,  1.54it/s, loss=0.869]\n",
      "Validation: 100%|██████████| 4/4 [00:01<00:00,  2.91it/s, loss=0.78] \n"
     ]
    },
    {
     "name": "stdout",
     "output_type": "stream",
     "text": [
      "Validation Dice Score\n",
      "Class 0: 0.5265, Class 1: 0.8131, Class 2: 0.0458, Class 3: 0.0002, \n",
      "Class 4: 0.0952, Class 5: 0.1980, Class 6: 0.7540, \n",
      "Training Loss: 0.8163, Validation Loss: 0.7866\n",
      "Epoch 112/4000\n"
     ]
    },
    {
     "name": "stderr",
     "output_type": "stream",
     "text": [
      "Training: 100%|██████████| 24/24 [00:15<00:00,  1.53it/s, loss=0.808]\n",
      "Validation: 100%|██████████| 4/4 [00:01<00:00,  2.93it/s, loss=0.787]\n"
     ]
    },
    {
     "name": "stdout",
     "output_type": "stream",
     "text": [
      "Validation Dice Score\n",
      "Class 0: 0.5195, Class 1: 0.6663, Class 2: 0.0605, Class 3: 0.0013, \n",
      "Class 4: 0.2720, Class 5: 0.1361, Class 6: 0.4638, \n",
      "Training Loss: 0.8188, Validation Loss: 0.8175\n",
      "Epoch 113/4000\n"
     ]
    },
    {
     "name": "stderr",
     "output_type": "stream",
     "text": [
      "Training: 100%|██████████| 24/24 [00:15<00:00,  1.52it/s, loss=0.766]\n",
      "Validation: 100%|██████████| 4/4 [00:01<00:00,  2.90it/s, loss=0.793]\n"
     ]
    },
    {
     "name": "stdout",
     "output_type": "stream",
     "text": [
      "Validation Dice Score\n",
      "Class 0: 0.5221, Class 1: 0.7161, Class 2: 0.1328, Class 3: 0.0021, \n",
      "Class 4: 0.0028, Class 5: 0.4725, Class 6: 0.7998, \n",
      "Training Loss: 0.8083, Validation Loss: 0.7840\n",
      "Epoch 114/4000\n"
     ]
    },
    {
     "name": "stderr",
     "output_type": "stream",
     "text": [
      "Training: 100%|██████████| 24/24 [00:15<00:00,  1.53it/s, loss=0.794]\n",
      "Validation: 100%|██████████| 4/4 [00:01<00:00,  2.93it/s, loss=0.736]\n"
     ]
    },
    {
     "name": "stdout",
     "output_type": "stream",
     "text": [
      "Validation Dice Score\n",
      "Class 0: 0.5177, Class 1: 0.7525, Class 2: 0.2401, Class 3: 0.0001, \n",
      "Class 4: 0.1470, Class 5: 0.4378, Class 6: 0.2946, \n",
      "Training Loss: 0.8056, Validation Loss: 0.7837\n",
      "Epoch 115/4000\n"
     ]
    },
    {
     "name": "stderr",
     "output_type": "stream",
     "text": [
      "Training: 100%|██████████| 24/24 [00:15<00:00,  1.53it/s, loss=0.647]\n",
      "Validation: 100%|██████████| 4/4 [00:01<00:00,  2.94it/s, loss=0.765]\n"
     ]
    },
    {
     "name": "stdout",
     "output_type": "stream",
     "text": [
      "Validation Dice Score\n",
      "Class 0: 0.5204, Class 1: 0.7966, Class 2: 0.0000, Class 3: 0.0005, \n",
      "Class 4: 0.3461, Class 5: 0.2383, Class 6: 0.6362, \n",
      "Training Loss: 0.8160, Validation Loss: 0.8033\n",
      "Epoch 116/4000\n"
     ]
    },
    {
     "name": "stderr",
     "output_type": "stream",
     "text": [
      "Training: 100%|██████████| 24/24 [00:15<00:00,  1.53it/s, loss=0.815]\n",
      "Validation: 100%|██████████| 4/4 [00:01<00:00,  3.01it/s, loss=0.792]\n"
     ]
    },
    {
     "name": "stdout",
     "output_type": "stream",
     "text": [
      "Validation Dice Score\n",
      "Class 0: 0.5186, Class 1: 0.7556, Class 2: 0.0101, Class 3: 0.0004, \n",
      "Class 4: 0.0557, Class 5: 0.3582, Class 6: 0.5911, \n",
      "Training Loss: 0.8139, Validation Loss: 0.8021\n",
      "Epoch 117/4000\n"
     ]
    },
    {
     "name": "stderr",
     "output_type": "stream",
     "text": [
      "Training: 100%|██████████| 24/24 [00:15<00:00,  1.54it/s, loss=0.801]\n",
      "Validation: 100%|██████████| 4/4 [00:01<00:00,  2.93it/s, loss=0.801]\n"
     ]
    },
    {
     "name": "stdout",
     "output_type": "stream",
     "text": [
      "Validation Dice Score\n",
      "Class 0: 0.5193, Class 1: 0.8308, Class 2: 0.0851, Class 3: 0.0011, \n",
      "Class 4: 0.1703, Class 5: 0.1266, Class 6: 0.5950, \n",
      "Training Loss: 0.7994, Validation Loss: 0.8014\n",
      "Epoch 118/4000\n"
     ]
    },
    {
     "name": "stderr",
     "output_type": "stream",
     "text": [
      "Training: 100%|██████████| 24/24 [00:15<00:00,  1.53it/s, loss=0.761]\n",
      "Validation: 100%|██████████| 4/4 [00:01<00:00,  2.98it/s, loss=0.839]\n"
     ]
    },
    {
     "name": "stdout",
     "output_type": "stream",
     "text": [
      "Validation Dice Score\n",
      "Class 0: 0.5221, Class 1: 0.7917, Class 2: 0.1723, Class 3: 0.0001, \n",
      "Class 4: 0.2328, Class 5: 0.4324, Class 6: 0.6172, \n",
      "Training Loss: 0.8127, Validation Loss: 0.7710\n",
      "Epoch 119/4000\n"
     ]
    },
    {
     "name": "stderr",
     "output_type": "stream",
     "text": [
      "Training: 100%|██████████| 24/24 [00:15<00:00,  1.53it/s, loss=0.783]\n",
      "Validation: 100%|██████████| 4/4 [00:01<00:00,  2.99it/s, loss=0.74] \n"
     ]
    },
    {
     "name": "stdout",
     "output_type": "stream",
     "text": [
      "Validation Dice Score\n",
      "Class 0: 0.5236, Class 1: 0.8136, Class 2: 0.0249, Class 3: 0.0008, \n",
      "Class 4: 0.2960, Class 5: 0.2650, Class 6: 0.6397, \n",
      "Training Loss: 0.8137, Validation Loss: 0.7682\n",
      "Epoch 120/4000\n"
     ]
    },
    {
     "name": "stderr",
     "output_type": "stream",
     "text": [
      "Training: 100%|██████████| 24/24 [00:15<00:00,  1.54it/s, loss=0.799]\n",
      "Validation: 100%|██████████| 4/4 [00:01<00:00,  2.91it/s, loss=0.774]\n"
     ]
    },
    {
     "name": "stdout",
     "output_type": "stream",
     "text": [
      "Validation Dice Score\n",
      "Class 0: 0.5322, Class 1: 0.7563, Class 2: 0.0417, Class 3: 0.0011, \n",
      "Class 4: 0.2702, Class 5: 0.3023, Class 6: 0.8142, \n",
      "Training Loss: 0.8226, Validation Loss: 0.8036\n",
      "Epoch 121/4000\n"
     ]
    },
    {
     "name": "stderr",
     "output_type": "stream",
     "text": [
      "Training: 100%|██████████| 24/24 [00:15<00:00,  1.54it/s, loss=0.77] \n",
      "Validation: 100%|██████████| 4/4 [00:01<00:00,  2.92it/s, loss=0.825]\n"
     ]
    },
    {
     "name": "stdout",
     "output_type": "stream",
     "text": [
      "Validation Dice Score\n",
      "Class 0: 0.5314, Class 1: 0.7756, Class 2: 0.1424, Class 3: 0.0008, \n",
      "Class 4: 0.2918, Class 5: 0.3522, Class 6: 0.5283, \n",
      "Training Loss: 0.7966, Validation Loss: 0.8028\n",
      "Epoch 122/4000\n"
     ]
    },
    {
     "name": "stderr",
     "output_type": "stream",
     "text": [
      "Training: 100%|██████████| 24/24 [00:15<00:00,  1.54it/s, loss=0.81] \n",
      "Validation: 100%|██████████| 4/4 [00:01<00:00,  2.93it/s, loss=0.896]\n"
     ]
    },
    {
     "name": "stdout",
     "output_type": "stream",
     "text": [
      "Validation Dice Score\n",
      "Class 0: 0.5194, Class 1: 0.7570, Class 2: 0.0101, Class 3: 0.0023, \n",
      "Class 4: 0.4355, Class 5: 0.4026, Class 6: 0.5902, \n",
      "Training Loss: 0.8113, Validation Loss: 0.7961\n",
      "Epoch 123/4000\n"
     ]
    },
    {
     "name": "stderr",
     "output_type": "stream",
     "text": [
      "Training: 100%|██████████| 24/24 [00:15<00:00,  1.53it/s, loss=0.852]\n",
      "Validation: 100%|██████████| 4/4 [00:01<00:00,  2.93it/s, loss=0.844]\n"
     ]
    },
    {
     "name": "stdout",
     "output_type": "stream",
     "text": [
      "Validation Dice Score\n",
      "Class 0: 0.5326, Class 1: 0.8514, Class 2: 0.1675, Class 3: 0.0014, \n",
      "Class 4: 0.0765, Class 5: 0.3707, Class 6: 0.5485, \n",
      "Training Loss: 0.8123, Validation Loss: 0.7937\n",
      "Epoch 124/4000\n"
     ]
    },
    {
     "name": "stderr",
     "output_type": "stream",
     "text": [
      "Training: 100%|██████████| 24/24 [00:15<00:00,  1.53it/s, loss=0.812]\n",
      "Validation: 100%|██████████| 4/4 [00:01<00:00,  2.92it/s, loss=0.684]\n"
     ]
    },
    {
     "name": "stdout",
     "output_type": "stream",
     "text": [
      "Validation Dice Score\n",
      "Class 0: 0.5159, Class 1: 0.8584, Class 2: 0.1168, Class 3: 0.0022, \n",
      "Class 4: 0.2292, Class 5: 0.3271, Class 6: 0.8315, \n",
      "Training Loss: 0.8145, Validation Loss: 0.7489\n",
      "Epoch 125/4000\n"
     ]
    },
    {
     "name": "stderr",
     "output_type": "stream",
     "text": [
      "Training: 100%|██████████| 24/24 [00:15<00:00,  1.53it/s, loss=0.79] \n",
      "Validation: 100%|██████████| 4/4 [00:01<00:00,  2.91it/s, loss=0.751]\n"
     ]
    },
    {
     "name": "stdout",
     "output_type": "stream",
     "text": [
      "Validation Dice Score\n",
      "Class 0: 0.5206, Class 1: 0.8614, Class 2: 0.0024, Class 3: 0.0010, \n",
      "Class 4: 0.3870, Class 5: 0.3335, Class 6: 0.6257, \n",
      "Training Loss: 0.8006, Validation Loss: 0.7765\n",
      "Epoch 126/4000\n"
     ]
    },
    {
     "name": "stderr",
     "output_type": "stream",
     "text": [
      "Training: 100%|██████████| 24/24 [00:15<00:00,  1.54it/s, loss=0.808]\n",
      "Validation: 100%|██████████| 4/4 [00:01<00:00,  2.92it/s, loss=0.783]\n"
     ]
    },
    {
     "name": "stdout",
     "output_type": "stream",
     "text": [
      "Validation Dice Score\n",
      "Class 0: 0.5227, Class 1: 0.8420, Class 2: 0.0000, Class 3: 0.0010, \n",
      "Class 4: 0.5258, Class 5: 0.3023, Class 6: 0.5436, \n",
      "Training Loss: 0.8105, Validation Loss: 0.7797\n",
      "Epoch 127/4000\n"
     ]
    },
    {
     "name": "stderr",
     "output_type": "stream",
     "text": [
      "Training: 100%|██████████| 24/24 [00:15<00:00,  1.54it/s, loss=0.814]\n",
      "Validation: 100%|██████████| 4/4 [00:01<00:00,  2.93it/s, loss=0.801]\n"
     ]
    },
    {
     "name": "stdout",
     "output_type": "stream",
     "text": [
      "Validation Dice Score\n",
      "Class 0: 0.5236, Class 1: 0.8414, Class 2: 0.0966, Class 3: 0.0014, \n",
      "Class 4: 0.1811, Class 5: 0.2554, Class 6: 0.6925, \n",
      "Training Loss: 0.7938, Validation Loss: 0.7898\n",
      "Epoch 128/4000\n"
     ]
    },
    {
     "name": "stderr",
     "output_type": "stream",
     "text": [
      "Training: 100%|██████████| 24/24 [00:15<00:00,  1.53it/s, loss=0.779]\n",
      "Validation: 100%|██████████| 4/4 [00:01<00:00,  2.91it/s, loss=0.808]\n"
     ]
    },
    {
     "name": "stdout",
     "output_type": "stream",
     "text": [
      "Validation Dice Score\n",
      "Class 0: 0.5251, Class 1: 0.8259, Class 2: 0.1605, Class 3: 0.0009, \n",
      "Class 4: 0.0661, Class 5: 0.4462, Class 6: 0.4922, \n",
      "Training Loss: 0.8200, Validation Loss: 0.8029\n",
      "Epoch 129/4000\n"
     ]
    },
    {
     "name": "stderr",
     "output_type": "stream",
     "text": [
      "Training: 100%|██████████| 24/24 [00:15<00:00,  1.54it/s, loss=0.859]\n",
      "Validation: 100%|██████████| 4/4 [00:01<00:00,  2.93it/s, loss=0.811]\n"
     ]
    },
    {
     "name": "stdout",
     "output_type": "stream",
     "text": [
      "Validation Dice Score\n",
      "Class 0: 0.5236, Class 1: 0.8423, Class 2: 0.0776, Class 3: 0.0012, \n",
      "Class 4: 0.1047, Class 5: 0.3481, Class 6: 0.5574, \n",
      "Training Loss: 0.8134, Validation Loss: 0.7856\n",
      "Epoch 130/4000\n"
     ]
    },
    {
     "name": "stderr",
     "output_type": "stream",
     "text": [
      "Training: 100%|██████████| 24/24 [00:15<00:00,  1.53it/s, loss=0.839]\n",
      "Validation: 100%|██████████| 4/4 [00:01<00:00,  2.96it/s, loss=0.734]"
     ]
    },
    {
     "name": "stdout",
     "output_type": "stream",
     "text": [
      "Validation Dice Score\n",
      "Class 0: 0.5336, Class 1: 0.7957, Class 2: 0.1102, Class 3: 0.0004, \n",
      "Class 4: 0.0000, Class 5: 0.3362, Class 6: 0.7115, \n",
      "Training Loss: 0.7931, Validation Loss: 0.7784\n",
      "Early stopping\n"
     ]
    },
    {
     "name": "stderr",
     "output_type": "stream",
     "text": [
      "\n"
     ]
    }
   ],
   "source": [
    "from monai.metrics import DiceMetric\n",
    "\n",
    "def create_metric_dict(num_classes):\n",
    "    \"\"\"각 클래스별 DiceMetric 생성\"\"\"\n",
    "    metrics = {}\n",
    "    for i in range(num_classes):\n",
    "        metrics[f'dice_class_{i}'] = DiceMetric(\n",
    "            include_background=False if i == 0 else False,\n",
    "            reduction=\"mean\",\n",
    "            get_not_nans=False\n",
    "        )\n",
    "    return metrics\n",
    "    \n",
    "def processing(batch_data, model, criterion, device):\n",
    "    images = batch_data['image'].to(device)  # Input 이미지 (B, 1, 96, 96, 96)\n",
    "    labels = batch_data['label'].to(device)  # 라벨 (B, 96, 96, 96)\n",
    "\n",
    "    labels = labels.squeeze(1)  # (B, 1, 96, 96, 96) → (B, 96, 96, 96)\n",
    "    labels = labels.long()  # 라벨을 정수형으로 변환\n",
    "\n",
    "    # 원핫 인코딩 (B, H, W, D) → (B, num_classes, H, W, D)\n",
    "    \n",
    "    labels_onehot = torch.nn.functional.one_hot(labels, num_classes=n_classes)\n",
    "    labels_onehot = labels_onehot.permute(0, 4, 1, 2, 3).float()  # (B, num_classes, H, W, D)\n",
    "\n",
    "    # 모델 예측\n",
    "    outputs = model(images)  # outputs: (B, num_classes, H, W, D)\n",
    "\n",
    "    # Loss 계산\n",
    "    loss = criterion(outputs, labels_onehot)\n",
    "\n",
    "    return loss, outputs, labels, outputs.argmax(dim=1)\n",
    "\n",
    "def train_one_epoch(model, train_loader, criterion, optimizer, device):\n",
    "    model.train()\n",
    "    epoch_loss = 0\n",
    "    with tqdm(train_loader, desc='Training') as pbar:\n",
    "        for batch_data in pbar:\n",
    "            optimizer.zero_grad()\n",
    "            loss, _, _, _ = processing(batch_data, model, criterion, device)\n",
    "            loss.backward()\n",
    "            optimizer.step()\n",
    "\n",
    "            epoch_loss += loss.item()\n",
    "            pbar.set_postfix(loss=loss.item())\n",
    "\n",
    "    return epoch_loss / len(train_loader)\n",
    "\n",
    "def validate_one_epoch(model, val_loader, criterion, device, epoch, calculate_dice_interval):\n",
    "    model.eval()\n",
    "    val_loss = 0\n",
    "    metrics = create_metric_dict(n_classes)\n",
    "    class_dice_scores = {i: [] for i in range(n_classes)}\n",
    "    with torch.no_grad():\n",
    "        with tqdm(val_loader, desc='Validation') as pbar:\n",
    "            for batch_data in pbar:\n",
    "                loss, _, labels, preds = processing(batch_data, model, criterion, device)\n",
    "                val_loss += loss.item()\n",
    "                pbar.set_postfix(loss=loss.item())\n",
    "\n",
    "                # 각 클래스별 Dice 점수 계산\n",
    "                if epoch % calculate_dice_interval == 0:\n",
    "                    for i in range(n_classes):\n",
    "                        pred_i = (preds == i)\n",
    "                        label_i = (labels == i)\n",
    "                        dice_score = (2.0 * torch.sum(pred_i & label_i)) / (torch.sum(pred_i) + torch.sum(label_i) + 1e-8)\n",
    "                        class_dice_scores[i].append(dice_score.item())\n",
    "\n",
    "    # 각 클래스별 평균 Dice 점수 출력\n",
    "    if epoch % calculate_dice_interval == 0:\n",
    "        print(\"Validation Dice Score\")\n",
    "        for i in range(n_classes):\n",
    "            mean_dice = np.mean(class_dice_scores[i])\n",
    "            print(f\"Class {i}: {mean_dice:.4f}\", end=\", \")\n",
    "            if i == 3:\n",
    "                print()\n",
    "        print()\n",
    "\n",
    "    return val_loss / len(val_loader)\n",
    "\n",
    "def train_model(\n",
    "    model, train_loader, val_loader, criterion, optimizer, num_epochs, patience, \n",
    "    device, start_epoch, best_val_loss, calculate_dice_interval=1\n",
    "):\n",
    "    \"\"\"\n",
    "    모델을 학습하고 검증하는 함수\n",
    "    Args:\n",
    "        model: 학습할 모델\n",
    "        train_loader: 학습 데이터 로더\n",
    "        val_loader: 검증 데이터 로더\n",
    "        criterion: 손실 함수\n",
    "        optimizer: 최적화 알고리즘\n",
    "        num_epochs: 총 학습 epoch 수\n",
    "        patience: early stopping 기준\n",
    "        device: GPU/CPU 장치\n",
    "        start_epoch: 시작 epoch\n",
    "        best_val_loss: 이전 최적 validation loss\n",
    "        calculate_dice_interval: Dice 점수 계산 주기\n",
    "    \"\"\"\n",
    "\n",
    "    epochs_no_improve = 0\n",
    "\n",
    "    for epoch in range(start_epoch, num_epochs):\n",
    "        print(f\"Epoch {epoch + 1}/{num_epochs}\")\n",
    "\n",
    "        # Train One Epoch\n",
    "        train_loss = train_one_epoch(\n",
    "            model=model, \n",
    "            train_loader=train_loader, \n",
    "            criterion=criterion, \n",
    "            optimizer=optimizer, \n",
    "            device=device\n",
    "        )\n",
    "\n",
    "        # Validate One Epoch\n",
    "        val_loss = validate_one_epoch(\n",
    "            model=model, \n",
    "            val_loader=val_loader, \n",
    "            criterion=criterion, \n",
    "            device=device, \n",
    "            epoch=epoch, \n",
    "            calculate_dice_interval=calculate_dice_interval\n",
    "        )\n",
    "\n",
    "        print(f\"Training Loss: {train_loss:.4f}, Validation Loss: {val_loss:.4f}\")\n",
    "\n",
    "        # Early stopping 및 모델 저장 로직\n",
    "        if val_loss < best_val_loss:\n",
    "            best_val_loss = val_loss\n",
    "            epochs_no_improve = 0\n",
    "            checkpoint_path = os.path.join(checkpoint_dir, 'best_model.pt')\n",
    "            torch.save({\n",
    "                'epoch': epoch + 1,\n",
    "                'model_state_dict': model.state_dict(),\n",
    "                'optimizer_state_dict': optimizer.state_dict(),\n",
    "                'best_val_loss': best_val_loss,\n",
    "            }, checkpoint_path)\n",
    "            print(f\"========================================================\")\n",
    "            print(f\"Best model saved with validation loss: {best_val_loss:.4f}\")\n",
    "            print(f\"========================================================\")\n",
    "        else:\n",
    "            epochs_no_improve += 1\n",
    "\n",
    "        if epochs_no_improve >= patience:\n",
    "            print(\"Early stopping\")\n",
    "            break\n",
    "\n",
    "train_model(\n",
    "    model=model,\n",
    "    train_loader=train_loader,\n",
    "    val_loader=val_loader,\n",
    "    criterion=criterion,\n",
    "    optimizer=optimizer,\n",
    "    num_epochs=num_epochs,\n",
    "    patience=50,\n",
    "    device=device,\n",
    "    start_epoch=start_epoch,\n",
    "    best_val_loss=best_val_loss,\n",
    "    calculate_dice_interval=1\n",
    ")"
   ]
  },
  {
   "cell_type": "code",
   "execution_count": 9,
   "metadata": {},
   "outputs": [
    {
     "name": "stdout",
     "output_type": "stream",
     "text": [
      "Config file written to ./kaggle/working/copick.config\n"
     ]
    },
    {
     "ename": "ValidationError",
     "evalue": "1 validation error for CopickConfigFSSpec\noverlay_root\n  Field required [type=missing, input_value={'name': 'czii_cryoet_mlc...fig_type': 'filesystem'}, input_type=dict]\n    For further information visit https://errors.pydantic.dev/2.9/v/missing",
     "output_type": "error",
     "traceback": [
      "\u001b[1;31m---------------------------------------------------------------------------\u001b[0m",
      "\u001b[1;31mValidationError\u001b[0m                           Traceback (most recent call last)",
      "Cell \u001b[1;32mIn[9], line 91\u001b[0m\n\u001b[0;32m     85\u001b[0m non_random_transforms \u001b[38;5;241m=\u001b[39m Compose([\n\u001b[0;32m     86\u001b[0m     EnsureChannelFirstd(keys\u001b[38;5;241m=\u001b[39m[\u001b[38;5;124m\"\u001b[39m\u001b[38;5;124mimage\u001b[39m\u001b[38;5;124m\"\u001b[39m], channel_dim\u001b[38;5;241m=\u001b[39m\u001b[38;5;124m\"\u001b[39m\u001b[38;5;124mno_channel\u001b[39m\u001b[38;5;124m\"\u001b[39m),\n\u001b[0;32m     87\u001b[0m     NormalizeIntensityd(keys\u001b[38;5;241m=\u001b[39m\u001b[38;5;124m\"\u001b[39m\u001b[38;5;124mimage\u001b[39m\u001b[38;5;124m\"\u001b[39m),\n\u001b[0;32m     88\u001b[0m     Orientationd(keys\u001b[38;5;241m=\u001b[39m[\u001b[38;5;124m\"\u001b[39m\u001b[38;5;124mimage\u001b[39m\u001b[38;5;124m\"\u001b[39m], axcodes\u001b[38;5;241m=\u001b[39m\u001b[38;5;124m\"\u001b[39m\u001b[38;5;124mRAS\u001b[39m\u001b[38;5;124m\"\u001b[39m)\n\u001b[0;32m     89\u001b[0m ])\n\u001b[0;32m     90\u001b[0m model\u001b[38;5;241m.\u001b[39meval()\n\u001b[1;32m---> 91\u001b[0m preprocessor \u001b[38;5;241m=\u001b[39m \u001b[43mPreprocessor\u001b[49m\u001b[43m(\u001b[49m\u001b[43mconfig_blob\u001b[49m\u001b[43m)\u001b[49m\n\u001b[0;32m     92\u001b[0m \u001b[38;5;28;01mfor\u001b[39;00m vol_idx, run \u001b[38;5;129;01min\u001b[39;00m \u001b[38;5;28menumerate\u001b[39m(preprocessor\u001b[38;5;241m.\u001b[39mroot\u001b[38;5;241m.\u001b[39mruns):\n\u001b[0;32m     93\u001b[0m     \u001b[38;5;28mprint\u001b[39m(\u001b[38;5;124mf\u001b[39m\u001b[38;5;124m\"\u001b[39m\u001b[38;5;124mProcessing volume \u001b[39m\u001b[38;5;132;01m{\u001b[39;00mvol_idx\u001b[38;5;250m \u001b[39m\u001b[38;5;241m+\u001b[39m\u001b[38;5;250m \u001b[39m\u001b[38;5;241m1\u001b[39m\u001b[38;5;132;01m}\u001b[39;00m\u001b[38;5;124m/\u001b[39m\u001b[38;5;132;01m{\u001b[39;00m\u001b[38;5;28mlen\u001b[39m(preprocessor\u001b[38;5;241m.\u001b[39mroot\u001b[38;5;241m.\u001b[39mruns)\u001b[38;5;132;01m}\u001b[39;00m\u001b[38;5;124m\"\u001b[39m)\n",
      "File \u001b[1;32me:\\Workspace\\czll\\src\\dataset\\preprocessing.py:14\u001b[0m, in \u001b[0;36mPreprocessor.__init__\u001b[1;34m(self, config_blob, copick_config_path)\u001b[0m\n\u001b[0;32m     12\u001b[0m \u001b[38;5;28mself\u001b[39m\u001b[38;5;241m.\u001b[39mcopick_config_path \u001b[38;5;241m=\u001b[39m copick_config_path\n\u001b[0;32m     13\u001b[0m \u001b[38;5;66;03m# 클래스 내부 메서드 호출 시 self 사용\u001b[39;00m\n\u001b[1;32m---> 14\u001b[0m \u001b[38;5;28mself\u001b[39m\u001b[38;5;241m.\u001b[39mcopick_config_path \u001b[38;5;241m=\u001b[39m \u001b[38;5;28;43mself\u001b[39;49m\u001b[38;5;241;43m.\u001b[39;49m\u001b[43m_make_config\u001b[49m\u001b[43m(\u001b[49m\u001b[43mconfig_blob\u001b[49m\u001b[43m)\u001b[49m\n\u001b[0;32m     15\u001b[0m \u001b[38;5;28mself\u001b[39m\u001b[38;5;241m.\u001b[39mroot \u001b[38;5;241m=\u001b[39m copick\u001b[38;5;241m.\u001b[39mfrom_file(\u001b[38;5;28mself\u001b[39m\u001b[38;5;241m.\u001b[39mcopick_config_path)\n",
      "File \u001b[1;32me:\\Workspace\\czll\\src\\dataset\\preprocessing.py:21\u001b[0m, in \u001b[0;36mPreprocessor._make_config\u001b[1;34m(self, static_root)\u001b[0m\n\u001b[0;32m     19\u001b[0m     f\u001b[38;5;241m.\u001b[39mwrite(\u001b[38;5;28mself\u001b[39m\u001b[38;5;241m.\u001b[39mconfig_blob)\n\u001b[0;32m     20\u001b[0m \u001b[38;5;28mprint\u001b[39m(\u001b[38;5;124mf\u001b[39m\u001b[38;5;124m\"\u001b[39m\u001b[38;5;124mConfig file written to \u001b[39m\u001b[38;5;132;01m{\u001b[39;00m\u001b[38;5;28mself\u001b[39m\u001b[38;5;241m.\u001b[39mcopick_config_path\u001b[38;5;132;01m}\u001b[39;00m\u001b[38;5;124m\"\u001b[39m)\n\u001b[1;32m---> 21\u001b[0m root \u001b[38;5;241m=\u001b[39m \u001b[43mcopick\u001b[49m\u001b[38;5;241;43m.\u001b[39;49m\u001b[43mfrom_file\u001b[49m\u001b[43m(\u001b[49m\u001b[38;5;28;43mself\u001b[39;49m\u001b[38;5;241;43m.\u001b[39;49m\u001b[43mcopick_config_path\u001b[49m\u001b[43m)\u001b[49m\n\u001b[0;32m     22\u001b[0m \u001b[38;5;28mprint\u001b[39m(\u001b[38;5;124m\"\u001b[39m\u001b[38;5;124mfile length:\u001b[39m\u001b[38;5;124m\"\u001b[39m,\u001b[38;5;28mlen\u001b[39m(root\u001b[38;5;241m.\u001b[39mruns))\n\u001b[0;32m     23\u001b[0m \u001b[38;5;28;01mreturn\u001b[39;00m \u001b[38;5;28mself\u001b[39m\u001b[38;5;241m.\u001b[39mcopick_config_path\n",
      "File \u001b[1;32mc:\\ProgramData\\anaconda3\\envs\\ship\\Lib\\site-packages\\copick\\ops\\open.py:32\u001b[0m, in \u001b[0;36mfrom_file\u001b[1;34m(path)\u001b[0m\n\u001b[0;32m     29\u001b[0m \u001b[38;5;28;01mwith\u001b[39;00m \u001b[38;5;28mopen\u001b[39m(path, \u001b[38;5;124m\"\u001b[39m\u001b[38;5;124mr\u001b[39m\u001b[38;5;124m\"\u001b[39m) \u001b[38;5;28;01mas\u001b[39;00m f:\n\u001b[0;32m     30\u001b[0m     data \u001b[38;5;241m=\u001b[39m f\u001b[38;5;241m.\u001b[39mread()\n\u001b[1;32m---> 32\u001b[0m \u001b[38;5;28;01mreturn\u001b[39;00m \u001b[43mfrom_string\u001b[49m\u001b[43m(\u001b[49m\u001b[43mdata\u001b[49m\u001b[43m)\u001b[49m\n",
      "File \u001b[1;32mc:\\ProgramData\\anaconda3\\envs\\ship\\Lib\\site-packages\\copick\\ops\\open.py:23\u001b[0m, in \u001b[0;36mfrom_string\u001b[1;34m(data)\u001b[0m\n\u001b[0;32m     16\u001b[0m     warnings\u001b[38;5;241m.\u001b[39mwarn(\n\u001b[0;32m     17\u001b[0m         \u001b[38;5;124m\"\u001b[39m\u001b[38;5;124mconfig_type not found in config file, defaulting to filesystem\u001b[39m\u001b[38;5;124m\"\u001b[39m,\n\u001b[0;32m     18\u001b[0m         \u001b[38;5;167;01mDeprecationWarning\u001b[39;00m,\n\u001b[0;32m     19\u001b[0m         stacklevel\u001b[38;5;241m=\u001b[39m\u001b[38;5;241m2\u001b[39m,\n\u001b[0;32m     20\u001b[0m     )\n\u001b[0;32m     22\u001b[0m \u001b[38;5;28;01mif\u001b[39;00m data[\u001b[38;5;124m\"\u001b[39m\u001b[38;5;124mconfig_type\u001b[39m\u001b[38;5;124m\"\u001b[39m] \u001b[38;5;241m==\u001b[39m \u001b[38;5;124m\"\u001b[39m\u001b[38;5;124mfilesystem\u001b[39m\u001b[38;5;124m\"\u001b[39m:\n\u001b[1;32m---> 23\u001b[0m     \u001b[38;5;28;01mreturn\u001b[39;00m CopickRootFSSpec(\u001b[43mCopickConfigFSSpec\u001b[49m\u001b[43m(\u001b[49m\u001b[38;5;241;43m*\u001b[39;49m\u001b[38;5;241;43m*\u001b[39;49m\u001b[43mdata\u001b[49m\u001b[43m)\u001b[49m)\n\u001b[0;32m     24\u001b[0m \u001b[38;5;28;01melif\u001b[39;00m data[\u001b[38;5;124m\"\u001b[39m\u001b[38;5;124mconfig_type\u001b[39m\u001b[38;5;124m\"\u001b[39m] \u001b[38;5;241m==\u001b[39m \u001b[38;5;124m\"\u001b[39m\u001b[38;5;124mcryoet_data_portal\u001b[39m\u001b[38;5;124m\"\u001b[39m:\n\u001b[0;32m     25\u001b[0m     \u001b[38;5;28;01mreturn\u001b[39;00m CopickRootCDP(CopickConfigCDP(\u001b[38;5;241m*\u001b[39m\u001b[38;5;241m*\u001b[39mdata))\n",
      "File \u001b[1;32mc:\\ProgramData\\anaconda3\\envs\\ship\\Lib\\site-packages\\pydantic\\main.py:212\u001b[0m, in \u001b[0;36mBaseModel.__init__\u001b[1;34m(self, **data)\u001b[0m\n\u001b[0;32m    210\u001b[0m \u001b[38;5;66;03m# `__tracebackhide__` tells pytest and some other tools to omit this function from tracebacks\u001b[39;00m\n\u001b[0;32m    211\u001b[0m __tracebackhide__ \u001b[38;5;241m=\u001b[39m \u001b[38;5;28;01mTrue\u001b[39;00m\n\u001b[1;32m--> 212\u001b[0m validated_self \u001b[38;5;241m=\u001b[39m \u001b[38;5;28;43mself\u001b[39;49m\u001b[38;5;241;43m.\u001b[39;49m\u001b[43m__pydantic_validator__\u001b[49m\u001b[38;5;241;43m.\u001b[39;49m\u001b[43mvalidate_python\u001b[49m\u001b[43m(\u001b[49m\u001b[43mdata\u001b[49m\u001b[43m,\u001b[49m\u001b[43m \u001b[49m\u001b[43mself_instance\u001b[49m\u001b[38;5;241;43m=\u001b[39;49m\u001b[38;5;28;43mself\u001b[39;49m\u001b[43m)\u001b[49m\n\u001b[0;32m    213\u001b[0m \u001b[38;5;28;01mif\u001b[39;00m \u001b[38;5;28mself\u001b[39m \u001b[38;5;129;01mis\u001b[39;00m \u001b[38;5;129;01mnot\u001b[39;00m validated_self:\n\u001b[0;32m    214\u001b[0m     warnings\u001b[38;5;241m.\u001b[39mwarn(\n\u001b[0;32m    215\u001b[0m         \u001b[38;5;124m'\u001b[39m\u001b[38;5;124mA custom validator is returning a value other than `self`.\u001b[39m\u001b[38;5;130;01m\\n\u001b[39;00m\u001b[38;5;124m'\u001b[39m\n\u001b[0;32m    216\u001b[0m         \u001b[38;5;124m\"\u001b[39m\u001b[38;5;124mReturning anything other than `self` from a top level model validator isn\u001b[39m\u001b[38;5;124m'\u001b[39m\u001b[38;5;124mt supported when validating via `__init__`.\u001b[39m\u001b[38;5;130;01m\\n\u001b[39;00m\u001b[38;5;124m\"\u001b[39m\n\u001b[0;32m    217\u001b[0m         \u001b[38;5;124m'\u001b[39m\u001b[38;5;124mSee the `model_validator` docs (https://docs.pydantic.dev/latest/concepts/validators/#model-validators) for more details.\u001b[39m\u001b[38;5;124m'\u001b[39m,\n\u001b[0;32m    218\u001b[0m         category\u001b[38;5;241m=\u001b[39m\u001b[38;5;28;01mNone\u001b[39;00m,\n\u001b[0;32m    219\u001b[0m     )\n",
      "\u001b[1;31mValidationError\u001b[0m: 1 validation error for CopickConfigFSSpec\noverlay_root\n  Field required [type=missing, input_value={'name': 'czii_cryoet_mlc...fig_type': 'filesystem'}, input_type=dict]\n    For further information visit https://errors.pydantic.dev/2.9/v/missing"
     ]
    }
   ],
   "source": [
    "from monai.inferers import sliding_window_inference\n",
    "from src.dataset.preprocessing import Preprocessor\n",
    "from monai.data import Dataset, DataLoader, CacheDataset\n",
    "\n",
    "config_blob = \"\"\"{\n",
    "    \"name\": \"czii_cryoet_mlchallenge_2024\",\n",
    "    \"description\": \"2024 CZII CryoET ML Challenge training data.\",\n",
    "    \"version\": \"1.0.0\",\n",
    "\n",
    "    \"pickable_objects\": [\n",
    "        {\n",
    "            \"name\": \"apo-ferritin\",\n",
    "            \"is_particle\": true,\n",
    "            \"pdb_id\": \"4V1W\",\n",
    "            \"label\": 1,\n",
    "            \"color\": [  0, 117, 220, 128],\n",
    "            \"radius\": 60,\n",
    "            \"map_threshold\": 0.0418\n",
    "        },\n",
    "        {\n",
    "          \"name\" : \"beta-amylase\",\n",
    "            \"is_particle\": true,\n",
    "            \"pdb_id\": \"8ZRZ\",\n",
    "            \"label\": 2,\n",
    "            \"color\": [255, 255, 255, 128],\n",
    "            \"radius\": 90,\n",
    "            \"map_threshold\": 0.0578  \n",
    "        },\n",
    "        {\n",
    "            \"name\": \"beta-galactosidase\",\n",
    "            \"is_particle\": true,\n",
    "            \"pdb_id\": \"6X1Q\",\n",
    "            \"label\": 3,\n",
    "            \"color\": [ 76,   0,  92, 128],\n",
    "            \"radius\": 90,\n",
    "            \"map_threshold\": 0.0578\n",
    "        },\n",
    "        {\n",
    "            \"name\": \"ribosome\",\n",
    "            \"is_particle\": true,\n",
    "            \"pdb_id\": \"6EK0\",\n",
    "            \"label\": 4,\n",
    "            \"color\": [  0,  92,  49, 128],\n",
    "            \"radius\": 150,\n",
    "            \"map_threshold\": 0.0374\n",
    "        },\n",
    "        {\n",
    "            \"name\": \"thyroglobulin\",\n",
    "            \"is_particle\": true,\n",
    "            \"pdb_id\": \"6SCJ\",\n",
    "            \"label\": 5,\n",
    "            \"color\": [ 43, 206,  72, 128],\n",
    "            \"radius\": 130,\n",
    "            \"map_threshold\": 0.0278\n",
    "        },\n",
    "        {\n",
    "            \"name\": \"virus-like-particle\",\n",
    "            \"is_particle\": true,\n",
    "            \"label\": 6,\n",
    "            \"color\": [255, 204, 153, 128],\n",
    "            \"radius\": 135,\n",
    "            \"map_threshold\": 0.201\n",
    "        },\n",
    "        {\n",
    "            \"name\": \"membrane\",\n",
    "            \"is_particle\": false,\n",
    "            \"label\": 8,\n",
    "            \"color\": [100, 100, 100, 128]\n",
    "        },\n",
    "        {\n",
    "            \"name\": \"background\",\n",
    "            \"is_particle\": false,\n",
    "            \"label\": 9,\n",
    "            \"color\": [10, 150, 200, 128]\n",
    "        }\n",
    "    ],\n",
    "\n",
    "    \"overlay_fs_args\": {\n",
    "        \"auto_mkdir\": true\n",
    "    },\n",
    "\n",
    "    \"static_root\": \"./kaggle/input/czii-cryo-et-object-identification/test/static\"\n",
    "    }\"\"\"\n",
    "\n",
    "non_random_transforms = Compose([\n",
    "    EnsureChannelFirstd(keys=[\"image\"], channel_dim=\"no_channel\"),\n",
    "    NormalizeIntensityd(keys=\"image\"),\n",
    "    Orientationd(keys=[\"image\"], axcodes=\"RAS\")\n",
    "])\n",
    "model.eval()\n",
    "preprocessor = Preprocessor(config_blob)\n",
    "for vol_idx, run in enumerate(preprocessor.root.runs):\n",
    "    print(f\"Processing volume {vol_idx + 1}/{len(preprocessor.root.runs)}\")\n",
    "    tomogram = preprocessor.processing(run=run,task=\"task\")\n",
    "    task_files = []\n",
    "    task_files.append({\"image\": tomogram})    \n",
    "    task_ds = Dataset(data=task_files, transform=non_random_transforms)\n",
    "    task_loader = DataLoader(task_ds, batch_size=1, num_workers=0)\n",
    "    for task_data in task_loader:\n",
    "        images = task_data['image'].to(device)\n",
    "        outputs = sliding_window_inference(\n",
    "            inputs=images,                 # [N, C, D, H, W]\n",
    "            roi_size=(img_size, img_size, img_size),         # 슬라이딩 윈도우 크기\n",
    "            sw_batch_size=1,\n",
    "            predictor=model.forward,\n",
    "            #overlap=(0.7, 0.25, 0.25)      # Depth 50%, Height 25%, Width 25% 겹침\n",
    "        )\n"
   ]
  }
 ],
 "metadata": {
  "kernelspec": {
   "display_name": "ship",
   "language": "python",
   "name": "python3"
  },
  "language_info": {
   "codemirror_mode": {
    "name": "ipython",
    "version": 3
   },
   "file_extension": ".py",
   "mimetype": "text/x-python",
   "name": "python",
   "nbconvert_exporter": "python",
   "pygments_lexer": "ipython3",
   "version": "3.12.7"
  }
 },
 "nbformat": 4,
 "nbformat_minor": 2
}
