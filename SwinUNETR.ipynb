{
 "cells": [
  {
   "cell_type": "code",
   "execution_count": 1,
   "metadata": {},
   "outputs": [
    {
     "name": "stdout",
     "output_type": "stream",
     "text": [
      "MONAI version: 1.4.0\n",
      "Numpy version: 1.26.3\n",
      "Pytorch version: 2.4.1+cu121\n",
      "MONAI flags: HAS_EXT = False, USE_COMPILED = False, USE_META_DICT = False\n",
      "MONAI rev id: 46a5272196a6c2590ca2589029eed8e4d56ff008\n",
      "MONAI __file__: c:\\ProgramData\\anaconda3\\envs\\ship\\Lib\\site-packages\\monai\\__init__.py\n",
      "\n",
      "Optional dependencies:\n",
      "Pytorch Ignite version: NOT INSTALLED or UNKNOWN VERSION.\n",
      "ITK version: NOT INSTALLED or UNKNOWN VERSION.\n",
      "Nibabel version: 5.3.2\n",
      "scikit-image version: 0.24.0\n",
      "scipy version: 1.14.1\n",
      "Pillow version: 10.2.0\n",
      "Tensorboard version: NOT INSTALLED or UNKNOWN VERSION.\n",
      "gdown version: 5.2.0\n",
      "TorchVision version: 0.19.1+cu121\n",
      "tqdm version: 4.66.5\n",
      "lmdb version: NOT INSTALLED or UNKNOWN VERSION.\n",
      "psutil version: 6.0.0\n",
      "pandas version: 2.2.3\n",
      "einops version: 0.8.0\n",
      "transformers version: NOT INSTALLED or UNKNOWN VERSION.\n",
      "mlflow version: NOT INSTALLED or UNKNOWN VERSION.\n",
      "pynrrd version: NOT INSTALLED or UNKNOWN VERSION.\n",
      "clearml version: NOT INSTALLED or UNKNOWN VERSION.\n",
      "\n",
      "For details about installing the optional dependencies, please visit:\n",
      "    https://docs.monai.io/en/latest/installation.html#installing-the-recommended-dependencies\n",
      "\n"
     ]
    }
   ],
   "source": [
    "import os\n",
    "import shutil\n",
    "import tempfile\n",
    "\n",
    "import matplotlib.pyplot as plt\n",
    "from tqdm import tqdm\n",
    "\n",
    "from monai.losses import DiceCELoss\n",
    "from monai.inferers import sliding_window_inference\n",
    "from monai.transforms import (\n",
    "    AsDiscrete,\n",
    "    EnsureChannelFirstd,\n",
    "    Compose,\n",
    "    CropForegroundd,\n",
    "    LoadImaged,\n",
    "    Orientationd,\n",
    "    RandFlipd,\n",
    "    RandCropByPosNegLabeld,\n",
    "    RandShiftIntensityd,\n",
    "    ScaleIntensityRanged,\n",
    "    Spacingd,\n",
    "    RandRotate90d,\n",
    ")\n",
    "\n",
    "from monai.config import print_config\n",
    "from monai.metrics import DiceMetric\n",
    "from monai.networks.nets import UNETR, SwinUNETR\n",
    "\n",
    "from monai.data import (\n",
    "    DataLoader,\n",
    "    CacheDataset,\n",
    "    load_decathlon_datalist,\n",
    "    decollate_batch,\n",
    ")\n",
    "\n",
    "\n",
    "import torch\n",
    "\n",
    "print_config()"
   ]
  },
  {
   "cell_type": "code",
   "execution_count": 2,
   "metadata": {},
   "outputs": [
    {
     "name": "stdout",
     "output_type": "stream",
     "text": [
      "클래스 비율: {0: 0.001162385214460072, 1: 0.725328373823085, 2: 0.013134952923398814, 3: 0.024410089503661515, 4: 0.0209229338602813, 5: 0.11740090666046728, 6: 0.09764035801464606}\n",
      "최종 합계: 1.0\n",
      "클래스 비율 리스트: [0.001162385214460072, 0.725328373823085, 0.013134952923398814, 0.024410089503661515, 0.0209229338602813, 0.11740090666046728, 0.09764035801464606]\n"
     ]
    }
   ],
   "source": [
    "class_info = {\n",
    "    0: {\"name\": \"background\", \"weight\": 100},  # weight 없음\n",
    "    1: {\"name\": \"apo-ferritin\", \"weight\": 62400},\n",
    "    2: {\"name\": \"beta-amylase\", \"weight\": 1130}, # 4130\n",
    "    3: {\"name\": \"beta-galactosidase\", \"weight\": 2100}, #3080\n",
    "    4: {\"name\": \"ribosome\", \"weight\": 1800},\n",
    "    5: {\"name\": \"thyroglobulin\", \"weight\": 10100},\n",
    "    6: {\"name\": \"virus-like-particle\", \"weight\": 8400},\n",
    "}\n",
    "\n",
    "# 가중치에 비례한 비율 계산\n",
    "raw_ratios = {\n",
    "    k: (v[\"weight\"] if v[\"weight\"] is not None else 0.01)  # 가중치 비례, None일 경우 기본값\n",
    "    for k, v in class_info.items()\n",
    "}\n",
    "total = sum(raw_ratios.values())\n",
    "ratios = {k: v / total for k, v in raw_ratios.items()}\n",
    "\n",
    "# 최종 합계가 1인지 확인\n",
    "final_total = sum(ratios.values())\n",
    "print(\"클래스 비율:\", ratios)\n",
    "print(\"최종 합계:\", final_total)\n",
    "\n",
    "# 비율을 리스트로 변환\n",
    "ratios_list = [ratios[k] for k in sorted(ratios.keys())]\n",
    "print(\"클래스 비율 리스트:\", ratios_list)"
   ]
  },
  {
   "cell_type": "code",
   "execution_count": 3,
   "metadata": {},
   "outputs": [],
   "source": [
    "from src.dataset.dataset import create_dataloaders\n",
    "from monai.transforms import (\n",
    "    Compose, LoadImaged, EnsureChannelFirstd, NormalizeIntensityd,\n",
    "    Orientationd, CropForegroundd, GaussianSmoothd, ScaleIntensityd,\n",
    "    RandSpatialCropd, RandRotate90d, RandFlipd, RandGaussianNoised,\n",
    "    ToTensord, RandCropByLabelClassesd\n",
    ")\n",
    "\n",
    "train_img_dir = \"./datasets/train/images\"\n",
    "train_label_dir = \"./datasets/train/labels\"\n",
    "val_img_dir = \"./datasets/val/images\"\n",
    "val_label_dir = \"./datasets/val/labels\"\n",
    "img_depth = 96\n",
    "img_size = 96  # Match your patch size\n",
    "n_classes = 7\n",
    "batch_size = 2 # 13.8GB GPU memory required for 128x128 img size\n",
    "num_samples = 1 # 한 이미지에서 뽑을 샘플 수\n",
    "loader_batch = batch_size // num_samples\n",
    "\n",
    "non_random_transforms = Compose([\n",
    "    EnsureChannelFirstd(keys=[\"image\", \"label\"], channel_dim=\"no_channel\"),\n",
    "    NormalizeIntensityd(keys=\"image\"),\n",
    "    Orientationd(keys=[\"image\", \"label\"], axcodes=\"RAS\")\n",
    "])\n",
    "random_transforms = Compose([\n",
    "    RandCropByLabelClassesd(\n",
    "        keys=[\"image\", \"label\"],\n",
    "        label_key=\"label\",\n",
    "        spatial_size=[img_depth, img_size, img_size],\n",
    "        num_classes=n_classes,\n",
    "        num_samples=num_samples, \n",
    "        ratios=ratios_list,\n",
    "    ),\n",
    "    RandRotate90d(keys=[\"image\", \"label\"], prob=0.5, spatial_axes=[1, 2]),\n",
    "    RandFlipd(keys=[\"image\", \"label\"], prob=0.5, spatial_axis=0),\n",
    "])\n"
   ]
  },
  {
   "cell_type": "code",
   "execution_count": null,
   "metadata": {},
   "outputs": [],
   "source": [
    "\n",
    "train_loader, val_loader = None, None\n",
    "train_loader, val_loader = create_dataloaders(\n",
    "    train_img_dir, \n",
    "    train_label_dir, \n",
    "    val_img_dir, \n",
    "    val_label_dir, \n",
    "    non_random_transforms = non_random_transforms, \n",
    "    random_transforms = random_transforms, \n",
    "    batch_size = loader_batch,\n",
    "    num_workers=0)"
   ]
  },
  {
   "cell_type": "code",
   "execution_count": 4,
   "metadata": {},
   "outputs": [
    {
     "name": "stderr",
     "output_type": "stream",
     "text": [
      "c:\\ProgramData\\anaconda3\\envs\\ship\\Lib\\site-packages\\monai\\utils\\deprecate_utils.py:221: FutureWarning: monai.networks.nets.swin_unetr SwinUNETR.__init__:img_size: Argument `img_size` has been deprecated since version 1.3. It will be removed in version 1.5. The img_size argument is not required anymore and checks on the input size are run during forward().\n",
      "  warn_deprecated(argname, msg, warning_category)\n",
      "C:\\Users\\Seungwoo\\AppData\\Local\\Temp\\ipykernel_31612\\2113454012.py:27: FutureWarning: You are using `torch.load` with `weights_only=False` (the current default value), which uses the default pickle module implicitly. It is possible to construct malicious pickle data which will execute arbitrary code during unpickling (See https://github.com/pytorch/pytorch/blob/main/SECURITY.md#untrusted-models for more details). In a future release, the default value for `weights_only` will be flipped to `True`. This limits the functions that could be executed during unpickling. Arbitrary objects will no longer be allowed to be loaded via this mode unless they are explicitly allowlisted by the user via `torch.serialization.add_safe_globals`. We recommend you start setting `weights_only=True` for any use case where you don't have full control of the loaded file. Please open an issue on GitHub for any issues related to this experimental feature.\n",
      "  weight = torch.load(pretrain_path, map_location=device)\n"
     ]
    },
    {
     "name": "stdout",
     "output_type": "stream",
     "text": [
      "Filtered weights loaded successfully. Output layer will be trained from scratch.\n",
      "기존 best model 발견: model_checkpoints\\SwinUNETR96_96_lr0.001_lambda0.55_batch2\\best_model.pt\n"
     ]
    },
    {
     "name": "stderr",
     "output_type": "stream",
     "text": [
      "C:\\Users\\Seungwoo\\AppData\\Local\\Temp\\ipykernel_31612\\2113454012.py:60: FutureWarning: You are using `torch.load` with `weights_only=False` (the current default value), which uses the default pickle module implicitly. It is possible to construct malicious pickle data which will execute arbitrary code during unpickling (See https://github.com/pytorch/pytorch/blob/main/SECURITY.md#untrusted-models for more details). In a future release, the default value for `weights_only` will be flipped to `True`. This limits the functions that could be executed during unpickling. Arbitrary objects will no longer be allowed to be loaded via this mode unless they are explicitly allowlisted by the user via `torch.serialization.add_safe_globals`. We recommend you start setting `weights_only=True` for any use case where you don't have full control of the loaded file. Please open an issue on GitHub for any issues related to this experimental feature.\n",
      "  checkpoint = torch.load(best_model_path, map_location=device)\n"
     ]
    },
    {
     "name": "stdout",
     "output_type": "stream",
     "text": [
      "기존 학습된 가중치를 성공적으로 로드했습니다.\n"
     ]
    }
   ],
   "source": [
    "import torch.optim as optim\n",
    "from tqdm import tqdm\n",
    "import numpy as np\n",
    "import torch\n",
    "from monai.losses import TverskyLoss\n",
    "from pathlib import Path\n",
    "from monai.metrics import DiceMetric\n",
    "# Model Configuration\n",
    "start_epoch = 0\n",
    "best_val_loss = float('inf')\n",
    "\n",
    "# Training setup\n",
    "num_epochs = 4000\n",
    "lamda = 0.55\n",
    "lr = 0.001\n",
    "\n",
    "device = torch.device(\"cuda\" if torch.cuda.is_available() else \"cpu\")\n",
    "pretrain_path = \"./swin_unetr_btcv_segmentation/models/model.pt\"\n",
    "model = SwinUNETR(\n",
    "    img_size=(img_depth, img_size, img_size),\n",
    "    in_channels=1,\n",
    "    out_channels=n_classes,\n",
    "    feature_size=48,\n",
    "    use_checkpoint=True,\n",
    ").to(device)\n",
    "# Pretrained weights 불러오기\n",
    "weight = torch.load(pretrain_path, map_location=device)\n",
    "\n",
    "# 출력 레이어의 키를 제외한 나머지 가중치만 로드\n",
    "filtered_weights = {k: v for k, v in weight.items() if \"out.conv.conv\" not in k}\n",
    "\n",
    "# strict=False로 로드하여 불일치하는 부분 무시\n",
    "model.load_state_dict(filtered_weights, strict=False)\n",
    "print(\"Filtered weights loaded successfully. Output layer will be trained from scratch.\")\n",
    "\n",
    "# Load pretrained weights\n",
    "# model.load_from(weights=np.load(config_vit.real_pretrained_path, allow_pickle=True))\n",
    "\n",
    "# TverskyLoss 설정\n",
    "criterion = TverskyLoss(\n",
    "    alpha=1- lamda,  # FP에 대한 가중치\n",
    "    beta= lamda,  # FN에 대한 가중치\n",
    "    include_background=False,\n",
    "    softmax=True\n",
    ")\n",
    "\n",
    "# 체크포인트 디렉토리 및 파일 설정\n",
    "checkpoint_base_dir = Path(\"./model_checkpoints\")\n",
    "checkpoint_dir = checkpoint_base_dir / f\"SwinUNETR{img_depth}_{img_size}_lr{lr}_lambda{lamda}_batch{batch_size}\"\n",
    "optimizer = optim.AdamW(model.parameters(), lr=lr, weight_decay=1e-5)\n",
    "\n",
    "# 체크포인트 디렉토리 생성\n",
    "checkpoint_dir.mkdir(parents=True, exist_ok=True)\n",
    "\n",
    "if checkpoint_dir.exists():\n",
    "    best_model_path = checkpoint_dir / 'best_model.pt'\n",
    "    if best_model_path.exists():\n",
    "        print(f\"기존 best model 발견: {best_model_path}\")\n",
    "        try:\n",
    "            checkpoint = torch.load(best_model_path, map_location=device)\n",
    "            # 체크포인트 내부 키 검증\n",
    "            required_keys = ['model_state_dict', 'optimizer_state_dict', 'epoch', 'best_val_loss']\n",
    "            if all(k in checkpoint for k in required_keys):\n",
    "                model.load_state_dict(checkpoint['model_state_dict'])\n",
    "                optimizer.load_state_dict(checkpoint['optimizer_state_dict'])\n",
    "                start_epoch = checkpoint['epoch']\n",
    "                best_val_loss = checkpoint['best_val_loss']\n",
    "                print(\"기존 학습된 가중치를 성공적으로 로드했습니다.\")\n",
    "            else:\n",
    "                raise ValueError(\"체크포인트 파일에 필요한 key가 없습니다.\")\n",
    "        except Exception as e:\n",
    "            print(f\"체크포인트 파일을 로드하는 중 오류 발생: {e}\")\n"
   ]
  },
  {
   "cell_type": "code",
   "execution_count": 4,
   "metadata": {},
   "outputs": [
    {
     "name": "stdout",
     "output_type": "stream",
     "text": [
      "torch.Size([2, 1, 96, 96, 96]) torch.Size([2, 1, 96, 96, 96])\n"
     ]
    }
   ],
   "source": [
    "batch = next(iter(val_loader))\n",
    "images, labels = batch[\"image\"], batch[\"label\"]\n",
    "print(images.shape, labels.shape)"
   ]
  },
  {
   "cell_type": "code",
   "execution_count": 5,
   "metadata": {},
   "outputs": [],
   "source": [
    "torch.backends.cudnn.benchmark = True"
   ]
  },
  {
   "cell_type": "code",
   "execution_count": 6,
   "metadata": {},
   "outputs": [
    {
     "name": "stdout",
     "output_type": "stream",
     "text": [
      "Epoch 1/4000\n"
     ]
    },
    {
     "name": "stderr",
     "output_type": "stream",
     "text": [
      "Training:   0%|          | 0/12 [00:00<?, ?it/s]c:\\ProgramData\\anaconda3\\envs\\ship\\Lib\\site-packages\\torch\\utils\\checkpoint.py:1399: FutureWarning: `torch.cpu.amp.autocast(args...)` is deprecated. Please use `torch.amp.autocast('cpu', args...)` instead.\n",
      "  with device_autocast_ctx, torch.cpu.amp.autocast(**cpu_autocast_kwargs), recompute_context:  # type: ignore[attr-defined]\n",
      "Training: 100%|██████████| 12/12 [00:34<00:00,  2.88s/it, loss=0.97] \n",
      "Validation: 100%|██████████| 2/2 [00:02<00:00,  1.06s/it, loss=0.99]\n"
     ]
    },
    {
     "name": "stdout",
     "output_type": "stream",
     "text": [
      "Validation Dice Score\n",
      "Class 0: 0.2368, Class 1: 0.0221, Class 2: 0.0002, Class 3: 0.0005, \n",
      "Class 4: 0.0018, Class 5: 0.0400, Class 6: 0.1533, \n",
      "Training Loss: 0.9905, Validation Loss: 0.9850\n",
      "Best model saved with validation loss: 0.9850\n",
      "Epoch 2/4000\n"
     ]
    },
    {
     "name": "stderr",
     "output_type": "stream",
     "text": [
      "Training: 100%|██████████| 12/12 [00:22<00:00,  1.88s/it, loss=0.985]\n",
      "Validation: 100%|██████████| 2/2 [00:02<00:00,  1.06s/it, loss=0.97]\n"
     ]
    },
    {
     "name": "stdout",
     "output_type": "stream",
     "text": [
      "Validation Dice Score\n",
      "Class 0: 0.3669, Class 1: 0.0451, Class 2: 0.0001, Class 3: 0.0003, \n",
      "Class 4: 0.0182, Class 5: 0.0557, Class 6: 0.2028, \n",
      "Training Loss: 0.9842, Validation Loss: 0.9705\n",
      "Best model saved with validation loss: 0.9705\n",
      "Epoch 3/4000\n"
     ]
    },
    {
     "name": "stderr",
     "output_type": "stream",
     "text": [
      "Training: 100%|██████████| 12/12 [00:21<00:00,  1.77s/it, loss=0.95] \n",
      "Validation: 100%|██████████| 2/2 [00:02<00:00,  1.07s/it, loss=0.964]\n"
     ]
    },
    {
     "name": "stdout",
     "output_type": "stream",
     "text": [
      "Validation Dice Score\n",
      "Class 0: 0.4650, Class 1: 0.0308, Class 2: 0.0000, Class 3: 0.0002, \n",
      "Class 4: 0.0680, Class 5: 0.0142, Class 6: 0.2703, \n",
      "Training Loss: 0.9697, Validation Loss: 0.9723\n",
      "Epoch 4/4000\n"
     ]
    },
    {
     "name": "stderr",
     "output_type": "stream",
     "text": [
      "Training: 100%|██████████| 12/12 [00:21<00:00,  1.76s/it, loss=0.946]\n",
      "Validation: 100%|██████████| 2/2 [00:02<00:00,  1.01s/it, loss=0.931]\n"
     ]
    },
    {
     "name": "stdout",
     "output_type": "stream",
     "text": [
      "Validation Dice Score\n",
      "Class 0: 0.5540, Class 1: 0.1003, Class 2: 0.0013, Class 3: 0.0006, \n",
      "Class 4: 0.0156, Class 5: 0.1337, Class 6: 0.2300, \n",
      "Training Loss: 0.9507, Validation Loss: 0.9496\n",
      "Best model saved with validation loss: 0.9496\n",
      "Epoch 5/4000\n"
     ]
    },
    {
     "name": "stderr",
     "output_type": "stream",
     "text": [
      "Training: 100%|██████████| 12/12 [00:23<00:00,  1.92s/it, loss=0.939]\n",
      "Validation: 100%|██████████| 2/2 [00:02<00:00,  1.11s/it, loss=0.975]\n"
     ]
    },
    {
     "name": "stdout",
     "output_type": "stream",
     "text": [
      "Validation Dice Score\n",
      "Class 0: 0.6163, Class 1: 0.1085, Class 2: 0.0021, Class 3: 0.0011, \n",
      "Class 4: 0.1873, Class 5: 0.0406, Class 6: 0.0005, \n",
      "Training Loss: 0.9286, Validation Loss: 0.9689\n",
      "Epoch 6/4000\n"
     ]
    },
    {
     "name": "stderr",
     "output_type": "stream",
     "text": [
      "Training: 100%|██████████| 12/12 [00:22<00:00,  1.91s/it, loss=0.948]\n",
      "Validation: 100%|██████████| 2/2 [00:02<00:00,  1.07s/it, loss=0.936]\n"
     ]
    },
    {
     "name": "stdout",
     "output_type": "stream",
     "text": [
      "Validation Dice Score\n",
      "Class 0: 0.6649, Class 1: 0.2382, Class 2: 0.0022, Class 3: 0.0009, \n",
      "Class 4: 0.0528, Class 5: 0.2033, Class 6: 0.0126, \n",
      "Training Loss: 0.9061, Validation Loss: 0.9222\n",
      "Best model saved with validation loss: 0.9222\n",
      "Epoch 7/4000\n"
     ]
    },
    {
     "name": "stderr",
     "output_type": "stream",
     "text": [
      "Training: 100%|██████████| 12/12 [00:22<00:00,  1.91s/it, loss=0.909]\n",
      "Validation: 100%|██████████| 2/2 [00:02<00:00,  1.14s/it, loss=0.922]\n"
     ]
    },
    {
     "name": "stdout",
     "output_type": "stream",
     "text": [
      "Validation Dice Score\n",
      "Class 0: 0.6198, Class 1: 0.4832, Class 2: 0.0022, Class 3: 0.0009, \n",
      "Class 4: 0.2289, Class 5: 0.1001, Class 6: 0.2058, \n",
      "Training Loss: 0.9104, Validation Loss: 0.8631\n",
      "Best model saved with validation loss: 0.8631\n",
      "Epoch 8/4000\n"
     ]
    },
    {
     "name": "stderr",
     "output_type": "stream",
     "text": [
      "Training: 100%|██████████| 12/12 [00:33<00:00,  2.76s/it, loss=0.807]\n",
      "Validation: 100%|██████████| 2/2 [00:03<00:00,  1.72s/it, loss=0.886]\n"
     ]
    },
    {
     "name": "stdout",
     "output_type": "stream",
     "text": [
      "Validation Dice Score\n",
      "Class 0: 0.6318, Class 1: 0.4472, Class 2: 0.0031, Class 3: 0.0001, \n",
      "Class 4: 0.2120, Class 5: 0.2746, Class 6: 0.2535, \n",
      "Training Loss: 0.8781, Validation Loss: 0.8325\n",
      "Best model saved with validation loss: 0.8325\n",
      "Epoch 9/4000\n"
     ]
    },
    {
     "name": "stderr",
     "output_type": "stream",
     "text": [
      "Training: 100%|██████████| 12/12 [00:35<00:00,  2.99s/it, loss=0.839]\n",
      "Validation: 100%|██████████| 2/2 [00:03<00:00,  1.99s/it, loss=0.878]\n"
     ]
    },
    {
     "name": "stdout",
     "output_type": "stream",
     "text": [
      "Validation Dice Score\n",
      "Class 0: 0.6394, Class 1: 0.3822, Class 2: 0.0019, Class 3: 0.0010, \n",
      "Class 4: 0.2773, Class 5: 0.2092, Class 6: 0.2326, \n",
      "Training Loss: 0.8329, Validation Loss: 0.8543\n",
      "Epoch 10/4000\n"
     ]
    },
    {
     "name": "stderr",
     "output_type": "stream",
     "text": [
      "Training: 100%|██████████| 12/12 [00:31<00:00,  2.60s/it, loss=0.882]\n",
      "Validation: 100%|██████████| 2/2 [00:03<00:00,  1.53s/it, loss=0.881]\n"
     ]
    },
    {
     "name": "stdout",
     "output_type": "stream",
     "text": [
      "Validation Dice Score\n",
      "Class 0: 0.6662, Class 1: 0.3316, Class 2: 0.0000, Class 3: 0.0001, \n",
      "Class 4: 0.0192, Class 5: 0.1268, Class 6: 0.3056, \n",
      "Training Loss: 0.8774, Validation Loss: 0.8836\n",
      "Epoch 11/4000\n"
     ]
    },
    {
     "name": "stderr",
     "output_type": "stream",
     "text": [
      "Training: 100%|██████████| 12/12 [00:31<00:00,  2.62s/it, loss=0.899]\n",
      "Validation: 100%|██████████| 2/2 [00:02<00:00,  1.42s/it, loss=0.914]\n"
     ]
    },
    {
     "name": "stdout",
     "output_type": "stream",
     "text": [
      "Validation Dice Score\n",
      "Class 0: 0.6485, Class 1: 0.3698, Class 2: 0.0070, Class 3: 0.0006, \n",
      "Class 4: 0.1361, Class 5: 0.2577, Class 6: 0.1912, \n",
      "Training Loss: 0.8725, Validation Loss: 0.8584\n",
      "Epoch 12/4000\n"
     ]
    },
    {
     "name": "stderr",
     "output_type": "stream",
     "text": [
      "Training: 100%|██████████| 12/12 [00:23<00:00,  1.98s/it, loss=0.793]\n",
      "Validation: 100%|██████████| 2/2 [00:02<00:00,  1.10s/it, loss=0.882]\n"
     ]
    },
    {
     "name": "stdout",
     "output_type": "stream",
     "text": [
      "Validation Dice Score\n",
      "Class 0: 0.6593, Class 1: 0.5690, Class 2: 0.0115, Class 3: 0.0013, \n",
      "Class 4: 0.0647, Class 5: 0.2626, Class 6: 0.3122, \n",
      "Training Loss: 0.8769, Validation Loss: 0.8296\n",
      "Best model saved with validation loss: 0.8296\n",
      "Epoch 13/4000\n"
     ]
    },
    {
     "name": "stderr",
     "output_type": "stream",
     "text": [
      "Training: 100%|██████████| 12/12 [00:22<00:00,  1.89s/it, loss=0.877]\n",
      "Validation: 100%|██████████| 2/2 [00:02<00:00,  1.07s/it, loss=0.863]\n"
     ]
    },
    {
     "name": "stdout",
     "output_type": "stream",
     "text": [
      "Validation Dice Score\n",
      "Class 0: 0.6556, Class 1: 0.3660, Class 2: 0.0034, Class 3: 0.0000, \n",
      "Class 4: 0.1489, Class 5: 0.0748, Class 6: 0.1071, \n",
      "Training Loss: 0.8798, Validation Loss: 0.8999\n",
      "Epoch 14/4000\n"
     ]
    },
    {
     "name": "stderr",
     "output_type": "stream",
     "text": [
      "Training: 100%|██████████| 12/12 [00:23<00:00,  1.95s/it, loss=0.877]\n",
      "Validation: 100%|██████████| 2/2 [00:02<00:00,  1.14s/it, loss=0.897]\n"
     ]
    },
    {
     "name": "stdout",
     "output_type": "stream",
     "text": [
      "Validation Dice Score\n",
      "Class 0: 0.6424, Class 1: 0.5066, Class 2: 0.0000, Class 3: 0.0000, \n",
      "Class 4: 0.1537, Class 5: 0.0760, Class 6: 0.2730, \n",
      "Training Loss: 0.8264, Validation Loss: 0.8539\n",
      "Epoch 15/4000\n"
     ]
    },
    {
     "name": "stderr",
     "output_type": "stream",
     "text": [
      "Training: 100%|██████████| 12/12 [00:24<00:00,  2.00s/it, loss=0.821]\n",
      "Validation: 100%|██████████| 2/2 [00:02<00:00,  1.05s/it, loss=0.791]\n"
     ]
    },
    {
     "name": "stdout",
     "output_type": "stream",
     "text": [
      "Validation Dice Score\n",
      "Class 0: 0.6309, Class 1: 0.5866, Class 2: 0.0035, Class 3: 0.0001, \n",
      "Class 4: 0.3571, Class 5: 0.1513, Class 6: 0.3742, \n",
      "Training Loss: 0.8390, Validation Loss: 0.7792\n",
      "Best model saved with validation loss: 0.7792\n",
      "Epoch 16/4000\n"
     ]
    },
    {
     "name": "stderr",
     "output_type": "stream",
     "text": [
      "Training: 100%|██████████| 12/12 [00:22<00:00,  1.87s/it, loss=0.762]\n",
      "Validation: 100%|██████████| 2/2 [00:02<00:00,  1.05s/it, loss=0.819]\n"
     ]
    },
    {
     "name": "stdout",
     "output_type": "stream",
     "text": [
      "Validation Dice Score\n",
      "Class 0: 0.6389, Class 1: 0.5513, Class 2: 0.0000, Class 3: 0.0000, \n",
      "Class 4: 0.3246, Class 5: 0.0192, Class 6: 0.1008, \n",
      "Training Loss: 0.8581, Validation Loss: 0.8492\n",
      "Epoch 17/4000\n"
     ]
    },
    {
     "name": "stderr",
     "output_type": "stream",
     "text": [
      "Training: 100%|██████████| 12/12 [00:23<00:00,  1.95s/it, loss=0.915]\n",
      "Validation: 100%|██████████| 2/2 [00:02<00:00,  1.18s/it, loss=0.855]\n"
     ]
    },
    {
     "name": "stdout",
     "output_type": "stream",
     "text": [
      "Validation Dice Score\n",
      "Class 0: 0.6347, Class 1: 0.4801, Class 2: 0.0074, Class 3: 0.0012, \n",
      "Class 4: 0.2008, Class 5: 0.0948, Class 6: 0.3079, \n",
      "Training Loss: 0.8527, Validation Loss: 0.8352\n",
      "Epoch 18/4000\n"
     ]
    },
    {
     "name": "stderr",
     "output_type": "stream",
     "text": [
      "Training: 100%|██████████| 12/12 [00:22<00:00,  1.91s/it, loss=0.828]\n",
      "Validation: 100%|██████████| 2/2 [00:02<00:00,  1.12s/it, loss=0.834]\n"
     ]
    },
    {
     "name": "stdout",
     "output_type": "stream",
     "text": [
      "Validation Dice Score\n",
      "Class 0: 0.6122, Class 1: 0.4858, Class 2: 0.0124, Class 3: 0.0017, \n",
      "Class 4: 0.2488, Class 5: 0.3370, Class 6: 0.0100, \n",
      "Training Loss: 0.8479, Validation Loss: 0.8216\n",
      "Epoch 19/4000\n"
     ]
    },
    {
     "name": "stderr",
     "output_type": "stream",
     "text": [
      "Training: 100%|██████████| 12/12 [00:22<00:00,  1.85s/it, loss=0.894]\n",
      "Validation: 100%|██████████| 2/2 [00:02<00:00,  1.04s/it, loss=0.779]\n"
     ]
    },
    {
     "name": "stdout",
     "output_type": "stream",
     "text": [
      "Validation Dice Score\n",
      "Class 0: 0.6221, Class 1: 0.3596, Class 2: 0.0046, Class 3: 0.0013, \n",
      "Class 4: 0.0701, Class 5: 0.2100, Class 6: 0.5880, \n",
      "Training Loss: 0.8600, Validation Loss: 0.8027\n",
      "Epoch 20/4000\n"
     ]
    },
    {
     "name": "stderr",
     "output_type": "stream",
     "text": [
      "Training: 100%|██████████| 12/12 [00:22<00:00,  1.89s/it, loss=0.85] \n",
      "Validation: 100%|██████████| 2/2 [00:02<00:00,  1.05s/it, loss=0.863]\n"
     ]
    },
    {
     "name": "stdout",
     "output_type": "stream",
     "text": [
      "Validation Dice Score\n",
      "Class 0: 0.6059, Class 1: 0.5931, Class 2: 0.0170, Class 3: 0.0014, \n",
      "Class 4: 0.2419, Class 5: 0.0866, Class 6: 0.2451, \n",
      "Training Loss: 0.8464, Validation Loss: 0.8385\n",
      "Epoch 21/4000\n"
     ]
    },
    {
     "name": "stderr",
     "output_type": "stream",
     "text": [
      "Training: 100%|██████████| 12/12 [00:22<00:00,  1.86s/it, loss=0.845]\n",
      "Validation: 100%|██████████| 2/2 [00:02<00:00,  1.07s/it, loss=0.803]\n"
     ]
    },
    {
     "name": "stdout",
     "output_type": "stream",
     "text": [
      "Validation Dice Score\n",
      "Class 0: 0.6167, Class 1: 0.6306, Class 2: 0.0104, Class 3: 0.0004, \n",
      "Class 4: 0.2974, Class 5: 0.2511, Class 6: 0.0003, \n",
      "Training Loss: 0.8519, Validation Loss: 0.8206\n",
      "Epoch 22/4000\n"
     ]
    },
    {
     "name": "stderr",
     "output_type": "stream",
     "text": [
      "Training: 100%|██████████| 12/12 [00:23<00:00,  1.92s/it, loss=0.806]\n",
      "Validation: 100%|██████████| 2/2 [00:02<00:00,  1.10s/it, loss=0.798]\n"
     ]
    },
    {
     "name": "stdout",
     "output_type": "stream",
     "text": [
      "Validation Dice Score\n",
      "Class 0: 0.6338, Class 1: 0.2333, Class 2: 0.0254, Class 3: 0.0000, \n",
      "Class 4: 0.2865, Class 5: 0.4281, Class 6: 0.0000, \n",
      "Training Loss: 0.8280, Validation Loss: 0.8605\n",
      "Epoch 23/4000\n"
     ]
    },
    {
     "name": "stderr",
     "output_type": "stream",
     "text": [
      "Training: 100%|██████████| 12/12 [00:23<00:00,  1.94s/it, loss=0.783]\n",
      "Validation: 100%|██████████| 2/2 [00:02<00:00,  1.15s/it, loss=0.854]\n"
     ]
    },
    {
     "name": "stdout",
     "output_type": "stream",
     "text": [
      "Validation Dice Score\n",
      "Class 0: 0.6307, Class 1: 0.5753, Class 2: 0.0296, Class 3: 0.0000, \n",
      "Class 4: 0.3839, Class 5: 0.1584, Class 6: 0.2958, \n",
      "Training Loss: 0.7849, Validation Loss: 0.7989\n",
      "Epoch 24/4000\n"
     ]
    },
    {
     "name": "stderr",
     "output_type": "stream",
     "text": [
      "Training: 100%|██████████| 12/12 [00:22<00:00,  1.91s/it, loss=0.831]\n",
      "Validation: 100%|██████████| 2/2 [00:02<00:00,  1.11s/it, loss=0.781]\n"
     ]
    },
    {
     "name": "stdout",
     "output_type": "stream",
     "text": [
      "Validation Dice Score\n",
      "Class 0: 0.6090, Class 1: 0.5938, Class 2: 0.0366, Class 3: 0.0014, \n",
      "Class 4: 0.1711, Class 5: 0.1269, Class 6: 0.1448, \n",
      "Training Loss: 0.8194, Validation Loss: 0.8238\n",
      "Epoch 25/4000\n"
     ]
    },
    {
     "name": "stderr",
     "output_type": "stream",
     "text": [
      "Training: 100%|██████████| 12/12 [00:23<00:00,  1.92s/it, loss=0.798]\n",
      "Validation: 100%|██████████| 2/2 [00:02<00:00,  1.10s/it, loss=0.725]\n"
     ]
    },
    {
     "name": "stdout",
     "output_type": "stream",
     "text": [
      "Validation Dice Score\n",
      "Class 0: 0.6457, Class 1: 0.6608, Class 2: 0.0079, Class 3: 0.0027, \n",
      "Class 4: 0.0977, Class 5: 0.2264, Class 6: 0.5448, \n",
      "Training Loss: 0.8280, Validation Loss: 0.7751\n",
      "Best model saved with validation loss: 0.7751\n",
      "Epoch 26/4000\n"
     ]
    },
    {
     "name": "stderr",
     "output_type": "stream",
     "text": [
      "Training: 100%|██████████| 12/12 [00:23<00:00,  1.92s/it, loss=0.86] \n",
      "Validation: 100%|██████████| 2/2 [00:02<00:00,  1.06s/it, loss=0.885]\n"
     ]
    },
    {
     "name": "stdout",
     "output_type": "stream",
     "text": [
      "Validation Dice Score\n",
      "Class 0: 0.6221, Class 1: 0.6544, Class 2: 0.0519, Class 3: 0.0006, \n",
      "Class 4: 0.0164, Class 5: 0.1225, Class 6: 0.2844, \n",
      "Training Loss: 0.8098, Validation Loss: 0.8642\n",
      "Epoch 27/4000\n"
     ]
    },
    {
     "name": "stderr",
     "output_type": "stream",
     "text": [
      "Training: 100%|██████████| 12/12 [00:23<00:00,  1.93s/it, loss=0.894]\n",
      "Validation: 100%|██████████| 2/2 [00:02<00:00,  1.11s/it, loss=0.816]\n"
     ]
    },
    {
     "name": "stdout",
     "output_type": "stream",
     "text": [
      "Validation Dice Score\n",
      "Class 0: 0.6115, Class 1: 0.6045, Class 2: 0.0041, Class 3: 0.0006, \n",
      "Class 4: 0.2836, Class 5: 0.1670, Class 6: 0.4642, \n",
      "Training Loss: 0.8469, Validation Loss: 0.8062\n",
      "Epoch 28/4000\n"
     ]
    },
    {
     "name": "stderr",
     "output_type": "stream",
     "text": [
      "Training: 100%|██████████| 12/12 [00:23<00:00,  1.92s/it, loss=0.853]\n",
      "Validation: 100%|██████████| 2/2 [00:02<00:00,  1.16s/it, loss=0.824]\n"
     ]
    },
    {
     "name": "stdout",
     "output_type": "stream",
     "text": [
      "Validation Dice Score\n",
      "Class 0: 0.6090, Class 1: 0.6783, Class 2: 0.0533, Class 3: 0.0001, \n",
      "Class 4: 0.1732, Class 5: 0.2917, Class 6: 0.2938, \n",
      "Training Loss: 0.8387, Validation Loss: 0.7864\n",
      "Epoch 29/4000\n"
     ]
    },
    {
     "name": "stderr",
     "output_type": "stream",
     "text": [
      "Training: 100%|██████████| 12/12 [00:23<00:00,  1.94s/it, loss=0.85] \n",
      "Validation: 100%|██████████| 2/2 [00:02<00:00,  1.17s/it, loss=0.814]\n"
     ]
    },
    {
     "name": "stdout",
     "output_type": "stream",
     "text": [
      "Validation Dice Score\n",
      "Class 0: 0.6104, Class 1: 0.6203, Class 2: 0.0042, Class 3: 0.0000, \n",
      "Class 4: 0.1967, Class 5: 0.1424, Class 6: 0.2227, \n",
      "Training Loss: 0.8004, Validation Loss: 0.8251\n",
      "Epoch 30/4000\n"
     ]
    },
    {
     "name": "stderr",
     "output_type": "stream",
     "text": [
      "Training: 100%|██████████| 12/12 [00:23<00:00,  1.92s/it, loss=0.869]\n",
      "Validation: 100%|██████████| 2/2 [00:01<00:00,  1.38it/s, loss=0.824]\n"
     ]
    },
    {
     "name": "stdout",
     "output_type": "stream",
     "text": [
      "Validation Dice Score\n",
      "Class 0: 0.6184, Class 1: 0.6833, Class 2: 0.0213, Class 3: 0.0003, \n",
      "Class 4: 0.3060, Class 5: 0.3214, Class 6: 0.3635, \n",
      "Training Loss: 0.8280, Validation Loss: 0.7649\n",
      "Best model saved with validation loss: 0.7649\n",
      "Epoch 31/4000\n"
     ]
    },
    {
     "name": "stderr",
     "output_type": "stream",
     "text": [
      "Training: 100%|██████████| 12/12 [00:23<00:00,  1.95s/it, loss=0.751]\n",
      "Validation: 100%|██████████| 2/2 [00:01<00:00,  1.46it/s, loss=0.837]\n"
     ]
    },
    {
     "name": "stdout",
     "output_type": "stream",
     "text": [
      "Validation Dice Score\n",
      "Class 0: 0.6238, Class 1: 0.6429, Class 2: 0.0486, Class 3: 0.0003, \n",
      "Class 4: 0.3206, Class 5: 0.1529, Class 6: 0.0000, \n",
      "Training Loss: 0.8089, Validation Loss: 0.8131\n",
      "Epoch 32/4000\n"
     ]
    },
    {
     "name": "stderr",
     "output_type": "stream",
     "text": [
      "Training: 100%|██████████| 12/12 [00:23<00:00,  1.94s/it, loss=0.885]\n",
      "Validation: 100%|██████████| 2/2 [00:01<00:00,  1.41it/s, loss=0.825]\n"
     ]
    },
    {
     "name": "stdout",
     "output_type": "stream",
     "text": [
      "Validation Dice Score\n",
      "Class 0: 0.6263, Class 1: 0.7964, Class 2: 0.0000, Class 3: 0.0029, \n",
      "Class 4: 0.2183, Class 5: 0.2478, Class 6: 0.5968, \n",
      "Training Loss: 0.8286, Validation Loss: 0.7445\n",
      "Best model saved with validation loss: 0.7445\n",
      "Epoch 33/4000\n"
     ]
    },
    {
     "name": "stderr",
     "output_type": "stream",
     "text": [
      "Training: 100%|██████████| 12/12 [00:22<00:00,  1.91s/it, loss=0.728]\n",
      "Validation: 100%|██████████| 2/2 [00:01<00:00,  1.39it/s, loss=0.84] \n"
     ]
    },
    {
     "name": "stdout",
     "output_type": "stream",
     "text": [
      "Validation Dice Score\n",
      "Class 0: 0.6451, Class 1: 0.7392, Class 2: 0.0306, Class 3: 0.0005, \n",
      "Class 4: 0.2368, Class 5: 0.4792, Class 6: 0.3172, \n",
      "Training Loss: 0.7890, Validation Loss: 0.7593\n",
      "Epoch 34/4000\n"
     ]
    },
    {
     "name": "stderr",
     "output_type": "stream",
     "text": [
      "Training: 100%|██████████| 12/12 [00:24<00:00,  2.00s/it, loss=0.765]\n",
      "Validation: 100%|██████████| 2/2 [00:02<00:00,  1.06s/it, loss=0.782]\n"
     ]
    },
    {
     "name": "stdout",
     "output_type": "stream",
     "text": [
      "Validation Dice Score\n",
      "Class 0: 0.6185, Class 1: 0.4203, Class 2: 0.0419, Class 3: 0.0017, \n",
      "Class 4: 0.2018, Class 5: 0.1924, Class 6: 0.5367, \n",
      "Training Loss: 0.8122, Validation Loss: 0.8028\n",
      "Epoch 35/4000\n"
     ]
    },
    {
     "name": "stderr",
     "output_type": "stream",
     "text": [
      "Training: 100%|██████████| 12/12 [00:23<00:00,  1.94s/it, loss=0.808]\n",
      "Validation: 100%|██████████| 2/2 [00:01<00:00,  1.55it/s, loss=0.761]\n"
     ]
    },
    {
     "name": "stdout",
     "output_type": "stream",
     "text": [
      "Validation Dice Score\n",
      "Class 0: 0.6080, Class 1: 0.5401, Class 2: 0.0123, Class 3: 0.0006, \n",
      "Class 4: 0.2906, Class 5: 0.2747, Class 6: 0.5784, \n",
      "Training Loss: 0.8041, Validation Loss: 0.7885\n",
      "Epoch 36/4000\n"
     ]
    },
    {
     "name": "stderr",
     "output_type": "stream",
     "text": [
      "Training: 100%|██████████| 12/12 [00:22<00:00,  1.88s/it, loss=0.782]\n",
      "Validation: 100%|██████████| 2/2 [00:01<00:00,  1.48it/s, loss=0.761]\n"
     ]
    },
    {
     "name": "stdout",
     "output_type": "stream",
     "text": [
      "Validation Dice Score\n",
      "Class 0: 0.6336, Class 1: 0.5458, Class 2: 0.1183, Class 3: 0.0024, \n",
      "Class 4: 0.2542, Class 5: 0.2132, Class 6: 0.6464, \n",
      "Training Loss: 0.8114, Validation Loss: 0.7942\n",
      "Epoch 37/4000\n"
     ]
    },
    {
     "name": "stderr",
     "output_type": "stream",
     "text": [
      "Training: 100%|██████████| 12/12 [00:22<00:00,  1.91s/it, loss=0.673]\n",
      "Validation: 100%|██████████| 2/2 [00:01<00:00,  1.51it/s, loss=0.793]\n"
     ]
    },
    {
     "name": "stdout",
     "output_type": "stream",
     "text": [
      "Validation Dice Score\n",
      "Class 0: 0.6235, Class 1: 0.6859, Class 2: 0.0479, Class 3: 0.0007, \n",
      "Class 4: 0.5607, Class 5: 0.1785, Class 6: 0.0000, \n",
      "Training Loss: 0.7805, Validation Loss: 0.7876\n",
      "Epoch 38/4000\n"
     ]
    },
    {
     "name": "stderr",
     "output_type": "stream",
     "text": [
      "Training: 100%|██████████| 12/12 [00:22<00:00,  1.88s/it, loss=0.801]\n",
      "Validation: 100%|██████████| 2/2 [00:02<00:00,  1.11s/it, loss=0.817]\n"
     ]
    },
    {
     "name": "stdout",
     "output_type": "stream",
     "text": [
      "Validation Dice Score\n",
      "Class 0: 0.6191, Class 1: 0.7208, Class 2: 0.0001, Class 3: 0.0004, \n",
      "Class 4: 0.3143, Class 5: 0.3961, Class 6: 0.4392, \n",
      "Training Loss: 0.8037, Validation Loss: 0.7661\n",
      "Epoch 39/4000\n"
     ]
    },
    {
     "name": "stderr",
     "output_type": "stream",
     "text": [
      "Training: 100%|██████████| 12/12 [00:22<00:00,  1.90s/it, loss=0.861]\n",
      "Validation: 100%|██████████| 2/2 [00:02<00:00,  1.06s/it, loss=0.712]\n"
     ]
    },
    {
     "name": "stdout",
     "output_type": "stream",
     "text": [
      "Validation Dice Score\n",
      "Class 0: 0.6250, Class 1: 0.7558, Class 2: 0.0000, Class 3: 0.0002, \n",
      "Class 4: 0.4716, Class 5: 0.1780, Class 6: 0.7222, \n",
      "Training Loss: 0.7997, Validation Loss: 0.6991\n",
      "Best model saved with validation loss: 0.6991\n",
      "Epoch 40/4000\n"
     ]
    },
    {
     "name": "stderr",
     "output_type": "stream",
     "text": [
      "Training: 100%|██████████| 12/12 [00:22<00:00,  1.91s/it, loss=0.792]\n",
      "Validation: 100%|██████████| 2/2 [00:02<00:00,  1.12s/it, loss=0.759]\n"
     ]
    },
    {
     "name": "stdout",
     "output_type": "stream",
     "text": [
      "Validation Dice Score\n",
      "Class 0: 0.6440, Class 1: 0.6728, Class 2: 0.0404, Class 3: 0.0000, \n",
      "Class 4: 0.2423, Class 5: 0.3498, Class 6: 0.0000, \n",
      "Training Loss: 0.7974, Validation Loss: 0.7916\n",
      "Epoch 41/4000\n"
     ]
    },
    {
     "name": "stderr",
     "output_type": "stream",
     "text": [
      "Training: 100%|██████████| 12/12 [00:23<00:00,  1.95s/it, loss=0.772]\n",
      "Validation: 100%|██████████| 2/2 [00:02<00:00,  1.08s/it, loss=0.822]\n"
     ]
    },
    {
     "name": "stdout",
     "output_type": "stream",
     "text": [
      "Validation Dice Score\n",
      "Class 0: 0.6330, Class 1: 0.5902, Class 2: 0.0121, Class 3: 0.0012, \n",
      "Class 4: 0.0485, Class 5: 0.0000, Class 6: 0.6625, \n",
      "Training Loss: 0.7735, Validation Loss: 0.8121\n",
      "Epoch 42/4000\n"
     ]
    },
    {
     "name": "stderr",
     "output_type": "stream",
     "text": [
      "Training: 100%|██████████| 12/12 [00:22<00:00,  1.84s/it, loss=0.855]\n",
      "Validation: 100%|██████████| 2/2 [00:02<00:00,  1.05s/it, loss=0.768]\n"
     ]
    },
    {
     "name": "stdout",
     "output_type": "stream",
     "text": [
      "Validation Dice Score\n",
      "Class 0: 0.6390, Class 1: 0.3738, Class 2: 0.0000, Class 3: 0.0023, \n",
      "Class 4: 0.1749, Class 5: 0.2036, Class 6: 0.4204, \n",
      "Training Loss: 0.7919, Validation Loss: 0.8148\n",
      "Epoch 43/4000\n"
     ]
    },
    {
     "name": "stderr",
     "output_type": "stream",
     "text": [
      "Training: 100%|██████████| 12/12 [00:22<00:00,  1.85s/it, loss=0.871]\n",
      "Validation: 100%|██████████| 2/2 [00:02<00:00,  1.05s/it, loss=0.85]\n"
     ]
    },
    {
     "name": "stdout",
     "output_type": "stream",
     "text": [
      "Validation Dice Score\n",
      "Class 0: 0.6320, Class 1: 0.6544, Class 2: 0.0000, Class 3: 0.0010, \n",
      "Class 4: 0.2299, Class 5: 0.3152, Class 6: 0.3274, \n",
      "Training Loss: 0.7958, Validation Loss: 0.7800\n",
      "Epoch 44/4000\n"
     ]
    },
    {
     "name": "stderr",
     "output_type": "stream",
     "text": [
      "Training: 100%|██████████| 12/12 [00:22<00:00,  1.88s/it, loss=0.781]\n",
      "Validation: 100%|██████████| 2/2 [00:02<00:00,  1.06s/it, loss=0.785]\n"
     ]
    },
    {
     "name": "stdout",
     "output_type": "stream",
     "text": [
      "Validation Dice Score\n",
      "Class 0: 0.6217, Class 1: 0.5777, Class 2: 0.0198, Class 3: 0.0009, \n",
      "Class 4: 0.3797, Class 5: 0.1754, Class 6: 0.3347, \n",
      "Training Loss: 0.7773, Validation Loss: 0.7872\n",
      "Epoch 45/4000\n"
     ]
    },
    {
     "name": "stderr",
     "output_type": "stream",
     "text": [
      "Training: 100%|██████████| 12/12 [00:22<00:00,  1.86s/it, loss=0.787]\n",
      "Validation: 100%|██████████| 2/2 [00:02<00:00,  1.05s/it, loss=0.711]\n"
     ]
    },
    {
     "name": "stdout",
     "output_type": "stream",
     "text": [
      "Validation Dice Score\n",
      "Class 0: 0.6144, Class 1: 0.7445, Class 2: 0.0000, Class 3: 0.0009, \n",
      "Class 4: 0.0719, Class 5: 0.2004, Class 6: 0.6259, \n",
      "Training Loss: 0.7816, Validation Loss: 0.7819\n",
      "Epoch 46/4000\n"
     ]
    },
    {
     "name": "stderr",
     "output_type": "stream",
     "text": [
      "Training: 100%|██████████| 12/12 [00:21<00:00,  1.83s/it, loss=0.827]\n",
      "Validation: 100%|██████████| 2/2 [00:02<00:00,  1.07s/it, loss=0.731]\n"
     ]
    },
    {
     "name": "stdout",
     "output_type": "stream",
     "text": [
      "Validation Dice Score\n",
      "Class 0: 0.6264, Class 1: 0.6328, Class 2: 0.0000, Class 3: 0.0000, \n",
      "Class 4: 0.3841, Class 5: 0.3578, Class 6: 0.7580, \n",
      "Training Loss: 0.7966, Validation Loss: 0.7268\n",
      "Epoch 47/4000\n"
     ]
    },
    {
     "name": "stderr",
     "output_type": "stream",
     "text": [
      "Training: 100%|██████████| 12/12 [00:22<00:00,  1.86s/it, loss=0.81] \n",
      "Validation: 100%|██████████| 2/2 [00:02<00:00,  1.13s/it, loss=0.728]\n"
     ]
    },
    {
     "name": "stdout",
     "output_type": "stream",
     "text": [
      "Validation Dice Score\n",
      "Class 0: 0.6344, Class 1: 0.5869, Class 2: 0.0011, Class 3: 0.0007, \n",
      "Class 4: 0.3090, Class 5: 0.1766, Class 6: 0.3350, \n",
      "Training Loss: 0.7790, Validation Loss: 0.7954\n",
      "Epoch 48/4000\n"
     ]
    },
    {
     "name": "stderr",
     "output_type": "stream",
     "text": [
      "Training: 100%|██████████| 12/12 [00:21<00:00,  1.78s/it, loss=0.791]\n",
      "Validation: 100%|██████████| 2/2 [00:01<00:00,  1.50it/s, loss=0.71] \n"
     ]
    },
    {
     "name": "stdout",
     "output_type": "stream",
     "text": [
      "Validation Dice Score\n",
      "Class 0: 0.6343, Class 1: 0.5358, Class 2: 0.0165, Class 3: 0.0006, \n",
      "Class 4: 0.4382, Class 5: 0.3094, Class 6: 0.7771, \n",
      "Training Loss: 0.8258, Validation Loss: 0.7386\n",
      "Epoch 49/4000\n"
     ]
    },
    {
     "name": "stderr",
     "output_type": "stream",
     "text": [
      "Training: 100%|██████████| 12/12 [00:22<00:00,  1.85s/it, loss=0.733]\n",
      "Validation: 100%|██████████| 2/2 [00:01<00:00,  1.55it/s, loss=0.714]\n"
     ]
    },
    {
     "name": "stdout",
     "output_type": "stream",
     "text": [
      "Validation Dice Score\n",
      "Class 0: 0.6300, Class 1: 0.7835, Class 2: 0.0763, Class 3: 0.0003, \n",
      "Class 4: 0.4037, Class 5: 0.3074, Class 6: 0.7634, \n",
      "Training Loss: 0.7542, Validation Loss: 0.6854\n",
      "Best model saved with validation loss: 0.6854\n",
      "Epoch 50/4000\n"
     ]
    },
    {
     "name": "stderr",
     "output_type": "stream",
     "text": [
      "Training: 100%|██████████| 12/12 [00:21<00:00,  1.81s/it, loss=0.822]\n",
      "Validation: 100%|██████████| 2/2 [00:01<00:00,  1.52it/s, loss=0.741]\n"
     ]
    },
    {
     "name": "stdout",
     "output_type": "stream",
     "text": [
      "Validation Dice Score\n",
      "Class 0: 0.6352, Class 1: 0.7129, Class 2: 0.0000, Class 3: 0.0017, \n",
      "Class 4: 0.3179, Class 5: 0.2846, Class 6: 0.3434, \n",
      "Training Loss: 0.8246, Validation Loss: 0.7512\n",
      "Epoch 51/4000\n"
     ]
    },
    {
     "name": "stderr",
     "output_type": "stream",
     "text": [
      "Training: 100%|██████████| 12/12 [00:21<00:00,  1.78s/it, loss=0.823]\n",
      "Validation: 100%|██████████| 2/2 [00:01<00:00,  1.47it/s, loss=0.739]\n"
     ]
    },
    {
     "name": "stdout",
     "output_type": "stream",
     "text": [
      "Validation Dice Score\n",
      "Class 0: 0.6397, Class 1: 0.5579, Class 2: 0.0000, Class 3: 0.0002, \n",
      "Class 4: 0.5701, Class 5: 0.2940, Class 6: 0.3783, \n",
      "Training Loss: 0.7769, Validation Loss: 0.7688\n",
      "Epoch 52/4000\n"
     ]
    },
    {
     "name": "stderr",
     "output_type": "stream",
     "text": [
      "Training: 100%|██████████| 12/12 [00:22<00:00,  1.84s/it, loss=0.894]\n",
      "Validation: 100%|██████████| 2/2 [00:01<00:00,  1.51it/s, loss=0.746]\n"
     ]
    },
    {
     "name": "stdout",
     "output_type": "stream",
     "text": [
      "Validation Dice Score\n",
      "Class 0: 0.6275, Class 1: 0.6931, Class 2: 0.0199, Class 3: 0.0000, \n",
      "Class 4: 0.0000, Class 5: 0.4646, Class 6: 0.3290, \n",
      "Training Loss: 0.7806, Validation Loss: 0.7919\n",
      "Epoch 53/4000\n"
     ]
    },
    {
     "name": "stderr",
     "output_type": "stream",
     "text": [
      "Training: 100%|██████████| 12/12 [00:22<00:00,  1.89s/it, loss=0.765]\n",
      "Validation: 100%|██████████| 2/2 [00:01<00:00,  1.39it/s, loss=0.748]\n"
     ]
    },
    {
     "name": "stdout",
     "output_type": "stream",
     "text": [
      "Validation Dice Score\n",
      "Class 0: 0.6109, Class 1: 0.7404, Class 2: 0.0310, Class 3: 0.0021, \n",
      "Class 4: 0.3244, Class 5: 0.3227, Class 6: 0.5765, \n",
      "Training Loss: 0.8045, Validation Loss: 0.6973\n",
      "Epoch 54/4000\n"
     ]
    },
    {
     "name": "stderr",
     "output_type": "stream",
     "text": [
      "Training: 100%|██████████| 12/12 [00:21<00:00,  1.78s/it, loss=0.719]\n",
      "Validation: 100%|██████████| 2/2 [00:01<00:00,  1.49it/s, loss=0.708]\n"
     ]
    },
    {
     "name": "stdout",
     "output_type": "stream",
     "text": [
      "Validation Dice Score\n",
      "Class 0: 0.6157, Class 1: 0.3835, Class 2: 0.0462, Class 3: 0.0013, \n",
      "Class 4: 0.4727, Class 5: 0.1541, Class 6: 0.6839, \n",
      "Training Loss: 0.7637, Validation Loss: 0.7336\n",
      "Epoch 55/4000\n"
     ]
    },
    {
     "name": "stderr",
     "output_type": "stream",
     "text": [
      "Training: 100%|██████████| 12/12 [00:21<00:00,  1.77s/it, loss=0.817]\n",
      "Validation: 100%|██████████| 2/2 [00:01<00:00,  1.52it/s, loss=0.779]\n"
     ]
    },
    {
     "name": "stdout",
     "output_type": "stream",
     "text": [
      "Validation Dice Score\n",
      "Class 0: 0.6135, Class 1: 0.6929, Class 2: 0.0000, Class 3: 0.0011, \n",
      "Class 4: 0.3996, Class 5: 0.1067, Class 6: 0.7858, \n",
      "Training Loss: 0.7898, Validation Loss: 0.7489\n",
      "Epoch 56/4000\n"
     ]
    },
    {
     "name": "stderr",
     "output_type": "stream",
     "text": [
      "Training: 100%|██████████| 12/12 [00:21<00:00,  1.81s/it, loss=0.647]\n",
      "Validation: 100%|██████████| 2/2 [00:01<00:00,  1.50it/s, loss=0.765]\n"
     ]
    },
    {
     "name": "stdout",
     "output_type": "stream",
     "text": [
      "Validation Dice Score\n",
      "Class 0: 0.6188, Class 1: 0.7203, Class 2: 0.0004, Class 3: 0.0008, \n",
      "Class 4: 0.3412, Class 5: 0.5010, Class 6: 0.8019, \n",
      "Training Loss: 0.7827, Validation Loss: 0.6902\n",
      "Epoch 57/4000\n"
     ]
    },
    {
     "name": "stderr",
     "output_type": "stream",
     "text": [
      "Training: 100%|██████████| 12/12 [00:22<00:00,  1.85s/it, loss=0.766]\n",
      "Validation: 100%|██████████| 2/2 [00:01<00:00,  1.50it/s, loss=0.705]\n"
     ]
    },
    {
     "name": "stdout",
     "output_type": "stream",
     "text": [
      "Validation Dice Score\n",
      "Class 0: 0.6152, Class 1: 0.6862, Class 2: 0.0272, Class 3: 0.0004, \n",
      "Class 4: 0.4067, Class 5: 0.2504, Class 6: 0.5286, \n",
      "Training Loss: 0.7754, Validation Loss: 0.7369\n",
      "Epoch 58/4000\n"
     ]
    },
    {
     "name": "stderr",
     "output_type": "stream",
     "text": [
      "Training: 100%|██████████| 12/12 [00:21<00:00,  1.79s/it, loss=0.746]\n",
      "Validation: 100%|██████████| 2/2 [00:01<00:00,  1.46it/s, loss=0.769]\n"
     ]
    },
    {
     "name": "stdout",
     "output_type": "stream",
     "text": [
      "Validation Dice Score\n",
      "Class 0: 0.6217, Class 1: 0.6607, Class 2: 0.0043, Class 3: 0.0005, \n",
      "Class 4: 0.1776, Class 5: 0.1494, Class 6: 0.5582, \n",
      "Training Loss: 0.7760, Validation Loss: 0.7450\n",
      "Epoch 59/4000\n"
     ]
    },
    {
     "name": "stderr",
     "output_type": "stream",
     "text": [
      "Training: 100%|██████████| 12/12 [00:22<00:00,  1.87s/it, loss=0.812]\n",
      "Validation: 100%|██████████| 2/2 [00:01<00:00,  1.44it/s, loss=0.734]\n"
     ]
    },
    {
     "name": "stdout",
     "output_type": "stream",
     "text": [
      "Validation Dice Score\n",
      "Class 0: 0.6001, Class 1: 0.6398, Class 2: 0.0936, Class 3: 0.0012, \n",
      "Class 4: 0.5419, Class 5: 0.3925, Class 6: 0.2598, \n",
      "Training Loss: 0.8029, Validation Loss: 0.7258\n",
      "Epoch 60/4000\n"
     ]
    },
    {
     "name": "stderr",
     "output_type": "stream",
     "text": [
      "Training: 100%|██████████| 12/12 [00:22<00:00,  1.87s/it, loss=0.71] \n",
      "Validation: 100%|██████████| 2/2 [00:01<00:00,  1.51it/s, loss=0.65] \n"
     ]
    },
    {
     "name": "stdout",
     "output_type": "stream",
     "text": [
      "Validation Dice Score\n",
      "Class 0: 0.6170, Class 1: 0.6969, Class 2: 0.0781, Class 3: 0.0008, \n",
      "Class 4: 0.4193, Class 5: 0.2485, Class 6: 0.7513, \n",
      "Training Loss: 0.7964, Validation Loss: 0.7031\n",
      "Epoch 61/4000\n"
     ]
    },
    {
     "name": "stderr",
     "output_type": "stream",
     "text": [
      "Training: 100%|██████████| 12/12 [00:22<00:00,  1.85s/it, loss=0.852]\n",
      "Validation: 100%|██████████| 2/2 [00:01<00:00,  1.52it/s, loss=0.699]\n"
     ]
    },
    {
     "name": "stdout",
     "output_type": "stream",
     "text": [
      "Validation Dice Score\n",
      "Class 0: 0.6403, Class 1: 0.6755, Class 2: 0.0059, Class 3: 0.0016, \n",
      "Class 4: 0.5006, Class 5: 0.3374, Class 6: 0.7555, \n",
      "Training Loss: 0.8110, Validation Loss: 0.6912\n",
      "Epoch 62/4000\n"
     ]
    },
    {
     "name": "stderr",
     "output_type": "stream",
     "text": [
      "Training: 100%|██████████| 12/12 [00:21<00:00,  1.81s/it, loss=0.706]\n",
      "Validation: 100%|██████████| 2/2 [00:02<00:00,  1.08s/it, loss=0.765]\n"
     ]
    },
    {
     "name": "stdout",
     "output_type": "stream",
     "text": [
      "Validation Dice Score\n",
      "Class 0: 0.6295, Class 1: 0.7403, Class 2: 0.0154, Class 3: 0.0008, \n",
      "Class 4: 0.1251, Class 5: 0.1559, Class 6: 0.7914, \n",
      "Training Loss: 0.7907, Validation Loss: 0.7702\n",
      "Epoch 63/4000\n"
     ]
    },
    {
     "name": "stderr",
     "output_type": "stream",
     "text": [
      "Training: 100%|██████████| 12/12 [00:23<00:00,  1.92s/it, loss=0.742]\n",
      "Validation: 100%|██████████| 2/2 [00:02<00:00,  1.05s/it, loss=0.693]\n"
     ]
    },
    {
     "name": "stdout",
     "output_type": "stream",
     "text": [
      "Validation Dice Score\n",
      "Class 0: 0.6352, Class 1: 0.7512, Class 2: 0.0117, Class 3: 0.0005, \n",
      "Class 4: 0.5546, Class 5: 0.4937, Class 6: 0.4419, \n",
      "Training Loss: 0.7773, Validation Loss: 0.7026\n",
      "Epoch 64/4000\n"
     ]
    },
    {
     "name": "stderr",
     "output_type": "stream",
     "text": [
      "Training: 100%|██████████| 12/12 [00:22<00:00,  1.84s/it, loss=0.857]\n",
      "Validation: 100%|██████████| 2/2 [00:01<00:00,  1.52it/s, loss=0.56] \n"
     ]
    },
    {
     "name": "stdout",
     "output_type": "stream",
     "text": [
      "Validation Dice Score\n",
      "Class 0: 0.6252, Class 1: 0.7965, Class 2: 0.0238, Class 3: 0.0015, \n",
      "Class 4: 0.3087, Class 5: 0.4902, Class 6: 0.6185, \n",
      "Training Loss: 0.8011, Validation Loss: 0.6835\n",
      "Best model saved with validation loss: 0.6835\n",
      "Epoch 65/4000\n"
     ]
    },
    {
     "name": "stderr",
     "output_type": "stream",
     "text": [
      "Training: 100%|██████████| 12/12 [00:22<00:00,  1.84s/it, loss=0.869]\n",
      "Validation: 100%|██████████| 2/2 [00:01<00:00,  1.54it/s, loss=0.774]\n"
     ]
    },
    {
     "name": "stdout",
     "output_type": "stream",
     "text": [
      "Validation Dice Score\n",
      "Class 0: 0.6228, Class 1: 0.6873, Class 2: 0.0042, Class 3: 0.0018, \n",
      "Class 4: 0.5071, Class 5: 0.3165, Class 6: 0.3991, \n",
      "Training Loss: 0.8185, Validation Loss: 0.7024\n",
      "Epoch 66/4000\n"
     ]
    },
    {
     "name": "stderr",
     "output_type": "stream",
     "text": [
      "Training: 100%|██████████| 12/12 [00:21<00:00,  1.78s/it, loss=0.777]\n",
      "Validation: 100%|██████████| 2/2 [00:01<00:00,  1.53it/s, loss=0.736]\n"
     ]
    },
    {
     "name": "stdout",
     "output_type": "stream",
     "text": [
      "Validation Dice Score\n",
      "Class 0: 0.6186, Class 1: 0.7692, Class 2: 0.0713, Class 3: 0.0005, \n",
      "Class 4: 0.4180, Class 5: 0.3008, Class 6: 0.1897, \n",
      "Training Loss: 0.7869, Validation Loss: 0.7352\n",
      "Epoch 67/4000\n"
     ]
    },
    {
     "name": "stderr",
     "output_type": "stream",
     "text": [
      "Training: 100%|██████████| 12/12 [00:22<00:00,  1.85s/it, loss=0.729]\n",
      "Validation: 100%|██████████| 2/2 [00:01<00:00,  1.49it/s, loss=0.747]\n"
     ]
    },
    {
     "name": "stdout",
     "output_type": "stream",
     "text": [
      "Validation Dice Score\n",
      "Class 0: 0.6253, Class 1: 0.6454, Class 2: 0.1156, Class 3: 0.0026, \n",
      "Class 4: 0.0037, Class 5: 0.3289, Class 6: 0.7031, \n",
      "Training Loss: 0.7924, Validation Loss: 0.7510\n",
      "Epoch 68/4000\n"
     ]
    },
    {
     "name": "stderr",
     "output_type": "stream",
     "text": [
      "Training: 100%|██████████| 12/12 [00:22<00:00,  1.87s/it, loss=0.706]\n",
      "Validation: 100%|██████████| 2/2 [00:01<00:00,  1.54it/s, loss=0.859]\n"
     ]
    },
    {
     "name": "stdout",
     "output_type": "stream",
     "text": [
      "Validation Dice Score\n",
      "Class 0: 0.6340, Class 1: 0.4269, Class 2: 0.0000, Class 3: 0.0001, \n",
      "Class 4: 0.5242, Class 5: 0.4463, Class 6: 0.6690, \n",
      "Training Loss: 0.7792, Validation Loss: 0.7424\n",
      "Epoch 69/4000\n"
     ]
    },
    {
     "name": "stderr",
     "output_type": "stream",
     "text": [
      "Training: 100%|██████████| 12/12 [00:23<00:00,  1.94s/it, loss=0.724]\n",
      "Validation: 100%|██████████| 2/2 [00:02<00:00,  1.08s/it, loss=0.8]\n"
     ]
    },
    {
     "name": "stdout",
     "output_type": "stream",
     "text": [
      "Validation Dice Score\n",
      "Class 0: 0.6377, Class 1: 0.5701, Class 2: 0.1749, Class 3: 0.0009, \n",
      "Class 4: 0.2056, Class 5: 0.2714, Class 6: 0.3980, \n",
      "Training Loss: 0.7753, Validation Loss: 0.7998\n",
      "Epoch 70/4000\n"
     ]
    },
    {
     "name": "stderr",
     "output_type": "stream",
     "text": [
      "Training: 100%|██████████| 12/12 [00:22<00:00,  1.87s/it, loss=0.803]\n",
      "Validation: 100%|██████████| 2/2 [00:02<00:00,  1.09s/it, loss=0.795]\n"
     ]
    },
    {
     "name": "stdout",
     "output_type": "stream",
     "text": [
      "Validation Dice Score\n",
      "Class 0: 0.6132, Class 1: 0.4910, Class 2: 0.0000, Class 3: 0.0023, \n",
      "Class 4: 0.5096, Class 5: 0.1327, Class 6: 0.2229, \n",
      "Training Loss: 0.8164, Validation Loss: 0.8111\n",
      "Epoch 71/4000\n"
     ]
    },
    {
     "name": "stderr",
     "output_type": "stream",
     "text": [
      "Training: 100%|██████████| 12/12 [00:33<00:00,  2.77s/it, loss=0.873]\n",
      "Validation: 100%|██████████| 2/2 [00:02<00:00,  1.49s/it, loss=0.849]\n"
     ]
    },
    {
     "name": "stdout",
     "output_type": "stream",
     "text": [
      "Validation Dice Score\n",
      "Class 0: 0.6215, Class 1: 0.8026, Class 2: 0.0000, Class 3: 0.0007, \n",
      "Class 4: 0.4869, Class 5: 0.3083, Class 6: 0.3258, \n",
      "Training Loss: 0.7989, Validation Loss: 0.7440\n",
      "Epoch 72/4000\n"
     ]
    },
    {
     "name": "stderr",
     "output_type": "stream",
     "text": [
      "Training: 100%|██████████| 12/12 [00:33<00:00,  2.80s/it, loss=0.753]\n",
      "Validation: 100%|██████████| 2/2 [00:02<00:00,  1.41s/it, loss=0.709]\n"
     ]
    },
    {
     "name": "stdout",
     "output_type": "stream",
     "text": [
      "Validation Dice Score\n",
      "Class 0: 0.6145, Class 1: 0.7009, Class 2: 0.0000, Class 3: 0.0011, \n",
      "Class 4: 0.0909, Class 5: 0.3270, Class 6: 0.7767, \n",
      "Training Loss: 0.8096, Validation Loss: 0.7333\n",
      "Epoch 73/4000\n"
     ]
    },
    {
     "name": "stderr",
     "output_type": "stream",
     "text": [
      "Training: 100%|██████████| 12/12 [00:33<00:00,  2.75s/it, loss=0.874]\n",
      "Validation: 100%|██████████| 2/2 [00:02<00:00,  1.43s/it, loss=0.798]\n"
     ]
    },
    {
     "name": "stdout",
     "output_type": "stream",
     "text": [
      "Validation Dice Score\n",
      "Class 0: 0.6204, Class 1: 0.7071, Class 2: 0.0000, Class 3: 0.0003, \n",
      "Class 4: 0.6026, Class 5: 0.0468, Class 6: 0.3734, \n",
      "Training Loss: 0.7974, Validation Loss: 0.8168\n",
      "Epoch 74/4000\n"
     ]
    },
    {
     "name": "stderr",
     "output_type": "stream",
     "text": [
      "Training: 100%|██████████| 12/12 [00:33<00:00,  2.77s/it, loss=0.92] \n",
      "Validation: 100%|██████████| 2/2 [00:03<00:00,  1.53s/it, loss=0.681]\n"
     ]
    },
    {
     "name": "stdout",
     "output_type": "stream",
     "text": [
      "Validation Dice Score\n",
      "Class 0: 0.6180, Class 1: 0.6062, Class 2: 0.0506, Class 3: 0.0040, \n",
      "Class 4: 0.1669, Class 5: 0.3555, Class 6: 0.5793, \n",
      "Training Loss: 0.7980, Validation Loss: 0.7569\n",
      "Epoch 75/4000\n"
     ]
    },
    {
     "name": "stderr",
     "output_type": "stream",
     "text": [
      "Training: 100%|██████████| 12/12 [00:31<00:00,  2.66s/it, loss=0.827]\n",
      "Validation: 100%|██████████| 2/2 [00:02<00:00,  1.28s/it, loss=0.701]\n"
     ]
    },
    {
     "name": "stdout",
     "output_type": "stream",
     "text": [
      "Validation Dice Score\n",
      "Class 0: 0.6296, Class 1: 0.8357, Class 2: 0.0000, Class 3: 0.0007, \n",
      "Class 4: 0.1580, Class 5: 0.2969, Class 6: 0.7732, \n",
      "Training Loss: 0.7567, Validation Loss: 0.6897\n",
      "Epoch 76/4000\n"
     ]
    },
    {
     "name": "stderr",
     "output_type": "stream",
     "text": [
      "Training: 100%|██████████| 12/12 [00:30<00:00,  2.55s/it, loss=0.829]\n",
      "Validation: 100%|██████████| 2/2 [00:02<00:00,  1.44s/it, loss=0.816]\n"
     ]
    },
    {
     "name": "stdout",
     "output_type": "stream",
     "text": [
      "Validation Dice Score\n",
      "Class 0: 0.6229, Class 1: 0.4027, Class 2: 0.0000, Class 3: 0.0007, \n",
      "Class 4: 0.2508, Class 5: 0.4026, Class 6: 0.8171, \n",
      "Training Loss: 0.8163, Validation Loss: 0.7352\n",
      "Epoch 77/4000\n"
     ]
    },
    {
     "name": "stderr",
     "output_type": "stream",
     "text": [
      "Training: 100%|██████████| 12/12 [00:29<00:00,  2.50s/it, loss=0.794]\n",
      "Validation: 100%|██████████| 2/2 [00:02<00:00,  1.47s/it, loss=0.713]\n"
     ]
    },
    {
     "name": "stdout",
     "output_type": "stream",
     "text": [
      "Validation Dice Score\n",
      "Class 0: 0.6203, Class 1: 0.8013, Class 2: 0.0574, Class 3: 0.0006, \n",
      "Class 4: 0.0446, Class 5: 0.4291, Class 6: 0.8415, \n",
      "Training Loss: 0.7761, Validation Loss: 0.7277\n",
      "Epoch 78/4000\n"
     ]
    },
    {
     "name": "stderr",
     "output_type": "stream",
     "text": [
      "Training: 100%|██████████| 12/12 [00:29<00:00,  2.43s/it, loss=0.856]\n",
      "Validation: 100%|██████████| 2/2 [00:02<00:00,  1.43s/it, loss=0.903]\n"
     ]
    },
    {
     "name": "stdout",
     "output_type": "stream",
     "text": [
      "Validation Dice Score\n",
      "Class 0: 0.6292, Class 1: 0.6188, Class 2: 0.1152, Class 3: 0.0010, \n",
      "Class 4: 0.3284, Class 5: 0.2167, Class 6: 0.0000, \n",
      "Training Loss: 0.7745, Validation Loss: 0.8621\n",
      "Epoch 79/4000\n"
     ]
    },
    {
     "name": "stderr",
     "output_type": "stream",
     "text": [
      "Training: 100%|██████████| 12/12 [00:29<00:00,  2.46s/it, loss=0.654]\n",
      "Validation: 100%|██████████| 2/2 [00:02<00:00,  1.42s/it, loss=0.791]\n"
     ]
    },
    {
     "name": "stdout",
     "output_type": "stream",
     "text": [
      "Validation Dice Score\n",
      "Class 0: 0.6193, Class 1: 0.7606, Class 2: 0.0937, Class 3: 0.0009, \n",
      "Class 4: 0.0110, Class 5: 0.1958, Class 6: 0.7196, \n",
      "Training Loss: 0.7655, Validation Loss: 0.7530\n",
      "Epoch 80/4000\n"
     ]
    },
    {
     "name": "stderr",
     "output_type": "stream",
     "text": [
      "Training: 100%|██████████| 12/12 [00:30<00:00,  2.56s/it, loss=0.811]\n",
      "Validation: 100%|██████████| 2/2 [00:02<00:00,  1.33s/it, loss=0.749]\n"
     ]
    },
    {
     "name": "stdout",
     "output_type": "stream",
     "text": [
      "Validation Dice Score\n",
      "Class 0: 0.6195, Class 1: 0.7701, Class 2: 0.0181, Class 3: 0.0000, \n",
      "Class 4: 0.3517, Class 5: 0.3839, Class 6: 0.4115, \n",
      "Training Loss: 0.7841, Validation Loss: 0.7039\n",
      "Epoch 81/4000\n"
     ]
    },
    {
     "name": "stderr",
     "output_type": "stream",
     "text": [
      "Training: 100%|██████████| 12/12 [00:30<00:00,  2.52s/it, loss=0.731]\n",
      "Validation: 100%|██████████| 2/2 [00:02<00:00,  1.39s/it, loss=0.849]\n"
     ]
    },
    {
     "name": "stdout",
     "output_type": "stream",
     "text": [
      "Validation Dice Score\n",
      "Class 0: 0.6057, Class 1: 0.6495, Class 2: 0.1503, Class 3: 0.0007, \n",
      "Class 4: 0.3699, Class 5: 0.1716, Class 6: 0.6683, \n",
      "Training Loss: 0.7557, Validation Loss: 0.7630\n",
      "Epoch 82/4000\n"
     ]
    },
    {
     "name": "stderr",
     "output_type": "stream",
     "text": [
      "Training: 100%|██████████| 12/12 [00:30<00:00,  2.54s/it, loss=0.805]\n",
      "Validation: 100%|██████████| 2/2 [00:02<00:00,  1.41s/it, loss=0.642]\n"
     ]
    },
    {
     "name": "stdout",
     "output_type": "stream",
     "text": [
      "Validation Dice Score\n",
      "Class 0: 0.6147, Class 1: 0.7484, Class 2: 0.0000, Class 3: 0.0006, \n",
      "Class 4: 0.6298, Class 5: 0.1489, Class 6: 0.3825, \n",
      "Training Loss: 0.7727, Validation Loss: 0.7250\n",
      "Epoch 83/4000\n"
     ]
    },
    {
     "name": "stderr",
     "output_type": "stream",
     "text": [
      "Training: 100%|██████████| 12/12 [00:29<00:00,  2.47s/it, loss=0.648]\n",
      "Validation: 100%|██████████| 2/2 [00:02<00:00,  1.36s/it, loss=0.823]\n"
     ]
    },
    {
     "name": "stdout",
     "output_type": "stream",
     "text": [
      "Validation Dice Score\n",
      "Class 0: 0.6148, Class 1: 0.5907, Class 2: 0.0597, Class 3: 0.0012, \n",
      "Class 4: 0.3014, Class 5: 0.3971, Class 6: 0.7966, \n",
      "Training Loss: 0.7346, Validation Loss: 0.7145\n",
      "Epoch 84/4000\n"
     ]
    },
    {
     "name": "stderr",
     "output_type": "stream",
     "text": [
      "Training: 100%|██████████| 12/12 [00:29<00:00,  2.43s/it, loss=0.811]\n",
      "Validation: 100%|██████████| 2/2 [00:02<00:00,  1.34s/it, loss=0.714]\n"
     ]
    },
    {
     "name": "stdout",
     "output_type": "stream",
     "text": [
      "Validation Dice Score\n",
      "Class 0: 0.6028, Class 1: 0.6953, Class 2: 0.0000, Class 3: 0.0016, \n",
      "Class 4: 0.4045, Class 5: 0.3158, Class 6: 0.3885, \n",
      "Training Loss: 0.7515, Validation Loss: 0.7805\n",
      "Epoch 85/4000\n"
     ]
    },
    {
     "name": "stderr",
     "output_type": "stream",
     "text": [
      "Training: 100%|██████████| 12/12 [00:29<00:00,  2.48s/it, loss=0.637]\n",
      "Validation: 100%|██████████| 2/2 [00:02<00:00,  1.38s/it, loss=0.73] \n"
     ]
    },
    {
     "name": "stdout",
     "output_type": "stream",
     "text": [
      "Validation Dice Score\n",
      "Class 0: 0.6172, Class 1: 0.7294, Class 2: 0.0464, Class 3: 0.0009, \n",
      "Class 4: 0.0888, Class 5: 0.2899, Class 6: 0.8489, \n",
      "Training Loss: 0.7130, Validation Loss: 0.7165\n",
      "Epoch 86/4000\n"
     ]
    },
    {
     "name": "stderr",
     "output_type": "stream",
     "text": [
      "Training: 100%|██████████| 12/12 [00:31<00:00,  2.61s/it, loss=0.731]\n",
      "Validation: 100%|██████████| 2/2 [00:02<00:00,  1.44s/it, loss=0.772]\n"
     ]
    },
    {
     "name": "stdout",
     "output_type": "stream",
     "text": [
      "Validation Dice Score\n",
      "Class 0: 0.6120, Class 1: 0.7757, Class 2: 0.0859, Class 3: 0.0011, \n",
      "Class 4: 0.3437, Class 5: 0.3403, Class 6: 0.8658, \n",
      "Training Loss: 0.7806, Validation Loss: 0.6734\n",
      "Best model saved with validation loss: 0.6734\n",
      "Epoch 87/4000\n"
     ]
    },
    {
     "name": "stderr",
     "output_type": "stream",
     "text": [
      "Training: 100%|██████████| 12/12 [00:30<00:00,  2.55s/it, loss=0.712]\n",
      "Validation: 100%|██████████| 2/2 [00:02<00:00,  1.42s/it, loss=0.718]\n"
     ]
    },
    {
     "name": "stdout",
     "output_type": "stream",
     "text": [
      "Validation Dice Score\n",
      "Class 0: 0.6059, Class 1: 0.7342, Class 2: 0.0147, Class 3: 0.0006, \n",
      "Class 4: 0.0594, Class 5: 0.1071, Class 6: 0.7113, \n",
      "Training Loss: 0.7402, Validation Loss: 0.7333\n",
      "Epoch 88/4000\n"
     ]
    },
    {
     "name": "stderr",
     "output_type": "stream",
     "text": [
      "Training: 100%|██████████| 12/12 [00:34<00:00,  2.88s/it, loss=0.755]\n",
      "Validation: 100%|██████████| 2/2 [00:02<00:00,  1.48s/it, loss=0.82] \n"
     ]
    },
    {
     "name": "stdout",
     "output_type": "stream",
     "text": [
      "Validation Dice Score\n",
      "Class 0: 0.6044, Class 1: 0.6374, Class 2: 0.0664, Class 3: 0.0028, \n",
      "Class 4: 0.1379, Class 5: 0.2434, Class 6: 0.5646, \n",
      "Training Loss: 0.7809, Validation Loss: 0.7695\n",
      "Epoch 89/4000\n"
     ]
    },
    {
     "name": "stderr",
     "output_type": "stream",
     "text": [
      "Training: 100%|██████████| 12/12 [00:32<00:00,  2.72s/it, loss=0.733]\n",
      "Validation: 100%|██████████| 2/2 [00:02<00:00,  1.17s/it, loss=0.766]\n"
     ]
    },
    {
     "name": "stdout",
     "output_type": "stream",
     "text": [
      "Validation Dice Score\n",
      "Class 0: 0.6105, Class 1: 0.5502, Class 2: 0.0884, Class 3: 0.0007, \n",
      "Class 4: 0.2732, Class 5: 0.2510, Class 6: 0.4844, \n",
      "Training Loss: 0.7457, Validation Loss: 0.7442\n",
      "Epoch 90/4000\n"
     ]
    },
    {
     "name": "stderr",
     "output_type": "stream",
     "text": [
      "Training: 100%|██████████| 12/12 [00:25<00:00,  2.09s/it, loss=0.663]\n",
      "Validation: 100%|██████████| 2/2 [00:02<00:00,  1.12s/it, loss=0.638]\n"
     ]
    },
    {
     "name": "stdout",
     "output_type": "stream",
     "text": [
      "Validation Dice Score\n",
      "Class 0: 0.6138, Class 1: 0.8191, Class 2: 0.0000, Class 3: 0.0006, \n",
      "Class 4: 0.2806, Class 5: 0.3342, Class 6: 0.8585, \n",
      "Training Loss: 0.7425, Validation Loss: 0.6406\n",
      "Best model saved with validation loss: 0.6406\n",
      "Epoch 91/4000\n"
     ]
    },
    {
     "name": "stderr",
     "output_type": "stream",
     "text": [
      "Training: 100%|██████████| 12/12 [00:22<00:00,  1.89s/it, loss=0.788]\n",
      "Validation: 100%|██████████| 2/2 [00:02<00:00,  1.20s/it, loss=0.761]\n"
     ]
    },
    {
     "name": "stdout",
     "output_type": "stream",
     "text": [
      "Validation Dice Score\n",
      "Class 0: 0.6212, Class 1: 0.4334, Class 2: 0.0158, Class 3: 0.0014, \n",
      "Class 4: 0.6043, Class 5: 0.3044, Class 6: 0.7776, \n",
      "Training Loss: 0.7644, Validation Loss: 0.6624\n",
      "Epoch 92/4000\n"
     ]
    },
    {
     "name": "stderr",
     "output_type": "stream",
     "text": [
      "Training: 100%|██████████| 12/12 [00:22<00:00,  1.87s/it, loss=0.842]\n",
      "Validation: 100%|██████████| 2/2 [00:02<00:00,  1.04s/it, loss=0.728]\n"
     ]
    },
    {
     "name": "stdout",
     "output_type": "stream",
     "text": [
      "Validation Dice Score\n",
      "Class 0: 0.6286, Class 1: 0.7922, Class 2: 0.0170, Class 3: 0.0006, \n",
      "Class 4: 0.2896, Class 5: 0.2584, Class 6: 0.8062, \n",
      "Training Loss: 0.8111, Validation Loss: 0.6981\n",
      "Epoch 93/4000\n"
     ]
    },
    {
     "name": "stderr",
     "output_type": "stream",
     "text": [
      "Training: 100%|██████████| 12/12 [00:21<00:00,  1.82s/it, loss=0.764]\n",
      "Validation: 100%|██████████| 2/2 [00:02<00:00,  1.04s/it, loss=0.644]\n"
     ]
    },
    {
     "name": "stdout",
     "output_type": "stream",
     "text": [
      "Validation Dice Score\n",
      "Class 0: 0.6200, Class 1: 0.6271, Class 2: 0.0000, Class 3: 0.0008, \n",
      "Class 4: 0.4699, Class 5: 0.3021, Class 6: 0.4856, \n",
      "Training Loss: 0.7579, Validation Loss: 0.7503\n",
      "Epoch 94/4000\n"
     ]
    },
    {
     "name": "stderr",
     "output_type": "stream",
     "text": [
      "Training: 100%|██████████| 12/12 [00:22<00:00,  1.89s/it, loss=0.764]\n",
      "Validation: 100%|██████████| 2/2 [00:02<00:00,  1.00s/it, loss=0.733]\n"
     ]
    },
    {
     "name": "stdout",
     "output_type": "stream",
     "text": [
      "Validation Dice Score\n",
      "Class 0: 0.6172, Class 1: 0.3748, Class 2: 0.0000, Class 3: 0.0007, \n",
      "Class 4: 0.4643, Class 5: 0.1923, Class 6: 0.3030, \n",
      "Training Loss: 0.7701, Validation Loss: 0.8080\n",
      "Epoch 95/4000\n"
     ]
    },
    {
     "name": "stderr",
     "output_type": "stream",
     "text": [
      "Training: 100%|██████████| 12/12 [00:23<00:00,  1.94s/it, loss=0.748]\n",
      "Validation: 100%|██████████| 2/2 [00:02<00:00,  1.06s/it, loss=0.699]\n"
     ]
    },
    {
     "name": "stdout",
     "output_type": "stream",
     "text": [
      "Validation Dice Score\n",
      "Class 0: 0.6257, Class 1: 0.6222, Class 2: 0.0000, Class 3: 0.0018, \n",
      "Class 4: 0.6237, Class 5: 0.3632, Class 6: 0.7282, \n",
      "Training Loss: 0.7607, Validation Loss: 0.6734\n",
      "Epoch 96/4000\n"
     ]
    },
    {
     "name": "stderr",
     "output_type": "stream",
     "text": [
      "Training: 100%|██████████| 12/12 [00:22<00:00,  1.85s/it, loss=0.748]\n",
      "Validation: 100%|██████████| 2/2 [00:02<00:00,  1.03s/it, loss=0.754]\n"
     ]
    },
    {
     "name": "stdout",
     "output_type": "stream",
     "text": [
      "Validation Dice Score\n",
      "Class 0: 0.6358, Class 1: 0.6950, Class 2: 0.1493, Class 3: 0.0000, \n",
      "Class 4: 0.2391, Class 5: 0.2202, Class 6: 0.3690, \n",
      "Training Loss: 0.7569, Validation Loss: 0.7757\n",
      "Epoch 97/4000\n"
     ]
    },
    {
     "name": "stderr",
     "output_type": "stream",
     "text": [
      "Training: 100%|██████████| 12/12 [00:21<00:00,  1.82s/it, loss=0.823]\n",
      "Validation: 100%|██████████| 2/2 [00:02<00:00,  1.06s/it, loss=0.839]\n"
     ]
    },
    {
     "name": "stdout",
     "output_type": "stream",
     "text": [
      "Validation Dice Score\n",
      "Class 0: 0.6342, Class 1: 0.6807, Class 2: 0.2370, Class 3: 0.0000, \n",
      "Class 4: 0.0846, Class 5: 0.0607, Class 6: 0.3652, \n",
      "Training Loss: 0.7629, Validation Loss: 0.8101\n",
      "Epoch 98/4000\n"
     ]
    },
    {
     "name": "stderr",
     "output_type": "stream",
     "text": [
      "Training: 100%|██████████| 12/12 [00:21<00:00,  1.81s/it, loss=0.796]\n",
      "Validation: 100%|██████████| 2/2 [00:02<00:00,  1.01s/it, loss=0.622]\n"
     ]
    },
    {
     "name": "stdout",
     "output_type": "stream",
     "text": [
      "Validation Dice Score\n",
      "Class 0: 0.6398, Class 1: 0.7482, Class 2: 0.0000, Class 3: 0.0024, \n",
      "Class 4: 0.3798, Class 5: 0.3910, Class 6: 0.8498, \n",
      "Training Loss: 0.7398, Validation Loss: 0.6458\n",
      "Epoch 99/4000\n"
     ]
    },
    {
     "name": "stderr",
     "output_type": "stream",
     "text": [
      "Training: 100%|██████████| 12/12 [00:22<00:00,  1.88s/it, loss=0.743]\n",
      "Validation: 100%|██████████| 2/2 [00:02<00:00,  1.05s/it, loss=0.658]\n"
     ]
    },
    {
     "name": "stdout",
     "output_type": "stream",
     "text": [
      "Validation Dice Score\n",
      "Class 0: 0.6255, Class 1: 0.7494, Class 2: 0.1263, Class 3: 0.0009, \n",
      "Class 4: 0.5109, Class 5: 0.2867, Class 6: 0.7860, \n",
      "Training Loss: 0.7803, Validation Loss: 0.6792\n",
      "Epoch 100/4000\n"
     ]
    },
    {
     "name": "stderr",
     "output_type": "stream",
     "text": [
      "Training: 100%|██████████| 12/12 [00:22<00:00,  1.88s/it, loss=0.667]\n",
      "Validation: 100%|██████████| 2/2 [00:02<00:00,  1.04s/it, loss=0.8] \n"
     ]
    },
    {
     "name": "stdout",
     "output_type": "stream",
     "text": [
      "Validation Dice Score\n",
      "Class 0: 0.6228, Class 1: 0.5124, Class 2: 0.0010, Class 3: 0.0016, \n",
      "Class 4: 0.3038, Class 5: 0.3561, Class 6: 0.3863, \n",
      "Training Loss: 0.7738, Validation Loss: 0.7746\n",
      "Epoch 101/4000\n"
     ]
    },
    {
     "name": "stderr",
     "output_type": "stream",
     "text": [
      "Training: 100%|██████████| 12/12 [00:21<00:00,  1.82s/it, loss=0.78] \n",
      "Validation: 100%|██████████| 2/2 [00:02<00:00,  1.05s/it, loss=0.758]\n"
     ]
    },
    {
     "name": "stdout",
     "output_type": "stream",
     "text": [
      "Validation Dice Score\n",
      "Class 0: 0.6076, Class 1: 0.8162, Class 2: 0.0000, Class 3: 0.0007, \n",
      "Class 4: 0.2720, Class 5: 0.0868, Class 6: 0.7856, \n",
      "Training Loss: 0.7756, Validation Loss: 0.6830\n",
      "Epoch 102/4000\n"
     ]
    },
    {
     "name": "stderr",
     "output_type": "stream",
     "text": [
      "Training: 100%|██████████| 12/12 [00:21<00:00,  1.83s/it, loss=0.773]\n",
      "Validation: 100%|██████████| 2/2 [00:02<00:00,  1.06s/it, loss=0.683]\n"
     ]
    },
    {
     "name": "stdout",
     "output_type": "stream",
     "text": [
      "Validation Dice Score\n",
      "Class 0: 0.6090, Class 1: 0.5334, Class 2: 0.0000, Class 3: 0.0008, \n",
      "Class 4: 0.2886, Class 5: 0.5070, Class 6: 0.3689, \n",
      "Training Loss: 0.7530, Validation Loss: 0.7169\n",
      "Epoch 103/4000\n"
     ]
    },
    {
     "name": "stderr",
     "output_type": "stream",
     "text": [
      "Training: 100%|██████████| 12/12 [00:21<00:00,  1.82s/it, loss=0.762]\n",
      "Validation: 100%|██████████| 2/2 [00:02<00:00,  1.04s/it, loss=0.821]\n"
     ]
    },
    {
     "name": "stdout",
     "output_type": "stream",
     "text": [
      "Validation Dice Score\n",
      "Class 0: 0.6346, Class 1: 0.5436, Class 2: 0.0377, Class 3: 0.0009, \n",
      "Class 4: 0.2660, Class 5: 0.3453, Class 6: 0.0884, \n",
      "Training Loss: 0.7622, Validation Loss: 0.8163\n",
      "Epoch 104/4000\n"
     ]
    },
    {
     "name": "stderr",
     "output_type": "stream",
     "text": [
      "Training: 100%|██████████| 12/12 [00:22<00:00,  1.88s/it, loss=0.689]\n",
      "Validation: 100%|██████████| 2/2 [00:02<00:00,  1.05s/it, loss=0.658]\n"
     ]
    },
    {
     "name": "stdout",
     "output_type": "stream",
     "text": [
      "Validation Dice Score\n",
      "Class 0: 0.6104, Class 1: 0.7764, Class 2: 0.1884, Class 3: 0.0008, \n",
      "Class 4: 0.1126, Class 5: 0.2691, Class 6: 0.3796, \n",
      "Training Loss: 0.7739, Validation Loss: 0.7410\n",
      "Epoch 105/4000\n"
     ]
    },
    {
     "name": "stderr",
     "output_type": "stream",
     "text": [
      "Training: 100%|██████████| 12/12 [00:21<00:00,  1.81s/it, loss=0.811]\n",
      "Validation: 100%|██████████| 2/2 [00:02<00:00,  1.12s/it, loss=0.708]\n"
     ]
    },
    {
     "name": "stdout",
     "output_type": "stream",
     "text": [
      "Validation Dice Score\n",
      "Class 0: 0.6230, Class 1: 0.7973, Class 2: 0.0549, Class 3: 0.0004, \n",
      "Class 4: 0.4750, Class 5: 0.2489, Class 6: 0.7992, \n",
      "Training Loss: 0.7648, Validation Loss: 0.6821\n",
      "Epoch 106/4000\n"
     ]
    },
    {
     "name": "stderr",
     "output_type": "stream",
     "text": [
      "Training: 100%|██████████| 12/12 [00:21<00:00,  1.81s/it, loss=0.612]\n",
      "Validation: 100%|██████████| 2/2 [00:02<00:00,  1.05s/it, loss=0.719]\n"
     ]
    },
    {
     "name": "stdout",
     "output_type": "stream",
     "text": [
      "Validation Dice Score\n",
      "Class 0: 0.6256, Class 1: 0.6189, Class 2: 0.1616, Class 3: 0.0014, \n",
      "Class 4: 0.4835, Class 5: 0.2937, Class 6: 0.7879, \n",
      "Training Loss: 0.7788, Validation Loss: 0.7008\n",
      "Epoch 107/4000\n"
     ]
    },
    {
     "name": "stderr",
     "output_type": "stream",
     "text": [
      "Training: 100%|██████████| 12/12 [00:22<00:00,  1.85s/it, loss=0.84] \n",
      "Validation: 100%|██████████| 2/2 [00:02<00:00,  1.06s/it, loss=0.756]\n"
     ]
    },
    {
     "name": "stdout",
     "output_type": "stream",
     "text": [
      "Validation Dice Score\n",
      "Class 0: 0.6154, Class 1: 0.8418, Class 2: 0.2205, Class 3: 0.0022, \n",
      "Class 4: 0.0372, Class 5: 0.3930, Class 6: 0.4376, \n",
      "Training Loss: 0.7827, Validation Loss: 0.6955\n",
      "Epoch 108/4000\n"
     ]
    },
    {
     "name": "stderr",
     "output_type": "stream",
     "text": [
      "Training: 100%|██████████| 12/12 [00:22<00:00,  1.88s/it, loss=0.826]\n",
      "Validation: 100%|██████████| 2/2 [00:02<00:00,  1.03s/it, loss=0.63] \n"
     ]
    },
    {
     "name": "stdout",
     "output_type": "stream",
     "text": [
      "Validation Dice Score\n",
      "Class 0: 0.6075, Class 1: 0.6576, Class 2: 0.0213, Class 3: 0.0011, \n",
      "Class 4: 0.6326, Class 5: 0.2538, Class 6: 0.4442, \n",
      "Training Loss: 0.7644, Validation Loss: 0.7154\n",
      "Epoch 109/4000\n"
     ]
    },
    {
     "name": "stderr",
     "output_type": "stream",
     "text": [
      "Training: 100%|██████████| 12/12 [00:22<00:00,  1.84s/it, loss=0.749]\n",
      "Validation: 100%|██████████| 2/2 [00:02<00:00,  1.06s/it, loss=0.746]\n"
     ]
    },
    {
     "name": "stdout",
     "output_type": "stream",
     "text": [
      "Validation Dice Score\n",
      "Class 0: 0.6096, Class 1: 0.7701, Class 2: 0.1093, Class 3: 0.0003, \n",
      "Class 4: 0.4272, Class 5: 0.3164, Class 6: 0.1263, \n",
      "Training Loss: 0.7661, Validation Loss: 0.7279\n",
      "Epoch 110/4000\n"
     ]
    },
    {
     "name": "stderr",
     "output_type": "stream",
     "text": [
      "Training: 100%|██████████| 12/12 [00:21<00:00,  1.80s/it, loss=0.803]\n",
      "Validation: 100%|██████████| 2/2 [00:02<00:00,  1.04s/it, loss=0.705]\n"
     ]
    },
    {
     "name": "stdout",
     "output_type": "stream",
     "text": [
      "Validation Dice Score\n",
      "Class 0: 0.6125, Class 1: 0.6626, Class 2: 0.0039, Class 3: 0.0027, \n",
      "Class 4: 0.3311, Class 5: 0.5087, Class 6: 0.8639, \n",
      "Training Loss: 0.7648, Validation Loss: 0.6911\n",
      "Epoch 111/4000\n"
     ]
    },
    {
     "name": "stderr",
     "output_type": "stream",
     "text": [
      "Training: 100%|██████████| 12/12 [00:22<00:00,  1.84s/it, loss=0.822]\n",
      "Validation: 100%|██████████| 2/2 [00:02<00:00,  1.05s/it, loss=0.721]\n"
     ]
    },
    {
     "name": "stdout",
     "output_type": "stream",
     "text": [
      "Validation Dice Score\n",
      "Class 0: 0.6105, Class 1: 0.7055, Class 2: 0.1757, Class 3: 0.0016, \n",
      "Class 4: 0.2363, Class 5: 0.2740, Class 6: 0.3633, \n",
      "Training Loss: 0.7939, Validation Loss: 0.7604\n",
      "Epoch 112/4000\n"
     ]
    },
    {
     "name": "stderr",
     "output_type": "stream",
     "text": [
      "Training: 100%|██████████| 12/12 [00:22<00:00,  1.88s/it, loss=0.756]\n",
      "Validation: 100%|██████████| 2/2 [00:02<00:00,  1.03s/it, loss=0.585]\n"
     ]
    },
    {
     "name": "stdout",
     "output_type": "stream",
     "text": [
      "Validation Dice Score\n",
      "Class 0: 0.6112, Class 1: 0.8436, Class 2: 0.0000, Class 3: 0.0003, \n",
      "Class 4: 0.4212, Class 5: 0.3491, Class 6: 0.8744, \n",
      "Training Loss: 0.8093, Validation Loss: 0.5978\n",
      "Best model saved with validation loss: 0.5978\n",
      "Epoch 113/4000\n"
     ]
    },
    {
     "name": "stderr",
     "output_type": "stream",
     "text": [
      "Training: 100%|██████████| 12/12 [00:21<00:00,  1.77s/it, loss=0.743]\n",
      "Validation: 100%|██████████| 2/2 [00:01<00:00,  1.35it/s, loss=0.71] \n"
     ]
    },
    {
     "name": "stdout",
     "output_type": "stream",
     "text": [
      "Validation Dice Score\n",
      "Class 0: 0.6145, Class 1: 0.7950, Class 2: 0.0217, Class 3: 0.0017, \n",
      "Class 4: 0.3698, Class 5: 0.4622, Class 6: 0.7441, \n",
      "Training Loss: 0.7602, Validation Loss: 0.6653\n",
      "Epoch 114/4000\n"
     ]
    },
    {
     "name": "stderr",
     "output_type": "stream",
     "text": [
      "Training: 100%|██████████| 12/12 [00:21<00:00,  1.79s/it, loss=0.674]\n",
      "Validation: 100%|██████████| 2/2 [00:01<00:00,  1.49it/s, loss=0.698]\n"
     ]
    },
    {
     "name": "stdout",
     "output_type": "stream",
     "text": [
      "Validation Dice Score\n",
      "Class 0: 0.6243, Class 1: 0.7955, Class 2: 0.2706, Class 3: 0.0012, \n",
      "Class 4: 0.3313, Class 5: 0.2521, Class 6: 0.7739, \n",
      "Training Loss: 0.7458, Validation Loss: 0.6751\n",
      "Epoch 115/4000\n"
     ]
    },
    {
     "name": "stderr",
     "output_type": "stream",
     "text": [
      "Training: 100%|██████████| 12/12 [00:22<00:00,  1.84s/it, loss=0.783]\n",
      "Validation: 100%|██████████| 2/2 [00:01<00:00,  1.55it/s, loss=0.7]  \n"
     ]
    },
    {
     "name": "stdout",
     "output_type": "stream",
     "text": [
      "Validation Dice Score\n",
      "Class 0: 0.6185, Class 1: 0.6448, Class 2: 0.1186, Class 3: 0.0006, \n",
      "Class 4: 0.6511, Class 5: 0.4189, Class 6: 0.0000, \n",
      "Training Loss: 0.7626, Validation Loss: 0.6961\n",
      "Epoch 116/4000\n"
     ]
    },
    {
     "name": "stderr",
     "output_type": "stream",
     "text": [
      "Training: 100%|██████████| 12/12 [00:21<00:00,  1.79s/it, loss=0.706]\n",
      "Validation: 100%|██████████| 2/2 [00:01<00:00,  1.55it/s, loss=0.825]\n"
     ]
    },
    {
     "name": "stdout",
     "output_type": "stream",
     "text": [
      "Validation Dice Score\n",
      "Class 0: 0.6158, Class 1: 0.7911, Class 2: 0.0000, Class 3: 0.0000, \n",
      "Class 4: 0.4177, Class 5: 0.3055, Class 6: 0.4374, \n",
      "Training Loss: 0.7439, Validation Loss: 0.7066\n",
      "Epoch 117/4000\n"
     ]
    },
    {
     "name": "stderr",
     "output_type": "stream",
     "text": [
      "Training: 100%|██████████| 12/12 [00:21<00:00,  1.76s/it, loss=0.766]\n",
      "Validation: 100%|██████████| 2/2 [00:01<00:00,  1.49it/s, loss=0.624]\n"
     ]
    },
    {
     "name": "stdout",
     "output_type": "stream",
     "text": [
      "Validation Dice Score\n",
      "Class 0: 0.6302, Class 1: 0.8525, Class 2: 0.0000, Class 3: 0.0005, \n",
      "Class 4: 0.6176, Class 5: 0.2586, Class 6: 0.8660, \n",
      "Training Loss: 0.7552, Validation Loss: 0.6293\n",
      "Epoch 118/4000\n"
     ]
    },
    {
     "name": "stderr",
     "output_type": "stream",
     "text": [
      "Training: 100%|██████████| 12/12 [00:21<00:00,  1.82s/it, loss=0.789]\n",
      "Validation: 100%|██████████| 2/2 [00:01<00:00,  1.51it/s, loss=0.729]\n"
     ]
    },
    {
     "name": "stdout",
     "output_type": "stream",
     "text": [
      "Validation Dice Score\n",
      "Class 0: 0.6225, Class 1: 0.7491, Class 2: 0.0000, Class 3: 0.0017, \n",
      "Class 4: 0.5011, Class 5: 0.3168, Class 6: 0.7991, \n",
      "Training Loss: 0.7380, Validation Loss: 0.7116\n",
      "Epoch 119/4000\n"
     ]
    },
    {
     "name": "stderr",
     "output_type": "stream",
     "text": [
      "Training: 100%|██████████| 12/12 [00:21<00:00,  1.80s/it, loss=0.779]\n",
      "Validation: 100%|██████████| 2/2 [00:01<00:00,  1.51it/s, loss=0.7]  \n"
     ]
    },
    {
     "name": "stdout",
     "output_type": "stream",
     "text": [
      "Validation Dice Score\n",
      "Class 0: 0.6163, Class 1: 0.8279, Class 2: 0.1312, Class 3: 0.0016, \n",
      "Class 4: 0.3884, Class 5: 0.2484, Class 6: 0.7046, \n",
      "Training Loss: 0.7360, Validation Loss: 0.6710\n",
      "Epoch 120/4000\n"
     ]
    },
    {
     "name": "stderr",
     "output_type": "stream",
     "text": [
      "Training: 100%|██████████| 12/12 [00:21<00:00,  1.80s/it, loss=0.806]\n",
      "Validation: 100%|██████████| 2/2 [00:01<00:00,  1.53it/s, loss=0.766]\n"
     ]
    },
    {
     "name": "stdout",
     "output_type": "stream",
     "text": [
      "Validation Dice Score\n",
      "Class 0: 0.6324, Class 1: 0.8176, Class 2: 0.0369, Class 3: 0.0026, \n",
      "Class 4: 0.2301, Class 5: 0.1975, Class 6: 0.6456, \n",
      "Training Loss: 0.7633, Validation Loss: 0.6984\n",
      "Epoch 121/4000\n"
     ]
    },
    {
     "name": "stderr",
     "output_type": "stream",
     "text": [
      "Training: 100%|██████████| 12/12 [00:20<00:00,  1.74s/it, loss=0.717]\n",
      "Validation: 100%|██████████| 2/2 [00:01<00:00,  1.53it/s, loss=0.73]\n"
     ]
    },
    {
     "name": "stdout",
     "output_type": "stream",
     "text": [
      "Validation Dice Score\n",
      "Class 0: 0.6297, Class 1: 0.7492, Class 2: 0.0726, Class 3: 0.0037, \n",
      "Class 4: 0.2751, Class 5: 0.4549, Class 6: 0.3650, \n",
      "Training Loss: 0.7474, Validation Loss: 0.7351\n",
      "Epoch 122/4000\n"
     ]
    },
    {
     "name": "stderr",
     "output_type": "stream",
     "text": [
      "Training: 100%|██████████| 12/12 [00:21<00:00,  1.76s/it, loss=0.752]\n",
      "Validation: 100%|██████████| 2/2 [00:01<00:00,  1.52it/s, loss=0.736]\n"
     ]
    },
    {
     "name": "stdout",
     "output_type": "stream",
     "text": [
      "Validation Dice Score\n",
      "Class 0: 0.6234, Class 1: 0.8141, Class 2: 0.0000, Class 3: 0.0010, \n",
      "Class 4: 0.1597, Class 5: 0.2140, Class 6: 0.7616, \n",
      "Training Loss: 0.7562, Validation Loss: 0.7821\n",
      "Epoch 123/4000\n"
     ]
    },
    {
     "name": "stderr",
     "output_type": "stream",
     "text": [
      "Training: 100%|██████████| 12/12 [00:23<00:00,  1.98s/it, loss=0.594]\n",
      "Validation: 100%|██████████| 2/2 [00:02<00:00,  1.08s/it, loss=0.805]\n"
     ]
    },
    {
     "name": "stdout",
     "output_type": "stream",
     "text": [
      "Validation Dice Score\n",
      "Class 0: 0.6069, Class 1: 0.6037, Class 2: 0.0776, Class 3: 0.0022, \n",
      "Class 4: 0.3087, Class 5: 0.2477, Class 6: 0.8005, \n",
      "Training Loss: 0.7446, Validation Loss: 0.7675\n",
      "Epoch 124/4000\n"
     ]
    },
    {
     "name": "stderr",
     "output_type": "stream",
     "text": [
      "Training: 100%|██████████| 12/12 [00:21<00:00,  1.83s/it, loss=0.787]\n",
      "Validation: 100%|██████████| 2/2 [00:02<00:00,  1.04s/it, loss=0.696]\n"
     ]
    },
    {
     "name": "stdout",
     "output_type": "stream",
     "text": [
      "Validation Dice Score\n",
      "Class 0: 0.6136, Class 1: 0.8298, Class 2: 0.0989, Class 3: 0.0030, \n",
      "Class 4: 0.0694, Class 5: 0.1084, Class 6: 0.7539, \n",
      "Training Loss: 0.7378, Validation Loss: 0.7579\n",
      "Epoch 125/4000\n"
     ]
    },
    {
     "name": "stderr",
     "output_type": "stream",
     "text": [
      "Training: 100%|██████████| 12/12 [00:21<00:00,  1.80s/it, loss=0.935]\n",
      "Validation: 100%|██████████| 2/2 [00:02<00:00,  1.04s/it, loss=0.694]\n"
     ]
    },
    {
     "name": "stdout",
     "output_type": "stream",
     "text": [
      "Validation Dice Score\n",
      "Class 0: 0.6251, Class 1: 0.7625, Class 2: 0.3202, Class 3: 0.0016, \n",
      "Class 4: 0.2999, Class 5: 0.3218, Class 6: 0.2400, \n",
      "Training Loss: 0.7661, Validation Loss: 0.7081\n",
      "Epoch 126/4000\n"
     ]
    },
    {
     "name": "stderr",
     "output_type": "stream",
     "text": [
      "Training: 100%|██████████| 12/12 [00:21<00:00,  1.81s/it, loss=0.7]  \n",
      "Validation: 100%|██████████| 2/2 [00:02<00:00,  1.04s/it, loss=0.708]\n"
     ]
    },
    {
     "name": "stdout",
     "output_type": "stream",
     "text": [
      "Validation Dice Score\n",
      "Class 0: 0.6174, Class 1: 0.5900, Class 2: 0.1013, Class 3: 0.0021, \n",
      "Class 4: 0.5268, Class 5: 0.4839, Class 6: 0.3484, \n",
      "Training Loss: 0.7388, Validation Loss: 0.7160\n",
      "Epoch 127/4000\n"
     ]
    },
    {
     "name": "stderr",
     "output_type": "stream",
     "text": [
      "Training: 100%|██████████| 12/12 [00:22<00:00,  1.88s/it, loss=0.8]  \n",
      "Validation: 100%|██████████| 2/2 [00:02<00:00,  1.05s/it, loss=0.712]\n"
     ]
    },
    {
     "name": "stdout",
     "output_type": "stream",
     "text": [
      "Validation Dice Score\n",
      "Class 0: 0.6159, Class 1: 0.8213, Class 2: 0.0000, Class 3: 0.0002, \n",
      "Class 4: 0.3127, Class 5: 0.0993, Class 6: 0.7759, \n",
      "Training Loss: 0.7632, Validation Loss: 0.7220\n",
      "Epoch 128/4000\n"
     ]
    },
    {
     "name": "stderr",
     "output_type": "stream",
     "text": [
      "Training: 100%|██████████| 12/12 [00:22<00:00,  1.87s/it, loss=0.77] \n",
      "Validation: 100%|██████████| 2/2 [00:02<00:00,  1.03s/it, loss=0.627]\n"
     ]
    },
    {
     "name": "stdout",
     "output_type": "stream",
     "text": [
      "Validation Dice Score\n",
      "Class 0: 0.6103, Class 1: 0.8482, Class 2: 0.2086, Class 3: 0.0000, \n",
      "Class 4: 0.2905, Class 5: 0.2720, Class 6: 0.8918, \n",
      "Training Loss: 0.7870, Validation Loss: 0.6389\n",
      "Epoch 129/4000\n"
     ]
    },
    {
     "name": "stderr",
     "output_type": "stream",
     "text": [
      "Training: 100%|██████████| 12/12 [00:21<00:00,  1.82s/it, loss=0.902]\n",
      "Validation: 100%|██████████| 2/2 [00:02<00:00,  1.05s/it, loss=0.629]\n"
     ]
    },
    {
     "name": "stdout",
     "output_type": "stream",
     "text": [
      "Validation Dice Score\n",
      "Class 0: 0.6077, Class 1: 0.7981, Class 2: 0.1116, Class 3: 0.0013, \n",
      "Class 4: 0.4620, Class 5: 0.4909, Class 6: 0.4160, \n",
      "Training Loss: 0.7791, Validation Loss: 0.6616\n",
      "Epoch 130/4000\n"
     ]
    },
    {
     "name": "stderr",
     "output_type": "stream",
     "text": [
      "Training: 100%|██████████| 12/12 [00:22<00:00,  1.90s/it, loss=0.76] \n",
      "Validation: 100%|██████████| 2/2 [00:02<00:00,  1.10s/it, loss=0.737]\n"
     ]
    },
    {
     "name": "stdout",
     "output_type": "stream",
     "text": [
      "Validation Dice Score\n",
      "Class 0: 0.6079, Class 1: 0.7738, Class 2: 0.1242, Class 3: 0.0005, \n",
      "Class 4: 0.5840, Class 5: 0.2693, Class 6: 0.7762, \n",
      "Training Loss: 0.7702, Validation Loss: 0.6676\n",
      "Epoch 131/4000\n"
     ]
    },
    {
     "name": "stderr",
     "output_type": "stream",
     "text": [
      "Training: 100%|██████████| 12/12 [00:22<00:00,  1.91s/it, loss=0.821]\n",
      "Validation: 100%|██████████| 2/2 [00:02<00:00,  1.11s/it, loss=0.76] \n"
     ]
    },
    {
     "name": "stdout",
     "output_type": "stream",
     "text": [
      "Validation Dice Score\n",
      "Class 0: 0.6171, Class 1: 0.6782, Class 2: 0.0346, Class 3: 0.0020, \n",
      "Class 4: 0.0109, Class 5: 0.3092, Class 6: 0.8285, \n",
      "Training Loss: 0.7297, Validation Loss: 0.7664\n",
      "Epoch 132/4000\n"
     ]
    },
    {
     "name": "stderr",
     "output_type": "stream",
     "text": [
      "Training: 100%|██████████| 12/12 [00:24<00:00,  2.01s/it, loss=0.844]\n",
      "Validation: 100%|██████████| 2/2 [00:02<00:00,  1.01s/it, loss=0.647]\n"
     ]
    },
    {
     "name": "stdout",
     "output_type": "stream",
     "text": [
      "Validation Dice Score\n",
      "Class 0: 0.6219, Class 1: 0.4228, Class 2: 0.0000, Class 3: 0.0000, \n",
      "Class 4: 0.5989, Class 5: 0.5056, Class 6: 0.8486, \n",
      "Training Loss: 0.7474, Validation Loss: 0.7064\n",
      "Epoch 133/4000\n"
     ]
    },
    {
     "name": "stderr",
     "output_type": "stream",
     "text": [
      "Training: 100%|██████████| 12/12 [00:22<00:00,  1.89s/it, loss=0.626]\n",
      "Validation: 100%|██████████| 2/2 [00:02<00:00,  1.10s/it, loss=0.705]\n"
     ]
    },
    {
     "name": "stdout",
     "output_type": "stream",
     "text": [
      "Validation Dice Score\n",
      "Class 0: 0.6093, Class 1: 0.6827, Class 2: 0.1155, Class 3: 0.0034, \n",
      "Class 4: 0.2812, Class 5: 0.3359, Class 6: 0.7585, \n",
      "Training Loss: 0.7432, Validation Loss: 0.6854\n",
      "Epoch 134/4000\n"
     ]
    },
    {
     "name": "stderr",
     "output_type": "stream",
     "text": [
      "Training: 100%|██████████| 12/12 [00:22<00:00,  1.89s/it, loss=0.704]\n",
      "Validation: 100%|██████████| 2/2 [00:02<00:00,  1.08s/it, loss=0.776]\n"
     ]
    },
    {
     "name": "stdout",
     "output_type": "stream",
     "text": [
      "Validation Dice Score\n",
      "Class 0: 0.6254, Class 1: 0.8009, Class 2: 0.0433, Class 3: 0.0010, \n",
      "Class 4: 0.2922, Class 5: 0.2323, Class 6: 0.8399, \n",
      "Training Loss: 0.7603, Validation Loss: 0.7237\n",
      "Epoch 135/4000\n"
     ]
    },
    {
     "name": "stderr",
     "output_type": "stream",
     "text": [
      "Training: 100%|██████████| 12/12 [00:22<00:00,  1.86s/it, loss=0.832]\n",
      "Validation: 100%|██████████| 2/2 [00:02<00:00,  1.08s/it, loss=0.662]\n"
     ]
    },
    {
     "name": "stdout",
     "output_type": "stream",
     "text": [
      "Validation Dice Score\n",
      "Class 0: 0.6129, Class 1: 0.8160, Class 2: 0.0623, Class 3: 0.0003, \n",
      "Class 4: 0.2328, Class 5: 0.0068, Class 6: 0.8029, \n",
      "Training Loss: 0.7754, Validation Loss: 0.6731\n",
      "Epoch 136/4000\n"
     ]
    },
    {
     "name": "stderr",
     "output_type": "stream",
     "text": [
      "Training: 100%|██████████| 12/12 [00:21<00:00,  1.79s/it, loss=0.731]\n",
      "Validation: 100%|██████████| 2/2 [00:01<00:00,  1.58it/s, loss=0.726]\n"
     ]
    },
    {
     "name": "stdout",
     "output_type": "stream",
     "text": [
      "Validation Dice Score\n",
      "Class 0: 0.6212, Class 1: 0.8044, Class 2: 0.1036, Class 3: 0.0014, \n",
      "Class 4: 0.5797, Class 5: 0.1244, Class 6: 0.7592, \n",
      "Training Loss: 0.7496, Validation Loss: 0.7000\n",
      "Epoch 137/4000\n"
     ]
    },
    {
     "name": "stderr",
     "output_type": "stream",
     "text": [
      "Training: 100%|██████████| 12/12 [00:21<00:00,  1.82s/it, loss=0.843]\n",
      "Validation: 100%|██████████| 2/2 [00:02<00:00,  1.06s/it, loss=0.72] \n"
     ]
    },
    {
     "name": "stdout",
     "output_type": "stream",
     "text": [
      "Validation Dice Score\n",
      "Class 0: 0.6239, Class 1: 0.7272, Class 2: 0.0097, Class 3: 0.0006, \n",
      "Class 4: 0.0004, Class 5: 0.2120, Class 6: 0.8396, \n",
      "Training Loss: 0.7677, Validation Loss: 0.7543\n",
      "Epoch 138/4000\n"
     ]
    },
    {
     "name": "stderr",
     "output_type": "stream",
     "text": [
      "Training: 100%|██████████| 12/12 [00:21<00:00,  1.79s/it, loss=0.713]\n",
      "Validation: 100%|██████████| 2/2 [00:02<00:00,  1.04s/it, loss=0.808]\n"
     ]
    },
    {
     "name": "stdout",
     "output_type": "stream",
     "text": [
      "Validation Dice Score\n",
      "Class 0: 0.6243, Class 1: 0.7258, Class 2: 0.0947, Class 3: 0.0010, \n",
      "Class 4: 0.0484, Class 5: 0.1744, Class 6: 0.7546, \n",
      "Training Loss: 0.7432, Validation Loss: 0.7290\n",
      "Epoch 139/4000\n"
     ]
    },
    {
     "name": "stderr",
     "output_type": "stream",
     "text": [
      "Training: 100%|██████████| 12/12 [00:22<00:00,  1.86s/it, loss=0.751]\n",
      "Validation: 100%|██████████| 2/2 [00:02<00:00,  1.12s/it, loss=0.791]\n"
     ]
    },
    {
     "name": "stdout",
     "output_type": "stream",
     "text": [
      "Validation Dice Score\n",
      "Class 0: 0.6375, Class 1: 0.8409, Class 2: 0.0000, Class 3: 0.0007, \n",
      "Class 4: 0.4510, Class 5: 0.4229, Class 6: 0.4343, \n",
      "Training Loss: 0.7590, Validation Loss: 0.7138\n",
      "Epoch 140/4000\n"
     ]
    },
    {
     "name": "stderr",
     "output_type": "stream",
     "text": [
      "Training: 100%|██████████| 12/12 [00:21<00:00,  1.81s/it, loss=0.623]\n",
      "Validation: 100%|██████████| 2/2 [00:02<00:00,  1.02s/it, loss=0.725]\n"
     ]
    },
    {
     "name": "stdout",
     "output_type": "stream",
     "text": [
      "Validation Dice Score\n",
      "Class 0: 0.6296, Class 1: 0.6798, Class 2: 0.2405, Class 3: 0.0018, \n",
      "Class 4: 0.0000, Class 5: 0.2652, Class 6: 0.4345, \n",
      "Training Loss: 0.7167, Validation Loss: 0.7422\n",
      "Epoch 141/4000\n"
     ]
    },
    {
     "name": "stderr",
     "output_type": "stream",
     "text": [
      "Training: 100%|██████████| 12/12 [00:22<00:00,  1.86s/it, loss=0.768]\n",
      "Validation: 100%|██████████| 2/2 [00:02<00:00,  1.04s/it, loss=0.7]  \n"
     ]
    },
    {
     "name": "stdout",
     "output_type": "stream",
     "text": [
      "Validation Dice Score\n",
      "Class 0: 0.6129, Class 1: 0.7298, Class 2: 0.0284, Class 3: 0.0015, \n",
      "Class 4: 0.3414, Class 5: 0.1791, Class 6: 0.6309, \n",
      "Training Loss: 0.7309, Validation Loss: 0.7564\n",
      "Epoch 142/4000\n"
     ]
    },
    {
     "name": "stderr",
     "output_type": "stream",
     "text": [
      "Training: 100%|██████████| 12/12 [00:21<00:00,  1.83s/it, loss=0.689]\n",
      "Validation: 100%|██████████| 2/2 [00:02<00:00,  1.04s/it, loss=0.651]\n"
     ]
    },
    {
     "name": "stdout",
     "output_type": "stream",
     "text": [
      "Validation Dice Score\n",
      "Class 0: 0.6199, Class 1: 0.7334, Class 2: 0.0000, Class 3: 0.0006, \n",
      "Class 4: 0.4712, Class 5: 0.4521, Class 6: 0.8973, \n",
      "Training Loss: 0.7634, Validation Loss: 0.6799\n",
      "Epoch 143/4000\n"
     ]
    },
    {
     "name": "stderr",
     "output_type": "stream",
     "text": [
      "Training: 100%|██████████| 12/12 [00:23<00:00,  1.93s/it, loss=0.786]\n",
      "Validation: 100%|██████████| 2/2 [00:02<00:00,  1.13s/it, loss=0.747]\n"
     ]
    },
    {
     "name": "stdout",
     "output_type": "stream",
     "text": [
      "Validation Dice Score\n",
      "Class 0: 0.6238, Class 1: 0.7168, Class 2: 0.0000, Class 3: 0.0003, \n",
      "Class 4: 0.5334, Class 5: 0.4076, Class 6: 0.3783, \n",
      "Training Loss: 0.7885, Validation Loss: 0.7432\n",
      "Epoch 144/4000\n"
     ]
    },
    {
     "name": "stderr",
     "output_type": "stream",
     "text": [
      "Training: 100%|██████████| 12/12 [00:22<00:00,  1.88s/it, loss=0.711]\n",
      "Validation: 100%|██████████| 2/2 [00:02<00:00,  1.02s/it, loss=0.692]\n"
     ]
    },
    {
     "name": "stdout",
     "output_type": "stream",
     "text": [
      "Validation Dice Score\n",
      "Class 0: 0.6306, Class 1: 0.8102, Class 2: 0.0000, Class 3: 0.0021, \n",
      "Class 4: 0.3808, Class 5: 0.0154, Class 6: 0.8386, \n",
      "Training Loss: 0.7352, Validation Loss: 0.6837\n",
      "Epoch 145/4000\n"
     ]
    },
    {
     "name": "stderr",
     "output_type": "stream",
     "text": [
      "Training: 100%|██████████| 12/12 [00:22<00:00,  1.85s/it, loss=0.824]\n",
      "Validation: 100%|██████████| 2/2 [00:02<00:00,  1.02s/it, loss=0.616]\n"
     ]
    },
    {
     "name": "stdout",
     "output_type": "stream",
     "text": [
      "Validation Dice Score\n",
      "Class 0: 0.6345, Class 1: 0.8489, Class 2: 0.2709, Class 3: 0.0009, \n",
      "Class 4: 0.3146, Class 5: 0.2384, Class 6: 0.8448, \n",
      "Training Loss: 0.7547, Validation Loss: 0.6424\n",
      "Epoch 146/4000\n"
     ]
    },
    {
     "name": "stderr",
     "output_type": "stream",
     "text": [
      "Training: 100%|██████████| 12/12 [00:21<00:00,  1.78s/it, loss=0.695]\n",
      "Validation: 100%|██████████| 2/2 [00:02<00:00,  1.04s/it, loss=0.69] \n"
     ]
    },
    {
     "name": "stdout",
     "output_type": "stream",
     "text": [
      "Validation Dice Score\n",
      "Class 0: 0.6141, Class 1: 0.3191, Class 2: 0.2182, Class 3: 0.0013, \n",
      "Class 4: 0.6229, Class 5: 0.2499, Class 6: 0.2741, \n",
      "Training Loss: 0.7454, Validation Loss: 0.7782\n",
      "Epoch 147/4000\n"
     ]
    },
    {
     "name": "stderr",
     "output_type": "stream",
     "text": [
      "Training: 100%|██████████| 12/12 [00:22<00:00,  1.83s/it, loss=0.684]\n",
      "Validation: 100%|██████████| 2/2 [00:02<00:00,  1.05s/it, loss=0.591]\n"
     ]
    },
    {
     "name": "stdout",
     "output_type": "stream",
     "text": [
      "Validation Dice Score\n",
      "Class 0: 0.6229, Class 1: 0.8092, Class 2: 0.0493, Class 3: 0.0004, \n",
      "Class 4: 0.7141, Class 5: 0.4099, Class 6: 0.8437, \n",
      "Training Loss: 0.7475, Validation Loss: 0.6231\n",
      "Epoch 148/4000\n"
     ]
    },
    {
     "name": "stderr",
     "output_type": "stream",
     "text": [
      "Training: 100%|██████████| 12/12 [00:21<00:00,  1.77s/it, loss=0.848]\n",
      "Validation: 100%|██████████| 2/2 [00:02<00:00,  1.01s/it, loss=0.759]\n"
     ]
    },
    {
     "name": "stdout",
     "output_type": "stream",
     "text": [
      "Validation Dice Score\n",
      "Class 0: 0.6367, Class 1: 0.7738, Class 2: 0.2578, Class 3: 0.0017, \n",
      "Class 4: 0.1312, Class 5: 0.2798, Class 6: 0.3680, \n",
      "Training Loss: 0.7808, Validation Loss: 0.7889\n",
      "Epoch 149/4000\n"
     ]
    },
    {
     "name": "stderr",
     "output_type": "stream",
     "text": [
      "Training: 100%|██████████| 12/12 [00:22<00:00,  1.84s/it, loss=0.821]\n",
      "Validation: 100%|██████████| 2/2 [00:02<00:00,  1.03s/it, loss=0.795]\n"
     ]
    },
    {
     "name": "stdout",
     "output_type": "stream",
     "text": [
      "Validation Dice Score\n",
      "Class 0: 0.6228, Class 1: 0.3753, Class 2: 0.1994, Class 3: 0.0008, \n",
      "Class 4: 0.1987, Class 5: 0.3401, Class 6: 0.4250, \n",
      "Training Loss: 0.7414, Validation Loss: 0.8014\n",
      "Epoch 150/4000\n"
     ]
    },
    {
     "name": "stderr",
     "output_type": "stream",
     "text": [
      "Training: 100%|██████████| 12/12 [00:21<00:00,  1.79s/it, loss=0.863]\n",
      "Validation: 100%|██████████| 2/2 [00:02<00:00,  1.02s/it, loss=0.764]\n"
     ]
    },
    {
     "name": "stdout",
     "output_type": "stream",
     "text": [
      "Validation Dice Score\n",
      "Class 0: 0.6295, Class 1: 0.3672, Class 2: 0.1440, Class 3: 0.0000, \n",
      "Class 4: 0.4750, Class 5: 0.4309, Class 6: 0.4390, \n",
      "Training Loss: 0.7600, Validation Loss: 0.7519\n",
      "Epoch 151/4000\n"
     ]
    },
    {
     "name": "stderr",
     "output_type": "stream",
     "text": [
      "Training: 100%|██████████| 12/12 [00:22<00:00,  1.84s/it, loss=0.591]\n",
      "Validation: 100%|██████████| 2/2 [00:02<00:00,  1.06s/it, loss=0.612]\n"
     ]
    },
    {
     "name": "stdout",
     "output_type": "stream",
     "text": [
      "Validation Dice Score\n",
      "Class 0: 0.6283, Class 1: 0.7943, Class 2: 0.0000, Class 3: 0.0002, \n",
      "Class 4: 0.5338, Class 5: 0.3958, Class 6: 0.8544, \n",
      "Training Loss: 0.7412, Validation Loss: 0.6664\n",
      "Epoch 152/4000\n"
     ]
    },
    {
     "name": "stderr",
     "output_type": "stream",
     "text": [
      "Training: 100%|██████████| 12/12 [00:21<00:00,  1.80s/it, loss=0.837]\n",
      "Validation: 100%|██████████| 2/2 [00:02<00:00,  1.02s/it, loss=0.611]\n"
     ]
    },
    {
     "name": "stdout",
     "output_type": "stream",
     "text": [
      "Validation Dice Score\n",
      "Class 0: 0.6298, Class 1: 0.7624, Class 2: 0.2469, Class 3: 0.0010, \n",
      "Class 4: 0.3476, Class 5: 0.3227, Class 6: 0.8293, \n",
      "Training Loss: 0.7382, Validation Loss: 0.6738\n",
      "Epoch 153/4000\n"
     ]
    },
    {
     "name": "stderr",
     "output_type": "stream",
     "text": [
      "Training: 100%|██████████| 12/12 [00:28<00:00,  2.35s/it, loss=0.699]\n",
      "Validation: 100%|██████████| 2/2 [00:02<00:00,  1.35s/it, loss=0.696]\n"
     ]
    },
    {
     "name": "stdout",
     "output_type": "stream",
     "text": [
      "Validation Dice Score\n",
      "Class 0: 0.6340, Class 1: 0.8097, Class 2: 0.3305, Class 3: 0.0010, \n",
      "Class 4: 0.3771, Class 5: 0.3711, Class 6: 0.3658, \n",
      "Training Loss: 0.7490, Validation Loss: 0.7109\n",
      "Epoch 154/4000\n"
     ]
    },
    {
     "name": "stderr",
     "output_type": "stream",
     "text": [
      "Training: 100%|██████████| 12/12 [00:28<00:00,  2.41s/it, loss=0.619]\n",
      "Validation: 100%|██████████| 2/2 [00:02<00:00,  1.34s/it, loss=0.82] \n"
     ]
    },
    {
     "name": "stdout",
     "output_type": "stream",
     "text": [
      "Validation Dice Score\n",
      "Class 0: 0.6258, Class 1: 0.6774, Class 2: 0.2145, Class 3: 0.0001, \n",
      "Class 4: 0.3023, Class 5: 0.2311, Class 6: 0.0000, \n",
      "Training Loss: 0.7389, Validation Loss: 0.7957\n",
      "Epoch 155/4000\n"
     ]
    },
    {
     "name": "stderr",
     "output_type": "stream",
     "text": [
      "Training: 100%|██████████| 12/12 [00:27<00:00,  2.29s/it, loss=0.608]\n",
      "Validation: 100%|██████████| 2/2 [00:02<00:00,  1.19s/it, loss=0.702]\n"
     ]
    },
    {
     "name": "stdout",
     "output_type": "stream",
     "text": [
      "Validation Dice Score\n",
      "Class 0: 0.6190, Class 1: 0.7830, Class 2: 0.0117, Class 3: 0.0019, \n",
      "Class 4: 0.3476, Class 5: 0.3905, Class 6: 0.6789, \n",
      "Training Loss: 0.7201, Validation Loss: 0.7171\n",
      "Epoch 156/4000\n"
     ]
    },
    {
     "name": "stderr",
     "output_type": "stream",
     "text": [
      "Training: 100%|██████████| 12/12 [00:28<00:00,  2.39s/it, loss=0.743]\n",
      "Validation: 100%|██████████| 2/2 [00:02<00:00,  1.25s/it, loss=0.847]\n"
     ]
    },
    {
     "name": "stdout",
     "output_type": "stream",
     "text": [
      "Validation Dice Score\n",
      "Class 0: 0.6315, Class 1: 0.7507, Class 2: 0.0368, Class 3: 0.0008, \n",
      "Class 4: 0.3196, Class 5: 0.2292, Class 6: 0.4188, \n",
      "Training Loss: 0.7613, Validation Loss: 0.7260\n",
      "Epoch 157/4000\n"
     ]
    },
    {
     "name": "stderr",
     "output_type": "stream",
     "text": [
      "Training: 100%|██████████| 12/12 [00:28<00:00,  2.41s/it, loss=0.815]\n",
      "Validation: 100%|██████████| 2/2 [00:02<00:00,  1.39s/it, loss=0.785]\n"
     ]
    },
    {
     "name": "stdout",
     "output_type": "stream",
     "text": [
      "Validation Dice Score\n",
      "Class 0: 0.6220, Class 1: 0.7591, Class 2: 0.1485, Class 3: 0.0008, \n",
      "Class 4: 0.0571, Class 5: 0.1762, Class 6: 0.8274, \n",
      "Training Loss: 0.7796, Validation Loss: 0.7288\n",
      "Epoch 158/4000\n"
     ]
    },
    {
     "name": "stderr",
     "output_type": "stream",
     "text": [
      "Training: 100%|██████████| 12/12 [00:28<00:00,  2.40s/it, loss=0.727]\n",
      "Validation: 100%|██████████| 2/2 [00:02<00:00,  1.27s/it, loss=0.652]\n"
     ]
    },
    {
     "name": "stdout",
     "output_type": "stream",
     "text": [
      "Validation Dice Score\n",
      "Class 0: 0.6270, Class 1: 0.7478, Class 2: 0.0000, Class 3: 0.0013, \n",
      "Class 4: 0.4497, Class 5: 0.3308, Class 6: 0.8424, \n",
      "Training Loss: 0.8130, Validation Loss: 0.6778\n",
      "Epoch 159/4000\n"
     ]
    },
    {
     "name": "stderr",
     "output_type": "stream",
     "text": [
      "Training: 100%|██████████| 12/12 [00:28<00:00,  2.37s/it, loss=0.827]\n",
      "Validation: 100%|██████████| 2/2 [00:01<00:00,  1.40it/s, loss=0.562]\n"
     ]
    },
    {
     "name": "stdout",
     "output_type": "stream",
     "text": [
      "Validation Dice Score\n",
      "Class 0: 0.6292, Class 1: 0.8000, Class 2: 0.0092, Class 3: 0.0000, \n",
      "Class 4: 0.6119, Class 5: 0.3552, Class 6: 0.8804, \n",
      "Training Loss: 0.7829, Validation Loss: 0.5957\n",
      "Best model saved with validation loss: 0.5957\n",
      "Epoch 160/4000\n"
     ]
    },
    {
     "name": "stderr",
     "output_type": "stream",
     "text": [
      "Training: 100%|██████████| 12/12 [00:29<00:00,  2.47s/it, loss=0.716]\n",
      "Validation: 100%|██████████| 2/2 [00:01<00:00,  1.38it/s, loss=0.578]\n"
     ]
    },
    {
     "name": "stdout",
     "output_type": "stream",
     "text": [
      "Validation Dice Score\n",
      "Class 0: 0.6222, Class 1: 0.8156, Class 2: 0.0000, Class 3: 0.0010, \n",
      "Class 4: 0.2182, Class 5: 0.3936, Class 6: 0.8774, \n",
      "Training Loss: 0.7339, Validation Loss: 0.6673\n",
      "Epoch 161/4000\n"
     ]
    },
    {
     "name": "stderr",
     "output_type": "stream",
     "text": [
      "Training: 100%|██████████| 12/12 [00:29<00:00,  2.43s/it, loss=0.714]\n",
      "Validation: 100%|██████████| 2/2 [00:02<00:00,  1.28s/it, loss=0.637]\n"
     ]
    },
    {
     "name": "stdout",
     "output_type": "stream",
     "text": [
      "Validation Dice Score\n",
      "Class 0: 0.6280, Class 1: 0.8092, Class 2: 0.1054, Class 3: 0.0000, \n",
      "Class 4: 0.3371, Class 5: 0.3695, Class 6: 0.8987, \n",
      "Training Loss: 0.7666, Validation Loss: 0.6657\n",
      "Epoch 162/4000\n"
     ]
    },
    {
     "name": "stderr",
     "output_type": "stream",
     "text": [
      "Training: 100%|██████████| 12/12 [00:27<00:00,  2.32s/it, loss=0.614]\n",
      "Validation: 100%|██████████| 2/2 [00:02<00:00,  1.19s/it, loss=0.813]\n"
     ]
    },
    {
     "name": "stdout",
     "output_type": "stream",
     "text": [
      "Validation Dice Score\n",
      "Class 0: 0.6159, Class 1: 0.8293, Class 2: 0.0778, Class 3: 0.0015, \n",
      "Class 4: 0.3210, Class 5: 0.2681, Class 6: 0.7289, \n",
      "Training Loss: 0.7372, Validation Loss: 0.7502\n",
      "Epoch 163/4000\n"
     ]
    },
    {
     "name": "stderr",
     "output_type": "stream",
     "text": [
      "Training: 100%|██████████| 12/12 [00:29<00:00,  2.43s/it, loss=0.631]\n",
      "Validation: 100%|██████████| 2/2 [00:02<00:00,  1.37s/it, loss=0.745]\n"
     ]
    },
    {
     "name": "stdout",
     "output_type": "stream",
     "text": [
      "Validation Dice Score\n",
      "Class 0: 0.6335, Class 1: 0.2617, Class 2: 0.2917, Class 3: 0.0000, \n",
      "Class 4: 0.4339, Class 5: 0.2628, Class 6: 0.0590, \n",
      "Training Loss: 0.7136, Validation Loss: 0.8293\n",
      "Epoch 164/4000\n"
     ]
    },
    {
     "name": "stderr",
     "output_type": "stream",
     "text": [
      "Training: 100%|██████████| 12/12 [00:28<00:00,  2.35s/it, loss=0.875]\n",
      "Validation: 100%|██████████| 2/2 [00:02<00:00,  1.26s/it, loss=0.572]\n"
     ]
    },
    {
     "name": "stdout",
     "output_type": "stream",
     "text": [
      "Validation Dice Score\n",
      "Class 0: 0.6295, Class 1: 0.8084, Class 2: 0.0000, Class 3: 0.0020, \n",
      "Class 4: 0.5244, Class 5: 0.3687, Class 6: 0.7595, \n",
      "Training Loss: 0.7560, Validation Loss: 0.6194\n",
      "Epoch 165/4000\n"
     ]
    },
    {
     "name": "stderr",
     "output_type": "stream",
     "text": [
      "Training: 100%|██████████| 12/12 [00:28<00:00,  2.39s/it, loss=0.755]\n",
      "Validation: 100%|██████████| 2/2 [00:01<00:00,  1.38it/s, loss=0.771]\n"
     ]
    },
    {
     "name": "stdout",
     "output_type": "stream",
     "text": [
      "Validation Dice Score\n",
      "Class 0: 0.6274, Class 1: 0.7051, Class 2: 0.0000, Class 3: 0.0011, \n",
      "Class 4: 0.5666, Class 5: 0.3586, Class 6: 0.4211, \n",
      "Training Loss: 0.7784, Validation Loss: 0.7490\n",
      "Epoch 166/4000\n"
     ]
    },
    {
     "name": "stderr",
     "output_type": "stream",
     "text": [
      "Training: 100%|██████████| 12/12 [00:29<00:00,  2.42s/it, loss=0.811]\n",
      "Validation: 100%|██████████| 2/2 [00:01<00:00,  1.38it/s, loss=0.674]\n"
     ]
    },
    {
     "name": "stdout",
     "output_type": "stream",
     "text": [
      "Validation Dice Score\n",
      "Class 0: 0.6375, Class 1: 0.8054, Class 2: 0.0270, Class 3: 0.0042, \n",
      "Class 4: 0.5048, Class 5: 0.4358, Class 6: 0.8272, \n",
      "Training Loss: 0.7753, Validation Loss: 0.6294\n",
      "Epoch 167/4000\n"
     ]
    },
    {
     "name": "stderr",
     "output_type": "stream",
     "text": [
      "Training: 100%|██████████| 12/12 [00:28<00:00,  2.34s/it, loss=0.792]\n",
      "Validation: 100%|██████████| 2/2 [00:01<00:00,  1.42it/s, loss=0.9]  \n"
     ]
    },
    {
     "name": "stdout",
     "output_type": "stream",
     "text": [
      "Validation Dice Score\n",
      "Class 0: 0.6419, Class 1: 0.3810, Class 2: 0.0017, Class 3: 0.0012, \n",
      "Class 4: 0.5157, Class 5: 0.1086, Class 6: 0.3524, \n",
      "Training Loss: 0.7553, Validation Loss: 0.8082\n",
      "Epoch 168/4000\n"
     ]
    },
    {
     "name": "stderr",
     "output_type": "stream",
     "text": [
      "Training: 100%|██████████| 12/12 [00:27<00:00,  2.27s/it, loss=0.819]\n",
      "Validation: 100%|██████████| 2/2 [00:01<00:00,  1.37it/s, loss=0.592]\n"
     ]
    },
    {
     "name": "stdout",
     "output_type": "stream",
     "text": [
      "Validation Dice Score\n",
      "Class 0: 0.6416, Class 1: 0.7957, Class 2: 0.0402, Class 3: 0.0016, \n",
      "Class 4: 0.5089, Class 5: 0.3734, Class 6: 0.8907, \n",
      "Training Loss: 0.7696, Validation Loss: 0.6320\n",
      "Epoch 169/4000\n"
     ]
    },
    {
     "name": "stderr",
     "output_type": "stream",
     "text": [
      "Training: 100%|██████████| 12/12 [00:29<00:00,  2.46s/it, loss=0.657]\n",
      "Validation: 100%|██████████| 2/2 [00:02<00:00,  1.38s/it, loss=0.636]\n"
     ]
    },
    {
     "name": "stdout",
     "output_type": "stream",
     "text": [
      "Validation Dice Score\n",
      "Class 0: 0.6540, Class 1: 0.7420, Class 2: 0.0066, Class 3: 0.0013, \n",
      "Class 4: 0.3408, Class 5: 0.3321, Class 6: 0.8271, \n",
      "Training Loss: 0.7712, Validation Loss: 0.6725\n",
      "Epoch 170/4000\n"
     ]
    },
    {
     "name": "stderr",
     "output_type": "stream",
     "text": [
      "Training: 100%|██████████| 12/12 [00:29<00:00,  2.48s/it, loss=0.844]\n",
      "Validation: 100%|██████████| 2/2 [00:02<00:00,  1.37s/it, loss=0.627]\n"
     ]
    },
    {
     "name": "stdout",
     "output_type": "stream",
     "text": [
      "Validation Dice Score\n",
      "Class 0: 0.6525, Class 1: 0.7186, Class 2: 0.0040, Class 3: 0.0018, \n",
      "Class 4: 0.6074, Class 5: 0.3824, Class 6: 0.8481, \n",
      "Training Loss: 0.7442, Validation Loss: 0.6665\n",
      "Epoch 171/4000\n"
     ]
    },
    {
     "name": "stderr",
     "output_type": "stream",
     "text": [
      "Training: 100%|██████████| 12/12 [00:27<00:00,  2.28s/it, loss=0.699]\n",
      "Validation: 100%|██████████| 2/2 [00:02<00:00,  1.28s/it, loss=0.742]\n"
     ]
    },
    {
     "name": "stdout",
     "output_type": "stream",
     "text": [
      "Validation Dice Score\n",
      "Class 0: 0.6451, Class 1: 0.7494, Class 2: 0.0820, Class 3: 0.0011, \n",
      "Class 4: 0.3321, Class 5: 0.4171, Class 6: 0.7335, \n",
      "Training Loss: 0.7082, Validation Loss: 0.6424\n",
      "Epoch 172/4000\n"
     ]
    },
    {
     "name": "stderr",
     "output_type": "stream",
     "text": [
      "Training: 100%|██████████| 12/12 [00:29<00:00,  2.42s/it, loss=0.786]\n",
      "Validation: 100%|██████████| 2/2 [00:02<00:00,  1.32s/it, loss=0.524]\n"
     ]
    },
    {
     "name": "stdout",
     "output_type": "stream",
     "text": [
      "Validation Dice Score\n",
      "Class 0: 0.6233, Class 1: 0.8331, Class 2: 0.0041, Class 3: 0.0006, \n",
      "Class 4: 0.5231, Class 5: 0.4118, Class 6: 0.8696, \n",
      "Training Loss: 0.7739, Validation Loss: 0.5769\n",
      "Best model saved with validation loss: 0.5769\n",
      "Epoch 173/4000\n"
     ]
    },
    {
     "name": "stderr",
     "output_type": "stream",
     "text": [
      "Training: 100%|██████████| 12/12 [00:29<00:00,  2.49s/it, loss=0.7]  \n",
      "Validation: 100%|██████████| 2/2 [00:02<00:00,  1.31s/it, loss=0.627]\n"
     ]
    },
    {
     "name": "stdout",
     "output_type": "stream",
     "text": [
      "Validation Dice Score\n",
      "Class 0: 0.6251, Class 1: 0.8054, Class 2: 0.1612, Class 3: 0.0019, \n",
      "Class 4: 0.2974, Class 5: 0.4254, Class 6: 0.8998, \n",
      "Training Loss: 0.7104, Validation Loss: 0.6681\n",
      "Epoch 174/4000\n"
     ]
    },
    {
     "name": "stderr",
     "output_type": "stream",
     "text": [
      "Training: 100%|██████████| 12/12 [00:28<00:00,  2.41s/it, loss=0.879]\n",
      "Validation: 100%|██████████| 2/2 [00:02<00:00,  1.39s/it, loss=0.732]\n"
     ]
    },
    {
     "name": "stdout",
     "output_type": "stream",
     "text": [
      "Validation Dice Score\n",
      "Class 0: 0.6253, Class 1: 0.7598, Class 2: 0.0589, Class 3: 0.0010, \n",
      "Class 4: 0.5428, Class 5: 0.3272, Class 6: 0.8361, \n",
      "Training Loss: 0.7238, Validation Loss: 0.6370\n",
      "Epoch 175/4000\n"
     ]
    },
    {
     "name": "stderr",
     "output_type": "stream",
     "text": [
      "Training: 100%|██████████| 12/12 [00:27<00:00,  2.30s/it, loss=0.724]\n",
      "Validation: 100%|██████████| 2/2 [00:02<00:00,  1.27s/it, loss=0.763]\n"
     ]
    },
    {
     "name": "stdout",
     "output_type": "stream",
     "text": [
      "Validation Dice Score\n",
      "Class 0: 0.6163, Class 1: 0.7340, Class 2: 0.0941, Class 3: 0.0015, \n",
      "Class 4: 0.3159, Class 5: 0.2848, Class 6: 0.3868, \n",
      "Training Loss: 0.7468, Validation Loss: 0.7272\n",
      "Epoch 176/4000\n"
     ]
    },
    {
     "name": "stderr",
     "output_type": "stream",
     "text": [
      "Training: 100%|██████████| 12/12 [00:28<00:00,  2.40s/it, loss=0.892]\n",
      "Validation: 100%|██████████| 2/2 [00:02<00:00,  1.30s/it, loss=0.702]\n"
     ]
    },
    {
     "name": "stdout",
     "output_type": "stream",
     "text": [
      "Validation Dice Score\n",
      "Class 0: 0.6290, Class 1: 0.8436, Class 2: 0.0000, Class 3: 0.0006, \n",
      "Class 4: 0.5443, Class 5: 0.3866, Class 6: 0.4332, \n",
      "Training Loss: 0.7246, Validation Loss: 0.7052\n",
      "Epoch 177/4000\n"
     ]
    },
    {
     "name": "stderr",
     "output_type": "stream",
     "text": [
      "Training: 100%|██████████| 12/12 [00:28<00:00,  2.40s/it, loss=0.826]\n",
      "Validation: 100%|██████████| 2/2 [00:02<00:00,  1.35s/it, loss=0.747]\n"
     ]
    },
    {
     "name": "stdout",
     "output_type": "stream",
     "text": [
      "Validation Dice Score\n",
      "Class 0: 0.6464, Class 1: 0.8029, Class 2: 0.0034, Class 3: 0.0007, \n",
      "Class 4: 0.5707, Class 5: 0.2341, Class 6: 0.5499, \n",
      "Training Loss: 0.7255, Validation Loss: 0.7121\n",
      "Epoch 178/4000\n"
     ]
    },
    {
     "name": "stderr",
     "output_type": "stream",
     "text": [
      "Training: 100%|██████████| 12/12 [00:29<00:00,  2.42s/it, loss=0.747]\n",
      "Validation: 100%|██████████| 2/2 [00:02<00:00,  1.37s/it, loss=0.619]\n"
     ]
    },
    {
     "name": "stdout",
     "output_type": "stream",
     "text": [
      "Validation Dice Score\n",
      "Class 0: 0.6384, Class 1: 0.7620, Class 2: 0.0249, Class 3: 0.0007, \n",
      "Class 4: 0.1977, Class 5: 0.2265, Class 6: 0.7973, \n",
      "Training Loss: 0.7375, Validation Loss: 0.7002\n",
      "Epoch 179/4000\n"
     ]
    },
    {
     "name": "stderr",
     "output_type": "stream",
     "text": [
      "Training: 100%|██████████| 12/12 [00:30<00:00,  2.51s/it, loss=0.767]\n",
      "Validation: 100%|██████████| 2/2 [00:02<00:00,  1.33s/it, loss=0.778]\n"
     ]
    },
    {
     "name": "stdout",
     "output_type": "stream",
     "text": [
      "Validation Dice Score\n",
      "Class 0: 0.6285, Class 1: 0.8506, Class 2: 0.0005, Class 3: 0.0000, \n",
      "Class 4: 0.6861, Class 5: 0.0239, Class 6: 0.3860, \n",
      "Training Loss: 0.7604, Validation Loss: 0.7183\n",
      "Epoch 180/4000\n"
     ]
    },
    {
     "name": "stderr",
     "output_type": "stream",
     "text": [
      "Training: 100%|██████████| 12/12 [00:28<00:00,  2.40s/it, loss=0.808]\n",
      "Validation: 100%|██████████| 2/2 [00:02<00:00,  1.37s/it, loss=0.772]\n"
     ]
    },
    {
     "name": "stdout",
     "output_type": "stream",
     "text": [
      "Validation Dice Score\n",
      "Class 0: 0.6207, Class 1: 0.6793, Class 2: 0.0000, Class 3: 0.0014, \n",
      "Class 4: 0.2323, Class 5: 0.5170, Class 6: 0.7766, \n",
      "Training Loss: 0.7731, Validation Loss: 0.6937\n",
      "Epoch 181/4000\n"
     ]
    },
    {
     "name": "stderr",
     "output_type": "stream",
     "text": [
      "Training: 100%|██████████| 12/12 [00:28<00:00,  2.34s/it, loss=0.69] \n",
      "Validation: 100%|██████████| 2/2 [00:02<00:00,  1.23s/it, loss=0.687]\n"
     ]
    },
    {
     "name": "stdout",
     "output_type": "stream",
     "text": [
      "Validation Dice Score\n",
      "Class 0: 0.6284, Class 1: 0.8370, Class 2: 0.0000, Class 3: 0.0000, \n",
      "Class 4: 0.3482, Class 5: 0.3061, Class 6: 0.8922, \n",
      "Training Loss: 0.7531, Validation Loss: 0.6697\n",
      "Epoch 182/4000\n"
     ]
    },
    {
     "name": "stderr",
     "output_type": "stream",
     "text": [
      "Training: 100%|██████████| 12/12 [00:29<00:00,  2.45s/it, loss=0.751]\n",
      "Validation: 100%|██████████| 2/2 [00:02<00:00,  1.36s/it, loss=0.59] \n"
     ]
    },
    {
     "name": "stdout",
     "output_type": "stream",
     "text": [
      "Validation Dice Score\n",
      "Class 0: 0.6358, Class 1: 0.8525, Class 2: 0.0000, Class 3: 0.0006, \n",
      "Class 4: 0.6215, Class 5: 0.3482, Class 6: 0.9221, \n",
      "Training Loss: 0.7289, Validation Loss: 0.5861\n",
      "Epoch 183/4000\n"
     ]
    },
    {
     "name": "stderr",
     "output_type": "stream",
     "text": [
      "Training: 100%|██████████| 12/12 [00:27<00:00,  2.28s/it, loss=0.725]\n",
      "Validation: 100%|██████████| 2/2 [00:02<00:00,  1.30s/it, loss=0.697]\n"
     ]
    },
    {
     "name": "stdout",
     "output_type": "stream",
     "text": [
      "Validation Dice Score\n",
      "Class 0: 0.6380, Class 1: 0.7821, Class 2: 0.0000, Class 3: 0.0000, \n",
      "Class 4: 0.5274, Class 5: 0.3028, Class 6: 0.9143, \n",
      "Training Loss: 0.7080, Validation Loss: 0.6417\n",
      "Epoch 184/4000\n"
     ]
    },
    {
     "name": "stderr",
     "output_type": "stream",
     "text": [
      "Training: 100%|██████████| 12/12 [00:28<00:00,  2.40s/it, loss=0.74] \n",
      "Validation: 100%|██████████| 2/2 [00:02<00:00,  1.39s/it, loss=0.643]\n"
     ]
    },
    {
     "name": "stdout",
     "output_type": "stream",
     "text": [
      "Validation Dice Score\n",
      "Class 0: 0.6343, Class 1: 0.8170, Class 2: 0.0000, Class 3: 0.0010, \n",
      "Class 4: 0.2473, Class 5: 0.1775, Class 6: 0.8825, \n",
      "Training Loss: 0.7410, Validation Loss: 0.7006\n",
      "Epoch 185/4000\n"
     ]
    },
    {
     "name": "stderr",
     "output_type": "stream",
     "text": [
      "Training: 100%|██████████| 12/12 [00:29<00:00,  2.47s/it, loss=0.815]\n",
      "Validation: 100%|██████████| 2/2 [00:02<00:00,  1.41s/it, loss=0.696]\n"
     ]
    },
    {
     "name": "stdout",
     "output_type": "stream",
     "text": [
      "Validation Dice Score\n",
      "Class 0: 0.6293, Class 1: 0.8122, Class 2: 0.0000, Class 3: 0.0023, \n",
      "Class 4: 0.6669, Class 5: 0.4632, Class 6: 0.9038, \n",
      "Training Loss: 0.7054, Validation Loss: 0.6304\n",
      "Epoch 186/4000\n"
     ]
    },
    {
     "name": "stderr",
     "output_type": "stream",
     "text": [
      "Training: 100%|██████████| 12/12 [00:27<00:00,  2.26s/it, loss=0.789]\n",
      "Validation: 100%|██████████| 2/2 [00:02<00:00,  1.31s/it, loss=0.735]\n"
     ]
    },
    {
     "name": "stdout",
     "output_type": "stream",
     "text": [
      "Validation Dice Score\n",
      "Class 0: 0.6377, Class 1: 0.8842, Class 2: 0.0604, Class 3: 0.0008, \n",
      "Class 4: 0.3970, Class 5: 0.2425, Class 6: 0.7444, \n",
      "Training Loss: 0.7747, Validation Loss: 0.6790\n",
      "Epoch 187/4000\n"
     ]
    },
    {
     "name": "stderr",
     "output_type": "stream",
     "text": [
      "Training: 100%|██████████| 12/12 [00:29<00:00,  2.47s/it, loss=0.754]\n",
      "Validation: 100%|██████████| 2/2 [00:02<00:00,  1.40s/it, loss=0.661]\n"
     ]
    },
    {
     "name": "stdout",
     "output_type": "stream",
     "text": [
      "Validation Dice Score\n",
      "Class 0: 0.6420, Class 1: 0.7108, Class 2: 0.0000, Class 3: 0.0013, \n",
      "Class 4: 0.2879, Class 5: 0.2852, Class 6: 0.7878, \n",
      "Training Loss: 0.7037, Validation Loss: 0.6768\n",
      "Epoch 188/4000\n"
     ]
    },
    {
     "name": "stderr",
     "output_type": "stream",
     "text": [
      "Training: 100%|██████████| 12/12 [00:30<00:00,  2.54s/it, loss=0.664]\n",
      "Validation: 100%|██████████| 2/2 [00:02<00:00,  1.35s/it, loss=0.738]\n"
     ]
    },
    {
     "name": "stdout",
     "output_type": "stream",
     "text": [
      "Validation Dice Score\n",
      "Class 0: 0.6422, Class 1: 0.6428, Class 2: 0.0538, Class 3: 0.0004, \n",
      "Class 4: 0.3576, Class 5: 0.1601, Class 6: 0.7437, \n",
      "Training Loss: 0.7365, Validation Loss: 0.7506\n",
      "Epoch 189/4000\n"
     ]
    },
    {
     "name": "stderr",
     "output_type": "stream",
     "text": [
      "Training: 100%|██████████| 12/12 [00:28<00:00,  2.37s/it, loss=0.75] \n",
      "Validation: 100%|██████████| 2/2 [00:02<00:00,  1.33s/it, loss=0.7]  \n"
     ]
    },
    {
     "name": "stdout",
     "output_type": "stream",
     "text": [
      "Validation Dice Score\n",
      "Class 0: 0.6469, Class 1: 0.7583, Class 2: 0.4563, Class 3: 0.0000, \n",
      "Class 4: 0.5832, Class 5: 0.4117, Class 6: 0.4401, \n",
      "Training Loss: 0.7270, Validation Loss: 0.7012\n",
      "Epoch 190/4000\n"
     ]
    },
    {
     "name": "stderr",
     "output_type": "stream",
     "text": [
      "Training: 100%|██████████| 12/12 [00:28<00:00,  2.38s/it, loss=0.674]\n",
      "Validation: 100%|██████████| 2/2 [00:02<00:00,  1.32s/it, loss=0.607]\n"
     ]
    },
    {
     "name": "stdout",
     "output_type": "stream",
     "text": [
      "Validation Dice Score\n",
      "Class 0: 0.6471, Class 1: 0.8555, Class 2: 0.1470, Class 3: 0.0007, \n",
      "Class 4: 0.3602, Class 5: 0.3059, Class 6: 0.9072, \n",
      "Training Loss: 0.7346, Validation Loss: 0.6082\n",
      "Epoch 191/4000\n"
     ]
    },
    {
     "name": "stderr",
     "output_type": "stream",
     "text": [
      "Training: 100%|██████████| 12/12 [00:28<00:00,  2.36s/it, loss=0.682]\n",
      "Validation: 100%|██████████| 2/2 [00:02<00:00,  1.33s/it, loss=0.67] \n"
     ]
    },
    {
     "name": "stdout",
     "output_type": "stream",
     "text": [
      "Validation Dice Score\n",
      "Class 0: 0.6496, Class 1: 0.8694, Class 2: 0.0133, Class 3: 0.0005, \n",
      "Class 4: 0.4981, Class 5: 0.3712, Class 6: 0.6569, \n",
      "Training Loss: 0.7044, Validation Loss: 0.6478\n",
      "Epoch 192/4000\n"
     ]
    },
    {
     "name": "stderr",
     "output_type": "stream",
     "text": [
      "Training: 100%|██████████| 12/12 [00:27<00:00,  2.27s/it, loss=0.736]\n",
      "Validation: 100%|██████████| 2/2 [00:02<00:00,  1.35s/it, loss=0.677]\n"
     ]
    },
    {
     "name": "stdout",
     "output_type": "stream",
     "text": [
      "Validation Dice Score\n",
      "Class 0: 0.6448, Class 1: 0.8350, Class 2: 0.0000, Class 3: 0.0004, \n",
      "Class 4: 0.1342, Class 5: 0.3997, Class 6: 0.8173, \n",
      "Training Loss: 0.7505, Validation Loss: 0.6778\n",
      "Epoch 193/4000\n"
     ]
    },
    {
     "name": "stderr",
     "output_type": "stream",
     "text": [
      "Training: 100%|██████████| 12/12 [00:28<00:00,  2.38s/it, loss=0.754]\n",
      "Validation: 100%|██████████| 2/2 [00:02<00:00,  1.42s/it, loss=0.729]\n"
     ]
    },
    {
     "name": "stdout",
     "output_type": "stream",
     "text": [
      "Validation Dice Score\n",
      "Class 0: 0.6265, Class 1: 0.8183, Class 2: 0.0000, Class 3: 0.0008, \n",
      "Class 4: 0.3616, Class 5: 0.2045, Class 6: 0.8692, \n",
      "Training Loss: 0.7569, Validation Loss: 0.6753\n",
      "Epoch 194/4000\n"
     ]
    },
    {
     "name": "stderr",
     "output_type": "stream",
     "text": [
      "Training: 100%|██████████| 12/12 [00:29<00:00,  2.46s/it, loss=0.784]\n",
      "Validation: 100%|██████████| 2/2 [00:02<00:00,  1.35s/it, loss=0.698]\n"
     ]
    },
    {
     "name": "stdout",
     "output_type": "stream",
     "text": [
      "Validation Dice Score\n",
      "Class 0: 0.6428, Class 1: 0.7330, Class 2: 0.0000, Class 3: 0.0009, \n",
      "Class 4: 0.5535, Class 5: 0.4262, Class 6: 0.3657, \n",
      "Training Loss: 0.7385, Validation Loss: 0.7400\n",
      "Epoch 195/4000\n"
     ]
    },
    {
     "name": "stderr",
     "output_type": "stream",
     "text": [
      "Training: 100%|██████████| 12/12 [00:28<00:00,  2.34s/it, loss=0.845]\n",
      "Validation: 100%|██████████| 2/2 [00:02<00:00,  1.36s/it, loss=0.754]\n"
     ]
    },
    {
     "name": "stdout",
     "output_type": "stream",
     "text": [
      "Validation Dice Score\n",
      "Class 0: 0.6360, Class 1: 0.6930, Class 2: 0.1922, Class 3: 0.0001, \n",
      "Class 4: 0.0000, Class 5: 0.2734, Class 6: 0.7504, \n",
      "Training Loss: 0.7554, Validation Loss: 0.7371\n",
      "Epoch 196/4000\n"
     ]
    },
    {
     "name": "stderr",
     "output_type": "stream",
     "text": [
      "Training: 100%|██████████| 12/12 [00:28<00:00,  2.39s/it, loss=0.71] \n",
      "Validation: 100%|██████████| 2/2 [00:02<00:00,  1.36s/it, loss=0.716]\n"
     ]
    },
    {
     "name": "stdout",
     "output_type": "stream",
     "text": [
      "Validation Dice Score\n",
      "Class 0: 0.6372, Class 1: 0.8222, Class 2: 0.0000, Class 3: 0.0009, \n",
      "Class 4: 0.2683, Class 5: 0.5213, Class 6: 0.9128, \n",
      "Training Loss: 0.7758, Validation Loss: 0.6126\n",
      "Epoch 197/4000\n"
     ]
    },
    {
     "name": "stderr",
     "output_type": "stream",
     "text": [
      "Training: 100%|██████████| 12/12 [00:27<00:00,  2.33s/it, loss=0.835]\n",
      "Validation: 100%|██████████| 2/2 [00:02<00:00,  1.29s/it, loss=0.649]\n"
     ]
    },
    {
     "name": "stdout",
     "output_type": "stream",
     "text": [
      "Validation Dice Score\n",
      "Class 0: 0.6399, Class 1: 0.6635, Class 2: 0.1119, Class 3: 0.0012, \n",
      "Class 4: 0.5644, Class 5: 0.3976, Class 6: 0.3742, \n",
      "Training Loss: 0.7746, Validation Loss: 0.7276\n",
      "Epoch 198/4000\n"
     ]
    },
    {
     "name": "stderr",
     "output_type": "stream",
     "text": [
      "Training: 100%|██████████| 12/12 [00:28<00:00,  2.34s/it, loss=0.727]\n",
      "Validation: 100%|██████████| 2/2 [00:02<00:00,  1.32s/it, loss=0.723]\n"
     ]
    },
    {
     "name": "stdout",
     "output_type": "stream",
     "text": [
      "Validation Dice Score\n",
      "Class 0: 0.6259, Class 1: 0.8136, Class 2: 0.1005, Class 3: 0.0017, \n",
      "Class 4: 0.5035, Class 5: 0.4022, Class 6: 0.5972, \n",
      "Training Loss: 0.7458, Validation Loss: 0.7097\n",
      "Epoch 199/4000\n"
     ]
    },
    {
     "name": "stderr",
     "output_type": "stream",
     "text": [
      "Training: 100%|██████████| 12/12 [00:27<00:00,  2.27s/it, loss=0.692]\n",
      "Validation: 100%|██████████| 2/2 [00:02<00:00,  1.37s/it, loss=0.755]\n"
     ]
    },
    {
     "name": "stdout",
     "output_type": "stream",
     "text": [
      "Validation Dice Score\n",
      "Class 0: 0.6339, Class 1: 0.7290, Class 2: 0.1305, Class 3: 0.0000, \n",
      "Class 4: 0.0798, Class 5: 0.2676, Class 6: 0.8931, \n",
      "Training Loss: 0.7527, Validation Loss: 0.6948\n",
      "Epoch 200/4000\n"
     ]
    },
    {
     "name": "stderr",
     "output_type": "stream",
     "text": [
      "Training: 100%|██████████| 12/12 [00:30<00:00,  2.50s/it, loss=0.777]\n",
      "Validation: 100%|██████████| 2/2 [00:02<00:00,  1.37s/it, loss=0.74] \n"
     ]
    },
    {
     "name": "stdout",
     "output_type": "stream",
     "text": [
      "Validation Dice Score\n",
      "Class 0: 0.6399, Class 1: 0.8162, Class 2: 0.1150, Class 3: 0.0009, \n",
      "Class 4: 0.0705, Class 5: 0.2733, Class 6: 0.8877, \n",
      "Training Loss: 0.7733, Validation Loss: 0.7108\n",
      "Epoch 201/4000\n"
     ]
    },
    {
     "name": "stderr",
     "output_type": "stream",
     "text": [
      "Training: 100%|██████████| 12/12 [00:27<00:00,  2.27s/it, loss=0.728]\n",
      "Validation: 100%|██████████| 2/2 [00:02<00:00,  1.33s/it, loss=0.629]\n"
     ]
    },
    {
     "name": "stdout",
     "output_type": "stream",
     "text": [
      "Validation Dice Score\n",
      "Class 0: 0.6558, Class 1: 0.8377, Class 2: 0.0000, Class 3: 0.0005, \n",
      "Class 4: 0.3179, Class 5: 0.3081, Class 6: 0.9306, \n",
      "Training Loss: 0.7501, Validation Loss: 0.6166\n",
      "Epoch 202/4000\n"
     ]
    },
    {
     "name": "stderr",
     "output_type": "stream",
     "text": [
      "Training: 100%|██████████| 12/12 [00:28<00:00,  2.42s/it, loss=0.769]\n",
      "Validation: 100%|██████████| 2/2 [00:02<00:00,  1.37s/it, loss=0.752]\n"
     ]
    },
    {
     "name": "stdout",
     "output_type": "stream",
     "text": [
      "Validation Dice Score\n",
      "Class 0: 0.6483, Class 1: 0.8098, Class 2: 0.0488, Class 3: 0.0004, \n",
      "Class 4: 0.0543, Class 5: 0.3410, Class 6: 0.8265, \n",
      "Training Loss: 0.7451, Validation Loss: 0.7249\n",
      "Epoch 203/4000\n"
     ]
    },
    {
     "name": "stderr",
     "output_type": "stream",
     "text": [
      "Training: 100%|██████████| 12/12 [00:29<00:00,  2.49s/it, loss=0.672]\n",
      "Validation: 100%|██████████| 2/2 [00:02<00:00,  1.42s/it, loss=0.646]\n"
     ]
    },
    {
     "name": "stdout",
     "output_type": "stream",
     "text": [
      "Validation Dice Score\n",
      "Class 0: 0.6399, Class 1: 0.8562, Class 2: 0.0301, Class 3: 0.0017, \n",
      "Class 4: 0.2695, Class 5: 0.4430, Class 6: 0.8808, \n",
      "Training Loss: 0.7356, Validation Loss: 0.7214\n",
      "Epoch 204/4000\n"
     ]
    },
    {
     "name": "stderr",
     "output_type": "stream",
     "text": [
      "Training: 100%|██████████| 12/12 [00:28<00:00,  2.36s/it, loss=0.765]\n",
      "Validation: 100%|██████████| 2/2 [00:02<00:00,  1.39s/it, loss=0.76] \n"
     ]
    },
    {
     "name": "stdout",
     "output_type": "stream",
     "text": [
      "Validation Dice Score\n",
      "Class 0: 0.6334, Class 1: 0.6711, Class 2: 0.0500, Class 3: 0.0010, \n",
      "Class 4: 0.4768, Class 5: 0.3329, Class 6: 0.7797, \n",
      "Training Loss: 0.7113, Validation Loss: 0.7311\n",
      "Epoch 205/4000\n"
     ]
    },
    {
     "name": "stderr",
     "output_type": "stream",
     "text": [
      "Training: 100%|██████████| 12/12 [00:27<00:00,  2.32s/it, loss=0.781]\n",
      "Validation: 100%|██████████| 2/2 [00:02<00:00,  1.28s/it, loss=0.841]\n"
     ]
    },
    {
     "name": "stdout",
     "output_type": "stream",
     "text": [
      "Validation Dice Score\n",
      "Class 0: 0.6332, Class 1: 0.7042, Class 2: 0.0000, Class 3: 0.0021, \n",
      "Class 4: 0.4215, Class 5: 0.2320, Class 6: 0.4262, \n",
      "Training Loss: 0.7302, Validation Loss: 0.7982\n",
      "Epoch 206/4000\n"
     ]
    },
    {
     "name": "stderr",
     "output_type": "stream",
     "text": [
      "Training: 100%|██████████| 12/12 [00:29<00:00,  2.49s/it, loss=0.734]\n",
      "Validation: 100%|██████████| 2/2 [00:02<00:00,  1.38s/it, loss=0.768]\n"
     ]
    },
    {
     "name": "stdout",
     "output_type": "stream",
     "text": [
      "Validation Dice Score\n",
      "Class 0: 0.6346, Class 1: 0.7188, Class 2: 0.1505, Class 3: 0.0020, \n",
      "Class 4: 0.7035, Class 5: 0.1733, Class 6: 0.0000, \n",
      "Training Loss: 0.7154, Validation Loss: 0.7981\n",
      "Epoch 207/4000\n"
     ]
    },
    {
     "name": "stderr",
     "output_type": "stream",
     "text": [
      "Training: 100%|██████████| 12/12 [00:28<00:00,  2.38s/it, loss=0.779]\n",
      "Validation: 100%|██████████| 2/2 [00:02<00:00,  1.35s/it, loss=0.693]\n"
     ]
    },
    {
     "name": "stdout",
     "output_type": "stream",
     "text": [
      "Validation Dice Score\n",
      "Class 0: 0.6374, Class 1: 0.8181, Class 2: 0.0000, Class 3: 0.0007, \n",
      "Class 4: 0.1267, Class 5: 0.2936, Class 6: 0.8724, \n",
      "Training Loss: 0.7117, Validation Loss: 0.6786\n",
      "Epoch 208/4000\n"
     ]
    },
    {
     "name": "stderr",
     "output_type": "stream",
     "text": [
      "Training: 100%|██████████| 12/12 [00:29<00:00,  2.46s/it, loss=0.85] \n",
      "Validation: 100%|██████████| 2/2 [00:02<00:00,  1.38s/it, loss=0.776]\n"
     ]
    },
    {
     "name": "stdout",
     "output_type": "stream",
     "text": [
      "Validation Dice Score\n",
      "Class 0: 0.6331, Class 1: 0.8366, Class 2: 0.0000, Class 3: 0.0012, \n",
      "Class 4: 0.5799, Class 5: 0.2522, Class 6: 0.9281, \n",
      "Training Loss: 0.7248, Validation Loss: 0.6994\n",
      "Epoch 209/4000\n"
     ]
    },
    {
     "name": "stderr",
     "output_type": "stream",
     "text": [
      "Training: 100%|██████████| 12/12 [00:29<00:00,  2.45s/it, loss=0.714]\n",
      "Validation: 100%|██████████| 2/2 [00:02<00:00,  1.40s/it, loss=0.641]\n"
     ]
    },
    {
     "name": "stdout",
     "output_type": "stream",
     "text": [
      "Validation Dice Score\n",
      "Class 0: 0.6392, Class 1: 0.8037, Class 2: 0.0000, Class 3: 0.0014, \n",
      "Class 4: 0.5168, Class 5: 0.4668, Class 6: 0.8047, \n",
      "Training Loss: 0.7421, Validation Loss: 0.6322\n",
      "Epoch 210/4000\n"
     ]
    },
    {
     "name": "stderr",
     "output_type": "stream",
     "text": [
      "Training: 100%|██████████| 12/12 [00:28<00:00,  2.40s/it, loss=0.654]\n",
      "Validation: 100%|██████████| 2/2 [00:02<00:00,  1.42s/it, loss=0.667]\n"
     ]
    },
    {
     "name": "stdout",
     "output_type": "stream",
     "text": [
      "Validation Dice Score\n",
      "Class 0: 0.6463, Class 1: 0.8229, Class 2: 0.2464, Class 3: 0.0009, \n",
      "Class 4: 0.2265, Class 5: 0.3667, Class 6: 0.0000, \n",
      "Training Loss: 0.7095, Validation Loss: 0.7436\n",
      "Epoch 211/4000\n"
     ]
    },
    {
     "name": "stderr",
     "output_type": "stream",
     "text": [
      "Training: 100%|██████████| 12/12 [00:28<00:00,  2.40s/it, loss=0.784]\n",
      "Validation: 100%|██████████| 2/2 [00:02<00:00,  1.32s/it, loss=0.581]\n"
     ]
    },
    {
     "name": "stdout",
     "output_type": "stream",
     "text": [
      "Validation Dice Score\n",
      "Class 0: 0.6139, Class 1: 0.7890, Class 2: 0.2167, Class 3: 0.0011, \n",
      "Class 4: 0.5672, Class 5: 0.2802, Class 6: 0.4446, \n",
      "Training Loss: 0.7393, Validation Loss: 0.6308\n",
      "Epoch 212/4000\n"
     ]
    },
    {
     "name": "stderr",
     "output_type": "stream",
     "text": [
      "Training: 100%|██████████| 12/12 [00:29<00:00,  2.48s/it, loss=0.643]\n",
      "Validation: 100%|██████████| 2/2 [00:02<00:00,  1.30s/it, loss=0.662]\n"
     ]
    },
    {
     "name": "stdout",
     "output_type": "stream",
     "text": [
      "Validation Dice Score\n",
      "Class 0: 0.6287, Class 1: 0.7925, Class 2: 0.2197, Class 3: 0.0002, \n",
      "Class 4: 0.5793, Class 5: 0.3440, Class 6: 0.8379, \n",
      "Training Loss: 0.7266, Validation Loss: 0.6344\n",
      "Epoch 213/4000\n"
     ]
    },
    {
     "name": "stderr",
     "output_type": "stream",
     "text": [
      "Training: 100%|██████████| 12/12 [00:29<00:00,  2.42s/it, loss=0.67] \n",
      "Validation: 100%|██████████| 2/2 [00:02<00:00,  1.37s/it, loss=0.732]\n"
     ]
    },
    {
     "name": "stdout",
     "output_type": "stream",
     "text": [
      "Validation Dice Score\n",
      "Class 0: 0.6469, Class 1: 0.4473, Class 2: 0.0956, Class 3: 0.0030, \n",
      "Class 4: 0.3892, Class 5: 0.2612, Class 6: 0.4226, \n",
      "Training Loss: 0.7389, Validation Loss: 0.8087\n",
      "Epoch 214/4000\n"
     ]
    },
    {
     "name": "stderr",
     "output_type": "stream",
     "text": [
      "Training: 100%|██████████| 12/12 [00:28<00:00,  2.33s/it, loss=0.736]\n",
      "Validation: 100%|██████████| 2/2 [00:01<00:00,  1.35it/s, loss=0.696]\n"
     ]
    },
    {
     "name": "stdout",
     "output_type": "stream",
     "text": [
      "Validation Dice Score\n",
      "Class 0: 0.6364, Class 1: 0.7743, Class 2: 0.0818, Class 3: 0.0029, \n",
      "Class 4: 0.2933, Class 5: 0.4335, Class 6: 0.3184, \n",
      "Training Loss: 0.7621, Validation Loss: 0.7255\n",
      "Epoch 215/4000\n"
     ]
    },
    {
     "name": "stderr",
     "output_type": "stream",
     "text": [
      "Training: 100%|██████████| 12/12 [00:27<00:00,  2.33s/it, loss=0.813]\n",
      "Validation: 100%|██████████| 2/2 [00:01<00:00,  1.37it/s, loss=0.68] \n"
     ]
    },
    {
     "name": "stdout",
     "output_type": "stream",
     "text": [
      "Validation Dice Score\n",
      "Class 0: 0.6338, Class 1: 0.8258, Class 2: 0.0000, Class 3: 0.0022, \n",
      "Class 4: 0.6118, Class 5: 0.4869, Class 6: 0.7938, \n",
      "Training Loss: 0.7569, Validation Loss: 0.6546\n",
      "Epoch 216/4000\n"
     ]
    },
    {
     "name": "stderr",
     "output_type": "stream",
     "text": [
      "Training: 100%|██████████| 12/12 [00:27<00:00,  2.32s/it, loss=0.662]\n",
      "Validation: 100%|██████████| 2/2 [00:01<00:00,  1.34it/s, loss=0.62] \n"
     ]
    },
    {
     "name": "stdout",
     "output_type": "stream",
     "text": [
      "Validation Dice Score\n",
      "Class 0: 0.6320, Class 1: 0.6971, Class 2: 0.1970, Class 3: 0.0001, \n",
      "Class 4: 0.3927, Class 5: 0.5352, Class 6: 0.8281, \n",
      "Training Loss: 0.7428, Validation Loss: 0.6105\n",
      "Epoch 217/4000\n"
     ]
    },
    {
     "name": "stderr",
     "output_type": "stream",
     "text": [
      "Training: 100%|██████████| 12/12 [00:28<00:00,  2.36s/it, loss=0.801]\n",
      "Validation: 100%|██████████| 2/2 [00:01<00:00,  1.35it/s, loss=0.804]\n"
     ]
    },
    {
     "name": "stdout",
     "output_type": "stream",
     "text": [
      "Validation Dice Score\n",
      "Class 0: 0.6461, Class 1: 0.7180, Class 2: 0.0000, Class 3: 0.0000, \n",
      "Class 4: 0.4898, Class 5: 0.0001, Class 6: 0.9146, \n",
      "Training Loss: 0.7316, Validation Loss: 0.7636\n",
      "Epoch 218/4000\n"
     ]
    },
    {
     "name": "stderr",
     "output_type": "stream",
     "text": [
      "Training: 100%|██████████| 12/12 [00:27<00:00,  2.28s/it, loss=0.749]\n",
      "Validation: 100%|██████████| 2/2 [00:01<00:00,  1.39it/s, loss=0.584]\n"
     ]
    },
    {
     "name": "stdout",
     "output_type": "stream",
     "text": [
      "Validation Dice Score\n",
      "Class 0: 0.6337, Class 1: 0.8112, Class 2: 0.0124, Class 3: 0.0006, \n",
      "Class 4: 0.4059, Class 5: 0.5451, Class 6: 0.8853, \n",
      "Training Loss: 0.7504, Validation Loss: 0.5599\n",
      "Best model saved with validation loss: 0.5599\n",
      "Epoch 219/4000\n"
     ]
    },
    {
     "name": "stderr",
     "output_type": "stream",
     "text": [
      "Training: 100%|██████████| 12/12 [00:28<00:00,  2.35s/it, loss=0.723]\n",
      "Validation: 100%|██████████| 2/2 [00:01<00:00,  1.43it/s, loss=0.735]\n"
     ]
    },
    {
     "name": "stdout",
     "output_type": "stream",
     "text": [
      "Validation Dice Score\n",
      "Class 0: 0.6323, Class 1: 0.8375, Class 2: 0.0000, Class 3: 0.0004, \n",
      "Class 4: 0.2194, Class 5: 0.4398, Class 6: 0.8798, \n",
      "Training Loss: 0.7610, Validation Loss: 0.6911\n",
      "Epoch 220/4000\n"
     ]
    },
    {
     "name": "stderr",
     "output_type": "stream",
     "text": [
      "Training: 100%|██████████| 12/12 [00:27<00:00,  2.31s/it, loss=0.758]\n",
      "Validation: 100%|██████████| 2/2 [00:01<00:00,  1.42it/s, loss=0.796]\n"
     ]
    },
    {
     "name": "stdout",
     "output_type": "stream",
     "text": [
      "Validation Dice Score\n",
      "Class 0: 0.6397, Class 1: 0.6321, Class 2: 0.2005, Class 3: 0.0028, \n",
      "Class 4: 0.0000, Class 5: 0.1930, Class 6: 0.7253, \n",
      "Training Loss: 0.7246, Validation Loss: 0.7835\n",
      "Epoch 221/4000\n"
     ]
    },
    {
     "name": "stderr",
     "output_type": "stream",
     "text": [
      "Training: 100%|██████████| 12/12 [00:27<00:00,  2.28s/it, loss=0.849]\n",
      "Validation: 100%|██████████| 2/2 [00:01<00:00,  1.35it/s, loss=0.641]\n"
     ]
    },
    {
     "name": "stdout",
     "output_type": "stream",
     "text": [
      "Validation Dice Score\n",
      "Class 0: 0.6191, Class 1: 0.8534, Class 2: 0.0057, Class 3: 0.0049, \n",
      "Class 4: 0.1670, Class 5: 0.3603, Class 6: 0.8618, \n",
      "Training Loss: 0.7627, Validation Loss: 0.6293\n",
      "Epoch 222/4000\n"
     ]
    },
    {
     "name": "stderr",
     "output_type": "stream",
     "text": [
      "Training: 100%|██████████| 12/12 [00:28<00:00,  2.36s/it, loss=0.617]\n",
      "Validation: 100%|██████████| 2/2 [00:01<00:00,  1.40it/s, loss=0.578]\n"
     ]
    },
    {
     "name": "stdout",
     "output_type": "stream",
     "text": [
      "Validation Dice Score\n",
      "Class 0: 0.6209, Class 1: 0.8812, Class 2: 0.0193, Class 3: 0.0008, \n",
      "Class 4: 0.2886, Class 5: 0.5126, Class 6: 0.9126, \n",
      "Training Loss: 0.7614, Validation Loss: 0.6110\n",
      "Epoch 223/4000\n"
     ]
    },
    {
     "name": "stderr",
     "output_type": "stream",
     "text": [
      "Training: 100%|██████████| 12/12 [00:29<00:00,  2.44s/it, loss=0.779]\n",
      "Validation: 100%|██████████| 2/2 [00:02<00:00,  1.30s/it, loss=0.612]\n"
     ]
    },
    {
     "name": "stdout",
     "output_type": "stream",
     "text": [
      "Validation Dice Score\n",
      "Class 0: 0.6245, Class 1: 0.8680, Class 2: 0.1765, Class 3: 0.0007, \n",
      "Class 4: 0.6814, Class 5: 0.4198, Class 6: 0.9013, \n",
      "Training Loss: 0.7358, Validation Loss: 0.6331\n",
      "Epoch 224/4000\n"
     ]
    },
    {
     "name": "stderr",
     "output_type": "stream",
     "text": [
      "Training: 100%|██████████| 12/12 [00:29<00:00,  2.47s/it, loss=0.732]\n",
      "Validation: 100%|██████████| 2/2 [00:02<00:00,  1.35s/it, loss=0.787]\n"
     ]
    },
    {
     "name": "stdout",
     "output_type": "stream",
     "text": [
      "Validation Dice Score\n",
      "Class 0: 0.6207, Class 1: 0.4760, Class 2: 0.1786, Class 3: 0.0000, \n",
      "Class 4: 0.0000, Class 5: 0.3593, Class 6: 0.8693, \n",
      "Training Loss: 0.7501, Validation Loss: 0.7732\n",
      "Epoch 225/4000\n"
     ]
    },
    {
     "name": "stderr",
     "output_type": "stream",
     "text": [
      "Training: 100%|██████████| 12/12 [00:28<00:00,  2.38s/it, loss=0.728]\n",
      "Validation: 100%|██████████| 2/2 [00:02<00:00,  1.25s/it, loss=0.602]\n"
     ]
    },
    {
     "name": "stdout",
     "output_type": "stream",
     "text": [
      "Validation Dice Score\n",
      "Class 0: 0.6122, Class 1: 0.8247, Class 2: 0.2659, Class 3: 0.0014, \n",
      "Class 4: 0.5419, Class 5: 0.2220, Class 6: 0.9188, \n",
      "Training Loss: 0.7511, Validation Loss: 0.6573\n",
      "Epoch 226/4000\n"
     ]
    },
    {
     "name": "stderr",
     "output_type": "stream",
     "text": [
      "Training: 100%|██████████| 12/12 [00:29<00:00,  2.46s/it, loss=0.609]\n",
      "Validation: 100%|██████████| 2/2 [00:02<00:00,  1.25s/it, loss=0.807]\n"
     ]
    },
    {
     "name": "stdout",
     "output_type": "stream",
     "text": [
      "Validation Dice Score\n",
      "Class 0: 0.6400, Class 1: 0.6920, Class 2: 0.2612, Class 3: 0.0025, \n",
      "Class 4: 0.4908, Class 5: 0.3263, Class 6: 0.4485, \n",
      "Training Loss: 0.7338, Validation Loss: 0.7875\n",
      "Epoch 227/4000\n"
     ]
    },
    {
     "name": "stderr",
     "output_type": "stream",
     "text": [
      "Training: 100%|██████████| 12/12 [00:29<00:00,  2.47s/it, loss=0.704]\n",
      "Validation: 100%|██████████| 2/2 [00:02<00:00,  1.37s/it, loss=0.793]\n"
     ]
    },
    {
     "name": "stdout",
     "output_type": "stream",
     "text": [
      "Validation Dice Score\n",
      "Class 0: 0.6250, Class 1: 0.7316, Class 2: 0.2829, Class 3: 0.0006, \n",
      "Class 4: 0.1994, Class 5: 0.3276, Class 6: 0.4236, \n",
      "Training Loss: 0.7083, Validation Loss: 0.7526\n",
      "Epoch 228/4000\n"
     ]
    },
    {
     "name": "stderr",
     "output_type": "stream",
     "text": [
      "Training: 100%|██████████| 12/12 [00:29<00:00,  2.47s/it, loss=0.709]\n",
      "Validation: 100%|██████████| 2/2 [00:02<00:00,  1.30s/it, loss=0.549]\n"
     ]
    },
    {
     "name": "stdout",
     "output_type": "stream",
     "text": [
      "Validation Dice Score\n",
      "Class 0: 0.6222, Class 1: 0.8347, Class 2: 0.0539, Class 3: 0.0001, \n",
      "Class 4: 0.6780, Class 5: 0.1379, Class 6: 0.8591, \n",
      "Training Loss: 0.7396, Validation Loss: 0.6085\n",
      "Epoch 229/4000\n"
     ]
    },
    {
     "name": "stderr",
     "output_type": "stream",
     "text": [
      "Training: 100%|██████████| 12/12 [00:30<00:00,  2.51s/it, loss=0.806]\n",
      "Validation: 100%|██████████| 2/2 [00:02<00:00,  1.23s/it, loss=0.64] \n"
     ]
    },
    {
     "name": "stdout",
     "output_type": "stream",
     "text": [
      "Validation Dice Score\n",
      "Class 0: 0.6235, Class 1: 0.8220, Class 2: 0.0000, Class 3: 0.0010, \n",
      "Class 4: 0.5711, Class 5: 0.2820, Class 6: 0.8459, \n",
      "Training Loss: 0.7439, Validation Loss: 0.6629\n",
      "Epoch 230/4000\n"
     ]
    },
    {
     "name": "stderr",
     "output_type": "stream",
     "text": [
      "Training: 100%|██████████| 12/12 [00:28<00:00,  2.38s/it, loss=0.817]\n",
      "Validation: 100%|██████████| 2/2 [00:02<00:00,  1.40s/it, loss=0.735]\n"
     ]
    },
    {
     "name": "stdout",
     "output_type": "stream",
     "text": [
      "Validation Dice Score\n",
      "Class 0: 0.6269, Class 1: 0.8576, Class 2: 0.0000, Class 3: 0.0009, \n",
      "Class 4: 0.3065, Class 5: 0.4407, Class 6: 0.4373, \n",
      "Training Loss: 0.7768, Validation Loss: 0.6854\n",
      "Epoch 231/4000\n"
     ]
    },
    {
     "name": "stderr",
     "output_type": "stream",
     "text": [
      "Training: 100%|██████████| 12/12 [00:31<00:00,  2.60s/it, loss=0.766]\n",
      "Validation: 100%|██████████| 2/2 [00:02<00:00,  1.34s/it, loss=0.77] \n"
     ]
    },
    {
     "name": "stdout",
     "output_type": "stream",
     "text": [
      "Validation Dice Score\n",
      "Class 0: 0.6384, Class 1: 0.7658, Class 2: 0.2605, Class 3: 0.0037, \n",
      "Class 4: 0.0871, Class 5: 0.1230, Class 6: 0.8386, \n",
      "Training Loss: 0.7337, Validation Loss: 0.7395\n",
      "Epoch 232/4000\n"
     ]
    },
    {
     "name": "stderr",
     "output_type": "stream",
     "text": [
      "Training: 100%|██████████| 12/12 [00:29<00:00,  2.43s/it, loss=0.611]\n",
      "Validation: 100%|██████████| 2/2 [00:02<00:00,  1.29s/it, loss=0.692]\n"
     ]
    },
    {
     "name": "stdout",
     "output_type": "stream",
     "text": [
      "Validation Dice Score\n",
      "Class 0: 0.6361, Class 1: 0.7903, Class 2: 0.0904, Class 3: 0.0031, \n",
      "Class 4: 0.2263, Class 5: 0.4413, Class 6: 0.8053, \n",
      "Training Loss: 0.7101, Validation Loss: 0.6616\n",
      "Epoch 233/4000\n"
     ]
    },
    {
     "name": "stderr",
     "output_type": "stream",
     "text": [
      "Training: 100%|██████████| 12/12 [00:32<00:00,  2.71s/it, loss=0.76] \n",
      "Validation: 100%|██████████| 2/2 [00:02<00:00,  1.42s/it, loss=0.538]\n"
     ]
    },
    {
     "name": "stdout",
     "output_type": "stream",
     "text": [
      "Validation Dice Score\n",
      "Class 0: 0.6275, Class 1: 0.8747, Class 2: 0.1621, Class 3: 0.0023, \n",
      "Class 4: 0.3400, Class 5: 0.3114, Class 6: 0.7840, \n",
      "Training Loss: 0.7409, Validation Loss: 0.6275\n",
      "Epoch 234/4000\n"
     ]
    },
    {
     "name": "stderr",
     "output_type": "stream",
     "text": [
      "Training: 100%|██████████| 12/12 [00:29<00:00,  2.42s/it, loss=0.761]\n",
      "Validation: 100%|██████████| 2/2 [00:02<00:00,  1.30s/it, loss=0.718]\n"
     ]
    },
    {
     "name": "stdout",
     "output_type": "stream",
     "text": [
      "Validation Dice Score\n",
      "Class 0: 0.6358, Class 1: 0.7401, Class 2: 0.0000, Class 3: 0.0000, \n",
      "Class 4: 0.3106, Class 5: 0.3319, Class 6: 0.4549, \n",
      "Training Loss: 0.7451, Validation Loss: 0.7213\n",
      "Epoch 235/4000\n"
     ]
    },
    {
     "name": "stderr",
     "output_type": "stream",
     "text": [
      "Training: 100%|██████████| 12/12 [00:28<00:00,  2.39s/it, loss=0.733]\n",
      "Validation: 100%|██████████| 2/2 [00:02<00:00,  1.39s/it, loss=0.673]\n"
     ]
    },
    {
     "name": "stdout",
     "output_type": "stream",
     "text": [
      "Validation Dice Score\n",
      "Class 0: 0.6473, Class 1: 0.8398, Class 2: 0.1991, Class 3: 0.0001, \n",
      "Class 4: 0.2554, Class 5: 0.3799, Class 6: 0.9259, \n",
      "Training Loss: 0.7509, Validation Loss: 0.6270\n",
      "Epoch 236/4000\n"
     ]
    },
    {
     "name": "stderr",
     "output_type": "stream",
     "text": [
      "Training: 100%|██████████| 12/12 [00:28<00:00,  2.37s/it, loss=0.849]\n",
      "Validation: 100%|██████████| 2/2 [00:01<00:00,  1.36it/s, loss=0.823]\n"
     ]
    },
    {
     "name": "stdout",
     "output_type": "stream",
     "text": [
      "Validation Dice Score\n",
      "Class 0: 0.6354, Class 1: 0.6833, Class 2: 0.0000, Class 3: 0.0000, \n",
      "Class 4: 0.3840, Class 5: 0.2511, Class 6: 0.8672, \n",
      "Training Loss: 0.7252, Validation Loss: 0.7430\n",
      "Epoch 237/4000\n"
     ]
    },
    {
     "name": "stderr",
     "output_type": "stream",
     "text": [
      "Training: 100%|██████████| 12/12 [00:28<00:00,  2.39s/it, loss=0.684]\n",
      "Validation: 100%|██████████| 2/2 [00:01<00:00,  1.44it/s, loss=0.72] \n"
     ]
    },
    {
     "name": "stdout",
     "output_type": "stream",
     "text": [
      "Validation Dice Score\n",
      "Class 0: 0.6410, Class 1: 0.6778, Class 2: 0.0188, Class 3: 0.0011, \n",
      "Class 4: 0.7127, Class 5: 0.3093, Class 6: 0.4492, \n",
      "Training Loss: 0.6722, Validation Loss: 0.7535\n",
      "Epoch 238/4000\n"
     ]
    },
    {
     "name": "stderr",
     "output_type": "stream",
     "text": [
      "Training: 100%|██████████| 12/12 [00:28<00:00,  2.37s/it, loss=0.787]\n",
      "Validation: 100%|██████████| 2/2 [00:01<00:00,  1.39it/s, loss=0.746]\n"
     ]
    },
    {
     "name": "stdout",
     "output_type": "stream",
     "text": [
      "Validation Dice Score\n",
      "Class 0: 0.6459, Class 1: 0.8590, Class 2: 0.0000, Class 3: 0.0033, \n",
      "Class 4: 0.5115, Class 5: 0.3490, Class 6: 0.0000, \n",
      "Training Loss: 0.7607, Validation Loss: 0.7502\n",
      "Epoch 239/4000\n"
     ]
    },
    {
     "name": "stderr",
     "output_type": "stream",
     "text": [
      "Training: 100%|██████████| 12/12 [00:27<00:00,  2.29s/it, loss=0.883]\n",
      "Validation: 100%|██████████| 2/2 [00:01<00:00,  1.36it/s, loss=0.76] \n"
     ]
    },
    {
     "name": "stdout",
     "output_type": "stream",
     "text": [
      "Validation Dice Score\n",
      "Class 0: 0.6347, Class 1: 0.8259, Class 2: 0.0000, Class 3: 0.0012, \n",
      "Class 4: 0.6610, Class 5: 0.3320, Class 6: 0.4287, \n",
      "Training Loss: 0.7690, Validation Loss: 0.7086\n",
      "Epoch 240/4000\n"
     ]
    },
    {
     "name": "stderr",
     "output_type": "stream",
     "text": [
      "Training: 100%|██████████| 12/12 [00:27<00:00,  2.26s/it, loss=0.701]\n",
      "Validation: 100%|██████████| 2/2 [00:01<00:00,  1.45it/s, loss=0.671]\n"
     ]
    },
    {
     "name": "stdout",
     "output_type": "stream",
     "text": [
      "Validation Dice Score\n",
      "Class 0: 0.6409, Class 1: 0.8395, Class 2: 0.1058, Class 3: 0.0009, \n",
      "Class 4: 0.5072, Class 5: 0.1382, Class 6: 0.8982, \n",
      "Training Loss: 0.7657, Validation Loss: 0.6897\n",
      "Epoch 241/4000\n"
     ]
    },
    {
     "name": "stderr",
     "output_type": "stream",
     "text": [
      "Training: 100%|██████████| 12/12 [00:28<00:00,  2.36s/it, loss=0.769]\n",
      "Validation: 100%|██████████| 2/2 [00:01<00:00,  1.38it/s, loss=0.719]\n"
     ]
    },
    {
     "name": "stdout",
     "output_type": "stream",
     "text": [
      "Validation Dice Score\n",
      "Class 0: 0.6210, Class 1: 0.8238, Class 2: 0.3049, Class 3: 0.0015, \n",
      "Class 4: 0.3743, Class 5: 0.1591, Class 6: 0.4603, \n",
      "Training Loss: 0.7455, Validation Loss: 0.6938\n",
      "Epoch 242/4000\n"
     ]
    },
    {
     "name": "stderr",
     "output_type": "stream",
     "text": [
      "Training: 100%|██████████| 12/12 [00:28<00:00,  2.35s/it, loss=0.759]\n",
      "Validation: 100%|██████████| 2/2 [00:01<00:00,  1.35it/s, loss=0.755]\n"
     ]
    },
    {
     "name": "stdout",
     "output_type": "stream",
     "text": [
      "Validation Dice Score\n",
      "Class 0: 0.6371, Class 1: 0.7416, Class 2: 0.1392, Class 3: 0.0005, \n",
      "Class 4: 0.0611, Class 5: 0.2979, Class 6: 0.8239, \n",
      "Training Loss: 0.7488, Validation Loss: 0.7435\n",
      "Epoch 243/4000\n"
     ]
    },
    {
     "name": "stderr",
     "output_type": "stream",
     "text": [
      "Training: 100%|██████████| 12/12 [00:27<00:00,  2.30s/it, loss=0.7]  \n",
      "Validation: 100%|██████████| 2/2 [00:01<00:00,  1.36it/s, loss=0.666]\n"
     ]
    },
    {
     "name": "stdout",
     "output_type": "stream",
     "text": [
      "Validation Dice Score\n",
      "Class 0: 0.6317, Class 1: 0.9019, Class 2: 0.0227, Class 3: 0.0018, \n",
      "Class 4: 0.5417, Class 5: 0.3043, Class 6: 0.6566, \n",
      "Training Loss: 0.7473, Validation Loss: 0.6573\n",
      "Epoch 244/4000\n"
     ]
    },
    {
     "name": "stderr",
     "output_type": "stream",
     "text": [
      "Training: 100%|██████████| 12/12 [00:27<00:00,  2.33s/it, loss=0.79] \n",
      "Validation: 100%|██████████| 2/2 [00:01<00:00,  1.39it/s, loss=0.738]\n"
     ]
    },
    {
     "name": "stdout",
     "output_type": "stream",
     "text": [
      "Validation Dice Score\n",
      "Class 0: 0.6271, Class 1: 0.7208, Class 2: 0.0065, Class 3: 0.0006, \n",
      "Class 4: 0.3053, Class 5: 0.2322, Class 6: 0.8427, \n",
      "Training Loss: 0.7066, Validation Loss: 0.6830\n",
      "Epoch 245/4000\n"
     ]
    },
    {
     "name": "stderr",
     "output_type": "stream",
     "text": [
      "Training: 100%|██████████| 12/12 [00:26<00:00,  2.20s/it, loss=0.74] \n",
      "Validation: 100%|██████████| 2/2 [00:01<00:00,  1.38it/s, loss=0.692]\n"
     ]
    },
    {
     "name": "stdout",
     "output_type": "stream",
     "text": [
      "Validation Dice Score\n",
      "Class 0: 0.6178, Class 1: 0.7541, Class 2: 0.1571, Class 3: 0.0013, \n",
      "Class 4: 0.3546, Class 5: 0.3204, Class 6: 0.8694, \n",
      "Training Loss: 0.7069, Validation Loss: 0.6457\n",
      "Epoch 246/4000\n"
     ]
    },
    {
     "name": "stderr",
     "output_type": "stream",
     "text": [
      "Training: 100%|██████████| 12/12 [00:28<00:00,  2.38s/it, loss=0.671]\n",
      "Validation: 100%|██████████| 2/2 [00:01<00:00,  1.33it/s, loss=0.756]\n"
     ]
    },
    {
     "name": "stdout",
     "output_type": "stream",
     "text": [
      "Validation Dice Score\n",
      "Class 0: 0.6165, Class 1: 0.8297, Class 2: 0.0017, Class 3: 0.0003, \n",
      "Class 4: 0.6681, Class 5: 0.1773, Class 6: 0.4732, \n",
      "Training Loss: 0.7461, Validation Loss: 0.7216\n",
      "Epoch 247/4000\n"
     ]
    },
    {
     "name": "stderr",
     "output_type": "stream",
     "text": [
      "Training: 100%|██████████| 12/12 [00:27<00:00,  2.29s/it, loss=0.725]\n",
      "Validation: 100%|██████████| 2/2 [00:01<00:00,  1.39it/s, loss=0.805]\n"
     ]
    },
    {
     "name": "stdout",
     "output_type": "stream",
     "text": [
      "Validation Dice Score\n",
      "Class 0: 0.6209, Class 1: 0.7554, Class 2: 0.0000, Class 3: 0.0000, \n",
      "Class 4: 0.4604, Class 5: 0.2962, Class 6: 0.8698, \n",
      "Training Loss: 0.7450, Validation Loss: 0.7691\n",
      "Epoch 248/4000\n"
     ]
    },
    {
     "name": "stderr",
     "output_type": "stream",
     "text": [
      "Training: 100%|██████████| 12/12 [00:29<00:00,  2.46s/it, loss=0.683]\n",
      "Validation: 100%|██████████| 2/2 [00:02<00:00,  1.38s/it, loss=0.647]\n"
     ]
    },
    {
     "name": "stdout",
     "output_type": "stream",
     "text": [
      "Validation Dice Score\n",
      "Class 0: 0.6066, Class 1: 0.7316, Class 2: 0.1998, Class 3: 0.0005, \n",
      "Class 4: 0.4208, Class 5: 0.3184, Class 6: 0.7615, \n",
      "Training Loss: 0.7173, Validation Loss: 0.6810\n",
      "Epoch 249/4000\n"
     ]
    },
    {
     "name": "stderr",
     "output_type": "stream",
     "text": [
      "Training: 100%|██████████| 12/12 [00:28<00:00,  2.39s/it, loss=0.801]\n",
      "Validation: 100%|██████████| 2/2 [00:02<00:00,  1.27s/it, loss=0.698]\n"
     ]
    },
    {
     "name": "stdout",
     "output_type": "stream",
     "text": [
      "Validation Dice Score\n",
      "Class 0: 0.6258, Class 1: 0.8160, Class 2: 0.1010, Class 3: 0.0007, \n",
      "Class 4: 0.4988, Class 5: 0.3427, Class 6: 0.7732, \n",
      "Training Loss: 0.7324, Validation Loss: 0.6779\n",
      "Epoch 250/4000\n"
     ]
    },
    {
     "name": "stderr",
     "output_type": "stream",
     "text": [
      "Training: 100%|██████████| 12/12 [00:28<00:00,  2.41s/it, loss=0.722]\n",
      "Validation: 100%|██████████| 2/2 [00:03<00:00,  1.70s/it, loss=0.716]\n"
     ]
    },
    {
     "name": "stdout",
     "output_type": "stream",
     "text": [
      "Validation Dice Score\n",
      "Class 0: 0.6396, Class 1: 0.8498, Class 2: 0.0401, Class 3: 0.0000, \n",
      "Class 4: 0.4142, Class 5: 0.3378, Class 6: 0.8798, \n",
      "Training Loss: 0.7140, Validation Loss: 0.6895\n",
      "Epoch 251/4000\n"
     ]
    },
    {
     "name": "stderr",
     "output_type": "stream",
     "text": [
      "Training: 100%|██████████| 12/12 [00:30<00:00,  2.55s/it, loss=0.813]\n",
      "Validation: 100%|██████████| 2/2 [00:02<00:00,  1.39s/it, loss=0.7]  \n"
     ]
    },
    {
     "name": "stdout",
     "output_type": "stream",
     "text": [
      "Validation Dice Score\n",
      "Class 0: 0.6349, Class 1: 0.7600, Class 2: 0.0000, Class 3: 0.0022, \n",
      "Class 4: 0.5731, Class 5: 0.4189, Class 6: 0.4310, \n",
      "Training Loss: 0.7450, Validation Loss: 0.6407\n",
      "Epoch 252/4000\n"
     ]
    },
    {
     "name": "stderr",
     "output_type": "stream",
     "text": [
      "Training: 100%|██████████| 12/12 [00:29<00:00,  2.49s/it, loss=0.852]\n",
      "Validation: 100%|██████████| 2/2 [00:02<00:00,  1.35s/it, loss=0.601]\n"
     ]
    },
    {
     "name": "stdout",
     "output_type": "stream",
     "text": [
      "Validation Dice Score\n",
      "Class 0: 0.6418, Class 1: 0.8488, Class 2: 0.0000, Class 3: 0.0011, \n",
      "Class 4: 0.5575, Class 5: 0.5985, Class 6: 0.9206, \n",
      "Training Loss: 0.7226, Validation Loss: 0.5634\n",
      "Epoch 253/4000\n"
     ]
    },
    {
     "name": "stderr",
     "output_type": "stream",
     "text": [
      "Training: 100%|██████████| 12/12 [00:29<00:00,  2.42s/it, loss=0.555]\n",
      "Validation: 100%|██████████| 2/2 [00:02<00:00,  1.33s/it, loss=0.708]\n"
     ]
    },
    {
     "name": "stdout",
     "output_type": "stream",
     "text": [
      "Validation Dice Score\n",
      "Class 0: 0.6299, Class 1: 0.8142, Class 2: 0.0000, Class 3: 0.0009, \n",
      "Class 4: 0.4421, Class 5: 0.2297, Class 6: 0.8524, \n",
      "Training Loss: 0.7442, Validation Loss: 0.7153\n",
      "Epoch 254/4000\n"
     ]
    },
    {
     "name": "stderr",
     "output_type": "stream",
     "text": [
      "Training: 100%|██████████| 12/12 [00:29<00:00,  2.43s/it, loss=0.77] \n",
      "Validation: 100%|██████████| 2/2 [00:02<00:00,  1.35s/it, loss=0.724]\n"
     ]
    },
    {
     "name": "stdout",
     "output_type": "stream",
     "text": [
      "Validation Dice Score\n",
      "Class 0: 0.6307, Class 1: 0.8538, Class 2: 0.0000, Class 3: 0.0012, \n",
      "Class 4: 0.4650, Class 5: 0.5431, Class 6: 0.8099, \n",
      "Training Loss: 0.7212, Validation Loss: 0.6308\n",
      "Epoch 255/4000\n"
     ]
    },
    {
     "name": "stderr",
     "output_type": "stream",
     "text": [
      "Training: 100%|██████████| 12/12 [00:29<00:00,  2.49s/it, loss=0.814]\n",
      "Validation: 100%|██████████| 2/2 [00:02<00:00,  1.38s/it, loss=0.623]\n"
     ]
    },
    {
     "name": "stdout",
     "output_type": "stream",
     "text": [
      "Validation Dice Score\n",
      "Class 0: 0.6339, Class 1: 0.7869, Class 2: 0.0214, Class 3: 0.0005, \n",
      "Class 4: 0.3773, Class 5: 0.4372, Class 6: 0.8783, \n",
      "Training Loss: 0.7155, Validation Loss: 0.6155\n",
      "Epoch 256/4000\n"
     ]
    },
    {
     "name": "stderr",
     "output_type": "stream",
     "text": [
      "Training: 100%|██████████| 12/12 [00:28<00:00,  2.39s/it, loss=0.75] \n",
      "Validation: 100%|██████████| 2/2 [00:02<00:00,  1.36s/it, loss=0.761]\n"
     ]
    },
    {
     "name": "stdout",
     "output_type": "stream",
     "text": [
      "Validation Dice Score\n",
      "Class 0: 0.6235, Class 1: 0.7480, Class 2: 0.0000, Class 3: 0.0013, \n",
      "Class 4: 0.2946, Class 5: 0.0793, Class 6: 0.8592, \n",
      "Training Loss: 0.7168, Validation Loss: 0.7861\n",
      "Epoch 257/4000\n"
     ]
    },
    {
     "name": "stderr",
     "output_type": "stream",
     "text": [
      "Training: 100%|██████████| 12/12 [00:29<00:00,  2.44s/it, loss=0.615]\n",
      "Validation: 100%|██████████| 2/2 [00:02<00:00,  1.38s/it, loss=0.704]\n"
     ]
    },
    {
     "name": "stdout",
     "output_type": "stream",
     "text": [
      "Validation Dice Score\n",
      "Class 0: 0.6340, Class 1: 0.8288, Class 2: 0.2322, Class 3: 0.0018, \n",
      "Class 4: 0.2001, Class 5: 0.4621, Class 6: 0.1154, \n",
      "Training Loss: 0.7474, Validation Loss: 0.7227\n",
      "Epoch 258/4000\n"
     ]
    },
    {
     "name": "stderr",
     "output_type": "stream",
     "text": [
      "Training: 100%|██████████| 12/12 [00:29<00:00,  2.48s/it, loss=0.637]\n",
      "Validation: 100%|██████████| 2/2 [00:02<00:00,  1.40s/it, loss=0.643]\n"
     ]
    },
    {
     "name": "stdout",
     "output_type": "stream",
     "text": [
      "Validation Dice Score\n",
      "Class 0: 0.6307, Class 1: 0.6681, Class 2: 0.0750, Class 3: 0.0012, \n",
      "Class 4: 0.5166, Class 5: 0.3759, Class 6: 0.8337, \n",
      "Training Loss: 0.7218, Validation Loss: 0.6444\n",
      "Epoch 259/4000\n"
     ]
    },
    {
     "name": "stderr",
     "output_type": "stream",
     "text": [
      "Training: 100%|██████████| 12/12 [00:28<00:00,  2.40s/it, loss=0.773]\n",
      "Validation: 100%|██████████| 2/2 [00:02<00:00,  1.34s/it, loss=0.754]\n"
     ]
    },
    {
     "name": "stdout",
     "output_type": "stream",
     "text": [
      "Validation Dice Score\n",
      "Class 0: 0.6329, Class 1: 0.8021, Class 2: 0.0569, Class 3: 0.0010, \n",
      "Class 4: 0.2973, Class 5: 0.3261, Class 6: 0.7116, \n",
      "Training Loss: 0.7492, Validation Loss: 0.6899\n",
      "Epoch 260/4000\n"
     ]
    },
    {
     "name": "stderr",
     "output_type": "stream",
     "text": [
      "Training: 100%|██████████| 12/12 [00:28<00:00,  2.38s/it, loss=0.748]\n",
      "Validation: 100%|██████████| 2/2 [00:02<00:00,  1.46s/it, loss=0.696]\n"
     ]
    },
    {
     "name": "stdout",
     "output_type": "stream",
     "text": [
      "Validation Dice Score\n",
      "Class 0: 0.6267, Class 1: 0.7782, Class 2: 0.1610, Class 3: 0.0002, \n",
      "Class 4: 0.2316, Class 5: 0.3863, Class 6: 0.8389, \n",
      "Training Loss: 0.7555, Validation Loss: 0.6195\n",
      "Epoch 261/4000\n"
     ]
    },
    {
     "name": "stderr",
     "output_type": "stream",
     "text": [
      "Training: 100%|██████████| 12/12 [00:28<00:00,  2.41s/it, loss=0.644]\n",
      "Validation: 100%|██████████| 2/2 [00:01<00:00,  1.30it/s, loss=0.642]\n"
     ]
    },
    {
     "name": "stdout",
     "output_type": "stream",
     "text": [
      "Validation Dice Score\n",
      "Class 0: 0.6362, Class 1: 0.7714, Class 2: 0.1290, Class 3: 0.0018, \n",
      "Class 4: 0.0000, Class 5: 0.4449, Class 6: 0.4242, \n",
      "Training Loss: 0.7370, Validation Loss: 0.7067\n",
      "Epoch 262/4000\n"
     ]
    },
    {
     "name": "stderr",
     "output_type": "stream",
     "text": [
      "Training: 100%|██████████| 12/12 [00:27<00:00,  2.32s/it, loss=0.787]\n",
      "Validation: 100%|██████████| 2/2 [00:01<00:00,  1.26it/s, loss=0.777]\n"
     ]
    },
    {
     "name": "stdout",
     "output_type": "stream",
     "text": [
      "Validation Dice Score\n",
      "Class 0: 0.6320, Class 1: 0.8568, Class 2: 0.0237, Class 3: 0.0009, \n",
      "Class 4: 0.2443, Class 5: 0.4114, Class 6: 0.2955, \n",
      "Training Loss: 0.7495, Validation Loss: 0.7474\n",
      "Epoch 263/4000\n"
     ]
    },
    {
     "name": "stderr",
     "output_type": "stream",
     "text": [
      "Training: 100%|██████████| 12/12 [00:28<00:00,  2.39s/it, loss=0.713]\n",
      "Validation: 100%|██████████| 2/2 [00:01<00:00,  1.41it/s, loss=0.644]\n"
     ]
    },
    {
     "name": "stdout",
     "output_type": "stream",
     "text": [
      "Validation Dice Score\n",
      "Class 0: 0.6263, Class 1: 0.7895, Class 2: 0.0582, Class 3: 0.0026, \n",
      "Class 4: 0.3003, Class 5: 0.5221, Class 6: 0.8790, \n",
      "Training Loss: 0.7099, Validation Loss: 0.6531\n",
      "Epoch 264/4000\n"
     ]
    },
    {
     "name": "stderr",
     "output_type": "stream",
     "text": [
      "Training: 100%|██████████| 12/12 [00:29<00:00,  2.44s/it, loss=0.82] \n",
      "Validation: 100%|██████████| 2/2 [00:01<00:00,  1.41it/s, loss=0.564]\n"
     ]
    },
    {
     "name": "stdout",
     "output_type": "stream",
     "text": [
      "Validation Dice Score\n",
      "Class 0: 0.6325, Class 1: 0.8001, Class 2: 0.0000, Class 3: 0.0030, \n",
      "Class 4: 0.3702, Class 5: 0.3815, Class 6: 0.7810, \n",
      "Training Loss: 0.7343, Validation Loss: 0.6547\n",
      "Epoch 265/4000\n"
     ]
    },
    {
     "name": "stderr",
     "output_type": "stream",
     "text": [
      "Training: 100%|██████████| 12/12 [00:27<00:00,  2.32s/it, loss=0.73] \n",
      "Validation: 100%|██████████| 2/2 [00:01<00:00,  1.39it/s, loss=0.687]\n"
     ]
    },
    {
     "name": "stdout",
     "output_type": "stream",
     "text": [
      "Validation Dice Score\n",
      "Class 0: 0.6501, Class 1: 0.8548, Class 2: 0.1919, Class 3: 0.0002, \n",
      "Class 4: 0.6630, Class 5: 0.3193, Class 6: 0.4375, \n",
      "Training Loss: 0.7443, Validation Loss: 0.7287\n",
      "Epoch 266/4000\n"
     ]
    },
    {
     "name": "stderr",
     "output_type": "stream",
     "text": [
      "Training: 100%|██████████| 12/12 [00:28<00:00,  2.36s/it, loss=0.763]\n",
      "Validation: 100%|██████████| 2/2 [00:01<00:00,  1.36it/s, loss=0.681]\n"
     ]
    },
    {
     "name": "stdout",
     "output_type": "stream",
     "text": [
      "Validation Dice Score\n",
      "Class 0: 0.6622, Class 1: 0.7910, Class 2: 0.0000, Class 3: 0.0018, \n",
      "Class 4: 0.4154, Class 5: 0.4045, Class 6: 0.8750, \n",
      "Training Loss: 0.7145, Validation Loss: 0.6658\n",
      "Epoch 267/4000\n"
     ]
    },
    {
     "name": "stderr",
     "output_type": "stream",
     "text": [
      "Training: 100%|██████████| 12/12 [00:29<00:00,  2.45s/it, loss=0.733]\n",
      "Validation: 100%|██████████| 2/2 [00:01<00:00,  1.32it/s, loss=0.766]\n"
     ]
    },
    {
     "name": "stdout",
     "output_type": "stream",
     "text": [
      "Validation Dice Score\n",
      "Class 0: 0.6476, Class 1: 0.7532, Class 2: 0.2725, Class 3: 0.0030, \n",
      "Class 4: 0.3586, Class 5: 0.4481, Class 6: 0.7084, \n",
      "Training Loss: 0.7289, Validation Loss: 0.6863\n",
      "Epoch 268/4000\n"
     ]
    },
    {
     "name": "stderr",
     "output_type": "stream",
     "text": [
      "Training: 100%|██████████| 12/12 [00:28<00:00,  2.36s/it, loss=0.826]\n",
      "Validation: 100%|██████████| 2/2 [00:01<00:00,  1.38it/s, loss=0.708]"
     ]
    },
    {
     "name": "stdout",
     "output_type": "stream",
     "text": [
      "Validation Dice Score\n",
      "Class 0: 0.6521, Class 1: 0.7953, Class 2: 0.0964, Class 3: 0.0000, \n",
      "Class 4: 0.6532, Class 5: 0.2166, Class 6: 0.0000, \n",
      "Training Loss: 0.7611, Validation Loss: 0.7182\n",
      "Early stopping\n"
     ]
    },
    {
     "name": "stderr",
     "output_type": "stream",
     "text": [
      "\n"
     ]
    }
   ],
   "source": [
    "from monai.metrics import DiceMetric\n",
    "\n",
    "def create_metric_dict(num_classes):\n",
    "    \"\"\"각 클래스별 DiceMetric 생성\"\"\"\n",
    "    metrics = {}\n",
    "    for i in range(num_classes):\n",
    "        metrics[f'dice_class_{i}'] = DiceMetric(\n",
    "            include_background=False if i == 0 else False,\n",
    "            reduction=\"mean\",\n",
    "            get_not_nans=False\n",
    "        )\n",
    "    return metrics\n",
    "    \n",
    "def processing(batch_data, model, criterion, device):\n",
    "    images = batch_data['image'].to(device)  # Input 이미지 (B, 1, 96, 96, 96)\n",
    "    labels = batch_data['label'].to(device)  # 라벨 (B, 96, 96, 96)\n",
    "\n",
    "    labels = labels.squeeze(1)  # (B, 1, 96, 96, 96) → (B, 96, 96, 96)\n",
    "    labels = labels.long()  # 라벨을 정수형으로 변환\n",
    "\n",
    "    # 원핫 인코딩 (B, H, W, D) → (B, num_classes, H, W, D)\n",
    "    \n",
    "    labels_onehot = torch.nn.functional.one_hot(labels, num_classes=n_classes)\n",
    "    labels_onehot = labels_onehot.permute(0, 4, 1, 2, 3).float()  # (B, num_classes, H, W, D)\n",
    "\n",
    "    # 모델 예측\n",
    "    outputs = model(images)  # outputs: (B, num_classes, H, W, D)\n",
    "\n",
    "    # Loss 계산\n",
    "    loss = criterion(outputs, labels_onehot)\n",
    "\n",
    "    return loss, outputs, labels, outputs.argmax(dim=1)\n",
    "\n",
    "def train_one_epoch(model, train_loader, criterion, optimizer, device):\n",
    "    model.train()\n",
    "    epoch_loss = 0\n",
    "    with tqdm(train_loader, desc='Training') as pbar:\n",
    "        for batch_data in pbar:\n",
    "            optimizer.zero_grad()\n",
    "            loss, _, _, _ = processing(batch_data, model, criterion, device)\n",
    "            loss.backward()\n",
    "            optimizer.step()\n",
    "\n",
    "            epoch_loss += loss.item()\n",
    "            pbar.set_postfix(loss=loss.item())\n",
    "\n",
    "    return epoch_loss / len(train_loader)\n",
    "\n",
    "def validate_one_epoch(model, val_loader, criterion, device, epoch, calculate_dice_interval):\n",
    "    model.eval()\n",
    "    val_loss = 0\n",
    "    metrics = create_metric_dict(n_classes)\n",
    "    class_dice_scores = {i: [] for i in range(n_classes)}\n",
    "    with torch.no_grad():\n",
    "        with tqdm(val_loader, desc='Validation') as pbar:\n",
    "            for batch_data in pbar:\n",
    "                loss, _, labels, preds = processing(batch_data, model, criterion, device)\n",
    "                val_loss += loss.item()\n",
    "                pbar.set_postfix(loss=loss.item())\n",
    "\n",
    "                # 각 클래스별 Dice 점수 계산\n",
    "                if epoch % calculate_dice_interval == 0:\n",
    "                    for i in range(n_classes):\n",
    "                        pred_i = (preds == i)\n",
    "                        label_i = (labels == i)\n",
    "                        dice_score = (2.0 * torch.sum(pred_i & label_i)) / (torch.sum(pred_i) + torch.sum(label_i) + 1e-8)\n",
    "                        class_dice_scores[i].append(dice_score.item())\n",
    "\n",
    "    # 각 클래스별 평균 Dice 점수 출력\n",
    "    if epoch % calculate_dice_interval == 0:\n",
    "        print(\"Validation Dice Score\")\n",
    "        for i in range(n_classes):\n",
    "            mean_dice = np.mean(class_dice_scores[i])\n",
    "            print(f\"Class {i}: {mean_dice:.4f}\", end=\", \")\n",
    "            if i == 3:\n",
    "                print()\n",
    "        print()\n",
    "\n",
    "    return val_loss / len(val_loader)\n",
    "\n",
    "def train_model(\n",
    "    model, train_loader, val_loader, criterion, optimizer, num_epochs, patience, \n",
    "    device, start_epoch, best_val_loss, calculate_dice_interval=1\n",
    "):\n",
    "    \"\"\"\n",
    "    모델을 학습하고 검증하는 함수\n",
    "    Args:\n",
    "        model: 학습할 모델\n",
    "        train_loader: 학습 데이터 로더\n",
    "        val_loader: 검증 데이터 로더\n",
    "        criterion: 손실 함수\n",
    "        optimizer: 최적화 알고리즘\n",
    "        num_epochs: 총 학습 epoch 수\n",
    "        patience: early stopping 기준\n",
    "        device: GPU/CPU 장치\n",
    "        start_epoch: 시작 epoch\n",
    "        best_val_loss: 이전 최적 validation loss\n",
    "        calculate_dice_interval: Dice 점수 계산 주기\n",
    "    \"\"\"\n",
    "\n",
    "    epochs_no_improve = 0\n",
    "\n",
    "    for epoch in range(start_epoch, num_epochs):\n",
    "        print(f\"Epoch {epoch + 1}/{num_epochs}\")\n",
    "\n",
    "        # Train One Epoch\n",
    "        train_loss = train_one_epoch(\n",
    "            model=model, \n",
    "            train_loader=train_loader, \n",
    "            criterion=criterion, \n",
    "            optimizer=optimizer, \n",
    "            device=device\n",
    "        )\n",
    "\n",
    "        # Validate One Epoch\n",
    "        val_loss = validate_one_epoch(\n",
    "            model=model, \n",
    "            val_loader=val_loader, \n",
    "            criterion=criterion, \n",
    "            device=device, \n",
    "            epoch=epoch, \n",
    "            calculate_dice_interval=calculate_dice_interval\n",
    "        )\n",
    "\n",
    "        print(f\"Training Loss: {train_loss:.4f}, Validation Loss: {val_loss:.4f}\")\n",
    "\n",
    "        # Early stopping 및 모델 저장 로직\n",
    "        if val_loss < best_val_loss:\n",
    "            best_val_loss = val_loss\n",
    "            epochs_no_improve = 0\n",
    "            checkpoint_path = os.path.join(checkpoint_dir, 'best_model.pt')\n",
    "            torch.save({\n",
    "                'epoch': epoch + 1,\n",
    "                'model_state_dict': model.state_dict(),\n",
    "                'optimizer_state_dict': optimizer.state_dict(),\n",
    "                'best_val_loss': best_val_loss,\n",
    "            }, checkpoint_path)\n",
    "            print(f\"Best model saved with validation loss: {best_val_loss:.4f}\")\n",
    "        else:\n",
    "            epochs_no_improve += 1\n",
    "\n",
    "        if epochs_no_improve >= patience:\n",
    "            print(\"Early stopping\")\n",
    "            break\n",
    "\n",
    "train_model(\n",
    "    model=model,\n",
    "    train_loader=train_loader,\n",
    "    val_loader=val_loader,\n",
    "    criterion=criterion,\n",
    "    optimizer=optimizer,\n",
    "    num_epochs=num_epochs,\n",
    "    patience=50,\n",
    "    device=device,\n",
    "    start_epoch=start_epoch,\n",
    "    best_val_loss=best_val_loss,\n",
    "    calculate_dice_interval=1\n",
    ")"
   ]
  },
  {
   "cell_type": "code",
   "execution_count": 7,
   "metadata": {},
   "outputs": [
    {
     "name": "stdout",
     "output_type": "stream",
     "text": [
      "Config file written to ./kaggle/working/copick.config\n"
     ]
    },
    {
     "ename": "ValidationError",
     "evalue": "1 validation error for CopickConfigFSSpec\noverlay_root\n  Field required [type=missing, input_value={'name': 'czii_cryoet_mlc...fig_type': 'filesystem'}, input_type=dict]\n    For further information visit https://errors.pydantic.dev/2.9/v/missing",
     "output_type": "error",
     "traceback": [
      "\u001b[1;31m---------------------------------------------------------------------------\u001b[0m",
      "\u001b[1;31mValidationError\u001b[0m                           Traceback (most recent call last)",
      "Cell \u001b[1;32mIn[7], line 91\u001b[0m\n\u001b[0;32m     85\u001b[0m non_random_transforms \u001b[38;5;241m=\u001b[39m Compose([\n\u001b[0;32m     86\u001b[0m     EnsureChannelFirstd(keys\u001b[38;5;241m=\u001b[39m[\u001b[38;5;124m\"\u001b[39m\u001b[38;5;124mimage\u001b[39m\u001b[38;5;124m\"\u001b[39m], channel_dim\u001b[38;5;241m=\u001b[39m\u001b[38;5;124m\"\u001b[39m\u001b[38;5;124mno_channel\u001b[39m\u001b[38;5;124m\"\u001b[39m),\n\u001b[0;32m     87\u001b[0m     NormalizeIntensityd(keys\u001b[38;5;241m=\u001b[39m\u001b[38;5;124m\"\u001b[39m\u001b[38;5;124mimage\u001b[39m\u001b[38;5;124m\"\u001b[39m),\n\u001b[0;32m     88\u001b[0m     Orientationd(keys\u001b[38;5;241m=\u001b[39m[\u001b[38;5;124m\"\u001b[39m\u001b[38;5;124mimage\u001b[39m\u001b[38;5;124m\"\u001b[39m], axcodes\u001b[38;5;241m=\u001b[39m\u001b[38;5;124m\"\u001b[39m\u001b[38;5;124mRAS\u001b[39m\u001b[38;5;124m\"\u001b[39m)\n\u001b[0;32m     89\u001b[0m ])\n\u001b[0;32m     90\u001b[0m model\u001b[38;5;241m.\u001b[39meval()\n\u001b[1;32m---> 91\u001b[0m preprocessor \u001b[38;5;241m=\u001b[39m \u001b[43mPreprocessor\u001b[49m\u001b[43m(\u001b[49m\u001b[43mconfig_blob\u001b[49m\u001b[43m)\u001b[49m\n\u001b[0;32m     92\u001b[0m \u001b[38;5;28;01mfor\u001b[39;00m vol_idx, run \u001b[38;5;129;01min\u001b[39;00m \u001b[38;5;28menumerate\u001b[39m(preprocessor\u001b[38;5;241m.\u001b[39mroot\u001b[38;5;241m.\u001b[39mruns):\n\u001b[0;32m     93\u001b[0m     \u001b[38;5;28mprint\u001b[39m(\u001b[38;5;124mf\u001b[39m\u001b[38;5;124m\"\u001b[39m\u001b[38;5;124mProcessing volume \u001b[39m\u001b[38;5;132;01m{\u001b[39;00mvol_idx\u001b[38;5;250m \u001b[39m\u001b[38;5;241m+\u001b[39m\u001b[38;5;250m \u001b[39m\u001b[38;5;241m1\u001b[39m\u001b[38;5;132;01m}\u001b[39;00m\u001b[38;5;124m/\u001b[39m\u001b[38;5;132;01m{\u001b[39;00m\u001b[38;5;28mlen\u001b[39m(preprocessor\u001b[38;5;241m.\u001b[39mroot\u001b[38;5;241m.\u001b[39mruns)\u001b[38;5;132;01m}\u001b[39;00m\u001b[38;5;124m\"\u001b[39m)\n",
      "File \u001b[1;32me:\\Workspace\\czll\\src\\dataset\\preprocessing.py:14\u001b[0m, in \u001b[0;36mPreprocessor.__init__\u001b[1;34m(self, config_blob, copick_config_path)\u001b[0m\n\u001b[0;32m     12\u001b[0m \u001b[38;5;28mself\u001b[39m\u001b[38;5;241m.\u001b[39mcopick_config_path \u001b[38;5;241m=\u001b[39m copick_config_path\n\u001b[0;32m     13\u001b[0m \u001b[38;5;66;03m# 클래스 내부 메서드 호출 시 self 사용\u001b[39;00m\n\u001b[1;32m---> 14\u001b[0m \u001b[38;5;28mself\u001b[39m\u001b[38;5;241m.\u001b[39mcopick_config_path \u001b[38;5;241m=\u001b[39m \u001b[38;5;28;43mself\u001b[39;49m\u001b[38;5;241;43m.\u001b[39;49m\u001b[43m_make_config\u001b[49m\u001b[43m(\u001b[49m\u001b[43mconfig_blob\u001b[49m\u001b[43m)\u001b[49m\n\u001b[0;32m     15\u001b[0m \u001b[38;5;28mself\u001b[39m\u001b[38;5;241m.\u001b[39mroot \u001b[38;5;241m=\u001b[39m copick\u001b[38;5;241m.\u001b[39mfrom_file(\u001b[38;5;28mself\u001b[39m\u001b[38;5;241m.\u001b[39mcopick_config_path)\n",
      "File \u001b[1;32me:\\Workspace\\czll\\src\\dataset\\preprocessing.py:21\u001b[0m, in \u001b[0;36mPreprocessor._make_config\u001b[1;34m(self, static_root)\u001b[0m\n\u001b[0;32m     19\u001b[0m     f\u001b[38;5;241m.\u001b[39mwrite(\u001b[38;5;28mself\u001b[39m\u001b[38;5;241m.\u001b[39mconfig_blob)\n\u001b[0;32m     20\u001b[0m \u001b[38;5;28mprint\u001b[39m(\u001b[38;5;124mf\u001b[39m\u001b[38;5;124m\"\u001b[39m\u001b[38;5;124mConfig file written to \u001b[39m\u001b[38;5;132;01m{\u001b[39;00m\u001b[38;5;28mself\u001b[39m\u001b[38;5;241m.\u001b[39mcopick_config_path\u001b[38;5;132;01m}\u001b[39;00m\u001b[38;5;124m\"\u001b[39m)\n\u001b[1;32m---> 21\u001b[0m root \u001b[38;5;241m=\u001b[39m \u001b[43mcopick\u001b[49m\u001b[38;5;241;43m.\u001b[39;49m\u001b[43mfrom_file\u001b[49m\u001b[43m(\u001b[49m\u001b[38;5;28;43mself\u001b[39;49m\u001b[38;5;241;43m.\u001b[39;49m\u001b[43mcopick_config_path\u001b[49m\u001b[43m)\u001b[49m\n\u001b[0;32m     22\u001b[0m \u001b[38;5;28mprint\u001b[39m(\u001b[38;5;124m\"\u001b[39m\u001b[38;5;124mfile length:\u001b[39m\u001b[38;5;124m\"\u001b[39m,\u001b[38;5;28mlen\u001b[39m(root\u001b[38;5;241m.\u001b[39mruns))\n\u001b[0;32m     23\u001b[0m \u001b[38;5;28;01mreturn\u001b[39;00m \u001b[38;5;28mself\u001b[39m\u001b[38;5;241m.\u001b[39mcopick_config_path\n",
      "File \u001b[1;32mc:\\ProgramData\\anaconda3\\envs\\ship\\Lib\\site-packages\\copick\\ops\\open.py:32\u001b[0m, in \u001b[0;36mfrom_file\u001b[1;34m(path)\u001b[0m\n\u001b[0;32m     29\u001b[0m \u001b[38;5;28;01mwith\u001b[39;00m \u001b[38;5;28mopen\u001b[39m(path, \u001b[38;5;124m\"\u001b[39m\u001b[38;5;124mr\u001b[39m\u001b[38;5;124m\"\u001b[39m) \u001b[38;5;28;01mas\u001b[39;00m f:\n\u001b[0;32m     30\u001b[0m     data \u001b[38;5;241m=\u001b[39m f\u001b[38;5;241m.\u001b[39mread()\n\u001b[1;32m---> 32\u001b[0m \u001b[38;5;28;01mreturn\u001b[39;00m \u001b[43mfrom_string\u001b[49m\u001b[43m(\u001b[49m\u001b[43mdata\u001b[49m\u001b[43m)\u001b[49m\n",
      "File \u001b[1;32mc:\\ProgramData\\anaconda3\\envs\\ship\\Lib\\site-packages\\copick\\ops\\open.py:23\u001b[0m, in \u001b[0;36mfrom_string\u001b[1;34m(data)\u001b[0m\n\u001b[0;32m     16\u001b[0m     warnings\u001b[38;5;241m.\u001b[39mwarn(\n\u001b[0;32m     17\u001b[0m         \u001b[38;5;124m\"\u001b[39m\u001b[38;5;124mconfig_type not found in config file, defaulting to filesystem\u001b[39m\u001b[38;5;124m\"\u001b[39m,\n\u001b[0;32m     18\u001b[0m         \u001b[38;5;167;01mDeprecationWarning\u001b[39;00m,\n\u001b[0;32m     19\u001b[0m         stacklevel\u001b[38;5;241m=\u001b[39m\u001b[38;5;241m2\u001b[39m,\n\u001b[0;32m     20\u001b[0m     )\n\u001b[0;32m     22\u001b[0m \u001b[38;5;28;01mif\u001b[39;00m data[\u001b[38;5;124m\"\u001b[39m\u001b[38;5;124mconfig_type\u001b[39m\u001b[38;5;124m\"\u001b[39m] \u001b[38;5;241m==\u001b[39m \u001b[38;5;124m\"\u001b[39m\u001b[38;5;124mfilesystem\u001b[39m\u001b[38;5;124m\"\u001b[39m:\n\u001b[1;32m---> 23\u001b[0m     \u001b[38;5;28;01mreturn\u001b[39;00m CopickRootFSSpec(\u001b[43mCopickConfigFSSpec\u001b[49m\u001b[43m(\u001b[49m\u001b[38;5;241;43m*\u001b[39;49m\u001b[38;5;241;43m*\u001b[39;49m\u001b[43mdata\u001b[49m\u001b[43m)\u001b[49m)\n\u001b[0;32m     24\u001b[0m \u001b[38;5;28;01melif\u001b[39;00m data[\u001b[38;5;124m\"\u001b[39m\u001b[38;5;124mconfig_type\u001b[39m\u001b[38;5;124m\"\u001b[39m] \u001b[38;5;241m==\u001b[39m \u001b[38;5;124m\"\u001b[39m\u001b[38;5;124mcryoet_data_portal\u001b[39m\u001b[38;5;124m\"\u001b[39m:\n\u001b[0;32m     25\u001b[0m     \u001b[38;5;28;01mreturn\u001b[39;00m CopickRootCDP(CopickConfigCDP(\u001b[38;5;241m*\u001b[39m\u001b[38;5;241m*\u001b[39mdata))\n",
      "File \u001b[1;32mc:\\ProgramData\\anaconda3\\envs\\ship\\Lib\\site-packages\\pydantic\\main.py:212\u001b[0m, in \u001b[0;36mBaseModel.__init__\u001b[1;34m(self, **data)\u001b[0m\n\u001b[0;32m    210\u001b[0m \u001b[38;5;66;03m# `__tracebackhide__` tells pytest and some other tools to omit this function from tracebacks\u001b[39;00m\n\u001b[0;32m    211\u001b[0m __tracebackhide__ \u001b[38;5;241m=\u001b[39m \u001b[38;5;28;01mTrue\u001b[39;00m\n\u001b[1;32m--> 212\u001b[0m validated_self \u001b[38;5;241m=\u001b[39m \u001b[38;5;28;43mself\u001b[39;49m\u001b[38;5;241;43m.\u001b[39;49m\u001b[43m__pydantic_validator__\u001b[49m\u001b[38;5;241;43m.\u001b[39;49m\u001b[43mvalidate_python\u001b[49m\u001b[43m(\u001b[49m\u001b[43mdata\u001b[49m\u001b[43m,\u001b[49m\u001b[43m \u001b[49m\u001b[43mself_instance\u001b[49m\u001b[38;5;241;43m=\u001b[39;49m\u001b[38;5;28;43mself\u001b[39;49m\u001b[43m)\u001b[49m\n\u001b[0;32m    213\u001b[0m \u001b[38;5;28;01mif\u001b[39;00m \u001b[38;5;28mself\u001b[39m \u001b[38;5;129;01mis\u001b[39;00m \u001b[38;5;129;01mnot\u001b[39;00m validated_self:\n\u001b[0;32m    214\u001b[0m     warnings\u001b[38;5;241m.\u001b[39mwarn(\n\u001b[0;32m    215\u001b[0m         \u001b[38;5;124m'\u001b[39m\u001b[38;5;124mA custom validator is returning a value other than `self`.\u001b[39m\u001b[38;5;130;01m\\n\u001b[39;00m\u001b[38;5;124m'\u001b[39m\n\u001b[0;32m    216\u001b[0m         \u001b[38;5;124m\"\u001b[39m\u001b[38;5;124mReturning anything other than `self` from a top level model validator isn\u001b[39m\u001b[38;5;124m'\u001b[39m\u001b[38;5;124mt supported when validating via `__init__`.\u001b[39m\u001b[38;5;130;01m\\n\u001b[39;00m\u001b[38;5;124m\"\u001b[39m\n\u001b[0;32m    217\u001b[0m         \u001b[38;5;124m'\u001b[39m\u001b[38;5;124mSee the `model_validator` docs (https://docs.pydantic.dev/latest/concepts/validators/#model-validators) for more details.\u001b[39m\u001b[38;5;124m'\u001b[39m,\n\u001b[0;32m    218\u001b[0m         category\u001b[38;5;241m=\u001b[39m\u001b[38;5;28;01mNone\u001b[39;00m,\n\u001b[0;32m    219\u001b[0m     )\n",
      "\u001b[1;31mValidationError\u001b[0m: 1 validation error for CopickConfigFSSpec\noverlay_root\n  Field required [type=missing, input_value={'name': 'czii_cryoet_mlc...fig_type': 'filesystem'}, input_type=dict]\n    For further information visit https://errors.pydantic.dev/2.9/v/missing"
     ]
    }
   ],
   "source": [
    "from monai.inferers import sliding_window_inference\n",
    "from src.dataset.preprocessing import Preprocessor\n",
    "from monai.data import Dataset, DataLoader, CacheDataset\n",
    "\n",
    "config_blob = \"\"\"{\n",
    "    \"name\": \"czii_cryoet_mlchallenge_2024\",\n",
    "    \"description\": \"2024 CZII CryoET ML Challenge training data.\",\n",
    "    \"version\": \"1.0.0\",\n",
    "\n",
    "    \"pickable_objects\": [\n",
    "        {\n",
    "            \"name\": \"apo-ferritin\",\n",
    "            \"is_particle\": true,\n",
    "            \"pdb_id\": \"4V1W\",\n",
    "            \"label\": 1,\n",
    "            \"color\": [  0, 117, 220, 128],\n",
    "            \"radius\": 60,\n",
    "            \"map_threshold\": 0.0418\n",
    "        },\n",
    "        {\n",
    "          \"name\" : \"beta-amylase\",\n",
    "            \"is_particle\": true,\n",
    "            \"pdb_id\": \"8ZRZ\",\n",
    "            \"label\": 2,\n",
    "            \"color\": [255, 255, 255, 128],\n",
    "            \"radius\": 90,\n",
    "            \"map_threshold\": 0.0578  \n",
    "        },\n",
    "        {\n",
    "            \"name\": \"beta-galactosidase\",\n",
    "            \"is_particle\": true,\n",
    "            \"pdb_id\": \"6X1Q\",\n",
    "            \"label\": 3,\n",
    "            \"color\": [ 76,   0,  92, 128],\n",
    "            \"radius\": 90,\n",
    "            \"map_threshold\": 0.0578\n",
    "        },\n",
    "        {\n",
    "            \"name\": \"ribosome\",\n",
    "            \"is_particle\": true,\n",
    "            \"pdb_id\": \"6EK0\",\n",
    "            \"label\": 4,\n",
    "            \"color\": [  0,  92,  49, 128],\n",
    "            \"radius\": 150,\n",
    "            \"map_threshold\": 0.0374\n",
    "        },\n",
    "        {\n",
    "            \"name\": \"thyroglobulin\",\n",
    "            \"is_particle\": true,\n",
    "            \"pdb_id\": \"6SCJ\",\n",
    "            \"label\": 5,\n",
    "            \"color\": [ 43, 206,  72, 128],\n",
    "            \"radius\": 130,\n",
    "            \"map_threshold\": 0.0278\n",
    "        },\n",
    "        {\n",
    "            \"name\": \"virus-like-particle\",\n",
    "            \"is_particle\": true,\n",
    "            \"label\": 6,\n",
    "            \"color\": [255, 204, 153, 128],\n",
    "            \"radius\": 135,\n",
    "            \"map_threshold\": 0.201\n",
    "        },\n",
    "        {\n",
    "            \"name\": \"membrane\",\n",
    "            \"is_particle\": false,\n",
    "            \"label\": 8,\n",
    "            \"color\": [100, 100, 100, 128]\n",
    "        },\n",
    "        {\n",
    "            \"name\": \"background\",\n",
    "            \"is_particle\": false,\n",
    "            \"label\": 9,\n",
    "            \"color\": [10, 150, 200, 128]\n",
    "        }\n",
    "    ],\n",
    "\n",
    "    \"overlay_fs_args\": {\n",
    "        \"auto_mkdir\": true\n",
    "    },\n",
    "\n",
    "    \"static_root\": \"./kaggle/input/czii-cryo-et-object-identification/test/static\"\n",
    "    }\"\"\"\n",
    "\n",
    "non_random_transforms = Compose([\n",
    "    EnsureChannelFirstd(keys=[\"image\"], channel_dim=\"no_channel\"),\n",
    "    NormalizeIntensityd(keys=\"image\"),\n",
    "    Orientationd(keys=[\"image\"], axcodes=\"RAS\")\n",
    "])\n",
    "model.eval()\n",
    "preprocessor = Preprocessor(config_blob)\n",
    "for vol_idx, run in enumerate(preprocessor.root.runs):\n",
    "    print(f\"Processing volume {vol_idx + 1}/{len(preprocessor.root.runs)}\")\n",
    "    tomogram = preprocessor.processing(run=run,task=\"task\")\n",
    "    task_files = []\n",
    "    task_files.append({\"image\": tomogram})    \n",
    "    task_ds = Dataset(data=task_files, transform=non_random_transforms)\n",
    "    task_loader = DataLoader(task_ds, batch_size=1, num_workers=0)\n",
    "    for task_data in task_loader:\n",
    "        images = task_data['image'].to(device)\n",
    "        outputs = sliding_window_inference(\n",
    "            inputs=images,                 # [N, C, D, H, W]\n",
    "            roi_size=(img_size, img_size, img_size),         # 슬라이딩 윈도우 크기\n",
    "            sw_batch_size=1,\n",
    "            predictor=model.forward,\n",
    "            #overlap=(0.7, 0.25, 0.25)      # Depth 50%, Height 25%, Width 25% 겹침\n",
    "        )\n"
   ]
  }
 ],
 "metadata": {
  "kernelspec": {
   "display_name": "ship",
   "language": "python",
   "name": "python3"
  },
  "language_info": {
   "codemirror_mode": {
    "name": "ipython",
    "version": 3
   },
   "file_extension": ".py",
   "mimetype": "text/x-python",
   "name": "python",
   "nbconvert_exporter": "python",
   "pygments_lexer": "ipython3",
   "version": "3.12.7"
  }
 },
 "nbformat": 4,
 "nbformat_minor": 2
}
