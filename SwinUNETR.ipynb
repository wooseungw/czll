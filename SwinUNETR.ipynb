{
 "cells": [
  {
   "cell_type": "code",
   "execution_count": 1,
   "metadata": {},
   "outputs": [
    {
     "name": "stdout",
     "output_type": "stream",
     "text": [
      "MONAI version: 1.4.0\n",
      "Numpy version: 1.26.3\n",
      "Pytorch version: 2.4.1+cu121\n",
      "MONAI flags: HAS_EXT = False, USE_COMPILED = False, USE_META_DICT = False\n",
      "MONAI rev id: 46a5272196a6c2590ca2589029eed8e4d56ff008\n",
      "MONAI __file__: c:\\ProgramData\\anaconda3\\envs\\ship\\Lib\\site-packages\\monai\\__init__.py\n",
      "\n",
      "Optional dependencies:\n",
      "Pytorch Ignite version: NOT INSTALLED or UNKNOWN VERSION.\n",
      "ITK version: NOT INSTALLED or UNKNOWN VERSION.\n",
      "Nibabel version: 5.3.2\n",
      "scikit-image version: 0.24.0\n",
      "scipy version: 1.14.1\n",
      "Pillow version: 10.2.0\n",
      "Tensorboard version: NOT INSTALLED or UNKNOWN VERSION.\n",
      "gdown version: 5.2.0\n",
      "TorchVision version: 0.19.1+cu121\n",
      "tqdm version: 4.66.5\n",
      "lmdb version: NOT INSTALLED or UNKNOWN VERSION.\n",
      "psutil version: 6.0.0\n",
      "pandas version: 2.2.3\n",
      "einops version: 0.8.0\n",
      "transformers version: NOT INSTALLED or UNKNOWN VERSION.\n",
      "mlflow version: NOT INSTALLED or UNKNOWN VERSION.\n",
      "pynrrd version: NOT INSTALLED or UNKNOWN VERSION.\n",
      "clearml version: NOT INSTALLED or UNKNOWN VERSION.\n",
      "\n",
      "For details about installing the optional dependencies, please visit:\n",
      "    https://docs.monai.io/en/latest/installation.html#installing-the-recommended-dependencies\n",
      "\n"
     ]
    }
   ],
   "source": [
    "import os\n",
    "import shutil\n",
    "import tempfile\n",
    "\n",
    "import matplotlib.pyplot as plt\n",
    "from tqdm import tqdm\n",
    "\n",
    "from monai.losses import DiceCELoss\n",
    "from monai.inferers import sliding_window_inference\n",
    "from monai.transforms import (\n",
    "    AsDiscrete,\n",
    "    EnsureChannelFirstd,\n",
    "    Compose,\n",
    "    CropForegroundd,\n",
    "    LoadImaged,\n",
    "    Orientationd,\n",
    "    RandFlipd,\n",
    "    RandCropByPosNegLabeld,\n",
    "    RandShiftIntensityd,\n",
    "    ScaleIntensityRanged,\n",
    "    Spacingd,\n",
    "    RandRotate90d,\n",
    ")\n",
    "\n",
    "from monai.config import print_config\n",
    "from monai.metrics import DiceMetric\n",
    "from monai.networks.nets import UNETR, SwinUNETR\n",
    "\n",
    "from monai.data import (\n",
    "    DataLoader,\n",
    "    CacheDataset,\n",
    "    load_decathlon_datalist,\n",
    "    decollate_batch,\n",
    ")\n",
    "\n",
    "\n",
    "import torch\n",
    "\n",
    "print_config()"
   ]
  },
  {
   "cell_type": "code",
   "execution_count": 2,
   "metadata": {},
   "outputs": [],
   "source": [
    "# class_info = {\n",
    "#     0: {\"name\": \"background\", \"weight\": 10000},  # weight 없음\n",
    "#     1: {\"name\": \"apo-ferritin\", \"weight\": 300},\n",
    "#     2: {\"name\": \"beta-amylase\", \"weight\": 100}, # 4130\n",
    "#     3: {\"name\": \"beta-galactosidase\", \"weight\": 150}, #3080\n",
    "#     4: {\"name\": \"ribosome\", \"weight\": 6000},\n",
    "#     5: {\"name\": \"thyroglobulin\", \"weight\": 4000},\n",
    "#     6: {\"name\": \"virus-like-particle\", \"weight\": 2000},\n",
    "# }\n",
    "\n",
    "# # 가중치에 비례한 비율 계산\n",
    "# raw_ratios = {\n",
    "#     k: (v[\"weight\"] if v[\"weight\"] is not None else 0.01)  # 가중치 비례, None일 경우 기본값\n",
    "#     for k, v in class_info.items()\n",
    "# }\n",
    "# total = sum(raw_ratios.values())\n",
    "# ratios = {k: v / total for k, v in raw_ratios.items()}\n",
    "\n",
    "# # 최종 합계가 1인지 확인\n",
    "# final_total = sum(ratios.values())\n",
    "# print(\"클래스 비율:\", ratios)\n",
    "# print(\"최종 합계:\", final_total)\n",
    "\n",
    "# # 비율을 리스트로 변환\n",
    "# ratios_list = [ratios[k] for k in sorted(ratios.keys())]\n",
    "# print(\"클래스 비율 리스트:\", ratios_list)"
   ]
  },
  {
   "cell_type": "code",
   "execution_count": 3,
   "metadata": {},
   "outputs": [
    {
     "name": "stdout",
     "output_type": "stream",
     "text": [
      "반비례 클래스 비율: {0: 0.008995502248875561, 1: 0.29985007496251875, 2: 0.008995502248875561, 3: 0.5997001499250375, 4: 0.014992503748125935, 5: 0.022488755622188904, 6: 0.04497751124437781}\n",
      "최종 합계: 1.0\n",
      "반비례 클래스 비율 리스트: [0.008995502248875561, 0.29985007496251875, 0.008995502248875561, 0.5997001499250375, 0.014992503748125935, 0.022488755622188904, 0.04497751124437781]\n"
     ]
    }
   ],
   "source": [
    "class_info = {\n",
    "    0: {\"name\": \"background\", \"weight\": 10000},  # weight 없음\n",
    "    1: {\"name\": \"apo-ferritin\", \"weight\": 300},\n",
    "    2: {\"name\": \"beta-amylase\", \"weight\": 10000}, # 100\n",
    "    3: {\"name\": \"beta-galactosidase\", \"weight\": 150}, #3080\n",
    "    4: {\"name\": \"ribosome\", \"weight\": 6000},\n",
    "    5: {\"name\": \"thyroglobulin\", \"weight\": 4000},\n",
    "    6: {\"name\": \"virus-like-particle\", \"weight\": 2000},\n",
    "}\n",
    "\n",
    "# 가중치의 역수 계산 (0인 경우 작은 값을 대체)\n",
    "inverse_ratios = {\n",
    "    k: (1 / v[\"weight\"] if v[\"weight\"] > 0 else 1e-6)\n",
    "    for k, v in class_info.items()\n",
    "}\n",
    "\n",
    "# 정규화하여 비율 계산\n",
    "total_inverse = sum(inverse_ratios.values())\n",
    "ratios_inverse = {k: v / total_inverse for k, v in inverse_ratios.items()}\n",
    "\n",
    "# 최종 합계가 1인지 확인\n",
    "final_total_inverse = sum(ratios_inverse.values())\n",
    "print(\"반비례 클래스 비율:\", ratios_inverse)\n",
    "print(\"최종 합계:\", final_total_inverse)\n",
    "\n",
    "# 비율을 리스트로 변환\n",
    "ratios_list = [ratios_inverse[k] for k in sorted(ratios_inverse.keys())]\n",
    "print(\"반비례 클래스 비율 리스트:\", ratios_list)\n"
   ]
  },
  {
   "cell_type": "code",
   "execution_count": 4,
   "metadata": {},
   "outputs": [],
   "source": [
    "from src.dataset.dataset import create_dataloaders\n",
    "from monai.transforms import (\n",
    "    Compose, LoadImaged, EnsureChannelFirstd, NormalizeIntensityd,\n",
    "    Orientationd, CropForegroundd, GaussianSmoothd, ScaleIntensityd,\n",
    "    RandSpatialCropd, RandRotate90d, RandFlipd, RandGaussianNoised,\n",
    "    ToTensord, RandCropByLabelClassesd\n",
    ")\n",
    "\n",
    "train_img_dir = \"./datasets/train/images\"\n",
    "train_label_dir = \"./datasets/train/labels\"\n",
    "val_img_dir = \"./datasets/val/images\"\n",
    "val_label_dir = \"./datasets/val/labels\"\n",
    "img_depth = 96\n",
    "img_size = 96  # Match your patch size\n",
    "n_classes = 7\n",
    "batch_size = 2 # 13.8GB GPU memory required for 128x128 img size\n",
    "num_samples = batch_size # 한 이미지에서 뽑을 샘플 수\n",
    "loader_batch = 1\n",
    "\n",
    "non_random_transforms = Compose([\n",
    "    EnsureChannelFirstd(keys=[\"image\", \"label\"], channel_dim=\"no_channel\"),\n",
    "    NormalizeIntensityd(keys=\"image\"),\n",
    "    Orientationd(keys=[\"image\", \"label\"], axcodes=\"RAS\"),\n",
    "    GaussianSmoothd(\n",
    "        keys=[\"image\"],      # 변환을 적용할 키\n",
    "        sigma=[1.0, 1.0, 1.0]  # 각 축(x, y, z)의 시그마 값\n",
    "        ),\n",
    "])\n",
    "random_transforms = Compose([\n",
    "    \n",
    "    RandCropByLabelClassesd(\n",
    "        keys=[\"image\", \"label\"],\n",
    "        label_key=\"label\",\n",
    "        spatial_size=[img_depth, img_size, img_size],\n",
    "        num_classes=n_classes,\n",
    "        num_samples=num_samples, \n",
    "        ratios=ratios_list,\n",
    "    ),\n",
    "    RandRotate90d(keys=[\"image\", \"label\"], prob=0.5, spatial_axes=[1, 2]),\n",
    "    RandFlipd(keys=[\"image\", \"label\"], prob=0.5, spatial_axis=0),\n",
    "])\n"
   ]
  },
  {
   "cell_type": "code",
   "execution_count": 5,
   "metadata": {},
   "outputs": [
    {
     "name": "stderr",
     "output_type": "stream",
     "text": [
      "Loading dataset: 100%|██████████| 24/24 [00:37<00:00,  1.56s/it]\n",
      "Loading dataset: 100%|██████████| 4/4 [00:05<00:00,  1.49s/it]\n"
     ]
    }
   ],
   "source": [
    "train_loader, val_loader = None, None\n",
    "train_loader, val_loader = create_dataloaders(\n",
    "    train_img_dir, \n",
    "    train_label_dir, \n",
    "    val_img_dir, \n",
    "    val_label_dir, \n",
    "    non_random_transforms = non_random_transforms, \n",
    "    random_transforms = random_transforms, \n",
    "    batch_size = loader_batch,\n",
    "    num_workers=0)"
   ]
  },
  {
   "cell_type": "markdown",
   "metadata": {},
   "source": [
    "https://monai.io/model-zoo.html"
   ]
  },
  {
   "cell_type": "code",
   "execution_count": 6,
   "metadata": {},
   "outputs": [
    {
     "name": "stderr",
     "output_type": "stream",
     "text": [
      "c:\\ProgramData\\anaconda3\\envs\\ship\\Lib\\site-packages\\monai\\utils\\deprecate_utils.py:221: FutureWarning: monai.networks.nets.swin_unetr SwinUNETR.__init__:img_size: Argument `img_size` has been deprecated since version 1.3. It will be removed in version 1.5. The img_size argument is not required anymore and checks on the input size are run during forward().\n",
      "  warn_deprecated(argname, msg, warning_category)\n"
     ]
    }
   ],
   "source": [
    "import torch.optim as optim\n",
    "from tqdm import tqdm\n",
    "import numpy as np\n",
    "import torch\n",
    "from monai.losses import TverskyLoss\n",
    "from pathlib import Path\n",
    "from monai.metrics import DiceMetric\n",
    "# Model Configuration\n",
    "start_epoch = 0\n",
    "best_val_loss = float('inf')\n",
    "\n",
    "# Training setup\n",
    "num_epochs = 4000\n",
    "lamda = 0.52\n",
    "lr = 0.001\n",
    "\n",
    "device = torch.device(\"cuda\" if torch.cuda.is_available() else \"cpu\")\n",
    "\n",
    "model = SwinUNETR(\n",
    "    img_size=(img_depth, img_size, img_size),\n",
    "    in_channels=1,\n",
    "    out_channels=n_classes,\n",
    "    feature_size=36,\n",
    "    use_checkpoint=False,\n",
    ").to(device)\n",
    "# Pretrained weights 불러오기\n",
    "# pretrain_path = \"./swin_unetr_btcv_segmentation/models/model.pt\"\n",
    "# weight = torch.load(pretrain_path, map_location=device)\n",
    "\n",
    "# # 출력 레이어의 키를 제외한 나머지 가중치만 로드\n",
    "# filtered_weights = {k: v for k, v in weight.items() if \"out.conv.conv\" not in k}\n",
    "\n",
    "# # strict=False로 로드하여 불일치하는 부분 무시\n",
    "# model.load_state_dict(filtered_weights, strict=False)\n",
    "# print(\"Filtered weights loaded successfully. Output layer will be trained from scratch.\")\n",
    "\n",
    "# Load pretrained weights\n",
    "# model.load_from(weights=np.load(config_vit.real_pretrained_path, allow_pickle=True))\n",
    "\n",
    "# TverskyLoss 설정\n",
    "criterion = TverskyLoss(\n",
    "    alpha=1- lamda,  # FP에 대한 가중치\n",
    "    beta= lamda,  # FN에 대한 가중치\n",
    "    include_background=True,\n",
    "    softmax=True\n",
    ")\n",
    "\n",
    "# 체크포인트 디렉토리 및 파일 설정\n",
    "checkpoint_base_dir = Path(\"./model_checkpoints\")\n",
    "checkpoint_dir = checkpoint_base_dir / f\"SwinUNETR_no_pretrain_f36_newratio_bTrue_{img_depth}_{img_size}_lr{lr}_lambda{lamda}_batch{batch_size}\"\n",
    "optimizer = optim.AdamW(model.parameters(), lr=lr, weight_decay=1e-5)\n",
    "\n",
    "# 체크포인트 디렉토리 생성\n",
    "checkpoint_dir.mkdir(parents=True, exist_ok=True)\n",
    "\n",
    "if checkpoint_dir.exists():\n",
    "    best_model_path = checkpoint_dir / 'best_model.pt'\n",
    "    if best_model_path.exists():\n",
    "        print(f\"기존 best model 발견: {best_model_path}\")\n",
    "        try:\n",
    "            checkpoint = torch.load(best_model_path, map_location=device)\n",
    "            # 체크포인트 내부 키 검증\n",
    "            required_keys = ['model_state_dict', 'optimizer_state_dict', 'epoch', 'best_val_loss']\n",
    "            if all(k in checkpoint for k in required_keys):\n",
    "                model.load_state_dict(checkpoint['model_state_dict'])\n",
    "                optimizer.load_state_dict(checkpoint['optimizer_state_dict'])\n",
    "                start_epoch = checkpoint['epoch']\n",
    "                best_val_loss = checkpoint['best_val_loss']\n",
    "                print(\"기존 학습된 가중치를 성공적으로 로드했습니다.\")\n",
    "            else:\n",
    "                raise ValueError(\"체크포인트 파일에 필요한 key가 없습니다.\")\n",
    "        except Exception as e:\n",
    "            print(f\"체크포인트 파일을 로드하는 중 오류 발생: {e}\")\n"
   ]
  },
  {
   "cell_type": "code",
   "execution_count": 7,
   "metadata": {},
   "outputs": [
    {
     "name": "stdout",
     "output_type": "stream",
     "text": [
      "torch.Size([2, 1, 96, 96, 96]) torch.Size([2, 1, 96, 96, 96])\n"
     ]
    }
   ],
   "source": [
    "batch = next(iter(val_loader))\n",
    "images, labels = batch[\"image\"], batch[\"label\"]\n",
    "print(images.shape, labels.shape)"
   ]
  },
  {
   "cell_type": "code",
   "execution_count": 8,
   "metadata": {},
   "outputs": [],
   "source": [
    "torch.backends.cudnn.benchmark = True"
   ]
  },
  {
   "cell_type": "code",
   "execution_count": null,
   "metadata": {},
   "outputs": [
    {
     "name": "stdout",
     "output_type": "stream",
     "text": [
      "Epoch 1/4000\n"
     ]
    },
    {
     "name": "stderr",
     "output_type": "stream",
     "text": [
      "Training: 100%|██████████| 24/24 [00:47<00:00,  1.97s/it, loss=0.87] \n",
      "Validation: 100%|██████████| 4/4 [00:02<00:00,  1.39it/s, loss=0.889]\n"
     ]
    },
    {
     "name": "stdout",
     "output_type": "stream",
     "text": [
      "Validation Dice Score\n",
      "Class 0: 0.9291, Class 1: 0.0069, Class 2: 0.0021, Class 3: 0.0002, \n",
      "Class 4: 0.1660, Class 5: 0.0393, Class 6: 0.0143, \n",
      "Training Loss: 0.9101, Validation Loss: 0.8837\n",
      "========================================================\n",
      "Best model saved with validation loss: 0.8837\n",
      "========================================================\n",
      "Epoch 2/4000\n"
     ]
    },
    {
     "name": "stderr",
     "output_type": "stream",
     "text": [
      "Training: 100%|██████████| 24/24 [00:38<00:00,  1.62s/it, loss=0.838]\n",
      "Validation: 100%|██████████| 4/4 [00:01<00:00,  2.08it/s, loss=0.851]\n"
     ]
    },
    {
     "name": "stdout",
     "output_type": "stream",
     "text": [
      "Validation Dice Score\n",
      "Class 0: 0.9686, Class 1: 0.0047, Class 2: 0.0000, Class 3: 0.0115, \n",
      "Class 4: 0.2959, Class 5: 0.0724, Class 6: 0.0071, \n",
      "Training Loss: 0.8705, Validation Loss: 0.8415\n",
      "========================================================\n",
      "Best model saved with validation loss: 0.8415\n",
      "========================================================\n",
      "Epoch 3/4000\n"
     ]
    },
    {
     "name": "stderr",
     "output_type": "stream",
     "text": [
      "Training: 100%|██████████| 24/24 [00:52<00:00,  2.17s/it, loss=0.859]\n",
      "Validation: 100%|██████████| 4/4 [00:02<00:00,  1.75it/s, loss=0.844]\n"
     ]
    },
    {
     "name": "stdout",
     "output_type": "stream",
     "text": [
      "Validation Dice Score\n",
      "Class 0: 0.9856, Class 1: 0.0000, Class 2: 0.0000, Class 3: 0.0051, \n",
      "Class 4: 0.3635, Class 5: 0.0012, Class 6: 0.0000, \n",
      "Training Loss: 0.8451, Validation Loss: 0.8278\n",
      "========================================================\n",
      "Best model saved with validation loss: 0.8278\n",
      "========================================================\n",
      "Epoch 4/4000\n"
     ]
    },
    {
     "name": "stderr",
     "output_type": "stream",
     "text": [
      "Training: 100%|██████████| 24/24 [00:38<00:00,  1.61s/it, loss=0.855]\n",
      "Validation: 100%|██████████| 4/4 [00:01<00:00,  2.17it/s, loss=0.828]\n"
     ]
    },
    {
     "name": "stdout",
     "output_type": "stream",
     "text": [
      "Validation Dice Score\n",
      "Class 0: 0.9800, Class 1: 0.0000, Class 2: 0.0000, Class 3: 0.2080, \n",
      "Class 4: 0.1997, Class 5: 0.0098, Class 6: 0.0000, \n",
      "Training Loss: 0.8244, Validation Loss: 0.8154\n",
      "========================================================\n",
      "Best model saved with validation loss: 0.8154\n",
      "========================================================\n",
      "Epoch 5/4000\n"
     ]
    },
    {
     "name": "stderr",
     "output_type": "stream",
     "text": [
      "Training: 100%|██████████| 24/24 [00:34<00:00,  1.45s/it, loss=0.852]\n",
      "Validation: 100%|██████████| 4/4 [00:01<00:00,  2.16it/s, loss=0.835]\n"
     ]
    },
    {
     "name": "stdout",
     "output_type": "stream",
     "text": [
      "Validation Dice Score\n",
      "Class 0: 0.9857, Class 1: 0.0000, Class 2: 0.0000, Class 3: 0.2124, \n",
      "Class 4: 0.0965, Class 5: 0.0621, Class 6: 0.0226, \n",
      "Training Loss: 0.8067, Validation Loss: 0.8209\n",
      "Epoch 6/4000\n"
     ]
    },
    {
     "name": "stderr",
     "output_type": "stream",
     "text": [
      "Training: 100%|██████████| 24/24 [00:34<00:00,  1.44s/it, loss=0.799]\n",
      "Validation: 100%|██████████| 4/4 [00:01<00:00,  2.26it/s, loss=0.82] \n"
     ]
    },
    {
     "name": "stdout",
     "output_type": "stream",
     "text": [
      "Validation Dice Score\n",
      "Class 0: 0.9886, Class 1: 0.0000, Class 2: 0.0000, Class 3: 0.2033, \n",
      "Class 4: 0.1665, Class 5: 0.0015, Class 6: 0.0262, \n",
      "Training Loss: 0.8013, Validation Loss: 0.8097\n",
      "========================================================\n",
      "Best model saved with validation loss: 0.8097\n",
      "========================================================\n",
      "Epoch 7/4000\n"
     ]
    },
    {
     "name": "stderr",
     "output_type": "stream",
     "text": [
      "Training: 100%|██████████| 24/24 [00:34<00:00,  1.44s/it, loss=0.784]\n",
      "Validation: 100%|██████████| 4/4 [00:01<00:00,  2.20it/s, loss=0.769]\n"
     ]
    },
    {
     "name": "stdout",
     "output_type": "stream",
     "text": [
      "Validation Dice Score\n",
      "Class 0: 0.9869, Class 1: 0.0000, Class 2: 0.0000, Class 3: 0.1291, \n",
      "Class 4: 0.1005, Class 5: 0.0385, Class 6: 0.0453, \n",
      "Training Loss: 0.7790, Validation Loss: 0.8196\n",
      "Epoch 8/4000\n"
     ]
    },
    {
     "name": "stderr",
     "output_type": "stream",
     "text": [
      "Training: 100%|██████████| 24/24 [00:36<00:00,  1.52s/it, loss=0.705]\n",
      "Validation: 100%|██████████| 4/4 [00:01<00:00,  2.21it/s, loss=0.788]\n"
     ]
    },
    {
     "name": "stdout",
     "output_type": "stream",
     "text": [
      "Validation Dice Score\n",
      "Class 0: 0.9873, Class 1: 0.0106, Class 2: 0.0000, Class 3: 0.1714, \n",
      "Class 4: 0.2930, Class 5: 0.0638, Class 6: 0.0156, \n",
      "Training Loss: 0.7886, Validation Loss: 0.7903\n",
      "========================================================\n",
      "Best model saved with validation loss: 0.7903\n",
      "========================================================\n",
      "Epoch 9/4000\n"
     ]
    },
    {
     "name": "stderr",
     "output_type": "stream",
     "text": [
      "Training: 100%|██████████| 24/24 [00:34<00:00,  1.44s/it, loss=0.783]\n",
      "Validation: 100%|██████████| 4/4 [00:01<00:00,  2.21it/s, loss=0.729]\n"
     ]
    },
    {
     "name": "stdout",
     "output_type": "stream",
     "text": [
      "Validation Dice Score\n",
      "Class 0: 0.9874, Class 1: 0.0897, Class 2: 0.0000, Class 3: 0.4465, \n",
      "Class 4: 0.1452, Class 5: 0.1080, Class 6: 0.2983, \n",
      "Training Loss: 0.7717, Validation Loss: 0.7409\n",
      "========================================================\n",
      "Best model saved with validation loss: 0.7409\n",
      "========================================================\n",
      "Epoch 10/4000\n"
     ]
    },
    {
     "name": "stderr",
     "output_type": "stream",
     "text": [
      "Training: 100%|██████████| 24/24 [00:35<00:00,  1.46s/it, loss=0.719]\n",
      "Validation: 100%|██████████| 4/4 [00:01<00:00,  2.02it/s, loss=0.708]\n"
     ]
    },
    {
     "name": "stdout",
     "output_type": "stream",
     "text": [
      "Validation Dice Score\n",
      "Class 0: 0.9879, Class 1: 0.0303, Class 2: 0.0000, Class 3: 0.4255, \n",
      "Class 4: 0.3207, Class 5: 0.0426, Class 6: 0.2264, \n",
      "Training Loss: 0.7705, Validation Loss: 0.7301\n",
      "========================================================\n",
      "Best model saved with validation loss: 0.7301\n",
      "========================================================\n",
      "Epoch 11/4000\n"
     ]
    },
    {
     "name": "stderr",
     "output_type": "stream",
     "text": [
      "Training: 100%|██████████| 24/24 [00:35<00:00,  1.47s/it, loss=0.749]\n",
      "Validation: 100%|██████████| 4/4 [00:01<00:00,  2.18it/s, loss=0.759]\n"
     ]
    },
    {
     "name": "stdout",
     "output_type": "stream",
     "text": [
      "Validation Dice Score\n",
      "Class 0: 0.9891, Class 1: 0.1243, Class 2: 0.0000, Class 3: 0.2086, \n",
      "Class 4: 0.3657, Class 5: 0.1234, Class 6: 0.1255, \n",
      "Training Loss: 0.7673, Validation Loss: 0.7763\n",
      "Epoch 12/4000\n"
     ]
    },
    {
     "name": "stderr",
     "output_type": "stream",
     "text": [
      "Training: 100%|██████████| 24/24 [00:34<00:00,  1.46s/it, loss=0.678]\n",
      "Validation: 100%|██████████| 4/4 [00:01<00:00,  2.21it/s, loss=0.777]\n"
     ]
    },
    {
     "name": "stdout",
     "output_type": "stream",
     "text": [
      "Validation Dice Score\n",
      "Class 0: 0.9856, Class 1: 0.0067, Class 2: 0.0000, Class 3: 0.2542, \n",
      "Class 4: 0.3451, Class 5: 0.0944, Class 6: 0.1806, \n",
      "Training Loss: 0.7581, Validation Loss: 0.7577\n",
      "Epoch 13/4000\n"
     ]
    },
    {
     "name": "stderr",
     "output_type": "stream",
     "text": [
      "Training: 100%|██████████| 24/24 [00:34<00:00,  1.46s/it, loss=0.715]\n",
      "Validation: 100%|██████████| 4/4 [00:01<00:00,  2.23it/s, loss=0.696]\n"
     ]
    },
    {
     "name": "stdout",
     "output_type": "stream",
     "text": [
      "Validation Dice Score\n",
      "Class 0: 0.9873, Class 1: 0.1596, Class 2: 0.0000, Class 3: 0.2377, \n",
      "Class 4: 0.4693, Class 5: 0.0994, Class 6: 0.0041, \n",
      "Training Loss: 0.7516, Validation Loss: 0.7522\n",
      "Epoch 14/4000\n"
     ]
    },
    {
     "name": "stderr",
     "output_type": "stream",
     "text": [
      "Training: 100%|██████████| 24/24 [00:34<00:00,  1.44s/it, loss=0.767]\n",
      "Validation: 100%|██████████| 4/4 [00:01<00:00,  2.21it/s, loss=0.621]\n"
     ]
    },
    {
     "name": "stdout",
     "output_type": "stream",
     "text": [
      "Validation Dice Score\n",
      "Class 0: 0.9851, Class 1: 0.0285, Class 2: 0.0000, Class 3: 0.4823, \n",
      "Class 4: 0.3231, Class 5: 0.1785, Class 6: 0.3325, \n",
      "Training Loss: 0.7341, Validation Loss: 0.7074\n",
      "========================================================\n",
      "Best model saved with validation loss: 0.7074\n",
      "========================================================\n",
      "Epoch 15/4000\n"
     ]
    },
    {
     "name": "stderr",
     "output_type": "stream",
     "text": [
      "Training: 100%|██████████| 24/24 [00:34<00:00,  1.45s/it, loss=0.757]\n",
      "Validation: 100%|██████████| 4/4 [00:01<00:00,  2.26it/s, loss=0.752]\n"
     ]
    },
    {
     "name": "stdout",
     "output_type": "stream",
     "text": [
      "Validation Dice Score\n",
      "Class 0: 0.9862, Class 1: 0.0494, Class 2: 0.0003, Class 3: 0.2981, \n",
      "Class 4: 0.3011, Class 5: 0.1189, Class 6: 0.0860, \n",
      "Training Loss: 0.7493, Validation Loss: 0.7663\n",
      "Epoch 16/4000\n"
     ]
    },
    {
     "name": "stderr",
     "output_type": "stream",
     "text": [
      "Training: 100%|██████████| 24/24 [00:34<00:00,  1.46s/it, loss=0.76] \n",
      "Validation: 100%|██████████| 4/4 [00:01<00:00,  2.21it/s, loss=0.719]\n"
     ]
    },
    {
     "name": "stdout",
     "output_type": "stream",
     "text": [
      "Validation Dice Score\n",
      "Class 0: 0.9839, Class 1: 0.1220, Class 2: 0.0010, Class 3: 0.4345, \n",
      "Class 4: 0.3158, Class 5: 0.1197, Class 6: 0.1549, \n",
      "Training Loss: 0.7340, Validation Loss: 0.7259\n",
      "Epoch 17/4000\n"
     ]
    },
    {
     "name": "stderr",
     "output_type": "stream",
     "text": [
      "Training: 100%|██████████| 24/24 [00:34<00:00,  1.45s/it, loss=0.767]\n",
      "Validation: 100%|██████████| 4/4 [00:01<00:00,  2.20it/s, loss=0.736]\n"
     ]
    },
    {
     "name": "stdout",
     "output_type": "stream",
     "text": [
      "Validation Dice Score\n",
      "Class 0: 0.9880, Class 1: 0.1924, Class 2: 0.0108, Class 3: 0.4532, \n",
      "Class 4: 0.2890, Class 5: 0.0904, Class 6: 0.1076, \n",
      "Training Loss: 0.7503, Validation Loss: 0.7477\n",
      "Epoch 18/4000\n"
     ]
    },
    {
     "name": "stderr",
     "output_type": "stream",
     "text": [
      "Training: 100%|██████████| 24/24 [00:34<00:00,  1.46s/it, loss=0.797]\n",
      "Validation: 100%|██████████| 4/4 [00:01<00:00,  2.18it/s, loss=0.782]\n"
     ]
    },
    {
     "name": "stdout",
     "output_type": "stream",
     "text": [
      "Validation Dice Score\n",
      "Class 0: 0.9848, Class 1: 0.0796, Class 2: 0.0592, Class 3: 0.2955, \n",
      "Class 4: 0.2756, Class 5: 0.1362, Class 6: 0.0131, \n",
      "Training Loss: 0.7473, Validation Loss: 0.7660\n",
      "Epoch 19/4000\n"
     ]
    },
    {
     "name": "stderr",
     "output_type": "stream",
     "text": [
      "Training: 100%|██████████| 24/24 [00:34<00:00,  1.45s/it, loss=0.721]\n",
      "Validation: 100%|██████████| 4/4 [00:01<00:00,  2.23it/s, loss=0.697]\n"
     ]
    },
    {
     "name": "stdout",
     "output_type": "stream",
     "text": [
      "Validation Dice Score\n",
      "Class 0: 0.9862, Class 1: 0.2982, Class 2: 0.0357, Class 3: 0.2275, \n",
      "Class 4: 0.0436, Class 5: 0.0818, Class 6: 0.5837, \n",
      "Training Loss: 0.7455, Validation Loss: 0.7037\n",
      "========================================================\n",
      "Best model saved with validation loss: 0.7037\n",
      "========================================================\n",
      "Epoch 20/4000\n"
     ]
    },
    {
     "name": "stderr",
     "output_type": "stream",
     "text": [
      "Training: 100%|██████████| 24/24 [00:34<00:00,  1.45s/it, loss=0.749]\n",
      "Validation: 100%|██████████| 4/4 [00:01<00:00,  2.23it/s, loss=0.693]\n"
     ]
    },
    {
     "name": "stdout",
     "output_type": "stream",
     "text": [
      "Validation Dice Score\n",
      "Class 0: 0.9845, Class 1: 0.1149, Class 2: 0.0000, Class 3: 0.2592, \n",
      "Class 4: 0.2249, Class 5: 0.0840, Class 6: 0.1462, \n",
      "Training Loss: 0.7494, Validation Loss: 0.7603\n",
      "Epoch 21/4000\n"
     ]
    },
    {
     "name": "stderr",
     "output_type": "stream",
     "text": [
      "Training: 100%|██████████| 24/24 [00:34<00:00,  1.45s/it, loss=0.815]\n",
      "Validation: 100%|██████████| 4/4 [00:01<00:00,  2.18it/s, loss=0.71] \n"
     ]
    },
    {
     "name": "stdout",
     "output_type": "stream",
     "text": [
      "Validation Dice Score\n",
      "Class 0: 0.9870, Class 1: 0.2203, Class 2: 0.0863, Class 3: 0.3532, \n",
      "Class 4: 0.2547, Class 5: 0.0958, Class 6: 0.3139, \n",
      "Training Loss: 0.7342, Validation Loss: 0.7073\n",
      "Epoch 22/4000\n"
     ]
    },
    {
     "name": "stderr",
     "output_type": "stream",
     "text": [
      "Training: 100%|██████████| 24/24 [00:34<00:00,  1.45s/it, loss=0.678]\n",
      "Validation: 100%|██████████| 4/4 [00:01<00:00,  2.21it/s, loss=0.696]\n"
     ]
    },
    {
     "name": "stdout",
     "output_type": "stream",
     "text": [
      "Validation Dice Score\n",
      "Class 0: 0.9876, Class 1: 0.4321, Class 2: 0.0239, Class 3: 0.4850, \n",
      "Class 4: 0.2782, Class 5: 0.1344, Class 6: 0.2699, \n",
      "Training Loss: 0.7079, Validation Loss: 0.6767\n",
      "========================================================\n",
      "Best model saved with validation loss: 0.6767\n",
      "========================================================\n",
      "Epoch 23/4000\n"
     ]
    },
    {
     "name": "stderr",
     "output_type": "stream",
     "text": [
      "Training: 100%|██████████| 24/24 [00:34<00:00,  1.45s/it, loss=0.698]\n",
      "Validation: 100%|██████████| 4/4 [00:01<00:00,  2.26it/s, loss=0.701]\n"
     ]
    },
    {
     "name": "stdout",
     "output_type": "stream",
     "text": [
      "Validation Dice Score\n",
      "Class 0: 0.9878, Class 1: 0.3225, Class 2: 0.0392, Class 3: 0.1916, \n",
      "Class 4: 0.2207, Class 5: 0.1310, Class 6: 0.1434, \n",
      "Training Loss: 0.7245, Validation Loss: 0.7403\n",
      "Epoch 24/4000\n"
     ]
    },
    {
     "name": "stderr",
     "output_type": "stream",
     "text": [
      "Training: 100%|██████████| 24/24 [00:34<00:00,  1.46s/it, loss=0.727]\n",
      "Validation: 100%|██████████| 4/4 [00:01<00:00,  2.26it/s, loss=0.67] \n"
     ]
    },
    {
     "name": "stdout",
     "output_type": "stream",
     "text": [
      "Validation Dice Score\n",
      "Class 0: 0.9872, Class 1: 0.2059, Class 2: 0.0687, Class 3: 0.5268, \n",
      "Class 4: 0.3331, Class 5: 0.1539, Class 6: 0.1647, \n",
      "Training Loss: 0.7143, Validation Loss: 0.6715\n",
      "========================================================\n",
      "Best model saved with validation loss: 0.6715\n",
      "========================================================\n",
      "Epoch 25/4000\n"
     ]
    },
    {
     "name": "stderr",
     "output_type": "stream",
     "text": [
      "Training: 100%|██████████| 24/24 [00:34<00:00,  1.45s/it, loss=0.717]\n",
      "Validation: 100%|██████████| 4/4 [00:01<00:00,  2.21it/s, loss=0.783]\n"
     ]
    },
    {
     "name": "stdout",
     "output_type": "stream",
     "text": [
      "Validation Dice Score\n",
      "Class 0: 0.9837, Class 1: 0.3861, Class 2: 0.0361, Class 3: 0.4637, \n",
      "Class 4: 0.2256, Class 5: 0.1604, Class 6: 0.2674, \n",
      "Training Loss: 0.7106, Validation Loss: 0.7063\n",
      "Epoch 26/4000\n"
     ]
    },
    {
     "name": "stderr",
     "output_type": "stream",
     "text": [
      "Training: 100%|██████████| 24/24 [00:34<00:00,  1.44s/it, loss=0.712]\n",
      "Validation: 100%|██████████| 4/4 [00:01<00:00,  2.29it/s, loss=0.743]\n"
     ]
    },
    {
     "name": "stdout",
     "output_type": "stream",
     "text": [
      "Validation Dice Score\n",
      "Class 0: 0.9847, Class 1: 0.3125, Class 2: 0.0518, Class 3: 0.2331, \n",
      "Class 4: 0.2707, Class 5: 0.1418, Class 6: 0.1598, \n",
      "Training Loss: 0.6977, Validation Loss: 0.7230\n",
      "Epoch 27/4000\n"
     ]
    },
    {
     "name": "stderr",
     "output_type": "stream",
     "text": [
      "Training: 100%|██████████| 24/24 [00:34<00:00,  1.45s/it, loss=0.7]  \n",
      "Validation: 100%|██████████| 4/4 [00:01<00:00,  2.21it/s, loss=0.771]\n"
     ]
    },
    {
     "name": "stdout",
     "output_type": "stream",
     "text": [
      "Validation Dice Score\n",
      "Class 0: 0.9864, Class 1: 0.4678, Class 2: 0.0193, Class 3: 0.3772, \n",
      "Class 4: 0.3726, Class 5: 0.1203, Class 6: 0.1598, \n",
      "Training Loss: 0.7277, Validation Loss: 0.7020\n",
      "Epoch 28/4000\n"
     ]
    },
    {
     "name": "stderr",
     "output_type": "stream",
     "text": [
      "Training: 100%|██████████| 24/24 [00:34<00:00,  1.44s/it, loss=0.66] \n",
      "Validation: 100%|██████████| 4/4 [00:01<00:00,  2.25it/s, loss=0.622]\n"
     ]
    },
    {
     "name": "stdout",
     "output_type": "stream",
     "text": [
      "Validation Dice Score\n",
      "Class 0: 0.9895, Class 1: 0.5578, Class 2: 0.0329, Class 3: 0.3830, \n",
      "Class 4: 0.2539, Class 5: 0.1269, Class 6: 0.3517, \n",
      "Training Loss: 0.6830, Validation Loss: 0.6795\n",
      "Epoch 29/4000\n"
     ]
    },
    {
     "name": "stderr",
     "output_type": "stream",
     "text": [
      "Training: 100%|██████████| 24/24 [00:34<00:00,  1.45s/it, loss=0.693]\n",
      "Validation: 100%|██████████| 4/4 [00:01<00:00,  2.28it/s, loss=0.746]\n"
     ]
    },
    {
     "name": "stdout",
     "output_type": "stream",
     "text": [
      "Validation Dice Score\n",
      "Class 0: 0.9885, Class 1: 0.4475, Class 2: 0.1265, Class 3: 0.2862, \n",
      "Class 4: 0.1635, Class 5: 0.1690, Class 6: 0.2237, \n",
      "Training Loss: 0.7003, Validation Loss: 0.6958\n",
      "Epoch 30/4000\n"
     ]
    },
    {
     "name": "stderr",
     "output_type": "stream",
     "text": [
      "Training: 100%|██████████| 24/24 [00:34<00:00,  1.45s/it, loss=0.719]\n",
      "Validation: 100%|██████████| 4/4 [00:01<00:00,  2.23it/s, loss=0.684]\n"
     ]
    },
    {
     "name": "stdout",
     "output_type": "stream",
     "text": [
      "Validation Dice Score\n",
      "Class 0: 0.9869, Class 1: 0.4052, Class 2: 0.0725, Class 3: 0.6287, \n",
      "Class 4: 0.2541, Class 5: 0.1832, Class 6: 0.2991, \n",
      "Training Loss: 0.7017, Validation Loss: 0.6511\n",
      "========================================================\n",
      "Best model saved with validation loss: 0.6511\n",
      "========================================================\n",
      "Epoch 31/4000\n"
     ]
    },
    {
     "name": "stderr",
     "output_type": "stream",
     "text": [
      "Training: 100%|██████████| 24/24 [00:34<00:00,  1.44s/it, loss=0.716]\n",
      "Validation: 100%|██████████| 4/4 [00:01<00:00,  2.21it/s, loss=0.688]\n"
     ]
    },
    {
     "name": "stdout",
     "output_type": "stream",
     "text": [
      "Validation Dice Score\n",
      "Class 0: 0.9873, Class 1: 0.3386, Class 2: 0.0588, Class 3: 0.2147, \n",
      "Class 4: 0.1387, Class 5: 0.1929, Class 6: 0.3672, \n",
      "Training Loss: 0.6834, Validation Loss: 0.6923\n",
      "Epoch 32/4000\n"
     ]
    },
    {
     "name": "stderr",
     "output_type": "stream",
     "text": [
      "Training: 100%|██████████| 24/24 [00:34<00:00,  1.46s/it, loss=0.819]\n",
      "Validation: 100%|██████████| 4/4 [00:01<00:00,  2.21it/s, loss=0.655]\n"
     ]
    },
    {
     "name": "stdout",
     "output_type": "stream",
     "text": [
      "Validation Dice Score\n",
      "Class 0: 0.9877, Class 1: 0.6087, Class 2: 0.0012, Class 3: 0.2262, \n",
      "Class 4: 0.2703, Class 5: 0.1936, Class 6: 0.3437, \n",
      "Training Loss: 0.6982, Validation Loss: 0.6519\n",
      "Epoch 33/4000\n"
     ]
    },
    {
     "name": "stderr",
     "output_type": "stream",
     "text": [
      "Training: 100%|██████████| 24/24 [00:34<00:00,  1.45s/it, loss=0.645]\n",
      "Validation: 100%|██████████| 4/4 [00:01<00:00,  2.18it/s, loss=0.76] \n"
     ]
    },
    {
     "name": "stdout",
     "output_type": "stream",
     "text": [
      "Validation Dice Score\n",
      "Class 0: 0.9867, Class 1: 0.4171, Class 2: 0.0702, Class 3: 0.3604, \n",
      "Class 4: 0.3615, Class 5: 0.1256, Class 6: 0.1769, \n",
      "Training Loss: 0.6729, Validation Loss: 0.6941\n",
      "Epoch 34/4000\n"
     ]
    },
    {
     "name": "stderr",
     "output_type": "stream",
     "text": [
      "Training: 100%|██████████| 24/24 [00:34<00:00,  1.44s/it, loss=0.785]\n",
      "Validation: 100%|██████████| 4/4 [00:01<00:00,  2.23it/s, loss=0.733]\n"
     ]
    },
    {
     "name": "stdout",
     "output_type": "stream",
     "text": [
      "Validation Dice Score\n",
      "Class 0: 0.9863, Class 1: 0.6066, Class 2: 0.0796, Class 3: 0.4619, \n",
      "Class 4: 0.1527, Class 5: 0.2076, Class 6: 0.1336, \n",
      "Training Loss: 0.6785, Validation Loss: 0.6918\n",
      "Epoch 35/4000\n"
     ]
    },
    {
     "name": "stderr",
     "output_type": "stream",
     "text": [
      "Training: 100%|██████████| 24/24 [00:34<00:00,  1.45s/it, loss=0.701]\n",
      "Validation: 100%|██████████| 4/4 [00:01<00:00,  2.21it/s, loss=0.711]\n"
     ]
    },
    {
     "name": "stdout",
     "output_type": "stream",
     "text": [
      "Validation Dice Score\n",
      "Class 0: 0.9873, Class 1: 0.5405, Class 2: 0.0081, Class 3: 0.3590, \n",
      "Class 4: 0.4323, Class 5: 0.2264, Class 6: 0.4464, \n",
      "Training Loss: 0.6824, Validation Loss: 0.6405\n",
      "========================================================\n",
      "Best model saved with validation loss: 0.6405\n",
      "========================================================\n",
      "Epoch 36/4000\n"
     ]
    },
    {
     "name": "stderr",
     "output_type": "stream",
     "text": [
      "Training: 100%|██████████| 24/24 [00:34<00:00,  1.44s/it, loss=0.66] \n",
      "Validation: 100%|██████████| 4/4 [00:01<00:00,  2.18it/s, loss=0.728]\n"
     ]
    },
    {
     "name": "stdout",
     "output_type": "stream",
     "text": [
      "Validation Dice Score\n",
      "Class 0: 0.9861, Class 1: 0.3972, Class 2: 0.0785, Class 3: 0.3047, \n",
      "Class 4: 0.3541, Class 5: 0.1215, Class 6: 0.0724, \n",
      "Training Loss: 0.6977, Validation Loss: 0.7074\n",
      "Epoch 37/4000\n"
     ]
    },
    {
     "name": "stderr",
     "output_type": "stream",
     "text": [
      "Training: 100%|██████████| 24/24 [00:34<00:00,  1.45s/it, loss=0.704]\n",
      "Validation: 100%|██████████| 4/4 [00:01<00:00,  2.17it/s, loss=0.584]\n"
     ]
    },
    {
     "name": "stdout",
     "output_type": "stream",
     "text": [
      "Validation Dice Score\n",
      "Class 0: 0.9865, Class 1: 0.3693, Class 2: 0.0000, Class 3: 0.4248, \n",
      "Class 4: 0.4140, Class 5: 0.2173, Class 6: 0.4118, \n",
      "Training Loss: 0.6922, Validation Loss: 0.6341\n",
      "========================================================\n",
      "Best model saved with validation loss: 0.6341\n",
      "========================================================\n",
      "Epoch 38/4000\n"
     ]
    },
    {
     "name": "stderr",
     "output_type": "stream",
     "text": [
      "Training: 100%|██████████| 24/24 [00:34<00:00,  1.44s/it, loss=0.731]\n",
      "Validation: 100%|██████████| 4/4 [00:01<00:00,  2.22it/s, loss=0.585]\n"
     ]
    },
    {
     "name": "stdout",
     "output_type": "stream",
     "text": [
      "Validation Dice Score\n",
      "Class 0: 0.9908, Class 1: 0.5088, Class 2: 0.0342, Class 3: 0.4098, \n",
      "Class 4: 0.4071, Class 5: 0.2267, Class 6: 0.3053, \n",
      "Training Loss: 0.6774, Validation Loss: 0.6417\n",
      "Epoch 39/4000\n"
     ]
    },
    {
     "name": "stderr",
     "output_type": "stream",
     "text": [
      "Training: 100%|██████████| 24/24 [00:34<00:00,  1.45s/it, loss=0.692]\n",
      "Validation: 100%|██████████| 4/4 [00:01<00:00,  2.22it/s, loss=0.652]\n"
     ]
    },
    {
     "name": "stdout",
     "output_type": "stream",
     "text": [
      "Validation Dice Score\n",
      "Class 0: 0.9863, Class 1: 0.2911, Class 2: 0.0340, Class 3: 0.3089, \n",
      "Class 4: 0.2280, Class 5: 0.1508, Class 6: 0.1952, \n",
      "Training Loss: 0.6841, Validation Loss: 0.7278\n",
      "Epoch 40/4000\n"
     ]
    },
    {
     "name": "stderr",
     "output_type": "stream",
     "text": [
      "Training: 100%|██████████| 24/24 [00:34<00:00,  1.45s/it, loss=0.719]\n",
      "Validation: 100%|██████████| 4/4 [00:01<00:00,  2.24it/s, loss=0.655]\n"
     ]
    },
    {
     "name": "stdout",
     "output_type": "stream",
     "text": [
      "Validation Dice Score\n",
      "Class 0: 0.9849, Class 1: 0.5787, Class 2: 0.0242, Class 3: 0.3956, \n",
      "Class 4: 0.1231, Class 5: 0.2537, Class 6: 0.2352, \n",
      "Training Loss: 0.6879, Validation Loss: 0.6571\n",
      "Epoch 41/4000\n"
     ]
    },
    {
     "name": "stderr",
     "output_type": "stream",
     "text": [
      "Training: 100%|██████████| 24/24 [00:34<00:00,  1.45s/it, loss=0.629]\n",
      "Validation: 100%|██████████| 4/4 [00:01<00:00,  2.18it/s, loss=0.628]\n"
     ]
    },
    {
     "name": "stdout",
     "output_type": "stream",
     "text": [
      "Validation Dice Score\n",
      "Class 0: 0.9893, Class 1: 0.6095, Class 2: 0.0754, Class 3: 0.4171, \n",
      "Class 4: 0.2396, Class 5: 0.2329, Class 6: 0.4736, \n",
      "Training Loss: 0.6696, Validation Loss: 0.6203\n",
      "========================================================\n",
      "Best model saved with validation loss: 0.6203\n",
      "========================================================\n",
      "Epoch 42/4000\n"
     ]
    },
    {
     "name": "stderr",
     "output_type": "stream",
     "text": [
      "Training: 100%|██████████| 24/24 [00:34<00:00,  1.44s/it, loss=0.705]\n",
      "Validation: 100%|██████████| 4/4 [00:01<00:00,  2.25it/s, loss=0.678]\n"
     ]
    },
    {
     "name": "stdout",
     "output_type": "stream",
     "text": [
      "Validation Dice Score\n",
      "Class 0: 0.9841, Class 1: 0.6123, Class 2: 0.1043, Class 3: 0.4249, \n",
      "Class 4: 0.1910, Class 5: 0.1222, Class 6: 0.2229, \n",
      "Training Loss: 0.6700, Validation Loss: 0.6670\n",
      "Epoch 43/4000\n"
     ]
    },
    {
     "name": "stderr",
     "output_type": "stream",
     "text": [
      "Training: 100%|██████████| 24/24 [00:34<00:00,  1.44s/it, loss=0.716]\n",
      "Validation: 100%|██████████| 4/4 [00:01<00:00,  2.24it/s, loss=0.658]\n"
     ]
    },
    {
     "name": "stdout",
     "output_type": "stream",
     "text": [
      "Validation Dice Score\n",
      "Class 0: 0.9868, Class 1: 0.6378, Class 2: 0.1185, Class 3: 0.2959, \n",
      "Class 4: 0.2272, Class 5: 0.2044, Class 6: 0.1155, \n",
      "Training Loss: 0.6690, Validation Loss: 0.6873\n",
      "Epoch 44/4000\n"
     ]
    },
    {
     "name": "stderr",
     "output_type": "stream",
     "text": [
      "Training: 100%|██████████| 24/24 [00:34<00:00,  1.45s/it, loss=0.673]\n",
      "Validation: 100%|██████████| 4/4 [00:01<00:00,  2.22it/s, loss=0.66] \n"
     ]
    },
    {
     "name": "stdout",
     "output_type": "stream",
     "text": [
      "Validation Dice Score\n",
      "Class 0: 0.9839, Class 1: 0.7034, Class 2: 0.0764, Class 3: 0.3368, \n",
      "Class 4: 0.3811, Class 5: 0.1618, Class 6: 0.3167, \n",
      "Training Loss: 0.6839, Validation Loss: 0.6443\n",
      "Epoch 45/4000\n"
     ]
    },
    {
     "name": "stderr",
     "output_type": "stream",
     "text": [
      "Training: 100%|██████████| 24/24 [00:34<00:00,  1.44s/it, loss=0.673]\n",
      "Validation: 100%|██████████| 4/4 [00:01<00:00,  2.23it/s, loss=0.693]\n"
     ]
    },
    {
     "name": "stdout",
     "output_type": "stream",
     "text": [
      "Validation Dice Score\n",
      "Class 0: 0.9894, Class 1: 0.4246, Class 2: 0.0333, Class 3: 0.3609, \n",
      "Class 4: 0.2584, Class 5: 0.2297, Class 6: 0.1371, \n",
      "Training Loss: 0.6683, Validation Loss: 0.7016\n",
      "Epoch 46/4000\n"
     ]
    },
    {
     "name": "stderr",
     "output_type": "stream",
     "text": [
      "Training: 100%|██████████| 24/24 [00:34<00:00,  1.45s/it, loss=0.572]\n",
      "Validation: 100%|██████████| 4/4 [00:01<00:00,  2.24it/s, loss=0.654]\n"
     ]
    },
    {
     "name": "stdout",
     "output_type": "stream",
     "text": [
      "Validation Dice Score\n",
      "Class 0: 0.9856, Class 1: 0.4566, Class 2: 0.0452, Class 3: 0.3728, \n",
      "Class 4: 0.2989, Class 5: 0.1972, Class 6: 0.1174, \n",
      "Training Loss: 0.6517, Validation Loss: 0.6612\n",
      "Epoch 47/4000\n"
     ]
    },
    {
     "name": "stderr",
     "output_type": "stream",
     "text": [
      "Training: 100%|██████████| 24/24 [00:34<00:00,  1.44s/it, loss=0.679]\n",
      "Validation: 100%|██████████| 4/4 [00:01<00:00,  2.23it/s, loss=0.706]\n"
     ]
    },
    {
     "name": "stdout",
     "output_type": "stream",
     "text": [
      "Validation Dice Score\n",
      "Class 0: 0.9859, Class 1: 0.3226, Class 2: 0.0855, Class 3: 0.2723, \n",
      "Class 4: 0.4762, Class 5: 0.1765, Class 6: 0.0104, \n",
      "Training Loss: 0.6592, Validation Loss: 0.6985\n",
      "Epoch 48/4000\n"
     ]
    },
    {
     "name": "stderr",
     "output_type": "stream",
     "text": [
      "Training: 100%|██████████| 24/24 [00:34<00:00,  1.45s/it, loss=0.626]\n",
      "Validation: 100%|██████████| 4/4 [00:01<00:00,  2.22it/s, loss=0.742]\n"
     ]
    },
    {
     "name": "stdout",
     "output_type": "stream",
     "text": [
      "Validation Dice Score\n",
      "Class 0: 0.9885, Class 1: 0.3823, Class 2: 0.1370, Class 3: 0.6114, \n",
      "Class 4: 0.1908, Class 5: 0.2702, Class 6: 0.5858, \n",
      "Training Loss: 0.6683, Validation Loss: 0.6287\n",
      "Epoch 49/4000\n"
     ]
    },
    {
     "name": "stderr",
     "output_type": "stream",
     "text": [
      "Training: 100%|██████████| 24/24 [00:34<00:00,  1.44s/it, loss=0.72] \n",
      "Validation: 100%|██████████| 4/4 [00:01<00:00,  2.23it/s, loss=0.666]\n"
     ]
    },
    {
     "name": "stdout",
     "output_type": "stream",
     "text": [
      "Validation Dice Score\n",
      "Class 0: 0.9869, Class 1: 0.5510, Class 2: 0.1638, Class 3: 0.3203, \n",
      "Class 4: 0.2043, Class 5: 0.1004, Class 6: 0.1479, \n",
      "Training Loss: 0.6888, Validation Loss: 0.7098\n",
      "Epoch 50/4000\n"
     ]
    },
    {
     "name": "stderr",
     "output_type": "stream",
     "text": [
      "Training: 100%|██████████| 24/24 [00:34<00:00,  1.45s/it, loss=0.66] \n",
      "Validation: 100%|██████████| 4/4 [00:01<00:00,  2.27it/s, loss=0.768]\n"
     ]
    },
    {
     "name": "stdout",
     "output_type": "stream",
     "text": [
      "Validation Dice Score\n",
      "Class 0: 0.9873, Class 1: 0.4958, Class 2: 0.1137, Class 3: 0.3997, \n",
      "Class 4: 0.0740, Class 5: 0.1414, Class 6: 0.0288, \n",
      "Training Loss: 0.6545, Validation Loss: 0.7117\n",
      "Epoch 51/4000\n"
     ]
    },
    {
     "name": "stderr",
     "output_type": "stream",
     "text": [
      "Training: 100%|██████████| 24/24 [00:35<00:00,  1.46s/it, loss=0.648]\n",
      "Validation: 100%|██████████| 4/4 [00:01<00:00,  2.25it/s, loss=0.705]\n"
     ]
    },
    {
     "name": "stdout",
     "output_type": "stream",
     "text": [
      "Validation Dice Score\n",
      "Class 0: 0.9842, Class 1: 0.2047, Class 2: 0.1484, Class 3: 0.4310, \n",
      "Class 4: 0.4434, Class 5: 0.1924, Class 6: 0.3455, \n",
      "Training Loss: 0.6602, Validation Loss: 0.6672\n",
      "Epoch 52/4000\n"
     ]
    },
    {
     "name": "stderr",
     "output_type": "stream",
     "text": [
      "Training: 100%|██████████| 24/24 [00:34<00:00,  1.45s/it, loss=0.589]\n",
      "Validation: 100%|██████████| 4/4 [00:01<00:00,  2.19it/s, loss=0.667]\n"
     ]
    },
    {
     "name": "stdout",
     "output_type": "stream",
     "text": [
      "Validation Dice Score\n",
      "Class 0: 0.9843, Class 1: 0.5040, Class 2: 0.0420, Class 3: 0.5425, \n",
      "Class 4: 0.3819, Class 5: 0.1367, Class 6: 0.3316, \n",
      "Training Loss: 0.6566, Validation Loss: 0.6532\n",
      "Epoch 53/4000\n"
     ]
    },
    {
     "name": "stderr",
     "output_type": "stream",
     "text": [
      "Training: 100%|██████████| 24/24 [00:34<00:00,  1.44s/it, loss=0.678]\n",
      "Validation: 100%|██████████| 4/4 [00:01<00:00,  2.16it/s, loss=0.716]\n"
     ]
    },
    {
     "name": "stdout",
     "output_type": "stream",
     "text": [
      "Validation Dice Score\n",
      "Class 0: 0.9872, Class 1: 0.6845, Class 2: 0.1182, Class 3: 0.4833, \n",
      "Class 4: 0.4006, Class 5: 0.1636, Class 6: 0.4367, \n",
      "Training Loss: 0.6613, Validation Loss: 0.5850\n",
      "========================================================\n",
      "Best model saved with validation loss: 0.5850\n",
      "========================================================\n",
      "Epoch 54/4000\n"
     ]
    },
    {
     "name": "stderr",
     "output_type": "stream",
     "text": [
      "Training: 100%|██████████| 24/24 [00:34<00:00,  1.44s/it, loss=0.78] \n",
      "Validation: 100%|██████████| 4/4 [00:01<00:00,  2.14it/s, loss=0.668]\n"
     ]
    },
    {
     "name": "stdout",
     "output_type": "stream",
     "text": [
      "Validation Dice Score\n",
      "Class 0: 0.9861, Class 1: 0.6290, Class 2: 0.0960, Class 3: 0.4394, \n",
      "Class 4: 0.1656, Class 5: 0.2002, Class 6: 0.3253, \n",
      "Training Loss: 0.6817, Validation Loss: 0.6340\n",
      "Epoch 55/4000\n"
     ]
    },
    {
     "name": "stderr",
     "output_type": "stream",
     "text": [
      "Training: 100%|██████████| 24/24 [00:34<00:00,  1.45s/it, loss=0.666]\n",
      "Validation: 100%|██████████| 4/4 [00:01<00:00,  2.23it/s, loss=0.792]\n"
     ]
    },
    {
     "name": "stdout",
     "output_type": "stream",
     "text": [
      "Validation Dice Score\n",
      "Class 0: 0.9861, Class 1: 0.5054, Class 2: 0.1241, Class 3: 0.2524, \n",
      "Class 4: 0.0960, Class 5: 0.1838, Class 6: 0.0443, \n",
      "Training Loss: 0.6624, Validation Loss: 0.7226\n",
      "Epoch 56/4000\n"
     ]
    },
    {
     "name": "stderr",
     "output_type": "stream",
     "text": [
      "Training: 100%|██████████| 24/24 [00:35<00:00,  1.46s/it, loss=0.544]\n",
      "Validation: 100%|██████████| 4/4 [00:01<00:00,  2.24it/s, loss=0.625]\n"
     ]
    },
    {
     "name": "stdout",
     "output_type": "stream",
     "text": [
      "Validation Dice Score\n",
      "Class 0: 0.9900, Class 1: 0.5309, Class 2: 0.0515, Class 3: 0.4600, \n",
      "Class 4: 0.1827, Class 5: 0.1505, Class 6: 0.4193, \n",
      "Training Loss: 0.6485, Validation Loss: 0.6496\n",
      "Epoch 57/4000\n"
     ]
    },
    {
     "name": "stderr",
     "output_type": "stream",
     "text": [
      "Training: 100%|██████████| 24/24 [00:34<00:00,  1.45s/it, loss=0.694]\n",
      "Validation: 100%|██████████| 4/4 [00:01<00:00,  2.20it/s, loss=0.588]\n"
     ]
    },
    {
     "name": "stdout",
     "output_type": "stream",
     "text": [
      "Validation Dice Score\n",
      "Class 0: 0.9859, Class 1: 0.6401, Class 2: 0.1046, Class 3: 0.3342, \n",
      "Class 4: 0.3618, Class 5: 0.1899, Class 6: 0.4783, \n",
      "Training Loss: 0.6654, Validation Loss: 0.6025\n",
      "Epoch 58/4000\n"
     ]
    },
    {
     "name": "stderr",
     "output_type": "stream",
     "text": [
      "Training: 100%|██████████| 24/24 [00:34<00:00,  1.45s/it, loss=0.601]\n",
      "Validation: 100%|██████████| 4/4 [00:01<00:00,  2.16it/s, loss=0.629]\n"
     ]
    },
    {
     "name": "stdout",
     "output_type": "stream",
     "text": [
      "Validation Dice Score\n",
      "Class 0: 0.9896, Class 1: 0.4730, Class 2: 0.0000, Class 3: 0.5558, \n",
      "Class 4: 0.4550, Class 5: 0.3049, Class 6: 0.4548, \n",
      "Training Loss: 0.6687, Validation Loss: 0.5995\n",
      "Epoch 59/4000\n"
     ]
    },
    {
     "name": "stderr",
     "output_type": "stream",
     "text": [
      "Training: 100%|██████████| 24/24 [00:34<00:00,  1.45s/it, loss=0.663]\n",
      "Validation: 100%|██████████| 4/4 [00:01<00:00,  2.20it/s, loss=0.744]\n"
     ]
    },
    {
     "name": "stdout",
     "output_type": "stream",
     "text": [
      "Validation Dice Score\n",
      "Class 0: 0.9895, Class 1: 0.5777, Class 2: 0.0000, Class 3: 0.4801, \n",
      "Class 4: 0.3591, Class 5: 0.1021, Class 6: 0.3235, \n",
      "Training Loss: 0.6695, Validation Loss: 0.6623\n",
      "Epoch 60/4000\n"
     ]
    },
    {
     "name": "stderr",
     "output_type": "stream",
     "text": [
      "Training: 100%|██████████| 24/24 [00:34<00:00,  1.44s/it, loss=0.631]\n",
      "Validation: 100%|██████████| 4/4 [00:01<00:00,  2.20it/s, loss=0.597]\n"
     ]
    },
    {
     "name": "stdout",
     "output_type": "stream",
     "text": [
      "Validation Dice Score\n",
      "Class 0: 0.9843, Class 1: 0.4802, Class 2: 0.0510, Class 3: 0.5290, \n",
      "Class 4: 0.4391, Class 5: 0.1813, Class 6: 0.1254, \n",
      "Training Loss: 0.6450, Validation Loss: 0.6415\n",
      "Epoch 61/4000\n"
     ]
    },
    {
     "name": "stderr",
     "output_type": "stream",
     "text": [
      "Training: 100%|██████████| 24/24 [00:34<00:00,  1.46s/it, loss=0.635]\n",
      "Validation: 100%|██████████| 4/4 [00:01<00:00,  2.19it/s, loss=0.665]\n"
     ]
    },
    {
     "name": "stdout",
     "output_type": "stream",
     "text": [
      "Validation Dice Score\n",
      "Class 0: 0.9889, Class 1: 0.7047, Class 2: 0.0506, Class 3: 0.2726, \n",
      "Class 4: 0.3411, Class 5: 0.2766, Class 6: 0.4567, \n",
      "Training Loss: 0.6544, Validation Loss: 0.6298\n",
      "Epoch 62/4000\n"
     ]
    },
    {
     "name": "stderr",
     "output_type": "stream",
     "text": [
      "Training: 100%|██████████| 24/24 [00:34<00:00,  1.45s/it, loss=0.698]\n",
      "Validation: 100%|██████████| 4/4 [00:01<00:00,  2.22it/s, loss=0.59] \n"
     ]
    },
    {
     "name": "stdout",
     "output_type": "stream",
     "text": [
      "Validation Dice Score\n",
      "Class 0: 0.9868, Class 1: 0.6946, Class 2: 0.0335, Class 3: 0.5114, \n",
      "Class 4: 0.5235, Class 5: 0.2910, Class 6: 0.2872, \n",
      "Training Loss: 0.6611, Validation Loss: 0.6045\n",
      "Epoch 63/4000\n"
     ]
    },
    {
     "name": "stderr",
     "output_type": "stream",
     "text": [
      "Training: 100%|██████████| 24/24 [00:34<00:00,  1.44s/it, loss=0.613]\n",
      "Validation: 100%|██████████| 4/4 [00:01<00:00,  2.20it/s, loss=0.624]\n"
     ]
    },
    {
     "name": "stdout",
     "output_type": "stream",
     "text": [
      "Validation Dice Score\n",
      "Class 0: 0.9890, Class 1: 0.7478, Class 2: 0.0900, Class 3: 0.5160, \n",
      "Class 4: 0.4770, Class 5: 0.2737, Class 6: 0.3019, \n",
      "Training Loss: 0.6577, Validation Loss: 0.5809\n",
      "========================================================\n",
      "Best model saved with validation loss: 0.5809\n",
      "========================================================\n",
      "Epoch 64/4000\n"
     ]
    },
    {
     "name": "stderr",
     "output_type": "stream",
     "text": [
      "Training: 100%|██████████| 24/24 [00:34<00:00,  1.45s/it, loss=0.629]\n",
      "Validation: 100%|██████████| 4/4 [00:01<00:00,  2.21it/s, loss=0.542]\n"
     ]
    },
    {
     "name": "stdout",
     "output_type": "stream",
     "text": [
      "Validation Dice Score\n",
      "Class 0: 0.9872, Class 1: 0.5086, Class 2: 0.0952, Class 3: 0.4836, \n",
      "Class 4: 0.5254, Class 5: 0.2233, Class 6: 0.1933, \n",
      "Training Loss: 0.6735, Validation Loss: 0.6159\n",
      "Epoch 65/4000\n"
     ]
    },
    {
     "name": "stderr",
     "output_type": "stream",
     "text": [
      "Training: 100%|██████████| 24/24 [00:34<00:00,  1.45s/it, loss=0.781]\n",
      "Validation: 100%|██████████| 4/4 [00:01<00:00,  2.23it/s, loss=0.691]\n"
     ]
    },
    {
     "name": "stdout",
     "output_type": "stream",
     "text": [
      "Validation Dice Score\n",
      "Class 0: 0.9877, Class 1: 0.4138, Class 2: 0.0943, Class 3: 0.2992, \n",
      "Class 4: 0.2996, Class 5: 0.2638, Class 6: 0.2786, \n",
      "Training Loss: 0.6454, Validation Loss: 0.6750\n",
      "Epoch 66/4000\n"
     ]
    },
    {
     "name": "stderr",
     "output_type": "stream",
     "text": [
      "Training: 100%|██████████| 24/24 [00:34<00:00,  1.45s/it, loss=0.709]\n",
      "Validation: 100%|██████████| 4/4 [00:01<00:00,  2.21it/s, loss=0.662]\n"
     ]
    },
    {
     "name": "stdout",
     "output_type": "stream",
     "text": [
      "Validation Dice Score\n",
      "Class 0: 0.9872, Class 1: 0.5047, Class 2: 0.2456, Class 3: 0.4520, \n",
      "Class 4: 0.3622, Class 5: 0.3532, Class 6: 0.1521, \n",
      "Training Loss: 0.6558, Validation Loss: 0.6193\n",
      "Epoch 67/4000\n"
     ]
    },
    {
     "name": "stderr",
     "output_type": "stream",
     "text": [
      "Training: 100%|██████████| 24/24 [00:34<00:00,  1.45s/it, loss=0.579]\n",
      "Validation: 100%|██████████| 4/4 [00:01<00:00,  2.23it/s, loss=0.639]\n"
     ]
    },
    {
     "name": "stdout",
     "output_type": "stream",
     "text": [
      "Validation Dice Score\n",
      "Class 0: 0.9885, Class 1: 0.5689, Class 2: 0.0806, Class 3: 0.4251, \n",
      "Class 4: 0.2940, Class 5: 0.1353, Class 6: 0.1980, \n",
      "Training Loss: 0.6299, Validation Loss: 0.6658\n",
      "Epoch 68/4000\n"
     ]
    },
    {
     "name": "stderr",
     "output_type": "stream",
     "text": [
      "Training: 100%|██████████| 24/24 [00:34<00:00,  1.44s/it, loss=0.667]\n",
      "Validation: 100%|██████████| 4/4 [00:01<00:00,  2.22it/s, loss=0.643]\n"
     ]
    },
    {
     "name": "stdout",
     "output_type": "stream",
     "text": [
      "Validation Dice Score\n",
      "Class 0: 0.9853, Class 1: 0.5004, Class 2: 0.2014, Class 3: 0.5346, \n",
      "Class 4: 0.3293, Class 5: 0.2475, Class 6: 0.1666, \n",
      "Training Loss: 0.6585, Validation Loss: 0.6480\n",
      "Epoch 69/4000\n"
     ]
    },
    {
     "name": "stderr",
     "output_type": "stream",
     "text": [
      "Training: 100%|██████████| 24/24 [00:34<00:00,  1.44s/it, loss=0.762]\n",
      "Validation: 100%|██████████| 4/4 [00:01<00:00,  2.25it/s, loss=0.64] \n"
     ]
    },
    {
     "name": "stdout",
     "output_type": "stream",
     "text": [
      "Validation Dice Score\n",
      "Class 0: 0.9915, Class 1: 0.6566, Class 2: 0.0765, Class 3: 0.6128, \n",
      "Class 4: 0.1835, Class 5: 0.2971, Class 6: 0.4208, \n",
      "Training Loss: 0.6542, Validation Loss: 0.6248\n",
      "Epoch 70/4000\n"
     ]
    },
    {
     "name": "stderr",
     "output_type": "stream",
     "text": [
      "Training: 100%|██████████| 24/24 [00:34<00:00,  1.45s/it, loss=0.535]\n",
      "Validation: 100%|██████████| 4/4 [00:01<00:00,  2.18it/s, loss=0.703]\n"
     ]
    },
    {
     "name": "stdout",
     "output_type": "stream",
     "text": [
      "Validation Dice Score\n",
      "Class 0: 0.9881, Class 1: 0.4304, Class 2: 0.0913, Class 3: 0.3540, \n",
      "Class 4: 0.5351, Class 5: 0.2294, Class 6: 0.1860, \n",
      "Training Loss: 0.6305, Validation Loss: 0.6510\n",
      "Epoch 71/4000\n"
     ]
    },
    {
     "name": "stderr",
     "output_type": "stream",
     "text": [
      "Training: 100%|██████████| 24/24 [00:34<00:00,  1.44s/it, loss=0.62] \n",
      "Validation: 100%|██████████| 4/4 [00:01<00:00,  2.22it/s, loss=0.656]\n"
     ]
    },
    {
     "name": "stdout",
     "output_type": "stream",
     "text": [
      "Validation Dice Score\n",
      "Class 0: 0.9849, Class 1: 0.5445, Class 2: 0.0303, Class 3: 0.2045, \n",
      "Class 4: 0.2497, Class 5: 0.2523, Class 6: 0.4341, \n",
      "Training Loss: 0.6580, Validation Loss: 0.6651\n",
      "Epoch 72/4000\n"
     ]
    },
    {
     "name": "stderr",
     "output_type": "stream",
     "text": [
      "Training: 100%|██████████| 24/24 [00:34<00:00,  1.45s/it, loss=0.692]\n",
      "Validation: 100%|██████████| 4/4 [00:01<00:00,  2.22it/s, loss=0.672]\n"
     ]
    },
    {
     "name": "stdout",
     "output_type": "stream",
     "text": [
      "Validation Dice Score\n",
      "Class 0: 0.9862, Class 1: 0.5756, Class 2: 0.0057, Class 3: 0.3239, \n",
      "Class 4: 0.1940, Class 5: 0.1992, Class 6: 0.2677, \n",
      "Training Loss: 0.6394, Validation Loss: 0.6637\n",
      "Epoch 73/4000\n"
     ]
    },
    {
     "name": "stderr",
     "output_type": "stream",
     "text": [
      "Training: 100%|██████████| 24/24 [00:34<00:00,  1.46s/it, loss=0.701]\n",
      "Validation: 100%|██████████| 4/4 [00:01<00:00,  2.23it/s, loss=0.662]\n"
     ]
    },
    {
     "name": "stdout",
     "output_type": "stream",
     "text": [
      "Validation Dice Score\n",
      "Class 0: 0.9861, Class 1: 0.7064, Class 2: 0.0811, Class 3: 0.2704, \n",
      "Class 4: 0.4929, Class 5: 0.2318, Class 6: 0.3124, \n",
      "Training Loss: 0.6502, Validation Loss: 0.6090\n",
      "Epoch 74/4000\n"
     ]
    },
    {
     "name": "stderr",
     "output_type": "stream",
     "text": [
      "Training: 100%|██████████| 24/24 [00:34<00:00,  1.45s/it, loss=0.625]\n",
      "Validation: 100%|██████████| 4/4 [00:01<00:00,  2.27it/s, loss=0.682]\n"
     ]
    },
    {
     "name": "stdout",
     "output_type": "stream",
     "text": [
      "Validation Dice Score\n",
      "Class 0: 0.9868, Class 1: 0.4681, Class 2: 0.0981, Class 3: 0.2782, \n",
      "Class 4: 0.1579, Class 5: 0.2721, Class 6: 0.2691, \n",
      "Training Loss: 0.6530, Validation Loss: 0.6938\n",
      "Epoch 75/4000\n"
     ]
    },
    {
     "name": "stderr",
     "output_type": "stream",
     "text": [
      "Training: 100%|██████████| 24/24 [00:34<00:00,  1.45s/it, loss=0.662]\n",
      "Validation: 100%|██████████| 4/4 [00:01<00:00,  2.26it/s, loss=0.653]\n"
     ]
    },
    {
     "name": "stdout",
     "output_type": "stream",
     "text": [
      "Validation Dice Score\n",
      "Class 0: 0.9885, Class 1: 0.4687, Class 2: 0.0928, Class 3: 0.4825, \n",
      "Class 4: 0.4063, Class 5: 0.3420, Class 6: 0.0666, \n",
      "Training Loss: 0.6491, Validation Loss: 0.6278\n",
      "Epoch 76/4000\n"
     ]
    },
    {
     "name": "stderr",
     "output_type": "stream",
     "text": [
      "Training: 100%|██████████| 24/24 [00:34<00:00,  1.45s/it, loss=0.58] \n",
      "Validation: 100%|██████████| 4/4 [00:01<00:00,  2.23it/s, loss=0.686]\n"
     ]
    },
    {
     "name": "stdout",
     "output_type": "stream",
     "text": [
      "Validation Dice Score\n",
      "Class 0: 0.9878, Class 1: 0.5014, Class 2: 0.0706, Class 3: 0.3520, \n",
      "Class 4: 0.4088, Class 5: 0.2117, Class 6: 0.0375, \n",
      "Training Loss: 0.6491, Validation Loss: 0.6834\n",
      "Epoch 77/4000\n"
     ]
    },
    {
     "name": "stderr",
     "output_type": "stream",
     "text": [
      "Training: 100%|██████████| 24/24 [00:34<00:00,  1.45s/it, loss=0.728]\n",
      "Validation: 100%|██████████| 4/4 [00:01<00:00,  2.26it/s, loss=0.749]\n"
     ]
    },
    {
     "name": "stdout",
     "output_type": "stream",
     "text": [
      "Validation Dice Score\n",
      "Class 0: 0.9901, Class 1: 0.6400, Class 2: 0.0000, Class 3: 0.2535, \n",
      "Class 4: 0.4351, Class 5: 0.1819, Class 6: 0.3399, \n",
      "Training Loss: 0.6644, Validation Loss: 0.6579\n",
      "Epoch 78/4000\n"
     ]
    },
    {
     "name": "stderr",
     "output_type": "stream",
     "text": [
      "Training: 100%|██████████| 24/24 [00:34<00:00,  1.45s/it, loss=0.613]\n",
      "Validation: 100%|██████████| 4/4 [00:01<00:00,  2.24it/s, loss=0.658]\n"
     ]
    },
    {
     "name": "stdout",
     "output_type": "stream",
     "text": [
      "Validation Dice Score\n",
      "Class 0: 0.9859, Class 1: 0.2887, Class 2: 0.1069, Class 3: 0.2794, \n",
      "Class 4: 0.2263, Class 5: 0.2550, Class 6: 0.3552, \n",
      "Training Loss: 0.6503, Validation Loss: 0.6799\n",
      "Epoch 79/4000\n"
     ]
    },
    {
     "name": "stderr",
     "output_type": "stream",
     "text": [
      "Training: 100%|██████████| 24/24 [00:34<00:00,  1.44s/it, loss=0.698]\n",
      "Validation: 100%|██████████| 4/4 [00:01<00:00,  2.26it/s, loss=0.654]\n"
     ]
    },
    {
     "name": "stdout",
     "output_type": "stream",
     "text": [
      "Validation Dice Score\n",
      "Class 0: 0.9878, Class 1: 0.4963, Class 2: 0.0701, Class 3: 0.6145, \n",
      "Class 4: 0.4751, Class 5: 0.2094, Class 6: 0.2716, \n",
      "Training Loss: 0.6639, Validation Loss: 0.6122\n",
      "Epoch 80/4000\n"
     ]
    },
    {
     "name": "stderr",
     "output_type": "stream",
     "text": [
      "Training: 100%|██████████| 24/24 [00:34<00:00,  1.45s/it, loss=0.732]\n",
      "Validation: 100%|██████████| 4/4 [00:01<00:00,  2.26it/s, loss=0.579]\n"
     ]
    },
    {
     "name": "stdout",
     "output_type": "stream",
     "text": [
      "Validation Dice Score\n",
      "Class 0: 0.9890, Class 1: 0.6844, Class 2: 0.1559, Class 3: 0.3924, \n",
      "Class 4: 0.3659, Class 5: 0.2156, Class 6: 0.1172, \n",
      "Training Loss: 0.6536, Validation Loss: 0.6263\n",
      "Epoch 81/4000\n"
     ]
    },
    {
     "name": "stderr",
     "output_type": "stream",
     "text": [
      "Training: 100%|██████████| 24/24 [00:34<00:00,  1.45s/it, loss=0.628]\n",
      "Validation: 100%|██████████| 4/4 [00:01<00:00,  2.26it/s, loss=0.647]\n"
     ]
    },
    {
     "name": "stdout",
     "output_type": "stream",
     "text": [
      "Validation Dice Score\n",
      "Class 0: 0.9843, Class 1: 0.5741, Class 2: 0.2025, Class 3: 0.2935, \n",
      "Class 4: 0.3092, Class 5: 0.3572, Class 6: 0.1741, \n",
      "Training Loss: 0.6537, Validation Loss: 0.6296\n",
      "Epoch 82/4000\n"
     ]
    },
    {
     "name": "stderr",
     "output_type": "stream",
     "text": [
      "Training: 100%|██████████| 24/24 [00:34<00:00,  1.44s/it, loss=0.583]\n",
      "Validation: 100%|██████████| 4/4 [00:01<00:00,  2.17it/s, loss=0.685]\n"
     ]
    },
    {
     "name": "stdout",
     "output_type": "stream",
     "text": [
      "Validation Dice Score\n",
      "Class 0: 0.9873, Class 1: 0.7463, Class 2: 0.1179, Class 3: 0.4563, \n",
      "Class 4: 0.2513, Class 5: 0.1599, Class 6: 0.1802, \n",
      "Training Loss: 0.6276, Validation Loss: 0.6506\n",
      "Epoch 83/4000\n"
     ]
    },
    {
     "name": "stderr",
     "output_type": "stream",
     "text": [
      "Training: 100%|██████████| 24/24 [00:34<00:00,  1.44s/it, loss=0.675]\n",
      "Validation: 100%|██████████| 4/4 [00:01<00:00,  2.32it/s, loss=0.636]\n"
     ]
    },
    {
     "name": "stdout",
     "output_type": "stream",
     "text": [
      "Validation Dice Score\n",
      "Class 0: 0.9869, Class 1: 0.7106, Class 2: 0.0449, Class 3: 0.4855, \n",
      "Class 4: 0.2349, Class 5: 0.3029, Class 6: 0.4568, \n",
      "Training Loss: 0.6486, Validation Loss: 0.6323\n",
      "Epoch 84/4000\n"
     ]
    },
    {
     "name": "stderr",
     "output_type": "stream",
     "text": [
      "Training: 100%|██████████| 24/24 [00:32<00:00,  1.36s/it, loss=0.576]\n",
      "Validation: 100%|██████████| 4/4 [00:01<00:00,  2.30it/s, loss=0.556]\n"
     ]
    },
    {
     "name": "stdout",
     "output_type": "stream",
     "text": [
      "Validation Dice Score\n",
      "Class 0: 0.9873, Class 1: 0.7473, Class 2: 0.0230, Class 3: 0.3253, \n",
      "Class 4: 0.4152, Class 5: 0.2009, Class 6: 0.2363, \n",
      "Training Loss: 0.6526, Validation Loss: 0.6373\n",
      "Epoch 85/4000\n"
     ]
    },
    {
     "name": "stderr",
     "output_type": "stream",
     "text": [
      "Training: 100%|██████████| 24/24 [00:32<00:00,  1.37s/it, loss=0.576]\n",
      "Validation: 100%|██████████| 4/4 [00:01<00:00,  2.32it/s, loss=0.518]\n"
     ]
    },
    {
     "name": "stdout",
     "output_type": "stream",
     "text": [
      "Validation Dice Score\n",
      "Class 0: 0.9890, Class 1: 0.6516, Class 2: 0.1266, Class 3: 0.4792, \n",
      "Class 4: 0.2857, Class 5: 0.2636, Class 6: 0.2301, \n",
      "Training Loss: 0.6271, Validation Loss: 0.6300\n",
      "Epoch 86/4000\n"
     ]
    },
    {
     "name": "stderr",
     "output_type": "stream",
     "text": [
      "Training: 100%|██████████| 24/24 [00:32<00:00,  1.37s/it, loss=0.631]\n",
      "Validation: 100%|██████████| 4/4 [00:01<00:00,  2.29it/s, loss=0.723]\n"
     ]
    },
    {
     "name": "stdout",
     "output_type": "stream",
     "text": [
      "Validation Dice Score\n",
      "Class 0: 0.9824, Class 1: 0.6297, Class 2: 0.0429, Class 3: 0.2224, \n",
      "Class 4: 0.2340, Class 5: 0.2522, Class 6: 0.0140, \n",
      "Training Loss: 0.6367, Validation Loss: 0.6799\n",
      "Epoch 87/4000\n"
     ]
    },
    {
     "name": "stderr",
     "output_type": "stream",
     "text": [
      "Training: 100%|██████████| 24/24 [00:32<00:00,  1.36s/it, loss=0.702]\n",
      "Validation: 100%|██████████| 4/4 [00:01<00:00,  2.35it/s, loss=0.646]\n"
     ]
    },
    {
     "name": "stdout",
     "output_type": "stream",
     "text": [
      "Validation Dice Score\n",
      "Class 0: 0.9835, Class 1: 0.4485, Class 2: 0.0961, Class 3: 0.3935, \n",
      "Class 4: 0.2349, Class 5: 0.2145, Class 6: 0.0003, \n",
      "Training Loss: 0.6451, Validation Loss: 0.7036\n",
      "Epoch 88/4000\n"
     ]
    },
    {
     "name": "stderr",
     "output_type": "stream",
     "text": [
      "Training: 100%|██████████| 24/24 [00:32<00:00,  1.36s/it, loss=0.657]\n",
      "Validation: 100%|██████████| 4/4 [00:01<00:00,  2.34it/s, loss=0.675]\n"
     ]
    },
    {
     "name": "stdout",
     "output_type": "stream",
     "text": [
      "Validation Dice Score\n",
      "Class 0: 0.9879, Class 1: 0.6263, Class 2: 0.0642, Class 3: 0.3786, \n",
      "Class 4: 0.0049, Class 5: 0.2879, Class 6: 0.3207, \n",
      "Training Loss: 0.6351, Validation Loss: 0.6573\n",
      "Epoch 89/4000\n"
     ]
    },
    {
     "name": "stderr",
     "output_type": "stream",
     "text": [
      "Training: 100%|██████████| 24/24 [00:32<00:00,  1.36s/it, loss=0.673]\n",
      "Validation: 100%|██████████| 4/4 [00:01<00:00,  2.27it/s, loss=0.578]\n"
     ]
    },
    {
     "name": "stdout",
     "output_type": "stream",
     "text": [
      "Validation Dice Score\n",
      "Class 0: 0.9875, Class 1: 0.7324, Class 2: 0.0142, Class 3: 0.5486, \n",
      "Class 4: 0.2361, Class 5: 0.3210, Class 6: 0.3154, \n",
      "Training Loss: 0.6464, Validation Loss: 0.6018\n",
      "Epoch 90/4000\n"
     ]
    },
    {
     "name": "stderr",
     "output_type": "stream",
     "text": [
      "Training: 100%|██████████| 24/24 [00:32<00:00,  1.37s/it, loss=0.697]\n",
      "Validation: 100%|██████████| 4/4 [00:01<00:00,  2.32it/s, loss=0.52] \n"
     ]
    },
    {
     "name": "stdout",
     "output_type": "stream",
     "text": [
      "Validation Dice Score\n",
      "Class 0: 0.9895, Class 1: 0.5029, Class 2: 0.1420, Class 3: 0.4584, \n",
      "Class 4: 0.3032, Class 5: 0.3459, Class 6: 0.4972, \n",
      "Training Loss: 0.6613, Validation Loss: 0.6065\n",
      "Epoch 91/4000\n"
     ]
    },
    {
     "name": "stderr",
     "output_type": "stream",
     "text": [
      "Training: 100%|██████████| 24/24 [00:32<00:00,  1.37s/it, loss=0.646]\n",
      "Validation: 100%|██████████| 4/4 [00:01<00:00,  2.26it/s, loss=0.619]\n"
     ]
    },
    {
     "name": "stdout",
     "output_type": "stream",
     "text": [
      "Validation Dice Score\n",
      "Class 0: 0.9842, Class 1: 0.6721, Class 2: 0.1180, Class 3: 0.2278, \n",
      "Class 4: 0.1444, Class 5: 0.2168, Class 6: 0.3172, \n",
      "Training Loss: 0.6313, Validation Loss: 0.6455\n",
      "Epoch 92/4000\n"
     ]
    },
    {
     "name": "stderr",
     "output_type": "stream",
     "text": [
      "Training: 100%|██████████| 24/24 [00:32<00:00,  1.37s/it, loss=0.637]\n",
      "Validation: 100%|██████████| 4/4 [00:01<00:00,  2.30it/s, loss=0.566]\n"
     ]
    },
    {
     "name": "stdout",
     "output_type": "stream",
     "text": [
      "Validation Dice Score\n",
      "Class 0: 0.9876, Class 1: 0.5521, Class 2: 0.1641, Class 3: 0.4872, \n",
      "Class 4: 0.3861, Class 5: 0.1779, Class 6: 0.0136, \n",
      "Training Loss: 0.6399, Validation Loss: 0.6535\n",
      "Epoch 93/4000\n"
     ]
    },
    {
     "name": "stderr",
     "output_type": "stream",
     "text": [
      "Training: 100%|██████████| 24/24 [00:32<00:00,  1.36s/it, loss=0.502]\n",
      "Validation: 100%|██████████| 4/4 [00:01<00:00,  2.33it/s, loss=0.789]\n"
     ]
    },
    {
     "name": "stdout",
     "output_type": "stream",
     "text": [
      "Validation Dice Score\n",
      "Class 0: 0.9838, Class 1: 0.5179, Class 2: 0.0078, Class 3: 0.3684, \n",
      "Class 4: 0.2721, Class 5: 0.1663, Class 6: 0.2330, \n",
      "Training Loss: 0.6423, Validation Loss: 0.6537\n",
      "Epoch 94/4000\n"
     ]
    },
    {
     "name": "stderr",
     "output_type": "stream",
     "text": [
      "Training: 100%|██████████| 24/24 [00:32<00:00,  1.36s/it, loss=0.704]\n",
      "Validation: 100%|██████████| 4/4 [00:01<00:00,  2.31it/s, loss=0.653]\n"
     ]
    },
    {
     "name": "stdout",
     "output_type": "stream",
     "text": [
      "Validation Dice Score\n",
      "Class 0: 0.9846, Class 1: 0.7175, Class 2: 0.0606, Class 3: 0.4104, \n",
      "Class 4: 0.3845, Class 5: 0.2604, Class 6: 0.4717, \n",
      "Training Loss: 0.6480, Validation Loss: 0.5799\n",
      "========================================================\n",
      "Best model saved with validation loss: 0.5799\n",
      "========================================================\n",
      "Epoch 95/4000\n"
     ]
    },
    {
     "name": "stderr",
     "output_type": "stream",
     "text": [
      "Training: 100%|██████████| 24/24 [00:33<00:00,  1.39s/it, loss=0.567]\n",
      "Validation: 100%|██████████| 4/4 [00:01<00:00,  2.29it/s, loss=0.641]\n"
     ]
    },
    {
     "name": "stdout",
     "output_type": "stream",
     "text": [
      "Validation Dice Score\n",
      "Class 0: 0.9866, Class 1: 0.7212, Class 2: 0.0949, Class 3: 0.2022, \n",
      "Class 4: 0.4907, Class 5: 0.2560, Class 6: 0.3245, \n",
      "Training Loss: 0.6464, Validation Loss: 0.6153\n",
      "Epoch 96/4000\n"
     ]
    },
    {
     "name": "stderr",
     "output_type": "stream",
     "text": [
      "Training: 100%|██████████| 24/24 [00:32<00:00,  1.36s/it, loss=0.56] \n",
      "Validation: 100%|██████████| 4/4 [00:01<00:00,  2.30it/s, loss=0.709]\n"
     ]
    },
    {
     "name": "stdout",
     "output_type": "stream",
     "text": [
      "Validation Dice Score\n",
      "Class 0: 0.9869, Class 1: 0.4803, Class 2: 0.1798, Class 3: 0.3200, \n",
      "Class 4: 0.3026, Class 5: 0.2016, Class 6: 0.2965, \n",
      "Training Loss: 0.6410, Validation Loss: 0.6572\n",
      "Epoch 97/4000\n"
     ]
    },
    {
     "name": "stderr",
     "output_type": "stream",
     "text": [
      "Training: 100%|██████████| 24/24 [00:32<00:00,  1.37s/it, loss=0.572]\n",
      "Validation: 100%|██████████| 4/4 [00:01<00:00,  2.36it/s, loss=0.625]\n"
     ]
    },
    {
     "name": "stdout",
     "output_type": "stream",
     "text": [
      "Validation Dice Score\n",
      "Class 0: 0.9873, Class 1: 0.6993, Class 2: 0.2213, Class 3: 0.4822, \n",
      "Class 4: 0.3486, Class 5: 0.2533, Class 6: 0.3796, \n",
      "Training Loss: 0.6379, Validation Loss: 0.5656\n",
      "========================================================\n",
      "Best model saved with validation loss: 0.5656\n",
      "========================================================\n",
      "Epoch 98/4000\n"
     ]
    },
    {
     "name": "stderr",
     "output_type": "stream",
     "text": [
      "Training: 100%|██████████| 24/24 [00:32<00:00,  1.37s/it, loss=0.664]\n",
      "Validation: 100%|██████████| 4/4 [00:01<00:00,  2.33it/s, loss=0.692]\n"
     ]
    },
    {
     "name": "stdout",
     "output_type": "stream",
     "text": [
      "Validation Dice Score\n",
      "Class 0: 0.9907, Class 1: 0.3768, Class 2: 0.0000, Class 3: 0.3643, \n",
      "Class 4: 0.3161, Class 5: 0.2122, Class 6: 0.0872, \n",
      "Training Loss: 0.6335, Validation Loss: 0.6946\n",
      "Epoch 99/4000\n"
     ]
    },
    {
     "name": "stderr",
     "output_type": "stream",
     "text": [
      "Training: 100%|██████████| 24/24 [00:32<00:00,  1.36s/it, loss=0.597]\n",
      "Validation: 100%|██████████| 4/4 [00:01<00:00,  2.34it/s, loss=0.628]\n"
     ]
    },
    {
     "name": "stdout",
     "output_type": "stream",
     "text": [
      "Validation Dice Score\n",
      "Class 0: 0.9883, Class 1: 0.5303, Class 2: 0.1940, Class 3: 0.3358, \n",
      "Class 4: 0.3588, Class 5: 0.1285, Class 6: 0.1777, \n",
      "Training Loss: 0.6382, Validation Loss: 0.6594\n",
      "Epoch 100/4000\n"
     ]
    },
    {
     "name": "stderr",
     "output_type": "stream",
     "text": [
      "Training: 100%|██████████| 24/24 [00:32<00:00,  1.37s/it, loss=0.639]\n",
      "Validation: 100%|██████████| 4/4 [00:01<00:00,  2.34it/s, loss=0.683]\n"
     ]
    },
    {
     "name": "stdout",
     "output_type": "stream",
     "text": [
      "Validation Dice Score\n",
      "Class 0: 0.9855, Class 1: 0.6893, Class 2: 0.1667, Class 3: 0.6379, \n",
      "Class 4: 0.3093, Class 5: 0.2631, Class 6: 0.2124, \n",
      "Training Loss: 0.6385, Validation Loss: 0.5810\n",
      "Epoch 101/4000\n"
     ]
    },
    {
     "name": "stderr",
     "output_type": "stream",
     "text": [
      "Training: 100%|██████████| 24/24 [00:39<00:00,  1.64s/it, loss=0.589]\n",
      "Validation: 100%|██████████| 4/4 [00:01<00:00,  2.09it/s, loss=0.67] \n"
     ]
    },
    {
     "name": "stdout",
     "output_type": "stream",
     "text": [
      "Validation Dice Score\n",
      "Class 0: 0.9873, Class 1: 0.4517, Class 2: 0.1281, Class 3: 0.5215, \n",
      "Class 4: 0.5171, Class 5: 0.1611, Class 6: 0.1536, \n",
      "Training Loss: 0.6463, Validation Loss: 0.6419\n",
      "Epoch 102/4000\n"
     ]
    },
    {
     "name": "stderr",
     "output_type": "stream",
     "text": [
      "Training: 100%|██████████| 24/24 [00:36<00:00,  1.52s/it, loss=0.734]\n",
      "Validation: 100%|██████████| 4/4 [00:01<00:00,  2.13it/s, loss=0.582]\n"
     ]
    },
    {
     "name": "stdout",
     "output_type": "stream",
     "text": [
      "Validation Dice Score\n",
      "Class 0: 0.9834, Class 1: 0.5205, Class 2: 0.1191, Class 3: 0.3421, \n",
      "Class 4: 0.1415, Class 5: 0.2769, Class 6: 0.3399, \n",
      "Training Loss: 0.6383, Validation Loss: 0.6535\n",
      "Epoch 103/4000\n"
     ]
    },
    {
     "name": "stderr",
     "output_type": "stream",
     "text": [
      "Training: 100%|██████████| 24/24 [00:38<00:00,  1.61s/it, loss=0.714]\n",
      "Validation: 100%|██████████| 4/4 [00:01<00:00,  2.06it/s, loss=0.593]\n"
     ]
    },
    {
     "name": "stdout",
     "output_type": "stream",
     "text": [
      "Validation Dice Score\n",
      "Class 0: 0.9873, Class 1: 0.4705, Class 2: 0.0376, Class 3: 0.3447, \n",
      "Class 4: 0.6594, Class 5: 0.1663, Class 6: 0.1704, \n",
      "Training Loss: 0.6367, Validation Loss: 0.6300\n",
      "Epoch 104/4000\n"
     ]
    },
    {
     "name": "stderr",
     "output_type": "stream",
     "text": [
      "Training: 100%|██████████| 24/24 [00:37<00:00,  1.58s/it, loss=0.598]\n",
      "Validation: 100%|██████████| 4/4 [00:01<00:00,  2.13it/s, loss=0.544]\n"
     ]
    },
    {
     "name": "stdout",
     "output_type": "stream",
     "text": [
      "Validation Dice Score\n",
      "Class 0: 0.9886, Class 1: 0.6623, Class 2: 0.0433, Class 3: 0.6014, \n",
      "Class 4: 0.3907, Class 5: 0.2029, Class 6: 0.5949, \n",
      "Training Loss: 0.6342, Validation Loss: 0.5836\n",
      "Epoch 105/4000\n"
     ]
    },
    {
     "name": "stderr",
     "output_type": "stream",
     "text": [
      "Training: 100%|██████████| 24/24 [00:38<00:00,  1.62s/it, loss=0.6]  \n",
      "Validation: 100%|██████████| 4/4 [00:01<00:00,  2.04it/s, loss=0.603]\n"
     ]
    },
    {
     "name": "stdout",
     "output_type": "stream",
     "text": [
      "Validation Dice Score\n",
      "Class 0: 0.9895, Class 1: 0.7404, Class 2: 0.0155, Class 3: 0.2885, \n",
      "Class 4: 0.4602, Class 5: 0.3093, Class 6: 0.2591, \n",
      "Training Loss: 0.6137, Validation Loss: 0.6187\n",
      "Epoch 106/4000\n"
     ]
    },
    {
     "name": "stderr",
     "output_type": "stream",
     "text": [
      "Training: 100%|██████████| 24/24 [00:40<00:00,  1.71s/it, loss=0.732]\n",
      "Validation: 100%|██████████| 4/4 [00:01<00:00,  2.07it/s, loss=0.709]\n"
     ]
    },
    {
     "name": "stdout",
     "output_type": "stream",
     "text": [
      "Validation Dice Score\n",
      "Class 0: 0.9879, Class 1: 0.5417, Class 2: 0.1574, Class 3: 0.2832, \n",
      "Class 4: 0.2892, Class 5: 0.2539, Class 6: 0.1649, \n",
      "Training Loss: 0.6612, Validation Loss: 0.6783\n",
      "Epoch 107/4000\n"
     ]
    },
    {
     "name": "stderr",
     "output_type": "stream",
     "text": [
      "Training: 100%|██████████| 24/24 [00:38<00:00,  1.59s/it, loss=0.701]\n",
      "Validation: 100%|██████████| 4/4 [00:01<00:00,  2.04it/s, loss=0.758]\n"
     ]
    },
    {
     "name": "stdout",
     "output_type": "stream",
     "text": [
      "Validation Dice Score\n",
      "Class 0: 0.9842, Class 1: 0.4479, Class 2: 0.0966, Class 3: 0.2631, \n",
      "Class 4: 0.0626, Class 5: 0.1347, Class 6: 0.3812, \n",
      "Training Loss: 0.6190, Validation Loss: 0.7053\n",
      "Epoch 108/4000\n"
     ]
    },
    {
     "name": "stderr",
     "output_type": "stream",
     "text": [
      "Training: 100%|██████████| 24/24 [00:38<00:00,  1.61s/it, loss=0.543]\n",
      "Validation: 100%|██████████| 4/4 [00:01<00:00,  2.08it/s, loss=0.557]\n"
     ]
    },
    {
     "name": "stdout",
     "output_type": "stream",
     "text": [
      "Validation Dice Score\n",
      "Class 0: 0.9887, Class 1: 0.6407, Class 2: 0.3580, Class 3: 0.4152, \n",
      "Class 4: 0.3357, Class 5: 0.2859, Class 6: 0.2539, \n",
      "Training Loss: 0.6412, Validation Loss: 0.5878\n",
      "Epoch 109/4000\n"
     ]
    },
    {
     "name": "stderr",
     "output_type": "stream",
     "text": [
      "Training: 100%|██████████| 24/24 [00:38<00:00,  1.59s/it, loss=0.549]\n",
      "Validation: 100%|██████████| 4/4 [00:01<00:00,  2.11it/s, loss=0.733]\n"
     ]
    },
    {
     "name": "stdout",
     "output_type": "stream",
     "text": [
      "Validation Dice Score\n",
      "Class 0: 0.9879, Class 1: 0.5057, Class 2: 0.0960, Class 3: 0.3824, \n",
      "Class 4: 0.2724, Class 5: 0.1659, Class 6: 0.0000, \n",
      "Training Loss: 0.6109, Validation Loss: 0.7127\n",
      "Epoch 110/4000\n"
     ]
    },
    {
     "name": "stderr",
     "output_type": "stream",
     "text": [
      "Training: 100%|██████████| 24/24 [00:39<00:00,  1.63s/it, loss=0.728]\n",
      "Validation: 100%|██████████| 4/4 [00:01<00:00,  2.17it/s, loss=0.665]\n"
     ]
    },
    {
     "name": "stdout",
     "output_type": "stream",
     "text": [
      "Validation Dice Score\n",
      "Class 0: 0.9848, Class 1: 0.4200, Class 2: 0.1388, Class 3: 0.4214, \n",
      "Class 4: 0.1667, Class 5: 0.2077, Class 6: 0.1667, \n",
      "Training Loss: 0.6425, Validation Loss: 0.6714\n",
      "Epoch 111/4000\n"
     ]
    },
    {
     "name": "stderr",
     "output_type": "stream",
     "text": [
      "Training: 100%|██████████| 24/24 [00:38<00:00,  1.61s/it, loss=0.657]\n",
      "Validation: 100%|██████████| 4/4 [00:01<00:00,  2.20it/s, loss=0.723]\n"
     ]
    },
    {
     "name": "stdout",
     "output_type": "stream",
     "text": [
      "Validation Dice Score\n",
      "Class 0: 0.9851, Class 1: 0.5139, Class 2: 0.1971, Class 3: 0.3293, \n",
      "Class 4: 0.3117, Class 5: 0.1452, Class 6: 0.0006, \n",
      "Training Loss: 0.6383, Validation Loss: 0.6961\n",
      "Epoch 112/4000\n"
     ]
    },
    {
     "name": "stderr",
     "output_type": "stream",
     "text": [
      "Training: 100%|██████████| 24/24 [00:37<00:00,  1.58s/it, loss=0.636]\n",
      "Validation: 100%|██████████| 4/4 [00:01<00:00,  2.18it/s, loss=0.673]\n"
     ]
    },
    {
     "name": "stdout",
     "output_type": "stream",
     "text": [
      "Validation Dice Score\n",
      "Class 0: 0.9886, Class 1: 0.5296, Class 2: 0.0839, Class 3: 0.3637, \n",
      "Class 4: 0.5756, Class 5: 0.2433, Class 6: 0.2975, \n",
      "Training Loss: 0.6570, Validation Loss: 0.6145\n",
      "Epoch 113/4000\n"
     ]
    },
    {
     "name": "stderr",
     "output_type": "stream",
     "text": [
      "Training: 100%|██████████| 24/24 [00:38<00:00,  1.59s/it, loss=0.671]\n",
      "Validation: 100%|██████████| 4/4 [00:01<00:00,  2.12it/s, loss=0.657]\n"
     ]
    },
    {
     "name": "stdout",
     "output_type": "stream",
     "text": [
      "Validation Dice Score\n",
      "Class 0: 0.9866, Class 1: 0.4166, Class 2: 0.1771, Class 3: 0.5087, \n",
      "Class 4: 0.2054, Class 5: 0.2731, Class 6: 0.1586, \n",
      "Training Loss: 0.6518, Validation Loss: 0.6508\n",
      "Epoch 114/4000\n"
     ]
    },
    {
     "name": "stderr",
     "output_type": "stream",
     "text": [
      "Training: 100%|██████████| 24/24 [00:37<00:00,  1.57s/it, loss=0.721]\n",
      "Validation: 100%|██████████| 4/4 [00:01<00:00,  2.07it/s, loss=0.652]\n"
     ]
    },
    {
     "name": "stdout",
     "output_type": "stream",
     "text": [
      "Validation Dice Score\n",
      "Class 0: 0.9869, Class 1: 0.7760, Class 2: 0.0401, Class 3: 0.4065, \n",
      "Class 4: 0.4448, Class 5: 0.2948, Class 6: 0.5428, \n",
      "Training Loss: 0.6218, Validation Loss: 0.5810\n",
      "Epoch 115/4000\n"
     ]
    },
    {
     "name": "stderr",
     "output_type": "stream",
     "text": [
      "Training: 100%|██████████| 24/24 [00:38<00:00,  1.62s/it, loss=0.619]\n",
      "Validation: 100%|██████████| 4/4 [00:01<00:00,  2.05it/s, loss=0.611]\n"
     ]
    },
    {
     "name": "stdout",
     "output_type": "stream",
     "text": [
      "Validation Dice Score\n",
      "Class 0: 0.9871, Class 1: 0.7145, Class 2: 0.1469, Class 3: 0.5956, \n",
      "Class 4: 0.3636, Class 5: 0.3006, Class 6: 0.5384, \n",
      "Training Loss: 0.6138, Validation Loss: 0.5844\n",
      "Epoch 116/4000\n"
     ]
    },
    {
     "name": "stderr",
     "output_type": "stream",
     "text": [
      "Training: 100%|██████████| 24/24 [00:38<00:00,  1.59s/it, loss=0.603]\n",
      "Validation: 100%|██████████| 4/4 [00:01<00:00,  2.12it/s, loss=0.571]\n"
     ]
    },
    {
     "name": "stdout",
     "output_type": "stream",
     "text": [
      "Validation Dice Score\n",
      "Class 0: 0.9852, Class 1: 0.7324, Class 2: 0.1643, Class 3: 0.4902, \n",
      "Class 4: 0.4298, Class 5: 0.2639, Class 6: 0.2273, \n",
      "Training Loss: 0.6336, Validation Loss: 0.5787\n",
      "Epoch 117/4000\n"
     ]
    },
    {
     "name": "stderr",
     "output_type": "stream",
     "text": [
      "Training: 100%|██████████| 24/24 [00:38<00:00,  1.60s/it, loss=0.543]\n",
      "Validation: 100%|██████████| 4/4 [00:01<00:00,  2.10it/s, loss=0.729]\n"
     ]
    },
    {
     "name": "stdout",
     "output_type": "stream",
     "text": [
      "Validation Dice Score\n",
      "Class 0: 0.9859, Class 1: 0.5963, Class 2: 0.0354, Class 3: 0.4894, \n",
      "Class 4: 0.3174, Class 5: 0.2263, Class 6: 0.0766, \n",
      "Training Loss: 0.6160, Validation Loss: 0.6918\n",
      "Epoch 118/4000\n"
     ]
    },
    {
     "name": "stderr",
     "output_type": "stream",
     "text": [
      "Training: 100%|██████████| 24/24 [00:38<00:00,  1.59s/it, loss=0.581]\n",
      "Validation: 100%|██████████| 4/4 [00:01<00:00,  2.05it/s, loss=0.488]\n"
     ]
    },
    {
     "name": "stdout",
     "output_type": "stream",
     "text": [
      "Validation Dice Score\n",
      "Class 0: 0.9872, Class 1: 0.5361, Class 2: 0.2364, Class 3: 0.6158, \n",
      "Class 4: 0.2550, Class 5: 0.2629, Class 6: 0.2599, \n",
      "Training Loss: 0.6074, Validation Loss: 0.6029\n",
      "Epoch 119/4000\n"
     ]
    },
    {
     "name": "stderr",
     "output_type": "stream",
     "text": [
      "Training: 100%|██████████| 24/24 [00:39<00:00,  1.64s/it, loss=0.657]\n",
      "Validation: 100%|██████████| 4/4 [00:01<00:00,  2.11it/s, loss=0.603]\n"
     ]
    },
    {
     "name": "stdout",
     "output_type": "stream",
     "text": [
      "Validation Dice Score\n",
      "Class 0: 0.9897, Class 1: 0.7011, Class 2: 0.2070, Class 3: 0.3493, \n",
      "Class 4: 0.3250, Class 5: 0.2730, Class 6: 0.4138, \n",
      "Training Loss: 0.6394, Validation Loss: 0.6128\n",
      "Epoch 120/4000\n"
     ]
    },
    {
     "name": "stderr",
     "output_type": "stream",
     "text": [
      "Training: 100%|██████████| 24/24 [00:38<00:00,  1.60s/it, loss=0.679]\n",
      "Validation: 100%|██████████| 4/4 [00:01<00:00,  2.08it/s, loss=0.717]\n"
     ]
    },
    {
     "name": "stdout",
     "output_type": "stream",
     "text": [
      "Validation Dice Score\n",
      "Class 0: 0.9901, Class 1: 0.6231, Class 2: 0.0119, Class 3: 0.3960, \n",
      "Class 4: 0.4532, Class 5: 0.2634, Class 6: 0.3311, \n",
      "Training Loss: 0.6292, Validation Loss: 0.6495\n",
      "Epoch 121/4000\n"
     ]
    },
    {
     "name": "stderr",
     "output_type": "stream",
     "text": [
      "Training: 100%|██████████| 24/24 [00:38<00:00,  1.62s/it, loss=0.64] \n",
      "Validation: 100%|██████████| 4/4 [00:01<00:00,  2.10it/s, loss=0.587]\n"
     ]
    },
    {
     "name": "stdout",
     "output_type": "stream",
     "text": [
      "Validation Dice Score\n",
      "Class 0: 0.9868, Class 1: 0.6142, Class 2: 0.1596, Class 3: 0.4247, \n",
      "Class 4: 0.2203, Class 5: 0.3206, Class 6: 0.4530, \n",
      "Training Loss: 0.6431, Validation Loss: 0.6044\n",
      "Epoch 122/4000\n"
     ]
    },
    {
     "name": "stderr",
     "output_type": "stream",
     "text": [
      "Training: 100%|██████████| 24/24 [00:36<00:00,  1.51s/it, loss=0.661]\n",
      "Validation: 100%|██████████| 4/4 [00:01<00:00,  2.16it/s, loss=0.671]\n"
     ]
    },
    {
     "name": "stdout",
     "output_type": "stream",
     "text": [
      "Validation Dice Score\n",
      "Class 0: 0.9860, Class 1: 0.3619, Class 2: 0.0617, Class 3: 0.4890, \n",
      "Class 4: 0.4692, Class 5: 0.2793, Class 6: 0.3269, \n",
      "Training Loss: 0.6170, Validation Loss: 0.6463\n",
      "Epoch 123/4000\n"
     ]
    },
    {
     "name": "stderr",
     "output_type": "stream",
     "text": [
      "Training: 100%|██████████| 24/24 [00:36<00:00,  1.51s/it, loss=0.539]\n",
      "Validation: 100%|██████████| 4/4 [00:01<00:00,  2.17it/s, loss=0.646]\n"
     ]
    },
    {
     "name": "stdout",
     "output_type": "stream",
     "text": [
      "Validation Dice Score\n",
      "Class 0: 0.9871, Class 1: 0.6851, Class 2: 0.1216, Class 3: 0.2990, \n",
      "Class 4: 0.0892, Class 5: 0.2455, Class 6: 0.3118, \n",
      "Training Loss: 0.6368, Validation Loss: 0.6687\n",
      "Epoch 124/4000\n"
     ]
    },
    {
     "name": "stderr",
     "output_type": "stream",
     "text": [
      "Training: 100%|██████████| 24/24 [00:37<00:00,  1.55s/it, loss=0.618]\n",
      "Validation: 100%|██████████| 4/4 [00:01<00:00,  2.05it/s, loss=0.577]\n"
     ]
    },
    {
     "name": "stdout",
     "output_type": "stream",
     "text": [
      "Validation Dice Score\n",
      "Class 0: 0.9899, Class 1: 0.7206, Class 2: 0.0152, Class 3: 0.2569, \n",
      "Class 4: 0.1684, Class 5: 0.1350, Class 6: 0.7041, \n",
      "Training Loss: 0.6444, Validation Loss: 0.6330\n",
      "Epoch 125/4000\n"
     ]
    },
    {
     "name": "stderr",
     "output_type": "stream",
     "text": [
      "Training: 100%|██████████| 24/24 [00:39<00:00,  1.65s/it, loss=0.65] \n",
      "Validation: 100%|██████████| 4/4 [00:01<00:00,  2.15it/s, loss=0.536]\n"
     ]
    },
    {
     "name": "stdout",
     "output_type": "stream",
     "text": [
      "Validation Dice Score\n",
      "Class 0: 0.9877, Class 1: 0.8129, Class 2: 0.0478, Class 3: 0.4204, \n",
      "Class 4: 0.4128, Class 5: 0.2114, Class 6: 0.4924, \n",
      "Training Loss: 0.6450, Validation Loss: 0.5748\n",
      "Epoch 126/4000\n"
     ]
    },
    {
     "name": "stderr",
     "output_type": "stream",
     "text": [
      "Training: 100%|██████████| 24/24 [00:38<00:00,  1.59s/it, loss=0.702]\n",
      "Validation: 100%|██████████| 4/4 [00:01<00:00,  2.13it/s, loss=0.631]\n"
     ]
    },
    {
     "name": "stdout",
     "output_type": "stream",
     "text": [
      "Validation Dice Score\n",
      "Class 0: 0.9844, Class 1: 0.6788, Class 2: 0.0611, Class 3: 0.3793, \n",
      "Class 4: 0.4212, Class 5: 0.1872, Class 6: 0.3428, \n",
      "Training Loss: 0.6280, Validation Loss: 0.6337\n",
      "Epoch 127/4000\n"
     ]
    },
    {
     "name": "stderr",
     "output_type": "stream",
     "text": [
      "Training: 100%|██████████| 24/24 [00:38<00:00,  1.59s/it, loss=0.779]\n",
      "Validation: 100%|██████████| 4/4 [00:01<00:00,  2.11it/s, loss=0.665]\n"
     ]
    },
    {
     "name": "stdout",
     "output_type": "stream",
     "text": [
      "Validation Dice Score\n",
      "Class 0: 0.9849, Class 1: 0.6429, Class 2: 0.0027, Class 3: 0.3862, \n",
      "Class 4: 0.2535, Class 5: 0.2937, Class 6: 0.3981, \n",
      "Training Loss: 0.6357, Validation Loss: 0.6415\n",
      "Epoch 128/4000\n"
     ]
    },
    {
     "name": "stderr",
     "output_type": "stream",
     "text": [
      "Training:  38%|███▊      | 9/24 [00:14<00:24,  1.60s/it, loss=0.608]"
     ]
    }
   ],
   "source": [
    "from monai.metrics import DiceMetric\n",
    "\n",
    "def create_metric_dict(num_classes):\n",
    "    \"\"\"각 클래스별 DiceMetric 생성\"\"\"\n",
    "    metrics = {}\n",
    "    for i in range(num_classes):\n",
    "        metrics[f'dice_class_{i}'] = DiceMetric(\n",
    "            include_background=False if i == 0 else False,\n",
    "            reduction=\"mean\",\n",
    "            get_not_nans=False\n",
    "        )\n",
    "    return metrics\n",
    "    \n",
    "def processing(batch_data, model, criterion, device):\n",
    "    images = batch_data['image'].to(device)  # Input 이미지 (B, 1, 96, 96, 96)\n",
    "    labels = batch_data['label'].to(device)  # 라벨 (B, 96, 96, 96)\n",
    "\n",
    "    labels = labels.squeeze(1)  # (B, 1, 96, 96, 96) → (B, 96, 96, 96)\n",
    "    labels = labels.long()  # 라벨을 정수형으로 변환\n",
    "\n",
    "    # 원핫 인코딩 (B, H, W, D) → (B, num_classes, H, W, D)\n",
    "    \n",
    "    labels_onehot = torch.nn.functional.one_hot(labels, num_classes=n_classes)\n",
    "    labels_onehot = labels_onehot.permute(0, 4, 1, 2, 3).float()  # (B, num_classes, H, W, D)\n",
    "\n",
    "    # 모델 예측\n",
    "    outputs = model(images)  # outputs: (B, num_classes, H, W, D)\n",
    "\n",
    "    # Loss 계산\n",
    "    loss = criterion(outputs, labels_onehot)\n",
    "\n",
    "    return loss, outputs, labels, outputs.argmax(dim=1)\n",
    "\n",
    "def train_one_epoch(model, train_loader, criterion, optimizer, device):\n",
    "    model.train()\n",
    "    epoch_loss = 0\n",
    "    with tqdm(train_loader, desc='Training') as pbar:\n",
    "        for batch_data in pbar:\n",
    "            optimizer.zero_grad()\n",
    "            loss, _, _, _ = processing(batch_data, model, criterion, device)\n",
    "            loss.backward()\n",
    "            optimizer.step()\n",
    "\n",
    "            epoch_loss += loss.item()\n",
    "            pbar.set_postfix(loss=loss.item())\n",
    "\n",
    "    return epoch_loss / len(train_loader)\n",
    "\n",
    "def validate_one_epoch(model, val_loader, criterion, device, epoch, calculate_dice_interval):\n",
    "    model.eval()\n",
    "    val_loss = 0\n",
    "    metrics = create_metric_dict(n_classes)\n",
    "    class_dice_scores = {i: [] for i in range(n_classes)}\n",
    "    with torch.no_grad():\n",
    "        with tqdm(val_loader, desc='Validation') as pbar:\n",
    "            for batch_data in pbar:\n",
    "                loss, _, labels, preds = processing(batch_data, model, criterion, device)\n",
    "                val_loss += loss.item()\n",
    "                pbar.set_postfix(loss=loss.item())\n",
    "\n",
    "                # 각 클래스별 Dice 점수 계산\n",
    "                if epoch % calculate_dice_interval == 0:\n",
    "                    for i in range(n_classes):\n",
    "                        pred_i = (preds == i)\n",
    "                        label_i = (labels == i)\n",
    "                        dice_score = (2.0 * torch.sum(pred_i & label_i)) / (torch.sum(pred_i) + torch.sum(label_i) + 1e-8)\n",
    "                        class_dice_scores[i].append(dice_score.item())\n",
    "\n",
    "    # 각 클래스별 평균 Dice 점수 출력\n",
    "    if epoch % calculate_dice_interval == 0:\n",
    "        print(\"Validation Dice Score\")\n",
    "        for i in range(n_classes):\n",
    "            mean_dice = np.mean(class_dice_scores[i])\n",
    "            print(f\"Class {i}: {mean_dice:.4f}\", end=\", \")\n",
    "            if i == 3:\n",
    "                print()\n",
    "        print()\n",
    "\n",
    "    return val_loss / len(val_loader)\n",
    "\n",
    "def train_model(\n",
    "    model, train_loader, val_loader, criterion, optimizer, num_epochs, patience, \n",
    "    device, start_epoch, best_val_loss, calculate_dice_interval=1\n",
    "):\n",
    "    \"\"\"\n",
    "    모델을 학습하고 검증하는 함수\n",
    "    Args:\n",
    "        model: 학습할 모델\n",
    "        train_loader: 학습 데이터 로더\n",
    "        val_loader: 검증 데이터 로더\n",
    "        criterion: 손실 함수\n",
    "        optimizer: 최적화 알고리즘\n",
    "        num_epochs: 총 학습 epoch 수\n",
    "        patience: early stopping 기준\n",
    "        device: GPU/CPU 장치\n",
    "        start_epoch: 시작 epoch\n",
    "        best_val_loss: 이전 최적 validation loss\n",
    "        calculate_dice_interval: Dice 점수 계산 주기\n",
    "    \"\"\"\n",
    "\n",
    "    epochs_no_improve = 0\n",
    "\n",
    "    for epoch in range(start_epoch, num_epochs):\n",
    "        print(f\"Epoch {epoch + 1}/{num_epochs}\")\n",
    "\n",
    "        # Train One Epoch\n",
    "        train_loss = train_one_epoch(\n",
    "            model=model, \n",
    "            train_loader=train_loader, \n",
    "            criterion=criterion, \n",
    "            optimizer=optimizer, \n",
    "            device=device\n",
    "        )\n",
    "\n",
    "        # Validate One Epoch\n",
    "        val_loss = validate_one_epoch(\n",
    "            model=model, \n",
    "            val_loader=val_loader, \n",
    "            criterion=criterion, \n",
    "            device=device, \n",
    "            epoch=epoch, \n",
    "            calculate_dice_interval=calculate_dice_interval\n",
    "        )\n",
    "\n",
    "        print(f\"Training Loss: {train_loss:.4f}, Validation Loss: {val_loss:.4f}\")\n",
    "\n",
    "        # Early stopping 및 모델 저장 로직\n",
    "        if val_loss < best_val_loss:\n",
    "            best_val_loss = val_loss\n",
    "            epochs_no_improve = 0\n",
    "            checkpoint_path = os.path.join(checkpoint_dir, 'best_model.pt')\n",
    "            torch.save({\n",
    "                'epoch': epoch + 1,\n",
    "                'model_state_dict': model.state_dict(),\n",
    "                'optimizer_state_dict': optimizer.state_dict(),\n",
    "                'best_val_loss': best_val_loss,\n",
    "            }, checkpoint_path)\n",
    "            print(f\"========================================================\")\n",
    "            print(f\"Best model saved with validation loss: {best_val_loss:.4f}\")\n",
    "            print(f\"========================================================\")\n",
    "        else:\n",
    "            epochs_no_improve += 1\n",
    "\n",
    "        if epochs_no_improve >= patience:\n",
    "            print(\"Early stopping\")\n",
    "            break\n",
    "\n",
    "train_model(\n",
    "    model=model,\n",
    "    train_loader=train_loader,\n",
    "    val_loader=val_loader,\n",
    "    criterion=criterion,\n",
    "    optimizer=optimizer,\n",
    "    num_epochs=num_epochs,\n",
    "    patience=50,\n",
    "    device=device,\n",
    "    start_epoch=start_epoch,\n",
    "    best_val_loss=best_val_loss,\n",
    "    calculate_dice_interval=1\n",
    ")"
   ]
  },
  {
   "cell_type": "code",
   "execution_count": null,
   "metadata": {},
   "outputs": [
    {
     "ename": "SyntaxError",
     "evalue": "invalid syntax (879943805.py, line 1)",
     "output_type": "error",
     "traceback": [
      "\u001b[1;36m  Cell \u001b[1;32mIn[10], line 1\u001b[1;36m\u001b[0m\n\u001b[1;33m    if:\u001b[0m\n\u001b[1;37m      ^\u001b[0m\n\u001b[1;31mSyntaxError\u001b[0m\u001b[1;31m:\u001b[0m invalid syntax\n"
     ]
    }
   ],
   "source": [
    "if:"
   ]
  },
  {
   "cell_type": "markdown",
   "metadata": {},
   "source": [
    "# Inference"
   ]
  },
  {
   "cell_type": "code",
   "execution_count": null,
   "metadata": {},
   "outputs": [],
   "source": [
    "from src.dataset.preprocessing import Preprocessor"
   ]
  },
  {
   "cell_type": "code",
   "execution_count": null,
   "metadata": {},
   "outputs": [
    {
     "name": "stdout",
     "output_type": "stream",
     "text": [
      "Done.\n"
     ]
    }
   ],
   "source": [
    "from monai.inferers import sliding_window_inference\n",
    "from monai.transforms import Compose, EnsureChannelFirstd, NormalizeIntensityd, Orientationd, GaussianSmoothd\n",
    "from monai.data import DataLoader, Dataset, CacheDataset\n",
    "from monai.networks.nets import SwinUNETR\n",
    "from pathlib import Path\n",
    "import numpy as np\n",
    "import copick\n",
    "\n",
    "import torch\n",
    "print(\"Done.\")"
   ]
  },
  {
   "cell_type": "code",
   "execution_count": null,
   "metadata": {},
   "outputs": [
    {
     "name": "stdout",
     "output_type": "stream",
     "text": [
      "Config file written to ./kaggle/working/copick.config\n",
      "file length: 7\n"
     ]
    }
   ],
   "source": [
    "config_blob = \"\"\"{\n",
    "    \"name\": \"czii_cryoet_mlchallenge_2024\",\n",
    "    \"description\": \"2024 CZII CryoET ML Challenge training data.\",\n",
    "    \"version\": \"1.0.0\",\n",
    "\n",
    "    \"pickable_objects\": [\n",
    "        {\n",
    "            \"name\": \"apo-ferritin\",\n",
    "            \"is_particle\": true,\n",
    "            \"pdb_id\": \"4V1W\",\n",
    "            \"label\": 1,\n",
    "            \"color\": [  0, 117, 220, 128],\n",
    "            \"radius\": 60,\n",
    "            \"map_threshold\": 0.0418\n",
    "        },\n",
    "        {\n",
    "          \"name\" : \"beta-amylase\",\n",
    "            \"is_particle\": true,\n",
    "            \"pdb_id\": \"8ZRZ\",\n",
    "            \"label\": 2,\n",
    "            \"color\": [255, 255, 255, 128],\n",
    "            \"radius\": 90,\n",
    "            \"map_threshold\": 0.0578  \n",
    "        },\n",
    "        {\n",
    "            \"name\": \"beta-galactosidase\",\n",
    "            \"is_particle\": true,\n",
    "            \"pdb_id\": \"6X1Q\",\n",
    "            \"label\": 3,\n",
    "            \"color\": [ 76,   0,  92, 128],\n",
    "            \"radius\": 90,\n",
    "            \"map_threshold\": 0.0578\n",
    "        },\n",
    "        {\n",
    "            \"name\": \"ribosome\",\n",
    "            \"is_particle\": true,\n",
    "            \"pdb_id\": \"6EK0\",\n",
    "            \"label\": 4,\n",
    "            \"color\": [  0,  92,  49, 128],\n",
    "            \"radius\": 150,\n",
    "            \"map_threshold\": 0.0374\n",
    "        },\n",
    "        {\n",
    "            \"name\": \"thyroglobulin\",\n",
    "            \"is_particle\": true,\n",
    "            \"pdb_id\": \"6SCJ\",\n",
    "            \"label\": 5,\n",
    "            \"color\": [ 43, 206,  72, 128],\n",
    "            \"radius\": 130,\n",
    "            \"map_threshold\": 0.0278\n",
    "        },\n",
    "        {\n",
    "            \"name\": \"virus-like-particle\",\n",
    "            \"is_particle\": true,\n",
    "            \"label\": 6,\n",
    "            \"color\": [255, 204, 153, 128],\n",
    "            \"radius\": 135,\n",
    "            \"map_threshold\": 0.201\n",
    "        },\n",
    "        {\n",
    "            \"name\": \"membrane\",\n",
    "            \"is_particle\": false,\n",
    "            \"label\": 8,\n",
    "            \"color\": [100, 100, 100, 128]\n",
    "        },\n",
    "        {\n",
    "            \"name\": \"background\",\n",
    "            \"is_particle\": false,\n",
    "            \"label\": 9,\n",
    "            \"color\": [10, 150, 200, 128]\n",
    "        }\n",
    "    ],\n",
    "\n",
    "    \"overlay_root\": \"./kaggle/working/overlay\",\n",
    "\n",
    "    \"overlay_fs_args\": {\n",
    "        \"auto_mkdir\": true\n",
    "    },\n",
    "\n",
    "    \"static_root\": \"./kaggle/input/czii-cryo-et-object-identification/test/static\"\n",
    "}\"\"\"\n",
    "\n",
    "copick_config_path = \"./kaggle/working/copick.config\"\n",
    "preprocessor = Preprocessor(config_blob,copick_config_path=copick_config_path)\n",
    "non_random_transforms = Compose([\n",
    "    EnsureChannelFirstd(keys=[\"image\"], channel_dim=\"no_channel\"),\n",
    "    NormalizeIntensityd(keys=\"image\"),\n",
    "    Orientationd(keys=[\"image\"], axcodes=\"RAS\"),\n",
    "    GaussianSmoothd(\n",
    "        keys=[\"image\"],      # 변환을 적용할 키\n",
    "        sigma=[1.0, 1.0, 1.0]  # 각 축(x, y, z)의 시그마 값\n",
    "        ),\n",
    "    ])"
   ]
  },
  {
   "cell_type": "code",
   "execution_count": null,
   "metadata": {},
   "outputs": [
    {
     "name": "stderr",
     "output_type": "stream",
     "text": [
      "c:\\ProgramData\\anaconda3\\envs\\ship\\Lib\\site-packages\\monai\\utils\\deprecate_utils.py:221: FutureWarning: monai.networks.nets.swin_unetr SwinUNETR.__init__:img_size: Argument `img_size` has been deprecated since version 1.3. It will be removed in version 1.5. The img_size argument is not required anymore and checks on the input size are run during forward().\n",
      "  warn_deprecated(argname, msg, warning_category)\n",
      "C:\\Users\\Seungwoo\\AppData\\Local\\Temp\\ipykernel_38640\\2937359115.py:15: FutureWarning: You are using `torch.load` with `weights_only=False` (the current default value), which uses the default pickle module implicitly. It is possible to construct malicious pickle data which will execute arbitrary code during unpickling (See https://github.com/pytorch/pytorch/blob/main/SECURITY.md#untrusted-models for more details). In a future release, the default value for `weights_only` will be flipped to `True`. This limits the functions that could be executed during unpickling. Arbitrary objects will no longer be allowed to be loaded via this mode unless they are explicitly allowlisted by the user via `torch.serialization.add_safe_globals`. We recommend you start setting `weights_only=True` for any use case where you don't have full control of the loaded file. Please open an issue on GitHub for any issues related to this experimental feature.\n",
      "  checkpoint = torch.load(pretrain_path, map_location=device)\n"
     ]
    },
    {
     "data": {
      "text/plain": [
       "<All keys matched successfully>"
      ]
     },
     "execution_count": 4,
     "metadata": {},
     "output_type": "execute_result"
    }
   ],
   "source": [
    "img_size = 96\n",
    "img_depth = img_size\n",
    "n_classes = 7 \n",
    "\n",
    "device = torch.device(\"cuda\" if torch.cuda.is_available() else \"cpu\")\n",
    "pretrain_path = \"./model_checkpoints/SwinUNETR96_96_lr0.001_lambda0.52_batch2/best_model.pt\"\n",
    "model = SwinUNETR(\n",
    "    img_size=(img_depth, img_size, img_size),\n",
    "    in_channels=1,\n",
    "    out_channels=n_classes,\n",
    "    feature_size=48,\n",
    "    use_checkpoint=True,\n",
    ").to(device)\n",
    "# Pretrained weights 불러오기\n",
    "checkpoint = torch.load(pretrain_path, map_location=device)\n",
    "model.load_state_dict(checkpoint['model_state_dict'])\n"
   ]
  },
  {
   "cell_type": "code",
   "execution_count": null,
   "metadata": {},
   "outputs": [
    {
     "name": "stdout",
     "output_type": "stream",
     "text": [
      "Processing volume 1/7\n"
     ]
    },
    {
     "name": "stderr",
     "output_type": "stream",
     "text": [
      "Loading dataset: 100%|██████████| 1/1 [00:01<00:00,  1.94s/it]\n"
     ]
    },
    {
     "name": "stdout",
     "output_type": "stream",
     "text": [
      "Processing volume 2/7\n"
     ]
    },
    {
     "name": "stderr",
     "output_type": "stream",
     "text": [
      "Loading dataset: 100%|██████████| 1/1 [00:01<00:00,  1.89s/it]\n"
     ]
    },
    {
     "name": "stdout",
     "output_type": "stream",
     "text": [
      "Processing volume 3/7\n"
     ]
    },
    {
     "name": "stderr",
     "output_type": "stream",
     "text": [
      "Loading dataset: 100%|██████████| 1/1 [00:01<00:00,  1.79s/it]\n"
     ]
    },
    {
     "name": "stdout",
     "output_type": "stream",
     "text": [
      "Submission saved to: submission.csv\n"
     ]
    }
   ],
   "source": [
    "import torch\n",
    "import numpy as np\n",
    "from scipy.ndimage import label, center_of_mass\n",
    "import pandas as pd\n",
    "from tqdm import tqdm\n",
    "from monai.data import CacheDataset, DataLoader\n",
    "from monai.transforms import Compose, NormalizeIntensity\n",
    "import cc3d\n",
    "\n",
    "def dict_to_df(coord_dict, experiment_name):\n",
    "    all_coords = []\n",
    "    all_labels = []\n",
    "    \n",
    "    for label, coords in coord_dict.items():\n",
    "        all_coords.append(coords)\n",
    "        all_labels.extend([label] * len(coords))\n",
    "    \n",
    "    all_coords = np.vstack(all_coords)\n",
    "    df = pd.DataFrame({\n",
    "        'experiment': experiment_name,\n",
    "        'particle_type': all_labels,\n",
    "        'x': all_coords[:, 0],\n",
    "        'y': all_coords[:, 1],\n",
    "        'z': all_coords[:, 2]\n",
    "    })\n",
    "    return df\n",
    "\n",
    "id_to_name = {1: \"apo-ferritin\", \n",
    "              2: \"beta-amylase\",\n",
    "              3: \"beta-galactosidase\", \n",
    "              4: \"ribosome\", \n",
    "              5: \"thyroglobulin\", \n",
    "              6: \"virus-like-particle\"}\n",
    "BLOB_THRESHOLD = 200\n",
    "CERTAINTY_THRESHOLD = 0.05\n",
    "\n",
    "classes = [1, 2, 3, 4, 5, 6]\n",
    "\n",
    "model.eval()\n",
    "with torch.no_grad():\n",
    "    location_dfs = []  # DataFrame 리스트로 초기화\n",
    "    \n",
    "    for vol_idx, run in enumerate(preprocessor.root.runs):\n",
    "        print(f\"Processing volume {vol_idx + 1}/{len(preprocessor.root.runs)}\")\n",
    "        tomogram = preprocessor.processing(run=run, task=\"task\")\n",
    "        task_files = [{\"image\": tomogram}]\n",
    "        task_ds = CacheDataset(data=task_files, transform=non_random_transforms)\n",
    "        task_loader = DataLoader(task_ds, batch_size=1, num_workers=0)\n",
    "        \n",
    "        for task_data in task_loader:\n",
    "            images = task_data['image'].to(\"cuda\")\n",
    "            outputs = sliding_window_inference(\n",
    "                inputs=images,\n",
    "                roi_size=(96, 96, 96),  # ROI 크기\n",
    "                sw_batch_size=4,\n",
    "                predictor=model.forward,\n",
    "                overlap=0.1,\n",
    "                sw_device=\"cuda\",\n",
    "                device=\"cpu\",\n",
    "                buffer_steps=1,\n",
    "                buffer_dim=-1\n",
    "            )\n",
    "            outputs = outputs.argmax(dim=1).squeeze(0).cpu().numpy()  # 클래스 채널 예측\n",
    "            location = {}  # 좌표 저장용 딕셔너리\n",
    "            for c in classes:\n",
    "                cc = cc3d.connected_components(outputs == c)  # cc3d 라벨링\n",
    "                stats = cc3d.statistics(cc)\n",
    "                zyx = stats['centroids'][1:] * 10.012444  # 스케일 변환\n",
    "                zyx_large = zyx[stats['voxel_counts'][1:] > BLOB_THRESHOLD]  # 크기 필터링\n",
    "                xyz = np.ascontiguousarray(zyx_large[:, ::-1])  # 좌표 스왑 (z, y, x -> x, y, z)\n",
    "\n",
    "                location[id_to_name[c]] = xyz  # ID 이름 매칭 저장\n",
    "\n",
    "            # 데이터프레임 변환\n",
    "            df = dict_to_df(location, run.name)\n",
    "            location_dfs.append(df)  # 리스트에 추가\n",
    "        \n",
    "        # if vol_idx == 2:\n",
    "        #     break\n",
    "    \n",
    "    # DataFrame 병합\n",
    "    final_df = pd.concat(location_dfs, ignore_index=True)\n",
    "    \n",
    "    # ID 추가 및 CSV 저장\n",
    "    final_df.insert(loc=0, column='id', value=np.arange(len(final_df)))\n",
    "    final_df.to_csv(\"submission.csv\", index=False)\n",
    "    print(\"Submission saved to: submission.csv\")\n"
   ]
  }
 ],
 "metadata": {
  "kernelspec": {
   "display_name": "ship",
   "language": "python",
   "name": "python3"
  },
  "language_info": {
   "codemirror_mode": {
    "name": "ipython",
    "version": 3
   },
   "file_extension": ".py",
   "mimetype": "text/x-python",
   "name": "python",
   "nbconvert_exporter": "python",
   "pygments_lexer": "ipython3",
   "version": "3.12.7"
  }
 },
 "nbformat": 4,
 "nbformat_minor": 2
}
