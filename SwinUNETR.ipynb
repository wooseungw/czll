{
 "cells": [
  {
   "cell_type": "code",
   "execution_count": 1,
   "metadata": {},
   "outputs": [
    {
     "name": "stdout",
     "output_type": "stream",
     "text": [
      "MONAI version: 1.4.0\n",
      "Numpy version: 1.26.3\n",
      "Pytorch version: 2.4.1+cu121\n",
      "MONAI flags: HAS_EXT = False, USE_COMPILED = False, USE_META_DICT = False\n",
      "MONAI rev id: 46a5272196a6c2590ca2589029eed8e4d56ff008\n",
      "MONAI __file__: c:\\ProgramData\\anaconda3\\envs\\ship\\Lib\\site-packages\\monai\\__init__.py\n",
      "\n",
      "Optional dependencies:\n",
      "Pytorch Ignite version: NOT INSTALLED or UNKNOWN VERSION.\n",
      "ITK version: NOT INSTALLED or UNKNOWN VERSION.\n",
      "Nibabel version: 5.3.2\n",
      "scikit-image version: 0.24.0\n",
      "scipy version: 1.14.1\n",
      "Pillow version: 10.2.0\n",
      "Tensorboard version: NOT INSTALLED or UNKNOWN VERSION.\n",
      "gdown version: 5.2.0\n",
      "TorchVision version: 0.19.1+cu121\n",
      "tqdm version: 4.66.5\n",
      "lmdb version: NOT INSTALLED or UNKNOWN VERSION.\n",
      "psutil version: 6.0.0\n",
      "pandas version: 2.2.3\n",
      "einops version: 0.8.0\n",
      "transformers version: NOT INSTALLED or UNKNOWN VERSION.\n",
      "mlflow version: NOT INSTALLED or UNKNOWN VERSION.\n",
      "pynrrd version: NOT INSTALLED or UNKNOWN VERSION.\n",
      "clearml version: NOT INSTALLED or UNKNOWN VERSION.\n",
      "\n",
      "For details about installing the optional dependencies, please visit:\n",
      "    https://docs.monai.io/en/latest/installation.html#installing-the-recommended-dependencies\n",
      "\n"
     ]
    }
   ],
   "source": [
    "import os\n",
    "import shutil\n",
    "import tempfile\n",
    "\n",
    "import matplotlib.pyplot as plt\n",
    "from tqdm import tqdm\n",
    "\n",
    "from monai.losses import DiceCELoss\n",
    "from monai.inferers import sliding_window_inference\n",
    "from monai.transforms import (\n",
    "    AsDiscrete,\n",
    "    EnsureChannelFirstd,\n",
    "    Compose,\n",
    "    CropForegroundd,\n",
    "    LoadImaged,\n",
    "    Orientationd,\n",
    "    RandFlipd,\n",
    "    RandCropByPosNegLabeld,\n",
    "    RandShiftIntensityd,\n",
    "    ScaleIntensityRanged,\n",
    "    Spacingd,\n",
    "    RandRotate90d,\n",
    ")\n",
    "\n",
    "from monai.config import print_config\n",
    "from monai.metrics import DiceMetric\n",
    "from monai.networks.nets import UNETR, SwinUNETR\n",
    "\n",
    "from monai.data import (\n",
    "    DataLoader,\n",
    "    CacheDataset,\n",
    "    load_decathlon_datalist,\n",
    "    decollate_batch,\n",
    ")\n",
    "\n",
    "\n",
    "import torch\n",
    "\n",
    "print_config()"
   ]
  },
  {
   "cell_type": "code",
   "execution_count": 2,
   "metadata": {},
   "outputs": [],
   "source": [
    "# class_info = {\n",
    "#     0: {\"name\": \"background\", \"weight\": 10000},  # weight 없음\n",
    "#     1: {\"name\": \"apo-ferritin\", \"weight\": 300},\n",
    "#     2: {\"name\": \"beta-amylase\", \"weight\": 100}, # 4130\n",
    "#     3: {\"name\": \"beta-galactosidase\", \"weight\": 150}, #3080\n",
    "#     4: {\"name\": \"ribosome\", \"weight\": 6000},\n",
    "#     5: {\"name\": \"thyroglobulin\", \"weight\": 4000},\n",
    "#     6: {\"name\": \"virus-like-particle\", \"weight\": 2000},\n",
    "# }\n",
    "\n",
    "# # 가중치에 비례한 비율 계산\n",
    "# raw_ratios = {\n",
    "#     k: (v[\"weight\"] if v[\"weight\"] is not None else 0.01)  # 가중치 비례, None일 경우 기본값\n",
    "#     for k, v in class_info.items()\n",
    "# }\n",
    "# total = sum(raw_ratios.values())\n",
    "# ratios = {k: v / total for k, v in raw_ratios.items()}\n",
    "\n",
    "# # 최종 합계가 1인지 확인\n",
    "# final_total = sum(ratios.values())\n",
    "# print(\"클래스 비율:\", ratios)\n",
    "# print(\"최종 합계:\", final_total)\n",
    "\n",
    "# # 비율을 리스트로 변환\n",
    "# ratios_list = [ratios[k] for k in sorted(ratios.keys())]\n",
    "# print(\"클래스 비율 리스트:\", ratios_list)"
   ]
  },
  {
   "cell_type": "code",
   "execution_count": 3,
   "metadata": {},
   "outputs": [
    {
     "name": "stdout",
     "output_type": "stream",
     "text": [
      "반비례 클래스 비율: {0: 0.0032154340836012866, 1: 0.10718113612004287, 2: 0.03215434083601287, 3: 0.3215434083601286, 4: 0.05359056806002144, 5: 0.3215434083601286, 6: 0.1607717041800643}\n",
      "최종 합계: 1.0\n",
      "반비례 클래스 비율 리스트: [0.0032154340836012866, 0.10718113612004287, 0.03215434083601287, 0.3215434083601286, 0.05359056806002144, 0.3215434083601286, 0.1607717041800643]\n"
     ]
    }
   ],
   "source": [
    "class_info = {\n",
    "    0: {\"name\": \"background\", \"weight\": 100000},  # weight 없음\n",
    "    1: {\"name\": \"apo-ferritin\", \"weight\": 3000},\n",
    "    2: {\"name\": \"beta-amylase\", \"weight\": 10000}, # 100\n",
    "    3: {\"name\": \"beta-galactosidase\", \"weight\": 1000}, #3080\n",
    "    4: {\"name\": \"ribosome\", \"weight\": 6000},\n",
    "    5: {\"name\": \"thyroglobulin\", \"weight\": 1000},\n",
    "    6: {\"name\": \"virus-like-particle\", \"weight\": 2000},\n",
    "}\n",
    "\n",
    "# 가중치의 역수 계산 (0인 경우 작은 값을 대체)\n",
    "inverse_ratios = {\n",
    "    k: (1 / v[\"weight\"] if v[\"weight\"] > 0 else 1e-6)\n",
    "    for k, v in class_info.items()\n",
    "}\n",
    "\n",
    "# 정규화하여 비율 계산\n",
    "total_inverse = sum(inverse_ratios.values())\n",
    "ratios_inverse = {k: v / total_inverse for k, v in inverse_ratios.items()}\n",
    "\n",
    "# 최종 합계가 1인지 확인\n",
    "final_total_inverse = sum(ratios_inverse.values())\n",
    "print(\"반비례 클래스 비율:\", ratios_inverse)\n",
    "print(\"최종 합계:\", final_total_inverse)\n",
    "\n",
    "# 비율을 리스트로 변환\n",
    "ratios_list = [ratios_inverse[k] for k in sorted(ratios_inverse.keys())]\n",
    "print(\"반비례 클래스 비율 리스트:\", ratios_list)\n"
   ]
  },
  {
   "cell_type": "code",
   "execution_count": 4,
   "metadata": {},
   "outputs": [],
   "source": [
    "from src.dataset.dataset import create_dataloaders\n",
    "from monai.transforms import (\n",
    "    Compose, LoadImaged, EnsureChannelFirstd, NormalizeIntensityd,\n",
    "    Orientationd, CropForegroundd, GaussianSmoothd, ScaleIntensityd,\n",
    "    RandSpatialCropd, RandRotate90d, RandFlipd, RandGaussianNoised,\n",
    "    ToTensord, RandCropByLabelClassesd\n",
    ")\n",
    "\n",
    "train_img_dir = \"./datasets/train/images\"\n",
    "train_label_dir = \"./datasets/train/labels\"\n",
    "val_img_dir = \"./datasets/val/images\"\n",
    "val_label_dir = \"./datasets/val/labels\"\n",
    "img_depth = 64\n",
    "img_size = 64  # Match your patch size\n",
    "n_classes = 7\n",
    "batch_size = 6 # 13.8GB GPU memory required for 128x128 img size\n",
    "num_samples = batch_size # 한 이미지에서 뽑을 샘플 수\n",
    "loader_batch = 1\n",
    "\n",
    "non_random_transforms = Compose([\n",
    "    EnsureChannelFirstd(keys=[\"image\", \"label\"], channel_dim=\"no_channel\"),\n",
    "    NormalizeIntensityd(keys=\"image\"),\n",
    "    Orientationd(keys=[\"image\", \"label\"], axcodes=\"RAS\"),\n",
    "    GaussianSmoothd(\n",
    "        keys=[\"image\"],      # 변환을 적용할 키\n",
    "        sigma=[1.0, 1.0, 1.0]  # 각 축(x, y, z)의 시그마 값\n",
    "        ),\n",
    "])\n",
    "random_transforms = Compose([\n",
    "    RandCropByLabelClassesd(\n",
    "        keys=[\"image\", \"label\"],\n",
    "        label_key=\"label\",\n",
    "        spatial_size=[img_depth, img_size, img_size],\n",
    "        num_classes=n_classes,\n",
    "        num_samples=num_samples, \n",
    "        ratios=ratios_list,\n",
    "    ),\n",
    "    RandRotate90d(keys=[\"image\", \"label\"], prob=0.5, spatial_axes=[1, 2]),\n",
    "    RandFlipd(keys=[\"image\", \"label\"], prob=0.5, spatial_axis=0),\n",
    "    RandFlipd(keys=[\"image\", \"label\"], prob=0.5, spatial_axis=1),\n",
    "    RandFlipd(keys=[\"image\", \"label\"], prob=0.5, spatial_axis=2),\n",
    "])\n"
   ]
  },
  {
   "cell_type": "code",
   "execution_count": 5,
   "metadata": {},
   "outputs": [
    {
     "name": "stderr",
     "output_type": "stream",
     "text": [
      "Loading dataset: 100%|██████████| 24/24 [00:40<00:00,  1.69s/it]\n",
      "Loading dataset: 100%|██████████| 4/4 [00:06<00:00,  1.66s/it]\n"
     ]
    }
   ],
   "source": [
    "train_loader, val_loader = None, None\n",
    "train_loader, val_loader = create_dataloaders(\n",
    "    train_img_dir, \n",
    "    train_label_dir, \n",
    "    val_img_dir, \n",
    "    val_label_dir, \n",
    "    non_random_transforms = non_random_transforms, \n",
    "    random_transforms = random_transforms, \n",
    "    batch_size = loader_batch,\n",
    "    num_workers=0)"
   ]
  },
  {
   "cell_type": "markdown",
   "metadata": {},
   "source": [
    "https://monai.io/model-zoo.html"
   ]
  },
  {
   "cell_type": "code",
   "execution_count": 6,
   "metadata": {},
   "outputs": [],
   "source": [
    "from monai.losses import TverskyLoss\n",
    "import torch\n",
    "\n",
    "def loss_fn(loss, class_weights, device):\n",
    "    \"\"\"\n",
    "    Tversky 손실에 클래스별 가중치를 적용하여 최종 스칼라 값을 반환합니다.\n",
    "\n",
    "    Args:\n",
    "        loss: Tversky 손실 텐서 (B, num_classes, H, W, D).\n",
    "        class_weights: 클래스별 가중치 텐서 (num_classes,).\n",
    "        device: 사용할 장치 (예: 'cuda' 또는 'cpu').\n",
    "\n",
    "    Returns:\n",
    "        torch.Tensor: 최종 가중 평균 손실 값 (스칼라).\n",
    "    \"\"\"\n",
    "    # 가중치를 device로 이동\n",
    "    class_weights = class_weights.to(device)\n",
    "\n",
    "    # 클래스 차원에 가중치 적용 (B, num_classes, ...)\n",
    "    class_weights = class_weights.view(1, n_classes, 1, 1, 1)  # [1, num_classes, 1, 1, 1]\n",
    "    weighted_loss = loss * class_weights\n",
    "\n",
    "    # 모든 차원을 평균 내어 스칼라 손실 반환\n",
    "    final_loss = torch.mean(weighted_loss)\n",
    "    return final_loss"
   ]
  },
  {
   "cell_type": "code",
   "execution_count": null,
   "metadata": {},
   "outputs": [
    {
     "name": "stderr",
     "output_type": "stream",
     "text": [
      "c:\\ProgramData\\anaconda3\\envs\\ship\\Lib\\site-packages\\monai\\utils\\deprecate_utils.py:221: FutureWarning: monai.networks.nets.swin_unetr SwinUNETR.__init__:img_size: Argument `img_size` has been deprecated since version 1.3. It will be removed in version 1.5. The img_size argument is not required anymore and checks on the input size are run during forward().\n",
      "  warn_deprecated(argname, msg, warning_category)\n"
     ]
    }
   ],
   "source": [
    "import torch.optim as optim\n",
    "from tqdm import tqdm\n",
    "import numpy as np\n",
    "import torch\n",
    "from pathlib import Path\n",
    "from monai.metrics import DiceMetric\n",
    "# Model Configuration\n",
    "start_epoch = 0\n",
    "best_val_loss = float('inf')\n",
    "best_val_fbeta_score = 0\n",
    "# Training setup\n",
    "num_epochs = 4000\n",
    "lamda = 0.52\n",
    "lr = 0.001\n",
    "feature_size = 24\n",
    "use_checkpoint = False\n",
    "\n",
    "class_weights = torch.tensor([0, 1, 0, 1.1, 1, 1.1, 1], dtype=torch.float32)  # 클래스별 가중치\n",
    "\n",
    "device = torch.device(\"cuda\" if torch.cuda.is_available() else \"cpu\")\n",
    "\n",
    "model = SwinUNETR(\n",
    "    img_size=(img_depth, img_size, img_size),\n",
    "    in_channels=1,\n",
    "    out_channels=n_classes,\n",
    "    feature_size=feature_size,\n",
    "    use_checkpoint=use_checkpoint,\n",
    ").to(device)\n",
    "# Pretrained weights 불러오기\n",
    "# pretrain_path = \"./swin_unetr_btcv_segmentation/models/model.pt\"\n",
    "# weight = torch.load(pretrain_path, map_location=device)\n",
    "\n",
    "# # 출력 레이어의 키를 제외한 나머지 가중치만 로드\n",
    "# filtered_weights = {k: v for k, v in weight.items() if \"out.conv.conv\" not in k}\n",
    "\n",
    "# # strict=False로 로드하여 불일치하는 부분 무시\n",
    "# model.load_state_dict(filtered_weights, strict=False)\n",
    "# print(\"Filtered weights loaded successfully. Output layer will be trained from scratch.\")\n",
    "\n",
    "# Load pretrained weights\n",
    "# model.load_from(weights=np.load(config_vit.real_pretrained_path, allow_pickle=True))\n",
    "# TverskyLoss 설정\n",
    "criterion = TverskyLoss(\n",
    "    alpha= lamda,  # FP에 대한 가중치\n",
    "    beta=1-lamda,       # FN에 대한 가중치\n",
    "    include_background=False,  # 배경 클래스 제외\n",
    "    reduction=\"none\",  # 각 픽셀에 대한 손실 반환\n",
    "    softmax=True\n",
    ")\n",
    "pretrain_str = \"yes\" if use_checkpoint else \"no\"\n",
    "weight_str = \"weighted\" if class_weights is not None else \"\"\n",
    "\n",
    "# 체크포인트 디렉토리 및 파일 설정\n",
    "checkpoint_base_dir = Path(\"./model_checkpoints\")\n",
    "checkpoint_dir = checkpoint_base_dir / f\"SwinUNETR_p{pretrain_str}_{weight_str}_f{feature_size}_d{img_depth}_s{img_size}_lr{lr:.0e}_a{lamda:.2f}_b{1-lamda:.2f}_batch{batch_size}\"\n",
    "optimizer = optim.AdamW(model.parameters(), lr=lr, weight_decay=1e-5)\n",
    "\n",
    "# 체크포인트 디렉토리 생성\n",
    "checkpoint_dir.mkdir(parents=True, exist_ok=True)\n",
    "\n",
    "if checkpoint_dir.exists():\n",
    "    best_model_path = checkpoint_dir / 'best_model.pt'\n",
    "    if best_model_path.exists():\n",
    "        print(f\"기존 best model 발견: {best_model_path}\")\n",
    "        try:\n",
    "            checkpoint = torch.load(best_model_path, map_location=device)\n",
    "            # 체크포인트 내부 키 검증\n",
    "            required_keys = ['model_state_dict', 'optimizer_state_dict', 'epoch', 'best_val_loss']\n",
    "            if all(k in checkpoint for k in required_keys):\n",
    "                model.load_state_dict(checkpoint['model_state_dict'])\n",
    "                optimizer.load_state_dict(checkpoint['optimizer_state_dict'])\n",
    "                start_epoch = checkpoint['epoch']\n",
    "                best_val_loss = checkpoint['best_val_loss']\n",
    "                print(\"기존 학습된 가중치를 성공적으로 로드했습니다.\")\n",
    "            else:\n",
    "                raise ValueError(\"체크포인트 파일에 필요한 key가 없습니다.\")\n",
    "        except Exception as e:\n",
    "            print(f\"체크포인트 파일을 로드하는 중 오류 발생: {e}\")"
   ]
  },
  {
   "cell_type": "code",
   "execution_count": 8,
   "metadata": {},
   "outputs": [
    {
     "name": "stdout",
     "output_type": "stream",
     "text": [
      "torch.Size([6, 1, 64, 64, 64]) torch.Size([6, 1, 64, 64, 64])\n"
     ]
    }
   ],
   "source": [
    "batch = next(iter(val_loader))\n",
    "images, labels = batch[\"image\"], batch[\"label\"]\n",
    "print(images.shape, labels.shape)"
   ]
  },
  {
   "cell_type": "code",
   "execution_count": 9,
   "metadata": {},
   "outputs": [],
   "source": [
    "torch.backends.cudnn.benchmark = True"
   ]
  },
  {
   "cell_type": "code",
   "execution_count": 10,
   "metadata": {},
   "outputs": [
    {
     "name": "stderr",
     "output_type": "stream",
     "text": [
      "\u001b[34m\u001b[1mwandb\u001b[0m: Using wandb-core as the SDK backend. Please refer to https://wandb.me/wandb-core for more information.\n",
      "\u001b[34m\u001b[1mwandb\u001b[0m: Currently logged in as: \u001b[33mwoow070840\u001b[0m (\u001b[33mwaooang\u001b[0m). Use \u001b[1m`wandb login --relogin`\u001b[0m to force relogin\n"
     ]
    },
    {
     "data": {
      "text/html": [
       "Tracking run with wandb version 0.18.3"
      ],
      "text/plain": [
       "<IPython.core.display.HTML object>"
      ]
     },
     "metadata": {},
     "output_type": "display_data"
    },
    {
     "data": {
      "text/html": [
       "Run data is saved locally in <code>e:\\Workspace\\czll\\wandb\\run-20241220_131341-xvry9j91</code>"
      ],
      "text/plain": [
       "<IPython.core.display.HTML object>"
      ]
     },
     "metadata": {},
     "output_type": "display_data"
    },
    {
     "data": {
      "text/html": [
       "Syncing run <strong><a href='https://wandb.ai/waooang/czii_SwinUnetR/runs/xvry9j91' target=\"_blank\">SwinUNETR_lr0.001_bs6_lambda0.52_20241220_131341</a></strong> to <a href='https://wandb.ai/waooang/czii_SwinUnetR' target=\"_blank\">Weights & Biases</a> (<a href='https://wandb.me/run' target=\"_blank\">docs</a>)<br/>"
      ],
      "text/plain": [
       "<IPython.core.display.HTML object>"
      ]
     },
     "metadata": {},
     "output_type": "display_data"
    },
    {
     "data": {
      "text/html": [
       " View project at <a href='https://wandb.ai/waooang/czii_SwinUnetR' target=\"_blank\">https://wandb.ai/waooang/czii_SwinUnetR</a>"
      ],
      "text/plain": [
       "<IPython.core.display.HTML object>"
      ]
     },
     "metadata": {},
     "output_type": "display_data"
    },
    {
     "data": {
      "text/html": [
       " View run at <a href='https://wandb.ai/waooang/czii_SwinUnetR/runs/xvry9j91' target=\"_blank\">https://wandb.ai/waooang/czii_SwinUnetR/runs/xvry9j91</a>"
      ],
      "text/plain": [
       "<IPython.core.display.HTML object>"
      ]
     },
     "metadata": {},
     "output_type": "display_data"
    },
    {
     "data": {
      "text/plain": [
       "[]"
      ]
     },
     "execution_count": 10,
     "metadata": {},
     "output_type": "execute_result"
    }
   ],
   "source": [
    "import wandb\n",
    "from datetime import datetime\n",
    "\n",
    "current_time = datetime.now().strftime('%Y%m%d_%H%M%S')\n",
    "run_name = f'SwinUNETR_lr{lr}_bs{batch_size}_lambda{lamda}_{current_time}'\n",
    "\n",
    "# wandb 초기화\n",
    "wandb.init(\n",
    "    project='czii_SwinUnetR',  # 프로젝트 이름 설정\n",
    "    name=run_name,         # 실행(run) 이름 설정\n",
    "    config={\n",
    "        'num_epochs': num_epochs,\n",
    "        'learning_rate': lr,\n",
    "        'batch_size': batch_size,\n",
    "        'lambda': lamda,\n",
    "        'feature_size': feature_size,\n",
    "        'img_size': img_size,\n",
    "        'sampling_ratio': ratios_list,\n",
    "        'device': device.type,\n",
    "        \"checkpoint_dir\": str(checkpoint_dir),\n",
    "        \"class_weights\": class_weights.tolist(),\n",
    "        # 필요한 하이퍼파라미터 추가\n",
    "    }\n",
    ")\n",
    "# 모델을 wandb에 연결\n",
    "wandb.watch(model, log='all')"
   ]
  },
  {
   "cell_type": "code",
   "execution_count": null,
   "metadata": {},
   "outputs": [],
   "source": [
    "from monai.metrics import DiceMetric\n",
    "\n",
    "def create_metric_dict(num_classes):\n",
    "    \"\"\"각 클래스별 DiceMetric 생성\"\"\"\n",
    "    metrics = {}\n",
    "    for i in range(num_classes):\n",
    "        metrics[f'dice_class_{i}'] = DiceMetric(\n",
    "            include_background=False if i == 0 else False,\n",
    "            reduction=\"mean\",\n",
    "            get_not_nans=False\n",
    "        )\n",
    "    return metrics\n",
    "    \n",
    "def processing(batch_data, model, criterion, device):\n",
    "    images = batch_data['image'].to(device)  # Input 이미지 (B, 1, 96, 96, 96)\n",
    "    labels = batch_data['label'].to(device)  # 라벨 (B, 96, 96, 96)\n",
    "\n",
    "    labels = labels.squeeze(1)  # (B, 1, 96, 96, 96) → (B, 96, 96, 96)\n",
    "    labels = labels.long()  # 라벨을 정수형으로 변환\n",
    "\n",
    "    # 원핫 인코딩 (B, H, W, D) → (B, num_classes, H, W, D)\n",
    "    \n",
    "    labels_onehot = torch.nn.functional.one_hot(labels, num_classes=n_classes)\n",
    "    labels_onehot = labels_onehot.permute(0, 4, 1, 2, 3).float()  # (B, num_classes, H, W, D)\n",
    "\n",
    "    # 모델 예측\n",
    "    outputs = model(images)  # outputs: (B, num_classes, H, W, D)\n",
    "\n",
    "    # Loss 계산\n",
    "    # loss = loss_fn(criterion(outputs, labels_onehot), class_weights, device)\n",
    "    loss = loss_fn(criterion(outputs, labels_onehot),class_weights=class_weights, device=device)\n",
    "    return loss, outputs, labels, outputs.argmax(dim=1)\n",
    "\n",
    "def train_one_epoch(model, train_loader, criterion, optimizer, device, epoch):\n",
    "    model.train()\n",
    "    epoch_loss = 0\n",
    "    with tqdm(train_loader, desc='Training') as pbar:\n",
    "        for batch_data in pbar:\n",
    "            optimizer.zero_grad()\n",
    "            loss, _, _, _ = processing(batch_data, model, criterion, device)\n",
    "            loss.backward()\n",
    "            optimizer.step()\n",
    "\n",
    "            epoch_loss += loss.item()\n",
    "            pbar.set_postfix(loss=loss.item())\n",
    "    avg_loss = epoch_loss / len(train_loader)\n",
    "    wandb.log({'train_epoch_loss': avg_loss, 'epoch': epoch + 1})\n",
    "    return epoch_loss / len(train_loader)\n",
    "\n",
    "def validate_one_epoch(model, val_loader, criterion, device, epoch, calculate_dice_interval):\n",
    "    model.eval()\n",
    "    val_loss = 0\n",
    "    metrics = create_metric_dict(n_classes)\n",
    "    class_dice_scores = {i: [] for i in range(n_classes)}\n",
    "    class_f_beta_scores = {i: [] for i in range(n_classes)}\n",
    "    with torch.no_grad():\n",
    "        with tqdm(val_loader, desc='Validation') as pbar:\n",
    "            for batch_data in pbar:\n",
    "                loss, _, labels, preds = processing(batch_data, model, criterion, device)\n",
    "                val_loss += loss.item()\n",
    "                pbar.set_postfix(loss=loss.item())\n",
    "\n",
    "                # 각 클래스별 Dice 점수 계산\n",
    "                if epoch % calculate_dice_interval == 0:\n",
    "                    for i in range(n_classes):\n",
    "                        pred_i = (preds == i)\n",
    "                        label_i = (labels == i)\n",
    "                        dice_score = (2.0 * torch.sum(pred_i & label_i)) / (torch.sum(pred_i) + torch.sum(label_i) + 1e-8)\n",
    "                        class_dice_scores[i].append(dice_score.item())\n",
    "                        precision = (torch.sum(pred_i & label_i) + 1e-8) / (torch.sum(pred_i) + 1e-8)\n",
    "                        recall = (torch.sum(pred_i & label_i) + 1e-8) / (torch.sum(label_i) + 1e-8)\n",
    "                        f_beta_score = (1 + 4**2) * (precision * recall) / (4**2 * precision + recall + 1e-8)\n",
    "                        class_f_beta_scores[i].append(f_beta_score.item())\n",
    "\n",
    "    avg_loss = val_loss / len(val_loader)\n",
    "    # 에포크별 평균 손실 로깅\n",
    "    wandb.log({'val_epoch_loss': avg_loss, 'epoch': epoch + 1})\n",
    "    \n",
    "    # 각 클래스별 평균 Dice 점수 출력\n",
    "    if epoch % calculate_dice_interval == 0:\n",
    "        print(\"Validation Dice Score\")\n",
    "        all_classes_dice_scores = []\n",
    "        for i in range(n_classes):\n",
    "            mean_dice = np.mean(class_dice_scores[i])\n",
    "            wandb.log({f'class_{i}_dice_score': mean_dice, 'epoch': epoch + 1})\n",
    "            print(f\"Class {i}: {mean_dice:.4f}\", end=\", \")\n",
    "            if i not in [0, 2]:  # 평균에 포함할 클래스만 추가\n",
    "                all_classes_dice_scores.append(mean_dice)\n",
    "            \n",
    "        print()\n",
    "    if epoch % calculate_dice_interval == 0:\n",
    "        print(\"Validation F-beta Score\")\n",
    "        all_classes_fbeta_scores = []\n",
    "        for i in range(n_classes):\n",
    "            mean_fbeta = np.mean(class_f_beta_scores[i])\n",
    "            wandb.log({f'class_{i}_f_beta_score': mean_fbeta, 'epoch': epoch + 1})\n",
    "            print(f\"Class {i}: {mean_fbeta:.4f}\", end=\", \")\n",
    "            if i not in [0, 2]:  # 평균에 포함할 클래스만 추가\n",
    "                all_classes_fbeta_scores.append(mean_fbeta)\n",
    "        print()\n",
    "        overall_mean_dice = np.mean(all_classes_dice_scores)\n",
    "        overall_mean_fbeta = np.mean(all_classes_fbeta_scores)\n",
    "        wandb.log({'overall_mean_f_beta_score': overall_mean_fbeta, 'overall_mean_dice_score': overall_mean_dice, 'epoch': epoch + 1})\n",
    "        print(f\"\\nOverall Mean Dice Score: {overall_mean_dice:.4f}\\nOverall Mean F-beta Score: {overall_mean_fbeta:.4f}\\n\")\n",
    "\n",
    "    if overall_mean_fbeta is None:\n",
    "        overall_mean_fbeta = 0\n",
    "\n",
    "    return val_loss / len(val_loader), overall_mean_fbeta\n",
    "\n",
    "\n",
    "def train_model(\n",
    "    model, train_loader, val_loader, criterion, optimizer, num_epochs, patience, \n",
    "    device, start_epoch, best_val_loss, best_val_fbeta_score, calculate_dice_interval=1\n",
    "):\n",
    "    \"\"\"\n",
    "    모델을 학습하고 검증하는 함수\n",
    "    Args:\n",
    "        model: 학습할 모델\n",
    "        train_loader: 학습 데이터 로더\n",
    "        val_loader: 검증 데이터 로더\n",
    "        criterion: 손실 함수\n",
    "        optimizer: 최적화 알고리즘\n",
    "        num_epochs: 총 학습 epoch 수\n",
    "        patience: early stopping 기준\n",
    "        device: GPU/CPU 장치\n",
    "        start_epoch: 시작 epoch\n",
    "        best_val_loss: 이전 최적 validation loss\n",
    "        best_val_fbeta_score: 이전 최적 validation f-beta score\n",
    "        calculate_dice_interval: Dice 점수 계산 주기\n",
    "    \"\"\"\n",
    "    epochs_no_improve = 0\n",
    "\n",
    "    for epoch in range(start_epoch, num_epochs):\n",
    "        print(f\"Epoch {epoch + 1}/{num_epochs}\")\n",
    "\n",
    "        # Train One Epoch\n",
    "        train_loss = train_one_epoch(\n",
    "            model=model, \n",
    "            train_loader=train_loader, \n",
    "            criterion=criterion, \n",
    "            optimizer=optimizer, \n",
    "            device=device,\n",
    "            epoch=epoch\n",
    "        )\n",
    "\n",
    "        # Validate One Epoch\n",
    "        val_loss, overall_mean_fbeta_score = validate_one_epoch(\n",
    "            model=model, \n",
    "            val_loader=val_loader, \n",
    "            criterion=criterion, \n",
    "            device=device, \n",
    "            epoch=epoch, \n",
    "            calculate_dice_interval=calculate_dice_interval\n",
    "        )\n",
    "\n",
    "        \n",
    "        print(f\"Training Loss: {train_loss:.4f}, Validation Loss: {val_loss:.4f}, Validation F-beta: {overall_mean_fbeta_score:.4f}\")\n",
    "\n",
    "        if val_loss < best_val_loss and overall_mean_fbeta_score > best_val_fbeta_score:\n",
    "            best_val_loss = val_loss\n",
    "            best_val_fbeta_score = overall_mean_fbeta_score\n",
    "            epochs_no_improve = 0\n",
    "            checkpoint_path = os.path.join(checkpoint_dir, 'best_model.pt')\n",
    "            torch.save({\n",
    "                'epoch': epoch + 1,\n",
    "                'model_state_dict': model.state_dict(),\n",
    "                'optimizer_state_dict': optimizer.state_dict(),\n",
    "                'best_val_loss': best_val_loss,\n",
    "                'best_val_fbeta_score': best_val_fbeta_score\n",
    "            }, checkpoint_path)\n",
    "            print(f\"========================================================\")\n",
    "            print(f\"SUPER Best model saved. Loss:{best_val_loss:.4f}, Score:{best_val_fbeta_score:.4f}\")\n",
    "            print(f\"========================================================\")\n",
    "        \n",
    "        # Validation Loss 기준 모델 저장\n",
    "        if val_loss < best_val_loss:\n",
    "            best_val_loss = val_loss\n",
    "            epochs_no_improve = 0\n",
    "            checkpoint_path = os.path.join(checkpoint_dir, 'best_model_val_loss.pt')\n",
    "            torch.save({\n",
    "                'epoch': epoch + 1,\n",
    "                'model_state_dict': model.state_dict(),\n",
    "                'optimizer_state_dict': optimizer.state_dict(),\n",
    "                'best_val_loss': best_val_loss,\n",
    "                'best_val_fbeta_score': best_val_fbeta_score\n",
    "            }, checkpoint_path)\n",
    "            print(f\"========================================================\")\n",
    "            print(f\"Best model saved based on validation loss: {best_val_loss:.4f}\")\n",
    "            print(f\"========================================================\")\n",
    "\n",
    "        # Validation F-beta Score 기준 모델 저장\n",
    "        if overall_mean_fbeta_score > best_val_fbeta_score:\n",
    "            best_val_fbeta_score = overall_mean_fbeta_score\n",
    "            epochs_no_improve = 0\n",
    "            checkpoint_path = os.path.join(checkpoint_dir, 'best_model_val_fbeta.pt')\n",
    "            torch.save({\n",
    "                'epoch': epoch + 1,\n",
    "                'model_state_dict': model.state_dict(),\n",
    "                'optimizer_state_dict': optimizer.state_dict(),\n",
    "                'best_val_loss': best_val_loss,\n",
    "                'best_val_fbeta_score': best_val_fbeta_score\n",
    "            }, checkpoint_path)\n",
    "            print(f\"========================================================\")\n",
    "            print(f\"Best model saved based on F-beta score: {best_val_fbeta_score:.4f}\")\n",
    "            print(f\"========================================================\")\n",
    "\n",
    "        # Early stopping 조건 체크\n",
    "        if val_loss >= best_val_loss and overall_mean_fbeta_score <= best_val_fbeta_score:\n",
    "            epochs_no_improve += 1\n",
    "        else:\n",
    "            epochs_no_improve = 0\n",
    "\n",
    "        if epochs_no_improve >= patience:\n",
    "            print(\"Early stopping\")\n",
    "            checkpoint_path = os.path.join(checkpoint_dir, 'last.pt')\n",
    "            torch.save({\n",
    "                'epoch': epoch + 1,\n",
    "                'model_state_dict': model.state_dict(),\n",
    "                'optimizer_state_dict': optimizer.state_dict(),\n",
    "                'best_val_loss': best_val_loss,\n",
    "                'best_val_fbeta_score': best_val_fbeta_score\n",
    "            }, checkpoint_path)\n",
    "            break\n",
    "\n",
    "    wandb.finish()\n"
   ]
  },
  {
   "cell_type": "code",
   "execution_count": null,
   "metadata": {},
   "outputs": [
    {
     "name": "stdout",
     "output_type": "stream",
     "text": [
      "Epoch 1/4000\n"
     ]
    },
    {
     "name": "stderr",
     "output_type": "stream",
     "text": [
      "Training: 100%|██████████| 24/24 [00:27<00:00,  1.16s/it, loss=0.724]\n",
      "Validation: 100%|██████████| 4/4 [00:01<00:00,  2.19it/s, loss=0.728]\n"
     ]
    },
    {
     "name": "stdout",
     "output_type": "stream",
     "text": [
      "Validation Dice Score\n",
      "Class 0: 0.4243, Class 1: 0.0018, Class 2: 0.0012, Class 3: 0.0005, \n",
      "Class 4: 0.1583, Class 5: 0.1502, Class 6: 0.0031, \n",
      "Validation F-beta Score\n",
      "Class 0: 0.2841, Class 1: 0.0118, Class 2: 0.0097, Class 3: 0.0019, \n",
      "Class 4: 0.3354, Class 5: 0.4528, Class 6: 0.0055, \n",
      "Overall Mean Dice Score: 0.0628\n",
      "Overall Mean F-beta Score: 0.1615\n",
      "\n",
      "Training Loss: 0.7320, Validation Loss: 0.7241, Validation F-beta: 0.1615\n",
      "========================================================\n",
      "SUPER Best model saved. Loss:0.7241, Score:0.1615\n",
      "========================================================\n",
      "Epoch 2/4000\n"
     ]
    },
    {
     "name": "stderr",
     "output_type": "stream",
     "text": [
      "Training: 100%|██████████| 24/24 [00:19<00:00,  1.22it/s, loss=0.724]\n",
      "Validation: 100%|██████████| 4/4 [00:01<00:00,  2.71it/s, loss=0.726]\n"
     ]
    },
    {
     "name": "stdout",
     "output_type": "stream",
     "text": [
      "Validation Dice Score\n",
      "Class 0: 0.3584, Class 1: 0.0000, Class 2: 0.0007, Class 3: 0.0002, \n",
      "Class 4: 0.0458, Class 5: 0.2483, Class 6: 0.0000, \n",
      "Validation F-beta Score\n",
      "Class 0: 0.2326, Class 1: 0.0003, Class 2: 0.0058, Class 3: 0.0012, \n",
      "Class 4: 0.1523, Class 5: 0.4368, Class 6: 0.0000, \n",
      "Overall Mean Dice Score: 0.0589\n",
      "Overall Mean F-beta Score: 0.1181\n",
      "\n",
      "Training Loss: 0.7251, Validation Loss: 0.7179, Validation F-beta: 0.1181\n",
      "========================================================\n",
      "Best model saved based on validation loss: 0.7179\n",
      "========================================================\n",
      "Epoch 3/4000\n"
     ]
    },
    {
     "name": "stderr",
     "output_type": "stream",
     "text": [
      "Training: 100%|██████████| 24/24 [00:20<00:00,  1.18it/s, loss=0.717]\n",
      "Validation: 100%|██████████| 4/4 [00:01<00:00,  2.29it/s, loss=0.722]\n"
     ]
    },
    {
     "name": "stdout",
     "output_type": "stream",
     "text": [
      "Validation Dice Score\n",
      "Class 0: 0.3775, Class 1: 0.0024, Class 2: 0.0005, Class 3: 0.0002, \n",
      "Class 4: 0.1915, Class 5: 0.2100, Class 6: 0.0250, \n",
      "Validation F-beta Score\n",
      "Class 0: 0.2480, Class 1: 0.0184, Class 2: 0.0043, Class 3: 0.0011, \n",
      "Class 4: 0.5738, Class 5: 0.4299, Class 6: 0.0452, \n",
      "Overall Mean Dice Score: 0.0858\n",
      "Overall Mean F-beta Score: 0.2137\n",
      "\n",
      "Training Loss: 0.7216, Validation Loss: 0.7134, Validation F-beta: 0.2137\n",
      "========================================================\n",
      "SUPER Best model saved. Loss:0.7134, Score:0.2137\n",
      "========================================================\n",
      "Epoch 4/4000\n"
     ]
    },
    {
     "name": "stderr",
     "output_type": "stream",
     "text": [
      "Training: 100%|██████████| 24/24 [00:31<00:00,  1.33s/it, loss=0.715]\n",
      "Validation: 100%|██████████| 4/4 [00:03<00:00,  1.23it/s, loss=0.723]\n"
     ]
    },
    {
     "name": "stdout",
     "output_type": "stream",
     "text": [
      "Validation Dice Score\n",
      "Class 0: 0.3720, Class 1: 0.0004, Class 2: 0.0006, Class 3: 0.0001, \n",
      "Class 4: 0.1486, Class 5: 0.2988, Class 6: 0.0212, \n",
      "Validation F-beta Score\n",
      "Class 0: 0.2412, Class 1: 0.0034, Class 2: 0.0051, Class 3: 0.0008, \n",
      "Class 4: 0.3472, Class 5: 0.4874, Class 6: 0.0686, \n",
      "Overall Mean Dice Score: 0.0939\n",
      "Overall Mean F-beta Score: 0.1815\n",
      "\n",
      "Training Loss: 0.7152, Validation Loss: 0.7053, Validation F-beta: 0.1815\n",
      "========================================================\n",
      "Best model saved based on validation loss: 0.7053\n",
      "========================================================\n",
      "Epoch 5/4000\n"
     ]
    },
    {
     "name": "stderr",
     "output_type": "stream",
     "text": [
      "Training: 100%|██████████| 24/24 [00:29<00:00,  1.22s/it, loss=0.702]\n",
      "Validation: 100%|██████████| 4/4 [00:03<00:00,  1.18it/s, loss=0.707]\n"
     ]
    },
    {
     "name": "stdout",
     "output_type": "stream",
     "text": [
      "Validation Dice Score\n",
      "Class 0: 0.2862, Class 1: 0.0006, Class 2: 0.0002, Class 3: 0.0005, \n",
      "Class 4: 0.2081, Class 5: 0.2656, Class 6: 0.0177, \n",
      "Validation F-beta Score\n",
      "Class 0: 0.1758, Class 1: 0.0046, Class 2: 0.0016, Class 3: 0.0034, \n",
      "Class 4: 0.4852, Class 5: 0.4484, Class 6: 0.0280, \n",
      "Overall Mean Dice Score: 0.0985\n",
      "Overall Mean F-beta Score: 0.1939\n",
      "\n",
      "Training Loss: 0.7056, Validation Loss: 0.7014, Validation F-beta: 0.1939\n",
      "========================================================\n",
      "Best model saved based on validation loss: 0.7014\n",
      "========================================================\n",
      "Epoch 6/4000\n"
     ]
    },
    {
     "name": "stderr",
     "output_type": "stream",
     "text": [
      "Training: 100%|██████████| 24/24 [00:34<00:00,  1.44s/it, loss=0.711]\n",
      "Validation: 100%|██████████| 4/4 [00:03<00:00,  1.07it/s, loss=0.692]\n"
     ]
    },
    {
     "name": "stdout",
     "output_type": "stream",
     "text": [
      "Validation Dice Score\n",
      "Class 0: 0.3024, Class 1: 0.0014, Class 2: 0.0011, Class 3: 0.0011, \n",
      "Class 4: 0.1480, Class 5: 0.2973, Class 6: 0.0451, \n",
      "Validation F-beta Score\n",
      "Class 0: 0.1873, Class 1: 0.0112, Class 2: 0.0091, Class 3: 0.0071, \n",
      "Class 4: 0.4551, Class 5: 0.4342, Class 6: 0.1098, \n",
      "Overall Mean Dice Score: 0.0986\n",
      "Overall Mean F-beta Score: 0.2035\n",
      "\n",
      "Training Loss: 0.7069, Validation Loss: 0.7014, Validation F-beta: 0.2035\n",
      "========================================================\n",
      "Best model saved based on validation loss: 0.7014\n",
      "========================================================\n",
      "Epoch 7/4000\n"
     ]
    },
    {
     "name": "stderr",
     "output_type": "stream",
     "text": [
      "Training: 100%|██████████| 24/24 [00:44<00:00,  1.84s/it, loss=0.717]\n",
      "Validation: 100%|██████████| 4/4 [00:04<00:00,  1.01s/it, loss=0.711]\n"
     ]
    },
    {
     "name": "stdout",
     "output_type": "stream",
     "text": [
      "Validation Dice Score\n",
      "Class 0: 0.2230, Class 1: 0.0029, Class 2: 0.0003, Class 3: 0.0001, \n",
      "Class 4: 0.1855, Class 5: 0.2667, Class 6: 0.0701, \n",
      "Validation F-beta Score\n",
      "Class 0: 0.1324, Class 1: 0.0227, Class 2: 0.0023, Class 3: 0.0010, \n",
      "Class 4: 0.4638, Class 5: 0.4787, Class 6: 0.1371, \n",
      "Overall Mean Dice Score: 0.1051\n",
      "Overall Mean F-beta Score: 0.2207\n",
      "\n",
      "Training Loss: 0.7056, Validation Loss: 0.6993, Validation F-beta: 0.2207\n",
      "========================================================\n",
      "SUPER Best model saved. Loss:0.6993, Score:0.2207\n",
      "========================================================\n",
      "Epoch 8/4000\n"
     ]
    },
    {
     "name": "stderr",
     "output_type": "stream",
     "text": [
      "Training: 100%|██████████| 24/24 [01:03<00:00,  2.63s/it, loss=0.707]\n",
      "Validation: 100%|██████████| 4/4 [00:04<00:00,  1.20s/it, loss=0.737]\n"
     ]
    },
    {
     "name": "stdout",
     "output_type": "stream",
     "text": [
      "Validation Dice Score\n",
      "Class 0: 0.1541, Class 1: 0.0027, Class 2: 0.0013, Class 3: 0.0002, \n",
      "Class 4: 0.0540, Class 5: 0.2412, Class 6: 0.1465, \n",
      "Validation F-beta Score\n",
      "Class 0: 0.0883, Class 1: 0.0210, Class 2: 0.0101, Class 3: 0.0017, \n",
      "Class 4: 0.2113, Class 5: 0.3168, Class 6: 0.2561, \n",
      "Overall Mean Dice Score: 0.0889\n",
      "Overall Mean F-beta Score: 0.1614\n",
      "\n",
      "Training Loss: 0.7082, Validation Loss: 0.7077, Validation F-beta: 0.1614\n",
      "Epoch 9/4000\n"
     ]
    },
    {
     "name": "stderr",
     "output_type": "stream",
     "text": [
      "Training: 100%|██████████| 24/24 [01:27<00:00,  3.67s/it, loss=0.715]\n",
      "Validation: 100%|██████████| 4/4 [00:05<00:00,  1.41s/it, loss=0.676]\n"
     ]
    },
    {
     "name": "stdout",
     "output_type": "stream",
     "text": [
      "Validation Dice Score\n",
      "Class 0: 0.1238, Class 1: 0.0015, Class 2: 0.0007, Class 3: 0.0007, \n",
      "Class 4: 0.2215, Class 5: 0.3822, Class 6: 0.1845, \n",
      "Validation F-beta Score\n",
      "Class 0: 0.0699, Class 1: 0.0121, Class 2: 0.0059, Class 3: 0.0055, \n",
      "Class 4: 0.3569, Class 5: 0.4076, Class 6: 0.3534, \n",
      "Overall Mean Dice Score: 0.1581\n",
      "Overall Mean F-beta Score: 0.2271\n",
      "\n",
      "Training Loss: 0.7006, Validation Loss: 0.6752, Validation F-beta: 0.2271\n",
      "========================================================\n",
      "SUPER Best model saved. Loss:0.6752, Score:0.2271\n",
      "========================================================\n",
      "Epoch 10/4000\n"
     ]
    },
    {
     "name": "stderr",
     "output_type": "stream",
     "text": [
      "Training: 100%|██████████| 24/24 [01:19<00:00,  3.31s/it, loss=0.716]\n",
      "Validation: 100%|██████████| 4/4 [00:04<00:00,  1.01s/it, loss=0.705]\n"
     ]
    },
    {
     "name": "stdout",
     "output_type": "stream",
     "text": [
      "Validation Dice Score\n",
      "Class 0: 0.1086, Class 1: 0.0022, Class 2: 0.0003, Class 3: 0.0012, \n",
      "Class 4: 0.1488, Class 5: 0.2405, Class 6: 0.2620, \n",
      "Validation F-beta Score\n",
      "Class 0: 0.0608, Class 1: 0.0175, Class 2: 0.0023, Class 3: 0.0089, \n",
      "Class 4: 0.2767, Class 5: 0.3125, Class 6: 0.4312, \n",
      "Overall Mean Dice Score: 0.1309\n",
      "Overall Mean F-beta Score: 0.2094\n",
      "\n",
      "Training Loss: 0.6949, Validation Loss: 0.6880, Validation F-beta: 0.2094\n",
      "Epoch 11/4000\n"
     ]
    },
    {
     "name": "stderr",
     "output_type": "stream",
     "text": [
      "Training: 100%|██████████| 24/24 [00:56<00:00,  2.36s/it, loss=0.676]\n",
      "Validation: 100%|██████████| 4/4 [00:03<00:00,  1.20it/s, loss=0.701]\n"
     ]
    },
    {
     "name": "stdout",
     "output_type": "stream",
     "text": [
      "Validation Dice Score\n",
      "Class 0: 0.0844, Class 1: 0.0013, Class 2: 0.0013, Class 3: 0.0000, \n",
      "Class 4: 0.2034, Class 5: 0.2435, Class 6: 0.1936, \n",
      "Validation F-beta Score\n",
      "Class 0: 0.0467, Class 1: 0.0103, Class 2: 0.0098, Class 3: 0.0000, \n",
      "Class 4: 0.3229, Class 5: 0.3514, Class 6: 0.4130, \n",
      "Overall Mean Dice Score: 0.1283\n",
      "Overall Mean F-beta Score: 0.2195\n",
      "\n",
      "Training Loss: 0.6964, Validation Loss: 0.6934, Validation F-beta: 0.2195\n",
      "Epoch 12/4000\n"
     ]
    },
    {
     "name": "stderr",
     "output_type": "stream",
     "text": [
      "Training: 100%|██████████| 24/24 [00:51<00:00,  2.13s/it, loss=0.684]\n",
      "Validation: 100%|██████████| 4/4 [00:03<00:00,  1.02it/s, loss=0.687]\n"
     ]
    },
    {
     "name": "stdout",
     "output_type": "stream",
     "text": [
      "Validation Dice Score\n",
      "Class 0: 0.0872, Class 1: 0.0030, Class 2: 0.0011, Class 3: 0.0007, \n",
      "Class 4: 0.2207, Class 5: 0.3866, Class 6: 0.4208, \n",
      "Validation F-beta Score\n",
      "Class 0: 0.0484, Class 1: 0.0246, Class 2: 0.0087, Class 3: 0.0054, \n",
      "Class 4: 0.3150, Class 5: 0.5201, Class 6: 0.4885, \n",
      "Overall Mean Dice Score: 0.2064\n",
      "Overall Mean F-beta Score: 0.2707\n",
      "\n",
      "Training Loss: 0.6863, Validation Loss: 0.6665, Validation F-beta: 0.2707\n",
      "========================================================\n",
      "SUPER Best model saved. Loss:0.6665, Score:0.2707\n",
      "========================================================\n",
      "Epoch 13/4000\n"
     ]
    },
    {
     "name": "stderr",
     "output_type": "stream",
     "text": [
      "Training: 100%|██████████| 24/24 [00:42<00:00,  1.77s/it, loss=0.688]\n",
      "Validation: 100%|██████████| 4/4 [00:02<00:00,  1.72it/s, loss=0.689]\n"
     ]
    },
    {
     "name": "stdout",
     "output_type": "stream",
     "text": [
      "Validation Dice Score\n",
      "Class 0: 0.0740, Class 1: 0.0008, Class 2: 0.0024, Class 3: 0.0011, \n",
      "Class 4: 0.1927, Class 5: 0.2544, Class 6: 0.2084, \n",
      "Validation F-beta Score\n",
      "Class 0: 0.0408, Class 1: 0.0063, Class 2: 0.0177, Class 3: 0.0082, \n",
      "Class 4: 0.2290, Class 5: 0.4052, Class 6: 0.3995, \n",
      "Overall Mean Dice Score: 0.1315\n",
      "Overall Mean F-beta Score: 0.2096\n",
      "\n",
      "Training Loss: 0.6803, Validation Loss: 0.6925, Validation F-beta: 0.2096\n",
      "Epoch 14/4000\n"
     ]
    },
    {
     "name": "stderr",
     "output_type": "stream",
     "text": [
      "Training: 100%|██████████| 24/24 [00:34<00:00,  1.43s/it, loss=0.689]\n",
      "Validation: 100%|██████████| 4/4 [00:02<00:00,  1.76it/s, loss=0.675]\n"
     ]
    },
    {
     "name": "stdout",
     "output_type": "stream",
     "text": [
      "Validation Dice Score\n",
      "Class 0: 0.0498, Class 1: 0.0021, Class 2: 0.0020, Class 3: 0.0010, \n",
      "Class 4: 0.2626, Class 5: 0.2113, Class 6: 0.3546, \n",
      "Validation F-beta Score\n",
      "Class 0: 0.0271, Class 1: 0.0168, Class 2: 0.0148, Class 3: 0.0075, \n",
      "Class 4: 0.2757, Class 5: 0.3048, Class 6: 0.5713, \n",
      "Overall Mean Dice Score: 0.1663\n",
      "Overall Mean F-beta Score: 0.2352\n",
      "\n",
      "Training Loss: 0.6919, Validation Loss: 0.6822, Validation F-beta: 0.2352\n",
      "Epoch 15/4000\n"
     ]
    },
    {
     "name": "stderr",
     "output_type": "stream",
     "text": [
      "Training: 100%|██████████| 24/24 [00:28<00:00,  1.20s/it, loss=0.667]\n",
      "Validation: 100%|██████████| 4/4 [00:02<00:00,  1.89it/s, loss=0.673]\n"
     ]
    },
    {
     "name": "stdout",
     "output_type": "stream",
     "text": [
      "Validation Dice Score\n",
      "Class 0: 0.0410, Class 1: 0.0041, Class 2: 0.0012, Class 3: 0.0003, \n",
      "Class 4: 0.1704, Class 5: 0.1388, Class 6: 0.5109, \n",
      "Validation F-beta Score\n",
      "Class 0: 0.0223, Class 1: 0.0318, Class 2: 0.0095, Class 3: 0.0020, \n",
      "Class 4: 0.2226, Class 5: 0.2715, Class 6: 0.5924, \n",
      "Overall Mean Dice Score: 0.1649\n",
      "Overall Mean F-beta Score: 0.2241\n",
      "\n",
      "Training Loss: 0.6812, Validation Loss: 0.6784, Validation F-beta: 0.2241\n",
      "Epoch 16/4000\n"
     ]
    },
    {
     "name": "stderr",
     "output_type": "stream",
     "text": [
      "Training: 100%|██████████| 24/24 [00:26<00:00,  1.10s/it, loss=0.685]\n",
      "Validation: 100%|██████████| 4/4 [00:02<00:00,  1.96it/s, loss=0.706]\n"
     ]
    },
    {
     "name": "stdout",
     "output_type": "stream",
     "text": [
      "Validation Dice Score\n",
      "Class 0: 0.0470, Class 1: 0.0015, Class 2: 0.0004, Class 3: 0.0014, \n",
      "Class 4: 0.1979, Class 5: 0.2172, Class 6: 0.2647, \n",
      "Validation F-beta Score\n",
      "Class 0: 0.0256, Class 1: 0.0120, Class 2: 0.0032, Class 3: 0.0097, \n",
      "Class 4: 0.2396, Class 5: 0.3862, Class 6: 0.4676, \n",
      "Overall Mean Dice Score: 0.1365\n",
      "Overall Mean F-beta Score: 0.2230\n",
      "\n",
      "Training Loss: 0.6876, Validation Loss: 0.6883, Validation F-beta: 0.2230\n",
      "Epoch 17/4000\n"
     ]
    },
    {
     "name": "stderr",
     "output_type": "stream",
     "text": [
      "Training: 100%|██████████| 24/24 [00:23<00:00,  1.01it/s, loss=0.692]\n",
      "Validation: 100%|██████████| 4/4 [00:02<00:00,  1.95it/s, loss=0.678]\n"
     ]
    },
    {
     "name": "stdout",
     "output_type": "stream",
     "text": [
      "Validation Dice Score\n",
      "Class 0: 0.0396, Class 1: 0.0040, Class 2: 0.0011, Class 3: 0.0012, \n",
      "Class 4: 0.2467, Class 5: 0.2035, Class 6: 0.3691, \n",
      "Validation F-beta Score\n",
      "Class 0: 0.0215, Class 1: 0.0294, Class 2: 0.0084, Class 3: 0.0094, \n",
      "Class 4: 0.3931, Class 5: 0.3129, Class 6: 0.5004, \n",
      "Overall Mean Dice Score: 0.1649\n",
      "Overall Mean F-beta Score: 0.2491\n",
      "\n",
      "Training Loss: 0.6802, Validation Loss: 0.6931, Validation F-beta: 0.2491\n",
      "Epoch 18/4000\n"
     ]
    },
    {
     "name": "stderr",
     "output_type": "stream",
     "text": [
      "Training: 100%|██████████| 24/24 [00:26<00:00,  1.09s/it, loss=0.684]\n",
      "Validation: 100%|██████████| 4/4 [00:02<00:00,  1.47it/s, loss=0.693]\n"
     ]
    },
    {
     "name": "stdout",
     "output_type": "stream",
     "text": [
      "Validation Dice Score\n",
      "Class 0: 0.0334, Class 1: 0.0027, Class 2: 0.0008, Class 3: 0.0022, \n",
      "Class 4: 0.3062, Class 5: 0.2618, Class 6: 0.1827, \n",
      "Validation F-beta Score\n",
      "Class 0: 0.0181, Class 1: 0.0208, Class 2: 0.0064, Class 3: 0.0169, \n",
      "Class 4: 0.3341, Class 5: 0.3792, Class 6: 0.4146, \n",
      "Overall Mean Dice Score: 0.1511\n",
      "Overall Mean F-beta Score: 0.2331\n",
      "\n",
      "Training Loss: 0.6870, Validation Loss: 0.6813, Validation F-beta: 0.2331\n",
      "Epoch 19/4000\n"
     ]
    },
    {
     "name": "stderr",
     "output_type": "stream",
     "text": [
      "Training: 100%|██████████| 24/24 [00:29<00:00,  1.24s/it, loss=0.707]\n",
      "Validation: 100%|██████████| 4/4 [00:03<00:00,  1.15it/s, loss=0.662]\n"
     ]
    },
    {
     "name": "stdout",
     "output_type": "stream",
     "text": [
      "Validation Dice Score\n",
      "Class 0: 0.0350, Class 1: 0.0030, Class 2: 0.0007, Class 3: 0.0001, \n",
      "Class 4: 0.1939, Class 5: 0.3303, Class 6: 0.3480, \n",
      "Validation F-beta Score\n",
      "Class 0: 0.0189, Class 1: 0.0229, Class 2: 0.0050, Class 3: 0.0007, \n",
      "Class 4: 0.5010, Class 5: 0.4855, Class 6: 0.5219, \n",
      "Overall Mean Dice Score: 0.1751\n",
      "Overall Mean F-beta Score: 0.3064\n",
      "\n",
      "Training Loss: 0.6785, Validation Loss: 0.6784, Validation F-beta: 0.3064\n",
      "========================================================\n",
      "Best model saved based on F-beta score: 0.3064\n",
      "========================================================\n",
      "Epoch 20/4000\n"
     ]
    },
    {
     "name": "stderr",
     "output_type": "stream",
     "text": [
      "Training: 100%|██████████| 24/24 [00:31<00:00,  1.32s/it, loss=0.673]\n",
      "Validation: 100%|██████████| 4/4 [00:03<00:00,  1.20it/s, loss=0.68] \n"
     ]
    },
    {
     "name": "stdout",
     "output_type": "stream",
     "text": [
      "Validation Dice Score\n",
      "Class 0: 0.0210, Class 1: 0.0007, Class 2: 0.0010, Class 3: 0.0005, \n",
      "Class 4: 0.0663, Class 5: 0.2954, Class 6: 0.5011, \n",
      "Validation F-beta Score\n",
      "Class 0: 0.0113, Class 1: 0.0051, Class 2: 0.0082, Class 3: 0.0042, \n",
      "Class 4: 0.2431, Class 5: 0.4233, Class 6: 0.5598, \n",
      "Overall Mean Dice Score: 0.1728\n",
      "Overall Mean F-beta Score: 0.2471\n",
      "\n",
      "Training Loss: 0.6819, Validation Loss: 0.6811, Validation F-beta: 0.2471\n",
      "Epoch 21/4000\n"
     ]
    },
    {
     "name": "stderr",
     "output_type": "stream",
     "text": [
      "Training: 100%|██████████| 24/24 [00:32<00:00,  1.36s/it, loss=0.695]\n",
      "Validation: 100%|██████████| 4/4 [00:03<00:00,  1.16it/s, loss=0.668]\n"
     ]
    },
    {
     "name": "stdout",
     "output_type": "stream",
     "text": [
      "Validation Dice Score\n",
      "Class 0: 0.0195, Class 1: 0.0176, Class 2: 0.0019, Class 3: 0.0006, \n",
      "Class 4: 0.1722, Class 5: 0.3054, Class 6: 0.6942, \n",
      "Validation F-beta Score\n",
      "Class 0: 0.0105, Class 1: 0.1164, Class 2: 0.0153, Class 3: 0.0046, \n",
      "Class 4: 0.4175, Class 5: 0.4714, Class 6: 0.7594, \n",
      "Overall Mean Dice Score: 0.2380\n",
      "Overall Mean F-beta Score: 0.3539\n",
      "\n",
      "Training Loss: 0.6792, Validation Loss: 0.6430, Validation F-beta: 0.3539\n",
      "========================================================\n",
      "SUPER Best model saved. Loss:0.6430, Score:0.3539\n",
      "========================================================\n",
      "Epoch 22/4000\n"
     ]
    },
    {
     "name": "stderr",
     "output_type": "stream",
     "text": [
      "Training: 100%|██████████| 24/24 [00:39<00:00,  1.65s/it, loss=0.657]\n",
      "Validation: 100%|██████████| 4/4 [00:03<00:00,  1.19it/s, loss=0.648]\n"
     ]
    },
    {
     "name": "stdout",
     "output_type": "stream",
     "text": [
      "Validation Dice Score\n",
      "Class 0: 0.0160, Class 1: 0.0084, Class 2: 0.0023, Class 3: 0.0005, \n",
      "Class 4: 0.1645, Class 5: 0.2368, Class 6: 0.4227, \n",
      "Validation F-beta Score\n",
      "Class 0: 0.0086, Class 1: 0.0561, Class 2: 0.0183, Class 3: 0.0040, \n",
      "Class 4: 0.3384, Class 5: 0.2966, Class 6: 0.6127, \n",
      "Overall Mean Dice Score: 0.1666\n",
      "Overall Mean F-beta Score: 0.2616\n",
      "\n",
      "Training Loss: 0.6794, Validation Loss: 0.6777, Validation F-beta: 0.2616\n",
      "Epoch 23/4000\n"
     ]
    },
    {
     "name": "stderr",
     "output_type": "stream",
     "text": [
      "Training: 100%|██████████| 24/24 [00:49<00:00,  2.07s/it, loss=0.668]\n",
      "Validation: 100%|██████████| 4/4 [00:04<00:00,  1.01s/it, loss=0.666]\n"
     ]
    },
    {
     "name": "stdout",
     "output_type": "stream",
     "text": [
      "Validation Dice Score\n",
      "Class 0: 0.0218, Class 1: 0.0022, Class 2: 0.0009, Class 3: 0.0005, \n",
      "Class 4: 0.2143, Class 5: 0.3891, Class 6: 0.4717, \n",
      "Validation F-beta Score\n",
      "Class 0: 0.0117, Class 1: 0.0165, Class 2: 0.0072, Class 3: 0.0036, \n",
      "Class 4: 0.2974, Class 5: 0.5365, Class 6: 0.6911, \n",
      "Overall Mean Dice Score: 0.2155\n",
      "Overall Mean F-beta Score: 0.3090\n",
      "\n",
      "Training Loss: 0.6766, Validation Loss: 0.6657, Validation F-beta: 0.3090\n",
      "Epoch 24/4000\n"
     ]
    },
    {
     "name": "stderr",
     "output_type": "stream",
     "text": [
      "Training: 100%|██████████| 24/24 [01:09<00:00,  2.88s/it, loss=0.663]\n",
      "Validation: 100%|██████████| 4/4 [00:04<00:00,  1.08s/it, loss=0.677]\n"
     ]
    },
    {
     "name": "stdout",
     "output_type": "stream",
     "text": [
      "Validation Dice Score\n",
      "Class 0: 0.0075, Class 1: 0.0136, Class 2: 0.0021, Class 3: 0.0015, \n",
      "Class 4: 0.1701, Class 5: 0.3607, Class 6: 0.3793, \n",
      "Validation F-beta Score\n",
      "Class 0: 0.0040, Class 1: 0.0892, Class 2: 0.0169, Class 3: 0.0113, \n",
      "Class 4: 0.2580, Class 5: 0.4404, Class 6: 0.6674, \n",
      "Overall Mean Dice Score: 0.1851\n",
      "Overall Mean F-beta Score: 0.2933\n",
      "\n",
      "Training Loss: 0.6743, Validation Loss: 0.6709, Validation F-beta: 0.2933\n",
      "Epoch 25/4000\n"
     ]
    },
    {
     "name": "stderr",
     "output_type": "stream",
     "text": [
      "Training: 100%|██████████| 24/24 [01:18<00:00,  3.27s/it, loss=0.662]\n",
      "Validation: 100%|██████████| 4/4 [00:04<00:00,  1.03s/it, loss=0.665]\n"
     ]
    },
    {
     "name": "stdout",
     "output_type": "stream",
     "text": [
      "Validation Dice Score\n",
      "Class 0: 0.0088, Class 1: 0.0141, Class 2: 0.0017, Class 3: 0.0011, \n",
      "Class 4: 0.2035, Class 5: 0.4314, Class 6: 0.5453, \n",
      "Validation F-beta Score\n",
      "Class 0: 0.0047, Class 1: 0.0799, Class 2: 0.0136, Class 3: 0.0087, \n",
      "Class 4: 0.3860, Class 5: 0.6421, Class 6: 0.6546, \n",
      "Overall Mean Dice Score: 0.2391\n",
      "Overall Mean F-beta Score: 0.3543\n",
      "\n",
      "Training Loss: 0.6729, Validation Loss: 0.6557, Validation F-beta: 0.3543\n",
      "========================================================\n",
      "Best model saved based on F-beta score: 0.3543\n",
      "========================================================\n",
      "Epoch 26/4000\n"
     ]
    },
    {
     "name": "stderr",
     "output_type": "stream",
     "text": [
      "Training: 100%|██████████| 24/24 [00:56<00:00,  2.37s/it, loss=0.633]\n",
      "Validation: 100%|██████████| 4/4 [00:03<00:00,  1.00it/s, loss=0.653]\n"
     ]
    },
    {
     "name": "stdout",
     "output_type": "stream",
     "text": [
      "Validation Dice Score\n",
      "Class 0: 0.0059, Class 1: 0.0142, Class 2: 0.0006, Class 3: 0.0004, \n",
      "Class 4: 0.1040, Class 5: 0.4007, Class 6: 0.5508, \n",
      "Validation F-beta Score\n",
      "Class 0: 0.0031, Class 1: 0.0737, Class 2: 0.0046, Class 3: 0.0029, \n",
      "Class 4: 0.2895, Class 5: 0.5557, Class 6: 0.7151, \n",
      "Overall Mean Dice Score: 0.2140\n",
      "Overall Mean F-beta Score: 0.3274\n",
      "\n",
      "Training Loss: 0.6725, Validation Loss: 0.6636, Validation F-beta: 0.3274\n",
      "Epoch 27/4000\n"
     ]
    },
    {
     "name": "stderr",
     "output_type": "stream",
     "text": [
      "Training: 100%|██████████| 24/24 [00:47<00:00,  2.00s/it, loss=0.682]\n",
      "Validation: 100%|██████████| 4/4 [00:03<00:00,  1.02it/s, loss=0.677]\n"
     ]
    },
    {
     "name": "stdout",
     "output_type": "stream",
     "text": [
      "Validation Dice Score\n",
      "Class 0: 0.0038, Class 1: 0.0195, Class 2: 0.0022, Class 3: 0.0010, \n",
      "Class 4: 0.1983, Class 5: 0.2766, Class 6: 0.4456, \n",
      "Validation F-beta Score\n",
      "Class 0: 0.0020, Class 1: 0.0849, Class 2: 0.0175, Class 3: 0.0080, \n",
      "Class 4: 0.2845, Class 5: 0.3823, Class 6: 0.5354, \n",
      "Overall Mean Dice Score: 0.1882\n",
      "Overall Mean F-beta Score: 0.2590\n",
      "\n",
      "Training Loss: 0.6726, Validation Loss: 0.6773, Validation F-beta: 0.2590\n",
      "Epoch 28/4000\n"
     ]
    },
    {
     "name": "stderr",
     "output_type": "stream",
     "text": [
      "Training: 100%|██████████| 24/24 [00:50<00:00,  2.11s/it, loss=0.707]\n",
      "Validation: 100%|██████████| 4/4 [00:03<00:00,  1.25it/s, loss=0.677]\n"
     ]
    },
    {
     "name": "stdout",
     "output_type": "stream",
     "text": [
      "Validation Dice Score\n",
      "Class 0: 0.0038, Class 1: 0.0271, Class 2: 0.0007, Class 3: 0.0012, \n",
      "Class 4: 0.2672, Class 5: 0.2790, Class 6: 0.2614, \n",
      "Validation F-beta Score\n",
      "Class 0: 0.0020, Class 1: 0.1311, Class 2: 0.0055, Class 3: 0.0095, \n",
      "Class 4: 0.4847, Class 5: 0.3722, Class 6: 0.6080, \n",
      "Overall Mean Dice Score: 0.1672\n",
      "Overall Mean F-beta Score: 0.3211\n",
      "\n",
      "Training Loss: 0.6808, Validation Loss: 0.6807, Validation F-beta: 0.3211\n",
      "Epoch 29/4000\n"
     ]
    },
    {
     "name": "stderr",
     "output_type": "stream",
     "text": [
      "Training: 100%|██████████| 24/24 [00:36<00:00,  1.53s/it, loss=0.689]\n",
      "Validation: 100%|██████████| 4/4 [00:02<00:00,  1.64it/s, loss=0.675]\n"
     ]
    },
    {
     "name": "stdout",
     "output_type": "stream",
     "text": [
      "Validation Dice Score\n",
      "Class 0: 0.0039, Class 1: 0.0213, Class 2: 0.0010, Class 3: 0.0009, \n",
      "Class 4: 0.2302, Class 5: 0.3655, Class 6: 0.5261, \n",
      "Validation F-beta Score\n",
      "Class 0: 0.0021, Class 1: 0.0823, Class 2: 0.0084, Class 3: 0.0068, \n",
      "Class 4: 0.4919, Class 5: 0.4609, Class 6: 0.6204, \n",
      "Overall Mean Dice Score: 0.2288\n",
      "Overall Mean F-beta Score: 0.3325\n",
      "\n",
      "Training Loss: 0.6741, Validation Loss: 0.6579, Validation F-beta: 0.3325\n",
      "Epoch 30/4000\n"
     ]
    },
    {
     "name": "stderr",
     "output_type": "stream",
     "text": [
      "Training: 100%|██████████| 24/24 [00:34<00:00,  1.43s/it, loss=0.7]  \n",
      "Validation: 100%|██████████| 4/4 [00:02<00:00,  1.64it/s, loss=0.618]\n"
     ]
    },
    {
     "name": "stdout",
     "output_type": "stream",
     "text": [
      "Validation Dice Score\n",
      "Class 0: 0.0012, Class 1: 0.0164, Class 2: 0.0024, Class 3: 0.0005, \n",
      "Class 4: 0.3058, Class 5: 0.2924, Class 6: 0.5880, \n",
      "Validation F-beta Score\n",
      "Class 0: 0.0006, Class 1: 0.0859, Class 2: 0.0197, Class 3: 0.0041, \n",
      "Class 4: 0.5355, Class 5: 0.4646, Class 6: 0.7976, \n",
      "Overall Mean Dice Score: 0.2406\n",
      "Overall Mean F-beta Score: 0.3775\n",
      "\n",
      "Training Loss: 0.6707, Validation Loss: 0.6526, Validation F-beta: 0.3775\n",
      "========================================================\n",
      "Best model saved based on F-beta score: 0.3775\n",
      "========================================================\n",
      "Epoch 31/4000\n"
     ]
    },
    {
     "name": "stderr",
     "output_type": "stream",
     "text": [
      "Training: 100%|██████████| 24/24 [00:29<00:00,  1.23s/it, loss=0.683]\n",
      "Validation: 100%|██████████| 4/4 [00:02<00:00,  1.64it/s, loss=0.662]\n"
     ]
    },
    {
     "name": "stdout",
     "output_type": "stream",
     "text": [
      "Validation Dice Score\n",
      "Class 0: 0.0018, Class 1: 0.0056, Class 2: 0.0012, Class 3: 0.0006, \n",
      "Class 4: 0.2007, Class 5: 0.3000, Class 6: 0.1327, \n",
      "Validation F-beta Score\n",
      "Class 0: 0.0010, Class 1: 0.0269, Class 2: 0.0096, Class 3: 0.0044, \n",
      "Class 4: 0.3811, Class 5: 0.3576, Class 6: 0.2001, \n",
      "Overall Mean Dice Score: 0.1279\n",
      "Overall Mean F-beta Score: 0.1940\n",
      "\n",
      "Training Loss: 0.6717, Validation Loss: 0.6910, Validation F-beta: 0.1940\n",
      "Epoch 32/4000\n"
     ]
    },
    {
     "name": "stderr",
     "output_type": "stream",
     "text": [
      "Training: 100%|██████████| 24/24 [00:30<00:00,  1.25s/it, loss=0.699]\n",
      "Validation: 100%|██████████| 4/4 [00:02<00:00,  1.65it/s, loss=0.694]\n"
     ]
    },
    {
     "name": "stdout",
     "output_type": "stream",
     "text": [
      "Validation Dice Score\n",
      "Class 0: 0.0013, Class 1: 0.0192, Class 2: 0.0011, Class 3: 0.0015, \n",
      "Class 4: 0.2699, Class 5: 0.2450, Class 6: 0.3877, \n",
      "Validation F-beta Score\n",
      "Class 0: 0.0007, Class 1: 0.0944, Class 2: 0.0088, Class 3: 0.0114, \n",
      "Class 4: 0.4029, Class 5: 0.3083, Class 6: 0.5988, \n",
      "Overall Mean Dice Score: 0.1847\n",
      "Overall Mean F-beta Score: 0.2832\n",
      "\n",
      "Training Loss: 0.6784, Validation Loss: 0.6769, Validation F-beta: 0.2832\n",
      "Epoch 33/4000\n"
     ]
    },
    {
     "name": "stderr",
     "output_type": "stream",
     "text": [
      "Training: 100%|██████████| 24/24 [00:32<00:00,  1.36s/it, loss=0.687]\n",
      "Validation: 100%|██████████| 4/4 [00:03<00:00,  1.32it/s, loss=0.66] \n"
     ]
    },
    {
     "name": "stdout",
     "output_type": "stream",
     "text": [
      "Validation Dice Score\n",
      "Class 0: 0.0003, Class 1: 0.0068, Class 2: 0.0026, Class 3: 0.0010, \n",
      "Class 4: 0.3015, Class 5: 0.4293, Class 6: 0.3332, \n",
      "Validation F-beta Score\n",
      "Class 0: 0.0002, Class 1: 0.0336, Class 2: 0.0208, Class 3: 0.0079, \n",
      "Class 4: 0.3682, Class 5: 0.5512, Class 6: 0.3912, \n",
      "Overall Mean Dice Score: 0.2144\n",
      "Overall Mean F-beta Score: 0.2704\n",
      "\n",
      "Training Loss: 0.6678, Validation Loss: 0.6509, Validation F-beta: 0.2704\n",
      "Epoch 34/4000\n"
     ]
    },
    {
     "name": "stderr",
     "output_type": "stream",
     "text": [
      "Training: 100%|██████████| 24/24 [00:33<00:00,  1.38s/it, loss=0.682]\n",
      "Validation: 100%|██████████| 4/4 [00:03<00:00,  1.17it/s, loss=0.613]\n"
     ]
    },
    {
     "name": "stdout",
     "output_type": "stream",
     "text": [
      "Validation Dice Score\n",
      "Class 0: 0.0003, Class 1: 0.0177, Class 2: 0.0004, Class 3: 0.0004, \n",
      "Class 4: 0.3126, Class 5: 0.4259, Class 6: 0.4650, \n",
      "Validation F-beta Score\n",
      "Class 0: 0.0001, Class 1: 0.0993, Class 2: 0.0031, Class 3: 0.0035, \n",
      "Class 4: 0.4407, Class 5: 0.6376, Class 6: 0.5405, \n",
      "Overall Mean Dice Score: 0.2443\n",
      "Overall Mean F-beta Score: 0.3443\n",
      "\n",
      "Training Loss: 0.6709, Validation Loss: 0.6564, Validation F-beta: 0.3443\n",
      "Epoch 35/4000\n"
     ]
    },
    {
     "name": "stderr",
     "output_type": "stream",
     "text": [
      "Training: 100%|██████████| 24/24 [00:35<00:00,  1.46s/it, loss=0.685]\n",
      "Validation: 100%|██████████| 4/4 [00:03<00:00,  1.11it/s, loss=0.637]\n"
     ]
    },
    {
     "name": "stdout",
     "output_type": "stream",
     "text": [
      "Validation Dice Score\n",
      "Class 0: 0.0003, Class 1: 0.0489, Class 2: 0.0031, Class 3: 0.0013, \n",
      "Class 4: 0.2279, Class 5: 0.3332, Class 6: 0.5705, \n",
      "Validation F-beta Score\n",
      "Class 0: 0.0002, Class 1: 0.1672, Class 2: 0.0247, Class 3: 0.0098, \n",
      "Class 4: 0.3156, Class 5: 0.5106, Class 6: 0.7393, \n",
      "Overall Mean Dice Score: 0.2364\n",
      "Overall Mean F-beta Score: 0.3485\n",
      "\n",
      "Training Loss: 0.6701, Validation Loss: 0.6615, Validation F-beta: 0.3485\n",
      "Epoch 36/4000\n"
     ]
    },
    {
     "name": "stderr",
     "output_type": "stream",
     "text": [
      "Training: 100%|██████████| 24/24 [00:37<00:00,  1.55s/it, loss=0.682]\n",
      "Validation: 100%|██████████| 4/4 [00:03<00:00,  1.05it/s, loss=0.676]\n"
     ]
    },
    {
     "name": "stdout",
     "output_type": "stream",
     "text": [
      "Validation Dice Score\n",
      "Class 0: 0.0005, Class 1: 0.0835, Class 2: 0.0025, Class 3: 0.0005, \n",
      "Class 4: 0.2728, Class 5: 0.2827, Class 6: 0.4906, \n",
      "Validation F-beta Score\n",
      "Class 0: 0.0002, Class 1: 0.1440, Class 2: 0.0207, Class 3: 0.0039, \n",
      "Class 4: 0.2825, Class 5: 0.3637, Class 6: 0.5606, \n",
      "Overall Mean Dice Score: 0.2260\n",
      "Overall Mean F-beta Score: 0.2709\n",
      "\n",
      "Training Loss: 0.6784, Validation Loss: 0.6627, Validation F-beta: 0.2709\n",
      "Epoch 37/4000\n"
     ]
    },
    {
     "name": "stderr",
     "output_type": "stream",
     "text": [
      "Training: 100%|██████████| 24/24 [00:39<00:00,  1.66s/it, loss=0.652]\n",
      "Validation: 100%|██████████| 4/4 [00:03<00:00,  1.09it/s, loss=0.648]\n"
     ]
    },
    {
     "name": "stdout",
     "output_type": "stream",
     "text": [
      "Validation Dice Score\n",
      "Class 0: 0.0003, Class 1: 0.1003, Class 2: 0.0032, Class 3: 0.0011, \n",
      "Class 4: 0.2506, Class 5: 0.2201, Class 6: 0.7150, \n",
      "Validation F-beta Score\n",
      "Class 0: 0.0002, Class 1: 0.1815, Class 2: 0.0263, Class 3: 0.0080, \n",
      "Class 4: 0.4403, Class 5: 0.3442, Class 6: 0.7676, \n",
      "Overall Mean Dice Score: 0.2574\n",
      "Overall Mean F-beta Score: 0.3483\n",
      "\n",
      "Training Loss: 0.6692, Validation Loss: 0.6658, Validation F-beta: 0.3483\n",
      "Epoch 38/4000\n"
     ]
    },
    {
     "name": "stderr",
     "output_type": "stream",
     "text": [
      "Training: 100%|██████████| 24/24 [00:44<00:00,  1.86s/it, loss=0.67] \n",
      "Validation: 100%|██████████| 4/4 [00:03<00:00,  1.09it/s, loss=0.678]\n"
     ]
    },
    {
     "name": "stdout",
     "output_type": "stream",
     "text": [
      "Validation Dice Score\n",
      "Class 0: 0.0001, Class 1: 0.1041, Class 2: 0.0018, Class 3: 0.0010, \n",
      "Class 4: 0.3163, Class 5: 0.3813, Class 6: 0.3813, \n",
      "Validation F-beta Score\n",
      "Class 0: 0.0001, Class 1: 0.1520, Class 2: 0.0149, Class 3: 0.0075, \n",
      "Class 4: 0.2746, Class 5: 0.5204, Class 6: 0.5463, \n",
      "Overall Mean Dice Score: 0.2368\n",
      "Overall Mean F-beta Score: 0.3002\n",
      "\n",
      "Training Loss: 0.6677, Validation Loss: 0.6542, Validation F-beta: 0.3002\n",
      "Epoch 39/4000\n"
     ]
    },
    {
     "name": "stderr",
     "output_type": "stream",
     "text": [
      "Training: 100%|██████████| 24/24 [00:48<00:00,  2.03s/it, loss=0.66] \n",
      "Validation: 100%|██████████| 4/4 [00:03<00:00,  1.02it/s, loss=0.627]\n"
     ]
    },
    {
     "name": "stdout",
     "output_type": "stream",
     "text": [
      "Validation Dice Score\n",
      "Class 0: 0.0001, Class 1: 0.0782, Class 2: 0.0012, Class 3: 0.0016, \n",
      "Class 4: 0.4941, Class 5: 0.3124, Class 6: 0.6740, \n",
      "Validation F-beta Score\n",
      "Class 0: 0.0000, Class 1: 0.0842, Class 2: 0.0094, Class 3: 0.0123, \n",
      "Class 4: 0.5470, Class 5: 0.4200, Class 6: 0.7972, \n",
      "Overall Mean Dice Score: 0.3121\n",
      "Overall Mean F-beta Score: 0.3721\n",
      "\n",
      "Training Loss: 0.6699, Validation Loss: 0.6425, Validation F-beta: 0.3721\n",
      "========================================================\n",
      "Best model saved based on validation loss: 0.6425\n",
      "========================================================\n",
      "Epoch 40/4000\n"
     ]
    },
    {
     "name": "stderr",
     "output_type": "stream",
     "text": [
      "Training: 100%|██████████| 24/24 [00:53<00:00,  2.21s/it, loss=0.693]\n",
      "Validation: 100%|██████████| 4/4 [00:04<00:00,  1.05s/it, loss=0.655]\n"
     ]
    },
    {
     "name": "stdout",
     "output_type": "stream",
     "text": [
      "Validation Dice Score\n",
      "Class 0: 0.0000, Class 1: 0.1565, Class 2: 0.0053, Class 3: 0.0018, \n",
      "Class 4: 0.2583, Class 5: 0.3320, Class 6: 0.6004, \n",
      "Validation F-beta Score\n",
      "Class 0: 0.0000, Class 1: 0.2294, Class 2: 0.0418, Class 3: 0.0142, \n",
      "Class 4: 0.5150, Class 5: 0.4604, Class 6: 0.7483, \n",
      "Overall Mean Dice Score: 0.2698\n",
      "Overall Mean F-beta Score: 0.3935\n",
      "\n",
      "Training Loss: 0.6648, Validation Loss: 0.6555, Validation F-beta: 0.3935\n",
      "========================================================\n",
      "Best model saved based on F-beta score: 0.3935\n",
      "========================================================\n",
      "Epoch 41/4000\n"
     ]
    },
    {
     "name": "stderr",
     "output_type": "stream",
     "text": [
      "Training: 100%|██████████| 24/24 [00:53<00:00,  2.23s/it, loss=0.676]\n",
      "Validation: 100%|██████████| 4/4 [00:03<00:00,  1.05it/s, loss=0.648]\n"
     ]
    },
    {
     "name": "stdout",
     "output_type": "stream",
     "text": [
      "Validation Dice Score\n",
      "Class 0: 0.0001, Class 1: 0.2749, Class 2: 0.0006, Class 3: 0.0017, \n",
      "Class 4: 0.3028, Class 5: 0.3631, Class 6: 0.5040, \n",
      "Validation F-beta Score\n",
      "Class 0: 0.0000, Class 1: 0.3957, Class 2: 0.0051, Class 3: 0.0133, \n",
      "Class 4: 0.3913, Class 5: 0.5007, Class 6: 0.8110, \n",
      "Overall Mean Dice Score: 0.2893\n",
      "Overall Mean F-beta Score: 0.4224\n",
      "\n",
      "Training Loss: 0.6639, Validation Loss: 0.6378, Validation F-beta: 0.4224\n",
      "========================================================\n",
      "SUPER Best model saved. Loss:0.6378, Score:0.4224\n",
      "========================================================\n",
      "Epoch 42/4000\n"
     ]
    },
    {
     "name": "stderr",
     "output_type": "stream",
     "text": [
      "Training: 100%|██████████| 24/24 [01:04<00:00,  2.67s/it, loss=0.689]\n",
      "Validation: 100%|██████████| 4/4 [00:03<00:00,  1.05it/s, loss=0.676]\n"
     ]
    },
    {
     "name": "stdout",
     "output_type": "stream",
     "text": [
      "Validation Dice Score\n",
      "Class 0: 0.0000, Class 1: 0.0655, Class 2: 0.0026, Class 3: 0.0007, \n",
      "Class 4: 0.3017, Class 5: 0.3394, Class 6: 0.6148, \n",
      "Validation F-beta Score\n",
      "Class 0: 0.0000, Class 1: 0.0382, Class 2: 0.0210, Class 3: 0.0051, \n",
      "Class 4: 0.5172, Class 5: 0.5031, Class 6: 0.6255, \n",
      "Overall Mean Dice Score: 0.2644\n",
      "Overall Mean F-beta Score: 0.3378\n",
      "\n",
      "Training Loss: 0.6641, Validation Loss: 0.6539, Validation F-beta: 0.3378\n",
      "Epoch 43/4000\n"
     ]
    },
    {
     "name": "stderr",
     "output_type": "stream",
     "text": [
      "Training: 100%|██████████| 24/24 [01:03<00:00,  2.66s/it, loss=0.681]\n",
      "Validation: 100%|██████████| 4/4 [00:04<00:00,  1.00s/it, loss=0.645]\n"
     ]
    },
    {
     "name": "stdout",
     "output_type": "stream",
     "text": [
      "Validation Dice Score\n",
      "Class 0: 0.0000, Class 1: 0.1825, Class 2: 0.0023, Class 3: 0.0006, \n",
      "Class 4: 0.1788, Class 5: 0.3833, Class 6: 0.6365, \n",
      "Validation F-beta Score\n",
      "Class 0: 0.0000, Class 1: 0.3827, Class 2: 0.0187, Class 3: 0.0049, \n",
      "Class 4: 0.3447, Class 5: 0.5895, Class 6: 0.6508, \n",
      "Overall Mean Dice Score: 0.2764\n",
      "Overall Mean F-beta Score: 0.3945\n",
      "\n",
      "Training Loss: 0.6685, Validation Loss: 0.6488, Validation F-beta: 0.3945\n",
      "Epoch 44/4000\n"
     ]
    },
    {
     "name": "stderr",
     "output_type": "stream",
     "text": [
      "Training: 100%|██████████| 24/24 [01:03<00:00,  2.66s/it, loss=0.682]\n",
      "Validation: 100%|██████████| 4/4 [00:03<00:00,  1.01it/s, loss=0.629]\n"
     ]
    },
    {
     "name": "stdout",
     "output_type": "stream",
     "text": [
      "Validation Dice Score\n",
      "Class 0: 0.0000, Class 1: 0.1972, Class 2: 0.0029, Class 3: 0.0018, \n",
      "Class 4: 0.1999, Class 5: 0.4010, Class 6: 0.6697, \n",
      "Validation F-beta Score\n",
      "Class 0: 0.0000, Class 1: 0.4202, Class 2: 0.0234, Class 3: 0.0139, \n",
      "Class 4: 0.2909, Class 5: 0.5511, Class 6: 0.7389, \n",
      "Overall Mean Dice Score: 0.2939\n",
      "Overall Mean F-beta Score: 0.4030\n",
      "\n",
      "Training Loss: 0.6634, Validation Loss: 0.6453, Validation F-beta: 0.4030\n",
      "Epoch 45/4000\n"
     ]
    },
    {
     "name": "stderr",
     "output_type": "stream",
     "text": [
      "Training: 100%|██████████| 24/24 [01:04<00:00,  2.68s/it, loss=0.649]\n",
      "Validation: 100%|██████████| 4/4 [00:04<00:00,  1.05s/it, loss=0.679]\n"
     ]
    },
    {
     "name": "stdout",
     "output_type": "stream",
     "text": [
      "Validation Dice Score\n",
      "Class 0: 0.0000, Class 1: 0.1460, Class 2: 0.0031, Class 3: 0.0004, \n",
      "Class 4: 0.3519, Class 5: 0.3551, Class 6: 0.6114, \n",
      "Validation F-beta Score\n",
      "Class 0: 0.0000, Class 1: 0.4205, Class 2: 0.0236, Class 3: 0.0035, \n",
      "Class 4: 0.3989, Class 5: 0.5387, Class 6: 0.7604, \n",
      "Overall Mean Dice Score: 0.2930\n",
      "Overall Mean F-beta Score: 0.4244\n",
      "\n",
      "Training Loss: 0.6615, Validation Loss: 0.6434, Validation F-beta: 0.4244\n",
      "========================================================\n",
      "Best model saved based on F-beta score: 0.4244\n",
      "========================================================\n",
      "Epoch 46/4000\n"
     ]
    },
    {
     "name": "stderr",
     "output_type": "stream",
     "text": [
      "Training: 100%|██████████| 24/24 [01:06<00:00,  2.77s/it, loss=0.676]\n",
      "Validation: 100%|██████████| 4/4 [00:03<00:00,  1.01it/s, loss=0.687]\n"
     ]
    },
    {
     "name": "stdout",
     "output_type": "stream",
     "text": [
      "Validation Dice Score\n",
      "Class 0: 0.0000, Class 1: 0.1186, Class 2: 0.0011, Class 3: 0.0016, \n",
      "Class 4: 0.1154, Class 5: 0.1670, Class 6: 0.3963, \n",
      "Validation F-beta Score\n",
      "Class 0: 0.0000, Class 1: 0.3690, Class 2: 0.0091, Class 3: 0.0117, \n",
      "Class 4: 0.1772, Class 5: 0.2656, Class 6: 0.6278, \n",
      "Overall Mean Dice Score: 0.1598\n",
      "Overall Mean F-beta Score: 0.2903\n",
      "\n",
      "Training Loss: 0.6619, Validation Loss: 0.6894, Validation F-beta: 0.2903\n",
      "Epoch 47/4000\n"
     ]
    },
    {
     "name": "stderr",
     "output_type": "stream",
     "text": [
      "Training: 100%|██████████| 24/24 [01:06<00:00,  2.76s/it, loss=0.618]\n",
      "Validation: 100%|██████████| 4/4 [00:04<00:00,  1.17s/it, loss=0.632]\n"
     ]
    },
    {
     "name": "stdout",
     "output_type": "stream",
     "text": [
      "Validation Dice Score\n",
      "Class 0: 0.0000, Class 1: 0.3104, Class 2: 0.0017, Class 3: 0.0013, \n",
      "Class 4: 0.2415, Class 5: 0.3279, Class 6: 0.6819, \n",
      "Validation F-beta Score\n",
      "Class 0: 0.0000, Class 1: 0.4764, Class 2: 0.0140, Class 3: 0.0096, \n",
      "Class 4: 0.2261, Class 5: 0.4437, Class 6: 0.7324, \n",
      "Overall Mean Dice Score: 0.3126\n",
      "Overall Mean F-beta Score: 0.3776\n",
      "\n",
      "Training Loss: 0.6565, Validation Loss: 0.6411, Validation F-beta: 0.3776\n",
      "Epoch 48/4000\n"
     ]
    },
    {
     "name": "stderr",
     "output_type": "stream",
     "text": [
      "Training: 100%|██████████| 24/24 [01:02<00:00,  2.60s/it, loss=0.666]\n",
      "Validation: 100%|██████████| 4/4 [00:04<00:00,  1.13s/it, loss=0.655]\n"
     ]
    },
    {
     "name": "stdout",
     "output_type": "stream",
     "text": [
      "Validation Dice Score\n",
      "Class 0: 0.0000, Class 1: 0.3657, Class 2: 0.0030, Class 3: 0.0015, \n",
      "Class 4: 0.2665, Class 5: 0.3155, Class 6: 0.5107, \n",
      "Validation F-beta Score\n",
      "Class 0: 0.0000, Class 1: 0.4346, Class 2: 0.0242, Class 3: 0.0114, \n",
      "Class 4: 0.2137, Class 5: 0.4223, Class 6: 0.5744, \n",
      "Overall Mean Dice Score: 0.2920\n",
      "Overall Mean F-beta Score: 0.3313\n",
      "\n",
      "Training Loss: 0.6606, Validation Loss: 0.6545, Validation F-beta: 0.3313\n",
      "Epoch 49/4000\n"
     ]
    },
    {
     "name": "stderr",
     "output_type": "stream",
     "text": [
      "Training: 100%|██████████| 24/24 [00:58<00:00,  2.45s/it, loss=0.622]\n",
      "Validation: 100%|██████████| 4/4 [00:04<00:00,  1.06s/it, loss=0.654]\n"
     ]
    },
    {
     "name": "stdout",
     "output_type": "stream",
     "text": [
      "Validation Dice Score\n",
      "Class 0: 0.0000, Class 1: 0.1549, Class 2: 0.0029, Class 3: 0.0014, \n",
      "Class 4: 0.1731, Class 5: 0.5064, Class 6: 0.3245, \n",
      "Validation F-beta Score\n",
      "Class 0: 0.0000, Class 1: 0.4482, Class 2: 0.0228, Class 3: 0.0108, \n",
      "Class 4: 0.2759, Class 5: 0.5671, Class 6: 0.3666, \n",
      "Overall Mean Dice Score: 0.2320\n",
      "Overall Mean F-beta Score: 0.3337\n",
      "\n",
      "Training Loss: 0.6581, Validation Loss: 0.6512, Validation F-beta: 0.3337\n",
      "Epoch 50/4000\n"
     ]
    },
    {
     "name": "stderr",
     "output_type": "stream",
     "text": [
      "Training: 100%|██████████| 24/24 [00:56<00:00,  2.33s/it, loss=0.624]\n",
      "Validation: 100%|██████████| 4/4 [00:03<00:00,  1.04it/s, loss=0.673]\n"
     ]
    },
    {
     "name": "stdout",
     "output_type": "stream",
     "text": [
      "Validation Dice Score\n",
      "Class 0: 0.0000, Class 1: 0.2491, Class 2: 0.0010, Class 3: 0.0015, \n",
      "Class 4: 0.2136, Class 5: 0.3885, Class 6: 0.5239, \n",
      "Validation F-beta Score\n",
      "Class 0: 0.0000, Class 1: 0.3980, Class 2: 0.0085, Class 3: 0.0113, \n",
      "Class 4: 0.4057, Class 5: 0.5434, Class 6: 0.6181, \n",
      "Overall Mean Dice Score: 0.2753\n",
      "Overall Mean F-beta Score: 0.3953\n",
      "\n",
      "Training Loss: 0.6469, Validation Loss: 0.6564, Validation F-beta: 0.3953\n",
      "Epoch 51/4000\n"
     ]
    },
    {
     "name": "stderr",
     "output_type": "stream",
     "text": [
      "Training: 100%|██████████| 24/24 [00:49<00:00,  2.07s/it, loss=0.634]\n",
      "Validation: 100%|██████████| 4/4 [00:03<00:00,  1.25it/s, loss=0.641]\n"
     ]
    },
    {
     "name": "stdout",
     "output_type": "stream",
     "text": [
      "Validation Dice Score\n",
      "Class 0: 0.0000, Class 1: 0.4972, Class 2: 0.0010, Class 3: 0.0016, \n",
      "Class 4: 0.2450, Class 5: 0.3713, Class 6: 0.5647, \n",
      "Validation F-beta Score\n",
      "Class 0: 0.0000, Class 1: 0.5146, Class 2: 0.0082, Class 3: 0.0118, \n",
      "Class 4: 0.4940, Class 5: 0.4394, Class 6: 0.7977, \n",
      "Overall Mean Dice Score: 0.3359\n",
      "Overall Mean F-beta Score: 0.4515\n",
      "\n",
      "Training Loss: 0.6381, Validation Loss: 0.6226, Validation F-beta: 0.4515\n",
      "========================================================\n",
      "SUPER Best model saved. Loss:0.6226, Score:0.4515\n",
      "========================================================\n",
      "Epoch 52/4000\n"
     ]
    },
    {
     "name": "stderr",
     "output_type": "stream",
     "text": [
      "Training: 100%|██████████| 24/24 [00:50<00:00,  2.09s/it, loss=0.636]\n",
      "Validation: 100%|██████████| 4/4 [00:03<00:00,  1.20it/s, loss=0.61] \n"
     ]
    },
    {
     "name": "stdout",
     "output_type": "stream",
     "text": [
      "Validation Dice Score\n",
      "Class 0: 0.0000, Class 1: 0.4273, Class 2: 0.0041, Class 3: 0.0019, \n",
      "Class 4: 0.2731, Class 5: 0.3830, Class 6: 0.6064, \n",
      "Validation F-beta Score\n",
      "Class 0: 0.0000, Class 1: 0.6126, Class 2: 0.0327, Class 3: 0.0142, \n",
      "Class 4: 0.4602, Class 5: 0.5383, Class 6: 0.6222, \n",
      "Overall Mean Dice Score: 0.3383\n",
      "Overall Mean F-beta Score: 0.4495\n",
      "\n",
      "Training Loss: 0.6440, Validation Loss: 0.6259, Validation F-beta: 0.4495\n",
      "Epoch 53/4000\n"
     ]
    },
    {
     "name": "stderr",
     "output_type": "stream",
     "text": [
      "Training: 100%|██████████| 24/24 [00:44<00:00,  1.85s/it, loss=0.677]\n",
      "Validation: 100%|██████████| 4/4 [00:03<00:00,  1.26it/s, loss=0.629]\n"
     ]
    },
    {
     "name": "stdout",
     "output_type": "stream",
     "text": [
      "Validation Dice Score\n",
      "Class 0: 0.0000, Class 1: 0.3361, Class 2: 0.0012, Class 3: 0.0018, \n",
      "Class 4: 0.3638, Class 5: 0.4257, Class 6: 0.6012, \n",
      "Validation F-beta Score\n",
      "Class 0: 0.0000, Class 1: 0.6271, Class 2: 0.0100, Class 3: 0.0138, \n",
      "Class 4: 0.3987, Class 5: 0.5689, Class 6: 0.6610, \n",
      "Overall Mean Dice Score: 0.3457\n",
      "Overall Mean F-beta Score: 0.4539\n",
      "\n",
      "Training Loss: 0.6434, Validation Loss: 0.6297, Validation F-beta: 0.4539\n",
      "========================================================\n",
      "Best model saved based on F-beta score: 0.4539\n",
      "========================================================\n",
      "Epoch 54/4000\n"
     ]
    },
    {
     "name": "stderr",
     "output_type": "stream",
     "text": [
      "Training: 100%|██████████| 24/24 [00:44<00:00,  1.84s/it, loss=0.644]\n",
      "Validation: 100%|██████████| 4/4 [00:03<00:00,  1.26it/s, loss=0.641]\n"
     ]
    },
    {
     "name": "stdout",
     "output_type": "stream",
     "text": [
      "Validation Dice Score\n",
      "Class 0: 0.0000, Class 1: 0.6439, Class 2: 0.0047, Class 3: 0.0004, \n",
      "Class 4: 0.2966, Class 5: 0.3126, Class 6: 0.3817, \n",
      "Validation F-beta Score\n",
      "Class 0: 0.0000, Class 1: 0.6014, Class 2: 0.0374, Class 3: 0.0028, \n",
      "Class 4: 0.4283, Class 5: 0.5599, Class 6: 0.3748, \n",
      "Overall Mean Dice Score: 0.3270\n",
      "Overall Mean F-beta Score: 0.3934\n",
      "\n",
      "Training Loss: 0.6524, Validation Loss: 0.6421, Validation F-beta: 0.3934\n",
      "Epoch 55/4000\n"
     ]
    },
    {
     "name": "stderr",
     "output_type": "stream",
     "text": [
      "Training: 100%|██████████| 24/24 [00:41<00:00,  1.73s/it, loss=0.655]\n",
      "Validation: 100%|██████████| 4/4 [00:03<00:00,  1.25it/s, loss=0.678]\n"
     ]
    },
    {
     "name": "stdout",
     "output_type": "stream",
     "text": [
      "Validation Dice Score\n",
      "Class 0: 0.0000, Class 1: 0.5110, Class 2: 0.0018, Class 3: 0.0008, \n",
      "Class 4: 0.3361, Class 5: 0.3028, Class 6: 0.5906, \n",
      "Validation F-beta Score\n",
      "Class 0: 0.0000, Class 1: 0.5991, Class 2: 0.0145, Class 3: 0.0063, \n",
      "Class 4: 0.3388, Class 5: 0.4276, Class 6: 0.8197, \n",
      "Overall Mean Dice Score: 0.3483\n",
      "Overall Mean F-beta Score: 0.4383\n",
      "\n",
      "Training Loss: 0.6595, Validation Loss: 0.6233, Validation F-beta: 0.4383\n",
      "Epoch 56/4000\n"
     ]
    },
    {
     "name": "stderr",
     "output_type": "stream",
     "text": [
      "Training: 100%|██████████| 24/24 [00:36<00:00,  1.52s/it, loss=0.643]\n",
      "Validation: 100%|██████████| 4/4 [00:03<00:00,  1.29it/s, loss=0.668]\n"
     ]
    },
    {
     "name": "stdout",
     "output_type": "stream",
     "text": [
      "Validation Dice Score\n",
      "Class 0: 0.0000, Class 1: 0.4272, Class 2: 0.0037, Class 3: 0.0007, \n",
      "Class 4: 0.3794, Class 5: 0.3264, Class 6: 0.5000, \n",
      "Validation F-beta Score\n",
      "Class 0: 0.0000, Class 1: 0.6196, Class 2: 0.0291, Class 3: 0.0053, \n",
      "Class 4: 0.3693, Class 5: 0.5147, Class 6: 0.6514, \n",
      "Overall Mean Dice Score: 0.3267\n",
      "Overall Mean F-beta Score: 0.4321\n",
      "\n",
      "Training Loss: 0.6492, Validation Loss: 0.6461, Validation F-beta: 0.4321\n",
      "Epoch 57/4000\n"
     ]
    },
    {
     "name": "stderr",
     "output_type": "stream",
     "text": [
      "Training: 100%|██████████| 24/24 [00:34<00:00,  1.44s/it, loss=0.688]\n",
      "Validation: 100%|██████████| 4/4 [00:02<00:00,  1.76it/s, loss=0.588]\n"
     ]
    },
    {
     "name": "stdout",
     "output_type": "stream",
     "text": [
      "Validation Dice Score\n",
      "Class 0: 0.0000, Class 1: 0.4331, Class 2: 0.0015, Class 3: 0.0015, \n",
      "Class 4: 0.3535, Class 5: 0.4458, Class 6: 0.5008, \n",
      "Validation F-beta Score\n",
      "Class 0: 0.0000, Class 1: 0.6982, Class 2: 0.0120, Class 3: 0.0120, \n",
      "Class 4: 0.4205, Class 5: 0.5878, Class 6: 0.5847, \n",
      "Overall Mean Dice Score: 0.3469\n",
      "Overall Mean F-beta Score: 0.4606\n",
      "\n",
      "Training Loss: 0.6461, Validation Loss: 0.6129, Validation F-beta: 0.4606\n",
      "========================================================\n",
      "SUPER Best model saved. Loss:0.6129, Score:0.4606\n",
      "========================================================\n",
      "Epoch 58/4000\n"
     ]
    },
    {
     "name": "stderr",
     "output_type": "stream",
     "text": [
      "Training: 100%|██████████| 24/24 [00:34<00:00,  1.42s/it, loss=0.613]\n",
      "Validation: 100%|██████████| 4/4 [00:02<00:00,  1.76it/s, loss=0.587]\n"
     ]
    },
    {
     "name": "stdout",
     "output_type": "stream",
     "text": [
      "Validation Dice Score\n",
      "Class 0: 0.0000, Class 1: 0.5455, Class 2: 0.0027, Class 3: 0.0010, \n",
      "Class 4: 0.3138, Class 5: 0.4353, Class 6: 0.7834, \n",
      "Validation F-beta Score\n",
      "Class 0: 0.0000, Class 1: 0.5419, Class 2: 0.0219, Class 3: 0.0083, \n",
      "Class 4: 0.5340, Class 5: 0.4717, Class 6: 0.8312, \n",
      "Overall Mean Dice Score: 0.4158\n",
      "Overall Mean F-beta Score: 0.4774\n",
      "\n",
      "Training Loss: 0.6536, Validation Loss: 0.6005, Validation F-beta: 0.4774\n",
      "========================================================\n",
      "SUPER Best model saved. Loss:0.6005, Score:0.4774\n",
      "========================================================\n",
      "Epoch 59/4000\n"
     ]
    },
    {
     "name": "stderr",
     "output_type": "stream",
     "text": [
      "Training: 100%|██████████| 24/24 [00:33<00:00,  1.41s/it, loss=0.625]\n",
      "Validation: 100%|██████████| 4/4 [00:02<00:00,  1.50it/s, loss=0.635]\n"
     ]
    },
    {
     "name": "stdout",
     "output_type": "stream",
     "text": [
      "Validation Dice Score\n",
      "Class 0: 0.0000, Class 1: 0.4148, Class 2: 0.0008, Class 3: 0.0010, \n",
      "Class 4: 0.3488, Class 5: 0.3070, Class 6: 0.5631, \n",
      "Validation F-beta Score\n",
      "Class 0: 0.0000, Class 1: 0.6049, Class 2: 0.0065, Class 3: 0.0081, \n",
      "Class 4: 0.5398, Class 5: 0.4101, Class 6: 0.5135, \n",
      "Overall Mean Dice Score: 0.3269\n",
      "Overall Mean F-beta Score: 0.4153\n",
      "\n",
      "Training Loss: 0.6422, Validation Loss: 0.6495, Validation F-beta: 0.4153\n",
      "Epoch 60/4000\n"
     ]
    },
    {
     "name": "stderr",
     "output_type": "stream",
     "text": [
      "Training: 100%|██████████| 24/24 [00:32<00:00,  1.35s/it, loss=0.664]\n",
      "Validation: 100%|██████████| 4/4 [00:02<00:00,  1.55it/s, loss=0.618]\n"
     ]
    },
    {
     "name": "stdout",
     "output_type": "stream",
     "text": [
      "Validation Dice Score\n",
      "Class 0: 0.0000, Class 1: 0.4699, Class 2: 0.0012, Class 3: 0.0010, \n",
      "Class 4: 0.2887, Class 5: 0.4660, Class 6: 0.7715, \n",
      "Validation F-beta Score\n",
      "Class 0: 0.0000, Class 1: 0.3946, Class 2: 0.0099, Class 3: 0.0079, \n",
      "Class 4: 0.4623, Class 5: 0.5738, Class 6: 0.8788, \n",
      "Overall Mean Dice Score: 0.3994\n",
      "Overall Mean F-beta Score: 0.4635\n",
      "\n",
      "Training Loss: 0.6590, Validation Loss: 0.6255, Validation F-beta: 0.4635\n",
      "Epoch 61/4000\n"
     ]
    },
    {
     "name": "stderr",
     "output_type": "stream",
     "text": [
      "Training: 100%|██████████| 24/24 [00:29<00:00,  1.25s/it, loss=0.631]\n",
      "Validation: 100%|██████████| 4/4 [00:02<00:00,  1.58it/s, loss=0.612]\n"
     ]
    },
    {
     "name": "stdout",
     "output_type": "stream",
     "text": [
      "Validation Dice Score\n",
      "Class 0: 0.0000, Class 1: 0.5246, Class 2: 0.0011, Class 3: 0.0014, \n",
      "Class 4: 0.2505, Class 5: 0.3433, Class 6: 0.6685, \n",
      "Validation F-beta Score\n",
      "Class 0: 0.0000, Class 1: 0.4591, Class 2: 0.0091, Class 3: 0.0102, \n",
      "Class 4: 0.4743, Class 5: 0.4454, Class 6: 0.6731, \n",
      "Overall Mean Dice Score: 0.3577\n",
      "Overall Mean F-beta Score: 0.4124\n",
      "\n",
      "Training Loss: 0.6573, Validation Loss: 0.6189, Validation F-beta: 0.4124\n",
      "Epoch 62/4000\n"
     ]
    },
    {
     "name": "stderr",
     "output_type": "stream",
     "text": [
      "Training: 100%|██████████| 24/24 [00:25<00:00,  1.07s/it, loss=0.652]\n",
      "Validation: 100%|██████████| 4/4 [00:02<00:00,  1.66it/s, loss=0.657]\n"
     ]
    },
    {
     "name": "stdout",
     "output_type": "stream",
     "text": [
      "Validation Dice Score\n",
      "Class 0: 0.0000, Class 1: 0.5063, Class 2: 0.0048, Class 3: 0.0006, \n",
      "Class 4: 0.4440, Class 5: 0.3006, Class 6: 0.6743, \n",
      "Validation F-beta Score\n",
      "Class 0: 0.0000, Class 1: 0.5762, Class 2: 0.0383, Class 3: 0.0048, \n",
      "Class 4: 0.5942, Class 5: 0.4938, Class 6: 0.7493, \n",
      "Overall Mean Dice Score: 0.3852\n",
      "Overall Mean F-beta Score: 0.4837\n",
      "\n",
      "Training Loss: 0.6480, Validation Loss: 0.6228, Validation F-beta: 0.4837\n",
      "========================================================\n",
      "Best model saved based on F-beta score: 0.4837\n",
      "========================================================\n",
      "Epoch 63/4000\n"
     ]
    },
    {
     "name": "stderr",
     "output_type": "stream",
     "text": [
      "Training: 100%|██████████| 24/24 [00:29<00:00,  1.25s/it, loss=0.614]\n",
      "Validation: 100%|██████████| 4/4 [00:03<00:00,  1.30it/s, loss=0.626]\n"
     ]
    },
    {
     "name": "stdout",
     "output_type": "stream",
     "text": [
      "Validation Dice Score\n",
      "Class 0: 0.0000, Class 1: 0.2814, Class 2: 0.0021, Class 3: 0.0011, \n",
      "Class 4: 0.3469, Class 5: 0.3637, Class 6: 0.7632, \n",
      "Validation F-beta Score\n",
      "Class 0: 0.0000, Class 1: 0.5599, Class 2: 0.0168, Class 3: 0.0084, \n",
      "Class 4: 0.4930, Class 5: 0.4744, Class 6: 0.9231, \n",
      "Overall Mean Dice Score: 0.3512\n",
      "Overall Mean F-beta Score: 0.4918\n",
      "\n",
      "Training Loss: 0.6459, Validation Loss: 0.6267, Validation F-beta: 0.4918\n",
      "========================================================\n",
      "Best model saved based on F-beta score: 0.4918\n",
      "========================================================\n",
      "Epoch 64/4000\n"
     ]
    },
    {
     "name": "stderr",
     "output_type": "stream",
     "text": [
      "Training: 100%|██████████| 24/24 [00:33<00:00,  1.39s/it, loss=0.67] \n",
      "Validation: 100%|██████████| 4/4 [00:03<00:00,  1.12it/s, loss=0.606]\n"
     ]
    },
    {
     "name": "stdout",
     "output_type": "stream",
     "text": [
      "Validation Dice Score\n",
      "Class 0: 0.0000, Class 1: 0.5023, Class 2: 0.0025, Class 3: 0.0007, \n",
      "Class 4: 0.1789, Class 5: 0.4374, Class 6: 0.7998, \n",
      "Validation F-beta Score\n",
      "Class 0: 0.0000, Class 1: 0.6659, Class 2: 0.0201, Class 3: 0.0054, \n",
      "Class 4: 0.3932, Class 5: 0.4635, Class 6: 0.8595, \n",
      "Overall Mean Dice Score: 0.3838\n",
      "Overall Mean F-beta Score: 0.4775\n",
      "\n",
      "Training Loss: 0.6478, Validation Loss: 0.6253, Validation F-beta: 0.4775\n",
      "Epoch 65/4000\n"
     ]
    },
    {
     "name": "stderr",
     "output_type": "stream",
     "text": [
      "Training: 100%|██████████| 24/24 [00:37<00:00,  1.54s/it, loss=0.597]\n",
      "Validation: 100%|██████████| 4/4 [00:03<00:00,  1.12it/s, loss=0.616]\n"
     ]
    },
    {
     "name": "stdout",
     "output_type": "stream",
     "text": [
      "Validation Dice Score\n",
      "Class 0: 0.0000, Class 1: 0.3278, Class 2: 0.0008, Class 3: 0.0013, \n",
      "Class 4: 0.2841, Class 5: 0.3348, Class 6: 0.6663, \n",
      "Validation F-beta Score\n",
      "Class 0: 0.0000, Class 1: 0.5823, Class 2: 0.0065, Class 3: 0.0100, \n",
      "Class 4: 0.3940, Class 5: 0.4374, Class 6: 0.8607, \n",
      "Overall Mean Dice Score: 0.3229\n",
      "Overall Mean F-beta Score: 0.4569\n",
      "\n",
      "Training Loss: 0.6499, Validation Loss: 0.6299, Validation F-beta: 0.4569\n",
      "Epoch 66/4000\n"
     ]
    },
    {
     "name": "stderr",
     "output_type": "stream",
     "text": [
      "Training: 100%|██████████| 24/24 [00:39<00:00,  1.66s/it, loss=0.698]\n",
      "Validation: 100%|██████████| 4/4 [00:03<00:00,  1.13it/s, loss=0.654]\n"
     ]
    },
    {
     "name": "stdout",
     "output_type": "stream",
     "text": [
      "Validation Dice Score\n",
      "Class 0: 0.0000, Class 1: 0.3685, Class 2: 0.0015, Class 3: 0.0010, \n",
      "Class 4: 0.3482, Class 5: 0.4045, Class 6: 0.5049, \n",
      "Validation F-beta Score\n",
      "Class 0: 0.0000, Class 1: 0.4919, Class 2: 0.0124, Class 3: 0.0077, \n",
      "Class 4: 0.4276, Class 5: 0.6020, Class 6: 0.6436, \n",
      "Overall Mean Dice Score: 0.3254\n",
      "Overall Mean F-beta Score: 0.4346\n",
      "\n",
      "Training Loss: 0.6488, Validation Loss: 0.6255, Validation F-beta: 0.4346\n",
      "Epoch 67/4000\n"
     ]
    },
    {
     "name": "stderr",
     "output_type": "stream",
     "text": [
      "Training: 100%|██████████| 24/24 [00:44<00:00,  1.83s/it, loss=0.633]\n",
      "Validation: 100%|██████████| 4/4 [00:03<00:00,  1.11it/s, loss=0.624]\n"
     ]
    },
    {
     "name": "stdout",
     "output_type": "stream",
     "text": [
      "Validation Dice Score\n",
      "Class 0: 0.0000, Class 1: 0.4677, Class 2: 0.0021, Class 3: 0.0011, \n",
      "Class 4: 0.2893, Class 5: 0.4928, Class 6: 0.3705, \n",
      "Validation F-beta Score\n",
      "Class 0: 0.0000, Class 1: 0.5148, Class 2: 0.0172, Class 3: 0.0089, \n",
      "Class 4: 0.3921, Class 5: 0.5281, Class 6: 0.3553, \n",
      "Overall Mean Dice Score: 0.3243\n",
      "Overall Mean F-beta Score: 0.3598\n",
      "\n",
      "Training Loss: 0.6367, Validation Loss: 0.6252, Validation F-beta: 0.3598\n",
      "Epoch 68/4000\n"
     ]
    },
    {
     "name": "stderr",
     "output_type": "stream",
     "text": [
      "Training: 100%|██████████| 24/24 [00:47<00:00,  1.97s/it, loss=0.621]\n",
      "Validation: 100%|██████████| 4/4 [00:03<00:00,  1.15it/s, loss=0.604]\n"
     ]
    },
    {
     "name": "stdout",
     "output_type": "stream",
     "text": [
      "Validation Dice Score\n",
      "Class 0: 0.0000, Class 1: 0.6360, Class 2: 0.0040, Class 3: 0.0011, \n",
      "Class 4: 0.3828, Class 5: 0.4911, Class 6: 0.5616, \n",
      "Validation F-beta Score\n",
      "Class 0: 0.0000, Class 1: 0.6651, Class 2: 0.0312, Class 3: 0.0086, \n",
      "Class 4: 0.3764, Class 5: 0.5980, Class 6: 0.7305, \n",
      "Overall Mean Dice Score: 0.4145\n",
      "Overall Mean F-beta Score: 0.4757\n",
      "\n",
      "Training Loss: 0.6467, Validation Loss: 0.6081, Validation F-beta: 0.4757\n",
      "Epoch 69/4000\n"
     ]
    },
    {
     "name": "stderr",
     "output_type": "stream",
     "text": [
      "Training: 100%|██████████| 24/24 [00:47<00:00,  1.98s/it, loss=0.608]\n",
      "Validation: 100%|██████████| 4/4 [00:03<00:00,  1.12it/s, loss=0.607]\n"
     ]
    },
    {
     "name": "stdout",
     "output_type": "stream",
     "text": [
      "Validation Dice Score\n",
      "Class 0: 0.0000, Class 1: 0.6399, Class 2: 0.0035, Class 3: 0.0019, \n",
      "Class 4: 0.3460, Class 5: 0.3619, Class 6: 0.6948, \n",
      "Validation F-beta Score\n",
      "Class 0: 0.0000, Class 1: 0.6591, Class 2: 0.0271, Class 3: 0.0141, \n",
      "Class 4: 0.5281, Class 5: 0.4446, Class 6: 0.7571, \n",
      "Overall Mean Dice Score: 0.4089\n",
      "Overall Mean F-beta Score: 0.4806\n",
      "\n",
      "Training Loss: 0.6403, Validation Loss: 0.6240, Validation F-beta: 0.4806\n",
      "Epoch 70/4000\n"
     ]
    },
    {
     "name": "stderr",
     "output_type": "stream",
     "text": [
      "Training: 100%|██████████| 24/24 [00:48<00:00,  2.01s/it, loss=0.664]\n",
      "Validation: 100%|██████████| 4/4 [00:03<00:00,  1.09it/s, loss=0.59] \n"
     ]
    },
    {
     "name": "stdout",
     "output_type": "stream",
     "text": [
      "Validation Dice Score\n",
      "Class 0: 0.0000, Class 1: 0.1748, Class 2: 0.0009, Class 3: 0.0003, \n",
      "Class 4: 0.4140, Class 5: 0.4460, Class 6: 0.7221, \n",
      "Validation F-beta Score\n",
      "Class 0: 0.0000, Class 1: 0.3190, Class 2: 0.0070, Class 3: 0.0027, \n",
      "Class 4: 0.4671, Class 5: 0.6567, Class 6: 0.8015, \n",
      "Overall Mean Dice Score: 0.3514\n",
      "Overall Mean F-beta Score: 0.4494\n",
      "\n",
      "Training Loss: 0.6421, Validation Loss: 0.6248, Validation F-beta: 0.4494\n",
      "Epoch 71/4000\n"
     ]
    },
    {
     "name": "stderr",
     "output_type": "stream",
     "text": [
      "Training: 100%|██████████| 24/24 [00:51<00:00,  2.14s/it, loss=0.627]\n",
      "Validation: 100%|██████████| 4/4 [00:03<00:00,  1.01it/s, loss=0.647]\n"
     ]
    },
    {
     "name": "stdout",
     "output_type": "stream",
     "text": [
      "Validation Dice Score\n",
      "Class 0: 0.0000, Class 1: 0.3812, Class 2: 0.0041, Class 3: 0.0018, \n",
      "Class 4: 0.2468, Class 5: 0.4001, Class 6: 0.4741, \n",
      "Validation F-beta Score\n",
      "Class 0: 0.0000, Class 1: 0.4475, Class 2: 0.0334, Class 3: 0.0142, \n",
      "Class 4: 0.3814, Class 5: 0.4972, Class 6: 0.5846, \n",
      "Overall Mean Dice Score: 0.3008\n",
      "Overall Mean F-beta Score: 0.3850\n",
      "\n",
      "Training Loss: 0.6457, Validation Loss: 0.6371, Validation F-beta: 0.3850\n",
      "Epoch 72/4000\n"
     ]
    },
    {
     "name": "stderr",
     "output_type": "stream",
     "text": [
      "Training: 100%|██████████| 24/24 [00:57<00:00,  2.38s/it, loss=0.631]\n",
      "Validation: 100%|██████████| 4/4 [00:03<00:00,  1.02it/s, loss=0.692]\n"
     ]
    },
    {
     "name": "stdout",
     "output_type": "stream",
     "text": [
      "Validation Dice Score\n",
      "Class 0: 0.0000, Class 1: 0.5339, Class 2: 0.0033, Class 3: 0.0018, \n",
      "Class 4: 0.2444, Class 5: 0.2411, Class 6: 0.4659, \n",
      "Validation F-beta Score\n",
      "Class 0: 0.0000, Class 1: 0.7066, Class 2: 0.0263, Class 3: 0.0140, \n",
      "Class 4: 0.3463, Class 5: 0.3890, Class 6: 0.6071, \n",
      "Overall Mean Dice Score: 0.2974\n",
      "Overall Mean F-beta Score: 0.4126\n",
      "\n",
      "Training Loss: 0.6402, Validation Loss: 0.6529, Validation F-beta: 0.4126\n",
      "Epoch 73/4000\n"
     ]
    },
    {
     "name": "stderr",
     "output_type": "stream",
     "text": [
      "Training: 100%|██████████| 24/24 [01:03<00:00,  2.66s/it, loss=0.646]\n",
      "Validation: 100%|██████████| 4/4 [00:03<00:00,  1.15it/s, loss=0.604]\n"
     ]
    },
    {
     "name": "stdout",
     "output_type": "stream",
     "text": [
      "Validation Dice Score\n",
      "Class 0: 0.0000, Class 1: 0.6504, Class 2: 0.0053, Class 3: 0.0014, \n",
      "Class 4: 0.0947, Class 5: 0.4226, Class 6: 0.8450, \n",
      "Validation F-beta Score\n",
      "Class 0: 0.0000, Class 1: 0.6094, Class 2: 0.0418, Class 3: 0.0113, \n",
      "Class 4: 0.1541, Class 5: 0.6282, Class 6: 0.8369, \n",
      "Overall Mean Dice Score: 0.4028\n",
      "Overall Mean F-beta Score: 0.4480\n",
      "\n",
      "Training Loss: 0.6415, Validation Loss: 0.6307, Validation F-beta: 0.4480\n",
      "Epoch 74/4000\n"
     ]
    },
    {
     "name": "stderr",
     "output_type": "stream",
     "text": [
      "Training: 100%|██████████| 24/24 [01:03<00:00,  2.65s/it, loss=0.647]\n",
      "Validation: 100%|██████████| 4/4 [00:03<00:00,  1.05it/s, loss=0.684]\n"
     ]
    },
    {
     "name": "stdout",
     "output_type": "stream",
     "text": [
      "Validation Dice Score\n",
      "Class 0: 0.0000, Class 1: 0.5045, Class 2: 0.0019, Class 3: 0.0008, \n",
      "Class 4: 0.3510, Class 5: 0.3793, Class 6: 0.5048, \n",
      "Validation F-beta Score\n",
      "Class 0: 0.0000, Class 1: 0.5827, Class 2: 0.0151, Class 3: 0.0062, \n",
      "Class 4: 0.3661, Class 5: 0.6039, Class 6: 0.8003, \n",
      "Overall Mean Dice Score: 0.3481\n",
      "Overall Mean F-beta Score: 0.4718\n",
      "\n",
      "Training Loss: 0.6441, Validation Loss: 0.6450, Validation F-beta: 0.4718\n",
      "Epoch 75/4000\n"
     ]
    },
    {
     "name": "stderr",
     "output_type": "stream",
     "text": [
      "Training: 100%|██████████| 24/24 [01:06<00:00,  2.77s/it, loss=0.629]\n",
      "Validation: 100%|██████████| 4/4 [00:03<00:00,  1.01it/s, loss=0.583]\n"
     ]
    },
    {
     "name": "stdout",
     "output_type": "stream",
     "text": [
      "Validation Dice Score\n",
      "Class 0: 0.0000, Class 1: 0.5136, Class 2: 0.0006, Class 3: 0.0012, \n",
      "Class 4: 0.4243, Class 5: 0.3972, Class 6: 0.6327, \n",
      "Validation F-beta Score\n",
      "Class 0: 0.0000, Class 1: 0.6860, Class 2: 0.0053, Class 3: 0.0094, \n",
      "Class 4: 0.5580, Class 5: 0.5738, Class 6: 0.6545, \n",
      "Overall Mean Dice Score: 0.3938\n",
      "Overall Mean F-beta Score: 0.4963\n",
      "\n",
      "Training Loss: 0.6427, Validation Loss: 0.6118, Validation F-beta: 0.4963\n",
      "========================================================\n",
      "Best model saved based on F-beta score: 0.4963\n",
      "========================================================\n",
      "Epoch 76/4000\n"
     ]
    },
    {
     "name": "stderr",
     "output_type": "stream",
     "text": [
      "Training: 100%|██████████| 24/24 [01:07<00:00,  2.79s/it, loss=0.666]\n",
      "Validation: 100%|██████████| 4/4 [00:04<00:00,  1.05s/it, loss=0.651]\n"
     ]
    },
    {
     "name": "stdout",
     "output_type": "stream",
     "text": [
      "Validation Dice Score\n",
      "Class 0: 0.0000, Class 1: 0.3061, Class 2: 0.0040, Class 3: 0.0014, \n",
      "Class 4: 0.3531, Class 5: 0.3865, Class 6: 0.7074, \n",
      "Validation F-beta Score\n",
      "Class 0: 0.0000, Class 1: 0.5172, Class 2: 0.0317, Class 3: 0.0108, \n",
      "Class 4: 0.5645, Class 5: 0.4741, Class 6: 0.7781, \n",
      "Overall Mean Dice Score: 0.3509\n",
      "Overall Mean F-beta Score: 0.4689\n",
      "\n",
      "Training Loss: 0.6479, Validation Loss: 0.6315, Validation F-beta: 0.4689\n",
      "Epoch 77/4000\n"
     ]
    },
    {
     "name": "stderr",
     "output_type": "stream",
     "text": [
      "Training: 100%|██████████| 24/24 [01:12<00:00,  3.02s/it, loss=0.615]\n",
      "Validation: 100%|██████████| 4/4 [00:04<00:00,  1.07s/it, loss=0.654]\n"
     ]
    },
    {
     "name": "stdout",
     "output_type": "stream",
     "text": [
      "Validation Dice Score\n",
      "Class 0: 0.0000, Class 1: 0.3916, Class 2: 0.0043, Class 3: 0.0008, \n",
      "Class 4: 0.2177, Class 5: 0.3604, Class 6: 0.3587, \n",
      "Validation F-beta Score\n",
      "Class 0: 0.0000, Class 1: 0.6802, Class 2: 0.0352, Class 3: 0.0066, \n",
      "Class 4: 0.2275, Class 5: 0.4714, Class 6: 0.3434, \n",
      "Overall Mean Dice Score: 0.2658\n",
      "Overall Mean F-beta Score: 0.3458\n",
      "\n",
      "Training Loss: 0.6450, Validation Loss: 0.6485, Validation F-beta: 0.3458\n",
      "Epoch 78/4000\n"
     ]
    },
    {
     "name": "stderr",
     "output_type": "stream",
     "text": [
      "Training: 100%|██████████| 24/24 [01:10<00:00,  2.96s/it, loss=0.664]\n",
      "Validation: 100%|██████████| 4/4 [00:04<00:00,  1.18s/it, loss=0.662]\n"
     ]
    },
    {
     "name": "stdout",
     "output_type": "stream",
     "text": [
      "Validation Dice Score\n",
      "Class 0: 0.0000, Class 1: 0.4272, Class 2: 0.0040, Class 3: 0.0014, \n",
      "Class 4: 0.4040, Class 5: 0.3153, Class 6: 0.5339, \n",
      "Validation F-beta Score\n",
      "Class 0: 0.0000, Class 1: 0.5075, Class 2: 0.0316, Class 3: 0.0105, \n",
      "Class 4: 0.6419, Class 5: 0.4710, Class 6: 0.6072, \n",
      "Overall Mean Dice Score: 0.3363\n",
      "Overall Mean F-beta Score: 0.4476\n",
      "\n",
      "Training Loss: 0.6431, Validation Loss: 0.6395, Validation F-beta: 0.4476\n",
      "Epoch 79/4000\n"
     ]
    },
    {
     "name": "stderr",
     "output_type": "stream",
     "text": [
      "Training: 100%|██████████| 24/24 [01:01<00:00,  2.56s/it, loss=0.627]\n",
      "Validation: 100%|██████████| 4/4 [00:04<00:00,  1.09s/it, loss=0.565]\n"
     ]
    },
    {
     "name": "stdout",
     "output_type": "stream",
     "text": [
      "Validation Dice Score\n",
      "Class 0: 0.0000, Class 1: 0.4920, Class 2: 0.0014, Class 3: 0.0013, \n",
      "Class 4: 0.4619, Class 5: 0.3382, Class 6: 0.7712, \n",
      "Validation F-beta Score\n",
      "Class 0: 0.0000, Class 1: 0.5562, Class 2: 0.0115, Class 3: 0.0103, \n",
      "Class 4: 0.5244, Class 5: 0.5456, Class 6: 0.7708, \n",
      "Overall Mean Dice Score: 0.4129\n",
      "Overall Mean F-beta Score: 0.4815\n",
      "\n",
      "Training Loss: 0.6429, Validation Loss: 0.6300, Validation F-beta: 0.4815\n",
      "Epoch 80/4000\n"
     ]
    },
    {
     "name": "stderr",
     "output_type": "stream",
     "text": [
      "Training: 100%|██████████| 24/24 [00:55<00:00,  2.32s/it, loss=0.626]\n",
      "Validation: 100%|██████████| 4/4 [00:04<00:00,  1.10s/it, loss=0.662]\n"
     ]
    },
    {
     "name": "stdout",
     "output_type": "stream",
     "text": [
      "Validation Dice Score\n",
      "Class 0: 0.0000, Class 1: 0.4979, Class 2: 0.0018, Class 3: 0.0006, \n",
      "Class 4: 0.3870, Class 5: 0.3124, Class 6: 0.8019, \n",
      "Validation F-beta Score\n",
      "Class 0: 0.0000, Class 1: 0.6956, Class 2: 0.0146, Class 3: 0.0050, \n",
      "Class 4: 0.6371, Class 5: 0.4973, Class 6: 0.7821, \n",
      "Overall Mean Dice Score: 0.4000\n",
      "Overall Mean F-beta Score: 0.5234\n",
      "\n",
      "Training Loss: 0.6456, Validation Loss: 0.6355, Validation F-beta: 0.5234\n",
      "========================================================\n",
      "Best model saved based on F-beta score: 0.5234\n",
      "========================================================\n",
      "Epoch 81/4000\n"
     ]
    },
    {
     "name": "stderr",
     "output_type": "stream",
     "text": [
      "Training: 100%|██████████| 24/24 [00:51<00:00,  2.13s/it, loss=0.627]\n",
      "Validation: 100%|██████████| 4/4 [00:04<00:00,  1.06s/it, loss=0.596]\n"
     ]
    },
    {
     "name": "stdout",
     "output_type": "stream",
     "text": [
      "Validation Dice Score\n",
      "Class 0: 0.0000, Class 1: 0.5014, Class 2: 0.0042, Class 3: 0.0005, \n",
      "Class 4: 0.3767, Class 5: 0.4431, Class 6: 0.4683, \n",
      "Validation F-beta Score\n",
      "Class 0: 0.0000, Class 1: 0.4949, Class 2: 0.0326, Class 3: 0.0036, \n",
      "Class 4: 0.4110, Class 5: 0.5341, Class 6: 0.5902, \n",
      "Overall Mean Dice Score: 0.3580\n",
      "Overall Mean F-beta Score: 0.4068\n",
      "\n",
      "Training Loss: 0.6460, Validation Loss: 0.6382, Validation F-beta: 0.4068\n",
      "Epoch 82/4000\n"
     ]
    },
    {
     "name": "stderr",
     "output_type": "stream",
     "text": [
      "Training: 100%|██████████| 24/24 [00:52<00:00,  2.18s/it, loss=0.69] \n",
      "Validation: 100%|██████████| 4/4 [00:04<00:00,  1.04s/it, loss=0.574]\n"
     ]
    },
    {
     "name": "stdout",
     "output_type": "stream",
     "text": [
      "Validation Dice Score\n",
      "Class 0: 0.0000, Class 1: 0.3351, Class 2: 0.0043, Class 3: 0.0015, \n",
      "Class 4: 0.4012, Class 5: 0.3827, Class 6: 0.6571, \n",
      "Validation F-beta Score\n",
      "Class 0: 0.0000, Class 1: 0.5715, Class 2: 0.0352, Class 3: 0.0111, \n",
      "Class 4: 0.4457, Class 5: 0.4897, Class 6: 0.8959, \n",
      "Overall Mean Dice Score: 0.3555\n",
      "Overall Mean F-beta Score: 0.4828\n",
      "\n",
      "Training Loss: 0.6364, Validation Loss: 0.6286, Validation F-beta: 0.4828\n",
      "Epoch 83/4000\n"
     ]
    },
    {
     "name": "stderr",
     "output_type": "stream",
     "text": [
      "Training: 100%|██████████| 24/24 [00:55<00:00,  2.32s/it, loss=0.604]\n",
      "Validation: 100%|██████████| 4/4 [00:04<00:00,  1.12s/it, loss=0.645]\n"
     ]
    },
    {
     "name": "stdout",
     "output_type": "stream",
     "text": [
      "Validation Dice Score\n",
      "Class 0: 0.0000, Class 1: 0.5314, Class 2: 0.0033, Class 3: 0.0012, \n",
      "Class 4: 0.3802, Class 5: 0.2443, Class 6: 0.6040, \n",
      "Validation F-beta Score\n",
      "Class 0: 0.0000, Class 1: 0.7734, Class 2: 0.0266, Class 3: 0.0091, \n",
      "Class 4: 0.5068, Class 5: 0.3814, Class 6: 0.6588, \n",
      "Overall Mean Dice Score: 0.3522\n",
      "Overall Mean F-beta Score: 0.4659\n",
      "\n",
      "Training Loss: 0.6353, Validation Loss: 0.6447, Validation F-beta: 0.4659\n",
      "Epoch 84/4000\n"
     ]
    },
    {
     "name": "stderr",
     "output_type": "stream",
     "text": [
      "Training: 100%|██████████| 24/24 [00:52<00:00,  2.19s/it, loss=0.613]\n",
      "Validation: 100%|██████████| 4/4 [00:04<00:00,  1.04s/it, loss=0.597]\n"
     ]
    },
    {
     "name": "stdout",
     "output_type": "stream",
     "text": [
      "Validation Dice Score\n",
      "Class 0: 0.0000, Class 1: 0.5764, Class 2: 0.0031, Class 3: 0.0013, \n",
      "Class 4: 0.4297, Class 5: 0.4322, Class 6: 0.5369, \n",
      "Validation F-beta Score\n",
      "Class 0: 0.0000, Class 1: 0.7158, Class 2: 0.0252, Class 3: 0.0101, \n",
      "Class 4: 0.5117, Class 5: 0.5205, Class 6: 0.4878, \n",
      "Overall Mean Dice Score: 0.3953\n",
      "Overall Mean F-beta Score: 0.4492\n",
      "\n",
      "Training Loss: 0.6434, Validation Loss: 0.6099, Validation F-beta: 0.4492\n",
      "Epoch 85/4000\n"
     ]
    },
    {
     "name": "stderr",
     "output_type": "stream",
     "text": [
      "Training: 100%|██████████| 24/24 [00:45<00:00,  1.88s/it, loss=0.637]\n",
      "Validation: 100%|██████████| 4/4 [00:03<00:00,  1.14it/s, loss=0.671]\n"
     ]
    },
    {
     "name": "stdout",
     "output_type": "stream",
     "text": [
      "Validation Dice Score\n",
      "Class 0: 0.0000, Class 1: 0.4542, Class 2: 0.0035, Class 3: 0.0017, \n",
      "Class 4: 0.5503, Class 5: 0.2001, Class 6: 0.5794, \n",
      "Validation F-beta Score\n",
      "Class 0: 0.0000, Class 1: 0.7027, Class 2: 0.0281, Class 3: 0.0129, \n",
      "Class 4: 0.5554, Class 5: 0.3302, Class 6: 0.6369, \n",
      "Overall Mean Dice Score: 0.3571\n",
      "Overall Mean F-beta Score: 0.4476\n",
      "\n",
      "Training Loss: 0.6483, Validation Loss: 0.6610, Validation F-beta: 0.4476\n",
      "Epoch 86/4000\n"
     ]
    },
    {
     "name": "stderr",
     "output_type": "stream",
     "text": [
      "Training: 100%|██████████| 24/24 [00:42<00:00,  1.76s/it, loss=0.632]\n",
      "Validation: 100%|██████████| 4/4 [00:03<00:00,  1.29it/s, loss=0.59] \n"
     ]
    },
    {
     "name": "stdout",
     "output_type": "stream",
     "text": [
      "Validation Dice Score\n",
      "Class 0: 0.0000, Class 1: 0.5749, Class 2: 0.0020, Class 3: 0.0017, \n",
      "Class 4: 0.2409, Class 5: 0.2707, Class 6: 0.5024, \n",
      "Validation F-beta Score\n",
      "Class 0: 0.0000, Class 1: 0.8778, Class 2: 0.0165, Class 3: 0.0133, \n",
      "Class 4: 0.3298, Class 5: 0.3780, Class 6: 0.6538, \n",
      "Overall Mean Dice Score: 0.3181\n",
      "Overall Mean F-beta Score: 0.4505\n",
      "\n",
      "Training Loss: 0.6425, Validation Loss: 0.6345, Validation F-beta: 0.4505\n",
      "Epoch 87/4000\n"
     ]
    },
    {
     "name": "stderr",
     "output_type": "stream",
     "text": [
      "Training: 100%|██████████| 24/24 [00:41<00:00,  1.72s/it, loss=0.65] \n",
      "Validation: 100%|██████████| 4/4 [00:03<00:00,  1.31it/s, loss=0.608]\n"
     ]
    },
    {
     "name": "stdout",
     "output_type": "stream",
     "text": [
      "Validation Dice Score\n",
      "Class 0: 0.0000, Class 1: 0.4652, Class 2: 0.0006, Class 3: 0.0015, \n",
      "Class 4: 0.3938, Class 5: 0.3192, Class 6: 0.4158, \n",
      "Validation F-beta Score\n",
      "Class 0: 0.0000, Class 1: 0.5744, Class 2: 0.0049, Class 3: 0.0115, \n",
      "Class 4: 0.4912, Class 5: 0.4910, Class 6: 0.4229, \n",
      "Overall Mean Dice Score: 0.3191\n",
      "Overall Mean F-beta Score: 0.3982\n",
      "\n",
      "Training Loss: 0.6279, Validation Loss: 0.6449, Validation F-beta: 0.3982\n",
      "Epoch 88/4000\n"
     ]
    },
    {
     "name": "stderr",
     "output_type": "stream",
     "text": [
      "Training: 100%|██████████| 24/24 [00:40<00:00,  1.68s/it, loss=0.695]\n",
      "Validation: 100%|██████████| 4/4 [00:02<00:00,  1.37it/s, loss=0.587]\n"
     ]
    },
    {
     "name": "stdout",
     "output_type": "stream",
     "text": [
      "Validation Dice Score\n",
      "Class 0: 0.0000, Class 1: 0.7099, Class 2: 0.0014, Class 3: 0.0011, \n",
      "Class 4: 0.2453, Class 5: 0.4197, Class 6: 0.7881, \n",
      "Validation F-beta Score\n",
      "Class 0: 0.0000, Class 1: 0.7832, Class 2: 0.0112, Class 3: 0.0085, \n",
      "Class 4: 0.3921, Class 5: 0.5392, Class 6: 0.7959, \n",
      "Overall Mean Dice Score: 0.4328\n",
      "Overall Mean F-beta Score: 0.5038\n",
      "\n",
      "Training Loss: 0.6471, Validation Loss: 0.5889, Validation F-beta: 0.5038\n",
      "========================================================\n",
      "Best model saved based on validation loss: 0.5889\n",
      "========================================================\n",
      "Epoch 89/4000\n"
     ]
    },
    {
     "name": "stderr",
     "output_type": "stream",
     "text": [
      "Training: 100%|██████████| 24/24 [00:37<00:00,  1.54s/it, loss=0.574]\n",
      "Validation: 100%|██████████| 4/4 [00:03<00:00,  1.29it/s, loss=0.633]\n"
     ]
    },
    {
     "name": "stdout",
     "output_type": "stream",
     "text": [
      "Validation Dice Score\n",
      "Class 0: 0.0000, Class 1: 0.4151, Class 2: 0.0011, Class 3: 0.0008, \n",
      "Class 4: 0.3187, Class 5: 0.4015, Class 6: 0.3951, \n",
      "Validation F-beta Score\n",
      "Class 0: 0.0000, Class 1: 0.4408, Class 2: 0.0090, Class 3: 0.0061, \n",
      "Class 4: 0.3913, Class 5: 0.4789, Class 6: 0.4342, \n",
      "Overall Mean Dice Score: 0.3063\n",
      "Overall Mean F-beta Score: 0.3502\n",
      "\n",
      "Training Loss: 0.6411, Validation Loss: 0.6365, Validation F-beta: 0.3502\n",
      "Epoch 90/4000\n"
     ]
    },
    {
     "name": "stderr",
     "output_type": "stream",
     "text": [
      "Training: 100%|██████████| 24/24 [00:36<00:00,  1.54s/it, loss=0.642]\n",
      "Validation: 100%|██████████| 4/4 [00:02<00:00,  1.40it/s, loss=0.649]\n"
     ]
    },
    {
     "name": "stdout",
     "output_type": "stream",
     "text": [
      "Validation Dice Score\n",
      "Class 0: 0.0000, Class 1: 0.6019, Class 2: 0.0039, Class 3: 0.0019, \n",
      "Class 4: 0.3118, Class 5: 0.3512, Class 6: 0.6496, \n",
      "Validation F-beta Score\n",
      "Class 0: 0.0000, Class 1: 0.7078, Class 2: 0.0313, Class 3: 0.0144, \n",
      "Class 4: 0.5132, Class 5: 0.5441, Class 6: 0.6773, \n",
      "Overall Mean Dice Score: 0.3833\n",
      "Overall Mean F-beta Score: 0.4913\n",
      "\n",
      "Training Loss: 0.6404, Validation Loss: 0.6447, Validation F-beta: 0.4913\n",
      "Epoch 91/4000\n"
     ]
    },
    {
     "name": "stderr",
     "output_type": "stream",
     "text": [
      "Training: 100%|██████████| 24/24 [00:30<00:00,  1.28s/it, loss=0.633]\n",
      "Validation: 100%|██████████| 4/4 [00:02<00:00,  1.75it/s, loss=0.633]\n"
     ]
    },
    {
     "name": "stdout",
     "output_type": "stream",
     "text": [
      "Validation Dice Score\n",
      "Class 0: 0.0000, Class 1: 0.6659, Class 2: 0.0019, Class 3: 0.0013, \n",
      "Class 4: 0.4957, Class 5: 0.3765, Class 6: 0.7981, \n",
      "Validation F-beta Score\n",
      "Class 0: 0.0000, Class 1: 0.7773, Class 2: 0.0155, Class 3: 0.0098, \n",
      "Class 4: 0.5691, Class 5: 0.5828, Class 6: 0.8871, \n",
      "Overall Mean Dice Score: 0.4675\n",
      "Overall Mean F-beta Score: 0.5652\n",
      "\n",
      "Training Loss: 0.6426, Validation Loss: 0.6177, Validation F-beta: 0.5652\n",
      "========================================================\n",
      "Best model saved based on F-beta score: 0.5652\n",
      "========================================================\n",
      "Epoch 92/4000\n"
     ]
    },
    {
     "name": "stderr",
     "output_type": "stream",
     "text": [
      "Training: 100%|██████████| 24/24 [00:31<00:00,  1.30s/it, loss=0.665]\n",
      "Validation: 100%|██████████| 4/4 [00:02<00:00,  1.89it/s, loss=0.61] \n"
     ]
    },
    {
     "name": "stdout",
     "output_type": "stream",
     "text": [
      "Validation Dice Score\n",
      "Class 0: 0.0000, Class 1: 0.6191, Class 2: 0.0000, Class 3: 0.0020, \n",
      "Class 4: 0.4107, Class 5: 0.4772, Class 6: 0.4644, \n",
      "Validation F-beta Score\n",
      "Class 0: 0.0000, Class 1: 0.7176, Class 2: 0.0002, Class 3: 0.0152, \n",
      "Class 4: 0.5526, Class 5: 0.5733, Class 6: 0.6219, \n",
      "Overall Mean Dice Score: 0.3947\n",
      "Overall Mean F-beta Score: 0.4961\n",
      "\n",
      "Training Loss: 0.6427, Validation Loss: 0.6055, Validation F-beta: 0.4961\n",
      "Epoch 93/4000\n"
     ]
    },
    {
     "name": "stderr",
     "output_type": "stream",
     "text": [
      "Training: 100%|██████████| 24/24 [00:30<00:00,  1.27s/it, loss=0.609]\n",
      "Validation: 100%|██████████| 4/4 [00:02<00:00,  1.90it/s, loss=0.634]\n"
     ]
    },
    {
     "name": "stdout",
     "output_type": "stream",
     "text": [
      "Validation Dice Score\n",
      "Class 0: 0.0000, Class 1: 0.5338, Class 2: 0.0036, Class 3: 0.0014, \n",
      "Class 4: 0.2310, Class 5: 0.1445, Class 6: 0.7557, \n",
      "Validation F-beta Score\n",
      "Class 0: 0.0000, Class 1: 0.8183, Class 2: 0.0275, Class 3: 0.0109, \n",
      "Class 4: 0.4480, Class 5: 0.2297, Class 6: 0.8674, \n",
      "Overall Mean Dice Score: 0.3333\n",
      "Overall Mean F-beta Score: 0.4749\n",
      "\n",
      "Training Loss: 0.6493, Validation Loss: 0.6354, Validation F-beta: 0.4749\n",
      "Epoch 94/4000\n"
     ]
    },
    {
     "name": "stderr",
     "output_type": "stream",
     "text": [
      "Training: 100%|██████████| 24/24 [00:30<00:00,  1.26s/it, loss=0.611]\n",
      "Validation: 100%|██████████| 4/4 [00:02<00:00,  1.99it/s, loss=0.592]\n"
     ]
    },
    {
     "name": "stdout",
     "output_type": "stream",
     "text": [
      "Validation Dice Score\n",
      "Class 0: 0.0000, Class 1: 0.6303, Class 2: 0.0019, Class 3: 0.0018, \n",
      "Class 4: 0.4414, Class 5: 0.3296, Class 6: 0.7777, \n",
      "Validation F-beta Score\n",
      "Class 0: 0.0000, Class 1: 0.6955, Class 2: 0.0156, Class 3: 0.0139, \n",
      "Class 4: 0.5441, Class 5: 0.5487, Class 6: 0.8559, \n",
      "Overall Mean Dice Score: 0.4361\n",
      "Overall Mean F-beta Score: 0.5316\n",
      "\n",
      "Training Loss: 0.6346, Validation Loss: 0.6073, Validation F-beta: 0.5316\n",
      "Epoch 95/4000\n"
     ]
    },
    {
     "name": "stderr",
     "output_type": "stream",
     "text": [
      "Training: 100%|██████████| 24/24 [00:25<00:00,  1.06s/it, loss=0.656]\n",
      "Validation: 100%|██████████| 4/4 [00:01<00:00,  2.02it/s, loss=0.663]\n"
     ]
    },
    {
     "name": "stdout",
     "output_type": "stream",
     "text": [
      "Validation Dice Score\n",
      "Class 0: 0.0000, Class 1: 0.4613, Class 2: 0.0020, Class 3: 0.0021, \n",
      "Class 4: 0.3317, Class 5: 0.3128, Class 6: 0.7010, \n",
      "Validation F-beta Score\n",
      "Class 0: 0.0000, Class 1: 0.7485, Class 2: 0.0164, Class 3: 0.0156, \n",
      "Class 4: 0.4736, Class 5: 0.3688, Class 6: 0.9033, \n",
      "Overall Mean Dice Score: 0.3618\n",
      "Overall Mean F-beta Score: 0.5020\n",
      "\n",
      "Training Loss: 0.6376, Validation Loss: 0.6289, Validation F-beta: 0.5020\n",
      "Epoch 96/4000\n"
     ]
    },
    {
     "name": "stderr",
     "output_type": "stream",
     "text": [
      "Training: 100%|██████████| 24/24 [00:25<00:00,  1.06s/it, loss=0.665]\n",
      "Validation: 100%|██████████| 4/4 [00:02<00:00,  1.99it/s, loss=0.575]\n"
     ]
    },
    {
     "name": "stdout",
     "output_type": "stream",
     "text": [
      "Validation Dice Score\n",
      "Class 0: 0.0000, Class 1: 0.5490, Class 2: 0.0029, Class 3: 0.0013, \n",
      "Class 4: 0.4720, Class 5: 0.4301, Class 6: 0.5453, \n",
      "Validation F-beta Score\n",
      "Class 0: 0.0000, Class 1: 0.8246, Class 2: 0.0234, Class 3: 0.0106, \n",
      "Class 4: 0.5368, Class 5: 0.5676, Class 6: 0.5786, \n",
      "Overall Mean Dice Score: 0.3995\n",
      "Overall Mean F-beta Score: 0.5036\n",
      "\n",
      "Training Loss: 0.6331, Validation Loss: 0.6139, Validation F-beta: 0.5036\n",
      "Epoch 97/4000\n"
     ]
    },
    {
     "name": "stderr",
     "output_type": "stream",
     "text": [
      "Training: 100%|██████████| 24/24 [00:25<00:00,  1.06s/it, loss=0.668]\n",
      "Validation: 100%|██████████| 4/4 [00:02<00:00,  1.96it/s, loss=0.654]\n"
     ]
    },
    {
     "name": "stdout",
     "output_type": "stream",
     "text": [
      "Validation Dice Score\n",
      "Class 0: 0.0000, Class 1: 0.3685, Class 2: 0.0038, Class 3: 0.0008, \n",
      "Class 4: 0.3580, Class 5: 0.4443, Class 6: 0.6182, \n",
      "Validation F-beta Score\n",
      "Class 0: 0.0000, Class 1: 0.3956, Class 2: 0.0302, Class 3: 0.0059, \n",
      "Class 4: 0.4698, Class 5: 0.5504, Class 6: 0.7216, \n",
      "Overall Mean Dice Score: 0.3579\n",
      "Overall Mean F-beta Score: 0.4287\n",
      "\n",
      "Training Loss: 0.6384, Validation Loss: 0.6314, Validation F-beta: 0.4287\n",
      "Epoch 98/4000\n"
     ]
    },
    {
     "name": "stderr",
     "output_type": "stream",
     "text": [
      "Training: 100%|██████████| 24/24 [00:26<00:00,  1.09s/it, loss=0.612]\n",
      "Validation: 100%|██████████| 4/4 [00:02<00:00,  1.74it/s, loss=0.631]\n"
     ]
    },
    {
     "name": "stdout",
     "output_type": "stream",
     "text": [
      "Validation Dice Score\n",
      "Class 0: 0.0000, Class 1: 0.3539, Class 2: 0.0026, Class 3: 0.0026, \n",
      "Class 4: 0.4388, Class 5: 0.4473, Class 6: 0.6899, \n",
      "Validation F-beta Score\n",
      "Class 0: 0.0000, Class 1: 0.6000, Class 2: 0.0211, Class 3: 0.0204, \n",
      "Class 4: 0.4562, Class 5: 0.4950, Class 6: 0.8658, \n",
      "Overall Mean Dice Score: 0.3865\n",
      "Overall Mean F-beta Score: 0.4875\n",
      "\n",
      "Training Loss: 0.6334, Validation Loss: 0.6385, Validation F-beta: 0.4875\n",
      "Epoch 99/4000\n"
     ]
    },
    {
     "name": "stderr",
     "output_type": "stream",
     "text": [
      "Training: 100%|██████████| 24/24 [00:27<00:00,  1.16s/it, loss=0.658]\n",
      "Validation: 100%|██████████| 4/4 [00:02<00:00,  1.50it/s, loss=0.629]\n"
     ]
    },
    {
     "name": "stdout",
     "output_type": "stream",
     "text": [
      "Validation Dice Score\n",
      "Class 0: 0.0000, Class 1: 0.5189, Class 2: 0.0006, Class 3: 0.0010, \n",
      "Class 4: 0.4001, Class 5: 0.2465, Class 6: 0.8276, \n",
      "Validation F-beta Score\n",
      "Class 0: 0.0000, Class 1: 0.7480, Class 2: 0.0051, Class 3: 0.0075, \n",
      "Class 4: 0.5679, Class 5: 0.3508, Class 6: 0.8528, \n",
      "Overall Mean Dice Score: 0.3988\n",
      "Overall Mean F-beta Score: 0.5054\n",
      "\n",
      "Training Loss: 0.6404, Validation Loss: 0.6191, Validation F-beta: 0.5054\n",
      "Epoch 100/4000\n"
     ]
    },
    {
     "name": "stderr",
     "output_type": "stream",
     "text": [
      "Training: 100%|██████████| 24/24 [00:27<00:00,  1.15s/it, loss=0.58] \n",
      "Validation: 100%|██████████| 4/4 [00:02<00:00,  1.50it/s, loss=0.602]\n"
     ]
    },
    {
     "name": "stdout",
     "output_type": "stream",
     "text": [
      "Validation Dice Score\n",
      "Class 0: 0.0000, Class 1: 0.5021, Class 2: 0.0017, Class 3: 0.0011, \n",
      "Class 4: 0.4909, Class 5: 0.4653, Class 6: 0.5534, \n",
      "Validation F-beta Score\n",
      "Class 0: 0.0000, Class 1: 0.6039, Class 2: 0.0138, Class 3: 0.0091, \n",
      "Class 4: 0.4659, Class 5: 0.6387, Class 6: 0.6361, \n",
      "Overall Mean Dice Score: 0.4026\n",
      "Overall Mean F-beta Score: 0.4707\n",
      "\n",
      "Training Loss: 0.6446, Validation Loss: 0.6308, Validation F-beta: 0.4707\n",
      "Epoch 101/4000\n"
     ]
    },
    {
     "name": "stderr",
     "output_type": "stream",
     "text": [
      "Training: 100%|██████████| 24/24 [00:31<00:00,  1.32s/it, loss=0.61] \n",
      "Validation: 100%|██████████| 4/4 [00:03<00:00,  1.20it/s, loss=0.636]\n"
     ]
    },
    {
     "name": "stdout",
     "output_type": "stream",
     "text": [
      "Validation Dice Score\n",
      "Class 0: 0.0000, Class 1: 0.6443, Class 2: 0.0027, Class 3: 0.0040, \n",
      "Class 4: 0.4118, Class 5: 0.2455, Class 6: 0.4490, \n",
      "Validation F-beta Score\n",
      "Class 0: 0.0000, Class 1: 0.7500, Class 2: 0.0217, Class 3: 0.0297, \n",
      "Class 4: 0.6039, Class 5: 0.4733, Class 6: 0.5201, \n",
      "Overall Mean Dice Score: 0.3509\n",
      "Overall Mean F-beta Score: 0.4754\n",
      "\n",
      "Training Loss: 0.6338, Validation Loss: 0.6292, Validation F-beta: 0.4754\n",
      "Epoch 102/4000\n"
     ]
    },
    {
     "name": "stderr",
     "output_type": "stream",
     "text": [
      "Training: 100%|██████████| 24/24 [00:36<00:00,  1.54s/it, loss=0.608]\n",
      "Validation: 100%|██████████| 4/4 [00:03<00:00,  1.19it/s, loss=0.659]\n"
     ]
    },
    {
     "name": "stdout",
     "output_type": "stream",
     "text": [
      "Validation Dice Score\n",
      "Class 0: 0.0000, Class 1: 0.5363, Class 2: 0.0028, Class 3: 0.0006, \n",
      "Class 4: 0.0154, Class 5: 0.3564, Class 6: 0.7656, \n",
      "Validation F-beta Score\n",
      "Class 0: 0.0000, Class 1: 0.5928, Class 2: 0.0225, Class 3: 0.0050, \n",
      "Class 4: 0.0568, Class 5: 0.5476, Class 6: 0.8711, \n",
      "Overall Mean Dice Score: 0.3349\n",
      "Overall Mean F-beta Score: 0.4147\n",
      "\n",
      "Training Loss: 0.6417, Validation Loss: 0.6694, Validation F-beta: 0.4147\n",
      "Epoch 103/4000\n"
     ]
    },
    {
     "name": "stderr",
     "output_type": "stream",
     "text": [
      "Training: 100%|██████████| 24/24 [00:45<00:00,  1.88s/it, loss=0.626]\n",
      "Validation: 100%|██████████| 4/4 [00:03<00:00,  1.11it/s, loss=0.674]\n"
     ]
    },
    {
     "name": "stdout",
     "output_type": "stream",
     "text": [
      "Validation Dice Score\n",
      "Class 0: 0.0000, Class 1: 0.5125, Class 2: 0.0038, Class 3: 0.0016, \n",
      "Class 4: 0.5187, Class 5: 0.3405, Class 6: 0.7215, \n",
      "Validation F-beta Score\n",
      "Class 0: 0.0000, Class 1: 0.4513, Class 2: 0.0306, Class 3: 0.0122, \n",
      "Class 4: 0.6071, Class 5: 0.5091, Class 6: 0.7478, \n",
      "Overall Mean Dice Score: 0.4190\n",
      "Overall Mean F-beta Score: 0.4655\n",
      "\n",
      "Training Loss: 0.6373, Validation Loss: 0.6216, Validation F-beta: 0.4655\n",
      "Epoch 104/4000\n"
     ]
    },
    {
     "name": "stderr",
     "output_type": "stream",
     "text": [
      "Training: 100%|██████████| 24/24 [00:56<00:00,  2.34s/it, loss=0.64] \n",
      "Validation: 100%|██████████| 4/4 [00:03<00:00,  1.02it/s, loss=0.589]\n"
     ]
    },
    {
     "name": "stdout",
     "output_type": "stream",
     "text": [
      "Validation Dice Score\n",
      "Class 0: 0.0000, Class 1: 0.5892, Class 2: 0.0033, Class 3: 0.0007, \n",
      "Class 4: 0.3651, Class 5: 0.3784, Class 6: 0.7429, \n",
      "Validation F-beta Score\n",
      "Class 0: 0.0000, Class 1: 0.5806, Class 2: 0.0264, Class 3: 0.0057, \n",
      "Class 4: 0.2899, Class 5: 0.3837, Class 6: 0.8486, \n",
      "Overall Mean Dice Score: 0.4153\n",
      "Overall Mean F-beta Score: 0.4217\n",
      "\n",
      "Training Loss: 0.6376, Validation Loss: 0.5953, Validation F-beta: 0.4217\n",
      "Epoch 105/4000\n"
     ]
    },
    {
     "name": "stderr",
     "output_type": "stream",
     "text": [
      "Training: 100%|██████████| 24/24 [01:04<00:00,  2.67s/it, loss=0.653]\n",
      "Validation: 100%|██████████| 4/4 [00:03<00:00,  1.14it/s, loss=0.579]\n"
     ]
    },
    {
     "name": "stdout",
     "output_type": "stream",
     "text": [
      "Validation Dice Score\n",
      "Class 0: 0.0000, Class 1: 0.4718, Class 2: 0.0031, Class 3: 0.0017, \n",
      "Class 4: 0.3163, Class 5: 0.4552, Class 6: 0.8290, \n",
      "Validation F-beta Score\n",
      "Class 0: 0.0000, Class 1: 0.5038, Class 2: 0.0243, Class 3: 0.0132, \n",
      "Class 4: 0.3491, Class 5: 0.5922, Class 6: 0.8426, \n",
      "Overall Mean Dice Score: 0.4148\n",
      "Overall Mean F-beta Score: 0.4602\n",
      "\n",
      "Training Loss: 0.6437, Validation Loss: 0.6066, Validation F-beta: 0.4602\n",
      "Epoch 106/4000\n"
     ]
    },
    {
     "name": "stderr",
     "output_type": "stream",
     "text": [
      "Training: 100%|██████████| 24/24 [01:08<00:00,  2.87s/it, loss=0.651]\n",
      "Validation: 100%|██████████| 4/4 [00:04<00:00,  1.15s/it, loss=0.6]  \n"
     ]
    },
    {
     "name": "stdout",
     "output_type": "stream",
     "text": [
      "Validation Dice Score\n",
      "Class 0: 0.0000, Class 1: 0.7220, Class 2: 0.0036, Class 3: 0.0018, \n",
      "Class 4: 0.4533, Class 5: 0.4911, Class 6: 0.7464, \n",
      "Validation F-beta Score\n",
      "Class 0: 0.0000, Class 1: 0.7422, Class 2: 0.0289, Class 3: 0.0135, \n",
      "Class 4: 0.4993, Class 5: 0.6162, Class 6: 0.8429, \n",
      "Overall Mean Dice Score: 0.4829\n",
      "Overall Mean F-beta Score: 0.5428\n",
      "\n",
      "Training Loss: 0.6374, Validation Loss: 0.6181, Validation F-beta: 0.5428\n",
      "Epoch 107/4000\n"
     ]
    },
    {
     "name": "stderr",
     "output_type": "stream",
     "text": [
      "Training: 100%|██████████| 24/24 [01:05<00:00,  2.72s/it, loss=0.639]\n",
      "Validation: 100%|██████████| 4/4 [00:04<00:00,  1.12s/it, loss=0.609]\n"
     ]
    },
    {
     "name": "stdout",
     "output_type": "stream",
     "text": [
      "Validation Dice Score\n",
      "Class 0: 0.0000, Class 1: 0.5441, Class 2: 0.0019, Class 3: 0.0025, \n",
      "Class 4: 0.4659, Class 5: 0.2639, Class 6: 0.6287, \n",
      "Validation F-beta Score\n",
      "Class 0: 0.0000, Class 1: 0.5859, Class 2: 0.0157, Class 3: 0.0189, \n",
      "Class 4: 0.4782, Class 5: 0.3081, Class 6: 0.6833, \n",
      "Overall Mean Dice Score: 0.3810\n",
      "Overall Mean F-beta Score: 0.4149\n",
      "\n",
      "Training Loss: 0.6324, Validation Loss: 0.6532, Validation F-beta: 0.4149\n",
      "Epoch 108/4000\n"
     ]
    },
    {
     "name": "stderr",
     "output_type": "stream",
     "text": [
      "Training: 100%|██████████| 24/24 [00:58<00:00,  2.43s/it, loss=0.582]\n",
      "Validation: 100%|██████████| 4/4 [00:03<00:00,  1.08it/s, loss=0.674]\n"
     ]
    },
    {
     "name": "stdout",
     "output_type": "stream",
     "text": [
      "Validation Dice Score\n",
      "Class 0: 0.0000, Class 1: 0.4647, Class 2: 0.0029, Class 3: 0.0028, \n",
      "Class 4: 0.3928, Class 5: 0.4410, Class 6: 0.6436, \n",
      "Validation F-beta Score\n",
      "Class 0: 0.0000, Class 1: 0.5918, Class 2: 0.0232, Class 3: 0.0214, \n",
      "Class 4: 0.4955, Class 5: 0.5844, Class 6: 0.7104, \n",
      "Overall Mean Dice Score: 0.3890\n",
      "Overall Mean F-beta Score: 0.4807\n",
      "\n",
      "Training Loss: 0.6422, Validation Loss: 0.6301, Validation F-beta: 0.4807\n",
      "Epoch 109/4000\n"
     ]
    },
    {
     "name": "stderr",
     "output_type": "stream",
     "text": [
      "Training: 100%|██████████| 24/24 [00:53<00:00,  2.24s/it, loss=0.626]\n",
      "Validation: 100%|██████████| 4/4 [00:03<00:00,  1.03it/s, loss=0.657]\n"
     ]
    },
    {
     "name": "stdout",
     "output_type": "stream",
     "text": [
      "Validation Dice Score\n",
      "Class 0: 0.0000, Class 1: 0.3740, Class 2: 0.0066, Class 3: 0.0017, \n",
      "Class 4: 0.3131, Class 5: 0.4629, Class 6: 0.8006, \n",
      "Validation F-beta Score\n",
      "Class 0: 0.0000, Class 1: 0.5045, Class 2: 0.0509, Class 3: 0.0132, \n",
      "Class 4: 0.3023, Class 5: 0.5339, Class 6: 0.8240, \n",
      "Overall Mean Dice Score: 0.3905\n",
      "Overall Mean F-beta Score: 0.4356\n",
      "\n",
      "Training Loss: 0.6407, Validation Loss: 0.6238, Validation F-beta: 0.4356\n",
      "Epoch 110/4000\n"
     ]
    },
    {
     "name": "stderr",
     "output_type": "stream",
     "text": [
      "Training: 100%|██████████| 24/24 [00:51<00:00,  2.15s/it, loss=0.583]\n",
      "Validation: 100%|██████████| 4/4 [00:03<00:00,  1.00it/s, loss=0.677]\n"
     ]
    },
    {
     "name": "stdout",
     "output_type": "stream",
     "text": [
      "Validation Dice Score\n",
      "Class 0: 0.0000, Class 1: 0.3637, Class 2: 0.0016, Class 3: 0.0019, \n",
      "Class 4: 0.4026, Class 5: 0.4340, Class 6: 0.7301, \n",
      "Validation F-beta Score\n",
      "Class 0: 0.0000, Class 1: 0.4940, Class 2: 0.0129, Class 3: 0.0153, \n",
      "Class 4: 0.4294, Class 5: 0.5780, Class 6: 0.8267, \n",
      "Overall Mean Dice Score: 0.3865\n",
      "Overall Mean F-beta Score: 0.4687\n",
      "\n",
      "Training Loss: 0.6318, Validation Loss: 0.6290, Validation F-beta: 0.4687\n",
      "Epoch 111/4000\n"
     ]
    },
    {
     "name": "stderr",
     "output_type": "stream",
     "text": [
      "Training: 100%|██████████| 24/24 [00:56<00:00,  2.34s/it, loss=0.667]\n",
      "Validation: 100%|██████████| 4/4 [00:04<00:00,  1.01s/it, loss=0.601]\n"
     ]
    },
    {
     "name": "stdout",
     "output_type": "stream",
     "text": [
      "Validation Dice Score\n",
      "Class 0: 0.0000, Class 1: 0.4291, Class 2: 0.0022, Class 3: 0.0020, \n",
      "Class 4: 0.4533, Class 5: 0.3184, Class 6: 0.7491, \n",
      "Validation F-beta Score\n",
      "Class 0: 0.0000, Class 1: 0.6159, Class 2: 0.0176, Class 3: 0.0150, \n",
      "Class 4: 0.5377, Class 5: 0.4344, Class 6: 0.8964, \n",
      "Overall Mean Dice Score: 0.3904\n",
      "Overall Mean F-beta Score: 0.4999\n",
      "\n",
      "Training Loss: 0.6329, Validation Loss: 0.6311, Validation F-beta: 0.4999\n",
      "Epoch 112/4000\n"
     ]
    },
    {
     "name": "stderr",
     "output_type": "stream",
     "text": [
      "Training: 100%|██████████| 24/24 [00:52<00:00,  2.20s/it, loss=0.664]\n",
      "Validation: 100%|██████████| 4/4 [00:03<00:00,  1.05it/s, loss=0.614]\n"
     ]
    },
    {
     "name": "stdout",
     "output_type": "stream",
     "text": [
      "Validation Dice Score\n",
      "Class 0: 0.0000, Class 1: 0.5895, Class 2: 0.0010, Class 3: 0.0007, \n",
      "Class 4: 0.3896, Class 5: 0.4474, Class 6: 0.7652, \n",
      "Validation F-beta Score\n",
      "Class 0: 0.0000, Class 1: 0.7894, Class 2: 0.0082, Class 3: 0.0058, \n",
      "Class 4: 0.5609, Class 5: 0.5340, Class 6: 0.8536, \n",
      "Overall Mean Dice Score: 0.4385\n",
      "Overall Mean F-beta Score: 0.5488\n",
      "\n",
      "Training Loss: 0.6362, Validation Loss: 0.6098, Validation F-beta: 0.5488\n",
      "Epoch 113/4000\n"
     ]
    },
    {
     "name": "stderr",
     "output_type": "stream",
     "text": [
      "Training: 100%|██████████| 24/24 [00:52<00:00,  2.19s/it, loss=0.601]\n",
      "Validation: 100%|██████████| 4/4 [00:03<00:00,  1.10it/s, loss=0.58] \n"
     ]
    },
    {
     "name": "stdout",
     "output_type": "stream",
     "text": [
      "Validation Dice Score\n",
      "Class 0: 0.0000, Class 1: 0.4879, Class 2: 0.0053, Class 3: 0.0010, \n",
      "Class 4: 0.3839, Class 5: 0.5566, Class 6: 0.6849, \n",
      "Validation F-beta Score\n",
      "Class 0: 0.0000, Class 1: 0.4572, Class 2: 0.0415, Class 3: 0.0076, \n",
      "Class 4: 0.5282, Class 5: 0.5626, Class 6: 0.8027, \n",
      "Overall Mean Dice Score: 0.4229\n",
      "Overall Mean F-beta Score: 0.4717\n",
      "\n",
      "Training Loss: 0.6335, Validation Loss: 0.6141, Validation F-beta: 0.4717\n",
      "Epoch 114/4000\n"
     ]
    },
    {
     "name": "stderr",
     "output_type": "stream",
     "text": [
      "Training: 100%|██████████| 24/24 [00:48<00:00,  2.01s/it, loss=0.632]\n",
      "Validation: 100%|██████████| 4/4 [00:03<00:00,  1.14it/s, loss=0.671]\n"
     ]
    },
    {
     "name": "stdout",
     "output_type": "stream",
     "text": [
      "Validation Dice Score\n",
      "Class 0: 0.0000, Class 1: 0.4154, Class 2: 0.0033, Class 3: 0.0017, \n",
      "Class 4: 0.4618, Class 5: 0.4309, Class 6: 0.5606, \n",
      "Validation F-beta Score\n",
      "Class 0: 0.0000, Class 1: 0.5562, Class 2: 0.0264, Class 3: 0.0138, \n",
      "Class 4: 0.6354, Class 5: 0.5507, Class 6: 0.6585, \n",
      "Overall Mean Dice Score: 0.3741\n",
      "Overall Mean F-beta Score: 0.4829\n",
      "\n",
      "Training Loss: 0.6277, Validation Loss: 0.6335, Validation F-beta: 0.4829\n",
      "Epoch 115/4000\n"
     ]
    },
    {
     "name": "stderr",
     "output_type": "stream",
     "text": [
      "Training: 100%|██████████| 24/24 [00:45<00:00,  1.89s/it, loss=0.63] \n",
      "Validation: 100%|██████████| 4/4 [00:03<00:00,  1.29it/s, loss=0.603]\n"
     ]
    },
    {
     "name": "stdout",
     "output_type": "stream",
     "text": [
      "Validation Dice Score\n",
      "Class 0: 0.0000, Class 1: 0.5899, Class 2: 0.0023, Class 3: 0.0028, \n",
      "Class 4: 0.3766, Class 5: 0.3659, Class 6: 0.5356, \n",
      "Validation F-beta Score\n",
      "Class 0: 0.0000, Class 1: 0.6709, Class 2: 0.0183, Class 3: 0.0215, \n",
      "Class 4: 0.4616, Class 5: 0.5543, Class 6: 0.6634, \n",
      "Overall Mean Dice Score: 0.3742\n",
      "Overall Mean F-beta Score: 0.4743\n",
      "\n",
      "Training Loss: 0.6345, Validation Loss: 0.6230, Validation F-beta: 0.4743\n",
      "Epoch 116/4000\n"
     ]
    },
    {
     "name": "stderr",
     "output_type": "stream",
     "text": [
      "Training: 100%|██████████| 24/24 [00:41<00:00,  1.74s/it, loss=0.611]\n",
      "Validation: 100%|██████████| 4/4 [00:03<00:00,  1.32it/s, loss=0.609]\n"
     ]
    },
    {
     "name": "stdout",
     "output_type": "stream",
     "text": [
      "Validation Dice Score\n",
      "Class 0: 0.0000, Class 1: 0.7212, Class 2: 0.0009, Class 3: 0.0020, \n",
      "Class 4: 0.5361, Class 5: 0.3725, Class 6: 0.8019, \n",
      "Validation F-beta Score\n",
      "Class 0: 0.0000, Class 1: 0.8037, Class 2: 0.0075, Class 3: 0.0149, \n",
      "Class 4: 0.6891, Class 5: 0.4919, Class 6: 0.8065, \n",
      "Overall Mean Dice Score: 0.4867\n",
      "Overall Mean F-beta Score: 0.5612\n",
      "\n",
      "Training Loss: 0.6421, Validation Loss: 0.6026, Validation F-beta: 0.5612\n",
      "Epoch 117/4000\n"
     ]
    },
    {
     "name": "stderr",
     "output_type": "stream",
     "text": [
      "Training: 100%|██████████| 24/24 [00:42<00:00,  1.77s/it, loss=0.565]\n",
      "Validation: 100%|██████████| 4/4 [00:03<00:00,  1.23it/s, loss=0.692]\n"
     ]
    },
    {
     "name": "stdout",
     "output_type": "stream",
     "text": [
      "Validation Dice Score\n",
      "Class 0: 0.0000, Class 1: 0.6064, Class 2: 0.0032, Class 3: 0.0016, \n",
      "Class 4: 0.1556, Class 5: 0.4447, Class 6: 0.5825, \n",
      "Validation F-beta Score\n",
      "Class 0: 0.0000, Class 1: 0.8163, Class 2: 0.0257, Class 3: 0.0125, \n",
      "Class 4: 0.1663, Class 5: 0.5887, Class 6: 0.6089, \n",
      "Overall Mean Dice Score: 0.3582\n",
      "Overall Mean F-beta Score: 0.4385\n",
      "\n",
      "Training Loss: 0.6210, Validation Loss: 0.6348, Validation F-beta: 0.4385\n",
      "Epoch 118/4000\n"
     ]
    },
    {
     "name": "stderr",
     "output_type": "stream",
     "text": [
      "Training: 100%|██████████| 24/24 [00:39<00:00,  1.66s/it, loss=0.625]\n",
      "Validation: 100%|██████████| 4/4 [00:03<00:00,  1.30it/s, loss=0.613]\n"
     ]
    },
    {
     "name": "stdout",
     "output_type": "stream",
     "text": [
      "Validation Dice Score\n",
      "Class 0: 0.0000, Class 1: 0.4472, Class 2: 0.0046, Class 3: 0.0024, \n",
      "Class 4: 0.2834, Class 5: 0.2668, Class 6: 0.5948, \n",
      "Validation F-beta Score\n",
      "Class 0: 0.0000, Class 1: 0.5855, Class 2: 0.0366, Class 3: 0.0183, \n",
      "Class 4: 0.4213, Class 5: 0.4618, Class 6: 0.6240, \n",
      "Overall Mean Dice Score: 0.3189\n",
      "Overall Mean F-beta Score: 0.4222\n",
      "\n",
      "Training Loss: 0.6401, Validation Loss: 0.6368, Validation F-beta: 0.4222\n",
      "Epoch 119/4000\n"
     ]
    },
    {
     "name": "stderr",
     "output_type": "stream",
     "text": [
      "Training: 100%|██████████| 24/24 [00:37<00:00,  1.57s/it, loss=0.626]\n",
      "Validation: 100%|██████████| 4/4 [00:03<00:00,  1.25it/s, loss=0.638]\n"
     ]
    },
    {
     "name": "stdout",
     "output_type": "stream",
     "text": [
      "Validation Dice Score\n",
      "Class 0: 0.0000, Class 1: 0.4016, Class 2: 0.0030, Class 3: 0.0012, \n",
      "Class 4: 0.4456, Class 5: 0.3232, Class 6: 0.7771, \n",
      "Validation F-beta Score\n",
      "Class 0: 0.0000, Class 1: 0.5143, Class 2: 0.0234, Class 3: 0.0098, \n",
      "Class 4: 0.5856, Class 5: 0.4537, Class 6: 0.9200, \n",
      "Overall Mean Dice Score: 0.3898\n",
      "Overall Mean F-beta Score: 0.4967\n",
      "\n",
      "Training Loss: 0.6375, Validation Loss: 0.6324, Validation F-beta: 0.4967\n",
      "Epoch 120/4000\n"
     ]
    },
    {
     "name": "stderr",
     "output_type": "stream",
     "text": [
      "Training: 100%|██████████| 24/24 [00:33<00:00,  1.40s/it, loss=0.644]\n",
      "Validation: 100%|██████████| 4/4 [00:02<00:00,  1.56it/s, loss=0.576]\n"
     ]
    },
    {
     "name": "stdout",
     "output_type": "stream",
     "text": [
      "Validation Dice Score\n",
      "Class 0: 0.0000, Class 1: 0.4775, Class 2: 0.0017, Class 3: 0.0005, \n",
      "Class 4: 0.2815, Class 5: 0.3518, Class 6: 0.6075, \n",
      "Validation F-beta Score\n",
      "Class 0: 0.0000, Class 1: 0.5916, Class 2: 0.0141, Class 3: 0.0043, \n",
      "Class 4: 0.3836, Class 5: 0.4932, Class 6: 0.7927, \n",
      "Overall Mean Dice Score: 0.3438\n",
      "Overall Mean F-beta Score: 0.4531\n",
      "\n",
      "Training Loss: 0.6397, Validation Loss: 0.6279, Validation F-beta: 0.4531\n",
      "Epoch 121/4000\n"
     ]
    },
    {
     "name": "stderr",
     "output_type": "stream",
     "text": [
      "Training: 100%|██████████| 24/24 [00:29<00:00,  1.23s/it, loss=0.588]\n",
      "Validation: 100%|██████████| 4/4 [00:02<00:00,  1.57it/s, loss=0.612]\n"
     ]
    },
    {
     "name": "stdout",
     "output_type": "stream",
     "text": [
      "Validation Dice Score\n",
      "Class 0: 0.0000, Class 1: 0.6977, Class 2: 0.0041, Class 3: 0.0009, \n",
      "Class 4: 0.3647, Class 5: 0.3945, Class 6: 0.7549, \n",
      "Validation F-beta Score\n",
      "Class 0: 0.0000, Class 1: 0.8256, Class 2: 0.0334, Class 3: 0.0070, \n",
      "Class 4: 0.4984, Class 5: 0.4972, Class 6: 0.8876, \n",
      "Overall Mean Dice Score: 0.4426\n",
      "Overall Mean F-beta Score: 0.5432\n",
      "\n",
      "Training Loss: 0.6364, Validation Loss: 0.6332, Validation F-beta: 0.5432\n",
      "Epoch 122/4000\n"
     ]
    },
    {
     "name": "stderr",
     "output_type": "stream",
     "text": [
      "Training: 100%|██████████| 24/24 [00:29<00:00,  1.23s/it, loss=0.648]\n",
      "Validation: 100%|██████████| 4/4 [00:02<00:00,  1.68it/s, loss=0.614]\n"
     ]
    },
    {
     "name": "stdout",
     "output_type": "stream",
     "text": [
      "Validation Dice Score\n",
      "Class 0: 0.0000, Class 1: 0.6676, Class 2: 0.0007, Class 3: 0.0024, \n",
      "Class 4: 0.4918, Class 5: 0.4470, Class 6: 0.4958, \n",
      "Validation F-beta Score\n",
      "Class 0: 0.0000, Class 1: 0.8813, Class 2: 0.0054, Class 3: 0.0188, \n",
      "Class 4: 0.6002, Class 5: 0.4579, Class 6: 0.6299, \n",
      "Overall Mean Dice Score: 0.4209\n",
      "Overall Mean F-beta Score: 0.5176\n",
      "\n",
      "Training Loss: 0.6307, Validation Loss: 0.6104, Validation F-beta: 0.5176\n",
      "Epoch 123/4000\n"
     ]
    },
    {
     "name": "stderr",
     "output_type": "stream",
     "text": [
      "Training: 100%|██████████| 24/24 [00:31<00:00,  1.29s/it, loss=0.625]\n",
      "Validation: 100%|██████████| 4/4 [00:02<00:00,  1.45it/s, loss=0.616]\n"
     ]
    },
    {
     "name": "stdout",
     "output_type": "stream",
     "text": [
      "Validation Dice Score\n",
      "Class 0: 0.0000, Class 1: 0.5299, Class 2: 0.0019, Class 3: 0.0020, \n",
      "Class 4: 0.3582, Class 5: 0.4590, Class 6: 0.7066, \n",
      "Validation F-beta Score\n",
      "Class 0: 0.0000, Class 1: 0.7838, Class 2: 0.0152, Class 3: 0.0158, \n",
      "Class 4: 0.6148, Class 5: 0.6278, Class 6: 0.8791, \n",
      "Overall Mean Dice Score: 0.4111\n",
      "Overall Mean F-beta Score: 0.5843\n",
      "\n",
      "Training Loss: 0.6429, Validation Loss: 0.6264, Validation F-beta: 0.5843\n",
      "========================================================\n",
      "Best model saved based on F-beta score: 0.5843\n",
      "========================================================\n",
      "Epoch 124/4000\n"
     ]
    },
    {
     "name": "stderr",
     "output_type": "stream",
     "text": [
      "Training: 100%|██████████| 24/24 [00:32<00:00,  1.33s/it, loss=0.633]\n",
      "Validation: 100%|██████████| 4/4 [00:02<00:00,  1.43it/s, loss=0.571]\n"
     ]
    },
    {
     "name": "stdout",
     "output_type": "stream",
     "text": [
      "Validation Dice Score\n",
      "Class 0: 0.0000, Class 1: 0.6392, Class 2: 0.0020, Class 3: 0.0020, \n",
      "Class 4: 0.2834, Class 5: 0.4537, Class 6: 0.7934, \n",
      "Validation F-beta Score\n",
      "Class 0: 0.0000, Class 1: 0.7399, Class 2: 0.0167, Class 3: 0.0157, \n",
      "Class 4: 0.3798, Class 5: 0.4960, Class 6: 0.8770, \n",
      "Overall Mean Dice Score: 0.4343\n",
      "Overall Mean F-beta Score: 0.5017\n",
      "\n",
      "Training Loss: 0.6263, Validation Loss: 0.6046, Validation F-beta: 0.5017\n",
      "Epoch 125/4000\n"
     ]
    },
    {
     "name": "stderr",
     "output_type": "stream",
     "text": [
      "Training: 100%|██████████| 24/24 [00:31<00:00,  1.33s/it, loss=0.66] \n",
      "Validation: 100%|██████████| 4/4 [00:02<00:00,  1.49it/s, loss=0.668]\n"
     ]
    },
    {
     "name": "stdout",
     "output_type": "stream",
     "text": [
      "Validation Dice Score\n",
      "Class 0: 0.0000, Class 1: 0.5439, Class 2: 0.0031, Class 3: 0.0016, \n",
      "Class 4: 0.5360, Class 5: 0.3554, Class 6: 0.8668, \n",
      "Validation F-beta Score\n",
      "Class 0: 0.0000, Class 1: 0.5375, Class 2: 0.0245, Class 3: 0.0128, \n",
      "Class 4: 0.6908, Class 5: 0.5436, Class 6: 0.8831, \n",
      "Overall Mean Dice Score: 0.4607\n",
      "Overall Mean F-beta Score: 0.5336\n",
      "\n",
      "Training Loss: 0.6376, Validation Loss: 0.6068, Validation F-beta: 0.5336\n",
      "Epoch 126/4000\n"
     ]
    },
    {
     "name": "stderr",
     "output_type": "stream",
     "text": [
      "Training: 100%|██████████| 24/24 [00:32<00:00,  1.36s/it, loss=0.62] \n",
      "Validation: 100%|██████████| 4/4 [00:02<00:00,  1.35it/s, loss=0.593]\n"
     ]
    },
    {
     "name": "stdout",
     "output_type": "stream",
     "text": [
      "Validation Dice Score\n",
      "Class 0: 0.0000, Class 1: 0.6453, Class 2: 0.0035, Class 3: 0.0033, \n",
      "Class 4: 0.1763, Class 5: 0.4230, Class 6: 0.8345, \n",
      "Validation F-beta Score\n",
      "Class 0: 0.0000, Class 1: 0.7938, Class 2: 0.0282, Class 3: 0.0255, \n",
      "Class 4: 0.2368, Class 5: 0.5952, Class 6: 0.8274, \n",
      "Overall Mean Dice Score: 0.4165\n",
      "Overall Mean F-beta Score: 0.4957\n",
      "\n",
      "Training Loss: 0.6275, Validation Loss: 0.6106, Validation F-beta: 0.4957\n",
      "Epoch 127/4000\n"
     ]
    },
    {
     "name": "stderr",
     "output_type": "stream",
     "text": [
      "Training: 100%|██████████| 24/24 [00:33<00:00,  1.40s/it, loss=0.649]\n",
      "Validation: 100%|██████████| 4/4 [00:03<00:00,  1.04it/s, loss=0.637]\n"
     ]
    },
    {
     "name": "stdout",
     "output_type": "stream",
     "text": [
      "Validation Dice Score\n",
      "Class 0: 0.0000, Class 1: 0.6297, Class 2: 0.0012, Class 3: 0.0019, \n",
      "Class 4: 0.4344, Class 5: 0.2910, Class 6: 0.5549, \n",
      "Validation F-beta Score\n",
      "Class 0: 0.0000, Class 1: 0.7793, Class 2: 0.0097, Class 3: 0.0151, \n",
      "Class 4: 0.5893, Class 5: 0.4753, Class 6: 0.6445, \n",
      "Overall Mean Dice Score: 0.3824\n",
      "Overall Mean F-beta Score: 0.5007\n",
      "\n",
      "Training Loss: 0.6367, Validation Loss: 0.6204, Validation F-beta: 0.5007\n",
      "Epoch 128/4000\n"
     ]
    },
    {
     "name": "stderr",
     "output_type": "stream",
     "text": [
      "Training: 100%|██████████| 24/24 [00:34<00:00,  1.46s/it, loss=0.688]\n",
      "Validation: 100%|██████████| 4/4 [00:03<00:00,  1.05it/s, loss=0.625]\n"
     ]
    },
    {
     "name": "stdout",
     "output_type": "stream",
     "text": [
      "Validation Dice Score\n",
      "Class 0: 0.0000, Class 1: 0.3351, Class 2: 0.0034, Class 3: 0.0007, \n",
      "Class 4: 0.4540, Class 5: 0.5167, Class 6: 0.8094, \n",
      "Validation F-beta Score\n",
      "Class 0: 0.0000, Class 1: 0.4915, Class 2: 0.0274, Class 3: 0.0057, \n",
      "Class 4: 0.5022, Class 5: 0.5407, Class 6: 0.8370, \n",
      "Overall Mean Dice Score: 0.4232\n",
      "Overall Mean F-beta Score: 0.4754\n",
      "\n",
      "Training Loss: 0.6336, Validation Loss: 0.6245, Validation F-beta: 0.4754\n",
      "Epoch 129/4000\n"
     ]
    },
    {
     "name": "stderr",
     "output_type": "stream",
     "text": [
      "Training: 100%|██████████| 24/24 [00:35<00:00,  1.49s/it, loss=0.656]\n",
      "Validation: 100%|██████████| 4/4 [00:04<00:00,  1.02s/it, loss=0.669]\n"
     ]
    },
    {
     "name": "stdout",
     "output_type": "stream",
     "text": [
      "Validation Dice Score\n",
      "Class 0: 0.0000, Class 1: 0.6904, Class 2: 0.0029, Class 3: 0.0026, \n",
      "Class 4: 0.3108, Class 5: 0.2107, Class 6: 0.6377, \n",
      "Validation F-beta Score\n",
      "Class 0: 0.0000, Class 1: 0.6970, Class 2: 0.0231, Class 3: 0.0198, \n",
      "Class 4: 0.3433, Class 5: 0.2622, Class 6: 0.6631, \n",
      "Overall Mean Dice Score: 0.3704\n",
      "Overall Mean F-beta Score: 0.3970\n",
      "\n",
      "Training Loss: 0.6334, Validation Loss: 0.6389, Validation F-beta: 0.3970\n",
      "Epoch 130/4000\n"
     ]
    },
    {
     "name": "stderr",
     "output_type": "stream",
     "text": [
      "Training: 100%|██████████| 24/24 [00:43<00:00,  1.81s/it, loss=0.628]\n",
      "Validation: 100%|██████████| 4/4 [00:04<00:00,  1.09s/it, loss=0.629]\n"
     ]
    },
    {
     "name": "stdout",
     "output_type": "stream",
     "text": [
      "Validation Dice Score\n",
      "Class 0: 0.0000, Class 1: 0.4686, Class 2: 0.0022, Class 3: 0.0040, \n",
      "Class 4: 0.3391, Class 5: 0.3676, Class 6: 0.4264, \n",
      "Validation F-beta Score\n",
      "Class 0: 0.0000, Class 1: 0.5455, Class 2: 0.0175, Class 3: 0.0304, \n",
      "Class 4: 0.2990, Class 5: 0.5388, Class 6: 0.5754, \n",
      "Overall Mean Dice Score: 0.3211\n",
      "Overall Mean F-beta Score: 0.3978\n",
      "\n",
      "Training Loss: 0.6319, Validation Loss: 0.6435, Validation F-beta: 0.3978\n",
      "Epoch 131/4000\n"
     ]
    },
    {
     "name": "stderr",
     "output_type": "stream",
     "text": [
      "Training: 100%|██████████| 24/24 [00:56<00:00,  2.36s/it, loss=0.675]\n",
      "Validation: 100%|██████████| 4/4 [00:05<00:00,  1.27s/it, loss=0.583]\n"
     ]
    },
    {
     "name": "stdout",
     "output_type": "stream",
     "text": [
      "Validation Dice Score\n",
      "Class 0: 0.0000, Class 1: 0.5089, Class 2: 0.0045, Class 3: 0.0023, \n",
      "Class 4: 0.3775, Class 5: 0.4304, Class 6: 0.3467, \n",
      "Validation F-beta Score\n",
      "Class 0: 0.0000, Class 1: 0.6004, Class 2: 0.0346, Class 3: 0.0181, \n",
      "Class 4: 0.4738, Class 5: 0.6293, Class 6: 0.4190, \n",
      "Overall Mean Dice Score: 0.3332\n",
      "Overall Mean F-beta Score: 0.4281\n",
      "\n",
      "Training Loss: 0.6463, Validation Loss: 0.6313, Validation F-beta: 0.4281\n",
      "Epoch 132/4000\n"
     ]
    },
    {
     "name": "stderr",
     "output_type": "stream",
     "text": [
      "Training: 100%|██████████| 24/24 [01:03<00:00,  2.65s/it, loss=0.627]\n",
      "Validation: 100%|██████████| 4/4 [00:04<00:00,  1.15s/it, loss=0.675]\n"
     ]
    },
    {
     "name": "stdout",
     "output_type": "stream",
     "text": [
      "Validation Dice Score\n",
      "Class 0: 0.0000, Class 1: 0.5314, Class 2: 0.0017, Class 3: 0.0022, \n",
      "Class 4: 0.5406, Class 5: 0.3606, Class 6: 0.3877, \n",
      "Validation F-beta Score\n",
      "Class 0: 0.0000, Class 1: 0.6099, Class 2: 0.0135, Class 3: 0.0167, \n",
      "Class 4: 0.6603, Class 5: 0.4724, Class 6: 0.4428, \n",
      "Overall Mean Dice Score: 0.3645\n",
      "Overall Mean F-beta Score: 0.4404\n",
      "\n",
      "Training Loss: 0.6317, Validation Loss: 0.6420, Validation F-beta: 0.4404\n",
      "Epoch 133/4000\n"
     ]
    },
    {
     "name": "stderr",
     "output_type": "stream",
     "text": [
      "Training: 100%|██████████| 24/24 [01:02<00:00,  2.62s/it, loss=0.652]\n",
      "Validation: 100%|██████████| 4/4 [00:04<00:00,  1.08s/it, loss=0.666]\n"
     ]
    },
    {
     "name": "stdout",
     "output_type": "stream",
     "text": [
      "Validation Dice Score\n",
      "Class 0: 0.0000, Class 1: 0.5662, Class 2: 0.0007, Class 3: 0.0030, \n",
      "Class 4: 0.5177, Class 5: 0.4757, Class 6: 0.5570, \n",
      "Validation F-beta Score\n",
      "Class 0: 0.0000, Class 1: 0.7750, Class 2: 0.0056, Class 3: 0.0227, \n",
      "Class 4: 0.6407, Class 5: 0.6295, Class 6: 0.6714, \n",
      "Overall Mean Dice Score: 0.4239\n",
      "Overall Mean F-beta Score: 0.5479\n",
      "\n",
      "Training Loss: 0.6392, Validation Loss: 0.6158, Validation F-beta: 0.5479\n",
      "Epoch 134/4000\n"
     ]
    },
    {
     "name": "stderr",
     "output_type": "stream",
     "text": [
      "Training: 100%|██████████| 24/24 [01:06<00:00,  2.75s/it, loss=0.606]\n",
      "Validation: 100%|██████████| 4/4 [00:04<00:00,  1.23s/it, loss=0.676]\n"
     ]
    },
    {
     "name": "stdout",
     "output_type": "stream",
     "text": [
      "Validation Dice Score\n",
      "Class 0: 0.0000, Class 1: 0.8094, Class 2: 0.0019, Class 3: 0.0024, \n",
      "Class 4: 0.3657, Class 5: 0.4583, Class 6: 0.8228, \n",
      "Validation F-beta Score\n",
      "Class 0: 0.0000, Class 1: 0.8650, Class 2: 0.0145, Class 3: 0.0185, \n",
      "Class 4: 0.5058, Class 5: 0.5843, Class 6: 0.8908, \n",
      "Overall Mean Dice Score: 0.4917\n",
      "Overall Mean F-beta Score: 0.5729\n",
      "\n",
      "Training Loss: 0.6298, Validation Loss: 0.6103, Validation F-beta: 0.5729\n",
      "Epoch 135/4000\n"
     ]
    },
    {
     "name": "stderr",
     "output_type": "stream",
     "text": [
      "Training: 100%|██████████| 24/24 [00:59<00:00,  2.46s/it, loss=0.678]\n",
      "Validation: 100%|██████████| 4/4 [00:04<00:00,  1.00s/it, loss=0.654]\n"
     ]
    },
    {
     "name": "stdout",
     "output_type": "stream",
     "text": [
      "Validation Dice Score\n",
      "Class 0: 0.0000, Class 1: 0.6164, Class 2: 0.0020, Class 3: 0.0025, \n",
      "Class 4: 0.2758, Class 5: 0.2415, Class 6: 0.7918, \n",
      "Validation F-beta Score\n",
      "Class 0: 0.0000, Class 1: 0.8527, Class 2: 0.0160, Class 3: 0.0191, \n",
      "Class 4: 0.4807, Class 5: 0.4305, Class 6: 0.8393, \n",
      "Overall Mean Dice Score: 0.3856\n",
      "Overall Mean F-beta Score: 0.5244\n",
      "\n",
      "Training Loss: 0.6392, Validation Loss: 0.6220, Validation F-beta: 0.5244\n",
      "Epoch 136/4000\n"
     ]
    },
    {
     "name": "stderr",
     "output_type": "stream",
     "text": [
      "Training: 100%|██████████| 24/24 [00:55<00:00,  2.30s/it, loss=0.638]\n",
      "Validation: 100%|██████████| 4/4 [00:03<00:00,  1.06it/s, loss=0.636]\n"
     ]
    },
    {
     "name": "stdout",
     "output_type": "stream",
     "text": [
      "Validation Dice Score\n",
      "Class 0: 0.0000, Class 1: 0.5610, Class 2: 0.0015, Class 3: 0.0044, \n",
      "Class 4: 0.5029, Class 5: 0.3760, Class 6: 0.6251, \n",
      "Validation F-beta Score\n",
      "Class 0: 0.0000, Class 1: 0.4375, Class 2: 0.0120, Class 3: 0.0337, \n",
      "Class 4: 0.6282, Class 5: 0.5059, Class 6: 0.6096, \n",
      "Overall Mean Dice Score: 0.4139\n",
      "Overall Mean F-beta Score: 0.4430\n",
      "\n",
      "Training Loss: 0.6486, Validation Loss: 0.6313, Validation F-beta: 0.4430\n",
      "Epoch 137/4000\n"
     ]
    },
    {
     "name": "stderr",
     "output_type": "stream",
     "text": [
      "Training: 100%|██████████| 24/24 [00:45<00:00,  1.90s/it, loss=0.644]\n",
      "Validation: 100%|██████████| 4/4 [00:03<00:00,  1.10it/s, loss=0.665]\n"
     ]
    },
    {
     "name": "stdout",
     "output_type": "stream",
     "text": [
      "Validation Dice Score\n",
      "Class 0: 0.0000, Class 1: 0.4297, Class 2: 0.0029, Class 3: 0.0027, \n",
      "Class 4: 0.3816, Class 5: 0.3588, Class 6: 0.6511, \n",
      "Validation F-beta Score\n",
      "Class 0: 0.0000, Class 1: 0.5182, Class 2: 0.0228, Class 3: 0.0214, \n",
      "Class 4: 0.3890, Class 5: 0.5616, Class 6: 0.6548, \n",
      "Overall Mean Dice Score: 0.3648\n",
      "Overall Mean F-beta Score: 0.4290\n",
      "\n",
      "Training Loss: 0.6342, Validation Loss: 0.6174, Validation F-beta: 0.4290\n",
      "Epoch 138/4000\n"
     ]
    },
    {
     "name": "stderr",
     "output_type": "stream",
     "text": [
      "Training: 100%|██████████| 24/24 [00:40<00:00,  1.70s/it, loss=0.657]\n",
      "Validation: 100%|██████████| 4/4 [00:03<00:00,  1.22it/s, loss=0.598]\n"
     ]
    },
    {
     "name": "stdout",
     "output_type": "stream",
     "text": [
      "Validation Dice Score\n",
      "Class 0: 0.0000, Class 1: 0.5983, Class 2: 0.0011, Class 3: 0.0060, \n",
      "Class 4: 0.5317, Class 5: 0.3468, Class 6: 0.8086, \n",
      "Validation F-beta Score\n",
      "Class 0: 0.0000, Class 1: 0.8379, Class 2: 0.0090, Class 3: 0.0447, \n",
      "Class 4: 0.5973, Class 5: 0.4706, Class 6: 0.8550, \n",
      "Overall Mean Dice Score: 0.4583\n",
      "Overall Mean F-beta Score: 0.5611\n",
      "\n",
      "Training Loss: 0.6303, Validation Loss: 0.6117, Validation F-beta: 0.5611\n",
      "Epoch 139/4000\n"
     ]
    },
    {
     "name": "stderr",
     "output_type": "stream",
     "text": [
      "Training: 100%|██████████| 24/24 [00:39<00:00,  1.65s/it, loss=0.647]\n",
      "Validation: 100%|██████████| 4/4 [00:02<00:00,  1.45it/s, loss=0.637]\n"
     ]
    },
    {
     "name": "stdout",
     "output_type": "stream",
     "text": [
      "Validation Dice Score\n",
      "Class 0: 0.0000, Class 1: 0.5556, Class 2: 0.0026, Class 3: 0.0023, \n",
      "Class 4: 0.4375, Class 5: 0.3521, Class 6: 0.6619, \n",
      "Validation F-beta Score\n",
      "Class 0: 0.0000, Class 1: 0.5293, Class 2: 0.0209, Class 3: 0.0184, \n",
      "Class 4: 0.4904, Class 5: 0.4489, Class 6: 0.6844, \n",
      "Overall Mean Dice Score: 0.4019\n",
      "Overall Mean F-beta Score: 0.4343\n",
      "\n",
      "Training Loss: 0.6400, Validation Loss: 0.6259, Validation F-beta: 0.4343\n",
      "Epoch 140/4000\n"
     ]
    },
    {
     "name": "stderr",
     "output_type": "stream",
     "text": [
      "Training: 100%|██████████| 24/24 [00:36<00:00,  1.51s/it, loss=0.648]\n",
      "Validation: 100%|██████████| 4/4 [00:02<00:00,  1.85it/s, loss=0.614]\n"
     ]
    },
    {
     "name": "stdout",
     "output_type": "stream",
     "text": [
      "Validation Dice Score\n",
      "Class 0: 0.0000, Class 1: 0.5244, Class 2: 0.0006, Class 3: 0.0034, \n",
      "Class 4: 0.3731, Class 5: 0.4437, Class 6: 0.6659, \n",
      "Validation F-beta Score\n",
      "Class 0: 0.0000, Class 1: 0.6075, Class 2: 0.0051, Class 3: 0.0258, \n",
      "Class 4: 0.4918, Class 5: 0.5469, Class 6: 0.6825, \n",
      "Overall Mean Dice Score: 0.4021\n",
      "Overall Mean F-beta Score: 0.4709\n",
      "\n",
      "Training Loss: 0.6327, Validation Loss: 0.6372, Validation F-beta: 0.4709\n",
      "Epoch 141/4000\n"
     ]
    },
    {
     "name": "stderr",
     "output_type": "stream",
     "text": [
      "Training: 100%|██████████| 24/24 [00:36<00:00,  1.51s/it, loss=0.627]\n",
      "Validation: 100%|██████████| 4/4 [00:03<00:00,  1.30it/s, loss=0.65] \n"
     ]
    },
    {
     "name": "stdout",
     "output_type": "stream",
     "text": [
      "Validation Dice Score\n",
      "Class 0: 0.0000, Class 1: 0.5023, Class 2: 0.0029, Class 3: 0.0032, \n",
      "Class 4: 0.3985, Class 5: 0.4435, Class 6: 0.5331, \n",
      "Validation F-beta Score\n",
      "Class 0: 0.0000, Class 1: 0.7900, Class 2: 0.0233, Class 3: 0.0246, \n",
      "Class 4: 0.5483, Class 5: 0.5052, Class 6: 0.6666, \n",
      "Overall Mean Dice Score: 0.3761\n",
      "Overall Mean F-beta Score: 0.5069\n",
      "\n",
      "Training Loss: 0.6311, Validation Loss: 0.6083, Validation F-beta: 0.5069\n",
      "Epoch 142/4000\n"
     ]
    },
    {
     "name": "stderr",
     "output_type": "stream",
     "text": [
      "Training: 100%|██████████| 24/24 [00:38<00:00,  1.61s/it, loss=0.619]\n",
      "Validation: 100%|██████████| 4/4 [00:03<00:00,  1.05it/s, loss=0.582]\n"
     ]
    },
    {
     "name": "stdout",
     "output_type": "stream",
     "text": [
      "Validation Dice Score\n",
      "Class 0: 0.0000, Class 1: 0.4683, Class 2: 0.0022, Class 3: 0.0038, \n",
      "Class 4: 0.1883, Class 5: 0.4039, Class 6: 0.8577, \n",
      "Validation F-beta Score\n",
      "Class 0: 0.0000, Class 1: 0.5950, Class 2: 0.0177, Class 3: 0.0303, \n",
      "Class 4: 0.3646, Class 5: 0.5149, Class 6: 0.8798, \n",
      "Overall Mean Dice Score: 0.3844\n",
      "Overall Mean F-beta Score: 0.4769\n",
      "\n",
      "Training Loss: 0.6253, Validation Loss: 0.6233, Validation F-beta: 0.4769\n",
      "Epoch 143/4000\n"
     ]
    },
    {
     "name": "stderr",
     "output_type": "stream",
     "text": [
      "Training: 100%|██████████| 24/24 [00:45<00:00,  1.91s/it, loss=0.637]\n",
      "Validation: 100%|██████████| 4/4 [00:04<00:00,  1.01s/it, loss=0.589]\n"
     ]
    },
    {
     "name": "stdout",
     "output_type": "stream",
     "text": [
      "Validation Dice Score\n",
      "Class 0: 0.0000, Class 1: 0.4949, Class 2: 0.0028, Class 3: 0.0022, \n",
      "Class 4: 0.2377, Class 5: 0.4946, Class 6: 0.7198, \n",
      "Validation F-beta Score\n",
      "Class 0: 0.0000, Class 1: 0.7802, Class 2: 0.0225, Class 3: 0.0176, \n",
      "Class 4: 0.2692, Class 5: 0.5602, Class 6: 0.8932, \n",
      "Overall Mean Dice Score: 0.3898\n",
      "Overall Mean F-beta Score: 0.5041\n",
      "\n",
      "Training Loss: 0.6409, Validation Loss: 0.6172, Validation F-beta: 0.5041\n",
      "Epoch 144/4000\n"
     ]
    },
    {
     "name": "stderr",
     "output_type": "stream",
     "text": [
      "Training: 100%|██████████| 24/24 [00:52<00:00,  2.17s/it, loss=0.615]\n",
      "Validation: 100%|██████████| 4/4 [00:04<00:00,  1.18s/it, loss=0.571]\n"
     ]
    },
    {
     "name": "stdout",
     "output_type": "stream",
     "text": [
      "Validation Dice Score\n",
      "Class 0: 0.0000, Class 1: 0.5107, Class 2: 0.0040, Class 3: 0.0027, \n",
      "Class 4: 0.4635, Class 5: 0.4269, Class 6: 0.6199, \n",
      "Validation F-beta Score\n",
      "Class 0: 0.0000, Class 1: 0.7847, Class 2: 0.0317, Class 3: 0.0211, \n",
      "Class 4: 0.5838, Class 5: 0.5053, Class 6: 0.6706, \n",
      "Overall Mean Dice Score: 0.4048\n",
      "Overall Mean F-beta Score: 0.5131\n",
      "\n",
      "Training Loss: 0.6369, Validation Loss: 0.6232, Validation F-beta: 0.5131\n",
      "Epoch 145/4000\n"
     ]
    },
    {
     "name": "stderr",
     "output_type": "stream",
     "text": [
      "Training: 100%|██████████| 24/24 [01:02<00:00,  2.61s/it, loss=0.609]\n",
      "Validation: 100%|██████████| 4/4 [00:05<00:00,  1.27s/it, loss=0.541]\n"
     ]
    },
    {
     "name": "stdout",
     "output_type": "stream",
     "text": [
      "Validation Dice Score\n",
      "Class 0: 0.0000, Class 1: 0.5166, Class 2: 0.0020, Class 3: 0.0033, \n",
      "Class 4: 0.4105, Class 5: 0.3922, Class 6: 0.7277, \n",
      "Validation F-beta Score\n",
      "Class 0: 0.0000, Class 1: 0.6714, Class 2: 0.0155, Class 3: 0.0258, \n",
      "Class 4: 0.4050, Class 5: 0.4806, Class 6: 0.8814, \n",
      "Overall Mean Dice Score: 0.4100\n",
      "Overall Mean F-beta Score: 0.4928\n",
      "\n",
      "Training Loss: 0.6262, Validation Loss: 0.6156, Validation F-beta: 0.4928\n",
      "Epoch 146/4000\n"
     ]
    },
    {
     "name": "stderr",
     "output_type": "stream",
     "text": [
      "Training: 100%|██████████| 24/24 [01:06<00:00,  2.76s/it, loss=0.632]\n",
      "Validation: 100%|██████████| 4/4 [00:04<00:00,  1.22s/it, loss=0.592]\n"
     ]
    },
    {
     "name": "stdout",
     "output_type": "stream",
     "text": [
      "Validation Dice Score\n",
      "Class 0: 0.0000, Class 1: 0.6700, Class 2: 0.0032, Class 3: 0.0023, \n",
      "Class 4: 0.4098, Class 5: 0.4725, Class 6: 0.6362, \n",
      "Validation F-beta Score\n",
      "Class 0: 0.0000, Class 1: 0.8417, Class 2: 0.0255, Class 3: 0.0176, \n",
      "Class 4: 0.4809, Class 5: 0.4988, Class 6: 0.6442, \n",
      "Overall Mean Dice Score: 0.4381\n",
      "Overall Mean F-beta Score: 0.4967\n",
      "\n",
      "Training Loss: 0.6353, Validation Loss: 0.6031, Validation F-beta: 0.4967\n",
      "Epoch 147/4000\n"
     ]
    },
    {
     "name": "stderr",
     "output_type": "stream",
     "text": [
      "Training: 100%|██████████| 24/24 [01:04<00:00,  2.67s/it, loss=0.636]\n",
      "Validation: 100%|██████████| 4/4 [00:04<00:00,  1.16s/it, loss=0.592]\n"
     ]
    },
    {
     "name": "stdout",
     "output_type": "stream",
     "text": [
      "Validation Dice Score\n",
      "Class 0: 0.0000, Class 1: 0.5571, Class 2: 0.0020, Class 3: 0.0015, \n",
      "Class 4: 0.2047, Class 5: 0.3810, Class 6: 0.7283, \n",
      "Validation F-beta Score\n",
      "Class 0: 0.0000, Class 1: 0.7535, Class 2: 0.0161, Class 3: 0.0119, \n",
      "Class 4: 0.3753, Class 5: 0.5180, Class 6: 0.8264, \n",
      "Overall Mean Dice Score: 0.3745\n",
      "Overall Mean F-beta Score: 0.4970\n",
      "\n",
      "Training Loss: 0.6343, Validation Loss: 0.6095, Validation F-beta: 0.4970\n",
      "Epoch 148/4000\n"
     ]
    },
    {
     "name": "stderr",
     "output_type": "stream",
     "text": [
      "Training: 100%|██████████| 24/24 [00:55<00:00,  2.32s/it, loss=0.613]\n",
      "Validation: 100%|██████████| 4/4 [00:04<00:00,  1.05s/it, loss=0.59] \n"
     ]
    },
    {
     "name": "stdout",
     "output_type": "stream",
     "text": [
      "Validation Dice Score\n",
      "Class 0: 0.0000, Class 1: 0.6355, Class 2: 0.0022, Class 3: 0.0018, \n",
      "Class 4: 0.5271, Class 5: 0.4534, Class 6: 0.6251, \n",
      "Validation F-beta Score\n",
      "Class 0: 0.0000, Class 1: 0.7606, Class 2: 0.0180, Class 3: 0.0147, \n",
      "Class 4: 0.4555, Class 5: 0.5387, Class 6: 0.6288, \n",
      "Overall Mean Dice Score: 0.4486\n",
      "Overall Mean F-beta Score: 0.4797\n",
      "\n",
      "Training Loss: 0.6249, Validation Loss: 0.6112, Validation F-beta: 0.4797\n",
      "Epoch 149/4000\n"
     ]
    },
    {
     "name": "stderr",
     "output_type": "stream",
     "text": [
      "Training: 100%|██████████| 24/24 [00:53<00:00,  2.24s/it, loss=0.646]\n",
      "Validation: 100%|██████████| 4/4 [00:03<00:00,  1.09it/s, loss=0.549]\n"
     ]
    },
    {
     "name": "stdout",
     "output_type": "stream",
     "text": [
      "Validation Dice Score\n",
      "Class 0: 0.0000, Class 1: 0.5553, Class 2: 0.0034, Class 3: 0.0034, \n",
      "Class 4: 0.4075, Class 5: 0.5040, Class 6: 0.7488, \n",
      "Validation F-beta Score\n",
      "Class 0: 0.0000, Class 1: 0.5633, Class 2: 0.0274, Class 3: 0.0267, \n",
      "Class 4: 0.6187, Class 5: 0.5738, Class 6: 0.7264, \n",
      "Overall Mean Dice Score: 0.4438\n",
      "Overall Mean F-beta Score: 0.5018\n",
      "\n",
      "Training Loss: 0.6228, Validation Loss: 0.5964, Validation F-beta: 0.5018\n",
      "Epoch 150/4000\n"
     ]
    },
    {
     "name": "stderr",
     "output_type": "stream",
     "text": [
      "Training: 100%|██████████| 24/24 [00:45<00:00,  1.88s/it, loss=0.63] \n",
      "Validation: 100%|██████████| 4/4 [00:03<00:00,  1.11it/s, loss=0.615]\n"
     ]
    },
    {
     "name": "stdout",
     "output_type": "stream",
     "text": [
      "Validation Dice Score\n",
      "Class 0: 0.0000, Class 1: 0.6614, Class 2: 0.0025, Class 3: 0.0030, \n",
      "Class 4: 0.4055, Class 5: 0.4489, Class 6: 0.7718, \n",
      "Validation F-beta Score\n",
      "Class 0: 0.0000, Class 1: 0.6859, Class 2: 0.0198, Class 3: 0.0242, \n",
      "Class 4: 0.6451, Class 5: 0.5229, Class 6: 0.9035, \n",
      "Overall Mean Dice Score: 0.4581\n",
      "Overall Mean F-beta Score: 0.5563\n",
      "\n",
      "Training Loss: 0.6277, Validation Loss: 0.6140, Validation F-beta: 0.5563\n",
      "Epoch 151/4000\n"
     ]
    },
    {
     "name": "stderr",
     "output_type": "stream",
     "text": [
      "Training: 100%|██████████| 24/24 [00:44<00:00,  1.84s/it, loss=0.672]\n",
      "Validation: 100%|██████████| 4/4 [00:03<00:00,  1.13it/s, loss=0.618]\n"
     ]
    },
    {
     "name": "stdout",
     "output_type": "stream",
     "text": [
      "Validation Dice Score\n",
      "Class 0: 0.0000, Class 1: 0.6118, Class 2: 0.0020, Class 3: 0.0052, \n",
      "Class 4: 0.2366, Class 5: 0.4530, Class 6: 0.8437, \n",
      "Validation F-beta Score\n",
      "Class 0: 0.0000, Class 1: 0.6506, Class 2: 0.0159, Class 3: 0.0405, \n",
      "Class 4: 0.4089, Class 5: 0.5275, Class 6: 0.8980, \n",
      "Overall Mean Dice Score: 0.4300\n",
      "Overall Mean F-beta Score: 0.5051\n",
      "\n",
      "Training Loss: 0.6375, Validation Loss: 0.6206, Validation F-beta: 0.5051\n",
      "Epoch 152/4000\n"
     ]
    },
    {
     "name": "stderr",
     "output_type": "stream",
     "text": [
      "Training: 100%|██████████| 24/24 [00:40<00:00,  1.69s/it, loss=0.684]\n",
      "Validation: 100%|██████████| 4/4 [00:03<00:00,  1.30it/s, loss=0.636]\n"
     ]
    },
    {
     "name": "stdout",
     "output_type": "stream",
     "text": [
      "Validation Dice Score\n",
      "Class 0: 0.0000, Class 1: 0.5177, Class 2: 0.0011, Class 3: 0.0023, \n",
      "Class 4: 0.4085, Class 5: 0.4370, Class 6: 0.8270, \n",
      "Validation F-beta Score\n",
      "Class 0: 0.0000, Class 1: 0.7775, Class 2: 0.0088, Class 3: 0.0181, \n",
      "Class 4: 0.4335, Class 5: 0.5011, Class 6: 0.8754, \n",
      "Overall Mean Dice Score: 0.4385\n",
      "Overall Mean F-beta Score: 0.5211\n",
      "\n",
      "Training Loss: 0.6487, Validation Loss: 0.6039, Validation F-beta: 0.5211\n",
      "Epoch 153/4000\n"
     ]
    },
    {
     "name": "stderr",
     "output_type": "stream",
     "text": [
      "Training: 100%|██████████| 24/24 [00:36<00:00,  1.51s/it, loss=0.641]\n",
      "Validation: 100%|██████████| 4/4 [00:02<00:00,  1.62it/s, loss=0.597]\n"
     ]
    },
    {
     "name": "stdout",
     "output_type": "stream",
     "text": [
      "Validation Dice Score\n",
      "Class 0: 0.0000, Class 1: 0.6550, Class 2: 0.0016, Class 3: 0.0026, \n",
      "Class 4: 0.3841, Class 5: 0.2914, Class 6: 0.6712, \n",
      "Validation F-beta Score\n",
      "Class 0: 0.0000, Class 1: 0.7345, Class 2: 0.0124, Class 3: 0.0206, \n",
      "Class 4: 0.4568, Class 5: 0.4994, Class 6: 0.6996, \n",
      "Overall Mean Dice Score: 0.4009\n",
      "Overall Mean F-beta Score: 0.4822\n",
      "\n",
      "Training Loss: 0.6407, Validation Loss: 0.6112, Validation F-beta: 0.4822\n",
      "Epoch 154/4000\n"
     ]
    },
    {
     "name": "stderr",
     "output_type": "stream",
     "text": [
      "Training: 100%|██████████| 24/24 [00:40<00:00,  1.68s/it, loss=0.598]\n",
      "Validation: 100%|██████████| 4/4 [00:02<00:00,  1.45it/s, loss=0.641]\n"
     ]
    },
    {
     "name": "stdout",
     "output_type": "stream",
     "text": [
      "Validation Dice Score\n",
      "Class 0: 0.0000, Class 1: 0.5697, Class 2: 0.0017, Class 3: 0.0029, \n",
      "Class 4: 0.3742, Class 5: 0.3781, Class 6: 0.4288, \n",
      "Validation F-beta Score\n",
      "Class 0: 0.0000, Class 1: 0.5296, Class 2: 0.0138, Class 3: 0.0221, \n",
      "Class 4: 0.6387, Class 5: 0.5036, Class 6: 0.5876, \n",
      "Overall Mean Dice Score: 0.3508\n",
      "Overall Mean F-beta Score: 0.4563\n",
      "\n",
      "Training Loss: 0.6242, Validation Loss: 0.6229, Validation F-beta: 0.4563\n",
      "Epoch 155/4000\n"
     ]
    },
    {
     "name": "stderr",
     "output_type": "stream",
     "text": [
      "Training: 100%|██████████| 24/24 [00:41<00:00,  1.71s/it, loss=0.641]\n",
      "Validation: 100%|██████████| 4/4 [00:02<00:00,  1.42it/s, loss=0.641]\n"
     ]
    },
    {
     "name": "stdout",
     "output_type": "stream",
     "text": [
      "Validation Dice Score\n",
      "Class 0: 0.0000, Class 1: 0.3780, Class 2: 0.0013, Class 3: 0.0016, \n",
      "Class 4: 0.5431, Class 5: 0.4289, Class 6: 0.4446, \n",
      "Validation F-beta Score\n",
      "Class 0: 0.0000, Class 1: 0.4450, Class 2: 0.0102, Class 3: 0.0128, \n",
      "Class 4: 0.4780, Class 5: 0.6006, Class 6: 0.7221, \n",
      "Overall Mean Dice Score: 0.3592\n",
      "Overall Mean F-beta Score: 0.4517\n",
      "\n",
      "Training Loss: 0.6323, Validation Loss: 0.6331, Validation F-beta: 0.4517\n",
      "Epoch 156/4000\n"
     ]
    },
    {
     "name": "stderr",
     "output_type": "stream",
     "text": [
      "Training: 100%|██████████| 24/24 [00:44<00:00,  1.87s/it, loss=0.635]\n",
      "Validation: 100%|██████████| 4/4 [00:04<00:00,  1.03s/it, loss=0.661]\n"
     ]
    },
    {
     "name": "stdout",
     "output_type": "stream",
     "text": [
      "Validation Dice Score\n",
      "Class 0: 0.0000, Class 1: 0.7676, Class 2: 0.0021, Class 3: 0.0040, \n",
      "Class 4: 0.2205, Class 5: 0.2778, Class 6: 0.8171, \n",
      "Validation F-beta Score\n",
      "Class 0: 0.0000, Class 1: 0.8242, Class 2: 0.0170, Class 3: 0.0312, \n",
      "Class 4: 0.3975, Class 5: 0.4556, Class 6: 0.8618, \n",
      "Overall Mean Dice Score: 0.4174\n",
      "Overall Mean F-beta Score: 0.5141\n",
      "\n",
      "Training Loss: 0.6285, Validation Loss: 0.6016, Validation F-beta: 0.5141\n",
      "Epoch 157/4000\n"
     ]
    },
    {
     "name": "stderr",
     "output_type": "stream",
     "text": [
      "Training: 100%|██████████| 24/24 [00:53<00:00,  2.22s/it, loss=0.631]\n",
      "Validation: 100%|██████████| 4/4 [00:04<00:00,  1.17s/it, loss=0.617]\n"
     ]
    },
    {
     "name": "stdout",
     "output_type": "stream",
     "text": [
      "Validation Dice Score\n",
      "Class 0: 0.0000, Class 1: 0.6861, Class 2: 0.0023, Class 3: 0.0029, \n",
      "Class 4: 0.2518, Class 5: 0.3477, Class 6: 0.6670, \n",
      "Validation F-beta Score\n",
      "Class 0: 0.0000, Class 1: 0.8393, Class 2: 0.0181, Class 3: 0.0224, \n",
      "Class 4: 0.3609, Class 5: 0.4990, Class 6: 0.6681, \n",
      "Overall Mean Dice Score: 0.3911\n",
      "Overall Mean F-beta Score: 0.4780\n",
      "\n",
      "Training Loss: 0.6227, Validation Loss: 0.6206, Validation F-beta: 0.4780\n",
      "Epoch 158/4000\n"
     ]
    },
    {
     "name": "stderr",
     "output_type": "stream",
     "text": [
      "Training: 100%|██████████| 24/24 [01:04<00:00,  2.67s/it, loss=0.604]\n",
      "Validation: 100%|██████████| 4/4 [00:05<00:00,  1.32s/it, loss=0.596]\n"
     ]
    },
    {
     "name": "stdout",
     "output_type": "stream",
     "text": [
      "Validation Dice Score\n",
      "Class 0: 0.0000, Class 1: 0.5574, Class 2: 0.0020, Class 3: 0.0033, \n",
      "Class 4: 0.3749, Class 5: 0.4610, Class 6: 0.4385, \n",
      "Validation F-beta Score\n",
      "Class 0: 0.0000, Class 1: 0.7519, Class 2: 0.0153, Class 3: 0.0262, \n",
      "Class 4: 0.4861, Class 5: 0.6089, Class 6: 0.7919, \n",
      "Overall Mean Dice Score: 0.3670\n",
      "Overall Mean F-beta Score: 0.5330\n",
      "\n",
      "Training Loss: 0.6185, Validation Loss: 0.6172, Validation F-beta: 0.5330\n",
      "Epoch 159/4000\n"
     ]
    },
    {
     "name": "stderr",
     "output_type": "stream",
     "text": [
      "Training: 100%|██████████| 24/24 [01:06<00:00,  2.78s/it, loss=0.661]\n",
      "Validation: 100%|██████████| 4/4 [00:05<00:00,  1.29s/it, loss=0.646]\n"
     ]
    },
    {
     "name": "stdout",
     "output_type": "stream",
     "text": [
      "Validation Dice Score\n",
      "Class 0: 0.0000, Class 1: 0.5639, Class 2: 0.0017, Class 3: 0.0032, \n",
      "Class 4: 0.5278, Class 5: 0.4714, Class 6: 0.8131, \n",
      "Validation F-beta Score\n",
      "Class 0: 0.0000, Class 1: 0.6602, Class 2: 0.0135, Class 3: 0.0251, \n",
      "Class 4: 0.6438, Class 5: 0.6255, Class 6: 0.8832, \n",
      "Overall Mean Dice Score: 0.4759\n",
      "Overall Mean F-beta Score: 0.5676\n",
      "\n",
      "Training Loss: 0.6360, Validation Loss: 0.6153, Validation F-beta: 0.5676\n",
      "Epoch 160/4000\n"
     ]
    },
    {
     "name": "stderr",
     "output_type": "stream",
     "text": [
      "Training: 100%|██████████| 24/24 [01:02<00:00,  2.59s/it, loss=0.609]\n",
      "Validation: 100%|██████████| 4/4 [00:03<00:00,  1.02it/s, loss=0.58] \n"
     ]
    },
    {
     "name": "stdout",
     "output_type": "stream",
     "text": [
      "Validation Dice Score\n",
      "Class 0: 0.0000, Class 1: 0.5483, Class 2: 0.0027, Class 3: 0.0045, \n",
      "Class 4: 0.4460, Class 5: 0.4180, Class 6: 0.8262, \n",
      "Validation F-beta Score\n",
      "Class 0: 0.0000, Class 1: 0.7483, Class 2: 0.0215, Class 3: 0.0355, \n",
      "Class 4: 0.6064, Class 5: 0.5926, Class 6: 0.7743, \n",
      "Overall Mean Dice Score: 0.4486\n",
      "Overall Mean F-beta Score: 0.5514\n",
      "\n",
      "Training Loss: 0.6295, Validation Loss: 0.6060, Validation F-beta: 0.5514\n",
      "Epoch 161/4000\n"
     ]
    },
    {
     "name": "stderr",
     "output_type": "stream",
     "text": [
      "Training: 100%|██████████| 24/24 [00:54<00:00,  2.25s/it, loss=0.685]\n",
      "Validation: 100%|██████████| 4/4 [00:04<00:00,  1.24s/it, loss=0.644]\n"
     ]
    },
    {
     "name": "stdout",
     "output_type": "stream",
     "text": [
      "Validation Dice Score\n",
      "Class 0: 0.0000, Class 1: 0.4381, Class 2: 0.0021, Class 3: 0.0037, \n",
      "Class 4: 0.3101, Class 5: 0.4402, Class 6: 0.7388, \n",
      "Validation F-beta Score\n",
      "Class 0: 0.0000, Class 1: 0.5963, Class 2: 0.0171, Class 3: 0.0294, \n",
      "Class 4: 0.5425, Class 5: 0.5407, Class 6: 0.8455, \n",
      "Overall Mean Dice Score: 0.3862\n",
      "Overall Mean F-beta Score: 0.5109\n",
      "\n",
      "Training Loss: 0.6362, Validation Loss: 0.6325, Validation F-beta: 0.5109\n",
      "Epoch 162/4000\n"
     ]
    },
    {
     "name": "stderr",
     "output_type": "stream",
     "text": [
      "Training: 100%|██████████| 24/24 [00:52<00:00,  2.19s/it, loss=0.613]\n",
      "Validation: 100%|██████████| 4/4 [00:03<00:00,  1.14it/s, loss=0.627]\n"
     ]
    },
    {
     "name": "stdout",
     "output_type": "stream",
     "text": [
      "Validation Dice Score\n",
      "Class 0: 0.0000, Class 1: 0.6213, Class 2: 0.0003, Class 3: 0.0022, \n",
      "Class 4: 0.3708, Class 5: 0.3486, Class 6: 0.6336, \n",
      "Validation F-beta Score\n",
      "Class 0: 0.0000, Class 1: 0.8667, Class 2: 0.0022, Class 3: 0.0171, \n",
      "Class 4: 0.4434, Class 5: 0.4183, Class 6: 0.6674, \n",
      "Overall Mean Dice Score: 0.3953\n",
      "Overall Mean F-beta Score: 0.4826\n",
      "\n",
      "Training Loss: 0.6284, Validation Loss: 0.6314, Validation F-beta: 0.4826\n",
      "Epoch 163/4000\n"
     ]
    },
    {
     "name": "stderr",
     "output_type": "stream",
     "text": [
      "Training: 100%|██████████| 24/24 [00:44<00:00,  1.87s/it, loss=0.567]\n",
      "Validation: 100%|██████████| 4/4 [00:03<00:00,  1.09it/s, loss=0.671]\n"
     ]
    },
    {
     "name": "stdout",
     "output_type": "stream",
     "text": [
      "Validation Dice Score\n",
      "Class 0: 0.0000, Class 1: 0.4960, Class 2: 0.0014, Class 3: 0.0054, \n",
      "Class 4: 0.4682, Class 5: 0.4551, Class 6: 0.6893, \n",
      "Validation F-beta Score\n",
      "Class 0: 0.0000, Class 1: 0.5311, Class 2: 0.0111, Class 3: 0.0418, \n",
      "Class 4: 0.4953, Class 5: 0.5260, Class 6: 0.8351, \n",
      "Overall Mean Dice Score: 0.4228\n",
      "Overall Mean F-beta Score: 0.4859\n",
      "\n",
      "Training Loss: 0.6309, Validation Loss: 0.6113, Validation F-beta: 0.4859\n",
      "Epoch 164/4000\n"
     ]
    },
    {
     "name": "stderr",
     "output_type": "stream",
     "text": [
      "Training: 100%|██████████| 24/24 [00:43<00:00,  1.80s/it, loss=0.615]\n",
      "Validation: 100%|██████████| 4/4 [00:03<00:00,  1.12it/s, loss=0.676]\n"
     ]
    },
    {
     "name": "stdout",
     "output_type": "stream",
     "text": [
      "Validation Dice Score\n",
      "Class 0: 0.0000, Class 1: 0.6972, Class 2: 0.0017, Class 3: 0.0028, \n",
      "Class 4: 0.3612, Class 5: 0.4297, Class 6: 0.6012, \n",
      "Validation F-beta Score\n",
      "Class 0: 0.0000, Class 1: 0.8468, Class 2: 0.0140, Class 3: 0.0216, \n",
      "Class 4: 0.5174, Class 5: 0.6130, Class 6: 0.6729, \n",
      "Overall Mean Dice Score: 0.4184\n",
      "Overall Mean F-beta Score: 0.5343\n",
      "\n",
      "Training Loss: 0.6243, Validation Loss: 0.6098, Validation F-beta: 0.5343\n",
      "Epoch 165/4000\n"
     ]
    },
    {
     "name": "stderr",
     "output_type": "stream",
     "text": [
      "Training: 100%|██████████| 24/24 [00:41<00:00,  1.73s/it, loss=0.617]\n",
      "Validation: 100%|██████████| 4/4 [00:02<00:00,  1.40it/s, loss=0.657]\n"
     ]
    },
    {
     "name": "stdout",
     "output_type": "stream",
     "text": [
      "Validation Dice Score\n",
      "Class 0: 0.0000, Class 1: 0.3740, Class 2: 0.0008, Class 3: 0.0033, \n",
      "Class 4: 0.5471, Class 5: 0.4183, Class 6: 0.4818, \n",
      "Validation F-beta Score\n",
      "Class 0: 0.0000, Class 1: 0.4390, Class 2: 0.0071, Class 3: 0.0260, \n",
      "Class 4: 0.5251, Class 5: 0.6360, Class 6: 0.6011, \n",
      "Overall Mean Dice Score: 0.3649\n",
      "Overall Mean F-beta Score: 0.4454\n",
      "\n",
      "Training Loss: 0.6256, Validation Loss: 0.6334, Validation F-beta: 0.4454\n",
      "Epoch 166/4000\n"
     ]
    },
    {
     "name": "stderr",
     "output_type": "stream",
     "text": [
      "Training: 100%|██████████| 24/24 [00:39<00:00,  1.65s/it, loss=0.593]\n",
      "Validation: 100%|██████████| 4/4 [00:02<00:00,  1.51it/s, loss=0.639]\n"
     ]
    },
    {
     "name": "stdout",
     "output_type": "stream",
     "text": [
      "Validation Dice Score\n",
      "Class 0: 0.0000, Class 1: 0.4252, Class 2: 0.0019, Class 3: 0.0049, \n",
      "Class 4: 0.6428, Class 5: 0.3693, Class 6: 0.4767, \n",
      "Validation F-beta Score\n",
      "Class 0: 0.0000, Class 1: 0.5936, Class 2: 0.0148, Class 3: 0.0371, \n",
      "Class 4: 0.6451, Class 5: 0.4798, Class 6: 0.4902, \n",
      "Overall Mean Dice Score: 0.3838\n",
      "Overall Mean F-beta Score: 0.4492\n",
      "\n",
      "Training Loss: 0.6236, Validation Loss: 0.6402, Validation F-beta: 0.4492\n",
      "Epoch 167/4000\n"
     ]
    },
    {
     "name": "stderr",
     "output_type": "stream",
     "text": [
      "Training: 100%|██████████| 24/24 [00:39<00:00,  1.64s/it, loss=0.628]\n",
      "Validation: 100%|██████████| 4/4 [00:02<00:00,  1.49it/s, loss=0.663]\n"
     ]
    },
    {
     "name": "stdout",
     "output_type": "stream",
     "text": [
      "Validation Dice Score\n",
      "Class 0: 0.0000, Class 1: 0.4554, Class 2: 0.0029, Class 3: 0.0032, \n",
      "Class 4: 0.2540, Class 5: 0.3567, Class 6: 0.8295, \n",
      "Validation F-beta Score\n",
      "Class 0: 0.0000, Class 1: 0.5354, Class 2: 0.0231, Class 3: 0.0252, \n",
      "Class 4: 0.3270, Class 5: 0.6242, Class 6: 0.8392, \n",
      "Overall Mean Dice Score: 0.3798\n",
      "Overall Mean F-beta Score: 0.4702\n",
      "\n",
      "Training Loss: 0.6237, Validation Loss: 0.6214, Validation F-beta: 0.4702\n",
      "Epoch 168/4000\n"
     ]
    },
    {
     "name": "stderr",
     "output_type": "stream",
     "text": [
      "Training: 100%|██████████| 24/24 [00:39<00:00,  1.66s/it, loss=0.645]\n",
      "Validation: 100%|██████████| 4/4 [00:02<00:00,  1.48it/s, loss=0.569]\n"
     ]
    },
    {
     "name": "stdout",
     "output_type": "stream",
     "text": [
      "Validation Dice Score\n",
      "Class 0: 0.0000, Class 1: 0.6908, Class 2: 0.0016, Class 3: 0.0031, \n",
      "Class 4: 0.4426, Class 5: 0.3005, Class 6: 0.8480, \n",
      "Validation F-beta Score\n",
      "Class 0: 0.0000, Class 1: 0.8114, Class 2: 0.0127, Class 3: 0.0240, \n",
      "Class 4: 0.4884, Class 5: 0.3831, Class 6: 0.8875, \n",
      "Overall Mean Dice Score: 0.4570\n",
      "Overall Mean F-beta Score: 0.5189\n",
      "\n",
      "Training Loss: 0.6210, Validation Loss: 0.6204, Validation F-beta: 0.5189\n",
      "Epoch 169/4000\n"
     ]
    },
    {
     "name": "stderr",
     "output_type": "stream",
     "text": [
      "Training: 100%|██████████| 24/24 [00:39<00:00,  1.66s/it, loss=0.62] \n",
      "Validation: 100%|██████████| 4/4 [00:02<00:00,  1.48it/s, loss=0.637]\n"
     ]
    },
    {
     "name": "stdout",
     "output_type": "stream",
     "text": [
      "Validation Dice Score\n",
      "Class 0: 0.0000, Class 1: 0.4899, Class 2: 0.0015, Class 3: 0.0025, \n",
      "Class 4: 0.1955, Class 5: 0.4563, Class 6: 0.7455, \n",
      "Validation F-beta Score\n",
      "Class 0: 0.0000, Class 1: 0.5863, Class 2: 0.0118, Class 3: 0.0202, \n",
      "Class 4: 0.3606, Class 5: 0.5553, Class 6: 0.8512, \n",
      "Overall Mean Dice Score: 0.3779\n",
      "Overall Mean F-beta Score: 0.4747\n",
      "\n",
      "Training Loss: 0.6317, Validation Loss: 0.6352, Validation F-beta: 0.4747\n",
      "Epoch 170/4000\n"
     ]
    },
    {
     "name": "stderr",
     "output_type": "stream",
     "text": [
      "Training: 100%|██████████| 24/24 [00:40<00:00,  1.69s/it, loss=0.621]\n",
      "Validation: 100%|██████████| 4/4 [00:02<00:00,  1.50it/s, loss=0.685]\n"
     ]
    },
    {
     "name": "stdout",
     "output_type": "stream",
     "text": [
      "Validation Dice Score\n",
      "Class 0: 0.0000, Class 1: 0.4625, Class 2: 0.0018, Class 3: 0.0035, \n",
      "Class 4: 0.5471, Class 5: 0.3338, Class 6: 0.5985, \n",
      "Validation F-beta Score\n",
      "Class 0: 0.0000, Class 1: 0.6100, Class 2: 0.0145, Class 3: 0.0275, \n",
      "Class 4: 0.5924, Class 5: 0.5262, Class 6: 0.6245, \n",
      "Overall Mean Dice Score: 0.3891\n",
      "Overall Mean F-beta Score: 0.4761\n",
      "\n",
      "Training Loss: 0.6416, Validation Loss: 0.6310, Validation F-beta: 0.4761\n",
      "Epoch 171/4000\n"
     ]
    },
    {
     "name": "stderr",
     "output_type": "stream",
     "text": [
      "Training: 100%|██████████| 24/24 [00:43<00:00,  1.81s/it, loss=0.607]\n",
      "Validation: 100%|██████████| 4/4 [00:04<00:00,  1.00s/it, loss=0.683]\n"
     ]
    },
    {
     "name": "stdout",
     "output_type": "stream",
     "text": [
      "Validation Dice Score\n",
      "Class 0: 0.0000, Class 1: 0.6253, Class 2: 0.0014, Class 3: 0.0054, \n",
      "Class 4: 0.2884, Class 5: 0.3595, Class 6: 0.5240, \n",
      "Validation F-beta Score\n",
      "Class 0: 0.0000, Class 1: 0.8603, Class 2: 0.0114, Class 3: 0.0420, \n",
      "Class 4: 0.5923, Class 5: 0.4108, Class 6: 0.6297, \n",
      "Overall Mean Dice Score: 0.3605\n",
      "Overall Mean F-beta Score: 0.5070\n",
      "\n",
      "Training Loss: 0.6407, Validation Loss: 0.6383, Validation F-beta: 0.5070\n",
      "Epoch 172/4000\n"
     ]
    },
    {
     "name": "stderr",
     "output_type": "stream",
     "text": [
      "Training: 100%|██████████| 24/24 [00:49<00:00,  2.07s/it, loss=0.599]\n",
      "Validation: 100%|██████████| 4/4 [00:04<00:00,  1.05s/it, loss=0.634]\n"
     ]
    },
    {
     "name": "stdout",
     "output_type": "stream",
     "text": [
      "Validation Dice Score\n",
      "Class 0: 0.0000, Class 1: 0.5817, Class 2: 0.0021, Class 3: 0.0035, \n",
      "Class 4: 0.2295, Class 5: 0.4264, Class 6: 0.7868, \n",
      "Validation F-beta Score\n",
      "Class 0: 0.0000, Class 1: 0.5538, Class 2: 0.0166, Class 3: 0.0282, \n",
      "Class 4: 0.2431, Class 5: 0.5434, Class 6: 0.8349, \n",
      "Overall Mean Dice Score: 0.4056\n",
      "Overall Mean F-beta Score: 0.4407\n",
      "\n",
      "Training Loss: 0.6283, Validation Loss: 0.6485, Validation F-beta: 0.4407\n",
      "Epoch 173/4000\n"
     ]
    },
    {
     "name": "stderr",
     "output_type": "stream",
     "text": [
      "Training: 100%|██████████| 24/24 [00:54<00:00,  2.27s/it, loss=0.633]\n",
      "Validation: 100%|██████████| 4/4 [00:04<00:00,  1.15s/it, loss=0.597]\n"
     ]
    },
    {
     "name": "stdout",
     "output_type": "stream",
     "text": [
      "Validation Dice Score\n",
      "Class 0: 0.0000, Class 1: 0.6622, Class 2: 0.0011, Class 3: 0.0036, \n",
      "Class 4: 0.5441, Class 5: 0.4571, Class 6: 0.6149, \n",
      "Validation F-beta Score\n",
      "Class 0: 0.0000, Class 1: 0.7727, Class 2: 0.0086, Class 3: 0.0282, \n",
      "Class 4: 0.5171, Class 5: 0.5814, Class 6: 0.5899, \n",
      "Overall Mean Dice Score: 0.4564\n",
      "Overall Mean F-beta Score: 0.4979\n",
      "\n",
      "Training Loss: 0.6293, Validation Loss: 0.5960, Validation F-beta: 0.4979\n",
      "Epoch 174/4000\n"
     ]
    },
    {
     "name": "stderr",
     "output_type": "stream",
     "text": [
      "Training: 100%|██████████| 24/24 [00:51<00:00,  2.15s/it, loss=0.539]\n",
      "Validation: 100%|██████████| 4/4 [00:04<00:00,  1.10s/it, loss=0.575]\n"
     ]
    },
    {
     "name": "stdout",
     "output_type": "stream",
     "text": [
      "Validation Dice Score\n",
      "Class 0: 0.0000, Class 1: 0.7703, Class 2: 0.0015, Class 3: 0.0050, \n",
      "Class 4: 0.4330, Class 5: 0.4485, Class 6: 0.8658, \n",
      "Validation F-beta Score\n",
      "Class 0: 0.0000, Class 1: 0.7006, Class 2: 0.0123, Class 3: 0.0396, \n",
      "Class 4: 0.4977, Class 5: 0.5521, Class 6: 0.9169, \n",
      "Overall Mean Dice Score: 0.5045\n",
      "Overall Mean F-beta Score: 0.5414\n",
      "\n",
      "Training Loss: 0.6150, Validation Loss: 0.5906, Validation F-beta: 0.5414\n",
      "Epoch 175/4000\n"
     ]
    },
    {
     "name": "stderr",
     "output_type": "stream",
     "text": [
      "Training: 100%|██████████| 24/24 [00:57<00:00,  2.39s/it, loss=0.697]\n",
      "Validation: 100%|██████████| 4/4 [00:04<00:00,  1.01s/it, loss=0.604]\n"
     ]
    },
    {
     "name": "stdout",
     "output_type": "stream",
     "text": [
      "Validation Dice Score\n",
      "Class 0: 0.0000, Class 1: 0.6161, Class 2: 0.0019, Class 3: 0.0042, \n",
      "Class 4: 0.3619, Class 5: 0.3176, Class 6: 0.8427, \n",
      "Validation F-beta Score\n",
      "Class 0: 0.0000, Class 1: 0.7821, Class 2: 0.0154, Class 3: 0.0324, \n",
      "Class 4: 0.3606, Class 5: 0.4311, Class 6: 0.8213, \n",
      "Overall Mean Dice Score: 0.4285\n",
      "Overall Mean F-beta Score: 0.4855\n",
      "\n",
      "Training Loss: 0.6445, Validation Loss: 0.6235, Validation F-beta: 0.4855\n",
      "Epoch 176/4000\n"
     ]
    },
    {
     "name": "stderr",
     "output_type": "stream",
     "text": [
      "Training: 100%|██████████| 24/24 [00:59<00:00,  2.47s/it, loss=0.621]\n",
      "Validation: 100%|██████████| 4/4 [00:04<00:00,  1.19s/it, loss=0.622]\n"
     ]
    },
    {
     "name": "stdout",
     "output_type": "stream",
     "text": [
      "Validation Dice Score\n",
      "Class 0: 0.0000, Class 1: 0.7510, Class 2: 0.0021, Class 3: 0.0050, \n",
      "Class 4: 0.3349, Class 5: 0.4479, Class 6: 0.8385, \n",
      "Validation F-beta Score\n",
      "Class 0: 0.0000, Class 1: 0.7734, Class 2: 0.0171, Class 3: 0.0397, \n",
      "Class 4: 0.3676, Class 5: 0.5098, Class 6: 0.8542, \n",
      "Overall Mean Dice Score: 0.4755\n",
      "Overall Mean F-beta Score: 0.5089\n",
      "\n",
      "Training Loss: 0.6265, Validation Loss: 0.6287, Validation F-beta: 0.5089\n",
      "Epoch 177/4000\n"
     ]
    },
    {
     "name": "stderr",
     "output_type": "stream",
     "text": [
      "Training: 100%|██████████| 24/24 [01:05<00:00,  2.73s/it, loss=0.625]\n",
      "Validation: 100%|██████████| 4/4 [00:04<00:00,  1.15s/it, loss=0.618]\n"
     ]
    },
    {
     "name": "stdout",
     "output_type": "stream",
     "text": [
      "Validation Dice Score\n",
      "Class 0: 0.0000, Class 1: 0.7098, Class 2: 0.0016, Class 3: 0.0050, \n",
      "Class 4: 0.4063, Class 5: 0.4480, Class 6: 0.7527, \n",
      "Validation F-beta Score\n",
      "Class 0: 0.0000, Class 1: 0.8468, Class 2: 0.0133, Class 3: 0.0400, \n",
      "Class 4: 0.5534, Class 5: 0.5558, Class 6: 0.8588, \n",
      "Overall Mean Dice Score: 0.4644\n",
      "Overall Mean F-beta Score: 0.5709\n",
      "\n",
      "Training Loss: 0.6254, Validation Loss: 0.6037, Validation F-beta: 0.5709\n",
      "Epoch 178/4000\n"
     ]
    },
    {
     "name": "stderr",
     "output_type": "stream",
     "text": [
      "Training: 100%|██████████| 24/24 [01:04<00:00,  2.70s/it, loss=0.677]\n",
      "Validation: 100%|██████████| 4/4 [00:04<00:00,  1.17s/it, loss=0.628]\n"
     ]
    },
    {
     "name": "stdout",
     "output_type": "stream",
     "text": [
      "Validation Dice Score\n",
      "Class 0: 0.0000, Class 1: 0.7580, Class 2: 0.0022, Class 3: 0.0040, \n",
      "Class 4: 0.2509, Class 5: 0.4022, Class 6: 0.8217, \n",
      "Validation F-beta Score\n",
      "Class 0: 0.0000, Class 1: 0.6401, Class 2: 0.0175, Class 3: 0.0315, \n",
      "Class 4: 0.3596, Class 5: 0.4664, Class 6: 0.8668, \n",
      "Overall Mean Dice Score: 0.4474\n",
      "Overall Mean F-beta Score: 0.4729\n",
      "\n",
      "Training Loss: 0.6414, Validation Loss: 0.6136, Validation F-beta: 0.4729\n",
      "Epoch 179/4000\n"
     ]
    },
    {
     "name": "stderr",
     "output_type": "stream",
     "text": [
      "Training: 100%|██████████| 24/24 [01:06<00:00,  2.75s/it, loss=0.675]\n",
      "Validation: 100%|██████████| 4/4 [00:04<00:00,  1.10s/it, loss=0.612]\n"
     ]
    },
    {
     "name": "stdout",
     "output_type": "stream",
     "text": [
      "Validation Dice Score\n",
      "Class 0: 0.0000, Class 1: 0.6415, Class 2: 0.0024, Class 3: 0.0039, \n",
      "Class 4: 0.5462, Class 5: 0.4469, Class 6: 0.8904, \n",
      "Validation F-beta Score\n",
      "Class 0: 0.0000, Class 1: 0.6716, Class 2: 0.0188, Class 3: 0.0312, \n",
      "Class 4: 0.6814, Class 5: 0.5642, Class 6: 0.9136, \n",
      "Overall Mean Dice Score: 0.5058\n",
      "Overall Mean F-beta Score: 0.5724\n",
      "\n",
      "Training Loss: 0.6317, Validation Loss: 0.6021, Validation F-beta: 0.5724\n",
      "Epoch 180/4000\n"
     ]
    },
    {
     "name": "stderr",
     "output_type": "stream",
     "text": [
      "Training: 100%|██████████| 24/24 [01:05<00:00,  2.71s/it, loss=0.669]\n",
      "Validation: 100%|██████████| 4/4 [00:04<00:00,  1.14s/it, loss=0.639]\n"
     ]
    },
    {
     "name": "stdout",
     "output_type": "stream",
     "text": [
      "Validation Dice Score\n",
      "Class 0: 0.0000, Class 1: 0.6740, Class 2: 0.0006, Class 3: 0.0034, \n",
      "Class 4: 0.4544, Class 5: 0.4323, Class 6: 0.8105, \n",
      "Validation F-beta Score\n",
      "Class 0: 0.0000, Class 1: 0.9066, Class 2: 0.0048, Class 3: 0.0259, \n",
      "Class 4: 0.5676, Class 5: 0.6422, Class 6: 0.8114, \n",
      "Overall Mean Dice Score: 0.4749\n",
      "Overall Mean F-beta Score: 0.5908\n",
      "\n",
      "Training Loss: 0.6324, Validation Loss: 0.6044, Validation F-beta: 0.5908\n",
      "========================================================\n",
      "Best model saved based on F-beta score: 0.5908\n",
      "========================================================\n",
      "Epoch 181/4000\n"
     ]
    },
    {
     "name": "stderr",
     "output_type": "stream",
     "text": [
      "Training: 100%|██████████| 24/24 [01:04<00:00,  2.67s/it, loss=0.661]\n",
      "Validation: 100%|██████████| 4/4 [00:04<00:00,  1.17s/it, loss=0.615]\n"
     ]
    },
    {
     "name": "stdout",
     "output_type": "stream",
     "text": [
      "Validation Dice Score\n",
      "Class 0: 0.0000, Class 1: 0.4758, Class 2: 0.0020, Class 3: 0.0068, \n",
      "Class 4: 0.5466, Class 5: 0.4081, Class 6: 0.5688, \n",
      "Validation F-beta Score\n",
      "Class 0: 0.0000, Class 1: 0.7639, Class 2: 0.0162, Class 3: 0.0524, \n",
      "Class 4: 0.5921, Class 5: 0.5536, Class 6: 0.6897, \n",
      "Overall Mean Dice Score: 0.4012\n",
      "Overall Mean F-beta Score: 0.5303\n",
      "\n",
      "Training Loss: 0.6345, Validation Loss: 0.6305, Validation F-beta: 0.5303\n",
      "Epoch 182/4000\n"
     ]
    },
    {
     "name": "stderr",
     "output_type": "stream",
     "text": [
      "Training: 100%|██████████| 24/24 [01:00<00:00,  2.52s/it, loss=0.661]\n",
      "Validation: 100%|██████████| 4/4 [00:04<00:00,  1.09s/it, loss=0.6]  \n"
     ]
    },
    {
     "name": "stdout",
     "output_type": "stream",
     "text": [
      "Validation Dice Score\n",
      "Class 0: 0.0000, Class 1: 0.7162, Class 2: 0.0036, Class 3: 0.0079, \n",
      "Class 4: 0.4458, Class 5: 0.4753, Class 6: 0.7343, \n",
      "Validation F-beta Score\n",
      "Class 0: 0.0000, Class 1: 0.8543, Class 2: 0.0288, Class 3: 0.0609, \n",
      "Class 4: 0.5754, Class 5: 0.5507, Class 6: 0.8779, \n",
      "Overall Mean Dice Score: 0.4759\n",
      "Overall Mean F-beta Score: 0.5839\n",
      "\n",
      "Training Loss: 0.6286, Validation Loss: 0.6123, Validation F-beta: 0.5839\n",
      "Epoch 183/4000\n"
     ]
    },
    {
     "name": "stderr",
     "output_type": "stream",
     "text": [
      "Training: 100%|██████████| 24/24 [01:03<00:00,  2.63s/it, loss=0.635]\n",
      "Validation: 100%|██████████| 4/4 [00:03<00:00,  1.09it/s, loss=0.568]\n"
     ]
    },
    {
     "name": "stdout",
     "output_type": "stream",
     "text": [
      "Validation Dice Score\n",
      "Class 0: 0.0000, Class 1: 0.7432, Class 2: 0.0014, Class 3: 0.0037, \n",
      "Class 4: 0.4416, Class 5: 0.3783, Class 6: 0.7589, \n",
      "Validation F-beta Score\n",
      "Class 0: 0.0000, Class 1: 0.7871, Class 2: 0.0112, Class 3: 0.0287, \n",
      "Class 4: 0.4381, Class 5: 0.5100, Class 6: 0.8887, \n",
      "Overall Mean Dice Score: 0.4652\n",
      "Overall Mean F-beta Score: 0.5305\n",
      "\n",
      "Training Loss: 0.6283, Validation Loss: 0.6105, Validation F-beta: 0.5305\n",
      "Epoch 184/4000\n"
     ]
    },
    {
     "name": "stderr",
     "output_type": "stream",
     "text": [
      "Training: 100%|██████████| 24/24 [00:59<00:00,  2.48s/it, loss=0.694]\n",
      "Validation: 100%|██████████| 4/4 [00:03<00:00,  1.27it/s, loss=0.589]\n"
     ]
    },
    {
     "name": "stdout",
     "output_type": "stream",
     "text": [
      "Validation Dice Score\n",
      "Class 0: 0.0000, Class 1: 0.4909, Class 2: 0.0016, Class 3: 0.0059, \n",
      "Class 4: 0.3930, Class 5: 0.4313, Class 6: 0.8117, \n",
      "Validation F-beta Score\n",
      "Class 0: 0.0000, Class 1: 0.6017, Class 2: 0.0131, Class 3: 0.0460, \n",
      "Class 4: 0.6555, Class 5: 0.4779, Class 6: 0.9369, \n",
      "Overall Mean Dice Score: 0.4265\n",
      "Overall Mean F-beta Score: 0.5436\n",
      "\n",
      "Training Loss: 0.6246, Validation Loss: 0.6050, Validation F-beta: 0.5436\n",
      "Epoch 185/4000\n"
     ]
    },
    {
     "name": "stderr",
     "output_type": "stream",
     "text": [
      "Training: 100%|██████████| 24/24 [00:48<00:00,  2.00s/it, loss=0.637]\n",
      "Validation: 100%|██████████| 4/4 [00:03<00:00,  1.27it/s, loss=0.653]\n"
     ]
    },
    {
     "name": "stdout",
     "output_type": "stream",
     "text": [
      "Validation Dice Score\n",
      "Class 0: 0.0000, Class 1: 0.5298, Class 2: 0.0024, Class 3: 0.0035, \n",
      "Class 4: 0.3108, Class 5: 0.3973, Class 6: 0.6831, \n",
      "Validation F-beta Score\n",
      "Class 0: 0.0000, Class 1: 0.6248, Class 2: 0.0190, Class 3: 0.0271, \n",
      "Class 4: 0.2577, Class 5: 0.5567, Class 6: 0.9040, \n",
      "Overall Mean Dice Score: 0.3849\n",
      "Overall Mean F-beta Score: 0.4741\n",
      "\n",
      "Training Loss: 0.6286, Validation Loss: 0.6226, Validation F-beta: 0.4741\n",
      "Epoch 186/4000\n"
     ]
    },
    {
     "name": "stderr",
     "output_type": "stream",
     "text": [
      "Training: 100%|██████████| 24/24 [00:45<00:00,  1.90s/it, loss=0.628]\n",
      "Validation: 100%|██████████| 4/4 [00:03<00:00,  1.24it/s, loss=0.569]\n"
     ]
    },
    {
     "name": "stdout",
     "output_type": "stream",
     "text": [
      "Validation Dice Score\n",
      "Class 0: 0.0000, Class 1: 0.6262, Class 2: 0.0025, Class 3: 0.0059, \n",
      "Class 4: 0.4342, Class 5: 0.3907, Class 6: 0.5907, \n",
      "Validation F-beta Score\n",
      "Class 0: 0.0000, Class 1: 0.8114, Class 2: 0.0199, Class 3: 0.0440, \n",
      "Class 4: 0.6595, Class 5: 0.4841, Class 6: 0.6908, \n",
      "Overall Mean Dice Score: 0.4095\n",
      "Overall Mean F-beta Score: 0.5380\n",
      "\n",
      "Training Loss: 0.6310, Validation Loss: 0.6230, Validation F-beta: 0.5380\n",
      "Epoch 187/4000\n"
     ]
    },
    {
     "name": "stderr",
     "output_type": "stream",
     "text": [
      "Training: 100%|██████████| 24/24 [00:45<00:00,  1.91s/it, loss=0.565]\n",
      "Validation: 100%|██████████| 4/4 [00:03<00:00,  1.13it/s, loss=0.656]\n"
     ]
    },
    {
     "name": "stdout",
     "output_type": "stream",
     "text": [
      "Validation Dice Score\n",
      "Class 0: 0.0000, Class 1: 0.3220, Class 2: 0.0019, Class 3: 0.0065, \n",
      "Class 4: 0.4513, Class 5: 0.3222, Class 6: 0.6159, \n",
      "Validation F-beta Score\n",
      "Class 0: 0.0000, Class 1: 0.3598, Class 2: 0.0159, Class 3: 0.0485, \n",
      "Class 4: 0.4913, Class 5: 0.5934, Class 6: 0.6655, \n",
      "Overall Mean Dice Score: 0.3436\n",
      "Overall Mean F-beta Score: 0.4317\n",
      "\n",
      "Training Loss: 0.6213, Validation Loss: 0.6434, Validation F-beta: 0.4317\n",
      "Epoch 188/4000\n"
     ]
    },
    {
     "name": "stderr",
     "output_type": "stream",
     "text": [
      "Training: 100%|██████████| 24/24 [00:43<00:00,  1.81s/it, loss=0.582]\n",
      "Validation: 100%|██████████| 4/4 [00:03<00:00,  1.22it/s, loss=0.618]\n"
     ]
    },
    {
     "name": "stdout",
     "output_type": "stream",
     "text": [
      "Validation Dice Score\n",
      "Class 0: 0.0000, Class 1: 0.5312, Class 2: 0.0004, Class 3: 0.0032, \n",
      "Class 4: 0.4205, Class 5: 0.4066, Class 6: 0.7488, \n",
      "Validation F-beta Score\n",
      "Class 0: 0.0000, Class 1: 0.5905, Class 2: 0.0029, Class 3: 0.0246, \n",
      "Class 4: 0.5336, Class 5: 0.4768, Class 6: 0.9156, \n",
      "Overall Mean Dice Score: 0.4221\n",
      "Overall Mean F-beta Score: 0.5082\n",
      "\n",
      "Training Loss: 0.6291, Validation Loss: 0.6089, Validation F-beta: 0.5082\n",
      "Epoch 189/4000\n"
     ]
    },
    {
     "name": "stderr",
     "output_type": "stream",
     "text": [
      "Training: 100%|██████████| 24/24 [00:44<00:00,  1.84s/it, loss=0.671]\n",
      "Validation: 100%|██████████| 4/4 [00:03<00:00,  1.19it/s, loss=0.612]\n"
     ]
    },
    {
     "name": "stdout",
     "output_type": "stream",
     "text": [
      "Validation Dice Score\n",
      "Class 0: 0.0000, Class 1: 0.5192, Class 2: 0.0014, Class 3: 0.0074, \n",
      "Class 4: 0.3155, Class 5: 0.3709, Class 6: 0.5956, \n",
      "Validation F-beta Score\n",
      "Class 0: 0.0000, Class 1: 0.7557, Class 2: 0.0110, Class 3: 0.0567, \n",
      "Class 4: 0.3859, Class 5: 0.5986, Class 6: 0.6466, \n",
      "Overall Mean Dice Score: 0.3617\n",
      "Overall Mean F-beta Score: 0.4887\n",
      "\n",
      "Training Loss: 0.6412, Validation Loss: 0.6526, Validation F-beta: 0.4887\n",
      "Epoch 190/4000\n"
     ]
    },
    {
     "name": "stderr",
     "output_type": "stream",
     "text": [
      "Training: 100%|██████████| 24/24 [00:46<00:00,  1.93s/it, loss=0.647]\n",
      "Validation: 100%|██████████| 4/4 [00:03<00:00,  1.32it/s, loss=0.638]\n"
     ]
    },
    {
     "name": "stdout",
     "output_type": "stream",
     "text": [
      "Validation Dice Score\n",
      "Class 0: 0.0000, Class 1: 0.7581, Class 2: 0.0027, Class 3: 0.0039, \n",
      "Class 4: 0.2134, Class 5: 0.3911, Class 6: 0.8283, \n",
      "Validation F-beta Score\n",
      "Class 0: 0.0000, Class 1: 0.8448, Class 2: 0.0211, Class 3: 0.0306, \n",
      "Class 4: 0.5220, Class 5: 0.4460, Class 6: 0.9360, \n",
      "Overall Mean Dice Score: 0.4389\n",
      "Overall Mean F-beta Score: 0.5559\n",
      "\n",
      "Training Loss: 0.6294, Validation Loss: 0.6218, Validation F-beta: 0.5559\n",
      "Epoch 191/4000\n"
     ]
    },
    {
     "name": "stderr",
     "output_type": "stream",
     "text": [
      "Training:  96%|█████████▌| 23/24 [00:44<00:02,  2.12s/it, loss=0.631]"
     ]
    }
   ],
   "source": [
    "train_model(\n",
    "    model=model,\n",
    "    train_loader=train_loader,\n",
    "    val_loader=val_loader,\n",
    "    criterion=criterion,\n",
    "    optimizer=optimizer,\n",
    "    num_epochs=num_epochs,\n",
    "    patience=100,\n",
    "    device=device,\n",
    "    start_epoch=start_epoch,\n",
    "    best_val_loss=best_val_loss,\n",
    "    best_val_fbeta_score=best_val_fbeta_score,\n",
    "    calculate_dice_interval=1\n",
    ")"
   ]
  },
  {
   "cell_type": "code",
   "execution_count": null,
   "metadata": {},
   "outputs": [
    {
     "ename": "SyntaxError",
     "evalue": "invalid syntax (879943805.py, line 1)",
     "output_type": "error",
     "traceback": [
      "\u001b[1;36m  Cell \u001b[1;32mIn[13], line 1\u001b[1;36m\u001b[0m\n\u001b[1;33m    if:\u001b[0m\n\u001b[1;37m      ^\u001b[0m\n\u001b[1;31mSyntaxError\u001b[0m\u001b[1;31m:\u001b[0m invalid syntax\n"
     ]
    }
   ],
   "source": [
    "if:"
   ]
  },
  {
   "cell_type": "markdown",
   "metadata": {},
   "source": [
    "# VAl"
   ]
  },
  {
   "cell_type": "code",
   "execution_count": null,
   "metadata": {},
   "outputs": [
    {
     "data": {
      "text/html": [
       "Finishing last run (ID:fs6utwyo) before initializing another..."
      ],
      "text/plain": [
       "<IPython.core.display.HTML object>"
      ]
     },
     "metadata": {},
     "output_type": "display_data"
    },
    {
     "data": {
      "application/vnd.jupyter.widget-view+json": {
       "model_id": "29cc3ae761af43baae5aca60b5d2e7f4",
       "version_major": 2,
       "version_minor": 0
      },
      "text/plain": [
       "VBox(children=(Label(value='0.009 MB of 0.009 MB uploaded\\r'), FloatProgress(value=1.0, max=1.0)))"
      ]
     },
     "metadata": {},
     "output_type": "display_data"
    },
    {
     "data": {
      "text/html": [
       "<style>\n",
       "    table.wandb td:nth-child(1) { padding: 0 10px; text-align: left ; width: auto;} td:nth-child(2) {text-align: left ; width: 100%}\n",
       "    .wandb-row { display: flex; flex-direction: row; flex-wrap: wrap; justify-content: flex-start; width: 100% }\n",
       "    .wandb-col { display: flex; flex-direction: column; flex-basis: 100%; flex: 1; padding: 10px; }\n",
       "    </style>\n",
       "<div class=\"wandb-row\"><div class=\"wandb-col\"><h3>Run history:</h3><br/><table class=\"wandb\"><tr><td>class_0_dice_score</td><td>▁</td></tr><tr><td>class_0_f_beta_score</td><td>▁</td></tr><tr><td>class_1_dice_score</td><td>▁</td></tr><tr><td>class_1_f_beta_score</td><td>▁</td></tr><tr><td>class_2_dice_score</td><td>▁</td></tr><tr><td>class_2_f_beta_score</td><td>▁</td></tr><tr><td>class_3_dice_score</td><td>▁</td></tr><tr><td>class_3_f_beta_score</td><td>▁</td></tr><tr><td>class_4_dice_score</td><td>▁</td></tr><tr><td>class_4_f_beta_score</td><td>▁</td></tr><tr><td>class_5_dice_score</td><td>▁</td></tr><tr><td>class_5_f_beta_score</td><td>▁</td></tr><tr><td>class_6_dice_score</td><td>▁</td></tr><tr><td>class_6_f_beta_score</td><td>▁</td></tr><tr><td>epoch</td><td>▁▁▁▁▁▁▁▁▁▁▁▁▁▁▁▁</td></tr><tr><td>overall_mean_dice_score</td><td>▁</td></tr><tr><td>overall_mean_f_beta_score</td><td>▁</td></tr><tr><td>val_epoch_loss</td><td>▁</td></tr></table><br/></div><div class=\"wandb-col\"><h3>Run summary:</h3><br/><table class=\"wandb\"><tr><td>class_0_dice_score</td><td>0.65703</td></tr><tr><td>class_0_f_beta_score</td><td>0.50748</td></tr><tr><td>class_1_dice_score</td><td>0.53332</td></tr><tr><td>class_1_f_beta_score</td><td>0.64703</td></tr><tr><td>class_2_dice_score</td><td>0.00286</td></tr><tr><td>class_2_f_beta_score</td><td>0.02334</td></tr><tr><td>class_3_dice_score</td><td>0.23703</td></tr><tr><td>class_3_f_beta_score</td><td>0.23033</td></tr><tr><td>class_4_dice_score</td><td>0.65487</td></tr><tr><td>class_4_f_beta_score</td><td>0.62525</td></tr><tr><td>class_5_dice_score</td><td>0.47899</td></tr><tr><td>class_5_f_beta_score</td><td>0.51448</td></tr><tr><td>class_6_dice_score</td><td>0.42545</td></tr><tr><td>class_6_f_beta_score</td><td>0.47197</td></tr><tr><td>epoch</td><td>1</td></tr><tr><td>overall_mean_dice_score</td><td>0.42708</td></tr><tr><td>overall_mean_f_beta_score</td><td>0.43141</td></tr><tr><td>val_epoch_loss</td><td>0.7152</td></tr></table><br/></div></div>"
      ],
      "text/plain": [
       "<IPython.core.display.HTML object>"
      ]
     },
     "metadata": {},
     "output_type": "display_data"
    },
    {
     "data": {
      "text/html": [
       " View run <strong style=\"color:#cdcd00\">SwinUNETR96_96_lr0.001_lambda0.52_batch2</strong> at: <a href='https://wandb.ai/waooang/czii_SwinUnetR_val/runs/fs6utwyo' target=\"_blank\">https://wandb.ai/waooang/czii_SwinUnetR_val/runs/fs6utwyo</a><br/> View project at: <a href='https://wandb.ai/waooang/czii_SwinUnetR_val' target=\"_blank\">https://wandb.ai/waooang/czii_SwinUnetR_val</a><br/>Synced 4 W&B file(s), 0 media file(s), 3 artifact file(s) and 0 other file(s)"
      ],
      "text/plain": [
       "<IPython.core.display.HTML object>"
      ]
     },
     "metadata": {},
     "output_type": "display_data"
    },
    {
     "data": {
      "text/html": [
       "Find logs at: <code>.\\wandb\\run-20241219_200219-fs6utwyo\\logs</code>"
      ],
      "text/plain": [
       "<IPython.core.display.HTML object>"
      ]
     },
     "metadata": {},
     "output_type": "display_data"
    },
    {
     "data": {
      "text/html": [
       "Successfully finished last run (ID:fs6utwyo). Initializing new run:<br/>"
      ],
      "text/plain": [
       "<IPython.core.display.HTML object>"
      ]
     },
     "metadata": {},
     "output_type": "display_data"
    },
    {
     "data": {
      "text/html": [
       "Tracking run with wandb version 0.18.3"
      ],
      "text/plain": [
       "<IPython.core.display.HTML object>"
      ]
     },
     "metadata": {},
     "output_type": "display_data"
    },
    {
     "data": {
      "text/html": [
       "Run data is saved locally in <code>e:\\Workspace\\czll\\wandb\\run-20241219_200454-121l7bn3</code>"
      ],
      "text/plain": [
       "<IPython.core.display.HTML object>"
      ]
     },
     "metadata": {},
     "output_type": "display_data"
    },
    {
     "data": {
      "text/html": [
       "Syncing run <strong><a href='https://wandb.ai/waooang/czii_SwinUnetR_val/runs/121l7bn3' target=\"_blank\">SwinUNETR96_96_lr0.001_lambda0.52_batch2</a></strong> to <a href='https://wandb.ai/waooang/czii_SwinUnetR_val' target=\"_blank\">Weights & Biases</a> (<a href='https://wandb.me/run' target=\"_blank\">docs</a>)<br/>"
      ],
      "text/plain": [
       "<IPython.core.display.HTML object>"
      ]
     },
     "metadata": {},
     "output_type": "display_data"
    },
    {
     "data": {
      "text/html": [
       " View project at <a href='https://wandb.ai/waooang/czii_SwinUnetR_val' target=\"_blank\">https://wandb.ai/waooang/czii_SwinUnetR_val</a>"
      ],
      "text/plain": [
       "<IPython.core.display.HTML object>"
      ]
     },
     "metadata": {},
     "output_type": "display_data"
    },
    {
     "data": {
      "text/html": [
       " View run at <a href='https://wandb.ai/waooang/czii_SwinUnetR_val/runs/121l7bn3' target=\"_blank\">https://wandb.ai/waooang/czii_SwinUnetR_val/runs/121l7bn3</a>"
      ],
      "text/plain": [
       "<IPython.core.display.HTML object>"
      ]
     },
     "metadata": {},
     "output_type": "display_data"
    },
    {
     "name": "stderr",
     "output_type": "stream",
     "text": [
      "Loading dataset: 100%|██████████| 4/4 [00:06<00:00,  1.58s/it]\n",
      "C:\\Users\\Seungwoo\\AppData\\Local\\Temp\\ipykernel_21000\\1177025787.py:95: FutureWarning: You are using `torch.load` with `weights_only=False` (the current default value), which uses the default pickle module implicitly. It is possible to construct malicious pickle data which will execute arbitrary code during unpickling (See https://github.com/pytorch/pytorch/blob/main/SECURITY.md#untrusted-models for more details). In a future release, the default value for `weights_only` will be flipped to `True`. This limits the functions that could be executed during unpickling. Arbitrary objects will no longer be allowed to be loaded via this mode unless they are explicitly allowlisted by the user via `torch.serialization.add_safe_globals`. We recommend you start setting `weights_only=True` for any use case where you don't have full control of the loaded file. Please open an issue on GitHub for any issues related to this experimental feature.\n",
      "  checkpoint = torch.load(pretrain_path, map_location=device)\n",
      "Validation: 100%|██████████| 4/4 [00:01<00:00,  2.38it/s, loss=0.865]"
     ]
    },
    {
     "name": "stdout",
     "output_type": "stream",
     "text": [
      "Validation Dice Score\n",
      "Class 0: 0.6570, Class 1: 0.5333, Class 2: 0.0029, Class 3: 0.2370, \n",
      "Class 4: 0.6549, Class 5: 0.4790, Class 6: 0.4255, \n",
      "Validation F-beta Score\n",
      "Class 0: 0.5075, Class 1: 0.6470, Class 2: 0.0233, Class 3: 0.2303, \n",
      "Class 4: 0.6252, Class 5: 0.5145, Class 6: 0.4720, \n",
      "Overall Mean Dice Score: 0.4659\n",
      "Overall Mean F-beta Score: 0.4978\n",
      "\n"
     ]
    },
    {
     "name": "stderr",
     "output_type": "stream",
     "text": [
      "\n"
     ]
    }
   ],
   "source": [
    "from monai.data import DataLoader, Dataset, CacheDataset\n",
    "from monai.transforms import (\n",
    "    Compose, LoadImaged, EnsureChannelFirstd, NormalizeIntensityd,\n",
    "    Orientationd, CropForegroundd, GaussianSmoothd, ScaleIntensityd,\n",
    "    RandSpatialCropd, RandRotate90d, RandFlipd, RandGaussianNoised,\n",
    "    ToTensord, RandCropByLabelClassesd\n",
    ")\n",
    "from monai.metrics import DiceMetric\n",
    "from monai.networks.nets import UNETR, SwinUNETR\n",
    "from monai.losses import TverskyLoss\n",
    "import torch\n",
    "import numpy as np\n",
    "from tqdm import tqdm\n",
    "import wandb\n",
    "from src.dataset.dataset import make_val_dataloader\n",
    "\n",
    "val_img_dir = \"./datasets/val/images\"\n",
    "val_label_dir = \"./datasets/val/labels\"\n",
    "img_depth = 96\n",
    "img_size = 96  # Match your patch size\n",
    "n_classes = 7\n",
    "batch_size = 2 # 13.8GB GPU memory required for 128x128 img size\n",
    "num_samples = batch_size # 한 이미지에서 뽑을 샘플 수\n",
    "loader_batch = 1\n",
    "lamda = 0.52\n",
    "\n",
    "wandb.init(\n",
    "    project='czii_SwinUnetR_val',  # 프로젝트 이름 설정\n",
    "    name='SwinUNETR96_96_lr0.001_lambda0.52_batch2',         # 실행(run) 이름 설정\n",
    "    config={\n",
    "        'learning_rate': 0.001,\n",
    "        'batch_size': batch_size,\n",
    "        'lambda': lamda,\n",
    "        'img_size': img_size,\n",
    "        'device': 'cuda',\n",
    "        \"checkpoint_dir\": \"./model_checkpoints/SwinUNETR96_96_lr0.001_lambda0.52_batch2\",\n",
    "        \n",
    "    }\n",
    ")\n",
    "\n",
    "non_random_transforms = Compose([\n",
    "    EnsureChannelFirstd(keys=[\"image\", \"label\"], channel_dim=\"no_channel\"),\n",
    "    NormalizeIntensityd(keys=\"image\"),\n",
    "    Orientationd(keys=[\"image\", \"label\"], axcodes=\"RAS\"),\n",
    "    GaussianSmoothd(\n",
    "        keys=[\"image\"],      # 변환을 적용할 키\n",
    "        sigma=[1.0, 1.0, 1.0]  # 각 축(x, y, z)의 시그마 값\n",
    "        ),\n",
    "])\n",
    "random_transforms = Compose([\n",
    "    RandCropByLabelClassesd(\n",
    "        keys=[\"image\", \"label\"],\n",
    "        label_key=\"label\",\n",
    "        spatial_size=[img_depth, img_size, img_size],\n",
    "        num_classes=n_classes,\n",
    "        num_samples=num_samples, \n",
    "        ratios=ratios_list,\n",
    "    ),\n",
    "    RandRotate90d(keys=[\"image\", \"label\"], prob=0.5, spatial_axes=[1, 2]),\n",
    "    RandFlipd(keys=[\"image\", \"label\"], prob=0.5, spatial_axis=0),\n",
    "])\n",
    "\n",
    "val_loader = make_val_dataloader(\n",
    "    val_img_dir, \n",
    "    val_label_dir, \n",
    "    non_random_transforms = non_random_transforms, \n",
    "    random_transforms = random_transforms, \n",
    "    batch_size = loader_batch,\n",
    "    num_workers=0\n",
    ")\n",
    "criterion = TverskyLoss(\n",
    "    alpha= 1 - lamda,  # FP에 대한 가중치\n",
    "    beta=lamda,       # FN에 대한 가중치\n",
    "    include_background=False,  # 배경 클래스 제외\n",
    "    softmax=True\n",
    ")\n",
    "    \n",
    "    \n",
    "from monai.metrics import DiceMetric\n",
    "\n",
    "img_size = 96\n",
    "img_depth = img_size\n",
    "n_classes = 7 \n",
    "\n",
    "device = torch.device(\"cuda\" if torch.cuda.is_available() else \"cpu\")\n",
    "pretrain_path = \"./model_checkpoints/SwinUNETR96_96_lr0.001_lambda0.52_batch2/best_model.pt\"\n",
    "model = SwinUNETR(\n",
    "    img_size=(img_depth, img_size, img_size),\n",
    "    in_channels=1,\n",
    "    out_channels=n_classes,\n",
    "    feature_size=48,\n",
    "    use_checkpoint=True,\n",
    ").to(device)\n",
    "# Pretrained weights 불러오기\n",
    "checkpoint = torch.load(pretrain_path, map_location=device)\n",
    "model.load_state_dict(checkpoint['model_state_dict'])\n",
    "\n",
    "val_loss, overall_mean_fbeta_score = validate_one_epoch(\n",
    "    model=model, \n",
    "    val_loader=val_loader, \n",
    "    criterion=criterion, \n",
    "    device=device, \n",
    "    epoch=0, \n",
    "    calculate_dice_interval=1\n",
    ")"
   ]
  },
  {
   "cell_type": "markdown",
   "metadata": {},
   "source": [
    "# Inference"
   ]
  },
  {
   "cell_type": "code",
   "execution_count": null,
   "metadata": {},
   "outputs": [],
   "source": [
    "from src.dataset.preprocessing import Preprocessor"
   ]
  },
  {
   "cell_type": "code",
   "execution_count": null,
   "metadata": {},
   "outputs": [
    {
     "name": "stdout",
     "output_type": "stream",
     "text": [
      "Done.\n"
     ]
    }
   ],
   "source": [
    "from monai.inferers import sliding_window_inference\n",
    "from monai.transforms import Compose, EnsureChannelFirstd, NormalizeIntensityd, Orientationd, GaussianSmoothd\n",
    "from monai.data import DataLoader, Dataset, CacheDataset\n",
    "from monai.networks.nets import SwinUNETR\n",
    "from pathlib import Path\n",
    "import numpy as np\n",
    "import copick\n",
    "\n",
    "import torch\n",
    "print(\"Done.\")"
   ]
  },
  {
   "cell_type": "code",
   "execution_count": null,
   "metadata": {},
   "outputs": [
    {
     "name": "stdout",
     "output_type": "stream",
     "text": [
      "Config file written to ./kaggle/working/copick.config\n",
      "file length: 7\n"
     ]
    }
   ],
   "source": [
    "config_blob = \"\"\"{\n",
    "    \"name\": \"czii_cryoet_mlchallenge_2024\",\n",
    "    \"description\": \"2024 CZII CryoET ML Challenge training data.\",\n",
    "    \"version\": \"1.0.0\",\n",
    "\n",
    "    \"pickable_objects\": [\n",
    "        {\n",
    "            \"name\": \"apo-ferritin\",\n",
    "            \"is_particle\": true,\n",
    "            \"pdb_id\": \"4V1W\",\n",
    "            \"label\": 1,\n",
    "            \"color\": [  0, 117, 220, 128],\n",
    "            \"radius\": 60,\n",
    "            \"map_threshold\": 0.0418\n",
    "        },\n",
    "        {\n",
    "          \"name\" : \"beta-amylase\",\n",
    "            \"is_particle\": true,\n",
    "            \"pdb_id\": \"8ZRZ\",\n",
    "            \"label\": 2,\n",
    "            \"color\": [255, 255, 255, 128],\n",
    "            \"radius\": 90,\n",
    "            \"map_threshold\": 0.0578  \n",
    "        },\n",
    "        {\n",
    "            \"name\": \"beta-galactosidase\",\n",
    "            \"is_particle\": true,\n",
    "            \"pdb_id\": \"6X1Q\",\n",
    "            \"label\": 3,\n",
    "            \"color\": [ 76,   0,  92, 128],\n",
    "            \"radius\": 90,\n",
    "            \"map_threshold\": 0.0578\n",
    "        },\n",
    "        {\n",
    "            \"name\": \"ribosome\",\n",
    "            \"is_particle\": true,\n",
    "            \"pdb_id\": \"6EK0\",\n",
    "            \"label\": 4,\n",
    "            \"color\": [  0,  92,  49, 128],\n",
    "            \"radius\": 150,\n",
    "            \"map_threshold\": 0.0374\n",
    "        },\n",
    "        {\n",
    "            \"name\": \"thyroglobulin\",\n",
    "            \"is_particle\": true,\n",
    "            \"pdb_id\": \"6SCJ\",\n",
    "            \"label\": 5,\n",
    "            \"color\": [ 43, 206,  72, 128],\n",
    "            \"radius\": 130,\n",
    "            \"map_threshold\": 0.0278\n",
    "        },\n",
    "        {\n",
    "            \"name\": \"virus-like-particle\",\n",
    "            \"is_particle\": true,\n",
    "            \"label\": 6,\n",
    "            \"color\": [255, 204, 153, 128],\n",
    "            \"radius\": 135,\n",
    "            \"map_threshold\": 0.201\n",
    "        },\n",
    "        {\n",
    "            \"name\": \"membrane\",\n",
    "            \"is_particle\": false,\n",
    "            \"label\": 8,\n",
    "            \"color\": [100, 100, 100, 128]\n",
    "        },\n",
    "        {\n",
    "            \"name\": \"background\",\n",
    "            \"is_particle\": false,\n",
    "            \"label\": 9,\n",
    "            \"color\": [10, 150, 200, 128]\n",
    "        }\n",
    "    ],\n",
    "\n",
    "    \"overlay_root\": \"./kaggle/working/overlay\",\n",
    "\n",
    "    \"overlay_fs_args\": {\n",
    "        \"auto_mkdir\": true\n",
    "    },\n",
    "\n",
    "    \"static_root\": \"./kaggle/input/czii-cryo-et-object-identification/test/static\"\n",
    "}\"\"\"\n",
    "\n",
    "copick_config_path = \"./kaggle/working/copick.config\"\n",
    "preprocessor = Preprocessor(config_blob,copick_config_path=copick_config_path)\n",
    "non_random_transforms = Compose([\n",
    "    EnsureChannelFirstd(keys=[\"image\"], channel_dim=\"no_channel\"),\n",
    "    NormalizeIntensityd(keys=\"image\"),\n",
    "    Orientationd(keys=[\"image\"], axcodes=\"RAS\"),\n",
    "    GaussianSmoothd(\n",
    "        keys=[\"image\"],      # 변환을 적용할 키\n",
    "        sigma=[1.0, 1.0, 1.0]  # 각 축(x, y, z)의 시그마 값\n",
    "        ),\n",
    "    ])"
   ]
  },
  {
   "cell_type": "code",
   "execution_count": null,
   "metadata": {},
   "outputs": [
    {
     "name": "stderr",
     "output_type": "stream",
     "text": [
      "c:\\ProgramData\\anaconda3\\envs\\ship\\Lib\\site-packages\\monai\\utils\\deprecate_utils.py:221: FutureWarning: monai.networks.nets.swin_unetr SwinUNETR.__init__:img_size: Argument `img_size` has been deprecated since version 1.3. It will be removed in version 1.5. The img_size argument is not required anymore and checks on the input size are run during forward().\n",
      "  warn_deprecated(argname, msg, warning_category)\n",
      "C:\\Users\\Seungwoo\\AppData\\Local\\Temp\\ipykernel_6248\\2937359115.py:15: FutureWarning: You are using `torch.load` with `weights_only=False` (the current default value), which uses the default pickle module implicitly. It is possible to construct malicious pickle data which will execute arbitrary code during unpickling (See https://github.com/pytorch/pytorch/blob/main/SECURITY.md#untrusted-models for more details). In a future release, the default value for `weights_only` will be flipped to `True`. This limits the functions that could be executed during unpickling. Arbitrary objects will no longer be allowed to be loaded via this mode unless they are explicitly allowlisted by the user via `torch.serialization.add_safe_globals`. We recommend you start setting `weights_only=True` for any use case where you don't have full control of the loaded file. Please open an issue on GitHub for any issues related to this experimental feature.\n",
      "  checkpoint = torch.load(pretrain_path, map_location=device)\n"
     ]
    },
    {
     "data": {
      "text/plain": [
       "<All keys matched successfully>"
      ]
     },
     "execution_count": 15,
     "metadata": {},
     "output_type": "execute_result"
    }
   ],
   "source": [
    "img_size = 96\n",
    "img_depth = img_size\n",
    "n_classes = 7 \n",
    "\n",
    "device = torch.device(\"cuda\" if torch.cuda.is_available() else \"cpu\")\n",
    "pretrain_path = \"./model_checkpoints/SwinUNETR96_96_lr0.001_lambda0.52_batch2/best_model.pt\"\n",
    "model = SwinUNETR(\n",
    "    img_size=(img_depth, img_size, img_size),\n",
    "    in_channels=1,\n",
    "    out_channels=n_classes,\n",
    "    feature_size=48,\n",
    "    use_checkpoint=True,\n",
    ").to(device)\n",
    "# Pretrained weights 불러오기\n",
    "checkpoint = torch.load(pretrain_path, map_location=device)\n",
    "model.load_state_dict(checkpoint['model_state_dict'])\n"
   ]
  },
  {
   "cell_type": "code",
   "execution_count": null,
   "metadata": {},
   "outputs": [
    {
     "name": "stderr",
     "output_type": "stream",
     "text": [
      "Validation:   0%|          | 0/4 [00:03<?, ?it/s, loss=0.764]\n"
     ]
    },
    {
     "ename": "ZeroDivisionError",
     "evalue": "integer modulo by zero",
     "output_type": "error",
     "traceback": [
      "\u001b[1;31m---------------------------------------------------------------------------\u001b[0m",
      "\u001b[1;31mZeroDivisionError\u001b[0m                         Traceback (most recent call last)",
      "Cell \u001b[1;32mIn[16], line 1\u001b[0m\n\u001b[1;32m----> 1\u001b[0m val_loss \u001b[38;5;241m=\u001b[39m \u001b[43mvalidate_one_epoch\u001b[49m\u001b[43m(\u001b[49m\n\u001b[0;32m      2\u001b[0m \u001b[43m            \u001b[49m\u001b[43mmodel\u001b[49m\u001b[38;5;241;43m=\u001b[39;49m\u001b[43mmodel\u001b[49m\u001b[43m,\u001b[49m\u001b[43m \u001b[49m\n\u001b[0;32m      3\u001b[0m \u001b[43m            \u001b[49m\u001b[43mval_loader\u001b[49m\u001b[38;5;241;43m=\u001b[39;49m\u001b[43mval_loader\u001b[49m\u001b[43m,\u001b[49m\u001b[43m \u001b[49m\n\u001b[0;32m      4\u001b[0m \u001b[43m            \u001b[49m\u001b[43mcriterion\u001b[49m\u001b[38;5;241;43m=\u001b[39;49m\u001b[43mcriterion\u001b[49m\u001b[43m,\u001b[49m\u001b[43m \u001b[49m\n\u001b[0;32m      5\u001b[0m \u001b[43m            \u001b[49m\u001b[43mdevice\u001b[49m\u001b[38;5;241;43m=\u001b[39;49m\u001b[43mdevice\u001b[49m\u001b[43m,\u001b[49m\u001b[43m \u001b[49m\n\u001b[0;32m      6\u001b[0m \u001b[43m            \u001b[49m\u001b[43mepoch\u001b[49m\u001b[38;5;241;43m=\u001b[39;49m\u001b[38;5;241;43m1\u001b[39;49m\u001b[43m,\u001b[49m\u001b[43m \u001b[49m\n\u001b[0;32m      7\u001b[0m \u001b[43m            \u001b[49m\u001b[43mcalculate_dice_interval\u001b[49m\u001b[38;5;241;43m=\u001b[39;49m\u001b[38;5;241;43m0\u001b[39;49m\n\u001b[0;32m      8\u001b[0m \u001b[43m        \u001b[49m\u001b[43m)\u001b[49m\n",
      "Cell \u001b[1;32mIn[11], line 64\u001b[0m, in \u001b[0;36mvalidate_one_epoch\u001b[1;34m(model, val_loader, criterion, device, epoch, calculate_dice_interval)\u001b[0m\n\u001b[0;32m     61\u001b[0m pbar\u001b[38;5;241m.\u001b[39mset_postfix(loss\u001b[38;5;241m=\u001b[39mloss\u001b[38;5;241m.\u001b[39mitem())\n\u001b[0;32m     63\u001b[0m \u001b[38;5;66;03m# 각 클래스별 Dice 점수 계산\u001b[39;00m\n\u001b[1;32m---> 64\u001b[0m \u001b[38;5;28;01mif\u001b[39;00m \u001b[43mepoch\u001b[49m\u001b[43m \u001b[49m\u001b[38;5;241;43m%\u001b[39;49m\u001b[43m \u001b[49m\u001b[43mcalculate_dice_interval\u001b[49m \u001b[38;5;241m==\u001b[39m \u001b[38;5;241m0\u001b[39m:\n\u001b[0;32m     65\u001b[0m     \u001b[38;5;28;01mfor\u001b[39;00m i \u001b[38;5;129;01min\u001b[39;00m \u001b[38;5;28mrange\u001b[39m(n_classes):\n\u001b[0;32m     66\u001b[0m         pred_i \u001b[38;5;241m=\u001b[39m (preds \u001b[38;5;241m==\u001b[39m i)\n",
      "\u001b[1;31mZeroDivisionError\u001b[0m: integer modulo by zero"
     ]
    }
   ],
   "source": [
    "val_loss = validate_one_epoch(\n",
    "            model=model, \n",
    "            val_loader=val_loader, \n",
    "            criterion=criterion, \n",
    "            device=device, \n",
    "            epoch=1, \n",
    "            calculate_dice_interval=0\n",
    "        )"
   ]
  },
  {
   "cell_type": "code",
   "execution_count": null,
   "metadata": {},
   "outputs": [
    {
     "name": "stdout",
     "output_type": "stream",
     "text": [
      "Processing volume 1/7\n"
     ]
    },
    {
     "name": "stderr",
     "output_type": "stream",
     "text": [
      "Loading dataset: 100%|██████████| 1/1 [00:01<00:00,  1.94s/it]\n"
     ]
    },
    {
     "name": "stdout",
     "output_type": "stream",
     "text": [
      "Processing volume 2/7\n"
     ]
    },
    {
     "name": "stderr",
     "output_type": "stream",
     "text": [
      "Loading dataset: 100%|██████████| 1/1 [00:01<00:00,  1.89s/it]\n"
     ]
    },
    {
     "name": "stdout",
     "output_type": "stream",
     "text": [
      "Processing volume 3/7\n"
     ]
    },
    {
     "name": "stderr",
     "output_type": "stream",
     "text": [
      "Loading dataset: 100%|██████████| 1/1 [00:01<00:00,  1.79s/it]\n"
     ]
    },
    {
     "name": "stdout",
     "output_type": "stream",
     "text": [
      "Submission saved to: submission.csv\n"
     ]
    }
   ],
   "source": [
    "import torch\n",
    "import numpy as np\n",
    "from scipy.ndimage import label, center_of_mass\n",
    "import pandas as pd\n",
    "from tqdm import tqdm\n",
    "from monai.data import CacheDataset, DataLoader\n",
    "from monai.transforms import Compose, NormalizeIntensity\n",
    "import cc3d\n",
    "\n",
    "def dict_to_df(coord_dict, experiment_name):\n",
    "    all_coords = []\n",
    "    all_labels = []\n",
    "    \n",
    "    for label, coords in coord_dict.items():\n",
    "        all_coords.append(coords)\n",
    "        all_labels.extend([label] * len(coords))\n",
    "    \n",
    "    all_coords = np.vstack(all_coords)\n",
    "    df = pd.DataFrame({\n",
    "        'experiment': experiment_name,\n",
    "        'particle_type': all_labels,\n",
    "        'x': all_coords[:, 0],\n",
    "        'y': all_coords[:, 1],\n",
    "        'z': all_coords[:, 2]\n",
    "    })\n",
    "    return df\n",
    "\n",
    "id_to_name = {1: \"apo-ferritin\", \n",
    "              2: \"beta-amylase\",\n",
    "              3: \"beta-galactosidase\", \n",
    "              4: \"ribosome\", \n",
    "              5: \"thyroglobulin\", \n",
    "              6: \"virus-like-particle\"}\n",
    "BLOB_THRESHOLD = 200\n",
    "CERTAINTY_THRESHOLD = 0.05\n",
    "\n",
    "classes = [1, 2, 3, 4, 5, 6]\n",
    "\n",
    "model.eval()\n",
    "with torch.no_grad():\n",
    "    location_dfs = []  # DataFrame 리스트로 초기화\n",
    "    \n",
    "    for vol_idx, run in enumerate(preprocessor.root.runs):\n",
    "        print(f\"Processing volume {vol_idx + 1}/{len(preprocessor.root.runs)}\")\n",
    "        tomogram = preprocessor.processing(run=run, task=\"task\")\n",
    "        task_files = [{\"image\": tomogram}]\n",
    "        task_ds = CacheDataset(data=task_files, transform=non_random_transforms)\n",
    "        task_loader = DataLoader(task_ds, batch_size=1, num_workers=0)\n",
    "        \n",
    "        for task_data in task_loader:\n",
    "            images = task_data['image'].to(\"cuda\")\n",
    "            outputs = sliding_window_inference(\n",
    "                inputs=images,\n",
    "                roi_size=(96, 96, 96),  # ROI 크기\n",
    "                sw_batch_size=4,\n",
    "                predictor=model.forward,\n",
    "                overlap=0.1,\n",
    "                sw_device=\"cuda\",\n",
    "                device=\"cpu\",\n",
    "                buffer_steps=1,\n",
    "                buffer_dim=-1\n",
    "            )\n",
    "            outputs = outputs.argmax(dim=1).squeeze(0).cpu().numpy()  # 클래스 채널 예측\n",
    "            location = {}  # 좌표 저장용 딕셔너리\n",
    "            for c in classes:\n",
    "                cc = cc3d.connected_components(outputs == c)  # cc3d 라벨링\n",
    "                stats = cc3d.statistics(cc)\n",
    "                zyx = stats['centroids'][1:] * 10.012444  # 스케일 변환\n",
    "                zyx_large = zyx[stats['voxel_counts'][1:] > BLOB_THRESHOLD]  # 크기 필터링\n",
    "                xyz = np.ascontiguousarray(zyx_large[:, ::-1])  # 좌표 스왑 (z, y, x -> x, y, z)\n",
    "\n",
    "                location[id_to_name[c]] = xyz  # ID 이름 매칭 저장\n",
    "\n",
    "            # 데이터프레임 변환\n",
    "            df = dict_to_df(location, run.name)\n",
    "            location_dfs.append(df)  # 리스트에 추가\n",
    "        \n",
    "        # if vol_idx == 2:\n",
    "        #     break\n",
    "    \n",
    "    # DataFrame 병합\n",
    "    final_df = pd.concat(location_dfs, ignore_index=True)\n",
    "    \n",
    "    # ID 추가 및 CSV 저장\n",
    "    final_df.insert(loc=0, column='id', value=np.arange(len(final_df)))\n",
    "    final_df.to_csv(\"submission.csv\", index=False)\n",
    "    print(\"Submission saved to: submission.csv\")\n"
   ]
  }
 ],
 "metadata": {
  "kernelspec": {
   "display_name": "ship",
   "language": "python",
   "name": "python3"
  },
  "language_info": {
   "codemirror_mode": {
    "name": "ipython",
    "version": 3
   },
   "file_extension": ".py",
   "mimetype": "text/x-python",
   "name": "python",
   "nbconvert_exporter": "python",
   "pygments_lexer": "ipython3",
   "version": "3.12.7"
  }
 },
 "nbformat": 4,
 "nbformat_minor": 2
}
