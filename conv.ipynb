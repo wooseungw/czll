{
 "cells": [
  {
   "cell_type": "code",
   "execution_count": 5,
   "metadata": {},
   "outputs": [
    {
     "name": "stdout",
     "output_type": "stream",
     "text": [
      "torch.Size([1, 3, 96, 96, 96])\n",
      "torch.Size([1, 1, 96, 96, 96])\n"
     ]
    }
   ],
   "source": [
    "import torch\n",
    "import torch.nn as nn\n",
    "import torch.nn.functional as F\n",
    "\n",
    "feature = 3\n",
    "x = torch.randn(1, 1, 96, 96, 96)\n",
    "conv3d = nn.Conv3d(1, feature, 3, padding=1, bias=False)\n",
    "\n",
    "# 3D Convolution\n",
    "y = conv3d(x)\n",
    "print(y.size())\n",
    "\n",
    "class conv3d_block(nn.Module):\n",
    "    def __init__(self, in_channels, out_channels, kernel_size, stride, padding, bias):\n",
    "        super(conv3d_block, self).__init__()\n",
    "        self.spatial_conv = nn.Conv3d(in_channels, in_channels, kernel_size, stride, padding,groups=in_channels, bias=bias)\n",
    "    \n",
    "    def forward(self, x):\n",
    "        x = self.spatial_conv(x)\n",
    "        return x\n",
    "    \n",
    "conv3d_block = conv3d_block(1, feature, 3, 1, 1, False)\n",
    "y = conv3d_block(x)\n",
    "print(y.size())"
   ]
  }
 ],
 "metadata": {
  "kernelspec": {
   "display_name": "dust",
   "language": "python",
   "name": "python3"
  },
  "language_info": {
   "codemirror_mode": {
    "name": "ipython",
    "version": 3
   },
   "file_extension": ".py",
   "mimetype": "text/x-python",
   "name": "python",
   "nbconvert_exporter": "python",
   "pygments_lexer": "ipython3",
   "version": "3.12.2"
  }
 },
 "nbformat": 4,
 "nbformat_minor": 2
}
