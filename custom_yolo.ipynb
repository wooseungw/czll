{
 "cells": [
  {
   "cell_type": "code",
   "execution_count": null,
   "metadata": {},
   "outputs": [],
   "source": [
    "import torch\n",
    "import torch.nn as nn\n",
    "import torch.nn.functional as F\n",
    "\n",
    "from ultralytics.nn.modules.block import C3k2, SPPF, C2PSA\n",
    "from ultralytics.nn.modules.conv import Conv\n",
    "from ultralytics.nn.modules.head import Detect\n",
    "\n",
    "x = torch.randn(1, 1, 640, 640)"
   ]
  },
  {
   "cell_type": "code",
   "execution_count": null,
   "metadata": {},
   "outputs": [],
   "source": [
    "class CustomYOLO(nn.Module):\n",
    "    def __init__(self, nc):\n",
    "        super(CustomYOLO, self).__init__()\n",
    "        \n",
    "        self.backbone = nn.Sequential(\n",
    "            Conv(1, 32, 3, 1, 1),\n",
    "            Conv(32, 64, 3, 2, 1),\n",
    "            C3k2(64, 64, 1),\n",
    "            Conv(64, 128, 3, 2, 1),\n",
    "            C3k2(128, 128, 2),\n",
    "            Conv(128, 256, 3, 2, 1),\n",
    "            C3k2(256, 256, 8),\n",
    "            Conv(256, 512, 3, 2, 1),\n",
    "            C3k2(512, 512, 8),\n",
    "            Conv(512, 1024, 3, 2, 1),\n",
    "            C3k2(1024, 1024, 4),\n",
    "        )\n",
    "        \n",
    "        self.neck = nn.Sequential(\n",
    "            SPPF(1024, 1024, [5, 9, 13]),\n",
    "            C2PSA(1024, 1024, 4),\n",
    "        )\n",
    "        \n",
    "        self.head = Detect(1024, nc, 3)\n",
    "        \n",
    "    def forward(self, x):\n",
    "        x = self.backbone(x)\n",
    "        x = self.neck(x)\n",
    "        x = self.head(x)\n",
    "        return x\n",
    "        \n",
    "        "
   ]
  }
 ],
 "metadata": {
  "kernelspec": {
   "display_name": "dust",
   "language": "python",
   "name": "python3"
  },
  "language_info": {
   "name": "python",
   "version": "3.12.2"
  }
 },
 "nbformat": 4,
 "nbformat_minor": 2
}
