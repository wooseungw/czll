{
 "cells": [
  {
   "cell_type": "code",
   "execution_count": 1,
   "metadata": {},
   "outputs": [
    {
     "name": "stderr",
     "output_type": "stream",
     "text": [
      "c:\\Users\\pook0\\.conda\\envs\\UM\\Lib\\site-packages\\tqdm\\auto.py:21: TqdmWarning: IProgress not found. Please update jupyter and ipywidgets. See https://ipywidgets.readthedocs.io/en/stable/user_install.html\n",
      "  from .autonotebook import tqdm as notebook_tqdm\n"
     ]
    },
    {
     "name": "stdout",
     "output_type": "stream",
     "text": [
      "MONAI version: 1.4.0\n",
      "Numpy version: 1.26.4\n",
      "Pytorch version: 2.4.1+cu121\n",
      "MONAI flags: HAS_EXT = False, USE_COMPILED = False, USE_META_DICT = False\n",
      "MONAI rev id: 46a5272196a6c2590ca2589029eed8e4d56ff008\n",
      "MONAI __file__: c:\\Users\\<username>\\.conda\\envs\\UM\\Lib\\site-packages\\monai\\__init__.py\n",
      "\n",
      "Optional dependencies:\n",
      "Pytorch Ignite version: NOT INSTALLED or UNKNOWN VERSION.\n",
      "ITK version: NOT INSTALLED or UNKNOWN VERSION.\n",
      "Nibabel version: 5.3.2\n",
      "scikit-image version: 0.24.0\n",
      "scipy version: 1.14.1\n",
      "Pillow version: 10.2.0\n",
      "Tensorboard version: 2.18.0\n",
      "gdown version: 5.2.0\n",
      "TorchVision version: 0.19.1+cu121\n",
      "tqdm version: 4.66.5\n",
      "lmdb version: NOT INSTALLED or UNKNOWN VERSION.\n",
      "psutil version: 6.0.0\n",
      "pandas version: 2.2.3\n",
      "einops version: 0.8.0\n",
      "transformers version: NOT INSTALLED or UNKNOWN VERSION.\n",
      "mlflow version: 2.17.2\n",
      "pynrrd version: NOT INSTALLED or UNKNOWN VERSION.\n",
      "clearml version: NOT INSTALLED or UNKNOWN VERSION.\n",
      "\n",
      "For details about installing the optional dependencies, please visit:\n",
      "    https://docs.monai.io/en/latest/installation.html#installing-the-recommended-dependencies\n",
      "\n"
     ]
    }
   ],
   "source": [
    "import os\n",
    "import shutil\n",
    "import tempfile\n",
    "\n",
    "import matplotlib.pyplot as plt\n",
    "from tqdm import tqdm\n",
    "\n",
    "import random\n",
    "import numpy as np\n",
    "import torch\n",
    "\n",
    "\n",
    "from monai.losses import DiceCELoss\n",
    "from monai.inferers import sliding_window_inference\n",
    "from monai.transforms import (\n",
    "    AsDiscrete,\n",
    "    EnsureChannelFirstd,\n",
    "    Compose,\n",
    "    CropForegroundd,\n",
    "    LoadImaged,\n",
    "    Orientationd,\n",
    "    RandFlipd,\n",
    "    RandCropByPosNegLabeld,\n",
    "    RandShiftIntensityd,\n",
    "    ScaleIntensityRanged,\n",
    "    Spacingd,\n",
    "    RandRotate90d,\n",
    ")\n",
    "\n",
    "from monai.config import print_config\n",
    "from monai.metrics import DiceMetric\n",
    "from src.models.swincspunetr import SwinCSPUNETR\n",
    "\n",
    "from monai.data import (\n",
    "    DataLoader,\n",
    "    CacheDataset,\n",
    "    load_decathlon_datalist,\n",
    "    decollate_batch,\n",
    ")\n",
    "\n",
    "# 랜덤 시드 고정\n",
    "def set_seed(seed):\n",
    "    random.seed(seed)\n",
    "    np.random.seed(seed)\n",
    "    torch.manual_seed(seed)\n",
    "    if torch.cuda.is_available():\n",
    "        torch.cuda.manual_seed_all(seed)\n",
    "\n",
    "set_seed(42)\n",
    "\n",
    "\n",
    "print_config()"
   ]
  },
  {
   "cell_type": "code",
   "execution_count": 2,
   "metadata": {},
   "outputs": [
    {
     "name": "stdout",
     "output_type": "stream",
     "text": [
      "클래스 비율: {0: 0.0, 1: 0.16393442622950818, 2: 0.01639344262295082, 3: 0.2459016393442623, 4: 0.16393442622950818, 5: 0.2459016393442623, 6: 0.16393442622950818}\n",
      "최종 합계: 1.0\n",
      "클래스 비율 리스트: [0.0, 0.16393442622950818, 0.01639344262295082, 0.2459016393442623, 0.16393442622950818, 0.2459016393442623, 0.16393442622950818]\n"
     ]
    }
   ],
   "source": [
    "class_info = {\n",
    "    0: {\"name\": \"background\", \"weight\": 0},  # weight 없음\n",
    "    1: {\"name\": \"apo-ferritin\", \"weight\": 1000},\n",
    "    2: {\"name\": \"beta-amylase\", \"weight\": 100}, # 4130\n",
    "    3: {\"name\": \"beta-galactosidase\", \"weight\": 1500}, #3080\n",
    "    4: {\"name\": \"ribosome\", \"weight\": 1000},\n",
    "    5: {\"name\": \"thyroglobulin\", \"weight\": 1500},\n",
    "    6: {\"name\": \"virus-like-particle\", \"weight\": 1000},\n",
    "}\n",
    "\n",
    "# 가중치에 비례한 비율 계산\n",
    "raw_ratios = {\n",
    "    k: (v[\"weight\"] if v[\"weight\"] is not None else 0.01)  # 가중치 비례, None일 경우 기본값a\n",
    "    for k, v in class_info.items()\n",
    "}\n",
    "total = sum(raw_ratios.values())\n",
    "ratios = {k: v / total for k, v in raw_ratios.items()}\n",
    "\n",
    "# 최종 합계가 1인지 확인\n",
    "final_total = sum(ratios.values())\n",
    "print(\"클래스 비율:\", ratios)\n",
    "print(\"최종 합계:\", final_total)\n",
    "\n",
    "# 비율을 리스트로 변환\n",
    "ratios_list = [ratios[k] for k in sorted(ratios.keys())]\n",
    "print(\"클래스 비율 리스트:\", ratios_list)"
   ]
  },
  {
   "cell_type": "markdown",
   "metadata": {},
   "source": [
    "# 모델 설정"
   ]
  },
  {
   "cell_type": "code",
   "execution_count": 3,
   "metadata": {},
   "outputs": [],
   "source": [
    "from src.dataset.dataset import create_dataloaders\n",
    "from monai.transforms import (\n",
    "    Compose, LoadImaged, EnsureChannelFirstd, NormalizeIntensityd,\n",
    "    Orientationd, CropForegroundd, GaussianSmoothd, ScaleIntensityd,\n",
    "    RandSpatialCropd, RandRotate90d, RandFlipd, RandGaussianNoised,\n",
    "    ToTensord, RandCropByLabelClassesd\n",
    ")\n",
    "from monai.transforms import CastToTyped\n",
    "import numpy as np\n",
    "\n",
    "train_img_dir = \"./datasets/train/images\"\n",
    "train_label_dir = \"./datasets/train/labels\"\n",
    "val_img_dir = \"./datasets/val/images\"\n",
    "val_label_dir = \"./datasets/val/labels\"\n",
    "# DATA CONFIG\n",
    "img_size =  96 # Match your patch size\n",
    "img_depth = img_size\n",
    "n_classes = 7\n",
    "batch_size = 2 # 13.8GB GPU memory required for 128x128 img size\n",
    "num_samples = batch_size # 한 이미지에서 뽑을 샘플 수\n",
    "loader_batch = 1\n",
    "num_repeat = 20\n",
    "# MODEL CONFIG\n",
    "num_epochs = 4000\n",
    "lamda = 0.5\n",
    "ce_weight = 0.4\n",
    "lr = 0.0001\n",
    "feature_size = 48\n",
    "use_checkpoint = True\n",
    "use_v2 = True\n",
    "drop_rate= 0.25\n",
    "attn_drop_rate = 0.25\n",
    "num_bottleneck = 2\n",
    "# CLASS_WEIGHTS\n",
    "class_weights = None\n",
    "class_weights = torch.tensor([0.0001, 1, 0.001, 1.1, 1, 1.1, 1], dtype=torch.float32)  # 클래스별 가중치\n",
    "\n",
    "accumulation_steps = 8\n",
    "# INIT\n",
    "start_epoch = 0\n",
    "best_val_loss = float('inf')\n",
    "best_val_fbeta_score = 0\n",
    "\n",
    "non_random_transforms = Compose([\n",
    "    EnsureChannelFirstd(keys=[\"image\", \"label\"], channel_dim=\"no_channel\"),\n",
    "    NormalizeIntensityd(keys=\"image\"),\n",
    "    Orientationd(keys=[\"image\", \"label\"], axcodes=\"RAS\"),\n",
    "    CastToTyped(keys=[\"image\"], dtype=np.float16),\n",
    "    GaussianSmoothd(\n",
    "        keys=[\"image\"],      # 변환을 적용할 키\n",
    "        sigma=[1.0, 1.0, 1.0]  # 각 축(x, y, z)의 시그마 값\n",
    "        ),\n",
    "])\n",
    "random_transforms = Compose([\n",
    "    RandCropByLabelClassesd(\n",
    "        keys=[\"image\", \"label\"],\n",
    "        label_key=\"label\",\n",
    "        spatial_size=[img_depth, img_size, img_size],\n",
    "        num_classes=n_classes,\n",
    "        num_samples=num_samples, \n",
    "        ratios=ratios_list,\n",
    "    ),\n",
    "    RandRotate90d(keys=[\"image\", \"label\"], prob=0.5, spatial_axes=[1, 2]),\n",
    "    RandFlipd(keys=[\"image\", \"label\"], prob=0.5, spatial_axis=0),\n",
    "    RandFlipd(keys=[\"image\", \"label\"], prob=0.5, spatial_axis=1),\n",
    "    RandFlipd(keys=[\"image\", \"label\"], prob=0.5, spatial_axis=2),\n",
    "])\n"
   ]
  },
  {
   "cell_type": "code",
   "execution_count": 4,
   "metadata": {},
   "outputs": [
    {
     "name": "stderr",
     "output_type": "stream",
     "text": [
      "Loading dataset: 100%|██████████| 24/24 [00:42<00:00,  1.79s/it]\n",
      "Loading dataset: 100%|██████████| 4/4 [00:07<00:00,  1.87s/it]\n"
     ]
    }
   ],
   "source": [
    "train_loader, val_loader = None, None\n",
    "train_loader, val_loader = create_dataloaders(\n",
    "    train_img_dir, \n",
    "    train_label_dir, \n",
    "    val_img_dir, \n",
    "    val_label_dir, \n",
    "    non_random_transforms = non_random_transforms, \n",
    "    random_transforms = random_transforms, \n",
    "    batch_size = loader_batch,\n",
    "    num_workers=0,train_num_repeat=num_repeat)"
   ]
  },
  {
   "cell_type": "markdown",
   "metadata": {},
   "source": [
    "https://monai.io/model-zoo.html"
   ]
  },
  {
   "cell_type": "code",
   "execution_count": 5,
   "metadata": {},
   "outputs": [],
   "source": [
    "from monai.losses import TverskyLoss\n",
    "import torch\n",
    "import torch.nn as nn\n",
    "\n",
    "def loss_fn(loss, class_weights, device):\n",
    "    \"\"\"\n",
    "    Tversky 손실에 클래스별 가중치를 적용하여 최종 스칼라 값을 반환합니다.\n",
    "\n",
    "    Args:\n",
    "        loss: Tversky 손실 텐서 (B, num_classes, H, W, D).\n",
    "        class_weights: 클래스별 가중치 텐서 (num_classes,).\n",
    "        device: 사용할 장치 (예: 'cuda' 또는 'cpu').\n",
    "\n",
    "    Returns:\n",
    "        torch.Tensor: 최종 가중 평균 손실 값 (스칼라).\n",
    "    \"\"\"\n",
    "    # 가중치를 device로 이동\n",
    "    class_weights = class_weights.to(device)\n",
    "\n",
    "    # 클래스 차원에 가중치 적용 (B, num_classes, ...)\n",
    "    class_weights = class_weights.view(1, n_classes, 1, 1, 1)  # [1, num_classes, 1, 1, 1]\n",
    "    weighted_loss = loss * class_weights\n",
    "\n",
    "    # 모든 차원을 평균 내어 스칼라 손실 반환\n",
    "    final_loss = torch.mean(weighted_loss)\n",
    "    return final_loss\n",
    "\n",
    "class DynamicTverskyLoss(TverskyLoss):\n",
    "    def __init__(self, lamda=0.5, **kwargs):\n",
    "        super().__init__(alpha=1 - lamda, beta=lamda, **kwargs)\n",
    "        self.lamda = lamda\n",
    "\n",
    "    def set_lamda(self, lamda):\n",
    "        self.lamda = lamda\n",
    "        self.alpha = 1 - lamda\n",
    "        self.beta = lamda\n",
    "        \n",
    "# criterion = DynamicTverskyLoss(\n",
    "#     lamda=0.5,\n",
    "#     include_background=False,\n",
    "#     reduction=\"mean\",\n",
    "#     softmax=True\n",
    "# )\n",
    "\n",
    "class CombinedCETverskyLoss(nn.Module):\n",
    "    def __init__(self, lamda=0.5, ce_weight=0.5, **kwargs):\n",
    "        super().__init__()\n",
    "        self._lamda = lamda  # lamda 값 저장\n",
    "        self.tversky = DynamicTverskyLoss(lamda=lamda, **kwargs)\n",
    "        self.ce = nn.CrossEntropyLoss()\n",
    "        self.ce_weight = ce_weight\n",
    "        \n",
    "    def forward(self, inputs, targets):\n",
    "        tversky_loss = self.tversky(inputs, targets)\n",
    "        ce_loss = self.ce(inputs, targets)\n",
    "        return self.ce_weight * ce_loss + (1 - self.ce_weight) * tversky_loss\n",
    "    \n",
    "    def set_lamda(self, lamda):\n",
    "        self._lamda = lamda\n",
    "        self.tversky.set_lamda(lamda)\n",
    "    \n",
    "    @property\n",
    "    def lamda(self):\n",
    "        return self._lamda\n",
    "\n",
    "criterion = CombinedCETverskyLoss(\n",
    "    lamda=lamda,\n",
    "    ce_weight=ce_weight,  # CE Loss와 Tversky Loss의 비중을 0.5:0.5로 설정\n",
    "    include_background=False,\n",
    "    reduction=\"mean\",\n",
    "    softmax=True\n",
    ")"
   ]
  },
  {
   "cell_type": "code",
   "execution_count": 6,
   "metadata": {},
   "outputs": [
    {
     "name": "stderr",
     "output_type": "stream",
     "text": [
      "c:\\Users\\pook0\\.conda\\envs\\UM\\Lib\\site-packages\\monai\\utils\\deprecate_utils.py:221: FutureWarning: src.models.swincspunetr SwinCSPUNETR.__init__:img_size: Argument `img_size` has been deprecated since version 1.3. It will be removed in version 1.5. The img_size argument is not required anymore and checks on the input size are run during forward().\n",
      "  warn_deprecated(argname, msg, warning_category)\n"
     ]
    },
    {
     "name": "stdout",
     "output_type": "stream",
     "text": [
      "기존 best model 발견: model_checkpoints\\SwinCSP_UNETR__pyes_weighted_f48_d96s96_numb2_lr1e-04_a0.50_b0.50_b2_r20_ce0.4\\best_model.pt\n"
     ]
    },
    {
     "name": "stderr",
     "output_type": "stream",
     "text": [
      "C:\\Users\\pook0\\AppData\\Local\\Temp\\ipykernel_7788\\2108893567.py:55: FutureWarning: You are using `torch.load` with `weights_only=False` (the current default value), which uses the default pickle module implicitly. It is possible to construct malicious pickle data which will execute arbitrary code during unpickling (See https://github.com/pytorch/pytorch/blob/main/SECURITY.md#untrusted-models for more details). In a future release, the default value for `weights_only` will be flipped to `True`. This limits the functions that could be executed during unpickling. Arbitrary objects will no longer be allowed to be loaded via this mode unless they are explicitly allowlisted by the user via `torch.serialization.add_safe_globals`. We recommend you start setting `weights_only=True` for any use case where you don't have full control of the loaded file. Please open an issue on GitHub for any issues related to this experimental feature.\n",
      "  checkpoint = torch.load(best_model_path, map_location=device)\n"
     ]
    },
    {
     "name": "stdout",
     "output_type": "stream",
     "text": [
      "기존 학습된 가중치를 성공적으로 로드했습니다.\n"
     ]
    }
   ],
   "source": [
    "import torch.optim as optim\n",
    "from tqdm import tqdm\n",
    "import numpy as np\n",
    "import torch\n",
    "from pathlib import Path\n",
    "from monai.metrics import DiceMetric\n",
    "\n",
    "device = torch.device(\"cuda\" if torch.cuda.is_available() else \"cpu\")\n",
    "\n",
    "model = SwinCSPUNETR(\n",
    "    img_size=(img_depth, img_size, img_size),\n",
    "    in_channels=1,\n",
    "    out_channels=n_classes,\n",
    "    feature_size=feature_size,\n",
    "    use_checkpoint=True,\n",
    "    drop_rate = drop_rate,\n",
    "    attn_drop_rate = attn_drop_rate,\n",
    "    use_v2 = use_v2,\n",
    "    n = num_bottleneck,\n",
    ").to(device)\n",
    "# Pretrained weights 불러오기\n",
    "# if use_checkpoint:\n",
    "#     pretrain_path = \"./swin_unetr_btcv_segmentation/models/model.pt\"\n",
    "#     weight = torch.load(pretrain_path, map_location=device)\n",
    "\n",
    "#     # 출력 레이어의 키를 제외한 나머지 가중치만 로드\n",
    "#     filtered_weights = {k: v for k, v in weight.items() if \"out.conv.conv\" not in k}\n",
    "\n",
    "#     # strict=False로 로드하여 불일치하는 부분 무시\n",
    "#     model.load_state_dict(filtered_weights, strict=False)\n",
    "#     print(\"Filtered weights loaded successfully. Output layer will be trained from scratch.\")\n",
    "\n",
    "# Load pretrained weights\n",
    "# model.load_from(weights=np.load(config_vit.real_pretrained_path, allow_pickle=True))\n",
    "# TverskyLoss 설정\n",
    "# 사용 예시\n",
    "\n",
    "pretrain_str = \"yes\" if use_checkpoint else \"no\"\n",
    "weight_str = \"weighted\" if class_weights is not None else \"\"\n",
    "\n",
    "# 체크포인트 디렉토리 및 파일 설정\n",
    "checkpoint_base_dir = Path(\"./model_checkpoints\")\n",
    "folder_name = f\"SwinCSP_UNETR__p{pretrain_str}_{weight_str}_f{feature_size}_d{img_depth}s{img_size}_numb{num_bottleneck}_lr{lr:.0e}_a{lamda:.2f}_b{1-lamda:.2f}_b{batch_size}_r{num_repeat}_ce{ce_weight}\"\n",
    "checkpoint_dir = checkpoint_base_dir / folder_name\n",
    "optimizer = optim.AdamW(model.parameters(), lr=lr, weight_decay=1e-5)\n",
    "scheduler = torch.optim.lr_scheduler.ReduceLROnPlateau(optimizer, patience=5, factor=0.5)\n",
    "# 체크포인트 디렉토리 생성\n",
    "checkpoint_dir.mkdir(parents=True, exist_ok=True)\n",
    "\n",
    "if checkpoint_dir.exists():\n",
    "    best_model_path = checkpoint_dir / 'best_model.pt'\n",
    "    if best_model_path.exists():\n",
    "        print(f\"기존 best model 발견: {best_model_path}\")\n",
    "        try:\n",
    "            checkpoint = torch.load(best_model_path, map_location=device)\n",
    "            # 체크포인트 내부 키 검증\n",
    "            required_keys = ['model_state_dict', 'optimizer_state_dict', 'epoch', 'best_val_loss']\n",
    "            if all(k in checkpoint for k in required_keys):\n",
    "                model.load_state_dict(checkpoint['model_state_dict'])\n",
    "                optimizer.load_state_dict(checkpoint['optimizer_state_dict'])\n",
    "                start_epoch = checkpoint['epoch']\n",
    "                best_val_loss = checkpoint['best_val_loss']\n",
    "                print(\"기존 학습된 가중치를 성공적으로 로드했습니다.\")\n",
    "                checkpoint= None\n",
    "            else:\n",
    "                raise ValueError(\"체크포인트 파일에 필요한 key가 없습니다.\")\n",
    "        except Exception as e:\n",
    "            print(f\"체크포인트 파일을 로드하는 중 오류 발생: {e}\")"
   ]
  },
  {
   "cell_type": "code",
   "execution_count": 7,
   "metadata": {},
   "outputs": [
    {
     "name": "stdout",
     "output_type": "stream",
     "text": [
      "torch.Size([2, 1, 96, 96, 96]) torch.Size([2, 1, 96, 96, 96])\n"
     ]
    }
   ],
   "source": [
    "batch = next(iter(val_loader))\n",
    "images, labels = batch[\"image\"], batch[\"label\"]\n",
    "print(images.shape, labels.shape)"
   ]
  },
  {
   "cell_type": "code",
   "execution_count": 8,
   "metadata": {},
   "outputs": [],
   "source": [
    "torch.backends.cudnn.benchmark = True"
   ]
  },
  {
   "cell_type": "code",
   "execution_count": 9,
   "metadata": {},
   "outputs": [
    {
     "name": "stderr",
     "output_type": "stream",
     "text": [
      "\u001b[34m\u001b[1mwandb\u001b[0m: Using wandb-core as the SDK backend.  Please refer to https://wandb.me/wandb-core for more information.\n",
      "\u001b[34m\u001b[1mwandb\u001b[0m: Currently logged in as: \u001b[33mpook0612\u001b[0m (\u001b[33mlimbw\u001b[0m). Use \u001b[1m`wandb login --relogin`\u001b[0m to force relogin\n"
     ]
    },
    {
     "data": {
      "text/html": [
       "Tracking run with wandb version 0.19.1"
      ],
      "text/plain": [
       "<IPython.core.display.HTML object>"
      ]
     },
     "metadata": {},
     "output_type": "display_data"
    },
    {
     "data": {
      "text/html": [
       "Run data is saved locally in <code>d:\\Workspace\\czll\\wandb\\run-20250103_003139-i175p15s</code>"
      ],
      "text/plain": [
       "<IPython.core.display.HTML object>"
      ]
     },
     "metadata": {},
     "output_type": "display_data"
    },
    {
     "data": {
      "text/html": [
       "Syncing run <strong><a href='https://wandb.ai/limbw/czii_SwinUnetR/runs/i175p15s' target=\"_blank\">SwinCSP_UNETR__pyes_weighted_f48_d96s96_numb2_lr1e-04_a0.50_b0.50_b2_r20_ce0.4</a></strong> to <a href='https://wandb.ai/limbw/czii_SwinUnetR' target=\"_blank\">Weights & Biases</a> (<a href='https://wandb.me/developer-guide' target=\"_blank\">docs</a>)<br>"
      ],
      "text/plain": [
       "<IPython.core.display.HTML object>"
      ]
     },
     "metadata": {},
     "output_type": "display_data"
    },
    {
     "data": {
      "text/html": [
       " View project at <a href='https://wandb.ai/limbw/czii_SwinUnetR' target=\"_blank\">https://wandb.ai/limbw/czii_SwinUnetR</a>"
      ],
      "text/plain": [
       "<IPython.core.display.HTML object>"
      ]
     },
     "metadata": {},
     "output_type": "display_data"
    },
    {
     "data": {
      "text/html": [
       " View run at <a href='https://wandb.ai/limbw/czii_SwinUnetR/runs/i175p15s' target=\"_blank\">https://wandb.ai/limbw/czii_SwinUnetR/runs/i175p15s</a>"
      ],
      "text/plain": [
       "<IPython.core.display.HTML object>"
      ]
     },
     "metadata": {},
     "output_type": "display_data"
    }
   ],
   "source": [
    "import wandb\n",
    "from datetime import datetime\n",
    "\n",
    "current_time = datetime.now().strftime('%Y%m%d_%H%M%S')\n",
    "run_name = folder_name\n",
    "\n",
    "# wandb 초기화\n",
    "wandb.init(\n",
    "    project='czii_SwinUnetR',  # 프로젝트 이름 설정\n",
    "    name=run_name,         # 실행(run) 이름 설정\n",
    "    config={\n",
    "        'num_epochs': num_epochs,\n",
    "        'learning_rate': lr,\n",
    "        'batch_size': batch_size,\n",
    "        'lambda': lamda,\n",
    "        \"cross_entropy_weight\": ce_weight,\n",
    "        'feature_size': feature_size,\n",
    "        'img_size': img_size,\n",
    "        'sampling_ratio': ratios_list,\n",
    "        'device': device.type,\n",
    "        \"checkpoint_dir\": str(checkpoint_dir),\n",
    "        \"class_weights\": class_weights.tolist() if class_weights is not None else None,\n",
    "        \"use_checkpoint\": use_checkpoint,\n",
    "        \"drop_rate\": drop_rate,\n",
    "        \"attn_drop_rate\": attn_drop_rate,\n",
    "        \"use_v2\": use_v2,\n",
    "        \"accumulation_steps\": accumulation_steps,\n",
    "        \"num_repeat\": num_repeat,\n",
    "        \"num_bottleneck\": num_bottleneck,\n",
    "        \n",
    "        # 필요한 하이퍼파라미터 추가\n",
    "    }\n",
    ")\n",
    "# 모델을 wandb에 연결\n",
    "wandb.watch(model, log='all')"
   ]
  },
  {
   "cell_type": "markdown",
   "metadata": {},
   "source": [
    "# 학습"
   ]
  },
  {
   "cell_type": "code",
   "execution_count": 10,
   "metadata": {},
   "outputs": [],
   "source": [
    "from monai.metrics import DiceMetric\n",
    "    \n",
    "def processing(batch_data, model, criterion, device):\n",
    "    images = batch_data['image'].to(device)  # Input 이미지 (B, 1, 96, 96, 96)\n",
    "    labels = batch_data['label'].to(device)  # 라벨 (B, 96, 96, 96)\n",
    "\n",
    "    labels = labels.squeeze(1)  # (B, 1, 96, 96, 96) → (B, 96, 96, 96)\n",
    "    labels = labels.long()  # 라벨을 정수형으로 변환\n",
    "\n",
    "    # 원핫 인코딩 (B, H, W, D) → (B, num_classes, H, W, D)\n",
    "    \n",
    "    labels_onehot = torch.nn.functional.one_hot(labels, num_classes=n_classes)\n",
    "    labels_onehot = labels_onehot.permute(0, 4, 1, 2, 3).float()  # (B, num_classes, H, W, D)\n",
    "\n",
    "    # 모델 예측\n",
    "    outputs = model(images)  # outputs: (B, num_classes, H, W, D)\n",
    "\n",
    "    # Loss 계산\n",
    "    # loss = criterion(outputs, labels_onehot)\n",
    "    loss = loss_fn(criterion(outputs, labels_onehot),class_weights=class_weights, device=device)\n",
    "    return loss, outputs, labels, outputs.argmax(dim=1)\n",
    "\n",
    "def train_one_epoch(model, train_loader, criterion, optimizer, device, epoch, accumulation_steps=4):\n",
    "    model.train()\n",
    "    epoch_loss = 0\n",
    "    optimizer.zero_grad()  # 그래디언트 초기화\n",
    "    with tqdm(train_loader, desc='Training') as pbar:\n",
    "        for i, batch_data in enumerate(pbar):\n",
    "            # 손실 계산\n",
    "            loss, _, _, _ = processing(batch_data, model, criterion, device)\n",
    "\n",
    "            # 그래디언트를 계산하고 누적\n",
    "            loss = loss / accumulation_steps  # 그래디언트 누적을 위한 스케일링\n",
    "            loss.backward()  # 그래디언트 계산 및 누적\n",
    "            \n",
    "            # 그래디언트 업데이트 (accumulation_steps마다 한 번)\n",
    "            if (i + 1) % accumulation_steps == 0 or (i + 1) == len(train_loader):\n",
    "                optimizer.step()  # 파라미터 업데이트\n",
    "                optimizer.zero_grad()  # 누적된 그래디언트 초기화\n",
    "            \n",
    "            # 손실값 누적 (스케일링 복구)\n",
    "            epoch_loss += loss.item() * accumulation_steps  # 실제 손실값 반영\n",
    "            pbar.set_postfix(loss=loss.item() * accumulation_steps)  # 실제 손실값 출력\n",
    "    avg_loss = epoch_loss / len(train_loader)\n",
    "    wandb.log({'train_epoch_loss': avg_loss, 'epoch': epoch + 1})\n",
    "    return avg_loss\n",
    "\n",
    "\n",
    "def validate_one_epoch(model, val_loader, criterion, device, epoch, calculate_dice_interval):\n",
    "    model.eval()\n",
    "    val_loss = 0\n",
    "    \n",
    "    class_dice_scores = {i: [] for i in range(n_classes)}\n",
    "    class_f_beta_scores = {i: [] for i in range(n_classes)}\n",
    "    with torch.no_grad():\n",
    "        with tqdm(val_loader, desc='Validation') as pbar:\n",
    "            for batch_data in pbar:\n",
    "                loss, _, labels, preds = processing(batch_data, model, criterion, device)\n",
    "                val_loss += loss.item()\n",
    "                pbar.set_postfix(loss=loss.item())\n",
    "\n",
    "                # 각 클래스별 Dice 점수 계산\n",
    "                if epoch % calculate_dice_interval == 0:\n",
    "                    for i in range(n_classes):\n",
    "                        pred_i = (preds == i)\n",
    "                        label_i = (labels == i)\n",
    "                        dice_score = (2.0 * torch.sum(pred_i & label_i)) / (torch.sum(pred_i) + torch.sum(label_i) + 1e-8)\n",
    "                        class_dice_scores[i].append(dice_score.item())\n",
    "                        precision = (torch.sum(pred_i & label_i) + 1e-8) / (torch.sum(pred_i) + 1e-8)\n",
    "                        recall = (torch.sum(pred_i & label_i) + 1e-8) / (torch.sum(label_i) + 1e-8)\n",
    "                        f_beta_score = (1 + 4**2) * (precision * recall) / (4**2 * precision + recall + 1e-8)\n",
    "                        class_f_beta_scores[i].append(f_beta_score.item())\n",
    "\n",
    "    avg_loss = val_loss / len(val_loader)\n",
    "    # 에포크별 평균 손실 로깅\n",
    "    wandb.log({'val_epoch_loss': avg_loss, 'epoch': epoch + 1})\n",
    "    \n",
    "    # 각 클래스별 평균 Dice 점수 출력\n",
    "    if epoch % calculate_dice_interval == 0:\n",
    "        print(\"Validation Dice Score\")\n",
    "        all_classes_dice_scores = []\n",
    "        for i in range(n_classes):\n",
    "            mean_dice = np.mean(class_dice_scores[i])\n",
    "            wandb.log({f'class_{i}_dice_score': mean_dice, 'epoch': epoch + 1})\n",
    "            print(f\"Class {i}: {mean_dice:.4f}\", end=\", \")\n",
    "            if i not in [0, 2]:  # 평균에 포함할 클래스만 추가\n",
    "                all_classes_dice_scores.append(mean_dice)\n",
    "            \n",
    "        print()\n",
    "    if epoch % calculate_dice_interval == 0:\n",
    "        print(\"Validation F-beta Score\")\n",
    "        all_classes_fbeta_scores = []\n",
    "        for i in range(n_classes):\n",
    "            mean_fbeta = np.mean(class_f_beta_scores[i])\n",
    "            wandb.log({f'class_{i}_f_beta_score': mean_fbeta, 'epoch': epoch + 1})\n",
    "            print(f\"Class {i}: {mean_fbeta:.4f}\", end=\", \")\n",
    "            if i not in [0, 2]:  # 평균에 포함할 클래스만 추가\n",
    "                all_classes_fbeta_scores.append(mean_fbeta)\n",
    "                \n",
    "        print()\n",
    "        overall_mean_dice = np.mean(all_classes_dice_scores)\n",
    "        overall_mean_fbeta = np.mean(all_classes_fbeta_scores)\n",
    "        wandb.log({'overall_mean_f_beta_score': overall_mean_fbeta, 'overall_mean_dice_score': overall_mean_dice, 'epoch': epoch + 1})\n",
    "        print(f\"\\nOverall Mean Dice Score: {overall_mean_dice:.4f}\\nOverall Mean F-beta Score: {overall_mean_fbeta:.4f}\\n\")\n",
    "\n",
    "    if overall_mean_fbeta is None:\n",
    "        overall_mean_fbeta = 0\n",
    "\n",
    "    return val_loss / len(val_loader), overall_mean_fbeta\n",
    "\n",
    "def train_model(\n",
    "    model, train_loader, val_loader, criterion, optimizer, num_epochs, patience, \n",
    "    device, start_epoch, best_val_loss, best_val_fbeta_score, calculate_dice_interval=1,\n",
    "    accumulation_steps=4\n",
    "):\n",
    "    \"\"\"\n",
    "    모델을 학습하고 검증하는 함수\n",
    "    Args:\n",
    "        model: 학습할 모델\n",
    "        train_loader: 학습 데이터 로더\n",
    "        val_loader: 검증 데이터 로더\n",
    "        criterion: 손실 함수\n",
    "        optimizer: 최적화 알고리즘\n",
    "        num_epochs: 총 학습 epoch 수\n",
    "        patience: early stopping 기준\n",
    "        device: GPU/CPU 장치\n",
    "        start_epoch: 시작 epoch\n",
    "        best_val_loss: 이전 최적 validation loss\n",
    "        best_val_fbeta_score: 이전 최적 validation f-beta score\n",
    "        calculate_dice_interval: Dice 점수 계산 주기\n",
    "    \"\"\"\n",
    "    epochs_no_improve = 0\n",
    "\n",
    "    for epoch in range(start_epoch, num_epochs):\n",
    "        print(f\"Epoch {epoch + 1}/{num_epochs}\")\n",
    "\n",
    "        # Train One Epoch\n",
    "        train_loss = train_one_epoch(\n",
    "            model=model, \n",
    "            train_loader=train_loader, \n",
    "            criterion=criterion, \n",
    "            optimizer=optimizer, \n",
    "            device=device,\n",
    "            epoch=epoch,\n",
    "            accumulation_steps= accumulation_steps\n",
    "        )\n",
    "        \n",
    "        scheduler.step(train_loss)\n",
    "        # Validate One Epoch\n",
    "        val_loss, overall_mean_fbeta_score = validate_one_epoch(\n",
    "            model=model, \n",
    "            val_loader=val_loader, \n",
    "            criterion=criterion, \n",
    "            device=device, \n",
    "            epoch=epoch, \n",
    "            calculate_dice_interval=calculate_dice_interval\n",
    "        )\n",
    "\n",
    "        \n",
    "        print(f\"Training Loss: {train_loss:.4f}, Validation Loss: {val_loss:.4f}, Validation F-beta: {overall_mean_fbeta_score:.4f}\")\n",
    "\n",
    "        if val_loss < best_val_loss and overall_mean_fbeta_score > best_val_fbeta_score:\n",
    "            best_val_loss = val_loss\n",
    "            best_val_fbeta_score = overall_mean_fbeta_score\n",
    "            epochs_no_improve = 0\n",
    "            checkpoint_path = os.path.join(checkpoint_dir, 'best_model.pt')\n",
    "            torch.save({\n",
    "                'epoch': epoch + 1,\n",
    "                'model_state_dict': model.state_dict(),\n",
    "                'optimizer_state_dict': optimizer.state_dict(),\n",
    "                'best_val_loss': best_val_loss,\n",
    "                'best_val_fbeta_score': best_val_fbeta_score\n",
    "            }, checkpoint_path)\n",
    "            print(f\"========================================================\")\n",
    "            print(f\"SUPER Best model saved. Loss:{best_val_loss:.4f}, Score:{best_val_fbeta_score:.4f}\")\n",
    "            print(f\"========================================================\")\n",
    "\n",
    "        # Early stopping 조건 체크\n",
    "        if val_loss >= best_val_loss and overall_mean_fbeta_score <= best_val_fbeta_score:\n",
    "            epochs_no_improve += 1\n",
    "        else:\n",
    "            epochs_no_improve = 0\n",
    "\n",
    "        if epochs_no_improve >= patience:\n",
    "            print(\"Early stopping\")\n",
    "            checkpoint_path = os.path.join(checkpoint_dir, 'last.pt')\n",
    "            torch.save({\n",
    "                'epoch': epoch + 1,\n",
    "                'model_state_dict': model.state_dict(),\n",
    "                'optimizer_state_dict': optimizer.state_dict(),\n",
    "                'best_val_loss': best_val_loss,\n",
    "                'best_val_fbeta_score': best_val_fbeta_score\n",
    "            }, checkpoint_path)\n",
    "            break\n",
    "        if epochs_no_improve%6 == 0 & epochs_no_improve != 0:\n",
    "            # 손실이 개선되지 않았으므로 lambda 감소\n",
    "            new_lamda = max(criterion.lamda - 0.01, 0.35)  # 최소값은 0.1로 설정\n",
    "            criterion.set_lamda(new_lamda)\n",
    "            print(f\"Validation loss did not improve. Reducing lambda to {new_lamda:.4f}\")\n",
    "\n",
    "    wandb.finish()\n"
   ]
  },
  {
   "cell_type": "code",
   "execution_count": 11,
   "metadata": {},
   "outputs": [
    {
     "name": "stdout",
     "output_type": "stream",
     "text": [
      "Epoch 4/4000\n"
     ]
    },
    {
     "name": "stderr",
     "output_type": "stream",
     "text": [
      "Training:   0%|          | 0/480 [00:00<?, ?it/s]c:\\Users\\pook0\\.conda\\envs\\UM\\Lib\\site-packages\\torch\\utils\\checkpoint.py:1399: FutureWarning: `torch.cpu.amp.autocast(args...)` is deprecated. Please use `torch.amp.autocast('cpu', args...)` instead.\n",
      "  with device_autocast_ctx, torch.cpu.amp.autocast(**cpu_autocast_kwargs), recompute_context:  # type: ignore[attr-defined]\n",
      "Training: 100%|██████████| 480/480 [13:03<00:00,  1.63s/it, loss=0.431]\n",
      "Validation: 100%|██████████| 12/12 [00:08<00:00,  1.41it/s, loss=0.46] \n"
     ]
    },
    {
     "name": "stdout",
     "output_type": "stream",
     "text": [
      "Validation Dice Score\n",
      "Class 0: 0.9882, Class 1: 0.0000, Class 2: 0.0000, Class 3: 0.0000, Class 4: 0.2637, Class 5: 0.0000, Class 6: 0.2378, \n",
      "Validation F-beta Score\n",
      "Class 0: 0.9931, Class 1: 0.0833, Class 2: 0.1667, Class 3: 0.1667, Class 4: 0.2592, Class 5: 0.0000, Class 6: 0.2323, \n",
      "\n",
      "Overall Mean Dice Score: 0.1003\n",
      "Overall Mean F-beta Score: 0.1483\n",
      "\n",
      "Training Loss: 0.4451, Validation Loss: 0.4525, Validation F-beta: 0.1483\n",
      "Epoch 5/4000\n"
     ]
    },
    {
     "name": "stderr",
     "output_type": "stream",
     "text": [
      "Training: 100%|██████████| 480/480 [12:13<00:00,  1.53s/it, loss=0.436]\n",
      "Validation: 100%|██████████| 12/12 [00:08<00:00,  1.43it/s, loss=0.446]\n"
     ]
    },
    {
     "name": "stdout",
     "output_type": "stream",
     "text": [
      "Validation Dice Score\n",
      "Class 0: 0.9875, Class 1: 0.0083, Class 2: 0.0000, Class 3: 0.0379, Class 4: 0.3015, Class 5: 0.0487, Class 6: 0.2355, \n",
      "Validation F-beta Score\n",
      "Class 0: 0.9930, Class 1: 0.0929, Class 2: 0.5000, Class 3: 0.1980, Class 4: 0.2654, Class 5: 0.0312, Class 6: 0.2327, \n",
      "\n",
      "Overall Mean Dice Score: 0.1264\n",
      "Overall Mean F-beta Score: 0.1640\n",
      "\n",
      "Training Loss: 0.4387, Validation Loss: 0.4474, Validation F-beta: 0.1640\n",
      "========================================================\n",
      "SUPER Best model saved. Loss:0.4474, Score:0.1640\n",
      "========================================================\n",
      "Epoch 6/4000\n"
     ]
    },
    {
     "name": "stderr",
     "output_type": "stream",
     "text": [
      "Training: 100%|██████████| 480/480 [12:10<00:00,  1.52s/it, loss=0.434]\n",
      "Validation: 100%|██████████| 12/12 [00:08<00:00,  1.42it/s, loss=0.454]\n"
     ]
    },
    {
     "name": "stdout",
     "output_type": "stream",
     "text": [
      "Validation Dice Score\n",
      "Class 0: 0.9864, Class 1: 0.0885, Class 2: 0.0000, Class 3: 0.0665, Class 4: 0.3785, Class 5: 0.0895, Class 6: 0.3542, \n",
      "Validation F-beta Score\n",
      "Class 0: 0.9888, Class 1: 0.1224, Class 2: 0.3333, Class 3: 0.0507, Class 4: 0.4267, Class 5: 0.0705, Class 6: 0.4162, \n",
      "\n",
      "Overall Mean Dice Score: 0.1955\n",
      "Overall Mean F-beta Score: 0.2173\n",
      "\n",
      "Training Loss: 0.4383, Validation Loss: 0.4341, Validation F-beta: 0.2173\n",
      "========================================================\n",
      "SUPER Best model saved. Loss:0.4341, Score:0.2173\n",
      "========================================================\n",
      "Epoch 7/4000\n"
     ]
    },
    {
     "name": "stderr",
     "output_type": "stream",
     "text": [
      "Training: 100%|██████████| 480/480 [12:09<00:00,  1.52s/it, loss=0.453]\n",
      "Validation: 100%|██████████| 12/12 [00:08<00:00,  1.47it/s, loss=0.414]\n"
     ]
    },
    {
     "name": "stdout",
     "output_type": "stream",
     "text": [
      "Validation Dice Score\n",
      "Class 0: 0.9891, Class 1: 0.0192, Class 2: 0.0000, Class 3: 0.0192, Class 4: 0.3289, Class 5: 0.0856, Class 6: 0.5719, \n",
      "Validation F-beta Score\n",
      "Class 0: 0.9935, Class 1: 0.0120, Class 2: 0.2500, Class 3: 0.0131, Class 4: 0.3649, Class 5: 0.0571, Class 6: 0.5009, \n",
      "\n",
      "Overall Mean Dice Score: 0.2050\n",
      "Overall Mean F-beta Score: 0.1896\n",
      "\n",
      "Training Loss: 0.4279, Validation Loss: 0.4327, Validation F-beta: 0.1896\n",
      "Epoch 8/4000\n"
     ]
    },
    {
     "name": "stderr",
     "output_type": "stream",
     "text": [
      "Training: 100%|██████████| 480/480 [12:09<00:00,  1.52s/it, loss=0.426]\n",
      "Validation: 100%|██████████| 12/12 [00:08<00:00,  1.42it/s, loss=0.38] \n"
     ]
    },
    {
     "name": "stdout",
     "output_type": "stream",
     "text": [
      "Validation Dice Score\n",
      "Class 0: 0.9786, Class 1: 0.0934, Class 2: 0.0000, Class 3: 0.1970, Class 4: 0.3799, Class 5: 0.1560, Class 6: 0.4407, \n",
      "Validation F-beta Score\n",
      "Class 0: 0.9715, Class 1: 0.1185, Class 2: 0.1667, Class 3: 0.3197, Class 4: 0.4919, Class 5: 0.1526, Class 6: 0.4551, \n",
      "\n",
      "Overall Mean Dice Score: 0.2534\n",
      "Overall Mean F-beta Score: 0.3076\n",
      "\n",
      "Training Loss: 0.4218, Validation Loss: 0.4222, Validation F-beta: 0.3076\n",
      "========================================================\n",
      "SUPER Best model saved. Loss:0.4222, Score:0.3076\n",
      "========================================================\n",
      "Epoch 9/4000\n"
     ]
    },
    {
     "name": "stderr",
     "output_type": "stream",
     "text": [
      "Training: 100%|██████████| 480/480 [12:07<00:00,  1.52s/it, loss=0.42] \n",
      "Validation: 100%|██████████| 12/12 [00:08<00:00,  1.45it/s, loss=0.391]\n"
     ]
    },
    {
     "name": "stdout",
     "output_type": "stream",
     "text": [
      "Validation Dice Score\n",
      "Class 0: 0.9881, Class 1: 0.0737, Class 2: 0.0000, Class 3: 0.0976, Class 4: 0.2687, Class 5: 0.1849, Class 6: 0.5981, \n",
      "Validation F-beta Score\n",
      "Class 0: 0.9911, Class 1: 0.0722, Class 2: 0.0833, Class 3: 0.0728, Class 4: 0.2276, Class 5: 0.1533, Class 6: 0.5980, \n",
      "\n",
      "Overall Mean Dice Score: 0.2446\n",
      "Overall Mean F-beta Score: 0.2248\n",
      "\n",
      "Training Loss: 0.4180, Validation Loss: 0.4148, Validation F-beta: 0.2248\n",
      "Epoch 10/4000\n"
     ]
    },
    {
     "name": "stderr",
     "output_type": "stream",
     "text": [
      "Training: 100%|██████████| 480/480 [12:10<00:00,  1.52s/it, loss=0.401]\n",
      "Validation: 100%|██████████| 12/12 [00:08<00:00,  1.45it/s, loss=0.412]\n"
     ]
    },
    {
     "name": "stdout",
     "output_type": "stream",
     "text": [
      "Validation Dice Score\n",
      "Class 0: 0.9868, Class 1: 0.0976, Class 2: 0.0000, Class 3: 0.0690, Class 4: 0.2477, Class 5: 0.1854, Class 6: 0.3448, \n",
      "Validation F-beta Score\n",
      "Class 0: 0.9882, Class 1: 0.0816, Class 2: 0.1667, Class 3: 0.0536, Class 4: 0.3269, Class 5: 0.1292, Class 6: 0.4189, \n",
      "\n",
      "Overall Mean Dice Score: 0.1889\n",
      "Overall Mean F-beta Score: 0.2020\n",
      "\n",
      "Training Loss: 0.4147, Validation Loss: 0.4301, Validation F-beta: 0.2020\n",
      "Epoch 11/4000\n"
     ]
    },
    {
     "name": "stderr",
     "output_type": "stream",
     "text": [
      "Training: 100%|██████████| 480/480 [12:09<00:00,  1.52s/it, loss=0.393]\n",
      "Validation: 100%|██████████| 12/12 [00:08<00:00,  1.45it/s, loss=0.394]\n"
     ]
    },
    {
     "name": "stdout",
     "output_type": "stream",
     "text": [
      "Validation Dice Score\n",
      "Class 0: 0.9878, Class 1: 0.0971, Class 2: 0.0000, Class 3: 0.1343, Class 4: 0.2379, Class 5: 0.1749, Class 6: 0.4128, \n",
      "Validation F-beta Score\n",
      "Class 0: 0.9925, Class 1: 0.0957, Class 2: 0.5833, Class 3: 0.1224, Class 4: 0.1896, Class 5: 0.1336, Class 6: 0.4109, \n",
      "\n",
      "Overall Mean Dice Score: 0.2114\n",
      "Overall Mean F-beta Score: 0.1904\n",
      "\n",
      "Training Loss: 0.4112, Validation Loss: 0.4174, Validation F-beta: 0.1904\n",
      "Epoch 12/4000\n"
     ]
    },
    {
     "name": "stderr",
     "output_type": "stream",
     "text": [
      "Training: 100%|██████████| 480/480 [12:08<00:00,  1.52s/it, loss=0.382]\n",
      "Validation: 100%|██████████| 12/12 [00:08<00:00,  1.43it/s, loss=0.416]\n"
     ]
    },
    {
     "name": "stdout",
     "output_type": "stream",
     "text": [
      "Validation Dice Score\n",
      "Class 0: 0.9849, Class 1: 0.1577, Class 2: 0.0000, Class 3: 0.0961, Class 4: 0.3619, Class 5: 0.1764, Class 6: 0.4548, \n",
      "Validation F-beta Score\n",
      "Class 0: 0.9853, Class 1: 0.2175, Class 2: 0.2500, Class 3: 0.1020, Class 4: 0.4127, Class 5: 0.1368, Class 6: 0.4635, \n",
      "\n",
      "Overall Mean Dice Score: 0.2494\n",
      "Overall Mean F-beta Score: 0.2665\n",
      "\n",
      "Training Loss: 0.4113, Validation Loss: 0.4121, Validation F-beta: 0.2665\n",
      "Epoch 13/4000\n"
     ]
    },
    {
     "name": "stderr",
     "output_type": "stream",
     "text": [
      "Training: 100%|██████████| 480/480 [12:06<00:00,  1.51s/it, loss=0.403]\n",
      "Validation: 100%|██████████| 12/12 [00:08<00:00,  1.44it/s, loss=0.374]\n"
     ]
    },
    {
     "name": "stdout",
     "output_type": "stream",
     "text": [
      "Validation Dice Score\n",
      "Class 0: 0.9830, Class 1: 0.1384, Class 2: 0.0000, Class 3: 0.2277, Class 4: 0.3194, Class 5: 0.2276, Class 6: 0.4950, \n",
      "Validation F-beta Score\n",
      "Class 0: 0.9803, Class 1: 0.1556, Class 2: 0.3333, Class 3: 0.2626, Class 4: 0.3536, Class 5: 0.2299, Class 6: 0.4947, \n",
      "\n",
      "Overall Mean Dice Score: 0.2816\n",
      "Overall Mean F-beta Score: 0.2993\n",
      "\n",
      "Training Loss: 0.4066, Validation Loss: 0.4040, Validation F-beta: 0.2993\n",
      "Epoch 14/4000\n"
     ]
    },
    {
     "name": "stderr",
     "output_type": "stream",
     "text": [
      "Training: 100%|██████████| 480/480 [12:09<00:00,  1.52s/it, loss=0.37] \n",
      "Validation: 100%|██████████| 12/12 [00:08<00:00,  1.44it/s, loss=0.446]\n"
     ]
    },
    {
     "name": "stdout",
     "output_type": "stream",
     "text": [
      "Validation Dice Score\n",
      "Class 0: 0.9871, Class 1: 0.1542, Class 2: 0.0000, Class 3: 0.0764, Class 4: 0.5200, Class 5: 0.1548, Class 6: 0.4299, \n",
      "Validation F-beta Score\n",
      "Class 0: 0.9886, Class 1: 0.2598, Class 2: 0.2500, Class 3: 0.0515, Class 4: 0.5217, Class 5: 0.1242, Class 6: 0.4220, \n",
      "\n",
      "Overall Mean Dice Score: 0.2671\n",
      "Overall Mean F-beta Score: 0.2758\n",
      "\n",
      "Training Loss: 0.4004, Validation Loss: 0.4088, Validation F-beta: 0.2758\n",
      "Epoch 15/4000\n"
     ]
    },
    {
     "name": "stderr",
     "output_type": "stream",
     "text": [
      "Training: 100%|██████████| 480/480 [12:09<00:00,  1.52s/it, loss=0.397]\n",
      "Validation: 100%|██████████| 12/12 [00:08<00:00,  1.43it/s, loss=0.347]\n"
     ]
    },
    {
     "name": "stdout",
     "output_type": "stream",
     "text": [
      "Validation Dice Score\n",
      "Class 0: 0.9875, Class 1: 0.3235, Class 2: 0.0000, Class 3: 0.2845, Class 4: 0.5202, Class 5: 0.1306, Class 6: 0.4115, \n",
      "Validation F-beta Score\n",
      "Class 0: 0.9891, Class 1: 0.3878, Class 2: 0.2500, Class 3: 0.2932, Class 4: 0.5002, Class 5: 0.1084, Class 6: 0.3751, \n",
      "\n",
      "Overall Mean Dice Score: 0.3341\n",
      "Overall Mean F-beta Score: 0.3330\n",
      "\n",
      "Training Loss: 0.3974, Validation Loss: 0.3912, Validation F-beta: 0.3330\n",
      "========================================================\n",
      "SUPER Best model saved. Loss:0.3912, Score:0.3330\n",
      "========================================================\n",
      "Epoch 16/4000\n"
     ]
    },
    {
     "name": "stderr",
     "output_type": "stream",
     "text": [
      "Training: 100%|██████████| 480/480 [12:11<00:00,  1.52s/it, loss=0.4]  \n",
      "Validation: 100%|██████████| 12/12 [00:08<00:00,  1.43it/s, loss=0.415]\n"
     ]
    },
    {
     "name": "stdout",
     "output_type": "stream",
     "text": [
      "Validation Dice Score\n",
      "Class 0: 0.9906, Class 1: 0.2877, Class 2: 0.0000, Class 3: 0.1482, Class 4: 0.3776, Class 5: 0.0996, Class 6: 0.2959, \n",
      "Validation F-beta Score\n",
      "Class 0: 0.9939, Class 1: 0.3653, Class 2: 0.1667, Class 3: 0.1201, Class 4: 0.4268, Class 5: 0.0720, Class 6: 0.3476, \n",
      "\n",
      "Overall Mean Dice Score: 0.2418\n",
      "Overall Mean F-beta Score: 0.2664\n",
      "\n",
      "Training Loss: 0.3920, Validation Loss: 0.4126, Validation F-beta: 0.2664\n",
      "Epoch 17/4000\n"
     ]
    },
    {
     "name": "stderr",
     "output_type": "stream",
     "text": [
      "Training: 100%|██████████| 480/480 [12:09<00:00,  1.52s/it, loss=0.391]\n",
      "Validation: 100%|██████████| 12/12 [00:08<00:00,  1.45it/s, loss=0.402]\n"
     ]
    },
    {
     "name": "stdout",
     "output_type": "stream",
     "text": [
      "Validation Dice Score\n",
      "Class 0: 0.9874, Class 1: 0.2430, Class 2: 0.0000, Class 3: 0.1636, Class 4: 0.3529, Class 5: 0.1966, Class 6: 0.4687, \n",
      "Validation F-beta Score\n",
      "Class 0: 0.9907, Class 1: 0.3312, Class 2: 0.4167, Class 3: 0.1364, Class 4: 0.3312, Class 5: 0.1785, Class 6: 0.4548, \n",
      "\n",
      "Overall Mean Dice Score: 0.2850\n",
      "Overall Mean F-beta Score: 0.2864\n",
      "\n",
      "Training Loss: 0.3906, Validation Loss: 0.3986, Validation F-beta: 0.2864\n",
      "Epoch 18/4000\n"
     ]
    },
    {
     "name": "stderr",
     "output_type": "stream",
     "text": [
      "Training: 100%|██████████| 480/480 [12:11<00:00,  1.52s/it, loss=0.377]\n",
      "Validation: 100%|██████████| 12/12 [00:08<00:00,  1.47it/s, loss=0.322]\n"
     ]
    },
    {
     "name": "stdout",
     "output_type": "stream",
     "text": [
      "Validation Dice Score\n",
      "Class 0: 0.9859, Class 1: 0.3354, Class 2: 0.0000, Class 3: 0.2477, Class 4: 0.5574, Class 5: 0.2645, Class 6: 0.4249, \n",
      "Validation F-beta Score\n",
      "Class 0: 0.9838, Class 1: 0.3080, Class 2: 0.1667, Class 3: 0.1987, Class 4: 0.6404, Class 5: 0.2614, Class 6: 0.4348, \n",
      "\n",
      "Overall Mean Dice Score: 0.3660\n",
      "Overall Mean F-beta Score: 0.3687\n",
      "\n",
      "Training Loss: 0.3858, Validation Loss: 0.3808, Validation F-beta: 0.3687\n",
      "========================================================\n",
      "SUPER Best model saved. Loss:0.3808, Score:0.3687\n",
      "========================================================\n",
      "Epoch 19/4000\n"
     ]
    },
    {
     "name": "stderr",
     "output_type": "stream",
     "text": [
      "Training: 100%|██████████| 480/480 [12:09<00:00,  1.52s/it, loss=0.379]\n",
      "Validation: 100%|██████████| 12/12 [00:08<00:00,  1.43it/s, loss=0.354]\n"
     ]
    },
    {
     "name": "stdout",
     "output_type": "stream",
     "text": [
      "Validation Dice Score\n",
      "Class 0: 0.9881, Class 1: 0.4363, Class 2: 0.0000, Class 3: 0.2424, Class 4: 0.2618, Class 5: 0.2436, Class 6: 0.5459, \n",
      "Validation F-beta Score\n",
      "Class 0: 0.9893, Class 1: 0.4635, Class 2: 0.2500, Class 3: 0.2428, Class 4: 0.2415, Class 5: 0.2538, Class 6: 0.5637, \n",
      "\n",
      "Overall Mean Dice Score: 0.3460\n",
      "Overall Mean F-beta Score: 0.3530\n",
      "\n",
      "Training Loss: 0.3849, Validation Loss: 0.3857, Validation F-beta: 0.3530\n",
      "Epoch 20/4000\n"
     ]
    },
    {
     "name": "stderr",
     "output_type": "stream",
     "text": [
      "Training: 100%|██████████| 480/480 [12:09<00:00,  1.52s/it, loss=0.395]\n",
      "Validation: 100%|██████████| 12/12 [00:08<00:00,  1.44it/s, loss=0.377]\n"
     ]
    },
    {
     "name": "stdout",
     "output_type": "stream",
     "text": [
      "Validation Dice Score\n",
      "Class 0: 0.9905, Class 1: 0.3524, Class 2: 0.0000, Class 3: 0.1793, Class 4: 0.4730, Class 5: 0.2127, Class 6: 0.4014, \n",
      "Validation F-beta Score\n",
      "Class 0: 0.9939, Class 1: 0.3886, Class 2: 0.2500, Class 3: 0.1520, Class 4: 0.4262, Class 5: 0.1687, Class 6: 0.4398, \n",
      "\n",
      "Overall Mean Dice Score: 0.3238\n",
      "Overall Mean F-beta Score: 0.3150\n",
      "\n",
      "Training Loss: 0.3831, Validation Loss: 0.3873, Validation F-beta: 0.3150\n",
      "Epoch 21/4000\n"
     ]
    },
    {
     "name": "stderr",
     "output_type": "stream",
     "text": [
      "Training: 100%|██████████| 480/480 [12:10<00:00,  1.52s/it, loss=0.401]\n",
      "Validation: 100%|██████████| 12/12 [00:08<00:00,  1.45it/s, loss=0.412]\n"
     ]
    },
    {
     "name": "stdout",
     "output_type": "stream",
     "text": [
      "Validation Dice Score\n",
      "Class 0: 0.9925, Class 1: 0.4422, Class 2: 0.0000, Class 3: 0.0732, Class 4: 0.2800, Class 5: 0.2384, Class 6: 0.6052, \n",
      "Validation F-beta Score\n",
      "Class 0: 0.9970, Class 1: 0.4611, Class 2: 0.2500, Class 3: 0.1334, Class 4: 0.2052, Class 5: 0.1818, Class 6: 0.5732, \n",
      "\n",
      "Overall Mean Dice Score: 0.3278\n",
      "Overall Mean F-beta Score: 0.3110\n",
      "\n",
      "Training Loss: 0.3782, Validation Loss: 0.3770, Validation F-beta: 0.3110\n",
      "Epoch 22/4000\n"
     ]
    },
    {
     "name": "stderr",
     "output_type": "stream",
     "text": [
      "Training: 100%|██████████| 480/480 [12:10<00:00,  1.52s/it, loss=0.351]\n",
      "Validation: 100%|██████████| 12/12 [00:08<00:00,  1.47it/s, loss=0.44] \n"
     ]
    },
    {
     "name": "stdout",
     "output_type": "stream",
     "text": [
      "Validation Dice Score\n",
      "Class 0: 0.9900, Class 1: 0.3515, Class 2: 0.0004, Class 3: 0.1880, Class 4: 0.4123, Class 5: 0.2698, Class 6: 0.6331, \n",
      "Validation F-beta Score\n",
      "Class 0: 0.9946, Class 1: 0.3741, Class 2: 0.0835, Class 3: 0.1686, Class 4: 0.3373, Class 5: 0.2240, Class 6: 0.6088, \n",
      "\n",
      "Overall Mean Dice Score: 0.3709\n",
      "Overall Mean F-beta Score: 0.3426\n",
      "\n",
      "Training Loss: 0.3803, Validation Loss: 0.3786, Validation F-beta: 0.3426\n",
      "Epoch 23/4000\n"
     ]
    },
    {
     "name": "stderr",
     "output_type": "stream",
     "text": [
      "Training: 100%|██████████| 480/480 [12:09<00:00,  1.52s/it, loss=0.352]\n",
      "Validation: 100%|██████████| 12/12 [00:08<00:00,  1.43it/s, loss=0.383]\n"
     ]
    },
    {
     "name": "stdout",
     "output_type": "stream",
     "text": [
      "Validation Dice Score\n",
      "Class 0: 0.9892, Class 1: 0.3905, Class 2: 0.0000, Class 3: 0.2762, Class 4: 0.5123, Class 5: 0.1759, Class 6: 0.3952, \n",
      "Validation F-beta Score\n",
      "Class 0: 0.9922, Class 1: 0.4238, Class 2: 0.1667, Class 3: 0.2815, Class 4: 0.4554, Class 5: 0.1707, Class 6: 0.4147, \n",
      "\n",
      "Overall Mean Dice Score: 0.3500\n",
      "Overall Mean F-beta Score: 0.3492\n",
      "\n",
      "Training Loss: 0.3746, Validation Loss: 0.3743, Validation F-beta: 0.3492\n",
      "Epoch 24/4000\n"
     ]
    },
    {
     "name": "stderr",
     "output_type": "stream",
     "text": [
      "Training: 100%|██████████| 480/480 [12:09<00:00,  1.52s/it, loss=0.359]\n",
      "Validation: 100%|██████████| 12/12 [00:07<00:00,  1.51it/s, loss=0.316]\n"
     ]
    },
    {
     "name": "stdout",
     "output_type": "stream",
     "text": [
      "Validation Dice Score\n",
      "Class 0: 0.9902, Class 1: 0.3852, Class 2: 0.0122, Class 3: 0.2409, Class 4: 0.4783, Class 5: 0.2088, Class 6: 0.4778, \n",
      "Validation F-beta Score\n",
      "Class 0: 0.9908, Class 1: 0.4240, Class 2: 0.1737, Class 3: 0.2191, Class 4: 0.5240, Class 5: 0.1731, Class 6: 0.5158, \n",
      "\n",
      "Overall Mean Dice Score: 0.3582\n",
      "Overall Mean F-beta Score: 0.3712\n",
      "\n",
      "Training Loss: 0.3717, Validation Loss: 0.3736, Validation F-beta: 0.3712\n",
      "========================================================\n",
      "SUPER Best model saved. Loss:0.3736, Score:0.3712\n",
      "========================================================\n",
      "Epoch 25/4000\n"
     ]
    },
    {
     "name": "stderr",
     "output_type": "stream",
     "text": [
      "Training: 100%|██████████| 480/480 [12:09<00:00,  1.52s/it, loss=0.347]\n",
      "Validation: 100%|██████████| 12/12 [00:08<00:00,  1.45it/s, loss=0.381]\n"
     ]
    },
    {
     "name": "stdout",
     "output_type": "stream",
     "text": [
      "Validation Dice Score\n",
      "Class 0: 0.9910, Class 1: 0.5961, Class 2: 0.0030, Class 3: 0.1485, Class 4: 0.6465, Class 5: 0.2483, Class 6: 0.6110, \n",
      "Validation F-beta Score\n",
      "Class 0: 0.9934, Class 1: 0.6452, Class 2: 0.1684, Class 3: 0.1258, Class 4: 0.6288, Class 5: 0.2052, Class 6: 0.6495, \n",
      "\n",
      "Overall Mean Dice Score: 0.4501\n",
      "Overall Mean F-beta Score: 0.4509\n",
      "\n",
      "Training Loss: 0.3709, Validation Loss: 0.3608, Validation F-beta: 0.4509\n",
      "========================================================\n",
      "SUPER Best model saved. Loss:0.3608, Score:0.4509\n",
      "========================================================\n",
      "Epoch 26/4000\n"
     ]
    },
    {
     "name": "stderr",
     "output_type": "stream",
     "text": [
      "Training: 100%|██████████| 480/480 [12:10<00:00,  1.52s/it, loss=0.337]\n",
      "Validation: 100%|██████████| 12/12 [00:08<00:00,  1.42it/s, loss=0.374]\n"
     ]
    },
    {
     "name": "stdout",
     "output_type": "stream",
     "text": [
      "Validation Dice Score\n",
      "Class 0: 0.9903, Class 1: 0.2568, Class 2: 0.0115, Class 3: 0.2925, Class 4: 0.5644, Class 5: 0.2921, Class 6: 0.5855, \n",
      "Validation F-beta Score\n",
      "Class 0: 0.9893, Class 1: 0.3344, Class 2: 0.2565, Class 3: 0.2613, Class 4: 0.6277, Class 5: 0.2625, Class 6: 0.6695, \n",
      "\n",
      "Overall Mean Dice Score: 0.3983\n",
      "Overall Mean F-beta Score: 0.4311\n",
      "\n",
      "Training Loss: 0.3690, Validation Loss: 0.3665, Validation F-beta: 0.4311\n",
      "Epoch 27/4000\n"
     ]
    },
    {
     "name": "stderr",
     "output_type": "stream",
     "text": [
      "Training: 100%|██████████| 480/480 [12:10<00:00,  1.52s/it, loss=0.362]\n",
      "Validation: 100%|██████████| 12/12 [00:08<00:00,  1.44it/s, loss=0.319]\n"
     ]
    },
    {
     "name": "stdout",
     "output_type": "stream",
     "text": [
      "Validation Dice Score\n",
      "Class 0: 0.9904, Class 1: 0.4930, Class 2: 0.0051, Class 3: 0.2494, Class 4: 0.4311, Class 5: 0.2033, Class 6: 0.3692, \n",
      "Validation F-beta Score\n",
      "Class 0: 0.9910, Class 1: 0.5408, Class 2: 0.0029, Class 3: 0.2454, Class 4: 0.5050, Class 5: 0.2294, Class 6: 0.4150, \n",
      "\n",
      "Overall Mean Dice Score: 0.3492\n",
      "Overall Mean F-beta Score: 0.3871\n",
      "\n",
      "Training Loss: 0.3683, Validation Loss: 0.3733, Validation F-beta: 0.3871\n",
      "Epoch 28/4000\n"
     ]
    },
    {
     "name": "stderr",
     "output_type": "stream",
     "text": [
      "Training: 100%|██████████| 480/480 [12:10<00:00,  1.52s/it, loss=0.349]\n",
      "Validation: 100%|██████████| 12/12 [00:08<00:00,  1.45it/s, loss=0.412]\n"
     ]
    },
    {
     "name": "stdout",
     "output_type": "stream",
     "text": [
      "Validation Dice Score\n",
      "Class 0: 0.9899, Class 1: 0.5462, Class 2: 0.0093, Class 3: 0.1573, Class 4: 0.5347, Class 5: 0.2735, Class 6: 0.6982, \n",
      "Validation F-beta Score\n",
      "Class 0: 0.9926, Class 1: 0.5768, Class 2: 0.0053, Class 3: 0.2862, Class 4: 0.5371, Class 5: 0.2240, Class 6: 0.7656, \n",
      "\n",
      "Overall Mean Dice Score: 0.4420\n",
      "Overall Mean F-beta Score: 0.4779\n",
      "\n",
      "Training Loss: 0.3681, Validation Loss: 0.3679, Validation F-beta: 0.4779\n",
      "Epoch 29/4000\n"
     ]
    },
    {
     "name": "stderr",
     "output_type": "stream",
     "text": [
      "Training: 100%|██████████| 480/480 [12:07<00:00,  1.52s/it, loss=0.363]\n",
      "Validation: 100%|██████████| 12/12 [00:08<00:00,  1.43it/s, loss=0.366]\n"
     ]
    },
    {
     "name": "stdout",
     "output_type": "stream",
     "text": [
      "Validation Dice Score\n",
      "Class 0: 0.9924, Class 1: 0.3415, Class 2: 0.0098, Class 3: 0.2115, Class 4: 0.5832, Class 5: 0.2733, Class 6: 0.6142, \n",
      "Validation F-beta Score\n",
      "Class 0: 0.9942, Class 1: 0.3731, Class 2: 0.1724, Class 3: 0.1505, Class 4: 0.6258, Class 5: 0.2308, Class 6: 0.6446, \n",
      "\n",
      "Overall Mean Dice Score: 0.4047\n",
      "Overall Mean F-beta Score: 0.4050\n",
      "\n",
      "Training Loss: 0.3667, Validation Loss: 0.3658, Validation F-beta: 0.4050\n",
      "Epoch 30/4000\n"
     ]
    },
    {
     "name": "stderr",
     "output_type": "stream",
     "text": [
      "Training: 100%|██████████| 480/480 [12:10<00:00,  1.52s/it, loss=0.335]\n",
      "Validation: 100%|██████████| 12/12 [00:08<00:00,  1.41it/s, loss=0.378]\n"
     ]
    },
    {
     "name": "stdout",
     "output_type": "stream",
     "text": [
      "Validation Dice Score\n",
      "Class 0: 0.9902, Class 1: 0.4695, Class 2: 0.0385, Class 3: 0.2752, Class 4: 0.4257, Class 5: 0.2408, Class 6: 0.4923, \n",
      "Validation F-beta Score\n",
      "Class 0: 0.9946, Class 1: 0.5289, Class 2: 0.0237, Class 3: 0.2212, Class 4: 0.3343, Class 5: 0.2199, Class 6: 0.5833, \n",
      "\n",
      "Overall Mean Dice Score: 0.3807\n",
      "Overall Mean F-beta Score: 0.3775\n",
      "\n",
      "Training Loss: 0.3615, Validation Loss: 0.3809, Validation F-beta: 0.3775\n",
      "Epoch 31/4000\n"
     ]
    },
    {
     "name": "stderr",
     "output_type": "stream",
     "text": [
      "Training: 100%|██████████| 480/480 [12:12<00:00,  1.53s/it, loss=0.324]\n",
      "Validation: 100%|██████████| 12/12 [00:08<00:00,  1.43it/s, loss=0.382]\n"
     ]
    },
    {
     "name": "stdout",
     "output_type": "stream",
     "text": [
      "Validation Dice Score\n",
      "Class 0: 0.9897, Class 1: 0.4508, Class 2: 0.0001, Class 3: 0.2063, Class 4: 0.3836, Class 5: 0.2505, Class 6: 0.3125, \n",
      "Validation F-beta Score\n",
      "Class 0: 0.9939, Class 1: 0.5064, Class 2: 0.4167, Class 3: 0.1512, Class 4: 0.3867, Class 5: 0.2309, Class 6: 0.3669, \n",
      "\n",
      "Overall Mean Dice Score: 0.3208\n",
      "Overall Mean F-beta Score: 0.3284\n",
      "\n",
      "Training Loss: 0.3666, Validation Loss: 0.3864, Validation F-beta: 0.3284\n",
      "Epoch 32/4000\n"
     ]
    },
    {
     "name": "stderr",
     "output_type": "stream",
     "text": [
      "Training: 100%|██████████| 480/480 [12:10<00:00,  1.52s/it, loss=0.327]\n",
      "Validation: 100%|██████████| 12/12 [00:08<00:00,  1.44it/s, loss=0.273]\n"
     ]
    },
    {
     "name": "stdout",
     "output_type": "stream",
     "text": [
      "Validation Dice Score\n",
      "Class 0: 0.9899, Class 1: 0.4548, Class 2: 0.0133, Class 3: 0.1864, Class 4: 0.3576, Class 5: 0.2324, Class 6: 0.4537, \n",
      "Validation F-beta Score\n",
      "Class 0: 0.9912, Class 1: 0.5237, Class 2: 0.2583, Class 3: 0.1812, Class 4: 0.3772, Class 5: 0.2145, Class 6: 0.4625, \n",
      "\n",
      "Overall Mean Dice Score: 0.3370\n",
      "Overall Mean F-beta Score: 0.3518\n",
      "\n",
      "Training Loss: 0.3635, Validation Loss: 0.3786, Validation F-beta: 0.3518\n",
      "Epoch 33/4000\n"
     ]
    },
    {
     "name": "stderr",
     "output_type": "stream",
     "text": [
      "Training: 100%|██████████| 480/480 [12:09<00:00,  1.52s/it, loss=0.371]\n",
      "Validation: 100%|██████████| 12/12 [00:08<00:00,  1.41it/s, loss=0.385]\n"
     ]
    },
    {
     "name": "stdout",
     "output_type": "stream",
     "text": [
      "Validation Dice Score\n",
      "Class 0: 0.9909, Class 1: 0.5215, Class 2: 0.0094, Class 3: 0.1629, Class 4: 0.4158, Class 5: 0.3068, Class 6: 0.4260, \n",
      "Validation F-beta Score\n",
      "Class 0: 0.9955, Class 1: 0.6800, Class 2: 0.2562, Class 3: 0.1237, Class 4: 0.3247, Class 5: 0.2653, Class 6: 0.5706, \n",
      "\n",
      "Overall Mean Dice Score: 0.3666\n",
      "Overall Mean F-beta Score: 0.3929\n",
      "\n",
      "Training Loss: 0.3631, Validation Loss: 0.3731, Validation F-beta: 0.3929\n",
      "Epoch 34/4000\n"
     ]
    },
    {
     "name": "stderr",
     "output_type": "stream",
     "text": [
      "Training: 100%|██████████| 480/480 [12:11<00:00,  1.52s/it, loss=0.365]\n",
      "Validation: 100%|██████████| 12/12 [00:08<00:00,  1.40it/s, loss=0.327]\n"
     ]
    },
    {
     "name": "stdout",
     "output_type": "stream",
     "text": [
      "Validation Dice Score\n",
      "Class 0: 0.9887, Class 1: 0.3268, Class 2: 0.0333, Class 3: 0.1693, Class 4: 0.5433, Class 5: 0.2989, Class 6: 0.6563, \n",
      "Validation F-beta Score\n",
      "Class 0: 0.9915, Class 1: 0.4757, Class 2: 0.0213, Class 3: 0.1363, Class 4: 0.4817, Class 5: 0.2891, Class 6: 0.7133, \n",
      "\n",
      "Overall Mean Dice Score: 0.3989\n",
      "Overall Mean F-beta Score: 0.4192\n",
      "\n",
      "Training Loss: 0.3622, Validation Loss: 0.3714, Validation F-beta: 0.4192\n",
      "Epoch 35/4000\n"
     ]
    },
    {
     "name": "stderr",
     "output_type": "stream",
     "text": [
      "Training: 100%|██████████| 480/480 [12:10<00:00,  1.52s/it, loss=0.345]\n",
      "Validation: 100%|██████████| 12/12 [00:08<00:00,  1.44it/s, loss=0.417]\n"
     ]
    },
    {
     "name": "stdout",
     "output_type": "stream",
     "text": [
      "Validation Dice Score\n",
      "Class 0: 0.9902, Class 1: 0.5270, Class 2: 0.0031, Class 3: 0.1669, Class 4: 0.4912, Class 5: 0.2624, Class 6: 0.5025, \n",
      "Validation F-beta Score\n",
      "Class 0: 0.9924, Class 1: 0.7249, Class 2: 0.0017, Class 3: 0.4330, Class 4: 0.4527, Class 5: 0.2234, Class 6: 0.5972, \n",
      "\n",
      "Overall Mean Dice Score: 0.3900\n",
      "Overall Mean F-beta Score: 0.4863\n",
      "\n",
      "Training Loss: 0.3605, Validation Loss: 0.3608, Validation F-beta: 0.4863\n",
      "========================================================\n",
      "SUPER Best model saved. Loss:0.3608, Score:0.4863\n",
      "========================================================\n",
      "Epoch 36/4000\n"
     ]
    },
    {
     "name": "stderr",
     "output_type": "stream",
     "text": [
      "Training: 100%|██████████| 480/480 [12:11<00:00,  1.52s/it, loss=0.39] \n",
      "Validation: 100%|██████████| 12/12 [00:08<00:00,  1.43it/s, loss=0.322]\n"
     ]
    },
    {
     "name": "stdout",
     "output_type": "stream",
     "text": [
      "Validation Dice Score\n",
      "Class 0: 0.9910, Class 1: 0.5220, Class 2: 0.0216, Class 3: 0.2810, Class 4: 0.4807, Class 5: 0.2715, Class 6: 0.4907, \n",
      "Validation F-beta Score\n",
      "Class 0: 0.9951, Class 1: 0.5243, Class 2: 0.0188, Class 3: 0.2335, Class 4: 0.4688, Class 5: 0.2267, Class 6: 0.5620, \n",
      "\n",
      "Overall Mean Dice Score: 0.4092\n",
      "Overall Mean F-beta Score: 0.4030\n",
      "\n",
      "Training Loss: 0.3570, Validation Loss: 0.3620, Validation F-beta: 0.4030\n",
      "Epoch 37/4000\n"
     ]
    },
    {
     "name": "stderr",
     "output_type": "stream",
     "text": [
      "Training: 100%|██████████| 480/480 [12:11<00:00,  1.52s/it, loss=0.402]\n",
      "Validation: 100%|██████████| 12/12 [00:08<00:00,  1.41it/s, loss=0.272]\n"
     ]
    },
    {
     "name": "stdout",
     "output_type": "stream",
     "text": [
      "Validation Dice Score\n",
      "Class 0: 0.9874, Class 1: 0.4012, Class 2: 0.0299, Class 3: 0.3141, Class 4: 0.4408, Class 5: 0.2927, Class 6: 0.4939, \n",
      "Validation F-beta Score\n",
      "Class 0: 0.9898, Class 1: 0.4351, Class 2: 0.0218, Class 3: 0.2811, Class 4: 0.4329, Class 5: 0.2237, Class 6: 0.4854, \n",
      "\n",
      "Overall Mean Dice Score: 0.3885\n",
      "Overall Mean F-beta Score: 0.3716\n",
      "\n",
      "Training Loss: 0.3569, Validation Loss: 0.3641, Validation F-beta: 0.3716\n",
      "Epoch 38/4000\n"
     ]
    },
    {
     "name": "stderr",
     "output_type": "stream",
     "text": [
      "Training: 100%|██████████| 480/480 [12:11<00:00,  1.52s/it, loss=0.344]\n",
      "Validation: 100%|██████████| 12/12 [00:08<00:00,  1.44it/s, loss=0.275]\n"
     ]
    },
    {
     "name": "stdout",
     "output_type": "stream",
     "text": [
      "Validation Dice Score\n",
      "Class 0: 0.9908, Class 1: 0.6259, Class 2: 0.0573, Class 3: 0.2555, Class 4: 0.4896, Class 5: 0.3523, Class 6: 0.7663, \n",
      "Validation F-beta Score\n",
      "Class 0: 0.9928, Class 1: 0.6551, Class 2: 0.0791, Class 3: 0.2137, Class 4: 0.5267, Class 5: 0.2811, Class 6: 0.7649, \n",
      "\n",
      "Overall Mean Dice Score: 0.4979\n",
      "Overall Mean F-beta Score: 0.4883\n",
      "\n",
      "Training Loss: 0.3526, Validation Loss: 0.3382, Validation F-beta: 0.4883\n",
      "========================================================\n",
      "SUPER Best model saved. Loss:0.3382, Score:0.4883\n",
      "========================================================\n",
      "Epoch 39/4000\n"
     ]
    },
    {
     "name": "stderr",
     "output_type": "stream",
     "text": [
      "Training: 100%|██████████| 480/480 [12:11<00:00,  1.52s/it, loss=0.297]\n",
      "Validation: 100%|██████████| 12/12 [00:08<00:00,  1.46it/s, loss=0.392]\n"
     ]
    },
    {
     "name": "stdout",
     "output_type": "stream",
     "text": [
      "Validation Dice Score\n",
      "Class 0: 0.9912, Class 1: 0.6073, Class 2: 0.0225, Class 3: 0.3082, Class 4: 0.5459, Class 5: 0.3505, Class 6: 0.5392, \n",
      "Validation F-beta Score\n",
      "Class 0: 0.9925, Class 1: 0.5785, Class 2: 0.0132, Class 3: 0.3243, Class 4: 0.5386, Class 5: 0.3211, Class 6: 0.6210, \n",
      "\n",
      "Overall Mean Dice Score: 0.4702\n",
      "Overall Mean F-beta Score: 0.4767\n",
      "\n",
      "Training Loss: 0.3551, Validation Loss: 0.3465, Validation F-beta: 0.4767\n",
      "Epoch 40/4000\n"
     ]
    },
    {
     "name": "stderr",
     "output_type": "stream",
     "text": [
      "Training: 100%|██████████| 480/480 [12:09<00:00,  1.52s/it, loss=0.294]\n",
      "Validation: 100%|██████████| 12/12 [00:08<00:00,  1.41it/s, loss=0.325]\n"
     ]
    },
    {
     "name": "stdout",
     "output_type": "stream",
     "text": [
      "Validation Dice Score\n",
      "Class 0: 0.9913, Class 1: 0.5063, Class 2: 0.0012, Class 3: 0.1631, Class 4: 0.5228, Class 5: 0.3626, Class 6: 0.4675, \n",
      "Validation F-beta Score\n",
      "Class 0: 0.9932, Class 1: 0.5308, Class 2: 0.0007, Class 3: 0.3658, Class 4: 0.5347, Class 5: 0.4224, Class 6: 0.5365, \n",
      "\n",
      "Overall Mean Dice Score: 0.4044\n",
      "Overall Mean F-beta Score: 0.4781\n",
      "\n",
      "Training Loss: 0.3545, Validation Loss: 0.3589, Validation F-beta: 0.4781\n",
      "Epoch 41/4000\n"
     ]
    },
    {
     "name": "stderr",
     "output_type": "stream",
     "text": [
      "Training: 100%|██████████| 480/480 [12:10<00:00,  1.52s/it, loss=0.372]\n",
      "Validation: 100%|██████████| 12/12 [00:08<00:00,  1.42it/s, loss=0.321]\n"
     ]
    },
    {
     "name": "stdout",
     "output_type": "stream",
     "text": [
      "Validation Dice Score\n",
      "Class 0: 0.9904, Class 1: 0.4482, Class 2: 0.1005, Class 3: 0.2046, Class 4: 0.5179, Class 5: 0.4095, Class 6: 0.5892, \n",
      "Validation F-beta Score\n",
      "Class 0: 0.9934, Class 1: 0.6024, Class 2: 0.1250, Class 3: 0.1702, Class 4: 0.4518, Class 5: 0.4062, Class 6: 0.6234, \n",
      "\n",
      "Overall Mean Dice Score: 0.4339\n",
      "Overall Mean F-beta Score: 0.4508\n",
      "\n",
      "Training Loss: 0.3487, Validation Loss: 0.3506, Validation F-beta: 0.4508\n",
      "Epoch 42/4000\n"
     ]
    },
    {
     "name": "stderr",
     "output_type": "stream",
     "text": [
      "Training: 100%|██████████| 480/480 [12:09<00:00,  1.52s/it, loss=0.345]\n",
      "Validation: 100%|██████████| 12/12 [00:08<00:00,  1.43it/s, loss=0.393]\n"
     ]
    },
    {
     "name": "stdout",
     "output_type": "stream",
     "text": [
      "Validation Dice Score\n",
      "Class 0: 0.9900, Class 1: 0.4761, Class 2: 0.0345, Class 3: 0.1874, Class 4: 0.5695, Class 5: 0.2502, Class 6: 0.5082, \n",
      "Validation F-beta Score\n",
      "Class 0: 0.9923, Class 1: 0.6240, Class 2: 0.1207, Class 3: 0.2659, Class 4: 0.6035, Class 5: 0.2014, Class 6: 0.5815, \n",
      "\n",
      "Overall Mean Dice Score: 0.3983\n",
      "Overall Mean F-beta Score: 0.4553\n",
      "\n",
      "Training Loss: 0.3488, Validation Loss: 0.3700, Validation F-beta: 0.4553\n",
      "Epoch 43/4000\n"
     ]
    },
    {
     "name": "stderr",
     "output_type": "stream",
     "text": [
      "Training: 100%|██████████| 480/480 [12:10<00:00,  1.52s/it, loss=0.347]\n",
      "Validation: 100%|██████████| 12/12 [00:08<00:00,  1.45it/s, loss=0.371]\n"
     ]
    },
    {
     "name": "stdout",
     "output_type": "stream",
     "text": [
      "Validation Dice Score\n",
      "Class 0: 0.9895, Class 1: 0.5984, Class 2: 0.0130, Class 3: 0.2186, Class 4: 0.6457, Class 5: 0.3056, Class 6: 0.6362, \n",
      "Validation F-beta Score\n",
      "Class 0: 0.9921, Class 1: 0.6305, Class 2: 0.0918, Class 3: 0.1968, Class 4: 0.6529, Class 5: 0.2936, Class 6: 0.6748, \n",
      "\n",
      "Overall Mean Dice Score: 0.4809\n",
      "Overall Mean F-beta Score: 0.4897\n",
      "\n",
      "Training Loss: 0.3452, Validation Loss: 0.3518, Validation F-beta: 0.4897\n",
      "Epoch 44/4000\n"
     ]
    },
    {
     "name": "stderr",
     "output_type": "stream",
     "text": [
      "Training: 100%|██████████| 480/480 [12:09<00:00,  1.52s/it, loss=0.302]\n",
      "Validation: 100%|██████████| 12/12 [00:08<00:00,  1.44it/s, loss=0.311]\n"
     ]
    },
    {
     "name": "stdout",
     "output_type": "stream",
     "text": [
      "Validation Dice Score\n",
      "Class 0: 0.9898, Class 1: 0.7118, Class 2: 0.1301, Class 3: 0.2970, Class 4: 0.5121, Class 5: 0.3361, Class 6: 0.6411, \n",
      "Validation F-beta Score\n",
      "Class 0: 0.9943, Class 1: 0.7390, Class 2: 0.1490, Class 3: 0.3587, Class 4: 0.4369, Class 5: 0.2653, Class 6: 0.6612, \n",
      "\n",
      "Overall Mean Dice Score: 0.4996\n",
      "Overall Mean F-beta Score: 0.4922\n",
      "\n",
      "Training Loss: 0.3468, Validation Loss: 0.3345, Validation F-beta: 0.4922\n",
      "========================================================\n",
      "SUPER Best model saved. Loss:0.3345, Score:0.4922\n",
      "========================================================\n",
      "Epoch 45/4000\n"
     ]
    },
    {
     "name": "stderr",
     "output_type": "stream",
     "text": [
      "Training: 100%|██████████| 480/480 [12:09<00:00,  1.52s/it, loss=0.338]\n",
      "Validation: 100%|██████████| 12/12 [00:08<00:00,  1.43it/s, loss=0.389]\n"
     ]
    },
    {
     "name": "stdout",
     "output_type": "stream",
     "text": [
      "Validation Dice Score\n",
      "Class 0: 0.9895, Class 1: 0.5592, Class 2: 0.0273, Class 3: 0.1935, Class 4: 0.5966, Class 5: 0.3299, Class 6: 0.5224, \n",
      "Validation F-beta Score\n",
      "Class 0: 0.9914, Class 1: 0.6457, Class 2: 0.0225, Class 3: 0.1618, Class 4: 0.6333, Class 5: 0.2921, Class 6: 0.5906, \n",
      "\n",
      "Overall Mean Dice Score: 0.4403\n",
      "Overall Mean F-beta Score: 0.4647\n",
      "\n",
      "Training Loss: 0.3452, Validation Loss: 0.3531, Validation F-beta: 0.4647\n",
      "Epoch 46/4000\n"
     ]
    },
    {
     "name": "stderr",
     "output_type": "stream",
     "text": [
      "Training: 100%|██████████| 480/480 [12:09<00:00,  1.52s/it, loss=0.364]\n",
      "Validation: 100%|██████████| 12/12 [00:08<00:00,  1.40it/s, loss=0.362]\n"
     ]
    },
    {
     "name": "stdout",
     "output_type": "stream",
     "text": [
      "Validation Dice Score\n",
      "Class 0: 0.9913, Class 1: 0.5225, Class 2: 0.0894, Class 3: 0.2267, Class 4: 0.6958, Class 5: 0.3816, Class 6: 0.3395, \n",
      "Validation F-beta Score\n",
      "Class 0: 0.9931, Class 1: 0.5881, Class 2: 0.0737, Class 3: 0.2183, Class 4: 0.6451, Class 5: 0.3668, Class 6: 0.3884, \n",
      "\n",
      "Overall Mean Dice Score: 0.4332\n",
      "Overall Mean F-beta Score: 0.4413\n",
      "\n",
      "Training Loss: 0.3464, Validation Loss: 0.3444, Validation F-beta: 0.4413\n",
      "Epoch 47/4000\n"
     ]
    },
    {
     "name": "stderr",
     "output_type": "stream",
     "text": [
      "Training: 100%|██████████| 480/480 [12:08<00:00,  1.52s/it, loss=0.332]\n",
      "Validation: 100%|██████████| 12/12 [00:08<00:00,  1.45it/s, loss=0.412]\n"
     ]
    },
    {
     "name": "stdout",
     "output_type": "stream",
     "text": [
      "Validation Dice Score\n",
      "Class 0: 0.9903, Class 1: 0.5005, Class 2: 0.0155, Class 3: 0.1311, Class 4: 0.6347, Class 5: 0.3955, Class 6: 0.4094, \n",
      "Validation F-beta Score\n",
      "Class 0: 0.9952, Class 1: 0.6954, Class 2: 0.0941, Class 3: 0.1871, Class 4: 0.5556, Class 5: 0.3007, Class 6: 0.4785, \n",
      "\n",
      "Overall Mean Dice Score: 0.4142\n",
      "Overall Mean F-beta Score: 0.4434\n",
      "\n",
      "Training Loss: 0.3400, Validation Loss: 0.3538, Validation F-beta: 0.4434\n",
      "Epoch 48/4000\n"
     ]
    },
    {
     "name": "stderr",
     "output_type": "stream",
     "text": [
      "Training: 100%|██████████| 480/480 [12:09<00:00,  1.52s/it, loss=0.359]\n",
      "Validation: 100%|██████████| 12/12 [00:08<00:00,  1.45it/s, loss=0.443]\n"
     ]
    },
    {
     "name": "stdout",
     "output_type": "stream",
     "text": [
      "Validation Dice Score\n",
      "Class 0: 0.9907, Class 1: 0.4939, Class 2: 0.1045, Class 3: 0.2470, Class 4: 0.5552, Class 5: 0.2902, Class 6: 0.7093, \n",
      "Validation F-beta Score\n",
      "Class 0: 0.9927, Class 1: 0.5707, Class 2: 0.0930, Class 3: 0.3494, Class 4: 0.5426, Class 5: 0.2274, Class 6: 0.7099, \n",
      "\n",
      "Overall Mean Dice Score: 0.4591\n",
      "Overall Mean F-beta Score: 0.4800\n",
      "\n",
      "Training Loss: 0.3401, Validation Loss: 0.3396, Validation F-beta: 0.4800\n",
      "Epoch 49/4000\n"
     ]
    },
    {
     "name": "stderr",
     "output_type": "stream",
     "text": [
      "Training: 100%|██████████| 480/480 [12:10<00:00,  1.52s/it, loss=0.362]\n",
      "Validation: 100%|██████████| 12/12 [00:08<00:00,  1.44it/s, loss=0.404]\n"
     ]
    },
    {
     "name": "stdout",
     "output_type": "stream",
     "text": [
      "Validation Dice Score\n",
      "Class 0: 0.9909, Class 1: 0.4433, Class 2: 0.0440, Class 3: 0.2689, Class 4: 0.5777, Class 5: 0.3651, Class 6: 0.6560, \n",
      "Validation F-beta Score\n",
      "Class 0: 0.9921, Class 1: 0.4942, Class 2: 0.1197, Class 3: 0.2680, Class 4: 0.5615, Class 5: 0.3870, Class 6: 0.8121, \n",
      "\n",
      "Overall Mean Dice Score: 0.4622\n",
      "Overall Mean F-beta Score: 0.5046\n",
      "\n",
      "Training Loss: 0.3403, Validation Loss: 0.3455, Validation F-beta: 0.5046\n",
      "Epoch 50/4000\n"
     ]
    },
    {
     "name": "stderr",
     "output_type": "stream",
     "text": [
      "Training: 100%|██████████| 480/480 [12:08<00:00,  1.52s/it, loss=0.373]\n",
      "Validation: 100%|██████████| 12/12 [00:08<00:00,  1.43it/s, loss=0.335]\n"
     ]
    },
    {
     "name": "stdout",
     "output_type": "stream",
     "text": [
      "Validation Dice Score\n",
      "Class 0: 0.9888, Class 1: 0.4413, Class 2: 0.0759, Class 3: 0.1910, Class 4: 0.6347, Class 5: 0.2976, Class 6: 0.5663, \n",
      "Validation F-beta Score\n",
      "Class 0: 0.9938, Class 1: 0.4488, Class 2: 0.0598, Class 3: 0.1935, Class 4: 0.5530, Class 5: 0.2693, Class 6: 0.6146, \n",
      "\n",
      "Overall Mean Dice Score: 0.4262\n",
      "Overall Mean F-beta Score: 0.4159\n",
      "\n",
      "Training Loss: 0.3387, Validation Loss: 0.3575, Validation F-beta: 0.4159\n",
      "Epoch 51/4000\n"
     ]
    },
    {
     "name": "stderr",
     "output_type": "stream",
     "text": [
      "Training: 100%|██████████| 480/480 [12:07<00:00,  1.52s/it, loss=0.368]\n",
      "Validation: 100%|██████████| 12/12 [00:08<00:00,  1.43it/s, loss=0.434]\n"
     ]
    },
    {
     "name": "stdout",
     "output_type": "stream",
     "text": [
      "Validation Dice Score\n",
      "Class 0: 0.9926, Class 1: 0.5585, Class 2: 0.1472, Class 3: 0.4021, Class 4: 0.5221, Class 5: 0.2742, Class 6: 0.4808, \n",
      "Validation F-beta Score\n",
      "Class 0: 0.9945, Class 1: 0.7406, Class 2: 0.1396, Class 3: 0.3973, Class 4: 0.5430, Class 5: 0.2712, Class 6: 0.5065, \n",
      "\n",
      "Overall Mean Dice Score: 0.4475\n",
      "Overall Mean F-beta Score: 0.4917\n",
      "\n",
      "Training Loss: 0.3386, Validation Loss: 0.3562, Validation F-beta: 0.4917\n",
      "Epoch 52/4000\n"
     ]
    },
    {
     "name": "stderr",
     "output_type": "stream",
     "text": [
      "Training: 100%|██████████| 480/480 [12:08<00:00,  1.52s/it, loss=0.345]\n",
      "Validation: 100%|██████████| 12/12 [00:08<00:00,  1.45it/s, loss=0.327]\n"
     ]
    },
    {
     "name": "stdout",
     "output_type": "stream",
     "text": [
      "Validation Dice Score\n",
      "Class 0: 0.9892, Class 1: 0.6021, Class 2: 0.1636, Class 3: 0.3708, Class 4: 0.4824, Class 5: 0.3497, Class 6: 0.5761, \n",
      "Validation F-beta Score\n",
      "Class 0: 0.9947, Class 1: 0.5932, Class 2: 0.1948, Class 3: 0.3477, Class 4: 0.5140, Class 5: 0.2729, Class 6: 0.6387, \n",
      "\n",
      "Overall Mean Dice Score: 0.4762\n",
      "Overall Mean F-beta Score: 0.4733\n",
      "\n",
      "Training Loss: 0.3400, Validation Loss: 0.3543, Validation F-beta: 0.4733\n",
      "Epoch 53/4000\n"
     ]
    },
    {
     "name": "stderr",
     "output_type": "stream",
     "text": [
      "Training: 100%|██████████| 480/480 [12:10<00:00,  1.52s/it, loss=0.31] \n",
      "Validation: 100%|██████████| 12/12 [00:08<00:00,  1.43it/s, loss=0.322]\n"
     ]
    },
    {
     "name": "stdout",
     "output_type": "stream",
     "text": [
      "Validation Dice Score\n",
      "Class 0: 0.9920, Class 1: 0.4630, Class 2: 0.0094, Class 3: 0.2354, Class 4: 0.5711, Class 5: 0.5091, Class 6: 0.5622, \n",
      "Validation F-beta Score\n",
      "Class 0: 0.9932, Class 1: 0.5113, Class 2: 0.0891, Class 3: 0.1857, Class 4: 0.5580, Class 5: 0.5101, Class 6: 0.7842, \n",
      "\n",
      "Overall Mean Dice Score: 0.4682\n",
      "Overall Mean F-beta Score: 0.5099\n",
      "\n",
      "Training Loss: 0.3380, Validation Loss: 0.3405, Validation F-beta: 0.5099\n",
      "Epoch 54/4000\n"
     ]
    },
    {
     "name": "stderr",
     "output_type": "stream",
     "text": [
      "Training: 100%|██████████| 480/480 [12:09<00:00,  1.52s/it, loss=0.358]\n",
      "Validation: 100%|██████████| 12/12 [00:08<00:00,  1.44it/s, loss=0.4]  \n"
     ]
    },
    {
     "name": "stdout",
     "output_type": "stream",
     "text": [
      "Validation Dice Score\n",
      "Class 0: 0.9911, Class 1: 0.5969, Class 2: 0.1428, Class 3: 0.2112, Class 4: 0.4779, Class 5: 0.3099, Class 6: 0.5594, \n",
      "Validation F-beta Score\n",
      "Class 0: 0.9939, Class 1: 0.5988, Class 2: 0.2467, Class 3: 0.1970, Class 4: 0.5189, Class 5: 0.2335, Class 6: 0.5783, \n",
      "\n",
      "Overall Mean Dice Score: 0.4310\n",
      "Overall Mean F-beta Score: 0.4253\n",
      "\n",
      "Training Loss: 0.3361, Validation Loss: 0.3496, Validation F-beta: 0.4253\n",
      "Epoch 55/4000\n"
     ]
    },
    {
     "name": "stderr",
     "output_type": "stream",
     "text": [
      "Training: 100%|██████████| 480/480 [12:10<00:00,  1.52s/it, loss=0.311]\n",
      "Validation: 100%|██████████| 12/12 [00:08<00:00,  1.46it/s, loss=0.36] \n"
     ]
    },
    {
     "name": "stdout",
     "output_type": "stream",
     "text": [
      "Validation Dice Score\n",
      "Class 0: 0.9919, Class 1: 0.5234, Class 2: 0.1115, Class 3: 0.3709, Class 4: 0.4466, Class 5: 0.3853, Class 6: 0.6328, \n",
      "Validation F-beta Score\n",
      "Class 0: 0.9946, Class 1: 0.5704, Class 2: 0.1041, Class 3: 0.4069, Class 4: 0.3735, Class 5: 0.3189, Class 6: 0.7051, \n",
      "\n",
      "Overall Mean Dice Score: 0.4718\n",
      "Overall Mean F-beta Score: 0.4749\n",
      "\n",
      "Training Loss: 0.3382, Validation Loss: 0.3386, Validation F-beta: 0.4749\n",
      "Epoch 56/4000\n"
     ]
    },
    {
     "name": "stderr",
     "output_type": "stream",
     "text": [
      "Training: 100%|██████████| 480/480 [12:10<00:00,  1.52s/it, loss=0.313]\n",
      "Validation: 100%|██████████| 12/12 [00:08<00:00,  1.47it/s, loss=0.371]\n"
     ]
    },
    {
     "name": "stdout",
     "output_type": "stream",
     "text": [
      "Validation Dice Score\n",
      "Class 0: 0.9905, Class 1: 0.4747, Class 2: 0.0665, Class 3: 0.2115, Class 4: 0.5526, Class 5: 0.4278, Class 6: 0.6124, \n",
      "Validation F-beta Score\n",
      "Class 0: 0.9917, Class 1: 0.5299, Class 2: 0.0555, Class 3: 0.2055, Class 4: 0.5409, Class 5: 0.4054, Class 6: 0.6662, \n",
      "\n",
      "Overall Mean Dice Score: 0.4558\n",
      "Overall Mean F-beta Score: 0.4696\n",
      "\n",
      "Training Loss: 0.3352, Validation Loss: 0.3524, Validation F-beta: 0.4696\n",
      "Epoch 57/4000\n"
     ]
    },
    {
     "name": "stderr",
     "output_type": "stream",
     "text": [
      "Training: 100%|██████████| 480/480 [12:08<00:00,  1.52s/it, loss=0.314]\n",
      "Validation: 100%|██████████| 12/12 [00:08<00:00,  1.46it/s, loss=0.302]\n"
     ]
    },
    {
     "name": "stdout",
     "output_type": "stream",
     "text": [
      "Validation Dice Score\n",
      "Class 0: 0.9910, Class 1: 0.5937, Class 2: 0.0696, Class 3: 0.2369, Class 4: 0.6482, Class 5: 0.3138, Class 6: 0.7822, \n",
      "Validation F-beta Score\n",
      "Class 0: 0.9943, Class 1: 0.6687, Class 2: 0.0565, Class 3: 0.2483, Class 4: 0.5580, Class 5: 0.2720, Class 6: 0.8574, \n",
      "\n",
      "Overall Mean Dice Score: 0.5149\n",
      "Overall Mean F-beta Score: 0.5209\n",
      "\n",
      "Training Loss: 0.3351, Validation Loss: 0.3291, Validation F-beta: 0.5209\n",
      "========================================================\n",
      "SUPER Best model saved. Loss:0.3291, Score:0.5209\n",
      "========================================================\n",
      "Epoch 58/4000\n"
     ]
    },
    {
     "name": "stderr",
     "output_type": "stream",
     "text": [
      "Training: 100%|██████████| 480/480 [12:10<00:00,  1.52s/it, loss=0.346]\n",
      "Validation: 100%|██████████| 12/12 [00:08<00:00,  1.46it/s, loss=0.298]\n"
     ]
    },
    {
     "name": "stdout",
     "output_type": "stream",
     "text": [
      "Validation Dice Score\n",
      "Class 0: 0.9907, Class 1: 0.7133, Class 2: 0.1094, Class 3: 0.3521, Class 4: 0.3832, Class 5: 0.3737, Class 6: 0.6123, \n",
      "Validation F-beta Score\n",
      "Class 0: 0.9964, Class 1: 0.7285, Class 2: 0.0921, Class 3: 0.3585, Class 4: 0.3771, Class 5: 0.3174, Class 6: 0.6247, \n",
      "\n",
      "Overall Mean Dice Score: 0.4869\n",
      "Overall Mean F-beta Score: 0.4812\n",
      "\n",
      "Training Loss: 0.3312, Validation Loss: 0.3348, Validation F-beta: 0.4812\n",
      "Epoch 59/4000\n"
     ]
    },
    {
     "name": "stderr",
     "output_type": "stream",
     "text": [
      "Training: 100%|██████████| 480/480 [12:10<00:00,  1.52s/it, loss=0.339]\n",
      "Validation: 100%|██████████| 12/12 [00:08<00:00,  1.42it/s, loss=0.357]\n"
     ]
    },
    {
     "name": "stdout",
     "output_type": "stream",
     "text": [
      "Validation Dice Score\n",
      "Class 0: 0.9912, Class 1: 0.5651, Class 2: 0.0600, Class 3: 0.3014, Class 4: 0.6246, Class 5: 0.4158, Class 6: 0.7485, \n",
      "Validation F-beta Score\n",
      "Class 0: 0.9932, Class 1: 0.6527, Class 2: 0.0415, Class 3: 0.2456, Class 4: 0.5738, Class 5: 0.3871, Class 6: 0.8672, \n",
      "\n",
      "Overall Mean Dice Score: 0.5311\n",
      "Overall Mean F-beta Score: 0.5453\n",
      "\n",
      "Training Loss: 0.3309, Validation Loss: 0.3286, Validation F-beta: 0.5453\n",
      "========================================================\n",
      "SUPER Best model saved. Loss:0.3286, Score:0.5453\n",
      "========================================================\n",
      "Epoch 60/4000\n"
     ]
    },
    {
     "name": "stderr",
     "output_type": "stream",
     "text": [
      "Training: 100%|██████████| 480/480 [12:09<00:00,  1.52s/it, loss=0.311]\n",
      "Validation: 100%|██████████| 12/12 [00:08<00:00,  1.43it/s, loss=0.335]\n"
     ]
    },
    {
     "name": "stdout",
     "output_type": "stream",
     "text": [
      "Validation Dice Score\n",
      "Class 0: 0.9915, Class 1: 0.4607, Class 2: 0.3022, Class 3: 0.3257, Class 4: 0.4761, Class 5: 0.3945, Class 6: 0.6819, \n",
      "Validation F-beta Score\n",
      "Class 0: 0.9942, Class 1: 0.5487, Class 2: 0.2943, Class 3: 0.2976, Class 4: 0.4569, Class 5: 0.3318, Class 6: 0.7899, \n",
      "\n",
      "Overall Mean Dice Score: 0.4678\n",
      "Overall Mean F-beta Score: 0.4850\n",
      "\n",
      "Training Loss: 0.3338, Validation Loss: 0.3253, Validation F-beta: 0.4850\n",
      "Epoch 61/4000\n"
     ]
    },
    {
     "name": "stderr",
     "output_type": "stream",
     "text": [
      "Training: 100%|██████████| 480/480 [12:09<00:00,  1.52s/it, loss=0.324]\n",
      "Validation: 100%|██████████| 12/12 [00:08<00:00,  1.44it/s, loss=0.375]\n"
     ]
    },
    {
     "name": "stdout",
     "output_type": "stream",
     "text": [
      "Validation Dice Score\n",
      "Class 0: 0.9933, Class 1: 0.4758, Class 2: 0.1037, Class 3: 0.4418, Class 4: 0.5891, Class 5: 0.3765, Class 6: 0.2197, \n",
      "Validation F-beta Score\n",
      "Class 0: 0.9951, Class 1: 0.6315, Class 2: 0.1608, Class 3: 0.4740, Class 4: 0.5760, Class 5: 0.3211, Class 6: 0.2411, \n",
      "\n",
      "Overall Mean Dice Score: 0.4206\n",
      "Overall Mean F-beta Score: 0.4488\n",
      "\n",
      "Training Loss: 0.3308, Validation Loss: 0.3474, Validation F-beta: 0.4488\n",
      "Epoch 62/4000\n"
     ]
    },
    {
     "name": "stderr",
     "output_type": "stream",
     "text": [
      "Training: 100%|██████████| 480/480 [12:10<00:00,  1.52s/it, loss=0.354]\n",
      "Validation: 100%|██████████| 12/12 [00:08<00:00,  1.45it/s, loss=0.338]\n"
     ]
    },
    {
     "name": "stdout",
     "output_type": "stream",
     "text": [
      "Validation Dice Score\n",
      "Class 0: 0.9926, Class 1: 0.6186, Class 2: 0.2084, Class 3: 0.3728, Class 4: 0.4690, Class 5: 0.4600, Class 6: 0.4544, \n",
      "Validation F-beta Score\n",
      "Class 0: 0.9935, Class 1: 0.7183, Class 2: 0.2236, Class 3: 0.4502, Class 4: 0.4231, Class 5: 0.4676, Class 6: 0.5918, \n",
      "\n",
      "Overall Mean Dice Score: 0.4750\n",
      "Overall Mean F-beta Score: 0.5302\n",
      "\n",
      "Training Loss: 0.3320, Validation Loss: 0.3349, Validation F-beta: 0.5302\n",
      "Epoch 63/4000\n"
     ]
    },
    {
     "name": "stderr",
     "output_type": "stream",
     "text": [
      "Training: 100%|██████████| 480/480 [12:08<00:00,  1.52s/it, loss=0.359]\n",
      "Validation: 100%|██████████| 12/12 [00:08<00:00,  1.46it/s, loss=0.302]\n"
     ]
    },
    {
     "name": "stdout",
     "output_type": "stream",
     "text": [
      "Validation Dice Score\n",
      "Class 0: 0.9907, Class 1: 0.4357, Class 2: 0.0705, Class 3: 0.3033, Class 4: 0.6508, Class 5: 0.4241, Class 6: 0.5916, \n",
      "Validation F-beta Score\n",
      "Class 0: 0.9928, Class 1: 0.4498, Class 2: 0.0502, Class 3: 0.2965, Class 4: 0.7310, Class 5: 0.3960, Class 6: 0.7090, \n",
      "\n",
      "Overall Mean Dice Score: 0.4811\n",
      "Overall Mean F-beta Score: 0.5165\n",
      "\n",
      "Training Loss: 0.3305, Validation Loss: 0.3405, Validation F-beta: 0.5165\n",
      "Epoch 64/4000\n"
     ]
    },
    {
     "name": "stderr",
     "output_type": "stream",
     "text": [
      "Training: 100%|██████████| 480/480 [12:10<00:00,  1.52s/it, loss=0.368]\n",
      "Validation: 100%|██████████| 12/12 [00:08<00:00,  1.44it/s, loss=0.389]\n"
     ]
    },
    {
     "name": "stdout",
     "output_type": "stream",
     "text": [
      "Validation Dice Score\n",
      "Class 0: 0.9921, Class 1: 0.5591, Class 2: 0.0661, Class 3: 0.3250, Class 4: 0.6018, Class 5: 0.2983, Class 6: 0.6164, \n",
      "Validation F-beta Score\n",
      "Class 0: 0.9950, Class 1: 0.6166, Class 2: 0.0422, Class 3: 0.3793, Class 4: 0.6980, Class 5: 0.2214, Class 6: 0.5840, \n",
      "\n",
      "Overall Mean Dice Score: 0.4801\n",
      "Overall Mean F-beta Score: 0.4999\n",
      "\n",
      "Training Loss: 0.3296, Validation Loss: 0.3343, Validation F-beta: 0.4999\n",
      "Epoch 65/4000\n"
     ]
    },
    {
     "name": "stderr",
     "output_type": "stream",
     "text": [
      "Training: 100%|██████████| 480/480 [12:10<00:00,  1.52s/it, loss=0.359]\n",
      "Validation: 100%|██████████| 12/12 [00:08<00:00,  1.43it/s, loss=0.34] \n"
     ]
    },
    {
     "name": "stdout",
     "output_type": "stream",
     "text": [
      "Validation Dice Score\n",
      "Class 0: 0.9913, Class 1: 0.4696, Class 2: 0.1026, Class 3: 0.3570, Class 4: 0.4848, Class 5: 0.4364, Class 6: 0.8743, \n",
      "Validation F-beta Score\n",
      "Class 0: 0.9948, Class 1: 0.4727, Class 2: 0.1133, Class 3: 0.3875, Class 4: 0.4996, Class 5: 0.3827, Class 6: 0.8895, \n",
      "\n",
      "Overall Mean Dice Score: 0.5244\n",
      "Overall Mean F-beta Score: 0.5264\n",
      "\n",
      "Training Loss: 0.3292, Validation Loss: 0.3219, Validation F-beta: 0.5264\n",
      "Epoch 66/4000\n"
     ]
    },
    {
     "name": "stderr",
     "output_type": "stream",
     "text": [
      "Training: 100%|██████████| 480/480 [12:10<00:00,  1.52s/it, loss=0.373]\n",
      "Validation: 100%|██████████| 12/12 [00:08<00:00,  1.45it/s, loss=0.334]\n"
     ]
    },
    {
     "name": "stdout",
     "output_type": "stream",
     "text": [
      "Validation Dice Score\n",
      "Class 0: 0.9912, Class 1: 0.6484, Class 2: 0.1105, Class 3: 0.3375, Class 4: 0.5684, Class 5: 0.3970, Class 6: 0.5890, \n",
      "Validation F-beta Score\n",
      "Class 0: 0.9938, Class 1: 0.7364, Class 2: 0.1090, Class 3: 0.3326, Class 4: 0.5553, Class 5: 0.3185, Class 6: 0.7535, \n",
      "\n",
      "Overall Mean Dice Score: 0.5080\n",
      "Overall Mean F-beta Score: 0.5393\n",
      "\n",
      "Training Loss: 0.3302, Validation Loss: 0.3292, Validation F-beta: 0.5393\n",
      "Epoch 67/4000\n"
     ]
    },
    {
     "name": "stderr",
     "output_type": "stream",
     "text": [
      "Training: 100%|██████████| 480/480 [12:10<00:00,  1.52s/it, loss=0.333]\n",
      "Validation: 100%|██████████| 12/12 [00:08<00:00,  1.44it/s, loss=0.352]\n"
     ]
    },
    {
     "name": "stdout",
     "output_type": "stream",
     "text": [
      "Validation Dice Score\n",
      "Class 0: 0.9913, Class 1: 0.7005, Class 2: 0.0930, Class 3: 0.1492, Class 4: 0.5939, Class 5: 0.3898, Class 6: 0.8075, \n",
      "Validation F-beta Score\n",
      "Class 0: 0.9920, Class 1: 0.7761, Class 2: 0.1511, Class 3: 0.1194, Class 4: 0.5858, Class 5: 0.3768, Class 6: 0.9019, \n",
      "\n",
      "Overall Mean Dice Score: 0.5282\n",
      "Overall Mean F-beta Score: 0.5520\n",
      "\n",
      "Training Loss: 0.3279, Validation Loss: 0.3254, Validation F-beta: 0.5520\n",
      "========================================================\n",
      "SUPER Best model saved. Loss:0.3254, Score:0.5520\n",
      "========================================================\n",
      "Epoch 68/4000\n"
     ]
    },
    {
     "name": "stderr",
     "output_type": "stream",
     "text": [
      "Training: 100%|██████████| 480/480 [12:08<00:00,  1.52s/it, loss=0.339]\n",
      "Validation: 100%|██████████| 12/12 [00:08<00:00,  1.44it/s, loss=0.28] \n"
     ]
    },
    {
     "name": "stdout",
     "output_type": "stream",
     "text": [
      "Validation Dice Score\n",
      "Class 0: 0.9904, Class 1: 0.6395, Class 2: 0.1169, Class 3: 0.3107, Class 4: 0.5355, Class 5: 0.5046, Class 6: 0.5126, \n",
      "Validation F-beta Score\n",
      "Class 0: 0.9917, Class 1: 0.7694, Class 2: 0.2020, Class 3: 0.3559, Class 4: 0.5901, Class 5: 0.4865, Class 6: 0.6812, \n",
      "\n",
      "Overall Mean Dice Score: 0.5006\n",
      "Overall Mean F-beta Score: 0.5766\n",
      "\n",
      "Training Loss: 0.3266, Validation Loss: 0.3355, Validation F-beta: 0.5766\n",
      "Epoch 69/4000\n"
     ]
    },
    {
     "name": "stderr",
     "output_type": "stream",
     "text": [
      "Training: 100%|██████████| 480/480 [12:08<00:00,  1.52s/it, loss=0.369]\n",
      "Validation: 100%|██████████| 12/12 [00:08<00:00,  1.46it/s, loss=0.35] \n"
     ]
    },
    {
     "name": "stdout",
     "output_type": "stream",
     "text": [
      "Validation Dice Score\n",
      "Class 0: 0.9920, Class 1: 0.6491, Class 2: 0.0535, Class 3: 0.4159, Class 4: 0.5594, Class 5: 0.3963, Class 6: 0.4457, \n",
      "Validation F-beta Score\n",
      "Class 0: 0.9946, Class 1: 0.6587, Class 2: 0.2943, Class 3: 0.3779, Class 4: 0.5894, Class 5: 0.3729, Class 6: 0.5431, \n",
      "\n",
      "Overall Mean Dice Score: 0.4933\n",
      "Overall Mean F-beta Score: 0.5084\n",
      "\n",
      "Training Loss: 0.3259, Validation Loss: 0.3258, Validation F-beta: 0.5084\n",
      "Epoch 70/4000\n"
     ]
    },
    {
     "name": "stderr",
     "output_type": "stream",
     "text": [
      "Training: 100%|██████████| 480/480 [12:06<00:00,  1.51s/it, loss=0.328]\n",
      "Validation: 100%|██████████| 12/12 [00:08<00:00,  1.45it/s, loss=0.362]\n"
     ]
    },
    {
     "name": "stdout",
     "output_type": "stream",
     "text": [
      "Validation Dice Score\n",
      "Class 0: 0.9922, Class 1: 0.4215, Class 2: 0.2286, Class 3: 0.2539, Class 4: 0.6752, Class 5: 0.3352, Class 6: 0.4363, \n",
      "Validation F-beta Score\n",
      "Class 0: 0.9924, Class 1: 0.4748, Class 2: 0.2971, Class 3: 0.2699, Class 4: 0.7408, Class 5: 0.3341, Class 6: 0.7590, \n",
      "\n",
      "Overall Mean Dice Score: 0.4244\n",
      "Overall Mean F-beta Score: 0.5157\n",
      "\n",
      "Training Loss: 0.3228, Validation Loss: 0.3499, Validation F-beta: 0.5157\n",
      "Epoch 71/4000\n"
     ]
    },
    {
     "name": "stderr",
     "output_type": "stream",
     "text": [
      "Training: 100%|██████████| 480/480 [12:08<00:00,  1.52s/it, loss=0.34] \n",
      "Validation: 100%|██████████| 12/12 [00:08<00:00,  1.45it/s, loss=0.24] \n"
     ]
    },
    {
     "name": "stdout",
     "output_type": "stream",
     "text": [
      "Validation Dice Score\n",
      "Class 0: 0.9928, Class 1: 0.5015, Class 2: 0.0445, Class 3: 0.3651, Class 4: 0.6632, Class 5: 0.2879, Class 6: 0.5170, \n",
      "Validation F-beta Score\n",
      "Class 0: 0.9951, Class 1: 0.4998, Class 2: 0.2763, Class 3: 0.3898, Class 4: 0.6529, Class 5: 0.2308, Class 6: 0.6131, \n",
      "\n",
      "Overall Mean Dice Score: 0.4669\n",
      "Overall Mean F-beta Score: 0.4773\n",
      "\n",
      "Training Loss: 0.3283, Validation Loss: 0.3327, Validation F-beta: 0.4773\n",
      "Epoch 72/4000\n"
     ]
    },
    {
     "name": "stderr",
     "output_type": "stream",
     "text": [
      "Training: 100%|██████████| 480/480 [12:06<00:00,  1.51s/it, loss=0.295]\n",
      "Validation: 100%|██████████| 12/12 [00:08<00:00,  1.45it/s, loss=0.301]\n"
     ]
    },
    {
     "name": "stdout",
     "output_type": "stream",
     "text": [
      "Validation Dice Score\n",
      "Class 0: 0.9902, Class 1: 0.5596, Class 2: 0.0365, Class 3: 0.1422, Class 4: 0.6955, Class 5: 0.3378, Class 6: 0.6456, \n",
      "Validation F-beta Score\n",
      "Class 0: 0.9921, Class 1: 0.6438, Class 2: 0.1886, Class 3: 0.2082, Class 4: 0.6535, Class 5: 0.3056, Class 6: 0.7059, \n",
      "\n",
      "Overall Mean Dice Score: 0.4761\n",
      "Overall Mean F-beta Score: 0.5034\n",
      "\n",
      "Training Loss: 0.3262, Validation Loss: 0.3487, Validation F-beta: 0.5034\n",
      "Epoch 73/4000\n"
     ]
    },
    {
     "name": "stderr",
     "output_type": "stream",
     "text": [
      "Training: 100%|██████████| 480/480 [12:07<00:00,  1.52s/it, loss=0.303]\n",
      "Validation: 100%|██████████| 12/12 [00:08<00:00,  1.45it/s, loss=0.311]\n"
     ]
    },
    {
     "name": "stdout",
     "output_type": "stream",
     "text": [
      "Validation Dice Score\n",
      "Class 0: 0.9927, Class 1: 0.5170, Class 2: 0.0870, Class 3: 0.4741, Class 4: 0.6045, Class 5: 0.4416, Class 6: 0.8299, \n",
      "Validation F-beta Score\n",
      "Class 0: 0.9964, Class 1: 0.5437, Class 2: 0.2280, Class 3: 0.4286, Class 4: 0.6087, Class 5: 0.3709, Class 6: 0.8479, \n",
      "\n",
      "Overall Mean Dice Score: 0.5734\n",
      "Overall Mean F-beta Score: 0.5599\n",
      "\n",
      "Training Loss: 0.3256, Validation Loss: 0.3133, Validation F-beta: 0.5599\n",
      "========================================================\n",
      "SUPER Best model saved. Loss:0.3133, Score:0.5599\n",
      "========================================================\n",
      "Epoch 74/4000\n"
     ]
    },
    {
     "name": "stderr",
     "output_type": "stream",
     "text": [
      "Training: 100%|██████████| 480/480 [12:08<00:00,  1.52s/it, loss=0.36] \n",
      "Validation: 100%|██████████| 12/12 [00:08<00:00,  1.46it/s, loss=0.281]\n"
     ]
    },
    {
     "name": "stdout",
     "output_type": "stream",
     "text": [
      "Validation Dice Score\n",
      "Class 0: 0.9923, Class 1: 0.4319, Class 2: 0.1098, Class 3: 0.3162, Class 4: 0.6231, Class 5: 0.3186, Class 6: 0.7578, \n",
      "Validation F-beta Score\n",
      "Class 0: 0.9935, Class 1: 0.5473, Class 2: 0.1859, Class 3: 0.3488, Class 4: 0.7098, Class 5: 0.3638, Class 6: 0.7475, \n",
      "\n",
      "Overall Mean Dice Score: 0.4895\n",
      "Overall Mean F-beta Score: 0.5434\n",
      "\n",
      "Training Loss: 0.3270, Validation Loss: 0.3424, Validation F-beta: 0.5434\n",
      "Epoch 75/4000\n"
     ]
    },
    {
     "name": "stderr",
     "output_type": "stream",
     "text": [
      "Training: 100%|██████████| 480/480 [12:08<00:00,  1.52s/it, loss=0.392]\n",
      "Validation: 100%|██████████| 12/12 [00:08<00:00,  1.45it/s, loss=0.285]\n"
     ]
    },
    {
     "name": "stdout",
     "output_type": "stream",
     "text": [
      "Validation Dice Score\n",
      "Class 0: 0.9903, Class 1: 0.6054, Class 2: 0.2202, Class 3: 0.4423, Class 4: 0.6484, Class 5: 0.2905, Class 6: 0.6747, \n",
      "Validation F-beta Score\n",
      "Class 0: 0.9933, Class 1: 0.5599, Class 2: 0.3049, Class 3: 0.5933, Class 4: 0.5545, Class 5: 0.2690, Class 6: 0.7038, \n",
      "\n",
      "Overall Mean Dice Score: 0.5323\n",
      "Overall Mean F-beta Score: 0.5361\n",
      "\n",
      "Training Loss: 0.3225, Validation Loss: 0.3151, Validation F-beta: 0.5361\n",
      "Epoch 76/4000\n"
     ]
    },
    {
     "name": "stderr",
     "output_type": "stream",
     "text": [
      "Training: 100%|██████████| 480/480 [12:07<00:00,  1.52s/it, loss=0.311]\n",
      "Validation: 100%|██████████| 12/12 [00:08<00:00,  1.47it/s, loss=0.24] \n"
     ]
    },
    {
     "name": "stdout",
     "output_type": "stream",
     "text": [
      "Validation Dice Score\n",
      "Class 0: 0.9902, Class 1: 0.5165, Class 2: 0.0561, Class 3: 0.3986, Class 4: 0.5638, Class 5: 0.3972, Class 6: 0.5270, \n",
      "Validation F-beta Score\n",
      "Class 0: 0.9955, Class 1: 0.4852, Class 2: 0.0465, Class 3: 0.3942, Class 4: 0.4755, Class 5: 0.3197, Class 6: 0.5994, \n",
      "\n",
      "Overall Mean Dice Score: 0.4806\n",
      "Overall Mean F-beta Score: 0.4548\n",
      "\n",
      "Training Loss: 0.3254, Validation Loss: 0.3331, Validation F-beta: 0.4548\n",
      "Epoch 77/4000\n"
     ]
    },
    {
     "name": "stderr",
     "output_type": "stream",
     "text": [
      "Training: 100%|██████████| 480/480 [12:09<00:00,  1.52s/it, loss=0.339]\n",
      "Validation: 100%|██████████| 12/12 [00:08<00:00,  1.45it/s, loss=0.356]\n"
     ]
    },
    {
     "name": "stdout",
     "output_type": "stream",
     "text": [
      "Validation Dice Score\n",
      "Class 0: 0.9914, Class 1: 0.5189, Class 2: 0.1644, Class 3: 0.2005, Class 4: 0.5486, Class 5: 0.4228, Class 6: 0.7606, \n",
      "Validation F-beta Score\n",
      "Class 0: 0.9928, Class 1: 0.5148, Class 2: 0.1530, Class 3: 0.2402, Class 4: 0.5324, Class 5: 0.3985, Class 6: 0.7453, \n",
      "\n",
      "Overall Mean Dice Score: 0.4903\n",
      "Overall Mean F-beta Score: 0.4862\n",
      "\n",
      "Training Loss: 0.3232, Validation Loss: 0.3371, Validation F-beta: 0.4862\n",
      "Epoch 78/4000\n"
     ]
    },
    {
     "name": "stderr",
     "output_type": "stream",
     "text": [
      "Training: 100%|██████████| 480/480 [12:07<00:00,  1.52s/it, loss=0.342]\n",
      "Validation: 100%|██████████| 12/12 [00:08<00:00,  1.46it/s, loss=0.297]\n"
     ]
    },
    {
     "name": "stdout",
     "output_type": "stream",
     "text": [
      "Validation Dice Score\n",
      "Class 0: 0.9908, Class 1: 0.6162, Class 2: 0.1132, Class 3: 0.3576, Class 4: 0.5113, Class 5: 0.3758, Class 6: 0.5514, \n",
      "Validation F-beta Score\n",
      "Class 0: 0.9909, Class 1: 0.6934, Class 2: 0.1990, Class 3: 0.4033, Class 4: 0.5356, Class 5: 0.4120, Class 6: 0.6919, \n",
      "\n",
      "Overall Mean Dice Score: 0.4825\n",
      "Overall Mean F-beta Score: 0.5472\n",
      "\n",
      "Training Loss: 0.3221, Validation Loss: 0.3379, Validation F-beta: 0.5472\n",
      "Epoch 79/4000\n"
     ]
    },
    {
     "name": "stderr",
     "output_type": "stream",
     "text": [
      "Training: 100%|██████████| 480/480 [12:08<00:00,  1.52s/it, loss=0.299]\n",
      "Validation: 100%|██████████| 12/12 [00:08<00:00,  1.43it/s, loss=0.366]\n"
     ]
    },
    {
     "name": "stdout",
     "output_type": "stream",
     "text": [
      "Validation Dice Score\n",
      "Class 0: 0.9893, Class 1: 0.5477, Class 2: 0.0294, Class 3: 0.1419, Class 4: 0.4380, Class 5: 0.3639, Class 6: 0.7024, \n",
      "Validation F-beta Score\n",
      "Class 0: 0.9952, Class 1: 0.6617, Class 2: 0.2687, Class 3: 0.1885, Class 4: 0.4355, Class 5: 0.3027, Class 6: 0.7274, \n",
      "\n",
      "Overall Mean Dice Score: 0.4388\n",
      "Overall Mean F-beta Score: 0.4631\n",
      "\n",
      "Training Loss: 0.3244, Validation Loss: 0.3585, Validation F-beta: 0.4631\n",
      "Epoch 80/4000\n"
     ]
    },
    {
     "name": "stderr",
     "output_type": "stream",
     "text": [
      "Training: 100%|██████████| 480/480 [12:07<00:00,  1.52s/it, loss=0.331]\n",
      "Validation: 100%|██████████| 12/12 [00:08<00:00,  1.46it/s, loss=0.348]\n"
     ]
    },
    {
     "name": "stdout",
     "output_type": "stream",
     "text": [
      "Validation Dice Score\n",
      "Class 0: 0.9915, Class 1: 0.6812, Class 2: 0.0422, Class 3: 0.3237, Class 4: 0.5503, Class 5: 0.2777, Class 6: 0.7320, \n",
      "Validation F-beta Score\n",
      "Class 0: 0.9938, Class 1: 0.6771, Class 2: 0.0456, Class 3: 0.3777, Class 4: 0.5712, Class 5: 0.2354, Class 6: 0.8611, \n",
      "\n",
      "Overall Mean Dice Score: 0.5130\n",
      "Overall Mean F-beta Score: 0.5445\n",
      "\n",
      "Training Loss: 0.3249, Validation Loss: 0.3313, Validation F-beta: 0.5445\n",
      "Epoch 81/4000\n"
     ]
    },
    {
     "name": "stderr",
     "output_type": "stream",
     "text": [
      "Training: 100%|██████████| 480/480 [12:08<00:00,  1.52s/it, loss=0.263]\n",
      "Validation: 100%|██████████| 12/12 [00:08<00:00,  1.45it/s, loss=0.284]\n"
     ]
    },
    {
     "name": "stdout",
     "output_type": "stream",
     "text": [
      "Validation Dice Score\n",
      "Class 0: 0.9927, Class 1: 0.6295, Class 2: 0.0950, Class 3: 0.2130, Class 4: 0.7495, Class 5: 0.3672, Class 6: 0.8754, \n",
      "Validation F-beta Score\n",
      "Class 0: 0.9930, Class 1: 0.7636, Class 2: 0.1783, Class 3: 0.2172, Class 4: 0.7614, Class 5: 0.3619, Class 6: 0.9239, \n",
      "\n",
      "Overall Mean Dice Score: 0.5669\n",
      "Overall Mean F-beta Score: 0.6056\n",
      "\n",
      "Training Loss: 0.3228, Validation Loss: 0.3152, Validation F-beta: 0.6056\n",
      "Epoch 82/4000\n"
     ]
    },
    {
     "name": "stderr",
     "output_type": "stream",
     "text": [
      "Training: 100%|██████████| 480/480 [12:09<00:00,  1.52s/it, loss=0.292]\n",
      "Validation: 100%|██████████| 12/12 [00:08<00:00,  1.47it/s, loss=0.292]\n"
     ]
    },
    {
     "name": "stdout",
     "output_type": "stream",
     "text": [
      "Validation Dice Score\n",
      "Class 0: 0.9930, Class 1: 0.7555, Class 2: 0.1369, Class 3: 0.2572, Class 4: 0.5854, Class 5: 0.3908, Class 6: 0.8088, \n",
      "Validation F-beta Score\n",
      "Class 0: 0.9946, Class 1: 0.7899, Class 2: 0.1083, Class 3: 0.3140, Class 4: 0.6680, Class 5: 0.3715, Class 6: 0.8296, \n",
      "\n",
      "Overall Mean Dice Score: 0.5595\n",
      "Overall Mean F-beta Score: 0.5946\n",
      "\n",
      "Training Loss: 0.3237, Validation Loss: 0.3082, Validation F-beta: 0.5946\n",
      "========================================================\n",
      "SUPER Best model saved. Loss:0.3082, Score:0.5946\n",
      "========================================================\n",
      "Epoch 83/4000\n"
     ]
    },
    {
     "name": "stderr",
     "output_type": "stream",
     "text": [
      "Training: 100%|██████████| 480/480 [12:07<00:00,  1.52s/it, loss=0.368]\n",
      "Validation: 100%|██████████| 12/12 [00:08<00:00,  1.44it/s, loss=0.35] \n"
     ]
    },
    {
     "name": "stdout",
     "output_type": "stream",
     "text": [
      "Validation Dice Score\n",
      "Class 0: 0.9929, Class 1: 0.5538, Class 2: 0.0300, Class 3: 0.4600, Class 4: 0.4444, Class 5: 0.3298, Class 6: 0.6757, \n",
      "Validation F-beta Score\n",
      "Class 0: 0.9956, Class 1: 0.6115, Class 2: 0.1028, Class 3: 0.4591, Class 4: 0.5040, Class 5: 0.2964, Class 6: 0.9073, \n",
      "\n",
      "Overall Mean Dice Score: 0.4927\n",
      "Overall Mean F-beta Score: 0.5557\n",
      "\n",
      "Training Loss: 0.3202, Validation Loss: 0.3354, Validation F-beta: 0.5557\n",
      "Epoch 84/4000\n"
     ]
    },
    {
     "name": "stderr",
     "output_type": "stream",
     "text": [
      "Training: 100%|██████████| 480/480 [12:08<00:00,  1.52s/it, loss=0.358]\n",
      "Validation: 100%|██████████| 12/12 [00:08<00:00,  1.43it/s, loss=0.353]\n"
     ]
    },
    {
     "name": "stdout",
     "output_type": "stream",
     "text": [
      "Validation Dice Score\n",
      "Class 0: 0.9929, Class 1: 0.5031, Class 2: 0.2587, Class 3: 0.3037, Class 4: 0.6628, Class 5: 0.3801, Class 6: 0.6472, \n",
      "Validation F-beta Score\n",
      "Class 0: 0.9938, Class 1: 0.6235, Class 2: 0.2686, Class 3: 0.3306, Class 4: 0.6136, Class 5: 0.3574, Class 6: 0.6354, \n",
      "\n",
      "Overall Mean Dice Score: 0.4994\n",
      "Overall Mean F-beta Score: 0.5121\n",
      "\n",
      "Training Loss: 0.3214, Validation Loss: 0.3170, Validation F-beta: 0.5121\n",
      "Epoch 85/4000\n"
     ]
    },
    {
     "name": "stderr",
     "output_type": "stream",
     "text": [
      "Training: 100%|██████████| 480/480 [12:08<00:00,  1.52s/it, loss=0.299]\n",
      "Validation: 100%|██████████| 12/12 [00:08<00:00,  1.44it/s, loss=0.382]\n"
     ]
    },
    {
     "name": "stdout",
     "output_type": "stream",
     "text": [
      "Validation Dice Score\n",
      "Class 0: 0.9907, Class 1: 0.4628, Class 2: 0.2524, Class 3: 0.4227, Class 4: 0.6209, Class 5: 0.4267, Class 6: 0.5721, \n",
      "Validation F-beta Score\n",
      "Class 0: 0.9919, Class 1: 0.5867, Class 2: 0.2596, Class 3: 0.4997, Class 4: 0.7192, Class 5: 0.4003, Class 6: 0.5897, \n",
      "\n",
      "Overall Mean Dice Score: 0.5010\n",
      "Overall Mean F-beta Score: 0.5591\n",
      "\n",
      "Training Loss: 0.3193, Validation Loss: 0.3357, Validation F-beta: 0.5591\n",
      "Epoch 86/4000\n"
     ]
    },
    {
     "name": "stderr",
     "output_type": "stream",
     "text": [
      "Training: 100%|██████████| 480/480 [12:08<00:00,  1.52s/it, loss=0.343]\n",
      "Validation: 100%|██████████| 12/12 [00:08<00:00,  1.47it/s, loss=0.263]\n"
     ]
    },
    {
     "name": "stdout",
     "output_type": "stream",
     "text": [
      "Validation Dice Score\n",
      "Class 0: 0.9912, Class 1: 0.6059, Class 2: 0.1590, Class 3: 0.3230, Class 4: 0.6554, Class 5: 0.4688, Class 6: 0.5865, \n",
      "Validation F-beta Score\n",
      "Class 0: 0.9946, Class 1: 0.6495, Class 2: 0.2311, Class 3: 0.3385, Class 4: 0.6120, Class 5: 0.4058, Class 6: 0.6895, \n",
      "\n",
      "Overall Mean Dice Score: 0.5279\n",
      "Overall Mean F-beta Score: 0.5391\n",
      "\n",
      "Training Loss: 0.3190, Validation Loss: 0.3304, Validation F-beta: 0.5391\n",
      "Epoch 87/4000\n"
     ]
    },
    {
     "name": "stderr",
     "output_type": "stream",
     "text": [
      "Training: 100%|██████████| 480/480 [12:10<00:00,  1.52s/it, loss=0.329]\n",
      "Validation: 100%|██████████| 12/12 [00:08<00:00,  1.44it/s, loss=0.319]\n"
     ]
    },
    {
     "name": "stdout",
     "output_type": "stream",
     "text": [
      "Validation Dice Score\n",
      "Class 0: 0.9904, Class 1: 0.3447, Class 2: 0.3492, Class 3: 0.2352, Class 4: 0.5190, Class 5: 0.3702, Class 6: 0.5949, \n",
      "Validation F-beta Score\n",
      "Class 0: 0.9934, Class 1: 0.3979, Class 2: 0.3073, Class 3: 0.2136, Class 4: 0.6349, Class 5: 0.3291, Class 6: 0.7038, \n",
      "\n",
      "Overall Mean Dice Score: 0.4128\n",
      "Overall Mean F-beta Score: 0.4559\n",
      "\n",
      "Training Loss: 0.3180, Validation Loss: 0.3425, Validation F-beta: 0.4559\n",
      "Epoch 88/4000\n"
     ]
    },
    {
     "name": "stderr",
     "output_type": "stream",
     "text": [
      "Training: 100%|██████████| 480/480 [12:08<00:00,  1.52s/it, loss=0.3]  \n",
      "Validation: 100%|██████████| 12/12 [00:08<00:00,  1.46it/s, loss=0.318]\n"
     ]
    },
    {
     "name": "stdout",
     "output_type": "stream",
     "text": [
      "Validation Dice Score\n",
      "Class 0: 0.9926, Class 1: 0.5081, Class 2: 0.0979, Class 3: 0.3002, Class 4: 0.4498, Class 5: 0.3513, Class 6: 0.7071, \n",
      "Validation F-beta Score\n",
      "Class 0: 0.9922, Class 1: 0.5332, Class 2: 0.3232, Class 3: 0.3759, Class 4: 0.4832, Class 5: 0.3551, Class 6: 0.8205, \n",
      "\n",
      "Overall Mean Dice Score: 0.4633\n",
      "Overall Mean F-beta Score: 0.5136\n",
      "\n",
      "Training Loss: 0.3174, Validation Loss: 0.3361, Validation F-beta: 0.5136\n",
      "Epoch 89/4000\n"
     ]
    },
    {
     "name": "stderr",
     "output_type": "stream",
     "text": [
      "Training: 100%|██████████| 480/480 [12:08<00:00,  1.52s/it, loss=0.286]\n",
      "Validation: 100%|██████████| 12/12 [00:08<00:00,  1.46it/s, loss=0.4]  \n"
     ]
    },
    {
     "name": "stdout",
     "output_type": "stream",
     "text": [
      "Validation Dice Score\n",
      "Class 0: 0.9908, Class 1: 0.5363, Class 2: 0.0754, Class 3: 0.2519, Class 4: 0.4693, Class 5: 0.3655, Class 6: 0.6457, \n",
      "Validation F-beta Score\n",
      "Class 0: 0.9947, Class 1: 0.5432, Class 2: 0.2228, Class 3: 0.2449, Class 4: 0.4237, Class 5: 0.2793, Class 6: 0.7867, \n",
      "\n",
      "Overall Mean Dice Score: 0.4538\n",
      "Overall Mean F-beta Score: 0.4556\n",
      "\n",
      "Training Loss: 0.3206, Validation Loss: 0.3471, Validation F-beta: 0.4556\n",
      "Epoch 90/4000\n"
     ]
    },
    {
     "name": "stderr",
     "output_type": "stream",
     "text": [
      "Training: 100%|██████████| 480/480 [12:07<00:00,  1.52s/it, loss=0.243]\n",
      "Validation: 100%|██████████| 12/12 [00:08<00:00,  1.50it/s, loss=0.31] \n"
     ]
    },
    {
     "name": "stdout",
     "output_type": "stream",
     "text": [
      "Validation Dice Score\n",
      "Class 0: 0.9915, Class 1: 0.3833, Class 2: 0.0683, Class 3: 0.3028, Class 4: 0.6086, Class 5: 0.3471, Class 6: 0.6703, \n",
      "Validation F-beta Score\n",
      "Class 0: 0.9948, Class 1: 0.4294, Class 2: 0.4157, Class 3: 0.2989, Class 4: 0.7485, Class 5: 0.2749, Class 6: 0.7091, \n",
      "\n",
      "Overall Mean Dice Score: 0.4624\n",
      "Overall Mean F-beta Score: 0.4922\n",
      "\n",
      "Training Loss: 0.3190, Validation Loss: 0.3315, Validation F-beta: 0.4922\n",
      "Epoch 91/4000\n"
     ]
    },
    {
     "name": "stderr",
     "output_type": "stream",
     "text": [
      "Training: 100%|██████████| 480/480 [12:08<00:00,  1.52s/it, loss=0.319]\n",
      "Validation: 100%|██████████| 12/12 [00:08<00:00,  1.48it/s, loss=0.378]\n"
     ]
    },
    {
     "name": "stdout",
     "output_type": "stream",
     "text": [
      "Validation Dice Score\n",
      "Class 0: 0.9930, Class 1: 0.7506, Class 2: 0.1058, Class 3: 0.3768, Class 4: 0.7139, Class 5: 0.3972, Class 6: 0.6562, \n",
      "Validation F-beta Score\n",
      "Class 0: 0.9953, Class 1: 0.7610, Class 2: 0.1602, Class 3: 0.3831, Class 4: 0.6937, Class 5: 0.3112, Class 6: 0.6766, \n",
      "\n",
      "Overall Mean Dice Score: 0.5789\n",
      "Overall Mean F-beta Score: 0.5651\n",
      "\n",
      "Training Loss: 0.3183, Validation Loss: 0.3229, Validation F-beta: 0.5651\n",
      "Early stopping\n"
     ]
    },
    {
     "data": {
      "text/html": [],
      "text/plain": [
       "<IPython.core.display.HTML object>"
      ]
     },
     "metadata": {},
     "output_type": "display_data"
    },
    {
     "data": {
      "text/html": [
       "<br>    <style><br>        .wandb-row {<br>            display: flex;<br>            flex-direction: row;<br>            flex-wrap: wrap;<br>            justify-content: flex-start;<br>            width: 100%;<br>        }<br>        .wandb-col {<br>            display: flex;<br>            flex-direction: column;<br>            flex-basis: 100%;<br>            flex: 1;<br>            padding: 10px;<br>        }<br>    </style><br><div class=\"wandb-row\"><div class=\"wandb-col\"><h3>Run history:</h3><br/><table class=\"wandb\"><tr><td>class_0_dice_score</td><td>▆▅▆▁▄▄▆█▆▇▇▆█▆▇▇▇▆▇▇▆█▆▇▇▇██▇▇▇█▇███▇▇██</td></tr><tr><td>class_0_f_beta_score</td><td>▅▅▂▆▁▂▆▃▂▆▆▅▃▅▆▄▇▄▇▂▄▄▆▇▅▇▅▄█▅▅▆▄▄█▅▆▆▅▇</td></tr><tr><td>class_1_dice_score</td><td>▁▁▂▂▂▂▂▂▂▄▄▅▅▅▃▄▅▆▅▇█▆▆▆▇▆▅▇▇▇▆▆▅▇▆▇█▆▆▅</td></tr><tr><td>class_1_f_beta_score</td><td>▁▁▁▁▂▃▄▄▆▅▇▅▇▅▆█▇▇▆▅█▆▆▆▅▆▅▆▅▇▅▇▇██▆▇▄▅▄</td></tr><tr><td>class_2_dice_score</td><td>▁▁▁▁▁▁▁▁▁▁▁▁▁▂▁▂▃▂▁▂▂▃▃▂▇▅▂▃▃▃▆▂▃▃▂▄█▃▃▃</td></tr><tr><td>class_2_f_beta_score</td><td>▃▃▂▃█▄▄▃▆▄▃▃▁▁▄▁▁▂▁▂▁▂▂▂▂▁▅▄▂▂▄▃▃▅▂▂▃▄▄▃</td></tr><tr><td>class_3_dice_score</td><td>▂▁▄▂▃▃▅▂▄▅▄▃▆▅▅▄▄▄▅▄▄▆▄▄▆▆▅▆▆▃▃█▆█▆▅█▅▄▇</td></tr><tr><td>class_3_f_beta_score</td><td>▃▁▁▅▂▁▂▄▂▄▃▃▂▆▄▃▄▃▃▄▃▃▄▅▄▆▅▂▄▆▅█▆▆▃▆▇▅▃▄</td></tr><tr><td>class_4_dice_score</td><td>▁▂▂▁▁▃▂▆▃▆▂▄▅█▆▄▃▅▆▆▇▆█▅▄▃▅▅▆▆▇▆▅▄▆▇▄██▄</td></tr><tr><td>class_4_f_beta_score</td><td>▁▃▄▅▄▁▄▁▃▆▅▆▃▃▄▅▄▆▄▆▅▅▅▅▅▅▃▆▄▄▇▅▅▆▆▄▅█▅▇</td></tr><tr><td>class_5_dice_score</td><td>▁▂▄▃▃▂▄▅▄▄▅▃▄▅▄▅▆▆▅▅▅▅█▅▆▅▆▇▆▇▆▆▆▇▇▅▆▆▇▆</td></tr><tr><td>class_5_f_beta_score</td><td>▁▂▄▃▄▃▃▃▄▄▄▅▄▅▇▅▆▄▆▅█▅▆▅▅▆▄▆▆▆▅▄▅▆▄▆▅▆▅▅</td></tr><tr><td>class_6_dice_score</td><td>▁▂▃▄▄▄▃▅▄▄▃▆▄▄▇▄▅▅▂▃▆▅▄▇▅▆▁▅▅▃█▇▆▆█▆▅▅▆▆</td></tr><tr><td>class_6_f_beta_score</td><td>▁▁▃▄▂▃▅▅▃▆▂▃▄▆▅▄▆▄▅▅▃▆▇▇▅▅▇▅█▆▄▆▅▆▇▆▇█▅▅</td></tr><tr><td>epoch</td><td>▁▁▁▂▂▂▂▂▃▃▃▃▃▃▄▄▄▄▄▄▅▅▅▅▅▆▆▆▆▆▇▇▇▇▇▇▇▇██</td></tr><tr><td>overall_mean_dice_score</td><td>▁▁▂▃▃▄▃▄▄▅▅▅▅▄▅▆▅▆▆▆▆▇▇▇▆▇▇▇▇▇▆█▇█▇▇▇▆▆█</td></tr><tr><td>overall_mean_f_beta_score</td><td>▁▃▃▃▄▄▄▆▅▅▄▄▅▆▅▆▅▆▆▆▆▅▇▆▇▇▇█▆▇▇▇▇█▇▇▆▇▆▇</td></tr><tr><td>train_epoch_loss</td><td>██▇▆▆▅▄▄▄▄▃▃▃▃▃▃▃▃▂▃▂▂▂▂▂▂▂▂▂▂▁▁▂▁▁▁▁▁▁▁</td></tr><tr><td>val_epoch_loss</td><td>██▇▇▆▆▅▄▄▄▄▄▄▄▃▃▄▃▂▃▃▃▃▃▂▂▂▃▂▂▃▃▃▁▂▂▁▃▂▂</td></tr></table><br/></div><div class=\"wandb-col\"><h3>Run summary:</h3><br/><table class=\"wandb\"><tr><td>class_0_dice_score</td><td>0.99302</td></tr><tr><td>class_0_f_beta_score</td><td>0.99531</td></tr><tr><td>class_1_dice_score</td><td>0.75063</td></tr><tr><td>class_1_f_beta_score</td><td>0.76098</td></tr><tr><td>class_2_dice_score</td><td>0.10584</td></tr><tr><td>class_2_f_beta_score</td><td>0.16016</td></tr><tr><td>class_3_dice_score</td><td>0.37676</td></tr><tr><td>class_3_f_beta_score</td><td>0.38307</td></tr><tr><td>class_4_dice_score</td><td>0.71386</td></tr><tr><td>class_4_f_beta_score</td><td>0.69372</td></tr><tr><td>class_5_dice_score</td><td>0.39717</td></tr><tr><td>class_5_f_beta_score</td><td>0.31124</td></tr><tr><td>class_6_dice_score</td><td>0.65622</td></tr><tr><td>class_6_f_beta_score</td><td>0.67662</td></tr><tr><td>epoch</td><td>91</td></tr><tr><td>overall_mean_dice_score</td><td>0.57893</td></tr><tr><td>overall_mean_f_beta_score</td><td>0.56513</td></tr><tr><td>train_epoch_loss</td><td>0.31833</td></tr><tr><td>val_epoch_loss</td><td>0.32286</td></tr></table><br/></div></div>"
      ],
      "text/plain": [
       "<IPython.core.display.HTML object>"
      ]
     },
     "metadata": {},
     "output_type": "display_data"
    },
    {
     "data": {
      "text/html": [
       " View run <strong style=\"color:#cdcd00\">SwinCSP_UNETR__pyes_weighted_f48_d96s96_numb2_lr1e-04_a0.50_b0.50_b2_r20_ce0.4</strong> at: <a href='https://wandb.ai/limbw/czii_SwinUnetR/runs/i175p15s' target=\"_blank\">https://wandb.ai/limbw/czii_SwinUnetR/runs/i175p15s</a><br> View project at: <a href='https://wandb.ai/limbw/czii_SwinUnetR' target=\"_blank\">https://wandb.ai/limbw/czii_SwinUnetR</a><br>Synced 5 W&B file(s), 0 media file(s), 0 artifact file(s) and 0 other file(s)"
      ],
      "text/plain": [
       "<IPython.core.display.HTML object>"
      ]
     },
     "metadata": {},
     "output_type": "display_data"
    },
    {
     "data": {
      "text/html": [
       "Find logs at: <code>.\\wandb\\run-20250103_003139-i175p15s\\logs</code>"
      ],
      "text/plain": [
       "<IPython.core.display.HTML object>"
      ]
     },
     "metadata": {},
     "output_type": "display_data"
    }
   ],
   "source": [
    "train_model(\n",
    "    model=model,\n",
    "    train_loader=train_loader,\n",
    "    val_loader=val_loader,\n",
    "    criterion=criterion,\n",
    "    optimizer=optimizer,\n",
    "    num_epochs=num_epochs,\n",
    "    patience=10,\n",
    "    device=device,\n",
    "    start_epoch=start_epoch,\n",
    "    best_val_loss=best_val_loss,\n",
    "    best_val_fbeta_score=best_val_fbeta_score,\n",
    "    calculate_dice_interval=1,\n",
    "    accumulation_steps = accumulation_steps\n",
    "     ) "
   ]
  },
  {
   "cell_type": "code",
   "execution_count": 12,
   "metadata": {},
   "outputs": [
    {
     "ename": "SyntaxError",
     "evalue": "invalid syntax (879943805.py, line 1)",
     "output_type": "error",
     "traceback": [
      "\u001b[1;36m  Cell \u001b[1;32mIn[12], line 1\u001b[1;36m\u001b[0m\n\u001b[1;33m    if:\u001b[0m\n\u001b[1;37m      ^\u001b[0m\n\u001b[1;31mSyntaxError\u001b[0m\u001b[1;31m:\u001b[0m invalid syntax\n"
     ]
    }
   ],
   "source": [
    "if:"
   ]
  },
  {
   "cell_type": "markdown",
   "metadata": {},
   "source": [
    "# VAl"
   ]
  },
  {
   "cell_type": "code",
   "execution_count": null,
   "metadata": {},
   "outputs": [
    {
     "data": {
      "text/html": [
       "Finishing last run (ID:fs6utwyo) before initializing another..."
      ],
      "text/plain": [
       "<IPython.core.display.HTML object>"
      ]
     },
     "metadata": {},
     "output_type": "display_data"
    },
    {
     "data": {
      "application/vnd.jupyter.widget-view+json": {
       "model_id": "29cc3ae761af43baae5aca60b5d2e7f4",
       "version_major": 2,
       "version_minor": 0
      },
      "text/plain": [
       "VBox(children=(Label(value='0.009 MB of 0.009 MB uploaded\\r'), FloatProgress(value=1.0, max=1.0)))"
      ]
     },
     "metadata": {},
     "output_type": "display_data"
    },
    {
     "data": {
      "text/html": [
       "<style>\n",
       "    table.wandb td:nth-child(1) { padding: 0 10px; text-align: left ; width: auto;} td:nth-child(2) {text-align: left ; width: 100%}\n",
       "    .wandb-row { display: flex; flex-direction: row; flex-wrap: wrap; justify-content: flex-start; width: 100% }\n",
       "    .wandb-col { display: flex; flex-direction: column; flex-basis: 100%; flex: 1; padding: 10px; }\n",
       "    </style>\n",
       "<div class=\"wandb-row\"><div class=\"wandb-col\"><h3>Run history:</h3><br/><table class=\"wandb\"><tr><td>class_0_dice_score</td><td>▁</td></tr><tr><td>class_0_f_beta_score</td><td>▁</td></tr><tr><td>class_1_dice_score</td><td>▁</td></tr><tr><td>class_1_f_beta_score</td><td>▁</td></tr><tr><td>class_2_dice_score</td><td>▁</td></tr><tr><td>class_2_f_beta_score</td><td>▁</td></tr><tr><td>class_3_dice_score</td><td>▁</td></tr><tr><td>class_3_f_beta_score</td><td>▁</td></tr><tr><td>class_4_dice_score</td><td>▁</td></tr><tr><td>class_4_f_beta_score</td><td>▁</td></tr><tr><td>class_5_dice_score</td><td>▁</td></tr><tr><td>class_5_f_beta_score</td><td>▁</td></tr><tr><td>class_6_dice_score</td><td>▁</td></tr><tr><td>class_6_f_beta_score</td><td>▁</td></tr><tr><td>epoch</td><td>▁▁▁▁▁▁▁▁▁▁▁▁▁▁▁▁</td></tr><tr><td>overall_mean_dice_score</td><td>▁</td></tr><tr><td>overall_mean_f_beta_score</td><td>▁</td></tr><tr><td>val_epoch_loss</td><td>▁</td></tr></table><br/></div><div class=\"wandb-col\"><h3>Run summary:</h3><br/><table class=\"wandb\"><tr><td>class_0_dice_score</td><td>0.65703</td></tr><tr><td>class_0_f_beta_score</td><td>0.50748</td></tr><tr><td>class_1_dice_score</td><td>0.53332</td></tr><tr><td>class_1_f_beta_score</td><td>0.64703</td></tr><tr><td>class_2_dice_score</td><td>0.00286</td></tr><tr><td>class_2_f_beta_score</td><td>0.02334</td></tr><tr><td>class_3_dice_score</td><td>0.23703</td></tr><tr><td>class_3_f_beta_score</td><td>0.23033</td></tr><tr><td>class_4_dice_score</td><td>0.65487</td></tr><tr><td>class_4_f_beta_score</td><td>0.62525</td></tr><tr><td>class_5_dice_score</td><td>0.47899</td></tr><tr><td>class_5_f_beta_score</td><td>0.51448</td></tr><tr><td>class_6_dice_score</td><td>0.42545</td></tr><tr><td>class_6_f_beta_score</td><td>0.47197</td></tr><tr><td>epoch</td><td>1</td></tr><tr><td>overall_mean_dice_score</td><td>0.42708</td></tr><tr><td>overall_mean_f_beta_score</td><td>0.43141</td></tr><tr><td>val_epoch_loss</td><td>0.7152</td></tr></table><br/></div></div>"
      ],
      "text/plain": [
       "<IPython.core.display.HTML object>"
      ]
     },
     "metadata": {},
     "output_type": "display_data"
    },
    {
     "data": {
      "text/html": [
       " View run <strong style=\"color:#cdcd00\">SwinUNETR96_96_lr0.001_lambda0.52_batch2</strong> at: <a href='https://wandb.ai/waooang/czii_SwinUnetR_val/runs/fs6utwyo' target=\"_blank\">https://wandb.ai/waooang/czii_SwinUnetR_val/runs/fs6utwyo</a><br/> View project at: <a href='https://wandb.ai/waooang/czii_SwinUnetR_val' target=\"_blank\">https://wandb.ai/waooang/czii_SwinUnetR_val</a><br/>Synced 4 W&B file(s), 0 media file(s), 3 artifact file(s) and 0 other file(s)"
      ],
      "text/plain": [
       "<IPython.core.display.HTML object>"
      ]
     },
     "metadata": {},
     "output_type": "display_data"
    },
    {
     "data": {
      "text/html": [
       "Find logs at: <code>.\\wandb\\run-20241219_200219-fs6utwyo\\logs</code>"
      ],
      "text/plain": [
       "<IPython.core.display.HTML object>"
      ]
     },
     "metadata": {},
     "output_type": "display_data"
    },
    {
     "data": {
      "text/html": [
       "Successfully finished last run (ID:fs6utwyo). Initializing new run:<br/>"
      ],
      "text/plain": [
       "<IPython.core.display.HTML object>"
      ]
     },
     "metadata": {},
     "output_type": "display_data"
    },
    {
     "data": {
      "text/html": [
       "Tracking run with wandb version 0.18.3"
      ],
      "text/plain": [
       "<IPython.core.display.HTML object>"
      ]
     },
     "metadata": {},
     "output_type": "display_data"
    },
    {
     "data": {
      "text/html": [
       "Run data is saved locally in <code>e:\\Workspace\\czll\\wandb\\run-20241219_200454-121l7bn3</code>"
      ],
      "text/plain": [
       "<IPython.core.display.HTML object>"
      ]
     },
     "metadata": {},
     "output_type": "display_data"
    },
    {
     "data": {
      "text/html": [
       "Syncing run <strong><a href='https://wandb.ai/waooang/czii_SwinUnetR_val/runs/121l7bn3' target=\"_blank\">SwinUNETR96_96_lr0.001_lambda0.52_batch2</a></strong> to <a href='https://wandb.ai/waooang/czii_SwinUnetR_val' target=\"_blank\">Weights & Biases</a> (<a href='https://wandb.me/run' target=\"_blank\">docs</a>)<br/>"
      ],
      "text/plain": [
       "<IPython.core.display.HTML object>"
      ]
     },
     "metadata": {},
     "output_type": "display_data"
    },
    {
     "data": {
      "text/html": [
       " View project at <a href='https://wandb.ai/waooang/czii_SwinUnetR_val' target=\"_blank\">https://wandb.ai/waooang/czii_SwinUnetR_val</a>"
      ],
      "text/plain": [
       "<IPython.core.display.HTML object>"
      ]
     },
     "metadata": {},
     "output_type": "display_data"
    },
    {
     "data": {
      "text/html": [
       " View run at <a href='https://wandb.ai/waooang/czii_SwinUnetR_val/runs/121l7bn3' target=\"_blank\">https://wandb.ai/waooang/czii_SwinUnetR_val/runs/121l7bn3</a>"
      ],
      "text/plain": [
       "<IPython.core.display.HTML object>"
      ]
     },
     "metadata": {},
     "output_type": "display_data"
    },
    {
     "name": "stderr",
     "output_type": "stream",
     "text": [
      "Loading dataset: 100%|██████████| 4/4 [00:06<00:00,  1.58s/it]\n",
      "C:\\Users\\Seungwoo\\AppData\\Local\\Temp\\ipykernel_21000\\1177025787.py:95: FutureWarning: You are using `torch.load` with `weights_only=False` (the current default value), which uses the default pickle module implicitly. It is possible to construct malicious pickle data which will execute arbitrary code during unpickling (See https://github.com/pytorch/pytorch/blob/main/SECURITY.md#untrusted-models for more details). In a future release, the default value for `weights_only` will be flipped to `True`. This limits the functions that could be executed during unpickling. Arbitrary objects will no longer be allowed to be loaded via this mode unless they are explicitly allowlisted by the user via `torch.serialization.add_safe_globals`. We recommend you start setting `weights_only=True` for any use case where you don't have full control of the loaded file. Please open an issue on GitHub for any issues related to this experimental feature.\n",
      "  checkpoint = torch.load(pretrain_path, map_location=device)\n",
      "Validation: 100%|██████████| 4/4 [00:01<00:00,  2.38it/s, loss=0.865]"
     ]
    },
    {
     "name": "stdout",
     "output_type": "stream",
     "text": [
      "Validation Dice Score\n",
      "Class 0: 0.6570, Class 1: 0.5333, Class 2: 0.0029, Class 3: 0.2370, \n",
      "Class 4: 0.6549, Class 5: 0.4790, Class 6: 0.4255, \n",
      "Validation F-beta Score\n",
      "Class 0: 0.5075, Class 1: 0.6470, Class 2: 0.0233, Class 3: 0.2303, \n",
      "Class 4: 0.6252, Class 5: 0.5145, Class 6: 0.4720, \n",
      "Overall Mean Dice Score: 0.4659\n",
      "Overall Mean F-beta Score: 0.4978\n",
      "\n"
     ]
    },
    {
     "name": "stderr",
     "output_type": "stream",
     "text": [
      "\n"
     ]
    }
   ],
   "source": [
    "from monai.data import DataLoader, Dataset, CacheDataset\n",
    "from monai.transforms import (\n",
    "    Compose, LoadImaged, EnsureChannelFirstd, NormalizeIntensityd,\n",
    "    Orientationd, CropForegroundd, GaussianSmoothd, ScaleIntensityd,\n",
    "    RandSpatialCropd, RandRotate90d, RandFlipd, RandGaussianNoised,\n",
    "    ToTensord, RandCropByLabelClassesd\n",
    ")\n",
    "from monai.metrics import DiceMetric\n",
    "from monai.networks.nets import UNETR, SwinUNETR\n",
    "from monai.losses import TverskyLoss\n",
    "import torch\n",
    "import numpy as np\n",
    "from tqdm import tqdm\n",
    "import wandb\n",
    "from src.dataset.dataset import make_val_dataloader\n",
    "\n",
    "val_img_dir = \"./datasets/val/images\"\n",
    "val_label_dir = \"./datasets/val/labels\"\n",
    "img_depth = 96\n",
    "img_size = 96  # Match your patch size\n",
    "n_classes = 7\n",
    "batch_size = 2 # 13.8GB GPU memory required for 128x128 img size\n",
    "num_samples = batch_size # 한 이미지에서 뽑을 샘플 수\n",
    "loader_batch = 1\n",
    "lamda = 0.52\n",
    "\n",
    "wandb.init(\n",
    "    project='czii_SwinUnetR_val',  # 프로젝트 이름 설정\n",
    "    name='SwinUNETR96_96_lr0.001_lambda0.52_batch2',         # 실행(run) 이름 설정\n",
    "    config={\n",
    "        'learning_rate': 0.001,\n",
    "        'batch_size': batch_size,\n",
    "        'lambda': lamda,\n",
    "        'img_size': img_size,\n",
    "        'device': 'cuda',\n",
    "        \"checkpoint_dir\": \"./model_checkpoints/SwinUNETR96_96_lr0.001_lambda0.52_batch2\",\n",
    "        \n",
    "    }\n",
    ")\n",
    "\n",
    "non_random_transforms = Compose([\n",
    "    EnsureChannelFirstd(keys=[\"image\", \"label\"], channel_dim=\"no_channel\"),\n",
    "    NormalizeIntensityd(keys=\"image\"),\n",
    "    Orientationd(keys=[\"image\", \"label\"], axcodes=\"RAS\"),\n",
    "    GaussianSmoothd(\n",
    "        keys=[\"image\"],      # 변환을 적용할 키\n",
    "        sigma=[1.0, 1.0, 1.0]  # 각 축(x, y, z)의 시그마 값\n",
    "        ),\n",
    "])\n",
    "random_transforms = Compose([\n",
    "    RandCropByLabelClassesd(\n",
    "        keys=[\"image\", \"label\"],\n",
    "        label_key=\"label\",\n",
    "        spatial_size=[img_depth, img_size, img_size],\n",
    "        num_classes=n_classes,\n",
    "        num_samples=num_samples, \n",
    "        ratios=ratios_list,\n",
    "    ),\n",
    "    RandRotate90d(keys=[\"image\", \"label\"], prob=0.5, spatial_axes=[1, 2]),\n",
    "    RandFlipd(keys=[\"image\", \"label\"], prob=0.5, spatial_axis=0),\n",
    "])\n",
    "\n",
    "val_loader = make_val_dataloader(\n",
    "    val_img_dir, \n",
    "    val_label_dir, \n",
    "    non_random_transforms = non_random_transforms, \n",
    "    random_transforms = random_transforms, \n",
    "    batch_size = loader_batch,\n",
    "    num_workers=0\n",
    ")\n",
    "criterion = TverskyLoss(\n",
    "    alpha= 1 - lamda,  # FP에 대한 가중치\n",
    "    beta=lamda,       # FN에 대한 가중치\n",
    "    include_background=False,  # 배경 클래스 제외\n",
    "    softmax=True\n",
    ")\n",
    "    \n",
    "    \n",
    "from monai.metrics import DiceMetric\n",
    "\n",
    "img_size = 96\n",
    "img_depth = img_size\n",
    "n_classes = 7 \n",
    "\n",
    "device = torch.device(\"cuda\" if torch.cuda.is_available() else \"cpu\")\n",
    "pretrain_path = \"./model_checkpoints/SwinUNETR96_96_lr0.001_lambda0.52_batch2/best_model.pt\"\n",
    "model = SwinUNETR(\n",
    "    img_size=(img_depth, img_size, img_size),\n",
    "    in_channels=1,\n",
    "    out_channels=n_classes,\n",
    "    feature_size=48,\n",
    "    use_checkpoint=True,\n",
    ").to(device)\n",
    "# Pretrained weights 불러오기\n",
    "checkpoint = torch.load(pretrain_path, map_location=device)\n",
    "model.load_state_dict(checkpoint['model_state_dict'])\n",
    "\n",
    "val_loss, overall_mean_fbeta_score = validate_one_epoch(\n",
    "    model=model, \n",
    "    val_loader=val_loader, \n",
    "    criterion=criterion, \n",
    "    device=device, \n",
    "    epoch=0, \n",
    "    calculate_dice_interval=1\n",
    ")"
   ]
  },
  {
   "cell_type": "markdown",
   "metadata": {},
   "source": [
    "# Inference"
   ]
  },
  {
   "cell_type": "code",
   "execution_count": null,
   "metadata": {},
   "outputs": [],
   "source": [
    "from src.dataset.preprocessing import Preprocessor"
   ]
  },
  {
   "cell_type": "code",
   "execution_count": null,
   "metadata": {},
   "outputs": [
    {
     "name": "stdout",
     "output_type": "stream",
     "text": [
      "Done.\n"
     ]
    }
   ],
   "source": [
    "from monai.inferers import sliding_window_inference\n",
    "from monai.transforms import Compose, EnsureChannelFirstd, NormalizeIntensityd, Orientationd, GaussianSmoothd\n",
    "from monai.data import DataLoader, Dataset, CacheDataset\n",
    "from monai.networks.nets import SwinUNETR\n",
    "from pathlib import Path\n",
    "import numpy as np\n",
    "import copick\n",
    "\n",
    "import torch\n",
    "print(\"Done.\")"
   ]
  },
  {
   "cell_type": "code",
   "execution_count": null,
   "metadata": {},
   "outputs": [
    {
     "name": "stdout",
     "output_type": "stream",
     "text": [
      "Config file written to ./kaggle/working/copick.config\n",
      "file length: 7\n"
     ]
    }
   ],
   "source": [
    "config_blob = \"\"\"{\n",
    "    \"name\": \"czii_cryoet_mlchallenge_2024\",\n",
    "    \"description\": \"2024 CZII CryoET ML Challenge training data.\",\n",
    "    \"version\": \"1.0.0\",\n",
    "\n",
    "    \"pickable_objects\": [\n",
    "        {\n",
    "            \"name\": \"apo-ferritin\",\n",
    "            \"is_particle\": true,\n",
    "            \"pdb_id\": \"4V1W\",\n",
    "            \"label\": 1,\n",
    "            \"color\": [  0, 117, 220, 128],\n",
    "            \"radius\": 60,\n",
    "            \"map_threshold\": 0.0418\n",
    "        },\n",
    "        {\n",
    "          \"name\" : \"beta-amylase\",\n",
    "            \"is_particle\": true,\n",
    "            \"pdb_id\": \"8ZRZ\",\n",
    "            \"label\": 2,\n",
    "            \"color\": [255, 255, 255, 128],\n",
    "            \"radius\": 90,\n",
    "            \"map_threshold\": 0.0578  \n",
    "        },\n",
    "        {\n",
    "            \"name\": \"beta-galactosidase\",\n",
    "            \"is_particle\": true,\n",
    "            \"pdb_id\": \"6X1Q\",\n",
    "            \"label\": 3,\n",
    "            \"color\": [ 76,   0,  92, 128],\n",
    "            \"radius\": 90,\n",
    "            \"map_threshold\": 0.0578\n",
    "        },\n",
    "        {\n",
    "            \"name\": \"ribosome\",\n",
    "            \"is_particle\": true,\n",
    "            \"pdb_id\": \"6EK0\",\n",
    "            \"label\": 4,\n",
    "            \"color\": [  0,  92,  49, 128],\n",
    "            \"radius\": 150,\n",
    "            \"map_threshold\": 0.0374\n",
    "        },\n",
    "        {\n",
    "            \"name\": \"thyroglobulin\",\n",
    "            \"is_particle\": true,\n",
    "            \"pdb_id\": \"6SCJ\",\n",
    "            \"label\": 5,\n",
    "            \"color\": [ 43, 206,  72, 128],\n",
    "            \"radius\": 130,\n",
    "            \"map_threshold\": 0.0278\n",
    "        },\n",
    "        {\n",
    "            \"name\": \"virus-like-particle\",\n",
    "            \"is_particle\": true,\n",
    "            \"label\": 6,\n",
    "            \"color\": [255, 204, 153, 128],\n",
    "            \"radius\": 135,\n",
    "            \"map_threshold\": 0.201\n",
    "        },\n",
    "        {\n",
    "            \"name\": \"membrane\",\n",
    "            \"is_particle\": false,\n",
    "            \"label\": 8,\n",
    "            \"color\": [100, 100, 100, 128]\n",
    "        },\n",
    "        {\n",
    "            \"name\": \"background\",\n",
    "            \"is_particle\": false,\n",
    "            \"label\": 9,\n",
    "            \"color\": [10, 150, 200, 128]\n",
    "        }\n",
    "    ],\n",
    "\n",
    "    \"overlay_root\": \"./kaggle/working/overlay\",\n",
    "\n",
    "    \"overlay_fs_args\": {\n",
    "        \"auto_mkdir\": true\n",
    "    },\n",
    "\n",
    "    \"static_root\": \"./kaggle/input/czii-cryo-et-object-identification/test/static\"\n",
    "}\"\"\"\n",
    "\n",
    "copick_config_path = \"./kaggle/working/copick.config\"\n",
    "preprocessor = Preprocessor(config_blob,copick_config_path=copick_config_path)\n",
    "non_random_transforms = Compose([\n",
    "    EnsureChannelFirstd(keys=[\"image\"], channel_dim=\"no_channel\"),\n",
    "    NormalizeIntensityd(keys=\"image\"),\n",
    "    Orientationd(keys=[\"image\"], axcodes=\"RAS\"),\n",
    "    GaussianSmoothd(\n",
    "        keys=[\"image\"],      # 변환을 적용할 키\n",
    "        sigma=[1.0, 1.0, 1.0]  # 각 축(x, y, z)의 시그마 값\n",
    "        ),\n",
    "    ])"
   ]
  },
  {
   "cell_type": "code",
   "execution_count": null,
   "metadata": {},
   "outputs": [
    {
     "name": "stderr",
     "output_type": "stream",
     "text": [
      "c:\\ProgramData\\anaconda3\\envs\\ship\\Lib\\site-packages\\monai\\utils\\deprecate_utils.py:221: FutureWarning: monai.networks.nets.swin_unetr SwinUNETR.__init__:img_size: Argument `img_size` has been deprecated since version 1.3. It will be removed in version 1.5. The img_size argument is not required anymore and checks on the input size are run during forward().\n",
      "  warn_deprecated(argname, msg, warning_category)\n",
      "C:\\Users\\Seungwoo\\AppData\\Local\\Temp\\ipykernel_6248\\2937359115.py:15: FutureWarning: You are using `torch.load` with `weights_only=False` (the current default value), which uses the default pickle module implicitly. It is possible to construct malicious pickle data which will execute arbitrary code during unpickling (See https://github.com/pytorch/pytorch/blob/main/SECURITY.md#untrusted-models for more details). In a future release, the default value for `weights_only` will be flipped to `True`. This limits the functions that could be executed during unpickling. Arbitrary objects will no longer be allowed to be loaded via this mode unless they are explicitly allowlisted by the user via `torch.serialization.add_safe_globals`. We recommend you start setting `weights_only=True` for any use case where you don't have full control of the loaded file. Please open an issue on GitHub for any issues related to this experimental feature.\n",
      "  checkpoint = torch.load(pretrain_path, map_location=device)\n"
     ]
    },
    {
     "data": {
      "text/plain": [
       "<All keys matched successfully>"
      ]
     },
     "execution_count": 15,
     "metadata": {},
     "output_type": "execute_result"
    }
   ],
   "source": [
    "img_size = 96\n",
    "img_depth = img_size\n",
    "n_classes = 7 \n",
    "\n",
    "device = torch.device(\"cuda\" if torch.cuda.is_available() else \"cpu\")\n",
    "pretrain_path = \"./model_checkpoints/SwinUNETR96_96_lr0.001_lambda0.52_batch2/best_model.pt\"\n",
    "model = SwinUNETR(\n",
    "    img_size=(img_depth, img_size, img_size),\n",
    "    in_channels=1,\n",
    "    out_channels=n_classes,\n",
    "    feature_size=48,\n",
    "    use_checkpoint=True,\n",
    ").to(device)\n",
    "# Pretrained weights 불러오기\n",
    "checkpoint = torch.load(pretrain_path, map_location=device)\n",
    "model.load_state_dict(checkpoint['model_state_dict'])\n"
   ]
  },
  {
   "cell_type": "code",
   "execution_count": null,
   "metadata": {},
   "outputs": [
    {
     "name": "stderr",
     "output_type": "stream",
     "text": [
      "Validation:   0%|          | 0/4 [00:03<?, ?it/s, loss=0.764]\n"
     ]
    },
    {
     "ename": "ZeroDivisionError",
     "evalue": "integer modulo by zero",
     "output_type": "error",
     "traceback": [
      "\u001b[1;31m---------------------------------------------------------------------------\u001b[0m",
      "\u001b[1;31mZeroDivisionError\u001b[0m                         Traceback (most recent call last)",
      "Cell \u001b[1;32mIn[16], line 1\u001b[0m\n\u001b[1;32m----> 1\u001b[0m val_loss \u001b[38;5;241m=\u001b[39m \u001b[43mvalidate_one_epoch\u001b[49m\u001b[43m(\u001b[49m\n\u001b[0;32m      2\u001b[0m \u001b[43m            \u001b[49m\u001b[43mmodel\u001b[49m\u001b[38;5;241;43m=\u001b[39;49m\u001b[43mmodel\u001b[49m\u001b[43m,\u001b[49m\u001b[43m \u001b[49m\n\u001b[0;32m      3\u001b[0m \u001b[43m            \u001b[49m\u001b[43mval_loader\u001b[49m\u001b[38;5;241;43m=\u001b[39;49m\u001b[43mval_loader\u001b[49m\u001b[43m,\u001b[49m\u001b[43m \u001b[49m\n\u001b[0;32m      4\u001b[0m \u001b[43m            \u001b[49m\u001b[43mcriterion\u001b[49m\u001b[38;5;241;43m=\u001b[39;49m\u001b[43mcriterion\u001b[49m\u001b[43m,\u001b[49m\u001b[43m \u001b[49m\n\u001b[0;32m      5\u001b[0m \u001b[43m            \u001b[49m\u001b[43mdevice\u001b[49m\u001b[38;5;241;43m=\u001b[39;49m\u001b[43mdevice\u001b[49m\u001b[43m,\u001b[49m\u001b[43m \u001b[49m\n\u001b[0;32m      6\u001b[0m \u001b[43m            \u001b[49m\u001b[43mepoch\u001b[49m\u001b[38;5;241;43m=\u001b[39;49m\u001b[38;5;241;43m1\u001b[39;49m\u001b[43m,\u001b[49m\u001b[43m \u001b[49m\n\u001b[0;32m      7\u001b[0m \u001b[43m            \u001b[49m\u001b[43mcalculate_dice_interval\u001b[49m\u001b[38;5;241;43m=\u001b[39;49m\u001b[38;5;241;43m0\u001b[39;49m\n\u001b[0;32m      8\u001b[0m \u001b[43m        \u001b[49m\u001b[43m)\u001b[49m\n",
      "Cell \u001b[1;32mIn[11], line 64\u001b[0m, in \u001b[0;36mvalidate_one_epoch\u001b[1;34m(model, val_loader, criterion, device, epoch, calculate_dice_interval)\u001b[0m\n\u001b[0;32m     61\u001b[0m pbar\u001b[38;5;241m.\u001b[39mset_postfix(loss\u001b[38;5;241m=\u001b[39mloss\u001b[38;5;241m.\u001b[39mitem())\n\u001b[0;32m     63\u001b[0m \u001b[38;5;66;03m# 각 클래스별 Dice 점수 계산\u001b[39;00m\n\u001b[1;32m---> 64\u001b[0m \u001b[38;5;28;01mif\u001b[39;00m \u001b[43mepoch\u001b[49m\u001b[43m \u001b[49m\u001b[38;5;241;43m%\u001b[39;49m\u001b[43m \u001b[49m\u001b[43mcalculate_dice_interval\u001b[49m \u001b[38;5;241m==\u001b[39m \u001b[38;5;241m0\u001b[39m:\n\u001b[0;32m     65\u001b[0m     \u001b[38;5;28;01mfor\u001b[39;00m i \u001b[38;5;129;01min\u001b[39;00m \u001b[38;5;28mrange\u001b[39m(n_classes):\n\u001b[0;32m     66\u001b[0m         pred_i \u001b[38;5;241m=\u001b[39m (preds \u001b[38;5;241m==\u001b[39m i)\n",
      "\u001b[1;31mZeroDivisionError\u001b[0m: integer modulo by zero"
     ]
    }
   ],
   "source": [
    "val_loss = validate_one_epoch(\n",
    "            model=model, \n",
    "            val_loader=val_loader, \n",
    "            criterion=criterion, \n",
    "            device=device, \n",
    "            epoch=1, \n",
    "            calculate_dice_interval=0\n",
    "        )"
   ]
  },
  {
   "cell_type": "code",
   "execution_count": null,
   "metadata": {},
   "outputs": [
    {
     "name": "stdout",
     "output_type": "stream",
     "text": [
      "Processing volume 1/7\n"
     ]
    },
    {
     "name": "stderr",
     "output_type": "stream",
     "text": [
      "Loading dataset: 100%|██████████| 1/1 [00:01<00:00,  1.94s/it]\n"
     ]
    },
    {
     "name": "stdout",
     "output_type": "stream",
     "text": [
      "Processing volume 2/7\n"
     ]
    },
    {
     "name": "stderr",
     "output_type": "stream",
     "text": [
      "Loading dataset: 100%|██████████| 1/1 [00:01<00:00,  1.89s/it]\n"
     ]
    },
    {
     "name": "stdout",
     "output_type": "stream",
     "text": [
      "Processing volume 3/7\n"
     ]
    },
    {
     "name": "stderr",
     "output_type": "stream",
     "text": [
      "Loading dataset: 100%|██████████| 1/1 [00:01<00:00,  1.79s/it]\n"
     ]
    },
    {
     "name": "stdout",
     "output_type": "stream",
     "text": [
      "Submission saved to: submission.csv\n"
     ]
    }
   ],
   "source": [
    "import torch\n",
    "import numpy as np\n",
    "from scipy.ndimage import label, center_of_mass\n",
    "import pandas as pd\n",
    "from tqdm import tqdm\n",
    "from monai.data import CacheDataset, DataLoader\n",
    "from monai.transforms import Compose, NormalizeIntensity\n",
    "import cc3d\n",
    "\n",
    "def dict_to_df(coord_dict, experiment_name):\n",
    "    all_coords = []\n",
    "    all_labels = []\n",
    "    \n",
    "    for label, coords in coord_dict.items():\n",
    "        all_coords.append(coords)\n",
    "        all_labels.extend([label] * len(coords))\n",
    "    \n",
    "    all_coords = np.vstack(all_coords)\n",
    "    df = pd.DataFrame({\n",
    "        'experiment': experiment_name,\n",
    "        'particle_type': all_labels,\n",
    "        'x': all_coords[:, 0],\n",
    "        'y': all_coords[:, 1],\n",
    "        'z': all_coords[:, 2]\n",
    "    })\n",
    "    return df\n",
    "\n",
    "id_to_name = {1: \"apo-ferritin\", \n",
    "              2: \"beta-amylase\",\n",
    "              3: \"beta-galactosidase\", \n",
    "              4: \"ribosome\", \n",
    "              5: \"thyroglobulin\", \n",
    "              6: \"virus-like-particle\"}\n",
    "BLOB_THRESHOLD = 200\n",
    "CERTAINTY_THRESHOLD = 0.05\n",
    "\n",
    "classes = [1, 2, 3, 4, 5, 6]\n",
    "\n",
    "model.eval()\n",
    "with torch.no_grad():\n",
    "    location_dfs = []  # DataFrame 리스트로 초기화\n",
    "    \n",
    "    for vol_idx, run in enumerate(preprocessor.root.runs):\n",
    "        print(f\"Processing volume {vol_idx + 1}/{len(preprocessor.root.runs)}\")\n",
    "        tomogram = preprocessor.processing(run=run, task=\"task\")\n",
    "        task_files = [{\"image\": tomogram}]\n",
    "        task_ds = CacheDataset(data=task_files, transform=non_random_transforms)\n",
    "        task_loader = DataLoader(task_ds, batch_size=1, num_workers=0)\n",
    "        \n",
    "        for task_data in task_loader:\n",
    "            images = task_data['image'].to(\"cuda\")\n",
    "            outputs = sliding_window_inference(\n",
    "                inputs=images,\n",
    "                roi_size=(96, 96, 96),  # ROI 크기\n",
    "                sw_batch_size=4,\n",
    "                predictor=model.forward,\n",
    "                overlap=0.1,\n",
    "                sw_device=\"cuda\",\n",
    "                device=\"cpu\",\n",
    "                buffer_steps=1,\n",
    "                buffer_dim=-1\n",
    "            )\n",
    "            outputs = outputs.argmax(dim=1).squeeze(0).cpu().numpy()  # 클래스 채널 예측\n",
    "            location = {}  # 좌표 저장용 딕셔너리\n",
    "            for c in classes:\n",
    "                cc = cc3d.connected_components(outputs == c)  # cc3d 라벨링\n",
    "                stats = cc3d.statistics(cc)\n",
    "                zyx = stats['centroids'][1:] * 10.012444  # 스케일 변환\n",
    "                zyx_large = zyx[stats['voxel_counts'][1:] > BLOB_THRESHOLD]  # 크기 필터링\n",
    "                xyz = np.ascontiguousarray(zyx_large[:, ::-1])  # 좌표 스왑 (z, y, x -> x, y, z)\n",
    "\n",
    "                location[id_to_name[c]] = xyz  # ID 이름 매칭 저장\n",
    "\n",
    "            # 데이터프레임 변환\n",
    "            df = dict_to_df(location, run.name)\n",
    "            location_dfs.append(df)  # 리스트에 추가\n",
    "        \n",
    "        # if vol_idx == 2:\n",
    "        #     break\n",
    "    \n",
    "    # DataFrame 병합\n",
    "    final_df = pd.concat(location_dfs, ignore_index=True)\n",
    "    \n",
    "    # ID 추가 및 CSV 저장\n",
    "    final_df.insert(loc=0, column='id', value=np.arange(len(final_df)))\n",
    "    final_df.to_csv(\"submission.csv\", index=False)\n",
    "    print(\"Submission saved to: submission.csv\")\n"
   ]
  }
 ],
 "metadata": {
  "kernelspec": {
   "display_name": "UM",
   "language": "python",
   "name": "python3"
  },
  "language_info": {
   "codemirror_mode": {
    "name": "ipython",
    "version": 3
   },
   "file_extension": ".py",
   "mimetype": "text/x-python",
   "name": "python",
   "nbconvert_exporter": "python",
   "pygments_lexer": "ipython3",
   "version": "3.12.7"
  }
 },
 "nbformat": 4,
 "nbformat_minor": 2
}
