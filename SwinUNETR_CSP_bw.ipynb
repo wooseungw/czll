{
 "cells": [
  {
   "cell_type": "code",
   "execution_count": 1,
   "metadata": {},
   "outputs": [
    {
     "name": "stderr",
     "output_type": "stream",
     "text": [
      "c:\\Users\\pook0\\.conda\\envs\\UM\\Lib\\site-packages\\tqdm\\auto.py:21: TqdmWarning: IProgress not found. Please update jupyter and ipywidgets. See https://ipywidgets.readthedocs.io/en/stable/user_install.html\n",
      "  from .autonotebook import tqdm as notebook_tqdm\n"
     ]
    },
    {
     "name": "stdout",
     "output_type": "stream",
     "text": [
      "MONAI version: 1.4.0\n",
      "Numpy version: 1.26.4\n",
      "Pytorch version: 2.4.1+cu121\n",
      "MONAI flags: HAS_EXT = False, USE_COMPILED = False, USE_META_DICT = False\n",
      "MONAI rev id: 46a5272196a6c2590ca2589029eed8e4d56ff008\n",
      "MONAI __file__: c:\\Users\\<username>\\.conda\\envs\\UM\\Lib\\site-packages\\monai\\__init__.py\n",
      "\n",
      "Optional dependencies:\n",
      "Pytorch Ignite version: NOT INSTALLED or UNKNOWN VERSION.\n",
      "ITK version: NOT INSTALLED or UNKNOWN VERSION.\n",
      "Nibabel version: 5.3.2\n",
      "scikit-image version: 0.24.0\n",
      "scipy version: 1.14.1\n",
      "Pillow version: 10.2.0\n",
      "Tensorboard version: 2.18.0\n",
      "gdown version: 5.2.0\n",
      "TorchVision version: 0.19.1+cu121\n",
      "tqdm version: 4.66.5\n",
      "lmdb version: NOT INSTALLED or UNKNOWN VERSION.\n",
      "psutil version: 6.0.0\n",
      "pandas version: 2.2.3\n",
      "einops version: 0.8.0\n",
      "transformers version: NOT INSTALLED or UNKNOWN VERSION.\n",
      "mlflow version: 2.17.2\n",
      "pynrrd version: NOT INSTALLED or UNKNOWN VERSION.\n",
      "clearml version: NOT INSTALLED or UNKNOWN VERSION.\n",
      "\n",
      "For details about installing the optional dependencies, please visit:\n",
      "    https://docs.monai.io/en/latest/installation.html#installing-the-recommended-dependencies\n",
      "\n"
     ]
    }
   ],
   "source": [
    "import os\n",
    "import shutil\n",
    "import tempfile\n",
    "\n",
    "import matplotlib.pyplot as plt\n",
    "from tqdm import tqdm\n",
    "\n",
    "import random\n",
    "import numpy as np\n",
    "import torch\n",
    "\n",
    "\n",
    "from monai.losses import DiceCELoss\n",
    "from monai.inferers import sliding_window_inference\n",
    "from monai.transforms import (\n",
    "    AsDiscrete,\n",
    "    EnsureChannelFirstd,\n",
    "    Compose,\n",
    "    CropForegroundd,\n",
    "    LoadImaged,\n",
    "    Orientationd,\n",
    "    RandFlipd,\n",
    "    RandCropByPosNegLabeld,\n",
    "    RandShiftIntensityd,\n",
    "    ScaleIntensityRanged,\n",
    "    Spacingd,\n",
    "    RandRotate90d,\n",
    ")\n",
    "\n",
    "from monai.config import print_config\n",
    "from monai.metrics import DiceMetric\n",
    "from src.models.swincspunetr import SwinCSPUNETR\n",
    "from src.models.swincspunetr_unet import SwinCSPUNETR_unet\n",
    "from src.models.swincspunetr3plus import SwinCSPUNETR3plus\n",
    "\n",
    "from monai.data import (\n",
    "    DataLoader,\n",
    "    CacheDataset,\n",
    "    load_decathlon_datalist,\n",
    "    decollate_batch,\n",
    ")\n",
    "\n",
    "# 랜덤 시드 고정\n",
    "def set_seed(seed):\n",
    "    random.seed(seed)\n",
    "    np.random.seed(seed)\n",
    "    torch.manual_seed(seed)\n",
    "    if torch.cuda.is_available():\n",
    "        torch.cuda.manual_seed_all(seed)\n",
    "\n",
    "set_seed(42)\n",
    "\n",
    "\n",
    "print_config()"
   ]
  },
  {
   "cell_type": "code",
   "execution_count": 2,
   "metadata": {},
   "outputs": [
    {
     "name": "stdout",
     "output_type": "stream",
     "text": [
      "클래스 비율: {0: 0.0, 1: 0.16393442622950818, 2: 0.01639344262295082, 3: 0.2459016393442623, 4: 0.16393442622950818, 5: 0.2459016393442623, 6: 0.16393442622950818}\n",
      "최종 합계: 1.0\n",
      "클래스 비율 리스트: [0.0, 0.16393442622950818, 0.01639344262295082, 0.2459016393442623, 0.16393442622950818, 0.2459016393442623, 0.16393442622950818]\n"
     ]
    }
   ],
   "source": [
    "class_info = {\n",
    "    0: {\"name\": \"background\", \"weight\": 0},  # weight 없음\n",
    "    1: {\"name\": \"apo-ferritin\", \"weight\": 1000},\n",
    "    2: {\"name\": \"beta-amylase\", \"weight\": 100}, # 4130\n",
    "    3: {\"name\": \"beta-galactosidase\", \"weight\": 1500}, #3080\n",
    "    4: {\"name\": \"ribosome\", \"weight\": 1000},\n",
    "    5: {\"name\": \"thyroglobulin\", \"weight\": 1500},\n",
    "    6: {\"name\": \"virus-like-particle\", \"weight\": 1000},\n",
    "}\n",
    "\n",
    "# 가중치에 비례한 비율 계산\n",
    "raw_ratios = {\n",
    "    k: (v[\"weight\"] if v[\"weight\"] is not None else 0.01)  # 가중치 비례, None일 경우 기본값a\n",
    "    for k, v in class_info.items()\n",
    "}\n",
    "total = sum(raw_ratios.values())\n",
    "ratios = {k: v / total for k, v in raw_ratios.items()}\n",
    "\n",
    "# 최종 합계가 1인지 확인\n",
    "final_total = sum(ratios.values())\n",
    "print(\"클래스 비율:\", ratios)\n",
    "print(\"최종 합계:\", final_total)\n",
    "\n",
    "# 비율을 리스트로 변환\n",
    "ratios_list = [ratios[k] for k in sorted(ratios.keys())]\n",
    "print(\"클래스 비율 리스트:\", ratios_list)"
   ]
  },
  {
   "cell_type": "markdown",
   "metadata": {},
   "source": [
    "# 모델 설정"
   ]
  },
  {
   "cell_type": "code",
   "execution_count": 3,
   "metadata": {},
   "outputs": [],
   "source": [
    "from src.dataset.dataset import create_dataloaders\n",
    "from monai.transforms import (\n",
    "    Compose, LoadImaged, EnsureChannelFirstd, NormalizeIntensityd,\n",
    "    Orientationd, CropForegroundd, GaussianSmoothd, ScaleIntensityd,\n",
    "    RandSpatialCropd, RandRotate90d, RandFlipd, RandGaussianNoised,\n",
    "    ToTensord, RandCropByLabelClassesd\n",
    ")\n",
    "from monai.transforms import CastToTyped\n",
    "import numpy as np\n",
    "\n",
    "train_img_dir = \"./datasets/train/images\"\n",
    "train_label_dir = \"./datasets/train/labels\"\n",
    "val_img_dir = \"./datasets/val/images\"\n",
    "val_label_dir = \"./datasets/val/labels\"\n",
    "# DATA CONFIG\n",
    "img_size =  96 # Match your patch size\n",
    "img_depth = img_size\n",
    "n_classes = 7\n",
    "batch_size = 2 # 13.8GB GPU memory required for 128x128 img size\n",
    "num_samples = batch_size # 한 이미지에서 뽑을 샘플 수\n",
    "loader_batch = 1\n",
    "num_repeat = 20\n",
    "# MODEL CONFIG\n",
    "num_epochs = 4000\n",
    "lamda = 0.5\n",
    "ce_weight = 0.4\n",
    "lr = 0.0001\n",
    "feature_size = 48\n",
    "use_checkpoint = True\n",
    "use_v2 = True\n",
    "drop_rate= 0.25\n",
    "attn_drop_rate = 0.25\n",
    "num_bottleneck = 2\n",
    "# CLASS_WEIGHTS\n",
    "class_weights = None\n",
    "class_weights = torch.tensor([0.0001, 1, 0.001, 1.1, 1, 1.1, 1], dtype=torch.float32)  # 클래스별 가중치\n",
    "\n",
    "accumulation_steps = 8\n",
    "# INIT\n",
    "start_epoch = 0\n",
    "best_val_loss = float('inf')\n",
    "best_val_fbeta_score = 0\n",
    "\n",
    "non_random_transforms = Compose([\n",
    "    EnsureChannelFirstd(keys=[\"image\", \"label\"], channel_dim=\"no_channel\"),\n",
    "    NormalizeIntensityd(keys=\"image\"),\n",
    "    Orientationd(keys=[\"image\", \"label\"], axcodes=\"RAS\"),\n",
    "    CastToTyped(keys=[\"image\"], dtype=np.float16),\n",
    "    GaussianSmoothd(\n",
    "        keys=[\"image\"],      # 변환을 적용할 키\n",
    "        sigma=[1.0, 1.0, 1.0]  # 각 축(x, y, z)의 시그마 값\n",
    "        ),\n",
    "])\n",
    "random_transforms = Compose([\n",
    "    RandCropByLabelClassesd(\n",
    "        keys=[\"image\", \"label\"],\n",
    "        label_key=\"label\",\n",
    "        spatial_size=[img_depth, img_size, img_size],\n",
    "        num_classes=n_classes,\n",
    "        num_samples=num_samples, \n",
    "        ratios=ratios_list,\n",
    "    ),\n",
    "    RandRotate90d(keys=[\"image\", \"label\"], prob=0.5, spatial_axes=[1, 2]),\n",
    "    RandFlipd(keys=[\"image\", \"label\"], prob=0.5, spatial_axis=0),\n",
    "    RandFlipd(keys=[\"image\", \"label\"], prob=0.5, spatial_axis=1),\n",
    "    RandFlipd(keys=[\"image\", \"label\"], prob=0.5, spatial_axis=2),\n",
    "])\n"
   ]
  },
  {
   "cell_type": "code",
   "execution_count": 4,
   "metadata": {},
   "outputs": [
    {
     "name": "stderr",
     "output_type": "stream",
     "text": [
      "Loading dataset: 100%|██████████| 24/24 [00:44<00:00,  1.87s/it]\n",
      "Loading dataset: 100%|██████████| 4/4 [00:07<00:00,  1.76s/it]\n"
     ]
    }
   ],
   "source": [
    "train_loader, val_loader = None, None\n",
    "train_loader, val_loader = create_dataloaders(\n",
    "    train_img_dir, \n",
    "    train_label_dir, \n",
    "    val_img_dir, \n",
    "    val_label_dir, \n",
    "    non_random_transforms = non_random_transforms, \n",
    "    random_transforms = random_transforms, \n",
    "    batch_size = loader_batch,\n",
    "    num_workers=0,train_num_repeat=num_repeat)"
   ]
  },
  {
   "cell_type": "markdown",
   "metadata": {},
   "source": [
    "https://monai.io/model-zoo.html"
   ]
  },
  {
   "cell_type": "code",
   "execution_count": 5,
   "metadata": {},
   "outputs": [],
   "source": [
    "from monai.losses import TverskyLoss\n",
    "import torch\n",
    "import torch.nn as nn\n",
    "\n",
    "def loss_fn(loss, class_weights, device):\n",
    "    \"\"\"\n",
    "    Tversky 손실에 클래스별 가중치를 적용하여 최종 스칼라 값을 반환합니다.\n",
    "\n",
    "    Args:\n",
    "        loss: Tversky 손실 텐서 (B, num_classes, H, W, D).\n",
    "        class_weights: 클래스별 가중치 텐서 (num_classes,).\n",
    "        device: 사용할 장치 (예: 'cuda' 또는 'cpu').\n",
    "\n",
    "    Returns:\n",
    "        torch.Tensor: 최종 가중 평균 손실 값 (스칼라).\n",
    "    \"\"\"\n",
    "    # 가중치를 device로 이동\n",
    "    class_weights = class_weights.to(device)\n",
    "\n",
    "    # 클래스 차원에 가중치 적용 (B, num_classes, ...)\n",
    "    class_weights = class_weights.view(1, n_classes, 1, 1, 1)  # [1, num_classes, 1, 1, 1]\n",
    "    weighted_loss = loss * class_weights\n",
    "\n",
    "    # 모든 차원을 평균 내어 스칼라 손실 반환\n",
    "    final_loss = torch.mean(weighted_loss)\n",
    "    return final_loss\n",
    "\n",
    "class DynamicTverskyLoss(TverskyLoss):\n",
    "    def __init__(self, lamda=0.5, **kwargs):\n",
    "        super().__init__(alpha=1 - lamda, beta=lamda, **kwargs)\n",
    "        self.lamda = lamda\n",
    "\n",
    "    def set_lamda(self, lamda):\n",
    "        self.lamda = lamda\n",
    "        self.alpha = 1 - lamda\n",
    "        self.beta = lamda\n",
    "        \n",
    "# criterion = DynamicTverskyLoss(\n",
    "#     lamda=0.5,\n",
    "#     include_background=False,\n",
    "#     reduction=\"mean\",\n",
    "#     softmax=True\n",
    "# )\n",
    "\n",
    "class CombinedCETverskyLoss(nn.Module):\n",
    "    def __init__(self, lamda=0.5, ce_weight=0.5, **kwargs):\n",
    "        super().__init__()\n",
    "        self._lamda = lamda  # lamda 값 저장\n",
    "        self.tversky = DynamicTverskyLoss(lamda=lamda, **kwargs)\n",
    "        self.ce = nn.CrossEntropyLoss()\n",
    "        self.ce_weight = ce_weight\n",
    "        \n",
    "    def forward(self, inputs, targets):\n",
    "        tversky_loss = self.tversky(inputs, targets)\n",
    "        ce_loss = self.ce(inputs, targets)\n",
    "        return self.ce_weight * ce_loss + (1 - self.ce_weight) * tversky_loss\n",
    "    \n",
    "    def set_lamda(self, lamda):\n",
    "        self._lamda = lamda\n",
    "        self.tversky.set_lamda(lamda)\n",
    "    \n",
    "    @property\n",
    "    def lamda(self):\n",
    "        return self._lamda\n",
    "\n",
    "criterion = CombinedCETverskyLoss(\n",
    "    lamda=lamda,\n",
    "    ce_weight=ce_weight,  # CE Loss와 Tversky Loss의 비중을 0.5:0.5로 설정\n",
    "    include_background=False,\n",
    "    reduction=\"mean\",\n",
    "    softmax=True\n",
    ")"
   ]
  },
  {
   "cell_type": "code",
   "execution_count": 6,
   "metadata": {},
   "outputs": [
    {
     "name": "stderr",
     "output_type": "stream",
     "text": [
      "c:\\Users\\pook0\\.conda\\envs\\UM\\Lib\\site-packages\\monai\\utils\\deprecate_utils.py:221: FutureWarning: src.models.swincspunetr3plus SwinCSPUNETR3plus.__init__:img_size: Argument `img_size` has been deprecated since version 1.3. It will be removed in version 1.5. The img_size argument is not required anymore and checks on the input size are run during forward().\n",
      "  warn_deprecated(argname, msg, warning_category)\n"
     ]
    },
    {
     "name": "stdout",
     "output_type": "stream",
     "text": [
      "기존 best model 발견: model_checkpoints\\SwinCSP_UNETR_3plus__pyes_weighted_f48_d96s96_numb2_lr1e-04_a0.50_b0.50_b2_r20_ce0.4\\best_model.pt\n"
     ]
    },
    {
     "name": "stderr",
     "output_type": "stream",
     "text": [
      "C:\\Users\\pook0\\AppData\\Local\\Temp\\ipykernel_4540\\33336355.py:55: FutureWarning: You are using `torch.load` with `weights_only=False` (the current default value), which uses the default pickle module implicitly. It is possible to construct malicious pickle data which will execute arbitrary code during unpickling (See https://github.com/pytorch/pytorch/blob/main/SECURITY.md#untrusted-models for more details). In a future release, the default value for `weights_only` will be flipped to `True`. This limits the functions that could be executed during unpickling. Arbitrary objects will no longer be allowed to be loaded via this mode unless they are explicitly allowlisted by the user via `torch.serialization.add_safe_globals`. We recommend you start setting `weights_only=True` for any use case where you don't have full control of the loaded file. Please open an issue on GitHub for any issues related to this experimental feature.\n",
      "  checkpoint = torch.load(best_model_path, map_location=device)\n"
     ]
    },
    {
     "name": "stdout",
     "output_type": "stream",
     "text": [
      "기존 학습된 가중치를 성공적으로 로드했습니다.\n"
     ]
    }
   ],
   "source": [
    "import torch.optim as optim\n",
    "from tqdm import tqdm\n",
    "import numpy as np\n",
    "import torch\n",
    "from pathlib import Path\n",
    "from monai.metrics import DiceMetric\n",
    "\n",
    "device = torch.device(\"cuda\" if torch.cuda.is_available() else \"cpu\")\n",
    "\n",
    "model = SwinCSPUNETR3plus(\n",
    "    img_size=(img_depth, img_size, img_size),\n",
    "    in_channels=1,\n",
    "    out_channels=n_classes,\n",
    "    feature_size=feature_size,\n",
    "    use_checkpoint=True,\n",
    "    drop_rate = drop_rate,\n",
    "    attn_drop_rate = attn_drop_rate,\n",
    "    use_v2 = use_v2,\n",
    "    n = num_bottleneck,\n",
    ").to(device)\n",
    "# Pretrained weights 불러오기\n",
    "# if use_checkpoint:\n",
    "#     pretrain_path = \"./swin_unetr_btcv_segmentation/models/model.pt\"\n",
    "#     weight = torch.load(pretrain_path, map_location=device)\n",
    "\n",
    "#     # 출력 레이어의 키를 제외한 나머지 가중치만 로드\n",
    "#     filtered_weights = {k: v for k, v in weight.items() if \"out.conv.conv\" not in k}\n",
    "\n",
    "#     # strict=False로 로드하여 불일치하는 부분 무시\n",
    "#     model.load_state_dict(filtered_weights, strict=False)\n",
    "#     print(\"Filtered weights loaded successfully. Output layer will be trained from scratch.\")\n",
    "\n",
    "# Load pretrained weights\n",
    "# model.load_from(weights=np.load(config_vit.real_pretrained_path, allow_pickle=True))\n",
    "# TverskyLoss 설정\n",
    "# 사용 예시\n",
    "\n",
    "pretrain_str = \"yes\" if use_checkpoint else \"no\"\n",
    "weight_str = \"weighted\" if class_weights is not None else \"\"\n",
    "\n",
    "# 체크포인트 디렉토리 및 파일 설정\n",
    "checkpoint_base_dir = Path(\"./model_checkpoints\")\n",
    "folder_name = f\"SwinCSP_UNETR_3plus__p{pretrain_str}_{weight_str}_f{feature_size}_d{img_depth}s{img_size}_numb{num_bottleneck}_lr{lr:.0e}_a{lamda:.2f}_b{1-lamda:.2f}_b{batch_size}_r{num_repeat}_ce{ce_weight}\"\n",
    "checkpoint_dir = checkpoint_base_dir / folder_name\n",
    "optimizer = optim.AdamW(model.parameters(), lr=lr, weight_decay=1e-5)\n",
    "scheduler = torch.optim.lr_scheduler.ReduceLROnPlateau(optimizer, patience=5, factor=0.5)\n",
    "# 체크포인트 디렉토리 생성\n",
    "checkpoint_dir.mkdir(parents=True, exist_ok=True)\n",
    "\n",
    "if checkpoint_dir.exists():\n",
    "    best_model_path = checkpoint_dir / 'best_model.pt'\n",
    "    if best_model_path.exists():\n",
    "        print(f\"기존 best model 발견: {best_model_path}\")\n",
    "        try:\n",
    "            checkpoint = torch.load(best_model_path, map_location=device)\n",
    "            # 체크포인트 내부 키 검증\n",
    "            required_keys = ['model_state_dict', 'optimizer_state_dict', 'epoch', 'best_val_loss']\n",
    "            if all(k in checkpoint for k in required_keys):\n",
    "                model.load_state_dict(checkpoint['model_state_dict'])\n",
    "                optimizer.load_state_dict(checkpoint['optimizer_state_dict'])\n",
    "                start_epoch = checkpoint['epoch']\n",
    "                best_val_loss = checkpoint['best_val_loss']\n",
    "                print(\"기존 학습된 가중치를 성공적으로 로드했습니다.\")\n",
    "                checkpoint= None\n",
    "            else:\n",
    "                raise ValueError(\"체크포인트 파일에 필요한 key가 없습니다.\")\n",
    "        except Exception as e:\n",
    "            print(f\"체크포인트 파일을 로드하는 중 오류 발생: {e}\")"
   ]
  },
  {
   "cell_type": "code",
   "execution_count": 7,
   "metadata": {},
   "outputs": [
    {
     "name": "stdout",
     "output_type": "stream",
     "text": [
      "torch.Size([2, 1, 96, 96, 96]) torch.Size([2, 1, 96, 96, 96])\n"
     ]
    }
   ],
   "source": [
    "batch = next(iter(val_loader))\n",
    "images, labels = batch[\"image\"], batch[\"label\"]\n",
    "print(images.shape, labels.shape)"
   ]
  },
  {
   "cell_type": "code",
   "execution_count": 8,
   "metadata": {},
   "outputs": [],
   "source": [
    "torch.backends.cudnn.benchmark = True"
   ]
  },
  {
   "cell_type": "code",
   "execution_count": 9,
   "metadata": {},
   "outputs": [
    {
     "name": "stderr",
     "output_type": "stream",
     "text": [
      "\u001b[34m\u001b[1mwandb\u001b[0m: Using wandb-core as the SDK backend.  Please refer to https://wandb.me/wandb-core for more information.\n",
      "\u001b[34m\u001b[1mwandb\u001b[0m: Currently logged in as: \u001b[33mpook0612\u001b[0m (\u001b[33mlimbw\u001b[0m). Use \u001b[1m`wandb login --relogin`\u001b[0m to force relogin\n"
     ]
    },
    {
     "data": {
      "text/html": [
       "Tracking run with wandb version 0.19.1"
      ],
      "text/plain": [
       "<IPython.core.display.HTML object>"
      ]
     },
     "metadata": {},
     "output_type": "display_data"
    },
    {
     "data": {
      "text/html": [
       "Run data is saved locally in <code>d:\\Workspace\\czll\\wandb\\run-20250107_010233-1rmzelc6</code>"
      ],
      "text/plain": [
       "<IPython.core.display.HTML object>"
      ]
     },
     "metadata": {},
     "output_type": "display_data"
    },
    {
     "data": {
      "text/html": [
       "Syncing run <strong><a href='https://wandb.ai/limbw/czii_SwinUnetR/runs/1rmzelc6' target=\"_blank\">SwinCSP_UNETR_3plus__pyes_weighted_f48_d96s96_numb2_lr1e-04_a0.50_b0.50_b2_r20_ce0.4</a></strong> to <a href='https://wandb.ai/limbw/czii_SwinUnetR' target=\"_blank\">Weights & Biases</a> (<a href='https://wandb.me/developer-guide' target=\"_blank\">docs</a>)<br>"
      ],
      "text/plain": [
       "<IPython.core.display.HTML object>"
      ]
     },
     "metadata": {},
     "output_type": "display_data"
    },
    {
     "data": {
      "text/html": [
       " View project at <a href='https://wandb.ai/limbw/czii_SwinUnetR' target=\"_blank\">https://wandb.ai/limbw/czii_SwinUnetR</a>"
      ],
      "text/plain": [
       "<IPython.core.display.HTML object>"
      ]
     },
     "metadata": {},
     "output_type": "display_data"
    },
    {
     "data": {
      "text/html": [
       " View run at <a href='https://wandb.ai/limbw/czii_SwinUnetR/runs/1rmzelc6' target=\"_blank\">https://wandb.ai/limbw/czii_SwinUnetR/runs/1rmzelc6</a>"
      ],
      "text/plain": [
       "<IPython.core.display.HTML object>"
      ]
     },
     "metadata": {},
     "output_type": "display_data"
    }
   ],
   "source": [
    "import wandb\n",
    "from datetime import datetime\n",
    "\n",
    "current_time = datetime.now().strftime('%Y%m%d_%H%M%S')\n",
    "run_name = folder_name\n",
    "\n",
    "# wandb 초기화\n",
    "wandb.init(\n",
    "    project='czii_SwinUnetR',  # 프로젝트 이름 설정\n",
    "    name=run_name,         # 실행(run) 이름 설정\n",
    "    config={\n",
    "        'num_epochs': num_epochs,\n",
    "        'learning_rate': lr,\n",
    "        'batch_size': batch_size,\n",
    "        'lambda': lamda,\n",
    "        \"cross_entropy_weight\": ce_weight,\n",
    "        'feature_size': feature_size,\n",
    "        'img_size': img_size,\n",
    "        'sampling_ratio': ratios_list,\n",
    "        'device': device.type,\n",
    "        \"checkpoint_dir\": str(checkpoint_dir),\n",
    "        \"class_weights\": class_weights.tolist() if class_weights is not None else None,\n",
    "        \"use_checkpoint\": use_checkpoint,\n",
    "        \"drop_rate\": drop_rate,\n",
    "        \"attn_drop_rate\": attn_drop_rate,\n",
    "        \"use_v2\": use_v2,\n",
    "        \"accumulation_steps\": accumulation_steps,\n",
    "        \"num_repeat\": num_repeat,\n",
    "        \"num_bottleneck\": num_bottleneck,\n",
    "        \n",
    "        # 필요한 하이퍼파라미터 추가\n",
    "    }\n",
    ")\n",
    "# 모델을 wandb에 연결\n",
    "wandb.watch(model, log='all')"
   ]
  },
  {
   "cell_type": "markdown",
   "metadata": {},
   "source": [
    "# 학습"
   ]
  },
  {
   "cell_type": "code",
   "execution_count": 10,
   "metadata": {},
   "outputs": [],
   "source": [
    "from monai.metrics import DiceMetric\n",
    "    \n",
    "def processing(batch_data, model, criterion, device):\n",
    "    images = batch_data['image'].to(device)  # Input 이미지 (B, 1, 96, 96, 96)\n",
    "    labels = batch_data['label'].to(device)  # 라벨 (B, 96, 96, 96)\n",
    "\n",
    "    labels = labels.squeeze(1)  # (B, 1, 96, 96, 96) → (B, 96, 96, 96)\n",
    "    labels = labels.long()  # 라벨을 정수형으로 변환\n",
    "\n",
    "    # 원핫 인코딩 (B, H, W, D) → (B, num_classes, H, W, D)\n",
    "    \n",
    "    labels_onehot = torch.nn.functional.one_hot(labels, num_classes=n_classes)\n",
    "    labels_onehot = labels_onehot.permute(0, 4, 1, 2, 3).float()  # (B, num_classes, H, W, D)\n",
    "\n",
    "    # 모델 예측\n",
    "    outputs = model(images)  # outputs: (B, num_classes, H, W, D)\n",
    "\n",
    "    # Loss 계산\n",
    "    # loss = criterion(outputs, labels_onehot)\n",
    "    loss = loss_fn(criterion(outputs, labels_onehot),class_weights=class_weights, device=device)\n",
    "    return loss, outputs, labels, outputs.argmax(dim=1)\n",
    "\n",
    "def train_one_epoch(model, train_loader, criterion, optimizer, device, epoch, accumulation_steps=4):\n",
    "    model.train()\n",
    "    epoch_loss = 0\n",
    "    optimizer.zero_grad()  # 그래디언트 초기화\n",
    "    with tqdm(train_loader, desc='Training') as pbar:\n",
    "        for i, batch_data in enumerate(pbar):\n",
    "            # 손실 계산\n",
    "            loss, _, _, _ = processing(batch_data, model, criterion, device)\n",
    "\n",
    "            # 그래디언트를 계산하고 누적\n",
    "            loss = loss / accumulation_steps  # 그래디언트 누적을 위한 스케일링\n",
    "            loss.backward()  # 그래디언트 계산 및 누적\n",
    "            \n",
    "            # 그래디언트 업데이트 (accumulation_steps마다 한 번)\n",
    "            if (i + 1) % accumulation_steps == 0 or (i + 1) == len(train_loader):\n",
    "                optimizer.step()  # 파라미터 업데이트\n",
    "                optimizer.zero_grad()  # 누적된 그래디언트 초기화\n",
    "            \n",
    "            # 손실값 누적 (스케일링 복구)\n",
    "            epoch_loss += loss.item() * accumulation_steps  # 실제 손실값 반영\n",
    "            pbar.set_postfix(loss=loss.item() * accumulation_steps)  # 실제 손실값 출력\n",
    "    avg_loss = epoch_loss / len(train_loader)\n",
    "    wandb.log({'train_epoch_loss': avg_loss, 'epoch': epoch + 1})\n",
    "    return avg_loss\n",
    "\n",
    "\n",
    "def validate_one_epoch(model, val_loader, criterion, device, epoch, calculate_dice_interval):\n",
    "    model.eval()\n",
    "    val_loss = 0\n",
    "    \n",
    "    class_dice_scores = {i: [] for i in range(n_classes)}\n",
    "    class_f_beta_scores = {i: [] for i in range(n_classes)}\n",
    "    with torch.no_grad():\n",
    "        with tqdm(val_loader, desc='Validation') as pbar:\n",
    "            for batch_data in pbar:\n",
    "                loss, _, labels, preds = processing(batch_data, model, criterion, device)\n",
    "                val_loss += loss.item()\n",
    "                pbar.set_postfix(loss=loss.item())\n",
    "\n",
    "                # 각 클래스별 Dice 점수 계산\n",
    "                if epoch % calculate_dice_interval == 0:\n",
    "                    for i in range(n_classes):\n",
    "                        pred_i = (preds == i)\n",
    "                        label_i = (labels == i)\n",
    "                        dice_score = (2.0 * torch.sum(pred_i & label_i)) / (torch.sum(pred_i) + torch.sum(label_i) + 1e-8)\n",
    "                        class_dice_scores[i].append(dice_score.item())\n",
    "                        precision = (torch.sum(pred_i & label_i) + 1e-8) / (torch.sum(pred_i) + 1e-8)\n",
    "                        recall = (torch.sum(pred_i & label_i) + 1e-8) / (torch.sum(label_i) + 1e-8)\n",
    "                        f_beta_score = (1 + 4**2) * (precision * recall) / (4**2 * precision + recall + 1e-8)\n",
    "                        class_f_beta_scores[i].append(f_beta_score.item())\n",
    "\n",
    "    avg_loss = val_loss / len(val_loader)\n",
    "    # 에포크별 평균 손실 로깅\n",
    "    wandb.log({'val_epoch_loss': avg_loss, 'epoch': epoch + 1})\n",
    "    \n",
    "    # 각 클래스별 평균 Dice 점수 출력\n",
    "    if epoch % calculate_dice_interval == 0:\n",
    "        print(\"Validation Dice Score\")\n",
    "        all_classes_dice_scores = []\n",
    "        for i in range(n_classes):\n",
    "            mean_dice = np.mean(class_dice_scores[i])\n",
    "            wandb.log({f'class_{i}_dice_score': mean_dice, 'epoch': epoch + 1})\n",
    "            print(f\"Class {i}: {mean_dice:.4f}\", end=\", \")\n",
    "            if i not in [0, 2]:  # 평균에 포함할 클래스만 추가\n",
    "                all_classes_dice_scores.append(mean_dice)\n",
    "            \n",
    "        print()\n",
    "    if epoch % calculate_dice_interval == 0:\n",
    "        print(\"Validation F-beta Score\")\n",
    "        all_classes_fbeta_scores = []\n",
    "        for i in range(n_classes):\n",
    "            mean_fbeta = np.mean(class_f_beta_scores[i])\n",
    "            wandb.log({f'class_{i}_f_beta_score': mean_fbeta, 'epoch': epoch + 1})\n",
    "            print(f\"Class {i}: {mean_fbeta:.4f}\", end=\", \")\n",
    "            if i not in [0, 2]:  # 평균에 포함할 클래스만 추가\n",
    "                all_classes_fbeta_scores.append(mean_fbeta)\n",
    "                \n",
    "        print()\n",
    "        overall_mean_dice = np.mean(all_classes_dice_scores)\n",
    "        overall_mean_fbeta = np.mean(all_classes_fbeta_scores)\n",
    "        wandb.log({'overall_mean_f_beta_score': overall_mean_fbeta, 'overall_mean_dice_score': overall_mean_dice, 'epoch': epoch + 1})\n",
    "        print(f\"\\nOverall Mean Dice Score: {overall_mean_dice:.4f}\\nOverall Mean F-beta Score: {overall_mean_fbeta:.4f}\\n\")\n",
    "\n",
    "    if overall_mean_fbeta is None:\n",
    "        overall_mean_fbeta = 0\n",
    "\n",
    "    return val_loss / len(val_loader), overall_mean_fbeta\n",
    "\n",
    "def train_model(\n",
    "    model, train_loader, val_loader, criterion, optimizer, num_epochs, patience, \n",
    "    device, start_epoch, best_val_loss, best_val_fbeta_score, calculate_dice_interval=1,\n",
    "    accumulation_steps=4\n",
    "):\n",
    "    \"\"\"\n",
    "    모델을 학습하고 검증하는 함수\n",
    "    Args:\n",
    "        model: 학습할 모델\n",
    "        train_loader: 학습 데이터 로더\n",
    "        val_loader: 검증 데이터 로더\n",
    "        criterion: 손실 함수\n",
    "        optimizer: 최적화 알고리즘\n",
    "        num_epochs: 총 학습 epoch 수\n",
    "        patience: early stopping 기준\n",
    "        device: GPU/CPU 장치\n",
    "        start_epoch: 시작 epoch\n",
    "        best_val_loss: 이전 최적 validation loss\n",
    "        best_val_fbeta_score: 이전 최적 validation f-beta score\n",
    "        calculate_dice_interval: Dice 점수 계산 주기\n",
    "    \"\"\"\n",
    "    epochs_no_improve = 0\n",
    "\n",
    "    for epoch in range(start_epoch, num_epochs):\n",
    "        print(f\"Epoch {epoch + 1}/{num_epochs}\")\n",
    "\n",
    "        # Train One Epoch\n",
    "        train_loss = train_one_epoch(\n",
    "            model=model, \n",
    "            train_loader=train_loader, \n",
    "            criterion=criterion, \n",
    "            optimizer=optimizer, \n",
    "            device=device,\n",
    "            epoch=epoch,\n",
    "            accumulation_steps= accumulation_steps\n",
    "        )\n",
    "        \n",
    "        scheduler.step(train_loss)\n",
    "        # Validate One Epoch\n",
    "        val_loss, overall_mean_fbeta_score = validate_one_epoch(\n",
    "            model=model, \n",
    "            val_loader=val_loader, \n",
    "            criterion=criterion, \n",
    "            device=device, \n",
    "            epoch=epoch, \n",
    "            calculate_dice_interval=calculate_dice_interval\n",
    "        )\n",
    "\n",
    "        \n",
    "        print(f\"Training Loss: {train_loss:.4f}, Validation Loss: {val_loss:.4f}, Validation F-beta: {overall_mean_fbeta_score:.4f}\")\n",
    "\n",
    "        if val_loss < best_val_loss and overall_mean_fbeta_score > best_val_fbeta_score:\n",
    "            best_val_loss = val_loss\n",
    "            best_val_fbeta_score = overall_mean_fbeta_score\n",
    "            epochs_no_improve = 0\n",
    "            checkpoint_path = os.path.join(checkpoint_dir, 'best_model.pt')\n",
    "            torch.save({\n",
    "                'epoch': epoch + 1,\n",
    "                'model_state_dict': model.state_dict(),\n",
    "                'optimizer_state_dict': optimizer.state_dict(),\n",
    "                'best_val_loss': best_val_loss,\n",
    "                'best_val_fbeta_score': best_val_fbeta_score\n",
    "            }, checkpoint_path)\n",
    "            print(f\"========================================================\")\n",
    "            print(f\"SUPER Best model saved. Loss:{best_val_loss:.4f}, Score:{best_val_fbeta_score:.4f}\")\n",
    "            print(f\"========================================================\")\n",
    "\n",
    "        # Early stopping 조건 체크\n",
    "        if val_loss >= best_val_loss and overall_mean_fbeta_score <= best_val_fbeta_score:\n",
    "            epochs_no_improve += 1\n",
    "        else:\n",
    "            epochs_no_improve = 0\n",
    "\n",
    "        if epochs_no_improve >= patience:\n",
    "            print(\"Early stopping\")\n",
    "            checkpoint_path = os.path.join(checkpoint_dir, 'last.pt')\n",
    "            torch.save({\n",
    "                'epoch': epoch + 1,\n",
    "                'model_state_dict': model.state_dict(),\n",
    "                'optimizer_state_dict': optimizer.state_dict(),\n",
    "                'best_val_loss': best_val_loss,\n",
    "                'best_val_fbeta_score': best_val_fbeta_score\n",
    "            }, checkpoint_path)\n",
    "            break\n",
    "        if epochs_no_improve%6 == 0 & epochs_no_improve != 0:\n",
    "            # 손실이 개선되지 않았으므로 lambda 감소\n",
    "            new_lamda = max(criterion.lamda - 0.01, 0.35)  # 최소값은 0.1로 설정\n",
    "            criterion.set_lamda(new_lamda)\n",
    "            print(f\"Validation loss did not improve. Reducing lambda to {new_lamda:.4f}\")\n",
    "\n",
    "    wandb.finish()\n"
   ]
  },
  {
   "cell_type": "code",
   "execution_count": 11,
   "metadata": {},
   "outputs": [
    {
     "name": "stdout",
     "output_type": "stream",
     "text": [
      "Epoch 11/4000\n"
     ]
    },
    {
     "name": "stderr",
     "output_type": "stream",
     "text": [
      "Training:   0%|          | 0/480 [00:00<?, ?it/s]c:\\Users\\pook0\\.conda\\envs\\UM\\Lib\\site-packages\\torch\\utils\\checkpoint.py:1399: FutureWarning: `torch.cpu.amp.autocast(args...)` is deprecated. Please use `torch.amp.autocast('cpu', args...)` instead.\n",
      "  with device_autocast_ctx, torch.cpu.amp.autocast(**cpu_autocast_kwargs), recompute_context:  # type: ignore[attr-defined]\n",
      "Training: 100%|██████████| 480/480 [15:49<00:00,  1.98s/it, loss=0.394]\n",
      "Validation: 100%|██████████| 12/12 [00:09<00:00,  1.26it/s, loss=0.408]\n"
     ]
    },
    {
     "name": "stdout",
     "output_type": "stream",
     "text": [
      "Validation Dice Score\n",
      "Class 0: 0.9888, Class 1: 0.2860, Class 2: 0.0210, Class 3: 0.0467, Class 4: 0.3648, Class 5: 0.3719, Class 6: 0.3967, \n",
      "Validation F-beta Score\n",
      "Class 0: 0.9916, Class 1: 0.4912, Class 2: 0.0130, Class 3: 0.0358, Class 4: 0.4089, Class 5: 0.3520, Class 6: 0.4159, \n",
      "\n",
      "Overall Mean Dice Score: 0.2932\n",
      "Overall Mean F-beta Score: 0.3408\n",
      "\n",
      "Training Loss: 0.3874, Validation Loss: 0.3962, Validation F-beta: 0.3408\n",
      "Epoch 12/4000\n"
     ]
    },
    {
     "name": "stderr",
     "output_type": "stream",
     "text": [
      "Training: 100%|██████████| 480/480 [15:10<00:00,  1.90s/it, loss=0.382]\n",
      "Validation: 100%|██████████| 12/12 [00:09<00:00,  1.26it/s, loss=0.359]\n"
     ]
    },
    {
     "name": "stdout",
     "output_type": "stream",
     "text": [
      "Validation Dice Score\n",
      "Class 0: 0.9867, Class 1: 0.1799, Class 2: 0.0116, Class 3: 0.1791, Class 4: 0.3994, Class 5: 0.3231, Class 6: 0.5449, \n",
      "Validation F-beta Score\n",
      "Class 0: 0.9869, Class 1: 0.2261, Class 2: 0.0067, Class 3: 0.1781, Class 4: 0.3978, Class 5: 0.4105, Class 6: 0.6587, \n",
      "\n",
      "Overall Mean Dice Score: 0.3253\n",
      "Overall Mean F-beta Score: 0.3743\n",
      "\n",
      "Training Loss: 0.3830, Validation Loss: 0.3858, Validation F-beta: 0.3743\n",
      "Epoch 13/4000\n"
     ]
    },
    {
     "name": "stderr",
     "output_type": "stream",
     "text": [
      "Training: 100%|██████████| 480/480 [15:11<00:00,  1.90s/it, loss=0.411]\n",
      "Validation: 100%|██████████| 12/12 [00:09<00:00,  1.27it/s, loss=0.43] \n"
     ]
    },
    {
     "name": "stdout",
     "output_type": "stream",
     "text": [
      "Validation Dice Score\n",
      "Class 0: 0.9879, Class 1: 0.3076, Class 2: 0.0001, Class 3: 0.1358, Class 4: 0.4773, Class 5: 0.2804, Class 6: 0.4719, \n",
      "Validation F-beta Score\n",
      "Class 0: 0.9929, Class 1: 0.3745, Class 2: 0.0834, Class 3: 0.1106, Class 4: 0.4106, Class 5: 0.2632, Class 6: 0.5264, \n",
      "\n",
      "Overall Mean Dice Score: 0.3346\n",
      "Overall Mean F-beta Score: 0.3371\n",
      "\n",
      "Training Loss: 0.3815, Validation Loss: 0.3848, Validation F-beta: 0.3371\n",
      "Epoch 14/4000\n"
     ]
    },
    {
     "name": "stderr",
     "output_type": "stream",
     "text": [
      "Training: 100%|██████████| 480/480 [15:11<00:00,  1.90s/it, loss=0.42] \n",
      "Validation: 100%|██████████| 12/12 [00:09<00:00,  1.27it/s, loss=0.384]\n"
     ]
    },
    {
     "name": "stdout",
     "output_type": "stream",
     "text": [
      "Validation Dice Score\n",
      "Class 0: 0.9897, Class 1: 0.2112, Class 2: 0.0002, Class 3: 0.1784, Class 4: 0.4170, Class 5: 0.2874, Class 6: 0.6649, \n",
      "Validation F-beta Score\n",
      "Class 0: 0.9921, Class 1: 0.4464, Class 2: 0.0001, Class 3: 0.1474, Class 4: 0.3505, Class 5: 0.2223, Class 6: 0.7930, \n",
      "\n",
      "Overall Mean Dice Score: 0.3518\n",
      "Overall Mean F-beta Score: 0.3919\n",
      "\n",
      "Training Loss: 0.3785, Validation Loss: 0.3813, Validation F-beta: 0.3919\n",
      "Epoch 15/4000\n"
     ]
    },
    {
     "name": "stderr",
     "output_type": "stream",
     "text": [
      "Training: 100%|██████████| 480/480 [15:12<00:00,  1.90s/it, loss=0.365]\n",
      "Validation: 100%|██████████| 12/12 [00:09<00:00,  1.27it/s, loss=0.292]\n"
     ]
    },
    {
     "name": "stdout",
     "output_type": "stream",
     "text": [
      "Validation Dice Score\n",
      "Class 0: 0.9850, Class 1: 0.2948, Class 2: 0.0139, Class 3: 0.3180, Class 4: 0.5418, Class 5: 0.3990, Class 6: 0.5434, \n",
      "Validation F-beta Score\n",
      "Class 0: 0.9826, Class 1: 0.3893, Class 2: 0.0090, Class 3: 0.3948, Class 4: 0.5863, Class 5: 0.4051, Class 6: 0.5778, \n",
      "\n",
      "Overall Mean Dice Score: 0.4194\n",
      "Overall Mean F-beta Score: 0.4707\n",
      "\n",
      "Training Loss: 0.3758, Validation Loss: 0.3689, Validation F-beta: 0.4707\n",
      "========================================================\n",
      "SUPER Best model saved. Loss:0.3689, Score:0.4707\n",
      "========================================================\n",
      "Epoch 16/4000\n"
     ]
    },
    {
     "name": "stderr",
     "output_type": "stream",
     "text": [
      "Training: 100%|██████████| 480/480 [15:10<00:00,  1.90s/it, loss=0.384]\n",
      "Validation: 100%|██████████| 12/12 [00:09<00:00,  1.27it/s, loss=0.351]\n"
     ]
    },
    {
     "name": "stdout",
     "output_type": "stream",
     "text": [
      "Validation Dice Score\n",
      "Class 0: 0.9902, Class 1: 0.3348, Class 2: 0.0153, Class 3: 0.1562, Class 4: 0.3896, Class 5: 0.3181, Class 6: 0.6618, \n",
      "Validation F-beta Score\n",
      "Class 0: 0.9932, Class 1: 0.4842, Class 2: 0.0103, Class 3: 0.1317, Class 4: 0.3244, Class 5: 0.2557, Class 6: 0.7560, \n",
      "\n",
      "Overall Mean Dice Score: 0.3721\n",
      "Overall Mean F-beta Score: 0.3904\n",
      "\n",
      "Training Loss: 0.3720, Validation Loss: 0.3719, Validation F-beta: 0.3904\n",
      "Epoch 17/4000\n"
     ]
    },
    {
     "name": "stderr",
     "output_type": "stream",
     "text": [
      "Training: 100%|██████████| 480/480 [15:11<00:00,  1.90s/it, loss=0.356]\n",
      "Validation: 100%|██████████| 12/12 [00:09<00:00,  1.27it/s, loss=0.333]\n"
     ]
    },
    {
     "name": "stdout",
     "output_type": "stream",
     "text": [
      "Validation Dice Score\n",
      "Class 0: 0.9905, Class 1: 0.3341, Class 2: 0.0116, Class 3: 0.1462, Class 4: 0.3514, Class 5: 0.2630, Class 6: 0.4798, \n",
      "Validation F-beta Score\n",
      "Class 0: 0.9949, Class 1: 0.3903, Class 2: 0.0066, Class 3: 0.1273, Class 4: 0.2971, Class 5: 0.2264, Class 6: 0.6134, \n",
      "\n",
      "Overall Mean Dice Score: 0.3149\n",
      "Overall Mean F-beta Score: 0.3309\n",
      "\n",
      "Training Loss: 0.3694, Validation Loss: 0.3825, Validation F-beta: 0.3309\n",
      "Epoch 18/4000\n"
     ]
    },
    {
     "name": "stderr",
     "output_type": "stream",
     "text": [
      "Training: 100%|██████████| 480/480 [15:11<00:00,  1.90s/it, loss=0.371]\n",
      "Validation: 100%|██████████| 12/12 [00:09<00:00,  1.27it/s, loss=0.344]\n"
     ]
    },
    {
     "name": "stdout",
     "output_type": "stream",
     "text": [
      "Validation Dice Score\n",
      "Class 0: 0.9902, Class 1: 0.4108, Class 2: 0.0000, Class 3: 0.1413, Class 4: 0.3651, Class 5: 0.2803, Class 6: 0.4557, \n",
      "Validation F-beta Score\n",
      "Class 0: 0.9959, Class 1: 0.4278, Class 2: 0.1667, Class 3: 0.1007, Class 4: 0.3209, Class 5: 0.2074, Class 6: 0.4773, \n",
      "\n",
      "Overall Mean Dice Score: 0.3306\n",
      "Overall Mean F-beta Score: 0.3068\n",
      "\n",
      "Training Loss: 0.3674, Validation Loss: 0.3857, Validation F-beta: 0.3068\n",
      "Epoch 19/4000\n"
     ]
    },
    {
     "name": "stderr",
     "output_type": "stream",
     "text": [
      "Training: 100%|██████████| 480/480 [15:12<00:00,  1.90s/it, loss=0.343]\n",
      "Validation: 100%|██████████| 12/12 [00:09<00:00,  1.26it/s, loss=0.319]\n"
     ]
    },
    {
     "name": "stdout",
     "output_type": "stream",
     "text": [
      "Validation Dice Score\n",
      "Class 0: 0.9866, Class 1: 0.3917, Class 2: 0.0423, Class 3: 0.1575, Class 4: 0.5016, Class 5: 0.4264, Class 6: 0.6167, \n",
      "Validation F-beta Score\n",
      "Class 0: 0.9845, Class 1: 0.5724, Class 2: 0.0357, Class 3: 0.1767, Class 4: 0.6336, Class 5: 0.3845, Class 6: 0.7289, \n",
      "\n",
      "Overall Mean Dice Score: 0.4188\n",
      "Overall Mean F-beta Score: 0.4992\n",
      "\n",
      "Training Loss: 0.3661, Validation Loss: 0.3525, Validation F-beta: 0.4992\n",
      "========================================================\n",
      "SUPER Best model saved. Loss:0.3525, Score:0.4992\n",
      "========================================================\n",
      "Epoch 20/4000\n"
     ]
    },
    {
     "name": "stderr",
     "output_type": "stream",
     "text": [
      "Training: 100%|██████████| 480/480 [15:10<00:00,  1.90s/it, loss=0.346]\n",
      "Validation: 100%|██████████| 12/12 [00:09<00:00,  1.27it/s, loss=0.333]\n"
     ]
    },
    {
     "name": "stdout",
     "output_type": "stream",
     "text": [
      "Validation Dice Score\n",
      "Class 0: 0.9882, Class 1: 0.4353, Class 2: 0.0626, Class 3: 0.2442, Class 4: 0.4000, Class 5: 0.3271, Class 6: 0.6441, \n",
      "Validation F-beta Score\n",
      "Class 0: 0.9886, Class 1: 0.5621, Class 2: 0.0556, Class 3: 0.3171, Class 4: 0.4077, Class 5: 0.3041, Class 6: 0.6964, \n",
      "\n",
      "Overall Mean Dice Score: 0.4101\n",
      "Overall Mean F-beta Score: 0.4575\n",
      "\n",
      "Training Loss: 0.3636, Validation Loss: 0.3546, Validation F-beta: 0.4575\n",
      "Epoch 21/4000\n"
     ]
    },
    {
     "name": "stderr",
     "output_type": "stream",
     "text": [
      "Training: 100%|██████████| 480/480 [15:11<00:00,  1.90s/it, loss=0.378]\n",
      "Validation: 100%|██████████| 12/12 [00:09<00:00,  1.27it/s, loss=0.44] \n"
     ]
    },
    {
     "name": "stdout",
     "output_type": "stream",
     "text": [
      "Validation Dice Score\n",
      "Class 0: 0.9902, Class 1: 0.3505, Class 2: 0.0307, Class 3: 0.2201, Class 4: 0.6483, Class 5: 0.1709, Class 6: 0.5470, \n",
      "Validation F-beta Score\n",
      "Class 0: 0.9939, Class 1: 0.4844, Class 2: 0.0269, Class 3: 0.2133, Class 4: 0.6175, Class 5: 0.1195, Class 6: 0.5716, \n",
      "\n",
      "Overall Mean Dice Score: 0.3873\n",
      "Overall Mean F-beta Score: 0.4013\n",
      "\n",
      "Training Loss: 0.3626, Validation Loss: 0.3742, Validation F-beta: 0.4013\n",
      "Epoch 22/4000\n"
     ]
    },
    {
     "name": "stderr",
     "output_type": "stream",
     "text": [
      "Training: 100%|██████████| 480/480 [15:09<00:00,  1.90s/it, loss=0.368]\n",
      "Validation: 100%|██████████| 12/12 [00:09<00:00,  1.26it/s, loss=0.3]  \n"
     ]
    },
    {
     "name": "stdout",
     "output_type": "stream",
     "text": [
      "Validation Dice Score\n",
      "Class 0: 0.9890, Class 1: 0.4719, Class 2: 0.0552, Class 3: 0.3057, Class 4: 0.6523, Class 5: 0.2003, Class 6: 0.4798, \n",
      "Validation F-beta Score\n",
      "Class 0: 0.9888, Class 1: 0.6408, Class 2: 0.0514, Class 3: 0.3684, Class 4: 0.6611, Class 5: 0.1841, Class 6: 0.5024, \n",
      "\n",
      "Overall Mean Dice Score: 0.4220\n",
      "Overall Mean F-beta Score: 0.4714\n",
      "\n",
      "Training Loss: 0.3614, Validation Loss: 0.3606, Validation F-beta: 0.4714\n",
      "Epoch 23/4000\n"
     ]
    },
    {
     "name": "stderr",
     "output_type": "stream",
     "text": [
      "Training: 100%|██████████| 480/480 [15:10<00:00,  1.90s/it, loss=0.371]\n",
      "Validation: 100%|██████████| 12/12 [00:09<00:00,  1.26it/s, loss=0.363]\n"
     ]
    },
    {
     "name": "stdout",
     "output_type": "stream",
     "text": [
      "Validation Dice Score\n",
      "Class 0: 0.9914, Class 1: 0.4614, Class 2: 0.1313, Class 3: 0.2543, Class 4: 0.5142, Class 5: 0.2821, Class 6: 0.3341, \n",
      "Validation F-beta Score\n",
      "Class 0: 0.9929, Class 1: 0.5618, Class 2: 0.1051, Class 3: 0.2913, Class 4: 0.6071, Class 5: 0.2532, Class 6: 0.4856, \n",
      "\n",
      "Overall Mean Dice Score: 0.3692\n",
      "Overall Mean F-beta Score: 0.4398\n",
      "\n",
      "Training Loss: 0.3583, Validation Loss: 0.3688, Validation F-beta: 0.4398\n",
      "Epoch 24/4000\n"
     ]
    },
    {
     "name": "stderr",
     "output_type": "stream",
     "text": [
      "Training: 100%|██████████| 480/480 [15:10<00:00,  1.90s/it, loss=0.361]\n",
      "Validation: 100%|██████████| 12/12 [00:09<00:00,  1.29it/s, loss=0.396]\n"
     ]
    },
    {
     "name": "stdout",
     "output_type": "stream",
     "text": [
      "Validation Dice Score\n",
      "Class 0: 0.9893, Class 1: 0.3658, Class 2: 0.1022, Class 3: 0.2092, Class 4: 0.4004, Class 5: 0.2592, Class 6: 0.5654, \n",
      "Validation F-beta Score\n",
      "Class 0: 0.9940, Class 1: 0.4175, Class 2: 0.1106, Class 3: 0.2521, Class 4: 0.3258, Class 5: 0.2319, Class 6: 0.5854, \n",
      "\n",
      "Overall Mean Dice Score: 0.3600\n",
      "Overall Mean F-beta Score: 0.3626\n",
      "\n",
      "Training Loss: 0.3589, Validation Loss: 0.3726, Validation F-beta: 0.3626\n",
      "Epoch 25/4000\n"
     ]
    },
    {
     "name": "stderr",
     "output_type": "stream",
     "text": [
      "Training: 100%|██████████| 480/480 [15:11<00:00,  1.90s/it, loss=0.368]\n",
      "Validation: 100%|██████████| 12/12 [00:09<00:00,  1.25it/s, loss=0.292]\n"
     ]
    },
    {
     "name": "stdout",
     "output_type": "stream",
     "text": [
      "Validation Dice Score\n",
      "Class 0: 0.9899, Class 1: 0.5180, Class 2: 0.0217, Class 3: 0.3461, Class 4: 0.6004, Class 5: 0.3509, Class 6: 0.5060, \n",
      "Validation F-beta Score\n",
      "Class 0: 0.9923, Class 1: 0.5504, Class 2: 0.0138, Class 3: 0.2721, Class 4: 0.5472, Class 5: 0.3246, Class 6: 0.5347, \n",
      "\n",
      "Overall Mean Dice Score: 0.4643\n",
      "Overall Mean F-beta Score: 0.4458\n",
      "\n",
      "Training Loss: 0.3550, Validation Loss: 0.3440, Validation F-beta: 0.4458\n",
      "Epoch 26/4000\n"
     ]
    },
    {
     "name": "stderr",
     "output_type": "stream",
     "text": [
      "Training: 100%|██████████| 480/480 [15:10<00:00,  1.90s/it, loss=0.355]\n",
      "Validation: 100%|██████████| 12/12 [00:09<00:00,  1.26it/s, loss=0.353]\n"
     ]
    },
    {
     "name": "stdout",
     "output_type": "stream",
     "text": [
      "Validation Dice Score\n",
      "Class 0: 0.9895, Class 1: 0.4655, Class 2: 0.0508, Class 3: 0.2238, Class 4: 0.3580, Class 5: 0.3426, Class 6: 0.6018, \n",
      "Validation F-beta Score\n",
      "Class 0: 0.9900, Class 1: 0.6267, Class 2: 0.0813, Class 3: 0.2173, Class 4: 0.3501, Class 5: 0.3458, Class 6: 0.7128, \n",
      "\n",
      "Overall Mean Dice Score: 0.3983\n",
      "Overall Mean F-beta Score: 0.4505\n",
      "\n",
      "Training Loss: 0.3557, Validation Loss: 0.3585, Validation F-beta: 0.4505\n",
      "Epoch 27/4000\n"
     ]
    },
    {
     "name": "stderr",
     "output_type": "stream",
     "text": [
      "Training: 100%|██████████| 480/480 [15:10<00:00,  1.90s/it, loss=0.391]\n",
      "Validation: 100%|██████████| 12/12 [00:09<00:00,  1.25it/s, loss=0.335]\n"
     ]
    },
    {
     "name": "stdout",
     "output_type": "stream",
     "text": [
      "Validation Dice Score\n",
      "Class 0: 0.9901, Class 1: 0.4418, Class 2: 0.0721, Class 3: 0.2590, Class 4: 0.5480, Class 5: 0.3707, Class 6: 0.4428, \n",
      "Validation F-beta Score\n",
      "Class 0: 0.9897, Class 1: 0.5841, Class 2: 0.0699, Class 3: 0.2119, Class 4: 0.5628, Class 5: 0.3806, Class 6: 0.5024, \n",
      "\n",
      "Overall Mean Dice Score: 0.4125\n",
      "Overall Mean F-beta Score: 0.4484\n",
      "\n",
      "Training Loss: 0.3559, Validation Loss: 0.3540, Validation F-beta: 0.4484\n",
      "Epoch 28/4000\n"
     ]
    },
    {
     "name": "stderr",
     "output_type": "stream",
     "text": [
      "Training: 100%|██████████| 480/480 [15:09<00:00,  1.89s/it, loss=0.355]\n",
      "Validation: 100%|██████████| 12/12 [00:09<00:00,  1.28it/s, loss=0.399]\n"
     ]
    },
    {
     "name": "stdout",
     "output_type": "stream",
     "text": [
      "Validation Dice Score\n",
      "Class 0: 0.9929, Class 1: 0.5110, Class 2: 0.0829, Class 3: 0.2459, Class 4: 0.4599, Class 5: 0.1934, Class 6: 0.6370, \n",
      "Validation F-beta Score\n",
      "Class 0: 0.9964, Class 1: 0.5673, Class 2: 0.1411, Class 3: 0.2331, Class 4: 0.4103, Class 5: 0.1405, Class 6: 0.6754, \n",
      "\n",
      "Overall Mean Dice Score: 0.4094\n",
      "Overall Mean F-beta Score: 0.4053\n",
      "\n",
      "Training Loss: 0.3537, Validation Loss: 0.3514, Validation F-beta: 0.4053\n",
      "Epoch 29/4000\n"
     ]
    },
    {
     "name": "stderr",
     "output_type": "stream",
     "text": [
      "Training: 100%|██████████| 480/480 [15:10<00:00,  1.90s/it, loss=0.319]\n",
      "Validation: 100%|██████████| 12/12 [00:09<00:00,  1.27it/s, loss=0.42] \n"
     ]
    },
    {
     "name": "stdout",
     "output_type": "stream",
     "text": [
      "Validation Dice Score\n",
      "Class 0: 0.9902, Class 1: 0.4293, Class 2: 0.0764, Class 3: 0.1690, Class 4: 0.4497, Class 5: 0.3605, Class 6: 0.6804, \n",
      "Validation F-beta Score\n",
      "Class 0: 0.9941, Class 1: 0.4619, Class 2: 0.0573, Class 3: 0.1329, Class 4: 0.3866, Class 5: 0.3091, Class 6: 0.7774, \n",
      "\n",
      "Overall Mean Dice Score: 0.4178\n",
      "Overall Mean F-beta Score: 0.4136\n",
      "\n",
      "Training Loss: 0.3537, Validation Loss: 0.3599, Validation F-beta: 0.4136\n",
      "Epoch 30/4000\n"
     ]
    },
    {
     "name": "stderr",
     "output_type": "stream",
     "text": [
      "Training: 100%|██████████| 480/480 [15:08<00:00,  1.89s/it, loss=0.335]\n",
      "Validation: 100%|██████████| 12/12 [00:09<00:00,  1.28it/s, loss=0.299]\n"
     ]
    },
    {
     "name": "stdout",
     "output_type": "stream",
     "text": [
      "Validation Dice Score\n",
      "Class 0: 0.9897, Class 1: 0.4217, Class 2: 0.0587, Class 3: 0.3273, Class 4: 0.5908, Class 5: 0.3899, Class 6: 0.4693, \n",
      "Validation F-beta Score\n",
      "Class 0: 0.9894, Class 1: 0.4754, Class 2: 0.0384, Class 3: 0.4124, Class 4: 0.6246, Class 5: 0.3983, Class 6: 0.5199, \n",
      "\n",
      "Overall Mean Dice Score: 0.4398\n",
      "Overall Mean F-beta Score: 0.4861\n",
      "\n",
      "Training Loss: 0.3482, Validation Loss: 0.3409, Validation F-beta: 0.4861\n",
      "Epoch 31/4000\n"
     ]
    },
    {
     "name": "stderr",
     "output_type": "stream",
     "text": [
      "Training: 100%|██████████| 480/480 [15:10<00:00,  1.90s/it, loss=0.331]\n",
      "Validation: 100%|██████████| 12/12 [00:09<00:00,  1.28it/s, loss=0.288]\n"
     ]
    },
    {
     "name": "stdout",
     "output_type": "stream",
     "text": [
      "Validation Dice Score\n",
      "Class 0: 0.9913, Class 1: 0.4516, Class 2: 0.1235, Class 3: 0.3661, Class 4: 0.5475, Class 5: 0.4132, Class 6: 0.5154, \n",
      "Validation F-beta Score\n",
      "Class 0: 0.9911, Class 1: 0.5476, Class 2: 0.1068, Class 3: 0.3918, Class 4: 0.6070, Class 5: 0.3768, Class 6: 0.6510, \n",
      "\n",
      "Overall Mean Dice Score: 0.4588\n",
      "Overall Mean F-beta Score: 0.5149\n",
      "\n",
      "Training Loss: 0.3469, Validation Loss: 0.3400, Validation F-beta: 0.5149\n",
      "========================================================\n",
      "SUPER Best model saved. Loss:0.3400, Score:0.5149\n",
      "========================================================\n",
      "Epoch 32/4000\n"
     ]
    },
    {
     "name": "stderr",
     "output_type": "stream",
     "text": [
      "Training: 100%|██████████| 480/480 [15:09<00:00,  1.90s/it, loss=0.298]\n",
      "Validation: 100%|██████████| 12/12 [00:09<00:00,  1.27it/s, loss=0.366]\n"
     ]
    },
    {
     "name": "stdout",
     "output_type": "stream",
     "text": [
      "Validation Dice Score\n",
      "Class 0: 0.9911, Class 1: 0.6007, Class 2: 0.1416, Class 3: 0.2369, Class 4: 0.6624, Class 5: 0.3866, Class 6: 0.6148, \n",
      "Validation F-beta Score\n",
      "Class 0: 0.9923, Class 1: 0.8130, Class 2: 0.1312, Class 3: 0.2175, Class 4: 0.6275, Class 5: 0.3596, Class 6: 0.7627, \n",
      "\n",
      "Overall Mean Dice Score: 0.5003\n",
      "Overall Mean F-beta Score: 0.5561\n",
      "\n",
      "Training Loss: 0.3444, Validation Loss: 0.3372, Validation F-beta: 0.5561\n",
      "========================================================\n",
      "SUPER Best model saved. Loss:0.3372, Score:0.5561\n",
      "========================================================\n",
      "Epoch 33/4000\n"
     ]
    },
    {
     "name": "stderr",
     "output_type": "stream",
     "text": [
      "Training: 100%|██████████| 480/480 [15:10<00:00,  1.90s/it, loss=0.298]\n",
      "Validation: 100%|██████████| 12/12 [00:09<00:00,  1.26it/s, loss=0.353]\n"
     ]
    },
    {
     "name": "stdout",
     "output_type": "stream",
     "text": [
      "Validation Dice Score\n",
      "Class 0: 0.9907, Class 1: 0.2940, Class 2: 0.1878, Class 3: 0.3834, Class 4: 0.5414, Class 5: 0.4439, Class 6: 0.5901, \n",
      "Validation F-beta Score\n",
      "Class 0: 0.9893, Class 1: 0.3918, Class 2: 0.1580, Class 3: 0.4245, Class 4: 0.5672, Class 5: 0.4284, Class 6: 0.6519, \n",
      "\n",
      "Overall Mean Dice Score: 0.4506\n",
      "Overall Mean F-beta Score: 0.4928\n",
      "\n",
      "Training Loss: 0.3448, Validation Loss: 0.3401, Validation F-beta: 0.4928\n",
      "Epoch 34/4000\n"
     ]
    },
    {
     "name": "stderr",
     "output_type": "stream",
     "text": [
      "Training: 100%|██████████| 480/480 [15:09<00:00,  1.90s/it, loss=0.314]\n",
      "Validation: 100%|██████████| 12/12 [00:09<00:00,  1.27it/s, loss=0.31] \n"
     ]
    },
    {
     "name": "stdout",
     "output_type": "stream",
     "text": [
      "Validation Dice Score\n",
      "Class 0: 0.9915, Class 1: 0.5229, Class 2: 0.0727, Class 3: 0.2896, Class 4: 0.4604, Class 5: 0.3301, Class 6: 0.4502, \n",
      "Validation F-beta Score\n",
      "Class 0: 0.9929, Class 1: 0.4923, Class 2: 0.0918, Class 3: 0.3155, Class 4: 0.5030, Class 5: 0.3024, Class 6: 0.4816, \n",
      "\n",
      "Overall Mean Dice Score: 0.4106\n",
      "Overall Mean F-beta Score: 0.4190\n",
      "\n",
      "Training Loss: 0.3458, Validation Loss: 0.3475, Validation F-beta: 0.4190\n",
      "Epoch 35/4000\n"
     ]
    },
    {
     "name": "stderr",
     "output_type": "stream",
     "text": [
      "Training: 100%|██████████| 480/480 [15:10<00:00,  1.90s/it, loss=0.341]\n",
      "Validation: 100%|██████████| 12/12 [00:09<00:00,  1.25it/s, loss=0.397]\n"
     ]
    },
    {
     "name": "stdout",
     "output_type": "stream",
     "text": [
      "Validation Dice Score\n",
      "Class 0: 0.9890, Class 1: 0.5722, Class 2: 0.0494, Class 3: 0.2419, Class 4: 0.5720, Class 5: 0.3741, Class 6: 0.7821, \n",
      "Validation F-beta Score\n",
      "Class 0: 0.9888, Class 1: 0.6242, Class 2: 0.0335, Class 3: 0.2234, Class 4: 0.6642, Class 5: 0.3755, Class 6: 0.8521, \n",
      "\n",
      "Overall Mean Dice Score: 0.5085\n",
      "Overall Mean F-beta Score: 0.5479\n",
      "\n",
      "Training Loss: 0.3442, Validation Loss: 0.3455, Validation F-beta: 0.5479\n",
      "Epoch 36/4000\n"
     ]
    },
    {
     "name": "stderr",
     "output_type": "stream",
     "text": [
      "Training: 100%|██████████| 480/480 [15:10<00:00,  1.90s/it, loss=0.337]\n",
      "Validation: 100%|██████████| 12/12 [00:09<00:00,  1.26it/s, loss=0.357]\n"
     ]
    },
    {
     "name": "stdout",
     "output_type": "stream",
     "text": [
      "Validation Dice Score\n",
      "Class 0: 0.9925, Class 1: 0.3671, Class 2: 0.1347, Class 3: 0.3349, Class 4: 0.6977, Class 5: 0.3964, Class 6: 0.6330, \n",
      "Validation F-beta Score\n",
      "Class 0: 0.9921, Class 1: 0.4730, Class 2: 0.1244, Class 3: 0.4277, Class 4: 0.7507, Class 5: 0.3830, Class 6: 0.6935, \n",
      "\n",
      "Overall Mean Dice Score: 0.4858\n",
      "Overall Mean F-beta Score: 0.5456\n",
      "\n",
      "Training Loss: 0.3446, Validation Loss: 0.3362, Validation F-beta: 0.5456\n",
      "Epoch 37/4000\n"
     ]
    },
    {
     "name": "stderr",
     "output_type": "stream",
     "text": [
      "Training: 100%|██████████| 480/480 [15:11<00:00,  1.90s/it, loss=0.31] \n",
      "Validation: 100%|██████████| 12/12 [00:09<00:00,  1.24it/s, loss=0.36] \n"
     ]
    },
    {
     "name": "stdout",
     "output_type": "stream",
     "text": [
      "Validation Dice Score\n",
      "Class 0: 0.9898, Class 1: 0.4105, Class 2: 0.0613, Class 3: 0.2499, Class 4: 0.5656, Class 5: 0.3259, Class 6: 0.5483, \n",
      "Validation F-beta Score\n",
      "Class 0: 0.9890, Class 1: 0.6006, Class 2: 0.0741, Class 3: 0.4626, Class 4: 0.5944, Class 5: 0.2919, Class 6: 0.6673, \n",
      "\n",
      "Overall Mean Dice Score: 0.4201\n",
      "Overall Mean F-beta Score: 0.5234\n",
      "\n",
      "Training Loss: 0.3394, Validation Loss: 0.3659, Validation F-beta: 0.5234\n",
      "Epoch 38/4000\n"
     ]
    },
    {
     "name": "stderr",
     "output_type": "stream",
     "text": [
      "Training: 100%|██████████| 480/480 [15:10<00:00,  1.90s/it, loss=0.34] \n",
      "Validation: 100%|██████████| 12/12 [00:09<00:00,  1.27it/s, loss=0.343]\n"
     ]
    },
    {
     "name": "stdout",
     "output_type": "stream",
     "text": [
      "Validation Dice Score\n",
      "Class 0: 0.9900, Class 1: 0.4356, Class 2: 0.0284, Class 3: 0.2477, Class 4: 0.4273, Class 5: 0.3690, Class 6: 0.3265, \n",
      "Validation F-beta Score\n",
      "Class 0: 0.9950, Class 1: 0.3867, Class 2: 0.1863, Class 3: 0.1872, Class 4: 0.3191, Class 5: 0.3621, Class 6: 0.4226, \n",
      "\n",
      "Overall Mean Dice Score: 0.3612\n",
      "Overall Mean F-beta Score: 0.3355\n",
      "\n",
      "Training Loss: 0.3433, Validation Loss: 0.3721, Validation F-beta: 0.3355\n",
      "Epoch 39/4000\n"
     ]
    },
    {
     "name": "stderr",
     "output_type": "stream",
     "text": [
      "Training: 100%|██████████| 480/480 [15:10<00:00,  1.90s/it, loss=0.313]\n",
      "Validation: 100%|██████████| 12/12 [00:09<00:00,  1.25it/s, loss=0.273]\n"
     ]
    },
    {
     "name": "stdout",
     "output_type": "stream",
     "text": [
      "Validation Dice Score\n",
      "Class 0: 0.9904, Class 1: 0.4332, Class 2: 0.0885, Class 3: 0.2712, Class 4: 0.3729, Class 5: 0.3263, Class 6: 0.5244, \n",
      "Validation F-beta Score\n",
      "Class 0: 0.9924, Class 1: 0.5608, Class 2: 0.2303, Class 3: 0.2928, Class 4: 0.4309, Class 5: 0.3069, Class 6: 0.6716, \n",
      "\n",
      "Overall Mean Dice Score: 0.3856\n",
      "Overall Mean F-beta Score: 0.4526\n",
      "\n",
      "Training Loss: 0.3432, Validation Loss: 0.3610, Validation F-beta: 0.4526\n",
      "Epoch 40/4000\n"
     ]
    },
    {
     "name": "stderr",
     "output_type": "stream",
     "text": [
      "Training: 100%|██████████| 480/480 [15:11<00:00,  1.90s/it, loss=0.337]\n",
      "Validation: 100%|██████████| 12/12 [00:09<00:00,  1.24it/s, loss=0.344]\n"
     ]
    },
    {
     "name": "stdout",
     "output_type": "stream",
     "text": [
      "Validation Dice Score\n",
      "Class 0: 0.9911, Class 1: 0.5488, Class 2: 0.1501, Class 3: 0.2500, Class 4: 0.5109, Class 5: 0.3937, Class 6: 0.4362, \n",
      "Validation F-beta Score\n",
      "Class 0: 0.9928, Class 1: 0.6208, Class 2: 0.1795, Class 3: 0.3059, Class 4: 0.4709, Class 5: 0.3530, Class 6: 0.5275, \n",
      "\n",
      "Overall Mean Dice Score: 0.4279\n",
      "Overall Mean F-beta Score: 0.4556\n",
      "\n",
      "Training Loss: 0.3394, Validation Loss: 0.3438, Validation F-beta: 0.4556\n",
      "Epoch 41/4000\n"
     ]
    },
    {
     "name": "stderr",
     "output_type": "stream",
     "text": [
      "Training: 100%|██████████| 480/480 [15:11<00:00,  1.90s/it, loss=0.34] \n",
      "Validation: 100%|██████████| 12/12 [00:09<00:00,  1.26it/s, loss=0.311]\n"
     ]
    },
    {
     "name": "stdout",
     "output_type": "stream",
     "text": [
      "Validation Dice Score\n",
      "Class 0: 0.9894, Class 1: 0.3702, Class 2: 0.0738, Class 3: 0.1511, Class 4: 0.5455, Class 5: 0.4025, Class 6: 0.6923, \n",
      "Validation F-beta Score\n",
      "Class 0: 0.9926, Class 1: 0.4286, Class 2: 0.0620, Class 3: 0.1595, Class 4: 0.4817, Class 5: 0.3635, Class 6: 0.7418, \n",
      "\n",
      "Overall Mean Dice Score: 0.4323\n",
      "Overall Mean F-beta Score: 0.4350\n",
      "\n",
      "Training Loss: 0.3390, Validation Loss: 0.3567, Validation F-beta: 0.4350\n",
      "Epoch 42/4000\n"
     ]
    },
    {
     "name": "stderr",
     "output_type": "stream",
     "text": [
      "Training: 100%|██████████| 480/480 [15:10<00:00,  1.90s/it, loss=0.336]\n",
      "Validation: 100%|██████████| 12/12 [00:09<00:00,  1.28it/s, loss=0.377]\n"
     ]
    },
    {
     "name": "stdout",
     "output_type": "stream",
     "text": [
      "Validation Dice Score\n",
      "Class 0: 0.9910, Class 1: 0.5243, Class 2: 0.1461, Class 3: 0.2154, Class 4: 0.5441, Class 5: 0.3338, Class 6: 0.5361, \n",
      "Validation F-beta Score\n",
      "Class 0: 0.9921, Class 1: 0.6927, Class 2: 0.1464, Class 3: 0.2490, Class 4: 0.5601, Class 5: 0.2707, Class 6: 0.6687, \n",
      "\n",
      "Overall Mean Dice Score: 0.4307\n",
      "Overall Mean F-beta Score: 0.4882\n",
      "\n",
      "Training Loss: 0.3391, Validation Loss: 0.3369, Validation F-beta: 0.4882\n",
      "Epoch 43/4000\n"
     ]
    },
    {
     "name": "stderr",
     "output_type": "stream",
     "text": [
      "Training: 100%|██████████| 480/480 [15:08<00:00,  1.89s/it, loss=0.364]\n",
      "Validation: 100%|██████████| 12/12 [00:09<00:00,  1.25it/s, loss=0.278]\n"
     ]
    },
    {
     "name": "stdout",
     "output_type": "stream",
     "text": [
      "Validation Dice Score\n",
      "Class 0: 0.9903, Class 1: 0.5800, Class 2: 0.1776, Class 3: 0.3975, Class 4: 0.5326, Class 5: 0.3422, Class 6: 0.5358, \n",
      "Validation F-beta Score\n",
      "Class 0: 0.9904, Class 1: 0.6069, Class 2: 0.1403, Class 3: 0.4036, Class 4: 0.5638, Class 5: 0.3200, Class 6: 0.6487, \n",
      "\n",
      "Overall Mean Dice Score: 0.4776\n",
      "Overall Mean F-beta Score: 0.5086\n",
      "\n",
      "Training Loss: 0.3374, Validation Loss: 0.3347, Validation F-beta: 0.5086\n",
      "Epoch 44/4000\n"
     ]
    },
    {
     "name": "stderr",
     "output_type": "stream",
     "text": [
      "Training: 100%|██████████| 480/480 [15:09<00:00,  1.90s/it, loss=0.349]\n",
      "Validation: 100%|██████████| 12/12 [00:09<00:00,  1.27it/s, loss=0.275]\n"
     ]
    },
    {
     "name": "stdout",
     "output_type": "stream",
     "text": [
      "Validation Dice Score\n",
      "Class 0: 0.9879, Class 1: 0.3774, Class 2: 0.1679, Class 3: 0.3510, Class 4: 0.3802, Class 5: 0.3085, Class 6: 0.5714, \n",
      "Validation F-beta Score\n",
      "Class 0: 0.9935, Class 1: 0.5012, Class 2: 0.1372, Class 3: 0.3207, Class 4: 0.4013, Class 5: 0.2397, Class 6: 0.5920, \n",
      "\n",
      "Overall Mean Dice Score: 0.3977\n",
      "Overall Mean F-beta Score: 0.4110\n",
      "\n",
      "Training Loss: 0.3376, Validation Loss: 0.3535, Validation F-beta: 0.4110\n",
      "Epoch 45/4000\n"
     ]
    },
    {
     "name": "stderr",
     "output_type": "stream",
     "text": [
      "Training: 100%|██████████| 480/480 [15:10<00:00,  1.90s/it, loss=0.316]\n",
      "Validation: 100%|██████████| 12/12 [00:09<00:00,  1.27it/s, loss=0.268]\n"
     ]
    },
    {
     "name": "stdout",
     "output_type": "stream",
     "text": [
      "Validation Dice Score\n",
      "Class 0: 0.9912, Class 1: 0.6123, Class 2: 0.0850, Class 3: 0.2687, Class 4: 0.5199, Class 5: 0.3987, Class 6: 0.7437, \n",
      "Validation F-beta Score\n",
      "Class 0: 0.9933, Class 1: 0.7454, Class 2: 0.0706, Class 3: 0.2566, Class 4: 0.5375, Class 5: 0.3243, Class 6: 0.8043, \n",
      "\n",
      "Overall Mean Dice Score: 0.5087\n",
      "Overall Mean F-beta Score: 0.5336\n",
      "\n",
      "Training Loss: 0.3352, Validation Loss: 0.3276, Validation F-beta: 0.5336\n",
      "Epoch 46/4000\n"
     ]
    },
    {
     "name": "stderr",
     "output_type": "stream",
     "text": [
      "Training: 100%|██████████| 480/480 [15:09<00:00,  1.89s/it, loss=0.291]\n",
      "Validation: 100%|██████████| 12/12 [00:09<00:00,  1.27it/s, loss=0.367]\n"
     ]
    },
    {
     "name": "stdout",
     "output_type": "stream",
     "text": [
      "Validation Dice Score\n",
      "Class 0: 0.9916, Class 1: 0.6444, Class 2: 0.1713, Class 3: 0.3352, Class 4: 0.5535, Class 5: 0.2719, Class 6: 0.5916, \n",
      "Validation F-beta Score\n",
      "Class 0: 0.9936, Class 1: 0.6860, Class 2: 0.1615, Class 3: 0.3289, Class 4: 0.5525, Class 5: 0.1897, Class 6: 0.6903, \n",
      "\n",
      "Overall Mean Dice Score: 0.4793\n",
      "Overall Mean F-beta Score: 0.4895\n",
      "\n",
      "Training Loss: 0.3401, Validation Loss: 0.3310, Validation F-beta: 0.4895\n",
      "Epoch 47/4000\n"
     ]
    },
    {
     "name": "stderr",
     "output_type": "stream",
     "text": [
      "Training: 100%|██████████| 480/480 [15:10<00:00,  1.90s/it, loss=0.273]\n",
      "Validation: 100%|██████████| 12/12 [00:09<00:00,  1.27it/s, loss=0.321]\n"
     ]
    },
    {
     "name": "stdout",
     "output_type": "stream",
     "text": [
      "Validation Dice Score\n",
      "Class 0: 0.9917, Class 1: 0.5103, Class 2: 0.0695, Class 3: 0.2610, Class 4: 0.5367, Class 5: 0.4001, Class 6: 0.5378, \n",
      "Validation F-beta Score\n",
      "Class 0: 0.9932, Class 1: 0.5284, Class 2: 0.1346, Class 3: 0.2488, Class 4: 0.5241, Class 5: 0.3883, Class 6: 0.6122, \n",
      "\n",
      "Overall Mean Dice Score: 0.4492\n",
      "Overall Mean F-beta Score: 0.4604\n",
      "\n",
      "Training Loss: 0.3372, Validation Loss: 0.3381, Validation F-beta: 0.4604\n",
      "Epoch 48/4000\n"
     ]
    },
    {
     "name": "stderr",
     "output_type": "stream",
     "text": [
      "Training: 100%|██████████| 480/480 [15:10<00:00,  1.90s/it, loss=0.367]\n",
      "Validation: 100%|██████████| 12/12 [00:09<00:00,  1.30it/s, loss=0.31]\n"
     ]
    },
    {
     "name": "stdout",
     "output_type": "stream",
     "text": [
      "Validation Dice Score\n",
      "Class 0: 0.9909, Class 1: 0.4614, Class 2: 0.1375, Class 3: 0.1878, Class 4: 0.5347, Class 5: 0.4268, Class 6: 0.5992, \n",
      "Validation F-beta Score\n",
      "Class 0: 0.9939, Class 1: 0.5795, Class 2: 0.1348, Class 3: 0.1531, Class 4: 0.5498, Class 5: 0.4047, Class 6: 0.7453, \n",
      "\n",
      "Overall Mean Dice Score: 0.4420\n",
      "Overall Mean F-beta Score: 0.4865\n",
      "\n",
      "Training Loss: 0.3327, Validation Loss: 0.3395, Validation F-beta: 0.4865\n",
      "Epoch 49/4000\n"
     ]
    },
    {
     "name": "stderr",
     "output_type": "stream",
     "text": [
      "Training: 100%|██████████| 480/480 [15:11<00:00,  1.90s/it, loss=0.33] \n",
      "Validation: 100%|██████████| 12/12 [00:09<00:00,  1.26it/s, loss=0.361]\n"
     ]
    },
    {
     "name": "stdout",
     "output_type": "stream",
     "text": [
      "Validation Dice Score\n",
      "Class 0: 0.9894, Class 1: 0.5049, Class 2: 0.0924, Class 3: 0.2636, Class 4: 0.6623, Class 5: 0.2754, Class 6: 0.4468, \n",
      "Validation F-beta Score\n",
      "Class 0: 0.9886, Class 1: 0.6522, Class 2: 0.1174, Class 3: 0.3372, Class 4: 0.7156, Class 5: 0.2378, Class 6: 0.5977, \n",
      "\n",
      "Overall Mean Dice Score: 0.4306\n",
      "Overall Mean F-beta Score: 0.5081\n",
      "\n",
      "Training Loss: 0.3344, Validation Loss: 0.3571, Validation F-beta: 0.5081\n",
      "Epoch 50/4000\n"
     ]
    },
    {
     "name": "stderr",
     "output_type": "stream",
     "text": [
      "Training: 100%|██████████| 480/480 [15:09<00:00,  1.89s/it, loss=0.342]\n",
      "Validation: 100%|██████████| 12/12 [00:09<00:00,  1.25it/s, loss=0.349]\n"
     ]
    },
    {
     "name": "stdout",
     "output_type": "stream",
     "text": [
      "Validation Dice Score\n",
      "Class 0: 0.9896, Class 1: 0.5776, Class 2: 0.0685, Class 3: 0.1800, Class 4: 0.6206, Class 5: 0.2851, Class 6: 0.6250, \n",
      "Validation F-beta Score\n",
      "Class 0: 0.9932, Class 1: 0.6286, Class 2: 0.0612, Class 3: 0.1432, Class 4: 0.5706, Class 5: 0.2612, Class 6: 0.7444, \n",
      "\n",
      "Overall Mean Dice Score: 0.4577\n",
      "Overall Mean F-beta Score: 0.4696\n",
      "\n",
      "Training Loss: 0.3316, Validation Loss: 0.3536, Validation F-beta: 0.4696\n",
      "Epoch 51/4000\n"
     ]
    },
    {
     "name": "stderr",
     "output_type": "stream",
     "text": [
      "Training: 100%|██████████| 480/480 [15:09<00:00,  1.90s/it, loss=0.283]\n",
      "Validation: 100%|██████████| 12/12 [00:09<00:00,  1.25it/s, loss=0.33] \n"
     ]
    },
    {
     "name": "stdout",
     "output_type": "stream",
     "text": [
      "Validation Dice Score\n",
      "Class 0: 0.9898, Class 1: 0.7010, Class 2: 0.1263, Class 3: 0.3094, Class 4: 0.5121, Class 5: 0.4206, Class 6: 0.6569, \n",
      "Validation F-beta Score\n",
      "Class 0: 0.9947, Class 1: 0.7132, Class 2: 0.1656, Class 3: 0.3490, Class 4: 0.4527, Class 5: 0.3958, Class 6: 0.6971, \n",
      "\n",
      "Overall Mean Dice Score: 0.5200\n",
      "Overall Mean F-beta Score: 0.5216\n",
      "\n",
      "Training Loss: 0.3341, Validation Loss: 0.3305, Validation F-beta: 0.5216\n",
      "Epoch 52/4000\n"
     ]
    },
    {
     "name": "stderr",
     "output_type": "stream",
     "text": [
      "Training: 100%|██████████| 480/480 [15:19<00:00,  1.92s/it, loss=0.318]\n",
      "Validation: 100%|██████████| 12/12 [00:09<00:00,  1.21it/s, loss=0.377]\n"
     ]
    },
    {
     "name": "stdout",
     "output_type": "stream",
     "text": [
      "Validation Dice Score\n",
      "Class 0: 0.9905, Class 1: 0.5735, Class 2: 0.0075, Class 3: 0.2074, Class 4: 0.5533, Class 5: 0.3920, Class 6: 0.5408, \n",
      "Validation F-beta Score\n",
      "Class 0: 0.9943, Class 1: 0.7420, Class 2: 0.1708, Class 3: 0.1888, Class 4: 0.4681, Class 5: 0.3470, Class 6: 0.7060, \n",
      "\n",
      "Overall Mean Dice Score: 0.4534\n",
      "Overall Mean F-beta Score: 0.4904\n",
      "\n",
      "Training Loss: 0.3322, Validation Loss: 0.3455, Validation F-beta: 0.4904\n",
      "Epoch 53/4000\n"
     ]
    },
    {
     "name": "stderr",
     "output_type": "stream",
     "text": [
      "Training: 100%|██████████| 480/480 [15:32<00:00,  1.94s/it, loss=0.36] \n",
      "Validation: 100%|██████████| 12/12 [00:09<00:00,  1.25it/s, loss=0.344]\n"
     ]
    },
    {
     "name": "stdout",
     "output_type": "stream",
     "text": [
      "Validation Dice Score\n",
      "Class 0: 0.9915, Class 1: 0.5103, Class 2: 0.1403, Class 3: 0.1748, Class 4: 0.6508, Class 5: 0.3661, Class 6: 0.3609, \n",
      "Validation F-beta Score\n",
      "Class 0: 0.9941, Class 1: 0.5841, Class 2: 0.1231, Class 3: 0.1655, Class 4: 0.6040, Class 5: 0.3130, Class 6: 0.4736, \n",
      "\n",
      "Overall Mean Dice Score: 0.4126\n",
      "Overall Mean F-beta Score: 0.4280\n",
      "\n",
      "Training Loss: 0.3312, Validation Loss: 0.3483, Validation F-beta: 0.4280\n",
      "Epoch 54/4000\n"
     ]
    },
    {
     "name": "stderr",
     "output_type": "stream",
     "text": [
      "Training: 100%|██████████| 480/480 [15:32<00:00,  1.94s/it, loss=0.348]\n",
      "Validation: 100%|██████████| 12/12 [00:09<00:00,  1.27it/s, loss=0.41] \n"
     ]
    },
    {
     "name": "stdout",
     "output_type": "stream",
     "text": [
      "Validation Dice Score\n",
      "Class 0: 0.9906, Class 1: 0.4686, Class 2: 0.0150, Class 3: 0.1395, Class 4: 0.6596, Class 5: 0.3678, Class 6: 0.4668, \n",
      "Validation F-beta Score\n",
      "Class 0: 0.9948, Class 1: 0.6159, Class 2: 0.1772, Class 3: 0.1356, Class 4: 0.5903, Class 5: 0.2905, Class 6: 0.5972, \n",
      "\n",
      "Overall Mean Dice Score: 0.4205\n",
      "Overall Mean F-beta Score: 0.4459\n",
      "\n",
      "Training Loss: 0.3283, Validation Loss: 0.3518, Validation F-beta: 0.4459\n",
      "Epoch 55/4000\n"
     ]
    },
    {
     "name": "stderr",
     "output_type": "stream",
     "text": [
      "Training: 100%|██████████| 480/480 [15:30<00:00,  1.94s/it, loss=0.331]\n",
      "Validation: 100%|██████████| 12/12 [00:09<00:00,  1.27it/s, loss=0.435]\n"
     ]
    },
    {
     "name": "stdout",
     "output_type": "stream",
     "text": [
      "Validation Dice Score\n",
      "Class 0: 0.9902, Class 1: 0.5199, Class 2: 0.1072, Class 3: 0.3259, Class 4: 0.5855, Class 5: 0.3792, Class 6: 0.7204, \n",
      "Validation F-beta Score\n",
      "Class 0: 0.9901, Class 1: 0.6025, Class 2: 0.1538, Class 3: 0.3926, Class 4: 0.5991, Class 5: 0.3539, Class 6: 0.8434, \n",
      "\n",
      "Overall Mean Dice Score: 0.5062\n",
      "Overall Mean F-beta Score: 0.5583\n",
      "\n",
      "Training Loss: 0.3288, Validation Loss: 0.3251, Validation F-beta: 0.5583\n",
      "========================================================\n",
      "SUPER Best model saved. Loss:0.3251, Score:0.5583\n",
      "========================================================\n",
      "Epoch 56/4000\n"
     ]
    },
    {
     "name": "stderr",
     "output_type": "stream",
     "text": [
      "Training: 100%|██████████| 480/480 [15:11<00:00,  1.90s/it, loss=0.353]\n",
      "Validation: 100%|██████████| 12/12 [00:09<00:00,  1.27it/s, loss=0.43] \n"
     ]
    },
    {
     "name": "stdout",
     "output_type": "stream",
     "text": [
      "Validation Dice Score\n",
      "Class 0: 0.9903, Class 1: 0.4578, Class 2: 0.0916, Class 3: 0.2484, Class 4: 0.5873, Class 5: 0.3609, Class 6: 0.7191, \n",
      "Validation F-beta Score\n",
      "Class 0: 0.9899, Class 1: 0.5432, Class 2: 0.0799, Class 3: 0.2736, Class 4: 0.7199, Class 5: 0.3486, Class 6: 0.8863, \n",
      "\n",
      "Overall Mean Dice Score: 0.4747\n",
      "Overall Mean F-beta Score: 0.5543\n",
      "\n",
      "Training Loss: 0.3286, Validation Loss: 0.3430, Validation F-beta: 0.5543\n",
      "Epoch 57/4000\n"
     ]
    },
    {
     "name": "stderr",
     "output_type": "stream",
     "text": [
      "Training: 100%|██████████| 480/480 [15:51<00:00,  1.98s/it, loss=0.371]\n",
      "Validation: 100%|██████████| 12/12 [00:09<00:00,  1.24it/s, loss=0.335]\n"
     ]
    },
    {
     "name": "stdout",
     "output_type": "stream",
     "text": [
      "Validation Dice Score\n",
      "Class 0: 0.9885, Class 1: 0.4773, Class 2: 0.0532, Class 3: 0.2270, Class 4: 0.5807, Class 5: 0.3014, Class 6: 0.6071, \n",
      "Validation F-beta Score\n",
      "Class 0: 0.9943, Class 1: 0.5878, Class 2: 0.0484, Class 3: 0.2267, Class 4: 0.4703, Class 5: 0.2743, Class 6: 0.7042, \n",
      "\n",
      "Overall Mean Dice Score: 0.4387\n",
      "Overall Mean F-beta Score: 0.4527\n",
      "\n",
      "Training Loss: 0.3269, Validation Loss: 0.3533, Validation F-beta: 0.4527\n",
      "Epoch 58/4000\n"
     ]
    },
    {
     "name": "stderr",
     "output_type": "stream",
     "text": [
      "Training: 100%|██████████| 480/480 [15:45<00:00,  1.97s/it, loss=0.38] \n",
      "Validation: 100%|██████████| 12/12 [00:09<00:00,  1.25it/s, loss=0.428]\n"
     ]
    },
    {
     "name": "stdout",
     "output_type": "stream",
     "text": [
      "Validation Dice Score\n",
      "Class 0: 0.9925, Class 1: 0.6016, Class 2: 0.1663, Class 3: 0.3695, Class 4: 0.5507, Class 5: 0.2874, Class 6: 0.5091, \n",
      "Validation F-beta Score\n",
      "Class 0: 0.9940, Class 1: 0.6424, Class 2: 0.1280, Class 3: 0.4675, Class 4: 0.6094, Class 5: 0.3195, Class 6: 0.5846, \n",
      "\n",
      "Overall Mean Dice Score: 0.4636\n",
      "Overall Mean F-beta Score: 0.5247\n",
      "\n",
      "Training Loss: 0.3281, Validation Loss: 0.3459, Validation F-beta: 0.5247\n",
      "Epoch 59/4000\n"
     ]
    },
    {
     "name": "stderr",
     "output_type": "stream",
     "text": [
      "Training: 100%|██████████| 480/480 [15:46<00:00,  1.97s/it, loss=0.339]\n",
      "Validation: 100%|██████████| 12/12 [00:09<00:00,  1.23it/s, loss=0.339]\n"
     ]
    },
    {
     "name": "stdout",
     "output_type": "stream",
     "text": [
      "Validation Dice Score\n",
      "Class 0: 0.9891, Class 1: 0.5609, Class 2: 0.0972, Class 3: 0.3860, Class 4: 0.5092, Class 5: 0.3942, Class 6: 0.5835, \n",
      "Validation F-beta Score\n",
      "Class 0: 0.9924, Class 1: 0.6485, Class 2: 0.1112, Class 3: 0.3998, Class 4: 0.5887, Class 5: 0.3553, Class 6: 0.7111, \n",
      "\n",
      "Overall Mean Dice Score: 0.4868\n",
      "Overall Mean F-beta Score: 0.5407\n",
      "\n",
      "Training Loss: 0.3281, Validation Loss: 0.3433, Validation F-beta: 0.5407\n",
      "Epoch 60/4000\n"
     ]
    },
    {
     "name": "stderr",
     "output_type": "stream",
     "text": [
      "Training: 100%|██████████| 480/480 [15:44<00:00,  1.97s/it, loss=0.318]\n",
      "Validation: 100%|██████████| 12/12 [00:09<00:00,  1.24it/s, loss=0.313]\n"
     ]
    },
    {
     "name": "stdout",
     "output_type": "stream",
     "text": [
      "Validation Dice Score\n",
      "Class 0: 0.9910, Class 1: 0.4938, Class 2: 0.0625, Class 3: 0.2948, Class 4: 0.5688, Class 5: 0.4983, Class 6: 0.5686, \n",
      "Validation F-beta Score\n",
      "Class 0: 0.9910, Class 1: 0.5425, Class 2: 0.0467, Class 3: 0.2534, Class 4: 0.5930, Class 5: 0.4911, Class 6: 0.7736, \n",
      "\n",
      "Overall Mean Dice Score: 0.4849\n",
      "Overall Mean F-beta Score: 0.5307\n",
      "\n",
      "Training Loss: 0.3287, Validation Loss: 0.3355, Validation F-beta: 0.5307\n",
      "Epoch 61/4000\n"
     ]
    },
    {
     "name": "stderr",
     "output_type": "stream",
     "text": [
      "Training: 100%|██████████| 480/480 [15:40<00:00,  1.96s/it, loss=0.35] \n",
      "Validation: 100%|██████████| 12/12 [00:09<00:00,  1.24it/s, loss=0.389]\n"
     ]
    },
    {
     "name": "stdout",
     "output_type": "stream",
     "text": [
      "Validation Dice Score\n",
      "Class 0: 0.9914, Class 1: 0.5974, Class 2: 0.1775, Class 3: 0.1954, Class 4: 0.5127, Class 5: 0.1776, Class 6: 0.5756, \n",
      "Validation F-beta Score\n",
      "Class 0: 0.9947, Class 1: 0.6792, Class 2: 0.1972, Class 3: 0.1782, Class 4: 0.4821, Class 5: 0.1323, Class 6: 0.6044, \n",
      "\n",
      "Overall Mean Dice Score: 0.4117\n",
      "Overall Mean F-beta Score: 0.4152\n",
      "\n",
      "Training Loss: 0.3271, Validation Loss: 0.3549, Validation F-beta: 0.4152\n",
      "Epoch 62/4000\n"
     ]
    },
    {
     "name": "stderr",
     "output_type": "stream",
     "text": [
      "Training: 100%|██████████| 480/480 [15:43<00:00,  1.97s/it, loss=0.296]\n",
      "Validation: 100%|██████████| 12/12 [00:09<00:00,  1.23it/s, loss=0.348]\n"
     ]
    },
    {
     "name": "stdout",
     "output_type": "stream",
     "text": [
      "Validation Dice Score\n",
      "Class 0: 0.9922, Class 1: 0.5407, Class 2: 0.0813, Class 3: 0.3753, Class 4: 0.4519, Class 5: 0.3479, Class 6: 0.7024, \n",
      "Validation F-beta Score\n",
      "Class 0: 0.9957, Class 1: 0.6185, Class 2: 0.1546, Class 3: 0.4017, Class 4: 0.3653, Class 5: 0.2944, Class 6: 0.6883, \n",
      "\n",
      "Overall Mean Dice Score: 0.4837\n",
      "Overall Mean F-beta Score: 0.4736\n",
      "\n",
      "Training Loss: 0.3311, Validation Loss: 0.3369, Validation F-beta: 0.4736\n",
      "Epoch 63/4000\n"
     ]
    },
    {
     "name": "stderr",
     "output_type": "stream",
     "text": [
      "Training: 100%|██████████| 480/480 [15:13<00:00,  1.90s/it, loss=0.331]\n",
      "Validation: 100%|██████████| 12/12 [00:09<00:00,  1.27it/s, loss=0.383]\n"
     ]
    },
    {
     "name": "stdout",
     "output_type": "stream",
     "text": [
      "Validation Dice Score\n",
      "Class 0: 0.9905, Class 1: 0.5223, Class 2: 0.1132, Class 3: 0.2233, Class 4: 0.4414, Class 5: 0.3636, Class 6: 0.6200, \n",
      "Validation F-beta Score\n",
      "Class 0: 0.9935, Class 1: 0.5367, Class 2: 0.0931, Class 3: 0.2505, Class 4: 0.3784, Class 5: 0.3254, Class 6: 0.7126, \n",
      "\n",
      "Overall Mean Dice Score: 0.4341\n",
      "Overall Mean F-beta Score: 0.4407\n",
      "\n",
      "Training Loss: 0.3253, Validation Loss: 0.3553, Validation F-beta: 0.4407\n",
      "Epoch 64/4000\n"
     ]
    },
    {
     "name": "stderr",
     "output_type": "stream",
     "text": [
      "Training: 100%|██████████| 480/480 [15:10<00:00,  1.90s/it, loss=0.304]\n",
      "Validation: 100%|██████████| 12/12 [00:09<00:00,  1.25it/s, loss=0.285]\n"
     ]
    },
    {
     "name": "stdout",
     "output_type": "stream",
     "text": [
      "Validation Dice Score\n",
      "Class 0: 0.9915, Class 1: 0.6098, Class 2: 0.0720, Class 3: 0.2331, Class 4: 0.7428, Class 5: 0.3501, Class 6: 0.8006, \n",
      "Validation F-beta Score\n",
      "Class 0: 0.9928, Class 1: 0.6785, Class 2: 0.0581, Class 3: 0.2736, Class 4: 0.7455, Class 5: 0.2987, Class 6: 0.8514, \n",
      "\n",
      "Overall Mean Dice Score: 0.5473\n",
      "Overall Mean F-beta Score: 0.5695\n",
      "\n",
      "Training Loss: 0.3257, Validation Loss: 0.3193, Validation F-beta: 0.5695\n",
      "========================================================\n",
      "SUPER Best model saved. Loss:0.3193, Score:0.5695\n",
      "========================================================\n",
      "Epoch 65/4000\n"
     ]
    },
    {
     "name": "stderr",
     "output_type": "stream",
     "text": [
      "Training: 100%|██████████| 480/480 [15:10<00:00,  1.90s/it, loss=0.355]\n",
      "Validation: 100%|██████████| 12/12 [00:09<00:00,  1.27it/s, loss=0.271]\n"
     ]
    },
    {
     "name": "stdout",
     "output_type": "stream",
     "text": [
      "Validation Dice Score\n",
      "Class 0: 0.9911, Class 1: 0.7099, Class 2: 0.0996, Class 3: 0.2819, Class 4: 0.4343, Class 5: 0.3249, Class 6: 0.6246, \n",
      "Validation F-beta Score\n",
      "Class 0: 0.9972, Class 1: 0.7344, Class 2: 0.0709, Class 3: 0.2255, Class 4: 0.3408, Class 5: 0.2629, Class 6: 0.6697, \n",
      "\n",
      "Overall Mean Dice Score: 0.4751\n",
      "Overall Mean F-beta Score: 0.4466\n",
      "\n",
      "Training Loss: 0.3219, Validation Loss: 0.3389, Validation F-beta: 0.4466\n",
      "Epoch 66/4000\n"
     ]
    },
    {
     "name": "stderr",
     "output_type": "stream",
     "text": [
      "Training: 100%|██████████| 480/480 [15:10<00:00,  1.90s/it, loss=0.338]\n",
      "Validation: 100%|██████████| 12/12 [00:09<00:00,  1.27it/s, loss=0.347]\n"
     ]
    },
    {
     "name": "stdout",
     "output_type": "stream",
     "text": [
      "Validation Dice Score\n",
      "Class 0: 0.9907, Class 1: 0.5779, Class 2: 0.1415, Class 3: 0.2787, Class 4: 0.5634, Class 5: 0.3945, Class 6: 0.8206, \n",
      "Validation F-beta Score\n",
      "Class 0: 0.9930, Class 1: 0.6927, Class 2: 0.1276, Class 3: 0.2319, Class 4: 0.5033, Class 5: 0.4068, Class 6: 0.8295, \n",
      "\n",
      "Overall Mean Dice Score: 0.5270\n",
      "Overall Mean F-beta Score: 0.5328\n",
      "\n",
      "Training Loss: 0.3259, Validation Loss: 0.3248, Validation F-beta: 0.5328\n",
      "Epoch 67/4000\n"
     ]
    },
    {
     "name": "stderr",
     "output_type": "stream",
     "text": [
      "Training: 100%|██████████| 480/480 [15:12<00:00,  1.90s/it, loss=0.31] \n",
      "Validation: 100%|██████████| 12/12 [00:09<00:00,  1.25it/s, loss=0.322]\n"
     ]
    },
    {
     "name": "stdout",
     "output_type": "stream",
     "text": [
      "Validation Dice Score\n",
      "Class 0: 0.9918, Class 1: 0.4477, Class 2: 0.3067, Class 3: 0.3324, Class 4: 0.4451, Class 5: 0.4577, Class 6: 0.7289, \n",
      "Validation F-beta Score\n",
      "Class 0: 0.9951, Class 1: 0.5107, Class 2: 0.3295, Class 3: 0.3125, Class 4: 0.4553, Class 5: 0.4163, Class 6: 0.7260, \n",
      "\n",
      "Overall Mean Dice Score: 0.4824\n",
      "Overall Mean F-beta Score: 0.4842\n",
      "\n",
      "Training Loss: 0.3241, Validation Loss: 0.3201, Validation F-beta: 0.4842\n",
      "Epoch 68/4000\n"
     ]
    },
    {
     "name": "stderr",
     "output_type": "stream",
     "text": [
      "Training: 100%|██████████| 480/480 [15:12<00:00,  1.90s/it, loss=0.327]\n",
      "Validation: 100%|██████████| 12/12 [00:09<00:00,  1.28it/s, loss=0.388]\n"
     ]
    },
    {
     "name": "stdout",
     "output_type": "stream",
     "text": [
      "Validation Dice Score\n",
      "Class 0: 0.9927, Class 1: 0.4688, Class 2: 0.0700, Class 3: 0.3357, Class 4: 0.5997, Class 5: 0.3762, Class 6: 0.2367, \n",
      "Validation F-beta Score\n",
      "Class 0: 0.9946, Class 1: 0.6196, Class 2: 0.0453, Class 3: 0.2895, Class 4: 0.5605, Class 5: 0.3587, Class 6: 0.5107, \n",
      "\n",
      "Overall Mean Dice Score: 0.4034\n",
      "Overall Mean F-beta Score: 0.4678\n",
      "\n",
      "Training Loss: 0.3229, Validation Loss: 0.3569, Validation F-beta: 0.4678\n",
      "Epoch 69/4000\n"
     ]
    },
    {
     "name": "stderr",
     "output_type": "stream",
     "text": [
      "Training: 100%|██████████| 480/480 [15:12<00:00,  1.90s/it, loss=0.356]\n",
      "Validation: 100%|██████████| 12/12 [00:09<00:00,  1.25it/s, loss=0.33] \n"
     ]
    },
    {
     "name": "stdout",
     "output_type": "stream",
     "text": [
      "Validation Dice Score\n",
      "Class 0: 0.9929, Class 1: 0.5766, Class 2: 0.0922, Class 3: 0.3718, Class 4: 0.5641, Class 5: 0.4148, Class 6: 0.5038, \n",
      "Validation F-beta Score\n",
      "Class 0: 0.9937, Class 1: 0.7098, Class 2: 0.1494, Class 3: 0.3270, Class 4: 0.5763, Class 5: 0.4259, Class 6: 0.5213, \n",
      "\n",
      "Overall Mean Dice Score: 0.4862\n",
      "Overall Mean F-beta Score: 0.5121\n",
      "\n",
      "Training Loss: 0.3244, Validation Loss: 0.3376, Validation F-beta: 0.5121\n",
      "Epoch 70/4000\n"
     ]
    },
    {
     "name": "stderr",
     "output_type": "stream",
     "text": [
      "Training: 100%|██████████| 480/480 [15:12<00:00,  1.90s/it, loss=0.361]\n",
      "Validation: 100%|██████████| 12/12 [00:09<00:00,  1.27it/s, loss=0.305]\n"
     ]
    },
    {
     "name": "stdout",
     "output_type": "stream",
     "text": [
      "Validation Dice Score\n",
      "Class 0: 0.9900, Class 1: 0.4529, Class 2: 0.0632, Class 3: 0.3034, Class 4: 0.6021, Class 5: 0.4163, Class 6: 0.5881, \n",
      "Validation F-beta Score\n",
      "Class 0: 0.9943, Class 1: 0.5473, Class 2: 0.0430, Class 3: 0.2605, Class 4: 0.5083, Class 5: 0.4090, Class 6: 0.6027, \n",
      "\n",
      "Overall Mean Dice Score: 0.4725\n",
      "Overall Mean F-beta Score: 0.4656\n",
      "\n",
      "Training Loss: 0.3222, Validation Loss: 0.3466, Validation F-beta: 0.4656\n",
      "Epoch 71/4000\n"
     ]
    },
    {
     "name": "stderr",
     "output_type": "stream",
     "text": [
      "Training: 100%|██████████| 480/480 [15:32<00:00,  1.94s/it, loss=0.363]\n",
      "Validation: 100%|██████████| 12/12 [00:09<00:00,  1.24it/s, loss=0.398]\n"
     ]
    },
    {
     "name": "stdout",
     "output_type": "stream",
     "text": [
      "Validation Dice Score\n",
      "Class 0: 0.9920, Class 1: 0.5791, Class 2: 0.0851, Class 3: 0.2980, Class 4: 0.6140, Class 5: 0.3231, Class 6: 0.6408, \n",
      "Validation F-beta Score\n",
      "Class 0: 0.9946, Class 1: 0.6533, Class 2: 0.0576, Class 3: 0.3567, Class 4: 0.6243, Class 5: 0.2702, Class 6: 0.6021, \n",
      "\n",
      "Overall Mean Dice Score: 0.4910\n",
      "Overall Mean F-beta Score: 0.5013\n",
      "\n",
      "Training Loss: 0.3242, Validation Loss: 0.3309, Validation F-beta: 0.5013\n",
      "Epoch 72/4000\n"
     ]
    },
    {
     "name": "stderr",
     "output_type": "stream",
     "text": [
      "Training: 100%|██████████| 480/480 [15:39<00:00,  1.96s/it, loss=0.335]\n",
      "Validation: 100%|██████████| 12/12 [00:09<00:00,  1.24it/s, loss=0.35] \n"
     ]
    },
    {
     "name": "stdout",
     "output_type": "stream",
     "text": [
      "Validation Dice Score\n",
      "Class 0: 0.9919, Class 1: 0.4805, Class 2: 0.0440, Class 3: 0.3847, Class 4: 0.5497, Class 5: 0.5177, Class 6: 0.8777, \n",
      "Validation F-beta Score\n",
      "Class 0: 0.9940, Class 1: 0.4585, Class 2: 0.0362, Class 3: 0.3719, Class 4: 0.6011, Class 5: 0.4904, Class 6: 0.9121, \n",
      "\n",
      "Overall Mean Dice Score: 0.5621\n",
      "Overall Mean F-beta Score: 0.5668\n",
      "\n",
      "Training Loss: 0.3185, Validation Loss: 0.3128, Validation F-beta: 0.5668\n",
      "Epoch 73/4000\n"
     ]
    },
    {
     "name": "stderr",
     "output_type": "stream",
     "text": [
      "Training: 100%|██████████| 480/480 [15:49<00:00,  1.98s/it, loss=0.344]\n",
      "Validation: 100%|██████████| 12/12 [00:09<00:00,  1.24it/s, loss=0.346]\n"
     ]
    },
    {
     "name": "stdout",
     "output_type": "stream",
     "text": [
      "Validation Dice Score\n",
      "Class 0: 0.9905, Class 1: 0.7432, Class 2: 0.0837, Class 3: 0.3454, Class 4: 0.4837, Class 5: 0.3994, Class 6: 0.5692, \n",
      "Validation F-beta Score\n",
      "Class 0: 0.9926, Class 1: 0.8558, Class 2: 0.1736, Class 3: 0.4587, Class 4: 0.5255, Class 5: 0.3840, Class 6: 0.6589, \n",
      "\n",
      "Overall Mean Dice Score: 0.5082\n",
      "Overall Mean F-beta Score: 0.5766\n",
      "\n",
      "Training Loss: 0.3199, Validation Loss: 0.3277, Validation F-beta: 0.5766\n",
      "Epoch 74/4000\n"
     ]
    },
    {
     "name": "stderr",
     "output_type": "stream",
     "text": [
      "Training: 100%|██████████| 480/480 [15:48<00:00,  1.98s/it, loss=0.326]\n",
      "Validation: 100%|██████████| 12/12 [00:09<00:00,  1.23it/s, loss=0.32] \n"
     ]
    },
    {
     "name": "stdout",
     "output_type": "stream",
     "text": [
      "Validation Dice Score\n",
      "Class 0: 0.9912, Class 1: 0.6982, Class 2: 0.0885, Class 3: 0.3615, Class 4: 0.6195, Class 5: 0.4645, Class 6: 0.7869, \n",
      "Validation F-beta Score\n",
      "Class 0: 0.9903, Class 1: 0.7487, Class 2: 0.0738, Class 3: 0.3758, Class 4: 0.6284, Class 5: 0.5594, Class 6: 0.8447, \n",
      "\n",
      "Overall Mean Dice Score: 0.5861\n",
      "Overall Mean F-beta Score: 0.6314\n",
      "\n",
      "Training Loss: 0.3152, Validation Loss: 0.3069, Validation F-beta: 0.6314\n",
      "========================================================\n",
      "SUPER Best model saved. Loss:0.3069, Score:0.6314\n",
      "========================================================\n",
      "Epoch 75/4000\n"
     ]
    },
    {
     "name": "stderr",
     "output_type": "stream",
     "text": [
      "Training: 100%|██████████| 480/480 [15:48<00:00,  1.98s/it, loss=0.342]\n",
      "Validation: 100%|██████████| 12/12 [00:09<00:00,  1.24it/s, loss=0.278]\n"
     ]
    },
    {
     "name": "stdout",
     "output_type": "stream",
     "text": [
      "Validation Dice Score\n",
      "Class 0: 0.9907, Class 1: 0.6659, Class 2: 0.1235, Class 3: 0.1855, Class 4: 0.4962, Class 5: 0.4619, Class 6: 0.5292, \n",
      "Validation F-beta Score\n",
      "Class 0: 0.9943, Class 1: 0.7393, Class 2: 0.1161, Class 3: 0.1774, Class 4: 0.5082, Class 5: 0.4180, Class 6: 0.7098, \n",
      "\n",
      "Overall Mean Dice Score: 0.4677\n",
      "Overall Mean F-beta Score: 0.5105\n",
      "\n",
      "Training Loss: 0.3138, Validation Loss: 0.3431, Validation F-beta: 0.5105\n",
      "Epoch 76/4000\n"
     ]
    },
    {
     "name": "stderr",
     "output_type": "stream",
     "text": [
      "Training: 100%|██████████| 480/480 [15:48<00:00,  1.98s/it, loss=0.35] \n",
      "Validation: 100%|██████████| 12/12 [00:09<00:00,  1.23it/s, loss=0.347]\n"
     ]
    },
    {
     "name": "stdout",
     "output_type": "stream",
     "text": [
      "Validation Dice Score\n",
      "Class 0: 0.9915, Class 1: 0.6391, Class 2: 0.0307, Class 3: 0.4659, Class 4: 0.4957, Class 5: 0.3792, Class 6: 0.4587, \n",
      "Validation F-beta Score\n",
      "Class 0: 0.9946, Class 1: 0.6407, Class 2: 0.0330, Class 3: 0.4113, Class 4: 0.5113, Class 5: 0.3515, Class 6: 0.5345, \n",
      "\n",
      "Overall Mean Dice Score: 0.4877\n",
      "Overall Mean F-beta Score: 0.4899\n",
      "\n",
      "Training Loss: 0.3141, Validation Loss: 0.3323, Validation F-beta: 0.4899\n",
      "Epoch 77/4000\n"
     ]
    },
    {
     "name": "stderr",
     "output_type": "stream",
     "text": [
      "Training: 100%|██████████| 480/480 [15:48<00:00,  1.98s/it, loss=0.325]\n",
      "Validation: 100%|██████████| 12/12 [00:09<00:00,  1.23it/s, loss=0.357]\n"
     ]
    },
    {
     "name": "stdout",
     "output_type": "stream",
     "text": [
      "Validation Dice Score\n",
      "Class 0: 0.9926, Class 1: 0.4133, Class 2: 0.1091, Class 3: 0.2986, Class 4: 0.5843, Class 5: 0.3862, Class 6: 0.4296, \n",
      "Validation F-beta Score\n",
      "Class 0: 0.9949, Class 1: 0.5348, Class 2: 0.1237, Class 3: 0.2966, Class 4: 0.5891, Class 5: 0.3676, Class 6: 0.4617, \n",
      "\n",
      "Overall Mean Dice Score: 0.4224\n",
      "Overall Mean F-beta Score: 0.4500\n",
      "\n",
      "Training Loss: 0.3116, Validation Loss: 0.3553, Validation F-beta: 0.4500\n",
      "Epoch 78/4000\n"
     ]
    },
    {
     "name": "stderr",
     "output_type": "stream",
     "text": [
      "Training: 100%|██████████| 480/480 [15:24<00:00,  1.93s/it, loss=0.344]\n",
      "Validation: 100%|██████████| 12/12 [00:09<00:00,  1.25it/s, loss=0.237]\n"
     ]
    },
    {
     "name": "stdout",
     "output_type": "stream",
     "text": [
      "Validation Dice Score\n",
      "Class 0: 0.9926, Class 1: 0.4903, Class 2: 0.0849, Class 3: 0.3679, Class 4: 0.6517, Class 5: 0.3177, Class 6: 0.5231, \n",
      "Validation F-beta Score\n",
      "Class 0: 0.9949, Class 1: 0.5522, Class 2: 0.0648, Class 3: 0.4382, Class 4: 0.6120, Class 5: 0.2649, Class 6: 0.6781, \n",
      "\n",
      "Overall Mean Dice Score: 0.4701\n",
      "Overall Mean F-beta Score: 0.5091\n",
      "\n",
      "Training Loss: 0.3171, Validation Loss: 0.3308, Validation F-beta: 0.5091\n",
      "Epoch 79/4000\n"
     ]
    },
    {
     "name": "stderr",
     "output_type": "stream",
     "text": [
      "Training: 100%|██████████| 480/480 [15:11<00:00,  1.90s/it, loss=0.27] \n",
      "Validation: 100%|██████████| 12/12 [00:09<00:00,  1.26it/s, loss=0.287]\n"
     ]
    },
    {
     "name": "stdout",
     "output_type": "stream",
     "text": [
      "Validation Dice Score\n",
      "Class 0: 0.9893, Class 1: 0.5607, Class 2: 0.0692, Class 3: 0.1445, Class 4: 0.5677, Class 5: 0.3061, Class 6: 0.6166, \n",
      "Validation F-beta Score\n",
      "Class 0: 0.9925, Class 1: 0.6154, Class 2: 0.2264, Class 3: 0.1724, Class 4: 0.4986, Class 5: 0.2692, Class 6: 0.6589, \n",
      "\n",
      "Overall Mean Dice Score: 0.4391\n",
      "Overall Mean F-beta Score: 0.4429\n",
      "\n",
      "Training Loss: 0.3145, Validation Loss: 0.3588, Validation F-beta: 0.4429\n",
      "Epoch 80/4000\n"
     ]
    },
    {
     "name": "stderr",
     "output_type": "stream",
     "text": [
      "Training: 100%|██████████| 480/480 [15:12<00:00,  1.90s/it, loss=0.297]\n",
      "Validation: 100%|██████████| 12/12 [00:09<00:00,  1.26it/s, loss=0.284]\n"
     ]
    },
    {
     "name": "stdout",
     "output_type": "stream",
     "text": [
      "Validation Dice Score\n",
      "Class 0: 0.9924, Class 1: 0.5612, Class 2: 0.1536, Class 3: 0.5011, Class 4: 0.7046, Class 5: 0.4724, Class 6: 0.8429, \n",
      "Validation F-beta Score\n",
      "Class 0: 0.9937, Class 1: 0.6457, Class 2: 0.1225, Class 3: 0.5461, Class 4: 0.6860, Class 5: 0.4591, Class 6: 0.8305, \n",
      "\n",
      "Overall Mean Dice Score: 0.6164\n",
      "Overall Mean F-beta Score: 0.6335\n",
      "\n",
      "Training Loss: 0.3147, Validation Loss: 0.2994, Validation F-beta: 0.6335\n",
      "========================================================\n",
      "SUPER Best model saved. Loss:0.2994, Score:0.6335\n",
      "========================================================\n",
      "Epoch 81/4000\n"
     ]
    },
    {
     "name": "stderr",
     "output_type": "stream",
     "text": [
      "Training: 100%|██████████| 480/480 [15:25<00:00,  1.93s/it, loss=0.314]\n",
      "Validation: 100%|██████████| 12/12 [00:09<00:00,  1.24it/s, loss=0.302]\n"
     ]
    },
    {
     "name": "stdout",
     "output_type": "stream",
     "text": [
      "Validation Dice Score\n",
      "Class 0: 0.9916, Class 1: 0.4587, Class 2: 0.0549, Class 3: 0.2428, Class 4: 0.6341, Class 5: 0.3501, Class 6: 0.7356, \n",
      "Validation F-beta Score\n",
      "Class 0: 0.9929, Class 1: 0.5404, Class 2: 0.1218, Class 3: 0.2289, Class 4: 0.5658, Class 5: 0.3930, Class 6: 0.8394, \n",
      "\n",
      "Overall Mean Dice Score: 0.4843\n",
      "Overall Mean F-beta Score: 0.5135\n",
      "\n",
      "Training Loss: 0.3151, Validation Loss: 0.3452, Validation F-beta: 0.5135\n",
      "Epoch 82/4000\n"
     ]
    },
    {
     "name": "stderr",
     "output_type": "stream",
     "text": [
      "Training: 100%|██████████| 480/480 [15:30<00:00,  1.94s/it, loss=0.356]\n",
      "Validation: 100%|██████████| 12/12 [00:09<00:00,  1.26it/s, loss=0.302]\n"
     ]
    },
    {
     "name": "stdout",
     "output_type": "stream",
     "text": [
      "Validation Dice Score\n",
      "Class 0: 0.9902, Class 1: 0.5775, Class 2: 0.1174, Class 3: 0.3802, Class 4: 0.7024, Class 5: 0.2641, Class 6: 0.6822, \n",
      "Validation F-beta Score\n",
      "Class 0: 0.9918, Class 1: 0.5916, Class 2: 0.2128, Class 3: 0.4372, Class 4: 0.6494, Class 5: 0.2422, Class 6: 0.7447, \n",
      "\n",
      "Overall Mean Dice Score: 0.5213\n",
      "Overall Mean F-beta Score: 0.5330\n",
      "\n",
      "Training Loss: 0.3106, Validation Loss: 0.3257, Validation F-beta: 0.5330\n",
      "Epoch 83/4000\n"
     ]
    },
    {
     "name": "stderr",
     "output_type": "stream",
     "text": [
      "Training: 100%|██████████| 480/480 [15:13<00:00,  1.90s/it, loss=0.331]\n",
      "Validation: 100%|██████████| 12/12 [00:09<00:00,  1.26it/s, loss=0.251]\n"
     ]
    },
    {
     "name": "stdout",
     "output_type": "stream",
     "text": [
      "Validation Dice Score\n",
      "Class 0: 0.9908, Class 1: 0.5390, Class 2: 0.1369, Class 3: 0.3875, Class 4: 0.6440, Class 5: 0.4437, Class 6: 0.5395, \n",
      "Validation F-beta Score\n",
      "Class 0: 0.9933, Class 1: 0.5525, Class 2: 0.1969, Class 3: 0.4866, Class 4: 0.6418, Class 5: 0.4417, Class 6: 0.6135, \n",
      "\n",
      "Overall Mean Dice Score: 0.5107\n",
      "Overall Mean F-beta Score: 0.5472\n",
      "\n",
      "Training Loss: 0.3131, Validation Loss: 0.3192, Validation F-beta: 0.5472\n",
      "Epoch 84/4000\n"
     ]
    },
    {
     "name": "stderr",
     "output_type": "stream",
     "text": [
      "Training: 100%|██████████| 480/480 [15:11<00:00,  1.90s/it, loss=0.278]\n",
      "Validation: 100%|██████████| 12/12 [00:09<00:00,  1.26it/s, loss=0.321]\n"
     ]
    },
    {
     "name": "stdout",
     "output_type": "stream",
     "text": [
      "Validation Dice Score\n",
      "Class 0: 0.9920, Class 1: 0.5954, Class 2: 0.1139, Class 3: 0.2461, Class 4: 0.5613, Class 5: 0.4400, Class 6: 0.7817, \n",
      "Validation F-beta Score\n",
      "Class 0: 0.9936, Class 1: 0.6464, Class 2: 0.2421, Class 3: 0.2918, Class 4: 0.6076, Class 5: 0.4234, Class 6: 0.9470, \n",
      "\n",
      "Overall Mean Dice Score: 0.5249\n",
      "Overall Mean F-beta Score: 0.5832\n",
      "\n",
      "Training Loss: 0.3117, Validation Loss: 0.3283, Validation F-beta: 0.5832\n",
      "Epoch 85/4000\n"
     ]
    },
    {
     "name": "stderr",
     "output_type": "stream",
     "text": [
      "Training: 100%|██████████| 480/480 [15:13<00:00,  1.90s/it, loss=0.334]\n",
      "Validation: 100%|██████████| 12/12 [00:09<00:00,  1.25it/s, loss=0.298]\n"
     ]
    },
    {
     "name": "stdout",
     "output_type": "stream",
     "text": [
      "Validation Dice Score\n",
      "Class 0: 0.9910, Class 1: 0.5970, Class 2: 0.1377, Class 3: 0.3724, Class 4: 0.5649, Class 5: 0.4007, Class 6: 0.5661, \n",
      "Validation F-beta Score\n",
      "Class 0: 0.9931, Class 1: 0.6680, Class 2: 0.1400, Class 3: 0.3937, Class 4: 0.5221, Class 5: 0.4207, Class 6: 0.7515, \n",
      "\n",
      "Overall Mean Dice Score: 0.5002\n",
      "Overall Mean F-beta Score: 0.5512\n",
      "\n",
      "Training Loss: 0.3106, Validation Loss: 0.3281, Validation F-beta: 0.5512\n",
      "Epoch 86/4000\n"
     ]
    },
    {
     "name": "stderr",
     "output_type": "stream",
     "text": [
      "Training: 100%|██████████| 480/480 [15:13<00:00,  1.90s/it, loss=0.262]\n",
      "Validation: 100%|██████████| 12/12 [00:09<00:00,  1.27it/s, loss=0.358]\n"
     ]
    },
    {
     "name": "stdout",
     "output_type": "stream",
     "text": [
      "Validation Dice Score\n",
      "Class 0: 0.9892, Class 1: 0.5838, Class 2: 0.0814, Class 3: 0.1946, Class 4: 0.4689, Class 5: 0.3579, Class 6: 0.7131, \n",
      "Validation F-beta Score\n",
      "Class 0: 0.9933, Class 1: 0.6818, Class 2: 0.0644, Class 3: 0.2124, Class 4: 0.4788, Class 5: 0.3444, Class 6: 0.7319, \n",
      "\n",
      "Overall Mean Dice Score: 0.4637\n",
      "Overall Mean F-beta Score: 0.4899\n",
      "\n",
      "Training Loss: 0.3125, Validation Loss: 0.3458, Validation F-beta: 0.4899\n",
      "Epoch 87/4000\n"
     ]
    },
    {
     "name": "stderr",
     "output_type": "stream",
     "text": [
      "Training: 100%|██████████| 480/480 [15:12<00:00,  1.90s/it, loss=0.317]\n",
      "Validation: 100%|██████████| 12/12 [00:09<00:00,  1.25it/s, loss=0.356]\n"
     ]
    },
    {
     "name": "stdout",
     "output_type": "stream",
     "text": [
      "Validation Dice Score\n",
      "Class 0: 0.9914, Class 1: 0.6906, Class 2: 0.0504, Class 3: 0.2754, Class 4: 0.5543, Class 5: 0.3545, Class 6: 0.7376, \n",
      "Validation F-beta Score\n",
      "Class 0: 0.9935, Class 1: 0.6622, Class 2: 0.1292, Class 3: 0.3175, Class 4: 0.6534, Class 5: 0.3473, Class 6: 0.7526, \n",
      "\n",
      "Overall Mean Dice Score: 0.5225\n",
      "Overall Mean F-beta Score: 0.5466\n",
      "\n",
      "Training Loss: 0.3158, Validation Loss: 0.3268, Validation F-beta: 0.5466\n",
      "Epoch 88/4000\n"
     ]
    },
    {
     "name": "stderr",
     "output_type": "stream",
     "text": [
      "Training: 100%|██████████| 480/480 [15:13<00:00,  1.90s/it, loss=0.257]\n",
      "Validation: 100%|██████████| 12/12 [00:09<00:00,  1.25it/s, loss=0.284]\n"
     ]
    },
    {
     "name": "stdout",
     "output_type": "stream",
     "text": [
      "Validation Dice Score\n",
      "Class 0: 0.9924, Class 1: 0.5790, Class 2: 0.0710, Class 3: 0.2181, Class 4: 0.7359, Class 5: 0.3788, Class 6: 0.8895, \n",
      "Validation F-beta Score\n",
      "Class 0: 0.9921, Class 1: 0.6914, Class 2: 0.1333, Class 3: 0.2014, Class 4: 0.7440, Class 5: 0.3906, Class 6: 0.9057, \n",
      "\n",
      "Overall Mean Dice Score: 0.5603\n",
      "Overall Mean F-beta Score: 0.5866\n",
      "\n",
      "Training Loss: 0.3115, Validation Loss: 0.3170, Validation F-beta: 0.5866\n",
      "Epoch 89/4000\n"
     ]
    },
    {
     "name": "stderr",
     "output_type": "stream",
     "text": [
      "Training: 100%|██████████| 480/480 [15:45<00:00,  1.97s/it, loss=0.287]\n",
      "Validation: 100%|██████████| 12/12 [00:09<00:00,  1.23it/s, loss=0.308]\n"
     ]
    },
    {
     "name": "stdout",
     "output_type": "stream",
     "text": [
      "Validation Dice Score\n",
      "Class 0: 0.9931, Class 1: 0.7336, Class 2: 0.0603, Class 3: 0.2189, Class 4: 0.6357, Class 5: 0.3065, Class 6: 0.8097, \n",
      "Validation F-beta Score\n",
      "Class 0: 0.9953, Class 1: 0.7759, Class 2: 0.1329, Class 3: 0.2478, Class 4: 0.5973, Class 5: 0.2552, Class 6: 0.7832, \n",
      "\n",
      "Overall Mean Dice Score: 0.5409\n",
      "Overall Mean F-beta Score: 0.5319\n",
      "\n",
      "Training Loss: 0.3114, Validation Loss: 0.3171, Validation F-beta: 0.5319\n",
      "Early stopping\n"
     ]
    },
    {
     "data": {
      "text/html": [],
      "text/plain": [
       "<IPython.core.display.HTML object>"
      ]
     },
     "metadata": {},
     "output_type": "display_data"
    },
    {
     "data": {
      "text/html": [
       "<br>    <style><br>        .wandb-row {<br>            display: flex;<br>            flex-direction: row;<br>            flex-wrap: wrap;<br>            justify-content: flex-start;<br>            width: 100%;<br>        }<br>        .wandb-col {<br>            display: flex;<br>            flex-direction: column;<br>            flex-basis: 100%;<br>            flex: 1;<br>            padding: 10px;<br>        }<br>    </style><br><div class=\"wandb-row\"><div class=\"wandb-col\"><h3>Run history:</h3><br/><table class=\"wandb\"><tr><td>class_0_dice_score</td><td>▄▂▃▅▁▅▄▅▅▅▆▆▆▅▅▆▆▆▆▇▆▅▅▆▇▄▇▅▆▆▆▇▇▆▆██▅▆█</td></tr><tr><td>class_0_f_beta_score</td><td>▄▁▅▆▂▆▅▃▃█▄▅▃▅▃▅▅▆▃▃▆▅▄▇▆▅▇▇▆▇▅▃▆▇▇▅▅▆▆▇</td></tr><tr><td>class_1_dice_score</td><td>▂▁▃▁▃▄▃▅▅▄▂▆▃▄▄▅▆▆▅▄▆▇▆▅▅▄▆▆▅▆▅█▇▇▇▄▆▆▆▆</td></tr><tr><td>class_1_f_beta_score</td><td>▁▃▄▃▄▄▅▆▃▅▄▄▅▃▄▃▅▇▆▅▇▅▆▆▆▆▆▆▅▇▇▆▅▆█▅▅▅▆█</td></tr><tr><td>class_2_dice_score</td><td>▂▁▁▂▃▆▅▃▄▄▆█▄▃▃▆█▇▆▆▂▄▇▅█▅▄▅▄▄▄▆▂▅▄▅▅▆▄▃</td></tr><tr><td>class_2_f_beta_score</td><td>▁▁▁▁▆▂▂▄▁▃▃▄▅▅▂▃█▅▅▅▆▅▅▄▆▇▅▃▅▂▂▃▂▄▃▄▇█▅▅</td></tr><tr><td>class_3_dice_score</td><td>▁▄▃▃▃▄▆▅▇▅▃▇▇▅▆▃█▅▇▅▆▄▄▃▇▇█▆█▆▆█▇▇▄▆▇▃▆▄</td></tr><tr><td>class_3_f_beta_score</td><td>▁▃▇▂▂▄▄▄▇▄▇█▃▅▅▄▇▅▄▄▆▃▃▇▅█▃▇▄▅▅▅▆▆█▇▃▇█▄</td></tr><tr><td>class_4_dice_score</td><td>▃▂▂▁▁▂▆▁▅▆▃▅█▁▅▂▄▅▅▇▄▆▆▅▄▃▅▃▅▆▄▆▇▅█▅▅▃▅▇</td></tr><tr><td>class_4_f_beta_score</td><td>▂▂▂▂▆▆▁▅▂▂▆▆█▁▅▅▄▃▆▅█▃▆▅▅▂▄▃▅▄▆▆▄▄▅▇▅▆▄▆</td></tr><tr><td>class_5_dice_score</td><td>▅▃▃▆▁▃▅▄▁▅▆▇▅▅▄▄▄▄▆▆▃▆▅▅▅▆█▁▅▆▅▆▆█▆▄▄▇▅▅</td></tr><tr><td>class_5_f_beta_score</td><td>▅▆▄▃▆▄▁▂▄▃▆▆▇▄▆▆▅▆▅▆▆▅▅▄▄▅█▄▅▆█▇▆▇▃▇▇▅▅▄</td></tr><tr><td>class_6_dice_score</td><td>▃▅▂▁▄▂▃▄▁▂▄▁▆▄▃▁▅▃▃▃▁▃▁▆▅▃▅▄▇▆▄█▇▂▂▆▅▃▆▇</td></tr><tr><td>class_6_f_beta_score</td><td>▁▃▄▂▅▂▂▃▃▂▂▄▆▄▂▅▅▁▅▃▄▄▇▅▆▄█▅▃▄▅▇▇▂▄▅▇▇▄█</td></tr><tr><td>epoch</td><td>▁▁▁▁▁▂▂▂▂▃▃▃▃▃▃▄▄▄▄▅▅▅▅▅▅▆▆▆▆▆▇▇▇▇▇▇▇███</td></tr><tr><td>overall_mean_dice_score</td><td>▁▂▂▄▃▂▄▄▃▄▃▅▄▄▄▅▆▅▄▆▃▅▇▅▇▄▆▅▆▄▇▆▆▆▆▆▇▇▇█</td></tr><tr><td>overall_mean_f_beta_score</td><td>▅▁▆▃▅▂▄▃▃▅▆▄▇▆▄▄▃▅▆▅▆▄▇▇▄▇▃▄▅▅▆██▆▄▇▇▇▇▇</td></tr><tr><td>train_epoch_loss</td><td>██▇▆▆▆▆▆▅▅▅▄▄▄▄▄▄▃▄▄▃▃▃▃▃▃▃▂▂▂▂▂▂▁▁▁▁▁▁▁</td></tr><tr><td>val_epoch_loss</td><td>█▇▇▇▆▅▆▅▆▆▅▅▅▄▄▆▅▄▅▃▅▃▅▃▄▄▅▅▄▄▂▄▃▃▁▂▃▄▃▂</td></tr></table><br/></div><div class=\"wandb-col\"><h3>Run summary:</h3><br/><table class=\"wandb\"><tr><td>class_0_dice_score</td><td>0.99313</td></tr><tr><td>class_0_f_beta_score</td><td>0.99527</td></tr><tr><td>class_1_dice_score</td><td>0.73357</td></tr><tr><td>class_1_f_beta_score</td><td>0.7759</td></tr><tr><td>class_2_dice_score</td><td>0.06026</td></tr><tr><td>class_2_f_beta_score</td><td>0.13288</td></tr><tr><td>class_3_dice_score</td><td>0.21886</td></tr><tr><td>class_3_f_beta_score</td><td>0.24782</td></tr><tr><td>class_4_dice_score</td><td>0.63566</td></tr><tr><td>class_4_f_beta_score</td><td>0.59732</td></tr><tr><td>class_5_dice_score</td><td>0.30651</td></tr><tr><td>class_5_f_beta_score</td><td>0.25521</td></tr><tr><td>class_6_dice_score</td><td>0.80967</td></tr><tr><td>class_6_f_beta_score</td><td>0.78321</td></tr><tr><td>epoch</td><td>89</td></tr><tr><td>overall_mean_dice_score</td><td>0.54085</td></tr><tr><td>overall_mean_f_beta_score</td><td>0.53189</td></tr><tr><td>train_epoch_loss</td><td>0.31139</td></tr><tr><td>val_epoch_loss</td><td>0.31711</td></tr></table><br/></div></div>"
      ],
      "text/plain": [
       "<IPython.core.display.HTML object>"
      ]
     },
     "metadata": {},
     "output_type": "display_data"
    },
    {
     "data": {
      "text/html": [
       " View run <strong style=\"color:#cdcd00\">SwinCSP_UNETR_3plus__pyes_weighted_f48_d96s96_numb2_lr1e-04_a0.50_b0.50_b2_r20_ce0.4</strong> at: <a href='https://wandb.ai/limbw/czii_SwinUnetR/runs/1rmzelc6' target=\"_blank\">https://wandb.ai/limbw/czii_SwinUnetR/runs/1rmzelc6</a><br> View project at: <a href='https://wandb.ai/limbw/czii_SwinUnetR' target=\"_blank\">https://wandb.ai/limbw/czii_SwinUnetR</a><br>Synced 5 W&B file(s), 0 media file(s), 0 artifact file(s) and 0 other file(s)"
      ],
      "text/plain": [
       "<IPython.core.display.HTML object>"
      ]
     },
     "metadata": {},
     "output_type": "display_data"
    },
    {
     "data": {
      "text/html": [
       "Find logs at: <code>.\\wandb\\run-20250107_010233-1rmzelc6\\logs</code>"
      ],
      "text/plain": [
       "<IPython.core.display.HTML object>"
      ]
     },
     "metadata": {},
     "output_type": "display_data"
    }
   ],
   "source": [
    "train_model(\n",
    "    model=model,\n",
    "    train_loader=train_loader,\n",
    "    val_loader=val_loader,\n",
    "    criterion=criterion,\n",
    "    optimizer=optimizer,\n",
    "    num_epochs=num_epochs,\n",
    "    patience=10,\n",
    "    device=device,\n",
    "    start_epoch=start_epoch,\n",
    "    best_val_loss=best_val_loss,\n",
    "    best_val_fbeta_score=best_val_fbeta_score,\n",
    "    calculate_dice_interval=1,\n",
    "    accumulation_steps = accumulation_steps\n",
    "     ) "
   ]
  },
  {
   "cell_type": "code",
   "execution_count": 12,
   "metadata": {},
   "outputs": [
    {
     "ename": "SyntaxError",
     "evalue": "invalid syntax (879943805.py, line 1)",
     "output_type": "error",
     "traceback": [
      "\u001b[1;36m  Cell \u001b[1;32mIn[12], line 1\u001b[1;36m\u001b[0m\n\u001b[1;33m    if:\u001b[0m\n\u001b[1;37m      ^\u001b[0m\n\u001b[1;31mSyntaxError\u001b[0m\u001b[1;31m:\u001b[0m invalid syntax\n"
     ]
    }
   ],
   "source": [
    "if:"
   ]
  },
  {
   "cell_type": "markdown",
   "metadata": {},
   "source": [
    "# VAl"
   ]
  },
  {
   "cell_type": "code",
   "execution_count": null,
   "metadata": {},
   "outputs": [
    {
     "data": {
      "text/html": [
       "Finishing last run (ID:fs6utwyo) before initializing another..."
      ],
      "text/plain": [
       "<IPython.core.display.HTML object>"
      ]
     },
     "metadata": {},
     "output_type": "display_data"
    },
    {
     "data": {
      "application/vnd.jupyter.widget-view+json": {
       "model_id": "29cc3ae761af43baae5aca60b5d2e7f4",
       "version_major": 2,
       "version_minor": 0
      },
      "text/plain": [
       "VBox(children=(Label(value='0.009 MB of 0.009 MB uploaded\\r'), FloatProgress(value=1.0, max=1.0)))"
      ]
     },
     "metadata": {},
     "output_type": "display_data"
    },
    {
     "data": {
      "text/html": [
       "<style>\n",
       "    table.wandb td:nth-child(1) { padding: 0 10px; text-align: left ; width: auto;} td:nth-child(2) {text-align: left ; width: 100%}\n",
       "    .wandb-row { display: flex; flex-direction: row; flex-wrap: wrap; justify-content: flex-start; width: 100% }\n",
       "    .wandb-col { display: flex; flex-direction: column; flex-basis: 100%; flex: 1; padding: 10px; }\n",
       "    </style>\n",
       "<div class=\"wandb-row\"><div class=\"wandb-col\"><h3>Run history:</h3><br/><table class=\"wandb\"><tr><td>class_0_dice_score</td><td>▁</td></tr><tr><td>class_0_f_beta_score</td><td>▁</td></tr><tr><td>class_1_dice_score</td><td>▁</td></tr><tr><td>class_1_f_beta_score</td><td>▁</td></tr><tr><td>class_2_dice_score</td><td>▁</td></tr><tr><td>class_2_f_beta_score</td><td>▁</td></tr><tr><td>class_3_dice_score</td><td>▁</td></tr><tr><td>class_3_f_beta_score</td><td>▁</td></tr><tr><td>class_4_dice_score</td><td>▁</td></tr><tr><td>class_4_f_beta_score</td><td>▁</td></tr><tr><td>class_5_dice_score</td><td>▁</td></tr><tr><td>class_5_f_beta_score</td><td>▁</td></tr><tr><td>class_6_dice_score</td><td>▁</td></tr><tr><td>class_6_f_beta_score</td><td>▁</td></tr><tr><td>epoch</td><td>▁▁▁▁▁▁▁▁▁▁▁▁▁▁▁▁</td></tr><tr><td>overall_mean_dice_score</td><td>▁</td></tr><tr><td>overall_mean_f_beta_score</td><td>▁</td></tr><tr><td>val_epoch_loss</td><td>▁</td></tr></table><br/></div><div class=\"wandb-col\"><h3>Run summary:</h3><br/><table class=\"wandb\"><tr><td>class_0_dice_score</td><td>0.65703</td></tr><tr><td>class_0_f_beta_score</td><td>0.50748</td></tr><tr><td>class_1_dice_score</td><td>0.53332</td></tr><tr><td>class_1_f_beta_score</td><td>0.64703</td></tr><tr><td>class_2_dice_score</td><td>0.00286</td></tr><tr><td>class_2_f_beta_score</td><td>0.02334</td></tr><tr><td>class_3_dice_score</td><td>0.23703</td></tr><tr><td>class_3_f_beta_score</td><td>0.23033</td></tr><tr><td>class_4_dice_score</td><td>0.65487</td></tr><tr><td>class_4_f_beta_score</td><td>0.62525</td></tr><tr><td>class_5_dice_score</td><td>0.47899</td></tr><tr><td>class_5_f_beta_score</td><td>0.51448</td></tr><tr><td>class_6_dice_score</td><td>0.42545</td></tr><tr><td>class_6_f_beta_score</td><td>0.47197</td></tr><tr><td>epoch</td><td>1</td></tr><tr><td>overall_mean_dice_score</td><td>0.42708</td></tr><tr><td>overall_mean_f_beta_score</td><td>0.43141</td></tr><tr><td>val_epoch_loss</td><td>0.7152</td></tr></table><br/></div></div>"
      ],
      "text/plain": [
       "<IPython.core.display.HTML object>"
      ]
     },
     "metadata": {},
     "output_type": "display_data"
    },
    {
     "data": {
      "text/html": [
       " View run <strong style=\"color:#cdcd00\">SwinUNETR96_96_lr0.001_lambda0.52_batch2</strong> at: <a href='https://wandb.ai/waooang/czii_SwinUnetR_val/runs/fs6utwyo' target=\"_blank\">https://wandb.ai/waooang/czii_SwinUnetR_val/runs/fs6utwyo</a><br/> View project at: <a href='https://wandb.ai/waooang/czii_SwinUnetR_val' target=\"_blank\">https://wandb.ai/waooang/czii_SwinUnetR_val</a><br/>Synced 4 W&B file(s), 0 media file(s), 3 artifact file(s) and 0 other file(s)"
      ],
      "text/plain": [
       "<IPython.core.display.HTML object>"
      ]
     },
     "metadata": {},
     "output_type": "display_data"
    },
    {
     "data": {
      "text/html": [
       "Find logs at: <code>.\\wandb\\run-20241219_200219-fs6utwyo\\logs</code>"
      ],
      "text/plain": [
       "<IPython.core.display.HTML object>"
      ]
     },
     "metadata": {},
     "output_type": "display_data"
    },
    {
     "data": {
      "text/html": [
       "Successfully finished last run (ID:fs6utwyo). Initializing new run:<br/>"
      ],
      "text/plain": [
       "<IPython.core.display.HTML object>"
      ]
     },
     "metadata": {},
     "output_type": "display_data"
    },
    {
     "data": {
      "text/html": [
       "Tracking run with wandb version 0.18.3"
      ],
      "text/plain": [
       "<IPython.core.display.HTML object>"
      ]
     },
     "metadata": {},
     "output_type": "display_data"
    },
    {
     "data": {
      "text/html": [
       "Run data is saved locally in <code>e:\\Workspace\\czll\\wandb\\run-20241219_200454-121l7bn3</code>"
      ],
      "text/plain": [
       "<IPython.core.display.HTML object>"
      ]
     },
     "metadata": {},
     "output_type": "display_data"
    },
    {
     "data": {
      "text/html": [
       "Syncing run <strong><a href='https://wandb.ai/waooang/czii_SwinUnetR_val/runs/121l7bn3' target=\"_blank\">SwinUNETR96_96_lr0.001_lambda0.52_batch2</a></strong> to <a href='https://wandb.ai/waooang/czii_SwinUnetR_val' target=\"_blank\">Weights & Biases</a> (<a href='https://wandb.me/run' target=\"_blank\">docs</a>)<br/>"
      ],
      "text/plain": [
       "<IPython.core.display.HTML object>"
      ]
     },
     "metadata": {},
     "output_type": "display_data"
    },
    {
     "data": {
      "text/html": [
       " View project at <a href='https://wandb.ai/waooang/czii_SwinUnetR_val' target=\"_blank\">https://wandb.ai/waooang/czii_SwinUnetR_val</a>"
      ],
      "text/plain": [
       "<IPython.core.display.HTML object>"
      ]
     },
     "metadata": {},
     "output_type": "display_data"
    },
    {
     "data": {
      "text/html": [
       " View run at <a href='https://wandb.ai/waooang/czii_SwinUnetR_val/runs/121l7bn3' target=\"_blank\">https://wandb.ai/waooang/czii_SwinUnetR_val/runs/121l7bn3</a>"
      ],
      "text/plain": [
       "<IPython.core.display.HTML object>"
      ]
     },
     "metadata": {},
     "output_type": "display_data"
    },
    {
     "name": "stderr",
     "output_type": "stream",
     "text": [
      "Loading dataset: 100%|██████████| 4/4 [00:06<00:00,  1.58s/it]\n",
      "C:\\Users\\Seungwoo\\AppData\\Local\\Temp\\ipykernel_21000\\1177025787.py:95: FutureWarning: You are using `torch.load` with `weights_only=False` (the current default value), which uses the default pickle module implicitly. It is possible to construct malicious pickle data which will execute arbitrary code during unpickling (See https://github.com/pytorch/pytorch/blob/main/SECURITY.md#untrusted-models for more details). In a future release, the default value for `weights_only` will be flipped to `True`. This limits the functions that could be executed during unpickling. Arbitrary objects will no longer be allowed to be loaded via this mode unless they are explicitly allowlisted by the user via `torch.serialization.add_safe_globals`. We recommend you start setting `weights_only=True` for any use case where you don't have full control of the loaded file. Please open an issue on GitHub for any issues related to this experimental feature.\n",
      "  checkpoint = torch.load(pretrain_path, map_location=device)\n",
      "Validation: 100%|██████████| 4/4 [00:01<00:00,  2.38it/s, loss=0.865]"
     ]
    },
    {
     "name": "stdout",
     "output_type": "stream",
     "text": [
      "Validation Dice Score\n",
      "Class 0: 0.6570, Class 1: 0.5333, Class 2: 0.0029, Class 3: 0.2370, \n",
      "Class 4: 0.6549, Class 5: 0.4790, Class 6: 0.4255, \n",
      "Validation F-beta Score\n",
      "Class 0: 0.5075, Class 1: 0.6470, Class 2: 0.0233, Class 3: 0.2303, \n",
      "Class 4: 0.6252, Class 5: 0.5145, Class 6: 0.4720, \n",
      "Overall Mean Dice Score: 0.4659\n",
      "Overall Mean F-beta Score: 0.4978\n",
      "\n"
     ]
    },
    {
     "name": "stderr",
     "output_type": "stream",
     "text": [
      "\n"
     ]
    }
   ],
   "source": [
    "from monai.data import DataLoader, Dataset, CacheDataset\n",
    "from monai.transforms import (\n",
    "    Compose, LoadImaged, EnsureChannelFirstd, NormalizeIntensityd,\n",
    "    Orientationd, CropForegroundd, GaussianSmoothd, ScaleIntensityd,\n",
    "    RandSpatialCropd, RandRotate90d, RandFlipd, RandGaussianNoised,\n",
    "    ToTensord, RandCropByLabelClassesd\n",
    ")\n",
    "from monai.metrics import DiceMetric\n",
    "from monai.networks.nets import UNETR, SwinUNETR\n",
    "from monai.losses import TverskyLoss\n",
    "import torch\n",
    "import numpy as np\n",
    "from tqdm import tqdm\n",
    "import wandb\n",
    "from src.dataset.dataset import make_val_dataloader\n",
    "\n",
    "val_img_dir = \"./datasets/val/images\"\n",
    "val_label_dir = \"./datasets/val/labels\"\n",
    "img_depth = 96\n",
    "img_size = 96  # Match your patch size\n",
    "n_classes = 7\n",
    "batch_size = 2 # 13.8GB GPU memory required for 128x128 img size\n",
    "num_samples = batch_size # 한 이미지에서 뽑을 샘플 수\n",
    "loader_batch = 1\n",
    "lamda = 0.52\n",
    "\n",
    "wandb.init(\n",
    "    project='czii_SwinUnetR_val',  # 프로젝트 이름 설정\n",
    "    name='SwinUNETR96_96_lr0.001_lambda0.52_batch2',         # 실행(run) 이름 설정\n",
    "    config={\n",
    "        'learning_rate': 0.001,\n",
    "        'batch_size': batch_size,\n",
    "        'lambda': lamda,\n",
    "        'img_size': img_size,\n",
    "        'device': 'cuda',\n",
    "        \"checkpoint_dir\": \"./model_checkpoints/SwinUNETR96_96_lr0.001_lambda0.52_batch2\",\n",
    "        \n",
    "    }\n",
    ")\n",
    "\n",
    "non_random_transforms = Compose([\n",
    "    EnsureChannelFirstd(keys=[\"image\", \"label\"], channel_dim=\"no_channel\"),\n",
    "    NormalizeIntensityd(keys=\"image\"),\n",
    "    Orientationd(keys=[\"image\", \"label\"], axcodes=\"RAS\"),\n",
    "    GaussianSmoothd(\n",
    "        keys=[\"image\"],      # 변환을 적용할 키\n",
    "        sigma=[1.0, 1.0, 1.0]  # 각 축(x, y, z)의 시그마 값\n",
    "        ),\n",
    "])\n",
    "random_transforms = Compose([\n",
    "    RandCropByLabelClassesd(\n",
    "        keys=[\"image\", \"label\"],\n",
    "        label_key=\"label\",\n",
    "        spatial_size=[img_depth, img_size, img_size],\n",
    "        num_classes=n_classes,\n",
    "        num_samples=num_samples, \n",
    "        ratios=ratios_list,\n",
    "    ),\n",
    "    RandRotate90d(keys=[\"image\", \"label\"], prob=0.5, spatial_axes=[1, 2]),\n",
    "    RandFlipd(keys=[\"image\", \"label\"], prob=0.5, spatial_axis=0),\n",
    "])\n",
    "\n",
    "val_loader = make_val_dataloader(\n",
    "    val_img_dir, \n",
    "    val_label_dir, \n",
    "    non_random_transforms = non_random_transforms, \n",
    "    random_transforms = random_transforms, \n",
    "    batch_size = loader_batch,\n",
    "    num_workers=0\n",
    ")\n",
    "criterion = TverskyLoss(\n",
    "    alpha= 1 - lamda,  # FP에 대한 가중치\n",
    "    beta=lamda,       # FN에 대한 가중치\n",
    "    include_background=False,  # 배경 클래스 제외\n",
    "    softmax=True\n",
    ")\n",
    "    \n",
    "    \n",
    "from monai.metrics import DiceMetric\n",
    "\n",
    "img_size = 96\n",
    "img_depth = img_size\n",
    "n_classes = 7 \n",
    "\n",
    "device = torch.device(\"cuda\" if torch.cuda.is_available() else \"cpu\")\n",
    "pretrain_path = \"./model_checkpoints/SwinUNETR96_96_lr0.001_lambda0.52_batch2/best_model.pt\"\n",
    "model = SwinUNETR(\n",
    "    img_size=(img_depth, img_size, img_size),\n",
    "    in_channels=1,\n",
    "    out_channels=n_classes,\n",
    "    feature_size=48,\n",
    "    use_checkpoint=True,\n",
    ").to(device)\n",
    "# Pretrained weights 불러오기\n",
    "checkpoint = torch.load(pretrain_path, map_location=device)\n",
    "model.load_state_dict(checkpoint['model_state_dict'])\n",
    "\n",
    "val_loss, overall_mean_fbeta_score = validate_one_epoch(\n",
    "    model=model, \n",
    "    val_loader=val_loader, \n",
    "    criterion=criterion, \n",
    "    device=device, \n",
    "    epoch=0, \n",
    "    calculate_dice_interval=1\n",
    ")"
   ]
  },
  {
   "cell_type": "markdown",
   "metadata": {},
   "source": [
    "# Inference"
   ]
  },
  {
   "cell_type": "code",
   "execution_count": null,
   "metadata": {},
   "outputs": [],
   "source": [
    "from src.dataset.preprocessing import Preprocessor"
   ]
  },
  {
   "cell_type": "code",
   "execution_count": null,
   "metadata": {},
   "outputs": [
    {
     "name": "stdout",
     "output_type": "stream",
     "text": [
      "Done.\n"
     ]
    }
   ],
   "source": [
    "from monai.inferers import sliding_window_inference\n",
    "from monai.transforms import Compose, EnsureChannelFirstd, NormalizeIntensityd, Orientationd, GaussianSmoothd\n",
    "from monai.data import DataLoader, Dataset, CacheDataset\n",
    "from monai.networks.nets import SwinUNETR\n",
    "from pathlib import Path\n",
    "import numpy as np\n",
    "import copick\n",
    "\n",
    "import torch\n",
    "print(\"Done.\")"
   ]
  },
  {
   "cell_type": "code",
   "execution_count": null,
   "metadata": {},
   "outputs": [
    {
     "name": "stdout",
     "output_type": "stream",
     "text": [
      "Config file written to ./kaggle/working/copick.config\n",
      "file length: 7\n"
     ]
    }
   ],
   "source": [
    "config_blob = \"\"\"{\n",
    "    \"name\": \"czii_cryoet_mlchallenge_2024\",\n",
    "    \"description\": \"2024 CZII CryoET ML Challenge training data.\",\n",
    "    \"version\": \"1.0.0\",\n",
    "\n",
    "    \"pickable_objects\": [\n",
    "        {\n",
    "            \"name\": \"apo-ferritin\",\n",
    "            \"is_particle\": true,\n",
    "            \"pdb_id\": \"4V1W\",\n",
    "            \"label\": 1,\n",
    "            \"color\": [  0, 117, 220, 128],\n",
    "            \"radius\": 60,\n",
    "            \"map_threshold\": 0.0418\n",
    "        },\n",
    "        {\n",
    "          \"name\" : \"beta-amylase\",\n",
    "            \"is_particle\": true,\n",
    "            \"pdb_id\": \"8ZRZ\",\n",
    "            \"label\": 2,\n",
    "            \"color\": [255, 255, 255, 128],\n",
    "            \"radius\": 90,\n",
    "            \"map_threshold\": 0.0578  \n",
    "        },\n",
    "        {\n",
    "            \"name\": \"beta-galactosidase\",\n",
    "            \"is_particle\": true,\n",
    "            \"pdb_id\": \"6X1Q\",\n",
    "            \"label\": 3,\n",
    "            \"color\": [ 76,   0,  92, 128],\n",
    "            \"radius\": 90,\n",
    "            \"map_threshold\": 0.0578\n",
    "        },\n",
    "        {\n",
    "            \"name\": \"ribosome\",\n",
    "            \"is_particle\": true,\n",
    "            \"pdb_id\": \"6EK0\",\n",
    "            \"label\": 4,\n",
    "            \"color\": [  0,  92,  49, 128],\n",
    "            \"radius\": 150,\n",
    "            \"map_threshold\": 0.0374\n",
    "        },\n",
    "        {\n",
    "            \"name\": \"thyroglobulin\",\n",
    "            \"is_particle\": true,\n",
    "            \"pdb_id\": \"6SCJ\",\n",
    "            \"label\": 5,\n",
    "            \"color\": [ 43, 206,  72, 128],\n",
    "            \"radius\": 130,\n",
    "            \"map_threshold\": 0.0278\n",
    "        },\n",
    "        {\n",
    "            \"name\": \"virus-like-particle\",\n",
    "            \"is_particle\": true,\n",
    "            \"label\": 6,\n",
    "            \"color\": [255, 204, 153, 128],\n",
    "            \"radius\": 135,\n",
    "            \"map_threshold\": 0.201\n",
    "        },\n",
    "        {\n",
    "            \"name\": \"membrane\",\n",
    "            \"is_particle\": false,\n",
    "            \"label\": 8,\n",
    "            \"color\": [100, 100, 100, 128]\n",
    "        },\n",
    "        {\n",
    "            \"name\": \"background\",\n",
    "            \"is_particle\": false,\n",
    "            \"label\": 9,\n",
    "            \"color\": [10, 150, 200, 128]\n",
    "        }\n",
    "    ],\n",
    "\n",
    "    \"overlay_root\": \"./kaggle/working/overlay\",\n",
    "\n",
    "    \"overlay_fs_args\": {\n",
    "        \"auto_mkdir\": true\n",
    "    },\n",
    "\n",
    "    \"static_root\": \"./kaggle/input/czii-cryo-et-object-identification/test/static\"\n",
    "}\"\"\"\n",
    "\n",
    "copick_config_path = \"./kaggle/working/copick.config\"\n",
    "preprocessor = Preprocessor(config_blob,copick_config_path=copick_config_path)\n",
    "non_random_transforms = Compose([\n",
    "    EnsureChannelFirstd(keys=[\"image\"], channel_dim=\"no_channel\"),\n",
    "    NormalizeIntensityd(keys=\"image\"),\n",
    "    Orientationd(keys=[\"image\"], axcodes=\"RAS\"),\n",
    "    GaussianSmoothd(\n",
    "        keys=[\"image\"],      # 변환을 적용할 키\n",
    "        sigma=[1.0, 1.0, 1.0]  # 각 축(x, y, z)의 시그마 값\n",
    "        ),\n",
    "    ])"
   ]
  },
  {
   "cell_type": "code",
   "execution_count": null,
   "metadata": {},
   "outputs": [
    {
     "name": "stderr",
     "output_type": "stream",
     "text": [
      "c:\\ProgramData\\anaconda3\\envs\\ship\\Lib\\site-packages\\monai\\utils\\deprecate_utils.py:221: FutureWarning: monai.networks.nets.swin_unetr SwinUNETR.__init__:img_size: Argument `img_size` has been deprecated since version 1.3. It will be removed in version 1.5. The img_size argument is not required anymore and checks on the input size are run during forward().\n",
      "  warn_deprecated(argname, msg, warning_category)\n",
      "C:\\Users\\Seungwoo\\AppData\\Local\\Temp\\ipykernel_6248\\2937359115.py:15: FutureWarning: You are using `torch.load` with `weights_only=False` (the current default value), which uses the default pickle module implicitly. It is possible to construct malicious pickle data which will execute arbitrary code during unpickling (See https://github.com/pytorch/pytorch/blob/main/SECURITY.md#untrusted-models for more details). In a future release, the default value for `weights_only` will be flipped to `True`. This limits the functions that could be executed during unpickling. Arbitrary objects will no longer be allowed to be loaded via this mode unless they are explicitly allowlisted by the user via `torch.serialization.add_safe_globals`. We recommend you start setting `weights_only=True` for any use case where you don't have full control of the loaded file. Please open an issue on GitHub for any issues related to this experimental feature.\n",
      "  checkpoint = torch.load(pretrain_path, map_location=device)\n"
     ]
    },
    {
     "data": {
      "text/plain": [
       "<All keys matched successfully>"
      ]
     },
     "execution_count": 15,
     "metadata": {},
     "output_type": "execute_result"
    }
   ],
   "source": [
    "img_size = 96\n",
    "img_depth = img_size\n",
    "n_classes = 7 \n",
    "\n",
    "device = torch.device(\"cuda\" if torch.cuda.is_available() else \"cpu\")\n",
    "pretrain_path = \"./model_checkpoints/SwinUNETR96_96_lr0.001_lambda0.52_batch2/best_model.pt\"\n",
    "model = SwinUNETR(\n",
    "    img_size=(img_depth, img_size, img_size),\n",
    "    in_channels=1,\n",
    "    out_channels=n_classes,\n",
    "    feature_size=48,\n",
    "    use_checkpoint=True,\n",
    ").to(device)\n",
    "# Pretrained weights 불러오기\n",
    "checkpoint = torch.load(pretrain_path, map_location=device)\n",
    "model.load_state_dict(checkpoint['model_state_dict'])\n"
   ]
  },
  {
   "cell_type": "code",
   "execution_count": null,
   "metadata": {},
   "outputs": [
    {
     "name": "stderr",
     "output_type": "stream",
     "text": [
      "Validation:   0%|          | 0/4 [00:03<?, ?it/s, loss=0.764]\n"
     ]
    },
    {
     "ename": "ZeroDivisionError",
     "evalue": "integer modulo by zero",
     "output_type": "error",
     "traceback": [
      "\u001b[1;31m---------------------------------------------------------------------------\u001b[0m",
      "\u001b[1;31mZeroDivisionError\u001b[0m                         Traceback (most recent call last)",
      "Cell \u001b[1;32mIn[16], line 1\u001b[0m\n\u001b[1;32m----> 1\u001b[0m val_loss \u001b[38;5;241m=\u001b[39m \u001b[43mvalidate_one_epoch\u001b[49m\u001b[43m(\u001b[49m\n\u001b[0;32m      2\u001b[0m \u001b[43m            \u001b[49m\u001b[43mmodel\u001b[49m\u001b[38;5;241;43m=\u001b[39;49m\u001b[43mmodel\u001b[49m\u001b[43m,\u001b[49m\u001b[43m \u001b[49m\n\u001b[0;32m      3\u001b[0m \u001b[43m            \u001b[49m\u001b[43mval_loader\u001b[49m\u001b[38;5;241;43m=\u001b[39;49m\u001b[43mval_loader\u001b[49m\u001b[43m,\u001b[49m\u001b[43m \u001b[49m\n\u001b[0;32m      4\u001b[0m \u001b[43m            \u001b[49m\u001b[43mcriterion\u001b[49m\u001b[38;5;241;43m=\u001b[39;49m\u001b[43mcriterion\u001b[49m\u001b[43m,\u001b[49m\u001b[43m \u001b[49m\n\u001b[0;32m      5\u001b[0m \u001b[43m            \u001b[49m\u001b[43mdevice\u001b[49m\u001b[38;5;241;43m=\u001b[39;49m\u001b[43mdevice\u001b[49m\u001b[43m,\u001b[49m\u001b[43m \u001b[49m\n\u001b[0;32m      6\u001b[0m \u001b[43m            \u001b[49m\u001b[43mepoch\u001b[49m\u001b[38;5;241;43m=\u001b[39;49m\u001b[38;5;241;43m1\u001b[39;49m\u001b[43m,\u001b[49m\u001b[43m \u001b[49m\n\u001b[0;32m      7\u001b[0m \u001b[43m            \u001b[49m\u001b[43mcalculate_dice_interval\u001b[49m\u001b[38;5;241;43m=\u001b[39;49m\u001b[38;5;241;43m0\u001b[39;49m\n\u001b[0;32m      8\u001b[0m \u001b[43m        \u001b[49m\u001b[43m)\u001b[49m\n",
      "Cell \u001b[1;32mIn[11], line 64\u001b[0m, in \u001b[0;36mvalidate_one_epoch\u001b[1;34m(model, val_loader, criterion, device, epoch, calculate_dice_interval)\u001b[0m\n\u001b[0;32m     61\u001b[0m pbar\u001b[38;5;241m.\u001b[39mset_postfix(loss\u001b[38;5;241m=\u001b[39mloss\u001b[38;5;241m.\u001b[39mitem())\n\u001b[0;32m     63\u001b[0m \u001b[38;5;66;03m# 각 클래스별 Dice 점수 계산\u001b[39;00m\n\u001b[1;32m---> 64\u001b[0m \u001b[38;5;28;01mif\u001b[39;00m \u001b[43mepoch\u001b[49m\u001b[43m \u001b[49m\u001b[38;5;241;43m%\u001b[39;49m\u001b[43m \u001b[49m\u001b[43mcalculate_dice_interval\u001b[49m \u001b[38;5;241m==\u001b[39m \u001b[38;5;241m0\u001b[39m:\n\u001b[0;32m     65\u001b[0m     \u001b[38;5;28;01mfor\u001b[39;00m i \u001b[38;5;129;01min\u001b[39;00m \u001b[38;5;28mrange\u001b[39m(n_classes):\n\u001b[0;32m     66\u001b[0m         pred_i \u001b[38;5;241m=\u001b[39m (preds \u001b[38;5;241m==\u001b[39m i)\n",
      "\u001b[1;31mZeroDivisionError\u001b[0m: integer modulo by zero"
     ]
    }
   ],
   "source": [
    "val_loss = validate_one_epoch(\n",
    "            model=model, \n",
    "            val_loader=val_loader, \n",
    "            criterion=criterion, \n",
    "            device=device, \n",
    "            epoch=1, \n",
    "            calculate_dice_interval=0\n",
    "        )"
   ]
  },
  {
   "cell_type": "code",
   "execution_count": null,
   "metadata": {},
   "outputs": [
    {
     "name": "stdout",
     "output_type": "stream",
     "text": [
      "Processing volume 1/7\n"
     ]
    },
    {
     "name": "stderr",
     "output_type": "stream",
     "text": [
      "Loading dataset: 100%|██████████| 1/1 [00:01<00:00,  1.94s/it]\n"
     ]
    },
    {
     "name": "stdout",
     "output_type": "stream",
     "text": [
      "Processing volume 2/7\n"
     ]
    },
    {
     "name": "stderr",
     "output_type": "stream",
     "text": [
      "Loading dataset: 100%|██████████| 1/1 [00:01<00:00,  1.89s/it]\n"
     ]
    },
    {
     "name": "stdout",
     "output_type": "stream",
     "text": [
      "Processing volume 3/7\n"
     ]
    },
    {
     "name": "stderr",
     "output_type": "stream",
     "text": [
      "Loading dataset: 100%|██████████| 1/1 [00:01<00:00,  1.79s/it]\n"
     ]
    },
    {
     "name": "stdout",
     "output_type": "stream",
     "text": [
      "Submission saved to: submission.csv\n"
     ]
    }
   ],
   "source": [
    "import torch\n",
    "import numpy as np\n",
    "from scipy.ndimage import label, center_of_mass\n",
    "import pandas as pd\n",
    "from tqdm import tqdm\n",
    "from monai.data import CacheDataset, DataLoader\n",
    "from monai.transforms import Compose, NormalizeIntensity\n",
    "import cc3d\n",
    "\n",
    "def dict_to_df(coord_dict, experiment_name):\n",
    "    all_coords = []\n",
    "    all_labels = []\n",
    "    \n",
    "    for label, coords in coord_dict.items():\n",
    "        all_coords.append(coords)\n",
    "        all_labels.extend([label] * len(coords))\n",
    "    \n",
    "    all_coords = np.vstack(all_coords)\n",
    "    df = pd.DataFrame({\n",
    "        'experiment': experiment_name,\n",
    "        'particle_type': all_labels,\n",
    "        'x': all_coords[:, 0],\n",
    "        'y': all_coords[:, 1],\n",
    "        'z': all_coords[:, 2]\n",
    "    })\n",
    "    return df\n",
    "\n",
    "id_to_name = {1: \"apo-ferritin\", \n",
    "              2: \"beta-amylase\",\n",
    "              3: \"beta-galactosidase\", \n",
    "              4: \"ribosome\", \n",
    "              5: \"thyroglobulin\", \n",
    "              6: \"virus-like-particle\"}\n",
    "BLOB_THRESHOLD = 200\n",
    "CERTAINTY_THRESHOLD = 0.05\n",
    "\n",
    "classes = [1, 2, 3, 4, 5, 6]\n",
    "\n",
    "model.eval()\n",
    "with torch.no_grad():\n",
    "    location_dfs = []  # DataFrame 리스트로 초기화\n",
    "    \n",
    "    for vol_idx, run in enumerate(preprocessor.root.runs):\n",
    "        print(f\"Processing volume {vol_idx + 1}/{len(preprocessor.root.runs)}\")\n",
    "        tomogram = preprocessor.processing(run=run, task=\"task\")\n",
    "        task_files = [{\"image\": tomogram}]\n",
    "        task_ds = CacheDataset(data=task_files, transform=non_random_transforms)\n",
    "        task_loader = DataLoader(task_ds, batch_size=1, num_workers=0)\n",
    "        \n",
    "        for task_data in task_loader:\n",
    "            images = task_data['image'].to(\"cuda\")\n",
    "            outputs = sliding_window_inference(\n",
    "                inputs=images,\n",
    "                roi_size=(96, 96, 96),  # ROI 크기\n",
    "                sw_batch_size=4,\n",
    "                predictor=model.forward,\n",
    "                overlap=0.1,\n",
    "                sw_device=\"cuda\",\n",
    "                device=\"cpu\",\n",
    "                buffer_steps=1,\n",
    "                buffer_dim=-1\n",
    "            )\n",
    "            outputs = outputs.argmax(dim=1).squeeze(0).cpu().numpy()  # 클래스 채널 예측\n",
    "            location = {}  # 좌표 저장용 딕셔너리\n",
    "            for c in classes:\n",
    "                cc = cc3d.connected_components(outputs == c)  # cc3d 라벨링\n",
    "                stats = cc3d.statistics(cc)\n",
    "                zyx = stats['centroids'][1:] * 10.012444  # 스케일 변환\n",
    "                zyx_large = zyx[stats['voxel_counts'][1:] > BLOB_THRESHOLD]  # 크기 필터링\n",
    "                xyz = np.ascontiguousarray(zyx_large[:, ::-1])  # 좌표 스왑 (z, y, x -> x, y, z)\n",
    "\n",
    "                location[id_to_name[c]] = xyz  # ID 이름 매칭 저장\n",
    "\n",
    "            # 데이터프레임 변환\n",
    "            df = dict_to_df(location, run.name)\n",
    "            location_dfs.append(df)  # 리스트에 추가\n",
    "        \n",
    "        # if vol_idx == 2:\n",
    "        #     break\n",
    "    \n",
    "    # DataFrame 병합\n",
    "    final_df = pd.concat(location_dfs, ignore_index=True)\n",
    "    \n",
    "    # ID 추가 및 CSV 저장\n",
    "    final_df.insert(loc=0, column='id', value=np.arange(len(final_df)))\n",
    "    final_df.to_csv(\"submission.csv\", index=False)\n",
    "    print(\"Submission saved to: submission.csv\")\n"
   ]
  }
 ],
 "metadata": {
  "kernelspec": {
   "display_name": "UM",
   "language": "python",
   "name": "python3"
  },
  "language_info": {
   "codemirror_mode": {
    "name": "ipython",
    "version": 3
   },
   "file_extension": ".py",
   "mimetype": "text/x-python",
   "name": "python",
   "nbconvert_exporter": "python",
   "pygments_lexer": "ipython3",
   "version": "3.12.7"
  }
 },
 "nbformat": 4,
 "nbformat_minor": 2
}
