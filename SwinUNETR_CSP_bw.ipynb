{
 "cells": [
  {
   "cell_type": "code",
   "execution_count": 1,
   "metadata": {},
   "outputs": [
    {
     "name": "stdout",
     "output_type": "stream",
     "text": [
      "MONAI version: 1.4.0\n",
      "Numpy version: 1.26.4\n",
      "Pytorch version: 2.4.1+cu121\n",
      "MONAI flags: HAS_EXT = False, USE_COMPILED = False, USE_META_DICT = False\n",
      "MONAI rev id: 46a5272196a6c2590ca2589029eed8e4d56ff008\n",
      "MONAI __file__: c:\\Users\\<username>\\.conda\\envs\\UM\\Lib\\site-packages\\monai\\__init__.py\n",
      "\n",
      "Optional dependencies:\n",
      "Pytorch Ignite version: NOT INSTALLED or UNKNOWN VERSION.\n",
      "ITK version: NOT INSTALLED or UNKNOWN VERSION.\n",
      "Nibabel version: 5.3.2\n",
      "scikit-image version: 0.24.0\n",
      "scipy version: 1.14.1\n",
      "Pillow version: 10.2.0\n",
      "Tensorboard version: 2.18.0\n",
      "gdown version: 5.2.0\n",
      "TorchVision version: 0.19.1+cu121\n",
      "tqdm version: 4.66.5\n",
      "lmdb version: NOT INSTALLED or UNKNOWN VERSION.\n",
      "psutil version: 6.0.0\n",
      "pandas version: 2.2.3\n",
      "einops version: 0.8.0\n",
      "transformers version: NOT INSTALLED or UNKNOWN VERSION.\n",
      "mlflow version: 2.17.2\n",
      "pynrrd version: NOT INSTALLED or UNKNOWN VERSION.\n",
      "clearml version: NOT INSTALLED or UNKNOWN VERSION.\n",
      "\n",
      "For details about installing the optional dependencies, please visit:\n",
      "    https://docs.monai.io/en/latest/installation.html#installing-the-recommended-dependencies\n",
      "\n"
     ]
    }
   ],
   "source": [
    "import os\n",
    "import shutil\n",
    "import tempfile\n",
    "\n",
    "import matplotlib.pyplot as plt\n",
    "from tqdm import tqdm\n",
    "\n",
    "import random\n",
    "import numpy as np\n",
    "import torch\n",
    "\n",
    "\n",
    "from monai.losses import DiceCELoss\n",
    "from monai.inferers import sliding_window_inference\n",
    "from monai.transforms import (\n",
    "    AsDiscrete,\n",
    "    EnsureChannelFirstd,\n",
    "    Compose,\n",
    "    CropForegroundd,\n",
    "    LoadImaged,\n",
    "    Orientationd,\n",
    "    RandFlipd,\n",
    "    RandCropByPosNegLabeld,\n",
    "    RandShiftIntensityd,\n",
    "    ScaleIntensityRanged,\n",
    "    Spacingd,\n",
    "    RandRotate90d,\n",
    ")\n",
    "\n",
    "from monai.config import print_config\n",
    "from monai.metrics import DiceMetric\n",
    "from src.models.swincspunetr import SwinCSPUNETR\n",
    "from src.models.swincspunetr_unet import SwinCSPUNETR_unet\n",
    "from src.models.swincspunetr3plus import SwinCSPUNETR3plus\n",
    "\n",
    "from monai.data import (\n",
    "    DataLoader,\n",
    "    CacheDataset,\n",
    "    load_decathlon_datalist,\n",
    "    decollate_batch,\n",
    ")\n",
    "\n",
    "# 랜덤 시드 고정\n",
    "def set_seed(seed):\n",
    "    random.seed(seed)\n",
    "    np.random.seed(seed)\n",
    "    torch.manual_seed(seed)\n",
    "    if torch.cuda.is_available():\n",
    "        torch.cuda.manual_seed_all(seed)\n",
    "\n",
    "set_seed(42)\n",
    "\n",
    "\n",
    "print_config()"
   ]
  },
  {
   "cell_type": "code",
   "execution_count": 2,
   "metadata": {},
   "outputs": [
    {
     "name": "stdout",
     "output_type": "stream",
     "text": [
      "클래스 비율: {0: 0.0, 1: 0.16393442622950818, 2: 0.01639344262295082, 3: 0.2459016393442623, 4: 0.16393442622950818, 5: 0.2459016393442623, 6: 0.16393442622950818}\n",
      "최종 합계: 1.0\n",
      "클래스 비율 리스트: [0.0, 0.16393442622950818, 0.01639344262295082, 0.2459016393442623, 0.16393442622950818, 0.2459016393442623, 0.16393442622950818]\n"
     ]
    }
   ],
   "source": [
    "class_info = {\n",
    "    0: {\"name\": \"background\", \"weight\": 0},  # weight 없음\n",
    "    1: {\"name\": \"apo-ferritin\", \"weight\": 1000},\n",
    "    2: {\"name\": \"beta-amylase\", \"weight\": 100}, # 4130\n",
    "    3: {\"name\": \"beta-galactosidase\", \"weight\": 1500}, #3080\n",
    "    4: {\"name\": \"ribosome\", \"weight\": 1000},\n",
    "    5: {\"name\": \"thyroglobulin\", \"weight\": 1500},\n",
    "    6: {\"name\": \"virus-like-particle\", \"weight\": 1000},\n",
    "}\n",
    "\n",
    "# 가중치에 비례한 비율 계산\n",
    "raw_ratios = {\n",
    "    k: (v[\"weight\"] if v[\"weight\"] is not None else 0.01)  # 가중치 비례, None일 경우 기본값a\n",
    "    for k, v in class_info.items()\n",
    "}\n",
    "total = sum(raw_ratios.values())\n",
    "ratios = {k: v / total for k, v in raw_ratios.items()}\n",
    "\n",
    "# 최종 합계가 1인지 확인\n",
    "final_total = sum(ratios.values())\n",
    "print(\"클래스 비율:\", ratios)\n",
    "print(\"최종 합계:\", final_total)\n",
    "\n",
    "# 비율을 리스트로 변환\n",
    "ratios_list = [ratios[k] for k in sorted(ratios.keys())]\n",
    "print(\"클래스 비율 리스트:\", ratios_list)"
   ]
  },
  {
   "cell_type": "markdown",
   "metadata": {},
   "source": [
    "# 모델 설정"
   ]
  },
  {
   "cell_type": "code",
   "execution_count": 3,
   "metadata": {},
   "outputs": [],
   "source": [
    "from src.dataset.dataset import create_dataloaders\n",
    "from monai.transforms import (\n",
    "    Compose, LoadImaged, EnsureChannelFirstd, NormalizeIntensityd,\n",
    "    Orientationd, CropForegroundd, GaussianSmoothd, ScaleIntensityd,\n",
    "    RandSpatialCropd, RandRotate90d, RandFlipd, RandGaussianNoised,\n",
    "    ToTensord, RandCropByLabelClassesd\n",
    ")\n",
    "from monai.transforms import CastToTyped\n",
    "import numpy as np\n",
    "\n",
    "train_img_dir = \"./datasets/train/images\"\n",
    "train_label_dir = \"./datasets/train/labels\"\n",
    "val_img_dir = \"./datasets/val/images\"\n",
    "val_label_dir = \"./datasets/val/labels\"\n",
    "# DATA CONFIG\n",
    "img_size =  96 # Match your patch size\n",
    "img_depth = img_size\n",
    "n_classes = 7\n",
    "batch_size = 2 # 13.8GB GPU memory required for 128x128 img size\n",
    "num_samples = batch_size # 한 이미지에서 뽑을 샘플 수\n",
    "loader_batch = 1\n",
    "num_repeat = 20\n",
    "# MODEL CONFIG\n",
    "num_epochs = 4000\n",
    "lamda = 0.5\n",
    "ce_weight = 0.4\n",
    "lr = 0.0001\n",
    "feature_size = 48\n",
    "use_checkpoint = True\n",
    "use_v2 = True\n",
    "drop_rate= 0.25\n",
    "attn_drop_rate = 0.25\n",
    "num_bottleneck = 2\n",
    "# CLASS_WEIGHTS\n",
    "class_weights = None\n",
    "class_weights = torch.tensor([0.0001, 1, 0.001, 1.1, 1, 1.1, 1], dtype=torch.float32)  # 클래스별 가중치\n",
    "\n",
    "accumulation_steps = 8\n",
    "# INIT\n",
    "start_epoch = 0\n",
    "best_val_loss = float('inf')\n",
    "best_val_fbeta_score = 0\n",
    "\n",
    "non_random_transforms = Compose([\n",
    "    EnsureChannelFirstd(keys=[\"image\", \"label\"], channel_dim=\"no_channel\"),\n",
    "    NormalizeIntensityd(keys=\"image\"),\n",
    "    Orientationd(keys=[\"image\", \"label\"], axcodes=\"RAS\"),\n",
    "    CastToTyped(keys=[\"image\"], dtype=np.float16),\n",
    "    GaussianSmoothd(\n",
    "        keys=[\"image\"],      # 변환을 적용할 키\n",
    "        sigma=[1.0, 1.0, 1.0]  # 각 축(x, y, z)의 시그마 값\n",
    "        ),\n",
    "])\n",
    "random_transforms = Compose([\n",
    "    RandCropByLabelClassesd(\n",
    "        keys=[\"image\", \"label\"],\n",
    "        label_key=\"label\",\n",
    "        spatial_size=[img_depth, img_size, img_size],\n",
    "        num_classes=n_classes,\n",
    "        num_samples=num_samples, \n",
    "        ratios=ratios_list,\n",
    "    ),\n",
    "    RandRotate90d(keys=[\"image\", \"label\"], prob=0.5, spatial_axes=[1, 2]),\n",
    "    RandFlipd(keys=[\"image\", \"label\"], prob=0.5, spatial_axis=0),\n",
    "    RandFlipd(keys=[\"image\", \"label\"], prob=0.5, spatial_axis=1),\n",
    "    RandFlipd(keys=[\"image\", \"label\"], prob=0.5, spatial_axis=2),\n",
    "])\n"
   ]
  },
  {
   "cell_type": "code",
   "execution_count": null,
   "metadata": {},
   "outputs": [],
   "source": [
    "train_loader, val_loader = None, None\n",
    "train_loader, val_loader = create_dataloaders(\n",
    "    train_img_dir, \n",
    "    train_label_dir, \n",
    "    val_img_dir, \n",
    "    val_label_dir, \n",
    "    non_random_transforms = non_random_transforms, \n",
    "    random_transforms = random_transforms, \n",
    "    batch_size = loader_batch,\n",
    "    num_workers=0,train_num_repeat=num_repeat)"
   ]
  },
  {
   "cell_type": "markdown",
   "metadata": {},
   "source": [
    "https://monai.io/model-zoo.html"
   ]
  },
  {
   "cell_type": "code",
   "execution_count": null,
   "metadata": {},
   "outputs": [],
   "source": [
    "from monai.losses import TverskyLoss\n",
    "import torch\n",
    "import torch.nn as nn\n",
    "\n",
    "def loss_fn(loss, class_weights, device):\n",
    "    \"\"\"\n",
    "    Tversky 손실에 클래스별 가중치를 적용하여 최종 스칼라 값을 반환합니다.\n",
    "\n",
    "    Args:\n",
    "        loss: Tversky 손실 텐서 (B, num_classes, H, W, D).\n",
    "        class_weights: 클래스별 가중치 텐서 (num_classes,).\n",
    "        device: 사용할 장치 (예: 'cuda' 또는 'cpu').\n",
    "\n",
    "    Returns:\n",
    "        torch.Tensor: 최종 가중 평균 손실 값 (스칼라).\n",
    "    \"\"\"\n",
    "    # 가중치를 device로 이동\n",
    "    class_weights = class_weights.to(device)\n",
    "\n",
    "    # 클래스 차원에 가중치 적용 (B, num_classes, ...)\n",
    "    class_weights = class_weights.view(1, n_classes, 1, 1, 1)  # [1, num_classes, 1, 1, 1]\n",
    "    weighted_loss = loss * class_weights\n",
    "\n",
    "    # 모든 차원을 평균 내어 스칼라 손실 반환\n",
    "    final_loss = torch.mean(weighted_loss)\n",
    "    return final_loss\n",
    "\n",
    "class DynamicTverskyLoss(TverskyLoss):\n",
    "    def __init__(self, lamda=0.5, **kwargs):\n",
    "        super().__init__(alpha=1 - lamda, beta=lamda, **kwargs)\n",
    "        self.lamda = lamda\n",
    "\n",
    "    def set_lamda(self, lamda):\n",
    "        self.lamda = lamda\n",
    "        self.alpha = 1 - lamda\n",
    "        self.beta = lamda\n",
    "        \n",
    "# criterion = DynamicTverskyLoss(\n",
    "#     lamda=0.5,\n",
    "#     include_background=False,\n",
    "#     reduction=\"mean\",\n",
    "#     softmax=True\n",
    "# )\n",
    "\n",
    "class CombinedCETverskyLoss(nn.Module):\n",
    "    def __init__(self, lamda=0.5, ce_weight=0.5, **kwargs):\n",
    "        super().__init__()\n",
    "        self._lamda = lamda  # lamda 값 저장\n",
    "        self.tversky = DynamicTverskyLoss(lamda=lamda, **kwargs)\n",
    "        self.ce = nn.CrossEntropyLoss()\n",
    "        self.ce_weight = ce_weight\n",
    "        \n",
    "    def forward(self, inputs, targets):\n",
    "        tversky_loss = self.tversky(inputs, targets)\n",
    "        ce_loss = self.ce(inputs, targets)\n",
    "        return self.ce_weight * ce_loss + (1 - self.ce_weight) * tversky_loss\n",
    "    \n",
    "    def set_lamda(self, lamda):\n",
    "        self._lamda = lamda\n",
    "        self.tversky.set_lamda(lamda)\n",
    "    \n",
    "    @property\n",
    "    def lamda(self):\n",
    "        return self._lamda\n",
    "\n",
    "criterion = CombinedCETverskyLoss(\n",
    "    lamda=lamda,\n",
    "    ce_weight=ce_weight,  # CE Loss와 Tversky Loss의 비중을 0.5:0.5로 설정\n",
    "    include_background=False,\n",
    "    reduction=\"mean\",\n",
    "    softmax=True\n",
    ")"
   ]
  },
  {
   "cell_type": "code",
   "execution_count": null,
   "metadata": {},
   "outputs": [
    {
     "name": "stderr",
     "output_type": "stream",
     "text": [
      "c:\\Users\\pook0\\.conda\\envs\\UM\\Lib\\site-packages\\monai\\utils\\deprecate_utils.py:221: FutureWarning: src.models.swincspunetr_unet SwinCSPUNETR_unet.__init__:img_size: Argument `img_size` has been deprecated since version 1.3. It will be removed in version 1.5. The img_size argument is not required anymore and checks on the input size are run during forward().\n",
      "  warn_deprecated(argname, msg, warning_category)\n"
     ]
    },
    {
     "name": "stdout",
     "output_type": "stream",
     "text": [
      "기존 best model 발견: model_checkpoints\\SwinCSP_UNETR_unet__pyes_weighted_f48_d96s96_numb2_lr1e-04_a0.50_b0.50_b2_r20_ce0.4\\best_model.pt\n"
     ]
    },
    {
     "name": "stderr",
     "output_type": "stream",
     "text": [
      "C:\\Users\\pook0\\AppData\\Local\\Temp\\ipykernel_4440\\3741498663.py:55: FutureWarning: You are using `torch.load` with `weights_only=False` (the current default value), which uses the default pickle module implicitly. It is possible to construct malicious pickle data which will execute arbitrary code during unpickling (See https://github.com/pytorch/pytorch/blob/main/SECURITY.md#untrusted-models for more details). In a future release, the default value for `weights_only` will be flipped to `True`. This limits the functions that could be executed during unpickling. Arbitrary objects will no longer be allowed to be loaded via this mode unless they are explicitly allowlisted by the user via `torch.serialization.add_safe_globals`. We recommend you start setting `weights_only=True` for any use case where you don't have full control of the loaded file. Please open an issue on GitHub for any issues related to this experimental feature.\n",
      "  checkpoint = torch.load(best_model_path, map_location=device)\n"
     ]
    },
    {
     "name": "stdout",
     "output_type": "stream",
     "text": [
      "기존 학습된 가중치를 성공적으로 로드했습니다.\n"
     ]
    }
   ],
   "source": [
    "import torch.optim as optim\n",
    "from tqdm import tqdm\n",
    "import numpy as np\n",
    "import torch\n",
    "from pathlib import Path\n",
    "from monai.metrics import DiceMetric\n",
    "\n",
    "device = torch.device(\"cuda\" if torch.cuda.is_available() else \"cpu\")\n",
    "\n",
    "model = SwinCSPUNETR3plus(\n",
    "    img_size=(img_depth, img_size, img_size),\n",
    "    in_channels=1,\n",
    "    out_channels=n_classes,\n",
    "    feature_size=feature_size,\n",
    "    use_checkpoint=True,\n",
    "    drop_rate = drop_rate,\n",
    "    attn_drop_rate = attn_drop_rate,\n",
    "    use_v2 = use_v2,\n",
    "    n = num_bottleneck,\n",
    ").to(device)\n",
    "# Pretrained weights 불러오기\n",
    "# if use_checkpoint:\n",
    "#     pretrain_path = \"./swin_unetr_btcv_segmentation/models/model.pt\"\n",
    "#     weight = torch.load(pretrain_path, map_location=device)\n",
    "\n",
    "#     # 출력 레이어의 키를 제외한 나머지 가중치만 로드\n",
    "#     filtered_weights = {k: v for k, v in weight.items() if \"out.conv.conv\" not in k}\n",
    "\n",
    "#     # strict=False로 로드하여 불일치하는 부분 무시\n",
    "#     model.load_state_dict(filtered_weights, strict=False)\n",
    "#     print(\"Filtered weights loaded successfully. Output layer will be trained from scratch.\")\n",
    "\n",
    "# Load pretrained weights\n",
    "# model.load_from(weights=np.load(config_vit.real_pretrained_path, allow_pickle=True))\n",
    "# TverskyLoss 설정\n",
    "# 사용 예시\n",
    "\n",
    "pretrain_str = \"yes\" if use_checkpoint else \"no\"\n",
    "weight_str = \"weighted\" if class_weights is not None else \"\"\n",
    "\n",
    "# 체크포인트 디렉토리 및 파일 설정\n",
    "checkpoint_base_dir = Path(\"./model_checkpoints\")\n",
    "folder_name = f\"SwinCSP_UNETR_3plus__p{pretrain_str}_{weight_str}_f{feature_size}_d{img_depth}s{img_size}_numb{num_bottleneck}_lr{lr:.0e}_a{lamda:.2f}_b{1-lamda:.2f}_b{batch_size}_r{num_repeat}_ce{ce_weight}\"\n",
    "checkpoint_dir = checkpoint_base_dir / folder_name\n",
    "optimizer = optim.AdamW(model.parameters(), lr=lr, weight_decay=1e-5)\n",
    "scheduler = torch.optim.lr_scheduler.ReduceLROnPlateau(optimizer, patience=5, factor=0.5)\n",
    "# 체크포인트 디렉토리 생성\n",
    "checkpoint_dir.mkdir(parents=True, exist_ok=True)\n",
    "\n",
    "if checkpoint_dir.exists():\n",
    "    best_model_path = checkpoint_dir / 'best_model.pt'\n",
    "    if best_model_path.exists():\n",
    "        print(f\"기존 best model 발견: {best_model_path}\")\n",
    "        try:\n",
    "            checkpoint = torch.load(best_model_path, map_location=device)\n",
    "            # 체크포인트 내부 키 검증\n",
    "            required_keys = ['model_state_dict', 'optimizer_state_dict', 'epoch', 'best_val_loss']\n",
    "            if all(k in checkpoint for k in required_keys):\n",
    "                model.load_state_dict(checkpoint['model_state_dict'])\n",
    "                optimizer.load_state_dict(checkpoint['optimizer_state_dict'])\n",
    "                start_epoch = checkpoint['epoch']\n",
    "                best_val_loss = checkpoint['best_val_loss']\n",
    "                print(\"기존 학습된 가중치를 성공적으로 로드했습니다.\")\n",
    "                checkpoint= None\n",
    "            else:\n",
    "                raise ValueError(\"체크포인트 파일에 필요한 key가 없습니다.\")\n",
    "        except Exception as e:\n",
    "            print(f\"체크포인트 파일을 로드하는 중 오류 발생: {e}\")"
   ]
  },
  {
   "cell_type": "code",
   "execution_count": null,
   "metadata": {},
   "outputs": [
    {
     "name": "stdout",
     "output_type": "stream",
     "text": [
      "torch.Size([2, 1, 96, 96, 96]) torch.Size([2, 1, 96, 96, 96])\n"
     ]
    }
   ],
   "source": [
    "batch = next(iter(val_loader))\n",
    "images, labels = batch[\"image\"], batch[\"label\"]\n",
    "print(images.shape, labels.shape)"
   ]
  },
  {
   "cell_type": "code",
   "execution_count": null,
   "metadata": {},
   "outputs": [],
   "source": [
    "torch.backends.cudnn.benchmark = True"
   ]
  },
  {
   "cell_type": "code",
   "execution_count": null,
   "metadata": {},
   "outputs": [
    {
     "name": "stderr",
     "output_type": "stream",
     "text": [
      "\u001b[34m\u001b[1mwandb\u001b[0m: Using wandb-core as the SDK backend.  Please refer to https://wandb.me/wandb-core for more information.\n",
      "\u001b[34m\u001b[1mwandb\u001b[0m: Currently logged in as: \u001b[33mpook0612\u001b[0m (\u001b[33mlimbw\u001b[0m). Use \u001b[1m`wandb login --relogin`\u001b[0m to force relogin\n"
     ]
    },
    {
     "data": {
      "text/html": [
       "Tracking run with wandb version 0.19.1"
      ],
      "text/plain": [
       "<IPython.core.display.HTML object>"
      ]
     },
     "metadata": {},
     "output_type": "display_data"
    },
    {
     "data": {
      "text/html": [
       "Run data is saved locally in <code>d:\\Workspace\\czll\\wandb\\run-20250105_013148-acn63503</code>"
      ],
      "text/plain": [
       "<IPython.core.display.HTML object>"
      ]
     },
     "metadata": {},
     "output_type": "display_data"
    },
    {
     "data": {
      "text/html": [
       "Syncing run <strong><a href='https://wandb.ai/limbw/czii_SwinUnetR/runs/acn63503' target=\"_blank\">SwinCSP_UNETR_unet__pyes_weighted_f48_d96s96_numb2_lr1e-04_a0.50_b0.50_b2_r20_ce0.4</a></strong> to <a href='https://wandb.ai/limbw/czii_SwinUnetR' target=\"_blank\">Weights & Biases</a> (<a href='https://wandb.me/developer-guide' target=\"_blank\">docs</a>)<br>"
      ],
      "text/plain": [
       "<IPython.core.display.HTML object>"
      ]
     },
     "metadata": {},
     "output_type": "display_data"
    },
    {
     "data": {
      "text/html": [
       " View project at <a href='https://wandb.ai/limbw/czii_SwinUnetR' target=\"_blank\">https://wandb.ai/limbw/czii_SwinUnetR</a>"
      ],
      "text/plain": [
       "<IPython.core.display.HTML object>"
      ]
     },
     "metadata": {},
     "output_type": "display_data"
    },
    {
     "data": {
      "text/html": [
       " View run at <a href='https://wandb.ai/limbw/czii_SwinUnetR/runs/acn63503' target=\"_blank\">https://wandb.ai/limbw/czii_SwinUnetR/runs/acn63503</a>"
      ],
      "text/plain": [
       "<IPython.core.display.HTML object>"
      ]
     },
     "metadata": {},
     "output_type": "display_data"
    }
   ],
   "source": [
    "import wandb\n",
    "from datetime import datetime\n",
    "\n",
    "current_time = datetime.now().strftime('%Y%m%d_%H%M%S')\n",
    "run_name = folder_name\n",
    "\n",
    "# wandb 초기화\n",
    "wandb.init(\n",
    "    project='czii_SwinUnetR',  # 프로젝트 이름 설정\n",
    "    name=run_name,         # 실행(run) 이름 설정\n",
    "    config={\n",
    "        'num_epochs': num_epochs,\n",
    "        'learning_rate': lr,\n",
    "        'batch_size': batch_size,\n",
    "        'lambda': lamda,\n",
    "        \"cross_entropy_weight\": ce_weight,\n",
    "        'feature_size': feature_size,\n",
    "        'img_size': img_size,\n",
    "        'sampling_ratio': ratios_list,\n",
    "        'device': device.type,\n",
    "        \"checkpoint_dir\": str(checkpoint_dir),\n",
    "        \"class_weights\": class_weights.tolist() if class_weights is not None else None,\n",
    "        \"use_checkpoint\": use_checkpoint,\n",
    "        \"drop_rate\": drop_rate,\n",
    "        \"attn_drop_rate\": attn_drop_rate,\n",
    "        \"use_v2\": use_v2,\n",
    "        \"accumulation_steps\": accumulation_steps,\n",
    "        \"num_repeat\": num_repeat,\n",
    "        \"num_bottleneck\": num_bottleneck,\n",
    "        \n",
    "        # 필요한 하이퍼파라미터 추가\n",
    "    }\n",
    ")\n",
    "# 모델을 wandb에 연결\n",
    "wandb.watch(model, log='all')"
   ]
  },
  {
   "cell_type": "markdown",
   "metadata": {},
   "source": [
    "# 학습"
   ]
  },
  {
   "cell_type": "code",
   "execution_count": null,
   "metadata": {},
   "outputs": [],
   "source": [
    "from monai.metrics import DiceMetric\n",
    "    \n",
    "def processing(batch_data, model, criterion, device):\n",
    "    images = batch_data['image'].to(device)  # Input 이미지 (B, 1, 96, 96, 96)\n",
    "    labels = batch_data['label'].to(device)  # 라벨 (B, 96, 96, 96)\n",
    "\n",
    "    labels = labels.squeeze(1)  # (B, 1, 96, 96, 96) → (B, 96, 96, 96)\n",
    "    labels = labels.long()  # 라벨을 정수형으로 변환\n",
    "\n",
    "    # 원핫 인코딩 (B, H, W, D) → (B, num_classes, H, W, D)\n",
    "    \n",
    "    labels_onehot = torch.nn.functional.one_hot(labels, num_classes=n_classes)\n",
    "    labels_onehot = labels_onehot.permute(0, 4, 1, 2, 3).float()  # (B, num_classes, H, W, D)\n",
    "\n",
    "    # 모델 예측\n",
    "    outputs = model(images)  # outputs: (B, num_classes, H, W, D)\n",
    "\n",
    "    # Loss 계산\n",
    "    # loss = criterion(outputs, labels_onehot)\n",
    "    loss = loss_fn(criterion(outputs, labels_onehot),class_weights=class_weights, device=device)\n",
    "    return loss, outputs, labels, outputs.argmax(dim=1)\n",
    "\n",
    "def train_one_epoch(model, train_loader, criterion, optimizer, device, epoch, accumulation_steps=4):\n",
    "    model.train()\n",
    "    epoch_loss = 0\n",
    "    optimizer.zero_grad()  # 그래디언트 초기화\n",
    "    with tqdm(train_loader, desc='Training') as pbar:\n",
    "        for i, batch_data in enumerate(pbar):\n",
    "            # 손실 계산\n",
    "            loss, _, _, _ = processing(batch_data, model, criterion, device)\n",
    "\n",
    "            # 그래디언트를 계산하고 누적\n",
    "            loss = loss / accumulation_steps  # 그래디언트 누적을 위한 스케일링\n",
    "            loss.backward()  # 그래디언트 계산 및 누적\n",
    "            \n",
    "            # 그래디언트 업데이트 (accumulation_steps마다 한 번)\n",
    "            if (i + 1) % accumulation_steps == 0 or (i + 1) == len(train_loader):\n",
    "                optimizer.step()  # 파라미터 업데이트\n",
    "                optimizer.zero_grad()  # 누적된 그래디언트 초기화\n",
    "            \n",
    "            # 손실값 누적 (스케일링 복구)\n",
    "            epoch_loss += loss.item() * accumulation_steps  # 실제 손실값 반영\n",
    "            pbar.set_postfix(loss=loss.item() * accumulation_steps)  # 실제 손실값 출력\n",
    "    avg_loss = epoch_loss / len(train_loader)\n",
    "    wandb.log({'train_epoch_loss': avg_loss, 'epoch': epoch + 1})\n",
    "    return avg_loss\n",
    "\n",
    "\n",
    "def validate_one_epoch(model, val_loader, criterion, device, epoch, calculate_dice_interval):\n",
    "    model.eval()\n",
    "    val_loss = 0\n",
    "    \n",
    "    class_dice_scores = {i: [] for i in range(n_classes)}\n",
    "    class_f_beta_scores = {i: [] for i in range(n_classes)}\n",
    "    with torch.no_grad():\n",
    "        with tqdm(val_loader, desc='Validation') as pbar:\n",
    "            for batch_data in pbar:\n",
    "                loss, _, labels, preds = processing(batch_data, model, criterion, device)\n",
    "                val_loss += loss.item()\n",
    "                pbar.set_postfix(loss=loss.item())\n",
    "\n",
    "                # 각 클래스별 Dice 점수 계산\n",
    "                if epoch % calculate_dice_interval == 0:\n",
    "                    for i in range(n_classes):\n",
    "                        pred_i = (preds == i)\n",
    "                        label_i = (labels == i)\n",
    "                        dice_score = (2.0 * torch.sum(pred_i & label_i)) / (torch.sum(pred_i) + torch.sum(label_i) + 1e-8)\n",
    "                        class_dice_scores[i].append(dice_score.item())\n",
    "                        precision = (torch.sum(pred_i & label_i) + 1e-8) / (torch.sum(pred_i) + 1e-8)\n",
    "                        recall = (torch.sum(pred_i & label_i) + 1e-8) / (torch.sum(label_i) + 1e-8)\n",
    "                        f_beta_score = (1 + 4**2) * (precision * recall) / (4**2 * precision + recall + 1e-8)\n",
    "                        class_f_beta_scores[i].append(f_beta_score.item())\n",
    "\n",
    "    avg_loss = val_loss / len(val_loader)\n",
    "    # 에포크별 평균 손실 로깅\n",
    "    wandb.log({'val_epoch_loss': avg_loss, 'epoch': epoch + 1})\n",
    "    \n",
    "    # 각 클래스별 평균 Dice 점수 출력\n",
    "    if epoch % calculate_dice_interval == 0:\n",
    "        print(\"Validation Dice Score\")\n",
    "        all_classes_dice_scores = []\n",
    "        for i in range(n_classes):\n",
    "            mean_dice = np.mean(class_dice_scores[i])\n",
    "            wandb.log({f'class_{i}_dice_score': mean_dice, 'epoch': epoch + 1})\n",
    "            print(f\"Class {i}: {mean_dice:.4f}\", end=\", \")\n",
    "            if i not in [0, 2]:  # 평균에 포함할 클래스만 추가\n",
    "                all_classes_dice_scores.append(mean_dice)\n",
    "            \n",
    "        print()\n",
    "    if epoch % calculate_dice_interval == 0:\n",
    "        print(\"Validation F-beta Score\")\n",
    "        all_classes_fbeta_scores = []\n",
    "        for i in range(n_classes):\n",
    "            mean_fbeta = np.mean(class_f_beta_scores[i])\n",
    "            wandb.log({f'class_{i}_f_beta_score': mean_fbeta, 'epoch': epoch + 1})\n",
    "            print(f\"Class {i}: {mean_fbeta:.4f}\", end=\", \")\n",
    "            if i not in [0, 2]:  # 평균에 포함할 클래스만 추가\n",
    "                all_classes_fbeta_scores.append(mean_fbeta)\n",
    "                \n",
    "        print()\n",
    "        overall_mean_dice = np.mean(all_classes_dice_scores)\n",
    "        overall_mean_fbeta = np.mean(all_classes_fbeta_scores)\n",
    "        wandb.log({'overall_mean_f_beta_score': overall_mean_fbeta, 'overall_mean_dice_score': overall_mean_dice, 'epoch': epoch + 1})\n",
    "        print(f\"\\nOverall Mean Dice Score: {overall_mean_dice:.4f}\\nOverall Mean F-beta Score: {overall_mean_fbeta:.4f}\\n\")\n",
    "\n",
    "    if overall_mean_fbeta is None:\n",
    "        overall_mean_fbeta = 0\n",
    "\n",
    "    return val_loss / len(val_loader), overall_mean_fbeta\n",
    "\n",
    "def train_model(\n",
    "    model, train_loader, val_loader, criterion, optimizer, num_epochs, patience, \n",
    "    device, start_epoch, best_val_loss, best_val_fbeta_score, calculate_dice_interval=1,\n",
    "    accumulation_steps=4\n",
    "):\n",
    "    \"\"\"\n",
    "    모델을 학습하고 검증하는 함수\n",
    "    Args:\n",
    "        model: 학습할 모델\n",
    "        train_loader: 학습 데이터 로더\n",
    "        val_loader: 검증 데이터 로더\n",
    "        criterion: 손실 함수\n",
    "        optimizer: 최적화 알고리즘\n",
    "        num_epochs: 총 학습 epoch 수\n",
    "        patience: early stopping 기준\n",
    "        device: GPU/CPU 장치\n",
    "        start_epoch: 시작 epoch\n",
    "        best_val_loss: 이전 최적 validation loss\n",
    "        best_val_fbeta_score: 이전 최적 validation f-beta score\n",
    "        calculate_dice_interval: Dice 점수 계산 주기\n",
    "    \"\"\"\n",
    "    epochs_no_improve = 0\n",
    "\n",
    "    for epoch in range(start_epoch, num_epochs):\n",
    "        print(f\"Epoch {epoch + 1}/{num_epochs}\")\n",
    "\n",
    "        # Train One Epoch\n",
    "        train_loss = train_one_epoch(\n",
    "            model=model, \n",
    "            train_loader=train_loader, \n",
    "            criterion=criterion, \n",
    "            optimizer=optimizer, \n",
    "            device=device,\n",
    "            epoch=epoch,\n",
    "            accumulation_steps= accumulation_steps\n",
    "        )\n",
    "        \n",
    "        scheduler.step(train_loss)\n",
    "        # Validate One Epoch\n",
    "        val_loss, overall_mean_fbeta_score = validate_one_epoch(\n",
    "            model=model, \n",
    "            val_loader=val_loader, \n",
    "            criterion=criterion, \n",
    "            device=device, \n",
    "            epoch=epoch, \n",
    "            calculate_dice_interval=calculate_dice_interval\n",
    "        )\n",
    "\n",
    "        \n",
    "        print(f\"Training Loss: {train_loss:.4f}, Validation Loss: {val_loss:.4f}, Validation F-beta: {overall_mean_fbeta_score:.4f}\")\n",
    "\n",
    "        if val_loss < best_val_loss and overall_mean_fbeta_score > best_val_fbeta_score:\n",
    "            best_val_loss = val_loss\n",
    "            best_val_fbeta_score = overall_mean_fbeta_score\n",
    "            epochs_no_improve = 0\n",
    "            checkpoint_path = os.path.join(checkpoint_dir, 'best_model.pt')\n",
    "            torch.save({\n",
    "                'epoch': epoch + 1,\n",
    "                'model_state_dict': model.state_dict(),\n",
    "                'optimizer_state_dict': optimizer.state_dict(),\n",
    "                'best_val_loss': best_val_loss,\n",
    "                'best_val_fbeta_score': best_val_fbeta_score\n",
    "            }, checkpoint_path)\n",
    "            print(f\"========================================================\")\n",
    "            print(f\"SUPER Best model saved. Loss:{best_val_loss:.4f}, Score:{best_val_fbeta_score:.4f}\")\n",
    "            print(f\"========================================================\")\n",
    "\n",
    "        # Early stopping 조건 체크\n",
    "        if val_loss >= best_val_loss and overall_mean_fbeta_score <= best_val_fbeta_score:\n",
    "            epochs_no_improve += 1\n",
    "        else:\n",
    "            epochs_no_improve = 0\n",
    "\n",
    "        if epochs_no_improve >= patience:\n",
    "            print(\"Early stopping\")\n",
    "            checkpoint_path = os.path.join(checkpoint_dir, 'last.pt')\n",
    "            torch.save({\n",
    "                'epoch': epoch + 1,\n",
    "                'model_state_dict': model.state_dict(),\n",
    "                'optimizer_state_dict': optimizer.state_dict(),\n",
    "                'best_val_loss': best_val_loss,\n",
    "                'best_val_fbeta_score': best_val_fbeta_score\n",
    "            }, checkpoint_path)\n",
    "            break\n",
    "        if epochs_no_improve%6 == 0 & epochs_no_improve != 0:\n",
    "            # 손실이 개선되지 않았으므로 lambda 감소\n",
    "            new_lamda = max(criterion.lamda - 0.01, 0.35)  # 최소값은 0.1로 설정\n",
    "            criterion.set_lamda(new_lamda)\n",
    "            print(f\"Validation loss did not improve. Reducing lambda to {new_lamda:.4f}\")\n",
    "\n",
    "    wandb.finish()\n"
   ]
  },
  {
   "cell_type": "code",
   "execution_count": null,
   "metadata": {},
   "outputs": [
    {
     "name": "stdout",
     "output_type": "stream",
     "text": [
      "Epoch 5/4000\n"
     ]
    },
    {
     "name": "stderr",
     "output_type": "stream",
     "text": [
      "Training:   0%|          | 0/480 [00:00<?, ?it/s]c:\\Users\\pook0\\.conda\\envs\\UM\\Lib\\site-packages\\torch\\utils\\checkpoint.py:1399: FutureWarning: `torch.cpu.amp.autocast(args...)` is deprecated. Please use `torch.amp.autocast('cpu', args...)` instead.\n",
      "  with device_autocast_ctx, torch.cpu.amp.autocast(**cpu_autocast_kwargs), recompute_context:  # type: ignore[attr-defined]\n",
      "Training: 100%|██████████| 480/480 [12:31<00:00,  1.57s/it, loss=0.425]\n",
      "Validation: 100%|██████████| 12/12 [00:08<00:00,  1.41it/s, loss=0.456]\n"
     ]
    },
    {
     "name": "stdout",
     "output_type": "stream",
     "text": [
      "Validation Dice Score\n",
      "Class 0: 0.9878, Class 1: 0.0591, Class 2: 0.0000, Class 3: 0.0017, Class 4: 0.3029, Class 5: 0.0269, Class 6: 0.2490, \n",
      "Validation F-beta Score\n",
      "Class 0: 0.9914, Class 1: 0.0370, Class 2: 0.0000, Class 3: 0.0009, Class 4: 0.3107, Class 5: 0.0173, Class 6: 0.2555, \n",
      "\n",
      "Overall Mean Dice Score: 0.1279\n",
      "Overall Mean F-beta Score: 0.1243\n",
      "\n",
      "Training Loss: 0.4416, Validation Loss: 0.4468, Validation F-beta: 0.1243\n",
      "Epoch 6/4000\n"
     ]
    },
    {
     "name": "stderr",
     "output_type": "stream",
     "text": [
      "Training: 100%|██████████| 480/480 [12:08<00:00,  1.52s/it, loss=0.431]\n",
      "Validation: 100%|██████████| 12/12 [00:08<00:00,  1.43it/s, loss=0.422]\n"
     ]
    },
    {
     "name": "stdout",
     "output_type": "stream",
     "text": [
      "Validation Dice Score\n",
      "Class 0: 0.9871, Class 1: 0.0172, Class 2: 0.0000, Class 3: 0.0577, Class 4: 0.2694, Class 5: 0.0669, Class 6: 0.2933, \n",
      "Validation F-beta Score\n",
      "Class 0: 0.9915, Class 1: 0.1163, Class 2: 0.0833, Class 3: 0.0863, Class 4: 0.2177, Class 5: 0.0527, Class 6: 0.2972, \n",
      "\n",
      "Overall Mean Dice Score: 0.1409\n",
      "Overall Mean F-beta Score: 0.1540\n",
      "\n",
      "Training Loss: 0.4348, Validation Loss: 0.4439, Validation F-beta: 0.1540\n",
      "Epoch 7/4000\n"
     ]
    },
    {
     "name": "stderr",
     "output_type": "stream",
     "text": [
      "Training: 100%|██████████| 480/480 [12:10<00:00,  1.52s/it, loss=0.42] \n",
      "Validation: 100%|██████████| 12/12 [00:08<00:00,  1.42it/s, loss=0.454]\n"
     ]
    },
    {
     "name": "stdout",
     "output_type": "stream",
     "text": [
      "Validation Dice Score\n",
      "Class 0: 0.9872, Class 1: 0.0740, Class 2: 0.0000, Class 3: 0.0014, Class 4: 0.4118, Class 5: 0.0276, Class 6: 0.3244, \n",
      "Validation F-beta Score\n",
      "Class 0: 0.9950, Class 1: 0.0524, Class 2: 0.2500, Class 3: 0.0841, Class 4: 0.4278, Class 5: 0.0158, Class 6: 0.2695, \n",
      "\n",
      "Overall Mean Dice Score: 0.1679\n",
      "Overall Mean F-beta Score: 0.1699\n",
      "\n",
      "Training Loss: 0.4317, Validation Loss: 0.4422, Validation F-beta: 0.1699\n",
      "========================================================\n",
      "SUPER Best model saved. Loss:0.4422, Score:0.1699\n",
      "========================================================\n",
      "Epoch 8/4000\n"
     ]
    },
    {
     "name": "stderr",
     "output_type": "stream",
     "text": [
      "Training: 100%|██████████| 480/480 [12:10<00:00,  1.52s/it, loss=0.45] \n",
      "Validation: 100%|██████████| 12/12 [00:08<00:00,  1.43it/s, loss=0.429]\n"
     ]
    },
    {
     "name": "stdout",
     "output_type": "stream",
     "text": [
      "Validation Dice Score\n",
      "Class 0: 0.9893, Class 1: 0.0133, Class 2: 0.0000, Class 3: 0.0384, Class 4: 0.3107, Class 5: 0.0349, Class 6: 0.4911, \n",
      "Validation F-beta Score\n",
      "Class 0: 0.9945, Class 1: 0.0082, Class 2: 0.2500, Class 3: 0.0334, Class 4: 0.3450, Class 5: 0.0204, Class 6: 0.3866, \n",
      "\n",
      "Overall Mean Dice Score: 0.1777\n",
      "Overall Mean F-beta Score: 0.1587\n",
      "\n",
      "Training Loss: 0.4269, Validation Loss: 0.4373, Validation F-beta: 0.1587\n",
      "Epoch 9/4000\n"
     ]
    },
    {
     "name": "stderr",
     "output_type": "stream",
     "text": [
      "Training: 100%|██████████| 480/480 [12:10<00:00,  1.52s/it, loss=0.416]\n",
      "Validation: 100%|██████████| 12/12 [00:08<00:00,  1.44it/s, loss=0.383]\n"
     ]
    },
    {
     "name": "stdout",
     "output_type": "stream",
     "text": [
      "Validation Dice Score\n",
      "Class 0: 0.9796, Class 1: 0.1100, Class 2: 0.0000, Class 3: 0.2189, Class 4: 0.3798, Class 5: 0.1323, Class 6: 0.4624, \n",
      "Validation F-beta Score\n",
      "Class 0: 0.9738, Class 1: 0.1544, Class 2: 0.1667, Class 3: 0.3065, Class 4: 0.4945, Class 5: 0.1138, Class 6: 0.4772, \n",
      "\n",
      "Overall Mean Dice Score: 0.2607\n",
      "Overall Mean F-beta Score: 0.3093\n",
      "\n",
      "Training Loss: 0.4236, Validation Loss: 0.4202, Validation F-beta: 0.3093\n",
      "========================================================\n",
      "SUPER Best model saved. Loss:0.4202, Score:0.3093\n",
      "========================================================\n",
      "Epoch 10/4000\n"
     ]
    },
    {
     "name": "stderr",
     "output_type": "stream",
     "text": [
      "Training: 100%|██████████| 480/480 [12:09<00:00,  1.52s/it, loss=0.422]\n",
      "Validation: 100%|██████████| 12/12 [00:08<00:00,  1.44it/s, loss=0.395]\n"
     ]
    },
    {
     "name": "stdout",
     "output_type": "stream",
     "text": [
      "Validation Dice Score\n",
      "Class 0: 0.9882, Class 1: 0.0698, Class 2: 0.0000, Class 3: 0.0876, Class 4: 0.2637, Class 5: 0.1374, Class 6: 0.5930, \n",
      "Validation F-beta Score\n",
      "Class 0: 0.9917, Class 1: 0.0666, Class 2: 0.0833, Class 3: 0.0641, Class 4: 0.2192, Class 5: 0.1042, Class 6: 0.6223, \n",
      "\n",
      "Overall Mean Dice Score: 0.2303\n",
      "Overall Mean F-beta Score: 0.2153\n",
      "\n",
      "Training Loss: 0.4201, Validation Loss: 0.4165, Validation F-beta: 0.2153\n",
      "Epoch 11/4000\n"
     ]
    },
    {
     "name": "stderr",
     "output_type": "stream",
     "text": [
      "Training: 100%|██████████| 480/480 [12:11<00:00,  1.52s/it, loss=0.407]\n",
      "Validation: 100%|██████████| 12/12 [00:08<00:00,  1.45it/s, loss=0.429]\n"
     ]
    },
    {
     "name": "stdout",
     "output_type": "stream",
     "text": [
      "Validation Dice Score\n",
      "Class 0: 0.9869, Class 1: 0.1056, Class 2: 0.0000, Class 3: 0.0696, Class 4: 0.2586, Class 5: 0.1895, Class 6: 0.3433, \n",
      "Validation F-beta Score\n",
      "Class 0: 0.9883, Class 1: 0.1095, Class 2: 0.2500, Class 3: 0.0597, Class 4: 0.3310, Class 5: 0.1459, Class 6: 0.4740, \n",
      "\n",
      "Overall Mean Dice Score: 0.1933\n",
      "Overall Mean F-beta Score: 0.2240\n",
      "\n",
      "Training Loss: 0.4149, Validation Loss: 0.4291, Validation F-beta: 0.2240\n",
      "Epoch 12/4000\n"
     ]
    },
    {
     "name": "stderr",
     "output_type": "stream",
     "text": [
      "Training: 100%|██████████| 480/480 [12:10<00:00,  1.52s/it, loss=0.39] \n",
      "Validation: 100%|██████████| 12/12 [00:08<00:00,  1.44it/s, loss=0.384]\n"
     ]
    },
    {
     "name": "stdout",
     "output_type": "stream",
     "text": [
      "Validation Dice Score\n",
      "Class 0: 0.9868, Class 1: 0.1494, Class 2: 0.0000, Class 3: 0.1691, Class 4: 0.3289, Class 5: 0.1997, Class 6: 0.4169, \n",
      "Validation F-beta Score\n",
      "Class 0: 0.9884, Class 1: 0.1784, Class 2: 0.5833, Class 3: 0.1618, Class 4: 0.2980, Class 5: 0.1763, Class 6: 0.4436, \n",
      "\n",
      "Overall Mean Dice Score: 0.2528\n",
      "Overall Mean F-beta Score: 0.2516\n",
      "\n",
      "Training Loss: 0.4107, Validation Loss: 0.4060, Validation F-beta: 0.2516\n",
      "Epoch 13/4000\n"
     ]
    },
    {
     "name": "stderr",
     "output_type": "stream",
     "text": [
      "Training: 100%|██████████| 480/480 [12:12<00:00,  1.53s/it, loss=0.377]\n",
      "Validation: 100%|██████████| 12/12 [00:08<00:00,  1.46it/s, loss=0.421]\n"
     ]
    },
    {
     "name": "stdout",
     "output_type": "stream",
     "text": [
      "Validation Dice Score\n",
      "Class 0: 0.9845, Class 1: 0.2036, Class 2: 0.0000, Class 3: 0.0991, Class 4: 0.3550, Class 5: 0.2100, Class 6: 0.4340, \n",
      "Validation F-beta Score\n",
      "Class 0: 0.9841, Class 1: 0.2630, Class 2: 0.2500, Class 3: 0.1008, Class 4: 0.4252, Class 5: 0.1742, Class 6: 0.4342, \n",
      "\n",
      "Overall Mean Dice Score: 0.2603\n",
      "Overall Mean F-beta Score: 0.2795\n",
      "\n",
      "Training Loss: 0.4089, Validation Loss: 0.4092, Validation F-beta: 0.2795\n",
      "Epoch 14/4000\n"
     ]
    },
    {
     "name": "stderr",
     "output_type": "stream",
     "text": [
      "Training: 100%|██████████| 480/480 [12:11<00:00,  1.52s/it, loss=0.392]\n",
      "Validation: 100%|██████████| 12/12 [00:08<00:00,  1.43it/s, loss=0.359]\n"
     ]
    },
    {
     "name": "stdout",
     "output_type": "stream",
     "text": [
      "Validation Dice Score\n",
      "Class 0: 0.9834, Class 1: 0.2833, Class 2: 0.0000, Class 3: 0.2216, Class 4: 0.3145, Class 5: 0.1872, Class 6: 0.5337, \n",
      "Validation F-beta Score\n",
      "Class 0: 0.9809, Class 1: 0.3619, Class 2: 0.3333, Class 3: 0.2193, Class 4: 0.3750, Class 5: 0.1552, Class 6: 0.5490, \n",
      "\n",
      "Overall Mean Dice Score: 0.3081\n",
      "Overall Mean F-beta Score: 0.3321\n",
      "\n",
      "Training Loss: 0.4034, Validation Loss: 0.3983, Validation F-beta: 0.3321\n",
      "========================================================\n",
      "SUPER Best model saved. Loss:0.3983, Score:0.3321\n",
      "========================================================\n",
      "Epoch 15/4000\n"
     ]
    },
    {
     "name": "stderr",
     "output_type": "stream",
     "text": [
      "Training: 100%|██████████| 480/480 [12:08<00:00,  1.52s/it, loss=0.393]\n",
      "Validation: 100%|██████████| 12/12 [00:08<00:00,  1.45it/s, loss=0.448]\n"
     ]
    },
    {
     "name": "stdout",
     "output_type": "stream",
     "text": [
      "Validation Dice Score\n",
      "Class 0: 0.9888, Class 1: 0.1795, Class 2: 0.0000, Class 3: 0.0806, Class 4: 0.5216, Class 5: 0.0963, Class 6: 0.4572, \n",
      "Validation F-beta Score\n",
      "Class 0: 0.9930, Class 1: 0.2711, Class 2: 0.2500, Class 3: 0.0535, Class 4: 0.4902, Class 5: 0.0648, Class 6: 0.4431, \n",
      "\n",
      "Overall Mean Dice Score: 0.2670\n",
      "Overall Mean F-beta Score: 0.2645\n",
      "\n",
      "Training Loss: 0.3971, Validation Loss: 0.4065, Validation F-beta: 0.2645\n",
      "Epoch 16/4000\n"
     ]
    },
    {
     "name": "stderr",
     "output_type": "stream",
     "text": [
      "Training: 100%|██████████| 480/480 [12:07<00:00,  1.52s/it, loss=0.387]\n",
      "Validation: 100%|██████████| 12/12 [00:08<00:00,  1.45it/s, loss=0.346]\n"
     ]
    },
    {
     "name": "stdout",
     "output_type": "stream",
     "text": [
      "Validation Dice Score\n",
      "Class 0: 0.9879, Class 1: 0.3945, Class 2: 0.0000, Class 3: 0.2260, Class 4: 0.5129, Class 5: 0.1258, Class 6: 0.4256, \n",
      "Validation F-beta Score\n",
      "Class 0: 0.9907, Class 1: 0.4270, Class 2: 0.1667, Class 3: 0.1818, Class 4: 0.4723, Class 5: 0.1029, Class 6: 0.3810, \n",
      "\n",
      "Overall Mean Dice Score: 0.3370\n",
      "Overall Mean F-beta Score: 0.3130\n",
      "\n",
      "Training Loss: 0.3929, Validation Loss: 0.3889, Validation F-beta: 0.3130\n",
      "Epoch 17/4000\n"
     ]
    },
    {
     "name": "stderr",
     "output_type": "stream",
     "text": [
      "Training: 100%|██████████| 480/480 [12:07<00:00,  1.52s/it, loss=0.393]\n",
      "Validation: 100%|██████████| 12/12 [00:08<00:00,  1.50it/s, loss=0.401]\n"
     ]
    },
    {
     "name": "stdout",
     "output_type": "stream",
     "text": [
      "Validation Dice Score\n",
      "Class 0: 0.9900, Class 1: 0.2769, Class 2: 0.0586, Class 3: 0.1909, Class 4: 0.3627, Class 5: 0.1657, Class 6: 0.3216, \n",
      "Validation F-beta Score\n",
      "Class 0: 0.9916, Class 1: 0.4531, Class 2: 0.0409, Class 3: 0.1942, Class 4: 0.3455, Class 5: 0.1492, Class 6: 0.3192, \n",
      "\n",
      "Overall Mean Dice Score: 0.2636\n",
      "Overall Mean F-beta Score: 0.2922\n",
      "\n",
      "Training Loss: 0.3885, Validation Loss: 0.4013, Validation F-beta: 0.2922\n",
      "Epoch 18/4000\n"
     ]
    },
    {
     "name": "stderr",
     "output_type": "stream",
     "text": [
      "Training: 100%|██████████| 480/480 [12:06<00:00,  1.51s/it, loss=0.37] \n",
      "Validation: 100%|██████████| 12/12 [00:08<00:00,  1.45it/s, loss=0.393]\n"
     ]
    },
    {
     "name": "stdout",
     "output_type": "stream",
     "text": [
      "Validation Dice Score\n",
      "Class 0: 0.9873, Class 1: 0.3367, Class 2: 0.0365, Class 3: 0.1790, Class 4: 0.3430, Class 5: 0.1976, Class 6: 0.4780, \n",
      "Validation F-beta Score\n",
      "Class 0: 0.9902, Class 1: 0.3781, Class 2: 0.0336, Class 3: 0.1682, Class 4: 0.3057, Class 5: 0.1646, Class 6: 0.5101, \n",
      "\n",
      "Overall Mean Dice Score: 0.3069\n",
      "Overall Mean F-beta Score: 0.3053\n",
      "\n",
      "Training Loss: 0.3850, Validation Loss: 0.3921, Validation F-beta: 0.3053\n",
      "Epoch 19/4000\n"
     ]
    },
    {
     "name": "stderr",
     "output_type": "stream",
     "text": [
      "Training: 100%|██████████| 480/480 [12:08<00:00,  1.52s/it, loss=0.384]\n",
      "Validation: 100%|██████████| 12/12 [00:08<00:00,  1.46it/s, loss=0.322]\n"
     ]
    },
    {
     "name": "stdout",
     "output_type": "stream",
     "text": [
      "Validation Dice Score\n",
      "Class 0: 0.9856, Class 1: 0.3990, Class 2: 0.0212, Class 3: 0.2446, Class 4: 0.5294, Class 5: 0.2919, Class 6: 0.4192, \n",
      "Validation F-beta Score\n",
      "Class 0: 0.9832, Class 1: 0.3548, Class 2: 0.0132, Class 3: 0.1868, Class 4: 0.5623, Class 5: 0.3270, Class 6: 0.4622, \n",
      "\n",
      "Overall Mean Dice Score: 0.3768\n",
      "Overall Mean F-beta Score: 0.3786\n",
      "\n",
      "Training Loss: 0.3824, Validation Loss: 0.3794, Validation F-beta: 0.3786\n",
      "========================================================\n",
      "SUPER Best model saved. Loss:0.3794, Score:0.3786\n",
      "========================================================\n",
      "Epoch 20/4000\n"
     ]
    },
    {
     "name": "stderr",
     "output_type": "stream",
     "text": [
      "Training: 100%|██████████| 480/480 [12:09<00:00,  1.52s/it, loss=0.38] \n",
      "Validation: 100%|██████████| 12/12 [00:08<00:00,  1.44it/s, loss=0.35] \n"
     ]
    },
    {
     "name": "stdout",
     "output_type": "stream",
     "text": [
      "Validation Dice Score\n",
      "Class 0: 0.9872, Class 1: 0.4673, Class 2: 0.0534, Class 3: 0.2273, Class 4: 0.2551, Class 5: 0.2574, Class 6: 0.5223, \n",
      "Validation F-beta Score\n",
      "Class 0: 0.9868, Class 1: 0.4886, Class 2: 0.0453, Class 3: 0.2259, Class 4: 0.2823, Class 5: 0.2580, Class 6: 0.5839, \n",
      "\n",
      "Overall Mean Dice Score: 0.3459\n",
      "Overall Mean F-beta Score: 0.3678\n",
      "\n",
      "Training Loss: 0.3800, Validation Loss: 0.3837, Validation F-beta: 0.3678\n",
      "Epoch 21/4000\n"
     ]
    },
    {
     "name": "stderr",
     "output_type": "stream",
     "text": [
      "Training: 100%|██████████| 480/480 [12:08<00:00,  1.52s/it, loss=0.394]\n",
      "Validation: 100%|██████████| 12/12 [00:08<00:00,  1.45it/s, loss=0.357]\n"
     ]
    },
    {
     "name": "stdout",
     "output_type": "stream",
     "text": [
      "Validation Dice Score\n",
      "Class 0: 0.9903, Class 1: 0.3763, Class 2: 0.0246, Class 3: 0.2014, Class 4: 0.4906, Class 5: 0.2775, Class 6: 0.3991, \n",
      "Validation F-beta Score\n",
      "Class 0: 0.9918, Class 1: 0.4352, Class 2: 0.0231, Class 3: 0.2238, Class 4: 0.5566, Class 5: 0.2396, Class 6: 0.4577, \n",
      "\n",
      "Overall Mean Dice Score: 0.3490\n",
      "Overall Mean F-beta Score: 0.3826\n",
      "\n",
      "Training Loss: 0.3804, Validation Loss: 0.3780, Validation F-beta: 0.3826\n",
      "========================================================\n",
      "SUPER Best model saved. Loss:0.3780, Score:0.3826\n",
      "========================================================\n",
      "Epoch 22/4000\n"
     ]
    },
    {
     "name": "stderr",
     "output_type": "stream",
     "text": [
      "Training: 100%|██████████| 480/480 [12:07<00:00,  1.52s/it, loss=0.393]\n",
      "Validation: 100%|██████████| 12/12 [00:08<00:00,  1.46it/s, loss=0.402]\n"
     ]
    },
    {
     "name": "stdout",
     "output_type": "stream",
     "text": [
      "Validation Dice Score\n",
      "Class 0: 0.9926, Class 1: 0.4226, Class 2: 0.0412, Class 3: 0.1877, Class 4: 0.3221, Class 5: 0.2210, Class 6: 0.6134, \n",
      "Validation F-beta Score\n",
      "Class 0: 0.9966, Class 1: 0.4811, Class 2: 0.0272, Class 3: 0.1674, Class 4: 0.2478, Class 5: 0.1590, Class 6: 0.6448, \n",
      "\n",
      "Overall Mean Dice Score: 0.3533\n",
      "Overall Mean F-beta Score: 0.3400\n",
      "\n",
      "Training Loss: 0.3745, Validation Loss: 0.3689, Validation F-beta: 0.3400\n",
      "Epoch 23/4000\n"
     ]
    },
    {
     "name": "stderr",
     "output_type": "stream",
     "text": [
      "Training: 100%|██████████| 480/480 [12:08<00:00,  1.52s/it, loss=0.346]\n",
      "Validation: 100%|██████████| 12/12 [00:08<00:00,  1.44it/s, loss=0.465]\n"
     ]
    },
    {
     "name": "stdout",
     "output_type": "stream",
     "text": [
      "Validation Dice Score\n",
      "Class 0: 0.9904, Class 1: 0.3733, Class 2: 0.0621, Class 3: 0.1650, Class 4: 0.4348, Class 5: 0.2143, Class 6: 0.6465, \n",
      "Validation F-beta Score\n",
      "Class 0: 0.9957, Class 1: 0.3841, Class 2: 0.0519, Class 3: 0.2533, Class 4: 0.3762, Class 5: 0.1521, Class 6: 0.6264, \n",
      "\n",
      "Overall Mean Dice Score: 0.3668\n",
      "Overall Mean F-beta Score: 0.3584\n",
      "\n",
      "Training Loss: 0.3760, Validation Loss: 0.3808, Validation F-beta: 0.3584\n",
      "Epoch 24/4000\n"
     ]
    },
    {
     "name": "stderr",
     "output_type": "stream",
     "text": [
      "Training: 100%|██████████| 480/480 [12:06<00:00,  1.51s/it, loss=0.372]\n",
      "Validation: 100%|██████████| 12/12 [00:08<00:00,  1.45it/s, loss=0.374]\n"
     ]
    },
    {
     "name": "stdout",
     "output_type": "stream",
     "text": [
      "Validation Dice Score\n",
      "Class 0: 0.9891, Class 1: 0.3992, Class 2: 0.0505, Class 3: 0.3499, Class 4: 0.4635, Class 5: 0.1898, Class 6: 0.3952, \n",
      "Validation F-beta Score\n",
      "Class 0: 0.9920, Class 1: 0.4090, Class 2: 0.0450, Class 3: 0.4021, Class 4: 0.4056, Class 5: 0.1638, Class 6: 0.3974, \n",
      "\n",
      "Overall Mean Dice Score: 0.3595\n",
      "Overall Mean F-beta Score: 0.3556\n",
      "\n",
      "Training Loss: 0.3718, Validation Loss: 0.3668, Validation F-beta: 0.3556\n",
      "Epoch 25/4000\n"
     ]
    },
    {
     "name": "stderr",
     "output_type": "stream",
     "text": [
      "Training: 100%|██████████| 480/480 [12:08<00:00,  1.52s/it, loss=0.356]\n",
      "Validation: 100%|██████████| 12/12 [00:08<00:00,  1.46it/s, loss=0.297]\n"
     ]
    },
    {
     "name": "stdout",
     "output_type": "stream",
     "text": [
      "Validation Dice Score\n",
      "Class 0: 0.9904, Class 1: 0.3492, Class 2: 0.0738, Class 3: 0.2229, Class 4: 0.4371, Class 5: 0.3284, Class 6: 0.4863, \n",
      "Validation F-beta Score\n",
      "Class 0: 0.9910, Class 1: 0.4171, Class 2: 0.0583, Class 3: 0.2076, Class 4: 0.4098, Class 5: 0.2925, Class 6: 0.5615, \n",
      "\n",
      "Overall Mean Dice Score: 0.3648\n",
      "Overall Mean F-beta Score: 0.3777\n",
      "\n",
      "Training Loss: 0.3687, Validation Loss: 0.3664, Validation F-beta: 0.3777\n",
      "Epoch 26/4000\n"
     ]
    },
    {
     "name": "stderr",
     "output_type": "stream",
     "text": [
      "Training: 100%|██████████| 480/480 [12:08<00:00,  1.52s/it, loss=0.332]\n",
      "Validation: 100%|██████████| 12/12 [00:08<00:00,  1.46it/s, loss=0.379]\n"
     ]
    },
    {
     "name": "stdout",
     "output_type": "stream",
     "text": [
      "Validation Dice Score\n",
      "Class 0: 0.9905, Class 1: 0.5078, Class 2: 0.0259, Class 3: 0.2299, Class 4: 0.6097, Class 5: 0.2705, Class 6: 0.5998, \n",
      "Validation F-beta Score\n",
      "Class 0: 0.9922, Class 1: 0.6712, Class 2: 0.0183, Class 3: 0.2076, Class 4: 0.5858, Class 5: 0.2398, Class 6: 0.6379, \n",
      "\n",
      "Overall Mean Dice Score: 0.4435\n",
      "Overall Mean F-beta Score: 0.4684\n",
      "\n",
      "Training Loss: 0.3676, Validation Loss: 0.3603, Validation F-beta: 0.4684\n",
      "========================================================\n",
      "SUPER Best model saved. Loss:0.3603, Score:0.4684\n",
      "========================================================\n",
      "Epoch 27/4000\n"
     ]
    },
    {
     "name": "stderr",
     "output_type": "stream",
     "text": [
      "Training: 100%|██████████| 480/480 [12:09<00:00,  1.52s/it, loss=0.324]\n",
      "Validation: 100%|██████████| 12/12 [00:08<00:00,  1.42it/s, loss=0.363]\n"
     ]
    },
    {
     "name": "stdout",
     "output_type": "stream",
     "text": [
      "Validation Dice Score\n",
      "Class 0: 0.9880, Class 1: 0.2476, Class 2: 0.0809, Class 3: 0.2985, Class 4: 0.4960, Class 5: 0.3253, Class 6: 0.5420, \n",
      "Validation F-beta Score\n",
      "Class 0: 0.9839, Class 1: 0.3574, Class 2: 0.0630, Class 3: 0.4228, Class 4: 0.5834, Class 5: 0.3440, Class 6: 0.6851, \n",
      "\n",
      "Overall Mean Dice Score: 0.3819\n",
      "Overall Mean F-beta Score: 0.4785\n",
      "\n",
      "Training Loss: 0.3683, Validation Loss: 0.3704, Validation F-beta: 0.4785\n",
      "Epoch 28/4000\n"
     ]
    },
    {
     "name": "stderr",
     "output_type": "stream",
     "text": [
      "Training: 100%|██████████| 480/480 [12:07<00:00,  1.52s/it, loss=0.345]\n",
      "Validation: 100%|██████████| 12/12 [00:08<00:00,  1.45it/s, loss=0.309]\n"
     ]
    },
    {
     "name": "stdout",
     "output_type": "stream",
     "text": [
      "Validation Dice Score\n",
      "Class 0: 0.9900, Class 1: 0.4540, Class 2: 0.0341, Class 3: 0.2460, Class 4: 0.4367, Class 5: 0.3003, Class 6: 0.3584, \n",
      "Validation F-beta Score\n",
      "Class 0: 0.9897, Class 1: 0.4855, Class 2: 0.0288, Class 3: 0.2307, Class 4: 0.5069, Class 5: 0.3329, Class 6: 0.4222, \n",
      "\n",
      "Overall Mean Dice Score: 0.3591\n",
      "Overall Mean F-beta Score: 0.3956\n",
      "\n",
      "Training Loss: 0.3668, Validation Loss: 0.3689, Validation F-beta: 0.3956\n",
      "Epoch 29/4000\n"
     ]
    },
    {
     "name": "stderr",
     "output_type": "stream",
     "text": [
      "Training: 100%|██████████| 480/480 [12:08<00:00,  1.52s/it, loss=0.337]\n",
      "Validation: 100%|██████████| 12/12 [00:08<00:00,  1.48it/s, loss=0.405]\n"
     ]
    },
    {
     "name": "stdout",
     "output_type": "stream",
     "text": [
      "Validation Dice Score\n",
      "Class 0: 0.9892, Class 1: 0.5129, Class 2: 0.0480, Class 3: 0.1628, Class 4: 0.5167, Class 5: 0.2276, Class 6: 0.7040, \n",
      "Validation F-beta Score\n",
      "Class 0: 0.9906, Class 1: 0.5502, Class 2: 0.0433, Class 3: 0.2264, Class 4: 0.5880, Class 5: 0.1746, Class 6: 0.7126, \n",
      "\n",
      "Overall Mean Dice Score: 0.4248\n",
      "Overall Mean F-beta Score: 0.4504\n",
      "\n",
      "Training Loss: 0.3642, Validation Loss: 0.3706, Validation F-beta: 0.4504\n",
      "Epoch 30/4000\n"
     ]
    },
    {
     "name": "stderr",
     "output_type": "stream",
     "text": [
      "Training: 100%|██████████| 480/480 [12:08<00:00,  1.52s/it, loss=0.358]\n",
      "Validation: 100%|██████████| 12/12 [00:08<00:00,  1.44it/s, loss=0.377]\n"
     ]
    },
    {
     "name": "stdout",
     "output_type": "stream",
     "text": [
      "Validation Dice Score\n",
      "Class 0: 0.9922, Class 1: 0.3177, Class 2: 0.0809, Class 3: 0.3376, Class 4: 0.5892, Class 5: 0.3024, Class 6: 0.6109, \n",
      "Validation F-beta Score\n",
      "Class 0: 0.9935, Class 1: 0.3913, Class 2: 0.0602, Class 3: 0.2921, Class 4: 0.6465, Class 5: 0.2697, Class 6: 0.6398, \n",
      "\n",
      "Overall Mean Dice Score: 0.4315\n",
      "Overall Mean F-beta Score: 0.4479\n",
      "\n",
      "Training Loss: 0.3629, Validation Loss: 0.3564, Validation F-beta: 0.4479\n",
      "Epoch 31/4000\n"
     ]
    },
    {
     "name": "stderr",
     "output_type": "stream",
     "text": [
      "Training: 100%|██████████| 480/480 [12:08<00:00,  1.52s/it, loss=0.334]\n",
      "Validation: 100%|██████████| 12/12 [00:08<00:00,  1.45it/s, loss=0.372]\n"
     ]
    },
    {
     "name": "stdout",
     "output_type": "stream",
     "text": [
      "Validation Dice Score\n",
      "Class 0: 0.9896, Class 1: 0.4451, Class 2: 0.1218, Class 3: 0.2970, Class 4: 0.5194, Class 5: 0.3463, Class 6: 0.5372, \n",
      "Validation F-beta Score\n",
      "Class 0: 0.9911, Class 1: 0.5218, Class 2: 0.1143, Class 3: 0.4308, Class 4: 0.4401, Class 5: 0.3617, Class 6: 0.6324, \n",
      "\n",
      "Overall Mean Dice Score: 0.4290\n",
      "Overall Mean F-beta Score: 0.4773\n",
      "\n",
      "Training Loss: 0.3587, Validation Loss: 0.3635, Validation F-beta: 0.4773\n",
      "Epoch 32/4000\n"
     ]
    },
    {
     "name": "stderr",
     "output_type": "stream",
     "text": [
      "Training: 100%|██████████| 480/480 [12:08<00:00,  1.52s/it, loss=0.351]\n",
      "Validation: 100%|██████████| 12/12 [00:08<00:00,  1.45it/s, loss=0.374]\n"
     ]
    },
    {
     "name": "stdout",
     "output_type": "stream",
     "text": [
      "Validation Dice Score\n",
      "Class 0: 0.9899, Class 1: 0.4525, Class 2: 0.0468, Class 3: 0.1278, Class 4: 0.3466, Class 5: 0.1402, Class 6: 0.3445, \n",
      "Validation F-beta Score\n",
      "Class 0: 0.9962, Class 1: 0.4172, Class 2: 0.0471, Class 3: 0.0902, Class 4: 0.3471, Class 5: 0.0889, Class 6: 0.3466, \n",
      "\n",
      "Overall Mean Dice Score: 0.2823\n",
      "Overall Mean F-beta Score: 0.2580\n",
      "\n",
      "Training Loss: 0.3620, Validation Loss: 0.3952, Validation F-beta: 0.2580\n",
      "Epoch 33/4000\n"
     ]
    },
    {
     "name": "stderr",
     "output_type": "stream",
     "text": [
      "Training: 100%|██████████| 480/480 [12:08<00:00,  1.52s/it, loss=0.32] \n",
      "Validation: 100%|██████████| 12/12 [00:08<00:00,  1.43it/s, loss=0.316]\n"
     ]
    },
    {
     "name": "stdout",
     "output_type": "stream",
     "text": [
      "Validation Dice Score\n",
      "Class 0: 0.9901, Class 1: 0.4112, Class 2: 0.1001, Class 3: 0.1547, Class 4: 0.2359, Class 5: 0.2087, Class 6: 0.4727, \n",
      "Validation F-beta Score\n",
      "Class 0: 0.9950, Class 1: 0.4757, Class 2: 0.0850, Class 3: 0.1163, Class 4: 0.2614, Class 5: 0.1602, Class 6: 0.5729, \n",
      "\n",
      "Overall Mean Dice Score: 0.2966\n",
      "Overall Mean F-beta Score: 0.3173\n",
      "\n",
      "Training Loss: 0.3613, Validation Loss: 0.3889, Validation F-beta: 0.3173\n",
      "Epoch 34/4000\n"
     ]
    },
    {
     "name": "stderr",
     "output_type": "stream",
     "text": [
      "Training: 100%|██████████| 480/480 [12:08<00:00,  1.52s/it, loss=0.352]\n",
      "Validation: 100%|██████████| 12/12 [00:08<00:00,  1.42it/s, loss=0.365]\n"
     ]
    },
    {
     "name": "stdout",
     "output_type": "stream",
     "text": [
      "Validation Dice Score\n",
      "Class 0: 0.9913, Class 1: 0.5270, Class 2: 0.1142, Class 3: 0.2729, Class 4: 0.4351, Class 5: 0.3136, Class 6: 0.4184, \n",
      "Validation F-beta Score\n",
      "Class 0: 0.9961, Class 1: 0.5641, Class 2: 0.0979, Class 3: 0.2265, Class 4: 0.3607, Class 5: 0.2458, Class 6: 0.4748, \n",
      "\n",
      "Overall Mean Dice Score: 0.3934\n",
      "Overall Mean F-beta Score: 0.3744\n",
      "\n",
      "Training Loss: 0.3588, Validation Loss: 0.3603, Validation F-beta: 0.3744\n",
      "Epoch 35/4000\n"
     ]
    },
    {
     "name": "stderr",
     "output_type": "stream",
     "text": [
      "Training: 100%|██████████| 480/480 [12:09<00:00,  1.52s/it, loss=0.367]\n",
      "Validation: 100%|██████████| 12/12 [00:08<00:00,  1.45it/s, loss=0.34] \n"
     ]
    },
    {
     "name": "stdout",
     "output_type": "stream",
     "text": [
      "Validation Dice Score\n",
      "Class 0: 0.9885, Class 1: 0.3186, Class 2: 0.1376, Class 3: 0.1463, Class 4: 0.5005, Class 5: 0.2219, Class 6: 0.6505, \n",
      "Validation F-beta Score\n",
      "Class 0: 0.9927, Class 1: 0.4142, Class 2: 0.1703, Class 3: 0.2319, Class 4: 0.4328, Class 5: 0.1634, Class 6: 0.6584, \n",
      "\n",
      "Overall Mean Dice Score: 0.3676\n",
      "Overall Mean F-beta Score: 0.3801\n",
      "\n",
      "Training Loss: 0.3570, Validation Loss: 0.3773, Validation F-beta: 0.3801\n",
      "Epoch 36/4000\n"
     ]
    },
    {
     "name": "stderr",
     "output_type": "stream",
     "text": [
      "Training: 100%|██████████| 480/480 [12:09<00:00,  1.52s/it, loss=0.336]\n",
      "Validation: 100%|██████████| 12/12 [00:08<00:00,  1.46it/s, loss=0.391]\n"
     ]
    },
    {
     "name": "stdout",
     "output_type": "stream",
     "text": [
      "Validation Dice Score\n",
      "Class 0: 0.9912, Class 1: 0.5323, Class 2: 0.0631, Class 3: 0.1789, Class 4: 0.5267, Class 5: 0.2719, Class 6: 0.5494, \n",
      "Validation F-beta Score\n",
      "Class 0: 0.9933, Class 1: 0.7016, Class 2: 0.0577, Class 3: 0.3292, Class 4: 0.5614, Class 5: 0.2115, Class 6: 0.5852, \n",
      "\n",
      "Overall Mean Dice Score: 0.4118\n",
      "Overall Mean F-beta Score: 0.4778\n",
      "\n",
      "Training Loss: 0.3550, Validation Loss: 0.3491, Validation F-beta: 0.4778\n",
      "========================================================\n",
      "SUPER Best model saved. Loss:0.3491, Score:0.4778\n",
      "========================================================\n",
      "Epoch 37/4000\n"
     ]
    },
    {
     "name": "stderr",
     "output_type": "stream",
     "text": [
      "Training: 100%|██████████| 480/480 [12:09<00:00,  1.52s/it, loss=0.384]\n",
      "Validation: 100%|██████████| 12/12 [00:08<00:00,  1.44it/s, loss=0.326]\n"
     ]
    },
    {
     "name": "stdout",
     "output_type": "stream",
     "text": [
      "Validation Dice Score\n",
      "Class 0: 0.9910, Class 1: 0.4966, Class 2: 0.1279, Class 3: 0.3399, Class 4: 0.4802, Class 5: 0.2661, Class 6: 0.4767, \n",
      "Validation F-beta Score\n",
      "Class 0: 0.9943, Class 1: 0.5351, Class 2: 0.1256, Class 3: 0.3749, Class 4: 0.4169, Class 5: 0.2143, Class 6: 0.4431, \n",
      "\n",
      "Overall Mean Dice Score: 0.4119\n",
      "Overall Mean F-beta Score: 0.3968\n",
      "\n",
      "Training Loss: 0.3525, Validation Loss: 0.3553, Validation F-beta: 0.3968\n",
      "Epoch 38/4000\n"
     ]
    },
    {
     "name": "stderr",
     "output_type": "stream",
     "text": [
      "Training: 100%|██████████| 480/480 [12:07<00:00,  1.52s/it, loss=0.395]\n",
      "Validation: 100%|██████████| 12/12 [00:08<00:00,  1.46it/s, loss=0.343]\n"
     ]
    },
    {
     "name": "stdout",
     "output_type": "stream",
     "text": [
      "Validation Dice Score\n",
      "Class 0: 0.9881, Class 1: 0.3855, Class 2: 0.1084, Class 3: 0.2309, Class 4: 0.4326, Class 5: 0.1877, Class 6: 0.4784, \n",
      "Validation F-beta Score\n",
      "Class 0: 0.9934, Class 1: 0.4124, Class 2: 0.0789, Class 3: 0.1898, Class 4: 0.3924, Class 5: 0.1228, Class 6: 0.4441, \n",
      "\n",
      "Overall Mean Dice Score: 0.3430\n",
      "Overall Mean F-beta Score: 0.3123\n",
      "\n",
      "Training Loss: 0.3547, Validation Loss: 0.3749, Validation F-beta: 0.3123\n",
      "Epoch 39/4000\n"
     ]
    },
    {
     "name": "stderr",
     "output_type": "stream",
     "text": [
      "Training: 100%|██████████| 480/480 [12:08<00:00,  1.52s/it, loss=0.325]\n",
      "Validation: 100%|██████████| 12/12 [00:08<00:00,  1.45it/s, loss=0.284]\n"
     ]
    },
    {
     "name": "stdout",
     "output_type": "stream",
     "text": [
      "Validation Dice Score\n",
      "Class 0: 0.9910, Class 1: 0.5521, Class 2: 0.1175, Class 3: 0.2702, Class 4: 0.5075, Class 5: 0.3863, Class 6: 0.7403, \n",
      "Validation F-beta Score\n",
      "Class 0: 0.9928, Class 1: 0.6828, Class 2: 0.1333, Class 3: 0.3335, Class 4: 0.5509, Class 5: 0.2935, Class 6: 0.7247, \n",
      "\n",
      "Overall Mean Dice Score: 0.4913\n",
      "Overall Mean F-beta Score: 0.5171\n",
      "\n",
      "Training Loss: 0.3506, Validation Loss: 0.3364, Validation F-beta: 0.5171\n",
      "========================================================\n",
      "SUPER Best model saved. Loss:0.3364, Score:0.5171\n",
      "========================================================\n",
      "Epoch 40/4000\n"
     ]
    },
    {
     "name": "stderr",
     "output_type": "stream",
     "text": [
      "Training: 100%|██████████| 480/480 [12:07<00:00,  1.52s/it, loss=0.313]\n",
      "Validation: 100%|██████████| 12/12 [00:08<00:00,  1.46it/s, loss=0.381]\n"
     ]
    },
    {
     "name": "stdout",
     "output_type": "stream",
     "text": [
      "Validation Dice Score\n",
      "Class 0: 0.9917, Class 1: 0.5854, Class 2: 0.1575, Class 3: 0.2717, Class 4: 0.5506, Class 5: 0.2775, Class 6: 0.5654, \n",
      "Validation F-beta Score\n",
      "Class 0: 0.9943, Class 1: 0.6575, Class 2: 0.1333, Class 3: 0.2431, Class 4: 0.5137, Class 5: 0.2079, Class 6: 0.6588, \n",
      "\n",
      "Overall Mean Dice Score: 0.4501\n",
      "Overall Mean F-beta Score: 0.4562\n",
      "\n",
      "Training Loss: 0.3543, Validation Loss: 0.3416, Validation F-beta: 0.4562\n",
      "Epoch 41/4000\n"
     ]
    },
    {
     "name": "stderr",
     "output_type": "stream",
     "text": [
      "Training: 100%|██████████| 480/480 [12:08<00:00,  1.52s/it, loss=0.288]\n",
      "Validation: 100%|██████████| 12/12 [00:08<00:00,  1.45it/s, loss=0.326]\n"
     ]
    },
    {
     "name": "stdout",
     "output_type": "stream",
     "text": [
      "Validation Dice Score\n",
      "Class 0: 0.9907, Class 1: 0.5205, Class 2: 0.0794, Class 3: 0.1877, Class 4: 0.4672, Class 5: 0.4046, Class 6: 0.4342, \n",
      "Validation F-beta Score\n",
      "Class 0: 0.9920, Class 1: 0.5962, Class 2: 0.0756, Class 3: 0.1539, Class 4: 0.5300, Class 5: 0.4497, Class 6: 0.5070, \n",
      "\n",
      "Overall Mean Dice Score: 0.4028\n",
      "Overall Mean F-beta Score: 0.4474\n",
      "\n",
      "Training Loss: 0.3488, Validation Loss: 0.3479, Validation F-beta: 0.4474\n",
      "Epoch 42/4000\n"
     ]
    },
    {
     "name": "stderr",
     "output_type": "stream",
     "text": [
      "Training: 100%|██████████| 480/480 [12:07<00:00,  1.52s/it, loss=0.37] \n",
      "Validation: 100%|██████████| 12/12 [00:08<00:00,  1.45it/s, loss=0.321]\n"
     ]
    },
    {
     "name": "stdout",
     "output_type": "stream",
     "text": [
      "Validation Dice Score\n",
      "Class 0: 0.9912, Class 1: 0.4529, Class 2: 0.1503, Class 3: 0.2735, Class 4: 0.5059, Class 5: 0.4194, Class 6: 0.5703, \n",
      "Validation F-beta Score\n",
      "Class 0: 0.9945, Class 1: 0.5125, Class 2: 0.1470, Class 3: 0.2520, Class 4: 0.4434, Class 5: 0.3677, Class 6: 0.6260, \n",
      "\n",
      "Overall Mean Dice Score: 0.4444\n",
      "Overall Mean F-beta Score: 0.4403\n",
      "\n",
      "Training Loss: 0.3459, Validation Loss: 0.3419, Validation F-beta: 0.4403\n",
      "Epoch 43/4000\n"
     ]
    },
    {
     "name": "stderr",
     "output_type": "stream",
     "text": [
      "Training: 100%|██████████| 480/480 [12:09<00:00,  1.52s/it, loss=0.326]\n",
      "Validation: 100%|██████████| 12/12 [00:08<00:00,  1.47it/s, loss=0.381]\n"
     ]
    },
    {
     "name": "stdout",
     "output_type": "stream",
     "text": [
      "Validation Dice Score\n",
      "Class 0: 0.9903, Class 1: 0.4847, Class 2: 0.0292, Class 3: 0.1495, Class 4: 0.5597, Class 5: 0.2726, Class 6: 0.4736, \n",
      "Validation F-beta Score\n",
      "Class 0: 0.9934, Class 1: 0.6611, Class 2: 0.1951, Class 3: 0.2105, Class 4: 0.4812, Class 5: 0.2125, Class 6: 0.6034, \n",
      "\n",
      "Overall Mean Dice Score: 0.3880\n",
      "Overall Mean F-beta Score: 0.4337\n",
      "\n",
      "Training Loss: 0.3479, Validation Loss: 0.3688, Validation F-beta: 0.4337\n",
      "Epoch 44/4000\n"
     ]
    },
    {
     "name": "stderr",
     "output_type": "stream",
     "text": [
      "Training: 100%|██████████| 480/480 [12:07<00:00,  1.52s/it, loss=0.349]\n",
      "Validation: 100%|██████████| 12/12 [00:08<00:00,  1.46it/s, loss=0.372]\n"
     ]
    },
    {
     "name": "stdout",
     "output_type": "stream",
     "text": [
      "Validation Dice Score\n",
      "Class 0: 0.9895, Class 1: 0.6104, Class 2: 0.0395, Class 3: 0.2029, Class 4: 0.6098, Class 5: 0.2892, Class 6: 0.6286, \n",
      "Validation F-beta Score\n",
      "Class 0: 0.9942, Class 1: 0.6054, Class 2: 0.0311, Class 3: 0.1700, Class 4: 0.5680, Class 5: 0.2361, Class 6: 0.6559, \n",
      "\n",
      "Overall Mean Dice Score: 0.4682\n",
      "Overall Mean F-beta Score: 0.4471\n",
      "\n",
      "Training Loss: 0.3440, Validation Loss: 0.3562, Validation F-beta: 0.4471\n",
      "Epoch 45/4000\n"
     ]
    },
    {
     "name": "stderr",
     "output_type": "stream",
     "text": [
      "Training: 100%|██████████| 480/480 [12:08<00:00,  1.52s/it, loss=0.301]\n",
      "Validation: 100%|██████████| 12/12 [00:08<00:00,  1.48it/s, loss=0.324]\n"
     ]
    },
    {
     "name": "stdout",
     "output_type": "stream",
     "text": [
      "Validation Dice Score\n",
      "Class 0: 0.9900, Class 1: 0.7114, Class 2: 0.1350, Class 3: 0.2101, Class 4: 0.5260, Class 5: 0.3533, Class 6: 0.6464, \n",
      "Validation F-beta Score\n",
      "Class 0: 0.9943, Class 1: 0.6686, Class 2: 0.1479, Class 3: 0.3085, Class 4: 0.4796, Class 5: 0.2846, Class 6: 0.6097, \n",
      "\n",
      "Overall Mean Dice Score: 0.4895\n",
      "Overall Mean F-beta Score: 0.4702\n",
      "\n",
      "Training Loss: 0.3465, Validation Loss: 0.3381, Validation F-beta: 0.4702\n",
      "Epoch 46/4000\n"
     ]
    },
    {
     "name": "stderr",
     "output_type": "stream",
     "text": [
      "Training: 100%|██████████| 480/480 [12:07<00:00,  1.52s/it, loss=0.347]\n",
      "Validation: 100%|██████████| 12/12 [00:08<00:00,  1.45it/s, loss=0.365]\n"
     ]
    },
    {
     "name": "stdout",
     "output_type": "stream",
     "text": [
      "Validation Dice Score\n",
      "Class 0: 0.9900, Class 1: 0.5778, Class 2: 0.0555, Class 3: 0.1471, Class 4: 0.6151, Class 5: 0.3520, Class 6: 0.4951, \n",
      "Validation F-beta Score\n",
      "Class 0: 0.9926, Class 1: 0.6564, Class 2: 0.0421, Class 3: 0.1980, Class 4: 0.6422, Class 5: 0.3079, Class 6: 0.5120, \n",
      "\n",
      "Overall Mean Dice Score: 0.4374\n",
      "Overall Mean F-beta Score: 0.4633\n",
      "\n",
      "Training Loss: 0.3465, Validation Loss: 0.3498, Validation F-beta: 0.4633\n",
      "Epoch 47/4000\n"
     ]
    },
    {
     "name": "stderr",
     "output_type": "stream",
     "text": [
      "Training: 100%|██████████| 480/480 [12:10<00:00,  1.52s/it, loss=0.357]\n",
      "Validation: 100%|██████████| 12/12 [00:08<00:00,  1.44it/s, loss=0.352]\n"
     ]
    },
    {
     "name": "stdout",
     "output_type": "stream",
     "text": [
      "Validation Dice Score\n",
      "Class 0: 0.9916, Class 1: 0.5216, Class 2: 0.1611, Class 3: 0.2798, Class 4: 0.6720, Class 5: 0.4194, Class 6: 0.3272, \n",
      "Validation F-beta Score\n",
      "Class 0: 0.9933, Class 1: 0.6324, Class 2: 0.1779, Class 3: 0.2489, Class 4: 0.6236, Class 5: 0.3748, Class 6: 0.4615, \n",
      "\n",
      "Overall Mean Dice Score: 0.4440\n",
      "Overall Mean F-beta Score: 0.4682\n",
      "\n",
      "Training Loss: 0.3455, Validation Loss: 0.3392, Validation F-beta: 0.4682\n",
      "Epoch 48/4000\n"
     ]
    },
    {
     "name": "stderr",
     "output_type": "stream",
     "text": [
      "Training: 100%|██████████| 480/480 [12:09<00:00,  1.52s/it, loss=0.333]\n",
      "Validation: 100%|██████████| 12/12 [00:08<00:00,  1.43it/s, loss=0.413]\n"
     ]
    },
    {
     "name": "stdout",
     "output_type": "stream",
     "text": [
      "Validation Dice Score\n",
      "Class 0: 0.9903, Class 1: 0.5127, Class 2: 0.0610, Class 3: 0.1439, Class 4: 0.6688, Class 5: 0.3782, Class 6: 0.4408, \n",
      "Validation F-beta Score\n",
      "Class 0: 0.9935, Class 1: 0.5724, Class 2: 0.1425, Class 3: 0.2009, Class 4: 0.6320, Class 5: 0.2952, Class 6: 0.5653, \n",
      "\n",
      "Overall Mean Dice Score: 0.4289\n",
      "Overall Mean F-beta Score: 0.4531\n",
      "\n",
      "Training Loss: 0.3409, Validation Loss: 0.3531, Validation F-beta: 0.4531\n",
      "Early stopping\n"
     ]
    },
    {
     "data": {
      "text/html": [],
      "text/plain": [
       "<IPython.core.display.HTML object>"
      ]
     },
     "metadata": {},
     "output_type": "display_data"
    },
    {
     "data": {
      "text/html": [
       "<br>    <style><br>        .wandb-row {<br>            display: flex;<br>            flex-direction: row;<br>            flex-wrap: wrap;<br>            justify-content: flex-start;<br>            width: 100%;<br>        }<br>        .wandb-col {<br>            display: flex;<br>            flex-direction: column;<br>            flex-basis: 100%;<br>            flex: 1;<br>            padding: 10px;<br>        }<br>    </style><br><div class=\"wandb-row\"><div class=\"wandb-col\"><h3>Run history:</h3><br/><table class=\"wandb\"><tr><td>class_0_dice_score</td><td>▅▅▅▆▁▆▅▅▄▃▅▇▅▄▅▇█▇▆▇▆▇▆█▆▇▇▇▆▇▆▇▇▇▇▇▆▇▇▇</td></tr><tr><td>class_0_f_beta_score</td><td>▆▆█▇▁▇▅▅▄▃▆▆▆▄▅▇██▇▆▄▆▆▇▆███▇▇▇▇▇▇▇▇▇▇▇▇</td></tr><tr><td>class_1_dice_score</td><td>▁▁▂▁▂▂▂▂▃▄▅▄▄▅▆▅▅▅▅▄▃▅▆▄▅▅▅▆▄▆▅▆▇▆▅▆▇█▇▆</td></tr><tr><td>class_1_f_beta_score</td><td>▁▂▁▁▂▂▂▃▄▅▅▅▅▄▆▅▆▅▅▅▅▆▆▅▆▅▆▇▅█▅██▇▆█▇██▇</td></tr><tr><td>class_2_dice_score</td><td>▁▁▁▁▁▁▁▁▁▁▁▄▃▂▃▂▃▄▃▄▅▃▃▅▆▃▅▆▇▄▆▆█▅█▂▃▇▃▄</td></tr><tr><td>class_2_f_beta_score</td><td>▁▂▄▄▃▂▄█▄▅▃▁▁▁▂▁▁▂▂▂▂▁▂▂▂▂▂▂▃▂▂▃▃▂▃▃▁▃▂▃</td></tr><tr><td>class_3_dice_score</td><td>▁▂▁▂▅▃▂▄▃▅▆▅▅▆▆▅▅▄█▅▇▆▄█▇▄▄▆▄▅▆▆▆▅▆▄▅▅▄▄</td></tr><tr><td>class_3_f_beta_score</td><td>▁▂▂▂▆▂▂▄▃▅▄▄▄▄▅▅▄▅█▄█▅▅▆█▂▃▅▅▆▄▆▅▃▅▄▄▆▄▄</td></tr><tr><td>class_4_dice_score</td><td>▂▂▄▂▃▁▁▃▃▂▅▃▃▆▁▅▂▄▅▄▅▄▆▇▆▃▁▄▅▆▄▅▆▅▅▆▇▆▇█</td></tr><tr><td>class_4_f_beta_score</td><td>▃▁▄▃▆▁▃▂▄▄▅▃▂▇▂▇▁▄▄▄▇▆▇█▅▃▂▃▅▇▄▆▆▆▅▅▇▅██</td></tr><tr><td>class_5_dice_score</td><td>▁▂▁▁▃▃▄▄▄▄▃▃▄▆▅▅▄▄▄▆▆▆▅▆▇▃▄▆▄▅▄▇▅██▅▆▇▇▇</td></tr><tr><td>class_5_f_beta_score</td><td>▁▂▁▁▃▂▃▄▄▃▂▃▃▆▅▅▃▃▃▅▆▆▄▅▇▂▃▅▃▄▃▅▄█▇▄▅▅▆▆</td></tr><tr><td>class_6_dice_score</td><td>▁▂▂▄▄▆▂▃▄▅▄▂▄▃▅▃▆▇▃▄▅▃▇▆▅▂▄▃▇▅▄█▆▄▆▄▆▇▅▄</td></tr><tr><td>class_6_f_beta_score</td><td>▁▂▁▃▄▆▄▄▄▅▃▂▅▄▆▄▇▇▃▆▇▃█▇▇▂▆▄▇▆▄█▇▅▇▆▇▆▅▆</td></tr><tr><td>epoch</td><td>▁▁▁▁▁▂▂▂▃▃▃▃▃▃▃▃▃▃▄▄▅▅▅▅▅▆▆▆▆▆▆▇▇▇▇▇▇▇██</td></tr><tr><td>overall_mean_dice_score</td><td>▁▁▂▂▄▃▂▃▄▄▅▄▄▆▅▅▅▆▅▆▆▅▇▇▇▄▄▆▆▆▅█▇▆▇▆██▇▇</td></tr><tr><td>overall_mean_f_beta_score</td><td>▁▂▂▂▄▃▃▃▄▅▄▄▄▆▅▆▅▅▅▆▇▆▇▇▇▃▄▅▆▇▄█▇▇▇▇▇▇▇▇</td></tr><tr><td>train_epoch_loss</td><td>██▇▇▇▇▆▆▆▅▅▄▄▄▄▄▃▃▃▃▃▃▃▃▂▂▂▂▂▂▂▂▂▂▁▁▁▁▁▁</td></tr><tr><td>val_epoch_loss</td><td>███▇▆▆▇▅▆▅▄▅▅▄▄▄▃▄▃▃▃▃▃▂▃▅▄▃▄▂▃▁▁▂▁▃▂▁▂▂</td></tr></table><br/></div><div class=\"wandb-col\"><h3>Run summary:</h3><br/><table class=\"wandb\"><tr><td>class_0_dice_score</td><td>0.99033</td></tr><tr><td>class_0_f_beta_score</td><td>0.9935</td></tr><tr><td>class_1_dice_score</td><td>0.5127</td></tr><tr><td>class_1_f_beta_score</td><td>0.57236</td></tr><tr><td>class_2_dice_score</td><td>0.06103</td></tr><tr><td>class_2_f_beta_score</td><td>0.14248</td></tr><tr><td>class_3_dice_score</td><td>0.14393</td></tr><tr><td>class_3_f_beta_score</td><td>0.20089</td></tr><tr><td>class_4_dice_score</td><td>0.66882</td></tr><tr><td>class_4_f_beta_score</td><td>0.63196</td></tr><tr><td>class_5_dice_score</td><td>0.37825</td></tr><tr><td>class_5_f_beta_score</td><td>0.29519</td></tr><tr><td>class_6_dice_score</td><td>0.44081</td></tr><tr><td>class_6_f_beta_score</td><td>0.56533</td></tr><tr><td>epoch</td><td>48</td></tr><tr><td>overall_mean_dice_score</td><td>0.4289</td></tr><tr><td>overall_mean_f_beta_score</td><td>0.45315</td></tr><tr><td>train_epoch_loss</td><td>0.34089</td></tr><tr><td>val_epoch_loss</td><td>0.35306</td></tr></table><br/></div></div>"
      ],
      "text/plain": [
       "<IPython.core.display.HTML object>"
      ]
     },
     "metadata": {},
     "output_type": "display_data"
    },
    {
     "data": {
      "text/html": [
       " View run <strong style=\"color:#cdcd00\">SwinCSP_UNETR_unet__pyes_weighted_f48_d96s96_numb2_lr1e-04_a0.50_b0.50_b2_r20_ce0.4</strong> at: <a href='https://wandb.ai/limbw/czii_SwinUnetR/runs/acn63503' target=\"_blank\">https://wandb.ai/limbw/czii_SwinUnetR/runs/acn63503</a><br> View project at: <a href='https://wandb.ai/limbw/czii_SwinUnetR' target=\"_blank\">https://wandb.ai/limbw/czii_SwinUnetR</a><br>Synced 5 W&B file(s), 0 media file(s), 0 artifact file(s) and 0 other file(s)"
      ],
      "text/plain": [
       "<IPython.core.display.HTML object>"
      ]
     },
     "metadata": {},
     "output_type": "display_data"
    },
    {
     "data": {
      "text/html": [
       "Find logs at: <code>.\\wandb\\run-20250105_013148-acn63503\\logs</code>"
      ],
      "text/plain": [
       "<IPython.core.display.HTML object>"
      ]
     },
     "metadata": {},
     "output_type": "display_data"
    }
   ],
   "source": [
    "train_model(\n",
    "    model=model,\n",
    "    train_loader=train_loader,\n",
    "    val_loader=val_loader,\n",
    "    criterion=criterion,\n",
    "    optimizer=optimizer,\n",
    "    num_epochs=num_epochs,\n",
    "    patience=10,\n",
    "    device=device,\n",
    "    start_epoch=start_epoch,\n",
    "    best_val_loss=best_val_loss,\n",
    "    best_val_fbeta_score=best_val_fbeta_score,\n",
    "    calculate_dice_interval=1,\n",
    "    accumulation_steps = accumulation_steps\n",
    "     ) "
   ]
  },
  {
   "cell_type": "code",
   "execution_count": null,
   "metadata": {},
   "outputs": [
    {
     "ename": "SyntaxError",
     "evalue": "invalid syntax (879943805.py, line 1)",
     "output_type": "error",
     "traceback": [
      "\u001b[1;36m  Cell \u001b[1;32mIn[12], line 1\u001b[1;36m\u001b[0m\n\u001b[1;33m    if:\u001b[0m\n\u001b[1;37m      ^\u001b[0m\n\u001b[1;31mSyntaxError\u001b[0m\u001b[1;31m:\u001b[0m invalid syntax\n"
     ]
    }
   ],
   "source": [
    "if:"
   ]
  },
  {
   "cell_type": "markdown",
   "metadata": {},
   "source": [
    "# VAl"
   ]
  },
  {
   "cell_type": "code",
   "execution_count": null,
   "metadata": {},
   "outputs": [
    {
     "data": {
      "text/html": [
       "Finishing last run (ID:fs6utwyo) before initializing another..."
      ],
      "text/plain": [
       "<IPython.core.display.HTML object>"
      ]
     },
     "metadata": {},
     "output_type": "display_data"
    },
    {
     "data": {
      "application/vnd.jupyter.widget-view+json": {
       "model_id": "29cc3ae761af43baae5aca60b5d2e7f4",
       "version_major": 2,
       "version_minor": 0
      },
      "text/plain": [
       "VBox(children=(Label(value='0.009 MB of 0.009 MB uploaded\\r'), FloatProgress(value=1.0, max=1.0)))"
      ]
     },
     "metadata": {},
     "output_type": "display_data"
    },
    {
     "data": {
      "text/html": [
       "<style>\n",
       "    table.wandb td:nth-child(1) { padding: 0 10px; text-align: left ; width: auto;} td:nth-child(2) {text-align: left ; width: 100%}\n",
       "    .wandb-row { display: flex; flex-direction: row; flex-wrap: wrap; justify-content: flex-start; width: 100% }\n",
       "    .wandb-col { display: flex; flex-direction: column; flex-basis: 100%; flex: 1; padding: 10px; }\n",
       "    </style>\n",
       "<div class=\"wandb-row\"><div class=\"wandb-col\"><h3>Run history:</h3><br/><table class=\"wandb\"><tr><td>class_0_dice_score</td><td>▁</td></tr><tr><td>class_0_f_beta_score</td><td>▁</td></tr><tr><td>class_1_dice_score</td><td>▁</td></tr><tr><td>class_1_f_beta_score</td><td>▁</td></tr><tr><td>class_2_dice_score</td><td>▁</td></tr><tr><td>class_2_f_beta_score</td><td>▁</td></tr><tr><td>class_3_dice_score</td><td>▁</td></tr><tr><td>class_3_f_beta_score</td><td>▁</td></tr><tr><td>class_4_dice_score</td><td>▁</td></tr><tr><td>class_4_f_beta_score</td><td>▁</td></tr><tr><td>class_5_dice_score</td><td>▁</td></tr><tr><td>class_5_f_beta_score</td><td>▁</td></tr><tr><td>class_6_dice_score</td><td>▁</td></tr><tr><td>class_6_f_beta_score</td><td>▁</td></tr><tr><td>epoch</td><td>▁▁▁▁▁▁▁▁▁▁▁▁▁▁▁▁</td></tr><tr><td>overall_mean_dice_score</td><td>▁</td></tr><tr><td>overall_mean_f_beta_score</td><td>▁</td></tr><tr><td>val_epoch_loss</td><td>▁</td></tr></table><br/></div><div class=\"wandb-col\"><h3>Run summary:</h3><br/><table class=\"wandb\"><tr><td>class_0_dice_score</td><td>0.65703</td></tr><tr><td>class_0_f_beta_score</td><td>0.50748</td></tr><tr><td>class_1_dice_score</td><td>0.53332</td></tr><tr><td>class_1_f_beta_score</td><td>0.64703</td></tr><tr><td>class_2_dice_score</td><td>0.00286</td></tr><tr><td>class_2_f_beta_score</td><td>0.02334</td></tr><tr><td>class_3_dice_score</td><td>0.23703</td></tr><tr><td>class_3_f_beta_score</td><td>0.23033</td></tr><tr><td>class_4_dice_score</td><td>0.65487</td></tr><tr><td>class_4_f_beta_score</td><td>0.62525</td></tr><tr><td>class_5_dice_score</td><td>0.47899</td></tr><tr><td>class_5_f_beta_score</td><td>0.51448</td></tr><tr><td>class_6_dice_score</td><td>0.42545</td></tr><tr><td>class_6_f_beta_score</td><td>0.47197</td></tr><tr><td>epoch</td><td>1</td></tr><tr><td>overall_mean_dice_score</td><td>0.42708</td></tr><tr><td>overall_mean_f_beta_score</td><td>0.43141</td></tr><tr><td>val_epoch_loss</td><td>0.7152</td></tr></table><br/></div></div>"
      ],
      "text/plain": [
       "<IPython.core.display.HTML object>"
      ]
     },
     "metadata": {},
     "output_type": "display_data"
    },
    {
     "data": {
      "text/html": [
       " View run <strong style=\"color:#cdcd00\">SwinUNETR96_96_lr0.001_lambda0.52_batch2</strong> at: <a href='https://wandb.ai/waooang/czii_SwinUnetR_val/runs/fs6utwyo' target=\"_blank\">https://wandb.ai/waooang/czii_SwinUnetR_val/runs/fs6utwyo</a><br/> View project at: <a href='https://wandb.ai/waooang/czii_SwinUnetR_val' target=\"_blank\">https://wandb.ai/waooang/czii_SwinUnetR_val</a><br/>Synced 4 W&B file(s), 0 media file(s), 3 artifact file(s) and 0 other file(s)"
      ],
      "text/plain": [
       "<IPython.core.display.HTML object>"
      ]
     },
     "metadata": {},
     "output_type": "display_data"
    },
    {
     "data": {
      "text/html": [
       "Find logs at: <code>.\\wandb\\run-20241219_200219-fs6utwyo\\logs</code>"
      ],
      "text/plain": [
       "<IPython.core.display.HTML object>"
      ]
     },
     "metadata": {},
     "output_type": "display_data"
    },
    {
     "data": {
      "text/html": [
       "Successfully finished last run (ID:fs6utwyo). Initializing new run:<br/>"
      ],
      "text/plain": [
       "<IPython.core.display.HTML object>"
      ]
     },
     "metadata": {},
     "output_type": "display_data"
    },
    {
     "data": {
      "text/html": [
       "Tracking run with wandb version 0.18.3"
      ],
      "text/plain": [
       "<IPython.core.display.HTML object>"
      ]
     },
     "metadata": {},
     "output_type": "display_data"
    },
    {
     "data": {
      "text/html": [
       "Run data is saved locally in <code>e:\\Workspace\\czll\\wandb\\run-20241219_200454-121l7bn3</code>"
      ],
      "text/plain": [
       "<IPython.core.display.HTML object>"
      ]
     },
     "metadata": {},
     "output_type": "display_data"
    },
    {
     "data": {
      "text/html": [
       "Syncing run <strong><a href='https://wandb.ai/waooang/czii_SwinUnetR_val/runs/121l7bn3' target=\"_blank\">SwinUNETR96_96_lr0.001_lambda0.52_batch2</a></strong> to <a href='https://wandb.ai/waooang/czii_SwinUnetR_val' target=\"_blank\">Weights & Biases</a> (<a href='https://wandb.me/run' target=\"_blank\">docs</a>)<br/>"
      ],
      "text/plain": [
       "<IPython.core.display.HTML object>"
      ]
     },
     "metadata": {},
     "output_type": "display_data"
    },
    {
     "data": {
      "text/html": [
       " View project at <a href='https://wandb.ai/waooang/czii_SwinUnetR_val' target=\"_blank\">https://wandb.ai/waooang/czii_SwinUnetR_val</a>"
      ],
      "text/plain": [
       "<IPython.core.display.HTML object>"
      ]
     },
     "metadata": {},
     "output_type": "display_data"
    },
    {
     "data": {
      "text/html": [
       " View run at <a href='https://wandb.ai/waooang/czii_SwinUnetR_val/runs/121l7bn3' target=\"_blank\">https://wandb.ai/waooang/czii_SwinUnetR_val/runs/121l7bn3</a>"
      ],
      "text/plain": [
       "<IPython.core.display.HTML object>"
      ]
     },
     "metadata": {},
     "output_type": "display_data"
    },
    {
     "name": "stderr",
     "output_type": "stream",
     "text": [
      "Loading dataset: 100%|██████████| 4/4 [00:06<00:00,  1.58s/it]\n",
      "C:\\Users\\Seungwoo\\AppData\\Local\\Temp\\ipykernel_21000\\1177025787.py:95: FutureWarning: You are using `torch.load` with `weights_only=False` (the current default value), which uses the default pickle module implicitly. It is possible to construct malicious pickle data which will execute arbitrary code during unpickling (See https://github.com/pytorch/pytorch/blob/main/SECURITY.md#untrusted-models for more details). In a future release, the default value for `weights_only` will be flipped to `True`. This limits the functions that could be executed during unpickling. Arbitrary objects will no longer be allowed to be loaded via this mode unless they are explicitly allowlisted by the user via `torch.serialization.add_safe_globals`. We recommend you start setting `weights_only=True` for any use case where you don't have full control of the loaded file. Please open an issue on GitHub for any issues related to this experimental feature.\n",
      "  checkpoint = torch.load(pretrain_path, map_location=device)\n",
      "Validation: 100%|██████████| 4/4 [00:01<00:00,  2.38it/s, loss=0.865]"
     ]
    },
    {
     "name": "stdout",
     "output_type": "stream",
     "text": [
      "Validation Dice Score\n",
      "Class 0: 0.6570, Class 1: 0.5333, Class 2: 0.0029, Class 3: 0.2370, \n",
      "Class 4: 0.6549, Class 5: 0.4790, Class 6: 0.4255, \n",
      "Validation F-beta Score\n",
      "Class 0: 0.5075, Class 1: 0.6470, Class 2: 0.0233, Class 3: 0.2303, \n",
      "Class 4: 0.6252, Class 5: 0.5145, Class 6: 0.4720, \n",
      "Overall Mean Dice Score: 0.4659\n",
      "Overall Mean F-beta Score: 0.4978\n",
      "\n"
     ]
    },
    {
     "name": "stderr",
     "output_type": "stream",
     "text": [
      "\n"
     ]
    }
   ],
   "source": [
    "from monai.data import DataLoader, Dataset, CacheDataset\n",
    "from monai.transforms import (\n",
    "    Compose, LoadImaged, EnsureChannelFirstd, NormalizeIntensityd,\n",
    "    Orientationd, CropForegroundd, GaussianSmoothd, ScaleIntensityd,\n",
    "    RandSpatialCropd, RandRotate90d, RandFlipd, RandGaussianNoised,\n",
    "    ToTensord, RandCropByLabelClassesd\n",
    ")\n",
    "from monai.metrics import DiceMetric\n",
    "from monai.networks.nets import UNETR, SwinUNETR\n",
    "from monai.losses import TverskyLoss\n",
    "import torch\n",
    "import numpy as np\n",
    "from tqdm import tqdm\n",
    "import wandb\n",
    "from src.dataset.dataset import make_val_dataloader\n",
    "\n",
    "val_img_dir = \"./datasets/val/images\"\n",
    "val_label_dir = \"./datasets/val/labels\"\n",
    "img_depth = 96\n",
    "img_size = 96  # Match your patch size\n",
    "n_classes = 7\n",
    "batch_size = 2 # 13.8GB GPU memory required for 128x128 img size\n",
    "num_samples = batch_size # 한 이미지에서 뽑을 샘플 수\n",
    "loader_batch = 1\n",
    "lamda = 0.52\n",
    "\n",
    "wandb.init(\n",
    "    project='czii_SwinUnetR_val',  # 프로젝트 이름 설정\n",
    "    name='SwinUNETR96_96_lr0.001_lambda0.52_batch2',         # 실행(run) 이름 설정\n",
    "    config={\n",
    "        'learning_rate': 0.001,\n",
    "        'batch_size': batch_size,\n",
    "        'lambda': lamda,\n",
    "        'img_size': img_size,\n",
    "        'device': 'cuda',\n",
    "        \"checkpoint_dir\": \"./model_checkpoints/SwinUNETR96_96_lr0.001_lambda0.52_batch2\",\n",
    "        \n",
    "    }\n",
    ")\n",
    "\n",
    "non_random_transforms = Compose([\n",
    "    EnsureChannelFirstd(keys=[\"image\", \"label\"], channel_dim=\"no_channel\"),\n",
    "    NormalizeIntensityd(keys=\"image\"),\n",
    "    Orientationd(keys=[\"image\", \"label\"], axcodes=\"RAS\"),\n",
    "    GaussianSmoothd(\n",
    "        keys=[\"image\"],      # 변환을 적용할 키\n",
    "        sigma=[1.0, 1.0, 1.0]  # 각 축(x, y, z)의 시그마 값\n",
    "        ),\n",
    "])\n",
    "random_transforms = Compose([\n",
    "    RandCropByLabelClassesd(\n",
    "        keys=[\"image\", \"label\"],\n",
    "        label_key=\"label\",\n",
    "        spatial_size=[img_depth, img_size, img_size],\n",
    "        num_classes=n_classes,\n",
    "        num_samples=num_samples, \n",
    "        ratios=ratios_list,\n",
    "    ),\n",
    "    RandRotate90d(keys=[\"image\", \"label\"], prob=0.5, spatial_axes=[1, 2]),\n",
    "    RandFlipd(keys=[\"image\", \"label\"], prob=0.5, spatial_axis=0),\n",
    "])\n",
    "\n",
    "val_loader = make_val_dataloader(\n",
    "    val_img_dir, \n",
    "    val_label_dir, \n",
    "    non_random_transforms = non_random_transforms, \n",
    "    random_transforms = random_transforms, \n",
    "    batch_size = loader_batch,\n",
    "    num_workers=0\n",
    ")\n",
    "criterion = TverskyLoss(\n",
    "    alpha= 1 - lamda,  # FP에 대한 가중치\n",
    "    beta=lamda,       # FN에 대한 가중치\n",
    "    include_background=False,  # 배경 클래스 제외\n",
    "    softmax=True\n",
    ")\n",
    "    \n",
    "    \n",
    "from monai.metrics import DiceMetric\n",
    "\n",
    "img_size = 96\n",
    "img_depth = img_size\n",
    "n_classes = 7 \n",
    "\n",
    "device = torch.device(\"cuda\" if torch.cuda.is_available() else \"cpu\")\n",
    "pretrain_path = \"./model_checkpoints/SwinUNETR96_96_lr0.001_lambda0.52_batch2/best_model.pt\"\n",
    "model = SwinUNETR(\n",
    "    img_size=(img_depth, img_size, img_size),\n",
    "    in_channels=1,\n",
    "    out_channels=n_classes,\n",
    "    feature_size=48,\n",
    "    use_checkpoint=True,\n",
    ").to(device)\n",
    "# Pretrained weights 불러오기\n",
    "checkpoint = torch.load(pretrain_path, map_location=device)\n",
    "model.load_state_dict(checkpoint['model_state_dict'])\n",
    "\n",
    "val_loss, overall_mean_fbeta_score = validate_one_epoch(\n",
    "    model=model, \n",
    "    val_loader=val_loader, \n",
    "    criterion=criterion, \n",
    "    device=device, \n",
    "    epoch=0, \n",
    "    calculate_dice_interval=1\n",
    ")"
   ]
  },
  {
   "cell_type": "markdown",
   "metadata": {},
   "source": [
    "# Inference"
   ]
  },
  {
   "cell_type": "code",
   "execution_count": null,
   "metadata": {},
   "outputs": [],
   "source": [
    "from src.dataset.preprocessing import Preprocessor"
   ]
  },
  {
   "cell_type": "code",
   "execution_count": null,
   "metadata": {},
   "outputs": [
    {
     "name": "stdout",
     "output_type": "stream",
     "text": [
      "Done.\n"
     ]
    }
   ],
   "source": [
    "from monai.inferers import sliding_window_inference\n",
    "from monai.transforms import Compose, EnsureChannelFirstd, NormalizeIntensityd, Orientationd, GaussianSmoothd\n",
    "from monai.data import DataLoader, Dataset, CacheDataset\n",
    "from monai.networks.nets import SwinUNETR\n",
    "from pathlib import Path\n",
    "import numpy as np\n",
    "import copick\n",
    "\n",
    "import torch\n",
    "print(\"Done.\")"
   ]
  },
  {
   "cell_type": "code",
   "execution_count": null,
   "metadata": {},
   "outputs": [
    {
     "name": "stdout",
     "output_type": "stream",
     "text": [
      "Config file written to ./kaggle/working/copick.config\n",
      "file length: 7\n"
     ]
    }
   ],
   "source": [
    "config_blob = \"\"\"{\n",
    "    \"name\": \"czii_cryoet_mlchallenge_2024\",\n",
    "    \"description\": \"2024 CZII CryoET ML Challenge training data.\",\n",
    "    \"version\": \"1.0.0\",\n",
    "\n",
    "    \"pickable_objects\": [\n",
    "        {\n",
    "            \"name\": \"apo-ferritin\",\n",
    "            \"is_particle\": true,\n",
    "            \"pdb_id\": \"4V1W\",\n",
    "            \"label\": 1,\n",
    "            \"color\": [  0, 117, 220, 128],\n",
    "            \"radius\": 60,\n",
    "            \"map_threshold\": 0.0418\n",
    "        },\n",
    "        {\n",
    "          \"name\" : \"beta-amylase\",\n",
    "            \"is_particle\": true,\n",
    "            \"pdb_id\": \"8ZRZ\",\n",
    "            \"label\": 2,\n",
    "            \"color\": [255, 255, 255, 128],\n",
    "            \"radius\": 90,\n",
    "            \"map_threshold\": 0.0578  \n",
    "        },\n",
    "        {\n",
    "            \"name\": \"beta-galactosidase\",\n",
    "            \"is_particle\": true,\n",
    "            \"pdb_id\": \"6X1Q\",\n",
    "            \"label\": 3,\n",
    "            \"color\": [ 76,   0,  92, 128],\n",
    "            \"radius\": 90,\n",
    "            \"map_threshold\": 0.0578\n",
    "        },\n",
    "        {\n",
    "            \"name\": \"ribosome\",\n",
    "            \"is_particle\": true,\n",
    "            \"pdb_id\": \"6EK0\",\n",
    "            \"label\": 4,\n",
    "            \"color\": [  0,  92,  49, 128],\n",
    "            \"radius\": 150,\n",
    "            \"map_threshold\": 0.0374\n",
    "        },\n",
    "        {\n",
    "            \"name\": \"thyroglobulin\",\n",
    "            \"is_particle\": true,\n",
    "            \"pdb_id\": \"6SCJ\",\n",
    "            \"label\": 5,\n",
    "            \"color\": [ 43, 206,  72, 128],\n",
    "            \"radius\": 130,\n",
    "            \"map_threshold\": 0.0278\n",
    "        },\n",
    "        {\n",
    "            \"name\": \"virus-like-particle\",\n",
    "            \"is_particle\": true,\n",
    "            \"label\": 6,\n",
    "            \"color\": [255, 204, 153, 128],\n",
    "            \"radius\": 135,\n",
    "            \"map_threshold\": 0.201\n",
    "        },\n",
    "        {\n",
    "            \"name\": \"membrane\",\n",
    "            \"is_particle\": false,\n",
    "            \"label\": 8,\n",
    "            \"color\": [100, 100, 100, 128]\n",
    "        },\n",
    "        {\n",
    "            \"name\": \"background\",\n",
    "            \"is_particle\": false,\n",
    "            \"label\": 9,\n",
    "            \"color\": [10, 150, 200, 128]\n",
    "        }\n",
    "    ],\n",
    "\n",
    "    \"overlay_root\": \"./kaggle/working/overlay\",\n",
    "\n",
    "    \"overlay_fs_args\": {\n",
    "        \"auto_mkdir\": true\n",
    "    },\n",
    "\n",
    "    \"static_root\": \"./kaggle/input/czii-cryo-et-object-identification/test/static\"\n",
    "}\"\"\"\n",
    "\n",
    "copick_config_path = \"./kaggle/working/copick.config\"\n",
    "preprocessor = Preprocessor(config_blob,copick_config_path=copick_config_path)\n",
    "non_random_transforms = Compose([\n",
    "    EnsureChannelFirstd(keys=[\"image\"], channel_dim=\"no_channel\"),\n",
    "    NormalizeIntensityd(keys=\"image\"),\n",
    "    Orientationd(keys=[\"image\"], axcodes=\"RAS\"),\n",
    "    GaussianSmoothd(\n",
    "        keys=[\"image\"],      # 변환을 적용할 키\n",
    "        sigma=[1.0, 1.0, 1.0]  # 각 축(x, y, z)의 시그마 값\n",
    "        ),\n",
    "    ])"
   ]
  },
  {
   "cell_type": "code",
   "execution_count": null,
   "metadata": {},
   "outputs": [
    {
     "name": "stderr",
     "output_type": "stream",
     "text": [
      "c:\\ProgramData\\anaconda3\\envs\\ship\\Lib\\site-packages\\monai\\utils\\deprecate_utils.py:221: FutureWarning: monai.networks.nets.swin_unetr SwinUNETR.__init__:img_size: Argument `img_size` has been deprecated since version 1.3. It will be removed in version 1.5. The img_size argument is not required anymore and checks on the input size are run during forward().\n",
      "  warn_deprecated(argname, msg, warning_category)\n",
      "C:\\Users\\Seungwoo\\AppData\\Local\\Temp\\ipykernel_6248\\2937359115.py:15: FutureWarning: You are using `torch.load` with `weights_only=False` (the current default value), which uses the default pickle module implicitly. It is possible to construct malicious pickle data which will execute arbitrary code during unpickling (See https://github.com/pytorch/pytorch/blob/main/SECURITY.md#untrusted-models for more details). In a future release, the default value for `weights_only` will be flipped to `True`. This limits the functions that could be executed during unpickling. Arbitrary objects will no longer be allowed to be loaded via this mode unless they are explicitly allowlisted by the user via `torch.serialization.add_safe_globals`. We recommend you start setting `weights_only=True` for any use case where you don't have full control of the loaded file. Please open an issue on GitHub for any issues related to this experimental feature.\n",
      "  checkpoint = torch.load(pretrain_path, map_location=device)\n"
     ]
    },
    {
     "data": {
      "text/plain": [
       "<All keys matched successfully>"
      ]
     },
     "execution_count": 15,
     "metadata": {},
     "output_type": "execute_result"
    }
   ],
   "source": [
    "img_size = 96\n",
    "img_depth = img_size\n",
    "n_classes = 7 \n",
    "\n",
    "device = torch.device(\"cuda\" if torch.cuda.is_available() else \"cpu\")\n",
    "pretrain_path = \"./model_checkpoints/SwinUNETR96_96_lr0.001_lambda0.52_batch2/best_model.pt\"\n",
    "model = SwinUNETR(\n",
    "    img_size=(img_depth, img_size, img_size),\n",
    "    in_channels=1,\n",
    "    out_channels=n_classes,\n",
    "    feature_size=48,\n",
    "    use_checkpoint=True,\n",
    ").to(device)\n",
    "# Pretrained weights 불러오기\n",
    "checkpoint = torch.load(pretrain_path, map_location=device)\n",
    "model.load_state_dict(checkpoint['model_state_dict'])\n"
   ]
  },
  {
   "cell_type": "code",
   "execution_count": null,
   "metadata": {},
   "outputs": [
    {
     "name": "stderr",
     "output_type": "stream",
     "text": [
      "Validation:   0%|          | 0/4 [00:03<?, ?it/s, loss=0.764]\n"
     ]
    },
    {
     "ename": "ZeroDivisionError",
     "evalue": "integer modulo by zero",
     "output_type": "error",
     "traceback": [
      "\u001b[1;31m---------------------------------------------------------------------------\u001b[0m",
      "\u001b[1;31mZeroDivisionError\u001b[0m                         Traceback (most recent call last)",
      "Cell \u001b[1;32mIn[16], line 1\u001b[0m\n\u001b[1;32m----> 1\u001b[0m val_loss \u001b[38;5;241m=\u001b[39m \u001b[43mvalidate_one_epoch\u001b[49m\u001b[43m(\u001b[49m\n\u001b[0;32m      2\u001b[0m \u001b[43m            \u001b[49m\u001b[43mmodel\u001b[49m\u001b[38;5;241;43m=\u001b[39;49m\u001b[43mmodel\u001b[49m\u001b[43m,\u001b[49m\u001b[43m \u001b[49m\n\u001b[0;32m      3\u001b[0m \u001b[43m            \u001b[49m\u001b[43mval_loader\u001b[49m\u001b[38;5;241;43m=\u001b[39;49m\u001b[43mval_loader\u001b[49m\u001b[43m,\u001b[49m\u001b[43m \u001b[49m\n\u001b[0;32m      4\u001b[0m \u001b[43m            \u001b[49m\u001b[43mcriterion\u001b[49m\u001b[38;5;241;43m=\u001b[39;49m\u001b[43mcriterion\u001b[49m\u001b[43m,\u001b[49m\u001b[43m \u001b[49m\n\u001b[0;32m      5\u001b[0m \u001b[43m            \u001b[49m\u001b[43mdevice\u001b[49m\u001b[38;5;241;43m=\u001b[39;49m\u001b[43mdevice\u001b[49m\u001b[43m,\u001b[49m\u001b[43m \u001b[49m\n\u001b[0;32m      6\u001b[0m \u001b[43m            \u001b[49m\u001b[43mepoch\u001b[49m\u001b[38;5;241;43m=\u001b[39;49m\u001b[38;5;241;43m1\u001b[39;49m\u001b[43m,\u001b[49m\u001b[43m \u001b[49m\n\u001b[0;32m      7\u001b[0m \u001b[43m            \u001b[49m\u001b[43mcalculate_dice_interval\u001b[49m\u001b[38;5;241;43m=\u001b[39;49m\u001b[38;5;241;43m0\u001b[39;49m\n\u001b[0;32m      8\u001b[0m \u001b[43m        \u001b[49m\u001b[43m)\u001b[49m\n",
      "Cell \u001b[1;32mIn[11], line 64\u001b[0m, in \u001b[0;36mvalidate_one_epoch\u001b[1;34m(model, val_loader, criterion, device, epoch, calculate_dice_interval)\u001b[0m\n\u001b[0;32m     61\u001b[0m pbar\u001b[38;5;241m.\u001b[39mset_postfix(loss\u001b[38;5;241m=\u001b[39mloss\u001b[38;5;241m.\u001b[39mitem())\n\u001b[0;32m     63\u001b[0m \u001b[38;5;66;03m# 각 클래스별 Dice 점수 계산\u001b[39;00m\n\u001b[1;32m---> 64\u001b[0m \u001b[38;5;28;01mif\u001b[39;00m \u001b[43mepoch\u001b[49m\u001b[43m \u001b[49m\u001b[38;5;241;43m%\u001b[39;49m\u001b[43m \u001b[49m\u001b[43mcalculate_dice_interval\u001b[49m \u001b[38;5;241m==\u001b[39m \u001b[38;5;241m0\u001b[39m:\n\u001b[0;32m     65\u001b[0m     \u001b[38;5;28;01mfor\u001b[39;00m i \u001b[38;5;129;01min\u001b[39;00m \u001b[38;5;28mrange\u001b[39m(n_classes):\n\u001b[0;32m     66\u001b[0m         pred_i \u001b[38;5;241m=\u001b[39m (preds \u001b[38;5;241m==\u001b[39m i)\n",
      "\u001b[1;31mZeroDivisionError\u001b[0m: integer modulo by zero"
     ]
    }
   ],
   "source": [
    "val_loss = validate_one_epoch(\n",
    "            model=model, \n",
    "            val_loader=val_loader, \n",
    "            criterion=criterion, \n",
    "            device=device, \n",
    "            epoch=1, \n",
    "            calculate_dice_interval=0\n",
    "        )"
   ]
  },
  {
   "cell_type": "code",
   "execution_count": null,
   "metadata": {},
   "outputs": [
    {
     "name": "stdout",
     "output_type": "stream",
     "text": [
      "Processing volume 1/7\n"
     ]
    },
    {
     "name": "stderr",
     "output_type": "stream",
     "text": [
      "Loading dataset: 100%|██████████| 1/1 [00:01<00:00,  1.94s/it]\n"
     ]
    },
    {
     "name": "stdout",
     "output_type": "stream",
     "text": [
      "Processing volume 2/7\n"
     ]
    },
    {
     "name": "stderr",
     "output_type": "stream",
     "text": [
      "Loading dataset: 100%|██████████| 1/1 [00:01<00:00,  1.89s/it]\n"
     ]
    },
    {
     "name": "stdout",
     "output_type": "stream",
     "text": [
      "Processing volume 3/7\n"
     ]
    },
    {
     "name": "stderr",
     "output_type": "stream",
     "text": [
      "Loading dataset: 100%|██████████| 1/1 [00:01<00:00,  1.79s/it]\n"
     ]
    },
    {
     "name": "stdout",
     "output_type": "stream",
     "text": [
      "Submission saved to: submission.csv\n"
     ]
    }
   ],
   "source": [
    "import torch\n",
    "import numpy as np\n",
    "from scipy.ndimage import label, center_of_mass\n",
    "import pandas as pd\n",
    "from tqdm import tqdm\n",
    "from monai.data import CacheDataset, DataLoader\n",
    "from monai.transforms import Compose, NormalizeIntensity\n",
    "import cc3d\n",
    "\n",
    "def dict_to_df(coord_dict, experiment_name):\n",
    "    all_coords = []\n",
    "    all_labels = []\n",
    "    \n",
    "    for label, coords in coord_dict.items():\n",
    "        all_coords.append(coords)\n",
    "        all_labels.extend([label] * len(coords))\n",
    "    \n",
    "    all_coords = np.vstack(all_coords)\n",
    "    df = pd.DataFrame({\n",
    "        'experiment': experiment_name,\n",
    "        'particle_type': all_labels,\n",
    "        'x': all_coords[:, 0],\n",
    "        'y': all_coords[:, 1],\n",
    "        'z': all_coords[:, 2]\n",
    "    })\n",
    "    return df\n",
    "\n",
    "id_to_name = {1: \"apo-ferritin\", \n",
    "              2: \"beta-amylase\",\n",
    "              3: \"beta-galactosidase\", \n",
    "              4: \"ribosome\", \n",
    "              5: \"thyroglobulin\", \n",
    "              6: \"virus-like-particle\"}\n",
    "BLOB_THRESHOLD = 200\n",
    "CERTAINTY_THRESHOLD = 0.05\n",
    "\n",
    "classes = [1, 2, 3, 4, 5, 6]\n",
    "\n",
    "model.eval()\n",
    "with torch.no_grad():\n",
    "    location_dfs = []  # DataFrame 리스트로 초기화\n",
    "    \n",
    "    for vol_idx, run in enumerate(preprocessor.root.runs):\n",
    "        print(f\"Processing volume {vol_idx + 1}/{len(preprocessor.root.runs)}\")\n",
    "        tomogram = preprocessor.processing(run=run, task=\"task\")\n",
    "        task_files = [{\"image\": tomogram}]\n",
    "        task_ds = CacheDataset(data=task_files, transform=non_random_transforms)\n",
    "        task_loader = DataLoader(task_ds, batch_size=1, num_workers=0)\n",
    "        \n",
    "        for task_data in task_loader:\n",
    "            images = task_data['image'].to(\"cuda\")\n",
    "            outputs = sliding_window_inference(\n",
    "                inputs=images,\n",
    "                roi_size=(96, 96, 96),  # ROI 크기\n",
    "                sw_batch_size=4,\n",
    "                predictor=model.forward,\n",
    "                overlap=0.1,\n",
    "                sw_device=\"cuda\",\n",
    "                device=\"cpu\",\n",
    "                buffer_steps=1,\n",
    "                buffer_dim=-1\n",
    "            )\n",
    "            outputs = outputs.argmax(dim=1).squeeze(0).cpu().numpy()  # 클래스 채널 예측\n",
    "            location = {}  # 좌표 저장용 딕셔너리\n",
    "            for c in classes:\n",
    "                cc = cc3d.connected_components(outputs == c)  # cc3d 라벨링\n",
    "                stats = cc3d.statistics(cc)\n",
    "                zyx = stats['centroids'][1:] * 10.012444  # 스케일 변환\n",
    "                zyx_large = zyx[stats['voxel_counts'][1:] > BLOB_THRESHOLD]  # 크기 필터링\n",
    "                xyz = np.ascontiguousarray(zyx_large[:, ::-1])  # 좌표 스왑 (z, y, x -> x, y, z)\n",
    "\n",
    "                location[id_to_name[c]] = xyz  # ID 이름 매칭 저장\n",
    "\n",
    "            # 데이터프레임 변환\n",
    "            df = dict_to_df(location, run.name)\n",
    "            location_dfs.append(df)  # 리스트에 추가\n",
    "        \n",
    "        # if vol_idx == 2:\n",
    "        #     break\n",
    "    \n",
    "    # DataFrame 병합\n",
    "    final_df = pd.concat(location_dfs, ignore_index=True)\n",
    "    \n",
    "    # ID 추가 및 CSV 저장\n",
    "    final_df.insert(loc=0, column='id', value=np.arange(len(final_df)))\n",
    "    final_df.to_csv(\"submission.csv\", index=False)\n",
    "    print(\"Submission saved to: submission.csv\")\n"
   ]
  }
 ],
 "metadata": {
  "kernelspec": {
   "display_name": "UM",
   "language": "python",
   "name": "python3"
  },
  "language_info": {
   "codemirror_mode": {
    "name": "ipython",
    "version": 3
   },
   "file_extension": ".py",
   "mimetype": "text/x-python",
   "name": "python",
   "nbconvert_exporter": "python",
   "pygments_lexer": "ipython3",
   "version": "3.12.7"
  }
 },
 "nbformat": 4,
 "nbformat_minor": 2
}
