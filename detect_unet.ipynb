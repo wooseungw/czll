{
 "cells": [
  {
   "cell_type": "code",
   "execution_count": 2,
   "metadata": {},
   "outputs": [
    {
     "name": "stdout",
     "output_type": "stream",
     "text": [
      "MONAI version: 1.4.0\n",
      "Numpy version: 1.26.4\n",
      "Pytorch version: 2.2.1\n",
      "MONAI flags: HAS_EXT = False, USE_COMPILED = False, USE_META_DICT = False\n",
      "MONAI rev id: 46a5272196a6c2590ca2589029eed8e4d56ff008\n",
      "MONAI __file__: /Users/<username>/anaconda3/envs/dust/lib/python3.12/site-packages/monai/__init__.py\n",
      "\n",
      "Optional dependencies:\n",
      "Pytorch Ignite version: NOT INSTALLED or UNKNOWN VERSION.\n",
      "ITK version: NOT INSTALLED or UNKNOWN VERSION.\n",
      "Nibabel version: 5.3.2\n",
      "scikit-image version: 0.24.0\n",
      "scipy version: 1.12.0\n",
      "Pillow version: 10.4.0\n",
      "Tensorboard version: 2.17.1\n",
      "gdown version: 5.2.0\n",
      "TorchVision version: 0.17.1\n",
      "tqdm version: 4.66.5\n",
      "lmdb version: NOT INSTALLED or UNKNOWN VERSION.\n",
      "psutil version: 5.9.8\n",
      "pandas version: 2.2.1\n",
      "einops version: 0.7.0\n",
      "transformers version: 4.45.2\n",
      "mlflow version: NOT INSTALLED or UNKNOWN VERSION.\n",
      "pynrrd version: NOT INSTALLED or UNKNOWN VERSION.\n",
      "clearml version: NOT INSTALLED or UNKNOWN VERSION.\n",
      "\n",
      "For details about installing the optional dependencies, please visit:\n",
      "    https://docs.monai.io/en/latest/installation.html#installing-the-recommended-dependencies\n",
      "\n",
      "클래스 비율: {0: 0.0, 1: 0.16393442622950818, 2: 0.01639344262295082, 3: 0.2459016393442623, 4: 0.16393442622950818, 5: 0.2459016393442623, 6: 0.16393442622950818}\n",
      "최종 합계: 1.0\n",
      "클래스 비율 리스트: [0.0, 0.16393442622950818, 0.01639344262295082, 0.2459016393442623, 0.16393442622950818, 0.2459016393442623, 0.16393442622950818]\n"
     ]
    }
   ],
   "source": [
    "import os\n",
    "import shutil\n",
    "import tempfile\n",
    "\n",
    "import matplotlib.pyplot as plt\n",
    "from tqdm import tqdm\n",
    "\n",
    "import random\n",
    "import numpy as np\n",
    "import torch\n",
    "torch.backends.cudnn.benchmark = True\n",
    "\n",
    "from monai.losses import DiceCELoss\n",
    "from monai.inferers import sliding_window_inference\n",
    "from monai.transforms import (\n",
    "    AsDiscrete,\n",
    "    EnsureChannelFirstd,\n",
    "    Compose,\n",
    "    CropForegroundd,\n",
    "    LoadImaged,\n",
    "    Orientationd,\n",
    "    RandFlipd,\n",
    "    RandCropByPosNegLabeld,\n",
    "    RandShiftIntensityd,\n",
    "    ScaleIntensityRanged,\n",
    "    Spacingd,\n",
    "    RandRotate90d,\n",
    "    NormalizeIntensityd,\n",
    "    GaussianSmoothd,\n",
    "    ScaleIntensityd,\n",
    "    RandSpatialCropd,\n",
    "    RandGaussianNoised,\n",
    "    ToTensord,\n",
    "    RandCropByLabelClassesd,\n",
    "    RandCropd,\n",
    "    RandGaussianSmoothd,\n",
    "    CastToTyped\n",
    ")\n",
    "from monai.networks.layers.factories import Act, Norm\n",
    "from monai.config import print_config\n",
    "from monai.metrics import DiceMetric\n",
    "from monai.networks.nets import UNet\n",
    "\n",
    "from src.models import UNet_CBAM\n",
    "\n",
    "from monai.data import (\n",
    "    DataLoader,\n",
    "    CacheDataset,\n",
    "    load_decathlon_datalist,\n",
    "    decollate_batch,\n",
    ")\n",
    "\n",
    "# 랜덤 시드 고정\n",
    "def set_seed(seed):\n",
    "    random.seed(seed)\n",
    "    np.random.seed(seed)\n",
    "    torch.manual_seed(seed)\n",
    "    if torch.cuda.is_available():\n",
    "        torch.cuda.manual_seed_all(seed)\n",
    "\n",
    "set_seed(42)\n",
    "\n",
    "\n",
    "print_config()\n",
    "\n",
    "import torch.nn as nn\n",
    "import torch.nn.functional as F\n",
    "from monai.losses import TverskyLoss\n",
    "from src.dataset.dataset import create_dataloaders\n",
    "from src.dataset.dataset_csv import create_dataloaders_from_csv\n",
    "from pathlib import Path\n",
    "import torch.optim as optim\n",
    "\n",
    "class_info = {\n",
    "    0: {\"name\": \"background\", \"weight\": 0},  # weight 없음\n",
    "    1: {\"name\": \"apo-ferritin\", \"weight\": 1000},\n",
    "    2: {\"name\": \"beta-amylase\", \"weight\": 100}, # 4130\n",
    "    3: {\"name\": \"beta-galactosidase\", \"weight\": 1500}, #3080\n",
    "    4: {\"name\": \"ribosome\", \"weight\": 1000},\n",
    "    5: {\"name\": \"thyroglobulin\", \"weight\": 1500},\n",
    "    6: {\"name\": \"virus-like-particle\", \"weight\": 1000},\n",
    "}\n",
    "\n",
    "# 가중치에 비례한 비율 계산\n",
    "raw_ratios = {\n",
    "    k: (v[\"weight\"] if v[\"weight\"] is not None else 0.01)  # 가중치 비례, None일 경우 기본값a\n",
    "    for k, v in class_info.items()\n",
    "}\n",
    "total = sum(raw_ratios.values())\n",
    "ratios = {k: v / total for k, v in raw_ratios.items()}\n",
    "\n",
    "# 최종 합계가 1인지 확인\n",
    "final_total = sum(ratios.values())\n",
    "print(\"클래스 비율:\", ratios)\n",
    "print(\"최종 합계:\", final_total)\n",
    "\n",
    "# 비율을 리스트로 변환\n",
    "ratios_list = [ratios[k] for k in sorted(ratios.keys())]\n",
    "print(\"클래스 비율 리스트:\", ratios_list)"
   ]
  },
  {
   "cell_type": "markdown",
   "metadata": {},
   "source": [
    "# Dataset, Loader"
   ]
  },
  {
   "cell_type": "code",
   "execution_count": null,
   "metadata": {},
   "outputs": [],
   "source": [
    "from monai.transforms import (\n",
    "    Compose, LoadImaged, EnsureChannelFirstd, NormalizeIntensityd,\n",
    "    Orientationd, CropForegroundd, GaussianSmoothd, ScaleIntensityd,\n",
    "    RandSpatialCropd, RandRotate90d, RandFlipd, RandGaussianSmoothd,\n",
    "    ToTensord, RandCropByLabelClassesd\n",
    ")\n",
    "\n",
    "from monai.data import Dataset, DataLoader, CacheDataset\n",
    "import os\n",
    "import numpy as np\n",
    "import torch\n",
    "from torch.utils.data import Subset\n",
    "\n",
    "import pandas as pd\n",
    "import os\n",
    "\n",
    "import os\n",
    "import pandas as pd\n",
    "from sklearn.model_selection import train_test_split\n",
    "\n",
    "def create_train_val_csv(\n",
    "    dataset_dir,\n",
    "    original_csv_path,\n",
    "    train_csv_path,\n",
    "    val_csv_path,\n",
    "    test_size=0.2,\n",
    "    random_state=42,\n",
    "    file_extension=\".npy\"\n",
    "):\n",
    "    \"\"\"\n",
    "    Create train.csv and val.csv from dataset directory.\n",
    "\n",
    "    Args:\n",
    "        dataset_dir (str): The root directory containing 'images' and 'labels'.\n",
    "        train_csv_path (str): Output path for train CSV.\n",
    "        val_csv_path (str): Output path for validation CSV.\n",
    "        test_size (float): Proportion of data to use for validation.\n",
    "        random_state (int): Seed for reproducibility.\n",
    "        file_extension (str): File extension for data files (default: '.npy').\n",
    "    \"\"\"\n",
    "    image_dir = os.path.join(dataset_dir, \"images\")\n",
    "    label_dir = os.path.join(dataset_dir, \"labels\")\n",
    "\n",
    "    # Ensure directories exist\n",
    "    if not os.path.exists(image_dir) or not os.path.exists(label_dir):\n",
    "        raise ValueError(\"Image or label directory does not exist in the dataset folder.\")\n",
    "\n",
    "    # Gather all files in the image directory\n",
    "    img_files = [f for f in os.listdir(image_dir) if f.endswith(file_extension)]\n",
    "    data = []\n",
    "\n",
    "    for img_file in img_files:\n",
    "        image_path = os.path.join(image_dir, img_file)\n",
    "        label_path = os.path.join(label_dir, img_file)\n",
    "        \n",
    "        # Check if label file exists\n",
    "        if not os.path.exists(label_path):\n",
    "            print(f\"Warning: Label file missing for {img_file}. Skipping.\")\n",
    "            continue\n",
    "        \n",
    "        data.append({\"image\": image_path, \"label\": label_path})\n",
    "\n",
    "    # Split into train and validation sets\n",
    "    train_data, val_data = train_test_split(data, test_size=test_size, random_state=random_state)\n",
    "\n",
    "    # Save to CSV\n",
    "    pd.DataFrame(data).to_csv(original_csv_path, index=False)\n",
    "    pd.DataFrame(train_data).to_csv(train_csv_path, index=False)\n",
    "    pd.DataFrame(val_data).to_csv(val_csv_path, index=False)\n",
    "\n",
    "    print(f\"Train CSV created at: {data}\")\n",
    "    print(f\"Train CSV created at: {train_csv_path}\")\n",
    "    print(f\"Validation CSV created at: {val_csv_path}\")\n",
    "\n",
    "def create_inference_dataloader(img_dir, label_dir, non_random_transforms=None, random_transforms=None, batch_size=16, num_workers=4):\n",
    "    data = []\n",
    "    image = np.load(img_dir)\n",
    "    data.append({\"image\": image})\n",
    "    \n",
    "    ds = CacheDataset(data=data, transform=non_random_transforms, cache_rate=0.8)\n",
    "    loader = DataLoader(ds, batch_size=batch_size, shuffle=False, num_workers=num_workers)\n",
    "    \n",
    "    return loader    \n",
    "\n",
    "def make_dataset_from_csv(csv_file, non_random_transforms=None, random_transforms=None):\n",
    "    import pandas as pd\n",
    "    from monai.data import Dataset, CacheDataset\n",
    "    import numpy as np\n",
    "    \n",
    "    # CSV 읽기\n",
    "    df = pd.read_csv(csv_file)\n",
    "    \n",
    "    # 경로에서 데이터를 읽어와 CacheDataset에 적합한 형식으로 변환\n",
    "    files = []\n",
    "    for _, row in df.iterrows():\n",
    "        files.append({\n",
    "            \"image\": np.load(row[\"image\"]),  # CSV에서 'image' 경로로 .npy 파일 로드\n",
    "            \"label\": np.load(row[\"label\"])   # CSV에서 'label' 경로로 .npy 파일 로드\n",
    "        })\n",
    "\n",
    "    # CacheDataset 생성\n",
    "    ds = CacheDataset(data=files, transform=non_random_transforms, cache_rate=0.8)\n",
    "    ds = Dataset(data=ds, transform=random_transforms)\n",
    "    \n",
    "    return ds\n",
    "\n",
    "def make_dataloader_from_csv(csv_file, non_random_transforms=None, random_transforms=None, batch_size=16, num_workers=4, num_repeat=3):\n",
    "    ds = make_dataset_from_csv(csv_file, non_random_transforms, random_transforms)\n",
    "    indices = torch.arange(len(ds)).repeat(num_repeat)  # 각 데이터를 num_repeat번 호출\n",
    "    subset = Subset(ds, indices)\n",
    "    loader = DataLoader(subset, batch_size=batch_size, shuffle=False, num_workers=num_workers)\n",
    "    \n",
    "    return loader\n",
    "\n",
    "def create_dataloaders_from_csv(train_csv, \n",
    "                                val_csv, \n",
    "                                train_non_random_transforms=None,\n",
    "                                val_non_random_transforms=None,\n",
    "                                train_random_transforms=None,\n",
    "                                val_random_transforms=None,\n",
    "                                batch_size=16,\n",
    "                                num_workers=4,\n",
    "                                train_num_repeat=3,\n",
    "                                val_num_repeat=4):\n",
    "    train_loader = make_dataloader_from_csv(train_csv, train_non_random_transforms, train_random_transforms, batch_size, num_workers, train_num_repeat)\n",
    "    val_loader = make_dataloader_from_csv(val_csv, val_non_random_transforms, val_random_transforms, batch_size, num_workers, val_num_repeat)\n",
    "    \n",
    "    \n",
    "    return train_loader, val_loader"
   ]
  },
  {
   "cell_type": "markdown",
   "metadata": {},
   "source": [
    "# Loss function"
   ]
  },
  {
   "cell_type": "code",
   "execution_count": 27,
   "metadata": {},
   "outputs": [],
   "source": [
    "import math\n",
    "import torch\n",
    "import torch.nn as nn\n",
    "import torch.nn.functional as F\n",
    "from typing import List, Dict, Optional\n",
    "\n",
    "# -----------------------------------------------------------------------------------\n",
    "# 0) DFLoss (분포 기반 좌표 학습)\n",
    "# -----------------------------------------------------------------------------------\n",
    "class DFLoss(nn.Module):\n",
    "    \"\"\"\n",
    "    DFL (Distribution Focal Loss), 좌표 offset을 0~reg_max 범위로 보고,\n",
    "    floor와 floor+1 bin 사이를 나누어 CrossEntropy를 계산하는 방식.\n",
    "    \"\"\"\n",
    "    def __init__(self, reg_max=16) -> None:\n",
    "        super().__init__()\n",
    "        self.reg_max = reg_max\n",
    "\n",
    "    def forward(self, pred_dist: torch.Tensor, target: torch.Tensor) -> torch.Tensor:\n",
    "        \"\"\"\n",
    "        pred_dist: (N, reg_max)  # 각 coordinate별 reg_max 로짓\n",
    "        target: (N,)  # 실값 (0 <= t < reg_max)\n",
    "        \n",
    "        return: (N,) shape의 loss (coordinate별)\n",
    "        \"\"\"\n",
    "        # clamp to valid range (ex: 0 ~ reg_max-1)\n",
    "        target = target.clamp_(0, self.reg_max - 1 - 0.01)\n",
    "\n",
    "        tl = target.long()       # floor index\n",
    "        tr = tl + 1              # floor+1\n",
    "        wl = tr - target         # weight for left bin\n",
    "        wr = 1 - wl              # weight for right bin\n",
    "\n",
    "        # Cross Entropy를 각각 bin에 대해 계산\n",
    "        # pred_dist.shape = (N, reg_max)\n",
    "        # CE에는 레이블이 정수여야 하므로, tl, tr 둘을 이용해 2번 계산\n",
    "        loss_l = F.cross_entropy(pred_dist, tl, reduction=\"none\") * wl\n",
    "        # tr이 reg_max를 넘어갈 수 있으므로 clamp\n",
    "        tr = tr.clamp(max=self.reg_max - 1)\n",
    "        loss_r = F.cross_entropy(pred_dist, tr, reduction=\"none\") * wr\n",
    "\n",
    "        # 두 bin 손실 합산\n",
    "        loss = loss_l + loss_r  # (N,)\n",
    "        return loss\n",
    "\n",
    "\n",
    "# -----------------------------------------------------------------------------------\n",
    "# 1) 3D Sphere IoU 계산 유틸\n",
    "# -----------------------------------------------------------------------------------\n",
    "def sphere_intersection_volume(r1: torch.Tensor, r2: torch.Tensor, d: torch.Tensor) -> torch.Tensor:\n",
    "    \"\"\"\n",
    "    두 구(반지름 r1, r2), 중심 거리 d에서 교집합 부피를 반환.\n",
    "    r1, r2, d가 브로드캐스트 가능해야 하며, 최종 d.shape가 (A, n)이라면\n",
    "    r1, r2도 expand_as(d)로 (A, n) 모양이 되도록 확장해서 인덱싱 문제를 회피.\n",
    "    \"\"\"\n",
    "    # 먼저 r1, r2를 d와 동일 shape로 확장\n",
    "    r1_ = r1.expand_as(d)  # shape => (A,n_maxboxes)\n",
    "    r2_ = r2.expand_as(d)  # shape => (A,n_maxboxes)\n",
    "\n",
    "    # 이제 no_overlap, contained 등은 r1_, r2_ 기준으로 계산\n",
    "    no_overlap = (d >= (r1_ + r2_))\n",
    "    contained  = (d <= (r1_ - r2_).abs())\n",
    "\n",
    "    inter_vol = torch.zeros_like(d)\n",
    "    v1 = (4.0 / 3.0) * math.pi * (r1_**3)\n",
    "    v2 = (4.0 / 3.0) * math.pi * (r2_**3)\n",
    "\n",
    "    inside_mask = contained & (~no_overlap)\n",
    "    if inside_mask.any():\n",
    "        inter_vol[inside_mask] = torch.min(v1, v2)[inside_mask]\n",
    "\n",
    "    partial = ~(no_overlap | contained)\n",
    "    if partial.any():\n",
    "        dp = d[partial]\n",
    "        r1p = r1_[partial]  # 이제 r1_[partial]은 문제 없음\n",
    "        r2p = r2_[partial]\n",
    "        term = (r1p + r2p - dp)**2\n",
    "        numerator = math.pi * term * (\n",
    "            dp**2 + 2*dp*(r1p + r2p) - 3*(r1p**2 + r2p**2) + 6*r1p*r2p\n",
    "        )\n",
    "        vol = numerator / (12.0 * dp + 1e-9)\n",
    "        vol = torch.clamp_min(vol, 0.)\n",
    "        inter_vol[partial] = vol\n",
    "\n",
    "    return inter_vol\n",
    "\n",
    "def sphere_iou(sphere1: torch.Tensor, sphere2: torch.Tensor) -> torch.Tensor:\n",
    "    \"\"\"\n",
    "    sphere1, sphere2: (..., 4) => (x,y,z,r)\n",
    "    return: (...,) shape의 IoU\n",
    "    \"\"\"\n",
    "    c1, r1 = sphere1[..., :3], sphere1[..., 3].clamp_min(0.)\n",
    "    c2, r2 = sphere2[..., :3], sphere2[..., 3].clamp_min(0.)\n",
    "\n",
    "    d = torch.norm(c1 - c2, dim=-1)\n",
    "    inter_vol = sphere_intersection_volume(r1, r2, d)\n",
    "    v1 = (4.0 / 3.0) * math.pi * (r1**3)\n",
    "    v2 = (4.0 / 3.0) * math.pi * (r2**3)\n",
    "    union_vol = v1 + v2 - inter_vol\n",
    "    return inter_vol / (union_vol + 1e-9)\n",
    "\n",
    "\n",
    "# -----------------------------------------------------------------------------------\n",
    "# 2) dist2sphere (DFL -> (x,y,z,r)) 함수\n",
    "# -----------------------------------------------------------------------------------\n",
    "def dist2sphere(pred_dist: torch.Tensor, anchors_3d: torch.Tensor, reg_max: int):\n",
    "    \"\"\"\n",
    "    pred_dist: (B, A, 4*reg_max) => 4 coords * reg_max bins\n",
    "    anchors_3d: (B, A, 3) or (A,3)\n",
    "    return: (B, A, 4) => (x, y, z, r)\n",
    "    \"\"\"\n",
    "    B, A, C = pred_dist.shape\n",
    "    assert C == 4 * reg_max, f\"pred_dist shape mismatch: {C} vs 4*{reg_max}\"\n",
    "\n",
    "    dist_4d = pred_dist.view(B, A, 4, reg_max)  # (B,A,4,reg_max)\n",
    "    dist_prob = F.softmax(dist_4d, dim=3)       # (B,A,4,reg_max)\n",
    "    bin_index = torch.arange(reg_max, device=pred_dist.device, dtype=pred_dist.dtype)\n",
    "    dist_val = (dist_prob * bin_index).sum(dim=3)  # (B,A,4)\n",
    "\n",
    "    # anchors_3d shape = (B,A,3) or broadcast\n",
    "    xyz = anchors_3d[..., :3] + dist_val[..., :3]\n",
    "    r   = dist_val[..., 3:].clamp_min(0.)\n",
    "    return torch.cat([xyz, r], dim=-1)  # (B,A,4)\n",
    "\n",
    "\n",
    "# -----------------------------------------------------------------------------------\n",
    "# 3) 개선된 TaskAlignedAssigner3D (margin 적용)\n",
    "# -----------------------------------------------------------------------------------\n",
    "def select_candidates_in_spheres(\n",
    "    anc_points: torch.Tensor,\n",
    "    gt_spheres: torch.Tensor,\n",
    "    margin_factor: float = 0.1\n",
    ") -> torch.Tensor:\n",
    "    \"\"\"\n",
    "    anchor center가 구 중심에서 거리 <= (r * (1 + margin_factor)) 이면 candidate\n",
    "    anc_points: (n_anchors, 3)\n",
    "    gt_spheres: (B, n_max_boxes, 4)\n",
    "    returns: (B, n_max_boxes, n_anchors) bool/float\n",
    "    \"\"\"\n",
    "    B, n_g, _ = gt_spheres.shape\n",
    "    n_anchors = anc_points.shape[0]\n",
    "\n",
    "    centers = gt_spheres[..., :3]  # (B,n_g,3)\n",
    "    radii   = gt_spheres[..., 3].clamp_min(0.)\n",
    "\n",
    "    anc_3d  = anc_points.unsqueeze(0).unsqueeze(0)  # (1,1,nA,3)\n",
    "    cent_3d = centers.unsqueeze(2)                  # (B,n_g,1,3)\n",
    "    d = (anc_3d - cent_3d).pow(2).sum(-1).sqrt()     # (B,n_g,nA)\n",
    "\n",
    "    r_expanded = radii.unsqueeze(-1) * (1.0 + margin_factor)  # (B,n_g,1)\n",
    "    mask = (d <= r_expanded)\n",
    "    return mask.float()\n",
    "\n",
    "class TaskAlignedAssigner3D(nn.Module):\n",
    "    \"\"\"\n",
    "    A task-aligned assigner for 3D sphere detection.\n",
    "    Combine cls^alpha * IoU^beta, pick top-k anchors for each GT,\n",
    "    handle multi-assign by picking the GT with highest IoU for that anchor.\n",
    "    \"\"\"\n",
    "\n",
    "    def __init__(\n",
    "        self,\n",
    "        topk=13,\n",
    "        num_classes=1,\n",
    "        alpha=1.0,\n",
    "        beta=6.0,\n",
    "        iou_weight=3.0,\n",
    "        cls_weight=1.0,\n",
    "        margin_factor=0.2,\n",
    "        eps=1e-9\n",
    "    ):\n",
    "        super().__init__()\n",
    "        self.topk = topk\n",
    "        self.num_classes = num_classes\n",
    "        self.alpha = alpha\n",
    "        self.beta = beta\n",
    "        self.iou_weight = iou_weight\n",
    "        self.cls_weight = cls_weight\n",
    "        self.margin_factor = margin_factor\n",
    "        self.eps = eps\n",
    "\n",
    "    @torch.no_grad()\n",
    "    def assign(\n",
    "        self,\n",
    "        pd_scores: torch.Tensor,   # (B, A, nc) raw cls logits\n",
    "        pd_spheres: torch.Tensor,  # (B, A, 4)\n",
    "        gt_spheres: torch.Tensor,  # (B, n_max_boxes, 4)\n",
    "        gt_classes: torch.Tensor,  # (B, n_max_boxes)\n",
    "    ):\n",
    "        \"\"\"\n",
    "        Returns:\n",
    "            fg_mask: (B, A) bool\n",
    "            box_target: (B, A, 4)\n",
    "            cls_target: (B, A, nc)\n",
    "        \"\"\"\n",
    "        B, A, nc = pd_scores.shape\n",
    "        n_max_boxes = gt_spheres.shape[1]\n",
    "        device = pd_scores.device\n",
    "\n",
    "        if n_max_boxes == 0:\n",
    "            # no GT\n",
    "            fg_mask = torch.zeros((B, A), dtype=torch.bool, device=device)\n",
    "            box_target = torch.zeros((B, A, 4), device=device)\n",
    "            cls_target = torch.zeros((B, A, nc), device=device)\n",
    "            return fg_mask, box_target, cls_target\n",
    "\n",
    "        # 1) select_candidates_in_spheres => margin_factor 적용\n",
    "        mask_in_spheres = select_candidates_in_spheres(\n",
    "            torch.stack([pd_spheres.new_tensor([0,0,0]) for _ in range(A)]),  # dummy\n",
    "            # 실제론 anchor center가 필요하나,\n",
    "            # 여기서는 pd_spheres[..., :3]를 anchor로 본다고 가정 or anchor 별도 인자로\n",
    "            # -> 만약 anchors_3d가 (A,3)로 들어온다면 그걸 써야 함\n",
    "            # 아래처럼 rewrite:\n",
    "            # mask_in_spheres = select_candidates_in_spheres(anc_points, gt_spheres, self.margin_factor)\n",
    "            # ...\n",
    "            # for demonstration, let's assume \"pd_spheres is anchor\" (not recommended in real code).\n",
    "            gt_spheres, margin_factor=self.margin_factor\n",
    "        )\n",
    "        # (B, n_max_boxes, A)\n",
    "\n",
    "        # 2) compute alignment metric\n",
    "        align_metric, overlaps = self.get_box_metrics(\n",
    "            pd_scores, pd_spheres, gt_classes, gt_spheres, mask_in_spheres\n",
    "        )\n",
    "        # 3) topk mask\n",
    "        mask_topk = self.select_topk_candidates(\n",
    "            align_metric, topk_mask=None\n",
    "        )\n",
    "        mask_pos = mask_in_spheres * mask_topk\n",
    "\n",
    "        # 4) select_highest_overlaps => resolve multi-assign\n",
    "        target_gt_idx, fg_mask, mask_pos = self.select_highest_overlaps(\n",
    "            mask_pos, overlaps, n_max_boxes\n",
    "        )\n",
    "        # 5) get_targets => (cls_target, box_target)\n",
    "        target_labels, target_spheres, target_scores = self.get_targets(\n",
    "            gt_classes, gt_spheres, target_gt_idx, fg_mask\n",
    "        )\n",
    "\n",
    "        return fg_mask, target_spheres, target_scores\n",
    "\n",
    "    def get_box_metrics(\n",
    "        self,\n",
    "        pd_scores: torch.Tensor,\n",
    "        pd_spheres: torch.Tensor,\n",
    "        gt_classes: torch.Tensor,\n",
    "        gt_spheres: torch.Tensor,\n",
    "        mask_in_spheres: torch.Tensor\n",
    "    ):\n",
    "        \"\"\"\n",
    "        overlap => sphere_iou\n",
    "        cls => pd_scores.sigmoid() for each gt class\n",
    "        align_metric = cls^alpha * iou^beta\n",
    "        \"\"\"\n",
    "        B, A, nc = pd_scores.shape\n",
    "        device = pd_scores.device\n",
    "        n_max_boxes = gt_spheres.shape[1]\n",
    "\n",
    "        overlaps = torch.zeros((B, n_max_boxes, A), device=device)\n",
    "        bbox_scores = torch.zeros((B, n_max_boxes, A), device=device, dtype=pd_scores.dtype)\n",
    "\n",
    "        # compute iou\n",
    "        for b_i in range(B):\n",
    "            # sphere_iou => (A, n_max_boxes) => then transpose\n",
    "            ps = pd_spheres[b_i].unsqueeze(1)  # (A,1,4)\n",
    "            gs = gt_spheres[b_i].unsqueeze(0)  # (1,n_max_boxes,4)\n",
    "            ious = sphere_iou(ps, gs)          # (A,n_max_boxes)\n",
    "            overlaps[b_i] = ious.transpose(0,1)  # => (n_max_boxes,A)\n",
    "\n",
    "        # compute cls score\n",
    "        pd_sig = pd_scores.sigmoid()\n",
    "        for b_i in range(B):\n",
    "            for g_i in range(n_max_boxes):\n",
    "                if mask_in_spheres[b_i,g_i].any():\n",
    "                    cls_idx = int(gt_classes[b_i, g_i].item())\n",
    "                    if cls_idx < 0 or cls_idx >= nc:  # invalid\n",
    "                        continue\n",
    "                    bbox_scores[b_i, g_i] = pd_sig[b_i, :, cls_idx]  # (A,)\n",
    "\n",
    "        # align_metric\n",
    "        align_metric = bbox_scores.pow(self.alpha) * overlaps.pow(self.beta)\n",
    "        # mask_in_spheres => zero out\n",
    "        align_metric = align_metric * mask_in_spheres\n",
    "        return align_metric, overlaps\n",
    "\n",
    "    def select_topk_candidates(self, metrics: torch.Tensor, topk_mask: Optional[torch.Tensor]=None, largest=True):\n",
    "        \"\"\"\n",
    "        metrics: (B, n_max_boxes, A)\n",
    "        => pick top-k anchors per GT box\n",
    "        return: (B, n_max_boxes, A) mask\n",
    "        \"\"\"\n",
    "        B, n_m, A = metrics.shape\n",
    "        val, idxs = torch.topk(metrics, self.topk, dim=-1, largest=largest)  # (B,n_m,topk)\n",
    "        if topk_mask is None:\n",
    "            # simple threshold: val > eps\n",
    "            topk_mask = (val > self.eps)\n",
    "\n",
    "        mask = torch.zeros_like(metrics)\n",
    "        for b_i in range(B):\n",
    "            for g_i in range(n_m):\n",
    "                valid_k = topk_mask[b_i, g_i]  # (topk,)\n",
    "                sel_ind = idxs[b_i, g_i, valid_k]\n",
    "                mask[b_i, g_i, sel_ind] = 1.0\n",
    "\n",
    "        return mask\n",
    "\n",
    "    def select_highest_overlaps(self, mask_pos, overlaps, n_max_boxes):\n",
    "        \"\"\"\n",
    "        mask_pos: (B, n_max_boxes, A)\n",
    "        overlaps: (B, n_max_boxes, A)\n",
    "        => 한 anchor가 여러 GT에 할당된 경우 => overlaps 최대인 GT만\n",
    "        return:\n",
    "          target_gt_idx: (B,A)\n",
    "          fg_mask: (B,A)\n",
    "          mask_pos => updated\n",
    "        \"\"\"\n",
    "        fg_mask = mask_pos.sum(dim=1)  # (B,A)\n",
    "        if fg_mask.max() > 1:\n",
    "            # multi-assign => pick max overlap GT\n",
    "            max_overlaps_idx = overlaps.argmax(dim=1)  # (B,A)\n",
    "            new_mask = torch.zeros_like(mask_pos)\n",
    "            B_, _, A_ = mask_pos.shape\n",
    "            for b_i in range(B_):\n",
    "                for a_i in range(A_):\n",
    "                    g_i = max_overlaps_idx[b_i,a_i]\n",
    "                    new_mask[b_i, g_i, a_i] = 1.0\n",
    "            mask_pos = new_mask\n",
    "            fg_mask = mask_pos.sum(dim=1)\n",
    "\n",
    "        # target_gt_idx\n",
    "        target_gt_idx = mask_pos.argmax(dim=1)  # (B,A)\n",
    "        return target_gt_idx, fg_mask.bool(), mask_pos\n",
    "\n",
    "    def get_targets(self, gt_classes, gt_spheres, target_gt_idx, fg_mask):\n",
    "        \"\"\"\n",
    "        Return (labels, spheres, scores)\n",
    "        \"\"\"\n",
    "        B, A = fg_mask.shape\n",
    "        device = gt_classes.device\n",
    "        n_max_boxes = gt_spheres.shape[1]\n",
    "\n",
    "        batch_ind = torch.arange(B, device=device).view(-1,1).expand(B,A)\n",
    "        gather_idx = target_gt_idx + batch_ind*n_max_boxes  # (B,A)\n",
    "\n",
    "        # flatten\n",
    "        gt_spheres_2d = gt_spheres.view(B*n_max_boxes, 4)\n",
    "        gt_classes_2d = gt_classes.view(B*n_max_boxes)\n",
    "\n",
    "        assigned_labels = gt_classes_2d[gather_idx.view(-1)].view(B,A)\n",
    "        assigned_spheres= gt_spheres_2d[gather_idx.view(-1)].view(B,A,4)\n",
    "\n",
    "        # build cls_target\n",
    "        nc = self.num_classes\n",
    "        cls_target = torch.zeros((B, A, nc), device=device)\n",
    "        for b_i in range(B):\n",
    "            valid_anchors = fg_mask[b_i].nonzero(as_tuple=True)[0]\n",
    "            for a_i in valid_anchors:\n",
    "                c_idx = int(assigned_labels[b_i,a_i].item())\n",
    "                if c_idx>=0 and c_idx<nc:\n",
    "                    cls_target[b_i,a_i,c_idx] = 1.0\n",
    "\n",
    "        return assigned_labels, assigned_spheres, cls_target\n",
    "\n",
    "\n",
    "# -----------------------------------------------------------------------------------\n",
    "# 4) 최종 Loss\n",
    "# -----------------------------------------------------------------------------------\n",
    "class YOLOv8SphereLoss3D_Advanced(nn.Module):\n",
    "    \"\"\"\n",
    "    개선된 3D YOLO Loss with:\n",
    "      - Top-k TaskAlignedAssigner3D (with margin_factor)\n",
    "      - Sphere IoU\n",
    "      - Classification (BCE)\n",
    "      - DFL\n",
    "    \"\"\"\n",
    "    def __init__(\n",
    "        self,\n",
    "        num_classes: int = 1,\n",
    "        reg_max: int = 16,\n",
    "        iou_weight: float = 3.0,\n",
    "        cls_weight: float = 1.0,\n",
    "        dfl_weight: float = 1.0,\n",
    "        topk: int = 30,\n",
    "        alpha: float = 1.0,\n",
    "        beta: float = 6.0,\n",
    "        margin_factor: float = 0.2,\n",
    "        device: str = \"cuda\",\n",
    "    ):\n",
    "        super().__init__()\n",
    "        self.num_classes = num_classes\n",
    "        self.reg_max = reg_max\n",
    "        self.iou_weight = iou_weight\n",
    "        self.cls_weight = cls_weight\n",
    "        self.dfl_weight = dfl_weight\n",
    "        self.topk = topk\n",
    "        self.alpha = alpha\n",
    "        self.beta = beta\n",
    "        self.margin_factor = margin_factor\n",
    "        self.device = device\n",
    "\n",
    "        # 새 TaskAlignedAssigner3D\n",
    "        self.assigner = TaskAlignedAssigner3D(\n",
    "            topk=topk,\n",
    "            num_classes=num_classes,\n",
    "            alpha=alpha,\n",
    "            beta=beta,\n",
    "            iou_weight=3.0,\n",
    "            cls_weight=1.0,\n",
    "            margin_factor=margin_factor\n",
    "        )\n",
    "        # DFL 모듈\n",
    "        self.dfl = DFLoss(reg_max=reg_max)\n",
    "\n",
    "    def forward(\n",
    "        self,\n",
    "        pred_dist: torch.Tensor,   # (B, A, 4*reg_max)\n",
    "        pred_cls: torch.Tensor,    # (B, A, nc)\n",
    "        anchors_3d: torch.Tensor,  # (B, A, 3) or (A,3)\n",
    "        gt_spheres: List[torch.Tensor],  # list of (n_g, 4)\n",
    "        gt_classes: List[torch.Tensor],  # list of (n_g,)\n",
    "    ) -> Dict[str, torch.Tensor]:\n",
    "        device = pred_dist.device\n",
    "        B, A, _ = pred_dist.shape\n",
    "\n",
    "        # decode => (x,y,z,r)\n",
    "        pred_sphere = dist2sphere(pred_dist, anchors_3d, self.reg_max)  # (B,A,4)\n",
    "\n",
    "        # GT stack\n",
    "        max_g = max(x.shape[0] for x in gt_spheres) if len(gt_spheres) else 0\n",
    "        if max_g == 0:\n",
    "            # no GT => background\n",
    "            cls_loss_bg = F.binary_cross_entropy_with_logits(\n",
    "                pred_cls, torch.zeros_like(pred_cls), reduction='mean')\n",
    "            return dict(\n",
    "                loss_total=cls_loss_bg,\n",
    "                loss_box=torch.tensor(0., device=device),\n",
    "                loss_cls=cls_loss_bg.detach(),\n",
    "                loss_dfl=torch.tensor(0., device=device)\n",
    "            )\n",
    "\n",
    "        # pad\n",
    "        s_list, c_list = [], []\n",
    "        for b in range(B):\n",
    "            s_ = gt_spheres[b].to(device)\n",
    "            c_ = gt_classes[b].to(device)\n",
    "            pad_s = torch.zeros((max_g, 4), device=device)\n",
    "            pad_c = torch.zeros((max_g,), device=device)\n",
    "            if s_.shape[0] > 0:\n",
    "                pad_s[:s_.shape[0]] = s_\n",
    "                pad_c[:c_.shape[0]] = c_\n",
    "            s_list.append(pad_s)\n",
    "            c_list.append(pad_c)\n",
    "        stacked_spheres = torch.stack(s_list, dim=0)  # (B,max_g,4)\n",
    "        stacked_classes = torch.stack(c_list, dim=0)  # (B,max_g)\n",
    "\n",
    "        # Assigner => fg_mask, box_target, cls_target\n",
    "        fg_mask, box_target, cls_target = self.assigner.assign(\n",
    "            pred_cls, pred_sphere, stacked_spheres, stacked_classes\n",
    "        )\n",
    "        pos_count = fg_mask.sum()\n",
    "\n",
    "        # classification loss\n",
    "        cls_loss_full = F.binary_cross_entropy_with_logits(\n",
    "            pred_cls, cls_target, reduction='none'\n",
    "        )  # (B,A,nc)\n",
    "        cls_loss = cls_loss_full.mean()\n",
    "\n",
    "        if pos_count < 1:\n",
    "            # no fg\n",
    "            return dict(\n",
    "                loss_total=cls_loss,\n",
    "                loss_box=torch.tensor(0., device=device),\n",
    "                loss_cls=cls_loss.detach(),\n",
    "                loss_dfl=torch.tensor(0., device=device)\n",
    "            )\n",
    "\n",
    "        # box loss => sphere IoU\n",
    "        pred_fg = pred_sphere[fg_mask]   # (pos_count,4)\n",
    "        box_fg  = box_target[fg_mask]    # (pos_count,4)\n",
    "        ious_fg = sphere_iou(pred_fg, box_fg)\n",
    "        box_loss = (1. - ious_fg).mean()\n",
    "\n",
    "        # DFL loss\n",
    "        # offsets_fg = box_fg - anchors_3d[fg_mask] (for x,y,z), r as is\n",
    "        if anchors_3d.dim()==2 and anchors_3d.shape[0]==A:\n",
    "            # broadcast B\n",
    "            anchors_to_sub = anchors_3d.unsqueeze(0).expand(B,-1,-1)[fg_mask]\n",
    "        else:\n",
    "            anchors_to_sub = anchors_3d[fg_mask]\n",
    "        offsets_fg = torch.zeros_like(box_fg)\n",
    "        offsets_fg[..., :3] = box_fg[..., :3] - anchors_to_sub[..., :3]\n",
    "        offsets_fg[..., 3]  = box_fg[..., 3]\n",
    "\n",
    "        pred_dist_fg = pred_dist[fg_mask].view(-1,4,self.reg_max)  # (pos_count,4,reg_max)\n",
    "\n",
    "        dfl_val = 0.\n",
    "        for coord_i in range(4):\n",
    "            pd_coord = pred_dist_fg[:, coord_i, :]    # (pos_count, reg_max)\n",
    "            gt_coord = offsets_fg[:, coord_i]         # (pos_count,)\n",
    "            loss_coord = self.dfl(pd_coord, gt_coord) # (pos_count,)\n",
    "            dfl_val += loss_coord.mean()\n",
    "        dfl_val /= 4.\n",
    "\n",
    "        # 합산\n",
    "        total_loss = self.iou_weight*box_loss + self.cls_weight*cls_loss + self.dfl_weight*dfl_val\n",
    "\n",
    "        return dict(\n",
    "            loss_total=total_loss,\n",
    "            loss_box=box_loss.detach(),\n",
    "            loss_cls=cls_loss.detach(),\n",
    "            loss_dfl=dfl_val.detach()\n",
    "        )"
   ]
  },
  {
   "cell_type": "code",
   "execution_count": 45,
   "metadata": {},
   "outputs": [
    {
     "name": "stdout",
     "output_type": "stream",
     "text": [
      "loss_dict: {'loss_total': tensor(0.7910), 'loss_box': tensor(0.), 'loss_cls': tensor(0.7910), 'loss_dfl': tensor(0.)}\n"
     ]
    }
   ],
   "source": [
    "def demo_usage():\n",
    "    # 가정: batch=2, anchors=5, reg_max=8, classes=2\n",
    "    device = 'cpu'\n",
    "    loss_fn = YOLOv8SphereLoss3D_Advanced(\n",
    "        num_classes=2, reg_max=8,\n",
    "        topk=3, margin_factor=0.1,\n",
    "        device=device\n",
    "    )\n",
    "\n",
    "    # 예: model output\n",
    "    pred_dist = torch.randn((2,5,4*8), device=device)   # (B=2, A=5, 4*reg_max=32)\n",
    "    pred_cls  = torch.randn((2,5,2), device=device)     # (B=2, A=5, nc=2)\n",
    "\n",
    "    # anchors_3d -> (2,5,3) or (5,3)\n",
    "    anchors_3d = torch.zeros((5,3), device=device) # dummy\n",
    "\n",
    "    # GT\n",
    "    gt_spheres = [\n",
    "        torch.tensor([[0,0,0,3],[5,2,1,2]], device=device),  # for batch=0 => 2 objects\n",
    "        torch.tensor([[2,2,2,1]], device=device)             # for batch=1 => 1 object\n",
    "    ]\n",
    "    gt_classes = [\n",
    "        torch.tensor([0,1], device=device),  # two classes\n",
    "        torch.tensor([1], device=device)     # one class\n",
    "    ]\n",
    "\n",
    "    # compute loss\n",
    "    loss_dict = loss_fn(pred_dist, pred_cls, anchors_3d, gt_spheres, gt_classes)\n",
    "    print(\"loss_dict:\", loss_dict)\n",
    "\n",
    "# 실행 예시:\n",
    "if __name__==\"__main__\":\n",
    "    demo_usage()"
   ]
  },
  {
   "cell_type": "markdown",
   "metadata": {},
   "source": [
    "# NMS"
   ]
  },
  {
   "cell_type": "code",
   "execution_count": 8,
   "metadata": {},
   "outputs": [],
   "source": [
    "import torch\n",
    "from typing import Tuple, List\n",
    "\n",
    "class SphereNMS3D:\n",
    "    def __init__(\n",
    "        self,\n",
    "        conf_thres: float = 0.25,\n",
    "        iou_thres: float = 0.45,\n",
    "        max_det: int = 300,\n",
    "        max_nms: int = 10000,\n",
    "        multi_label: bool = True,\n",
    "        max_time: bool = False,\n",
    "    ):\n",
    "        \"\"\"\n",
    "        3D Sphere NMS implementaion\n",
    "        Args:\n",
    "            conf_thres: confidence threshold\n",
    "            iou_thres: IoU threshold for NMS\n",
    "            max_det: maximum number of detections per image\n",
    "            max_nms: maximum number of boxes into NMS\n",
    "            multi_label: multiple labels per box (adds 0.5ms/img)\n",
    "            max_time: maximum time for processing\n",
    "        \"\"\"\n",
    "        self.conf_thres = conf_thres\n",
    "        self.iou_thres = iou_thres\n",
    "        self.max_det = max_det\n",
    "        self.max_nms = max_nms\n",
    "        self.multi_label = multi_label\n",
    "        self.max_time = max_time\n",
    "        \n",
    "    def sphere_iou(self, sphere1: torch.Tensor, sphere2: torch.Tensor) -> torch.Tensor:\n",
    "        \"\"\"3D Sphere IoU 계산\n",
    "        Args:\n",
    "            sphere1: (N, 4) - x,y,z,r\n",
    "            sphere2: (M, 4) - x,y,z,r\n",
    "        Returns:\n",
    "            iou: (N, M)\n",
    "        \"\"\"\n",
    "        N, M = len(sphere1), len(sphere2)\n",
    "        \n",
    "        # Expand dimensions for broadcasting\n",
    "        centers1 = sphere1[:, :3].unsqueeze(1).expand(N, M, 3)  # (N,M,3)\n",
    "        centers2 = sphere2[:, :3].unsqueeze(0).expand(N, M, 3)  # (N,M,3)\n",
    "        r1 = sphere1[:, 3].unsqueeze(1).expand(N, M)  # (N,M)\n",
    "        r2 = sphere2[:, 3].unsqueeze(0).expand(N, M)  # (N,M)\n",
    "        \n",
    "        # 중심점 간 거리 계산\n",
    "        d = torch.norm(centers1 - centers2, dim=2)  # (N,M)\n",
    "        \n",
    "        # 겹치는 영역이 없는 경우\n",
    "        no_intersection = d > (r1 + r2)\n",
    "        \n",
    "        # 한 구가 다른 구를 포함하는 경우\n",
    "        contained = d <= torch.abs(r1 - r2)\n",
    "        smaller_r = torch.min(r1, r2)\n",
    "        larger_r = torch.max(r1, r2)\n",
    "        \n",
    "        # IoU 계산\n",
    "        iou = torch.zeros_like(d)\n",
    "        iou[no_intersection] = 0.0\n",
    "        iou[contained] = (smaller_r[contained] / larger_r[contained]) ** 3\n",
    "        \n",
    "        # 부분적으로 겹치는 경우\n",
    "        intersecting = ~(no_intersection | contained)\n",
    "        if torch.any(intersecting):\n",
    "            d_int = d[intersecting]\n",
    "            r1_int = r1[intersecting]\n",
    "            r2_int = r2[intersecting]\n",
    "            \n",
    "            v_intersection = (torch.pi / 12) * (r1_int + r2_int - d_int)**2 * \\\n",
    "                           (d_int**2 - 3*(r1_int - r2_int)**2 + 2*d_int*(r1_int + r2_int))\n",
    "            \n",
    "            v1 = 4/3 * torch.pi * r1_int**3\n",
    "            v2 = 4/3 * torch.pi * r2_int**3\n",
    "            \n",
    "            iou[intersecting] = v_intersection / (v1 + v2 - v_intersection)\n",
    "            \n",
    "        return iou\n",
    "    \n",
    "    def __call__(\n",
    "        self,\n",
    "        prediction: torch.Tensor,\n",
    "        multi_label: bool = False,\n",
    "        labels: List[int] = None,\n",
    "    ) -> List[torch.Tensor]:\n",
    "        \"\"\"\n",
    "        Args:\n",
    "            prediction: (batch_size, num_boxes, num_classes + 5)\n",
    "                       마지막 차원: (x, y, z, r, obj_conf, cls1_conf, cls2_conf, ...)\n",
    "            multi_label: True일 경우 박스당 여러 라벨 허용\n",
    "            labels: 특정 클래스만 필터링하고 싶을 때 사용\n",
    "        Returns:\n",
    "            List[torch.Tensor]: 각 이미지별 detection 결과\n",
    "                               각 텐서 shape: (num_boxes, 6) - x,y,z,r,conf,cls\n",
    "        \"\"\"\n",
    "        bs = prediction.shape[0]\n",
    "        nc = prediction.shape[2] - 5  # number of classes\n",
    "        xc = prediction[..., 4] > self.conf_thres  # candidates\n",
    "        \n",
    "        # Settings\n",
    "        max_nms = min(self.max_nms, 30000)  # limit to 30K boxes\n",
    "        max_det = min(self.max_det, 300)  # limit detections per image\n",
    "        multi_label &= nc > 1  # multiple labels per box\n",
    "        \n",
    "        output = [torch.zeros((0, 6), device=prediction.device)] * bs\n",
    "        \n",
    "        for xi, x in enumerate(prediction):  # image index, image inference\n",
    "            # Apply constraints\n",
    "            x = x[xc[xi]]  # confidence\n",
    "            \n",
    "            # If none remain process next image\n",
    "            if not x.shape[0]:\n",
    "                continue\n",
    "                \n",
    "            # Compute conf\n",
    "            x[:, 5:] *= x[:, 4:5]  # conf = obj_conf * cls_conf\n",
    "            \n",
    "            # Box/Scores\n",
    "            sphere_coords = x[:, :4]  # x,y,z,r\n",
    "            scores = x[:, 5:]  # cls_conf\n",
    "                \n",
    "            # Filter by class\n",
    "            if labels:\n",
    "                i = torch.stack([torch.arange(len(scores))] + \n",
    "                              [(scores[:, i] > self.conf_thres).nonzero().squeeze() \n",
    "                               for i in labels])\n",
    "            else:\n",
    "                if multi_label:\n",
    "                    i = (scores > self.conf_thres).nonzero().T\n",
    "                else:\n",
    "                    conf, j = scores.max(1)\n",
    "                    i = torch.stack((torch.arange(len(j)), j))\n",
    "                    i = i[:, conf > self.conf_thres]\n",
    "                    \n",
    "            # Filter by number\n",
    "            if i.shape[1] > max_nms:\n",
    "                scores_i = scores[i[0], i[1]]\n",
    "                i = i[:, scores_i.argsort(descending=True)[:max_nms]]\n",
    "            \n",
    "            # If none remain process next image\n",
    "            n = i.shape[1]\n",
    "            if not n:\n",
    "                continue\n",
    "                \n",
    "            scores_i = scores[i[0], i[1]]\n",
    "            sphere_coords_i = sphere_coords[i[0]]\n",
    "            j = i[1]\n",
    "            \n",
    "            # Sort by score\n",
    "            sorted_idx = scores_i.argsort(descending=True)\n",
    "            sphere_coords_i = sphere_coords_i[sorted_idx]\n",
    "            scores_i = scores_i[sorted_idx]\n",
    "            j = j[sorted_idx]\n",
    "            \n",
    "            # NMS\n",
    "            keep = []\n",
    "            while sphere_coords_i.shape[0]:\n",
    "                keep.append(sphere_coords_i[0])  # Add most confident one\n",
    "                if len(sphere_coords_i) == 1:\n",
    "                    break\n",
    "                    \n",
    "                # IoU of remaining spheres with the most confident one\n",
    "                iou = self.sphere_iou(sphere_coords_i[0:1], sphere_coords_i[1:])\n",
    "                \n",
    "                # Remove spheres with IoU > threshold\n",
    "                sphere_coords_i = sphere_coords_i[1:][iou[0] <= self.iou_thres]\n",
    "                scores_i = scores_i[1:][iou[0] <= self.iou_thres]\n",
    "                j = j[1:][iou[0] <= self.iou_thres]\n",
    "            \n",
    "            keep = torch.stack(keep)\n",
    "            \n",
    "            # Limit detections\n",
    "            if len(keep) > max_det:\n",
    "                keep = keep[:max_det]\n",
    "            \n",
    "            output[xi] = torch.cat((keep, scores_i[:max_det, None], \n",
    "                                  j[:max_det, None].float()), 1)\n",
    "            \n",
    "        return output"
   ]
  },
  {
   "cell_type": "markdown",
   "metadata": {},
   "source": [
    "# Define Model"
   ]
  },
  {
   "cell_type": "code",
   "execution_count": null,
   "metadata": {},
   "outputs": [],
   "source": [
    "from __future__ import annotations\n",
    "\n",
    "import warnings\n",
    "from collections.abc import Sequence\n",
    "\n",
    "# 불필요한 import 제거\n",
    "# from monai.networks.blocks.convolutions import Convolution, ResidualUnit\n",
    "# from monai.networks.layers.simplelayers import SkipConnection\n",
    "from monai.networks.layers.factories import Act, Norm\n",
    "\n",
    "from src.models.unet_block import Encoder, Decoder, get_conv_layer\n",
    "from src.models.cbam import CBAM3D\n",
    "\n",
    "import torch\n",
    "import torch.nn as nn\n",
    "import torch.nn.functional as F\n",
    "\n",
    "def autopad(k, p=None):  \n",
    "    \"\"\"\n",
    "    3D 컨볼루션에서 padding을 자동 계산해주기 위한 헬퍼 함수 (optional).\n",
    "    커널 사이즈가 정수 하나라면 (k,k,k)로 확장, 패딩도 동일하게 적용.\n",
    "    \"\"\"\n",
    "    # 예: k가 3이면 (3,3,3), p=None이면 자동으로 (1,1,1) 세팅\n",
    "    if isinstance(k, int):\n",
    "        k = (k, k, k)\n",
    "    if p is None:\n",
    "        # same padding\n",
    "        p = tuple((ki // 2) for ki in k)\n",
    "    return k, p\n",
    "\n",
    "\n",
    "class YOLO3DHead(nn.Module):\n",
    "    \"\"\"\n",
    "    3D YOLO Detection Head 예시 스케치\n",
    "    ----------------------------------\n",
    "    입력  : (B, in_channels, D, H, W)\n",
    "    출력  : (B, out_channels, D, H, W)\n",
    "      - out_channels = nc + 4*reg_max\n",
    "        (클래스 확률 nc개 + dist 분포(dx,dy,dz,dr) * reg_max)\n",
    "    \"\"\"\n",
    "    def __init__(self,\n",
    "        spatial_dims: int,\n",
    "        in_channels: int,\n",
    "        out_channels: int,\n",
    "        kernel_size: Sequence[int] | int,\n",
    "        stride: int,\n",
    "        norm_name: tuple | str,\n",
    "        act_name: tuple ,\n",
    "        reg_max: int = 16,\n",
    "        dropout: tuple | str | float | None = None,\n",
    "        ):\n",
    "        \n",
    "        super().__init__()\n",
    "        self.out_channels = out_channels\n",
    "        self.reg_max = reg_max\n",
    "        # 최종 출력 채널 수\n",
    "        self.out_channels = out_channels + 4 * reg_max\n",
    "\n",
    "        if hidden_ch is None:\n",
    "            hidden_ch = in_channels  # 간단히 동일 채널로\n",
    "\n",
    "        # 예시로 2개의 Conv3dBlock을 쌓고 마지막 Conv3d(커널1)로 out_channels를 뽑도록 구성\n",
    "        # 필요에 따라 더 복잡한 모듈(C3, SPP, Residual 등)로 확장 가능\n",
    "        \n",
    "        self.conv_out = get_conv_layer(\n",
    "            spatial_dims,\n",
    "            in_channels=in_channels,\n",
    "            out_channels=self.out_channels,\n",
    "            kernel_size=1,\n",
    "            stride=1,\n",
    "            conv_only=True,\n",
    "        )\n",
    "\n",
    "    def forward(self, x):\n",
    "        \"\"\"\n",
    "        x.shape = (B, in_channels, D, H, W)\n",
    "        return  = (B, out_channels, D, H, W)\n",
    "        \"\"\"\n",
    "        # 3) 최종 1x1x1 Conv -> (nc + 4*reg_max) 채널\n",
    "        out = self.conv_out(x)\n",
    "        return out\n",
    "\n",
    "class c_Decoder(nn.Module):\n",
    "    def __init__(\n",
    "        self,\n",
    "        spatial_dims: int,\n",
    "        in_channels: int,\n",
    "        out_channels: int,\n",
    "        kernel_size: Sequence[int] | int,\n",
    "        stride: int,\n",
    "        norm_name: tuple | str,\n",
    "        act_name: tuple | str = (\"leakyrelu\", {\"inplace\": True, \"negative_slope\": 0.01}),\n",
    "        dropout: tuple | str | float | None = None,\n",
    "        conv_only=False,\n",
    "    ):\n",
    "        super().__init__()\n",
    "        self.conv1 = get_conv_layer(\n",
    "            spatial_dims,\n",
    "            in_channels=in_channels,\n",
    "            out_channels=out_channels,\n",
    "            kernel_size=kernel_size,\n",
    "            stride=stride,\n",
    "            norm=norm_name,\n",
    "            act=act_name,\n",
    "            dropout=dropout,\n",
    "            conv_only=conv_only,\n",
    "            is_transposed=True,\n",
    "        )\n",
    "        self.cbam = CBAM3D(channels=out_channels, reduction=8, spatial_kernel_size=3)\n",
    "\n",
    "    def forward(self, x, skip):\n",
    "        x = torch.cat([x, skip], dim=1)\n",
    "        x = self.conv1(x)\n",
    "        x = self.cbam(x)\n",
    "        \n",
    "        return x\n",
    "\n",
    "class Detect_Unet(nn.Module):\n",
    "    def __init__(\n",
    "        self,\n",
    "        spatial_dims: int,\n",
    "        in_channels: int,\n",
    "        out_channels: int,\n",
    "        channels: Sequence[int],\n",
    "        strides: Sequence[int],\n",
    "        kernel_size: Sequence[int] | int = 3,\n",
    "        up_kernel_size: Sequence[int] | int = 3,\n",
    "        act: tuple | str = Act.PRELU,\n",
    "        norm: tuple | str = Norm.INSTANCE,\n",
    "        dropout: float = 0.0,\n",
    "        bias: bool = True,\n",
    "        adn_ordering: str = \"NDA\",\n",
    "    ) -> None:\n",
    "        super().__init__()\n",
    "\n",
    "        if len(channels) < 2:\n",
    "            raise ValueError(\"the length of `channels` should be no less than 2.\")\n",
    "        \n",
    "        # 기존 코드와 동일한 검사\n",
    "        delta = len(strides) - (len(channels) - 1)\n",
    "        if delta < 0:\n",
    "            raise ValueError(\"the length of `strides` should equal `len(channels) - 1`.\")\n",
    "        if delta > 0:\n",
    "            warnings.warn(f\"`len(strides) > len(channels) - 1`, the last {delta} values of strides will not be used.\")\n",
    "        \n",
    "        if isinstance(kernel_size, Sequence) and len(kernel_size) != spatial_dims:\n",
    "            raise ValueError(\"the length of `kernel_size` should equal to `dimensions`.\")\n",
    "        if isinstance(up_kernel_size, Sequence) and len(up_kernel_size) != spatial_dims:\n",
    "            raise ValueError(\"the length of `up_kernel_size` should equal to `dimensions`.\")\n",
    "\n",
    "        self.dimensions = spatial_dims\n",
    "        self.in_channels = in_channels\n",
    "        self.out_channels = out_channels\n",
    "        self.channels = channels\n",
    "        self.strides = strides\n",
    "        self.kernel_size = kernel_size\n",
    "        self.up_kernel_size = up_kernel_size\n",
    "        self.act = act\n",
    "        self.norm = norm\n",
    "        self.dropout = dropout\n",
    "        self.bias = bias\n",
    "        self.adn_ordering = adn_ordering\n",
    "\n",
    "        # ---------------------\n",
    "        # Encoder\n",
    "        # ---------------------\n",
    "        self.encoder1 = Encoder(\n",
    "            spatial_dims,\n",
    "            in_channels,\n",
    "            channels[0],\n",
    "            kernel_size,\n",
    "            strides[0],\n",
    "            norm,\n",
    "            act,\n",
    "            dropout,\n",
    "        )\n",
    "        self.encoder2 = Encoder(\n",
    "            spatial_dims,\n",
    "            channels[0],\n",
    "            channels[1],\n",
    "            kernel_size,\n",
    "            strides[1],\n",
    "            norm,\n",
    "            act,\n",
    "            dropout,\n",
    "        )\n",
    "        self.encoder3 = Encoder(\n",
    "            spatial_dims,\n",
    "            channels[1],\n",
    "            channels[2],\n",
    "            kernel_size,\n",
    "            strides[2],\n",
    "            norm,\n",
    "            act,\n",
    "            dropout,\n",
    "        )\n",
    "        # encoder4는 strides[3]를 사용할 수 있도록 strides에 4개 값을 넣어주거나, 아래처럼 stride=1로 따로 설정 가능\n",
    "        # 여기서는 strides에 4개 값을 넣어준다고 가정함\n",
    "        self.bottleneck = Encoder(\n",
    "            spatial_dims,\n",
    "            channels[2],\n",
    "            channels[3],\n",
    "            kernel_size,\n",
    "            1, \n",
    "            norm,\n",
    "            act,\n",
    "            dropout,\n",
    "        )\n",
    "\n",
    "        # self.cbam = CBAM3D(channels=channels[3], reduction=8, spatial_kernel_size=3)\n",
    "        # ---------------------\n",
    "        # Decoder\n",
    "        # ---------------------\n",
    "        self.decoder3 = c_Decoder(\n",
    "            spatial_dims,\n",
    "            channels[3] + channels[2],\n",
    "            channels[1],\n",
    "            up_kernel_size,\n",
    "            strides[2],\n",
    "            norm,\n",
    "            act,\n",
    "            dropout,\n",
    "        )\n",
    "        self.decoder2 = c_Decoder(\n",
    "            spatial_dims,\n",
    "            channels[1] + channels[1],\n",
    "            channels[0],\n",
    "            up_kernel_size,\n",
    "            strides[1],\n",
    "            norm,\n",
    "            act,\n",
    "            dropout,\n",
    "        )\n",
    "        self.decoder1 = c_Decoder(\n",
    "            spatial_dims,\n",
    "            channels[0] + channels[0],\n",
    "            channels[0],\n",
    "            up_kernel_size,\n",
    "            strides[0],\n",
    "            conv_only=True,\n",
    "            norm_name=None,\n",
    "        )\n",
    "        self.head = YOLO3DHead(\n",
    "            spatial_dims,\n",
    "            channels[0],\n",
    "            out_channels,\n",
    "            kernel_size=1,\n",
    "            stride=1,\n",
    "            norm_name=None,\n",
    "        )\n",
    "\n",
    "    def forward(self, x: torch.Tensor) -> torch.Tensor:\n",
    "        x1 = self.encoder1(x)\n",
    "        x2 = self.encoder2(x1)\n",
    "        x3 = self.encoder3(x2)\n",
    "        \n",
    "        x4 = self.bottleneck(x3)\n",
    "        # x4 = self.cbam(x4)\n",
    "\n",
    "        x = self.decoder3(x4, x3)\n",
    "        x = self.decoder2(x, x2)\n",
    "        x = self.decoder1(x, x1)\n",
    "        x = self.head(x)\n",
    "        return x\n"
   ]
  },
  {
   "cell_type": "markdown",
   "metadata": {},
   "source": [
    "# 모델 실행 환경 설정"
   ]
  },
  {
   "cell_type": "code",
   "execution_count": 35,
   "metadata": {},
   "outputs": [],
   "source": [
    "# DATA CONFIG\n",
    "train_loader, val_loader = None, None\n",
    "train_csv = \"./datasets/train.csv\"\n",
    "val_csv = \"./datasets/val.csv\"\n",
    "img_size =  64 # Match your patch size\n",
    "img_depth = 32\n",
    "n_classes = 7\n",
    "batch_size = 32 # 13.8GB GPU memory required for 128x128 img size\n",
    "loader_batch = 2\n",
    "num_samples = batch_size // loader_batch # 한 이미지에서 뽑을 샘플 수\n",
    "num_repeat = 8\n",
    "val_num_repeat = 10\n",
    "\n",
    "# MODEL CONFIG\n",
    "feature_size = [32, 64, 128, 256]\n",
    "use_checkpoint = True\n",
    "dropout= 0.25\n",
    "\n",
    "# LOSS CONFIG\n",
    "lamda = 0.5\n",
    "ce_weight = 0.4\n",
    "class_weights = None\n",
    "# class_weights = torch.tensor([0.0001, 1, 0.001, 1.1, 1, 1.1, 1], dtype=torch.float32)  # 클래스별 가중치\n",
    "\n",
    "# TRAIN CONFIG\n",
    "num_epochs = 4000\n",
    "lr = 0.001\n",
    "accumulation_steps = 1\n",
    "start_epoch = 0\n",
    "best_val_loss = float('inf')\n",
    "best_val_fbeta_score = 0\n",
    "\n",
    "sigma = 1.5\n",
    "non_random_transforms = Compose([\n",
    "    EnsureChannelFirstd(keys=[\"image\", \"label\"], channel_dim=\"no_channel\"),\n",
    "    NormalizeIntensityd(keys=\"image\"),\n",
    "    \n",
    "    Orientationd(keys=[\"image\", \"label\"], axcodes=\"RAS\"),\n",
    "    # GaussianSmoothd(\n",
    "    #     keys=[\"image\"],      # 변환을 적용할 키\n",
    "    #     sigma=[sigma, sigma, sigma]  # 각 축(x, y, z)의 시그마 값\n",
    "    #     ),\n",
    "])\n",
    "random_transforms = Compose([\n",
    "    RandCropByLabelClassesd(\n",
    "        keys=[\"image\", \"label\"],\n",
    "        label_key=\"label\",\n",
    "        spatial_size=[img_depth, img_size, img_size],\n",
    "        num_classes=n_classes,\n",
    "        num_samples=num_samples, \n",
    "        ratios=ratios_list,\n",
    "    ),\n",
    "    RandRotate90d(keys=[\"image\", \"label\"], prob=0.5, spatial_axes=[1, 2]),\n",
    "    RandFlipd(keys=[\"image\", \"label\"], prob=0.5, spatial_axis=0),\n",
    "    RandFlipd(keys=[\"image\", \"label\"], prob=0.5, spatial_axis=1),\n",
    "    RandFlipd(keys=[\"image\", \"label\"], prob=0.5, spatial_axis=2),\n",
    "    # RandGaussianSmoothd(\n",
    "    # keys=[\"image\"],      # 변환을 적용할 키\n",
    "    # sigma_x = (0.5, sigma), # 각 축(x, y, z)의 시그마 값\n",
    "    # sigma_y = (0.5, sigma),\n",
    "    # sigma_z = (0.5, sigma),\n",
    "    # prob=0.5,\n",
    "    # ),\n",
    "])\n",
    "val_random_transforms = Compose([\n",
    "    RandCropByLabelClassesd(\n",
    "        keys=[\"image\", \"label\"],\n",
    "        label_key=\"label\",\n",
    "        spatial_size=[img_depth, img_size, img_size],\n",
    "        num_classes=n_classes,\n",
    "        num_samples=num_samples, \n",
    "        ratios=ratios_list,\n",
    "    ),\n",
    "    # RandRotate90d(keys=[\"image\", \"label\"], prob=0.5, spatial_axes=[1, 2]),\n",
    "    # RandFlipd(keys=[\"image\", \"label\"], prob=0.5, spatial_axis=0),\n",
    "    # RandFlipd(keys=[\"image\", \"label\"], prob=0.5, spatial_axis=1),\n",
    "    # RandFlipd(keys=[\"image\", \"label\"], prob=0.5, spatial_axis=2),\n",
    "    # RandGaussianSmoothd(\n",
    "    # keys=[\"image\"],      # 변환을 적용할 키\n",
    "    # sigma_x = (0.0, sigma), # 각 축(x, y, z)의 시그마 값\n",
    "    # sigma_y = (0.0, sigma),\n",
    "    # sigma_z = (0.0, sigma),\n",
    "    # prob=1.0,\n",
    "    # ),\n",
    "])\n"
   ]
  },
  {
   "cell_type": "code",
   "execution_count": 36,
   "metadata": {},
   "outputs": [
    {
     "name": "stdout",
     "output_type": "stream",
     "text": [
      "(184, 630, 630)\n"
     ]
    },
    {
     "name": "stderr",
     "output_type": "stream",
     "text": [
      "Loading dataset: 100%|██████████| 9/9 [00:01<00:00,  5.04it/s]\n"
     ]
    },
    {
     "name": "stdout",
     "output_type": "stream",
     "text": [
      "(184, 630, 630)\n"
     ]
    },
    {
     "name": "stderr",
     "output_type": "stream",
     "text": [
      "Loading dataset: 100%|██████████| 1/1 [00:00<00:00,  4.75it/s]\n"
     ]
    }
   ],
   "source": [
    "train_loader, val_loader = create_dataloaders_from_csv(\n",
    "    train_csv,\n",
    "    val_csv, \n",
    "    train_non_random_transforms = non_random_transforms, \n",
    "    val_non_random_transforms=non_random_transforms,\n",
    "    train_random_transforms=random_transforms,\n",
    "    val_random_transforms=val_random_transforms,\n",
    "    batch_size = loader_batch,\n",
    "    num_workers=0,train_num_repeat=num_repeat, val_num_repeat=val_num_repeat\n",
    "    )"
   ]
  },
  {
   "cell_type": "markdown",
   "metadata": {},
   "source": [
    "# 모델 설정"
   ]
  },
  {
   "cell_type": "code",
   "execution_count": 3,
   "metadata": {},
   "outputs": [
    {
     "ename": "NameError",
     "evalue": "name 'use_checkpoint' is not defined",
     "output_type": "error",
     "traceback": [
      "\u001b[0;31m---------------------------------------------------------------------------\u001b[0m",
      "\u001b[0;31mNameError\u001b[0m                                 Traceback (most recent call last)",
      "Cell \u001b[0;32mIn[3], line 5\u001b[0m\n\u001b[1;32m      1\u001b[0m device \u001b[38;5;241m=\u001b[39m torch\u001b[38;5;241m.\u001b[39mdevice(\u001b[38;5;124m\"\u001b[39m\u001b[38;5;124mcuda\u001b[39m\u001b[38;5;124m\"\u001b[39m \u001b[38;5;28;01mif\u001b[39;00m torch\u001b[38;5;241m.\u001b[39mcuda\u001b[38;5;241m.\u001b[39mis_available() \u001b[38;5;28;01melse\u001b[39;00m \u001b[38;5;124m\"\u001b[39m\u001b[38;5;124mcpu\u001b[39m\u001b[38;5;124m\"\u001b[39m)\n\u001b[1;32m      4\u001b[0m criterion \u001b[38;5;241m=\u001b[39m \u001b[38;5;28;01mNone\u001b[39;00m\n\u001b[0;32m----> 5\u001b[0m pretrain_str \u001b[38;5;241m=\u001b[39m \u001b[38;5;124m\"\u001b[39m\u001b[38;5;124myes\u001b[39m\u001b[38;5;124m\"\u001b[39m \u001b[38;5;28;01mif\u001b[39;00m \u001b[43muse_checkpoint\u001b[49m \u001b[38;5;28;01melse\u001b[39;00m \u001b[38;5;124m\"\u001b[39m\u001b[38;5;124mno\u001b[39m\u001b[38;5;124m\"\u001b[39m\n\u001b[1;32m      6\u001b[0m weight_str \u001b[38;5;241m=\u001b[39m \u001b[38;5;124m\"\u001b[39m\u001b[38;5;124mweighted\u001b[39m\u001b[38;5;124m\"\u001b[39m \u001b[38;5;28;01mif\u001b[39;00m class_weights \u001b[38;5;129;01mis\u001b[39;00m \u001b[38;5;129;01mnot\u001b[39;00m \u001b[38;5;28;01mNone\u001b[39;00m \u001b[38;5;28;01melse\u001b[39;00m \u001b[38;5;124m\"\u001b[39m\u001b[38;5;124m\"\u001b[39m\n\u001b[1;32m      8\u001b[0m \u001b[38;5;66;03m# 체크포인트 디렉토리 및 파일 설정\u001b[39;00m\n",
      "\u001b[0;31mNameError\u001b[0m: name 'use_checkpoint' is not defined"
     ]
    }
   ],
   "source": [
    "device = torch.device(\"cuda\" if torch.cuda.is_available() else \"cpu\")\n",
    "model = Detect_Unet(\n",
    "    spatial_dims=3,\n",
    "    in_channels=1,\n",
    "    out_channels=n_classes,\n",
    "    channels=feature_size,\n",
    "    strides=[2, 2, 2, 1],\n",
    "    kernel_size=3,\n",
    "    up_kernel_size=3,\n",
    "    act=Act.PRELU,\n",
    "    norm=Norm.INSTANCE,\n",
    "    dropout=dropout,\n",
    ").to(device)\n",
    "criterion = None\n",
    "pretrain_str = \"yes\" if use_checkpoint else \"no\"\n",
    "weight_str = \"weighted\" if class_weights is not None else \"\"\n",
    "\n",
    "# 모델 이름 설정\n",
    "model_name = model.__class__.__name__\n",
    "\n",
    "# 체크포인트 디렉토리 및 파일 설정\n",
    "checkpoint_base_dir = Path(\"./model_checkpoints\")\n",
    "folder_name = f\"{model_name}_denoiiso_maxf{feature_size[-1]}_{img_depth}x{img_size}x{img_size}_e{num_epochs}_lr{lr}\"\n",
    "checkpoint_dir = checkpoint_base_dir / folder_name\n",
    "optimizer = optim.AdamW(model.parameters(), lr=lr, weight_decay=1e-5)\n",
    "scheduler = torch.optim.lr_scheduler.ReduceLROnPlateau(optimizer, patience=5, factor=0.5)\n",
    "# 체크포인트 디렉토리 생성\n",
    "checkpoint_dir.mkdir(parents=True, exist_ok=True)\n",
    "\n",
    "if checkpoint_dir.exists():\n",
    "    best_model_path = checkpoint_dir / 'best_model.pt'\n",
    "    if best_model_path.exists():\n",
    "        print(f\"기존 best model 발견: {best_model_path}\")\n",
    "        try:\n",
    "            checkpoint = torch.load(best_model_path, map_location=device)\n",
    "            # 체크포인트 내부 키 검증\n",
    "            required_keys = ['model_state_dict', 'optimizer_state_dict', 'epoch', 'best_val_loss']\n",
    "            if all(k in checkpoint for k in required_keys):\n",
    "                model.load_state_dict(checkpoint['model_state_dict'])\n",
    "                optimizer.load_state_dict(checkpoint['optimizer_state_dict'])\n",
    "                start_epoch = checkpoint['epoch']\n",
    "                best_val_loss = checkpoint['best_val_loss']\n",
    "                print(\"기존 학습된 가중치를 성공적으로 로드했습니다.\")\n",
    "                checkpoint = None\n",
    "            else:\n",
    "                raise ValueError(\"체크포인트 파일에 필요한 key가 없습니다.\")\n",
    "        except Exception as e:\n",
    "            print(f\"체크포인트 파일을 로드하는 중 오류 발생: {e}\")"
   ]
  },
  {
   "cell_type": "code",
   "execution_count": 7,
   "metadata": {},
   "outputs": [
    {
     "name": "stderr",
     "output_type": "stream",
     "text": [
      "\u001b[34m\u001b[1mwandb\u001b[0m: Currently logged in as: \u001b[33mwoow070840\u001b[0m (\u001b[33mwaooang\u001b[0m). Use \u001b[1m`wandb login --relogin`\u001b[0m to force relogin\n",
      "\u001b[34m\u001b[1mwandb\u001b[0m: Using wandb-core as the SDK backend.  Please refer to https://wandb.me/wandb-core for more information.\n"
     ]
    },
    {
     "data": {
      "text/html": [
       "Tracking run with wandb version 0.19.2"
      ],
      "text/plain": [
       "<IPython.core.display.HTML object>"
      ]
     },
     "metadata": {},
     "output_type": "display_data"
    },
    {
     "data": {
      "text/html": [
       "Run data is saved locally in <code>e:\\Workspace\\czll\\wandb\\run-20250122_032303-70rqg0j9</code>"
      ],
      "text/plain": [
       "<IPython.core.display.HTML object>"
      ]
     },
     "metadata": {},
     "output_type": "display_data"
    },
    {
     "data": {
      "text/html": [
       "Syncing run <strong><a href='https://wandb.ai/waooang/czii_SwinUnetR/runs/70rqg0j9' target=\"_blank\">UNet_all_10441_a1_32x96x96_e4000_lr0.001_lamda0.7_ce0.4_no_weighted</a></strong> to <a href='https://wandb.ai/waooang/czii_SwinUnetR' target=\"_blank\">Weights & Biases</a> (<a href='https://wandb.me/developer-guide' target=\"_blank\">docs</a>)<br>"
      ],
      "text/plain": [
       "<IPython.core.display.HTML object>"
      ]
     },
     "metadata": {},
     "output_type": "display_data"
    },
    {
     "data": {
      "text/html": [
       " View project at <a href='https://wandb.ai/waooang/czii_SwinUnetR' target=\"_blank\">https://wandb.ai/waooang/czii_SwinUnetR</a>"
      ],
      "text/plain": [
       "<IPython.core.display.HTML object>"
      ]
     },
     "metadata": {},
     "output_type": "display_data"
    },
    {
     "data": {
      "text/html": [
       " View run at <a href='https://wandb.ai/waooang/czii_SwinUnetR/runs/70rqg0j9' target=\"_blank\">https://wandb.ai/waooang/czii_SwinUnetR/runs/70rqg0j9</a>"
      ],
      "text/plain": [
       "<IPython.core.display.HTML object>"
      ]
     },
     "metadata": {},
     "output_type": "display_data"
    }
   ],
   "source": [
    "import wandb\n",
    "from datetime import datetime\n",
    "\n",
    "current_time = datetime.now().strftime('%Y%m%d_%H%M%S')\n",
    "run_name = folder_name\n",
    "\n",
    "# wandb 초기화\n",
    "wandb.init(\n",
    "    project='czii_SwinUnetR',  # 프로젝트 이름 설정\n",
    "    name=run_name,         # 실행(run) 이름 설정\n",
    "    config={\n",
    "        'num_epochs': num_epochs,\n",
    "        'learning_rate': lr,\n",
    "        'batch_size': batch_size,\n",
    "        'lambda': lamda,\n",
    "        \"cross_entropy_weight\": ce_weight,\n",
    "        'feature_size': feature_size,\n",
    "        'img_size': img_size,\n",
    "        'sampling_ratio': ratios_list,\n",
    "        'device': device.type,\n",
    "        \"checkpoint_dir\": str(checkpoint_dir),\n",
    "        \"class_weights\": class_weights.tolist() if class_weights is not None else None,\n",
    "        \"use_checkpoint\": use_checkpoint,\n",
    "        \"dropout\": dropout,        \n",
    "        \"accumulation_steps\": accumulation_steps,\n",
    "        \"num_repeat\": num_repeat,\n",
    "        \n",
    "        # 필요한 하이퍼파라미터 추가\n",
    "    }\n",
    ")\n",
    "# 모델을 wandb에 연결\n",
    "wandb.watch(model, log='all')"
   ]
  },
  {
   "cell_type": "markdown",
   "metadata": {},
   "source": [
    "# 학습"
   ]
  },
  {
   "cell_type": "code",
   "execution_count": 8,
   "metadata": {},
   "outputs": [],
   "source": [
    "\n",
    "def processing(batch_data, model, criterion, device):\n",
    "    images = batch_data['image'].to(device)  # Input 이미지 (B, 1, 96, 96, 96)\n",
    "    labels = batch_data['label'].to(device)  # 라벨 (B, 96, 96, 96)\n",
    "\n",
    "    labels = labels.squeeze(1)  # (B, 1, 96, 96, 96) → (B, 96, 96, 96)\n",
    "    labels = labels.long()  # 라벨을 정수형으로 변환\n",
    "\n",
    "    # 원핫 인코딩 (B, H, W, D) → (B, num_classes, H, W, D)\n",
    "    \n",
    "    labels_onehot = torch.nn.functional.one_hot(labels, num_classes=n_classes)\n",
    "    labels_onehot = labels_onehot.permute(0, 4, 1, 2, 3).float()  # (B, num_classes, H, W, D)\n",
    "\n",
    "    # 모델 예측\n",
    "    outputs = model(images)  # outputs: (B, num_classes, H, W, D)\n",
    "\n",
    "    # Loss 계산\n",
    "    loss = criterion(outputs, labels_onehot)\n",
    "    # loss = loss_fn(criterion(outputs, labels_onehot),class_weights=class_weights, device=device)\n",
    "    return loss, outputs, labels, outputs.argmax(dim=1)\n",
    "\n",
    "def train_one_epoch(model, train_loader, criterion, optimizer, device, epoch, accumulation_steps=4):\n",
    "    model.train()\n",
    "    epoch_loss = 0\n",
    "    optimizer.zero_grad()  # 그래디언트 초기화\n",
    "    with tqdm(train_loader, desc='Training') as pbar:\n",
    "        for i, batch_data in enumerate(pbar):\n",
    "            # 손실 계산\n",
    "            loss, _, _, _ = processing(batch_data, model, criterion, device)\n",
    "\n",
    "            # 그래디언트를 계산하고 누적\n",
    "            loss = loss / accumulation_steps  # 그래디언트 누적을 위한 스케일링\n",
    "            loss.backward()  # 그래디언트 계산 및 누적\n",
    "            \n",
    "            # 그래디언트 업데이트 (accumulation_steps마다 한 번)\n",
    "            if (i + 1) % accumulation_steps == 0 or (i + 1) == len(train_loader):\n",
    "                optimizer.step()  # 파라미터 업데이트\n",
    "                optimizer.zero_grad()  # 누적된 그래디언트 초기화\n",
    "            \n",
    "            # 손실값 누적 (스케일링 복구)\n",
    "            epoch_loss += loss.item() * accumulation_steps  # 실제 손실값 반영\n",
    "            pbar.set_postfix(loss=loss.item() * accumulation_steps)  # 실제 손실값 출력\n",
    "    avg_loss = epoch_loss / len(train_loader)\n",
    "    wandb.log({'train_epoch_loss': avg_loss, 'epoch': epoch + 1})\n",
    "    return avg_loss\n",
    "\n",
    "\n",
    "\n",
    "def validate_one_epoch(model, val_loader, criterion, device, epoch, calculate_dice_interval, ce_weight):\n",
    "    model.eval()\n",
    "    val_loss = 0\n",
    "    \n",
    "    class_dice_scores = {i: [] for i in range(n_classes)}\n",
    "    class_f_beta_scores = {i: [] for i in range(n_classes)}\n",
    "    class_mIoU_scores = {i: [] for i in range(n_classes)}\n",
    "    with torch.no_grad():\n",
    "        with tqdm(val_loader, desc='Validation') as pbar:\n",
    "            for batch_data in pbar:\n",
    "                loss, _, labels, preds = processing(batch_data, model, criterion, device)\n",
    "                val_loss += loss.item()\n",
    "                pbar.set_postfix(loss=loss.item())\n",
    "\n",
    "                # 각 클래스별 Dice 점수 계산\n",
    "                if epoch % calculate_dice_interval == 0:\n",
    "                    for i in range(n_classes):\n",
    "                        pred_i = (preds == i)\n",
    "                        label_i = (labels == i)\n",
    "                        dice_score = (2.0 * torch.sum(pred_i & label_i)) / (torch.sum(pred_i) + torch.sum(label_i) + 1e-8)\n",
    "                        class_dice_scores[i].append(dice_score.item())\n",
    "                        precision = (torch.sum(pred_i & label_i) + 1e-8) / (torch.sum(pred_i) + 1e-8)\n",
    "                        recall = (torch.sum(pred_i & label_i) + 1e-8) / (torch.sum(label_i) + 1e-8)\n",
    "                        f_beta_score = (1 + 4**2) * (precision * recall) / (4**2 * precision + recall + 1e-8)\n",
    "                        class_f_beta_scores[i].append(f_beta_score.item())\n",
    "                        intersection = torch.sum(pred_i & label_i).float()\n",
    "                        union = torch.sum(pred_i | label_i).float()\n",
    "                        iou = (intersection + 1e-8) / (union + 1e-8)\n",
    "                        class_mIoU_scores[i].append(iou.item())\n",
    "\n",
    "    avg_loss = val_loss / len(val_loader)\n",
    "    # 에포크별 평균 손실 로깅\n",
    "    wandb.log({'val_epoch_loss': avg_loss, 'epoch': epoch + 1})\n",
    "    \n",
    "    # 각 클래스별 평균 Dice 점수 출력\n",
    "    if epoch % calculate_dice_interval == 0:\n",
    "        print(\"Validation Dice Score\")\n",
    "        all_classes_dice_scores = []\n",
    "        for i in range(n_classes):\n",
    "            mean_dice = np.mean(class_dice_scores[i])\n",
    "            wandb.log({f'class_{i}_dice_score': mean_dice, 'epoch': epoch + 1})\n",
    "            print(f\"Class {i}: {mean_dice:.4f}\", end=\", \")\n",
    "            if i not in [0, 2]:  # 평균에 포함할 클래스만 추가\n",
    "                all_classes_dice_scores.append(mean_dice)\n",
    "            \n",
    "        print()\n",
    "    if epoch % calculate_dice_interval == 0:\n",
    "        print(\"Validation F-beta Score\")\n",
    "        all_classes_fbeta_scores = []\n",
    "        for i in range(n_classes):\n",
    "            mean_fbeta = np.mean(class_f_beta_scores[i])\n",
    "            wandb.log({f'class_{i}_f_beta_score': mean_fbeta, 'epoch': epoch + 1})\n",
    "            print(f\"Class {i}: {mean_fbeta:.4f}\", end=\", \")\n",
    "            if i not in [0, 2]:  # 평균에 포함할 클래스만 추가\n",
    "                all_classes_fbeta_scores.append(mean_fbeta)\n",
    "               \n",
    "        print() \n",
    "    if epoch % calculate_dice_interval == 0:\n",
    "        print(\"Validation mIoU Score\")\n",
    "        all_classes_mIoU_scores = []\n",
    "        for i in range(n_classes):\n",
    "            mean_IoU = np.mean(class_mIoU_scores[i])\n",
    "            wandb.log({f'class_{i}_IoU_score': mean_fbeta, 'epoch': epoch + 1})\n",
    "            print(f\"Class {i}: {mean_IoU:.4f}\", end=\", \")\n",
    "            if i not in [0, 2]:  # 평균에 포함할 클래스만 추가\n",
    "                all_classes_mIoU_scores.append(mean_IoU)\n",
    "                \n",
    "        print()\n",
    "        overall_mean_dice = np.mean(all_classes_dice_scores)\n",
    "        overall_mean_fbeta = np.mean(all_classes_fbeta_scores)\n",
    "        overall_mean_IoU = np.mean(all_classes_mIoU_scores)\n",
    "        wandb.log({'overall_mean_f_beta_score': overall_mean_fbeta, 'overall_mean_dice_score': overall_mean_dice, 'epoch': epoch + 1, 'overall_mean_IoU_score': overall_mean_IoU})\n",
    "        print(f\"\\nOverall Mean Dice Score: {overall_mean_dice:.4f}\\nOverall Mean F-beta Score: {overall_mean_fbeta:.4f}\\nOverall Mean IoU Score: {overall_mean_IoU:.4f}\")\n",
    "\n",
    "    if overall_mean_fbeta is None:\n",
    "        overall_mean_fbeta = 0\n",
    "\n",
    "    final_score = overall_mean_fbeta * (1 - ce_weight) + overall_mean_IoU * ce_weight\n",
    "    return val_loss / len(val_loader), final_score \n",
    "\n",
    "def train_model(\n",
    "    model, train_loader, val_loader, criterion, optimizer, num_epochs, patience, \n",
    "    device, start_epoch, best_val_loss, best_val_fbeta_score, calculate_dice_interval=1,\n",
    "    accumulation_steps=4, pretrained=False\n",
    "):\n",
    "    \"\"\"\n",
    "    모델을 학습하고 검증하는 함수\n",
    "    Args:\n",
    "        model: 학습할 모델\n",
    "        train_loader: 학습 데이터 로더\n",
    "        val_loader: 검증 데이터 로더\n",
    "        criterion: 손실 함수\n",
    "        optimizer: 최적화 알고리즘\n",
    "        num_epochs: 총 학습 epoch 수\n",
    "        patience: early stopping 기준\n",
    "        device: GPU/CPU 장치\n",
    "        start_epoch: 시작 epoch\n",
    "        best_val_loss: 이전 최적 validation loss\n",
    "        best_val_fbeta_score: 이전 최적 validation f-beta score\n",
    "        calculate_dice_interval: Dice 점수 계산 주기\n",
    "    \"\"\"\n",
    "    epochs_no_improve = 0\n",
    "\n",
    "    for epoch in range(start_epoch, num_epochs):\n",
    "        print(f\"Epoch {epoch + 1}/{num_epochs}\")\n",
    "\n",
    "        # Train One Epoch\n",
    "        train_loss = train_one_epoch(\n",
    "            model=model, \n",
    "            train_loader=train_loader, \n",
    "            criterion=criterion, \n",
    "            optimizer=optimizer, \n",
    "            device=device,\n",
    "            epoch=epoch,\n",
    "            accumulation_steps= accumulation_steps\n",
    "        )\n",
    "        \n",
    "        scheduler.step(train_loss)\n",
    "        # Validate One Epoch\n",
    "        val_loss, overall_mean_fbeta_score = validate_one_epoch(\n",
    "            model=model, \n",
    "            val_loader=val_loader, \n",
    "            criterion=criterion, \n",
    "            device=device, \n",
    "            epoch=epoch, \n",
    "            calculate_dice_interval=calculate_dice_interval,\n",
    "            ce_weight=ce_weight\n",
    "        )\n",
    "\n",
    "        \n",
    "        print(f\"Training Loss: {train_loss:.4f}, Validation Loss: {val_loss:.4f}, Validation F-beta: {overall_mean_fbeta_score:.4f}\")\n",
    "\n",
    "        if val_loss < best_val_loss and overall_mean_fbeta_score > best_val_fbeta_score:\n",
    "            best_val_loss = val_loss\n",
    "            best_val_fbeta_score = overall_mean_fbeta_score\n",
    "            epochs_no_improve = 0\n",
    "            if pretrained:\n",
    "                checkpoint_path = os.path.join(checkpoint_dir, 'best_model_pretrained.pt')\n",
    "            else:\n",
    "                checkpoint_path = os.path.join(checkpoint_dir, 'best_model.pt')\n",
    "            torch.save({\n",
    "                'epoch': epoch + 1,\n",
    "                'model_state_dict': model.state_dict(),\n",
    "                'optimizer_state_dict': optimizer.state_dict(),\n",
    "                'best_val_loss': best_val_loss,\n",
    "                'best_val_fbeta_score': best_val_fbeta_score\n",
    "            }, checkpoint_path)\n",
    "            print(f\"========================================================\")\n",
    "            print(f\"SUPER Best model saved. Loss:{best_val_loss:.4f}, Score:{best_val_fbeta_score:.4f}\")\n",
    "            print(f\"========================================================\")\n",
    "\n",
    "        # Early stopping 조건 체크\n",
    "        if val_loss >= best_val_loss and overall_mean_fbeta_score <= best_val_fbeta_score:\n",
    "            epochs_no_improve += 1\n",
    "        else:\n",
    "            epochs_no_improve = 0\n",
    "\n",
    "        if epochs_no_improve >= patience:\n",
    "            print(\"Early stopping\")\n",
    "            checkpoint_path = os.path.join(checkpoint_dir, 'last.pt')\n",
    "            torch.save({\n",
    "                'epoch': epoch + 1,\n",
    "                'model_state_dict': model.state_dict(),\n",
    "                'optimizer_state_dict': optimizer.state_dict(),\n",
    "                'best_val_loss': best_val_loss,\n",
    "                'best_val_fbeta_score': best_val_fbeta_score\n",
    "            }, checkpoint_path)\n",
    "            break\n",
    "        # if epochs_no_improve % 6 == 0 & epochs_no_improve != 0:\n",
    "        #     # 손실이 개선되지 않았으므로 lambda 감소\n",
    "        #     new_lamda = max(criterion.lamda - 0.01, 0.35)  # 최소값은 0.1로 설정\n",
    "        #     criterion.set_lamda(new_lamda)\n",
    "        #     print(f\"Validation loss did not improve. Reducing lambda to {new_lamda:.4f}\")\n",
    "\n",
    "    wandb.finish()\n"
   ]
  },
  {
   "cell_type": "code",
   "execution_count": 9,
   "metadata": {},
   "outputs": [
    {
     "name": "stdout",
     "output_type": "stream",
     "text": [
      "Epoch 1/4000\n"
     ]
    },
    {
     "name": "stderr",
     "output_type": "stream",
     "text": [
      "Training: 100%|██████████| 102/102 [01:59<00:00,  1.17s/it, loss=0.571]\n",
      "Validation: 100%|██████████| 20/20 [00:19<00:00,  1.03it/s, loss=0.563]\n"
     ]
    },
    {
     "name": "stdout",
     "output_type": "stream",
     "text": [
      "Validation Dice Score\n",
      "Class 0: 0.9849, Class 1: 0.0002, Class 2: 0.0001, Class 3: 0.0026, Class 4: 0.3043, Class 5: 0.0040, Class 6: 0.0182, \n",
      "Validation F-beta Score\n",
      "Class 0: 0.9852, Class 1: 0.0001, Class 2: 0.0000, Class 3: 0.0015, Class 4: 0.4358, Class 5: 0.0022, Class 6: 0.0099, \n",
      "Validation mIoU Score\n",
      "Class 0: 0.9702, Class 1: 0.0001, Class 2: 0.0000, Class 3: 0.0013, Class 4: 0.1806, Class 5: 0.0020, Class 6: 0.0092, \n",
      "\n",
      "Overall Mean Dice Score: 0.0659\n",
      "Overall Mean F-beta Score: 0.0899\n",
      "Overall Mean IoU Score: 0.0387\n",
      "Training Loss: 0.7199, Validation Loss: 0.5688, Validation F-beta: 0.0694\n",
      "========================================================\n",
      "SUPER Best model saved. Loss:0.5688, Score:0.0694\n",
      "========================================================\n",
      "Epoch 2/4000\n"
     ]
    },
    {
     "name": "stderr",
     "output_type": "stream",
     "text": [
      "Training: 100%|██████████| 102/102 [01:45<00:00,  1.04s/it, loss=0.561]\n",
      "Validation: 100%|██████████| 20/20 [00:20<00:00,  1.01s/it, loss=0.54] \n"
     ]
    },
    {
     "name": "stdout",
     "output_type": "stream",
     "text": [
      "Validation Dice Score\n",
      "Class 0: 0.9864, Class 1: 0.0000, Class 2: 0.0000, Class 3: 0.0013, Class 4: 0.3283, Class 5: 0.0034, Class 6: 0.2278, \n",
      "Validation F-beta Score\n",
      "Class 0: 0.9874, Class 1: 0.0000, Class 2: 0.0000, Class 3: 0.0007, Class 4: 0.4603, Class 5: 0.0018, Class 6: 0.1551, \n",
      "Validation mIoU Score\n",
      "Class 0: 0.9733, Class 1: 0.0000, Class 2: 0.0000, Class 3: 0.0007, Class 4: 0.1971, Class 5: 0.0017, Class 6: 0.1320, \n",
      "\n",
      "Overall Mean Dice Score: 0.1122\n",
      "Overall Mean F-beta Score: 0.1236\n",
      "Overall Mean IoU Score: 0.0663\n",
      "Training Loss: 0.5621, Validation Loss: 0.5498, Validation F-beta: 0.1007\n",
      "========================================================\n",
      "SUPER Best model saved. Loss:0.5498, Score:0.1007\n",
      "========================================================\n",
      "Epoch 3/4000\n"
     ]
    },
    {
     "name": "stderr",
     "output_type": "stream",
     "text": [
      "Training: 100%|██████████| 102/102 [01:46<00:00,  1.04s/it, loss=0.534]\n",
      "Validation: 100%|██████████| 20/20 [00:19<00:00,  1.05it/s, loss=0.538]\n"
     ]
    },
    {
     "name": "stdout",
     "output_type": "stream",
     "text": [
      "Validation Dice Score\n",
      "Class 0: 0.9868, Class 1: 0.0000, Class 2: 0.0000, Class 3: 0.0119, Class 4: 0.3590, Class 5: 0.0346, Class 6: 0.6337, \n",
      "Validation F-beta Score\n",
      "Class 0: 0.9888, Class 1: 0.0000, Class 2: 0.0000, Class 3: 0.0067, Class 4: 0.4297, Class 5: 0.0198, Class 6: 0.6104, \n",
      "Validation mIoU Score\n",
      "Class 0: 0.9739, Class 1: 0.0000, Class 2: 0.0000, Class 3: 0.0060, Class 4: 0.2195, Class 5: 0.0177, Class 6: 0.4668, \n",
      "\n",
      "Overall Mean Dice Score: 0.2078\n",
      "Overall Mean F-beta Score: 0.2133\n",
      "Overall Mean IoU Score: 0.1420\n",
      "Training Loss: 0.5433, Validation Loss: 0.5317, Validation F-beta: 0.1848\n",
      "========================================================\n",
      "SUPER Best model saved. Loss:0.5317, Score:0.1848\n",
      "========================================================\n",
      "Epoch 4/4000\n"
     ]
    },
    {
     "name": "stderr",
     "output_type": "stream",
     "text": [
      "Training: 100%|██████████| 102/102 [01:44<00:00,  1.02s/it, loss=0.524]\n",
      "Validation: 100%|██████████| 20/20 [00:19<00:00,  1.00it/s, loss=0.519]\n"
     ]
    },
    {
     "name": "stdout",
     "output_type": "stream",
     "text": [
      "Validation Dice Score\n",
      "Class 0: 0.9866, Class 1: 0.0007, Class 2: 0.0000, Class 3: 0.1225, Class 4: 0.4652, Class 5: 0.1777, Class 6: 0.7113, \n",
      "Validation F-beta Score\n",
      "Class 0: 0.9865, Class 1: 0.0004, Class 2: 0.0000, Class 3: 0.1251, Class 4: 0.5430, Class 5: 0.1327, Class 6: 0.7375, \n",
      "Validation mIoU Score\n",
      "Class 0: 0.9737, Class 1: 0.0004, Class 2: 0.0000, Class 3: 0.0654, Class 4: 0.3042, Class 5: 0.0978, Class 6: 0.5540, \n",
      "\n",
      "Overall Mean Dice Score: 0.2955\n",
      "Overall Mean F-beta Score: 0.3077\n",
      "Overall Mean IoU Score: 0.2044\n",
      "Training Loss: 0.5288, Validation Loss: 0.5178, Validation F-beta: 0.2664\n",
      "========================================================\n",
      "SUPER Best model saved. Loss:0.5178, Score:0.2664\n",
      "========================================================\n",
      "Epoch 5/4000\n"
     ]
    },
    {
     "name": "stderr",
     "output_type": "stream",
     "text": [
      "Training: 100%|██████████| 102/102 [01:41<00:00,  1.01it/s, loss=0.512]\n",
      "Validation: 100%|██████████| 20/20 [00:19<00:00,  1.00it/s, loss=0.49] \n"
     ]
    },
    {
     "name": "stdout",
     "output_type": "stream",
     "text": [
      "Validation Dice Score\n",
      "Class 0: 0.9854, Class 1: 0.0519, Class 2: 0.0000, Class 3: 0.2119, Class 4: 0.5538, Class 5: 0.2427, Class 6: 0.7660, \n",
      "Validation F-beta Score\n",
      "Class 0: 0.9823, Class 1: 0.0493, Class 2: 0.0000, Class 3: 0.3371, Class 4: 0.6441, Class 5: 0.2346, Class 6: 0.8077, \n",
      "Validation mIoU Score\n",
      "Class 0: 0.9713, Class 1: 0.0272, Class 2: 0.0000, Class 3: 0.1189, Class 4: 0.3846, Class 5: 0.1387, Class 6: 0.6234, \n",
      "\n",
      "Overall Mean Dice Score: 0.3653\n",
      "Overall Mean F-beta Score: 0.4146\n",
      "Overall Mean IoU Score: 0.2586\n",
      "Training Loss: 0.5101, Validation Loss: 0.5046, Validation F-beta: 0.3522\n",
      "========================================================\n",
      "SUPER Best model saved. Loss:0.5046, Score:0.3522\n",
      "========================================================\n",
      "Epoch 6/4000\n"
     ]
    },
    {
     "name": "stderr",
     "output_type": "stream",
     "text": [
      "Training: 100%|██████████| 102/102 [01:41<00:00,  1.00it/s, loss=0.509]\n",
      "Validation: 100%|██████████| 20/20 [00:20<00:00,  1.02s/it, loss=0.496]\n"
     ]
    },
    {
     "name": "stdout",
     "output_type": "stream",
     "text": [
      "Validation Dice Score\n",
      "Class 0: 0.9857, Class 1: 0.0804, Class 2: 0.0000, Class 3: 0.2200, Class 4: 0.5855, Class 5: 0.2746, Class 6: 0.7798, \n",
      "Validation F-beta Score\n",
      "Class 0: 0.9823, Class 1: 0.1222, Class 2: 0.0000, Class 3: 0.3792, Class 4: 0.6271, Class 5: 0.2997, Class 6: 0.8561, \n",
      "Validation mIoU Score\n",
      "Class 0: 0.9719, Class 1: 0.0426, Class 2: 0.0000, Class 3: 0.1238, Class 4: 0.4149, Class 5: 0.1598, Class 6: 0.6421, \n",
      "\n",
      "Overall Mean Dice Score: 0.3880\n",
      "Overall Mean F-beta Score: 0.4568\n",
      "Overall Mean IoU Score: 0.2766\n",
      "Training Loss: 0.4973, Validation Loss: 0.4989, Validation F-beta: 0.3847\n",
      "========================================================\n",
      "SUPER Best model saved. Loss:0.4989, Score:0.3847\n",
      "========================================================\n",
      "Epoch 7/4000\n"
     ]
    },
    {
     "name": "stderr",
     "output_type": "stream",
     "text": [
      "Training: 100%|██████████| 102/102 [01:41<00:00,  1.01it/s, loss=0.495]\n",
      "Validation: 100%|██████████| 20/20 [00:19<00:00,  1.02it/s, loss=0.48] \n"
     ]
    },
    {
     "name": "stdout",
     "output_type": "stream",
     "text": [
      "Validation Dice Score\n",
      "Class 0: 0.9838, Class 1: 0.0786, Class 2: 0.0000, Class 3: 0.2931, Class 4: 0.5930, Class 5: 0.3181, Class 6: 0.7872, \n",
      "Validation F-beta Score\n",
      "Class 0: 0.9767, Class 1: 0.1113, Class 2: 0.0000, Class 3: 0.4436, Class 4: 0.7144, Class 5: 0.4326, Class 6: 0.8409, \n",
      "Validation mIoU Score\n",
      "Class 0: 0.9680, Class 1: 0.0412, Class 2: 0.0000, Class 3: 0.1727, Class 4: 0.4240, Class 5: 0.1898, Class 6: 0.6504, \n",
      "\n",
      "Overall Mean Dice Score: 0.4140\n",
      "Overall Mean F-beta Score: 0.5086\n",
      "Overall Mean IoU Score: 0.2956\n",
      "Training Loss: 0.4897, Validation Loss: 0.4953, Validation F-beta: 0.4234\n",
      "========================================================\n",
      "SUPER Best model saved. Loss:0.4953, Score:0.4234\n",
      "========================================================\n",
      "Epoch 8/4000\n"
     ]
    },
    {
     "name": "stderr",
     "output_type": "stream",
     "text": [
      "Training: 100%|██████████| 102/102 [01:41<00:00,  1.01it/s, loss=0.48]\n",
      "Validation: 100%|██████████| 20/20 [00:19<00:00,  1.05it/s, loss=0.486]\n"
     ]
    },
    {
     "name": "stdout",
     "output_type": "stream",
     "text": [
      "Validation Dice Score\n",
      "Class 0: 0.9842, Class 1: 0.1117, Class 2: 0.0005, Class 3: 0.3074, Class 4: 0.5784, Class 5: 0.3380, Class 6: 0.7897, \n",
      "Validation F-beta Score\n",
      "Class 0: 0.9776, Class 1: 0.1235, Class 2: 0.0003, Class 3: 0.4256, Class 4: 0.6923, Class 5: 0.4652, Class 6: 0.8137, \n",
      "Validation mIoU Score\n",
      "Class 0: 0.9690, Class 1: 0.0598, Class 2: 0.0002, Class 3: 0.1822, Class 4: 0.4108, Class 5: 0.2044, Class 6: 0.6536, \n",
      "\n",
      "Overall Mean Dice Score: 0.4251\n",
      "Overall Mean F-beta Score: 0.5041\n",
      "Overall Mean IoU Score: 0.3021\n",
      "Training Loss: 0.4821, Validation Loss: 0.4922, Validation F-beta: 0.4233\n",
      "Epoch 9/4000\n"
     ]
    },
    {
     "name": "stderr",
     "output_type": "stream",
     "text": [
      "Training: 100%|██████████| 102/102 [01:42<00:00,  1.00s/it, loss=0.478]\n",
      "Validation: 100%|██████████| 20/20 [00:19<00:00,  1.05it/s, loss=0.475]\n"
     ]
    },
    {
     "name": "stdout",
     "output_type": "stream",
     "text": [
      "Validation Dice Score\n",
      "Class 0: 0.9842, Class 1: 0.1767, Class 2: 0.0161, Class 3: 0.3247, Class 4: 0.6074, Class 5: 0.3628, Class 6: 0.8126, \n",
      "Validation F-beta Score\n",
      "Class 0: 0.9775, Class 1: 0.2148, Class 2: 0.0105, Class 3: 0.5602, Class 4: 0.7017, Class 5: 0.4849, Class 6: 0.8428, \n",
      "Validation mIoU Score\n",
      "Class 0: 0.9688, Class 1: 0.0975, Class 2: 0.0081, Class 3: 0.1949, Class 4: 0.4382, Class 5: 0.2233, Class 6: 0.6852, \n",
      "\n",
      "Overall Mean Dice Score: 0.4568\n",
      "Overall Mean F-beta Score: 0.5609\n",
      "Overall Mean IoU Score: 0.3278\n",
      "Training Loss: 0.4775, Validation Loss: 0.4844, Validation F-beta: 0.4677\n",
      "========================================================\n",
      "SUPER Best model saved. Loss:0.4844, Score:0.4677\n",
      "========================================================\n",
      "Epoch 10/4000\n"
     ]
    },
    {
     "name": "stderr",
     "output_type": "stream",
     "text": [
      "Training: 100%|██████████| 102/102 [01:41<00:00,  1.00it/s, loss=0.479]\n",
      "Validation: 100%|██████████| 20/20 [00:19<00:00,  1.02it/s, loss=0.48] \n"
     ]
    },
    {
     "name": "stdout",
     "output_type": "stream",
     "text": [
      "Validation Dice Score\n",
      "Class 0: 0.9851, Class 1: 0.2792, Class 2: 0.0198, Class 3: 0.3150, Class 4: 0.6149, Class 5: 0.3790, Class 6: 0.8145, \n",
      "Validation F-beta Score\n",
      "Class 0: 0.9795, Class 1: 0.4117, Class 2: 0.0140, Class 3: 0.5533, Class 4: 0.6840, Class 5: 0.4880, Class 6: 0.8393, \n",
      "Validation mIoU Score\n",
      "Class 0: 0.9706, Class 1: 0.1628, Class 2: 0.0100, Class 3: 0.1880, Class 4: 0.4452, Class 5: 0.2348, Class 6: 0.6881, \n",
      "\n",
      "Overall Mean Dice Score: 0.4805\n",
      "Overall Mean F-beta Score: 0.5953\n",
      "Overall Mean IoU Score: 0.3438\n",
      "Training Loss: 0.4697, Validation Loss: 0.4777, Validation F-beta: 0.4947\n",
      "========================================================\n",
      "SUPER Best model saved. Loss:0.4777, Score:0.4947\n",
      "========================================================\n",
      "Epoch 11/4000\n"
     ]
    },
    {
     "name": "stderr",
     "output_type": "stream",
     "text": [
      "Training: 100%|██████████| 102/102 [01:41<00:00,  1.01it/s, loss=0.473]\n",
      "Validation: 100%|██████████| 20/20 [00:19<00:00,  1.01it/s, loss=0.471]\n"
     ]
    },
    {
     "name": "stdout",
     "output_type": "stream",
     "text": [
      "Validation Dice Score\n",
      "Class 0: 0.9841, Class 1: 0.2858, Class 2: 0.0320, Class 3: 0.3046, Class 4: 0.6232, Class 5: 0.3896, Class 6: 0.8159, \n",
      "Validation F-beta Score\n",
      "Class 0: 0.9772, Class 1: 0.4674, Class 2: 0.0300, Class 3: 0.5687, Class 4: 0.7370, Class 5: 0.4787, Class 6: 0.8585, \n",
      "Validation mIoU Score\n",
      "Class 0: 0.9687, Class 1: 0.1678, Class 2: 0.0164, Class 3: 0.1801, Class 4: 0.4544, Class 5: 0.2428, Class 6: 0.6907, \n",
      "\n",
      "Overall Mean Dice Score: 0.4838\n",
      "Overall Mean F-beta Score: 0.6221\n",
      "Overall Mean IoU Score: 0.3472\n",
      "Training Loss: 0.4655, Validation Loss: 0.4790, Validation F-beta: 0.5121\n",
      "Epoch 12/4000\n"
     ]
    },
    {
     "name": "stderr",
     "output_type": "stream",
     "text": [
      "Training: 100%|██████████| 102/102 [01:41<00:00,  1.00it/s, loss=0.487]\n",
      "Validation: 100%|██████████| 20/20 [00:19<00:00,  1.04it/s, loss=0.47] \n"
     ]
    },
    {
     "name": "stdout",
     "output_type": "stream",
     "text": [
      "Validation Dice Score\n",
      "Class 0: 0.9857, Class 1: 0.3374, Class 2: 0.0626, Class 3: 0.3029, Class 4: 0.6263, Class 5: 0.4146, Class 6: 0.8174, \n",
      "Validation F-beta Score\n",
      "Class 0: 0.9800, Class 1: 0.4663, Class 2: 0.0646, Class 3: 0.5341, Class 4: 0.7149, Class 5: 0.5292, Class 6: 0.8559, \n",
      "Validation mIoU Score\n",
      "Class 0: 0.9718, Class 1: 0.2039, Class 2: 0.0324, Class 3: 0.1792, Class 4: 0.4576, Class 5: 0.2630, Class 6: 0.6919, \n",
      "\n",
      "Overall Mean Dice Score: 0.4997\n",
      "Overall Mean F-beta Score: 0.6201\n",
      "Overall Mean IoU Score: 0.3591\n",
      "Training Loss: 0.4622, Validation Loss: 0.4719, Validation F-beta: 0.5157\n",
      "========================================================\n",
      "SUPER Best model saved. Loss:0.4719, Score:0.5157\n",
      "========================================================\n",
      "Epoch 13/4000\n"
     ]
    },
    {
     "name": "stderr",
     "output_type": "stream",
     "text": [
      "Training: 100%|██████████| 102/102 [01:42<00:00,  1.01s/it, loss=0.483]\n",
      "Validation: 100%|██████████| 20/20 [00:18<00:00,  1.05it/s, loss=0.468]\n"
     ]
    },
    {
     "name": "stdout",
     "output_type": "stream",
     "text": [
      "Validation Dice Score\n",
      "Class 0: 0.9852, Class 1: 0.3533, Class 2: 0.0513, Class 3: 0.3240, Class 4: 0.6500, Class 5: 0.3873, Class 6: 0.8419, \n",
      "Validation F-beta Score\n",
      "Class 0: 0.9796, Class 1: 0.4540, Class 2: 0.0557, Class 3: 0.5521, Class 4: 0.7123, Class 5: 0.5012, Class 6: 0.8660, \n",
      "Validation mIoU Score\n",
      "Class 0: 0.9708, Class 1: 0.2151, Class 2: 0.0264, Class 3: 0.1942, Class 4: 0.4822, Class 5: 0.2416, Class 6: 0.7273, \n",
      "\n",
      "Overall Mean Dice Score: 0.5113\n",
      "Overall Mean F-beta Score: 0.6171\n",
      "Overall Mean IoU Score: 0.3721\n",
      "Training Loss: 0.4568, Validation Loss: 0.4719, Validation F-beta: 0.5191\n",
      "========================================================\n",
      "SUPER Best model saved. Loss:0.4719, Score:0.5191\n",
      "========================================================\n",
      "Epoch 14/4000\n"
     ]
    },
    {
     "name": "stderr",
     "output_type": "stream",
     "text": [
      "Training: 100%|██████████| 102/102 [01:42<00:00,  1.00s/it, loss=0.469]\n",
      "Validation: 100%|██████████| 20/20 [00:18<00:00,  1.05it/s, loss=0.464]\n"
     ]
    },
    {
     "name": "stdout",
     "output_type": "stream",
     "text": [
      "Validation Dice Score\n",
      "Class 0: 0.9834, Class 1: 0.4113, Class 2: 0.0582, Class 3: 0.3214, Class 4: 0.6199, Class 5: 0.3724, Class 6: 0.8202, \n",
      "Validation F-beta Score\n",
      "Class 0: 0.9750, Class 1: 0.5408, Class 2: 0.0670, Class 3: 0.5439, Class 4: 0.7608, Class 5: 0.5350, Class 6: 0.8311, \n",
      "Validation mIoU Score\n",
      "Class 0: 0.9674, Class 1: 0.2600, Class 2: 0.0301, Class 3: 0.1921, Class 4: 0.4506, Class 5: 0.2302, Class 6: 0.6966, \n",
      "\n",
      "Overall Mean Dice Score: 0.5090\n",
      "Overall Mean F-beta Score: 0.6423\n",
      "Overall Mean IoU Score: 0.3659\n",
      "Training Loss: 0.4548, Validation Loss: 0.4750, Validation F-beta: 0.5317\n",
      "Epoch 15/4000\n"
     ]
    },
    {
     "name": "stderr",
     "output_type": "stream",
     "text": [
      "Training: 100%|██████████| 102/102 [01:39<00:00,  1.02it/s, loss=0.471]\n",
      "Validation: 100%|██████████| 20/20 [00:19<00:00,  1.01it/s, loss=0.473]\n"
     ]
    },
    {
     "name": "stdout",
     "output_type": "stream",
     "text": [
      "Validation Dice Score\n",
      "Class 0: 0.9843, Class 1: 0.4091, Class 2: 0.0553, Class 3: 0.3459, Class 4: 0.6377, Class 5: 0.4010, Class 6: 0.8217, \n",
      "Validation F-beta Score\n",
      "Class 0: 0.9766, Class 1: 0.5320, Class 2: 0.0676, Class 3: 0.5182, Class 4: 0.7613, Class 5: 0.5659, Class 6: 0.8526, \n",
      "Validation mIoU Score\n",
      "Class 0: 0.9691, Class 1: 0.2585, Class 2: 0.0287, Class 3: 0.2096, Class 4: 0.4697, Class 5: 0.2514, Class 6: 0.6986, \n",
      "\n",
      "Overall Mean Dice Score: 0.5231\n",
      "Overall Mean F-beta Score: 0.6460\n",
      "Overall Mean IoU Score: 0.3775\n",
      "Training Loss: 0.4526, Validation Loss: 0.4720, Validation F-beta: 0.5386\n",
      "Epoch 16/4000\n"
     ]
    },
    {
     "name": "stderr",
     "output_type": "stream",
     "text": [
      "Training: 100%|██████████| 102/102 [01:40<00:00,  1.01it/s, loss=0.472]\n",
      "Validation: 100%|██████████| 20/20 [00:19<00:00,  1.04it/s, loss=0.47] \n"
     ]
    },
    {
     "name": "stdout",
     "output_type": "stream",
     "text": [
      "Validation Dice Score\n",
      "Class 0: 0.9849, Class 1: 0.4532, Class 2: 0.0646, Class 3: 0.3214, Class 4: 0.6349, Class 5: 0.4251, Class 6: 0.8307, \n",
      "Validation F-beta Score\n",
      "Class 0: 0.9778, Class 1: 0.5112, Class 2: 0.0933, Class 3: 0.5553, Class 4: 0.7654, Class 5: 0.5478, Class 6: 0.8690, \n",
      "Validation mIoU Score\n",
      "Class 0: 0.9703, Class 1: 0.2953, Class 2: 0.0335, Class 3: 0.1925, Class 4: 0.4669, Class 5: 0.2710, Class 6: 0.7111, \n",
      "\n",
      "Overall Mean Dice Score: 0.5331\n",
      "Overall Mean F-beta Score: 0.6497\n",
      "Overall Mean IoU Score: 0.3874\n",
      "Training Loss: 0.4514, Validation Loss: 0.4682, Validation F-beta: 0.5448\n",
      "========================================================\n",
      "SUPER Best model saved. Loss:0.4682, Score:0.5448\n",
      "========================================================\n",
      "Epoch 17/4000\n"
     ]
    },
    {
     "name": "stderr",
     "output_type": "stream",
     "text": [
      "Training: 100%|██████████| 102/102 [01:41<00:00,  1.01it/s, loss=0.471]\n",
      "Validation: 100%|██████████| 20/20 [00:19<00:00,  1.05it/s, loss=0.462]\n"
     ]
    },
    {
     "name": "stdout",
     "output_type": "stream",
     "text": [
      "Validation Dice Score\n",
      "Class 0: 0.9841, Class 1: 0.4095, Class 2: 0.0683, Class 3: 0.3525, Class 4: 0.6324, Class 5: 0.3831, Class 6: 0.8378, \n",
      "Validation F-beta Score\n",
      "Class 0: 0.9764, Class 1: 0.5523, Class 2: 0.0939, Class 3: 0.5306, Class 4: 0.7628, Class 5: 0.5335, Class 6: 0.8682, \n",
      "Validation mIoU Score\n",
      "Class 0: 0.9688, Class 1: 0.2591, Class 2: 0.0358, Class 3: 0.2143, Class 4: 0.4641, Class 5: 0.2384, Class 6: 0.7219, \n",
      "\n",
      "Overall Mean Dice Score: 0.5230\n",
      "Overall Mean F-beta Score: 0.6495\n",
      "Overall Mean IoU Score: 0.3796\n",
      "Training Loss: 0.4490, Validation Loss: 0.4691, Validation F-beta: 0.5415\n",
      "Epoch 18/4000\n"
     ]
    },
    {
     "name": "stderr",
     "output_type": "stream",
     "text": [
      "Training: 100%|██████████| 102/102 [01:42<00:00,  1.00s/it, loss=0.465]\n",
      "Validation: 100%|██████████| 20/20 [00:19<00:00,  1.03it/s, loss=0.453]\n"
     ]
    },
    {
     "name": "stdout",
     "output_type": "stream",
     "text": [
      "Validation Dice Score\n",
      "Class 0: 0.9836, Class 1: 0.4150, Class 2: 0.0836, Class 3: 0.3196, Class 4: 0.6468, Class 5: 0.3961, Class 6: 0.8167, \n",
      "Validation F-beta Score\n",
      "Class 0: 0.9753, Class 1: 0.5144, Class 2: 0.1225, Class 3: 0.5720, Class 4: 0.7644, Class 5: 0.5513, Class 6: 0.8647, \n",
      "Validation mIoU Score\n",
      "Class 0: 0.9678, Class 1: 0.2634, Class 2: 0.0442, Class 3: 0.1913, Class 4: 0.4789, Class 5: 0.2475, Class 6: 0.6909, \n",
      "\n",
      "Overall Mean Dice Score: 0.5188\n",
      "Overall Mean F-beta Score: 0.6533\n",
      "Overall Mean IoU Score: 0.3744\n",
      "Training Loss: 0.4469, Validation Loss: 0.4713, Validation F-beta: 0.5418\n",
      "Epoch 19/4000\n"
     ]
    },
    {
     "name": "stderr",
     "output_type": "stream",
     "text": [
      "Training: 100%|██████████| 102/102 [01:43<00:00,  1.01s/it, loss=0.461]\n",
      "Validation: 100%|██████████| 20/20 [00:18<00:00,  1.06it/s, loss=0.464]\n"
     ]
    },
    {
     "name": "stdout",
     "output_type": "stream",
     "text": [
      "Validation Dice Score\n",
      "Class 0: 0.9836, Class 1: 0.4379, Class 2: 0.0752, Class 3: 0.3324, Class 4: 0.6381, Class 5: 0.4191, Class 6: 0.8281, \n",
      "Validation F-beta Score\n",
      "Class 0: 0.9749, Class 1: 0.5346, Class 2: 0.1191, Class 3: 0.5568, Class 4: 0.7861, Class 5: 0.5517, Class 6: 0.8986, \n",
      "Validation mIoU Score\n",
      "Class 0: 0.9677, Class 1: 0.2826, Class 2: 0.0394, Class 3: 0.2003, Class 4: 0.4694, Class 5: 0.2658, Class 6: 0.7079, \n",
      "\n",
      "Overall Mean Dice Score: 0.5311\n",
      "Overall Mean F-beta Score: 0.6656\n",
      "Overall Mean IoU Score: 0.3852\n",
      "Training Loss: 0.4467, Validation Loss: 0.4694, Validation F-beta: 0.5534\n",
      "Epoch 20/4000\n"
     ]
    },
    {
     "name": "stderr",
     "output_type": "stream",
     "text": [
      "Training: 100%|██████████| 102/102 [01:46<00:00,  1.04s/it, loss=0.474]\n",
      "Validation: 100%|██████████| 20/20 [00:18<00:00,  1.06it/s, loss=0.454]\n"
     ]
    },
    {
     "name": "stdout",
     "output_type": "stream",
     "text": [
      "Validation Dice Score\n",
      "Class 0: 0.9846, Class 1: 0.4363, Class 2: 0.0974, Class 3: 0.3536, Class 4: 0.6587, Class 5: 0.4009, Class 6: 0.8337, \n",
      "Validation F-beta Score\n",
      "Class 0: 0.9770, Class 1: 0.5530, Class 2: 0.1294, Class 3: 0.5566, Class 4: 0.7723, Class 5: 0.5547, Class 6: 0.8797, \n",
      "Validation mIoU Score\n",
      "Class 0: 0.9696, Class 1: 0.2806, Class 2: 0.0516, Class 3: 0.2154, Class 4: 0.4924, Class 5: 0.2517, Class 6: 0.7154, \n",
      "\n",
      "Overall Mean Dice Score: 0.5367\n",
      "Overall Mean F-beta Score: 0.6633\n",
      "Overall Mean IoU Score: 0.3911\n",
      "Training Loss: 0.4458, Validation Loss: 0.4668, Validation F-beta: 0.5544\n",
      "========================================================\n",
      "SUPER Best model saved. Loss:0.4668, Score:0.5544\n",
      "========================================================\n",
      "Epoch 21/4000\n"
     ]
    },
    {
     "name": "stderr",
     "output_type": "stream",
     "text": [
      "Training: 100%|██████████| 102/102 [01:42<00:00,  1.00s/it, loss=0.455]\n",
      "Validation: 100%|██████████| 20/20 [00:18<00:00,  1.05it/s, loss=0.463]\n"
     ]
    },
    {
     "name": "stdout",
     "output_type": "stream",
     "text": [
      "Validation Dice Score\n",
      "Class 0: 0.9830, Class 1: 0.4565, Class 2: 0.0979, Class 3: 0.3563, Class 4: 0.6231, Class 5: 0.4070, Class 6: 0.8267, \n",
      "Validation F-beta Score\n",
      "Class 0: 0.9737, Class 1: 0.5955, Class 2: 0.1366, Class 3: 0.5433, Class 4: 0.7930, Class 5: 0.5760, Class 6: 0.8828, \n",
      "Validation mIoU Score\n",
      "Class 0: 0.9667, Class 1: 0.2969, Class 2: 0.0521, Class 3: 0.2177, Class 4: 0.4550, Class 5: 0.2566, Class 6: 0.7055, \n",
      "\n",
      "Overall Mean Dice Score: 0.5339\n",
      "Overall Mean F-beta Score: 0.6781\n",
      "Overall Mean IoU Score: 0.3863\n",
      "Training Loss: 0.4437, Validation Loss: 0.4678, Validation F-beta: 0.5614\n",
      "Epoch 22/4000\n"
     ]
    },
    {
     "name": "stderr",
     "output_type": "stream",
     "text": [
      "Training: 100%|██████████| 102/102 [01:42<00:00,  1.00s/it, loss=0.465]\n",
      "Validation: 100%|██████████| 20/20 [00:19<00:00,  1.00it/s, loss=0.451]\n"
     ]
    },
    {
     "name": "stdout",
     "output_type": "stream",
     "text": [
      "Validation Dice Score\n",
      "Class 0: 0.9852, Class 1: 0.4566, Class 2: 0.1023, Class 3: 0.3427, Class 4: 0.6384, Class 5: 0.4264, Class 6: 0.8523, \n",
      "Validation F-beta Score\n",
      "Class 0: 0.9788, Class 1: 0.5758, Class 2: 0.1457, Class 3: 0.5430, Class 4: 0.7601, Class 5: 0.5217, Class 6: 0.9029, \n",
      "Validation mIoU Score\n",
      "Class 0: 0.9709, Class 1: 0.2969, Class 2: 0.0543, Class 3: 0.2074, Class 4: 0.4703, Class 5: 0.2726, Class 6: 0.7433, \n",
      "\n",
      "Overall Mean Dice Score: 0.5433\n",
      "Overall Mean F-beta Score: 0.6607\n",
      "Overall Mean IoU Score: 0.3981\n",
      "Training Loss: 0.4426, Validation Loss: 0.4648, Validation F-beta: 0.5557\n",
      "========================================================\n",
      "SUPER Best model saved. Loss:0.4648, Score:0.5557\n",
      "========================================================\n",
      "Epoch 23/4000\n"
     ]
    },
    {
     "name": "stderr",
     "output_type": "stream",
     "text": [
      "Training: 100%|██████████| 102/102 [01:42<00:00,  1.00s/it, loss=0.459]\n",
      "Validation: 100%|██████████| 20/20 [00:20<00:00,  1.02s/it, loss=0.456]\n"
     ]
    },
    {
     "name": "stdout",
     "output_type": "stream",
     "text": [
      "Validation Dice Score\n",
      "Class 0: 0.9840, Class 1: 0.4464, Class 2: 0.1003, Class 3: 0.3609, Class 4: 0.6403, Class 5: 0.3936, Class 6: 0.8376, \n",
      "Validation F-beta Score\n",
      "Class 0: 0.9753, Class 1: 0.5350, Class 2: 0.1455, Class 3: 0.5319, Class 4: 0.7859, Class 5: 0.5779, Class 6: 0.8957, \n",
      "Validation mIoU Score\n",
      "Class 0: 0.9685, Class 1: 0.2891, Class 2: 0.0534, Class 3: 0.2212, Class 4: 0.4723, Class 5: 0.2460, Class 6: 0.7214, \n",
      "\n",
      "Overall Mean Dice Score: 0.5358\n",
      "Overall Mean F-beta Score: 0.6653\n",
      "Overall Mean IoU Score: 0.3900\n",
      "Training Loss: 0.4422, Validation Loss: 0.4683, Validation F-beta: 0.5552\n",
      "Epoch 24/4000\n"
     ]
    },
    {
     "name": "stderr",
     "output_type": "stream",
     "text": [
      "Training: 100%|██████████| 102/102 [01:41<00:00,  1.00it/s, loss=0.474]\n",
      "Validation: 100%|██████████| 20/20 [00:19<00:00,  1.00it/s, loss=0.459]\n"
     ]
    },
    {
     "name": "stdout",
     "output_type": "stream",
     "text": [
      "Validation Dice Score\n",
      "Class 0: 0.9842, Class 1: 0.4689, Class 2: 0.1029, Class 3: 0.3834, Class 4: 0.6354, Class 5: 0.3904, Class 6: 0.8361, \n",
      "Validation F-beta Score\n",
      "Class 0: 0.9759, Class 1: 0.5441, Class 2: 0.1328, Class 3: 0.5431, Class 4: 0.7815, Class 5: 0.5620, Class 6: 0.9027, \n",
      "Validation mIoU Score\n",
      "Class 0: 0.9689, Class 1: 0.3079, Class 2: 0.0547, Class 3: 0.2384, Class 4: 0.4668, Class 5: 0.2439, Class 6: 0.7190, \n",
      "\n",
      "Overall Mean Dice Score: 0.5428\n",
      "Overall Mean F-beta Score: 0.6667\n",
      "Overall Mean IoU Score: 0.3952\n",
      "Training Loss: 0.4415, Validation Loss: 0.4672, Validation F-beta: 0.5581\n",
      "Epoch 25/4000\n"
     ]
    },
    {
     "name": "stderr",
     "output_type": "stream",
     "text": [
      "Training: 100%|██████████| 102/102 [01:41<00:00,  1.00it/s, loss=0.452]\n",
      "Validation: 100%|██████████| 20/20 [00:18<00:00,  1.06it/s, loss=0.457]\n"
     ]
    },
    {
     "name": "stdout",
     "output_type": "stream",
     "text": [
      "Validation Dice Score\n",
      "Class 0: 0.9847, Class 1: 0.4343, Class 2: 0.1084, Class 3: 0.3459, Class 4: 0.6541, Class 5: 0.4346, Class 6: 0.8437, \n",
      "Validation F-beta Score\n",
      "Class 0: 0.9771, Class 1: 0.5932, Class 2: 0.1579, Class 3: 0.5603, Class 4: 0.7771, Class 5: 0.5783, Class 6: 0.9009, \n",
      "Validation mIoU Score\n",
      "Class 0: 0.9700, Class 1: 0.2786, Class 2: 0.0580, Class 3: 0.2098, Class 4: 0.4867, Class 5: 0.2789, Class 6: 0.7302, \n",
      "\n",
      "Overall Mean Dice Score: 0.5425\n",
      "Overall Mean F-beta Score: 0.6819\n",
      "Overall Mean IoU Score: 0.3968\n",
      "Training Loss: 0.4396, Validation Loss: 0.4620, Validation F-beta: 0.5679\n",
      "========================================================\n",
      "SUPER Best model saved. Loss:0.4620, Score:0.5679\n",
      "========================================================\n",
      "Epoch 26/4000\n"
     ]
    },
    {
     "name": "stderr",
     "output_type": "stream",
     "text": [
      "Training: 100%|██████████| 102/102 [01:42<00:00,  1.01s/it, loss=0.479]\n",
      "Validation: 100%|██████████| 20/20 [00:18<00:00,  1.06it/s, loss=0.448]\n"
     ]
    },
    {
     "name": "stdout",
     "output_type": "stream",
     "text": [
      "Validation Dice Score\n",
      "Class 0: 0.9860, Class 1: 0.4754, Class 2: 0.1097, Class 3: 0.3262, Class 4: 0.6608, Class 5: 0.4438, Class 6: 0.8543, \n",
      "Validation F-beta Score\n",
      "Class 0: 0.9797, Class 1: 0.6281, Class 2: 0.1856, Class 3: 0.5443, Class 4: 0.7643, Class 5: 0.5460, Class 6: 0.9168, \n",
      "Validation mIoU Score\n",
      "Class 0: 0.9724, Class 1: 0.3127, Class 2: 0.0586, Class 3: 0.1959, Class 4: 0.4945, Class 5: 0.2861, Class 6: 0.7462, \n",
      "\n",
      "Overall Mean Dice Score: 0.5521\n",
      "Overall Mean F-beta Score: 0.6799\n",
      "Overall Mean IoU Score: 0.4071\n",
      "Training Loss: 0.4390, Validation Loss: 0.4609, Validation F-beta: 0.5708\n",
      "========================================================\n",
      "SUPER Best model saved. Loss:0.4609, Score:0.5708\n",
      "========================================================\n",
      "Epoch 27/4000\n"
     ]
    },
    {
     "name": "stderr",
     "output_type": "stream",
     "text": [
      "Training: 100%|██████████| 102/102 [01:42<00:00,  1.00s/it, loss=0.454]\n",
      "Validation: 100%|██████████| 20/20 [00:18<00:00,  1.05it/s, loss=0.446]\n"
     ]
    },
    {
     "name": "stdout",
     "output_type": "stream",
     "text": [
      "Validation Dice Score\n",
      "Class 0: 0.9848, Class 1: 0.4658, Class 2: 0.1163, Class 3: 0.3383, Class 4: 0.6579, Class 5: 0.4246, Class 6: 0.8601, \n",
      "Validation F-beta Score\n",
      "Class 0: 0.9770, Class 1: 0.5913, Class 2: 0.2186, Class 3: 0.5526, Class 4: 0.7677, Class 5: 0.5936, Class 6: 0.9146, \n",
      "Validation mIoU Score\n",
      "Class 0: 0.9701, Class 1: 0.3057, Class 2: 0.0623, Class 3: 0.2045, Class 4: 0.4909, Class 5: 0.2714, Class 6: 0.7548, \n",
      "\n",
      "Overall Mean Dice Score: 0.5493\n",
      "Overall Mean F-beta Score: 0.6839\n",
      "Overall Mean IoU Score: 0.4054\n",
      "Training Loss: 0.4381, Validation Loss: 0.4612, Validation F-beta: 0.5725\n",
      "Epoch 28/4000\n"
     ]
    },
    {
     "name": "stderr",
     "output_type": "stream",
     "text": [
      "Training: 100%|██████████| 102/102 [01:39<00:00,  1.02it/s, loss=0.468]\n",
      "Validation: 100%|██████████| 20/20 [00:19<00:00,  1.01it/s, loss=0.444]\n"
     ]
    },
    {
     "name": "stdout",
     "output_type": "stream",
     "text": [
      "Validation Dice Score\n",
      "Class 0: 0.9849, Class 1: 0.4793, Class 2: 0.1096, Class 3: 0.3723, Class 4: 0.6508, Class 5: 0.4209, Class 6: 0.8456, \n",
      "Validation F-beta Score\n",
      "Class 0: 0.9776, Class 1: 0.5690, Class 2: 0.1759, Class 3: 0.5574, Class 4: 0.7618, Class 5: 0.5696, Class 6: 0.8990, \n",
      "Validation mIoU Score\n",
      "Class 0: 0.9702, Class 1: 0.3165, Class 2: 0.0586, Class 3: 0.2296, Class 4: 0.4837, Class 5: 0.2679, Class 6: 0.7333, \n",
      "\n",
      "Overall Mean Dice Score: 0.5538\n",
      "Overall Mean F-beta Score: 0.6714\n",
      "Overall Mean IoU Score: 0.4062\n",
      "Training Loss: 0.4370, Validation Loss: 0.4619, Validation F-beta: 0.5653\n",
      "Epoch 29/4000\n"
     ]
    },
    {
     "name": "stderr",
     "output_type": "stream",
     "text": [
      "Training: 100%|██████████| 102/102 [01:41<00:00,  1.00it/s, loss=0.455]\n",
      "Validation: 100%|██████████| 20/20 [00:20<00:00,  1.01s/it, loss=0.454]\n"
     ]
    },
    {
     "name": "stdout",
     "output_type": "stream",
     "text": [
      "Validation Dice Score\n",
      "Class 0: 0.9852, Class 1: 0.4744, Class 2: 0.1004, Class 3: 0.3454, Class 4: 0.6544, Class 5: 0.4361, Class 6: 0.8451, \n",
      "Validation F-beta Score\n",
      "Class 0: 0.9781, Class 1: 0.5979, Class 2: 0.1620, Class 3: 0.5612, Class 4: 0.7700, Class 5: 0.5706, Class 6: 0.9218, \n",
      "Validation mIoU Score\n",
      "Class 0: 0.9709, Class 1: 0.3122, Class 2: 0.0535, Class 3: 0.2101, Class 4: 0.4865, Class 5: 0.2799, Class 6: 0.7334, \n",
      "\n",
      "Overall Mean Dice Score: 0.5511\n",
      "Overall Mean F-beta Score: 0.6843\n",
      "Overall Mean IoU Score: 0.4044\n",
      "Training Loss: 0.4376, Validation Loss: 0.4615, Validation F-beta: 0.5723\n",
      "Epoch 30/4000\n"
     ]
    },
    {
     "name": "stderr",
     "output_type": "stream",
     "text": [
      "Training: 100%|██████████| 102/102 [01:40<00:00,  1.01it/s, loss=0.466]\n",
      "Validation: 100%|██████████| 20/20 [00:19<00:00,  1.01it/s, loss=0.449]\n"
     ]
    },
    {
     "name": "stdout",
     "output_type": "stream",
     "text": [
      "Validation Dice Score\n",
      "Class 0: 0.9841, Class 1: 0.5032, Class 2: 0.1129, Class 3: 0.3488, Class 4: 0.6589, Class 5: 0.4132, Class 6: 0.8582, \n",
      "Validation F-beta Score\n",
      "Class 0: 0.9757, Class 1: 0.5704, Class 2: 0.2134, Class 3: 0.5541, Class 4: 0.7827, Class 5: 0.6010, Class 6: 0.9119, \n",
      "Validation mIoU Score\n",
      "Class 0: 0.9688, Class 1: 0.3378, Class 2: 0.0605, Class 3: 0.2120, Class 4: 0.4921, Class 5: 0.2613, Class 6: 0.7521, \n",
      "\n",
      "Overall Mean Dice Score: 0.5565\n",
      "Overall Mean F-beta Score: 0.6840\n",
      "Overall Mean IoU Score: 0.4110\n",
      "Training Loss: 0.4357, Validation Loss: 0.4621, Validation F-beta: 0.5748\n",
      "Epoch 31/4000\n"
     ]
    },
    {
     "name": "stderr",
     "output_type": "stream",
     "text": [
      "Training: 100%|██████████| 102/102 [01:42<00:00,  1.00s/it, loss=0.454]\n",
      "Validation: 100%|██████████| 20/20 [00:19<00:00,  1.00it/s, loss=0.446]\n"
     ]
    },
    {
     "name": "stdout",
     "output_type": "stream",
     "text": [
      "Validation Dice Score\n",
      "Class 0: 0.9841, Class 1: 0.5002, Class 2: 0.0876, Class 3: 0.3422, Class 4: 0.6598, Class 5: 0.4280, Class 6: 0.8606, \n",
      "Validation F-beta Score\n",
      "Class 0: 0.9756, Class 1: 0.5886, Class 2: 0.1821, Class 3: 0.6008, Class 4: 0.7829, Class 5: 0.5922, Class 6: 0.9092, \n",
      "Validation mIoU Score\n",
      "Class 0: 0.9687, Class 1: 0.3350, Class 2: 0.0460, Class 3: 0.2075, Class 4: 0.4933, Class 5: 0.2736, Class 6: 0.7563, \n",
      "\n",
      "Overall Mean Dice Score: 0.5582\n",
      "Overall Mean F-beta Score: 0.6947\n",
      "Overall Mean IoU Score: 0.4132\n",
      "Training Loss: 0.4349, Validation Loss: 0.4617, Validation F-beta: 0.5821\n",
      "Epoch 32/4000\n"
     ]
    },
    {
     "name": "stderr",
     "output_type": "stream",
     "text": [
      "Training: 100%|██████████| 102/102 [01:41<00:00,  1.01it/s, loss=0.453]\n",
      "Validation: 100%|██████████| 20/20 [00:18<00:00,  1.06it/s, loss=0.458]\n"
     ]
    },
    {
     "name": "stdout",
     "output_type": "stream",
     "text": [
      "Validation Dice Score\n",
      "Class 0: 0.9842, Class 1: 0.4766, Class 2: 0.1062, Class 3: 0.3376, Class 4: 0.6629, Class 5: 0.4142, Class 6: 0.8458, \n",
      "Validation F-beta Score\n",
      "Class 0: 0.9761, Class 1: 0.5856, Class 2: 0.1774, Class 3: 0.5854, Class 4: 0.7736, Class 5: 0.5768, Class 6: 0.9119, \n",
      "Validation mIoU Score\n",
      "Class 0: 0.9690, Class 1: 0.3144, Class 2: 0.0567, Class 3: 0.2043, Class 4: 0.4966, Class 5: 0.2616, Class 6: 0.7337, \n",
      "\n",
      "Overall Mean Dice Score: 0.5474\n",
      "Overall Mean F-beta Score: 0.6867\n",
      "Overall Mean IoU Score: 0.4021\n",
      "Training Loss: 0.4338, Validation Loss: 0.4626, Validation F-beta: 0.5728\n",
      "Epoch 33/4000\n"
     ]
    },
    {
     "name": "stderr",
     "output_type": "stream",
     "text": [
      "Training: 100%|██████████| 102/102 [01:41<00:00,  1.00it/s, loss=0.454]\n",
      "Validation: 100%|██████████| 20/20 [00:19<00:00,  1.04it/s, loss=0.454]\n"
     ]
    },
    {
     "name": "stdout",
     "output_type": "stream",
     "text": [
      "Validation Dice Score\n",
      "Class 0: 0.9841, Class 1: 0.5203, Class 2: 0.1102, Class 3: 0.3388, Class 4: 0.6521, Class 5: 0.4295, Class 6: 0.8385, \n",
      "Validation F-beta Score\n",
      "Class 0: 0.9757, Class 1: 0.6014, Class 2: 0.2136, Class 3: 0.5381, Class 4: 0.7959, Class 5: 0.5734, Class 6: 0.9280, \n",
      "Validation mIoU Score\n",
      "Class 0: 0.9687, Class 1: 0.3537, Class 2: 0.0589, Class 3: 0.2049, Class 4: 0.4857, Class 5: 0.2741, Class 6: 0.7227, \n",
      "\n",
      "Overall Mean Dice Score: 0.5558\n",
      "Overall Mean F-beta Score: 0.6874\n",
      "Overall Mean IoU Score: 0.4082\n",
      "Training Loss: 0.4350, Validation Loss: 0.4600, Validation F-beta: 0.5757\n",
      "========================================================\n",
      "SUPER Best model saved. Loss:0.4600, Score:0.5757\n",
      "========================================================\n",
      "Epoch 34/4000\n"
     ]
    },
    {
     "name": "stderr",
     "output_type": "stream",
     "text": [
      "Training: 100%|██████████| 102/102 [01:44<00:00,  1.02s/it, loss=0.458]\n",
      "Validation: 100%|██████████| 20/20 [00:19<00:00,  1.04it/s, loss=0.458]\n"
     ]
    },
    {
     "name": "stdout",
     "output_type": "stream",
     "text": [
      "Validation Dice Score\n",
      "Class 0: 0.9843, Class 1: 0.4600, Class 2: 0.1058, Class 3: 0.3540, Class 4: 0.6601, Class 5: 0.4193, Class 6: 0.8539, \n",
      "Validation F-beta Score\n",
      "Class 0: 0.9762, Class 1: 0.5656, Class 2: 0.2017, Class 3: 0.5707, Class 4: 0.7803, Class 5: 0.5834, Class 6: 0.9150, \n",
      "Validation mIoU Score\n",
      "Class 0: 0.9692, Class 1: 0.3006, Class 2: 0.0565, Class 3: 0.2161, Class 4: 0.4932, Class 5: 0.2666, Class 6: 0.7458, \n",
      "\n",
      "Overall Mean Dice Score: 0.5495\n",
      "Overall Mean F-beta Score: 0.6830\n",
      "Overall Mean IoU Score: 0.4045\n",
      "Training Loss: 0.4340, Validation Loss: 0.4640, Validation F-beta: 0.5716\n",
      "Epoch 35/4000\n"
     ]
    },
    {
     "name": "stderr",
     "output_type": "stream",
     "text": [
      "Training: 100%|██████████| 102/102 [01:41<00:00,  1.01it/s, loss=0.455]\n",
      "Validation: 100%|██████████| 20/20 [00:19<00:00,  1.01it/s, loss=0.453]\n"
     ]
    },
    {
     "name": "stdout",
     "output_type": "stream",
     "text": [
      "Validation Dice Score\n",
      "Class 0: 0.9847, Class 1: 0.4602, Class 2: 0.0941, Class 3: 0.3378, Class 4: 0.6592, Class 5: 0.4298, Class 6: 0.8518, \n",
      "Validation F-beta Score\n",
      "Class 0: 0.9768, Class 1: 0.5912, Class 2: 0.1777, Class 3: 0.5936, Class 4: 0.7889, Class 5: 0.5666, Class 6: 0.9189, \n",
      "Validation mIoU Score\n",
      "Class 0: 0.9698, Class 1: 0.3029, Class 2: 0.0500, Class 3: 0.2048, Class 4: 0.4925, Class 5: 0.2747, Class 6: 0.7428, \n",
      "\n",
      "Overall Mean Dice Score: 0.5478\n",
      "Overall Mean F-beta Score: 0.6918\n",
      "Overall Mean IoU Score: 0.4035\n",
      "Training Loss: 0.4332, Validation Loss: 0.4619, Validation F-beta: 0.5765\n",
      "Epoch 36/4000\n"
     ]
    },
    {
     "name": "stderr",
     "output_type": "stream",
     "text": [
      "Training: 100%|██████████| 102/102 [01:40<00:00,  1.01it/s, loss=0.467]\n",
      "Validation: 100%|██████████| 20/20 [00:20<00:00,  1.00s/it, loss=0.454]\n"
     ]
    },
    {
     "name": "stdout",
     "output_type": "stream",
     "text": [
      "Validation Dice Score\n",
      "Class 0: 0.9848, Class 1: 0.4944, Class 2: 0.0940, Class 3: 0.3488, Class 4: 0.6667, Class 5: 0.4272, Class 6: 0.8648, \n",
      "Validation F-beta Score\n",
      "Class 0: 0.9774, Class 1: 0.5753, Class 2: 0.2124, Class 3: 0.6018, Class 4: 0.7670, Class 5: 0.5579, Class 6: 0.9147, \n",
      "Validation mIoU Score\n",
      "Class 0: 0.9700, Class 1: 0.3301, Class 2: 0.0498, Class 3: 0.2124, Class 4: 0.5004, Class 5: 0.2721, Class 6: 0.7622, \n",
      "\n",
      "Overall Mean Dice Score: 0.5604\n",
      "Overall Mean F-beta Score: 0.6833\n",
      "Overall Mean IoU Score: 0.4154\n",
      "Training Loss: 0.4339, Validation Loss: 0.4599, Validation F-beta: 0.5762\n",
      "========================================================\n",
      "SUPER Best model saved. Loss:0.4599, Score:0.5762\n",
      "========================================================\n",
      "Epoch 37/4000\n"
     ]
    },
    {
     "name": "stderr",
     "output_type": "stream",
     "text": [
      "Training: 100%|██████████| 102/102 [01:41<00:00,  1.01it/s, loss=0.464]\n",
      "Validation: 100%|██████████| 20/20 [00:19<00:00,  1.00it/s, loss=0.447]\n"
     ]
    },
    {
     "name": "stdout",
     "output_type": "stream",
     "text": [
      "Validation Dice Score\n",
      "Class 0: 0.9841, Class 1: 0.4985, Class 2: 0.1146, Class 3: 0.3532, Class 4: 0.6572, Class 5: 0.4198, Class 6: 0.8470, \n",
      "Validation F-beta Score\n",
      "Class 0: 0.9754, Class 1: 0.6032, Class 2: 0.2338, Class 3: 0.5778, Class 4: 0.7824, Class 5: 0.5979, Class 6: 0.9091, \n",
      "Validation mIoU Score\n",
      "Class 0: 0.9687, Class 1: 0.3328, Class 2: 0.0614, Class 3: 0.2151, Class 4: 0.4902, Class 5: 0.2671, Class 6: 0.7356, \n",
      "\n",
      "Overall Mean Dice Score: 0.5551\n",
      "Overall Mean F-beta Score: 0.6941\n",
      "Overall Mean IoU Score: 0.4082\n",
      "Training Loss: 0.4331, Validation Loss: 0.4601, Validation F-beta: 0.5797\n",
      "Epoch 38/4000\n"
     ]
    },
    {
     "name": "stderr",
     "output_type": "stream",
     "text": [
      "Training: 100%|██████████| 102/102 [01:40<00:00,  1.02it/s, loss=0.464]\n",
      "Validation: 100%|██████████| 20/20 [00:19<00:00,  1.04it/s, loss=0.45] \n"
     ]
    },
    {
     "name": "stdout",
     "output_type": "stream",
     "text": [
      "Validation Dice Score\n",
      "Class 0: 0.9839, Class 1: 0.4985, Class 2: 0.0946, Class 3: 0.3703, Class 4: 0.6602, Class 5: 0.4051, Class 6: 0.8574, \n",
      "Validation F-beta Score\n",
      "Class 0: 0.9750, Class 1: 0.5970, Class 2: 0.1842, Class 3: 0.5793, Class 4: 0.7813, Class 5: 0.5981, Class 6: 0.9297, \n",
      "Validation mIoU Score\n",
      "Class 0: 0.9683, Class 1: 0.3337, Class 2: 0.0503, Class 3: 0.2291, Class 4: 0.4932, Class 5: 0.2549, Class 6: 0.7506, \n",
      "\n",
      "Overall Mean Dice Score: 0.5583\n",
      "Overall Mean F-beta Score: 0.6971\n",
      "Overall Mean IoU Score: 0.4123\n",
      "Training Loss: 0.4316, Validation Loss: 0.4598, Validation F-beta: 0.5832\n",
      "========================================================\n",
      "SUPER Best model saved. Loss:0.4598, Score:0.5832\n",
      "========================================================\n",
      "Epoch 39/4000\n"
     ]
    },
    {
     "name": "stderr",
     "output_type": "stream",
     "text": [
      "Training: 100%|██████████| 102/102 [01:41<00:00,  1.00it/s, loss=0.465]\n",
      "Validation: 100%|██████████| 20/20 [00:18<00:00,  1.06it/s, loss=0.448]\n"
     ]
    },
    {
     "name": "stdout",
     "output_type": "stream",
     "text": [
      "Validation Dice Score\n",
      "Class 0: 0.9846, Class 1: 0.4763, Class 2: 0.1228, Class 3: 0.3463, Class 4: 0.6738, Class 5: 0.4174, Class 6: 0.8440, \n",
      "Validation F-beta Score\n",
      "Class 0: 0.9767, Class 1: 0.6013, Class 2: 0.2492, Class 3: 0.5467, Class 4: 0.7847, Class 5: 0.5789, Class 6: 0.9214, \n",
      "Validation mIoU Score\n",
      "Class 0: 0.9696, Class 1: 0.3143, Class 2: 0.0659, Class 3: 0.2110, Class 4: 0.5095, Class 5: 0.2646, Class 6: 0.7312, \n",
      "\n",
      "Overall Mean Dice Score: 0.5516\n",
      "Overall Mean F-beta Score: 0.6866\n",
      "Overall Mean IoU Score: 0.4061\n",
      "Training Loss: 0.4320, Validation Loss: 0.4612, Validation F-beta: 0.5744\n",
      "Epoch 40/4000\n"
     ]
    },
    {
     "name": "stderr",
     "output_type": "stream",
     "text": [
      "Training: 100%|██████████| 102/102 [01:42<00:00,  1.01s/it, loss=0.448]\n",
      "Validation: 100%|██████████| 20/20 [00:18<00:00,  1.05it/s, loss=0.446]\n"
     ]
    },
    {
     "name": "stdout",
     "output_type": "stream",
     "text": [
      "Validation Dice Score\n",
      "Class 0: 0.9841, Class 1: 0.4888, Class 2: 0.1171, Class 3: 0.3517, Class 4: 0.6620, Class 5: 0.4233, Class 6: 0.8507, \n",
      "Validation F-beta Score\n",
      "Class 0: 0.9755, Class 1: 0.5707, Class 2: 0.2131, Class 3: 0.5642, Class 4: 0.7919, Class 5: 0.5999, Class 6: 0.9143, \n",
      "Validation mIoU Score\n",
      "Class 0: 0.9687, Class 1: 0.3247, Class 2: 0.0627, Class 3: 0.2146, Class 4: 0.4952, Class 5: 0.2701, Class 6: 0.7408, \n",
      "\n",
      "Overall Mean Dice Score: 0.5553\n",
      "Overall Mean F-beta Score: 0.6882\n",
      "Overall Mean IoU Score: 0.4091\n",
      "Training Loss: 0.4323, Validation Loss: 0.4609, Validation F-beta: 0.5765\n",
      "Epoch 41/4000\n"
     ]
    },
    {
     "name": "stderr",
     "output_type": "stream",
     "text": [
      "Training: 100%|██████████| 102/102 [01:41<00:00,  1.01it/s, loss=0.449]\n",
      "Validation: 100%|██████████| 20/20 [00:19<00:00,  1.02it/s, loss=0.456]\n"
     ]
    },
    {
     "name": "stdout",
     "output_type": "stream",
     "text": [
      "Validation Dice Score\n",
      "Class 0: 0.9840, Class 1: 0.4777, Class 2: 0.1030, Class 3: 0.3319, Class 4: 0.6606, Class 5: 0.4366, Class 6: 0.8506, \n",
      "Validation F-beta Score\n",
      "Class 0: 0.9751, Class 1: 0.5711, Class 2: 0.2133, Class 3: 0.5520, Class 4: 0.7846, Class 5: 0.6219, Class 6: 0.9121, \n",
      "Validation mIoU Score\n",
      "Class 0: 0.9684, Class 1: 0.3161, Class 2: 0.0548, Class 3: 0.1998, Class 4: 0.4946, Class 5: 0.2804, Class 6: 0.7411, \n",
      "\n",
      "Overall Mean Dice Score: 0.5515\n",
      "Overall Mean F-beta Score: 0.6883\n",
      "Overall Mean IoU Score: 0.4064\n",
      "Training Loss: 0.4296, Validation Loss: 0.4644, Validation F-beta: 0.5755\n",
      "Epoch 42/4000\n"
     ]
    },
    {
     "name": "stderr",
     "output_type": "stream",
     "text": [
      "Training: 100%|██████████| 102/102 [01:40<00:00,  1.01it/s, loss=0.449]\n",
      "Validation: 100%|██████████| 20/20 [00:19<00:00,  1.01it/s, loss=0.454]\n"
     ]
    },
    {
     "name": "stdout",
     "output_type": "stream",
     "text": [
      "Validation Dice Score\n",
      "Class 0: 0.9840, Class 1: 0.4907, Class 2: 0.1074, Class 3: 0.3446, Class 4: 0.6681, Class 5: 0.4196, Class 6: 0.8569, \n",
      "Validation F-beta Score\n",
      "Class 0: 0.9753, Class 1: 0.5959, Class 2: 0.2356, Class 3: 0.5405, Class 4: 0.7969, Class 5: 0.5928, Class 6: 0.9275, \n",
      "Validation mIoU Score\n",
      "Class 0: 0.9685, Class 1: 0.3266, Class 2: 0.0573, Class 3: 0.2096, Class 4: 0.5027, Class 5: 0.2662, Class 6: 0.7506, \n",
      "\n",
      "Overall Mean Dice Score: 0.5560\n",
      "Overall Mean F-beta Score: 0.6907\n",
      "Overall Mean IoU Score: 0.4111\n",
      "Training Loss: 0.4320, Validation Loss: 0.4612, Validation F-beta: 0.5789\n",
      "Epoch 43/4000\n"
     ]
    },
    {
     "name": "stderr",
     "output_type": "stream",
     "text": [
      "Training: 100%|██████████| 102/102 [01:41<00:00,  1.01it/s, loss=0.451]\n",
      "Validation: 100%|██████████| 20/20 [00:19<00:00,  1.02it/s, loss=0.458]\n"
     ]
    },
    {
     "name": "stdout",
     "output_type": "stream",
     "text": [
      "Validation Dice Score\n",
      "Class 0: 0.9844, Class 1: 0.4698, Class 2: 0.0896, Class 3: 0.3436, Class 4: 0.6716, Class 5: 0.4291, Class 6: 0.8529, \n",
      "Validation F-beta Score\n",
      "Class 0: 0.9762, Class 1: 0.5803, Class 2: 0.2023, Class 3: 0.5739, Class 4: 0.7744, Class 5: 0.5972, Class 6: 0.9186, \n",
      "Validation mIoU Score\n",
      "Class 0: 0.9692, Class 1: 0.3099, Class 2: 0.0474, Class 3: 0.2085, Class 4: 0.5064, Class 5: 0.2743, Class 6: 0.7445, \n",
      "\n",
      "Overall Mean Dice Score: 0.5534\n",
      "Overall Mean F-beta Score: 0.6889\n",
      "Overall Mean IoU Score: 0.4087\n",
      "Training Loss: 0.4301, Validation Loss: 0.4603, Validation F-beta: 0.5768\n",
      "Epoch 44/4000\n"
     ]
    },
    {
     "name": "stderr",
     "output_type": "stream",
     "text": [
      "Training: 100%|██████████| 102/102 [01:40<00:00,  1.01it/s, loss=0.449]\n",
      "Validation: 100%|██████████| 20/20 [00:19<00:00,  1.05it/s, loss=0.456]\n"
     ]
    },
    {
     "name": "stdout",
     "output_type": "stream",
     "text": [
      "Validation Dice Score\n",
      "Class 0: 0.9844, Class 1: 0.5031, Class 2: 0.1146, Class 3: 0.3255, Class 4: 0.6685, Class 5: 0.4204, Class 6: 0.8538, \n",
      "Validation F-beta Score\n",
      "Class 0: 0.9761, Class 1: 0.5549, Class 2: 0.2223, Class 3: 0.5823, Class 4: 0.7911, Class 5: 0.5695, Class 6: 0.9185, \n",
      "Validation mIoU Score\n",
      "Class 0: 0.9692, Class 1: 0.3372, Class 2: 0.0615, Class 3: 0.1959, Class 4: 0.5025, Class 5: 0.2674, Class 6: 0.7460, \n",
      "\n",
      "Overall Mean Dice Score: 0.5543\n",
      "Overall Mean F-beta Score: 0.6832\n",
      "Overall Mean IoU Score: 0.4098\n",
      "Training Loss: 0.4295, Validation Loss: 0.4596, Validation F-beta: 0.5739\n",
      "Epoch 45/4000\n"
     ]
    },
    {
     "name": "stderr",
     "output_type": "stream",
     "text": [
      "Training: 100%|██████████| 102/102 [01:43<00:00,  1.01s/it, loss=0.449]\n",
      "Validation: 100%|██████████| 20/20 [00:19<00:00,  1.05it/s, loss=0.453]\n"
     ]
    },
    {
     "name": "stdout",
     "output_type": "stream",
     "text": [
      "Validation Dice Score\n",
      "Class 0: 0.9839, Class 1: 0.4969, Class 2: 0.0995, Class 3: 0.3367, Class 4: 0.6715, Class 5: 0.4240, Class 6: 0.8298, \n",
      "Validation F-beta Score\n",
      "Class 0: 0.9751, Class 1: 0.5824, Class 2: 0.2018, Class 3: 0.5468, Class 4: 0.8022, Class 5: 0.5929, Class 6: 0.9261, \n",
      "Validation mIoU Score\n",
      "Class 0: 0.9684, Class 1: 0.3319, Class 2: 0.0528, Class 3: 0.2041, Class 4: 0.5063, Class 5: 0.2700, Class 6: 0.7102, \n",
      "\n",
      "Overall Mean Dice Score: 0.5518\n",
      "Overall Mean F-beta Score: 0.6901\n",
      "Overall Mean IoU Score: 0.4045\n",
      "Training Loss: 0.4291, Validation Loss: 0.4620, Validation F-beta: 0.5759\n",
      "Epoch 46/4000\n"
     ]
    },
    {
     "name": "stderr",
     "output_type": "stream",
     "text": [
      "Training: 100%|██████████| 102/102 [01:41<00:00,  1.00it/s, loss=0.448]\n",
      "Validation: 100%|██████████| 20/20 [00:19<00:00,  1.05it/s, loss=0.455]\n"
     ]
    },
    {
     "name": "stdout",
     "output_type": "stream",
     "text": [
      "Validation Dice Score\n",
      "Class 0: 0.9844, Class 1: 0.4730, Class 2: 0.1031, Class 3: 0.3154, Class 4: 0.6821, Class 5: 0.4126, Class 6: 0.8640, \n",
      "Validation F-beta Score\n",
      "Class 0: 0.9765, Class 1: 0.5525, Class 2: 0.2285, Class 3: 0.5515, Class 4: 0.7708, Class 5: 0.5704, Class 6: 0.9148, \n",
      "Validation mIoU Score\n",
      "Class 0: 0.9693, Class 1: 0.3110, Class 2: 0.0551, Class 3: 0.1888, Class 4: 0.5183, Class 5: 0.2612, Class 6: 0.7609, \n",
      "\n",
      "Overall Mean Dice Score: 0.5494\n",
      "Overall Mean F-beta Score: 0.6720\n",
      "Overall Mean IoU Score: 0.4080\n",
      "Training Loss: 0.4289, Validation Loss: 0.4621, Validation F-beta: 0.5664\n",
      "Epoch 47/4000\n"
     ]
    },
    {
     "name": "stderr",
     "output_type": "stream",
     "text": [
      "Training: 100%|██████████| 102/102 [01:41<00:00,  1.01it/s, loss=0.456]\n",
      "Validation: 100%|██████████| 20/20 [00:19<00:00,  1.01it/s, loss=0.456]\n"
     ]
    },
    {
     "name": "stdout",
     "output_type": "stream",
     "text": [
      "Validation Dice Score\n",
      "Class 0: 0.9846, Class 1: 0.4814, Class 2: 0.0949, Class 3: 0.3321, Class 4: 0.6748, Class 5: 0.4314, Class 6: 0.8528, \n",
      "Validation F-beta Score\n",
      "Class 0: 0.9768, Class 1: 0.5917, Class 2: 0.2320, Class 3: 0.5805, Class 4: 0.7898, Class 5: 0.5525, Class 6: 0.9331, \n",
      "Validation mIoU Score\n",
      "Class 0: 0.9696, Class 1: 0.3204, Class 2: 0.0503, Class 3: 0.1999, Class 4: 0.5097, Class 5: 0.2764, Class 6: 0.7440, \n",
      "\n",
      "Overall Mean Dice Score: 0.5545\n",
      "Overall Mean F-beta Score: 0.6895\n",
      "Overall Mean IoU Score: 0.4101\n",
      "Training Loss: 0.4291, Validation Loss: 0.4615, Validation F-beta: 0.5777\n",
      "Epoch 48/4000\n"
     ]
    },
    {
     "name": "stderr",
     "output_type": "stream",
     "text": [
      "Training: 100%|██████████| 102/102 [01:41<00:00,  1.01it/s, loss=0.461]\n",
      "Validation: 100%|██████████| 20/20 [00:19<00:00,  1.02it/s, loss=0.446]\n"
     ]
    },
    {
     "name": "stdout",
     "output_type": "stream",
     "text": [
      "Validation Dice Score\n",
      "Class 0: 0.9841, Class 1: 0.4923, Class 2: 0.0859, Class 3: 0.3634, Class 4: 0.6776, Class 5: 0.4107, Class 6: 0.8379, \n",
      "Validation F-beta Score\n",
      "Class 0: 0.9750, Class 1: 0.6108, Class 2: 0.1969, Class 3: 0.5626, Class 4: 0.8076, Class 5: 0.6102, Class 6: 0.9317, \n",
      "Validation mIoU Score\n",
      "Class 0: 0.9687, Class 1: 0.3286, Class 2: 0.0453, Class 3: 0.2237, Class 4: 0.5129, Class 5: 0.2602, Class 6: 0.7219, \n",
      "\n",
      "Overall Mean Dice Score: 0.5564\n",
      "Overall Mean F-beta Score: 0.7046\n",
      "Overall Mean IoU Score: 0.4095\n",
      "Training Loss: 0.4281, Validation Loss: 0.4608, Validation F-beta: 0.5865\n",
      "Epoch 49/4000\n"
     ]
    },
    {
     "name": "stderr",
     "output_type": "stream",
     "text": [
      "Training: 100%|██████████| 102/102 [01:40<00:00,  1.02it/s, loss=0.461]\n",
      "Validation: 100%|██████████| 20/20 [00:20<00:00,  1.00s/it, loss=0.463]\n"
     ]
    },
    {
     "name": "stdout",
     "output_type": "stream",
     "text": [
      "Validation Dice Score\n",
      "Class 0: 0.9838, Class 1: 0.4930, Class 2: 0.0974, Class 3: 0.3324, Class 4: 0.6775, Class 5: 0.4050, Class 6: 0.8589, \n",
      "Validation F-beta Score\n",
      "Class 0: 0.9750, Class 1: 0.5792, Class 2: 0.2098, Class 3: 0.5685, Class 4: 0.7810, Class 5: 0.5888, Class 6: 0.9236, \n",
      "Validation mIoU Score\n",
      "Class 0: 0.9681, Class 1: 0.3287, Class 2: 0.0516, Class 3: 0.2010, Class 4: 0.5131, Class 5: 0.2555, Class 6: 0.7533, \n",
      "\n",
      "Overall Mean Dice Score: 0.5534\n",
      "Overall Mean F-beta Score: 0.6882\n",
      "Overall Mean IoU Score: 0.4103\n",
      "Training Loss: 0.4285, Validation Loss: 0.4618, Validation F-beta: 0.5771\n",
      "Epoch 50/4000\n"
     ]
    },
    {
     "name": "stderr",
     "output_type": "stream",
     "text": [
      "Training: 100%|██████████| 102/102 [01:40<00:00,  1.01it/s, loss=0.458]\n",
      "Validation: 100%|██████████| 20/20 [00:23<00:00,  1.19s/it, loss=0.452]\n"
     ]
    },
    {
     "name": "stdout",
     "output_type": "stream",
     "text": [
      "Validation Dice Score\n",
      "Class 0: 0.9844, Class 1: 0.4798, Class 2: 0.1153, Class 3: 0.3331, Class 4: 0.6785, Class 5: 0.4107, Class 6: 0.8633, \n",
      "Validation F-beta Score\n",
      "Class 0: 0.9763, Class 1: 0.5749, Class 2: 0.2517, Class 3: 0.5914, Class 4: 0.7810, Class 5: 0.5655, Class 6: 0.9203, \n",
      "Validation mIoU Score\n",
      "Class 0: 0.9693, Class 1: 0.3186, Class 2: 0.0615, Class 3: 0.2008, Class 4: 0.5138, Class 5: 0.2597, Class 6: 0.7603, \n",
      "\n",
      "Overall Mean Dice Score: 0.5531\n",
      "Overall Mean F-beta Score: 0.6866\n",
      "Overall Mean IoU Score: 0.4106\n",
      "Training Loss: 0.4281, Validation Loss: 0.4612, Validation F-beta: 0.5762\n",
      "Epoch 51/4000\n"
     ]
    },
    {
     "name": "stderr",
     "output_type": "stream",
     "text": [
      "Training: 100%|██████████| 102/102 [01:43<00:00,  1.01s/it, loss=0.443]\n",
      "Validation: 100%|██████████| 20/20 [00:19<00:00,  1.05it/s, loss=0.451]\n"
     ]
    },
    {
     "name": "stdout",
     "output_type": "stream",
     "text": [
      "Validation Dice Score\n",
      "Class 0: 0.9843, Class 1: 0.5012, Class 2: 0.1086, Class 3: 0.3186, Class 4: 0.6834, Class 5: 0.4365, Class 6: 0.8583, \n",
      "Validation F-beta Score\n",
      "Class 0: 0.9756, Class 1: 0.6001, Class 2: 0.2508, Class 3: 0.5596, Class 4: 0.8083, Class 5: 0.5921, Class 6: 0.9327, \n",
      "Validation mIoU Score\n",
      "Class 0: 0.9690, Class 1: 0.3360, Class 2: 0.0579, Class 3: 0.1918, Class 4: 0.5196, Class 5: 0.2803, Class 6: 0.7527, \n",
      "\n",
      "Overall Mean Dice Score: 0.5596\n",
      "Overall Mean F-beta Score: 0.6986\n",
      "Overall Mean IoU Score: 0.4161\n",
      "Training Loss: 0.4284, Validation Loss: 0.4590, Validation F-beta: 0.5856\n",
      "========================================================\n",
      "SUPER Best model saved. Loss:0.4590, Score:0.5856\n",
      "========================================================\n",
      "Epoch 52/4000\n"
     ]
    },
    {
     "name": "stderr",
     "output_type": "stream",
     "text": [
      "Training: 100%|██████████| 102/102 [01:41<00:00,  1.01it/s, loss=0.446]\n",
      "Validation: 100%|██████████| 20/20 [00:18<00:00,  1.05it/s, loss=0.449]\n"
     ]
    },
    {
     "name": "stdout",
     "output_type": "stream",
     "text": [
      "Validation Dice Score\n",
      "Class 0: 0.9833, Class 1: 0.5247, Class 2: 0.1242, Class 3: 0.3371, Class 4: 0.6589, Class 5: 0.4053, Class 6: 0.8589, \n",
      "Validation F-beta Score\n",
      "Class 0: 0.9738, Class 1: 0.5982, Class 2: 0.2297, Class 3: 0.5320, Class 4: 0.7929, Class 5: 0.6300, Class 6: 0.9115, \n",
      "Validation mIoU Score\n",
      "Class 0: 0.9673, Class 1: 0.3584, Class 2: 0.0673, Class 3: 0.2045, Class 4: 0.4924, Class 5: 0.2555, Class 6: 0.7534, \n",
      "\n",
      "Overall Mean Dice Score: 0.5570\n",
      "Overall Mean F-beta Score: 0.6929\n",
      "Overall Mean IoU Score: 0.4128\n",
      "Training Loss: 0.4271, Validation Loss: 0.4626, Validation F-beta: 0.5809\n",
      "Epoch 53/4000\n"
     ]
    },
    {
     "name": "stderr",
     "output_type": "stream",
     "text": [
      "Training: 100%|██████████| 102/102 [01:40<00:00,  1.02it/s, loss=0.435]\n",
      "Validation: 100%|██████████| 20/20 [00:19<00:00,  1.00it/s, loss=0.457]\n"
     ]
    },
    {
     "name": "stdout",
     "output_type": "stream",
     "text": [
      "Validation Dice Score\n",
      "Class 0: 0.9834, Class 1: 0.5237, Class 2: 0.0821, Class 3: 0.3327, Class 4: 0.6694, Class 5: 0.4092, Class 6: 0.8447, \n",
      "Validation F-beta Score\n",
      "Class 0: 0.9736, Class 1: 0.5947, Class 2: 0.2157, Class 3: 0.5564, Class 4: 0.8044, Class 5: 0.6136, Class 6: 0.9275, \n",
      "Validation mIoU Score\n",
      "Class 0: 0.9673, Class 1: 0.3571, Class 2: 0.0431, Class 3: 0.2014, Class 4: 0.5036, Class 5: 0.2585, Class 6: 0.7321, \n",
      "\n",
      "Overall Mean Dice Score: 0.5560\n",
      "Overall Mean F-beta Score: 0.6993\n",
      "Overall Mean IoU Score: 0.4105\n",
      "Training Loss: 0.4290, Validation Loss: 0.4611, Validation F-beta: 0.5838\n",
      "Epoch 54/4000\n"
     ]
    },
    {
     "name": "stderr",
     "output_type": "stream",
     "text": [
      "Training: 100%|██████████| 102/102 [01:41<00:00,  1.01it/s, loss=0.455]\n",
      "Validation: 100%|██████████| 20/20 [00:19<00:00,  1.02it/s, loss=0.444]\n"
     ]
    },
    {
     "name": "stdout",
     "output_type": "stream",
     "text": [
      "Validation Dice Score\n",
      "Class 0: 0.9831, Class 1: 0.4743, Class 2: 0.0878, Class 3: 0.3488, Class 4: 0.6853, Class 5: 0.4142, Class 6: 0.8529, \n",
      "Validation F-beta Score\n",
      "Class 0: 0.9729, Class 1: 0.5405, Class 2: 0.1968, Class 3: 0.5609, Class 4: 0.8080, Class 5: 0.6539, Class 6: 0.9321, \n",
      "Validation mIoU Score\n",
      "Class 0: 0.9668, Class 1: 0.3144, Class 2: 0.0463, Class 3: 0.2136, Class 4: 0.5216, Class 5: 0.2632, Class 6: 0.7444, \n",
      "\n",
      "Overall Mean Dice Score: 0.5551\n",
      "Overall Mean F-beta Score: 0.6991\n",
      "Overall Mean IoU Score: 0.4114\n",
      "Training Loss: 0.4273, Validation Loss: 0.4617, Validation F-beta: 0.5840\n",
      "Epoch 55/4000\n"
     ]
    },
    {
     "name": "stderr",
     "output_type": "stream",
     "text": [
      "Training: 100%|██████████| 102/102 [01:41<00:00,  1.01it/s, loss=0.438]\n",
      "Validation: 100%|██████████| 20/20 [00:19<00:00,  1.02it/s, loss=0.467]\n"
     ]
    },
    {
     "name": "stdout",
     "output_type": "stream",
     "text": [
      "Validation Dice Score\n",
      "Class 0: 0.9829, Class 1: 0.5088, Class 2: 0.1090, Class 3: 0.3288, Class 4: 0.6724, Class 5: 0.4027, Class 6: 0.8510, \n",
      "Validation F-beta Score\n",
      "Class 0: 0.9728, Class 1: 0.5544, Class 2: 0.2252, Class 3: 0.5640, Class 4: 0.8118, Class 5: 0.6206, Class 6: 0.9258, \n",
      "Validation mIoU Score\n",
      "Class 0: 0.9664, Class 1: 0.3448, Class 2: 0.0579, Class 3: 0.1980, Class 4: 0.5075, Class 5: 0.2534, Class 6: 0.7420, \n",
      "\n",
      "Overall Mean Dice Score: 0.5527\n",
      "Overall Mean F-beta Score: 0.6953\n",
      "Overall Mean IoU Score: 0.4092\n",
      "Training Loss: 0.4261, Validation Loss: 0.4636, Validation F-beta: 0.5808\n",
      "Epoch 56/4000\n"
     ]
    },
    {
     "name": "stderr",
     "output_type": "stream",
     "text": [
      "Training: 100%|██████████| 102/102 [01:40<00:00,  1.01it/s, loss=0.445]\n",
      "Validation: 100%|██████████| 20/20 [00:19<00:00,  1.01it/s, loss=0.454]\n"
     ]
    },
    {
     "name": "stdout",
     "output_type": "stream",
     "text": [
      "Validation Dice Score\n",
      "Class 0: 0.9836, Class 1: 0.5045, Class 2: 0.1155, Class 3: 0.3363, Class 4: 0.6882, Class 5: 0.4338, Class 6: 0.8563, \n",
      "Validation F-beta Score\n",
      "Class 0: 0.9746, Class 1: 0.5853, Class 2: 0.2536, Class 3: 0.5833, Class 4: 0.7994, Class 5: 0.6193, Class 6: 0.9338, \n",
      "Validation mIoU Score\n",
      "Class 0: 0.9678, Class 1: 0.3415, Class 2: 0.0622, Class 3: 0.2042, Class 4: 0.5251, Class 5: 0.2782, Class 6: 0.7497, \n",
      "\n",
      "Overall Mean Dice Score: 0.5638\n",
      "Overall Mean F-beta Score: 0.7042\n",
      "Overall Mean IoU Score: 0.4197\n",
      "Training Loss: 0.4272, Validation Loss: 0.4605, Validation F-beta: 0.5904\n",
      "Epoch 57/4000\n"
     ]
    },
    {
     "name": "stderr",
     "output_type": "stream",
     "text": [
      "Training: 100%|██████████| 102/102 [01:40<00:00,  1.01it/s, loss=0.442]\n",
      "Validation: 100%|██████████| 20/20 [00:19<00:00,  1.05it/s, loss=0.456]\n"
     ]
    },
    {
     "name": "stdout",
     "output_type": "stream",
     "text": [
      "Validation Dice Score\n",
      "Class 0: 0.9828, Class 1: 0.4984, Class 2: 0.0941, Class 3: 0.3532, Class 4: 0.6798, Class 5: 0.4102, Class 6: 0.8515, \n",
      "Validation F-beta Score\n",
      "Class 0: 0.9728, Class 1: 0.5990, Class 2: 0.2132, Class 3: 0.6070, Class 4: 0.8045, Class 5: 0.6203, Class 6: 0.9225, \n",
      "Validation mIoU Score\n",
      "Class 0: 0.9662, Class 1: 0.3344, Class 2: 0.0500, Class 3: 0.2154, Class 4: 0.5155, Class 5: 0.2592, Class 6: 0.7421, \n",
      "\n",
      "Overall Mean Dice Score: 0.5586\n",
      "Overall Mean F-beta Score: 0.7107\n",
      "Overall Mean IoU Score: 0.4133\n",
      "Training Loss: 0.4263, Validation Loss: 0.4618, Validation F-beta: 0.5917\n",
      "Epoch 58/4000\n"
     ]
    },
    {
     "name": "stderr",
     "output_type": "stream",
     "text": [
      "Training: 100%|██████████| 102/102 [01:42<00:00,  1.00s/it, loss=0.463]\n",
      "Validation: 100%|██████████| 20/20 [00:18<00:00,  1.06it/s, loss=0.449]\n"
     ]
    },
    {
     "name": "stdout",
     "output_type": "stream",
     "text": [
      "Validation Dice Score\n",
      "Class 0: 0.9833, Class 1: 0.5201, Class 2: 0.0888, Class 3: 0.3281, Class 4: 0.6808, Class 5: 0.4206, Class 6: 0.8482, \n",
      "Validation F-beta Score\n",
      "Class 0: 0.9733, Class 1: 0.6065, Class 2: 0.2071, Class 3: 0.5980, Class 4: 0.8157, Class 5: 0.6137, Class 6: 0.9334, \n",
      "Validation mIoU Score\n",
      "Class 0: 0.9671, Class 1: 0.3539, Class 2: 0.0468, Class 3: 0.1979, Class 4: 0.5164, Class 5: 0.2673, Class 6: 0.7370, \n",
      "\n",
      "Overall Mean Dice Score: 0.5596\n",
      "Overall Mean F-beta Score: 0.7135\n",
      "Overall Mean IoU Score: 0.4145\n",
      "Training Loss: 0.4262, Validation Loss: 0.4614, Validation F-beta: 0.5939\n",
      "Epoch 59/4000\n"
     ]
    },
    {
     "name": "stderr",
     "output_type": "stream",
     "text": [
      "Training: 100%|██████████| 102/102 [01:40<00:00,  1.01it/s, loss=0.436]\n",
      "Validation: 100%|██████████| 20/20 [00:18<00:00,  1.07it/s, loss=0.45] \n"
     ]
    },
    {
     "name": "stdout",
     "output_type": "stream",
     "text": [
      "Validation Dice Score\n",
      "Class 0: 0.9830, Class 1: 0.4989, Class 2: 0.0996, Class 3: 0.3827, Class 4: 0.6823, Class 5: 0.4151, Class 6: 0.8517, \n",
      "Validation F-beta Score\n",
      "Class 0: 0.9733, Class 1: 0.5714, Class 2: 0.2414, Class 3: 0.6057, Class 4: 0.7877, Class 5: 0.6473, Class 6: 0.9306, \n",
      "Validation mIoU Score\n",
      "Class 0: 0.9666, Class 1: 0.3339, Class 2: 0.0530, Class 3: 0.2382, Class 4: 0.5184, Class 5: 0.2632, Class 6: 0.7433, \n",
      "\n",
      "Overall Mean Dice Score: 0.5661\n",
      "Overall Mean F-beta Score: 0.7085\n",
      "Overall Mean IoU Score: 0.4194\n",
      "Training Loss: 0.4273, Validation Loss: 0.4607, Validation F-beta: 0.5929\n",
      "Epoch 60/4000\n"
     ]
    },
    {
     "name": "stderr",
     "output_type": "stream",
     "text": [
      "Training: 100%|██████████| 102/102 [01:41<00:00,  1.00it/s, loss=0.447]\n",
      "Validation: 100%|██████████| 20/20 [00:18<00:00,  1.06it/s, loss=0.449]\n"
     ]
    },
    {
     "name": "stdout",
     "output_type": "stream",
     "text": [
      "Validation Dice Score\n",
      "Class 0: 0.9831, Class 1: 0.4985, Class 2: 0.0933, Class 3: 0.3545, Class 4: 0.6766, Class 5: 0.4110, Class 6: 0.8545, \n",
      "Validation F-beta Score\n",
      "Class 0: 0.9728, Class 1: 0.6202, Class 2: 0.2044, Class 3: 0.6086, Class 4: 0.8163, Class 5: 0.6324, Class 6: 0.9364, \n",
      "Validation mIoU Score\n",
      "Class 0: 0.9668, Class 1: 0.3343, Class 2: 0.0495, Class 3: 0.2171, Class 4: 0.5121, Class 5: 0.2602, Class 6: 0.7467, \n",
      "\n",
      "Overall Mean Dice Score: 0.5590\n",
      "Overall Mean F-beta Score: 0.7228\n",
      "Overall Mean IoU Score: 0.4141\n",
      "Training Loss: 0.4267, Validation Loss: 0.4584, Validation F-beta: 0.5993\n",
      "========================================================\n",
      "SUPER Best model saved. Loss:0.4584, Score:0.5993\n",
      "========================================================\n",
      "Epoch 61/4000\n"
     ]
    },
    {
     "name": "stderr",
     "output_type": "stream",
     "text": [
      "Training: 100%|██████████| 102/102 [01:41<00:00,  1.01it/s, loss=0.439]\n",
      "Validation: 100%|██████████| 20/20 [00:19<00:00,  1.02it/s, loss=0.46] \n"
     ]
    },
    {
     "name": "stdout",
     "output_type": "stream",
     "text": [
      "Validation Dice Score\n",
      "Class 0: 0.9815, Class 1: 0.5184, Class 2: 0.0800, Class 3: 0.3731, Class 4: 0.6607, Class 5: 0.4006, Class 6: 0.8482, \n",
      "Validation F-beta Score\n",
      "Class 0: 0.9696, Class 1: 0.6102, Class 2: 0.1781, Class 3: 0.5870, Class 4: 0.8214, Class 5: 0.6617, Class 6: 0.9340, \n",
      "Validation mIoU Score\n",
      "Class 0: 0.9636, Class 1: 0.3530, Class 2: 0.0421, Class 3: 0.2309, Class 4: 0.4939, Class 5: 0.2516, Class 6: 0.7372, \n",
      "\n",
      "Overall Mean Dice Score: 0.5602\n",
      "Overall Mean F-beta Score: 0.7228\n",
      "Overall Mean IoU Score: 0.4133\n",
      "Training Loss: 0.4261, Validation Loss: 0.4644, Validation F-beta: 0.5990\n",
      "Epoch 62/4000\n"
     ]
    },
    {
     "name": "stderr",
     "output_type": "stream",
     "text": [
      "Training: 100%|██████████| 102/102 [01:40<00:00,  1.01it/s, loss=0.445]\n",
      "Validation: 100%|██████████| 20/20 [00:20<00:00,  1.00s/it, loss=0.441]\n"
     ]
    },
    {
     "name": "stdout",
     "output_type": "stream",
     "text": [
      "Validation Dice Score\n",
      "Class 0: 0.9830, Class 1: 0.4313, Class 2: 0.0846, Class 3: 0.3550, Class 4: 0.6663, Class 5: 0.4355, Class 6: 0.8583, \n",
      "Validation F-beta Score\n",
      "Class 0: 0.9729, Class 1: 0.6431, Class 2: 0.1790, Class 3: 0.5742, Class 4: 0.8091, Class 5: 0.6494, Class 6: 0.9265, \n",
      "Validation mIoU Score\n",
      "Class 0: 0.9666, Class 1: 0.2766, Class 2: 0.0448, Class 3: 0.2169, Class 4: 0.5002, Class 5: 0.2806, Class 6: 0.7528, \n",
      "\n",
      "Overall Mean Dice Score: 0.5493\n",
      "Overall Mean F-beta Score: 0.7205\n",
      "Overall Mean IoU Score: 0.4054\n",
      "Training Loss: 0.4262, Validation Loss: 0.4604, Validation F-beta: 0.5944\n",
      "Epoch 63/4000\n"
     ]
    },
    {
     "name": "stderr",
     "output_type": "stream",
     "text": [
      "Training: 100%|██████████| 102/102 [01:42<00:00,  1.00s/it, loss=0.443]\n",
      "Validation: 100%|██████████| 20/20 [00:19<00:00,  1.01it/s, loss=0.441]\n"
     ]
    },
    {
     "name": "stdout",
     "output_type": "stream",
     "text": [
      "Validation Dice Score\n",
      "Class 0: 0.9833, Class 1: 0.4713, Class 2: 0.0994, Class 3: 0.3709, Class 4: 0.6800, Class 5: 0.4210, Class 6: 0.8600, \n",
      "Validation F-beta Score\n",
      "Class 0: 0.9735, Class 1: 0.6359, Class 2: 0.2028, Class 3: 0.6063, Class 4: 0.8127, Class 5: 0.6302, Class 6: 0.9401, \n",
      "Validation mIoU Score\n",
      "Class 0: 0.9672, Class 1: 0.3097, Class 2: 0.0531, Class 3: 0.2286, Class 4: 0.5158, Class 5: 0.2674, Class 6: 0.7549, \n",
      "\n",
      "Overall Mean Dice Score: 0.5606\n",
      "Overall Mean F-beta Score: 0.7251\n",
      "Overall Mean IoU Score: 0.4153\n",
      "Training Loss: 0.4239, Validation Loss: 0.4577, Validation F-beta: 0.6011\n",
      "========================================================\n",
      "SUPER Best model saved. Loss:0.4577, Score:0.6011\n",
      "========================================================\n",
      "Epoch 64/4000\n"
     ]
    },
    {
     "name": "stderr",
     "output_type": "stream",
     "text": [
      "Training: 100%|██████████| 102/102 [01:41<00:00,  1.01it/s, loss=0.449]\n",
      "Validation: 100%|██████████| 20/20 [00:20<00:00,  1.00s/it, loss=0.456]\n"
     ]
    },
    {
     "name": "stdout",
     "output_type": "stream",
     "text": [
      "Validation Dice Score\n",
      "Class 0: 0.9834, Class 1: 0.4611, Class 2: 0.0889, Class 3: 0.3685, Class 4: 0.6799, Class 5: 0.4276, Class 6: 0.8567, \n",
      "Validation F-beta Score\n",
      "Class 0: 0.9739, Class 1: 0.6716, Class 2: 0.2036, Class 3: 0.5855, Class 4: 0.8041, Class 5: 0.6255, Class 6: 0.9415, \n",
      "Validation mIoU Score\n",
      "Class 0: 0.9674, Class 1: 0.3027, Class 2: 0.0471, Class 3: 0.2274, Class 4: 0.5155, Class 5: 0.2732, Class 6: 0.7499, \n",
      "\n",
      "Overall Mean Dice Score: 0.5588\n",
      "Overall Mean F-beta Score: 0.7256\n",
      "Overall Mean IoU Score: 0.4138\n",
      "Training Loss: 0.4252, Validation Loss: 0.4581, Validation F-beta: 0.6009\n",
      "Epoch 65/4000\n"
     ]
    },
    {
     "name": "stderr",
     "output_type": "stream",
     "text": [
      "Training: 100%|██████████| 102/102 [01:40<00:00,  1.01it/s, loss=0.44] \n",
      "Validation: 100%|██████████| 20/20 [00:18<00:00,  1.07it/s, loss=0.446]\n"
     ]
    },
    {
     "name": "stdout",
     "output_type": "stream",
     "text": [
      "Validation Dice Score\n",
      "Class 0: 0.9832, Class 1: 0.4880, Class 2: 0.0849, Class 3: 0.3700, Class 4: 0.6839, Class 5: 0.4089, Class 6: 0.8541, \n",
      "Validation F-beta Score\n",
      "Class 0: 0.9736, Class 1: 0.6672, Class 2: 0.2061, Class 3: 0.5783, Class 4: 0.8051, Class 5: 0.6158, Class 6: 0.9316, \n",
      "Validation mIoU Score\n",
      "Class 0: 0.9670, Class 1: 0.3240, Class 2: 0.0447, Class 3: 0.2287, Class 4: 0.5202, Class 5: 0.2585, Class 6: 0.7460, \n",
      "\n",
      "Overall Mean Dice Score: 0.5610\n",
      "Overall Mean F-beta Score: 0.7196\n",
      "Overall Mean IoU Score: 0.4155\n",
      "Training Loss: 0.4255, Validation Loss: 0.4598, Validation F-beta: 0.5980\n",
      "Epoch 66/4000\n"
     ]
    },
    {
     "name": "stderr",
     "output_type": "stream",
     "text": [
      "Training: 100%|██████████| 102/102 [01:42<00:00,  1.00s/it, loss=0.457]\n",
      "Validation: 100%|██████████| 20/20 [00:19<00:00,  1.05it/s, loss=0.447]\n"
     ]
    },
    {
     "name": "stdout",
     "output_type": "stream",
     "text": [
      "Validation Dice Score\n",
      "Class 0: 0.9831, Class 1: 0.4751, Class 2: 0.0851, Class 3: 0.3488, Class 4: 0.6585, Class 5: 0.4029, Class 6: 0.8668, \n",
      "Validation F-beta Score\n",
      "Class 0: 0.9730, Class 1: 0.6856, Class 2: 0.1997, Class 3: 0.5435, Class 4: 0.8002, Class 5: 0.6226, Class 6: 0.9321, \n",
      "Validation mIoU Score\n",
      "Class 0: 0.9668, Class 1: 0.3127, Class 2: 0.0448, Class 3: 0.2127, Class 4: 0.4927, Class 5: 0.2536, Class 6: 0.7655, \n",
      "\n",
      "Overall Mean Dice Score: 0.5504\n",
      "Overall Mean F-beta Score: 0.7168\n",
      "Overall Mean IoU Score: 0.4074\n",
      "Training Loss: 0.4254, Validation Loss: 0.4598, Validation F-beta: 0.5931\n",
      "Epoch 67/4000\n"
     ]
    },
    {
     "name": "stderr",
     "output_type": "stream",
     "text": [
      "Training: 100%|██████████| 102/102 [01:40<00:00,  1.01it/s, loss=0.449]\n",
      "Validation: 100%|██████████| 20/20 [00:19<00:00,  1.04it/s, loss=0.453]\n"
     ]
    },
    {
     "name": "stdout",
     "output_type": "stream",
     "text": [
      "Validation Dice Score\n",
      "Class 0: 0.9824, Class 1: 0.4736, Class 2: 0.0837, Class 3: 0.3678, Class 4: 0.6638, Class 5: 0.4221, Class 6: 0.8472, \n",
      "Validation F-beta Score\n",
      "Class 0: 0.9718, Class 1: 0.6779, Class 2: 0.2138, Class 3: 0.5823, Class 4: 0.8107, Class 5: 0.6291, Class 6: 0.9396, \n",
      "Validation mIoU Score\n",
      "Class 0: 0.9654, Class 1: 0.3114, Class 2: 0.0441, Class 3: 0.2268, Class 4: 0.4976, Class 5: 0.2688, Class 6: 0.7357, \n",
      "\n",
      "Overall Mean Dice Score: 0.5549\n",
      "Overall Mean F-beta Score: 0.7279\n",
      "Overall Mean IoU Score: 0.4081\n",
      "Training Loss: 0.4245, Validation Loss: 0.4625, Validation F-beta: 0.6000\n",
      "Epoch 68/4000\n"
     ]
    },
    {
     "name": "stderr",
     "output_type": "stream",
     "text": [
      "Training: 100%|██████████| 102/102 [01:40<00:00,  1.01it/s, loss=0.437]\n",
      "Validation: 100%|██████████| 20/20 [00:20<00:00,  1.01s/it, loss=0.447]\n"
     ]
    },
    {
     "name": "stdout",
     "output_type": "stream",
     "text": [
      "Validation Dice Score\n",
      "Class 0: 0.9831, Class 1: 0.4719, Class 2: 0.0835, Class 3: 0.3731, Class 4: 0.6796, Class 5: 0.4243, Class 6: 0.8438, \n",
      "Validation F-beta Score\n",
      "Class 0: 0.9730, Class 1: 0.6969, Class 2: 0.2081, Class 3: 0.5602, Class 4: 0.8144, Class 5: 0.6423, Class 6: 0.9397, \n",
      "Validation mIoU Score\n",
      "Class 0: 0.9667, Class 1: 0.3102, Class 2: 0.0440, Class 3: 0.2308, Class 4: 0.5157, Class 5: 0.2708, Class 6: 0.7311, \n",
      "\n",
      "Overall Mean Dice Score: 0.5585\n",
      "Overall Mean F-beta Score: 0.7307\n",
      "Overall Mean IoU Score: 0.4117\n",
      "Training Loss: 0.4242, Validation Loss: 0.4603, Validation F-beta: 0.6031\n",
      "Epoch 69/4000\n"
     ]
    },
    {
     "name": "stderr",
     "output_type": "stream",
     "text": [
      "Training: 100%|██████████| 102/102 [01:41<00:00,  1.01it/s, loss=0.44] \n",
      "Validation: 100%|██████████| 20/20 [00:19<00:00,  1.01it/s, loss=0.455]\n"
     ]
    },
    {
     "name": "stdout",
     "output_type": "stream",
     "text": [
      "Validation Dice Score\n",
      "Class 0: 0.9834, Class 1: 0.4803, Class 2: 0.0975, Class 3: 0.3697, Class 4: 0.6763, Class 5: 0.4281, Class 6: 0.8553, \n",
      "Validation F-beta Score\n",
      "Class 0: 0.9741, Class 1: 0.6965, Class 2: 0.2257, Class 3: 0.5840, Class 4: 0.7941, Class 5: 0.6144, Class 6: 0.9452, \n",
      "Validation mIoU Score\n",
      "Class 0: 0.9673, Class 1: 0.3174, Class 2: 0.0517, Class 3: 0.2278, Class 4: 0.5115, Class 5: 0.2732, Class 6: 0.7481, \n",
      "\n",
      "Overall Mean Dice Score: 0.5619\n",
      "Overall Mean F-beta Score: 0.7268\n",
      "Overall Mean IoU Score: 0.4156\n",
      "Training Loss: 0.4255, Validation Loss: 0.4574, Validation F-beta: 0.6023\n",
      "========================================================\n",
      "SUPER Best model saved. Loss:0.4574, Score:0.6023\n",
      "========================================================\n",
      "Epoch 70/4000\n"
     ]
    },
    {
     "name": "stderr",
     "output_type": "stream",
     "text": [
      "Training: 100%|██████████| 102/102 [01:41<00:00,  1.01it/s, loss=0.444]\n",
      "Validation: 100%|██████████| 20/20 [00:19<00:00,  1.00it/s, loss=0.449]\n"
     ]
    },
    {
     "name": "stdout",
     "output_type": "stream",
     "text": [
      "Validation Dice Score\n",
      "Class 0: 0.9825, Class 1: 0.4712, Class 2: 0.0976, Class 3: 0.3506, Class 4: 0.6854, Class 5: 0.4216, Class 6: 0.8485, \n",
      "Validation F-beta Score\n",
      "Class 0: 0.9720, Class 1: 0.7199, Class 2: 0.2418, Class 3: 0.5931, Class 4: 0.8046, Class 5: 0.6443, Class 6: 0.9463, \n",
      "Validation mIoU Score\n",
      "Class 0: 0.9657, Class 1: 0.3101, Class 2: 0.0521, Class 3: 0.2139, Class 4: 0.5218, Class 5: 0.2687, Class 6: 0.7373, \n",
      "\n",
      "Overall Mean Dice Score: 0.5554\n",
      "Overall Mean F-beta Score: 0.7417\n",
      "Overall Mean IoU Score: 0.4103\n",
      "Training Loss: 0.4246, Validation Loss: 0.4563, Validation F-beta: 0.6091\n",
      "========================================================\n",
      "SUPER Best model saved. Loss:0.4563, Score:0.6091\n",
      "========================================================\n",
      "Epoch 71/4000\n"
     ]
    },
    {
     "name": "stderr",
     "output_type": "stream",
     "text": [
      "Training: 100%|██████████| 102/102 [01:40<00:00,  1.02it/s, loss=0.43] \n",
      "Validation: 100%|██████████| 20/20 [00:18<00:00,  1.07it/s, loss=0.45] \n"
     ]
    },
    {
     "name": "stdout",
     "output_type": "stream",
     "text": [
      "Validation Dice Score\n",
      "Class 0: 0.9835, Class 1: 0.4668, Class 2: 0.0934, Class 3: 0.3830, Class 4: 0.6928, Class 5: 0.4329, Class 6: 0.8373, \n",
      "Validation F-beta Score\n",
      "Class 0: 0.9741, Class 1: 0.7109, Class 2: 0.2493, Class 3: 0.6085, Class 4: 0.7882, Class 5: 0.6408, Class 6: 0.9504, \n",
      "Validation mIoU Score\n",
      "Class 0: 0.9676, Class 1: 0.3054, Class 2: 0.0495, Class 3: 0.2385, Class 4: 0.5302, Class 5: 0.2772, Class 6: 0.7212, \n",
      "\n",
      "Overall Mean Dice Score: 0.5625\n",
      "Overall Mean F-beta Score: 0.7398\n",
      "Overall Mean IoU Score: 0.4145\n",
      "Training Loss: 0.4246, Validation Loss: 0.4554, Validation F-beta: 0.6097\n",
      "========================================================\n",
      "SUPER Best model saved. Loss:0.4554, Score:0.6097\n",
      "========================================================\n",
      "Epoch 72/4000\n"
     ]
    },
    {
     "name": "stderr",
     "output_type": "stream",
     "text": [
      "Training: 100%|██████████| 102/102 [01:41<00:00,  1.01it/s, loss=0.465]\n",
      "Validation: 100%|██████████| 20/20 [00:19<00:00,  1.05it/s, loss=0.453]\n"
     ]
    },
    {
     "name": "stdout",
     "output_type": "stream",
     "text": [
      "Validation Dice Score\n",
      "Class 0: 0.9841, Class 1: 0.4620, Class 2: 0.1155, Class 3: 0.3674, Class 4: 0.6894, Class 5: 0.4228, Class 6: 0.8427, \n",
      "Validation F-beta Score\n",
      "Class 0: 0.9752, Class 1: 0.7038, Class 2: 0.2605, Class 3: 0.6231, Class 4: 0.7792, Class 5: 0.6288, Class 6: 0.9494, \n",
      "Validation mIoU Score\n",
      "Class 0: 0.9687, Class 1: 0.3019, Class 2: 0.0620, Class 3: 0.2260, Class 4: 0.5263, Class 5: 0.2691, Class 6: 0.7289, \n",
      "\n",
      "Overall Mean Dice Score: 0.5569\n",
      "Overall Mean F-beta Score: 0.7369\n",
      "Overall Mean IoU Score: 0.4104\n",
      "Training Loss: 0.4237, Validation Loss: 0.4545, Validation F-beta: 0.6063\n",
      "Epoch 73/4000\n"
     ]
    },
    {
     "name": "stderr",
     "output_type": "stream",
     "text": [
      "Training: 100%|██████████| 102/102 [01:42<00:00,  1.00s/it, loss=0.436]\n",
      "Validation: 100%|██████████| 20/20 [00:18<00:00,  1.06it/s, loss=0.452]\n"
     ]
    },
    {
     "name": "stdout",
     "output_type": "stream",
     "text": [
      "Validation Dice Score\n",
      "Class 0: 0.9840, Class 1: 0.4700, Class 2: 0.1101, Class 3: 0.3638, Class 4: 0.7024, Class 5: 0.4389, Class 6: 0.8431, \n",
      "Validation F-beta Score\n",
      "Class 0: 0.9751, Class 1: 0.7053, Class 2: 0.2786, Class 3: 0.5865, Class 4: 0.7928, Class 5: 0.6344, Class 6: 0.9478, \n",
      "Validation mIoU Score\n",
      "Class 0: 0.9684, Class 1: 0.3093, Class 2: 0.0587, Class 3: 0.2232, Class 4: 0.5417, Class 5: 0.2820, Class 6: 0.7303, \n",
      "\n",
      "Overall Mean Dice Score: 0.5637\n",
      "Overall Mean F-beta Score: 0.7334\n",
      "Overall Mean IoU Score: 0.4173\n",
      "Training Loss: 0.4243, Validation Loss: 0.4529, Validation F-beta: 0.6069\n",
      "Epoch 74/4000\n"
     ]
    },
    {
     "name": "stderr",
     "output_type": "stream",
     "text": [
      "Training: 100%|██████████| 102/102 [01:42<00:00,  1.00s/it, loss=0.443]\n",
      "Validation: 100%|██████████| 20/20 [00:18<00:00,  1.06it/s, loss=0.452]\n"
     ]
    },
    {
     "name": "stdout",
     "output_type": "stream",
     "text": [
      "Validation Dice Score\n",
      "Class 0: 0.9841, Class 1: 0.4475, Class 2: 0.1163, Class 3: 0.3841, Class 4: 0.6985, Class 5: 0.4348, Class 6: 0.8468, \n",
      "Validation F-beta Score\n",
      "Class 0: 0.9754, Class 1: 0.7117, Class 2: 0.2763, Class 3: 0.6066, Class 4: 0.7880, Class 5: 0.6276, Class 6: 0.9446, \n",
      "Validation mIoU Score\n",
      "Class 0: 0.9687, Class 1: 0.2892, Class 2: 0.0626, Class 3: 0.2386, Class 4: 0.5371, Class 5: 0.2790, Class 6: 0.7353, \n",
      "\n",
      "Overall Mean Dice Score: 0.5624\n",
      "Overall Mean F-beta Score: 0.7357\n",
      "Overall Mean IoU Score: 0.4158\n",
      "Training Loss: 0.4234, Validation Loss: 0.4533, Validation F-beta: 0.6078\n",
      "Epoch 75/4000\n"
     ]
    },
    {
     "name": "stderr",
     "output_type": "stream",
     "text": [
      "Training: 100%|██████████| 102/102 [01:40<00:00,  1.02it/s, loss=0.438]\n",
      "Validation: 100%|██████████| 20/20 [00:19<00:00,  1.04it/s, loss=0.461]\n"
     ]
    },
    {
     "name": "stdout",
     "output_type": "stream",
     "text": [
      "Validation Dice Score\n",
      "Class 0: 0.9841, Class 1: 0.4737, Class 2: 0.1083, Class 3: 0.3645, Class 4: 0.6945, Class 5: 0.4239, Class 6: 0.8449, \n",
      "Validation F-beta Score\n",
      "Class 0: 0.9750, Class 1: 0.7034, Class 2: 0.2508, Class 3: 0.6022, Class 4: 0.7976, Class 5: 0.6291, Class 6: 0.9493, \n",
      "Validation mIoU Score\n",
      "Class 0: 0.9688, Class 1: 0.3117, Class 2: 0.0578, Class 3: 0.2245, Class 4: 0.5324, Class 5: 0.2704, Class 6: 0.7323, \n",
      "\n",
      "Overall Mean Dice Score: 0.5603\n",
      "Overall Mean F-beta Score: 0.7363\n",
      "Overall Mean IoU Score: 0.4143\n",
      "Training Loss: 0.4223, Validation Loss: 0.4548, Validation F-beta: 0.6075\n",
      "Epoch 76/4000\n"
     ]
    },
    {
     "name": "stderr",
     "output_type": "stream",
     "text": [
      "Training: 100%|██████████| 102/102 [01:41<00:00,  1.00it/s, loss=0.445]\n",
      "Validation: 100%|██████████| 20/20 [00:19<00:00,  1.02it/s, loss=0.448]\n"
     ]
    },
    {
     "name": "stdout",
     "output_type": "stream",
     "text": [
      "Validation Dice Score\n",
      "Class 0: 0.9840, Class 1: 0.4684, Class 2: 0.1106, Class 3: 0.3504, Class 4: 0.6950, Class 5: 0.4237, Class 6: 0.8594, \n",
      "Validation F-beta Score\n",
      "Class 0: 0.9754, Class 1: 0.6945, Class 2: 0.2609, Class 3: 0.5789, Class 4: 0.7769, Class 5: 0.6273, Class 6: 0.9488, \n",
      "Validation mIoU Score\n",
      "Class 0: 0.9686, Class 1: 0.3065, Class 2: 0.0591, Class 3: 0.2135, Class 4: 0.5328, Class 5: 0.2691, Class 6: 0.7542, \n",
      "\n",
      "Overall Mean Dice Score: 0.5594\n",
      "Overall Mean F-beta Score: 0.7253\n",
      "Overall Mean IoU Score: 0.4152\n",
      "Training Loss: 0.4230, Validation Loss: 0.4560, Validation F-beta: 0.6012\n",
      "Epoch 77/4000\n"
     ]
    },
    {
     "name": "stderr",
     "output_type": "stream",
     "text": [
      "Training: 100%|██████████| 102/102 [01:40<00:00,  1.01it/s, loss=0.449]\n",
      "Validation: 100%|██████████| 20/20 [00:19<00:00,  1.00it/s, loss=0.456]\n"
     ]
    },
    {
     "name": "stdout",
     "output_type": "stream",
     "text": [
      "Validation Dice Score\n",
      "Class 0: 0.9841, Class 1: 0.4726, Class 2: 0.1077, Class 3: 0.3844, Class 4: 0.6970, Class 5: 0.4234, Class 6: 0.8543, \n",
      "Validation F-beta Score\n",
      "Class 0: 0.9754, Class 1: 0.6936, Class 2: 0.2479, Class 3: 0.5854, Class 4: 0.7848, Class 5: 0.6309, Class 6: 0.9489, \n",
      "Validation mIoU Score\n",
      "Class 0: 0.9687, Class 1: 0.3104, Class 2: 0.0579, Class 3: 0.2391, Class 4: 0.5351, Class 5: 0.2694, Class 6: 0.7466, \n",
      "\n",
      "Overall Mean Dice Score: 0.5663\n",
      "Overall Mean F-beta Score: 0.7287\n",
      "Overall Mean IoU Score: 0.4201\n",
      "Training Loss: 0.4215, Validation Loss: 0.4533, Validation F-beta: 0.6053\n",
      "Epoch 78/4000\n"
     ]
    },
    {
     "name": "stderr",
     "output_type": "stream",
     "text": [
      "Training: 100%|██████████| 102/102 [01:41<00:00,  1.00it/s, loss=0.449]\n",
      "Validation: 100%|██████████| 20/20 [00:19<00:00,  1.05it/s, loss=0.453]\n"
     ]
    },
    {
     "name": "stdout",
     "output_type": "stream",
     "text": [
      "Validation Dice Score\n",
      "Class 0: 0.9836, Class 1: 0.4600, Class 2: 0.1075, Class 3: 0.3635, Class 4: 0.6988, Class 5: 0.4419, Class 6: 0.8560, \n",
      "Validation F-beta Score\n",
      "Class 0: 0.9744, Class 1: 0.6982, Class 2: 0.2578, Class 3: 0.5740, Class 4: 0.7989, Class 5: 0.6491, Class 6: 0.9493, \n",
      "Validation mIoU Score\n",
      "Class 0: 0.9677, Class 1: 0.3003, Class 2: 0.0574, Class 3: 0.2238, Class 4: 0.5374, Class 5: 0.2850, Class 6: 0.7492, \n",
      "\n",
      "Overall Mean Dice Score: 0.5640\n",
      "Overall Mean F-beta Score: 0.7339\n",
      "Overall Mean IoU Score: 0.4191\n",
      "Training Loss: 0.4224, Validation Loss: 0.4560, Validation F-beta: 0.6080\n",
      "Epoch 79/4000\n"
     ]
    },
    {
     "name": "stderr",
     "output_type": "stream",
     "text": [
      "Training: 100%|██████████| 102/102 [01:42<00:00,  1.00s/it, loss=0.444]\n",
      "Validation: 100%|██████████| 20/20 [00:18<00:00,  1.06it/s, loss=0.45] \n"
     ]
    },
    {
     "name": "stdout",
     "output_type": "stream",
     "text": [
      "Validation Dice Score\n",
      "Class 0: 0.9837, Class 1: 0.4798, Class 2: 0.1195, Class 3: 0.3680, Class 4: 0.6978, Class 5: 0.4448, Class 6: 0.8526, \n",
      "Validation F-beta Score\n",
      "Class 0: 0.9746, Class 1: 0.7223, Class 2: 0.2681, Class 3: 0.6157, Class 4: 0.8033, Class 5: 0.6316, Class 6: 0.9560, \n",
      "Validation mIoU Score\n",
      "Class 0: 0.9679, Class 1: 0.3168, Class 2: 0.0640, Class 3: 0.2263, Class 4: 0.5360, Class 5: 0.2871, Class 6: 0.7441, \n",
      "\n",
      "Overall Mean Dice Score: 0.5686\n",
      "Overall Mean F-beta Score: 0.7458\n",
      "Overall Mean IoU Score: 0.4221\n",
      "Training Loss: 0.4213, Validation Loss: 0.4513, Validation F-beta: 0.6163\n",
      "========================================================\n",
      "SUPER Best model saved. Loss:0.4513, Score:0.6163\n",
      "========================================================\n",
      "Epoch 80/4000\n"
     ]
    },
    {
     "name": "stderr",
     "output_type": "stream",
     "text": [
      "Training: 100%|██████████| 102/102 [01:41<00:00,  1.01it/s, loss=0.441]\n",
      "Validation: 100%|██████████| 20/20 [00:18<00:00,  1.06it/s, loss=0.442]\n"
     ]
    },
    {
     "name": "stdout",
     "output_type": "stream",
     "text": [
      "Validation Dice Score\n",
      "Class 0: 0.9840, Class 1: 0.4834, Class 2: 0.0955, Class 3: 0.3769, Class 4: 0.6915, Class 5: 0.4384, Class 6: 0.8555, \n",
      "Validation F-beta Score\n",
      "Class 0: 0.9746, Class 1: 0.7380, Class 2: 0.2299, Class 3: 0.6296, Class 4: 0.7972, Class 5: 0.6544, Class 6: 0.9493, \n",
      "Validation mIoU Score\n",
      "Class 0: 0.9686, Class 1: 0.3203, Class 2: 0.0505, Class 3: 0.2337, Class 4: 0.5287, Class 5: 0.2815, Class 6: 0.7482, \n",
      "\n",
      "Overall Mean Dice Score: 0.5691\n",
      "Overall Mean F-beta Score: 0.7537\n",
      "Overall Mean IoU Score: 0.4225\n",
      "Training Loss: 0.4198, Validation Loss: 0.4523, Validation F-beta: 0.6212\n",
      "Epoch 81/4000\n"
     ]
    },
    {
     "name": "stderr",
     "output_type": "stream",
     "text": [
      "Training: 100%|██████████| 102/102 [01:41<00:00,  1.01it/s, loss=0.445]\n",
      "Validation: 100%|██████████| 20/20 [00:18<00:00,  1.06it/s, loss=0.458]\n"
     ]
    },
    {
     "name": "stdout",
     "output_type": "stream",
     "text": [
      "Validation Dice Score\n",
      "Class 0: 0.9837, Class 1: 0.4834, Class 2: 0.1039, Class 3: 0.3726, Class 4: 0.6973, Class 5: 0.4427, Class 6: 0.8411, \n",
      "Validation F-beta Score\n",
      "Class 0: 0.9742, Class 1: 0.7058, Class 2: 0.2529, Class 3: 0.5849, Class 4: 0.8179, Class 5: 0.6474, Class 6: 0.9503, \n",
      "Validation mIoU Score\n",
      "Class 0: 0.9680, Class 1: 0.3192, Class 2: 0.0552, Class 3: 0.2301, Class 4: 0.5355, Class 5: 0.2851, Class 6: 0.7269, \n",
      "\n",
      "Overall Mean Dice Score: 0.5674\n",
      "Overall Mean F-beta Score: 0.7413\n",
      "Overall Mean IoU Score: 0.4194\n",
      "Training Loss: 0.4213, Validation Loss: 0.4539, Validation F-beta: 0.6125\n",
      "Epoch 82/4000\n"
     ]
    },
    {
     "name": "stderr",
     "output_type": "stream",
     "text": [
      "Training: 100%|██████████| 102/102 [01:40<00:00,  1.01it/s, loss=0.435]\n",
      "Validation: 100%|██████████| 20/20 [00:19<00:00,  1.01it/s, loss=0.457]\n"
     ]
    },
    {
     "name": "stdout",
     "output_type": "stream",
     "text": [
      "Validation Dice Score\n",
      "Class 0: 0.9841, Class 1: 0.4986, Class 2: 0.1040, Class 3: 0.3820, Class 4: 0.6880, Class 5: 0.4225, Class 6: 0.8416, \n",
      "Validation F-beta Score\n",
      "Class 0: 0.9750, Class 1: 0.7350, Class 2: 0.2430, Class 3: 0.6064, Class 4: 0.7985, Class 5: 0.6284, Class 6: 0.9472, \n",
      "Validation mIoU Score\n",
      "Class 0: 0.9688, Class 1: 0.3334, Class 2: 0.0556, Class 3: 0.2371, Class 4: 0.5249, Class 5: 0.2688, Class 6: 0.7273, \n",
      "\n",
      "Overall Mean Dice Score: 0.5665\n",
      "Overall Mean F-beta Score: 0.7431\n",
      "Overall Mean IoU Score: 0.4183\n",
      "Training Loss: 0.4226, Validation Loss: 0.4546, Validation F-beta: 0.6132\n",
      "Epoch 83/4000\n"
     ]
    },
    {
     "name": "stderr",
     "output_type": "stream",
     "text": [
      "Training: 100%|██████████| 102/102 [01:40<00:00,  1.01it/s, loss=0.44] \n",
      "Validation: 100%|██████████| 20/20 [00:19<00:00,  1.00it/s, loss=0.449]\n"
     ]
    },
    {
     "name": "stdout",
     "output_type": "stream",
     "text": [
      "Validation Dice Score\n",
      "Class 0: 0.9842, Class 1: 0.4659, Class 2: 0.1162, Class 3: 0.3603, Class 4: 0.6850, Class 5: 0.4277, Class 6: 0.8554, \n",
      "Validation F-beta Score\n",
      "Class 0: 0.9752, Class 1: 0.7073, Class 2: 0.2509, Class 3: 0.5883, Class 4: 0.8012, Class 5: 0.6277, Class 6: 0.9504, \n",
      "Validation mIoU Score\n",
      "Class 0: 0.9689, Class 1: 0.3048, Class 2: 0.0622, Class 3: 0.2206, Class 4: 0.5217, Class 5: 0.2734, Class 6: 0.7484, \n",
      "\n",
      "Overall Mean Dice Score: 0.5589\n",
      "Overall Mean F-beta Score: 0.7350\n",
      "Overall Mean IoU Score: 0.4138\n",
      "Training Loss: 0.4202, Validation Loss: 0.4543, Validation F-beta: 0.6065\n",
      "Epoch 84/4000\n"
     ]
    },
    {
     "name": "stderr",
     "output_type": "stream",
     "text": [
      "Training: 100%|██████████| 102/102 [01:41<00:00,  1.01it/s, loss=0.439]\n",
      "Validation: 100%|██████████| 20/20 [00:20<00:00,  1.01s/it, loss=0.45] \n"
     ]
    },
    {
     "name": "stdout",
     "output_type": "stream",
     "text": [
      "Validation Dice Score\n",
      "Class 0: 0.9838, Class 1: 0.4742, Class 2: 0.1175, Class 3: 0.3742, Class 4: 0.6990, Class 5: 0.4338, Class 6: 0.8511, \n",
      "Validation F-beta Score\n",
      "Class 0: 0.9745, Class 1: 0.6923, Class 2: 0.2663, Class 3: 0.6219, Class 4: 0.7970, Class 5: 0.6619, Class 6: 0.9489, \n",
      "Validation mIoU Score\n",
      "Class 0: 0.9680, Class 1: 0.3125, Class 2: 0.0632, Class 3: 0.2307, Class 4: 0.5376, Class 5: 0.2779, Class 6: 0.7417, \n",
      "\n",
      "Overall Mean Dice Score: 0.5665\n",
      "Overall Mean F-beta Score: 0.7444\n",
      "Overall Mean IoU Score: 0.4201\n",
      "Training Loss: 0.4219, Validation Loss: 0.4537, Validation F-beta: 0.6147\n",
      "Epoch 85/4000\n"
     ]
    },
    {
     "name": "stderr",
     "output_type": "stream",
     "text": [
      "Training: 100%|██████████| 102/102 [01:40<00:00,  1.01it/s, loss=0.438]\n",
      "Validation: 100%|██████████| 20/20 [00:18<00:00,  1.06it/s, loss=0.45] \n"
     ]
    },
    {
     "name": "stdout",
     "output_type": "stream",
     "text": [
      "Validation Dice Score\n",
      "Class 0: 0.9834, Class 1: 0.4708, Class 2: 0.0929, Class 3: 0.3762, Class 4: 0.6956, Class 5: 0.4311, Class 6: 0.8514, \n",
      "Validation F-beta Score\n",
      "Class 0: 0.9738, Class 1: 0.6985, Class 2: 0.2200, Class 3: 0.6039, Class 4: 0.8067, Class 5: 0.6464, Class 6: 0.9421, \n",
      "Validation mIoU Score\n",
      "Class 0: 0.9673, Class 1: 0.3103, Class 2: 0.0494, Class 3: 0.2326, Class 4: 0.5334, Class 5: 0.2763, Class 6: 0.7417, \n",
      "\n",
      "Overall Mean Dice Score: 0.5650\n",
      "Overall Mean F-beta Score: 0.7395\n",
      "Overall Mean IoU Score: 0.4189\n",
      "Training Loss: 0.4206, Validation Loss: 0.4562, Validation F-beta: 0.6113\n",
      "Epoch 86/4000\n"
     ]
    },
    {
     "name": "stderr",
     "output_type": "stream",
     "text": [
      "Training: 100%|██████████| 102/102 [01:42<00:00,  1.00s/it, loss=0.432]\n",
      "Validation: 100%|██████████| 20/20 [00:19<00:00,  1.04it/s, loss=0.457]\n"
     ]
    },
    {
     "name": "stdout",
     "output_type": "stream",
     "text": [
      "Validation Dice Score\n",
      "Class 0: 0.9846, Class 1: 0.4685, Class 2: 0.1060, Class 3: 0.3876, Class 4: 0.6957, Class 5: 0.4269, Class 6: 0.8392, \n",
      "Validation F-beta Score\n",
      "Class 0: 0.9761, Class 1: 0.6993, Class 2: 0.2517, Class 3: 0.5888, Class 4: 0.7855, Class 5: 0.6356, Class 6: 0.9467, \n",
      "Validation mIoU Score\n",
      "Class 0: 0.9696, Class 1: 0.3066, Class 2: 0.0564, Class 3: 0.2412, Class 4: 0.5336, Class 5: 0.2724, Class 6: 0.7241, \n",
      "\n",
      "Overall Mean Dice Score: 0.5636\n",
      "Overall Mean F-beta Score: 0.7312\n",
      "Overall Mean IoU Score: 0.4156\n",
      "Training Loss: 0.4202, Validation Loss: 0.4546, Validation F-beta: 0.6049\n",
      "Epoch 87/4000\n"
     ]
    },
    {
     "name": "stderr",
     "output_type": "stream",
     "text": [
      "Training: 100%|██████████| 102/102 [01:41<00:00,  1.01it/s, loss=0.444]\n",
      "Validation: 100%|██████████| 20/20 [00:18<00:00,  1.07it/s, loss=0.453]\n"
     ]
    },
    {
     "name": "stdout",
     "output_type": "stream",
     "text": [
      "Validation Dice Score\n",
      "Class 0: 0.9833, Class 1: 0.4701, Class 2: 0.0964, Class 3: 0.3897, Class 4: 0.6934, Class 5: 0.4377, Class 6: 0.8482, \n",
      "Validation F-beta Score\n",
      "Class 0: 0.9736, Class 1: 0.7152, Class 2: 0.2271, Class 3: 0.6214, Class 4: 0.8069, Class 5: 0.6608, Class 6: 0.9558, \n",
      "Validation mIoU Score\n",
      "Class 0: 0.9672, Class 1: 0.3084, Class 2: 0.0510, Class 3: 0.2430, Class 4: 0.5309, Class 5: 0.2818, Class 6: 0.7370, \n",
      "\n",
      "Overall Mean Dice Score: 0.5678\n",
      "Overall Mean F-beta Score: 0.7520\n",
      "Overall Mean IoU Score: 0.4202\n",
      "Training Loss: 0.4215, Validation Loss: 0.4538, Validation F-beta: 0.6193\n",
      "Epoch 88/4000\n"
     ]
    },
    {
     "name": "stderr",
     "output_type": "stream",
     "text": [
      "Training: 100%|██████████| 102/102 [01:41<00:00,  1.00it/s, loss=0.443]\n",
      "Validation: 100%|██████████| 20/20 [00:19<00:00,  1.05it/s, loss=0.459]\n"
     ]
    },
    {
     "name": "stdout",
     "output_type": "stream",
     "text": [
      "Validation Dice Score\n",
      "Class 0: 0.9846, Class 1: 0.4554, Class 2: 0.1177, Class 3: 0.3965, Class 4: 0.6947, Class 5: 0.4436, Class 6: 0.8459, \n",
      "Validation F-beta Score\n",
      "Class 0: 0.9759, Class 1: 0.7338, Class 2: 0.2629, Class 3: 0.6056, Class 4: 0.8006, Class 5: 0.6450, Class 6: 0.9509, \n",
      "Validation mIoU Score\n",
      "Class 0: 0.9696, Class 1: 0.2957, Class 2: 0.0629, Class 3: 0.2484, Class 4: 0.5325, Class 5: 0.2862, Class 6: 0.7340, \n",
      "\n",
      "Overall Mean Dice Score: 0.5672\n",
      "Overall Mean F-beta Score: 0.7472\n",
      "Overall Mean IoU Score: 0.4194\n",
      "Training Loss: 0.4212, Validation Loss: 0.4518, Validation F-beta: 0.6161\n",
      "Epoch 89/4000\n"
     ]
    },
    {
     "name": "stderr",
     "output_type": "stream",
     "text": [
      "Training: 100%|██████████| 102/102 [01:40<00:00,  1.01it/s, loss=0.449]\n",
      "Validation: 100%|██████████| 20/20 [00:19<00:00,  1.00it/s, loss=0.445]\n"
     ]
    },
    {
     "name": "stdout",
     "output_type": "stream",
     "text": [
      "Validation Dice Score\n",
      "Class 0: 0.9845, Class 1: 0.4666, Class 2: 0.1123, Class 3: 0.4018, Class 4: 0.6958, Class 5: 0.4444, Class 6: 0.8473, \n",
      "Validation F-beta Score\n",
      "Class 0: 0.9758, Class 1: 0.7378, Class 2: 0.2531, Class 3: 0.6171, Class 4: 0.8008, Class 5: 0.6353, Class 6: 0.9532, \n",
      "Validation mIoU Score\n",
      "Class 0: 0.9694, Class 1: 0.3054, Class 2: 0.0600, Class 3: 0.2523, Class 4: 0.5338, Class 5: 0.2864, Class 6: 0.7361, \n",
      "\n",
      "Overall Mean Dice Score: 0.5712\n",
      "Overall Mean F-beta Score: 0.7488\n",
      "Overall Mean IoU Score: 0.4228\n",
      "Training Loss: 0.4195, Validation Loss: 0.4507, Validation F-beta: 0.6184\n",
      "========================================================\n",
      "SUPER Best model saved. Loss:0.4507, Score:0.6184\n",
      "========================================================\n",
      "Epoch 90/4000\n"
     ]
    },
    {
     "name": "stderr",
     "output_type": "stream",
     "text": [
      "Training: 100%|██████████| 102/102 [01:40<00:00,  1.02it/s, loss=0.445]\n",
      "Validation: 100%|██████████| 20/20 [00:19<00:00,  1.01it/s, loss=0.452]\n"
     ]
    },
    {
     "name": "stdout",
     "output_type": "stream",
     "text": [
      "Validation Dice Score\n",
      "Class 0: 0.9847, Class 1: 0.4814, Class 2: 0.1307, Class 3: 0.3944, Class 4: 0.6953, Class 5: 0.4400, Class 6: 0.8587, \n",
      "Validation F-beta Score\n",
      "Class 0: 0.9762, Class 1: 0.7368, Class 2: 0.2711, Class 3: 0.5861, Class 4: 0.7992, Class 5: 0.6474, Class 6: 0.9514, \n",
      "Validation mIoU Score\n",
      "Class 0: 0.9699, Class 1: 0.3182, Class 2: 0.0708, Class 3: 0.2475, Class 4: 0.5332, Class 5: 0.2830, Class 6: 0.7532, \n",
      "\n",
      "Overall Mean Dice Score: 0.5740\n",
      "Overall Mean F-beta Score: 0.7442\n",
      "Overall Mean IoU Score: 0.4270\n",
      "Training Loss: 0.4198, Validation Loss: 0.4506, Validation F-beta: 0.6173\n",
      "Epoch 91/4000\n"
     ]
    },
    {
     "name": "stderr",
     "output_type": "stream",
     "text": [
      "Training: 100%|██████████| 102/102 [01:41<00:00,  1.00it/s, loss=0.451]\n",
      "Validation: 100%|██████████| 20/20 [00:19<00:00,  1.02it/s, loss=0.445]\n"
     ]
    },
    {
     "name": "stdout",
     "output_type": "stream",
     "text": [
      "Validation Dice Score\n",
      "Class 0: 0.9850, Class 1: 0.4821, Class 2: 0.1047, Class 3: 0.4023, Class 4: 0.7001, Class 5: 0.4416, Class 6: 0.8502, \n",
      "Validation F-beta Score\n",
      "Class 0: 0.9767, Class 1: 0.7266, Class 2: 0.2233, Class 3: 0.6143, Class 4: 0.7984, Class 5: 0.6402, Class 6: 0.9467, \n",
      "Validation mIoU Score\n",
      "Class 0: 0.9704, Class 1: 0.3197, Class 2: 0.0560, Class 3: 0.2540, Class 4: 0.5389, Class 5: 0.2844, Class 6: 0.7407, \n",
      "\n",
      "Overall Mean Dice Score: 0.5753\n",
      "Overall Mean F-beta Score: 0.7453\n",
      "Overall Mean IoU Score: 0.4276\n",
      "Training Loss: 0.4212, Validation Loss: 0.4518, Validation F-beta: 0.6182\n",
      "Epoch 92/4000\n"
     ]
    },
    {
     "name": "stderr",
     "output_type": "stream",
     "text": [
      "Training: 100%|██████████| 102/102 [01:40<00:00,  1.02it/s, loss=0.419]\n",
      "Validation: 100%|██████████| 20/20 [00:19<00:00,  1.05it/s, loss=0.458]\n"
     ]
    },
    {
     "name": "stdout",
     "output_type": "stream",
     "text": [
      "Validation Dice Score\n",
      "Class 0: 0.9848, Class 1: 0.4705, Class 2: 0.1251, Class 3: 0.3911, Class 4: 0.7073, Class 5: 0.4577, Class 6: 0.8568, \n",
      "Validation F-beta Score\n",
      "Class 0: 0.9765, Class 1: 0.7008, Class 2: 0.2654, Class 3: 0.6013, Class 4: 0.8110, Class 5: 0.6426, Class 6: 0.9492, \n",
      "Validation mIoU Score\n",
      "Class 0: 0.9701, Class 1: 0.3083, Class 2: 0.0674, Class 3: 0.2437, Class 4: 0.5474, Class 5: 0.2974, Class 6: 0.7502, \n",
      "\n",
      "Overall Mean Dice Score: 0.5767\n",
      "Overall Mean F-beta Score: 0.7410\n",
      "Overall Mean IoU Score: 0.4294\n",
      "Training Loss: 0.4202, Validation Loss: 0.4501, Validation F-beta: 0.6163\n",
      "Epoch 93/4000\n"
     ]
    },
    {
     "name": "stderr",
     "output_type": "stream",
     "text": [
      "Training: 100%|██████████| 102/102 [01:42<00:00,  1.00s/it, loss=0.44] \n",
      "Validation: 100%|██████████| 20/20 [00:19<00:00,  1.05it/s, loss=0.449]\n"
     ]
    },
    {
     "name": "stdout",
     "output_type": "stream",
     "text": [
      "Validation Dice Score\n",
      "Class 0: 0.9844, Class 1: 0.5166, Class 2: 0.1201, Class 3: 0.3672, Class 4: 0.7046, Class 5: 0.4391, Class 6: 0.8507, \n",
      "Validation F-beta Score\n",
      "Class 0: 0.9759, Class 1: 0.7521, Class 2: 0.2425, Class 3: 0.5867, Class 4: 0.8051, Class 5: 0.6319, Class 6: 0.9489, \n",
      "Validation mIoU Score\n",
      "Class 0: 0.9693, Class 1: 0.3498, Class 2: 0.0647, Class 3: 0.2262, Class 4: 0.5442, Class 5: 0.2819, Class 6: 0.7411, \n",
      "\n",
      "Overall Mean Dice Score: 0.5756\n",
      "Overall Mean F-beta Score: 0.7449\n",
      "Overall Mean IoU Score: 0.4286\n",
      "Training Loss: 0.4194, Validation Loss: 0.4513, Validation F-beta: 0.6184\n",
      "Epoch 94/4000\n"
     ]
    },
    {
     "name": "stderr",
     "output_type": "stream",
     "text": [
      "Training: 100%|██████████| 102/102 [01:41<00:00,  1.00it/s, loss=0.432]\n",
      "Validation: 100%|██████████| 20/20 [00:18<00:00,  1.06it/s, loss=0.446]\n"
     ]
    },
    {
     "name": "stdout",
     "output_type": "stream",
     "text": [
      "Validation Dice Score\n",
      "Class 0: 0.9849, Class 1: 0.4895, Class 2: 0.1169, Class 3: 0.3831, Class 4: 0.6987, Class 5: 0.4302, Class 6: 0.8503, \n",
      "Validation F-beta Score\n",
      "Class 0: 0.9768, Class 1: 0.7282, Class 2: 0.2459, Class 3: 0.5879, Class 4: 0.7914, Class 5: 0.6248, Class 6: 0.9524, \n",
      "Validation mIoU Score\n",
      "Class 0: 0.9703, Class 1: 0.3250, Class 2: 0.0631, Class 3: 0.2383, Class 4: 0.5373, Class 5: 0.2753, Class 6: 0.7403, \n",
      "\n",
      "Overall Mean Dice Score: 0.5704\n",
      "Overall Mean F-beta Score: 0.7369\n",
      "Overall Mean IoU Score: 0.4232\n",
      "Training Loss: 0.4196, Validation Loss: 0.4508, Validation F-beta: 0.6115\n",
      "Epoch 95/4000\n"
     ]
    },
    {
     "name": "stderr",
     "output_type": "stream",
     "text": [
      "Training: 100%|██████████| 102/102 [01:41<00:00,  1.01it/s, loss=0.444]\n",
      "Validation: 100%|██████████| 20/20 [00:19<00:00,  1.00it/s, loss=0.442]\n"
     ]
    },
    {
     "name": "stdout",
     "output_type": "stream",
     "text": [
      "Validation Dice Score\n",
      "Class 0: 0.9849, Class 1: 0.4952, Class 2: 0.1080, Class 3: 0.4101, Class 4: 0.6906, Class 5: 0.4399, Class 6: 0.8501, \n",
      "Validation F-beta Score\n",
      "Class 0: 0.9764, Class 1: 0.7435, Class 2: 0.2267, Class 3: 0.6247, Class 4: 0.7970, Class 5: 0.6465, Class 6: 0.9497, \n",
      "Validation mIoU Score\n",
      "Class 0: 0.9703, Class 1: 0.3318, Class 2: 0.0575, Class 3: 0.2586, Class 4: 0.5276, Class 5: 0.2827, Class 6: 0.7402, \n",
      "\n",
      "Overall Mean Dice Score: 0.5772\n",
      "Overall Mean F-beta Score: 0.7523\n",
      "Overall Mean IoU Score: 0.4282\n",
      "Training Loss: 0.4197, Validation Loss: 0.4490, Validation F-beta: 0.6226\n",
      "========================================================\n",
      "SUPER Best model saved. Loss:0.4490, Score:0.6226\n",
      "========================================================\n",
      "Epoch 96/4000\n"
     ]
    },
    {
     "name": "stderr",
     "output_type": "stream",
     "text": [
      "Training: 100%|██████████| 102/102 [01:41<00:00,  1.01it/s, loss=0.465]\n",
      "Validation: 100%|██████████| 20/20 [00:19<00:00,  1.04it/s, loss=0.444]\n"
     ]
    },
    {
     "name": "stdout",
     "output_type": "stream",
     "text": [
      "Validation Dice Score\n",
      "Class 0: 0.9848, Class 1: 0.4924, Class 2: 0.1102, Class 3: 0.3835, Class 4: 0.6965, Class 5: 0.4383, Class 6: 0.8439, \n",
      "Validation F-beta Score\n",
      "Class 0: 0.9763, Class 1: 0.7063, Class 2: 0.2451, Class 3: 0.5700, Class 4: 0.7965, Class 5: 0.6432, Class 6: 0.9502, \n",
      "Validation mIoU Score\n",
      "Class 0: 0.9700, Class 1: 0.3284, Class 2: 0.0588, Class 3: 0.2382, Class 4: 0.5346, Class 5: 0.2817, Class 6: 0.7306, \n",
      "\n",
      "Overall Mean Dice Score: 0.5709\n",
      "Overall Mean F-beta Score: 0.7332\n",
      "Overall Mean IoU Score: 0.4227\n",
      "Training Loss: 0.4193, Validation Loss: 0.4544, Validation F-beta: 0.6090\n",
      "Epoch 97/4000\n"
     ]
    },
    {
     "name": "stderr",
     "output_type": "stream",
     "text": [
      "Training: 100%|██████████| 102/102 [01:41<00:00,  1.01it/s, loss=0.442]\n",
      "Validation: 100%|██████████| 20/20 [00:20<00:00,  1.00s/it, loss=0.443]\n"
     ]
    },
    {
     "name": "stdout",
     "output_type": "stream",
     "text": [
      "Validation Dice Score\n",
      "Class 0: 0.9851, Class 1: 0.4947, Class 2: 0.1129, Class 3: 0.4027, Class 4: 0.7026, Class 5: 0.4453, Class 6: 0.8470, \n",
      "Validation F-beta Score\n",
      "Class 0: 0.9767, Class 1: 0.7195, Class 2: 0.2567, Class 3: 0.5861, Class 4: 0.7930, Class 5: 0.6611, Class 6: 0.9468, \n",
      "Validation mIoU Score\n",
      "Class 0: 0.9706, Class 1: 0.3301, Class 2: 0.0610, Class 3: 0.2529, Class 4: 0.5418, Class 5: 0.2871, Class 6: 0.7359, \n",
      "\n",
      "Overall Mean Dice Score: 0.5785\n",
      "Overall Mean F-beta Score: 0.7413\n",
      "Overall Mean IoU Score: 0.4296\n",
      "Training Loss: 0.4192, Validation Loss: 0.4503, Validation F-beta: 0.6166\n",
      "Epoch 98/4000\n"
     ]
    },
    {
     "name": "stderr",
     "output_type": "stream",
     "text": [
      "Training: 100%|██████████| 102/102 [01:41<00:00,  1.01it/s, loss=0.445]\n",
      "Validation: 100%|██████████| 20/20 [00:20<00:00,  1.01s/it, loss=0.449]\n"
     ]
    },
    {
     "name": "stdout",
     "output_type": "stream",
     "text": [
      "Validation Dice Score\n",
      "Class 0: 0.9848, Class 1: 0.4950, Class 2: 0.1100, Class 3: 0.3888, Class 4: 0.7063, Class 5: 0.4409, Class 6: 0.8445, \n",
      "Validation F-beta Score\n",
      "Class 0: 0.9764, Class 1: 0.7281, Class 2: 0.2461, Class 3: 0.5987, Class 4: 0.8043, Class 5: 0.6314, Class 6: 0.9500, \n",
      "Validation mIoU Score\n",
      "Class 0: 0.9700, Class 1: 0.3302, Class 2: 0.0589, Class 3: 0.2424, Class 4: 0.5462, Class 5: 0.2833, Class 6: 0.7321, \n",
      "\n",
      "Overall Mean Dice Score: 0.5751\n",
      "Overall Mean F-beta Score: 0.7425\n",
      "Overall Mean IoU Score: 0.4268\n",
      "Training Loss: 0.4194, Validation Loss: 0.4507, Validation F-beta: 0.6162\n",
      "Epoch 99/4000\n"
     ]
    },
    {
     "name": "stderr",
     "output_type": "stream",
     "text": [
      "Training: 100%|██████████| 102/102 [01:42<00:00,  1.00s/it, loss=0.43] \n",
      "Validation: 100%|██████████| 20/20 [00:18<00:00,  1.06it/s, loss=0.459]\n"
     ]
    },
    {
     "name": "stdout",
     "output_type": "stream",
     "text": [
      "Validation Dice Score\n",
      "Class 0: 0.9843, Class 1: 0.4986, Class 2: 0.0994, Class 3: 0.3864, Class 4: 0.6918, Class 5: 0.4397, Class 6: 0.8418, \n",
      "Validation F-beta Score\n",
      "Class 0: 0.9757, Class 1: 0.7173, Class 2: 0.2267, Class 3: 0.5963, Class 4: 0.7896, Class 5: 0.6427, Class 6: 0.9471, \n",
      "Validation mIoU Score\n",
      "Class 0: 0.9691, Class 1: 0.3336, Class 2: 0.0528, Class 3: 0.2401, Class 4: 0.5290, Class 5: 0.2829, Class 6: 0.7277, \n",
      "\n",
      "Overall Mean Dice Score: 0.5717\n",
      "Overall Mean F-beta Score: 0.7386\n",
      "Overall Mean IoU Score: 0.4227\n",
      "Training Loss: 0.4194, Validation Loss: 0.4540, Validation F-beta: 0.6122\n",
      "Epoch 100/4000\n"
     ]
    },
    {
     "name": "stderr",
     "output_type": "stream",
     "text": [
      "Training: 100%|██████████| 102/102 [01:41<00:00,  1.00it/s, loss=0.439]\n",
      "Validation: 100%|██████████| 20/20 [00:18<00:00,  1.07it/s, loss=0.446]\n"
     ]
    },
    {
     "name": "stdout",
     "output_type": "stream",
     "text": [
      "Validation Dice Score\n",
      "Class 0: 0.9845, Class 1: 0.4881, Class 2: 0.1136, Class 3: 0.3824, Class 4: 0.6976, Class 5: 0.4394, Class 6: 0.8631, \n",
      "Validation F-beta Score\n",
      "Class 0: 0.9758, Class 1: 0.7327, Class 2: 0.2615, Class 3: 0.5794, Class 4: 0.8006, Class 5: 0.6425, Class 6: 0.9529, \n",
      "Validation mIoU Score\n",
      "Class 0: 0.9694, Class 1: 0.3249, Class 2: 0.0607, Class 3: 0.2381, Class 4: 0.5358, Class 5: 0.2828, Class 6: 0.7598, \n",
      "\n",
      "Overall Mean Dice Score: 0.5741\n",
      "Overall Mean F-beta Score: 0.7416\n",
      "Overall Mean IoU Score: 0.4283\n",
      "Training Loss: 0.4194, Validation Loss: 0.4518, Validation F-beta: 0.6163\n",
      "Epoch 101/4000\n"
     ]
    },
    {
     "name": "stderr",
     "output_type": "stream",
     "text": [
      "Training: 100%|██████████| 102/102 [01:41<00:00,  1.01it/s, loss=0.431]\n",
      "Validation: 100%|██████████| 20/20 [00:18<00:00,  1.06it/s, loss=0.449]\n"
     ]
    },
    {
     "name": "stdout",
     "output_type": "stream",
     "text": [
      "Validation Dice Score\n",
      "Class 0: 0.9847, Class 1: 0.4974, Class 2: 0.1006, Class 3: 0.3818, Class 4: 0.6979, Class 5: 0.4442, Class 6: 0.8638, \n",
      "Validation F-beta Score\n",
      "Class 0: 0.9762, Class 1: 0.7211, Class 2: 0.2171, Class 3: 0.5840, Class 4: 0.7992, Class 5: 0.6407, Class 6: 0.9499, \n",
      "Validation mIoU Score\n",
      "Class 0: 0.9699, Class 1: 0.3325, Class 2: 0.0539, Class 3: 0.2372, Class 4: 0.5364, Class 5: 0.2865, Class 6: 0.7610, \n",
      "\n",
      "Overall Mean Dice Score: 0.5770\n",
      "Overall Mean F-beta Score: 0.7390\n",
      "Overall Mean IoU Score: 0.4307\n",
      "Training Loss: 0.4184, Validation Loss: 0.4523, Validation F-beta: 0.6157\n",
      "Epoch 102/4000\n"
     ]
    },
    {
     "name": "stderr",
     "output_type": "stream",
     "text": [
      "Training: 100%|██████████| 102/102 [01:41<00:00,  1.01it/s, loss=0.439]\n",
      "Validation: 100%|██████████| 20/20 [00:19<00:00,  1.02it/s, loss=0.454]\n"
     ]
    },
    {
     "name": "stdout",
     "output_type": "stream",
     "text": [
      "Validation Dice Score\n",
      "Class 0: 0.9848, Class 1: 0.4943, Class 2: 0.1215, Class 3: 0.3801, Class 4: 0.6987, Class 5: 0.4423, Class 6: 0.8515, \n",
      "Validation F-beta Score\n",
      "Class 0: 0.9766, Class 1: 0.7404, Class 2: 0.2535, Class 3: 0.5781, Class 4: 0.7966, Class 5: 0.6241, Class 6: 0.9493, \n",
      "Validation mIoU Score\n",
      "Class 0: 0.9700, Class 1: 0.3294, Class 2: 0.0653, Class 3: 0.2370, Class 4: 0.5371, Class 5: 0.2849, Class 6: 0.7422, \n",
      "\n",
      "Overall Mean Dice Score: 0.5734\n",
      "Overall Mean F-beta Score: 0.7377\n",
      "Overall Mean IoU Score: 0.4261\n",
      "Training Loss: 0.4187, Validation Loss: 0.4517, Validation F-beta: 0.6131\n",
      "Epoch 103/4000\n"
     ]
    },
    {
     "name": "stderr",
     "output_type": "stream",
     "text": [
      "Training: 100%|██████████| 102/102 [01:40<00:00,  1.02it/s, loss=0.454]\n",
      "Validation: 100%|██████████| 20/20 [00:19<00:00,  1.01it/s, loss=0.456]\n"
     ]
    },
    {
     "name": "stdout",
     "output_type": "stream",
     "text": [
      "Validation Dice Score\n",
      "Class 0: 0.9842, Class 1: 0.4681, Class 2: 0.1023, Class 3: 0.3971, Class 4: 0.6945, Class 5: 0.4372, Class 6: 0.8535, \n",
      "Validation F-beta Score\n",
      "Class 0: 0.9754, Class 1: 0.7186, Class 2: 0.2324, Class 3: 0.6166, Class 4: 0.8007, Class 5: 0.6408, Class 6: 0.9503, \n",
      "Validation mIoU Score\n",
      "Class 0: 0.9689, Class 1: 0.3068, Class 2: 0.0545, Class 3: 0.2489, Class 4: 0.5323, Class 5: 0.2806, Class 6: 0.7451, \n",
      "\n",
      "Overall Mean Dice Score: 0.5701\n",
      "Overall Mean F-beta Score: 0.7454\n",
      "Overall Mean IoU Score: 0.4228\n",
      "Training Loss: 0.4185, Validation Loss: 0.4544, Validation F-beta: 0.6163\n",
      "Epoch 104/4000\n"
     ]
    },
    {
     "name": "stderr",
     "output_type": "stream",
     "text": [
      "Training: 100%|██████████| 102/102 [01:41<00:00,  1.01it/s, loss=0.439]\n",
      "Validation: 100%|██████████| 20/20 [00:18<00:00,  1.06it/s, loss=0.452]"
     ]
    },
    {
     "name": "stdout",
     "output_type": "stream",
     "text": [
      "Validation Dice Score\n",
      "Class 0: 0.9844, Class 1: 0.4914, Class 2: 0.1250, Class 3: 0.3800, Class 4: 0.7044, Class 5: 0.4238, Class 6: 0.8612, \n",
      "Validation F-beta Score\n",
      "Class 0: 0.9756, Class 1: 0.7128, Class 2: 0.2839, Class 3: 0.5929, Class 4: 0.8102, Class 5: 0.6281, Class 6: 0.9496, \n",
      "Validation mIoU Score\n",
      "Class 0: 0.9692, Class 1: 0.3266, Class 2: 0.0672, Class 3: 0.2352, Class 4: 0.5438, Class 5: 0.2693, Class 6: 0.7572, \n",
      "\n",
      "Overall Mean Dice Score: 0.5722\n",
      "Overall Mean F-beta Score: 0.7387\n",
      "Overall Mean IoU Score: 0.4264\n",
      "Training Loss: 0.4187, Validation Loss: 0.4532, Validation F-beta: 0.6138\n",
      "Early stopping\n"
     ]
    },
    {
     "name": "stderr",
     "output_type": "stream",
     "text": [
      "\n"
     ]
    },
    {
     "data": {
      "text/html": [],
      "text/plain": [
       "<IPython.core.display.HTML object>"
      ]
     },
     "metadata": {},
     "output_type": "display_data"
    },
    {
     "data": {
      "text/html": [
       "<br>    <style><br>        .wandb-row {<br>            display: flex;<br>            flex-direction: row;<br>            flex-wrap: wrap;<br>            justify-content: flex-start;<br>            width: 100%;<br>        }<br>        .wandb-col {<br>            display: flex;<br>            flex-direction: column;<br>            flex-basis: 100%;<br>            flex: 1;<br>            padding: 10px;<br>        }<br>    </style><br><div class=\"wandb-row\"><div class=\"wandb-col\"><h3>Run history:</h3><br/><table class=\"wandb\"><tr><td>class_0_IoU_score</td><td>▁▂▇▇▇▇▇█▇███████████████████████████████</td></tr><tr><td>class_0_dice_score</td><td>▅▇█▆▃▅▂▃▃▂▄▃▃▄▄▃▃▄▃▃▃▂▁▂▁▂▁▂▂▃▂▂▃▃▃▂▅▅▅▄</td></tr><tr><td>class_0_f_beta_score</td><td>█▆▃▃▄▃▃▂▂▃▄▃▃▂▃▃▂▃▃▃▁▁▂▁▁▁▁▂▂▂▂▂▂▃▂▃▃▂▂▂</td></tr><tr><td>class_1_IoU_score</td><td>▁▅▆▇▇▇▇▇▇▇██████████████████████████████</td></tr><tr><td>class_1_dice_score</td><td>▁▂▅▅▇▇▇▇▇▇▇█▇▇▇▇█▇███████▇▇▇▇▇▇▇▇▇▇▇███▇</td></tr><tr><td>class_1_f_beta_score</td><td>▁▁▁▁▂▅▅▆▆▆▆▇▇▇▇▇▆▆▇▇▇▆▇▇▇███████████████</td></tr><tr><td>class_2_IoU_score</td><td>▁▅▇▇▇▇▇▇▇▇██████████████████████████████</td></tr><tr><td>class_2_dice_score</td><td>▁▁▁▁▁▃▄▄▄▄▆▇▆▇▆▇▆▆▆▇▇▆▆▆▅▆▆▇▇▇▇▇▇█▇▇▆▆██</td></tr><tr><td>class_2_f_beta_score</td><td>▁▁▁▁▁▂▃▃▄▄▅▆▆▅▆▆▇▇▇▇▇▆▆▇▅▆▆▆▇▇▇▇▇▇█▇▇▇▇█</td></tr><tr><td>class_3_IoU_score</td><td>▁▅▇▇▇▇▇▇▇▇▇█████████████████████████████</td></tr><tr><td>class_3_dice_score</td><td>▁▁▃▅▇▆▇▇▇▇▇▇▇▇▇▇▇▇▇▇█▇▇▇▇█▇█████▇█████▇▇</td></tr><tr><td>class_3_f_beta_score</td><td>▁▁▆▇▇▇▇▇▇▇▇▇▇█▇▇▇▇▇▇█▇████████████████▇█</td></tr><tr><td>class_4_IoU_score</td><td>▁▅▇▇▇▇▇▇█▇██████████████████████████████</td></tr><tr><td>class_4_dice_score</td><td>▁▂▃▃▅▃▄▄▃▄▅▅▅▅▅▅▆▆▆▆▅▆▆▇▆▇▅▆▆█▇▇▇█▇█████</td></tr><tr><td>class_4_f_beta_score</td><td>▁▃▆▆▆▇▇▇█▇▇▇▇▇▇▇▇██▇▇██████▇████████████</td></tr><tr><td>class_5_IoU_score</td><td>▁▆▆▆▆▆▆▇▇▇▇▇▇█▇▇█▇▇▇█▇▇█▇███████████████</td></tr><tr><td>class_5_dice_score</td><td>▁▁▄▅▆▇▇▇█▇▇▇▇██████▇███▇▇▇█▇█▇██████████</td></tr><tr><td>class_5_f_beta_score</td><td>▁▁▃▄▆▆▇▇▇▇▇▇▇▇▇█▇▇▇██████▇██████████████</td></tr><tr><td>class_6_IoU_score</td><td>▁▃▂▃▃▄▅▅▅▆▆▆▆▆▆▆▇▇▆▇▇▇▇▇▇▇▇██▇██████████</td></tr><tr><td>class_6_dice_score</td><td>▁▆▆▆▇▇▇▇▇██████████▇████████████▇███████</td></tr><tr><td>class_6_f_beta_score</td><td>▁▂▆▇▇▇▇▇▇▇█▇████████████████████████████</td></tr><tr><td>epoch</td><td>▁▁▁▁▂▂▂▂▂▂▂▂▃▃▃▄▄▄▄▄▄▅▅▅▅▆▆▆▆▆▆▆▇▇▇▇▇███</td></tr><tr><td>overall_mean_IoU_score</td><td>▁▅▅▆▆▇▇▇▇▇▇▇▇▇█████▇█▇▇█████████████████</td></tr><tr><td>overall_mean_dice_score</td><td>▁▂▃▅▅▇▇▇▇▇▇▇▇███████████████████████████</td></tr><tr><td>overall_mean_f_beta_score</td><td>▁▄▅▆▆▆▇▇▇▇▇▇▇▇▇▇▇▇▇▇▇▇▇▇████████████████</td></tr><tr><td>train_epoch_loss</td><td>█▇▅▄▃▃▂▂▂▂▂▂▂▂▂▂▂▁▁▁▁▁▁▁▁▁▁▁▁▁▁▁▁▁▁▁▁▁▁▁</td></tr><tr><td>val_epoch_loss</td><td>█▇▄▃▃▂▂▂▂▂▂▂▂▂▂▂▂▂▂▂▂▂▂▁▁▂▂▂▁▁▁▁▁▁▁▁▁▁▁▁</td></tr></table><br/></div><div class=\"wandb-col\"><h3>Run summary:</h3><br/><table class=\"wandb\"><tr><td>class_0_IoU_score</td><td>0.94955</td></tr><tr><td>class_0_dice_score</td><td>0.98438</td></tr><tr><td>class_0_f_beta_score</td><td>0.97562</td></tr><tr><td>class_1_IoU_score</td><td>0.94955</td></tr><tr><td>class_1_dice_score</td><td>0.49144</td></tr><tr><td>class_1_f_beta_score</td><td>0.71279</td></tr><tr><td>class_2_IoU_score</td><td>0.94955</td></tr><tr><td>class_2_dice_score</td><td>0.125</td></tr><tr><td>class_2_f_beta_score</td><td>0.28386</td></tr><tr><td>class_3_IoU_score</td><td>0.94955</td></tr><tr><td>class_3_dice_score</td><td>0.38002</td></tr><tr><td>class_3_f_beta_score</td><td>0.59289</td></tr><tr><td>class_4_IoU_score</td><td>0.94955</td></tr><tr><td>class_4_dice_score</td><td>0.70441</td></tr><tr><td>class_4_f_beta_score</td><td>0.8102</td></tr><tr><td>class_5_IoU_score</td><td>0.94955</td></tr><tr><td>class_5_dice_score</td><td>0.42382</td></tr><tr><td>class_5_f_beta_score</td><td>0.62811</td></tr><tr><td>class_6_IoU_score</td><td>0.94955</td></tr><tr><td>class_6_dice_score</td><td>0.86119</td></tr><tr><td>class_6_f_beta_score</td><td>0.94955</td></tr><tr><td>epoch</td><td>104</td></tr><tr><td>overall_mean_IoU_score</td><td>0.42642</td></tr><tr><td>overall_mean_dice_score</td><td>0.57218</td></tr><tr><td>overall_mean_f_beta_score</td><td>0.73871</td></tr><tr><td>train_epoch_loss</td><td>0.41873</td></tr><tr><td>val_epoch_loss</td><td>0.45316</td></tr></table><br/></div></div>"
      ],
      "text/plain": [
       "<IPython.core.display.HTML object>"
      ]
     },
     "metadata": {},
     "output_type": "display_data"
    },
    {
     "data": {
      "text/html": [
       " View run <strong style=\"color:#cdcd00\">UNet_all_10441_a1_32x96x96_e4000_lr0.001_lamda0.7_ce0.4_no_weighted</strong> at: <a href='https://wandb.ai/waooang/czii_SwinUnetR/runs/70rqg0j9' target=\"_blank\">https://wandb.ai/waooang/czii_SwinUnetR/runs/70rqg0j9</a><br> View project at: <a href='https://wandb.ai/waooang/czii_SwinUnetR' target=\"_blank\">https://wandb.ai/waooang/czii_SwinUnetR</a><br>Synced 5 W&B file(s), 0 media file(s), 0 artifact file(s) and 0 other file(s)"
      ],
      "text/plain": [
       "<IPython.core.display.HTML object>"
      ]
     },
     "metadata": {},
     "output_type": "display_data"
    },
    {
     "data": {
      "text/html": [
       "Find logs at: <code>.\\wandb\\run-20250122_032303-70rqg0j9\\logs</code>"
      ],
      "text/plain": [
       "<IPython.core.display.HTML object>"
      ]
     },
     "metadata": {},
     "output_type": "display_data"
    }
   ],
   "source": [
    "train_model(\n",
    "    model=model,\n",
    "    train_loader=train_loader,\n",
    "    val_loader=val_loader,\n",
    "    criterion=criterion,\n",
    "    optimizer=optimizer,\n",
    "    num_epochs=num_epochs,\n",
    "    patience=10,\n",
    "    device=device,\n",
    "    start_epoch=start_epoch,\n",
    "    best_val_loss=best_val_loss,\n",
    "    best_val_fbeta_score=best_val_fbeta_score,\n",
    "    calculate_dice_interval=1,\n",
    "    accumulation_steps = accumulation_steps\n",
    "    )"
   ]
  }
 ],
 "metadata": {
  "kernelspec": {
   "display_name": "czii",
   "language": "python",
   "name": "python3"
  },
  "language_info": {
   "codemirror_mode": {
    "name": "ipython",
    "version": 3
   },
   "file_extension": ".py",
   "mimetype": "text/x-python",
   "name": "python",
   "nbconvert_exporter": "python",
   "pygments_lexer": "ipython3",
   "version": "3.12.7"
  }
 },
 "nbformat": 4,
 "nbformat_minor": 2
}
