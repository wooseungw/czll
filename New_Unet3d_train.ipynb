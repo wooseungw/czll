{
 "cells": [
  {
   "cell_type": "code",
   "execution_count": null,
   "metadata": {},
   "outputs": [],
   "source": [
    "import os\n",
    "import shutil\n",
    "import tempfile\n",
    "\n",
    "import matplotlib.pyplot as plt\n",
    "from tqdm import tqdm\n",
    "\n",
    "import random\n",
    "import numpy as np\n",
    "import torch\n",
    "torch.backends.cudnn.benchmark = True\n",
    "\n",
    "from monai.losses import DiceCELoss\n",
    "from monai.inferers import sliding_window_inference\n",
    "from monai.transforms import (\n",
    "    AsDiscrete,\n",
    "    EnsureChannelFirstd,\n",
    "    Compose,\n",
    "    CropForegroundd,\n",
    "    LoadImaged,\n",
    "    Orientationd,\n",
    "    RandFlipd,\n",
    "    RandCropByPosNegLabeld,\n",
    "    RandShiftIntensityd,\n",
    "    ScaleIntensityRanged,\n",
    "    Spacingd,\n",
    "    RandRotate90d,\n",
    ")\n",
    "from monai.networks.layers.factories import Act, Norm\n",
    "from monai.config import print_config\n",
    "from monai.metrics import DiceMetric\n",
    "from monai.networks.nets import UNet\n",
    "\n",
    "from src.models import UNet_CBAM\n",
    "\n",
    "from monai.data import (\n",
    "    DataLoader,\n",
    "    CacheDataset,\n",
    "    load_decathlon_datalist,\n",
    "    decollate_batch,\n",
    ")\n",
    "\n",
    "# 랜덤 시드 고정\n",
    "def set_seed(seed):\n",
    "    random.seed(seed)\n",
    "    np.random.seed(seed)\n",
    "    torch.manual_seed(seed)\n",
    "    if torch.cuda.is_available():\n",
    "        torch.cuda.manual_seed_all(seed)\n",
    "\n",
    "set_seed(42)\n",
    "\n",
    "\n",
    "print_config()\n",
    "\n",
    "import torch\n",
    "import torch.nn as nn\n",
    "import torch.nn.functional as F\n",
    "from monai.losses import TverskyLoss\n",
    "\n",
    "# DynamicTverskyLoss 클래스 정의\n",
    "class DynamicTverskyLoss(TverskyLoss):\n",
    "    def __init__(self, lamda=0.5, **kwargs):\n",
    "        super().__init__(alpha=1 - lamda, beta=lamda, **kwargs)\n",
    "        self.lamda = lamda\n",
    "\n",
    "    def set_lamda(self, lamda):\n",
    "        self.lamda = lamda\n",
    "        self.alpha = 1 - lamda\n",
    "        self.beta = lamda\n",
    "\n",
    "\n",
    "# CombinedCETverskyLoss 클래스\n",
    "class CombinedCETverskyLoss(nn.Module):\n",
    "    def __init__(self, lamda=0.5, ce_weight=0.5, n_classes=7, class_weights=None, ignore_index=-1, **kwargs):\n",
    "        super().__init__()\n",
    "        self.n_classes = n_classes\n",
    "        self.ce_weight = ce_weight\n",
    "        self.ignore_index = ignore_index\n",
    "        \n",
    "        # CrossEntropyLoss에서 클래스별 가중치를 적용\n",
    "        self.ce = nn.CrossEntropyLoss(ignore_index=self.ignore_index, reduction='mean', **kwargs)\n",
    "        \n",
    "        # TverskyLoss\n",
    "        self.tversky = DynamicTverskyLoss(lamda=lamda, reduction=\"mean\",softmax=True, **kwargs)\n",
    "\n",
    "    def forward(self, inputs, targets):\n",
    "        \n",
    "        # CrossEntropyLoss는 정수형 클래스 인덱스를 사용\n",
    "        ce_loss = self.ce(inputs, targets)\n",
    "\n",
    "        # TverskyLoss 계산 (원핫 인코딩된 라벨을 사용)\n",
    "        \n",
    "        tversky_loss = self.tversky(inputs, targets)\n",
    "\n",
    "        # 최종 손실 계산\n",
    "        final_loss = self.ce_weight * ce_loss + (1 - self.ce_weight) * tversky_loss.mean()  # mean()으로 배치에 대해 평균\n",
    "        return final_loss\n",
    "\n",
    "    def set_lamda(self, lamda):\n",
    "        self.tversky.set_lamda(lamda)\n",
    "\n",
    "    @property\n",
    "    def lamda(self):\n",
    "        return self.tversky.lamda\n",
    "    \n",
    "import torch.optim as optim\n",
    "from tqdm import tqdm\n",
    "import numpy as np\n",
    "import torch\n",
    "from pathlib import Path\n",
    "from monai.metrics import DiceMetric\n",
    "\n"
   ]
  },
  {
   "cell_type": "code",
   "execution_count": 2,
   "metadata": {},
   "outputs": [
    {
     "name": "stdout",
     "output_type": "stream",
     "text": [
      "클래스 비율: {0: 0.0, 1: 0.16393442622950818, 2: 0.01639344262295082, 3: 0.2459016393442623, 4: 0.16393442622950818, 5: 0.2459016393442623, 6: 0.16393442622950818}\n",
      "최종 합계: 1.0\n",
      "클래스 비율 리스트: [0.0, 0.16393442622950818, 0.01639344262295082, 0.2459016393442623, 0.16393442622950818, 0.2459016393442623, 0.16393442622950818]\n"
     ]
    }
   ],
   "source": [
    "class_info = {\n",
    "    0: {\"name\": \"background\", \"weight\": 0},  # weight 없음\n",
    "    1: {\"name\": \"apo-ferritin\", \"weight\": 1000},\n",
    "    2: {\"name\": \"beta-amylase\", \"weight\": 100}, # 4130\n",
    "    3: {\"name\": \"beta-galactosidase\", \"weight\": 1500}, #3080\n",
    "    4: {\"name\": \"ribosome\", \"weight\": 1000},\n",
    "    5: {\"name\": \"thyroglobulin\", \"weight\": 1500},\n",
    "    6: {\"name\": \"virus-like-particle\", \"weight\": 1000},\n",
    "}\n",
    "\n",
    "# 가중치에 비례한 비율 계산\n",
    "raw_ratios = {\n",
    "    k: (v[\"weight\"] if v[\"weight\"] is not None else 0.01)  # 가중치 비례, None일 경우 기본값a\n",
    "    for k, v in class_info.items()\n",
    "}\n",
    "total = sum(raw_ratios.values())\n",
    "ratios = {k: v / total for k, v in raw_ratios.items()}\n",
    "\n",
    "# 최종 합계가 1인지 확인\n",
    "final_total = sum(ratios.values())\n",
    "print(\"클래스 비율:\", ratios)\n",
    "print(\"최종 합계:\", final_total)\n",
    "\n",
    "# 비율을 리스트로 변환\n",
    "ratios_list = [ratios[k] for k in sorted(ratios.keys())]\n",
    "print(\"클래스 비율 리스트:\", ratios_list)"
   ]
  },
  {
   "cell_type": "markdown",
   "metadata": {},
   "source": [
    "# 모델 설정"
   ]
  },
  {
   "cell_type": "code",
   "execution_count": 3,
   "metadata": {},
   "outputs": [],
   "source": [
    "from src.dataset.dataset import create_dataloaders\n",
    "from src.dataset.dataset_csv import create_dataloaders_from_csv\n",
    "from monai.transforms import (\n",
    "    Compose, LoadImaged, EnsureChannelFirstd, NormalizeIntensityd,\n",
    "    Orientationd, CropForegroundd, GaussianSmoothd, ScaleIntensityd,\n",
    "    RandSpatialCropd, RandRotate90d, RandFlipd, RandGaussianNoised,\n",
    "    ToTensord, RandCropByLabelClassesd, RandCropd,RandCropByPosNegLabeld, RandGaussianSmoothd\n",
    ")\n",
    "from monai.transforms import CastToTyped\n",
    "import numpy as np\n",
    "\n",
    "train_csv = \"./datasets/trian_647.csv\"\n",
    "val_csv = \"./datasets/val_647.csv\"\n",
    "# DATA CONFIG\n",
    "img_size =  96 # Match your patch size\n",
    "img_depth = 32\n",
    "n_classes = 7\n",
    "batch_size = 64 # 13.8GB GPU memory required for 128x128 img size\n",
    "loader_batch = 1\n",
    "num_samples = batch_size // loader_batch # 한 이미지에서 뽑을 샘플 수\n",
    "num_repeat = 8\n",
    "val_num_repeat = 10\n",
    "# MODEL CONFIG\n",
    "num_epochs = 4000\n",
    "lamda = 0.5\n",
    "ce_weight = 0.4\n",
    "lr = 0.001\n",
    "feature_size = [32, 64, 128, 256]\n",
    "use_checkpoint = True\n",
    "dropout= 0.25\n",
    "\n",
    "# CLASS_WEIGHTS\n",
    "class_weights = None\n",
    "# class_weights = torch.tensor([0.0001, 1, 0.001, 1.1, 1, 1.1, 1], dtype=torch.float32)  # 클래스별 가중치\n",
    "# class_weights = torch.tensor([0.9,1,0.9,1.1,1,1.1,1], dtype=torch.float32)  # 클래스별 가중치\n",
    "# class_weights = torch.tensor([1,1,1,1,1,1,1], dtype=torch.float32)  # 클래스별 가중치\n",
    "sigma = 1.5\n",
    "accumulation_steps = 1\n",
    "# INIT\n",
    "start_epoch = 0\n",
    "best_val_loss = float('inf')\n",
    "best_val_fbeta_score = 0\n",
    "\n",
    "non_random_transforms = Compose([\n",
    "    EnsureChannelFirstd(keys=[\"image\", \"label\"], channel_dim=\"no_channel\"),\n",
    "    NormalizeIntensityd(keys=\"image\"),\n",
    "    Orientationd(keys=[\"image\", \"label\"], axcodes=\"RAS\"),\n",
    "    # GaussianSmoothd(\n",
    "    #     keys=[\"image\"],      # 변환을 적용할 키\n",
    "    #     sigma=[sigma, sigma, sigma]  # 각 축(x, y, z)의 시그마 값\n",
    "    #     ),\n",
    "])\n",
    "random_transforms = Compose([\n",
    "    RandCropByLabelClassesd(\n",
    "        keys=[\"image\", \"label\"],\n",
    "        label_key=\"label\",\n",
    "        spatial_size=[img_depth, img_size, img_size],\n",
    "        num_classes=n_classes,\n",
    "        num_samples=num_samples, \n",
    "        ratios=ratios_list,\n",
    "    ),\n",
    "    RandRotate90d(keys=[\"image\", \"label\"], prob=0.5, spatial_axes=[1, 2]),\n",
    "    RandFlipd(keys=[\"image\", \"label\"], prob=0.5, spatial_axis=0),\n",
    "    RandFlipd(keys=[\"image\", \"label\"], prob=0.5, spatial_axis=1),\n",
    "    RandFlipd(keys=[\"image\", \"label\"], prob=0.5, spatial_axis=2),\n",
    "    # RandGaussianSmoothd(\n",
    "    # keys=[\"image\"],      # 변환을 적용할 키\n",
    "    # sigma_x = (0.5, sigma), # 각 축(x, y, z)의 시그마 값\n",
    "    # sigma_y = (0.5, sigma),\n",
    "    # sigma_z = (0.5, sigma),\n",
    "    # prob=0.5,\n",
    "    # ),\n",
    "])\n",
    "val_random_transforms = Compose([\n",
    "    RandCropByLabelClassesd(\n",
    "        keys=[\"image\", \"label\"],\n",
    "        label_key=\"label\",\n",
    "        spatial_size=[img_depth, img_size, img_size],\n",
    "        num_classes=n_classes,\n",
    "        num_samples=num_samples, \n",
    "        ratios=ratios_list,\n",
    "    ),\n",
    "    # RandRotate90d(keys=[\"image\", \"label\"], prob=0.5, spatial_axes=[1, 2]),\n",
    "    # RandFlipd(keys=[\"image\", \"label\"], prob=0.5, spatial_axis=0),\n",
    "    # RandFlipd(keys=[\"image\", \"label\"], prob=0.5, spatial_axis=1),\n",
    "    # RandFlipd(keys=[\"image\", \"label\"], prob=0.5, spatial_axis=2),\n",
    "    # RandGaussianSmoothd(\n",
    "    # keys=[\"image\"],      # 변환을 적용할 키\n",
    "    # sigma_x = (0.0, sigma), # 각 축(x, y, z)의 시그마 값\n",
    "    # sigma_y = (0.0, sigma),\n",
    "    # sigma_z = (0.0, sigma),\n",
    "    # prob=1.0,\n",
    "    # ),\n",
    "])\n"
   ]
  },
  {
   "cell_type": "code",
   "execution_count": null,
   "metadata": {},
   "outputs": [],
   "source": [
    "train_loader, val_loader = None, None\n",
    "train_loader, val_loader = create_dataloaders_from_csv(\n",
    "    train_csv,\n",
    "    val_csv, \n",
    "    train_non_random_transforms = non_random_transforms, \n",
    "    val_non_random_transforms=non_random_transforms,\n",
    "    train_random_transforms=random_transforms,\n",
    "    val_random_transforms=val_random_transforms,\n",
    "    batch_size = loader_batch,\n",
    "    num_workers=0,train_num_repeat=num_repeat, val_num_repeat=val_num_repeat\n",
    "    )"
   ]
  },
  {
   "cell_type": "markdown",
   "metadata": {},
   "source": [
    "https://monai.io/model-zoo.html"
   ]
  },
  {
   "cell_type": "code",
   "execution_count": 5,
   "metadata": {},
   "outputs": [],
   "source": []
  },
  {
   "cell_type": "markdown",
   "metadata": {},
   "source": [
    "# 모델 선언"
   ]
  },
  {
   "cell_type": "code",
   "execution_count": null,
   "metadata": {},
   "outputs": [],
   "source": []
  },
  {
   "cell_type": "code",
   "execution_count": 5,
   "metadata": {},
   "outputs": [],
   "source": [
    "\n",
    "\n",
    "device = torch.device(\"cuda\" if torch.cuda.is_available() else \"cpu\")\n",
    "\n",
    "model = UNet(\n",
    "    spatial_dims=3,\n",
    "    in_channels=1,\n",
    "    out_channels=n_classes,\n",
    "    channels=feature_size,\n",
    "    strides=(2,2,2),\n",
    "    dropout=dropout,\n",
    ").to(device)\n",
    "# Pretrained weights 불러오기\n",
    "# if use_checkpoint:\n",
    "#     pretrain_path = \"./model_checkpoints/UNet_10441_a1_96x96x96_e4000_lr0.001_lamda0.5_ce0.4_no_weighted/best_model.pt\"\n",
    "#     weight = torch.load(pretrain_path, map_location=device)\n",
    "#     # strict=False로 로드하여 불일치하는 부분 무시\n",
    "#     model.load_state_dict(weight, strict=False)\n",
    "#     print(\"Weights loaded successfully. Output layer will be trained from scratch.\")\n",
    "\n",
    "# Load pretrained weights\n",
    "# model.load_from(weights=np.load(config_vit.real_pretrained_path, allow_pickle=True))\n",
    "# TverskyLoss 설정\n",
    "# 사용 예시\n",
    "criterion = CombinedCETverskyLoss(\n",
    "    lamda=lamda,\n",
    "    ce_weight=ce_weight,\n",
    "    n_classes=n_classes,\n",
    "    class_weights=class_weights,\n",
    "    \n",
    ").to(device)\n",
    "\n",
    "pretrain_str = \"yes\" if use_checkpoint else \"no\"\n",
    "weight_str = \"weighted\" if class_weights is not None else \"\"\n",
    "\n",
    "# 체크포인트 디렉토리 및 파일 설정\n",
    "checkpoint_base_dir = Path(\"./model_checkpoints\")\n",
    "folder_name = f\"UNetCBAM_all_10441_a{accumulation_steps}_{img_depth}x{img_size}x{img_size}_e{num_epochs}_lr{lr}_lamda{lamda}_ce{ce_weight}_{pretrain_str}_{weight_str}\"\n",
    "checkpoint_dir = checkpoint_base_dir / folder_name\n",
    "optimizer = optim.AdamW(model.parameters(), lr=lr, weight_decay=1e-5)\n",
    "scheduler = torch.optim.lr_scheduler.ReduceLROnPlateau(optimizer, patience=5, factor=0.5)\n",
    "# 체크포인트 디렉토리 생성\n",
    "checkpoint_dir.mkdir(parents=True, exist_ok=True)\n",
    "\n",
    "if checkpoint_dir.exists():\n",
    "    best_model_path = checkpoint_dir / 'best_model.pt'\n",
    "    if best_model_path.exists():\n",
    "        print(f\"기존 best model 발견: {best_model_path}\")\n",
    "        try:\n",
    "            checkpoint = torch.load(best_model_path, map_location=device)\n",
    "            # 체크포인트 내부 키 검증\n",
    "            required_keys = ['model_state_dict', 'optimizer_state_dict', 'epoch', 'best_val_loss']\n",
    "            if all(k in checkpoint for k in required_keys):\n",
    "                model.load_state_dict(checkpoint['model_state_dict'])\n",
    "                optimizer.load_state_dict(checkpoint['optimizer_state_dict'])\n",
    "                start_epoch = checkpoint['epoch']\n",
    "                best_val_loss = checkpoint['best_val_loss']\n",
    "                print(\"기존 학습된 가중치를 성공적으로 로드했습니다.\")\n",
    "                checkpoint= None\n",
    "            else:\n",
    "                raise ValueError(\"체크포인트 파일에 필요한 key가 없습니다.\")\n",
    "        except Exception as e:\n",
    "            print(f\"체크포인트 파일을 로드하는 중 오류 발생: {e}\")"
   ]
  },
  {
   "cell_type": "code",
   "execution_count": 6,
   "metadata": {},
   "outputs": [],
   "source": [
    "# batch = next(iter(val_loader))\n",
    "# images, labels = batch[\"image\"], batch[\"label\"]\n",
    "# print(images.shape, labels.shape)"
   ]
  },
  {
   "cell_type": "code",
   "execution_count": 8,
   "metadata": {},
   "outputs": [],
   "source": []
  },
  {
   "cell_type": "code",
   "execution_count": 7,
   "metadata": {},
   "outputs": [
    {
     "name": "stderr",
     "output_type": "stream",
     "text": [
      "\u001b[34m\u001b[1mwandb\u001b[0m: Currently logged in as: \u001b[33mwoow070840\u001b[0m (\u001b[33mwaooang\u001b[0m). Use \u001b[1m`wandb login --relogin`\u001b[0m to force relogin\n",
      "\u001b[34m\u001b[1mwandb\u001b[0m: Using wandb-core as the SDK backend.  Please refer to https://wandb.me/wandb-core for more information.\n"
     ]
    },
    {
     "data": {
      "text/html": [
       "Tracking run with wandb version 0.19.2"
      ],
      "text/plain": [
       "<IPython.core.display.HTML object>"
      ]
     },
     "metadata": {},
     "output_type": "display_data"
    },
    {
     "data": {
      "text/html": [
       "Run data is saved locally in <code>e:\\Workspace\\czll\\wandb\\run-20250122_032303-70rqg0j9</code>"
      ],
      "text/plain": [
       "<IPython.core.display.HTML object>"
      ]
     },
     "metadata": {},
     "output_type": "display_data"
    },
    {
     "data": {
      "text/html": [
       "Syncing run <strong><a href='https://wandb.ai/waooang/czii_SwinUnetR/runs/70rqg0j9' target=\"_blank\">UNet_all_10441_a1_32x96x96_e4000_lr0.001_lamda0.7_ce0.4_no_weighted</a></strong> to <a href='https://wandb.ai/waooang/czii_SwinUnetR' target=\"_blank\">Weights & Biases</a> (<a href='https://wandb.me/developer-guide' target=\"_blank\">docs</a>)<br>"
      ],
      "text/plain": [
       "<IPython.core.display.HTML object>"
      ]
     },
     "metadata": {},
     "output_type": "display_data"
    },
    {
     "data": {
      "text/html": [
       " View project at <a href='https://wandb.ai/waooang/czii_SwinUnetR' target=\"_blank\">https://wandb.ai/waooang/czii_SwinUnetR</a>"
      ],
      "text/plain": [
       "<IPython.core.display.HTML object>"
      ]
     },
     "metadata": {},
     "output_type": "display_data"
    },
    {
     "data": {
      "text/html": [
       " View run at <a href='https://wandb.ai/waooang/czii_SwinUnetR/runs/70rqg0j9' target=\"_blank\">https://wandb.ai/waooang/czii_SwinUnetR/runs/70rqg0j9</a>"
      ],
      "text/plain": [
       "<IPython.core.display.HTML object>"
      ]
     },
     "metadata": {},
     "output_type": "display_data"
    }
   ],
   "source": [
    "import wandb\n",
    "from datetime import datetime\n",
    "\n",
    "current_time = datetime.now().strftime('%Y%m%d_%H%M%S')\n",
    "run_name = folder_name\n",
    "\n",
    "# wandb 초기화\n",
    "wandb.init(\n",
    "    project='czii_SwinUnetR',  # 프로젝트 이름 설정\n",
    "    name=run_name,         # 실행(run) 이름 설정\n",
    "    config={\n",
    "        'num_epochs': num_epochs,\n",
    "        'learning_rate': lr,\n",
    "        'batch_size': batch_size,\n",
    "        'lambda': lamda,\n",
    "        \"cross_entropy_weight\": ce_weight,\n",
    "        'feature_size': feature_size,\n",
    "        'img_size': img_size,\n",
    "        'sampling_ratio': ratios_list,\n",
    "        'device': device.type,\n",
    "        \"checkpoint_dir\": str(checkpoint_dir),\n",
    "        \"class_weights\": class_weights.tolist() if class_weights is not None else None,\n",
    "        \"use_checkpoint\": use_checkpoint,\n",
    "        \"dropout\": dropout,        \n",
    "        \"accumulation_steps\": accumulation_steps,\n",
    "        \"num_repeat\": num_repeat,\n",
    "        \n",
    "        # 필요한 하이퍼파라미터 추가\n",
    "    }\n",
    ")\n",
    "# 모델을 wandb에 연결\n",
    "wandb.watch(model, log='all')"
   ]
  },
  {
   "cell_type": "markdown",
   "metadata": {},
   "source": [
    "# 학습"
   ]
  },
  {
   "cell_type": "code",
   "execution_count": 8,
   "metadata": {},
   "outputs": [],
   "source": [
    "from monai.metrics import DiceMetric\n",
    "    \n",
    "def processing(batch_data, model, criterion, device):\n",
    "    images = batch_data['image'].to(device)  # Input 이미지 (B, 1, 96, 96, 96)\n",
    "    labels = batch_data['label'].to(device)  # 라벨 (B, 96, 96, 96)\n",
    "\n",
    "    labels = labels.squeeze(1)  # (B, 1, 96, 96, 96) → (B, 96, 96, 96)\n",
    "    labels = labels.long()  # 라벨을 정수형으로 변환\n",
    "\n",
    "    # 원핫 인코딩 (B, H, W, D) → (B, num_classes, H, W, D)\n",
    "    \n",
    "    labels_onehot = torch.nn.functional.one_hot(labels, num_classes=n_classes)\n",
    "    labels_onehot = labels_onehot.permute(0, 4, 1, 2, 3).float()  # (B, num_classes, H, W, D)\n",
    "\n",
    "    # 모델 예측\n",
    "    outputs = model(images)  # outputs: (B, num_classes, H, W, D)\n",
    "\n",
    "    # Loss 계산\n",
    "    loss = criterion(outputs, labels_onehot)\n",
    "    # loss = loss_fn(criterion(outputs, labels_onehot),class_weights=class_weights, device=device)\n",
    "    return loss, outputs, labels, outputs.argmax(dim=1)\n",
    "\n",
    "def train_one_epoch(model, train_loader, criterion, optimizer, device, epoch, accumulation_steps=4):\n",
    "    model.train()\n",
    "    epoch_loss = 0\n",
    "    optimizer.zero_grad()  # 그래디언트 초기화\n",
    "    with tqdm(train_loader, desc='Training') as pbar:\n",
    "        for i, batch_data in enumerate(pbar):\n",
    "            # 손실 계산\n",
    "            loss, _, _, _ = processing(batch_data, model, criterion, device)\n",
    "\n",
    "            # 그래디언트를 계산하고 누적\n",
    "            loss = loss / accumulation_steps  # 그래디언트 누적을 위한 스케일링\n",
    "            loss.backward()  # 그래디언트 계산 및 누적\n",
    "            \n",
    "            # 그래디언트 업데이트 (accumulation_steps마다 한 번)\n",
    "            if (i + 1) % accumulation_steps == 0 or (i + 1) == len(train_loader):\n",
    "                optimizer.step()  # 파라미터 업데이트\n",
    "                optimizer.zero_grad()  # 누적된 그래디언트 초기화\n",
    "            \n",
    "            # 손실값 누적 (스케일링 복구)\n",
    "            epoch_loss += loss.item() * accumulation_steps  # 실제 손실값 반영\n",
    "            pbar.set_postfix(loss=loss.item() * accumulation_steps)  # 실제 손실값 출력\n",
    "    avg_loss = epoch_loss / len(train_loader)\n",
    "    wandb.log({'train_epoch_loss': avg_loss, 'epoch': epoch + 1})\n",
    "    return avg_loss\n",
    "\n",
    "\n",
    "\n",
    "def validate_one_epoch(model, val_loader, criterion, device, epoch, calculate_dice_interval, ce_weight):\n",
    "    model.eval()\n",
    "    val_loss = 0\n",
    "    \n",
    "    class_dice_scores = {i: [] for i in range(n_classes)}\n",
    "    class_f_beta_scores = {i: [] for i in range(n_classes)}\n",
    "    class_mIoU_scores = {i: [] for i in range(n_classes)}\n",
    "    with torch.no_grad():\n",
    "        with tqdm(val_loader, desc='Validation') as pbar:\n",
    "            for batch_data in pbar:\n",
    "                loss, _, labels, preds = processing(batch_data, model, criterion, device)\n",
    "                val_loss += loss.item()\n",
    "                pbar.set_postfix(loss=loss.item())\n",
    "\n",
    "                # 각 클래스별 Dice 점수 계산\n",
    "                if epoch % calculate_dice_interval == 0:\n",
    "                    for i in range(n_classes):\n",
    "                        pred_i = (preds == i)\n",
    "                        label_i = (labels == i)\n",
    "                        dice_score = (2.0 * torch.sum(pred_i & label_i)) / (torch.sum(pred_i) + torch.sum(label_i) + 1e-8)\n",
    "                        class_dice_scores[i].append(dice_score.item())\n",
    "                        precision = (torch.sum(pred_i & label_i) + 1e-8) / (torch.sum(pred_i) + 1e-8)\n",
    "                        recall = (torch.sum(pred_i & label_i) + 1e-8) / (torch.sum(label_i) + 1e-8)\n",
    "                        f_beta_score = (1 + 4**2) * (precision * recall) / (4**2 * precision + recall + 1e-8)\n",
    "                        class_f_beta_scores[i].append(f_beta_score.item())\n",
    "                        intersection = torch.sum(pred_i & label_i).float()\n",
    "                        union = torch.sum(pred_i | label_i).float()\n",
    "                        iou = (intersection + 1e-8) / (union + 1e-8)\n",
    "                        class_mIoU_scores[i].append(iou.item())\n",
    "\n",
    "    avg_loss = val_loss / len(val_loader)\n",
    "    # 에포크별 평균 손실 로깅\n",
    "    wandb.log({'val_epoch_loss': avg_loss, 'epoch': epoch + 1})\n",
    "    \n",
    "    # 각 클래스별 평균 Dice 점수 출력\n",
    "    if epoch % calculate_dice_interval == 0:\n",
    "        print(\"Validation Dice Score\")\n",
    "        all_classes_dice_scores = []\n",
    "        for i in range(n_classes):\n",
    "            mean_dice = np.mean(class_dice_scores[i])\n",
    "            wandb.log({f'class_{i}_dice_score': mean_dice, 'epoch': epoch + 1})\n",
    "            print(f\"Class {i}: {mean_dice:.4f}\", end=\", \")\n",
    "            if i not in [0, 2]:  # 평균에 포함할 클래스만 추가\n",
    "                all_classes_dice_scores.append(mean_dice)\n",
    "            \n",
    "        print()\n",
    "    if epoch % calculate_dice_interval == 0:\n",
    "        print(\"Validation F-beta Score\")\n",
    "        all_classes_fbeta_scores = []\n",
    "        for i in range(n_classes):\n",
    "            mean_fbeta = np.mean(class_f_beta_scores[i])\n",
    "            wandb.log({f'class_{i}_f_beta_score': mean_fbeta, 'epoch': epoch + 1})\n",
    "            print(f\"Class {i}: {mean_fbeta:.4f}\", end=\", \")\n",
    "            if i not in [0, 2]:  # 평균에 포함할 클래스만 추가\n",
    "                all_classes_fbeta_scores.append(mean_fbeta)\n",
    "               \n",
    "        print() \n",
    "    if epoch % calculate_dice_interval == 0:\n",
    "        print(\"Validation mIoU Score\")\n",
    "        all_classes_mIoU_scores = []\n",
    "        for i in range(n_classes):\n",
    "            mean_IoU = np.mean(class_mIoU_scores[i])\n",
    "            wandb.log({f'class_{i}_IoU_score': mean_fbeta, 'epoch': epoch + 1})\n",
    "            print(f\"Class {i}: {mean_IoU:.4f}\", end=\", \")\n",
    "            if i not in [0, 2]:  # 평균에 포함할 클래스만 추가\n",
    "                all_classes_mIoU_scores.append(mean_IoU)\n",
    "                \n",
    "        print()\n",
    "        overall_mean_dice = np.mean(all_classes_dice_scores)\n",
    "        overall_mean_fbeta = np.mean(all_classes_fbeta_scores)\n",
    "        overall_mean_IoU = np.mean(all_classes_mIoU_scores)\n",
    "        wandb.log({'overall_mean_f_beta_score': overall_mean_fbeta, 'overall_mean_dice_score': overall_mean_dice, 'epoch': epoch + 1, 'overall_mean_IoU_score': overall_mean_IoU})\n",
    "        print(f\"\\nOverall Mean Dice Score: {overall_mean_dice:.4f}\\nOverall Mean F-beta Score: {overall_mean_fbeta:.4f}\\nOverall Mean IoU Score: {overall_mean_IoU:.4f}\")\n",
    "\n",
    "    if overall_mean_fbeta is None:\n",
    "        overall_mean_fbeta = 0\n",
    "\n",
    "    final_score = overall_mean_fbeta * (1 - ce_weight) + overall_mean_IoU * ce_weight\n",
    "    return val_loss / len(val_loader), final_score \n",
    "\n",
    "def train_model(\n",
    "    model, train_loader, val_loader, criterion, optimizer, num_epochs, patience, \n",
    "    device, start_epoch, best_val_loss, best_val_fbeta_score, calculate_dice_interval=1,\n",
    "    accumulation_steps=4, pretrained=False\n",
    "):\n",
    "    \"\"\"\n",
    "    모델을 학습하고 검증하는 함수\n",
    "    Args:\n",
    "        model: 학습할 모델\n",
    "        train_loader: 학습 데이터 로더\n",
    "        val_loader: 검증 데이터 로더\n",
    "        criterion: 손실 함수\n",
    "        optimizer: 최적화 알고리즘\n",
    "        num_epochs: 총 학습 epoch 수\n",
    "        patience: early stopping 기준\n",
    "        device: GPU/CPU 장치\n",
    "        start_epoch: 시작 epoch\n",
    "        best_val_loss: 이전 최적 validation loss\n",
    "        best_val_fbeta_score: 이전 최적 validation f-beta score\n",
    "        calculate_dice_interval: Dice 점수 계산 주기\n",
    "    \"\"\"\n",
    "    epochs_no_improve = 0\n",
    "\n",
    "    for epoch in range(start_epoch, num_epochs):\n",
    "        print(f\"Epoch {epoch + 1}/{num_epochs}\")\n",
    "\n",
    "        # Train One Epoch\n",
    "        train_loss = train_one_epoch(\n",
    "            model=model, \n",
    "            train_loader=train_loader, \n",
    "            criterion=criterion, \n",
    "            optimizer=optimizer, \n",
    "            device=device,\n",
    "            epoch=epoch,\n",
    "            accumulation_steps= accumulation_steps\n",
    "        )\n",
    "        \n",
    "        scheduler.step(train_loss)\n",
    "        # Validate One Epoch\n",
    "        val_loss, overall_mean_fbeta_score = validate_one_epoch(\n",
    "            model=model, \n",
    "            val_loader=val_loader, \n",
    "            criterion=criterion, \n",
    "            device=device, \n",
    "            epoch=epoch, \n",
    "            calculate_dice_interval=calculate_dice_interval,\n",
    "            ce_weight=ce_weight\n",
    "        )\n",
    "\n",
    "        \n",
    "        print(f\"Training Loss: {train_loss:.4f}, Validation Loss: {val_loss:.4f}, Validation F-beta: {overall_mean_fbeta_score:.4f}\")\n",
    "\n",
    "        if val_loss < best_val_loss and overall_mean_fbeta_score > best_val_fbeta_score:\n",
    "            best_val_loss = val_loss\n",
    "            best_val_fbeta_score = overall_mean_fbeta_score\n",
    "            epochs_no_improve = 0\n",
    "            if pretrained:\n",
    "                checkpoint_path = os.path.join(checkpoint_dir, 'best_model_pretrained.pt')\n",
    "            else:\n",
    "                checkpoint_path = os.path.join(checkpoint_dir, 'best_model.pt')\n",
    "            torch.save({\n",
    "                'epoch': epoch + 1,\n",
    "                'model_state_dict': model.state_dict(),\n",
    "                'optimizer_state_dict': optimizer.state_dict(),\n",
    "                'best_val_loss': best_val_loss,\n",
    "                'best_val_fbeta_score': best_val_fbeta_score\n",
    "            }, checkpoint_path)\n",
    "            print(f\"========================================================\")\n",
    "            print(f\"SUPER Best model saved. Loss:{best_val_loss:.4f}, Score:{best_val_fbeta_score:.4f}\")\n",
    "            print(f\"========================================================\")\n",
    "\n",
    "        # Early stopping 조건 체크\n",
    "        if val_loss >= best_val_loss and overall_mean_fbeta_score <= best_val_fbeta_score:\n",
    "            epochs_no_improve += 1\n",
    "        else:\n",
    "            epochs_no_improve = 0\n",
    "\n",
    "        if epochs_no_improve >= patience:\n",
    "            print(\"Early stopping\")\n",
    "            checkpoint_path = os.path.join(checkpoint_dir, 'last.pt')\n",
    "            torch.save({\n",
    "                'epoch': epoch + 1,\n",
    "                'model_state_dict': model.state_dict(),\n",
    "                'optimizer_state_dict': optimizer.state_dict(),\n",
    "                'best_val_loss': best_val_loss,\n",
    "                'best_val_fbeta_score': best_val_fbeta_score\n",
    "            }, checkpoint_path)\n",
    "            break\n",
    "        # if epochs_no_improve % 6 == 0 & epochs_no_improve != 0:\n",
    "        #     # 손실이 개선되지 않았으므로 lambda 감소\n",
    "        #     new_lamda = max(criterion.lamda - 0.01, 0.35)  # 최소값은 0.1로 설정\n",
    "        #     criterion.set_lamda(new_lamda)\n",
    "        #     print(f\"Validation loss did not improve. Reducing lambda to {new_lamda:.4f}\")\n",
    "\n",
    "    wandb.finish()\n"
   ]
  },
  {
   "cell_type": "code",
   "execution_count": 9,
   "metadata": {},
   "outputs": [
    {
     "name": "stdout",
     "output_type": "stream",
     "text": [
      "Epoch 1/4000\n"
     ]
    },
    {
     "name": "stderr",
     "output_type": "stream",
     "text": [
      "Training: 100%|██████████| 102/102 [01:59<00:00,  1.17s/it, loss=0.571]\n",
      "Validation: 100%|██████████| 20/20 [00:19<00:00,  1.03it/s, loss=0.563]\n"
     ]
    },
    {
     "name": "stdout",
     "output_type": "stream",
     "text": [
      "Validation Dice Score\n",
      "Class 0: 0.9849, Class 1: 0.0002, Class 2: 0.0001, Class 3: 0.0026, Class 4: 0.3043, Class 5: 0.0040, Class 6: 0.0182, \n",
      "Validation F-beta Score\n",
      "Class 0: 0.9852, Class 1: 0.0001, Class 2: 0.0000, Class 3: 0.0015, Class 4: 0.4358, Class 5: 0.0022, Class 6: 0.0099, \n",
      "Validation mIoU Score\n",
      "Class 0: 0.9702, Class 1: 0.0001, Class 2: 0.0000, Class 3: 0.0013, Class 4: 0.1806, Class 5: 0.0020, Class 6: 0.0092, \n",
      "\n",
      "Overall Mean Dice Score: 0.0659\n",
      "Overall Mean F-beta Score: 0.0899\n",
      "Overall Mean IoU Score: 0.0387\n",
      "Training Loss: 0.7199, Validation Loss: 0.5688, Validation F-beta: 0.0694\n",
      "========================================================\n",
      "SUPER Best model saved. Loss:0.5688, Score:0.0694\n",
      "========================================================\n",
      "Epoch 2/4000\n"
     ]
    },
    {
     "name": "stderr",
     "output_type": "stream",
     "text": [
      "Training: 100%|██████████| 102/102 [01:45<00:00,  1.04s/it, loss=0.561]\n",
      "Validation: 100%|██████████| 20/20 [00:20<00:00,  1.01s/it, loss=0.54] \n"
     ]
    },
    {
     "name": "stdout",
     "output_type": "stream",
     "text": [
      "Validation Dice Score\n",
      "Class 0: 0.9864, Class 1: 0.0000, Class 2: 0.0000, Class 3: 0.0013, Class 4: 0.3283, Class 5: 0.0034, Class 6: 0.2278, \n",
      "Validation F-beta Score\n",
      "Class 0: 0.9874, Class 1: 0.0000, Class 2: 0.0000, Class 3: 0.0007, Class 4: 0.4603, Class 5: 0.0018, Class 6: 0.1551, \n",
      "Validation mIoU Score\n",
      "Class 0: 0.9733, Class 1: 0.0000, Class 2: 0.0000, Class 3: 0.0007, Class 4: 0.1971, Class 5: 0.0017, Class 6: 0.1320, \n",
      "\n",
      "Overall Mean Dice Score: 0.1122\n",
      "Overall Mean F-beta Score: 0.1236\n",
      "Overall Mean IoU Score: 0.0663\n",
      "Training Loss: 0.5621, Validation Loss: 0.5498, Validation F-beta: 0.1007\n",
      "========================================================\n",
      "SUPER Best model saved. Loss:0.5498, Score:0.1007\n",
      "========================================================\n",
      "Epoch 3/4000\n"
     ]
    },
    {
     "name": "stderr",
     "output_type": "stream",
     "text": [
      "Training: 100%|██████████| 102/102 [01:46<00:00,  1.04s/it, loss=0.534]\n",
      "Validation: 100%|██████████| 20/20 [00:19<00:00,  1.05it/s, loss=0.538]\n"
     ]
    },
    {
     "name": "stdout",
     "output_type": "stream",
     "text": [
      "Validation Dice Score\n",
      "Class 0: 0.9868, Class 1: 0.0000, Class 2: 0.0000, Class 3: 0.0119, Class 4: 0.3590, Class 5: 0.0346, Class 6: 0.6337, \n",
      "Validation F-beta Score\n",
      "Class 0: 0.9888, Class 1: 0.0000, Class 2: 0.0000, Class 3: 0.0067, Class 4: 0.4297, Class 5: 0.0198, Class 6: 0.6104, \n",
      "Validation mIoU Score\n",
      "Class 0: 0.9739, Class 1: 0.0000, Class 2: 0.0000, Class 3: 0.0060, Class 4: 0.2195, Class 5: 0.0177, Class 6: 0.4668, \n",
      "\n",
      "Overall Mean Dice Score: 0.2078\n",
      "Overall Mean F-beta Score: 0.2133\n",
      "Overall Mean IoU Score: 0.1420\n",
      "Training Loss: 0.5433, Validation Loss: 0.5317, Validation F-beta: 0.1848\n",
      "========================================================\n",
      "SUPER Best model saved. Loss:0.5317, Score:0.1848\n",
      "========================================================\n",
      "Epoch 4/4000\n"
     ]
    },
    {
     "name": "stderr",
     "output_type": "stream",
     "text": [
      "Training: 100%|██████████| 102/102 [01:44<00:00,  1.02s/it, loss=0.524]\n",
      "Validation: 100%|██████████| 20/20 [00:19<00:00,  1.00it/s, loss=0.519]\n"
     ]
    },
    {
     "name": "stdout",
     "output_type": "stream",
     "text": [
      "Validation Dice Score\n",
      "Class 0: 0.9866, Class 1: 0.0007, Class 2: 0.0000, Class 3: 0.1225, Class 4: 0.4652, Class 5: 0.1777, Class 6: 0.7113, \n",
      "Validation F-beta Score\n",
      "Class 0: 0.9865, Class 1: 0.0004, Class 2: 0.0000, Class 3: 0.1251, Class 4: 0.5430, Class 5: 0.1327, Class 6: 0.7375, \n",
      "Validation mIoU Score\n",
      "Class 0: 0.9737, Class 1: 0.0004, Class 2: 0.0000, Class 3: 0.0654, Class 4: 0.3042, Class 5: 0.0978, Class 6: 0.5540, \n",
      "\n",
      "Overall Mean Dice Score: 0.2955\n",
      "Overall Mean F-beta Score: 0.3077\n",
      "Overall Mean IoU Score: 0.2044\n",
      "Training Loss: 0.5288, Validation Loss: 0.5178, Validation F-beta: 0.2664\n",
      "========================================================\n",
      "SUPER Best model saved. Loss:0.5178, Score:0.2664\n",
      "========================================================\n",
      "Epoch 5/4000\n"
     ]
    },
    {
     "name": "stderr",
     "output_type": "stream",
     "text": [
      "Training: 100%|██████████| 102/102 [01:41<00:00,  1.01it/s, loss=0.512]\n",
      "Validation: 100%|██████████| 20/20 [00:19<00:00,  1.00it/s, loss=0.49] \n"
     ]
    },
    {
     "name": "stdout",
     "output_type": "stream",
     "text": [
      "Validation Dice Score\n",
      "Class 0: 0.9854, Class 1: 0.0519, Class 2: 0.0000, Class 3: 0.2119, Class 4: 0.5538, Class 5: 0.2427, Class 6: 0.7660, \n",
      "Validation F-beta Score\n",
      "Class 0: 0.9823, Class 1: 0.0493, Class 2: 0.0000, Class 3: 0.3371, Class 4: 0.6441, Class 5: 0.2346, Class 6: 0.8077, \n",
      "Validation mIoU Score\n",
      "Class 0: 0.9713, Class 1: 0.0272, Class 2: 0.0000, Class 3: 0.1189, Class 4: 0.3846, Class 5: 0.1387, Class 6: 0.6234, \n",
      "\n",
      "Overall Mean Dice Score: 0.3653\n",
      "Overall Mean F-beta Score: 0.4146\n",
      "Overall Mean IoU Score: 0.2586\n",
      "Training Loss: 0.5101, Validation Loss: 0.5046, Validation F-beta: 0.3522\n",
      "========================================================\n",
      "SUPER Best model saved. Loss:0.5046, Score:0.3522\n",
      "========================================================\n",
      "Epoch 6/4000\n"
     ]
    },
    {
     "name": "stderr",
     "output_type": "stream",
     "text": [
      "Training: 100%|██████████| 102/102 [01:41<00:00,  1.00it/s, loss=0.509]\n",
      "Validation: 100%|██████████| 20/20 [00:20<00:00,  1.02s/it, loss=0.496]\n"
     ]
    },
    {
     "name": "stdout",
     "output_type": "stream",
     "text": [
      "Validation Dice Score\n",
      "Class 0: 0.9857, Class 1: 0.0804, Class 2: 0.0000, Class 3: 0.2200, Class 4: 0.5855, Class 5: 0.2746, Class 6: 0.7798, \n",
      "Validation F-beta Score\n",
      "Class 0: 0.9823, Class 1: 0.1222, Class 2: 0.0000, Class 3: 0.3792, Class 4: 0.6271, Class 5: 0.2997, Class 6: 0.8561, \n",
      "Validation mIoU Score\n",
      "Class 0: 0.9719, Class 1: 0.0426, Class 2: 0.0000, Class 3: 0.1238, Class 4: 0.4149, Class 5: 0.1598, Class 6: 0.6421, \n",
      "\n",
      "Overall Mean Dice Score: 0.3880\n",
      "Overall Mean F-beta Score: 0.4568\n",
      "Overall Mean IoU Score: 0.2766\n",
      "Training Loss: 0.4973, Validation Loss: 0.4989, Validation F-beta: 0.3847\n",
      "========================================================\n",
      "SUPER Best model saved. Loss:0.4989, Score:0.3847\n",
      "========================================================\n",
      "Epoch 7/4000\n"
     ]
    },
    {
     "name": "stderr",
     "output_type": "stream",
     "text": [
      "Training: 100%|██████████| 102/102 [01:41<00:00,  1.01it/s, loss=0.495]\n",
      "Validation: 100%|██████████| 20/20 [00:19<00:00,  1.02it/s, loss=0.48] \n"
     ]
    },
    {
     "name": "stdout",
     "output_type": "stream",
     "text": [
      "Validation Dice Score\n",
      "Class 0: 0.9838, Class 1: 0.0786, Class 2: 0.0000, Class 3: 0.2931, Class 4: 0.5930, Class 5: 0.3181, Class 6: 0.7872, \n",
      "Validation F-beta Score\n",
      "Class 0: 0.9767, Class 1: 0.1113, Class 2: 0.0000, Class 3: 0.4436, Class 4: 0.7144, Class 5: 0.4326, Class 6: 0.8409, \n",
      "Validation mIoU Score\n",
      "Class 0: 0.9680, Class 1: 0.0412, Class 2: 0.0000, Class 3: 0.1727, Class 4: 0.4240, Class 5: 0.1898, Class 6: 0.6504, \n",
      "\n",
      "Overall Mean Dice Score: 0.4140\n",
      "Overall Mean F-beta Score: 0.5086\n",
      "Overall Mean IoU Score: 0.2956\n",
      "Training Loss: 0.4897, Validation Loss: 0.4953, Validation F-beta: 0.4234\n",
      "========================================================\n",
      "SUPER Best model saved. Loss:0.4953, Score:0.4234\n",
      "========================================================\n",
      "Epoch 8/4000\n"
     ]
    },
    {
     "name": "stderr",
     "output_type": "stream",
     "text": [
      "Training: 100%|██████████| 102/102 [01:41<00:00,  1.01it/s, loss=0.48]\n",
      "Validation: 100%|██████████| 20/20 [00:19<00:00,  1.05it/s, loss=0.486]\n"
     ]
    },
    {
     "name": "stdout",
     "output_type": "stream",
     "text": [
      "Validation Dice Score\n",
      "Class 0: 0.9842, Class 1: 0.1117, Class 2: 0.0005, Class 3: 0.3074, Class 4: 0.5784, Class 5: 0.3380, Class 6: 0.7897, \n",
      "Validation F-beta Score\n",
      "Class 0: 0.9776, Class 1: 0.1235, Class 2: 0.0003, Class 3: 0.4256, Class 4: 0.6923, Class 5: 0.4652, Class 6: 0.8137, \n",
      "Validation mIoU Score\n",
      "Class 0: 0.9690, Class 1: 0.0598, Class 2: 0.0002, Class 3: 0.1822, Class 4: 0.4108, Class 5: 0.2044, Class 6: 0.6536, \n",
      "\n",
      "Overall Mean Dice Score: 0.4251\n",
      "Overall Mean F-beta Score: 0.5041\n",
      "Overall Mean IoU Score: 0.3021\n",
      "Training Loss: 0.4821, Validation Loss: 0.4922, Validation F-beta: 0.4233\n",
      "Epoch 9/4000\n"
     ]
    },
    {
     "name": "stderr",
     "output_type": "stream",
     "text": [
      "Training: 100%|██████████| 102/102 [01:42<00:00,  1.00s/it, loss=0.478]\n",
      "Validation: 100%|██████████| 20/20 [00:19<00:00,  1.05it/s, loss=0.475]\n"
     ]
    },
    {
     "name": "stdout",
     "output_type": "stream",
     "text": [
      "Validation Dice Score\n",
      "Class 0: 0.9842, Class 1: 0.1767, Class 2: 0.0161, Class 3: 0.3247, Class 4: 0.6074, Class 5: 0.3628, Class 6: 0.8126, \n",
      "Validation F-beta Score\n",
      "Class 0: 0.9775, Class 1: 0.2148, Class 2: 0.0105, Class 3: 0.5602, Class 4: 0.7017, Class 5: 0.4849, Class 6: 0.8428, \n",
      "Validation mIoU Score\n",
      "Class 0: 0.9688, Class 1: 0.0975, Class 2: 0.0081, Class 3: 0.1949, Class 4: 0.4382, Class 5: 0.2233, Class 6: 0.6852, \n",
      "\n",
      "Overall Mean Dice Score: 0.4568\n",
      "Overall Mean F-beta Score: 0.5609\n",
      "Overall Mean IoU Score: 0.3278\n",
      "Training Loss: 0.4775, Validation Loss: 0.4844, Validation F-beta: 0.4677\n",
      "========================================================\n",
      "SUPER Best model saved. Loss:0.4844, Score:0.4677\n",
      "========================================================\n",
      "Epoch 10/4000\n"
     ]
    },
    {
     "name": "stderr",
     "output_type": "stream",
     "text": [
      "Training: 100%|██████████| 102/102 [01:41<00:00,  1.00it/s, loss=0.479]\n",
      "Validation: 100%|██████████| 20/20 [00:19<00:00,  1.02it/s, loss=0.48] \n"
     ]
    },
    {
     "name": "stdout",
     "output_type": "stream",
     "text": [
      "Validation Dice Score\n",
      "Class 0: 0.9851, Class 1: 0.2792, Class 2: 0.0198, Class 3: 0.3150, Class 4: 0.6149, Class 5: 0.3790, Class 6: 0.8145, \n",
      "Validation F-beta Score\n",
      "Class 0: 0.9795, Class 1: 0.4117, Class 2: 0.0140, Class 3: 0.5533, Class 4: 0.6840, Class 5: 0.4880, Class 6: 0.8393, \n",
      "Validation mIoU Score\n",
      "Class 0: 0.9706, Class 1: 0.1628, Class 2: 0.0100, Class 3: 0.1880, Class 4: 0.4452, Class 5: 0.2348, Class 6: 0.6881, \n",
      "\n",
      "Overall Mean Dice Score: 0.4805\n",
      "Overall Mean F-beta Score: 0.5953\n",
      "Overall Mean IoU Score: 0.3438\n",
      "Training Loss: 0.4697, Validation Loss: 0.4777, Validation F-beta: 0.4947\n",
      "========================================================\n",
      "SUPER Best model saved. Loss:0.4777, Score:0.4947\n",
      "========================================================\n",
      "Epoch 11/4000\n"
     ]
    },
    {
     "name": "stderr",
     "output_type": "stream",
     "text": [
      "Training: 100%|██████████| 102/102 [01:41<00:00,  1.01it/s, loss=0.473]\n",
      "Validation: 100%|██████████| 20/20 [00:19<00:00,  1.01it/s, loss=0.471]\n"
     ]
    },
    {
     "name": "stdout",
     "output_type": "stream",
     "text": [
      "Validation Dice Score\n",
      "Class 0: 0.9841, Class 1: 0.2858, Class 2: 0.0320, Class 3: 0.3046, Class 4: 0.6232, Class 5: 0.3896, Class 6: 0.8159, \n",
      "Validation F-beta Score\n",
      "Class 0: 0.9772, Class 1: 0.4674, Class 2: 0.0300, Class 3: 0.5687, Class 4: 0.7370, Class 5: 0.4787, Class 6: 0.8585, \n",
      "Validation mIoU Score\n",
      "Class 0: 0.9687, Class 1: 0.1678, Class 2: 0.0164, Class 3: 0.1801, Class 4: 0.4544, Class 5: 0.2428, Class 6: 0.6907, \n",
      "\n",
      "Overall Mean Dice Score: 0.4838\n",
      "Overall Mean F-beta Score: 0.6221\n",
      "Overall Mean IoU Score: 0.3472\n",
      "Training Loss: 0.4655, Validation Loss: 0.4790, Validation F-beta: 0.5121\n",
      "Epoch 12/4000\n"
     ]
    },
    {
     "name": "stderr",
     "output_type": "stream",
     "text": [
      "Training: 100%|██████████| 102/102 [01:41<00:00,  1.00it/s, loss=0.487]\n",
      "Validation: 100%|██████████| 20/20 [00:19<00:00,  1.04it/s, loss=0.47] \n"
     ]
    },
    {
     "name": "stdout",
     "output_type": "stream",
     "text": [
      "Validation Dice Score\n",
      "Class 0: 0.9857, Class 1: 0.3374, Class 2: 0.0626, Class 3: 0.3029, Class 4: 0.6263, Class 5: 0.4146, Class 6: 0.8174, \n",
      "Validation F-beta Score\n",
      "Class 0: 0.9800, Class 1: 0.4663, Class 2: 0.0646, Class 3: 0.5341, Class 4: 0.7149, Class 5: 0.5292, Class 6: 0.8559, \n",
      "Validation mIoU Score\n",
      "Class 0: 0.9718, Class 1: 0.2039, Class 2: 0.0324, Class 3: 0.1792, Class 4: 0.4576, Class 5: 0.2630, Class 6: 0.6919, \n",
      "\n",
      "Overall Mean Dice Score: 0.4997\n",
      "Overall Mean F-beta Score: 0.6201\n",
      "Overall Mean IoU Score: 0.3591\n",
      "Training Loss: 0.4622, Validation Loss: 0.4719, Validation F-beta: 0.5157\n",
      "========================================================\n",
      "SUPER Best model saved. Loss:0.4719, Score:0.5157\n",
      "========================================================\n",
      "Epoch 13/4000\n"
     ]
    },
    {
     "name": "stderr",
     "output_type": "stream",
     "text": [
      "Training: 100%|██████████| 102/102 [01:42<00:00,  1.01s/it, loss=0.483]\n",
      "Validation: 100%|██████████| 20/20 [00:18<00:00,  1.05it/s, loss=0.468]\n"
     ]
    },
    {
     "name": "stdout",
     "output_type": "stream",
     "text": [
      "Validation Dice Score\n",
      "Class 0: 0.9852, Class 1: 0.3533, Class 2: 0.0513, Class 3: 0.3240, Class 4: 0.6500, Class 5: 0.3873, Class 6: 0.8419, \n",
      "Validation F-beta Score\n",
      "Class 0: 0.9796, Class 1: 0.4540, Class 2: 0.0557, Class 3: 0.5521, Class 4: 0.7123, Class 5: 0.5012, Class 6: 0.8660, \n",
      "Validation mIoU Score\n",
      "Class 0: 0.9708, Class 1: 0.2151, Class 2: 0.0264, Class 3: 0.1942, Class 4: 0.4822, Class 5: 0.2416, Class 6: 0.7273, \n",
      "\n",
      "Overall Mean Dice Score: 0.5113\n",
      "Overall Mean F-beta Score: 0.6171\n",
      "Overall Mean IoU Score: 0.3721\n",
      "Training Loss: 0.4568, Validation Loss: 0.4719, Validation F-beta: 0.5191\n",
      "========================================================\n",
      "SUPER Best model saved. Loss:0.4719, Score:0.5191\n",
      "========================================================\n",
      "Epoch 14/4000\n"
     ]
    },
    {
     "name": "stderr",
     "output_type": "stream",
     "text": [
      "Training: 100%|██████████| 102/102 [01:42<00:00,  1.00s/it, loss=0.469]\n",
      "Validation: 100%|██████████| 20/20 [00:18<00:00,  1.05it/s, loss=0.464]\n"
     ]
    },
    {
     "name": "stdout",
     "output_type": "stream",
     "text": [
      "Validation Dice Score\n",
      "Class 0: 0.9834, Class 1: 0.4113, Class 2: 0.0582, Class 3: 0.3214, Class 4: 0.6199, Class 5: 0.3724, Class 6: 0.8202, \n",
      "Validation F-beta Score\n",
      "Class 0: 0.9750, Class 1: 0.5408, Class 2: 0.0670, Class 3: 0.5439, Class 4: 0.7608, Class 5: 0.5350, Class 6: 0.8311, \n",
      "Validation mIoU Score\n",
      "Class 0: 0.9674, Class 1: 0.2600, Class 2: 0.0301, Class 3: 0.1921, Class 4: 0.4506, Class 5: 0.2302, Class 6: 0.6966, \n",
      "\n",
      "Overall Mean Dice Score: 0.5090\n",
      "Overall Mean F-beta Score: 0.6423\n",
      "Overall Mean IoU Score: 0.3659\n",
      "Training Loss: 0.4548, Validation Loss: 0.4750, Validation F-beta: 0.5317\n",
      "Epoch 15/4000\n"
     ]
    },
    {
     "name": "stderr",
     "output_type": "stream",
     "text": [
      "Training: 100%|██████████| 102/102 [01:39<00:00,  1.02it/s, loss=0.471]\n",
      "Validation: 100%|██████████| 20/20 [00:19<00:00,  1.01it/s, loss=0.473]\n"
     ]
    },
    {
     "name": "stdout",
     "output_type": "stream",
     "text": [
      "Validation Dice Score\n",
      "Class 0: 0.9843, Class 1: 0.4091, Class 2: 0.0553, Class 3: 0.3459, Class 4: 0.6377, Class 5: 0.4010, Class 6: 0.8217, \n",
      "Validation F-beta Score\n",
      "Class 0: 0.9766, Class 1: 0.5320, Class 2: 0.0676, Class 3: 0.5182, Class 4: 0.7613, Class 5: 0.5659, Class 6: 0.8526, \n",
      "Validation mIoU Score\n",
      "Class 0: 0.9691, Class 1: 0.2585, Class 2: 0.0287, Class 3: 0.2096, Class 4: 0.4697, Class 5: 0.2514, Class 6: 0.6986, \n",
      "\n",
      "Overall Mean Dice Score: 0.5231\n",
      "Overall Mean F-beta Score: 0.6460\n",
      "Overall Mean IoU Score: 0.3775\n",
      "Training Loss: 0.4526, Validation Loss: 0.4720, Validation F-beta: 0.5386\n",
      "Epoch 16/4000\n"
     ]
    },
    {
     "name": "stderr",
     "output_type": "stream",
     "text": [
      "Training: 100%|██████████| 102/102 [01:40<00:00,  1.01it/s, loss=0.472]\n",
      "Validation: 100%|██████████| 20/20 [00:19<00:00,  1.04it/s, loss=0.47] \n"
     ]
    },
    {
     "name": "stdout",
     "output_type": "stream",
     "text": [
      "Validation Dice Score\n",
      "Class 0: 0.9849, Class 1: 0.4532, Class 2: 0.0646, Class 3: 0.3214, Class 4: 0.6349, Class 5: 0.4251, Class 6: 0.8307, \n",
      "Validation F-beta Score\n",
      "Class 0: 0.9778, Class 1: 0.5112, Class 2: 0.0933, Class 3: 0.5553, Class 4: 0.7654, Class 5: 0.5478, Class 6: 0.8690, \n",
      "Validation mIoU Score\n",
      "Class 0: 0.9703, Class 1: 0.2953, Class 2: 0.0335, Class 3: 0.1925, Class 4: 0.4669, Class 5: 0.2710, Class 6: 0.7111, \n",
      "\n",
      "Overall Mean Dice Score: 0.5331\n",
      "Overall Mean F-beta Score: 0.6497\n",
      "Overall Mean IoU Score: 0.3874\n",
      "Training Loss: 0.4514, Validation Loss: 0.4682, Validation F-beta: 0.5448\n",
      "========================================================\n",
      "SUPER Best model saved. Loss:0.4682, Score:0.5448\n",
      "========================================================\n",
      "Epoch 17/4000\n"
     ]
    },
    {
     "name": "stderr",
     "output_type": "stream",
     "text": [
      "Training: 100%|██████████| 102/102 [01:41<00:00,  1.01it/s, loss=0.471]\n",
      "Validation: 100%|██████████| 20/20 [00:19<00:00,  1.05it/s, loss=0.462]\n"
     ]
    },
    {
     "name": "stdout",
     "output_type": "stream",
     "text": [
      "Validation Dice Score\n",
      "Class 0: 0.9841, Class 1: 0.4095, Class 2: 0.0683, Class 3: 0.3525, Class 4: 0.6324, Class 5: 0.3831, Class 6: 0.8378, \n",
      "Validation F-beta Score\n",
      "Class 0: 0.9764, Class 1: 0.5523, Class 2: 0.0939, Class 3: 0.5306, Class 4: 0.7628, Class 5: 0.5335, Class 6: 0.8682, \n",
      "Validation mIoU Score\n",
      "Class 0: 0.9688, Class 1: 0.2591, Class 2: 0.0358, Class 3: 0.2143, Class 4: 0.4641, Class 5: 0.2384, Class 6: 0.7219, \n",
      "\n",
      "Overall Mean Dice Score: 0.5230\n",
      "Overall Mean F-beta Score: 0.6495\n",
      "Overall Mean IoU Score: 0.3796\n",
      "Training Loss: 0.4490, Validation Loss: 0.4691, Validation F-beta: 0.5415\n",
      "Epoch 18/4000\n"
     ]
    },
    {
     "name": "stderr",
     "output_type": "stream",
     "text": [
      "Training: 100%|██████████| 102/102 [01:42<00:00,  1.00s/it, loss=0.465]\n",
      "Validation: 100%|██████████| 20/20 [00:19<00:00,  1.03it/s, loss=0.453]\n"
     ]
    },
    {
     "name": "stdout",
     "output_type": "stream",
     "text": [
      "Validation Dice Score\n",
      "Class 0: 0.9836, Class 1: 0.4150, Class 2: 0.0836, Class 3: 0.3196, Class 4: 0.6468, Class 5: 0.3961, Class 6: 0.8167, \n",
      "Validation F-beta Score\n",
      "Class 0: 0.9753, Class 1: 0.5144, Class 2: 0.1225, Class 3: 0.5720, Class 4: 0.7644, Class 5: 0.5513, Class 6: 0.8647, \n",
      "Validation mIoU Score\n",
      "Class 0: 0.9678, Class 1: 0.2634, Class 2: 0.0442, Class 3: 0.1913, Class 4: 0.4789, Class 5: 0.2475, Class 6: 0.6909, \n",
      "\n",
      "Overall Mean Dice Score: 0.5188\n",
      "Overall Mean F-beta Score: 0.6533\n",
      "Overall Mean IoU Score: 0.3744\n",
      "Training Loss: 0.4469, Validation Loss: 0.4713, Validation F-beta: 0.5418\n",
      "Epoch 19/4000\n"
     ]
    },
    {
     "name": "stderr",
     "output_type": "stream",
     "text": [
      "Training: 100%|██████████| 102/102 [01:43<00:00,  1.01s/it, loss=0.461]\n",
      "Validation: 100%|██████████| 20/20 [00:18<00:00,  1.06it/s, loss=0.464]\n"
     ]
    },
    {
     "name": "stdout",
     "output_type": "stream",
     "text": [
      "Validation Dice Score\n",
      "Class 0: 0.9836, Class 1: 0.4379, Class 2: 0.0752, Class 3: 0.3324, Class 4: 0.6381, Class 5: 0.4191, Class 6: 0.8281, \n",
      "Validation F-beta Score\n",
      "Class 0: 0.9749, Class 1: 0.5346, Class 2: 0.1191, Class 3: 0.5568, Class 4: 0.7861, Class 5: 0.5517, Class 6: 0.8986, \n",
      "Validation mIoU Score\n",
      "Class 0: 0.9677, Class 1: 0.2826, Class 2: 0.0394, Class 3: 0.2003, Class 4: 0.4694, Class 5: 0.2658, Class 6: 0.7079, \n",
      "\n",
      "Overall Mean Dice Score: 0.5311\n",
      "Overall Mean F-beta Score: 0.6656\n",
      "Overall Mean IoU Score: 0.3852\n",
      "Training Loss: 0.4467, Validation Loss: 0.4694, Validation F-beta: 0.5534\n",
      "Epoch 20/4000\n"
     ]
    },
    {
     "name": "stderr",
     "output_type": "stream",
     "text": [
      "Training: 100%|██████████| 102/102 [01:46<00:00,  1.04s/it, loss=0.474]\n",
      "Validation: 100%|██████████| 20/20 [00:18<00:00,  1.06it/s, loss=0.454]\n"
     ]
    },
    {
     "name": "stdout",
     "output_type": "stream",
     "text": [
      "Validation Dice Score\n",
      "Class 0: 0.9846, Class 1: 0.4363, Class 2: 0.0974, Class 3: 0.3536, Class 4: 0.6587, Class 5: 0.4009, Class 6: 0.8337, \n",
      "Validation F-beta Score\n",
      "Class 0: 0.9770, Class 1: 0.5530, Class 2: 0.1294, Class 3: 0.5566, Class 4: 0.7723, Class 5: 0.5547, Class 6: 0.8797, \n",
      "Validation mIoU Score\n",
      "Class 0: 0.9696, Class 1: 0.2806, Class 2: 0.0516, Class 3: 0.2154, Class 4: 0.4924, Class 5: 0.2517, Class 6: 0.7154, \n",
      "\n",
      "Overall Mean Dice Score: 0.5367\n",
      "Overall Mean F-beta Score: 0.6633\n",
      "Overall Mean IoU Score: 0.3911\n",
      "Training Loss: 0.4458, Validation Loss: 0.4668, Validation F-beta: 0.5544\n",
      "========================================================\n",
      "SUPER Best model saved. Loss:0.4668, Score:0.5544\n",
      "========================================================\n",
      "Epoch 21/4000\n"
     ]
    },
    {
     "name": "stderr",
     "output_type": "stream",
     "text": [
      "Training: 100%|██████████| 102/102 [01:42<00:00,  1.00s/it, loss=0.455]\n",
      "Validation: 100%|██████████| 20/20 [00:18<00:00,  1.05it/s, loss=0.463]\n"
     ]
    },
    {
     "name": "stdout",
     "output_type": "stream",
     "text": [
      "Validation Dice Score\n",
      "Class 0: 0.9830, Class 1: 0.4565, Class 2: 0.0979, Class 3: 0.3563, Class 4: 0.6231, Class 5: 0.4070, Class 6: 0.8267, \n",
      "Validation F-beta Score\n",
      "Class 0: 0.9737, Class 1: 0.5955, Class 2: 0.1366, Class 3: 0.5433, Class 4: 0.7930, Class 5: 0.5760, Class 6: 0.8828, \n",
      "Validation mIoU Score\n",
      "Class 0: 0.9667, Class 1: 0.2969, Class 2: 0.0521, Class 3: 0.2177, Class 4: 0.4550, Class 5: 0.2566, Class 6: 0.7055, \n",
      "\n",
      "Overall Mean Dice Score: 0.5339\n",
      "Overall Mean F-beta Score: 0.6781\n",
      "Overall Mean IoU Score: 0.3863\n",
      "Training Loss: 0.4437, Validation Loss: 0.4678, Validation F-beta: 0.5614\n",
      "Epoch 22/4000\n"
     ]
    },
    {
     "name": "stderr",
     "output_type": "stream",
     "text": [
      "Training: 100%|██████████| 102/102 [01:42<00:00,  1.00s/it, loss=0.465]\n",
      "Validation: 100%|██████████| 20/20 [00:19<00:00,  1.00it/s, loss=0.451]\n"
     ]
    },
    {
     "name": "stdout",
     "output_type": "stream",
     "text": [
      "Validation Dice Score\n",
      "Class 0: 0.9852, Class 1: 0.4566, Class 2: 0.1023, Class 3: 0.3427, Class 4: 0.6384, Class 5: 0.4264, Class 6: 0.8523, \n",
      "Validation F-beta Score\n",
      "Class 0: 0.9788, Class 1: 0.5758, Class 2: 0.1457, Class 3: 0.5430, Class 4: 0.7601, Class 5: 0.5217, Class 6: 0.9029, \n",
      "Validation mIoU Score\n",
      "Class 0: 0.9709, Class 1: 0.2969, Class 2: 0.0543, Class 3: 0.2074, Class 4: 0.4703, Class 5: 0.2726, Class 6: 0.7433, \n",
      "\n",
      "Overall Mean Dice Score: 0.5433\n",
      "Overall Mean F-beta Score: 0.6607\n",
      "Overall Mean IoU Score: 0.3981\n",
      "Training Loss: 0.4426, Validation Loss: 0.4648, Validation F-beta: 0.5557\n",
      "========================================================\n",
      "SUPER Best model saved. Loss:0.4648, Score:0.5557\n",
      "========================================================\n",
      "Epoch 23/4000\n"
     ]
    },
    {
     "name": "stderr",
     "output_type": "stream",
     "text": [
      "Training: 100%|██████████| 102/102 [01:42<00:00,  1.00s/it, loss=0.459]\n",
      "Validation: 100%|██████████| 20/20 [00:20<00:00,  1.02s/it, loss=0.456]\n"
     ]
    },
    {
     "name": "stdout",
     "output_type": "stream",
     "text": [
      "Validation Dice Score\n",
      "Class 0: 0.9840, Class 1: 0.4464, Class 2: 0.1003, Class 3: 0.3609, Class 4: 0.6403, Class 5: 0.3936, Class 6: 0.8376, \n",
      "Validation F-beta Score\n",
      "Class 0: 0.9753, Class 1: 0.5350, Class 2: 0.1455, Class 3: 0.5319, Class 4: 0.7859, Class 5: 0.5779, Class 6: 0.8957, \n",
      "Validation mIoU Score\n",
      "Class 0: 0.9685, Class 1: 0.2891, Class 2: 0.0534, Class 3: 0.2212, Class 4: 0.4723, Class 5: 0.2460, Class 6: 0.7214, \n",
      "\n",
      "Overall Mean Dice Score: 0.5358\n",
      "Overall Mean F-beta Score: 0.6653\n",
      "Overall Mean IoU Score: 0.3900\n",
      "Training Loss: 0.4422, Validation Loss: 0.4683, Validation F-beta: 0.5552\n",
      "Epoch 24/4000\n"
     ]
    },
    {
     "name": "stderr",
     "output_type": "stream",
     "text": [
      "Training: 100%|██████████| 102/102 [01:41<00:00,  1.00it/s, loss=0.474]\n",
      "Validation: 100%|██████████| 20/20 [00:19<00:00,  1.00it/s, loss=0.459]\n"
     ]
    },
    {
     "name": "stdout",
     "output_type": "stream",
     "text": [
      "Validation Dice Score\n",
      "Class 0: 0.9842, Class 1: 0.4689, Class 2: 0.1029, Class 3: 0.3834, Class 4: 0.6354, Class 5: 0.3904, Class 6: 0.8361, \n",
      "Validation F-beta Score\n",
      "Class 0: 0.9759, Class 1: 0.5441, Class 2: 0.1328, Class 3: 0.5431, Class 4: 0.7815, Class 5: 0.5620, Class 6: 0.9027, \n",
      "Validation mIoU Score\n",
      "Class 0: 0.9689, Class 1: 0.3079, Class 2: 0.0547, Class 3: 0.2384, Class 4: 0.4668, Class 5: 0.2439, Class 6: 0.7190, \n",
      "\n",
      "Overall Mean Dice Score: 0.5428\n",
      "Overall Mean F-beta Score: 0.6667\n",
      "Overall Mean IoU Score: 0.3952\n",
      "Training Loss: 0.4415, Validation Loss: 0.4672, Validation F-beta: 0.5581\n",
      "Epoch 25/4000\n"
     ]
    },
    {
     "name": "stderr",
     "output_type": "stream",
     "text": [
      "Training: 100%|██████████| 102/102 [01:41<00:00,  1.00it/s, loss=0.452]\n",
      "Validation: 100%|██████████| 20/20 [00:18<00:00,  1.06it/s, loss=0.457]\n"
     ]
    },
    {
     "name": "stdout",
     "output_type": "stream",
     "text": [
      "Validation Dice Score\n",
      "Class 0: 0.9847, Class 1: 0.4343, Class 2: 0.1084, Class 3: 0.3459, Class 4: 0.6541, Class 5: 0.4346, Class 6: 0.8437, \n",
      "Validation F-beta Score\n",
      "Class 0: 0.9771, Class 1: 0.5932, Class 2: 0.1579, Class 3: 0.5603, Class 4: 0.7771, Class 5: 0.5783, Class 6: 0.9009, \n",
      "Validation mIoU Score\n",
      "Class 0: 0.9700, Class 1: 0.2786, Class 2: 0.0580, Class 3: 0.2098, Class 4: 0.4867, Class 5: 0.2789, Class 6: 0.7302, \n",
      "\n",
      "Overall Mean Dice Score: 0.5425\n",
      "Overall Mean F-beta Score: 0.6819\n",
      "Overall Mean IoU Score: 0.3968\n",
      "Training Loss: 0.4396, Validation Loss: 0.4620, Validation F-beta: 0.5679\n",
      "========================================================\n",
      "SUPER Best model saved. Loss:0.4620, Score:0.5679\n",
      "========================================================\n",
      "Epoch 26/4000\n"
     ]
    },
    {
     "name": "stderr",
     "output_type": "stream",
     "text": [
      "Training: 100%|██████████| 102/102 [01:42<00:00,  1.01s/it, loss=0.479]\n",
      "Validation: 100%|██████████| 20/20 [00:18<00:00,  1.06it/s, loss=0.448]\n"
     ]
    },
    {
     "name": "stdout",
     "output_type": "stream",
     "text": [
      "Validation Dice Score\n",
      "Class 0: 0.9860, Class 1: 0.4754, Class 2: 0.1097, Class 3: 0.3262, Class 4: 0.6608, Class 5: 0.4438, Class 6: 0.8543, \n",
      "Validation F-beta Score\n",
      "Class 0: 0.9797, Class 1: 0.6281, Class 2: 0.1856, Class 3: 0.5443, Class 4: 0.7643, Class 5: 0.5460, Class 6: 0.9168, \n",
      "Validation mIoU Score\n",
      "Class 0: 0.9724, Class 1: 0.3127, Class 2: 0.0586, Class 3: 0.1959, Class 4: 0.4945, Class 5: 0.2861, Class 6: 0.7462, \n",
      "\n",
      "Overall Mean Dice Score: 0.5521\n",
      "Overall Mean F-beta Score: 0.6799\n",
      "Overall Mean IoU Score: 0.4071\n",
      "Training Loss: 0.4390, Validation Loss: 0.4609, Validation F-beta: 0.5708\n",
      "========================================================\n",
      "SUPER Best model saved. Loss:0.4609, Score:0.5708\n",
      "========================================================\n",
      "Epoch 27/4000\n"
     ]
    },
    {
     "name": "stderr",
     "output_type": "stream",
     "text": [
      "Training: 100%|██████████| 102/102 [01:42<00:00,  1.00s/it, loss=0.454]\n",
      "Validation: 100%|██████████| 20/20 [00:18<00:00,  1.05it/s, loss=0.446]\n"
     ]
    },
    {
     "name": "stdout",
     "output_type": "stream",
     "text": [
      "Validation Dice Score\n",
      "Class 0: 0.9848, Class 1: 0.4658, Class 2: 0.1163, Class 3: 0.3383, Class 4: 0.6579, Class 5: 0.4246, Class 6: 0.8601, \n",
      "Validation F-beta Score\n",
      "Class 0: 0.9770, Class 1: 0.5913, Class 2: 0.2186, Class 3: 0.5526, Class 4: 0.7677, Class 5: 0.5936, Class 6: 0.9146, \n",
      "Validation mIoU Score\n",
      "Class 0: 0.9701, Class 1: 0.3057, Class 2: 0.0623, Class 3: 0.2045, Class 4: 0.4909, Class 5: 0.2714, Class 6: 0.7548, \n",
      "\n",
      "Overall Mean Dice Score: 0.5493\n",
      "Overall Mean F-beta Score: 0.6839\n",
      "Overall Mean IoU Score: 0.4054\n",
      "Training Loss: 0.4381, Validation Loss: 0.4612, Validation F-beta: 0.5725\n",
      "Epoch 28/4000\n"
     ]
    },
    {
     "name": "stderr",
     "output_type": "stream",
     "text": [
      "Training: 100%|██████████| 102/102 [01:39<00:00,  1.02it/s, loss=0.468]\n",
      "Validation: 100%|██████████| 20/20 [00:19<00:00,  1.01it/s, loss=0.444]\n"
     ]
    },
    {
     "name": "stdout",
     "output_type": "stream",
     "text": [
      "Validation Dice Score\n",
      "Class 0: 0.9849, Class 1: 0.4793, Class 2: 0.1096, Class 3: 0.3723, Class 4: 0.6508, Class 5: 0.4209, Class 6: 0.8456, \n",
      "Validation F-beta Score\n",
      "Class 0: 0.9776, Class 1: 0.5690, Class 2: 0.1759, Class 3: 0.5574, Class 4: 0.7618, Class 5: 0.5696, Class 6: 0.8990, \n",
      "Validation mIoU Score\n",
      "Class 0: 0.9702, Class 1: 0.3165, Class 2: 0.0586, Class 3: 0.2296, Class 4: 0.4837, Class 5: 0.2679, Class 6: 0.7333, \n",
      "\n",
      "Overall Mean Dice Score: 0.5538\n",
      "Overall Mean F-beta Score: 0.6714\n",
      "Overall Mean IoU Score: 0.4062\n",
      "Training Loss: 0.4370, Validation Loss: 0.4619, Validation F-beta: 0.5653\n",
      "Epoch 29/4000\n"
     ]
    },
    {
     "name": "stderr",
     "output_type": "stream",
     "text": [
      "Training: 100%|██████████| 102/102 [01:41<00:00,  1.00it/s, loss=0.455]\n",
      "Validation: 100%|██████████| 20/20 [00:20<00:00,  1.01s/it, loss=0.454]\n"
     ]
    },
    {
     "name": "stdout",
     "output_type": "stream",
     "text": [
      "Validation Dice Score\n",
      "Class 0: 0.9852, Class 1: 0.4744, Class 2: 0.1004, Class 3: 0.3454, Class 4: 0.6544, Class 5: 0.4361, Class 6: 0.8451, \n",
      "Validation F-beta Score\n",
      "Class 0: 0.9781, Class 1: 0.5979, Class 2: 0.1620, Class 3: 0.5612, Class 4: 0.7700, Class 5: 0.5706, Class 6: 0.9218, \n",
      "Validation mIoU Score\n",
      "Class 0: 0.9709, Class 1: 0.3122, Class 2: 0.0535, Class 3: 0.2101, Class 4: 0.4865, Class 5: 0.2799, Class 6: 0.7334, \n",
      "\n",
      "Overall Mean Dice Score: 0.5511\n",
      "Overall Mean F-beta Score: 0.6843\n",
      "Overall Mean IoU Score: 0.4044\n",
      "Training Loss: 0.4376, Validation Loss: 0.4615, Validation F-beta: 0.5723\n",
      "Epoch 30/4000\n"
     ]
    },
    {
     "name": "stderr",
     "output_type": "stream",
     "text": [
      "Training: 100%|██████████| 102/102 [01:40<00:00,  1.01it/s, loss=0.466]\n",
      "Validation: 100%|██████████| 20/20 [00:19<00:00,  1.01it/s, loss=0.449]\n"
     ]
    },
    {
     "name": "stdout",
     "output_type": "stream",
     "text": [
      "Validation Dice Score\n",
      "Class 0: 0.9841, Class 1: 0.5032, Class 2: 0.1129, Class 3: 0.3488, Class 4: 0.6589, Class 5: 0.4132, Class 6: 0.8582, \n",
      "Validation F-beta Score\n",
      "Class 0: 0.9757, Class 1: 0.5704, Class 2: 0.2134, Class 3: 0.5541, Class 4: 0.7827, Class 5: 0.6010, Class 6: 0.9119, \n",
      "Validation mIoU Score\n",
      "Class 0: 0.9688, Class 1: 0.3378, Class 2: 0.0605, Class 3: 0.2120, Class 4: 0.4921, Class 5: 0.2613, Class 6: 0.7521, \n",
      "\n",
      "Overall Mean Dice Score: 0.5565\n",
      "Overall Mean F-beta Score: 0.6840\n",
      "Overall Mean IoU Score: 0.4110\n",
      "Training Loss: 0.4357, Validation Loss: 0.4621, Validation F-beta: 0.5748\n",
      "Epoch 31/4000\n"
     ]
    },
    {
     "name": "stderr",
     "output_type": "stream",
     "text": [
      "Training: 100%|██████████| 102/102 [01:42<00:00,  1.00s/it, loss=0.454]\n",
      "Validation: 100%|██████████| 20/20 [00:19<00:00,  1.00it/s, loss=0.446]\n"
     ]
    },
    {
     "name": "stdout",
     "output_type": "stream",
     "text": [
      "Validation Dice Score\n",
      "Class 0: 0.9841, Class 1: 0.5002, Class 2: 0.0876, Class 3: 0.3422, Class 4: 0.6598, Class 5: 0.4280, Class 6: 0.8606, \n",
      "Validation F-beta Score\n",
      "Class 0: 0.9756, Class 1: 0.5886, Class 2: 0.1821, Class 3: 0.6008, Class 4: 0.7829, Class 5: 0.5922, Class 6: 0.9092, \n",
      "Validation mIoU Score\n",
      "Class 0: 0.9687, Class 1: 0.3350, Class 2: 0.0460, Class 3: 0.2075, Class 4: 0.4933, Class 5: 0.2736, Class 6: 0.7563, \n",
      "\n",
      "Overall Mean Dice Score: 0.5582\n",
      "Overall Mean F-beta Score: 0.6947\n",
      "Overall Mean IoU Score: 0.4132\n",
      "Training Loss: 0.4349, Validation Loss: 0.4617, Validation F-beta: 0.5821\n",
      "Epoch 32/4000\n"
     ]
    },
    {
     "name": "stderr",
     "output_type": "stream",
     "text": [
      "Training: 100%|██████████| 102/102 [01:41<00:00,  1.01it/s, loss=0.453]\n",
      "Validation: 100%|██████████| 20/20 [00:18<00:00,  1.06it/s, loss=0.458]\n"
     ]
    },
    {
     "name": "stdout",
     "output_type": "stream",
     "text": [
      "Validation Dice Score\n",
      "Class 0: 0.9842, Class 1: 0.4766, Class 2: 0.1062, Class 3: 0.3376, Class 4: 0.6629, Class 5: 0.4142, Class 6: 0.8458, \n",
      "Validation F-beta Score\n",
      "Class 0: 0.9761, Class 1: 0.5856, Class 2: 0.1774, Class 3: 0.5854, Class 4: 0.7736, Class 5: 0.5768, Class 6: 0.9119, \n",
      "Validation mIoU Score\n",
      "Class 0: 0.9690, Class 1: 0.3144, Class 2: 0.0567, Class 3: 0.2043, Class 4: 0.4966, Class 5: 0.2616, Class 6: 0.7337, \n",
      "\n",
      "Overall Mean Dice Score: 0.5474\n",
      "Overall Mean F-beta Score: 0.6867\n",
      "Overall Mean IoU Score: 0.4021\n",
      "Training Loss: 0.4338, Validation Loss: 0.4626, Validation F-beta: 0.5728\n",
      "Epoch 33/4000\n"
     ]
    },
    {
     "name": "stderr",
     "output_type": "stream",
     "text": [
      "Training: 100%|██████████| 102/102 [01:41<00:00,  1.00it/s, loss=0.454]\n",
      "Validation: 100%|██████████| 20/20 [00:19<00:00,  1.04it/s, loss=0.454]\n"
     ]
    },
    {
     "name": "stdout",
     "output_type": "stream",
     "text": [
      "Validation Dice Score\n",
      "Class 0: 0.9841, Class 1: 0.5203, Class 2: 0.1102, Class 3: 0.3388, Class 4: 0.6521, Class 5: 0.4295, Class 6: 0.8385, \n",
      "Validation F-beta Score\n",
      "Class 0: 0.9757, Class 1: 0.6014, Class 2: 0.2136, Class 3: 0.5381, Class 4: 0.7959, Class 5: 0.5734, Class 6: 0.9280, \n",
      "Validation mIoU Score\n",
      "Class 0: 0.9687, Class 1: 0.3537, Class 2: 0.0589, Class 3: 0.2049, Class 4: 0.4857, Class 5: 0.2741, Class 6: 0.7227, \n",
      "\n",
      "Overall Mean Dice Score: 0.5558\n",
      "Overall Mean F-beta Score: 0.6874\n",
      "Overall Mean IoU Score: 0.4082\n",
      "Training Loss: 0.4350, Validation Loss: 0.4600, Validation F-beta: 0.5757\n",
      "========================================================\n",
      "SUPER Best model saved. Loss:0.4600, Score:0.5757\n",
      "========================================================\n",
      "Epoch 34/4000\n"
     ]
    },
    {
     "name": "stderr",
     "output_type": "stream",
     "text": [
      "Training: 100%|██████████| 102/102 [01:44<00:00,  1.02s/it, loss=0.458]\n",
      "Validation: 100%|██████████| 20/20 [00:19<00:00,  1.04it/s, loss=0.458]\n"
     ]
    },
    {
     "name": "stdout",
     "output_type": "stream",
     "text": [
      "Validation Dice Score\n",
      "Class 0: 0.9843, Class 1: 0.4600, Class 2: 0.1058, Class 3: 0.3540, Class 4: 0.6601, Class 5: 0.4193, Class 6: 0.8539, \n",
      "Validation F-beta Score\n",
      "Class 0: 0.9762, Class 1: 0.5656, Class 2: 0.2017, Class 3: 0.5707, Class 4: 0.7803, Class 5: 0.5834, Class 6: 0.9150, \n",
      "Validation mIoU Score\n",
      "Class 0: 0.9692, Class 1: 0.3006, Class 2: 0.0565, Class 3: 0.2161, Class 4: 0.4932, Class 5: 0.2666, Class 6: 0.7458, \n",
      "\n",
      "Overall Mean Dice Score: 0.5495\n",
      "Overall Mean F-beta Score: 0.6830\n",
      "Overall Mean IoU Score: 0.4045\n",
      "Training Loss: 0.4340, Validation Loss: 0.4640, Validation F-beta: 0.5716\n",
      "Epoch 35/4000\n"
     ]
    },
    {
     "name": "stderr",
     "output_type": "stream",
     "text": [
      "Training: 100%|██████████| 102/102 [01:41<00:00,  1.01it/s, loss=0.455]\n",
      "Validation: 100%|██████████| 20/20 [00:19<00:00,  1.01it/s, loss=0.453]\n"
     ]
    },
    {
     "name": "stdout",
     "output_type": "stream",
     "text": [
      "Validation Dice Score\n",
      "Class 0: 0.9847, Class 1: 0.4602, Class 2: 0.0941, Class 3: 0.3378, Class 4: 0.6592, Class 5: 0.4298, Class 6: 0.8518, \n",
      "Validation F-beta Score\n",
      "Class 0: 0.9768, Class 1: 0.5912, Class 2: 0.1777, Class 3: 0.5936, Class 4: 0.7889, Class 5: 0.5666, Class 6: 0.9189, \n",
      "Validation mIoU Score\n",
      "Class 0: 0.9698, Class 1: 0.3029, Class 2: 0.0500, Class 3: 0.2048, Class 4: 0.4925, Class 5: 0.2747, Class 6: 0.7428, \n",
      "\n",
      "Overall Mean Dice Score: 0.5478\n",
      "Overall Mean F-beta Score: 0.6918\n",
      "Overall Mean IoU Score: 0.4035\n",
      "Training Loss: 0.4332, Validation Loss: 0.4619, Validation F-beta: 0.5765\n",
      "Epoch 36/4000\n"
     ]
    },
    {
     "name": "stderr",
     "output_type": "stream",
     "text": [
      "Training: 100%|██████████| 102/102 [01:40<00:00,  1.01it/s, loss=0.467]\n",
      "Validation: 100%|██████████| 20/20 [00:20<00:00,  1.00s/it, loss=0.454]\n"
     ]
    },
    {
     "name": "stdout",
     "output_type": "stream",
     "text": [
      "Validation Dice Score\n",
      "Class 0: 0.9848, Class 1: 0.4944, Class 2: 0.0940, Class 3: 0.3488, Class 4: 0.6667, Class 5: 0.4272, Class 6: 0.8648, \n",
      "Validation F-beta Score\n",
      "Class 0: 0.9774, Class 1: 0.5753, Class 2: 0.2124, Class 3: 0.6018, Class 4: 0.7670, Class 5: 0.5579, Class 6: 0.9147, \n",
      "Validation mIoU Score\n",
      "Class 0: 0.9700, Class 1: 0.3301, Class 2: 0.0498, Class 3: 0.2124, Class 4: 0.5004, Class 5: 0.2721, Class 6: 0.7622, \n",
      "\n",
      "Overall Mean Dice Score: 0.5604\n",
      "Overall Mean F-beta Score: 0.6833\n",
      "Overall Mean IoU Score: 0.4154\n",
      "Training Loss: 0.4339, Validation Loss: 0.4599, Validation F-beta: 0.5762\n",
      "========================================================\n",
      "SUPER Best model saved. Loss:0.4599, Score:0.5762\n",
      "========================================================\n",
      "Epoch 37/4000\n"
     ]
    },
    {
     "name": "stderr",
     "output_type": "stream",
     "text": [
      "Training: 100%|██████████| 102/102 [01:41<00:00,  1.01it/s, loss=0.464]\n",
      "Validation: 100%|██████████| 20/20 [00:19<00:00,  1.00it/s, loss=0.447]\n"
     ]
    },
    {
     "name": "stdout",
     "output_type": "stream",
     "text": [
      "Validation Dice Score\n",
      "Class 0: 0.9841, Class 1: 0.4985, Class 2: 0.1146, Class 3: 0.3532, Class 4: 0.6572, Class 5: 0.4198, Class 6: 0.8470, \n",
      "Validation F-beta Score\n",
      "Class 0: 0.9754, Class 1: 0.6032, Class 2: 0.2338, Class 3: 0.5778, Class 4: 0.7824, Class 5: 0.5979, Class 6: 0.9091, \n",
      "Validation mIoU Score\n",
      "Class 0: 0.9687, Class 1: 0.3328, Class 2: 0.0614, Class 3: 0.2151, Class 4: 0.4902, Class 5: 0.2671, Class 6: 0.7356, \n",
      "\n",
      "Overall Mean Dice Score: 0.5551\n",
      "Overall Mean F-beta Score: 0.6941\n",
      "Overall Mean IoU Score: 0.4082\n",
      "Training Loss: 0.4331, Validation Loss: 0.4601, Validation F-beta: 0.5797\n",
      "Epoch 38/4000\n"
     ]
    },
    {
     "name": "stderr",
     "output_type": "stream",
     "text": [
      "Training: 100%|██████████| 102/102 [01:40<00:00,  1.02it/s, loss=0.464]\n",
      "Validation: 100%|██████████| 20/20 [00:19<00:00,  1.04it/s, loss=0.45] \n"
     ]
    },
    {
     "name": "stdout",
     "output_type": "stream",
     "text": [
      "Validation Dice Score\n",
      "Class 0: 0.9839, Class 1: 0.4985, Class 2: 0.0946, Class 3: 0.3703, Class 4: 0.6602, Class 5: 0.4051, Class 6: 0.8574, \n",
      "Validation F-beta Score\n",
      "Class 0: 0.9750, Class 1: 0.5970, Class 2: 0.1842, Class 3: 0.5793, Class 4: 0.7813, Class 5: 0.5981, Class 6: 0.9297, \n",
      "Validation mIoU Score\n",
      "Class 0: 0.9683, Class 1: 0.3337, Class 2: 0.0503, Class 3: 0.2291, Class 4: 0.4932, Class 5: 0.2549, Class 6: 0.7506, \n",
      "\n",
      "Overall Mean Dice Score: 0.5583\n",
      "Overall Mean F-beta Score: 0.6971\n",
      "Overall Mean IoU Score: 0.4123\n",
      "Training Loss: 0.4316, Validation Loss: 0.4598, Validation F-beta: 0.5832\n",
      "========================================================\n",
      "SUPER Best model saved. Loss:0.4598, Score:0.5832\n",
      "========================================================\n",
      "Epoch 39/4000\n"
     ]
    },
    {
     "name": "stderr",
     "output_type": "stream",
     "text": [
      "Training: 100%|██████████| 102/102 [01:41<00:00,  1.00it/s, loss=0.465]\n",
      "Validation: 100%|██████████| 20/20 [00:18<00:00,  1.06it/s, loss=0.448]\n"
     ]
    },
    {
     "name": "stdout",
     "output_type": "stream",
     "text": [
      "Validation Dice Score\n",
      "Class 0: 0.9846, Class 1: 0.4763, Class 2: 0.1228, Class 3: 0.3463, Class 4: 0.6738, Class 5: 0.4174, Class 6: 0.8440, \n",
      "Validation F-beta Score\n",
      "Class 0: 0.9767, Class 1: 0.6013, Class 2: 0.2492, Class 3: 0.5467, Class 4: 0.7847, Class 5: 0.5789, Class 6: 0.9214, \n",
      "Validation mIoU Score\n",
      "Class 0: 0.9696, Class 1: 0.3143, Class 2: 0.0659, Class 3: 0.2110, Class 4: 0.5095, Class 5: 0.2646, Class 6: 0.7312, \n",
      "\n",
      "Overall Mean Dice Score: 0.5516\n",
      "Overall Mean F-beta Score: 0.6866\n",
      "Overall Mean IoU Score: 0.4061\n",
      "Training Loss: 0.4320, Validation Loss: 0.4612, Validation F-beta: 0.5744\n",
      "Epoch 40/4000\n"
     ]
    },
    {
     "name": "stderr",
     "output_type": "stream",
     "text": [
      "Training: 100%|██████████| 102/102 [01:42<00:00,  1.01s/it, loss=0.448]\n",
      "Validation: 100%|██████████| 20/20 [00:18<00:00,  1.05it/s, loss=0.446]\n"
     ]
    },
    {
     "name": "stdout",
     "output_type": "stream",
     "text": [
      "Validation Dice Score\n",
      "Class 0: 0.9841, Class 1: 0.4888, Class 2: 0.1171, Class 3: 0.3517, Class 4: 0.6620, Class 5: 0.4233, Class 6: 0.8507, \n",
      "Validation F-beta Score\n",
      "Class 0: 0.9755, Class 1: 0.5707, Class 2: 0.2131, Class 3: 0.5642, Class 4: 0.7919, Class 5: 0.5999, Class 6: 0.9143, \n",
      "Validation mIoU Score\n",
      "Class 0: 0.9687, Class 1: 0.3247, Class 2: 0.0627, Class 3: 0.2146, Class 4: 0.4952, Class 5: 0.2701, Class 6: 0.7408, \n",
      "\n",
      "Overall Mean Dice Score: 0.5553\n",
      "Overall Mean F-beta Score: 0.6882\n",
      "Overall Mean IoU Score: 0.4091\n",
      "Training Loss: 0.4323, Validation Loss: 0.4609, Validation F-beta: 0.5765\n",
      "Epoch 41/4000\n"
     ]
    },
    {
     "name": "stderr",
     "output_type": "stream",
     "text": [
      "Training: 100%|██████████| 102/102 [01:41<00:00,  1.01it/s, loss=0.449]\n",
      "Validation: 100%|██████████| 20/20 [00:19<00:00,  1.02it/s, loss=0.456]\n"
     ]
    },
    {
     "name": "stdout",
     "output_type": "stream",
     "text": [
      "Validation Dice Score\n",
      "Class 0: 0.9840, Class 1: 0.4777, Class 2: 0.1030, Class 3: 0.3319, Class 4: 0.6606, Class 5: 0.4366, Class 6: 0.8506, \n",
      "Validation F-beta Score\n",
      "Class 0: 0.9751, Class 1: 0.5711, Class 2: 0.2133, Class 3: 0.5520, Class 4: 0.7846, Class 5: 0.6219, Class 6: 0.9121, \n",
      "Validation mIoU Score\n",
      "Class 0: 0.9684, Class 1: 0.3161, Class 2: 0.0548, Class 3: 0.1998, Class 4: 0.4946, Class 5: 0.2804, Class 6: 0.7411, \n",
      "\n",
      "Overall Mean Dice Score: 0.5515\n",
      "Overall Mean F-beta Score: 0.6883\n",
      "Overall Mean IoU Score: 0.4064\n",
      "Training Loss: 0.4296, Validation Loss: 0.4644, Validation F-beta: 0.5755\n",
      "Epoch 42/4000\n"
     ]
    },
    {
     "name": "stderr",
     "output_type": "stream",
     "text": [
      "Training: 100%|██████████| 102/102 [01:40<00:00,  1.01it/s, loss=0.449]\n",
      "Validation: 100%|██████████| 20/20 [00:19<00:00,  1.01it/s, loss=0.454]\n"
     ]
    },
    {
     "name": "stdout",
     "output_type": "stream",
     "text": [
      "Validation Dice Score\n",
      "Class 0: 0.9840, Class 1: 0.4907, Class 2: 0.1074, Class 3: 0.3446, Class 4: 0.6681, Class 5: 0.4196, Class 6: 0.8569, \n",
      "Validation F-beta Score\n",
      "Class 0: 0.9753, Class 1: 0.5959, Class 2: 0.2356, Class 3: 0.5405, Class 4: 0.7969, Class 5: 0.5928, Class 6: 0.9275, \n",
      "Validation mIoU Score\n",
      "Class 0: 0.9685, Class 1: 0.3266, Class 2: 0.0573, Class 3: 0.2096, Class 4: 0.5027, Class 5: 0.2662, Class 6: 0.7506, \n",
      "\n",
      "Overall Mean Dice Score: 0.5560\n",
      "Overall Mean F-beta Score: 0.6907\n",
      "Overall Mean IoU Score: 0.4111\n",
      "Training Loss: 0.4320, Validation Loss: 0.4612, Validation F-beta: 0.5789\n",
      "Epoch 43/4000\n"
     ]
    },
    {
     "name": "stderr",
     "output_type": "stream",
     "text": [
      "Training: 100%|██████████| 102/102 [01:41<00:00,  1.01it/s, loss=0.451]\n",
      "Validation: 100%|██████████| 20/20 [00:19<00:00,  1.02it/s, loss=0.458]\n"
     ]
    },
    {
     "name": "stdout",
     "output_type": "stream",
     "text": [
      "Validation Dice Score\n",
      "Class 0: 0.9844, Class 1: 0.4698, Class 2: 0.0896, Class 3: 0.3436, Class 4: 0.6716, Class 5: 0.4291, Class 6: 0.8529, \n",
      "Validation F-beta Score\n",
      "Class 0: 0.9762, Class 1: 0.5803, Class 2: 0.2023, Class 3: 0.5739, Class 4: 0.7744, Class 5: 0.5972, Class 6: 0.9186, \n",
      "Validation mIoU Score\n",
      "Class 0: 0.9692, Class 1: 0.3099, Class 2: 0.0474, Class 3: 0.2085, Class 4: 0.5064, Class 5: 0.2743, Class 6: 0.7445, \n",
      "\n",
      "Overall Mean Dice Score: 0.5534\n",
      "Overall Mean F-beta Score: 0.6889\n",
      "Overall Mean IoU Score: 0.4087\n",
      "Training Loss: 0.4301, Validation Loss: 0.4603, Validation F-beta: 0.5768\n",
      "Epoch 44/4000\n"
     ]
    },
    {
     "name": "stderr",
     "output_type": "stream",
     "text": [
      "Training: 100%|██████████| 102/102 [01:40<00:00,  1.01it/s, loss=0.449]\n",
      "Validation: 100%|██████████| 20/20 [00:19<00:00,  1.05it/s, loss=0.456]\n"
     ]
    },
    {
     "name": "stdout",
     "output_type": "stream",
     "text": [
      "Validation Dice Score\n",
      "Class 0: 0.9844, Class 1: 0.5031, Class 2: 0.1146, Class 3: 0.3255, Class 4: 0.6685, Class 5: 0.4204, Class 6: 0.8538, \n",
      "Validation F-beta Score\n",
      "Class 0: 0.9761, Class 1: 0.5549, Class 2: 0.2223, Class 3: 0.5823, Class 4: 0.7911, Class 5: 0.5695, Class 6: 0.9185, \n",
      "Validation mIoU Score\n",
      "Class 0: 0.9692, Class 1: 0.3372, Class 2: 0.0615, Class 3: 0.1959, Class 4: 0.5025, Class 5: 0.2674, Class 6: 0.7460, \n",
      "\n",
      "Overall Mean Dice Score: 0.5543\n",
      "Overall Mean F-beta Score: 0.6832\n",
      "Overall Mean IoU Score: 0.4098\n",
      "Training Loss: 0.4295, Validation Loss: 0.4596, Validation F-beta: 0.5739\n",
      "Epoch 45/4000\n"
     ]
    },
    {
     "name": "stderr",
     "output_type": "stream",
     "text": [
      "Training: 100%|██████████| 102/102 [01:43<00:00,  1.01s/it, loss=0.449]\n",
      "Validation: 100%|██████████| 20/20 [00:19<00:00,  1.05it/s, loss=0.453]\n"
     ]
    },
    {
     "name": "stdout",
     "output_type": "stream",
     "text": [
      "Validation Dice Score\n",
      "Class 0: 0.9839, Class 1: 0.4969, Class 2: 0.0995, Class 3: 0.3367, Class 4: 0.6715, Class 5: 0.4240, Class 6: 0.8298, \n",
      "Validation F-beta Score\n",
      "Class 0: 0.9751, Class 1: 0.5824, Class 2: 0.2018, Class 3: 0.5468, Class 4: 0.8022, Class 5: 0.5929, Class 6: 0.9261, \n",
      "Validation mIoU Score\n",
      "Class 0: 0.9684, Class 1: 0.3319, Class 2: 0.0528, Class 3: 0.2041, Class 4: 0.5063, Class 5: 0.2700, Class 6: 0.7102, \n",
      "\n",
      "Overall Mean Dice Score: 0.5518\n",
      "Overall Mean F-beta Score: 0.6901\n",
      "Overall Mean IoU Score: 0.4045\n",
      "Training Loss: 0.4291, Validation Loss: 0.4620, Validation F-beta: 0.5759\n",
      "Epoch 46/4000\n"
     ]
    },
    {
     "name": "stderr",
     "output_type": "stream",
     "text": [
      "Training: 100%|██████████| 102/102 [01:41<00:00,  1.00it/s, loss=0.448]\n",
      "Validation: 100%|██████████| 20/20 [00:19<00:00,  1.05it/s, loss=0.455]\n"
     ]
    },
    {
     "name": "stdout",
     "output_type": "stream",
     "text": [
      "Validation Dice Score\n",
      "Class 0: 0.9844, Class 1: 0.4730, Class 2: 0.1031, Class 3: 0.3154, Class 4: 0.6821, Class 5: 0.4126, Class 6: 0.8640, \n",
      "Validation F-beta Score\n",
      "Class 0: 0.9765, Class 1: 0.5525, Class 2: 0.2285, Class 3: 0.5515, Class 4: 0.7708, Class 5: 0.5704, Class 6: 0.9148, \n",
      "Validation mIoU Score\n",
      "Class 0: 0.9693, Class 1: 0.3110, Class 2: 0.0551, Class 3: 0.1888, Class 4: 0.5183, Class 5: 0.2612, Class 6: 0.7609, \n",
      "\n",
      "Overall Mean Dice Score: 0.5494\n",
      "Overall Mean F-beta Score: 0.6720\n",
      "Overall Mean IoU Score: 0.4080\n",
      "Training Loss: 0.4289, Validation Loss: 0.4621, Validation F-beta: 0.5664\n",
      "Epoch 47/4000\n"
     ]
    },
    {
     "name": "stderr",
     "output_type": "stream",
     "text": [
      "Training: 100%|██████████| 102/102 [01:41<00:00,  1.01it/s, loss=0.456]\n",
      "Validation: 100%|██████████| 20/20 [00:19<00:00,  1.01it/s, loss=0.456]\n"
     ]
    },
    {
     "name": "stdout",
     "output_type": "stream",
     "text": [
      "Validation Dice Score\n",
      "Class 0: 0.9846, Class 1: 0.4814, Class 2: 0.0949, Class 3: 0.3321, Class 4: 0.6748, Class 5: 0.4314, Class 6: 0.8528, \n",
      "Validation F-beta Score\n",
      "Class 0: 0.9768, Class 1: 0.5917, Class 2: 0.2320, Class 3: 0.5805, Class 4: 0.7898, Class 5: 0.5525, Class 6: 0.9331, \n",
      "Validation mIoU Score\n",
      "Class 0: 0.9696, Class 1: 0.3204, Class 2: 0.0503, Class 3: 0.1999, Class 4: 0.5097, Class 5: 0.2764, Class 6: 0.7440, \n",
      "\n",
      "Overall Mean Dice Score: 0.5545\n",
      "Overall Mean F-beta Score: 0.6895\n",
      "Overall Mean IoU Score: 0.4101\n",
      "Training Loss: 0.4291, Validation Loss: 0.4615, Validation F-beta: 0.5777\n",
      "Epoch 48/4000\n"
     ]
    },
    {
     "name": "stderr",
     "output_type": "stream",
     "text": [
      "Training: 100%|██████████| 102/102 [01:41<00:00,  1.01it/s, loss=0.461]\n",
      "Validation: 100%|██████████| 20/20 [00:19<00:00,  1.02it/s, loss=0.446]\n"
     ]
    },
    {
     "name": "stdout",
     "output_type": "stream",
     "text": [
      "Validation Dice Score\n",
      "Class 0: 0.9841, Class 1: 0.4923, Class 2: 0.0859, Class 3: 0.3634, Class 4: 0.6776, Class 5: 0.4107, Class 6: 0.8379, \n",
      "Validation F-beta Score\n",
      "Class 0: 0.9750, Class 1: 0.6108, Class 2: 0.1969, Class 3: 0.5626, Class 4: 0.8076, Class 5: 0.6102, Class 6: 0.9317, \n",
      "Validation mIoU Score\n",
      "Class 0: 0.9687, Class 1: 0.3286, Class 2: 0.0453, Class 3: 0.2237, Class 4: 0.5129, Class 5: 0.2602, Class 6: 0.7219, \n",
      "\n",
      "Overall Mean Dice Score: 0.5564\n",
      "Overall Mean F-beta Score: 0.7046\n",
      "Overall Mean IoU Score: 0.4095\n",
      "Training Loss: 0.4281, Validation Loss: 0.4608, Validation F-beta: 0.5865\n",
      "Epoch 49/4000\n"
     ]
    },
    {
     "name": "stderr",
     "output_type": "stream",
     "text": [
      "Training: 100%|██████████| 102/102 [01:40<00:00,  1.02it/s, loss=0.461]\n",
      "Validation: 100%|██████████| 20/20 [00:20<00:00,  1.00s/it, loss=0.463]\n"
     ]
    },
    {
     "name": "stdout",
     "output_type": "stream",
     "text": [
      "Validation Dice Score\n",
      "Class 0: 0.9838, Class 1: 0.4930, Class 2: 0.0974, Class 3: 0.3324, Class 4: 0.6775, Class 5: 0.4050, Class 6: 0.8589, \n",
      "Validation F-beta Score\n",
      "Class 0: 0.9750, Class 1: 0.5792, Class 2: 0.2098, Class 3: 0.5685, Class 4: 0.7810, Class 5: 0.5888, Class 6: 0.9236, \n",
      "Validation mIoU Score\n",
      "Class 0: 0.9681, Class 1: 0.3287, Class 2: 0.0516, Class 3: 0.2010, Class 4: 0.5131, Class 5: 0.2555, Class 6: 0.7533, \n",
      "\n",
      "Overall Mean Dice Score: 0.5534\n",
      "Overall Mean F-beta Score: 0.6882\n",
      "Overall Mean IoU Score: 0.4103\n",
      "Training Loss: 0.4285, Validation Loss: 0.4618, Validation F-beta: 0.5771\n",
      "Epoch 50/4000\n"
     ]
    },
    {
     "name": "stderr",
     "output_type": "stream",
     "text": [
      "Training: 100%|██████████| 102/102 [01:40<00:00,  1.01it/s, loss=0.458]\n",
      "Validation: 100%|██████████| 20/20 [00:23<00:00,  1.19s/it, loss=0.452]\n"
     ]
    },
    {
     "name": "stdout",
     "output_type": "stream",
     "text": [
      "Validation Dice Score\n",
      "Class 0: 0.9844, Class 1: 0.4798, Class 2: 0.1153, Class 3: 0.3331, Class 4: 0.6785, Class 5: 0.4107, Class 6: 0.8633, \n",
      "Validation F-beta Score\n",
      "Class 0: 0.9763, Class 1: 0.5749, Class 2: 0.2517, Class 3: 0.5914, Class 4: 0.7810, Class 5: 0.5655, Class 6: 0.9203, \n",
      "Validation mIoU Score\n",
      "Class 0: 0.9693, Class 1: 0.3186, Class 2: 0.0615, Class 3: 0.2008, Class 4: 0.5138, Class 5: 0.2597, Class 6: 0.7603, \n",
      "\n",
      "Overall Mean Dice Score: 0.5531\n",
      "Overall Mean F-beta Score: 0.6866\n",
      "Overall Mean IoU Score: 0.4106\n",
      "Training Loss: 0.4281, Validation Loss: 0.4612, Validation F-beta: 0.5762\n",
      "Epoch 51/4000\n"
     ]
    },
    {
     "name": "stderr",
     "output_type": "stream",
     "text": [
      "Training: 100%|██████████| 102/102 [01:43<00:00,  1.01s/it, loss=0.443]\n",
      "Validation: 100%|██████████| 20/20 [00:19<00:00,  1.05it/s, loss=0.451]\n"
     ]
    },
    {
     "name": "stdout",
     "output_type": "stream",
     "text": [
      "Validation Dice Score\n",
      "Class 0: 0.9843, Class 1: 0.5012, Class 2: 0.1086, Class 3: 0.3186, Class 4: 0.6834, Class 5: 0.4365, Class 6: 0.8583, \n",
      "Validation F-beta Score\n",
      "Class 0: 0.9756, Class 1: 0.6001, Class 2: 0.2508, Class 3: 0.5596, Class 4: 0.8083, Class 5: 0.5921, Class 6: 0.9327, \n",
      "Validation mIoU Score\n",
      "Class 0: 0.9690, Class 1: 0.3360, Class 2: 0.0579, Class 3: 0.1918, Class 4: 0.5196, Class 5: 0.2803, Class 6: 0.7527, \n",
      "\n",
      "Overall Mean Dice Score: 0.5596\n",
      "Overall Mean F-beta Score: 0.6986\n",
      "Overall Mean IoU Score: 0.4161\n",
      "Training Loss: 0.4284, Validation Loss: 0.4590, Validation F-beta: 0.5856\n",
      "========================================================\n",
      "SUPER Best model saved. Loss:0.4590, Score:0.5856\n",
      "========================================================\n",
      "Epoch 52/4000\n"
     ]
    },
    {
     "name": "stderr",
     "output_type": "stream",
     "text": [
      "Training: 100%|██████████| 102/102 [01:41<00:00,  1.01it/s, loss=0.446]\n",
      "Validation: 100%|██████████| 20/20 [00:18<00:00,  1.05it/s, loss=0.449]\n"
     ]
    },
    {
     "name": "stdout",
     "output_type": "stream",
     "text": [
      "Validation Dice Score\n",
      "Class 0: 0.9833, Class 1: 0.5247, Class 2: 0.1242, Class 3: 0.3371, Class 4: 0.6589, Class 5: 0.4053, Class 6: 0.8589, \n",
      "Validation F-beta Score\n",
      "Class 0: 0.9738, Class 1: 0.5982, Class 2: 0.2297, Class 3: 0.5320, Class 4: 0.7929, Class 5: 0.6300, Class 6: 0.9115, \n",
      "Validation mIoU Score\n",
      "Class 0: 0.9673, Class 1: 0.3584, Class 2: 0.0673, Class 3: 0.2045, Class 4: 0.4924, Class 5: 0.2555, Class 6: 0.7534, \n",
      "\n",
      "Overall Mean Dice Score: 0.5570\n",
      "Overall Mean F-beta Score: 0.6929\n",
      "Overall Mean IoU Score: 0.4128\n",
      "Training Loss: 0.4271, Validation Loss: 0.4626, Validation F-beta: 0.5809\n",
      "Epoch 53/4000\n"
     ]
    },
    {
     "name": "stderr",
     "output_type": "stream",
     "text": [
      "Training: 100%|██████████| 102/102 [01:40<00:00,  1.02it/s, loss=0.435]\n",
      "Validation: 100%|██████████| 20/20 [00:19<00:00,  1.00it/s, loss=0.457]\n"
     ]
    },
    {
     "name": "stdout",
     "output_type": "stream",
     "text": [
      "Validation Dice Score\n",
      "Class 0: 0.9834, Class 1: 0.5237, Class 2: 0.0821, Class 3: 0.3327, Class 4: 0.6694, Class 5: 0.4092, Class 6: 0.8447, \n",
      "Validation F-beta Score\n",
      "Class 0: 0.9736, Class 1: 0.5947, Class 2: 0.2157, Class 3: 0.5564, Class 4: 0.8044, Class 5: 0.6136, Class 6: 0.9275, \n",
      "Validation mIoU Score\n",
      "Class 0: 0.9673, Class 1: 0.3571, Class 2: 0.0431, Class 3: 0.2014, Class 4: 0.5036, Class 5: 0.2585, Class 6: 0.7321, \n",
      "\n",
      "Overall Mean Dice Score: 0.5560\n",
      "Overall Mean F-beta Score: 0.6993\n",
      "Overall Mean IoU Score: 0.4105\n",
      "Training Loss: 0.4290, Validation Loss: 0.4611, Validation F-beta: 0.5838\n",
      "Epoch 54/4000\n"
     ]
    },
    {
     "name": "stderr",
     "output_type": "stream",
     "text": [
      "Training: 100%|██████████| 102/102 [01:41<00:00,  1.01it/s, loss=0.455]\n",
      "Validation: 100%|██████████| 20/20 [00:19<00:00,  1.02it/s, loss=0.444]\n"
     ]
    },
    {
     "name": "stdout",
     "output_type": "stream",
     "text": [
      "Validation Dice Score\n",
      "Class 0: 0.9831, Class 1: 0.4743, Class 2: 0.0878, Class 3: 0.3488, Class 4: 0.6853, Class 5: 0.4142, Class 6: 0.8529, \n",
      "Validation F-beta Score\n",
      "Class 0: 0.9729, Class 1: 0.5405, Class 2: 0.1968, Class 3: 0.5609, Class 4: 0.8080, Class 5: 0.6539, Class 6: 0.9321, \n",
      "Validation mIoU Score\n",
      "Class 0: 0.9668, Class 1: 0.3144, Class 2: 0.0463, Class 3: 0.2136, Class 4: 0.5216, Class 5: 0.2632, Class 6: 0.7444, \n",
      "\n",
      "Overall Mean Dice Score: 0.5551\n",
      "Overall Mean F-beta Score: 0.6991\n",
      "Overall Mean IoU Score: 0.4114\n",
      "Training Loss: 0.4273, Validation Loss: 0.4617, Validation F-beta: 0.5840\n",
      "Epoch 55/4000\n"
     ]
    },
    {
     "name": "stderr",
     "output_type": "stream",
     "text": [
      "Training: 100%|██████████| 102/102 [01:41<00:00,  1.01it/s, loss=0.438]\n",
      "Validation: 100%|██████████| 20/20 [00:19<00:00,  1.02it/s, loss=0.467]\n"
     ]
    },
    {
     "name": "stdout",
     "output_type": "stream",
     "text": [
      "Validation Dice Score\n",
      "Class 0: 0.9829, Class 1: 0.5088, Class 2: 0.1090, Class 3: 0.3288, Class 4: 0.6724, Class 5: 0.4027, Class 6: 0.8510, \n",
      "Validation F-beta Score\n",
      "Class 0: 0.9728, Class 1: 0.5544, Class 2: 0.2252, Class 3: 0.5640, Class 4: 0.8118, Class 5: 0.6206, Class 6: 0.9258, \n",
      "Validation mIoU Score\n",
      "Class 0: 0.9664, Class 1: 0.3448, Class 2: 0.0579, Class 3: 0.1980, Class 4: 0.5075, Class 5: 0.2534, Class 6: 0.7420, \n",
      "\n",
      "Overall Mean Dice Score: 0.5527\n",
      "Overall Mean F-beta Score: 0.6953\n",
      "Overall Mean IoU Score: 0.4092\n",
      "Training Loss: 0.4261, Validation Loss: 0.4636, Validation F-beta: 0.5808\n",
      "Epoch 56/4000\n"
     ]
    },
    {
     "name": "stderr",
     "output_type": "stream",
     "text": [
      "Training: 100%|██████████| 102/102 [01:40<00:00,  1.01it/s, loss=0.445]\n",
      "Validation: 100%|██████████| 20/20 [00:19<00:00,  1.01it/s, loss=0.454]\n"
     ]
    },
    {
     "name": "stdout",
     "output_type": "stream",
     "text": [
      "Validation Dice Score\n",
      "Class 0: 0.9836, Class 1: 0.5045, Class 2: 0.1155, Class 3: 0.3363, Class 4: 0.6882, Class 5: 0.4338, Class 6: 0.8563, \n",
      "Validation F-beta Score\n",
      "Class 0: 0.9746, Class 1: 0.5853, Class 2: 0.2536, Class 3: 0.5833, Class 4: 0.7994, Class 5: 0.6193, Class 6: 0.9338, \n",
      "Validation mIoU Score\n",
      "Class 0: 0.9678, Class 1: 0.3415, Class 2: 0.0622, Class 3: 0.2042, Class 4: 0.5251, Class 5: 0.2782, Class 6: 0.7497, \n",
      "\n",
      "Overall Mean Dice Score: 0.5638\n",
      "Overall Mean F-beta Score: 0.7042\n",
      "Overall Mean IoU Score: 0.4197\n",
      "Training Loss: 0.4272, Validation Loss: 0.4605, Validation F-beta: 0.5904\n",
      "Epoch 57/4000\n"
     ]
    },
    {
     "name": "stderr",
     "output_type": "stream",
     "text": [
      "Training: 100%|██████████| 102/102 [01:40<00:00,  1.01it/s, loss=0.442]\n",
      "Validation: 100%|██████████| 20/20 [00:19<00:00,  1.05it/s, loss=0.456]\n"
     ]
    },
    {
     "name": "stdout",
     "output_type": "stream",
     "text": [
      "Validation Dice Score\n",
      "Class 0: 0.9828, Class 1: 0.4984, Class 2: 0.0941, Class 3: 0.3532, Class 4: 0.6798, Class 5: 0.4102, Class 6: 0.8515, \n",
      "Validation F-beta Score\n",
      "Class 0: 0.9728, Class 1: 0.5990, Class 2: 0.2132, Class 3: 0.6070, Class 4: 0.8045, Class 5: 0.6203, Class 6: 0.9225, \n",
      "Validation mIoU Score\n",
      "Class 0: 0.9662, Class 1: 0.3344, Class 2: 0.0500, Class 3: 0.2154, Class 4: 0.5155, Class 5: 0.2592, Class 6: 0.7421, \n",
      "\n",
      "Overall Mean Dice Score: 0.5586\n",
      "Overall Mean F-beta Score: 0.7107\n",
      "Overall Mean IoU Score: 0.4133\n",
      "Training Loss: 0.4263, Validation Loss: 0.4618, Validation F-beta: 0.5917\n",
      "Epoch 58/4000\n"
     ]
    },
    {
     "name": "stderr",
     "output_type": "stream",
     "text": [
      "Training: 100%|██████████| 102/102 [01:42<00:00,  1.00s/it, loss=0.463]\n",
      "Validation: 100%|██████████| 20/20 [00:18<00:00,  1.06it/s, loss=0.449]\n"
     ]
    },
    {
     "name": "stdout",
     "output_type": "stream",
     "text": [
      "Validation Dice Score\n",
      "Class 0: 0.9833, Class 1: 0.5201, Class 2: 0.0888, Class 3: 0.3281, Class 4: 0.6808, Class 5: 0.4206, Class 6: 0.8482, \n",
      "Validation F-beta Score\n",
      "Class 0: 0.9733, Class 1: 0.6065, Class 2: 0.2071, Class 3: 0.5980, Class 4: 0.8157, Class 5: 0.6137, Class 6: 0.9334, \n",
      "Validation mIoU Score\n",
      "Class 0: 0.9671, Class 1: 0.3539, Class 2: 0.0468, Class 3: 0.1979, Class 4: 0.5164, Class 5: 0.2673, Class 6: 0.7370, \n",
      "\n",
      "Overall Mean Dice Score: 0.5596\n",
      "Overall Mean F-beta Score: 0.7135\n",
      "Overall Mean IoU Score: 0.4145\n",
      "Training Loss: 0.4262, Validation Loss: 0.4614, Validation F-beta: 0.5939\n",
      "Epoch 59/4000\n"
     ]
    },
    {
     "name": "stderr",
     "output_type": "stream",
     "text": [
      "Training: 100%|██████████| 102/102 [01:40<00:00,  1.01it/s, loss=0.436]\n",
      "Validation: 100%|██████████| 20/20 [00:18<00:00,  1.07it/s, loss=0.45] \n"
     ]
    },
    {
     "name": "stdout",
     "output_type": "stream",
     "text": [
      "Validation Dice Score\n",
      "Class 0: 0.9830, Class 1: 0.4989, Class 2: 0.0996, Class 3: 0.3827, Class 4: 0.6823, Class 5: 0.4151, Class 6: 0.8517, \n",
      "Validation F-beta Score\n",
      "Class 0: 0.9733, Class 1: 0.5714, Class 2: 0.2414, Class 3: 0.6057, Class 4: 0.7877, Class 5: 0.6473, Class 6: 0.9306, \n",
      "Validation mIoU Score\n",
      "Class 0: 0.9666, Class 1: 0.3339, Class 2: 0.0530, Class 3: 0.2382, Class 4: 0.5184, Class 5: 0.2632, Class 6: 0.7433, \n",
      "\n",
      "Overall Mean Dice Score: 0.5661\n",
      "Overall Mean F-beta Score: 0.7085\n",
      "Overall Mean IoU Score: 0.4194\n",
      "Training Loss: 0.4273, Validation Loss: 0.4607, Validation F-beta: 0.5929\n",
      "Epoch 60/4000\n"
     ]
    },
    {
     "name": "stderr",
     "output_type": "stream",
     "text": [
      "Training: 100%|██████████| 102/102 [01:41<00:00,  1.00it/s, loss=0.447]\n",
      "Validation: 100%|██████████| 20/20 [00:18<00:00,  1.06it/s, loss=0.449]\n"
     ]
    },
    {
     "name": "stdout",
     "output_type": "stream",
     "text": [
      "Validation Dice Score\n",
      "Class 0: 0.9831, Class 1: 0.4985, Class 2: 0.0933, Class 3: 0.3545, Class 4: 0.6766, Class 5: 0.4110, Class 6: 0.8545, \n",
      "Validation F-beta Score\n",
      "Class 0: 0.9728, Class 1: 0.6202, Class 2: 0.2044, Class 3: 0.6086, Class 4: 0.8163, Class 5: 0.6324, Class 6: 0.9364, \n",
      "Validation mIoU Score\n",
      "Class 0: 0.9668, Class 1: 0.3343, Class 2: 0.0495, Class 3: 0.2171, Class 4: 0.5121, Class 5: 0.2602, Class 6: 0.7467, \n",
      "\n",
      "Overall Mean Dice Score: 0.5590\n",
      "Overall Mean F-beta Score: 0.7228\n",
      "Overall Mean IoU Score: 0.4141\n",
      "Training Loss: 0.4267, Validation Loss: 0.4584, Validation F-beta: 0.5993\n",
      "========================================================\n",
      "SUPER Best model saved. Loss:0.4584, Score:0.5993\n",
      "========================================================\n",
      "Epoch 61/4000\n"
     ]
    },
    {
     "name": "stderr",
     "output_type": "stream",
     "text": [
      "Training: 100%|██████████| 102/102 [01:41<00:00,  1.01it/s, loss=0.439]\n",
      "Validation: 100%|██████████| 20/20 [00:19<00:00,  1.02it/s, loss=0.46] \n"
     ]
    },
    {
     "name": "stdout",
     "output_type": "stream",
     "text": [
      "Validation Dice Score\n",
      "Class 0: 0.9815, Class 1: 0.5184, Class 2: 0.0800, Class 3: 0.3731, Class 4: 0.6607, Class 5: 0.4006, Class 6: 0.8482, \n",
      "Validation F-beta Score\n",
      "Class 0: 0.9696, Class 1: 0.6102, Class 2: 0.1781, Class 3: 0.5870, Class 4: 0.8214, Class 5: 0.6617, Class 6: 0.9340, \n",
      "Validation mIoU Score\n",
      "Class 0: 0.9636, Class 1: 0.3530, Class 2: 0.0421, Class 3: 0.2309, Class 4: 0.4939, Class 5: 0.2516, Class 6: 0.7372, \n",
      "\n",
      "Overall Mean Dice Score: 0.5602\n",
      "Overall Mean F-beta Score: 0.7228\n",
      "Overall Mean IoU Score: 0.4133\n",
      "Training Loss: 0.4261, Validation Loss: 0.4644, Validation F-beta: 0.5990\n",
      "Epoch 62/4000\n"
     ]
    },
    {
     "name": "stderr",
     "output_type": "stream",
     "text": [
      "Training: 100%|██████████| 102/102 [01:40<00:00,  1.01it/s, loss=0.445]\n",
      "Validation: 100%|██████████| 20/20 [00:20<00:00,  1.00s/it, loss=0.441]\n"
     ]
    },
    {
     "name": "stdout",
     "output_type": "stream",
     "text": [
      "Validation Dice Score\n",
      "Class 0: 0.9830, Class 1: 0.4313, Class 2: 0.0846, Class 3: 0.3550, Class 4: 0.6663, Class 5: 0.4355, Class 6: 0.8583, \n",
      "Validation F-beta Score\n",
      "Class 0: 0.9729, Class 1: 0.6431, Class 2: 0.1790, Class 3: 0.5742, Class 4: 0.8091, Class 5: 0.6494, Class 6: 0.9265, \n",
      "Validation mIoU Score\n",
      "Class 0: 0.9666, Class 1: 0.2766, Class 2: 0.0448, Class 3: 0.2169, Class 4: 0.5002, Class 5: 0.2806, Class 6: 0.7528, \n",
      "\n",
      "Overall Mean Dice Score: 0.5493\n",
      "Overall Mean F-beta Score: 0.7205\n",
      "Overall Mean IoU Score: 0.4054\n",
      "Training Loss: 0.4262, Validation Loss: 0.4604, Validation F-beta: 0.5944\n",
      "Epoch 63/4000\n"
     ]
    },
    {
     "name": "stderr",
     "output_type": "stream",
     "text": [
      "Training: 100%|██████████| 102/102 [01:42<00:00,  1.00s/it, loss=0.443]\n",
      "Validation: 100%|██████████| 20/20 [00:19<00:00,  1.01it/s, loss=0.441]\n"
     ]
    },
    {
     "name": "stdout",
     "output_type": "stream",
     "text": [
      "Validation Dice Score\n",
      "Class 0: 0.9833, Class 1: 0.4713, Class 2: 0.0994, Class 3: 0.3709, Class 4: 0.6800, Class 5: 0.4210, Class 6: 0.8600, \n",
      "Validation F-beta Score\n",
      "Class 0: 0.9735, Class 1: 0.6359, Class 2: 0.2028, Class 3: 0.6063, Class 4: 0.8127, Class 5: 0.6302, Class 6: 0.9401, \n",
      "Validation mIoU Score\n",
      "Class 0: 0.9672, Class 1: 0.3097, Class 2: 0.0531, Class 3: 0.2286, Class 4: 0.5158, Class 5: 0.2674, Class 6: 0.7549, \n",
      "\n",
      "Overall Mean Dice Score: 0.5606\n",
      "Overall Mean F-beta Score: 0.7251\n",
      "Overall Mean IoU Score: 0.4153\n",
      "Training Loss: 0.4239, Validation Loss: 0.4577, Validation F-beta: 0.6011\n",
      "========================================================\n",
      "SUPER Best model saved. Loss:0.4577, Score:0.6011\n",
      "========================================================\n",
      "Epoch 64/4000\n"
     ]
    },
    {
     "name": "stderr",
     "output_type": "stream",
     "text": [
      "Training: 100%|██████████| 102/102 [01:41<00:00,  1.01it/s, loss=0.449]\n",
      "Validation: 100%|██████████| 20/20 [00:20<00:00,  1.00s/it, loss=0.456]\n"
     ]
    },
    {
     "name": "stdout",
     "output_type": "stream",
     "text": [
      "Validation Dice Score\n",
      "Class 0: 0.9834, Class 1: 0.4611, Class 2: 0.0889, Class 3: 0.3685, Class 4: 0.6799, Class 5: 0.4276, Class 6: 0.8567, \n",
      "Validation F-beta Score\n",
      "Class 0: 0.9739, Class 1: 0.6716, Class 2: 0.2036, Class 3: 0.5855, Class 4: 0.8041, Class 5: 0.6255, Class 6: 0.9415, \n",
      "Validation mIoU Score\n",
      "Class 0: 0.9674, Class 1: 0.3027, Class 2: 0.0471, Class 3: 0.2274, Class 4: 0.5155, Class 5: 0.2732, Class 6: 0.7499, \n",
      "\n",
      "Overall Mean Dice Score: 0.5588\n",
      "Overall Mean F-beta Score: 0.7256\n",
      "Overall Mean IoU Score: 0.4138\n",
      "Training Loss: 0.4252, Validation Loss: 0.4581, Validation F-beta: 0.6009\n",
      "Epoch 65/4000\n"
     ]
    },
    {
     "name": "stderr",
     "output_type": "stream",
     "text": [
      "Training: 100%|██████████| 102/102 [01:40<00:00,  1.01it/s, loss=0.44] \n",
      "Validation: 100%|██████████| 20/20 [00:18<00:00,  1.07it/s, loss=0.446]\n"
     ]
    },
    {
     "name": "stdout",
     "output_type": "stream",
     "text": [
      "Validation Dice Score\n",
      "Class 0: 0.9832, Class 1: 0.4880, Class 2: 0.0849, Class 3: 0.3700, Class 4: 0.6839, Class 5: 0.4089, Class 6: 0.8541, \n",
      "Validation F-beta Score\n",
      "Class 0: 0.9736, Class 1: 0.6672, Class 2: 0.2061, Class 3: 0.5783, Class 4: 0.8051, Class 5: 0.6158, Class 6: 0.9316, \n",
      "Validation mIoU Score\n",
      "Class 0: 0.9670, Class 1: 0.3240, Class 2: 0.0447, Class 3: 0.2287, Class 4: 0.5202, Class 5: 0.2585, Class 6: 0.7460, \n",
      "\n",
      "Overall Mean Dice Score: 0.5610\n",
      "Overall Mean F-beta Score: 0.7196\n",
      "Overall Mean IoU Score: 0.4155\n",
      "Training Loss: 0.4255, Validation Loss: 0.4598, Validation F-beta: 0.5980\n",
      "Epoch 66/4000\n"
     ]
    },
    {
     "name": "stderr",
     "output_type": "stream",
     "text": [
      "Training: 100%|██████████| 102/102 [01:42<00:00,  1.00s/it, loss=0.457]\n",
      "Validation: 100%|██████████| 20/20 [00:19<00:00,  1.05it/s, loss=0.447]\n"
     ]
    },
    {
     "name": "stdout",
     "output_type": "stream",
     "text": [
      "Validation Dice Score\n",
      "Class 0: 0.9831, Class 1: 0.4751, Class 2: 0.0851, Class 3: 0.3488, Class 4: 0.6585, Class 5: 0.4029, Class 6: 0.8668, \n",
      "Validation F-beta Score\n",
      "Class 0: 0.9730, Class 1: 0.6856, Class 2: 0.1997, Class 3: 0.5435, Class 4: 0.8002, Class 5: 0.6226, Class 6: 0.9321, \n",
      "Validation mIoU Score\n",
      "Class 0: 0.9668, Class 1: 0.3127, Class 2: 0.0448, Class 3: 0.2127, Class 4: 0.4927, Class 5: 0.2536, Class 6: 0.7655, \n",
      "\n",
      "Overall Mean Dice Score: 0.5504\n",
      "Overall Mean F-beta Score: 0.7168\n",
      "Overall Mean IoU Score: 0.4074\n",
      "Training Loss: 0.4254, Validation Loss: 0.4598, Validation F-beta: 0.5931\n",
      "Epoch 67/4000\n"
     ]
    },
    {
     "name": "stderr",
     "output_type": "stream",
     "text": [
      "Training: 100%|██████████| 102/102 [01:40<00:00,  1.01it/s, loss=0.449]\n",
      "Validation: 100%|██████████| 20/20 [00:19<00:00,  1.04it/s, loss=0.453]\n"
     ]
    },
    {
     "name": "stdout",
     "output_type": "stream",
     "text": [
      "Validation Dice Score\n",
      "Class 0: 0.9824, Class 1: 0.4736, Class 2: 0.0837, Class 3: 0.3678, Class 4: 0.6638, Class 5: 0.4221, Class 6: 0.8472, \n",
      "Validation F-beta Score\n",
      "Class 0: 0.9718, Class 1: 0.6779, Class 2: 0.2138, Class 3: 0.5823, Class 4: 0.8107, Class 5: 0.6291, Class 6: 0.9396, \n",
      "Validation mIoU Score\n",
      "Class 0: 0.9654, Class 1: 0.3114, Class 2: 0.0441, Class 3: 0.2268, Class 4: 0.4976, Class 5: 0.2688, Class 6: 0.7357, \n",
      "\n",
      "Overall Mean Dice Score: 0.5549\n",
      "Overall Mean F-beta Score: 0.7279\n",
      "Overall Mean IoU Score: 0.4081\n",
      "Training Loss: 0.4245, Validation Loss: 0.4625, Validation F-beta: 0.6000\n",
      "Epoch 68/4000\n"
     ]
    },
    {
     "name": "stderr",
     "output_type": "stream",
     "text": [
      "Training: 100%|██████████| 102/102 [01:40<00:00,  1.01it/s, loss=0.437]\n",
      "Validation: 100%|██████████| 20/20 [00:20<00:00,  1.01s/it, loss=0.447]\n"
     ]
    },
    {
     "name": "stdout",
     "output_type": "stream",
     "text": [
      "Validation Dice Score\n",
      "Class 0: 0.9831, Class 1: 0.4719, Class 2: 0.0835, Class 3: 0.3731, Class 4: 0.6796, Class 5: 0.4243, Class 6: 0.8438, \n",
      "Validation F-beta Score\n",
      "Class 0: 0.9730, Class 1: 0.6969, Class 2: 0.2081, Class 3: 0.5602, Class 4: 0.8144, Class 5: 0.6423, Class 6: 0.9397, \n",
      "Validation mIoU Score\n",
      "Class 0: 0.9667, Class 1: 0.3102, Class 2: 0.0440, Class 3: 0.2308, Class 4: 0.5157, Class 5: 0.2708, Class 6: 0.7311, \n",
      "\n",
      "Overall Mean Dice Score: 0.5585\n",
      "Overall Mean F-beta Score: 0.7307\n",
      "Overall Mean IoU Score: 0.4117\n",
      "Training Loss: 0.4242, Validation Loss: 0.4603, Validation F-beta: 0.6031\n",
      "Epoch 69/4000\n"
     ]
    },
    {
     "name": "stderr",
     "output_type": "stream",
     "text": [
      "Training: 100%|██████████| 102/102 [01:41<00:00,  1.01it/s, loss=0.44] \n",
      "Validation: 100%|██████████| 20/20 [00:19<00:00,  1.01it/s, loss=0.455]\n"
     ]
    },
    {
     "name": "stdout",
     "output_type": "stream",
     "text": [
      "Validation Dice Score\n",
      "Class 0: 0.9834, Class 1: 0.4803, Class 2: 0.0975, Class 3: 0.3697, Class 4: 0.6763, Class 5: 0.4281, Class 6: 0.8553, \n",
      "Validation F-beta Score\n",
      "Class 0: 0.9741, Class 1: 0.6965, Class 2: 0.2257, Class 3: 0.5840, Class 4: 0.7941, Class 5: 0.6144, Class 6: 0.9452, \n",
      "Validation mIoU Score\n",
      "Class 0: 0.9673, Class 1: 0.3174, Class 2: 0.0517, Class 3: 0.2278, Class 4: 0.5115, Class 5: 0.2732, Class 6: 0.7481, \n",
      "\n",
      "Overall Mean Dice Score: 0.5619\n",
      "Overall Mean F-beta Score: 0.7268\n",
      "Overall Mean IoU Score: 0.4156\n",
      "Training Loss: 0.4255, Validation Loss: 0.4574, Validation F-beta: 0.6023\n",
      "========================================================\n",
      "SUPER Best model saved. Loss:0.4574, Score:0.6023\n",
      "========================================================\n",
      "Epoch 70/4000\n"
     ]
    },
    {
     "name": "stderr",
     "output_type": "stream",
     "text": [
      "Training: 100%|██████████| 102/102 [01:41<00:00,  1.01it/s, loss=0.444]\n",
      "Validation: 100%|██████████| 20/20 [00:19<00:00,  1.00it/s, loss=0.449]\n"
     ]
    },
    {
     "name": "stdout",
     "output_type": "stream",
     "text": [
      "Validation Dice Score\n",
      "Class 0: 0.9825, Class 1: 0.4712, Class 2: 0.0976, Class 3: 0.3506, Class 4: 0.6854, Class 5: 0.4216, Class 6: 0.8485, \n",
      "Validation F-beta Score\n",
      "Class 0: 0.9720, Class 1: 0.7199, Class 2: 0.2418, Class 3: 0.5931, Class 4: 0.8046, Class 5: 0.6443, Class 6: 0.9463, \n",
      "Validation mIoU Score\n",
      "Class 0: 0.9657, Class 1: 0.3101, Class 2: 0.0521, Class 3: 0.2139, Class 4: 0.5218, Class 5: 0.2687, Class 6: 0.7373, \n",
      "\n",
      "Overall Mean Dice Score: 0.5554\n",
      "Overall Mean F-beta Score: 0.7417\n",
      "Overall Mean IoU Score: 0.4103\n",
      "Training Loss: 0.4246, Validation Loss: 0.4563, Validation F-beta: 0.6091\n",
      "========================================================\n",
      "SUPER Best model saved. Loss:0.4563, Score:0.6091\n",
      "========================================================\n",
      "Epoch 71/4000\n"
     ]
    },
    {
     "name": "stderr",
     "output_type": "stream",
     "text": [
      "Training: 100%|██████████| 102/102 [01:40<00:00,  1.02it/s, loss=0.43] \n",
      "Validation: 100%|██████████| 20/20 [00:18<00:00,  1.07it/s, loss=0.45] \n"
     ]
    },
    {
     "name": "stdout",
     "output_type": "stream",
     "text": [
      "Validation Dice Score\n",
      "Class 0: 0.9835, Class 1: 0.4668, Class 2: 0.0934, Class 3: 0.3830, Class 4: 0.6928, Class 5: 0.4329, Class 6: 0.8373, \n",
      "Validation F-beta Score\n",
      "Class 0: 0.9741, Class 1: 0.7109, Class 2: 0.2493, Class 3: 0.6085, Class 4: 0.7882, Class 5: 0.6408, Class 6: 0.9504, \n",
      "Validation mIoU Score\n",
      "Class 0: 0.9676, Class 1: 0.3054, Class 2: 0.0495, Class 3: 0.2385, Class 4: 0.5302, Class 5: 0.2772, Class 6: 0.7212, \n",
      "\n",
      "Overall Mean Dice Score: 0.5625\n",
      "Overall Mean F-beta Score: 0.7398\n",
      "Overall Mean IoU Score: 0.4145\n",
      "Training Loss: 0.4246, Validation Loss: 0.4554, Validation F-beta: 0.6097\n",
      "========================================================\n",
      "SUPER Best model saved. Loss:0.4554, Score:0.6097\n",
      "========================================================\n",
      "Epoch 72/4000\n"
     ]
    },
    {
     "name": "stderr",
     "output_type": "stream",
     "text": [
      "Training: 100%|██████████| 102/102 [01:41<00:00,  1.01it/s, loss=0.465]\n",
      "Validation: 100%|██████████| 20/20 [00:19<00:00,  1.05it/s, loss=0.453]\n"
     ]
    },
    {
     "name": "stdout",
     "output_type": "stream",
     "text": [
      "Validation Dice Score\n",
      "Class 0: 0.9841, Class 1: 0.4620, Class 2: 0.1155, Class 3: 0.3674, Class 4: 0.6894, Class 5: 0.4228, Class 6: 0.8427, \n",
      "Validation F-beta Score\n",
      "Class 0: 0.9752, Class 1: 0.7038, Class 2: 0.2605, Class 3: 0.6231, Class 4: 0.7792, Class 5: 0.6288, Class 6: 0.9494, \n",
      "Validation mIoU Score\n",
      "Class 0: 0.9687, Class 1: 0.3019, Class 2: 0.0620, Class 3: 0.2260, Class 4: 0.5263, Class 5: 0.2691, Class 6: 0.7289, \n",
      "\n",
      "Overall Mean Dice Score: 0.5569\n",
      "Overall Mean F-beta Score: 0.7369\n",
      "Overall Mean IoU Score: 0.4104\n",
      "Training Loss: 0.4237, Validation Loss: 0.4545, Validation F-beta: 0.6063\n",
      "Epoch 73/4000\n"
     ]
    },
    {
     "name": "stderr",
     "output_type": "stream",
     "text": [
      "Training: 100%|██████████| 102/102 [01:42<00:00,  1.00s/it, loss=0.436]\n",
      "Validation: 100%|██████████| 20/20 [00:18<00:00,  1.06it/s, loss=0.452]\n"
     ]
    },
    {
     "name": "stdout",
     "output_type": "stream",
     "text": [
      "Validation Dice Score\n",
      "Class 0: 0.9840, Class 1: 0.4700, Class 2: 0.1101, Class 3: 0.3638, Class 4: 0.7024, Class 5: 0.4389, Class 6: 0.8431, \n",
      "Validation F-beta Score\n",
      "Class 0: 0.9751, Class 1: 0.7053, Class 2: 0.2786, Class 3: 0.5865, Class 4: 0.7928, Class 5: 0.6344, Class 6: 0.9478, \n",
      "Validation mIoU Score\n",
      "Class 0: 0.9684, Class 1: 0.3093, Class 2: 0.0587, Class 3: 0.2232, Class 4: 0.5417, Class 5: 0.2820, Class 6: 0.7303, \n",
      "\n",
      "Overall Mean Dice Score: 0.5637\n",
      "Overall Mean F-beta Score: 0.7334\n",
      "Overall Mean IoU Score: 0.4173\n",
      "Training Loss: 0.4243, Validation Loss: 0.4529, Validation F-beta: 0.6069\n",
      "Epoch 74/4000\n"
     ]
    },
    {
     "name": "stderr",
     "output_type": "stream",
     "text": [
      "Training: 100%|██████████| 102/102 [01:42<00:00,  1.00s/it, loss=0.443]\n",
      "Validation: 100%|██████████| 20/20 [00:18<00:00,  1.06it/s, loss=0.452]\n"
     ]
    },
    {
     "name": "stdout",
     "output_type": "stream",
     "text": [
      "Validation Dice Score\n",
      "Class 0: 0.9841, Class 1: 0.4475, Class 2: 0.1163, Class 3: 0.3841, Class 4: 0.6985, Class 5: 0.4348, Class 6: 0.8468, \n",
      "Validation F-beta Score\n",
      "Class 0: 0.9754, Class 1: 0.7117, Class 2: 0.2763, Class 3: 0.6066, Class 4: 0.7880, Class 5: 0.6276, Class 6: 0.9446, \n",
      "Validation mIoU Score\n",
      "Class 0: 0.9687, Class 1: 0.2892, Class 2: 0.0626, Class 3: 0.2386, Class 4: 0.5371, Class 5: 0.2790, Class 6: 0.7353, \n",
      "\n",
      "Overall Mean Dice Score: 0.5624\n",
      "Overall Mean F-beta Score: 0.7357\n",
      "Overall Mean IoU Score: 0.4158\n",
      "Training Loss: 0.4234, Validation Loss: 0.4533, Validation F-beta: 0.6078\n",
      "Epoch 75/4000\n"
     ]
    },
    {
     "name": "stderr",
     "output_type": "stream",
     "text": [
      "Training: 100%|██████████| 102/102 [01:40<00:00,  1.02it/s, loss=0.438]\n",
      "Validation: 100%|██████████| 20/20 [00:19<00:00,  1.04it/s, loss=0.461]\n"
     ]
    },
    {
     "name": "stdout",
     "output_type": "stream",
     "text": [
      "Validation Dice Score\n",
      "Class 0: 0.9841, Class 1: 0.4737, Class 2: 0.1083, Class 3: 0.3645, Class 4: 0.6945, Class 5: 0.4239, Class 6: 0.8449, \n",
      "Validation F-beta Score\n",
      "Class 0: 0.9750, Class 1: 0.7034, Class 2: 0.2508, Class 3: 0.6022, Class 4: 0.7976, Class 5: 0.6291, Class 6: 0.9493, \n",
      "Validation mIoU Score\n",
      "Class 0: 0.9688, Class 1: 0.3117, Class 2: 0.0578, Class 3: 0.2245, Class 4: 0.5324, Class 5: 0.2704, Class 6: 0.7323, \n",
      "\n",
      "Overall Mean Dice Score: 0.5603\n",
      "Overall Mean F-beta Score: 0.7363\n",
      "Overall Mean IoU Score: 0.4143\n",
      "Training Loss: 0.4223, Validation Loss: 0.4548, Validation F-beta: 0.6075\n",
      "Epoch 76/4000\n"
     ]
    },
    {
     "name": "stderr",
     "output_type": "stream",
     "text": [
      "Training: 100%|██████████| 102/102 [01:41<00:00,  1.00it/s, loss=0.445]\n",
      "Validation: 100%|██████████| 20/20 [00:19<00:00,  1.02it/s, loss=0.448]\n"
     ]
    },
    {
     "name": "stdout",
     "output_type": "stream",
     "text": [
      "Validation Dice Score\n",
      "Class 0: 0.9840, Class 1: 0.4684, Class 2: 0.1106, Class 3: 0.3504, Class 4: 0.6950, Class 5: 0.4237, Class 6: 0.8594, \n",
      "Validation F-beta Score\n",
      "Class 0: 0.9754, Class 1: 0.6945, Class 2: 0.2609, Class 3: 0.5789, Class 4: 0.7769, Class 5: 0.6273, Class 6: 0.9488, \n",
      "Validation mIoU Score\n",
      "Class 0: 0.9686, Class 1: 0.3065, Class 2: 0.0591, Class 3: 0.2135, Class 4: 0.5328, Class 5: 0.2691, Class 6: 0.7542, \n",
      "\n",
      "Overall Mean Dice Score: 0.5594\n",
      "Overall Mean F-beta Score: 0.7253\n",
      "Overall Mean IoU Score: 0.4152\n",
      "Training Loss: 0.4230, Validation Loss: 0.4560, Validation F-beta: 0.6012\n",
      "Epoch 77/4000\n"
     ]
    },
    {
     "name": "stderr",
     "output_type": "stream",
     "text": [
      "Training: 100%|██████████| 102/102 [01:40<00:00,  1.01it/s, loss=0.449]\n",
      "Validation: 100%|██████████| 20/20 [00:19<00:00,  1.00it/s, loss=0.456]\n"
     ]
    },
    {
     "name": "stdout",
     "output_type": "stream",
     "text": [
      "Validation Dice Score\n",
      "Class 0: 0.9841, Class 1: 0.4726, Class 2: 0.1077, Class 3: 0.3844, Class 4: 0.6970, Class 5: 0.4234, Class 6: 0.8543, \n",
      "Validation F-beta Score\n",
      "Class 0: 0.9754, Class 1: 0.6936, Class 2: 0.2479, Class 3: 0.5854, Class 4: 0.7848, Class 5: 0.6309, Class 6: 0.9489, \n",
      "Validation mIoU Score\n",
      "Class 0: 0.9687, Class 1: 0.3104, Class 2: 0.0579, Class 3: 0.2391, Class 4: 0.5351, Class 5: 0.2694, Class 6: 0.7466, \n",
      "\n",
      "Overall Mean Dice Score: 0.5663\n",
      "Overall Mean F-beta Score: 0.7287\n",
      "Overall Mean IoU Score: 0.4201\n",
      "Training Loss: 0.4215, Validation Loss: 0.4533, Validation F-beta: 0.6053\n",
      "Epoch 78/4000\n"
     ]
    },
    {
     "name": "stderr",
     "output_type": "stream",
     "text": [
      "Training: 100%|██████████| 102/102 [01:41<00:00,  1.00it/s, loss=0.449]\n",
      "Validation: 100%|██████████| 20/20 [00:19<00:00,  1.05it/s, loss=0.453]\n"
     ]
    },
    {
     "name": "stdout",
     "output_type": "stream",
     "text": [
      "Validation Dice Score\n",
      "Class 0: 0.9836, Class 1: 0.4600, Class 2: 0.1075, Class 3: 0.3635, Class 4: 0.6988, Class 5: 0.4419, Class 6: 0.8560, \n",
      "Validation F-beta Score\n",
      "Class 0: 0.9744, Class 1: 0.6982, Class 2: 0.2578, Class 3: 0.5740, Class 4: 0.7989, Class 5: 0.6491, Class 6: 0.9493, \n",
      "Validation mIoU Score\n",
      "Class 0: 0.9677, Class 1: 0.3003, Class 2: 0.0574, Class 3: 0.2238, Class 4: 0.5374, Class 5: 0.2850, Class 6: 0.7492, \n",
      "\n",
      "Overall Mean Dice Score: 0.5640\n",
      "Overall Mean F-beta Score: 0.7339\n",
      "Overall Mean IoU Score: 0.4191\n",
      "Training Loss: 0.4224, Validation Loss: 0.4560, Validation F-beta: 0.6080\n",
      "Epoch 79/4000\n"
     ]
    },
    {
     "name": "stderr",
     "output_type": "stream",
     "text": [
      "Training: 100%|██████████| 102/102 [01:42<00:00,  1.00s/it, loss=0.444]\n",
      "Validation: 100%|██████████| 20/20 [00:18<00:00,  1.06it/s, loss=0.45] \n"
     ]
    },
    {
     "name": "stdout",
     "output_type": "stream",
     "text": [
      "Validation Dice Score\n",
      "Class 0: 0.9837, Class 1: 0.4798, Class 2: 0.1195, Class 3: 0.3680, Class 4: 0.6978, Class 5: 0.4448, Class 6: 0.8526, \n",
      "Validation F-beta Score\n",
      "Class 0: 0.9746, Class 1: 0.7223, Class 2: 0.2681, Class 3: 0.6157, Class 4: 0.8033, Class 5: 0.6316, Class 6: 0.9560, \n",
      "Validation mIoU Score\n",
      "Class 0: 0.9679, Class 1: 0.3168, Class 2: 0.0640, Class 3: 0.2263, Class 4: 0.5360, Class 5: 0.2871, Class 6: 0.7441, \n",
      "\n",
      "Overall Mean Dice Score: 0.5686\n",
      "Overall Mean F-beta Score: 0.7458\n",
      "Overall Mean IoU Score: 0.4221\n",
      "Training Loss: 0.4213, Validation Loss: 0.4513, Validation F-beta: 0.6163\n",
      "========================================================\n",
      "SUPER Best model saved. Loss:0.4513, Score:0.6163\n",
      "========================================================\n",
      "Epoch 80/4000\n"
     ]
    },
    {
     "name": "stderr",
     "output_type": "stream",
     "text": [
      "Training: 100%|██████████| 102/102 [01:41<00:00,  1.01it/s, loss=0.441]\n",
      "Validation: 100%|██████████| 20/20 [00:18<00:00,  1.06it/s, loss=0.442]\n"
     ]
    },
    {
     "name": "stdout",
     "output_type": "stream",
     "text": [
      "Validation Dice Score\n",
      "Class 0: 0.9840, Class 1: 0.4834, Class 2: 0.0955, Class 3: 0.3769, Class 4: 0.6915, Class 5: 0.4384, Class 6: 0.8555, \n",
      "Validation F-beta Score\n",
      "Class 0: 0.9746, Class 1: 0.7380, Class 2: 0.2299, Class 3: 0.6296, Class 4: 0.7972, Class 5: 0.6544, Class 6: 0.9493, \n",
      "Validation mIoU Score\n",
      "Class 0: 0.9686, Class 1: 0.3203, Class 2: 0.0505, Class 3: 0.2337, Class 4: 0.5287, Class 5: 0.2815, Class 6: 0.7482, \n",
      "\n",
      "Overall Mean Dice Score: 0.5691\n",
      "Overall Mean F-beta Score: 0.7537\n",
      "Overall Mean IoU Score: 0.4225\n",
      "Training Loss: 0.4198, Validation Loss: 0.4523, Validation F-beta: 0.6212\n",
      "Epoch 81/4000\n"
     ]
    },
    {
     "name": "stderr",
     "output_type": "stream",
     "text": [
      "Training: 100%|██████████| 102/102 [01:41<00:00,  1.01it/s, loss=0.445]\n",
      "Validation: 100%|██████████| 20/20 [00:18<00:00,  1.06it/s, loss=0.458]\n"
     ]
    },
    {
     "name": "stdout",
     "output_type": "stream",
     "text": [
      "Validation Dice Score\n",
      "Class 0: 0.9837, Class 1: 0.4834, Class 2: 0.1039, Class 3: 0.3726, Class 4: 0.6973, Class 5: 0.4427, Class 6: 0.8411, \n",
      "Validation F-beta Score\n",
      "Class 0: 0.9742, Class 1: 0.7058, Class 2: 0.2529, Class 3: 0.5849, Class 4: 0.8179, Class 5: 0.6474, Class 6: 0.9503, \n",
      "Validation mIoU Score\n",
      "Class 0: 0.9680, Class 1: 0.3192, Class 2: 0.0552, Class 3: 0.2301, Class 4: 0.5355, Class 5: 0.2851, Class 6: 0.7269, \n",
      "\n",
      "Overall Mean Dice Score: 0.5674\n",
      "Overall Mean F-beta Score: 0.7413\n",
      "Overall Mean IoU Score: 0.4194\n",
      "Training Loss: 0.4213, Validation Loss: 0.4539, Validation F-beta: 0.6125\n",
      "Epoch 82/4000\n"
     ]
    },
    {
     "name": "stderr",
     "output_type": "stream",
     "text": [
      "Training: 100%|██████████| 102/102 [01:40<00:00,  1.01it/s, loss=0.435]\n",
      "Validation: 100%|██████████| 20/20 [00:19<00:00,  1.01it/s, loss=0.457]\n"
     ]
    },
    {
     "name": "stdout",
     "output_type": "stream",
     "text": [
      "Validation Dice Score\n",
      "Class 0: 0.9841, Class 1: 0.4986, Class 2: 0.1040, Class 3: 0.3820, Class 4: 0.6880, Class 5: 0.4225, Class 6: 0.8416, \n",
      "Validation F-beta Score\n",
      "Class 0: 0.9750, Class 1: 0.7350, Class 2: 0.2430, Class 3: 0.6064, Class 4: 0.7985, Class 5: 0.6284, Class 6: 0.9472, \n",
      "Validation mIoU Score\n",
      "Class 0: 0.9688, Class 1: 0.3334, Class 2: 0.0556, Class 3: 0.2371, Class 4: 0.5249, Class 5: 0.2688, Class 6: 0.7273, \n",
      "\n",
      "Overall Mean Dice Score: 0.5665\n",
      "Overall Mean F-beta Score: 0.7431\n",
      "Overall Mean IoU Score: 0.4183\n",
      "Training Loss: 0.4226, Validation Loss: 0.4546, Validation F-beta: 0.6132\n",
      "Epoch 83/4000\n"
     ]
    },
    {
     "name": "stderr",
     "output_type": "stream",
     "text": [
      "Training: 100%|██████████| 102/102 [01:40<00:00,  1.01it/s, loss=0.44] \n",
      "Validation: 100%|██████████| 20/20 [00:19<00:00,  1.00it/s, loss=0.449]\n"
     ]
    },
    {
     "name": "stdout",
     "output_type": "stream",
     "text": [
      "Validation Dice Score\n",
      "Class 0: 0.9842, Class 1: 0.4659, Class 2: 0.1162, Class 3: 0.3603, Class 4: 0.6850, Class 5: 0.4277, Class 6: 0.8554, \n",
      "Validation F-beta Score\n",
      "Class 0: 0.9752, Class 1: 0.7073, Class 2: 0.2509, Class 3: 0.5883, Class 4: 0.8012, Class 5: 0.6277, Class 6: 0.9504, \n",
      "Validation mIoU Score\n",
      "Class 0: 0.9689, Class 1: 0.3048, Class 2: 0.0622, Class 3: 0.2206, Class 4: 0.5217, Class 5: 0.2734, Class 6: 0.7484, \n",
      "\n",
      "Overall Mean Dice Score: 0.5589\n",
      "Overall Mean F-beta Score: 0.7350\n",
      "Overall Mean IoU Score: 0.4138\n",
      "Training Loss: 0.4202, Validation Loss: 0.4543, Validation F-beta: 0.6065\n",
      "Epoch 84/4000\n"
     ]
    },
    {
     "name": "stderr",
     "output_type": "stream",
     "text": [
      "Training: 100%|██████████| 102/102 [01:41<00:00,  1.01it/s, loss=0.439]\n",
      "Validation: 100%|██████████| 20/20 [00:20<00:00,  1.01s/it, loss=0.45] \n"
     ]
    },
    {
     "name": "stdout",
     "output_type": "stream",
     "text": [
      "Validation Dice Score\n",
      "Class 0: 0.9838, Class 1: 0.4742, Class 2: 0.1175, Class 3: 0.3742, Class 4: 0.6990, Class 5: 0.4338, Class 6: 0.8511, \n",
      "Validation F-beta Score\n",
      "Class 0: 0.9745, Class 1: 0.6923, Class 2: 0.2663, Class 3: 0.6219, Class 4: 0.7970, Class 5: 0.6619, Class 6: 0.9489, \n",
      "Validation mIoU Score\n",
      "Class 0: 0.9680, Class 1: 0.3125, Class 2: 0.0632, Class 3: 0.2307, Class 4: 0.5376, Class 5: 0.2779, Class 6: 0.7417, \n",
      "\n",
      "Overall Mean Dice Score: 0.5665\n",
      "Overall Mean F-beta Score: 0.7444\n",
      "Overall Mean IoU Score: 0.4201\n",
      "Training Loss: 0.4219, Validation Loss: 0.4537, Validation F-beta: 0.6147\n",
      "Epoch 85/4000\n"
     ]
    },
    {
     "name": "stderr",
     "output_type": "stream",
     "text": [
      "Training: 100%|██████████| 102/102 [01:40<00:00,  1.01it/s, loss=0.438]\n",
      "Validation: 100%|██████████| 20/20 [00:18<00:00,  1.06it/s, loss=0.45] \n"
     ]
    },
    {
     "name": "stdout",
     "output_type": "stream",
     "text": [
      "Validation Dice Score\n",
      "Class 0: 0.9834, Class 1: 0.4708, Class 2: 0.0929, Class 3: 0.3762, Class 4: 0.6956, Class 5: 0.4311, Class 6: 0.8514, \n",
      "Validation F-beta Score\n",
      "Class 0: 0.9738, Class 1: 0.6985, Class 2: 0.2200, Class 3: 0.6039, Class 4: 0.8067, Class 5: 0.6464, Class 6: 0.9421, \n",
      "Validation mIoU Score\n",
      "Class 0: 0.9673, Class 1: 0.3103, Class 2: 0.0494, Class 3: 0.2326, Class 4: 0.5334, Class 5: 0.2763, Class 6: 0.7417, \n",
      "\n",
      "Overall Mean Dice Score: 0.5650\n",
      "Overall Mean F-beta Score: 0.7395\n",
      "Overall Mean IoU Score: 0.4189\n",
      "Training Loss: 0.4206, Validation Loss: 0.4562, Validation F-beta: 0.6113\n",
      "Epoch 86/4000\n"
     ]
    },
    {
     "name": "stderr",
     "output_type": "stream",
     "text": [
      "Training: 100%|██████████| 102/102 [01:42<00:00,  1.00s/it, loss=0.432]\n",
      "Validation: 100%|██████████| 20/20 [00:19<00:00,  1.04it/s, loss=0.457]\n"
     ]
    },
    {
     "name": "stdout",
     "output_type": "stream",
     "text": [
      "Validation Dice Score\n",
      "Class 0: 0.9846, Class 1: 0.4685, Class 2: 0.1060, Class 3: 0.3876, Class 4: 0.6957, Class 5: 0.4269, Class 6: 0.8392, \n",
      "Validation F-beta Score\n",
      "Class 0: 0.9761, Class 1: 0.6993, Class 2: 0.2517, Class 3: 0.5888, Class 4: 0.7855, Class 5: 0.6356, Class 6: 0.9467, \n",
      "Validation mIoU Score\n",
      "Class 0: 0.9696, Class 1: 0.3066, Class 2: 0.0564, Class 3: 0.2412, Class 4: 0.5336, Class 5: 0.2724, Class 6: 0.7241, \n",
      "\n",
      "Overall Mean Dice Score: 0.5636\n",
      "Overall Mean F-beta Score: 0.7312\n",
      "Overall Mean IoU Score: 0.4156\n",
      "Training Loss: 0.4202, Validation Loss: 0.4546, Validation F-beta: 0.6049\n",
      "Epoch 87/4000\n"
     ]
    },
    {
     "name": "stderr",
     "output_type": "stream",
     "text": [
      "Training: 100%|██████████| 102/102 [01:41<00:00,  1.01it/s, loss=0.444]\n",
      "Validation: 100%|██████████| 20/20 [00:18<00:00,  1.07it/s, loss=0.453]\n"
     ]
    },
    {
     "name": "stdout",
     "output_type": "stream",
     "text": [
      "Validation Dice Score\n",
      "Class 0: 0.9833, Class 1: 0.4701, Class 2: 0.0964, Class 3: 0.3897, Class 4: 0.6934, Class 5: 0.4377, Class 6: 0.8482, \n",
      "Validation F-beta Score\n",
      "Class 0: 0.9736, Class 1: 0.7152, Class 2: 0.2271, Class 3: 0.6214, Class 4: 0.8069, Class 5: 0.6608, Class 6: 0.9558, \n",
      "Validation mIoU Score\n",
      "Class 0: 0.9672, Class 1: 0.3084, Class 2: 0.0510, Class 3: 0.2430, Class 4: 0.5309, Class 5: 0.2818, Class 6: 0.7370, \n",
      "\n",
      "Overall Mean Dice Score: 0.5678\n",
      "Overall Mean F-beta Score: 0.7520\n",
      "Overall Mean IoU Score: 0.4202\n",
      "Training Loss: 0.4215, Validation Loss: 0.4538, Validation F-beta: 0.6193\n",
      "Epoch 88/4000\n"
     ]
    },
    {
     "name": "stderr",
     "output_type": "stream",
     "text": [
      "Training: 100%|██████████| 102/102 [01:41<00:00,  1.00it/s, loss=0.443]\n",
      "Validation: 100%|██████████| 20/20 [00:19<00:00,  1.05it/s, loss=0.459]\n"
     ]
    },
    {
     "name": "stdout",
     "output_type": "stream",
     "text": [
      "Validation Dice Score\n",
      "Class 0: 0.9846, Class 1: 0.4554, Class 2: 0.1177, Class 3: 0.3965, Class 4: 0.6947, Class 5: 0.4436, Class 6: 0.8459, \n",
      "Validation F-beta Score\n",
      "Class 0: 0.9759, Class 1: 0.7338, Class 2: 0.2629, Class 3: 0.6056, Class 4: 0.8006, Class 5: 0.6450, Class 6: 0.9509, \n",
      "Validation mIoU Score\n",
      "Class 0: 0.9696, Class 1: 0.2957, Class 2: 0.0629, Class 3: 0.2484, Class 4: 0.5325, Class 5: 0.2862, Class 6: 0.7340, \n",
      "\n",
      "Overall Mean Dice Score: 0.5672\n",
      "Overall Mean F-beta Score: 0.7472\n",
      "Overall Mean IoU Score: 0.4194\n",
      "Training Loss: 0.4212, Validation Loss: 0.4518, Validation F-beta: 0.6161\n",
      "Epoch 89/4000\n"
     ]
    },
    {
     "name": "stderr",
     "output_type": "stream",
     "text": [
      "Training: 100%|██████████| 102/102 [01:40<00:00,  1.01it/s, loss=0.449]\n",
      "Validation: 100%|██████████| 20/20 [00:19<00:00,  1.00it/s, loss=0.445]\n"
     ]
    },
    {
     "name": "stdout",
     "output_type": "stream",
     "text": [
      "Validation Dice Score\n",
      "Class 0: 0.9845, Class 1: 0.4666, Class 2: 0.1123, Class 3: 0.4018, Class 4: 0.6958, Class 5: 0.4444, Class 6: 0.8473, \n",
      "Validation F-beta Score\n",
      "Class 0: 0.9758, Class 1: 0.7378, Class 2: 0.2531, Class 3: 0.6171, Class 4: 0.8008, Class 5: 0.6353, Class 6: 0.9532, \n",
      "Validation mIoU Score\n",
      "Class 0: 0.9694, Class 1: 0.3054, Class 2: 0.0600, Class 3: 0.2523, Class 4: 0.5338, Class 5: 0.2864, Class 6: 0.7361, \n",
      "\n",
      "Overall Mean Dice Score: 0.5712\n",
      "Overall Mean F-beta Score: 0.7488\n",
      "Overall Mean IoU Score: 0.4228\n",
      "Training Loss: 0.4195, Validation Loss: 0.4507, Validation F-beta: 0.6184\n",
      "========================================================\n",
      "SUPER Best model saved. Loss:0.4507, Score:0.6184\n",
      "========================================================\n",
      "Epoch 90/4000\n"
     ]
    },
    {
     "name": "stderr",
     "output_type": "stream",
     "text": [
      "Training: 100%|██████████| 102/102 [01:40<00:00,  1.02it/s, loss=0.445]\n",
      "Validation: 100%|██████████| 20/20 [00:19<00:00,  1.01it/s, loss=0.452]\n"
     ]
    },
    {
     "name": "stdout",
     "output_type": "stream",
     "text": [
      "Validation Dice Score\n",
      "Class 0: 0.9847, Class 1: 0.4814, Class 2: 0.1307, Class 3: 0.3944, Class 4: 0.6953, Class 5: 0.4400, Class 6: 0.8587, \n",
      "Validation F-beta Score\n",
      "Class 0: 0.9762, Class 1: 0.7368, Class 2: 0.2711, Class 3: 0.5861, Class 4: 0.7992, Class 5: 0.6474, Class 6: 0.9514, \n",
      "Validation mIoU Score\n",
      "Class 0: 0.9699, Class 1: 0.3182, Class 2: 0.0708, Class 3: 0.2475, Class 4: 0.5332, Class 5: 0.2830, Class 6: 0.7532, \n",
      "\n",
      "Overall Mean Dice Score: 0.5740\n",
      "Overall Mean F-beta Score: 0.7442\n",
      "Overall Mean IoU Score: 0.4270\n",
      "Training Loss: 0.4198, Validation Loss: 0.4506, Validation F-beta: 0.6173\n",
      "Epoch 91/4000\n"
     ]
    },
    {
     "name": "stderr",
     "output_type": "stream",
     "text": [
      "Training: 100%|██████████| 102/102 [01:41<00:00,  1.00it/s, loss=0.451]\n",
      "Validation: 100%|██████████| 20/20 [00:19<00:00,  1.02it/s, loss=0.445]\n"
     ]
    },
    {
     "name": "stdout",
     "output_type": "stream",
     "text": [
      "Validation Dice Score\n",
      "Class 0: 0.9850, Class 1: 0.4821, Class 2: 0.1047, Class 3: 0.4023, Class 4: 0.7001, Class 5: 0.4416, Class 6: 0.8502, \n",
      "Validation F-beta Score\n",
      "Class 0: 0.9767, Class 1: 0.7266, Class 2: 0.2233, Class 3: 0.6143, Class 4: 0.7984, Class 5: 0.6402, Class 6: 0.9467, \n",
      "Validation mIoU Score\n",
      "Class 0: 0.9704, Class 1: 0.3197, Class 2: 0.0560, Class 3: 0.2540, Class 4: 0.5389, Class 5: 0.2844, Class 6: 0.7407, \n",
      "\n",
      "Overall Mean Dice Score: 0.5753\n",
      "Overall Mean F-beta Score: 0.7453\n",
      "Overall Mean IoU Score: 0.4276\n",
      "Training Loss: 0.4212, Validation Loss: 0.4518, Validation F-beta: 0.6182\n",
      "Epoch 92/4000\n"
     ]
    },
    {
     "name": "stderr",
     "output_type": "stream",
     "text": [
      "Training: 100%|██████████| 102/102 [01:40<00:00,  1.02it/s, loss=0.419]\n",
      "Validation: 100%|██████████| 20/20 [00:19<00:00,  1.05it/s, loss=0.458]\n"
     ]
    },
    {
     "name": "stdout",
     "output_type": "stream",
     "text": [
      "Validation Dice Score\n",
      "Class 0: 0.9848, Class 1: 0.4705, Class 2: 0.1251, Class 3: 0.3911, Class 4: 0.7073, Class 5: 0.4577, Class 6: 0.8568, \n",
      "Validation F-beta Score\n",
      "Class 0: 0.9765, Class 1: 0.7008, Class 2: 0.2654, Class 3: 0.6013, Class 4: 0.8110, Class 5: 0.6426, Class 6: 0.9492, \n",
      "Validation mIoU Score\n",
      "Class 0: 0.9701, Class 1: 0.3083, Class 2: 0.0674, Class 3: 0.2437, Class 4: 0.5474, Class 5: 0.2974, Class 6: 0.7502, \n",
      "\n",
      "Overall Mean Dice Score: 0.5767\n",
      "Overall Mean F-beta Score: 0.7410\n",
      "Overall Mean IoU Score: 0.4294\n",
      "Training Loss: 0.4202, Validation Loss: 0.4501, Validation F-beta: 0.6163\n",
      "Epoch 93/4000\n"
     ]
    },
    {
     "name": "stderr",
     "output_type": "stream",
     "text": [
      "Training: 100%|██████████| 102/102 [01:42<00:00,  1.00s/it, loss=0.44] \n",
      "Validation: 100%|██████████| 20/20 [00:19<00:00,  1.05it/s, loss=0.449]\n"
     ]
    },
    {
     "name": "stdout",
     "output_type": "stream",
     "text": [
      "Validation Dice Score\n",
      "Class 0: 0.9844, Class 1: 0.5166, Class 2: 0.1201, Class 3: 0.3672, Class 4: 0.7046, Class 5: 0.4391, Class 6: 0.8507, \n",
      "Validation F-beta Score\n",
      "Class 0: 0.9759, Class 1: 0.7521, Class 2: 0.2425, Class 3: 0.5867, Class 4: 0.8051, Class 5: 0.6319, Class 6: 0.9489, \n",
      "Validation mIoU Score\n",
      "Class 0: 0.9693, Class 1: 0.3498, Class 2: 0.0647, Class 3: 0.2262, Class 4: 0.5442, Class 5: 0.2819, Class 6: 0.7411, \n",
      "\n",
      "Overall Mean Dice Score: 0.5756\n",
      "Overall Mean F-beta Score: 0.7449\n",
      "Overall Mean IoU Score: 0.4286\n",
      "Training Loss: 0.4194, Validation Loss: 0.4513, Validation F-beta: 0.6184\n",
      "Epoch 94/4000\n"
     ]
    },
    {
     "name": "stderr",
     "output_type": "stream",
     "text": [
      "Training: 100%|██████████| 102/102 [01:41<00:00,  1.00it/s, loss=0.432]\n",
      "Validation: 100%|██████████| 20/20 [00:18<00:00,  1.06it/s, loss=0.446]\n"
     ]
    },
    {
     "name": "stdout",
     "output_type": "stream",
     "text": [
      "Validation Dice Score\n",
      "Class 0: 0.9849, Class 1: 0.4895, Class 2: 0.1169, Class 3: 0.3831, Class 4: 0.6987, Class 5: 0.4302, Class 6: 0.8503, \n",
      "Validation F-beta Score\n",
      "Class 0: 0.9768, Class 1: 0.7282, Class 2: 0.2459, Class 3: 0.5879, Class 4: 0.7914, Class 5: 0.6248, Class 6: 0.9524, \n",
      "Validation mIoU Score\n",
      "Class 0: 0.9703, Class 1: 0.3250, Class 2: 0.0631, Class 3: 0.2383, Class 4: 0.5373, Class 5: 0.2753, Class 6: 0.7403, \n",
      "\n",
      "Overall Mean Dice Score: 0.5704\n",
      "Overall Mean F-beta Score: 0.7369\n",
      "Overall Mean IoU Score: 0.4232\n",
      "Training Loss: 0.4196, Validation Loss: 0.4508, Validation F-beta: 0.6115\n",
      "Epoch 95/4000\n"
     ]
    },
    {
     "name": "stderr",
     "output_type": "stream",
     "text": [
      "Training: 100%|██████████| 102/102 [01:41<00:00,  1.01it/s, loss=0.444]\n",
      "Validation: 100%|██████████| 20/20 [00:19<00:00,  1.00it/s, loss=0.442]\n"
     ]
    },
    {
     "name": "stdout",
     "output_type": "stream",
     "text": [
      "Validation Dice Score\n",
      "Class 0: 0.9849, Class 1: 0.4952, Class 2: 0.1080, Class 3: 0.4101, Class 4: 0.6906, Class 5: 0.4399, Class 6: 0.8501, \n",
      "Validation F-beta Score\n",
      "Class 0: 0.9764, Class 1: 0.7435, Class 2: 0.2267, Class 3: 0.6247, Class 4: 0.7970, Class 5: 0.6465, Class 6: 0.9497, \n",
      "Validation mIoU Score\n",
      "Class 0: 0.9703, Class 1: 0.3318, Class 2: 0.0575, Class 3: 0.2586, Class 4: 0.5276, Class 5: 0.2827, Class 6: 0.7402, \n",
      "\n",
      "Overall Mean Dice Score: 0.5772\n",
      "Overall Mean F-beta Score: 0.7523\n",
      "Overall Mean IoU Score: 0.4282\n",
      "Training Loss: 0.4197, Validation Loss: 0.4490, Validation F-beta: 0.6226\n",
      "========================================================\n",
      "SUPER Best model saved. Loss:0.4490, Score:0.6226\n",
      "========================================================\n",
      "Epoch 96/4000\n"
     ]
    },
    {
     "name": "stderr",
     "output_type": "stream",
     "text": [
      "Training: 100%|██████████| 102/102 [01:41<00:00,  1.01it/s, loss=0.465]\n",
      "Validation: 100%|██████████| 20/20 [00:19<00:00,  1.04it/s, loss=0.444]\n"
     ]
    },
    {
     "name": "stdout",
     "output_type": "stream",
     "text": [
      "Validation Dice Score\n",
      "Class 0: 0.9848, Class 1: 0.4924, Class 2: 0.1102, Class 3: 0.3835, Class 4: 0.6965, Class 5: 0.4383, Class 6: 0.8439, \n",
      "Validation F-beta Score\n",
      "Class 0: 0.9763, Class 1: 0.7063, Class 2: 0.2451, Class 3: 0.5700, Class 4: 0.7965, Class 5: 0.6432, Class 6: 0.9502, \n",
      "Validation mIoU Score\n",
      "Class 0: 0.9700, Class 1: 0.3284, Class 2: 0.0588, Class 3: 0.2382, Class 4: 0.5346, Class 5: 0.2817, Class 6: 0.7306, \n",
      "\n",
      "Overall Mean Dice Score: 0.5709\n",
      "Overall Mean F-beta Score: 0.7332\n",
      "Overall Mean IoU Score: 0.4227\n",
      "Training Loss: 0.4193, Validation Loss: 0.4544, Validation F-beta: 0.6090\n",
      "Epoch 97/4000\n"
     ]
    },
    {
     "name": "stderr",
     "output_type": "stream",
     "text": [
      "Training: 100%|██████████| 102/102 [01:41<00:00,  1.01it/s, loss=0.442]\n",
      "Validation: 100%|██████████| 20/20 [00:20<00:00,  1.00s/it, loss=0.443]\n"
     ]
    },
    {
     "name": "stdout",
     "output_type": "stream",
     "text": [
      "Validation Dice Score\n",
      "Class 0: 0.9851, Class 1: 0.4947, Class 2: 0.1129, Class 3: 0.4027, Class 4: 0.7026, Class 5: 0.4453, Class 6: 0.8470, \n",
      "Validation F-beta Score\n",
      "Class 0: 0.9767, Class 1: 0.7195, Class 2: 0.2567, Class 3: 0.5861, Class 4: 0.7930, Class 5: 0.6611, Class 6: 0.9468, \n",
      "Validation mIoU Score\n",
      "Class 0: 0.9706, Class 1: 0.3301, Class 2: 0.0610, Class 3: 0.2529, Class 4: 0.5418, Class 5: 0.2871, Class 6: 0.7359, \n",
      "\n",
      "Overall Mean Dice Score: 0.5785\n",
      "Overall Mean F-beta Score: 0.7413\n",
      "Overall Mean IoU Score: 0.4296\n",
      "Training Loss: 0.4192, Validation Loss: 0.4503, Validation F-beta: 0.6166\n",
      "Epoch 98/4000\n"
     ]
    },
    {
     "name": "stderr",
     "output_type": "stream",
     "text": [
      "Training: 100%|██████████| 102/102 [01:41<00:00,  1.01it/s, loss=0.445]\n",
      "Validation: 100%|██████████| 20/20 [00:20<00:00,  1.01s/it, loss=0.449]\n"
     ]
    },
    {
     "name": "stdout",
     "output_type": "stream",
     "text": [
      "Validation Dice Score\n",
      "Class 0: 0.9848, Class 1: 0.4950, Class 2: 0.1100, Class 3: 0.3888, Class 4: 0.7063, Class 5: 0.4409, Class 6: 0.8445, \n",
      "Validation F-beta Score\n",
      "Class 0: 0.9764, Class 1: 0.7281, Class 2: 0.2461, Class 3: 0.5987, Class 4: 0.8043, Class 5: 0.6314, Class 6: 0.9500, \n",
      "Validation mIoU Score\n",
      "Class 0: 0.9700, Class 1: 0.3302, Class 2: 0.0589, Class 3: 0.2424, Class 4: 0.5462, Class 5: 0.2833, Class 6: 0.7321, \n",
      "\n",
      "Overall Mean Dice Score: 0.5751\n",
      "Overall Mean F-beta Score: 0.7425\n",
      "Overall Mean IoU Score: 0.4268\n",
      "Training Loss: 0.4194, Validation Loss: 0.4507, Validation F-beta: 0.6162\n",
      "Epoch 99/4000\n"
     ]
    },
    {
     "name": "stderr",
     "output_type": "stream",
     "text": [
      "Training: 100%|██████████| 102/102 [01:42<00:00,  1.00s/it, loss=0.43] \n",
      "Validation: 100%|██████████| 20/20 [00:18<00:00,  1.06it/s, loss=0.459]\n"
     ]
    },
    {
     "name": "stdout",
     "output_type": "stream",
     "text": [
      "Validation Dice Score\n",
      "Class 0: 0.9843, Class 1: 0.4986, Class 2: 0.0994, Class 3: 0.3864, Class 4: 0.6918, Class 5: 0.4397, Class 6: 0.8418, \n",
      "Validation F-beta Score\n",
      "Class 0: 0.9757, Class 1: 0.7173, Class 2: 0.2267, Class 3: 0.5963, Class 4: 0.7896, Class 5: 0.6427, Class 6: 0.9471, \n",
      "Validation mIoU Score\n",
      "Class 0: 0.9691, Class 1: 0.3336, Class 2: 0.0528, Class 3: 0.2401, Class 4: 0.5290, Class 5: 0.2829, Class 6: 0.7277, \n",
      "\n",
      "Overall Mean Dice Score: 0.5717\n",
      "Overall Mean F-beta Score: 0.7386\n",
      "Overall Mean IoU Score: 0.4227\n",
      "Training Loss: 0.4194, Validation Loss: 0.4540, Validation F-beta: 0.6122\n",
      "Epoch 100/4000\n"
     ]
    },
    {
     "name": "stderr",
     "output_type": "stream",
     "text": [
      "Training: 100%|██████████| 102/102 [01:41<00:00,  1.00it/s, loss=0.439]\n",
      "Validation: 100%|██████████| 20/20 [00:18<00:00,  1.07it/s, loss=0.446]\n"
     ]
    },
    {
     "name": "stdout",
     "output_type": "stream",
     "text": [
      "Validation Dice Score\n",
      "Class 0: 0.9845, Class 1: 0.4881, Class 2: 0.1136, Class 3: 0.3824, Class 4: 0.6976, Class 5: 0.4394, Class 6: 0.8631, \n",
      "Validation F-beta Score\n",
      "Class 0: 0.9758, Class 1: 0.7327, Class 2: 0.2615, Class 3: 0.5794, Class 4: 0.8006, Class 5: 0.6425, Class 6: 0.9529, \n",
      "Validation mIoU Score\n",
      "Class 0: 0.9694, Class 1: 0.3249, Class 2: 0.0607, Class 3: 0.2381, Class 4: 0.5358, Class 5: 0.2828, Class 6: 0.7598, \n",
      "\n",
      "Overall Mean Dice Score: 0.5741\n",
      "Overall Mean F-beta Score: 0.7416\n",
      "Overall Mean IoU Score: 0.4283\n",
      "Training Loss: 0.4194, Validation Loss: 0.4518, Validation F-beta: 0.6163\n",
      "Epoch 101/4000\n"
     ]
    },
    {
     "name": "stderr",
     "output_type": "stream",
     "text": [
      "Training: 100%|██████████| 102/102 [01:41<00:00,  1.01it/s, loss=0.431]\n",
      "Validation: 100%|██████████| 20/20 [00:18<00:00,  1.06it/s, loss=0.449]\n"
     ]
    },
    {
     "name": "stdout",
     "output_type": "stream",
     "text": [
      "Validation Dice Score\n",
      "Class 0: 0.9847, Class 1: 0.4974, Class 2: 0.1006, Class 3: 0.3818, Class 4: 0.6979, Class 5: 0.4442, Class 6: 0.8638, \n",
      "Validation F-beta Score\n",
      "Class 0: 0.9762, Class 1: 0.7211, Class 2: 0.2171, Class 3: 0.5840, Class 4: 0.7992, Class 5: 0.6407, Class 6: 0.9499, \n",
      "Validation mIoU Score\n",
      "Class 0: 0.9699, Class 1: 0.3325, Class 2: 0.0539, Class 3: 0.2372, Class 4: 0.5364, Class 5: 0.2865, Class 6: 0.7610, \n",
      "\n",
      "Overall Mean Dice Score: 0.5770\n",
      "Overall Mean F-beta Score: 0.7390\n",
      "Overall Mean IoU Score: 0.4307\n",
      "Training Loss: 0.4184, Validation Loss: 0.4523, Validation F-beta: 0.6157\n",
      "Epoch 102/4000\n"
     ]
    },
    {
     "name": "stderr",
     "output_type": "stream",
     "text": [
      "Training: 100%|██████████| 102/102 [01:41<00:00,  1.01it/s, loss=0.439]\n",
      "Validation: 100%|██████████| 20/20 [00:19<00:00,  1.02it/s, loss=0.454]\n"
     ]
    },
    {
     "name": "stdout",
     "output_type": "stream",
     "text": [
      "Validation Dice Score\n",
      "Class 0: 0.9848, Class 1: 0.4943, Class 2: 0.1215, Class 3: 0.3801, Class 4: 0.6987, Class 5: 0.4423, Class 6: 0.8515, \n",
      "Validation F-beta Score\n",
      "Class 0: 0.9766, Class 1: 0.7404, Class 2: 0.2535, Class 3: 0.5781, Class 4: 0.7966, Class 5: 0.6241, Class 6: 0.9493, \n",
      "Validation mIoU Score\n",
      "Class 0: 0.9700, Class 1: 0.3294, Class 2: 0.0653, Class 3: 0.2370, Class 4: 0.5371, Class 5: 0.2849, Class 6: 0.7422, \n",
      "\n",
      "Overall Mean Dice Score: 0.5734\n",
      "Overall Mean F-beta Score: 0.7377\n",
      "Overall Mean IoU Score: 0.4261\n",
      "Training Loss: 0.4187, Validation Loss: 0.4517, Validation F-beta: 0.6131\n",
      "Epoch 103/4000\n"
     ]
    },
    {
     "name": "stderr",
     "output_type": "stream",
     "text": [
      "Training: 100%|██████████| 102/102 [01:40<00:00,  1.02it/s, loss=0.454]\n",
      "Validation: 100%|██████████| 20/20 [00:19<00:00,  1.01it/s, loss=0.456]\n"
     ]
    },
    {
     "name": "stdout",
     "output_type": "stream",
     "text": [
      "Validation Dice Score\n",
      "Class 0: 0.9842, Class 1: 0.4681, Class 2: 0.1023, Class 3: 0.3971, Class 4: 0.6945, Class 5: 0.4372, Class 6: 0.8535, \n",
      "Validation F-beta Score\n",
      "Class 0: 0.9754, Class 1: 0.7186, Class 2: 0.2324, Class 3: 0.6166, Class 4: 0.8007, Class 5: 0.6408, Class 6: 0.9503, \n",
      "Validation mIoU Score\n",
      "Class 0: 0.9689, Class 1: 0.3068, Class 2: 0.0545, Class 3: 0.2489, Class 4: 0.5323, Class 5: 0.2806, Class 6: 0.7451, \n",
      "\n",
      "Overall Mean Dice Score: 0.5701\n",
      "Overall Mean F-beta Score: 0.7454\n",
      "Overall Mean IoU Score: 0.4228\n",
      "Training Loss: 0.4185, Validation Loss: 0.4544, Validation F-beta: 0.6163\n",
      "Epoch 104/4000\n"
     ]
    },
    {
     "name": "stderr",
     "output_type": "stream",
     "text": [
      "Training: 100%|██████████| 102/102 [01:41<00:00,  1.01it/s, loss=0.439]\n",
      "Validation: 100%|██████████| 20/20 [00:18<00:00,  1.06it/s, loss=0.452]"
     ]
    },
    {
     "name": "stdout",
     "output_type": "stream",
     "text": [
      "Validation Dice Score\n",
      "Class 0: 0.9844, Class 1: 0.4914, Class 2: 0.1250, Class 3: 0.3800, Class 4: 0.7044, Class 5: 0.4238, Class 6: 0.8612, \n",
      "Validation F-beta Score\n",
      "Class 0: 0.9756, Class 1: 0.7128, Class 2: 0.2839, Class 3: 0.5929, Class 4: 0.8102, Class 5: 0.6281, Class 6: 0.9496, \n",
      "Validation mIoU Score\n",
      "Class 0: 0.9692, Class 1: 0.3266, Class 2: 0.0672, Class 3: 0.2352, Class 4: 0.5438, Class 5: 0.2693, Class 6: 0.7572, \n",
      "\n",
      "Overall Mean Dice Score: 0.5722\n",
      "Overall Mean F-beta Score: 0.7387\n",
      "Overall Mean IoU Score: 0.4264\n",
      "Training Loss: 0.4187, Validation Loss: 0.4532, Validation F-beta: 0.6138\n",
      "Early stopping\n"
     ]
    },
    {
     "name": "stderr",
     "output_type": "stream",
     "text": [
      "\n"
     ]
    },
    {
     "data": {
      "text/html": [],
      "text/plain": [
       "<IPython.core.display.HTML object>"
      ]
     },
     "metadata": {},
     "output_type": "display_data"
    },
    {
     "data": {
      "text/html": [
       "<br>    <style><br>        .wandb-row {<br>            display: flex;<br>            flex-direction: row;<br>            flex-wrap: wrap;<br>            justify-content: flex-start;<br>            width: 100%;<br>        }<br>        .wandb-col {<br>            display: flex;<br>            flex-direction: column;<br>            flex-basis: 100%;<br>            flex: 1;<br>            padding: 10px;<br>        }<br>    </style><br><div class=\"wandb-row\"><div class=\"wandb-col\"><h3>Run history:</h3><br/><table class=\"wandb\"><tr><td>class_0_IoU_score</td><td>▁▂▇▇▇▇▇█▇███████████████████████████████</td></tr><tr><td>class_0_dice_score</td><td>▅▇█▆▃▅▂▃▃▂▄▃▃▄▄▃▃▄▃▃▃▂▁▂▁▂▁▂▂▃▂▂▃▃▃▂▅▅▅▄</td></tr><tr><td>class_0_f_beta_score</td><td>█▆▃▃▄▃▃▂▂▃▄▃▃▂▃▃▂▃▃▃▁▁▂▁▁▁▁▂▂▂▂▂▂▃▂▃▃▂▂▂</td></tr><tr><td>class_1_IoU_score</td><td>▁▅▆▇▇▇▇▇▇▇██████████████████████████████</td></tr><tr><td>class_1_dice_score</td><td>▁▂▅▅▇▇▇▇▇▇▇█▇▇▇▇█▇███████▇▇▇▇▇▇▇▇▇▇▇███▇</td></tr><tr><td>class_1_f_beta_score</td><td>▁▁▁▁▂▅▅▆▆▆▆▇▇▇▇▇▆▆▇▇▇▆▇▇▇███████████████</td></tr><tr><td>class_2_IoU_score</td><td>▁▅▇▇▇▇▇▇▇▇██████████████████████████████</td></tr><tr><td>class_2_dice_score</td><td>▁▁▁▁▁▃▄▄▄▄▆▇▆▇▆▇▆▆▆▇▇▆▆▆▅▆▆▇▇▇▇▇▇█▇▇▆▆██</td></tr><tr><td>class_2_f_beta_score</td><td>▁▁▁▁▁▂▃▃▄▄▅▆▆▅▆▆▇▇▇▇▇▆▆▇▅▆▆▆▇▇▇▇▇▇█▇▇▇▇█</td></tr><tr><td>class_3_IoU_score</td><td>▁▅▇▇▇▇▇▇▇▇▇█████████████████████████████</td></tr><tr><td>class_3_dice_score</td><td>▁▁▃▅▇▆▇▇▇▇▇▇▇▇▇▇▇▇▇▇█▇▇▇▇█▇█████▇█████▇▇</td></tr><tr><td>class_3_f_beta_score</td><td>▁▁▆▇▇▇▇▇▇▇▇▇▇█▇▇▇▇▇▇█▇████████████████▇█</td></tr><tr><td>class_4_IoU_score</td><td>▁▅▇▇▇▇▇▇█▇██████████████████████████████</td></tr><tr><td>class_4_dice_score</td><td>▁▂▃▃▅▃▄▄▃▄▅▅▅▅▅▅▆▆▆▆▅▆▆▇▆▇▅▆▆█▇▇▇█▇█████</td></tr><tr><td>class_4_f_beta_score</td><td>▁▃▆▆▆▇▇▇█▇▇▇▇▇▇▇▇██▇▇██████▇████████████</td></tr><tr><td>class_5_IoU_score</td><td>▁▆▆▆▆▆▆▇▇▇▇▇▇█▇▇█▇▇▇█▇▇█▇███████████████</td></tr><tr><td>class_5_dice_score</td><td>▁▁▄▅▆▇▇▇█▇▇▇▇██████▇███▇▇▇█▇█▇██████████</td></tr><tr><td>class_5_f_beta_score</td><td>▁▁▃▄▆▆▇▇▇▇▇▇▇▇▇█▇▇▇██████▇██████████████</td></tr><tr><td>class_6_IoU_score</td><td>▁▃▂▃▃▄▅▅▅▆▆▆▆▆▆▆▇▇▆▇▇▇▇▇▇▇▇██▇██████████</td></tr><tr><td>class_6_dice_score</td><td>▁▆▆▆▇▇▇▇▇██████████▇████████████▇███████</td></tr><tr><td>class_6_f_beta_score</td><td>▁▂▆▇▇▇▇▇▇▇█▇████████████████████████████</td></tr><tr><td>epoch</td><td>▁▁▁▁▂▂▂▂▂▂▂▂▃▃▃▄▄▄▄▄▄▅▅▅▅▆▆▆▆▆▆▆▇▇▇▇▇███</td></tr><tr><td>overall_mean_IoU_score</td><td>▁▅▅▆▆▇▇▇▇▇▇▇▇▇█████▇█▇▇█████████████████</td></tr><tr><td>overall_mean_dice_score</td><td>▁▂▃▅▅▇▇▇▇▇▇▇▇███████████████████████████</td></tr><tr><td>overall_mean_f_beta_score</td><td>▁▄▅▆▆▆▇▇▇▇▇▇▇▇▇▇▇▇▇▇▇▇▇▇████████████████</td></tr><tr><td>train_epoch_loss</td><td>█▇▅▄▃▃▂▂▂▂▂▂▂▂▂▂▂▁▁▁▁▁▁▁▁▁▁▁▁▁▁▁▁▁▁▁▁▁▁▁</td></tr><tr><td>val_epoch_loss</td><td>█▇▄▃▃▂▂▂▂▂▂▂▂▂▂▂▂▂▂▂▂▂▂▁▁▂▂▂▁▁▁▁▁▁▁▁▁▁▁▁</td></tr></table><br/></div><div class=\"wandb-col\"><h3>Run summary:</h3><br/><table class=\"wandb\"><tr><td>class_0_IoU_score</td><td>0.94955</td></tr><tr><td>class_0_dice_score</td><td>0.98438</td></tr><tr><td>class_0_f_beta_score</td><td>0.97562</td></tr><tr><td>class_1_IoU_score</td><td>0.94955</td></tr><tr><td>class_1_dice_score</td><td>0.49144</td></tr><tr><td>class_1_f_beta_score</td><td>0.71279</td></tr><tr><td>class_2_IoU_score</td><td>0.94955</td></tr><tr><td>class_2_dice_score</td><td>0.125</td></tr><tr><td>class_2_f_beta_score</td><td>0.28386</td></tr><tr><td>class_3_IoU_score</td><td>0.94955</td></tr><tr><td>class_3_dice_score</td><td>0.38002</td></tr><tr><td>class_3_f_beta_score</td><td>0.59289</td></tr><tr><td>class_4_IoU_score</td><td>0.94955</td></tr><tr><td>class_4_dice_score</td><td>0.70441</td></tr><tr><td>class_4_f_beta_score</td><td>0.8102</td></tr><tr><td>class_5_IoU_score</td><td>0.94955</td></tr><tr><td>class_5_dice_score</td><td>0.42382</td></tr><tr><td>class_5_f_beta_score</td><td>0.62811</td></tr><tr><td>class_6_IoU_score</td><td>0.94955</td></tr><tr><td>class_6_dice_score</td><td>0.86119</td></tr><tr><td>class_6_f_beta_score</td><td>0.94955</td></tr><tr><td>epoch</td><td>104</td></tr><tr><td>overall_mean_IoU_score</td><td>0.42642</td></tr><tr><td>overall_mean_dice_score</td><td>0.57218</td></tr><tr><td>overall_mean_f_beta_score</td><td>0.73871</td></tr><tr><td>train_epoch_loss</td><td>0.41873</td></tr><tr><td>val_epoch_loss</td><td>0.45316</td></tr></table><br/></div></div>"
      ],
      "text/plain": [
       "<IPython.core.display.HTML object>"
      ]
     },
     "metadata": {},
     "output_type": "display_data"
    },
    {
     "data": {
      "text/html": [
       " View run <strong style=\"color:#cdcd00\">UNet_all_10441_a1_32x96x96_e4000_lr0.001_lamda0.7_ce0.4_no_weighted</strong> at: <a href='https://wandb.ai/waooang/czii_SwinUnetR/runs/70rqg0j9' target=\"_blank\">https://wandb.ai/waooang/czii_SwinUnetR/runs/70rqg0j9</a><br> View project at: <a href='https://wandb.ai/waooang/czii_SwinUnetR' target=\"_blank\">https://wandb.ai/waooang/czii_SwinUnetR</a><br>Synced 5 W&B file(s), 0 media file(s), 0 artifact file(s) and 0 other file(s)"
      ],
      "text/plain": [
       "<IPython.core.display.HTML object>"
      ]
     },
     "metadata": {},
     "output_type": "display_data"
    },
    {
     "data": {
      "text/html": [
       "Find logs at: <code>.\\wandb\\run-20250122_032303-70rqg0j9\\logs</code>"
      ],
      "text/plain": [
       "<IPython.core.display.HTML object>"
      ]
     },
     "metadata": {},
     "output_type": "display_data"
    }
   ],
   "source": [
    "train_model(\n",
    "    model=model,\n",
    "    train_loader=train_loader,\n",
    "    val_loader=val_loader,\n",
    "    criterion=criterion,\n",
    "    optimizer=optimizer,\n",
    "    num_epochs=num_epochs,\n",
    "    patience=10,\n",
    "    device=device,\n",
    "    start_epoch=start_epoch,\n",
    "    best_val_loss=best_val_loss,\n",
    "    best_val_fbeta_score=best_val_fbeta_score,\n",
    "    calculate_dice_interval=1,\n",
    "    accumulation_steps = accumulation_steps\n",
    "    )"
   ]
  },
  {
   "cell_type": "markdown",
   "metadata": {},
   "source": [
    "# finetune"
   ]
  },
  {
   "cell_type": "code",
   "execution_count": 10,
   "metadata": {},
   "outputs": [
    {
     "name": "stderr",
     "output_type": "stream",
     "text": [
      "Loading dataset: 100%|██████████| 4/4 [00:00<00:00, 12.72it/s]\n"
     ]
    },
    {
     "data": {
      "text/html": [
       "Tracking run with wandb version 0.19.2"
      ],
      "text/plain": [
       "<IPython.core.display.HTML object>"
      ]
     },
     "metadata": {},
     "output_type": "display_data"
    },
    {
     "data": {
      "text/html": [
       "Run data is saved locally in <code>e:\\Workspace\\czll\\wandb\\run-20250122_065319-5w1p97fm</code>"
      ],
      "text/plain": [
       "<IPython.core.display.HTML object>"
      ]
     },
     "metadata": {},
     "output_type": "display_data"
    },
    {
     "data": {
      "text/html": [
       "Syncing run <strong><a href='https://wandb.ai/waooang/czii_SwinUnetR/runs/5w1p97fm' target=\"_blank\">UNet_all_finetune_de_wdp_a1_96x96x96_e4000_lr0.0001_lamda0.52_ce0.4_no_weighted</a></strong> to <a href='https://wandb.ai/waooang/czii_SwinUnetR' target=\"_blank\">Weights & Biases</a> (<a href='https://wandb.me/developer-guide' target=\"_blank\">docs</a>)<br>"
      ],
      "text/plain": [
       "<IPython.core.display.HTML object>"
      ]
     },
     "metadata": {},
     "output_type": "display_data"
    },
    {
     "data": {
      "text/html": [
       " View project at <a href='https://wandb.ai/waooang/czii_SwinUnetR' target=\"_blank\">https://wandb.ai/waooang/czii_SwinUnetR</a>"
      ],
      "text/plain": [
       "<IPython.core.display.HTML object>"
      ]
     },
     "metadata": {},
     "output_type": "display_data"
    },
    {
     "data": {
      "text/html": [
       " View run at <a href='https://wandb.ai/waooang/czii_SwinUnetR/runs/5w1p97fm' target=\"_blank\">https://wandb.ai/waooang/czii_SwinUnetR/runs/5w1p97fm</a>"
      ],
      "text/plain": [
       "<IPython.core.display.HTML object>"
      ]
     },
     "metadata": {},
     "output_type": "display_data"
    },
    {
     "name": "stdout",
     "output_type": "stream",
     "text": [
      "Epoch 1/4000\n"
     ]
    },
    {
     "name": "stderr",
     "output_type": "stream",
     "text": [
      "Training: 100%|██████████| 48/48 [00:35<00:00,  1.36it/s, loss=1.2] \n",
      "Validation: 100%|██████████| 10/10 [00:06<00:00,  1.51it/s, loss=1.18]\n"
     ]
    },
    {
     "name": "stdout",
     "output_type": "stream",
     "text": [
      "Validation Dice Score\n",
      "Class 0: 0.7765, Class 1: 0.0060, Class 2: 0.0008, Class 3: 0.0037, Class 4: 0.0562, Class 5: 0.0374, Class 6: 0.0259, \n",
      "Validation F-beta Score\n",
      "Class 0: 0.6529, Class 1: 0.0381, Class 2: 0.0062, Class 3: 0.0227, Class 4: 0.1477, Class 5: 0.1080, Class 6: 0.0964, \n",
      "Validation mIoU Score\n",
      "Class 0: 0.6347, Class 1: 0.0030, Class 2: 0.0004, Class 3: 0.0018, Class 4: 0.0290, Class 5: 0.0191, Class 6: 0.0131, \n",
      "\n",
      "Overall Mean Dice Score: 0.0258\n",
      "Overall Mean F-beta Score: 0.0826\n",
      "Overall Mean IoU Score: 0.0132\n",
      "Training Loss: 1.2951, Validation Loss: 1.1802, Validation F-beta: 0.0548\n",
      "========================================================\n",
      "SUPER Best model saved. Loss:1.1802, Score:0.0548\n",
      "========================================================\n",
      "Epoch 2/4000\n"
     ]
    },
    {
     "name": "stderr",
     "output_type": "stream",
     "text": [
      "Training: 100%|██████████| 48/48 [00:32<00:00,  1.47it/s, loss=1.02]\n",
      "Validation: 100%|██████████| 10/10 [00:06<00:00,  1.50it/s, loss=1]\n"
     ]
    },
    {
     "name": "stdout",
     "output_type": "stream",
     "text": [
      "Validation Dice Score\n",
      "Class 0: 0.9426, Class 1: 0.0111, Class 2: 0.0014, Class 3: 0.0103, Class 4: 0.1328, Class 5: 0.0472, Class 6: 0.0607, \n",
      "Validation F-beta Score\n",
      "Class 0: 0.9074, Class 1: 0.0535, Class 2: 0.0089, Class 3: 0.0377, Class 4: 0.1616, Class 5: 0.0726, Class 6: 0.1077, \n",
      "Validation mIoU Score\n",
      "Class 0: 0.8914, Class 1: 0.0056, Class 2: 0.0007, Class 3: 0.0052, Class 4: 0.0712, Class 5: 0.0242, Class 6: 0.0313, \n",
      "\n",
      "Overall Mean Dice Score: 0.0524\n",
      "Overall Mean F-beta Score: 0.0866\n",
      "Overall Mean IoU Score: 0.0275\n",
      "Training Loss: 1.1043, Validation Loss: 1.0035, Validation F-beta: 0.0630\n",
      "========================================================\n",
      "SUPER Best model saved. Loss:1.0035, Score:0.0630\n",
      "========================================================\n",
      "Epoch 3/4000\n"
     ]
    },
    {
     "name": "stderr",
     "output_type": "stream",
     "text": [
      "Training: 100%|██████████| 48/48 [00:32<00:00,  1.47it/s, loss=0.899]\n",
      "Validation: 100%|██████████| 10/10 [00:07<00:00,  1.34it/s, loss=0.881]\n"
     ]
    },
    {
     "name": "stdout",
     "output_type": "stream",
     "text": [
      "Validation Dice Score\n",
      "Class 0: 0.9755, Class 1: 0.0186, Class 2: 0.0025, Class 3: 0.0232, Class 4: 0.1844, Class 5: 0.0548, Class 6: 0.0833, \n",
      "Validation F-beta Score\n",
      "Class 0: 0.9695, Class 1: 0.0583, Class 2: 0.0113, Class 3: 0.0436, Class 4: 0.1600, Class 5: 0.0527, Class 6: 0.0804, \n",
      "Validation mIoU Score\n",
      "Class 0: 0.9521, Class 1: 0.0094, Class 2: 0.0013, Class 3: 0.0117, Class 4: 0.1016, Class 5: 0.0282, Class 6: 0.0435, \n",
      "\n",
      "Overall Mean Dice Score: 0.0729\n",
      "Overall Mean F-beta Score: 0.0790\n",
      "Overall Mean IoU Score: 0.0389\n",
      "Training Loss: 0.9544, Validation Loss: 0.8813, Validation F-beta: 0.0629\n",
      "Epoch 4/4000\n"
     ]
    },
    {
     "name": "stderr",
     "output_type": "stream",
     "text": [
      "Training: 100%|██████████| 48/48 [00:32<00:00,  1.48it/s, loss=0.822]\n",
      "Validation: 100%|██████████| 10/10 [00:06<00:00,  1.51it/s, loss=0.799]\n"
     ]
    },
    {
     "name": "stdout",
     "output_type": "stream",
     "text": [
      "Validation Dice Score\n",
      "Class 0: 0.9841, Class 1: 0.0216, Class 2: 0.0042, Class 3: 0.0357, Class 4: 0.2102, Class 5: 0.0562, Class 6: 0.0846, \n",
      "Validation F-beta Score\n",
      "Class 0: 0.9863, Class 1: 0.0504, Class 2: 0.0120, Class 3: 0.0433, Class 4: 0.1797, Class 5: 0.0422, Class 6: 0.0657, \n",
      "Validation mIoU Score\n",
      "Class 0: 0.9687, Class 1: 0.0109, Class 2: 0.0021, Class 3: 0.0182, Class 4: 0.1176, Class 5: 0.0289, Class 6: 0.0442, \n",
      "\n",
      "Overall Mean Dice Score: 0.0817\n",
      "Overall Mean F-beta Score: 0.0763\n",
      "Overall Mean IoU Score: 0.0440\n",
      "Training Loss: 0.8536, Validation Loss: 0.8003, Validation F-beta: 0.0633\n",
      "========================================================\n",
      "SUPER Best model saved. Loss:0.8003, Score:0.0633\n",
      "========================================================\n",
      "Epoch 5/4000\n"
     ]
    },
    {
     "name": "stderr",
     "output_type": "stream",
     "text": [
      "Training: 100%|██████████| 48/48 [00:32<00:00,  1.47it/s, loss=0.764]\n",
      "Validation: 100%|██████████| 10/10 [00:06<00:00,  1.49it/s, loss=0.742]\n"
     ]
    },
    {
     "name": "stdout",
     "output_type": "stream",
     "text": [
      "Validation Dice Score\n",
      "Class 0: 0.9862, Class 1: 0.0241, Class 2: 0.0042, Class 3: 0.0331, Class 4: 0.2574, Class 5: 0.0343, Class 6: 0.0747, \n",
      "Validation F-beta Score\n",
      "Class 0: 0.9918, Class 1: 0.0426, Class 2: 0.0074, Class 3: 0.0294, Class 4: 0.2092, Class 5: 0.0231, Class 6: 0.0515, \n",
      "Validation mIoU Score\n",
      "Class 0: 0.9727, Class 1: 0.0122, Class 2: 0.0021, Class 3: 0.0168, Class 4: 0.1478, Class 5: 0.0175, Class 6: 0.0388, \n",
      "\n",
      "Overall Mean Dice Score: 0.0847\n",
      "Overall Mean F-beta Score: 0.0712\n",
      "Overall Mean IoU Score: 0.0466\n",
      "Training Loss: 0.7853, Validation Loss: 0.7446, Validation F-beta: 0.0613\n",
      "Epoch 6/4000\n"
     ]
    },
    {
     "name": "stderr",
     "output_type": "stream",
     "text": [
      "Training: 100%|██████████| 48/48 [00:32<00:00,  1.46it/s, loss=0.722]\n",
      "Validation: 100%|██████████| 10/10 [00:07<00:00,  1.31it/s, loss=0.707]\n"
     ]
    },
    {
     "name": "stdout",
     "output_type": "stream",
     "text": [
      "Validation Dice Score\n",
      "Class 0: 0.9863, Class 1: 0.0273, Class 2: 0.0049, Class 3: 0.0299, Class 4: 0.2644, Class 5: 0.0292, Class 6: 0.0547, \n",
      "Validation F-beta Score\n",
      "Class 0: 0.9942, Class 1: 0.0396, Class 2: 0.0059, Class 3: 0.0229, Class 4: 0.2028, Class 5: 0.0181, Class 6: 0.0356, \n",
      "Validation mIoU Score\n",
      "Class 0: 0.9730, Class 1: 0.0139, Class 2: 0.0024, Class 3: 0.0152, Class 4: 0.1524, Class 5: 0.0148, Class 6: 0.0281, \n",
      "\n",
      "Overall Mean Dice Score: 0.0811\n",
      "Overall Mean F-beta Score: 0.0638\n",
      "Overall Mean IoU Score: 0.0449\n",
      "Training Loss: 0.7373, Validation Loss: 0.7051, Validation F-beta: 0.0562\n",
      "Epoch 7/4000\n"
     ]
    },
    {
     "name": "stderr",
     "output_type": "stream",
     "text": [
      "Training: 100%|██████████| 48/48 [00:32<00:00,  1.48it/s, loss=0.69] \n",
      "Validation: 100%|██████████| 10/10 [00:06<00:00,  1.49it/s, loss=0.677]\n"
     ]
    },
    {
     "name": "stdout",
     "output_type": "stream",
     "text": [
      "Validation Dice Score\n",
      "Class 0: 0.9875, Class 1: 0.0270, Class 2: 0.0034, Class 3: 0.0279, Class 4: 0.2912, Class 5: 0.0279, Class 6: 0.0698, \n",
      "Validation F-beta Score\n",
      "Class 0: 0.9940, Class 1: 0.0344, Class 2: 0.0039, Class 3: 0.0205, Class 4: 0.2520, Class 5: 0.0170, Class 6: 0.0456, \n",
      "Validation mIoU Score\n",
      "Class 0: 0.9753, Class 1: 0.0137, Class 2: 0.0017, Class 3: 0.0141, Class 4: 0.1706, Class 5: 0.0142, Class 6: 0.0362, \n",
      "\n",
      "Overall Mean Dice Score: 0.0888\n",
      "Overall Mean F-beta Score: 0.0739\n",
      "Overall Mean IoU Score: 0.0498\n",
      "Training Loss: 0.7015, Validation Loss: 0.6742, Validation F-beta: 0.0643\n",
      "========================================================\n",
      "SUPER Best model saved. Loss:0.6742, Score:0.0643\n",
      "========================================================\n",
      "Epoch 8/4000\n"
     ]
    },
    {
     "name": "stderr",
     "output_type": "stream",
     "text": [
      "Training: 100%|██████████| 48/48 [00:32<00:00,  1.48it/s, loss=0.665]\n",
      "Validation: 100%|██████████| 10/10 [00:06<00:00,  1.53it/s, loss=0.653]\n"
     ]
    },
    {
     "name": "stdout",
     "output_type": "stream",
     "text": [
      "Validation Dice Score\n",
      "Class 0: 0.9867, Class 1: 0.0220, Class 2: 0.0023, Class 3: 0.0217, Class 4: 0.3315, Class 5: 0.0280, Class 6: 0.0840, \n",
      "Validation F-beta Score\n",
      "Class 0: 0.9931, Class 1: 0.0323, Class 2: 0.0027, Class 3: 0.0166, Class 4: 0.2935, Class 5: 0.0172, Class 6: 0.0555, \n",
      "Validation mIoU Score\n",
      "Class 0: 0.9737, Class 1: 0.0111, Class 2: 0.0012, Class 3: 0.0110, Class 4: 0.1990, Class 5: 0.0142, Class 6: 0.0439, \n",
      "\n",
      "Overall Mean Dice Score: 0.0975\n",
      "Overall Mean F-beta Score: 0.0830\n",
      "Overall Mean IoU Score: 0.0558\n",
      "Training Loss: 0.6754, Validation Loss: 0.6528, Validation F-beta: 0.0721\n",
      "========================================================\n",
      "SUPER Best model saved. Loss:0.6528, Score:0.0721\n",
      "========================================================\n",
      "Epoch 9/4000\n"
     ]
    },
    {
     "name": "stderr",
     "output_type": "stream",
     "text": [
      "Training: 100%|██████████| 48/48 [00:33<00:00,  1.43it/s, loss=0.646]\n",
      "Validation: 100%|██████████| 10/10 [00:06<00:00,  1.55it/s, loss=0.633]\n"
     ]
    },
    {
     "name": "stdout",
     "output_type": "stream",
     "text": [
      "Validation Dice Score\n",
      "Class 0: 0.9873, Class 1: 0.0249, Class 2: 0.0018, Class 3: 0.0187, Class 4: 0.3302, Class 5: 0.0187, Class 6: 0.0597, \n",
      "Validation F-beta Score\n",
      "Class 0: 0.9956, Class 1: 0.0257, Class 2: 0.0016, Class 3: 0.0116, Class 4: 0.2667, Class 5: 0.0108, Class 6: 0.0366, \n",
      "Validation mIoU Score\n",
      "Class 0: 0.9748, Class 1: 0.0126, Class 2: 0.0009, Class 3: 0.0094, Class 4: 0.1979, Class 5: 0.0094, Class 6: 0.0308, \n",
      "\n",
      "Overall Mean Dice Score: 0.0904\n",
      "Overall Mean F-beta Score: 0.0703\n",
      "Overall Mean IoU Score: 0.0520\n",
      "Training Loss: 0.6544, Validation Loss: 0.6334, Validation F-beta: 0.0630\n",
      "Epoch 10/4000\n"
     ]
    },
    {
     "name": "stderr",
     "output_type": "stream",
     "text": [
      "Training: 100%|██████████| 48/48 [00:32<00:00,  1.46it/s, loss=0.634]\n",
      "Validation: 100%|██████████| 10/10 [00:06<00:00,  1.53it/s, loss=0.619]\n"
     ]
    },
    {
     "name": "stdout",
     "output_type": "stream",
     "text": [
      "Validation Dice Score\n",
      "Class 0: 0.9872, Class 1: 0.0211, Class 2: 0.0012, Class 3: 0.0122, Class 4: 0.3654, Class 5: 0.0169, Class 6: 0.0817, \n",
      "Validation F-beta Score\n",
      "Class 0: 0.9950, Class 1: 0.0221, Class 2: 0.0011, Class 3: 0.0077, Class 4: 0.3137, Class 5: 0.0099, Class 6: 0.0503, \n",
      "Validation mIoU Score\n",
      "Class 0: 0.9748, Class 1: 0.0106, Class 2: 0.0006, Class 3: 0.0061, Class 4: 0.2237, Class 5: 0.0085, Class 6: 0.0426, \n",
      "\n",
      "Overall Mean Dice Score: 0.0994\n",
      "Overall Mean F-beta Score: 0.0807\n",
      "Overall Mean IoU Score: 0.0583\n",
      "Training Loss: 0.6377, Validation Loss: 0.6190, Validation F-beta: 0.0718\n",
      "Epoch 11/4000\n"
     ]
    },
    {
     "name": "stderr",
     "output_type": "stream",
     "text": [
      "Training: 100%|██████████| 48/48 [00:32<00:00,  1.49it/s, loss=0.62] \n",
      "Validation: 100%|██████████| 10/10 [00:07<00:00,  1.33it/s, loss=0.609]\n"
     ]
    },
    {
     "name": "stdout",
     "output_type": "stream",
     "text": [
      "Validation Dice Score\n",
      "Class 0: 0.9876, Class 1: 0.0196, Class 2: 0.0011, Class 3: 0.0110, Class 4: 0.3473, Class 5: 0.0166, Class 6: 0.0853, \n",
      "Validation F-beta Score\n",
      "Class 0: 0.9954, Class 1: 0.0179, Class 2: 0.0008, Class 3: 0.0068, Class 4: 0.3044, Class 5: 0.0096, Class 6: 0.0511, \n",
      "Validation mIoU Score\n",
      "Class 0: 0.9756, Class 1: 0.0099, Class 2: 0.0006, Class 3: 0.0055, Class 4: 0.2105, Class 5: 0.0084, Class 6: 0.0446, \n",
      "\n",
      "Overall Mean Dice Score: 0.0960\n",
      "Overall Mean F-beta Score: 0.0780\n",
      "Overall Mean IoU Score: 0.0558\n",
      "Training Loss: 0.6239, Validation Loss: 0.6078, Validation F-beta: 0.0691\n",
      "Epoch 12/4000\n"
     ]
    },
    {
     "name": "stderr",
     "output_type": "stream",
     "text": [
      "Training: 100%|██████████| 48/48 [00:32<00:00,  1.46it/s, loss=0.619]\n",
      "Validation: 100%|██████████| 10/10 [00:06<00:00,  1.50it/s, loss=0.599]\n"
     ]
    },
    {
     "name": "stdout",
     "output_type": "stream",
     "text": [
      "Validation Dice Score\n",
      "Class 0: 0.9876, Class 1: 0.0159, Class 2: 0.0007, Class 3: 0.0090, Class 4: 0.3624, Class 5: 0.0153, Class 6: 0.0742, \n",
      "Validation F-beta Score\n",
      "Class 0: 0.9959, Class 1: 0.0122, Class 2: 0.0005, Class 3: 0.0052, Class 4: 0.3048, Class 5: 0.0087, Class 6: 0.0443, \n",
      "Validation mIoU Score\n",
      "Class 0: 0.9755, Class 1: 0.0080, Class 2: 0.0003, Class 3: 0.0045, Class 4: 0.2215, Class 5: 0.0077, Class 6: 0.0385, \n",
      "\n",
      "Overall Mean Dice Score: 0.0954\n",
      "Overall Mean F-beta Score: 0.0750\n",
      "Overall Mean IoU Score: 0.0561\n",
      "Training Loss: 0.6138, Validation Loss: 0.5979, Validation F-beta: 0.0674\n",
      "Epoch 13/4000\n"
     ]
    },
    {
     "name": "stderr",
     "output_type": "stream",
     "text": [
      "Training: 100%|██████████| 48/48 [00:32<00:00,  1.47it/s, loss=0.605]\n",
      "Validation: 100%|██████████| 10/10 [00:06<00:00,  1.51it/s, loss=0.59]\n"
     ]
    },
    {
     "name": "stdout",
     "output_type": "stream",
     "text": [
      "Validation Dice Score\n",
      "Class 0: 0.9879, Class 1: 0.0146, Class 2: 0.0003, Class 3: 0.0086, Class 4: 0.3882, Class 5: 0.0165, Class 6: 0.1153, \n",
      "Validation F-beta Score\n",
      "Class 0: 0.9947, Class 1: 0.0120, Class 2: 0.0002, Class 3: 0.0050, Class 4: 0.3659, Class 5: 0.0096, Class 6: 0.0705, \n",
      "Validation mIoU Score\n",
      "Class 0: 0.9760, Class 1: 0.0073, Class 2: 0.0002, Class 3: 0.0043, Class 4: 0.2412, Class 5: 0.0083, Class 6: 0.0612, \n",
      "\n",
      "Overall Mean Dice Score: 0.1086\n",
      "Overall Mean F-beta Score: 0.0926\n",
      "Overall Mean IoU Score: 0.0645\n",
      "Training Loss: 0.6047, Validation Loss: 0.5895, Validation F-beta: 0.0814\n",
      "========================================================\n",
      "SUPER Best model saved. Loss:0.5895, Score:0.0814\n",
      "========================================================\n",
      "Epoch 14/4000\n"
     ]
    },
    {
     "name": "stderr",
     "output_type": "stream",
     "text": [
      "Training: 100%|██████████| 48/48 [00:32<00:00,  1.48it/s, loss=0.597]\n",
      "Validation: 100%|██████████| 10/10 [00:07<00:00,  1.36it/s, loss=0.582]\n"
     ]
    },
    {
     "name": "stdout",
     "output_type": "stream",
     "text": [
      "Validation Dice Score\n",
      "Class 0: 0.9885, Class 1: 0.0138, Class 2: 0.0003, Class 3: 0.0078, Class 4: 0.3822, Class 5: 0.0161, Class 6: 0.1291, \n",
      "Validation F-beta Score\n",
      "Class 0: 0.9951, Class 1: 0.0101, Class 2: 0.0002, Class 3: 0.0045, Class 4: 0.3720, Class 5: 0.0092, Class 6: 0.0789, \n",
      "Validation mIoU Score\n",
      "Class 0: 0.9774, Class 1: 0.0069, Class 2: 0.0001, Class 3: 0.0039, Class 4: 0.2369, Class 5: 0.0081, Class 6: 0.0690, \n",
      "\n",
      "Overall Mean Dice Score: 0.1098\n",
      "Overall Mean F-beta Score: 0.0950\n",
      "Overall Mean IoU Score: 0.0650\n",
      "Training Loss: 0.5967, Validation Loss: 0.5824, Validation F-beta: 0.0830\n",
      "========================================================\n",
      "SUPER Best model saved. Loss:0.5824, Score:0.0830\n",
      "========================================================\n",
      "Epoch 15/4000\n"
     ]
    },
    {
     "name": "stderr",
     "output_type": "stream",
     "text": [
      "Training: 100%|██████████| 48/48 [00:32<00:00,  1.47it/s, loss=0.589]\n",
      "Validation: 100%|██████████| 10/10 [00:06<00:00,  1.48it/s, loss=0.575]\n"
     ]
    },
    {
     "name": "stdout",
     "output_type": "stream",
     "text": [
      "Validation Dice Score\n",
      "Class 0: 0.9882, Class 1: 0.0117, Class 2: 0.0003, Class 3: 0.0074, Class 4: 0.4093, Class 5: 0.0205, Class 6: 0.1474, \n",
      "Validation F-beta Score\n",
      "Class 0: 0.9952, Class 1: 0.0085, Class 2: 0.0002, Class 3: 0.0043, Class 4: 0.3808, Class 5: 0.0119, Class 6: 0.0917, \n",
      "Validation mIoU Score\n",
      "Class 0: 0.9767, Class 1: 0.0059, Class 2: 0.0001, Class 3: 0.0037, Class 4: 0.2579, Class 5: 0.0104, Class 6: 0.0797, \n",
      "\n",
      "Overall Mean Dice Score: 0.1193\n",
      "Overall Mean F-beta Score: 0.0994\n",
      "Overall Mean IoU Score: 0.0715\n",
      "Training Loss: 0.5901, Validation Loss: 0.5767, Validation F-beta: 0.0883\n",
      "========================================================\n",
      "SUPER Best model saved. Loss:0.5767, Score:0.0883\n",
      "========================================================\n",
      "Epoch 16/4000\n"
     ]
    },
    {
     "name": "stderr",
     "output_type": "stream",
     "text": [
      "Training: 100%|██████████| 48/48 [00:32<00:00,  1.47it/s, loss=0.582]\n",
      "Validation: 100%|██████████| 10/10 [00:06<00:00,  1.52it/s, loss=0.572]\n"
     ]
    },
    {
     "name": "stdout",
     "output_type": "stream",
     "text": [
      "Validation Dice Score\n",
      "Class 0: 0.9888, Class 1: 0.0071, Class 2: 0.0001, Class 3: 0.0078, Class 4: 0.4068, Class 5: 0.0238, Class 6: 0.1768, \n",
      "Validation F-beta Score\n",
      "Class 0: 0.9950, Class 1: 0.0048, Class 2: 0.0001, Class 3: 0.0045, Class 4: 0.4039, Class 5: 0.0138, Class 6: 0.1103, \n",
      "Validation mIoU Score\n",
      "Class 0: 0.9779, Class 1: 0.0035, Class 2: 0.0000, Class 3: 0.0039, Class 4: 0.2556, Class 5: 0.0121, Class 6: 0.0970, \n",
      "\n",
      "Overall Mean Dice Score: 0.1245\n",
      "Overall Mean F-beta Score: 0.1075\n",
      "Overall Mean IoU Score: 0.0744\n",
      "Training Loss: 0.5841, Validation Loss: 0.5706, Validation F-beta: 0.0942\n",
      "========================================================\n",
      "SUPER Best model saved. Loss:0.5706, Score:0.0942\n",
      "========================================================\n",
      "Epoch 17/4000\n"
     ]
    },
    {
     "name": "stderr",
     "output_type": "stream",
     "text": [
      "Training: 100%|██████████| 48/48 [00:32<00:00,  1.48it/s, loss=0.58] \n",
      "Validation: 100%|██████████| 10/10 [00:07<00:00,  1.35it/s, loss=0.569]\n"
     ]
    },
    {
     "name": "stdout",
     "output_type": "stream",
     "text": [
      "Validation Dice Score\n",
      "Class 0: 0.9884, Class 1: 0.0036, Class 2: 0.0002, Class 3: 0.0063, Class 4: 0.4147, Class 5: 0.0317, Class 6: 0.2169, \n",
      "Validation F-beta Score\n",
      "Class 0: 0.9949, Class 1: 0.0024, Class 2: 0.0001, Class 3: 0.0036, Class 4: 0.3987, Class 5: 0.0183, Class 6: 0.1402, \n",
      "Validation mIoU Score\n",
      "Class 0: 0.9770, Class 1: 0.0018, Class 2: 0.0001, Class 3: 0.0031, Class 4: 0.2618, Class 5: 0.0161, Class 6: 0.1217, \n",
      "\n",
      "Overall Mean Dice Score: 0.1346\n",
      "Overall Mean F-beta Score: 0.1126\n",
      "Overall Mean IoU Score: 0.0809\n",
      "Training Loss: 0.5791, Validation Loss: 0.5671, Validation F-beta: 0.1000\n",
      "========================================================\n",
      "SUPER Best model saved. Loss:0.5671, Score:0.1000\n",
      "========================================================\n",
      "Epoch 18/4000\n"
     ]
    },
    {
     "name": "stderr",
     "output_type": "stream",
     "text": [
      "Training: 100%|██████████| 48/48 [00:32<00:00,  1.47it/s, loss=0.573]\n",
      "Validation: 100%|██████████| 10/10 [00:06<00:00,  1.52it/s, loss=0.562]\n"
     ]
    },
    {
     "name": "stdout",
     "output_type": "stream",
     "text": [
      "Validation Dice Score\n",
      "Class 0: 0.9883, Class 1: 0.0033, Class 2: 0.0000, Class 3: 0.0066, Class 4: 0.4431, Class 5: 0.0537, Class 6: 0.2416, \n",
      "Validation F-beta Score\n",
      "Class 0: 0.9944, Class 1: 0.0021, Class 2: 0.0000, Class 3: 0.0037, Class 4: 0.4326, Class 5: 0.0323, Class 6: 0.1644, \n",
      "Validation mIoU Score\n",
      "Class 0: 0.9769, Class 1: 0.0017, Class 2: 0.0000, Class 3: 0.0033, Class 4: 0.2851, Class 5: 0.0276, Class 6: 0.1375, \n",
      "\n",
      "Overall Mean Dice Score: 0.1497\n",
      "Overall Mean F-beta Score: 0.1270\n",
      "Overall Mean IoU Score: 0.0910\n",
      "Training Loss: 0.5747, Validation Loss: 0.5629, Validation F-beta: 0.1126\n",
      "========================================================\n",
      "SUPER Best model saved. Loss:0.5629, Score:0.1126\n",
      "========================================================\n",
      "Epoch 19/4000\n"
     ]
    },
    {
     "name": "stderr",
     "output_type": "stream",
     "text": [
      "Training: 100%|██████████| 48/48 [00:32<00:00,  1.46it/s, loss=0.57] \n",
      "Validation: 100%|██████████| 10/10 [00:06<00:00,  1.54it/s, loss=0.559]\n"
     ]
    },
    {
     "name": "stdout",
     "output_type": "stream",
     "text": [
      "Validation Dice Score\n",
      "Class 0: 0.9889, Class 1: 0.0013, Class 2: 0.0000, Class 3: 0.0048, Class 4: 0.4652, Class 5: 0.0870, Class 6: 0.2999, \n",
      "Validation F-beta Score\n",
      "Class 0: 0.9949, Class 1: 0.0008, Class 2: 0.0000, Class 3: 0.0027, Class 4: 0.4426, Class 5: 0.0551, Class 6: 0.2050, \n",
      "Validation mIoU Score\n",
      "Class 0: 0.9780, Class 1: 0.0006, Class 2: 0.0000, Class 3: 0.0024, Class 4: 0.3036, Class 5: 0.0455, Class 6: 0.1766, \n",
      "\n",
      "Overall Mean Dice Score: 0.1716\n",
      "Overall Mean F-beta Score: 0.1412\n",
      "Overall Mean IoU Score: 0.1058\n",
      "Training Loss: 0.5698, Validation Loss: 0.5577, Validation F-beta: 0.1270\n",
      "========================================================\n",
      "SUPER Best model saved. Loss:0.5577, Score:0.1270\n",
      "========================================================\n",
      "Epoch 20/4000\n"
     ]
    },
    {
     "name": "stderr",
     "output_type": "stream",
     "text": [
      "Training: 100%|██████████| 48/48 [00:32<00:00,  1.47it/s, loss=0.564]\n",
      "Validation: 100%|██████████| 10/10 [00:07<00:00,  1.38it/s, loss=0.554]\n"
     ]
    },
    {
     "name": "stdout",
     "output_type": "stream",
     "text": [
      "Validation Dice Score\n",
      "Class 0: 0.9886, Class 1: 0.0014, Class 2: 0.0000, Class 3: 0.0048, Class 4: 0.4766, Class 5: 0.1516, Class 6: 0.3656, \n",
      "Validation F-beta Score\n",
      "Class 0: 0.9938, Class 1: 0.0009, Class 2: 0.0000, Class 3: 0.0027, Class 4: 0.4698, Class 5: 0.1047, Class 6: 0.2681, \n",
      "Validation mIoU Score\n",
      "Class 0: 0.9775, Class 1: 0.0007, Class 2: 0.0000, Class 3: 0.0024, Class 4: 0.3132, Class 5: 0.0823, Class 6: 0.2239, \n",
      "\n",
      "Overall Mean Dice Score: 0.2000\n",
      "Overall Mean F-beta Score: 0.1692\n",
      "Overall Mean IoU Score: 0.1245\n",
      "Training Loss: 0.5651, Validation Loss: 0.5539, Validation F-beta: 0.1513\n",
      "========================================================\n",
      "SUPER Best model saved. Loss:0.5539, Score:0.1513\n",
      "========================================================\n",
      "Epoch 21/4000\n"
     ]
    },
    {
     "name": "stderr",
     "output_type": "stream",
     "text": [
      "Training: 100%|██████████| 48/48 [00:32<00:00,  1.48it/s, loss=0.558]\n",
      "Validation: 100%|██████████| 10/10 [00:06<00:00,  1.53it/s, loss=0.55]\n"
     ]
    },
    {
     "name": "stdout",
     "output_type": "stream",
     "text": [
      "Validation Dice Score\n",
      "Class 0: 0.9883, Class 1: 0.0006, Class 2: 0.0000, Class 3: 0.0034, Class 4: 0.5108, Class 5: 0.1739, Class 6: 0.4461, \n",
      "Validation F-beta Score\n",
      "Class 0: 0.9942, Class 1: 0.0004, Class 2: 0.0000, Class 3: 0.0019, Class 4: 0.4676, Class 5: 0.1226, Class 6: 0.3372, \n",
      "Validation mIoU Score\n",
      "Class 0: 0.9768, Class 1: 0.0003, Class 2: 0.0000, Class 3: 0.0017, Class 4: 0.3434, Class 5: 0.0954, Class 6: 0.2874, \n",
      "\n",
      "Overall Mean Dice Score: 0.2270\n",
      "Overall Mean F-beta Score: 0.1859\n",
      "Overall Mean IoU Score: 0.1456\n",
      "Training Loss: 0.5605, Validation Loss: 0.5491, Validation F-beta: 0.1698\n",
      "========================================================\n",
      "SUPER Best model saved. Loss:0.5491, Score:0.1698\n",
      "========================================================\n",
      "Epoch 22/4000\n"
     ]
    },
    {
     "name": "stderr",
     "output_type": "stream",
     "text": [
      "Training: 100%|██████████| 48/48 [00:32<00:00,  1.47it/s, loss=0.558]\n",
      "Validation: 100%|██████████| 10/10 [00:06<00:00,  1.52it/s, loss=0.547]\n"
     ]
    },
    {
     "name": "stdout",
     "output_type": "stream",
     "text": [
      "Validation Dice Score\n",
      "Class 0: 0.9883, Class 1: 0.0007, Class 2: 0.0000, Class 3: 0.0031, Class 4: 0.5289, Class 5: 0.2371, Class 6: 0.5034, \n",
      "Validation F-beta Score\n",
      "Class 0: 0.9936, Class 1: 0.0004, Class 2: 0.0000, Class 3: 0.0017, Class 4: 0.4739, Class 5: 0.1897, Class 6: 0.3919, \n",
      "Validation mIoU Score\n",
      "Class 0: 0.9769, Class 1: 0.0004, Class 2: 0.0000, Class 3: 0.0016, Class 4: 0.3596, Class 5: 0.1346, Class 6: 0.3377, \n",
      "\n",
      "Overall Mean Dice Score: 0.2546\n",
      "Overall Mean F-beta Score: 0.2115\n",
      "Overall Mean IoU Score: 0.1668\n",
      "Training Loss: 0.5555, Validation Loss: 0.5447, Validation F-beta: 0.1936\n",
      "========================================================\n",
      "SUPER Best model saved. Loss:0.5447, Score:0.1936\n",
      "========================================================\n",
      "Epoch 23/4000\n"
     ]
    },
    {
     "name": "stderr",
     "output_type": "stream",
     "text": [
      "Training: 100%|██████████| 48/48 [00:32<00:00,  1.46it/s, loss=0.552]\n",
      "Validation: 100%|██████████| 10/10 [00:07<00:00,  1.39it/s, loss=0.532]\n"
     ]
    },
    {
     "name": "stdout",
     "output_type": "stream",
     "text": [
      "Validation Dice Score\n",
      "Class 0: 0.9896, Class 1: 0.0003, Class 2: 0.0000, Class 3: 0.0020, Class 4: 0.5269, Class 5: 0.2854, Class 6: 0.5683, \n",
      "Validation F-beta Score\n",
      "Class 0: 0.9937, Class 1: 0.0002, Class 2: 0.0000, Class 3: 0.0011, Class 4: 0.4980, Class 5: 0.2408, Class 6: 0.4596, \n",
      "Validation mIoU Score\n",
      "Class 0: 0.9793, Class 1: 0.0001, Class 2: 0.0000, Class 3: 0.0010, Class 4: 0.3579, Class 5: 0.1670, Class 6: 0.3973, \n",
      "\n",
      "Overall Mean Dice Score: 0.2766\n",
      "Overall Mean F-beta Score: 0.2399\n",
      "Overall Mean IoU Score: 0.1847\n",
      "Training Loss: 0.5513, Validation Loss: 0.5372, Validation F-beta: 0.2178\n",
      "========================================================\n",
      "SUPER Best model saved. Loss:0.5372, Score:0.2178\n",
      "========================================================\n",
      "Epoch 24/4000\n"
     ]
    },
    {
     "name": "stderr",
     "output_type": "stream",
     "text": [
      "Training: 100%|██████████| 48/48 [00:33<00:00,  1.45it/s, loss=0.545]\n",
      "Validation: 100%|██████████| 10/10 [00:06<00:00,  1.50it/s, loss=0.536]\n"
     ]
    },
    {
     "name": "stdout",
     "output_type": "stream",
     "text": [
      "Validation Dice Score\n",
      "Class 0: 0.9885, Class 1: 0.0003, Class 2: 0.0000, Class 3: 0.0009, Class 4: 0.5541, Class 5: 0.2719, Class 6: 0.5877, \n",
      "Validation F-beta Score\n",
      "Class 0: 0.9934, Class 1: 0.0002, Class 2: 0.0000, Class 3: 0.0005, Class 4: 0.4942, Class 5: 0.2338, Class 6: 0.4796, \n",
      "Validation mIoU Score\n",
      "Class 0: 0.9772, Class 1: 0.0001, Class 2: 0.0000, Class 3: 0.0005, Class 4: 0.3835, Class 5: 0.1577, Class 6: 0.4166, \n",
      "\n",
      "Overall Mean Dice Score: 0.2830\n",
      "Overall Mean F-beta Score: 0.2417\n",
      "Overall Mean IoU Score: 0.1917\n",
      "Training Loss: 0.5459, Validation Loss: 0.5350, Validation F-beta: 0.2217\n",
      "========================================================\n",
      "SUPER Best model saved. Loss:0.5350, Score:0.2217\n",
      "========================================================\n",
      "Epoch 25/4000\n"
     ]
    },
    {
     "name": "stderr",
     "output_type": "stream",
     "text": [
      "Training: 100%|██████████| 48/48 [00:32<00:00,  1.46it/s, loss=0.538]\n",
      "Validation: 100%|██████████| 10/10 [00:06<00:00,  1.54it/s, loss=0.531]\n"
     ]
    },
    {
     "name": "stdout",
     "output_type": "stream",
     "text": [
      "Validation Dice Score\n",
      "Class 0: 0.9887, Class 1: 0.0000, Class 2: 0.0000, Class 3: 0.0009, Class 4: 0.5731, Class 5: 0.2696, Class 6: 0.6522, \n",
      "Validation F-beta Score\n",
      "Class 0: 0.9928, Class 1: 0.0000, Class 2: 0.0000, Class 3: 0.0005, Class 4: 0.5138, Class 5: 0.2518, Class 6: 0.5352, \n",
      "Validation mIoU Score\n",
      "Class 0: 0.9776, Class 1: 0.0000, Class 2: 0.0000, Class 3: 0.0005, Class 4: 0.4019, Class 5: 0.1568, Class 6: 0.4843, \n",
      "\n",
      "Overall Mean Dice Score: 0.2992\n",
      "Overall Mean F-beta Score: 0.2603\n",
      "Overall Mean IoU Score: 0.2087\n",
      "Training Loss: 0.5419, Validation Loss: 0.5323, Validation F-beta: 0.2396\n",
      "========================================================\n",
      "SUPER Best model saved. Loss:0.5323, Score:0.2396\n",
      "========================================================\n",
      "Epoch 26/4000\n"
     ]
    },
    {
     "name": "stderr",
     "output_type": "stream",
     "text": [
      "Training: 100%|██████████| 48/48 [00:32<00:00,  1.47it/s, loss=0.54] \n",
      "Validation: 100%|██████████| 10/10 [00:07<00:00,  1.37it/s, loss=0.528]\n"
     ]
    },
    {
     "name": "stdout",
     "output_type": "stream",
     "text": [
      "Validation Dice Score\n",
      "Class 0: 0.9881, Class 1: 0.0000, Class 2: 0.0000, Class 3: 0.0019, Class 4: 0.6036, Class 5: 0.3029, Class 6: 0.6769, \n",
      "Validation F-beta Score\n",
      "Class 0: 0.9910, Class 1: 0.0000, Class 2: 0.0000, Class 3: 0.0010, Class 4: 0.5660, Class 5: 0.2908, Class 6: 0.6392, \n",
      "Validation mIoU Score\n",
      "Class 0: 0.9765, Class 1: 0.0000, Class 2: 0.0000, Class 3: 0.0010, Class 4: 0.4326, Class 5: 0.1790, Class 6: 0.5119, \n",
      "\n",
      "Overall Mean Dice Score: 0.3171\n",
      "Overall Mean F-beta Score: 0.2994\n",
      "Overall Mean IoU Score: 0.2249\n",
      "Training Loss: 0.5389, Validation Loss: 0.5275, Validation F-beta: 0.2696\n",
      "========================================================\n",
      "SUPER Best model saved. Loss:0.5275, Score:0.2696\n",
      "========================================================\n",
      "Epoch 27/4000\n"
     ]
    },
    {
     "name": "stderr",
     "output_type": "stream",
     "text": [
      "Training: 100%|██████████| 48/48 [00:32<00:00,  1.46it/s, loss=0.53] \n",
      "Validation: 100%|██████████| 10/10 [00:06<00:00,  1.53it/s, loss=0.529]\n"
     ]
    },
    {
     "name": "stdout",
     "output_type": "stream",
     "text": [
      "Validation Dice Score\n",
      "Class 0: 0.9884, Class 1: 0.0000, Class 2: 0.0000, Class 3: 0.0060, Class 4: 0.5949, Class 5: 0.2899, Class 6: 0.7163, \n",
      "Validation F-beta Score\n",
      "Class 0: 0.9917, Class 1: 0.0000, Class 2: 0.0000, Class 3: 0.0033, Class 4: 0.5400, Class 5: 0.2840, Class 6: 0.6442, \n",
      "Validation mIoU Score\n",
      "Class 0: 0.9771, Class 1: 0.0000, Class 2: 0.0000, Class 3: 0.0030, Class 4: 0.4237, Class 5: 0.1703, Class 6: 0.5585, \n",
      "\n",
      "Overall Mean Dice Score: 0.3214\n",
      "Overall Mean F-beta Score: 0.2943\n",
      "Overall Mean IoU Score: 0.2311\n",
      "Training Loss: 0.5350, Validation Loss: 0.5249, Validation F-beta: 0.2690\n",
      "Epoch 28/4000\n"
     ]
    },
    {
     "name": "stderr",
     "output_type": "stream",
     "text": [
      "Training: 100%|██████████| 48/48 [00:32<00:00,  1.46it/s, loss=0.536]\n",
      "Validation: 100%|██████████| 10/10 [00:06<00:00,  1.50it/s, loss=0.52]\n"
     ]
    },
    {
     "name": "stdout",
     "output_type": "stream",
     "text": [
      "Validation Dice Score\n",
      "Class 0: 0.9893, Class 1: 0.0000, Class 2: 0.0000, Class 3: 0.0141, Class 4: 0.6181, Class 5: 0.2933, Class 6: 0.7281, \n",
      "Validation F-beta Score\n",
      "Class 0: 0.9919, Class 1: 0.0000, Class 2: 0.0000, Class 3: 0.0078, Class 4: 0.5824, Class 5: 0.2821, Class 6: 0.6927, \n",
      "Validation mIoU Score\n",
      "Class 0: 0.9788, Class 1: 0.0000, Class 2: 0.0000, Class 3: 0.0071, Class 4: 0.4475, Class 5: 0.1729, Class 6: 0.5728, \n",
      "\n",
      "Overall Mean Dice Score: 0.3307\n",
      "Overall Mean F-beta Score: 0.3130\n",
      "Overall Mean IoU Score: 0.2401\n",
      "Training Loss: 0.5326, Validation Loss: 0.5207, Validation F-beta: 0.2838\n",
      "========================================================\n",
      "SUPER Best model saved. Loss:0.5207, Score:0.2838\n",
      "========================================================\n",
      "Epoch 29/4000\n"
     ]
    },
    {
     "name": "stderr",
     "output_type": "stream",
     "text": [
      "Training: 100%|██████████| 48/48 [00:32<00:00,  1.48it/s, loss=0.532]\n",
      "Validation: 100%|██████████| 10/10 [00:07<00:00,  1.37it/s, loss=0.521]\n"
     ]
    },
    {
     "name": "stdout",
     "output_type": "stream",
     "text": [
      "Validation Dice Score\n",
      "Class 0: 0.9886, Class 1: 0.0000, Class 2: 0.0000, Class 3: 0.0129, Class 4: 0.6082, Class 5: 0.3359, Class 6: 0.7434, \n",
      "Validation F-beta Score\n",
      "Class 0: 0.9913, Class 1: 0.0000, Class 2: 0.0000, Class 3: 0.0072, Class 4: 0.5558, Class 5: 0.3409, Class 6: 0.7029, \n",
      "Validation mIoU Score\n",
      "Class 0: 0.9775, Class 1: 0.0000, Class 2: 0.0000, Class 3: 0.0065, Class 4: 0.4372, Class 5: 0.2023, Class 6: 0.5919, \n",
      "\n",
      "Overall Mean Dice Score: 0.3401\n",
      "Overall Mean F-beta Score: 0.3214\n",
      "Overall Mean IoU Score: 0.2476\n",
      "Training Loss: 0.5294, Validation Loss: 0.5186, Validation F-beta: 0.2918\n",
      "========================================================\n",
      "SUPER Best model saved. Loss:0.5186, Score:0.2918\n",
      "========================================================\n",
      "Epoch 30/4000\n"
     ]
    },
    {
     "name": "stderr",
     "output_type": "stream",
     "text": [
      "Training: 100%|██████████| 48/48 [00:32<00:00,  1.46it/s, loss=0.526]\n",
      "Validation: 100%|██████████| 10/10 [00:06<00:00,  1.55it/s, loss=0.527]\n"
     ]
    },
    {
     "name": "stdout",
     "output_type": "stream",
     "text": [
      "Validation Dice Score\n",
      "Class 0: 0.9886, Class 1: 0.0000, Class 2: 0.0000, Class 3: 0.0263, Class 4: 0.6165, Class 5: 0.3063, Class 6: 0.7498, \n",
      "Validation F-beta Score\n",
      "Class 0: 0.9906, Class 1: 0.0000, Class 2: 0.0000, Class 3: 0.0150, Class 4: 0.5880, Class 5: 0.3087, Class 6: 0.7361, \n",
      "Validation mIoU Score\n",
      "Class 0: 0.9774, Class 1: 0.0000, Class 2: 0.0000, Class 3: 0.0133, Class 4: 0.4460, Class 5: 0.1813, Class 6: 0.6001, \n",
      "\n",
      "Overall Mean Dice Score: 0.3398\n",
      "Overall Mean F-beta Score: 0.3296\n",
      "Overall Mean IoU Score: 0.2482\n",
      "Training Loss: 0.5270, Validation Loss: 0.5180, Validation F-beta: 0.2970\n",
      "========================================================\n",
      "SUPER Best model saved. Loss:0.5180, Score:0.2970\n",
      "========================================================\n",
      "Epoch 31/4000\n"
     ]
    },
    {
     "name": "stderr",
     "output_type": "stream",
     "text": [
      "Training: 100%|██████████| 48/48 [00:32<00:00,  1.46it/s, loss=0.526]\n",
      "Validation: 100%|██████████| 10/10 [00:06<00:00,  1.52it/s, loss=0.511]\n"
     ]
    },
    {
     "name": "stdout",
     "output_type": "stream",
     "text": [
      "Validation Dice Score\n",
      "Class 0: 0.9891, Class 1: 0.0000, Class 2: 0.0000, Class 3: 0.0343, Class 4: 0.6285, Class 5: 0.3575, Class 6: 0.7668, \n",
      "Validation F-beta Score\n",
      "Class 0: 0.9910, Class 1: 0.0000, Class 2: 0.0000, Class 3: 0.0204, Class 4: 0.5988, Class 5: 0.3573, Class 6: 0.7474, \n",
      "Validation mIoU Score\n",
      "Class 0: 0.9783, Class 1: 0.0000, Class 2: 0.0000, Class 3: 0.0174, Class 4: 0.4585, Class 5: 0.2183, Class 6: 0.6225, \n",
      "\n",
      "Overall Mean Dice Score: 0.3574\n",
      "Overall Mean F-beta Score: 0.3448\n",
      "Overall Mean IoU Score: 0.2634\n",
      "Training Loss: 0.5247, Validation Loss: 0.5129, Validation F-beta: 0.3122\n",
      "========================================================\n",
      "SUPER Best model saved. Loss:0.5129, Score:0.3122\n",
      "========================================================\n",
      "Epoch 32/4000\n"
     ]
    },
    {
     "name": "stderr",
     "output_type": "stream",
     "text": [
      "Training: 100%|██████████| 48/48 [00:33<00:00,  1.44it/s, loss=0.524]\n",
      "Validation: 100%|██████████| 10/10 [00:06<00:00,  1.49it/s, loss=0.52]\n"
     ]
    },
    {
     "name": "stdout",
     "output_type": "stream",
     "text": [
      "Validation Dice Score\n",
      "Class 0: 0.9885, Class 1: 0.0000, Class 2: 0.0000, Class 3: 0.0344, Class 4: 0.6259, Class 5: 0.3433, Class 6: 0.7749, \n",
      "Validation F-beta Score\n",
      "Class 0: 0.9900, Class 1: 0.0000, Class 2: 0.0000, Class 3: 0.0204, Class 4: 0.5842, Class 5: 0.3775, Class 6: 0.7581, \n",
      "Validation mIoU Score\n",
      "Class 0: 0.9772, Class 1: 0.0000, Class 2: 0.0000, Class 3: 0.0175, Class 4: 0.4557, Class 5: 0.2076, Class 6: 0.6333, \n",
      "\n",
      "Overall Mean Dice Score: 0.3557\n",
      "Overall Mean F-beta Score: 0.3480\n",
      "Overall Mean IoU Score: 0.2628\n",
      "Training Loss: 0.5214, Validation Loss: 0.5126, Validation F-beta: 0.3140\n",
      "========================================================\n",
      "SUPER Best model saved. Loss:0.5126, Score:0.3140\n",
      "========================================================\n",
      "Epoch 33/4000\n"
     ]
    },
    {
     "name": "stderr",
     "output_type": "stream",
     "text": [
      "Training: 100%|██████████| 48/48 [00:32<00:00,  1.47it/s, loss=0.512]\n",
      "Validation: 100%|██████████| 10/10 [00:06<00:00,  1.54it/s, loss=0.515]\n"
     ]
    },
    {
     "name": "stdout",
     "output_type": "stream",
     "text": [
      "Validation Dice Score\n",
      "Class 0: 0.9888, Class 1: 0.0000, Class 2: 0.0000, Class 3: 0.0433, Class 4: 0.6307, Class 5: 0.3247, Class 6: 0.7859, \n",
      "Validation F-beta Score\n",
      "Class 0: 0.9902, Class 1: 0.0000, Class 2: 0.0000, Class 3: 0.0259, Class 4: 0.6066, Class 5: 0.3486, Class 6: 0.7585, \n",
      "Validation mIoU Score\n",
      "Class 0: 0.9778, Class 1: 0.0000, Class 2: 0.0000, Class 3: 0.0222, Class 4: 0.4609, Class 5: 0.1950, Class 6: 0.6481, \n",
      "\n",
      "Overall Mean Dice Score: 0.3569\n",
      "Overall Mean F-beta Score: 0.3479\n",
      "Overall Mean IoU Score: 0.2652\n",
      "Training Loss: 0.5200, Validation Loss: 0.5111, Validation F-beta: 0.3149\n",
      "========================================================\n",
      "SUPER Best model saved. Loss:0.5111, Score:0.3149\n",
      "========================================================\n",
      "Epoch 34/4000\n"
     ]
    },
    {
     "name": "stderr",
     "output_type": "stream",
     "text": [
      "Training: 100%|██████████| 48/48 [00:32<00:00,  1.47it/s, loss=0.518]\n",
      "Validation: 100%|██████████| 10/10 [00:07<00:00,  1.35it/s, loss=0.508]\n"
     ]
    },
    {
     "name": "stdout",
     "output_type": "stream",
     "text": [
      "Validation Dice Score\n",
      "Class 0: 0.9887, Class 1: 0.0000, Class 2: 0.0000, Class 3: 0.0380, Class 4: 0.6403, Class 5: 0.3302, Class 6: 0.7798, \n",
      "Validation F-beta Score\n",
      "Class 0: 0.9898, Class 1: 0.0000, Class 2: 0.0000, Class 3: 0.0224, Class 4: 0.6083, Class 5: 0.3696, Class 6: 0.7763, \n",
      "Validation mIoU Score\n",
      "Class 0: 0.9776, Class 1: 0.0000, Class 2: 0.0000, Class 3: 0.0194, Class 4: 0.4711, Class 5: 0.1983, Class 6: 0.6400, \n",
      "\n",
      "Overall Mean Dice Score: 0.3577\n",
      "Overall Mean F-beta Score: 0.3553\n",
      "Overall Mean IoU Score: 0.2658\n",
      "Training Loss: 0.5179, Validation Loss: 0.5095, Validation F-beta: 0.3195\n",
      "========================================================\n",
      "SUPER Best model saved. Loss:0.5095, Score:0.3195\n",
      "========================================================\n",
      "Epoch 35/4000\n"
     ]
    },
    {
     "name": "stderr",
     "output_type": "stream",
     "text": [
      "Training: 100%|██████████| 48/48 [00:32<00:00,  1.47it/s, loss=0.509]\n",
      "Validation: 100%|██████████| 10/10 [00:06<00:00,  1.49it/s, loss=0.509]\n"
     ]
    },
    {
     "name": "stdout",
     "output_type": "stream",
     "text": [
      "Validation Dice Score\n",
      "Class 0: 0.9878, Class 1: 0.0000, Class 2: 0.0000, Class 3: 0.0419, Class 4: 0.6457, Class 5: 0.3312, Class 6: 0.7774, \n",
      "Validation F-beta Score\n",
      "Class 0: 0.9885, Class 1: 0.0000, Class 2: 0.0000, Class 3: 0.0248, Class 4: 0.6099, Class 5: 0.3990, Class 6: 0.7872, \n",
      "Validation mIoU Score\n",
      "Class 0: 0.9759, Class 1: 0.0000, Class 2: 0.0000, Class 3: 0.0214, Class 4: 0.4771, Class 5: 0.1989, Class 6: 0.6365, \n",
      "\n",
      "Overall Mean Dice Score: 0.3593\n",
      "Overall Mean F-beta Score: 0.3642\n",
      "Overall Mean IoU Score: 0.2668\n",
      "Training Loss: 0.5152, Validation Loss: 0.5098, Validation F-beta: 0.3252\n",
      "Epoch 36/4000\n"
     ]
    },
    {
     "name": "stderr",
     "output_type": "stream",
     "text": [
      "Training: 100%|██████████| 48/48 [00:32<00:00,  1.47it/s, loss=0.515]\n",
      "Validation: 100%|██████████| 10/10 [00:06<00:00,  1.52it/s, loss=0.501]\n"
     ]
    },
    {
     "name": "stdout",
     "output_type": "stream",
     "text": [
      "Validation Dice Score\n",
      "Class 0: 0.9883, Class 1: 0.0000, Class 2: 0.0000, Class 3: 0.0503, Class 4: 0.6408, Class 5: 0.3423, Class 6: 0.7909, \n",
      "Validation F-beta Score\n",
      "Class 0: 0.9895, Class 1: 0.0000, Class 2: 0.0000, Class 3: 0.0300, Class 4: 0.5935, Class 5: 0.3977, Class 6: 0.8017, \n",
      "Validation mIoU Score\n",
      "Class 0: 0.9769, Class 1: 0.0000, Class 2: 0.0000, Class 3: 0.0258, Class 4: 0.4718, Class 5: 0.2068, Class 6: 0.6546, \n",
      "\n",
      "Overall Mean Dice Score: 0.3649\n",
      "Overall Mean F-beta Score: 0.3646\n",
      "Overall Mean IoU Score: 0.2718\n",
      "Training Loss: 0.5141, Validation Loss: 0.5074, Validation F-beta: 0.3275\n",
      "========================================================\n",
      "SUPER Best model saved. Loss:0.5074, Score:0.3275\n",
      "========================================================\n",
      "Epoch 37/4000\n"
     ]
    },
    {
     "name": "stderr",
     "output_type": "stream",
     "text": [
      "Training: 100%|██████████| 48/48 [00:32<00:00,  1.47it/s, loss=0.511]\n",
      "Validation: 100%|██████████| 10/10 [00:07<00:00,  1.30it/s, loss=0.504]\n"
     ]
    },
    {
     "name": "stdout",
     "output_type": "stream",
     "text": [
      "Validation Dice Score\n",
      "Class 0: 0.9887, Class 1: 0.0000, Class 2: 0.0000, Class 3: 0.0580, Class 4: 0.6480, Class 5: 0.3506, Class 6: 0.8101, \n",
      "Validation F-beta Score\n",
      "Class 0: 0.9900, Class 1: 0.0000, Class 2: 0.0000, Class 3: 0.0351, Class 4: 0.6193, Class 5: 0.3826, Class 6: 0.8058, \n",
      "Validation mIoU Score\n",
      "Class 0: 0.9777, Class 1: 0.0000, Class 2: 0.0000, Class 3: 0.0299, Class 4: 0.4797, Class 5: 0.2130, Class 6: 0.6811, \n",
      "\n",
      "Overall Mean Dice Score: 0.3733\n",
      "Overall Mean F-beta Score: 0.3686\n",
      "Overall Mean IoU Score: 0.2807\n",
      "Training Loss: 0.5126, Validation Loss: 0.5031, Validation F-beta: 0.3334\n",
      "========================================================\n",
      "SUPER Best model saved. Loss:0.5031, Score:0.3334\n",
      "========================================================\n",
      "Epoch 38/4000\n"
     ]
    },
    {
     "name": "stderr",
     "output_type": "stream",
     "text": [
      "Training: 100%|██████████| 48/48 [00:32<00:00,  1.47it/s, loss=0.51] \n",
      "Validation: 100%|██████████| 10/10 [00:06<00:00,  1.54it/s, loss=0.505]\n"
     ]
    },
    {
     "name": "stdout",
     "output_type": "stream",
     "text": [
      "Validation Dice Score\n",
      "Class 0: 0.9883, Class 1: 0.0001, Class 2: 0.0000, Class 3: 0.0749, Class 4: 0.6528, Class 5: 0.3855, Class 6: 0.7944, \n",
      "Validation F-beta Score\n",
      "Class 0: 0.9892, Class 1: 0.0000, Class 2: 0.0000, Class 3: 0.0476, Class 4: 0.6278, Class 5: 0.4204, Class 6: 0.8183, \n",
      "Validation mIoU Score\n",
      "Class 0: 0.9769, Class 1: 0.0000, Class 2: 0.0000, Class 3: 0.0389, Class 4: 0.4847, Class 5: 0.2398, Class 6: 0.6605, \n",
      "\n",
      "Overall Mean Dice Score: 0.3815\n",
      "Overall Mean F-beta Score: 0.3828\n",
      "Overall Mean IoU Score: 0.2848\n",
      "Training Loss: 0.5109, Validation Loss: 0.5025, Validation F-beta: 0.3436\n",
      "========================================================\n",
      "SUPER Best model saved. Loss:0.5025, Score:0.3436\n",
      "========================================================\n",
      "Epoch 39/4000\n"
     ]
    },
    {
     "name": "stderr",
     "output_type": "stream",
     "text": [
      "Training: 100%|██████████| 48/48 [00:32<00:00,  1.46it/s, loss=0.499]\n",
      "Validation: 100%|██████████| 10/10 [00:06<00:00,  1.52it/s, loss=0.506]\n"
     ]
    },
    {
     "name": "stdout",
     "output_type": "stream",
     "text": [
      "Validation Dice Score\n",
      "Class 0: 0.9882, Class 1: 0.0001, Class 2: 0.0000, Class 3: 0.0952, Class 4: 0.6636, Class 5: 0.3615, Class 6: 0.7900, \n",
      "Validation F-beta Score\n",
      "Class 0: 0.9882, Class 1: 0.0000, Class 2: 0.0000, Class 3: 0.0609, Class 4: 0.6470, Class 5: 0.4211, Class 6: 0.8145, \n",
      "Validation mIoU Score\n",
      "Class 0: 0.9766, Class 1: 0.0000, Class 2: 0.0000, Class 3: 0.0500, Class 4: 0.4968, Class 5: 0.2214, Class 6: 0.6536, \n",
      "\n",
      "Overall Mean Dice Score: 0.3821\n",
      "Overall Mean F-beta Score: 0.3887\n",
      "Overall Mean IoU Score: 0.2844\n",
      "Training Loss: 0.5082, Validation Loss: 0.5033, Validation F-beta: 0.3470\n",
      "Epoch 40/4000\n"
     ]
    },
    {
     "name": "stderr",
     "output_type": "stream",
     "text": [
      "Training: 100%|██████████| 48/48 [00:33<00:00,  1.43it/s, loss=0.506]\n",
      "Validation: 100%|██████████| 10/10 [00:06<00:00,  1.51it/s, loss=0.501]\n"
     ]
    },
    {
     "name": "stdout",
     "output_type": "stream",
     "text": [
      "Validation Dice Score\n",
      "Class 0: 0.9887, Class 1: 0.0002, Class 2: 0.0000, Class 3: 0.1220, Class 4: 0.6636, Class 5: 0.3587, Class 6: 0.7791, \n",
      "Validation F-beta Score\n",
      "Class 0: 0.9888, Class 1: 0.0001, Class 2: 0.0000, Class 3: 0.0797, Class 4: 0.6326, Class 5: 0.4362, Class 6: 0.8301, \n",
      "Validation mIoU Score\n",
      "Class 0: 0.9776, Class 1: 0.0001, Class 2: 0.0000, Class 3: 0.0650, Class 4: 0.4969, Class 5: 0.2196, Class 6: 0.6388, \n",
      "\n",
      "Overall Mean Dice Score: 0.3847\n",
      "Overall Mean F-beta Score: 0.3957\n",
      "Overall Mean IoU Score: 0.2841\n",
      "Training Loss: 0.5071, Validation Loss: 0.5002, Validation F-beta: 0.3511\n",
      "========================================================\n",
      "SUPER Best model saved. Loss:0.5002, Score:0.3511\n",
      "========================================================\n",
      "Epoch 41/4000\n"
     ]
    },
    {
     "name": "stderr",
     "output_type": "stream",
     "text": [
      "Training: 100%|██████████| 48/48 [00:32<00:00,  1.47it/s, loss=0.499]\n",
      "Validation: 100%|██████████| 10/10 [00:06<00:00,  1.55it/s, loss=0.497]\n"
     ]
    },
    {
     "name": "stdout",
     "output_type": "stream",
     "text": [
      "Validation Dice Score\n",
      "Class 0: 0.9885, Class 1: 0.0003, Class 2: 0.0000, Class 3: 0.1583, Class 4: 0.6585, Class 5: 0.3635, Class 6: 0.8079, \n",
      "Validation F-beta Score\n",
      "Class 0: 0.9885, Class 1: 0.0001, Class 2: 0.0000, Class 3: 0.1125, Class 4: 0.6400, Class 5: 0.4304, Class 6: 0.8277, \n",
      "Validation mIoU Score\n",
      "Class 0: 0.9773, Class 1: 0.0001, Class 2: 0.0000, Class 3: 0.0861, Class 4: 0.4910, Class 5: 0.2231, Class 6: 0.6780, \n",
      "\n",
      "Overall Mean Dice Score: 0.3977\n",
      "Overall Mean F-beta Score: 0.4021\n",
      "Overall Mean IoU Score: 0.2957\n",
      "Training Loss: 0.5049, Validation Loss: 0.4980, Validation F-beta: 0.3595\n",
      "========================================================\n",
      "SUPER Best model saved. Loss:0.4980, Score:0.3595\n",
      "========================================================\n",
      "Epoch 42/4000\n"
     ]
    },
    {
     "name": "stderr",
     "output_type": "stream",
     "text": [
      "Training: 100%|██████████| 48/48 [00:32<00:00,  1.45it/s, loss=0.504]\n",
      "Validation: 100%|██████████| 10/10 [00:07<00:00,  1.36it/s, loss=0.499]\n"
     ]
    },
    {
     "name": "stdout",
     "output_type": "stream",
     "text": [
      "Validation Dice Score\n",
      "Class 0: 0.9880, Class 1: 0.0004, Class 2: 0.0000, Class 3: 0.1839, Class 4: 0.6649, Class 5: 0.3858, Class 6: 0.7865, \n",
      "Validation F-beta Score\n",
      "Class 0: 0.9875, Class 1: 0.0002, Class 2: 0.0000, Class 3: 0.1510, Class 4: 0.6453, Class 5: 0.4536, Class 6: 0.8445, \n",
      "Validation mIoU Score\n",
      "Class 0: 0.9764, Class 1: 0.0002, Class 2: 0.0000, Class 3: 0.1014, Class 4: 0.4983, Class 5: 0.2398, Class 6: 0.6494, \n",
      "\n",
      "Overall Mean Dice Score: 0.4043\n",
      "Overall Mean F-beta Score: 0.4189\n",
      "Overall Mean IoU Score: 0.2978\n",
      "Training Loss: 0.5040, Validation Loss: 0.4985, Validation F-beta: 0.3705\n",
      "Epoch 43/4000\n"
     ]
    },
    {
     "name": "stderr",
     "output_type": "stream",
     "text": [
      "Training: 100%|██████████| 48/48 [00:32<00:00,  1.47it/s, loss=0.509]\n",
      "Validation: 100%|██████████| 10/10 [00:06<00:00,  1.52it/s, loss=0.498]\n"
     ]
    },
    {
     "name": "stdout",
     "output_type": "stream",
     "text": [
      "Validation Dice Score\n",
      "Class 0: 0.9878, Class 1: 0.0003, Class 2: 0.0000, Class 3: 0.1995, Class 4: 0.6627, Class 5: 0.3860, Class 6: 0.8145, \n",
      "Validation F-beta Score\n",
      "Class 0: 0.9873, Class 1: 0.0002, Class 2: 0.0000, Class 3: 0.1584, Class 4: 0.6410, Class 5: 0.4678, Class 6: 0.8540, \n",
      "Validation mIoU Score\n",
      "Class 0: 0.9759, Class 1: 0.0002, Class 2: 0.0000, Class 3: 0.1111, Class 4: 0.4957, Class 5: 0.2401, Class 6: 0.6878, \n",
      "\n",
      "Overall Mean Dice Score: 0.4126\n",
      "Overall Mean F-beta Score: 0.4243\n",
      "Overall Mean IoU Score: 0.3070\n",
      "Training Loss: 0.5030, Validation Loss: 0.4968, Validation F-beta: 0.3774\n",
      "========================================================\n",
      "SUPER Best model saved. Loss:0.4968, Score:0.3774\n",
      "========================================================\n",
      "Epoch 44/4000\n"
     ]
    },
    {
     "name": "stderr",
     "output_type": "stream",
     "text": [
      "Training: 100%|██████████| 48/48 [00:32<00:00,  1.47it/s, loss=0.502]\n",
      "Validation: 100%|██████████| 10/10 [00:06<00:00,  1.52it/s, loss=0.486]\n"
     ]
    },
    {
     "name": "stdout",
     "output_type": "stream",
     "text": [
      "Validation Dice Score\n",
      "Class 0: 0.9888, Class 1: 0.0011, Class 2: 0.0000, Class 3: 0.2465, Class 4: 0.6680, Class 5: 0.3741, Class 6: 0.8142, \n",
      "Validation F-beta Score\n",
      "Class 0: 0.9884, Class 1: 0.0006, Class 2: 0.0000, Class 3: 0.2292, Class 4: 0.6573, Class 5: 0.4321, Class 6: 0.8401, \n",
      "Validation mIoU Score\n",
      "Class 0: 0.9778, Class 1: 0.0006, Class 2: 0.0000, Class 3: 0.1409, Class 4: 0.5017, Class 5: 0.2311, Class 6: 0.6878, \n",
      "\n",
      "Overall Mean Dice Score: 0.4208\n",
      "Overall Mean F-beta Score: 0.4319\n",
      "Overall Mean IoU Score: 0.3124\n",
      "Training Loss: 0.5017, Validation Loss: 0.4950, Validation F-beta: 0.3841\n",
      "========================================================\n",
      "SUPER Best model saved. Loss:0.4950, Score:0.3841\n",
      "========================================================\n",
      "Epoch 45/4000\n"
     ]
    },
    {
     "name": "stderr",
     "output_type": "stream",
     "text": [
      "Training: 100%|██████████| 48/48 [00:32<00:00,  1.47it/s, loss=0.505]\n",
      "Validation: 100%|██████████| 10/10 [00:07<00:00,  1.34it/s, loss=0.494]\n"
     ]
    },
    {
     "name": "stdout",
     "output_type": "stream",
     "text": [
      "Validation Dice Score\n",
      "Class 0: 0.9891, Class 1: 0.0015, Class 2: 0.0000, Class 3: 0.2636, Class 4: 0.6678, Class 5: 0.3831, Class 6: 0.8304, \n",
      "Validation F-beta Score\n",
      "Class 0: 0.9891, Class 1: 0.0008, Class 2: 0.0000, Class 3: 0.2314, Class 4: 0.6374, Class 5: 0.4520, Class 6: 0.8568, \n",
      "Validation mIoU Score\n",
      "Class 0: 0.9785, Class 1: 0.0008, Class 2: 0.0000, Class 3: 0.1521, Class 4: 0.5017, Class 5: 0.2374, Class 6: 0.7105, \n",
      "\n",
      "Overall Mean Dice Score: 0.4293\n",
      "Overall Mean F-beta Score: 0.4357\n",
      "Overall Mean IoU Score: 0.3205\n",
      "Training Loss: 0.5001, Validation Loss: 0.4921, Validation F-beta: 0.3896\n",
      "========================================================\n",
      "SUPER Best model saved. Loss:0.4921, Score:0.3896\n",
      "========================================================\n",
      "Epoch 46/4000\n"
     ]
    },
    {
     "name": "stderr",
     "output_type": "stream",
     "text": [
      "Training: 100%|██████████| 48/48 [00:32<00:00,  1.46it/s, loss=0.503]\n",
      "Validation: 100%|██████████| 10/10 [00:06<00:00,  1.51it/s, loss=0.491]\n"
     ]
    },
    {
     "name": "stdout",
     "output_type": "stream",
     "text": [
      "Validation Dice Score\n",
      "Class 0: 0.9883, Class 1: 0.0032, Class 2: 0.0000, Class 3: 0.2701, Class 4: 0.6700, Class 5: 0.3589, Class 6: 0.8210, \n",
      "Validation F-beta Score\n",
      "Class 0: 0.9872, Class 1: 0.0017, Class 2: 0.0000, Class 3: 0.2441, Class 4: 0.6730, Class 5: 0.4402, Class 6: 0.8529, \n",
      "Validation mIoU Score\n",
      "Class 0: 0.9768, Class 1: 0.0016, Class 2: 0.0000, Class 3: 0.1563, Class 4: 0.5040, Class 5: 0.2193, Class 6: 0.6967, \n",
      "\n",
      "Overall Mean Dice Score: 0.4246\n",
      "Overall Mean F-beta Score: 0.4424\n",
      "Overall Mean IoU Score: 0.3156\n",
      "Training Loss: 0.4989, Validation Loss: 0.4941, Validation F-beta: 0.3916\n",
      "Epoch 47/4000\n"
     ]
    },
    {
     "name": "stderr",
     "output_type": "stream",
     "text": [
      "Training: 100%|██████████| 48/48 [00:32<00:00,  1.47it/s, loss=0.502]\n",
      "Validation: 100%|██████████| 10/10 [00:06<00:00,  1.51it/s, loss=0.49]\n"
     ]
    },
    {
     "name": "stdout",
     "output_type": "stream",
     "text": [
      "Validation Dice Score\n",
      "Class 0: 0.9883, Class 1: 0.0049, Class 2: 0.0000, Class 3: 0.2990, Class 4: 0.6676, Class 5: 0.3564, Class 6: 0.8267, \n",
      "Validation F-beta Score\n",
      "Class 0: 0.9869, Class 1: 0.0026, Class 2: 0.0000, Class 3: 0.2734, Class 4: 0.6435, Class 5: 0.4803, Class 6: 0.8508, \n",
      "Validation mIoU Score\n",
      "Class 0: 0.9768, Class 1: 0.0025, Class 2: 0.0000, Class 3: 0.1761, Class 4: 0.5013, Class 5: 0.2178, Class 6: 0.7049, \n",
      "\n",
      "Overall Mean Dice Score: 0.4309\n",
      "Overall Mean F-beta Score: 0.4501\n",
      "Overall Mean IoU Score: 0.3205\n",
      "Training Loss: 0.4962, Validation Loss: 0.4934, Validation F-beta: 0.3983\n",
      "Epoch 48/4000\n"
     ]
    },
    {
     "name": "stderr",
     "output_type": "stream",
     "text": [
      "Training: 100%|██████████| 48/48 [00:32<00:00,  1.46it/s, loss=0.504]\n",
      "Validation: 100%|██████████| 10/10 [00:07<00:00,  1.38it/s, loss=0.493]\n"
     ]
    },
    {
     "name": "stdout",
     "output_type": "stream",
     "text": [
      "Validation Dice Score\n",
      "Class 0: 0.9884, Class 1: 0.0095, Class 2: 0.0000, Class 3: 0.3139, Class 4: 0.6602, Class 5: 0.3790, Class 6: 0.8034, \n",
      "Validation F-beta Score\n",
      "Class 0: 0.9884, Class 1: 0.0051, Class 2: 0.0000, Class 3: 0.3124, Class 4: 0.6140, Class 5: 0.4476, Class 6: 0.8357, \n",
      "Validation mIoU Score\n",
      "Class 0: 0.9771, Class 1: 0.0048, Class 2: 0.0000, Class 3: 0.1871, Class 4: 0.4931, Class 5: 0.2343, Class 6: 0.6719, \n",
      "\n",
      "Overall Mean Dice Score: 0.4332\n",
      "Overall Mean F-beta Score: 0.4430\n",
      "Overall Mean IoU Score: 0.3182\n",
      "Training Loss: 0.4956, Validation Loss: 0.4922, Validation F-beta: 0.3931\n",
      "Epoch 49/4000\n"
     ]
    },
    {
     "name": "stderr",
     "output_type": "stream",
     "text": [
      "Training: 100%|██████████| 48/48 [00:32<00:00,  1.46it/s, loss=0.495]\n",
      "Validation: 100%|██████████| 10/10 [00:06<00:00,  1.49it/s, loss=0.492]\n"
     ]
    },
    {
     "name": "stdout",
     "output_type": "stream",
     "text": [
      "Validation Dice Score\n",
      "Class 0: 0.9883, Class 1: 0.0147, Class 2: 0.0000, Class 3: 0.3274, Class 4: 0.6708, Class 5: 0.3929, Class 6: 0.8208, \n",
      "Validation F-beta Score\n",
      "Class 0: 0.9865, Class 1: 0.0081, Class 2: 0.0000, Class 3: 0.2961, Class 4: 0.6990, Class 5: 0.4807, Class 6: 0.8631, \n",
      "Validation mIoU Score\n",
      "Class 0: 0.9768, Class 1: 0.0074, Class 2: 0.0000, Class 3: 0.1964, Class 4: 0.5051, Class 5: 0.2454, Class 6: 0.6967, \n",
      "\n",
      "Overall Mean Dice Score: 0.4453\n",
      "Overall Mean F-beta Score: 0.4694\n",
      "Overall Mean IoU Score: 0.3302\n",
      "Training Loss: 0.4938, Validation Loss: 0.4891, Validation F-beta: 0.4137\n",
      "========================================================\n",
      "SUPER Best model saved. Loss:0.4891, Score:0.4137\n",
      "========================================================\n",
      "Epoch 50/4000\n"
     ]
    },
    {
     "name": "stderr",
     "output_type": "stream",
     "text": [
      "Training: 100%|██████████| 48/48 [00:32<00:00,  1.46it/s, loss=0.482]\n",
      "Validation: 100%|██████████| 10/10 [00:06<00:00,  1.52it/s, loss=0.483]\n"
     ]
    },
    {
     "name": "stdout",
     "output_type": "stream",
     "text": [
      "Validation Dice Score\n",
      "Class 0: 0.9887, Class 1: 0.0258, Class 2: 0.0000, Class 3: 0.3311, Class 4: 0.6715, Class 5: 0.4167, Class 6: 0.8130, \n",
      "Validation F-beta Score\n",
      "Class 0: 0.9888, Class 1: 0.0144, Class 2: 0.0000, Class 3: 0.3747, Class 4: 0.6340, Class 5: 0.4712, Class 6: 0.8352, \n",
      "Validation mIoU Score\n",
      "Class 0: 0.9776, Class 1: 0.0131, Class 2: 0.0000, Class 3: 0.1996, Class 4: 0.5056, Class 5: 0.2637, Class 6: 0.6852, \n",
      "\n",
      "Overall Mean Dice Score: 0.4516\n",
      "Overall Mean F-beta Score: 0.4659\n",
      "Overall Mean IoU Score: 0.3334\n",
      "Training Loss: 0.4932, Validation Loss: 0.4858, Validation F-beta: 0.4129\n",
      "Epoch 51/4000\n"
     ]
    },
    {
     "name": "stderr",
     "output_type": "stream",
     "text": [
      "Training: 100%|██████████| 48/48 [00:32<00:00,  1.46it/s, loss=0.49] \n",
      "Validation: 100%|██████████| 10/10 [00:06<00:00,  1.43it/s, loss=0.491]\n"
     ]
    },
    {
     "name": "stdout",
     "output_type": "stream",
     "text": [
      "Validation Dice Score\n",
      "Class 0: 0.9887, Class 1: 0.0424, Class 2: 0.0000, Class 3: 0.3349, Class 4: 0.6803, Class 5: 0.4099, Class 6: 0.8311, \n",
      "Validation F-beta Score\n",
      "Class 0: 0.9876, Class 1: 0.0247, Class 2: 0.0000, Class 3: 0.3899, Class 4: 0.6829, Class 5: 0.4738, Class 6: 0.8538, \n",
      "Validation mIoU Score\n",
      "Class 0: 0.9777, Class 1: 0.0217, Class 2: 0.0000, Class 3: 0.2019, Class 4: 0.5158, Class 5: 0.2581, Class 6: 0.7121, \n",
      "\n",
      "Overall Mean Dice Score: 0.4597\n",
      "Overall Mean F-beta Score: 0.4850\n",
      "Overall Mean IoU Score: 0.3419\n",
      "Training Loss: 0.4912, Validation Loss: 0.4869, Validation F-beta: 0.4278\n",
      "========================================================\n",
      "SUPER Best model saved. Loss:0.4869, Score:0.4278\n",
      "========================================================\n",
      "Epoch 52/4000\n"
     ]
    },
    {
     "name": "stderr",
     "output_type": "stream",
     "text": [
      "Training: 100%|██████████| 48/48 [00:32<00:00,  1.47it/s, loss=0.481]\n",
      "Validation: 100%|██████████| 10/10 [00:06<00:00,  1.55it/s, loss=0.478]\n"
     ]
    },
    {
     "name": "stdout",
     "output_type": "stream",
     "text": [
      "Validation Dice Score\n",
      "Class 0: 0.9889, Class 1: 0.0547, Class 2: 0.0000, Class 3: 0.3759, Class 4: 0.6852, Class 5: 0.4188, Class 6: 0.8356, \n",
      "Validation F-beta Score\n",
      "Class 0: 0.9873, Class 1: 0.0324, Class 2: 0.0000, Class 3: 0.3936, Class 4: 0.6885, Class 5: 0.5111, Class 6: 0.8668, \n",
      "Validation mIoU Score\n",
      "Class 0: 0.9780, Class 1: 0.0281, Class 2: 0.0000, Class 3: 0.2326, Class 4: 0.5216, Class 5: 0.2654, Class 6: 0.7183, \n",
      "\n",
      "Overall Mean Dice Score: 0.4740\n",
      "Overall Mean F-beta Score: 0.4985\n",
      "Overall Mean IoU Score: 0.3532\n",
      "Training Loss: 0.4898, Validation Loss: 0.4846, Validation F-beta: 0.4404\n",
      "========================================================\n",
      "SUPER Best model saved. Loss:0.4846, Score:0.4404\n",
      "========================================================\n",
      "Epoch 53/4000\n"
     ]
    },
    {
     "name": "stderr",
     "output_type": "stream",
     "text": [
      "Training: 100%|██████████| 48/48 [00:32<00:00,  1.48it/s, loss=0.489]\n",
      "Validation: 100%|██████████| 10/10 [00:06<00:00,  1.52it/s, loss=0.483]\n"
     ]
    },
    {
     "name": "stdout",
     "output_type": "stream",
     "text": [
      "Validation Dice Score\n",
      "Class 0: 0.9891, Class 1: 0.0522, Class 2: 0.0000, Class 3: 0.3672, Class 4: 0.6774, Class 5: 0.4166, Class 6: 0.8414, \n",
      "Validation F-beta Score\n",
      "Class 0: 0.9882, Class 1: 0.0313, Class 2: 0.0000, Class 3: 0.4492, Class 4: 0.6731, Class 5: 0.4652, Class 6: 0.8693, \n",
      "Validation mIoU Score\n",
      "Class 0: 0.9784, Class 1: 0.0268, Class 2: 0.0000, Class 3: 0.2254, Class 4: 0.5122, Class 5: 0.2641, Class 6: 0.7266, \n",
      "\n",
      "Overall Mean Dice Score: 0.4710\n",
      "Overall Mean F-beta Score: 0.4976\n",
      "Overall Mean IoU Score: 0.3510\n",
      "Training Loss: 0.4905, Validation Loss: 0.4800, Validation F-beta: 0.4390\n",
      "Epoch 54/4000\n"
     ]
    },
    {
     "name": "stderr",
     "output_type": "stream",
     "text": [
      "Training: 100%|██████████| 48/48 [00:33<00:00,  1.44it/s, loss=0.49] \n",
      "Validation: 100%|██████████| 10/10 [00:06<00:00,  1.52it/s, loss=0.48]\n"
     ]
    },
    {
     "name": "stdout",
     "output_type": "stream",
     "text": [
      "Validation Dice Score\n",
      "Class 0: 0.9883, Class 1: 0.0705, Class 2: 0.0000, Class 3: 0.3651, Class 4: 0.6919, Class 5: 0.3988, Class 6: 0.8208, \n",
      "Validation F-beta Score\n",
      "Class 0: 0.9862, Class 1: 0.0452, Class 2: 0.0000, Class 3: 0.4241, Class 4: 0.6846, Class 5: 0.5095, Class 6: 0.8791, \n",
      "Validation mIoU Score\n",
      "Class 0: 0.9768, Class 1: 0.0366, Class 2: 0.0000, Class 3: 0.2245, Class 4: 0.5291, Class 5: 0.2506, Class 6: 0.6969, \n",
      "\n",
      "Overall Mean Dice Score: 0.4694\n",
      "Overall Mean F-beta Score: 0.5085\n",
      "Overall Mean IoU Score: 0.3476\n",
      "Training Loss: 0.4871, Validation Loss: 0.4844, Validation F-beta: 0.4441\n",
      "========================================================\n",
      "SUPER Best model saved. Loss:0.4844, Score:0.4441\n",
      "========================================================\n",
      "Epoch 55/4000\n"
     ]
    },
    {
     "name": "stderr",
     "output_type": "stream",
     "text": [
      "Training: 100%|██████████| 48/48 [00:32<00:00,  1.47it/s, loss=0.487]\n",
      "Validation: 100%|██████████| 10/10 [00:06<00:00,  1.53it/s, loss=0.475]\n"
     ]
    },
    {
     "name": "stdout",
     "output_type": "stream",
     "text": [
      "Validation Dice Score\n",
      "Class 0: 0.9892, Class 1: 0.0935, Class 2: 0.0000, Class 3: 0.3950, Class 4: 0.6780, Class 5: 0.3925, Class 6: 0.8253, \n",
      "Validation F-beta Score\n",
      "Class 0: 0.9888, Class 1: 0.0606, Class 2: 0.0000, Class 3: 0.5069, Class 4: 0.6610, Class 5: 0.4265, Class 6: 0.8527, \n",
      "Validation mIoU Score\n",
      "Class 0: 0.9787, Class 1: 0.0491, Class 2: 0.0000, Class 3: 0.2471, Class 4: 0.5132, Class 5: 0.2447, Class 6: 0.7030, \n",
      "\n",
      "Overall Mean Dice Score: 0.4769\n",
      "Overall Mean F-beta Score: 0.5016\n",
      "Overall Mean IoU Score: 0.3514\n",
      "Training Loss: 0.4876, Validation Loss: 0.4808, Validation F-beta: 0.4415\n",
      "Epoch 56/4000\n"
     ]
    },
    {
     "name": "stderr",
     "output_type": "stream",
     "text": [
      "Training: 100%|██████████| 48/48 [00:32<00:00,  1.47it/s, loss=0.483]\n",
      "Validation: 100%|██████████| 10/10 [00:07<00:00,  1.36it/s, loss=0.478]\n"
     ]
    },
    {
     "name": "stdout",
     "output_type": "stream",
     "text": [
      "Validation Dice Score\n",
      "Class 0: 0.9879, Class 1: 0.1020, Class 2: 0.0000, Class 3: 0.4078, Class 4: 0.6866, Class 5: 0.4180, Class 6: 0.8160, \n",
      "Validation F-beta Score\n",
      "Class 0: 0.9861, Class 1: 0.0656, Class 2: 0.0000, Class 3: 0.4483, Class 4: 0.6706, Class 5: 0.5317, Class 6: 0.8575, \n",
      "Validation mIoU Score\n",
      "Class 0: 0.9760, Class 1: 0.0538, Class 2: 0.0000, Class 3: 0.2575, Class 4: 0.5229, Class 5: 0.2648, Class 6: 0.6899, \n",
      "\n",
      "Overall Mean Dice Score: 0.4861\n",
      "Overall Mean F-beta Score: 0.5147\n",
      "Overall Mean IoU Score: 0.3578\n",
      "Training Loss: 0.4852, Validation Loss: 0.4814, Validation F-beta: 0.4520\n",
      "========================================================\n",
      "SUPER Best model saved. Loss:0.4814, Score:0.4520\n",
      "========================================================\n",
      "Epoch 57/4000\n"
     ]
    },
    {
     "name": "stderr",
     "output_type": "stream",
     "text": [
      "Training: 100%|██████████| 48/48 [00:32<00:00,  1.48it/s, loss=0.491]\n",
      "Validation: 100%|██████████| 10/10 [00:06<00:00,  1.50it/s, loss=0.479]\n"
     ]
    },
    {
     "name": "stdout",
     "output_type": "stream",
     "text": [
      "Validation Dice Score\n",
      "Class 0: 0.9880, Class 1: 0.1301, Class 2: 0.0000, Class 3: 0.3928, Class 4: 0.6831, Class 5: 0.4170, Class 6: 0.8406, \n",
      "Validation F-beta Score\n",
      "Class 0: 0.9856, Class 1: 0.0905, Class 2: 0.0000, Class 3: 0.4264, Class 4: 0.7008, Class 5: 0.5255, Class 6: 0.8797, \n",
      "Validation mIoU Score\n",
      "Class 0: 0.9764, Class 1: 0.0697, Class 2: 0.0000, Class 3: 0.2459, Class 4: 0.5189, Class 5: 0.2640, Class 6: 0.7261, \n",
      "\n",
      "Overall Mean Dice Score: 0.4927\n",
      "Overall Mean F-beta Score: 0.5246\n",
      "Overall Mean IoU Score: 0.3649\n",
      "Training Loss: 0.4819, Validation Loss: 0.4825, Validation F-beta: 0.4607\n",
      "Epoch 58/4000\n"
     ]
    },
    {
     "name": "stderr",
     "output_type": "stream",
     "text": [
      "Training: 100%|██████████| 48/48 [00:32<00:00,  1.47it/s, loss=0.491]\n",
      "Validation: 100%|██████████| 10/10 [00:06<00:00,  1.53it/s, loss=0.475]\n"
     ]
    },
    {
     "name": "stdout",
     "output_type": "stream",
     "text": [
      "Validation Dice Score\n",
      "Class 0: 0.9884, Class 1: 0.1440, Class 2: 0.0000, Class 3: 0.3912, Class 4: 0.6798, Class 5: 0.4117, Class 6: 0.8458, \n",
      "Validation F-beta Score\n",
      "Class 0: 0.9866, Class 1: 0.0992, Class 2: 0.0000, Class 3: 0.4890, Class 4: 0.6792, Class 5: 0.5108, Class 6: 0.8653, \n",
      "Validation mIoU Score\n",
      "Class 0: 0.9770, Class 1: 0.0776, Class 2: 0.0000, Class 3: 0.2442, Class 4: 0.5150, Class 5: 0.2599, Class 6: 0.7330, \n",
      "\n",
      "Overall Mean Dice Score: 0.4945\n",
      "Overall Mean F-beta Score: 0.5287\n",
      "Overall Mean IoU Score: 0.3660\n",
      "Training Loss: 0.4819, Validation Loss: 0.4787, Validation F-beta: 0.4636\n",
      "========================================================\n",
      "SUPER Best model saved. Loss:0.4787, Score:0.4636\n",
      "========================================================\n",
      "Epoch 59/4000\n"
     ]
    },
    {
     "name": "stderr",
     "output_type": "stream",
     "text": [
      "Training: 100%|██████████| 48/48 [00:32<00:00,  1.46it/s, loss=0.477]\n",
      "Validation: 100%|██████████| 10/10 [00:07<00:00,  1.38it/s, loss=0.482]\n"
     ]
    },
    {
     "name": "stdout",
     "output_type": "stream",
     "text": [
      "Validation Dice Score\n",
      "Class 0: 0.9879, Class 1: 0.2205, Class 2: 0.0000, Class 3: 0.4091, Class 4: 0.6931, Class 5: 0.4224, Class 6: 0.8403, \n",
      "Validation F-beta Score\n",
      "Class 0: 0.9850, Class 1: 0.1711, Class 2: 0.0000, Class 3: 0.4772, Class 4: 0.7151, Class 5: 0.5498, Class 6: 0.8702, \n",
      "Validation mIoU Score\n",
      "Class 0: 0.9761, Class 1: 0.1242, Class 2: 0.0000, Class 3: 0.2582, Class 4: 0.5305, Class 5: 0.2685, Class 6: 0.7247, \n",
      "\n",
      "Overall Mean Dice Score: 0.5171\n",
      "Overall Mean F-beta Score: 0.5567\n",
      "Overall Mean IoU Score: 0.3812\n",
      "Training Loss: 0.4815, Validation Loss: 0.4776, Validation F-beta: 0.4865\n",
      "========================================================\n",
      "SUPER Best model saved. Loss:0.4776, Score:0.4865\n",
      "========================================================\n",
      "Epoch 60/4000\n"
     ]
    },
    {
     "name": "stderr",
     "output_type": "stream",
     "text": [
      "Training: 100%|██████████| 48/48 [00:32<00:00,  1.47it/s, loss=0.482]\n",
      "Validation: 100%|██████████| 10/10 [00:06<00:00,  1.50it/s, loss=0.471]\n"
     ]
    },
    {
     "name": "stdout",
     "output_type": "stream",
     "text": [
      "Validation Dice Score\n",
      "Class 0: 0.9884, Class 1: 0.2704, Class 2: 0.0000, Class 3: 0.3917, Class 4: 0.6930, Class 5: 0.4139, Class 6: 0.8341, \n",
      "Validation F-beta Score\n",
      "Class 0: 0.9861, Class 1: 0.2143, Class 2: 0.0000, Class 3: 0.4397, Class 4: 0.7042, Class 5: 0.5323, Class 6: 0.8744, \n",
      "Validation mIoU Score\n",
      "Class 0: 0.9770, Class 1: 0.1566, Class 2: 0.0000, Class 3: 0.2444, Class 4: 0.5304, Class 5: 0.2615, Class 6: 0.7160, \n",
      "\n",
      "Overall Mean Dice Score: 0.5206\n",
      "Overall Mean F-beta Score: 0.5530\n",
      "Overall Mean IoU Score: 0.3818\n",
      "Training Loss: 0.4788, Validation Loss: 0.4781, Validation F-beta: 0.4845\n",
      "Epoch 61/4000\n"
     ]
    },
    {
     "name": "stderr",
     "output_type": "stream",
     "text": [
      "Training: 100%|██████████| 48/48 [00:32<00:00,  1.48it/s, loss=0.469]\n",
      "Validation: 100%|██████████| 10/10 [00:06<00:00,  1.53it/s, loss=0.476]\n"
     ]
    },
    {
     "name": "stdout",
     "output_type": "stream",
     "text": [
      "Validation Dice Score\n",
      "Class 0: 0.9879, Class 1: 0.3199, Class 2: 0.0000, Class 3: 0.4298, Class 4: 0.6949, Class 5: 0.4342, Class 6: 0.8432, \n",
      "Validation F-beta Score\n",
      "Class 0: 0.9851, Class 1: 0.2705, Class 2: 0.0000, Class 3: 0.4849, Class 4: 0.7251, Class 5: 0.5483, Class 6: 0.8792, \n",
      "Validation mIoU Score\n",
      "Class 0: 0.9761, Class 1: 0.1909, Class 2: 0.0000, Class 3: 0.2745, Class 4: 0.5326, Class 5: 0.2784, Class 6: 0.7297, \n",
      "\n",
      "Overall Mean Dice Score: 0.5444\n",
      "Overall Mean F-beta Score: 0.5816\n",
      "Overall Mean IoU Score: 0.4012\n",
      "Training Loss: 0.4771, Validation Loss: 0.4756, Validation F-beta: 0.5095\n",
      "========================================================\n",
      "SUPER Best model saved. Loss:0.4756, Score:0.5095\n",
      "========================================================\n",
      "Epoch 62/4000\n"
     ]
    },
    {
     "name": "stderr",
     "output_type": "stream",
     "text": [
      "Training: 100%|██████████| 48/48 [00:33<00:00,  1.44it/s, loss=0.478]\n",
      "Validation: 100%|██████████| 10/10 [00:06<00:00,  1.50it/s, loss=0.467]\n"
     ]
    },
    {
     "name": "stdout",
     "output_type": "stream",
     "text": [
      "Validation Dice Score\n",
      "Class 0: 0.9885, Class 1: 0.3369, Class 2: 0.0000, Class 3: 0.4426, Class 4: 0.6871, Class 5: 0.4344, Class 6: 0.8348, \n",
      "Validation F-beta Score\n",
      "Class 0: 0.9866, Class 1: 0.2927, Class 2: 0.0000, Class 3: 0.5177, Class 4: 0.6846, Class 5: 0.5243, Class 6: 0.8748, \n",
      "Validation mIoU Score\n",
      "Class 0: 0.9773, Class 1: 0.2027, Class 2: 0.0000, Class 3: 0.2854, Class 4: 0.5237, Class 5: 0.2779, Class 6: 0.7177, \n",
      "\n",
      "Overall Mean Dice Score: 0.5471\n",
      "Overall Mean F-beta Score: 0.5788\n",
      "Overall Mean IoU Score: 0.4015\n",
      "Training Loss: 0.4769, Validation Loss: 0.4720, Validation F-beta: 0.5079\n",
      "Epoch 63/4000\n"
     ]
    },
    {
     "name": "stderr",
     "output_type": "stream",
     "text": [
      "Training: 100%|██████████| 48/48 [00:32<00:00,  1.46it/s, loss=0.474]\n",
      "Validation: 100%|██████████| 10/10 [00:06<00:00,  1.51it/s, loss=0.479]\n"
     ]
    },
    {
     "name": "stdout",
     "output_type": "stream",
     "text": [
      "Validation Dice Score\n",
      "Class 0: 0.9885, Class 1: 0.3574, Class 2: 0.0000, Class 3: 0.4273, Class 4: 0.7027, Class 5: 0.4206, Class 6: 0.8328, \n",
      "Validation F-beta Score\n",
      "Class 0: 0.9863, Class 1: 0.3302, Class 2: 0.0000, Class 3: 0.5164, Class 4: 0.7162, Class 5: 0.5126, Class 6: 0.8718, \n",
      "Validation mIoU Score\n",
      "Class 0: 0.9772, Class 1: 0.2181, Class 2: 0.0000, Class 3: 0.2725, Class 4: 0.5420, Class 5: 0.2668, Class 6: 0.7142, \n",
      "\n",
      "Overall Mean Dice Score: 0.5482\n",
      "Overall Mean F-beta Score: 0.5894\n",
      "Overall Mean IoU Score: 0.4027\n",
      "Training Loss: 0.4744, Validation Loss: 0.4725, Validation F-beta: 0.5148\n",
      "========================================================\n",
      "SUPER Best model saved. Loss:0.4725, Score:0.5148\n",
      "========================================================\n",
      "Epoch 64/4000\n"
     ]
    },
    {
     "name": "stderr",
     "output_type": "stream",
     "text": [
      "Training: 100%|██████████| 48/48 [00:32<00:00,  1.47it/s, loss=0.457]\n",
      "Validation: 100%|██████████| 10/10 [00:07<00:00,  1.36it/s, loss=0.476]\n"
     ]
    },
    {
     "name": "stdout",
     "output_type": "stream",
     "text": [
      "Validation Dice Score\n",
      "Class 0: 0.9887, Class 1: 0.3844, Class 2: 0.0000, Class 3: 0.4365, Class 4: 0.6980, Class 5: 0.4278, Class 6: 0.8307, \n",
      "Validation F-beta Score\n",
      "Class 0: 0.9875, Class 1: 0.3727, Class 2: 0.0000, Class 3: 0.5435, Class 4: 0.6868, Class 5: 0.4955, Class 6: 0.8563, \n",
      "Validation mIoU Score\n",
      "Class 0: 0.9777, Class 1: 0.2384, Class 2: 0.0000, Class 3: 0.2806, Class 4: 0.5362, Class 5: 0.2725, Class 6: 0.7109, \n",
      "\n",
      "Overall Mean Dice Score: 0.5555\n",
      "Overall Mean F-beta Score: 0.5910\n",
      "Overall Mean IoU Score: 0.4077\n",
      "Training Loss: 0.4741, Validation Loss: 0.4715, Validation F-beta: 0.5177\n",
      "========================================================\n",
      "SUPER Best model saved. Loss:0.4715, Score:0.5177\n",
      "========================================================\n",
      "Epoch 65/4000\n"
     ]
    },
    {
     "name": "stderr",
     "output_type": "stream",
     "text": [
      "Training: 100%|██████████| 48/48 [00:32<00:00,  1.47it/s, loss=0.473]\n",
      "Validation: 100%|██████████| 10/10 [00:06<00:00,  1.53it/s, loss=0.464]\n"
     ]
    },
    {
     "name": "stdout",
     "output_type": "stream",
     "text": [
      "Validation Dice Score\n",
      "Class 0: 0.9882, Class 1: 0.4131, Class 2: 0.0000, Class 3: 0.4356, Class 4: 0.7048, Class 5: 0.4224, Class 6: 0.8312, \n",
      "Validation F-beta Score\n",
      "Class 0: 0.9867, Class 1: 0.4234, Class 2: 0.0000, Class 3: 0.5482, Class 4: 0.6964, Class 5: 0.4904, Class 6: 0.8788, \n",
      "Validation mIoU Score\n",
      "Class 0: 0.9766, Class 1: 0.2612, Class 2: 0.0000, Class 3: 0.2800, Class 4: 0.5444, Class 5: 0.2687, Class 6: 0.7121, \n",
      "\n",
      "Overall Mean Dice Score: 0.5614\n",
      "Overall Mean F-beta Score: 0.6074\n",
      "Overall Mean IoU Score: 0.4133\n",
      "Training Loss: 0.4717, Validation Loss: 0.4690, Validation F-beta: 0.5298\n",
      "========================================================\n",
      "SUPER Best model saved. Loss:0.4690, Score:0.5298\n",
      "========================================================\n",
      "Epoch 66/4000\n"
     ]
    },
    {
     "name": "stderr",
     "output_type": "stream",
     "text": [
      "Training: 100%|██████████| 48/48 [00:32<00:00,  1.46it/s, loss=0.478]\n",
      "Validation: 100%|██████████| 10/10 [00:06<00:00,  1.53it/s, loss=0.471]\n"
     ]
    },
    {
     "name": "stdout",
     "output_type": "stream",
     "text": [
      "Validation Dice Score\n",
      "Class 0: 0.9883, Class 1: 0.4173, Class 2: 0.0000, Class 3: 0.4448, Class 4: 0.6903, Class 5: 0.4524, Class 6: 0.8446, \n",
      "Validation F-beta Score\n",
      "Class 0: 0.9851, Class 1: 0.3953, Class 2: 0.0000, Class 3: 0.4732, Class 4: 0.7278, Class 5: 0.5953, Class 6: 0.8846, \n",
      "Validation mIoU Score\n",
      "Class 0: 0.9768, Class 1: 0.2642, Class 2: 0.0000, Class 3: 0.2871, Class 4: 0.5278, Class 5: 0.2930, Class 6: 0.7314, \n",
      "\n",
      "Overall Mean Dice Score: 0.5699\n",
      "Overall Mean F-beta Score: 0.6153\n",
      "Overall Mean IoU Score: 0.4207\n",
      "Training Loss: 0.4718, Validation Loss: 0.4688, Validation F-beta: 0.5374\n",
      "========================================================\n",
      "SUPER Best model saved. Loss:0.4688, Score:0.5374\n",
      "========================================================\n",
      "Epoch 67/4000\n"
     ]
    },
    {
     "name": "stderr",
     "output_type": "stream",
     "text": [
      "Training: 100%|██████████| 48/48 [00:32<00:00,  1.47it/s, loss=0.473]\n",
      "Validation: 100%|██████████| 10/10 [00:07<00:00,  1.36it/s, loss=0.47]\n"
     ]
    },
    {
     "name": "stdout",
     "output_type": "stream",
     "text": [
      "Validation Dice Score\n",
      "Class 0: 0.9875, Class 1: 0.3944, Class 2: 0.0000, Class 3: 0.4440, Class 4: 0.6816, Class 5: 0.4289, Class 6: 0.8407, \n",
      "Validation F-beta Score\n",
      "Class 0: 0.9842, Class 1: 0.4134, Class 2: 0.0000, Class 3: 0.5677, Class 4: 0.7268, Class 5: 0.5316, Class 6: 0.8742, \n",
      "Validation mIoU Score\n",
      "Class 0: 0.9753, Class 1: 0.2462, Class 2: 0.0000, Class 3: 0.2859, Class 4: 0.5173, Class 5: 0.2731, Class 6: 0.7255, \n",
      "\n",
      "Overall Mean Dice Score: 0.5579\n",
      "Overall Mean F-beta Score: 0.6227\n",
      "Overall Mean IoU Score: 0.4096\n",
      "Training Loss: 0.4710, Validation Loss: 0.4731, Validation F-beta: 0.5375\n",
      "Epoch 68/4000\n"
     ]
    },
    {
     "name": "stderr",
     "output_type": "stream",
     "text": [
      "Training: 100%|██████████| 48/48 [00:32<00:00,  1.47it/s, loss=0.463]\n",
      "Validation: 100%|██████████| 10/10 [00:06<00:00,  1.53it/s, loss=0.475]\n"
     ]
    },
    {
     "name": "stdout",
     "output_type": "stream",
     "text": [
      "Validation Dice Score\n",
      "Class 0: 0.9879, Class 1: 0.4290, Class 2: 0.0000, Class 3: 0.3977, Class 4: 0.6972, Class 5: 0.4032, Class 6: 0.8525, \n",
      "Validation F-beta Score\n",
      "Class 0: 0.9848, Class 1: 0.4233, Class 2: 0.0000, Class 3: 0.4965, Class 4: 0.7120, Class 5: 0.5394, Class 6: 0.8762, \n",
      "Validation mIoU Score\n",
      "Class 0: 0.9761, Class 1: 0.2736, Class 2: 0.0000, Class 3: 0.2497, Class 4: 0.5355, Class 5: 0.2533, Class 6: 0.7433, \n",
      "\n",
      "Overall Mean Dice Score: 0.5559\n",
      "Overall Mean F-beta Score: 0.6095\n",
      "Overall Mean IoU Score: 0.4111\n",
      "Training Loss: 0.4697, Validation Loss: 0.4710, Validation F-beta: 0.5301\n",
      "Epoch 69/4000\n"
     ]
    },
    {
     "name": "stderr",
     "output_type": "stream",
     "text": [
      "Training: 100%|██████████| 48/48 [00:32<00:00,  1.47it/s, loss=0.468]\n",
      "Validation: 100%|██████████| 10/10 [00:06<00:00,  1.49it/s, loss=0.471]\n"
     ]
    },
    {
     "name": "stdout",
     "output_type": "stream",
     "text": [
      "Validation Dice Score\n",
      "Class 0: 0.9886, Class 1: 0.4379, Class 2: 0.0000, Class 3: 0.4166, Class 4: 0.6981, Class 5: 0.4333, Class 6: 0.8396, \n",
      "Validation F-beta Score\n",
      "Class 0: 0.9862, Class 1: 0.5036, Class 2: 0.0000, Class 3: 0.5717, Class 4: 0.7089, Class 5: 0.5131, Class 6: 0.8879, \n",
      "Validation mIoU Score\n",
      "Class 0: 0.9774, Class 1: 0.2807, Class 2: 0.0000, Class 3: 0.2638, Class 4: 0.5368, Class 5: 0.2773, Class 6: 0.7241, \n",
      "\n",
      "Overall Mean Dice Score: 0.5651\n",
      "Overall Mean F-beta Score: 0.6371\n",
      "Overall Mean IoU Score: 0.4165\n",
      "Training Loss: 0.4691, Validation Loss: 0.4688, Validation F-beta: 0.5489\n",
      "Epoch 70/4000\n"
     ]
    },
    {
     "name": "stderr",
     "output_type": "stream",
     "text": [
      "Training: 100%|██████████| 48/48 [00:32<00:00,  1.47it/s, loss=0.472]\n",
      "Validation: 100%|██████████| 10/10 [00:07<00:00,  1.35it/s, loss=0.468]\n"
     ]
    },
    {
     "name": "stdout",
     "output_type": "stream",
     "text": [
      "Validation Dice Score\n",
      "Class 0: 0.9883, Class 1: 0.4774, Class 2: 0.0000, Class 3: 0.4536, Class 4: 0.6977, Class 5: 0.4117, Class 6: 0.8393, \n",
      "Validation F-beta Score\n",
      "Class 0: 0.9861, Class 1: 0.4936, Class 2: 0.0000, Class 3: 0.5450, Class 4: 0.7051, Class 5: 0.5060, Class 6: 0.8894, \n",
      "Validation mIoU Score\n",
      "Class 0: 0.9769, Class 1: 0.3143, Class 2: 0.0000, Class 3: 0.2955, Class 4: 0.5359, Class 5: 0.2598, Class 6: 0.7235, \n",
      "\n",
      "Overall Mean Dice Score: 0.5759\n",
      "Overall Mean F-beta Score: 0.6278\n",
      "Overall Mean IoU Score: 0.4258\n",
      "Training Loss: 0.4681, Validation Loss: 0.4677, Validation F-beta: 0.5470\n",
      "========================================================\n",
      "SUPER Best model saved. Loss:0.4677, Score:0.5470\n",
      "========================================================\n",
      "Epoch 71/4000\n"
     ]
    },
    {
     "name": "stderr",
     "output_type": "stream",
     "text": [
      "Training: 100%|██████████| 48/48 [00:32<00:00,  1.48it/s, loss=0.461]\n",
      "Validation: 100%|██████████| 10/10 [00:06<00:00,  1.49it/s, loss=0.469]\n"
     ]
    },
    {
     "name": "stdout",
     "output_type": "stream",
     "text": [
      "Validation Dice Score\n",
      "Class 0: 0.9885, Class 1: 0.4747, Class 2: 0.0000, Class 3: 0.4383, Class 4: 0.7006, Class 5: 0.4268, Class 6: 0.8440, \n",
      "Validation F-beta Score\n",
      "Class 0: 0.9866, Class 1: 0.4879, Class 2: 0.0000, Class 3: 0.5720, Class 4: 0.7080, Class 5: 0.4895, Class 6: 0.9030, \n",
      "Validation mIoU Score\n",
      "Class 0: 0.9773, Class 1: 0.3119, Class 2: 0.0000, Class 3: 0.2813, Class 4: 0.5394, Class 5: 0.2715, Class 6: 0.7305, \n",
      "\n",
      "Overall Mean Dice Score: 0.5769\n",
      "Overall Mean F-beta Score: 0.6321\n",
      "Overall Mean IoU Score: 0.4269\n",
      "Training Loss: 0.4670, Validation Loss: 0.4635, Validation F-beta: 0.5500\n",
      "========================================================\n",
      "SUPER Best model saved. Loss:0.4635, Score:0.5500\n",
      "========================================================\n",
      "Epoch 72/4000\n"
     ]
    },
    {
     "name": "stderr",
     "output_type": "stream",
     "text": [
      "Training: 100%|██████████| 48/48 [00:32<00:00,  1.46it/s, loss=0.467]\n",
      "Validation: 100%|██████████| 10/10 [00:06<00:00,  1.52it/s, loss=0.467]\n"
     ]
    },
    {
     "name": "stdout",
     "output_type": "stream",
     "text": [
      "Validation Dice Score\n",
      "Class 0: 0.9884, Class 1: 0.4760, Class 2: 0.0000, Class 3: 0.4433, Class 4: 0.6886, Class 5: 0.4343, Class 6: 0.8422, \n",
      "Validation F-beta Score\n",
      "Class 0: 0.9861, Class 1: 0.5469, Class 2: 0.0000, Class 3: 0.5347, Class 4: 0.7030, Class 5: 0.5188, Class 6: 0.8843, \n",
      "Validation mIoU Score\n",
      "Class 0: 0.9770, Class 1: 0.3126, Class 2: 0.0000, Class 3: 0.2852, Class 4: 0.5254, Class 5: 0.2779, Class 6: 0.7280, \n",
      "\n",
      "Overall Mean Dice Score: 0.5769\n",
      "Overall Mean F-beta Score: 0.6375\n",
      "Overall Mean IoU Score: 0.4258\n",
      "Training Loss: 0.4673, Validation Loss: 0.4672, Validation F-beta: 0.5528\n",
      "Epoch 73/4000\n"
     ]
    },
    {
     "name": "stderr",
     "output_type": "stream",
     "text": [
      "Training: 100%|██████████| 48/48 [00:32<00:00,  1.47it/s, loss=0.454]\n",
      "Validation: 100%|██████████| 10/10 [00:07<00:00,  1.38it/s, loss=0.468]\n"
     ]
    },
    {
     "name": "stdout",
     "output_type": "stream",
     "text": [
      "Validation Dice Score\n",
      "Class 0: 0.9887, Class 1: 0.4821, Class 2: 0.0000, Class 3: 0.4193, Class 4: 0.6981, Class 5: 0.4333, Class 6: 0.8387, \n",
      "Validation F-beta Score\n",
      "Class 0: 0.9862, Class 1: 0.5077, Class 2: 0.0000, Class 3: 0.5688, Class 4: 0.7064, Class 5: 0.5228, Class 6: 0.8876, \n",
      "Validation mIoU Score\n",
      "Class 0: 0.9776, Class 1: 0.3180, Class 2: 0.0000, Class 3: 0.2676, Class 4: 0.5364, Class 5: 0.2775, Class 6: 0.7227, \n",
      "\n",
      "Overall Mean Dice Score: 0.5743\n",
      "Overall Mean F-beta Score: 0.6387\n",
      "Overall Mean IoU Score: 0.4245\n",
      "Training Loss: 0.4654, Validation Loss: 0.4653, Validation F-beta: 0.5530\n",
      "Epoch 74/4000\n"
     ]
    },
    {
     "name": "stderr",
     "output_type": "stream",
     "text": [
      "Training: 100%|██████████| 48/48 [00:32<00:00,  1.46it/s, loss=0.459]\n",
      "Validation: 100%|██████████| 10/10 [00:06<00:00,  1.51it/s, loss=0.458]\n"
     ]
    },
    {
     "name": "stdout",
     "output_type": "stream",
     "text": [
      "Validation Dice Score\n",
      "Class 0: 0.9887, Class 1: 0.5079, Class 2: 0.0000, Class 3: 0.4466, Class 4: 0.6917, Class 5: 0.4307, Class 6: 0.8368, \n",
      "Validation F-beta Score\n",
      "Class 0: 0.9862, Class 1: 0.5346, Class 2: 0.0000, Class 3: 0.5783, Class 4: 0.6977, Class 5: 0.5364, Class 6: 0.8848, \n",
      "Validation mIoU Score\n",
      "Class 0: 0.9777, Class 1: 0.3413, Class 2: 0.0000, Class 3: 0.2880, Class 4: 0.5289, Class 5: 0.2755, Class 6: 0.7203, \n",
      "\n",
      "Overall Mean Dice Score: 0.5827\n",
      "Overall Mean F-beta Score: 0.6464\n",
      "Overall Mean IoU Score: 0.4308\n",
      "Training Loss: 0.4637, Validation Loss: 0.4610, Validation F-beta: 0.5601\n",
      "========================================================\n",
      "SUPER Best model saved. Loss:0.4610, Score:0.5601\n",
      "========================================================\n",
      "Epoch 75/4000\n"
     ]
    },
    {
     "name": "stderr",
     "output_type": "stream",
     "text": [
      "Training: 100%|██████████| 48/48 [00:32<00:00,  1.48it/s, loss=0.459]\n",
      "Validation: 100%|██████████| 10/10 [00:06<00:00,  1.49it/s, loss=0.462]\n"
     ]
    },
    {
     "name": "stdout",
     "output_type": "stream",
     "text": [
      "Validation Dice Score\n",
      "Class 0: 0.9883, Class 1: 0.5175, Class 2: 0.0000, Class 3: 0.4506, Class 4: 0.6977, Class 5: 0.4221, Class 6: 0.8494, \n",
      "Validation F-beta Score\n",
      "Class 0: 0.9853, Class 1: 0.5461, Class 2: 0.0000, Class 3: 0.5317, Class 4: 0.7235, Class 5: 0.5556, Class 6: 0.8910, \n",
      "Validation mIoU Score\n",
      "Class 0: 0.9770, Class 1: 0.3493, Class 2: 0.0000, Class 3: 0.2936, Class 4: 0.5359, Class 5: 0.2677, Class 6: 0.7388, \n",
      "\n",
      "Overall Mean Dice Score: 0.5875\n",
      "Overall Mean F-beta Score: 0.6496\n",
      "Overall Mean IoU Score: 0.4371\n",
      "Training Loss: 0.4626, Validation Loss: 0.4642, Validation F-beta: 0.5646\n",
      "Epoch 76/4000\n"
     ]
    },
    {
     "name": "stderr",
     "output_type": "stream",
     "text": [
      "Training: 100%|██████████| 48/48 [00:33<00:00,  1.43it/s, loss=0.457]\n",
      "Validation: 100%|██████████| 10/10 [00:06<00:00,  1.51it/s, loss=0.461]\n"
     ]
    },
    {
     "name": "stdout",
     "output_type": "stream",
     "text": [
      "Validation Dice Score\n",
      "Class 0: 0.9879, Class 1: 0.4984, Class 2: 0.0000, Class 3: 0.4832, Class 4: 0.6854, Class 5: 0.4254, Class 6: 0.8509, \n",
      "Validation F-beta Score\n",
      "Class 0: 0.9848, Class 1: 0.5301, Class 2: 0.0000, Class 3: 0.5449, Class 4: 0.7106, Class 5: 0.5556, Class 6: 0.8878, \n",
      "Validation mIoU Score\n",
      "Class 0: 0.9761, Class 1: 0.3328, Class 2: 0.0000, Class 3: 0.3196, Class 4: 0.5216, Class 5: 0.2710, Class 6: 0.7410, \n",
      "\n",
      "Overall Mean Dice Score: 0.5887\n",
      "Overall Mean F-beta Score: 0.6458\n",
      "Overall Mean IoU Score: 0.4372\n",
      "Training Loss: 0.4619, Validation Loss: 0.4632, Validation F-beta: 0.5623\n",
      "Epoch 77/4000\n"
     ]
    },
    {
     "name": "stderr",
     "output_type": "stream",
     "text": [
      "Training: 100%|██████████| 48/48 [00:32<00:00,  1.46it/s, loss=0.46] \n",
      "Validation: 100%|██████████| 10/10 [00:06<00:00,  1.51it/s, loss=0.469]\n"
     ]
    },
    {
     "name": "stdout",
     "output_type": "stream",
     "text": [
      "Validation Dice Score\n",
      "Class 0: 0.9880, Class 1: 0.5082, Class 2: 0.0000, Class 3: 0.4170, Class 4: 0.6920, Class 5: 0.4368, Class 6: 0.8510, \n",
      "Validation F-beta Score\n",
      "Class 0: 0.9849, Class 1: 0.5536, Class 2: 0.0000, Class 3: 0.5481, Class 4: 0.7297, Class 5: 0.5486, Class 6: 0.8865, \n",
      "Validation mIoU Score\n",
      "Class 0: 0.9763, Class 1: 0.3421, Class 2: 0.0000, Class 3: 0.2642, Class 4: 0.5300, Class 5: 0.2807, Class 6: 0.7414, \n",
      "\n",
      "Overall Mean Dice Score: 0.5810\n",
      "Overall Mean F-beta Score: 0.6533\n",
      "Overall Mean IoU Score: 0.4317\n",
      "Training Loss: 0.4639, Validation Loss: 0.4636, Validation F-beta: 0.5647\n",
      "Epoch 78/4000\n"
     ]
    },
    {
     "name": "stderr",
     "output_type": "stream",
     "text": [
      "Training: 100%|██████████| 48/48 [00:32<00:00,  1.47it/s, loss=0.462]\n",
      "Validation: 100%|██████████| 10/10 [00:06<00:00,  1.53it/s, loss=0.458]\n"
     ]
    },
    {
     "name": "stdout",
     "output_type": "stream",
     "text": [
      "Validation Dice Score\n",
      "Class 0: 0.9887, Class 1: 0.5207, Class 2: 0.0000, Class 3: 0.4717, Class 4: 0.7023, Class 5: 0.4353, Class 6: 0.8365, \n",
      "Validation F-beta Score\n",
      "Class 0: 0.9868, Class 1: 0.5959, Class 2: 0.0000, Class 3: 0.6151, Class 4: 0.6894, Class 5: 0.5221, Class 6: 0.8816, \n",
      "Validation mIoU Score\n",
      "Class 0: 0.9776, Class 1: 0.3537, Class 2: 0.0000, Class 3: 0.3101, Class 4: 0.5416, Class 5: 0.2789, Class 6: 0.7197, \n",
      "\n",
      "Overall Mean Dice Score: 0.5933\n",
      "Overall Mean F-beta Score: 0.6608\n",
      "Overall Mean IoU Score: 0.4408\n",
      "Training Loss: 0.4618, Validation Loss: 0.4612, Validation F-beta: 0.5728\n",
      "Epoch 79/4000\n"
     ]
    },
    {
     "name": "stderr",
     "output_type": "stream",
     "text": [
      "Training: 100%|██████████| 48/48 [00:33<00:00,  1.43it/s, loss=0.461]\n",
      "Validation: 100%|██████████| 10/10 [00:06<00:00,  1.50it/s, loss=0.462]\n"
     ]
    },
    {
     "name": "stdout",
     "output_type": "stream",
     "text": [
      "Validation Dice Score\n",
      "Class 0: 0.9882, Class 1: 0.5096, Class 2: 0.0000, Class 3: 0.4602, Class 4: 0.7008, Class 5: 0.4288, Class 6: 0.8337, \n",
      "Validation F-beta Score\n",
      "Class 0: 0.9849, Class 1: 0.5595, Class 2: 0.0000, Class 3: 0.5840, Class 4: 0.7201, Class 5: 0.5677, Class 6: 0.8906, \n",
      "Validation mIoU Score\n",
      "Class 0: 0.9767, Class 1: 0.3433, Class 2: 0.0000, Class 3: 0.2995, Class 4: 0.5397, Class 5: 0.2741, Class 6: 0.7150, \n",
      "\n",
      "Overall Mean Dice Score: 0.5866\n",
      "Overall Mean F-beta Score: 0.6644\n",
      "Overall Mean IoU Score: 0.4343\n",
      "Training Loss: 0.4612, Validation Loss: 0.4633, Validation F-beta: 0.5724\n",
      "Epoch 80/4000\n"
     ]
    },
    {
     "name": "stderr",
     "output_type": "stream",
     "text": [
      "Training: 100%|██████████| 48/48 [00:32<00:00,  1.46it/s, loss=0.453]\n",
      "Validation: 100%|██████████| 10/10 [00:06<00:00,  1.50it/s, loss=0.457]\n"
     ]
    },
    {
     "name": "stdout",
     "output_type": "stream",
     "text": [
      "Validation Dice Score\n",
      "Class 0: 0.9885, Class 1: 0.5124, Class 2: 0.0000, Class 3: 0.4173, Class 4: 0.7018, Class 5: 0.4625, Class 6: 0.8538, \n",
      "Validation F-beta Score\n",
      "Class 0: 0.9860, Class 1: 0.5478, Class 2: 0.0000, Class 3: 0.5134, Class 4: 0.7167, Class 5: 0.5720, Class 6: 0.8967, \n",
      "Validation mIoU Score\n",
      "Class 0: 0.9773, Class 1: 0.3450, Class 2: 0.0000, Class 3: 0.2644, Class 4: 0.5408, Class 5: 0.3023, Class 6: 0.7453, \n",
      "\n",
      "Overall Mean Dice Score: 0.5896\n",
      "Overall Mean F-beta Score: 0.6493\n",
      "Overall Mean IoU Score: 0.4396\n",
      "Training Loss: 0.4594, Validation Loss: 0.4607, Validation F-beta: 0.5654\n",
      "========================================================\n",
      "SUPER Best model saved. Loss:0.4607, Score:0.5654\n",
      "========================================================\n",
      "Epoch 81/4000\n"
     ]
    },
    {
     "name": "stderr",
     "output_type": "stream",
     "text": [
      "Training: 100%|██████████| 48/48 [00:32<00:00,  1.48it/s, loss=0.458]\n",
      "Validation: 100%|██████████| 10/10 [00:06<00:00,  1.54it/s, loss=0.464]\n"
     ]
    },
    {
     "name": "stdout",
     "output_type": "stream",
     "text": [
      "Validation Dice Score\n",
      "Class 0: 0.9878, Class 1: 0.5383, Class 2: 0.0000, Class 3: 0.4332, Class 4: 0.6959, Class 5: 0.4387, Class 6: 0.8532, \n",
      "Validation F-beta Score\n",
      "Class 0: 0.9836, Class 1: 0.5625, Class 2: 0.0000, Class 3: 0.5434, Class 4: 0.7347, Class 5: 0.6049, Class 6: 0.9028, \n",
      "Validation mIoU Score\n",
      "Class 0: 0.9759, Class 1: 0.3693, Class 2: 0.0000, Class 3: 0.2770, Class 4: 0.5338, Class 5: 0.2819, Class 6: 0.7444, \n",
      "\n",
      "Overall Mean Dice Score: 0.5918\n",
      "Overall Mean F-beta Score: 0.6697\n",
      "Overall Mean IoU Score: 0.4413\n",
      "Training Loss: 0.4582, Validation Loss: 0.4640, Validation F-beta: 0.5783\n",
      "Epoch 82/4000\n"
     ]
    },
    {
     "name": "stderr",
     "output_type": "stream",
     "text": [
      "Training: 100%|██████████| 48/48 [00:33<00:00,  1.42it/s, loss=0.46] \n",
      "Validation: 100%|██████████| 10/10 [00:06<00:00,  1.53it/s, loss=0.461]\n"
     ]
    },
    {
     "name": "stdout",
     "output_type": "stream",
     "text": [
      "Validation Dice Score\n",
      "Class 0: 0.9885, Class 1: 0.5171, Class 2: 0.0001, Class 3: 0.4267, Class 4: 0.6949, Class 5: 0.4650, Class 6: 0.8385, \n",
      "Validation F-beta Score\n",
      "Class 0: 0.9862, Class 1: 0.5378, Class 2: 0.0000, Class 3: 0.5768, Class 4: 0.6959, Class 5: 0.5583, Class 6: 0.8846, \n",
      "Validation mIoU Score\n",
      "Class 0: 0.9773, Class 1: 0.3495, Class 2: 0.0000, Class 3: 0.2726, Class 4: 0.5333, Class 5: 0.3033, Class 6: 0.7228, \n",
      "\n",
      "Overall Mean Dice Score: 0.5884\n",
      "Overall Mean F-beta Score: 0.6507\n",
      "Overall Mean IoU Score: 0.4363\n",
      "Training Loss: 0.4579, Validation Loss: 0.4642, Validation F-beta: 0.5649\n",
      "Epoch 83/4000\n"
     ]
    },
    {
     "name": "stderr",
     "output_type": "stream",
     "text": [
      "Training: 100%|██████████| 48/48 [00:32<00:00,  1.47it/s, loss=0.464]\n",
      "Validation: 100%|██████████| 10/10 [00:06<00:00,  1.53it/s, loss=0.469]\n"
     ]
    },
    {
     "name": "stdout",
     "output_type": "stream",
     "text": [
      "Validation Dice Score\n",
      "Class 0: 0.9879, Class 1: 0.5144, Class 2: 0.0000, Class 3: 0.4233, Class 4: 0.7073, Class 5: 0.4269, Class 6: 0.8373, \n",
      "Validation F-beta Score\n",
      "Class 0: 0.9838, Class 1: 0.5737, Class 2: 0.0000, Class 3: 0.4867, Class 4: 0.7530, Class 5: 0.5791, Class 6: 0.9078, \n",
      "Validation mIoU Score\n",
      "Class 0: 0.9761, Class 1: 0.3469, Class 2: 0.0000, Class 3: 0.2700, Class 4: 0.5476, Class 5: 0.2721, Class 6: 0.7212, \n",
      "\n",
      "Overall Mean Dice Score: 0.5819\n",
      "Overall Mean F-beta Score: 0.6601\n",
      "Overall Mean IoU Score: 0.4316\n",
      "Training Loss: 0.4576, Validation Loss: 0.4644, Validation F-beta: 0.5687\n",
      "Epoch 84/4000\n"
     ]
    },
    {
     "name": "stderr",
     "output_type": "stream",
     "text": [
      "Training: 100%|██████████| 48/48 [00:32<00:00,  1.47it/s, loss=0.459]\n",
      "Validation: 100%|██████████| 10/10 [00:07<00:00,  1.35it/s, loss=0.457]\n"
     ]
    },
    {
     "name": "stdout",
     "output_type": "stream",
     "text": [
      "Validation Dice Score\n",
      "Class 0: 0.9880, Class 1: 0.5328, Class 2: 0.0000, Class 3: 0.4451, Class 4: 0.6929, Class 5: 0.4435, Class 6: 0.8587, \n",
      "Validation F-beta Score\n",
      "Class 0: 0.9848, Class 1: 0.6046, Class 2: 0.0000, Class 3: 0.5732, Class 4: 0.7103, Class 5: 0.5673, Class 6: 0.9013, \n",
      "Validation mIoU Score\n",
      "Class 0: 0.9762, Class 1: 0.3637, Class 2: 0.0000, Class 3: 0.2886, Class 4: 0.5307, Class 5: 0.2857, Class 6: 0.7535, \n",
      "\n",
      "Overall Mean Dice Score: 0.5946\n",
      "Overall Mean F-beta Score: 0.6714\n",
      "Overall Mean IoU Score: 0.4444\n",
      "Training Loss: 0.4568, Validation Loss: 0.4606, Validation F-beta: 0.5806\n",
      "========================================================\n",
      "SUPER Best model saved. Loss:0.4606, Score:0.5806\n",
      "========================================================\n",
      "Epoch 85/4000\n"
     ]
    },
    {
     "name": "stderr",
     "output_type": "stream",
     "text": [
      "Training: 100%|██████████| 48/48 [00:32<00:00,  1.47it/s, loss=0.459]\n",
      "Validation: 100%|██████████| 10/10 [00:06<00:00,  1.51it/s, loss=0.456]\n"
     ]
    },
    {
     "name": "stdout",
     "output_type": "stream",
     "text": [
      "Validation Dice Score\n",
      "Class 0: 0.9878, Class 1: 0.5742, Class 2: 0.0001, Class 3: 0.4198, Class 4: 0.6978, Class 5: 0.4488, Class 6: 0.8515, \n",
      "Validation F-beta Score\n",
      "Class 0: 0.9846, Class 1: 0.6265, Class 2: 0.0000, Class 3: 0.5637, Class 4: 0.7133, Class 5: 0.5712, Class 6: 0.8975, \n",
      "Validation mIoU Score\n",
      "Class 0: 0.9758, Class 1: 0.4035, Class 2: 0.0000, Class 3: 0.2670, Class 4: 0.5361, Class 5: 0.2906, Class 6: 0.7425, \n",
      "\n",
      "Overall Mean Dice Score: 0.5984\n",
      "Overall Mean F-beta Score: 0.6745\n",
      "Overall Mean IoU Score: 0.4479\n",
      "Training Loss: 0.4567, Validation Loss: 0.4598, Validation F-beta: 0.5839\n",
      "========================================================\n",
      "SUPER Best model saved. Loss:0.4598, Score:0.5839\n",
      "========================================================\n",
      "Epoch 86/4000\n"
     ]
    },
    {
     "name": "stderr",
     "output_type": "stream",
     "text": [
      "Training: 100%|██████████| 48/48 [00:32<00:00,  1.46it/s, loss=0.457]\n",
      "Validation: 100%|██████████| 10/10 [00:06<00:00,  1.51it/s, loss=0.458]\n"
     ]
    },
    {
     "name": "stdout",
     "output_type": "stream",
     "text": [
      "Validation Dice Score\n",
      "Class 0: 0.9892, Class 1: 0.5539, Class 2: 0.0006, Class 3: 0.4633, Class 4: 0.7070, Class 5: 0.4511, Class 6: 0.8353, \n",
      "Validation F-beta Score\n",
      "Class 0: 0.9869, Class 1: 0.6345, Class 2: 0.0003, Class 3: 0.6016, Class 4: 0.7154, Class 5: 0.5418, Class 6: 0.8797, \n",
      "Validation mIoU Score\n",
      "Class 0: 0.9785, Class 1: 0.3848, Class 2: 0.0003, Class 3: 0.3026, Class 4: 0.5471, Class 5: 0.2924, Class 6: 0.7180, \n",
      "\n",
      "Overall Mean Dice Score: 0.6021\n",
      "Overall Mean F-beta Score: 0.6746\n",
      "Overall Mean IoU Score: 0.4490\n",
      "Training Loss: 0.4553, Validation Loss: 0.4571, Validation F-beta: 0.5844\n",
      "========================================================\n",
      "SUPER Best model saved. Loss:0.4571, Score:0.5844\n",
      "========================================================\n",
      "Epoch 87/4000\n"
     ]
    },
    {
     "name": "stderr",
     "output_type": "stream",
     "text": [
      "Training: 100%|██████████| 48/48 [00:32<00:00,  1.47it/s, loss=0.457]\n",
      "Validation: 100%|██████████| 10/10 [00:07<00:00,  1.41it/s, loss=0.448]\n"
     ]
    },
    {
     "name": "stdout",
     "output_type": "stream",
     "text": [
      "Validation Dice Score\n",
      "Class 0: 0.9882, Class 1: 0.5694, Class 2: 0.0006, Class 3: 0.4636, Class 4: 0.7015, Class 5: 0.4298, Class 6: 0.8427, \n",
      "Validation F-beta Score\n",
      "Class 0: 0.9846, Class 1: 0.6092, Class 2: 0.0003, Class 3: 0.6037, Class 4: 0.7382, Class 5: 0.5482, Class 6: 0.9052, \n",
      "Validation mIoU Score\n",
      "Class 0: 0.9767, Class 1: 0.3987, Class 2: 0.0003, Class 3: 0.3021, Class 4: 0.5409, Class 5: 0.2743, Class 6: 0.7286, \n",
      "\n",
      "Overall Mean Dice Score: 0.6014\n",
      "Overall Mean F-beta Score: 0.6809\n",
      "Overall Mean IoU Score: 0.4489\n",
      "Training Loss: 0.4566, Validation Loss: 0.4556, Validation F-beta: 0.5881\n",
      "========================================================\n",
      "SUPER Best model saved. Loss:0.4556, Score:0.5881\n",
      "========================================================\n",
      "Epoch 88/4000\n"
     ]
    },
    {
     "name": "stderr",
     "output_type": "stream",
     "text": [
      "Training: 100%|██████████| 48/48 [00:32<00:00,  1.47it/s, loss=0.466]\n",
      "Validation: 100%|██████████| 10/10 [00:06<00:00,  1.53it/s, loss=0.467]\n"
     ]
    },
    {
     "name": "stdout",
     "output_type": "stream",
     "text": [
      "Validation Dice Score\n",
      "Class 0: 0.9878, Class 1: 0.5586, Class 2: 0.0008, Class 3: 0.4253, Class 4: 0.7058, Class 5: 0.4445, Class 6: 0.8473, \n",
      "Validation F-beta Score\n",
      "Class 0: 0.9843, Class 1: 0.6177, Class 2: 0.0004, Class 3: 0.5276, Class 4: 0.7241, Class 5: 0.5945, Class 6: 0.8989, \n",
      "Validation mIoU Score\n",
      "Class 0: 0.9760, Class 1: 0.3886, Class 2: 0.0004, Class 3: 0.2710, Class 4: 0.5456, Class 5: 0.2867, Class 6: 0.7368, \n",
      "\n",
      "Overall Mean Dice Score: 0.5963\n",
      "Overall Mean F-beta Score: 0.6726\n",
      "Overall Mean IoU Score: 0.4457\n",
      "Training Loss: 0.4567, Validation Loss: 0.4615, Validation F-beta: 0.5818\n",
      "Epoch 89/4000\n"
     ]
    },
    {
     "name": "stderr",
     "output_type": "stream",
     "text": [
      "Training: 100%|██████████| 48/48 [00:32<00:00,  1.47it/s, loss=0.454]\n",
      "Validation: 100%|██████████| 10/10 [00:06<00:00,  1.50it/s, loss=0.457]\n"
     ]
    },
    {
     "name": "stdout",
     "output_type": "stream",
     "text": [
      "Validation Dice Score\n",
      "Class 0: 0.9880, Class 1: 0.5830, Class 2: 0.0009, Class 3: 0.4434, Class 4: 0.7077, Class 5: 0.4463, Class 6: 0.8422, \n",
      "Validation F-beta Score\n",
      "Class 0: 0.9846, Class 1: 0.6528, Class 2: 0.0005, Class 3: 0.5721, Class 4: 0.7476, Class 5: 0.5577, Class 6: 0.9090, \n",
      "Validation mIoU Score\n",
      "Class 0: 0.9764, Class 1: 0.4117, Class 2: 0.0004, Class 3: 0.2859, Class 4: 0.5478, Class 5: 0.2876, Class 6: 0.7278, \n",
      "\n",
      "Overall Mean Dice Score: 0.6045\n",
      "Overall Mean F-beta Score: 0.6879\n",
      "Overall Mean IoU Score: 0.4522\n",
      "Training Loss: 0.4557, Validation Loss: 0.4583, Validation F-beta: 0.5936\n",
      "Epoch 90/4000\n"
     ]
    },
    {
     "name": "stderr",
     "output_type": "stream",
     "text": [
      "Training: 100%|██████████| 48/48 [00:32<00:00,  1.46it/s, loss=0.438]\n",
      "Validation: 100%|██████████| 10/10 [00:07<00:00,  1.36it/s, loss=0.456]\n"
     ]
    },
    {
     "name": "stdout",
     "output_type": "stream",
     "text": [
      "Validation Dice Score\n",
      "Class 0: 0.9884, Class 1: 0.5657, Class 2: 0.0021, Class 3: 0.4551, Class 4: 0.7039, Class 5: 0.4496, Class 6: 0.8434, \n",
      "Validation F-beta Score\n",
      "Class 0: 0.9852, Class 1: 0.6403, Class 2: 0.0011, Class 3: 0.5854, Class 4: 0.7430, Class 5: 0.5523, Class 6: 0.9035, \n",
      "Validation mIoU Score\n",
      "Class 0: 0.9771, Class 1: 0.3947, Class 2: 0.0010, Class 3: 0.2966, Class 4: 0.5432, Class 5: 0.2908, Class 6: 0.7301, \n",
      "\n",
      "Overall Mean Dice Score: 0.6035\n",
      "Overall Mean F-beta Score: 0.6849\n",
      "Overall Mean IoU Score: 0.4511\n",
      "Training Loss: 0.4548, Validation Loss: 0.4571, Validation F-beta: 0.5914\n",
      "Epoch 91/4000\n"
     ]
    },
    {
     "name": "stderr",
     "output_type": "stream",
     "text": [
      "Training: 100%|██████████| 48/48 [00:32<00:00,  1.47it/s, loss=0.453]\n",
      "Validation: 100%|██████████| 10/10 [00:06<00:00,  1.51it/s, loss=0.456]\n"
     ]
    },
    {
     "name": "stdout",
     "output_type": "stream",
     "text": [
      "Validation Dice Score\n",
      "Class 0: 0.9888, Class 1: 0.5733, Class 2: 0.0042, Class 3: 0.4430, Class 4: 0.7175, Class 5: 0.4376, Class 6: 0.8591, \n",
      "Validation F-beta Score\n",
      "Class 0: 0.9860, Class 1: 0.6420, Class 2: 0.0023, Class 3: 0.5764, Class 4: 0.7425, Class 5: 0.5396, Class 6: 0.8907, \n",
      "Validation mIoU Score\n",
      "Class 0: 0.9779, Class 1: 0.4026, Class 2: 0.0021, Class 3: 0.2857, Class 4: 0.5598, Class 5: 0.2805, Class 6: 0.7532, \n",
      "\n",
      "Overall Mean Dice Score: 0.6061\n",
      "Overall Mean F-beta Score: 0.6782\n",
      "Overall Mean IoU Score: 0.4564\n",
      "Training Loss: 0.4543, Validation Loss: 0.4560, Validation F-beta: 0.5895\n",
      "Epoch 92/4000\n"
     ]
    },
    {
     "name": "stderr",
     "output_type": "stream",
     "text": [
      "Training: 100%|██████████| 48/48 [00:32<00:00,  1.48it/s, loss=0.452]\n",
      "Validation: 100%|██████████| 10/10 [00:06<00:00,  1.52it/s, loss=0.461]\n"
     ]
    },
    {
     "name": "stdout",
     "output_type": "stream",
     "text": [
      "Validation Dice Score\n",
      "Class 0: 0.9880, Class 1: 0.5638, Class 2: 0.0039, Class 3: 0.4099, Class 4: 0.7045, Class 5: 0.4345, Class 6: 0.8438, \n",
      "Validation F-beta Score\n",
      "Class 0: 0.9851, Class 1: 0.6532, Class 2: 0.0021, Class 3: 0.5408, Class 4: 0.7214, Class 5: 0.5347, Class 6: 0.8979, \n",
      "Validation mIoU Score\n",
      "Class 0: 0.9763, Class 1: 0.3934, Class 2: 0.0020, Class 3: 0.2587, Class 4: 0.5439, Class 5: 0.2793, Class 6: 0.7301, \n",
      "\n",
      "Overall Mean Dice Score: 0.5913\n",
      "Overall Mean F-beta Score: 0.6696\n",
      "Overall Mean IoU Score: 0.4411\n",
      "Training Loss: 0.4540, Validation Loss: 0.4608, Validation F-beta: 0.5782\n",
      "Epoch 93/4000\n"
     ]
    },
    {
     "name": "stderr",
     "output_type": "stream",
     "text": [
      "Training: 100%|██████████| 48/48 [00:33<00:00,  1.43it/s, loss=0.452]\n",
      "Validation: 100%|██████████| 10/10 [00:06<00:00,  1.50it/s, loss=0.467]\n"
     ]
    },
    {
     "name": "stdout",
     "output_type": "stream",
     "text": [
      "Validation Dice Score\n",
      "Class 0: 0.9877, Class 1: 0.5744, Class 2: 0.0030, Class 3: 0.4522, Class 4: 0.7029, Class 5: 0.4581, Class 6: 0.8503, \n",
      "Validation F-beta Score\n",
      "Class 0: 0.9843, Class 1: 0.6488, Class 2: 0.0016, Class 3: 0.6032, Class 4: 0.7311, Class 5: 0.5733, Class 6: 0.9078, \n",
      "Validation mIoU Score\n",
      "Class 0: 0.9756, Class 1: 0.4045, Class 2: 0.0015, Class 3: 0.2927, Class 4: 0.5423, Class 5: 0.2978, Class 6: 0.7402, \n",
      "\n",
      "Overall Mean Dice Score: 0.6076\n",
      "Overall Mean F-beta Score: 0.6928\n",
      "Overall Mean IoU Score: 0.4555\n",
      "Training Loss: 0.4542, Validation Loss: 0.4617, Validation F-beta: 0.5979\n",
      "Epoch 94/4000\n"
     ]
    },
    {
     "name": "stderr",
     "output_type": "stream",
     "text": [
      "Training: 100%|██████████| 48/48 [00:32<00:00,  1.47it/s, loss=0.448]\n",
      "Validation: 100%|██████████| 10/10 [00:06<00:00,  1.51it/s, loss=0.456]\n"
     ]
    },
    {
     "name": "stdout",
     "output_type": "stream",
     "text": [
      "Validation Dice Score\n",
      "Class 0: 0.9889, Class 1: 0.5916, Class 2: 0.0078, Class 3: 0.4530, Class 4: 0.7034, Class 5: 0.4381, Class 6: 0.8638, \n",
      "Validation F-beta Score\n",
      "Class 0: 0.9863, Class 1: 0.6632, Class 2: 0.0043, Class 3: 0.5957, Class 4: 0.7283, Class 5: 0.5254, Class 6: 0.8886, \n",
      "Validation mIoU Score\n",
      "Class 0: 0.9780, Class 1: 0.4211, Class 2: 0.0039, Class 3: 0.2943, Class 4: 0.5427, Class 5: 0.2819, Class 6: 0.7607, \n",
      "\n",
      "Overall Mean Dice Score: 0.6100\n",
      "Overall Mean F-beta Score: 0.6802\n",
      "Overall Mean IoU Score: 0.4601\n",
      "Training Loss: 0.4525, Validation Loss: 0.4559, Validation F-beta: 0.5922\n",
      "Epoch 95/4000\n"
     ]
    },
    {
     "name": "stderr",
     "output_type": "stream",
     "text": [
      "Training: 100%|██████████| 48/48 [00:32<00:00,  1.47it/s, loss=0.449]\n",
      "Validation: 100%|██████████| 10/10 [00:07<00:00,  1.34it/s, loss=0.451]\n"
     ]
    },
    {
     "name": "stdout",
     "output_type": "stream",
     "text": [
      "Validation Dice Score\n",
      "Class 0: 0.9886, Class 1: 0.5653, Class 2: 0.0048, Class 3: 0.4515, Class 4: 0.7050, Class 5: 0.4538, Class 6: 0.8325, \n",
      "Validation F-beta Score\n",
      "Class 0: 0.9852, Class 1: 0.6426, Class 2: 0.0026, Class 3: 0.5531, Class 4: 0.7482, Class 5: 0.5716, Class 6: 0.9141, \n",
      "Validation mIoU Score\n",
      "Class 0: 0.9775, Class 1: 0.3958, Class 2: 0.0024, Class 3: 0.2921, Class 4: 0.5445, Class 5: 0.2949, Class 6: 0.7139, \n",
      "\n",
      "Overall Mean Dice Score: 0.6016\n",
      "Overall Mean F-beta Score: 0.6859\n",
      "Overall Mean IoU Score: 0.4482\n",
      "Training Loss: 0.4525, Validation Loss: 0.4567, Validation F-beta: 0.5909\n",
      "Epoch 96/4000\n"
     ]
    },
    {
     "name": "stderr",
     "output_type": "stream",
     "text": [
      "Training: 100%|██████████| 48/48 [00:32<00:00,  1.47it/s, loss=0.456]\n",
      "Validation: 100%|██████████| 10/10 [00:06<00:00,  1.48it/s, loss=0.448]\n"
     ]
    },
    {
     "name": "stdout",
     "output_type": "stream",
     "text": [
      "Validation Dice Score\n",
      "Class 0: 0.9888, Class 1: 0.5942, Class 2: 0.0094, Class 3: 0.4874, Class 4: 0.7135, Class 5: 0.4161, Class 6: 0.8487, \n",
      "Validation F-beta Score\n",
      "Class 0: 0.9859, Class 1: 0.6452, Class 2: 0.0053, Class 3: 0.6396, Class 4: 0.7314, Class 5: 0.5218, Class 6: 0.8947, \n",
      "Validation mIoU Score\n",
      "Class 0: 0.9778, Class 1: 0.4230, Class 2: 0.0047, Class 3: 0.3231, Class 4: 0.5548, Class 5: 0.2638, Class 6: 0.7375, \n",
      "\n",
      "Overall Mean Dice Score: 0.6120\n",
      "Overall Mean F-beta Score: 0.6866\n",
      "Overall Mean IoU Score: 0.4604\n",
      "Training Loss: 0.4519, Validation Loss: 0.4565, Validation F-beta: 0.5961\n",
      "Epoch 97/4000\n"
     ]
    },
    {
     "name": "stderr",
     "output_type": "stream",
     "text": [
      "Training: 100%|██████████| 48/48 [00:33<00:00,  1.44it/s, loss=0.451]\n",
      "Validation: 100%|██████████| 10/10 [00:06<00:00,  1.52it/s, loss=0.448]\n"
     ]
    },
    {
     "name": "stdout",
     "output_type": "stream",
     "text": [
      "Validation Dice Score\n",
      "Class 0: 0.9886, Class 1: 0.5804, Class 2: 0.0106, Class 3: 0.4292, Class 4: 0.6996, Class 5: 0.4571, Class 6: 0.8631, \n",
      "Validation F-beta Score\n",
      "Class 0: 0.9850, Class 1: 0.6455, Class 2: 0.0060, Class 3: 0.5751, Class 4: 0.7370, Class 5: 0.5884, Class 6: 0.9124, \n",
      "Validation mIoU Score\n",
      "Class 0: 0.9775, Class 1: 0.4092, Class 2: 0.0053, Class 3: 0.2749, Class 4: 0.5384, Class 5: 0.2978, Class 6: 0.7595, \n",
      "\n",
      "Overall Mean Dice Score: 0.6059\n",
      "Overall Mean F-beta Score: 0.6916\n",
      "Overall Mean IoU Score: 0.4560\n",
      "Training Loss: 0.4516, Validation Loss: 0.4546, Validation F-beta: 0.5974\n",
      "========================================================\n",
      "SUPER Best model saved. Loss:0.4546, Score:0.5974\n",
      "========================================================\n",
      "Epoch 98/4000\n"
     ]
    },
    {
     "name": "stderr",
     "output_type": "stream",
     "text": [
      "Training: 100%|██████████| 48/48 [00:32<00:00,  1.46it/s, loss=0.452]\n",
      "Validation: 100%|██████████| 10/10 [00:07<00:00,  1.40it/s, loss=0.466]\n"
     ]
    },
    {
     "name": "stdout",
     "output_type": "stream",
     "text": [
      "Validation Dice Score\n",
      "Class 0: 0.9878, Class 1: 0.5744, Class 2: 0.0105, Class 3: 0.4407, Class 4: 0.7088, Class 5: 0.4338, Class 6: 0.8449, \n",
      "Validation F-beta Score\n",
      "Class 0: 0.9843, Class 1: 0.6926, Class 2: 0.0061, Class 3: 0.6190, Class 4: 0.7379, Class 5: 0.5435, Class 6: 0.8959, \n",
      "Validation mIoU Score\n",
      "Class 0: 0.9758, Class 1: 0.4033, Class 2: 0.0053, Class 3: 0.2840, Class 4: 0.5492, Class 5: 0.2773, Class 6: 0.7324, \n",
      "\n",
      "Overall Mean Dice Score: 0.6005\n",
      "Overall Mean F-beta Score: 0.6978\n",
      "Overall Mean IoU Score: 0.4492\n",
      "Training Loss: 0.4532, Validation Loss: 0.4579, Validation F-beta: 0.5984\n",
      "Epoch 99/4000\n"
     ]
    },
    {
     "name": "stderr",
     "output_type": "stream",
     "text": [
      "Training: 100%|██████████| 48/48 [00:32<00:00,  1.47it/s, loss=0.453]\n",
      "Validation: 100%|██████████| 10/10 [00:06<00:00,  1.52it/s, loss=0.459]\n"
     ]
    },
    {
     "name": "stdout",
     "output_type": "stream",
     "text": [
      "Validation Dice Score\n",
      "Class 0: 0.9884, Class 1: 0.5825, Class 2: 0.0209, Class 3: 0.4897, Class 4: 0.7045, Class 5: 0.4250, Class 6: 0.8589, \n",
      "Validation F-beta Score\n",
      "Class 0: 0.9853, Class 1: 0.6642, Class 2: 0.0123, Class 3: 0.5983, Class 4: 0.7257, Class 5: 0.5518, Class 6: 0.8965, \n",
      "Validation mIoU Score\n",
      "Class 0: 0.9771, Class 1: 0.4118, Class 2: 0.0106, Class 3: 0.3255, Class 4: 0.5440, Class 5: 0.2710, Class 6: 0.7530, \n",
      "\n",
      "Overall Mean Dice Score: 0.6121\n",
      "Overall Mean F-beta Score: 0.6873\n",
      "Overall Mean IoU Score: 0.4611\n",
      "Training Loss: 0.4524, Validation Loss: 0.4563, Validation F-beta: 0.5968\n",
      "Epoch 100/4000\n"
     ]
    },
    {
     "name": "stderr",
     "output_type": "stream",
     "text": [
      "Training: 100%|██████████| 48/48 [00:32<00:00,  1.46it/s, loss=0.442]\n",
      "Validation: 100%|██████████| 10/10 [00:06<00:00,  1.51it/s, loss=0.454]\n"
     ]
    },
    {
     "name": "stdout",
     "output_type": "stream",
     "text": [
      "Validation Dice Score\n",
      "Class 0: 0.9883, Class 1: 0.5981, Class 2: 0.0211, Class 3: 0.4444, Class 4: 0.7040, Class 5: 0.4574, Class 6: 0.8685, \n",
      "Validation F-beta Score\n",
      "Class 0: 0.9850, Class 1: 0.6823, Class 2: 0.0124, Class 3: 0.5727, Class 4: 0.7391, Class 5: 0.5761, Class 6: 0.8938, \n",
      "Validation mIoU Score\n",
      "Class 0: 0.9768, Class 1: 0.4273, Class 2: 0.0107, Class 3: 0.2875, Class 4: 0.5434, Class 5: 0.2975, Class 6: 0.7682, \n",
      "\n",
      "Overall Mean Dice Score: 0.6145\n",
      "Overall Mean F-beta Score: 0.6928\n",
      "Overall Mean IoU Score: 0.4648\n",
      "Training Loss: 0.4523, Validation Loss: 0.4562, Validation F-beta: 0.6016\n",
      "Epoch 101/4000\n"
     ]
    },
    {
     "name": "stderr",
     "output_type": "stream",
     "text": [
      "Training: 100%|██████████| 48/48 [00:32<00:00,  1.47it/s, loss=0.443]\n",
      "Validation: 100%|██████████| 10/10 [00:07<00:00,  1.36it/s, loss=0.466]\n"
     ]
    },
    {
     "name": "stdout",
     "output_type": "stream",
     "text": [
      "Validation Dice Score\n",
      "Class 0: 0.9884, Class 1: 0.5851, Class 2: 0.0219, Class 3: 0.4106, Class 4: 0.7112, Class 5: 0.4596, Class 6: 0.8648, \n",
      "Validation F-beta Score\n",
      "Class 0: 0.9855, Class 1: 0.6265, Class 2: 0.0129, Class 3: 0.5120, Class 4: 0.7103, Class 5: 0.6084, Class 6: 0.8957, \n",
      "Validation mIoU Score\n",
      "Class 0: 0.9771, Class 1: 0.4148, Class 2: 0.0111, Class 3: 0.2607, Class 4: 0.5520, Class 5: 0.2991, Class 6: 0.7624, \n",
      "\n",
      "Overall Mean Dice Score: 0.6063\n",
      "Overall Mean F-beta Score: 0.6706\n",
      "Overall Mean IoU Score: 0.4578\n",
      "Training Loss: 0.4496, Validation Loss: 0.4569, Validation F-beta: 0.5855\n",
      "Epoch 102/4000\n"
     ]
    },
    {
     "name": "stderr",
     "output_type": "stream",
     "text": [
      "Training: 100%|██████████| 48/48 [00:32<00:00,  1.45it/s, loss=0.459]\n",
      "Validation: 100%|██████████| 10/10 [00:06<00:00,  1.48it/s, loss=0.458]\n"
     ]
    },
    {
     "name": "stdout",
     "output_type": "stream",
     "text": [
      "Validation Dice Score\n",
      "Class 0: 0.9878, Class 1: 0.5877, Class 2: 0.0182, Class 3: 0.4466, Class 4: 0.7034, Class 5: 0.4426, Class 6: 0.8508, \n",
      "Validation F-beta Score\n",
      "Class 0: 0.9840, Class 1: 0.6598, Class 2: 0.0110, Class 3: 0.5950, Class 4: 0.7383, Class 5: 0.5640, Class 6: 0.9059, \n",
      "Validation mIoU Score\n",
      "Class 0: 0.9758, Class 1: 0.4167, Class 2: 0.0092, Class 3: 0.2887, Class 4: 0.5428, Class 5: 0.2848, Class 6: 0.7408, \n",
      "\n",
      "Overall Mean Dice Score: 0.6062\n",
      "Overall Mean F-beta Score: 0.6926\n",
      "Overall Mean IoU Score: 0.4548\n",
      "Training Loss: 0.4492, Validation Loss: 0.4565, Validation F-beta: 0.5975\n",
      "Epoch 103/4000\n"
     ]
    },
    {
     "name": "stderr",
     "output_type": "stream",
     "text": [
      "Training: 100%|██████████| 48/48 [00:32<00:00,  1.46it/s, loss=0.449]\n",
      "Validation: 100%|██████████| 10/10 [00:06<00:00,  1.51it/s, loss=0.456]\n"
     ]
    },
    {
     "name": "stdout",
     "output_type": "stream",
     "text": [
      "Validation Dice Score\n",
      "Class 0: 0.9888, Class 1: 0.6226, Class 2: 0.0172, Class 3: 0.4052, Class 4: 0.7033, Class 5: 0.4571, Class 6: 0.8602, \n",
      "Validation F-beta Score\n",
      "Class 0: 0.9863, Class 1: 0.6748, Class 2: 0.0099, Class 3: 0.5490, Class 4: 0.7277, Class 5: 0.5427, Class 6: 0.8944, \n",
      "Validation mIoU Score\n",
      "Class 0: 0.9779, Class 1: 0.4523, Class 2: 0.0087, Class 3: 0.2552, Class 4: 0.5424, Class 5: 0.2974, Class 6: 0.7550, \n",
      "\n",
      "Overall Mean Dice Score: 0.6097\n",
      "Overall Mean F-beta Score: 0.6777\n",
      "Overall Mean IoU Score: 0.4605\n",
      "Training Loss: 0.4511, Validation Loss: 0.4553, Validation F-beta: 0.5908\n",
      "Epoch 104/4000\n"
     ]
    },
    {
     "name": "stderr",
     "output_type": "stream",
     "text": [
      "Training: 100%|██████████| 48/48 [00:32<00:00,  1.47it/s, loss=0.441]\n",
      "Validation: 100%|██████████| 10/10 [00:07<00:00,  1.37it/s, loss=0.451]\n"
     ]
    },
    {
     "name": "stdout",
     "output_type": "stream",
     "text": [
      "Validation Dice Score\n",
      "Class 0: 0.9885, Class 1: 0.6193, Class 2: 0.0386, Class 3: 0.4532, Class 4: 0.6943, Class 5: 0.4231, Class 6: 0.8581, \n",
      "Validation F-beta Score\n",
      "Class 0: 0.9853, Class 1: 0.7009, Class 2: 0.0252, Class 3: 0.5787, Class 4: 0.7316, Class 5: 0.5416, Class 6: 0.8900, \n",
      "Validation mIoU Score\n",
      "Class 0: 0.9772, Class 1: 0.4490, Class 2: 0.0198, Class 3: 0.2946, Class 4: 0.5320, Class 5: 0.2692, Class 6: 0.7522, \n",
      "\n",
      "Overall Mean Dice Score: 0.6096\n",
      "Overall Mean F-beta Score: 0.6886\n",
      "Overall Mean IoU Score: 0.4594\n",
      "Training Loss: 0.4499, Validation Loss: 0.4550, Validation F-beta: 0.5969\n",
      "Epoch 105/4000\n"
     ]
    },
    {
     "name": "stderr",
     "output_type": "stream",
     "text": [
      "Training: 100%|██████████| 48/48 [00:32<00:00,  1.47it/s, loss=0.452]\n",
      "Validation: 100%|██████████| 10/10 [00:06<00:00,  1.52it/s, loss=0.45]\n"
     ]
    },
    {
     "name": "stdout",
     "output_type": "stream",
     "text": [
      "Validation Dice Score\n",
      "Class 0: 0.9881, Class 1: 0.6288, Class 2: 0.0245, Class 3: 0.4213, Class 4: 0.7025, Class 5: 0.4532, Class 6: 0.8624, \n",
      "Validation F-beta Score\n",
      "Class 0: 0.9841, Class 1: 0.7016, Class 2: 0.0160, Class 3: 0.6024, Class 4: 0.7498, Class 5: 0.5782, Class 6: 0.9128, \n",
      "Validation mIoU Score\n",
      "Class 0: 0.9765, Class 1: 0.4590, Class 2: 0.0125, Class 3: 0.2687, Class 4: 0.5416, Class 5: 0.2934, Class 6: 0.7582, \n",
      "\n",
      "Overall Mean Dice Score: 0.6136\n",
      "Overall Mean F-beta Score: 0.7089\n",
      "Overall Mean IoU Score: 0.4642\n",
      "Training Loss: 0.4490, Validation Loss: 0.4526, Validation F-beta: 0.6110\n",
      "========================================================\n",
      "SUPER Best model saved. Loss:0.4526, Score:0.6110\n",
      "========================================================\n",
      "Epoch 106/4000\n"
     ]
    },
    {
     "name": "stderr",
     "output_type": "stream",
     "text": [
      "Training: 100%|██████████| 48/48 [00:32<00:00,  1.46it/s, loss=0.441]\n",
      "Validation: 100%|██████████| 10/10 [00:06<00:00,  1.51it/s, loss=0.451]\n"
     ]
    },
    {
     "name": "stdout",
     "output_type": "stream",
     "text": [
      "Validation Dice Score\n",
      "Class 0: 0.9886, Class 1: 0.6037, Class 2: 0.0394, Class 3: 0.4525, Class 4: 0.7004, Class 5: 0.4376, Class 6: 0.8562, \n",
      "Validation F-beta Score\n",
      "Class 0: 0.9854, Class 1: 0.6635, Class 2: 0.0267, Class 3: 0.5894, Class 4: 0.7292, Class 5: 0.5534, Class 6: 0.9052, \n",
      "Validation mIoU Score\n",
      "Class 0: 0.9775, Class 1: 0.4335, Class 2: 0.0202, Class 3: 0.2936, Class 4: 0.5393, Class 5: 0.2817, Class 6: 0.7490, \n",
      "\n",
      "Overall Mean Dice Score: 0.6101\n",
      "Overall Mean F-beta Score: 0.6881\n",
      "Overall Mean IoU Score: 0.4594\n",
      "Training Loss: 0.4484, Validation Loss: 0.4530, Validation F-beta: 0.5967\n",
      "Epoch 107/4000\n"
     ]
    },
    {
     "name": "stderr",
     "output_type": "stream",
     "text": [
      "Training: 100%|██████████| 48/48 [00:32<00:00,  1.46it/s, loss=0.441]\n",
      "Validation: 100%|██████████| 10/10 [00:06<00:00,  1.47it/s, loss=0.464]\n"
     ]
    },
    {
     "name": "stdout",
     "output_type": "stream",
     "text": [
      "Validation Dice Score\n",
      "Class 0: 0.9873, Class 1: 0.5912, Class 2: 0.0367, Class 3: 0.4415, Class 4: 0.7127, Class 5: 0.4454, Class 6: 0.8495, \n",
      "Validation F-beta Score\n",
      "Class 0: 0.9828, Class 1: 0.6448, Class 2: 0.0240, Class 3: 0.5621, Class 4: 0.7515, Class 5: 0.6131, Class 6: 0.9153, \n",
      "Validation mIoU Score\n",
      "Class 0: 0.9749, Class 1: 0.4206, Class 2: 0.0188, Class 3: 0.2854, Class 4: 0.5538, Class 5: 0.2877, Class 6: 0.7392, \n",
      "\n",
      "Overall Mean Dice Score: 0.6081\n",
      "Overall Mean F-beta Score: 0.6973\n",
      "Overall Mean IoU Score: 0.4573\n",
      "Training Loss: 0.4493, Validation Loss: 0.4596, Validation F-beta: 0.6013\n",
      "Epoch 108/4000\n"
     ]
    },
    {
     "name": "stderr",
     "output_type": "stream",
     "text": [
      "Training: 100%|██████████| 48/48 [00:32<00:00,  1.46it/s, loss=0.434]\n",
      "Validation: 100%|██████████| 10/10 [00:06<00:00,  1.50it/s, loss=0.445]\n"
     ]
    },
    {
     "name": "stdout",
     "output_type": "stream",
     "text": [
      "Validation Dice Score\n",
      "Class 0: 0.9883, Class 1: 0.5916, Class 2: 0.0288, Class 3: 0.4561, Class 4: 0.7046, Class 5: 0.4531, Class 6: 0.8625, \n",
      "Validation F-beta Score\n",
      "Class 0: 0.9841, Class 1: 0.6753, Class 2: 0.0193, Class 3: 0.6146, Class 4: 0.7528, Class 5: 0.6036, Class 6: 0.9133, \n",
      "Validation mIoU Score\n",
      "Class 0: 0.9768, Class 1: 0.4208, Class 2: 0.0147, Class 3: 0.2972, Class 4: 0.5442, Class 5: 0.2939, Class 6: 0.7588, \n",
      "\n",
      "Overall Mean Dice Score: 0.6136\n",
      "Overall Mean F-beta Score: 0.7119\n",
      "Overall Mean IoU Score: 0.4630\n",
      "Training Loss: 0.4476, Validation Loss: 0.4527, Validation F-beta: 0.6123\n",
      "Epoch 109/4000\n"
     ]
    },
    {
     "name": "stderr",
     "output_type": "stream",
     "text": [
      "Training: 100%|██████████| 48/48 [00:32<00:00,  1.48it/s, loss=0.438]\n",
      "Validation: 100%|██████████| 10/10 [00:06<00:00,  1.53it/s, loss=0.452]\n"
     ]
    },
    {
     "name": "stdout",
     "output_type": "stream",
     "text": [
      "Validation Dice Score\n",
      "Class 0: 0.9882, Class 1: 0.6284, Class 2: 0.0423, Class 3: 0.4358, Class 4: 0.7069, Class 5: 0.4297, Class 6: 0.8534, \n",
      "Validation F-beta Score\n",
      "Class 0: 0.9844, Class 1: 0.6860, Class 2: 0.0267, Class 3: 0.5830, Class 4: 0.7339, Class 5: 0.5879, Class 6: 0.9187, \n",
      "Validation mIoU Score\n",
      "Class 0: 0.9767, Class 1: 0.4592, Class 2: 0.0216, Class 3: 0.2801, Class 4: 0.5469, Class 5: 0.2747, Class 6: 0.7449, \n",
      "\n",
      "Overall Mean Dice Score: 0.6109\n",
      "Overall Mean F-beta Score: 0.7019\n",
      "Overall Mean IoU Score: 0.4612\n",
      "Training Loss: 0.4484, Validation Loss: 0.4536, Validation F-beta: 0.6056\n",
      "Epoch 110/4000\n"
     ]
    },
    {
     "name": "stderr",
     "output_type": "stream",
     "text": [
      "Training: 100%|██████████| 48/48 [00:33<00:00,  1.44it/s, loss=0.446]\n",
      "Validation: 100%|██████████| 10/10 [00:06<00:00,  1.53it/s, loss=0.468]\n"
     ]
    },
    {
     "name": "stdout",
     "output_type": "stream",
     "text": [
      "Validation Dice Score\n",
      "Class 0: 0.9874, Class 1: 0.6227, Class 2: 0.0271, Class 3: 0.4583, Class 4: 0.7052, Class 5: 0.4511, Class 6: 0.8539, \n",
      "Validation F-beta Score\n",
      "Class 0: 0.9832, Class 1: 0.6449, Class 2: 0.0164, Class 3: 0.5666, Class 4: 0.7505, Class 5: 0.6065, Class 6: 0.9093, \n",
      "Validation mIoU Score\n",
      "Class 0: 0.9752, Class 1: 0.4530, Class 2: 0.0138, Class 3: 0.2985, Class 4: 0.5449, Class 5: 0.2922, Class 6: 0.7461, \n",
      "\n",
      "Overall Mean Dice Score: 0.6183\n",
      "Overall Mean F-beta Score: 0.6956\n",
      "Overall Mean IoU Score: 0.4669\n",
      "Training Loss: 0.4506, Validation Loss: 0.4583, Validation F-beta: 0.6041\n",
      "Epoch 111/4000\n"
     ]
    },
    {
     "name": "stderr",
     "output_type": "stream",
     "text": [
      "Training: 100%|██████████| 48/48 [00:32<00:00,  1.46it/s, loss=0.45] \n",
      "Validation: 100%|██████████| 10/10 [00:06<00:00,  1.51it/s, loss=0.456]\n"
     ]
    },
    {
     "name": "stdout",
     "output_type": "stream",
     "text": [
      "Validation Dice Score\n",
      "Class 0: 0.9880, Class 1: 0.6134, Class 2: 0.0369, Class 3: 0.4292, Class 4: 0.7096, Class 5: 0.4815, Class 6: 0.8560, \n",
      "Validation F-beta Score\n",
      "Class 0: 0.9845, Class 1: 0.6665, Class 2: 0.0240, Class 3: 0.6113, Class 4: 0.7447, Class 5: 0.5942, Class 6: 0.9036, \n",
      "Validation mIoU Score\n",
      "Class 0: 0.9763, Class 1: 0.4438, Class 2: 0.0189, Class 3: 0.2745, Class 4: 0.5501, Class 5: 0.3175, Class 6: 0.7490, \n",
      "\n",
      "Overall Mean Dice Score: 0.6179\n",
      "Overall Mean F-beta Score: 0.7040\n",
      "Overall Mean IoU Score: 0.4670\n",
      "Training Loss: 0.4469, Validation Loss: 0.4545, Validation F-beta: 0.6092\n",
      "Epoch 112/4000\n"
     ]
    },
    {
     "name": "stderr",
     "output_type": "stream",
     "text": [
      "Training: 100%|██████████| 48/48 [00:32<00:00,  1.48it/s, loss=0.438]\n",
      "Validation: 100%|██████████| 10/10 [00:07<00:00,  1.34it/s, loss=0.455]\n"
     ]
    },
    {
     "name": "stdout",
     "output_type": "stream",
     "text": [
      "Validation Dice Score\n",
      "Class 0: 0.9881, Class 1: 0.6146, Class 2: 0.0296, Class 3: 0.4466, Class 4: 0.7126, Class 5: 0.4724, Class 6: 0.8573, \n",
      "Validation F-beta Score\n",
      "Class 0: 0.9845, Class 1: 0.6859, Class 2: 0.0196, Class 3: 0.5687, Class 4: 0.7439, Class 5: 0.6130, Class 6: 0.9051, \n",
      "Validation mIoU Score\n",
      "Class 0: 0.9765, Class 1: 0.4440, Class 2: 0.0151, Class 3: 0.2899, Class 4: 0.5537, Class 5: 0.3098, Class 6: 0.7514, \n",
      "\n",
      "Overall Mean Dice Score: 0.6207\n",
      "Overall Mean F-beta Score: 0.7033\n",
      "Overall Mean IoU Score: 0.4697\n",
      "Training Loss: 0.4475, Validation Loss: 0.4545, Validation F-beta: 0.6099\n",
      "Epoch 113/4000\n"
     ]
    },
    {
     "name": "stderr",
     "output_type": "stream",
     "text": [
      "Training: 100%|██████████| 48/48 [00:32<00:00,  1.47it/s, loss=0.447]\n",
      "Validation: 100%|██████████| 10/10 [00:06<00:00,  1.50it/s, loss=0.453]\n"
     ]
    },
    {
     "name": "stdout",
     "output_type": "stream",
     "text": [
      "Validation Dice Score\n",
      "Class 0: 0.9878, Class 1: 0.6217, Class 2: 0.0330, Class 3: 0.4585, Class 4: 0.7065, Class 5: 0.4661, Class 6: 0.8588, \n",
      "Validation F-beta Score\n",
      "Class 0: 0.9838, Class 1: 0.7072, Class 2: 0.0209, Class 3: 0.6009, Class 4: 0.7603, Class 5: 0.5963, Class 6: 0.9035, \n",
      "Validation mIoU Score\n",
      "Class 0: 0.9759, Class 1: 0.4519, Class 2: 0.0168, Class 3: 0.2980, Class 4: 0.5467, Class 5: 0.3048, Class 6: 0.7529, \n",
      "\n",
      "Overall Mean Dice Score: 0.6223\n",
      "Overall Mean F-beta Score: 0.7136\n",
      "Overall Mean IoU Score: 0.4708\n",
      "Training Loss: 0.4484, Validation Loss: 0.4540, Validation F-beta: 0.6165\n",
      "Epoch 114/4000\n"
     ]
    },
    {
     "name": "stderr",
     "output_type": "stream",
     "text": [
      "Training: 100%|██████████| 48/48 [00:32<00:00,  1.47it/s, loss=0.451]\n",
      "Validation: 100%|██████████| 10/10 [00:06<00:00,  1.51it/s, loss=0.455]\n"
     ]
    },
    {
     "name": "stdout",
     "output_type": "stream",
     "text": [
      "Validation Dice Score\n",
      "Class 0: 0.9880, Class 1: 0.5914, Class 2: 0.0388, Class 3: 0.4626, Class 4: 0.7081, Class 5: 0.4392, Class 6: 0.8483, \n",
      "Validation F-beta Score\n",
      "Class 0: 0.9845, Class 1: 0.6644, Class 2: 0.0266, Class 3: 0.5778, Class 4: 0.7367, Class 5: 0.5753, Class 6: 0.9027, \n",
      "Validation mIoU Score\n",
      "Class 0: 0.9763, Class 1: 0.4209, Class 2: 0.0199, Class 3: 0.3024, Class 4: 0.5482, Class 5: 0.2822, Class 6: 0.7377, \n",
      "\n",
      "Overall Mean Dice Score: 0.6099\n",
      "Overall Mean F-beta Score: 0.6914\n",
      "Overall Mean IoU Score: 0.4583\n",
      "Training Loss: 0.4456, Validation Loss: 0.4553, Validation F-beta: 0.5981\n",
      "Epoch 115/4000\n"
     ]
    },
    {
     "name": "stderr",
     "output_type": "stream",
     "text": [
      "Training: 100%|██████████| 48/48 [00:32<00:00,  1.47it/s, loss=0.443]\n",
      "Validation: 100%|██████████| 10/10 [00:07<00:00,  1.32it/s, loss=0.46]\n"
     ]
    },
    {
     "name": "stdout",
     "output_type": "stream",
     "text": [
      "Validation Dice Score\n",
      "Class 0: 0.9880, Class 1: 0.6402, Class 2: 0.0439, Class 3: 0.4269, Class 4: 0.7142, Class 5: 0.4361, Class 6: 0.8645, \n",
      "Validation F-beta Score\n",
      "Class 0: 0.9842, Class 1: 0.7031, Class 2: 0.0299, Class 3: 0.5956, Class 4: 0.7394, Class 5: 0.5803, Class 6: 0.9087, \n",
      "Validation mIoU Score\n",
      "Class 0: 0.9763, Class 1: 0.4710, Class 2: 0.0226, Class 3: 0.2735, Class 4: 0.5557, Class 5: 0.2800, Class 6: 0.7618, \n",
      "\n",
      "Overall Mean Dice Score: 0.6164\n",
      "Overall Mean F-beta Score: 0.7054\n",
      "Overall Mean IoU Score: 0.4684\n",
      "Training Loss: 0.4453, Validation Loss: 0.4549, Validation F-beta: 0.6106\n",
      "Epoch 116/4000\n"
     ]
    },
    {
     "name": "stderr",
     "output_type": "stream",
     "text": [
      "Training: 100%|██████████| 48/48 [00:32<00:00,  1.48it/s, loss=0.434]\n",
      "Validation: 100%|██████████| 10/10 [00:06<00:00,  1.54it/s, loss=0.448]\n"
     ]
    },
    {
     "name": "stdout",
     "output_type": "stream",
     "text": [
      "Validation Dice Score\n",
      "Class 0: 0.9882, Class 1: 0.6372, Class 2: 0.0256, Class 3: 0.4476, Class 4: 0.7121, Class 5: 0.4669, Class 6: 0.8518, \n",
      "Validation F-beta Score\n",
      "Class 0: 0.9845, Class 1: 0.6980, Class 2: 0.0172, Class 3: 0.5956, Class 4: 0.7440, Class 5: 0.5967, Class 6: 0.8982, \n",
      "Validation mIoU Score\n",
      "Class 0: 0.9767, Class 1: 0.4679, Class 2: 0.0131, Class 3: 0.2907, Class 4: 0.5532, Class 5: 0.3053, Class 6: 0.7421, \n",
      "\n",
      "Overall Mean Dice Score: 0.6231\n",
      "Overall Mean F-beta Score: 0.7065\n",
      "Overall Mean IoU Score: 0.4718\n",
      "Training Loss: 0.4486, Validation Loss: 0.4526, Validation F-beta: 0.6126\n",
      "Epoch 117/4000\n"
     ]
    },
    {
     "name": "stderr",
     "output_type": "stream",
     "text": [
      "Training: 100%|██████████| 48/48 [00:32<00:00,  1.47it/s, loss=0.44] \n",
      "Validation: 100%|██████████| 10/10 [00:06<00:00,  1.51it/s, loss=0.448]\n"
     ]
    },
    {
     "name": "stdout",
     "output_type": "stream",
     "text": [
      "Validation Dice Score\n",
      "Class 0: 0.9880, Class 1: 0.6336, Class 2: 0.0535, Class 3: 0.4697, Class 4: 0.6959, Class 5: 0.4497, Class 6: 0.8597, \n",
      "Validation F-beta Score\n",
      "Class 0: 0.9841, Class 1: 0.7322, Class 2: 0.0366, Class 3: 0.6171, Class 4: 0.7321, Class 5: 0.5897, Class 6: 0.9177, \n",
      "Validation mIoU Score\n",
      "Class 0: 0.9763, Class 1: 0.4653, Class 2: 0.0276, Class 3: 0.3081, Class 4: 0.5339, Class 5: 0.2918, Class 6: 0.7554, \n",
      "\n",
      "Overall Mean Dice Score: 0.6217\n",
      "Overall Mean F-beta Score: 0.7178\n",
      "Overall Mean IoU Score: 0.4709\n",
      "Training Loss: 0.4458, Validation Loss: 0.4540, Validation F-beta: 0.6190\n",
      "Epoch 118/4000\n"
     ]
    },
    {
     "name": "stderr",
     "output_type": "stream",
     "text": [
      "Training: 100%|██████████| 48/48 [00:32<00:00,  1.46it/s, loss=0.436]\n",
      "Validation: 100%|██████████| 10/10 [00:06<00:00,  1.43it/s, loss=0.454]\n"
     ]
    },
    {
     "name": "stdout",
     "output_type": "stream",
     "text": [
      "Validation Dice Score\n",
      "Class 0: 0.9878, Class 1: 0.6293, Class 2: 0.0365, Class 3: 0.4737, Class 4: 0.7115, Class 5: 0.4740, Class 6: 0.8445, \n",
      "Validation F-beta Score\n",
      "Class 0: 0.9838, Class 1: 0.7242, Class 2: 0.0262, Class 3: 0.6054, Class 4: 0.7544, Class 5: 0.6033, Class 6: 0.9234, \n",
      "Validation mIoU Score\n",
      "Class 0: 0.9758, Class 1: 0.4603, Class 2: 0.0187, Class 3: 0.3121, Class 4: 0.5524, Class 5: 0.3112, Class 6: 0.7315, \n",
      "\n",
      "Overall Mean Dice Score: 0.6266\n",
      "Overall Mean F-beta Score: 0.7222\n",
      "Overall Mean IoU Score: 0.4735\n",
      "Training Loss: 0.4450, Validation Loss: 0.4505, Validation F-beta: 0.6227\n",
      "========================================================\n",
      "SUPER Best model saved. Loss:0.4505, Score:0.6227\n",
      "========================================================\n",
      "Epoch 119/4000\n"
     ]
    },
    {
     "name": "stderr",
     "output_type": "stream",
     "text": [
      "Training: 100%|██████████| 48/48 [00:32<00:00,  1.46it/s, loss=0.446]\n",
      "Validation: 100%|██████████| 10/10 [00:06<00:00,  1.52it/s, loss=0.463]\n"
     ]
    },
    {
     "name": "stdout",
     "output_type": "stream",
     "text": [
      "Validation Dice Score\n",
      "Class 0: 0.9883, Class 1: 0.6159, Class 2: 0.0442, Class 3: 0.4498, Class 4: 0.7144, Class 5: 0.4574, Class 6: 0.8615, \n",
      "Validation F-beta Score\n",
      "Class 0: 0.9842, Class 1: 0.7083, Class 2: 0.0316, Class 3: 0.5935, Class 4: 0.7399, Class 5: 0.6112, Class 6: 0.9232, \n",
      "Validation mIoU Score\n",
      "Class 0: 0.9768, Class 1: 0.4469, Class 2: 0.0227, Class 3: 0.2911, Class 4: 0.5560, Class 5: 0.2977, Class 6: 0.7571, \n",
      "\n",
      "Overall Mean Dice Score: 0.6198\n",
      "Overall Mean F-beta Score: 0.7152\n",
      "Overall Mean IoU Score: 0.4698\n",
      "Training Loss: 0.4467, Validation Loss: 0.4523, Validation F-beta: 0.6170\n",
      "Epoch 120/4000\n"
     ]
    },
    {
     "name": "stderr",
     "output_type": "stream",
     "text": [
      "Training: 100%|██████████| 48/48 [00:32<00:00,  1.46it/s, loss=0.435]\n",
      "Validation: 100%|██████████| 10/10 [00:06<00:00,  1.53it/s, loss=0.45]\n"
     ]
    },
    {
     "name": "stdout",
     "output_type": "stream",
     "text": [
      "Validation Dice Score\n",
      "Class 0: 0.9885, Class 1: 0.6189, Class 2: 0.0490, Class 3: 0.4465, Class 4: 0.7194, Class 5: 0.4608, Class 6: 0.8479, \n",
      "Validation F-beta Score\n",
      "Class 0: 0.9852, Class 1: 0.7159, Class 2: 0.0331, Class 3: 0.5784, Class 4: 0.7518, Class 5: 0.5824, Class 6: 0.9119, \n",
      "Validation mIoU Score\n",
      "Class 0: 0.9773, Class 1: 0.4482, Class 2: 0.0252, Class 3: 0.2897, Class 4: 0.5620, Class 5: 0.3003, Class 6: 0.7375, \n",
      "\n",
      "Overall Mean Dice Score: 0.6187\n",
      "Overall Mean F-beta Score: 0.7081\n",
      "Overall Mean IoU Score: 0.4675\n",
      "Training Loss: 0.4440, Validation Loss: 0.4491, Validation F-beta: 0.6119\n",
      "Epoch 121/4000\n"
     ]
    },
    {
     "name": "stderr",
     "output_type": "stream",
     "text": [
      "Training: 100%|██████████| 48/48 [00:33<00:00,  1.42it/s, loss=0.44] \n",
      "Validation: 100%|██████████| 10/10 [00:06<00:00,  1.50it/s, loss=0.457]\n"
     ]
    },
    {
     "name": "stdout",
     "output_type": "stream",
     "text": [
      "Validation Dice Score\n",
      "Class 0: 0.9879, Class 1: 0.6242, Class 2: 0.0575, Class 3: 0.4746, Class 4: 0.6985, Class 5: 0.4737, Class 6: 0.8512, \n",
      "Validation F-beta Score\n",
      "Class 0: 0.9840, Class 1: 0.7410, Class 2: 0.0432, Class 3: 0.6049, Class 4: 0.7342, Class 5: 0.6112, Class 6: 0.9113, \n",
      "Validation mIoU Score\n",
      "Class 0: 0.9761, Class 1: 0.4545, Class 2: 0.0299, Class 3: 0.3125, Class 4: 0.5372, Class 5: 0.3108, Class 6: 0.7414, \n",
      "\n",
      "Overall Mean Dice Score: 0.6245\n",
      "Overall Mean F-beta Score: 0.7205\n",
      "Overall Mean IoU Score: 0.4713\n",
      "Training Loss: 0.4433, Validation Loss: 0.4540, Validation F-beta: 0.6208\n",
      "Epoch 122/4000\n"
     ]
    },
    {
     "name": "stderr",
     "output_type": "stream",
     "text": [
      "Training: 100%|██████████| 48/48 [00:32<00:00,  1.46it/s, loss=0.441]\n",
      "Validation: 100%|██████████| 10/10 [00:06<00:00,  1.55it/s, loss=0.46]\n"
     ]
    },
    {
     "name": "stdout",
     "output_type": "stream",
     "text": [
      "Validation Dice Score\n",
      "Class 0: 0.9877, Class 1: 0.6031, Class 2: 0.0426, Class 3: 0.4320, Class 4: 0.7011, Class 5: 0.4487, Class 6: 0.8420, \n",
      "Validation F-beta Score\n",
      "Class 0: 0.9835, Class 1: 0.6625, Class 2: 0.0294, Class 3: 0.5848, Class 4: 0.7411, Class 5: 0.5916, Class 6: 0.9126, \n",
      "Validation mIoU Score\n",
      "Class 0: 0.9757, Class 1: 0.4344, Class 2: 0.0220, Class 3: 0.2806, Class 4: 0.5402, Class 5: 0.2898, Class 6: 0.7287, \n",
      "\n",
      "Overall Mean Dice Score: 0.6054\n",
      "Overall Mean F-beta Score: 0.6985\n",
      "Overall Mean IoU Score: 0.4547\n",
      "Training Loss: 0.4438, Validation Loss: 0.4557, Validation F-beta: 0.6010\n",
      "Epoch 123/4000\n"
     ]
    },
    {
     "name": "stderr",
     "output_type": "stream",
     "text": [
      "Training: 100%|██████████| 48/48 [00:32<00:00,  1.48it/s, loss=0.439]\n",
      "Validation: 100%|██████████| 10/10 [00:07<00:00,  1.42it/s, loss=0.448]\n"
     ]
    },
    {
     "name": "stdout",
     "output_type": "stream",
     "text": [
      "Validation Dice Score\n",
      "Class 0: 0.9881, Class 1: 0.6008, Class 2: 0.0500, Class 3: 0.4282, Class 4: 0.7164, Class 5: 0.4538, Class 6: 0.8669, \n",
      "Validation F-beta Score\n",
      "Class 0: 0.9840, Class 1: 0.7029, Class 2: 0.0361, Class 3: 0.5318, Class 4: 0.7508, Class 5: 0.6199, Class 6: 0.9111, \n",
      "Validation mIoU Score\n",
      "Class 0: 0.9765, Class 1: 0.4302, Class 2: 0.0257, Class 3: 0.2731, Class 4: 0.5584, Class 5: 0.2949, Class 6: 0.7652, \n",
      "\n",
      "Overall Mean Dice Score: 0.6132\n",
      "Overall Mean F-beta Score: 0.7033\n",
      "Overall Mean IoU Score: 0.4644\n",
      "Training Loss: 0.4439, Validation Loss: 0.4516, Validation F-beta: 0.6077\n",
      "Epoch 124/4000\n"
     ]
    },
    {
     "name": "stderr",
     "output_type": "stream",
     "text": [
      "Training: 100%|██████████| 48/48 [00:32<00:00,  1.47it/s, loss=0.45] \n",
      "Validation: 100%|██████████| 10/10 [00:06<00:00,  1.50it/s, loss=0.438]\n"
     ]
    },
    {
     "name": "stdout",
     "output_type": "stream",
     "text": [
      "Validation Dice Score\n",
      "Class 0: 0.9884, Class 1: 0.6169, Class 2: 0.0572, Class 3: 0.4500, Class 4: 0.6957, Class 5: 0.4877, Class 6: 0.8538, \n",
      "Validation F-beta Score\n",
      "Class 0: 0.9851, Class 1: 0.6973, Class 2: 0.0399, Class 3: 0.6324, Class 4: 0.7218, Class 5: 0.6060, Class 6: 0.9080, \n",
      "Validation mIoU Score\n",
      "Class 0: 0.9771, Class 1: 0.4478, Class 2: 0.0297, Class 3: 0.2908, Class 4: 0.5338, Class 5: 0.3239, Class 6: 0.7458, \n",
      "\n",
      "Overall Mean Dice Score: 0.6208\n",
      "Overall Mean F-beta Score: 0.7131\n",
      "Overall Mean IoU Score: 0.4684\n",
      "Training Loss: 0.4446, Validation Loss: 0.4528, Validation F-beta: 0.6152\n",
      "Epoch 125/4000\n"
     ]
    },
    {
     "name": "stderr",
     "output_type": "stream",
     "text": [
      "Training: 100%|██████████| 48/48 [00:32<00:00,  1.48it/s, loss=0.444]\n",
      "Validation: 100%|██████████| 10/10 [00:06<00:00,  1.54it/s, loss=0.451]\n"
     ]
    },
    {
     "name": "stdout",
     "output_type": "stream",
     "text": [
      "Validation Dice Score\n",
      "Class 0: 0.9880, Class 1: 0.6231, Class 2: 0.0429, Class 3: 0.4732, Class 4: 0.7069, Class 5: 0.4401, Class 6: 0.8588, \n",
      "Validation F-beta Score\n",
      "Class 0: 0.9845, Class 1: 0.6987, Class 2: 0.0307, Class 3: 0.5898, Class 4: 0.7275, Class 5: 0.5844, Class 6: 0.9118, \n",
      "Validation mIoU Score\n",
      "Class 0: 0.9764, Class 1: 0.4529, Class 2: 0.0221, Class 3: 0.3115, Class 4: 0.5469, Class 5: 0.2828, Class 6: 0.7530, \n",
      "\n",
      "Overall Mean Dice Score: 0.6204\n",
      "Overall Mean F-beta Score: 0.7024\n",
      "Overall Mean IoU Score: 0.4694\n",
      "Training Loss: 0.4435, Validation Loss: 0.4541, Validation F-beta: 0.6092\n",
      "Epoch 126/4000\n"
     ]
    },
    {
     "name": "stderr",
     "output_type": "stream",
     "text": [
      "Training: 100%|██████████| 48/48 [00:32<00:00,  1.47it/s, loss=0.446]\n",
      "Validation: 100%|██████████| 10/10 [00:07<00:00,  1.36it/s, loss=0.446]\n"
     ]
    },
    {
     "name": "stdout",
     "output_type": "stream",
     "text": [
      "Validation Dice Score\n",
      "Class 0: 0.9877, Class 1: 0.6258, Class 2: 0.0842, Class 3: 0.4425, Class 4: 0.7162, Class 5: 0.4428, Class 6: 0.8599, \n",
      "Validation F-beta Score\n",
      "Class 0: 0.9833, Class 1: 0.7044, Class 2: 0.0687, Class 3: 0.5994, Class 4: 0.7642, Class 5: 0.5932, Class 6: 0.9083, \n",
      "Validation mIoU Score\n",
      "Class 0: 0.9757, Class 1: 0.4567, Class 2: 0.0446, Class 3: 0.2847, Class 4: 0.5580, Class 5: 0.2857, Class 6: 0.7550, \n",
      "\n",
      "Overall Mean Dice Score: 0.6174\n",
      "Overall Mean F-beta Score: 0.7139\n",
      "Overall Mean IoU Score: 0.4680\n",
      "Training Loss: 0.4439, Validation Loss: 0.4510, Validation F-beta: 0.6155\n",
      "Epoch 127/4000\n"
     ]
    },
    {
     "name": "stderr",
     "output_type": "stream",
     "text": [
      "Training: 100%|██████████| 48/48 [00:32<00:00,  1.47it/s, loss=0.438]\n",
      "Validation: 100%|██████████| 10/10 [00:06<00:00,  1.51it/s, loss=0.454]\n"
     ]
    },
    {
     "name": "stdout",
     "output_type": "stream",
     "text": [
      "Validation Dice Score\n",
      "Class 0: 0.9882, Class 1: 0.6342, Class 2: 0.0636, Class 3: 0.4599, Class 4: 0.7177, Class 5: 0.4522, Class 6: 0.8639, \n",
      "Validation F-beta Score\n",
      "Class 0: 0.9839, Class 1: 0.6956, Class 2: 0.0508, Class 3: 0.6113, Class 4: 0.7562, Class 5: 0.6170, Class 6: 0.9148, \n",
      "Validation mIoU Score\n",
      "Class 0: 0.9767, Class 1: 0.4652, Class 2: 0.0332, Class 3: 0.2995, Class 4: 0.5598, Class 5: 0.2926, Class 6: 0.7608, \n",
      "\n",
      "Overall Mean Dice Score: 0.6256\n",
      "Overall Mean F-beta Score: 0.7190\n",
      "Overall Mean IoU Score: 0.4756\n",
      "Training Loss: 0.4427, Validation Loss: 0.4519, Validation F-beta: 0.6216\n",
      "Epoch 128/4000\n"
     ]
    },
    {
     "name": "stderr",
     "output_type": "stream",
     "text": [
      "Training: 100%|██████████| 48/48 [00:32<00:00,  1.47it/s, loss=0.447]\n",
      "Validation: 100%|██████████| 10/10 [00:06<00:00,  1.52it/s, loss=0.46]\n"
     ]
    },
    {
     "name": "stdout",
     "output_type": "stream",
     "text": [
      "Validation Dice Score\n",
      "Class 0: 0.9866, Class 1: 0.6430, Class 2: 0.0559, Class 3: 0.4833, Class 4: 0.7036, Class 5: 0.4464, Class 6: 0.8604, \n",
      "Validation F-beta Score\n",
      "Class 0: 0.9811, Class 1: 0.6908, Class 2: 0.0431, Class 3: 0.6156, Class 4: 0.7697, Class 5: 0.6253, Class 6: 0.9225, \n",
      "Validation mIoU Score\n",
      "Class 0: 0.9735, Class 1: 0.4762, Class 2: 0.0290, Class 3: 0.3195, Class 4: 0.5430, Class 5: 0.2882, Class 6: 0.7555, \n",
      "\n",
      "Overall Mean Dice Score: 0.6274\n",
      "Overall Mean F-beta Score: 0.7248\n",
      "Overall Mean IoU Score: 0.4765\n",
      "Training Loss: 0.4432, Validation Loss: 0.4552, Validation F-beta: 0.6255\n",
      "Epoch 129/4000\n"
     ]
    },
    {
     "name": "stderr",
     "output_type": "stream",
     "text": [
      "Training: 100%|██████████| 48/48 [00:32<00:00,  1.47it/s, loss=0.442]\n",
      "Validation: 100%|██████████| 10/10 [00:07<00:00,  1.33it/s, loss=0.448]\n"
     ]
    },
    {
     "name": "stdout",
     "output_type": "stream",
     "text": [
      "Validation Dice Score\n",
      "Class 0: 0.9882, Class 1: 0.6157, Class 2: 0.0879, Class 3: 0.4377, Class 4: 0.7148, Class 5: 0.4661, Class 6: 0.8570, \n",
      "Validation F-beta Score\n",
      "Class 0: 0.9849, Class 1: 0.6923, Class 2: 0.0803, Class 3: 0.5362, Class 4: 0.7492, Class 5: 0.5754, Class 6: 0.9106, \n",
      "Validation mIoU Score\n",
      "Class 0: 0.9767, Class 1: 0.4459, Class 2: 0.0464, Class 3: 0.2823, Class 4: 0.5565, Class 5: 0.3042, Class 6: 0.7507, \n",
      "\n",
      "Overall Mean Dice Score: 0.6183\n",
      "Overall Mean F-beta Score: 0.6927\n",
      "Overall Mean IoU Score: 0.4679\n",
      "Training Loss: 0.4416, Validation Loss: 0.4529, Validation F-beta: 0.6028\n",
      "Epoch 130/4000\n"
     ]
    },
    {
     "name": "stderr",
     "output_type": "stream",
     "text": [
      "Training: 100%|██████████| 48/48 [00:32<00:00,  1.48it/s, loss=0.43] \n",
      "Validation: 100%|██████████| 10/10 [00:06<00:00,  1.52it/s, loss=0.445]\n"
     ]
    },
    {
     "name": "stdout",
     "output_type": "stream",
     "text": [
      "Validation Dice Score\n",
      "Class 0: 0.9880, Class 1: 0.6473, Class 2: 0.0979, Class 3: 0.4655, Class 4: 0.7211, Class 5: 0.4374, Class 6: 0.8409, \n",
      "Validation F-beta Score\n",
      "Class 0: 0.9835, Class 1: 0.7461, Class 2: 0.0921, Class 3: 0.5990, Class 4: 0.7739, Class 5: 0.5837, Class 6: 0.9189, \n",
      "Validation mIoU Score\n",
      "Class 0: 0.9763, Class 1: 0.4794, Class 2: 0.0520, Class 3: 0.3041, Class 4: 0.5639, Class 5: 0.2818, Class 6: 0.7265, \n",
      "\n",
      "Overall Mean Dice Score: 0.6225\n",
      "Overall Mean F-beta Score: 0.7243\n",
      "Overall Mean IoU Score: 0.4711\n",
      "Training Loss: 0.4434, Validation Loss: 0.4518, Validation F-beta: 0.6230\n",
      "Epoch 131/4000\n"
     ]
    },
    {
     "name": "stderr",
     "output_type": "stream",
     "text": [
      "Training: 100%|██████████| 48/48 [00:32<00:00,  1.46it/s, loss=0.435]\n",
      "Validation: 100%|██████████| 10/10 [00:06<00:00,  1.54it/s, loss=0.456]\n"
     ]
    },
    {
     "name": "stdout",
     "output_type": "stream",
     "text": [
      "Validation Dice Score\n",
      "Class 0: 0.9879, Class 1: 0.6465, Class 2: 0.0889, Class 3: 0.4335, Class 4: 0.7086, Class 5: 0.4401, Class 6: 0.8613, \n",
      "Validation F-beta Score\n",
      "Class 0: 0.9831, Class 1: 0.7109, Class 2: 0.0746, Class 3: 0.5422, Class 4: 0.7551, Class 5: 0.6246, Class 6: 0.9188, \n",
      "Validation mIoU Score\n",
      "Class 0: 0.9760, Class 1: 0.4781, Class 2: 0.0468, Class 3: 0.2778, Class 4: 0.5493, Class 5: 0.2830, Class 6: 0.7571, \n",
      "\n",
      "Overall Mean Dice Score: 0.6180\n",
      "Overall Mean F-beta Score: 0.7103\n",
      "Overall Mean IoU Score: 0.4691\n",
      "Training Loss: 0.4428, Validation Loss: 0.4535, Validation F-beta: 0.6138\n",
      "Epoch 132/4000\n"
     ]
    },
    {
     "name": "stderr",
     "output_type": "stream",
     "text": [
      "Training: 100%|██████████| 48/48 [00:33<00:00,  1.43it/s, loss=0.434]\n",
      "Validation: 100%|██████████| 10/10 [00:06<00:00,  1.51it/s, loss=0.45]\n"
     ]
    },
    {
     "name": "stdout",
     "output_type": "stream",
     "text": [
      "Validation Dice Score\n",
      "Class 0: 0.9882, Class 1: 0.6493, Class 2: 0.0951, Class 3: 0.4327, Class 4: 0.6970, Class 5: 0.4488, Class 6: 0.8567, \n",
      "Validation F-beta Score\n",
      "Class 0: 0.9838, Class 1: 0.7134, Class 2: 0.0897, Class 3: 0.5670, Class 4: 0.7340, Class 5: 0.6209, Class 6: 0.9123, \n",
      "Validation mIoU Score\n",
      "Class 0: 0.9767, Class 1: 0.4814, Class 2: 0.0504, Class 3: 0.2774, Class 4: 0.5353, Class 5: 0.2898, Class 6: 0.7499, \n",
      "\n",
      "Overall Mean Dice Score: 0.6169\n",
      "Overall Mean F-beta Score: 0.7095\n",
      "Overall Mean IoU Score: 0.4668\n",
      "Training Loss: 0.4414, Validation Loss: 0.4512, Validation F-beta: 0.6124\n",
      "Epoch 133/4000\n"
     ]
    },
    {
     "name": "stderr",
     "output_type": "stream",
     "text": [
      "Training: 100%|██████████| 48/48 [00:32<00:00,  1.47it/s, loss=0.444]\n",
      "Validation: 100%|██████████| 10/10 [00:06<00:00,  1.51it/s, loss=0.457]\n"
     ]
    },
    {
     "name": "stdout",
     "output_type": "stream",
     "text": [
      "Validation Dice Score\n",
      "Class 0: 0.9878, Class 1: 0.6499, Class 2: 0.0929, Class 3: 0.4602, Class 4: 0.7021, Class 5: 0.4699, Class 6: 0.8568, \n",
      "Validation F-beta Score\n",
      "Class 0: 0.9842, Class 1: 0.6958, Class 2: 0.0939, Class 3: 0.6002, Class 4: 0.7282, Class 5: 0.5972, Class 6: 0.9010, \n",
      "Validation mIoU Score\n",
      "Class 0: 0.9759, Class 1: 0.4821, Class 2: 0.0491, Class 3: 0.3002, Class 4: 0.5411, Class 5: 0.3077, Class 6: 0.7497, \n",
      "\n",
      "Overall Mean Dice Score: 0.6278\n",
      "Overall Mean F-beta Score: 0.7045\n",
      "Overall Mean IoU Score: 0.4761\n",
      "Training Loss: 0.4436, Validation Loss: 0.4523, Validation F-beta: 0.6131\n",
      "Epoch 134/4000\n"
     ]
    },
    {
     "name": "stderr",
     "output_type": "stream",
     "text": [
      "Training: 100%|██████████| 48/48 [00:32<00:00,  1.47it/s, loss=0.442]\n",
      "Validation: 100%|██████████| 10/10 [00:07<00:00,  1.37it/s, loss=0.452]\n"
     ]
    },
    {
     "name": "stdout",
     "output_type": "stream",
     "text": [
      "Validation Dice Score\n",
      "Class 0: 0.9880, Class 1: 0.6526, Class 2: 0.0923, Class 3: 0.4168, Class 4: 0.7050, Class 5: 0.4465, Class 6: 0.8452, \n",
      "Validation F-beta Score\n",
      "Class 0: 0.9837, Class 1: 0.7147, Class 2: 0.0969, Class 3: 0.6190, Class 4: 0.7528, Class 5: 0.5554, Class 6: 0.9151, \n",
      "Validation mIoU Score\n",
      "Class 0: 0.9762, Class 1: 0.4850, Class 2: 0.0492, Class 3: 0.2641, Class 4: 0.5451, Class 5: 0.2879, Class 6: 0.7333, \n",
      "\n",
      "Overall Mean Dice Score: 0.6132\n",
      "Overall Mean F-beta Score: 0.7114\n",
      "Overall Mean IoU Score: 0.4631\n",
      "Training Loss: 0.4416, Validation Loss: 0.4550, Validation F-beta: 0.6121\n",
      "Epoch 135/4000\n"
     ]
    },
    {
     "name": "stderr",
     "output_type": "stream",
     "text": [
      "Training: 100%|██████████| 48/48 [00:32<00:00,  1.46it/s, loss=0.441]\n",
      "Validation: 100%|██████████| 10/10 [00:06<00:00,  1.52it/s, loss=0.452]\n"
     ]
    },
    {
     "name": "stdout",
     "output_type": "stream",
     "text": [
      "Validation Dice Score\n",
      "Class 0: 0.9879, Class 1: 0.6468, Class 2: 0.1054, Class 3: 0.4195, Class 4: 0.7158, Class 5: 0.4514, Class 6: 0.8532, \n",
      "Validation F-beta Score\n",
      "Class 0: 0.9836, Class 1: 0.7377, Class 2: 0.1089, Class 3: 0.5497, Class 4: 0.7672, Class 5: 0.5800, Class 6: 0.9190, \n",
      "Validation mIoU Score\n",
      "Class 0: 0.9761, Class 1: 0.4790, Class 2: 0.0568, Class 3: 0.2662, Class 4: 0.5576, Class 5: 0.2928, Class 6: 0.7446, \n",
      "\n",
      "Overall Mean Dice Score: 0.6173\n",
      "Overall Mean F-beta Score: 0.7107\n",
      "Overall Mean IoU Score: 0.4680\n",
      "Training Loss: 0.4416, Validation Loss: 0.4549, Validation F-beta: 0.6136\n",
      "Epoch 136/4000\n"
     ]
    },
    {
     "name": "stderr",
     "output_type": "stream",
     "text": [
      "Training: 100%|██████████| 48/48 [00:32<00:00,  1.46it/s, loss=0.442]\n",
      "Validation: 100%|██████████| 10/10 [00:06<00:00,  1.50it/s, loss=0.45]\n"
     ]
    },
    {
     "name": "stdout",
     "output_type": "stream",
     "text": [
      "Validation Dice Score\n",
      "Class 0: 0.9881, Class 1: 0.6325, Class 2: 0.0925, Class 3: 0.4656, Class 4: 0.7159, Class 5: 0.4671, Class 6: 0.8434, \n",
      "Validation F-beta Score\n",
      "Class 0: 0.9838, Class 1: 0.7393, Class 2: 0.1013, Class 3: 0.6259, Class 4: 0.7529, Class 5: 0.6094, Class 6: 0.9246, \n",
      "Validation mIoU Score\n",
      "Class 0: 0.9765, Class 1: 0.4632, Class 2: 0.0492, Class 3: 0.3045, Class 4: 0.5578, Class 5: 0.3054, Class 6: 0.7304, \n",
      "\n",
      "Overall Mean Dice Score: 0.6249\n",
      "Overall Mean F-beta Score: 0.7304\n",
      "Overall Mean IoU Score: 0.4723\n",
      "Training Loss: 0.4414, Validation Loss: 0.4514, Validation F-beta: 0.6272\n",
      "Epoch 137/4000\n"
     ]
    },
    {
     "name": "stderr",
     "output_type": "stream",
     "text": [
      "Training: 100%|██████████| 48/48 [00:32<00:00,  1.48it/s, loss=0.439]\n",
      "Validation: 100%|██████████| 10/10 [00:07<00:00,  1.31it/s, loss=0.452]\n"
     ]
    },
    {
     "name": "stdout",
     "output_type": "stream",
     "text": [
      "Validation Dice Score\n",
      "Class 0: 0.9874, Class 1: 0.6535, Class 2: 0.1417, Class 3: 0.4331, Class 4: 0.7068, Class 5: 0.4442, Class 6: 0.8529, \n",
      "Validation F-beta Score\n",
      "Class 0: 0.9827, Class 1: 0.7301, Class 2: 0.1270, Class 3: 0.5800, Class 4: 0.7606, Class 5: 0.5905, Class 6: 0.9218, \n",
      "Validation mIoU Score\n",
      "Class 0: 0.9752, Class 1: 0.4863, Class 2: 0.0778, Class 3: 0.2765, Class 4: 0.5467, Class 5: 0.2859, Class 6: 0.7440, \n",
      "\n",
      "Overall Mean Dice Score: 0.6181\n",
      "Overall Mean F-beta Score: 0.7166\n",
      "Overall Mean IoU Score: 0.4679\n",
      "Training Loss: 0.4424, Validation Loss: 0.4544, Validation F-beta: 0.6171\n",
      "Epoch 138/4000\n"
     ]
    },
    {
     "name": "stderr",
     "output_type": "stream",
     "text": [
      "Training: 100%|██████████| 48/48 [00:32<00:00,  1.47it/s, loss=0.437]\n",
      "Validation: 100%|██████████| 10/10 [00:06<00:00,  1.51it/s, loss=0.456]\n"
     ]
    },
    {
     "name": "stdout",
     "output_type": "stream",
     "text": [
      "Validation Dice Score\n",
      "Class 0: 0.9880, Class 1: 0.6399, Class 2: 0.1093, Class 3: 0.4533, Class 4: 0.7037, Class 5: 0.4781, Class 6: 0.8653, \n",
      "Validation F-beta Score\n",
      "Class 0: 0.9838, Class 1: 0.7172, Class 2: 0.1225, Class 3: 0.6073, Class 4: 0.7435, Class 5: 0.6115, Class 6: 0.9235, \n",
      "Validation mIoU Score\n",
      "Class 0: 0.9762, Class 1: 0.4717, Class 2: 0.0585, Class 3: 0.2941, Class 4: 0.5430, Class 5: 0.3144, Class 6: 0.7633, \n",
      "\n",
      "Overall Mean Dice Score: 0.6281\n",
      "Overall Mean F-beta Score: 0.7206\n",
      "Overall Mean IoU Score: 0.4773\n",
      "Training Loss: 0.4405, Validation Loss: 0.4502, Validation F-beta: 0.6233\n",
      "========================================================\n",
      "SUPER Best model saved. Loss:0.4502, Score:0.6233\n",
      "========================================================\n",
      "Epoch 139/4000\n"
     ]
    },
    {
     "name": "stderr",
     "output_type": "stream",
     "text": [
      "Training: 100%|██████████| 48/48 [00:32<00:00,  1.47it/s, loss=0.447]\n",
      "Validation: 100%|██████████| 10/10 [00:06<00:00,  1.50it/s, loss=0.446]\n"
     ]
    },
    {
     "name": "stdout",
     "output_type": "stream",
     "text": [
      "Validation Dice Score\n",
      "Class 0: 0.9881, Class 1: 0.6533, Class 2: 0.0971, Class 3: 0.4230, Class 4: 0.7142, Class 5: 0.4740, Class 6: 0.8515, \n",
      "Validation F-beta Score\n",
      "Class 0: 0.9837, Class 1: 0.7184, Class 2: 0.0995, Class 3: 0.5321, Class 4: 0.7615, Class 5: 0.6294, Class 6: 0.9242, \n",
      "Validation mIoU Score\n",
      "Class 0: 0.9764, Class 1: 0.4858, Class 2: 0.0518, Class 3: 0.2704, Class 4: 0.5556, Class 5: 0.3128, Class 6: 0.7418, \n",
      "\n",
      "Overall Mean Dice Score: 0.6232\n",
      "Overall Mean F-beta Score: 0.7131\n",
      "Overall Mean IoU Score: 0.4733\n",
      "Training Loss: 0.4416, Validation Loss: 0.4487, Validation F-beta: 0.6172\n",
      "Epoch 140/4000\n"
     ]
    },
    {
     "name": "stderr",
     "output_type": "stream",
     "text": [
      "Training: 100%|██████████| 48/48 [00:33<00:00,  1.45it/s, loss=0.445]\n",
      "Validation: 100%|██████████| 10/10 [00:06<00:00,  1.53it/s, loss=0.449]\n"
     ]
    },
    {
     "name": "stdout",
     "output_type": "stream",
     "text": [
      "Validation Dice Score\n",
      "Class 0: 0.9878, Class 1: 0.6419, Class 2: 0.1010, Class 3: 0.4637, Class 4: 0.7036, Class 5: 0.4661, Class 6: 0.8592, \n",
      "Validation F-beta Score\n",
      "Class 0: 0.9838, Class 1: 0.7103, Class 2: 0.1006, Class 3: 0.5591, Class 4: 0.7392, Class 5: 0.6092, Class 6: 0.9245, \n",
      "Validation mIoU Score\n",
      "Class 0: 0.9759, Class 1: 0.4734, Class 2: 0.0543, Class 3: 0.3027, Class 4: 0.5431, Class 5: 0.3051, Class 6: 0.7536, \n",
      "\n",
      "Overall Mean Dice Score: 0.6269\n",
      "Overall Mean F-beta Score: 0.7084\n",
      "Overall Mean IoU Score: 0.4756\n",
      "Training Loss: 0.4407, Validation Loss: 0.4515, Validation F-beta: 0.6153\n",
      "Epoch 141/4000\n"
     ]
    },
    {
     "name": "stderr",
     "output_type": "stream",
     "text": [
      "Training: 100%|██████████| 48/48 [00:32<00:00,  1.46it/s, loss=0.443]\n",
      "Validation: 100%|██████████| 10/10 [00:06<00:00,  1.51it/s, loss=0.461]\n"
     ]
    },
    {
     "name": "stdout",
     "output_type": "stream",
     "text": [
      "Validation Dice Score\n",
      "Class 0: 0.9878, Class 1: 0.6566, Class 2: 0.1051, Class 3: 0.4967, Class 4: 0.7122, Class 5: 0.4633, Class 6: 0.8333, \n",
      "Validation F-beta Score\n",
      "Class 0: 0.9835, Class 1: 0.7158, Class 2: 0.1110, Class 3: 0.6204, Class 4: 0.7567, Class 5: 0.6107, Class 6: 0.9191, \n",
      "Validation mIoU Score\n",
      "Class 0: 0.9760, Class 1: 0.4897, Class 2: 0.0565, Class 3: 0.3314, Class 4: 0.5530, Class 5: 0.3026, Class 6: 0.7155, \n",
      "\n",
      "Overall Mean Dice Score: 0.6324\n",
      "Overall Mean F-beta Score: 0.7245\n",
      "Overall Mean IoU Score: 0.4785\n",
      "Training Loss: 0.4411, Validation Loss: 0.4498, Validation F-beta: 0.6261\n",
      "========================================================\n",
      "SUPER Best model saved. Loss:0.4498, Score:0.6261\n",
      "========================================================\n",
      "Epoch 142/4000\n"
     ]
    },
    {
     "name": "stderr",
     "output_type": "stream",
     "text": [
      "Training: 100%|██████████| 48/48 [00:32<00:00,  1.47it/s, loss=0.444]\n",
      "Validation: 100%|██████████| 10/10 [00:06<00:00,  1.53it/s, loss=0.451]\n"
     ]
    },
    {
     "name": "stdout",
     "output_type": "stream",
     "text": [
      "Validation Dice Score\n",
      "Class 0: 0.9879, Class 1: 0.6775, Class 2: 0.1046, Class 3: 0.4437, Class 4: 0.7084, Class 5: 0.4704, Class 6: 0.8637, \n",
      "Validation F-beta Score\n",
      "Class 0: 0.9836, Class 1: 0.7156, Class 2: 0.1158, Class 3: 0.5404, Class 4: 0.7483, Class 5: 0.6247, Class 6: 0.9221, \n",
      "Validation mIoU Score\n",
      "Class 0: 0.9761, Class 1: 0.5127, Class 2: 0.0560, Class 3: 0.2868, Class 4: 0.5486, Class 5: 0.3088, Class 6: 0.7604, \n",
      "\n",
      "Overall Mean Dice Score: 0.6327\n",
      "Overall Mean F-beta Score: 0.7102\n",
      "Overall Mean IoU Score: 0.4834\n",
      "Training Loss: 0.4397, Validation Loss: 0.4516, Validation F-beta: 0.6195\n",
      "Epoch 143/4000\n"
     ]
    },
    {
     "name": "stderr",
     "output_type": "stream",
     "text": [
      "Training: 100%|██████████| 48/48 [00:33<00:00,  1.45it/s, loss=0.433]\n",
      "Validation: 100%|██████████| 10/10 [00:06<00:00,  1.53it/s, loss=0.455]\n"
     ]
    },
    {
     "name": "stdout",
     "output_type": "stream",
     "text": [
      "Validation Dice Score\n",
      "Class 0: 0.9875, Class 1: 0.6389, Class 2: 0.1225, Class 3: 0.4471, Class 4: 0.7091, Class 5: 0.4400, Class 6: 0.8559, \n",
      "Validation F-beta Score\n",
      "Class 0: 0.9825, Class 1: 0.7068, Class 2: 0.1210, Class 3: 0.5686, Class 4: 0.7576, Class 5: 0.6197, Class 6: 0.9238, \n",
      "Validation mIoU Score\n",
      "Class 0: 0.9752, Class 1: 0.4701, Class 2: 0.0666, Class 3: 0.2891, Class 4: 0.5494, Class 5: 0.2830, Class 6: 0.7485, \n",
      "\n",
      "Overall Mean Dice Score: 0.6182\n",
      "Overall Mean F-beta Score: 0.7153\n",
      "Overall Mean IoU Score: 0.4680\n",
      "Training Loss: 0.4409, Validation Loss: 0.4523, Validation F-beta: 0.6164\n",
      "Epoch 144/4000\n"
     ]
    },
    {
     "name": "stderr",
     "output_type": "stream",
     "text": [
      "Training: 100%|██████████| 48/48 [00:32<00:00,  1.47it/s, loss=0.448]\n",
      "Validation: 100%|██████████| 10/10 [00:06<00:00,  1.51it/s, loss=0.452]\n"
     ]
    },
    {
     "name": "stdout",
     "output_type": "stream",
     "text": [
      "Validation Dice Score\n",
      "Class 0: 0.9885, Class 1: 0.6566, Class 2: 0.1108, Class 3: 0.4882, Class 4: 0.6975, Class 5: 0.4645, Class 6: 0.8525, \n",
      "Validation F-beta Score\n",
      "Class 0: 0.9849, Class 1: 0.7166, Class 2: 0.1055, Class 3: 0.6023, Class 4: 0.7296, Class 5: 0.6048, Class 6: 0.9277, \n",
      "Validation mIoU Score\n",
      "Class 0: 0.9773, Class 1: 0.4897, Class 2: 0.0594, Class 3: 0.3242, Class 4: 0.5359, Class 5: 0.3037, Class 6: 0.7440, \n",
      "\n",
      "Overall Mean Dice Score: 0.6319\n",
      "Overall Mean F-beta Score: 0.7162\n",
      "Overall Mean IoU Score: 0.4795\n",
      "Training Loss: 0.4395, Validation Loss: 0.4504, Validation F-beta: 0.6215\n",
      "Epoch 145/4000\n"
     ]
    },
    {
     "name": "stderr",
     "output_type": "stream",
     "text": [
      "Training: 100%|██████████| 48/48 [00:32<00:00,  1.47it/s, loss=0.437]\n",
      "Validation: 100%|██████████| 10/10 [00:07<00:00,  1.36it/s, loss=0.452]\n"
     ]
    },
    {
     "name": "stdout",
     "output_type": "stream",
     "text": [
      "Validation Dice Score\n",
      "Class 0: 0.9884, Class 1: 0.6580, Class 2: 0.0866, Class 3: 0.4754, Class 4: 0.7205, Class 5: 0.4806, Class 6: 0.8477, \n",
      "Validation F-beta Score\n",
      "Class 0: 0.9847, Class 1: 0.7417, Class 2: 0.0959, Class 3: 0.5901, Class 4: 0.7611, Class 5: 0.5968, Class 6: 0.9094, \n",
      "Validation mIoU Score\n",
      "Class 0: 0.9770, Class 1: 0.4916, Class 2: 0.0466, Class 3: 0.3127, Class 4: 0.5634, Class 5: 0.3172, Class 6: 0.7372, \n",
      "\n",
      "Overall Mean Dice Score: 0.6365\n",
      "Overall Mean F-beta Score: 0.7198\n",
      "Overall Mean IoU Score: 0.4844\n",
      "Training Loss: 0.4404, Validation Loss: 0.4469, Validation F-beta: 0.6257\n",
      "Epoch 146/4000\n"
     ]
    },
    {
     "name": "stderr",
     "output_type": "stream",
     "text": [
      "Training: 100%|██████████| 48/48 [00:32<00:00,  1.49it/s, loss=0.42] \n",
      "Validation: 100%|██████████| 10/10 [00:06<00:00,  1.52it/s, loss=0.455]\n"
     ]
    },
    {
     "name": "stdout",
     "output_type": "stream",
     "text": [
      "Validation Dice Score\n",
      "Class 0: 0.9877, Class 1: 0.6525, Class 2: 0.1132, Class 3: 0.4466, Class 4: 0.7104, Class 5: 0.4590, Class 6: 0.8644, \n",
      "Validation F-beta Score\n",
      "Class 0: 0.9836, Class 1: 0.7182, Class 2: 0.1201, Class 3: 0.5484, Class 4: 0.7379, Class 5: 0.6203, Class 6: 0.9143, \n",
      "Validation mIoU Score\n",
      "Class 0: 0.9757, Class 1: 0.4851, Class 2: 0.0606, Class 3: 0.2898, Class 4: 0.5511, Class 5: 0.2987, Class 6: 0.7622, \n",
      "\n",
      "Overall Mean Dice Score: 0.6266\n",
      "Overall Mean F-beta Score: 0.7078\n",
      "Overall Mean IoU Score: 0.4774\n",
      "Training Loss: 0.4402, Validation Loss: 0.4506, Validation F-beta: 0.6157\n",
      "Epoch 147/4000\n"
     ]
    },
    {
     "name": "stderr",
     "output_type": "stream",
     "text": [
      "Training: 100%|██████████| 48/48 [00:32<00:00,  1.47it/s, loss=0.426]\n",
      "Validation: 100%|██████████| 10/10 [00:06<00:00,  1.47it/s, loss=0.453]\n"
     ]
    },
    {
     "name": "stdout",
     "output_type": "stream",
     "text": [
      "Validation Dice Score\n",
      "Class 0: 0.9881, Class 1: 0.6352, Class 2: 0.0892, Class 3: 0.4614, Class 4: 0.7103, Class 5: 0.4820, Class 6: 0.8348, \n",
      "Validation F-beta Score\n",
      "Class 0: 0.9836, Class 1: 0.7575, Class 2: 0.0967, Class 3: 0.6111, Class 4: 0.7580, Class 5: 0.6225, Class 6: 0.9275, \n",
      "Validation mIoU Score\n",
      "Class 0: 0.9764, Class 1: 0.4671, Class 2: 0.0470, Class 3: 0.3004, Class 4: 0.5513, Class 5: 0.3191, Class 6: 0.7170, \n",
      "\n",
      "Overall Mean Dice Score: 0.6247\n",
      "Overall Mean F-beta Score: 0.7353\n",
      "Overall Mean IoU Score: 0.4710\n",
      "Training Loss: 0.4418, Validation Loss: 0.4488, Validation F-beta: 0.6296\n",
      "========================================================\n",
      "SUPER Best model saved. Loss:0.4488, Score:0.6296\n",
      "========================================================\n",
      "Epoch 148/4000\n"
     ]
    },
    {
     "name": "stderr",
     "output_type": "stream",
     "text": [
      "Training: 100%|██████████| 48/48 [00:32<00:00,  1.46it/s, loss=0.439]\n",
      "Validation: 100%|██████████| 10/10 [00:07<00:00,  1.37it/s, loss=0.45]\n"
     ]
    },
    {
     "name": "stdout",
     "output_type": "stream",
     "text": [
      "Validation Dice Score\n",
      "Class 0: 0.9875, Class 1: 0.6534, Class 2: 0.1296, Class 3: 0.4424, Class 4: 0.7214, Class 5: 0.4519, Class 6: 0.8549, \n",
      "Validation F-beta Score\n",
      "Class 0: 0.9829, Class 1: 0.7101, Class 2: 0.1426, Class 3: 0.5522, Class 4: 0.7709, Class 5: 0.6022, Class 6: 0.9085, \n",
      "Validation mIoU Score\n",
      "Class 0: 0.9753, Class 1: 0.4858, Class 2: 0.0704, Class 3: 0.2854, Class 4: 0.5646, Class 5: 0.2927, Class 6: 0.7472, \n",
      "\n",
      "Overall Mean Dice Score: 0.6248\n",
      "Overall Mean F-beta Score: 0.7088\n",
      "Overall Mean IoU Score: 0.4752\n",
      "Training Loss: 0.4384, Validation Loss: 0.4523, Validation F-beta: 0.6153\n",
      "Epoch 149/4000\n"
     ]
    },
    {
     "name": "stderr",
     "output_type": "stream",
     "text": [
      "Training: 100%|██████████| 48/48 [00:32<00:00,  1.47it/s, loss=0.443]\n",
      "Validation: 100%|██████████| 10/10 [00:06<00:00,  1.51it/s, loss=0.446]\n"
     ]
    },
    {
     "name": "stdout",
     "output_type": "stream",
     "text": [
      "Validation Dice Score\n",
      "Class 0: 0.9880, Class 1: 0.6582, Class 2: 0.0895, Class 3: 0.4884, Class 4: 0.7120, Class 5: 0.4550, Class 6: 0.8636, \n",
      "Validation F-beta Score\n",
      "Class 0: 0.9838, Class 1: 0.7165, Class 2: 0.0884, Class 3: 0.6144, Class 4: 0.7651, Class 5: 0.5889, Class 6: 0.9228, \n",
      "Validation mIoU Score\n",
      "Class 0: 0.9764, Class 1: 0.4908, Class 2: 0.0473, Class 3: 0.3255, Class 4: 0.5529, Class 5: 0.2958, Class 6: 0.7605, \n",
      "\n",
      "Overall Mean Dice Score: 0.6354\n",
      "Overall Mean F-beta Score: 0.7215\n",
      "Overall Mean IoU Score: 0.4851\n",
      "Training Loss: 0.4395, Validation Loss: 0.4515, Validation F-beta: 0.6270\n",
      "Epoch 150/4000\n"
     ]
    },
    {
     "name": "stderr",
     "output_type": "stream",
     "text": [
      "Training: 100%|██████████| 48/48 [00:32<00:00,  1.47it/s, loss=0.432]\n",
      "Validation: 100%|██████████| 10/10 [00:06<00:00,  1.54it/s, loss=0.459]\n"
     ]
    },
    {
     "name": "stdout",
     "output_type": "stream",
     "text": [
      "Validation Dice Score\n",
      "Class 0: 0.9884, Class 1: 0.6235, Class 2: 0.1206, Class 3: 0.4241, Class 4: 0.7080, Class 5: 0.4489, Class 6: 0.8646, \n",
      "Validation F-beta Score\n",
      "Class 0: 0.9844, Class 1: 0.7485, Class 2: 0.1445, Class 3: 0.5753, Class 4: 0.7468, Class 5: 0.5702, Class 6: 0.9194, \n",
      "Validation mIoU Score\n",
      "Class 0: 0.9771, Class 1: 0.4539, Class 2: 0.0645, Class 3: 0.2714, Class 4: 0.5486, Class 5: 0.2912, Class 6: 0.7618, \n",
      "\n",
      "Overall Mean Dice Score: 0.6138\n",
      "Overall Mean F-beta Score: 0.7120\n",
      "Overall Mean IoU Score: 0.4654\n",
      "Training Loss: 0.4396, Validation Loss: 0.4504, Validation F-beta: 0.6134\n",
      "Epoch 151/4000\n"
     ]
    },
    {
     "name": "stderr",
     "output_type": "stream",
     "text": [
      "Training: 100%|██████████| 48/48 [00:32<00:00,  1.46it/s, loss=0.436]\n",
      "Validation: 100%|██████████| 10/10 [00:07<00:00,  1.37it/s, loss=0.463]\n"
     ]
    },
    {
     "name": "stdout",
     "output_type": "stream",
     "text": [
      "Validation Dice Score\n",
      "Class 0: 0.9877, Class 1: 0.6591, Class 2: 0.1085, Class 3: 0.4315, Class 4: 0.7058, Class 5: 0.4509, Class 6: 0.8672, \n",
      "Validation F-beta Score\n",
      "Class 0: 0.9832, Class 1: 0.7172, Class 2: 0.1349, Class 3: 0.5687, Class 4: 0.7558, Class 5: 0.5871, Class 6: 0.9237, \n",
      "Validation mIoU Score\n",
      "Class 0: 0.9757, Class 1: 0.4925, Class 2: 0.0579, Class 3: 0.2755, Class 4: 0.5454, Class 5: 0.2912, Class 6: 0.7659, \n",
      "\n",
      "Overall Mean Dice Score: 0.6229\n",
      "Overall Mean F-beta Score: 0.7105\n",
      "Overall Mean IoU Score: 0.4741\n",
      "Training Loss: 0.4411, Validation Loss: 0.4523, Validation F-beta: 0.6159\n",
      "Epoch 152/4000\n"
     ]
    },
    {
     "name": "stderr",
     "output_type": "stream",
     "text": [
      "Training: 100%|██████████| 48/48 [00:32<00:00,  1.46it/s, loss=0.43] \n",
      "Validation: 100%|██████████| 10/10 [00:06<00:00,  1.50it/s, loss=0.444]\n"
     ]
    },
    {
     "name": "stdout",
     "output_type": "stream",
     "text": [
      "Validation Dice Score\n",
      "Class 0: 0.9882, Class 1: 0.6566, Class 2: 0.1611, Class 3: 0.4195, Class 4: 0.7090, Class 5: 0.4722, Class 6: 0.8744, \n",
      "Validation F-beta Score\n",
      "Class 0: 0.9848, Class 1: 0.7105, Class 2: 0.2017, Class 3: 0.5690, Class 4: 0.7353, Class 5: 0.5926, Class 6: 0.9040, \n",
      "Validation mIoU Score\n",
      "Class 0: 0.9767, Class 1: 0.4895, Class 2: 0.0887, Class 3: 0.2667, Class 4: 0.5497, Class 5: 0.3098, Class 6: 0.7774, \n",
      "\n",
      "Overall Mean Dice Score: 0.6263\n",
      "Overall Mean F-beta Score: 0.7023\n",
      "Overall Mean IoU Score: 0.4786\n",
      "Training Loss: 0.4394, Validation Loss: 0.4492, Validation F-beta: 0.6128\n",
      "Epoch 153/4000\n"
     ]
    },
    {
     "name": "stderr",
     "output_type": "stream",
     "text": [
      "Training: 100%|██████████| 48/48 [00:32<00:00,  1.47it/s, loss=0.441]\n",
      "Validation: 100%|██████████| 10/10 [00:06<00:00,  1.53it/s, loss=0.438]\n"
     ]
    },
    {
     "name": "stdout",
     "output_type": "stream",
     "text": [
      "Validation Dice Score\n",
      "Class 0: 0.9876, Class 1: 0.6431, Class 2: 0.1059, Class 3: 0.4652, Class 4: 0.7023, Class 5: 0.4679, Class 6: 0.8515, \n",
      "Validation F-beta Score\n",
      "Class 0: 0.9828, Class 1: 0.6934, Class 2: 0.1186, Class 3: 0.5747, Class 4: 0.7522, Class 5: 0.6308, Class 6: 0.9272, \n",
      "Validation mIoU Score\n",
      "Class 0: 0.9756, Class 1: 0.4749, Class 2: 0.0569, Class 3: 0.3035, Class 4: 0.5412, Class 5: 0.3066, Class 6: 0.7419, \n",
      "\n",
      "Overall Mean Dice Score: 0.6260\n",
      "Overall Mean F-beta Score: 0.7157\n",
      "Overall Mean IoU Score: 0.4736\n",
      "Training Loss: 0.4393, Validation Loss: 0.4483, Validation F-beta: 0.6188\n",
      "Epoch 154/4000\n"
     ]
    },
    {
     "name": "stderr",
     "output_type": "stream",
     "text": [
      "Training: 100%|██████████| 48/48 [00:32<00:00,  1.47it/s, loss=0.426]\n",
      "Validation: 100%|██████████| 10/10 [00:07<00:00,  1.36it/s, loss=0.455]\n"
     ]
    },
    {
     "name": "stdout",
     "output_type": "stream",
     "text": [
      "Validation Dice Score\n",
      "Class 0: 0.9879, Class 1: 0.6579, Class 2: 0.1006, Class 3: 0.4274, Class 4: 0.7087, Class 5: 0.4552, Class 6: 0.8683, \n",
      "Validation F-beta Score\n",
      "Class 0: 0.9837, Class 1: 0.7489, Class 2: 0.1243, Class 3: 0.5757, Class 4: 0.7609, Class 5: 0.5737, Class 6: 0.9245, \n",
      "Validation mIoU Score\n",
      "Class 0: 0.9761, Class 1: 0.4914, Class 2: 0.0537, Class 3: 0.2731, Class 4: 0.5490, Class 5: 0.2952, Class 6: 0.7683, \n",
      "\n",
      "Overall Mean Dice Score: 0.6235\n",
      "Overall Mean F-beta Score: 0.7167\n",
      "Overall Mean IoU Score: 0.4754\n",
      "Training Loss: 0.4376, Validation Loss: 0.4513, Validation F-beta: 0.6202\n",
      "Epoch 155/4000\n"
     ]
    },
    {
     "name": "stderr",
     "output_type": "stream",
     "text": [
      "Training: 100%|██████████| 48/48 [00:32<00:00,  1.46it/s, loss=0.428]\n",
      "Validation: 100%|██████████| 10/10 [00:06<00:00,  1.52it/s, loss=0.449]\n"
     ]
    },
    {
     "name": "stdout",
     "output_type": "stream",
     "text": [
      "Validation Dice Score\n",
      "Class 0: 0.9879, Class 1: 0.6499, Class 2: 0.1590, Class 3: 0.4356, Class 4: 0.7157, Class 5: 0.5032, Class 6: 0.8588, \n",
      "Validation F-beta Score\n",
      "Class 0: 0.9836, Class 1: 0.7372, Class 2: 0.2233, Class 3: 0.6031, Class 4: 0.7672, Class 5: 0.6162, Class 6: 0.9335, \n",
      "Validation mIoU Score\n",
      "Class 0: 0.9760, Class 1: 0.4826, Class 2: 0.0871, Class 3: 0.2806, Class 4: 0.5575, Class 5: 0.3379, Class 6: 0.7535, \n",
      "\n",
      "Overall Mean Dice Score: 0.6327\n",
      "Overall Mean F-beta Score: 0.7314\n",
      "Overall Mean IoU Score: 0.4825\n",
      "Training Loss: 0.4388, Validation Loss: 0.4496, Validation F-beta: 0.6318\n",
      "Epoch 156/4000\n"
     ]
    },
    {
     "name": "stderr",
     "output_type": "stream",
     "text": [
      "Training: 100%|██████████| 48/48 [00:32<00:00,  1.47it/s, loss=0.426]\n",
      "Validation: 100%|██████████| 10/10 [00:06<00:00,  1.52it/s, loss=0.452]\n"
     ]
    },
    {
     "name": "stdout",
     "output_type": "stream",
     "text": [
      "Validation Dice Score\n",
      "Class 0: 0.9877, Class 1: 0.6542, Class 2: 0.1180, Class 3: 0.4427, Class 4: 0.7026, Class 5: 0.4786, Class 6: 0.8674, \n",
      "Validation F-beta Score\n",
      "Class 0: 0.9838, Class 1: 0.7511, Class 2: 0.1507, Class 3: 0.5419, Class 4: 0.7421, Class 5: 0.6073, Class 6: 0.9175, \n",
      "Validation mIoU Score\n",
      "Class 0: 0.9757, Class 1: 0.4878, Class 2: 0.0633, Class 3: 0.2858, Class 4: 0.5422, Class 5: 0.3158, Class 6: 0.7665, \n",
      "\n",
      "Overall Mean Dice Score: 0.6291\n",
      "Overall Mean F-beta Score: 0.7120\n",
      "Overall Mean IoU Score: 0.4796\n",
      "Training Loss: 0.4395, Validation Loss: 0.4501, Validation F-beta: 0.6190\n",
      "Epoch 157/4000\n"
     ]
    },
    {
     "name": "stderr",
     "output_type": "stream",
     "text": [
      "Training: 100%|██████████| 48/48 [00:33<00:00,  1.43it/s, loss=0.436]\n",
      "Validation: 100%|██████████| 10/10 [00:06<00:00,  1.50it/s, loss=0.439]\n"
     ]
    },
    {
     "name": "stdout",
     "output_type": "stream",
     "text": [
      "Validation Dice Score\n",
      "Class 0: 0.9869, Class 1: 0.6463, Class 2: 0.0864, Class 3: 0.4694, Class 4: 0.7105, Class 5: 0.4909, Class 6: 0.8641, \n",
      "Validation F-beta Score\n",
      "Class 0: 0.9818, Class 1: 0.7681, Class 2: 0.0880, Class 3: 0.6066, Class 4: 0.7817, Class 5: 0.6307, Class 6: 0.9334, \n",
      "Validation mIoU Score\n",
      "Class 0: 0.9742, Class 1: 0.4786, Class 2: 0.0458, Class 3: 0.3086, Class 4: 0.5511, Class 5: 0.3262, Class 6: 0.7612, \n",
      "\n",
      "Overall Mean Dice Score: 0.6362\n",
      "Overall Mean F-beta Score: 0.7441\n",
      "Overall Mean IoU Score: 0.4852\n",
      "Training Loss: 0.4380, Validation Loss: 0.4490, Validation F-beta: 0.6405\n",
      "Epoch 158/4000\n"
     ]
    },
    {
     "name": "stderr",
     "output_type": "stream",
     "text": [
      "Training: 100%|██████████| 48/48 [00:32<00:00,  1.47it/s, loss=0.433]\n",
      "Validation: 100%|██████████| 10/10 [00:06<00:00,  1.50it/s, loss=0.449]\n"
     ]
    },
    {
     "name": "stdout",
     "output_type": "stream",
     "text": [
      "Validation Dice Score\n",
      "Class 0: 0.9881, Class 1: 0.6783, Class 2: 0.1377, Class 3: 0.4314, Class 4: 0.7107, Class 5: 0.4808, Class 6: 0.8700, \n",
      "Validation F-beta Score\n",
      "Class 0: 0.9841, Class 1: 0.7408, Class 2: 0.1605, Class 3: 0.5577, Class 4: 0.7499, Class 5: 0.6172, Class 6: 0.9171, \n",
      "Validation mIoU Score\n",
      "Class 0: 0.9766, Class 1: 0.5142, Class 2: 0.0747, Class 3: 0.2759, Class 4: 0.5514, Class 5: 0.3176, Class 6: 0.7703, \n",
      "\n",
      "Overall Mean Dice Score: 0.6342\n",
      "Overall Mean F-beta Score: 0.7165\n",
      "Overall Mean IoU Score: 0.4859\n",
      "Training Loss: 0.4386, Validation Loss: 0.4463, Validation F-beta: 0.6243\n",
      "Epoch 159/4000\n"
     ]
    },
    {
     "name": "stderr",
     "output_type": "stream",
     "text": [
      "Training: 100%|██████████| 48/48 [00:32<00:00,  1.47it/s, loss=0.434]\n",
      "Validation: 100%|██████████| 10/10 [00:07<00:00,  1.36it/s, loss=0.468]\n"
     ]
    },
    {
     "name": "stdout",
     "output_type": "stream",
     "text": [
      "Validation Dice Score\n",
      "Class 0: 0.9882, Class 1: 0.6810, Class 2: 0.1219, Class 3: 0.4062, Class 4: 0.6993, Class 5: 0.4824, Class 6: 0.8739, \n",
      "Validation F-beta Score\n",
      "Class 0: 0.9840, Class 1: 0.7542, Class 2: 0.1635, Class 3: 0.5692, Class 4: 0.7442, Class 5: 0.6097, Class 6: 0.9322, \n",
      "Validation mIoU Score\n",
      "Class 0: 0.9768, Class 1: 0.5171, Class 2: 0.0657, Class 3: 0.2567, Class 4: 0.5379, Class 5: 0.3193, Class 6: 0.7764, \n",
      "\n",
      "Overall Mean Dice Score: 0.6286\n",
      "Overall Mean F-beta Score: 0.7219\n",
      "Overall Mean IoU Score: 0.4815\n",
      "Training Loss: 0.4381, Validation Loss: 0.4490, Validation F-beta: 0.6257\n",
      "Epoch 160/4000\n"
     ]
    },
    {
     "name": "stderr",
     "output_type": "stream",
     "text": [
      "Training: 100%|██████████| 48/48 [00:32<00:00,  1.49it/s, loss=0.427]\n",
      "Validation: 100%|██████████| 10/10 [00:06<00:00,  1.53it/s, loss=0.442]\n"
     ]
    },
    {
     "name": "stdout",
     "output_type": "stream",
     "text": [
      "Validation Dice Score\n",
      "Class 0: 0.9886, Class 1: 0.6623, Class 2: 0.1363, Class 3: 0.4511, Class 4: 0.7185, Class 5: 0.4642, Class 6: 0.8639, \n",
      "Validation F-beta Score\n",
      "Class 0: 0.9847, Class 1: 0.7554, Class 2: 0.1912, Class 3: 0.5837, Class 4: 0.7485, Class 5: 0.5947, Class 6: 0.9147, \n",
      "Validation mIoU Score\n",
      "Class 0: 0.9774, Class 1: 0.4955, Class 2: 0.0747, Class 3: 0.2924, Class 4: 0.5609, Class 5: 0.3032, Class 6: 0.7609, \n",
      "\n",
      "Overall Mean Dice Score: 0.6320\n",
      "Overall Mean F-beta Score: 0.7194\n",
      "Overall Mean IoU Score: 0.4826\n",
      "Training Loss: 0.4372, Validation Loss: 0.4470, Validation F-beta: 0.6247\n",
      "Epoch 161/4000\n"
     ]
    },
    {
     "name": "stderr",
     "output_type": "stream",
     "text": [
      "Training: 100%|██████████| 48/48 [00:32<00:00,  1.49it/s, loss=0.437]\n",
      "Validation: 100%|██████████| 10/10 [00:06<00:00,  1.51it/s, loss=0.446]\n"
     ]
    },
    {
     "name": "stdout",
     "output_type": "stream",
     "text": [
      "Validation Dice Score\n",
      "Class 0: 0.9879, Class 1: 0.6781, Class 2: 0.1412, Class 3: 0.4135, Class 4: 0.7133, Class 5: 0.4744, Class 6: 0.8658, \n",
      "Validation F-beta Score\n",
      "Class 0: 0.9833, Class 1: 0.7457, Class 2: 0.1943, Class 3: 0.5774, Class 4: 0.7647, Class 5: 0.6102, Class 6: 0.9167, \n",
      "Validation mIoU Score\n",
      "Class 0: 0.9761, Class 1: 0.5140, Class 2: 0.0769, Class 3: 0.2613, Class 4: 0.5545, Class 5: 0.3117, Class 6: 0.7635, \n",
      "\n",
      "Overall Mean Dice Score: 0.6290\n",
      "Overall Mean F-beta Score: 0.7229\n",
      "Overall Mean IoU Score: 0.4810\n",
      "Training Loss: 0.4383, Validation Loss: 0.4502, Validation F-beta: 0.6262\n",
      "Epoch 162/4000\n"
     ]
    },
    {
     "name": "stderr",
     "output_type": "stream",
     "text": [
      "Training: 100%|██████████| 48/48 [00:32<00:00,  1.47it/s, loss=0.427]\n",
      "Validation: 100%|██████████| 10/10 [00:07<00:00,  1.35it/s, loss=0.458]\n"
     ]
    },
    {
     "name": "stdout",
     "output_type": "stream",
     "text": [
      "Validation Dice Score\n",
      "Class 0: 0.9873, Class 1: 0.6555, Class 2: 0.1125, Class 3: 0.4297, Class 4: 0.7141, Class 5: 0.4706, Class 6: 0.8592, \n",
      "Validation F-beta Score\n",
      "Class 0: 0.9822, Class 1: 0.7451, Class 2: 0.1560, Class 3: 0.5439, Class 4: 0.7752, Class 5: 0.6243, Class 6: 0.9222, \n",
      "Validation mIoU Score\n",
      "Class 0: 0.9748, Class 1: 0.4880, Class 2: 0.0603, Class 3: 0.2757, Class 4: 0.5554, Class 5: 0.3090, Class 6: 0.7543, \n",
      "\n",
      "Overall Mean Dice Score: 0.6258\n",
      "Overall Mean F-beta Score: 0.7221\n",
      "Overall Mean IoU Score: 0.4765\n",
      "Training Loss: 0.4375, Validation Loss: 0.4502, Validation F-beta: 0.6239\n",
      "Epoch 163/4000\n"
     ]
    },
    {
     "name": "stderr",
     "output_type": "stream",
     "text": [
      "Training: 100%|██████████| 48/48 [00:32<00:00,  1.47it/s, loss=0.441]\n",
      "Validation: 100%|██████████| 10/10 [00:06<00:00,  1.52it/s, loss=0.457]\n"
     ]
    },
    {
     "name": "stdout",
     "output_type": "stream",
     "text": [
      "Validation Dice Score\n",
      "Class 0: 0.9884, Class 1: 0.6743, Class 2: 0.0950, Class 3: 0.4402, Class 4: 0.7070, Class 5: 0.4492, Class 6: 0.8543, \n",
      "Validation F-beta Score\n",
      "Class 0: 0.9845, Class 1: 0.7454, Class 2: 0.1468, Class 3: 0.5665, Class 4: 0.7291, Class 5: 0.5715, Class 6: 0.9242, \n",
      "Validation mIoU Score\n",
      "Class 0: 0.9771, Class 1: 0.5099, Class 2: 0.0505, Class 3: 0.2833, Class 4: 0.5470, Class 5: 0.2904, Class 6: 0.7460, \n",
      "\n",
      "Overall Mean Dice Score: 0.6250\n",
      "Overall Mean F-beta Score: 0.7073\n",
      "Overall Mean IoU Score: 0.4753\n",
      "Training Loss: 0.4369, Validation Loss: 0.4534, Validation F-beta: 0.6145\n",
      "Epoch 164/4000\n"
     ]
    },
    {
     "name": "stderr",
     "output_type": "stream",
     "text": [
      "Training: 100%|██████████| 48/48 [00:32<00:00,  1.47it/s, loss=0.429]\n",
      "Validation: 100%|██████████| 10/10 [00:06<00:00,  1.53it/s, loss=0.452]\n"
     ]
    },
    {
     "name": "stdout",
     "output_type": "stream",
     "text": [
      "Validation Dice Score\n",
      "Class 0: 0.9883, Class 1: 0.6754, Class 2: 0.1322, Class 3: 0.4411, Class 4: 0.7058, Class 5: 0.4597, Class 6: 0.8623, \n",
      "Validation F-beta Score\n",
      "Class 0: 0.9844, Class 1: 0.7459, Class 2: 0.1704, Class 3: 0.5851, Class 4: 0.7390, Class 5: 0.5908, Class 6: 0.9211, \n",
      "Validation mIoU Score\n",
      "Class 0: 0.9769, Class 1: 0.5105, Class 2: 0.0714, Class 3: 0.2840, Class 4: 0.5461, Class 5: 0.2998, Class 6: 0.7583, \n",
      "\n",
      "Overall Mean Dice Score: 0.6288\n",
      "Overall Mean F-beta Score: 0.7164\n",
      "Overall Mean IoU Score: 0.4797\n",
      "Training Loss: 0.4361, Validation Loss: 0.4477, Validation F-beta: 0.6217\n",
      "Epoch 165/4000\n"
     ]
    },
    {
     "name": "stderr",
     "output_type": "stream",
     "text": [
      "Training: 100%|██████████| 48/48 [00:32<00:00,  1.47it/s, loss=0.435]\n",
      "Validation: 100%|██████████| 10/10 [00:07<00:00,  1.32it/s, loss=0.447]\n"
     ]
    },
    {
     "name": "stdout",
     "output_type": "stream",
     "text": [
      "Validation Dice Score\n",
      "Class 0: 0.9879, Class 1: 0.6629, Class 2: 0.1666, Class 3: 0.4315, Class 4: 0.7001, Class 5: 0.4556, Class 6: 0.8707, \n",
      "Validation F-beta Score\n",
      "Class 0: 0.9832, Class 1: 0.7517, Class 2: 0.2186, Class 3: 0.5591, Class 4: 0.7424, Class 5: 0.6108, Class 6: 0.9284, \n",
      "Validation mIoU Score\n",
      "Class 0: 0.9760, Class 1: 0.4963, Class 2: 0.0919, Class 3: 0.2769, Class 4: 0.5390, Class 5: 0.2959, Class 6: 0.7716, \n",
      "\n",
      "Overall Mean Dice Score: 0.6242\n",
      "Overall Mean F-beta Score: 0.7185\n",
      "Overall Mean IoU Score: 0.4759\n",
      "Training Loss: 0.4365, Validation Loss: 0.4486, Validation F-beta: 0.6215\n",
      "Epoch 166/4000\n"
     ]
    },
    {
     "name": "stderr",
     "output_type": "stream",
     "text": [
      "Training: 100%|██████████| 48/48 [00:32<00:00,  1.47it/s, loss=0.43] \n",
      "Validation: 100%|██████████| 10/10 [00:06<00:00,  1.55it/s, loss=0.449]\n"
     ]
    },
    {
     "name": "stdout",
     "output_type": "stream",
     "text": [
      "Validation Dice Score\n",
      "Class 0: 0.9881, Class 1: 0.6490, Class 2: 0.1100, Class 3: 0.4144, Class 4: 0.7078, Class 5: 0.4626, Class 6: 0.8487, \n",
      "Validation F-beta Score\n",
      "Class 0: 0.9837, Class 1: 0.7408, Class 2: 0.1433, Class 3: 0.5213, Class 4: 0.7596, Class 5: 0.5959, Class 6: 0.9223, \n",
      "Validation mIoU Score\n",
      "Class 0: 0.9764, Class 1: 0.4812, Class 2: 0.0599, Class 3: 0.2620, Class 4: 0.5482, Class 5: 0.3023, Class 6: 0.7386, \n",
      "\n",
      "Overall Mean Dice Score: 0.6165\n",
      "Overall Mean F-beta Score: 0.7080\n",
      "Overall Mean IoU Score: 0.4664\n",
      "Training Loss: 0.4361, Validation Loss: 0.4531, Validation F-beta: 0.6114\n",
      "Epoch 167/4000\n"
     ]
    },
    {
     "name": "stderr",
     "output_type": "stream",
     "text": [
      "Training: 100%|██████████| 48/48 [00:32<00:00,  1.46it/s, loss=0.426]\n",
      "Validation: 100%|██████████| 10/10 [00:06<00:00,  1.53it/s, loss=0.456]\n"
     ]
    },
    {
     "name": "stdout",
     "output_type": "stream",
     "text": [
      "Validation Dice Score\n",
      "Class 0: 0.9876, Class 1: 0.6603, Class 2: 0.1241, Class 3: 0.4353, Class 4: 0.7065, Class 5: 0.4506, Class 6: 0.8615, \n",
      "Validation F-beta Score\n",
      "Class 0: 0.9827, Class 1: 0.7409, Class 2: 0.1838, Class 3: 0.6072, Class 4: 0.7717, Class 5: 0.5881, Class 6: 0.9244, \n",
      "Validation mIoU Score\n",
      "Class 0: 0.9754, Class 1: 0.4946, Class 2: 0.0680, Class 3: 0.2793, Class 4: 0.5467, Class 5: 0.2916, Class 6: 0.7576, \n",
      "\n",
      "Overall Mean Dice Score: 0.6229\n",
      "Overall Mean F-beta Score: 0.7265\n",
      "Overall Mean IoU Score: 0.4740\n",
      "Training Loss: 0.4364, Validation Loss: 0.4503, Validation F-beta: 0.6255\n",
      "Epoch 168/4000\n"
     ]
    },
    {
     "name": "stderr",
     "output_type": "stream",
     "text": [
      "Training: 100%|██████████| 48/48 [00:32<00:00,  1.48it/s, loss=0.434]\n",
      "Validation: 100%|██████████| 10/10 [00:07<00:00,  1.36it/s, loss=0.447]\n"
     ]
    },
    {
     "name": "stdout",
     "output_type": "stream",
     "text": [
      "Validation Dice Score\n",
      "Class 0: 0.9873, Class 1: 0.6624, Class 2: 0.1500, Class 3: 0.4347, Class 4: 0.7086, Class 5: 0.4867, Class 6: 0.8463, \n",
      "Validation F-beta Score\n",
      "Class 0: 0.9817, Class 1: 0.7423, Class 2: 0.1870, Class 3: 0.5652, Class 4: 0.7862, Class 5: 0.6533, Class 6: 0.9316, \n",
      "Validation mIoU Score\n",
      "Class 0: 0.9748, Class 1: 0.4966, Class 2: 0.0822, Class 3: 0.2783, Class 4: 0.5491, Class 5: 0.3220, Class 6: 0.7344, \n",
      "\n",
      "Overall Mean Dice Score: 0.6277\n",
      "Overall Mean F-beta Score: 0.7357\n",
      "Overall Mean IoU Score: 0.4761\n",
      "Training Loss: 0.4359, Validation Loss: 0.4512, Validation F-beta: 0.6319\n",
      "Epoch 169/4000\n"
     ]
    },
    {
     "name": "stderr",
     "output_type": "stream",
     "text": [
      "Training: 100%|██████████| 48/48 [00:32<00:00,  1.46it/s, loss=0.424]\n",
      "Validation: 100%|██████████| 10/10 [00:06<00:00,  1.51it/s, loss=0.438]\n"
     ]
    },
    {
     "name": "stdout",
     "output_type": "stream",
     "text": [
      "Validation Dice Score\n",
      "Class 0: 0.9880, Class 1: 0.6323, Class 2: 0.1287, Class 3: 0.4205, Class 4: 0.7020, Class 5: 0.4896, Class 6: 0.8634, \n",
      "Validation F-beta Score\n",
      "Class 0: 0.9836, Class 1: 0.7805, Class 2: 0.1965, Class 3: 0.5864, Class 4: 0.7708, Class 5: 0.5968, Class 6: 0.9241, \n",
      "Validation mIoU Score\n",
      "Class 0: 0.9764, Class 1: 0.4638, Class 2: 0.0700, Class 3: 0.2674, Class 4: 0.5410, Class 5: 0.3258, Class 6: 0.7600, \n",
      "\n",
      "Overall Mean Dice Score: 0.6216\n",
      "Overall Mean F-beta Score: 0.7317\n",
      "Overall Mean IoU Score: 0.4716\n",
      "Training Loss: 0.4342, Validation Loss: 0.4494, Validation F-beta: 0.6277\n",
      "Epoch 170/4000\n"
     ]
    },
    {
     "name": "stderr",
     "output_type": "stream",
     "text": [
      "Training: 100%|██████████| 48/48 [00:32<00:00,  1.46it/s, loss=0.434]\n",
      "Validation: 100%|██████████| 10/10 [00:06<00:00,  1.50it/s, loss=0.452]\n"
     ]
    },
    {
     "name": "stdout",
     "output_type": "stream",
     "text": [
      "Validation Dice Score\n",
      "Class 0: 0.9872, Class 1: 0.6550, Class 2: 0.1223, Class 3: 0.4371, Class 4: 0.7187, Class 5: 0.4428, Class 6: 0.8654, \n",
      "Validation F-beta Score\n",
      "Class 0: 0.9823, Class 1: 0.7050, Class 2: 0.1881, Class 3: 0.5598, Class 4: 0.7713, Class 5: 0.5876, Class 6: 0.9232, \n",
      "Validation mIoU Score\n",
      "Class 0: 0.9746, Class 1: 0.4902, Class 2: 0.0662, Class 3: 0.2804, Class 4: 0.5610, Class 5: 0.2855, Class 6: 0.7631, \n",
      "\n",
      "Overall Mean Dice Score: 0.6238\n",
      "Overall Mean F-beta Score: 0.7094\n",
      "Overall Mean IoU Score: 0.4761\n",
      "Training Loss: 0.4356, Validation Loss: 0.4530, Validation F-beta: 0.6161\n",
      "Epoch 171/4000\n"
     ]
    },
    {
     "name": "stderr",
     "output_type": "stream",
     "text": [
      "Training: 100%|██████████| 48/48 [00:32<00:00,  1.48it/s, loss=0.435]\n",
      "Validation: 100%|██████████| 10/10 [00:07<00:00,  1.35it/s, loss=0.44]\n"
     ]
    },
    {
     "name": "stdout",
     "output_type": "stream",
     "text": [
      "Validation Dice Score\n",
      "Class 0: 0.9879, Class 1: 0.6399, Class 2: 0.1185, Class 3: 0.4538, Class 4: 0.7043, Class 5: 0.4588, Class 6: 0.8419, \n",
      "Validation F-beta Score\n",
      "Class 0: 0.9834, Class 1: 0.7266, Class 2: 0.1678, Class 3: 0.5504, Class 4: 0.7323, Class 5: 0.6194, Class 6: 0.9259, \n",
      "Validation mIoU Score\n",
      "Class 0: 0.9761, Class 1: 0.4711, Class 2: 0.0640, Class 3: 0.2941, Class 4: 0.5440, Class 5: 0.2985, Class 6: 0.7280, \n",
      "\n",
      "Overall Mean Dice Score: 0.6197\n",
      "Overall Mean F-beta Score: 0.7110\n",
      "Overall Mean IoU Score: 0.4671\n",
      "Training Loss: 0.4370, Validation Loss: 0.4517, Validation F-beta: 0.6134\n",
      "Epoch 172/4000\n"
     ]
    },
    {
     "name": "stderr",
     "output_type": "stream",
     "text": [
      "Training: 100%|██████████| 48/48 [00:32<00:00,  1.46it/s, loss=0.434]\n",
      "Validation: 100%|██████████| 10/10 [00:06<00:00,  1.52it/s, loss=0.456]\n"
     ]
    },
    {
     "name": "stdout",
     "output_type": "stream",
     "text": [
      "Validation Dice Score\n",
      "Class 0: 0.9879, Class 1: 0.6693, Class 2: 0.1522, Class 3: 0.4531, Class 4: 0.7041, Class 5: 0.4689, Class 6: 0.8480, \n",
      "Validation F-beta Score\n",
      "Class 0: 0.9831, Class 1: 0.7623, Class 2: 0.2037, Class 3: 0.5480, Class 4: 0.7699, Class 5: 0.6224, Class 6: 0.9327, \n",
      "Validation mIoU Score\n",
      "Class 0: 0.9762, Class 1: 0.5043, Class 2: 0.0833, Class 3: 0.2932, Class 4: 0.5435, Class 5: 0.3074, Class 6: 0.7375, \n",
      "\n",
      "Overall Mean Dice Score: 0.6287\n",
      "Overall Mean F-beta Score: 0.7270\n",
      "Overall Mean IoU Score: 0.4772\n",
      "Training Loss: 0.4353, Validation Loss: 0.4496, Validation F-beta: 0.6271\n",
      "Epoch 173/4000\n"
     ]
    },
    {
     "name": "stderr",
     "output_type": "stream",
     "text": [
      "Training: 100%|██████████| 48/48 [00:32<00:00,  1.48it/s, loss=0.439]\n",
      "Validation: 100%|██████████| 10/10 [00:06<00:00,  1.52it/s, loss=0.453]\n"
     ]
    },
    {
     "name": "stdout",
     "output_type": "stream",
     "text": [
      "Validation Dice Score\n",
      "Class 0: 0.9875, Class 1: 0.6555, Class 2: 0.1159, Class 3: 0.4065, Class 4: 0.7107, Class 5: 0.4692, Class 6: 0.8574, \n",
      "Validation F-beta Score\n",
      "Class 0: 0.9835, Class 1: 0.7437, Class 2: 0.1834, Class 3: 0.5488, Class 4: 0.7368, Class 5: 0.5947, Class 6: 0.9249, \n",
      "Validation mIoU Score\n",
      "Class 0: 0.9753, Class 1: 0.4879, Class 2: 0.0625, Class 3: 0.2560, Class 4: 0.5513, Class 5: 0.3093, Class 6: 0.7510, \n",
      "\n",
      "Overall Mean Dice Score: 0.6198\n",
      "Overall Mean F-beta Score: 0.7098\n",
      "Overall Mean IoU Score: 0.4711\n",
      "Training Loss: 0.4378, Validation Loss: 0.4501, Validation F-beta: 0.6143\n",
      "Epoch 174/4000\n"
     ]
    },
    {
     "name": "stderr",
     "output_type": "stream",
     "text": [
      "Training: 100%|██████████| 48/48 [00:32<00:00,  1.47it/s, loss=0.436]\n",
      "Validation: 100%|██████████| 10/10 [00:07<00:00,  1.36it/s, loss=0.452]\n"
     ]
    },
    {
     "name": "stdout",
     "output_type": "stream",
     "text": [
      "Validation Dice Score\n",
      "Class 0: 0.9876, Class 1: 0.6740, Class 2: 0.1336, Class 3: 0.4413, Class 4: 0.7056, Class 5: 0.4771, Class 6: 0.8723, \n",
      "Validation F-beta Score\n",
      "Class 0: 0.9828, Class 1: 0.7425, Class 2: 0.2142, Class 3: 0.5770, Class 4: 0.7660, Class 5: 0.6093, Class 6: 0.9279, \n",
      "Validation mIoU Score\n",
      "Class 0: 0.9754, Class 1: 0.5090, Class 2: 0.0732, Class 3: 0.2852, Class 4: 0.5453, Class 5: 0.3142, Class 6: 0.7738, \n",
      "\n",
      "Overall Mean Dice Score: 0.6341\n",
      "Overall Mean F-beta Score: 0.7245\n",
      "Overall Mean IoU Score: 0.4855\n",
      "Training Loss: 0.4365, Validation Loss: 0.4482, Validation F-beta: 0.6289\n",
      "Epoch 175/4000\n"
     ]
    },
    {
     "name": "stderr",
     "output_type": "stream",
     "text": [
      "Training: 100%|██████████| 48/48 [00:32<00:00,  1.47it/s, loss=0.432]\n",
      "Validation: 100%|██████████| 10/10 [00:06<00:00,  1.51it/s, loss=0.439]\n"
     ]
    },
    {
     "name": "stdout",
     "output_type": "stream",
     "text": [
      "Validation Dice Score\n",
      "Class 0: 0.9881, Class 1: 0.6531, Class 2: 0.1277, Class 3: 0.4446, Class 4: 0.7078, Class 5: 0.4571, Class 6: 0.8696, \n",
      "Validation F-beta Score\n",
      "Class 0: 0.9840, Class 1: 0.7707, Class 2: 0.1878, Class 3: 0.5674, Class 4: 0.7437, Class 5: 0.5846, Class 6: 0.9210, \n",
      "Validation mIoU Score\n",
      "Class 0: 0.9764, Class 1: 0.4857, Class 2: 0.0698, Class 3: 0.2865, Class 4: 0.5481, Class 5: 0.2971, Class 6: 0.7701, \n",
      "\n",
      "Overall Mean Dice Score: 0.6264\n",
      "Overall Mean F-beta Score: 0.7175\n",
      "Overall Mean IoU Score: 0.4775\n",
      "Training Loss: 0.4345, Validation Loss: 0.4463, Validation F-beta: 0.6215\n",
      "Epoch 176/4000\n"
     ]
    },
    {
     "name": "stderr",
     "output_type": "stream",
     "text": [
      "Training: 100%|██████████| 48/48 [00:32<00:00,  1.47it/s, loss=0.431]\n",
      "Validation: 100%|██████████| 10/10 [00:06<00:00,  1.53it/s, loss=0.457]\n"
     ]
    },
    {
     "name": "stdout",
     "output_type": "stream",
     "text": [
      "Validation Dice Score\n",
      "Class 0: 0.9880, Class 1: 0.6589, Class 2: 0.1786, Class 3: 0.4416, Class 4: 0.7128, Class 5: 0.4674, Class 6: 0.8580, \n",
      "Validation F-beta Score\n",
      "Class 0: 0.9838, Class 1: 0.7369, Class 2: 0.2599, Class 3: 0.5576, Class 4: 0.7450, Class 5: 0.6072, Class 6: 0.9158, \n",
      "Validation mIoU Score\n",
      "Class 0: 0.9763, Class 1: 0.4921, Class 2: 0.0987, Class 3: 0.2843, Class 4: 0.5540, Class 5: 0.3065, Class 6: 0.7525, \n",
      "\n",
      "Overall Mean Dice Score: 0.6278\n",
      "Overall Mean F-beta Score: 0.7125\n",
      "Overall Mean IoU Score: 0.4779\n",
      "Training Loss: 0.4348, Validation Loss: 0.4506, Validation F-beta: 0.6187\n",
      "Epoch 177/4000\n"
     ]
    },
    {
     "name": "stderr",
     "output_type": "stream",
     "text": [
      "Training: 100%|██████████| 48/48 [00:33<00:00,  1.43it/s, loss=0.433]\n",
      "Validation: 100%|██████████| 10/10 [00:06<00:00,  1.56it/s, loss=0.445]\n"
     ]
    },
    {
     "name": "stdout",
     "output_type": "stream",
     "text": [
      "Validation Dice Score\n",
      "Class 0: 0.9879, Class 1: 0.6810, Class 2: 0.1405, Class 3: 0.4587, Class 4: 0.7135, Class 5: 0.4734, Class 6: 0.8603, \n",
      "Validation F-beta Score\n",
      "Class 0: 0.9830, Class 1: 0.7529, Class 2: 0.1963, Class 3: 0.5284, Class 4: 0.7612, Class 5: 0.6465, Class 6: 0.9313, \n",
      "Validation mIoU Score\n",
      "Class 0: 0.9761, Class 1: 0.5168, Class 2: 0.0775, Class 3: 0.2994, Class 4: 0.5548, Class 5: 0.3108, Class 6: 0.7556, \n",
      "\n",
      "Overall Mean Dice Score: 0.6374\n",
      "Overall Mean F-beta Score: 0.7241\n",
      "Overall Mean IoU Score: 0.4875\n",
      "Training Loss: 0.4344, Validation Loss: 0.4472, Validation F-beta: 0.6294\n",
      "Epoch 178/4000\n"
     ]
    },
    {
     "name": "stderr",
     "output_type": "stream",
     "text": [
      "Training: 100%|██████████| 48/48 [00:32<00:00,  1.47it/s, loss=0.453]\n",
      "Validation: 100%|██████████| 10/10 [00:06<00:00,  1.53it/s, loss=0.442]\n"
     ]
    },
    {
     "name": "stdout",
     "output_type": "stream",
     "text": [
      "Validation Dice Score\n",
      "Class 0: 0.9875, Class 1: 0.6701, Class 2: 0.1393, Class 3: 0.4446, Class 4: 0.7011, Class 5: 0.4568, Class 6: 0.8698, \n",
      "Validation F-beta Score\n",
      "Class 0: 0.9831, Class 1: 0.7841, Class 2: 0.2102, Class 3: 0.5681, Class 4: 0.7594, Class 5: 0.5694, Class 6: 0.9250, \n",
      "Validation mIoU Score\n",
      "Class 0: 0.9754, Class 1: 0.5059, Class 2: 0.0762, Class 3: 0.2865, Class 4: 0.5401, Class 5: 0.2971, Class 6: 0.7701, \n",
      "\n",
      "Overall Mean Dice Score: 0.6285\n",
      "Overall Mean F-beta Score: 0.7212\n",
      "Overall Mean IoU Score: 0.4800\n",
      "Training Loss: 0.4338, Validation Loss: 0.4495, Validation F-beta: 0.6247\n",
      "Epoch 179/4000\n"
     ]
    },
    {
     "name": "stderr",
     "output_type": "stream",
     "text": [
      "Training: 100%|██████████| 48/48 [00:32<00:00,  1.48it/s, loss=0.425]\n",
      "Validation: 100%|██████████| 10/10 [00:07<00:00,  1.36it/s, loss=0.435]\n"
     ]
    },
    {
     "name": "stdout",
     "output_type": "stream",
     "text": [
      "Validation Dice Score\n",
      "Class 0: 0.9881, Class 1: 0.6770, Class 2: 0.1570, Class 3: 0.4329, Class 4: 0.7142, Class 5: 0.4560, Class 6: 0.8696, \n",
      "Validation F-beta Score\n",
      "Class 0: 0.9836, Class 1: 0.7872, Class 2: 0.2426, Class 3: 0.5156, Class 4: 0.7625, Class 5: 0.5982, Class 6: 0.9271, \n",
      "Validation mIoU Score\n",
      "Class 0: 0.9764, Class 1: 0.5124, Class 2: 0.0861, Class 3: 0.2775, Class 4: 0.5558, Class 5: 0.2963, Class 6: 0.7696, \n",
      "\n",
      "Overall Mean Dice Score: 0.6299\n",
      "Overall Mean F-beta Score: 0.7181\n",
      "Overall Mean IoU Score: 0.4823\n",
      "Training Loss: 0.4340, Validation Loss: 0.4487, Validation F-beta: 0.6238\n",
      "Epoch 180/4000\n"
     ]
    },
    {
     "name": "stderr",
     "output_type": "stream",
     "text": [
      "Training: 100%|██████████| 48/48 [00:32<00:00,  1.48it/s, loss=0.437]\n",
      "Validation: 100%|██████████| 10/10 [00:06<00:00,  1.53it/s, loss=0.451]\n"
     ]
    },
    {
     "name": "stdout",
     "output_type": "stream",
     "text": [
      "Validation Dice Score\n",
      "Class 0: 0.9877, Class 1: 0.6647, Class 2: 0.1842, Class 3: 0.4652, Class 4: 0.7135, Class 5: 0.4761, Class 6: 0.8628, \n",
      "Validation F-beta Score\n",
      "Class 0: 0.9826, Class 1: 0.7659, Class 2: 0.2421, Class 3: 0.5438, Class 4: 0.7794, Class 5: 0.6459, Class 6: 0.9288, \n",
      "Validation mIoU Score\n",
      "Class 0: 0.9757, Class 1: 0.4988, Class 2: 0.1022, Class 3: 0.3041, Class 4: 0.5550, Class 5: 0.3139, Class 6: 0.7595, \n",
      "\n",
      "Overall Mean Dice Score: 0.6364\n",
      "Overall Mean F-beta Score: 0.7328\n",
      "Overall Mean IoU Score: 0.4862\n",
      "Training Loss: 0.4344, Validation Loss: 0.4467, Validation F-beta: 0.6342\n",
      "========================================================\n",
      "SUPER Best model saved. Loss:0.4467, Score:0.6342\n",
      "========================================================\n",
      "Epoch 181/4000\n"
     ]
    },
    {
     "name": "stderr",
     "output_type": "stream",
     "text": [
      "Training: 100%|██████████| 48/48 [00:32<00:00,  1.47it/s, loss=0.42] \n",
      "Validation: 100%|██████████| 10/10 [00:06<00:00,  1.51it/s, loss=0.464]\n"
     ]
    },
    {
     "name": "stdout",
     "output_type": "stream",
     "text": [
      "Validation Dice Score\n",
      "Class 0: 0.9881, Class 1: 0.6693, Class 2: 0.1101, Class 3: 0.4395, Class 4: 0.7079, Class 5: 0.4823, Class 6: 0.8678, \n",
      "Validation F-beta Score\n",
      "Class 0: 0.9836, Class 1: 0.7280, Class 2: 0.1639, Class 3: 0.5513, Class 4: 0.7519, Class 5: 0.6326, Class 6: 0.9228, \n",
      "Validation mIoU Score\n",
      "Class 0: 0.9764, Class 1: 0.5051, Class 2: 0.0592, Class 3: 0.2841, Class 4: 0.5482, Class 5: 0.3187, Class 6: 0.7670, \n",
      "\n",
      "Overall Mean Dice Score: 0.6334\n",
      "Overall Mean F-beta Score: 0.7173\n",
      "Overall Mean IoU Score: 0.4846\n",
      "Training Loss: 0.4337, Validation Loss: 0.4489, Validation F-beta: 0.6242\n",
      "Epoch 182/4000\n"
     ]
    },
    {
     "name": "stderr",
     "output_type": "stream",
     "text": [
      "Training: 100%|██████████| 48/48 [00:32<00:00,  1.46it/s, loss=0.445]\n",
      "Validation: 100%|██████████| 10/10 [00:07<00:00,  1.31it/s, loss=0.443]\n"
     ]
    },
    {
     "name": "stdout",
     "output_type": "stream",
     "text": [
      "Validation Dice Score\n",
      "Class 0: 0.9877, Class 1: 0.6828, Class 2: 0.1505, Class 3: 0.4489, Class 4: 0.7245, Class 5: 0.4581, Class 6: 0.8558, \n",
      "Validation F-beta Score\n",
      "Class 0: 0.9830, Class 1: 0.7661, Class 2: 0.2162, Class 3: 0.5568, Class 4: 0.7628, Class 5: 0.6261, Class 6: 0.9100, \n",
      "Validation mIoU Score\n",
      "Class 0: 0.9757, Class 1: 0.5193, Class 2: 0.0820, Class 3: 0.2914, Class 4: 0.5682, Class 5: 0.2982, Class 6: 0.7490, \n",
      "\n",
      "Overall Mean Dice Score: 0.6340\n",
      "Overall Mean F-beta Score: 0.7244\n",
      "Overall Mean IoU Score: 0.4852\n",
      "Training Loss: 0.4321, Validation Loss: 0.4508, Validation F-beta: 0.6287\n",
      "Epoch 183/4000\n"
     ]
    },
    {
     "name": "stderr",
     "output_type": "stream",
     "text": [
      "Training: 100%|██████████| 48/48 [00:32<00:00,  1.47it/s, loss=0.431]\n",
      "Validation: 100%|██████████| 10/10 [00:06<00:00,  1.53it/s, loss=0.457]\n"
     ]
    },
    {
     "name": "stdout",
     "output_type": "stream",
     "text": [
      "Validation Dice Score\n",
      "Class 0: 0.9877, Class 1: 0.6602, Class 2: 0.1678, Class 3: 0.4445, Class 4: 0.7145, Class 5: 0.4705, Class 6: 0.8692, \n",
      "Validation F-beta Score\n",
      "Class 0: 0.9834, Class 1: 0.7439, Class 2: 0.2292, Class 3: 0.5600, Class 4: 0.7639, Class 5: 0.5936, Class 6: 0.9220, \n",
      "Validation mIoU Score\n",
      "Class 0: 0.9757, Class 1: 0.4937, Class 2: 0.0931, Class 3: 0.2869, Class 4: 0.5560, Class 5: 0.3083, Class 6: 0.7692, \n",
      "\n",
      "Overall Mean Dice Score: 0.6318\n",
      "Overall Mean F-beta Score: 0.7167\n",
      "Overall Mean IoU Score: 0.4828\n",
      "Training Loss: 0.4349, Validation Loss: 0.4481, Validation F-beta: 0.6231\n",
      "Epoch 184/4000\n"
     ]
    },
    {
     "name": "stderr",
     "output_type": "stream",
     "text": [
      "Training: 100%|██████████| 48/48 [00:32<00:00,  1.46it/s, loss=0.423]\n",
      "Validation: 100%|██████████| 10/10 [00:06<00:00,  1.53it/s, loss=0.453]\n"
     ]
    },
    {
     "name": "stdout",
     "output_type": "stream",
     "text": [
      "Validation Dice Score\n",
      "Class 0: 0.9880, Class 1: 0.6741, Class 2: 0.1495, Class 3: 0.4201, Class 4: 0.7190, Class 5: 0.4841, Class 6: 0.8701, \n",
      "Validation F-beta Score\n",
      "Class 0: 0.9837, Class 1: 0.7406, Class 2: 0.2353, Class 3: 0.5334, Class 4: 0.7670, Class 5: 0.6100, Class 6: 0.9184, \n",
      "Validation mIoU Score\n",
      "Class 0: 0.9763, Class 1: 0.5098, Class 2: 0.0822, Class 3: 0.2665, Class 4: 0.5616, Class 5: 0.3201, Class 6: 0.7705, \n",
      "\n",
      "Overall Mean Dice Score: 0.6335\n",
      "Overall Mean F-beta Score: 0.7139\n",
      "Overall Mean IoU Score: 0.4857\n",
      "Training Loss: 0.4351, Validation Loss: 0.4473, Validation F-beta: 0.6226\n",
      "Epoch 185/4000\n"
     ]
    },
    {
     "name": "stderr",
     "output_type": "stream",
     "text": [
      "Training: 100%|██████████| 48/48 [00:32<00:00,  1.47it/s, loss=0.429]\n",
      "Validation: 100%|██████████| 10/10 [00:07<00:00,  1.42it/s, loss=0.452]\n"
     ]
    },
    {
     "name": "stdout",
     "output_type": "stream",
     "text": [
      "Validation Dice Score\n",
      "Class 0: 0.9874, Class 1: 0.7057, Class 2: 0.1700, Class 3: 0.4355, Class 4: 0.7141, Class 5: 0.4584, Class 6: 0.8744, \n",
      "Validation F-beta Score\n",
      "Class 0: 0.9823, Class 1: 0.7734, Class 2: 0.2583, Class 3: 0.5837, Class 4: 0.7728, Class 5: 0.6049, Class 6: 0.9320, \n",
      "Validation mIoU Score\n",
      "Class 0: 0.9752, Class 1: 0.5478, Class 2: 0.0941, Class 3: 0.2798, Class 4: 0.5555, Class 5: 0.2982, Class 6: 0.7774, \n",
      "\n",
      "Overall Mean Dice Score: 0.6376\n",
      "Overall Mean F-beta Score: 0.7334\n",
      "Overall Mean IoU Score: 0.4918\n",
      "Training Loss: 0.4340, Validation Loss: 0.4485, Validation F-beta: 0.6367\n",
      "Epoch 186/4000\n"
     ]
    },
    {
     "name": "stderr",
     "output_type": "stream",
     "text": [
      "Training: 100%|██████████| 48/48 [00:32<00:00,  1.47it/s, loss=0.433]\n",
      "Validation: 100%|██████████| 10/10 [00:06<00:00,  1.50it/s, loss=0.447]\n"
     ]
    },
    {
     "name": "stdout",
     "output_type": "stream",
     "text": [
      "Validation Dice Score\n",
      "Class 0: 0.9873, Class 1: 0.6799, Class 2: 0.1854, Class 3: 0.4132, Class 4: 0.7200, Class 5: 0.4682, Class 6: 0.8661, \n",
      "Validation F-beta Score\n",
      "Class 0: 0.9822, Class 1: 0.7551, Class 2: 0.2602, Class 3: 0.5174, Class 4: 0.7788, Class 5: 0.6267, Class 6: 0.9221, \n",
      "Validation mIoU Score\n",
      "Class 0: 0.9749, Class 1: 0.5157, Class 2: 0.1038, Class 3: 0.2630, Class 4: 0.5627, Class 5: 0.3063, Class 6: 0.7645, \n",
      "\n",
      "Overall Mean Dice Score: 0.6295\n",
      "Overall Mean F-beta Score: 0.7200\n",
      "Overall Mean IoU Score: 0.4824\n",
      "Training Loss: 0.4344, Validation Loss: 0.4480, Validation F-beta: 0.6250\n",
      "Epoch 187/4000\n"
     ]
    },
    {
     "name": "stderr",
     "output_type": "stream",
     "text": [
      "Training: 100%|██████████| 48/48 [00:32<00:00,  1.46it/s, loss=0.428]\n",
      "Validation: 100%|██████████| 10/10 [00:06<00:00,  1.50it/s, loss=0.459]\n"
     ]
    },
    {
     "name": "stdout",
     "output_type": "stream",
     "text": [
      "Validation Dice Score\n",
      "Class 0: 0.9881, Class 1: 0.6340, Class 2: 0.1138, Class 3: 0.4379, Class 4: 0.7125, Class 5: 0.4393, Class 6: 0.8707, \n",
      "Validation F-beta Score\n",
      "Class 0: 0.9837, Class 1: 0.7710, Class 2: 0.1806, Class 3: 0.5587, Class 4: 0.7554, Class 5: 0.5763, Class 6: 0.9215, \n",
      "Validation mIoU Score\n",
      "Class 0: 0.9764, Class 1: 0.4645, Class 2: 0.0612, Class 3: 0.2815, Class 4: 0.5537, Class 5: 0.2828, Class 6: 0.7719, \n",
      "\n",
      "Overall Mean Dice Score: 0.6189\n",
      "Overall Mean F-beta Score: 0.7166\n",
      "Overall Mean IoU Score: 0.4709\n",
      "Training Loss: 0.4341, Validation Loss: 0.4502, Validation F-beta: 0.6183\n",
      "Epoch 188/4000\n"
     ]
    },
    {
     "name": "stderr",
     "output_type": "stream",
     "text": [
      "Training: 100%|██████████| 48/48 [00:33<00:00,  1.42it/s, loss=0.425]\n",
      "Validation: 100%|██████████| 10/10 [00:06<00:00,  1.49it/s, loss=0.445]\n"
     ]
    },
    {
     "name": "stdout",
     "output_type": "stream",
     "text": [
      "Validation Dice Score\n",
      "Class 0: 0.9878, Class 1: 0.6844, Class 2: 0.1364, Class 3: 0.4405, Class 4: 0.7080, Class 5: 0.4662, Class 6: 0.8578, \n",
      "Validation F-beta Score\n",
      "Class 0: 0.9832, Class 1: 0.7661, Class 2: 0.1914, Class 3: 0.5484, Class 4: 0.7440, Class 5: 0.6179, Class 6: 0.9328, \n",
      "Validation mIoU Score\n",
      "Class 0: 0.9759, Class 1: 0.5216, Class 2: 0.0744, Class 3: 0.2841, Class 4: 0.5484, Class 5: 0.3048, Class 6: 0.7513, \n",
      "\n",
      "Overall Mean Dice Score: 0.6314\n",
      "Overall Mean F-beta Score: 0.7218\n",
      "Overall Mean IoU Score: 0.4820\n",
      "Training Loss: 0.4322, Validation Loss: 0.4469, Validation F-beta: 0.6259\n",
      "Epoch 189/4000\n"
     ]
    },
    {
     "name": "stderr",
     "output_type": "stream",
     "text": [
      "Training: 100%|██████████| 48/48 [00:32<00:00,  1.47it/s, loss=0.421]\n",
      "Validation: 100%|██████████| 10/10 [00:06<00:00,  1.50it/s, loss=0.445]\n"
     ]
    },
    {
     "name": "stdout",
     "output_type": "stream",
     "text": [
      "Validation Dice Score\n",
      "Class 0: 0.9880, Class 1: 0.6778, Class 2: 0.1208, Class 3: 0.4418, Class 4: 0.7040, Class 5: 0.4638, Class 6: 0.8565, \n",
      "Validation F-beta Score\n",
      "Class 0: 0.9832, Class 1: 0.7826, Class 2: 0.1971, Class 3: 0.5565, Class 4: 0.7526, Class 5: 0.6099, Class 6: 0.9280, \n",
      "Validation mIoU Score\n",
      "Class 0: 0.9762, Class 1: 0.5149, Class 2: 0.0647, Class 3: 0.2841, Class 4: 0.5433, Class 5: 0.3028, Class 6: 0.7499, \n",
      "\n",
      "Overall Mean Dice Score: 0.6288\n",
      "Overall Mean F-beta Score: 0.7259\n",
      "Overall Mean IoU Score: 0.4790\n",
      "Training Loss: 0.4319, Validation Loss: 0.4471, Validation F-beta: 0.6272\n",
      "Epoch 190/4000\n"
     ]
    },
    {
     "name": "stderr",
     "output_type": "stream",
     "text": [
      "Training: 100%|██████████| 48/48 [00:32<00:00,  1.48it/s, loss=0.425]\n",
      "Validation: 100%|██████████| 10/10 [00:07<00:00,  1.41it/s, loss=0.444]\n"
     ]
    },
    {
     "name": "stdout",
     "output_type": "stream",
     "text": [
      "Validation Dice Score\n",
      "Class 0: 0.9878, Class 1: 0.6995, Class 2: 0.1419, Class 3: 0.4319, Class 4: 0.7029, Class 5: 0.4616, Class 6: 0.8718, \n",
      "Validation F-beta Score\n",
      "Class 0: 0.9829, Class 1: 0.7738, Class 2: 0.2085, Class 3: 0.5434, Class 4: 0.7563, Class 5: 0.6205, Class 6: 0.9342, \n",
      "Validation mIoU Score\n",
      "Class 0: 0.9759, Class 1: 0.5385, Class 2: 0.0768, Class 3: 0.2759, Class 4: 0.5421, Class 5: 0.3006, Class 6: 0.7733, \n",
      "\n",
      "Overall Mean Dice Score: 0.6335\n",
      "Overall Mean F-beta Score: 0.7256\n",
      "Overall Mean IoU Score: 0.4861\n",
      "Training Loss: 0.4307, Validation Loss: 0.4479, Validation F-beta: 0.6298\n",
      "Epoch 191/4000\n"
     ]
    },
    {
     "name": "stderr",
     "output_type": "stream",
     "text": [
      "Training: 100%|██████████| 48/48 [00:32<00:00,  1.46it/s, loss=0.441]\n",
      "Validation: 100%|██████████| 10/10 [00:06<00:00,  1.52it/s, loss=0.441]\n"
     ]
    },
    {
     "name": "stdout",
     "output_type": "stream",
     "text": [
      "Validation Dice Score\n",
      "Class 0: 0.9878, Class 1: 0.6580, Class 2: 0.1663, Class 3: 0.4341, Class 4: 0.7114, Class 5: 0.4516, Class 6: 0.8549, \n",
      "Validation F-beta Score\n",
      "Class 0: 0.9828, Class 1: 0.7114, Class 2: 0.2839, Class 3: 0.5691, Class 4: 0.7655, Class 5: 0.5910, Class 6: 0.9271, \n",
      "Validation mIoU Score\n",
      "Class 0: 0.9759, Class 1: 0.4911, Class 2: 0.0926, Class 3: 0.2776, Class 4: 0.5521, Class 5: 0.2926, Class 6: 0.7473, \n",
      "\n",
      "Overall Mean Dice Score: 0.6220\n",
      "Overall Mean F-beta Score: 0.7128\n",
      "Overall Mean IoU Score: 0.4721\n",
      "Training Loss: 0.4326, Validation Loss: 0.4528, Validation F-beta: 0.6165\n",
      "Epoch 192/4000\n"
     ]
    },
    {
     "name": "stderr",
     "output_type": "stream",
     "text": [
      "Training: 100%|██████████| 48/48 [00:32<00:00,  1.47it/s, loss=0.42] \n",
      "Validation: 100%|██████████| 10/10 [00:06<00:00,  1.54it/s, loss=0.441]\n"
     ]
    },
    {
     "name": "stdout",
     "output_type": "stream",
     "text": [
      "Validation Dice Score\n",
      "Class 0: 0.9881, Class 1: 0.6749, Class 2: 0.1897, Class 3: 0.4098, Class 4: 0.7123, Class 5: 0.4716, Class 6: 0.8758, \n",
      "Validation F-beta Score\n",
      "Class 0: 0.9837, Class 1: 0.7669, Class 2: 0.2900, Class 3: 0.5304, Class 4: 0.7492, Class 5: 0.6151, Class 6: 0.9250, \n",
      "Validation mIoU Score\n",
      "Class 0: 0.9764, Class 1: 0.5111, Class 2: 0.1052, Class 3: 0.2604, Class 4: 0.5537, Class 5: 0.3094, Class 6: 0.7794, \n",
      "\n",
      "Overall Mean Dice Score: 0.6289\n",
      "Overall Mean F-beta Score: 0.7173\n",
      "Overall Mean IoU Score: 0.4828\n",
      "Training Loss: 0.4328, Validation Loss: 0.4480, Validation F-beta: 0.6235\n",
      "Epoch 193/4000\n"
     ]
    },
    {
     "name": "stderr",
     "output_type": "stream",
     "text": [
      "Training: 100%|██████████| 48/48 [00:32<00:00,  1.47it/s, loss=0.428]\n",
      "Validation: 100%|██████████| 10/10 [00:07<00:00,  1.33it/s, loss=0.448]\n"
     ]
    },
    {
     "name": "stdout",
     "output_type": "stream",
     "text": [
      "Validation Dice Score\n",
      "Class 0: 0.9878, Class 1: 0.6973, Class 2: 0.1289, Class 3: 0.4527, Class 4: 0.7127, Class 5: 0.4573, Class 6: 0.8526, \n",
      "Validation F-beta Score\n",
      "Class 0: 0.9827, Class 1: 0.7756, Class 2: 0.2179, Class 3: 0.5666, Class 4: 0.7662, Class 5: 0.6226, Class 6: 0.9232, \n",
      "Validation mIoU Score\n",
      "Class 0: 0.9759, Class 1: 0.5356, Class 2: 0.0715, Class 3: 0.2935, Class 4: 0.5537, Class 5: 0.2970, Class 6: 0.7439, \n",
      "\n",
      "Overall Mean Dice Score: 0.6345\n",
      "Overall Mean F-beta Score: 0.7308\n",
      "Overall Mean IoU Score: 0.4848\n",
      "Training Loss: 0.4325, Validation Loss: 0.4465, Validation F-beta: 0.6324\n",
      "Epoch 194/4000\n"
     ]
    },
    {
     "name": "stderr",
     "output_type": "stream",
     "text": [
      "Training: 100%|██████████| 48/48 [00:32<00:00,  1.46it/s, loss=0.428]\n",
      "Validation: 100%|██████████| 10/10 [00:06<00:00,  1.53it/s, loss=0.445]\n"
     ]
    },
    {
     "name": "stdout",
     "output_type": "stream",
     "text": [
      "Validation Dice Score\n",
      "Class 0: 0.9886, Class 1: 0.6648, Class 2: 0.1558, Class 3: 0.4245, Class 4: 0.7212, Class 5: 0.4836, Class 6: 0.8698, \n",
      "Validation F-beta Score\n",
      "Class 0: 0.9843, Class 1: 0.7393, Class 2: 0.2284, Class 3: 0.5014, Class 4: 0.7619, Class 5: 0.6345, Class 6: 0.9176, \n",
      "Validation mIoU Score\n",
      "Class 0: 0.9774, Class 1: 0.4985, Class 2: 0.0865, Class 3: 0.2704, Class 4: 0.5643, Class 5: 0.3195, Class 6: 0.7701, \n",
      "\n",
      "Overall Mean Dice Score: 0.6328\n",
      "Overall Mean F-beta Score: 0.7109\n",
      "Overall Mean IoU Score: 0.4846\n",
      "Training Loss: 0.4329, Validation Loss: 0.4490, Validation F-beta: 0.6204\n",
      "Epoch 195/4000\n"
     ]
    },
    {
     "name": "stderr",
     "output_type": "stream",
     "text": [
      "Training: 100%|██████████| 48/48 [00:32<00:00,  1.46it/s, loss=0.43] \n",
      "Validation: 100%|██████████| 10/10 [00:06<00:00,  1.53it/s, loss=0.453]\n"
     ]
    },
    {
     "name": "stdout",
     "output_type": "stream",
     "text": [
      "Validation Dice Score\n",
      "Class 0: 0.9871, Class 1: 0.6807, Class 2: 0.1564, Class 3: 0.4224, Class 4: 0.7133, Class 5: 0.4632, Class 6: 0.8563, \n",
      "Validation F-beta Score\n",
      "Class 0: 0.9817, Class 1: 0.7617, Class 2: 0.2449, Class 3: 0.5308, Class 4: 0.7742, Class 5: 0.6279, Class 6: 0.9305, \n",
      "Validation mIoU Score\n",
      "Class 0: 0.9746, Class 1: 0.5167, Class 2: 0.0852, Class 3: 0.2688, Class 4: 0.5545, Class 5: 0.3022, Class 6: 0.7507, \n",
      "\n",
      "Overall Mean Dice Score: 0.6272\n",
      "Overall Mean F-beta Score: 0.7250\n",
      "Overall Mean IoU Score: 0.4786\n",
      "Training Loss: 0.4323, Validation Loss: 0.4510, Validation F-beta: 0.6264\n",
      "Epoch 196/4000\n"
     ]
    },
    {
     "name": "stderr",
     "output_type": "stream",
     "text": [
      "Training: 100%|██████████| 48/48 [00:32<00:00,  1.47it/s, loss=0.437]\n",
      "Validation: 100%|██████████| 10/10 [00:07<00:00,  1.38it/s, loss=0.449]\n"
     ]
    },
    {
     "name": "stdout",
     "output_type": "stream",
     "text": [
      "Validation Dice Score\n",
      "Class 0: 0.9879, Class 1: 0.6767, Class 2: 0.1315, Class 3: 0.4400, Class 4: 0.7139, Class 5: 0.4596, Class 6: 0.8619, \n",
      "Validation F-beta Score\n",
      "Class 0: 0.9831, Class 1: 0.7725, Class 2: 0.1974, Class 3: 0.5398, Class 4: 0.7759, Class 5: 0.6016, Class 6: 0.9293, \n",
      "Validation mIoU Score\n",
      "Class 0: 0.9760, Class 1: 0.5117, Class 2: 0.0718, Class 3: 0.2831, Class 4: 0.5553, Class 5: 0.2989, Class 6: 0.7577, \n",
      "\n",
      "Overall Mean Dice Score: 0.6304\n",
      "Overall Mean F-beta Score: 0.7238\n",
      "Overall Mean IoU Score: 0.4814\n",
      "Training Loss: 0.4321, Validation Loss: 0.4486, Validation F-beta: 0.6268\n",
      "Epoch 197/4000\n"
     ]
    },
    {
     "name": "stderr",
     "output_type": "stream",
     "text": [
      "Training: 100%|██████████| 48/48 [00:32<00:00,  1.47it/s, loss=0.436]\n",
      "Validation: 100%|██████████| 10/10 [00:06<00:00,  1.54it/s, loss=0.456]\n"
     ]
    },
    {
     "name": "stdout",
     "output_type": "stream",
     "text": [
      "Validation Dice Score\n",
      "Class 0: 0.9878, Class 1: 0.6784, Class 2: 0.1574, Class 3: 0.4440, Class 4: 0.7034, Class 5: 0.4836, Class 6: 0.8582, \n",
      "Validation F-beta Score\n",
      "Class 0: 0.9832, Class 1: 0.7589, Class 2: 0.2594, Class 3: 0.5849, Class 4: 0.7443, Class 5: 0.6245, Class 6: 0.9237, \n",
      "Validation mIoU Score\n",
      "Class 0: 0.9759, Class 1: 0.5146, Class 2: 0.0875, Class 3: 0.2859, Class 4: 0.5428, Class 5: 0.3195, Class 6: 0.7524, \n",
      "\n",
      "Overall Mean Dice Score: 0.6335\n",
      "Overall Mean F-beta Score: 0.7273\n",
      "Overall Mean IoU Score: 0.4831\n",
      "Training Loss: 0.4330, Validation Loss: 0.4509, Validation F-beta: 0.6296\n",
      "Epoch 198/4000\n"
     ]
    },
    {
     "name": "stderr",
     "output_type": "stream",
     "text": [
      "Training: 100%|██████████| 48/48 [00:32<00:00,  1.47it/s, loss=0.409]\n",
      "Validation: 100%|██████████| 10/10 [00:06<00:00,  1.54it/s, loss=0.457]\n"
     ]
    },
    {
     "name": "stdout",
     "output_type": "stream",
     "text": [
      "Validation Dice Score\n",
      "Class 0: 0.9871, Class 1: 0.6845, Class 2: 0.1517, Class 3: 0.4322, Class 4: 0.7079, Class 5: 0.4337, Class 6: 0.8636, \n",
      "Validation F-beta Score\n",
      "Class 0: 0.9819, Class 1: 0.7486, Class 2: 0.2265, Class 3: 0.5413, Class 4: 0.7643, Class 5: 0.5958, Class 6: 0.9271, \n",
      "Validation mIoU Score\n",
      "Class 0: 0.9746, Class 1: 0.5218, Class 2: 0.0825, Class 3: 0.2760, Class 4: 0.5481, Class 5: 0.2777, Class 6: 0.7606, \n",
      "\n",
      "Overall Mean Dice Score: 0.6244\n",
      "Overall Mean F-beta Score: 0.7154\n",
      "Overall Mean IoU Score: 0.4768\n",
      "Training Loss: 0.4309, Validation Loss: 0.4500, Validation F-beta: 0.6200\n",
      "Epoch 199/4000\n"
     ]
    },
    {
     "name": "stderr",
     "output_type": "stream",
     "text": [
      "Training: 100%|██████████| 48/48 [00:33<00:00,  1.43it/s, loss=0.433]\n",
      "Validation: 100%|██████████| 10/10 [00:06<00:00,  1.51it/s, loss=0.447]\n"
     ]
    },
    {
     "name": "stdout",
     "output_type": "stream",
     "text": [
      "Validation Dice Score\n",
      "Class 0: 0.9881, Class 1: 0.6703, Class 2: 0.1390, Class 3: 0.4535, Class 4: 0.7120, Class 5: 0.4674, Class 6: 0.8705, \n",
      "Validation F-beta Score\n",
      "Class 0: 0.9836, Class 1: 0.7540, Class 2: 0.2094, Class 3: 0.5399, Class 4: 0.7523, Class 5: 0.6285, Class 6: 0.9303, \n",
      "Validation mIoU Score\n",
      "Class 0: 0.9764, Class 1: 0.5056, Class 2: 0.0757, Class 3: 0.2947, Class 4: 0.5531, Class 5: 0.3061, Class 6: 0.7713, \n",
      "\n",
      "Overall Mean Dice Score: 0.6347\n",
      "Overall Mean F-beta Score: 0.7210\n",
      "Overall Mean IoU Score: 0.4861\n",
      "Training Loss: 0.4348, Validation Loss: 0.4473, Validation F-beta: 0.6270\n",
      "Epoch 200/4000\n"
     ]
    },
    {
     "name": "stderr",
     "output_type": "stream",
     "text": [
      "Training: 100%|██████████| 48/48 [00:32<00:00,  1.46it/s, loss=0.426]\n",
      "Validation: 100%|██████████| 10/10 [00:06<00:00,  1.51it/s, loss=0.442]\n"
     ]
    },
    {
     "name": "stdout",
     "output_type": "stream",
     "text": [
      "Validation Dice Score\n",
      "Class 0: 0.9877, Class 1: 0.6730, Class 2: 0.1639, Class 3: 0.4234, Class 4: 0.7070, Class 5: 0.4765, Class 6: 0.8781, \n",
      "Validation F-beta Score\n",
      "Class 0: 0.9833, Class 1: 0.7638, Class 2: 0.2625, Class 3: 0.5372, Class 4: 0.7527, Class 5: 0.6084, Class 6: 0.9281, \n",
      "Validation mIoU Score\n",
      "Class 0: 0.9757, Class 1: 0.5085, Class 2: 0.0902, Class 3: 0.2702, Class 4: 0.5469, Class 5: 0.3140, Class 6: 0.7831, \n",
      "\n",
      "Overall Mean Dice Score: 0.6316\n",
      "Overall Mean F-beta Score: 0.7180\n",
      "Overall Mean IoU Score: 0.4846\n",
      "Training Loss: 0.4311, Validation Loss: 0.4493, Validation F-beta: 0.6246\n",
      "Epoch 201/4000\n"
     ]
    },
    {
     "name": "stderr",
     "output_type": "stream",
     "text": [
      "Training: 100%|██████████| 48/48 [00:32<00:00,  1.47it/s, loss=0.433]\n",
      "Validation: 100%|██████████| 10/10 [00:06<00:00,  1.53it/s, loss=0.46]\n"
     ]
    },
    {
     "name": "stdout",
     "output_type": "stream",
     "text": [
      "Validation Dice Score\n",
      "Class 0: 0.9874, Class 1: 0.6655, Class 2: 0.1491, Class 3: 0.4297, Class 4: 0.7049, Class 5: 0.4596, Class 6: 0.8748, \n",
      "Validation F-beta Score\n",
      "Class 0: 0.9824, Class 1: 0.7514, Class 2: 0.2220, Class 3: 0.5242, Class 4: 0.7619, Class 5: 0.6089, Class 6: 0.9247, \n",
      "Validation mIoU Score\n",
      "Class 0: 0.9751, Class 1: 0.5001, Class 2: 0.0819, Class 3: 0.2745, Class 4: 0.5448, Class 5: 0.2993, Class 6: 0.7777, \n",
      "\n",
      "Overall Mean Dice Score: 0.6269\n",
      "Overall Mean F-beta Score: 0.7142\n",
      "Overall Mean IoU Score: 0.4793\n",
      "Training Loss: 0.4338, Validation Loss: 0.4518, Validation F-beta: 0.6202\n",
      "Epoch 202/4000\n"
     ]
    },
    {
     "name": "stderr",
     "output_type": "stream",
     "text": [
      "Training: 100%|██████████| 48/48 [00:32<00:00,  1.46it/s, loss=0.441]\n",
      "Validation: 100%|██████████| 10/10 [00:07<00:00,  1.37it/s, loss=0.443]\n"
     ]
    },
    {
     "name": "stdout",
     "output_type": "stream",
     "text": [
      "Validation Dice Score\n",
      "Class 0: 0.9879, Class 1: 0.6680, Class 2: 0.1324, Class 3: 0.4195, Class 4: 0.7195, Class 5: 0.4793, Class 6: 0.8665, \n",
      "Validation F-beta Score\n",
      "Class 0: 0.9827, Class 1: 0.7615, Class 2: 0.2270, Class 3: 0.5327, Class 4: 0.7822, Class 5: 0.6343, Class 6: 0.9301, \n",
      "Validation mIoU Score\n",
      "Class 0: 0.9760, Class 1: 0.5023, Class 2: 0.0735, Class 3: 0.2672, Class 4: 0.5622, Class 5: 0.3164, Class 6: 0.7652, \n",
      "\n",
      "Overall Mean Dice Score: 0.6305\n",
      "Overall Mean F-beta Score: 0.7282\n",
      "Overall Mean IoU Score: 0.4827\n",
      "Training Loss: 0.4331, Validation Loss: 0.4484, Validation F-beta: 0.6300\n",
      "Epoch 203/4000\n"
     ]
    },
    {
     "name": "stderr",
     "output_type": "stream",
     "text": [
      "Training: 100%|██████████| 48/48 [00:32<00:00,  1.47it/s, loss=0.428]\n",
      "Validation: 100%|██████████| 10/10 [00:06<00:00,  1.52it/s, loss=0.451]"
     ]
    },
    {
     "name": "stdout",
     "output_type": "stream",
     "text": [
      "Validation Dice Score\n",
      "Class 0: 0.9873, Class 1: 0.6636, Class 2: 0.1814, Class 3: 0.3872, Class 4: 0.7090, Class 5: 0.4545, Class 6: 0.8608, \n",
      "Validation F-beta Score\n",
      "Class 0: 0.9826, Class 1: 0.7574, Class 2: 0.2630, Class 3: 0.4826, Class 4: 0.7534, Class 5: 0.5956, Class 6: 0.9217, \n",
      "Validation mIoU Score\n",
      "Class 0: 0.9749, Class 1: 0.4973, Class 2: 0.1013, Class 3: 0.2419, Class 4: 0.5493, Class 5: 0.2948, Class 6: 0.7559, \n",
      "\n",
      "Overall Mean Dice Score: 0.6150\n",
      "Overall Mean F-beta Score: 0.7021\n",
      "Overall Mean IoU Score: 0.4678\n",
      "Training Loss: 0.4300, Validation Loss: 0.4529, Validation F-beta: 0.6084\n",
      "Early stopping\n"
     ]
    },
    {
     "name": "stderr",
     "output_type": "stream",
     "text": [
      "\n"
     ]
    },
    {
     "data": {
      "text/html": [],
      "text/plain": [
       "<IPython.core.display.HTML object>"
      ]
     },
     "metadata": {},
     "output_type": "display_data"
    },
    {
     "data": {
      "text/html": [
       "<br>    <style><br>        .wandb-row {<br>            display: flex;<br>            flex-direction: row;<br>            flex-wrap: wrap;<br>            justify-content: flex-start;<br>            width: 100%;<br>        }<br>        .wandb-col {<br>            display: flex;<br>            flex-direction: column;<br>            flex-basis: 100%;<br>            flex: 1;<br>            padding: 10px;<br>        }<br>    </style><br><div class=\"wandb-row\"><div class=\"wandb-col\"><h3>Run history:</h3><br/><table class=\"wandb\"><tr><td>class_0_IoU_score</td><td>▁▁▁▁▄▇▇▇▇▇█▇████████████████████████████</td></tr><tr><td>class_0_dice_score</td><td>▁███████████████████████████████████████</td></tr><tr><td>class_0_f_beta_score</td><td>███▇▆▆▅▅▃▃▃▃▄▃▃▃▃▂▂▂▂▂▂▂▂▃▂▂▂▁▂▂▂▂▂▂▂▁▂▂</td></tr><tr><td>class_1_IoU_score</td><td>▂▁▁▁▁▂▄▄▅▆▇▇████████████████████████████</td></tr><tr><td>class_1_dice_score</td><td>▁▁▁▁▁▁▁▁▁▂▂▂▄▅▅▆▆▆▆▇▇▇▇▇▇▇▇██▇▇███▇▇██▇█</td></tr><tr><td>class_1_f_beta_score</td><td>▁▁▁▁▁▁▁▁▁▁▂▃▄▆▅▆▆▆▇▇▇▇▇▇▇▇▇▇▇███████████</td></tr><tr><td>class_2_IoU_score</td><td>▂▁▁▂▂▄▆▇▇███████████████████████████████</td></tr><tr><td>class_2_dice_score</td><td>▁▁▁▁▁▁▁▁▁▁▁▁▁▁▁▁▁▁▁▁▁▁▂▃▃▃▄▃▅▅▆▆▆▆▆█▇▆▇▇</td></tr><tr><td>class_2_f_beta_score</td><td>▁▁▁▁▁▁▁▁▁▁▁▁▁▁▁▁▁▁▂▂▂▃▃▄▄▄▃▆▇▅▆▅▆▇▇█▆▇██</td></tr><tr><td>class_3_IoU_score</td><td>▁▁▁▁▁▇▇▇▇▇▇▇▇▇██████████████████████████</td></tr><tr><td>class_3_dice_score</td><td>▁▁▁▁▁▁▁▂▂▄▅▆▆▇▇█▇▇▇▇█▇█▇▇▇█▇▇█▇▇▇▇▇▇▇▇▇▇</td></tr><tr><td>class_3_f_beta_score</td><td>▁▁▁▁▁▁▁▁▁▁▄▄▇▆▇▇▇██▇▇█████▇█▇█▇█▇▇▇▇▇▇▇▇</td></tr><tr><td>class_4_IoU_score</td><td>▁▁▁▁▁▂▂▃▃▅▇▇▇▇▇█████████████████████████</td></tr><tr><td>class_4_dice_score</td><td>▁▂▃▆▇▇▇▇▇▇██████▇█████▇█████████████████</td></tr><tr><td>class_4_f_beta_score</td><td>▁▃▃▅▅▆▅▆▆▆▇▇▇▇▇▇▇▇▇▇▇█▇█▇████▇██████████</td></tr><tr><td>class_5_IoU_score</td><td>▁▁▁▁▁▆▆▇▇▇██████████████████████████████</td></tr><tr><td>class_5_dice_score</td><td>▁▆▆▅▆▆▆▆▇▇▇▇▇▇▇▇▇▇█▇▇▇▇███▇▇█▇▇█████▇███</td></tr><tr><td>class_5_f_beta_score</td><td>▂▁▃▄▄▆▆▆▇▇▇▆▇▇▇▇▇▇▇▇▇▇████████▇▇▇███████</td></tr><tr><td>class_6_IoU_score</td><td>▂▁▁▁▂▇▇█████████████████████████████████</td></tr><tr><td>class_6_dice_score</td><td>▁▁▁▁▂▄▆▇▇▇▇█████████████████████████████</td></tr><tr><td>class_6_f_beta_score</td><td>▁▁▁▁▁▄▄▄▆▆▇█████████████████████████████</td></tr><tr><td>epoch</td><td>▁▁▁▁▁▂▂▂▂▂▃▃▃▃▃▃▃▃▃▄▄▄▄▅▅▅▆▆▆▆▆▆▇▇▇▇████</td></tr><tr><td>overall_mean_IoU_score</td><td>▁▁▂▂▂▄▄▅▅▅▆▇▇▇▇▇▇▇▇▇█▇██████████████████</td></tr><tr><td>overall_mean_dice_score</td><td>▁▁▁▁▁▂▃▃▄▄▅▆▇▇▇▇████████████████████████</td></tr><tr><td>overall_mean_f_beta_score</td><td>▁▁▁▁▄▄▄▅▅▅▅▆▆▆▆▇▇▇▇▇▇▇██████████████████</td></tr><tr><td>train_epoch_loss</td><td>█▆▄▂▂▂▂▂▂▂▂▂▂▁▁▁▁▁▁▁▁▁▁▁▁▁▁▁▁▁▁▁▁▁▁▁▁▁▁▁</td></tr><tr><td>val_epoch_loss</td><td>█▅▅▅▅▄▄▃▃▃▂▂▂▂▁▁▁▁▁▁▁▁▁▁▁▁▁▁▁▁▁▁▁▁▁▁▁▁▁▁</td></tr></table><br/></div><div class=\"wandb-col\"><h3>Run summary:</h3><br/><table class=\"wandb\"><tr><td>class_0_IoU_score</td><td>0.92168</td></tr><tr><td>class_0_dice_score</td><td>0.98727</td></tr><tr><td>class_0_f_beta_score</td><td>0.98258</td></tr><tr><td>class_1_IoU_score</td><td>0.92168</td></tr><tr><td>class_1_dice_score</td><td>0.66357</td></tr><tr><td>class_1_f_beta_score</td><td>0.75742</td></tr><tr><td>class_2_IoU_score</td><td>0.92168</td></tr><tr><td>class_2_dice_score</td><td>0.18141</td></tr><tr><td>class_2_f_beta_score</td><td>0.26297</td></tr><tr><td>class_3_IoU_score</td><td>0.92168</td></tr><tr><td>class_3_dice_score</td><td>0.38717</td></tr><tr><td>class_3_f_beta_score</td><td>0.48263</td></tr><tr><td>class_4_IoU_score</td><td>0.92168</td></tr><tr><td>class_4_dice_score</td><td>0.70896</td></tr><tr><td>class_4_f_beta_score</td><td>0.75343</td></tr><tr><td>class_5_IoU_score</td><td>0.92168</td></tr><tr><td>class_5_dice_score</td><td>0.45452</td></tr><tr><td>class_5_f_beta_score</td><td>0.59558</td></tr><tr><td>class_6_IoU_score</td><td>0.92168</td></tr><tr><td>class_6_dice_score</td><td>0.8608</td></tr><tr><td>class_6_f_beta_score</td><td>0.92168</td></tr><tr><td>epoch</td><td>203</td></tr><tr><td>overall_mean_IoU_score</td><td>0.46784</td></tr><tr><td>overall_mean_dice_score</td><td>0.615</td></tr><tr><td>overall_mean_f_beta_score</td><td>0.70215</td></tr><tr><td>train_epoch_loss</td><td>0.43003</td></tr><tr><td>val_epoch_loss</td><td>0.4529</td></tr></table><br/></div></div>"
      ],
      "text/plain": [
       "<IPython.core.display.HTML object>"
      ]
     },
     "metadata": {},
     "output_type": "display_data"
    },
    {
     "data": {
      "text/html": [
       " View run <strong style=\"color:#cdcd00\">UNet_all_finetune_de_wdp_a1_96x96x96_e4000_lr0.0001_lamda0.52_ce0.4_no_weighted</strong> at: <a href='https://wandb.ai/waooang/czii_SwinUnetR/runs/5w1p97fm' target=\"_blank\">https://wandb.ai/waooang/czii_SwinUnetR/runs/5w1p97fm</a><br> View project at: <a href='https://wandb.ai/waooang/czii_SwinUnetR' target=\"_blank\">https://wandb.ai/waooang/czii_SwinUnetR</a><br>Synced 5 W&B file(s), 0 media file(s), 0 artifact file(s) and 0 other file(s)"
      ],
      "text/plain": [
       "<IPython.core.display.HTML object>"
      ]
     },
     "metadata": {},
     "output_type": "display_data"
    },
    {
     "data": {
      "text/html": [
       "Find logs at: <code>.\\wandb\\run-20250122_065319-5w1p97fm\\logs</code>"
      ],
      "text/plain": [
       "<IPython.core.display.HTML object>"
      ]
     },
     "metadata": {},
     "output_type": "display_data"
    }
   ],
   "source": [
    "# from src.dataset.dataset import create_dataloaders\n",
    "# from src.dataset.dataset_csv import create_dataloaders_from_csv\n",
    "# from monai.transforms import (\n",
    "#     Compose, LoadImaged, EnsureChannelFirstd, NormalizeIntensityd,\n",
    "#     Orientationd, CropForegroundd, GaussianSmoothd, ScaleIntensityd,\n",
    "#     RandSpatialCropd, RandRotate90d, RandFlipd, RandGaussianNoised,\n",
    "#     ToTensord, RandCropByLabelClassesd, RandAdjustContrastd,RandKSpaceSpikeNoised,\n",
    "#     RandGaussianSmoothd, RandHistogramShiftd\n",
    "# )\n",
    "# from monai.transforms import CastToTyped\n",
    "# import numpy as np\n",
    "\n",
    "# device = torch.device(\"cuda\" if torch.cuda.is_available() else \"cpu\")\n",
    "\n",
    "# train_csv = './datasets/train2.csv'\n",
    "# val_csv = './datasets/val2.csv'\n",
    "# # DATA CONFIG\n",
    "# img_size =  96 # Match your patch size\n",
    "# img_depth = 32\n",
    "# n_classes = 7\n",
    "# batch_size = 64 # 13.8GB GPU memory required for 128x128 img size\n",
    "# num_samples = batch_size # 한 이미지에서 뽑을 샘플 수\n",
    "# loader_batch = 1\n",
    "# num_repeat = 8\n",
    "# val_num_repeat = 10\n",
    "# # MODEL CONFIG\n",
    "# num_epochs = 4000\n",
    "# lamda = 0.52\n",
    "# ce_weight = 0.4\n",
    "# lr = 0.0001\n",
    "\n",
    "# use_checkpoint = False\n",
    "# dropout = 0.25\n",
    "# feature_size = [32, 64, 128, 256]\n",
    "\n",
    "# #conv_op = nn.Conv3d\n",
    "\n",
    "# # CLASS_WEIGHTS\n",
    "# class_weights = None\n",
    "# class_weights = torch.tensor([1, 1, 1, 1, 1, 1, 1], dtype=torch.float32)  # 클래스별 가중치\n",
    "# accumulation_steps = 1\n",
    "# # INIT\n",
    "# start_epoch = 0\n",
    "# best_val_loss = float('inf')\n",
    "# best_val_fbeta_score = 0\n",
    "\n",
    "# train_non_random_transforms = Compose([\n",
    "#     EnsureChannelFirstd(keys=[\"image\", \"label\"], channel_dim=\"no_channel\"),\n",
    "#     Orientationd(keys=[\"image\", \"label\"], axcodes=\"RAS\"),\n",
    "#     NormalizeIntensityd(keys=\"image\"),\n",
    "#     ])\n",
    "\n",
    "# val_non_random_transforms = Compose([\n",
    "#     EnsureChannelFirstd(keys=[\"image\", \"label\"], channel_dim=\"no_channel\"),\n",
    "#     Orientationd(keys=[\"image\", \"label\"], axcodes=\"RAS\"),\n",
    "#     NormalizeIntensityd(keys=\"image\"),\n",
    "#     ])\n",
    "\n",
    "# train_random_transforms = Compose([\n",
    "#     RandCropByLabelClassesd(\n",
    "#         keys=[\"image\", \"label\"],\n",
    "#         label_key=\"label\",\n",
    "#         spatial_size=[img_depth, img_size, img_size],\n",
    "#         num_classes=n_classes,\n",
    "#         num_samples=num_samples, \n",
    "#         ratios=ratios_list,\n",
    "#     ),\n",
    "    \n",
    "#     RandRotate90d(keys=[\"image\", \"label\"], prob=0.5, spatial_axes=[1, 2]),\n",
    "#     RandFlipd(keys=[\"image\", \"label\"], prob=0.5, spatial_axis=0),\n",
    "#     RandFlipd(keys=[\"image\", \"label\"], prob=0.5, spatial_axis=1),\n",
    "#     RandFlipd(keys=[\"image\", \"label\"], prob=0.5, spatial_axis=2),\n",
    "# ])\n",
    "\n",
    "# val_random_transforms = Compose([\n",
    "#     RandCropByLabelClassesd(\n",
    "#         keys=[\"image\", \"label\"],\n",
    "#         label_key=\"label\",\n",
    "#         spatial_size=[img_depth, img_size, img_size],\n",
    "#         num_classes=n_classes,\n",
    "#         num_samples=num_samples, \n",
    "#         ratios=ratios_list,\n",
    "#     ),\n",
    "#     RandRotate90d(keys=[\"image\", \"label\"], prob=0.5, spatial_axes=[1, 2]),\n",
    "#     RandFlipd(keys=[\"image\", \"label\"], prob=0.5, spatial_axis=0),\n",
    "#     RandFlipd(keys=[\"image\", \"label\"], prob=0.5, spatial_axis=1),\n",
    "#     RandFlipd(keys=[\"image\", \"label\"], prob=0.5, spatial_axis=2),\n",
    "# ])\n",
    "\n",
    "# train_loader, val_loader = None, None\n",
    "# train_loader, val_loader = create_dataloaders_from_csv(\n",
    "#     train_csv,\n",
    "#     val_csv, \n",
    "#     train_non_random_transforms = train_non_random_transforms, \n",
    "#     val_non_random_transforms=val_non_random_transforms,\n",
    "#     train_random_transforms=train_random_transforms,\n",
    "#     val_random_transforms=val_random_transforms,\n",
    "#     batch_size = loader_batch,\n",
    "#     num_workers=0,train_num_repeat=num_repeat, val_num_repeat=val_num_repeat\n",
    "#     )\n",
    "\n",
    "# model = UNet(\n",
    "#     spatial_dims=3,\n",
    "#     in_channels=1,\n",
    "#     out_channels=n_classes,\n",
    "#     channels=feature_size,\n",
    "#     strides=(2,2,2),\n",
    "#     dropout=dropout,\n",
    "# ).to(device)\n",
    "# criterion = CombinedCETverskyLoss(\n",
    "#     lamda=lamda,\n",
    "#     ce_weight=ce_weight,\n",
    "#     n_classes=n_classes,\n",
    "#     class_weights=class_weights,\n",
    "    \n",
    "# ).to(device)\n",
    "# pretrain_str = \"yes\" if use_checkpoint else \"no\"\n",
    "# weight_str = \"weighted\" if class_weights is not None else \"\"\n",
    "\n",
    "# # Pretrained weights 불러오기\n",
    "# if use_checkpoint:\n",
    "#     pretrain_path = \"./model_checkpoints/UNet_all_10441_a1_32x96x96_e4000_lr0.001_lamda0.7_ce0.4_no_weighted/best_model.pt\"\n",
    "#     weight = torch.load(pretrain_path, map_location=device)\n",
    "#     # strict=False로 로드하여 불일치하는 부분 무시\n",
    "#     model.load_state_dict(weight, strict=False)\n",
    "#     print(\"Weights loaded successfully. Output layer will be trained from scratch.\")\n",
    "# # 체크포인트 디렉토리 및 파일 설정\n",
    "# checkpoint_base_dir = Path(\"./model_checkpoints\")\n",
    "# folder_name = f\"UNet_all_finetune_de_wdp_a{accumulation_steps}_{img_size}x{img_size}x{img_size}_e{num_epochs}_lr{lr}_lamda{lamda}_ce{ce_weight}_{pretrain_str}_{weight_str}\"\n",
    "# checkpoint_dir = checkpoint_base_dir / folder_name\n",
    "# # 체크포인트 디렉토리 생성\n",
    "# checkpoint_dir.mkdir(parents=True, exist_ok=True)\n",
    "\n",
    "# optimizer = optim.AdamW(model.parameters(), lr=lr, weight_decay=1e-5)\n",
    "# scheduler = torch.optim.lr_scheduler.ReduceLROnPlateau(optimizer, patience=5, factor=0.5)\n",
    "# import wandb\n",
    "# from datetime import datetime\n",
    "\n",
    "# current_time = datetime.now().strftime('%Y%m%d_%H%M%S')\n",
    "# run_name = folder_name\n",
    "\n",
    "# # wandb 초기화\n",
    "# wandb.init(\n",
    "#     project='czii_SwinUnetR',  # 프로젝트 이름 설정\n",
    "#     name=run_name,         # 실행(run) 이름 설정\n",
    "#     config={\n",
    "#         'num_epochs': num_epochs,\n",
    "#         'learning_rate': lr,\n",
    "#         'batch_size': batch_size,\n",
    "#         'lambda': lamda,\n",
    "#         \"cross_entropy_weight\": ce_weight,\n",
    "#         'feature_size': feature_size,\n",
    "#         'img_size': img_size,\n",
    "#         'sampling_ratio': ratios_list,\n",
    "#         'device': device.type,\n",
    "#         \"checkpoint_dir\": str(checkpoint_dir),\n",
    "#         \"class_weights\": class_weights.tolist() if class_weights is not None else None,\n",
    "#         \"use_checkpoint\": use_checkpoint,\n",
    "#         \"dropout\": dropout,        \n",
    "#         \"accumulation_steps\": accumulation_steps,\n",
    "#         \"num_repeat\": num_repeat,\n",
    "        \n",
    "#         # 필요한 하이퍼파라미터 추가\n",
    "#     }\n",
    "# )\n",
    "# # 모델을 wandb에 연결\n",
    "# wandb.watch(model, log='all')\n",
    "# train_model(\n",
    "#     model=model,\n",
    "#     train_loader=train_loader,\n",
    "#     val_loader=val_loader,\n",
    "#     criterion=criterion,\n",
    "#     optimizer=optimizer,\n",
    "#     num_epochs=num_epochs,\n",
    "#     patience=10,\n",
    "#     device=device,\n",
    "#     start_epoch=start_epoch,\n",
    "#     best_val_loss=best_val_loss,\n",
    "#     best_val_fbeta_score=best_val_fbeta_score,\n",
    "#     calculate_dice_interval=1,\n",
    "#     accumulation_steps = accumulation_steps\n",
    "#     )"
   ]
  },
  {
   "cell_type": "code",
   "execution_count": 11,
   "metadata": {},
   "outputs": [
    {
     "ename": "SyntaxError",
     "evalue": "invalid syntax (879943805.py, line 1)",
     "output_type": "error",
     "traceback": [
      "\u001b[1;36m  Cell \u001b[1;32mIn[11], line 1\u001b[1;36m\u001b[0m\n\u001b[1;33m    if:\u001b[0m\n\u001b[1;37m      ^\u001b[0m\n\u001b[1;31mSyntaxError\u001b[0m\u001b[1;31m:\u001b[0m invalid syntax\n"
     ]
    }
   ],
   "source": [
    "if:"
   ]
  },
  {
   "cell_type": "markdown",
   "metadata": {},
   "source": [
    "# VAl"
   ]
  },
  {
   "cell_type": "code",
   "execution_count": null,
   "metadata": {},
   "outputs": [
    {
     "data": {
      "text/html": [
       "Finishing last run (ID:fs6utwyo) before initializing another..."
      ],
      "text/plain": [
       "<IPython.core.display.HTML object>"
      ]
     },
     "metadata": {},
     "output_type": "display_data"
    },
    {
     "data": {
      "application/vnd.jupyter.widget-view+json": {
       "model_id": "29cc3ae761af43baae5aca60b5d2e7f4",
       "version_major": 2,
       "version_minor": 0
      },
      "text/plain": [
       "VBox(children=(Label(value='0.009 MB of 0.009 MB uploaded\\r'), FloatProgress(value=1.0, max=1.0)))"
      ]
     },
     "metadata": {},
     "output_type": "display_data"
    },
    {
     "data": {
      "text/html": [
       "<style>\n",
       "    table.wandb td:nth-child(1) { padding: 0 10px; text-align: left ; width: auto;} td:nth-child(2) {text-align: left ; width: 100%}\n",
       "    .wandb-row { display: flex; flex-direction: row; flex-wrap: wrap; justify-content: flex-start; width: 100% }\n",
       "    .wandb-col { display: flex; flex-direction: column; flex-basis: 100%; flex: 1; padding: 10px; }\n",
       "    </style>\n",
       "<div class=\"wandb-row\"><div class=\"wandb-col\"><h3>Run history:</h3><br/><table class=\"wandb\"><tr><td>class_0_dice_score</td><td>▁</td></tr><tr><td>class_0_f_beta_score</td><td>▁</td></tr><tr><td>class_1_dice_score</td><td>▁</td></tr><tr><td>class_1_f_beta_score</td><td>▁</td></tr><tr><td>class_2_dice_score</td><td>▁</td></tr><tr><td>class_2_f_beta_score</td><td>▁</td></tr><tr><td>class_3_dice_score</td><td>▁</td></tr><tr><td>class_3_f_beta_score</td><td>▁</td></tr><tr><td>class_4_dice_score</td><td>▁</td></tr><tr><td>class_4_f_beta_score</td><td>▁</td></tr><tr><td>class_5_dice_score</td><td>▁</td></tr><tr><td>class_5_f_beta_score</td><td>▁</td></tr><tr><td>class_6_dice_score</td><td>▁</td></tr><tr><td>class_6_f_beta_score</td><td>▁</td></tr><tr><td>epoch</td><td>▁▁▁▁▁▁▁▁▁▁▁▁▁▁▁▁</td></tr><tr><td>overall_mean_dice_score</td><td>▁</td></tr><tr><td>overall_mean_f_beta_score</td><td>▁</td></tr><tr><td>val_epoch_loss</td><td>▁</td></tr></table><br/></div><div class=\"wandb-col\"><h3>Run summary:</h3><br/><table class=\"wandb\"><tr><td>class_0_dice_score</td><td>0.65703</td></tr><tr><td>class_0_f_beta_score</td><td>0.50748</td></tr><tr><td>class_1_dice_score</td><td>0.53332</td></tr><tr><td>class_1_f_beta_score</td><td>0.64703</td></tr><tr><td>class_2_dice_score</td><td>0.00286</td></tr><tr><td>class_2_f_beta_score</td><td>0.02334</td></tr><tr><td>class_3_dice_score</td><td>0.23703</td></tr><tr><td>class_3_f_beta_score</td><td>0.23033</td></tr><tr><td>class_4_dice_score</td><td>0.65487</td></tr><tr><td>class_4_f_beta_score</td><td>0.62525</td></tr><tr><td>class_5_dice_score</td><td>0.47899</td></tr><tr><td>class_5_f_beta_score</td><td>0.51448</td></tr><tr><td>class_6_dice_score</td><td>0.42545</td></tr><tr><td>class_6_f_beta_score</td><td>0.47197</td></tr><tr><td>epoch</td><td>1</td></tr><tr><td>overall_mean_dice_score</td><td>0.42708</td></tr><tr><td>overall_mean_f_beta_score</td><td>0.43141</td></tr><tr><td>val_epoch_loss</td><td>0.7152</td></tr></table><br/></div></div>"
      ],
      "text/plain": [
       "<IPython.core.display.HTML object>"
      ]
     },
     "metadata": {},
     "output_type": "display_data"
    },
    {
     "data": {
      "text/html": [
       " View run <strong style=\"color:#cdcd00\">SwinUNETR96_96_lr0.001_lambda0.52_batch2</strong> at: <a href='https://wandb.ai/waooang/czii_SwinUnetR_val/runs/fs6utwyo' target=\"_blank\">https://wandb.ai/waooang/czii_SwinUnetR_val/runs/fs6utwyo</a><br/> View project at: <a href='https://wandb.ai/waooang/czii_SwinUnetR_val' target=\"_blank\">https://wandb.ai/waooang/czii_SwinUnetR_val</a><br/>Synced 4 W&B file(s), 0 media file(s), 3 artifact file(s) and 0 other file(s)"
      ],
      "text/plain": [
       "<IPython.core.display.HTML object>"
      ]
     },
     "metadata": {},
     "output_type": "display_data"
    },
    {
     "data": {
      "text/html": [
       "Find logs at: <code>.\\wandb\\run-20241219_200219-fs6utwyo\\logs</code>"
      ],
      "text/plain": [
       "<IPython.core.display.HTML object>"
      ]
     },
     "metadata": {},
     "output_type": "display_data"
    },
    {
     "data": {
      "text/html": [
       "Successfully finished last run (ID:fs6utwyo). Initializing new run:<br/>"
      ],
      "text/plain": [
       "<IPython.core.display.HTML object>"
      ]
     },
     "metadata": {},
     "output_type": "display_data"
    },
    {
     "data": {
      "text/html": [
       "Tracking run with wandb version 0.18.3"
      ],
      "text/plain": [
       "<IPython.core.display.HTML object>"
      ]
     },
     "metadata": {},
     "output_type": "display_data"
    },
    {
     "data": {
      "text/html": [
       "Run data is saved locally in <code>e:\\Workspace\\czll\\wandb\\run-20241219_200454-121l7bn3</code>"
      ],
      "text/plain": [
       "<IPython.core.display.HTML object>"
      ]
     },
     "metadata": {},
     "output_type": "display_data"
    },
    {
     "data": {
      "text/html": [
       "Syncing run <strong><a href='https://wandb.ai/waooang/czii_SwinUnetR_val/runs/121l7bn3' target=\"_blank\">SwinUNETR96_96_lr0.001_lambda0.52_batch2</a></strong> to <a href='https://wandb.ai/waooang/czii_SwinUnetR_val' target=\"_blank\">Weights & Biases</a> (<a href='https://wandb.me/run' target=\"_blank\">docs</a>)<br/>"
      ],
      "text/plain": [
       "<IPython.core.display.HTML object>"
      ]
     },
     "metadata": {},
     "output_type": "display_data"
    },
    {
     "data": {
      "text/html": [
       " View project at <a href='https://wandb.ai/waooang/czii_SwinUnetR_val' target=\"_blank\">https://wandb.ai/waooang/czii_SwinUnetR_val</a>"
      ],
      "text/plain": [
       "<IPython.core.display.HTML object>"
      ]
     },
     "metadata": {},
     "output_type": "display_data"
    },
    {
     "data": {
      "text/html": [
       " View run at <a href='https://wandb.ai/waooang/czii_SwinUnetR_val/runs/121l7bn3' target=\"_blank\">https://wandb.ai/waooang/czii_SwinUnetR_val/runs/121l7bn3</a>"
      ],
      "text/plain": [
       "<IPython.core.display.HTML object>"
      ]
     },
     "metadata": {},
     "output_type": "display_data"
    },
    {
     "name": "stderr",
     "output_type": "stream",
     "text": [
      "Loading dataset: 100%|██████████| 4/4 [00:06<00:00,  1.58s/it]\n",
      "C:\\Users\\Seungwoo\\AppData\\Local\\Temp\\ipykernel_21000\\1177025787.py:95: FutureWarning: You are using `torch.load` with `weights_only=False` (the current default value), which uses the default pickle module implicitly. It is possible to construct malicious pickle data which will execute arbitrary code during unpickling (See https://github.com/pytorch/pytorch/blob/main/SECURITY.md#untrusted-models for more details). In a future release, the default value for `weights_only` will be flipped to `True`. This limits the functions that could be executed during unpickling. Arbitrary objects will no longer be allowed to be loaded via this mode unless they are explicitly allowlisted by the user via `torch.serialization.add_safe_globals`. We recommend you start setting `weights_only=True` for any use case where you don't have full control of the loaded file. Please open an issue on GitHub for any issues related to this experimental feature.\n",
      "  checkpoint = torch.load(pretrain_path, map_location=device)\n",
      "Validation: 100%|██████████| 4/4 [00:01<00:00,  2.38it/s, loss=0.865]"
     ]
    },
    {
     "name": "stdout",
     "output_type": "stream",
     "text": [
      "Validation Dice Score\n",
      "Class 0: 0.6570, Class 1: 0.5333, Class 2: 0.0029, Class 3: 0.2370, \n",
      "Class 4: 0.6549, Class 5: 0.4790, Class 6: 0.4255, \n",
      "Validation F-beta Score\n",
      "Class 0: 0.5075, Class 1: 0.6470, Class 2: 0.0233, Class 3: 0.2303, \n",
      "Class 4: 0.6252, Class 5: 0.5145, Class 6: 0.4720, \n",
      "Overall Mean Dice Score: 0.4659\n",
      "Overall Mean F-beta Score: 0.4978\n",
      "\n"
     ]
    },
    {
     "name": "stderr",
     "output_type": "stream",
     "text": [
      "\n"
     ]
    }
   ],
   "source": [
    "from monai.data import DataLoader, Dataset, CacheDataset\n",
    "from monai.transforms import (\n",
    "    Compose, LoadImaged, EnsureChannelFirstd, NormalizeIntensityd,\n",
    "    Orientationd, CropForegroundd, GaussianSmoothd, ScaleIntensityd,\n",
    "    RandSpatialCropd, RandRotate90d, RandFlipd, RandGaussianNoised,\n",
    "    ToTensord, RandCropByLabelClassesd\n",
    ")\n",
    "from monai.metrics import DiceMetric\n",
    "from monai.networks.nets import UNETR, SwinUNETR\n",
    "from monai.losses import TverskyLoss\n",
    "import torch\n",
    "import numpy as np\n",
    "from tqdm import tqdm\n",
    "import wandb\n",
    "from src.dataset.dataset import make_val_dataloader\n",
    "\n",
    "val_img_dir = \"./datasets/val/images\"\n",
    "val_label_dir = \"./datasets/val/labels\"\n",
    "img_depth = 96\n",
    "img_size = 96  # Match your patch size\n",
    "n_classes = 7\n",
    "batch_size = 2 # 13.8GB GPU memory required for 128x128 img size\n",
    "num_samples = batch_size # 한 이미지에서 뽑을 샘플 수\n",
    "loader_batch = 1\n",
    "lamda = 0.52\n",
    "\n",
    "wandb.init(\n",
    "    project='czii_SwinUnetR_val',  # 프로젝트 이름 설정\n",
    "    name='SwinUNETR96_96_lr0.001_lambda0.52_batch2',         # 실행(run) 이름 설정\n",
    "    config={\n",
    "        'learning_rate': 0.001,\n",
    "        'batch_size': batch_size,\n",
    "        'lambda': lamda,\n",
    "        'img_size': img_size,\n",
    "        'device': 'cuda',\n",
    "        \"checkpoint_dir\": \"./model_checkpoints/SwinUNETR96_96_lr0.001_lambda0.52_batch2\",\n",
    "        \n",
    "    }\n",
    ")\n",
    "\n",
    "non_random_transforms = Compose([\n",
    "    EnsureChannelFirstd(keys=[\"image\", \"label\"], channel_dim=\"no_channel\"),\n",
    "    NormalizeIntensityd(keys=\"image\"),\n",
    "    Orientationd(keys=[\"image\", \"label\"], axcodes=\"RAS\"),\n",
    "    # GaussianSmoothd(\n",
    "    #     keys=[\"image\"],      # 변환을 적용할 키\n",
    "    #     sigma=[1.0, 1.0, 1.0]  # 각 축(x, y, z)의 시그마 값\n",
    "    #     ),\n",
    "])\n",
    "random_transforms = Compose([\n",
    "    RandCropByLabelClassesd(\n",
    "        keys=[\"image\", \"label\"],\n",
    "        label_key=\"label\",\n",
    "        spatial_size=[img_depth, img_size, img_size],\n",
    "        num_classes=n_classes,\n",
    "        num_samples=num_samples, \n",
    "        ratios=ratios_list,\n",
    "    ),\n",
    "    RandRotate90d(keys=[\"image\", \"label\"], prob=0.5, spatial_axes=[1, 2]),\n",
    "    RandFlipd(keys=[\"image\", \"label\"], prob=0.5, spatial_axis=0),\n",
    "])\n",
    "\n",
    "val_loader = make_val_dataloader(\n",
    "    val_img_dir, \n",
    "    val_label_dir, \n",
    "    non_random_transforms = non_random_transforms, \n",
    "    random_transforms = random_transforms, \n",
    "    batch_size = loader_batch,\n",
    "    num_workers=0\n",
    ")\n",
    "criterion = TverskyLoss(\n",
    "    alpha= 1 - lamda,  # FP에 대한 가중치\n",
    "    beta=lamda,       # FN에 대한 가중치\n",
    "    include_background=False,  # 배경 클래스 제외\n",
    "    softmax=True\n",
    ")\n",
    "    \n",
    "    \n",
    "from monai.metrics import DiceMetric\n",
    "\n",
    "img_size = 96\n",
    "img_depth = img_size\n",
    "n_classes = 7 \n",
    "\n",
    "device = torch.device(\"cuda\" if torch.cuda.is_available() else \"cpu\")\n",
    "pretrain_path = \"./model_checkpoints/SwinUNETR96_96_lr0.001_lambda0.52_batch2/best_model.pt\"\n",
    "model = SwinUNETR(\n",
    "    img_size=(img_depth, img_size, img_size),\n",
    "    in_channels=1,\n",
    "    out_channels=n_classes,\n",
    "    feature_size=48,\n",
    "    use_checkpoint=True,\n",
    ").to(device)\n",
    "# Pretrained weights 불러오기\n",
    "checkpoint = torch.load(pretrain_path, map_location=device)\n",
    "model.load_state_dict(checkpoint['model_state_dict'])\n",
    "\n",
    "val_loss, overall_mean_fbeta_score = validate_one_epoch(\n",
    "    model=model, \n",
    "    val_loader=val_loader, \n",
    "    criterion=criterion, \n",
    "    device=device, \n",
    "    epoch=0, \n",
    "    calculate_dice_interval=1\n",
    ")"
   ]
  },
  {
   "cell_type": "markdown",
   "metadata": {},
   "source": [
    "# Inference"
   ]
  },
  {
   "cell_type": "code",
   "execution_count": null,
   "metadata": {},
   "outputs": [],
   "source": [
    "from src.dataset.preprocessing import Preprocessor"
   ]
  },
  {
   "cell_type": "code",
   "execution_count": null,
   "metadata": {},
   "outputs": [
    {
     "name": "stdout",
     "output_type": "stream",
     "text": [
      "Done.\n"
     ]
    }
   ],
   "source": [
    "from monai.inferers import sliding_window_inference\n",
    "from monai.transforms import Compose, EnsureChannelFirstd, NormalizeIntensityd, Orientationd, GaussianSmoothd\n",
    "from monai.data import DataLoader, Dataset, CacheDataset\n",
    "from monai.networks.nets import SwinUNETR\n",
    "from pathlib import Path\n",
    "import numpy as np\n",
    "import copick\n",
    "\n",
    "import torch\n",
    "print(\"Done.\")"
   ]
  },
  {
   "cell_type": "code",
   "execution_count": null,
   "metadata": {},
   "outputs": [
    {
     "name": "stdout",
     "output_type": "stream",
     "text": [
      "Config file written to ./kaggle/working/copick.config\n",
      "file length: 7\n"
     ]
    }
   ],
   "source": [
    "config_blob = \"\"\"{\n",
    "    \"name\": \"czii_cryoet_mlchallenge_2024\",\n",
    "    \"description\": \"2024 CZII CryoET ML Challenge training data.\",\n",
    "    \"version\": \"1.0.0\",\n",
    "\n",
    "    \"pickable_objects\": [\n",
    "        {\n",
    "            \"name\": \"apo-ferritin\",\n",
    "            \"is_particle\": true,\n",
    "            \"pdb_id\": \"4V1W\",\n",
    "            \"label\": 1,\n",
    "            \"color\": [  0, 117, 220, 128],\n",
    "            \"radius\": 60,\n",
    "            \"map_threshold\": 0.0418\n",
    "        },\n",
    "        {\n",
    "          \"name\" : \"beta-amylase\",\n",
    "            \"is_particle\": true,\n",
    "            \"pdb_id\": \"8ZRZ\",\n",
    "            \"label\": 2,\n",
    "            \"color\": [255, 255, 255, 128],\n",
    "            \"radius\": 90,\n",
    "            \"map_threshold\": 0.0578  \n",
    "        },\n",
    "        {\n",
    "            \"name\": \"beta-galactosidase\",\n",
    "            \"is_particle\": true,\n",
    "            \"pdb_id\": \"6X1Q\",\n",
    "            \"label\": 3,\n",
    "            \"color\": [ 76,   0,  92, 128],\n",
    "            \"radius\": 90,\n",
    "            \"map_threshold\": 0.0578\n",
    "        },\n",
    "        {\n",
    "            \"name\": \"ribosome\",\n",
    "            \"is_particle\": true,\n",
    "            \"pdb_id\": \"6EK0\",\n",
    "            \"label\": 4,\n",
    "            \"color\": [  0,  92,  49, 128],\n",
    "            \"radius\": 150,\n",
    "            \"map_threshold\": 0.0374\n",
    "        },\n",
    "        {\n",
    "            \"name\": \"thyroglobulin\",\n",
    "            \"is_particle\": true,\n",
    "            \"pdb_id\": \"6SCJ\",\n",
    "            \"label\": 5,\n",
    "            \"color\": [ 43, 206,  72, 128],\n",
    "            \"radius\": 130,\n",
    "            \"map_threshold\": 0.0278\n",
    "        },\n",
    "        {\n",
    "            \"name\": \"virus-like-particle\",\n",
    "            \"is_particle\": true,\n",
    "            \"label\": 6,\n",
    "            \"color\": [255, 204, 153, 128],\n",
    "            \"radius\": 135,\n",
    "            \"map_threshold\": 0.201\n",
    "        },\n",
    "        {\n",
    "            \"name\": \"membrane\",\n",
    "            \"is_particle\": false,\n",
    "            \"label\": 8,\n",
    "            \"color\": [100, 100, 100, 128]\n",
    "        },\n",
    "        {\n",
    "            \"name\": \"background\",\n",
    "            \"is_particle\": false,\n",
    "            \"label\": 9,\n",
    "            \"color\": [10, 150, 200, 128]\n",
    "        }\n",
    "    ],\n",
    "\n",
    "    \"overlay_root\": \"./kaggle/working/overlay\",\n",
    "\n",
    "    \"overlay_fs_args\": {\n",
    "        \"auto_mkdir\": true\n",
    "    },\n",
    "\n",
    "    \"static_root\": \"./kaggle/input/czii-cryo-et-object-identification/test/static\"\n",
    "}\"\"\"\n",
    "\n",
    "copick_config_path = \"./kaggle/working/copick.config\"\n",
    "preprocessor = Preprocessor(config_blob,copick_config_path=copick_config_path)\n",
    "non_random_transforms = Compose([\n",
    "    EnsureChannelFirstd(keys=[\"image\"], channel_dim=\"no_channel\"),\n",
    "    NormalizeIntensityd(keys=\"image\"),\n",
    "    Orientationd(keys=[\"image\"], axcodes=\"RAS\"),\n",
    "    GaussianSmoothd(\n",
    "        keys=[\"image\"],      # 변환을 적용할 키\n",
    "        sigma=[1.0, 1.0, 1.0]  # 각 축(x, y, z)의 시그마 값\n",
    "        ),\n",
    "    ])"
   ]
  },
  {
   "cell_type": "code",
   "execution_count": null,
   "metadata": {},
   "outputs": [
    {
     "name": "stderr",
     "output_type": "stream",
     "text": [
      "c:\\ProgramData\\anaconda3\\envs\\ship\\Lib\\site-packages\\monai\\utils\\deprecate_utils.py:221: FutureWarning: monai.networks.nets.swin_unetr SwinUNETR.__init__:img_size: Argument `img_size` has been deprecated since version 1.3. It will be removed in version 1.5. The img_size argument is not required anymore and checks on the input size are run during forward().\n",
      "  warn_deprecated(argname, msg, warning_category)\n",
      "C:\\Users\\Seungwoo\\AppData\\Local\\Temp\\ipykernel_6248\\2937359115.py:15: FutureWarning: You are using `torch.load` with `weights_only=False` (the current default value), which uses the default pickle module implicitly. It is possible to construct malicious pickle data which will execute arbitrary code during unpickling (See https://github.com/pytorch/pytorch/blob/main/SECURITY.md#untrusted-models for more details). In a future release, the default value for `weights_only` will be flipped to `True`. This limits the functions that could be executed during unpickling. Arbitrary objects will no longer be allowed to be loaded via this mode unless they are explicitly allowlisted by the user via `torch.serialization.add_safe_globals`. We recommend you start setting `weights_only=True` for any use case where you don't have full control of the loaded file. Please open an issue on GitHub for any issues related to this experimental feature.\n",
      "  checkpoint = torch.load(pretrain_path, map_location=device)\n"
     ]
    },
    {
     "data": {
      "text/plain": [
       "<All keys matched successfully>"
      ]
     },
     "execution_count": 15,
     "metadata": {},
     "output_type": "execute_result"
    }
   ],
   "source": [
    "img_size = 96\n",
    "img_depth = img_size\n",
    "n_classes = 7 \n",
    "\n",
    "device = torch.device(\"cuda\" if torch.cuda.is_available() else \"cpu\")\n",
    "pretrain_path = \"./model_checkpoints/SwinUNETR96_96_lr0.001_lambda0.52_batch2/best_model.pt\"\n",
    "model = SwinUNETR(\n",
    "    img_size=(img_depth, img_size, img_size),\n",
    "    in_channels=1,\n",
    "    out_channels=n_classes,\n",
    "    feature_size=48,\n",
    "    use_checkpoint=True,\n",
    ").to(device)\n",
    "# Pretrained weights 불러오기\n",
    "checkpoint = torch.load(pretrain_path, map_location=device)\n",
    "model.load_state_dict(checkpoint['model_state_dict'])\n"
   ]
  },
  {
   "cell_type": "code",
   "execution_count": null,
   "metadata": {},
   "outputs": [
    {
     "name": "stderr",
     "output_type": "stream",
     "text": [
      "Validation:   0%|          | 0/4 [00:03<?, ?it/s, loss=0.764]\n"
     ]
    },
    {
     "ename": "ZeroDivisionError",
     "evalue": "integer modulo by zero",
     "output_type": "error",
     "traceback": [
      "\u001b[1;31m---------------------------------------------------------------------------\u001b[0m",
      "\u001b[1;31mZeroDivisionError\u001b[0m                         Traceback (most recent call last)",
      "Cell \u001b[1;32mIn[16], line 1\u001b[0m\n\u001b[1;32m----> 1\u001b[0m val_loss \u001b[38;5;241m=\u001b[39m \u001b[43mvalidate_one_epoch\u001b[49m\u001b[43m(\u001b[49m\n\u001b[0;32m      2\u001b[0m \u001b[43m            \u001b[49m\u001b[43mmodel\u001b[49m\u001b[38;5;241;43m=\u001b[39;49m\u001b[43mmodel\u001b[49m\u001b[43m,\u001b[49m\u001b[43m \u001b[49m\n\u001b[0;32m      3\u001b[0m \u001b[43m            \u001b[49m\u001b[43mval_loader\u001b[49m\u001b[38;5;241;43m=\u001b[39;49m\u001b[43mval_loader\u001b[49m\u001b[43m,\u001b[49m\u001b[43m \u001b[49m\n\u001b[0;32m      4\u001b[0m \u001b[43m            \u001b[49m\u001b[43mcriterion\u001b[49m\u001b[38;5;241;43m=\u001b[39;49m\u001b[43mcriterion\u001b[49m\u001b[43m,\u001b[49m\u001b[43m \u001b[49m\n\u001b[0;32m      5\u001b[0m \u001b[43m            \u001b[49m\u001b[43mdevice\u001b[49m\u001b[38;5;241;43m=\u001b[39;49m\u001b[43mdevice\u001b[49m\u001b[43m,\u001b[49m\u001b[43m \u001b[49m\n\u001b[0;32m      6\u001b[0m \u001b[43m            \u001b[49m\u001b[43mepoch\u001b[49m\u001b[38;5;241;43m=\u001b[39;49m\u001b[38;5;241;43m1\u001b[39;49m\u001b[43m,\u001b[49m\u001b[43m \u001b[49m\n\u001b[0;32m      7\u001b[0m \u001b[43m            \u001b[49m\u001b[43mcalculate_dice_interval\u001b[49m\u001b[38;5;241;43m=\u001b[39;49m\u001b[38;5;241;43m0\u001b[39;49m\n\u001b[0;32m      8\u001b[0m \u001b[43m        \u001b[49m\u001b[43m)\u001b[49m\n",
      "Cell \u001b[1;32mIn[11], line 64\u001b[0m, in \u001b[0;36mvalidate_one_epoch\u001b[1;34m(model, val_loader, criterion, device, epoch, calculate_dice_interval)\u001b[0m\n\u001b[0;32m     61\u001b[0m pbar\u001b[38;5;241m.\u001b[39mset_postfix(loss\u001b[38;5;241m=\u001b[39mloss\u001b[38;5;241m.\u001b[39mitem())\n\u001b[0;32m     63\u001b[0m \u001b[38;5;66;03m# 각 클래스별 Dice 점수 계산\u001b[39;00m\n\u001b[1;32m---> 64\u001b[0m \u001b[38;5;28;01mif\u001b[39;00m \u001b[43mepoch\u001b[49m\u001b[43m \u001b[49m\u001b[38;5;241;43m%\u001b[39;49m\u001b[43m \u001b[49m\u001b[43mcalculate_dice_interval\u001b[49m \u001b[38;5;241m==\u001b[39m \u001b[38;5;241m0\u001b[39m:\n\u001b[0;32m     65\u001b[0m     \u001b[38;5;28;01mfor\u001b[39;00m i \u001b[38;5;129;01min\u001b[39;00m \u001b[38;5;28mrange\u001b[39m(n_classes):\n\u001b[0;32m     66\u001b[0m         pred_i \u001b[38;5;241m=\u001b[39m (preds \u001b[38;5;241m==\u001b[39m i)\n",
      "\u001b[1;31mZeroDivisionError\u001b[0m: integer modulo by zero"
     ]
    }
   ],
   "source": [
    "val_loss = validate_one_epoch(\n",
    "            model=model, \n",
    "            val_loader=val_loader, \n",
    "            criterion=criterion, \n",
    "            device=device, \n",
    "            epoch=1, \n",
    "            calculate_dice_interval=0\n",
    "        )"
   ]
  },
  {
   "cell_type": "code",
   "execution_count": null,
   "metadata": {},
   "outputs": [
    {
     "name": "stdout",
     "output_type": "stream",
     "text": [
      "Processing volume 1/7\n"
     ]
    },
    {
     "name": "stderr",
     "output_type": "stream",
     "text": [
      "Loading dataset: 100%|██████████| 1/1 [00:01<00:00,  1.94s/it]\n"
     ]
    },
    {
     "name": "stdout",
     "output_type": "stream",
     "text": [
      "Processing volume 2/7\n"
     ]
    },
    {
     "name": "stderr",
     "output_type": "stream",
     "text": [
      "Loading dataset: 100%|██████████| 1/1 [00:01<00:00,  1.89s/it]\n"
     ]
    },
    {
     "name": "stdout",
     "output_type": "stream",
     "text": [
      "Processing volume 3/7\n"
     ]
    },
    {
     "name": "stderr",
     "output_type": "stream",
     "text": [
      "Loading dataset: 100%|██████████| 1/1 [00:01<00:00,  1.79s/it]\n"
     ]
    },
    {
     "name": "stdout",
     "output_type": "stream",
     "text": [
      "Submission saved to: submission.csv\n"
     ]
    }
   ],
   "source": [
    "import torch\n",
    "import numpy as np\n",
    "from scipy.ndimage import label, center_of_mass\n",
    "import pandas as pd\n",
    "from tqdm import tqdm\n",
    "from monai.data import CacheDataset, DataLoader\n",
    "from monai.transforms import Compose, NormalizeIntensity\n",
    "import cc3d\n",
    "\n",
    "def dict_to_df(coord_dict, experiment_name):\n",
    "    all_coords = []\n",
    "    all_labels = []\n",
    "    \n",
    "    for label, coords in coord_dict.items():\n",
    "        all_coords.append(coords)\n",
    "        all_labels.extend([label] * len(coords))\n",
    "    \n",
    "    all_coords = np.vstack(all_coords)\n",
    "    df = pd.DataFrame({\n",
    "        'experiment': experiment_name,\n",
    "        'particle_type': all_labels,\n",
    "        'x': all_coords[:, 0],\n",
    "        'y': all_coords[:, 1],\n",
    "        'z': all_coords[:, 2]\n",
    "    })\n",
    "    return df\n",
    "\n",
    "id_to_name = {1: \"apo-ferritin\", \n",
    "              2: \"beta-amylase\",\n",
    "              3: \"beta-galactosidase\", \n",
    "              4: \"ribosome\", \n",
    "              5: \"thyroglobulin\", \n",
    "              6: \"virus-like-particle\"}\n",
    "BLOB_THRESHOLD = 200\n",
    "CERTAINTY_THRESHOLD = 0.05\n",
    "\n",
    "classes = [1, 2, 3, 4, 5, 6]\n",
    "\n",
    "model.eval()\n",
    "with torch.no_grad():\n",
    "    location_dfs = []  # DataFrame 리스트로 초기화\n",
    "    \n",
    "    for vol_idx, run in enumerate(preprocessor.root.runs):\n",
    "        print(f\"Processing volume {vol_idx + 1}/{len(preprocessor.root.runs)}\")\n",
    "        tomogram = preprocessor.processing(run=run, task=\"task\")\n",
    "        task_files = [{\"image\": tomogram}]\n",
    "        task_ds = CacheDataset(data=task_files, transform=non_random_transforms)\n",
    "        task_loader = DataLoader(task_ds, batch_size=1, num_workers=0)\n",
    "        \n",
    "        for task_data in task_loader:\n",
    "            images = task_data['image'].to(\"cuda\")\n",
    "            outputs = sliding_window_inference(\n",
    "                inputs=images,\n",
    "                roi_size=(96, 96, 96),  # ROI 크기\n",
    "                sw_batch_size=4,\n",
    "                predictor=model.forward,\n",
    "                overlap=0.1,\n",
    "                sw_device=\"cuda\",\n",
    "                device=\"cpu\",\n",
    "                buffer_steps=1,\n",
    "                buffer_dim=-1\n",
    "            )\n",
    "            outputs = outputs.argmax(dim=1).squeeze(0).cpu().numpy()  # 클래스 채널 예측\n",
    "            location = {}  # 좌표 저장용 딕셔너리\n",
    "            for c in classes:\n",
    "                cc = cc3d.connected_components(outputs == c)  # cc3d 라벨링\n",
    "                stats = cc3d.statistics(cc)\n",
    "                zyx = stats['centroids'][1:] * 10.012444  # 스케일 변환\n",
    "                zyx_large = zyx[stats['voxel_counts'][1:] > BLOB_THRESHOLD]  # 크기 필터링\n",
    "                xyz = np.ascontiguousarray(zyx_large[:, ::-1])  # 좌표 스왑 (z, y, x -> x, y, z)\n",
    "\n",
    "                location[id_to_name[c]] = xyz  # ID 이름 매칭 저장\n",
    "\n",
    "            # 데이터프레임 변환\n",
    "            df = dict_to_df(location, run.name)\n",
    "            location_dfs.append(df)  # 리스트에 추가\n",
    "        \n",
    "        # if vol_idx == 2:\n",
    "        #     break\n",
    "    \n",
    "    # DataFrame 병합\n",
    "    final_df = pd.concat(location_dfs, ignore_index=True)\n",
    "    \n",
    "    # ID 추가 및 CSV 저장\n",
    "    final_df.insert(loc=0, column='id', value=np.arange(len(final_df)))\n",
    "    final_df.to_csv(\"submission.csv\", index=False)\n",
    "    print(\"Submission saved to: submission.csv\")\n"
   ]
  }
 ],
 "metadata": {
  "kernelspec": {
   "display_name": "czii",
   "language": "python",
   "name": "python3"
  },
  "language_info": {
   "codemirror_mode": {
    "name": "ipython",
    "version": 3
   },
   "file_extension": ".py",
   "mimetype": "text/x-python",
   "name": "python",
   "nbconvert_exporter": "python",
   "pygments_lexer": "ipython3",
   "version": "3.12.7"
  }
 },
 "nbformat": 4,
 "nbformat_minor": 2
}
