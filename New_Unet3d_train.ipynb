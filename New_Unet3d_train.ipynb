{
 "cells": [
  {
   "cell_type": "code",
   "execution_count": 1,
   "metadata": {},
   "outputs": [
    {
     "name": "stderr",
     "output_type": "stream",
     "text": [
      "c:\\ProgramData\\anaconda3\\envs\\czii\\Lib\\site-packages\\tqdm\\auto.py:21: TqdmWarning: IProgress not found. Please update jupyter and ipywidgets. See https://ipywidgets.readthedocs.io/en/stable/user_install.html\n",
      "  from .autonotebook import tqdm as notebook_tqdm\n"
     ]
    },
    {
     "name": "stdout",
     "output_type": "stream",
     "text": [
      "MONAI version: 1.4.0\n",
      "Numpy version: 1.26.3\n",
      "Pytorch version: 2.5.1+cu124\n",
      "MONAI flags: HAS_EXT = False, USE_COMPILED = False, USE_META_DICT = False\n",
      "MONAI rev id: 46a5272196a6c2590ca2589029eed8e4d56ff008\n",
      "MONAI __file__: c:\\ProgramData\\anaconda3\\envs\\czii\\Lib\\site-packages\\monai\\__init__.py\n",
      "\n",
      "Optional dependencies:\n",
      "Pytorch Ignite version: NOT INSTALLED or UNKNOWN VERSION.\n",
      "ITK version: NOT INSTALLED or UNKNOWN VERSION.\n",
      "Nibabel version: 5.3.2\n",
      "scikit-image version: NOT INSTALLED or UNKNOWN VERSION.\n",
      "scipy version: 1.15.1\n",
      "Pillow version: 10.2.0\n",
      "Tensorboard version: NOT INSTALLED or UNKNOWN VERSION.\n",
      "gdown version: NOT INSTALLED or UNKNOWN VERSION.\n",
      "TorchVision version: 0.20.1+cu124\n",
      "tqdm version: 4.67.1\n",
      "lmdb version: NOT INSTALLED or UNKNOWN VERSION.\n",
      "psutil version: 6.1.1\n",
      "pandas version: 2.2.3\n",
      "einops version: 0.8.0\n",
      "transformers version: NOT INSTALLED or UNKNOWN VERSION.\n",
      "mlflow version: NOT INSTALLED or UNKNOWN VERSION.\n",
      "pynrrd version: NOT INSTALLED or UNKNOWN VERSION.\n",
      "clearml version: NOT INSTALLED or UNKNOWN VERSION.\n",
      "\n",
      "For details about installing the optional dependencies, please visit:\n",
      "    https://docs.monai.io/en/latest/installation.html#installing-the-recommended-dependencies\n",
      "\n"
     ]
    }
   ],
   "source": [
    "import os\n",
    "import shutil\n",
    "import tempfile\n",
    "\n",
    "import matplotlib.pyplot as plt\n",
    "from tqdm import tqdm\n",
    "\n",
    "import random\n",
    "import numpy as np\n",
    "import torch\n",
    "\n",
    "\n",
    "from monai.losses import DiceCELoss\n",
    "from monai.inferers import sliding_window_inference\n",
    "from monai.transforms import (\n",
    "    AsDiscrete,\n",
    "    EnsureChannelFirstd,\n",
    "    Compose,\n",
    "    CropForegroundd,\n",
    "    LoadImaged,\n",
    "    Orientationd,\n",
    "    RandFlipd,\n",
    "    RandCropByPosNegLabeld,\n",
    "    RandShiftIntensityd,\n",
    "    ScaleIntensityRanged,\n",
    "    Spacingd,\n",
    "    RandRotate90d,\n",
    ")\n",
    "\n",
    "from monai.config import print_config\n",
    "from monai.metrics import DiceMetric\n",
    "from monai.networks.nets import UNet\n",
    "\n",
    "from src.models import UNet_CBAM\n",
    "\n",
    "from monai.data import (\n",
    "    DataLoader,\n",
    "    CacheDataset,\n",
    "    load_decathlon_datalist,\n",
    "    decollate_batch,\n",
    ")\n",
    "\n",
    "# 랜덤 시드 고정\n",
    "def set_seed(seed):\n",
    "    random.seed(seed)\n",
    "    np.random.seed(seed)\n",
    "    torch.manual_seed(seed)\n",
    "    if torch.cuda.is_available():\n",
    "        torch.cuda.manual_seed_all(seed)\n",
    "\n",
    "set_seed(42)\n",
    "\n",
    "\n",
    "print_config()"
   ]
  },
  {
   "cell_type": "code",
   "execution_count": 2,
   "metadata": {},
   "outputs": [
    {
     "name": "stdout",
     "output_type": "stream",
     "text": [
      "클래스 비율: {0: 0.0, 1: 0.16393442622950818, 2: 0.01639344262295082, 3: 0.2459016393442623, 4: 0.16393442622950818, 5: 0.2459016393442623, 6: 0.16393442622950818}\n",
      "최종 합계: 1.0\n",
      "클래스 비율 리스트: [0.0, 0.16393442622950818, 0.01639344262295082, 0.2459016393442623, 0.16393442622950818, 0.2459016393442623, 0.16393442622950818]\n"
     ]
    }
   ],
   "source": [
    "class_info = {\n",
    "    0: {\"name\": \"background\", \"weight\": 0},  # weight 없음\n",
    "    1: {\"name\": \"apo-ferritin\", \"weight\": 1000},\n",
    "    2: {\"name\": \"beta-amylase\", \"weight\": 100}, # 4130\n",
    "    3: {\"name\": \"beta-galactosidase\", \"weight\": 1500}, #3080\n",
    "    4: {\"name\": \"ribosome\", \"weight\": 1000},\n",
    "    5: {\"name\": \"thyroglobulin\", \"weight\": 1500},\n",
    "    6: {\"name\": \"virus-like-particle\", \"weight\": 1000},\n",
    "}\n",
    "\n",
    "# 가중치에 비례한 비율 계산\n",
    "raw_ratios = {\n",
    "    k: (v[\"weight\"] if v[\"weight\"] is not None else 0.01)  # 가중치 비례, None일 경우 기본값a\n",
    "    for k, v in class_info.items()\n",
    "}\n",
    "total = sum(raw_ratios.values())\n",
    "ratios = {k: v / total for k, v in raw_ratios.items()}\n",
    "\n",
    "# 최종 합계가 1인지 확인\n",
    "final_total = sum(ratios.values())\n",
    "print(\"클래스 비율:\", ratios)\n",
    "print(\"최종 합계:\", final_total)\n",
    "\n",
    "# 비율을 리스트로 변환\n",
    "ratios_list = [ratios[k] for k in sorted(ratios.keys())]\n",
    "print(\"클래스 비율 리스트:\", ratios_list)"
   ]
  },
  {
   "cell_type": "markdown",
   "metadata": {},
   "source": [
    "# 모델 설정"
   ]
  },
  {
   "cell_type": "code",
   "execution_count": 3,
   "metadata": {},
   "outputs": [],
   "source": [
    "from src.dataset.dataset import create_dataloaders\n",
    "from src.dataset.dataset_csv import create_dataloaders_from_csv\n",
    "from monai.transforms import (\n",
    "    Compose, LoadImaged, EnsureChannelFirstd, NormalizeIntensityd,\n",
    "    Orientationd, CropForegroundd, GaussianSmoothd, ScaleIntensityd,\n",
    "    RandSpatialCropd, RandRotate90d, RandFlipd, RandGaussianNoised,\n",
    "    ToTensord, RandCropByLabelClassesd\n",
    ")\n",
    "from monai.transforms import CastToTyped\n",
    "import numpy as np\n",
    "\n",
    "train_csv = './datasets/train.csv'\n",
    "val_csv = './datasets/val.csv'\n",
    "# DATA CONFIG\n",
    "img_size =  96 # Match your patch size\n",
    "img_depth = img_size\n",
    "n_classes = 7\n",
    "batch_size = 16 # 13.8GB GPU memory required for 128x128 img size\n",
    "num_samples = batch_size # 한 이미지에서 뽑을 샘플 수\n",
    "loader_batch = 1\n",
    "num_repeat = 3\n",
    "val_num_repeat = 5\n",
    "# MODEL CONFIG\n",
    "num_epochs = 4000\n",
    "lamda = 0.52\n",
    "ce_weight = 0.4\n",
    "lr = 0.001\n",
    "\n",
    "use_checkpoint = False\n",
    "dropout = 0.25\n",
    "feature_size = [32, 64, 128, 256]\n",
    "\n",
    "#conv_op = nn.Conv3d\n",
    "\n",
    "# CLASS_WEIGHTS\n",
    "class_weights = None\n",
    "class_weights = torch.tensor([0.01, 1, 0.1, 1.1, 1, 1.1, 1], dtype=torch.float32)  # 클래스별 가중치\n",
    "accumulation_steps = 1\n",
    "# INIT\n",
    "start_epoch = 0\n",
    "best_val_loss = float('inf')\n",
    "best_val_fbeta_score = 0\n",
    "\n",
    "non_random_transforms = Compose([\n",
    "    EnsureChannelFirstd(keys=[\"image\", \"label\"], channel_dim=\"no_channel\"),\n",
    "    Orientationd(keys=[\"image\", \"label\"], axcodes=\"RAS\"),\n",
    "    # GaussianSmoothd(\n",
    "    #     keys=[\"image\"],      # 변환을 적용할 키\n",
    "    #     sigma=[1.0, 1.0, 1.0]  # 각 축(x, y, z)의 시그마 값\n",
    "    #     ),\n",
    "    NormalizeIntensityd(keys=\"image\"),\n",
    "    ])\n",
    "random_transforms = Compose([\n",
    "    RandCropByLabelClassesd(\n",
    "        keys=[\"image\", \"label\"],\n",
    "        label_key=\"label\",\n",
    "        spatial_size=[img_depth, img_size, img_size],\n",
    "        num_classes=n_classes,\n",
    "        num_samples=num_samples, \n",
    "        ratios=ratios_list,\n",
    "    ),\n",
    "    RandRotate90d(keys=[\"image\", \"label\"], prob=0.5, spatial_axes=[1, 2]),\n",
    "    RandFlipd(keys=[\"image\", \"label\"], prob=0.5, spatial_axis=0),\n",
    "    RandFlipd(keys=[\"image\", \"label\"], prob=0.5, spatial_axis=1),\n",
    "    RandFlipd(keys=[\"image\", \"label\"], prob=0.5, spatial_axis=2),\n",
    "])\n"
   ]
  },
  {
   "cell_type": "code",
   "execution_count": 4,
   "metadata": {},
   "outputs": [
    {
     "name": "stderr",
     "output_type": "stream",
     "text": [
      "Loading dataset: 100%|██████████| 39/39 [00:03<00:00, 12.04it/s]\n",
      "Loading dataset: 100%|██████████| 1/1 [00:00<00:00, 11.74it/s]\n"
     ]
    }
   ],
   "source": [
    "train_loader, val_loader = None, None\n",
    "train_loader, val_loader = create_dataloaders_from_csv(\n",
    "    train_csv,\n",
    "    val_csv, \n",
    "    non_random_transforms = non_random_transforms, \n",
    "    random_transforms = random_transforms, \n",
    "    batch_size = loader_batch,\n",
    "    num_workers=0,train_num_repeat=num_repeat, val_num_repeat=val_num_repeat\n",
    "    )"
   ]
  },
  {
   "cell_type": "markdown",
   "metadata": {},
   "source": [
    "https://monai.io/model-zoo.html"
   ]
  },
  {
   "cell_type": "code",
   "execution_count": 5,
   "metadata": {},
   "outputs": [],
   "source": [
    "import torch\n",
    "import torch.nn as nn\n",
    "import torch.nn.functional as F\n",
    "from monai.losses import TverskyLoss\n",
    "\n",
    "# DynamicTverskyLoss 클래스 정의\n",
    "class DynamicTverskyLoss(TverskyLoss):\n",
    "    def __init__(self, lamda=0.5, **kwargs):\n",
    "        super().__init__(alpha=1 - lamda, beta=lamda, **kwargs)\n",
    "        self.lamda = lamda\n",
    "\n",
    "    def set_lamda(self, lamda):\n",
    "        self.lamda = lamda\n",
    "        self.alpha = 1 - lamda\n",
    "        self.beta = lamda\n",
    "\n",
    "\n",
    "# CombinedCETverskyLoss 클래스\n",
    "class CombinedCETverskyLoss(nn.Module):\n",
    "    def __init__(self, lamda=0.5, ce_weight=0.5, n_classes=7, class_weights=None, ignore_index=-1, **kwargs):\n",
    "        super().__init__()\n",
    "        self.n_classes = n_classes\n",
    "        self.ce_weight = ce_weight\n",
    "        self.ignore_index = ignore_index\n",
    "        \n",
    "        # CrossEntropyLoss에서 클래스별 가중치를 적용\n",
    "        self.ce = nn.CrossEntropyLoss(weight=class_weights, ignore_index=self.ignore_index, reduction='mean', **kwargs)\n",
    "        \n",
    "        # TverskyLoss\n",
    "        self.tversky = DynamicTverskyLoss(lamda=lamda, reduction=\"none\",softmax=True, **kwargs)\n",
    "\n",
    "    def forward(self, inputs, targets):\n",
    "        \n",
    "        # CrossEntropyLoss는 정수형 클래스 인덱스를 사용\n",
    "        ce_loss = self.ce(inputs, targets)\n",
    "\n",
    "        # TverskyLoss 계산 (원핫 인코딩된 라벨을 사용)\n",
    "        \n",
    "        tversky_loss = self.tversky(inputs, targets)\n",
    "\n",
    "        # 클래스별 가중치 적용 (Tversky 손실에도 가중치를 곱하기)\n",
    "        class_weights = torch.tensor(self.ce.weight)  # CrossEntropy의 weight를 사용\n",
    "\n",
    "        # Tversky 손실이 (B, num_classes) 형태이므로, 가중치를 클래스 차원에 곱합니다.\n",
    "        tversky_loss = tversky_loss * class_weights.view(1, self.n_classes)\n",
    "\n",
    "        # 최종 손실 계산\n",
    "        final_loss = self.ce_weight * ce_loss + (1 - self.ce_weight) * tversky_loss.mean()  # mean()으로 배치에 대해 평균\n",
    "        return final_loss\n",
    "\n",
    "    def set_lamda(self, lamda):\n",
    "        self.tversky.set_lamda(lamda)\n",
    "\n",
    "    @property\n",
    "    def lamda(self):\n",
    "        return self.tversky.lamda\n"
   ]
  },
  {
   "cell_type": "markdown",
   "metadata": {},
   "source": [
    "# 모델 선언"
   ]
  },
  {
   "cell_type": "code",
   "execution_count": 6,
   "metadata": {},
   "outputs": [],
   "source": [
    "import torch.optim as optim\n",
    "from tqdm import tqdm\n",
    "import numpy as np\n",
    "import torch\n",
    "from pathlib import Path\n",
    "from monai.metrics import DiceMetric\n",
    "\n",
    "device = torch.device(\"cuda\" if torch.cuda.is_available() else \"cpu\")\n",
    "\n",
    "model = UNet(\n",
    "    spatial_dims=3,\n",
    "    in_channels=1,\n",
    "    out_channels=n_classes,\n",
    "    channels=feature_size,\n",
    "    strides=(2,2,2),\n",
    "    dropout=dropout,\n",
    ").to(device)\n",
    "# Pretrained weights 불러오기\n",
    "# if use_checkpoint:\n",
    "#     pretrain_path = \"./swin_unetr_btcv_segmentation/models/model.pt\"\n",
    "#     weight = torch.load(pretrain_path, map_location=device)\n",
    "\n",
    "#     # 출력 레이어의 키를 제외한 나머지 가중치만 로드\n",
    "#     filtered_weights = {k: v for k, v in weight.items() if \"out.conv.conv\" not in k}\n",
    "\n",
    "#     # strict=False로 로드하여 불일치하는 부분 무시\n",
    "#     model.load_state_dict(filtered_weights, strict=False)\n",
    "#     print(\"Filtered weights loaded successfully. Output layer will be trained from scratch.\")\n",
    "\n",
    "# Load pretrained weights\n",
    "# model.load_from(weights=np.load(config_vit.real_pretrained_path, allow_pickle=True))\n",
    "# TverskyLoss 설정\n",
    "# 사용 예시\n",
    "criterion = CombinedCETverskyLoss(\n",
    "    lamda=lamda,\n",
    "    ce_weight=ce_weight,\n",
    "    n_classes=n_classes,\n",
    "    class_weights=class_weights,\n",
    "    \n",
    ").to(device)\n",
    "\n",
    "pretrain_str = \"yes\" if use_checkpoint else \"no\"\n",
    "weight_str = \"weighted\" if class_weights is not None else \"\"\n",
    "\n",
    "# 체크포인트 디렉토리 및 파일 설정\n",
    "checkpoint_base_dir = Path(\"./model_checkpoints\")\n",
    "folder_name = f\"UNet_bw{str(class_weights[0]).replace(\".\",\"_\")}_a{accumulation_steps}_{img_size}x{img_size}x{img_size}_e{num_epochs}_lr{lr}_lamda{lamda}_ce{ce_weight}_{pretrain_str}_{weight_str}\"\n",
    "checkpoint_dir = checkpoint_base_dir / folder_name\n",
    "optimizer = optim.AdamW(model.parameters(), lr=lr, weight_decay=1e-5)\n",
    "scheduler = torch.optim.lr_scheduler.ReduceLROnPlateau(optimizer, patience=5, factor=0.5)\n",
    "# 체크포인트 디렉토리 생성\n",
    "checkpoint_dir.mkdir(parents=True, exist_ok=True)\n",
    "\n",
    "if checkpoint_dir.exists():\n",
    "    best_model_path = checkpoint_dir / 'best_model.pt'\n",
    "    if best_model_path.exists():\n",
    "        print(f\"기존 best model 발견: {best_model_path}\")\n",
    "        try:\n",
    "            checkpoint = torch.load(best_model_path, map_location=device)\n",
    "            # 체크포인트 내부 키 검증\n",
    "            required_keys = ['model_state_dict', 'optimizer_state_dict', 'epoch', 'best_val_loss']\n",
    "            if all(k in checkpoint for k in required_keys):\n",
    "                model.load_state_dict(checkpoint['model_state_dict'])\n",
    "                optimizer.load_state_dict(checkpoint['optimizer_state_dict'])\n",
    "                start_epoch = checkpoint['epoch']\n",
    "                best_val_loss = checkpoint['best_val_loss']\n",
    "                print(\"기존 학습된 가중치를 성공적으로 로드했습니다.\")\n",
    "                checkpoint= None\n",
    "            else:\n",
    "                raise ValueError(\"체크포인트 파일에 필요한 key가 없습니다.\")\n",
    "        except Exception as e:\n",
    "            print(f\"체크포인트 파일을 로드하는 중 오류 발생: {e}\")"
   ]
  },
  {
   "cell_type": "code",
   "execution_count": 7,
   "metadata": {},
   "outputs": [],
   "source": [
    "# batch = next(iter(val_loader))\n",
    "# images, labels = batch[\"image\"], batch[\"label\"]\n",
    "# print(images.shape, labels.shape)"
   ]
  },
  {
   "cell_type": "code",
   "execution_count": 8,
   "metadata": {},
   "outputs": [],
   "source": [
    "torch.backends.cudnn.benchmark = True"
   ]
  },
  {
   "cell_type": "code",
   "execution_count": 9,
   "metadata": {},
   "outputs": [
    {
     "name": "stderr",
     "output_type": "stream",
     "text": [
      "\u001b[34m\u001b[1mwandb\u001b[0m: Currently logged in as: \u001b[33mwoow070840\u001b[0m (\u001b[33mwaooang\u001b[0m). Use \u001b[1m`wandb login --relogin`\u001b[0m to force relogin\n",
      "\u001b[34m\u001b[1mwandb\u001b[0m: Using wandb-core as the SDK backend.  Please refer to https://wandb.me/wandb-core for more information.\n"
     ]
    },
    {
     "data": {
      "text/html": [
       "Tracking run with wandb version 0.19.2"
      ],
      "text/plain": [
       "<IPython.core.display.HTML object>"
      ]
     },
     "metadata": {},
     "output_type": "display_data"
    },
    {
     "data": {
      "text/html": [
       "Run data is saved locally in <code>e:\\Workspace\\czll\\wandb\\run-20250116_121324-sx6s27po</code>"
      ],
      "text/plain": [
       "<IPython.core.display.HTML object>"
      ]
     },
     "metadata": {},
     "output_type": "display_data"
    },
    {
     "data": {
      "text/html": [
       "Syncing run <strong><a href='https://wandb.ai/waooang/czii_SwinUnetR/runs/sx6s27po' target=\"_blank\">UNet_newloss_a1_96x96x96_e4000_lr0.001_lamda0.52_ce0.4_no_weighted</a></strong> to <a href='https://wandb.ai/waooang/czii_SwinUnetR' target=\"_blank\">Weights & Biases</a> (<a href='https://wandb.me/developer-guide' target=\"_blank\">docs</a>)<br>"
      ],
      "text/plain": [
       "<IPython.core.display.HTML object>"
      ]
     },
     "metadata": {},
     "output_type": "display_data"
    },
    {
     "data": {
      "text/html": [
       " View project at <a href='https://wandb.ai/waooang/czii_SwinUnetR' target=\"_blank\">https://wandb.ai/waooang/czii_SwinUnetR</a>"
      ],
      "text/plain": [
       "<IPython.core.display.HTML object>"
      ]
     },
     "metadata": {},
     "output_type": "display_data"
    },
    {
     "data": {
      "text/html": [
       " View run at <a href='https://wandb.ai/waooang/czii_SwinUnetR/runs/sx6s27po' target=\"_blank\">https://wandb.ai/waooang/czii_SwinUnetR/runs/sx6s27po</a>"
      ],
      "text/plain": [
       "<IPython.core.display.HTML object>"
      ]
     },
     "metadata": {},
     "output_type": "display_data"
    }
   ],
   "source": [
    "import wandb\n",
    "from datetime import datetime\n",
    "\n",
    "current_time = datetime.now().strftime('%Y%m%d_%H%M%S')\n",
    "run_name = folder_name\n",
    "\n",
    "# wandb 초기화\n",
    "wandb.init(\n",
    "    project='czii_SwinUnetR',  # 프로젝트 이름 설정\n",
    "    name=run_name,         # 실행(run) 이름 설정\n",
    "    config={\n",
    "        'num_epochs': num_epochs,\n",
    "        'learning_rate': lr,\n",
    "        'batch_size': batch_size,\n",
    "        'lambda': lamda,\n",
    "        \"cross_entropy_weight\": ce_weight,\n",
    "        'feature_size': feature_size,\n",
    "        'img_size': img_size,\n",
    "        'sampling_ratio': ratios_list,\n",
    "        'device': device.type,\n",
    "        \"checkpoint_dir\": str(checkpoint_dir),\n",
    "        \"class_weights\": class_weights.tolist() if class_weights is not None else None,\n",
    "        \"use_checkpoint\": use_checkpoint,\n",
    "        \"dropout\": dropout,        \n",
    "        \"accumulation_steps\": accumulation_steps,\n",
    "        \"num_repeat\": num_repeat,\n",
    "        \n",
    "        # 필요한 하이퍼파라미터 추가\n",
    "    }\n",
    ")\n",
    "# 모델을 wandb에 연결\n",
    "wandb.watch(model, log='all')"
   ]
  },
  {
   "cell_type": "markdown",
   "metadata": {},
   "source": [
    "# 학습"
   ]
  },
  {
   "cell_type": "code",
   "execution_count": 10,
   "metadata": {},
   "outputs": [],
   "source": [
    "from monai.metrics import DiceMetric\n",
    "    \n",
    "def processing(batch_data, model, criterion, device):\n",
    "    images = batch_data['image'].to(device)  # Input 이미지 (B, 1, 96, 96, 96)\n",
    "    labels = batch_data['label'].to(device)  # 라벨 (B, 96, 96, 96)\n",
    "\n",
    "    labels = labels.squeeze(1)  # (B, 1, 96, 96, 96) → (B, 96, 96, 96)\n",
    "    labels = labels.long()  # 라벨을 정수형으로 변환\n",
    "\n",
    "    # 원핫 인코딩 (B, H, W, D) → (B, num_classes, H, W, D)\n",
    "    \n",
    "    labels_onehot = torch.nn.functional.one_hot(labels, num_classes=n_classes)\n",
    "    labels_onehot = labels_onehot.permute(0, 4, 1, 2, 3).float()  # (B, num_classes, H, W, D)\n",
    "\n",
    "    # 모델 예측\n",
    "    outputs = model(images)  # outputs: (B, num_classes, H, W, D)\n",
    "\n",
    "    # Loss 계산\n",
    "    # loss = criterion(outputs, labels_onehot)\n",
    "    loss = criterion(outputs, labels_onehot)\n",
    "    return loss, outputs, labels, outputs.argmax(dim=1)\n",
    "\n",
    "def train_one_epoch(model, train_loader, criterion, optimizer, device, epoch, accumulation_steps=4):\n",
    "    model.train()\n",
    "    epoch_loss = 0\n",
    "    optimizer.zero_grad()  # 그래디언트 초기화\n",
    "    with tqdm(train_loader, desc='Training') as pbar:\n",
    "        for i, batch_data in enumerate(pbar):\n",
    "            # 손실 계산\n",
    "            loss, _, _, _ = processing(batch_data, model, criterion, device)\n",
    "\n",
    "            # 그래디언트를 계산하고 누적\n",
    "            loss = loss / accumulation_steps  # 그래디언트 누적을 위한 스케일링\n",
    "            loss.backward()  # 그래디언트 계산 및 누적\n",
    "            \n",
    "            # 그래디언트 업데이트 (accumulation_steps마다 한 번)\n",
    "            if (i + 1) % accumulation_steps == 0 or (i + 1) == len(train_loader):\n",
    "                optimizer.step()  # 파라미터 업데이트\n",
    "                optimizer.zero_grad()  # 누적된 그래디언트 초기화\n",
    "            \n",
    "            # 손실값 누적 (스케일링 복구)\n",
    "            epoch_loss += loss.item() * accumulation_steps  # 실제 손실값 반영\n",
    "            pbar.set_postfix(loss=loss.item() * accumulation_steps)  # 실제 손실값 출력\n",
    "    avg_loss = epoch_loss / len(train_loader)\n",
    "    wandb.log({'train_epoch_loss': avg_loss, 'epoch': epoch + 1})\n",
    "    return avg_loss\n",
    "\n",
    "\n",
    "def validate_one_epoch(model, val_loader, criterion, device, epoch, calculate_dice_interval):\n",
    "    model.eval()\n",
    "    val_loss = 0\n",
    "    \n",
    "    class_dice_scores = {i: [] for i in range(n_classes)}\n",
    "    class_f_beta_scores = {i: [] for i in range(n_classes)}\n",
    "    with torch.no_grad():\n",
    "        with tqdm(val_loader, desc='Validation') as pbar:\n",
    "            for batch_data in pbar:\n",
    "                loss, _, labels, preds = processing(batch_data, model, criterion, device)\n",
    "                val_loss += loss.item()\n",
    "                pbar.set_postfix(loss=loss.item())\n",
    "\n",
    "                # 각 클래스별 Dice 점수 계산\n",
    "                if epoch % calculate_dice_interval == 0:\n",
    "                    for i in range(n_classes):\n",
    "                        pred_i = (preds == i)\n",
    "                        label_i = (labels == i)\n",
    "                        dice_score = (2.0 * torch.sum(pred_i & label_i)) / (torch.sum(pred_i) + torch.sum(label_i) + 1e-8)\n",
    "                        class_dice_scores[i].append(dice_score.item())\n",
    "                        precision = (torch.sum(pred_i & label_i) + 1e-8) / (torch.sum(pred_i) + 1e-8)\n",
    "                        recall = (torch.sum(pred_i & label_i) + 1e-8) / (torch.sum(label_i) + 1e-8)\n",
    "                        f_beta_score = (1 + 4**2) * (precision * recall) / (4**2 * precision + recall + 1e-8)\n",
    "                        class_f_beta_scores[i].append(f_beta_score.item())\n",
    "\n",
    "    avg_loss = val_loss / len(val_loader)\n",
    "    # 에포크별 평균 손실 로깅\n",
    "    wandb.log({'val_epoch_loss': avg_loss, 'epoch': epoch + 1})\n",
    "    \n",
    "    # 각 클래스별 평균 Dice 점수 출력\n",
    "    if epoch % calculate_dice_interval == 0:\n",
    "        print(\"Validation Dice Score\")\n",
    "        all_classes_dice_scores = []\n",
    "        for i in range(n_classes):\n",
    "            mean_dice = np.mean(class_dice_scores[i])\n",
    "            wandb.log({f'class_{i}_dice_score': mean_dice, 'epoch': epoch + 1})\n",
    "            print(f\"Class {i}: {mean_dice:.4f}\", end=\", \")\n",
    "            if i not in [0, 2]:  # 평균에 포함할 클래스만 추가\n",
    "                all_classes_dice_scores.append(mean_dice)\n",
    "            \n",
    "        print()\n",
    "    if epoch % calculate_dice_interval == 0:\n",
    "        print(\"Validation F-beta Score\")\n",
    "        all_classes_fbeta_scores = []\n",
    "        for i in range(n_classes):\n",
    "            mean_fbeta = np.mean(class_f_beta_scores[i])\n",
    "            wandb.log({f'class_{i}_f_beta_score': mean_fbeta, 'epoch': epoch + 1})\n",
    "            print(f\"Class {i}: {mean_fbeta:.4f}\", end=\", \")\n",
    "            if i not in [0, 2]:  # 평균에 포함할 클래스만 추가\n",
    "                all_classes_fbeta_scores.append(mean_fbeta)\n",
    "        print()\n",
    "        overall_mean_dice = np.mean(all_classes_dice_scores)\n",
    "        overall_mean_fbeta = np.mean(all_classes_fbeta_scores)\n",
    "        wandb.log({'overall_mean_f_beta_score': overall_mean_fbeta, 'overall_mean_dice_score': overall_mean_dice, 'epoch': epoch + 1})\n",
    "        print(f\"\\nOverall Mean Dice Score: {overall_mean_dice:.4f}\\nOverall Mean F-beta Score: {overall_mean_fbeta:.4f}\\n\")\n",
    "\n",
    "    if overall_mean_fbeta is None:\n",
    "        overall_mean_fbeta = 0\n",
    "\n",
    "    return val_loss / len(val_loader), overall_mean_fbeta\n",
    "\n",
    "def train_model(\n",
    "    model, train_loader, val_loader, criterion, optimizer, num_epochs, patience, \n",
    "    device, start_epoch, best_val_loss, best_val_fbeta_score, calculate_dice_interval=1,\n",
    "    accumulation_steps=4\n",
    "):\n",
    "    \"\"\"\n",
    "    모델을 학습하고 검증하는 함수\n",
    "    Args:\n",
    "        model: 학습할 모델\n",
    "        train_loader: 학습 데이터 로더\n",
    "        val_loader: 검증 데이터 로더\n",
    "        criterion: 손실 함수\n",
    "        optimizer: 최적화 알고리즘\n",
    "        num_epochs: 총 학습 epoch 수\n",
    "        patience: early stopping 기준\n",
    "        device: GPU/CPU 장치\n",
    "        start_epoch: 시작 epoch\n",
    "        best_val_loss: 이전 최적 validation loss\n",
    "        best_val_fbeta_score: 이전 최적 validation f-beta score\n",
    "        calculate_dice_interval: Dice 점수 계산 주기\n",
    "    \"\"\"\n",
    "    epochs_no_improve = 0\n",
    "\n",
    "    for epoch in range(start_epoch, num_epochs):\n",
    "        print(f\"Epoch {epoch + 1}/{num_epochs}\")\n",
    "\n",
    "        # Train One Epoch\n",
    "        train_loss = train_one_epoch(\n",
    "            model=model, \n",
    "            train_loader=train_loader, \n",
    "            criterion=criterion, \n",
    "            optimizer=optimizer, \n",
    "            device=device,\n",
    "            epoch=epoch,\n",
    "            accumulation_steps= accumulation_steps\n",
    "        )\n",
    "        \n",
    "        scheduler.step(train_loss)\n",
    "        # Validate One Epoch\n",
    "        val_loss, overall_mean_fbeta_score = validate_one_epoch(\n",
    "            model=model, \n",
    "            val_loader=val_loader, \n",
    "            criterion=criterion, \n",
    "            device=device, \n",
    "            epoch=epoch, \n",
    "            calculate_dice_interval=calculate_dice_interval\n",
    "        )\n",
    "\n",
    "        \n",
    "        print(f\"Training Loss: {train_loss:.4f}, Validation Loss: {val_loss:.4f}, Validation F-beta: {overall_mean_fbeta_score:.4f}\")\n",
    "\n",
    "        if val_loss < best_val_loss and overall_mean_fbeta_score > best_val_fbeta_score:\n",
    "            best_val_loss = val_loss\n",
    "            best_val_fbeta_score = overall_mean_fbeta_score\n",
    "            epochs_no_improve = 0\n",
    "            checkpoint_path = os.path.join(checkpoint_dir, 'best_model.pt')\n",
    "            torch.save({\n",
    "                'epoch': epoch + 1,\n",
    "                'model_state_dict': model.state_dict(),\n",
    "                'optimizer_state_dict': optimizer.state_dict(),\n",
    "                'best_val_loss': best_val_loss,\n",
    "                'best_val_fbeta_score': best_val_fbeta_score\n",
    "            }, checkpoint_path)\n",
    "            print(f\"========================================================\")\n",
    "            print(f\"SUPER Best model saved. Loss:{best_val_loss:.4f}, Score:{best_val_fbeta_score:.4f}\")\n",
    "            print(f\"========================================================\")\n",
    "\n",
    "        # Early stopping 조건 체크\n",
    "        if val_loss >= best_val_loss and overall_mean_fbeta_score <= best_val_fbeta_score:\n",
    "            epochs_no_improve += 1\n",
    "        else:\n",
    "            epochs_no_improve = 0\n",
    "\n",
    "        if epochs_no_improve >= patience:\n",
    "            print(\"Early stopping\")\n",
    "            checkpoint_path = os.path.join(checkpoint_dir, 'last.pt')\n",
    "            torch.save({\n",
    "                'epoch': epoch + 1,\n",
    "                'model_state_dict': model.state_dict(),\n",
    "                'optimizer_state_dict': optimizer.state_dict(),\n",
    "                'best_val_loss': best_val_loss,\n",
    "                'best_val_fbeta_score': best_val_fbeta_score\n",
    "            }, checkpoint_path)\n",
    "            break\n",
    "        # if epochs_no_improve%6 == 0:\n",
    "        #     # 손실이 개선되지 않았으므로 lambda 감소\n",
    "        #     new_lamda = max(criterion.lamda - 0.01, 0.1)  # 최소값은 0.1로 설정\n",
    "        #     criterion.set_lamda(new_lamda)\n",
    "        #     print(f\"Validation loss did not improve. Reducing lambda to {new_lamda:.4f}\")\n",
    "\n",
    "    wandb.finish()\n"
   ]
  },
  {
   "cell_type": "code",
   "execution_count": 11,
   "metadata": {},
   "outputs": [
    {
     "name": "stdout",
     "output_type": "stream",
     "text": [
      "Epoch 1/4000\n"
     ]
    },
    {
     "name": "stderr",
     "output_type": "stream",
     "text": [
      "Training:   0%|          | 0/117 [00:00<?, ?it/s]C:\\Users\\Seungwoo\\AppData\\Local\\Temp\\ipykernel_30864\\1427967554.py:42: UserWarning: To copy construct from a tensor, it is recommended to use sourceTensor.clone().detach() or sourceTensor.clone().detach().requires_grad_(True), rather than torch.tensor(sourceTensor).\n",
      "  class_weights = torch.tensor(self.ce.weight)  # CrossEntropy의 weight를 사용\n",
      "Training: 100%|██████████| 117/117 [01:04<00:00,  1.81it/s, loss=0.432]\n",
      "Validation: 100%|██████████| 5/5 [00:02<00:00,  2.24it/s, loss=0.447]\n"
     ]
    },
    {
     "name": "stdout",
     "output_type": "stream",
     "text": [
      "Validation Dice Score\n",
      "Class 0: 0.9751, Class 1: 0.0033, Class 2: 0.0000, Class 3: 0.0848, Class 4: 0.3168, Class 5: 0.1291, Class 6: 0.0377, \n",
      "Validation F-beta Score\n",
      "Class 0: 0.9616, Class 1: 0.0019, Class 2: 0.0000, Class 3: 0.1525, Class 4: 0.6432, Class 5: 0.1048, Class 6: 0.0367, \n",
      "\n",
      "Overall Mean Dice Score: 0.1144\n",
      "Overall Mean F-beta Score: 0.1878\n",
      "\n",
      "Training Loss: 0.4726, Validation Loss: 0.4499, Validation F-beta: 0.1878\n",
      "========================================================\n",
      "SUPER Best model saved. Loss:0.4499, Score:0.1878\n",
      "========================================================\n",
      "Epoch 2/4000\n"
     ]
    },
    {
     "name": "stderr",
     "output_type": "stream",
     "text": [
      "Training: 100%|██████████| 117/117 [00:56<00:00,  2.07it/s, loss=0.402]\n",
      "Validation: 100%|██████████| 5/5 [00:01<00:00,  2.60it/s, loss=0.431]\n"
     ]
    },
    {
     "name": "stdout",
     "output_type": "stream",
     "text": [
      "Validation Dice Score\n",
      "Class 0: 0.9734, Class 1: 0.0364, Class 2: 0.0000, Class 3: 0.0807, Class 4: 0.3956, Class 5: 0.1721, Class 6: 0.4099, \n",
      "Validation F-beta Score\n",
      "Class 0: 0.9560, Class 1: 0.0600, Class 2: 0.0000, Class 3: 0.2872, Class 4: 0.7505, Class 5: 0.1889, Class 6: 0.4750, \n",
      "\n",
      "Overall Mean Dice Score: 0.2190\n",
      "Overall Mean F-beta Score: 0.3523\n",
      "\n",
      "Training Loss: 0.4273, Validation Loss: 0.4230, Validation F-beta: 0.3523\n",
      "========================================================\n",
      "SUPER Best model saved. Loss:0.4230, Score:0.3523\n",
      "========================================================\n",
      "Epoch 3/4000\n"
     ]
    },
    {
     "name": "stderr",
     "output_type": "stream",
     "text": [
      "Training: 100%|██████████| 117/117 [00:54<00:00,  2.15it/s, loss=0.376]\n",
      "Validation: 100%|██████████| 5/5 [00:01<00:00,  2.51it/s, loss=0.4]  \n"
     ]
    },
    {
     "name": "stdout",
     "output_type": "stream",
     "text": [
      "Validation Dice Score\n",
      "Class 0: 0.9766, Class 1: 0.0571, Class 2: 0.0000, Class 3: 0.1330, Class 4: 0.4250, Class 5: 0.2504, Class 6: 0.6824, \n",
      "Validation F-beta Score\n",
      "Class 0: 0.9624, Class 1: 0.1812, Class 2: 0.0000, Class 3: 0.2820, Class 4: 0.7377, Class 5: 0.2932, Class 6: 0.6299, \n",
      "\n",
      "Overall Mean Dice Score: 0.3096\n",
      "Overall Mean F-beta Score: 0.4248\n",
      "\n",
      "Training Loss: 0.3996, Validation Loss: 0.4019, Validation F-beta: 0.4248\n",
      "========================================================\n",
      "SUPER Best model saved. Loss:0.4019, Score:0.4248\n",
      "========================================================\n",
      "Epoch 4/4000\n"
     ]
    },
    {
     "name": "stderr",
     "output_type": "stream",
     "text": [
      "Training: 100%|██████████| 117/117 [00:54<00:00,  2.14it/s, loss=0.35] \n",
      "Validation: 100%|██████████| 5/5 [00:01<00:00,  2.55it/s, loss=0.378]\n"
     ]
    },
    {
     "name": "stdout",
     "output_type": "stream",
     "text": [
      "Validation Dice Score\n",
      "Class 0: 0.9776, Class 1: 0.1691, Class 2: 0.0000, Class 3: 0.1656, Class 4: 0.4759, Class 5: 0.2962, Class 6: 0.5974, \n",
      "Validation F-beta Score\n",
      "Class 0: 0.9640, Class 1: 0.2612, Class 2: 0.0000, Class 3: 0.3611, Class 4: 0.7439, Class 5: 0.4857, Class 6: 0.4724, \n",
      "\n",
      "Overall Mean Dice Score: 0.3408\n",
      "Overall Mean F-beta Score: 0.4649\n",
      "\n",
      "Training Loss: 0.3872, Validation Loss: 0.3850, Validation F-beta: 0.4649\n",
      "========================================================\n",
      "SUPER Best model saved. Loss:0.3850, Score:0.4649\n",
      "========================================================\n",
      "Epoch 5/4000\n"
     ]
    },
    {
     "name": "stderr",
     "output_type": "stream",
     "text": [
      "Training: 100%|██████████| 117/117 [00:55<00:00,  2.13it/s, loss=0.357]\n",
      "Validation: 100%|██████████| 5/5 [00:02<00:00,  2.46it/s, loss=0.388]\n"
     ]
    },
    {
     "name": "stdout",
     "output_type": "stream",
     "text": [
      "Validation Dice Score\n",
      "Class 0: 0.9808, Class 1: 0.3064, Class 2: 0.0000, Class 3: 0.1667, Class 4: 0.4549, Class 5: 0.3198, Class 6: 0.7388, \n",
      "Validation F-beta Score\n",
      "Class 0: 0.9687, Class 1: 0.3374, Class 2: 0.0000, Class 3: 0.3003, Class 4: 0.7831, Class 5: 0.4995, Class 6: 0.7415, \n",
      "\n",
      "Overall Mean Dice Score: 0.3973\n",
      "Overall Mean F-beta Score: 0.5323\n",
      "\n",
      "Training Loss: 0.3769, Validation Loss: 0.3694, Validation F-beta: 0.5323\n",
      "========================================================\n",
      "SUPER Best model saved. Loss:0.3694, Score:0.5323\n",
      "========================================================\n",
      "Epoch 6/4000\n"
     ]
    },
    {
     "name": "stderr",
     "output_type": "stream",
     "text": [
      "Training: 100%|██████████| 117/117 [00:55<00:00,  2.12it/s, loss=0.354]\n",
      "Validation: 100%|██████████| 5/5 [00:02<00:00,  2.49it/s, loss=0.373]\n"
     ]
    },
    {
     "name": "stdout",
     "output_type": "stream",
     "text": [
      "Validation Dice Score\n",
      "Class 0: 0.9772, Class 1: 0.4313, Class 2: 0.0000, Class 3: 0.1866, Class 4: 0.5518, Class 5: 0.2893, Class 6: 0.6202, \n",
      "Validation F-beta Score\n",
      "Class 0: 0.9625, Class 1: 0.5147, Class 2: 0.0000, Class 3: 0.3107, Class 4: 0.7921, Class 5: 0.5334, Class 6: 0.6478, \n",
      "\n",
      "Overall Mean Dice Score: 0.4159\n",
      "Overall Mean F-beta Score: 0.5598\n",
      "\n",
      "Training Loss: 0.3720, Validation Loss: 0.3749, Validation F-beta: 0.5598\n",
      "Epoch 7/4000\n"
     ]
    },
    {
     "name": "stderr",
     "output_type": "stream",
     "text": [
      "Training: 100%|██████████| 117/117 [00:54<00:00,  2.17it/s, loss=0.344]\n",
      "Validation: 100%|██████████| 5/5 [00:01<00:00,  2.53it/s, loss=0.36] \n"
     ]
    },
    {
     "name": "stdout",
     "output_type": "stream",
     "text": [
      "Validation Dice Score\n",
      "Class 0: 0.9809, Class 1: 0.4248, Class 2: 0.0000, Class 3: 0.2129, Class 4: 0.5363, Class 5: 0.3328, Class 6: 0.8162, \n",
      "Validation F-beta Score\n",
      "Class 0: 0.9687, Class 1: 0.4171, Class 2: 0.0000, Class 3: 0.4013, Class 4: 0.8127, Class 5: 0.5683, Class 6: 0.8375, \n",
      "\n",
      "Overall Mean Dice Score: 0.4646\n",
      "Overall Mean F-beta Score: 0.6074\n",
      "\n",
      "Training Loss: 0.3627, Validation Loss: 0.3575, Validation F-beta: 0.6074\n",
      "========================================================\n",
      "SUPER Best model saved. Loss:0.3575, Score:0.6074\n",
      "========================================================\n",
      "Epoch 8/4000\n"
     ]
    },
    {
     "name": "stderr",
     "output_type": "stream",
     "text": [
      "Training: 100%|██████████| 117/117 [00:54<00:00,  2.15it/s, loss=0.341]\n",
      "Validation: 100%|██████████| 5/5 [00:01<00:00,  2.62it/s, loss=0.367]\n"
     ]
    },
    {
     "name": "stdout",
     "output_type": "stream",
     "text": [
      "Validation Dice Score\n",
      "Class 0: 0.9796, Class 1: 0.4170, Class 2: 0.0046, Class 3: 0.1829, Class 4: 0.5457, Class 5: 0.3661, Class 6: 0.8395, \n",
      "Validation F-beta Score\n",
      "Class 0: 0.9667, Class 1: 0.4988, Class 2: 0.0025, Class 3: 0.3397, Class 4: 0.8094, Class 5: 0.5558, Class 6: 0.8793, \n",
      "\n",
      "Overall Mean Dice Score: 0.4702\n",
      "Overall Mean F-beta Score: 0.6166\n",
      "\n",
      "Training Loss: 0.3583, Validation Loss: 0.3523, Validation F-beta: 0.6166\n",
      "========================================================\n",
      "SUPER Best model saved. Loss:0.3523, Score:0.6166\n",
      "========================================================\n",
      "Epoch 9/4000\n"
     ]
    },
    {
     "name": "stderr",
     "output_type": "stream",
     "text": [
      "Training: 100%|██████████| 117/117 [00:55<00:00,  2.12it/s, loss=0.315]\n",
      "Validation: 100%|██████████| 5/5 [00:02<00:00,  2.41it/s, loss=0.346]\n"
     ]
    },
    {
     "name": "stdout",
     "output_type": "stream",
     "text": [
      "Validation Dice Score\n",
      "Class 0: 0.9829, Class 1: 0.5426, Class 2: 0.0034, Class 3: 0.2311, Class 4: 0.6084, Class 5: 0.4032, Class 6: 0.8093, \n",
      "Validation F-beta Score\n",
      "Class 0: 0.9728, Class 1: 0.5862, Class 2: 0.0018, Class 3: 0.5002, Class 4: 0.8278, Class 5: 0.5927, Class 6: 0.8279, \n",
      "\n",
      "Overall Mean Dice Score: 0.5189\n",
      "Overall Mean F-beta Score: 0.6669\n",
      "\n",
      "Training Loss: 0.3537, Validation Loss: 0.3364, Validation F-beta: 0.6669\n",
      "========================================================\n",
      "SUPER Best model saved. Loss:0.3364, Score:0.6669\n",
      "========================================================\n",
      "Epoch 10/4000\n"
     ]
    },
    {
     "name": "stderr",
     "output_type": "stream",
     "text": [
      "Training: 100%|██████████| 117/117 [00:55<00:00,  2.12it/s, loss=0.323]\n",
      "Validation: 100%|██████████| 5/5 [00:02<00:00,  2.49it/s, loss=0.346]\n"
     ]
    },
    {
     "name": "stdout",
     "output_type": "stream",
     "text": [
      "Validation Dice Score\n",
      "Class 0: 0.9784, Class 1: 0.5041, Class 2: 0.0263, Class 3: 0.2291, Class 4: 0.4946, Class 5: 0.3609, Class 6: 0.7279, \n",
      "Validation F-beta Score\n",
      "Class 0: 0.9633, Class 1: 0.6256, Class 2: 0.0153, Class 3: 0.4614, Class 4: 0.8367, Class 5: 0.6068, Class 6: 0.8742, \n",
      "\n",
      "Overall Mean Dice Score: 0.4633\n",
      "Overall Mean F-beta Score: 0.6809\n",
      "\n",
      "Training Loss: 0.3516, Validation Loss: 0.3485, Validation F-beta: 0.6809\n",
      "Epoch 11/4000\n"
     ]
    },
    {
     "name": "stderr",
     "output_type": "stream",
     "text": [
      "Training: 100%|██████████| 117/117 [00:54<00:00,  2.14it/s, loss=0.331]\n",
      "Validation: 100%|██████████| 5/5 [00:01<00:00,  2.52it/s, loss=0.359]\n"
     ]
    },
    {
     "name": "stdout",
     "output_type": "stream",
     "text": [
      "Validation Dice Score\n",
      "Class 0: 0.9815, Class 1: 0.5565, Class 2: 0.0234, Class 3: 0.2378, Class 4: 0.5394, Class 5: 0.3840, Class 6: 0.8427, \n",
      "Validation F-beta Score\n",
      "Class 0: 0.9696, Class 1: 0.5609, Class 2: 0.0131, Class 3: 0.4436, Class 4: 0.8145, Class 5: 0.6202, Class 6: 0.8964, \n",
      "\n",
      "Overall Mean Dice Score: 0.5121\n",
      "Overall Mean F-beta Score: 0.6671\n",
      "\n",
      "Training Loss: 0.3480, Validation Loss: 0.3375, Validation F-beta: 0.6671\n",
      "Epoch 12/4000\n"
     ]
    },
    {
     "name": "stderr",
     "output_type": "stream",
     "text": [
      "Training: 100%|██████████| 117/117 [00:55<00:00,  2.12it/s, loss=0.34] \n",
      "Validation: 100%|██████████| 5/5 [00:02<00:00,  2.43it/s, loss=0.336]\n"
     ]
    },
    {
     "name": "stdout",
     "output_type": "stream",
     "text": [
      "Validation Dice Score\n",
      "Class 0: 0.9812, Class 1: 0.5838, Class 2: 0.0427, Class 3: 0.1967, Class 4: 0.5693, Class 5: 0.3565, Class 6: 0.7633, \n",
      "Validation F-beta Score\n",
      "Class 0: 0.9694, Class 1: 0.6546, Class 2: 0.0254, Class 3: 0.4618, Class 4: 0.8176, Class 5: 0.5465, Class 6: 0.9228, \n",
      "\n",
      "Overall Mean Dice Score: 0.4939\n",
      "Overall Mean F-beta Score: 0.6807\n",
      "\n",
      "Training Loss: 0.3453, Validation Loss: 0.3440, Validation F-beta: 0.6807\n",
      "Epoch 13/4000\n"
     ]
    },
    {
     "name": "stderr",
     "output_type": "stream",
     "text": [
      "Training: 100%|██████████| 117/117 [00:54<00:00,  2.15it/s, loss=0.307]\n",
      "Validation: 100%|██████████| 5/5 [00:02<00:00,  2.47it/s, loss=0.317]\n"
     ]
    },
    {
     "name": "stdout",
     "output_type": "stream",
     "text": [
      "Validation Dice Score\n",
      "Class 0: 0.9826, Class 1: 0.5720, Class 2: 0.0106, Class 3: 0.2900, Class 4: 0.5454, Class 5: 0.3372, Class 6: 0.8210, \n",
      "Validation F-beta Score\n",
      "Class 0: 0.9708, Class 1: 0.6874, Class 2: 0.0057, Class 3: 0.4348, Class 4: 0.8443, Class 5: 0.6048, Class 6: 0.9148, \n",
      "\n",
      "Overall Mean Dice Score: 0.5131\n",
      "Overall Mean F-beta Score: 0.6972\n",
      "\n",
      "Training Loss: 0.3433, Validation Loss: 0.3257, Validation F-beta: 0.6972\n",
      "========================================================\n",
      "SUPER Best model saved. Loss:0.3257, Score:0.6972\n",
      "========================================================\n",
      "Epoch 14/4000\n"
     ]
    },
    {
     "name": "stderr",
     "output_type": "stream",
     "text": [
      "Training: 100%|██████████| 117/117 [00:54<00:00,  2.15it/s, loss=0.288]\n",
      "Validation: 100%|██████████| 5/5 [00:02<00:00,  2.43it/s, loss=0.339]\n"
     ]
    },
    {
     "name": "stdout",
     "output_type": "stream",
     "text": [
      "Validation Dice Score\n",
      "Class 0: 0.9818, Class 1: 0.6482, Class 2: 0.0399, Class 3: 0.2605, Class 4: 0.6091, Class 5: 0.3880, Class 6: 0.8054, \n",
      "Validation F-beta Score\n",
      "Class 0: 0.9709, Class 1: 0.6962, Class 2: 0.0232, Class 3: 0.4823, Class 4: 0.8406, Class 5: 0.5795, Class 6: 0.9381, \n",
      "\n",
      "Overall Mean Dice Score: 0.5422\n",
      "Overall Mean F-beta Score: 0.7073\n",
      "\n",
      "Training Loss: 0.3411, Validation Loss: 0.3248, Validation F-beta: 0.7073\n",
      "========================================================\n",
      "SUPER Best model saved. Loss:0.3248, Score:0.7073\n",
      "========================================================\n",
      "Epoch 15/4000\n"
     ]
    },
    {
     "name": "stderr",
     "output_type": "stream",
     "text": [
      "Training: 100%|██████████| 117/117 [00:54<00:00,  2.14it/s, loss=0.317]\n",
      "Validation: 100%|██████████| 5/5 [00:02<00:00,  2.36it/s, loss=0.334]\n"
     ]
    },
    {
     "name": "stdout",
     "output_type": "stream",
     "text": [
      "Validation Dice Score\n",
      "Class 0: 0.9819, Class 1: 0.5033, Class 2: 0.0914, Class 3: 0.2759, Class 4: 0.5992, Class 5: 0.3851, Class 6: 0.8108, \n",
      "Validation F-beta Score\n",
      "Class 0: 0.9702, Class 1: 0.7433, Class 2: 0.0607, Class 3: 0.5034, Class 4: 0.8681, Class 5: 0.5684, Class 6: 0.9128, \n",
      "\n",
      "Overall Mean Dice Score: 0.5148\n",
      "Overall Mean F-beta Score: 0.7192\n",
      "\n",
      "Training Loss: 0.3398, Validation Loss: 0.3439, Validation F-beta: 0.7192\n",
      "Epoch 16/4000\n"
     ]
    },
    {
     "name": "stderr",
     "output_type": "stream",
     "text": [
      "Training: 100%|██████████| 117/117 [00:54<00:00,  2.15it/s, loss=0.285]\n",
      "Validation: 100%|██████████| 5/5 [00:01<00:00,  2.51it/s, loss=0.312]\n"
     ]
    },
    {
     "name": "stdout",
     "output_type": "stream",
     "text": [
      "Validation Dice Score\n",
      "Class 0: 0.9845, Class 1: 0.6835, Class 2: 0.0370, Class 3: 0.2584, Class 4: 0.6054, Class 5: 0.3947, Class 6: 0.8504, \n",
      "Validation F-beta Score\n",
      "Class 0: 0.9754, Class 1: 0.7175, Class 2: 0.0213, Class 3: 0.5085, Class 4: 0.8508, Class 5: 0.5614, Class 6: 0.9261, \n",
      "\n",
      "Overall Mean Dice Score: 0.5585\n",
      "Overall Mean F-beta Score: 0.7129\n",
      "\n",
      "Training Loss: 0.3368, Validation Loss: 0.3200, Validation F-beta: 0.7129\n",
      "========================================================\n",
      "SUPER Best model saved. Loss:0.3200, Score:0.7129\n",
      "========================================================\n",
      "Epoch 17/4000\n"
     ]
    },
    {
     "name": "stderr",
     "output_type": "stream",
     "text": [
      "Training: 100%|██████████| 117/117 [00:56<00:00,  2.08it/s, loss=0.334]\n",
      "Validation: 100%|██████████| 5/5 [00:01<00:00,  2.53it/s, loss=0.336]\n"
     ]
    },
    {
     "name": "stdout",
     "output_type": "stream",
     "text": [
      "Validation Dice Score\n",
      "Class 0: 0.9823, Class 1: 0.6601, Class 2: 0.0250, Class 3: 0.3010, Class 4: 0.5825, Class 5: 0.3761, Class 6: 0.8000, \n",
      "Validation F-beta Score\n",
      "Class 0: 0.9708, Class 1: 0.6654, Class 2: 0.0137, Class 3: 0.5508, Class 4: 0.8519, Class 5: 0.6118, Class 6: 0.9534, \n",
      "\n",
      "Overall Mean Dice Score: 0.5439\n",
      "Overall Mean F-beta Score: 0.7266\n",
      "\n",
      "Training Loss: 0.3363, Validation Loss: 0.3241, Validation F-beta: 0.7266\n",
      "Epoch 18/4000\n"
     ]
    },
    {
     "name": "stderr",
     "output_type": "stream",
     "text": [
      "Training: 100%|██████████| 117/117 [00:54<00:00,  2.13it/s, loss=0.298]\n",
      "Validation: 100%|██████████| 5/5 [00:01<00:00,  2.53it/s, loss=0.333]\n"
     ]
    },
    {
     "name": "stdout",
     "output_type": "stream",
     "text": [
      "Validation Dice Score\n",
      "Class 0: 0.9821, Class 1: 0.7048, Class 2: 0.0507, Class 3: 0.2813, Class 4: 0.5787, Class 5: 0.3710, Class 6: 0.8331, \n",
      "Validation F-beta Score\n",
      "Class 0: 0.9708, Class 1: 0.7120, Class 2: 0.0298, Class 3: 0.4929, Class 4: 0.8376, Class 5: 0.5776, Class 6: 0.9486, \n",
      "\n",
      "Overall Mean Dice Score: 0.5538\n",
      "Overall Mean F-beta Score: 0.7138\n",
      "\n",
      "Training Loss: 0.3341, Validation Loss: 0.3256, Validation F-beta: 0.7138\n",
      "Epoch 19/4000\n"
     ]
    },
    {
     "name": "stderr",
     "output_type": "stream",
     "text": [
      "Training: 100%|██████████| 117/117 [00:53<00:00,  2.17it/s, loss=0.273]\n",
      "Validation: 100%|██████████| 5/5 [00:01<00:00,  2.50it/s, loss=0.307]\n"
     ]
    },
    {
     "name": "stdout",
     "output_type": "stream",
     "text": [
      "Validation Dice Score\n",
      "Class 0: 0.9847, Class 1: 0.5937, Class 2: 0.0893, Class 3: 0.2913, Class 4: 0.6240, Class 5: 0.3805, Class 6: 0.8547, \n",
      "Validation F-beta Score\n",
      "Class 0: 0.9757, Class 1: 0.7798, Class 2: 0.0559, Class 3: 0.5096, Class 4: 0.8442, Class 5: 0.5492, Class 6: 0.9215, \n",
      "\n",
      "Overall Mean Dice Score: 0.5489\n",
      "Overall Mean F-beta Score: 0.7208\n",
      "\n",
      "Training Loss: 0.3374, Validation Loss: 0.3260, Validation F-beta: 0.7208\n",
      "Epoch 20/4000\n"
     ]
    },
    {
     "name": "stderr",
     "output_type": "stream",
     "text": [
      "Training: 100%|██████████| 117/117 [00:53<00:00,  2.20it/s, loss=0.342]\n",
      "Validation: 100%|██████████| 5/5 [00:02<00:00,  2.45it/s, loss=0.329]\n"
     ]
    },
    {
     "name": "stdout",
     "output_type": "stream",
     "text": [
      "Validation Dice Score\n",
      "Class 0: 0.9823, Class 1: 0.6362, Class 2: 0.1006, Class 3: 0.2579, Class 4: 0.6163, Class 5: 0.3612, Class 6: 0.8437, \n",
      "Validation F-beta Score\n",
      "Class 0: 0.9705, Class 1: 0.7652, Class 2: 0.0698, Class 3: 0.4489, Class 4: 0.8540, Class 5: 0.6314, Class 6: 0.9355, \n",
      "\n",
      "Overall Mean Dice Score: 0.5431\n",
      "Overall Mean F-beta Score: 0.7270\n",
      "\n",
      "Training Loss: 0.3327, Validation Loss: 0.3313, Validation F-beta: 0.7270\n",
      "Epoch 21/4000\n"
     ]
    },
    {
     "name": "stderr",
     "output_type": "stream",
     "text": [
      "Training: 100%|██████████| 117/117 [00:54<00:00,  2.15it/s, loss=0.319]\n",
      "Validation: 100%|██████████| 5/5 [00:02<00:00,  2.48it/s, loss=0.287]\n"
     ]
    },
    {
     "name": "stdout",
     "output_type": "stream",
     "text": [
      "Validation Dice Score\n",
      "Class 0: 0.9833, Class 1: 0.6798, Class 2: 0.1174, Class 3: 0.2997, Class 4: 0.5590, Class 5: 0.3708, Class 6: 0.8237, \n",
      "Validation F-beta Score\n",
      "Class 0: 0.9729, Class 1: 0.7234, Class 2: 0.0719, Class 3: 0.5590, Class 4: 0.8210, Class 5: 0.5805, Class 6: 0.9402, \n",
      "\n",
      "Overall Mean Dice Score: 0.5466\n",
      "Overall Mean F-beta Score: 0.7248\n",
      "\n",
      "Training Loss: 0.3335, Validation Loss: 0.3284, Validation F-beta: 0.7248\n",
      "Epoch 22/4000\n"
     ]
    },
    {
     "name": "stderr",
     "output_type": "stream",
     "text": [
      "Training: 100%|██████████| 117/117 [00:52<00:00,  2.21it/s, loss=0.331]\n",
      "Validation: 100%|██████████| 5/5 [00:01<00:00,  2.59it/s, loss=0.304]\n"
     ]
    },
    {
     "name": "stdout",
     "output_type": "stream",
     "text": [
      "Validation Dice Score\n",
      "Class 0: 0.9882, Class 1: 0.6222, Class 2: 0.1283, Class 3: 0.2595, Class 4: 0.6753, Class 5: 0.3739, Class 6: 0.8524, \n",
      "Validation F-beta Score\n",
      "Class 0: 0.9835, Class 1: 0.7405, Class 2: 0.0907, Class 3: 0.4948, Class 4: 0.7486, Class 5: 0.5081, Class 6: 0.9150, \n",
      "\n",
      "Overall Mean Dice Score: 0.5566\n",
      "Overall Mean F-beta Score: 0.6814\n",
      "\n",
      "Training Loss: 0.3308, Validation Loss: 0.3256, Validation F-beta: 0.6814\n",
      "Epoch 23/4000\n"
     ]
    },
    {
     "name": "stderr",
     "output_type": "stream",
     "text": [
      "Training: 100%|██████████| 117/117 [00:51<00:00,  2.27it/s, loss=0.301]\n",
      "Validation: 100%|██████████| 5/5 [00:01<00:00,  2.72it/s, loss=0.31] \n"
     ]
    },
    {
     "name": "stdout",
     "output_type": "stream",
     "text": [
      "Validation Dice Score\n",
      "Class 0: 0.9807, Class 1: 0.6961, Class 2: 0.0782, Class 3: 0.2997, Class 4: 0.5872, Class 5: 0.3347, Class 6: 0.8255, \n",
      "Validation F-beta Score\n",
      "Class 0: 0.9678, Class 1: 0.7378, Class 2: 0.0505, Class 3: 0.5138, Class 4: 0.8499, Class 5: 0.6050, Class 6: 0.9345, \n",
      "\n",
      "Overall Mean Dice Score: 0.5487\n",
      "Overall Mean F-beta Score: 0.7282\n",
      "\n",
      "Training Loss: 0.3284, Validation Loss: 0.3242, Validation F-beta: 0.7282\n",
      "Epoch 24/4000\n"
     ]
    },
    {
     "name": "stderr",
     "output_type": "stream",
     "text": [
      "Training: 100%|██████████| 117/117 [00:53<00:00,  2.18it/s, loss=0.31] \n",
      "Validation: 100%|██████████| 5/5 [00:01<00:00,  2.52it/s, loss=0.328]\n"
     ]
    },
    {
     "name": "stdout",
     "output_type": "stream",
     "text": [
      "Validation Dice Score\n",
      "Class 0: 0.9870, Class 1: 0.7295, Class 2: 0.0952, Class 3: 0.2190, Class 4: 0.6734, Class 5: 0.3781, Class 6: 0.8988, \n",
      "Validation F-beta Score\n",
      "Class 0: 0.9810, Class 1: 0.7715, Class 2: 0.0589, Class 3: 0.4310, Class 4: 0.8015, Class 5: 0.5485, Class 6: 0.9268, \n",
      "\n",
      "Overall Mean Dice Score: 0.5798\n",
      "Overall Mean F-beta Score: 0.6959\n",
      "\n",
      "Training Loss: 0.3280, Validation Loss: 0.3241, Validation F-beta: 0.6959\n",
      "Epoch 25/4000\n"
     ]
    },
    {
     "name": "stderr",
     "output_type": "stream",
     "text": [
      "Training: 100%|██████████| 117/117 [00:53<00:00,  2.17it/s, loss=0.293]\n",
      "Validation: 100%|██████████| 5/5 [00:01<00:00,  2.60it/s, loss=0.298]\n"
     ]
    },
    {
     "name": "stdout",
     "output_type": "stream",
     "text": [
      "Validation Dice Score\n",
      "Class 0: 0.9863, Class 1: 0.6502, Class 2: 0.0845, Class 3: 0.3105, Class 4: 0.6379, Class 5: 0.4017, Class 6: 0.8426, \n",
      "Validation F-beta Score\n",
      "Class 0: 0.9788, Class 1: 0.7970, Class 2: 0.0530, Class 3: 0.5672, Class 4: 0.8319, Class 5: 0.5768, Class 6: 0.9351, \n",
      "\n",
      "Overall Mean Dice Score: 0.5686\n",
      "Overall Mean F-beta Score: 0.7416\n",
      "\n",
      "Training Loss: 0.3272, Validation Loss: 0.3128, Validation F-beta: 0.7416\n",
      "========================================================\n",
      "SUPER Best model saved. Loss:0.3128, Score:0.7416\n",
      "========================================================\n",
      "Epoch 26/4000\n"
     ]
    },
    {
     "name": "stderr",
     "output_type": "stream",
     "text": [
      "Training: 100%|██████████| 117/117 [00:52<00:00,  2.23it/s, loss=0.303]\n",
      "Validation: 100%|██████████| 5/5 [00:02<00:00,  2.48it/s, loss=0.322]\n"
     ]
    },
    {
     "name": "stdout",
     "output_type": "stream",
     "text": [
      "Validation Dice Score\n",
      "Class 0: 0.9859, Class 1: 0.7332, Class 2: 0.0754, Class 3: 0.2928, Class 4: 0.6533, Class 5: 0.4079, Class 6: 0.8208, \n",
      "Validation F-beta Score\n",
      "Class 0: 0.9775, Class 1: 0.7810, Class 2: 0.0490, Class 3: 0.4543, Class 4: 0.8548, Class 5: 0.6433, Class 6: 0.9059, \n",
      "\n",
      "Overall Mean Dice Score: 0.5816\n",
      "Overall Mean F-beta Score: 0.7279\n",
      "\n",
      "Training Loss: 0.3273, Validation Loss: 0.3131, Validation F-beta: 0.7279\n",
      "Epoch 27/4000\n"
     ]
    },
    {
     "name": "stderr",
     "output_type": "stream",
     "text": [
      "Training: 100%|██████████| 117/117 [00:55<00:00,  2.12it/s, loss=0.325]\n",
      "Validation: 100%|██████████| 5/5 [00:02<00:00,  1.80it/s, loss=0.325]\n"
     ]
    },
    {
     "name": "stdout",
     "output_type": "stream",
     "text": [
      "Validation Dice Score\n",
      "Class 0: 0.9862, Class 1: 0.6977, Class 2: 0.1160, Class 3: 0.3327, Class 4: 0.6762, Class 5: 0.3781, Class 6: 0.8254, \n",
      "Validation F-beta Score\n",
      "Class 0: 0.9788, Class 1: 0.7510, Class 2: 0.0792, Class 3: 0.5719, Class 4: 0.8098, Class 5: 0.5832, Class 6: 0.9340, \n",
      "\n",
      "Overall Mean Dice Score: 0.5820\n",
      "Overall Mean F-beta Score: 0.7300\n",
      "\n",
      "Training Loss: 0.3285, Validation Loss: 0.3186, Validation F-beta: 0.7300\n",
      "Epoch 28/4000\n"
     ]
    },
    {
     "name": "stderr",
     "output_type": "stream",
     "text": [
      "Training: 100%|██████████| 117/117 [00:53<00:00,  2.17it/s, loss=0.295]\n",
      "Validation: 100%|██████████| 5/5 [00:01<00:00,  2.56it/s, loss=0.319]\n"
     ]
    },
    {
     "name": "stdout",
     "output_type": "stream",
     "text": [
      "Validation Dice Score\n",
      "Class 0: 0.9833, Class 1: 0.6910, Class 2: 0.1176, Class 3: 0.2637, Class 4: 0.5717, Class 5: 0.3866, Class 6: 0.8421, \n",
      "Validation F-beta Score\n",
      "Class 0: 0.9721, Class 1: 0.8044, Class 2: 0.0799, Class 3: 0.4467, Class 4: 0.8605, Class 5: 0.6138, Class 6: 0.9508, \n",
      "\n",
      "Overall Mean Dice Score: 0.5510\n",
      "Overall Mean F-beta Score: 0.7352\n",
      "\n",
      "Training Loss: 0.3262, Validation Loss: 0.3251, Validation F-beta: 0.7352\n",
      "Epoch 29/4000\n"
     ]
    },
    {
     "name": "stderr",
     "output_type": "stream",
     "text": [
      "Training: 100%|██████████| 117/117 [00:54<00:00,  2.14it/s, loss=0.292]\n",
      "Validation: 100%|██████████| 5/5 [00:02<00:00,  2.47it/s, loss=0.29] \n"
     ]
    },
    {
     "name": "stdout",
     "output_type": "stream",
     "text": [
      "Validation Dice Score\n",
      "Class 0: 0.9868, Class 1: 0.6959, Class 2: 0.1000, Class 3: 0.3817, Class 4: 0.6156, Class 5: 0.4586, Class 6: 0.8088, \n",
      "Validation F-beta Score\n",
      "Class 0: 0.9799, Class 1: 0.8420, Class 2: 0.0719, Class 3: 0.5497, Class 4: 0.8312, Class 5: 0.6030, Class 6: 0.9130, \n",
      "\n",
      "Overall Mean Dice Score: 0.5921\n",
      "Overall Mean F-beta Score: 0.7478\n",
      "\n",
      "Training Loss: 0.3251, Validation Loss: 0.3091, Validation F-beta: 0.7478\n",
      "========================================================\n",
      "SUPER Best model saved. Loss:0.3091, Score:0.7478\n",
      "========================================================\n",
      "Epoch 30/4000\n"
     ]
    },
    {
     "name": "stderr",
     "output_type": "stream",
     "text": [
      "Training: 100%|██████████| 117/117 [00:53<00:00,  2.18it/s, loss=0.284]\n",
      "Validation: 100%|██████████| 5/5 [00:02<00:00,  2.49it/s, loss=0.323]\n"
     ]
    },
    {
     "name": "stdout",
     "output_type": "stream",
     "text": [
      "Validation Dice Score\n",
      "Class 0: 0.9828, Class 1: 0.6966, Class 2: 0.1211, Class 3: 0.3478, Class 4: 0.5886, Class 5: 0.3433, Class 6: 0.8227, \n",
      "Validation F-beta Score\n",
      "Class 0: 0.9708, Class 1: 0.7623, Class 2: 0.0848, Class 3: 0.6025, Class 4: 0.8676, Class 5: 0.6147, Class 6: 0.9449, \n",
      "\n",
      "Overall Mean Dice Score: 0.5598\n",
      "Overall Mean F-beta Score: 0.7584\n",
      "\n",
      "Training Loss: 0.3227, Validation Loss: 0.3117, Validation F-beta: 0.7584\n",
      "Epoch 31/4000\n"
     ]
    },
    {
     "name": "stderr",
     "output_type": "stream",
     "text": [
      "Training: 100%|██████████| 117/117 [00:53<00:00,  2.18it/s, loss=0.297]\n",
      "Validation: 100%|██████████| 5/5 [00:01<00:00,  2.58it/s, loss=0.328]\n"
     ]
    },
    {
     "name": "stdout",
     "output_type": "stream",
     "text": [
      "Validation Dice Score\n",
      "Class 0: 0.9828, Class 1: 0.6461, Class 2: 0.1368, Class 3: 0.3320, Class 4: 0.6380, Class 5: 0.3641, Class 6: 0.7627, \n",
      "Validation F-beta Score\n",
      "Class 0: 0.9721, Class 1: 0.8383, Class 2: 0.0904, Class 3: 0.4985, Class 4: 0.8614, Class 5: 0.6108, Class 6: 0.9273, \n",
      "\n",
      "Overall Mean Dice Score: 0.5486\n",
      "Overall Mean F-beta Score: 0.7473\n",
      "\n",
      "Training Loss: 0.3250, Validation Loss: 0.3294, Validation F-beta: 0.7473\n",
      "Epoch 32/4000\n"
     ]
    },
    {
     "name": "stderr",
     "output_type": "stream",
     "text": [
      "Training: 100%|██████████| 117/117 [00:54<00:00,  2.16it/s, loss=0.278]\n",
      "Validation: 100%|██████████| 5/5 [00:02<00:00,  2.43it/s, loss=0.295]\n"
     ]
    },
    {
     "name": "stdout",
     "output_type": "stream",
     "text": [
      "Validation Dice Score\n",
      "Class 0: 0.9863, Class 1: 0.7127, Class 2: 0.1451, Class 3: 0.3162, Class 4: 0.5697, Class 5: 0.3645, Class 6: 0.8495, \n",
      "Validation F-beta Score\n",
      "Class 0: 0.9794, Class 1: 0.7332, Class 2: 0.0912, Class 3: 0.5028, Class 4: 0.7802, Class 5: 0.5138, Class 6: 0.9274, \n",
      "\n",
      "Overall Mean Dice Score: 0.5625\n",
      "Overall Mean F-beta Score: 0.6915\n",
      "\n",
      "Training Loss: 0.3248, Validation Loss: 0.3193, Validation F-beta: 0.6915\n",
      "Epoch 33/4000\n"
     ]
    },
    {
     "name": "stderr",
     "output_type": "stream",
     "text": [
      "Training: 100%|██████████| 117/117 [00:53<00:00,  2.21it/s, loss=0.305]\n",
      "Validation: 100%|██████████| 5/5 [00:01<00:00,  2.59it/s, loss=0.29] \n"
     ]
    },
    {
     "name": "stdout",
     "output_type": "stream",
     "text": [
      "Validation Dice Score\n",
      "Class 0: 0.9848, Class 1: 0.7380, Class 2: 0.1209, Class 3: 0.3276, Class 4: 0.5971, Class 5: 0.4452, Class 6: 0.8399, \n",
      "Validation F-beta Score\n",
      "Class 0: 0.9759, Class 1: 0.8509, Class 2: 0.0836, Class 3: 0.5274, Class 4: 0.8413, Class 5: 0.6157, Class 6: 0.9486, \n",
      "\n",
      "Overall Mean Dice Score: 0.5896\n",
      "Overall Mean F-beta Score: 0.7568\n",
      "\n",
      "Training Loss: 0.3242, Validation Loss: 0.2980, Validation F-beta: 0.7568\n",
      "========================================================\n",
      "SUPER Best model saved. Loss:0.2980, Score:0.7568\n",
      "========================================================\n",
      "Epoch 34/4000\n"
     ]
    },
    {
     "name": "stderr",
     "output_type": "stream",
     "text": [
      "Training: 100%|██████████| 117/117 [00:51<00:00,  2.25it/s, loss=0.256]\n",
      "Validation: 100%|██████████| 5/5 [00:01<00:00,  2.75it/s, loss=0.317]\n"
     ]
    },
    {
     "name": "stdout",
     "output_type": "stream",
     "text": [
      "Validation Dice Score\n",
      "Class 0: 0.9848, Class 1: 0.7311, Class 2: 0.1095, Class 3: 0.3577, Class 4: 0.6704, Class 5: 0.4497, Class 6: 0.8220, \n",
      "Validation F-beta Score\n",
      "Class 0: 0.9765, Class 1: 0.7968, Class 2: 0.0710, Class 3: 0.5755, Class 4: 0.8469, Class 5: 0.6115, Class 6: 0.9311, \n",
      "\n",
      "Overall Mean Dice Score: 0.6062\n",
      "Overall Mean F-beta Score: 0.7523\n",
      "\n",
      "Training Loss: 0.3213, Validation Loss: 0.2979, Validation F-beta: 0.7523\n",
      "Epoch 35/4000\n"
     ]
    },
    {
     "name": "stderr",
     "output_type": "stream",
     "text": [
      "Training: 100%|██████████| 117/117 [00:53<00:00,  2.19it/s, loss=0.288]\n",
      "Validation: 100%|██████████| 5/5 [00:01<00:00,  2.52it/s, loss=0.335]\n"
     ]
    },
    {
     "name": "stdout",
     "output_type": "stream",
     "text": [
      "Validation Dice Score\n",
      "Class 0: 0.9817, Class 1: 0.7225, Class 2: 0.1339, Class 3: 0.3154, Class 4: 0.6087, Class 5: 0.3452, Class 6: 0.7553, \n",
      "Validation F-beta Score\n",
      "Class 0: 0.9696, Class 1: 0.7845, Class 2: 0.0969, Class 3: 0.5145, Class 4: 0.8573, Class 5: 0.5995, Class 6: 0.9365, \n",
      "\n",
      "Overall Mean Dice Score: 0.5494\n",
      "Overall Mean F-beta Score: 0.7385\n",
      "\n",
      "Training Loss: 0.3242, Validation Loss: 0.3357, Validation F-beta: 0.7385\n",
      "Epoch 36/4000\n"
     ]
    },
    {
     "name": "stderr",
     "output_type": "stream",
     "text": [
      "Training: 100%|██████████| 117/117 [00:54<00:00,  2.14it/s, loss=0.287]\n",
      "Validation: 100%|██████████| 5/5 [00:01<00:00,  2.51it/s, loss=0.285]\n"
     ]
    },
    {
     "name": "stdout",
     "output_type": "stream",
     "text": [
      "Validation Dice Score\n",
      "Class 0: 0.9857, Class 1: 0.6988, Class 2: 0.1088, Class 3: 0.3077, Class 4: 0.6559, Class 5: 0.4200, Class 6: 0.8336, \n",
      "Validation F-beta Score\n",
      "Class 0: 0.9778, Class 1: 0.8698, Class 2: 0.0783, Class 3: 0.5691, Class 4: 0.8324, Class 5: 0.6068, Class 6: 0.9480, \n",
      "\n",
      "Overall Mean Dice Score: 0.5832\n",
      "Overall Mean F-beta Score: 0.7652\n",
      "\n",
      "Training Loss: 0.3232, Validation Loss: 0.3015, Validation F-beta: 0.7652\n",
      "Epoch 37/4000\n"
     ]
    },
    {
     "name": "stderr",
     "output_type": "stream",
     "text": [
      "Training: 100%|██████████| 117/117 [00:53<00:00,  2.19it/s, loss=0.283]\n",
      "Validation: 100%|██████████| 5/5 [00:01<00:00,  2.68it/s, loss=0.353]\n"
     ]
    },
    {
     "name": "stdout",
     "output_type": "stream",
     "text": [
      "Validation Dice Score\n",
      "Class 0: 0.9861, Class 1: 0.6677, Class 2: 0.1197, Class 3: 0.3254, Class 4: 0.6571, Class 5: 0.3991, Class 6: 0.8659, \n",
      "Validation F-beta Score\n",
      "Class 0: 0.9785, Class 1: 0.8279, Class 2: 0.0797, Class 3: 0.4787, Class 4: 0.8257, Class 5: 0.5917, Class 6: 0.9572, \n",
      "\n",
      "Overall Mean Dice Score: 0.5831\n",
      "Overall Mean F-beta Score: 0.7362\n",
      "\n",
      "Training Loss: 0.3241, Validation Loss: 0.3167, Validation F-beta: 0.7362\n",
      "Epoch 38/4000\n"
     ]
    },
    {
     "name": "stderr",
     "output_type": "stream",
     "text": [
      "Training: 100%|██████████| 117/117 [00:52<00:00,  2.22it/s, loss=0.296]\n",
      "Validation: 100%|██████████| 5/5 [00:02<00:00,  1.88it/s, loss=0.274]\n"
     ]
    },
    {
     "name": "stdout",
     "output_type": "stream",
     "text": [
      "Validation Dice Score\n",
      "Class 0: 0.9838, Class 1: 0.7553, Class 2: 0.1447, Class 3: 0.3194, Class 4: 0.6601, Class 5: 0.3956, Class 6: 0.8570, \n",
      "Validation F-beta Score\n",
      "Class 0: 0.9742, Class 1: 0.8111, Class 2: 0.1140, Class 3: 0.4623, Class 4: 0.8410, Class 5: 0.6337, Class 6: 0.9492, \n",
      "\n",
      "Overall Mean Dice Score: 0.5975\n",
      "Overall Mean F-beta Score: 0.7395\n",
      "\n",
      "Training Loss: 0.3215, Validation Loss: 0.3106, Validation F-beta: 0.7395\n",
      "Epoch 39/4000\n"
     ]
    },
    {
     "name": "stderr",
     "output_type": "stream",
     "text": [
      "Training: 100%|██████████| 117/117 [00:55<00:00,  2.12it/s, loss=0.309]\n",
      "Validation: 100%|██████████| 5/5 [00:02<00:00,  2.47it/s, loss=0.306]\n"
     ]
    },
    {
     "name": "stdout",
     "output_type": "stream",
     "text": [
      "Validation Dice Score\n",
      "Class 0: 0.9844, Class 1: 0.6875, Class 2: 0.0955, Class 3: 0.3293, Class 4: 0.6164, Class 5: 0.3595, Class 6: 0.8770, \n",
      "Validation F-beta Score\n",
      "Class 0: 0.9748, Class 1: 0.8099, Class 2: 0.0749, Class 3: 0.4799, Class 4: 0.8505, Class 5: 0.5744, Class 6: 0.9456, \n",
      "\n",
      "Overall Mean Dice Score: 0.5739\n",
      "Overall Mean F-beta Score: 0.7320\n",
      "\n",
      "Training Loss: 0.3206, Validation Loss: 0.3120, Validation F-beta: 0.7320\n",
      "Epoch 40/4000\n"
     ]
    },
    {
     "name": "stderr",
     "output_type": "stream",
     "text": [
      "Training: 100%|██████████| 117/117 [00:54<00:00,  2.13it/s, loss=0.296]\n",
      "Validation: 100%|██████████| 5/5 [00:01<00:00,  2.51it/s, loss=0.31] \n"
     ]
    },
    {
     "name": "stdout",
     "output_type": "stream",
     "text": [
      "Validation Dice Score\n",
      "Class 0: 0.9834, Class 1: 0.6950, Class 2: 0.0949, Class 3: 0.3435, Class 4: 0.5933, Class 5: 0.4152, Class 6: 0.8607, \n",
      "Validation F-beta Score\n",
      "Class 0: 0.9732, Class 1: 0.8332, Class 2: 0.0628, Class 3: 0.5075, Class 4: 0.8271, Class 5: 0.6433, Class 6: 0.9482, \n",
      "\n",
      "Overall Mean Dice Score: 0.5816\n",
      "Overall Mean F-beta Score: 0.7519\n",
      "\n",
      "Training Loss: 0.3200, Validation Loss: 0.3057, Validation F-beta: 0.7519\n",
      "Epoch 41/4000\n"
     ]
    },
    {
     "name": "stderr",
     "output_type": "stream",
     "text": [
      "Training: 100%|██████████| 117/117 [00:53<00:00,  2.19it/s, loss=0.307]\n",
      "Validation: 100%|██████████| 5/5 [00:02<00:00,  2.40it/s, loss=0.302]\n"
     ]
    },
    {
     "name": "stdout",
     "output_type": "stream",
     "text": [
      "Validation Dice Score\n",
      "Class 0: 0.9855, Class 1: 0.7194, Class 2: 0.0961, Class 3: 0.3010, Class 4: 0.6342, Class 5: 0.4192, Class 6: 0.8749, \n",
      "Validation F-beta Score\n",
      "Class 0: 0.9766, Class 1: 0.8390, Class 2: 0.0768, Class 3: 0.4883, Class 4: 0.8580, Class 5: 0.6229, Class 6: 0.9478, \n",
      "\n",
      "Overall Mean Dice Score: 0.5897\n",
      "Overall Mean F-beta Score: 0.7512\n",
      "\n",
      "Training Loss: 0.3224, Validation Loss: 0.3087, Validation F-beta: 0.7512\n",
      "Epoch 42/4000\n"
     ]
    },
    {
     "name": "stderr",
     "output_type": "stream",
     "text": [
      "Training: 100%|██████████| 117/117 [00:52<00:00,  2.21it/s, loss=0.279]\n",
      "Validation: 100%|██████████| 5/5 [00:02<00:00,  2.43it/s, loss=0.292]\n"
     ]
    },
    {
     "name": "stdout",
     "output_type": "stream",
     "text": [
      "Validation Dice Score\n",
      "Class 0: 0.9870, Class 1: 0.7364, Class 2: 0.1259, Class 3: 0.3908, Class 4: 0.6893, Class 5: 0.4124, Class 6: 0.8794, \n",
      "Validation F-beta Score\n",
      "Class 0: 0.9803, Class 1: 0.8254, Class 2: 0.1109, Class 3: 0.5854, Class 4: 0.8142, Class 5: 0.6166, Class 6: 0.9395, \n",
      "\n",
      "Overall Mean Dice Score: 0.6217\n",
      "Overall Mean F-beta Score: 0.7562\n",
      "\n",
      "Training Loss: 0.3193, Validation Loss: 0.3034, Validation F-beta: 0.7562\n",
      "Epoch 43/4000\n"
     ]
    },
    {
     "name": "stderr",
     "output_type": "stream",
     "text": [
      "Training: 100%|██████████| 117/117 [00:55<00:00,  2.10it/s, loss=0.283]\n",
      "Validation: 100%|██████████| 5/5 [00:01<00:00,  2.53it/s, loss=0.312]\n"
     ]
    },
    {
     "name": "stdout",
     "output_type": "stream",
     "text": [
      "Validation Dice Score\n",
      "Class 0: 0.9861, Class 1: 0.7334, Class 2: 0.1520, Class 3: 0.2916, Class 4: 0.6227, Class 5: 0.3985, Class 6: 0.8757, \n",
      "Validation F-beta Score\n",
      "Class 0: 0.9780, Class 1: 0.8302, Class 2: 0.1110, Class 3: 0.5245, Class 4: 0.8306, Class 5: 0.6048, Class 6: 0.9517, \n",
      "\n",
      "Overall Mean Dice Score: 0.5844\n",
      "Overall Mean F-beta Score: 0.7484\n",
      "\n",
      "Training Loss: 0.3198, Validation Loss: 0.3153, Validation F-beta: 0.7484\n",
      "Epoch 44/4000\n"
     ]
    },
    {
     "name": "stderr",
     "output_type": "stream",
     "text": [
      "Training: 100%|██████████| 117/117 [00:55<00:00,  2.13it/s, loss=0.295]\n",
      "Validation: 100%|██████████| 5/5 [00:02<00:00,  2.42it/s, loss=0.339]\n"
     ]
    },
    {
     "name": "stdout",
     "output_type": "stream",
     "text": [
      "Validation Dice Score\n",
      "Class 0: 0.9841, Class 1: 0.7003, Class 2: 0.1238, Class 3: 0.3140, Class 4: 0.6798, Class 5: 0.3597, Class 6: 0.8607, \n",
      "Validation F-beta Score\n",
      "Class 0: 0.9744, Class 1: 0.7785, Class 2: 0.0922, Class 3: 0.4088, Class 4: 0.8491, Class 5: 0.6334, Class 6: 0.9367, \n",
      "\n",
      "Overall Mean Dice Score: 0.5829\n",
      "Overall Mean F-beta Score: 0.7213\n",
      "\n",
      "Training Loss: 0.3205, Validation Loss: 0.3236, Validation F-beta: 0.7213\n",
      "Epoch 45/4000\n"
     ]
    },
    {
     "name": "stderr",
     "output_type": "stream",
     "text": [
      "Training: 100%|██████████| 117/117 [00:53<00:00,  2.19it/s, loss=0.309]\n",
      "Validation: 100%|██████████| 5/5 [00:01<00:00,  2.54it/s, loss=0.324]\n"
     ]
    },
    {
     "name": "stdout",
     "output_type": "stream",
     "text": [
      "Validation Dice Score\n",
      "Class 0: 0.9852, Class 1: 0.6904, Class 2: 0.1521, Class 3: 0.3689, Class 4: 0.6338, Class 5: 0.4069, Class 6: 0.8616, \n",
      "Validation F-beta Score\n",
      "Class 0: 0.9764, Class 1: 0.8493, Class 2: 0.1119, Class 3: 0.5078, Class 4: 0.8551, Class 5: 0.6245, Class 6: 0.9505, \n",
      "\n",
      "Overall Mean Dice Score: 0.5923\n",
      "Overall Mean F-beta Score: 0.7575\n",
      "\n",
      "Training Loss: 0.3197, Validation Loss: 0.3054, Validation F-beta: 0.7575\n",
      "Epoch 46/4000\n"
     ]
    },
    {
     "name": "stderr",
     "output_type": "stream",
     "text": [
      "Training: 100%|██████████| 117/117 [00:54<00:00,  2.15it/s, loss=0.278]\n",
      "Validation: 100%|██████████| 5/5 [00:01<00:00,  2.50it/s, loss=0.301]\n"
     ]
    },
    {
     "name": "stdout",
     "output_type": "stream",
     "text": [
      "Validation Dice Score\n",
      "Class 0: 0.9858, Class 1: 0.7160, Class 2: 0.1489, Class 3: 0.2895, Class 4: 0.6563, Class 5: 0.4043, Class 6: 0.8349, \n",
      "Validation F-beta Score\n",
      "Class 0: 0.9774, Class 1: 0.8572, Class 2: 0.1193, Class 3: 0.5598, Class 4: 0.8373, Class 5: 0.6184, Class 6: 0.9597, \n",
      "\n",
      "Overall Mean Dice Score: 0.5802\n",
      "Overall Mean F-beta Score: 0.7665\n",
      "\n",
      "Training Loss: 0.3177, Validation Loss: 0.3138, Validation F-beta: 0.7665\n",
      "Epoch 47/4000\n"
     ]
    },
    {
     "name": "stderr",
     "output_type": "stream",
     "text": [
      "Training: 100%|██████████| 117/117 [00:54<00:00,  2.17it/s, loss=0.336]\n",
      "Validation: 100%|██████████| 5/5 [00:01<00:00,  2.51it/s, loss=0.286]\n"
     ]
    },
    {
     "name": "stdout",
     "output_type": "stream",
     "text": [
      "Validation Dice Score\n",
      "Class 0: 0.9857, Class 1: 0.7255, Class 2: 0.1372, Class 3: 0.3024, Class 4: 0.6953, Class 5: 0.3914, Class 6: 0.8903, \n",
      "Validation F-beta Score\n",
      "Class 0: 0.9775, Class 1: 0.8475, Class 2: 0.1142, Class 3: 0.5418, Class 4: 0.8575, Class 5: 0.6032, Class 6: 0.9485, \n",
      "\n",
      "Overall Mean Dice Score: 0.6010\n",
      "Overall Mean F-beta Score: 0.7597\n",
      "\n",
      "Training Loss: 0.3174, Validation Loss: 0.3073, Validation F-beta: 0.7597\n",
      "Epoch 48/4000\n"
     ]
    },
    {
     "name": "stderr",
     "output_type": "stream",
     "text": [
      "Training: 100%|██████████| 117/117 [00:54<00:00,  2.15it/s, loss=0.304]\n",
      "Validation: 100%|██████████| 5/5 [00:02<00:00,  2.44it/s, loss=0.332]\n"
     ]
    },
    {
     "name": "stdout",
     "output_type": "stream",
     "text": [
      "Validation Dice Score\n",
      "Class 0: 0.9829, Class 1: 0.7473, Class 2: 0.0977, Class 3: 0.2937, Class 4: 0.5976, Class 5: 0.3638, Class 6: 0.8720, \n",
      "Validation F-beta Score\n",
      "Class 0: 0.9724, Class 1: 0.8212, Class 2: 0.0811, Class 3: 0.4972, Class 4: 0.8317, Class 5: 0.5626, Class 6: 0.9452, \n",
      "\n",
      "Overall Mean Dice Score: 0.5749\n",
      "Overall Mean F-beta Score: 0.7316\n",
      "\n",
      "Training Loss: 0.3172, Validation Loss: 0.3127, Validation F-beta: 0.7316\n",
      "Epoch 49/4000\n"
     ]
    },
    {
     "name": "stderr",
     "output_type": "stream",
     "text": [
      "Training: 100%|██████████| 117/117 [00:54<00:00,  2.14it/s, loss=0.295]\n",
      "Validation: 100%|██████████| 5/5 [00:01<00:00,  2.60it/s, loss=0.306]\n"
     ]
    },
    {
     "name": "stdout",
     "output_type": "stream",
     "text": [
      "Validation Dice Score\n",
      "Class 0: 0.9838, Class 1: 0.7537, Class 2: 0.1613, Class 3: 0.3642, Class 4: 0.6204, Class 5: 0.4270, Class 6: 0.8522, \n",
      "Validation F-beta Score\n",
      "Class 0: 0.9734, Class 1: 0.7862, Class 2: 0.1382, Class 3: 0.5611, Class 4: 0.8634, Class 5: 0.6628, Class 6: 0.9478, \n",
      "\n",
      "Overall Mean Dice Score: 0.6035\n",
      "Overall Mean F-beta Score: 0.7643\n",
      "\n",
      "Training Loss: 0.3186, Validation Loss: 0.3041, Validation F-beta: 0.7643\n",
      "Epoch 50/4000\n"
     ]
    },
    {
     "name": "stderr",
     "output_type": "stream",
     "text": [
      "Training: 100%|██████████| 117/117 [00:56<00:00,  2.06it/s, loss=0.288]\n",
      "Validation: 100%|██████████| 5/5 [00:02<00:00,  2.48it/s, loss=0.295]\n"
     ]
    },
    {
     "name": "stdout",
     "output_type": "stream",
     "text": [
      "Validation Dice Score\n",
      "Class 0: 0.9854, Class 1: 0.7246, Class 2: 0.1607, Class 3: 0.3533, Class 4: 0.6646, Class 5: 0.4262, Class 6: 0.8218, \n",
      "Validation F-beta Score\n",
      "Class 0: 0.9771, Class 1: 0.8300, Class 2: 0.1275, Class 3: 0.5556, Class 4: 0.8334, Class 5: 0.6477, Class 6: 0.9355, \n",
      "\n",
      "Overall Mean Dice Score: 0.5981\n",
      "Overall Mean F-beta Score: 0.7604\n",
      "\n",
      "Training Loss: 0.3158, Validation Loss: 0.3090, Validation F-beta: 0.7604\n",
      "Epoch 51/4000\n"
     ]
    },
    {
     "name": "stderr",
     "output_type": "stream",
     "text": [
      "Training: 100%|██████████| 117/117 [00:53<00:00,  2.17it/s, loss=0.29] \n",
      "Validation: 100%|██████████| 5/5 [00:02<00:00,  2.39it/s, loss=0.304]\n"
     ]
    },
    {
     "name": "stdout",
     "output_type": "stream",
     "text": [
      "Validation Dice Score\n",
      "Class 0: 0.9867, Class 1: 0.7402, Class 2: 0.1359, Class 3: 0.3837, Class 4: 0.6582, Class 5: 0.4134, Class 6: 0.8794, \n",
      "Validation F-beta Score\n",
      "Class 0: 0.9787, Class 1: 0.7421, Class 2: 0.0924, Class 3: 0.5100, Class 4: 0.8513, Class 5: 0.6655, Class 6: 0.9397, \n",
      "\n",
      "Overall Mean Dice Score: 0.6150\n",
      "Overall Mean F-beta Score: 0.7417\n",
      "\n",
      "Training Loss: 0.3166, Validation Loss: 0.3070, Validation F-beta: 0.7417\n",
      "Epoch 52/4000\n"
     ]
    },
    {
     "name": "stderr",
     "output_type": "stream",
     "text": [
      "Training: 100%|██████████| 117/117 [00:55<00:00,  2.11it/s, loss=0.278]\n",
      "Validation: 100%|██████████| 5/5 [00:02<00:00,  2.40it/s, loss=0.301]\n"
     ]
    },
    {
     "name": "stdout",
     "output_type": "stream",
     "text": [
      "Validation Dice Score\n",
      "Class 0: 0.9842, Class 1: 0.7811, Class 2: 0.1839, Class 3: 0.3164, Class 4: 0.6190, Class 5: 0.4021, Class 6: 0.8356, \n",
      "Validation F-beta Score\n",
      "Class 0: 0.9744, Class 1: 0.8597, Class 2: 0.1565, Class 3: 0.5500, Class 4: 0.8582, Class 5: 0.6260, Class 6: 0.9442, \n",
      "\n",
      "Overall Mean Dice Score: 0.5909\n",
      "Overall Mean F-beta Score: 0.7676\n",
      "\n",
      "Training Loss: 0.3205, Validation Loss: 0.3004, Validation F-beta: 0.7676\n",
      "Epoch 53/4000\n"
     ]
    },
    {
     "name": "stderr",
     "output_type": "stream",
     "text": [
      "Training: 100%|██████████| 117/117 [00:55<00:00,  2.12it/s, loss=0.284]\n",
      "Validation: 100%|██████████| 5/5 [00:01<00:00,  2.70it/s, loss=0.293]\n"
     ]
    },
    {
     "name": "stdout",
     "output_type": "stream",
     "text": [
      "Validation Dice Score\n",
      "Class 0: 0.9870, Class 1: 0.7444, Class 2: 0.0972, Class 3: 0.3736, Class 4: 0.6870, Class 5: 0.4132, Class 6: 0.8618, \n",
      "Validation F-beta Score\n",
      "Class 0: 0.9798, Class 1: 0.8170, Class 2: 0.0686, Class 3: 0.5513, Class 4: 0.8279, Class 5: 0.6415, Class 6: 0.9446, \n",
      "\n",
      "Overall Mean Dice Score: 0.6160\n",
      "Overall Mean F-beta Score: 0.7565\n",
      "\n",
      "Training Loss: 0.3170, Validation Loss: 0.3010, Validation F-beta: 0.7565\n",
      "Epoch 54/4000\n"
     ]
    },
    {
     "name": "stderr",
     "output_type": "stream",
     "text": [
      "Training: 100%|██████████| 117/117 [00:53<00:00,  2.18it/s, loss=0.29] \n",
      "Validation: 100%|██████████| 5/5 [00:01<00:00,  2.53it/s, loss=0.299]\n"
     ]
    },
    {
     "name": "stdout",
     "output_type": "stream",
     "text": [
      "Validation Dice Score\n",
      "Class 0: 0.9813, Class 1: 0.6827, Class 2: 0.1582, Class 3: 0.3515, Class 4: 0.6162, Class 5: 0.4014, Class 6: 0.8328, \n",
      "Validation F-beta Score\n",
      "Class 0: 0.9687, Class 1: 0.8167, Class 2: 0.1153, Class 3: 0.5167, Class 4: 0.8715, Class 5: 0.6842, Class 6: 0.9437, \n",
      "\n",
      "Overall Mean Dice Score: 0.5769\n",
      "Overall Mean F-beta Score: 0.7666\n",
      "\n",
      "Training Loss: 0.3206, Validation Loss: 0.3104, Validation F-beta: 0.7666\n",
      "Epoch 55/4000\n"
     ]
    },
    {
     "name": "stderr",
     "output_type": "stream",
     "text": [
      "Training: 100%|██████████| 117/117 [00:54<00:00,  2.13it/s, loss=0.301]\n",
      "Validation: 100%|██████████| 5/5 [00:01<00:00,  2.55it/s, loss=0.307]\n"
     ]
    },
    {
     "name": "stdout",
     "output_type": "stream",
     "text": [
      "Validation Dice Score\n",
      "Class 0: 0.9857, Class 1: 0.7503, Class 2: 0.1337, Class 3: 0.3410, Class 4: 0.6913, Class 5: 0.3632, Class 6: 0.8646, \n",
      "Validation F-beta Score\n",
      "Class 0: 0.9769, Class 1: 0.8196, Class 2: 0.1159, Class 3: 0.5920, Class 4: 0.8507, Class 5: 0.6226, Class 6: 0.9336, \n",
      "\n",
      "Overall Mean Dice Score: 0.6021\n",
      "Overall Mean F-beta Score: 0.7637\n",
      "\n",
      "Training Loss: 0.3168, Validation Loss: 0.3146, Validation F-beta: 0.7637\n",
      "Epoch 56/4000\n"
     ]
    },
    {
     "name": "stderr",
     "output_type": "stream",
     "text": [
      "Training: 100%|██████████| 117/117 [00:52<00:00,  2.23it/s, loss=0.297]\n",
      "Validation: 100%|██████████| 5/5 [00:01<00:00,  2.62it/s, loss=0.319]\n"
     ]
    },
    {
     "name": "stdout",
     "output_type": "stream",
     "text": [
      "Validation Dice Score\n",
      "Class 0: 0.9834, Class 1: 0.7013, Class 2: 0.1789, Class 3: 0.3501, Class 4: 0.6526, Class 5: 0.3489, Class 6: 0.8740, \n",
      "Validation F-beta Score\n",
      "Class 0: 0.9725, Class 1: 0.7695, Class 2: 0.1539, Class 3: 0.5164, Class 4: 0.8637, Class 5: 0.6346, Class 6: 0.9505, \n",
      "\n",
      "Overall Mean Dice Score: 0.5854\n",
      "Overall Mean F-beta Score: 0.7469\n",
      "\n",
      "Training Loss: 0.3163, Validation Loss: 0.3116, Validation F-beta: 0.7469\n",
      "Epoch 57/4000\n"
     ]
    },
    {
     "name": "stderr",
     "output_type": "stream",
     "text": [
      "Training: 100%|██████████| 117/117 [00:53<00:00,  2.18it/s, loss=0.305]\n",
      "Validation: 100%|██████████| 5/5 [00:01<00:00,  2.56it/s, loss=0.325]\n"
     ]
    },
    {
     "name": "stdout",
     "output_type": "stream",
     "text": [
      "Validation Dice Score\n",
      "Class 0: 0.9848, Class 1: 0.7187, Class 2: 0.1139, Class 3: 0.3799, Class 4: 0.6722, Class 5: 0.3742, Class 6: 0.8599, \n",
      "Validation F-beta Score\n",
      "Class 0: 0.9752, Class 1: 0.7948, Class 2: 0.0863, Class 3: 0.4798, Class 4: 0.8704, Class 5: 0.6449, Class 6: 0.9371, \n",
      "\n",
      "Overall Mean Dice Score: 0.6010\n",
      "Overall Mean F-beta Score: 0.7454\n",
      "\n",
      "Training Loss: 0.3127, Validation Loss: 0.3131, Validation F-beta: 0.7454\n",
      "Epoch 58/4000\n"
     ]
    },
    {
     "name": "stderr",
     "output_type": "stream",
     "text": [
      "Training: 100%|██████████| 117/117 [00:51<00:00,  2.27it/s, loss=0.271]\n",
      "Validation: 100%|██████████| 5/5 [00:01<00:00,  2.68it/s, loss=0.318]\n"
     ]
    },
    {
     "name": "stdout",
     "output_type": "stream",
     "text": [
      "Validation Dice Score\n",
      "Class 0: 0.9855, Class 1: 0.6993, Class 2: 0.1018, Class 3: 0.3846, Class 4: 0.6572, Class 5: 0.3394, Class 6: 0.8680, \n",
      "Validation F-beta Score\n",
      "Class 0: 0.9763, Class 1: 0.7894, Class 2: 0.0824, Class 3: 0.4854, Class 4: 0.8592, Class 5: 0.6110, Class 6: 0.9563, \n",
      "\n",
      "Overall Mean Dice Score: 0.5897\n",
      "Overall Mean F-beta Score: 0.7403\n",
      "\n",
      "Training Loss: 0.3155, Validation Loss: 0.3189, Validation F-beta: 0.7403\n",
      "Epoch 59/4000\n"
     ]
    },
    {
     "name": "stderr",
     "output_type": "stream",
     "text": [
      "Training: 100%|██████████| 117/117 [00:51<00:00,  2.28it/s, loss=0.275]\n",
      "Validation: 100%|██████████| 5/5 [00:01<00:00,  2.73it/s, loss=0.326]\n"
     ]
    },
    {
     "name": "stdout",
     "output_type": "stream",
     "text": [
      "Validation Dice Score\n",
      "Class 0: 0.9843, Class 1: 0.7389, Class 2: 0.0798, Class 3: 0.3663, Class 4: 0.6060, Class 5: 0.3843, Class 6: 0.8136, \n",
      "Validation F-beta Score\n",
      "Class 0: 0.9746, Class 1: 0.7921, Class 2: 0.0566, Class 3: 0.4748, Class 4: 0.8287, Class 5: 0.6409, Class 6: 0.9400, \n",
      "\n",
      "Overall Mean Dice Score: 0.5818\n",
      "Overall Mean F-beta Score: 0.7353\n",
      "\n",
      "Training Loss: 0.3163, Validation Loss: 0.3106, Validation F-beta: 0.7353\n",
      "Epoch 60/4000\n"
     ]
    },
    {
     "name": "stderr",
     "output_type": "stream",
     "text": [
      "Training: 100%|██████████| 117/117 [00:52<00:00,  2.24it/s, loss=0.31] \n",
      "Validation: 100%|██████████| 5/5 [00:01<00:00,  2.51it/s, loss=0.311]\n"
     ]
    },
    {
     "name": "stdout",
     "output_type": "stream",
     "text": [
      "Validation Dice Score\n",
      "Class 0: 0.9850, Class 1: 0.6725, Class 2: 0.1803, Class 3: 0.3805, Class 4: 0.6678, Class 5: 0.4012, Class 6: 0.8511, \n",
      "Validation F-beta Score\n",
      "Class 0: 0.9757, Class 1: 0.8245, Class 2: 0.1626, Class 3: 0.5563, Class 4: 0.8530, Class 5: 0.6619, Class 6: 0.9579, \n",
      "\n",
      "Overall Mean Dice Score: 0.5946\n",
      "Overall Mean F-beta Score: 0.7707\n",
      "\n",
      "Training Loss: 0.3143, Validation Loss: 0.3085, Validation F-beta: 0.7707\n",
      "Epoch 61/4000\n"
     ]
    },
    {
     "name": "stderr",
     "output_type": "stream",
     "text": [
      "Training: 100%|██████████| 117/117 [00:53<00:00,  2.20it/s, loss=0.286]\n",
      "Validation: 100%|██████████| 5/5 [00:01<00:00,  2.77it/s, loss=0.298]\n"
     ]
    },
    {
     "name": "stdout",
     "output_type": "stream",
     "text": [
      "Validation Dice Score\n",
      "Class 0: 0.9829, Class 1: 0.7106, Class 2: 0.1640, Class 3: 0.4236, Class 4: 0.6188, Class 5: 0.4534, Class 6: 0.8579, \n",
      "Validation F-beta Score\n",
      "Class 0: 0.9722, Class 1: 0.8238, Class 2: 0.1455, Class 3: 0.5851, Class 4: 0.8484, Class 5: 0.6873, Class 6: 0.9525, \n",
      "\n",
      "Overall Mean Dice Score: 0.6129\n",
      "Overall Mean F-beta Score: 0.7794\n",
      "\n",
      "Training Loss: 0.3125, Validation Loss: 0.2944, Validation F-beta: 0.7794\n",
      "========================================================\n",
      "SUPER Best model saved. Loss:0.2944, Score:0.7794\n",
      "========================================================\n",
      "Epoch 62/4000\n"
     ]
    },
    {
     "name": "stderr",
     "output_type": "stream",
     "text": [
      "Training: 100%|██████████| 117/117 [00:51<00:00,  2.27it/s, loss=0.287]\n",
      "Validation: 100%|██████████| 5/5 [00:01<00:00,  2.65it/s, loss=0.319]\n"
     ]
    },
    {
     "name": "stdout",
     "output_type": "stream",
     "text": [
      "Validation Dice Score\n",
      "Class 0: 0.9847, Class 1: 0.7276, Class 2: 0.1355, Class 3: 0.3125, Class 4: 0.6508, Class 5: 0.4105, Class 6: 0.8636, \n",
      "Validation F-beta Score\n",
      "Class 0: 0.9758, Class 1: 0.8260, Class 2: 0.1111, Class 3: 0.4651, Class 4: 0.8651, Class 5: 0.6166, Class 6: 0.9449, \n",
      "\n",
      "Overall Mean Dice Score: 0.5930\n",
      "Overall Mean F-beta Score: 0.7435\n",
      "\n",
      "Training Loss: 0.3170, Validation Loss: 0.3040, Validation F-beta: 0.7435\n",
      "Epoch 63/4000\n"
     ]
    },
    {
     "name": "stderr",
     "output_type": "stream",
     "text": [
      "Training: 100%|██████████| 117/117 [00:52<00:00,  2.22it/s, loss=0.301]\n",
      "Validation: 100%|██████████| 5/5 [00:02<00:00,  2.50it/s, loss=0.317]\n"
     ]
    },
    {
     "name": "stdout",
     "output_type": "stream",
     "text": [
      "Validation Dice Score\n",
      "Class 0: 0.9854, Class 1: 0.7055, Class 2: 0.1436, Class 3: 0.3309, Class 4: 0.6597, Class 5: 0.3841, Class 6: 0.8129, \n",
      "Validation F-beta Score\n",
      "Class 0: 0.9765, Class 1: 0.8612, Class 2: 0.1026, Class 3: 0.5108, Class 4: 0.8497, Class 5: 0.6217, Class 6: 0.9500, \n",
      "\n",
      "Overall Mean Dice Score: 0.5786\n",
      "Overall Mean F-beta Score: 0.7587\n",
      "\n",
      "Training Loss: 0.3143, Validation Loss: 0.3215, Validation F-beta: 0.7587\n",
      "Epoch 64/4000\n"
     ]
    },
    {
     "name": "stderr",
     "output_type": "stream",
     "text": [
      "Training: 100%|██████████| 117/117 [00:53<00:00,  2.21it/s, loss=0.3]  \n",
      "Validation: 100%|██████████| 5/5 [00:01<00:00,  2.61it/s, loss=0.32] \n"
     ]
    },
    {
     "name": "stdout",
     "output_type": "stream",
     "text": [
      "Validation Dice Score\n",
      "Class 0: 0.9819, Class 1: 0.7134, Class 2: 0.1567, Class 3: 0.3565, Class 4: 0.6023, Class 5: 0.3962, Class 6: 0.8442, \n",
      "Validation F-beta Score\n",
      "Class 0: 0.9695, Class 1: 0.8361, Class 2: 0.1552, Class 3: 0.5584, Class 4: 0.8707, Class 5: 0.6489, Class 6: 0.9452, \n",
      "\n",
      "Overall Mean Dice Score: 0.5825\n",
      "Overall Mean F-beta Score: 0.7719\n",
      "\n",
      "Training Loss: 0.3131, Validation Loss: 0.3125, Validation F-beta: 0.7719\n",
      "Epoch 65/4000\n"
     ]
    },
    {
     "name": "stderr",
     "output_type": "stream",
     "text": [
      "Training: 100%|██████████| 117/117 [00:54<00:00,  2.14it/s, loss=0.275]\n",
      "Validation: 100%|██████████| 5/5 [00:02<00:00,  2.43it/s, loss=0.291]\n"
     ]
    },
    {
     "name": "stdout",
     "output_type": "stream",
     "text": [
      "Validation Dice Score\n",
      "Class 0: 0.9837, Class 1: 0.7413, Class 2: 0.1928, Class 3: 0.3901, Class 4: 0.5787, Class 5: 0.3614, Class 6: 0.8661, \n",
      "Validation F-beta Score\n",
      "Class 0: 0.9730, Class 1: 0.8637, Class 2: 0.1571, Class 3: 0.5539, Class 4: 0.8406, Class 5: 0.6114, Class 6: 0.9546, \n",
      "\n",
      "Overall Mean Dice Score: 0.5875\n",
      "Overall Mean F-beta Score: 0.7648\n",
      "\n",
      "Training Loss: 0.3137, Validation Loss: 0.3069, Validation F-beta: 0.7648\n",
      "Epoch 66/4000\n"
     ]
    },
    {
     "name": "stderr",
     "output_type": "stream",
     "text": [
      "Training: 100%|██████████| 117/117 [00:55<00:00,  2.11it/s, loss=0.284]\n",
      "Validation: 100%|██████████| 5/5 [00:01<00:00,  2.54it/s, loss=0.297]\n"
     ]
    },
    {
     "name": "stdout",
     "output_type": "stream",
     "text": [
      "Validation Dice Score\n",
      "Class 0: 0.9854, Class 1: 0.7388, Class 2: 0.1498, Class 3: 0.2886, Class 4: 0.6627, Class 5: 0.4057, Class 6: 0.8716, \n",
      "Validation F-beta Score\n",
      "Class 0: 0.9758, Class 1: 0.8358, Class 2: 0.1400, Class 3: 0.4514, Class 4: 0.8772, Class 5: 0.6810, Class 6: 0.9542, \n",
      "\n",
      "Overall Mean Dice Score: 0.5935\n",
      "Overall Mean F-beta Score: 0.7599\n",
      "\n",
      "Training Loss: 0.3134, Validation Loss: 0.3101, Validation F-beta: 0.7599\n",
      "Epoch 67/4000\n"
     ]
    },
    {
     "name": "stderr",
     "output_type": "stream",
     "text": [
      "Training: 100%|██████████| 117/117 [00:52<00:00,  2.21it/s, loss=0.293]\n",
      "Validation: 100%|██████████| 5/5 [00:01<00:00,  2.64it/s, loss=0.33] \n"
     ]
    },
    {
     "name": "stdout",
     "output_type": "stream",
     "text": [
      "Validation Dice Score\n",
      "Class 0: 0.9853, Class 1: 0.7042, Class 2: 0.1821, Class 3: 0.4247, Class 4: 0.6356, Class 5: 0.4233, Class 6: 0.8758, \n",
      "Validation F-beta Score\n",
      "Class 0: 0.9763, Class 1: 0.8068, Class 2: 0.1378, Class 3: 0.6309, Class 4: 0.8705, Class 5: 0.6416, Class 6: 0.9459, \n",
      "\n",
      "Overall Mean Dice Score: 0.6127\n",
      "Overall Mean F-beta Score: 0.7791\n",
      "\n",
      "Training Loss: 0.3145, Validation Loss: 0.3135, Validation F-beta: 0.7791\n",
      "Epoch 68/4000\n"
     ]
    },
    {
     "name": "stderr",
     "output_type": "stream",
     "text": [
      "Training: 100%|██████████| 117/117 [00:52<00:00,  2.21it/s, loss=0.3]  \n",
      "Validation: 100%|██████████| 5/5 [00:02<00:00,  2.44it/s, loss=0.306]\n"
     ]
    },
    {
     "name": "stdout",
     "output_type": "stream",
     "text": [
      "Validation Dice Score\n",
      "Class 0: 0.9844, Class 1: 0.6949, Class 2: 0.1761, Class 3: 0.3756, Class 4: 0.6681, Class 5: 0.4504, Class 6: 0.8730, \n",
      "Validation F-beta Score\n",
      "Class 0: 0.9749, Class 1: 0.8819, Class 2: 0.1510, Class 3: 0.5773, Class 4: 0.8635, Class 5: 0.6831, Class 6: 0.9609, \n",
      "\n",
      "Overall Mean Dice Score: 0.6124\n",
      "Overall Mean F-beta Score: 0.7933\n",
      "\n",
      "Training Loss: 0.3115, Validation Loss: 0.2932, Validation F-beta: 0.7933\n",
      "========================================================\n",
      "SUPER Best model saved. Loss:0.2932, Score:0.7933\n",
      "========================================================\n",
      "Epoch 69/4000\n"
     ]
    },
    {
     "name": "stderr",
     "output_type": "stream",
     "text": [
      "Training: 100%|██████████| 117/117 [00:53<00:00,  2.19it/s, loss=0.283]\n",
      "Validation: 100%|██████████| 5/5 [00:01<00:00,  2.69it/s, loss=0.335]\n"
     ]
    },
    {
     "name": "stdout",
     "output_type": "stream",
     "text": [
      "Validation Dice Score\n",
      "Class 0: 0.9865, Class 1: 0.7271, Class 2: 0.2216, Class 3: 0.3218, Class 4: 0.6444, Class 5: 0.4252, Class 6: 0.8672, \n",
      "Validation F-beta Score\n",
      "Class 0: 0.9784, Class 1: 0.8620, Class 2: 0.1982, Class 3: 0.5781, Class 4: 0.8461, Class 5: 0.6429, Class 6: 0.9608, \n",
      "\n",
      "Overall Mean Dice Score: 0.5972\n",
      "Overall Mean F-beta Score: 0.7780\n",
      "\n",
      "Training Loss: 0.3125, Validation Loss: 0.3104, Validation F-beta: 0.7780\n",
      "Epoch 70/4000\n"
     ]
    },
    {
     "name": "stderr",
     "output_type": "stream",
     "text": [
      "Training: 100%|██████████| 117/117 [00:52<00:00,  2.23it/s, loss=0.268]\n",
      "Validation: 100%|██████████| 5/5 [00:01<00:00,  2.62it/s, loss=0.301]\n"
     ]
    },
    {
     "name": "stdout",
     "output_type": "stream",
     "text": [
      "Validation Dice Score\n",
      "Class 0: 0.9868, Class 1: 0.7160, Class 2: 0.1661, Class 3: 0.3911, Class 4: 0.6956, Class 5: 0.3906, Class 6: 0.8236, \n",
      "Validation F-beta Score\n",
      "Class 0: 0.9788, Class 1: 0.8619, Class 2: 0.1488, Class 3: 0.5754, Class 4: 0.8641, Class 5: 0.6411, Class 6: 0.9475, \n",
      "\n",
      "Overall Mean Dice Score: 0.6034\n",
      "Overall Mean F-beta Score: 0.7780\n",
      "\n",
      "Training Loss: 0.3120, Validation Loss: 0.3057, Validation F-beta: 0.7780\n",
      "Epoch 71/4000\n"
     ]
    },
    {
     "name": "stderr",
     "output_type": "stream",
     "text": [
      "Training: 100%|██████████| 117/117 [00:52<00:00,  2.24it/s, loss=0.293]\n",
      "Validation: 100%|██████████| 5/5 [00:01<00:00,  2.55it/s, loss=0.289]\n"
     ]
    },
    {
     "name": "stdout",
     "output_type": "stream",
     "text": [
      "Validation Dice Score\n",
      "Class 0: 0.9847, Class 1: 0.7137, Class 2: 0.1244, Class 3: 0.3383, Class 4: 0.6329, Class 5: 0.3928, Class 6: 0.8808, \n",
      "Validation F-beta Score\n",
      "Class 0: 0.9750, Class 1: 0.8594, Class 2: 0.1199, Class 3: 0.5197, Class 4: 0.8566, Class 5: 0.6355, Class 6: 0.9626, \n",
      "\n",
      "Overall Mean Dice Score: 0.5917\n",
      "Overall Mean F-beta Score: 0.7668\n",
      "\n",
      "Training Loss: 0.3138, Validation Loss: 0.3056, Validation F-beta: 0.7668\n",
      "Epoch 72/4000\n"
     ]
    },
    {
     "name": "stderr",
     "output_type": "stream",
     "text": [
      "Training: 100%|██████████| 117/117 [00:54<00:00,  2.15it/s, loss=0.277]\n",
      "Validation: 100%|██████████| 5/5 [00:02<00:00,  2.43it/s, loss=0.308]\n"
     ]
    },
    {
     "name": "stdout",
     "output_type": "stream",
     "text": [
      "Validation Dice Score\n",
      "Class 0: 0.9850, Class 1: 0.7439, Class 2: 0.1736, Class 3: 0.3201, Class 4: 0.6296, Class 5: 0.4159, Class 6: 0.8658, \n",
      "Validation F-beta Score\n",
      "Class 0: 0.9757, Class 1: 0.8444, Class 2: 0.1522, Class 3: 0.5545, Class 4: 0.8492, Class 5: 0.6540, Class 6: 0.9520, \n",
      "\n",
      "Overall Mean Dice Score: 0.5951\n",
      "Overall Mean F-beta Score: 0.7708\n",
      "\n",
      "Training Loss: 0.3093, Validation Loss: 0.3146, Validation F-beta: 0.7708\n",
      "Epoch 73/4000\n"
     ]
    },
    {
     "name": "stderr",
     "output_type": "stream",
     "text": [
      "Training: 100%|██████████| 117/117 [00:54<00:00,  2.15it/s, loss=0.29] \n",
      "Validation: 100%|██████████| 5/5 [00:02<00:00,  2.42it/s, loss=0.31] \n"
     ]
    },
    {
     "name": "stdout",
     "output_type": "stream",
     "text": [
      "Validation Dice Score\n",
      "Class 0: 0.9858, Class 1: 0.7586, Class 2: 0.1104, Class 3: 0.3487, Class 4: 0.6829, Class 5: 0.4168, Class 6: 0.8135, \n",
      "Validation F-beta Score\n",
      "Class 0: 0.9773, Class 1: 0.8230, Class 2: 0.0871, Class 3: 0.5526, Class 4: 0.8457, Class 5: 0.6732, Class 6: 0.9252, \n",
      "\n",
      "Overall Mean Dice Score: 0.6041\n",
      "Overall Mean F-beta Score: 0.7639\n",
      "\n",
      "Training Loss: 0.3109, Validation Loss: 0.2976, Validation F-beta: 0.7639\n",
      "Epoch 74/4000\n"
     ]
    },
    {
     "name": "stderr",
     "output_type": "stream",
     "text": [
      "Training: 100%|██████████| 117/117 [00:54<00:00,  2.13it/s, loss=0.258]\n",
      "Validation: 100%|██████████| 5/5 [00:02<00:00,  2.43it/s, loss=0.319]\n"
     ]
    },
    {
     "name": "stdout",
     "output_type": "stream",
     "text": [
      "Validation Dice Score\n",
      "Class 0: 0.9860, Class 1: 0.7365, Class 2: 0.1689, Class 3: 0.3907, Class 4: 0.6584, Class 5: 0.3937, Class 6: 0.8537, \n",
      "Validation F-beta Score\n",
      "Class 0: 0.9770, Class 1: 0.8449, Class 2: 0.1407, Class 3: 0.5804, Class 4: 0.8685, Class 5: 0.6508, Class 6: 0.9371, \n",
      "\n",
      "Overall Mean Dice Score: 0.6066\n",
      "Overall Mean F-beta Score: 0.7763\n",
      "\n",
      "Training Loss: 0.3096, Validation Loss: 0.3133, Validation F-beta: 0.7763\n",
      "Epoch 75/4000\n"
     ]
    },
    {
     "name": "stderr",
     "output_type": "stream",
     "text": [
      "Training: 100%|██████████| 117/117 [00:55<00:00,  2.12it/s, loss=0.252]\n",
      "Validation: 100%|██████████| 5/5 [00:02<00:00,  2.45it/s, loss=0.309]\n"
     ]
    },
    {
     "name": "stdout",
     "output_type": "stream",
     "text": [
      "Validation Dice Score\n",
      "Class 0: 0.9838, Class 1: 0.6843, Class 2: 0.1732, Class 3: 0.3511, Class 4: 0.6497, Class 5: 0.4231, Class 6: 0.8606, \n",
      "Validation F-beta Score\n",
      "Class 0: 0.9745, Class 1: 0.8580, Class 2: 0.1397, Class 3: 0.5203, Class 4: 0.8375, Class 5: 0.6233, Class 6: 0.9658, \n",
      "\n",
      "Overall Mean Dice Score: 0.5938\n",
      "Overall Mean F-beta Score: 0.7610\n",
      "\n",
      "Training Loss: 0.3121, Validation Loss: 0.3166, Validation F-beta: 0.7610\n",
      "Epoch 76/4000\n"
     ]
    },
    {
     "name": "stderr",
     "output_type": "stream",
     "text": [
      "Training: 100%|██████████| 117/117 [00:53<00:00,  2.20it/s, loss=0.293]\n",
      "Validation: 100%|██████████| 5/5 [00:01<00:00,  2.53it/s, loss=0.284]\n"
     ]
    },
    {
     "name": "stdout",
     "output_type": "stream",
     "text": [
      "Validation Dice Score\n",
      "Class 0: 0.9865, Class 1: 0.7419, Class 2: 0.2040, Class 3: 0.3563, Class 4: 0.6314, Class 5: 0.4300, Class 6: 0.8672, \n",
      "Validation F-beta Score\n",
      "Class 0: 0.9782, Class 1: 0.8765, Class 2: 0.1813, Class 3: 0.5308, Class 4: 0.8536, Class 5: 0.6535, Class 6: 0.9544, \n",
      "\n",
      "Overall Mean Dice Score: 0.6053\n",
      "Overall Mean F-beta Score: 0.7737\n",
      "\n",
      "Training Loss: 0.3112, Validation Loss: 0.2968, Validation F-beta: 0.7737\n",
      "Epoch 77/4000\n"
     ]
    },
    {
     "name": "stderr",
     "output_type": "stream",
     "text": [
      "Training: 100%|██████████| 117/117 [00:53<00:00,  2.17it/s, loss=0.272]\n",
      "Validation: 100%|██████████| 5/5 [00:01<00:00,  2.55it/s, loss=0.307]"
     ]
    },
    {
     "name": "stdout",
     "output_type": "stream",
     "text": [
      "Validation Dice Score\n",
      "Class 0: 0.9852, Class 1: 0.7529, Class 2: 0.1555, Class 3: 0.3846, Class 4: 0.6793, Class 5: 0.3985, Class 6: 0.8335, \n",
      "Validation F-beta Score\n",
      "Class 0: 0.9763, Class 1: 0.8697, Class 2: 0.1204, Class 3: 0.5507, Class 4: 0.8797, Class 5: 0.6219, Class 6: 0.9474, \n",
      "\n",
      "Overall Mean Dice Score: 0.6097\n",
      "Overall Mean F-beta Score: 0.7739\n",
      "\n",
      "Training Loss: 0.3112, Validation Loss: 0.2951, Validation F-beta: 0.7739\n",
      "Early stopping\n"
     ]
    },
    {
     "name": "stderr",
     "output_type": "stream",
     "text": [
      "\n"
     ]
    },
    {
     "data": {
      "text/html": [],
      "text/plain": [
       "<IPython.core.display.HTML object>"
      ]
     },
     "metadata": {},
     "output_type": "display_data"
    },
    {
     "data": {
      "text/html": [
       "<br>    <style><br>        .wandb-row {<br>            display: flex;<br>            flex-direction: row;<br>            flex-wrap: wrap;<br>            justify-content: flex-start;<br>            width: 100%;<br>        }<br>        .wandb-col {<br>            display: flex;<br>            flex-direction: column;<br>            flex-basis: 100%;<br>            flex: 1;<br>            padding: 10px;<br>        }<br>    </style><br><div class=\"wandb-row\"><div class=\"wandb-col\"><h3>Run history:</h3><br/><table class=\"wandb\"><tr><td>class_0_dice_score</td><td>▁▃▃▅▅▆▄▅▅▅▅██▆▇▇▆▇██▇▆▇█▇▇▇▇▇▆▇▆▇▇█▇▇▇▇█</td></tr><tr><td>class_0_f_beta_score</td><td>▁▃▃▅▅▆▃▅▅▆▇█▇▇▇▇▇▆▆▇▆▇▇▇▆▇▇▆▆▆▆▇▇▆▇▇▇▇▆▇</td></tr><tr><td>class_1_dice_score</td><td>▁▁▂▅▅▆▆▆▆▇▇▇▇▇▇▇█▇▇▇▇▇▇█▇██▇███▇█▇▇█▇▇██</td></tr><tr><td>class_1_f_beta_score</td><td>▁▁▄▅▄▆▆▆▆▇▇▇▇█▇▇▇██▇██▇███▇█▇▇▇█████████</td></tr><tr><td>class_2_dice_score</td><td>▁▁▁▁▁▁▂▁▄▂▄▅▄▄▄▅▅▆▅▆▅▆▅▆▆▇▆▇▅▄▆█▆▇▇▅▇▅▇█</td></tr><tr><td>class_2_f_beta_score</td><td>▁▁▁▁▂▂▁▂▃▂▂▃▃▄▃▄▄▄▄▃▅▅▄▅▅▆▄▇▅▅▇▆▅▆▇█▆▅▆▅</td></tr><tr><td>class_3_dice_score</td><td>▁▁▂▃▃▄▄▃▅▅▅▅▅▅▄▅▅▇▆▆▆▆▆▅▆▇▆▇▇▇▇▇█▆▆█▆▇▇▇</td></tr><tr><td>class_3_f_beta_score</td><td>▁▃▃▄▃▆▅▆▅▆▆▇▆▅▆▇▅▇▅▇▆▆▇▇▆▆▅▆▇▇▇▇▆▆▇▇█▇▇▇</td></tr><tr><td>class_4_dice_score</td><td>▁▃▄▄▅▅▅▆▆▆▆▇▅▇▆▆▆▆█▇▆██▇█▇█▇█▇▇▇▇▇▇▇▇█▇▇</td></tr><tr><td>class_4_f_beta_score</td><td>▂▁▁▃▅▅▆▇▇▇▆▅▇▆▇▃▆▆▅▇▆▆▆▇▆▆▇▅▇▇▅▇██▇▇▆▇▆█</td></tr><tr><td>class_5_dice_score</td><td>▁▄▅▅▄▇▇▆▇▇▆▆▆▆▆▇▇▆██▇▇▇▇▇▇▇▆█▇▇▇▇▇▇▇▇▇▇▇</td></tr><tr><td>class_5_f_beta_score</td><td>▁▂▆▆▇▇▇▇▇▇▇▇▇▇▆▇▇▆▇▇▇▇▇▇▇▇▇██▇█▇█▇▇▇▇▇██</td></tr><tr><td>class_6_dice_score</td><td>▁▄▆▆▇█▇▇█▇████▇▇█▇██████▇▇████▇███▇█████</td></tr><tr><td>class_6_f_beta_score</td><td>▁▄▄▆▇███████████████████████████████████</td></tr><tr><td>epoch</td><td>▁▁▁▁▁▂▂▂▂▂▃▃▃▃▃▃▃▃▄▄▅▅▅▅▅▆▆▆▆▇▇▇▇▇▇█████</td></tr><tr><td>overall_mean_dice_score</td><td>▁▄▅▆▇▇▇▇▇▇██▇█▇▇▇███████████████████████</td></tr><tr><td>overall_mean_f_beta_score</td><td>▁▂▃▄▅▆▆▇▇▇▇▇▇▇▇▆▇▇▇█▇▇▇▇▇▇▇▇█▇▇██▇██████</td></tr><tr><td>train_epoch_loss</td><td>█▆▆▅▅▄▃▃▃▃▃▃▂▂▂▂▂▂▂▂▂▂▂▂▂▁▁▁▁▂▁▁▁▁▁▁▁▁▁▁</td></tr><tr><td>val_epoch_loss</td><td>█▇▆▅▄▃▃▃▃▄▃▃▃▃▃▃▃▂▃▂▁▂▂▂▂▁▁▂▂▂▁▂▂▂▂▂▂▂▂▁</td></tr></table><br/></div><div class=\"wandb-col\"><h3>Run summary:</h3><br/><table class=\"wandb\"><tr><td>class_0_dice_score</td><td>0.98519</td></tr><tr><td>class_0_f_beta_score</td><td>0.97625</td></tr><tr><td>class_1_dice_score</td><td>0.75287</td></tr><tr><td>class_1_f_beta_score</td><td>0.86966</td></tr><tr><td>class_2_dice_score</td><td>0.15555</td></tr><tr><td>class_2_f_beta_score</td><td>0.12044</td></tr><tr><td>class_3_dice_score</td><td>0.38456</td></tr><tr><td>class_3_f_beta_score</td><td>0.55069</td></tr><tr><td>class_4_dice_score</td><td>0.6793</td></tr><tr><td>class_4_f_beta_score</td><td>0.87971</td></tr><tr><td>class_5_dice_score</td><td>0.39855</td></tr><tr><td>class_5_f_beta_score</td><td>0.62194</td></tr><tr><td>class_6_dice_score</td><td>0.83347</td></tr><tr><td>class_6_f_beta_score</td><td>0.94743</td></tr><tr><td>epoch</td><td>77</td></tr><tr><td>overall_mean_dice_score</td><td>0.60975</td></tr><tr><td>overall_mean_f_beta_score</td><td>0.77389</td></tr><tr><td>train_epoch_loss</td><td>0.31124</td></tr><tr><td>val_epoch_loss</td><td>0.29514</td></tr></table><br/></div></div>"
      ],
      "text/plain": [
       "<IPython.core.display.HTML object>"
      ]
     },
     "metadata": {},
     "output_type": "display_data"
    },
    {
     "data": {
      "text/html": [
       " View run <strong style=\"color:#cdcd00\">UNet_newloss_a1_96x96x96_e4000_lr0.001_lamda0.52_ce0.4_no_weighted</strong> at: <a href='https://wandb.ai/waooang/czii_SwinUnetR/runs/sx6s27po' target=\"_blank\">https://wandb.ai/waooang/czii_SwinUnetR/runs/sx6s27po</a><br> View project at: <a href='https://wandb.ai/waooang/czii_SwinUnetR' target=\"_blank\">https://wandb.ai/waooang/czii_SwinUnetR</a><br>Synced 5 W&B file(s), 0 media file(s), 0 artifact file(s) and 0 other file(s)"
      ],
      "text/plain": [
       "<IPython.core.display.HTML object>"
      ]
     },
     "metadata": {},
     "output_type": "display_data"
    },
    {
     "data": {
      "text/html": [
       "Find logs at: <code>.\\wandb\\run-20250116_121324-sx6s27po\\logs</code>"
      ],
      "text/plain": [
       "<IPython.core.display.HTML object>"
      ]
     },
     "metadata": {},
     "output_type": "display_data"
    }
   ],
   "source": [
    "train_model(\n",
    "    model=model,\n",
    "    train_loader=train_loader,\n",
    "    val_loader=val_loader,\n",
    "    criterion=criterion,\n",
    "    optimizer=optimizer,\n",
    "    num_epochs=num_epochs,\n",
    "    patience=10,\n",
    "    device=device,\n",
    "    start_epoch=start_epoch,\n",
    "    best_val_loss=best_val_loss,\n",
    "    best_val_fbeta_score=best_val_fbeta_score,\n",
    "    calculate_dice_interval=1,\n",
    "    accumulation_steps = accumulation_steps\n",
    "    ) "
   ]
  },
  {
   "cell_type": "code",
   "execution_count": 12,
   "metadata": {},
   "outputs": [
    {
     "ename": "SyntaxError",
     "evalue": "invalid syntax (879943805.py, line 1)",
     "output_type": "error",
     "traceback": [
      "\u001b[1;36m  Cell \u001b[1;32mIn[12], line 1\u001b[1;36m\u001b[0m\n\u001b[1;33m    if:\u001b[0m\n\u001b[1;37m      ^\u001b[0m\n\u001b[1;31mSyntaxError\u001b[0m\u001b[1;31m:\u001b[0m invalid syntax\n"
     ]
    }
   ],
   "source": [
    "if:"
   ]
  },
  {
   "cell_type": "markdown",
   "metadata": {},
   "source": [
    "# VAl"
   ]
  },
  {
   "cell_type": "code",
   "execution_count": null,
   "metadata": {},
   "outputs": [
    {
     "data": {
      "text/html": [
       "Finishing last run (ID:fs6utwyo) before initializing another..."
      ],
      "text/plain": [
       "<IPython.core.display.HTML object>"
      ]
     },
     "metadata": {},
     "output_type": "display_data"
    },
    {
     "data": {
      "application/vnd.jupyter.widget-view+json": {
       "model_id": "29cc3ae761af43baae5aca60b5d2e7f4",
       "version_major": 2,
       "version_minor": 0
      },
      "text/plain": [
       "VBox(children=(Label(value='0.009 MB of 0.009 MB uploaded\\r'), FloatProgress(value=1.0, max=1.0)))"
      ]
     },
     "metadata": {},
     "output_type": "display_data"
    },
    {
     "data": {
      "text/html": [
       "<style>\n",
       "    table.wandb td:nth-child(1) { padding: 0 10px; text-align: left ; width: auto;} td:nth-child(2) {text-align: left ; width: 100%}\n",
       "    .wandb-row { display: flex; flex-direction: row; flex-wrap: wrap; justify-content: flex-start; width: 100% }\n",
       "    .wandb-col { display: flex; flex-direction: column; flex-basis: 100%; flex: 1; padding: 10px; }\n",
       "    </style>\n",
       "<div class=\"wandb-row\"><div class=\"wandb-col\"><h3>Run history:</h3><br/><table class=\"wandb\"><tr><td>class_0_dice_score</td><td>▁</td></tr><tr><td>class_0_f_beta_score</td><td>▁</td></tr><tr><td>class_1_dice_score</td><td>▁</td></tr><tr><td>class_1_f_beta_score</td><td>▁</td></tr><tr><td>class_2_dice_score</td><td>▁</td></tr><tr><td>class_2_f_beta_score</td><td>▁</td></tr><tr><td>class_3_dice_score</td><td>▁</td></tr><tr><td>class_3_f_beta_score</td><td>▁</td></tr><tr><td>class_4_dice_score</td><td>▁</td></tr><tr><td>class_4_f_beta_score</td><td>▁</td></tr><tr><td>class_5_dice_score</td><td>▁</td></tr><tr><td>class_5_f_beta_score</td><td>▁</td></tr><tr><td>class_6_dice_score</td><td>▁</td></tr><tr><td>class_6_f_beta_score</td><td>▁</td></tr><tr><td>epoch</td><td>▁▁▁▁▁▁▁▁▁▁▁▁▁▁▁▁</td></tr><tr><td>overall_mean_dice_score</td><td>▁</td></tr><tr><td>overall_mean_f_beta_score</td><td>▁</td></tr><tr><td>val_epoch_loss</td><td>▁</td></tr></table><br/></div><div class=\"wandb-col\"><h3>Run summary:</h3><br/><table class=\"wandb\"><tr><td>class_0_dice_score</td><td>0.65703</td></tr><tr><td>class_0_f_beta_score</td><td>0.50748</td></tr><tr><td>class_1_dice_score</td><td>0.53332</td></tr><tr><td>class_1_f_beta_score</td><td>0.64703</td></tr><tr><td>class_2_dice_score</td><td>0.00286</td></tr><tr><td>class_2_f_beta_score</td><td>0.02334</td></tr><tr><td>class_3_dice_score</td><td>0.23703</td></tr><tr><td>class_3_f_beta_score</td><td>0.23033</td></tr><tr><td>class_4_dice_score</td><td>0.65487</td></tr><tr><td>class_4_f_beta_score</td><td>0.62525</td></tr><tr><td>class_5_dice_score</td><td>0.47899</td></tr><tr><td>class_5_f_beta_score</td><td>0.51448</td></tr><tr><td>class_6_dice_score</td><td>0.42545</td></tr><tr><td>class_6_f_beta_score</td><td>0.47197</td></tr><tr><td>epoch</td><td>1</td></tr><tr><td>overall_mean_dice_score</td><td>0.42708</td></tr><tr><td>overall_mean_f_beta_score</td><td>0.43141</td></tr><tr><td>val_epoch_loss</td><td>0.7152</td></tr></table><br/></div></div>"
      ],
      "text/plain": [
       "<IPython.core.display.HTML object>"
      ]
     },
     "metadata": {},
     "output_type": "display_data"
    },
    {
     "data": {
      "text/html": [
       " View run <strong style=\"color:#cdcd00\">SwinUNETR96_96_lr0.001_lambda0.52_batch2</strong> at: <a href='https://wandb.ai/waooang/czii_SwinUnetR_val/runs/fs6utwyo' target=\"_blank\">https://wandb.ai/waooang/czii_SwinUnetR_val/runs/fs6utwyo</a><br/> View project at: <a href='https://wandb.ai/waooang/czii_SwinUnetR_val' target=\"_blank\">https://wandb.ai/waooang/czii_SwinUnetR_val</a><br/>Synced 4 W&B file(s), 0 media file(s), 3 artifact file(s) and 0 other file(s)"
      ],
      "text/plain": [
       "<IPython.core.display.HTML object>"
      ]
     },
     "metadata": {},
     "output_type": "display_data"
    },
    {
     "data": {
      "text/html": [
       "Find logs at: <code>.\\wandb\\run-20241219_200219-fs6utwyo\\logs</code>"
      ],
      "text/plain": [
       "<IPython.core.display.HTML object>"
      ]
     },
     "metadata": {},
     "output_type": "display_data"
    },
    {
     "data": {
      "text/html": [
       "Successfully finished last run (ID:fs6utwyo). Initializing new run:<br/>"
      ],
      "text/plain": [
       "<IPython.core.display.HTML object>"
      ]
     },
     "metadata": {},
     "output_type": "display_data"
    },
    {
     "data": {
      "text/html": [
       "Tracking run with wandb version 0.18.3"
      ],
      "text/plain": [
       "<IPython.core.display.HTML object>"
      ]
     },
     "metadata": {},
     "output_type": "display_data"
    },
    {
     "data": {
      "text/html": [
       "Run data is saved locally in <code>e:\\Workspace\\czll\\wandb\\run-20241219_200454-121l7bn3</code>"
      ],
      "text/plain": [
       "<IPython.core.display.HTML object>"
      ]
     },
     "metadata": {},
     "output_type": "display_data"
    },
    {
     "data": {
      "text/html": [
       "Syncing run <strong><a href='https://wandb.ai/waooang/czii_SwinUnetR_val/runs/121l7bn3' target=\"_blank\">SwinUNETR96_96_lr0.001_lambda0.52_batch2</a></strong> to <a href='https://wandb.ai/waooang/czii_SwinUnetR_val' target=\"_blank\">Weights & Biases</a> (<a href='https://wandb.me/run' target=\"_blank\">docs</a>)<br/>"
      ],
      "text/plain": [
       "<IPython.core.display.HTML object>"
      ]
     },
     "metadata": {},
     "output_type": "display_data"
    },
    {
     "data": {
      "text/html": [
       " View project at <a href='https://wandb.ai/waooang/czii_SwinUnetR_val' target=\"_blank\">https://wandb.ai/waooang/czii_SwinUnetR_val</a>"
      ],
      "text/plain": [
       "<IPython.core.display.HTML object>"
      ]
     },
     "metadata": {},
     "output_type": "display_data"
    },
    {
     "data": {
      "text/html": [
       " View run at <a href='https://wandb.ai/waooang/czii_SwinUnetR_val/runs/121l7bn3' target=\"_blank\">https://wandb.ai/waooang/czii_SwinUnetR_val/runs/121l7bn3</a>"
      ],
      "text/plain": [
       "<IPython.core.display.HTML object>"
      ]
     },
     "metadata": {},
     "output_type": "display_data"
    },
    {
     "name": "stderr",
     "output_type": "stream",
     "text": [
      "Loading dataset: 100%|██████████| 4/4 [00:06<00:00,  1.58s/it]\n",
      "C:\\Users\\Seungwoo\\AppData\\Local\\Temp\\ipykernel_21000\\1177025787.py:95: FutureWarning: You are using `torch.load` with `weights_only=False` (the current default value), which uses the default pickle module implicitly. It is possible to construct malicious pickle data which will execute arbitrary code during unpickling (See https://github.com/pytorch/pytorch/blob/main/SECURITY.md#untrusted-models for more details). In a future release, the default value for `weights_only` will be flipped to `True`. This limits the functions that could be executed during unpickling. Arbitrary objects will no longer be allowed to be loaded via this mode unless they are explicitly allowlisted by the user via `torch.serialization.add_safe_globals`. We recommend you start setting `weights_only=True` for any use case where you don't have full control of the loaded file. Please open an issue on GitHub for any issues related to this experimental feature.\n",
      "  checkpoint = torch.load(pretrain_path, map_location=device)\n",
      "Validation: 100%|██████████| 4/4 [00:01<00:00,  2.38it/s, loss=0.865]"
     ]
    },
    {
     "name": "stdout",
     "output_type": "stream",
     "text": [
      "Validation Dice Score\n",
      "Class 0: 0.6570, Class 1: 0.5333, Class 2: 0.0029, Class 3: 0.2370, \n",
      "Class 4: 0.6549, Class 5: 0.4790, Class 6: 0.4255, \n",
      "Validation F-beta Score\n",
      "Class 0: 0.5075, Class 1: 0.6470, Class 2: 0.0233, Class 3: 0.2303, \n",
      "Class 4: 0.6252, Class 5: 0.5145, Class 6: 0.4720, \n",
      "Overall Mean Dice Score: 0.4659\n",
      "Overall Mean F-beta Score: 0.4978\n",
      "\n"
     ]
    },
    {
     "name": "stderr",
     "output_type": "stream",
     "text": [
      "\n"
     ]
    }
   ],
   "source": [
    "from monai.data import DataLoader, Dataset, CacheDataset\n",
    "from monai.transforms import (\n",
    "    Compose, LoadImaged, EnsureChannelFirstd, NormalizeIntensityd,\n",
    "    Orientationd, CropForegroundd, GaussianSmoothd, ScaleIntensityd,\n",
    "    RandSpatialCropd, RandRotate90d, RandFlipd, RandGaussianNoised,\n",
    "    ToTensord, RandCropByLabelClassesd\n",
    ")\n",
    "from monai.metrics import DiceMetric\n",
    "from monai.networks.nets import UNETR, SwinUNETR\n",
    "from monai.losses import TverskyLoss\n",
    "import torch\n",
    "import numpy as np\n",
    "from tqdm import tqdm\n",
    "import wandb\n",
    "from src.dataset.dataset import make_val_dataloader\n",
    "\n",
    "val_img_dir = \"./datasets/val/images\"\n",
    "val_label_dir = \"./datasets/val/labels\"\n",
    "img_depth = 96\n",
    "img_size = 96  # Match your patch size\n",
    "n_classes = 7\n",
    "batch_size = 2 # 13.8GB GPU memory required for 128x128 img size\n",
    "num_samples = batch_size # 한 이미지에서 뽑을 샘플 수\n",
    "loader_batch = 1\n",
    "lamda = 0.52\n",
    "\n",
    "wandb.init(\n",
    "    project='czii_SwinUnetR_val',  # 프로젝트 이름 설정\n",
    "    name='SwinUNETR96_96_lr0.001_lambda0.52_batch2',         # 실행(run) 이름 설정\n",
    "    config={\n",
    "        'learning_rate': 0.001,\n",
    "        'batch_size': batch_size,\n",
    "        'lambda': lamda,\n",
    "        'img_size': img_size,\n",
    "        'device': 'cuda',\n",
    "        \"checkpoint_dir\": \"./model_checkpoints/SwinUNETR96_96_lr0.001_lambda0.52_batch2\",\n",
    "        \n",
    "    }\n",
    ")\n",
    "\n",
    "non_random_transforms = Compose([\n",
    "    EnsureChannelFirstd(keys=[\"image\", \"label\"], channel_dim=\"no_channel\"),\n",
    "    NormalizeIntensityd(keys=\"image\"),\n",
    "    Orientationd(keys=[\"image\", \"label\"], axcodes=\"RAS\"),\n",
    "    # GaussianSmoothd(\n",
    "    #     keys=[\"image\"],      # 변환을 적용할 키\n",
    "    #     sigma=[1.0, 1.0, 1.0]  # 각 축(x, y, z)의 시그마 값\n",
    "    #     ),\n",
    "])\n",
    "random_transforms = Compose([\n",
    "    RandCropByLabelClassesd(\n",
    "        keys=[\"image\", \"label\"],\n",
    "        label_key=\"label\",\n",
    "        spatial_size=[img_depth, img_size, img_size],\n",
    "        num_classes=n_classes,\n",
    "        num_samples=num_samples, \n",
    "        ratios=ratios_list,\n",
    "    ),\n",
    "    RandRotate90d(keys=[\"image\", \"label\"], prob=0.5, spatial_axes=[1, 2]),\n",
    "    RandFlipd(keys=[\"image\", \"label\"], prob=0.5, spatial_axis=0),\n",
    "])\n",
    "\n",
    "val_loader = make_val_dataloader(\n",
    "    val_img_dir, \n",
    "    val_label_dir, \n",
    "    non_random_transforms = non_random_transforms, \n",
    "    random_transforms = random_transforms, \n",
    "    batch_size = loader_batch,\n",
    "    num_workers=0\n",
    ")\n",
    "criterion = TverskyLoss(\n",
    "    alpha= 1 - lamda,  # FP에 대한 가중치\n",
    "    beta=lamda,       # FN에 대한 가중치\n",
    "    include_background=False,  # 배경 클래스 제외\n",
    "    softmax=True\n",
    ")\n",
    "    \n",
    "    \n",
    "from monai.metrics import DiceMetric\n",
    "\n",
    "img_size = 96\n",
    "img_depth = img_size\n",
    "n_classes = 7 \n",
    "\n",
    "device = torch.device(\"cuda\" if torch.cuda.is_available() else \"cpu\")\n",
    "pretrain_path = \"./model_checkpoints/SwinUNETR96_96_lr0.001_lambda0.52_batch2/best_model.pt\"\n",
    "model = SwinUNETR(\n",
    "    img_size=(img_depth, img_size, img_size),\n",
    "    in_channels=1,\n",
    "    out_channels=n_classes,\n",
    "    feature_size=48,\n",
    "    use_checkpoint=True,\n",
    ").to(device)\n",
    "# Pretrained weights 불러오기\n",
    "checkpoint = torch.load(pretrain_path, map_location=device)\n",
    "model.load_state_dict(checkpoint['model_state_dict'])\n",
    "\n",
    "val_loss, overall_mean_fbeta_score = validate_one_epoch(\n",
    "    model=model, \n",
    "    val_loader=val_loader, \n",
    "    criterion=criterion, \n",
    "    device=device, \n",
    "    epoch=0, \n",
    "    calculate_dice_interval=1\n",
    ")"
   ]
  },
  {
   "cell_type": "markdown",
   "metadata": {},
   "source": [
    "# Inference"
   ]
  },
  {
   "cell_type": "code",
   "execution_count": null,
   "metadata": {},
   "outputs": [],
   "source": [
    "from src.dataset.preprocessing import Preprocessor"
   ]
  },
  {
   "cell_type": "code",
   "execution_count": null,
   "metadata": {},
   "outputs": [
    {
     "name": "stdout",
     "output_type": "stream",
     "text": [
      "Done.\n"
     ]
    }
   ],
   "source": [
    "from monai.inferers import sliding_window_inference\n",
    "from monai.transforms import Compose, EnsureChannelFirstd, NormalizeIntensityd, Orientationd, GaussianSmoothd\n",
    "from monai.data import DataLoader, Dataset, CacheDataset\n",
    "from monai.networks.nets import SwinUNETR\n",
    "from pathlib import Path\n",
    "import numpy as np\n",
    "import copick\n",
    "\n",
    "import torch\n",
    "print(\"Done.\")"
   ]
  },
  {
   "cell_type": "code",
   "execution_count": null,
   "metadata": {},
   "outputs": [
    {
     "name": "stdout",
     "output_type": "stream",
     "text": [
      "Config file written to ./kaggle/working/copick.config\n",
      "file length: 7\n"
     ]
    }
   ],
   "source": [
    "config_blob = \"\"\"{\n",
    "    \"name\": \"czii_cryoet_mlchallenge_2024\",\n",
    "    \"description\": \"2024 CZII CryoET ML Challenge training data.\",\n",
    "    \"version\": \"1.0.0\",\n",
    "\n",
    "    \"pickable_objects\": [\n",
    "        {\n",
    "            \"name\": \"apo-ferritin\",\n",
    "            \"is_particle\": true,\n",
    "            \"pdb_id\": \"4V1W\",\n",
    "            \"label\": 1,\n",
    "            \"color\": [  0, 117, 220, 128],\n",
    "            \"radius\": 60,\n",
    "            \"map_threshold\": 0.0418\n",
    "        },\n",
    "        {\n",
    "          \"name\" : \"beta-amylase\",\n",
    "            \"is_particle\": true,\n",
    "            \"pdb_id\": \"8ZRZ\",\n",
    "            \"label\": 2,\n",
    "            \"color\": [255, 255, 255, 128],\n",
    "            \"radius\": 90,\n",
    "            \"map_threshold\": 0.0578  \n",
    "        },\n",
    "        {\n",
    "            \"name\": \"beta-galactosidase\",\n",
    "            \"is_particle\": true,\n",
    "            \"pdb_id\": \"6X1Q\",\n",
    "            \"label\": 3,\n",
    "            \"color\": [ 76,   0,  92, 128],\n",
    "            \"radius\": 90,\n",
    "            \"map_threshold\": 0.0578\n",
    "        },\n",
    "        {\n",
    "            \"name\": \"ribosome\",\n",
    "            \"is_particle\": true,\n",
    "            \"pdb_id\": \"6EK0\",\n",
    "            \"label\": 4,\n",
    "            \"color\": [  0,  92,  49, 128],\n",
    "            \"radius\": 150,\n",
    "            \"map_threshold\": 0.0374\n",
    "        },\n",
    "        {\n",
    "            \"name\": \"thyroglobulin\",\n",
    "            \"is_particle\": true,\n",
    "            \"pdb_id\": \"6SCJ\",\n",
    "            \"label\": 5,\n",
    "            \"color\": [ 43, 206,  72, 128],\n",
    "            \"radius\": 130,\n",
    "            \"map_threshold\": 0.0278\n",
    "        },\n",
    "        {\n",
    "            \"name\": \"virus-like-particle\",\n",
    "            \"is_particle\": true,\n",
    "            \"label\": 6,\n",
    "            \"color\": [255, 204, 153, 128],\n",
    "            \"radius\": 135,\n",
    "            \"map_threshold\": 0.201\n",
    "        },\n",
    "        {\n",
    "            \"name\": \"membrane\",\n",
    "            \"is_particle\": false,\n",
    "            \"label\": 8,\n",
    "            \"color\": [100, 100, 100, 128]\n",
    "        },\n",
    "        {\n",
    "            \"name\": \"background\",\n",
    "            \"is_particle\": false,\n",
    "            \"label\": 9,\n",
    "            \"color\": [10, 150, 200, 128]\n",
    "        }\n",
    "    ],\n",
    "\n",
    "    \"overlay_root\": \"./kaggle/working/overlay\",\n",
    "\n",
    "    \"overlay_fs_args\": {\n",
    "        \"auto_mkdir\": true\n",
    "    },\n",
    "\n",
    "    \"static_root\": \"./kaggle/input/czii-cryo-et-object-identification/test/static\"\n",
    "}\"\"\"\n",
    "\n",
    "copick_config_path = \"./kaggle/working/copick.config\"\n",
    "preprocessor = Preprocessor(config_blob,copick_config_path=copick_config_path)\n",
    "non_random_transforms = Compose([\n",
    "    EnsureChannelFirstd(keys=[\"image\"], channel_dim=\"no_channel\"),\n",
    "    NormalizeIntensityd(keys=\"image\"),\n",
    "    Orientationd(keys=[\"image\"], axcodes=\"RAS\"),\n",
    "    GaussianSmoothd(\n",
    "        keys=[\"image\"],      # 변환을 적용할 키\n",
    "        sigma=[1.0, 1.0, 1.0]  # 각 축(x, y, z)의 시그마 값\n",
    "        ),\n",
    "    ])"
   ]
  },
  {
   "cell_type": "code",
   "execution_count": null,
   "metadata": {},
   "outputs": [
    {
     "name": "stderr",
     "output_type": "stream",
     "text": [
      "c:\\ProgramData\\anaconda3\\envs\\ship\\Lib\\site-packages\\monai\\utils\\deprecate_utils.py:221: FutureWarning: monai.networks.nets.swin_unetr SwinUNETR.__init__:img_size: Argument `img_size` has been deprecated since version 1.3. It will be removed in version 1.5. The img_size argument is not required anymore and checks on the input size are run during forward().\n",
      "  warn_deprecated(argname, msg, warning_category)\n",
      "C:\\Users\\Seungwoo\\AppData\\Local\\Temp\\ipykernel_6248\\2937359115.py:15: FutureWarning: You are using `torch.load` with `weights_only=False` (the current default value), which uses the default pickle module implicitly. It is possible to construct malicious pickle data which will execute arbitrary code during unpickling (See https://github.com/pytorch/pytorch/blob/main/SECURITY.md#untrusted-models for more details). In a future release, the default value for `weights_only` will be flipped to `True`. This limits the functions that could be executed during unpickling. Arbitrary objects will no longer be allowed to be loaded via this mode unless they are explicitly allowlisted by the user via `torch.serialization.add_safe_globals`. We recommend you start setting `weights_only=True` for any use case where you don't have full control of the loaded file. Please open an issue on GitHub for any issues related to this experimental feature.\n",
      "  checkpoint = torch.load(pretrain_path, map_location=device)\n"
     ]
    },
    {
     "data": {
      "text/plain": [
       "<All keys matched successfully>"
      ]
     },
     "execution_count": 15,
     "metadata": {},
     "output_type": "execute_result"
    }
   ],
   "source": [
    "img_size = 96\n",
    "img_depth = img_size\n",
    "n_classes = 7 \n",
    "\n",
    "device = torch.device(\"cuda\" if torch.cuda.is_available() else \"cpu\")\n",
    "pretrain_path = \"./model_checkpoints/SwinUNETR96_96_lr0.001_lambda0.52_batch2/best_model.pt\"\n",
    "model = SwinUNETR(\n",
    "    img_size=(img_depth, img_size, img_size),\n",
    "    in_channels=1,\n",
    "    out_channels=n_classes,\n",
    "    feature_size=48,\n",
    "    use_checkpoint=True,\n",
    ").to(device)\n",
    "# Pretrained weights 불러오기\n",
    "checkpoint = torch.load(pretrain_path, map_location=device)\n",
    "model.load_state_dict(checkpoint['model_state_dict'])\n"
   ]
  },
  {
   "cell_type": "code",
   "execution_count": null,
   "metadata": {},
   "outputs": [
    {
     "name": "stderr",
     "output_type": "stream",
     "text": [
      "Validation:   0%|          | 0/4 [00:03<?, ?it/s, loss=0.764]\n"
     ]
    },
    {
     "ename": "ZeroDivisionError",
     "evalue": "integer modulo by zero",
     "output_type": "error",
     "traceback": [
      "\u001b[1;31m---------------------------------------------------------------------------\u001b[0m",
      "\u001b[1;31mZeroDivisionError\u001b[0m                         Traceback (most recent call last)",
      "Cell \u001b[1;32mIn[16], line 1\u001b[0m\n\u001b[1;32m----> 1\u001b[0m val_loss \u001b[38;5;241m=\u001b[39m \u001b[43mvalidate_one_epoch\u001b[49m\u001b[43m(\u001b[49m\n\u001b[0;32m      2\u001b[0m \u001b[43m            \u001b[49m\u001b[43mmodel\u001b[49m\u001b[38;5;241;43m=\u001b[39;49m\u001b[43mmodel\u001b[49m\u001b[43m,\u001b[49m\u001b[43m \u001b[49m\n\u001b[0;32m      3\u001b[0m \u001b[43m            \u001b[49m\u001b[43mval_loader\u001b[49m\u001b[38;5;241;43m=\u001b[39;49m\u001b[43mval_loader\u001b[49m\u001b[43m,\u001b[49m\u001b[43m \u001b[49m\n\u001b[0;32m      4\u001b[0m \u001b[43m            \u001b[49m\u001b[43mcriterion\u001b[49m\u001b[38;5;241;43m=\u001b[39;49m\u001b[43mcriterion\u001b[49m\u001b[43m,\u001b[49m\u001b[43m \u001b[49m\n\u001b[0;32m      5\u001b[0m \u001b[43m            \u001b[49m\u001b[43mdevice\u001b[49m\u001b[38;5;241;43m=\u001b[39;49m\u001b[43mdevice\u001b[49m\u001b[43m,\u001b[49m\u001b[43m \u001b[49m\n\u001b[0;32m      6\u001b[0m \u001b[43m            \u001b[49m\u001b[43mepoch\u001b[49m\u001b[38;5;241;43m=\u001b[39;49m\u001b[38;5;241;43m1\u001b[39;49m\u001b[43m,\u001b[49m\u001b[43m \u001b[49m\n\u001b[0;32m      7\u001b[0m \u001b[43m            \u001b[49m\u001b[43mcalculate_dice_interval\u001b[49m\u001b[38;5;241;43m=\u001b[39;49m\u001b[38;5;241;43m0\u001b[39;49m\n\u001b[0;32m      8\u001b[0m \u001b[43m        \u001b[49m\u001b[43m)\u001b[49m\n",
      "Cell \u001b[1;32mIn[11], line 64\u001b[0m, in \u001b[0;36mvalidate_one_epoch\u001b[1;34m(model, val_loader, criterion, device, epoch, calculate_dice_interval)\u001b[0m\n\u001b[0;32m     61\u001b[0m pbar\u001b[38;5;241m.\u001b[39mset_postfix(loss\u001b[38;5;241m=\u001b[39mloss\u001b[38;5;241m.\u001b[39mitem())\n\u001b[0;32m     63\u001b[0m \u001b[38;5;66;03m# 각 클래스별 Dice 점수 계산\u001b[39;00m\n\u001b[1;32m---> 64\u001b[0m \u001b[38;5;28;01mif\u001b[39;00m \u001b[43mepoch\u001b[49m\u001b[43m \u001b[49m\u001b[38;5;241;43m%\u001b[39;49m\u001b[43m \u001b[49m\u001b[43mcalculate_dice_interval\u001b[49m \u001b[38;5;241m==\u001b[39m \u001b[38;5;241m0\u001b[39m:\n\u001b[0;32m     65\u001b[0m     \u001b[38;5;28;01mfor\u001b[39;00m i \u001b[38;5;129;01min\u001b[39;00m \u001b[38;5;28mrange\u001b[39m(n_classes):\n\u001b[0;32m     66\u001b[0m         pred_i \u001b[38;5;241m=\u001b[39m (preds \u001b[38;5;241m==\u001b[39m i)\n",
      "\u001b[1;31mZeroDivisionError\u001b[0m: integer modulo by zero"
     ]
    }
   ],
   "source": [
    "val_loss = validate_one_epoch(\n",
    "            model=model, \n",
    "            val_loader=val_loader, \n",
    "            criterion=criterion, \n",
    "            device=device, \n",
    "            epoch=1, \n",
    "            calculate_dice_interval=0\n",
    "        )"
   ]
  },
  {
   "cell_type": "code",
   "execution_count": null,
   "metadata": {},
   "outputs": [
    {
     "name": "stdout",
     "output_type": "stream",
     "text": [
      "Processing volume 1/7\n"
     ]
    },
    {
     "name": "stderr",
     "output_type": "stream",
     "text": [
      "Loading dataset: 100%|██████████| 1/1 [00:01<00:00,  1.94s/it]\n"
     ]
    },
    {
     "name": "stdout",
     "output_type": "stream",
     "text": [
      "Processing volume 2/7\n"
     ]
    },
    {
     "name": "stderr",
     "output_type": "stream",
     "text": [
      "Loading dataset: 100%|██████████| 1/1 [00:01<00:00,  1.89s/it]\n"
     ]
    },
    {
     "name": "stdout",
     "output_type": "stream",
     "text": [
      "Processing volume 3/7\n"
     ]
    },
    {
     "name": "stderr",
     "output_type": "stream",
     "text": [
      "Loading dataset: 100%|██████████| 1/1 [00:01<00:00,  1.79s/it]\n"
     ]
    },
    {
     "name": "stdout",
     "output_type": "stream",
     "text": [
      "Submission saved to: submission.csv\n"
     ]
    }
   ],
   "source": [
    "import torch\n",
    "import numpy as np\n",
    "from scipy.ndimage import label, center_of_mass\n",
    "import pandas as pd\n",
    "from tqdm import tqdm\n",
    "from monai.data import CacheDataset, DataLoader\n",
    "from monai.transforms import Compose, NormalizeIntensity\n",
    "import cc3d\n",
    "\n",
    "def dict_to_df(coord_dict, experiment_name):\n",
    "    all_coords = []\n",
    "    all_labels = []\n",
    "    \n",
    "    for label, coords in coord_dict.items():\n",
    "        all_coords.append(coords)\n",
    "        all_labels.extend([label] * len(coords))\n",
    "    \n",
    "    all_coords = np.vstack(all_coords)\n",
    "    df = pd.DataFrame({\n",
    "        'experiment': experiment_name,\n",
    "        'particle_type': all_labels,\n",
    "        'x': all_coords[:, 0],\n",
    "        'y': all_coords[:, 1],\n",
    "        'z': all_coords[:, 2]\n",
    "    })\n",
    "    return df\n",
    "\n",
    "id_to_name = {1: \"apo-ferritin\", \n",
    "              2: \"beta-amylase\",\n",
    "              3: \"beta-galactosidase\", \n",
    "              4: \"ribosome\", \n",
    "              5: \"thyroglobulin\", \n",
    "              6: \"virus-like-particle\"}\n",
    "BLOB_THRESHOLD = 200\n",
    "CERTAINTY_THRESHOLD = 0.05\n",
    "\n",
    "classes = [1, 2, 3, 4, 5, 6]\n",
    "\n",
    "model.eval()\n",
    "with torch.no_grad():\n",
    "    location_dfs = []  # DataFrame 리스트로 초기화\n",
    "    \n",
    "    for vol_idx, run in enumerate(preprocessor.root.runs):\n",
    "        print(f\"Processing volume {vol_idx + 1}/{len(preprocessor.root.runs)}\")\n",
    "        tomogram = preprocessor.processing(run=run, task=\"task\")\n",
    "        task_files = [{\"image\": tomogram}]\n",
    "        task_ds = CacheDataset(data=task_files, transform=non_random_transforms)\n",
    "        task_loader = DataLoader(task_ds, batch_size=1, num_workers=0)\n",
    "        \n",
    "        for task_data in task_loader:\n",
    "            images = task_data['image'].to(\"cuda\")\n",
    "            outputs = sliding_window_inference(\n",
    "                inputs=images,\n",
    "                roi_size=(96, 96, 96),  # ROI 크기\n",
    "                sw_batch_size=4,\n",
    "                predictor=model.forward,\n",
    "                overlap=0.1,\n",
    "                sw_device=\"cuda\",\n",
    "                device=\"cpu\",\n",
    "                buffer_steps=1,\n",
    "                buffer_dim=-1\n",
    "            )\n",
    "            outputs = outputs.argmax(dim=1).squeeze(0).cpu().numpy()  # 클래스 채널 예측\n",
    "            location = {}  # 좌표 저장용 딕셔너리\n",
    "            for c in classes:\n",
    "                cc = cc3d.connected_components(outputs == c)  # cc3d 라벨링\n",
    "                stats = cc3d.statistics(cc)\n",
    "                zyx = stats['centroids'][1:] * 10.012444  # 스케일 변환\n",
    "                zyx_large = zyx[stats['voxel_counts'][1:] > BLOB_THRESHOLD]  # 크기 필터링\n",
    "                xyz = np.ascontiguousarray(zyx_large[:, ::-1])  # 좌표 스왑 (z, y, x -> x, y, z)\n",
    "\n",
    "                location[id_to_name[c]] = xyz  # ID 이름 매칭 저장\n",
    "\n",
    "            # 데이터프레임 변환\n",
    "            df = dict_to_df(location, run.name)\n",
    "            location_dfs.append(df)  # 리스트에 추가\n",
    "        \n",
    "        # if vol_idx == 2:\n",
    "        #     break\n",
    "    \n",
    "    # DataFrame 병합\n",
    "    final_df = pd.concat(location_dfs, ignore_index=True)\n",
    "    \n",
    "    # ID 추가 및 CSV 저장\n",
    "    final_df.insert(loc=0, column='id', value=np.arange(len(final_df)))\n",
    "    final_df.to_csv(\"submission.csv\", index=False)\n",
    "    print(\"Submission saved to: submission.csv\")\n"
   ]
  }
 ],
 "metadata": {
  "kernelspec": {
   "display_name": "czii",
   "language": "python",
   "name": "python3"
  },
  "language_info": {
   "codemirror_mode": {
    "name": "ipython",
    "version": 3
   },
   "file_extension": ".py",
   "mimetype": "text/x-python",
   "name": "python",
   "nbconvert_exporter": "python",
   "pygments_lexer": "ipython3",
   "version": "3.12.7"
  }
 },
 "nbformat": 4,
 "nbformat_minor": 2
}
