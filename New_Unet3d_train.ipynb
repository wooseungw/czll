{
 "cells": [
  {
   "cell_type": "code",
   "execution_count": 1,
   "metadata": {},
   "outputs": [
    {
     "name": "stderr",
     "output_type": "stream",
     "text": [
      "c:\\ProgramData\\anaconda3\\envs\\czii\\Lib\\site-packages\\tqdm\\auto.py:21: TqdmWarning: IProgress not found. Please update jupyter and ipywidgets. See https://ipywidgets.readthedocs.io/en/stable/user_install.html\n",
      "  from .autonotebook import tqdm as notebook_tqdm\n"
     ]
    },
    {
     "name": "stdout",
     "output_type": "stream",
     "text": [
      "MONAI version: 1.4.0\n",
      "Numpy version: 1.26.3\n",
      "Pytorch version: 2.5.1+cu124\n",
      "MONAI flags: HAS_EXT = False, USE_COMPILED = False, USE_META_DICT = False\n",
      "MONAI rev id: 46a5272196a6c2590ca2589029eed8e4d56ff008\n",
      "MONAI __file__: c:\\ProgramData\\anaconda3\\envs\\czii\\Lib\\site-packages\\monai\\__init__.py\n",
      "\n",
      "Optional dependencies:\n",
      "Pytorch Ignite version: NOT INSTALLED or UNKNOWN VERSION.\n",
      "ITK version: NOT INSTALLED or UNKNOWN VERSION.\n",
      "Nibabel version: 5.3.2\n",
      "scikit-image version: NOT INSTALLED or UNKNOWN VERSION.\n",
      "scipy version: 1.15.1\n",
      "Pillow version: 10.2.0\n",
      "Tensorboard version: NOT INSTALLED or UNKNOWN VERSION.\n",
      "gdown version: NOT INSTALLED or UNKNOWN VERSION.\n",
      "TorchVision version: 0.20.1+cu124\n",
      "tqdm version: 4.67.1\n",
      "lmdb version: NOT INSTALLED or UNKNOWN VERSION.\n",
      "psutil version: 6.1.1\n",
      "pandas version: 2.2.3\n",
      "einops version: 0.8.0\n",
      "transformers version: NOT INSTALLED or UNKNOWN VERSION.\n",
      "mlflow version: NOT INSTALLED or UNKNOWN VERSION.\n",
      "pynrrd version: NOT INSTALLED or UNKNOWN VERSION.\n",
      "clearml version: NOT INSTALLED or UNKNOWN VERSION.\n",
      "\n",
      "For details about installing the optional dependencies, please visit:\n",
      "    https://docs.monai.io/en/latest/installation.html#installing-the-recommended-dependencies\n",
      "\n"
     ]
    }
   ],
   "source": [
    "import os\n",
    "import shutil\n",
    "import tempfile\n",
    "\n",
    "import matplotlib.pyplot as plt\n",
    "from tqdm import tqdm\n",
    "\n",
    "import random\n",
    "import numpy as np\n",
    "import torch\n",
    "\n",
    "\n",
    "from monai.losses import DiceCELoss\n",
    "from monai.inferers import sliding_window_inference\n",
    "from monai.transforms import (\n",
    "    AsDiscrete,\n",
    "    EnsureChannelFirstd,\n",
    "    Compose,\n",
    "    CropForegroundd,\n",
    "    LoadImaged,\n",
    "    Orientationd,\n",
    "    RandFlipd,\n",
    "    RandCropByPosNegLabeld,\n",
    "    RandShiftIntensityd,\n",
    "    ScaleIntensityRanged,\n",
    "    Spacingd,\n",
    "    RandRotate90d,\n",
    ")\n",
    "\n",
    "from monai.config import print_config\n",
    "from monai.metrics import DiceMetric\n",
    "from monai.networks.nets import UNet\n",
    "\n",
    "from src.models import UNet_CBAM\n",
    "\n",
    "from monai.data import (\n",
    "    DataLoader,\n",
    "    CacheDataset,\n",
    "    load_decathlon_datalist,\n",
    "    decollate_batch,\n",
    ")\n",
    "\n",
    "# 랜덤 시드 고정\n",
    "def set_seed(seed):\n",
    "    random.seed(seed)\n",
    "    np.random.seed(seed)\n",
    "    torch.manual_seed(seed)\n",
    "    if torch.cuda.is_available():\n",
    "        torch.cuda.manual_seed_all(seed)\n",
    "\n",
    "set_seed(42)\n",
    "\n",
    "\n",
    "print_config()"
   ]
  },
  {
   "cell_type": "code",
   "execution_count": 2,
   "metadata": {},
   "outputs": [
    {
     "name": "stdout",
     "output_type": "stream",
     "text": [
      "클래스 비율: {0: 0.0, 1: 0.16393442622950818, 2: 0.01639344262295082, 3: 0.2459016393442623, 4: 0.16393442622950818, 5: 0.2459016393442623, 6: 0.16393442622950818}\n",
      "최종 합계: 1.0\n",
      "클래스 비율 리스트: [0.0, 0.16393442622950818, 0.01639344262295082, 0.2459016393442623, 0.16393442622950818, 0.2459016393442623, 0.16393442622950818]\n"
     ]
    }
   ],
   "source": [
    "class_info = {\n",
    "    0: {\"name\": \"background\", \"weight\": 0},  # weight 없음\n",
    "    1: {\"name\": \"apo-ferritin\", \"weight\": 1000},\n",
    "    2: {\"name\": \"beta-amylase\", \"weight\": 100}, # 4130\n",
    "    3: {\"name\": \"beta-galactosidase\", \"weight\": 1500}, #3080\n",
    "    4: {\"name\": \"ribosome\", \"weight\": 1000},\n",
    "    5: {\"name\": \"thyroglobulin\", \"weight\": 1500},\n",
    "    6: {\"name\": \"virus-like-particle\", \"weight\": 1000},\n",
    "}\n",
    "\n",
    "# 가중치에 비례한 비율 계산\n",
    "raw_ratios = {\n",
    "    k: (v[\"weight\"] if v[\"weight\"] is not None else 0.01)  # 가중치 비례, None일 경우 기본값a\n",
    "    for k, v in class_info.items()\n",
    "}\n",
    "total = sum(raw_ratios.values())\n",
    "ratios = {k: v / total for k, v in raw_ratios.items()}\n",
    "\n",
    "# 최종 합계가 1인지 확인\n",
    "final_total = sum(ratios.values())\n",
    "print(\"클래스 비율:\", ratios)\n",
    "print(\"최종 합계:\", final_total)\n",
    "\n",
    "# 비율을 리스트로 변환\n",
    "ratios_list = [ratios[k] for k in sorted(ratios.keys())]\n",
    "print(\"클래스 비율 리스트:\", ratios_list)"
   ]
  },
  {
   "cell_type": "markdown",
   "metadata": {},
   "source": [
    "# 모델 설정"
   ]
  },
  {
   "cell_type": "code",
   "execution_count": 3,
   "metadata": {},
   "outputs": [],
   "source": [
    "from src.dataset.dataset import create_dataloaders\n",
    "from src.dataset.dataset_csv import create_dataloaders_from_csv\n",
    "from monai.transforms import (\n",
    "    Compose, LoadImaged, EnsureChannelFirstd, NormalizeIntensityd,\n",
    "    Orientationd, CropForegroundd, GaussianSmoothd, ScaleIntensityd,\n",
    "    RandSpatialCropd, RandRotate90d, RandFlipd, RandGaussianNoised,\n",
    "    ToTensord, RandCropByLabelClassesd, RandAdjustContrastd,RandKSpaceSpikeNoised,\n",
    "    RandGaussianSmoothd, RandHistogramShiftd\n",
    ")\n",
    "from monai.transforms import CastToTyped\n",
    "import numpy as np\n",
    "\n",
    "train_csv = './datasets/train.csv'\n",
    "val_csv = './datasets/val.csv'\n",
    "# DATA CONFIG\n",
    "img_size =  96 # Match your patch size\n",
    "img_depth = img_size\n",
    "n_classes = 7\n",
    "batch_size = 16 # 13.8GB GPU memory required for 128x128 img size\n",
    "num_samples = batch_size # 한 이미지에서 뽑을 샘플 수\n",
    "loader_batch = 1\n",
    "num_repeat = 5\n",
    "val_num_repeat = 5\n",
    "# MODEL CONFIG\n",
    "num_epochs = 4000\n",
    "lamda = 0.5\n",
    "ce_weight = 0.4\n",
    "lr = 0.001\n",
    "\n",
    "use_checkpoint = False\n",
    "dropout = 0.25\n",
    "feature_size = [32, 64, 128, 256]\n",
    "\n",
    "#conv_op = nn.Conv3d\n",
    "\n",
    "# CLASS_WEIGHTS\n",
    "class_weights = None\n",
    "class_weights = torch.tensor([1, 1, 1, 1, 1, 1, 1], dtype=torch.float32)  # 클래스별 가중치\n",
    "accumulation_steps = 1\n",
    "# INIT\n",
    "start_epoch = 0\n",
    "best_val_loss = float('inf')\n",
    "best_val_fbeta_score = 0\n",
    "\n",
    "non_random_transforms = Compose([\n",
    "    EnsureChannelFirstd(keys=[\"image\", \"label\"], channel_dim=\"no_channel\"),\n",
    "    Orientationd(keys=[\"image\", \"label\"], axcodes=\"RAS\"),\n",
    "    GaussianSmoothd(\n",
    "        keys=[\"image\"],      # 변환을 적용할 키\n",
    "        sigma=[2.0, 2.0, 2.0]  # 각 축(x, y, z)의 시그마 값\n",
    "        ),\n",
    "    NormalizeIntensityd(keys=\"image\"),\n",
    "    ])\n",
    "train_random_transforms = Compose([\n",
    "    RandCropByLabelClassesd(\n",
    "        keys=[\"image\", \"label\"],\n",
    "        label_key=\"label\",\n",
    "        spatial_size=[img_depth, img_size, img_size],\n",
    "        num_classes=n_classes,\n",
    "        num_samples=num_samples, \n",
    "        ratios=ratios_list,\n",
    "    ),\n",
    "    RandAdjustContrastd(keys=\"image\", prob=0.5, gamma=(0.5, 4.5)),\n",
    "    \n",
    "    RandRotate90d(keys=[\"image\", \"label\"], prob=0.5, spatial_axes=[1, 2]),\n",
    "    RandFlipd(keys=[\"image\", \"label\"], prob=0.5, spatial_axis=0),\n",
    "    RandFlipd(keys=[\"image\", \"label\"], prob=0.5, spatial_axis=1),\n",
    "    RandFlipd(keys=[\"image\", \"label\"], prob=0.5, spatial_axis=2),\n",
    "])\n",
    "\n",
    "val_random_transforms = Compose([\n",
    "    RandCropByLabelClassesd(\n",
    "        keys=[\"image\", \"label\"],\n",
    "        label_key=\"label\",\n",
    "        spatial_size=[img_depth, img_size, img_size],\n",
    "        num_classes=n_classes,\n",
    "        num_samples=num_samples, \n",
    "        ratios=ratios_list,\n",
    "    ),\n",
    "    RandRotate90d(keys=[\"image\", \"label\"], prob=0.5, spatial_axes=[1, 2]),\n",
    "    RandFlipd(keys=[\"image\", \"label\"], prob=0.5, spatial_axis=0),\n",
    "    RandFlipd(keys=[\"image\", \"label\"], prob=0.5, spatial_axis=1),\n",
    "    RandFlipd(keys=[\"image\", \"label\"], prob=0.5, spatial_axis=2),\n",
    "])\n"
   ]
  },
  {
   "cell_type": "code",
   "execution_count": 4,
   "metadata": {},
   "outputs": [
    {
     "name": "stderr",
     "output_type": "stream",
     "text": [
      "Loading dataset: 100%|██████████| 40/40 [00:03<00:00, 11.92it/s]\n"
     ]
    }
   ],
   "source": [
    "train_loader, val_loader = None, None\n",
    "train_loader, val_loader = create_dataloaders_from_csv(\n",
    "    train_csv,\n",
    "    val_csv, \n",
    "    non_random_transforms = non_random_transforms, \n",
    "    train_random_transforms=train_random_transforms,\n",
    "    val_random_transforms=val_random_transforms,\n",
    "    batch_size = loader_batch,\n",
    "    num_workers=0,train_num_repeat=num_repeat, val_num_repeat=val_num_repeat\n",
    "    )"
   ]
  },
  {
   "cell_type": "markdown",
   "metadata": {},
   "source": [
    "https://monai.io/model-zoo.html"
   ]
  },
  {
   "cell_type": "code",
   "execution_count": 5,
   "metadata": {},
   "outputs": [],
   "source": [
    "import torch\n",
    "import torch.nn as nn\n",
    "import torch.nn.functional as F\n",
    "from monai.losses import TverskyLoss\n",
    "\n",
    "# DynamicTverskyLoss 클래스 정의\n",
    "class DynamicTverskyLoss(TverskyLoss):\n",
    "    def __init__(self, lamda=0.5, **kwargs):\n",
    "        super().__init__(alpha=1 - lamda, beta=lamda, **kwargs)\n",
    "        self.lamda = lamda\n",
    "\n",
    "    def set_lamda(self, lamda):\n",
    "        self.lamda = lamda\n",
    "        self.alpha = 1 - lamda\n",
    "        self.beta = lamda\n",
    "\n",
    "\n",
    "# CombinedCETverskyLoss 클래스\n",
    "class CombinedCETverskyLoss(nn.Module):\n",
    "    def __init__(self, lamda=0.5, ce_weight=0.5, n_classes=7, class_weights=None, ignore_index=-1, **kwargs):\n",
    "        super().__init__()\n",
    "        self.n_classes = n_classes\n",
    "        self.ce_weight = ce_weight\n",
    "        self.ignore_index = ignore_index\n",
    "        \n",
    "        # CrossEntropyLoss에서 클래스별 가중치를 적용\n",
    "        self.ce = nn.CrossEntropyLoss(weight=class_weights, ignore_index=self.ignore_index, reduction='mean', **kwargs)\n",
    "        \n",
    "        # TverskyLoss\n",
    "        self.tversky = DynamicTverskyLoss(lamda=lamda, reduction=\"none\",softmax=True, **kwargs)\n",
    "\n",
    "    def forward(self, inputs, targets):\n",
    "        \n",
    "        # CrossEntropyLoss는 정수형 클래스 인덱스를 사용\n",
    "        ce_loss = self.ce(inputs, targets)\n",
    "\n",
    "        # TverskyLoss 계산 (원핫 인코딩된 라벨을 사용)\n",
    "        \n",
    "        tversky_loss = self.tversky(inputs, targets)\n",
    "\n",
    "        # 클래스별 가중치 적용 (Tversky 손실에도 가중치를 곱하기)\n",
    "        class_weights = torch.tensor(self.ce.weight)  # CrossEntropy의 weight를 사용\n",
    "\n",
    "        # Tversky 손실이 (B, num_classes) 형태이므로, 가중치를 클래스 차원에 곱합니다.\n",
    "        tversky_loss = tversky_loss * class_weights.view(1, self.n_classes)\n",
    "\n",
    "        # 최종 손실 계산\n",
    "        final_loss = self.ce_weight * ce_loss + (1 - self.ce_weight) * tversky_loss.mean()  # mean()으로 배치에 대해 평균\n",
    "        return final_loss\n",
    "\n",
    "    def set_lamda(self, lamda):\n",
    "        self.tversky.set_lamda(lamda)\n",
    "\n",
    "    @property\n",
    "    def lamda(self):\n",
    "        return self.tversky.lamda\n"
   ]
  },
  {
   "cell_type": "markdown",
   "metadata": {},
   "source": [
    "# 모델 선언"
   ]
  },
  {
   "cell_type": "code",
   "execution_count": 6,
   "metadata": {},
   "outputs": [],
   "source": [
    "import torch.optim as optim\n",
    "from tqdm import tqdm\n",
    "import numpy as np\n",
    "import torch\n",
    "from pathlib import Path\n",
    "from monai.metrics import DiceMetric\n",
    "\n",
    "device = torch.device(\"cuda\" if torch.cuda.is_available() else \"cpu\")\n",
    "\n",
    "model = UNet(\n",
    "    spatial_dims=3,\n",
    "    in_channels=1,\n",
    "    out_channels=n_classes,\n",
    "    channels=feature_size,\n",
    "    strides=(2,2,2),\n",
    "    dropout=dropout,\n",
    ").to(device)\n",
    "# Pretrained weights 불러오기\n",
    "# if use_checkpoint:\n",
    "#     pretrain_path = \"./swin_unetr_btcv_segmentation/models/model.pt\"\n",
    "#     weight = torch.load(pretrain_path, map_location=device)\n",
    "\n",
    "#     # 출력 레이어의 키를 제외한 나머지 가중치만 로드\n",
    "#     filtered_weights = {k: v for k, v in weight.items() if \"out.conv.conv\" not in k}\n",
    "\n",
    "#     # strict=False로 로드하여 불일치하는 부분 무시\n",
    "#     model.load_state_dict(filtered_weights, strict=False)\n",
    "#     print(\"Filtered weights loaded successfully. Output layer will be trained from scratch.\")\n",
    "\n",
    "# Load pretrained weights\n",
    "# model.load_from(weights=np.load(config_vit.real_pretrained_path, allow_pickle=True))\n",
    "# TverskyLoss 설정\n",
    "# 사용 예시\n",
    "criterion = CombinedCETverskyLoss(\n",
    "    lamda=lamda,\n",
    "    ce_weight=ce_weight,\n",
    "    n_classes=n_classes,\n",
    "    class_weights=class_weights,\n",
    "    \n",
    ").to(device)\n",
    "\n",
    "pretrain_str = \"yes\" if use_checkpoint else \"no\"\n",
    "weight_str = \"weighted\" if class_weights is not None else \"\"\n",
    "\n",
    "# 체크포인트 디렉토리 및 파일 설정\n",
    "checkpoint_base_dir = Path(\"./model_checkpoints\")\n",
    "folder_name = f\"UNet_10441_a{accumulation_steps}_{img_size}x{img_size}x{img_size}_e{num_epochs}_lr{lr}_lamda{lamda}_ce{ce_weight}_{pretrain_str}_{weight_str}\"\n",
    "checkpoint_dir = checkpoint_base_dir / folder_name\n",
    "optimizer = optim.AdamW(model.parameters(), lr=lr, weight_decay=1e-5)\n",
    "scheduler = torch.optim.lr_scheduler.ReduceLROnPlateau(optimizer, patience=5, factor=0.5)\n",
    "# 체크포인트 디렉토리 생성\n",
    "checkpoint_dir.mkdir(parents=True, exist_ok=True)\n",
    "\n",
    "if checkpoint_dir.exists():\n",
    "    best_model_path = checkpoint_dir / 'best_model.pt'\n",
    "    if best_model_path.exists():\n",
    "        print(f\"기존 best model 발견: {best_model_path}\")\n",
    "        try:\n",
    "            checkpoint = torch.load(best_model_path, map_location=device)\n",
    "            # 체크포인트 내부 키 검증\n",
    "            required_keys = ['model_state_dict', 'optimizer_state_dict', 'epoch', 'best_val_loss']\n",
    "            if all(k in checkpoint for k in required_keys):\n",
    "                model.load_state_dict(checkpoint['model_state_dict'])\n",
    "                optimizer.load_state_dict(checkpoint['optimizer_state_dict'])\n",
    "                start_epoch = checkpoint['epoch']\n",
    "                best_val_loss = checkpoint['best_val_loss']\n",
    "                print(\"기존 학습된 가중치를 성공적으로 로드했습니다.\")\n",
    "                checkpoint= None\n",
    "            else:\n",
    "                raise ValueError(\"체크포인트 파일에 필요한 key가 없습니다.\")\n",
    "        except Exception as e:\n",
    "            print(f\"체크포인트 파일을 로드하는 중 오류 발생: {e}\")"
   ]
  },
  {
   "cell_type": "code",
   "execution_count": 7,
   "metadata": {},
   "outputs": [],
   "source": [
    "# batch = next(iter(val_loader))\n",
    "# images, labels = batch[\"image\"], batch[\"label\"]\n",
    "# print(images.shape, labels.shape)"
   ]
  },
  {
   "cell_type": "code",
   "execution_count": 8,
   "metadata": {},
   "outputs": [],
   "source": [
    "torch.backends.cudnn.benchmark = True"
   ]
  },
  {
   "cell_type": "code",
   "execution_count": 9,
   "metadata": {},
   "outputs": [
    {
     "name": "stderr",
     "output_type": "stream",
     "text": [
      "\u001b[34m\u001b[1mwandb\u001b[0m: Currently logged in as: \u001b[33mwoow070840\u001b[0m (\u001b[33mwaooang\u001b[0m). Use \u001b[1m`wandb login --relogin`\u001b[0m to force relogin\n",
      "\u001b[34m\u001b[1mwandb\u001b[0m: Using wandb-core as the SDK backend.  Please refer to https://wandb.me/wandb-core for more information.\n"
     ]
    },
    {
     "data": {
      "text/html": [
       "Tracking run with wandb version 0.19.2"
      ],
      "text/plain": [
       "<IPython.core.display.HTML object>"
      ]
     },
     "metadata": {},
     "output_type": "display_data"
    },
    {
     "data": {
      "text/html": [
       "Run data is saved locally in <code>e:\\Workspace\\czll\\wandb\\run-20250116_223357-qkfnvjwy</code>"
      ],
      "text/plain": [
       "<IPython.core.display.HTML object>"
      ]
     },
     "metadata": {},
     "output_type": "display_data"
    },
    {
     "data": {
      "text/html": [
       "Syncing run <strong><a href='https://wandb.ai/waooang/czii_SwinUnetR/runs/qkfnvjwy' target=\"_blank\">UNet_exdata_a1_96x96x96_e4000_lr0.001_lamda0.5_ce0.4_no_weighted</a></strong> to <a href='https://wandb.ai/waooang/czii_SwinUnetR' target=\"_blank\">Weights & Biases</a> (<a href='https://wandb.me/developer-guide' target=\"_blank\">docs</a>)<br>"
      ],
      "text/plain": [
       "<IPython.core.display.HTML object>"
      ]
     },
     "metadata": {},
     "output_type": "display_data"
    },
    {
     "data": {
      "text/html": [
       " View project at <a href='https://wandb.ai/waooang/czii_SwinUnetR' target=\"_blank\">https://wandb.ai/waooang/czii_SwinUnetR</a>"
      ],
      "text/plain": [
       "<IPython.core.display.HTML object>"
      ]
     },
     "metadata": {},
     "output_type": "display_data"
    },
    {
     "data": {
      "text/html": [
       " View run at <a href='https://wandb.ai/waooang/czii_SwinUnetR/runs/qkfnvjwy' target=\"_blank\">https://wandb.ai/waooang/czii_SwinUnetR/runs/qkfnvjwy</a>"
      ],
      "text/plain": [
       "<IPython.core.display.HTML object>"
      ]
     },
     "metadata": {},
     "output_type": "display_data"
    }
   ],
   "source": [
    "import wandb\n",
    "from datetime import datetime\n",
    "\n",
    "current_time = datetime.now().strftime('%Y%m%d_%H%M%S')\n",
    "run_name = folder_name\n",
    "\n",
    "# wandb 초기화\n",
    "wandb.init(\n",
    "    project='czii_SwinUnetR',  # 프로젝트 이름 설정\n",
    "    name=run_name,         # 실행(run) 이름 설정\n",
    "    config={\n",
    "        'num_epochs': num_epochs,\n",
    "        'learning_rate': lr,\n",
    "        'batch_size': batch_size,\n",
    "        'lambda': lamda,\n",
    "        \"cross_entropy_weight\": ce_weight,\n",
    "        'feature_size': feature_size,\n",
    "        'img_size': img_size,\n",
    "        'sampling_ratio': ratios_list,\n",
    "        'device': device.type,\n",
    "        \"checkpoint_dir\": str(checkpoint_dir),\n",
    "        \"class_weights\": class_weights.tolist() if class_weights is not None else None,\n",
    "        \"use_checkpoint\": use_checkpoint,\n",
    "        \"dropout\": dropout,        \n",
    "        \"accumulation_steps\": accumulation_steps,\n",
    "        \"num_repeat\": num_repeat,\n",
    "        \n",
    "        # 필요한 하이퍼파라미터 추가\n",
    "    }\n",
    ")\n",
    "# 모델을 wandb에 연결\n",
    "wandb.watch(model, log='all')"
   ]
  },
  {
   "cell_type": "markdown",
   "metadata": {},
   "source": [
    "# 학습"
   ]
  },
  {
   "cell_type": "code",
   "execution_count": 10,
   "metadata": {},
   "outputs": [],
   "source": [
    "from monai.metrics import DiceMetric\n",
    "    \n",
    "def processing(batch_data, model, criterion, device):\n",
    "    images = batch_data['image'].to(device)  # Input 이미지 (B, 1, 96, 96, 96)\n",
    "    labels = batch_data['label'].to(device)  # 라벨 (B, 96, 96, 96)\n",
    "\n",
    "    labels = labels.squeeze(1)  # (B, 1, 96, 96, 96) → (B, 96, 96, 96)\n",
    "    labels = labels.long()  # 라벨을 정수형으로 변환\n",
    "\n",
    "    # 원핫 인코딩 (B, H, W, D) → (B, num_classes, H, W, D)\n",
    "    \n",
    "    labels_onehot = torch.nn.functional.one_hot(labels, num_classes=n_classes)\n",
    "    labels_onehot = labels_onehot.permute(0, 4, 1, 2, 3).float()  # (B, num_classes, H, W, D)\n",
    "\n",
    "    # 모델 예측\n",
    "    outputs = model(images)  # outputs: (B, num_classes, H, W, D)\n",
    "\n",
    "    # Loss 계산\n",
    "    # loss = criterion(outputs, labels_onehot)\n",
    "    loss = criterion(outputs, labels_onehot)\n",
    "    return loss, outputs, labels, outputs.argmax(dim=1)\n",
    "\n",
    "def train_one_epoch(model, train_loader, criterion, optimizer, device, epoch, accumulation_steps=4):\n",
    "    model.train()\n",
    "    epoch_loss = 0\n",
    "    optimizer.zero_grad()  # 그래디언트 초기화\n",
    "    with tqdm(train_loader, desc='Training') as pbar:\n",
    "        for i, batch_data in enumerate(pbar):\n",
    "            # 손실 계산\n",
    "            loss, _, _, _ = processing(batch_data, model, criterion, device)\n",
    "\n",
    "            # 그래디언트를 계산하고 누적\n",
    "            loss = loss / accumulation_steps  # 그래디언트 누적을 위한 스케일링\n",
    "            loss.backward()  # 그래디언트 계산 및 누적\n",
    "            \n",
    "            # 그래디언트 업데이트 (accumulation_steps마다 한 번)\n",
    "            if (i + 1) % accumulation_steps == 0 or (i + 1) == len(train_loader):\n",
    "                optimizer.step()  # 파라미터 업데이트\n",
    "                optimizer.zero_grad()  # 누적된 그래디언트 초기화\n",
    "            \n",
    "            # 손실값 누적 (스케일링 복구)\n",
    "            epoch_loss += loss.item() * accumulation_steps  # 실제 손실값 반영\n",
    "            pbar.set_postfix(loss=loss.item() * accumulation_steps)  # 실제 손실값 출력\n",
    "    avg_loss = epoch_loss / len(train_loader)\n",
    "    wandb.log({'train_epoch_loss': avg_loss, 'epoch': epoch + 1})\n",
    "    return avg_loss\n",
    "\n",
    "\n",
    "def validate_one_epoch(model, val_loader, criterion, device, epoch, calculate_dice_interval):\n",
    "    model.eval()\n",
    "    val_loss = 0\n",
    "    \n",
    "    class_dice_scores = {i: [] for i in range(n_classes)}\n",
    "    class_f_beta_scores = {i: [] for i in range(n_classes)}\n",
    "    with torch.no_grad():\n",
    "        with tqdm(val_loader, desc='Validation') as pbar:\n",
    "            for batch_data in pbar:\n",
    "                loss, _, labels, preds = processing(batch_data, model, criterion, device)\n",
    "                val_loss += loss.item()\n",
    "                pbar.set_postfix(loss=loss.item())\n",
    "\n",
    "                # 각 클래스별 Dice 점수 계산\n",
    "                if epoch % calculate_dice_interval == 0:\n",
    "                    for i in range(n_classes):\n",
    "                        pred_i = (preds == i)\n",
    "                        label_i = (labels == i)\n",
    "                        dice_score = (2.0 * torch.sum(pred_i & label_i)) / (torch.sum(pred_i) + torch.sum(label_i) + 1e-8)\n",
    "                        class_dice_scores[i].append(dice_score.item())\n",
    "                        precision = (torch.sum(pred_i & label_i) + 1e-8) / (torch.sum(pred_i) + 1e-8)\n",
    "                        recall = (torch.sum(pred_i & label_i) + 1e-8) / (torch.sum(label_i) + 1e-8)\n",
    "                        f_beta_score = (1 + 4**2) * (precision * recall) / (4**2 * precision + recall + 1e-8)\n",
    "                        class_f_beta_scores[i].append(f_beta_score.item())\n",
    "\n",
    "    avg_loss = val_loss / len(val_loader)\n",
    "    # 에포크별 평균 손실 로깅\n",
    "    wandb.log({'val_epoch_loss': avg_loss, 'epoch': epoch + 1})\n",
    "    \n",
    "    # 각 클래스별 평균 Dice 점수 출력\n",
    "    if epoch % calculate_dice_interval == 0:\n",
    "        print(\"Validation Dice Score\")\n",
    "        all_classes_dice_scores = []\n",
    "        for i in range(n_classes):\n",
    "            mean_dice = np.mean(class_dice_scores[i])\n",
    "            wandb.log({f'class_{i}_dice_score': mean_dice, 'epoch': epoch + 1})\n",
    "            print(f\"Class {i}: {mean_dice:.4f}\", end=\", \")\n",
    "            if i not in [0, 2]:  # 평균에 포함할 클래스만 추가\n",
    "                all_classes_dice_scores.append(mean_dice)\n",
    "            \n",
    "        print()\n",
    "    if epoch % calculate_dice_interval == 0:\n",
    "        print(\"Validation F-beta Score\")\n",
    "        all_classes_fbeta_scores = []\n",
    "        for i in range(n_classes):\n",
    "            mean_fbeta = np.mean(class_f_beta_scores[i])\n",
    "            wandb.log({f'class_{i}_f_beta_score': mean_fbeta, 'epoch': epoch + 1})\n",
    "            print(f\"Class {i}: {mean_fbeta:.4f}\", end=\", \")\n",
    "            if i not in [0, 2]:  # 평균에 포함할 클래스만 추가\n",
    "                all_classes_fbeta_scores.append(mean_fbeta)\n",
    "        print()\n",
    "        overall_mean_dice = np.mean(all_classes_dice_scores)\n",
    "        overall_mean_fbeta = np.mean(all_classes_fbeta_scores)\n",
    "        wandb.log({'overall_mean_f_beta_score': overall_mean_fbeta, 'overall_mean_dice_score': overall_mean_dice, 'epoch': epoch + 1})\n",
    "        print(f\"\\nOverall Mean Dice Score: {overall_mean_dice:.4f}\\nOverall Mean F-beta Score: {overall_mean_fbeta:.4f}\\n\")\n",
    "\n",
    "    if overall_mean_fbeta is None:\n",
    "        overall_mean_fbeta = 0\n",
    "\n",
    "    return val_loss / len(val_loader), overall_mean_fbeta\n",
    "\n",
    "def train_model(\n",
    "    model, train_loader, val_loader, criterion, optimizer, num_epochs, patience, \n",
    "    device, start_epoch, best_val_loss, best_val_fbeta_score, calculate_dice_interval=1,\n",
    "    accumulation_steps=4\n",
    "):\n",
    "    \"\"\"\n",
    "    모델을 학습하고 검증하는 함수\n",
    "    Args:\n",
    "        model: 학습할 모델\n",
    "        train_loader: 학습 데이터 로더\n",
    "        val_loader: 검증 데이터 로더\n",
    "        criterion: 손실 함수\n",
    "        optimizer: 최적화 알고리즘\n",
    "        num_epochs: 총 학습 epoch 수\n",
    "        patience: early stopping 기준\n",
    "        device: GPU/CPU 장치\n",
    "        start_epoch: 시작 epoch\n",
    "        best_val_loss: 이전 최적 validation loss\n",
    "        best_val_fbeta_score: 이전 최적 validation f-beta score\n",
    "        calculate_dice_interval: Dice 점수 계산 주기\n",
    "    \"\"\"\n",
    "    epochs_no_improve = 0\n",
    "\n",
    "    for epoch in range(start_epoch, num_epochs):\n",
    "        print(f\"Epoch {epoch + 1}/{num_epochs}\")\n",
    "\n",
    "        # Train One Epoch\n",
    "        train_loss = train_one_epoch(\n",
    "            model=model, \n",
    "            train_loader=train_loader, \n",
    "            criterion=criterion, \n",
    "            optimizer=optimizer, \n",
    "            device=device,\n",
    "            epoch=epoch,\n",
    "            accumulation_steps= accumulation_steps\n",
    "        )\n",
    "        \n",
    "        scheduler.step(train_loss)\n",
    "        # Validate One Epoch\n",
    "        val_loss, overall_mean_fbeta_score = validate_one_epoch(\n",
    "            model=model, \n",
    "            val_loader=val_loader, \n",
    "            criterion=criterion, \n",
    "            device=device, \n",
    "            epoch=epoch, \n",
    "            calculate_dice_interval=calculate_dice_interval\n",
    "        )\n",
    "\n",
    "        \n",
    "        print(f\"Training Loss: {train_loss:.4f}, Validation Loss: {val_loss:.4f}, Validation F-beta: {overall_mean_fbeta_score:.4f}\")\n",
    "\n",
    "        if val_loss < best_val_loss and overall_mean_fbeta_score > best_val_fbeta_score:\n",
    "            best_val_loss = val_loss\n",
    "            best_val_fbeta_score = overall_mean_fbeta_score\n",
    "            epochs_no_improve = 0\n",
    "            checkpoint_path = os.path.join(checkpoint_dir, 'best_model.pt')\n",
    "            torch.save({\n",
    "                'epoch': epoch + 1,\n",
    "                'model_state_dict': model.state_dict(),\n",
    "                'optimizer_state_dict': optimizer.state_dict(),\n",
    "                'best_val_loss': best_val_loss,\n",
    "                'best_val_fbeta_score': best_val_fbeta_score\n",
    "            }, checkpoint_path)\n",
    "            print(f\"========================================================\")\n",
    "            print(f\"SUPER Best model saved. Loss:{best_val_loss:.4f}, Score:{best_val_fbeta_score:.4f}\")\n",
    "            print(f\"========================================================\")\n",
    "\n",
    "        # Early stopping 조건 체크\n",
    "        if val_loss >= best_val_loss and overall_mean_fbeta_score <= best_val_fbeta_score:\n",
    "            epochs_no_improve += 1\n",
    "        else:\n",
    "            epochs_no_improve = 0\n",
    "\n",
    "        if epochs_no_improve >= patience:\n",
    "            print(\"Early stopping\")\n",
    "            checkpoint_path = os.path.join(checkpoint_dir, 'last.pt')\n",
    "            torch.save({\n",
    "                'epoch': epoch + 1,\n",
    "                'model_state_dict': model.state_dict(),\n",
    "                'optimizer_state_dict': optimizer.state_dict(),\n",
    "                'best_val_loss': best_val_loss,\n",
    "                'best_val_fbeta_score': best_val_fbeta_score\n",
    "            }, checkpoint_path)\n",
    "            break\n",
    "        # if epochs_no_improve%6 == 0:\n",
    "        #     # 손실이 개선되지 않았으므로 lambda 감소\n",
    "        #     new_lamda = max(criterion.lamda - 0.01, 0.1)  # 최소값은 0.1로 설정\n",
    "        #     criterion.set_lamda(new_lamda)\n",
    "        #     print(f\"Validation loss did not improve. Reducing lambda to {new_lamda:.4f}\")\n",
    "\n",
    "    wandb.finish()\n"
   ]
  },
  {
   "cell_type": "code",
   "execution_count": 11,
   "metadata": {},
   "outputs": [
    {
     "name": "stdout",
     "output_type": "stream",
     "text": [
      "Epoch 1/4000\n"
     ]
    },
    {
     "name": "stderr",
     "output_type": "stream",
     "text": [
      "Training:   0%|          | 0/153 [00:00<?, ?it/s]C:\\Users\\Seungwoo\\AppData\\Local\\Temp\\ipykernel_27108\\1427967554.py:42: UserWarning: To copy construct from a tensor, it is recommended to use sourceTensor.clone().detach() or sourceTensor.clone().detach().requires_grad_(True), rather than torch.tensor(sourceTensor).\n",
      "  class_weights = torch.tensor(self.ce.weight)  # CrossEntropy의 weight를 사용\n",
      "Training: 100%|██████████| 153/153 [01:57<00:00,  1.30it/s, loss=0.542]\n",
      "Validation: 100%|██████████| 5/5 [00:02<00:00,  1.96it/s, loss=0.54] \n"
     ]
    },
    {
     "name": "stdout",
     "output_type": "stream",
     "text": [
      "Validation Dice Score\n",
      "Class 0: 0.9886, Class 1: 0.0004, Class 2: 0.0000, Class 3: 0.0000, Class 4: 0.4174, Class 5: 0.0004, Class 6: 0.0119, \n",
      "Validation F-beta Score\n",
      "Class 0: 0.9930, Class 1: 0.0002, Class 2: 0.0000, Class 3: 0.0000, Class 4: 0.4724, Class 5: 0.0002, Class 6: 0.0065, \n",
      "\n",
      "Overall Mean Dice Score: 0.0860\n",
      "Overall Mean F-beta Score: 0.0959\n",
      "\n",
      "Training Loss: 0.6543, Validation Loss: 0.5395, Validation F-beta: 0.0959\n",
      "========================================================\n",
      "SUPER Best model saved. Loss:0.5395, Score:0.0959\n",
      "========================================================\n",
      "Epoch 2/4000\n"
     ]
    },
    {
     "name": "stderr",
     "output_type": "stream",
     "text": [
      "Training: 100%|██████████| 153/153 [01:47<00:00,  1.43it/s, loss=0.509]\n",
      "Validation: 100%|██████████| 5/5 [00:02<00:00,  2.10it/s, loss=0.526]\n"
     ]
    },
    {
     "name": "stdout",
     "output_type": "stream",
     "text": [
      "Validation Dice Score\n",
      "Class 0: 0.9876, Class 1: 0.0000, Class 2: 0.0000, Class 3: 0.0000, Class 4: 0.4550, Class 5: 0.0000, Class 6: 0.1957, \n",
      "Validation F-beta Score\n",
      "Class 0: 0.9894, Class 1: 0.0000, Class 2: 0.0000, Class 3: 0.0000, Class 4: 0.5535, Class 5: 0.0000, Class 6: 0.1569, \n",
      "\n",
      "Overall Mean Dice Score: 0.1302\n",
      "Overall Mean F-beta Score: 0.1421\n",
      "\n",
      "Training Loss: 0.5342, Validation Loss: 0.5270, Validation F-beta: 0.1421\n",
      "========================================================\n",
      "SUPER Best model saved. Loss:0.5270, Score:0.1421\n",
      "========================================================\n",
      "Epoch 3/4000\n"
     ]
    },
    {
     "name": "stderr",
     "output_type": "stream",
     "text": [
      "Training: 100%|██████████| 153/153 [01:45<00:00,  1.45it/s, loss=0.502]\n",
      "Validation: 100%|██████████| 5/5 [00:02<00:00,  2.27it/s, loss=0.504]\n"
     ]
    },
    {
     "name": "stdout",
     "output_type": "stream",
     "text": [
      "Validation Dice Score\n",
      "Class 0: 0.9880, Class 1: 0.0000, Class 2: 0.0000, Class 3: 0.0000, Class 4: 0.5279, Class 5: 0.0016, Class 6: 0.6712, \n",
      "Validation F-beta Score\n",
      "Class 0: 0.9908, Class 1: 0.0000, Class 2: 0.0000, Class 3: 0.0000, Class 4: 0.5877, Class 5: 0.0008, Class 6: 0.6437, \n",
      "\n",
      "Overall Mean Dice Score: 0.2401\n",
      "Overall Mean F-beta Score: 0.2464\n",
      "\n",
      "Training Loss: 0.5165, Validation Loss: 0.5033, Validation F-beta: 0.2464\n",
      "========================================================\n",
      "SUPER Best model saved. Loss:0.5033, Score:0.2464\n",
      "========================================================\n",
      "Epoch 4/4000\n"
     ]
    },
    {
     "name": "stderr",
     "output_type": "stream",
     "text": [
      "Training: 100%|██████████| 153/153 [01:42<00:00,  1.50it/s, loss=0.466]\n",
      "Validation: 100%|██████████| 5/5 [00:02<00:00,  2.18it/s, loss=0.48] \n"
     ]
    },
    {
     "name": "stdout",
     "output_type": "stream",
     "text": [
      "Validation Dice Score\n",
      "Class 0: 0.9886, Class 1: 0.0077, Class 2: 0.0000, Class 3: 0.1086, Class 4: 0.5634, Class 5: 0.1732, Class 6: 0.8208, \n",
      "Validation F-beta Score\n",
      "Class 0: 0.9869, Class 1: 0.0051, Class 2: 0.0000, Class 3: 0.1351, Class 4: 0.6973, Class 5: 0.1465, Class 6: 0.7704, \n",
      "\n",
      "Overall Mean Dice Score: 0.3347\n",
      "Overall Mean F-beta Score: 0.3509\n",
      "\n",
      "Training Loss: 0.4964, Validation Loss: 0.4792, Validation F-beta: 0.3509\n",
      "========================================================\n",
      "SUPER Best model saved. Loss:0.4792, Score:0.3509\n",
      "========================================================\n",
      "Epoch 5/4000\n"
     ]
    },
    {
     "name": "stderr",
     "output_type": "stream",
     "text": [
      "Training: 100%|██████████| 153/153 [01:40<00:00,  1.52it/s, loss=0.466]\n",
      "Validation: 100%|██████████| 5/5 [00:02<00:00,  2.11it/s, loss=0.463]\n"
     ]
    },
    {
     "name": "stdout",
     "output_type": "stream",
     "text": [
      "Validation Dice Score\n",
      "Class 0: 0.9882, Class 1: 0.0408, Class 2: 0.0000, Class 3: 0.1424, Class 4: 0.6031, Class 5: 0.2443, Class 6: 0.8458, \n",
      "Validation F-beta Score\n",
      "Class 0: 0.9874, Class 1: 0.0519, Class 2: 0.0000, Class 3: 0.1871, Class 4: 0.6867, Class 5: 0.2225, Class 6: 0.8112, \n",
      "\n",
      "Overall Mean Dice Score: 0.3753\n",
      "Overall Mean F-beta Score: 0.3919\n",
      "\n",
      "Training Loss: 0.4791, Validation Loss: 0.4640, Validation F-beta: 0.3919\n",
      "========================================================\n",
      "SUPER Best model saved. Loss:0.4640, Score:0.3919\n",
      "========================================================\n",
      "Epoch 6/4000\n"
     ]
    },
    {
     "name": "stderr",
     "output_type": "stream",
     "text": [
      "Training: 100%|██████████| 153/153 [01:45<00:00,  1.46it/s, loss=0.442]\n",
      "Validation: 100%|██████████| 5/5 [00:02<00:00,  2.08it/s, loss=0.457]\n"
     ]
    },
    {
     "name": "stdout",
     "output_type": "stream",
     "text": [
      "Validation Dice Score\n",
      "Class 0: 0.9867, Class 1: 0.0818, Class 2: 0.0208, Class 3: 0.1355, Class 4: 0.5820, Class 5: 0.3213, Class 6: 0.8517, \n",
      "Validation F-beta Score\n",
      "Class 0: 0.9825, Class 1: 0.1742, Class 2: 0.0128, Class 3: 0.1667, Class 4: 0.7689, Class 5: 0.3355, Class 6: 0.8568, \n",
      "\n",
      "Overall Mean Dice Score: 0.3944\n",
      "Overall Mean F-beta Score: 0.4604\n",
      "\n",
      "Training Loss: 0.4679, Validation Loss: 0.4610, Validation F-beta: 0.4604\n",
      "========================================================\n",
      "SUPER Best model saved. Loss:0.4610, Score:0.4604\n",
      "========================================================\n",
      "Epoch 7/4000\n"
     ]
    },
    {
     "name": "stderr",
     "output_type": "stream",
     "text": [
      "Training: 100%|██████████| 153/153 [01:40<00:00,  1.53it/s, loss=0.441]\n",
      "Validation: 100%|██████████| 5/5 [00:02<00:00,  2.19it/s, loss=0.486]\n"
     ]
    },
    {
     "name": "stdout",
     "output_type": "stream",
     "text": [
      "Validation Dice Score\n",
      "Class 0: 0.9864, Class 1: 0.1461, Class 2: 0.0192, Class 3: 0.1685, Class 4: 0.6070, Class 5: 0.3366, Class 6: 0.8804, \n",
      "Validation F-beta Score\n",
      "Class 0: 0.9817, Class 1: 0.2821, Class 2: 0.0110, Class 3: 0.2403, Class 4: 0.7679, Class 5: 0.3710, Class 6: 0.8974, \n",
      "\n",
      "Overall Mean Dice Score: 0.4277\n",
      "Overall Mean F-beta Score: 0.5117\n",
      "\n",
      "Training Loss: 0.4595, Validation Loss: 0.4471, Validation F-beta: 0.5117\n",
      "========================================================\n",
      "SUPER Best model saved. Loss:0.4471, Score:0.5117\n",
      "========================================================\n",
      "Epoch 8/4000\n"
     ]
    },
    {
     "name": "stderr",
     "output_type": "stream",
     "text": [
      "Training: 100%|██████████| 153/153 [01:39<00:00,  1.53it/s, loss=0.419]\n",
      "Validation: 100%|██████████| 5/5 [00:02<00:00,  2.28it/s, loss=0.442]\n"
     ]
    },
    {
     "name": "stdout",
     "output_type": "stream",
     "text": [
      "Validation Dice Score\n",
      "Class 0: 0.9871, Class 1: 0.2097, Class 2: 0.0687, Class 3: 0.2208, Class 4: 0.6484, Class 5: 0.3376, Class 6: 0.8392, \n",
      "Validation F-beta Score\n",
      "Class 0: 0.9834, Class 1: 0.4018, Class 2: 0.0495, Class 3: 0.3305, Class 4: 0.7760, Class 5: 0.3616, Class 6: 0.8125, \n",
      "\n",
      "Overall Mean Dice Score: 0.4512\n",
      "Overall Mean F-beta Score: 0.5365\n",
      "\n",
      "Training Loss: 0.4515, Validation Loss: 0.4441, Validation F-beta: 0.5365\n",
      "========================================================\n",
      "SUPER Best model saved. Loss:0.4441, Score:0.5365\n",
      "========================================================\n",
      "Epoch 9/4000\n"
     ]
    },
    {
     "name": "stderr",
     "output_type": "stream",
     "text": [
      "Training: 100%|██████████| 153/153 [01:41<00:00,  1.51it/s, loss=0.403]\n",
      "Validation: 100%|██████████| 5/5 [00:02<00:00,  2.14it/s, loss=0.433]\n"
     ]
    },
    {
     "name": "stdout",
     "output_type": "stream",
     "text": [
      "Validation Dice Score\n",
      "Class 0: 0.9870, Class 1: 0.4273, Class 2: 0.0922, Class 3: 0.1679, Class 4: 0.6049, Class 5: 0.3489, Class 6: 0.8822, \n",
      "Validation F-beta Score\n",
      "Class 0: 0.9829, Class 1: 0.5078, Class 2: 0.0827, Class 3: 0.3033, Class 4: 0.7799, Class 5: 0.3508, Class 6: 0.9162, \n",
      "\n",
      "Overall Mean Dice Score: 0.4862\n",
      "Overall Mean F-beta Score: 0.5716\n",
      "\n",
      "Training Loss: 0.4421, Validation Loss: 0.4239, Validation F-beta: 0.5716\n",
      "========================================================\n",
      "SUPER Best model saved. Loss:0.4239, Score:0.5716\n",
      "========================================================\n",
      "Epoch 10/4000\n"
     ]
    },
    {
     "name": "stderr",
     "output_type": "stream",
     "text": [
      "Training: 100%|██████████| 153/153 [01:40<00:00,  1.53it/s, loss=0.412]\n",
      "Validation: 100%|██████████| 5/5 [00:02<00:00,  2.31it/s, loss=0.426]\n"
     ]
    },
    {
     "name": "stdout",
     "output_type": "stream",
     "text": [
      "Validation Dice Score\n",
      "Class 0: 0.9887, Class 1: 0.4202, Class 2: 0.1348, Class 3: 0.2134, Class 4: 0.6416, Class 5: 0.3386, Class 6: 0.8624, \n",
      "Validation F-beta Score\n",
      "Class 0: 0.9865, Class 1: 0.5755, Class 2: 0.1508, Class 3: 0.4367, Class 4: 0.7278, Class 5: 0.2965, Class 6: 0.8815, \n",
      "\n",
      "Overall Mean Dice Score: 0.4952\n",
      "Overall Mean F-beta Score: 0.5836\n",
      "\n",
      "Training Loss: 0.4394, Validation Loss: 0.4336, Validation F-beta: 0.5836\n",
      "Epoch 11/4000\n"
     ]
    },
    {
     "name": "stderr",
     "output_type": "stream",
     "text": [
      "Training: 100%|██████████| 153/153 [01:41<00:00,  1.50it/s, loss=0.389]\n",
      "Validation: 100%|██████████| 5/5 [00:02<00:00,  2.05it/s, loss=0.441]\n"
     ]
    },
    {
     "name": "stdout",
     "output_type": "stream",
     "text": [
      "Validation Dice Score\n",
      "Class 0: 0.9861, Class 1: 0.4993, Class 2: 0.0839, Class 3: 0.1839, Class 4: 0.5869, Class 5: 0.3251, Class 6: 0.8350, \n",
      "Validation F-beta Score\n",
      "Class 0: 0.9803, Class 1: 0.6166, Class 2: 0.1013, Class 3: 0.4011, Class 4: 0.7892, Class 5: 0.3406, Class 6: 0.9378, \n",
      "\n",
      "Overall Mean Dice Score: 0.4860\n",
      "Overall Mean F-beta Score: 0.6171\n",
      "\n",
      "Training Loss: 0.4346, Validation Loss: 0.4300, Validation F-beta: 0.6171\n",
      "Epoch 12/4000\n"
     ]
    },
    {
     "name": "stderr",
     "output_type": "stream",
     "text": [
      "Training: 100%|██████████| 153/153 [01:42<00:00,  1.50it/s, loss=0.418]\n",
      "Validation: 100%|██████████| 5/5 [00:02<00:00,  2.32it/s, loss=0.439]\n"
     ]
    },
    {
     "name": "stdout",
     "output_type": "stream",
     "text": [
      "Validation Dice Score\n",
      "Class 0: 0.9867, Class 1: 0.4738, Class 2: 0.1117, Class 3: 0.1999, Class 4: 0.6596, Class 5: 0.3733, Class 6: 0.8877, \n",
      "Validation F-beta Score\n",
      "Class 0: 0.9815, Class 1: 0.6758, Class 2: 0.1212, Class 3: 0.3719, Class 4: 0.7842, Class 5: 0.4388, Class 6: 0.9250, \n",
      "\n",
      "Overall Mean Dice Score: 0.5189\n",
      "Overall Mean F-beta Score: 0.6392\n",
      "\n",
      "Training Loss: 0.4309, Validation Loss: 0.4264, Validation F-beta: 0.6392\n",
      "Epoch 13/4000\n"
     ]
    },
    {
     "name": "stderr",
     "output_type": "stream",
     "text": [
      "Training: 100%|██████████| 153/153 [01:40<00:00,  1.52it/s, loss=0.396]\n",
      "Validation: 100%|██████████| 5/5 [00:02<00:00,  2.30it/s, loss=0.403]\n"
     ]
    },
    {
     "name": "stdout",
     "output_type": "stream",
     "text": [
      "Validation Dice Score\n",
      "Class 0: 0.9875, Class 1: 0.4777, Class 2: 0.1695, Class 3: 0.2374, Class 4: 0.6802, Class 5: 0.3924, Class 6: 0.8662, \n",
      "Validation F-beta Score\n",
      "Class 0: 0.9835, Class 1: 0.7220, Class 2: 0.2176, Class 3: 0.4200, Class 4: 0.7745, Class 5: 0.4193, Class 6: 0.9146, \n",
      "\n",
      "Overall Mean Dice Score: 0.5308\n",
      "Overall Mean F-beta Score: 0.6501\n",
      "\n",
      "Training Loss: 0.4277, Validation Loss: 0.4133, Validation F-beta: 0.6501\n",
      "========================================================\n",
      "SUPER Best model saved. Loss:0.4133, Score:0.6501\n",
      "========================================================\n",
      "Epoch 14/4000\n"
     ]
    },
    {
     "name": "stderr",
     "output_type": "stream",
     "text": [
      "Training: 100%|██████████| 153/153 [01:47<00:00,  1.42it/s, loss=0.379]\n",
      "Validation: 100%|██████████| 5/5 [00:02<00:00,  2.21it/s, loss=0.396]\n"
     ]
    },
    {
     "name": "stdout",
     "output_type": "stream",
     "text": [
      "Validation Dice Score\n",
      "Class 0: 0.9872, Class 1: 0.5161, Class 2: 0.1777, Class 3: 0.2945, Class 4: 0.6169, Class 5: 0.4157, Class 6: 0.8020, \n",
      "Validation F-beta Score\n",
      "Class 0: 0.9806, Class 1: 0.7710, Class 2: 0.2195, Class 3: 0.5111, Class 4: 0.8381, Class 5: 0.4990, Class 6: 0.9306, \n",
      "\n",
      "Overall Mean Dice Score: 0.5290\n",
      "Overall Mean F-beta Score: 0.7100\n",
      "\n",
      "Training Loss: 0.4254, Validation Loss: 0.4127, Validation F-beta: 0.7100\n",
      "========================================================\n",
      "SUPER Best model saved. Loss:0.4127, Score:0.7100\n",
      "========================================================\n",
      "Epoch 15/4000\n"
     ]
    },
    {
     "name": "stderr",
     "output_type": "stream",
     "text": [
      "Training: 100%|██████████| 153/153 [01:39<00:00,  1.54it/s, loss=0.371]\n",
      "Validation: 100%|██████████| 5/5 [00:02<00:00,  2.26it/s, loss=0.398]\n"
     ]
    },
    {
     "name": "stdout",
     "output_type": "stream",
     "text": [
      "Validation Dice Score\n",
      "Class 0: 0.9881, Class 1: 0.5906, Class 2: 0.1952, Class 3: 0.2880, Class 4: 0.6517, Class 5: 0.4278, Class 6: 0.8625, \n",
      "Validation F-beta Score\n",
      "Class 0: 0.9831, Class 1: 0.7968, Class 2: 0.1970, Class 3: 0.4749, Class 4: 0.8219, Class 5: 0.4913, Class 6: 0.9314, \n",
      "\n",
      "Overall Mean Dice Score: 0.5641\n",
      "Overall Mean F-beta Score: 0.7033\n",
      "\n",
      "Training Loss: 0.4222, Validation Loss: 0.4014, Validation F-beta: 0.7033\n",
      "Epoch 16/4000\n"
     ]
    },
    {
     "name": "stderr",
     "output_type": "stream",
     "text": [
      "Training: 100%|██████████| 153/153 [01:39<00:00,  1.54it/s, loss=0.382]\n",
      "Validation: 100%|██████████| 5/5 [00:02<00:00,  2.30it/s, loss=0.406]\n"
     ]
    },
    {
     "name": "stdout",
     "output_type": "stream",
     "text": [
      "Validation Dice Score\n",
      "Class 0: 0.9869, Class 1: 0.6280, Class 2: 0.1833, Class 3: 0.2620, Class 4: 0.6541, Class 5: 0.4159, Class 6: 0.8525, \n",
      "Validation F-beta Score\n",
      "Class 0: 0.9808, Class 1: 0.7798, Class 2: 0.2302, Class 3: 0.4741, Class 4: 0.8171, Class 5: 0.4806, Class 6: 0.9475, \n",
      "\n",
      "Overall Mean Dice Score: 0.5625\n",
      "Overall Mean F-beta Score: 0.6998\n",
      "\n",
      "Training Loss: 0.4222, Validation Loss: 0.4097, Validation F-beta: 0.6998\n",
      "Epoch 17/4000\n"
     ]
    },
    {
     "name": "stderr",
     "output_type": "stream",
     "text": [
      "Training: 100%|██████████| 153/153 [01:44<00:00,  1.46it/s, loss=0.381]\n",
      "Validation: 100%|██████████| 5/5 [00:02<00:00,  2.11it/s, loss=0.397]\n"
     ]
    },
    {
     "name": "stdout",
     "output_type": "stream",
     "text": [
      "Validation Dice Score\n",
      "Class 0: 0.9872, Class 1: 0.5331, Class 2: 0.1456, Class 3: 0.3118, Class 4: 0.6700, Class 5: 0.4328, Class 6: 0.8537, \n",
      "Validation F-beta Score\n",
      "Class 0: 0.9821, Class 1: 0.7964, Class 2: 0.2093, Class 3: 0.5195, Class 4: 0.8064, Class 5: 0.4722, Class 6: 0.9240, \n",
      "\n",
      "Overall Mean Dice Score: 0.5603\n",
      "Overall Mean F-beta Score: 0.7037\n",
      "\n",
      "Training Loss: 0.4207, Validation Loss: 0.3996, Validation F-beta: 0.7037\n",
      "Epoch 18/4000\n"
     ]
    },
    {
     "name": "stderr",
     "output_type": "stream",
     "text": [
      "Training: 100%|██████████| 153/153 [01:42<00:00,  1.50it/s, loss=0.387]\n",
      "Validation: 100%|██████████| 5/5 [00:02<00:00,  2.25it/s, loss=0.403]\n"
     ]
    },
    {
     "name": "stdout",
     "output_type": "stream",
     "text": [
      "Validation Dice Score\n",
      "Class 0: 0.9856, Class 1: 0.6115, Class 2: 0.1816, Class 3: 0.2684, Class 4: 0.5721, Class 5: 0.3834, Class 6: 0.8497, \n",
      "Validation F-beta Score\n",
      "Class 0: 0.9774, Class 1: 0.7682, Class 2: 0.2036, Class 3: 0.4997, Class 4: 0.8408, Class 5: 0.5097, Class 6: 0.9492, \n",
      "\n",
      "Overall Mean Dice Score: 0.5370\n",
      "Overall Mean F-beta Score: 0.7135\n",
      "\n",
      "Training Loss: 0.4201, Validation Loss: 0.4142, Validation F-beta: 0.7135\n",
      "Epoch 19/4000\n"
     ]
    },
    {
     "name": "stderr",
     "output_type": "stream",
     "text": [
      "Training: 100%|██████████| 153/153 [01:45<00:00,  1.45it/s, loss=0.385]\n",
      "Validation: 100%|██████████| 5/5 [00:02<00:00,  2.15it/s, loss=0.394]\n"
     ]
    },
    {
     "name": "stdout",
     "output_type": "stream",
     "text": [
      "Validation Dice Score\n",
      "Class 0: 0.9861, Class 1: 0.5484, Class 2: 0.1449, Class 3: 0.3061, Class 4: 0.6103, Class 5: 0.4093, Class 6: 0.8726, \n",
      "Validation F-beta Score\n",
      "Class 0: 0.9794, Class 1: 0.8167, Class 2: 0.2303, Class 3: 0.5483, Class 4: 0.7974, Class 5: 0.4800, Class 6: 0.9355, \n",
      "\n",
      "Overall Mean Dice Score: 0.5493\n",
      "Overall Mean F-beta Score: 0.7156\n",
      "\n",
      "Training Loss: 0.4169, Validation Loss: 0.4080, Validation F-beta: 0.7156\n",
      "========================================================\n",
      "SUPER Best model saved. Loss:0.4080, Score:0.7156\n",
      "========================================================\n",
      "Epoch 20/4000\n"
     ]
    },
    {
     "name": "stderr",
     "output_type": "stream",
     "text": [
      "Training: 100%|██████████| 153/153 [01:43<00:00,  1.48it/s, loss=0.395]\n",
      "Validation: 100%|██████████| 5/5 [00:02<00:00,  2.33it/s, loss=0.418]\n"
     ]
    },
    {
     "name": "stdout",
     "output_type": "stream",
     "text": [
      "Validation Dice Score\n",
      "Class 0: 0.9859, Class 1: 0.5594, Class 2: 0.1536, Class 3: 0.2966, Class 4: 0.6651, Class 5: 0.4516, Class 6: 0.8205, \n",
      "Validation F-beta Score\n",
      "Class 0: 0.9794, Class 1: 0.7929, Class 2: 0.1815, Class 3: 0.4243, Class 4: 0.8271, Class 5: 0.5485, Class 6: 0.9226, \n",
      "\n",
      "Overall Mean Dice Score: 0.5586\n",
      "Overall Mean F-beta Score: 0.7031\n",
      "\n",
      "Training Loss: 0.4135, Validation Loss: 0.4054, Validation F-beta: 0.7031\n",
      "Epoch 21/4000\n"
     ]
    },
    {
     "name": "stderr",
     "output_type": "stream",
     "text": [
      "Training: 100%|██████████| 153/153 [01:42<00:00,  1.49it/s, loss=0.364]\n",
      "Validation: 100%|██████████| 5/5 [00:02<00:00,  2.19it/s, loss=0.416]\n"
     ]
    },
    {
     "name": "stdout",
     "output_type": "stream",
     "text": [
      "Validation Dice Score\n",
      "Class 0: 0.9844, Class 1: 0.5270, Class 2: 0.1289, Class 3: 0.2947, Class 4: 0.6089, Class 5: 0.3267, Class 6: 0.8668, \n",
      "Validation F-beta Score\n",
      "Class 0: 0.9749, Class 1: 0.7800, Class 2: 0.1458, Class 3: 0.4829, Class 4: 0.8333, Class 5: 0.5258, Class 6: 0.9544, \n",
      "\n",
      "Overall Mean Dice Score: 0.5249\n",
      "Overall Mean F-beta Score: 0.7153\n",
      "\n",
      "Training Loss: 0.4143, Validation Loss: 0.4312, Validation F-beta: 0.7153\n",
      "Epoch 22/4000\n"
     ]
    },
    {
     "name": "stderr",
     "output_type": "stream",
     "text": [
      "Training: 100%|██████████| 153/153 [01:40<00:00,  1.53it/s, loss=0.374]\n",
      "Validation: 100%|██████████| 5/5 [00:02<00:00,  2.33it/s, loss=0.379]\n"
     ]
    },
    {
     "name": "stdout",
     "output_type": "stream",
     "text": [
      "Validation Dice Score\n",
      "Class 0: 0.9862, Class 1: 0.6199, Class 2: 0.2233, Class 3: 0.3671, Class 4: 0.6147, Class 5: 0.4430, Class 6: 0.8631, \n",
      "Validation F-beta Score\n",
      "Class 0: 0.9788, Class 1: 0.7857, Class 2: 0.2635, Class 3: 0.5485, Class 4: 0.8326, Class 5: 0.5845, Class 6: 0.9312, \n",
      "\n",
      "Overall Mean Dice Score: 0.5816\n",
      "Overall Mean F-beta Score: 0.7365\n",
      "\n",
      "Training Loss: 0.4135, Validation Loss: 0.3949, Validation F-beta: 0.7365\n",
      "========================================================\n",
      "SUPER Best model saved. Loss:0.3949, Score:0.7365\n",
      "========================================================\n",
      "Epoch 23/4000\n"
     ]
    },
    {
     "name": "stderr",
     "output_type": "stream",
     "text": [
      "Training: 100%|██████████| 153/153 [01:42<00:00,  1.49it/s, loss=0.387]\n",
      "Validation: 100%|██████████| 5/5 [00:02<00:00,  2.19it/s, loss=0.388]\n"
     ]
    },
    {
     "name": "stdout",
     "output_type": "stream",
     "text": [
      "Validation Dice Score\n",
      "Class 0: 0.9878, Class 1: 0.6825, Class 2: 0.1683, Class 3: 0.3151, Class 4: 0.6394, Class 5: 0.3853, Class 6: 0.8824, \n",
      "Validation F-beta Score\n",
      "Class 0: 0.9818, Class 1: 0.8240, Class 2: 0.1980, Class 3: 0.4722, Class 4: 0.8395, Class 5: 0.4965, Class 6: 0.9217, \n",
      "\n",
      "Overall Mean Dice Score: 0.5809\n",
      "Overall Mean F-beta Score: 0.7108\n",
      "\n",
      "Training Loss: 0.4124, Validation Loss: 0.3961, Validation F-beta: 0.7108\n",
      "Epoch 24/4000\n"
     ]
    },
    {
     "name": "stderr",
     "output_type": "stream",
     "text": [
      "Training: 100%|██████████| 153/153 [01:41<00:00,  1.51it/s, loss=0.349]\n",
      "Validation: 100%|██████████| 5/5 [00:02<00:00,  2.27it/s, loss=0.394]\n"
     ]
    },
    {
     "name": "stdout",
     "output_type": "stream",
     "text": [
      "Validation Dice Score\n",
      "Class 0: 0.9866, Class 1: 0.6310, Class 2: 0.1677, Class 3: 0.3537, Class 4: 0.5678, Class 5: 0.3985, Class 6: 0.8353, \n",
      "Validation F-beta Score\n",
      "Class 0: 0.9793, Class 1: 0.8226, Class 2: 0.2130, Class 3: 0.5184, Class 4: 0.8043, Class 5: 0.5435, Class 6: 0.9373, \n",
      "\n",
      "Overall Mean Dice Score: 0.5573\n",
      "Overall Mean F-beta Score: 0.7252\n",
      "\n",
      "Training Loss: 0.4122, Validation Loss: 0.4071, Validation F-beta: 0.7252\n",
      "Epoch 25/4000\n"
     ]
    },
    {
     "name": "stderr",
     "output_type": "stream",
     "text": [
      "Training: 100%|██████████| 153/153 [01:42<00:00,  1.50it/s, loss=0.355]\n",
      "Validation: 100%|██████████| 5/5 [00:02<00:00,  2.25it/s, loss=0.393]\n"
     ]
    },
    {
     "name": "stdout",
     "output_type": "stream",
     "text": [
      "Validation Dice Score\n",
      "Class 0: 0.9874, Class 1: 0.7053, Class 2: 0.1352, Class 3: 0.2703, Class 4: 0.6605, Class 5: 0.4279, Class 6: 0.8695, \n",
      "Validation F-beta Score\n",
      "Class 0: 0.9806, Class 1: 0.8457, Class 2: 0.1869, Class 3: 0.5033, Class 4: 0.8104, Class 5: 0.5964, Class 6: 0.9248, \n",
      "\n",
      "Overall Mean Dice Score: 0.5867\n",
      "Overall Mean F-beta Score: 0.7361\n",
      "\n",
      "Training Loss: 0.4133, Validation Loss: 0.3924, Validation F-beta: 0.7361\n",
      "Epoch 26/4000\n"
     ]
    },
    {
     "name": "stderr",
     "output_type": "stream",
     "text": [
      "Training: 100%|██████████| 153/153 [01:40<00:00,  1.52it/s, loss=0.369]\n",
      "Validation: 100%|██████████| 5/5 [00:02<00:00,  2.25it/s, loss=0.372]\n"
     ]
    },
    {
     "name": "stdout",
     "output_type": "stream",
     "text": [
      "Validation Dice Score\n",
      "Class 0: 0.9849, Class 1: 0.6513, Class 2: 0.1440, Class 3: 0.3245, Class 4: 0.6154, Class 5: 0.4507, Class 6: 0.8415, \n",
      "Validation F-beta Score\n",
      "Class 0: 0.9757, Class 1: 0.8327, Class 2: 0.1977, Class 3: 0.4787, Class 4: 0.8600, Class 5: 0.6213, Class 6: 0.9327, \n",
      "\n",
      "Overall Mean Dice Score: 0.5767\n",
      "Overall Mean F-beta Score: 0.7451\n",
      "\n",
      "Training Loss: 0.4113, Validation Loss: 0.4063, Validation F-beta: 0.7451\n",
      "Epoch 27/4000\n"
     ]
    },
    {
     "name": "stderr",
     "output_type": "stream",
     "text": [
      "Training: 100%|██████████| 153/153 [01:43<00:00,  1.49it/s, loss=0.379]\n",
      "Validation: 100%|██████████| 5/5 [00:02<00:00,  2.18it/s, loss=0.459]\n"
     ]
    },
    {
     "name": "stdout",
     "output_type": "stream",
     "text": [
      "Validation Dice Score\n",
      "Class 0: 0.9865, Class 1: 0.6004, Class 2: 0.1320, Class 3: 0.3074, Class 4: 0.6699, Class 5: 0.4328, Class 6: 0.8256, \n",
      "Validation F-beta Score\n",
      "Class 0: 0.9793, Class 1: 0.7953, Class 2: 0.1980, Class 3: 0.5594, Class 4: 0.8227, Class 5: 0.5886, Class 6: 0.9001, \n",
      "\n",
      "Overall Mean Dice Score: 0.5672\n",
      "Overall Mean F-beta Score: 0.7332\n",
      "\n",
      "Training Loss: 0.4100, Validation Loss: 0.4169, Validation F-beta: 0.7332\n",
      "Epoch 28/4000\n"
     ]
    },
    {
     "name": "stderr",
     "output_type": "stream",
     "text": [
      "Training: 100%|██████████| 153/153 [01:44<00:00,  1.47it/s, loss=0.381]\n",
      "Validation: 100%|██████████| 5/5 [00:02<00:00,  2.29it/s, loss=0.385]\n"
     ]
    },
    {
     "name": "stdout",
     "output_type": "stream",
     "text": [
      "Validation Dice Score\n",
      "Class 0: 0.9851, Class 1: 0.6376, Class 2: 0.1809, Class 3: 0.3226, Class 4: 0.6256, Class 5: 0.4619, Class 6: 0.8775, \n",
      "Validation F-beta Score\n",
      "Class 0: 0.9772, Class 1: 0.8445, Class 2: 0.2404, Class 3: 0.5028, Class 4: 0.8436, Class 5: 0.5755, Class 6: 0.9443, \n",
      "\n",
      "Overall Mean Dice Score: 0.5850\n",
      "Overall Mean F-beta Score: 0.7421\n",
      "\n",
      "Training Loss: 0.4087, Validation Loss: 0.3999, Validation F-beta: 0.7421\n",
      "Epoch 29/4000\n"
     ]
    },
    {
     "name": "stderr",
     "output_type": "stream",
     "text": [
      "Training: 100%|██████████| 153/153 [01:41<00:00,  1.51it/s, loss=0.338]\n",
      "Validation: 100%|██████████| 5/5 [00:02<00:00,  2.14it/s, loss=0.421]\n"
     ]
    },
    {
     "name": "stdout",
     "output_type": "stream",
     "text": [
      "Validation Dice Score\n",
      "Class 0: 0.9857, Class 1: 0.6936, Class 2: 0.1342, Class 3: 0.3508, Class 4: 0.6521, Class 5: 0.3927, Class 6: 0.8647, \n",
      "Validation F-beta Score\n",
      "Class 0: 0.9777, Class 1: 0.7900, Class 2: 0.2358, Class 3: 0.5444, Class 4: 0.8292, Class 5: 0.5669, Class 6: 0.9307, \n",
      "\n",
      "Overall Mean Dice Score: 0.5908\n",
      "Overall Mean F-beta Score: 0.7322\n",
      "\n",
      "Training Loss: 0.4071, Validation Loss: 0.4079, Validation F-beta: 0.7322\n",
      "Epoch 30/4000\n"
     ]
    },
    {
     "name": "stderr",
     "output_type": "stream",
     "text": [
      "Training: 100%|██████████| 153/153 [01:41<00:00,  1.50it/s, loss=0.366]\n",
      "Validation: 100%|██████████| 5/5 [00:02<00:00,  2.27it/s, loss=0.386]\n"
     ]
    },
    {
     "name": "stdout",
     "output_type": "stream",
     "text": [
      "Validation Dice Score\n",
      "Class 0: 0.9864, Class 1: 0.6778, Class 2: 0.1346, Class 3: 0.3078, Class 4: 0.6401, Class 5: 0.4128, Class 6: 0.8900, \n",
      "Validation F-beta Score\n",
      "Class 0: 0.9787, Class 1: 0.8618, Class 2: 0.1907, Class 3: 0.5175, Class 4: 0.8382, Class 5: 0.5819, Class 6: 0.9451, \n",
      "\n",
      "Overall Mean Dice Score: 0.5857\n",
      "Overall Mean F-beta Score: 0.7489\n",
      "\n",
      "Training Loss: 0.4070, Validation Loss: 0.3898, Validation F-beta: 0.7489\n",
      "========================================================\n",
      "SUPER Best model saved. Loss:0.3898, Score:0.7489\n",
      "========================================================\n",
      "Epoch 31/4000\n"
     ]
    },
    {
     "name": "stderr",
     "output_type": "stream",
     "text": [
      "Training: 100%|██████████| 153/153 [01:45<00:00,  1.46it/s, loss=0.38] \n",
      "Validation: 100%|██████████| 5/5 [00:02<00:00,  2.21it/s, loss=0.405]\n"
     ]
    },
    {
     "name": "stdout",
     "output_type": "stream",
     "text": [
      "Validation Dice Score\n",
      "Class 0: 0.9875, Class 1: 0.6495, Class 2: 0.1462, Class 3: 0.3033, Class 4: 0.7119, Class 5: 0.4428, Class 6: 0.8992, \n",
      "Validation F-beta Score\n",
      "Class 0: 0.9820, Class 1: 0.8208, Class 2: 0.2357, Class 3: 0.5004, Class 4: 0.8187, Class 5: 0.5674, Class 6: 0.9382, \n",
      "\n",
      "Overall Mean Dice Score: 0.6013\n",
      "Overall Mean F-beta Score: 0.7291\n",
      "\n",
      "Training Loss: 0.4082, Validation Loss: 0.3986, Validation F-beta: 0.7291\n",
      "Epoch 32/4000\n"
     ]
    },
    {
     "name": "stderr",
     "output_type": "stream",
     "text": [
      "Training: 100%|██████████| 153/153 [01:43<00:00,  1.48it/s, loss=0.413]\n",
      "Validation: 100%|██████████| 5/5 [00:02<00:00,  2.20it/s, loss=0.384]\n"
     ]
    },
    {
     "name": "stdout",
     "output_type": "stream",
     "text": [
      "Validation Dice Score\n",
      "Class 0: 0.9860, Class 1: 0.6687, Class 2: 0.1401, Class 3: 0.2628, Class 4: 0.6729, Class 5: 0.3437, Class 6: 0.8900, \n",
      "Validation F-beta Score\n",
      "Class 0: 0.9779, Class 1: 0.8349, Class 2: 0.2142, Class 3: 0.4478, Class 4: 0.8260, Class 5: 0.5561, Class 6: 0.9276, \n",
      "\n",
      "Overall Mean Dice Score: 0.5676\n",
      "Overall Mean F-beta Score: 0.7185\n",
      "\n",
      "Training Loss: 0.4058, Validation Loss: 0.4109, Validation F-beta: 0.7185\n",
      "Epoch 33/4000\n"
     ]
    },
    {
     "name": "stderr",
     "output_type": "stream",
     "text": [
      "Training: 100%|██████████| 153/153 [01:46<00:00,  1.44it/s, loss=0.375]\n",
      "Validation: 100%|██████████| 5/5 [00:02<00:00,  2.08it/s, loss=0.402]\n"
     ]
    },
    {
     "name": "stdout",
     "output_type": "stream",
     "text": [
      "Validation Dice Score\n",
      "Class 0: 0.9850, Class 1: 0.6489, Class 2: 0.1474, Class 3: 0.2935, Class 4: 0.6711, Class 5: 0.3983, Class 6: 0.8987, \n",
      "Validation F-beta Score\n",
      "Class 0: 0.9767, Class 1: 0.8409, Class 2: 0.2817, Class 3: 0.4808, Class 4: 0.8327, Class 5: 0.5717, Class 6: 0.9525, \n",
      "\n",
      "Overall Mean Dice Score: 0.5821\n",
      "Overall Mean F-beta Score: 0.7357\n",
      "\n",
      "Training Loss: 0.4052, Validation Loss: 0.4100, Validation F-beta: 0.7357\n",
      "Epoch 34/4000\n"
     ]
    },
    {
     "name": "stderr",
     "output_type": "stream",
     "text": [
      "Training: 100%|██████████| 153/153 [01:44<00:00,  1.47it/s, loss=0.363]\n",
      "Validation: 100%|██████████| 5/5 [00:02<00:00,  2.18it/s, loss=0.394]\n"
     ]
    },
    {
     "name": "stdout",
     "output_type": "stream",
     "text": [
      "Validation Dice Score\n",
      "Class 0: 0.9865, Class 1: 0.6841, Class 2: 0.1671, Class 3: 0.2884, Class 4: 0.6235, Class 5: 0.4119, Class 6: 0.8976, \n",
      "Validation F-beta Score\n",
      "Class 0: 0.9800, Class 1: 0.8455, Class 2: 0.2421, Class 3: 0.4711, Class 4: 0.7604, Class 5: 0.5592, Class 6: 0.9394, \n",
      "\n",
      "Overall Mean Dice Score: 0.5811\n",
      "Overall Mean F-beta Score: 0.7151\n",
      "\n",
      "Training Loss: 0.4072, Validation Loss: 0.3925, Validation F-beta: 0.7151\n",
      "Epoch 35/4000\n"
     ]
    },
    {
     "name": "stderr",
     "output_type": "stream",
     "text": [
      "Training: 100%|██████████| 153/153 [01:40<00:00,  1.52it/s, loss=0.34] \n",
      "Validation: 100%|██████████| 5/5 [00:02<00:00,  2.30it/s, loss=0.393]\n"
     ]
    },
    {
     "name": "stdout",
     "output_type": "stream",
     "text": [
      "Validation Dice Score\n",
      "Class 0: 0.9874, Class 1: 0.7079, Class 2: 0.1158, Class 3: 0.3065, Class 4: 0.6980, Class 5: 0.4387, Class 6: 0.8840, \n",
      "Validation F-beta Score\n",
      "Class 0: 0.9822, Class 1: 0.8577, Class 2: 0.1746, Class 3: 0.4569, Class 4: 0.8000, Class 5: 0.5465, Class 6: 0.9235, \n",
      "\n",
      "Overall Mean Dice Score: 0.6070\n",
      "Overall Mean F-beta Score: 0.7169\n",
      "\n",
      "Training Loss: 0.4060, Validation Loss: 0.3903, Validation F-beta: 0.7169\n",
      "Epoch 36/4000\n"
     ]
    },
    {
     "name": "stderr",
     "output_type": "stream",
     "text": [
      "Training: 100%|██████████| 153/153 [01:40<00:00,  1.53it/s, loss=0.389]\n",
      "Validation: 100%|██████████| 5/5 [00:02<00:00,  2.28it/s, loss=0.386]\n"
     ]
    },
    {
     "name": "stdout",
     "output_type": "stream",
     "text": [
      "Validation Dice Score\n",
      "Class 0: 0.9861, Class 1: 0.6639, Class 2: 0.1837, Class 3: 0.3377, Class 4: 0.6664, Class 5: 0.4125, Class 6: 0.8867, \n",
      "Validation F-beta Score\n",
      "Class 0: 0.9791, Class 1: 0.8327, Class 2: 0.2582, Class 3: 0.4560, Class 4: 0.8148, Class 5: 0.5814, Class 6: 0.9252, \n",
      "\n",
      "Overall Mean Dice Score: 0.5935\n",
      "Overall Mean F-beta Score: 0.7220\n",
      "\n",
      "Training Loss: 0.4062, Validation Loss: 0.3900, Validation F-beta: 0.7220\n",
      "Epoch 37/4000\n"
     ]
    },
    {
     "name": "stderr",
     "output_type": "stream",
     "text": [
      "Training: 100%|██████████| 153/153 [01:44<00:00,  1.46it/s, loss=0.388]\n",
      "Validation: 100%|██████████| 5/5 [00:02<00:00,  2.23it/s, loss=0.411]\n"
     ]
    },
    {
     "name": "stdout",
     "output_type": "stream",
     "text": [
      "Validation Dice Score\n",
      "Class 0: 0.9870, Class 1: 0.6823, Class 2: 0.1609, Class 3: 0.3216, Class 4: 0.6928, Class 5: 0.4483, Class 6: 0.9138, \n",
      "Validation F-beta Score\n",
      "Class 0: 0.9821, Class 1: 0.7957, Class 2: 0.2319, Class 3: 0.5192, Class 4: 0.7639, Class 5: 0.5764, Class 6: 0.9376, \n",
      "\n",
      "Overall Mean Dice Score: 0.6117\n",
      "Overall Mean F-beta Score: 0.7186\n",
      "\n",
      "Training Loss: 0.4036, Validation Loss: 0.3951, Validation F-beta: 0.7186\n",
      "Epoch 38/4000\n"
     ]
    },
    {
     "name": "stderr",
     "output_type": "stream",
     "text": [
      "Training: 100%|██████████| 153/153 [01:47<00:00,  1.43it/s, loss=0.363]\n",
      "Validation: 100%|██████████| 5/5 [00:02<00:00,  2.13it/s, loss=0.393]\n"
     ]
    },
    {
     "name": "stdout",
     "output_type": "stream",
     "text": [
      "Validation Dice Score\n",
      "Class 0: 0.9871, Class 1: 0.6747, Class 2: 0.1513, Class 3: 0.3165, Class 4: 0.6904, Class 5: 0.3851, Class 6: 0.8586, \n",
      "Validation F-beta Score\n",
      "Class 0: 0.9800, Class 1: 0.8481, Class 2: 0.1941, Class 3: 0.4699, Class 4: 0.8353, Class 5: 0.5977, Class 6: 0.9291, \n",
      "\n",
      "Overall Mean Dice Score: 0.5851\n",
      "Overall Mean F-beta Score: 0.7360\n",
      "\n",
      "Training Loss: 0.4039, Validation Loss: 0.4039, Validation F-beta: 0.7360\n",
      "Epoch 39/4000\n"
     ]
    },
    {
     "name": "stderr",
     "output_type": "stream",
     "text": [
      "Training: 100%|██████████| 153/153 [01:46<00:00,  1.44it/s, loss=0.367]\n",
      "Validation: 100%|██████████| 5/5 [00:02<00:00,  2.09it/s, loss=0.358]\n"
     ]
    },
    {
     "name": "stdout",
     "output_type": "stream",
     "text": [
      "Validation Dice Score\n",
      "Class 0: 0.9877, Class 1: 0.6631, Class 2: 0.2182, Class 3: 0.4002, Class 4: 0.6844, Class 5: 0.4427, Class 6: 0.8959, \n",
      "Validation F-beta Score\n",
      "Class 0: 0.9823, Class 1: 0.7814, Class 2: 0.2927, Class 3: 0.5673, Class 4: 0.8030, Class 5: 0.5846, Class 6: 0.9251, \n",
      "\n",
      "Overall Mean Dice Score: 0.6173\n",
      "Overall Mean F-beta Score: 0.7323\n",
      "\n",
      "Training Loss: 0.4042, Validation Loss: 0.3803, Validation F-beta: 0.7323\n",
      "Epoch 40/4000\n"
     ]
    },
    {
     "name": "stderr",
     "output_type": "stream",
     "text": [
      "Training:  12%|█▏        | 18/153 [00:11<01:28,  1.53it/s, loss=0.417]"
     ]
    }
   ],
   "source": [
    "train_model(\n",
    "    model=model,\n",
    "    train_loader=train_loader,\n",
    "    val_loader=val_loader,\n",
    "    criterion=criterion,\n",
    "    optimizer=optimizer,\n",
    "    num_epochs=num_epochs,\n",
    "    patience=10,\n",
    "    device=device,\n",
    "    start_epoch=start_epoch,\n",
    "    best_val_loss=best_val_loss,\n",
    "    best_val_fbeta_score=best_val_fbeta_score,\n",
    "    calculate_dice_interval=1,\n",
    "    accumulation_steps = accumulation_steps\n",
    "    )"
   ]
  },
  {
   "cell_type": "code",
   "execution_count": null,
   "metadata": {},
   "outputs": [],
   "source": [
    "train_model(\n",
    "    model=model,\n",
    "    train_loader=train_loader,\n",
    "    val_loader=val_loader,\n",
    "    criterion=criterion,\n",
    "    optimizer=optimizer,\n",
    "    num_epochs=num_epochs,\n",
    "    patience=10,\n",
    "    device=device,\n",
    "    start_epoch=start_epoch,\n",
    "    best_val_loss=best_val_loss,\n",
    "    best_val_fbeta_score=best_val_fbeta_score,\n",
    "    calculate_dice_interval=1,\n",
    "    accumulation_steps = accumulation_steps\n",
    "    )"
   ]
  },
  {
   "cell_type": "code",
   "execution_count": 12,
   "metadata": {},
   "outputs": [
    {
     "ename": "SyntaxError",
     "evalue": "invalid syntax (879943805.py, line 1)",
     "output_type": "error",
     "traceback": [
      "\u001b[1;36m  Cell \u001b[1;32mIn[12], line 1\u001b[1;36m\u001b[0m\n\u001b[1;33m    if:\u001b[0m\n\u001b[1;37m      ^\u001b[0m\n\u001b[1;31mSyntaxError\u001b[0m\u001b[1;31m:\u001b[0m invalid syntax\n"
     ]
    }
   ],
   "source": [
    "if:"
   ]
  },
  {
   "cell_type": "markdown",
   "metadata": {},
   "source": [
    "# VAl"
   ]
  },
  {
   "cell_type": "code",
   "execution_count": null,
   "metadata": {},
   "outputs": [
    {
     "data": {
      "text/html": [
       "Finishing last run (ID:fs6utwyo) before initializing another..."
      ],
      "text/plain": [
       "<IPython.core.display.HTML object>"
      ]
     },
     "metadata": {},
     "output_type": "display_data"
    },
    {
     "data": {
      "application/vnd.jupyter.widget-view+json": {
       "model_id": "29cc3ae761af43baae5aca60b5d2e7f4",
       "version_major": 2,
       "version_minor": 0
      },
      "text/plain": [
       "VBox(children=(Label(value='0.009 MB of 0.009 MB uploaded\\r'), FloatProgress(value=1.0, max=1.0)))"
      ]
     },
     "metadata": {},
     "output_type": "display_data"
    },
    {
     "data": {
      "text/html": [
       "<style>\n",
       "    table.wandb td:nth-child(1) { padding: 0 10px; text-align: left ; width: auto;} td:nth-child(2) {text-align: left ; width: 100%}\n",
       "    .wandb-row { display: flex; flex-direction: row; flex-wrap: wrap; justify-content: flex-start; width: 100% }\n",
       "    .wandb-col { display: flex; flex-direction: column; flex-basis: 100%; flex: 1; padding: 10px; }\n",
       "    </style>\n",
       "<div class=\"wandb-row\"><div class=\"wandb-col\"><h3>Run history:</h3><br/><table class=\"wandb\"><tr><td>class_0_dice_score</td><td>▁</td></tr><tr><td>class_0_f_beta_score</td><td>▁</td></tr><tr><td>class_1_dice_score</td><td>▁</td></tr><tr><td>class_1_f_beta_score</td><td>▁</td></tr><tr><td>class_2_dice_score</td><td>▁</td></tr><tr><td>class_2_f_beta_score</td><td>▁</td></tr><tr><td>class_3_dice_score</td><td>▁</td></tr><tr><td>class_3_f_beta_score</td><td>▁</td></tr><tr><td>class_4_dice_score</td><td>▁</td></tr><tr><td>class_4_f_beta_score</td><td>▁</td></tr><tr><td>class_5_dice_score</td><td>▁</td></tr><tr><td>class_5_f_beta_score</td><td>▁</td></tr><tr><td>class_6_dice_score</td><td>▁</td></tr><tr><td>class_6_f_beta_score</td><td>▁</td></tr><tr><td>epoch</td><td>▁▁▁▁▁▁▁▁▁▁▁▁▁▁▁▁</td></tr><tr><td>overall_mean_dice_score</td><td>▁</td></tr><tr><td>overall_mean_f_beta_score</td><td>▁</td></tr><tr><td>val_epoch_loss</td><td>▁</td></tr></table><br/></div><div class=\"wandb-col\"><h3>Run summary:</h3><br/><table class=\"wandb\"><tr><td>class_0_dice_score</td><td>0.65703</td></tr><tr><td>class_0_f_beta_score</td><td>0.50748</td></tr><tr><td>class_1_dice_score</td><td>0.53332</td></tr><tr><td>class_1_f_beta_score</td><td>0.64703</td></tr><tr><td>class_2_dice_score</td><td>0.00286</td></tr><tr><td>class_2_f_beta_score</td><td>0.02334</td></tr><tr><td>class_3_dice_score</td><td>0.23703</td></tr><tr><td>class_3_f_beta_score</td><td>0.23033</td></tr><tr><td>class_4_dice_score</td><td>0.65487</td></tr><tr><td>class_4_f_beta_score</td><td>0.62525</td></tr><tr><td>class_5_dice_score</td><td>0.47899</td></tr><tr><td>class_5_f_beta_score</td><td>0.51448</td></tr><tr><td>class_6_dice_score</td><td>0.42545</td></tr><tr><td>class_6_f_beta_score</td><td>0.47197</td></tr><tr><td>epoch</td><td>1</td></tr><tr><td>overall_mean_dice_score</td><td>0.42708</td></tr><tr><td>overall_mean_f_beta_score</td><td>0.43141</td></tr><tr><td>val_epoch_loss</td><td>0.7152</td></tr></table><br/></div></div>"
      ],
      "text/plain": [
       "<IPython.core.display.HTML object>"
      ]
     },
     "metadata": {},
     "output_type": "display_data"
    },
    {
     "data": {
      "text/html": [
       " View run <strong style=\"color:#cdcd00\">SwinUNETR96_96_lr0.001_lambda0.52_batch2</strong> at: <a href='https://wandb.ai/waooang/czii_SwinUnetR_val/runs/fs6utwyo' target=\"_blank\">https://wandb.ai/waooang/czii_SwinUnetR_val/runs/fs6utwyo</a><br/> View project at: <a href='https://wandb.ai/waooang/czii_SwinUnetR_val' target=\"_blank\">https://wandb.ai/waooang/czii_SwinUnetR_val</a><br/>Synced 4 W&B file(s), 0 media file(s), 3 artifact file(s) and 0 other file(s)"
      ],
      "text/plain": [
       "<IPython.core.display.HTML object>"
      ]
     },
     "metadata": {},
     "output_type": "display_data"
    },
    {
     "data": {
      "text/html": [
       "Find logs at: <code>.\\wandb\\run-20241219_200219-fs6utwyo\\logs</code>"
      ],
      "text/plain": [
       "<IPython.core.display.HTML object>"
      ]
     },
     "metadata": {},
     "output_type": "display_data"
    },
    {
     "data": {
      "text/html": [
       "Successfully finished last run (ID:fs6utwyo). Initializing new run:<br/>"
      ],
      "text/plain": [
       "<IPython.core.display.HTML object>"
      ]
     },
     "metadata": {},
     "output_type": "display_data"
    },
    {
     "data": {
      "text/html": [
       "Tracking run with wandb version 0.18.3"
      ],
      "text/plain": [
       "<IPython.core.display.HTML object>"
      ]
     },
     "metadata": {},
     "output_type": "display_data"
    },
    {
     "data": {
      "text/html": [
       "Run data is saved locally in <code>e:\\Workspace\\czll\\wandb\\run-20241219_200454-121l7bn3</code>"
      ],
      "text/plain": [
       "<IPython.core.display.HTML object>"
      ]
     },
     "metadata": {},
     "output_type": "display_data"
    },
    {
     "data": {
      "text/html": [
       "Syncing run <strong><a href='https://wandb.ai/waooang/czii_SwinUnetR_val/runs/121l7bn3' target=\"_blank\">SwinUNETR96_96_lr0.001_lambda0.52_batch2</a></strong> to <a href='https://wandb.ai/waooang/czii_SwinUnetR_val' target=\"_blank\">Weights & Biases</a> (<a href='https://wandb.me/run' target=\"_blank\">docs</a>)<br/>"
      ],
      "text/plain": [
       "<IPython.core.display.HTML object>"
      ]
     },
     "metadata": {},
     "output_type": "display_data"
    },
    {
     "data": {
      "text/html": [
       " View project at <a href='https://wandb.ai/waooang/czii_SwinUnetR_val' target=\"_blank\">https://wandb.ai/waooang/czii_SwinUnetR_val</a>"
      ],
      "text/plain": [
       "<IPython.core.display.HTML object>"
      ]
     },
     "metadata": {},
     "output_type": "display_data"
    },
    {
     "data": {
      "text/html": [
       " View run at <a href='https://wandb.ai/waooang/czii_SwinUnetR_val/runs/121l7bn3' target=\"_blank\">https://wandb.ai/waooang/czii_SwinUnetR_val/runs/121l7bn3</a>"
      ],
      "text/plain": [
       "<IPython.core.display.HTML object>"
      ]
     },
     "metadata": {},
     "output_type": "display_data"
    },
    {
     "name": "stderr",
     "output_type": "stream",
     "text": [
      "Loading dataset: 100%|██████████| 4/4 [00:06<00:00,  1.58s/it]\n",
      "C:\\Users\\Seungwoo\\AppData\\Local\\Temp\\ipykernel_21000\\1177025787.py:95: FutureWarning: You are using `torch.load` with `weights_only=False` (the current default value), which uses the default pickle module implicitly. It is possible to construct malicious pickle data which will execute arbitrary code during unpickling (See https://github.com/pytorch/pytorch/blob/main/SECURITY.md#untrusted-models for more details). In a future release, the default value for `weights_only` will be flipped to `True`. This limits the functions that could be executed during unpickling. Arbitrary objects will no longer be allowed to be loaded via this mode unless they are explicitly allowlisted by the user via `torch.serialization.add_safe_globals`. We recommend you start setting `weights_only=True` for any use case where you don't have full control of the loaded file. Please open an issue on GitHub for any issues related to this experimental feature.\n",
      "  checkpoint = torch.load(pretrain_path, map_location=device)\n",
      "Validation: 100%|██████████| 4/4 [00:01<00:00,  2.38it/s, loss=0.865]"
     ]
    },
    {
     "name": "stdout",
     "output_type": "stream",
     "text": [
      "Validation Dice Score\n",
      "Class 0: 0.6570, Class 1: 0.5333, Class 2: 0.0029, Class 3: 0.2370, \n",
      "Class 4: 0.6549, Class 5: 0.4790, Class 6: 0.4255, \n",
      "Validation F-beta Score\n",
      "Class 0: 0.5075, Class 1: 0.6470, Class 2: 0.0233, Class 3: 0.2303, \n",
      "Class 4: 0.6252, Class 5: 0.5145, Class 6: 0.4720, \n",
      "Overall Mean Dice Score: 0.4659\n",
      "Overall Mean F-beta Score: 0.4978\n",
      "\n"
     ]
    },
    {
     "name": "stderr",
     "output_type": "stream",
     "text": [
      "\n"
     ]
    }
   ],
   "source": [
    "from monai.data import DataLoader, Dataset, CacheDataset\n",
    "from monai.transforms import (\n",
    "    Compose, LoadImaged, EnsureChannelFirstd, NormalizeIntensityd,\n",
    "    Orientationd, CropForegroundd, GaussianSmoothd, ScaleIntensityd,\n",
    "    RandSpatialCropd, RandRotate90d, RandFlipd, RandGaussianNoised,\n",
    "    ToTensord, RandCropByLabelClassesd\n",
    ")\n",
    "from monai.metrics import DiceMetric\n",
    "from monai.networks.nets import UNETR, SwinUNETR\n",
    "from monai.losses import TverskyLoss\n",
    "import torch\n",
    "import numpy as np\n",
    "from tqdm import tqdm\n",
    "import wandb\n",
    "from src.dataset.dataset import make_val_dataloader\n",
    "\n",
    "val_img_dir = \"./datasets/val/images\"\n",
    "val_label_dir = \"./datasets/val/labels\"\n",
    "img_depth = 96\n",
    "img_size = 96  # Match your patch size\n",
    "n_classes = 7\n",
    "batch_size = 2 # 13.8GB GPU memory required for 128x128 img size\n",
    "num_samples = batch_size # 한 이미지에서 뽑을 샘플 수\n",
    "loader_batch = 1\n",
    "lamda = 0.52\n",
    "\n",
    "wandb.init(\n",
    "    project='czii_SwinUnetR_val',  # 프로젝트 이름 설정\n",
    "    name='SwinUNETR96_96_lr0.001_lambda0.52_batch2',         # 실행(run) 이름 설정\n",
    "    config={\n",
    "        'learning_rate': 0.001,\n",
    "        'batch_size': batch_size,\n",
    "        'lambda': lamda,\n",
    "        'img_size': img_size,\n",
    "        'device': 'cuda',\n",
    "        \"checkpoint_dir\": \"./model_checkpoints/SwinUNETR96_96_lr0.001_lambda0.52_batch2\",\n",
    "        \n",
    "    }\n",
    ")\n",
    "\n",
    "non_random_transforms = Compose([\n",
    "    EnsureChannelFirstd(keys=[\"image\", \"label\"], channel_dim=\"no_channel\"),\n",
    "    NormalizeIntensityd(keys=\"image\"),\n",
    "    Orientationd(keys=[\"image\", \"label\"], axcodes=\"RAS\"),\n",
    "    # GaussianSmoothd(\n",
    "    #     keys=[\"image\"],      # 변환을 적용할 키\n",
    "    #     sigma=[1.0, 1.0, 1.0]  # 각 축(x, y, z)의 시그마 값\n",
    "    #     ),\n",
    "])\n",
    "random_transforms = Compose([\n",
    "    RandCropByLabelClassesd(\n",
    "        keys=[\"image\", \"label\"],\n",
    "        label_key=\"label\",\n",
    "        spatial_size=[img_depth, img_size, img_size],\n",
    "        num_classes=n_classes,\n",
    "        num_samples=num_samples, \n",
    "        ratios=ratios_list,\n",
    "    ),\n",
    "    RandRotate90d(keys=[\"image\", \"label\"], prob=0.5, spatial_axes=[1, 2]),\n",
    "    RandFlipd(keys=[\"image\", \"label\"], prob=0.5, spatial_axis=0),\n",
    "])\n",
    "\n",
    "val_loader = make_val_dataloader(\n",
    "    val_img_dir, \n",
    "    val_label_dir, \n",
    "    non_random_transforms = non_random_transforms, \n",
    "    random_transforms = random_transforms, \n",
    "    batch_size = loader_batch,\n",
    "    num_workers=0\n",
    ")\n",
    "criterion = TverskyLoss(\n",
    "    alpha= 1 - lamda,  # FP에 대한 가중치\n",
    "    beta=lamda,       # FN에 대한 가중치\n",
    "    include_background=False,  # 배경 클래스 제외\n",
    "    softmax=True\n",
    ")\n",
    "    \n",
    "    \n",
    "from monai.metrics import DiceMetric\n",
    "\n",
    "img_size = 96\n",
    "img_depth = img_size\n",
    "n_classes = 7 \n",
    "\n",
    "device = torch.device(\"cuda\" if torch.cuda.is_available() else \"cpu\")\n",
    "pretrain_path = \"./model_checkpoints/SwinUNETR96_96_lr0.001_lambda0.52_batch2/best_model.pt\"\n",
    "model = SwinUNETR(\n",
    "    img_size=(img_depth, img_size, img_size),\n",
    "    in_channels=1,\n",
    "    out_channels=n_classes,\n",
    "    feature_size=48,\n",
    "    use_checkpoint=True,\n",
    ").to(device)\n",
    "# Pretrained weights 불러오기\n",
    "checkpoint = torch.load(pretrain_path, map_location=device)\n",
    "model.load_state_dict(checkpoint['model_state_dict'])\n",
    "\n",
    "val_loss, overall_mean_fbeta_score = validate_one_epoch(\n",
    "    model=model, \n",
    "    val_loader=val_loader, \n",
    "    criterion=criterion, \n",
    "    device=device, \n",
    "    epoch=0, \n",
    "    calculate_dice_interval=1\n",
    ")"
   ]
  },
  {
   "cell_type": "markdown",
   "metadata": {},
   "source": [
    "# Inference"
   ]
  },
  {
   "cell_type": "code",
   "execution_count": null,
   "metadata": {},
   "outputs": [],
   "source": [
    "from src.dataset.preprocessing import Preprocessor"
   ]
  },
  {
   "cell_type": "code",
   "execution_count": null,
   "metadata": {},
   "outputs": [
    {
     "name": "stdout",
     "output_type": "stream",
     "text": [
      "Done.\n"
     ]
    }
   ],
   "source": [
    "from monai.inferers import sliding_window_inference\n",
    "from monai.transforms import Compose, EnsureChannelFirstd, NormalizeIntensityd, Orientationd, GaussianSmoothd\n",
    "from monai.data import DataLoader, Dataset, CacheDataset\n",
    "from monai.networks.nets import SwinUNETR\n",
    "from pathlib import Path\n",
    "import numpy as np\n",
    "import copick\n",
    "\n",
    "import torch\n",
    "print(\"Done.\")"
   ]
  },
  {
   "cell_type": "code",
   "execution_count": null,
   "metadata": {},
   "outputs": [
    {
     "name": "stdout",
     "output_type": "stream",
     "text": [
      "Config file written to ./kaggle/working/copick.config\n",
      "file length: 7\n"
     ]
    }
   ],
   "source": [
    "config_blob = \"\"\"{\n",
    "    \"name\": \"czii_cryoet_mlchallenge_2024\",\n",
    "    \"description\": \"2024 CZII CryoET ML Challenge training data.\",\n",
    "    \"version\": \"1.0.0\",\n",
    "\n",
    "    \"pickable_objects\": [\n",
    "        {\n",
    "            \"name\": \"apo-ferritin\",\n",
    "            \"is_particle\": true,\n",
    "            \"pdb_id\": \"4V1W\",\n",
    "            \"label\": 1,\n",
    "            \"color\": [  0, 117, 220, 128],\n",
    "            \"radius\": 60,\n",
    "            \"map_threshold\": 0.0418\n",
    "        },\n",
    "        {\n",
    "          \"name\" : \"beta-amylase\",\n",
    "            \"is_particle\": true,\n",
    "            \"pdb_id\": \"8ZRZ\",\n",
    "            \"label\": 2,\n",
    "            \"color\": [255, 255, 255, 128],\n",
    "            \"radius\": 90,\n",
    "            \"map_threshold\": 0.0578  \n",
    "        },\n",
    "        {\n",
    "            \"name\": \"beta-galactosidase\",\n",
    "            \"is_particle\": true,\n",
    "            \"pdb_id\": \"6X1Q\",\n",
    "            \"label\": 3,\n",
    "            \"color\": [ 76,   0,  92, 128],\n",
    "            \"radius\": 90,\n",
    "            \"map_threshold\": 0.0578\n",
    "        },\n",
    "        {\n",
    "            \"name\": \"ribosome\",\n",
    "            \"is_particle\": true,\n",
    "            \"pdb_id\": \"6EK0\",\n",
    "            \"label\": 4,\n",
    "            \"color\": [  0,  92,  49, 128],\n",
    "            \"radius\": 150,\n",
    "            \"map_threshold\": 0.0374\n",
    "        },\n",
    "        {\n",
    "            \"name\": \"thyroglobulin\",\n",
    "            \"is_particle\": true,\n",
    "            \"pdb_id\": \"6SCJ\",\n",
    "            \"label\": 5,\n",
    "            \"color\": [ 43, 206,  72, 128],\n",
    "            \"radius\": 130,\n",
    "            \"map_threshold\": 0.0278\n",
    "        },\n",
    "        {\n",
    "            \"name\": \"virus-like-particle\",\n",
    "            \"is_particle\": true,\n",
    "            \"label\": 6,\n",
    "            \"color\": [255, 204, 153, 128],\n",
    "            \"radius\": 135,\n",
    "            \"map_threshold\": 0.201\n",
    "        },\n",
    "        {\n",
    "            \"name\": \"membrane\",\n",
    "            \"is_particle\": false,\n",
    "            \"label\": 8,\n",
    "            \"color\": [100, 100, 100, 128]\n",
    "        },\n",
    "        {\n",
    "            \"name\": \"background\",\n",
    "            \"is_particle\": false,\n",
    "            \"label\": 9,\n",
    "            \"color\": [10, 150, 200, 128]\n",
    "        }\n",
    "    ],\n",
    "\n",
    "    \"overlay_root\": \"./kaggle/working/overlay\",\n",
    "\n",
    "    \"overlay_fs_args\": {\n",
    "        \"auto_mkdir\": true\n",
    "    },\n",
    "\n",
    "    \"static_root\": \"./kaggle/input/czii-cryo-et-object-identification/test/static\"\n",
    "}\"\"\"\n",
    "\n",
    "copick_config_path = \"./kaggle/working/copick.config\"\n",
    "preprocessor = Preprocessor(config_blob,copick_config_path=copick_config_path)\n",
    "non_random_transforms = Compose([\n",
    "    EnsureChannelFirstd(keys=[\"image\"], channel_dim=\"no_channel\"),\n",
    "    NormalizeIntensityd(keys=\"image\"),\n",
    "    Orientationd(keys=[\"image\"], axcodes=\"RAS\"),\n",
    "    GaussianSmoothd(\n",
    "        keys=[\"image\"],      # 변환을 적용할 키\n",
    "        sigma=[1.0, 1.0, 1.0]  # 각 축(x, y, z)의 시그마 값\n",
    "        ),\n",
    "    ])"
   ]
  },
  {
   "cell_type": "code",
   "execution_count": null,
   "metadata": {},
   "outputs": [
    {
     "name": "stderr",
     "output_type": "stream",
     "text": [
      "c:\\ProgramData\\anaconda3\\envs\\ship\\Lib\\site-packages\\monai\\utils\\deprecate_utils.py:221: FutureWarning: monai.networks.nets.swin_unetr SwinUNETR.__init__:img_size: Argument `img_size` has been deprecated since version 1.3. It will be removed in version 1.5. The img_size argument is not required anymore and checks on the input size are run during forward().\n",
      "  warn_deprecated(argname, msg, warning_category)\n",
      "C:\\Users\\Seungwoo\\AppData\\Local\\Temp\\ipykernel_6248\\2937359115.py:15: FutureWarning: You are using `torch.load` with `weights_only=False` (the current default value), which uses the default pickle module implicitly. It is possible to construct malicious pickle data which will execute arbitrary code during unpickling (See https://github.com/pytorch/pytorch/blob/main/SECURITY.md#untrusted-models for more details). In a future release, the default value for `weights_only` will be flipped to `True`. This limits the functions that could be executed during unpickling. Arbitrary objects will no longer be allowed to be loaded via this mode unless they are explicitly allowlisted by the user via `torch.serialization.add_safe_globals`. We recommend you start setting `weights_only=True` for any use case where you don't have full control of the loaded file. Please open an issue on GitHub for any issues related to this experimental feature.\n",
      "  checkpoint = torch.load(pretrain_path, map_location=device)\n"
     ]
    },
    {
     "data": {
      "text/plain": [
       "<All keys matched successfully>"
      ]
     },
     "execution_count": 15,
     "metadata": {},
     "output_type": "execute_result"
    }
   ],
   "source": [
    "img_size = 96\n",
    "img_depth = img_size\n",
    "n_classes = 7 \n",
    "\n",
    "device = torch.device(\"cuda\" if torch.cuda.is_available() else \"cpu\")\n",
    "pretrain_path = \"./model_checkpoints/SwinUNETR96_96_lr0.001_lambda0.52_batch2/best_model.pt\"\n",
    "model = SwinUNETR(\n",
    "    img_size=(img_depth, img_size, img_size),\n",
    "    in_channels=1,\n",
    "    out_channels=n_classes,\n",
    "    feature_size=48,\n",
    "    use_checkpoint=True,\n",
    ").to(device)\n",
    "# Pretrained weights 불러오기\n",
    "checkpoint = torch.load(pretrain_path, map_location=device)\n",
    "model.load_state_dict(checkpoint['model_state_dict'])\n"
   ]
  },
  {
   "cell_type": "code",
   "execution_count": null,
   "metadata": {},
   "outputs": [
    {
     "name": "stderr",
     "output_type": "stream",
     "text": [
      "Validation:   0%|          | 0/4 [00:03<?, ?it/s, loss=0.764]\n"
     ]
    },
    {
     "ename": "ZeroDivisionError",
     "evalue": "integer modulo by zero",
     "output_type": "error",
     "traceback": [
      "\u001b[1;31m---------------------------------------------------------------------------\u001b[0m",
      "\u001b[1;31mZeroDivisionError\u001b[0m                         Traceback (most recent call last)",
      "Cell \u001b[1;32mIn[16], line 1\u001b[0m\n\u001b[1;32m----> 1\u001b[0m val_loss \u001b[38;5;241m=\u001b[39m \u001b[43mvalidate_one_epoch\u001b[49m\u001b[43m(\u001b[49m\n\u001b[0;32m      2\u001b[0m \u001b[43m            \u001b[49m\u001b[43mmodel\u001b[49m\u001b[38;5;241;43m=\u001b[39;49m\u001b[43mmodel\u001b[49m\u001b[43m,\u001b[49m\u001b[43m \u001b[49m\n\u001b[0;32m      3\u001b[0m \u001b[43m            \u001b[49m\u001b[43mval_loader\u001b[49m\u001b[38;5;241;43m=\u001b[39;49m\u001b[43mval_loader\u001b[49m\u001b[43m,\u001b[49m\u001b[43m \u001b[49m\n\u001b[0;32m      4\u001b[0m \u001b[43m            \u001b[49m\u001b[43mcriterion\u001b[49m\u001b[38;5;241;43m=\u001b[39;49m\u001b[43mcriterion\u001b[49m\u001b[43m,\u001b[49m\u001b[43m \u001b[49m\n\u001b[0;32m      5\u001b[0m \u001b[43m            \u001b[49m\u001b[43mdevice\u001b[49m\u001b[38;5;241;43m=\u001b[39;49m\u001b[43mdevice\u001b[49m\u001b[43m,\u001b[49m\u001b[43m \u001b[49m\n\u001b[0;32m      6\u001b[0m \u001b[43m            \u001b[49m\u001b[43mepoch\u001b[49m\u001b[38;5;241;43m=\u001b[39;49m\u001b[38;5;241;43m1\u001b[39;49m\u001b[43m,\u001b[49m\u001b[43m \u001b[49m\n\u001b[0;32m      7\u001b[0m \u001b[43m            \u001b[49m\u001b[43mcalculate_dice_interval\u001b[49m\u001b[38;5;241;43m=\u001b[39;49m\u001b[38;5;241;43m0\u001b[39;49m\n\u001b[0;32m      8\u001b[0m \u001b[43m        \u001b[49m\u001b[43m)\u001b[49m\n",
      "Cell \u001b[1;32mIn[11], line 64\u001b[0m, in \u001b[0;36mvalidate_one_epoch\u001b[1;34m(model, val_loader, criterion, device, epoch, calculate_dice_interval)\u001b[0m\n\u001b[0;32m     61\u001b[0m pbar\u001b[38;5;241m.\u001b[39mset_postfix(loss\u001b[38;5;241m=\u001b[39mloss\u001b[38;5;241m.\u001b[39mitem())\n\u001b[0;32m     63\u001b[0m \u001b[38;5;66;03m# 각 클래스별 Dice 점수 계산\u001b[39;00m\n\u001b[1;32m---> 64\u001b[0m \u001b[38;5;28;01mif\u001b[39;00m \u001b[43mepoch\u001b[49m\u001b[43m \u001b[49m\u001b[38;5;241;43m%\u001b[39;49m\u001b[43m \u001b[49m\u001b[43mcalculate_dice_interval\u001b[49m \u001b[38;5;241m==\u001b[39m \u001b[38;5;241m0\u001b[39m:\n\u001b[0;32m     65\u001b[0m     \u001b[38;5;28;01mfor\u001b[39;00m i \u001b[38;5;129;01min\u001b[39;00m \u001b[38;5;28mrange\u001b[39m(n_classes):\n\u001b[0;32m     66\u001b[0m         pred_i \u001b[38;5;241m=\u001b[39m (preds \u001b[38;5;241m==\u001b[39m i)\n",
      "\u001b[1;31mZeroDivisionError\u001b[0m: integer modulo by zero"
     ]
    }
   ],
   "source": [
    "val_loss = validate_one_epoch(\n",
    "            model=model, \n",
    "            val_loader=val_loader, \n",
    "            criterion=criterion, \n",
    "            device=device, \n",
    "            epoch=1, \n",
    "            calculate_dice_interval=0\n",
    "        )"
   ]
  },
  {
   "cell_type": "code",
   "execution_count": null,
   "metadata": {},
   "outputs": [
    {
     "name": "stdout",
     "output_type": "stream",
     "text": [
      "Processing volume 1/7\n"
     ]
    },
    {
     "name": "stderr",
     "output_type": "stream",
     "text": [
      "Loading dataset: 100%|██████████| 1/1 [00:01<00:00,  1.94s/it]\n"
     ]
    },
    {
     "name": "stdout",
     "output_type": "stream",
     "text": [
      "Processing volume 2/7\n"
     ]
    },
    {
     "name": "stderr",
     "output_type": "stream",
     "text": [
      "Loading dataset: 100%|██████████| 1/1 [00:01<00:00,  1.89s/it]\n"
     ]
    },
    {
     "name": "stdout",
     "output_type": "stream",
     "text": [
      "Processing volume 3/7\n"
     ]
    },
    {
     "name": "stderr",
     "output_type": "stream",
     "text": [
      "Loading dataset: 100%|██████████| 1/1 [00:01<00:00,  1.79s/it]\n"
     ]
    },
    {
     "name": "stdout",
     "output_type": "stream",
     "text": [
      "Submission saved to: submission.csv\n"
     ]
    }
   ],
   "source": [
    "import torch\n",
    "import numpy as np\n",
    "from scipy.ndimage import label, center_of_mass\n",
    "import pandas as pd\n",
    "from tqdm import tqdm\n",
    "from monai.data import CacheDataset, DataLoader\n",
    "from monai.transforms import Compose, NormalizeIntensity\n",
    "import cc3d\n",
    "\n",
    "def dict_to_df(coord_dict, experiment_name):\n",
    "    all_coords = []\n",
    "    all_labels = []\n",
    "    \n",
    "    for label, coords in coord_dict.items():\n",
    "        all_coords.append(coords)\n",
    "        all_labels.extend([label] * len(coords))\n",
    "    \n",
    "    all_coords = np.vstack(all_coords)\n",
    "    df = pd.DataFrame({\n",
    "        'experiment': experiment_name,\n",
    "        'particle_type': all_labels,\n",
    "        'x': all_coords[:, 0],\n",
    "        'y': all_coords[:, 1],\n",
    "        'z': all_coords[:, 2]\n",
    "    })\n",
    "    return df\n",
    "\n",
    "id_to_name = {1: \"apo-ferritin\", \n",
    "              2: \"beta-amylase\",\n",
    "              3: \"beta-galactosidase\", \n",
    "              4: \"ribosome\", \n",
    "              5: \"thyroglobulin\", \n",
    "              6: \"virus-like-particle\"}\n",
    "BLOB_THRESHOLD = 200\n",
    "CERTAINTY_THRESHOLD = 0.05\n",
    "\n",
    "classes = [1, 2, 3, 4, 5, 6]\n",
    "\n",
    "model.eval()\n",
    "with torch.no_grad():\n",
    "    location_dfs = []  # DataFrame 리스트로 초기화\n",
    "    \n",
    "    for vol_idx, run in enumerate(preprocessor.root.runs):\n",
    "        print(f\"Processing volume {vol_idx + 1}/{len(preprocessor.root.runs)}\")\n",
    "        tomogram = preprocessor.processing(run=run, task=\"task\")\n",
    "        task_files = [{\"image\": tomogram}]\n",
    "        task_ds = CacheDataset(data=task_files, transform=non_random_transforms)\n",
    "        task_loader = DataLoader(task_ds, batch_size=1, num_workers=0)\n",
    "        \n",
    "        for task_data in task_loader:\n",
    "            images = task_data['image'].to(\"cuda\")\n",
    "            outputs = sliding_window_inference(\n",
    "                inputs=images,\n",
    "                roi_size=(96, 96, 96),  # ROI 크기\n",
    "                sw_batch_size=4,\n",
    "                predictor=model.forward,\n",
    "                overlap=0.1,\n",
    "                sw_device=\"cuda\",\n",
    "                device=\"cpu\",\n",
    "                buffer_steps=1,\n",
    "                buffer_dim=-1\n",
    "            )\n",
    "            outputs = outputs.argmax(dim=1).squeeze(0).cpu().numpy()  # 클래스 채널 예측\n",
    "            location = {}  # 좌표 저장용 딕셔너리\n",
    "            for c in classes:\n",
    "                cc = cc3d.connected_components(outputs == c)  # cc3d 라벨링\n",
    "                stats = cc3d.statistics(cc)\n",
    "                zyx = stats['centroids'][1:] * 10.012444  # 스케일 변환\n",
    "                zyx_large = zyx[stats['voxel_counts'][1:] > BLOB_THRESHOLD]  # 크기 필터링\n",
    "                xyz = np.ascontiguousarray(zyx_large[:, ::-1])  # 좌표 스왑 (z, y, x -> x, y, z)\n",
    "\n",
    "                location[id_to_name[c]] = xyz  # ID 이름 매칭 저장\n",
    "\n",
    "            # 데이터프레임 변환\n",
    "            df = dict_to_df(location, run.name)\n",
    "            location_dfs.append(df)  # 리스트에 추가\n",
    "        \n",
    "        # if vol_idx == 2:\n",
    "        #     break\n",
    "    \n",
    "    # DataFrame 병합\n",
    "    final_df = pd.concat(location_dfs, ignore_index=True)\n",
    "    \n",
    "    # ID 추가 및 CSV 저장\n",
    "    final_df.insert(loc=0, column='id', value=np.arange(len(final_df)))\n",
    "    final_df.to_csv(\"submission.csv\", index=False)\n",
    "    print(\"Submission saved to: submission.csv\")\n"
   ]
  }
 ],
 "metadata": {
  "kernelspec": {
   "display_name": "czii",
   "language": "python",
   "name": "python3"
  },
  "language_info": {
   "codemirror_mode": {
    "name": "ipython",
    "version": 3
   },
   "file_extension": ".py",
   "mimetype": "text/x-python",
   "name": "python",
   "nbconvert_exporter": "python",
   "pygments_lexer": "ipython3",
   "version": "3.12.7"
  }
 },
 "nbformat": 4,
 "nbformat_minor": 2
}
