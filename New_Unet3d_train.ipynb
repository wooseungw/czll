{
 "cells": [
  {
   "cell_type": "code",
   "execution_count": 1,
   "metadata": {},
   "outputs": [
    {
     "name": "stderr",
     "output_type": "stream",
     "text": [
      "c:\\ProgramData\\anaconda3\\envs\\czii\\Lib\\site-packages\\tqdm\\auto.py:21: TqdmWarning: IProgress not found. Please update jupyter and ipywidgets. See https://ipywidgets.readthedocs.io/en/stable/user_install.html\n",
      "  from .autonotebook import tqdm as notebook_tqdm\n"
     ]
    },
    {
     "name": "stdout",
     "output_type": "stream",
     "text": [
      "MONAI version: 1.4.0\n",
      "Numpy version: 1.26.3\n",
      "Pytorch version: 2.5.1+cu124\n",
      "MONAI flags: HAS_EXT = False, USE_COMPILED = False, USE_META_DICT = False\n",
      "MONAI rev id: 46a5272196a6c2590ca2589029eed8e4d56ff008\n",
      "MONAI __file__: c:\\ProgramData\\anaconda3\\envs\\czii\\Lib\\site-packages\\monai\\__init__.py\n",
      "\n",
      "Optional dependencies:\n",
      "Pytorch Ignite version: NOT INSTALLED or UNKNOWN VERSION.\n",
      "ITK version: NOT INSTALLED or UNKNOWN VERSION.\n",
      "Nibabel version: 5.3.2\n",
      "scikit-image version: 0.25.0\n",
      "scipy version: 1.15.1\n",
      "Pillow version: 10.2.0\n",
      "Tensorboard version: NOT INSTALLED or UNKNOWN VERSION.\n",
      "gdown version: NOT INSTALLED or UNKNOWN VERSION.\n",
      "TorchVision version: 0.20.1+cu124\n",
      "tqdm version: 4.67.1\n",
      "lmdb version: NOT INSTALLED or UNKNOWN VERSION.\n",
      "psutil version: 6.1.1\n",
      "pandas version: 2.2.3\n",
      "einops version: 0.8.0\n",
      "transformers version: NOT INSTALLED or UNKNOWN VERSION.\n",
      "mlflow version: NOT INSTALLED or UNKNOWN VERSION.\n",
      "pynrrd version: NOT INSTALLED or UNKNOWN VERSION.\n",
      "clearml version: NOT INSTALLED or UNKNOWN VERSION.\n",
      "\n",
      "For details about installing the optional dependencies, please visit:\n",
      "    https://docs.monai.io/en/latest/installation.html#installing-the-recommended-dependencies\n",
      "\n"
     ]
    }
   ],
   "source": [
    "import os\n",
    "import shutil\n",
    "import tempfile\n",
    "\n",
    "import matplotlib.pyplot as plt\n",
    "from tqdm import tqdm\n",
    "\n",
    "import random\n",
    "import numpy as np\n",
    "import torch\n",
    "torch.backends.cudnn.benchmark = True\n",
    "\n",
    "from monai.losses import DiceCELoss\n",
    "from monai.inferers import sliding_window_inference\n",
    "from monai.transforms import (\n",
    "    AsDiscrete,\n",
    "    EnsureChannelFirstd,\n",
    "    Compose,\n",
    "    CropForegroundd,\n",
    "    LoadImaged,\n",
    "    Orientationd,\n",
    "    RandFlipd,\n",
    "    RandCropByPosNegLabeld,\n",
    "    RandShiftIntensityd,\n",
    "    ScaleIntensityRanged,\n",
    "    Spacingd,\n",
    "    RandRotate90d,\n",
    ")\n",
    "from monai.networks.layers.factories import Act, Norm\n",
    "from monai.config import print_config\n",
    "from monai.metrics import DiceMetric\n",
    "from monai.networks.nets import UNet\n",
    "\n",
    "from src.models import UNet_CBAM\n",
    "\n",
    "from monai.data import (\n",
    "    DataLoader,\n",
    "    CacheDataset,\n",
    "    load_decathlon_datalist,\n",
    "    decollate_batch,\n",
    ")\n",
    "\n",
    "# 랜덤 시드 고정\n",
    "def set_seed(seed):\n",
    "    random.seed(seed)\n",
    "    np.random.seed(seed)\n",
    "    torch.manual_seed(seed)\n",
    "    if torch.cuda.is_available():\n",
    "        torch.cuda.manual_seed_all(seed)\n",
    "\n",
    "set_seed(42)\n",
    "\n",
    "from src.models import UNet_CBAM\n",
    "print_config()\n",
    "\n",
    "\n",
    "import torch\n",
    "import torch.nn as nn\n",
    "import torch.nn.functional as F\n",
    "from monai.losses import TverskyLoss\n",
    "\n",
    "# DynamicTverskyLoss 클래스 정의\n",
    "class DynamicTverskyLoss(TverskyLoss):\n",
    "    def __init__(self, lamda=0.5, **kwargs):\n",
    "        super().__init__(alpha=1 - lamda, beta=lamda, **kwargs)\n",
    "        self.lamda = lamda\n",
    "\n",
    "    def set_lamda(self, lamda):\n",
    "        self.lamda = lamda\n",
    "        self.alpha = 1 - lamda\n",
    "        self.beta = lamda\n",
    "\n",
    "\n",
    "# CombinedCETverskyLoss 클래스\n",
    "class CombinedCETverskyLoss(nn.Module):\n",
    "    def __init__(self, lamda=0.5, ce_weight=0.5, n_classes=7, class_weights=None, ignore_index=-1, **kwargs):\n",
    "        super().__init__()\n",
    "        self.n_classes = n_classes\n",
    "        self.ce_weight = ce_weight\n",
    "        self.ignore_index = ignore_index\n",
    "        \n",
    "        # CrossEntropyLoss에서 클래스별 가중치를 적용\n",
    "        self.ce = nn.CrossEntropyLoss(weight=class_weights, ignore_index=self.ignore_index, reduction='mean', **kwargs)\n",
    "        \n",
    "        # TverskyLoss\n",
    "        self.tversky = DynamicTverskyLoss(lamda=lamda, reduction=\"mean\",softmax=True, **kwargs)\n",
    "\n",
    "    def forward(self, inputs, targets):\n",
    "        \n",
    "        # CrossEntropyLoss는 정수형 클래스 인덱스를 사용\n",
    "        ce_loss = self.ce(inputs, targets)\n",
    "\n",
    "        # TverskyLoss 계산 (원핫 인코딩된 라벨을 사용)\n",
    "        \n",
    "        tversky_loss = self.tversky(inputs, targets)\n",
    "\n",
    "        # 최종 손실 계산\n",
    "        final_loss = self.ce_weight * ce_loss + (1 - self.ce_weight) * tversky_loss\n",
    "        return final_loss\n",
    "\n",
    "    def set_lamda(self, lamda):\n",
    "        self.tversky.set_lamda(lamda)\n",
    "\n",
    "    @property\n",
    "    def lamda(self):\n",
    "        return self.tversky.lamda\n"
   ]
  },
  {
   "cell_type": "code",
   "execution_count": 2,
   "metadata": {},
   "outputs": [
    {
     "name": "stdout",
     "output_type": "stream",
     "text": [
      "클래스 비율: {0: 0.0, 1: 0.16393442622950818, 2: 0.01639344262295082, 3: 0.2459016393442623, 4: 0.16393442622950818, 5: 0.2459016393442623, 6: 0.16393442622950818}\n",
      "최종 합계: 1.0\n",
      "클래스 비율 리스트: [0.0, 0.16393442622950818, 0.01639344262295082, 0.2459016393442623, 0.16393442622950818, 0.2459016393442623, 0.16393442622950818]\n"
     ]
    }
   ],
   "source": [
    "class_info = {\n",
    "    0: {\"name\": \"background\", \"weight\": 0},  # weight 없음\n",
    "    1: {\"name\": \"apo-ferritin\", \"weight\": 1000},\n",
    "    2: {\"name\": \"beta-amylase\", \"weight\": 100}, # 4130\n",
    "    3: {\"name\": \"beta-galactosidase\", \"weight\": 1500}, #3080\n",
    "    4: {\"name\": \"ribosome\", \"weight\": 1000},\n",
    "    5: {\"name\": \"thyroglobulin\", \"weight\": 1500},\n",
    "    6: {\"name\": \"virus-like-particle\", \"weight\": 1000},\n",
    "}\n",
    "\n",
    "# 가중치에 비례한 비율 계산\n",
    "raw_ratios = {\n",
    "    k: (v[\"weight\"] if v[\"weight\"] is not None else 0.01)  # 가중치 비례, None일 경우 기본값a\n",
    "    for k, v in class_info.items()\n",
    "}\n",
    "total = sum(raw_ratios.values())\n",
    "ratios = {k: v / total for k, v in raw_ratios.items()}\n",
    "\n",
    "# 최종 합계가 1인지 확인\n",
    "final_total = sum(ratios.values())\n",
    "print(\"클래스 비율:\", ratios)\n",
    "print(\"최종 합계:\", final_total)\n",
    "\n",
    "# 비율을 리스트로 변환\n",
    "ratios_list = [ratios[k] for k in sorted(ratios.keys())]\n",
    "print(\"클래스 비율 리스트:\", ratios_list)"
   ]
  },
  {
   "cell_type": "markdown",
   "metadata": {},
   "source": [
    "# 모델 선언"
   ]
  },
  {
   "cell_type": "code",
   "execution_count": 3,
   "metadata": {},
   "outputs": [],
   "source": [
    "from __future__ import annotations\n",
    "\n",
    "import warnings\n",
    "from collections.abc import Sequence\n",
    "\n",
    "# 불필요한 import 제거\n",
    "# from monai.networks.blocks.convolutions import Convolution, ResidualUnit\n",
    "# from monai.networks.layers.simplelayers import SkipConnection\n",
    "from monai.networks.layers.factories import Act, Norm\n",
    "\n",
    "from src.models.unet_block import Encoder, Decoder, get_conv_layer\n",
    "from src.models.cbam import CBAM3D\n",
    "\n",
    "import torch\n",
    "import torch.nn as nn\n",
    "import torch.nn.functional as F\n",
    "\n",
    "import torch\n",
    "import torch.nn as nn\n",
    "\n",
    "class LayerNorm3d(nn.Module):\n",
    "    \"\"\"\n",
    "    3D 입력 (N, C, D, H, W)에 대해 layer normalization을 수행하는 모듈입니다.\n",
    "    \n",
    "    정규화는 각 배치 샘플의 모든 채널 및 공간 차원에 대해 진행되며,\n",
    "    공식은 다음과 같습니다.\n",
    "    \n",
    "        y = (x - μ) / sqrt(σ^2 + ε) * γ + β\n",
    "        \n",
    "    여기서,\n",
    "        - μ: 입력 x의 (C, D, H, W) 차원에 대한 평균\n",
    "        - σ^2: 입력 x의 (C, D, H, W) 차원에 대한 분산 (비편향 추정)\n",
    "        - ε: 수치 안정성을 위한 작은 상수 (default: 1e-5)\n",
    "        - γ, β: 학습 가능한 scale과 shift 파라미터 (elementwise_affine=True인 경우)\n",
    "        \n",
    "    Args:\n",
    "        num_channels (int): 입력 텐서의 채널 수. γ와 β의 크기를 결정합니다.\n",
    "        eps (float): 분산 계산 시 분모 안정화를 위한 상수. (default: 1e-5)\n",
    "        elementwise_affine (bool): True이면 γ와 β를 학습 가능한 파라미터로 사용합니다. (default: True)\n",
    "    \"\"\"\n",
    "    def __init__(self, num_channels, eps=1e-5, elementwise_affine=True):\n",
    "        super(LayerNorm3d, self).__init__()\n",
    "        self.eps = eps\n",
    "        self.elementwise_affine = elementwise_affine\n",
    "        \n",
    "        if self.elementwise_affine:\n",
    "            # γ와 β는 채널마다 다르게 적용되도록 (1, C, 1, 1, 1) 크기로 초기화합니다.\n",
    "            self.weight = nn.Parameter(torch.ones(1, num_channels, 1, 1, 1))\n",
    "            self.bias = nn.Parameter(torch.zeros(1, num_channels, 1, 1, 1))\n",
    "        else:\n",
    "            self.register_parameter('weight', None)\n",
    "            self.register_parameter('bias', None)\n",
    "    \n",
    "    def forward(self, x):\n",
    "        \"\"\"\n",
    "        x: 입력 텐서, shape는 (N, C, D, H, W)로 가정합니다.\n",
    "        \"\"\"\n",
    "        # 배치 차원을 제외한 모든 차원(C, D, H, W)에 대해 평균과 분산 계산\n",
    "        mean = x.mean(dim=[1, 2, 3, 4], keepdim=True)\n",
    "        var = x.var(dim=[1, 2, 3, 4], keepdim=True, unbiased=False)\n",
    "        \n",
    "        # 정규화 수행\n",
    "        x_norm = (x - mean) / torch.sqrt(var + self.eps)\n",
    "        \n",
    "        # elementwise_affine가 True이면 γ와 β를 곱해줍니다.\n",
    "        if self.elementwise_affine:\n",
    "            x_norm = x_norm * self.weight + self.bias\n",
    "        \n",
    "        return x_norm\n",
    "\n",
    "\n",
    "    \n",
    "from collections.abc import Sequence\n",
    "\n",
    "def autopad(kernel_size: int | Sequence[int], padding: int | Sequence[int] | None = None) -> int | list[int]:\n",
    "    \"\"\"\n",
    "    padding이 None일 경우, kernel_size에 기반해 동일한 출력 shape을 만들기 위한 패딩 크기를 반환합니다.\n",
    "    보통 커널 사이즈가 홀수일 때 kernel_size//2로 설정합니다.\n",
    "    \n",
    "    Args:\n",
    "        kernel_size (int 또는 Sequence[int]): 커널 사이즈.\n",
    "        padding (int 또는 Sequence[int] 또는 None): 이미 지정된 패딩 값. None이면 자동으로 계산합니다.\n",
    "        \n",
    "    Returns:\n",
    "        계산된 padding 값.\n",
    "    \"\"\"\n",
    "    if padding is None:\n",
    "        if isinstance(kernel_size, int):\n",
    "            return kernel_size // 2\n",
    "        elif isinstance(kernel_size, Sequence):\n",
    "            return [k // 2 for k in kernel_size]\n",
    "        else:\n",
    "            raise TypeError(\"kernel_size must be int or sequence of ints\")\n",
    "    else:\n",
    "        return padding\n",
    "\n",
    "class Encoder(nn.Module):\n",
    "    def __init__(\n",
    "        self,\n",
    "        in_channels: int,\n",
    "        out_channels: int,\n",
    "        kernel_size: Sequence[int] | int,\n",
    "        stride: int,\n",
    "        dropout: tuple | str | float | None = None,\n",
    "    ):\n",
    "        super().__init__()\n",
    "        self.conv = nn.Conv3d(\n",
    "            in_channels=in_channels,\n",
    "            out_channels = out_channels,\n",
    "            kernel_size= kernel_size,\n",
    "            stride = stride,\n",
    "            padding = autopad(kernel_size)\n",
    "        )\n",
    "        self.norm1 = nn.InstanceNorm3d(out_channels)\n",
    "        self.act1 = nn.PReLU(out_channels)\n",
    "        if dropout is not None:\n",
    "            self.dropout1 = nn.Dropout3d(dropout)\n",
    "    def forward(self, x):\n",
    "        x = self.conv(x)\n",
    "        x = self.norm1(x)\n",
    "        if hasattr(self, \"dropout1\"):\n",
    "            x = self.dropout1(x)\n",
    "        x = self.act1(x)\n",
    "        return x\n",
    "        \n",
    "\n",
    "class c_Decoder(nn.Module):\n",
    "    def __init__(\n",
    "        self,\n",
    "        in_channels: int,\n",
    "        out_channels: int,\n",
    "        kernel_size: Sequence[int] | int,\n",
    "        stride: int,\n",
    "        dropout: tuple | str | float | None = None,\n",
    "        conv_only = False\n",
    "        \n",
    "    ):\n",
    "        super().__init__()\n",
    "        self.conv1 = nn.ConvTranspose3d(\n",
    "            in_channels,\n",
    "            out_channels,\n",
    "            kernel_size=kernel_size,\n",
    "            stride=stride,\n",
    "            padding=autopad(kernel_size),\n",
    "            output_padding=1 if kernel_size // 2 == 1 else 0,\n",
    "            bias=False,\n",
    "        )\n",
    "        if not conv_only:\n",
    "            self.norm1 = nn.InstanceNorm3d(out_channels)\n",
    "            self.act1 = nn.PReLU(out_channels)\n",
    "            if dropout is not None:\n",
    "                self.dropout1 = nn.Dropout3d(dropout)\n",
    "        self.cbam = CBAM3D(channels=out_channels, reduction=8, spatial_kernel_size=3)\n",
    "\n",
    "    def forward(self, x, skip):\n",
    "        x = torch.cat([x, skip], dim=1)\n",
    "        x = self.conv1(x)\n",
    "        \n",
    "        if not hasattr(self, \"norm1\"):  # conv_only인 경우 norm1, act1, dropout1이 없을 것임\n",
    "            pass\n",
    "        else:\n",
    "            x = self.norm1(x)\n",
    "            x = self.act1(x)\n",
    "            if hasattr(self, \"dropout1\"):\n",
    "                x = self.dropout1(x)\n",
    "\n",
    "        return self.cbam(x)  # norm, act 후 CBAM 적용\n",
    "\n"
   ]
  },
  {
   "cell_type": "code",
   "execution_count": 4,
   "metadata": {},
   "outputs": [],
   "source": [
    "class Unet_CBAM_ds(nn.Module):\n",
    "    def __init__(\n",
    "        self,\n",
    "        in_channels: int,\n",
    "        out_channels: int,\n",
    "        channels: Sequence[int],\n",
    "        strides: Sequence[int],\n",
    "        kernel_size: Sequence[int] | int = 3,\n",
    "        up_kernel_size: Sequence[int] | int = 3,\n",
    "\n",
    "        dropout: float = 0.0,\n",
    "        bias: bool = True,\n",
    "        use_supervision: bool = False,\n",
    "\n",
    "    ) -> None:\n",
    "        super().__init__()\n",
    "\n",
    "        if len(channels) < 2:\n",
    "            raise ValueError(\"the length of `channels` should be no less than 2.\")\n",
    "        \n",
    "        # 기존 코드와 동일한 검사\n",
    "        delta = len(strides) - (len(channels) - 1)\n",
    "        if delta < 0:\n",
    "            raise ValueError(\"the length of `strides` should equal `len(channels) - 1`.\")\n",
    "        if delta > 0:\n",
    "            warnings.warn(f\"`len(strides) > len(channels) - 1`, the last {delta} values of strides will not be used.\")\n",
    "        \n",
    "        self.in_channels = in_channels\n",
    "        self.out_channels = out_channels\n",
    "        self.channels = channels\n",
    "        self.strides = strides\n",
    "        self.kernel_size = kernel_size\n",
    "        self.up_kernel_size = up_kernel_size\n",
    "\n",
    "        self.dropout = dropout\n",
    "        self.bias = bias\n",
    "\n",
    "\n",
    "        # ---------------------\n",
    "        # Encoder\n",
    "        # ---------------------\n",
    "        self.encoder1 = Encoder(\n",
    "            in_channels,\n",
    "            channels[0],\n",
    "            kernel_size,\n",
    "            strides[0],\n",
    "            dropout,\n",
    "        )\n",
    "        self.encoder2 = Encoder(\n",
    "            channels[0],\n",
    "            channels[1],\n",
    "            kernel_size,\n",
    "            strides[1],\n",
    "            dropout,\n",
    "        )\n",
    "        self.encoder3 = Encoder(\n",
    "            channels[1],\n",
    "            channels[2],\n",
    "            kernel_size,\n",
    "            strides[2],\n",
    "            dropout,\n",
    "        )\n",
    "        # encoder4는 strides[3]를 사용할 수 있도록 strides에 4개 값을 넣어주거나, 아래처럼 stride=1로 따로 설정 가능\n",
    "        # 여기서는 strides에 4개 값을 넣어준다고 가정함\n",
    "        self.bottleneck = Encoder(\n",
    "            channels[2],\n",
    "            channels[3],\n",
    "            kernel_size,\n",
    "            1, \n",
    "            dropout,\n",
    "        )\n",
    "\n",
    "        # self.cbam = CBAM3D(channels=channels[3], reduction=8, spatial_kernel_size=3)\n",
    "        # ---------------------\n",
    "        # Decoder\n",
    "        # ---------------------\n",
    "        self.decoder3 = c_Decoder(\n",
    "            channels[3] + channels[2],\n",
    "            channels[1],\n",
    "            up_kernel_size,\n",
    "            strides[2],\n",
    "            dropout,\n",
    "        )\n",
    "        self.decoder2 = c_Decoder(\n",
    "            channels[1] + channels[1],\n",
    "            channels[0],\n",
    "            up_kernel_size,\n",
    "            strides[1],\n",
    "            dropout,\n",
    "        )\n",
    "        self.decoder1 = c_Decoder(\n",
    "            channels[0] + channels[0],\n",
    "            out_channels,\n",
    "            up_kernel_size,\n",
    "            strides[0],\n",
    "            conv_only=True,\n",
    "        )\n",
    "        if use_supervision:\n",
    "            self.supervision2 = nn.Conv3d(channels[0], out_channels, kernel_size=1, stride=1, padding=0)\n",
    "            self.supervision3 = nn.Conv3d(channels[1], out_channels, kernel_size=1, stride=1, padding=0)\n",
    "\n",
    "    def forward(self, x: torch.Tensor) -> torch.Tensor:\n",
    "        # Encoder\n",
    "        x1 = self.encoder1(x)\n",
    "        x2 = self.encoder2(x1)\n",
    "        x3 = self.encoder3(x2)\n",
    "        \n",
    "        x = self.bottleneck(x3)\n",
    "\n",
    "        # Decoder: 이전 decoder 출력과 skip connection을 제대로 연결\n",
    "        x = self.decoder3(x, x3)   # bottleneck + encoder3\n",
    "        x = self.decoder2(x, x2)    # decoder3 출력 + encoder2\n",
    "        x = self.decoder1(x, x1)    # decoder2 출력 + encoder1\n",
    "        if hasattr(self, \"supervision2\"):\n",
    "            out2 = self.supervision2(x1)\n",
    "            out2 = F.interpolate(out2, x.shape[2:], mode=\"trilinear\", align_corners=False)\n",
    "            out3 = self.supervision3(x2)\n",
    "            out3 = F.interpolate(out3, x.shape[2:], mode=\"trilinear\", align_corners=False)\n",
    "            return [x, out2, out3]\n",
    "        return x\n",
    "\n",
    "    \n",
    "    \n",
    "# 예제 사용법:\n",
    "# if __name__ == \"__main__\":\n",
    "#     # 임의의 3D 데이터: 배치 크기 2, 채널 4, 깊이 8, 높이 16, 너비 16\n",
    "#     print(\"LayerNorm3d 사용 예제\")\n",
    "#     input_tensor = torch.randn(2, 1, 32, 96, 96)\n",
    "#     layer_norm3d = LayerNorm3d(num_channels=1)\n",
    "#     output = layer_norm3d(input_tensor)\n",
    "#     print(\"입력 텐서 shape:\", input_tensor.shape)\n",
    "#     print(\"출력 텐서 shape:\", output.shape)\n",
    "    \n",
    "#     # Encoder, Decoder, Unet_CBAM_LAYERNORM 사용 예제\n",
    "#     print(\"\\nEncoder, Decoder, Unet_CBAM_LAYERNORM 사용 예제\")\n",
    "#     model = Unet_CBAM_ds(\n",
    "#         in_channels=1,\n",
    "#         out_channels=4,\n",
    "#         channels=[16, 32, 64, 128],\n",
    "#         strides=[2, 2, 2, 2],\n",
    "#         kernel_size=3,\n",
    "#         up_kernel_size=3,\n",
    "#         dropout=0.1,\n",
    "#         use_supervision=True,\n",
    "#     )\n",
    "    \n",
    "#     output,ds2,ds3 = model(input_tensor)\n",
    "#     print(\"입력 텐서 shape:\", input_tensor.shape)\n",
    "#     print(\"출력 텐서 shape:\", output.shape)\n",
    "#     print(\"출력 텐서 shape:\", ds2.shape)\n",
    "#     print(\"출력 텐서 shape:\", ds3.shape)\n",
    "    "
   ]
  },
  {
   "cell_type": "code",
   "execution_count": 5,
   "metadata": {},
   "outputs": [],
   "source": [
    "from thop import profile\n",
    "import torch\n",
    "from torch.profiler import ProfilerActivity\n",
    "from torch.profiler import profile as profilee\n",
    "    \n",
    "\n",
    "def print_model_summary(model, input_size):\n",
    "    input_tensor = torch.randn(input_size)\n",
    "    device = next(model.parameters()).device\n",
    "    input_tensor = input_tensor.to(device)\n",
    "    flops, params = profile(model, inputs=(input_tensor,))\n",
    "\n",
    "    print(f\"Model: {model.__class__.__name__}\")\n",
    "    print(f\"FLOPs: {flops:,}, GFLOPs: {flops / 1e9:.2f}\")\n",
    "    print(f\"Parameters: {params:,}\")\n",
    "    print(\"-\" * 50)\n",
    "\n",
    "def profile_model(model, input_size, log_dir='./log'):\n",
    "\n",
    "    input_tensor = torch.randn(input_size)\n",
    "    device = next(model.parameters()).device\n",
    "    input_tensor = input_tensor.to(device)\n",
    "    # 프로파일링\n",
    "    with profilee(\n",
    "        activities=[\n",
    "            ProfilerActivity.CPU, \n",
    "            ProfilerActivity.CUDA,\n",
    "        ],\n",
    "        on_trace_ready=torch.profiler.tensorboard_trace_handler(log_dir),  # TensorBoard 연동\n",
    "        record_shapes=True,\n",
    "        with_stack=True\n",
    "    ) as prof:\n",
    "        model(input_tensor)\n",
    "\n",
    "    # 프로파일링 결과 출력\n",
    "    print(prof.key_averages().table(sort_by=\"cuda_time_total\", row_limit=10))"
   ]
  },
  {
   "cell_type": "markdown",
   "metadata": {},
   "source": [
    "# 모델 설정"
   ]
  },
  {
   "cell_type": "code",
   "execution_count": 6,
   "metadata": {},
   "outputs": [],
   "source": [
    "from src.dataset.dataset import create_dataloaders\n",
    "from src.dataset.dataset_csv import create_dataloaders_from_csv\n",
    "from monai.transforms import (\n",
    "    Compose, LoadImaged, EnsureChannelFirstd, NormalizeIntensityd,\n",
    "    Orientationd, CropForegroundd, GaussianSmoothd, ScaleIntensityd,\n",
    "    RandSpatialCropd, RandRotate90d, RandFlipd, RandGaussianNoised,\n",
    "    ToTensord, RandCropByLabelClassesd, RandCropd,RandCropByPosNegLabeld, RandGaussianSmoothd, RandCoarseDropoutd\n",
    ")\n",
    "from monai.transforms import CastToTyped\n",
    "import numpy as np\n",
    "\n",
    "train_csv = \"./datasets/train_66.csv\"\n",
    "val_csv = \"./datasets/val_66.csv\"\n",
    "# DATA CONFIG\n",
    "img_size =  96 # Match your patch size\n",
    "img_depth = 32\n",
    "n_classes = 7\n",
    "batch_size = 32 # 13.8GB GPU memory required for 128x128 img size\n",
    "loader_batch = 1\n",
    "num_samples = batch_size // loader_batch # 한 이미지에서 뽑을 샘플 수\n",
    "num_repeat = 2\n",
    "val_num_repeat = 20\n",
    "# MODEL CONFIG\n",
    "num_epochs = 4000\n",
    "lamda = 0.5\n",
    "ce_weight = 0.4\n",
    "lr = 0.001\n",
    "feature_size = [64, 128, 256, 512]\n",
    "dropout= 0.25\n",
    "use_ds = True\n",
    "# CLASS_WEIGHTS\n",
    "class_weights = None\n",
    "# class_weights = torch.tensor([0.0001, 1, 0.001, 1.1, 1, 1.1, 1], dtype=torch.float32)  # 클래스별 가중치\n",
    "sigma = 1.5\n",
    "\n",
    "\n",
    "accumulation_steps = 1\n",
    "# INIT\n",
    "start_epoch = 0\n",
    "best_val_loss = float('inf')\n",
    "best_val_fbeta_score = 0\n",
    "\n",
    "non_random_transforms = Compose([\n",
    "    EnsureChannelFirstd(keys=[\"image\", \"label\"], channel_dim=\"no_channel\"),\n",
    "    NormalizeIntensityd(keys=\"image\"),\n",
    "    Orientationd(keys=[\"image\", \"label\"], axcodes=\"RAS\"),\n",
    "    # GaussianSmoothd(\n",
    "    #     keys=[\"image\"],      # 변환을 적용할 키\n",
    "    #     sigma=[sigma, sigma, sigma]  # 각 축(x, y, z)의 시그마 값\n",
    "    #     ),\n",
    "])\n",
    "random_transforms = Compose([\n",
    "    RandCropByLabelClassesd(\n",
    "        keys=[\"image\", \"label\"],\n",
    "        label_key=\"label\",\n",
    "        spatial_size=[img_depth, img_size, img_size],\n",
    "        num_classes=n_classes,\n",
    "        num_samples=num_samples, \n",
    "        ratios=ratios_list,\n",
    "    ),\n",
    "    RandCoarseDropoutd(\n",
    "        keys=[\"image\"],\n",
    "        holes=3,\n",
    "        spatial_size=(4,4,4),\n",
    "        prob=0.5,\n",
    "        fill_value=255,\n",
    "    ),\n",
    "    \n",
    "    RandRotate90d(keys=[\"image\", \"label\"], prob=0.5, spatial_axes=[1, 2]),\n",
    "    RandFlipd(keys=[\"image\", \"label\"], prob=0.5, spatial_axis=0),\n",
    "    RandFlipd(keys=[\"image\", \"label\"], prob=0.5, spatial_axis=1),\n",
    "    RandFlipd(keys=[\"image\", \"label\"], prob=0.5, spatial_axis=2),\n",
    "    # RandGaussianSmoothd(\n",
    "    # keys=[\"image\"],      # 변환을 적용할 키\n",
    "    # sigma_x = (0.5, sigma), # 각 축(x, y, z)의 시그마 값\n",
    "    # sigma_y = (0.5, sigma),\n",
    "    # sigma_z = (0.5, sigma),\n",
    "    # prob=0.5,\n",
    "    # ),\n",
    "])\n",
    "val_random_transforms = Compose([\n",
    "    RandCropByLabelClassesd(\n",
    "        keys=[\"image\", \"label\"],\n",
    "        label_key=\"label\",\n",
    "        spatial_size=[img_depth, img_size, img_size],\n",
    "        num_classes=n_classes,\n",
    "        num_samples=num_samples, \n",
    "        ratios=ratios_list,\n",
    "    ),\n",
    "    # RandRotate90d(keys=[\"image\", \"label\"], prob=0.5, spatial_axes=[1, 2]),\n",
    "    # RandFlipd(keys=[\"image\", \"label\"], prob=0.5, spatial_axis=0),\n",
    "    # RandFlipd(keys=[\"image\", \"label\"], prob=0.5, spatial_axis=1),\n",
    "    # RandFlipd(keys=[\"image\", \"label\"], prob=0.5, spatial_axis=2),\n",
    "    # RandGaussianSmoothd(\n",
    "    # keys=[\"image\"],      # 변환을 적용할 키\n",
    "    # sigma_x = (0.0, sigma), # 각 축(x, y, z)의 시그마 값\n",
    "    # sigma_y = (0.0, sigma),\n",
    "    # sigma_z = (0.0, sigma),\n",
    "    # prob=1.0,\n",
    "    # ),\n",
    "])\n"
   ]
  },
  {
   "cell_type": "code",
   "execution_count": 7,
   "metadata": {},
   "outputs": [
    {
     "name": "stdout",
     "output_type": "stream",
     "text": [
      "(184, 630, 630)\n",
      "(184, 630, 630)\n"
     ]
    }
   ],
   "source": [
    "train_loader, val_loader = None, None\n",
    "train_loader, val_loader = create_dataloaders_from_csv(\n",
    "    train_csv,\n",
    "    val_csv, \n",
    "    train_non_random_transforms = non_random_transforms, \n",
    "    val_non_random_transforms=non_random_transforms,\n",
    "    train_random_transforms=random_transforms,\n",
    "    val_random_transforms=val_random_transforms,\n",
    "    batch_size = loader_batch,\n",
    "    num_workers=0,train_num_repeat=num_repeat, val_num_repeat=val_num_repeat\n",
    "    )"
   ]
  },
  {
   "cell_type": "markdown",
   "metadata": {},
   "source": [
    "https://monai.io/model-zoo.html"
   ]
  },
  {
   "cell_type": "markdown",
   "metadata": {},
   "source": [
    "# 모델 선언"
   ]
  },
  {
   "cell_type": "code",
   "execution_count": 8,
   "metadata": {},
   "outputs": [
    {
     "name": "stderr",
     "output_type": "stream",
     "text": [
      "c:\\ProgramData\\anaconda3\\envs\\czii\\Lib\\site-packages\\torch\\nn\\init.py:511: UserWarning: Initializing zero-element tensors is a no-op\n",
      "  warnings.warn(\"Initializing zero-element tensors is a no-op\")\n"
     ]
    }
   ],
   "source": [
    "import torch\n",
    "import torch.optim as optim\n",
    "from pathlib import Path\n",
    "\n",
    "\n",
    "device = torch.device(\"cuda\" if torch.cuda.is_available() else \"cpu\")\n",
    "model = UNet_CBAM(\n",
    "    spatial_dims=3,\n",
    "    in_channels=1,\n",
    "    out_channels=n_classes,\n",
    "    channels=feature_size,\n",
    "    strides=[2, 2, 2],\n",
    "    kernel_size=3,\n",
    "    up_kernel_size=3,\n",
    "    dropout=dropout,\n",
    "    # use_supervision=use_ds,\n",
    "    ).to(device)\n",
    "# x = (batch_size, 1, img_depth, img_size, img_size)\n",
    "# print_model_summary(model, x)\n",
    "# profile_model(model, x, './log')\n",
    "\n",
    "criterion = CombinedCETverskyLoss(\n",
    "    lamda=lamda,\n",
    "    ce_weight=ce_weight,\n",
    "    n_classes=n_classes,\n",
    "    \n",
    ").to(device)\n",
    "\n",
    "\n",
    "weight_str = \"weighted\" if class_weights is not None else \"\"\n",
    "\n",
    "# 체크포인트 디렉토리 및 파일 설정\n",
    "checkpoint_base_dir = Path(\"./model_checkpoints\")\n",
    "folder_name = f\"UNetCBAM_aug66_hole_maxf{feature_size[-1]}_{img_depth}x{img_size}x{img_size}_e{num_epochs}_lr{lr}_lamda{lamda}_ce{ce_weight}_{weight_str}\"\n",
    "checkpoint_dir = checkpoint_base_dir / folder_name\n",
    "optimizer = optim.AdamW(model.parameters(), lr=lr, weight_decay=1e-5)\n",
    "scheduler = torch.optim.lr_scheduler.ReduceLROnPlateau(optimizer, patience=5, factor=0.5)\n",
    "# 체크포인트 디렉토리 생성\n",
    "checkpoint_dir.mkdir(parents=True, exist_ok=True)\n",
    "\n",
    "if checkpoint_dir.exists():\n",
    "    best_model_path = checkpoint_dir / 'best_model.pt'\n",
    "    if best_model_path.exists():\n",
    "        print(f\"기존 best model 발견: {best_model_path}\")\n",
    "        try:\n",
    "            checkpoint = torch.load(best_model_path, map_location=device)\n",
    "            # 체크포인트 내부 키 검증\n",
    "            required_keys = ['model_state_dict', 'optimizer_state_dict', 'epoch', 'best_val_loss']\n",
    "            if all(k in checkpoint for k in required_keys):\n",
    "                model.load_state_dict(checkpoint['model_state_dict'])\n",
    "                optimizer.load_state_dict(checkpoint['optimizer_state_dict'])\n",
    "                start_epoch = checkpoint['epoch']\n",
    "                best_val_loss = checkpoint['best_val_loss']\n",
    "                print(\"기존 학습된 가중치를 성공적으로 로드했습니다.\")\n",
    "                checkpoint= None\n",
    "            else:\n",
    "                raise ValueError(\"체크포인트 파일에 필요한 key가 없습니다.\")\n",
    "        except Exception as e:\n",
    "            print(f\"체크포인트 파일을 로드하는 중 오류 발생: {e}\")"
   ]
  },
  {
   "cell_type": "code",
   "execution_count": 9,
   "metadata": {},
   "outputs": [],
   "source": [
    "# batch = next(iter(val_loader))\n",
    "# images, labels = batch[\"image\"], batch[\"label\"]\n",
    "# print(images.shape, labels.shape)"
   ]
  },
  {
   "cell_type": "code",
   "execution_count": 10,
   "metadata": {},
   "outputs": [
    {
     "name": "stderr",
     "output_type": "stream",
     "text": [
      "\u001b[34m\u001b[1mwandb\u001b[0m: Currently logged in as: \u001b[33mwoow070840\u001b[0m (\u001b[33mwaooang\u001b[0m). Use \u001b[1m`wandb login --relogin`\u001b[0m to force relogin\n",
      "\u001b[34m\u001b[1mwandb\u001b[0m: Using wandb-core as the SDK backend.  Please refer to https://wandb.me/wandb-core for more information.\n"
     ]
    },
    {
     "data": {
      "text/html": [
       "Tracking run with wandb version 0.19.2"
      ],
      "text/plain": [
       "<IPython.core.display.HTML object>"
      ]
     },
     "metadata": {},
     "output_type": "display_data"
    },
    {
     "data": {
      "text/html": [
       "Run data is saved locally in <code>e:\\Workspace\\czll\\wandb\\run-20250205_114845-bg0sn4vh</code>"
      ],
      "text/plain": [
       "<IPython.core.display.HTML object>"
      ]
     },
     "metadata": {},
     "output_type": "display_data"
    },
    {
     "data": {
      "text/html": [
       "Syncing run <strong><a href='https://wandb.ai/waooang/czii_SwinUnetR/runs/bg0sn4vh' target=\"_blank\">UNetCBAM_aug66_hole_maxf512_32x96x96_e4000_lr0.001_lamda0.5_ce0.4_</a></strong> to <a href='https://wandb.ai/waooang/czii_SwinUnetR' target=\"_blank\">Weights & Biases</a> (<a href='https://wandb.me/developer-guide' target=\"_blank\">docs</a>)<br>"
      ],
      "text/plain": [
       "<IPython.core.display.HTML object>"
      ]
     },
     "metadata": {},
     "output_type": "display_data"
    },
    {
     "data": {
      "text/html": [
       " View project at <a href='https://wandb.ai/waooang/czii_SwinUnetR' target=\"_blank\">https://wandb.ai/waooang/czii_SwinUnetR</a>"
      ],
      "text/plain": [
       "<IPython.core.display.HTML object>"
      ]
     },
     "metadata": {},
     "output_type": "display_data"
    },
    {
     "data": {
      "text/html": [
       " View run at <a href='https://wandb.ai/waooang/czii_SwinUnetR/runs/bg0sn4vh' target=\"_blank\">https://wandb.ai/waooang/czii_SwinUnetR/runs/bg0sn4vh</a>"
      ],
      "text/plain": [
       "<IPython.core.display.HTML object>"
      ]
     },
     "metadata": {},
     "output_type": "display_data"
    }
   ],
   "source": [
    "import wandb\n",
    "from datetime import datetime\n",
    "\n",
    "current_time = datetime.now().strftime('%Y%m%d_%H%M%S')\n",
    "run_name = folder_name\n",
    "\n",
    "# wandb 초기화\n",
    "wandb.init(\n",
    "    project='czii_SwinUnetR',  # 프로젝트 이름 설정\n",
    "    name=run_name,         # 실행(run) 이름 설정\n",
    "    config={\n",
    "        'num_epochs': num_epochs,\n",
    "        'learning_rate': lr,\n",
    "        'batch_size': batch_size,\n",
    "        'lambda': lamda,\n",
    "        \"cross_entropy_weight\": ce_weight,\n",
    "        'img_depth': img_depth,\n",
    "        'img_size': img_size,\n",
    "        'sampling_ratio': ratios_list,\n",
    "        'device': device.type,\n",
    "        \"checkpoint_dir\": str(checkpoint_dir),\n",
    "        \"class_weights\": class_weights.tolist() if class_weights is not None else None,\n",
    "        \"feature_size\": feature_size,\n",
    "        \"deep_supervision\": use_ds,\n",
    "        \"dropout\": dropout,        \n",
    "        \"accumulation_steps\": accumulation_steps,\n",
    "        \"num_repeat\": num_repeat,\n",
    "        \n",
    "        # 필요한 하이퍼파라미터 추가\n",
    "    }\n",
    ")\n",
    "# 모델을 wandb에 연결\n",
    "wandb.watch(model, log='all')"
   ]
  },
  {
   "cell_type": "markdown",
   "metadata": {},
   "source": [
    "# 학습"
   ]
  },
  {
   "cell_type": "code",
   "execution_count": 11,
   "metadata": {},
   "outputs": [],
   "source": [
    "from monai.metrics import DiceMetric\n",
    "\n",
    "def processing(batch_data, model, criterion,device):\n",
    "    \n",
    "        \n",
    "    images = batch_data['image'].to(device)  # Input 이미지 (B, 1, 96, 96, 96)\n",
    "    labels = batch_data['label'].to(device)  # 라벨 (B, 96, 96, 96)\n",
    "\n",
    "    labels = labels.squeeze(1)  # (B, 1, 96, 96, 96) → (B, 96, 96, 96)\n",
    "    labels = labels.long()  # 라벨을 정수형으로 변환\n",
    "\n",
    "    # 원핫 인코딩 (B, H, W, D) → (B, num_classes, H, W, D)\n",
    "    \n",
    "    labels_onehot = torch.nn.functional.one_hot(labels, num_classes=n_classes)\n",
    "    labels_onehot = labels_onehot.permute(0, 4, 1, 2, 3).float()  # (B, num_classes, H, W, D)\n",
    "\n",
    "    \n",
    "    outputs = model(images)  # outputs: (B, num_classes, H, W, D)\n",
    "\n",
    "    # Loss 계산\n",
    "    loss = criterion(outputs, labels_onehot)\n",
    "        \n",
    "    \n",
    "    # loss = loss_fn(criterion(outputs, labels_onehot),class_weights=class_weights, device=device)\n",
    "    return loss, outputs, labels, outputs[0].argmax(dim=1) if type(outputs) == list else outputs.argmax(dim=1)\n",
    "\n",
    "def train_one_epoch(model, train_loader, criterion, optimizer, device, epoch, accumulation_steps=4):\n",
    "    model.train()\n",
    "    epoch_loss = 0\n",
    "    optimizer.zero_grad()  # 그래디언트 초기화\n",
    "    with tqdm(train_loader, desc='Training') as pbar:\n",
    "        for i, batch_data in enumerate(pbar):\n",
    "            # 손실 계산\n",
    "            loss, _, _, _ = processing(batch_data, model, criterion, device)\n",
    "\n",
    "            # 그래디언트를 계산하고 누적\n",
    "            loss = loss / accumulation_steps  # 그래디언트 누적을 위한 스케일링\n",
    "            loss.backward()  # 그래디언트 계산 및 누적\n",
    "            \n",
    "            # 그래디언트 업데이트 (accumulation_steps마다 한 번)\n",
    "            if (i + 1) % accumulation_steps == 0 or (i + 1) == len(train_loader):\n",
    "                optimizer.step()  # 파라미터 업데이트\n",
    "                optimizer.zero_grad()  # 누적된 그래디언트 초기화\n",
    "            \n",
    "            # 손실값 누적 (스케일링 복구)\n",
    "            epoch_loss += loss.item() * accumulation_steps  # 실제 손실값 반영\n",
    "            pbar.set_postfix(loss=loss.item() * accumulation_steps)  # 실제 손실값 출력\n",
    "    avg_loss = epoch_loss / len(train_loader)\n",
    "    wandb.log({'train_epoch_loss': avg_loss, 'epoch': epoch + 1})\n",
    "    return avg_loss\n",
    "\n",
    "\n",
    "\n",
    "def validate_one_epoch(model, val_loader, criterion, device, epoch, calculate_dice_interval, ce_weight):\n",
    "    model.eval()\n",
    "    val_loss = 0\n",
    "    \n",
    "    class_dice_scores = {i: [] for i in range(n_classes)}\n",
    "    class_f_beta_scores = {i: [] for i in range(n_classes)}\n",
    "    class_mIoU_scores = {i: [] for i in range(n_classes)}\n",
    "    with torch.no_grad():\n",
    "        with tqdm(val_loader, desc='Validation') as pbar:\n",
    "            for batch_data in pbar:\n",
    "                loss, _, labels, preds = processing(batch_data, model, criterion, device)\n",
    "                val_loss += loss.item()\n",
    "                pbar.set_postfix(loss=loss.item())\n",
    "\n",
    "                # 각 클래스별 Dice 점수 계산\n",
    "                if epoch % calculate_dice_interval == 0:\n",
    "                    for i in range(n_classes):\n",
    "                        pred_i = (preds == i)\n",
    "                        label_i = (labels == i)\n",
    "                        dice_score = (2.0 * torch.sum(pred_i & label_i)) / (torch.sum(pred_i) + torch.sum(label_i) + 1e-8)\n",
    "                        class_dice_scores[i].append(dice_score.item())\n",
    "                        precision = (torch.sum(pred_i & label_i) + 1e-8) / (torch.sum(pred_i) + 1e-8)\n",
    "                        recall = (torch.sum(pred_i & label_i) + 1e-8) / (torch.sum(label_i) + 1e-8)\n",
    "                        f_beta_score = (1 + 4**2) * (precision * recall) / (4**2 * precision + recall + 1e-8)\n",
    "                        class_f_beta_scores[i].append(f_beta_score.item())\n",
    "                        intersection = torch.sum(pred_i & label_i).float()\n",
    "                        union = torch.sum(pred_i | label_i).float()\n",
    "                        iou = (intersection + 1e-8) / (union + 1e-8)\n",
    "                        class_mIoU_scores[i].append(iou.item())\n",
    "\n",
    "    avg_loss = val_loss / len(val_loader)\n",
    "    # 에포크별 평균 손실 로깅\n",
    "    wandb.log({'val_epoch_loss': avg_loss, 'epoch': epoch + 1})\n",
    "    \n",
    "    # 각 클래스별 평균 Dice 점수 출력\n",
    "    if epoch % calculate_dice_interval == 0:\n",
    "        print(\"Validation Dice Score\")\n",
    "        all_classes_dice_scores = []\n",
    "        for i in range(n_classes):\n",
    "            mean_dice = np.mean(class_dice_scores[i])\n",
    "            wandb.log({f'class_{i}_dice_score': mean_dice, 'epoch': epoch + 1})\n",
    "            print(f\"Class {i}: {mean_dice:.4f}\", end=\", \")\n",
    "            if i not in [0, 2]:  # 평균에 포함할 클래스만 추가\n",
    "                all_classes_dice_scores.append(mean_dice)\n",
    "            \n",
    "        print()\n",
    "    if epoch % calculate_dice_interval == 0:\n",
    "        print(\"Validation F-beta Score\")\n",
    "        all_classes_fbeta_scores = []\n",
    "        for i in range(n_classes):\n",
    "            mean_fbeta = np.mean(class_f_beta_scores[i])\n",
    "            wandb.log({f'class_{i}_f_beta_score': mean_fbeta, 'epoch': epoch + 1})\n",
    "            print(f\"Class {i}: {mean_fbeta:.4f}\", end=\", \")\n",
    "            if i not in [0, 2]:  # 평균에 포함할 클래스만 추가\n",
    "                all_classes_fbeta_scores.append(mean_fbeta)\n",
    "               \n",
    "        print() \n",
    "    if epoch % calculate_dice_interval == 0:\n",
    "        print(\"Validation mIoU Score\")\n",
    "        all_classes_mIoU_scores = []\n",
    "        for i in range(n_classes):\n",
    "            mean_IoU = np.mean(class_mIoU_scores[i])\n",
    "            wandb.log({f'class_{i}_IoU_score': mean_fbeta, 'epoch': epoch + 1})\n",
    "            print(f\"Class {i}: {mean_IoU:.4f}\", end=\", \")\n",
    "            if i not in [0, 2]:  # 평균에 포함할 클래스만 추가\n",
    "                all_classes_mIoU_scores.append(mean_IoU)\n",
    "                \n",
    "        print()\n",
    "        overall_mean_dice = np.mean(all_classes_dice_scores)\n",
    "        overall_mean_fbeta = np.mean(all_classes_fbeta_scores)\n",
    "        overall_mean_IoU = np.mean(all_classes_mIoU_scores)\n",
    "        wandb.log({'overall_mean_f_beta_score': overall_mean_fbeta, 'overall_mean_dice_score': overall_mean_dice, 'epoch': epoch + 1, 'overall_mean_IoU_score': overall_mean_IoU})\n",
    "        print(f\"\\nOverall Mean Dice Score: {overall_mean_dice:.4f}\\nOverall Mean F-beta Score: {overall_mean_fbeta:.4f}\\nOverall Mean IoU Score: {overall_mean_IoU:.4f}\")\n",
    "\n",
    "    if overall_mean_fbeta is None:\n",
    "        overall_mean_fbeta = 0\n",
    "\n",
    "    final_score = overall_mean_fbeta * (1 - ce_weight) + overall_mean_IoU * ce_weight\n",
    "    return val_loss / len(val_loader), final_score \n",
    "\n",
    "def train_model(\n",
    "    model, train_loader, val_loader, criterion, optimizer, num_epochs, patience, \n",
    "    device, start_epoch, best_val_loss, best_val_fbeta_score, calculate_dice_interval=1,\n",
    "    accumulation_steps=4, pretrained=False\n",
    "):\n",
    "    \"\"\"\n",
    "    모델을 학습하고 검증하는 함수\n",
    "    Args:\n",
    "        model: 학습할 모델\n",
    "        train_loader: 학습 데이터 로더\n",
    "        val_loader: 검증 데이터 로더\n",
    "        criterion: 손실 함수\n",
    "        optimizer: 최적화 알고리즘\n",
    "        num_epochs: 총 학습 epoch 수\n",
    "        patience: early stopping 기준\n",
    "        device: GPU/CPU 장치\n",
    "        start_epoch: 시작 epoch\n",
    "        best_val_loss: 이전 최적 validation loss\n",
    "        best_val_fbeta_score: 이전 최적 validation f-beta score\n",
    "        calculate_dice_interval: Dice 점수 계산 주기\n",
    "    \"\"\"\n",
    "    epochs_no_improve = 0\n",
    "\n",
    "    for epoch in range(start_epoch, num_epochs):\n",
    "        print(f\"Epoch {epoch + 1}/{num_epochs}\")\n",
    "\n",
    "        # Train One Epoch\n",
    "        train_loss = train_one_epoch(\n",
    "            model=model, \n",
    "            train_loader=train_loader, \n",
    "            criterion=criterion, \n",
    "            optimizer=optimizer, \n",
    "            device=device,\n",
    "            epoch=epoch,\n",
    "            accumulation_steps= accumulation_steps\n",
    "        )\n",
    "        \n",
    "        scheduler.step(train_loss)\n",
    "        # Validate One Epoch\n",
    "        val_loss, overall_mean_fbeta_score = validate_one_epoch(\n",
    "            model=model, \n",
    "            val_loader=val_loader, \n",
    "            criterion=criterion, \n",
    "            device=device, \n",
    "            epoch=epoch, \n",
    "            calculate_dice_interval=calculate_dice_interval,\n",
    "            ce_weight=ce_weight\n",
    "        )\n",
    "\n",
    "        \n",
    "        print(f\"Training Loss: {train_loss:.4f}, Validation Loss: {val_loss:.4f}, Validation F-beta: {overall_mean_fbeta_score:.4f}\")\n",
    "\n",
    "        if val_loss < best_val_loss and overall_mean_fbeta_score > best_val_fbeta_score:\n",
    "            best_val_loss = val_loss\n",
    "            best_val_fbeta_score = overall_mean_fbeta_score\n",
    "            epochs_no_improve = 0\n",
    "            if pretrained:\n",
    "                checkpoint_path = os.path.join(checkpoint_dir, 'best_model_pretrained.pt')\n",
    "            else:\n",
    "                checkpoint_path = os.path.join(checkpoint_dir, 'best_model.pt')\n",
    "            torch.save({\n",
    "                'epoch': epoch + 1,\n",
    "                'model_state_dict': model.state_dict(),\n",
    "                'optimizer_state_dict': optimizer.state_dict(),\n",
    "                'best_val_loss': best_val_loss,\n",
    "                'best_val_fbeta_score': best_val_fbeta_score\n",
    "            }, checkpoint_path)\n",
    "            print(f\"========================================================\")\n",
    "            print(f\"SUPER Best model saved. Loss:{best_val_loss:.4f}, Score:{best_val_fbeta_score:.4f}\")\n",
    "            print(f\"========================================================\")\n",
    "\n",
    "        # Early stopping 조건 체크\n",
    "        if val_loss >= best_val_loss and overall_mean_fbeta_score <= best_val_fbeta_score:\n",
    "            epochs_no_improve += 1\n",
    "        else:\n",
    "            epochs_no_improve = 0\n",
    "\n",
    "        if epochs_no_improve >= patience:\n",
    "            print(\"Early stopping\")\n",
    "            checkpoint_path = os.path.join(checkpoint_dir, 'last.pt')\n",
    "            torch.save({\n",
    "                'epoch': epoch + 1,\n",
    "                'model_state_dict': model.state_dict(),\n",
    "                'optimizer_state_dict': optimizer.state_dict(),\n",
    "                'best_val_loss': best_val_loss,\n",
    "                'best_val_fbeta_score': best_val_fbeta_score\n",
    "            }, checkpoint_path)\n",
    "            break\n",
    "        # if epochs_no_improve % 6 == 0 & epochs_no_improve != 0:\n",
    "        #     # 손실이 개선되지 않았으므로 lambda 감소\n",
    "        #     new_lamda = max(criterion.lamda - 0.01, 0.35)  # 최소값은 0.1로 설정\n",
    "        #     criterion.set_lamda(new_lamda)\n",
    "        #     print(f\"Validation loss did not improve. Reducing lambda to {new_lamda:.4f}\")\n",
    "\n",
    "    wandb.finish()\n"
   ]
  },
  {
   "cell_type": "code",
   "execution_count": null,
   "metadata": {},
   "outputs": [
    {
     "name": "stdout",
     "output_type": "stream",
     "text": [
      "Epoch 1/4000\n"
     ]
    },
    {
     "name": "stderr",
     "output_type": "stream",
     "text": [
      "Training:   0%|          | 0/564 [00:00<?, ?it/s]"
     ]
    },
    {
     "name": "stderr",
     "output_type": "stream",
     "text": [
      "Training: 100%|██████████| 564/564 [10:31<00:00,  1.12s/it, loss=0.57] \n",
      "Validation: 100%|██████████| 40/40 [00:32<00:00,  1.22it/s, loss=0.559]\n"
     ]
    },
    {
     "name": "stdout",
     "output_type": "stream",
     "text": [
      "Validation Dice Score\n",
      "Class 0: 0.9791, Class 1: 0.0068, Class 2: 0.0000, Class 3: 0.0319, Class 4: 0.3500, Class 5: 0.0299, Class 6: 0.0001, \n",
      "Validation F-beta Score\n",
      "Class 0: 0.9815, Class 1: 0.0038, Class 2: 0.0000, Class 3: 0.0188, Class 4: 0.4509, Class 5: 0.0175, Class 6: 0.0001, \n",
      "Validation mIoU Score\n",
      "Class 0: 0.9591, Class 1: 0.0034, Class 2: 0.0000, Class 3: 0.0163, Class 4: 0.2130, Class 5: 0.0152, Class 6: 0.0001, \n",
      "\n",
      "Overall Mean Dice Score: 0.0838\n",
      "Overall Mean F-beta Score: 0.0982\n",
      "Overall Mean IoU Score: 0.0496\n",
      "Training Loss: 0.5901, Validation Loss: 0.5581, Validation F-beta: 0.0788\n",
      "========================================================\n",
      "SUPER Best model saved. Loss:0.5581, Score:0.0788\n",
      "========================================================\n",
      "Epoch 2/4000\n"
     ]
    },
    {
     "name": "stderr",
     "output_type": "stream",
     "text": [
      "Training: 100%|██████████| 564/564 [10:08<00:00,  1.08s/it, loss=0.524]\n",
      "Validation: 100%|██████████| 40/40 [00:24<00:00,  1.62it/s, loss=0.527]\n"
     ]
    },
    {
     "name": "stdout",
     "output_type": "stream",
     "text": [
      "Validation Dice Score\n",
      "Class 0: 0.9785, Class 1: 0.0920, Class 2: 0.0000, Class 3: 0.3191, Class 4: 0.4886, Class 5: 0.3029, Class 6: 0.4353, \n",
      "Validation F-beta Score\n",
      "Class 0: 0.9719, Class 1: 0.0924, Class 2: 0.0000, Class 3: 0.4973, Class 4: 0.5800, Class 5: 0.3479, Class 6: 0.5613, \n",
      "Validation mIoU Score\n",
      "Class 0: 0.9580, Class 1: 0.0488, Class 2: 0.0000, Class 3: 0.1911, Class 4: 0.3248, Class 5: 0.1795, Class 6: 0.2815, \n",
      "\n",
      "Overall Mean Dice Score: 0.3276\n",
      "Overall Mean F-beta Score: 0.4158\n",
      "Overall Mean IoU Score: 0.2051\n",
      "Training Loss: 0.5500, Validation Loss: 0.5186, Validation F-beta: 0.3315\n",
      "========================================================\n",
      "SUPER Best model saved. Loss:0.5186, Score:0.3315\n",
      "========================================================\n",
      "Epoch 3/4000\n"
     ]
    },
    {
     "name": "stderr",
     "output_type": "stream",
     "text": [
      "Training: 100%|██████████| 564/564 [09:41<00:00,  1.03s/it, loss=0.517]\n",
      "Validation: 100%|██████████| 40/40 [00:33<00:00,  1.20it/s, loss=0.507]\n"
     ]
    },
    {
     "name": "stdout",
     "output_type": "stream",
     "text": [
      "Validation Dice Score\n",
      "Class 0: 0.9795, Class 1: 0.1144, Class 2: 0.0000, Class 3: 0.2628, Class 4: 0.5491, Class 5: 0.3284, Class 6: 0.5687, \n",
      "Validation F-beta Score\n",
      "Class 0: 0.9714, Class 1: 0.0680, Class 2: 0.0000, Class 3: 0.2511, Class 4: 0.6861, Class 5: 0.5034, Class 6: 0.5298, \n",
      "Validation mIoU Score\n",
      "Class 0: 0.9599, Class 1: 0.0620, Class 2: 0.0000, Class 3: 0.1536, Class 4: 0.3823, Class 5: 0.1978, Class 6: 0.4172, \n",
      "\n",
      "Overall Mean Dice Score: 0.3647\n",
      "Overall Mean F-beta Score: 0.4077\n",
      "Overall Mean IoU Score: 0.2426\n",
      "Training Loss: 0.5107, Validation Loss: 0.5061, Validation F-beta: 0.3416\n",
      "========================================================\n",
      "SUPER Best model saved. Loss:0.5061, Score:0.3416\n",
      "========================================================\n",
      "Epoch 4/4000\n"
     ]
    },
    {
     "name": "stderr",
     "output_type": "stream",
     "text": [
      "Training: 100%|██████████| 564/564 [09:59<00:00,  1.06s/it, loss=0.459]\n",
      "Validation: 100%|██████████| 40/40 [00:28<00:00,  1.42it/s, loss=0.461]\n"
     ]
    },
    {
     "name": "stdout",
     "output_type": "stream",
     "text": [
      "Validation Dice Score\n",
      "Class 0: 0.9830, Class 1: 0.5049, Class 2: 0.0479, Class 3: 0.4185, Class 4: 0.6296, Class 5: 0.4097, Class 6: 0.8004, \n",
      "Validation F-beta Score\n",
      "Class 0: 0.9784, Class 1: 0.4799, Class 2: 0.0302, Class 3: 0.4346, Class 4: 0.6830, Class 5: 0.5308, Class 6: 0.9143, \n",
      "Validation mIoU Score\n",
      "Class 0: 0.9665, Class 1: 0.3407, Class 2: 0.0249, Class 3: 0.2670, Class 4: 0.4616, Class 5: 0.2588, Class 6: 0.6688, \n",
      "\n",
      "Overall Mean Dice Score: 0.5526\n",
      "Overall Mean F-beta Score: 0.6085\n",
      "Overall Mean IoU Score: 0.3994\n",
      "Training Loss: 0.4830, Validation Loss: 0.4656, Validation F-beta: 0.5249\n",
      "========================================================\n",
      "SUPER Best model saved. Loss:0.4656, Score:0.5249\n",
      "========================================================\n",
      "Epoch 5/4000\n"
     ]
    },
    {
     "name": "stderr",
     "output_type": "stream",
     "text": [
      "Training: 100%|██████████| 564/564 [09:51<00:00,  1.05s/it, loss=0.45] \n",
      "Validation: 100%|██████████| 40/40 [00:29<00:00,  1.38it/s, loss=0.463]\n"
     ]
    },
    {
     "name": "stdout",
     "output_type": "stream",
     "text": [
      "Validation Dice Score\n",
      "Class 0: 0.9813, Class 1: 0.6729, Class 2: 0.0596, Class 3: 0.3691, Class 4: 0.6427, Class 5: 0.4224, Class 6: 0.8597, \n",
      "Validation F-beta Score\n",
      "Class 0: 0.9736, Class 1: 0.6283, Class 2: 0.0434, Class 3: 0.5256, Class 4: 0.7234, Class 5: 0.6123, Class 6: 0.8823, \n",
      "Validation mIoU Score\n",
      "Class 0: 0.9634, Class 1: 0.5087, Class 2: 0.0313, Class 3: 0.2280, Class 4: 0.4748, Class 5: 0.2689, Class 6: 0.7546, \n",
      "\n",
      "Overall Mean Dice Score: 0.5934\n",
      "Overall Mean F-beta Score: 0.6744\n",
      "Overall Mean IoU Score: 0.4470\n",
      "Training Loss: 0.4652, Validation Loss: 0.4590, Validation F-beta: 0.5834\n",
      "========================================================\n",
      "SUPER Best model saved. Loss:0.4590, Score:0.5834\n",
      "========================================================\n",
      "Epoch 6/4000\n"
     ]
    },
    {
     "name": "stderr",
     "output_type": "stream",
     "text": [
      "Training: 100%|██████████| 564/564 [09:53<00:00,  1.05s/it, loss=0.414]\n",
      "Validation: 100%|██████████| 40/40 [00:32<00:00,  1.22it/s, loss=0.452]\n"
     ]
    },
    {
     "name": "stdout",
     "output_type": "stream",
     "text": [
      "Validation Dice Score\n",
      "Class 0: 0.9838, Class 1: 0.7050, Class 2: 0.1750, Class 3: 0.4544, Class 4: 0.6674, Class 5: 0.4670, Class 6: 0.8459, \n",
      "Validation F-beta Score\n",
      "Class 0: 0.9773, Class 1: 0.7619, Class 2: 0.1372, Class 3: 0.5194, Class 4: 0.7679, Class 5: 0.6245, Class 6: 0.9215, \n",
      "Validation mIoU Score\n",
      "Class 0: 0.9682, Class 1: 0.5450, Class 2: 0.0994, Class 3: 0.2958, Class 4: 0.5023, Class 5: 0.3062, Class 6: 0.7362, \n",
      "\n",
      "Overall Mean Dice Score: 0.6279\n",
      "Overall Mean F-beta Score: 0.7190\n",
      "Overall Mean IoU Score: 0.4771\n",
      "Training Loss: 0.4540, Validation Loss: 0.4436, Validation F-beta: 0.6223\n",
      "========================================================\n",
      "SUPER Best model saved. Loss:0.4436, Score:0.6223\n",
      "========================================================\n",
      "Epoch 7/4000\n"
     ]
    },
    {
     "name": "stderr",
     "output_type": "stream",
     "text": [
      "Training: 100%|██████████| 564/564 [10:13<00:00,  1.09s/it, loss=0.408]\n",
      "Validation: 100%|██████████| 40/40 [00:27<00:00,  1.47it/s, loss=0.448]\n"
     ]
    },
    {
     "name": "stdout",
     "output_type": "stream",
     "text": [
      "Validation Dice Score\n",
      "Class 0: 0.9858, Class 1: 0.7273, Class 2: 0.1628, Class 3: 0.4686, Class 4: 0.7027, Class 5: 0.4979, Class 6: 0.8859, \n",
      "Validation F-beta Score\n",
      "Class 0: 0.9836, Class 1: 0.7862, Class 2: 0.3309, Class 3: 0.5678, Class 4: 0.6831, Class 5: 0.5598, Class 6: 0.8929, \n",
      "Validation mIoU Score\n",
      "Class 0: 0.9719, Class 1: 0.5734, Class 2: 0.0902, Class 3: 0.3091, Class 4: 0.5425, Class 5: 0.3329, Class 6: 0.7957, \n",
      "\n",
      "Overall Mean Dice Score: 0.6565\n",
      "Overall Mean F-beta Score: 0.6980\n",
      "Overall Mean IoU Score: 0.5107\n",
      "Training Loss: 0.4435, Validation Loss: 0.4339, Validation F-beta: 0.6231\n",
      "========================================================\n",
      "SUPER Best model saved. Loss:0.4339, Score:0.6231\n",
      "========================================================\n",
      "Epoch 8/4000\n"
     ]
    },
    {
     "name": "stderr",
     "output_type": "stream",
     "text": [
      "Training: 100%|██████████| 564/564 [10:07<00:00,  1.08s/it, loss=0.39] \n",
      "Validation: 100%|██████████| 40/40 [00:35<00:00,  1.13it/s, loss=0.442]\n"
     ]
    },
    {
     "name": "stdout",
     "output_type": "stream",
     "text": [
      "Validation Dice Score\n",
      "Class 0: 0.9851, Class 1: 0.6964, Class 2: 0.1959, Class 3: 0.4934, Class 4: 0.7019, Class 5: 0.4728, Class 6: 0.8983, \n",
      "Validation F-beta Score\n",
      "Class 0: 0.9809, Class 1: 0.8498, Class 2: 0.3130, Class 3: 0.5768, Class 4: 0.7471, Class 5: 0.5736, Class 6: 0.9001, \n",
      "Validation mIoU Score\n",
      "Class 0: 0.9706, Class 1: 0.5358, Class 2: 0.1099, Class 3: 0.3298, Class 4: 0.5427, Class 5: 0.3106, Class 6: 0.8158, \n",
      "\n",
      "Overall Mean Dice Score: 0.6525\n",
      "Overall Mean F-beta Score: 0.7295\n",
      "Overall Mean IoU Score: 0.5069\n",
      "Training Loss: 0.4355, Validation Loss: 0.4373, Validation F-beta: 0.6405\n",
      "Epoch 9/4000\n"
     ]
    },
    {
     "name": "stderr",
     "output_type": "stream",
     "text": [
      "Training: 100%|██████████| 564/564 [09:48<00:00,  1.04s/it, loss=0.404]\n",
      "Validation: 100%|██████████| 40/40 [00:34<00:00,  1.17it/s, loss=0.406]\n"
     ]
    },
    {
     "name": "stdout",
     "output_type": "stream",
     "text": [
      "Validation Dice Score\n",
      "Class 0: 0.9868, Class 1: 0.7412, Class 2: 0.2510, Class 3: 0.4886, Class 4: 0.6940, Class 5: 0.4858, Class 6: 0.9043, \n",
      "Validation F-beta Score\n",
      "Class 0: 0.9852, Class 1: 0.8550, Class 2: 0.3320, Class 3: 0.5890, Class 4: 0.6492, Class 5: 0.5746, Class 6: 0.9125, \n",
      "Validation mIoU Score\n",
      "Class 0: 0.9739, Class 1: 0.5900, Class 2: 0.1484, Class 3: 0.3256, Class 4: 0.5329, Class 5: 0.3222, Class 6: 0.8259, \n",
      "\n",
      "Overall Mean Dice Score: 0.6628\n",
      "Overall Mean F-beta Score: 0.7160\n",
      "Overall Mean IoU Score: 0.5193\n",
      "Training Loss: 0.4297, Validation Loss: 0.4259, Validation F-beta: 0.6373\n",
      "========================================================\n",
      "SUPER Best model saved. Loss:0.4259, Score:0.6373\n",
      "========================================================\n",
      "Epoch 10/4000\n"
     ]
    },
    {
     "name": "stderr",
     "output_type": "stream",
     "text": [
      "Training: 100%|██████████| 564/564 [09:54<00:00,  1.05s/it, loss=0.383]\n",
      "Validation: 100%|██████████| 40/40 [00:25<00:00,  1.58it/s, loss=0.425]\n"
     ]
    },
    {
     "name": "stdout",
     "output_type": "stream",
     "text": [
      "Validation Dice Score\n",
      "Class 0: 0.9874, Class 1: 0.7707, Class 2: 0.2528, Class 3: 0.4940, Class 4: 0.7286, Class 5: 0.5260, Class 6: 0.9041, \n",
      "Validation F-beta Score\n",
      "Class 0: 0.9851, Class 1: 0.8634, Class 2: 0.3125, Class 3: 0.6109, Class 4: 0.7419, Class 5: 0.5881, Class 6: 0.9198, \n",
      "Validation mIoU Score\n",
      "Class 0: 0.9752, Class 1: 0.6296, Class 2: 0.1486, Class 3: 0.3318, Class 4: 0.5747, Class 5: 0.3589, Class 6: 0.8252, \n",
      "\n",
      "Overall Mean Dice Score: 0.6847\n",
      "Overall Mean F-beta Score: 0.7448\n",
      "Overall Mean IoU Score: 0.5440\n",
      "Training Loss: 0.4241, Validation Loss: 0.4208, Validation F-beta: 0.6645\n",
      "========================================================\n",
      "SUPER Best model saved. Loss:0.4208, Score:0.6645\n",
      "========================================================\n",
      "Epoch 11/4000\n"
     ]
    },
    {
     "name": "stderr",
     "output_type": "stream",
     "text": [
      "Training: 100%|██████████| 564/564 [09:56<00:00,  1.06s/it, loss=0.381]\n",
      "Validation: 100%|██████████| 40/40 [00:30<00:00,  1.31it/s, loss=0.434]\n"
     ]
    },
    {
     "name": "stdout",
     "output_type": "stream",
     "text": [
      "Validation Dice Score\n",
      "Class 0: 0.9857, Class 1: 0.7434, Class 2: 0.2367, Class 3: 0.4783, Class 4: 0.7329, Class 5: 0.5217, Class 6: 0.8998, \n",
      "Validation F-beta Score\n",
      "Class 0: 0.9809, Class 1: 0.8845, Class 2: 0.4517, Class 3: 0.6504, Class 4: 0.7683, Class 5: 0.6237, Class 6: 0.9257, \n",
      "Validation mIoU Score\n",
      "Class 0: 0.9718, Class 1: 0.5937, Class 2: 0.1365, Class 3: 0.3163, Class 4: 0.5801, Class 5: 0.3555, Class 6: 0.8184, \n",
      "\n",
      "Overall Mean Dice Score: 0.6752\n",
      "Overall Mean F-beta Score: 0.7705\n",
      "Overall Mean IoU Score: 0.5328\n",
      "Training Loss: 0.4226, Validation Loss: 0.4246, Validation F-beta: 0.6754\n",
      "Epoch 12/4000\n"
     ]
    },
    {
     "name": "stderr",
     "output_type": "stream",
     "text": [
      "Training: 100%|██████████| 564/564 [09:59<00:00,  1.06s/it, loss=0.395]\n",
      "Validation: 100%|██████████| 40/40 [00:28<00:00,  1.41it/s, loss=0.424]\n"
     ]
    },
    {
     "name": "stdout",
     "output_type": "stream",
     "text": [
      "Validation Dice Score\n",
      "Class 0: 0.9864, Class 1: 0.7836, Class 2: 0.2126, Class 3: 0.4706, Class 4: 0.7384, Class 5: 0.5411, Class 6: 0.9131, \n",
      "Validation F-beta Score\n",
      "Class 0: 0.9817, Class 1: 0.8462, Class 2: 0.4705, Class 3: 0.5793, Class 4: 0.7864, Class 5: 0.6391, Class 6: 0.9216, \n",
      "Validation mIoU Score\n",
      "Class 0: 0.9732, Class 1: 0.6456, Class 2: 0.1217, Class 3: 0.3106, Class 4: 0.5868, Class 5: 0.3722, Class 6: 0.8405, \n",
      "\n",
      "Overall Mean Dice Score: 0.6894\n",
      "Overall Mean F-beta Score: 0.7545\n",
      "Overall Mean IoU Score: 0.5511\n",
      "Training Loss: 0.4202, Validation Loss: 0.4218, Validation F-beta: 0.6732\n",
      "Epoch 13/4000\n"
     ]
    },
    {
     "name": "stderr",
     "output_type": "stream",
     "text": [
      "Training: 100%|██████████| 564/564 [09:46<00:00,  1.04s/it, loss=0.39] \n",
      "Validation: 100%|██████████| 40/40 [00:27<00:00,  1.45it/s, loss=0.431]\n"
     ]
    },
    {
     "name": "stdout",
     "output_type": "stream",
     "text": [
      "Validation Dice Score\n",
      "Class 0: 0.9861, Class 1: 0.7609, Class 2: 0.2147, Class 3: 0.5024, Class 4: 0.7439, Class 5: 0.5352, Class 6: 0.8775, \n",
      "Validation F-beta Score\n",
      "Class 0: 0.9808, Class 1: 0.9102, Class 2: 0.3724, Class 3: 0.6732, Class 4: 0.8106, Class 5: 0.6246, Class 6: 0.9625, \n",
      "Validation mIoU Score\n",
      "Class 0: 0.9726, Class 1: 0.6156, Class 2: 0.1224, Class 3: 0.3368, Class 4: 0.5933, Class 5: 0.3669, Class 6: 0.7825, \n",
      "\n",
      "Overall Mean Dice Score: 0.6840\n",
      "Overall Mean F-beta Score: 0.7962\n",
      "Overall Mean IoU Score: 0.5390\n",
      "Training Loss: 0.4166, Validation Loss: 0.4219, Validation F-beta: 0.6934\n",
      "Epoch 14/4000\n"
     ]
    },
    {
     "name": "stderr",
     "output_type": "stream",
     "text": [
      "Training: 100%|██████████| 564/564 [09:51<00:00,  1.05s/it, loss=0.375]\n",
      "Validation: 100%|██████████| 40/40 [00:28<00:00,  1.42it/s, loss=0.425]\n"
     ]
    },
    {
     "name": "stdout",
     "output_type": "stream",
     "text": [
      "Validation Dice Score\n",
      "Class 0: 0.9890, Class 1: 0.8008, Class 2: 0.3063, Class 3: 0.5300, Class 4: 0.7580, Class 5: 0.5400, Class 6: 0.9125, \n",
      "Validation F-beta Score\n",
      "Class 0: 0.9884, Class 1: 0.8633, Class 2: 0.3619, Class 3: 0.5955, Class 4: 0.7492, Class 5: 0.5607, Class 6: 0.9455, \n",
      "Validation mIoU Score\n",
      "Class 0: 0.9783, Class 1: 0.6690, Class 2: 0.1858, Class 3: 0.3632, Class 4: 0.6118, Class 5: 0.3734, Class 6: 0.8394, \n",
      "\n",
      "Overall Mean Dice Score: 0.7082\n",
      "Overall Mean F-beta Score: 0.7428\n",
      "Overall Mean IoU Score: 0.5714\n",
      "Training Loss: 0.4145, Validation Loss: 0.4151, Validation F-beta: 0.6743\n",
      "========================================================\n",
      "SUPER Best model saved. Loss:0.4151, Score:0.6743\n",
      "========================================================\n",
      "Epoch 15/4000\n"
     ]
    },
    {
     "name": "stderr",
     "output_type": "stream",
     "text": [
      "Training: 100%|██████████| 564/564 [09:55<00:00,  1.06s/it, loss=0.395]\n",
      "Validation: 100%|██████████| 40/40 [00:25<00:00,  1.56it/s, loss=0.432]\n"
     ]
    },
    {
     "name": "stdout",
     "output_type": "stream",
     "text": [
      "Validation Dice Score\n",
      "Class 0: 0.9866, Class 1: 0.8060, Class 2: 0.2657, Class 3: 0.5329, Class 4: 0.7615, Class 5: 0.5264, Class 6: 0.9030, \n",
      "Validation F-beta Score\n",
      "Class 0: 0.9820, Class 1: 0.8671, Class 2: 0.4174, Class 3: 0.6234, Class 4: 0.8091, Class 5: 0.6481, Class 6: 0.9494, \n",
      "Validation mIoU Score\n",
      "Class 0: 0.9737, Class 1: 0.6768, Class 2: 0.1578, Class 3: 0.3653, Class 4: 0.6160, Class 5: 0.3589, Class 6: 0.8237, \n",
      "\n",
      "Overall Mean Dice Score: 0.7060\n",
      "Overall Mean F-beta Score: 0.7794\n",
      "Overall Mean IoU Score: 0.5681\n",
      "Training Loss: 0.4122, Validation Loss: 0.4176, Validation F-beta: 0.6949\n",
      "Epoch 16/4000\n"
     ]
    },
    {
     "name": "stderr",
     "output_type": "stream",
     "text": [
      "Training: 100%|██████████| 564/564 [09:46<00:00,  1.04s/it, loss=0.389]\n",
      "Validation: 100%|██████████| 40/40 [00:28<00:00,  1.40it/s, loss=0.419]\n"
     ]
    },
    {
     "name": "stdout",
     "output_type": "stream",
     "text": [
      "Validation Dice Score\n",
      "Class 0: 0.9882, Class 1: 0.7980, Class 2: 0.2916, Class 3: 0.4989, Class 4: 0.7573, Class 5: 0.5508, Class 6: 0.9150, \n",
      "Validation F-beta Score\n",
      "Class 0: 0.9856, Class 1: 0.8520, Class 2: 0.3752, Class 3: 0.6642, Class 4: 0.7889, Class 5: 0.5970, Class 6: 0.9315, \n",
      "Validation mIoU Score\n",
      "Class 0: 0.9767, Class 1: 0.6659, Class 2: 0.1753, Class 3: 0.3344, Class 4: 0.6106, Class 5: 0.3818, Class 6: 0.8439, \n",
      "\n",
      "Overall Mean Dice Score: 0.7040\n",
      "Overall Mean F-beta Score: 0.7667\n",
      "Overall Mean IoU Score: 0.5673\n",
      "Training Loss: 0.4100, Validation Loss: 0.4142, Validation F-beta: 0.6870\n",
      "========================================================\n",
      "SUPER Best model saved. Loss:0.4142, Score:0.6870\n",
      "========================================================\n",
      "Epoch 17/4000\n"
     ]
    },
    {
     "name": "stderr",
     "output_type": "stream",
     "text": [
      "Training: 100%|██████████| 564/564 [10:59<00:00,  1.17s/it, loss=0.378]\n",
      "Validation: 100%|██████████| 40/40 [00:27<00:00,  1.45it/s, loss=0.418]\n"
     ]
    },
    {
     "name": "stdout",
     "output_type": "stream",
     "text": [
      "Validation Dice Score\n",
      "Class 0: 0.9877, Class 1: 0.7695, Class 2: 0.2351, Class 3: 0.4837, Class 4: 0.7571, Class 5: 0.5759, Class 6: 0.9073, \n",
      "Validation F-beta Score\n",
      "Class 0: 0.9843, Class 1: 0.9084, Class 2: 0.4852, Class 3: 0.6856, Class 4: 0.8119, Class 5: 0.5603, Class 6: 0.9533, \n",
      "Validation mIoU Score\n",
      "Class 0: 0.9756, Class 1: 0.6276, Class 2: 0.1358, Class 3: 0.3214, Class 4: 0.6102, Class 5: 0.4063, Class 6: 0.8308, \n",
      "\n",
      "Overall Mean Dice Score: 0.6987\n",
      "Overall Mean F-beta Score: 0.7839\n",
      "Overall Mean IoU Score: 0.5593\n",
      "Training Loss: 0.4078, Validation Loss: 0.4186, Validation F-beta: 0.6941\n",
      "Epoch 18/4000\n"
     ]
    },
    {
     "name": "stderr",
     "output_type": "stream",
     "text": [
      "Training: 100%|██████████| 564/564 [10:42<00:00,  1.14s/it, loss=0.371]\n",
      "Validation: 100%|██████████| 40/40 [00:30<00:00,  1.31it/s, loss=0.438]\n"
     ]
    },
    {
     "name": "stdout",
     "output_type": "stream",
     "text": [
      "Validation Dice Score\n",
      "Class 0: 0.9882, Class 1: 0.7971, Class 2: 0.2934, Class 3: 0.4979, Class 4: 0.7262, Class 5: 0.5400, Class 6: 0.8902, \n",
      "Validation F-beta Score\n",
      "Class 0: 0.9881, Class 1: 0.8865, Class 2: 0.4192, Class 3: 0.6669, Class 4: 0.6982, Class 5: 0.5108, Class 6: 0.9530, \n",
      "Validation mIoU Score\n",
      "Class 0: 0.9767, Class 1: 0.6640, Class 2: 0.1767, Class 3: 0.3331, Class 4: 0.5713, Class 5: 0.3724, Class 6: 0.8032, \n",
      "\n",
      "Overall Mean Dice Score: 0.6903\n",
      "Overall Mean F-beta Score: 0.7431\n",
      "Overall Mean IoU Score: 0.5488\n",
      "Training Loss: 0.4082, Validation Loss: 0.4132, Validation F-beta: 0.6654\n",
      "Epoch 19/4000\n"
     ]
    },
    {
     "name": "stderr",
     "output_type": "stream",
     "text": [
      "Training: 100%|██████████| 564/564 [10:52<00:00,  1.16s/it, loss=0.368]\n",
      "Validation: 100%|██████████| 40/40 [00:29<00:00,  1.34it/s, loss=0.42] \n"
     ]
    },
    {
     "name": "stdout",
     "output_type": "stream",
     "text": [
      "Validation Dice Score\n",
      "Class 0: 0.9898, Class 1: 0.8081, Class 2: 0.3412, Class 3: 0.5571, Class 4: 0.7623, Class 5: 0.5545, Class 6: 0.9216, \n",
      "Validation F-beta Score\n",
      "Class 0: 0.9900, Class 1: 0.8620, Class 2: 0.3237, Class 3: 0.6128, Class 4: 0.7493, Class 5: 0.5535, Class 6: 0.9340, \n",
      "Validation mIoU Score\n",
      "Class 0: 0.9798, Class 1: 0.6788, Class 2: 0.2106, Class 3: 0.3889, Class 4: 0.6165, Class 5: 0.3852, Class 6: 0.8549, \n",
      "\n",
      "Overall Mean Dice Score: 0.7207\n",
      "Overall Mean F-beta Score: 0.7423\n",
      "Overall Mean IoU Score: 0.5849\n",
      "Training Loss: 0.4075, Validation Loss: 0.4078, Validation F-beta: 0.6793\n",
      "Epoch 20/4000\n"
     ]
    },
    {
     "name": "stderr",
     "output_type": "stream",
     "text": [
      "Training: 100%|██████████| 564/564 [10:47<00:00,  1.15s/it, loss=0.383]\n",
      "Validation: 100%|██████████| 40/40 [00:32<00:00,  1.24it/s, loss=0.416]\n"
     ]
    },
    {
     "name": "stdout",
     "output_type": "stream",
     "text": [
      "Validation Dice Score\n",
      "Class 0: 0.9884, Class 1: 0.8052, Class 2: 0.3065, Class 3: 0.5475, Class 4: 0.7692, Class 5: 0.5787, Class 6: 0.9138, \n",
      "Validation F-beta Score\n",
      "Class 0: 0.9863, Class 1: 0.9024, Class 2: 0.4394, Class 3: 0.6615, Class 4: 0.7921, Class 5: 0.6034, Class 6: 0.9490, \n",
      "Validation mIoU Score\n",
      "Class 0: 0.9770, Class 1: 0.6753, Class 2: 0.1863, Class 3: 0.3793, Class 4: 0.6257, Class 5: 0.4091, Class 6: 0.8419, \n",
      "\n",
      "Overall Mean Dice Score: 0.7229\n",
      "Overall Mean F-beta Score: 0.7817\n",
      "Overall Mean IoU Score: 0.5862\n",
      "Training Loss: 0.4043, Validation Loss: 0.4060, Validation F-beta: 0.7035\n",
      "========================================================\n",
      "SUPER Best model saved. Loss:0.4060, Score:0.7035\n",
      "========================================================\n",
      "Epoch 21/4000\n"
     ]
    },
    {
     "name": "stderr",
     "output_type": "stream",
     "text": [
      "Training: 100%|██████████| 564/564 [10:59<00:00,  1.17s/it, loss=0.35] \n",
      "Validation: 100%|██████████| 40/40 [00:28<00:00,  1.42it/s, loss=0.411]\n"
     ]
    },
    {
     "name": "stdout",
     "output_type": "stream",
     "text": [
      "Validation Dice Score\n",
      "Class 0: 0.9896, Class 1: 0.8049, Class 2: 0.3361, Class 3: 0.5679, Class 4: 0.7641, Class 5: 0.5805, Class 6: 0.9144, \n",
      "Validation F-beta Score\n",
      "Class 0: 0.9897, Class 1: 0.8994, Class 2: 0.3728, Class 3: 0.5764, Class 4: 0.7573, Class 5: 0.5718, Class 6: 0.9357, \n",
      "Validation mIoU Score\n",
      "Class 0: 0.9795, Class 1: 0.6749, Class 2: 0.2093, Class 3: 0.3991, Class 4: 0.6193, Class 5: 0.4109, Class 6: 0.8425, \n",
      "\n",
      "Overall Mean Dice Score: 0.7263\n",
      "Overall Mean F-beta Score: 0.7481\n",
      "Overall Mean IoU Score: 0.5893\n",
      "Training Loss: 0.4041, Validation Loss: 0.4088, Validation F-beta: 0.6846\n",
      "Epoch 22/4000\n"
     ]
    },
    {
     "name": "stderr",
     "output_type": "stream",
     "text": [
      "Training: 100%|██████████| 564/564 [10:48<00:00,  1.15s/it, loss=0.384]\n",
      "Validation: 100%|██████████| 40/40 [00:28<00:00,  1.42it/s, loss=0.412]\n"
     ]
    },
    {
     "name": "stdout",
     "output_type": "stream",
     "text": [
      "Validation Dice Score\n",
      "Class 0: 0.9894, Class 1: 0.8072, Class 2: 0.3698, Class 3: 0.5681, Class 4: 0.7669, Class 5: 0.5828, Class 6: 0.9245, \n",
      "Validation F-beta Score\n",
      "Class 0: 0.9883, Class 1: 0.9019, Class 2: 0.4513, Class 3: 0.6455, Class 4: 0.7531, Class 5: 0.6313, Class 6: 0.9334, \n",
      "Validation mIoU Score\n",
      "Class 0: 0.9790, Class 1: 0.6783, Class 2: 0.2357, Class 3: 0.3999, Class 4: 0.6231, Class 5: 0.4131, Class 6: 0.8598, \n",
      "\n",
      "Overall Mean Dice Score: 0.7299\n",
      "Overall Mean F-beta Score: 0.7730\n",
      "Overall Mean IoU Score: 0.5948\n",
      "Training Loss: 0.4024, Validation Loss: 0.4061, Validation F-beta: 0.7017\n",
      "Epoch 23/4000\n"
     ]
    },
    {
     "name": "stderr",
     "output_type": "stream",
     "text": [
      "Training: 100%|██████████| 564/564 [10:50<00:00,  1.15s/it, loss=0.369]\n",
      "Validation: 100%|██████████| 40/40 [00:28<00:00,  1.39it/s, loss=0.402]\n"
     ]
    },
    {
     "name": "stdout",
     "output_type": "stream",
     "text": [
      "Validation Dice Score\n",
      "Class 0: 0.9886, Class 1: 0.8033, Class 2: 0.3338, Class 3: 0.5323, Class 4: 0.7723, Class 5: 0.5783, Class 6: 0.9225, \n",
      "Validation F-beta Score\n",
      "Class 0: 0.9858, Class 1: 0.9067, Class 2: 0.5640, Class 3: 0.6951, Class 4: 0.8298, Class 5: 0.5817, Class 6: 0.9341, \n",
      "Validation mIoU Score\n",
      "Class 0: 0.9774, Class 1: 0.6734, Class 2: 0.2034, Class 3: 0.3650, Class 4: 0.6297, Class 5: 0.4080, Class 6: 0.8564, \n",
      "\n",
      "Overall Mean Dice Score: 0.7217\n",
      "Overall Mean F-beta Score: 0.7895\n",
      "Overall Mean IoU Score: 0.5865\n",
      "Training Loss: 0.4016, Validation Loss: 0.4099, Validation F-beta: 0.7083\n",
      "Epoch 24/4000\n"
     ]
    },
    {
     "name": "stderr",
     "output_type": "stream",
     "text": [
      "Training: 100%|██████████| 564/564 [10:04<00:00,  1.07s/it, loss=0.37] \n",
      "Validation: 100%|██████████| 40/40 [00:32<00:00,  1.23it/s, loss=0.399]\n"
     ]
    },
    {
     "name": "stdout",
     "output_type": "stream",
     "text": [
      "Validation Dice Score\n",
      "Class 0: 0.9885, Class 1: 0.8054, Class 2: 0.3214, Class 3: 0.5639, Class 4: 0.7702, Class 5: 0.5787, Class 6: 0.9079, \n",
      "Validation F-beta Score\n",
      "Class 0: 0.9851, Class 1: 0.9033, Class 2: 0.5179, Class 3: 0.6925, Class 4: 0.8081, Class 5: 0.6490, Class 6: 0.9615, \n",
      "Validation mIoU Score\n",
      "Class 0: 0.9773, Class 1: 0.6757, Class 2: 0.1958, Class 3: 0.3955, Class 4: 0.6273, Class 5: 0.4100, Class 6: 0.8316, \n",
      "\n",
      "Overall Mean Dice Score: 0.7252\n",
      "Overall Mean F-beta Score: 0.8029\n",
      "Overall Mean IoU Score: 0.5880\n",
      "Training Loss: 0.4017, Validation Loss: 0.4089, Validation F-beta: 0.7169\n",
      "Epoch 25/4000\n"
     ]
    },
    {
     "name": "stderr",
     "output_type": "stream",
     "text": [
      "Training: 100%|██████████| 564/564 [09:42<00:00,  1.03s/it, loss=0.369]\n",
      "Validation: 100%|██████████| 40/40 [00:27<00:00,  1.47it/s, loss=0.401]\n"
     ]
    },
    {
     "name": "stdout",
     "output_type": "stream",
     "text": [
      "Validation Dice Score\n",
      "Class 0: 0.9892, Class 1: 0.7794, Class 2: 0.3705, Class 3: 0.5638, Class 4: 0.7663, Class 5: 0.5788, Class 6: 0.9219, \n",
      "Validation F-beta Score\n",
      "Class 0: 0.9877, Class 1: 0.8965, Class 2: 0.5470, Class 3: 0.6672, Class 4: 0.7755, Class 5: 0.6070, Class 6: 0.9305, \n",
      "Validation mIoU Score\n",
      "Class 0: 0.9787, Class 1: 0.6427, Class 2: 0.2320, Class 3: 0.3948, Class 4: 0.6220, Class 5: 0.4096, Class 6: 0.8555, \n",
      "\n",
      "Overall Mean Dice Score: 0.7221\n",
      "Overall Mean F-beta Score: 0.7753\n",
      "Overall Mean IoU Score: 0.5849\n",
      "Training Loss: 0.4002, Validation Loss: 0.4060, Validation F-beta: 0.6992\n",
      "Epoch 26/4000\n"
     ]
    },
    {
     "name": "stderr",
     "output_type": "stream",
     "text": [
      "Training: 100%|██████████| 564/564 [09:41<00:00,  1.03s/it, loss=0.376]\n",
      "Validation: 100%|██████████| 40/40 [00:25<00:00,  1.57it/s, loss=0.371]\n"
     ]
    },
    {
     "name": "stdout",
     "output_type": "stream",
     "text": [
      "Validation Dice Score\n",
      "Class 0: 0.9891, Class 1: 0.7937, Class 2: 0.3674, Class 3: 0.5792, Class 4: 0.7726, Class 5: 0.5912, Class 6: 0.9175, \n",
      "Validation F-beta Score\n",
      "Class 0: 0.9862, Class 1: 0.9153, Class 2: 0.4669, Class 3: 0.6721, Class 4: 0.8355, Class 5: 0.6259, Class 6: 0.9608, \n",
      "Validation mIoU Score\n",
      "Class 0: 0.9783, Class 1: 0.6605, Class 2: 0.2286, Class 3: 0.4103, Class 4: 0.6306, Class 5: 0.4217, Class 6: 0.8478, \n",
      "\n",
      "Overall Mean Dice Score: 0.7308\n",
      "Overall Mean F-beta Score: 0.8019\n",
      "Overall Mean IoU Score: 0.5942\n",
      "Training Loss: 0.3992, Validation Loss: 0.4043, Validation F-beta: 0.7188\n",
      "========================================================\n",
      "SUPER Best model saved. Loss:0.4043, Score:0.7188\n",
      "========================================================\n",
      "Epoch 27/4000\n"
     ]
    },
    {
     "name": "stderr",
     "output_type": "stream",
     "text": [
      "Training: 100%|██████████| 564/564 [09:54<00:00,  1.05s/it, loss=0.342]\n",
      "Validation: 100%|██████████| 40/40 [00:27<00:00,  1.46it/s, loss=0.41] \n"
     ]
    },
    {
     "name": "stdout",
     "output_type": "stream",
     "text": [
      "Validation Dice Score\n",
      "Class 0: 0.9893, Class 1: 0.8106, Class 2: 0.3182, Class 3: 0.5627, Class 4: 0.7766, Class 5: 0.6117, Class 6: 0.9206, \n",
      "Validation F-beta Score\n",
      "Class 0: 0.9867, Class 1: 0.8980, Class 2: 0.3807, Class 3: 0.6788, Class 4: 0.8240, Class 5: 0.6558, Class 6: 0.9471, \n",
      "Validation mIoU Score\n",
      "Class 0: 0.9789, Class 1: 0.6833, Class 2: 0.1970, Class 3: 0.3937, Class 4: 0.6357, Class 5: 0.4426, Class 6: 0.8531, \n",
      "\n",
      "Overall Mean Dice Score: 0.7364\n",
      "Overall Mean F-beta Score: 0.8007\n",
      "Overall Mean IoU Score: 0.6017\n",
      "Training Loss: 0.3983, Validation Loss: 0.4047, Validation F-beta: 0.7211\n",
      "Epoch 28/4000\n"
     ]
    },
    {
     "name": "stderr",
     "output_type": "stream",
     "text": [
      "Training: 100%|██████████| 564/564 [10:11<00:00,  1.08s/it, loss=0.348]\n",
      "Validation: 100%|██████████| 40/40 [00:26<00:00,  1.54it/s, loss=0.411]\n"
     ]
    },
    {
     "name": "stdout",
     "output_type": "stream",
     "text": [
      "Validation Dice Score\n",
      "Class 0: 0.9890, Class 1: 0.8069, Class 2: 0.3292, Class 3: 0.5665, Class 4: 0.7745, Class 5: 0.5986, Class 6: 0.9118, \n",
      "Validation F-beta Score\n",
      "Class 0: 0.9858, Class 1: 0.9136, Class 2: 0.4720, Class 3: 0.7212, Class 4: 0.8277, Class 5: 0.6434, Class 6: 0.9565, \n",
      "Validation mIoU Score\n",
      "Class 0: 0.9782, Class 1: 0.6790, Class 2: 0.2036, Class 3: 0.3974, Class 4: 0.6328, Class 5: 0.4291, Class 6: 0.8384, \n",
      "\n",
      "Overall Mean Dice Score: 0.7317\n",
      "Overall Mean F-beta Score: 0.8125\n",
      "Overall Mean IoU Score: 0.5953\n",
      "Training Loss: 0.3987, Validation Loss: 0.4040, Validation F-beta: 0.7256\n",
      "========================================================\n",
      "SUPER Best model saved. Loss:0.4040, Score:0.7256\n",
      "========================================================\n",
      "Epoch 29/4000\n"
     ]
    },
    {
     "name": "stderr",
     "output_type": "stream",
     "text": [
      "Training: 100%|██████████| 564/564 [09:51<00:00,  1.05s/it, loss=0.354]\n",
      "Validation: 100%|██████████| 40/40 [00:28<00:00,  1.39it/s, loss=0.417]\n"
     ]
    },
    {
     "name": "stdout",
     "output_type": "stream",
     "text": [
      "Validation Dice Score\n",
      "Class 0: 0.9893, Class 1: 0.8224, Class 2: 0.3300, Class 3: 0.5549, Class 4: 0.7559, Class 5: 0.6177, Class 6: 0.9138, \n",
      "Validation F-beta Score\n",
      "Class 0: 0.9894, Class 1: 0.8885, Class 2: 0.4752, Class 3: 0.6646, Class 4: 0.7132, Class 5: 0.6157, Class 6: 0.9476, \n",
      "Validation mIoU Score\n",
      "Class 0: 0.9788, Class 1: 0.7012, Class 2: 0.2031, Class 3: 0.3867, Class 4: 0.6086, Class 5: 0.4487, Class 6: 0.8417, \n",
      "\n",
      "Overall Mean Dice Score: 0.7329\n",
      "Overall Mean F-beta Score: 0.7659\n",
      "Overall Mean IoU Score: 0.5974\n",
      "Training Loss: 0.3981, Validation Loss: 0.4051, Validation F-beta: 0.6985\n",
      "Epoch 30/4000\n"
     ]
    },
    {
     "name": "stderr",
     "output_type": "stream",
     "text": [
      "Training: 100%|██████████| 564/564 [09:32<00:00,  1.02s/it, loss=0.363]\n",
      "Validation: 100%|██████████| 40/40 [00:29<00:00,  1.35it/s, loss=0.393]\n"
     ]
    },
    {
     "name": "stdout",
     "output_type": "stream",
     "text": [
      "Validation Dice Score\n",
      "Class 0: 0.9895, Class 1: 0.7995, Class 2: 0.3044, Class 3: 0.5775, Class 4: 0.7724, Class 5: 0.6061, Class 6: 0.9151, \n",
      "Validation F-beta Score\n",
      "Class 0: 0.9875, Class 1: 0.9106, Class 2: 0.4475, Class 3: 0.6652, Class 4: 0.8150, Class 5: 0.6181, Class 6: 0.9500, \n",
      "Validation mIoU Score\n",
      "Class 0: 0.9793, Class 1: 0.6699, Class 2: 0.1831, Class 3: 0.4080, Class 4: 0.6302, Class 5: 0.4359, Class 6: 0.8440, \n",
      "\n",
      "Overall Mean Dice Score: 0.7341\n",
      "Overall Mean F-beta Score: 0.7918\n",
      "Overall Mean IoU Score: 0.5976\n",
      "Training Loss: 0.3963, Validation Loss: 0.4056, Validation F-beta: 0.7141\n",
      "Epoch 31/4000\n"
     ]
    },
    {
     "name": "stderr",
     "output_type": "stream",
     "text": [
      "Training: 100%|██████████| 564/564 [09:53<00:00,  1.05s/it, loss=0.36] \n",
      "Validation: 100%|██████████| 40/40 [00:26<00:00,  1.54it/s, loss=0.402]\n"
     ]
    },
    {
     "name": "stdout",
     "output_type": "stream",
     "text": [
      "Validation Dice Score\n",
      "Class 0: 0.9878, Class 1: 0.7899, Class 2: 0.2873, Class 3: 0.5628, Class 4: 0.7684, Class 5: 0.5978, Class 6: 0.9155, \n",
      "Validation F-beta Score\n",
      "Class 0: 0.9824, Class 1: 0.9259, Class 2: 0.5544, Class 3: 0.7212, Class 4: 0.8662, Class 5: 0.6722, Class 6: 0.9607, \n",
      "Validation mIoU Score\n",
      "Class 0: 0.9758, Class 1: 0.6545, Class 2: 0.1712, Class 3: 0.3934, Class 4: 0.6253, Class 5: 0.4279, Class 6: 0.8446, \n",
      "\n",
      "Overall Mean Dice Score: 0.7269\n",
      "Overall Mean F-beta Score: 0.8292\n",
      "Overall Mean IoU Score: 0.5891\n",
      "Training Loss: 0.3972, Validation Loss: 0.4051, Validation F-beta: 0.7332\n",
      "Epoch 32/4000\n"
     ]
    },
    {
     "name": "stderr",
     "output_type": "stream",
     "text": [
      "Training: 100%|██████████| 564/564 [10:25<00:00,  1.11s/it, loss=0.362]\n",
      "Validation: 100%|██████████| 40/40 [00:34<00:00,  1.17it/s, loss=0.399]\n"
     ]
    },
    {
     "name": "stdout",
     "output_type": "stream",
     "text": [
      "Validation Dice Score\n",
      "Class 0: 0.9895, Class 1: 0.8056, Class 2: 0.3946, Class 3: 0.5566, Class 4: 0.7851, Class 5: 0.6017, Class 6: 0.9256, \n",
      "Validation F-beta Score\n",
      "Class 0: 0.9876, Class 1: 0.9192, Class 2: 0.5066, Class 3: 0.6684, Class 4: 0.7879, Class 5: 0.6610, Class 6: 0.9485, \n",
      "Validation mIoU Score\n",
      "Class 0: 0.9793, Class 1: 0.6763, Class 2: 0.2538, Class 3: 0.3898, Class 4: 0.6474, Class 5: 0.4317, Class 6: 0.8619, \n",
      "\n",
      "Overall Mean Dice Score: 0.7349\n",
      "Overall Mean F-beta Score: 0.7970\n",
      "Overall Mean IoU Score: 0.6014\n",
      "Training Loss: 0.3960, Validation Loss: 0.4011, Validation F-beta: 0.7188\n",
      "Epoch 33/4000\n"
     ]
    },
    {
     "name": "stderr",
     "output_type": "stream",
     "text": [
      "Training: 100%|██████████| 564/564 [10:13<00:00,  1.09s/it, loss=0.358]\n",
      "Validation: 100%|██████████| 40/40 [00:27<00:00,  1.48it/s, loss=0.398]\n"
     ]
    },
    {
     "name": "stdout",
     "output_type": "stream",
     "text": [
      "Validation Dice Score\n",
      "Class 0: 0.9884, Class 1: 0.8076, Class 2: 0.3498, Class 3: 0.5597, Class 4: 0.7891, Class 5: 0.5858, Class 6: 0.9282, \n",
      "Validation F-beta Score\n",
      "Class 0: 0.9843, Class 1: 0.8970, Class 2: 0.5599, Class 3: 0.6567, Class 4: 0.8369, Class 5: 0.6912, Class 6: 0.9467, \n",
      "Validation mIoU Score\n",
      "Class 0: 0.9770, Class 1: 0.6798, Class 2: 0.2172, Class 3: 0.3914, Class 4: 0.6521, Class 5: 0.4167, Class 6: 0.8665, \n",
      "\n",
      "Overall Mean Dice Score: 0.7341\n",
      "Overall Mean F-beta Score: 0.8057\n",
      "Overall Mean IoU Score: 0.6013\n",
      "Training Loss: 0.3959, Validation Loss: 0.4032, Validation F-beta: 0.7239\n",
      "Epoch 34/4000\n"
     ]
    },
    {
     "name": "stderr",
     "output_type": "stream",
     "text": [
      "Training: 100%|██████████| 564/564 [09:45<00:00,  1.04s/it, loss=0.377]\n",
      "Validation: 100%|██████████| 40/40 [00:24<00:00,  1.61it/s, loss=0.391]\n"
     ]
    },
    {
     "name": "stdout",
     "output_type": "stream",
     "text": [
      "Validation Dice Score\n",
      "Class 0: 0.9903, Class 1: 0.8216, Class 2: 0.3453, Class 3: 0.5913, Class 4: 0.7921, Class 5: 0.6123, Class 6: 0.9201, \n",
      "Validation F-beta Score\n",
      "Class 0: 0.9887, Class 1: 0.9064, Class 2: 0.5719, Class 3: 0.6786, Class 4: 0.7993, Class 5: 0.6390, Class 6: 0.9430, \n",
      "Validation mIoU Score\n",
      "Class 0: 0.9807, Class 1: 0.7013, Class 2: 0.2122, Class 3: 0.4222, Class 4: 0.6570, Class 5: 0.4435, Class 6: 0.8522, \n",
      "\n",
      "Overall Mean Dice Score: 0.7475\n",
      "Overall Mean F-beta Score: 0.7933\n",
      "Overall Mean IoU Score: 0.6152\n",
      "Training Loss: 0.3929, Validation Loss: 0.3975, Validation F-beta: 0.7220\n",
      "Epoch 35/4000\n"
     ]
    },
    {
     "name": "stderr",
     "output_type": "stream",
     "text": [
      "Training: 100%|██████████| 564/564 [09:37<00:00,  1.02s/it, loss=0.349]\n",
      "Validation: 100%|██████████| 40/40 [00:23<00:00,  1.68it/s, loss=0.409]\n"
     ]
    },
    {
     "name": "stdout",
     "output_type": "stream",
     "text": [
      "Validation Dice Score\n",
      "Class 0: 0.9882, Class 1: 0.7673, Class 2: 0.3036, Class 3: 0.5363, Class 4: 0.7956, Class 5: 0.5973, Class 6: 0.9219, \n",
      "Validation F-beta Score\n",
      "Class 0: 0.9840, Class 1: 0.9300, Class 2: 0.5706, Class 3: 0.7192, Class 4: 0.8418, Class 5: 0.6756, Class 6: 0.9555, \n",
      "Validation mIoU Score\n",
      "Class 0: 0.9768, Class 1: 0.6239, Class 2: 0.1838, Class 3: 0.3693, Class 4: 0.6609, Class 5: 0.4280, Class 6: 0.8556, \n",
      "\n",
      "Overall Mean Dice Score: 0.7237\n",
      "Overall Mean F-beta Score: 0.8244\n",
      "Overall Mean IoU Score: 0.5875\n",
      "Training Loss: 0.3941, Validation Loss: 0.4057, Validation F-beta: 0.7297\n",
      "Epoch 36/4000\n"
     ]
    },
    {
     "name": "stderr",
     "output_type": "stream",
     "text": [
      "Training: 100%|██████████| 564/564 [09:33<00:00,  1.02s/it, loss=0.37] \n",
      "Validation: 100%|██████████| 40/40 [00:26<00:00,  1.53it/s, loss=0.379]\n"
     ]
    },
    {
     "name": "stdout",
     "output_type": "stream",
     "text": [
      "Validation Dice Score\n",
      "Class 0: 0.9896, Class 1: 0.7837, Class 2: 0.3523, Class 3: 0.5691, Class 4: 0.7727, Class 5: 0.6189, Class 6: 0.9233, \n",
      "Validation F-beta Score\n",
      "Class 0: 0.9876, Class 1: 0.9314, Class 2: 0.5686, Class 3: 0.6890, Class 4: 0.7873, Class 5: 0.6423, Class 6: 0.9580, \n",
      "Validation mIoU Score\n",
      "Class 0: 0.9794, Class 1: 0.6465, Class 2: 0.2198, Class 3: 0.4000, Class 4: 0.6304, Class 5: 0.4502, Class 6: 0.8577, \n",
      "\n",
      "Overall Mean Dice Score: 0.7335\n",
      "Overall Mean F-beta Score: 0.8016\n",
      "Overall Mean IoU Score: 0.5970\n",
      "Training Loss: 0.3932, Validation Loss: 0.3997, Validation F-beta: 0.7198\n",
      "Epoch 37/4000\n"
     ]
    },
    {
     "name": "stderr",
     "output_type": "stream",
     "text": [
      "Training: 100%|██████████| 564/564 [09:39<00:00,  1.03s/it, loss=0.346]\n",
      "Validation: 100%|██████████| 40/40 [00:33<00:00,  1.20it/s, loss=0.403]\n"
     ]
    },
    {
     "name": "stdout",
     "output_type": "stream",
     "text": [
      "Validation Dice Score\n",
      "Class 0: 0.9897, Class 1: 0.8221, Class 2: 0.3605, Class 3: 0.5831, Class 4: 0.7886, Class 5: 0.6152, Class 6: 0.9168, \n",
      "Validation F-beta Score\n",
      "Class 0: 0.9884, Class 1: 0.8953, Class 2: 0.4726, Class 3: 0.6849, Class 4: 0.8058, Class 5: 0.6301, Class 6: 0.9023, \n",
      "Validation mIoU Score\n",
      "Class 0: 0.9795, Class 1: 0.7003, Class 2: 0.2261, Class 3: 0.4157, Class 4: 0.6519, Class 5: 0.4469, Class 6: 0.8466, \n",
      "\n",
      "Overall Mean Dice Score: 0.7452\n",
      "Overall Mean F-beta Score: 0.7836\n",
      "Overall Mean IoU Score: 0.6123\n",
      "Training Loss: 0.3924, Validation Loss: 0.3989, Validation F-beta: 0.7151\n",
      "Epoch 38/4000\n"
     ]
    },
    {
     "name": "stderr",
     "output_type": "stream",
     "text": [
      "Training: 100%|██████████| 564/564 [09:34<00:00,  1.02s/it, loss=0.372]\n",
      "Validation: 100%|██████████| 40/40 [00:23<00:00,  1.70it/s, loss=0.389]\n"
     ]
    },
    {
     "name": "stdout",
     "output_type": "stream",
     "text": [
      "Validation Dice Score\n",
      "Class 0: 0.9899, Class 1: 0.8140, Class 2: 0.3671, Class 3: 0.6135, Class 4: 0.7966, Class 5: 0.6243, Class 6: 0.9236, \n",
      "Validation F-beta Score\n",
      "Class 0: 0.9874, Class 1: 0.9078, Class 2: 0.5791, Class 3: 0.6434, Class 4: 0.8264, Class 5: 0.6817, Class 6: 0.9490, \n",
      "Validation mIoU Score\n",
      "Class 0: 0.9800, Class 1: 0.6883, Class 2: 0.2326, Class 3: 0.4456, Class 4: 0.6631, Class 5: 0.4563, Class 6: 0.8584, \n",
      "\n",
      "Overall Mean Dice Score: 0.7544\n",
      "Overall Mean F-beta Score: 0.8016\n",
      "Overall Mean IoU Score: 0.6223\n",
      "Training Loss: 0.3917, Validation Loss: 0.3996, Validation F-beta: 0.7299\n",
      "========================================================\n",
      "SUPER Best model saved. Loss:0.3996, Score:0.7299\n",
      "========================================================\n",
      "Epoch 39/4000\n"
     ]
    },
    {
     "name": "stderr",
     "output_type": "stream",
     "text": [
      "Training: 100%|██████████| 564/564 [09:23<00:00,  1.00it/s, loss=0.358]\n",
      "Validation: 100%|██████████| 40/40 [00:23<00:00,  1.67it/s, loss=0.394]\n"
     ]
    },
    {
     "name": "stdout",
     "output_type": "stream",
     "text": [
      "Validation Dice Score\n",
      "Class 0: 0.9902, Class 1: 0.8234, Class 2: 0.4152, Class 3: 0.5844, Class 4: 0.8015, Class 5: 0.6272, Class 6: 0.9213, \n",
      "Validation F-beta Score\n",
      "Class 0: 0.9878, Class 1: 0.9067, Class 2: 0.5156, Class 3: 0.6969, Class 4: 0.8339, Class 5: 0.6767, Class 6: 0.9546, \n",
      "Validation mIoU Score\n",
      "Class 0: 0.9805, Class 1: 0.7015, Class 2: 0.2679, Class 3: 0.4156, Class 4: 0.6695, Class 5: 0.4593, Class 6: 0.8544, \n",
      "\n",
      "Overall Mean Dice Score: 0.7515\n",
      "Overall Mean F-beta Score: 0.8138\n",
      "Overall Mean IoU Score: 0.6200\n",
      "Training Loss: 0.3921, Validation Loss: 0.3967, Validation F-beta: 0.7363\n",
      "========================================================\n",
      "SUPER Best model saved. Loss:0.3967, Score:0.7363\n",
      "========================================================\n",
      "Epoch 40/4000\n"
     ]
    },
    {
     "name": "stderr",
     "output_type": "stream",
     "text": [
      "Training: 100%|██████████| 564/564 [09:43<00:00,  1.03s/it, loss=0.369]\n",
      "Validation: 100%|██████████| 40/40 [00:31<00:00,  1.29it/s, loss=0.416]\n"
     ]
    },
    {
     "name": "stdout",
     "output_type": "stream",
     "text": [
      "Validation Dice Score\n",
      "Class 0: 0.9888, Class 1: 0.7930, Class 2: 0.3735, Class 3: 0.5447, Class 4: 0.7862, Class 5: 0.6208, Class 6: 0.9275, \n",
      "Validation F-beta Score\n",
      "Class 0: 0.9849, Class 1: 0.9130, Class 2: 0.5656, Class 3: 0.7118, Class 4: 0.8259, Class 5: 0.7162, Class 6: 0.9578, \n",
      "Validation mIoU Score\n",
      "Class 0: 0.9778, Class 1: 0.6598, Class 2: 0.2344, Class 3: 0.3769, Class 4: 0.6482, Class 5: 0.4512, Class 6: 0.8650, \n",
      "\n",
      "Overall Mean Dice Score: 0.7344\n",
      "Overall Mean F-beta Score: 0.8249\n",
      "Overall Mean IoU Score: 0.6002\n",
      "Training Loss: 0.3920, Validation Loss: 0.3989, Validation F-beta: 0.7350\n",
      "Epoch 41/4000\n"
     ]
    },
    {
     "name": "stderr",
     "output_type": "stream",
     "text": [
      "Training: 100%|██████████| 564/564 [09:27<00:00,  1.01s/it, loss=0.348]\n",
      "Validation: 100%|██████████| 40/40 [00:27<00:00,  1.47it/s, loss=0.392]\n"
     ]
    },
    {
     "name": "stdout",
     "output_type": "stream",
     "text": [
      "Validation Dice Score\n",
      "Class 0: 0.9893, Class 1: 0.7988, Class 2: 0.3638, Class 3: 0.5737, Class 4: 0.7877, Class 5: 0.6135, Class 6: 0.9222, \n",
      "Validation F-beta Score\n",
      "Class 0: 0.9869, Class 1: 0.9238, Class 2: 0.5849, Class 3: 0.6814, Class 4: 0.7738, Class 5: 0.6970, Class 6: 0.9530, \n",
      "Validation mIoU Score\n",
      "Class 0: 0.9788, Class 1: 0.6673, Class 2: 0.2292, Class 3: 0.4046, Class 4: 0.6507, Class 5: 0.4440, Class 6: 0.8561, \n",
      "\n",
      "Overall Mean Dice Score: 0.7392\n",
      "Overall Mean F-beta Score: 0.8058\n",
      "Overall Mean IoU Score: 0.6045\n",
      "Training Loss: 0.3914, Validation Loss: 0.3977, Validation F-beta: 0.7253\n",
      "Epoch 42/4000\n"
     ]
    },
    {
     "name": "stderr",
     "output_type": "stream",
     "text": [
      "Training: 100%|██████████| 564/564 [09:46<00:00,  1.04s/it, loss=0.372]\n",
      "Validation: 100%|██████████| 40/40 [00:25<00:00,  1.56it/s, loss=0.421]\n"
     ]
    },
    {
     "name": "stdout",
     "output_type": "stream",
     "text": [
      "Validation Dice Score\n",
      "Class 0: 0.9900, Class 1: 0.8153, Class 2: 0.3017, Class 3: 0.5400, Class 4: 0.7997, Class 5: 0.6250, Class 6: 0.9263, \n",
      "Validation F-beta Score\n",
      "Class 0: 0.9886, Class 1: 0.9117, Class 2: 0.5462, Class 3: 0.7220, Class 4: 0.7956, Class 5: 0.6248, Class 6: 0.9415, \n",
      "Validation mIoU Score\n",
      "Class 0: 0.9803, Class 1: 0.6894, Class 2: 0.1832, Class 3: 0.3729, Class 4: 0.6669, Class 5: 0.4557, Class 6: 0.8633, \n",
      "\n",
      "Overall Mean Dice Score: 0.7413\n",
      "Overall Mean F-beta Score: 0.7991\n",
      "Overall Mean IoU Score: 0.6096\n",
      "Training Loss: 0.3898, Validation Loss: 0.4015, Validation F-beta: 0.7233\n",
      "Epoch 43/4000\n"
     ]
    },
    {
     "name": "stderr",
     "output_type": "stream",
     "text": [
      "Training: 100%|██████████| 564/564 [09:32<00:00,  1.01s/it, loss=0.343]\n",
      "Validation: 100%|██████████| 40/40 [00:25<00:00,  1.57it/s, loss=0.397]\n"
     ]
    },
    {
     "name": "stdout",
     "output_type": "stream",
     "text": [
      "Validation Dice Score\n",
      "Class 0: 0.9902, Class 1: 0.8071, Class 2: 0.3750, Class 3: 0.5910, Class 4: 0.7840, Class 5: 0.6232, Class 6: 0.9283, \n",
      "Validation F-beta Score\n",
      "Class 0: 0.9887, Class 1: 0.8959, Class 2: 0.5520, Class 3: 0.7171, Class 4: 0.7779, Class 5: 0.6686, Class 6: 0.9274, \n",
      "Validation mIoU Score\n",
      "Class 0: 0.9806, Class 1: 0.6790, Class 2: 0.2350, Class 3: 0.4222, Class 4: 0.6460, Class 5: 0.4540, Class 6: 0.8665, \n",
      "\n",
      "Overall Mean Dice Score: 0.7467\n",
      "Overall Mean F-beta Score: 0.7974\n",
      "Overall Mean IoU Score: 0.6136\n",
      "Training Loss: 0.3903, Validation Loss: 0.3960, Validation F-beta: 0.7239\n",
      "Epoch 44/4000\n"
     ]
    },
    {
     "name": "stderr",
     "output_type": "stream",
     "text": [
      "Training: 100%|██████████| 564/564 [09:54<00:00,  1.05s/it, loss=0.35] \n",
      "Validation: 100%|██████████| 40/40 [00:26<00:00,  1.50it/s, loss=0.406]\n"
     ]
    },
    {
     "name": "stdout",
     "output_type": "stream",
     "text": [
      "Validation Dice Score\n",
      "Class 0: 0.9898, Class 1: 0.8048, Class 2: 0.3619, Class 3: 0.5989, Class 4: 0.7976, Class 5: 0.6012, Class 6: 0.9290, \n",
      "Validation F-beta Score\n",
      "Class 0: 0.9876, Class 1: 0.9302, Class 2: 0.5728, Class 3: 0.6700, Class 4: 0.7882, Class 5: 0.6829, Class 6: 0.9366, \n",
      "Validation mIoU Score\n",
      "Class 0: 0.9797, Class 1: 0.6750, Class 2: 0.2263, Class 3: 0.4300, Class 4: 0.6646, Class 5: 0.4315, Class 6: 0.8678, \n",
      "\n",
      "Overall Mean Dice Score: 0.7463\n",
      "Overall Mean F-beta Score: 0.8016\n",
      "Overall Mean IoU Score: 0.6138\n",
      "Training Loss: 0.3921, Validation Loss: 0.3959, Validation F-beta: 0.7265\n",
      "Epoch 45/4000\n"
     ]
    },
    {
     "name": "stderr",
     "output_type": "stream",
     "text": [
      "Training: 100%|██████████| 564/564 [09:45<00:00,  1.04s/it, loss=0.348]\n",
      "Validation: 100%|██████████| 40/40 [00:26<00:00,  1.50it/s, loss=0.371]\n"
     ]
    },
    {
     "name": "stdout",
     "output_type": "stream",
     "text": [
      "Validation Dice Score\n",
      "Class 0: 0.9908, Class 1: 0.8388, Class 2: 0.3987, Class 3: 0.6179, Class 4: 0.7793, Class 5: 0.6503, Class 6: 0.9260, \n",
      "Validation F-beta Score\n",
      "Class 0: 0.9898, Class 1: 0.8878, Class 2: 0.5439, Class 3: 0.6866, Class 4: 0.7780, Class 5: 0.6865, Class 6: 0.9412, \n",
      "Validation mIoU Score\n",
      "Class 0: 0.9818, Class 1: 0.7242, Class 2: 0.2555, Class 3: 0.4499, Class 4: 0.6396, Class 5: 0.4835, Class 6: 0.8628, \n",
      "\n",
      "Overall Mean Dice Score: 0.7625\n",
      "Overall Mean F-beta Score: 0.7960\n",
      "Overall Mean IoU Score: 0.6320\n",
      "Training Loss: 0.3902, Validation Loss: 0.3911, Validation F-beta: 0.7304\n",
      "Epoch 46/4000\n"
     ]
    },
    {
     "name": "stderr",
     "output_type": "stream",
     "text": [
      "Training: 100%|██████████| 564/564 [09:47<00:00,  1.04s/it, loss=0.335]\n",
      "Validation: 100%|██████████| 40/40 [00:23<00:00,  1.67it/s, loss=0.396]\n"
     ]
    },
    {
     "name": "stdout",
     "output_type": "stream",
     "text": [
      "Validation Dice Score\n",
      "Class 0: 0.9898, Class 1: 0.8004, Class 2: 0.3210, Class 3: 0.5914, Class 4: 0.7903, Class 5: 0.6232, Class 6: 0.9296, \n",
      "Validation F-beta Score\n",
      "Class 0: 0.9877, Class 1: 0.9311, Class 2: 0.5222, Class 3: 0.6857, Class 4: 0.7921, Class 5: 0.6902, Class 6: 0.9267, \n",
      "Validation mIoU Score\n",
      "Class 0: 0.9799, Class 1: 0.6695, Class 2: 0.1986, Class 3: 0.4233, Class 4: 0.6546, Class 5: 0.4550, Class 6: 0.8689, \n",
      "\n",
      "Overall Mean Dice Score: 0.7470\n",
      "Overall Mean F-beta Score: 0.8052\n",
      "Overall Mean IoU Score: 0.6143\n",
      "Training Loss: 0.3904, Validation Loss: 0.3985, Validation F-beta: 0.7288\n",
      "Epoch 47/4000\n"
     ]
    },
    {
     "name": "stderr",
     "output_type": "stream",
     "text": [
      "Training: 100%|██████████| 564/564 [09:37<00:00,  1.02s/it, loss=0.34] \n",
      "Validation: 100%|██████████| 40/40 [00:28<00:00,  1.40it/s, loss=0.397]\n"
     ]
    },
    {
     "name": "stdout",
     "output_type": "stream",
     "text": [
      "Validation Dice Score\n",
      "Class 0: 0.9907, Class 1: 0.8216, Class 2: 0.3609, Class 3: 0.6220, Class 4: 0.7965, Class 5: 0.6492, Class 6: 0.9283, \n",
      "Validation F-beta Score\n",
      "Class 0: 0.9904, Class 1: 0.8630, Class 2: 0.5780, Class 3: 0.6750, Class 4: 0.7815, Class 5: 0.6396, Class 6: 0.9344, \n",
      "Validation mIoU Score\n",
      "Class 0: 0.9815, Class 1: 0.6985, Class 2: 0.2244, Class 3: 0.4538, Class 4: 0.6627, Class 5: 0.4824, Class 6: 0.8666, \n",
      "\n",
      "Overall Mean Dice Score: 0.7635\n",
      "Overall Mean F-beta Score: 0.7787\n",
      "Overall Mean IoU Score: 0.6328\n",
      "Training Loss: 0.3891, Validation Loss: 0.3929, Validation F-beta: 0.7203\n",
      "Epoch 48/4000\n"
     ]
    },
    {
     "name": "stderr",
     "output_type": "stream",
     "text": [
      "Training: 100%|██████████| 564/564 [09:32<00:00,  1.02s/it, loss=0.36] \n",
      "Validation: 100%|██████████| 40/40 [00:24<00:00,  1.61it/s, loss=0.399]\n"
     ]
    },
    {
     "name": "stdout",
     "output_type": "stream",
     "text": [
      "Validation Dice Score\n",
      "Class 0: 0.9887, Class 1: 0.8077, Class 2: 0.3359, Class 3: 0.6042, Class 4: 0.7947, Class 5: 0.6023, Class 6: 0.9281, \n",
      "Validation F-beta Score\n",
      "Class 0: 0.9850, Class 1: 0.9226, Class 2: 0.6125, Class 3: 0.7008, Class 4: 0.8166, Class 5: 0.7123, Class 6: 0.9510, \n",
      "Validation mIoU Score\n",
      "Class 0: 0.9776, Class 1: 0.6786, Class 2: 0.2059, Class 3: 0.4355, Class 4: 0.6605, Class 5: 0.4337, Class 6: 0.8662, \n",
      "\n",
      "Overall Mean Dice Score: 0.7474\n",
      "Overall Mean F-beta Score: 0.8207\n",
      "Overall Mean IoU Score: 0.6149\n",
      "Training Loss: 0.3896, Validation Loss: 0.3986, Validation F-beta: 0.7384\n",
      "Epoch 49/4000\n"
     ]
    },
    {
     "name": "stderr",
     "output_type": "stream",
     "text": [
      "Training: 100%|██████████| 564/564 [09:35<00:00,  1.02s/it, loss=0.333]\n",
      "Validation: 100%|██████████| 40/40 [00:25<00:00,  1.56it/s, loss=0.376]\n"
     ]
    },
    {
     "name": "stdout",
     "output_type": "stream",
     "text": [
      "Validation Dice Score\n",
      "Class 0: 0.9909, Class 1: 0.8218, Class 2: 0.4000, Class 3: 0.5816, Class 4: 0.7836, Class 5: 0.6429, Class 6: 0.9292, \n",
      "Validation F-beta Score\n",
      "Class 0: 0.9911, Class 1: 0.8979, Class 2: 0.5837, Class 3: 0.7261, Class 4: 0.7485, Class 5: 0.6103, Class 6: 0.9388, \n",
      "Validation mIoU Score\n",
      "Class 0: 0.9819, Class 1: 0.6992, Class 2: 0.2551, Class 3: 0.4127, Class 4: 0.6456, Class 5: 0.4751, Class 6: 0.8681, \n",
      "\n",
      "Overall Mean Dice Score: 0.7518\n",
      "Overall Mean F-beta Score: 0.7844\n",
      "Overall Mean IoU Score: 0.6201\n",
      "Training Loss: 0.3889, Validation Loss: 0.3943, Validation F-beta: 0.7187\n",
      "Epoch 50/4000\n"
     ]
    },
    {
     "name": "stderr",
     "output_type": "stream",
     "text": [
      "Training: 100%|██████████| 564/564 [09:46<00:00,  1.04s/it, loss=0.35] \n",
      "Validation: 100%|██████████| 40/40 [00:26<00:00,  1.54it/s, loss=0.385]\n"
     ]
    },
    {
     "name": "stdout",
     "output_type": "stream",
     "text": [
      "Validation Dice Score\n",
      "Class 0: 0.9904, Class 1: 0.8192, Class 2: 0.3899, Class 3: 0.5847, Class 4: 0.8001, Class 5: 0.6330, Class 6: 0.9270, \n",
      "Validation F-beta Score\n",
      "Class 0: 0.9892, Class 1: 0.8717, Class 2: 0.5711, Class 3: 0.7180, Class 4: 0.7923, Class 5: 0.6654, Class 6: 0.9207, \n",
      "Validation mIoU Score\n",
      "Class 0: 0.9810, Class 1: 0.6962, Class 2: 0.2496, Class 3: 0.4164, Class 4: 0.6680, Class 5: 0.4652, Class 6: 0.8642, \n",
      "\n",
      "Overall Mean Dice Score: 0.7528\n",
      "Overall Mean F-beta Score: 0.7936\n",
      "Overall Mean IoU Score: 0.6220\n",
      "Training Loss: 0.3887, Validation Loss: 0.3904, Validation F-beta: 0.7250\n",
      "Epoch 51/4000\n"
     ]
    },
    {
     "name": "stderr",
     "output_type": "stream",
     "text": [
      "Training: 100%|██████████| 564/564 [09:51<00:00,  1.05s/it, loss=0.34] \n",
      "Validation: 100%|██████████| 40/40 [00:24<00:00,  1.65it/s, loss=0.394]\n"
     ]
    },
    {
     "name": "stdout",
     "output_type": "stream",
     "text": [
      "Validation Dice Score\n",
      "Class 0: 0.9896, Class 1: 0.8184, Class 2: 0.3963, Class 3: 0.6017, Class 4: 0.7944, Class 5: 0.6116, Class 6: 0.9259, \n",
      "Validation F-beta Score\n",
      "Class 0: 0.9871, Class 1: 0.9071, Class 2: 0.5887, Class 3: 0.6955, Class 4: 0.7895, Class 5: 0.7186, Class 6: 0.9324, \n",
      "Validation mIoU Score\n",
      "Class 0: 0.9794, Class 1: 0.6940, Class 2: 0.2547, Class 3: 0.4336, Class 4: 0.6598, Class 5: 0.4422, Class 6: 0.8622, \n",
      "\n",
      "Overall Mean Dice Score: 0.7504\n",
      "Overall Mean F-beta Score: 0.8086\n",
      "Overall Mean IoU Score: 0.6184\n",
      "Training Loss: 0.3879, Validation Loss: 0.3952, Validation F-beta: 0.7325\n",
      "Epoch 52/4000\n"
     ]
    },
    {
     "name": "stderr",
     "output_type": "stream",
     "text": [
      "Training: 100%|██████████| 564/564 [09:30<00:00,  1.01s/it, loss=0.345]\n",
      "Validation: 100%|██████████| 40/40 [00:24<00:00,  1.61it/s, loss=0.395]\n"
     ]
    },
    {
     "name": "stdout",
     "output_type": "stream",
     "text": [
      "Validation Dice Score\n",
      "Class 0: 0.9904, Class 1: 0.8079, Class 2: 0.3962, Class 3: 0.6136, Class 4: 0.8019, Class 5: 0.6404, Class 6: 0.9170, \n",
      "Validation F-beta Score\n",
      "Class 0: 0.9884, Class 1: 0.8890, Class 2: 0.6004, Class 3: 0.7105, Class 4: 0.8362, Class 5: 0.6648, Class 6: 0.9390, \n",
      "Validation mIoU Score\n",
      "Class 0: 0.9810, Class 1: 0.6799, Class 2: 0.2533, Class 3: 0.4451, Class 4: 0.6706, Class 5: 0.4727, Class 6: 0.8471, \n",
      "\n",
      "Overall Mean Dice Score: 0.7562\n",
      "Overall Mean F-beta Score: 0.8079\n",
      "Overall Mean IoU Score: 0.6231\n",
      "Training Loss: 0.3869, Validation Loss: 0.3949, Validation F-beta: 0.7340\n",
      "Epoch 53/4000\n"
     ]
    },
    {
     "name": "stderr",
     "output_type": "stream",
     "text": [
      "Training: 100%|██████████| 564/564 [09:27<00:00,  1.01s/it, loss=0.349]\n",
      "Validation: 100%|██████████| 40/40 [00:26<00:00,  1.49it/s, loss=0.409]\n"
     ]
    },
    {
     "name": "stdout",
     "output_type": "stream",
     "text": [
      "Validation Dice Score\n",
      "Class 0: 0.9894, Class 1: 0.8267, Class 2: 0.4069, Class 3: 0.5835, Class 4: 0.8106, Class 5: 0.6171, Class 6: 0.9237, \n",
      "Validation F-beta Score\n",
      "Class 0: 0.9861, Class 1: 0.9187, Class 2: 0.6246, Class 3: 0.7470, Class 4: 0.8257, Class 5: 0.7193, Class 6: 0.9470, \n",
      "Validation mIoU Score\n",
      "Class 0: 0.9791, Class 1: 0.7067, Class 2: 0.2610, Class 3: 0.4143, Class 4: 0.6824, Class 5: 0.4487, Class 6: 0.8587, \n",
      "\n",
      "Overall Mean Dice Score: 0.7523\n",
      "Overall Mean F-beta Score: 0.8315\n",
      "Overall Mean IoU Score: 0.6222\n",
      "Training Loss: 0.3880, Validation Loss: 0.3942, Validation F-beta: 0.7478\n",
      "========================================================\n",
      "SUPER Best model saved. Loss:0.3942, Score:0.7478\n",
      "========================================================\n",
      "Epoch 54/4000\n"
     ]
    },
    {
     "name": "stderr",
     "output_type": "stream",
     "text": [
      "Training: 100%|██████████| 564/564 [09:35<00:00,  1.02s/it, loss=0.37] \n",
      "Validation: 100%|██████████| 40/40 [00:27<00:00,  1.47it/s, loss=0.389]\n"
     ]
    },
    {
     "name": "stdout",
     "output_type": "stream",
     "text": [
      "Validation Dice Score\n",
      "Class 0: 0.9910, Class 1: 0.8112, Class 2: 0.4022, Class 3: 0.6008, Class 4: 0.8036, Class 5: 0.6451, Class 6: 0.9211, \n",
      "Validation F-beta Score\n",
      "Class 0: 0.9911, Class 1: 0.8529, Class 2: 0.6292, Class 3: 0.7053, Class 4: 0.7827, Class 5: 0.6161, Class 6: 0.9005, \n",
      "Validation mIoU Score\n",
      "Class 0: 0.9821, Class 1: 0.6835, Class 2: 0.2560, Class 3: 0.4334, Class 4: 0.6724, Class 5: 0.4781, Class 6: 0.8539, \n",
      "\n",
      "Overall Mean Dice Score: 0.7564\n",
      "Overall Mean F-beta Score: 0.7715\n",
      "Overall Mean IoU Score: 0.6243\n",
      "Training Loss: 0.3876, Validation Loss: 0.3947, Validation F-beta: 0.7126\n",
      "Epoch 55/4000\n"
     ]
    },
    {
     "name": "stderr",
     "output_type": "stream",
     "text": [
      "Training: 100%|██████████| 564/564 [09:40<00:00,  1.03s/it, loss=0.339]\n",
      "Validation: 100%|██████████| 40/40 [00:26<00:00,  1.51it/s, loss=0.374]\n"
     ]
    },
    {
     "name": "stdout",
     "output_type": "stream",
     "text": [
      "Validation Dice Score\n",
      "Class 0: 0.9904, Class 1: 0.8311, Class 2: 0.3604, Class 3: 0.6038, Class 4: 0.8043, Class 5: 0.6398, Class 6: 0.9270, \n",
      "Validation F-beta Score\n",
      "Class 0: 0.9886, Class 1: 0.9016, Class 2: 0.5597, Class 3: 0.7144, Class 4: 0.7940, Class 5: 0.7063, Class 6: 0.9333, \n",
      "Validation mIoU Score\n",
      "Class 0: 0.9809, Class 1: 0.7129, Class 2: 0.2242, Class 3: 0.4354, Class 4: 0.6740, Class 5: 0.4724, Class 6: 0.8643, \n",
      "\n",
      "Overall Mean Dice Score: 0.7612\n",
      "Overall Mean F-beta Score: 0.8099\n",
      "Overall Mean IoU Score: 0.6318\n",
      "Training Loss: 0.3881, Validation Loss: 0.3881, Validation F-beta: 0.7387\n",
      "Epoch 56/4000\n"
     ]
    },
    {
     "name": "stderr",
     "output_type": "stream",
     "text": [
      "Training: 100%|██████████| 564/564 [09:36<00:00,  1.02s/it, loss=0.353]\n",
      "Validation: 100%|██████████| 40/40 [00:27<00:00,  1.46it/s, loss=0.384]\n"
     ]
    },
    {
     "name": "stdout",
     "output_type": "stream",
     "text": [
      "Validation Dice Score\n",
      "Class 0: 0.9901, Class 1: 0.8237, Class 2: 0.3329, Class 3: 0.6070, Class 4: 0.7984, Class 5: 0.6270, Class 6: 0.9272, \n",
      "Validation F-beta Score\n",
      "Class 0: 0.9887, Class 1: 0.8809, Class 2: 0.5412, Class 3: 0.6725, Class 4: 0.7801, Class 5: 0.6903, Class 6: 0.9136, \n",
      "Validation mIoU Score\n",
      "Class 0: 0.9803, Class 1: 0.7022, Class 2: 0.2056, Class 3: 0.4392, Class 4: 0.6653, Class 5: 0.4581, Class 6: 0.8645, \n",
      "\n",
      "Overall Mean Dice Score: 0.7567\n",
      "Overall Mean F-beta Score: 0.7875\n",
      "Overall Mean IoU Score: 0.6259\n",
      "Training Loss: 0.3868, Validation Loss: 0.3979, Validation F-beta: 0.7228\n",
      "Epoch 57/4000\n"
     ]
    },
    {
     "name": "stderr",
     "output_type": "stream",
     "text": [
      "Training: 100%|██████████| 564/564 [09:40<00:00,  1.03s/it, loss=0.332]\n",
      "Validation: 100%|██████████| 40/40 [00:26<00:00,  1.49it/s, loss=0.38] \n"
     ]
    },
    {
     "name": "stdout",
     "output_type": "stream",
     "text": [
      "Validation Dice Score\n",
      "Class 0: 0.9910, Class 1: 0.8253, Class 2: 0.4013, Class 3: 0.6130, Class 4: 0.8047, Class 5: 0.6438, Class 6: 0.9250, \n",
      "Validation F-beta Score\n",
      "Class 0: 0.9897, Class 1: 0.9189, Class 2: 0.5956, Class 3: 0.7072, Class 4: 0.7978, Class 5: 0.6831, Class 6: 0.9269, \n",
      "Validation mIoU Score\n",
      "Class 0: 0.9821, Class 1: 0.7051, Class 2: 0.2588, Class 3: 0.4439, Class 4: 0.6744, Class 5: 0.4774, Class 6: 0.8607, \n",
      "\n",
      "Overall Mean Dice Score: 0.7623\n",
      "Overall Mean F-beta Score: 0.8068\n",
      "Overall Mean IoU Score: 0.6323\n",
      "Training Loss: 0.3863, Validation Loss: 0.3910, Validation F-beta: 0.7370\n",
      "Epoch 58/4000\n"
     ]
    },
    {
     "name": "stderr",
     "output_type": "stream",
     "text": [
      "Training: 100%|██████████| 564/564 [09:41<00:00,  1.03s/it, loss=0.331]\n",
      "Validation: 100%|██████████| 40/40 [00:26<00:00,  1.49it/s, loss=0.388]\n"
     ]
    },
    {
     "name": "stdout",
     "output_type": "stream",
     "text": [
      "Validation Dice Score\n",
      "Class 0: 0.9896, Class 1: 0.8366, Class 2: 0.3398, Class 3: 0.5633, Class 4: 0.8124, Class 5: 0.6304, Class 6: 0.9262, \n",
      "Validation F-beta Score\n",
      "Class 0: 0.9864, Class 1: 0.8837, Class 2: 0.5792, Class 3: 0.7206, Class 4: 0.8319, Class 5: 0.7195, Class 6: 0.9300, \n",
      "Validation mIoU Score\n",
      "Class 0: 0.9793, Class 1: 0.7205, Class 2: 0.2094, Class 3: 0.3952, Class 4: 0.6846, Class 5: 0.4625, Class 6: 0.8629, \n",
      "\n",
      "Overall Mean Dice Score: 0.7538\n",
      "Overall Mean F-beta Score: 0.8171\n",
      "Overall Mean IoU Score: 0.6251\n",
      "Training Loss: 0.3858, Validation Loss: 0.3942, Validation F-beta: 0.7403\n",
      "Epoch 59/4000\n"
     ]
    },
    {
     "name": "stderr",
     "output_type": "stream",
     "text": [
      "Training: 100%|██████████| 564/564 [09:27<00:00,  1.01s/it, loss=0.347]\n",
      "Validation: 100%|██████████| 40/40 [00:26<00:00,  1.49it/s, loss=0.393]\n"
     ]
    },
    {
     "name": "stdout",
     "output_type": "stream",
     "text": [
      "Validation Dice Score\n",
      "Class 0: 0.9909, Class 1: 0.8400, Class 2: 0.4163, Class 3: 0.6265, Class 4: 0.8004, Class 5: 0.6521, Class 6: 0.9287, \n",
      "Validation F-beta Score\n",
      "Class 0: 0.9910, Class 1: 0.8717, Class 2: 0.5571, Class 3: 0.7230, Class 4: 0.7686, Class 5: 0.6608, Class 6: 0.9245, \n",
      "Validation mIoU Score\n",
      "Class 0: 0.9821, Class 1: 0.7252, Class 2: 0.2679, Class 3: 0.4591, Class 4: 0.6680, Class 5: 0.4852, Class 6: 0.8673, \n",
      "\n",
      "Overall Mean Dice Score: 0.7695\n",
      "Overall Mean F-beta Score: 0.7897\n",
      "Overall Mean IoU Score: 0.6410\n",
      "Training Loss: 0.3871, Validation Loss: 0.3882, Validation F-beta: 0.7302\n",
      "Epoch 60/4000\n"
     ]
    },
    {
     "name": "stderr",
     "output_type": "stream",
     "text": [
      "Training: 100%|██████████| 564/564 [09:21<00:00,  1.00it/s, loss=0.358]\n",
      "Validation: 100%|██████████| 40/40 [00:32<00:00,  1.22it/s, loss=0.389]\n"
     ]
    },
    {
     "name": "stdout",
     "output_type": "stream",
     "text": [
      "Validation Dice Score\n",
      "Class 0: 0.9902, Class 1: 0.8176, Class 2: 0.4601, Class 3: 0.5863, Class 4: 0.8088, Class 5: 0.6481, Class 6: 0.9315, \n",
      "Validation F-beta Score\n",
      "Class 0: 0.9878, Class 1: 0.9202, Class 2: 0.5830, Class 3: 0.7460, Class 4: 0.8272, Class 5: 0.7190, Class 6: 0.9393, \n",
      "Validation mIoU Score\n",
      "Class 0: 0.9807, Class 1: 0.6935, Class 2: 0.3059, Class 3: 0.4175, Class 4: 0.6798, Class 5: 0.4813, Class 6: 0.8721, \n",
      "\n",
      "Overall Mean Dice Score: 0.7585\n",
      "Overall Mean F-beta Score: 0.8303\n",
      "Overall Mean IoU Score: 0.6288\n",
      "Training Loss: 0.3849, Validation Loss: 0.3911, Validation F-beta: 0.7497\n",
      "========================================================\n",
      "SUPER Best model saved. Loss:0.3911, Score:0.7497\n",
      "========================================================\n",
      "Epoch 61/4000\n"
     ]
    },
    {
     "name": "stderr",
     "output_type": "stream",
     "text": [
      "Training: 100%|██████████| 564/564 [09:39<00:00,  1.03s/it, loss=0.345]\n",
      "Validation: 100%|██████████| 40/40 [00:28<00:00,  1.41it/s, loss=0.377]\n"
     ]
    },
    {
     "name": "stdout",
     "output_type": "stream",
     "text": [
      "Validation Dice Score\n",
      "Class 0: 0.9904, Class 1: 0.8224, Class 2: 0.4484, Class 3: 0.6080, Class 4: 0.8134, Class 5: 0.6599, Class 6: 0.9284, \n",
      "Validation F-beta Score\n",
      "Class 0: 0.9879, Class 1: 0.9169, Class 2: 0.5956, Class 3: 0.7475, Class 4: 0.8453, Class 5: 0.7125, Class 6: 0.9473, \n",
      "Validation mIoU Score\n",
      "Class 0: 0.9810, Class 1: 0.7006, Class 2: 0.2967, Class 3: 0.4389, Class 4: 0.6863, Class 5: 0.4956, Class 6: 0.8668, \n",
      "\n",
      "Overall Mean Dice Score: 0.7664\n",
      "Overall Mean F-beta Score: 0.8339\n",
      "Overall Mean IoU Score: 0.6376\n",
      "Training Loss: 0.3852, Validation Loss: 0.3876, Validation F-beta: 0.7554\n",
      "========================================================\n",
      "SUPER Best model saved. Loss:0.3876, Score:0.7554\n",
      "========================================================\n",
      "Epoch 62/4000\n"
     ]
    },
    {
     "name": "stderr",
     "output_type": "stream",
     "text": [
      "Training: 100%|██████████| 564/564 [09:39<00:00,  1.03s/it, loss=0.351]\n",
      "Validation: 100%|██████████| 40/40 [00:25<00:00,  1.58it/s, loss=0.397]\n"
     ]
    },
    {
     "name": "stdout",
     "output_type": "stream",
     "text": [
      "Validation Dice Score\n",
      "Class 0: 0.9903, Class 1: 0.8045, Class 2: 0.3941, Class 3: 0.6127, Class 4: 0.8207, Class 5: 0.6273, Class 6: 0.9292, \n",
      "Validation F-beta Score\n",
      "Class 0: 0.9880, Class 1: 0.9234, Class 2: 0.5493, Class 3: 0.7216, Class 4: 0.8223, Class 5: 0.7139, Class 6: 0.9401, \n",
      "Validation mIoU Score\n",
      "Class 0: 0.9808, Class 1: 0.6746, Class 2: 0.2515, Class 3: 0.4438, Class 4: 0.6966, Class 5: 0.4590, Class 6: 0.8681, \n",
      "\n",
      "Overall Mean Dice Score: 0.7589\n",
      "Overall Mean F-beta Score: 0.8243\n",
      "Overall Mean IoU Score: 0.6284\n",
      "Training Loss: 0.3855, Validation Loss: 0.3937, Validation F-beta: 0.7459\n",
      "Epoch 63/4000\n"
     ]
    },
    {
     "name": "stderr",
     "output_type": "stream",
     "text": [
      "Training: 100%|██████████| 564/564 [09:29<00:00,  1.01s/it, loss=0.341]\n",
      "Validation: 100%|██████████| 40/40 [00:29<00:00,  1.35it/s, loss=0.397]\n"
     ]
    },
    {
     "name": "stdout",
     "output_type": "stream",
     "text": [
      "Validation Dice Score\n",
      "Class 0: 0.9908, Class 1: 0.8139, Class 2: 0.4179, Class 3: 0.6004, Class 4: 0.8088, Class 5: 0.6699, Class 6: 0.9298, \n",
      "Validation F-beta Score\n",
      "Class 0: 0.9894, Class 1: 0.9137, Class 2: 0.5932, Class 3: 0.7355, Class 4: 0.8164, Class 5: 0.6904, Class 6: 0.9363, \n",
      "Validation mIoU Score\n",
      "Class 0: 0.9817, Class 1: 0.6886, Class 2: 0.2704, Class 3: 0.4319, Class 4: 0.6798, Class 5: 0.5051, Class 6: 0.8692, \n",
      "\n",
      "Overall Mean Dice Score: 0.7645\n",
      "Overall Mean F-beta Score: 0.8185\n",
      "Overall Mean IoU Score: 0.6349\n",
      "Training Loss: 0.3855, Validation Loss: 0.3894, Validation F-beta: 0.7451\n",
      "Epoch 64/4000\n"
     ]
    },
    {
     "name": "stderr",
     "output_type": "stream",
     "text": [
      "Training:  77%|███████▋  | 432/564 [08:13<02:46,  1.26s/it, loss=0.343]"
     ]
    }
   ],
   "source": [
    "train_model(\n",
    "    model=model,\n",
    "    train_loader=train_loader,\n",
    "    val_loader=val_loader,\n",
    "    criterion=criterion,\n",
    "    optimizer=optimizer,\n",
    "    num_epochs=num_epochs,\n",
    "    patience=10,\n",
    "    device=device,\n",
    "    start_epoch=start_epoch,\n",
    "    best_val_loss=best_val_loss,\n",
    "    best_val_fbeta_score=best_val_fbeta_score,\n",
    "    calculate_dice_interval=1,\n",
    "    accumulation_steps = accumulation_steps\n",
    "    )"
   ]
  }
 ],
 "metadata": {
  "kernelspec": {
   "display_name": "czii",
   "language": "python",
   "name": "python3"
  },
  "language_info": {
   "codemirror_mode": {
    "name": "ipython",
    "version": 3
   },
   "file_extension": ".py",
   "mimetype": "text/x-python",
   "name": "python",
   "nbconvert_exporter": "python",
   "pygments_lexer": "ipython3",
   "version": "3.12.7"
  }
 },
 "nbformat": 4,
 "nbformat_minor": 2
}
