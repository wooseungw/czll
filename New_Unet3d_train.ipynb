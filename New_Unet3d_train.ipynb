{
 "cells": [
  {
   "cell_type": "code",
   "execution_count": null,
   "metadata": {},
   "outputs": [],
   "source": [
    "import os\n",
    "import shutil\n",
    "import tempfile\n",
    "\n",
    "import matplotlib.pyplot as plt\n",
    "from tqdm import tqdm\n",
    "\n",
    "import random\n",
    "import numpy as np\n",
    "import torch\n",
    "torch.backends.cudnn.benchmark = True\n",
    "\n",
    "from monai.losses import DiceCELoss\n",
    "from monai.inferers import sliding_window_inference\n",
    "from monai.transforms import (\n",
    "    AsDiscrete,\n",
    "    EnsureChannelFirstd,\n",
    "    Compose,\n",
    "    CropForegroundd,\n",
    "    LoadImaged,\n",
    "    Orientationd,\n",
    "    RandFlipd,\n",
    "    RandCropByPosNegLabeld,\n",
    "    RandShiftIntensityd,\n",
    "    ScaleIntensityRanged,\n",
    "    Spacingd,\n",
    "    RandRotate90d,\n",
    ")\n",
    "from monai.networks.layers.factories import Act, Norm\n",
    "from monai.config import print_config\n",
    "from monai.metrics import DiceMetric\n",
    "from monai.networks.nets import UNet\n",
    "\n",
    "from src.models import UNet_CBAM\n",
    "\n",
    "from monai.data import (\n",
    "    DataLoader,\n",
    "    CacheDataset,\n",
    "    load_decathlon_datalist,\n",
    "    decollate_batch,\n",
    ")\n",
    "\n",
    "# 랜덤 시드 고정\n",
    "def set_seed(seed):\n",
    "    random.seed(seed)\n",
    "    np.random.seed(seed)\n",
    "    torch.manual_seed(seed)\n",
    "    if torch.cuda.is_available():\n",
    "        torch.cuda.manual_seed_all(seed)\n",
    "\n",
    "set_seed(42)\n",
    "\n",
    "\n",
    "print_config()\n",
    "\n",
    "import torch\n",
    "import torch.nn as nn\n",
    "import torch.nn.functional as F\n",
    "from monai.losses import TverskyLoss\n",
    "\n",
    "# DynamicTverskyLoss 클래스 정의\n",
    "class DynamicTverskyLoss(TverskyLoss):\n",
    "    def __init__(self, lamda=0.5, **kwargs):\n",
    "        super().__init__(alpha=1 - lamda, beta=lamda, **kwargs)\n",
    "        self.lamda = lamda\n",
    "\n",
    "    def set_lamda(self, lamda):\n",
    "        self.lamda = lamda\n",
    "        self.alpha = 1 - lamda\n",
    "        self.beta = lamda\n",
    "\n",
    "\n",
    "# CombinedCETverskyLoss 클래스\n",
    "class CombinedCETverskyLoss(nn.Module):\n",
    "    def __init__(self, lamda=0.5, ce_weight=0.5, n_classes=7, class_weights=None, ignore_index=-1, **kwargs):\n",
    "        super().__init__()\n",
    "        self.n_classes = n_classes\n",
    "        self.ce_weight = ce_weight\n",
    "        self.ignore_index = ignore_index\n",
    "        \n",
    "        # CrossEntropyLoss에서 클래스별 가중치를 적용\n",
    "        self.ce = nn.CrossEntropyLoss(ignore_index=self.ignore_index, reduction='mean', **kwargs)\n",
    "        \n",
    "        # TverskyLoss\n",
    "        self.tversky = DynamicTverskyLoss(lamda=lamda, reduction=\"mean\",softmax=True, **kwargs)\n",
    "\n",
    "    def forward(self, inputs, targets):\n",
    "        \n",
    "        # CrossEntropyLoss는 정수형 클래스 인덱스를 사용\n",
    "        ce_loss = self.ce(inputs, targets)\n",
    "\n",
    "        # TverskyLoss 계산 (원핫 인코딩된 라벨을 사용)\n",
    "        \n",
    "        tversky_loss = self.tversky(inputs, targets)\n",
    "\n",
    "        # 최종 손실 계산\n",
    "        final_loss = self.ce_weight * ce_loss + (1 - self.ce_weight) * tversky_loss.mean()  # mean()으로 배치에 대해 평균\n",
    "        return final_loss\n",
    "\n",
    "    def set_lamda(self, lamda):\n",
    "        self.tversky.set_lamda(lamda)\n",
    "\n",
    "    @property\n",
    "    def lamda(self):\n",
    "        return self.tversky.lamda\n",
    "    \n",
    "import torch.optim as optim\n",
    "from tqdm import tqdm\n",
    "import numpy as np\n",
    "import torch\n",
    "from pathlib import Path\n",
    "from monai.metrics import DiceMetric\n",
    "\n"
   ]
  },
  {
   "cell_type": "code",
   "execution_count": 2,
   "metadata": {},
   "outputs": [
    {
     "name": "stdout",
     "output_type": "stream",
     "text": [
      "클래스 비율: {0: 0.0, 1: 0.16393442622950818, 2: 0.01639344262295082, 3: 0.2459016393442623, 4: 0.16393442622950818, 5: 0.2459016393442623, 6: 0.16393442622950818}\n",
      "최종 합계: 1.0\n",
      "클래스 비율 리스트: [0.0, 0.16393442622950818, 0.01639344262295082, 0.2459016393442623, 0.16393442622950818, 0.2459016393442623, 0.16393442622950818]\n"
     ]
    }
   ],
   "source": [
    "class_info = {\n",
    "    0: {\"name\": \"background\", \"weight\": 0},  # weight 없음\n",
    "    1: {\"name\": \"apo-ferritin\", \"weight\": 1000},\n",
    "    2: {\"name\": \"beta-amylase\", \"weight\": 100}, # 4130\n",
    "    3: {\"name\": \"beta-galactosidase\", \"weight\": 1500}, #3080\n",
    "    4: {\"name\": \"ribosome\", \"weight\": 1000},\n",
    "    5: {\"name\": \"thyroglobulin\", \"weight\": 1500},\n",
    "    6: {\"name\": \"virus-like-particle\", \"weight\": 1000},\n",
    "}\n",
    "\n",
    "# 가중치에 비례한 비율 계산\n",
    "raw_ratios = {\n",
    "    k: (v[\"weight\"] if v[\"weight\"] is not None else 0.01)  # 가중치 비례, None일 경우 기본값a\n",
    "    for k, v in class_info.items()\n",
    "}\n",
    "total = sum(raw_ratios.values())\n",
    "ratios = {k: v / total for k, v in raw_ratios.items()}\n",
    "\n",
    "# 최종 합계가 1인지 확인\n",
    "final_total = sum(ratios.values())\n",
    "print(\"클래스 비율:\", ratios)\n",
    "print(\"최종 합계:\", final_total)\n",
    "\n",
    "# 비율을 리스트로 변환\n",
    "ratios_list = [ratios[k] for k in sorted(ratios.keys())]\n",
    "print(\"클래스 비율 리스트:\", ratios_list)"
   ]
  },
  {
   "cell_type": "markdown",
   "metadata": {},
   "source": [
    "# 모델 설정"
   ]
  },
  {
   "cell_type": "code",
   "execution_count": 3,
   "metadata": {},
   "outputs": [],
   "source": [
    "from src.dataset.dataset import create_dataloaders\n",
    "from src.dataset.dataset_csv import create_dataloaders_from_csv\n",
    "from monai.transforms import (\n",
    "    Compose, LoadImaged, EnsureChannelFirstd, NormalizeIntensityd,\n",
    "    Orientationd, CropForegroundd, GaussianSmoothd, ScaleIntensityd,\n",
    "    RandSpatialCropd, RandRotate90d, RandFlipd, RandGaussianNoised,\n",
    "    ToTensord, RandCropByLabelClassesd, RandAdjustContrastd,RandKSpaceSpikeNoised,\n",
    "    RandGaussianSmoothd, RandHistogramShiftd\n",
    ")\n",
    "from monai.transforms import CastToTyped\n",
    "import numpy as np\n",
    "\n",
    "train_csv = './datasets/train.csv'\n",
    "val_csv = './datasets/val.csv'\n",
    "# DATA CONFIG\n",
    "img_size =  96 # Match your patch size\n",
    "img_depth = 32\n",
    "n_classes = 7\n",
    "batch_size = 64 # 13.8GB GPU memory required for 128x128 img size\n",
    "num_samples = batch_size # 한 이미지에서 뽑을 샘플 수\n",
    "loader_batch = 1\n",
    "num_repeat = 2\n",
    "val_num_repeat = 5\n",
    "# MODEL CONFIG\n",
    "num_epochs = 4000\n",
    "lamda = 0.7\n",
    "ce_weight = 0.4\n",
    "lr = 0.001\n",
    "\n",
    "use_checkpoint = False\n",
    "dropout = 0.25\n",
    "feature_size = [32, 64, 128, 256]\n",
    "\n",
    "#conv_op = nn.Conv3d\n",
    "\n",
    "# CLASS_WEIGHTS\n",
    "class_weights = None\n",
    "class_weights = torch.tensor([1, 1, 1, 1, 1, 1, 1], dtype=torch.float32)  # 클래스별 가중치\n",
    "accumulation_steps = 1\n",
    "# INIT\n",
    "start_epoch = 0\n",
    "best_val_loss = float('inf')\n",
    "best_val_fbeta_score = 0\n",
    "\n",
    "train_non_random_transforms = Compose([\n",
    "    EnsureChannelFirstd(keys=[\"image\", \"label\"], channel_dim=\"no_channel\"),\n",
    "    Orientationd(keys=[\"image\", \"label\"], axcodes=\"RAS\"),\n",
    "    # GaussianSmoothd(\n",
    "    #     keys=[\"image\"],      # 변환을 적용할 키\n",
    "    #     sigma=[2.0, 2.0, 2.0]  # 각 축(x, y, z)의 시그마 값\n",
    "    #     ),\n",
    "    NormalizeIntensityd(keys=\"image\"),\n",
    "    ])\n",
    "\n",
    "val_non_random_transforms = Compose([\n",
    "    EnsureChannelFirstd(keys=[\"image\", \"label\"], channel_dim=\"no_channel\"),\n",
    "    Orientationd(keys=[\"image\", \"label\"], axcodes=\"RAS\"),\n",
    "    NormalizeIntensityd(keys=\"image\"),\n",
    "    # GaussianSmoothd(\n",
    "    #     keys=[\"image\"],      # 변환을 적용할 키\n",
    "    #     sigma=[2.0, 2.0, 2.0]  # 각 축(x, y, z)의 시그마 값\n",
    "    #     ),\n",
    "    ])\n",
    "\n",
    "train_random_transforms = Compose([\n",
    "    RandCropByLabelClassesd(\n",
    "        keys=[\"image\", \"label\"],\n",
    "        label_key=\"label\",\n",
    "        spatial_size=[img_depth, img_size, img_size],\n",
    "        num_classes=n_classes,\n",
    "        num_samples=num_samples, \n",
    "        ratios=ratios_list,\n",
    "    ),\n",
    "    RandAdjustContrastd(keys=\"image\", prob=0.5, gamma=(0.5, 4.5)),\n",
    "    \n",
    "    RandRotate90d(keys=[\"image\", \"label\"], prob=0.5, spatial_axes=[1, 2]),\n",
    "    RandFlipd(keys=[\"image\", \"label\"], prob=0.5, spatial_axis=0),\n",
    "    RandFlipd(keys=[\"image\", \"label\"], prob=0.5, spatial_axis=1),\n",
    "    RandFlipd(keys=[\"image\", \"label\"], prob=0.5, spatial_axis=2),\n",
    "])\n",
    "\n",
    "val_random_transforms = Compose([\n",
    "    RandCropByLabelClassesd(\n",
    "        keys=[\"image\", \"label\"],\n",
    "        label_key=\"label\",\n",
    "        spatial_size=[img_depth, img_size, img_size],\n",
    "        num_classes=n_classes,\n",
    "        num_samples=num_samples, \n",
    "        ratios=ratios_list,\n",
    "    ),\n",
    "    RandRotate90d(keys=[\"image\", \"label\"], prob=0.5, spatial_axes=[1, 2]),\n",
    "    RandFlipd(keys=[\"image\", \"label\"], prob=0.5, spatial_axis=0),\n",
    "    RandFlipd(keys=[\"image\", \"label\"], prob=0.5, spatial_axis=1),\n",
    "    RandFlipd(keys=[\"image\", \"label\"], prob=0.5, spatial_axis=2),\n",
    "])\n"
   ]
  },
  {
   "cell_type": "code",
   "execution_count": null,
   "metadata": {},
   "outputs": [
    {
     "name": "stderr",
     "output_type": "stream",
     "text": [
      "Loading dataset: 100%|██████████| 26/26 [00:03<00:00,  7.20it/s]\n"
     ]
    }
   ],
   "source": [
    "train_loader, val_loader = None, None\n",
    "train_loader, val_loader = create_dataloaders_from_csv(\n",
    "    train_csv,\n",
    "    val_csv, \n",
    "    train_non_random_transforms = train_non_random_transforms, \n",
    "    val_non_random_transforms=val_non_random_transforms,\n",
    "    train_random_transforms=train_random_transforms,\n",
    "    val_random_transforms=val_random_transforms,\n",
    "    batch_size = loader_batch,\n",
    "    num_workers=0,train_num_repeat=num_repeat, val_num_repeat=val_num_repeat\n",
    "    )"
   ]
  },
  {
   "cell_type": "markdown",
   "metadata": {},
   "source": [
    "https://monai.io/model-zoo.html"
   ]
  },
  {
   "cell_type": "code",
   "execution_count": 5,
   "metadata": {},
   "outputs": [],
   "source": []
  },
  {
   "cell_type": "markdown",
   "metadata": {},
   "source": [
    "# 모델 선언"
   ]
  },
  {
   "cell_type": "code",
   "execution_count": null,
   "metadata": {},
   "outputs": [],
   "source": [
    "\n",
    "\n",
    "device = torch.device(\"cuda\" if torch.cuda.is_available() else \"cpu\")\n",
    "\n",
    "model = UNet(\n",
    "    spatial_dims=3,\n",
    "    in_channels=1,\n",
    "    out_channels=n_classes,\n",
    "    channels=feature_size,\n",
    "    strides=(2,2,2),\n",
    "    dropout=dropout,\n",
    ").to(device)\n",
    "# Pretrained weights 불러오기\n",
    "# if use_checkpoint:\n",
    "#     pretrain_path = \"./model_checkpoints/UNet_10441_a1_96x96x96_e4000_lr0.001_lamda0.5_ce0.4_no_weighted/best_model.pt\"\n",
    "#     weight = torch.load(pretrain_path, map_location=device)\n",
    "#     # strict=False로 로드하여 불일치하는 부분 무시\n",
    "#     model.load_state_dict(weight, strict=False)\n",
    "#     print(\"Weights loaded successfully. Output layer will be trained from scratch.\")\n",
    "\n",
    "# Load pretrained weights\n",
    "# model.load_from(weights=np.load(config_vit.real_pretrained_path, allow_pickle=True))\n",
    "# TverskyLoss 설정\n",
    "# 사용 예시\n",
    "criterion = CombinedCETverskyLoss(\n",
    "    lamda=lamda,\n",
    "    ce_weight=ce_weight,\n",
    "    n_classes=n_classes,\n",
    "    class_weights=class_weights,\n",
    "    \n",
    ").to(device)\n",
    "\n",
    "pretrain_str = \"yes\" if use_checkpoint else \"no\"\n",
    "weight_str = \"weighted\" if class_weights is not None else \"\"\n",
    "\n",
    "# 체크포인트 디렉토리 및 파일 설정\n",
    "checkpoint_base_dir = Path(\"./model_checkpoints\")\n",
    "folder_name = f\"UNet_actnorm_10441_a{accumulation_steps}_{img_size}x{img_size}x{img_size}_e{num_epochs}_lr{lr}_lamda{lamda}_ce{ce_weight}_{pretrain_str}_{weight_str}\"\n",
    "checkpoint_dir = checkpoint_base_dir / folder_name\n",
    "optimizer = optim.AdamW(model.parameters(), lr=lr, weight_decay=1e-5)\n",
    "scheduler = torch.optim.lr_scheduler.ReduceLROnPlateau(optimizer, patience=5, factor=0.5)\n",
    "# 체크포인트 디렉토리 생성\n",
    "checkpoint_dir.mkdir(parents=True, exist_ok=True)\n",
    "\n",
    "if checkpoint_dir.exists():\n",
    "    best_model_path = checkpoint_dir / 'best_model.pt'\n",
    "    if best_model_path.exists():\n",
    "        print(f\"기존 best model 발견: {best_model_path}\")\n",
    "        try:\n",
    "            checkpoint = torch.load(best_model_path, map_location=device)\n",
    "            # 체크포인트 내부 키 검증\n",
    "            required_keys = ['model_state_dict', 'optimizer_state_dict', 'epoch', 'best_val_loss']\n",
    "            if all(k in checkpoint for k in required_keys):\n",
    "                model.load_state_dict(checkpoint['model_state_dict'])\n",
    "                optimizer.load_state_dict(checkpoint['optimizer_state_dict'])\n",
    "                start_epoch = checkpoint['epoch']\n",
    "                best_val_loss = checkpoint['best_val_loss']\n",
    "                print(\"기존 학습된 가중치를 성공적으로 로드했습니다.\")\n",
    "                checkpoint= None\n",
    "            else:\n",
    "                raise ValueError(\"체크포인트 파일에 필요한 key가 없습니다.\")\n",
    "        except Exception as e:\n",
    "            print(f\"체크포인트 파일을 로드하는 중 오류 발생: {e}\")"
   ]
  },
  {
   "cell_type": "code",
   "execution_count": 6,
   "metadata": {},
   "outputs": [],
   "source": [
    "# batch = next(iter(val_loader))\n",
    "# images, labels = batch[\"image\"], batch[\"label\"]\n",
    "# print(images.shape, labels.shape)"
   ]
  },
  {
   "cell_type": "code",
   "execution_count": 8,
   "metadata": {},
   "outputs": [],
   "source": []
  },
  {
   "cell_type": "code",
   "execution_count": null,
   "metadata": {},
   "outputs": [
    {
     "name": "stderr",
     "output_type": "stream",
     "text": [
      "\u001b[34m\u001b[1mwandb\u001b[0m: Currently logged in as: \u001b[33mwoow070840\u001b[0m (\u001b[33mwaooang\u001b[0m). Use \u001b[1m`wandb login --relogin`\u001b[0m to force relogin\n",
      "\u001b[34m\u001b[1mwandb\u001b[0m: Using wandb-core as the SDK backend.  Please refer to https://wandb.me/wandb-core for more information.\n"
     ]
    },
    {
     "data": {
      "text/html": [
       "Tracking run with wandb version 0.19.2"
      ],
      "text/plain": [
       "<IPython.core.display.HTML object>"
      ]
     },
     "metadata": {},
     "output_type": "display_data"
    },
    {
     "data": {
      "text/html": [
       "Run data is saved locally in <code>e:\\Workspace\\czll\\wandb\\run-20250120_170934-zp1d5dtz</code>"
      ],
      "text/plain": [
       "<IPython.core.display.HTML object>"
      ]
     },
     "metadata": {},
     "output_type": "display_data"
    },
    {
     "data": {
      "text/html": [
       "Syncing run <strong><a href='https://wandb.ai/waooang/czii_SwinUnetR/runs/zp1d5dtz' target=\"_blank\">UNet_actnorm_10441_a1_96x96x96_e4000_lr0.001_lamda0.7_ce0.4_no_weighted</a></strong> to <a href='https://wandb.ai/waooang/czii_SwinUnetR' target=\"_blank\">Weights & Biases</a> (<a href='https://wandb.me/developer-guide' target=\"_blank\">docs</a>)<br>"
      ],
      "text/plain": [
       "<IPython.core.display.HTML object>"
      ]
     },
     "metadata": {},
     "output_type": "display_data"
    },
    {
     "data": {
      "text/html": [
       " View project at <a href='https://wandb.ai/waooang/czii_SwinUnetR' target=\"_blank\">https://wandb.ai/waooang/czii_SwinUnetR</a>"
      ],
      "text/plain": [
       "<IPython.core.display.HTML object>"
      ]
     },
     "metadata": {},
     "output_type": "display_data"
    },
    {
     "data": {
      "text/html": [
       " View run at <a href='https://wandb.ai/waooang/czii_SwinUnetR/runs/zp1d5dtz' target=\"_blank\">https://wandb.ai/waooang/czii_SwinUnetR/runs/zp1d5dtz</a>"
      ],
      "text/plain": [
       "<IPython.core.display.HTML object>"
      ]
     },
     "metadata": {},
     "output_type": "display_data"
    }
   ],
   "source": [
    "import wandb\n",
    "from datetime import datetime\n",
    "\n",
    "current_time = datetime.now().strftime('%Y%m%d_%H%M%S')\n",
    "run_name = folder_name\n",
    "\n",
    "# wandb 초기화\n",
    "wandb.init(\n",
    "    project='czii_SwinUnetR',  # 프로젝트 이름 설정\n",
    "    name=run_name,         # 실행(run) 이름 설정\n",
    "    config={\n",
    "        'num_epochs': num_epochs,\n",
    "        'learning_rate': lr,\n",
    "        'batch_size': batch_size,\n",
    "        'lambda': lamda,\n",
    "        \"cross_entropy_weight\": ce_weight,\n",
    "        'feature_size': feature_size,\n",
    "        'img_size': img_size,\n",
    "        'sampling_ratio': ratios_list,\n",
    "        'device': device.type,\n",
    "        \"checkpoint_dir\": str(checkpoint_dir),\n",
    "        \"class_weights\": class_weights.tolist() if class_weights is not None else None,\n",
    "        \"use_checkpoint\": use_checkpoint,\n",
    "        \"dropout\": dropout,        \n",
    "        \"accumulation_steps\": accumulation_steps,\n",
    "        \"num_repeat\": num_repeat,\n",
    "        \n",
    "        # 필요한 하이퍼파라미터 추가\n",
    "    }\n",
    ")\n",
    "# 모델을 wandb에 연결\n",
    "wandb.watch(model, log='all')"
   ]
  },
  {
   "cell_type": "markdown",
   "metadata": {},
   "source": [
    "# 학습"
   ]
  },
  {
   "cell_type": "code",
   "execution_count": 8,
   "metadata": {},
   "outputs": [],
   "source": [
    "from monai.metrics import DiceMetric\n",
    "    \n",
    "def processing(batch_data, model, criterion, device):\n",
    "    images = batch_data['image'].to(device)  # Input 이미지 (B, 1, 96, 96, 96)\n",
    "    labels = batch_data['label'].to(device)  # 라벨 (B, 96, 96, 96)\n",
    "\n",
    "    labels = labels.squeeze(1)  # (B, 1, 96, 96, 96) → (B, 96, 96, 96)\n",
    "    labels = labels.long()  # 라벨을 정수형으로 변환\n",
    "\n",
    "    # 원핫 인코딩 (B, H, W, D) → (B, num_classes, H, W, D)\n",
    "    \n",
    "    labels_onehot = torch.nn.functional.one_hot(labels, num_classes=n_classes)\n",
    "    labels_onehot = labels_onehot.permute(0, 4, 1, 2, 3).float()  # (B, num_classes, H, W, D)\n",
    "\n",
    "    # 모델 예측\n",
    "    outputs = model(images)  # outputs: (B, num_classes, H, W, D)\n",
    "\n",
    "    # Loss 계산\n",
    "    # loss = criterion(outputs, labels_onehot)\n",
    "    loss = criterion(outputs, labels_onehot)\n",
    "    return loss, outputs, labels, outputs.argmax(dim=1)\n",
    "\n",
    "def train_one_epoch(model, train_loader, criterion, optimizer, device, epoch, accumulation_steps=4):\n",
    "    model.train()\n",
    "    epoch_loss = 0\n",
    "    optimizer.zero_grad()  # 그래디언트 초기화\n",
    "    with tqdm(train_loader, desc='Training') as pbar:\n",
    "        for i, batch_data in enumerate(pbar):\n",
    "            # 손실 계산\n",
    "            loss, _, _, _ = processing(batch_data, model, criterion, device)\n",
    "\n",
    "            # 그래디언트를 계산하고 누적\n",
    "            loss = loss / accumulation_steps  # 그래디언트 누적을 위한 스케일링\n",
    "            loss.backward()  # 그래디언트 계산 및 누적\n",
    "            \n",
    "            # 그래디언트 업데이트 (accumulation_steps마다 한 번)\n",
    "            if (i + 1) % accumulation_steps == 0 or (i + 1) == len(train_loader):\n",
    "                optimizer.step()  # 파라미터 업데이트\n",
    "                optimizer.zero_grad()  # 누적된 그래디언트 초기화\n",
    "            \n",
    "            # 손실값 누적 (스케일링 복구)\n",
    "            epoch_loss += loss.item() * accumulation_steps  # 실제 손실값 반영\n",
    "            pbar.set_postfix(loss=loss.item() * accumulation_steps)  # 실제 손실값 출력\n",
    "    avg_loss = epoch_loss / len(train_loader)\n",
    "    wandb.log({'train_epoch_loss': avg_loss, 'epoch': epoch + 1})\n",
    "    return avg_loss\n",
    "\n",
    "\n",
    "def validate_one_epoch(model, val_loader, criterion, device, epoch, calculate_dice_interval):\n",
    "    model.eval()\n",
    "    val_loss = 0\n",
    "    \n",
    "    class_dice_scores = {i: [] for i in range(n_classes)}\n",
    "    class_f_beta_scores = {i: [] for i in range(n_classes)}\n",
    "    with torch.no_grad():\n",
    "        with tqdm(val_loader, desc='Validation') as pbar:\n",
    "            for batch_data in pbar:\n",
    "                loss, _, labels, preds = processing(batch_data, model, criterion, device)\n",
    "                val_loss += loss.item()\n",
    "                pbar.set_postfix(loss=loss.item())\n",
    "\n",
    "                # 각 클래스별 Dice 점수 계산\n",
    "                if epoch % calculate_dice_interval == 0:\n",
    "                    for i in range(n_classes):\n",
    "                        pred_i = (preds == i)\n",
    "                        label_i = (labels == i)\n",
    "                        dice_score = (2.0 * torch.sum(pred_i & label_i)) / (torch.sum(pred_i) + torch.sum(label_i) + 1e-8)\n",
    "                        class_dice_scores[i].append(dice_score.item())\n",
    "                        precision = (torch.sum(pred_i & label_i) + 1e-8) / (torch.sum(pred_i) + 1e-8)\n",
    "                        recall = (torch.sum(pred_i & label_i) + 1e-8) / (torch.sum(label_i) + 1e-8)\n",
    "                        f_beta_score = (1 + 4**2) * (precision * recall) / (4**2 * precision + recall + 1e-8)\n",
    "                        class_f_beta_scores[i].append(f_beta_score.item())\n",
    "\n",
    "    avg_loss = val_loss / len(val_loader)\n",
    "    # 에포크별 평균 손실 로깅\n",
    "    wandb.log({'val_epoch_loss': avg_loss, 'epoch': epoch + 1})\n",
    "    \n",
    "    # 각 클래스별 평균 Dice 점수 출력\n",
    "    if epoch % calculate_dice_interval == 0:\n",
    "        print(\"Validation Dice Score\")\n",
    "        all_classes_dice_scores = []\n",
    "        for i in range(n_classes):\n",
    "            mean_dice = np.mean(class_dice_scores[i])\n",
    "            wandb.log({f'class_{i}_dice_score': mean_dice, 'epoch': epoch + 1})\n",
    "            print(f\"Class {i}: {mean_dice:.4f}\", end=\", \")\n",
    "            if i not in [0, 2]:  # 평균에 포함할 클래스만 추가\n",
    "                all_classes_dice_scores.append(mean_dice)\n",
    "            \n",
    "        print()\n",
    "    if epoch % calculate_dice_interval == 0:\n",
    "        print(\"Validation F-beta Score\")\n",
    "        all_classes_fbeta_scores = []\n",
    "        for i in range(n_classes):\n",
    "            mean_fbeta = np.mean(class_f_beta_scores[i])\n",
    "            wandb.log({f'class_{i}_f_beta_score': mean_fbeta, 'epoch': epoch + 1})\n",
    "            print(f\"Class {i}: {mean_fbeta:.4f}\", end=\", \")\n",
    "            if i not in [0, 2]:  # 평균에 포함할 클래스만 추가\n",
    "                all_classes_fbeta_scores.append(mean_fbeta)\n",
    "        print()\n",
    "        overall_mean_dice = np.mean(all_classes_dice_scores)\n",
    "        overall_mean_fbeta = np.mean(all_classes_fbeta_scores)\n",
    "        wandb.log({'overall_mean_f_beta_score': overall_mean_fbeta, 'overall_mean_dice_score': overall_mean_dice, 'epoch': epoch + 1})\n",
    "        print(f\"\\nOverall Mean Dice Score: {overall_mean_dice:.4f}\\nOverall Mean F-beta Score: {overall_mean_fbeta:.4f}\\n\")\n",
    "\n",
    "    if overall_mean_fbeta is None:\n",
    "        overall_mean_fbeta = 0\n",
    "\n",
    "    return val_loss / len(val_loader), overall_mean_fbeta\n",
    "\n",
    "def train_model(\n",
    "    model, train_loader, val_loader, criterion, optimizer, num_epochs, patience, \n",
    "    device, start_epoch, best_val_loss, best_val_fbeta_score, calculate_dice_interval=1,\n",
    "    accumulation_steps=4\n",
    "):\n",
    "    \"\"\"\n",
    "    모델을 학습하고 검증하는 함수\n",
    "    Args:\n",
    "        model: 학습할 모델\n",
    "        train_loader: 학습 데이터 로더\n",
    "        val_loader: 검증 데이터 로더\n",
    "        criterion: 손실 함수\n",
    "        optimizer: 최적화 알고리즘\n",
    "        num_epochs: 총 학습 epoch 수\n",
    "        patience: early stopping 기준\n",
    "        device: GPU/CPU 장치\n",
    "        start_epoch: 시작 epoch\n",
    "        best_val_loss: 이전 최적 validation loss\n",
    "        best_val_fbeta_score: 이전 최적 validation f-beta score\n",
    "        calculate_dice_interval: Dice 점수 계산 주기\n",
    "    \"\"\"\n",
    "    epochs_no_improve = 0\n",
    "\n",
    "    for epoch in range(start_epoch, num_epochs):\n",
    "        print(f\"Epoch {epoch + 1}/{num_epochs}\")\n",
    "\n",
    "        # Train One Epoch\n",
    "        train_loss = train_one_epoch(\n",
    "            model=model, \n",
    "            train_loader=train_loader, \n",
    "            criterion=criterion, \n",
    "            optimizer=optimizer, \n",
    "            device=device,\n",
    "            epoch=epoch,\n",
    "            accumulation_steps= accumulation_steps\n",
    "        )\n",
    "        \n",
    "        scheduler.step(train_loss)\n",
    "        # Validate One Epoch\n",
    "        val_loss, overall_mean_fbeta_score = validate_one_epoch(\n",
    "            model=model, \n",
    "            val_loader=val_loader, \n",
    "            criterion=criterion, \n",
    "            device=device, \n",
    "            epoch=epoch, \n",
    "            calculate_dice_interval=calculate_dice_interval\n",
    "        )\n",
    "\n",
    "        \n",
    "        print(f\"Training Loss: {train_loss:.4f}, Validation Loss: {val_loss:.4f}, Validation F-beta: {overall_mean_fbeta_score:.4f}\")\n",
    "\n",
    "        if val_loss < best_val_loss and overall_mean_fbeta_score > best_val_fbeta_score:\n",
    "            best_val_loss = val_loss\n",
    "            best_val_fbeta_score = overall_mean_fbeta_score\n",
    "            epochs_no_improve = 0\n",
    "            checkpoint_path = os.path.join(checkpoint_dir, 'best_model.pt')\n",
    "            torch.save({\n",
    "                'epoch': epoch + 1,\n",
    "                'model_state_dict': model.state_dict(),\n",
    "                'optimizer_state_dict': optimizer.state_dict(),\n",
    "                'best_val_loss': best_val_loss,\n",
    "                'best_val_fbeta_score': best_val_fbeta_score\n",
    "            }, checkpoint_path)\n",
    "            print(f\"========================================================\")\n",
    "            print(f\"SUPER Best model saved. Loss:{best_val_loss:.4f}, Score:{best_val_fbeta_score:.4f}\")\n",
    "            print(f\"========================================================\")\n",
    "\n",
    "        # Early stopping 조건 체크\n",
    "        if val_loss >= best_val_loss and overall_mean_fbeta_score <= best_val_fbeta_score:\n",
    "            epochs_no_improve += 1\n",
    "        else:\n",
    "            epochs_no_improve = 0\n",
    "\n",
    "        if epochs_no_improve >= patience:\n",
    "            print(\"Early stopping\")\n",
    "            checkpoint_path = os.path.join(checkpoint_dir, 'last.pt')\n",
    "            torch.save({\n",
    "                'epoch': epoch + 1,\n",
    "                'model_state_dict': model.state_dict(),\n",
    "                'optimizer_state_dict': optimizer.state_dict(),\n",
    "                'best_val_loss': best_val_loss,\n",
    "                'best_val_fbeta_score': best_val_fbeta_score\n",
    "            }, checkpoint_path)\n",
    "            break\n",
    "        # if epochs_no_improve%6 == 0:\n",
    "        #     # 손실이 개선되지 않았으므로 lambda 감소\n",
    "        #     new_lamda = max(criterion.lamda - 0.01, 0.1)  # 최소값은 0.1로 설정\n",
    "        #     criterion.set_lamda(new_lamda)\n",
    "        #     print(f\"Validation loss did not improve. Reducing lambda to {new_lamda:.4f}\")\n",
    "\n",
    "    wandb.finish()\n"
   ]
  },
  {
   "cell_type": "code",
   "execution_count": 9,
   "metadata": {},
   "outputs": [
    {
     "name": "stdout",
     "output_type": "stream",
     "text": [
      "Epoch 1/4000\n"
     ]
    },
    {
     "name": "stderr",
     "output_type": "stream",
     "text": [
      "Training: 100%|██████████| 66/66 [01:04<00:00,  1.03it/s, loss=0.6]  \n",
      "Validation: 100%|██████████| 5/5 [00:03<00:00,  1.53it/s, loss=0.599]\n"
     ]
    },
    {
     "name": "stdout",
     "output_type": "stream",
     "text": [
      "Validation Dice Score\n",
      "Class 0: 0.9840, Class 1: 0.0118, Class 2: 0.0002, Class 3: 0.0007, Class 4: 0.2542, Class 5: 0.0050, Class 6: 0.0033, \n",
      "Validation F-beta Score\n",
      "Class 0: 0.9886, Class 1: 0.0111, Class 2: 0.0001, Class 3: 0.0004, Class 4: 0.3058, Class 5: 0.0027, Class 6: 0.0017, \n",
      "\n",
      "Overall Mean Dice Score: 0.0550\n",
      "Overall Mean F-beta Score: 0.0643\n",
      "\n",
      "Training Loss: 0.7870, Validation Loss: 0.5989, Validation F-beta: 0.0643\n",
      "========================================================\n",
      "SUPER Best model saved. Loss:0.5989, Score:0.0643\n",
      "========================================================\n",
      "Epoch 2/4000\n"
     ]
    },
    {
     "name": "stderr",
     "output_type": "stream",
     "text": [
      "Training: 100%|██████████| 66/66 [00:49<00:00,  1.33it/s, loss=0.564]\n",
      "Validation: 100%|██████████| 5/5 [00:03<00:00,  1.50it/s, loss=0.577]\n"
     ]
    },
    {
     "name": "stdout",
     "output_type": "stream",
     "text": [
      "Validation Dice Score\n",
      "Class 0: 0.9823, Class 1: 0.0007, Class 2: 0.0001, Class 3: 0.0004, Class 4: 0.2960, Class 5: 0.0008, Class 6: 0.0011, \n",
      "Validation F-beta Score\n",
      "Class 0: 0.9790, Class 1: 0.0004, Class 2: 0.0001, Class 3: 0.0002, Class 4: 0.5125, Class 5: 0.0004, Class 6: 0.0006, \n",
      "\n",
      "Overall Mean Dice Score: 0.0598\n",
      "Overall Mean F-beta Score: 0.1028\n",
      "\n",
      "Training Loss: 0.5831, Validation Loss: 0.5727, Validation F-beta: 0.1028\n",
      "========================================================\n",
      "SUPER Best model saved. Loss:0.5727, Score:0.1028\n",
      "========================================================\n",
      "Epoch 3/4000\n"
     ]
    },
    {
     "name": "stderr",
     "output_type": "stream",
     "text": [
      "Training: 100%|██████████| 66/66 [00:48<00:00,  1.35it/s, loss=0.555]\n",
      "Validation: 100%|██████████| 5/5 [00:04<00:00,  1.07it/s, loss=0.563]\n"
     ]
    },
    {
     "name": "stdout",
     "output_type": "stream",
     "text": [
      "Validation Dice Score\n",
      "Class 0: 0.9827, Class 1: 0.0000, Class 2: 0.0000, Class 3: 0.0000, Class 4: 0.2962, Class 5: 0.0009, Class 6: 0.0069, \n",
      "Validation F-beta Score\n",
      "Class 0: 0.9776, Class 1: 0.0000, Class 2: 0.0000, Class 3: 0.0000, Class 4: 0.5540, Class 5: 0.0005, Class 6: 0.0038, \n",
      "\n",
      "Overall Mean Dice Score: 0.0608\n",
      "Overall Mean F-beta Score: 0.1117\n",
      "\n",
      "Training Loss: 0.5622, Validation Loss: 0.5633, Validation F-beta: 0.1117\n",
      "========================================================\n",
      "SUPER Best model saved. Loss:0.5633, Score:0.1117\n",
      "========================================================\n",
      "Epoch 4/4000\n"
     ]
    },
    {
     "name": "stderr",
     "output_type": "stream",
     "text": [
      "Training: 100%|██████████| 66/66 [00:48<00:00,  1.36it/s, loss=0.536]\n",
      "Validation: 100%|██████████| 5/5 [00:03<00:00,  1.52it/s, loss=0.555]\n"
     ]
    },
    {
     "name": "stdout",
     "output_type": "stream",
     "text": [
      "Validation Dice Score\n",
      "Class 0: 0.9818, Class 1: 0.0003, Class 2: 0.0000, Class 3: 0.0939, Class 4: 0.3548, Class 5: 0.0224, Class 6: 0.0705, \n",
      "Validation F-beta Score\n",
      "Class 0: 0.9758, Class 1: 0.0002, Class 2: 0.0000, Class 3: 0.0700, Class 4: 0.5953, Class 5: 0.0126, Class 6: 0.0484, \n",
      "\n",
      "Overall Mean Dice Score: 0.1084\n",
      "Overall Mean F-beta Score: 0.1453\n",
      "\n",
      "Training Loss: 0.5496, Validation Loss: 0.5570, Validation F-beta: 0.1453\n",
      "========================================================\n",
      "SUPER Best model saved. Loss:0.5570, Score:0.1453\n",
      "========================================================\n",
      "Epoch 5/4000\n"
     ]
    },
    {
     "name": "stderr",
     "output_type": "stream",
     "text": [
      "Training: 100%|██████████| 66/66 [00:50<00:00,  1.31it/s, loss=0.521]\n",
      "Validation: 100%|██████████| 5/5 [00:03<00:00,  1.52it/s, loss=0.546]\n"
     ]
    },
    {
     "name": "stdout",
     "output_type": "stream",
     "text": [
      "Validation Dice Score\n",
      "Class 0: 0.9819, Class 1: 0.0023, Class 2: 0.0000, Class 3: 0.2140, Class 4: 0.3719, Class 5: 0.0394, Class 6: 0.2873, \n",
      "Validation F-beta Score\n",
      "Class 0: 0.9757, Class 1: 0.0013, Class 2: 0.0000, Class 3: 0.3030, Class 4: 0.6230, Class 5: 0.0235, Class 6: 0.2122, \n",
      "\n",
      "Overall Mean Dice Score: 0.1830\n",
      "Overall Mean F-beta Score: 0.2326\n",
      "\n",
      "Training Loss: 0.5392, Validation Loss: 0.5471, Validation F-beta: 0.2326\n",
      "========================================================\n",
      "SUPER Best model saved. Loss:0.5471, Score:0.2326\n",
      "========================================================\n",
      "Epoch 6/4000\n"
     ]
    },
    {
     "name": "stderr",
     "output_type": "stream",
     "text": [
      "Training: 100%|██████████| 66/66 [00:49<00:00,  1.33it/s, loss=0.505]\n",
      "Validation: 100%|██████████| 5/5 [00:03<00:00,  1.47it/s, loss=0.539]\n"
     ]
    },
    {
     "name": "stdout",
     "output_type": "stream",
     "text": [
      "Validation Dice Score\n",
      "Class 0: 0.9804, Class 1: 0.0074, Class 2: 0.0000, Class 3: 0.2256, Class 4: 0.3782, Class 5: 0.1263, Class 6: 0.3308, \n",
      "Validation F-beta Score\n",
      "Class 0: 0.9715, Class 1: 0.0048, Class 2: 0.0000, Class 3: 0.4373, Class 4: 0.6627, Class 5: 0.0962, Class 6: 0.2208, \n",
      "\n",
      "Overall Mean Dice Score: 0.2137\n",
      "Overall Mean F-beta Score: 0.2843\n",
      "\n",
      "Training Loss: 0.5199, Validation Loss: 0.5440, Validation F-beta: 0.2843\n",
      "========================================================\n",
      "SUPER Best model saved. Loss:0.5440, Score:0.2843\n",
      "========================================================\n",
      "Epoch 7/4000\n"
     ]
    },
    {
     "name": "stderr",
     "output_type": "stream",
     "text": [
      "Training: 100%|██████████| 66/66 [00:48<00:00,  1.36it/s, loss=0.49] \n",
      "Validation: 100%|██████████| 5/5 [00:03<00:00,  1.46it/s, loss=0.524]\n"
     ]
    },
    {
     "name": "stdout",
     "output_type": "stream",
     "text": [
      "Validation Dice Score\n",
      "Class 0: 0.9820, Class 1: 0.0372, Class 2: 0.0000, Class 3: 0.2227, Class 4: 0.4231, Class 5: 0.1588, Class 6: 0.5942, \n",
      "Validation F-beta Score\n",
      "Class 0: 0.9744, Class 1: 0.0443, Class 2: 0.0000, Class 3: 0.5059, Class 4: 0.6906, Class 5: 0.1114, Class 6: 0.5017, \n",
      "\n",
      "Overall Mean Dice Score: 0.2872\n",
      "Overall Mean F-beta Score: 0.3708\n",
      "\n",
      "Training Loss: 0.5090, Validation Loss: 0.5288, Validation F-beta: 0.3708\n",
      "========================================================\n",
      "SUPER Best model saved. Loss:0.5288, Score:0.3708\n",
      "========================================================\n",
      "Epoch 8/4000\n"
     ]
    },
    {
     "name": "stderr",
     "output_type": "stream",
     "text": [
      "Training: 100%|██████████| 66/66 [00:49<00:00,  1.33it/s, loss=0.491]\n",
      "Validation: 100%|██████████| 5/5 [00:03<00:00,  1.48it/s, loss=0.532]\n"
     ]
    },
    {
     "name": "stdout",
     "output_type": "stream",
     "text": [
      "Validation Dice Score\n",
      "Class 0: 0.9811, Class 1: 0.0438, Class 2: 0.0000, Class 3: 0.2420, Class 4: 0.3646, Class 5: 0.1674, Class 6: 0.5028, \n",
      "Validation F-beta Score\n",
      "Class 0: 0.9713, Class 1: 0.0622, Class 2: 0.0000, Class 3: 0.6130, Class 4: 0.6848, Class 5: 0.1262, Class 6: 0.3648, \n",
      "\n",
      "Overall Mean Dice Score: 0.2641\n",
      "Overall Mean F-beta Score: 0.3702\n",
      "\n",
      "Training Loss: 0.5003, Validation Loss: 0.5338, Validation F-beta: 0.3702\n",
      "Epoch 9/4000\n"
     ]
    },
    {
     "name": "stderr",
     "output_type": "stream",
     "text": [
      "Training: 100%|██████████| 66/66 [00:49<00:00,  1.33it/s, loss=0.48] \n",
      "Validation: 100%|██████████| 5/5 [00:03<00:00,  1.49it/s, loss=0.518]\n"
     ]
    },
    {
     "name": "stdout",
     "output_type": "stream",
     "text": [
      "Validation Dice Score\n",
      "Class 0: 0.9827, Class 1: 0.0693, Class 2: 0.0000, Class 3: 0.2657, Class 4: 0.4621, Class 5: 0.2184, Class 6: 0.5466, \n",
      "Validation F-beta Score\n",
      "Class 0: 0.9753, Class 1: 0.0900, Class 2: 0.0000, Class 3: 0.5969, Class 4: 0.7123, Class 5: 0.1780, Class 6: 0.4271, \n",
      "\n",
      "Overall Mean Dice Score: 0.3124\n",
      "Overall Mean F-beta Score: 0.4009\n",
      "\n",
      "Training Loss: 0.4945, Validation Loss: 0.5198, Validation F-beta: 0.4009\n",
      "========================================================\n",
      "SUPER Best model saved. Loss:0.5198, Score:0.4009\n",
      "========================================================\n",
      "Epoch 10/4000\n"
     ]
    },
    {
     "name": "stderr",
     "output_type": "stream",
     "text": [
      "Training: 100%|██████████| 66/66 [00:49<00:00,  1.35it/s, loss=0.468]\n",
      "Validation: 100%|██████████| 5/5 [00:03<00:00,  1.43it/s, loss=0.535]\n"
     ]
    },
    {
     "name": "stdout",
     "output_type": "stream",
     "text": [
      "Validation Dice Score\n",
      "Class 0: 0.9786, Class 1: 0.0666, Class 2: 0.0076, Class 3: 0.2310, Class 4: 0.4417, Class 5: 0.2822, Class 6: 0.5007, \n",
      "Validation F-beta Score\n",
      "Class 0: 0.9662, Class 1: 0.0840, Class 2: 0.0044, Class 3: 0.4660, Class 4: 0.7333, Class 5: 0.3578, Class 6: 0.3679, \n",
      "\n",
      "Overall Mean Dice Score: 0.3044\n",
      "Overall Mean F-beta Score: 0.4018\n",
      "\n",
      "Training Loss: 0.4872, Validation Loss: 0.5325, Validation F-beta: 0.4018\n",
      "Epoch 11/4000\n"
     ]
    },
    {
     "name": "stderr",
     "output_type": "stream",
     "text": [
      "Training: 100%|██████████| 66/66 [00:49<00:00,  1.34it/s, loss=0.468]\n",
      "Validation: 100%|██████████| 5/5 [00:03<00:00,  1.53it/s, loss=0.512]\n"
     ]
    },
    {
     "name": "stdout",
     "output_type": "stream",
     "text": [
      "Validation Dice Score\n",
      "Class 0: 0.9812, Class 1: 0.1230, Class 2: 0.0120, Class 3: 0.2746, Class 4: 0.4743, Class 5: 0.3188, Class 6: 0.6441, \n",
      "Validation F-beta Score\n",
      "Class 0: 0.9715, Class 1: 0.1943, Class 2: 0.0071, Class 3: 0.5178, Class 4: 0.7322, Class 5: 0.3753, Class 6: 0.5381, \n",
      "\n",
      "Overall Mean Dice Score: 0.3670\n",
      "Overall Mean F-beta Score: 0.4715\n",
      "\n",
      "Training Loss: 0.4833, Validation Loss: 0.5133, Validation F-beta: 0.4715\n",
      "========================================================\n",
      "SUPER Best model saved. Loss:0.5133, Score:0.4715\n",
      "========================================================\n",
      "Epoch 12/4000\n"
     ]
    },
    {
     "name": "stderr",
     "output_type": "stream",
     "text": [
      "Training: 100%|██████████| 66/66 [00:50<00:00,  1.31it/s, loss=0.456]\n",
      "Validation: 100%|██████████| 5/5 [00:03<00:00,  1.48it/s, loss=0.508]\n"
     ]
    },
    {
     "name": "stdout",
     "output_type": "stream",
     "text": [
      "Validation Dice Score\n",
      "Class 0: 0.9815, Class 1: 0.1601, Class 2: 0.0053, Class 3: 0.2582, Class 4: 0.5332, Class 5: 0.3209, Class 6: 0.6438, \n",
      "Validation F-beta Score\n",
      "Class 0: 0.9727, Class 1: 0.2259, Class 2: 0.0030, Class 3: 0.5765, Class 4: 0.7444, Class 5: 0.3400, Class 6: 0.5465, \n",
      "\n",
      "Overall Mean Dice Score: 0.3832\n",
      "Overall Mean F-beta Score: 0.4866\n",
      "\n",
      "Training Loss: 0.4789, Validation Loss: 0.5077, Validation F-beta: 0.4866\n",
      "========================================================\n",
      "SUPER Best model saved. Loss:0.5077, Score:0.4866\n",
      "========================================================\n",
      "Epoch 13/4000\n"
     ]
    },
    {
     "name": "stderr",
     "output_type": "stream",
     "text": [
      "Training:  45%|████▌     | 30/66 [00:22<00:28,  1.26it/s, loss=0.484]"
     ]
    }
   ],
   "source": [
    "train_model(\n",
    "    model=model,\n",
    "    train_loader=train_loader,\n",
    "    val_loader=val_loader,\n",
    "    criterion=criterion,\n",
    "    optimizer=optimizer,\n",
    "    num_epochs=num_epochs,\n",
    "    patience=10,\n",
    "    device=device,\n",
    "    start_epoch=start_epoch,\n",
    "    best_val_loss=best_val_loss,\n",
    "    best_val_fbeta_score=best_val_fbeta_score,\n",
    "    calculate_dice_interval=1,\n",
    "    accumulation_steps = accumulation_steps\n",
    "    )"
   ]
  },
  {
   "cell_type": "markdown",
   "metadata": {},
   "source": [
    "# finetune"
   ]
  },
  {
   "cell_type": "code",
   "execution_count": 6,
   "metadata": {},
   "outputs": [
    {
     "name": "stderr",
     "output_type": "stream",
     "text": [
      "Loading dataset: 100%|██████████| 9/9 [00:01<00:00,  7.59it/s]\n"
     ]
    },
    {
     "name": "stdout",
     "output_type": "stream",
     "text": [
      "Epoch 1/4000\n"
     ]
    },
    {
     "name": "stderr",
     "output_type": "stream",
     "text": [
      "Training: 100%|██████████| 60/60 [01:54<00:00,  1.90s/it, loss=1.15]\n",
      "Validation: 100%|██████████| 5/5 [00:03<00:00,  1.50it/s, loss=1.13]\n"
     ]
    },
    {
     "name": "stdout",
     "output_type": "stream",
     "text": [
      "Validation Dice Score\n",
      "Class 0: 0.8442, Class 1: 0.0067, Class 2: 0.0008, Class 3: 0.0033, Class 4: 0.0667, Class 5: 0.0359, Class 6: 0.0313, \n",
      "Validation F-beta Score\n",
      "Class 0: 0.7496, Class 1: 0.0404, Class 2: 0.0064, Class 3: 0.0194, Class 4: 0.1424, Class 5: 0.0827, Class 6: 0.0975, \n",
      "\n",
      "Overall Mean Dice Score: 0.0288\n",
      "Overall Mean F-beta Score: 0.0765\n",
      "\n",
      "Training Loss: 1.2690, Validation Loss: 1.1332, Validation F-beta: 0.0765\n",
      "========================================================\n",
      "SUPER Best model saved. Loss:1.1332, Score:0.0765\n",
      "========================================================\n",
      "Epoch 2/4000\n"
     ]
    },
    {
     "name": "stderr",
     "output_type": "stream",
     "text": [
      "Training: 100%|██████████| 60/60 [01:36<00:00,  1.62s/it, loss=0.954]\n",
      "Validation: 100%|██████████| 5/5 [00:03<00:00,  1.52it/s, loss=0.942]\n"
     ]
    },
    {
     "name": "stdout",
     "output_type": "stream",
     "text": [
      "Validation Dice Score\n",
      "Class 0: 0.9647, Class 1: 0.0140, Class 2: 0.0014, Class 3: 0.0137, Class 4: 0.1138, Class 5: 0.0522, Class 6: 0.0671, \n",
      "Validation F-beta Score\n",
      "Class 0: 0.9505, Class 1: 0.0585, Class 2: 0.0083, Class 3: 0.0298, Class 4: 0.1052, Class 5: 0.0530, Class 6: 0.0764, \n",
      "\n",
      "Overall Mean Dice Score: 0.0521\n",
      "Overall Mean F-beta Score: 0.0646\n",
      "\n",
      "Training Loss: 1.0445, Validation Loss: 0.9420, Validation F-beta: 0.0646\n",
      "Epoch 3/4000\n"
     ]
    },
    {
     "name": "stderr",
     "output_type": "stream",
     "text": [
      "Training: 100%|██████████| 60/60 [01:40<00:00,  1.67s/it, loss=0.838]\n",
      "Validation: 100%|██████████| 5/5 [00:03<00:00,  1.48it/s, loss=0.826]\n"
     ]
    },
    {
     "name": "stdout",
     "output_type": "stream",
     "text": [
      "Validation Dice Score\n",
      "Class 0: 0.9819, Class 1: 0.0179, Class 2: 0.0021, Class 3: 0.0289, Class 4: 0.1205, Class 5: 0.0512, Class 6: 0.0818, \n",
      "Validation F-beta Score\n",
      "Class 0: 0.9831, Class 1: 0.0572, Class 2: 0.0077, Class 3: 0.0290, Class 4: 0.0899, Class 5: 0.0394, Class 6: 0.0653, \n",
      "\n",
      "Overall Mean Dice Score: 0.0601\n",
      "Overall Mean F-beta Score: 0.0562\n",
      "\n",
      "Training Loss: 0.8905, Validation Loss: 0.8250, Validation F-beta: 0.0562\n",
      "Epoch 4/4000\n"
     ]
    },
    {
     "name": "stderr",
     "output_type": "stream",
     "text": [
      "Training: 100%|██████████| 60/60 [01:45<00:00,  1.75s/it, loss=0.766]\n",
      "Validation: 100%|██████████| 5/5 [00:05<00:00,  1.01s/it, loss=0.755]\n"
     ]
    },
    {
     "name": "stdout",
     "output_type": "stream",
     "text": [
      "Validation Dice Score\n",
      "Class 0: 0.9849, Class 1: 0.0215, Class 2: 0.0036, Class 3: 0.0310, Class 4: 0.1246, Class 5: 0.0464, Class 6: 0.0683, \n",
      "Validation F-beta Score\n",
      "Class 0: 0.9918, Class 1: 0.0515, Class 2: 0.0065, Class 3: 0.0258, Class 4: 0.0837, Class 5: 0.0314, Class 6: 0.0511, \n",
      "\n",
      "Overall Mean Dice Score: 0.0584\n",
      "Overall Mean F-beta Score: 0.0487\n",
      "\n",
      "Training Loss: 0.7969, Validation Loss: 0.7530, Validation F-beta: 0.0487\n",
      "Epoch 5/4000\n"
     ]
    },
    {
     "name": "stderr",
     "output_type": "stream",
     "text": [
      "Training: 100%|██████████| 60/60 [01:39<00:00,  1.66s/it, loss=0.716]\n",
      "Validation: 100%|██████████| 5/5 [00:03<00:00,  1.44it/s, loss=0.705]\n"
     ]
    },
    {
     "name": "stdout",
     "output_type": "stream",
     "text": [
      "Validation Dice Score\n",
      "Class 0: 0.9856, Class 1: 0.0261, Class 2: 0.0033, Class 3: 0.0305, Class 4: 0.1428, Class 5: 0.0349, Class 6: 0.0498, \n",
      "Validation F-beta Score\n",
      "Class 0: 0.9948, Class 1: 0.0433, Class 2: 0.0034, Class 3: 0.0223, Class 4: 0.0963, Class 5: 0.0216, Class 6: 0.0316, \n",
      "\n",
      "Overall Mean Dice Score: 0.0568\n",
      "Overall Mean F-beta Score: 0.0430\n",
      "\n",
      "Training Loss: 0.7371, Validation Loss: 0.7052, Validation F-beta: 0.0430\n",
      "Epoch 6/4000\n"
     ]
    },
    {
     "name": "stderr",
     "output_type": "stream",
     "text": [
      "Training: 100%|██████████| 60/60 [01:39<00:00,  1.66s/it, loss=0.683]\n",
      "Validation: 100%|██████████| 5/5 [00:03<00:00,  1.49it/s, loss=0.671]\n"
     ]
    },
    {
     "name": "stdout",
     "output_type": "stream",
     "text": [
      "Validation Dice Score\n",
      "Class 0: 0.9863, Class 1: 0.0305, Class 2: 0.0023, Class 3: 0.0246, Class 4: 0.1683, Class 5: 0.0356, Class 6: 0.0549, \n",
      "Validation F-beta Score\n",
      "Class 0: 0.9950, Class 1: 0.0440, Class 2: 0.0021, Class 3: 0.0176, Class 4: 0.1195, Class 5: 0.0220, Class 6: 0.0338, \n",
      "\n",
      "Overall Mean Dice Score: 0.0628\n",
      "Overall Mean F-beta Score: 0.0474\n",
      "\n",
      "Training Loss: 0.6958, Validation Loss: 0.6706, Validation F-beta: 0.0474\n",
      "Epoch 7/4000\n"
     ]
    },
    {
     "name": "stderr",
     "output_type": "stream",
     "text": [
      "Training: 100%|██████████| 60/60 [01:40<00:00,  1.68s/it, loss=0.662]\n",
      "Validation: 100%|██████████| 5/5 [00:04<00:00,  1.11it/s, loss=0.645]\n"
     ]
    },
    {
     "name": "stdout",
     "output_type": "stream",
     "text": [
      "Validation Dice Score\n",
      "Class 0: 0.9863, Class 1: 0.0216, Class 2: 0.0022, Class 3: 0.0208, Class 4: 0.1814, Class 5: 0.0345, Class 6: 0.0565, \n",
      "Validation F-beta Score\n",
      "Class 0: 0.9952, Class 1: 0.0264, Class 2: 0.0018, Class 3: 0.0140, Class 4: 0.1365, Class 5: 0.0203, Class 6: 0.0344, \n",
      "\n",
      "Overall Mean Dice Score: 0.0629\n",
      "Overall Mean F-beta Score: 0.0463\n",
      "\n",
      "Training Loss: 0.6672, Validation Loss: 0.6461, Validation F-beta: 0.0463\n",
      "Epoch 8/4000\n"
     ]
    },
    {
     "name": "stderr",
     "output_type": "stream",
     "text": [
      "Training: 100%|██████████| 60/60 [01:36<00:00,  1.60s/it, loss=0.642]\n",
      "Validation: 100%|██████████| 5/5 [00:03<00:00,  1.50it/s, loss=0.625]\n"
     ]
    },
    {
     "name": "stdout",
     "output_type": "stream",
     "text": [
      "Validation Dice Score\n",
      "Class 0: 0.9875, Class 1: 0.0248, Class 2: 0.0010, Class 3: 0.0227, Class 4: 0.2114, Class 5: 0.0289, Class 6: 0.0475, \n",
      "Validation F-beta Score\n",
      "Class 0: 0.9957, Class 1: 0.0292, Class 2: 0.0007, Class 3: 0.0142, Class 4: 0.1731, Class 5: 0.0168, Class 6: 0.0275, \n",
      "\n",
      "Overall Mean Dice Score: 0.0671\n",
      "Overall Mean F-beta Score: 0.0522\n",
      "\n",
      "Training Loss: 0.6460, Validation Loss: 0.6258, Validation F-beta: 0.0522\n",
      "Epoch 9/4000\n"
     ]
    },
    {
     "name": "stderr",
     "output_type": "stream",
     "text": [
      "Training: 100%|██████████| 60/60 [01:37<00:00,  1.63s/it, loss=0.626]\n",
      "Validation: 100%|██████████| 5/5 [00:03<00:00,  1.46it/s, loss=0.615]\n"
     ]
    },
    {
     "name": "stdout",
     "output_type": "stream",
     "text": [
      "Validation Dice Score\n",
      "Class 0: 0.9870, Class 1: 0.0251, Class 2: 0.0006, Class 3: 0.0148, Class 4: 0.2601, Class 5: 0.0304, Class 6: 0.0659, \n",
      "Validation F-beta Score\n",
      "Class 0: 0.9944, Class 1: 0.0290, Class 2: 0.0004, Class 3: 0.0091, Class 4: 0.2266, Class 5: 0.0181, Class 6: 0.0397, \n",
      "\n",
      "Overall Mean Dice Score: 0.0793\n",
      "Overall Mean F-beta Score: 0.0645\n",
      "\n",
      "Training Loss: 0.6293, Validation Loss: 0.6129, Validation F-beta: 0.0645\n",
      "Epoch 10/4000\n"
     ]
    },
    {
     "name": "stderr",
     "output_type": "stream",
     "text": [
      "Training: 100%|██████████| 60/60 [01:39<00:00,  1.65s/it, loss=0.609]\n",
      "Validation: 100%|██████████| 5/5 [00:03<00:00,  1.52it/s, loss=0.599]\n"
     ]
    },
    {
     "name": "stdout",
     "output_type": "stream",
     "text": [
      "Validation Dice Score\n",
      "Class 0: 0.9867, Class 1: 0.0172, Class 2: 0.0006, Class 3: 0.0140, Class 4: 0.2696, Class 5: 0.0253, Class 6: 0.0716, \n",
      "Validation F-beta Score\n",
      "Class 0: 0.9946, Class 1: 0.0190, Class 2: 0.0004, Class 3: 0.0083, Class 4: 0.2306, Class 5: 0.0150, Class 6: 0.0420, \n",
      "\n",
      "Overall Mean Dice Score: 0.0795\n",
      "Overall Mean F-beta Score: 0.0630\n",
      "\n",
      "Training Loss: 0.6171, Validation Loss: 0.6020, Validation F-beta: 0.0630\n",
      "Epoch 11/4000\n"
     ]
    },
    {
     "name": "stderr",
     "output_type": "stream",
     "text": [
      "Training: 100%|██████████| 60/60 [01:42<00:00,  1.70s/it, loss=0.608]\n",
      "Validation: 100%|██████████| 5/5 [00:03<00:00,  1.53it/s, loss=0.591]\n"
     ]
    },
    {
     "name": "stdout",
     "output_type": "stream",
     "text": [
      "Validation Dice Score\n",
      "Class 0: 0.9870, Class 1: 0.0176, Class 2: 0.0006, Class 3: 0.0064, Class 4: 0.2531, Class 5: 0.0152, Class 6: 0.0508, \n",
      "Validation F-beta Score\n",
      "Class 0: 0.9961, Class 1: 0.0143, Class 2: 0.0003, Class 3: 0.0036, Class 4: 0.2034, Class 5: 0.0085, Class 6: 0.0288, \n",
      "\n",
      "Overall Mean Dice Score: 0.0686\n",
      "Overall Mean F-beta Score: 0.0517\n",
      "\n",
      "Training Loss: 0.6066, Validation Loss: 0.5919, Validation F-beta: 0.0517\n",
      "Epoch 12/4000\n"
     ]
    },
    {
     "name": "stderr",
     "output_type": "stream",
     "text": [
      "Training: 100%|██████████| 60/60 [01:36<00:00,  1.60s/it, loss=0.599]\n",
      "Validation: 100%|██████████| 5/5 [00:03<00:00,  1.54it/s, loss=0.589]\n"
     ]
    },
    {
     "name": "stdout",
     "output_type": "stream",
     "text": [
      "Validation Dice Score\n",
      "Class 0: 0.9858, Class 1: 0.0180, Class 2: 0.0004, Class 3: 0.0067, Class 4: 0.3159, Class 5: 0.0245, Class 6: 0.0969, \n",
      "Validation F-beta Score\n",
      "Class 0: 0.9929, Class 1: 0.0159, Class 2: 0.0002, Class 3: 0.0039, Class 4: 0.2935, Class 5: 0.0144, Class 6: 0.0598, \n",
      "\n",
      "Overall Mean Dice Score: 0.0924\n",
      "Overall Mean F-beta Score: 0.0775\n",
      "\n",
      "Training Loss: 0.5988, Validation Loss: 0.5882, Validation F-beta: 0.0775\n",
      "========================================================\n",
      "SUPER Best model saved. Loss:0.5882, Score:0.0775\n",
      "========================================================\n",
      "Epoch 13/4000\n"
     ]
    },
    {
     "name": "stderr",
     "output_type": "stream",
     "text": [
      "Training: 100%|██████████| 60/60 [01:38<00:00,  1.64s/it, loss=0.599]\n",
      "Validation: 100%|██████████| 5/5 [00:03<00:00,  1.49it/s, loss=0.575]\n"
     ]
    },
    {
     "name": "stdout",
     "output_type": "stream",
     "text": [
      "Validation Dice Score\n",
      "Class 0: 0.9880, Class 1: 0.0116, Class 2: 0.0002, Class 3: 0.0031, Class 4: 0.2793, Class 5: 0.0134, Class 6: 0.0859, \n",
      "Validation F-beta Score\n",
      "Class 0: 0.9956, Class 1: 0.0076, Class 2: 0.0001, Class 3: 0.0017, Class 4: 0.2586, Class 5: 0.0075, Class 6: 0.0498, \n",
      "\n",
      "Overall Mean Dice Score: 0.0787\n",
      "Overall Mean F-beta Score: 0.0650\n",
      "\n",
      "Training Loss: 0.5923, Validation Loss: 0.5776, Validation F-beta: 0.0650\n",
      "Epoch 14/4000\n"
     ]
    },
    {
     "name": "stderr",
     "output_type": "stream",
     "text": [
      "Training: 100%|██████████| 60/60 [01:51<00:00,  1.85s/it, loss=0.596]\n",
      "Validation: 100%|██████████| 5/5 [00:03<00:00,  1.46it/s, loss=0.575]\n"
     ]
    },
    {
     "name": "stdout",
     "output_type": "stream",
     "text": [
      "Validation Dice Score\n",
      "Class 0: 0.9878, Class 1: 0.0083, Class 2: 0.0001, Class 3: 0.0043, Class 4: 0.3258, Class 5: 0.0195, Class 6: 0.1259, \n",
      "Validation F-beta Score\n",
      "Class 0: 0.9947, Class 1: 0.0054, Class 2: 0.0001, Class 3: 0.0024, Class 4: 0.3189, Class 5: 0.0110, Class 6: 0.0755, \n",
      "\n",
      "Overall Mean Dice Score: 0.0968\n",
      "Overall Mean F-beta Score: 0.0826\n",
      "\n",
      "Training Loss: 0.5860, Validation Loss: 0.5728, Validation F-beta: 0.0826\n",
      "========================================================\n",
      "SUPER Best model saved. Loss:0.5728, Score:0.0826\n",
      "========================================================\n",
      "Epoch 15/4000\n"
     ]
    },
    {
     "name": "stderr",
     "output_type": "stream",
     "text": [
      "Training: 100%|██████████| 60/60 [01:35<00:00,  1.59s/it, loss=0.593]\n",
      "Validation: 100%|██████████| 5/5 [00:03<00:00,  1.50it/s, loss=0.567]\n"
     ]
    },
    {
     "name": "stdout",
     "output_type": "stream",
     "text": [
      "Validation Dice Score\n",
      "Class 0: 0.9869, Class 1: 0.0059, Class 2: 0.0000, Class 3: 0.0030, Class 4: 0.3712, Class 5: 0.0140, Class 6: 0.1493, \n",
      "Validation F-beta Score\n",
      "Class 0: 0.9940, Class 1: 0.0037, Class 2: 0.0000, Class 3: 0.0017, Class 4: 0.3469, Class 5: 0.0079, Class 6: 0.0921, \n",
      "\n",
      "Overall Mean Dice Score: 0.1087\n",
      "Overall Mean F-beta Score: 0.0904\n",
      "\n",
      "Training Loss: 0.5814, Validation Loss: 0.5693, Validation F-beta: 0.0904\n",
      "========================================================\n",
      "SUPER Best model saved. Loss:0.5693, Score:0.0904\n",
      "========================================================\n",
      "Epoch 16/4000\n"
     ]
    },
    {
     "name": "stderr",
     "output_type": "stream",
     "text": [
      "Training: 100%|██████████| 60/60 [01:37<00:00,  1.63s/it, loss=0.582]\n",
      "Validation: 100%|██████████| 5/5 [00:03<00:00,  1.50it/s, loss=0.568]\n"
     ]
    },
    {
     "name": "stdout",
     "output_type": "stream",
     "text": [
      "Validation Dice Score\n",
      "Class 0: 0.9872, Class 1: 0.0069, Class 2: 0.0001, Class 3: 0.0034, Class 4: 0.3568, Class 5: 0.0186, Class 6: 0.1849, \n",
      "Validation F-beta Score\n",
      "Class 0: 0.9918, Class 1: 0.0045, Class 2: 0.0001, Class 3: 0.0019, Class 4: 0.4108, Class 5: 0.0105, Class 6: 0.1211, \n",
      "\n",
      "Overall Mean Dice Score: 0.1141\n",
      "Overall Mean F-beta Score: 0.1097\n",
      "\n",
      "Training Loss: 0.5771, Validation Loss: 0.5670, Validation F-beta: 0.1097\n",
      "========================================================\n",
      "SUPER Best model saved. Loss:0.5670, Score:0.1097\n",
      "========================================================\n",
      "Epoch 17/4000\n"
     ]
    },
    {
     "name": "stderr",
     "output_type": "stream",
     "text": [
      "Training: 100%|██████████| 60/60 [01:39<00:00,  1.65s/it, loss=0.578]\n",
      "Validation: 100%|██████████| 5/5 [00:03<00:00,  1.46it/s, loss=0.559]\n"
     ]
    },
    {
     "name": "stdout",
     "output_type": "stream",
     "text": [
      "Validation Dice Score\n",
      "Class 0: 0.9879, Class 1: 0.0030, Class 2: 0.0000, Class 3: 0.0026, Class 4: 0.3851, Class 5: 0.0126, Class 6: 0.2214, \n",
      "Validation F-beta Score\n",
      "Class 0: 0.9939, Class 1: 0.0017, Class 2: 0.0000, Class 3: 0.0014, Class 4: 0.3990, Class 5: 0.0070, Class 6: 0.1494, \n",
      "\n",
      "Overall Mean Dice Score: 0.1249\n",
      "Overall Mean F-beta Score: 0.1117\n",
      "\n",
      "Training Loss: 0.5732, Validation Loss: 0.5607, Validation F-beta: 0.1117\n",
      "========================================================\n",
      "SUPER Best model saved. Loss:0.5607, Score:0.1117\n",
      "========================================================\n",
      "Epoch 18/4000\n"
     ]
    },
    {
     "name": "stderr",
     "output_type": "stream",
     "text": [
      "Training: 100%|██████████| 60/60 [01:42<00:00,  1.71s/it, loss=0.58] \n",
      "Validation: 100%|██████████| 5/5 [00:03<00:00,  1.52it/s, loss=0.559]\n"
     ]
    },
    {
     "name": "stdout",
     "output_type": "stream",
     "text": [
      "Validation Dice Score\n",
      "Class 0: 0.9876, Class 1: 0.0024, Class 2: 0.0000, Class 3: 0.0022, Class 4: 0.4063, Class 5: 0.0169, Class 6: 0.2533, \n",
      "Validation F-beta Score\n",
      "Class 0: 0.9927, Class 1: 0.0014, Class 2: 0.0000, Class 3: 0.0012, Class 4: 0.4157, Class 5: 0.0094, Class 6: 0.1860, \n",
      "\n",
      "Overall Mean Dice Score: 0.1362\n",
      "Overall Mean F-beta Score: 0.1227\n",
      "\n",
      "Training Loss: 0.5708, Validation Loss: 0.5592, Validation F-beta: 0.1227\n",
      "========================================================\n",
      "SUPER Best model saved. Loss:0.5592, Score:0.1227\n",
      "========================================================\n",
      "Epoch 19/4000\n"
     ]
    },
    {
     "name": "stderr",
     "output_type": "stream",
     "text": [
      "Training: 100%|██████████| 60/60 [01:36<00:00,  1.61s/it, loss=0.574]\n",
      "Validation: 100%|██████████| 5/5 [00:03<00:00,  1.51it/s, loss=0.555]\n"
     ]
    },
    {
     "name": "stdout",
     "output_type": "stream",
     "text": [
      "Validation Dice Score\n",
      "Class 0: 0.9875, Class 1: 0.0017, Class 2: 0.0000, Class 3: 0.0012, Class 4: 0.4069, Class 5: 0.0180, Class 6: 0.2737, \n",
      "Validation F-beta Score\n",
      "Class 0: 0.9912, Class 1: 0.0009, Class 2: 0.0000, Class 3: 0.0007, Class 4: 0.4655, Class 5: 0.0100, Class 6: 0.2111, \n",
      "\n",
      "Overall Mean Dice Score: 0.1403\n",
      "Overall Mean F-beta Score: 0.1376\n",
      "\n",
      "Training Loss: 0.5673, Validation Loss: 0.5565, Validation F-beta: 0.1376\n",
      "========================================================\n",
      "SUPER Best model saved. Loss:0.5565, Score:0.1376\n",
      "========================================================\n",
      "Epoch 20/4000\n"
     ]
    },
    {
     "name": "stderr",
     "output_type": "stream",
     "text": [
      "Training: 100%|██████████| 60/60 [01:39<00:00,  1.65s/it, loss=0.564]\n",
      "Validation: 100%|██████████| 5/5 [00:03<00:00,  1.49it/s, loss=0.55] \n"
     ]
    },
    {
     "name": "stdout",
     "output_type": "stream",
     "text": [
      "Validation Dice Score\n",
      "Class 0: 0.9873, Class 1: 0.0007, Class 2: 0.0000, Class 3: 0.0005, Class 4: 0.4294, Class 5: 0.0198, Class 6: 0.3070, \n",
      "Validation F-beta Score\n",
      "Class 0: 0.9921, Class 1: 0.0004, Class 2: 0.0000, Class 3: 0.0003, Class 4: 0.4489, Class 5: 0.0110, Class 6: 0.2347, \n",
      "\n",
      "Overall Mean Dice Score: 0.1515\n",
      "Overall Mean F-beta Score: 0.1390\n",
      "\n",
      "Training Loss: 0.5652, Validation Loss: 0.5529, Validation F-beta: 0.1390\n",
      "========================================================\n",
      "SUPER Best model saved. Loss:0.5529, Score:0.1390\n",
      "========================================================\n",
      "Epoch 21/4000\n"
     ]
    },
    {
     "name": "stderr",
     "output_type": "stream",
     "text": [
      "Training: 100%|██████████| 60/60 [01:42<00:00,  1.71s/it, loss=0.565]\n",
      "Validation: 100%|██████████| 5/5 [00:03<00:00,  1.48it/s, loss=0.549]\n"
     ]
    },
    {
     "name": "stdout",
     "output_type": "stream",
     "text": [
      "Validation Dice Score\n",
      "Class 0: 0.9887, Class 1: 0.0003, Class 2: 0.0000, Class 3: 0.0004, Class 4: 0.4022, Class 5: 0.0485, Class 6: 0.3384, \n",
      "Validation F-beta Score\n",
      "Class 0: 0.9942, Class 1: 0.0002, Class 2: 0.0000, Class 3: 0.0002, Class 4: 0.4172, Class 5: 0.0279, Class 6: 0.2430, \n",
      "\n",
      "Overall Mean Dice Score: 0.1579\n",
      "Overall Mean F-beta Score: 0.1377\n",
      "\n",
      "Training Loss: 0.5620, Validation Loss: 0.5496, Validation F-beta: 0.1377\n",
      "Epoch 22/4000\n"
     ]
    },
    {
     "name": "stderr",
     "output_type": "stream",
     "text": [
      "Training: 100%|██████████| 60/60 [01:36<00:00,  1.61s/it, loss=0.555]\n",
      "Validation: 100%|██████████| 5/5 [00:03<00:00,  1.50it/s, loss=0.547]\n"
     ]
    },
    {
     "name": "stdout",
     "output_type": "stream",
     "text": [
      "Validation Dice Score\n",
      "Class 0: 0.9878, Class 1: 0.0001, Class 2: 0.0000, Class 3: 0.0005, Class 4: 0.4092, Class 5: 0.1295, Class 6: 0.3648, \n",
      "Validation F-beta Score\n",
      "Class 0: 0.9938, Class 1: 0.0001, Class 2: 0.0000, Class 3: 0.0003, Class 4: 0.3909, Class 5: 0.0833, Class 6: 0.2731, \n",
      "\n",
      "Overall Mean Dice Score: 0.1808\n",
      "Overall Mean F-beta Score: 0.1495\n",
      "\n",
      "Training Loss: 0.5589, Validation Loss: 0.5465, Validation F-beta: 0.1495\n",
      "========================================================\n",
      "SUPER Best model saved. Loss:0.5465, Score:0.1495\n",
      "========================================================\n",
      "Epoch 23/4000\n"
     ]
    },
    {
     "name": "stderr",
     "output_type": "stream",
     "text": [
      "Training: 100%|██████████| 60/60 [01:38<00:00,  1.65s/it, loss=0.568]\n",
      "Validation: 100%|██████████| 5/5 [00:03<00:00,  1.49it/s, loss=0.54] \n"
     ]
    },
    {
     "name": "stdout",
     "output_type": "stream",
     "text": [
      "Validation Dice Score\n",
      "Class 0: 0.9875, Class 1: 0.0001, Class 2: 0.0000, Class 3: 0.0002, Class 4: 0.4595, Class 5: 0.1910, Class 6: 0.3584, \n",
      "Validation F-beta Score\n",
      "Class 0: 0.9935, Class 1: 0.0000, Class 2: 0.0000, Class 3: 0.0001, Class 4: 0.4156, Class 5: 0.1351, Class 6: 0.2893, \n",
      "\n",
      "Overall Mean Dice Score: 0.2018\n",
      "Overall Mean F-beta Score: 0.1680\n",
      "\n",
      "Training Loss: 0.5564, Validation Loss: 0.5433, Validation F-beta: 0.1680\n",
      "========================================================\n",
      "SUPER Best model saved. Loss:0.5433, Score:0.1680\n",
      "========================================================\n",
      "Epoch 24/4000\n"
     ]
    },
    {
     "name": "stderr",
     "output_type": "stream",
     "text": [
      "Training: 100%|██████████| 60/60 [01:42<00:00,  1.70s/it, loss=0.565]\n",
      "Validation: 100%|██████████| 5/5 [00:03<00:00,  1.46it/s, loss=0.54] \n"
     ]
    },
    {
     "name": "stdout",
     "output_type": "stream",
     "text": [
      "Validation Dice Score\n",
      "Class 0: 0.9889, Class 1: 0.0000, Class 2: 0.0000, Class 3: 0.0001, Class 4: 0.4315, Class 5: 0.1789, Class 6: 0.3997, \n",
      "Validation F-beta Score\n",
      "Class 0: 0.9936, Class 1: 0.0000, Class 2: 0.0000, Class 3: 0.0001, Class 4: 0.4184, Class 5: 0.1354, Class 6: 0.3073, \n",
      "\n",
      "Overall Mean Dice Score: 0.2020\n",
      "Overall Mean F-beta Score: 0.1722\n",
      "\n",
      "Training Loss: 0.5531, Validation Loss: 0.5395, Validation F-beta: 0.1722\n",
      "========================================================\n",
      "SUPER Best model saved. Loss:0.5395, Score:0.1722\n",
      "========================================================\n",
      "Epoch 25/4000\n"
     ]
    },
    {
     "name": "stderr",
     "output_type": "stream",
     "text": [
      "Training: 100%|██████████| 60/60 [02:35<00:00,  2.59s/it, loss=0.55] \n",
      "Validation: 100%|██████████| 5/5 [00:03<00:00,  1.50it/s, loss=0.536]\n"
     ]
    },
    {
     "name": "stdout",
     "output_type": "stream",
     "text": [
      "Validation Dice Score\n",
      "Class 0: 0.9879, Class 1: 0.0000, Class 2: 0.0000, Class 3: 0.0008, Class 4: 0.4523, Class 5: 0.2344, Class 6: 0.4416, \n",
      "Validation F-beta Score\n",
      "Class 0: 0.9921, Class 1: 0.0000, Class 2: 0.0000, Class 3: 0.0005, Class 4: 0.4341, Class 5: 0.2002, Class 6: 0.3551, \n",
      "\n",
      "Overall Mean Dice Score: 0.2258\n",
      "Overall Mean F-beta Score: 0.1980\n",
      "\n",
      "Training Loss: 0.5505, Validation Loss: 0.5363, Validation F-beta: 0.1980\n",
      "========================================================\n",
      "SUPER Best model saved. Loss:0.5363, Score:0.1980\n",
      "========================================================\n",
      "Epoch 26/4000\n"
     ]
    },
    {
     "name": "stderr",
     "output_type": "stream",
     "text": [
      "Training: 100%|██████████| 60/60 [01:38<00:00,  1.64s/it, loss=0.551]\n",
      "Validation: 100%|██████████| 5/5 [00:03<00:00,  1.51it/s, loss=0.538]\n"
     ]
    },
    {
     "name": "stdout",
     "output_type": "stream",
     "text": [
      "Validation Dice Score\n",
      "Class 0: 0.9882, Class 1: 0.0000, Class 2: 0.0000, Class 3: 0.0122, Class 4: 0.4689, Class 5: 0.2253, Class 6: 0.4508, \n",
      "Validation F-beta Score\n",
      "Class 0: 0.9913, Class 1: 0.0000, Class 2: 0.0000, Class 3: 0.0067, Class 4: 0.4619, Class 5: 0.1897, Class 6: 0.4152, \n",
      "\n",
      "Overall Mean Dice Score: 0.2315\n",
      "Overall Mean F-beta Score: 0.2147\n",
      "\n",
      "Training Loss: 0.5463, Validation Loss: 0.5339, Validation F-beta: 0.2147\n",
      "========================================================\n",
      "SUPER Best model saved. Loss:0.5339, Score:0.2147\n",
      "========================================================\n",
      "Epoch 27/4000\n"
     ]
    },
    {
     "name": "stderr",
     "output_type": "stream",
     "text": [
      "Training: 100%|██████████| 60/60 [01:40<00:00,  1.67s/it, loss=0.554]\n",
      "Validation: 100%|██████████| 5/5 [00:04<00:00,  1.19it/s, loss=0.532]\n"
     ]
    },
    {
     "name": "stdout",
     "output_type": "stream",
     "text": [
      "Validation Dice Score\n",
      "Class 0: 0.9885, Class 1: 0.0000, Class 2: 0.0000, Class 3: 0.0425, Class 4: 0.4645, Class 5: 0.2350, Class 6: 0.5119, \n",
      "Validation F-beta Score\n",
      "Class 0: 0.9937, Class 1: 0.0000, Class 2: 0.0000, Class 3: 0.0257, Class 4: 0.4104, Class 5: 0.1961, Class 6: 0.4190, \n",
      "\n",
      "Overall Mean Dice Score: 0.2508\n",
      "Overall Mean F-beta Score: 0.2102\n",
      "\n",
      "Training Loss: 0.5447, Validation Loss: 0.5309, Validation F-beta: 0.2102\n",
      "Epoch 28/4000\n"
     ]
    },
    {
     "name": "stderr",
     "output_type": "stream",
     "text": [
      "Training: 100%|██████████| 60/60 [01:36<00:00,  1.60s/it, loss=0.546]\n",
      "Validation: 100%|██████████| 5/5 [00:03<00:00,  1.50it/s, loss=0.522]\n"
     ]
    },
    {
     "name": "stdout",
     "output_type": "stream",
     "text": [
      "Validation Dice Score\n",
      "Class 0: 0.9891, Class 1: 0.0000, Class 2: 0.0000, Class 3: 0.0789, Class 4: 0.4815, Class 5: 0.2374, Class 6: 0.5965, \n",
      "Validation F-beta Score\n",
      "Class 0: 0.9930, Class 1: 0.0000, Class 2: 0.0000, Class 3: 0.0524, Class 4: 0.4349, Class 5: 0.2084, Class 6: 0.5149, \n",
      "\n",
      "Overall Mean Dice Score: 0.2788\n",
      "Overall Mean F-beta Score: 0.2421\n",
      "\n",
      "Training Loss: 0.5420, Validation Loss: 0.5259, Validation F-beta: 0.2421\n",
      "========================================================\n",
      "SUPER Best model saved. Loss:0.5259, Score:0.2421\n",
      "========================================================\n",
      "Epoch 29/4000\n"
     ]
    },
    {
     "name": "stderr",
     "output_type": "stream",
     "text": [
      "Training: 100%|██████████| 60/60 [01:37<00:00,  1.62s/it, loss=0.539]\n",
      "Validation: 100%|██████████| 5/5 [00:03<00:00,  1.54it/s, loss=0.523]\n"
     ]
    },
    {
     "name": "stdout",
     "output_type": "stream",
     "text": [
      "Validation Dice Score\n",
      "Class 0: 0.9886, Class 1: 0.0000, Class 2: 0.0000, Class 3: 0.0725, Class 4: 0.4990, Class 5: 0.2719, Class 6: 0.6226, \n",
      "Validation F-beta Score\n",
      "Class 0: 0.9923, Class 1: 0.0000, Class 2: 0.0000, Class 3: 0.0535, Class 4: 0.4378, Class 5: 0.2574, Class 6: 0.5530, \n",
      "\n",
      "Overall Mean Dice Score: 0.2932\n",
      "Overall Mean F-beta Score: 0.2603\n",
      "\n",
      "Training Loss: 0.5389, Validation Loss: 0.5244, Validation F-beta: 0.2603\n",
      "========================================================\n",
      "SUPER Best model saved. Loss:0.5244, Score:0.2603\n",
      "========================================================\n",
      "Epoch 30/4000\n"
     ]
    },
    {
     "name": "stderr",
     "output_type": "stream",
     "text": [
      "Training: 100%|██████████| 60/60 [01:39<00:00,  1.66s/it, loss=0.539]\n",
      "Validation: 100%|██████████| 5/5 [00:03<00:00,  1.54it/s, loss=0.526]\n"
     ]
    },
    {
     "name": "stdout",
     "output_type": "stream",
     "text": [
      "Validation Dice Score\n",
      "Class 0: 0.9878, Class 1: 0.0000, Class 2: 0.0000, Class 3: 0.0825, Class 4: 0.5168, Class 5: 0.2727, Class 6: 0.5711, \n",
      "Validation F-beta Score\n",
      "Class 0: 0.9907, Class 1: 0.0000, Class 2: 0.0000, Class 3: 0.0570, Class 4: 0.4656, Class 5: 0.2457, Class 6: 0.6553, \n",
      "\n",
      "Overall Mean Dice Score: 0.2886\n",
      "Overall Mean F-beta Score: 0.2847\n",
      "\n",
      "Training Loss: 0.5356, Validation Loss: 0.5245, Validation F-beta: 0.2847\n",
      "Epoch 31/4000\n"
     ]
    },
    {
     "name": "stderr",
     "output_type": "stream",
     "text": [
      "Training: 100%|██████████| 60/60 [01:42<00:00,  1.70s/it, loss=0.54] \n",
      "Validation: 100%|██████████| 5/5 [00:03<00:00,  1.47it/s, loss=0.518]\n"
     ]
    },
    {
     "name": "stdout",
     "output_type": "stream",
     "text": [
      "Validation Dice Score\n",
      "Class 0: 0.9887, Class 1: 0.0000, Class 2: 0.0000, Class 3: 0.0884, Class 4: 0.5439, Class 5: 0.2787, Class 6: 0.6803, \n",
      "Validation F-beta Score\n",
      "Class 0: 0.9906, Class 1: 0.0000, Class 2: 0.0000, Class 3: 0.0644, Class 4: 0.5537, Class 5: 0.2417, Class 6: 0.6648, \n",
      "\n",
      "Overall Mean Dice Score: 0.3183\n",
      "Overall Mean F-beta Score: 0.3049\n",
      "\n",
      "Training Loss: 0.5335, Validation Loss: 0.5186, Validation F-beta: 0.3049\n",
      "========================================================\n",
      "SUPER Best model saved. Loss:0.5186, Score:0.3049\n",
      "========================================================\n",
      "Epoch 32/4000\n"
     ]
    },
    {
     "name": "stderr",
     "output_type": "stream",
     "text": [
      "Training: 100%|██████████| 60/60 [02:26<00:00,  2.44s/it, loss=0.543]\n",
      "Validation: 100%|██████████| 5/5 [00:03<00:00,  1.53it/s, loss=0.517]\n"
     ]
    },
    {
     "name": "stdout",
     "output_type": "stream",
     "text": [
      "Validation Dice Score\n",
      "Class 0: 0.9887, Class 1: 0.0000, Class 2: 0.0000, Class 3: 0.0852, Class 4: 0.5579, Class 5: 0.2971, Class 6: 0.7189, \n",
      "Validation F-beta Score\n",
      "Class 0: 0.9906, Class 1: 0.0000, Class 2: 0.0000, Class 3: 0.0621, Class 4: 0.5267, Class 5: 0.3272, Class 6: 0.6223, \n",
      "\n",
      "Overall Mean Dice Score: 0.3318\n",
      "Overall Mean F-beta Score: 0.3077\n",
      "\n",
      "Training Loss: 0.5303, Validation Loss: 0.5133, Validation F-beta: 0.3077\n",
      "========================================================\n",
      "SUPER Best model saved. Loss:0.5133, Score:0.3077\n",
      "========================================================\n",
      "Epoch 33/4000\n"
     ]
    },
    {
     "name": "stderr",
     "output_type": "stream",
     "text": [
      "Training: 100%|██████████| 60/60 [01:38<00:00,  1.65s/it, loss=0.532]\n",
      "Validation: 100%|██████████| 5/5 [00:03<00:00,  1.53it/s, loss=0.506]\n"
     ]
    },
    {
     "name": "stdout",
     "output_type": "stream",
     "text": [
      "Validation Dice Score\n",
      "Class 0: 0.9884, Class 1: 0.0000, Class 2: 0.0000, Class 3: 0.0925, Class 4: 0.5648, Class 5: 0.3383, Class 6: 0.7643, \n",
      "Validation F-beta Score\n",
      "Class 0: 0.9898, Class 1: 0.0000, Class 2: 0.0000, Class 3: 0.0638, Class 4: 0.5569, Class 5: 0.3388, Class 6: 0.7306, \n",
      "\n",
      "Overall Mean Dice Score: 0.3520\n",
      "Overall Mean F-beta Score: 0.3380\n",
      "\n",
      "Training Loss: 0.5265, Validation Loss: 0.5104, Validation F-beta: 0.3380\n",
      "========================================================\n",
      "SUPER Best model saved. Loss:0.5104, Score:0.3380\n",
      "========================================================\n",
      "Epoch 34/4000\n"
     ]
    },
    {
     "name": "stderr",
     "output_type": "stream",
     "text": [
      "Training: 100%|██████████| 60/60 [01:42<00:00,  1.71s/it, loss=0.533]\n",
      "Validation: 100%|██████████| 5/5 [00:03<00:00,  1.48it/s, loss=0.51] \n"
     ]
    },
    {
     "name": "stdout",
     "output_type": "stream",
     "text": [
      "Validation Dice Score\n",
      "Class 0: 0.9874, Class 1: 0.0000, Class 2: 0.0000, Class 3: 0.0933, Class 4: 0.5740, Class 5: 0.3160, Class 6: 0.7519, \n",
      "Validation F-beta Score\n",
      "Class 0: 0.9877, Class 1: 0.0000, Class 2: 0.0000, Class 3: 0.0632, Class 4: 0.5935, Class 5: 0.3329, Class 6: 0.7389, \n",
      "\n",
      "Overall Mean Dice Score: 0.3470\n",
      "Overall Mean F-beta Score: 0.3457\n",
      "\n",
      "Training Loss: 0.5242, Validation Loss: 0.5132, Validation F-beta: 0.3457\n",
      "Epoch 35/4000\n"
     ]
    },
    {
     "name": "stderr",
     "output_type": "stream",
     "text": [
      "Training: 100%|██████████| 60/60 [01:36<00:00,  1.60s/it, loss=0.528]\n",
      "Validation: 100%|██████████| 5/5 [00:03<00:00,  1.54it/s, loss=0.518]\n"
     ]
    },
    {
     "name": "stdout",
     "output_type": "stream",
     "text": [
      "Validation Dice Score\n",
      "Class 0: 0.9883, Class 1: 0.0000, Class 2: 0.0000, Class 3: 0.1492, Class 4: 0.5954, Class 5: 0.3254, Class 6: 0.6812, \n",
      "Validation F-beta Score\n",
      "Class 0: 0.9912, Class 1: 0.0000, Class 2: 0.0000, Class 3: 0.1225, Class 4: 0.5486, Class 5: 0.2800, Class 6: 0.7618, \n",
      "\n",
      "Overall Mean Dice Score: 0.3502\n",
      "Overall Mean F-beta Score: 0.3426\n",
      "\n",
      "Training Loss: 0.5220, Validation Loss: 0.5114, Validation F-beta: 0.3426\n",
      "Epoch 36/4000\n"
     ]
    },
    {
     "name": "stderr",
     "output_type": "stream",
     "text": [
      "Training: 100%|██████████| 60/60 [01:38<00:00,  1.64s/it, loss=0.527]\n",
      "Validation: 100%|██████████| 5/5 [00:03<00:00,  1.53it/s, loss=0.51] \n"
     ]
    },
    {
     "name": "stdout",
     "output_type": "stream",
     "text": [
      "Validation Dice Score\n",
      "Class 0: 0.9882, Class 1: 0.0000, Class 2: 0.0000, Class 3: 0.2013, Class 4: 0.6077, Class 5: 0.3065, Class 6: 0.7625, \n",
      "Validation F-beta Score\n",
      "Class 0: 0.9896, Class 1: 0.0000, Class 2: 0.0000, Class 3: 0.1493, Class 4: 0.5451, Class 5: 0.3703, Class 6: 0.7414, \n",
      "\n",
      "Overall Mean Dice Score: 0.3756\n",
      "Overall Mean F-beta Score: 0.3612\n",
      "\n",
      "Training Loss: 0.5206, Validation Loss: 0.5065, Validation F-beta: 0.3612\n",
      "========================================================\n",
      "SUPER Best model saved. Loss:0.5065, Score:0.3612\n",
      "========================================================\n",
      "Epoch 37/4000\n"
     ]
    },
    {
     "name": "stderr",
     "output_type": "stream",
     "text": [
      "Training: 100%|██████████| 60/60 [01:42<00:00,  1.70s/it, loss=0.531]\n",
      "Validation: 100%|██████████| 5/5 [00:03<00:00,  1.52it/s, loss=0.501]\n"
     ]
    },
    {
     "name": "stdout",
     "output_type": "stream",
     "text": [
      "Validation Dice Score\n",
      "Class 0: 0.9888, Class 1: 0.0000, Class 2: 0.0000, Class 3: 0.2210, Class 4: 0.6201, Class 5: 0.3410, Class 6: 0.7805, \n",
      "Validation F-beta Score\n",
      "Class 0: 0.9898, Class 1: 0.0000, Class 2: 0.0000, Class 3: 0.1813, Class 4: 0.5884, Class 5: 0.3692, Class 6: 0.7578, \n",
      "\n",
      "Overall Mean Dice Score: 0.3925\n",
      "Overall Mean F-beta Score: 0.3794\n",
      "\n",
      "Training Loss: 0.5180, Validation Loss: 0.5016, Validation F-beta: 0.3794\n",
      "========================================================\n",
      "SUPER Best model saved. Loss:0.5016, Score:0.3794\n",
      "========================================================\n",
      "Epoch 38/4000\n"
     ]
    },
    {
     "name": "stderr",
     "output_type": "stream",
     "text": [
      "Training: 100%|██████████| 60/60 [01:36<00:00,  1.61s/it, loss=0.52] \n",
      "Validation: 100%|██████████| 5/5 [00:03<00:00,  1.56it/s, loss=0.505]\n"
     ]
    },
    {
     "name": "stdout",
     "output_type": "stream",
     "text": [
      "Validation Dice Score\n",
      "Class 0: 0.9885, Class 1: 0.0000, Class 2: 0.0000, Class 3: 0.2750, Class 4: 0.6059, Class 5: 0.3036, Class 6: 0.7612, \n",
      "Validation F-beta Score\n",
      "Class 0: 0.9897, Class 1: 0.0000, Class 2: 0.0000, Class 3: 0.2511, Class 4: 0.5710, Class 5: 0.3108, Class 6: 0.7791, \n",
      "\n",
      "Overall Mean Dice Score: 0.3891\n",
      "Overall Mean F-beta Score: 0.3824\n",
      "\n",
      "Training Loss: 0.5162, Validation Loss: 0.5031, Validation F-beta: 0.3824\n",
      "Epoch 39/4000\n"
     ]
    },
    {
     "name": "stderr",
     "output_type": "stream",
     "text": [
      "Training: 100%|██████████| 60/60 [01:38<00:00,  1.64s/it, loss=0.52] \n",
      "Validation: 100%|██████████| 5/5 [00:03<00:00,  1.51it/s, loss=0.506]\n"
     ]
    },
    {
     "name": "stdout",
     "output_type": "stream",
     "text": [
      "Validation Dice Score\n",
      "Class 0: 0.9889, Class 1: 0.0000, Class 2: 0.0000, Class 3: 0.2676, Class 4: 0.5888, Class 5: 0.3436, Class 6: 0.7726, \n",
      "Validation F-beta Score\n",
      "Class 0: 0.9904, Class 1: 0.0000, Class 2: 0.0000, Class 3: 0.2699, Class 4: 0.5120, Class 5: 0.3695, Class 6: 0.7641, \n",
      "\n",
      "Overall Mean Dice Score: 0.3945\n",
      "Overall Mean F-beta Score: 0.3831\n",
      "\n",
      "Training Loss: 0.5137, Validation Loss: 0.5014, Validation F-beta: 0.3831\n",
      "========================================================\n",
      "SUPER Best model saved. Loss:0.5014, Score:0.3831\n",
      "========================================================\n",
      "Epoch 40/4000\n"
     ]
    },
    {
     "name": "stderr",
     "output_type": "stream",
     "text": [
      "Training: 100%|██████████| 60/60 [01:39<00:00,  1.66s/it, loss=0.519]\n",
      "Validation: 100%|██████████| 5/5 [00:04<00:00,  1.20it/s, loss=0.504]\n"
     ]
    },
    {
     "name": "stdout",
     "output_type": "stream",
     "text": [
      "Validation Dice Score\n",
      "Class 0: 0.9873, Class 1: 0.0000, Class 2: 0.0000, Class 3: 0.2457, Class 4: 0.6183, Class 5: 0.3400, Class 6: 0.7937, \n",
      "Validation F-beta Score\n",
      "Class 0: 0.9867, Class 1: 0.0000, Class 2: 0.0000, Class 3: 0.2034, Class 4: 0.6481, Class 5: 0.3843, Class 6: 0.7695, \n",
      "\n",
      "Overall Mean Dice Score: 0.3995\n",
      "Overall Mean F-beta Score: 0.4011\n",
      "\n",
      "Training Loss: 0.5122, Validation Loss: 0.5020, Validation F-beta: 0.4011\n",
      "Epoch 41/4000\n"
     ]
    },
    {
     "name": "stderr",
     "output_type": "stream",
     "text": [
      "Training: 100%|██████████| 60/60 [01:41<00:00,  1.69s/it, loss=0.513]\n",
      "Validation: 100%|██████████| 5/5 [00:03<00:00,  1.51it/s, loss=0.504]\n"
     ]
    },
    {
     "name": "stdout",
     "output_type": "stream",
     "text": [
      "Validation Dice Score\n",
      "Class 0: 0.9884, Class 1: 0.0001, Class 2: 0.0000, Class 3: 0.2618, Class 4: 0.6330, Class 5: 0.3123, Class 6: 0.7649, \n",
      "Validation F-beta Score\n",
      "Class 0: 0.9907, Class 1: 0.0000, Class 2: 0.0000, Class 3: 0.2906, Class 4: 0.5858, Class 5: 0.2774, Class 6: 0.7938, \n",
      "\n",
      "Overall Mean Dice Score: 0.3944\n",
      "Overall Mean F-beta Score: 0.3895\n",
      "\n",
      "Training Loss: 0.5092, Validation Loss: 0.5010, Validation F-beta: 0.3895\n",
      "========================================================\n",
      "SUPER Best model saved. Loss:0.5010, Score:0.3895\n",
      "========================================================\n",
      "Epoch 42/4000\n"
     ]
    },
    {
     "name": "stderr",
     "output_type": "stream",
     "text": [
      "Training: 100%|██████████| 60/60 [01:37<00:00,  1.62s/it, loss=0.527]\n",
      "Validation: 100%|██████████| 5/5 [00:03<00:00,  1.53it/s, loss=0.502]\n"
     ]
    },
    {
     "name": "stdout",
     "output_type": "stream",
     "text": [
      "Validation Dice Score\n",
      "Class 0: 0.9888, Class 1: 0.0001, Class 2: 0.0000, Class 3: 0.2806, Class 4: 0.6417, Class 5: 0.3388, Class 6: 0.7858, \n",
      "Validation F-beta Score\n",
      "Class 0: 0.9904, Class 1: 0.0001, Class 2: 0.0000, Class 3: 0.3278, Class 4: 0.5942, Class 5: 0.3232, Class 6: 0.8052, \n",
      "\n",
      "Overall Mean Dice Score: 0.4094\n",
      "Overall Mean F-beta Score: 0.4101\n",
      "\n",
      "Training Loss: 0.5081, Validation Loss: 0.4954, Validation F-beta: 0.4101\n",
      "========================================================\n",
      "SUPER Best model saved. Loss:0.4954, Score:0.4101\n",
      "========================================================\n",
      "Epoch 43/4000\n"
     ]
    },
    {
     "name": "stderr",
     "output_type": "stream",
     "text": [
      "Training: 100%|██████████| 60/60 [01:38<00:00,  1.65s/it, loss=0.507]\n",
      "Validation: 100%|██████████| 5/5 [00:03<00:00,  1.48it/s, loss=0.495]\n"
     ]
    },
    {
     "name": "stdout",
     "output_type": "stream",
     "text": [
      "Validation Dice Score\n",
      "Class 0: 0.9887, Class 1: 0.0002, Class 2: 0.0000, Class 3: 0.3098, Class 4: 0.6432, Class 5: 0.3496, Class 6: 0.7990, \n",
      "Validation F-beta Score\n",
      "Class 0: 0.9898, Class 1: 0.0001, Class 2: 0.0000, Class 3: 0.3038, Class 4: 0.6204, Class 5: 0.3454, Class 6: 0.8057, \n",
      "\n",
      "Overall Mean Dice Score: 0.4204\n",
      "Overall Mean F-beta Score: 0.4151\n",
      "\n",
      "Training Loss: 0.5068, Validation Loss: 0.4955, Validation F-beta: 0.4151\n",
      "Epoch 44/4000\n"
     ]
    },
    {
     "name": "stderr",
     "output_type": "stream",
     "text": [
      "Training: 100%|██████████| 60/60 [01:48<00:00,  1.80s/it, loss=0.51] \n",
      "Validation: 100%|██████████| 5/5 [00:03<00:00,  1.49it/s, loss=0.495]\n"
     ]
    },
    {
     "name": "stdout",
     "output_type": "stream",
     "text": [
      "Validation Dice Score\n",
      "Class 0: 0.9882, Class 1: 0.0004, Class 2: 0.0000, Class 3: 0.3020, Class 4: 0.6527, Class 5: 0.3839, Class 6: 0.7948, \n",
      "Validation F-beta Score\n",
      "Class 0: 0.9888, Class 1: 0.0002, Class 2: 0.0000, Class 3: 0.3531, Class 4: 0.6230, Class 5: 0.3946, Class 6: 0.8196, \n",
      "\n",
      "Overall Mean Dice Score: 0.4268\n",
      "Overall Mean F-beta Score: 0.4381\n",
      "\n",
      "Training Loss: 0.5042, Validation Loss: 0.4929, Validation F-beta: 0.4381\n",
      "========================================================\n",
      "SUPER Best model saved. Loss:0.4929, Score:0.4381\n",
      "========================================================\n",
      "Epoch 45/4000\n"
     ]
    },
    {
     "name": "stderr",
     "output_type": "stream",
     "text": [
      "Training: 100%|██████████| 60/60 [01:36<00:00,  1.61s/it, loss=0.505]\n",
      "Validation: 100%|██████████| 5/5 [00:03<00:00,  1.49it/s, loss=0.489]\n"
     ]
    },
    {
     "name": "stdout",
     "output_type": "stream",
     "text": [
      "Validation Dice Score\n",
      "Class 0: 0.9887, Class 1: 0.0002, Class 2: 0.0000, Class 3: 0.3159, Class 4: 0.6393, Class 5: 0.4048, Class 6: 0.8134, \n",
      "Validation F-beta Score\n",
      "Class 0: 0.9887, Class 1: 0.0001, Class 2: 0.0000, Class 3: 0.3221, Class 4: 0.6280, Class 5: 0.4549, Class 6: 0.7797, \n",
      "\n",
      "Overall Mean Dice Score: 0.4347\n",
      "Overall Mean F-beta Score: 0.4370\n",
      "\n",
      "Training Loss: 0.5047, Validation Loss: 0.4915, Validation F-beta: 0.4370\n",
      "Epoch 46/4000\n"
     ]
    },
    {
     "name": "stderr",
     "output_type": "stream",
     "text": [
      "Training: 100%|██████████| 60/60 [02:16<00:00,  2.28s/it, loss=0.513]\n",
      "Validation: 100%|██████████| 5/5 [00:03<00:00,  1.49it/s, loss=0.485]\n"
     ]
    },
    {
     "name": "stdout",
     "output_type": "stream",
     "text": [
      "Validation Dice Score\n",
      "Class 0: 0.9897, Class 1: 0.0011, Class 2: 0.0000, Class 3: 0.3037, Class 4: 0.6378, Class 5: 0.3784, Class 6: 0.8292, \n",
      "Validation F-beta Score\n",
      "Class 0: 0.9887, Class 1: 0.0006, Class 2: 0.0000, Class 3: 0.3637, Class 4: 0.6417, Class 5: 0.4426, Class 6: 0.8350, \n",
      "\n",
      "Overall Mean Dice Score: 0.4301\n",
      "Overall Mean F-beta Score: 0.4567\n",
      "\n",
      "Training Loss: 0.5040, Validation Loss: 0.4886, Validation F-beta: 0.4567\n",
      "========================================================\n",
      "SUPER Best model saved. Loss:0.4886, Score:0.4567\n",
      "========================================================\n",
      "Epoch 47/4000\n"
     ]
    },
    {
     "name": "stderr",
     "output_type": "stream",
     "text": [
      "Training: 100%|██████████| 60/60 [01:39<00:00,  1.66s/it, loss=0.51] \n",
      "Validation: 100%|██████████| 5/5 [00:04<00:00,  1.08it/s, loss=0.492]\n"
     ]
    },
    {
     "name": "stdout",
     "output_type": "stream",
     "text": [
      "Validation Dice Score\n",
      "Class 0: 0.9879, Class 1: 0.0028, Class 2: 0.0000, Class 3: 0.3308, Class 4: 0.6579, Class 5: 0.3833, Class 6: 0.7772, \n",
      "Validation F-beta Score\n",
      "Class 0: 0.9879, Class 1: 0.0015, Class 2: 0.0000, Class 3: 0.3790, Class 4: 0.6439, Class 5: 0.4031, Class 6: 0.8423, \n",
      "\n",
      "Overall Mean Dice Score: 0.4304\n",
      "Overall Mean F-beta Score: 0.4540\n",
      "\n",
      "Training Loss: 0.5016, Validation Loss: 0.4919, Validation F-beta: 0.4540\n",
      "Epoch 48/4000\n"
     ]
    },
    {
     "name": "stderr",
     "output_type": "stream",
     "text": [
      "Training: 100%|██████████| 60/60 [01:35<00:00,  1.60s/it, loss=0.511]\n",
      "Validation: 100%|██████████| 5/5 [00:03<00:00,  1.49it/s, loss=0.49] \n"
     ]
    },
    {
     "name": "stdout",
     "output_type": "stream",
     "text": [
      "Validation Dice Score\n",
      "Class 0: 0.9890, Class 1: 0.0028, Class 2: 0.0000, Class 3: 0.3507, Class 4: 0.6475, Class 5: 0.3718, Class 6: 0.7980, \n",
      "Validation F-beta Score\n",
      "Class 0: 0.9895, Class 1: 0.0015, Class 2: 0.0000, Class 3: 0.3688, Class 4: 0.6453, Class 5: 0.3841, Class 6: 0.7875, \n",
      "\n",
      "Overall Mean Dice Score: 0.4342\n",
      "Overall Mean F-beta Score: 0.4374\n",
      "\n",
      "Training Loss: 0.5007, Validation Loss: 0.4873, Validation F-beta: 0.4374\n",
      "Epoch 49/4000\n"
     ]
    },
    {
     "name": "stderr",
     "output_type": "stream",
     "text": [
      "Training: 100%|██████████| 60/60 [01:37<00:00,  1.62s/it, loss=0.511]\n",
      "Validation: 100%|██████████| 5/5 [00:03<00:00,  1.51it/s, loss=0.497]\n"
     ]
    },
    {
     "name": "stdout",
     "output_type": "stream",
     "text": [
      "Validation Dice Score\n",
      "Class 0: 0.9881, Class 1: 0.0106, Class 2: 0.0000, Class 3: 0.3623, Class 4: 0.6484, Class 5: 0.3639, Class 6: 0.8019, \n",
      "Validation F-beta Score\n",
      "Class 0: 0.9864, Class 1: 0.0059, Class 2: 0.0000, Class 3: 0.3613, Class 4: 0.6739, Class 5: 0.4341, Class 6: 0.8424, \n",
      "\n",
      "Overall Mean Dice Score: 0.4374\n",
      "Overall Mean F-beta Score: 0.4635\n",
      "\n",
      "Training Loss: 0.5003, Validation Loss: 0.4927, Validation F-beta: 0.4635\n",
      "Epoch 50/4000\n"
     ]
    },
    {
     "name": "stderr",
     "output_type": "stream",
     "text": [
      "Training: 100%|██████████| 60/60 [01:39<00:00,  1.66s/it, loss=0.505]\n",
      "Validation: 100%|██████████| 5/5 [00:03<00:00,  1.50it/s, loss=0.494]\n"
     ]
    },
    {
     "name": "stdout",
     "output_type": "stream",
     "text": [
      "Validation Dice Score\n",
      "Class 0: 0.9864, Class 1: 0.0078, Class 2: 0.0000, Class 3: 0.3505, Class 4: 0.6559, Class 5: 0.3182, Class 6: 0.8347, \n",
      "Validation F-beta Score\n",
      "Class 0: 0.9832, Class 1: 0.0043, Class 2: 0.0000, Class 3: 0.3961, Class 4: 0.7223, Class 5: 0.3972, Class 6: 0.8450, \n",
      "\n",
      "Overall Mean Dice Score: 0.4334\n",
      "Overall Mean F-beta Score: 0.4730\n",
      "\n",
      "Training Loss: 0.4985, Validation Loss: 0.4930, Validation F-beta: 0.4730\n",
      "Epoch 51/4000\n"
     ]
    },
    {
     "name": "stderr",
     "output_type": "stream",
     "text": [
      "Training: 100%|██████████| 60/60 [01:42<00:00,  1.70s/it, loss=0.507]\n",
      "Validation: 100%|██████████| 5/5 [00:03<00:00,  1.46it/s, loss=0.491]\n"
     ]
    },
    {
     "name": "stdout",
     "output_type": "stream",
     "text": [
      "Validation Dice Score\n",
      "Class 0: 0.9870, Class 1: 0.0129, Class 2: 0.0000, Class 3: 0.3885, Class 4: 0.6820, Class 5: 0.3911, Class 6: 0.7998, \n",
      "Validation F-beta Score\n",
      "Class 0: 0.9852, Class 1: 0.0072, Class 2: 0.0000, Class 3: 0.4642, Class 4: 0.7092, Class 5: 0.4352, Class 6: 0.8745, \n",
      "\n",
      "Overall Mean Dice Score: 0.4548\n",
      "Overall Mean F-beta Score: 0.4981\n",
      "\n",
      "Training Loss: 0.4966, Validation Loss: 0.4851, Validation F-beta: 0.4981\n",
      "========================================================\n",
      "SUPER Best model saved. Loss:0.4851, Score:0.4981\n",
      "========================================================\n",
      "Epoch 52/4000\n"
     ]
    },
    {
     "name": "stderr",
     "output_type": "stream",
     "text": [
      "Training: 100%|██████████| 60/60 [01:36<00:00,  1.61s/it, loss=0.497]\n",
      "Validation: 100%|██████████| 5/5 [00:03<00:00,  1.50it/s, loss=0.495]\n"
     ]
    },
    {
     "name": "stdout",
     "output_type": "stream",
     "text": [
      "Validation Dice Score\n",
      "Class 0: 0.9894, Class 1: 0.0192, Class 2: 0.0000, Class 3: 0.3427, Class 4: 0.5509, Class 5: 0.2879, Class 6: 0.7702, \n",
      "Validation F-beta Score\n",
      "Class 0: 0.9936, Class 1: 0.0109, Class 2: 0.0000, Class 3: 0.4849, Class 4: 0.4377, Class 5: 0.2164, Class 6: 0.7926, \n",
      "\n",
      "Overall Mean Dice Score: 0.3942\n",
      "Overall Mean F-beta Score: 0.3885\n",
      "\n",
      "Training Loss: 0.4977, Validation Loss: 0.4916, Validation F-beta: 0.3885\n",
      "Epoch 53/4000\n"
     ]
    },
    {
     "name": "stderr",
     "output_type": "stream",
     "text": [
      "Training: 100%|██████████| 60/60 [01:38<00:00,  1.64s/it, loss=0.506]\n",
      "Validation: 100%|██████████| 5/5 [00:03<00:00,  1.52it/s, loss=0.488]\n"
     ]
    },
    {
     "name": "stdout",
     "output_type": "stream",
     "text": [
      "Validation Dice Score\n",
      "Class 0: 0.9860, Class 1: 0.0171, Class 2: 0.0000, Class 3: 0.4196, Class 4: 0.6225, Class 5: 0.3536, Class 6: 0.8369, \n",
      "Validation F-beta Score\n",
      "Class 0: 0.9822, Class 1: 0.0101, Class 2: 0.0000, Class 3: 0.4768, Class 4: 0.6997, Class 5: 0.4475, Class 6: 0.8693, \n",
      "\n",
      "Overall Mean Dice Score: 0.4499\n",
      "Overall Mean F-beta Score: 0.5007\n",
      "\n",
      "Training Loss: 0.4972, Validation Loss: 0.4887, Validation F-beta: 0.5007\n",
      "Epoch 54/4000\n"
     ]
    },
    {
     "name": "stderr",
     "output_type": "stream",
     "text": [
      "Training: 100%|██████████| 60/60 [01:41<00:00,  1.69s/it, loss=0.505]\n",
      "Validation: 100%|██████████| 5/5 [00:03<00:00,  1.49it/s, loss=0.491]\n"
     ]
    },
    {
     "name": "stdout",
     "output_type": "stream",
     "text": [
      "Validation Dice Score\n",
      "Class 0: 0.9883, Class 1: 0.0223, Class 2: 0.0000, Class 3: 0.3888, Class 4: 0.6559, Class 5: 0.3914, Class 6: 0.8153, \n",
      "Validation F-beta Score\n",
      "Class 0: 0.9881, Class 1: 0.0132, Class 2: 0.0000, Class 3: 0.4663, Class 4: 0.6166, Class 5: 0.4490, Class 6: 0.8330, \n",
      "\n",
      "Overall Mean Dice Score: 0.4547\n",
      "Overall Mean F-beta Score: 0.4756\n",
      "\n",
      "Training Loss: 0.4965, Validation Loss: 0.4831, Validation F-beta: 0.4756\n",
      "Epoch 55/4000\n"
     ]
    },
    {
     "name": "stderr",
     "output_type": "stream",
     "text": [
      "Training: 100%|██████████| 60/60 [01:36<00:00,  1.60s/it, loss=0.494]\n",
      "Validation: 100%|██████████| 5/5 [00:03<00:00,  1.50it/s, loss=0.484]\n"
     ]
    },
    {
     "name": "stdout",
     "output_type": "stream",
     "text": [
      "Validation Dice Score\n",
      "Class 0: 0.9886, Class 1: 0.0463, Class 2: 0.0000, Class 3: 0.3730, Class 4: 0.6680, Class 5: 0.3576, Class 6: 0.8129, \n",
      "Validation F-beta Score\n",
      "Class 0: 0.9875, Class 1: 0.0296, Class 2: 0.0000, Class 3: 0.5111, Class 4: 0.6929, Class 5: 0.3631, Class 6: 0.8693, \n",
      "\n",
      "Overall Mean Dice Score: 0.4515\n",
      "Overall Mean F-beta Score: 0.4932\n",
      "\n",
      "Training Loss: 0.4942, Validation Loss: 0.4842, Validation F-beta: 0.4932\n",
      "Epoch 56/4000\n"
     ]
    },
    {
     "name": "stderr",
     "output_type": "stream",
     "text": [
      "Training: 100%|██████████| 60/60 [01:37<00:00,  1.63s/it, loss=0.493]\n",
      "Validation: 100%|██████████| 5/5 [00:03<00:00,  1.54it/s, loss=0.478]\n"
     ]
    },
    {
     "name": "stdout",
     "output_type": "stream",
     "text": [
      "Validation Dice Score\n",
      "Class 0: 0.9886, Class 1: 0.0351, Class 2: 0.0000, Class 3: 0.4326, Class 4: 0.6703, Class 5: 0.3421, Class 6: 0.8351, \n",
      "Validation F-beta Score\n",
      "Class 0: 0.9870, Class 1: 0.0218, Class 2: 0.0000, Class 3: 0.4938, Class 4: 0.6819, Class 5: 0.4200, Class 6: 0.8615, \n",
      "\n",
      "Overall Mean Dice Score: 0.4630\n",
      "Overall Mean F-beta Score: 0.4958\n",
      "\n",
      "Training Loss: 0.4918, Validation Loss: 0.4828, Validation F-beta: 0.4958\n",
      "Epoch 57/4000\n"
     ]
    },
    {
     "name": "stderr",
     "output_type": "stream",
     "text": [
      "Training: 100%|██████████| 60/60 [01:40<00:00,  1.67s/it, loss=0.497]\n",
      "Validation: 100%|██████████| 5/5 [00:04<00:00,  1.13it/s, loss=0.483]\n"
     ]
    },
    {
     "name": "stdout",
     "output_type": "stream",
     "text": [
      "Validation Dice Score\n",
      "Class 0: 0.9879, Class 1: 0.0597, Class 2: 0.0000, Class 3: 0.4222, Class 4: 0.6672, Class 5: 0.3666, Class 6: 0.8213, \n",
      "Validation F-beta Score\n",
      "Class 0: 0.9863, Class 1: 0.0393, Class 2: 0.0000, Class 3: 0.5567, Class 4: 0.6835, Class 5: 0.4198, Class 6: 0.8519, \n",
      "\n",
      "Overall Mean Dice Score: 0.4674\n",
      "Overall Mean F-beta Score: 0.5102\n",
      "\n",
      "Training Loss: 0.4917, Validation Loss: 0.4840, Validation F-beta: 0.5102\n",
      "========================================================\n",
      "SUPER Best model saved. Loss:0.4840, Score:0.5102\n",
      "========================================================\n",
      "Epoch 58/4000\n"
     ]
    },
    {
     "name": "stderr",
     "output_type": "stream",
     "text": [
      "Training: 100%|██████████| 60/60 [01:35<00:00,  1.59s/it, loss=0.495]\n",
      "Validation: 100%|██████████| 5/5 [00:03<00:00,  1.50it/s, loss=0.491]\n"
     ]
    },
    {
     "name": "stdout",
     "output_type": "stream",
     "text": [
      "Validation Dice Score\n",
      "Class 0: 0.9895, Class 1: 0.0591, Class 2: 0.0000, Class 3: 0.3501, Class 4: 0.6223, Class 5: 0.3795, Class 6: 0.7951, \n",
      "Validation F-beta Score\n",
      "Class 0: 0.9924, Class 1: 0.0397, Class 2: 0.0000, Class 3: 0.5075, Class 4: 0.5332, Class 5: 0.3180, Class 6: 0.7966, \n",
      "\n",
      "Overall Mean Dice Score: 0.4412\n",
      "Overall Mean F-beta Score: 0.4390\n",
      "\n",
      "Training Loss: 0.4907, Validation Loss: 0.4813, Validation F-beta: 0.4390\n",
      "Epoch 59/4000\n"
     ]
    },
    {
     "name": "stderr",
     "output_type": "stream",
     "text": [
      "Training: 100%|██████████| 60/60 [01:38<00:00,  1.64s/it, loss=0.498]\n",
      "Validation: 100%|██████████| 5/5 [00:03<00:00,  1.55it/s, loss=0.485]\n"
     ]
    },
    {
     "name": "stdout",
     "output_type": "stream",
     "text": [
      "Validation Dice Score\n",
      "Class 0: 0.9880, Class 1: 0.0870, Class 2: 0.0000, Class 3: 0.4138, Class 4: 0.6399, Class 5: 0.3930, Class 6: 0.8225, \n",
      "Validation F-beta Score\n",
      "Class 0: 0.9847, Class 1: 0.0661, Class 2: 0.0000, Class 3: 0.5047, Class 4: 0.7373, Class 5: 0.4377, Class 6: 0.8912, \n",
      "\n",
      "Overall Mean Dice Score: 0.4712\n",
      "Overall Mean F-beta Score: 0.5274\n",
      "\n",
      "Training Loss: 0.4925, Validation Loss: 0.4822, Validation F-beta: 0.5274\n",
      "========================================================\n",
      "SUPER Best model saved. Loss:0.4822, Score:0.5274\n",
      "========================================================\n",
      "Epoch 60/4000\n"
     ]
    },
    {
     "name": "stderr",
     "output_type": "stream",
     "text": [
      "Training: 100%|██████████| 60/60 [01:39<00:00,  1.66s/it, loss=0.508]\n",
      "Validation: 100%|██████████| 5/5 [00:04<00:00,  1.14it/s, loss=0.489]\n"
     ]
    },
    {
     "name": "stdout",
     "output_type": "stream",
     "text": [
      "Validation Dice Score\n",
      "Class 0: 0.9878, Class 1: 0.0772, Class 2: 0.0000, Class 3: 0.4379, Class 4: 0.6454, Class 5: 0.3686, Class 6: 0.8232, \n",
      "Validation F-beta Score\n",
      "Class 0: 0.9878, Class 1: 0.0566, Class 2: 0.0000, Class 3: 0.5498, Class 4: 0.6245, Class 5: 0.3946, Class 6: 0.8226, \n",
      "\n",
      "Overall Mean Dice Score: 0.4705\n",
      "Overall Mean F-beta Score: 0.4896\n",
      "\n",
      "Training Loss: 0.4892, Validation Loss: 0.4812, Validation F-beta: 0.4896\n",
      "Epoch 61/4000\n"
     ]
    },
    {
     "name": "stderr",
     "output_type": "stream",
     "text": [
      "Training: 100%|██████████| 60/60 [01:35<00:00,  1.60s/it, loss=0.503]\n",
      "Validation: 100%|██████████| 5/5 [00:03<00:00,  1.53it/s, loss=0.485]\n"
     ]
    },
    {
     "name": "stdout",
     "output_type": "stream",
     "text": [
      "Validation Dice Score\n",
      "Class 0: 0.9890, Class 1: 0.0838, Class 2: 0.0000, Class 3: 0.4051, Class 4: 0.6638, Class 5: 0.3947, Class 6: 0.8460, \n",
      "Validation F-beta Score\n",
      "Class 0: 0.9884, Class 1: 0.0593, Class 2: 0.0000, Class 3: 0.5532, Class 4: 0.6400, Class 5: 0.4375, Class 6: 0.8604, \n",
      "\n",
      "Overall Mean Dice Score: 0.4787\n",
      "Overall Mean F-beta Score: 0.5101\n",
      "\n",
      "Training Loss: 0.4904, Validation Loss: 0.4788, Validation F-beta: 0.5101\n",
      "Epoch 62/4000\n"
     ]
    },
    {
     "name": "stderr",
     "output_type": "stream",
     "text": [
      "Training: 100%|██████████| 60/60 [01:37<00:00,  1.62s/it, loss=0.49] \n",
      "Validation: 100%|██████████| 5/5 [00:03<00:00,  1.49it/s, loss=0.478]\n"
     ]
    },
    {
     "name": "stdout",
     "output_type": "stream",
     "text": [
      "Validation Dice Score\n",
      "Class 0: 0.9873, Class 1: 0.1205, Class 2: 0.0000, Class 3: 0.3834, Class 4: 0.6621, Class 5: 0.4407, Class 6: 0.8129, \n",
      "Validation F-beta Score\n",
      "Class 0: 0.9839, Class 1: 0.0998, Class 2: 0.0000, Class 3: 0.4726, Class 4: 0.7337, Class 5: 0.5255, Class 6: 0.8718, \n",
      "\n",
      "Overall Mean Dice Score: 0.4839\n",
      "Overall Mean F-beta Score: 0.5407\n",
      "\n",
      "Training Loss: 0.4886, Validation Loss: 0.4787, Validation F-beta: 0.5407\n",
      "========================================================\n",
      "SUPER Best model saved. Loss:0.4787, Score:0.5407\n",
      "========================================================\n",
      "Epoch 63/4000\n"
     ]
    },
    {
     "name": "stderr",
     "output_type": "stream",
     "text": [
      "Training: 100%|██████████| 60/60 [01:39<00:00,  1.66s/it, loss=0.488]\n",
      "Validation: 100%|██████████| 5/5 [00:04<00:00,  1.08it/s, loss=0.475]\n"
     ]
    },
    {
     "name": "stdout",
     "output_type": "stream",
     "text": [
      "Validation Dice Score\n",
      "Class 0: 0.9889, Class 1: 0.1442, Class 2: 0.0000, Class 3: 0.3818, Class 4: 0.6815, Class 5: 0.3956, Class 6: 0.8377, \n",
      "Validation F-beta Score\n",
      "Class 0: 0.9880, Class 1: 0.1234, Class 2: 0.0000, Class 3: 0.5476, Class 4: 0.6795, Class 5: 0.4177, Class 6: 0.8601, \n",
      "\n",
      "Overall Mean Dice Score: 0.4882\n",
      "Overall Mean F-beta Score: 0.5256\n",
      "\n",
      "Training Loss: 0.4857, Validation Loss: 0.4758, Validation F-beta: 0.5256\n",
      "Epoch 64/4000\n"
     ]
    },
    {
     "name": "stderr",
     "output_type": "stream",
     "text": [
      "Training: 100%|██████████| 60/60 [01:35<00:00,  1.59s/it, loss=0.501]\n",
      "Validation: 100%|██████████| 5/5 [00:03<00:00,  1.47it/s, loss=0.486]\n"
     ]
    },
    {
     "name": "stdout",
     "output_type": "stream",
     "text": [
      "Validation Dice Score\n",
      "Class 0: 0.9875, Class 1: 0.1617, Class 2: 0.0000, Class 3: 0.4147, Class 4: 0.6663, Class 5: 0.3975, Class 6: 0.8380, \n",
      "Validation F-beta Score\n",
      "Class 0: 0.9853, Class 1: 0.1286, Class 2: 0.0000, Class 3: 0.5843, Class 4: 0.7090, Class 5: 0.4568, Class 6: 0.8336, \n",
      "\n",
      "Overall Mean Dice Score: 0.4956\n",
      "Overall Mean F-beta Score: 0.5425\n",
      "\n",
      "Training Loss: 0.4868, Validation Loss: 0.4790, Validation F-beta: 0.5425\n",
      "Epoch 65/4000\n"
     ]
    },
    {
     "name": "stderr",
     "output_type": "stream",
     "text": [
      "Training: 100%|██████████| 60/60 [02:23<00:00,  2.40s/it, loss=0.492]\n",
      "Validation: 100%|██████████| 5/5 [00:03<00:00,  1.55it/s, loss=0.478]\n"
     ]
    },
    {
     "name": "stdout",
     "output_type": "stream",
     "text": [
      "Validation Dice Score\n",
      "Class 0: 0.9871, Class 1: 0.1744, Class 2: 0.0000, Class 3: 0.4132, Class 4: 0.6669, Class 5: 0.3930, Class 6: 0.8280, \n",
      "Validation F-beta Score\n",
      "Class 0: 0.9842, Class 1: 0.1372, Class 2: 0.0000, Class 3: 0.4782, Class 4: 0.6866, Class 5: 0.5066, Class 6: 0.8814, \n",
      "\n",
      "Overall Mean Dice Score: 0.4951\n",
      "Overall Mean F-beta Score: 0.5380\n",
      "\n",
      "Training Loss: 0.4863, Validation Loss: 0.4797, Validation F-beta: 0.5380\n",
      "Epoch 66/4000\n"
     ]
    },
    {
     "name": "stderr",
     "output_type": "stream",
     "text": [
      "Training: 100%|██████████| 60/60 [01:38<00:00,  1.65s/it, loss=0.497]\n",
      "Validation: 100%|██████████| 5/5 [00:03<00:00,  1.53it/s, loss=0.479]\n"
     ]
    },
    {
     "name": "stdout",
     "output_type": "stream",
     "text": [
      "Validation Dice Score\n",
      "Class 0: 0.9888, Class 1: 0.1914, Class 2: 0.0000, Class 3: 0.4066, Class 4: 0.6811, Class 5: 0.3358, Class 6: 0.8219, \n",
      "Validation F-beta Score\n",
      "Class 0: 0.9879, Class 1: 0.1792, Class 2: 0.0000, Class 3: 0.5999, Class 4: 0.6652, Class 5: 0.3584, Class 6: 0.8475, \n",
      "\n",
      "Overall Mean Dice Score: 0.4874\n",
      "Overall Mean F-beta Score: 0.5300\n",
      "\n",
      "Training Loss: 0.4849, Validation Loss: 0.4760, Validation F-beta: 0.5300\n",
      "Epoch 67/4000\n"
     ]
    },
    {
     "name": "stderr",
     "output_type": "stream",
     "text": [
      "Training: 100%|██████████| 60/60 [01:42<00:00,  1.70s/it, loss=0.493]\n",
      "Validation: 100%|██████████| 5/5 [00:03<00:00,  1.50it/s, loss=0.479]\n"
     ]
    },
    {
     "name": "stdout",
     "output_type": "stream",
     "text": [
      "Validation Dice Score\n",
      "Class 0: 0.9862, Class 1: 0.2050, Class 2: 0.0000, Class 3: 0.4712, Class 4: 0.6324, Class 5: 0.3635, Class 6: 0.8151, \n",
      "Validation F-beta Score\n",
      "Class 0: 0.9810, Class 1: 0.1692, Class 2: 0.0000, Class 3: 0.4840, Class 4: 0.7583, Class 5: 0.4931, Class 6: 0.8609, \n",
      "\n",
      "Overall Mean Dice Score: 0.4974\n",
      "Overall Mean F-beta Score: 0.5531\n",
      "\n",
      "Training Loss: 0.4831, Validation Loss: 0.4814, Validation F-beta: 0.5531\n",
      "Epoch 68/4000\n"
     ]
    },
    {
     "name": "stderr",
     "output_type": "stream",
     "text": [
      "Training: 100%|██████████| 60/60 [01:37<00:00,  1.62s/it, loss=0.497]\n",
      "Validation: 100%|██████████| 5/5 [00:03<00:00,  1.55it/s, loss=0.477]\n"
     ]
    },
    {
     "name": "stdout",
     "output_type": "stream",
     "text": [
      "Validation Dice Score\n",
      "Class 0: 0.9890, Class 1: 0.2502, Class 2: 0.0000, Class 3: 0.3993, Class 4: 0.6605, Class 5: 0.3695, Class 6: 0.8415, \n",
      "Validation F-beta Score\n",
      "Class 0: 0.9898, Class 1: 0.2422, Class 2: 0.0000, Class 3: 0.6038, Class 4: 0.6074, Class 5: 0.3659, Class 6: 0.8302, \n",
      "\n",
      "Overall Mean Dice Score: 0.5042\n",
      "Overall Mean F-beta Score: 0.5299\n",
      "\n",
      "Training Loss: 0.4835, Validation Loss: 0.4739, Validation F-beta: 0.5299\n",
      "Epoch 69/4000\n"
     ]
    },
    {
     "name": "stderr",
     "output_type": "stream",
     "text": [
      "Training: 100%|██████████| 60/60 [01:38<00:00,  1.64s/it, loss=0.485]\n",
      "Validation: 100%|██████████| 5/5 [00:03<00:00,  1.56it/s, loss=0.48] \n"
     ]
    },
    {
     "name": "stdout",
     "output_type": "stream",
     "text": [
      "Validation Dice Score\n",
      "Class 0: 0.9874, Class 1: 0.2510, Class 2: 0.0000, Class 3: 0.4401, Class 4: 0.6878, Class 5: 0.3879, Class 6: 0.8284, \n",
      "Validation F-beta Score\n",
      "Class 0: 0.9844, Class 1: 0.2291, Class 2: 0.0000, Class 3: 0.5595, Class 4: 0.7144, Class 5: 0.4855, Class 6: 0.8888, \n",
      "\n",
      "Overall Mean Dice Score: 0.5190\n",
      "Overall Mean F-beta Score: 0.5754\n",
      "\n",
      "Training Loss: 0.4822, Validation Loss: 0.4751, Validation F-beta: 0.5754\n",
      "========================================================\n",
      "SUPER Best model saved. Loss:0.4751, Score:0.5754\n",
      "========================================================\n",
      "Epoch 70/4000\n"
     ]
    },
    {
     "name": "stderr",
     "output_type": "stream",
     "text": [
      "Training: 100%|██████████| 60/60 [01:42<00:00,  1.71s/it, loss=0.481]\n",
      "Validation: 100%|██████████| 5/5 [00:03<00:00,  1.49it/s, loss=0.476]\n"
     ]
    },
    {
     "name": "stdout",
     "output_type": "stream",
     "text": [
      "Validation Dice Score\n",
      "Class 0: 0.9870, Class 1: 0.2464, Class 2: 0.0000, Class 3: 0.4117, Class 4: 0.6746, Class 5: 0.3945, Class 6: 0.8274, \n",
      "Validation F-beta Score\n",
      "Class 0: 0.9840, Class 1: 0.2377, Class 2: 0.0000, Class 3: 0.5060, Class 4: 0.7123, Class 5: 0.4943, Class 6: 0.8547, \n",
      "\n",
      "Overall Mean Dice Score: 0.5109\n",
      "Overall Mean F-beta Score: 0.5610\n",
      "\n",
      "Training Loss: 0.4797, Validation Loss: 0.4750, Validation F-beta: 0.5610\n",
      "Epoch 71/4000\n"
     ]
    },
    {
     "name": "stderr",
     "output_type": "stream",
     "text": [
      "Training: 100%|██████████| 60/60 [02:30<00:00,  2.51s/it, loss=0.483]\n",
      "Validation: 100%|██████████| 5/5 [00:03<00:00,  1.53it/s, loss=0.48] \n"
     ]
    },
    {
     "name": "stdout",
     "output_type": "stream",
     "text": [
      "Validation Dice Score\n",
      "Class 0: 0.9883, Class 1: 0.2759, Class 2: 0.0000, Class 3: 0.4427, Class 4: 0.6667, Class 5: 0.4073, Class 6: 0.8239, \n",
      "Validation F-beta Score\n",
      "Class 0: 0.9883, Class 1: 0.2516, Class 2: 0.0000, Class 3: 0.5597, Class 4: 0.6226, Class 5: 0.4407, Class 6: 0.8587, \n",
      "\n",
      "Overall Mean Dice Score: 0.5233\n",
      "Overall Mean F-beta Score: 0.5467\n",
      "\n",
      "Training Loss: 0.4790, Validation Loss: 0.4743, Validation F-beta: 0.5467\n",
      "Epoch 72/4000\n"
     ]
    },
    {
     "name": "stderr",
     "output_type": "stream",
     "text": [
      "Training: 100%|██████████| 60/60 [01:38<00:00,  1.64s/it, loss=0.477]\n",
      "Validation: 100%|██████████| 5/5 [00:03<00:00,  1.51it/s, loss=0.46] \n"
     ]
    },
    {
     "name": "stdout",
     "output_type": "stream",
     "text": [
      "Validation Dice Score\n",
      "Class 0: 0.9873, Class 1: 0.3245, Class 2: 0.0000, Class 3: 0.4445, Class 4: 0.6919, Class 5: 0.3850, Class 6: 0.8314, \n",
      "Validation F-beta Score\n",
      "Class 0: 0.9836, Class 1: 0.3145, Class 2: 0.0000, Class 3: 0.6181, Class 4: 0.7379, Class 5: 0.4918, Class 6: 0.8882, \n",
      "\n",
      "Overall Mean Dice Score: 0.5354\n",
      "Overall Mean F-beta Score: 0.6101\n",
      "\n",
      "Training Loss: 0.4787, Validation Loss: 0.4709, Validation F-beta: 0.6101\n",
      "========================================================\n",
      "SUPER Best model saved. Loss:0.4709, Score:0.6101\n",
      "========================================================\n",
      "Epoch 73/4000\n"
     ]
    },
    {
     "name": "stderr",
     "output_type": "stream",
     "text": [
      "Training: 100%|██████████| 60/60 [01:41<00:00,  1.70s/it, loss=0.5]  \n",
      "Validation: 100%|██████████| 5/5 [00:03<00:00,  1.51it/s, loss=0.473]\n"
     ]
    },
    {
     "name": "stdout",
     "output_type": "stream",
     "text": [
      "Validation Dice Score\n",
      "Class 0: 0.9878, Class 1: 0.3216, Class 2: 0.0000, Class 3: 0.4389, Class 4: 0.6809, Class 5: 0.3825, Class 6: 0.8436, \n",
      "Validation F-beta Score\n",
      "Class 0: 0.9846, Class 1: 0.2982, Class 2: 0.0000, Class 3: 0.6101, Class 4: 0.7278, Class 5: 0.4746, Class 6: 0.8847, \n",
      "\n",
      "Overall Mean Dice Score: 0.5335\n",
      "Overall Mean F-beta Score: 0.5991\n",
      "\n",
      "Training Loss: 0.4783, Validation Loss: 0.4704, Validation F-beta: 0.5991\n",
      "Epoch 74/4000\n"
     ]
    },
    {
     "name": "stderr",
     "output_type": "stream",
     "text": [
      "Training: 100%|██████████| 60/60 [01:35<00:00,  1.60s/it, loss=0.492]\n",
      "Validation: 100%|██████████| 5/5 [00:03<00:00,  1.50it/s, loss=0.462]\n"
     ]
    },
    {
     "name": "stdout",
     "output_type": "stream",
     "text": [
      "Validation Dice Score\n",
      "Class 0: 0.9887, Class 1: 0.3131, Class 2: 0.0000, Class 3: 0.3955, Class 4: 0.6690, Class 5: 0.4151, Class 6: 0.8505, \n",
      "Validation F-beta Score\n",
      "Class 0: 0.9890, Class 1: 0.3646, Class 2: 0.0000, Class 3: 0.6142, Class 4: 0.6364, Class 5: 0.3901, Class 6: 0.8638, \n",
      "\n",
      "Overall Mean Dice Score: 0.5286\n",
      "Overall Mean F-beta Score: 0.5738\n",
      "\n",
      "Training Loss: 0.4774, Validation Loss: 0.4679, Validation F-beta: 0.5738\n",
      "Epoch 75/4000\n"
     ]
    },
    {
     "name": "stderr",
     "output_type": "stream",
     "text": [
      "Training: 100%|██████████| 60/60 [02:17<00:00,  2.29s/it, loss=0.483]\n",
      "Validation: 100%|██████████| 5/5 [00:03<00:00,  1.50it/s, loss=0.463]\n"
     ]
    },
    {
     "name": "stdout",
     "output_type": "stream",
     "text": [
      "Validation Dice Score\n",
      "Class 0: 0.9875, Class 1: 0.3625, Class 2: 0.0000, Class 3: 0.4009, Class 4: 0.6818, Class 5: 0.4091, Class 6: 0.8335, \n",
      "Validation F-beta Score\n",
      "Class 0: 0.9851, Class 1: 0.3359, Class 2: 0.0000, Class 3: 0.5292, Class 4: 0.6843, Class 5: 0.5028, Class 6: 0.8735, \n",
      "\n",
      "Overall Mean Dice Score: 0.5376\n",
      "Overall Mean F-beta Score: 0.5851\n",
      "\n",
      "Training Loss: 0.4776, Validation Loss: 0.4703, Validation F-beta: 0.5851\n",
      "Epoch 76/4000\n"
     ]
    },
    {
     "name": "stderr",
     "output_type": "stream",
     "text": [
      "Training: 100%|██████████| 60/60 [01:39<00:00,  1.66s/it, loss=0.468]\n",
      "Validation: 100%|██████████| 5/5 [00:03<00:00,  1.49it/s, loss=0.47] \n"
     ]
    },
    {
     "name": "stdout",
     "output_type": "stream",
     "text": [
      "Validation Dice Score\n",
      "Class 0: 0.9866, Class 1: 0.4413, Class 2: 0.0000, Class 3: 0.3965, Class 4: 0.6872, Class 5: 0.4373, Class 6: 0.8299, \n",
      "Validation F-beta Score\n",
      "Class 0: 0.9821, Class 1: 0.4341, Class 2: 0.0000, Class 3: 0.5346, Class 4: 0.7445, Class 5: 0.5701, Class 6: 0.9077, \n",
      "\n",
      "Overall Mean Dice Score: 0.5584\n",
      "Overall Mean F-beta Score: 0.6382\n",
      "\n",
      "Training Loss: 0.4758, Validation Loss: 0.4708, Validation F-beta: 0.6382\n",
      "========================================================\n",
      "SUPER Best model saved. Loss:0.4708, Score:0.6382\n",
      "========================================================\n",
      "Epoch 77/4000\n"
     ]
    },
    {
     "name": "stderr",
     "output_type": "stream",
     "text": [
      "Training: 100%|██████████| 60/60 [01:42<00:00,  1.71s/it, loss=0.481]\n",
      "Validation: 100%|██████████| 5/5 [00:03<00:00,  1.50it/s, loss=0.47] \n"
     ]
    },
    {
     "name": "stdout",
     "output_type": "stream",
     "text": [
      "Validation Dice Score\n",
      "Class 0: 0.9880, Class 1: 0.3844, Class 2: 0.0000, Class 3: 0.3744, Class 4: 0.6785, Class 5: 0.3708, Class 6: 0.8407, \n",
      "Validation F-beta Score\n",
      "Class 0: 0.9866, Class 1: 0.4914, Class 2: 0.0000, Class 3: 0.5703, Class 4: 0.6787, Class 5: 0.3908, Class 6: 0.8703, \n",
      "\n",
      "Overall Mean Dice Score: 0.5298\n",
      "Overall Mean F-beta Score: 0.6003\n",
      "\n",
      "Training Loss: 0.4755, Validation Loss: 0.4715, Validation F-beta: 0.6003\n",
      "Epoch 78/4000\n"
     ]
    },
    {
     "name": "stderr",
     "output_type": "stream",
     "text": [
      "Training: 100%|██████████| 60/60 [01:36<00:00,  1.61s/it, loss=0.478]\n",
      "Validation: 100%|██████████| 5/5 [00:03<00:00,  1.48it/s, loss=0.474]\n"
     ]
    },
    {
     "name": "stdout",
     "output_type": "stream",
     "text": [
      "Validation Dice Score\n",
      "Class 0: 0.9872, Class 1: 0.4319, Class 2: 0.0000, Class 3: 0.4177, Class 4: 0.6978, Class 5: 0.4287, Class 6: 0.8204, \n",
      "Validation F-beta Score\n",
      "Class 0: 0.9836, Class 1: 0.4259, Class 2: 0.0000, Class 3: 0.4914, Class 4: 0.7313, Class 5: 0.5540, Class 6: 0.8786, \n",
      "\n",
      "Overall Mean Dice Score: 0.5593\n",
      "Overall Mean F-beta Score: 0.6163\n",
      "\n",
      "Training Loss: 0.4732, Validation Loss: 0.4699, Validation F-beta: 0.6163\n",
      "Epoch 79/4000\n"
     ]
    },
    {
     "name": "stderr",
     "output_type": "stream",
     "text": [
      "Training: 100%|██████████| 60/60 [02:05<00:00,  2.09s/it, loss=0.481]\n",
      "Validation: 100%|██████████| 5/5 [00:03<00:00,  1.50it/s, loss=0.476]\n"
     ]
    },
    {
     "name": "stdout",
     "output_type": "stream",
     "text": [
      "Validation Dice Score\n",
      "Class 0: 0.9873, Class 1: 0.4361, Class 2: 0.0000, Class 3: 0.4238, Class 4: 0.6938, Class 5: 0.4107, Class 6: 0.7993, \n",
      "Validation F-beta Score\n",
      "Class 0: 0.9834, Class 1: 0.4605, Class 2: 0.0000, Class 3: 0.5958, Class 4: 0.7392, Class 5: 0.5170, Class 6: 0.9026, \n",
      "\n",
      "Overall Mean Dice Score: 0.5527\n",
      "Overall Mean F-beta Score: 0.6430\n",
      "\n",
      "Training Loss: 0.4740, Validation Loss: 0.4677, Validation F-beta: 0.6430\n",
      "========================================================\n",
      "SUPER Best model saved. Loss:0.4677, Score:0.6430\n",
      "========================================================\n",
      "Epoch 80/4000\n"
     ]
    },
    {
     "name": "stderr",
     "output_type": "stream",
     "text": [
      "Training: 100%|██████████| 60/60 [01:42<00:00,  1.70s/it, loss=0.487]\n",
      "Validation: 100%|██████████| 5/5 [00:03<00:00,  1.50it/s, loss=0.462]\n"
     ]
    },
    {
     "name": "stdout",
     "output_type": "stream",
     "text": [
      "Validation Dice Score\n",
      "Class 0: 0.9890, Class 1: 0.4406, Class 2: 0.0001, Class 3: 0.4689, Class 4: 0.6982, Class 5: 0.3910, Class 6: 0.8246, \n",
      "Validation F-beta Score\n",
      "Class 0: 0.9877, Class 1: 0.4712, Class 2: 0.0000, Class 3: 0.5844, Class 4: 0.6828, Class 5: 0.4559, Class 6: 0.8669, \n",
      "\n",
      "Overall Mean Dice Score: 0.5647\n",
      "Overall Mean F-beta Score: 0.6123\n",
      "\n",
      "Training Loss: 0.4717, Validation Loss: 0.4606, Validation F-beta: 0.6123\n",
      "Epoch 81/4000\n"
     ]
    },
    {
     "name": "stderr",
     "output_type": "stream",
     "text": [
      "Training: 100%|██████████| 60/60 [01:36<00:00,  1.61s/it, loss=0.473]\n",
      "Validation: 100%|██████████| 5/5 [00:03<00:00,  1.54it/s, loss=0.461]\n"
     ]
    },
    {
     "name": "stdout",
     "output_type": "stream",
     "text": [
      "Validation Dice Score\n",
      "Class 0: 0.9869, Class 1: 0.4353, Class 2: 0.0006, Class 3: 0.4126, Class 4: 0.6857, Class 5: 0.4238, Class 6: 0.8503, \n",
      "Validation F-beta Score\n",
      "Class 0: 0.9826, Class 1: 0.4085, Class 2: 0.0003, Class 3: 0.5452, Class 4: 0.7340, Class 5: 0.5747, Class 6: 0.8940, \n",
      "\n",
      "Overall Mean Dice Score: 0.5616\n",
      "Overall Mean F-beta Score: 0.6313\n",
      "\n",
      "Training Loss: 0.4708, Validation Loss: 0.4653, Validation F-beta: 0.6313\n",
      "Epoch 82/4000\n"
     ]
    },
    {
     "name": "stderr",
     "output_type": "stream",
     "text": [
      "Training: 100%|██████████| 60/60 [01:39<00:00,  1.65s/it, loss=0.475]\n",
      "Validation: 100%|██████████| 5/5 [00:03<00:00,  1.51it/s, loss=0.46] \n"
     ]
    },
    {
     "name": "stdout",
     "output_type": "stream",
     "text": [
      "Validation Dice Score\n",
      "Class 0: 0.9882, Class 1: 0.4445, Class 2: 0.0019, Class 3: 0.4555, Class 4: 0.6799, Class 5: 0.4151, Class 6: 0.8353, \n",
      "Validation F-beta Score\n",
      "Class 0: 0.9852, Class 1: 0.4922, Class 2: 0.0010, Class 3: 0.6157, Class 4: 0.7347, Class 5: 0.4873, Class 6: 0.8876, \n",
      "\n",
      "Overall Mean Dice Score: 0.5661\n",
      "Overall Mean F-beta Score: 0.6435\n",
      "\n",
      "Training Loss: 0.4707, Validation Loss: 0.4629, Validation F-beta: 0.6435\n",
      "========================================================\n",
      "SUPER Best model saved. Loss:0.4629, Score:0.6435\n",
      "========================================================\n",
      "Epoch 83/4000\n"
     ]
    },
    {
     "name": "stderr",
     "output_type": "stream",
     "text": [
      "Training: 100%|██████████| 60/60 [01:40<00:00,  1.67s/it, loss=0.491]\n",
      "Validation: 100%|██████████| 5/5 [00:03<00:00,  1.27it/s, loss=0.453]\n"
     ]
    },
    {
     "name": "stdout",
     "output_type": "stream",
     "text": [
      "Validation Dice Score\n",
      "Class 0: 0.9888, Class 1: 0.4533, Class 2: 0.0059, Class 3: 0.4227, Class 4: 0.6918, Class 5: 0.4278, Class 6: 0.8422, \n",
      "Validation F-beta Score\n",
      "Class 0: 0.9880, Class 1: 0.5130, Class 2: 0.0034, Class 3: 0.6099, Class 4: 0.6957, Class 5: 0.4243, Class 6: 0.8853, \n",
      "\n",
      "Overall Mean Dice Score: 0.5676\n",
      "Overall Mean F-beta Score: 0.6256\n",
      "\n",
      "Training Loss: 0.4699, Validation Loss: 0.4622, Validation F-beta: 0.6256\n",
      "Epoch 84/4000\n"
     ]
    },
    {
     "name": "stderr",
     "output_type": "stream",
     "text": [
      "Training: 100%|██████████| 60/60 [01:35<00:00,  1.59s/it, loss=0.48] \n",
      "Validation: 100%|██████████| 5/5 [00:03<00:00,  1.52it/s, loss=0.469]\n"
     ]
    },
    {
     "name": "stdout",
     "output_type": "stream",
     "text": [
      "Validation Dice Score\n",
      "Class 0: 0.9863, Class 1: 0.4387, Class 2: 0.0006, Class 3: 0.3885, Class 4: 0.6570, Class 5: 0.4279, Class 6: 0.8286, \n",
      "Validation F-beta Score\n",
      "Class 0: 0.9807, Class 1: 0.4728, Class 2: 0.0003, Class 3: 0.5392, Class 4: 0.7777, Class 5: 0.5389, Class 6: 0.8926, \n",
      "\n",
      "Overall Mean Dice Score: 0.5482\n",
      "Overall Mean F-beta Score: 0.6443\n",
      "\n",
      "Training Loss: 0.4700, Validation Loss: 0.4700, Validation F-beta: 0.6443\n",
      "Epoch 85/4000\n"
     ]
    },
    {
     "name": "stderr",
     "output_type": "stream",
     "text": [
      "Training: 100%|██████████| 60/60 [01:37<00:00,  1.63s/it, loss=0.482]\n",
      "Validation: 100%|██████████| 5/5 [00:03<00:00,  1.55it/s, loss=0.467]\n"
     ]
    },
    {
     "name": "stdout",
     "output_type": "stream",
     "text": [
      "Validation Dice Score\n",
      "Class 0: 0.9879, Class 1: 0.4474, Class 2: 0.0035, Class 3: 0.4078, Class 4: 0.6782, Class 5: 0.4227, Class 6: 0.8561, \n",
      "Validation F-beta Score\n",
      "Class 0: 0.9869, Class 1: 0.4815, Class 2: 0.0019, Class 3: 0.5706, Class 4: 0.6487, Class 5: 0.4796, Class 6: 0.8841, \n",
      "\n",
      "Overall Mean Dice Score: 0.5624\n",
      "Overall Mean F-beta Score: 0.6129\n",
      "\n",
      "Training Loss: 0.4695, Validation Loss: 0.4633, Validation F-beta: 0.6129\n",
      "Epoch 86/4000\n"
     ]
    },
    {
     "name": "stderr",
     "output_type": "stream",
     "text": [
      "Training: 100%|██████████| 60/60 [01:39<00:00,  1.66s/it, loss=0.465]\n",
      "Validation: 100%|██████████| 5/5 [00:04<00:00,  1.11it/s, loss=0.468]\n"
     ]
    },
    {
     "name": "stdout",
     "output_type": "stream",
     "text": [
      "Validation Dice Score\n",
      "Class 0: 0.9881, Class 1: 0.4494, Class 2: 0.0031, Class 3: 0.4195, Class 4: 0.6838, Class 5: 0.4424, Class 6: 0.8364, \n",
      "Validation F-beta Score\n",
      "Class 0: 0.9861, Class 1: 0.5025, Class 2: 0.0017, Class 3: 0.5628, Class 4: 0.6822, Class 5: 0.5205, Class 6: 0.8861, \n",
      "\n",
      "Overall Mean Dice Score: 0.5663\n",
      "Overall Mean F-beta Score: 0.6308\n",
      "\n",
      "Training Loss: 0.4698, Validation Loss: 0.4621, Validation F-beta: 0.6308\n",
      "Epoch 87/4000\n"
     ]
    },
    {
     "name": "stderr",
     "output_type": "stream",
     "text": [
      "Training: 100%|██████████| 60/60 [01:35<00:00,  1.60s/it, loss=0.482]\n",
      "Validation: 100%|██████████| 5/5 [00:03<00:00,  1.53it/s, loss=0.469]\n"
     ]
    },
    {
     "name": "stdout",
     "output_type": "stream",
     "text": [
      "Validation Dice Score\n",
      "Class 0: 0.9862, Class 1: 0.4684, Class 2: 0.0079, Class 3: 0.4022, Class 4: 0.6743, Class 5: 0.4001, Class 6: 0.8286, \n",
      "Validation F-beta Score\n",
      "Class 0: 0.9801, Class 1: 0.4790, Class 2: 0.0043, Class 3: 0.5774, Class 4: 0.7785, Class 5: 0.5658, Class 6: 0.9122, \n",
      "\n",
      "Overall Mean Dice Score: 0.5547\n",
      "Overall Mean F-beta Score: 0.6626\n",
      "\n",
      "Training Loss: 0.4693, Validation Loss: 0.4696, Validation F-beta: 0.6626\n",
      "Epoch 88/4000\n"
     ]
    },
    {
     "name": "stderr",
     "output_type": "stream",
     "text": [
      "Training: 100%|██████████| 60/60 [01:37<00:00,  1.63s/it, loss=0.479]\n",
      "Validation: 100%|██████████| 5/5 [00:03<00:00,  1.48it/s, loss=0.452]\n"
     ]
    },
    {
     "name": "stdout",
     "output_type": "stream",
     "text": [
      "Validation Dice Score\n",
      "Class 0: 0.9883, Class 1: 0.4963, Class 2: 0.0068, Class 3: 0.4225, Class 4: 0.6959, Class 5: 0.4178, Class 6: 0.8461, \n",
      "Validation F-beta Score\n",
      "Class 0: 0.9854, Class 1: 0.5174, Class 2: 0.0037, Class 3: 0.6050, Class 4: 0.7377, Class 5: 0.4858, Class 6: 0.8876, \n",
      "\n",
      "Overall Mean Dice Score: 0.5757\n",
      "Overall Mean F-beta Score: 0.6467\n",
      "\n",
      "Training Loss: 0.4699, Validation Loss: 0.4619, Validation F-beta: 0.6467\n",
      "========================================================\n",
      "SUPER Best model saved. Loss:0.4619, Score:0.6467\n",
      "========================================================\n",
      "Epoch 89/4000\n"
     ]
    },
    {
     "name": "stderr",
     "output_type": "stream",
     "text": [
      "Training: 100%|██████████| 60/60 [01:39<00:00,  1.66s/it, loss=0.478]\n",
      "Validation: 100%|██████████| 5/5 [00:03<00:00,  1.51it/s, loss=0.457]\n"
     ]
    },
    {
     "name": "stdout",
     "output_type": "stream",
     "text": [
      "Validation Dice Score\n",
      "Class 0: 0.9895, Class 1: 0.4396, Class 2: 0.0216, Class 3: 0.4577, Class 4: 0.6708, Class 5: 0.4555, Class 6: 0.8469, \n",
      "Validation F-beta Score\n",
      "Class 0: 0.9891, Class 1: 0.5491, Class 2: 0.0135, Class 3: 0.6027, Class 4: 0.6387, Class 5: 0.4850, Class 6: 0.8693, \n",
      "\n",
      "Overall Mean Dice Score: 0.5741\n",
      "Overall Mean F-beta Score: 0.6290\n",
      "\n",
      "Training Loss: 0.4698, Validation Loss: 0.4597, Validation F-beta: 0.6290\n",
      "Epoch 90/4000\n"
     ]
    },
    {
     "name": "stderr",
     "output_type": "stream",
     "text": [
      "Training: 100%|██████████| 60/60 [01:42<00:00,  1.70s/it, loss=0.483]\n",
      "Validation: 100%|██████████| 5/5 [00:03<00:00,  1.54it/s, loss=0.465]\n"
     ]
    },
    {
     "name": "stdout",
     "output_type": "stream",
     "text": [
      "Validation Dice Score\n",
      "Class 0: 0.9881, Class 1: 0.4971, Class 2: 0.0172, Class 3: 0.3935, Class 4: 0.7034, Class 5: 0.4019, Class 6: 0.8640, \n",
      "Validation F-beta Score\n",
      "Class 0: 0.9845, Class 1: 0.4610, Class 2: 0.0098, Class 3: 0.5172, Class 4: 0.7180, Class 5: 0.5564, Class 6: 0.9198, \n",
      "\n",
      "Overall Mean Dice Score: 0.5720\n",
      "Overall Mean F-beta Score: 0.6345\n",
      "\n",
      "Training Loss: 0.4674, Validation Loss: 0.4650, Validation F-beta: 0.6345\n",
      "Epoch 91/4000\n"
     ]
    },
    {
     "name": "stderr",
     "output_type": "stream",
     "text": [
      "Training: 100%|██████████| 60/60 [01:37<00:00,  1.62s/it, loss=0.474]\n",
      "Validation: 100%|██████████| 5/5 [00:03<00:00,  1.51it/s, loss=0.464]\n"
     ]
    },
    {
     "name": "stdout",
     "output_type": "stream",
     "text": [
      "Validation Dice Score\n",
      "Class 0: 0.9866, Class 1: 0.4617, Class 2: 0.0082, Class 3: 0.4159, Class 4: 0.6861, Class 5: 0.3981, Class 6: 0.8451, \n",
      "Validation F-beta Score\n",
      "Class 0: 0.9814, Class 1: 0.4441, Class 2: 0.0048, Class 3: 0.5898, Class 4: 0.7699, Class 5: 0.5238, Class 6: 0.9206, \n",
      "\n",
      "Overall Mean Dice Score: 0.5614\n",
      "Overall Mean F-beta Score: 0.6496\n",
      "\n",
      "Training Loss: 0.4679, Validation Loss: 0.4659, Validation F-beta: 0.6496\n",
      "Epoch 92/4000\n"
     ]
    },
    {
     "name": "stderr",
     "output_type": "stream",
     "text": [
      "Training: 100%|██████████| 60/60 [01:39<00:00,  1.66s/it, loss=0.483]\n",
      "Validation: 100%|██████████| 5/5 [00:03<00:00,  1.50it/s, loss=0.458]\n"
     ]
    },
    {
     "name": "stdout",
     "output_type": "stream",
     "text": [
      "Validation Dice Score\n",
      "Class 0: 0.9891, Class 1: 0.5226, Class 2: 0.0282, Class 3: 0.4513, Class 4: 0.6922, Class 5: 0.3924, Class 6: 0.8403, \n",
      "Validation F-beta Score\n",
      "Class 0: 0.9883, Class 1: 0.5047, Class 2: 0.0177, Class 3: 0.5634, Class 4: 0.6766, Class 5: 0.4456, Class 6: 0.8649, \n",
      "\n",
      "Overall Mean Dice Score: 0.5798\n",
      "Overall Mean F-beta Score: 0.6110\n",
      "\n",
      "Training Loss: 0.4661, Validation Loss: 0.4610, Validation F-beta: 0.6110\n",
      "Epoch 93/4000\n"
     ]
    },
    {
     "name": "stderr",
     "output_type": "stream",
     "text": [
      "Training: 100%|██████████| 60/60 [01:42<00:00,  1.72s/it, loss=0.474]\n",
      "Validation: 100%|██████████| 5/5 [00:03<00:00,  1.50it/s, loss=0.461]\n"
     ]
    },
    {
     "name": "stdout",
     "output_type": "stream",
     "text": [
      "Validation Dice Score\n",
      "Class 0: 0.9881, Class 1: 0.5048, Class 2: 0.0200, Class 3: 0.4503, Class 4: 0.6917, Class 5: 0.4331, Class 6: 0.8602, \n",
      "Validation F-beta Score\n",
      "Class 0: 0.9851, Class 1: 0.5635, Class 2: 0.0120, Class 3: 0.6020, Class 4: 0.7175, Class 5: 0.5426, Class 6: 0.9055, \n",
      "\n",
      "Overall Mean Dice Score: 0.5881\n",
      "Overall Mean F-beta Score: 0.6662\n",
      "\n",
      "Training Loss: 0.4674, Validation Loss: 0.4606, Validation F-beta: 0.6662\n",
      "========================================================\n",
      "SUPER Best model saved. Loss:0.4606, Score:0.6662\n",
      "========================================================\n",
      "Epoch 94/4000\n"
     ]
    },
    {
     "name": "stderr",
     "output_type": "stream",
     "text": [
      "Training: 100%|██████████| 60/60 [01:37<00:00,  1.62s/it, loss=0.469]\n",
      "Validation: 100%|██████████| 5/5 [00:03<00:00,  1.55it/s, loss=0.457]\n"
     ]
    },
    {
     "name": "stdout",
     "output_type": "stream",
     "text": [
      "Validation Dice Score\n",
      "Class 0: 0.9879, Class 1: 0.4962, Class 2: 0.0364, Class 3: 0.4316, Class 4: 0.6828, Class 5: 0.3735, Class 6: 0.8386, \n",
      "Validation F-beta Score\n",
      "Class 0: 0.9838, Class 1: 0.5336, Class 2: 0.0226, Class 3: 0.5794, Class 4: 0.7235, Class 5: 0.5075, Class 6: 0.9103, \n",
      "\n",
      "Overall Mean Dice Score: 0.5645\n",
      "Overall Mean F-beta Score: 0.6509\n",
      "\n",
      "Training Loss: 0.4639, Validation Loss: 0.4629, Validation F-beta: 0.6509\n",
      "Epoch 95/4000\n"
     ]
    },
    {
     "name": "stderr",
     "output_type": "stream",
     "text": [
      "Training: 100%|██████████| 60/60 [01:39<00:00,  1.65s/it, loss=0.467]\n",
      "Validation: 100%|██████████| 5/5 [00:03<00:00,  1.49it/s, loss=0.459]\n"
     ]
    },
    {
     "name": "stdout",
     "output_type": "stream",
     "text": [
      "Validation Dice Score\n",
      "Class 0: 0.9881, Class 1: 0.5088, Class 2: 0.0348, Class 3: 0.4391, Class 4: 0.6911, Class 5: 0.4094, Class 6: 0.8358, \n",
      "Validation F-beta Score\n",
      "Class 0: 0.9860, Class 1: 0.5330, Class 2: 0.0215, Class 3: 0.6312, Class 4: 0.6953, Class 5: 0.4789, Class 6: 0.8756, \n",
      "\n",
      "Overall Mean Dice Score: 0.5768\n",
      "Overall Mean F-beta Score: 0.6428\n",
      "\n",
      "Training Loss: 0.4650, Validation Loss: 0.4598, Validation F-beta: 0.6428\n",
      "Epoch 96/4000\n"
     ]
    },
    {
     "name": "stderr",
     "output_type": "stream",
     "text": [
      "Training: 100%|██████████| 60/60 [01:42<00:00,  1.71s/it, loss=0.474]\n",
      "Validation: 100%|██████████| 5/5 [00:03<00:00,  1.52it/s, loss=0.462]\n"
     ]
    },
    {
     "name": "stdout",
     "output_type": "stream",
     "text": [
      "Validation Dice Score\n",
      "Class 0: 0.9873, Class 1: 0.5090, Class 2: 0.0143, Class 3: 0.4230, Class 4: 0.6726, Class 5: 0.4194, Class 6: 0.8375, \n",
      "Validation F-beta Score\n",
      "Class 0: 0.9829, Class 1: 0.5488, Class 2: 0.0082, Class 3: 0.5131, Class 4: 0.7593, Class 5: 0.5274, Class 6: 0.9056, \n",
      "\n",
      "Overall Mean Dice Score: 0.5723\n",
      "Overall Mean F-beta Score: 0.6509\n",
      "\n",
      "Training Loss: 0.4657, Validation Loss: 0.4656, Validation F-beta: 0.6509\n",
      "Epoch 97/4000\n"
     ]
    },
    {
     "name": "stderr",
     "output_type": "stream",
     "text": [
      "Training: 100%|██████████| 60/60 [01:36<00:00,  1.61s/it, loss=0.481]\n",
      "Validation: 100%|██████████| 5/5 [00:03<00:00,  1.50it/s, loss=0.463]\n"
     ]
    },
    {
     "name": "stdout",
     "output_type": "stream",
     "text": [
      "Validation Dice Score\n",
      "Class 0: 0.9867, Class 1: 0.4995, Class 2: 0.0336, Class 3: 0.4023, Class 4: 0.6625, Class 5: 0.4195, Class 6: 0.8354, \n",
      "Validation F-beta Score\n",
      "Class 0: 0.9805, Class 1: 0.5364, Class 2: 0.0207, Class 3: 0.6255, Class 4: 0.7844, Class 5: 0.5637, Class 6: 0.9149, \n",
      "\n",
      "Overall Mean Dice Score: 0.5638\n",
      "Overall Mean F-beta Score: 0.6850\n",
      "\n",
      "Training Loss: 0.4646, Validation Loss: 0.4638, Validation F-beta: 0.6850\n",
      "Epoch 98/4000\n"
     ]
    },
    {
     "name": "stderr",
     "output_type": "stream",
     "text": [
      "Training: 100%|██████████| 60/60 [01:39<00:00,  1.65s/it, loss=0.469]\n",
      "Validation: 100%|██████████| 5/5 [00:03<00:00,  1.50it/s, loss=0.456]\n"
     ]
    },
    {
     "name": "stdout",
     "output_type": "stream",
     "text": [
      "Validation Dice Score\n",
      "Class 0: 0.9889, Class 1: 0.4664, Class 2: 0.0314, Class 3: 0.4177, Class 4: 0.6877, Class 5: 0.4107, Class 6: 0.8388, \n",
      "Validation F-beta Score\n",
      "Class 0: 0.9882, Class 1: 0.5797, Class 2: 0.0199, Class 3: 0.6196, Class 4: 0.6658, Class 5: 0.4154, Class 6: 0.8818, \n",
      "\n",
      "Overall Mean Dice Score: 0.5643\n",
      "Overall Mean F-beta Score: 0.6325\n",
      "\n",
      "Training Loss: 0.4638, Validation Loss: 0.4597, Validation F-beta: 0.6325\n",
      "Epoch 99/4000\n"
     ]
    },
    {
     "name": "stderr",
     "output_type": "stream",
     "text": [
      "Training: 100%|██████████| 60/60 [01:42<00:00,  1.70s/it, loss=0.479]\n",
      "Validation: 100%|██████████| 5/5 [00:03<00:00,  1.49it/s, loss=0.462]\n"
     ]
    },
    {
     "name": "stdout",
     "output_type": "stream",
     "text": [
      "Validation Dice Score\n",
      "Class 0: 0.9872, Class 1: 0.5207, Class 2: 0.0188, Class 3: 0.4018, Class 4: 0.7034, Class 5: 0.4370, Class 6: 0.8399, \n",
      "Validation F-beta Score\n",
      "Class 0: 0.9834, Class 1: 0.5683, Class 2: 0.0116, Class 3: 0.6021, Class 4: 0.7403, Class 5: 0.5454, Class 6: 0.9002, \n",
      "\n",
      "Overall Mean Dice Score: 0.5806\n",
      "Overall Mean F-beta Score: 0.6713\n",
      "\n",
      "Training Loss: 0.4638, Validation Loss: 0.4623, Validation F-beta: 0.6713\n",
      "Epoch 100/4000\n"
     ]
    },
    {
     "name": "stderr",
     "output_type": "stream",
     "text": [
      "Training: 100%|██████████| 60/60 [01:36<00:00,  1.61s/it, loss=0.479]\n",
      "Validation: 100%|██████████| 5/5 [00:03<00:00,  1.52it/s, loss=0.463]\n"
     ]
    },
    {
     "name": "stdout",
     "output_type": "stream",
     "text": [
      "Validation Dice Score\n",
      "Class 0: 0.9875, Class 1: 0.5202, Class 2: 0.0176, Class 3: 0.3915, Class 4: 0.6748, Class 5: 0.4428, Class 6: 0.8578, \n",
      "Validation F-beta Score\n",
      "Class 0: 0.9836, Class 1: 0.5631, Class 2: 0.0106, Class 3: 0.5402, Class 4: 0.7261, Class 5: 0.5681, Class 6: 0.8904, \n",
      "\n",
      "Overall Mean Dice Score: 0.5774\n",
      "Overall Mean F-beta Score: 0.6576\n",
      "\n",
      "Training Loss: 0.4639, Validation Loss: 0.4593, Validation F-beta: 0.6576\n",
      "Epoch 101/4000\n"
     ]
    },
    {
     "name": "stderr",
     "output_type": "stream",
     "text": [
      "Training: 100%|██████████| 60/60 [01:38<00:00,  1.65s/it, loss=0.478]\n",
      "Validation: 100%|██████████| 5/5 [00:03<00:00,  1.52it/s, loss=0.457]\n"
     ]
    },
    {
     "name": "stdout",
     "output_type": "stream",
     "text": [
      "Validation Dice Score\n",
      "Class 0: 0.9869, Class 1: 0.5493, Class 2: 0.0199, Class 3: 0.3981, Class 4: 0.6919, Class 5: 0.4424, Class 6: 0.8259, \n",
      "Validation F-beta Score\n",
      "Class 0: 0.9817, Class 1: 0.6351, Class 2: 0.0121, Class 3: 0.5360, Class 4: 0.7673, Class 5: 0.5834, Class 6: 0.9218, \n",
      "\n",
      "Overall Mean Dice Score: 0.5815\n",
      "Overall Mean F-beta Score: 0.6887\n",
      "\n",
      "Training Loss: 0.4631, Validation Loss: 0.4630, Validation F-beta: 0.6887\n",
      "Epoch 102/4000\n"
     ]
    },
    {
     "name": "stderr",
     "output_type": "stream",
     "text": [
      "Training: 100%|██████████| 60/60 [01:42<00:00,  1.70s/it, loss=0.472]\n",
      "Validation: 100%|██████████| 5/5 [00:03<00:00,  1.49it/s, loss=0.463]\n"
     ]
    },
    {
     "name": "stdout",
     "output_type": "stream",
     "text": [
      "Validation Dice Score\n",
      "Class 0: 0.9893, Class 1: 0.5516, Class 2: 0.0299, Class 3: 0.3831, Class 4: 0.6785, Class 5: 0.4188, Class 6: 0.8516, \n",
      "Validation F-beta Score\n",
      "Class 0: 0.9888, Class 1: 0.6263, Class 2: 0.0193, Class 3: 0.6084, Class 4: 0.6412, Class 5: 0.4370, Class 6: 0.8769, \n",
      "\n",
      "Overall Mean Dice Score: 0.5767\n",
      "Overall Mean F-beta Score: 0.6379\n",
      "\n",
      "Training Loss: 0.4633, Validation Loss: 0.4595, Validation F-beta: 0.6379\n",
      "Epoch 103/4000\n"
     ]
    },
    {
     "name": "stderr",
     "output_type": "stream",
     "text": [
      "Training: 100%|██████████| 60/60 [01:35<00:00,  1.60s/it, loss=0.471]\n",
      "Validation: 100%|██████████| 5/5 [00:03<00:00,  1.53it/s, loss=0.455]\n"
     ]
    },
    {
     "name": "stdout",
     "output_type": "stream",
     "text": [
      "Validation Dice Score\n",
      "Class 0: 0.9884, Class 1: 0.5453, Class 2: 0.0362, Class 3: 0.4455, Class 4: 0.6909, Class 5: 0.4352, Class 6: 0.8578, \n",
      "Validation F-beta Score\n",
      "Class 0: 0.9851, Class 1: 0.6340, Class 2: 0.0237, Class 3: 0.6571, Class 4: 0.7262, Class 5: 0.5295, Class 6: 0.9098, \n",
      "\n",
      "Overall Mean Dice Score: 0.5949\n",
      "Overall Mean F-beta Score: 0.6913\n",
      "\n",
      "Training Loss: 0.4632, Validation Loss: 0.4596, Validation F-beta: 0.6913\n",
      "========================================================\n",
      "SUPER Best model saved. Loss:0.4596, Score:0.6913\n",
      "========================================================\n",
      "Epoch 104/4000\n"
     ]
    },
    {
     "name": "stderr",
     "output_type": "stream",
     "text": [
      "Training: 100%|██████████| 60/60 [01:37<00:00,  1.63s/it, loss=0.467]\n",
      "Validation: 100%|██████████| 5/5 [00:03<00:00,  1.46it/s, loss=0.454]\n"
     ]
    },
    {
     "name": "stdout",
     "output_type": "stream",
     "text": [
      "Validation Dice Score\n",
      "Class 0: 0.9883, Class 1: 0.5479, Class 2: 0.0149, Class 3: 0.4328, Class 4: 0.6870, Class 5: 0.4671, Class 6: 0.8797, \n",
      "Validation F-beta Score\n",
      "Class 0: 0.9841, Class 1: 0.5993, Class 2: 0.0091, Class 3: 0.5186, Class 4: 0.7730, Class 5: 0.5905, Class 6: 0.9052, \n",
      "\n",
      "Overall Mean Dice Score: 0.6029\n",
      "Overall Mean F-beta Score: 0.6773\n",
      "\n",
      "Training Loss: 0.4624, Validation Loss: 0.4564, Validation F-beta: 0.6773\n",
      "Epoch 105/4000\n"
     ]
    },
    {
     "name": "stderr",
     "output_type": "stream",
     "text": [
      "Training: 100%|██████████| 60/60 [01:39<00:00,  1.66s/it, loss=0.458]\n",
      "Validation: 100%|██████████| 5/5 [00:04<00:00,  1.14it/s, loss=0.457]\n"
     ]
    },
    {
     "name": "stdout",
     "output_type": "stream",
     "text": [
      "Validation Dice Score\n",
      "Class 0: 0.9886, Class 1: 0.5471, Class 2: 0.0173, Class 3: 0.4483, Class 4: 0.6882, Class 5: 0.4480, Class 6: 0.8670, \n",
      "Validation F-beta Score\n",
      "Class 0: 0.9857, Class 1: 0.6363, Class 2: 0.0115, Class 3: 0.6265, Class 4: 0.7128, Class 5: 0.5344, Class 6: 0.9001, \n",
      "\n",
      "Overall Mean Dice Score: 0.5997\n",
      "Overall Mean F-beta Score: 0.6820\n",
      "\n",
      "Training Loss: 0.4624, Validation Loss: 0.4497, Validation F-beta: 0.6820\n",
      "Epoch 106/4000\n"
     ]
    },
    {
     "name": "stderr",
     "output_type": "stream",
     "text": [
      "Training: 100%|██████████| 60/60 [01:36<00:00,  1.60s/it, loss=0.47] \n",
      "Validation: 100%|██████████| 5/5 [00:03<00:00,  1.51it/s, loss=0.455]\n"
     ]
    },
    {
     "name": "stdout",
     "output_type": "stream",
     "text": [
      "Validation Dice Score\n",
      "Class 0: 0.9894, Class 1: 0.5368, Class 2: 0.0682, Class 3: 0.3716, Class 4: 0.6946, Class 5: 0.4533, Class 6: 0.8565, \n",
      "Validation F-beta Score\n",
      "Class 0: 0.9878, Class 1: 0.7004, Class 2: 0.0486, Class 3: 0.6253, Class 4: 0.7029, Class 5: 0.4559, Class 6: 0.9155, \n",
      "\n",
      "Overall Mean Dice Score: 0.5826\n",
      "Overall Mean F-beta Score: 0.6800\n",
      "\n",
      "Training Loss: 0.4629, Validation Loss: 0.4575, Validation F-beta: 0.6800\n",
      "Epoch 107/4000\n"
     ]
    },
    {
     "name": "stderr",
     "output_type": "stream",
     "text": [
      "Training: 100%|██████████| 60/60 [01:37<00:00,  1.63s/it, loss=0.453]\n",
      "Validation: 100%|██████████| 5/5 [00:03<00:00,  1.51it/s, loss=0.47] \n"
     ]
    },
    {
     "name": "stdout",
     "output_type": "stream",
     "text": [
      "Validation Dice Score\n",
      "Class 0: 0.9873, Class 1: 0.5274, Class 2: 0.0526, Class 3: 0.4308, Class 4: 0.6925, Class 5: 0.4253, Class 6: 0.8507, \n",
      "Validation F-beta Score\n",
      "Class 0: 0.9824, Class 1: 0.6294, Class 2: 0.0386, Class 3: 0.5566, Class 4: 0.7543, Class 5: 0.5766, Class 6: 0.9281, \n",
      "\n",
      "Overall Mean Dice Score: 0.5853\n",
      "Overall Mean F-beta Score: 0.6890\n",
      "\n",
      "Training Loss: 0.4603, Validation Loss: 0.4631, Validation F-beta: 0.6890\n",
      "Epoch 108/4000\n"
     ]
    },
    {
     "name": "stderr",
     "output_type": "stream",
     "text": [
      "Training: 100%|██████████| 60/60 [01:38<00:00,  1.65s/it, loss=0.471]\n",
      "Validation: 100%|██████████| 5/5 [00:03<00:00,  1.51it/s, loss=0.448]\n"
     ]
    },
    {
     "name": "stdout",
     "output_type": "stream",
     "text": [
      "Validation Dice Score\n",
      "Class 0: 0.9887, Class 1: 0.5752, Class 2: 0.0343, Class 3: 0.4422, Class 4: 0.7072, Class 5: 0.4472, Class 6: 0.8607, \n",
      "Validation F-beta Score\n",
      "Class 0: 0.9854, Class 1: 0.6501, Class 2: 0.0222, Class 3: 0.6224, Class 4: 0.7534, Class 5: 0.5449, Class 6: 0.9001, \n",
      "\n",
      "Overall Mean Dice Score: 0.6065\n",
      "Overall Mean F-beta Score: 0.6942\n",
      "\n",
      "Training Loss: 0.4614, Validation Loss: 0.4522, Validation F-beta: 0.6942\n",
      "========================================================\n",
      "SUPER Best model saved. Loss:0.4522, Score:0.6942\n",
      "========================================================\n",
      "Epoch 109/4000\n"
     ]
    },
    {
     "name": "stderr",
     "output_type": "stream",
     "text": [
      "Training: 100%|██████████| 60/60 [01:41<00:00,  1.70s/it, loss=0.46] \n",
      "Validation: 100%|██████████| 5/5 [00:03<00:00,  1.50it/s, loss=0.459]\n"
     ]
    },
    {
     "name": "stdout",
     "output_type": "stream",
     "text": [
      "Validation Dice Score\n",
      "Class 0: 0.9885, Class 1: 0.5532, Class 2: 0.0453, Class 3: 0.4267, Class 4: 0.6849, Class 5: 0.4332, Class 6: 0.8476, \n",
      "Validation F-beta Score\n",
      "Class 0: 0.9857, Class 1: 0.6138, Class 2: 0.0305, Class 3: 0.6069, Class 4: 0.6887, Class 5: 0.5366, Class 6: 0.8943, \n",
      "\n",
      "Overall Mean Dice Score: 0.5891\n",
      "Overall Mean F-beta Score: 0.6681\n",
      "\n",
      "Training Loss: 0.4604, Validation Loss: 0.4550, Validation F-beta: 0.6681\n",
      "Epoch 110/4000\n"
     ]
    },
    {
     "name": "stderr",
     "output_type": "stream",
     "text": [
      "Training: 100%|██████████| 60/60 [01:36<00:00,  1.62s/it, loss=0.458]\n",
      "Validation: 100%|██████████| 5/5 [00:03<00:00,  1.52it/s, loss=0.452]\n"
     ]
    },
    {
     "name": "stdout",
     "output_type": "stream",
     "text": [
      "Validation Dice Score\n",
      "Class 0: 0.9862, Class 1: 0.5503, Class 2: 0.0269, Class 3: 0.4866, Class 4: 0.6678, Class 5: 0.4000, Class 6: 0.8384, \n",
      "Validation F-beta Score\n",
      "Class 0: 0.9802, Class 1: 0.5974, Class 2: 0.0169, Class 3: 0.6071, Class 4: 0.7672, Class 5: 0.5682, Class 6: 0.9150, \n",
      "\n",
      "Overall Mean Dice Score: 0.5886\n",
      "Overall Mean F-beta Score: 0.6910\n",
      "\n",
      "Training Loss: 0.4607, Validation Loss: 0.4628, Validation F-beta: 0.6910\n",
      "Epoch 111/4000\n"
     ]
    },
    {
     "name": "stderr",
     "output_type": "stream",
     "text": [
      "Training: 100%|██████████| 60/60 [01:38<00:00,  1.64s/it, loss=0.459]\n",
      "Validation: 100%|██████████| 5/5 [00:03<00:00,  1.54it/s, loss=0.46] \n"
     ]
    },
    {
     "name": "stdout",
     "output_type": "stream",
     "text": [
      "Validation Dice Score\n",
      "Class 0: 0.9877, Class 1: 0.5494, Class 2: 0.0808, Class 3: 0.4089, Class 4: 0.7123, Class 5: 0.4289, Class 6: 0.8292, \n",
      "Validation F-beta Score\n",
      "Class 0: 0.9851, Class 1: 0.6340, Class 2: 0.0605, Class 3: 0.6409, Class 4: 0.7385, Class 5: 0.4706, Class 6: 0.8888, \n",
      "\n",
      "Overall Mean Dice Score: 0.5857\n",
      "Overall Mean F-beta Score: 0.6745\n",
      "\n",
      "Training Loss: 0.4593, Validation Loss: 0.4601, Validation F-beta: 0.6745\n",
      "Epoch 112/4000\n"
     ]
    },
    {
     "name": "stderr",
     "output_type": "stream",
     "text": [
      "Training: 100%|██████████| 60/60 [01:40<00:00,  1.68s/it, loss=0.469]\n",
      "Validation: 100%|██████████| 5/5 [00:03<00:00,  1.34it/s, loss=0.455]\n"
     ]
    },
    {
     "name": "stdout",
     "output_type": "stream",
     "text": [
      "Validation Dice Score\n",
      "Class 0: 0.9867, Class 1: 0.5461, Class 2: 0.0134, Class 3: 0.4068, Class 4: 0.6611, Class 5: 0.4399, Class 6: 0.8448, \n",
      "Validation F-beta Score\n",
      "Class 0: 0.9808, Class 1: 0.6250, Class 2: 0.0100, Class 3: 0.5407, Class 4: 0.7789, Class 5: 0.5715, Class 6: 0.9278, \n",
      "\n",
      "Overall Mean Dice Score: 0.5797\n",
      "Overall Mean F-beta Score: 0.6888\n",
      "\n",
      "Training Loss: 0.4602, Validation Loss: 0.4597, Validation F-beta: 0.6888\n",
      "Epoch 113/4000\n"
     ]
    },
    {
     "name": "stderr",
     "output_type": "stream",
     "text": [
      "Training: 100%|██████████| 60/60 [01:36<00:00,  1.61s/it, loss=0.466]\n",
      "Validation: 100%|██████████| 5/5 [00:03<00:00,  1.51it/s, loss=0.448]\n"
     ]
    },
    {
     "name": "stdout",
     "output_type": "stream",
     "text": [
      "Validation Dice Score\n",
      "Class 0: 0.9891, Class 1: 0.5557, Class 2: 0.0496, Class 3: 0.4210, Class 4: 0.6894, Class 5: 0.4617, Class 6: 0.8666, \n",
      "Validation F-beta Score\n",
      "Class 0: 0.9864, Class 1: 0.6696, Class 2: 0.0380, Class 3: 0.5981, Class 4: 0.7010, Class 5: 0.5480, Class 6: 0.9084, \n",
      "\n",
      "Overall Mean Dice Score: 0.5989\n",
      "Overall Mean F-beta Score: 0.6850\n",
      "\n",
      "Training Loss: 0.4604, Validation Loss: 0.4542, Validation F-beta: 0.6850\n",
      "Epoch 114/4000\n"
     ]
    },
    {
     "name": "stderr",
     "output_type": "stream",
     "text": [
      "Training: 100%|██████████| 60/60 [01:37<00:00,  1.63s/it, loss=0.466]\n",
      "Validation: 100%|██████████| 5/5 [00:03<00:00,  1.49it/s, loss=0.454]\n"
     ]
    },
    {
     "name": "stdout",
     "output_type": "stream",
     "text": [
      "Validation Dice Score\n",
      "Class 0: 0.9879, Class 1: 0.5656, Class 2: 0.0577, Class 3: 0.4105, Class 4: 0.6834, Class 5: 0.4335, Class 6: 0.8387, \n",
      "Validation F-beta Score\n",
      "Class 0: 0.9856, Class 1: 0.6344, Class 2: 0.0438, Class 3: 0.6126, Class 4: 0.6924, Class 5: 0.4769, Class 6: 0.9144, \n",
      "\n",
      "Overall Mean Dice Score: 0.5863\n",
      "Overall Mean F-beta Score: 0.6661\n",
      "\n",
      "Training Loss: 0.4598, Validation Loss: 0.4629, Validation F-beta: 0.6661\n",
      "Epoch 115/4000\n"
     ]
    },
    {
     "name": "stderr",
     "output_type": "stream",
     "text": [
      "Training: 100%|██████████| 60/60 [02:02<00:00,  2.05s/it, loss=0.466]\n",
      "Validation: 100%|██████████| 5/5 [00:03<00:00,  1.47it/s, loss=0.459]\n"
     ]
    },
    {
     "name": "stdout",
     "output_type": "stream",
     "text": [
      "Validation Dice Score\n",
      "Class 0: 0.9877, Class 1: 0.5622, Class 2: 0.0367, Class 3: 0.4200, Class 4: 0.6828, Class 5: 0.4299, Class 6: 0.8516, \n",
      "Validation F-beta Score\n",
      "Class 0: 0.9832, Class 1: 0.6310, Class 2: 0.0244, Class 3: 0.5443, Class 4: 0.7647, Class 5: 0.5574, Class 6: 0.9210, \n",
      "\n",
      "Overall Mean Dice Score: 0.5893\n",
      "Overall Mean F-beta Score: 0.6837\n",
      "\n",
      "Training Loss: 0.4592, Validation Loss: 0.4613, Validation F-beta: 0.6837\n",
      "Epoch 116/4000\n"
     ]
    },
    {
     "name": "stderr",
     "output_type": "stream",
     "text": [
      "Training: 100%|██████████| 60/60 [01:42<00:00,  1.71s/it, loss=0.457]\n",
      "Validation: 100%|██████████| 5/5 [00:03<00:00,  1.53it/s, loss=0.454]\n"
     ]
    },
    {
     "name": "stdout",
     "output_type": "stream",
     "text": [
      "Validation Dice Score\n",
      "Class 0: 0.9873, Class 1: 0.5505, Class 2: 0.0536, Class 3: 0.4376, Class 4: 0.6933, Class 5: 0.4315, Class 6: 0.8460, \n",
      "Validation F-beta Score\n",
      "Class 0: 0.9825, Class 1: 0.6428, Class 2: 0.0419, Class 3: 0.6174, Class 4: 0.7553, Class 5: 0.5532, Class 6: 0.9246, \n",
      "\n",
      "Overall Mean Dice Score: 0.5918\n",
      "Overall Mean F-beta Score: 0.6987\n",
      "\n",
      "Training Loss: 0.4555, Validation Loss: 0.4545, Validation F-beta: 0.6987\n",
      "Epoch 117/4000\n"
     ]
    },
    {
     "name": "stderr",
     "output_type": "stream",
     "text": [
      "Training: 100%|██████████| 60/60 [01:37<00:00,  1.62s/it, loss=0.482]\n",
      "Validation: 100%|██████████| 5/5 [00:03<00:00,  1.52it/s, loss=0.456]\n"
     ]
    },
    {
     "name": "stdout",
     "output_type": "stream",
     "text": [
      "Validation Dice Score\n",
      "Class 0: 0.9890, Class 1: 0.5489, Class 2: 0.0720, Class 3: 0.3823, Class 4: 0.6999, Class 5: 0.4290, Class 6: 0.8543, \n",
      "Validation F-beta Score\n",
      "Class 0: 0.9875, Class 1: 0.7058, Class 2: 0.0611, Class 3: 0.6277, Class 4: 0.7169, Class 5: 0.4123, Class 6: 0.8961, \n",
      "\n",
      "Overall Mean Dice Score: 0.5829\n",
      "Overall Mean F-beta Score: 0.6718\n",
      "\n",
      "Training Loss: 0.4588, Validation Loss: 0.4572, Validation F-beta: 0.6718\n",
      "Epoch 118/4000\n"
     ]
    },
    {
     "name": "stderr",
     "output_type": "stream",
     "text": [
      "Training: 100%|██████████| 60/60 [01:39<00:00,  1.66s/it, loss=0.467]\n",
      "Validation: 100%|██████████| 5/5 [00:03<00:00,  1.50it/s, loss=0.457]\n"
     ]
    },
    {
     "name": "stdout",
     "output_type": "stream",
     "text": [
      "Validation Dice Score\n",
      "Class 0: 0.9872, Class 1: 0.5743, Class 2: 0.0877, Class 3: 0.3978, Class 4: 0.6917, Class 5: 0.4329, Class 6: 0.8483, \n",
      "Validation F-beta Score\n",
      "Class 0: 0.9821, Class 1: 0.6336, Class 2: 0.0733, Class 3: 0.5966, Class 4: 0.7781, Class 5: 0.5485, Class 6: 0.9157, \n",
      "\n",
      "Overall Mean Dice Score: 0.5890\n",
      "Overall Mean F-beta Score: 0.6945\n",
      "\n",
      "Training Loss: 0.4600, Validation Loss: 0.4560, Validation F-beta: 0.6945\n",
      "Epoch 119/4000\n"
     ]
    },
    {
     "name": "stderr",
     "output_type": "stream",
     "text": [
      "Training: 100%|██████████| 60/60 [01:42<00:00,  1.70s/it, loss=0.467]\n",
      "Validation: 100%|██████████| 5/5 [00:03<00:00,  1.48it/s, loss=0.448]\n"
     ]
    },
    {
     "name": "stdout",
     "output_type": "stream",
     "text": [
      "Validation Dice Score\n",
      "Class 0: 0.9875, Class 1: 0.5665, Class 2: 0.0748, Class 3: 0.4029, Class 4: 0.6976, Class 5: 0.4257, Class 6: 0.8478, \n",
      "Validation F-beta Score\n",
      "Class 0: 0.9829, Class 1: 0.6552, Class 2: 0.0669, Class 3: 0.5427, Class 4: 0.7641, Class 5: 0.5654, Class 6: 0.9063, \n",
      "\n",
      "Overall Mean Dice Score: 0.5881\n",
      "Overall Mean F-beta Score: 0.6867\n",
      "\n",
      "Training Loss: 0.4571, Validation Loss: 0.4576, Validation F-beta: 0.6867\n",
      "Epoch 120/4000\n"
     ]
    },
    {
     "name": "stderr",
     "output_type": "stream",
     "text": [
      "Training: 100%|██████████| 60/60 [01:37<00:00,  1.62s/it, loss=0.467]\n",
      "Validation: 100%|██████████| 5/5 [00:03<00:00,  1.50it/s, loss=0.448]\n"
     ]
    },
    {
     "name": "stdout",
     "output_type": "stream",
     "text": [
      "Validation Dice Score\n",
      "Class 0: 0.9886, Class 1: 0.5971, Class 2: 0.0884, Class 3: 0.4041, Class 4: 0.6998, Class 5: 0.4404, Class 6: 0.8601, \n",
      "Validation F-beta Score\n",
      "Class 0: 0.9855, Class 1: 0.6650, Class 2: 0.0730, Class 3: 0.6103, Class 4: 0.7318, Class 5: 0.5177, Class 6: 0.9003, \n",
      "\n",
      "Overall Mean Dice Score: 0.6003\n",
      "Overall Mean F-beta Score: 0.6850\n",
      "\n",
      "Training Loss: 0.4568, Validation Loss: 0.4537, Validation F-beta: 0.6850\n",
      "Epoch 121/4000\n"
     ]
    },
    {
     "name": "stderr",
     "output_type": "stream",
     "text": [
      "Training: 100%|██████████| 60/60 [01:37<00:00,  1.63s/it, loss=0.468]\n",
      "Validation: 100%|██████████| 5/5 [00:03<00:00,  1.50it/s, loss=0.453]\n"
     ]
    },
    {
     "name": "stdout",
     "output_type": "stream",
     "text": [
      "Validation Dice Score\n",
      "Class 0: 0.9885, Class 1: 0.5717, Class 2: 0.0553, Class 3: 0.3888, Class 4: 0.7042, Class 5: 0.4563, Class 6: 0.8496, \n",
      "Validation F-beta Score\n",
      "Class 0: 0.9860, Class 1: 0.6640, Class 2: 0.0450, Class 3: 0.6146, Class 4: 0.7319, Class 5: 0.4968, Class 6: 0.9076, \n",
      "\n",
      "Overall Mean Dice Score: 0.5941\n",
      "Overall Mean F-beta Score: 0.6830\n",
      "\n",
      "Training Loss: 0.4588, Validation Loss: 0.4541, Validation F-beta: 0.6830\n",
      "Epoch 122/4000\n"
     ]
    },
    {
     "name": "stderr",
     "output_type": "stream",
     "text": [
      "Training: 100%|██████████| 60/60 [01:40<00:00,  1.68s/it, loss=0.465]\n",
      "Validation: 100%|██████████| 5/5 [00:04<00:00,  1.18it/s, loss=0.452]\n"
     ]
    },
    {
     "name": "stdout",
     "output_type": "stream",
     "text": [
      "Validation Dice Score\n",
      "Class 0: 0.9876, Class 1: 0.5874, Class 2: 0.0731, Class 3: 0.4509, Class 4: 0.7062, Class 5: 0.4260, Class 6: 0.8753, \n",
      "Validation F-beta Score\n",
      "Class 0: 0.9834, Class 1: 0.6660, Class 2: 0.0600, Class 3: 0.6102, Class 4: 0.7525, Class 5: 0.5589, Class 6: 0.9157, \n",
      "\n",
      "Overall Mean Dice Score: 0.6092\n",
      "Overall Mean F-beta Score: 0.7007\n",
      "\n",
      "Training Loss: 0.4581, Validation Loss: 0.4554, Validation F-beta: 0.7007\n",
      "Epoch 123/4000\n"
     ]
    },
    {
     "name": "stderr",
     "output_type": "stream",
     "text": [
      "Training: 100%|██████████| 60/60 [01:35<00:00,  1.59s/it, loss=0.462]\n",
      "Validation: 100%|██████████| 5/5 [00:03<00:00,  1.51it/s, loss=0.451]\n"
     ]
    },
    {
     "name": "stdout",
     "output_type": "stream",
     "text": [
      "Validation Dice Score\n",
      "Class 0: 0.9881, Class 1: 0.5800, Class 2: 0.0692, Class 3: 0.4323, Class 4: 0.6951, Class 5: 0.4496, Class 6: 0.8414, \n",
      "Validation F-beta Score\n",
      "Class 0: 0.9850, Class 1: 0.7014, Class 2: 0.0631, Class 3: 0.6297, Class 4: 0.7298, Class 5: 0.5066, Class 6: 0.9072, \n",
      "\n",
      "Overall Mean Dice Score: 0.5997\n",
      "Overall Mean F-beta Score: 0.6949\n",
      "\n",
      "Training Loss: 0.4561, Validation Loss: 0.4549, Validation F-beta: 0.6949\n",
      "Epoch 124/4000\n"
     ]
    },
    {
     "name": "stderr",
     "output_type": "stream",
     "text": [
      "Training: 100%|██████████| 60/60 [01:38<00:00,  1.63s/it, loss=0.455]\n",
      "Validation: 100%|██████████| 5/5 [00:03<00:00,  1.51it/s, loss=0.447]\n"
     ]
    },
    {
     "name": "stdout",
     "output_type": "stream",
     "text": [
      "Validation Dice Score\n",
      "Class 0: 0.9884, Class 1: 0.6101, Class 2: 0.1107, Class 3: 0.4279, Class 4: 0.6920, Class 5: 0.4387, Class 6: 0.8735, \n",
      "Validation F-beta Score\n",
      "Class 0: 0.9846, Class 1: 0.6709, Class 2: 0.1019, Class 3: 0.6016, Class 4: 0.7295, Class 5: 0.5495, Class 6: 0.9162, \n",
      "\n",
      "Overall Mean Dice Score: 0.6084\n",
      "Overall Mean F-beta Score: 0.6935\n",
      "\n",
      "Training Loss: 0.4567, Validation Loss: 0.4517, Validation F-beta: 0.6935\n",
      "Epoch 125/4000\n"
     ]
    },
    {
     "name": "stderr",
     "output_type": "stream",
     "text": [
      "Training: 100%|██████████| 60/60 [01:39<00:00,  1.66s/it, loss=0.468]\n",
      "Validation: 100%|██████████| 5/5 [00:04<00:00,  1.11it/s, loss=0.458]\n"
     ]
    },
    {
     "name": "stdout",
     "output_type": "stream",
     "text": [
      "Validation Dice Score\n",
      "Class 0: 0.9879, Class 1: 0.5762, Class 2: 0.1022, Class 3: 0.4536, Class 4: 0.7124, Class 5: 0.4165, Class 6: 0.8502, \n",
      "Validation F-beta Score\n",
      "Class 0: 0.9834, Class 1: 0.6582, Class 2: 0.0852, Class 3: 0.5782, Class 4: 0.7725, Class 5: 0.5528, Class 6: 0.9173, \n",
      "\n",
      "Overall Mean Dice Score: 0.6018\n",
      "Overall Mean F-beta Score: 0.6958\n",
      "\n",
      "Training Loss: 0.4558, Validation Loss: 0.4532, Validation F-beta: 0.6958\n",
      "Epoch 126/4000\n"
     ]
    },
    {
     "name": "stderr",
     "output_type": "stream",
     "text": [
      "Training: 100%|██████████| 60/60 [01:35<00:00,  1.60s/it, loss=0.45] \n",
      "Validation: 100%|██████████| 5/5 [00:03<00:00,  1.51it/s, loss=0.46] \n"
     ]
    },
    {
     "name": "stdout",
     "output_type": "stream",
     "text": [
      "Validation Dice Score\n",
      "Class 0: 0.9878, Class 1: 0.6005, Class 2: 0.0984, Class 3: 0.4182, Class 4: 0.6971, Class 5: 0.4598, Class 6: 0.8442, \n",
      "Validation F-beta Score\n",
      "Class 0: 0.9841, Class 1: 0.7151, Class 2: 0.0902, Class 3: 0.6124, Class 4: 0.7388, Class 5: 0.5581, Class 6: 0.9032, \n",
      "\n",
      "Overall Mean Dice Score: 0.6039\n",
      "Overall Mean F-beta Score: 0.7055\n",
      "\n",
      "Training Loss: 0.4551, Validation Loss: 0.4539, Validation F-beta: 0.7055\n",
      "Epoch 127/4000\n"
     ]
    },
    {
     "name": "stderr",
     "output_type": "stream",
     "text": [
      "Training: 100%|██████████| 60/60 [01:37<00:00,  1.62s/it, loss=0.452]\n",
      "Validation: 100%|██████████| 5/5 [00:03<00:00,  1.50it/s, loss=0.454]\n"
     ]
    },
    {
     "name": "stdout",
     "output_type": "stream",
     "text": [
      "Validation Dice Score\n",
      "Class 0: 0.9876, Class 1: 0.5912, Class 2: 0.0975, Class 3: 0.4373, Class 4: 0.7036, Class 5: 0.4383, Class 6: 0.8593, \n",
      "Validation F-beta Score\n",
      "Class 0: 0.9838, Class 1: 0.6999, Class 2: 0.0839, Class 3: 0.6018, Class 4: 0.7546, Class 5: 0.5382, Class 6: 0.8936, \n",
      "\n",
      "Overall Mean Dice Score: 0.6059\n",
      "Overall Mean F-beta Score: 0.6976\n",
      "\n",
      "Training Loss: 0.4555, Validation Loss: 0.4559, Validation F-beta: 0.6976\n",
      "Epoch 128/4000\n"
     ]
    },
    {
     "name": "stderr",
     "output_type": "stream",
     "text": [
      "Training: 100%|██████████| 60/60 [01:40<00:00,  1.67s/it, loss=0.461]\n",
      "Validation: 100%|██████████| 5/5 [00:04<00:00,  1.10it/s, loss=0.458]\n"
     ]
    },
    {
     "name": "stdout",
     "output_type": "stream",
     "text": [
      "Validation Dice Score\n",
      "Class 0: 0.9885, Class 1: 0.6010, Class 2: 0.0850, Class 3: 0.4275, Class 4: 0.6964, Class 5: 0.4637, Class 6: 0.8498, \n",
      "Validation F-beta Score\n",
      "Class 0: 0.9852, Class 1: 0.7193, Class 2: 0.0785, Class 3: 0.6069, Class 4: 0.7418, Class 5: 0.5468, Class 6: 0.9038, \n",
      "\n",
      "Overall Mean Dice Score: 0.6077\n",
      "Overall Mean F-beta Score: 0.7037\n",
      "\n",
      "Training Loss: 0.4558, Validation Loss: 0.4539, Validation F-beta: 0.7037\n",
      "Epoch 129/4000\n"
     ]
    },
    {
     "name": "stderr",
     "output_type": "stream",
     "text": [
      "Training: 100%|██████████| 60/60 [01:35<00:00,  1.60s/it, loss=0.455]\n",
      "Validation: 100%|██████████| 5/5 [00:03<00:00,  1.53it/s, loss=0.457]\n"
     ]
    },
    {
     "name": "stdout",
     "output_type": "stream",
     "text": [
      "Validation Dice Score\n",
      "Class 0: 0.9874, Class 1: 0.5934, Class 2: 0.0601, Class 3: 0.4379, Class 4: 0.7195, Class 5: 0.4289, Class 6: 0.8281, \n",
      "Validation F-beta Score\n",
      "Class 0: 0.9838, Class 1: 0.7054, Class 2: 0.0603, Class 3: 0.6020, Class 4: 0.7588, Class 5: 0.5237, Class 6: 0.8968, \n",
      "\n",
      "Overall Mean Dice Score: 0.6015\n",
      "Overall Mean F-beta Score: 0.6973\n",
      "\n",
      "Training Loss: 0.4548, Validation Loss: 0.4547, Validation F-beta: 0.6973\n",
      "Epoch 130/4000\n"
     ]
    },
    {
     "name": "stderr",
     "output_type": "stream",
     "text": [
      "Training: 100%|██████████| 60/60 [01:37<00:00,  1.63s/it, loss=0.467]\n",
      "Validation: 100%|██████████| 5/5 [00:03<00:00,  1.54it/s, loss=0.449]\n"
     ]
    },
    {
     "name": "stdout",
     "output_type": "stream",
     "text": [
      "Validation Dice Score\n",
      "Class 0: 0.9873, Class 1: 0.6060, Class 2: 0.0292, Class 3: 0.4546, Class 4: 0.7047, Class 5: 0.4542, Class 6: 0.8645, \n",
      "Validation F-beta Score\n",
      "Class 0: 0.9832, Class 1: 0.7211, Class 2: 0.0242, Class 3: 0.5856, Class 4: 0.7392, Class 5: 0.5921, Class 6: 0.9229, \n",
      "\n",
      "Overall Mean Dice Score: 0.6168\n",
      "Overall Mean F-beta Score: 0.7122\n",
      "\n",
      "Training Loss: 0.4554, Validation Loss: 0.4508, Validation F-beta: 0.7122\n",
      "========================================================\n",
      "SUPER Best model saved. Loss:0.4508, Score:0.7122\n",
      "========================================================\n",
      "Epoch 131/4000\n"
     ]
    },
    {
     "name": "stderr",
     "output_type": "stream",
     "text": [
      "Training: 100%|██████████| 60/60 [01:39<00:00,  1.65s/it, loss=0.462]\n",
      "Validation: 100%|██████████| 5/5 [00:04<00:00,  1.04it/s, loss=0.448]\n"
     ]
    },
    {
     "name": "stdout",
     "output_type": "stream",
     "text": [
      "Validation Dice Score\n",
      "Class 0: 0.9887, Class 1: 0.5877, Class 2: 0.0736, Class 3: 0.4159, Class 4: 0.7083, Class 5: 0.4840, Class 6: 0.8573, \n",
      "Validation F-beta Score\n",
      "Class 0: 0.9847, Class 1: 0.6949, Class 2: 0.0693, Class 3: 0.5897, Class 4: 0.7592, Class 5: 0.5996, Class 6: 0.9199, \n",
      "\n",
      "Overall Mean Dice Score: 0.6106\n",
      "Overall Mean F-beta Score: 0.7127\n",
      "\n",
      "Training Loss: 0.4556, Validation Loss: 0.4512, Validation F-beta: 0.7127\n",
      "Epoch 132/4000\n"
     ]
    },
    {
     "name": "stderr",
     "output_type": "stream",
     "text": [
      "Training: 100%|██████████| 60/60 [01:35<00:00,  1.59s/it, loss=0.472]\n",
      "Validation: 100%|██████████| 5/5 [00:03<00:00,  1.52it/s, loss=0.454]\n"
     ]
    },
    {
     "name": "stdout",
     "output_type": "stream",
     "text": [
      "Validation Dice Score\n",
      "Class 0: 0.9881, Class 1: 0.6258, Class 2: 0.1030, Class 3: 0.4312, Class 4: 0.6964, Class 5: 0.4552, Class 6: 0.8552, \n",
      "Validation F-beta Score\n",
      "Class 0: 0.9844, Class 1: 0.7165, Class 2: 0.0859, Class 3: 0.6375, Class 4: 0.7410, Class 5: 0.5566, Class 6: 0.9185, \n",
      "\n",
      "Overall Mean Dice Score: 0.6128\n",
      "Overall Mean F-beta Score: 0.7140\n",
      "\n",
      "Training Loss: 0.4560, Validation Loss: 0.4486, Validation F-beta: 0.7140\n",
      "========================================================\n",
      "SUPER Best model saved. Loss:0.4486, Score:0.7140\n",
      "========================================================\n",
      "Epoch 133/4000\n"
     ]
    },
    {
     "name": "stderr",
     "output_type": "stream",
     "text": [
      "Training: 100%|██████████| 60/60 [01:37<00:00,  1.63s/it, loss=0.471]\n",
      "Validation: 100%|██████████| 5/5 [00:03<00:00,  1.47it/s, loss=0.452]\n"
     ]
    },
    {
     "name": "stdout",
     "output_type": "stream",
     "text": [
      "Validation Dice Score\n",
      "Class 0: 0.9878, Class 1: 0.5668, Class 2: 0.0847, Class 3: 0.4713, Class 4: 0.6923, Class 5: 0.4694, Class 6: 0.8506, \n",
      "Validation F-beta Score\n",
      "Class 0: 0.9836, Class 1: 0.6878, Class 2: 0.0827, Class 3: 0.6334, Class 4: 0.7500, Class 5: 0.5900, Class 6: 0.9168, \n",
      "\n",
      "Overall Mean Dice Score: 0.6101\n",
      "Overall Mean F-beta Score: 0.7156\n",
      "\n",
      "Training Loss: 0.4550, Validation Loss: 0.4541, Validation F-beta: 0.7156\n",
      "Epoch 134/4000\n"
     ]
    },
    {
     "name": "stderr",
     "output_type": "stream",
     "text": [
      "Training: 100%|██████████| 60/60 [01:38<00:00,  1.65s/it, loss=0.465]\n",
      "Validation: 100%|██████████| 5/5 [00:03<00:00,  1.49it/s, loss=0.452]\n"
     ]
    },
    {
     "name": "stdout",
     "output_type": "stream",
     "text": [
      "Validation Dice Score\n",
      "Class 0: 0.9869, Class 1: 0.5823, Class 2: 0.1062, Class 3: 0.4328, Class 4: 0.6964, Class 5: 0.4382, Class 6: 0.8496, \n",
      "Validation F-beta Score\n",
      "Class 0: 0.9825, Class 1: 0.6282, Class 2: 0.1042, Class 3: 0.6142, Class 4: 0.7483, Class 5: 0.5628, Class 6: 0.8927, \n",
      "\n",
      "Overall Mean Dice Score: 0.5999\n",
      "Overall Mean F-beta Score: 0.6892\n",
      "\n",
      "Training Loss: 0.4557, Validation Loss: 0.4597, Validation F-beta: 0.6892\n",
      "Epoch 135/4000\n"
     ]
    },
    {
     "name": "stderr",
     "output_type": "stream",
     "text": [
      "Training: 100%|██████████| 60/60 [01:42<00:00,  1.70s/it, loss=0.47] \n",
      "Validation: 100%|██████████| 5/5 [00:03<00:00,  1.52it/s, loss=0.447]\n"
     ]
    },
    {
     "name": "stdout",
     "output_type": "stream",
     "text": [
      "Validation Dice Score\n",
      "Class 0: 0.9884, Class 1: 0.6101, Class 2: 0.0860, Class 3: 0.4430, Class 4: 0.6998, Class 5: 0.4306, Class 6: 0.8601, \n",
      "Validation F-beta Score\n",
      "Class 0: 0.9850, Class 1: 0.6982, Class 2: 0.0804, Class 3: 0.6098, Class 4: 0.7241, Class 5: 0.5353, Class 6: 0.9102, \n",
      "\n",
      "Overall Mean Dice Score: 0.6087\n",
      "Overall Mean F-beta Score: 0.6955\n",
      "\n",
      "Training Loss: 0.4561, Validation Loss: 0.4478, Validation F-beta: 0.6955\n",
      "Epoch 136/4000\n"
     ]
    },
    {
     "name": "stderr",
     "output_type": "stream",
     "text": [
      "Training: 100%|██████████| 60/60 [01:36<00:00,  1.61s/it, loss=0.457]\n",
      "Validation: 100%|██████████| 5/5 [00:03<00:00,  1.50it/s, loss=0.462]\n"
     ]
    },
    {
     "name": "stdout",
     "output_type": "stream",
     "text": [
      "Validation Dice Score\n",
      "Class 0: 0.9876, Class 1: 0.5788, Class 2: 0.1001, Class 3: 0.4235, Class 4: 0.7027, Class 5: 0.4219, Class 6: 0.8584, \n",
      "Validation F-beta Score\n",
      "Class 0: 0.9830, Class 1: 0.6635, Class 2: 0.0971, Class 3: 0.5342, Class 4: 0.7622, Class 5: 0.5605, Class 6: 0.9127, \n",
      "\n",
      "Overall Mean Dice Score: 0.5971\n",
      "Overall Mean F-beta Score: 0.6866\n",
      "\n",
      "Training Loss: 0.4533, Validation Loss: 0.4603, Validation F-beta: 0.6866\n",
      "Epoch 137/4000\n"
     ]
    },
    {
     "name": "stderr",
     "output_type": "stream",
     "text": [
      "Training: 100%|██████████| 60/60 [02:10<00:00,  2.17s/it, loss=0.448]\n",
      "Validation: 100%|██████████| 5/5 [00:03<00:00,  1.47it/s, loss=0.452]\n"
     ]
    },
    {
     "name": "stdout",
     "output_type": "stream",
     "text": [
      "Validation Dice Score\n",
      "Class 0: 0.9879, Class 1: 0.5700, Class 2: 0.0614, Class 3: 0.4325, Class 4: 0.6881, Class 5: 0.4666, Class 6: 0.8545, \n",
      "Validation F-beta Score\n",
      "Class 0: 0.9836, Class 1: 0.6965, Class 2: 0.0515, Class 3: 0.5903, Class 4: 0.7491, Class 5: 0.5945, Class 6: 0.9141, \n",
      "\n",
      "Overall Mean Dice Score: 0.6023\n",
      "Overall Mean F-beta Score: 0.7089\n",
      "\n",
      "Training Loss: 0.4537, Validation Loss: 0.4543, Validation F-beta: 0.7089\n",
      "Epoch 138/4000\n"
     ]
    },
    {
     "name": "stderr",
     "output_type": "stream",
     "text": [
      "Training: 100%|██████████| 60/60 [01:41<00:00,  1.69s/it, loss=0.473]\n",
      "Validation: 100%|██████████| 5/5 [00:03<00:00,  1.48it/s, loss=0.458]\n"
     ]
    },
    {
     "name": "stdout",
     "output_type": "stream",
     "text": [
      "Validation Dice Score\n",
      "Class 0: 0.9882, Class 1: 0.6035, Class 2: 0.0673, Class 3: 0.4140, Class 4: 0.6985, Class 5: 0.4533, Class 6: 0.8639, \n",
      "Validation F-beta Score\n",
      "Class 0: 0.9842, Class 1: 0.7254, Class 2: 0.0631, Class 3: 0.5861, Class 4: 0.7692, Class 5: 0.5514, Class 6: 0.9080, \n",
      "\n",
      "Overall Mean Dice Score: 0.6066\n",
      "Overall Mean F-beta Score: 0.7080\n",
      "\n",
      "Training Loss: 0.4534, Validation Loss: 0.4568, Validation F-beta: 0.7080\n",
      "Epoch 139/4000\n"
     ]
    },
    {
     "name": "stderr",
     "output_type": "stream",
     "text": [
      "Training: 100%|██████████| 60/60 [01:35<00:00,  1.59s/it, loss=0.458]\n",
      "Validation: 100%|██████████| 5/5 [00:03<00:00,  1.53it/s, loss=0.459]\n"
     ]
    },
    {
     "name": "stdout",
     "output_type": "stream",
     "text": [
      "Validation Dice Score\n",
      "Class 0: 0.9877, Class 1: 0.5857, Class 2: 0.0893, Class 3: 0.4569, Class 4: 0.7030, Class 5: 0.4227, Class 6: 0.8557, \n",
      "Validation F-beta Score\n",
      "Class 0: 0.9838, Class 1: 0.6436, Class 2: 0.0791, Class 3: 0.6007, Class 4: 0.7473, Class 5: 0.5427, Class 6: 0.9177, \n",
      "\n",
      "Overall Mean Dice Score: 0.6048\n",
      "Overall Mean F-beta Score: 0.6904\n",
      "\n",
      "Training Loss: 0.4535, Validation Loss: 0.4547, Validation F-beta: 0.6904\n",
      "Epoch 140/4000\n"
     ]
    },
    {
     "name": "stderr",
     "output_type": "stream",
     "text": [
      "Training: 100%|██████████| 60/60 [01:37<00:00,  1.63s/it, loss=0.47] \n",
      "Validation: 100%|██████████| 5/5 [00:03<00:00,  1.49it/s, loss=0.451]\n"
     ]
    },
    {
     "name": "stdout",
     "output_type": "stream",
     "text": [
      "Validation Dice Score\n",
      "Class 0: 0.9880, Class 1: 0.6102, Class 2: 0.0968, Class 3: 0.4576, Class 4: 0.6982, Class 5: 0.4433, Class 6: 0.8523, \n",
      "Validation F-beta Score\n",
      "Class 0: 0.9843, Class 1: 0.7219, Class 2: 0.0930, Class 3: 0.6278, Class 4: 0.7374, Class 5: 0.5478, Class 6: 0.9187, \n",
      "\n",
      "Overall Mean Dice Score: 0.6123\n",
      "Overall Mean F-beta Score: 0.7107\n",
      "\n",
      "Training Loss: 0.4543, Validation Loss: 0.4531, Validation F-beta: 0.7107\n",
      "Epoch 141/4000\n"
     ]
    },
    {
     "name": "stderr",
     "output_type": "stream",
     "text": [
      "Training: 100%|██████████| 60/60 [01:58<00:00,  1.98s/it, loss=0.472]\n",
      "Validation: 100%|██████████| 5/5 [00:03<00:00,  1.36it/s, loss=0.444]\n"
     ]
    },
    {
     "name": "stdout",
     "output_type": "stream",
     "text": [
      "Validation Dice Score\n",
      "Class 0: 0.9875, Class 1: 0.5782, Class 2: 0.0576, Class 3: 0.4667, Class 4: 0.7013, Class 5: 0.4278, Class 6: 0.8592, \n",
      "Validation F-beta Score\n",
      "Class 0: 0.9833, Class 1: 0.6890, Class 2: 0.0585, Class 3: 0.6179, Class 4: 0.7436, Class 5: 0.5444, Class 6: 0.9134, \n",
      "\n",
      "Overall Mean Dice Score: 0.6066\n",
      "Overall Mean F-beta Score: 0.7016\n",
      "\n",
      "Training Loss: 0.4539, Validation Loss: 0.4515, Validation F-beta: 0.7016\n",
      "Epoch 142/4000\n"
     ]
    },
    {
     "name": "stderr",
     "output_type": "stream",
     "text": [
      "Training: 100%|██████████| 60/60 [01:36<00:00,  1.60s/it, loss=0.464]\n",
      "Validation: 100%|██████████| 5/5 [00:03<00:00,  1.49it/s, loss=0.456]\n"
     ]
    },
    {
     "name": "stdout",
     "output_type": "stream",
     "text": [
      "Validation Dice Score\n",
      "Class 0: 0.9879, Class 1: 0.6198, Class 2: 0.0931, Class 3: 0.4451, Class 4: 0.7126, Class 5: 0.4717, Class 6: 0.8662, \n",
      "Validation F-beta Score\n",
      "Class 0: 0.9836, Class 1: 0.6942, Class 2: 0.0820, Class 3: 0.5873, Class 4: 0.7612, Class 5: 0.6149, Class 6: 0.9252, \n",
      "\n",
      "Overall Mean Dice Score: 0.6231\n",
      "Overall Mean F-beta Score: 0.7165\n",
      "\n",
      "Training Loss: 0.4541, Validation Loss: 0.4505, Validation F-beta: 0.7165\n",
      "Epoch 143/4000\n"
     ]
    },
    {
     "name": "stderr",
     "output_type": "stream",
     "text": [
      "Training: 100%|██████████| 60/60 [01:37<00:00,  1.62s/it, loss=0.459]\n",
      "Validation: 100%|██████████| 5/5 [00:03<00:00,  1.52it/s, loss=0.462]\n"
     ]
    },
    {
     "name": "stdout",
     "output_type": "stream",
     "text": [
      "Validation Dice Score\n",
      "Class 0: 0.9880, Class 1: 0.6074, Class 2: 0.0480, Class 3: 0.4271, Class 4: 0.6885, Class 5: 0.4513, Class 6: 0.8553, \n",
      "Validation F-beta Score\n",
      "Class 0: 0.9843, Class 1: 0.6929, Class 2: 0.0578, Class 3: 0.6087, Class 4: 0.7397, Class 5: 0.5422, Class 6: 0.8916, \n",
      "\n",
      "Overall Mean Dice Score: 0.6059\n",
      "Overall Mean F-beta Score: 0.6950\n",
      "\n",
      "Training Loss: 0.4550, Validation Loss: 0.4562, Validation F-beta: 0.6950\n",
      "Epoch 144/4000\n"
     ]
    },
    {
     "name": "stderr",
     "output_type": "stream",
     "text": [
      "Training: 100%|██████████| 60/60 [01:38<00:00,  1.65s/it, loss=0.468]\n",
      "Validation: 100%|██████████| 5/5 [00:03<00:00,  1.47it/s, loss=0.455]\n"
     ]
    },
    {
     "name": "stdout",
     "output_type": "stream",
     "text": [
      "Validation Dice Score\n",
      "Class 0: 0.9877, Class 1: 0.5887, Class 2: 0.1097, Class 3: 0.4592, Class 4: 0.6945, Class 5: 0.4372, Class 6: 0.8627, \n",
      "Validation F-beta Score\n",
      "Class 0: 0.9837, Class 1: 0.7010, Class 2: 0.1122, Class 3: 0.6391, Class 4: 0.7542, Class 5: 0.5242, Class 6: 0.9242, \n",
      "\n",
      "Overall Mean Dice Score: 0.6085\n",
      "Overall Mean F-beta Score: 0.7085\n",
      "\n",
      "Training Loss: 0.4547, Validation Loss: 0.4538, Validation F-beta: 0.7085\n",
      "Epoch 145/4000\n"
     ]
    },
    {
     "name": "stderr",
     "output_type": "stream",
     "text": [
      "Training: 100%|██████████| 60/60 [01:42<00:00,  1.70s/it, loss=0.457]\n",
      "Validation: 100%|██████████| 5/5 [00:03<00:00,  1.54it/s, loss=0.456]\n"
     ]
    },
    {
     "name": "stdout",
     "output_type": "stream",
     "text": [
      "Validation Dice Score\n",
      "Class 0: 0.9888, Class 1: 0.5658, Class 2: 0.0964, Class 3: 0.4469, Class 4: 0.7054, Class 5: 0.4651, Class 6: 0.8557, \n",
      "Validation F-beta Score\n",
      "Class 0: 0.9854, Class 1: 0.6422, Class 2: 0.0950, Class 3: 0.6067, Class 4: 0.7295, Class 5: 0.5797, Class 6: 0.9204, \n",
      "\n",
      "Overall Mean Dice Score: 0.6078\n",
      "Overall Mean F-beta Score: 0.6957\n",
      "\n",
      "Training Loss: 0.4537, Validation Loss: 0.4509, Validation F-beta: 0.6957\n",
      "Epoch 146/4000\n"
     ]
    },
    {
     "name": "stderr",
     "output_type": "stream",
     "text": [
      "Training: 100%|██████████| 60/60 [01:36<00:00,  1.60s/it, loss=0.472]\n",
      "Validation: 100%|██████████| 5/5 [00:03<00:00,  1.48it/s, loss=0.458]\n"
     ]
    },
    {
     "name": "stdout",
     "output_type": "stream",
     "text": [
      "Validation Dice Score\n",
      "Class 0: 0.9878, Class 1: 0.5870, Class 2: 0.0585, Class 3: 0.4371, Class 4: 0.6864, Class 5: 0.4530, Class 6: 0.8590, \n",
      "Validation F-beta Score\n",
      "Class 0: 0.9837, Class 1: 0.6829, Class 2: 0.0564, Class 3: 0.5923, Class 4: 0.7366, Class 5: 0.5646, Class 6: 0.9186, \n",
      "\n",
      "Overall Mean Dice Score: 0.6045\n",
      "Overall Mean F-beta Score: 0.6990\n",
      "\n",
      "Training Loss: 0.4526, Validation Loss: 0.4553, Validation F-beta: 0.6990\n",
      "Epoch 147/4000\n"
     ]
    },
    {
     "name": "stderr",
     "output_type": "stream",
     "text": [
      "Training: 100%|██████████| 60/60 [01:37<00:00,  1.63s/it, loss=0.461]\n",
      "Validation: 100%|██████████| 5/5 [00:03<00:00,  1.51it/s, loss=0.449]\n"
     ]
    },
    {
     "name": "stdout",
     "output_type": "stream",
     "text": [
      "Validation Dice Score\n",
      "Class 0: 0.9880, Class 1: 0.5940, Class 2: 0.0764, Class 3: 0.4512, Class 4: 0.6937, Class 5: 0.4672, Class 6: 0.8462, \n",
      "Validation F-beta Score\n",
      "Class 0: 0.9839, Class 1: 0.6693, Class 2: 0.0674, Class 3: 0.6120, Class 4: 0.7483, Class 5: 0.5865, Class 6: 0.9155, \n",
      "\n",
      "Overall Mean Dice Score: 0.6104\n",
      "Overall Mean F-beta Score: 0.7063\n",
      "\n",
      "Training Loss: 0.4549, Validation Loss: 0.4517, Validation F-beta: 0.7063\n",
      "Epoch 148/4000\n"
     ]
    },
    {
     "name": "stderr",
     "output_type": "stream",
     "text": [
      "Training: 100%|██████████| 60/60 [01:39<00:00,  1.66s/it, loss=0.465]\n",
      "Validation: 100%|██████████| 5/5 [00:04<00:00,  1.16it/s, loss=0.443]\n"
     ]
    },
    {
     "name": "stdout",
     "output_type": "stream",
     "text": [
      "Validation Dice Score\n",
      "Class 0: 0.9884, Class 1: 0.6100, Class 2: 0.1382, Class 3: 0.4435, Class 4: 0.7006, Class 5: 0.4291, Class 6: 0.8499, \n",
      "Validation F-beta Score\n",
      "Class 0: 0.9838, Class 1: 0.7227, Class 2: 0.1304, Class 3: 0.5962, Class 4: 0.7652, Class 5: 0.5644, Class 6: 0.9166, \n",
      "\n",
      "Overall Mean Dice Score: 0.6066\n",
      "Overall Mean F-beta Score: 0.7130\n",
      "\n",
      "Training Loss: 0.4538, Validation Loss: 0.4475, Validation F-beta: 0.7130\n",
      "Epoch 149/4000\n"
     ]
    },
    {
     "name": "stderr",
     "output_type": "stream",
     "text": [
      "Training: 100%|██████████| 60/60 [01:35<00:00,  1.60s/it, loss=0.476]\n",
      "Validation: 100%|██████████| 5/5 [00:03<00:00,  1.47it/s, loss=0.45] \n"
     ]
    },
    {
     "name": "stdout",
     "output_type": "stream",
     "text": [
      "Validation Dice Score\n",
      "Class 0: 0.9878, Class 1: 0.6254, Class 2: 0.1386, Class 3: 0.4471, Class 4: 0.6995, Class 5: 0.4335, Class 6: 0.8544, \n",
      "Validation F-beta Score\n",
      "Class 0: 0.9838, Class 1: 0.7184, Class 2: 0.1338, Class 3: 0.6052, Class 4: 0.7405, Class 5: 0.5521, Class 6: 0.9139, \n",
      "\n",
      "Overall Mean Dice Score: 0.6120\n",
      "Overall Mean F-beta Score: 0.7060\n",
      "\n",
      "Training Loss: 0.4545, Validation Loss: 0.4510, Validation F-beta: 0.7060\n",
      "Epoch 150/4000\n"
     ]
    },
    {
     "name": "stderr",
     "output_type": "stream",
     "text": [
      "Training: 100%|██████████| 60/60 [01:37<00:00,  1.63s/it, loss=0.471]\n",
      "Validation: 100%|██████████| 5/5 [00:03<00:00,  1.54it/s, loss=0.452]\n"
     ]
    },
    {
     "name": "stdout",
     "output_type": "stream",
     "text": [
      "Validation Dice Score\n",
      "Class 0: 0.9882, Class 1: 0.5960, Class 2: 0.1096, Class 3: 0.4297, Class 4: 0.6957, Class 5: 0.4370, Class 6: 0.8724, \n",
      "Validation F-beta Score\n",
      "Class 0: 0.9844, Class 1: 0.6574, Class 2: 0.1022, Class 3: 0.5936, Class 4: 0.7327, Class 5: 0.5870, Class 6: 0.9098, \n",
      "\n",
      "Overall Mean Dice Score: 0.6062\n",
      "Overall Mean F-beta Score: 0.6961\n",
      "\n",
      "Training Loss: 0.4545, Validation Loss: 0.4528, Validation F-beta: 0.6961\n",
      "Epoch 151/4000\n"
     ]
    },
    {
     "name": "stderr",
     "output_type": "stream",
     "text": [
      "Training: 100%|██████████| 60/60 [01:39<00:00,  1.65s/it, loss=0.462]\n",
      "Validation: 100%|██████████| 5/5 [00:03<00:00,  1.50it/s, loss=0.444]\n"
     ]
    },
    {
     "name": "stdout",
     "output_type": "stream",
     "text": [
      "Validation Dice Score\n",
      "Class 0: 0.9874, Class 1: 0.5870, Class 2: 0.0730, Class 3: 0.4397, Class 4: 0.6947, Class 5: 0.4546, Class 6: 0.8471, \n",
      "Validation F-beta Score\n",
      "Class 0: 0.9831, Class 1: 0.7016, Class 2: 0.0604, Class 3: 0.5686, Class 4: 0.7463, Class 5: 0.5856, Class 6: 0.9065, \n",
      "\n",
      "Overall Mean Dice Score: 0.6046\n",
      "Overall Mean F-beta Score: 0.7017\n",
      "\n",
      "Training Loss: 0.4527, Validation Loss: 0.4530, Validation F-beta: 0.7017\n",
      "Epoch 152/4000\n"
     ]
    },
    {
     "name": "stderr",
     "output_type": "stream",
     "text": [
      "Training: 100%|██████████| 60/60 [01:41<00:00,  1.69s/it, loss=0.458]\n",
      "Validation: 100%|██████████| 5/5 [00:03<00:00,  1.50it/s, loss=0.452]\n"
     ]
    },
    {
     "name": "stdout",
     "output_type": "stream",
     "text": [
      "Validation Dice Score\n",
      "Class 0: 0.9880, Class 1: 0.5873, Class 2: 0.0555, Class 3: 0.4778, Class 4: 0.6853, Class 5: 0.4301, Class 6: 0.8687, \n",
      "Validation F-beta Score\n",
      "Class 0: 0.9839, Class 1: 0.6646, Class 2: 0.0624, Class 3: 0.5985, Class 4: 0.7306, Class 5: 0.5604, Class 6: 0.9190, \n",
      "\n",
      "Overall Mean Dice Score: 0.6098\n",
      "Overall Mean F-beta Score: 0.6946\n",
      "\n",
      "Training Loss: 0.4528, Validation Loss: 0.4513, Validation F-beta: 0.6946\n",
      "Epoch 153/4000\n"
     ]
    },
    {
     "name": "stderr",
     "output_type": "stream",
     "text": [
      "Training: 100%|██████████| 60/60 [01:36<00:00,  1.60s/it, loss=0.463]\n",
      "Validation: 100%|██████████| 5/5 [00:03<00:00,  1.52it/s, loss=0.449]\n"
     ]
    },
    {
     "name": "stdout",
     "output_type": "stream",
     "text": [
      "Validation Dice Score\n",
      "Class 0: 0.9878, Class 1: 0.6223, Class 2: 0.0909, Class 3: 0.4275, Class 4: 0.6771, Class 5: 0.4288, Class 6: 0.8618, \n",
      "Validation F-beta Score\n",
      "Class 0: 0.9832, Class 1: 0.6837, Class 2: 0.0879, Class 3: 0.5897, Class 4: 0.7495, Class 5: 0.5557, Class 6: 0.9176, \n",
      "\n",
      "Overall Mean Dice Score: 0.6035\n",
      "Overall Mean F-beta Score: 0.6992\n",
      "\n",
      "Training Loss: 0.4535, Validation Loss: 0.4517, Validation F-beta: 0.6992\n",
      "Epoch 154/4000\n"
     ]
    },
    {
     "name": "stderr",
     "output_type": "stream",
     "text": [
      "Training: 100%|██████████| 60/60 [01:39<00:00,  1.65s/it, loss=0.457]\n",
      "Validation: 100%|██████████| 5/5 [00:03<00:00,  1.51it/s, loss=0.463]\n"
     ]
    },
    {
     "name": "stdout",
     "output_type": "stream",
     "text": [
      "Validation Dice Score\n",
      "Class 0: 0.9870, Class 1: 0.5630, Class 2: 0.0809, Class 3: 0.4040, Class 4: 0.7088, Class 5: 0.4494, Class 6: 0.8621, \n",
      "Validation F-beta Score\n",
      "Class 0: 0.9824, Class 1: 0.6410, Class 2: 0.0767, Class 3: 0.5363, Class 4: 0.7648, Class 5: 0.5940, Class 6: 0.9083, \n",
      "\n",
      "Overall Mean Dice Score: 0.5974\n",
      "Overall Mean F-beta Score: 0.6889\n",
      "\n",
      "Training Loss: 0.4535, Validation Loss: 0.4582, Validation F-beta: 0.6889\n",
      "Epoch 155/4000\n"
     ]
    },
    {
     "name": "stderr",
     "output_type": "stream",
     "text": [
      "Training: 100%|██████████| 60/60 [01:41<00:00,  1.69s/it, loss=0.46] \n",
      "Validation: 100%|██████████| 5/5 [00:03<00:00,  1.48it/s, loss=0.462]\n"
     ]
    },
    {
     "name": "stdout",
     "output_type": "stream",
     "text": [
      "Validation Dice Score\n",
      "Class 0: 0.9877, Class 1: 0.6029, Class 2: 0.0875, Class 3: 0.4641, Class 4: 0.7038, Class 5: 0.4421, Class 6: 0.8490, \n",
      "Validation F-beta Score\n",
      "Class 0: 0.9837, Class 1: 0.6852, Class 2: 0.0841, Class 3: 0.6414, Class 4: 0.7523, Class 5: 0.5468, Class 6: 0.9175, \n",
      "\n",
      "Overall Mean Dice Score: 0.6124\n",
      "Overall Mean F-beta Score: 0.7086\n",
      "\n",
      "Training Loss: 0.4529, Validation Loss: 0.4519, Validation F-beta: 0.7086\n",
      "Epoch 156/4000\n"
     ]
    },
    {
     "name": "stderr",
     "output_type": "stream",
     "text": [
      "Training: 100%|██████████| 60/60 [01:35<00:00,  1.59s/it, loss=0.455]\n",
      "Validation: 100%|██████████| 5/5 [00:03<00:00,  1.51it/s, loss=0.451]\n"
     ]
    },
    {
     "name": "stdout",
     "output_type": "stream",
     "text": [
      "Validation Dice Score\n",
      "Class 0: 0.9881, Class 1: 0.6146, Class 2: 0.0925, Class 3: 0.4529, Class 4: 0.7200, Class 5: 0.4344, Class 6: 0.8438, \n",
      "Validation F-beta Score\n",
      "Class 0: 0.9839, Class 1: 0.7271, Class 2: 0.0911, Class 3: 0.6287, Class 4: 0.7604, Class 5: 0.5601, Class 6: 0.9188, \n",
      "\n",
      "Overall Mean Dice Score: 0.6131\n",
      "Overall Mean F-beta Score: 0.7190\n",
      "\n",
      "Training Loss: 0.4536, Validation Loss: 0.4527, Validation F-beta: 0.7190\n",
      "Epoch 157/4000\n"
     ]
    },
    {
     "name": "stderr",
     "output_type": "stream",
     "text": [
      "Training: 100%|██████████| 60/60 [01:37<00:00,  1.63s/it, loss=0.453]\n",
      "Validation: 100%|██████████| 5/5 [00:03<00:00,  1.52it/s, loss=0.45] \n"
     ]
    },
    {
     "name": "stdout",
     "output_type": "stream",
     "text": [
      "Validation Dice Score\n",
      "Class 0: 0.9884, Class 1: 0.5997, Class 2: 0.1192, Class 3: 0.4528, Class 4: 0.6966, Class 5: 0.4285, Class 6: 0.8513, \n",
      "Validation F-beta Score\n",
      "Class 0: 0.9841, Class 1: 0.6938, Class 2: 0.1129, Class 3: 0.5740, Class 4: 0.7541, Class 5: 0.5783, Class 6: 0.9101, \n",
      "\n",
      "Overall Mean Dice Score: 0.6058\n",
      "Overall Mean F-beta Score: 0.7021\n",
      "\n",
      "Training Loss: 0.4545, Validation Loss: 0.4528, Validation F-beta: 0.7021\n",
      "Epoch 158/4000\n"
     ]
    },
    {
     "name": "stderr",
     "output_type": "stream",
     "text": [
      "Training: 100%|██████████| 60/60 [01:39<00:00,  1.66s/it, loss=0.463]\n",
      "Validation: 100%|██████████| 5/5 [00:03<00:00,  1.53it/s, loss=0.455]\n"
     ]
    },
    {
     "name": "stdout",
     "output_type": "stream",
     "text": [
      "Validation Dice Score\n",
      "Class 0: 0.9876, Class 1: 0.5774, Class 2: 0.0840, Class 3: 0.4506, Class 4: 0.7015, Class 5: 0.4661, Class 6: 0.8464, \n",
      "Validation F-beta Score\n",
      "Class 0: 0.9830, Class 1: 0.6755, Class 2: 0.0827, Class 3: 0.6475, Class 4: 0.7690, Class 5: 0.5824, Class 6: 0.9100, \n",
      "\n",
      "Overall Mean Dice Score: 0.6084\n",
      "Overall Mean F-beta Score: 0.7169\n",
      "\n",
      "Training Loss: 0.4545, Validation Loss: 0.4534, Validation F-beta: 0.7169\n",
      "Epoch 159/4000\n"
     ]
    },
    {
     "name": "stderr",
     "output_type": "stream",
     "text": [
      "Training: 100%|██████████| 60/60 [01:41<00:00,  1.70s/it, loss=0.453]\n",
      "Validation: 100%|██████████| 5/5 [00:03<00:00,  1.53it/s, loss=0.453]\n"
     ]
    },
    {
     "name": "stdout",
     "output_type": "stream",
     "text": [
      "Validation Dice Score\n",
      "Class 0: 0.9880, Class 1: 0.5912, Class 2: 0.0690, Class 3: 0.3960, Class 4: 0.7030, Class 5: 0.4835, Class 6: 0.8517, \n",
      "Validation F-beta Score\n",
      "Class 0: 0.9844, Class 1: 0.6822, Class 2: 0.0599, Class 3: 0.5482, Class 4: 0.7481, Class 5: 0.5888, Class 6: 0.9260, \n",
      "\n",
      "Overall Mean Dice Score: 0.6051\n",
      "Overall Mean F-beta Score: 0.6986\n",
      "\n",
      "Training Loss: 0.4539, Validation Loss: 0.4521, Validation F-beta: 0.6986\n",
      "Epoch 160/4000\n"
     ]
    },
    {
     "name": "stderr",
     "output_type": "stream",
     "text": [
      "Training: 100%|██████████| 60/60 [01:36<00:00,  1.62s/it, loss=0.467]\n",
      "Validation: 100%|██████████| 5/5 [00:03<00:00,  1.54it/s, loss=0.448]\n"
     ]
    },
    {
     "name": "stdout",
     "output_type": "stream",
     "text": [
      "Validation Dice Score\n",
      "Class 0: 0.9880, Class 1: 0.5802, Class 2: 0.0794, Class 3: 0.4067, Class 4: 0.7038, Class 5: 0.4563, Class 6: 0.8602, \n",
      "Validation F-beta Score\n",
      "Class 0: 0.9840, Class 1: 0.6419, Class 2: 0.0681, Class 3: 0.5469, Class 4: 0.7526, Class 5: 0.5758, Class 6: 0.9192, \n",
      "\n",
      "Overall Mean Dice Score: 0.6015\n",
      "Overall Mean F-beta Score: 0.6873\n",
      "\n",
      "Training Loss: 0.4528, Validation Loss: 0.4524, Validation F-beta: 0.6873\n",
      "Epoch 161/4000\n"
     ]
    },
    {
     "name": "stderr",
     "output_type": "stream",
     "text": [
      "Training: 100%|██████████| 60/60 [01:38<00:00,  1.65s/it, loss=0.457]\n",
      "Validation: 100%|██████████| 5/5 [00:03<00:00,  1.56it/s, loss=0.453]\n"
     ]
    },
    {
     "name": "stdout",
     "output_type": "stream",
     "text": [
      "Validation Dice Score\n",
      "Class 0: 0.9879, Class 1: 0.5872, Class 2: 0.1095, Class 3: 0.4413, Class 4: 0.6966, Class 5: 0.4630, Class 6: 0.8689, \n",
      "Validation F-beta Score\n",
      "Class 0: 0.9838, Class 1: 0.6831, Class 2: 0.1077, Class 3: 0.5711, Class 4: 0.7504, Class 5: 0.5846, Class 6: 0.9212, \n",
      "\n",
      "Overall Mean Dice Score: 0.6114\n",
      "Overall Mean F-beta Score: 0.7021\n",
      "\n",
      "Training Loss: 0.4521, Validation Loss: 0.4534, Validation F-beta: 0.7021\n",
      "Epoch 162/4000\n"
     ]
    },
    {
     "name": "stderr",
     "output_type": "stream",
     "text": [
      "Training: 100%|██████████| 60/60 [01:42<00:00,  1.71s/it, loss=0.455]\n",
      "Validation: 100%|██████████| 5/5 [00:03<00:00,  1.51it/s, loss=0.454]\n"
     ]
    },
    {
     "name": "stdout",
     "output_type": "stream",
     "text": [
      "Validation Dice Score\n",
      "Class 0: 0.9885, Class 1: 0.6266, Class 2: 0.1644, Class 3: 0.4240, Class 4: 0.6934, Class 5: 0.4550, Class 6: 0.8569, \n",
      "Validation F-beta Score\n",
      "Class 0: 0.9842, Class 1: 0.7064, Class 2: 0.1579, Class 3: 0.5913, Class 4: 0.7505, Class 5: 0.5825, Class 6: 0.9279, \n",
      "\n",
      "Overall Mean Dice Score: 0.6112\n",
      "Overall Mean F-beta Score: 0.7117\n",
      "\n",
      "Training Loss: 0.4538, Validation Loss: 0.4511, Validation F-beta: 0.7117\n",
      "Epoch 163/4000\n"
     ]
    },
    {
     "name": "stderr",
     "output_type": "stream",
     "text": [
      "Training: 100%|██████████| 60/60 [01:37<00:00,  1.62s/it, loss=0.461]\n",
      "Validation: 100%|██████████| 5/5 [00:03<00:00,  1.47it/s, loss=0.453]\n"
     ]
    },
    {
     "name": "stdout",
     "output_type": "stream",
     "text": [
      "Validation Dice Score\n",
      "Class 0: 0.9889, Class 1: 0.5764, Class 2: 0.0642, Class 3: 0.4245, Class 4: 0.6829, Class 5: 0.4669, Class 6: 0.8489, \n",
      "Validation F-beta Score\n",
      "Class 0: 0.9850, Class 1: 0.6421, Class 2: 0.0711, Class 3: 0.5648, Class 4: 0.7415, Class 5: 0.5801, Class 6: 0.9176, \n",
      "\n",
      "Overall Mean Dice Score: 0.5999\n",
      "Overall Mean F-beta Score: 0.6892\n",
      "\n",
      "Training Loss: 0.4533, Validation Loss: 0.4559, Validation F-beta: 0.6892\n",
      "Epoch 164/4000\n"
     ]
    },
    {
     "name": "stderr",
     "output_type": "stream",
     "text": [
      "Training: 100%|██████████| 60/60 [02:05<00:00,  2.09s/it, loss=0.47] \n",
      "Validation: 100%|██████████| 5/5 [00:03<00:00,  1.55it/s, loss=0.451]\n"
     ]
    },
    {
     "name": "stdout",
     "output_type": "stream",
     "text": [
      "Validation Dice Score\n",
      "Class 0: 0.9866, Class 1: 0.5770, Class 2: 0.0864, Class 3: 0.4214, Class 4: 0.7063, Class 5: 0.4724, Class 6: 0.8325, \n",
      "Validation F-beta Score\n",
      "Class 0: 0.9823, Class 1: 0.6863, Class 2: 0.0949, Class 3: 0.5986, Class 4: 0.7599, Class 5: 0.5720, Class 6: 0.9036, \n",
      "\n",
      "Overall Mean Dice Score: 0.6019\n",
      "Overall Mean F-beta Score: 0.7041\n",
      "\n",
      "Training Loss: 0.4528, Validation Loss: 0.4586, Validation F-beta: 0.7041\n",
      "Epoch 165/4000\n"
     ]
    },
    {
     "name": "stderr",
     "output_type": "stream",
     "text": [
      "Training: 100%|██████████| 60/60 [01:41<00:00,  1.70s/it, loss=0.461]\n",
      "Validation: 100%|██████████| 5/5 [00:03<00:00,  1.50it/s, loss=0.456]\n"
     ]
    },
    {
     "name": "stdout",
     "output_type": "stream",
     "text": [
      "Validation Dice Score\n",
      "Class 0: 0.9882, Class 1: 0.5757, Class 2: 0.0870, Class 3: 0.4003, Class 4: 0.7015, Class 5: 0.4552, Class 6: 0.8584, \n",
      "Validation F-beta Score\n",
      "Class 0: 0.9840, Class 1: 0.6419, Class 2: 0.0947, Class 3: 0.5656, Class 4: 0.7560, Class 5: 0.5750, Class 6: 0.9110, \n",
      "\n",
      "Overall Mean Dice Score: 0.5982\n",
      "Overall Mean F-beta Score: 0.6899\n",
      "\n",
      "Training Loss: 0.4535, Validation Loss: 0.4552, Validation F-beta: 0.6899\n",
      "Epoch 166/4000\n"
     ]
    },
    {
     "name": "stderr",
     "output_type": "stream",
     "text": [
      "Training: 100%|██████████| 60/60 [01:36<00:00,  1.61s/it, loss=0.463]\n",
      "Validation: 100%|██████████| 5/5 [00:03<00:00,  1.55it/s, loss=0.459]\n"
     ]
    },
    {
     "name": "stdout",
     "output_type": "stream",
     "text": [
      "Validation Dice Score\n",
      "Class 0: 0.9876, Class 1: 0.5853, Class 2: 0.0572, Class 3: 0.3907, Class 4: 0.7114, Class 5: 0.4246, Class 6: 0.8498, \n",
      "Validation F-beta Score\n",
      "Class 0: 0.9829, Class 1: 0.6395, Class 2: 0.0552, Class 3: 0.5450, Class 4: 0.7782, Class 5: 0.5573, Class 6: 0.9158, \n",
      "\n",
      "Overall Mean Dice Score: 0.5924\n",
      "Overall Mean F-beta Score: 0.6871\n",
      "\n",
      "Training Loss: 0.4533, Validation Loss: 0.4558, Validation F-beta: 0.6871\n",
      "Epoch 167/4000\n"
     ]
    },
    {
     "name": "stderr",
     "output_type": "stream",
     "text": [
      "Training: 100%|██████████| 60/60 [01:38<00:00,  1.65s/it, loss=0.461]\n",
      "Validation: 100%|██████████| 5/5 [00:03<00:00,  1.50it/s, loss=0.451]\n"
     ]
    },
    {
     "name": "stdout",
     "output_type": "stream",
     "text": [
      "Validation Dice Score\n",
      "Class 0: 0.9875, Class 1: 0.6056, Class 2: 0.0806, Class 3: 0.4477, Class 4: 0.6919, Class 5: 0.4630, Class 6: 0.8506, \n",
      "Validation F-beta Score\n",
      "Class 0: 0.9836, Class 1: 0.6857, Class 2: 0.0762, Class 3: 0.5954, Class 4: 0.7255, Class 5: 0.5785, Class 6: 0.9208, \n",
      "\n",
      "Overall Mean Dice Score: 0.6117\n",
      "Overall Mean F-beta Score: 0.7012\n",
      "\n",
      "Training Loss: 0.4526, Validation Loss: 0.4510, Validation F-beta: 0.7012\n",
      "Epoch 168/4000\n"
     ]
    },
    {
     "name": "stderr",
     "output_type": "stream",
     "text": [
      "Training: 100%|██████████| 60/60 [01:53<00:00,  1.89s/it, loss=0.463]\n",
      "Validation: 100%|██████████| 5/5 [00:03<00:00,  1.50it/s, loss=0.453]"
     ]
    },
    {
     "name": "stdout",
     "output_type": "stream",
     "text": [
      "Validation Dice Score\n",
      "Class 0: 0.9878, Class 1: 0.5873, Class 2: 0.0881, Class 3: 0.4296, Class 4: 0.6899, Class 5: 0.4305, Class 6: 0.8779, \n",
      "Validation F-beta Score\n",
      "Class 0: 0.9838, Class 1: 0.6788, Class 2: 0.0809, Class 3: 0.5888, Class 4: 0.7437, Class 5: 0.5442, Class 6: 0.9247, \n",
      "\n",
      "Overall Mean Dice Score: 0.6031\n",
      "Overall Mean F-beta Score: 0.6961\n",
      "\n",
      "Training Loss: 0.4534, Validation Loss: 0.4557, Validation F-beta: 0.6961\n",
      "Early stopping\n"
     ]
    },
    {
     "name": "stderr",
     "output_type": "stream",
     "text": [
      "\n"
     ]
    },
    {
     "data": {
      "text/html": [],
      "text/plain": [
       "<IPython.core.display.HTML object>"
      ]
     },
     "metadata": {},
     "output_type": "display_data"
    },
    {
     "data": {
      "text/html": [
       "<br>    <style><br>        .wandb-row {<br>            display: flex;<br>            flex-direction: row;<br>            flex-wrap: wrap;<br>            justify-content: flex-start;<br>            width: 100%;<br>        }<br>        .wandb-col {<br>            display: flex;<br>            flex-direction: column;<br>            flex-basis: 100%;<br>            flex: 1;<br>            padding: 10px;<br>        }<br>    </style><br><div class=\"wandb-row\"><div class=\"wandb-col\"><h3>Run history:</h3><br/><table class=\"wandb\"><tr><td>class_0_dice_score</td><td>▁▄▄▆▆▆▆▆▇▇▇▇▇▇█▇▇▆▇▆▇▇▆▆▇▆▇▆▆▇▇▆▆▇▆▆▇▇▆▆</td></tr><tr><td>class_0_f_beta_score</td><td>▁███████████████████████████████████████</td></tr><tr><td>class_1_dice_score</td><td>▁▁▁▁▁▁▁▁▁▁▁▁▁▁▁▁▂▂▃▃▆▇▇▇▇▇▇▇▇▇██▇███▇█▇█</td></tr><tr><td>class_1_f_beta_score</td><td>▁▂▁▁▁▁▁▁▁▁▁▁▁▁▁▂▃▄▅▆▆▆▆▇▇█▇█████████▇███</td></tr><tr><td>class_2_dice_score</td><td>▁▁▁▁▁▁▁▁▁▁▁▁▁▁▁▁▁▁▁▁▁▁▂▃▂▃▂▆▄▆▇▅▃▆▅▆▇▇█▇</td></tr><tr><td>class_2_f_beta_score</td><td>▁▁▁▁▁▁▁▁▁▁▁▁▁▁▁▁▁▂▂▂▂▃▃▄▃▅▄▅▅▆▅▄▅▅▅▄█▅▃▅</td></tr><tr><td>class_3_dice_score</td><td>▁▁▁▁▁▂▂▃▄▅▆▆▇▆▇█▇▇█▇▇▇▇▇█▇▇▇▇▇▇███████▇▇</td></tr><tr><td>class_3_f_beta_score</td><td>▁▁▁▁▁▁▂▃▅▆▆▇▆▇█▇▇██▇██▇█▇█████▇▇▇█▇▇███▇</td></tr><tr><td>class_4_dice_score</td><td>▁▃▃▃▄▅▆▆▆▇▇▇▇▇▇▇▇▇█▇▇███████████████▇██▇</td></tr><tr><td>class_4_f_beta_score</td><td>▁▁▁▄▅▄▄▅▆▆▇▇▇▅▅▇▇▆████▇█▇██▇████████████</td></tr><tr><td>class_5_dice_score</td><td>▁▁▁▁▁▁▁▄▄▄▅▇▇▆▆▇▇▆▇▇▇▇▇▇▇█▇▇█▇█▇▇▇█▇▇███</td></tr><tr><td>class_5_f_beta_score</td><td>▂▂▁▁▁▃▄▅▆▆▆▅▆▅▇▇██▆▇▆██▇▇██▇▇███▇▇▇████▇</td></tr><tr><td>class_6_dice_score</td><td>▁▁▁▂▂▃▃▃▄▄▇▇▇▇██▇███▇███████████████████</td></tr><tr><td>class_6_f_beta_score</td><td>▁▁▁▁▃▄▅▆▇▇▇▇█▇▇█████████████████████████</td></tr><tr><td>epoch</td><td>▁▁▁▁▂▂▂▂▂▂▂▂▂▂▂▃▃▃▃▃▄▄▄▄▄▅▅▅▅▅▅▆▆▆▆▆▇▇██</td></tr><tr><td>overall_mean_dice_score</td><td>▁▁▁▁▁▂▃▄▅▅▆▅▆▆▆▆▆▇▇▇▇▇▇▇████████████████</td></tr><tr><td>overall_mean_f_beta_score</td><td>▁▁▁▁▁▁▂▂▃▄▅▅▆▆▅▆▆▇▇▇▇█▇█▇███████████████</td></tr><tr><td>train_epoch_loss</td><td>█▅▄▄▃▃▃▃▂▂▂▂▂▂▂▂▂▂▂▂▁▁▁▁▁▁▁▁▁▁▁▁▁▁▁▁▁▁▁▁</td></tr><tr><td>val_epoch_loss</td><td>█▆▃▃▃▂▂▂▂▂▁▁▁▁▁▁▁▁▁▁▁▁▁▁▁▁▁▁▁▁▁▁▁▁▁▁▁▁▁▁</td></tr></table><br/></div><div class=\"wandb-col\"><h3>Run summary:</h3><br/><table class=\"wandb\"><tr><td>class_0_dice_score</td><td>0.98779</td></tr><tr><td>class_0_f_beta_score</td><td>0.98379</td></tr><tr><td>class_1_dice_score</td><td>0.58734</td></tr><tr><td>class_1_f_beta_score</td><td>0.67881</td></tr><tr><td>class_2_dice_score</td><td>0.08812</td></tr><tr><td>class_2_f_beta_score</td><td>0.08088</td></tr><tr><td>class_3_dice_score</td><td>0.42964</td></tr><tr><td>class_3_f_beta_score</td><td>0.58884</td></tr><tr><td>class_4_dice_score</td><td>0.68995</td></tr><tr><td>class_4_f_beta_score</td><td>0.74366</td></tr><tr><td>class_5_dice_score</td><td>0.43049</td></tr><tr><td>class_5_f_beta_score</td><td>0.54425</td></tr><tr><td>class_6_dice_score</td><td>0.87793</td></tr><tr><td>class_6_f_beta_score</td><td>0.92474</td></tr><tr><td>epoch</td><td>168</td></tr><tr><td>overall_mean_dice_score</td><td>0.60307</td></tr><tr><td>overall_mean_f_beta_score</td><td>0.69606</td></tr><tr><td>train_epoch_loss</td><td>0.45339</td></tr><tr><td>val_epoch_loss</td><td>0.45569</td></tr></table><br/></div></div>"
      ],
      "text/plain": [
       "<IPython.core.display.HTML object>"
      ]
     },
     "metadata": {},
     "output_type": "display_data"
    },
    {
     "data": {
      "text/html": [
       " View run <strong style=\"color:#cdcd00\">UNet_actnorm_finetune_gus_a1_96x96x96_e4000_lr0.0001_lamda0.5_ce0.4_no_weighted</strong> at: <a href='https://wandb.ai/waooang/czii_SwinUnetR/runs/d622p5wl' target=\"_blank\">https://wandb.ai/waooang/czii_SwinUnetR/runs/d622p5wl</a><br> View project at: <a href='https://wandb.ai/waooang/czii_SwinUnetR' target=\"_blank\">https://wandb.ai/waooang/czii_SwinUnetR</a><br>Synced 5 W&B file(s), 0 media file(s), 0 artifact file(s) and 0 other file(s)"
      ],
      "text/plain": [
       "<IPython.core.display.HTML object>"
      ]
     },
     "metadata": {},
     "output_type": "display_data"
    },
    {
     "data": {
      "text/html": [
       "Find logs at: <code>.\\wandb\\run-20250120_034121-d622p5wl\\logs</code>"
      ],
      "text/plain": [
       "<IPython.core.display.HTML object>"
      ]
     },
     "metadata": {},
     "output_type": "display_data"
    }
   ],
   "source": [
    "from src.dataset.dataset import create_dataloaders\n",
    "from src.dataset.dataset_csv import create_dataloaders_from_csv\n",
    "from monai.transforms import (\n",
    "    Compose, LoadImaged, EnsureChannelFirstd, NormalizeIntensityd,\n",
    "    Orientationd, CropForegroundd, GaussianSmoothd, ScaleIntensityd,\n",
    "    RandSpatialCropd, RandRotate90d, RandFlipd, RandGaussianNoised,\n",
    "    ToTensord, RandCropByLabelClassesd, RandAdjustContrastd,RandKSpaceSpikeNoised,\n",
    "    RandGaussianSmoothd, RandHistogramShiftd\n",
    ")\n",
    "from monai.transforms import CastToTyped\n",
    "import numpy as np\n",
    "\n",
    "device = torch.device(\"cuda\" if torch.cuda.is_available() else \"cpu\")\n",
    "\n",
    "train_csv = './datasets/train2.csv'\n",
    "val_csv = './datasets/val.csv'\n",
    "# DATA CONFIG\n",
    "img_size =  96 # Match your patch size\n",
    "img_depth = 32\n",
    "n_classes = 7\n",
    "batch_size = 64 # 13.8GB GPU memory required for 128x128 img size\n",
    "num_samples = batch_size # 한 이미지에서 뽑을 샘플 수\n",
    "loader_batch = 1\n",
    "num_repeat = 5\n",
    "val_num_repeat = 5\n",
    "# MODEL CONFIG\n",
    "num_epochs = 4000\n",
    "lamda = 0.52\n",
    "ce_weight = 0.4\n",
    "lr = 0.0001\n",
    "\n",
    "use_checkpoint = False\n",
    "dropout = 0.25\n",
    "feature_size = [32, 64, 128, 256]\n",
    "\n",
    "#conv_op = nn.Conv3d\n",
    "\n",
    "# CLASS_WEIGHTS\n",
    "class_weights = None\n",
    "class_weights = torch.tensor([1, 1, 1, 1, 1, 1, 1], dtype=torch.float32)  # 클래스별 가중치\n",
    "accumulation_steps = 1\n",
    "# INIT\n",
    "start_epoch = 0\n",
    "best_val_loss = float('inf')\n",
    "best_val_fbeta_score = 0\n",
    "\n",
    "train_non_random_transforms = Compose([\n",
    "    EnsureChannelFirstd(keys=[\"image\", \"label\"], channel_dim=\"no_channel\"),\n",
    "    Orientationd(keys=[\"image\", \"label\"], axcodes=\"RAS\"),\n",
    "    NormalizeIntensityd(keys=\"image\"),\n",
    "    ])\n",
    "\n",
    "val_non_random_transforms = Compose([\n",
    "    EnsureChannelFirstd(keys=[\"image\", \"label\"], channel_dim=\"no_channel\"),\n",
    "    Orientationd(keys=[\"image\", \"label\"], axcodes=\"RAS\"),\n",
    "    NormalizeIntensityd(keys=\"image\"),\n",
    "    ])\n",
    "\n",
    "train_random_transforms = Compose([\n",
    "    RandCropByLabelClassesd(\n",
    "        keys=[\"image\", \"label\"],\n",
    "        label_key=\"label\",\n",
    "        spatial_size=[img_depth, img_size, img_size],\n",
    "        num_classes=n_classes,\n",
    "        num_samples=num_samples, \n",
    "        ratios=ratios_list,\n",
    "    ),\n",
    "    RandAdjustContrastd(keys=\"image\", prob=0.5, gamma=(0.5, 4.5)),\n",
    "    \n",
    "    RandRotate90d(keys=[\"image\", \"label\"], prob=0.5, spatial_axes=[1, 2]),\n",
    "    RandFlipd(keys=[\"image\", \"label\"], prob=0.5, spatial_axis=0),\n",
    "    RandFlipd(keys=[\"image\", \"label\"], prob=0.5, spatial_axis=1),\n",
    "    RandFlipd(keys=[\"image\", \"label\"], prob=0.5, spatial_axis=2),\n",
    "])\n",
    "\n",
    "val_random_transforms = Compose([\n",
    "    RandCropByLabelClassesd(\n",
    "        keys=[\"image\", \"label\"],\n",
    "        label_key=\"label\",\n",
    "        spatial_size=[img_depth, img_size, img_size],\n",
    "        num_classes=n_classes,\n",
    "        num_samples=num_samples, \n",
    "        ratios=ratios_list,\n",
    "    ),\n",
    "    RandRotate90d(keys=[\"image\", \"label\"], prob=0.5, spatial_axes=[1, 2]),\n",
    "    RandFlipd(keys=[\"image\", \"label\"], prob=0.5, spatial_axis=0),\n",
    "    RandFlipd(keys=[\"image\", \"label\"], prob=0.5, spatial_axis=1),\n",
    "    RandFlipd(keys=[\"image\", \"label\"], prob=0.5, spatial_axis=2),\n",
    "])\n",
    "\n",
    "train_loader, val_loader = None, None\n",
    "train_loader, val_loader = create_dataloaders_from_csv(\n",
    "    train_csv,\n",
    "    val_csv, \n",
    "    train_non_random_transforms = train_non_random_transforms, \n",
    "    val_non_random_transforms=val_non_random_transforms,\n",
    "    train_random_transforms=train_random_transforms,\n",
    "    val_random_transforms=val_random_transforms,\n",
    "    batch_size = loader_batch,\n",
    "    num_workers=0,train_num_repeat=num_repeat, val_num_repeat=val_num_repeat\n",
    "    )\n",
    "\n",
    "model = UNet(\n",
    "    spatial_dims=3,\n",
    "    in_channels=1,\n",
    "    out_channels=n_classes,\n",
    "    channels=feature_size,\n",
    "    strides=(2,2,2),\n",
    "    dropout=dropout,\n",
    ").to(device)\n",
    "criterion = CombinedCETverskyLoss(\n",
    "    lamda=lamda,\n",
    "    ce_weight=ce_weight,\n",
    "    n_classes=n_classes,\n",
    "    class_weights=class_weights,\n",
    "    \n",
    ").to(device)\n",
    "pretrain_str = \"yes\" if use_checkpoint else \"no\"\n",
    "weight_str = \"weighted\" if class_weights is not None else \"\"\n",
    "\n",
    "# Pretrained weights 불러오기\n",
    "if use_checkpoint:\n",
    "    pretrain_path = \"./model_checkpoints/UNet_actnorm_10441_a1_96x96x96_e4000_lr0.001_lamda0.5_ce0.4_no_weighted/best_model.pt\"\n",
    "    weight = torch.load(pretrain_path, map_location=device)\n",
    "    # strict=False로 로드하여 불일치하는 부분 무시\n",
    "    model.load_state_dict(weight, strict=False)\n",
    "    print(\"Weights loaded successfully. Output layer will be trained from scratch.\")\n",
    "# 체크포인트 디렉토리 및 파일 설정\n",
    "checkpoint_base_dir = Path(\"./model_checkpoints\")\n",
    "folder_name = f\"UNet_actnorm_finetune_de_wdp_a{accumulation_steps}_{img_size}x{img_size}x{img_size}_e{num_epochs}_lr{lr}_lamda{lamda}_ce{ce_weight}_{pretrain_str}_{weight_str}\"\n",
    "checkpoint_dir = checkpoint_base_dir / folder_name\n",
    "# 체크포인트 디렉토리 생성\n",
    "checkpoint_dir.mkdir(parents=True, exist_ok=True)\n",
    "\n",
    "optimizer = optim.AdamW(model.parameters(), lr=lr, weight_decay=1e-5)\n",
    "scheduler = torch.optim.lr_scheduler.ReduceLROnPlateau(optimizer, patience=5, factor=0.5)\n",
    "import wandb\n",
    "from datetime import datetime\n",
    "\n",
    "current_time = datetime.now().strftime('%Y%m%d_%H%M%S')\n",
    "run_name = folder_name\n",
    "\n",
    "# wandb 초기화\n",
    "wandb.init(\n",
    "    project='czii_SwinUnetR',  # 프로젝트 이름 설정\n",
    "    name=run_name,         # 실행(run) 이름 설정\n",
    "    config={\n",
    "        'num_epochs': num_epochs,\n",
    "        'learning_rate': lr,\n",
    "        'batch_size': batch_size,\n",
    "        'lambda': lamda,\n",
    "        \"cross_entropy_weight\": ce_weight,\n",
    "        'feature_size': feature_size,\n",
    "        'img_size': img_size,\n",
    "        'sampling_ratio': ratios_list,\n",
    "        'device': device.type,\n",
    "        \"checkpoint_dir\": str(checkpoint_dir),\n",
    "        \"class_weights\": class_weights.tolist() if class_weights is not None else None,\n",
    "        \"use_checkpoint\": use_checkpoint,\n",
    "        \"dropout\": dropout,        \n",
    "        \"accumulation_steps\": accumulation_steps,\n",
    "        \"num_repeat\": num_repeat,\n",
    "        \n",
    "        # 필요한 하이퍼파라미터 추가\n",
    "    }\n",
    ")\n",
    "# 모델을 wandb에 연결\n",
    "wandb.watch(model, log='all')\n",
    "train_model(\n",
    "    model=model,\n",
    "    train_loader=train_loader,\n",
    "    val_loader=val_loader,\n",
    "    criterion=criterion,\n",
    "    optimizer=optimizer,\n",
    "    num_epochs=num_epochs,\n",
    "    patience=10,\n",
    "    device=device,\n",
    "    start_epoch=start_epoch,\n",
    "    best_val_loss=best_val_loss,\n",
    "    best_val_fbeta_score=best_val_fbeta_score,\n",
    "    calculate_dice_interval=1,\n",
    "    accumulation_steps = accumulation_steps\n",
    "    )"
   ]
  },
  {
   "cell_type": "code",
   "execution_count": 12,
   "metadata": {},
   "outputs": [
    {
     "ename": "SyntaxError",
     "evalue": "invalid syntax (879943805.py, line 1)",
     "output_type": "error",
     "traceback": [
      "\u001b[1;36m  Cell \u001b[1;32mIn[12], line 1\u001b[1;36m\u001b[0m\n\u001b[1;33m    if:\u001b[0m\n\u001b[1;37m      ^\u001b[0m\n\u001b[1;31mSyntaxError\u001b[0m\u001b[1;31m:\u001b[0m invalid syntax\n"
     ]
    }
   ],
   "source": [
    "if:"
   ]
  },
  {
   "cell_type": "markdown",
   "metadata": {},
   "source": [
    "# VAl"
   ]
  },
  {
   "cell_type": "code",
   "execution_count": null,
   "metadata": {},
   "outputs": [
    {
     "data": {
      "text/html": [
       "Finishing last run (ID:fs6utwyo) before initializing another..."
      ],
      "text/plain": [
       "<IPython.core.display.HTML object>"
      ]
     },
     "metadata": {},
     "output_type": "display_data"
    },
    {
     "data": {
      "application/vnd.jupyter.widget-view+json": {
       "model_id": "29cc3ae761af43baae5aca60b5d2e7f4",
       "version_major": 2,
       "version_minor": 0
      },
      "text/plain": [
       "VBox(children=(Label(value='0.009 MB of 0.009 MB uploaded\\r'), FloatProgress(value=1.0, max=1.0)))"
      ]
     },
     "metadata": {},
     "output_type": "display_data"
    },
    {
     "data": {
      "text/html": [
       "<style>\n",
       "    table.wandb td:nth-child(1) { padding: 0 10px; text-align: left ; width: auto;} td:nth-child(2) {text-align: left ; width: 100%}\n",
       "    .wandb-row { display: flex; flex-direction: row; flex-wrap: wrap; justify-content: flex-start; width: 100% }\n",
       "    .wandb-col { display: flex; flex-direction: column; flex-basis: 100%; flex: 1; padding: 10px; }\n",
       "    </style>\n",
       "<div class=\"wandb-row\"><div class=\"wandb-col\"><h3>Run history:</h3><br/><table class=\"wandb\"><tr><td>class_0_dice_score</td><td>▁</td></tr><tr><td>class_0_f_beta_score</td><td>▁</td></tr><tr><td>class_1_dice_score</td><td>▁</td></tr><tr><td>class_1_f_beta_score</td><td>▁</td></tr><tr><td>class_2_dice_score</td><td>▁</td></tr><tr><td>class_2_f_beta_score</td><td>▁</td></tr><tr><td>class_3_dice_score</td><td>▁</td></tr><tr><td>class_3_f_beta_score</td><td>▁</td></tr><tr><td>class_4_dice_score</td><td>▁</td></tr><tr><td>class_4_f_beta_score</td><td>▁</td></tr><tr><td>class_5_dice_score</td><td>▁</td></tr><tr><td>class_5_f_beta_score</td><td>▁</td></tr><tr><td>class_6_dice_score</td><td>▁</td></tr><tr><td>class_6_f_beta_score</td><td>▁</td></tr><tr><td>epoch</td><td>▁▁▁▁▁▁▁▁▁▁▁▁▁▁▁▁</td></tr><tr><td>overall_mean_dice_score</td><td>▁</td></tr><tr><td>overall_mean_f_beta_score</td><td>▁</td></tr><tr><td>val_epoch_loss</td><td>▁</td></tr></table><br/></div><div class=\"wandb-col\"><h3>Run summary:</h3><br/><table class=\"wandb\"><tr><td>class_0_dice_score</td><td>0.65703</td></tr><tr><td>class_0_f_beta_score</td><td>0.50748</td></tr><tr><td>class_1_dice_score</td><td>0.53332</td></tr><tr><td>class_1_f_beta_score</td><td>0.64703</td></tr><tr><td>class_2_dice_score</td><td>0.00286</td></tr><tr><td>class_2_f_beta_score</td><td>0.02334</td></tr><tr><td>class_3_dice_score</td><td>0.23703</td></tr><tr><td>class_3_f_beta_score</td><td>0.23033</td></tr><tr><td>class_4_dice_score</td><td>0.65487</td></tr><tr><td>class_4_f_beta_score</td><td>0.62525</td></tr><tr><td>class_5_dice_score</td><td>0.47899</td></tr><tr><td>class_5_f_beta_score</td><td>0.51448</td></tr><tr><td>class_6_dice_score</td><td>0.42545</td></tr><tr><td>class_6_f_beta_score</td><td>0.47197</td></tr><tr><td>epoch</td><td>1</td></tr><tr><td>overall_mean_dice_score</td><td>0.42708</td></tr><tr><td>overall_mean_f_beta_score</td><td>0.43141</td></tr><tr><td>val_epoch_loss</td><td>0.7152</td></tr></table><br/></div></div>"
      ],
      "text/plain": [
       "<IPython.core.display.HTML object>"
      ]
     },
     "metadata": {},
     "output_type": "display_data"
    },
    {
     "data": {
      "text/html": [
       " View run <strong style=\"color:#cdcd00\">SwinUNETR96_96_lr0.001_lambda0.52_batch2</strong> at: <a href='https://wandb.ai/waooang/czii_SwinUnetR_val/runs/fs6utwyo' target=\"_blank\">https://wandb.ai/waooang/czii_SwinUnetR_val/runs/fs6utwyo</a><br/> View project at: <a href='https://wandb.ai/waooang/czii_SwinUnetR_val' target=\"_blank\">https://wandb.ai/waooang/czii_SwinUnetR_val</a><br/>Synced 4 W&B file(s), 0 media file(s), 3 artifact file(s) and 0 other file(s)"
      ],
      "text/plain": [
       "<IPython.core.display.HTML object>"
      ]
     },
     "metadata": {},
     "output_type": "display_data"
    },
    {
     "data": {
      "text/html": [
       "Find logs at: <code>.\\wandb\\run-20241219_200219-fs6utwyo\\logs</code>"
      ],
      "text/plain": [
       "<IPython.core.display.HTML object>"
      ]
     },
     "metadata": {},
     "output_type": "display_data"
    },
    {
     "data": {
      "text/html": [
       "Successfully finished last run (ID:fs6utwyo). Initializing new run:<br/>"
      ],
      "text/plain": [
       "<IPython.core.display.HTML object>"
      ]
     },
     "metadata": {},
     "output_type": "display_data"
    },
    {
     "data": {
      "text/html": [
       "Tracking run with wandb version 0.18.3"
      ],
      "text/plain": [
       "<IPython.core.display.HTML object>"
      ]
     },
     "metadata": {},
     "output_type": "display_data"
    },
    {
     "data": {
      "text/html": [
       "Run data is saved locally in <code>e:\\Workspace\\czll\\wandb\\run-20241219_200454-121l7bn3</code>"
      ],
      "text/plain": [
       "<IPython.core.display.HTML object>"
      ]
     },
     "metadata": {},
     "output_type": "display_data"
    },
    {
     "data": {
      "text/html": [
       "Syncing run <strong><a href='https://wandb.ai/waooang/czii_SwinUnetR_val/runs/121l7bn3' target=\"_blank\">SwinUNETR96_96_lr0.001_lambda0.52_batch2</a></strong> to <a href='https://wandb.ai/waooang/czii_SwinUnetR_val' target=\"_blank\">Weights & Biases</a> (<a href='https://wandb.me/run' target=\"_blank\">docs</a>)<br/>"
      ],
      "text/plain": [
       "<IPython.core.display.HTML object>"
      ]
     },
     "metadata": {},
     "output_type": "display_data"
    },
    {
     "data": {
      "text/html": [
       " View project at <a href='https://wandb.ai/waooang/czii_SwinUnetR_val' target=\"_blank\">https://wandb.ai/waooang/czii_SwinUnetR_val</a>"
      ],
      "text/plain": [
       "<IPython.core.display.HTML object>"
      ]
     },
     "metadata": {},
     "output_type": "display_data"
    },
    {
     "data": {
      "text/html": [
       " View run at <a href='https://wandb.ai/waooang/czii_SwinUnetR_val/runs/121l7bn3' target=\"_blank\">https://wandb.ai/waooang/czii_SwinUnetR_val/runs/121l7bn3</a>"
      ],
      "text/plain": [
       "<IPython.core.display.HTML object>"
      ]
     },
     "metadata": {},
     "output_type": "display_data"
    },
    {
     "name": "stderr",
     "output_type": "stream",
     "text": [
      "Loading dataset: 100%|██████████| 4/4 [00:06<00:00,  1.58s/it]\n",
      "C:\\Users\\Seungwoo\\AppData\\Local\\Temp\\ipykernel_21000\\1177025787.py:95: FutureWarning: You are using `torch.load` with `weights_only=False` (the current default value), which uses the default pickle module implicitly. It is possible to construct malicious pickle data which will execute arbitrary code during unpickling (See https://github.com/pytorch/pytorch/blob/main/SECURITY.md#untrusted-models for more details). In a future release, the default value for `weights_only` will be flipped to `True`. This limits the functions that could be executed during unpickling. Arbitrary objects will no longer be allowed to be loaded via this mode unless they are explicitly allowlisted by the user via `torch.serialization.add_safe_globals`. We recommend you start setting `weights_only=True` for any use case where you don't have full control of the loaded file. Please open an issue on GitHub for any issues related to this experimental feature.\n",
      "  checkpoint = torch.load(pretrain_path, map_location=device)\n",
      "Validation: 100%|██████████| 4/4 [00:01<00:00,  2.38it/s, loss=0.865]"
     ]
    },
    {
     "name": "stdout",
     "output_type": "stream",
     "text": [
      "Validation Dice Score\n",
      "Class 0: 0.6570, Class 1: 0.5333, Class 2: 0.0029, Class 3: 0.2370, \n",
      "Class 4: 0.6549, Class 5: 0.4790, Class 6: 0.4255, \n",
      "Validation F-beta Score\n",
      "Class 0: 0.5075, Class 1: 0.6470, Class 2: 0.0233, Class 3: 0.2303, \n",
      "Class 4: 0.6252, Class 5: 0.5145, Class 6: 0.4720, \n",
      "Overall Mean Dice Score: 0.4659\n",
      "Overall Mean F-beta Score: 0.4978\n",
      "\n"
     ]
    },
    {
     "name": "stderr",
     "output_type": "stream",
     "text": [
      "\n"
     ]
    }
   ],
   "source": [
    "from monai.data import DataLoader, Dataset, CacheDataset\n",
    "from monai.transforms import (\n",
    "    Compose, LoadImaged, EnsureChannelFirstd, NormalizeIntensityd,\n",
    "    Orientationd, CropForegroundd, GaussianSmoothd, ScaleIntensityd,\n",
    "    RandSpatialCropd, RandRotate90d, RandFlipd, RandGaussianNoised,\n",
    "    ToTensord, RandCropByLabelClassesd\n",
    ")\n",
    "from monai.metrics import DiceMetric\n",
    "from monai.networks.nets import UNETR, SwinUNETR\n",
    "from monai.losses import TverskyLoss\n",
    "import torch\n",
    "import numpy as np\n",
    "from tqdm import tqdm\n",
    "import wandb\n",
    "from src.dataset.dataset import make_val_dataloader\n",
    "\n",
    "val_img_dir = \"./datasets/val/images\"\n",
    "val_label_dir = \"./datasets/val/labels\"\n",
    "img_depth = 96\n",
    "img_size = 96  # Match your patch size\n",
    "n_classes = 7\n",
    "batch_size = 2 # 13.8GB GPU memory required for 128x128 img size\n",
    "num_samples = batch_size # 한 이미지에서 뽑을 샘플 수\n",
    "loader_batch = 1\n",
    "lamda = 0.52\n",
    "\n",
    "wandb.init(\n",
    "    project='czii_SwinUnetR_val',  # 프로젝트 이름 설정\n",
    "    name='SwinUNETR96_96_lr0.001_lambda0.52_batch2',         # 실행(run) 이름 설정\n",
    "    config={\n",
    "        'learning_rate': 0.001,\n",
    "        'batch_size': batch_size,\n",
    "        'lambda': lamda,\n",
    "        'img_size': img_size,\n",
    "        'device': 'cuda',\n",
    "        \"checkpoint_dir\": \"./model_checkpoints/SwinUNETR96_96_lr0.001_lambda0.52_batch2\",\n",
    "        \n",
    "    }\n",
    ")\n",
    "\n",
    "non_random_transforms = Compose([\n",
    "    EnsureChannelFirstd(keys=[\"image\", \"label\"], channel_dim=\"no_channel\"),\n",
    "    NormalizeIntensityd(keys=\"image\"),\n",
    "    Orientationd(keys=[\"image\", \"label\"], axcodes=\"RAS\"),\n",
    "    # GaussianSmoothd(\n",
    "    #     keys=[\"image\"],      # 변환을 적용할 키\n",
    "    #     sigma=[1.0, 1.0, 1.0]  # 각 축(x, y, z)의 시그마 값\n",
    "    #     ),\n",
    "])\n",
    "random_transforms = Compose([\n",
    "    RandCropByLabelClassesd(\n",
    "        keys=[\"image\", \"label\"],\n",
    "        label_key=\"label\",\n",
    "        spatial_size=[img_depth, img_size, img_size],\n",
    "        num_classes=n_classes,\n",
    "        num_samples=num_samples, \n",
    "        ratios=ratios_list,\n",
    "    ),\n",
    "    RandRotate90d(keys=[\"image\", \"label\"], prob=0.5, spatial_axes=[1, 2]),\n",
    "    RandFlipd(keys=[\"image\", \"label\"], prob=0.5, spatial_axis=0),\n",
    "])\n",
    "\n",
    "val_loader = make_val_dataloader(\n",
    "    val_img_dir, \n",
    "    val_label_dir, \n",
    "    non_random_transforms = non_random_transforms, \n",
    "    random_transforms = random_transforms, \n",
    "    batch_size = loader_batch,\n",
    "    num_workers=0\n",
    ")\n",
    "criterion = TverskyLoss(\n",
    "    alpha= 1 - lamda,  # FP에 대한 가중치\n",
    "    beta=lamda,       # FN에 대한 가중치\n",
    "    include_background=False,  # 배경 클래스 제외\n",
    "    softmax=True\n",
    ")\n",
    "    \n",
    "    \n",
    "from monai.metrics import DiceMetric\n",
    "\n",
    "img_size = 96\n",
    "img_depth = img_size\n",
    "n_classes = 7 \n",
    "\n",
    "device = torch.device(\"cuda\" if torch.cuda.is_available() else \"cpu\")\n",
    "pretrain_path = \"./model_checkpoints/SwinUNETR96_96_lr0.001_lambda0.52_batch2/best_model.pt\"\n",
    "model = SwinUNETR(\n",
    "    img_size=(img_depth, img_size, img_size),\n",
    "    in_channels=1,\n",
    "    out_channels=n_classes,\n",
    "    feature_size=48,\n",
    "    use_checkpoint=True,\n",
    ").to(device)\n",
    "# Pretrained weights 불러오기\n",
    "checkpoint = torch.load(pretrain_path, map_location=device)\n",
    "model.load_state_dict(checkpoint['model_state_dict'])\n",
    "\n",
    "val_loss, overall_mean_fbeta_score = validate_one_epoch(\n",
    "    model=model, \n",
    "    val_loader=val_loader, \n",
    "    criterion=criterion, \n",
    "    device=device, \n",
    "    epoch=0, \n",
    "    calculate_dice_interval=1\n",
    ")"
   ]
  },
  {
   "cell_type": "markdown",
   "metadata": {},
   "source": [
    "# Inference"
   ]
  },
  {
   "cell_type": "code",
   "execution_count": null,
   "metadata": {},
   "outputs": [],
   "source": [
    "from src.dataset.preprocessing import Preprocessor"
   ]
  },
  {
   "cell_type": "code",
   "execution_count": null,
   "metadata": {},
   "outputs": [
    {
     "name": "stdout",
     "output_type": "stream",
     "text": [
      "Done.\n"
     ]
    }
   ],
   "source": [
    "from monai.inferers import sliding_window_inference\n",
    "from monai.transforms import Compose, EnsureChannelFirstd, NormalizeIntensityd, Orientationd, GaussianSmoothd\n",
    "from monai.data import DataLoader, Dataset, CacheDataset\n",
    "from monai.networks.nets import SwinUNETR\n",
    "from pathlib import Path\n",
    "import numpy as np\n",
    "import copick\n",
    "\n",
    "import torch\n",
    "print(\"Done.\")"
   ]
  },
  {
   "cell_type": "code",
   "execution_count": null,
   "metadata": {},
   "outputs": [
    {
     "name": "stdout",
     "output_type": "stream",
     "text": [
      "Config file written to ./kaggle/working/copick.config\n",
      "file length: 7\n"
     ]
    }
   ],
   "source": [
    "config_blob = \"\"\"{\n",
    "    \"name\": \"czii_cryoet_mlchallenge_2024\",\n",
    "    \"description\": \"2024 CZII CryoET ML Challenge training data.\",\n",
    "    \"version\": \"1.0.0\",\n",
    "\n",
    "    \"pickable_objects\": [\n",
    "        {\n",
    "            \"name\": \"apo-ferritin\",\n",
    "            \"is_particle\": true,\n",
    "            \"pdb_id\": \"4V1W\",\n",
    "            \"label\": 1,\n",
    "            \"color\": [  0, 117, 220, 128],\n",
    "            \"radius\": 60,\n",
    "            \"map_threshold\": 0.0418\n",
    "        },\n",
    "        {\n",
    "          \"name\" : \"beta-amylase\",\n",
    "            \"is_particle\": true,\n",
    "            \"pdb_id\": \"8ZRZ\",\n",
    "            \"label\": 2,\n",
    "            \"color\": [255, 255, 255, 128],\n",
    "            \"radius\": 90,\n",
    "            \"map_threshold\": 0.0578  \n",
    "        },\n",
    "        {\n",
    "            \"name\": \"beta-galactosidase\",\n",
    "            \"is_particle\": true,\n",
    "            \"pdb_id\": \"6X1Q\",\n",
    "            \"label\": 3,\n",
    "            \"color\": [ 76,   0,  92, 128],\n",
    "            \"radius\": 90,\n",
    "            \"map_threshold\": 0.0578\n",
    "        },\n",
    "        {\n",
    "            \"name\": \"ribosome\",\n",
    "            \"is_particle\": true,\n",
    "            \"pdb_id\": \"6EK0\",\n",
    "            \"label\": 4,\n",
    "            \"color\": [  0,  92,  49, 128],\n",
    "            \"radius\": 150,\n",
    "            \"map_threshold\": 0.0374\n",
    "        },\n",
    "        {\n",
    "            \"name\": \"thyroglobulin\",\n",
    "            \"is_particle\": true,\n",
    "            \"pdb_id\": \"6SCJ\",\n",
    "            \"label\": 5,\n",
    "            \"color\": [ 43, 206,  72, 128],\n",
    "            \"radius\": 130,\n",
    "            \"map_threshold\": 0.0278\n",
    "        },\n",
    "        {\n",
    "            \"name\": \"virus-like-particle\",\n",
    "            \"is_particle\": true,\n",
    "            \"label\": 6,\n",
    "            \"color\": [255, 204, 153, 128],\n",
    "            \"radius\": 135,\n",
    "            \"map_threshold\": 0.201\n",
    "        },\n",
    "        {\n",
    "            \"name\": \"membrane\",\n",
    "            \"is_particle\": false,\n",
    "            \"label\": 8,\n",
    "            \"color\": [100, 100, 100, 128]\n",
    "        },\n",
    "        {\n",
    "            \"name\": \"background\",\n",
    "            \"is_particle\": false,\n",
    "            \"label\": 9,\n",
    "            \"color\": [10, 150, 200, 128]\n",
    "        }\n",
    "    ],\n",
    "\n",
    "    \"overlay_root\": \"./kaggle/working/overlay\",\n",
    "\n",
    "    \"overlay_fs_args\": {\n",
    "        \"auto_mkdir\": true\n",
    "    },\n",
    "\n",
    "    \"static_root\": \"./kaggle/input/czii-cryo-et-object-identification/test/static\"\n",
    "}\"\"\"\n",
    "\n",
    "copick_config_path = \"./kaggle/working/copick.config\"\n",
    "preprocessor = Preprocessor(config_blob,copick_config_path=copick_config_path)\n",
    "non_random_transforms = Compose([\n",
    "    EnsureChannelFirstd(keys=[\"image\"], channel_dim=\"no_channel\"),\n",
    "    NormalizeIntensityd(keys=\"image\"),\n",
    "    Orientationd(keys=[\"image\"], axcodes=\"RAS\"),\n",
    "    GaussianSmoothd(\n",
    "        keys=[\"image\"],      # 변환을 적용할 키\n",
    "        sigma=[1.0, 1.0, 1.0]  # 각 축(x, y, z)의 시그마 값\n",
    "        ),\n",
    "    ])"
   ]
  },
  {
   "cell_type": "code",
   "execution_count": null,
   "metadata": {},
   "outputs": [
    {
     "name": "stderr",
     "output_type": "stream",
     "text": [
      "c:\\ProgramData\\anaconda3\\envs\\ship\\Lib\\site-packages\\monai\\utils\\deprecate_utils.py:221: FutureWarning: monai.networks.nets.swin_unetr SwinUNETR.__init__:img_size: Argument `img_size` has been deprecated since version 1.3. It will be removed in version 1.5. The img_size argument is not required anymore and checks on the input size are run during forward().\n",
      "  warn_deprecated(argname, msg, warning_category)\n",
      "C:\\Users\\Seungwoo\\AppData\\Local\\Temp\\ipykernel_6248\\2937359115.py:15: FutureWarning: You are using `torch.load` with `weights_only=False` (the current default value), which uses the default pickle module implicitly. It is possible to construct malicious pickle data which will execute arbitrary code during unpickling (See https://github.com/pytorch/pytorch/blob/main/SECURITY.md#untrusted-models for more details). In a future release, the default value for `weights_only` will be flipped to `True`. This limits the functions that could be executed during unpickling. Arbitrary objects will no longer be allowed to be loaded via this mode unless they are explicitly allowlisted by the user via `torch.serialization.add_safe_globals`. We recommend you start setting `weights_only=True` for any use case where you don't have full control of the loaded file. Please open an issue on GitHub for any issues related to this experimental feature.\n",
      "  checkpoint = torch.load(pretrain_path, map_location=device)\n"
     ]
    },
    {
     "data": {
      "text/plain": [
       "<All keys matched successfully>"
      ]
     },
     "execution_count": 15,
     "metadata": {},
     "output_type": "execute_result"
    }
   ],
   "source": [
    "img_size = 96\n",
    "img_depth = img_size\n",
    "n_classes = 7 \n",
    "\n",
    "device = torch.device(\"cuda\" if torch.cuda.is_available() else \"cpu\")\n",
    "pretrain_path = \"./model_checkpoints/SwinUNETR96_96_lr0.001_lambda0.52_batch2/best_model.pt\"\n",
    "model = SwinUNETR(\n",
    "    img_size=(img_depth, img_size, img_size),\n",
    "    in_channels=1,\n",
    "    out_channels=n_classes,\n",
    "    feature_size=48,\n",
    "    use_checkpoint=True,\n",
    ").to(device)\n",
    "# Pretrained weights 불러오기\n",
    "checkpoint = torch.load(pretrain_path, map_location=device)\n",
    "model.load_state_dict(checkpoint['model_state_dict'])\n"
   ]
  },
  {
   "cell_type": "code",
   "execution_count": null,
   "metadata": {},
   "outputs": [
    {
     "name": "stderr",
     "output_type": "stream",
     "text": [
      "Validation:   0%|          | 0/4 [00:03<?, ?it/s, loss=0.764]\n"
     ]
    },
    {
     "ename": "ZeroDivisionError",
     "evalue": "integer modulo by zero",
     "output_type": "error",
     "traceback": [
      "\u001b[1;31m---------------------------------------------------------------------------\u001b[0m",
      "\u001b[1;31mZeroDivisionError\u001b[0m                         Traceback (most recent call last)",
      "Cell \u001b[1;32mIn[16], line 1\u001b[0m\n\u001b[1;32m----> 1\u001b[0m val_loss \u001b[38;5;241m=\u001b[39m \u001b[43mvalidate_one_epoch\u001b[49m\u001b[43m(\u001b[49m\n\u001b[0;32m      2\u001b[0m \u001b[43m            \u001b[49m\u001b[43mmodel\u001b[49m\u001b[38;5;241;43m=\u001b[39;49m\u001b[43mmodel\u001b[49m\u001b[43m,\u001b[49m\u001b[43m \u001b[49m\n\u001b[0;32m      3\u001b[0m \u001b[43m            \u001b[49m\u001b[43mval_loader\u001b[49m\u001b[38;5;241;43m=\u001b[39;49m\u001b[43mval_loader\u001b[49m\u001b[43m,\u001b[49m\u001b[43m \u001b[49m\n\u001b[0;32m      4\u001b[0m \u001b[43m            \u001b[49m\u001b[43mcriterion\u001b[49m\u001b[38;5;241;43m=\u001b[39;49m\u001b[43mcriterion\u001b[49m\u001b[43m,\u001b[49m\u001b[43m \u001b[49m\n\u001b[0;32m      5\u001b[0m \u001b[43m            \u001b[49m\u001b[43mdevice\u001b[49m\u001b[38;5;241;43m=\u001b[39;49m\u001b[43mdevice\u001b[49m\u001b[43m,\u001b[49m\u001b[43m \u001b[49m\n\u001b[0;32m      6\u001b[0m \u001b[43m            \u001b[49m\u001b[43mepoch\u001b[49m\u001b[38;5;241;43m=\u001b[39;49m\u001b[38;5;241;43m1\u001b[39;49m\u001b[43m,\u001b[49m\u001b[43m \u001b[49m\n\u001b[0;32m      7\u001b[0m \u001b[43m            \u001b[49m\u001b[43mcalculate_dice_interval\u001b[49m\u001b[38;5;241;43m=\u001b[39;49m\u001b[38;5;241;43m0\u001b[39;49m\n\u001b[0;32m      8\u001b[0m \u001b[43m        \u001b[49m\u001b[43m)\u001b[49m\n",
      "Cell \u001b[1;32mIn[11], line 64\u001b[0m, in \u001b[0;36mvalidate_one_epoch\u001b[1;34m(model, val_loader, criterion, device, epoch, calculate_dice_interval)\u001b[0m\n\u001b[0;32m     61\u001b[0m pbar\u001b[38;5;241m.\u001b[39mset_postfix(loss\u001b[38;5;241m=\u001b[39mloss\u001b[38;5;241m.\u001b[39mitem())\n\u001b[0;32m     63\u001b[0m \u001b[38;5;66;03m# 각 클래스별 Dice 점수 계산\u001b[39;00m\n\u001b[1;32m---> 64\u001b[0m \u001b[38;5;28;01mif\u001b[39;00m \u001b[43mepoch\u001b[49m\u001b[43m \u001b[49m\u001b[38;5;241;43m%\u001b[39;49m\u001b[43m \u001b[49m\u001b[43mcalculate_dice_interval\u001b[49m \u001b[38;5;241m==\u001b[39m \u001b[38;5;241m0\u001b[39m:\n\u001b[0;32m     65\u001b[0m     \u001b[38;5;28;01mfor\u001b[39;00m i \u001b[38;5;129;01min\u001b[39;00m \u001b[38;5;28mrange\u001b[39m(n_classes):\n\u001b[0;32m     66\u001b[0m         pred_i \u001b[38;5;241m=\u001b[39m (preds \u001b[38;5;241m==\u001b[39m i)\n",
      "\u001b[1;31mZeroDivisionError\u001b[0m: integer modulo by zero"
     ]
    }
   ],
   "source": [
    "val_loss = validate_one_epoch(\n",
    "            model=model, \n",
    "            val_loader=val_loader, \n",
    "            criterion=criterion, \n",
    "            device=device, \n",
    "            epoch=1, \n",
    "            calculate_dice_interval=0\n",
    "        )"
   ]
  },
  {
   "cell_type": "code",
   "execution_count": null,
   "metadata": {},
   "outputs": [
    {
     "name": "stdout",
     "output_type": "stream",
     "text": [
      "Processing volume 1/7\n"
     ]
    },
    {
     "name": "stderr",
     "output_type": "stream",
     "text": [
      "Loading dataset: 100%|██████████| 1/1 [00:01<00:00,  1.94s/it]\n"
     ]
    },
    {
     "name": "stdout",
     "output_type": "stream",
     "text": [
      "Processing volume 2/7\n"
     ]
    },
    {
     "name": "stderr",
     "output_type": "stream",
     "text": [
      "Loading dataset: 100%|██████████| 1/1 [00:01<00:00,  1.89s/it]\n"
     ]
    },
    {
     "name": "stdout",
     "output_type": "stream",
     "text": [
      "Processing volume 3/7\n"
     ]
    },
    {
     "name": "stderr",
     "output_type": "stream",
     "text": [
      "Loading dataset: 100%|██████████| 1/1 [00:01<00:00,  1.79s/it]\n"
     ]
    },
    {
     "name": "stdout",
     "output_type": "stream",
     "text": [
      "Submission saved to: submission.csv\n"
     ]
    }
   ],
   "source": [
    "import torch\n",
    "import numpy as np\n",
    "from scipy.ndimage import label, center_of_mass\n",
    "import pandas as pd\n",
    "from tqdm import tqdm\n",
    "from monai.data import CacheDataset, DataLoader\n",
    "from monai.transforms import Compose, NormalizeIntensity\n",
    "import cc3d\n",
    "\n",
    "def dict_to_df(coord_dict, experiment_name):\n",
    "    all_coords = []\n",
    "    all_labels = []\n",
    "    \n",
    "    for label, coords in coord_dict.items():\n",
    "        all_coords.append(coords)\n",
    "        all_labels.extend([label] * len(coords))\n",
    "    \n",
    "    all_coords = np.vstack(all_coords)\n",
    "    df = pd.DataFrame({\n",
    "        'experiment': experiment_name,\n",
    "        'particle_type': all_labels,\n",
    "        'x': all_coords[:, 0],\n",
    "        'y': all_coords[:, 1],\n",
    "        'z': all_coords[:, 2]\n",
    "    })\n",
    "    return df\n",
    "\n",
    "id_to_name = {1: \"apo-ferritin\", \n",
    "              2: \"beta-amylase\",\n",
    "              3: \"beta-galactosidase\", \n",
    "              4: \"ribosome\", \n",
    "              5: \"thyroglobulin\", \n",
    "              6: \"virus-like-particle\"}\n",
    "BLOB_THRESHOLD = 200\n",
    "CERTAINTY_THRESHOLD = 0.05\n",
    "\n",
    "classes = [1, 2, 3, 4, 5, 6]\n",
    "\n",
    "model.eval()\n",
    "with torch.no_grad():\n",
    "    location_dfs = []  # DataFrame 리스트로 초기화\n",
    "    \n",
    "    for vol_idx, run in enumerate(preprocessor.root.runs):\n",
    "        print(f\"Processing volume {vol_idx + 1}/{len(preprocessor.root.runs)}\")\n",
    "        tomogram = preprocessor.processing(run=run, task=\"task\")\n",
    "        task_files = [{\"image\": tomogram}]\n",
    "        task_ds = CacheDataset(data=task_files, transform=non_random_transforms)\n",
    "        task_loader = DataLoader(task_ds, batch_size=1, num_workers=0)\n",
    "        \n",
    "        for task_data in task_loader:\n",
    "            images = task_data['image'].to(\"cuda\")\n",
    "            outputs = sliding_window_inference(\n",
    "                inputs=images,\n",
    "                roi_size=(96, 96, 96),  # ROI 크기\n",
    "                sw_batch_size=4,\n",
    "                predictor=model.forward,\n",
    "                overlap=0.1,\n",
    "                sw_device=\"cuda\",\n",
    "                device=\"cpu\",\n",
    "                buffer_steps=1,\n",
    "                buffer_dim=-1\n",
    "            )\n",
    "            outputs = outputs.argmax(dim=1).squeeze(0).cpu().numpy()  # 클래스 채널 예측\n",
    "            location = {}  # 좌표 저장용 딕셔너리\n",
    "            for c in classes:\n",
    "                cc = cc3d.connected_components(outputs == c)  # cc3d 라벨링\n",
    "                stats = cc3d.statistics(cc)\n",
    "                zyx = stats['centroids'][1:] * 10.012444  # 스케일 변환\n",
    "                zyx_large = zyx[stats['voxel_counts'][1:] > BLOB_THRESHOLD]  # 크기 필터링\n",
    "                xyz = np.ascontiguousarray(zyx_large[:, ::-1])  # 좌표 스왑 (z, y, x -> x, y, z)\n",
    "\n",
    "                location[id_to_name[c]] = xyz  # ID 이름 매칭 저장\n",
    "\n",
    "            # 데이터프레임 변환\n",
    "            df = dict_to_df(location, run.name)\n",
    "            location_dfs.append(df)  # 리스트에 추가\n",
    "        \n",
    "        # if vol_idx == 2:\n",
    "        #     break\n",
    "    \n",
    "    # DataFrame 병합\n",
    "    final_df = pd.concat(location_dfs, ignore_index=True)\n",
    "    \n",
    "    # ID 추가 및 CSV 저장\n",
    "    final_df.insert(loc=0, column='id', value=np.arange(len(final_df)))\n",
    "    final_df.to_csv(\"submission.csv\", index=False)\n",
    "    print(\"Submission saved to: submission.csv\")\n"
   ]
  }
 ],
 "metadata": {
  "kernelspec": {
   "display_name": "czii",
   "language": "python",
   "name": "python3"
  },
  "language_info": {
   "codemirror_mode": {
    "name": "ipython",
    "version": 3
   },
   "file_extension": ".py",
   "mimetype": "text/x-python",
   "name": "python",
   "nbconvert_exporter": "python",
   "pygments_lexer": "ipython3",
   "version": "3.12.7"
  }
 },
 "nbformat": 4,
 "nbformat_minor": 2
}
