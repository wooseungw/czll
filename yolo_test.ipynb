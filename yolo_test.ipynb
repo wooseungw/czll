{
 "cells": [
  {
   "cell_type": "code",
   "execution_count": 2,
   "metadata": {},
   "outputs": [
    {
     "name": "stdout",
     "output_type": "stream",
     "text": [
      "torch.Size([1, 128, 128, 128])\n"
     ]
    }
   ],
   "source": [
    "from ultralytics import YOLO\n",
    "\n",
    "import torch\n",
    "from ultralytics.nn.modules.block import C3k2\n",
    "\n",
    "# 입력 텐서 생성 (배치 크기: 1, 채널 수: 64, 높이: 128, 너비: 128)\n",
    "x = torch.randn(1, 64, 128, 128)\n",
    "\n",
    "# C3k2 클래스 인스턴스 생성\n",
    "# 입력 채널 수: 64, 출력 채널 수: 128, 블록 수: 3, c3k 사용 여부: True\n",
    "model = C3k2(c1=64, c2=128, n=3, c3k=True)\n",
    "\n",
    "# 모델에 입력 텐서 전달\n",
    "output = model(x)\n",
    "\n",
    "# 출력 텐서의 크기 출력\n",
    "print(output.shape)"
   ]
  },
  {
   "cell_type": "code",
   "execution_count": 4,
   "metadata": {},
   "outputs": [
    {
     "name": "stdout",
     "output_type": "stream",
     "text": [
      "torch.Size([1, 64, 224, 224])\n"
     ]
    }
   ],
   "source": [
    "import torch\n",
    "from ultralytics.nn.modules.conv import Conv\n",
    "\n",
    "# 입력 텐서 생성 (배치 크기: 1, 채널 수: 3, 높이: 224, 너비: 224)\n",
    "x = torch.randn(1, 30, 224, 224)\n",
    "\n",
    "# Conv 클래스 인스턴스 생성\n",
    "# 입력 채널 수: 3, 출력 채널 수: 64, 커널 크기: 3, 스트라이드: 1, 패딩: 자동\n",
    "conv_layer = Conv(c1=30, c2=64, k=3, s=1)\n",
    "\n",
    "# Conv 레이어에 입력 텐서 전달\n",
    "output = conv_layer(x)\n",
    "\n",
    "# 출력 텐서의 크기 출력\n",
    "print(output.shape)"
   ]
  },
  {
   "cell_type": "code",
   "execution_count": null,
   "metadata": {},
   "outputs": [
    {
     "name": "stdout",
     "output_type": "stream",
     "text": [
      "torch.Size([1, 1024, 32, 32])\n"
     ]
    }
   ],
   "source": [
    "import torch\n",
    "from ultralytics.nn.modules.block import SPPF\n",
    "\n",
    "'''\n",
    "SPPF(Spatial Pyramid Pooling - Fast) 모듈은 YOLOv5에서 사용되는 레이어로, 입력 특징 맵에 대해 공간 피라미드 풀링을 수행하여 다양한 크기의 맥스 풀링 결과를 결합합니다. 이를 통해 다양한 스케일의 정보를 효과적으로 통합할 수 있습니다. SPPF 모듈은 특히 빠른 연산을 위해 최적화되어 있습니다.\n",
    "\n",
    "주요 역할:\n",
    "\n",
    "다양한 스케일의 정보 통합: 서로 다른 크기의 맥스 풀링을 통해 다양한 스케일의 정보를 추출하고 이를 결합합니다.\n",
    "특징 맵의 크기 유지: 입력 특징 맵의 공간적 크기를 유지하면서 채널 수를 증가시킵니다.\n",
    "연산 효율성: 빠른 연산을 위해 최적화된 구조를 사용합니다.\n",
    "SPPF 모듈의 구조는 다음과 같습니다:\n",
    "\n",
    "입력 채널 수를 절반으로 줄이는 1x1 컨볼루션 레이어\n",
    "5x5 맥스 풀링 레이어를 세 번 반복하여 다양한 스케일의 정보를 추출\n",
    "추출된 정보를 결합한 후 출력 채널 수를 원하는 값으로 조정하는 1x1 컨볼루션 레이어\n",
    "이를 통해 입력 특징 맵의 공간적 크기를 유지하면서 다양한 스케일의 정보를 효과적으로 통합할 수 있습니다.\n",
    "'''\n",
    "# 입력 텐서 생성 (배치 크기: 1, 채널 수: 512, 높이: 32, 너비: 32)\n",
    "x = torch.randn(1, 512, 32, 32)\n",
    "\n",
    "# SPPF 클래스 인스턴스 생성\n",
    "# 입력 채널 수: 512, 출력 채널 수: 1024, 커널 크기: 5\n",
    "sppf_layer = SPPF(c1=512, c2=1024, k=5)\n",
    "\n",
    "# SPPF 레이어에 입력 텐서 전달\n",
    "output = sppf_layer(x)\n",
    "\n",
    "# 출력 텐서의 크기 출력\n",
    "print(output.shape)"
   ]
  },
  {
   "cell_type": "code",
   "execution_count": 5,
   "metadata": {},
   "outputs": [
    {
     "name": "stdout",
     "output_type": "stream",
     "text": [
      "torch.Size([1, 256, 64, 64])\n"
     ]
    }
   ],
   "source": [
    "import torch\n",
    "from ultralytics.nn.modules.block import C2PSA\n",
    "\n",
    "# 입력 텐서 생성 (배치 크기: 1, 채널 수: 256, 높이: 64, 너비: 64)\n",
    "x = torch.randn(1, 256, 64, 64)\n",
    "\n",
    "# C2PSA 클래스 인스턴스 생성\n",
    "# 입력 채널 수: 256, 출력 채널 수: 256, 블록 수: 3, 확장 비율: 0.5\n",
    "model = C2PSA(c1=256, c2=256, n=3, e=0.5)\n",
    "\n",
    "# 모델에 입력 텐서 전달\n",
    "output = model(x)\n",
    "\n",
    "# 출력 텐서의 크기 출력\n",
    "print(output.shape)"
   ]
  },
  {
   "cell_type": "code",
   "execution_count": 32,
   "metadata": {},
   "outputs": [
    {
     "name": "stdout",
     "output_type": "stream",
     "text": [
      "torch.Size([1, 14, 8400])\n"
     ]
    }
   ],
   "source": [
    "import torch\n",
    "from ultralytics.nn.modules.head import Detect\n",
    "\n",
    "# 3개의 서로 다른 크기의 특징맵 생성 \n",
    "# (batch_size, channels, height, width)\n",
    "feature_maps = [\n",
    "    torch.randn(1, 256, 80, 80),    # P3\n",
    "    torch.randn(1, 256, 40, 40),    # P4  \n",
    "    torch.randn(1, 256, 20, 20)     # P5\n",
    "]\n",
    "\n",
    "# Detect 레이어 초기화\n",
    "# nc: 클래스 수 80개 (COCO dataset)\n",
    "# anchors: 3개의 스케일(P3,P4,P5)에 각각 3개의 앵커\n",
    "# ch: 입력 특징맵의 채널 수 \n",
    "detect = Detect(nc=10, ch=[256, 256, 256])\n",
    "\n",
    "# 추론 모드로 설정\n",
    "detect.eval()\n",
    "\n",
    "# 추론 실행\n",
    "with torch.no_grad():\n",
    "    predictions = detect(feature_maps)\n",
    "\n",
    "# 출력 형태 확인 \n",
    "# (batch_size, num_anchors_total, num_classes + 5)\n",
    "print(predictions[0].shape)\n"
   ]
  },
  {
   "cell_type": "code",
   "execution_count": 31,
   "metadata": {},
   "outputs": [
    {
     "name": "stdout",
     "output_type": "stream",
     "text": [
      "torch.Size([1, 144, 80, 80])\n",
      "torch.Size([1, 144, 40, 40])\n",
      "torch.Size([1, 144, 20, 20])\n"
     ]
    }
   ],
   "source": [
    "temp = predictions[1]\n",
    "print(temp[0].shape)\n",
    "print(temp[1].shape)\n",
    "print(temp[2].shape)\n"
   ]
  }
 ],
 "metadata": {
  "kernelspec": {
   "display_name": "dust",
   "language": "python",
   "name": "python3"
  },
  "language_info": {
   "codemirror_mode": {
    "name": "ipython",
    "version": 3
   },
   "file_extension": ".py",
   "mimetype": "text/x-python",
   "name": "python",
   "nbconvert_exporter": "python",
   "pygments_lexer": "ipython3",
   "version": "3.12.2"
  }
 },
 "nbformat": 4,
 "nbformat_minor": 2
}
