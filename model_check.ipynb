{
 "cells": [
  {
   "cell_type": "code",
   "execution_count": 5,
   "metadata": {},
   "outputs": [
    {
     "name": "stderr",
     "output_type": "stream",
     "text": [
      "C:\\Users\\pook0\\AppData\\Local\\Temp\\ipykernel_15880\\4219397499.py:27: FutureWarning: `torch.cuda.amp.autocast(args...)` is deprecated. Please use `torch.amp.autocast('cuda', args...)` instead.\n",
      "  with torch.cuda.amp.autocast(enabled=True):\n"
     ]
    },
    {
     "name": "stdout",
     "output_type": "stream",
     "text": [
      "\n",
      "입력 데이터:\n",
      "                           image : torch.Size([2, 32, 640, 640])\n",
      "                            mask : torch.Size([2, 32, 640, 640])\n",
      "\n",
      "출력 결과:\n",
      "                        particle : torch.Size([2, 7, 32, 640, 640])\n",
      "\n",
      "손실값:\n",
      "                       mask_loss : 1.9502613544464111\n"
     ]
    }
   ],
   "source": [
    "import torch\n",
    "import numpy as np\n",
    "from model.model import Net  # model.py에서 Net 클래스 import\n",
    "\n",
    "def test_model():\n",
    "    # 테스트 데이터 생성\n",
    "    B = 2  # 배치 크기\n",
    "    image_size = 640\n",
    "    num_slice = 32\n",
    "    num_class = 7  # 6 + 1 클래스\n",
    "\n",
    "    # 샘플 배치 생성\n",
    "    batch = {\n",
    "        'image': torch.from_numpy(np.random.uniform(0,1, (B, num_slice, image_size, image_size))).float(),\n",
    "        'mask': torch.from_numpy(np.random.choice(num_class, (B, num_slice, image_size, image_size))).long(),\n",
    "    }\n",
    "\n",
    "    # 모델 생성 및 GPU로 이동\n",
    "    device = torch.device('cuda' if torch.cuda.is_available() else 'cpu')\n",
    "    model = Net(pretrained=True, cfg=None).to(device)\n",
    "    \n",
    "    # 모델 평가 모드로 설정\n",
    "    model.eval()\n",
    "\n",
    "    # 추론\n",
    "    with torch.no_grad():\n",
    "        with torch.cuda.amp.autocast(enabled=True):\n",
    "            output = model(batch)\n",
    "\n",
    "    # 결과 출력\n",
    "    print('\\n입력 데이터:')\n",
    "    for k, v in batch.items():\n",
    "        print(f'{k:>32} : {v.shape}')\n",
    "\n",
    "    print('\\n출력 결과:')\n",
    "    for k, v in output.items():\n",
    "        if 'loss' not in k:\n",
    "            print(f'{k:>32} : {v.shape}')\n",
    "    \n",
    "    print('\\n손실값:')\n",
    "    for k, v in output.items():\n",
    "        if 'loss' in k:\n",
    "            print(f'{k:>32} : {v.item()}')\n",
    "\n",
    "if __name__ == '__main__':\n",
    "    test_model()"
   ]
  }
 ],
 "metadata": {
  "kernelspec": {
   "display_name": "UM",
   "language": "python",
   "name": "python3"
  },
  "language_info": {
   "codemirror_mode": {
    "name": "ipython",
    "version": 3
   },
   "file_extension": ".py",
   "mimetype": "text/x-python",
   "name": "python",
   "nbconvert_exporter": "python",
   "pygments_lexer": "ipython3",
   "version": "3.12.7"
  }
 },
 "nbformat": 4,
 "nbformat_minor": 2
}
