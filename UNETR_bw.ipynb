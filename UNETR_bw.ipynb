{
 "cells": [
  {
   "cell_type": "code",
   "execution_count": null,
   "metadata": {},
   "outputs": [],
   "source": [
    "import os\n",
    "import shutil\n",
    "import tempfile\n",
    "\n",
    "import matplotlib.pyplot as plt\n",
    "from tqdm import tqdm\n",
    "\n",
    "import random\n",
    "import numpy as np\n",
    "import torch\n",
    "\n",
    "from monai.losses import DiceCELoss\n",
    "from monai.inferers import sliding_window_inference\n",
    "from monai.transforms import (\n",
    "    AsDiscrete,\n",
    "    EnsureChannelFirstd,\n",
    "    Compose,\n",
    "    CropForegroundd,\n",
    "    LoadImaged,\n",
    "    Orientationd,\n",
    "    RandFlipd,\n",
    "    RandCropByPosNegLabeld,\n",
    "    RandShiftIntensityd,\n",
    "    ScaleIntensityRanged,\n",
    "    Spacingd,\n",
    "    RandRotate90d,\n",
    ")\n",
    "\n",
    "from monai.config import print_config\n",
    "from monai.metrics import DiceMetric\n",
    "# from src.models.swincspunetr import SwinCSPUNETR\n",
    "# from src.models.swincspunetr_unet import SwinCSPUNETR_unet\n",
    "# from src.models.swincspunetr3plus import SwinCSPUNETR3plus\n",
    "\n",
    "from monai.data import (\n",
    "    DataLoader,\n",
    "    CacheDataset,\n",
    "    load_decathlon_datalist,\n",
    "    decollate_batch,\n",
    ")\n",
    "\n",
    "# 랜덤 시드 고정\n",
    "def set_seed(seed):\n",
    "    random.seed(seed)\n",
    "    np.random.seed(seed)\n",
    "    torch.manual_seed(seed)\n",
    "    if torch.cuda.is_available():\n",
    "        torch.cuda.manual_seed_all(seed)\n",
    "\n",
    "set_seed(42)\n",
    "\n",
    "\n",
    "print_config()"
   ]
  },
  {
   "cell_type": "code",
   "execution_count": null,
   "metadata": {},
   "outputs": [
    {
     "name": "stdout",
     "output_type": "stream",
     "text": [
      "클래스 비율: {0: 0.0, 1: 0.16393442622950818, 2: 0.01639344262295082, 3: 0.2459016393442623, 4: 0.16393442622950818, 5: 0.2459016393442623, 6: 0.16393442622950818}\n",
      "최종 합계: 1.0\n",
      "클래스 비율 리스트: [0.0, 0.16393442622950818, 0.01639344262295082, 0.2459016393442623, 0.16393442622950818, 0.2459016393442623, 0.16393442622950818]\n"
     ]
    }
   ],
   "source": [
    "class_info = {\n",
    "    0: {\"name\": \"background\", \"weight\": 0},  # weight 없음\n",
    "    1: {\"name\": \"apo-ferritin\", \"weight\": 1000},\n",
    "    2: {\"name\": \"beta-amylase\", \"weight\": 100}, # 4130\n",
    "    3: {\"name\": \"beta-galactosidase\", \"weight\": 1500}, #3080\n",
    "    4: {\"name\": \"ribosome\", \"weight\": 1000},\n",
    "    5: {\"name\": \"thyroglobulin\", \"weight\": 1500},\n",
    "    6: {\"name\": \"virus-like-particle\", \"weight\": 1000},\n",
    "}\n",
    "\n",
    "# 가중치에 비례한 비율 계산\n",
    "raw_ratios = {\n",
    "    k: (v[\"weight\"] if v[\"weight\"] is not None else 0.01)  # 가중치 비례, None일 경우 기본값a\n",
    "    for k, v in class_info.items()\n",
    "}\n",
    "total = sum(raw_ratios.values())\n",
    "ratios = {k: v / total for k, v in raw_ratios.items()}\n",
    "\n",
    "# 최종 합계가 1인지 확인\n",
    "final_total = sum(ratios.values())\n",
    "print(\"클래스 비율:\", ratios)\n",
    "print(\"최종 합계:\", final_total)\n",
    "\n",
    "# 비율을 리스트로 변환\n",
    "ratios_list = [ratios[k] for k in sorted(ratios.keys())]\n",
    "print(\"클래스 비율 리스트:\", ratios_list)"
   ]
  },
  {
   "cell_type": "markdown",
   "metadata": {},
   "source": [
    "# 모델 설정"
   ]
  },
  {
   "cell_type": "code",
   "execution_count": null,
   "metadata": {},
   "outputs": [],
   "source": [
    "from src.dataset.dataset import create_dataloaders, create_dataloaders_bw\n",
    "from monai.transforms import (\n",
    "    Compose, LoadImaged, EnsureChannelFirstd, NormalizeIntensityd,\n",
    "    Orientationd, CropForegroundd, GaussianSmoothd, ScaleIntensityd,\n",
    "    RandSpatialCropd, RandRotate90d, RandFlipd, RandGaussianNoised,\n",
    "    ToTensord, RandCropByLabelClassesd, RandCropd,RandCropByPosNegLabeld, RandGaussianSmoothd\n",
    ")\n",
    "from monai.transforms import CastToTyped\n",
    "import numpy as np\n",
    "\n",
    "train_img_dir = \"./datasets/train_de/images\"\n",
    "train_label_dir = \"./datasets/train_De/labels\"\n",
    "val_img_dir = \"./datasets/val_de/images\"\n",
    "val_label_dir = \"./datasets/val_de/labels\"\n",
    "# DATA CONFIG\n",
    "img_size =  96 # Match your patch size\n",
    "img_depth = 32\n",
    "n_classes = 7\n",
    "batch_size = 64 # 13.8GB GPU memory required for 128x128 img size\n",
    "loader_batch = 1\n",
    "num_samples = batch_size // loader_batch # 한 이미지에서 뽑을 샘플 수\n",
    "num_repeat = 10\n",
    "# MODEL CONFIG\n",
    "num_epochs = 4000\n",
    "lamda = 0.52\n",
    "ce_weight = 0.8\n",
    "lr = 0.001\n",
    "feature_size = (32, 64, 128, 256)\n",
    "use_checkpoint = True\n",
    "use_v2 = True\n",
    "drop_rate= 0.2\n",
    "attn_drop_rate = 0.2\n",
    "num_bottleneck = 2\n",
    "# CLASS_WEIGHTS\n",
    "class_weights = None\n",
    "# class_weights = torch.tensor([0.0001, 1, 0.001, 1.1, 1, 1.1, 1], dtype=torch.float32)  # 클래스별 가중치\n",
    "# class_weights = torch.tensor([0.9,1,0.9,1.1,1,1.1,1], dtype=torch.float32)  # 클래스별 가중치\n",
    "sigma = 2.0\n",
    "accumulation_steps = 1\n",
    "# INIT\n",
    "start_epoch = 0\n",
    "best_val_loss = float('inf')\n",
    "best_val_fbeta_score = 0\n",
    "\n",
    "non_random_transforms = Compose([\n",
    "    EnsureChannelFirstd(keys=[\"image\", \"label\"], channel_dim=\"no_channel\"),\n",
    "    NormalizeIntensityd(keys=\"image\"),\n",
    "    Orientationd(keys=[\"image\", \"label\"], axcodes=\"RAS\"),\n",
    "    # GaussianSmoothd(\n",
    "    #     keys=[\"image\"],      # 변환을 적용할 키\n",
    "    #     sigma=[sigma, sigma, sigma]  # 각 축(x, y, z)의 시그마 값\n",
    "    #     ),\n",
    "])\n",
    "random_transforms = Compose([\n",
    "    RandCropByLabelClassesd(\n",
    "        keys=[\"image\", \"label\"],\n",
    "        label_key=\"label\",\n",
    "        spatial_size=[img_depth, img_size, img_size],\n",
    "        num_classes=n_classes,\n",
    "        num_samples=num_samples, \n",
    "        ratios=ratios_list,\n",
    "    ),\n",
    "    RandRotate90d(keys=[\"image\", \"label\"], prob=0.5, spatial_axes=[1, 2]),\n",
    "    RandFlipd(keys=[\"image\", \"label\"], prob=0.5, spatial_axis=0),\n",
    "    RandFlipd(keys=[\"image\", \"label\"], prob=0.5, spatial_axis=1),\n",
    "    RandFlipd(keys=[\"image\", \"label\"], prob=0.5, spatial_axis=2),\n",
    "    # RandGaussianSmoothd(\n",
    "    # keys=[\"image\"],      # 변환을 적용할 키\n",
    "    # sigma_x = (0.0, sigma), # 각 축(x, y, z)의 시그마 값\n",
    "    # sigma_y = (0.0, sigma),\n",
    "    # sigma_z = (0.0, sigma),\n",
    "    # prob=1.0,\n",
    "    # ),\n",
    "])\n",
    "val_random_transforms = Compose([\n",
    "    RandCropByLabelClassesd(\n",
    "        keys=[\"image\", \"label\"],\n",
    "        label_key=\"label\",\n",
    "        spatial_size=[img_depth, img_size, img_size],\n",
    "        num_classes=n_classes,\n",
    "        num_samples=num_samples, \n",
    "        ratios=ratios_list,\n",
    "    ),\n",
    "    # RandRotate90d(keys=[\"image\", \"label\"], prob=0.5, spatial_axes=[1, 2]),\n",
    "    # RandFlipd(keys=[\"image\", \"label\"], prob=0.5, spatial_axis=0),\n",
    "    # RandFlipd(keys=[\"image\", \"label\"], prob=0.5, spatial_axis=1),\n",
    "    # RandFlipd(keys=[\"image\", \"label\"], prob=0.5, spatial_axis=2),\n",
    "    # RandGaussianSmoothd(\n",
    "    # keys=[\"image\"],      # 변환을 적용할 키\n",
    "    # sigma_x = (0.0, sigma), # 각 축(x, y, z)의 시그마 값\n",
    "    # sigma_y = (0.0, sigma),\n",
    "    # sigma_z = (0.0, sigma),\n",
    "    # prob=1.0,\n",
    "    # ),\n",
    "])\n"
   ]
  },
  {
   "cell_type": "code",
   "execution_count": null,
   "metadata": {},
   "outputs": [],
   "source": [
    "train_loader, val_loader = None, None\n",
    "train_loader, val_loader = create_dataloaders_bw(\n",
    "    train_img_dir, \n",
    "    train_label_dir, \n",
    "    val_img_dir, \n",
    "    val_label_dir, \n",
    "    non_random_transforms = non_random_transforms, \n",
    "    val_non_random_transforms=non_random_transforms,\n",
    "    random_transforms = random_transforms, \n",
    "    val_random_transforms=val_random_transforms,\n",
    "    batch_size = loader_batch,\n",
    "    num_workers=0,\n",
    "    train_num_repeat=num_repeat,\n",
    "    val_num_repeat=num_repeat,\n",
    "    )"
   ]
  },
  {
   "cell_type": "markdown",
   "metadata": {},
   "source": [
    "https://monai.io/model-zoo.html"
   ]
  },
  {
   "cell_type": "code",
   "execution_count": null,
   "metadata": {},
   "outputs": [],
   "source": [
    "import torch\n",
    "import torch.nn as nn\n",
    "import torch.nn.functional as F\n",
    "from monai.losses import TverskyLoss\n",
    "\n",
    "device = torch.device(\"cuda\" if torch.cuda.is_available() else \"cpu\")\n",
    "\n",
    "# DynamicTverskyLoss 클래스 정의\n",
    "class DynamicTverskyLoss(TverskyLoss):\n",
    "    def __init__(self, lamda=0.5, **kwargs):\n",
    "        super().__init__(alpha=1 - lamda, beta=lamda, **kwargs)\n",
    "        self.lamda = lamda\n",
    "\n",
    "    def set_lamda(self, lamda):\n",
    "        self.lamda = lamda\n",
    "        self.alpha = 1 - lamda\n",
    "        self.beta = lamda\n",
    "\n",
    "\n",
    "# CombinedCETverskyLoss 클래스\n",
    "class CombinedCETverskyLoss_cl_weight(nn.Module):\n",
    "    \n",
    "    \n",
    "    def __init__(self, lamda=0.5, ce_weight=0.5, n_classes=7, class_weights=None, ignore_index=-1, **kwargs):\n",
    "        super().__init__()\n",
    "        self.n_classes = n_classes\n",
    "        self.ce_weight = ce_weight\n",
    "        self.ignore_index = ignore_index\n",
    "        \n",
    "        # CrossEntropyLoss에서 클래스별 가중치를 적용\n",
    "        self.ce = nn.CrossEntropyLoss(weight=class_weights, ignore_index=self.ignore_index, reduction='mean', **kwargs)\n",
    "        \n",
    "        # TverskyLoss\n",
    "        self.tversky = DynamicTverskyLoss(lamda=lamda, reduction=\"none\",softmax=True, **kwargs)\n",
    "\n",
    "    def forward(self, inputs, targets):\n",
    "        \n",
    "        # CrossEntropyLoss는 정수형 클래스 인덱스를 사용\n",
    "        ce_loss = self.ce(inputs, targets)\n",
    "\n",
    "        # TverskyLoss 계산 (원핫 인코딩된 라벨을 사용)\n",
    "        \n",
    "        tversky_loss = self.tversky(inputs, targets)\n",
    "\n",
    "        # 클래스별 가중치 적용 (Tversky 손실에도 가중치를 곱하기)\n",
    "        class_weights = torch.tensor(self.ce.weight)  # CrossEntropy의 weight를 사용\n",
    "\n",
    "        # Tversky 손실이 (B, num_classes) 형태이므로, 가중치를 클래스 차원에 곱합니다.\n",
    "        tversky_loss = tversky_loss * class_weights.view(1, self.n_classes)\n",
    "\n",
    "        # 최종 손실 계산\n",
    "        final_loss = self.ce_weight * ce_loss + (1 - self.ce_weight) * tversky_loss.mean()  # mean()으로 배치에 대해 평균\n",
    "        return final_loss\n",
    "\n",
    "    def set_lamda(self, lamda):\n",
    "        self.tversky.set_lamda(lamda)\n",
    "\n",
    "    @property\n",
    "    def lamda(self):\n",
    "        return self.tversky.lamda\n",
    "\n",
    "# CombinedCETverskyLoss 클래스\n",
    "class CombinedCETverskyLoss(nn.Module):\n",
    "    \n",
    "    def __init__(self, lamda=0.5, ce_weight=0.5, n_classes=7, class_weights=None, ignore_index=-1, **kwargs):\n",
    "        super().__init__()\n",
    "        self.n_classes = n_classes\n",
    "        self.ce_weight = ce_weight\n",
    "        self.ignore_index = ignore_index\n",
    "        \n",
    "        # CrossEntropyLoss에서 클래스별 가중치를 적용\n",
    "        self.ce = nn.CrossEntropyLoss(ignore_index=self.ignore_index, reduction='mean', **kwargs)\n",
    "        \n",
    "        # TverskyLoss\n",
    "        self.tversky = DynamicTverskyLoss(lamda=lamda, reduction=\"mean\",softmax=True, **kwargs)\n",
    "\n",
    "    def forward(self, inputs, targets):\n",
    "        \n",
    "        # CrossEntropyLoss는 정수형 클래스 인덱스를 사용\n",
    "        ce_loss = self.ce(inputs, targets)\n",
    "\n",
    "        # TverskyLoss 계산 (원핫 인코딩된 라벨을 사용)\n",
    "        \n",
    "        tversky_loss = self.tversky(inputs, targets)\n",
    "\n",
    "        # 최종 손실 계산\n",
    "        final_loss = self.ce_weight * ce_loss + (1 - self.ce_weight) * tversky_loss  # mean()으로 배치에 대해 평균\n",
    "        \n",
    "        return final_loss\n",
    "\n",
    "    def set_lamda(self, lamda):\n",
    "        self.tversky.set_lamda(lamda)\n",
    "\n",
    "    @property\n",
    "    def lamda(self):\n",
    "        return self.tversky.lamda\n",
    "\n",
    "criterion = CombinedCETverskyLoss(\n",
    "    lamda=lamda,\n",
    "    ce_weight=ce_weight,\n",
    "    n_classes=n_classes,\n",
    "    class_weights=class_weights,\n",
    ").to(device)"
   ]
  },
  {
   "cell_type": "code",
   "execution_count": null,
   "metadata": {},
   "outputs": [
    {
     "name": "stdout",
     "output_type": "stream",
     "text": [
      "기존 best model 발견: model_checkpoints\\CBAMbw_deno_iso_noclswt__f(32, 64, 128, 256)_d32_s96_dropr0.2_lr1e-03_a0.52_b64_r10_ce0.8_ac1\\best_model.pt\n",
      "기존 학습된 가중치를 성공적으로 로드했습니다.\n"
     ]
    },
    {
     "name": "stderr",
     "output_type": "stream",
     "text": [
      "c:\\Users\\pook0\\.conda\\envs\\UM\\Lib\\site-packages\\torch\\nn\\init.py:453: UserWarning: Initializing zero-element tensors is a no-op\n",
      "  warnings.warn(\"Initializing zero-element tensors is a no-op\")\n",
      "C:\\Users\\pook0\\AppData\\Local\\Temp\\ipykernel_21324\\3138395537.py:42: FutureWarning: You are using `torch.load` with `weights_only=False` (the current default value), which uses the default pickle module implicitly. It is possible to construct malicious pickle data which will execute arbitrary code during unpickling (See https://github.com/pytorch/pytorch/blob/main/SECURITY.md#untrusted-models for more details). In a future release, the default value for `weights_only` will be flipped to `True`. This limits the functions that could be executed during unpickling. Arbitrary objects will no longer be allowed to be loaded via this mode unless they are explicitly allowlisted by the user via `torch.serialization.add_safe_globals`. We recommend you start setting `weights_only=True` for any use case where you don't have full control of the loaded file. Please open an issue on GitHub for any issues related to this experimental feature.\n",
      "  checkpoint = torch.load(best_model_path, map_location=device)\n"
     ]
    }
   ],
   "source": [
    "import torch.optim as optim\n",
    "from tqdm import tqdm\n",
    "import numpy as np\n",
    "import torch\n",
    "from pathlib import Path\n",
    "from monai.networks.nets import UNet\n",
    "# from src.models import UNet_CBAM\n",
    "from src.models import UNet_CBAM_bw\n",
    "from monai.networks.layers.factories import Act, Norm\n",
    "\n",
    "device = torch.device(\"cuda\" if torch.cuda.is_available() else \"cpu\")\n",
    "\n",
    "\n",
    "model = UNet_CBAM_bw(\n",
    "    spatial_dims=3,\n",
    "    in_channels=1,\n",
    "    out_channels=n_classes,\n",
    "    channels=feature_size,\n",
    "    strides=(2, 2, 2),\n",
    "    dropout = drop_rate,\n",
    "    norm = Norm.INSTANCE,\n",
    "    act = Act.PRELU,\n",
    ").to(device)\n",
    "\n",
    "pretrain_str = \"yes\" if use_checkpoint else \"no\"\n",
    "weight_str = \"weighted\" if class_weights is not None else \"\"\n",
    "\n",
    "# 체크포인트 디렉토리 및 파일 설정\n",
    "checkpoint_base_dir = Path(\"./model_checkpoints\")\n",
    "folder_name = f\"CBAMbw_deno_noclswt_{weight_str}_f{feature_size}_d{img_depth}_s{img_size}_dropr{drop_rate}_lr{lr:.0e}_a{lamda:.2f}_b{batch_size}_r{num_repeat}_ce{ce_weight}_ac{accumulation_steps}\"\n",
    "checkpoint_dir = checkpoint_base_dir / folder_name\n",
    "optimizer = optim.AdamW(model.parameters(), lr=lr, weight_decay=1e-5)\n",
    "scheduler = torch.optim.lr_scheduler.ReduceLROnPlateau(optimizer, patience=5, factor=0.5)\n",
    "# 체크포인트 디렉토리 생성\n",
    "checkpoint_dir.mkdir(parents=True, exist_ok=True)\n",
    "\n",
    "if checkpoint_dir.exists():\n",
    "    best_model_path = checkpoint_dir / 'best_model.pt'\n",
    "    if best_model_path.exists():\n",
    "        print(f\"기존 best model 발견: {best_model_path}\")\n",
    "        try:\n",
    "            checkpoint = torch.load(best_model_path, map_location=device)\n",
    "            # 체크포인트 내부 키 검증\n",
    "            required_keys = ['model_state_dict', 'optimizer_state_dict', 'epoch', 'best_val_loss']\n",
    "            if all(k in checkpoint for k in required_keys):\n",
    "                model.load_state_dict(checkpoint['model_state_dict'])\n",
    "                optimizer.load_state_dict(checkpoint['optimizer_state_dict'])\n",
    "                start_epoch = checkpoint['epoch']\n",
    "                best_val_loss = checkpoint['best_val_loss']\n",
    "                print(\"기존 학습된 가중치를 성공적으로 로드했습니다.\")\n",
    "                checkpoint= None\n",
    "            else:\n",
    "                raise ValueError(\"체크포인트 파일에 필요한 key가 없습니다.\")\n",
    "        except Exception as e:\n",
    "            print(f\"체크포인트 파일을 로드하는 중 오류 발생: {e}\")"
   ]
  },
  {
   "cell_type": "code",
   "execution_count": null,
   "metadata": {},
   "outputs": [
    {
     "name": "stdout",
     "output_type": "stream",
     "text": [
      "torch.Size([64, 1, 32, 96, 96]) torch.Size([64, 1, 32, 96, 96])\n"
     ]
    }
   ],
   "source": [
    "batch = next(iter(val_loader))\n",
    "images, labels = batch[\"image\"], batch[\"label\"]\n",
    "print(images.shape, labels.shape)"
   ]
  },
  {
   "cell_type": "code",
   "execution_count": null,
   "metadata": {},
   "outputs": [],
   "source": [
    "torch.backends.cudnn.benchmark = True"
   ]
  },
  {
   "cell_type": "code",
   "execution_count": null,
   "metadata": {},
   "outputs": [
    {
     "name": "stderr",
     "output_type": "stream",
     "text": [
      "\u001b[34m\u001b[1mwandb\u001b[0m: Using wandb-core as the SDK backend.  Please refer to https://wandb.me/wandb-core for more information.\n",
      "\u001b[34m\u001b[1mwandb\u001b[0m: Currently logged in as: \u001b[33mpook0612\u001b[0m (\u001b[33mlimbw\u001b[0m). Use \u001b[1m`wandb login --relogin`\u001b[0m to force relogin\n"
     ]
    },
    {
     "data": {
      "text/html": [
       "Tracking run with wandb version 0.19.1"
      ],
      "text/plain": [
       "<IPython.core.display.HTML object>"
      ]
     },
     "metadata": {},
     "output_type": "display_data"
    },
    {
     "data": {
      "text/html": [
       "Run data is saved locally in <code>c:\\Workspace\\czll\\wandb\\run-20250128_032123-kczwxqtk</code>"
      ],
      "text/plain": [
       "<IPython.core.display.HTML object>"
      ]
     },
     "metadata": {},
     "output_type": "display_data"
    },
    {
     "data": {
      "text/html": [
       "Syncing run <strong><a href='https://wandb.ai/limbw/czii_UNet/runs/kczwxqtk' target=\"_blank\">CBAMbw_deno_iso_noclswt__f(32, 64, 128, 256)_d32_s96_dropr0.2_lr1e-03_a0.52_b64_r10_ce0.8_ac1</a></strong> to <a href='https://wandb.ai/limbw/czii_UNet' target=\"_blank\">Weights & Biases</a> (<a href='https://wandb.me/developer-guide' target=\"_blank\">docs</a>)<br>"
      ],
      "text/plain": [
       "<IPython.core.display.HTML object>"
      ]
     },
     "metadata": {},
     "output_type": "display_data"
    },
    {
     "data": {
      "text/html": [
       " View project at <a href='https://wandb.ai/limbw/czii_UNet' target=\"_blank\">https://wandb.ai/limbw/czii_UNet</a>"
      ],
      "text/plain": [
       "<IPython.core.display.HTML object>"
      ]
     },
     "metadata": {},
     "output_type": "display_data"
    },
    {
     "data": {
      "text/html": [
       " View run at <a href='https://wandb.ai/limbw/czii_UNet/runs/kczwxqtk' target=\"_blank\">https://wandb.ai/limbw/czii_UNet/runs/kczwxqtk</a>"
      ],
      "text/plain": [
       "<IPython.core.display.HTML object>"
      ]
     },
     "metadata": {},
     "output_type": "display_data"
    }
   ],
   "source": [
    "import wandb\n",
    "from datetime import datetime\n",
    "\n",
    "current_time = datetime.now().strftime('%Y%m%d_%H%M%S')\n",
    "run_name = folder_name\n",
    "\n",
    "# wandb 초기화\n",
    "wandb.init(\n",
    "    project='czii_UNet',  # 프로젝트 이름 설정\n",
    "    name=run_name,         # 실행(run) 이름 설정\n",
    "    config={\n",
    "        'num_epochs': num_epochs,\n",
    "        'learning_rate': lr,\n",
    "        'batch_size': batch_size,\n",
    "        'lambda': lamda,\n",
    "        \"cross_entropy_weight\": ce_weight,\n",
    "        'feature_size': feature_size,\n",
    "        'img_size': img_size,\n",
    "        'sampling_ratio': ratios_list,\n",
    "        'device': device.type,\n",
    "        \"checkpoint_dir\": str(checkpoint_dir),\n",
    "        \"class_weights\": class_weights.tolist() if class_weights is not None else None,\n",
    "        \"use_checkpoint\": use_checkpoint,\n",
    "        \"drop_rate\": drop_rate,\n",
    "        # \"attn_drop_rate\": attn_drop_rate,\n",
    "        # \"use_v2\": use_v2,\n",
    "        \"accumulation_steps\": accumulation_steps,\n",
    "        \"num_repeat\": num_repeat,\n",
    "        # \"num_bottleneck\": num_bottleneck,\n",
    "        \n",
    "        # 필요한 하이퍼파라미터 추가\n",
    "    }\n",
    ")\n",
    "# 모델을 wandb에 연결\n",
    "wandb.watch(model, log='all')"
   ]
  },
  {
   "cell_type": "markdown",
   "metadata": {},
   "source": [
    "# 학습"
   ]
  },
  {
   "cell_type": "code",
   "execution_count": null,
   "metadata": {},
   "outputs": [],
   "source": [
    "from monai.metrics import DiceMetric\n",
    "    \n",
    "def processing(batch_data, model, criterion, device):\n",
    "    images = batch_data['image'].to(device)  # Input 이미지 (B, 1, 96, 96, 96)\n",
    "    labels = batch_data['label'].to(device)  # 라벨 (B, 96, 96, 96)\n",
    "\n",
    "    labels = labels.squeeze(1)  # (B, 1, 96, 96, 96) → (B, 96, 96, 96)\n",
    "    labels = labels.long()  # 라벨을 정수형으로 변환\n",
    "\n",
    "    # 원핫 인코딩 (B, H, W, D) → (B, num_classes, H, W, D)\n",
    "    \n",
    "    labels_onehot = torch.nn.functional.one_hot(labels, num_classes=n_classes)\n",
    "    labels_onehot = labels_onehot.permute(0, 4, 1, 2, 3).float()  # (B, num_classes, H, W, D)\n",
    "\n",
    "    # 모델 예측\n",
    "    outputs = model(images)  # outputs: (B, num_classes, H, W, D)\n",
    "\n",
    "    # Loss 계산\n",
    "    loss = criterion(outputs, labels_onehot)\n",
    "    # loss = loss_fn(criterion(outputs, labels_onehot),class_weights=class_weights, device=device)\n",
    "    return loss, outputs, labels, outputs.argmax(dim=1)\n",
    "\n",
    "def train_one_epoch(model, train_loader, criterion, optimizer, device, epoch, accumulation_steps=4):\n",
    "    model.train()\n",
    "    epoch_loss = 0\n",
    "    optimizer.zero_grad()  # 그래디언트 초기화\n",
    "    with tqdm(train_loader, desc='Training') as pbar:\n",
    "        for i, batch_data in enumerate(pbar):\n",
    "            # 손실 계산\n",
    "            loss, _, _, _ = processing(batch_data, model, criterion, device)\n",
    "\n",
    "            # 그래디언트를 계산하고 누적\n",
    "            loss = loss / accumulation_steps  # 그래디언트 누적을 위한 스케일링\n",
    "            loss.backward()  # 그래디언트 계산 및 누적\n",
    "            \n",
    "            # 그래디언트 업데이트 (accumulation_steps마다 한 번)\n",
    "            if (i + 1) % accumulation_steps == 0 or (i + 1) == len(train_loader):\n",
    "                optimizer.step()  # 파라미터 업데이트\n",
    "                optimizer.zero_grad()  # 누적된 그래디언트 초기화\n",
    "            \n",
    "            # 손실값 누적 (스케일링 복구)\n",
    "            epoch_loss += loss.item() * accumulation_steps  # 실제 손실값 반영\n",
    "            pbar.set_postfix(loss=loss.item() * accumulation_steps)  # 실제 손실값 출력\n",
    "    avg_loss = epoch_loss / len(train_loader)\n",
    "    wandb.log({'train_epoch_loss': avg_loss, 'epoch': epoch + 1})\n",
    "    return avg_loss\n",
    "\n",
    "\n",
    "def validate_one_epoch(model, val_loader, criterion, device, epoch, calculate_dice_interval, ce_weight):\n",
    "    model.eval()\n",
    "    val_loss = 0\n",
    "    \n",
    "    class_dice_scores = {i: [] for i in range(n_classes)}\n",
    "    class_f_beta_scores = {i: [] for i in range(n_classes)}\n",
    "    class_mIoU_scores = {i: [] for i in range(n_classes)}\n",
    "    with torch.no_grad():\n",
    "        with tqdm(val_loader, desc='Validation') as pbar:\n",
    "            for batch_data in pbar:\n",
    "                loss, _, labels, preds = processing(batch_data, model, criterion, device)\n",
    "                val_loss += loss.item()\n",
    "                pbar.set_postfix(loss=loss.item())\n",
    "\n",
    "                # 각 클래스별 Dice 점수 계산\n",
    "                if epoch % calculate_dice_interval == 0:\n",
    "                    for i in range(n_classes):\n",
    "                        pred_i = (preds == i)\n",
    "                        label_i = (labels == i)\n",
    "                        dice_score = (2.0 * torch.sum(pred_i & label_i)) / (torch.sum(pred_i) + torch.sum(label_i) + 1e-8)\n",
    "                        class_dice_scores[i].append(dice_score.item())\n",
    "                        precision = (torch.sum(pred_i & label_i) + 1e-8) / (torch.sum(pred_i) + 1e-8)\n",
    "                        recall = (torch.sum(pred_i & label_i) + 1e-8) / (torch.sum(label_i) + 1e-8)\n",
    "                        f_beta_score = (1 + 4**2) * (precision * recall) / (4**2 * precision + recall + 1e-8)\n",
    "                        class_f_beta_scores[i].append(f_beta_score.item())\n",
    "                        intersection = torch.sum(pred_i & label_i).float()\n",
    "                        union = torch.sum(pred_i | label_i).float()\n",
    "                        iou = (intersection + 1e-8) / (union + 1e-8)\n",
    "                        class_mIoU_scores[i].append(iou.item())\n",
    "\n",
    "    avg_loss = val_loss / len(val_loader)\n",
    "    # 에포크별 평균 손실 로깅\n",
    "    wandb.log({'val_epoch_loss': avg_loss, 'epoch': epoch + 1})\n",
    "    \n",
    "    # 각 클래스별 평균 Dice 점수 출력\n",
    "    if epoch % calculate_dice_interval == 0:\n",
    "        print(\"Validation Dice Score\")\n",
    "        all_classes_dice_scores = []\n",
    "        for i in range(n_classes):\n",
    "            mean_dice = np.mean(class_dice_scores[i])\n",
    "            wandb.log({f'class_{i}_dice_score': mean_dice, 'epoch': epoch + 1})\n",
    "            print(f\"Class {i}: {mean_dice:.4f}\", end=\", \")\n",
    "            if i not in [0, 2]:  # 평균에 포함할 클래스만 추가\n",
    "                all_classes_dice_scores.append(mean_dice)\n",
    "            \n",
    "        print()\n",
    "    if epoch % calculate_dice_interval == 0:\n",
    "        print(\"Validation F-beta Score\")\n",
    "        all_classes_fbeta_scores = []\n",
    "        for i in range(n_classes):\n",
    "            mean_fbeta = np.mean(class_f_beta_scores[i])\n",
    "            wandb.log({f'class_{i}_f_beta_score': mean_fbeta, 'epoch': epoch + 1})\n",
    "            print(f\"Class {i}: {mean_fbeta:.4f}\", end=\", \")\n",
    "            if i not in [0, 2]:  # 평균에 포함할 클래스만 추가\n",
    "                all_classes_fbeta_scores.append(mean_fbeta)\n",
    "               \n",
    "        print() \n",
    "    if epoch % calculate_dice_interval == 0:\n",
    "        print(\"Validation mIoU Score\")\n",
    "        all_classes_mIoU_scores = []\n",
    "        for i in range(n_classes):\n",
    "            mean_IoU = np.mean(class_mIoU_scores[i])\n",
    "            wandb.log({f'class_{i}_IoU_score': mean_fbeta, 'epoch': epoch + 1})\n",
    "            print(f\"Class {i}: {mean_IoU:.4f}\", end=\", \")\n",
    "            if i not in [0, 2]:  # 평균에 포함할 클래스만 추가\n",
    "                all_classes_mIoU_scores.append(mean_IoU)\n",
    "                \n",
    "        print()\n",
    "        overall_mean_dice = np.mean(all_classes_dice_scores)\n",
    "        overall_mean_fbeta = np.mean(all_classes_fbeta_scores)\n",
    "        overall_mean_IoU = np.mean(all_classes_mIoU_scores)\n",
    "        final_score = overall_mean_fbeta * (1 - ce_weight) + overall_mean_IoU * ce_weight\n",
    "        wandb.log({'overall_mean_f_beta_score': overall_mean_fbeta, 'overall_mean_dice_score': overall_mean_dice, 'epoch': epoch + 1, 'overall_mean_IoU_score': overall_mean_IoU, 'final_score': final_score})  \n",
    "        print(f\"\\nOverall Mean Dice Score: {overall_mean_dice:.4f}\\nOverall Mean F-beta Score: {overall_mean_fbeta:.4f}\\nOverall Mean IoU Score: {overall_mean_IoU:.4f}\\nFinal_score: {final_score:.4f}\")\n",
    "\n",
    "    if overall_mean_fbeta is None:\n",
    "        overall_mean_fbeta = 0\n",
    "\n",
    "    \n",
    "    \n",
    "    return val_loss / len(val_loader), final_score \n",
    "\n",
    "def train_model(\n",
    "    model, train_loader, val_loader, criterion, optimizer, num_epochs, patience, \n",
    "    device, start_epoch, best_val_loss, best_val_fbeta_score, calculate_dice_interval=1,\n",
    "    accumulation_steps=4, pretrained=False\n",
    "):\n",
    "    \"\"\"\n",
    "    모델을 학습하고 검증하는 함수\n",
    "    Args:\n",
    "        model: 학습할 모델\n",
    "        train_loader: 학습 데이터 로더\n",
    "        val_loader: 검증 데이터 로더\n",
    "        criterion: 손실 함수\n",
    "        optimizer: 최적화 알고리즘\n",
    "        num_epochs: 총 학습 epoch 수\n",
    "        patience: early stopping 기준\n",
    "        device: GPU/CPU 장치\n",
    "        start_epoch: 시작 epoch\n",
    "        best_val_loss: 이전 최적 validation loss\n",
    "        best_val_fbeta_score: 이전 최적 validation f-beta score\n",
    "        calculate_dice_interval: Dice 점수 계산 주기\n",
    "    \"\"\"\n",
    "    epochs_no_improve = 0\n",
    "\n",
    "    for epoch in range(start_epoch, num_epochs):\n",
    "        print(f\"Epoch {epoch + 1}/{num_epochs}\")\n",
    "\n",
    "        # Train One Epoch\n",
    "        train_loss = train_one_epoch(\n",
    "            model=model, \n",
    "            train_loader=train_loader, \n",
    "            criterion=criterion, \n",
    "            optimizer=optimizer, \n",
    "            device=device,\n",
    "            epoch=epoch,\n",
    "            accumulation_steps= accumulation_steps\n",
    "        )\n",
    "        \n",
    "        scheduler.step(train_loss)\n",
    "        # Validate One Epoch\n",
    "        val_loss, overall_mean_fbeta_score = validate_one_epoch(\n",
    "            model=model, \n",
    "            val_loader=val_loader, \n",
    "            criterion=criterion, \n",
    "            device=device, \n",
    "            epoch=epoch, \n",
    "            calculate_dice_interval=calculate_dice_interval,\n",
    "            ce_weight = ce_weight\n",
    "        )\n",
    "\n",
    "        \n",
    "        print(f\"Training Loss: {train_loss:.4f}, Validation Loss: {val_loss:.4f}, Validation hybrid_score: {overall_mean_fbeta_score:.4f}\")\n",
    "\n",
    "        if val_loss < best_val_loss and overall_mean_fbeta_score > best_val_fbeta_score:\n",
    "            best_val_loss = val_loss\n",
    "            best_val_fbeta_score = overall_mean_fbeta_score\n",
    "            epochs_no_improve = 0\n",
    "            if pretrained:\n",
    "                checkpoint_path = os.path.join(checkpoint_dir, 'best_model_pretrained.pt')\n",
    "            else:\n",
    "                checkpoint_path = os.path.join(checkpoint_dir, 'best_model.pt')\n",
    "            torch.save({\n",
    "                'epoch': epoch + 1,\n",
    "                'model_state_dict': model.state_dict(),\n",
    "                'optimizer_state_dict': optimizer.state_dict(),\n",
    "                'best_val_loss': best_val_loss,\n",
    "                'best_val_fbeta_score': best_val_fbeta_score\n",
    "            }, checkpoint_path)\n",
    "            print(f\"========================================================\")\n",
    "            print(f\"SUPER Best model saved. Loss:{best_val_loss:.4f}, Score:{best_val_fbeta_score:.4f}\")\n",
    "            print(f\"========================================================\")\n",
    "\n",
    "        # Early stopping 조건 체크\n",
    "        if val_loss >= best_val_loss and overall_mean_fbeta_score <= best_val_fbeta_score:\n",
    "            epochs_no_improve += 1\n",
    "        else:\n",
    "            epochs_no_improve = 0\n",
    "\n",
    "        if epochs_no_improve >= patience:\n",
    "            print(\"Early stopping\")\n",
    "            checkpoint_path = os.path.join(checkpoint_dir, 'last.pt')\n",
    "            torch.save({\n",
    "                'epoch': epoch + 1,\n",
    "                'model_state_dict': model.state_dict(),\n",
    "                'optimizer_state_dict': optimizer.state_dict(),\n",
    "                'best_val_loss': best_val_loss,\n",
    "                'best_val_fbeta_score': best_val_fbeta_score\n",
    "            }, checkpoint_path)\n",
    "            break\n",
    "        # if epochs_no_improve % 6 == 0 & epochs_no_improve != 0:\n",
    "        #     # 손실이 개선되지 않았으므로 lambda 감소\n",
    "        #     new_lamda = max(criterion.lamda - 0.01, 0.35)  # 최소값은 0.1로 설정\n",
    "        #     criterion.set_lamda(new_lamda)\n",
    "        #     print(f\"Validation loss did not improve. Reducing lambda to {new_lamda:.4f}\")\n",
    "\n",
    "    wandb.finish()\n"
   ]
  },
  {
   "cell_type": "code",
   "execution_count": null,
   "metadata": {},
   "outputs": [
    {
     "name": "stdout",
     "output_type": "stream",
     "text": [
      "Epoch 22/4000\n"
     ]
    },
    {
     "name": "stderr",
     "output_type": "stream",
     "text": [
      "Training: 100%|██████████| 120/120 [04:01<00:00,  2.01s/it, loss=0.193]\n",
      "Validation: 100%|██████████| 20/20 [00:18<00:00,  1.05it/s, loss=0.196]\n"
     ]
    },
    {
     "name": "stdout",
     "output_type": "stream",
     "text": [
      "Validation Dice Score\n",
      "Class 0: 0.9887, Class 1: 0.7214, Class 2: 0.0532, Class 3: 0.4907, Class 4: 0.7008, Class 5: 0.4888, Class 6: 0.9024, \n",
      "Validation F-beta Score\n",
      "Class 0: 0.9916, Class 1: 0.8627, Class 2: 0.0315, Class 3: 0.5363, Class 4: 0.6421, Class 5: 0.4269, Class 6: 0.8962, \n",
      "Validation mIoU Score\n",
      "Class 0: 0.9777, Class 1: 0.5650, Class 2: 0.0277, Class 3: 0.3261, Class 4: 0.5408, Class 5: 0.3244, Class 6: 0.8223, \n",
      "\n",
      "Overall Mean Dice Score: 0.6608\n",
      "Overall Mean F-beta Score: 0.6728\n",
      "Overall Mean IoU Score: 0.5157\n",
      "Final_score: 0.5472\n",
      "Training Loss: 0.1829, Validation Loss: 0.1890, Validation hybrid_score: 0.5472\n",
      "Epoch 23/4000\n"
     ]
    },
    {
     "name": "stderr",
     "output_type": "stream",
     "text": [
      "Training: 100%|██████████| 120/120 [03:10<00:00,  1.59s/it, loss=0.193]\n",
      "Validation: 100%|██████████| 20/20 [00:18<00:00,  1.06it/s, loss=0.197]\n"
     ]
    },
    {
     "name": "stdout",
     "output_type": "stream",
     "text": [
      "Validation Dice Score\n",
      "Class 0: 0.9889, Class 1: 0.7407, Class 2: 0.0654, Class 3: 0.4901, Class 4: 0.7348, Class 5: 0.5253, Class 6: 0.9041, \n",
      "Validation F-beta Score\n",
      "Class 0: 0.9900, Class 1: 0.8476, Class 2: 0.0384, Class 3: 0.4683, Class 4: 0.7110, Class 5: 0.5194, Class 6: 0.9014, \n",
      "Validation mIoU Score\n",
      "Class 0: 0.9781, Class 1: 0.5890, Class 2: 0.0342, Class 3: 0.3258, Class 4: 0.5822, Class 5: 0.3572, Class 6: 0.8254, \n",
      "\n",
      "Overall Mean Dice Score: 0.6790\n",
      "Overall Mean F-beta Score: 0.6895\n",
      "Overall Mean IoU Score: 0.5359\n",
      "Final_score: 0.5666\n",
      "Training Loss: 0.1843, Validation Loss: 0.1853, Validation hybrid_score: 0.5666\n",
      "========================================================\n",
      "SUPER Best model saved. Loss:0.1853, Score:0.5666\n",
      "========================================================\n",
      "Epoch 24/4000\n"
     ]
    },
    {
     "name": "stderr",
     "output_type": "stream",
     "text": [
      "Training: 100%|██████████| 120/120 [03:09<00:00,  1.58s/it, loss=0.178]\n",
      "Validation: 100%|██████████| 20/20 [00:18<00:00,  1.06it/s, loss=0.195]\n"
     ]
    },
    {
     "name": "stdout",
     "output_type": "stream",
     "text": [
      "Validation Dice Score\n",
      "Class 0: 0.9891, Class 1: 0.7622, Class 2: 0.0925, Class 3: 0.4957, Class 4: 0.7170, Class 5: 0.4791, Class 6: 0.8880, \n",
      "Validation F-beta Score\n",
      "Class 0: 0.9925, Class 1: 0.8346, Class 2: 0.0586, Class 3: 0.4734, Class 4: 0.6678, Class 5: 0.4019, Class 6: 0.8619, \n",
      "Validation mIoU Score\n",
      "Class 0: 0.9784, Class 1: 0.6169, Class 2: 0.0491, Class 3: 0.3306, Class 4: 0.5595, Class 5: 0.3164, Class 6: 0.7989, \n",
      "\n",
      "Overall Mean Dice Score: 0.6684\n",
      "Overall Mean F-beta Score: 0.6480\n",
      "Overall Mean IoU Score: 0.5245\n",
      "Final_score: 0.5492\n",
      "Training Loss: 0.1815, Validation Loss: 0.1883, Validation hybrid_score: 0.5492\n",
      "Epoch 25/4000\n"
     ]
    },
    {
     "name": "stderr",
     "output_type": "stream",
     "text": [
      "Training: 100%|██████████| 120/120 [03:07<00:00,  1.57s/it, loss=0.188]\n",
      "Validation: 100%|██████████| 20/20 [00:18<00:00,  1.06it/s, loss=0.182]\n"
     ]
    },
    {
     "name": "stdout",
     "output_type": "stream",
     "text": [
      "Validation Dice Score\n",
      "Class 0: 0.9890, Class 1: 0.7486, Class 2: 0.1094, Class 3: 0.4862, Class 4: 0.7311, Class 5: 0.5094, Class 6: 0.8759, \n",
      "Validation F-beta Score\n",
      "Class 0: 0.9912, Class 1: 0.8315, Class 2: 0.0698, Class 3: 0.4985, Class 4: 0.6808, Class 5: 0.4811, Class 6: 0.8326, \n",
      "Validation mIoU Score\n",
      "Class 0: 0.9782, Class 1: 0.5993, Class 2: 0.0586, Class 3: 0.3230, Class 4: 0.5770, Class 5: 0.3429, Class 6: 0.7794, \n",
      "\n",
      "Overall Mean Dice Score: 0.6702\n",
      "Overall Mean F-beta Score: 0.6649\n",
      "Overall Mean IoU Score: 0.5243\n",
      "Final_score: 0.5525\n",
      "Training Loss: 0.1808, Validation Loss: 0.1864, Validation hybrid_score: 0.5525\n",
      "Epoch 26/4000\n"
     ]
    },
    {
     "name": "stderr",
     "output_type": "stream",
     "text": [
      "Training: 100%|██████████| 120/120 [03:10<00:00,  1.59s/it, loss=0.182]\n",
      "Validation: 100%|██████████| 20/20 [00:18<00:00,  1.07it/s, loss=0.183]\n"
     ]
    },
    {
     "name": "stdout",
     "output_type": "stream",
     "text": [
      "Validation Dice Score\n",
      "Class 0: 0.9889, Class 1: 0.7492, Class 2: 0.1074, Class 3: 0.5141, Class 4: 0.7229, Class 5: 0.4793, Class 6: 0.9036, \n",
      "Validation F-beta Score\n",
      "Class 0: 0.9911, Class 1: 0.8432, Class 2: 0.0723, Class 3: 0.5126, Class 4: 0.7048, Class 5: 0.4083, Class 6: 0.9095, \n",
      "Validation mIoU Score\n",
      "Class 0: 0.9781, Class 1: 0.5998, Class 2: 0.0572, Class 3: 0.3474, Class 4: 0.5671, Class 5: 0.3161, Class 6: 0.8243, \n",
      "\n",
      "Overall Mean Dice Score: 0.6738\n",
      "Overall Mean F-beta Score: 0.6757\n",
      "Overall Mean IoU Score: 0.5309\n",
      "Final_score: 0.5599\n",
      "Training Loss: 0.1797, Validation Loss: 0.1866, Validation hybrid_score: 0.5599\n",
      "Epoch 27/4000\n"
     ]
    },
    {
     "name": "stderr",
     "output_type": "stream",
     "text": [
      "Training: 100%|██████████| 120/120 [03:07<00:00,  1.56s/it, loss=0.186]\n",
      "Validation: 100%|██████████| 20/20 [00:19<00:00,  1.04it/s, loss=0.186]\n"
     ]
    },
    {
     "name": "stdout",
     "output_type": "stream",
     "text": [
      "Validation Dice Score\n",
      "Class 0: 0.9891, Class 1: 0.7735, Class 2: 0.1390, Class 3: 0.5011, Class 4: 0.7204, Class 5: 0.4857, Class 6: 0.8849, \n",
      "Validation F-beta Score\n",
      "Class 0: 0.9922, Class 1: 0.8227, Class 2: 0.0937, Class 3: 0.5410, Class 4: 0.6705, Class 5: 0.4103, Class 6: 0.8482, \n",
      "Validation mIoU Score\n",
      "Class 0: 0.9783, Class 1: 0.6323, Class 2: 0.0764, Class 3: 0.3353, Class 4: 0.5637, Class 5: 0.3217, Class 6: 0.7938, \n",
      "\n",
      "Overall Mean Dice Score: 0.6731\n",
      "Overall Mean F-beta Score: 0.6585\n",
      "Overall Mean IoU Score: 0.5294\n",
      "Final_score: 0.5552\n",
      "Training Loss: 0.1807, Validation Loss: 0.1872, Validation hybrid_score: 0.5552\n",
      "Epoch 28/4000\n"
     ]
    },
    {
     "name": "stderr",
     "output_type": "stream",
     "text": [
      "Training: 100%|██████████| 120/120 [03:08<00:00,  1.57s/it, loss=0.183]\n",
      "Validation: 100%|██████████| 20/20 [00:19<00:00,  1.05it/s, loss=0.189]\n"
     ]
    },
    {
     "name": "stdout",
     "output_type": "stream",
     "text": [
      "Validation Dice Score\n",
      "Class 0: 0.9884, Class 1: 0.7582, Class 2: 0.1305, Class 3: 0.4995, Class 4: 0.7224, Class 5: 0.4972, Class 6: 0.8866, \n",
      "Validation F-beta Score\n",
      "Class 0: 0.9898, Class 1: 0.8652, Class 2: 0.0868, Class 3: 0.4913, Class 4: 0.7080, Class 5: 0.4648, Class 6: 0.8570, \n",
      "Validation mIoU Score\n",
      "Class 0: 0.9770, Class 1: 0.6114, Class 2: 0.0708, Class 3: 0.3344, Class 4: 0.5660, Class 5: 0.3318, Class 6: 0.7966, \n",
      "\n",
      "Overall Mean Dice Score: 0.6728\n",
      "Overall Mean F-beta Score: 0.6772\n",
      "Overall Mean IoU Score: 0.5280\n",
      "Final_score: 0.5579\n",
      "Training Loss: 0.1786, Validation Loss: 0.1884, Validation hybrid_score: 0.5579\n",
      "Epoch 29/4000\n"
     ]
    },
    {
     "name": "stderr",
     "output_type": "stream",
     "text": [
      "Training: 100%|██████████| 120/120 [03:09<00:00,  1.58s/it, loss=0.179]\n",
      "Validation: 100%|██████████| 20/20 [00:18<00:00,  1.09it/s, loss=0.19] \n"
     ]
    },
    {
     "name": "stdout",
     "output_type": "stream",
     "text": [
      "Validation Dice Score\n",
      "Class 0: 0.9882, Class 1: 0.7188, Class 2: 0.1661, Class 3: 0.5107, Class 4: 0.7271, Class 5: 0.4863, Class 6: 0.9028, \n",
      "Validation F-beta Score\n",
      "Class 0: 0.9885, Class 1: 0.8858, Class 2: 0.1222, Class 3: 0.5728, Class 4: 0.7589, Class 5: 0.4200, Class 6: 0.9217, \n",
      "Validation mIoU Score\n",
      "Class 0: 0.9767, Class 1: 0.5624, Class 2: 0.0924, Class 3: 0.3437, Class 4: 0.5721, Class 5: 0.3225, Class 6: 0.8234, \n",
      "\n",
      "Overall Mean Dice Score: 0.6692\n",
      "Overall Mean F-beta Score: 0.7119\n",
      "Overall Mean IoU Score: 0.5248\n",
      "Final_score: 0.5622\n",
      "Training Loss: 0.1788, Validation Loss: 0.1899, Validation hybrid_score: 0.5622\n",
      "Epoch 30/4000\n"
     ]
    },
    {
     "name": "stderr",
     "output_type": "stream",
     "text": [
      "Training: 100%|██████████| 120/120 [03:02<00:00,  1.52s/it, loss=0.173]\n",
      "Validation: 100%|██████████| 20/20 [00:18<00:00,  1.09it/s, loss=0.184]\n"
     ]
    },
    {
     "name": "stdout",
     "output_type": "stream",
     "text": [
      "Validation Dice Score\n",
      "Class 0: 0.9887, Class 1: 0.7535, Class 2: 0.1613, Class 3: 0.4563, Class 4: 0.7447, Class 5: 0.4278, Class 6: 0.8931, \n",
      "Validation F-beta Score\n",
      "Class 0: 0.9899, Class 1: 0.8527, Class 2: 0.1290, Class 3: 0.5984, Class 4: 0.7711, Class 5: 0.3287, Class 6: 0.8811, \n",
      "Validation mIoU Score\n",
      "Class 0: 0.9776, Class 1: 0.6050, Class 2: 0.0888, Class 3: 0.2964, Class 4: 0.5938, Class 5: 0.2734, Class 6: 0.8069, \n",
      "\n",
      "Overall Mean Dice Score: 0.6551\n",
      "Overall Mean F-beta Score: 0.6864\n",
      "Overall Mean IoU Score: 0.5151\n",
      "Final_score: 0.5494\n",
      "Training Loss: 0.1765, Validation Loss: 0.1896, Validation hybrid_score: 0.5494\n",
      "Epoch 31/4000\n"
     ]
    },
    {
     "name": "stderr",
     "output_type": "stream",
     "text": [
      "Training: 100%|██████████| 120/120 [02:57<00:00,  1.48s/it, loss=0.189]\n",
      "Validation: 100%|██████████| 20/20 [00:17<00:00,  1.13it/s, loss=0.186]\n"
     ]
    },
    {
     "name": "stdout",
     "output_type": "stream",
     "text": [
      "Validation Dice Score\n",
      "Class 0: 0.9889, Class 1: 0.7496, Class 2: 0.1646, Class 3: 0.4875, Class 4: 0.7409, Class 5: 0.5267, Class 6: 0.9086, \n",
      "Validation F-beta Score\n",
      "Class 0: 0.9886, Class 1: 0.8664, Class 2: 0.1407, Class 3: 0.5637, Class 4: 0.7646, Class 5: 0.4899, Class 6: 0.9333, \n",
      "Validation mIoU Score\n",
      "Class 0: 0.9780, Class 1: 0.6011, Class 2: 0.0908, Class 3: 0.3235, Class 4: 0.5892, Class 5: 0.3587, Class 6: 0.8326, \n",
      "\n",
      "Overall Mean Dice Score: 0.6827\n",
      "Overall Mean F-beta Score: 0.7236\n",
      "Overall Mean IoU Score: 0.5410\n",
      "Final_score: 0.5775\n",
      "Training Loss: 0.1764, Validation Loss: 0.1842, Validation hybrid_score: 0.5775\n",
      "========================================================\n",
      "SUPER Best model saved. Loss:0.1842, Score:0.5775\n",
      "========================================================\n",
      "Epoch 32/4000\n"
     ]
    },
    {
     "name": "stderr",
     "output_type": "stream",
     "text": [
      "Training: 100%|██████████| 120/120 [02:56<00:00,  1.47s/it, loss=0.193]\n",
      "Validation: 100%|██████████| 20/20 [00:17<00:00,  1.13it/s, loss=0.188]\n"
     ]
    },
    {
     "name": "stdout",
     "output_type": "stream",
     "text": [
      "Validation Dice Score\n",
      "Class 0: 0.9879, Class 1: 0.7532, Class 2: 0.2132, Class 3: 0.4796, Class 4: 0.7456, Class 5: 0.5130, Class 6: 0.8997, \n",
      "Validation F-beta Score\n",
      "Class 0: 0.9884, Class 1: 0.8696, Class 2: 0.1899, Class 3: 0.5774, Class 4: 0.7675, Class 5: 0.4476, Class 6: 0.8908, \n",
      "Validation mIoU Score\n",
      "Class 0: 0.9762, Class 1: 0.6047, Class 2: 0.1214, Class 3: 0.3165, Class 4: 0.5947, Class 5: 0.3459, Class 6: 0.8179, \n",
      "\n",
      "Overall Mean Dice Score: 0.6782\n",
      "Overall Mean F-beta Score: 0.7106\n",
      "Overall Mean IoU Score: 0.5359\n",
      "Final_score: 0.5709\n",
      "Training Loss: 0.1763, Validation Loss: 0.1893, Validation hybrid_score: 0.5709\n",
      "Epoch 33/4000\n"
     ]
    },
    {
     "name": "stderr",
     "output_type": "stream",
     "text": [
      "Training: 100%|██████████| 120/120 [02:56<00:00,  1.47s/it, loss=0.18] \n",
      "Validation: 100%|██████████| 20/20 [00:17<00:00,  1.13it/s, loss=0.181]\n"
     ]
    },
    {
     "name": "stdout",
     "output_type": "stream",
     "text": [
      "Validation Dice Score\n",
      "Class 0: 0.9890, Class 1: 0.7614, Class 2: 0.1689, Class 3: 0.5171, Class 4: 0.7408, Class 5: 0.4712, Class 6: 0.8961, \n",
      "Validation F-beta Score\n",
      "Class 0: 0.9906, Class 1: 0.8736, Class 2: 0.1380, Class 3: 0.5404, Class 4: 0.7554, Class 5: 0.3868, Class 6: 0.8688, \n",
      "Validation mIoU Score\n",
      "Class 0: 0.9783, Class 1: 0.6157, Class 2: 0.0939, Class 3: 0.3500, Class 4: 0.5887, Class 5: 0.3095, Class 6: 0.8121, \n",
      "\n",
      "Overall Mean Dice Score: 0.6773\n",
      "Overall Mean F-beta Score: 0.6850\n",
      "Overall Mean IoU Score: 0.5352\n",
      "Final_score: 0.5652\n",
      "Training Loss: 0.1774, Validation Loss: 0.1853, Validation hybrid_score: 0.5652\n",
      "Epoch 34/4000\n"
     ]
    },
    {
     "name": "stderr",
     "output_type": "stream",
     "text": [
      "Training: 100%|██████████| 120/120 [02:56<00:00,  1.47s/it, loss=0.188]\n",
      "Validation: 100%|██████████| 20/20 [00:17<00:00,  1.13it/s, loss=0.182]\n"
     ]
    },
    {
     "name": "stdout",
     "output_type": "stream",
     "text": [
      "Validation Dice Score\n",
      "Class 0: 0.9888, Class 1: 0.7775, Class 2: 0.1346, Class 3: 0.4950, Class 4: 0.7311, Class 5: 0.4356, Class 6: 0.8866, \n",
      "Validation F-beta Score\n",
      "Class 0: 0.9916, Class 1: 0.8552, Class 2: 0.1001, Class 3: 0.5149, Class 4: 0.7224, Class 5: 0.3348, Class 6: 0.8546, \n",
      "Validation mIoU Score\n",
      "Class 0: 0.9778, Class 1: 0.6364, Class 2: 0.0736, Class 3: 0.3296, Class 4: 0.5770, Class 5: 0.2794, Class 6: 0.7967, \n",
      "\n",
      "Overall Mean Dice Score: 0.6651\n",
      "Overall Mean F-beta Score: 0.6564\n",
      "Overall Mean IoU Score: 0.5238\n",
      "Final_score: 0.5503\n",
      "Training Loss: 0.1759, Validation Loss: 0.1885, Validation hybrid_score: 0.5503\n",
      "Epoch 35/4000\n"
     ]
    },
    {
     "name": "stderr",
     "output_type": "stream",
     "text": [
      "Training: 100%|██████████| 120/120 [02:56<00:00,  1.47s/it, loss=0.181]\n",
      "Validation: 100%|██████████| 20/20 [00:17<00:00,  1.13it/s, loss=0.189]\n"
     ]
    },
    {
     "name": "stdout",
     "output_type": "stream",
     "text": [
      "Validation Dice Score\n",
      "Class 0: 0.9892, Class 1: 0.7336, Class 2: 0.1453, Class 3: 0.4782, Class 4: 0.7407, Class 5: 0.4877, Class 6: 0.8807, \n",
      "Validation F-beta Score\n",
      "Class 0: 0.9903, Class 1: 0.8634, Class 2: 0.1288, Class 3: 0.5773, Class 4: 0.7544, Class 5: 0.4019, Class 6: 0.8560, \n",
      "Validation mIoU Score\n",
      "Class 0: 0.9786, Class 1: 0.5803, Class 2: 0.0792, Class 3: 0.3147, Class 4: 0.5888, Class 5: 0.3229, Class 6: 0.7869, \n",
      "\n",
      "Overall Mean Dice Score: 0.6642\n",
      "Overall Mean F-beta Score: 0.6906\n",
      "Overall Mean IoU Score: 0.5187\n",
      "Final_score: 0.5531\n",
      "Training Loss: 0.1751, Validation Loss: 0.1857, Validation hybrid_score: 0.5531\n",
      "Epoch 36/4000\n"
     ]
    },
    {
     "name": "stderr",
     "output_type": "stream",
     "text": [
      "Training: 100%|██████████| 120/120 [02:56<00:00,  1.47s/it, loss=0.191]\n",
      "Validation: 100%|██████████| 20/20 [00:17<00:00,  1.12it/s, loss=0.19] \n"
     ]
    },
    {
     "name": "stdout",
     "output_type": "stream",
     "text": [
      "Validation Dice Score\n",
      "Class 0: 0.9879, Class 1: 0.7281, Class 2: 0.2032, Class 3: 0.5028, Class 4: 0.7403, Class 5: 0.5123, Class 6: 0.8985, \n",
      "Validation F-beta Score\n",
      "Class 0: 0.9862, Class 1: 0.8725, Class 2: 0.2049, Class 3: 0.6221, Class 4: 0.8096, Class 5: 0.4748, Class 6: 0.9280, \n",
      "Validation mIoU Score\n",
      "Class 0: 0.9760, Class 1: 0.5737, Class 2: 0.1146, Class 3: 0.3365, Class 4: 0.5883, Class 5: 0.3450, Class 6: 0.8159, \n",
      "\n",
      "Overall Mean Dice Score: 0.6764\n",
      "Overall Mean F-beta Score: 0.7414\n",
      "Overall Mean IoU Score: 0.5319\n",
      "Final_score: 0.5738\n",
      "Training Loss: 0.1751, Validation Loss: 0.1893, Validation hybrid_score: 0.5738\n",
      "Epoch 37/4000\n"
     ]
    },
    {
     "name": "stderr",
     "output_type": "stream",
     "text": [
      "Training: 100%|██████████| 120/120 [02:57<00:00,  1.48s/it, loss=0.176]\n",
      "Validation: 100%|██████████| 20/20 [00:17<00:00,  1.13it/s, loss=0.188]\n"
     ]
    },
    {
     "name": "stdout",
     "output_type": "stream",
     "text": [
      "Validation Dice Score\n",
      "Class 0: 0.9884, Class 1: 0.7619, Class 2: 0.2334, Class 3: 0.5105, Class 4: 0.7489, Class 5: 0.5332, Class 6: 0.9105, \n",
      "Validation F-beta Score\n",
      "Class 0: 0.9876, Class 1: 0.8464, Class 2: 0.2230, Class 3: 0.6235, Class 4: 0.7660, Class 5: 0.5279, Class 6: 0.9129, \n",
      "Validation mIoU Score\n",
      "Class 0: 0.9770, Class 1: 0.6161, Class 2: 0.1342, Class 3: 0.3441, Class 4: 0.5991, Class 5: 0.3644, Class 6: 0.8359, \n",
      "\n",
      "Overall Mean Dice Score: 0.6930\n",
      "Overall Mean F-beta Score: 0.7353\n",
      "Overall Mean IoU Score: 0.5519\n",
      "Final_score: 0.5886\n",
      "Training Loss: 0.1747, Validation Loss: 0.1843, Validation hybrid_score: 0.5886\n",
      "Epoch 38/4000\n"
     ]
    },
    {
     "name": "stderr",
     "output_type": "stream",
     "text": [
      "Training: 100%|██████████| 120/120 [02:57<00:00,  1.48s/it, loss=0.182]\n",
      "Validation: 100%|██████████| 20/20 [00:17<00:00,  1.13it/s, loss=0.189]\n"
     ]
    },
    {
     "name": "stdout",
     "output_type": "stream",
     "text": [
      "Validation Dice Score\n",
      "Class 0: 0.9878, Class 1: 0.7650, Class 2: 0.2196, Class 3: 0.4945, Class 4: 0.7456, Class 5: 0.5037, Class 6: 0.9094, \n",
      "Validation F-beta Score\n",
      "Class 0: 0.9866, Class 1: 0.8645, Class 2: 0.2026, Class 3: 0.5354, Class 4: 0.7879, Class 5: 0.5013, Class 6: 0.9107, \n",
      "Validation mIoU Score\n",
      "Class 0: 0.9759, Class 1: 0.6201, Class 2: 0.1267, Class 3: 0.3297, Class 4: 0.5949, Class 5: 0.3374, Class 6: 0.8341, \n",
      "\n",
      "Overall Mean Dice Score: 0.6837\n",
      "Overall Mean F-beta Score: 0.7200\n",
      "Overall Mean IoU Score: 0.5432\n",
      "Final_score: 0.5786\n",
      "Training Loss: 0.1735, Validation Loss: 0.1883, Validation hybrid_score: 0.5786\n",
      "Epoch 39/4000\n"
     ]
    },
    {
     "name": "stderr",
     "output_type": "stream",
     "text": [
      "Training: 100%|██████████| 120/120 [02:57<00:00,  1.48s/it, loss=0.171]\n",
      "Validation: 100%|██████████| 20/20 [00:17<00:00,  1.12it/s, loss=0.185]\n"
     ]
    },
    {
     "name": "stdout",
     "output_type": "stream",
     "text": [
      "Validation Dice Score\n",
      "Class 0: 0.9891, Class 1: 0.7626, Class 2: 0.2026, Class 3: 0.5053, Class 4: 0.7574, Class 5: 0.4967, Class 6: 0.9104, \n",
      "Validation F-beta Score\n",
      "Class 0: 0.9899, Class 1: 0.8718, Class 2: 0.1658, Class 3: 0.5307, Class 4: 0.7479, Class 5: 0.4672, Class 6: 0.9075, \n",
      "Validation mIoU Score\n",
      "Class 0: 0.9784, Class 1: 0.6172, Class 2: 0.1157, Class 3: 0.3391, Class 4: 0.6101, Class 5: 0.3310, Class 6: 0.8356, \n",
      "\n",
      "Overall Mean Dice Score: 0.6865\n",
      "Overall Mean F-beta Score: 0.7050\n",
      "Overall Mean IoU Score: 0.5466\n",
      "Final_score: 0.5783\n",
      "Training Loss: 0.1747, Validation Loss: 0.1838, Validation hybrid_score: 0.5783\n",
      "========================================================\n",
      "SUPER Best model saved. Loss:0.1838, Score:0.5783\n",
      "========================================================\n",
      "Epoch 40/4000\n"
     ]
    },
    {
     "name": "stderr",
     "output_type": "stream",
     "text": [
      "Training: 100%|██████████| 120/120 [02:57<00:00,  1.48s/it, loss=0.186]\n",
      "Validation: 100%|██████████| 20/20 [00:17<00:00,  1.12it/s, loss=0.187]\n"
     ]
    },
    {
     "name": "stdout",
     "output_type": "stream",
     "text": [
      "Validation Dice Score\n",
      "Class 0: 0.9880, Class 1: 0.7432, Class 2: 0.2314, Class 3: 0.5065, Class 4: 0.7364, Class 5: 0.4915, Class 6: 0.9084, \n",
      "Validation F-beta Score\n",
      "Class 0: 0.9864, Class 1: 0.8785, Class 2: 0.2159, Class 3: 0.6136, Class 4: 0.8097, Class 5: 0.4673, Class 6: 0.9036, \n",
      "Validation mIoU Score\n",
      "Class 0: 0.9764, Class 1: 0.5923, Class 2: 0.1342, Class 3: 0.3401, Class 4: 0.5835, Class 5: 0.3276, Class 6: 0.8323, \n",
      "\n",
      "Overall Mean Dice Score: 0.6772\n",
      "Overall Mean F-beta Score: 0.7345\n",
      "Overall Mean IoU Score: 0.5351\n",
      "Final_score: 0.5750\n",
      "Training Loss: 0.1732, Validation Loss: 0.1877, Validation hybrid_score: 0.5750\n",
      "Epoch 41/4000\n"
     ]
    },
    {
     "name": "stderr",
     "output_type": "stream",
     "text": [
      "Training: 100%|██████████| 120/120 [02:56<00:00,  1.47s/it, loss=0.177]\n",
      "Validation: 100%|██████████| 20/20 [00:17<00:00,  1.12it/s, loss=0.178]\n"
     ]
    },
    {
     "name": "stdout",
     "output_type": "stream",
     "text": [
      "Validation Dice Score\n",
      "Class 0: 0.9876, Class 1: 0.7539, Class 2: 0.2101, Class 3: 0.4781, Class 4: 0.7520, Class 5: 0.5144, Class 6: 0.9069, \n",
      "Validation F-beta Score\n",
      "Class 0: 0.9852, Class 1: 0.8840, Class 2: 0.2632, Class 3: 0.6256, Class 4: 0.7788, Class 5: 0.5496, Class 6: 0.9299, \n",
      "Validation mIoU Score\n",
      "Class 0: 0.9756, Class 1: 0.6056, Class 2: 0.1195, Class 3: 0.3147, Class 4: 0.6034, Class 5: 0.3476, Class 6: 0.8299, \n",
      "\n",
      "Overall Mean Dice Score: 0.6811\n",
      "Overall Mean F-beta Score: 0.7536\n",
      "Overall Mean IoU Score: 0.5402\n",
      "Final_score: 0.5829\n",
      "Training Loss: 0.1727, Validation Loss: 0.1881, Validation hybrid_score: 0.5829\n",
      "Epoch 42/4000\n"
     ]
    },
    {
     "name": "stderr",
     "output_type": "stream",
     "text": [
      "Training: 100%|██████████| 120/120 [02:57<00:00,  1.48s/it, loss=0.174]\n",
      "Validation: 100%|██████████| 20/20 [00:17<00:00,  1.12it/s, loss=0.181]\n"
     ]
    },
    {
     "name": "stdout",
     "output_type": "stream",
     "text": [
      "Validation Dice Score\n",
      "Class 0: 0.9875, Class 1: 0.7532, Class 2: 0.2680, Class 3: 0.5013, Class 4: 0.7484, Class 5: 0.5091, Class 6: 0.8857, \n",
      "Validation F-beta Score\n",
      "Class 0: 0.9848, Class 1: 0.8765, Class 2: 0.2613, Class 3: 0.5829, Class 4: 0.8197, Class 5: 0.5307, Class 6: 0.9086, \n",
      "Validation mIoU Score\n",
      "Class 0: 0.9754, Class 1: 0.6047, Class 2: 0.1563, Class 3: 0.3353, Class 4: 0.5986, Class 5: 0.3426, Class 6: 0.7952, \n",
      "\n",
      "Overall Mean Dice Score: 0.6795\n",
      "Overall Mean F-beta Score: 0.7437\n",
      "Overall Mean IoU Score: 0.5353\n",
      "Final_score: 0.5770\n",
      "Training Loss: 0.1730, Validation Loss: 0.1881, Validation hybrid_score: 0.5770\n",
      "Epoch 43/4000\n"
     ]
    },
    {
     "name": "stderr",
     "output_type": "stream",
     "text": [
      "Training: 100%|██████████| 120/120 [02:56<00:00,  1.47s/it, loss=0.179]\n",
      "Validation: 100%|██████████| 20/20 [00:17<00:00,  1.13it/s, loss=0.178]\n"
     ]
    },
    {
     "name": "stdout",
     "output_type": "stream",
     "text": [
      "Validation Dice Score\n",
      "Class 0: 0.9891, Class 1: 0.7744, Class 2: 0.1694, Class 3: 0.5150, Class 4: 0.7492, Class 5: 0.4979, Class 6: 0.9173, \n",
      "Validation F-beta Score\n",
      "Class 0: 0.9900, Class 1: 0.8723, Class 2: 0.1541, Class 3: 0.5546, Class 4: 0.7696, Class 5: 0.4270, Class 6: 0.9122, \n",
      "Validation mIoU Score\n",
      "Class 0: 0.9784, Class 1: 0.6323, Class 2: 0.0947, Class 3: 0.3478, Class 4: 0.5996, Class 5: 0.3326, Class 6: 0.8475, \n",
      "\n",
      "Overall Mean Dice Score: 0.6908\n",
      "Overall Mean F-beta Score: 0.7071\n",
      "Overall Mean IoU Score: 0.5519\n",
      "Final_score: 0.5830\n",
      "Training Loss: 0.1748, Validation Loss: 0.1836, Validation hybrid_score: 0.5830\n",
      "========================================================\n",
      "SUPER Best model saved. Loss:0.1836, Score:0.5830\n",
      "========================================================\n",
      "Epoch 44/4000\n"
     ]
    },
    {
     "name": "stderr",
     "output_type": "stream",
     "text": [
      "Training: 100%|██████████| 120/120 [02:57<00:00,  1.48s/it, loss=0.177]\n",
      "Validation: 100%|██████████| 20/20 [00:17<00:00,  1.13it/s, loss=0.195]\n"
     ]
    },
    {
     "name": "stdout",
     "output_type": "stream",
     "text": [
      "Validation Dice Score\n",
      "Class 0: 0.9882, Class 1: 0.7535, Class 2: 0.2575, Class 3: 0.5155, Class 4: 0.7373, Class 5: 0.5150, Class 6: 0.8824, \n",
      "Validation F-beta Score\n",
      "Class 0: 0.9867, Class 1: 0.8595, Class 2: 0.2749, Class 3: 0.5854, Class 4: 0.7868, Class 5: 0.5159, Class 6: 0.8528, \n",
      "Validation mIoU Score\n",
      "Class 0: 0.9766, Class 1: 0.6054, Class 2: 0.1499, Class 3: 0.3480, Class 4: 0.5848, Class 5: 0.3479, Class 6: 0.7900, \n",
      "\n",
      "Overall Mean Dice Score: 0.6808\n",
      "Overall Mean F-beta Score: 0.7201\n",
      "Overall Mean IoU Score: 0.5352\n",
      "Final_score: 0.5722\n",
      "Training Loss: 0.1746, Validation Loss: 0.1869, Validation hybrid_score: 0.5722\n",
      "Epoch 45/4000\n"
     ]
    },
    {
     "name": "stderr",
     "output_type": "stream",
     "text": [
      "Training: 100%|██████████| 120/120 [02:56<00:00,  1.47s/it, loss=0.176]\n",
      "Validation: 100%|██████████| 20/20 [00:17<00:00,  1.13it/s, loss=0.181]\n"
     ]
    },
    {
     "name": "stdout",
     "output_type": "stream",
     "text": [
      "Validation Dice Score\n",
      "Class 0: 0.9887, Class 1: 0.7615, Class 2: 0.1926, Class 3: 0.5247, Class 4: 0.7491, Class 5: 0.5112, Class 6: 0.9138, \n",
      "Validation F-beta Score\n",
      "Class 0: 0.9884, Class 1: 0.8758, Class 2: 0.1753, Class 3: 0.5683, Class 4: 0.7744, Class 5: 0.4862, Class 6: 0.9227, \n",
      "Validation mIoU Score\n",
      "Class 0: 0.9777, Class 1: 0.6154, Class 2: 0.1100, Class 3: 0.3567, Class 4: 0.5992, Class 5: 0.3442, Class 6: 0.8414, \n",
      "\n",
      "Overall Mean Dice Score: 0.6920\n",
      "Overall Mean F-beta Score: 0.7255\n",
      "Overall Mean IoU Score: 0.5514\n",
      "Final_score: 0.5862\n",
      "Training Loss: 0.1738, Validation Loss: 0.1848, Validation hybrid_score: 0.5862\n",
      "Epoch 46/4000\n"
     ]
    },
    {
     "name": "stderr",
     "output_type": "stream",
     "text": [
      "Training: 100%|██████████| 120/120 [02:57<00:00,  1.48s/it, loss=0.186]\n",
      "Validation: 100%|██████████| 20/20 [00:17<00:00,  1.13it/s, loss=0.184]\n"
     ]
    },
    {
     "name": "stdout",
     "output_type": "stream",
     "text": [
      "Validation Dice Score\n",
      "Class 0: 0.9889, Class 1: 0.7335, Class 2: 0.2568, Class 3: 0.5100, Class 4: 0.7493, Class 5: 0.5211, Class 6: 0.8579, \n",
      "Validation F-beta Score\n",
      "Class 0: 0.9890, Class 1: 0.8536, Class 2: 0.2434, Class 3: 0.5832, Class 4: 0.7620, Class 5: 0.4983, Class 6: 0.8007, \n",
      "Validation mIoU Score\n",
      "Class 0: 0.9781, Class 1: 0.5807, Class 2: 0.1493, Class 3: 0.3433, Class 4: 0.5995, Class 5: 0.3533, Class 6: 0.7514, \n",
      "\n",
      "Overall Mean Dice Score: 0.6744\n",
      "Overall Mean F-beta Score: 0.6996\n",
      "Overall Mean IoU Score: 0.5256\n",
      "Final_score: 0.5604\n",
      "Training Loss: 0.1737, Validation Loss: 0.1852, Validation hybrid_score: 0.5604\n",
      "Epoch 47/4000\n"
     ]
    },
    {
     "name": "stderr",
     "output_type": "stream",
     "text": [
      "Training: 100%|██████████| 120/120 [02:56<00:00,  1.47s/it, loss=0.184]\n",
      "Validation: 100%|██████████| 20/20 [00:17<00:00,  1.13it/s, loss=0.18] \n"
     ]
    },
    {
     "name": "stdout",
     "output_type": "stream",
     "text": [
      "Validation Dice Score\n",
      "Class 0: 0.9884, Class 1: 0.7381, Class 2: 0.1928, Class 3: 0.4972, Class 4: 0.7471, Class 5: 0.5110, Class 6: 0.9103, \n",
      "Validation F-beta Score\n",
      "Class 0: 0.9870, Class 1: 0.8838, Class 2: 0.2509, Class 3: 0.6325, Class 4: 0.7865, Class 5: 0.4730, Class 6: 0.9500, \n",
      "Validation mIoU Score\n",
      "Class 0: 0.9771, Class 1: 0.5859, Class 2: 0.1079, Class 3: 0.3316, Class 4: 0.5974, Class 5: 0.3445, Class 6: 0.8358, \n",
      "\n",
      "Overall Mean Dice Score: 0.6807\n",
      "Overall Mean F-beta Score: 0.7452\n",
      "Overall Mean IoU Score: 0.5391\n",
      "Final_score: 0.5803\n",
      "Training Loss: 0.1736, Validation Loss: 0.1861, Validation hybrid_score: 0.5803\n",
      "Epoch 48/4000\n"
     ]
    },
    {
     "name": "stderr",
     "output_type": "stream",
     "text": [
      "Training: 100%|██████████| 120/120 [02:57<00:00,  1.48s/it, loss=0.185]\n",
      "Validation: 100%|██████████| 20/20 [00:17<00:00,  1.13it/s, loss=0.189]\n"
     ]
    },
    {
     "name": "stdout",
     "output_type": "stream",
     "text": [
      "Validation Dice Score\n",
      "Class 0: 0.9887, Class 1: 0.7673, Class 2: 0.2183, Class 3: 0.5360, Class 4: 0.7554, Class 5: 0.5190, Class 6: 0.8842, \n",
      "Validation F-beta Score\n",
      "Class 0: 0.9898, Class 1: 0.8751, Class 2: 0.2228, Class 3: 0.5998, Class 4: 0.7622, Class 5: 0.4528, Class 6: 0.8509, \n",
      "Validation mIoU Score\n",
      "Class 0: 0.9777, Class 1: 0.6232, Class 2: 0.1257, Class 3: 0.3678, Class 4: 0.6076, Class 5: 0.3513, Class 6: 0.7927, \n",
      "\n",
      "Overall Mean Dice Score: 0.6924\n",
      "Overall Mean F-beta Score: 0.7082\n",
      "Overall Mean IoU Score: 0.5485\n",
      "Final_score: 0.5804\n",
      "Training Loss: 0.1718, Validation Loss: 0.1842, Validation hybrid_score: 0.5804\n",
      "Epoch 49/4000\n"
     ]
    },
    {
     "name": "stderr",
     "output_type": "stream",
     "text": [
      "Training: 100%|██████████| 120/120 [02:57<00:00,  1.48s/it, loss=0.173]\n",
      "Validation: 100%|██████████| 20/20 [00:17<00:00,  1.14it/s, loss=0.182]\n"
     ]
    },
    {
     "name": "stdout",
     "output_type": "stream",
     "text": [
      "Validation Dice Score\n",
      "Class 0: 0.9884, Class 1: 0.7473, Class 2: 0.2154, Class 3: 0.5119, Class 4: 0.7530, Class 5: 0.5053, Class 6: 0.8917, \n",
      "Validation F-beta Score\n",
      "Class 0: 0.9881, Class 1: 0.8674, Class 2: 0.2196, Class 3: 0.5945, Class 4: 0.7835, Class 5: 0.4660, Class 6: 0.8717, \n",
      "Validation mIoU Score\n",
      "Class 0: 0.9771, Class 1: 0.5972, Class 2: 0.1231, Class 3: 0.3456, Class 4: 0.6044, Class 5: 0.3392, Class 6: 0.8049, \n",
      "\n",
      "Overall Mean Dice Score: 0.6818\n",
      "Overall Mean F-beta Score: 0.7166\n",
      "Overall Mean IoU Score: 0.5383\n",
      "Final_score: 0.5739\n",
      "Training Loss: 0.1712, Validation Loss: 0.1865, Validation hybrid_score: 0.5739\n",
      "Epoch 50/4000\n"
     ]
    },
    {
     "name": "stderr",
     "output_type": "stream",
     "text": [
      "Training: 100%|██████████| 120/120 [02:57<00:00,  1.48s/it, loss=0.186]\n",
      "Validation: 100%|██████████| 20/20 [00:17<00:00,  1.13it/s, loss=0.187]\n"
     ]
    },
    {
     "name": "stdout",
     "output_type": "stream",
     "text": [
      "Validation Dice Score\n",
      "Class 0: 0.9883, Class 1: 0.7578, Class 2: 0.1896, Class 3: 0.5266, Class 4: 0.7433, Class 5: 0.5065, Class 6: 0.8972, \n",
      "Validation F-beta Score\n",
      "Class 0: 0.9883, Class 1: 0.8711, Class 2: 0.1783, Class 3: 0.5646, Class 4: 0.7880, Class 5: 0.4549, Class 6: 0.8722, \n",
      "Validation mIoU Score\n",
      "Class 0: 0.9769, Class 1: 0.6116, Class 2: 0.1064, Class 3: 0.3583, Class 4: 0.5919, Class 5: 0.3409, Class 6: 0.8136, \n",
      "\n",
      "Overall Mean Dice Score: 0.6863\n",
      "Overall Mean F-beta Score: 0.7101\n",
      "Overall Mean IoU Score: 0.5433\n",
      "Final_score: 0.5766\n",
      "Training Loss: 0.1718, Validation Loss: 0.1883, Validation hybrid_score: 0.5766\n",
      "Epoch 51/4000\n"
     ]
    },
    {
     "name": "stderr",
     "output_type": "stream",
     "text": [
      "Training: 100%|██████████| 120/120 [02:57<00:00,  1.48s/it, loss=0.181]\n",
      "Validation: 100%|██████████| 20/20 [00:17<00:00,  1.13it/s, loss=0.184]\n"
     ]
    },
    {
     "name": "stdout",
     "output_type": "stream",
     "text": [
      "Validation Dice Score\n",
      "Class 0: 0.9888, Class 1: 0.7656, Class 2: 0.2132, Class 3: 0.5051, Class 4: 0.7539, Class 5: 0.5049, Class 6: 0.8783, \n",
      "Validation F-beta Score\n",
      "Class 0: 0.9885, Class 1: 0.8556, Class 2: 0.2288, Class 3: 0.6102, Class 4: 0.7860, Class 5: 0.4595, Class 6: 0.8435, \n",
      "Validation mIoU Score\n",
      "Class 0: 0.9778, Class 1: 0.6207, Class 2: 0.1217, Class 3: 0.3385, Class 4: 0.6056, Class 5: 0.3383, Class 6: 0.7833, \n",
      "\n",
      "Overall Mean Dice Score: 0.6816\n",
      "Overall Mean F-beta Score: 0.7110\n",
      "Overall Mean IoU Score: 0.5373\n",
      "Final_score: 0.5720\n",
      "Training Loss: 0.1707, Validation Loss: 0.1857, Validation hybrid_score: 0.5720\n",
      "Epoch 52/4000\n"
     ]
    },
    {
     "name": "stderr",
     "output_type": "stream",
     "text": [
      "Training: 100%|██████████| 120/120 [02:56<00:00,  1.47s/it, loss=0.173]\n",
      "Validation: 100%|██████████| 20/20 [00:17<00:00,  1.12it/s, loss=0.189]\n"
     ]
    },
    {
     "name": "stdout",
     "output_type": "stream",
     "text": [
      "Validation Dice Score\n",
      "Class 0: 0.9882, Class 1: 0.7556, Class 2: 0.1795, Class 3: 0.5038, Class 4: 0.7473, Class 5: 0.5337, Class 6: 0.8861, \n",
      "Validation F-beta Score\n",
      "Class 0: 0.9877, Class 1: 0.8852, Class 2: 0.1681, Class 3: 0.5993, Class 4: 0.7742, Class 5: 0.5058, Class 6: 0.8626, \n",
      "Validation mIoU Score\n",
      "Class 0: 0.9766, Class 1: 0.6079, Class 2: 0.1011, Class 3: 0.3374, Class 4: 0.5971, Class 5: 0.3650, Class 6: 0.7957, \n",
      "\n",
      "Overall Mean Dice Score: 0.6853\n",
      "Overall Mean F-beta Score: 0.7254\n",
      "Overall Mean IoU Score: 0.5406\n",
      "Final_score: 0.5776\n",
      "Training Loss: 0.1709, Validation Loss: 0.1882, Validation hybrid_score: 0.5776\n",
      "Epoch 53/4000\n"
     ]
    },
    {
     "name": "stderr",
     "output_type": "stream",
     "text": [
      "Training: 100%|██████████| 120/120 [02:56<00:00,  1.47s/it, loss=0.18] \n",
      "Validation: 100%|██████████| 20/20 [00:17<00:00,  1.13it/s, loss=0.189]\n"
     ]
    },
    {
     "name": "stdout",
     "output_type": "stream",
     "text": [
      "Validation Dice Score\n",
      "Class 0: 0.9886, Class 1: 0.7490, Class 2: 0.2348, Class 3: 0.5134, Class 4: 0.7516, Class 5: 0.5093, Class 6: 0.8857, \n",
      "Validation F-beta Score\n",
      "Class 0: 0.9897, Class 1: 0.8747, Class 2: 0.2382, Class 3: 0.5819, Class 4: 0.7410, Class 5: 0.4586, Class 6: 0.8589, \n",
      "Validation mIoU Score\n",
      "Class 0: 0.9775, Class 1: 0.5995, Class 2: 0.1365, Class 3: 0.3462, Class 4: 0.6025, Class 5: 0.3429, Class 6: 0.7952, \n",
      "\n",
      "Overall Mean Dice Score: 0.6818\n",
      "Overall Mean F-beta Score: 0.7030\n",
      "Overall Mean IoU Score: 0.5373\n",
      "Final_score: 0.5704\n",
      "Training Loss: 0.1704, Validation Loss: 0.1855, Validation hybrid_score: 0.5704\n",
      "Epoch 54/4000\n"
     ]
    },
    {
     "name": "stderr",
     "output_type": "stream",
     "text": [
      "Training: 100%|██████████| 120/120 [02:56<00:00,  1.47s/it, loss=0.179]\n",
      "Validation: 100%|██████████| 20/20 [00:17<00:00,  1.12it/s, loss=0.184]\n"
     ]
    },
    {
     "name": "stdout",
     "output_type": "stream",
     "text": [
      "Validation Dice Score\n",
      "Class 0: 0.9889, Class 1: 0.7496, Class 2: 0.2447, Class 3: 0.5042, Class 4: 0.7409, Class 5: 0.4903, Class 6: 0.8671, \n",
      "Validation F-beta Score\n",
      "Class 0: 0.9899, Class 1: 0.8538, Class 2: 0.2473, Class 3: 0.6100, Class 4: 0.7583, Class 5: 0.4138, Class 6: 0.8159, \n",
      "Validation mIoU Score\n",
      "Class 0: 0.9781, Class 1: 0.6003, Class 2: 0.1424, Class 3: 0.3383, Class 4: 0.5889, Class 5: 0.3258, Class 6: 0.7655, \n",
      "\n",
      "Overall Mean Dice Score: 0.6704\n",
      "Overall Mean F-beta Score: 0.6904\n",
      "Overall Mean IoU Score: 0.5238\n",
      "Final_score: 0.5571\n",
      "Training Loss: 0.1705, Validation Loss: 0.1869, Validation hybrid_score: 0.5571\n",
      "Epoch 55/4000\n"
     ]
    },
    {
     "name": "stderr",
     "output_type": "stream",
     "text": [
      "Training: 100%|██████████| 120/120 [02:57<00:00,  1.48s/it, loss=0.179]\n",
      "Validation: 100%|██████████| 20/20 [00:17<00:00,  1.12it/s, loss=0.188]"
     ]
    },
    {
     "name": "stdout",
     "output_type": "stream",
     "text": [
      "Validation Dice Score\n",
      "Class 0: 0.9880, Class 1: 0.7783, Class 2: 0.2253, Class 3: 0.5039, Class 4: 0.7374, Class 5: 0.4980, Class 6: 0.8889, \n",
      "Validation F-beta Score\n",
      "Class 0: 0.9878, Class 1: 0.8754, Class 2: 0.2465, Class 3: 0.5269, Class 4: 0.7734, Class 5: 0.4649, Class 6: 0.8610, \n",
      "Validation mIoU Score\n",
      "Class 0: 0.9763, Class 1: 0.6377, Class 2: 0.1292, Class 3: 0.3383, Class 4: 0.5846, Class 5: 0.3324, Class 6: 0.8002, \n",
      "\n",
      "Overall Mean Dice Score: 0.6813\n",
      "Overall Mean F-beta Score: 0.7003\n",
      "Overall Mean IoU Score: 0.5386\n",
      "Final_score: 0.5710\n",
      "Training Loss: 0.1707, Validation Loss: 0.1900, Validation hybrid_score: 0.5710\n",
      "Early stopping\n"
     ]
    },
    {
     "name": "stderr",
     "output_type": "stream",
     "text": [
      "\n"
     ]
    },
    {
     "data": {
      "text/html": [],
      "text/plain": [
       "<IPython.core.display.HTML object>"
      ]
     },
     "metadata": {},
     "output_type": "display_data"
    },
    {
     "data": {
      "text/html": [
       "<br>    <style><br>        .wandb-row {<br>            display: flex;<br>            flex-direction: row;<br>            flex-wrap: wrap;<br>            justify-content: flex-start;<br>            width: 100%;<br>        }<br>        .wandb-col {<br>            display: flex;<br>            flex-direction: column;<br>            flex-basis: 100%;<br>            flex: 1;<br>            padding: 10px;<br>        }<br>    </style><br><div class=\"wandb-row\"><div class=\"wandb-col\"><h3>Run history:</h3><br/><table class=\"wandb\"><tr><td>class_0_IoU_score</td><td>▅▆▄▂▆▃▄▇▅▇▅▄▄▄▇▆▆▆▆▇▆▆▃▇▁█▃▄▄▃▄▄▂▄</td></tr><tr><td>class_0_dice_score</td><td>▆▇▇▇▇▇▄▄▆▇▃▇▆█▂▅▂█▃▁▁█▄▆▇▅▆▅▄▆▄▆▇▃</td></tr><tr><td>class_0_f_beta_score</td><td>▇▆█▇▇█▅▄▆▄▄▆▇▆▂▃▃▆▂▁▁▆▃▄▅▃▆▄▄▄▄▅▆▄</td></tr><tr><td>class_1_IoU_score</td><td>▅▆▄▂▆▃▄▇▅▇▅▄▄▄▇▆▆▆▆▇▆▆▃▇▁█▃▄▄▃▄▄▂▄</td></tr><tr><td>class_1_dice_score</td><td>▁▄▆▅▅▇▆▁▅▅▅▆█▃▂▆▆▆▄▅▅█▅▆▃▃▇▄▆▇▅▅▅█</td></tr><tr><td>class_1_f_beta_score</td><td>▅▄▂▂▃▁▆█▄▆▆▇▅▆▇▄▆▆▇█▇▇▅▇▄█▇▆▆▅█▇▄▇</td></tr><tr><td>class_2_IoU_score</td><td>▅▆▄▂▆▃▄▇▅▇▅▄▄▄▇▆▆▆▆▇▆▆▃▇▁█▃▄▄▃▄▄▂▄</td></tr><tr><td>class_2_dice_score</td><td>▁▁▂▃▃▄▄▅▅▅▆▅▄▄▆▇▆▆▇▆█▅█▆█▆▆▆▅▆▅▇▇▇</td></tr><tr><td>class_2_f_beta_score</td><td>▁▁▂▂▂▃▃▄▄▄▆▄▃▄▆▇▆▅▆██▅█▅▇▇▇▆▅▇▅▇▇▇</td></tr><tr><td>class_3_IoU_score</td><td>▅▆▄▂▆▃▄▇▅▇▅▄▄▄▇▆▆▆▆▇▆▆▃▇▁█▃▄▄▃▄▄▂▄</td></tr><tr><td>class_3_dice_score</td><td>▄▄▄▄▆▅▅▆▁▄▃▆▄▃▅▆▄▅▅▃▅▆▆▇▆▅█▆▇▅▅▆▅▅</td></tr><tr><td>class_3_f_beta_score</td><td>▄▁▁▂▃▄▂▅▇▅▆▄▃▆██▄▄▇█▆▅▆▅▆█▇▆▅▇▇▆▇▃</td></tr><tr><td>class_4_IoU_score</td><td>▅▆▄▂▆▃▄▇▅▇▅▄▄▄▇▆▆▆▆▇▆▆▃▇▁█▃▄▄▃▄▄▂▄</td></tr><tr><td>class_4_dice_score</td><td>▁▅▃▅▄▃▄▄▆▆▇▆▅▆▆▇▇█▅▇▇▇▆▇▇▇█▇▆█▇▇▆▆</td></tr><tr><td>class_4_f_beta_score</td><td>▁▄▂▃▃▂▄▆▆▆▆▅▄▅█▆▇▅█▆█▆▇▆▆▇▆▇▇▇▆▅▆▆</td></tr><tr><td>class_5_IoU_score</td><td>▅▆▄▂▆▃▄▇▅▇▅▄▄▄▇▆▆▆▆▇▆▆▃▇▁█▃▄▄▃▄▄▂▄</td></tr><tr><td>class_5_dice_score</td><td>▅▇▄▆▄▅▆▅▁█▇▄▂▅▇█▆▆▅▇▆▆▇▇▇▇▇▆▆▆█▆▅▆</td></tr><tr><td>class_5_f_beta_score</td><td>▄▇▃▆▄▄▅▄▁▆▅▃▁▃▆▇▆▅▅█▇▄▇▆▆▆▅▅▅▅▇▅▄▅</td></tr><tr><td>class_6_IoU_score</td><td>▅▆▄▂▆▃▄▇▅▇▅▄▄▄▇▆▆▆▆▇▆▆▃▇▁█▃▄▄▃▄▄▂▄</td></tr><tr><td>class_6_dice_score</td><td>▆▆▅▃▆▄▄▆▅▇▆▆▄▄▆▇▇▇▇▇▄█▄█▁▇▄▅▆▃▄▄▂▅</td></tr><tr><td>class_6_f_beta_score</td><td>▅▆▄▂▆▃▄▇▅▇▅▄▄▄▇▆▆▆▆▇▆▆▃▇▁█▃▄▄▃▄▄▂▄</td></tr><tr><td>epoch</td><td>▁▁▁▁▁▁▁▂▂▂▃▃▃▄▄▄▄▄▅▅▅▅▅▅▅▅▅▅▅▅▆▆▆▆▆▇▇▇██</td></tr><tr><td>final_score</td><td>▁▄▁▂▃▂▃▄▁▆▅▄▂▂▅█▆▆▆▇▆▇▅█▃▇▇▆▆▅▆▅▃▅</td></tr><tr><td>overall_mean_IoU_score</td><td>▁▅▃▃▄▄▃▃▁▆▅▅▃▂▄█▆▇▅▆▅█▅█▃▆▇▅▆▅▆▅▃▅</td></tr><tr><td>overall_mean_dice_score</td><td>▂▅▃▄▄▄▄▄▁▆▅▅▃▃▅█▆▇▅▆▆█▆█▅▆█▆▇▆▇▆▄▆</td></tr><tr><td>overall_mean_f_beta_score</td><td>▃▄▁▂▃▂▃▅▄▆▅▃▂▄▇▇▆▅▇█▇▅▆▆▄▇▅▆▅▅▆▅▄▄</td></tr><tr><td>train_epoch_loss</td><td>▇█▇▆▆▆▅▅▄▄▄▅▄▃▃▃▃▃▂▂▂▃▃▃▃▃▂▁▂▁▁▁▁▁</td></tr><tr><td>val_epoch_loss</td><td>▇▃▆▄▄▅▆██▂▇▃▆▃▇▂▆▁▅▆▆▁▅▂▃▄▂▄▆▃▆▃▅█</td></tr></table><br/></div><div class=\"wandb-col\"><h3>Run summary:</h3><br/><table class=\"wandb\"><tr><td>class_0_IoU_score</td><td>0.86104</td></tr><tr><td>class_0_dice_score</td><td>0.98803</td></tr><tr><td>class_0_f_beta_score</td><td>0.98776</td></tr><tr><td>class_1_IoU_score</td><td>0.86104</td></tr><tr><td>class_1_dice_score</td><td>0.77825</td></tr><tr><td>class_1_f_beta_score</td><td>0.87545</td></tr><tr><td>class_2_IoU_score</td><td>0.86104</td></tr><tr><td>class_2_dice_score</td><td>0.22534</td></tr><tr><td>class_2_f_beta_score</td><td>0.24648</td></tr><tr><td>class_3_IoU_score</td><td>0.86104</td></tr><tr><td>class_3_dice_score</td><td>0.50392</td></tr><tr><td>class_3_f_beta_score</td><td>0.52688</td></tr><tr><td>class_4_IoU_score</td><td>0.86104</td></tr><tr><td>class_4_dice_score</td><td>0.73741</td></tr><tr><td>class_4_f_beta_score</td><td>0.77343</td></tr><tr><td>class_5_IoU_score</td><td>0.86104</td></tr><tr><td>class_5_dice_score</td><td>0.49796</td></tr><tr><td>class_5_f_beta_score</td><td>0.46486</td></tr><tr><td>class_6_IoU_score</td><td>0.86104</td></tr><tr><td>class_6_dice_score</td><td>0.8889</td></tr><tr><td>class_6_f_beta_score</td><td>0.86104</td></tr><tr><td>epoch</td><td>55</td></tr><tr><td>final_score</td><td>0.57099</td></tr><tr><td>overall_mean_IoU_score</td><td>0.53865</td></tr><tr><td>overall_mean_dice_score</td><td>0.68129</td></tr><tr><td>overall_mean_f_beta_score</td><td>0.70033</td></tr><tr><td>train_epoch_loss</td><td>0.17069</td></tr><tr><td>val_epoch_loss</td><td>0.18995</td></tr></table><br/></div></div>"
      ],
      "text/plain": [
       "<IPython.core.display.HTML object>"
      ]
     },
     "metadata": {},
     "output_type": "display_data"
    },
    {
     "data": {
      "text/html": [
       " View run <strong style=\"color:#cdcd00\">CBAMbw_deno_iso_noclswt__f(32, 64, 128, 256)_d32_s96_dropr0.2_lr1e-03_a0.52_b64_r10_ce0.8_ac1</strong> at: <a href='https://wandb.ai/limbw/czii_UNet/runs/kczwxqtk' target=\"_blank\">https://wandb.ai/limbw/czii_UNet/runs/kczwxqtk</a><br> View project at: <a href='https://wandb.ai/limbw/czii_UNet' target=\"_blank\">https://wandb.ai/limbw/czii_UNet</a><br>Synced 5 W&B file(s), 0 media file(s), 0 artifact file(s) and 0 other file(s)"
      ],
      "text/plain": [
       "<IPython.core.display.HTML object>"
      ]
     },
     "metadata": {},
     "output_type": "display_data"
    },
    {
     "data": {
      "text/html": [
       "Find logs at: <code>.\\wandb\\run-20250128_032123-kczwxqtk\\logs</code>"
      ],
      "text/plain": [
       "<IPython.core.display.HTML object>"
      ]
     },
     "metadata": {},
     "output_type": "display_data"
    }
   ],
   "source": [
    "train_model(\n",
    "    model=model,\n",
    "    train_loader=train_loader,\n",
    "    val_loader=val_loader,\n",
    "    criterion=criterion,\n",
    "    optimizer=optimizer,\n",
    "    num_epochs=num_epochs,\n",
    "    patience=10,\n",
    "    device=device,\n",
    "    start_epoch=start_epoch,\n",
    "    best_val_loss=best_val_loss,\n",
    "    best_val_fbeta_score=best_val_fbeta_score,\n",
    "    calculate_dice_interval=1,\n",
    "    accumulation_steps = accumulation_steps,\n",
    "    pretrained=False\n",
    "     ) "
   ]
  },
  {
   "cell_type": "code",
   "execution_count": null,
   "metadata": {},
   "outputs": [
    {
     "ename": "SyntaxError",
     "evalue": "invalid syntax (879943805.py, line 1)",
     "output_type": "error",
     "traceback": [
      "\u001b[1;36m  Cell \u001b[1;32mIn[12], line 1\u001b[1;36m\u001b[0m\n\u001b[1;33m    if:\u001b[0m\n\u001b[1;37m      ^\u001b[0m\n\u001b[1;31mSyntaxError\u001b[0m\u001b[1;31m:\u001b[0m invalid syntax\n"
     ]
    }
   ],
   "source": [
    "if:"
   ]
  },
  {
   "cell_type": "markdown",
   "metadata": {},
   "source": [
    "# VAl"
   ]
  },
  {
   "cell_type": "code",
   "execution_count": null,
   "metadata": {},
   "outputs": [
    {
     "data": {
      "text/html": [
       "Finishing last run (ID:fs6utwyo) before initializing another..."
      ],
      "text/plain": [
       "<IPython.core.display.HTML object>"
      ]
     },
     "metadata": {},
     "output_type": "display_data"
    },
    {
     "data": {
      "application/vnd.jupyter.widget-view+json": {
       "model_id": "29cc3ae761af43baae5aca60b5d2e7f4",
       "version_major": 2,
       "version_minor": 0
      },
      "text/plain": [
       "VBox(children=(Label(value='0.009 MB of 0.009 MB uploaded\\r'), FloatProgress(value=1.0, max=1.0)))"
      ]
     },
     "metadata": {},
     "output_type": "display_data"
    },
    {
     "data": {
      "text/html": [
       "<style>\n",
       "    table.wandb td:nth-child(1) { padding: 0 10px; text-align: left ; width: auto;} td:nth-child(2) {text-align: left ; width: 100%}\n",
       "    .wandb-row { display: flex; flex-direction: row; flex-wrap: wrap; justify-content: flex-start; width: 100% }\n",
       "    .wandb-col { display: flex; flex-direction: column; flex-basis: 100%; flex: 1; padding: 10px; }\n",
       "    </style>\n",
       "<div class=\"wandb-row\"><div class=\"wandb-col\"><h3>Run history:</h3><br/><table class=\"wandb\"><tr><td>class_0_dice_score</td><td>▁</td></tr><tr><td>class_0_f_beta_score</td><td>▁</td></tr><tr><td>class_1_dice_score</td><td>▁</td></tr><tr><td>class_1_f_beta_score</td><td>▁</td></tr><tr><td>class_2_dice_score</td><td>▁</td></tr><tr><td>class_2_f_beta_score</td><td>▁</td></tr><tr><td>class_3_dice_score</td><td>▁</td></tr><tr><td>class_3_f_beta_score</td><td>▁</td></tr><tr><td>class_4_dice_score</td><td>▁</td></tr><tr><td>class_4_f_beta_score</td><td>▁</td></tr><tr><td>class_5_dice_score</td><td>▁</td></tr><tr><td>class_5_f_beta_score</td><td>▁</td></tr><tr><td>class_6_dice_score</td><td>▁</td></tr><tr><td>class_6_f_beta_score</td><td>▁</td></tr><tr><td>epoch</td><td>▁▁▁▁▁▁▁▁▁▁▁▁▁▁▁▁</td></tr><tr><td>overall_mean_dice_score</td><td>▁</td></tr><tr><td>overall_mean_f_beta_score</td><td>▁</td></tr><tr><td>val_epoch_loss</td><td>▁</td></tr></table><br/></div><div class=\"wandb-col\"><h3>Run summary:</h3><br/><table class=\"wandb\"><tr><td>class_0_dice_score</td><td>0.65703</td></tr><tr><td>class_0_f_beta_score</td><td>0.50748</td></tr><tr><td>class_1_dice_score</td><td>0.53332</td></tr><tr><td>class_1_f_beta_score</td><td>0.64703</td></tr><tr><td>class_2_dice_score</td><td>0.00286</td></tr><tr><td>class_2_f_beta_score</td><td>0.02334</td></tr><tr><td>class_3_dice_score</td><td>0.23703</td></tr><tr><td>class_3_f_beta_score</td><td>0.23033</td></tr><tr><td>class_4_dice_score</td><td>0.65487</td></tr><tr><td>class_4_f_beta_score</td><td>0.62525</td></tr><tr><td>class_5_dice_score</td><td>0.47899</td></tr><tr><td>class_5_f_beta_score</td><td>0.51448</td></tr><tr><td>class_6_dice_score</td><td>0.42545</td></tr><tr><td>class_6_f_beta_score</td><td>0.47197</td></tr><tr><td>epoch</td><td>1</td></tr><tr><td>overall_mean_dice_score</td><td>0.42708</td></tr><tr><td>overall_mean_f_beta_score</td><td>0.43141</td></tr><tr><td>val_epoch_loss</td><td>0.7152</td></tr></table><br/></div></div>"
      ],
      "text/plain": [
       "<IPython.core.display.HTML object>"
      ]
     },
     "metadata": {},
     "output_type": "display_data"
    },
    {
     "data": {
      "text/html": [
       " View run <strong style=\"color:#cdcd00\">SwinUNETR96_96_lr0.001_lambda0.52_batch2</strong> at: <a href='https://wandb.ai/waooang/czii_SwinUnetR_val/runs/fs6utwyo' target=\"_blank\">https://wandb.ai/waooang/czii_SwinUnetR_val/runs/fs6utwyo</a><br/> View project at: <a href='https://wandb.ai/waooang/czii_SwinUnetR_val' target=\"_blank\">https://wandb.ai/waooang/czii_SwinUnetR_val</a><br/>Synced 4 W&B file(s), 0 media file(s), 3 artifact file(s) and 0 other file(s)"
      ],
      "text/plain": [
       "<IPython.core.display.HTML object>"
      ]
     },
     "metadata": {},
     "output_type": "display_data"
    },
    {
     "data": {
      "text/html": [
       "Find logs at: <code>.\\wandb\\run-20241219_200219-fs6utwyo\\logs</code>"
      ],
      "text/plain": [
       "<IPython.core.display.HTML object>"
      ]
     },
     "metadata": {},
     "output_type": "display_data"
    },
    {
     "data": {
      "text/html": [
       "Successfully finished last run (ID:fs6utwyo). Initializing new run:<br/>"
      ],
      "text/plain": [
       "<IPython.core.display.HTML object>"
      ]
     },
     "metadata": {},
     "output_type": "display_data"
    },
    {
     "data": {
      "text/html": [
       "Tracking run with wandb version 0.18.3"
      ],
      "text/plain": [
       "<IPython.core.display.HTML object>"
      ]
     },
     "metadata": {},
     "output_type": "display_data"
    },
    {
     "data": {
      "text/html": [
       "Run data is saved locally in <code>e:\\Workspace\\czll\\wandb\\run-20241219_200454-121l7bn3</code>"
      ],
      "text/plain": [
       "<IPython.core.display.HTML object>"
      ]
     },
     "metadata": {},
     "output_type": "display_data"
    },
    {
     "data": {
      "text/html": [
       "Syncing run <strong><a href='https://wandb.ai/waooang/czii_SwinUnetR_val/runs/121l7bn3' target=\"_blank\">SwinUNETR96_96_lr0.001_lambda0.52_batch2</a></strong> to <a href='https://wandb.ai/waooang/czii_SwinUnetR_val' target=\"_blank\">Weights & Biases</a> (<a href='https://wandb.me/run' target=\"_blank\">docs</a>)<br/>"
      ],
      "text/plain": [
       "<IPython.core.display.HTML object>"
      ]
     },
     "metadata": {},
     "output_type": "display_data"
    },
    {
     "data": {
      "text/html": [
       " View project at <a href='https://wandb.ai/waooang/czii_SwinUnetR_val' target=\"_blank\">https://wandb.ai/waooang/czii_SwinUnetR_val</a>"
      ],
      "text/plain": [
       "<IPython.core.display.HTML object>"
      ]
     },
     "metadata": {},
     "output_type": "display_data"
    },
    {
     "data": {
      "text/html": [
       " View run at <a href='https://wandb.ai/waooang/czii_SwinUnetR_val/runs/121l7bn3' target=\"_blank\">https://wandb.ai/waooang/czii_SwinUnetR_val/runs/121l7bn3</a>"
      ],
      "text/plain": [
       "<IPython.core.display.HTML object>"
      ]
     },
     "metadata": {},
     "output_type": "display_data"
    },
    {
     "name": "stderr",
     "output_type": "stream",
     "text": [
      "Loading dataset: 100%|██████████| 4/4 [00:06<00:00,  1.58s/it]\n",
      "C:\\Users\\Seungwoo\\AppData\\Local\\Temp\\ipykernel_21000\\1177025787.py:95: FutureWarning: You are using `torch.load` with `weights_only=False` (the current default value), which uses the default pickle module implicitly. It is possible to construct malicious pickle data which will execute arbitrary code during unpickling (See https://github.com/pytorch/pytorch/blob/main/SECURITY.md#untrusted-models for more details). In a future release, the default value for `weights_only` will be flipped to `True`. This limits the functions that could be executed during unpickling. Arbitrary objects will no longer be allowed to be loaded via this mode unless they are explicitly allowlisted by the user via `torch.serialization.add_safe_globals`. We recommend you start setting `weights_only=True` for any use case where you don't have full control of the loaded file. Please open an issue on GitHub for any issues related to this experimental feature.\n",
      "  checkpoint = torch.load(pretrain_path, map_location=device)\n",
      "Validation: 100%|██████████| 4/4 [00:01<00:00,  2.38it/s, loss=0.865]"
     ]
    },
    {
     "name": "stdout",
     "output_type": "stream",
     "text": [
      "Validation Dice Score\n",
      "Class 0: 0.6570, Class 1: 0.5333, Class 2: 0.0029, Class 3: 0.2370, \n",
      "Class 4: 0.6549, Class 5: 0.4790, Class 6: 0.4255, \n",
      "Validation F-beta Score\n",
      "Class 0: 0.5075, Class 1: 0.6470, Class 2: 0.0233, Class 3: 0.2303, \n",
      "Class 4: 0.6252, Class 5: 0.5145, Class 6: 0.4720, \n",
      "Overall Mean Dice Score: 0.4659\n",
      "Overall Mean F-beta Score: 0.4978\n",
      "\n"
     ]
    },
    {
     "name": "stderr",
     "output_type": "stream",
     "text": [
      "\n"
     ]
    },
    {
     "ename": "",
     "evalue": "",
     "output_type": "error",
     "traceback": [
      "\u001b[1;31mnotebook controller is DISPOSED. \n",
      "\u001b[1;31m자세한 내용은 Jupyter <a href='command:jupyter.viewOutput'>로그</a>를 참조하세요."
     ]
    },
    {
     "ename": "",
     "evalue": "",
     "output_type": "error",
     "traceback": [
      "\u001b[1;31mnotebook controller is DISPOSED. \n",
      "\u001b[1;31m자세한 내용은 Jupyter <a href='command:jupyter.viewOutput'>로그</a>를 참조하세요."
     ]
    }
   ],
   "source": [
    "from monai.data import DataLoader, Dataset, CacheDataset\n",
    "from monai.transforms import (\n",
    "    Compose, LoadImaged, EnsureChannelFirstd, NormalizeIntensityd,\n",
    "    Orientationd, CropForegroundd, GaussianSmoothd, ScaleIntensityd,\n",
    "    RandSpatialCropd, RandRotate90d, RandFlipd, RandGaussianNoised,\n",
    "    ToTensord, RandCropByLabelClassesd\n",
    ")\n",
    "from monai.metrics import DiceMetric\n",
    "from monai.networks.nets import UNETR, SwinUNETR\n",
    "from monai.losses import TverskyLoss\n",
    "import torch\n",
    "import numpy as np\n",
    "from tqdm import tqdm\n",
    "import wandb\n",
    "from src.dataset.dataset import make_val_dataloader\n",
    "\n",
    "val_img_dir = \"./datasets/val/images\"\n",
    "val_label_dir = \"./datasets/val/labels\"\n",
    "img_depth = 96\n",
    "img_size = 96  # Match your patch size\n",
    "n_classes = 7\n",
    "batch_size = 2 # 13.8GB GPU memory required for 128x128 img size\n",
    "num_samples = batch_size # 한 이미지에서 뽑을 샘플 수\n",
    "loader_batch = 1\n",
    "lamda = 0.52\n",
    "\n",
    "wandb.init(\n",
    "    project='czii_SwinUnetR_val',  # 프로젝트 이름 설정\n",
    "    name='SwinUNETR96_96_lr0.001_lambda0.52_batch2',         # 실행(run) 이름 설정\n",
    "    config={\n",
    "        'learning_rate': 0.001,\n",
    "        'batch_size': batch_size,\n",
    "        'lambda': lamda,\n",
    "        'img_size': img_size,\n",
    "        'device': 'cuda',\n",
    "        \"checkpoint_dir\": \"./model_checkpoints/SwinUNETR96_96_lr0.001_lambda0.52_batch2\",\n",
    "        \n",
    "    }\n",
    ")\n",
    "\n",
    "non_random_transforms = Compose([\n",
    "    EnsureChannelFirstd(keys=[\"image\", \"label\"], channel_dim=\"no_channel\"),\n",
    "    NormalizeIntensityd(keys=\"image\"),\n",
    "    Orientationd(keys=[\"image\", \"label\"], axcodes=\"RAS\"),\n",
    "    GaussianSmoothd(\n",
    "        keys=[\"image\"],      # 변환을 적용할 키\n",
    "        sigma=[1.0, 1.0, 1.0]  # 각 축(x, y, z)의 시그마 값\n",
    "        ),\n",
    "])\n",
    "random_transforms = Compose([\n",
    "    RandCropByLabelClassesd(\n",
    "        keys=[\"image\", \"label\"],\n",
    "        label_key=\"label\",\n",
    "        spatial_size=[img_depth, img_size, img_size],\n",
    "        num_classes=n_classes,\n",
    "        num_samples=num_samples, \n",
    "        ratios=ratios_list,\n",
    "    ),\n",
    "    RandRotate90d(keys=[\"image\", \"label\"], prob=0.5, spatial_axes=[1, 2]),\n",
    "    RandFlipd(keys=[\"image\", \"label\"], prob=0.5, spatial_axis=0),\n",
    "])\n",
    "\n",
    "val_loader = make_val_dataloader(\n",
    "    val_img_dir, \n",
    "    val_label_dir, \n",
    "    non_random_transforms = non_random_transforms, \n",
    "    random_transforms = random_transforms, \n",
    "    batch_size = loader_batch,\n",
    "    num_workers=0\n",
    ")\n",
    "criterion = TverskyLoss(\n",
    "    alpha= 1 - lamda,  # FP에 대한 가중치\n",
    "    beta=lamda,       # FN에 대한 가중치\n",
    "    include_background=False,  # 배경 클래스 제외\n",
    "    softmax=True\n",
    ")\n",
    "    \n",
    "    \n",
    "from monai.metrics import DiceMetric\n",
    "\n",
    "img_size = 96\n",
    "img_depth = img_size\n",
    "n_classes = 7 \n",
    "\n",
    "device = torch.device(\"cuda\" if torch.cuda.is_available() else \"cpu\")\n",
    "pretrain_path = \"./model_checkpoints/SwinUNETR96_96_lr0.001_lambda0.52_batch2/best_model.pt\"\n",
    "model = SwinUNETR(\n",
    "    img_size=(img_depth, img_size, img_size),\n",
    "    in_channels=1,\n",
    "    out_channels=n_classes,\n",
    "    feature_size=48,\n",
    "    use_checkpoint=True,\n",
    ").to(device)\n",
    "# Pretrained weights 불러오기\n",
    "checkpoint = torch.load(pretrain_path, map_location=device)\n",
    "model.load_state_dict(checkpoint['model_state_dict'])\n",
    "\n",
    "val_loss, overall_mean_fbeta_score = validate_one_epoch(\n",
    "    model=model, \n",
    "    val_loader=val_loader, \n",
    "    criterion=criterion, \n",
    "    device=device, \n",
    "    epoch=0, \n",
    "    calculate_dice_interval=1\n",
    ")"
   ]
  },
  {
   "cell_type": "markdown",
   "metadata": {},
   "source": [
    "# Inference"
   ]
  },
  {
   "cell_type": "code",
   "execution_count": null,
   "metadata": {},
   "outputs": [
    {
     "ename": "",
     "evalue": "",
     "output_type": "error",
     "traceback": [
      "\u001b[1;31mnotebook controller is DISPOSED. \n",
      "\u001b[1;31m자세한 내용은 Jupyter <a href='command:jupyter.viewOutput'>로그</a>를 참조하세요."
     ]
    },
    {
     "ename": "",
     "evalue": "",
     "output_type": "error",
     "traceback": [
      "\u001b[1;31mnotebook controller is DISPOSED. \n",
      "\u001b[1;31m자세한 내용은 Jupyter <a href='command:jupyter.viewOutput'>로그</a>를 참조하세요."
     ]
    }
   ],
   "source": [
    "from src.dataset.preprocessing import Preprocessor"
   ]
  },
  {
   "cell_type": "code",
   "execution_count": null,
   "metadata": {},
   "outputs": [
    {
     "name": "stdout",
     "output_type": "stream",
     "text": [
      "Done.\n"
     ]
    },
    {
     "ename": "",
     "evalue": "",
     "output_type": "error",
     "traceback": [
      "\u001b[1;31mnotebook controller is DISPOSED. \n",
      "\u001b[1;31m자세한 내용은 Jupyter <a href='command:jupyter.viewOutput'>로그</a>를 참조하세요."
     ]
    },
    {
     "ename": "",
     "evalue": "",
     "output_type": "error",
     "traceback": [
      "\u001b[1;31mnotebook controller is DISPOSED. \n",
      "\u001b[1;31m자세한 내용은 Jupyter <a href='command:jupyter.viewOutput'>로그</a>를 참조하세요."
     ]
    }
   ],
   "source": [
    "from monai.inferers import sliding_window_inference\n",
    "from monai.transforms import Compose, EnsureChannelFirstd, NormalizeIntensityd, Orientationd, GaussianSmoothd\n",
    "from monai.data import DataLoader, Dataset, CacheDataset\n",
    "from monai.networks.nets import SwinUNETR\n",
    "from pathlib import Path\n",
    "import numpy as np\n",
    "import copick\n",
    "\n",
    "import torch\n",
    "print(\"Done.\")"
   ]
  },
  {
   "cell_type": "code",
   "execution_count": null,
   "metadata": {},
   "outputs": [
    {
     "name": "stdout",
     "output_type": "stream",
     "text": [
      "Config file written to ./kaggle/working/copick.config\n",
      "file length: 7\n"
     ]
    },
    {
     "ename": "",
     "evalue": "",
     "output_type": "error",
     "traceback": [
      "\u001b[1;31mnotebook controller is DISPOSED. \n",
      "\u001b[1;31m자세한 내용은 Jupyter <a href='command:jupyter.viewOutput'>로그</a>를 참조하세요."
     ]
    },
    {
     "ename": "",
     "evalue": "",
     "output_type": "error",
     "traceback": [
      "\u001b[1;31mnotebook controller is DISPOSED. \n",
      "\u001b[1;31m자세한 내용은 Jupyter <a href='command:jupyter.viewOutput'>로그</a>를 참조하세요."
     ]
    }
   ],
   "source": [
    "config_blob = \"\"\"{\n",
    "    \"name\": \"czii_cryoet_mlchallenge_2024\",\n",
    "    \"description\": \"2024 CZII CryoET ML Challenge training data.\",\n",
    "    \"version\": \"1.0.0\",\n",
    "\n",
    "    \"pickable_objects\": [\n",
    "        {\n",
    "            \"name\": \"apo-ferritin\",\n",
    "            \"is_particle\": true,\n",
    "            \"pdb_id\": \"4V1W\",\n",
    "            \"label\": 1,\n",
    "            \"color\": [  0, 117, 220, 128],\n",
    "            \"radius\": 60,\n",
    "            \"map_threshold\": 0.0418\n",
    "        },\n",
    "        {\n",
    "          \"name\" : \"beta-amylase\",\n",
    "            \"is_particle\": true,\n",
    "            \"pdb_id\": \"8ZRZ\",\n",
    "            \"label\": 2,\n",
    "            \"color\": [255, 255, 255, 128],\n",
    "            \"radius\": 90,\n",
    "            \"map_threshold\": 0.0578  \n",
    "        },\n",
    "        {\n",
    "            \"name\": \"beta-galactosidase\",\n",
    "            \"is_particle\": true,\n",
    "            \"pdb_id\": \"6X1Q\",\n",
    "            \"label\": 3,\n",
    "            \"color\": [ 76,   0,  92, 128],\n",
    "            \"radius\": 90,\n",
    "            \"map_threshold\": 0.0578\n",
    "        },\n",
    "        {\n",
    "            \"name\": \"ribosome\",\n",
    "            \"is_particle\": true,\n",
    "            \"pdb_id\": \"6EK0\",\n",
    "            \"label\": 4,\n",
    "            \"color\": [  0,  92,  49, 128],\n",
    "            \"radius\": 150,\n",
    "            \"map_threshold\": 0.0374\n",
    "        },\n",
    "        {\n",
    "            \"name\": \"thyroglobulin\",\n",
    "            \"is_particle\": true,\n",
    "            \"pdb_id\": \"6SCJ\",\n",
    "            \"label\": 5,\n",
    "            \"color\": [ 43, 206,  72, 128],\n",
    "            \"radius\": 130,\n",
    "            \"map_threshold\": 0.0278\n",
    "        },\n",
    "        {\n",
    "            \"name\": \"virus-like-particle\",\n",
    "            \"is_particle\": true,\n",
    "            \"label\": 6,\n",
    "            \"color\": [255, 204, 153, 128],\n",
    "            \"radius\": 135,\n",
    "            \"map_threshold\": 0.201\n",
    "        },\n",
    "        {\n",
    "            \"name\": \"membrane\",\n",
    "            \"is_particle\": false,\n",
    "            \"label\": 8,\n",
    "            \"color\": [100, 100, 100, 128]\n",
    "        },\n",
    "        {\n",
    "            \"name\": \"background\",\n",
    "            \"is_particle\": false,\n",
    "            \"label\": 9,\n",
    "            \"color\": [10, 150, 200, 128]\n",
    "        }\n",
    "    ],\n",
    "\n",
    "    \"overlay_root\": \"./kaggle/working/overlay\",\n",
    "\n",
    "    \"overlay_fs_args\": {\n",
    "        \"auto_mkdir\": true\n",
    "    },\n",
    "\n",
    "    \"static_root\": \"./kaggle/input/czii-cryo-et-object-identification/test/static\"\n",
    "}\"\"\"\n",
    "\n",
    "copick_config_path = \"./kaggle/working/copick.config\"\n",
    "preprocessor = Preprocessor(config_blob,copick_config_path=copick_config_path)\n",
    "non_random_transforms = Compose([\n",
    "    EnsureChannelFirstd(keys=[\"image\"], channel_dim=\"no_channel\"),\n",
    "    NormalizeIntensityd(keys=\"image\"),\n",
    "    Orientationd(keys=[\"image\"], axcodes=\"RAS\"),\n",
    "    GaussianSmoothd(\n",
    "        keys=[\"image\"],      # 변환을 적용할 키\n",
    "        sigma=[1.0, 1.0, 1.0]  # 각 축(x, y, z)의 시그마 값\n",
    "        ),\n",
    "    ])"
   ]
  },
  {
   "cell_type": "code",
   "execution_count": null,
   "metadata": {},
   "outputs": [
    {
     "name": "stderr",
     "output_type": "stream",
     "text": [
      "c:\\ProgramData\\anaconda3\\envs\\ship\\Lib\\site-packages\\monai\\utils\\deprecate_utils.py:221: FutureWarning: monai.networks.nets.swin_unetr SwinUNETR.__init__:img_size: Argument `img_size` has been deprecated since version 1.3. It will be removed in version 1.5. The img_size argument is not required anymore and checks on the input size are run during forward().\n",
      "  warn_deprecated(argname, msg, warning_category)\n",
      "C:\\Users\\Seungwoo\\AppData\\Local\\Temp\\ipykernel_6248\\2937359115.py:15: FutureWarning: You are using `torch.load` with `weights_only=False` (the current default value), which uses the default pickle module implicitly. It is possible to construct malicious pickle data which will execute arbitrary code during unpickling (See https://github.com/pytorch/pytorch/blob/main/SECURITY.md#untrusted-models for more details). In a future release, the default value for `weights_only` will be flipped to `True`. This limits the functions that could be executed during unpickling. Arbitrary objects will no longer be allowed to be loaded via this mode unless they are explicitly allowlisted by the user via `torch.serialization.add_safe_globals`. We recommend you start setting `weights_only=True` for any use case where you don't have full control of the loaded file. Please open an issue on GitHub for any issues related to this experimental feature.\n",
      "  checkpoint = torch.load(pretrain_path, map_location=device)\n"
     ]
    },
    {
     "data": {
      "text/plain": [
       "<All keys matched successfully>"
      ]
     },
     "execution_count": 15,
     "metadata": {},
     "output_type": "execute_result"
    },
    {
     "ename": "",
     "evalue": "",
     "output_type": "error",
     "traceback": [
      "\u001b[1;31mnotebook controller is DISPOSED. \n",
      "\u001b[1;31m자세한 내용은 Jupyter <a href='command:jupyter.viewOutput'>로그</a>를 참조하세요."
     ]
    },
    {
     "ename": "",
     "evalue": "",
     "output_type": "error",
     "traceback": [
      "\u001b[1;31mnotebook controller is DISPOSED. \n",
      "\u001b[1;31m자세한 내용은 Jupyter <a href='command:jupyter.viewOutput'>로그</a>를 참조하세요."
     ]
    }
   ],
   "source": [
    "img_size = 96\n",
    "img_depth = img_size\n",
    "n_classes = 7 \n",
    "\n",
    "device = torch.device(\"cuda\" if torch.cuda.is_available() else \"cpu\")\n",
    "pretrain_path = \"./model_checkpoints/SwinUNETR96_96_lr0.001_lambda0.52_batch2/best_model.pt\"\n",
    "model = SwinUNETR(\n",
    "    img_size=(img_depth, img_size, img_size),\n",
    "    in_channels=1,\n",
    "    out_channels=n_classes,\n",
    "    feature_size=48,\n",
    "    use_checkpoint=True,\n",
    ").to(device)\n",
    "# Pretrained weights 불러오기\n",
    "checkpoint = torch.load(pretrain_path, map_location=device)\n",
    "model.load_state_dict(checkpoint['model_state_dict'])\n"
   ]
  },
  {
   "cell_type": "code",
   "execution_count": null,
   "metadata": {},
   "outputs": [
    {
     "name": "stderr",
     "output_type": "stream",
     "text": [
      "Validation:   0%|          | 0/4 [00:03<?, ?it/s, loss=0.764]\n"
     ]
    },
    {
     "ename": "ZeroDivisionError",
     "evalue": "integer modulo by zero",
     "output_type": "error",
     "traceback": [
      "\u001b[1;31m---------------------------------------------------------------------------\u001b[0m",
      "\u001b[1;31mZeroDivisionError\u001b[0m                         Traceback (most recent call last)",
      "Cell \u001b[1;32mIn[16], line 1\u001b[0m\n\u001b[1;32m----> 1\u001b[0m val_loss \u001b[38;5;241m=\u001b[39m \u001b[43mvalidate_one_epoch\u001b[49m\u001b[43m(\u001b[49m\n\u001b[0;32m      2\u001b[0m \u001b[43m            \u001b[49m\u001b[43mmodel\u001b[49m\u001b[38;5;241;43m=\u001b[39;49m\u001b[43mmodel\u001b[49m\u001b[43m,\u001b[49m\u001b[43m \u001b[49m\n\u001b[0;32m      3\u001b[0m \u001b[43m            \u001b[49m\u001b[43mval_loader\u001b[49m\u001b[38;5;241;43m=\u001b[39;49m\u001b[43mval_loader\u001b[49m\u001b[43m,\u001b[49m\u001b[43m \u001b[49m\n\u001b[0;32m      4\u001b[0m \u001b[43m            \u001b[49m\u001b[43mcriterion\u001b[49m\u001b[38;5;241;43m=\u001b[39;49m\u001b[43mcriterion\u001b[49m\u001b[43m,\u001b[49m\u001b[43m \u001b[49m\n\u001b[0;32m      5\u001b[0m \u001b[43m            \u001b[49m\u001b[43mdevice\u001b[49m\u001b[38;5;241;43m=\u001b[39;49m\u001b[43mdevice\u001b[49m\u001b[43m,\u001b[49m\u001b[43m \u001b[49m\n\u001b[0;32m      6\u001b[0m \u001b[43m            \u001b[49m\u001b[43mepoch\u001b[49m\u001b[38;5;241;43m=\u001b[39;49m\u001b[38;5;241;43m1\u001b[39;49m\u001b[43m,\u001b[49m\u001b[43m \u001b[49m\n\u001b[0;32m      7\u001b[0m \u001b[43m            \u001b[49m\u001b[43mcalculate_dice_interval\u001b[49m\u001b[38;5;241;43m=\u001b[39;49m\u001b[38;5;241;43m0\u001b[39;49m\n\u001b[0;32m      8\u001b[0m \u001b[43m        \u001b[49m\u001b[43m)\u001b[49m\n",
      "Cell \u001b[1;32mIn[11], line 64\u001b[0m, in \u001b[0;36mvalidate_one_epoch\u001b[1;34m(model, val_loader, criterion, device, epoch, calculate_dice_interval)\u001b[0m\n\u001b[0;32m     61\u001b[0m pbar\u001b[38;5;241m.\u001b[39mset_postfix(loss\u001b[38;5;241m=\u001b[39mloss\u001b[38;5;241m.\u001b[39mitem())\n\u001b[0;32m     63\u001b[0m \u001b[38;5;66;03m# 각 클래스별 Dice 점수 계산\u001b[39;00m\n\u001b[1;32m---> 64\u001b[0m \u001b[38;5;28;01mif\u001b[39;00m \u001b[43mepoch\u001b[49m\u001b[43m \u001b[49m\u001b[38;5;241;43m%\u001b[39;49m\u001b[43m \u001b[49m\u001b[43mcalculate_dice_interval\u001b[49m \u001b[38;5;241m==\u001b[39m \u001b[38;5;241m0\u001b[39m:\n\u001b[0;32m     65\u001b[0m     \u001b[38;5;28;01mfor\u001b[39;00m i \u001b[38;5;129;01min\u001b[39;00m \u001b[38;5;28mrange\u001b[39m(n_classes):\n\u001b[0;32m     66\u001b[0m         pred_i \u001b[38;5;241m=\u001b[39m (preds \u001b[38;5;241m==\u001b[39m i)\n",
      "\u001b[1;31mZeroDivisionError\u001b[0m: integer modulo by zero"
     ]
    },
    {
     "ename": "",
     "evalue": "",
     "output_type": "error",
     "traceback": [
      "\u001b[1;31mnotebook controller is DISPOSED. \n",
      "\u001b[1;31m자세한 내용은 Jupyter <a href='command:jupyter.viewOutput'>로그</a>를 참조하세요."
     ]
    },
    {
     "ename": "",
     "evalue": "",
     "output_type": "error",
     "traceback": [
      "\u001b[1;31mnotebook controller is DISPOSED. \n",
      "\u001b[1;31m자세한 내용은 Jupyter <a href='command:jupyter.viewOutput'>로그</a>를 참조하세요."
     ]
    }
   ],
   "source": [
    "val_loss = validate_one_epoch(\n",
    "            model=model, \n",
    "            val_loader=val_loader, \n",
    "            criterion=criterion, \n",
    "            device=device, \n",
    "            epoch=1, \n",
    "            calculate_dice_interval=0\n",
    "        )"
   ]
  },
  {
   "cell_type": "code",
   "execution_count": null,
   "metadata": {},
   "outputs": [
    {
     "name": "stdout",
     "output_type": "stream",
     "text": [
      "Processing volume 1/7\n"
     ]
    },
    {
     "name": "stderr",
     "output_type": "stream",
     "text": [
      "Loading dataset: 100%|██████████| 1/1 [00:01<00:00,  1.94s/it]\n"
     ]
    },
    {
     "name": "stdout",
     "output_type": "stream",
     "text": [
      "Processing volume 2/7\n"
     ]
    },
    {
     "name": "stderr",
     "output_type": "stream",
     "text": [
      "Loading dataset: 100%|██████████| 1/1 [00:01<00:00,  1.89s/it]\n"
     ]
    },
    {
     "name": "stdout",
     "output_type": "stream",
     "text": [
      "Processing volume 3/7\n"
     ]
    },
    {
     "name": "stderr",
     "output_type": "stream",
     "text": [
      "Loading dataset: 100%|██████████| 1/1 [00:01<00:00,  1.79s/it]\n"
     ]
    },
    {
     "name": "stdout",
     "output_type": "stream",
     "text": [
      "Submission saved to: submission.csv\n"
     ]
    },
    {
     "ename": "",
     "evalue": "",
     "output_type": "error",
     "traceback": [
      "\u001b[1;31mnotebook controller is DISPOSED. \n",
      "\u001b[1;31m자세한 내용은 Jupyter <a href='command:jupyter.viewOutput'>로그</a>를 참조하세요."
     ]
    },
    {
     "ename": "",
     "evalue": "",
     "output_type": "error",
     "traceback": [
      "\u001b[1;31mnotebook controller is DISPOSED. \n",
      "\u001b[1;31m자세한 내용은 Jupyter <a href='command:jupyter.viewOutput'>로그</a>를 참조하세요."
     ]
    }
   ],
   "source": [
    "import torch\n",
    "import numpy as np\n",
    "from scipy.ndimage import label, center_of_mass\n",
    "import pandas as pd\n",
    "from tqdm import tqdm\n",
    "from monai.data import CacheDataset, DataLoader\n",
    "from monai.transforms import Compose, NormalizeIntensity\n",
    "import cc3d\n",
    "\n",
    "def dict_to_df(coord_dict, experiment_name):\n",
    "    all_coords = []\n",
    "    all_labels = []\n",
    "    \n",
    "    for label, coords in coord_dict.items():\n",
    "        all_coords.append(coords)\n",
    "        all_labels.extend([label] * len(coords))\n",
    "    \n",
    "    all_coords = np.vstack(all_coords)\n",
    "    df = pd.DataFrame({\n",
    "        'experiment': experiment_name,\n",
    "        'particle_type': all_labels,\n",
    "        'x': all_coords[:, 0],\n",
    "        'y': all_coords[:, 1],\n",
    "        'z': all_coords[:, 2]\n",
    "    })\n",
    "    return df\n",
    "\n",
    "id_to_name = {1: \"apo-ferritin\", \n",
    "              2: \"beta-amylase\",\n",
    "              3: \"beta-galactosidase\", \n",
    "              4: \"ribosome\", \n",
    "              5: \"thyroglobulin\", \n",
    "              6: \"virus-like-particle\"}\n",
    "BLOB_THRESHOLD = 200\n",
    "CERTAINTY_THRESHOLD = 0.05\n",
    "\n",
    "classes = [1, 2, 3, 4, 5, 6]\n",
    "\n",
    "model.eval()\n",
    "with torch.no_grad():\n",
    "    location_dfs = []  # DataFrame 리스트로 초기화\n",
    "    \n",
    "    for vol_idx, run in enumerate(preprocessor.root.runs):\n",
    "        print(f\"Processing volume {vol_idx + 1}/{len(preprocessor.root.runs)}\")\n",
    "        tomogram = preprocessor.processing(run=run, task=\"task\")\n",
    "        task_files = [{\"image\": tomogram}]\n",
    "        task_ds = CacheDataset(data=task_files, transform=non_random_transforms)\n",
    "        task_loader = DataLoader(task_ds, batch_size=1, num_workers=0)\n",
    "        \n",
    "        for task_data in task_loader:\n",
    "            images = task_data['image'].to(\"cuda\")\n",
    "            outputs = sliding_window_inference(\n",
    "                inputs=images,\n",
    "                roi_size=(96, 96, 96),  # ROI 크기\n",
    "                sw_batch_size=4,\n",
    "                predictor=model.forward,\n",
    "                overlap=0.1,\n",
    "                sw_device=\"cuda\",\n",
    "                device=\"cpu\",\n",
    "                buffer_steps=1,\n",
    "                buffer_dim=-1\n",
    "            )\n",
    "            outputs = outputs.argmax(dim=1).squeeze(0).cpu().numpy()  # 클래스 채널 예측\n",
    "            location = {}  # 좌표 저장용 딕셔너리\n",
    "            for c in classes:\n",
    "                cc = cc3d.connected_components(outputs == c)  # cc3d 라벨링\n",
    "                stats = cc3d.statistics(cc)\n",
    "                zyx = stats['centroids'][1:] * 10.012444  # 스케일 변환\n",
    "                zyx_large = zyx[stats['voxel_counts'][1:] > BLOB_THRESHOLD]  # 크기 필터링\n",
    "                xyz = np.ascontiguousarray(zyx_large[:, ::-1])  # 좌표 스왑 (z, y, x -> x, y, z)\n",
    "\n",
    "                location[id_to_name[c]] = xyz  # ID 이름 매칭 저장\n",
    "\n",
    "            # 데이터프레임 변환\n",
    "            df = dict_to_df(location, run.name)\n",
    "            location_dfs.append(df)  # 리스트에 추가\n",
    "        \n",
    "        # if vol_idx == 2:\n",
    "        #     break\n",
    "    \n",
    "    # DataFrame 병합\n",
    "    final_df = pd.concat(location_dfs, ignore_index=True)\n",
    "    \n",
    "    # ID 추가 및 CSV 저장\n",
    "    final_df.insert(loc=0, column='id', value=np.arange(len(final_df)))\n",
    "    final_df.to_csv(\"submission.csv\", index=False)\n",
    "    print(\"Submission saved to: submission.csv\")\n"
   ]
  }
 ],
 "metadata": {
  "kernelspec": {
   "display_name": "UM",
   "language": "python",
   "name": "python3"
  },
  "language_info": {
   "codemirror_mode": {
    "name": "ipython",
    "version": 3
   },
   "file_extension": ".py",
   "mimetype": "text/x-python",
   "name": "python",
   "nbconvert_exporter": "python",
   "pygments_lexer": "ipython3",
   "version": "3.12.7"
  }
 },
 "nbformat": 4,
 "nbformat_minor": 2
}
