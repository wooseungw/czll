{
 "cells": [
  {
   "cell_type": "code",
   "execution_count": 1,
   "metadata": {},
   "outputs": [
    {
     "name": "stderr",
     "output_type": "stream",
     "text": [
      "c:\\Users\\pook0\\.conda\\envs\\UM\\Lib\\site-packages\\tqdm\\auto.py:21: TqdmWarning: IProgress not found. Please update jupyter and ipywidgets. See https://ipywidgets.readthedocs.io/en/stable/user_install.html\n",
      "  from .autonotebook import tqdm as notebook_tqdm\n"
     ]
    },
    {
     "name": "stdout",
     "output_type": "stream",
     "text": [
      "MONAI version: 1.4.0\n",
      "Numpy version: 1.26.4\n",
      "Pytorch version: 2.4.1+cu121\n",
      "MONAI flags: HAS_EXT = False, USE_COMPILED = False, USE_META_DICT = False\n",
      "MONAI rev id: 46a5272196a6c2590ca2589029eed8e4d56ff008\n",
      "MONAI __file__: c:\\Users\\<username>\\.conda\\envs\\UM\\Lib\\site-packages\\monai\\__init__.py\n",
      "\n",
      "Optional dependencies:\n",
      "Pytorch Ignite version: NOT INSTALLED or UNKNOWN VERSION.\n",
      "ITK version: NOT INSTALLED or UNKNOWN VERSION.\n",
      "Nibabel version: 5.3.2\n",
      "scikit-image version: 0.24.0\n",
      "scipy version: 1.14.1\n",
      "Pillow version: 10.2.0\n",
      "Tensorboard version: 2.18.0\n",
      "gdown version: 5.2.0\n",
      "TorchVision version: 0.19.1+cu121\n",
      "tqdm version: 4.66.5\n",
      "lmdb version: NOT INSTALLED or UNKNOWN VERSION.\n",
      "psutil version: 6.0.0\n",
      "pandas version: 2.2.3\n",
      "einops version: 0.8.0\n",
      "transformers version: NOT INSTALLED or UNKNOWN VERSION.\n",
      "mlflow version: 2.17.2\n",
      "pynrrd version: NOT INSTALLED or UNKNOWN VERSION.\n",
      "clearml version: NOT INSTALLED or UNKNOWN VERSION.\n",
      "\n",
      "For details about installing the optional dependencies, please visit:\n",
      "    https://docs.monai.io/en/latest/installation.html#installing-the-recommended-dependencies\n",
      "\n"
     ]
    }
   ],
   "source": [
    "import os\n",
    "import shutil\n",
    "import tempfile\n",
    "\n",
    "import matplotlib.pyplot as plt\n",
    "from tqdm import tqdm\n",
    "\n",
    "import random\n",
    "import numpy as np\n",
    "import torch\n",
    "\n",
    "\n",
    "from monai.losses import DiceCELoss\n",
    "from monai.inferers import sliding_window_inference\n",
    "from monai.transforms import (\n",
    "    AsDiscrete,\n",
    "    EnsureChannelFirstd,\n",
    "    Compose,\n",
    "    CropForegroundd,\n",
    "    LoadImaged,\n",
    "    Orientationd,\n",
    "    RandFlipd,\n",
    "    RandCropByPosNegLabeld,\n",
    "    RandShiftIntensityd,\n",
    "    ScaleIntensityRanged,\n",
    "    Spacingd,\n",
    "    RandRotate90d,\n",
    ")\n",
    "\n",
    "from monai.config import print_config\n",
    "from monai.metrics import DiceMetric\n",
    "# from src.models.swincspunetr import SwinCSPUNETR\n",
    "# from src.models.swincspunetr_unet import SwinCSPUNETR_unet\n",
    "# from src.models.swincspunetr3plus import SwinCSPUNETR3plus\n",
    "\n",
    "from monai.data import (\n",
    "    DataLoader,\n",
    "    CacheDataset,\n",
    "    load_decathlon_datalist,\n",
    "    decollate_batch,\n",
    ")\n",
    "\n",
    "# 랜덤 시드 고정\n",
    "def set_seed(seed):\n",
    "    random.seed(seed)\n",
    "    np.random.seed(seed)\n",
    "    torch.manual_seed(seed)\n",
    "    if torch.cuda.is_available():\n",
    "        torch.cuda.manual_seed_all(seed)\n",
    "\n",
    "set_seed(42)\n",
    "\n",
    "\n",
    "print_config()"
   ]
  },
  {
   "cell_type": "code",
   "execution_count": 2,
   "metadata": {},
   "outputs": [
    {
     "name": "stdout",
     "output_type": "stream",
     "text": [
      "클래스 비율: {0: 0.0, 1: 0.16393442622950818, 2: 0.01639344262295082, 3: 0.2459016393442623, 4: 0.16393442622950818, 5: 0.2459016393442623, 6: 0.16393442622950818}\n",
      "최종 합계: 1.0\n",
      "클래스 비율 리스트: [0.0, 0.16393442622950818, 0.01639344262295082, 0.2459016393442623, 0.16393442622950818, 0.2459016393442623, 0.16393442622950818]\n"
     ]
    }
   ],
   "source": [
    "class_info = {\n",
    "    0: {\"name\": \"background\", \"weight\": 0},  # weight 없음\n",
    "    1: {\"name\": \"apo-ferritin\", \"weight\": 1000},\n",
    "    2: {\"name\": \"beta-amylase\", \"weight\": 100}, # 4130\n",
    "    3: {\"name\": \"beta-galactosidase\", \"weight\": 1500}, #3080\n",
    "    4: {\"name\": \"ribosome\", \"weight\": 1000},\n",
    "    5: {\"name\": \"thyroglobulin\", \"weight\": 1500},\n",
    "    6: {\"name\": \"virus-like-particle\", \"weight\": 1000},\n",
    "}\n",
    "\n",
    "# 가중치에 비례한 비율 계산\n",
    "raw_ratios = {\n",
    "    k: (v[\"weight\"] if v[\"weight\"] is not None else 0.01)  # 가중치 비례, None일 경우 기본값a\n",
    "    for k, v in class_info.items()\n",
    "}\n",
    "total = sum(raw_ratios.values())\n",
    "ratios = {k: v / total for k, v in raw_ratios.items()}\n",
    "\n",
    "# 최종 합계가 1인지 확인\n",
    "final_total = sum(ratios.values())\n",
    "print(\"클래스 비율:\", ratios)\n",
    "print(\"최종 합계:\", final_total)\n",
    "\n",
    "# 비율을 리스트로 변환\n",
    "ratios_list = [ratios[k] for k in sorted(ratios.keys())]\n",
    "print(\"클래스 비율 리스트:\", ratios_list)"
   ]
  },
  {
   "cell_type": "markdown",
   "metadata": {},
   "source": [
    "# 모델 설정"
   ]
  },
  {
   "cell_type": "code",
   "execution_count": null,
   "metadata": {},
   "outputs": [],
   "source": [
    "from src.dataset.dataset import create_dataloaders\n",
    "from monai.transforms import (\n",
    "    Compose, LoadImaged, EnsureChannelFirstd, NormalizeIntensityd,\n",
    "    Orientationd, CropForegroundd, GaussianSmoothd, ScaleIntensityd,\n",
    "    RandSpatialCropd, RandRotate90d, RandFlipd, RandGaussianNoised,\n",
    "    ToTensord, RandCropByLabelClassesd\n",
    ")\n",
    "from monai.transforms import CastToTyped\n",
    "import numpy as np\n",
    "\n",
    "train_img_dir = \"./datasets/train/images\"\n",
    "train_label_dir = \"./datasets/train/labels\"\n",
    "val_img_dir = \"./datasets/val/images\"\n",
    "val_label_dir = \"./datasets/val/labels\"\n",
    "# DATA CONFIG\n",
    "img_size =  96 # Match your patch size\n",
    "img_depth = img_size\n",
    "n_classes = 7\n",
    "batch_size = 16 # 13.8GB GPU memory required for 128x128 img size\n",
    "loader_batch = 1\n",
    "num_samples = batch_size // loader_batch # 한 이미지에서 뽑을 샘플 수\n",
    "num_repeat = 4\n",
    "# MODEL CONFIG\n",
    "num_epochs = 4000\n",
    "lamda = 0.5\n",
    "ce_weight = 0.4\n",
    "lr = 0.001\n",
    "feature_size = 48\n",
    "use_checkpoint = True\n",
    "use_v2 = True\n",
    "drop_rate= 0.25\n",
    "attn_drop_rate = 0.25\n",
    "num_bottleneck = 2\n",
    "# CLASS_WEIGHTS\n",
    "class_weights = None\n",
    "class_weights = torch.tensor([0.0001, 1, 0.001, 1.1, 1, 1.1, 1], dtype=torch.float32)  # 클래스별 가중치\n",
    "\n",
    "accumulation_steps = 1\n",
    "# INIT\n",
    "start_epoch = 0\n",
    "best_val_loss = float('inf')\n",
    "best_val_fbeta_score = 0\n",
    "\n",
    "non_random_transforms = Compose([\n",
    "    EnsureChannelFirstd(keys=[\"image\", \"label\"], channel_dim=\"no_channel\"),\n",
    "    NormalizeIntensityd(keys=\"image\"),\n",
    "    Orientationd(keys=[\"image\", \"label\"], axcodes=\"RAS\"),\n",
    "    # CastToTyped(keys=[\"image\"], dtype=np.float16),\n",
    "    GaussianSmoothd(\n",
    "        keys=[\"image\"],      # 변환을 적용할 키\n",
    "        sigma=[1.0, 1.0, 1.0]  # 각 축(x, y, z)의 시그마 값\n",
    "        ),\n",
    "])\n",
    "random_transforms = Compose([\n",
    "    RandCropByLabelClassesd(\n",
    "        keys=[\"image\", \"label\"],\n",
    "        label_key=\"label\",\n",
    "        spatial_size=[img_depth, img_size, img_size],\n",
    "        num_classes=n_classes,\n",
    "        num_samples=num_samples, \n",
    "        ratios=ratios_list,\n",
    "    ),\n",
    "    RandRotate90d(keys=[\"image\", \"label\"], prob=0.5, spatial_axes=[1, 2]),\n",
    "    RandFlipd(keys=[\"image\", \"label\"], prob=0.5, spatial_axis=0),\n",
    "    RandFlipd(keys=[\"image\", \"label\"], prob=0.5, spatial_axis=1),\n",
    "    RandFlipd(keys=[\"image\", \"label\"], prob=0.5, spatial_axis=2),\n",
    "])\n"
   ]
  },
  {
   "cell_type": "code",
   "execution_count": 4,
   "metadata": {},
   "outputs": [
    {
     "name": "stderr",
     "output_type": "stream",
     "text": [
      "Loading dataset: 100%|██████████| 24/24 [00:01<00:00, 12.16it/s]\n",
      "Loading dataset: 100%|██████████| 4/4 [00:00<00:00, 12.49it/s]\n"
     ]
    }
   ],
   "source": [
    "train_loader, val_loader = None, None\n",
    "train_loader, val_loader = create_dataloaders(\n",
    "    train_img_dir, \n",
    "    train_label_dir, \n",
    "    val_img_dir, \n",
    "    val_label_dir, \n",
    "    non_random_transforms = non_random_transforms, \n",
    "    random_transforms = random_transforms, \n",
    "    batch_size = loader_batch,\n",
    "    num_workers=0,train_num_repeat=num_repeat)"
   ]
  },
  {
   "cell_type": "markdown",
   "metadata": {},
   "source": [
    "https://monai.io/model-zoo.html"
   ]
  },
  {
   "cell_type": "code",
   "execution_count": 5,
   "metadata": {},
   "outputs": [],
   "source": [
    "from monai.losses import TverskyLoss\n",
    "import torch\n",
    "import torch.nn as nn\n",
    "\n",
    "def loss_fn(loss, class_weights, device):\n",
    "    \"\"\"\n",
    "    Tversky 손실에 클래스별 가중치를 적용하여 최종 스칼라 값을 반환합니다.\n",
    "\n",
    "    Args:\n",
    "        loss: Tversky 손실 텐서 (B, num_classes, H, W, D).\n",
    "        class_weights: 클래스별 가중치 텐서 (num_classes,).\n",
    "        device: 사용할 장치 (예: 'cuda' 또는 'cpu').\n",
    "\n",
    "    Returns:\n",
    "        torch.Tensor: 최종 가중 평균 손실 값 (스칼라).\n",
    "    \"\"\"\n",
    "    # 가중치를 device로 이동\n",
    "    class_weights = class_weights.to(device)\n",
    "\n",
    "    # 클래스 차원에 가중치 적용 (B, num_classes, ...)\n",
    "    class_weights = class_weights.view(1, n_classes, 1, 1, 1)  # [1, num_classes, 1, 1, 1]\n",
    "    weighted_loss = loss * class_weights\n",
    "\n",
    "    # 모든 차원을 평균 내어 스칼라 손실 반환\n",
    "    final_loss = torch.mean(weighted_loss)\n",
    "    return final_loss\n",
    "\n",
    "class DynamicTverskyLoss(TverskyLoss):\n",
    "    def __init__(self, lamda=0.5, **kwargs):\n",
    "        super().__init__(alpha=1 - lamda, beta=lamda, **kwargs)\n",
    "        self.lamda = lamda\n",
    "\n",
    "    def set_lamda(self, lamda):\n",
    "        self.lamda = lamda\n",
    "        self.alpha = 1 - lamda\n",
    "        self.beta = lamda\n",
    "        \n",
    "# criterion = DynamicTverskyLoss(\n",
    "#     lamda=0.5,\n",
    "#     include_background=False,\n",
    "#     reduction=\"mean\",\n",
    "#     softmax=True\n",
    "# )\n",
    "\n",
    "class CombinedCETverskyLoss(nn.Module):\n",
    "    def __init__(self, lamda=0.5, ce_weight=0.5, **kwargs):\n",
    "        super().__init__()\n",
    "        self._lamda = lamda  # lamda 값 저장\n",
    "        self.tversky = DynamicTverskyLoss(lamda=lamda, **kwargs)\n",
    "        self.ce = nn.CrossEntropyLoss()\n",
    "        self.ce_weight = ce_weight\n",
    "        \n",
    "    def forward(self, inputs, targets):\n",
    "        tversky_loss = self.tversky(inputs, targets)\n",
    "        ce_loss = self.ce(inputs, targets)\n",
    "        return self.ce_weight * ce_loss + (1 - self.ce_weight) * tversky_loss\n",
    "    \n",
    "    def set_lamda(self, lamda):\n",
    "        self._lamda = lamda\n",
    "        self.tversky.set_lamda(lamda)\n",
    "    \n",
    "    @property\n",
    "    def lamda(self):\n",
    "        return self._lamda\n",
    "\n",
    "criterion = CombinedCETverskyLoss(\n",
    "    lamda=lamda,\n",
    "    ce_weight=ce_weight,  # CE Loss와 Tversky Loss의 비중을 0.5:0.5로 설정\n",
    "    include_background=False,\n",
    "    reduction=\"mean\",\n",
    "    softmax=True\n",
    ")"
   ]
  },
  {
   "cell_type": "code",
   "execution_count": null,
   "metadata": {},
   "outputs": [],
   "source": [
    "import torch.optim as optim\n",
    "from tqdm import tqdm\n",
    "import numpy as np\n",
    "import torch\n",
    "from pathlib import Path\n",
    "from monai.networks.nets import UNet\n",
    "\n",
    "device = torch.device(\"cuda\" if torch.cuda.is_available() else \"cpu\")\n",
    "\n",
    "\n",
    "model = UNet(\n",
    "    # img_size = (96, 96, 96),\n",
    "    spatial_dims=3,\n",
    "    in_channels=1,\n",
    "    out_channels=7,\n",
    "    channels=(48, 64, 80, 80),\n",
    "    strides=(2, 2, 1),\n",
    "    num_res_units=1,\n",
    "    dropout = drop_rate,\n",
    "    # channels=(16, 32, 64, 128, 256),\n",
    "    # strides=(2, 2, 2, 2),\n",
    "    # num_res_units=2,\n",
    ").to(device)\n",
    "\n",
    "# model = SwinCSPUNETR3plus(\n",
    "#     img_size=(img_depth, img_size, img_size),\n",
    "#     in_channels=1,\n",
    "#     out_channels=n_classes,\n",
    "#     feature_size=feature_size,\n",
    "#     use_checkpoint=True,\n",
    "#     drop_rate = drop_rate,\n",
    "#     attn_drop_rate = attn_drop_rate,\n",
    "#     use_v2 = use_v2,\n",
    "#     n = num_bottleneck,\n",
    "# ).to(device)\n",
    "# Pretrained weights 불러오기\n",
    "# if use_checkpoint:\n",
    "#     pretrain_path = \"./swin_unetr_btcv_segmentation/models/model.pt\"\n",
    "#     weight = torch.load(pretrain_path, map_location=device)\n",
    "\n",
    "#     # 출력 레이어의 키를 제외한 나머지 가중치만 로드\n",
    "#     filtered_weights = {k: v for k, v in weight.items() if \"out.conv.conv\" not in k}\n",
    "\n",
    "#     # strict=False로 로드하여 불일치하는 부분 무시\n",
    "#     model.load_state_dict(filtered_weights, strict=False)\n",
    "#     print(\"Filtered weights loaded successfully. Output layer will be trained from scratch.\")\n",
    "\n",
    "# Load pretrained weights\n",
    "# model.load_from(weights=np.load(config_vit.real_pretrained_path, allow_pickle=True))\n",
    "# TverskyLoss 설정\n",
    "# 사용 예시\n",
    "\n",
    "pretrain_str = \"yes\" if use_checkpoint else \"no\"\n",
    "weight_str = \"weighted\" if class_weights is not None else \"\"\n",
    "\n",
    "# 체크포인트 디렉토리 및 파일 설정\n",
    "checkpoint_base_dir = Path(\"./model_checkpoints\")\n",
    "folder_name = f\"UNET_10441_noclassweight_p{pretrain_str}_{weight_str}_f{feature_size}_d{img_depth}s{img_size}_numb{num_bottleneck}_lr{lr:.0e}_a{lamda:.2f}_b{1-lamda:.2f}_b{batch_size}_r{num_repeat}_ce{ce_weight}_ac{accumulation_steps}\"\n",
    "checkpoint_dir = checkpoint_base_dir / folder_name\n",
    "optimizer = optim.AdamW(model.parameters(), lr=lr, weight_decay=1e-5)\n",
    "scheduler = torch.optim.lr_scheduler.ReduceLROnPlateau(optimizer, patience=5, factor=0.5)\n",
    "# 체크포인트 디렉토리 생성\n",
    "checkpoint_dir.mkdir(parents=True, exist_ok=True)\n",
    "\n",
    "if checkpoint_dir.exists():\n",
    "    best_model_path = checkpoint_dir / 'best_model.pt'\n",
    "    if best_model_path.exists():\n",
    "        print(f\"기존 best model 발견: {best_model_path}\")\n",
    "        try:\n",
    "            checkpoint = torch.load(best_model_path, map_location=device)\n",
    "            # 체크포인트 내부 키 검증\n",
    "            required_keys = ['model_state_dict', 'optimizer_state_dict', 'epoch', 'best_val_loss']\n",
    "            if all(k in checkpoint for k in required_keys):\n",
    "                model.load_state_dict(checkpoint['model_state_dict'])\n",
    "                optimizer.load_state_dict(checkpoint['optimizer_state_dict'])\n",
    "                start_epoch = checkpoint['epoch']\n",
    "                best_val_loss = checkpoint['best_val_loss']\n",
    "                print(\"기존 학습된 가중치를 성공적으로 로드했습니다.\")\n",
    "                checkpoint= None\n",
    "            else:\n",
    "                raise ValueError(\"체크포인트 파일에 필요한 key가 없습니다.\")\n",
    "        except Exception as e:\n",
    "            print(f\"체크포인트 파일을 로드하는 중 오류 발생: {e}\")"
   ]
  },
  {
   "cell_type": "code",
   "execution_count": 7,
   "metadata": {},
   "outputs": [
    {
     "name": "stdout",
     "output_type": "stream",
     "text": [
      "torch.Size([16, 1, 96, 96, 96]) torch.Size([16, 1, 96, 96, 96])\n"
     ]
    }
   ],
   "source": [
    "batch = next(iter(val_loader))\n",
    "images, labels = batch[\"image\"], batch[\"label\"]\n",
    "print(images.shape, labels.shape)"
   ]
  },
  {
   "cell_type": "code",
   "execution_count": 8,
   "metadata": {},
   "outputs": [],
   "source": [
    "torch.backends.cudnn.benchmark = True"
   ]
  },
  {
   "cell_type": "code",
   "execution_count": 9,
   "metadata": {},
   "outputs": [
    {
     "name": "stderr",
     "output_type": "stream",
     "text": [
      "\u001b[34m\u001b[1mwandb\u001b[0m: Using wandb-core as the SDK backend.  Please refer to https://wandb.me/wandb-core for more information.\n",
      "\u001b[34m\u001b[1mwandb\u001b[0m: Currently logged in as: \u001b[33mpook0612\u001b[0m (\u001b[33mlimbw\u001b[0m). Use \u001b[1m`wandb login --relogin`\u001b[0m to force relogin\n"
     ]
    },
    {
     "data": {
      "text/html": [
       "Tracking run with wandb version 0.19.1"
      ],
      "text/plain": [
       "<IPython.core.display.HTML object>"
      ]
     },
     "metadata": {},
     "output_type": "display_data"
    },
    {
     "data": {
      "text/html": [
       "Run data is saved locally in <code>d:\\Workspace\\czll\\wandb\\run-20250111_202656-gzciwlkt</code>"
      ],
      "text/plain": [
       "<IPython.core.display.HTML object>"
      ]
     },
     "metadata": {},
     "output_type": "display_data"
    },
    {
     "data": {
      "text/html": [
       "Syncing run <strong><a href='https://wandb.ai/limbw/czii_SwinUnetR/runs/gzciwlkt' target=\"_blank\">UNET_nogaussian_noclassweight_pyes_weighted_f48_d96s96_numb2_lr1e-03_a0.50_b0.50_b16_r3_ce0.4_ac4</a></strong> to <a href='https://wandb.ai/limbw/czii_SwinUnetR' target=\"_blank\">Weights & Biases</a> (<a href='https://wandb.me/developer-guide' target=\"_blank\">docs</a>)<br>"
      ],
      "text/plain": [
       "<IPython.core.display.HTML object>"
      ]
     },
     "metadata": {},
     "output_type": "display_data"
    },
    {
     "data": {
      "text/html": [
       " View project at <a href='https://wandb.ai/limbw/czii_SwinUnetR' target=\"_blank\">https://wandb.ai/limbw/czii_SwinUnetR</a>"
      ],
      "text/plain": [
       "<IPython.core.display.HTML object>"
      ]
     },
     "metadata": {},
     "output_type": "display_data"
    },
    {
     "data": {
      "text/html": [
       " View run at <a href='https://wandb.ai/limbw/czii_SwinUnetR/runs/gzciwlkt' target=\"_blank\">https://wandb.ai/limbw/czii_SwinUnetR/runs/gzciwlkt</a>"
      ],
      "text/plain": [
       "<IPython.core.display.HTML object>"
      ]
     },
     "metadata": {},
     "output_type": "display_data"
    }
   ],
   "source": [
    "import wandb\n",
    "from datetime import datetime\n",
    "\n",
    "current_time = datetime.now().strftime('%Y%m%d_%H%M%S')\n",
    "run_name = folder_name\n",
    "\n",
    "# wandb 초기화\n",
    "wandb.init(\n",
    "    project='czii_SwinUnetR',  # 프로젝트 이름 설정\n",
    "    name=run_name,         # 실행(run) 이름 설정\n",
    "    config={\n",
    "        'num_epochs': num_epochs,\n",
    "        'learning_rate': lr,\n",
    "        'batch_size': batch_size,\n",
    "        'lambda': lamda,\n",
    "        \"cross_entropy_weight\": ce_weight,\n",
    "        'feature_size': feature_size,\n",
    "        'img_size': img_size,\n",
    "        'sampling_ratio': ratios_list,\n",
    "        'device': device.type,\n",
    "        \"checkpoint_dir\": str(checkpoint_dir),\n",
    "        \"class_weights\": class_weights.tolist() if class_weights is not None else None,\n",
    "        \"use_checkpoint\": use_checkpoint,\n",
    "        \"drop_rate\": drop_rate,\n",
    "        \"attn_drop_rate\": attn_drop_rate,\n",
    "        \"use_v2\": use_v2,\n",
    "        \"accumulation_steps\": accumulation_steps,\n",
    "        \"num_repeat\": num_repeat,\n",
    "        \"num_bottleneck\": num_bottleneck,\n",
    "        \n",
    "        # 필요한 하이퍼파라미터 추가\n",
    "    }\n",
    ")\n",
    "# 모델을 wandb에 연결\n",
    "wandb.watch(model, log='all')"
   ]
  },
  {
   "cell_type": "markdown",
   "metadata": {},
   "source": [
    "# 학습"
   ]
  },
  {
   "cell_type": "code",
   "execution_count": null,
   "metadata": {},
   "outputs": [],
   "source": [
    "from monai.metrics import DiceMetric\n",
    "    \n",
    "def processing(batch_data, model, criterion, device):\n",
    "    images = batch_data['image'].to(device)  # Input 이미지 (B, 1, 96, 96, 96)\n",
    "    labels = batch_data['label'].to(device)  # 라벨 (B, 96, 96, 96)\n",
    "\n",
    "    labels = labels.squeeze(1)  # (B, 1, 96, 96, 96) → (B, 96, 96, 96)\n",
    "    labels = labels.long()  # 라벨을 정수형으로 변환\n",
    "\n",
    "    # 원핫 인코딩 (B, H, W, D) → (B, num_classes, H, W, D)\n",
    "    \n",
    "    labels_onehot = torch.nn.functional.one_hot(labels, num_classes=n_classes)\n",
    "    labels_onehot = labels_onehot.permute(0, 4, 1, 2, 3).float()  # (B, num_classes, H, W, D)\n",
    "\n",
    "    # 모델 예측\n",
    "    outputs = model(images)  # outputs: (B, num_classes, H, W, D)\n",
    "\n",
    "    # Loss 계산\n",
    "    loss = criterion(outputs, labels_onehot)\n",
    "    # loss = loss_fn(criterion(outputs, labels_onehot),class_weights=class_weights, device=device)\n",
    "    return loss, outputs, labels, outputs.argmax(dim=1)\n",
    "\n",
    "def train_one_epoch(model, train_loader, criterion, optimizer, device, epoch, accumulation_steps=4):\n",
    "    model.train()\n",
    "    epoch_loss = 0\n",
    "    optimizer.zero_grad()  # 그래디언트 초기화\n",
    "    with tqdm(train_loader, desc='Training') as pbar:\n",
    "        for i, batch_data in enumerate(pbar):\n",
    "            # 손실 계산\n",
    "            loss, _, _, _ = processing(batch_data, model, criterion, device)\n",
    "\n",
    "            # 그래디언트를 계산하고 누적\n",
    "            loss = loss / accumulation_steps  # 그래디언트 누적을 위한 스케일링\n",
    "            loss.backward()  # 그래디언트 계산 및 누적\n",
    "            \n",
    "            # 그래디언트 업데이트 (accumulation_steps마다 한 번)\n",
    "            if (i + 1) % accumulation_steps == 0 or (i + 1) == len(train_loader):\n",
    "                optimizer.step()  # 파라미터 업데이트\n",
    "                optimizer.zero_grad()  # 누적된 그래디언트 초기화\n",
    "            \n",
    "            # 손실값 누적 (스케일링 복구)\n",
    "            epoch_loss += loss.item() * accumulation_steps  # 실제 손실값 반영\n",
    "            pbar.set_postfix(loss=loss.item() * accumulation_steps)  # 실제 손실값 출력\n",
    "    avg_loss = epoch_loss / len(train_loader)\n",
    "    wandb.log({'train_epoch_loss': avg_loss, 'epoch': epoch + 1})\n",
    "    return avg_loss\n",
    "\n",
    "\n",
    "def validate_one_epoch(model, val_loader, criterion, device, epoch, calculate_dice_interval):\n",
    "    model.eval()\n",
    "    val_loss = 0\n",
    "    \n",
    "    class_dice_scores = {i: [] for i in range(n_classes)}\n",
    "    class_f_beta_scores = {i: [] for i in range(n_classes)}\n",
    "    with torch.no_grad():\n",
    "        with tqdm(val_loader, desc='Validation') as pbar:\n",
    "            for batch_data in pbar:\n",
    "                loss, _, labels, preds = processing(batch_data, model, criterion, device)\n",
    "                val_loss += loss.item()\n",
    "                pbar.set_postfix(loss=loss.item())\n",
    "\n",
    "                # 각 클래스별 Dice 점수 계산\n",
    "                if epoch % calculate_dice_interval == 0:\n",
    "                    for i in range(n_classes):\n",
    "                        pred_i = (preds == i)\n",
    "                        label_i = (labels == i)\n",
    "                        dice_score = (2.0 * torch.sum(pred_i & label_i)) / (torch.sum(pred_i) + torch.sum(label_i) + 1e-8)\n",
    "                        class_dice_scores[i].append(dice_score.item())\n",
    "                        precision = (torch.sum(pred_i & label_i) + 1e-8) / (torch.sum(pred_i) + 1e-8)\n",
    "                        recall = (torch.sum(pred_i & label_i) + 1e-8) / (torch.sum(label_i) + 1e-8)\n",
    "                        f_beta_score = (1 + 4**2) * (precision * recall) / (4**2 * precision + recall + 1e-8)\n",
    "                        class_f_beta_scores[i].append(f_beta_score.item())\n",
    "\n",
    "    avg_loss = val_loss / len(val_loader)\n",
    "    # 에포크별 평균 손실 로깅\n",
    "    wandb.log({'val_epoch_loss': avg_loss, 'epoch': epoch + 1})\n",
    "    \n",
    "    # 각 클래스별 평균 Dice 점수 출력\n",
    "    if epoch % calculate_dice_interval == 0:\n",
    "        print(\"Validation Dice Score\")\n",
    "        all_classes_dice_scores = []\n",
    "        for i in range(n_classes):\n",
    "            mean_dice = np.mean(class_dice_scores[i])\n",
    "            wandb.log({f'class_{i}_dice_score': mean_dice, 'epoch': epoch + 1})\n",
    "            print(f\"Class {i}: {mean_dice:.4f}\", end=\", \")\n",
    "            if i not in [0, 2]:  # 평균에 포함할 클래스만 추가\n",
    "                all_classes_dice_scores.append(mean_dice)\n",
    "            \n",
    "        print()\n",
    "    if epoch % calculate_dice_interval == 0:\n",
    "        print(\"Validation F-beta Score\")\n",
    "        all_classes_fbeta_scores = []\n",
    "        for i in range(n_classes):\n",
    "            mean_fbeta = np.mean(class_f_beta_scores[i])\n",
    "            wandb.log({f'class_{i}_f_beta_score': mean_fbeta, 'epoch': epoch + 1})\n",
    "            print(f\"Class {i}: {mean_fbeta:.4f}\", end=\", \")\n",
    "            if i not in [0, 2]:  # 평균에 포함할 클래스만 추가\n",
    "                all_classes_fbeta_scores.append(mean_fbeta)\n",
    "                \n",
    "        print()\n",
    "        overall_mean_dice = np.mean(all_classes_dice_scores)\n",
    "        overall_mean_fbeta = np.mean(all_classes_fbeta_scores)\n",
    "        wandb.log({'overall_mean_f_beta_score': overall_mean_fbeta, 'overall_mean_dice_score': overall_mean_dice, 'epoch': epoch + 1})\n",
    "        print(f\"\\nOverall Mean Dice Score: {overall_mean_dice:.4f}\\nOverall Mean F-beta Score: {overall_mean_fbeta:.4f}\\n\")\n",
    "\n",
    "    if overall_mean_fbeta is None:\n",
    "        overall_mean_fbeta = 0\n",
    "\n",
    "    return val_loss / len(val_loader), overall_mean_fbeta\n",
    "\n",
    "def train_model(\n",
    "    model, train_loader, val_loader, criterion, optimizer, num_epochs, patience, \n",
    "    device, start_epoch, best_val_loss, best_val_fbeta_score, calculate_dice_interval=1,\n",
    "    accumulation_steps=4\n",
    "):\n",
    "    \"\"\"\n",
    "    모델을 학습하고 검증하는 함수\n",
    "    Args:\n",
    "        model: 학습할 모델\n",
    "        train_loader: 학습 데이터 로더\n",
    "        val_loader: 검증 데이터 로더\n",
    "        criterion: 손실 함수\n",
    "        optimizer: 최적화 알고리즘\n",
    "        num_epochs: 총 학습 epoch 수\n",
    "        patience: early stopping 기준\n",
    "        device: GPU/CPU 장치\n",
    "        start_epoch: 시작 epoch\n",
    "        best_val_loss: 이전 최적 validation loss\n",
    "        best_val_fbeta_score: 이전 최적 validation f-beta score\n",
    "        calculate_dice_interval: Dice 점수 계산 주기\n",
    "    \"\"\"\n",
    "    epochs_no_improve = 0\n",
    "\n",
    "    for epoch in range(start_epoch, num_epochs):\n",
    "        print(f\"Epoch {epoch + 1}/{num_epochs}\")\n",
    "\n",
    "        # Train One Epoch\n",
    "        train_loss = train_one_epoch(\n",
    "            model=model, \n",
    "            train_loader=train_loader, \n",
    "            criterion=criterion, \n",
    "            optimizer=optimizer, \n",
    "            device=device,\n",
    "            epoch=epoch,\n",
    "            accumulation_steps= accumulation_steps\n",
    "        )\n",
    "        \n",
    "        scheduler.step(train_loss)\n",
    "        # Validate One Epoch\n",
    "        val_loss, overall_mean_fbeta_score = validate_one_epoch(\n",
    "            model=model, \n",
    "            val_loader=val_loader, \n",
    "            criterion=criterion, \n",
    "            device=device, \n",
    "            epoch=epoch, \n",
    "            calculate_dice_interval=calculate_dice_interval\n",
    "        )\n",
    "\n",
    "        \n",
    "        print(f\"Training Loss: {train_loss:.4f}, Validation Loss: {val_loss:.4f}, Validation F-beta: {overall_mean_fbeta_score:.4f}\")\n",
    "\n",
    "        if val_loss < best_val_loss and overall_mean_fbeta_score > best_val_fbeta_score:\n",
    "            best_val_loss = val_loss\n",
    "            best_val_fbeta_score = overall_mean_fbeta_score\n",
    "            epochs_no_improve = 0\n",
    "            checkpoint_path = os.path.join(checkpoint_dir, 'best_model.pt')\n",
    "            torch.save({\n",
    "                'epoch': epoch + 1,\n",
    "                'model_state_dict': model.state_dict(),\n",
    "                'optimizer_state_dict': optimizer.state_dict(),\n",
    "                'best_val_loss': best_val_loss,\n",
    "                'best_val_fbeta_score': best_val_fbeta_score\n",
    "            }, checkpoint_path)\n",
    "            print(f\"========================================================\")\n",
    "            print(f\"SUPER Best model saved. Loss:{best_val_loss:.4f}, Score:{best_val_fbeta_score:.4f}\")\n",
    "            print(f\"========================================================\")\n",
    "\n",
    "        # Early stopping 조건 체크\n",
    "        if val_loss >= best_val_loss and overall_mean_fbeta_score <= best_val_fbeta_score:\n",
    "            epochs_no_improve += 1\n",
    "        else:\n",
    "            epochs_no_improve = 0\n",
    "\n",
    "        if epochs_no_improve >= patience:\n",
    "            print(\"Early stopping\")\n",
    "            checkpoint_path = os.path.join(checkpoint_dir, 'last.pt')\n",
    "            torch.save({\n",
    "                'epoch': epoch + 1,\n",
    "                'model_state_dict': model.state_dict(),\n",
    "                'optimizer_state_dict': optimizer.state_dict(),\n",
    "                'best_val_loss': best_val_loss,\n",
    "                'best_val_fbeta_score': best_val_fbeta_score\n",
    "            }, checkpoint_path)\n",
    "            break\n",
    "        if epochs_no_improve % 6 == 0 & epochs_no_improve != 0:\n",
    "            # 손실이 개선되지 않았으므로 lambda 감소\n",
    "            new_lamda = max(criterion.lamda - 0.01, 0.35)  # 최소값은 0.1로 설정\n",
    "            criterion.set_lamda(new_lamda)\n",
    "            print(f\"Validation loss did not improve. Reducing lambda to {new_lamda:.4f}\")\n",
    "\n",
    "    wandb.finish()\n"
   ]
  },
  {
   "cell_type": "code",
   "execution_count": null,
   "metadata": {},
   "outputs": [
    {
     "name": "stdout",
     "output_type": "stream",
     "text": [
      "Epoch 1/4000\n"
     ]
    },
    {
     "name": "stderr",
     "output_type": "stream",
     "text": [
      "Training: 100%|██████████| 72/72 [01:47<00:00,  1.49s/it, loss=0.96] \n",
      "Validation: 100%|██████████| 12/12 [00:09<00:00,  1.33it/s, loss=0.909]\n"
     ]
    },
    {
     "name": "stdout",
     "output_type": "stream",
     "text": [
      "Validation Dice Score\n",
      "Class 0: 0.9733, Class 1: 0.0079, Class 2: 0.0048, Class 3: 0.0149, Class 4: 0.1335, Class 5: 0.0416, Class 6: 0.0635, \n",
      "Validation F-beta Score\n",
      "Class 0: 0.9629, Class 1: 0.0106, Class 2: 0.0078, Class 3: 0.0327, Class 4: 0.2167, Class 5: 0.0613, Class 6: 0.0515, \n",
      "\n",
      "Overall Mean Dice Score: 0.0523\n",
      "Overall Mean F-beta Score: 0.0746\n",
      "\n",
      "Training Loss: 1.2076, Validation Loss: 0.9095, Validation F-beta: 0.0746\n",
      "========================================================\n",
      "SUPER Best model saved. Loss:0.9095, Score:0.0746\n",
      "========================================================\n",
      "Epoch 2/4000\n"
     ]
    },
    {
     "name": "stderr",
     "output_type": "stream",
     "text": [
      "Training: 100%|██████████| 72/72 [01:18<00:00,  1.10s/it, loss=0.696]\n",
      "Validation: 100%|██████████| 12/12 [00:09<00:00,  1.32it/s, loss=0.676]\n"
     ]
    },
    {
     "name": "stdout",
     "output_type": "stream",
     "text": [
      "Validation Dice Score\n",
      "Class 0: 0.9878, Class 1: 0.0001, Class 2: 0.0000, Class 3: 0.0015, Class 4: 0.1221, Class 5: 0.0011, Class 6: 0.0080, \n",
      "Validation F-beta Score\n",
      "Class 0: 0.9973, Class 1: 0.0001, Class 2: 0.0000, Class 3: 0.0010, Class 4: 0.0915, Class 5: 0.0006, Class 6: 0.0046, \n",
      "\n",
      "Overall Mean Dice Score: 0.0266\n",
      "Overall Mean F-beta Score: 0.0195\n",
      "\n",
      "Training Loss: 0.7841, Validation Loss: 0.6703, Validation F-beta: 0.0195\n",
      "Epoch 3/4000\n"
     ]
    },
    {
     "name": "stderr",
     "output_type": "stream",
     "text": [
      "Training: 100%|██████████| 72/72 [01:18<00:00,  1.10s/it, loss=0.645]\n",
      "Validation: 100%|██████████| 12/12 [00:09<00:00,  1.33it/s, loss=0.641]\n"
     ]
    },
    {
     "name": "stdout",
     "output_type": "stream",
     "text": [
      "Validation Dice Score\n",
      "Class 0: 0.9873, Class 1: 0.0005, Class 2: 0.0000, Class 3: 0.0002, Class 4: 0.1937, Class 5: 0.0007, Class 6: 0.0646, \n",
      "Validation F-beta Score\n",
      "Class 0: 0.9969, Class 1: 0.0003, Class 2: 0.0000, Class 3: 0.0001, Class 4: 0.1381, Class 5: 0.0004, Class 6: 0.0419, \n",
      "\n",
      "Overall Mean Dice Score: 0.0519\n",
      "Overall Mean F-beta Score: 0.0362\n",
      "\n",
      "Training Loss: 0.6535, Validation Loss: 0.6353, Validation F-beta: 0.0362\n",
      "Epoch 4/4000\n"
     ]
    },
    {
     "name": "stderr",
     "output_type": "stream",
     "text": [
      "Training: 100%|██████████| 72/72 [01:19<00:00,  1.10s/it, loss=0.631]\n",
      "Validation: 100%|██████████| 12/12 [00:09<00:00,  1.33it/s, loss=0.634]\n"
     ]
    },
    {
     "name": "stdout",
     "output_type": "stream",
     "text": [
      "Validation Dice Score\n",
      "Class 0: 0.9876, Class 1: 0.0005, Class 2: 0.0000, Class 3: 0.0000, Class 4: 0.2496, Class 5: 0.0000, Class 6: 0.1320, \n",
      "Validation F-beta Score\n",
      "Class 0: 0.9937, Class 1: 0.0003, Class 2: 0.0000, Class 3: 0.0000, Class 4: 0.2376, Class 5: 0.0000, Class 6: 0.1454, \n",
      "\n",
      "Overall Mean Dice Score: 0.0764\n",
      "Overall Mean F-beta Score: 0.0767\n",
      "\n",
      "Training Loss: 0.6310, Validation Loss: 0.6265, Validation F-beta: 0.0767\n",
      "========================================================\n",
      "SUPER Best model saved. Loss:0.6265, Score:0.0767\n",
      "========================================================\n",
      "Epoch 5/4000\n"
     ]
    },
    {
     "name": "stderr",
     "output_type": "stream",
     "text": [
      "Training: 100%|██████████| 72/72 [01:20<00:00,  1.12s/it, loss=0.624]\n",
      "Validation: 100%|██████████| 12/12 [00:09<00:00,  1.31it/s, loss=0.619]\n"
     ]
    },
    {
     "name": "stdout",
     "output_type": "stream",
     "text": [
      "Validation Dice Score\n",
      "Class 0: 0.9879, Class 1: 0.0000, Class 2: 0.0000, Class 3: 0.0000, Class 4: 0.2721, Class 5: 0.0000, Class 6: 0.0886, \n",
      "Validation F-beta Score\n",
      "Class 0: 0.9936, Class 1: 0.0000, Class 2: 0.0000, Class 3: 0.0000, Class 4: 0.2795, Class 5: 0.0000, Class 6: 0.0939, \n",
      "\n",
      "Overall Mean Dice Score: 0.0721\n",
      "Overall Mean F-beta Score: 0.0747\n",
      "\n",
      "Training Loss: 0.6223, Validation Loss: 0.6224, Validation F-beta: 0.0747\n",
      "Epoch 6/4000\n"
     ]
    },
    {
     "name": "stderr",
     "output_type": "stream",
     "text": [
      "Training: 100%|██████████| 72/72 [01:20<00:00,  1.12s/it, loss=0.618]\n",
      "Validation: 100%|██████████| 12/12 [00:08<00:00,  1.35it/s, loss=0.615]\n"
     ]
    },
    {
     "name": "stdout",
     "output_type": "stream",
     "text": [
      "Validation Dice Score\n",
      "Class 0: 0.9883, Class 1: 0.0000, Class 2: 0.0000, Class 3: 0.0000, Class 4: 0.3403, Class 5: 0.0001, Class 6: 0.1321, \n",
      "Validation F-beta Score\n",
      "Class 0: 0.9927, Class 1: 0.0000, Class 2: 0.0000, Class 3: 0.0000, Class 4: 0.3621, Class 5: 0.0000, Class 6: 0.1361, \n",
      "\n",
      "Overall Mean Dice Score: 0.0945\n",
      "Overall Mean F-beta Score: 0.0997\n",
      "\n",
      "Training Loss: 0.6166, Validation Loss: 0.6143, Validation F-beta: 0.0997\n",
      "========================================================\n",
      "SUPER Best model saved. Loss:0.6143, Score:0.0997\n",
      "========================================================\n",
      "Epoch 7/4000\n"
     ]
    },
    {
     "name": "stderr",
     "output_type": "stream",
     "text": [
      "Training: 100%|██████████| 72/72 [01:18<00:00,  1.09s/it, loss=0.621]\n",
      "Validation: 100%|██████████| 12/12 [00:09<00:00,  1.31it/s, loss=0.621]\n"
     ]
    },
    {
     "name": "stdout",
     "output_type": "stream",
     "text": [
      "Validation Dice Score\n",
      "Class 0: 0.9874, Class 1: 0.0000, Class 2: 0.0000, Class 3: 0.0000, Class 4: 0.3419, Class 5: 0.0005, Class 6: 0.1395, \n",
      "Validation F-beta Score\n",
      "Class 0: 0.9920, Class 1: 0.0000, Class 2: 0.0000, Class 3: 0.0000, Class 4: 0.3688, Class 5: 0.0003, Class 6: 0.1584, \n",
      "\n",
      "Overall Mean Dice Score: 0.0964\n",
      "Overall Mean F-beta Score: 0.1055\n",
      "\n",
      "Training Loss: 0.6120, Validation Loss: 0.6143, Validation F-beta: 0.1055\n",
      "========================================================\n",
      "SUPER Best model saved. Loss:0.6143, Score:0.1055\n",
      "========================================================\n",
      "Epoch 8/4000\n"
     ]
    },
    {
     "name": "stderr",
     "output_type": "stream",
     "text": [
      "Training: 100%|██████████| 72/72 [01:18<00:00,  1.08s/it, loss=0.611]\n",
      "Validation: 100%|██████████| 12/12 [00:09<00:00,  1.33it/s, loss=0.615]\n"
     ]
    },
    {
     "name": "stdout",
     "output_type": "stream",
     "text": [
      "Validation Dice Score\n",
      "Class 0: 0.9882, Class 1: 0.0000, Class 2: 0.0000, Class 3: 0.0000, Class 4: 0.3526, Class 5: 0.0015, Class 6: 0.1664, \n",
      "Validation F-beta Score\n",
      "Class 0: 0.9914, Class 1: 0.0000, Class 2: 0.0000, Class 3: 0.0000, Class 4: 0.4158, Class 5: 0.0008, Class 6: 0.1914, \n",
      "\n",
      "Overall Mean Dice Score: 0.1041\n",
      "Overall Mean F-beta Score: 0.1216\n",
      "\n",
      "Training Loss: 0.6112, Validation Loss: 0.6086, Validation F-beta: 0.1216\n",
      "========================================================\n",
      "SUPER Best model saved. Loss:0.6086, Score:0.1216\n",
      "========================================================\n",
      "Epoch 9/4000\n"
     ]
    },
    {
     "name": "stderr",
     "output_type": "stream",
     "text": [
      "Training: 100%|██████████| 72/72 [01:18<00:00,  1.09s/it, loss=0.623]\n",
      "Validation: 100%|██████████| 12/12 [00:08<00:00,  1.34it/s, loss=0.612]\n"
     ]
    },
    {
     "name": "stdout",
     "output_type": "stream",
     "text": [
      "Validation Dice Score\n",
      "Class 0: 0.9877, Class 1: 0.0000, Class 2: 0.0000, Class 3: 0.0000, Class 4: 0.2857, Class 5: 0.0035, Class 6: 0.1682, \n",
      "Validation F-beta Score\n",
      "Class 0: 0.9951, Class 1: 0.0000, Class 2: 0.0000, Class 3: 0.0000, Class 4: 0.2400, Class 5: 0.0020, Class 6: 0.1501, \n",
      "\n",
      "Overall Mean Dice Score: 0.0915\n",
      "Overall Mean F-beta Score: 0.0784\n",
      "\n",
      "Training Loss: 0.6104, Validation Loss: 0.6135, Validation F-beta: 0.0784\n",
      "Epoch 10/4000\n"
     ]
    },
    {
     "name": "stderr",
     "output_type": "stream",
     "text": [
      "Training: 100%|██████████| 72/72 [01:20<00:00,  1.12s/it, loss=0.614]\n",
      "Validation: 100%|██████████| 12/12 [00:08<00:00,  1.35it/s, loss=0.62] \n"
     ]
    },
    {
     "name": "stdout",
     "output_type": "stream",
     "text": [
      "Validation Dice Score\n",
      "Class 0: 0.9873, Class 1: 0.0000, Class 2: 0.0000, Class 3: 0.0000, Class 4: 0.2874, Class 5: 0.0110, Class 6: 0.1697, \n",
      "Validation F-beta Score\n",
      "Class 0: 0.9917, Class 1: 0.0000, Class 2: 0.0000, Class 3: 0.0000, Class 4: 0.2965, Class 5: 0.0066, Class 6: 0.2355, \n",
      "\n",
      "Overall Mean Dice Score: 0.0936\n",
      "Overall Mean F-beta Score: 0.1077\n",
      "\n",
      "Training Loss: 0.6067, Validation Loss: 0.6144, Validation F-beta: 0.1077\n",
      "Epoch 11/4000\n"
     ]
    },
    {
     "name": "stderr",
     "output_type": "stream",
     "text": [
      "Training: 100%|██████████| 72/72 [01:18<00:00,  1.09s/it, loss=0.607]\n",
      "Validation: 100%|██████████| 12/12 [00:08<00:00,  1.35it/s, loss=0.612]\n"
     ]
    },
    {
     "name": "stdout",
     "output_type": "stream",
     "text": [
      "Validation Dice Score\n",
      "Class 0: 0.9891, Class 1: 0.0000, Class 2: 0.0000, Class 3: 0.0000, Class 4: 0.1456, Class 5: 0.0188, Class 6: 0.2687, \n",
      "Validation F-beta Score\n",
      "Class 0: 0.9956, Class 1: 0.0000, Class 2: 0.0000, Class 3: 0.0000, Class 4: 0.1100, Class 5: 0.0126, Class 6: 0.3128, \n",
      "\n",
      "Overall Mean Dice Score: 0.0866\n",
      "Overall Mean F-beta Score: 0.0871\n",
      "\n",
      "Training Loss: 0.6044, Validation Loss: 0.6094, Validation F-beta: 0.0871\n",
      "Epoch 12/4000\n"
     ]
    },
    {
     "name": "stderr",
     "output_type": "stream",
     "text": [
      "Training: 100%|██████████| 72/72 [01:25<00:00,  1.19s/it, loss=0.597]\n",
      "Validation: 100%|██████████| 12/12 [00:09<00:00,  1.32it/s, loss=0.62] \n"
     ]
    },
    {
     "name": "stdout",
     "output_type": "stream",
     "text": [
      "Validation Dice Score\n",
      "Class 0: 0.9878, Class 1: 0.0000, Class 2: 0.0000, Class 3: 0.0000, Class 4: 0.2386, Class 5: 0.0176, Class 6: 0.2902, \n",
      "Validation F-beta Score\n",
      "Class 0: 0.9932, Class 1: 0.0000, Class 2: 0.0000, Class 3: 0.0000, Class 4: 0.2313, Class 5: 0.0115, Class 6: 0.3911, \n",
      "\n",
      "Overall Mean Dice Score: 0.1093\n",
      "Overall Mean F-beta Score: 0.1268\n",
      "\n",
      "Training Loss: 0.6038, Validation Loss: 0.6060, Validation F-beta: 0.1268\n",
      "========================================================\n",
      "SUPER Best model saved. Loss:0.6060, Score:0.1268\n",
      "========================================================\n",
      "Epoch 13/4000\n"
     ]
    },
    {
     "name": "stderr",
     "output_type": "stream",
     "text": [
      "Training: 100%|██████████| 72/72 [01:18<00:00,  1.09s/it, loss=0.628]\n",
      "Validation: 100%|██████████| 12/12 [00:09<00:00,  1.33it/s, loss=0.619]\n"
     ]
    },
    {
     "name": "stdout",
     "output_type": "stream",
     "text": [
      "Validation Dice Score\n",
      "Class 0: 0.9886, Class 1: 0.0000, Class 2: 0.0000, Class 3: 0.0000, Class 4: 0.2654, Class 5: 0.0249, Class 6: 0.2510, \n",
      "Validation F-beta Score\n",
      "Class 0: 0.9939, Class 1: 0.0000, Class 2: 0.0000, Class 3: 0.0000, Class 4: 0.2329, Class 5: 0.0160, Class 6: 0.3540, \n",
      "\n",
      "Overall Mean Dice Score: 0.1082\n",
      "Overall Mean F-beta Score: 0.1206\n",
      "\n",
      "Training Loss: 0.6003, Validation Loss: 0.6047, Validation F-beta: 0.1206\n",
      "Epoch 14/4000\n"
     ]
    },
    {
     "name": "stderr",
     "output_type": "stream",
     "text": [
      "Training: 100%|██████████| 72/72 [01:18<00:00,  1.09s/it, loss=0.608]\n",
      "Validation: 100%|██████████| 12/12 [00:09<00:00,  1.33it/s, loss=0.599]\n"
     ]
    },
    {
     "name": "stdout",
     "output_type": "stream",
     "text": [
      "Validation Dice Score\n",
      "Class 0: 0.9897, Class 1: 0.0000, Class 2: 0.0000, Class 3: 0.0000, Class 4: 0.3837, Class 5: 0.0425, Class 6: 0.3671, \n",
      "Validation F-beta Score\n",
      "Class 0: 0.9956, Class 1: 0.0000, Class 2: 0.0000, Class 3: 0.0000, Class 4: 0.3491, Class 5: 0.0289, Class 6: 0.3171, \n",
      "\n",
      "Overall Mean Dice Score: 0.1587\n",
      "Overall Mean F-beta Score: 0.1390\n",
      "\n",
      "Training Loss: 0.5978, Validation Loss: 0.5922, Validation F-beta: 0.1390\n",
      "========================================================\n",
      "SUPER Best model saved. Loss:0.5922, Score:0.1390\n",
      "========================================================\n",
      "Epoch 15/4000\n"
     ]
    },
    {
     "name": "stderr",
     "output_type": "stream",
     "text": [
      "Training: 100%|██████████| 72/72 [01:18<00:00,  1.09s/it, loss=0.607]\n",
      "Validation: 100%|██████████| 12/12 [00:09<00:00,  1.31it/s, loss=0.59] \n"
     ]
    },
    {
     "name": "stdout",
     "output_type": "stream",
     "text": [
      "Validation Dice Score\n",
      "Class 0: 0.9887, Class 1: 0.0001, Class 2: 0.0000, Class 3: 0.0002, Class 4: 0.2181, Class 5: 0.1248, Class 6: 0.3132, \n",
      "Validation F-beta Score\n",
      "Class 0: 0.9930, Class 1: 0.0001, Class 2: 0.0000, Class 3: 0.0001, Class 4: 0.1562, Class 5: 0.0859, Class 6: 0.5968, \n",
      "\n",
      "Overall Mean Dice Score: 0.1313\n",
      "Overall Mean F-beta Score: 0.1678\n",
      "\n",
      "Training Loss: 0.5913, Validation Loss: 0.5955, Validation F-beta: 0.1678\n",
      "Epoch 16/4000\n"
     ]
    },
    {
     "name": "stderr",
     "output_type": "stream",
     "text": [
      "Training: 100%|██████████| 72/72 [01:18<00:00,  1.09s/it, loss=0.595]\n",
      "Validation: 100%|██████████| 12/12 [00:09<00:00,  1.32it/s, loss=0.601]\n"
     ]
    },
    {
     "name": "stdout",
     "output_type": "stream",
     "text": [
      "Validation Dice Score\n",
      "Class 0: 0.9874, Class 1: 0.0000, Class 2: 0.0000, Class 3: 0.0020, Class 4: 0.3291, Class 5: 0.1735, Class 6: 0.5340, \n",
      "Validation F-beta Score\n",
      "Class 0: 0.9913, Class 1: 0.0000, Class 2: 0.0000, Class 3: 0.0011, Class 4: 0.2669, Class 5: 0.1612, Class 6: 0.6912, \n",
      "\n",
      "Overall Mean Dice Score: 0.2077\n",
      "Overall Mean F-beta Score: 0.2241\n",
      "\n",
      "Training Loss: 0.5852, Validation Loss: 0.5787, Validation F-beta: 0.2241\n",
      "========================================================\n",
      "SUPER Best model saved. Loss:0.5787, Score:0.2241\n",
      "========================================================\n",
      "Epoch 17/4000\n"
     ]
    },
    {
     "name": "stderr",
     "output_type": "stream",
     "text": [
      "Training: 100%|██████████| 72/72 [01:18<00:00,  1.09s/it, loss=0.575]\n",
      "Validation: 100%|██████████| 12/12 [00:09<00:00,  1.30it/s, loss=0.562]\n"
     ]
    },
    {
     "name": "stdout",
     "output_type": "stream",
     "text": [
      "Validation Dice Score\n",
      "Class 0: 0.9883, Class 1: 0.0000, Class 2: 0.0000, Class 3: 0.0033, Class 4: 0.4063, Class 5: 0.2241, Class 6: 0.7338, \n",
      "Validation F-beta Score\n",
      "Class 0: 0.9910, Class 1: 0.0000, Class 2: 0.0000, Class 3: 0.0018, Class 4: 0.3800, Class 5: 0.1948, Class 6: 0.7888, \n",
      "\n",
      "Overall Mean Dice Score: 0.2735\n",
      "Overall Mean F-beta Score: 0.2731\n",
      "\n",
      "Training Loss: 0.5727, Validation Loss: 0.5531, Validation F-beta: 0.2731\n",
      "========================================================\n",
      "SUPER Best model saved. Loss:0.5531, Score:0.2731\n",
      "========================================================\n",
      "Epoch 18/4000\n"
     ]
    },
    {
     "name": "stderr",
     "output_type": "stream",
     "text": [
      "Training: 100%|██████████| 72/72 [01:19<00:00,  1.10s/it, loss=0.587]\n",
      "Validation: 100%|██████████| 12/12 [00:09<00:00,  1.32it/s, loss=0.585]\n"
     ]
    },
    {
     "name": "stdout",
     "output_type": "stream",
     "text": [
      "Validation Dice Score\n",
      "Class 0: 0.9881, Class 1: 0.0000, Class 2: 0.0002, Class 3: 0.0213, Class 4: 0.2749, Class 5: 0.2695, Class 6: 0.7109, \n",
      "Validation F-beta Score\n",
      "Class 0: 0.9927, Class 1: 0.0000, Class 2: 0.0001, Class 3: 0.0125, Class 4: 0.2003, Class 5: 0.2736, Class 6: 0.6720, \n",
      "\n",
      "Overall Mean Dice Score: 0.2553\n",
      "Overall Mean F-beta Score: 0.2317\n",
      "\n",
      "Training Loss: 0.5659, Validation Loss: 0.5677, Validation F-beta: 0.2317\n",
      "Epoch 19/4000\n"
     ]
    },
    {
     "name": "stderr",
     "output_type": "stream",
     "text": [
      "Training: 100%|██████████| 72/72 [01:18<00:00,  1.10s/it, loss=0.563]\n",
      "Validation: 100%|██████████| 12/12 [00:09<00:00,  1.31it/s, loss=0.551]\n"
     ]
    },
    {
     "name": "stdout",
     "output_type": "stream",
     "text": [
      "Validation Dice Score\n",
      "Class 0: 0.9882, Class 1: 0.0015, Class 2: 0.0031, Class 3: 0.0452, Class 4: 0.3902, Class 5: 0.2596, Class 6: 0.5717, \n",
      "Validation F-beta Score\n",
      "Class 0: 0.9878, Class 1: 0.0008, Class 2: 0.0019, Class 3: 0.0338, Class 4: 0.3229, Class 5: 0.3199, Class 6: 0.8420, \n",
      "\n",
      "Overall Mean Dice Score: 0.2536\n",
      "Overall Mean F-beta Score: 0.3039\n",
      "\n",
      "Training Loss: 0.5645, Validation Loss: 0.5595, Validation F-beta: 0.3039\n",
      "Epoch 20/4000\n"
     ]
    },
    {
     "name": "stderr",
     "output_type": "stream",
     "text": [
      "Training: 100%|██████████| 72/72 [01:18<00:00,  1.09s/it, loss=0.569]\n",
      "Validation: 100%|██████████| 12/12 [00:08<00:00,  1.33it/s, loss=0.561]\n"
     ]
    },
    {
     "name": "stdout",
     "output_type": "stream",
     "text": [
      "Validation Dice Score\n",
      "Class 0: 0.9890, Class 1: 0.0020, Class 2: 0.0009, Class 3: 0.0579, Class 4: 0.4169, Class 5: 0.2775, Class 6: 0.6926, \n",
      "Validation F-beta Score\n",
      "Class 0: 0.9911, Class 1: 0.0011, Class 2: 0.0005, Class 3: 0.0390, Class 4: 0.3626, Class 5: 0.2725, Class 6: 0.8167, \n",
      "\n",
      "Overall Mean Dice Score: 0.2894\n",
      "Overall Mean F-beta Score: 0.2984\n",
      "\n",
      "Training Loss: 0.5585, Validation Loss: 0.5476, Validation F-beta: 0.2984\n",
      "========================================================\n",
      "SUPER Best model saved. Loss:0.5476, Score:0.2984\n",
      "========================================================\n",
      "Epoch 21/4000\n"
     ]
    },
    {
     "name": "stderr",
     "output_type": "stream",
     "text": [
      "Training: 100%|██████████| 72/72 [01:20<00:00,  1.12s/it, loss=0.558]\n",
      "Validation: 100%|██████████| 12/12 [00:09<00:00,  1.31it/s, loss=0.567]\n"
     ]
    },
    {
     "name": "stdout",
     "output_type": "stream",
     "text": [
      "Validation Dice Score\n",
      "Class 0: 0.9876, Class 1: 0.0059, Class 2: 0.0111, Class 3: 0.0749, Class 4: 0.5096, Class 5: 0.3249, Class 6: 0.7359, \n",
      "Validation F-beta Score\n",
      "Class 0: 0.9872, Class 1: 0.0032, Class 2: 0.0068, Class 3: 0.0585, Class 4: 0.5086, Class 5: 0.3853, Class 6: 0.8058, \n",
      "\n",
      "Overall Mean Dice Score: 0.3303\n",
      "Overall Mean F-beta Score: 0.3523\n",
      "\n",
      "Training Loss: 0.5516, Validation Loss: 0.5404, Validation F-beta: 0.3523\n",
      "========================================================\n",
      "SUPER Best model saved. Loss:0.5404, Score:0.3523\n",
      "========================================================\n",
      "Epoch 22/4000\n"
     ]
    },
    {
     "name": "stderr",
     "output_type": "stream",
     "text": [
      "Training: 100%|██████████| 72/72 [01:20<00:00,  1.12s/it, loss=0.537]\n",
      "Validation: 100%|██████████| 12/12 [00:09<00:00,  1.32it/s, loss=0.541]\n"
     ]
    },
    {
     "name": "stdout",
     "output_type": "stream",
     "text": [
      "Validation Dice Score\n",
      "Class 0: 0.9874, Class 1: 0.0193, Class 2: 0.0276, Class 3: 0.0982, Class 4: 0.5391, Class 5: 0.3476, Class 6: 0.7384, \n",
      "Validation F-beta Score\n",
      "Class 0: 0.9859, Class 1: 0.0107, Class 2: 0.0167, Class 3: 0.0769, Class 4: 0.5829, Class 5: 0.4005, Class 6: 0.8714, \n",
      "\n",
      "Overall Mean Dice Score: 0.3485\n",
      "Overall Mean F-beta Score: 0.3885\n",
      "\n",
      "Training Loss: 0.5415, Validation Loss: 0.5323, Validation F-beta: 0.3885\n",
      "========================================================\n",
      "SUPER Best model saved. Loss:0.5323, Score:0.3885\n",
      "========================================================\n",
      "Epoch 23/4000\n"
     ]
    },
    {
     "name": "stderr",
     "output_type": "stream",
     "text": [
      "Training: 100%|██████████| 72/72 [01:20<00:00,  1.12s/it, loss=0.537]\n",
      "Validation: 100%|██████████| 12/12 [00:09<00:00,  1.31it/s, loss=0.545]\n"
     ]
    },
    {
     "name": "stdout",
     "output_type": "stream",
     "text": [
      "Validation Dice Score\n",
      "Class 0: 0.9877, Class 1: 0.0876, Class 2: 0.0172, Class 3: 0.1932, Class 4: 0.5434, Class 5: 0.3129, Class 6: 0.7035, \n",
      "Validation F-beta Score\n",
      "Class 0: 0.9880, Class 1: 0.0596, Class 2: 0.0110, Class 3: 0.1996, Class 4: 0.5823, Class 5: 0.2626, Class 6: 0.8608, \n",
      "\n",
      "Overall Mean Dice Score: 0.3681\n",
      "Overall Mean F-beta Score: 0.3930\n",
      "\n",
      "Training Loss: 0.5447, Validation Loss: 0.5263, Validation F-beta: 0.3930\n",
      "========================================================\n",
      "SUPER Best model saved. Loss:0.5263, Score:0.3930\n",
      "========================================================\n",
      "Epoch 24/4000\n"
     ]
    },
    {
     "name": "stderr",
     "output_type": "stream",
     "text": [
      "Training: 100%|██████████| 72/72 [01:19<00:00,  1.10s/it, loss=0.527]\n",
      "Validation: 100%|██████████| 12/12 [00:09<00:00,  1.30it/s, loss=0.528]\n"
     ]
    },
    {
     "name": "stdout",
     "output_type": "stream",
     "text": [
      "Validation Dice Score\n",
      "Class 0: 0.9881, Class 1: 0.2008, Class 2: 0.0043, Class 3: 0.2386, Class 4: 0.5154, Class 5: 0.3379, Class 6: 0.7630, \n",
      "Validation F-beta Score\n",
      "Class 0: 0.9876, Class 1: 0.1497, Class 2: 0.0024, Class 3: 0.2350, Class 4: 0.5607, Class 5: 0.3263, Class 6: 0.8481, \n",
      "\n",
      "Overall Mean Dice Score: 0.4111\n",
      "Overall Mean F-beta Score: 0.4239\n",
      "\n",
      "Training Loss: 0.5356, Validation Loss: 0.5213, Validation F-beta: 0.4239\n",
      "========================================================\n",
      "SUPER Best model saved. Loss:0.5213, Score:0.4239\n",
      "========================================================\n",
      "Epoch 25/4000\n"
     ]
    },
    {
     "name": "stderr",
     "output_type": "stream",
     "text": [
      "Training: 100%|██████████| 72/72 [01:18<00:00,  1.09s/it, loss=0.529]\n",
      "Validation: 100%|██████████| 12/12 [00:09<00:00,  1.32it/s, loss=0.522]\n"
     ]
    },
    {
     "name": "stdout",
     "output_type": "stream",
     "text": [
      "Validation Dice Score\n",
      "Class 0: 0.9888, Class 1: 0.3036, Class 2: 0.0001, Class 3: 0.2309, Class 4: 0.5089, Class 5: 0.3716, Class 6: 0.7886, \n",
      "Validation F-beta Score\n",
      "Class 0: 0.9896, Class 1: 0.3280, Class 2: 0.0001, Class 3: 0.2500, Class 4: 0.4668, Class 5: 0.4136, Class 6: 0.7117, \n",
      "\n",
      "Overall Mean Dice Score: 0.4407\n",
      "Overall Mean F-beta Score: 0.4340\n",
      "\n",
      "Training Loss: 0.5285, Validation Loss: 0.5128, Validation F-beta: 0.4340\n",
      "========================================================\n",
      "SUPER Best model saved. Loss:0.5128, Score:0.4340\n",
      "========================================================\n",
      "Epoch 26/4000\n"
     ]
    },
    {
     "name": "stderr",
     "output_type": "stream",
     "text": [
      "Training: 100%|██████████| 72/72 [01:19<00:00,  1.10s/it, loss=0.532]\n",
      "Validation: 100%|██████████| 12/12 [00:09<00:00,  1.30it/s, loss=0.479]\n"
     ]
    },
    {
     "name": "stdout",
     "output_type": "stream",
     "text": [
      "Validation Dice Score\n",
      "Class 0: 0.9878, Class 1: 0.3776, Class 2: 0.0002, Class 3: 0.2031, Class 4: 0.4145, Class 5: 0.3538, Class 6: 0.6673, \n",
      "Validation F-beta Score\n",
      "Class 0: 0.9912, Class 1: 0.5131, Class 2: 0.0001, Class 3: 0.1592, Class 4: 0.3275, Class 5: 0.3275, Class 6: 0.8689, \n",
      "\n",
      "Overall Mean Dice Score: 0.4033\n",
      "Overall Mean F-beta Score: 0.4393\n",
      "\n",
      "Training Loss: 0.5210, Validation Loss: 0.5192, Validation F-beta: 0.4393\n",
      "Epoch 27/4000\n"
     ]
    },
    {
     "name": "stderr",
     "output_type": "stream",
     "text": [
      "Training: 100%|██████████| 72/72 [01:19<00:00,  1.11s/it, loss=0.507]\n",
      "Validation: 100%|██████████| 12/12 [00:09<00:00,  1.33it/s, loss=0.512]\n"
     ]
    },
    {
     "name": "stdout",
     "output_type": "stream",
     "text": [
      "Validation Dice Score\n",
      "Class 0: 0.9874, Class 1: 0.5414, Class 2: 0.0000, Class 3: 0.1941, Class 4: 0.5677, Class 5: 0.3993, Class 6: 0.8169, \n",
      "Validation F-beta Score\n",
      "Class 0: 0.9856, Class 1: 0.5128, Class 2: 0.0000, Class 3: 0.1619, Class 4: 0.6199, Class 5: 0.4652, Class 6: 0.8723, \n",
      "\n",
      "Overall Mean Dice Score: 0.5039\n",
      "Overall Mean F-beta Score: 0.5264\n",
      "\n",
      "Training Loss: 0.5193, Validation Loss: 0.4945, Validation F-beta: 0.5264\n",
      "========================================================\n",
      "SUPER Best model saved. Loss:0.4945, Score:0.5264\n",
      "========================================================\n",
      "Epoch 28/4000\n"
     ]
    },
    {
     "name": "stderr",
     "output_type": "stream",
     "text": [
      "Training: 100%|██████████| 72/72 [01:18<00:00,  1.09s/it, loss=0.496]\n",
      "Validation: 100%|██████████| 12/12 [00:08<00:00,  1.36it/s, loss=0.532]\n"
     ]
    },
    {
     "name": "stdout",
     "output_type": "stream",
     "text": [
      "Validation Dice Score\n",
      "Class 0: 0.9882, Class 1: 0.5582, Class 2: 0.0000, Class 3: 0.1698, Class 4: 0.5703, Class 5: 0.3797, Class 6: 0.8277, \n",
      "Validation F-beta Score\n",
      "Class 0: 0.9864, Class 1: 0.6207, Class 2: 0.0000, Class 3: 0.1470, Class 4: 0.6319, Class 5: 0.4375, Class 6: 0.8875, \n",
      "\n",
      "Overall Mean Dice Score: 0.5011\n",
      "Overall Mean F-beta Score: 0.5449\n",
      "\n",
      "Training Loss: 0.5131, Validation Loss: 0.4955, Validation F-beta: 0.5449\n",
      "Epoch 29/4000\n"
     ]
    },
    {
     "name": "stderr",
     "output_type": "stream",
     "text": [
      "Training: 100%|██████████| 72/72 [01:18<00:00,  1.09s/it, loss=0.538]\n",
      "Validation: 100%|██████████| 12/12 [00:09<00:00,  1.33it/s, loss=0.49] \n"
     ]
    },
    {
     "name": "stdout",
     "output_type": "stream",
     "text": [
      "Validation Dice Score\n",
      "Class 0: 0.9861, Class 1: 0.5459, Class 2: 0.0058, Class 3: 0.2222, Class 4: 0.5428, Class 5: 0.2957, Class 6: 0.8297, \n",
      "Validation F-beta Score\n",
      "Class 0: 0.9842, Class 1: 0.6879, Class 2: 0.0031, Class 3: 0.3874, Class 4: 0.6053, Class 5: 0.2711, Class 6: 0.8780, \n",
      "\n",
      "Overall Mean Dice Score: 0.4873\n",
      "Overall Mean F-beta Score: 0.5660\n",
      "\n",
      "Training Loss: 0.5051, Validation Loss: 0.4979, Validation F-beta: 0.5660\n",
      "Epoch 30/4000\n"
     ]
    },
    {
     "name": "stderr",
     "output_type": "stream",
     "text": [
      "Training: 100%|██████████| 72/72 [01:18<00:00,  1.09s/it, loss=0.497]\n",
      "Validation: 100%|██████████| 12/12 [00:10<00:00,  1.18it/s, loss=0.474]\n"
     ]
    },
    {
     "name": "stdout",
     "output_type": "stream",
     "text": [
      "Validation Dice Score\n",
      "Class 0: 0.9876, Class 1: 0.5477, Class 2: 0.0083, Class 3: 0.2375, Class 4: 0.5219, Class 5: 0.3750, Class 6: 0.8299, \n",
      "Validation F-beta Score\n",
      "Class 0: 0.9843, Class 1: 0.7306, Class 2: 0.0045, Class 3: 0.3992, Class 4: 0.6632, Class 5: 0.3725, Class 6: 0.9059, \n",
      "\n",
      "Overall Mean Dice Score: 0.5024\n",
      "Overall Mean F-beta Score: 0.6143\n",
      "\n",
      "Training Loss: 0.5006, Validation Loss: 0.4886, Validation F-beta: 0.6143\n",
      "========================================================\n",
      "SUPER Best model saved. Loss:0.4886, Score:0.6143\n",
      "========================================================\n",
      "Epoch 31/4000\n"
     ]
    },
    {
     "name": "stderr",
     "output_type": "stream",
     "text": [
      "Training: 100%|██████████| 72/72 [01:17<00:00,  1.08s/it, loss=0.497]\n",
      "Validation: 100%|██████████| 12/12 [00:09<00:00,  1.33it/s, loss=0.465]\n"
     ]
    },
    {
     "name": "stdout",
     "output_type": "stream",
     "text": [
      "Validation Dice Score\n",
      "Class 0: 0.9868, Class 1: 0.6118, Class 2: 0.0073, Class 3: 0.1680, Class 4: 0.5401, Class 5: 0.3752, Class 6: 0.7355, \n",
      "Validation F-beta Score\n",
      "Class 0: 0.9843, Class 1: 0.7771, Class 2: 0.0040, Class 3: 0.1296, Class 4: 0.6457, Class 5: 0.4070, Class 6: 0.9250, \n",
      "\n",
      "Overall Mean Dice Score: 0.4861\n",
      "Overall Mean F-beta Score: 0.5769\n",
      "\n",
      "Training Loss: 0.5017, Validation Loss: 0.4928, Validation F-beta: 0.5769\n",
      "Epoch 32/4000\n"
     ]
    },
    {
     "name": "stderr",
     "output_type": "stream",
     "text": [
      "Training: 100%|██████████| 72/72 [01:19<00:00,  1.11s/it, loss=0.49] \n",
      "Validation: 100%|██████████| 12/12 [00:08<00:00,  1.34it/s, loss=0.487]\n"
     ]
    },
    {
     "name": "stdout",
     "output_type": "stream",
     "text": [
      "Validation Dice Score\n",
      "Class 0: 0.9875, Class 1: 0.5114, Class 2: 0.0280, Class 3: 0.2603, Class 4: 0.5047, Class 5: 0.3784, Class 6: 0.7636, \n",
      "Validation F-beta Score\n",
      "Class 0: 0.9846, Class 1: 0.7729, Class 2: 0.0164, Class 3: 0.3025, Class 4: 0.6504, Class 5: 0.3504, Class 6: 0.9026, \n",
      "\n",
      "Overall Mean Dice Score: 0.4837\n",
      "Overall Mean F-beta Score: 0.5958\n",
      "\n",
      "Training Loss: 0.4985, Validation Loss: 0.4940, Validation F-beta: 0.5958\n",
      "Epoch 33/4000\n"
     ]
    },
    {
     "name": "stderr",
     "output_type": "stream",
     "text": [
      "Training: 100%|██████████| 72/72 [01:20<00:00,  1.12s/it, loss=0.498]\n",
      "Validation: 100%|██████████| 12/12 [00:09<00:00,  1.33it/s, loss=0.515]\n"
     ]
    },
    {
     "name": "stdout",
     "output_type": "stream",
     "text": [
      "Validation Dice Score\n",
      "Class 0: 0.9893, Class 1: 0.5611, Class 2: 0.0828, Class 3: 0.2897, Class 4: 0.5809, Class 5: 0.4146, Class 6: 0.8152, \n",
      "Validation F-beta Score\n",
      "Class 0: 0.9886, Class 1: 0.7801, Class 2: 0.0527, Class 3: 0.3652, Class 4: 0.5328, Class 5: 0.4974, Class 6: 0.9086, \n",
      "\n",
      "Overall Mean Dice Score: 0.5323\n",
      "Overall Mean F-beta Score: 0.6168\n",
      "\n",
      "Training Loss: 0.4966, Validation Loss: 0.4797, Validation F-beta: 0.6168\n",
      "========================================================\n",
      "SUPER Best model saved. Loss:0.4797, Score:0.6168\n",
      "========================================================\n",
      "Epoch 34/4000\n"
     ]
    },
    {
     "name": "stderr",
     "output_type": "stream",
     "text": [
      "Training: 100%|██████████| 72/72 [01:20<00:00,  1.12s/it, loss=0.51] \n",
      "Validation: 100%|██████████| 12/12 [00:08<00:00,  1.34it/s, loss=0.49] \n"
     ]
    },
    {
     "name": "stdout",
     "output_type": "stream",
     "text": [
      "Validation Dice Score\n",
      "Class 0: 0.9871, Class 1: 0.6867, Class 2: 0.0236, Class 3: 0.3020, Class 4: 0.5683, Class 5: 0.3928, Class 6: 0.8590, \n",
      "Validation F-beta Score\n",
      "Class 0: 0.9831, Class 1: 0.7639, Class 2: 0.0131, Class 3: 0.3630, Class 4: 0.6498, Class 5: 0.5290, Class 6: 0.9162, \n",
      "\n",
      "Overall Mean Dice Score: 0.5618\n",
      "Overall Mean F-beta Score: 0.6444\n",
      "\n",
      "Training Loss: 0.4897, Validation Loss: 0.4748, Validation F-beta: 0.6444\n",
      "========================================================\n",
      "SUPER Best model saved. Loss:0.4748, Score:0.6444\n",
      "========================================================\n",
      "Epoch 35/4000\n"
     ]
    },
    {
     "name": "stderr",
     "output_type": "stream",
     "text": [
      "Training: 100%|██████████| 72/72 [01:19<00:00,  1.11s/it, loss=0.488]\n",
      "Validation: 100%|██████████| 12/12 [00:08<00:00,  1.34it/s, loss=0.44] \n"
     ]
    },
    {
     "name": "stdout",
     "output_type": "stream",
     "text": [
      "Validation Dice Score\n",
      "Class 0: 0.9880, Class 1: 0.6777, Class 2: 0.0819, Class 3: 0.3132, Class 4: 0.5872, Class 5: 0.4201, Class 6: 0.8485, \n",
      "Validation F-beta Score\n",
      "Class 0: 0.9852, Class 1: 0.7975, Class 2: 0.0573, Class 3: 0.3697, Class 4: 0.6959, Class 5: 0.4358, Class 6: 0.9305, \n",
      "\n",
      "Overall Mean Dice Score: 0.5693\n",
      "Overall Mean F-beta Score: 0.6459\n",
      "\n",
      "Training Loss: 0.4824, Validation Loss: 0.4592, Validation F-beta: 0.6459\n",
      "========================================================\n",
      "SUPER Best model saved. Loss:0.4592, Score:0.6459\n",
      "========================================================\n",
      "Epoch 36/4000\n"
     ]
    },
    {
     "name": "stderr",
     "output_type": "stream",
     "text": [
      "Training: 100%|██████████| 72/72 [01:18<00:00,  1.10s/it, loss=0.479]\n",
      "Validation: 100%|██████████| 12/12 [00:09<00:00,  1.33it/s, loss=0.48] \n"
     ]
    },
    {
     "name": "stdout",
     "output_type": "stream",
     "text": [
      "Validation Dice Score\n",
      "Class 0: 0.9884, Class 1: 0.6437, Class 2: 0.1090, Class 3: 0.2684, Class 4: 0.6045, Class 5: 0.3775, Class 6: 0.8430, \n",
      "Validation F-beta Score\n",
      "Class 0: 0.9877, Class 1: 0.7975, Class 2: 0.0900, Class 3: 0.4676, Class 4: 0.6049, Class 5: 0.3658, Class 6: 0.8961, \n",
      "\n",
      "Overall Mean Dice Score: 0.5474\n",
      "Overall Mean F-beta Score: 0.6264\n",
      "\n",
      "Training Loss: 0.4871, Validation Loss: 0.4737, Validation F-beta: 0.6264\n",
      "Epoch 37/4000\n"
     ]
    },
    {
     "name": "stderr",
     "output_type": "stream",
     "text": [
      "Training: 100%|██████████| 72/72 [01:19<00:00,  1.11s/it, loss=0.498]\n",
      "Validation: 100%|██████████| 12/12 [00:09<00:00,  1.33it/s, loss=0.459]\n"
     ]
    },
    {
     "name": "stdout",
     "output_type": "stream",
     "text": [
      "Validation Dice Score\n",
      "Class 0: 0.9888, Class 1: 0.6756, Class 2: 0.0757, Class 3: 0.2773, Class 4: 0.5847, Class 5: 0.3852, Class 6: 0.8078, \n",
      "Validation F-beta Score\n",
      "Class 0: 0.9885, Class 1: 0.7839, Class 2: 0.0608, Class 3: 0.4273, Class 4: 0.5337, Class 5: 0.4291, Class 6: 0.9001, \n",
      "\n",
      "Overall Mean Dice Score: 0.5461\n",
      "Overall Mean F-beta Score: 0.6148\n",
      "\n",
      "Training Loss: 0.4829, Validation Loss: 0.4722, Validation F-beta: 0.6148\n",
      "Epoch 38/4000\n"
     ]
    },
    {
     "name": "stderr",
     "output_type": "stream",
     "text": [
      "Training: 100%|██████████| 72/72 [01:18<00:00,  1.09s/it, loss=0.474]\n",
      "Validation: 100%|██████████| 12/12 [00:08<00:00,  1.35it/s, loss=0.463]\n"
     ]
    },
    {
     "name": "stdout",
     "output_type": "stream",
     "text": [
      "Validation Dice Score\n",
      "Class 0: 0.9895, Class 1: 0.7277, Class 2: 0.1546, Class 3: 0.3422, Class 4: 0.6299, Class 5: 0.4280, Class 6: 0.8808, \n",
      "Validation F-beta Score\n",
      "Class 0: 0.9896, Class 1: 0.7933, Class 2: 0.1268, Class 3: 0.4623, Class 4: 0.5863, Class 5: 0.4624, Class 6: 0.8882, \n",
      "\n",
      "Overall Mean Dice Score: 0.6017\n",
      "Overall Mean F-beta Score: 0.6385\n",
      "\n",
      "Training Loss: 0.4825, Validation Loss: 0.4449, Validation F-beta: 0.6385\n",
      "Epoch 39/4000\n"
     ]
    },
    {
     "name": "stderr",
     "output_type": "stream",
     "text": [
      "Training: 100%|██████████| 72/72 [01:18<00:00,  1.08s/it, loss=0.481]\n",
      "Validation: 100%|██████████| 12/12 [00:08<00:00,  1.38it/s, loss=0.454]\n"
     ]
    },
    {
     "name": "stdout",
     "output_type": "stream",
     "text": [
      "Validation Dice Score\n",
      "Class 0: 0.9888, Class 1: 0.7185, Class 2: 0.1568, Class 3: 0.3213, Class 4: 0.5809, Class 5: 0.4608, Class 6: 0.8193, \n",
      "Validation F-beta Score\n",
      "Class 0: 0.9867, Class 1: 0.8466, Class 2: 0.1587, Class 3: 0.4476, Class 4: 0.5585, Class 5: 0.5655, Class 6: 0.9333, \n",
      "\n",
      "Overall Mean Dice Score: 0.5801\n",
      "Overall Mean F-beta Score: 0.6703\n",
      "\n",
      "Training Loss: 0.4779, Validation Loss: 0.4572, Validation F-beta: 0.6703\n",
      "========================================================\n",
      "SUPER Best model saved. Loss:0.4572, Score:0.6703\n",
      "========================================================\n",
      "Epoch 40/4000\n"
     ]
    },
    {
     "name": "stderr",
     "output_type": "stream",
     "text": [
      "Training: 100%|██████████| 72/72 [01:16<00:00,  1.07s/it, loss=0.514]\n",
      "Validation: 100%|██████████| 12/12 [00:08<00:00,  1.34it/s, loss=0.448]\n"
     ]
    },
    {
     "name": "stdout",
     "output_type": "stream",
     "text": [
      "Validation Dice Score\n",
      "Class 0: 0.9896, Class 1: 0.6835, Class 2: 0.1428, Class 3: 0.2666, Class 4: 0.6462, Class 5: 0.4471, Class 6: 0.7922, \n",
      "Validation F-beta Score\n",
      "Class 0: 0.9886, Class 1: 0.8563, Class 2: 0.1054, Class 3: 0.2449, Class 4: 0.6320, Class 5: 0.5106, Class 6: 0.9358, \n",
      "\n",
      "Overall Mean Dice Score: 0.5671\n",
      "Overall Mean F-beta Score: 0.6359\n",
      "\n",
      "Training Loss: 0.4772, Validation Loss: 0.4605, Validation F-beta: 0.6359\n",
      "Epoch 41/4000\n"
     ]
    },
    {
     "name": "stderr",
     "output_type": "stream",
     "text": [
      "Training: 100%|██████████| 72/72 [01:16<00:00,  1.07s/it, loss=0.468]\n",
      "Validation: 100%|██████████| 12/12 [00:08<00:00,  1.36it/s, loss=0.485]\n"
     ]
    },
    {
     "name": "stdout",
     "output_type": "stream",
     "text": [
      "Validation Dice Score\n",
      "Class 0: 0.9880, Class 1: 0.6768, Class 2: 0.1749, Class 3: 0.3273, Class 4: 0.6147, Class 5: 0.4452, Class 6: 0.8239, \n",
      "Validation F-beta Score\n",
      "Class 0: 0.9838, Class 1: 0.8697, Class 2: 0.1518, Class 3: 0.3793, Class 4: 0.7603, Class 5: 0.5159, Class 6: 0.9368, \n",
      "\n",
      "Overall Mean Dice Score: 0.5776\n",
      "Overall Mean F-beta Score: 0.6924\n",
      "\n",
      "Training Loss: 0.4733, Validation Loss: 0.4584, Validation F-beta: 0.6924\n",
      "Epoch 42/4000\n"
     ]
    },
    {
     "name": "stderr",
     "output_type": "stream",
     "text": [
      "Training: 100%|██████████| 72/72 [01:16<00:00,  1.06s/it, loss=0.471]\n",
      "Validation: 100%|██████████| 12/12 [00:08<00:00,  1.36it/s, loss=0.488]\n"
     ]
    },
    {
     "name": "stdout",
     "output_type": "stream",
     "text": [
      "Validation Dice Score\n",
      "Class 0: 0.9876, Class 1: 0.7618, Class 2: 0.2171, Class 3: 0.3276, Class 4: 0.5938, Class 5: 0.4503, Class 6: 0.8455, \n",
      "Validation F-beta Score\n",
      "Class 0: 0.9828, Class 1: 0.7655, Class 2: 0.2112, Class 3: 0.4394, Class 4: 0.7233, Class 5: 0.5595, Class 6: 0.9397, \n",
      "\n",
      "Overall Mean Dice Score: 0.5958\n",
      "Overall Mean F-beta Score: 0.6854\n",
      "\n",
      "Training Loss: 0.4754, Validation Loss: 0.4495, Validation F-beta: 0.6854\n",
      "========================================================\n",
      "SUPER Best model saved. Loss:0.4495, Score:0.6854\n",
      "========================================================\n",
      "Epoch 43/4000\n"
     ]
    },
    {
     "name": "stderr",
     "output_type": "stream",
     "text": [
      "Training: 100%|██████████| 72/72 [01:17<00:00,  1.08s/it, loss=0.478]\n",
      "Validation: 100%|██████████| 12/12 [00:08<00:00,  1.34it/s, loss=0.45] \n"
     ]
    },
    {
     "name": "stdout",
     "output_type": "stream",
     "text": [
      "Validation Dice Score\n",
      "Class 0: 0.9871, Class 1: 0.7204, Class 2: 0.2173, Class 3: 0.3377, Class 4: 0.6085, Class 5: 0.4311, Class 6: 0.8556, \n",
      "Validation F-beta Score\n",
      "Class 0: 0.9817, Class 1: 0.8625, Class 2: 0.3162, Class 3: 0.4788, Class 4: 0.7731, Class 5: 0.5028, Class 6: 0.9362, \n",
      "\n",
      "Overall Mean Dice Score: 0.5907\n",
      "Overall Mean F-beta Score: 0.7107\n",
      "\n",
      "Training Loss: 0.4751, Validation Loss: 0.4475, Validation F-beta: 0.7107\n",
      "========================================================\n",
      "SUPER Best model saved. Loss:0.4475, Score:0.7107\n",
      "========================================================\n",
      "Epoch 44/4000\n"
     ]
    },
    {
     "name": "stderr",
     "output_type": "stream",
     "text": [
      "Training: 100%|██████████| 72/72 [01:18<00:00,  1.08s/it, loss=0.492]\n",
      "Validation: 100%|██████████| 12/12 [00:08<00:00,  1.37it/s, loss=0.447]\n"
     ]
    },
    {
     "name": "stdout",
     "output_type": "stream",
     "text": [
      "Validation Dice Score\n",
      "Class 0: 0.9886, Class 1: 0.7074, Class 2: 0.1870, Class 3: 0.3125, Class 4: 0.6724, Class 5: 0.3707, Class 6: 0.8781, \n",
      "Validation F-beta Score\n",
      "Class 0: 0.9862, Class 1: 0.8317, Class 2: 0.3315, Class 3: 0.5019, Class 4: 0.7067, Class 5: 0.3816, Class 6: 0.9185, \n",
      "\n",
      "Overall Mean Dice Score: 0.5882\n",
      "Overall Mean F-beta Score: 0.6681\n",
      "\n",
      "Training Loss: 0.4728, Validation Loss: 0.4575, Validation F-beta: 0.6681\n",
      "Epoch 45/4000\n"
     ]
    },
    {
     "name": "stderr",
     "output_type": "stream",
     "text": [
      "Training: 100%|██████████| 72/72 [01:18<00:00,  1.08s/it, loss=0.517]\n",
      "Validation: 100%|██████████| 12/12 [00:08<00:00,  1.36it/s, loss=0.471]\n"
     ]
    },
    {
     "name": "stdout",
     "output_type": "stream",
     "text": [
      "Validation Dice Score\n",
      "Class 0: 0.9882, Class 1: 0.6660, Class 2: 0.1866, Class 3: 0.3440, Class 4: 0.5999, Class 5: 0.4217, Class 6: 0.8486, \n",
      "Validation F-beta Score\n",
      "Class 0: 0.9849, Class 1: 0.8938, Class 2: 0.1851, Class 3: 0.3983, Class 4: 0.6700, Class 5: 0.5060, Class 6: 0.9437, \n",
      "\n",
      "Overall Mean Dice Score: 0.5761\n",
      "Overall Mean F-beta Score: 0.6824\n",
      "\n",
      "Training Loss: 0.4716, Validation Loss: 0.4536, Validation F-beta: 0.6824\n",
      "Epoch 46/4000\n"
     ]
    },
    {
     "name": "stderr",
     "output_type": "stream",
     "text": [
      "Training: 100%|██████████| 72/72 [01:16<00:00,  1.07s/it, loss=0.457]\n",
      "Validation: 100%|██████████| 12/12 [00:09<00:00,  1.31it/s, loss=0.44] \n"
     ]
    },
    {
     "name": "stdout",
     "output_type": "stream",
     "text": [
      "Validation Dice Score\n",
      "Class 0: 0.9874, Class 1: 0.7158, Class 2: 0.2377, Class 3: 0.3432, Class 4: 0.6158, Class 5: 0.4513, Class 6: 0.7840, \n",
      "Validation F-beta Score\n",
      "Class 0: 0.9823, Class 1: 0.8665, Class 2: 0.2828, Class 3: 0.5145, Class 4: 0.7427, Class 5: 0.5403, Class 6: 0.9475, \n",
      "\n",
      "Overall Mean Dice Score: 0.5820\n",
      "Overall Mean F-beta Score: 0.7223\n",
      "\n",
      "Training Loss: 0.4706, Validation Loss: 0.4464, Validation F-beta: 0.7223\n",
      "========================================================\n",
      "SUPER Best model saved. Loss:0.4464, Score:0.7223\n",
      "========================================================\n",
      "Epoch 47/4000\n"
     ]
    },
    {
     "name": "stderr",
     "output_type": "stream",
     "text": [
      "Training: 100%|██████████| 72/72 [01:18<00:00,  1.09s/it, loss=0.475]\n",
      "Validation: 100%|██████████| 12/12 [00:09<00:00,  1.27it/s, loss=0.447]\n"
     ]
    },
    {
     "name": "stdout",
     "output_type": "stream",
     "text": [
      "Validation Dice Score\n",
      "Class 0: 0.9889, Class 1: 0.6922, Class 2: 0.2039, Class 3: 0.3278, Class 4: 0.6268, Class 5: 0.4309, Class 6: 0.8739, \n",
      "Validation F-beta Score\n",
      "Class 0: 0.9858, Class 1: 0.8725, Class 2: 0.2900, Class 3: 0.4441, Class 4: 0.6928, Class 5: 0.5139, Class 6: 0.9293, \n",
      "\n",
      "Overall Mean Dice Score: 0.5903\n",
      "Overall Mean F-beta Score: 0.6905\n",
      "\n",
      "Training Loss: 0.4722, Validation Loss: 0.4516, Validation F-beta: 0.6905\n",
      "Epoch 48/4000\n"
     ]
    },
    {
     "name": "stderr",
     "output_type": "stream",
     "text": [
      "Training: 100%|██████████| 72/72 [01:17<00:00,  1.08s/it, loss=0.473]\n",
      "Validation: 100%|██████████| 12/12 [00:09<00:00,  1.31it/s, loss=0.46] \n"
     ]
    },
    {
     "name": "stdout",
     "output_type": "stream",
     "text": [
      "Validation Dice Score\n",
      "Class 0: 0.9891, Class 1: 0.7134, Class 2: 0.2311, Class 3: 0.3543, Class 4: 0.6872, Class 5: 0.4286, Class 6: 0.8543, \n",
      "Validation F-beta Score\n",
      "Class 0: 0.9863, Class 1: 0.8640, Class 2: 0.2907, Class 3: 0.4224, Class 4: 0.6722, Class 5: 0.5804, Class 6: 0.9416, \n",
      "\n",
      "Overall Mean Dice Score: 0.6076\n",
      "Overall Mean F-beta Score: 0.6961\n",
      "\n",
      "Training Loss: 0.4667, Validation Loss: 0.4419, Validation F-beta: 0.6961\n",
      "Epoch 49/4000\n"
     ]
    },
    {
     "name": "stderr",
     "output_type": "stream",
     "text": [
      "Training: 100%|██████████| 72/72 [01:20<00:00,  1.12s/it, loss=0.464]\n",
      "Validation: 100%|██████████| 12/12 [00:09<00:00,  1.32it/s, loss=0.461]\n"
     ]
    },
    {
     "name": "stdout",
     "output_type": "stream",
     "text": [
      "Validation Dice Score\n",
      "Class 0: 0.9898, Class 1: 0.7029, Class 2: 0.2119, Class 3: 0.3175, Class 4: 0.6262, Class 5: 0.4231, Class 6: 0.8731, \n",
      "Validation F-beta Score\n",
      "Class 0: 0.9895, Class 1: 0.8691, Class 2: 0.2790, Class 3: 0.4221, Class 4: 0.5647, Class 5: 0.4641, Class 6: 0.9415, \n",
      "\n",
      "Overall Mean Dice Score: 0.5886\n",
      "Overall Mean F-beta Score: 0.6523\n",
      "\n",
      "Training Loss: 0.4651, Validation Loss: 0.4488, Validation F-beta: 0.6523\n",
      "Epoch 50/4000\n"
     ]
    },
    {
     "name": "stderr",
     "output_type": "stream",
     "text": [
      "Training: 100%|██████████| 72/72 [01:16<00:00,  1.07s/it, loss=0.477]\n",
      "Validation: 100%|██████████| 12/12 [00:08<00:00,  1.37it/s, loss=0.461]\n"
     ]
    },
    {
     "name": "stdout",
     "output_type": "stream",
     "text": [
      "Validation Dice Score\n",
      "Class 0: 0.9901, Class 1: 0.7329, Class 2: 0.2181, Class 3: 0.3467, Class 4: 0.6511, Class 5: 0.4446, Class 6: 0.8124, \n",
      "Validation F-beta Score\n",
      "Class 0: 0.9887, Class 1: 0.8789, Class 2: 0.3127, Class 3: 0.4400, Class 4: 0.6396, Class 5: 0.4775, Class 6: 0.9389, \n",
      "\n",
      "Overall Mean Dice Score: 0.5975\n",
      "Overall Mean F-beta Score: 0.6750\n",
      "\n",
      "Training Loss: 0.4635, Validation Loss: 0.4447, Validation F-beta: 0.6750\n",
      "Epoch 51/4000\n"
     ]
    },
    {
     "name": "stderr",
     "output_type": "stream",
     "text": [
      "Training: 100%|██████████| 72/72 [01:17<00:00,  1.07s/it, loss=0.448]\n",
      "Validation: 100%|██████████| 12/12 [00:08<00:00,  1.35it/s, loss=0.426]\n"
     ]
    },
    {
     "name": "stdout",
     "output_type": "stream",
     "text": [
      "Validation Dice Score\n",
      "Class 0: 0.9895, Class 1: 0.7367, Class 2: 0.1977, Class 3: 0.3130, Class 4: 0.6332, Class 5: 0.4665, Class 6: 0.8391, \n",
      "Validation F-beta Score\n",
      "Class 0: 0.9874, Class 1: 0.8578, Class 2: 0.2694, Class 3: 0.3881, Class 4: 0.6656, Class 5: 0.5263, Class 6: 0.9474, \n",
      "\n",
      "Overall Mean Dice Score: 0.5977\n",
      "Overall Mean F-beta Score: 0.6771\n",
      "\n",
      "Training Loss: 0.4612, Validation Loss: 0.4447, Validation F-beta: 0.6771\n",
      "Epoch 52/4000\n"
     ]
    },
    {
     "name": "stderr",
     "output_type": "stream",
     "text": [
      "Training: 100%|██████████| 72/72 [01:16<00:00,  1.06s/it, loss=0.46] \n",
      "Validation: 100%|██████████| 12/12 [00:08<00:00,  1.36it/s, loss=0.441]\n"
     ]
    },
    {
     "name": "stdout",
     "output_type": "stream",
     "text": [
      "Validation Dice Score\n",
      "Class 0: 0.9888, Class 1: 0.7100, Class 2: 0.2383, Class 3: 0.3453, Class 4: 0.6579, Class 5: 0.4519, Class 6: 0.8694, \n",
      "Validation F-beta Score\n",
      "Class 0: 0.9857, Class 1: 0.8745, Class 2: 0.3077, Class 3: 0.4581, Class 4: 0.7620, Class 5: 0.4788, Class 6: 0.9468, \n",
      "\n",
      "Overall Mean Dice Score: 0.6069\n",
      "Overall Mean F-beta Score: 0.7040\n",
      "\n",
      "Training Loss: 0.4613, Validation Loss: 0.4439, Validation F-beta: 0.7040\n",
      "Epoch 53/4000\n"
     ]
    },
    {
     "name": "stderr",
     "output_type": "stream",
     "text": [
      "Training: 100%|██████████| 72/72 [01:17<00:00,  1.08s/it, loss=0.485]\n",
      "Validation: 100%|██████████| 12/12 [00:08<00:00,  1.37it/s, loss=0.479]\n"
     ]
    },
    {
     "name": "stdout",
     "output_type": "stream",
     "text": [
      "Validation Dice Score\n",
      "Class 0: 0.9900, Class 1: 0.7208, Class 2: 0.2675, Class 3: 0.3647, Class 4: 0.6901, Class 5: 0.4365, Class 6: 0.8427, \n",
      "Validation F-beta Score\n",
      "Class 0: 0.9884, Class 1: 0.8731, Class 2: 0.2919, Class 3: 0.4188, Class 4: 0.7166, Class 5: 0.4788, Class 6: 0.9514, \n",
      "\n",
      "Overall Mean Dice Score: 0.6110\n",
      "Overall Mean F-beta Score: 0.6878\n",
      "\n",
      "Training Loss: 0.4621, Validation Loss: 0.4448, Validation F-beta: 0.6878\n",
      "Epoch 54/4000\n"
     ]
    },
    {
     "name": "stderr",
     "output_type": "stream",
     "text": [
      "Training: 100%|██████████| 72/72 [01:17<00:00,  1.07s/it, loss=0.443]\n",
      "Validation: 100%|██████████| 12/12 [00:08<00:00,  1.38it/s, loss=0.452]\n"
     ]
    },
    {
     "name": "stdout",
     "output_type": "stream",
     "text": [
      "Validation Dice Score\n",
      "Class 0: 0.9906, Class 1: 0.7509, Class 2: 0.1874, Class 3: 0.3540, Class 4: 0.6977, Class 5: 0.4517, Class 6: 0.8637, \n",
      "Validation F-beta Score\n",
      "Class 0: 0.9893, Class 1: 0.8796, Class 2: 0.3232, Class 3: 0.5024, Class 4: 0.6718, Class 5: 0.4950, Class 6: 0.9324, \n",
      "\n",
      "Overall Mean Dice Score: 0.6236\n",
      "Overall Mean F-beta Score: 0.6962\n",
      "\n",
      "Training Loss: 0.4628, Validation Loss: 0.4375, Validation F-beta: 0.6962\n",
      "Epoch 55/4000\n"
     ]
    },
    {
     "name": "stderr",
     "output_type": "stream",
     "text": [
      "Training: 100%|██████████| 72/72 [01:18<00:00,  1.08s/it, loss=0.461]\n",
      "Validation: 100%|██████████| 12/12 [00:08<00:00,  1.36it/s, loss=0.439]\n"
     ]
    },
    {
     "name": "stdout",
     "output_type": "stream",
     "text": [
      "Validation Dice Score\n",
      "Class 0: 0.9897, Class 1: 0.7071, Class 2: 0.2160, Class 3: 0.3191, Class 4: 0.6617, Class 5: 0.4052, Class 6: 0.8538, \n",
      "Validation F-beta Score\n",
      "Class 0: 0.9883, Class 1: 0.8700, Class 2: 0.2991, Class 3: 0.5696, Class 4: 0.6727, Class 5: 0.3839, Class 6: 0.9312, \n",
      "\n",
      "Overall Mean Dice Score: 0.5894\n",
      "Overall Mean F-beta Score: 0.6855\n",
      "\n",
      "Training Loss: 0.4627, Validation Loss: 0.4438, Validation F-beta: 0.6855\n",
      "Epoch 56/4000\n"
     ]
    },
    {
     "name": "stderr",
     "output_type": "stream",
     "text": [
      "Training: 100%|██████████| 72/72 [01:17<00:00,  1.07s/it, loss=0.474]\n",
      "Validation: 100%|██████████| 12/12 [00:08<00:00,  1.36it/s, loss=0.46] \n"
     ]
    },
    {
     "name": "stdout",
     "output_type": "stream",
     "text": [
      "Validation Dice Score\n",
      "Class 0: 0.9898, Class 1: 0.7269, Class 2: 0.1320, Class 3: 0.3020, Class 4: 0.7003, Class 5: 0.4149, Class 6: 0.8627, \n",
      "Validation F-beta Score\n",
      "Class 0: 0.9879, Class 1: 0.8950, Class 2: 0.1915, Class 3: 0.4554, Class 4: 0.7094, Class 5: 0.4538, Class 6: 0.9385, \n",
      "\n",
      "Overall Mean Dice Score: 0.6014\n",
      "Overall Mean F-beta Score: 0.6904\n",
      "\n",
      "Training Loss: 0.4636, Validation Loss: 0.4455, Validation F-beta: 0.6904\n",
      "Epoch 57/4000\n"
     ]
    },
    {
     "name": "stderr",
     "output_type": "stream",
     "text": [
      "Training: 100%|██████████| 72/72 [01:16<00:00,  1.07s/it, loss=0.426]\n",
      "Validation: 100%|██████████| 12/12 [00:08<00:00,  1.35it/s, loss=0.481]\n"
     ]
    },
    {
     "name": "stdout",
     "output_type": "stream",
     "text": [
      "Validation Dice Score\n",
      "Class 0: 0.9888, Class 1: 0.7102, Class 2: 0.2300, Class 3: 0.3720, Class 4: 0.6697, Class 5: 0.3934, Class 6: 0.8389, \n",
      "Validation F-beta Score\n",
      "Class 0: 0.9858, Class 1: 0.8683, Class 2: 0.3473, Class 3: 0.5250, Class 4: 0.7248, Class 5: 0.4606, Class 6: 0.9565, \n",
      "\n",
      "Overall Mean Dice Score: 0.5968\n",
      "Overall Mean F-beta Score: 0.7070\n",
      "\n",
      "Training Loss: 0.4546, Validation Loss: 0.4455, Validation F-beta: 0.7070\n",
      "Epoch 58/4000\n"
     ]
    },
    {
     "name": "stderr",
     "output_type": "stream",
     "text": [
      "Training: 100%|██████████| 72/72 [01:16<00:00,  1.06s/it, loss=0.445]\n",
      "Validation: 100%|██████████| 12/12 [00:08<00:00,  1.37it/s, loss=0.465]\n"
     ]
    },
    {
     "name": "stdout",
     "output_type": "stream",
     "text": [
      "Validation Dice Score\n",
      "Class 0: 0.9892, Class 1: 0.7365, Class 2: 0.2246, Class 3: 0.3746, Class 4: 0.6530, Class 5: 0.4696, Class 6: 0.8619, \n",
      "Validation F-beta Score\n",
      "Class 0: 0.9866, Class 1: 0.8740, Class 2: 0.2877, Class 3: 0.4407, Class 4: 0.7429, Class 5: 0.4969, Class 6: 0.9591, \n",
      "\n",
      "Overall Mean Dice Score: 0.6191\n",
      "Overall Mean F-beta Score: 0.7027\n",
      "\n",
      "Training Loss: 0.4557, Validation Loss: 0.4403, Validation F-beta: 0.7027\n",
      "Epoch 59/4000\n"
     ]
    },
    {
     "name": "stderr",
     "output_type": "stream",
     "text": [
      "Training: 100%|██████████| 72/72 [01:16<00:00,  1.07s/it, loss=0.445]\n",
      "Validation: 100%|██████████| 12/12 [00:08<00:00,  1.35it/s, loss=0.443]\n"
     ]
    },
    {
     "name": "stdout",
     "output_type": "stream",
     "text": [
      "Validation Dice Score\n",
      "Class 0: 0.9894, Class 1: 0.7836, Class 2: 0.2036, Class 3: 0.3263, Class 4: 0.7005, Class 5: 0.4398, Class 6: 0.8609, \n",
      "Validation F-beta Score\n",
      "Class 0: 0.9878, Class 1: 0.8874, Class 2: 0.2687, Class 3: 0.4748, Class 4: 0.7330, Class 5: 0.4363, Class 6: 0.9465, \n",
      "\n",
      "Overall Mean Dice Score: 0.6222\n",
      "Overall Mean F-beta Score: 0.6956\n",
      "\n",
      "Training Loss: 0.4540, Validation Loss: 0.4379, Validation F-beta: 0.6956\n",
      "Epoch 60/4000\n"
     ]
    },
    {
     "name": "stderr",
     "output_type": "stream",
     "text": [
      "Training: 100%|██████████| 72/72 [01:17<00:00,  1.08s/it, loss=0.47] \n",
      "Validation: 100%|██████████| 12/12 [00:08<00:00,  1.34it/s, loss=0.461]\n"
     ]
    },
    {
     "name": "stdout",
     "output_type": "stream",
     "text": [
      "Validation Dice Score\n",
      "Class 0: 0.9896, Class 1: 0.7629, Class 2: 0.1890, Class 3: 0.3396, Class 4: 0.7072, Class 5: 0.4357, Class 6: 0.8932, \n",
      "Validation F-beta Score\n",
      "Class 0: 0.9859, Class 1: 0.8987, Class 2: 0.3852, Class 3: 0.5320, Class 4: 0.7727, Class 5: 0.5056, Class 6: 0.9406, \n",
      "\n",
      "Overall Mean Dice Score: 0.6277\n",
      "Overall Mean F-beta Score: 0.7299\n",
      "\n",
      "Training Loss: 0.4537, Validation Loss: 0.4371, Validation F-beta: 0.7299\n",
      "========================================================\n",
      "SUPER Best model saved. Loss:0.4371, Score:0.7299\n",
      "========================================================\n",
      "Epoch 61/4000\n"
     ]
    },
    {
     "name": "stderr",
     "output_type": "stream",
     "text": [
      "Training: 100%|██████████| 72/72 [01:19<00:00,  1.10s/it, loss=0.434]\n",
      "Validation: 100%|██████████| 12/12 [00:08<00:00,  1.34it/s, loss=0.407]\n"
     ]
    },
    {
     "name": "stdout",
     "output_type": "stream",
     "text": [
      "Validation Dice Score\n",
      "Class 0: 0.9904, Class 1: 0.7846, Class 2: 0.2947, Class 3: 0.3665, Class 4: 0.6956, Class 5: 0.4791, Class 6: 0.8733, \n",
      "Validation F-beta Score\n",
      "Class 0: 0.9903, Class 1: 0.8538, Class 2: 0.3185, Class 3: 0.3558, Class 4: 0.6635, Class 5: 0.5074, Class 6: 0.9320, \n",
      "\n",
      "Overall Mean Dice Score: 0.6398\n",
      "Overall Mean F-beta Score: 0.6625\n",
      "\n",
      "Training Loss: 0.4569, Validation Loss: 0.4246, Validation F-beta: 0.6625\n",
      "Epoch 62/4000\n"
     ]
    },
    {
     "name": "stderr",
     "output_type": "stream",
     "text": [
      "Training: 100%|██████████| 72/72 [01:16<00:00,  1.07s/it, loss=0.475]\n",
      "Validation: 100%|██████████| 12/12 [00:08<00:00,  1.34it/s, loss=0.409]\n"
     ]
    },
    {
     "name": "stdout",
     "output_type": "stream",
     "text": [
      "Validation Dice Score\n",
      "Class 0: 0.9899, Class 1: 0.8020, Class 2: 0.1951, Class 3: 0.3240, Class 4: 0.7103, Class 5: 0.4309, Class 6: 0.8854, \n",
      "Validation F-beta Score\n",
      "Class 0: 0.9880, Class 1: 0.8369, Class 2: 0.3677, Class 3: 0.4316, Class 4: 0.6895, Class 5: 0.4799, Class 6: 0.9384, \n",
      "\n",
      "Overall Mean Dice Score: 0.6305\n",
      "Overall Mean F-beta Score: 0.6752\n",
      "\n",
      "Training Loss: 0.4605, Validation Loss: 0.4329, Validation F-beta: 0.6752\n",
      "Epoch 63/4000\n"
     ]
    },
    {
     "name": "stderr",
     "output_type": "stream",
     "text": [
      "Training: 100%|██████████| 72/72 [01:16<00:00,  1.07s/it, loss=0.505]\n",
      "Validation: 100%|██████████| 12/12 [00:08<00:00,  1.34it/s, loss=0.472]\n"
     ]
    },
    {
     "name": "stdout",
     "output_type": "stream",
     "text": [
      "Validation Dice Score\n",
      "Class 0: 0.9909, Class 1: 0.7637, Class 2: 0.1932, Class 3: 0.2874, Class 4: 0.6566, Class 5: 0.4029, Class 6: 0.9038, \n",
      "Validation F-beta Score\n",
      "Class 0: 0.9919, Class 1: 0.8820, Class 2: 0.2633, Class 3: 0.4248, Class 4: 0.5768, Class 5: 0.3708, Class 6: 0.9285, \n",
      "\n",
      "Overall Mean Dice Score: 0.6029\n",
      "Overall Mean F-beta Score: 0.6366\n",
      "\n",
      "Training Loss: 0.4631, Validation Loss: 0.4456, Validation F-beta: 0.6366\n",
      "Epoch 64/4000\n"
     ]
    },
    {
     "name": "stderr",
     "output_type": "stream",
     "text": [
      "Training: 100%|██████████| 72/72 [01:16<00:00,  1.07s/it, loss=0.45] \n",
      "Validation: 100%|██████████| 12/12 [00:08<00:00,  1.36it/s, loss=0.405]\n"
     ]
    },
    {
     "name": "stdout",
     "output_type": "stream",
     "text": [
      "Validation Dice Score\n",
      "Class 0: 0.9901, Class 1: 0.7927, Class 2: 0.2505, Class 3: 0.3857, Class 4: 0.6854, Class 5: 0.4230, Class 6: 0.8316, \n",
      "Validation F-beta Score\n",
      "Class 0: 0.9884, Class 1: 0.8857, Class 2: 0.3496, Class 3: 0.3853, Class 4: 0.6475, Class 5: 0.5088, Class 6: 0.9492, \n",
      "\n",
      "Overall Mean Dice Score: 0.6237\n",
      "Overall Mean F-beta Score: 0.6753\n",
      "\n",
      "Training Loss: 0.4534, Validation Loss: 0.4264, Validation F-beta: 0.6753\n",
      "Epoch 65/4000\n"
     ]
    },
    {
     "name": "stderr",
     "output_type": "stream",
     "text": [
      "Training: 100%|██████████| 72/72 [01:16<00:00,  1.06s/it, loss=0.459]\n",
      "Validation: 100%|██████████| 12/12 [00:08<00:00,  1.36it/s, loss=0.466]\n"
     ]
    },
    {
     "name": "stdout",
     "output_type": "stream",
     "text": [
      "Validation Dice Score\n",
      "Class 0: 0.9891, Class 1: 0.7703, Class 2: 0.2552, Class 3: 0.3955, Class 4: 0.6958, Class 5: 0.4371, Class 6: 0.8802, \n",
      "Validation F-beta Score\n",
      "Class 0: 0.9861, Class 1: 0.8680, Class 2: 0.3074, Class 3: 0.5418, Class 4: 0.7319, Class 5: 0.5345, Class 6: 0.9375, \n",
      "\n",
      "Overall Mean Dice Score: 0.6358\n",
      "Overall Mean F-beta Score: 0.7227\n",
      "\n",
      "Training Loss: 0.4577, Validation Loss: 0.4327, Validation F-beta: 0.7227\n",
      "Epoch 66/4000\n"
     ]
    },
    {
     "name": "stderr",
     "output_type": "stream",
     "text": [
      "Training: 100%|██████████| 72/72 [01:16<00:00,  1.06s/it, loss=0.456]\n",
      "Validation: 100%|██████████| 12/12 [00:10<00:00,  1.19it/s, loss=0.431]\n"
     ]
    },
    {
     "name": "stdout",
     "output_type": "stream",
     "text": [
      "Validation Dice Score\n",
      "Class 0: 0.9902, Class 1: 0.7837, Class 2: 0.2444, Class 3: 0.3744, Class 4: 0.7003, Class 5: 0.4747, Class 6: 0.8619, \n",
      "Validation F-beta Score\n",
      "Class 0: 0.9876, Class 1: 0.8837, Class 2: 0.2713, Class 3: 0.5155, Class 4: 0.7415, Class 5: 0.5602, Class 6: 0.9554, \n",
      "\n",
      "Overall Mean Dice Score: 0.6390\n",
      "Overall Mean F-beta Score: 0.7313\n",
      "\n",
      "Training Loss: 0.4544, Validation Loss: 0.4315, Validation F-beta: 0.7313\n",
      "========================================================\n",
      "SUPER Best model saved. Loss:0.4315, Score:0.7313\n",
      "========================================================\n",
      "Epoch 67/4000\n"
     ]
    },
    {
     "name": "stderr",
     "output_type": "stream",
     "text": [
      "Training: 100%|██████████| 72/72 [01:16<00:00,  1.06s/it, loss=0.443]\n",
      "Validation: 100%|██████████| 12/12 [00:08<00:00,  1.34it/s, loss=0.443]\n"
     ]
    },
    {
     "name": "stdout",
     "output_type": "stream",
     "text": [
      "Validation Dice Score\n",
      "Class 0: 0.9897, Class 1: 0.7419, Class 2: 0.2110, Class 3: 0.4460, Class 4: 0.7070, Class 5: 0.4464, Class 6: 0.8955, \n",
      "Validation F-beta Score\n",
      "Class 0: 0.9875, Class 1: 0.8598, Class 2: 0.3088, Class 3: 0.5352, Class 4: 0.6948, Class 5: 0.5674, Class 6: 0.9406, \n",
      "\n",
      "Overall Mean Dice Score: 0.6474\n",
      "Overall Mean F-beta Score: 0.7196\n",
      "\n",
      "Training Loss: 0.4547, Validation Loss: 0.4346, Validation F-beta: 0.7196\n",
      "Epoch 68/4000\n"
     ]
    },
    {
     "name": "stderr",
     "output_type": "stream",
     "text": [
      "Training: 100%|██████████| 72/72 [01:16<00:00,  1.06s/it, loss=0.455]\n",
      "Validation: 100%|██████████| 12/12 [00:08<00:00,  1.35it/s, loss=0.398]\n"
     ]
    },
    {
     "name": "stdout",
     "output_type": "stream",
     "text": [
      "Validation Dice Score\n",
      "Class 0: 0.9907, Class 1: 0.7785, Class 2: 0.2136, Class 3: 0.3687, Class 4: 0.7080, Class 5: 0.4691, Class 6: 0.8876, \n",
      "Validation F-beta Score\n",
      "Class 0: 0.9906, Class 1: 0.8237, Class 2: 0.3067, Class 3: 0.4096, Class 4: 0.6338, Class 5: 0.5322, Class 6: 0.9365, \n",
      "\n",
      "Overall Mean Dice Score: 0.6424\n",
      "Overall Mean F-beta Score: 0.6672\n",
      "\n",
      "Training Loss: 0.4527, Validation Loss: 0.4275, Validation F-beta: 0.6672\n",
      "Epoch 69/4000\n"
     ]
    },
    {
     "name": "stderr",
     "output_type": "stream",
     "text": [
      "Training: 100%|██████████| 72/72 [01:16<00:00,  1.07s/it, loss=0.434]\n",
      "Validation: 100%|██████████| 12/12 [00:09<00:00,  1.33it/s, loss=0.438]\n"
     ]
    },
    {
     "name": "stdout",
     "output_type": "stream",
     "text": [
      "Validation Dice Score\n",
      "Class 0: 0.9896, Class 1: 0.7543, Class 2: 0.2111, Class 3: 0.3956, Class 4: 0.6832, Class 5: 0.4686, Class 6: 0.8927, \n",
      "Validation F-beta Score\n",
      "Class 0: 0.9881, Class 1: 0.8911, Class 2: 0.4320, Class 3: 0.5223, Class 4: 0.6384, Class 5: 0.5084, Class 6: 0.9357, \n",
      "\n",
      "Overall Mean Dice Score: 0.6389\n",
      "Overall Mean F-beta Score: 0.6992\n",
      "\n",
      "Training Loss: 0.4479, Validation Loss: 0.4282, Validation F-beta: 0.6992\n",
      "Epoch 70/4000\n"
     ]
    },
    {
     "name": "stderr",
     "output_type": "stream",
     "text": [
      "Training: 100%|██████████| 72/72 [01:16<00:00,  1.06s/it, loss=0.443]\n",
      "Validation: 100%|██████████| 12/12 [00:08<00:00,  1.34it/s, loss=0.476]\n"
     ]
    },
    {
     "name": "stdout",
     "output_type": "stream",
     "text": [
      "Validation Dice Score\n",
      "Class 0: 0.9897, Class 1: 0.7476, Class 2: 0.2654, Class 3: 0.3967, Class 4: 0.7115, Class 5: 0.4470, Class 6: 0.8503, \n",
      "Validation F-beta Score\n",
      "Class 0: 0.9873, Class 1: 0.8885, Class 2: 0.3300, Class 3: 0.5776, Class 4: 0.7540, Class 5: 0.5028, Class 6: 0.9595, \n",
      "\n",
      "Overall Mean Dice Score: 0.6306\n",
      "Overall Mean F-beta Score: 0.7365\n",
      "\n",
      "Training Loss: 0.4519, Validation Loss: 0.4316, Validation F-beta: 0.7365\n",
      "Epoch 71/4000\n"
     ]
    },
    {
     "name": "stderr",
     "output_type": "stream",
     "text": [
      "Training: 100%|██████████| 72/72 [01:15<00:00,  1.05s/it, loss=0.469]\n",
      "Validation: 100%|██████████| 12/12 [00:08<00:00,  1.36it/s, loss=0.449]\n"
     ]
    },
    {
     "name": "stdout",
     "output_type": "stream",
     "text": [
      "Validation Dice Score\n",
      "Class 0: 0.9891, Class 1: 0.7403, Class 2: 0.3189, Class 3: 0.3557, Class 4: 0.6748, Class 5: 0.4216, Class 6: 0.8639, \n",
      "Validation F-beta Score\n",
      "Class 0: 0.9846, Class 1: 0.8981, Class 2: 0.3943, Class 3: 0.4511, Class 4: 0.7731, Class 5: 0.5618, Class 6: 0.9539, \n",
      "\n",
      "Overall Mean Dice Score: 0.6113\n",
      "Overall Mean F-beta Score: 0.7276\n",
      "\n",
      "Training Loss: 0.4537, Validation Loss: 0.4398, Validation F-beta: 0.7276\n",
      "Epoch 72/4000\n"
     ]
    },
    {
     "name": "stderr",
     "output_type": "stream",
     "text": [
      "Training: 100%|██████████| 72/72 [01:17<00:00,  1.08s/it, loss=0.461]\n",
      "Validation: 100%|██████████| 12/12 [00:08<00:00,  1.34it/s, loss=0.473]\n"
     ]
    },
    {
     "name": "stdout",
     "output_type": "stream",
     "text": [
      "Validation Dice Score\n",
      "Class 0: 0.9903, Class 1: 0.7450, Class 2: 0.2736, Class 3: 0.4177, Class 4: 0.6969, Class 5: 0.4593, Class 6: 0.8680, \n",
      "Validation F-beta Score\n",
      "Class 0: 0.9883, Class 1: 0.8764, Class 2: 0.3268, Class 3: 0.4969, Class 4: 0.6961, Class 5: 0.5507, Class 6: 0.9543, \n",
      "\n",
      "Overall Mean Dice Score: 0.6374\n",
      "Overall Mean F-beta Score: 0.7149\n",
      "\n",
      "Training Loss: 0.4582, Validation Loss: 0.4290, Validation F-beta: 0.7149\n",
      "Epoch 73/4000\n"
     ]
    },
    {
     "name": "stderr",
     "output_type": "stream",
     "text": [
      "Training: 100%|██████████| 72/72 [01:16<00:00,  1.06s/it, loss=0.429]\n",
      "Validation: 100%|██████████| 12/12 [00:08<00:00,  1.34it/s, loss=0.437]\n"
     ]
    },
    {
     "name": "stdout",
     "output_type": "stream",
     "text": [
      "Validation Dice Score\n",
      "Class 0: 0.9906, Class 1: 0.7494, Class 2: 0.2678, Class 3: 0.3493, Class 4: 0.6846, Class 5: 0.4669, Class 6: 0.8739, \n",
      "Validation F-beta Score\n",
      "Class 0: 0.9886, Class 1: 0.8834, Class 2: 0.4131, Class 3: 0.4552, Class 4: 0.6821, Class 5: 0.5237, Class 6: 0.9603, \n",
      "\n",
      "Overall Mean Dice Score: 0.6248\n",
      "Overall Mean F-beta Score: 0.7009\n",
      "\n",
      "Training Loss: 0.4478, Validation Loss: 0.4306, Validation F-beta: 0.7009\n",
      "Epoch 74/4000\n"
     ]
    },
    {
     "name": "stderr",
     "output_type": "stream",
     "text": [
      "Training: 100%|██████████| 72/72 [01:16<00:00,  1.06s/it, loss=0.473]\n",
      "Validation: 100%|██████████| 12/12 [00:08<00:00,  1.34it/s, loss=0.498]\n"
     ]
    },
    {
     "name": "stdout",
     "output_type": "stream",
     "text": [
      "Validation Dice Score\n",
      "Class 0: 0.9904, Class 1: 0.7062, Class 2: 0.2245, Class 3: 0.3940, Class 4: 0.7048, Class 5: 0.4750, Class 6: 0.8568, \n",
      "Validation F-beta Score\n",
      "Class 0: 0.9886, Class 1: 0.8913, Class 2: 0.3425, Class 3: 0.4279, Class 4: 0.7270, Class 5: 0.5186, Class 6: 0.9543, \n",
      "\n",
      "Overall Mean Dice Score: 0.6274\n",
      "Overall Mean F-beta Score: 0.7038\n",
      "\n",
      "Training Loss: 0.4485, Validation Loss: 0.4365, Validation F-beta: 0.7038\n",
      "Epoch 75/4000\n"
     ]
    },
    {
     "name": "stderr",
     "output_type": "stream",
     "text": [
      "Training: 100%|██████████| 72/72 [01:16<00:00,  1.06s/it, loss=0.466]\n",
      "Validation: 100%|██████████| 12/12 [00:08<00:00,  1.38it/s, loss=0.495]\n"
     ]
    },
    {
     "name": "stdout",
     "output_type": "stream",
     "text": [
      "Validation Dice Score\n",
      "Class 0: 0.9898, Class 1: 0.7616, Class 2: 0.2776, Class 3: 0.3775, Class 4: 0.7205, Class 5: 0.4718, Class 6: 0.8972, \n",
      "Validation F-beta Score\n",
      "Class 0: 0.9881, Class 1: 0.8983, Class 2: 0.3300, Class 3: 0.4808, Class 4: 0.7167, Class 5: 0.5530, Class 6: 0.9537, \n",
      "\n",
      "Overall Mean Dice Score: 0.6457\n",
      "Overall Mean F-beta Score: 0.7205\n",
      "\n",
      "Training Loss: 0.4484, Validation Loss: 0.4269, Validation F-beta: 0.7205\n",
      "Epoch 76/4000\n"
     ]
    },
    {
     "name": "stderr",
     "output_type": "stream",
     "text": [
      "Training: 100%|██████████| 72/72 [01:15<00:00,  1.05s/it, loss=0.431]\n",
      "Validation: 100%|██████████| 12/12 [00:08<00:00,  1.37it/s, loss=0.434]\n"
     ]
    },
    {
     "name": "stdout",
     "output_type": "stream",
     "text": [
      "Validation Dice Score\n",
      "Class 0: 0.9895, Class 1: 0.7610, Class 2: 0.1998, Class 3: 0.3644, Class 4: 0.6860, Class 5: 0.4464, Class 6: 0.8834, \n",
      "Validation F-beta Score\n",
      "Class 0: 0.9860, Class 1: 0.8857, Class 2: 0.3627, Class 3: 0.4988, Class 4: 0.7417, Class 5: 0.5494, Class 6: 0.9545, \n",
      "\n",
      "Overall Mean Dice Score: 0.6282\n",
      "Overall Mean F-beta Score: 0.7260\n",
      "\n",
      "Training Loss: 0.4502, Validation Loss: 0.4305, Validation F-beta: 0.7260\n",
      "Epoch 77/4000\n"
     ]
    },
    {
     "name": "stderr",
     "output_type": "stream",
     "text": [
      "Training: 100%|██████████| 72/72 [01:16<00:00,  1.06s/it, loss=0.466]\n",
      "Validation: 100%|██████████| 12/12 [00:08<00:00,  1.37it/s, loss=0.404]\n"
     ]
    },
    {
     "name": "stdout",
     "output_type": "stream",
     "text": [
      "Validation Dice Score\n",
      "Class 0: 0.9905, Class 1: 0.7803, Class 2: 0.2715, Class 3: 0.3968, Class 4: 0.6932, Class 5: 0.4667, Class 6: 0.9003, \n",
      "Validation F-beta Score\n",
      "Class 0: 0.9882, Class 1: 0.8916, Class 2: 0.3873, Class 3: 0.4899, Class 4: 0.6950, Class 5: 0.5607, Class 6: 0.9502, \n",
      "\n",
      "Overall Mean Dice Score: 0.6475\n",
      "Overall Mean F-beta Score: 0.7175\n",
      "\n",
      "Training Loss: 0.4436, Validation Loss: 0.4087, Validation F-beta: 0.7175\n",
      "Epoch 78/4000\n"
     ]
    },
    {
     "name": "stderr",
     "output_type": "stream",
     "text": [
      "Training: 100%|██████████| 72/72 [01:17<00:00,  1.07s/it, loss=0.482]\n",
      "Validation: 100%|██████████| 12/12 [00:08<00:00,  1.36it/s, loss=0.473]\n"
     ]
    },
    {
     "name": "stdout",
     "output_type": "stream",
     "text": [
      "Validation Dice Score\n",
      "Class 0: 0.9903, Class 1: 0.7497, Class 2: 0.2731, Class 3: 0.3665, Class 4: 0.6673, Class 5: 0.4592, Class 6: 0.8108, \n",
      "Validation F-beta Score\n",
      "Class 0: 0.9880, Class 1: 0.8884, Class 2: 0.3199, Class 3: 0.5204, Class 4: 0.6940, Class 5: 0.5205, Class 6: 0.9539, \n",
      "\n",
      "Overall Mean Dice Score: 0.6107\n",
      "Overall Mean F-beta Score: 0.7154\n",
      "\n",
      "Training Loss: 0.4460, Validation Loss: 0.4411, Validation F-beta: 0.7154\n",
      "Epoch 79/4000\n"
     ]
    },
    {
     "name": "stderr",
     "output_type": "stream",
     "text": [
      "Training: 100%|██████████| 72/72 [01:16<00:00,  1.06s/it, loss=0.473]\n",
      "Validation: 100%|██████████| 12/12 [00:08<00:00,  1.36it/s, loss=0.409]\n"
     ]
    },
    {
     "name": "stdout",
     "output_type": "stream",
     "text": [
      "Validation Dice Score\n",
      "Class 0: 0.9899, Class 1: 0.7454, Class 2: 0.2697, Class 3: 0.3793, Class 4: 0.7125, Class 5: 0.4588, Class 6: 0.8624, \n",
      "Validation F-beta Score\n",
      "Class 0: 0.9878, Class 1: 0.8996, Class 2: 0.3958, Class 3: 0.5103, Class 4: 0.6768, Class 5: 0.5709, Class 6: 0.9469, \n",
      "\n",
      "Overall Mean Dice Score: 0.6317\n",
      "Overall Mean F-beta Score: 0.7209\n",
      "\n",
      "Training Loss: 0.4497, Validation Loss: 0.4371, Validation F-beta: 0.7209\n",
      "Epoch 80/4000\n"
     ]
    },
    {
     "name": "stderr",
     "output_type": "stream",
     "text": [
      "Training: 100%|██████████| 72/72 [01:16<00:00,  1.07s/it, loss=0.43] \n",
      "Validation: 100%|██████████| 12/12 [00:08<00:00,  1.36it/s, loss=0.423]\n"
     ]
    },
    {
     "name": "stdout",
     "output_type": "stream",
     "text": [
      "Validation Dice Score\n",
      "Class 0: 0.9897, Class 1: 0.7008, Class 2: 0.2147, Class 3: 0.3524, Class 4: 0.7008, Class 5: 0.4677, Class 6: 0.7138, \n",
      "Validation F-beta Score\n",
      "Class 0: 0.9878, Class 1: 0.9128, Class 2: 0.2456, Class 3: 0.5313, Class 4: 0.6899, Class 5: 0.5380, Class 6: 0.8347, \n",
      "\n",
      "Overall Mean Dice Score: 0.5871\n",
      "Overall Mean F-beta Score: 0.7014\n",
      "\n",
      "Training Loss: 0.4471, Validation Loss: 0.4411, Validation F-beta: 0.7014\n",
      "Epoch 81/4000\n"
     ]
    },
    {
     "name": "stderr",
     "output_type": "stream",
     "text": [
      "Training: 100%|██████████| 72/72 [01:18<00:00,  1.09s/it, loss=0.479]\n",
      "Validation: 100%|██████████| 12/12 [00:08<00:00,  1.36it/s, loss=0.41] \n"
     ]
    },
    {
     "name": "stdout",
     "output_type": "stream",
     "text": [
      "Validation Dice Score\n",
      "Class 0: 0.9888, Class 1: 0.7683, Class 2: 0.2235, Class 3: 0.3604, Class 4: 0.6657, Class 5: 0.4415, Class 6: 0.8686, \n",
      "Validation F-beta Score\n",
      "Class 0: 0.9841, Class 1: 0.8973, Class 2: 0.3906, Class 3: 0.5220, Class 4: 0.7813, Class 5: 0.5291, Class 6: 0.9559, \n",
      "\n",
      "Overall Mean Dice Score: 0.6209\n",
      "Overall Mean F-beta Score: 0.7371\n",
      "\n",
      "Training Loss: 0.4452, Validation Loss: 0.4355, Validation F-beta: 0.7371\n",
      "Epoch 82/4000\n"
     ]
    },
    {
     "name": "stderr",
     "output_type": "stream",
     "text": [
      "Training: 100%|██████████| 72/72 [01:18<00:00,  1.09s/it, loss=0.429]\n",
      "Validation: 100%|██████████| 12/12 [00:08<00:00,  1.39it/s, loss=0.444]\n"
     ]
    },
    {
     "name": "stdout",
     "output_type": "stream",
     "text": [
      "Validation Dice Score\n",
      "Class 0: 0.9888, Class 1: 0.7851, Class 2: 0.1848, Class 3: 0.3524, Class 4: 0.7302, Class 5: 0.4374, Class 6: 0.8733, \n",
      "Validation F-beta Score\n",
      "Class 0: 0.9855, Class 1: 0.8928, Class 2: 0.2903, Class 3: 0.4807, Class 4: 0.7578, Class 5: 0.5344, Class 6: 0.9543, \n",
      "\n",
      "Overall Mean Dice Score: 0.6357\n",
      "Overall Mean F-beta Score: 0.7240\n",
      "\n",
      "Training Loss: 0.4466, Validation Loss: 0.4250, Validation F-beta: 0.7240\n",
      "Epoch 83/4000\n"
     ]
    },
    {
     "name": "stderr",
     "output_type": "stream",
     "text": [
      "Training: 100%|██████████| 72/72 [01:15<00:00,  1.05s/it, loss=0.426]\n",
      "Validation: 100%|██████████| 12/12 [00:08<00:00,  1.36it/s, loss=0.444]\n"
     ]
    },
    {
     "name": "stdout",
     "output_type": "stream",
     "text": [
      "Validation Dice Score\n",
      "Class 0: 0.9900, Class 1: 0.7707, Class 2: 0.2703, Class 3: 0.3712, Class 4: 0.7281, Class 5: 0.4437, Class 6: 0.8871, \n",
      "Validation F-beta Score\n",
      "Class 0: 0.9892, Class 1: 0.8683, Class 2: 0.4352, Class 3: 0.5680, Class 4: 0.6917, Class 5: 0.4773, Class 6: 0.9385, \n",
      "\n",
      "Overall Mean Dice Score: 0.6401\n",
      "Overall Mean F-beta Score: 0.7088\n",
      "\n",
      "Training Loss: 0.4450, Validation Loss: 0.4344, Validation F-beta: 0.7088\n",
      "Epoch 84/4000\n"
     ]
    },
    {
     "name": "stderr",
     "output_type": "stream",
     "text": [
      "Training: 100%|██████████| 72/72 [01:18<00:00,  1.09s/it, loss=0.431]\n",
      "Validation: 100%|██████████| 12/12 [00:08<00:00,  1.35it/s, loss=0.446]\n"
     ]
    },
    {
     "name": "stdout",
     "output_type": "stream",
     "text": [
      "Validation Dice Score\n",
      "Class 0: 0.9890, Class 1: 0.7545, Class 2: 0.2496, Class 3: 0.4354, Class 4: 0.6967, Class 5: 0.4421, Class 6: 0.8754, \n",
      "Validation F-beta Score\n",
      "Class 0: 0.9853, Class 1: 0.8817, Class 2: 0.3556, Class 3: 0.5654, Class 4: 0.7784, Class 5: 0.5232, Class 6: 0.9574, \n",
      "\n",
      "Overall Mean Dice Score: 0.6408\n",
      "Overall Mean F-beta Score: 0.7412\n",
      "\n",
      "Training Loss: 0.4482, Validation Loss: 0.4301, Validation F-beta: 0.7412\n",
      "========================================================\n",
      "SUPER Best model saved. Loss:0.4301, Score:0.7412\n",
      "========================================================\n",
      "Epoch 85/4000\n"
     ]
    },
    {
     "name": "stderr",
     "output_type": "stream",
     "text": [
      "Training: 100%|██████████| 72/72 [01:16<00:00,  1.06s/it, loss=0.462]\n",
      "Validation: 100%|██████████| 12/12 [00:08<00:00,  1.34it/s, loss=0.436]\n"
     ]
    },
    {
     "name": "stdout",
     "output_type": "stream",
     "text": [
      "Validation Dice Score\n",
      "Class 0: 0.9907, Class 1: 0.7986, Class 2: 0.2286, Class 3: 0.3982, Class 4: 0.7451, Class 5: 0.4641, Class 6: 0.9074, \n",
      "Validation F-beta Score\n",
      "Class 0: 0.9899, Class 1: 0.8810, Class 2: 0.3266, Class 3: 0.5060, Class 4: 0.7268, Class 5: 0.4833, Class 6: 0.9584, \n",
      "\n",
      "Overall Mean Dice Score: 0.6627\n",
      "Overall Mean F-beta Score: 0.7111\n",
      "\n",
      "Training Loss: 0.4389, Validation Loss: 0.4170, Validation F-beta: 0.7111\n",
      "Epoch 86/4000\n"
     ]
    },
    {
     "name": "stderr",
     "output_type": "stream",
     "text": [
      "Training: 100%|██████████| 72/72 [01:15<00:00,  1.05s/it, loss=0.46] \n",
      "Validation: 100%|██████████| 12/12 [00:08<00:00,  1.41it/s, loss=0.467]\n"
     ]
    },
    {
     "name": "stdout",
     "output_type": "stream",
     "text": [
      "Validation Dice Score\n",
      "Class 0: 0.9896, Class 1: 0.7562, Class 2: 0.3184, Class 3: 0.4371, Class 4: 0.7255, Class 5: 0.4518, Class 6: 0.8573, \n",
      "Validation F-beta Score\n",
      "Class 0: 0.9857, Class 1: 0.9029, Class 2: 0.4252, Class 3: 0.5600, Class 4: 0.7815, Class 5: 0.5931, Class 6: 0.9599, \n",
      "\n",
      "Overall Mean Dice Score: 0.6456\n",
      "Overall Mean F-beta Score: 0.7595\n",
      "\n",
      "Training Loss: 0.4435, Validation Loss: 0.4260, Validation F-beta: 0.7595\n",
      "========================================================\n",
      "SUPER Best model saved. Loss:0.4260, Score:0.7595\n",
      "========================================================\n",
      "Epoch 87/4000\n"
     ]
    },
    {
     "name": "stderr",
     "output_type": "stream",
     "text": [
      "Training: 100%|██████████| 72/72 [01:15<00:00,  1.05s/it, loss=0.438]\n",
      "Validation: 100%|██████████| 12/12 [00:08<00:00,  1.38it/s, loss=0.451]\n"
     ]
    },
    {
     "name": "stdout",
     "output_type": "stream",
     "text": [
      "Validation Dice Score\n",
      "Class 0: 0.9905, Class 1: 0.7750, Class 2: 0.2274, Class 3: 0.3923, Class 4: 0.7336, Class 5: 0.4676, Class 6: 0.8941, \n",
      "Validation F-beta Score\n",
      "Class 0: 0.9887, Class 1: 0.9070, Class 2: 0.3465, Class 3: 0.5263, Class 4: 0.7077, Class 5: 0.5348, Class 6: 0.9525, \n",
      "\n",
      "Overall Mean Dice Score: 0.6525\n",
      "Overall Mean F-beta Score: 0.7256\n",
      "\n",
      "Training Loss: 0.4466, Validation Loss: 0.4203, Validation F-beta: 0.7256\n",
      "Epoch 88/4000\n"
     ]
    },
    {
     "name": "stderr",
     "output_type": "stream",
     "text": [
      "Training: 100%|██████████| 72/72 [01:16<00:00,  1.06s/it, loss=0.433]\n",
      "Validation: 100%|██████████| 12/12 [00:08<00:00,  1.36it/s, loss=0.42] \n"
     ]
    },
    {
     "name": "stdout",
     "output_type": "stream",
     "text": [
      "Validation Dice Score\n",
      "Class 0: 0.9904, Class 1: 0.7824, Class 2: 0.3151, Class 3: 0.4409, Class 4: 0.6906, Class 5: 0.4822, Class 6: 0.8967, \n",
      "Validation F-beta Score\n",
      "Class 0: 0.9877, Class 1: 0.8807, Class 2: 0.4015, Class 3: 0.6025, Class 4: 0.7602, Class 5: 0.5369, Class 6: 0.9549, \n",
      "\n",
      "Overall Mean Dice Score: 0.6586\n",
      "Overall Mean F-beta Score: 0.7470\n",
      "\n",
      "Training Loss: 0.4372, Validation Loss: 0.4148, Validation F-beta: 0.7470\n",
      "Epoch 89/4000\n"
     ]
    },
    {
     "name": "stderr",
     "output_type": "stream",
     "text": [
      "Training: 100%|██████████| 72/72 [01:16<00:00,  1.06s/it, loss=0.46] \n",
      "Validation: 100%|██████████| 12/12 [00:08<00:00,  1.36it/s, loss=0.459]\n"
     ]
    },
    {
     "name": "stdout",
     "output_type": "stream",
     "text": [
      "Validation Dice Score\n",
      "Class 0: 0.9905, Class 1: 0.7540, Class 2: 0.2373, Class 3: 0.3428, Class 4: 0.7204, Class 5: 0.4284, Class 6: 0.8797, \n",
      "Validation F-beta Score\n",
      "Class 0: 0.9889, Class 1: 0.9025, Class 2: 0.3317, Class 3: 0.4925, Class 4: 0.6864, Class 5: 0.4943, Class 6: 0.9562, \n",
      "\n",
      "Overall Mean Dice Score: 0.6250\n",
      "Overall Mean F-beta Score: 0.7064\n",
      "\n",
      "Training Loss: 0.4415, Validation Loss: 0.4400, Validation F-beta: 0.7064\n",
      "Epoch 90/4000\n"
     ]
    },
    {
     "name": "stderr",
     "output_type": "stream",
     "text": [
      "Training: 100%|██████████| 72/72 [01:17<00:00,  1.08s/it, loss=0.465]\n",
      "Validation: 100%|██████████| 12/12 [00:08<00:00,  1.36it/s, loss=0.455]\n"
     ]
    },
    {
     "name": "stdout",
     "output_type": "stream",
     "text": [
      "Validation Dice Score\n",
      "Class 0: 0.9899, Class 1: 0.7814, Class 2: 0.2196, Class 3: 0.3966, Class 4: 0.7348, Class 5: 0.4772, Class 6: 0.8900, \n",
      "Validation F-beta Score\n",
      "Class 0: 0.9869, Class 1: 0.9067, Class 2: 0.3588, Class 3: 0.5026, Class 4: 0.7900, Class 5: 0.5392, Class 6: 0.9625, \n",
      "\n",
      "Overall Mean Dice Score: 0.6560\n",
      "Overall Mean F-beta Score: 0.7402\n",
      "\n",
      "Training Loss: 0.4387, Validation Loss: 0.4214, Validation F-beta: 0.7402\n",
      "Epoch 91/4000\n"
     ]
    },
    {
     "name": "stderr",
     "output_type": "stream",
     "text": [
      "Training: 100%|██████████| 72/72 [01:16<00:00,  1.06s/it, loss=0.463]\n",
      "Validation: 100%|██████████| 12/12 [00:08<00:00,  1.36it/s, loss=0.431]\n"
     ]
    },
    {
     "name": "stdout",
     "output_type": "stream",
     "text": [
      "Validation Dice Score\n",
      "Class 0: 0.9906, Class 1: 0.7463, Class 2: 0.2572, Class 3: 0.4157, Class 4: 0.7431, Class 5: 0.4719, Class 6: 0.8980, \n",
      "Validation F-beta Score\n",
      "Class 0: 0.9884, Class 1: 0.8838, Class 2: 0.4005, Class 3: 0.5536, Class 4: 0.7662, Class 5: 0.5285, Class 6: 0.9447, \n",
      "\n",
      "Overall Mean Dice Score: 0.6550\n",
      "Overall Mean F-beta Score: 0.7354\n",
      "\n",
      "Training Loss: 0.4386, Validation Loss: 0.4273, Validation F-beta: 0.7354\n",
      "Epoch 92/4000\n"
     ]
    },
    {
     "name": "stderr",
     "output_type": "stream",
     "text": [
      "Training: 100%|██████████| 72/72 [01:15<00:00,  1.05s/it, loss=0.436]\n",
      "Validation: 100%|██████████| 12/12 [00:08<00:00,  1.35it/s, loss=0.427]\n"
     ]
    },
    {
     "name": "stdout",
     "output_type": "stream",
     "text": [
      "Validation Dice Score\n",
      "Class 0: 0.9908, Class 1: 0.8047, Class 2: 0.3092, Class 3: 0.4125, Class 4: 0.7413, Class 5: 0.4959, Class 6: 0.9056, \n",
      "Validation F-beta Score\n",
      "Class 0: 0.9885, Class 1: 0.8866, Class 2: 0.4568, Class 3: 0.5449, Class 4: 0.7536, Class 5: 0.5635, Class 6: 0.9453, \n",
      "\n",
      "Overall Mean Dice Score: 0.6720\n",
      "Overall Mean F-beta Score: 0.7388\n",
      "\n",
      "Training Loss: 0.4378, Validation Loss: 0.4075, Validation F-beta: 0.7388\n",
      "Epoch 93/4000\n"
     ]
    },
    {
     "name": "stderr",
     "output_type": "stream",
     "text": [
      "Training: 100%|██████████| 72/72 [01:15<00:00,  1.05s/it, loss=0.432]\n",
      "Validation: 100%|██████████| 12/12 [00:08<00:00,  1.35it/s, loss=0.411]\n"
     ]
    },
    {
     "name": "stdout",
     "output_type": "stream",
     "text": [
      "Validation Dice Score\n",
      "Class 0: 0.9905, Class 1: 0.7676, Class 2: 0.2173, Class 3: 0.3946, Class 4: 0.7556, Class 5: 0.4922, Class 6: 0.8811, \n",
      "Validation F-beta Score\n",
      "Class 0: 0.9883, Class 1: 0.9062, Class 2: 0.2949, Class 3: 0.5562, Class 4: 0.7933, Class 5: 0.5361, Class 6: 0.9623, \n",
      "\n",
      "Overall Mean Dice Score: 0.6582\n",
      "Overall Mean F-beta Score: 0.7508\n",
      "\n",
      "Training Loss: 0.4367, Validation Loss: 0.4296, Validation F-beta: 0.7508\n",
      "Epoch 94/4000\n"
     ]
    },
    {
     "name": "stderr",
     "output_type": "stream",
     "text": [
      "Training: 100%|██████████| 72/72 [01:15<00:00,  1.05s/it, loss=0.436]\n",
      "Validation: 100%|██████████| 12/12 [00:08<00:00,  1.35it/s, loss=0.441]\n"
     ]
    },
    {
     "name": "stdout",
     "output_type": "stream",
     "text": [
      "Validation Dice Score\n",
      "Class 0: 0.9904, Class 1: 0.7924, Class 2: 0.2324, Class 3: 0.3949, Class 4: 0.7292, Class 5: 0.4723, Class 6: 0.8980, \n",
      "Validation F-beta Score\n",
      "Class 0: 0.9875, Class 1: 0.8976, Class 2: 0.3167, Class 3: 0.5531, Class 4: 0.7680, Class 5: 0.5734, Class 6: 0.9578, \n",
      "\n",
      "Overall Mean Dice Score: 0.6574\n",
      "Overall Mean F-beta Score: 0.7500\n",
      "\n",
      "Training Loss: 0.4375, Validation Loss: 0.4193, Validation F-beta: 0.7500\n",
      "Epoch 95/4000\n"
     ]
    },
    {
     "name": "stderr",
     "output_type": "stream",
     "text": [
      "Training: 100%|██████████| 72/72 [01:16<00:00,  1.06s/it, loss=0.441]\n",
      "Validation: 100%|██████████| 12/12 [00:10<00:00,  1.14it/s, loss=0.467]\n"
     ]
    },
    {
     "name": "stdout",
     "output_type": "stream",
     "text": [
      "Validation Dice Score\n",
      "Class 0: 0.9904, Class 1: 0.7672, Class 2: 0.1924, Class 3: 0.3969, Class 4: 0.7222, Class 5: 0.4905, Class 6: 0.8946, \n",
      "Validation F-beta Score\n",
      "Class 0: 0.9873, Class 1: 0.8971, Class 2: 0.2985, Class 3: 0.4848, Class 4: 0.7505, Class 5: 0.6207, Class 6: 0.9550, \n",
      "\n",
      "Overall Mean Dice Score: 0.6543\n",
      "Overall Mean F-beta Score: 0.7416\n",
      "\n",
      "Training Loss: 0.4378, Validation Loss: 0.4234, Validation F-beta: 0.7416\n",
      "Epoch 96/4000\n"
     ]
    },
    {
     "name": "stderr",
     "output_type": "stream",
     "text": [
      "Training: 100%|██████████| 72/72 [01:15<00:00,  1.05s/it, loss=0.446]\n",
      "Validation: 100%|██████████| 12/12 [00:08<00:00,  1.37it/s, loss=0.444]\n"
     ]
    },
    {
     "name": "stdout",
     "output_type": "stream",
     "text": [
      "Validation Dice Score\n",
      "Class 0: 0.9910, Class 1: 0.7727, Class 2: 0.2239, Class 3: 0.4175, Class 4: 0.7300, Class 5: 0.4963, Class 6: 0.8994, \n",
      "Validation F-beta Score\n",
      "Class 0: 0.9895, Class 1: 0.8711, Class 2: 0.2801, Class 3: 0.5355, Class 4: 0.7313, Class 5: 0.5408, Class 6: 0.9652, \n",
      "\n",
      "Overall Mean Dice Score: 0.6632\n",
      "Overall Mean F-beta Score: 0.7288\n",
      "\n",
      "Training Loss: 0.4412, Validation Loss: 0.4155, Validation F-beta: 0.7288\n",
      "Epoch 97/4000\n"
     ]
    },
    {
     "name": "stderr",
     "output_type": "stream",
     "text": [
      "Training: 100%|██████████| 72/72 [01:16<00:00,  1.06s/it, loss=0.464]\n",
      "Validation: 100%|██████████| 12/12 [00:08<00:00,  1.35it/s, loss=0.464]\n"
     ]
    },
    {
     "name": "stdout",
     "output_type": "stream",
     "text": [
      "Validation Dice Score\n",
      "Class 0: 0.9904, Class 1: 0.7945, Class 2: 0.2244, Class 3: 0.4071, Class 4: 0.7358, Class 5: 0.4512, Class 6: 0.8964, \n",
      "Validation F-beta Score\n",
      "Class 0: 0.9880, Class 1: 0.8893, Class 2: 0.3192, Class 3: 0.5552, Class 4: 0.7270, Class 5: 0.5535, Class 6: 0.9479, \n",
      "\n",
      "Overall Mean Dice Score: 0.6570\n",
      "Overall Mean F-beta Score: 0.7346\n",
      "\n",
      "Training Loss: 0.4408, Validation Loss: 0.4246, Validation F-beta: 0.7346\n",
      "Epoch 98/4000\n"
     ]
    },
    {
     "name": "stderr",
     "output_type": "stream",
     "text": [
      "Training: 100%|██████████| 72/72 [01:16<00:00,  1.06s/it, loss=0.447]\n",
      "Validation: 100%|██████████| 12/12 [00:08<00:00,  1.36it/s, loss=0.467]\n"
     ]
    },
    {
     "name": "stdout",
     "output_type": "stream",
     "text": [
      "Validation Dice Score\n",
      "Class 0: 0.9908, Class 1: 0.7751, Class 2: 0.2170, Class 3: 0.4084, Class 4: 0.7311, Class 5: 0.4888, Class 6: 0.8854, \n",
      "Validation F-beta Score\n",
      "Class 0: 0.9891, Class 1: 0.8948, Class 2: 0.3584, Class 3: 0.5177, Class 4: 0.7163, Class 5: 0.5597, Class 6: 0.9588, \n",
      "\n",
      "Overall Mean Dice Score: 0.6578\n",
      "Overall Mean F-beta Score: 0.7295\n",
      "\n",
      "Training Loss: 0.4389, Validation Loss: 0.4169, Validation F-beta: 0.7295\n",
      "Epoch 99/4000\n"
     ]
    },
    {
     "name": "stderr",
     "output_type": "stream",
     "text": [
      "Training: 100%|██████████| 72/72 [01:18<00:00,  1.10s/it, loss=0.388]\n",
      "Validation: 100%|██████████| 12/12 [00:08<00:00,  1.38it/s, loss=0.438]\n"
     ]
    },
    {
     "name": "stdout",
     "output_type": "stream",
     "text": [
      "Validation Dice Score\n",
      "Class 0: 0.9909, Class 1: 0.7839, Class 2: 0.2652, Class 3: 0.4541, Class 4: 0.7308, Class 5: 0.5014, Class 6: 0.8986, \n",
      "Validation F-beta Score\n",
      "Class 0: 0.9885, Class 1: 0.9137, Class 2: 0.3229, Class 3: 0.5568, Class 4: 0.7721, Class 5: 0.5797, Class 6: 0.9537, \n",
      "\n",
      "Overall Mean Dice Score: 0.6737\n",
      "Overall Mean F-beta Score: 0.7552\n",
      "\n",
      "Training Loss: 0.4364, Validation Loss: 0.4121, Validation F-beta: 0.7552\n",
      "Epoch 100/4000\n"
     ]
    },
    {
     "name": "stderr",
     "output_type": "stream",
     "text": [
      "Training: 100%|██████████| 72/72 [01:16<00:00,  1.07s/it, loss=0.444]\n",
      "Validation: 100%|██████████| 12/12 [00:08<00:00,  1.38it/s, loss=0.433]\n"
     ]
    },
    {
     "name": "stdout",
     "output_type": "stream",
     "text": [
      "Validation Dice Score\n",
      "Class 0: 0.9889, Class 1: 0.7941, Class 2: 0.2619, Class 3: 0.4047, Class 4: 0.6895, Class 5: 0.4662, Class 6: 0.8891, \n",
      "Validation F-beta Score\n",
      "Class 0: 0.9849, Class 1: 0.9119, Class 2: 0.4267, Class 3: 0.4984, Class 4: 0.7694, Class 5: 0.5722, Class 6: 0.9632, \n",
      "\n",
      "Overall Mean Dice Score: 0.6487\n",
      "Overall Mean F-beta Score: 0.7430\n",
      "\n",
      "Training Loss: 0.4376, Validation Loss: 0.4221, Validation F-beta: 0.7430\n",
      "Epoch 101/4000\n"
     ]
    },
    {
     "name": "stderr",
     "output_type": "stream",
     "text": [
      "Training:  75%|███████▌  | 54/72 [01:00<00:20,  1.14s/it, loss=0.441]"
     ]
    }
   ],
   "source": [
    "train_model(\n",
    "    model=model,\n",
    "    train_loader=train_loader,\n",
    "    val_loader=val_loader,\n",
    "    criterion=criterion,\n",
    "    optimizer=optimizer,\n",
    "    num_epochs=num_epochs,\n",
    "    patience=5,\n",
    "    device=device,\n",
    "    start_epoch=start_epoch,\n",
    "    best_val_loss=best_val_loss,\n",
    "    best_val_fbeta_score=best_val_fbeta_score,\n",
    "    calculate_dice_interval=1,\n",
    "    accumulation_steps = accumulation_steps\n",
    "     ) "
   ]
  },
  {
   "cell_type": "code",
   "execution_count": null,
   "metadata": {},
   "outputs": [
    {
     "ename": "SyntaxError",
     "evalue": "invalid syntax (879943805.py, line 1)",
     "output_type": "error",
     "traceback": [
      "\u001b[1;36m  Cell \u001b[1;32mIn[12], line 1\u001b[1;36m\u001b[0m\n\u001b[1;33m    if:\u001b[0m\n\u001b[1;37m      ^\u001b[0m\n\u001b[1;31mSyntaxError\u001b[0m\u001b[1;31m:\u001b[0m invalid syntax\n"
     ]
    }
   ],
   "source": [
    "if:"
   ]
  },
  {
   "cell_type": "markdown",
   "metadata": {},
   "source": [
    "# VAl"
   ]
  },
  {
   "cell_type": "code",
   "execution_count": null,
   "metadata": {},
   "outputs": [
    {
     "data": {
      "text/html": [
       "Finishing last run (ID:fs6utwyo) before initializing another..."
      ],
      "text/plain": [
       "<IPython.core.display.HTML object>"
      ]
     },
     "metadata": {},
     "output_type": "display_data"
    },
    {
     "data": {
      "application/vnd.jupyter.widget-view+json": {
       "model_id": "29cc3ae761af43baae5aca60b5d2e7f4",
       "version_major": 2,
       "version_minor": 0
      },
      "text/plain": [
       "VBox(children=(Label(value='0.009 MB of 0.009 MB uploaded\\r'), FloatProgress(value=1.0, max=1.0)))"
      ]
     },
     "metadata": {},
     "output_type": "display_data"
    },
    {
     "data": {
      "text/html": [
       "<style>\n",
       "    table.wandb td:nth-child(1) { padding: 0 10px; text-align: left ; width: auto;} td:nth-child(2) {text-align: left ; width: 100%}\n",
       "    .wandb-row { display: flex; flex-direction: row; flex-wrap: wrap; justify-content: flex-start; width: 100% }\n",
       "    .wandb-col { display: flex; flex-direction: column; flex-basis: 100%; flex: 1; padding: 10px; }\n",
       "    </style>\n",
       "<div class=\"wandb-row\"><div class=\"wandb-col\"><h3>Run history:</h3><br/><table class=\"wandb\"><tr><td>class_0_dice_score</td><td>▁</td></tr><tr><td>class_0_f_beta_score</td><td>▁</td></tr><tr><td>class_1_dice_score</td><td>▁</td></tr><tr><td>class_1_f_beta_score</td><td>▁</td></tr><tr><td>class_2_dice_score</td><td>▁</td></tr><tr><td>class_2_f_beta_score</td><td>▁</td></tr><tr><td>class_3_dice_score</td><td>▁</td></tr><tr><td>class_3_f_beta_score</td><td>▁</td></tr><tr><td>class_4_dice_score</td><td>▁</td></tr><tr><td>class_4_f_beta_score</td><td>▁</td></tr><tr><td>class_5_dice_score</td><td>▁</td></tr><tr><td>class_5_f_beta_score</td><td>▁</td></tr><tr><td>class_6_dice_score</td><td>▁</td></tr><tr><td>class_6_f_beta_score</td><td>▁</td></tr><tr><td>epoch</td><td>▁▁▁▁▁▁▁▁▁▁▁▁▁▁▁▁</td></tr><tr><td>overall_mean_dice_score</td><td>▁</td></tr><tr><td>overall_mean_f_beta_score</td><td>▁</td></tr><tr><td>val_epoch_loss</td><td>▁</td></tr></table><br/></div><div class=\"wandb-col\"><h3>Run summary:</h3><br/><table class=\"wandb\"><tr><td>class_0_dice_score</td><td>0.65703</td></tr><tr><td>class_0_f_beta_score</td><td>0.50748</td></tr><tr><td>class_1_dice_score</td><td>0.53332</td></tr><tr><td>class_1_f_beta_score</td><td>0.64703</td></tr><tr><td>class_2_dice_score</td><td>0.00286</td></tr><tr><td>class_2_f_beta_score</td><td>0.02334</td></tr><tr><td>class_3_dice_score</td><td>0.23703</td></tr><tr><td>class_3_f_beta_score</td><td>0.23033</td></tr><tr><td>class_4_dice_score</td><td>0.65487</td></tr><tr><td>class_4_f_beta_score</td><td>0.62525</td></tr><tr><td>class_5_dice_score</td><td>0.47899</td></tr><tr><td>class_5_f_beta_score</td><td>0.51448</td></tr><tr><td>class_6_dice_score</td><td>0.42545</td></tr><tr><td>class_6_f_beta_score</td><td>0.47197</td></tr><tr><td>epoch</td><td>1</td></tr><tr><td>overall_mean_dice_score</td><td>0.42708</td></tr><tr><td>overall_mean_f_beta_score</td><td>0.43141</td></tr><tr><td>val_epoch_loss</td><td>0.7152</td></tr></table><br/></div></div>"
      ],
      "text/plain": [
       "<IPython.core.display.HTML object>"
      ]
     },
     "metadata": {},
     "output_type": "display_data"
    },
    {
     "data": {
      "text/html": [
       " View run <strong style=\"color:#cdcd00\">SwinUNETR96_96_lr0.001_lambda0.52_batch2</strong> at: <a href='https://wandb.ai/waooang/czii_SwinUnetR_val/runs/fs6utwyo' target=\"_blank\">https://wandb.ai/waooang/czii_SwinUnetR_val/runs/fs6utwyo</a><br/> View project at: <a href='https://wandb.ai/waooang/czii_SwinUnetR_val' target=\"_blank\">https://wandb.ai/waooang/czii_SwinUnetR_val</a><br/>Synced 4 W&B file(s), 0 media file(s), 3 artifact file(s) and 0 other file(s)"
      ],
      "text/plain": [
       "<IPython.core.display.HTML object>"
      ]
     },
     "metadata": {},
     "output_type": "display_data"
    },
    {
     "data": {
      "text/html": [
       "Find logs at: <code>.\\wandb\\run-20241219_200219-fs6utwyo\\logs</code>"
      ],
      "text/plain": [
       "<IPython.core.display.HTML object>"
      ]
     },
     "metadata": {},
     "output_type": "display_data"
    },
    {
     "data": {
      "text/html": [
       "Successfully finished last run (ID:fs6utwyo). Initializing new run:<br/>"
      ],
      "text/plain": [
       "<IPython.core.display.HTML object>"
      ]
     },
     "metadata": {},
     "output_type": "display_data"
    },
    {
     "data": {
      "text/html": [
       "Tracking run with wandb version 0.18.3"
      ],
      "text/plain": [
       "<IPython.core.display.HTML object>"
      ]
     },
     "metadata": {},
     "output_type": "display_data"
    },
    {
     "data": {
      "text/html": [
       "Run data is saved locally in <code>e:\\Workspace\\czll\\wandb\\run-20241219_200454-121l7bn3</code>"
      ],
      "text/plain": [
       "<IPython.core.display.HTML object>"
      ]
     },
     "metadata": {},
     "output_type": "display_data"
    },
    {
     "data": {
      "text/html": [
       "Syncing run <strong><a href='https://wandb.ai/waooang/czii_SwinUnetR_val/runs/121l7bn3' target=\"_blank\">SwinUNETR96_96_lr0.001_lambda0.52_batch2</a></strong> to <a href='https://wandb.ai/waooang/czii_SwinUnetR_val' target=\"_blank\">Weights & Biases</a> (<a href='https://wandb.me/run' target=\"_blank\">docs</a>)<br/>"
      ],
      "text/plain": [
       "<IPython.core.display.HTML object>"
      ]
     },
     "metadata": {},
     "output_type": "display_data"
    },
    {
     "data": {
      "text/html": [
       " View project at <a href='https://wandb.ai/waooang/czii_SwinUnetR_val' target=\"_blank\">https://wandb.ai/waooang/czii_SwinUnetR_val</a>"
      ],
      "text/plain": [
       "<IPython.core.display.HTML object>"
      ]
     },
     "metadata": {},
     "output_type": "display_data"
    },
    {
     "data": {
      "text/html": [
       " View run at <a href='https://wandb.ai/waooang/czii_SwinUnetR_val/runs/121l7bn3' target=\"_blank\">https://wandb.ai/waooang/czii_SwinUnetR_val/runs/121l7bn3</a>"
      ],
      "text/plain": [
       "<IPython.core.display.HTML object>"
      ]
     },
     "metadata": {},
     "output_type": "display_data"
    },
    {
     "name": "stderr",
     "output_type": "stream",
     "text": [
      "Loading dataset: 100%|██████████| 4/4 [00:06<00:00,  1.58s/it]\n",
      "C:\\Users\\Seungwoo\\AppData\\Local\\Temp\\ipykernel_21000\\1177025787.py:95: FutureWarning: You are using `torch.load` with `weights_only=False` (the current default value), which uses the default pickle module implicitly. It is possible to construct malicious pickle data which will execute arbitrary code during unpickling (See https://github.com/pytorch/pytorch/blob/main/SECURITY.md#untrusted-models for more details). In a future release, the default value for `weights_only` will be flipped to `True`. This limits the functions that could be executed during unpickling. Arbitrary objects will no longer be allowed to be loaded via this mode unless they are explicitly allowlisted by the user via `torch.serialization.add_safe_globals`. We recommend you start setting `weights_only=True` for any use case where you don't have full control of the loaded file. Please open an issue on GitHub for any issues related to this experimental feature.\n",
      "  checkpoint = torch.load(pretrain_path, map_location=device)\n",
      "Validation: 100%|██████████| 4/4 [00:01<00:00,  2.38it/s, loss=0.865]"
     ]
    },
    {
     "name": "stdout",
     "output_type": "stream",
     "text": [
      "Validation Dice Score\n",
      "Class 0: 0.6570, Class 1: 0.5333, Class 2: 0.0029, Class 3: 0.2370, \n",
      "Class 4: 0.6549, Class 5: 0.4790, Class 6: 0.4255, \n",
      "Validation F-beta Score\n",
      "Class 0: 0.5075, Class 1: 0.6470, Class 2: 0.0233, Class 3: 0.2303, \n",
      "Class 4: 0.6252, Class 5: 0.5145, Class 6: 0.4720, \n",
      "Overall Mean Dice Score: 0.4659\n",
      "Overall Mean F-beta Score: 0.4978\n",
      "\n"
     ]
    },
    {
     "name": "stderr",
     "output_type": "stream",
     "text": [
      "\n"
     ]
    }
   ],
   "source": [
    "from monai.data import DataLoader, Dataset, CacheDataset\n",
    "from monai.transforms import (\n",
    "    Compose, LoadImaged, EnsureChannelFirstd, NormalizeIntensityd,\n",
    "    Orientationd, CropForegroundd, GaussianSmoothd, ScaleIntensityd,\n",
    "    RandSpatialCropd, RandRotate90d, RandFlipd, RandGaussianNoised,\n",
    "    ToTensord, RandCropByLabelClassesd\n",
    ")\n",
    "from monai.metrics import DiceMetric\n",
    "from monai.networks.nets import UNETR, SwinUNETR\n",
    "from monai.losses import TverskyLoss\n",
    "import torch\n",
    "import numpy as np\n",
    "from tqdm import tqdm\n",
    "import wandb\n",
    "from src.dataset.dataset import make_val_dataloader\n",
    "\n",
    "val_img_dir = \"./datasets/val/images\"\n",
    "val_label_dir = \"./datasets/val/labels\"\n",
    "img_depth = 96\n",
    "img_size = 96  # Match your patch size\n",
    "n_classes = 7\n",
    "batch_size = 2 # 13.8GB GPU memory required for 128x128 img size\n",
    "num_samples = batch_size # 한 이미지에서 뽑을 샘플 수\n",
    "loader_batch = 1\n",
    "lamda = 0.52\n",
    "\n",
    "wandb.init(\n",
    "    project='czii_SwinUnetR_val',  # 프로젝트 이름 설정\n",
    "    name='SwinUNETR96_96_lr0.001_lambda0.52_batch2',         # 실행(run) 이름 설정\n",
    "    config={\n",
    "        'learning_rate': 0.001,\n",
    "        'batch_size': batch_size,\n",
    "        'lambda': lamda,\n",
    "        'img_size': img_size,\n",
    "        'device': 'cuda',\n",
    "        \"checkpoint_dir\": \"./model_checkpoints/SwinUNETR96_96_lr0.001_lambda0.52_batch2\",\n",
    "        \n",
    "    }\n",
    ")\n",
    "\n",
    "non_random_transforms = Compose([\n",
    "    EnsureChannelFirstd(keys=[\"image\", \"label\"], channel_dim=\"no_channel\"),\n",
    "    NormalizeIntensityd(keys=\"image\"),\n",
    "    Orientationd(keys=[\"image\", \"label\"], axcodes=\"RAS\"),\n",
    "    GaussianSmoothd(\n",
    "        keys=[\"image\"],      # 변환을 적용할 키\n",
    "        sigma=[1.0, 1.0, 1.0]  # 각 축(x, y, z)의 시그마 값\n",
    "        ),\n",
    "])\n",
    "random_transforms = Compose([\n",
    "    RandCropByLabelClassesd(\n",
    "        keys=[\"image\", \"label\"],\n",
    "        label_key=\"label\",\n",
    "        spatial_size=[img_depth, img_size, img_size],\n",
    "        num_classes=n_classes,\n",
    "        num_samples=num_samples, \n",
    "        ratios=ratios_list,\n",
    "    ),\n",
    "    RandRotate90d(keys=[\"image\", \"label\"], prob=0.5, spatial_axes=[1, 2]),\n",
    "    RandFlipd(keys=[\"image\", \"label\"], prob=0.5, spatial_axis=0),\n",
    "])\n",
    "\n",
    "val_loader = make_val_dataloader(\n",
    "    val_img_dir, \n",
    "    val_label_dir, \n",
    "    non_random_transforms = non_random_transforms, \n",
    "    random_transforms = random_transforms, \n",
    "    batch_size = loader_batch,\n",
    "    num_workers=0\n",
    ")\n",
    "criterion = TverskyLoss(\n",
    "    alpha= 1 - lamda,  # FP에 대한 가중치\n",
    "    beta=lamda,       # FN에 대한 가중치\n",
    "    include_background=False,  # 배경 클래스 제외\n",
    "    softmax=True\n",
    ")\n",
    "    \n",
    "    \n",
    "from monai.metrics import DiceMetric\n",
    "\n",
    "img_size = 96\n",
    "img_depth = img_size\n",
    "n_classes = 7 \n",
    "\n",
    "device = torch.device(\"cuda\" if torch.cuda.is_available() else \"cpu\")\n",
    "pretrain_path = \"./model_checkpoints/SwinUNETR96_96_lr0.001_lambda0.52_batch2/best_model.pt\"\n",
    "model = SwinUNETR(\n",
    "    img_size=(img_depth, img_size, img_size),\n",
    "    in_channels=1,\n",
    "    out_channels=n_classes,\n",
    "    feature_size=48,\n",
    "    use_checkpoint=True,\n",
    ").to(device)\n",
    "# Pretrained weights 불러오기\n",
    "checkpoint = torch.load(pretrain_path, map_location=device)\n",
    "model.load_state_dict(checkpoint['model_state_dict'])\n",
    "\n",
    "val_loss, overall_mean_fbeta_score = validate_one_epoch(\n",
    "    model=model, \n",
    "    val_loader=val_loader, \n",
    "    criterion=criterion, \n",
    "    device=device, \n",
    "    epoch=0, \n",
    "    calculate_dice_interval=1\n",
    ")"
   ]
  },
  {
   "cell_type": "markdown",
   "metadata": {},
   "source": [
    "# Inference"
   ]
  },
  {
   "cell_type": "code",
   "execution_count": null,
   "metadata": {},
   "outputs": [],
   "source": [
    "from src.dataset.preprocessing import Preprocessor"
   ]
  },
  {
   "cell_type": "code",
   "execution_count": null,
   "metadata": {},
   "outputs": [
    {
     "name": "stdout",
     "output_type": "stream",
     "text": [
      "Done.\n"
     ]
    }
   ],
   "source": [
    "from monai.inferers import sliding_window_inference\n",
    "from monai.transforms import Compose, EnsureChannelFirstd, NormalizeIntensityd, Orientationd, GaussianSmoothd\n",
    "from monai.data import DataLoader, Dataset, CacheDataset\n",
    "from monai.networks.nets import SwinUNETR\n",
    "from pathlib import Path\n",
    "import numpy as np\n",
    "import copick\n",
    "\n",
    "import torch\n",
    "print(\"Done.\")"
   ]
  },
  {
   "cell_type": "code",
   "execution_count": null,
   "metadata": {},
   "outputs": [
    {
     "name": "stdout",
     "output_type": "stream",
     "text": [
      "Config file written to ./kaggle/working/copick.config\n",
      "file length: 7\n"
     ]
    }
   ],
   "source": [
    "config_blob = \"\"\"{\n",
    "    \"name\": \"czii_cryoet_mlchallenge_2024\",\n",
    "    \"description\": \"2024 CZII CryoET ML Challenge training data.\",\n",
    "    \"version\": \"1.0.0\",\n",
    "\n",
    "    \"pickable_objects\": [\n",
    "        {\n",
    "            \"name\": \"apo-ferritin\",\n",
    "            \"is_particle\": true,\n",
    "            \"pdb_id\": \"4V1W\",\n",
    "            \"label\": 1,\n",
    "            \"color\": [  0, 117, 220, 128],\n",
    "            \"radius\": 60,\n",
    "            \"map_threshold\": 0.0418\n",
    "        },\n",
    "        {\n",
    "          \"name\" : \"beta-amylase\",\n",
    "            \"is_particle\": true,\n",
    "            \"pdb_id\": \"8ZRZ\",\n",
    "            \"label\": 2,\n",
    "            \"color\": [255, 255, 255, 128],\n",
    "            \"radius\": 90,\n",
    "            \"map_threshold\": 0.0578  \n",
    "        },\n",
    "        {\n",
    "            \"name\": \"beta-galactosidase\",\n",
    "            \"is_particle\": true,\n",
    "            \"pdb_id\": \"6X1Q\",\n",
    "            \"label\": 3,\n",
    "            \"color\": [ 76,   0,  92, 128],\n",
    "            \"radius\": 90,\n",
    "            \"map_threshold\": 0.0578\n",
    "        },\n",
    "        {\n",
    "            \"name\": \"ribosome\",\n",
    "            \"is_particle\": true,\n",
    "            \"pdb_id\": \"6EK0\",\n",
    "            \"label\": 4,\n",
    "            \"color\": [  0,  92,  49, 128],\n",
    "            \"radius\": 150,\n",
    "            \"map_threshold\": 0.0374\n",
    "        },\n",
    "        {\n",
    "            \"name\": \"thyroglobulin\",\n",
    "            \"is_particle\": true,\n",
    "            \"pdb_id\": \"6SCJ\",\n",
    "            \"label\": 5,\n",
    "            \"color\": [ 43, 206,  72, 128],\n",
    "            \"radius\": 130,\n",
    "            \"map_threshold\": 0.0278\n",
    "        },\n",
    "        {\n",
    "            \"name\": \"virus-like-particle\",\n",
    "            \"is_particle\": true,\n",
    "            \"label\": 6,\n",
    "            \"color\": [255, 204, 153, 128],\n",
    "            \"radius\": 135,\n",
    "            \"map_threshold\": 0.201\n",
    "        },\n",
    "        {\n",
    "            \"name\": \"membrane\",\n",
    "            \"is_particle\": false,\n",
    "            \"label\": 8,\n",
    "            \"color\": [100, 100, 100, 128]\n",
    "        },\n",
    "        {\n",
    "            \"name\": \"background\",\n",
    "            \"is_particle\": false,\n",
    "            \"label\": 9,\n",
    "            \"color\": [10, 150, 200, 128]\n",
    "        }\n",
    "    ],\n",
    "\n",
    "    \"overlay_root\": \"./kaggle/working/overlay\",\n",
    "\n",
    "    \"overlay_fs_args\": {\n",
    "        \"auto_mkdir\": true\n",
    "    },\n",
    "\n",
    "    \"static_root\": \"./kaggle/input/czii-cryo-et-object-identification/test/static\"\n",
    "}\"\"\"\n",
    "\n",
    "copick_config_path = \"./kaggle/working/copick.config\"\n",
    "preprocessor = Preprocessor(config_blob,copick_config_path=copick_config_path)\n",
    "non_random_transforms = Compose([\n",
    "    EnsureChannelFirstd(keys=[\"image\"], channel_dim=\"no_channel\"),\n",
    "    NormalizeIntensityd(keys=\"image\"),\n",
    "    Orientationd(keys=[\"image\"], axcodes=\"RAS\"),\n",
    "    GaussianSmoothd(\n",
    "        keys=[\"image\"],      # 변환을 적용할 키\n",
    "        sigma=[1.0, 1.0, 1.0]  # 각 축(x, y, z)의 시그마 값\n",
    "        ),\n",
    "    ])"
   ]
  },
  {
   "cell_type": "code",
   "execution_count": null,
   "metadata": {},
   "outputs": [
    {
     "name": "stderr",
     "output_type": "stream",
     "text": [
      "c:\\ProgramData\\anaconda3\\envs\\ship\\Lib\\site-packages\\monai\\utils\\deprecate_utils.py:221: FutureWarning: monai.networks.nets.swin_unetr SwinUNETR.__init__:img_size: Argument `img_size` has been deprecated since version 1.3. It will be removed in version 1.5. The img_size argument is not required anymore and checks on the input size are run during forward().\n",
      "  warn_deprecated(argname, msg, warning_category)\n",
      "C:\\Users\\Seungwoo\\AppData\\Local\\Temp\\ipykernel_6248\\2937359115.py:15: FutureWarning: You are using `torch.load` with `weights_only=False` (the current default value), which uses the default pickle module implicitly. It is possible to construct malicious pickle data which will execute arbitrary code during unpickling (See https://github.com/pytorch/pytorch/blob/main/SECURITY.md#untrusted-models for more details). In a future release, the default value for `weights_only` will be flipped to `True`. This limits the functions that could be executed during unpickling. Arbitrary objects will no longer be allowed to be loaded via this mode unless they are explicitly allowlisted by the user via `torch.serialization.add_safe_globals`. We recommend you start setting `weights_only=True` for any use case where you don't have full control of the loaded file. Please open an issue on GitHub for any issues related to this experimental feature.\n",
      "  checkpoint = torch.load(pretrain_path, map_location=device)\n"
     ]
    },
    {
     "data": {
      "text/plain": [
       "<All keys matched successfully>"
      ]
     },
     "execution_count": 15,
     "metadata": {},
     "output_type": "execute_result"
    }
   ],
   "source": [
    "img_size = 96\n",
    "img_depth = img_size\n",
    "n_classes = 7 \n",
    "\n",
    "device = torch.device(\"cuda\" if torch.cuda.is_available() else \"cpu\")\n",
    "pretrain_path = \"./model_checkpoints/SwinUNETR96_96_lr0.001_lambda0.52_batch2/best_model.pt\"\n",
    "model = SwinUNETR(\n",
    "    img_size=(img_depth, img_size, img_size),\n",
    "    in_channels=1,\n",
    "    out_channels=n_classes,\n",
    "    feature_size=48,\n",
    "    use_checkpoint=True,\n",
    ").to(device)\n",
    "# Pretrained weights 불러오기\n",
    "checkpoint = torch.load(pretrain_path, map_location=device)\n",
    "model.load_state_dict(checkpoint['model_state_dict'])\n"
   ]
  },
  {
   "cell_type": "code",
   "execution_count": null,
   "metadata": {},
   "outputs": [
    {
     "name": "stderr",
     "output_type": "stream",
     "text": [
      "Validation:   0%|          | 0/4 [00:03<?, ?it/s, loss=0.764]\n"
     ]
    },
    {
     "ename": "ZeroDivisionError",
     "evalue": "integer modulo by zero",
     "output_type": "error",
     "traceback": [
      "\u001b[1;31m---------------------------------------------------------------------------\u001b[0m",
      "\u001b[1;31mZeroDivisionError\u001b[0m                         Traceback (most recent call last)",
      "Cell \u001b[1;32mIn[16], line 1\u001b[0m\n\u001b[1;32m----> 1\u001b[0m val_loss \u001b[38;5;241m=\u001b[39m \u001b[43mvalidate_one_epoch\u001b[49m\u001b[43m(\u001b[49m\n\u001b[0;32m      2\u001b[0m \u001b[43m            \u001b[49m\u001b[43mmodel\u001b[49m\u001b[38;5;241;43m=\u001b[39;49m\u001b[43mmodel\u001b[49m\u001b[43m,\u001b[49m\u001b[43m \u001b[49m\n\u001b[0;32m      3\u001b[0m \u001b[43m            \u001b[49m\u001b[43mval_loader\u001b[49m\u001b[38;5;241;43m=\u001b[39;49m\u001b[43mval_loader\u001b[49m\u001b[43m,\u001b[49m\u001b[43m \u001b[49m\n\u001b[0;32m      4\u001b[0m \u001b[43m            \u001b[49m\u001b[43mcriterion\u001b[49m\u001b[38;5;241;43m=\u001b[39;49m\u001b[43mcriterion\u001b[49m\u001b[43m,\u001b[49m\u001b[43m \u001b[49m\n\u001b[0;32m      5\u001b[0m \u001b[43m            \u001b[49m\u001b[43mdevice\u001b[49m\u001b[38;5;241;43m=\u001b[39;49m\u001b[43mdevice\u001b[49m\u001b[43m,\u001b[49m\u001b[43m \u001b[49m\n\u001b[0;32m      6\u001b[0m \u001b[43m            \u001b[49m\u001b[43mepoch\u001b[49m\u001b[38;5;241;43m=\u001b[39;49m\u001b[38;5;241;43m1\u001b[39;49m\u001b[43m,\u001b[49m\u001b[43m \u001b[49m\n\u001b[0;32m      7\u001b[0m \u001b[43m            \u001b[49m\u001b[43mcalculate_dice_interval\u001b[49m\u001b[38;5;241;43m=\u001b[39;49m\u001b[38;5;241;43m0\u001b[39;49m\n\u001b[0;32m      8\u001b[0m \u001b[43m        \u001b[49m\u001b[43m)\u001b[49m\n",
      "Cell \u001b[1;32mIn[11], line 64\u001b[0m, in \u001b[0;36mvalidate_one_epoch\u001b[1;34m(model, val_loader, criterion, device, epoch, calculate_dice_interval)\u001b[0m\n\u001b[0;32m     61\u001b[0m pbar\u001b[38;5;241m.\u001b[39mset_postfix(loss\u001b[38;5;241m=\u001b[39mloss\u001b[38;5;241m.\u001b[39mitem())\n\u001b[0;32m     63\u001b[0m \u001b[38;5;66;03m# 각 클래스별 Dice 점수 계산\u001b[39;00m\n\u001b[1;32m---> 64\u001b[0m \u001b[38;5;28;01mif\u001b[39;00m \u001b[43mepoch\u001b[49m\u001b[43m \u001b[49m\u001b[38;5;241;43m%\u001b[39;49m\u001b[43m \u001b[49m\u001b[43mcalculate_dice_interval\u001b[49m \u001b[38;5;241m==\u001b[39m \u001b[38;5;241m0\u001b[39m:\n\u001b[0;32m     65\u001b[0m     \u001b[38;5;28;01mfor\u001b[39;00m i \u001b[38;5;129;01min\u001b[39;00m \u001b[38;5;28mrange\u001b[39m(n_classes):\n\u001b[0;32m     66\u001b[0m         pred_i \u001b[38;5;241m=\u001b[39m (preds \u001b[38;5;241m==\u001b[39m i)\n",
      "\u001b[1;31mZeroDivisionError\u001b[0m: integer modulo by zero"
     ]
    }
   ],
   "source": [
    "val_loss = validate_one_epoch(\n",
    "            model=model, \n",
    "            val_loader=val_loader, \n",
    "            criterion=criterion, \n",
    "            device=device, \n",
    "            epoch=1, \n",
    "            calculate_dice_interval=0\n",
    "        )"
   ]
  },
  {
   "cell_type": "code",
   "execution_count": null,
   "metadata": {},
   "outputs": [
    {
     "name": "stdout",
     "output_type": "stream",
     "text": [
      "Processing volume 1/7\n"
     ]
    },
    {
     "name": "stderr",
     "output_type": "stream",
     "text": [
      "Loading dataset: 100%|██████████| 1/1 [00:01<00:00,  1.94s/it]\n"
     ]
    },
    {
     "name": "stdout",
     "output_type": "stream",
     "text": [
      "Processing volume 2/7\n"
     ]
    },
    {
     "name": "stderr",
     "output_type": "stream",
     "text": [
      "Loading dataset: 100%|██████████| 1/1 [00:01<00:00,  1.89s/it]\n"
     ]
    },
    {
     "name": "stdout",
     "output_type": "stream",
     "text": [
      "Processing volume 3/7\n"
     ]
    },
    {
     "name": "stderr",
     "output_type": "stream",
     "text": [
      "Loading dataset: 100%|██████████| 1/1 [00:01<00:00,  1.79s/it]\n"
     ]
    },
    {
     "name": "stdout",
     "output_type": "stream",
     "text": [
      "Submission saved to: submission.csv\n"
     ]
    }
   ],
   "source": [
    "import torch\n",
    "import numpy as np\n",
    "from scipy.ndimage import label, center_of_mass\n",
    "import pandas as pd\n",
    "from tqdm import tqdm\n",
    "from monai.data import CacheDataset, DataLoader\n",
    "from monai.transforms import Compose, NormalizeIntensity\n",
    "import cc3d\n",
    "\n",
    "def dict_to_df(coord_dict, experiment_name):\n",
    "    all_coords = []\n",
    "    all_labels = []\n",
    "    \n",
    "    for label, coords in coord_dict.items():\n",
    "        all_coords.append(coords)\n",
    "        all_labels.extend([label] * len(coords))\n",
    "    \n",
    "    all_coords = np.vstack(all_coords)\n",
    "    df = pd.DataFrame({\n",
    "        'experiment': experiment_name,\n",
    "        'particle_type': all_labels,\n",
    "        'x': all_coords[:, 0],\n",
    "        'y': all_coords[:, 1],\n",
    "        'z': all_coords[:, 2]\n",
    "    })\n",
    "    return df\n",
    "\n",
    "id_to_name = {1: \"apo-ferritin\", \n",
    "              2: \"beta-amylase\",\n",
    "              3: \"beta-galactosidase\", \n",
    "              4: \"ribosome\", \n",
    "              5: \"thyroglobulin\", \n",
    "              6: \"virus-like-particle\"}\n",
    "BLOB_THRESHOLD = 200\n",
    "CERTAINTY_THRESHOLD = 0.05\n",
    "\n",
    "classes = [1, 2, 3, 4, 5, 6]\n",
    "\n",
    "model.eval()\n",
    "with torch.no_grad():\n",
    "    location_dfs = []  # DataFrame 리스트로 초기화\n",
    "    \n",
    "    for vol_idx, run in enumerate(preprocessor.root.runs):\n",
    "        print(f\"Processing volume {vol_idx + 1}/{len(preprocessor.root.runs)}\")\n",
    "        tomogram = preprocessor.processing(run=run, task=\"task\")\n",
    "        task_files = [{\"image\": tomogram}]\n",
    "        task_ds = CacheDataset(data=task_files, transform=non_random_transforms)\n",
    "        task_loader = DataLoader(task_ds, batch_size=1, num_workers=0)\n",
    "        \n",
    "        for task_data in task_loader:\n",
    "            images = task_data['image'].to(\"cuda\")\n",
    "            outputs = sliding_window_inference(\n",
    "                inputs=images,\n",
    "                roi_size=(96, 96, 96),  # ROI 크기\n",
    "                sw_batch_size=4,\n",
    "                predictor=model.forward,\n",
    "                overlap=0.1,\n",
    "                sw_device=\"cuda\",\n",
    "                device=\"cpu\",\n",
    "                buffer_steps=1,\n",
    "                buffer_dim=-1\n",
    "            )\n",
    "            outputs = outputs.argmax(dim=1).squeeze(0).cpu().numpy()  # 클래스 채널 예측\n",
    "            location = {}  # 좌표 저장용 딕셔너리\n",
    "            for c in classes:\n",
    "                cc = cc3d.connected_components(outputs == c)  # cc3d 라벨링\n",
    "                stats = cc3d.statistics(cc)\n",
    "                zyx = stats['centroids'][1:] * 10.012444  # 스케일 변환\n",
    "                zyx_large = zyx[stats['voxel_counts'][1:] > BLOB_THRESHOLD]  # 크기 필터링\n",
    "                xyz = np.ascontiguousarray(zyx_large[:, ::-1])  # 좌표 스왑 (z, y, x -> x, y, z)\n",
    "\n",
    "                location[id_to_name[c]] = xyz  # ID 이름 매칭 저장\n",
    "\n",
    "            # 데이터프레임 변환\n",
    "            df = dict_to_df(location, run.name)\n",
    "            location_dfs.append(df)  # 리스트에 추가\n",
    "        \n",
    "        # if vol_idx == 2:\n",
    "        #     break\n",
    "    \n",
    "    # DataFrame 병합\n",
    "    final_df = pd.concat(location_dfs, ignore_index=True)\n",
    "    \n",
    "    # ID 추가 및 CSV 저장\n",
    "    final_df.insert(loc=0, column='id', value=np.arange(len(final_df)))\n",
    "    final_df.to_csv(\"submission.csv\", index=False)\n",
    "    print(\"Submission saved to: submission.csv\")\n"
   ]
  }
 ],
 "metadata": {
  "kernelspec": {
   "display_name": "UM",
   "language": "python",
   "name": "python3"
  },
  "language_info": {
   "codemirror_mode": {
    "name": "ipython",
    "version": 3
   },
   "file_extension": ".py",
   "mimetype": "text/x-python",
   "name": "python",
   "nbconvert_exporter": "python",
   "pygments_lexer": "ipython3",
   "version": "3.12.7"
  }
 },
 "nbformat": 4,
 "nbformat_minor": 2
}
