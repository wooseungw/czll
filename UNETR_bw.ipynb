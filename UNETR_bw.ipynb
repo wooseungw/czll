{
 "cells": [
  {
   "cell_type": "code",
   "execution_count": 1,
   "metadata": {},
   "outputs": [
    {
     "name": "stderr",
     "output_type": "stream",
     "text": [
      "c:\\Users\\pook0\\.conda\\envs\\UM\\Lib\\site-packages\\tqdm\\auto.py:21: TqdmWarning: IProgress not found. Please update jupyter and ipywidgets. See https://ipywidgets.readthedocs.io/en/stable/user_install.html\n",
      "  from .autonotebook import tqdm as notebook_tqdm\n"
     ]
    },
    {
     "name": "stdout",
     "output_type": "stream",
     "text": [
      "MONAI version: 1.4.0\n",
      "Numpy version: 1.26.4\n",
      "Pytorch version: 2.4.1+cu121\n",
      "MONAI flags: HAS_EXT = False, USE_COMPILED = False, USE_META_DICT = False\n",
      "MONAI rev id: 46a5272196a6c2590ca2589029eed8e4d56ff008\n",
      "MONAI __file__: c:\\Users\\<username>\\.conda\\envs\\UM\\Lib\\site-packages\\monai\\__init__.py\n",
      "\n",
      "Optional dependencies:\n",
      "Pytorch Ignite version: NOT INSTALLED or UNKNOWN VERSION.\n",
      "ITK version: NOT INSTALLED or UNKNOWN VERSION.\n",
      "Nibabel version: 5.3.2\n",
      "scikit-image version: 0.24.0\n",
      "scipy version: 1.14.1\n",
      "Pillow version: 10.2.0\n",
      "Tensorboard version: 2.18.0\n",
      "gdown version: 5.2.0\n",
      "TorchVision version: 0.19.1+cu121\n",
      "tqdm version: 4.66.5\n",
      "lmdb version: NOT INSTALLED or UNKNOWN VERSION.\n",
      "psutil version: 6.0.0\n",
      "pandas version: 2.2.3\n",
      "einops version: 0.8.0\n",
      "transformers version: NOT INSTALLED or UNKNOWN VERSION.\n",
      "mlflow version: 2.17.2\n",
      "pynrrd version: NOT INSTALLED or UNKNOWN VERSION.\n",
      "clearml version: NOT INSTALLED or UNKNOWN VERSION.\n",
      "\n",
      "For details about installing the optional dependencies, please visit:\n",
      "    https://docs.monai.io/en/latest/installation.html#installing-the-recommended-dependencies\n",
      "\n"
     ]
    }
   ],
   "source": [
    "import os\n",
    "import shutil\n",
    "import tempfile\n",
    "\n",
    "import matplotlib.pyplot as plt\n",
    "from tqdm import tqdm\n",
    "\n",
    "import random\n",
    "import numpy as np\n",
    "import torch\n",
    "\n",
    "\n",
    "from monai.losses import DiceCELoss\n",
    "from monai.inferers import sliding_window_inference\n",
    "from monai.transforms import (\n",
    "    AsDiscrete,\n",
    "    EnsureChannelFirstd,\n",
    "    Compose,\n",
    "    CropForegroundd,\n",
    "    LoadImaged,\n",
    "    Orientationd,\n",
    "    RandFlipd,\n",
    "    RandCropByPosNegLabeld,\n",
    "    RandShiftIntensityd,\n",
    "    ScaleIntensityRanged,\n",
    "    Spacingd,\n",
    "    RandRotate90d,\n",
    ")\n",
    "\n",
    "from monai.config import print_config\n",
    "from monai.metrics import DiceMetric\n",
    "# from src.models.swincspunetr import SwinCSPUNETR\n",
    "# from src.models.swincspunetr_unet import SwinCSPUNETR_unet\n",
    "# from src.models.swincspunetr3plus import SwinCSPUNETR3plus\n",
    "\n",
    "from monai.data import (\n",
    "    DataLoader,\n",
    "    CacheDataset,\n",
    "    load_decathlon_datalist,\n",
    "    decollate_batch,\n",
    ")\n",
    "\n",
    "# 랜덤 시드 고정\n",
    "def set_seed(seed):\n",
    "    random.seed(seed)\n",
    "    np.random.seed(seed)\n",
    "    torch.manual_seed(seed)\n",
    "    if torch.cuda.is_available():\n",
    "        torch.cuda.manual_seed_all(seed)\n",
    "\n",
    "set_seed(42)\n",
    "\n",
    "\n",
    "print_config()"
   ]
  },
  {
   "cell_type": "code",
   "execution_count": 2,
   "metadata": {},
   "outputs": [
    {
     "name": "stdout",
     "output_type": "stream",
     "text": [
      "클래스 비율: {0: 0.0, 1: 0.16393442622950818, 2: 0.01639344262295082, 3: 0.2459016393442623, 4: 0.16393442622950818, 5: 0.2459016393442623, 6: 0.16393442622950818}\n",
      "최종 합계: 1.0\n",
      "클래스 비율 리스트: [0.0, 0.16393442622950818, 0.01639344262295082, 0.2459016393442623, 0.16393442622950818, 0.2459016393442623, 0.16393442622950818]\n"
     ]
    }
   ],
   "source": [
    "class_info = {\n",
    "    0: {\"name\": \"background\", \"weight\": 0},  # weight 없음\n",
    "    1: {\"name\": \"apo-ferritin\", \"weight\": 1000},\n",
    "    2: {\"name\": \"beta-amylase\", \"weight\": 100}, # 4130\n",
    "    3: {\"name\": \"beta-galactosidase\", \"weight\": 1500}, #3080\n",
    "    4: {\"name\": \"ribosome\", \"weight\": 1000},\n",
    "    5: {\"name\": \"thyroglobulin\", \"weight\": 1500},\n",
    "    6: {\"name\": \"virus-like-particle\", \"weight\": 1000},\n",
    "}\n",
    "\n",
    "# 가중치에 비례한 비율 계산\n",
    "raw_ratios = {\n",
    "    k: (v[\"weight\"] if v[\"weight\"] is not None else 0.01)  # 가중치 비례, None일 경우 기본값a\n",
    "    for k, v in class_info.items()\n",
    "}\n",
    "total = sum(raw_ratios.values())\n",
    "ratios = {k: v / total for k, v in raw_ratios.items()}\n",
    "\n",
    "# 최종 합계가 1인지 확인\n",
    "final_total = sum(ratios.values())\n",
    "print(\"클래스 비율:\", ratios)\n",
    "print(\"최종 합계:\", final_total)\n",
    "\n",
    "# 비율을 리스트로 변환\n",
    "ratios_list = [ratios[k] for k in sorted(ratios.keys())]\n",
    "print(\"클래스 비율 리스트:\", ratios_list)"
   ]
  },
  {
   "cell_type": "markdown",
   "metadata": {},
   "source": [
    "# 모델 설정"
   ]
  },
  {
   "cell_type": "code",
   "execution_count": 3,
   "metadata": {},
   "outputs": [],
   "source": [
    "from src.dataset.dataset import create_dataloaders\n",
    "from monai.transforms import (\n",
    "    Compose, LoadImaged, EnsureChannelFirstd, NormalizeIntensityd,\n",
    "    Orientationd, CropForegroundd, GaussianSmoothd, ScaleIntensityd,\n",
    "    RandSpatialCropd, RandRotate90d, RandFlipd, RandGaussianNoised,\n",
    "    ToTensord, RandCropByLabelClassesd\n",
    ")\n",
    "from monai.transforms import CastToTyped\n",
    "import numpy as np\n",
    "\n",
    "train_img_dir = \"./datasets/train/images\"\n",
    "train_label_dir = \"./datasets/train/labels\"\n",
    "val_img_dir = \"./datasets/val/images\"\n",
    "val_label_dir = \"./datasets/val/labels\"\n",
    "# DATA CONFIG\n",
    "img_size =  96 # Match your patch size\n",
    "img_depth = img_size\n",
    "n_classes = 7\n",
    "batch_size = 16 # 13.8GB GPU memory required for 128x128 img size\n",
    "num_samples = batch_size # 한 이미지에서 뽑을 샘플 수\n",
    "loader_batch = 1\n",
    "num_repeat = 3\n",
    "# MODEL CONFIG\n",
    "num_epochs = 4000\n",
    "lamda = 0.5\n",
    "ce_weight = 0.4\n",
    "lr = 0.0001\n",
    "feature_size = 48\n",
    "use_checkpoint = True\n",
    "use_v2 = True\n",
    "drop_rate= 0.25\n",
    "attn_drop_rate = 0.25\n",
    "num_bottleneck = 2\n",
    "# CLASS_WEIGHTS\n",
    "class_weights = None\n",
    "class_weights = torch.tensor([0.0001, 1, 0.001, 1.1, 1, 1.1, 1], dtype=torch.float32)  # 클래스별 가중치\n",
    "\n",
    "accumulation_steps = 1\n",
    "# INIT\n",
    "start_epoch = 0\n",
    "best_val_loss = float('inf')\n",
    "best_val_fbeta_score = 0\n",
    "\n",
    "non_random_transforms = Compose([\n",
    "    EnsureChannelFirstd(keys=[\"image\", \"label\"], channel_dim=\"no_channel\"),\n",
    "    NormalizeIntensityd(keys=\"image\"),\n",
    "    Orientationd(keys=[\"image\", \"label\"], axcodes=\"RAS\"),\n",
    "    CastToTyped(keys=[\"image\"], dtype=np.float16),\n",
    "    GaussianSmoothd(\n",
    "        keys=[\"image\"],      # 변환을 적용할 키\n",
    "        sigma=[1.0, 1.0, 1.0]  # 각 축(x, y, z)의 시그마 값\n",
    "        ),\n",
    "])\n",
    "random_transforms = Compose([\n",
    "    RandCropByLabelClassesd(\n",
    "        keys=[\"image\", \"label\"],\n",
    "        label_key=\"label\",\n",
    "        spatial_size=[img_depth, img_size, img_size],\n",
    "        num_classes=n_classes,\n",
    "        num_samples=num_samples, \n",
    "        ratios=ratios_list,\n",
    "    ),\n",
    "    RandRotate90d(keys=[\"image\", \"label\"], prob=0.5, spatial_axes=[1, 2]),\n",
    "    RandFlipd(keys=[\"image\", \"label\"], prob=0.5, spatial_axis=0),\n",
    "    RandFlipd(keys=[\"image\", \"label\"], prob=0.5, spatial_axis=1),\n",
    "    RandFlipd(keys=[\"image\", \"label\"], prob=0.5, spatial_axis=2),\n",
    "])\n"
   ]
  },
  {
   "cell_type": "code",
   "execution_count": 4,
   "metadata": {},
   "outputs": [
    {
     "name": "stderr",
     "output_type": "stream",
     "text": [
      "Loading dataset: 100%|██████████| 24/24 [00:43<00:00,  1.80s/it]\n",
      "Loading dataset: 100%|██████████| 4/4 [00:07<00:00,  1.96s/it]\n"
     ]
    }
   ],
   "source": [
    "train_loader, val_loader = None, None\n",
    "train_loader, val_loader = create_dataloaders(\n",
    "    train_img_dir, \n",
    "    train_label_dir, \n",
    "    val_img_dir, \n",
    "    val_label_dir, \n",
    "    non_random_transforms = non_random_transforms, \n",
    "    random_transforms = random_transforms, \n",
    "    batch_size = loader_batch,\n",
    "    num_workers=0,train_num_repeat=num_repeat)"
   ]
  },
  {
   "cell_type": "markdown",
   "metadata": {},
   "source": [
    "https://monai.io/model-zoo.html"
   ]
  },
  {
   "cell_type": "code",
   "execution_count": 5,
   "metadata": {},
   "outputs": [],
   "source": [
    "from monai.losses import TverskyLoss\n",
    "import torch\n",
    "import torch.nn as nn\n",
    "\n",
    "def loss_fn(loss, class_weights, device):\n",
    "    \"\"\"\n",
    "    Tversky 손실에 클래스별 가중치를 적용하여 최종 스칼라 값을 반환합니다.\n",
    "\n",
    "    Args:\n",
    "        loss: Tversky 손실 텐서 (B, num_classes, H, W, D).\n",
    "        class_weights: 클래스별 가중치 텐서 (num_classes,).\n",
    "        device: 사용할 장치 (예: 'cuda' 또는 'cpu').\n",
    "\n",
    "    Returns:\n",
    "        torch.Tensor: 최종 가중 평균 손실 값 (스칼라).\n",
    "    \"\"\"\n",
    "    # 가중치를 device로 이동\n",
    "    class_weights = class_weights.to(device)\n",
    "\n",
    "    # 클래스 차원에 가중치 적용 (B, num_classes, ...)\n",
    "    class_weights = class_weights.view(1, n_classes, 1, 1, 1)  # [1, num_classes, 1, 1, 1]\n",
    "    weighted_loss = loss * class_weights\n",
    "\n",
    "    # 모든 차원을 평균 내어 스칼라 손실 반환\n",
    "    final_loss = torch.mean(weighted_loss)\n",
    "    return final_loss\n",
    "\n",
    "class DynamicTverskyLoss(TverskyLoss):\n",
    "    def __init__(self, lamda=0.5, **kwargs):\n",
    "        super().__init__(alpha=1 - lamda, beta=lamda, **kwargs)\n",
    "        self.lamda = lamda\n",
    "\n",
    "    def set_lamda(self, lamda):\n",
    "        self.lamda = lamda\n",
    "        self.alpha = 1 - lamda\n",
    "        self.beta = lamda\n",
    "        \n",
    "# criterion = DynamicTverskyLoss(\n",
    "#     lamda=0.5,\n",
    "#     include_background=False,\n",
    "#     reduction=\"mean\",\n",
    "#     softmax=True\n",
    "# )\n",
    "\n",
    "class CombinedCETverskyLoss(nn.Module):\n",
    "    def __init__(self, lamda=0.5, ce_weight=0.5, **kwargs):\n",
    "        super().__init__()\n",
    "        self._lamda = lamda  # lamda 값 저장\n",
    "        self.tversky = DynamicTverskyLoss(lamda=lamda, **kwargs)\n",
    "        self.ce = nn.CrossEntropyLoss()\n",
    "        self.ce_weight = ce_weight\n",
    "        \n",
    "    def forward(self, inputs, targets):\n",
    "        tversky_loss = self.tversky(inputs, targets)\n",
    "        ce_loss = self.ce(inputs, targets)\n",
    "        return self.ce_weight * ce_loss + (1 - self.ce_weight) * tversky_loss\n",
    "    \n",
    "    def set_lamda(self, lamda):\n",
    "        self._lamda = lamda\n",
    "        self.tversky.set_lamda(lamda)\n",
    "    \n",
    "    @property\n",
    "    def lamda(self):\n",
    "        return self._lamda\n",
    "\n",
    "criterion = CombinedCETverskyLoss(\n",
    "    lamda=lamda,\n",
    "    ce_weight=ce_weight,  # CE Loss와 Tversky Loss의 비중을 0.5:0.5로 설정\n",
    "    include_background=False,\n",
    "    reduction=\"mean\",\n",
    "    softmax=True\n",
    ")"
   ]
  },
  {
   "cell_type": "code",
   "execution_count": 6,
   "metadata": {},
   "outputs": [],
   "source": [
    "import torch.optim as optim\n",
    "from tqdm import tqdm\n",
    "import numpy as np\n",
    "import torch\n",
    "from pathlib import Path\n",
    "from monai.networks.nets import UNet\n",
    "\n",
    "device = torch.device(\"cuda\" if torch.cuda.is_available() else \"cpu\")\n",
    "\n",
    "\n",
    "model = UNet(\n",
    "    # img_size = (96, 96, 96),\n",
    "    spatial_dims=3,\n",
    "    in_channels=1,\n",
    "    out_channels=7,\n",
    "    channels=(48, 64, 80, 80),\n",
    "    strides=(2, 2, 1),\n",
    "    num_res_units=1,\n",
    "    dropout = drop_rate,\n",
    "    # channels=(16, 32, 64, 128, 256),\n",
    "    # strides=(2, 2, 2, 2),\n",
    "    # num_res_units=2,\n",
    ").to(device)\n",
    "\n",
    "# model = SwinCSPUNETR3plus(\n",
    "#     img_size=(img_depth, img_size, img_size),\n",
    "#     in_channels=1,\n",
    "#     out_channels=n_classes,\n",
    "#     feature_size=feature_size,\n",
    "#     use_checkpoint=True,\n",
    "#     drop_rate = drop_rate,\n",
    "#     attn_drop_rate = attn_drop_rate,\n",
    "#     use_v2 = use_v2,\n",
    "#     n = num_bottleneck,\n",
    "# ).to(device)\n",
    "# Pretrained weights 불러오기\n",
    "# if use_checkpoint:\n",
    "#     pretrain_path = \"./swin_unetr_btcv_segmentation/models/model.pt\"\n",
    "#     weight = torch.load(pretrain_path, map_location=device)\n",
    "\n",
    "#     # 출력 레이어의 키를 제외한 나머지 가중치만 로드\n",
    "#     filtered_weights = {k: v for k, v in weight.items() if \"out.conv.conv\" not in k}\n",
    "\n",
    "#     # strict=False로 로드하여 불일치하는 부분 무시\n",
    "#     model.load_state_dict(filtered_weights, strict=False)\n",
    "#     print(\"Filtered weights loaded successfully. Output layer will be trained from scratch.\")\n",
    "\n",
    "# Load pretrained weights\n",
    "# model.load_from(weights=np.load(config_vit.real_pretrained_path, allow_pickle=True))\n",
    "# TverskyLoss 설정\n",
    "# 사용 예시\n",
    "\n",
    "pretrain_str = \"yes\" if use_checkpoint else \"no\"\n",
    "weight_str = \"weighted\" if class_weights is not None else \"\"\n",
    "\n",
    "# 체크포인트 디렉토리 및 파일 설정\n",
    "checkpoint_base_dir = Path(\"./model_checkpoints\")\n",
    "folder_name = f\"UNET_p{pretrain_str}_{weight_str}_f{feature_size}_d{img_depth}s{img_size}_numb{num_bottleneck}_lr{lr:.0e}_a{lamda:.2f}_b{1-lamda:.2f}_b{batch_size}_r{num_repeat}_ce{ce_weight}\"\n",
    "checkpoint_dir = checkpoint_base_dir / folder_name\n",
    "optimizer = optim.AdamW(model.parameters(), lr=lr, weight_decay=1e-5)\n",
    "scheduler = torch.optim.lr_scheduler.ReduceLROnPlateau(optimizer, patience=5, factor=0.5)\n",
    "# 체크포인트 디렉토리 생성\n",
    "checkpoint_dir.mkdir(parents=True, exist_ok=True)\n",
    "\n",
    "if checkpoint_dir.exists():\n",
    "    best_model_path = checkpoint_dir / 'best_model.pt'\n",
    "    if best_model_path.exists():\n",
    "        print(f\"기존 best model 발견: {best_model_path}\")\n",
    "        try:\n",
    "            checkpoint = torch.load(best_model_path, map_location=device)\n",
    "            # 체크포인트 내부 키 검증\n",
    "            required_keys = ['model_state_dict', 'optimizer_state_dict', 'epoch', 'best_val_loss']\n",
    "            if all(k in checkpoint for k in required_keys):\n",
    "                model.load_state_dict(checkpoint['model_state_dict'])\n",
    "                optimizer.load_state_dict(checkpoint['optimizer_state_dict'])\n",
    "                start_epoch = checkpoint['epoch']\n",
    "                best_val_loss = checkpoint['best_val_loss']\n",
    "                print(\"기존 학습된 가중치를 성공적으로 로드했습니다.\")\n",
    "                checkpoint= None\n",
    "            else:\n",
    "                raise ValueError(\"체크포인트 파일에 필요한 key가 없습니다.\")\n",
    "        except Exception as e:\n",
    "            print(f\"체크포인트 파일을 로드하는 중 오류 발생: {e}\")"
   ]
  },
  {
   "cell_type": "code",
   "execution_count": 7,
   "metadata": {},
   "outputs": [
    {
     "name": "stdout",
     "output_type": "stream",
     "text": [
      "torch.Size([16, 1, 96, 96, 96]) torch.Size([16, 1, 96, 96, 96])\n"
     ]
    }
   ],
   "source": [
    "batch = next(iter(val_loader))\n",
    "images, labels = batch[\"image\"], batch[\"label\"]\n",
    "print(images.shape, labels.shape)"
   ]
  },
  {
   "cell_type": "code",
   "execution_count": 8,
   "metadata": {},
   "outputs": [],
   "source": [
    "torch.backends.cudnn.benchmark = True"
   ]
  },
  {
   "cell_type": "code",
   "execution_count": 9,
   "metadata": {},
   "outputs": [
    {
     "name": "stderr",
     "output_type": "stream",
     "text": [
      "\u001b[34m\u001b[1mwandb\u001b[0m: Using wandb-core as the SDK backend.  Please refer to https://wandb.me/wandb-core for more information.\n",
      "\u001b[34m\u001b[1mwandb\u001b[0m: Currently logged in as: \u001b[33mpook0612\u001b[0m (\u001b[33mlimbw\u001b[0m). Use \u001b[1m`wandb login --relogin`\u001b[0m to force relogin\n"
     ]
    },
    {
     "data": {
      "text/html": [
       "Tracking run with wandb version 0.19.1"
      ],
      "text/plain": [
       "<IPython.core.display.HTML object>"
      ]
     },
     "metadata": {},
     "output_type": "display_data"
    },
    {
     "data": {
      "text/html": [
       "Run data is saved locally in <code>d:\\Workspace\\czll\\wandb\\run-20250110_113735-7mzabglg</code>"
      ],
      "text/plain": [
       "<IPython.core.display.HTML object>"
      ]
     },
     "metadata": {},
     "output_type": "display_data"
    },
    {
     "data": {
      "text/html": [
       "Syncing run <strong><a href='https://wandb.ai/limbw/czii_SwinUnetR/runs/7mzabglg' target=\"_blank\">UNET_pyes_weighted_f48_d96s96_numb2_lr1e-04_a0.50_b0.50_b16_r3_ce0.4</a></strong> to <a href='https://wandb.ai/limbw/czii_SwinUnetR' target=\"_blank\">Weights & Biases</a> (<a href='https://wandb.me/developer-guide' target=\"_blank\">docs</a>)<br>"
      ],
      "text/plain": [
       "<IPython.core.display.HTML object>"
      ]
     },
     "metadata": {},
     "output_type": "display_data"
    },
    {
     "data": {
      "text/html": [
       " View project at <a href='https://wandb.ai/limbw/czii_SwinUnetR' target=\"_blank\">https://wandb.ai/limbw/czii_SwinUnetR</a>"
      ],
      "text/plain": [
       "<IPython.core.display.HTML object>"
      ]
     },
     "metadata": {},
     "output_type": "display_data"
    },
    {
     "data": {
      "text/html": [
       " View run at <a href='https://wandb.ai/limbw/czii_SwinUnetR/runs/7mzabglg' target=\"_blank\">https://wandb.ai/limbw/czii_SwinUnetR/runs/7mzabglg</a>"
      ],
      "text/plain": [
       "<IPython.core.display.HTML object>"
      ]
     },
     "metadata": {},
     "output_type": "display_data"
    }
   ],
   "source": [
    "import wandb\n",
    "from datetime import datetime\n",
    "\n",
    "current_time = datetime.now().strftime('%Y%m%d_%H%M%S')\n",
    "run_name = folder_name\n",
    "\n",
    "# wandb 초기화\n",
    "wandb.init(\n",
    "    project='czii_SwinUnetR',  # 프로젝트 이름 설정\n",
    "    name=run_name,         # 실행(run) 이름 설정\n",
    "    config={\n",
    "        'num_epochs': num_epochs,\n",
    "        'learning_rate': lr,\n",
    "        'batch_size': batch_size,\n",
    "        'lambda': lamda,\n",
    "        \"cross_entropy_weight\": ce_weight,\n",
    "        'feature_size': feature_size,\n",
    "        'img_size': img_size,\n",
    "        'sampling_ratio': ratios_list,\n",
    "        'device': device.type,\n",
    "        \"checkpoint_dir\": str(checkpoint_dir),\n",
    "        \"class_weights\": class_weights.tolist() if class_weights is not None else None,\n",
    "        \"use_checkpoint\": use_checkpoint,\n",
    "        \"drop_rate\": drop_rate,\n",
    "        \"attn_drop_rate\": attn_drop_rate,\n",
    "        \"use_v2\": use_v2,\n",
    "        \"accumulation_steps\": accumulation_steps,\n",
    "        \"num_repeat\": num_repeat,\n",
    "        \"num_bottleneck\": num_bottleneck,\n",
    "        \n",
    "        # 필요한 하이퍼파라미터 추가\n",
    "    }\n",
    ")\n",
    "# 모델을 wandb에 연결\n",
    "wandb.watch(model, log='all')"
   ]
  },
  {
   "cell_type": "markdown",
   "metadata": {},
   "source": [
    "# 학습"
   ]
  },
  {
   "cell_type": "code",
   "execution_count": 10,
   "metadata": {},
   "outputs": [],
   "source": [
    "from monai.metrics import DiceMetric\n",
    "    \n",
    "def processing(batch_data, model, criterion, device):\n",
    "    images = batch_data['image'].to(device)  # Input 이미지 (B, 1, 96, 96, 96)\n",
    "    labels = batch_data['label'].to(device)  # 라벨 (B, 96, 96, 96)\n",
    "\n",
    "    labels = labels.squeeze(1)  # (B, 1, 96, 96, 96) → (B, 96, 96, 96)\n",
    "    labels = labels.long()  # 라벨을 정수형으로 변환\n",
    "\n",
    "    # 원핫 인코딩 (B, H, W, D) → (B, num_classes, H, W, D)\n",
    "    \n",
    "    labels_onehot = torch.nn.functional.one_hot(labels, num_classes=n_classes)\n",
    "    labels_onehot = labels_onehot.permute(0, 4, 1, 2, 3).float()  # (B, num_classes, H, W, D)\n",
    "\n",
    "    # 모델 예측\n",
    "    outputs = model(images)  # outputs: (B, num_classes, H, W, D)\n",
    "\n",
    "    # Loss 계산\n",
    "    # loss = criterion(outputs, labels_onehot)\n",
    "    loss = loss_fn(criterion(outputs, labels_onehot),class_weights=class_weights, device=device)\n",
    "    return loss, outputs, labels, outputs.argmax(dim=1)\n",
    "\n",
    "def train_one_epoch(model, train_loader, criterion, optimizer, device, epoch, accumulation_steps=4):\n",
    "    model.train()\n",
    "    epoch_loss = 0\n",
    "    optimizer.zero_grad()  # 그래디언트 초기화\n",
    "    with tqdm(train_loader, desc='Training') as pbar:\n",
    "        for i, batch_data in enumerate(pbar):\n",
    "            # 손실 계산\n",
    "            loss, _, _, _ = processing(batch_data, model, criterion, device)\n",
    "\n",
    "            # 그래디언트를 계산하고 누적\n",
    "            loss = loss / accumulation_steps  # 그래디언트 누적을 위한 스케일링\n",
    "            loss.backward()  # 그래디언트 계산 및 누적\n",
    "            \n",
    "            # 그래디언트 업데이트 (accumulation_steps마다 한 번)\n",
    "            if (i + 1) % accumulation_steps == 0 or (i + 1) == len(train_loader):\n",
    "                optimizer.step()  # 파라미터 업데이트\n",
    "                optimizer.zero_grad()  # 누적된 그래디언트 초기화\n",
    "            \n",
    "            # 손실값 누적 (스케일링 복구)\n",
    "            epoch_loss += loss.item() * accumulation_steps  # 실제 손실값 반영\n",
    "            pbar.set_postfix(loss=loss.item() * accumulation_steps)  # 실제 손실값 출력\n",
    "    avg_loss = epoch_loss / len(train_loader)\n",
    "    wandb.log({'train_epoch_loss': avg_loss, 'epoch': epoch + 1})\n",
    "    return avg_loss\n",
    "\n",
    "\n",
    "def validate_one_epoch(model, val_loader, criterion, device, epoch, calculate_dice_interval):\n",
    "    model.eval()\n",
    "    val_loss = 0\n",
    "    \n",
    "    class_dice_scores = {i: [] for i in range(n_classes)}\n",
    "    class_f_beta_scores = {i: [] for i in range(n_classes)}\n",
    "    with torch.no_grad():\n",
    "        with tqdm(val_loader, desc='Validation') as pbar:\n",
    "            for batch_data in pbar:\n",
    "                loss, _, labels, preds = processing(batch_data, model, criterion, device)\n",
    "                val_loss += loss.item()\n",
    "                pbar.set_postfix(loss=loss.item())\n",
    "\n",
    "                # 각 클래스별 Dice 점수 계산\n",
    "                if epoch % calculate_dice_interval == 0:\n",
    "                    for i in range(n_classes):\n",
    "                        pred_i = (preds == i)\n",
    "                        label_i = (labels == i)\n",
    "                        dice_score = (2.0 * torch.sum(pred_i & label_i)) / (torch.sum(pred_i) + torch.sum(label_i) + 1e-8)\n",
    "                        class_dice_scores[i].append(dice_score.item())\n",
    "                        precision = (torch.sum(pred_i & label_i) + 1e-8) / (torch.sum(pred_i) + 1e-8)\n",
    "                        recall = (torch.sum(pred_i & label_i) + 1e-8) / (torch.sum(label_i) + 1e-8)\n",
    "                        f_beta_score = (1 + 4**2) * (precision * recall) / (4**2 * precision + recall + 1e-8)\n",
    "                        class_f_beta_scores[i].append(f_beta_score.item())\n",
    "\n",
    "    avg_loss = val_loss / len(val_loader)\n",
    "    # 에포크별 평균 손실 로깅\n",
    "    wandb.log({'val_epoch_loss': avg_loss, 'epoch': epoch + 1})\n",
    "    \n",
    "    # 각 클래스별 평균 Dice 점수 출력\n",
    "    if epoch % calculate_dice_interval == 0:\n",
    "        print(\"Validation Dice Score\")\n",
    "        all_classes_dice_scores = []\n",
    "        for i in range(n_classes):\n",
    "            mean_dice = np.mean(class_dice_scores[i])\n",
    "            wandb.log({f'class_{i}_dice_score': mean_dice, 'epoch': epoch + 1})\n",
    "            print(f\"Class {i}: {mean_dice:.4f}\", end=\", \")\n",
    "            if i not in [0, 2]:  # 평균에 포함할 클래스만 추가\n",
    "                all_classes_dice_scores.append(mean_dice)\n",
    "            \n",
    "        print()\n",
    "    if epoch % calculate_dice_interval == 0:\n",
    "        print(\"Validation F-beta Score\")\n",
    "        all_classes_fbeta_scores = []\n",
    "        for i in range(n_classes):\n",
    "            mean_fbeta = np.mean(class_f_beta_scores[i])\n",
    "            wandb.log({f'class_{i}_f_beta_score': mean_fbeta, 'epoch': epoch + 1})\n",
    "            print(f\"Class {i}: {mean_fbeta:.4f}\", end=\", \")\n",
    "            if i not in [0, 2]:  # 평균에 포함할 클래스만 추가\n",
    "                all_classes_fbeta_scores.append(mean_fbeta)\n",
    "                \n",
    "        print()\n",
    "        overall_mean_dice = np.mean(all_classes_dice_scores)\n",
    "        overall_mean_fbeta = np.mean(all_classes_fbeta_scores)\n",
    "        wandb.log({'overall_mean_f_beta_score': overall_mean_fbeta, 'overall_mean_dice_score': overall_mean_dice, 'epoch': epoch + 1})\n",
    "        print(f\"\\nOverall Mean Dice Score: {overall_mean_dice:.4f}\\nOverall Mean F-beta Score: {overall_mean_fbeta:.4f}\\n\")\n",
    "\n",
    "    if overall_mean_fbeta is None:\n",
    "        overall_mean_fbeta = 0\n",
    "\n",
    "    return val_loss / len(val_loader), overall_mean_fbeta\n",
    "\n",
    "def train_model(\n",
    "    model, train_loader, val_loader, criterion, optimizer, num_epochs, patience, \n",
    "    device, start_epoch, best_val_loss, best_val_fbeta_score, calculate_dice_interval=1,\n",
    "    accumulation_steps=4\n",
    "):\n",
    "    \"\"\"\n",
    "    모델을 학습하고 검증하는 함수\n",
    "    Args:\n",
    "        model: 학습할 모델\n",
    "        train_loader: 학습 데이터 로더\n",
    "        val_loader: 검증 데이터 로더\n",
    "        criterion: 손실 함수\n",
    "        optimizer: 최적화 알고리즘\n",
    "        num_epochs: 총 학습 epoch 수\n",
    "        patience: early stopping 기준\n",
    "        device: GPU/CPU 장치\n",
    "        start_epoch: 시작 epoch\n",
    "        best_val_loss: 이전 최적 validation loss\n",
    "        best_val_fbeta_score: 이전 최적 validation f-beta score\n",
    "        calculate_dice_interval: Dice 점수 계산 주기\n",
    "    \"\"\"\n",
    "    epochs_no_improve = 0\n",
    "\n",
    "    for epoch in range(start_epoch, num_epochs):\n",
    "        print(f\"Epoch {epoch + 1}/{num_epochs}\")\n",
    "\n",
    "        # Train One Epoch\n",
    "        train_loss = train_one_epoch(\n",
    "            model=model, \n",
    "            train_loader=train_loader, \n",
    "            criterion=criterion, \n",
    "            optimizer=optimizer, \n",
    "            device=device,\n",
    "            epoch=epoch,\n",
    "            accumulation_steps= accumulation_steps\n",
    "        )\n",
    "        \n",
    "        scheduler.step(train_loss)\n",
    "        # Validate One Epoch\n",
    "        val_loss, overall_mean_fbeta_score = validate_one_epoch(\n",
    "            model=model, \n",
    "            val_loader=val_loader, \n",
    "            criterion=criterion, \n",
    "            device=device, \n",
    "            epoch=epoch, \n",
    "            calculate_dice_interval=calculate_dice_interval\n",
    "        )\n",
    "\n",
    "        \n",
    "        print(f\"Training Loss: {train_loss:.4f}, Validation Loss: {val_loss:.4f}, Validation F-beta: {overall_mean_fbeta_score:.4f}\")\n",
    "\n",
    "        if val_loss < best_val_loss and overall_mean_fbeta_score > best_val_fbeta_score:\n",
    "            best_val_loss = val_loss\n",
    "            best_val_fbeta_score = overall_mean_fbeta_score\n",
    "            epochs_no_improve = 0\n",
    "            checkpoint_path = os.path.join(checkpoint_dir, 'best_model.pt')\n",
    "            torch.save({\n",
    "                'epoch': epoch + 1,\n",
    "                'model_state_dict': model.state_dict(),\n",
    "                'optimizer_state_dict': optimizer.state_dict(),\n",
    "                'best_val_loss': best_val_loss,\n",
    "                'best_val_fbeta_score': best_val_fbeta_score\n",
    "            }, checkpoint_path)\n",
    "            print(f\"========================================================\")\n",
    "            print(f\"SUPER Best model saved. Loss:{best_val_loss:.4f}, Score:{best_val_fbeta_score:.4f}\")\n",
    "            print(f\"========================================================\")\n",
    "\n",
    "        # Early stopping 조건 체크\n",
    "        if val_loss >= best_val_loss and overall_mean_fbeta_score <= best_val_fbeta_score:\n",
    "            epochs_no_improve += 1\n",
    "        else:\n",
    "            epochs_no_improve = 0\n",
    "\n",
    "        if epochs_no_improve >= patience:\n",
    "            print(\"Early stopping\")\n",
    "            checkpoint_path = os.path.join(checkpoint_dir, 'last.pt')\n",
    "            torch.save({\n",
    "                'epoch': epoch + 1,\n",
    "                'model_state_dict': model.state_dict(),\n",
    "                'optimizer_state_dict': optimizer.state_dict(),\n",
    "                'best_val_loss': best_val_loss,\n",
    "                'best_val_fbeta_score': best_val_fbeta_score\n",
    "            }, checkpoint_path)\n",
    "            break\n",
    "        if epochs_no_improve%6 == 0 & epochs_no_improve != 0:\n",
    "            # 손실이 개선되지 않았으므로 lambda 감소\n",
    "            new_lamda = max(criterion.lamda - 0.01, 0.35)  # 최소값은 0.1로 설정\n",
    "            criterion.set_lamda(new_lamda)\n",
    "            print(f\"Validation loss did not improve. Reducing lambda to {new_lamda:.4f}\")\n",
    "\n",
    "    wandb.finish()\n"
   ]
  },
  {
   "cell_type": "code",
   "execution_count": null,
   "metadata": {},
   "outputs": [
    {
     "name": "stdout",
     "output_type": "stream",
     "text": [
      "Epoch 1/4000\n"
     ]
    },
    {
     "name": "stderr",
     "output_type": "stream",
     "text": [
      "Training: 100%|██████████| 72/72 [01:50<00:00,  1.53s/it, loss=0.918]\n",
      "Validation: 100%|██████████| 12/12 [00:09<00:00,  1.26it/s, loss=0.888]\n"
     ]
    },
    {
     "name": "stdout",
     "output_type": "stream",
     "text": [
      "Validation Dice Score\n",
      "Class 0: 0.8313, Class 1: 0.0055, Class 2: 0.0026, Class 3: 0.0047, Class 4: 0.0917, Class 5: 0.0139, Class 6: 0.0415, \n",
      "Validation F-beta Score\n",
      "Class 0: 0.7270, Class 1: 0.0312, Class 2: 0.0130, Class 3: 0.0250, Class 4: 0.3064, Class 5: 0.0627, Class 6: 0.1292, \n",
      "\n",
      "Overall Mean Dice Score: 0.0315\n",
      "Overall Mean F-beta Score: 0.1109\n",
      "\n",
      "Training Loss: 0.9958, Validation Loss: 0.8892, Validation F-beta: 0.1109\n",
      "========================================================\n",
      "SUPER Best model saved. Loss:0.8892, Score:0.1109\n",
      "========================================================\n",
      "Epoch 2/4000\n"
     ]
    },
    {
     "name": "stderr",
     "output_type": "stream",
     "text": [
      "Training: 100%|██████████| 72/72 [01:22<00:00,  1.14s/it, loss=0.723]\n",
      "Validation: 100%|██████████| 12/12 [00:09<00:00,  1.25it/s, loss=0.692]\n"
     ]
    },
    {
     "name": "stdout",
     "output_type": "stream",
     "text": [
      "Validation Dice Score\n",
      "Class 0: 0.9793, Class 1: 0.0063, Class 2: 0.0013, Class 3: 0.0167, Class 4: 0.2550, Class 5: 0.0322, Class 6: 0.0621, \n",
      "Validation F-beta Score\n",
      "Class 0: 0.9733, Class 1: 0.0086, Class 2: 0.0013, Class 3: 0.0352, Class 4: 0.3590, Class 5: 0.0284, Class 6: 0.0598, \n",
      "\n",
      "Overall Mean Dice Score: 0.0744\n",
      "Overall Mean F-beta Score: 0.0982\n",
      "\n",
      "Training Loss: 0.8201, Validation Loss: 0.6889, Validation F-beta: 0.0982\n",
      "Epoch 3/4000\n"
     ]
    },
    {
     "name": "stderr",
     "output_type": "stream",
     "text": [
      "Training: 100%|██████████| 72/72 [01:21<00:00,  1.14s/it, loss=0.585]\n",
      "Validation: 100%|██████████| 12/12 [00:09<00:00,  1.27it/s, loss=0.561]\n"
     ]
    },
    {
     "name": "stdout",
     "output_type": "stream",
     "text": [
      "Validation Dice Score\n",
      "Class 0: 0.9864, Class 1: 0.0020, Class 2: 0.0000, Class 3: 0.0033, Class 4: 0.3287, Class 5: 0.0053, Class 6: 0.0429, \n",
      "Validation F-beta Score\n",
      "Class 0: 0.9914, Class 1: 0.0015, Class 2: 0.0000, Class 3: 0.0022, Class 4: 0.3478, Class 5: 0.0030, Class 6: 0.0275, \n",
      "\n",
      "Overall Mean Dice Score: 0.0764\n",
      "Overall Mean F-beta Score: 0.0764\n",
      "\n",
      "Training Loss: 0.6409, Validation Loss: 0.5595, Validation F-beta: 0.0764\n",
      "Epoch 4/4000\n"
     ]
    },
    {
     "name": "stderr",
     "output_type": "stream",
     "text": [
      "Training: 100%|██████████| 72/72 [01:21<00:00,  1.13s/it, loss=0.529]\n",
      "Validation: 100%|██████████| 12/12 [00:09<00:00,  1.28it/s, loss=0.515]\n"
     ]
    },
    {
     "name": "stdout",
     "output_type": "stream",
     "text": [
      "Validation Dice Score\n",
      "Class 0: 0.9874, Class 1: 0.0044, Class 2: 0.0000, Class 3: 0.0004, Class 4: 0.2918, Class 5: 0.0006, Class 6: 0.0626, \n",
      "Validation F-beta Score\n",
      "Class 0: 0.9929, Class 1: 0.0037, Class 2: 0.0000, Class 3: 0.0002, Class 4: 0.3150, Class 5: 0.0003, Class 6: 0.0429, \n",
      "\n",
      "Overall Mean Dice Score: 0.0719\n",
      "Overall Mean F-beta Score: 0.0724\n",
      "\n",
      "Training Loss: 0.5502, Validation Loss: 0.5117, Validation F-beta: 0.0724\n",
      "Epoch 5/4000\n"
     ]
    },
    {
     "name": "stderr",
     "output_type": "stream",
     "text": [
      "Training: 100%|██████████| 72/72 [01:21<00:00,  1.13s/it, loss=0.503]\n",
      "Validation: 100%|██████████| 12/12 [00:09<00:00,  1.26it/s, loss=0.489]\n"
     ]
    },
    {
     "name": "stdout",
     "output_type": "stream",
     "text": [
      "Validation Dice Score\n",
      "Class 0: 0.9881, Class 1: 0.0024, Class 2: 0.0000, Class 3: 0.0000, Class 4: 0.3237, Class 5: 0.0001, Class 6: 0.0492, \n",
      "Validation F-beta Score\n",
      "Class 0: 0.9933, Class 1: 0.0021, Class 2: 0.0000, Class 3: 0.0000, Class 4: 0.3537, Class 5: 0.0001, Class 6: 0.0354, \n",
      "\n",
      "Overall Mean Dice Score: 0.0751\n",
      "Overall Mean F-beta Score: 0.0782\n",
      "\n",
      "Training Loss: 0.5119, Validation Loss: 0.4899, Validation F-beta: 0.0782\n",
      "Epoch 6/4000\n"
     ]
    },
    {
     "name": "stderr",
     "output_type": "stream",
     "text": [
      "Training: 100%|██████████| 72/72 [01:19<00:00,  1.11s/it, loss=0.488]\n",
      "Validation: 100%|██████████| 12/12 [00:09<00:00,  1.32it/s, loss=0.479]\n"
     ]
    },
    {
     "name": "stdout",
     "output_type": "stream",
     "text": [
      "Validation Dice Score\n",
      "Class 0: 0.9884, Class 1: 0.0008, Class 2: 0.0000, Class 3: 0.0000, Class 4: 0.3659, Class 5: 0.0001, Class 6: 0.0693, \n",
      "Validation F-beta Score\n",
      "Class 0: 0.9924, Class 1: 0.0004, Class 2: 0.0000, Class 3: 0.0000, Class 4: 0.4216, Class 5: 0.0001, Class 6: 0.0492, \n",
      "\n",
      "Overall Mean Dice Score: 0.0872\n",
      "Overall Mean F-beta Score: 0.0943\n",
      "\n",
      "Training Loss: 0.4926, Validation Loss: 0.4772, Validation F-beta: 0.0943\n",
      "Epoch 7/4000\n"
     ]
    },
    {
     "name": "stderr",
     "output_type": "stream",
     "text": [
      "Training: 100%|██████████| 72/72 [01:18<00:00,  1.09s/it, loss=0.481]\n",
      "Validation: 100%|██████████| 12/12 [00:09<00:00,  1.30it/s, loss=0.476]\n"
     ]
    },
    {
     "name": "stdout",
     "output_type": "stream",
     "text": [
      "Validation Dice Score\n",
      "Class 0: 0.9878, Class 1: 0.0000, Class 2: 0.0000, Class 3: 0.0000, Class 4: 0.3856, Class 5: 0.0003, Class 6: 0.0645, \n",
      "Validation F-beta Score\n",
      "Class 0: 0.9934, Class 1: 0.0000, Class 2: 0.0000, Class 3: 0.0000, Class 4: 0.4085, Class 5: 0.0002, Class 6: 0.0455, \n",
      "\n",
      "Overall Mean Dice Score: 0.0901\n",
      "Overall Mean F-beta Score: 0.0908\n",
      "\n",
      "Training Loss: 0.4805, Validation Loss: 0.4710, Validation F-beta: 0.0908\n",
      "Epoch 8/4000\n"
     ]
    },
    {
     "name": "stderr",
     "output_type": "stream",
     "text": [
      "Training: 100%|██████████| 72/72 [01:18<00:00,  1.08s/it, loss=0.472]\n",
      "Validation: 100%|██████████| 12/12 [00:09<00:00,  1.30it/s, loss=0.467]\n"
     ]
    },
    {
     "name": "stdout",
     "output_type": "stream",
     "text": [
      "Validation Dice Score\n",
      "Class 0: 0.9880, Class 1: 0.0000, Class 2: 0.0000, Class 3: 0.0002, Class 4: 0.3735, Class 5: 0.0126, Class 6: 0.0848, \n",
      "Validation F-beta Score\n",
      "Class 0: 0.9904, Class 1: 0.0000, Class 2: 0.0000, Class 3: 0.0001, Class 4: 0.4983, Class 5: 0.0070, Class 6: 0.0634, \n",
      "\n",
      "Overall Mean Dice Score: 0.0942\n",
      "Overall Mean F-beta Score: 0.1138\n",
      "\n",
      "Training Loss: 0.4729, Validation Loss: 0.4627, Validation F-beta: 0.1138\n",
      "========================================================\n",
      "SUPER Best model saved. Loss:0.4627, Score:0.1138\n",
      "========================================================\n",
      "Epoch 9/4000\n"
     ]
    },
    {
     "name": "stderr",
     "output_type": "stream",
     "text": [
      "Training: 100%|██████████| 72/72 [01:18<00:00,  1.09s/it, loss=0.468]\n",
      "Validation: 100%|██████████| 12/12 [00:09<00:00,  1.30it/s, loss=0.453]\n"
     ]
    },
    {
     "name": "stdout",
     "output_type": "stream",
     "text": [
      "Validation Dice Score\n",
      "Class 0: 0.9874, Class 1: 0.0001, Class 2: 0.0000, Class 3: 0.0018, Class 4: 0.4018, Class 5: 0.0651, Class 6: 0.1222, \n",
      "Validation F-beta Score\n",
      "Class 0: 0.9906, Class 1: 0.0001, Class 2: 0.0000, Class 3: 0.0010, Class 4: 0.4581, Class 5: 0.0386, Class 6: 0.1049, \n",
      "\n",
      "Overall Mean Dice Score: 0.1182\n",
      "Overall Mean F-beta Score: 0.1205\n",
      "\n",
      "Training Loss: 0.4656, Validation Loss: 0.4574, Validation F-beta: 0.1205\n",
      "========================================================\n",
      "SUPER Best model saved. Loss:0.4574, Score:0.1205\n",
      "========================================================\n",
      "Epoch 10/4000\n"
     ]
    },
    {
     "name": "stderr",
     "output_type": "stream",
     "text": [
      "Training: 100%|██████████| 72/72 [01:27<00:00,  1.22s/it, loss=0.466]\n",
      "Validation: 100%|██████████| 12/12 [00:09<00:00,  1.23it/s, loss=0.462]\n"
     ]
    },
    {
     "name": "stdout",
     "output_type": "stream",
     "text": [
      "Validation Dice Score\n",
      "Class 0: 0.9869, Class 1: 0.0000, Class 2: 0.0000, Class 3: 0.0000, Class 4: 0.3340, Class 5: 0.0367, Class 6: 0.1568, \n",
      "Validation F-beta Score\n",
      "Class 0: 0.9881, Class 1: 0.0000, Class 2: 0.0000, Class 3: 0.0000, Class 4: 0.4352, Class 5: 0.0212, Class 6: 0.2112, \n",
      "\n",
      "Overall Mean Dice Score: 0.1055\n",
      "Overall Mean F-beta Score: 0.1335\n",
      "\n",
      "Training Loss: 0.4581, Validation Loss: 0.4589, Validation F-beta: 0.1335\n",
      "Epoch 11/4000\n"
     ]
    },
    {
     "name": "stderr",
     "output_type": "stream",
     "text": [
      "Training: 100%|██████████| 72/72 [01:20<00:00,  1.12s/it, loss=0.451]\n",
      "Validation: 100%|██████████| 12/12 [00:09<00:00,  1.25it/s, loss=0.441]\n"
     ]
    },
    {
     "name": "stdout",
     "output_type": "stream",
     "text": [
      "Validation Dice Score\n",
      "Class 0: 0.9878, Class 1: 0.0000, Class 2: 0.0000, Class 3: 0.0007, Class 4: 0.3352, Class 5: 0.2835, Class 6: 0.3006, \n",
      "Validation F-beta Score\n",
      "Class 0: 0.9867, Class 1: 0.0000, Class 2: 0.0000, Class 3: 0.0004, Class 4: 0.3764, Class 5: 0.3241, Class 6: 0.3908, \n",
      "\n",
      "Overall Mean Dice Score: 0.1840\n",
      "Overall Mean F-beta Score: 0.2183\n",
      "\n",
      "Training Loss: 0.4532, Validation Loss: 0.4411, Validation F-beta: 0.2183\n",
      "========================================================\n",
      "SUPER Best model saved. Loss:0.4411, Score:0.2183\n",
      "========================================================\n",
      "Epoch 12/4000\n"
     ]
    },
    {
     "name": "stderr",
     "output_type": "stream",
     "text": [
      "Training: 100%|██████████| 72/72 [01:23<00:00,  1.16s/it, loss=0.44] \n",
      "Validation: 100%|██████████| 12/12 [00:09<00:00,  1.27it/s, loss=0.456]\n"
     ]
    },
    {
     "name": "stdout",
     "output_type": "stream",
     "text": [
      "Validation Dice Score\n",
      "Class 0: 0.9868, Class 1: 0.0000, Class 2: 0.0000, Class 3: 0.0001, Class 4: 0.2849, Class 5: 0.2773, Class 6: 0.3518, \n",
      "Validation F-beta Score\n",
      "Class 0: 0.9866, Class 1: 0.0000, Class 2: 0.0000, Class 3: 0.0000, Class 4: 0.2823, Class 5: 0.3447, Class 6: 0.5342, \n",
      "\n",
      "Overall Mean Dice Score: 0.1828\n",
      "Overall Mean F-beta Score: 0.2322\n",
      "\n",
      "Training Loss: 0.4456, Validation Loss: 0.4392, Validation F-beta: 0.2322\n",
      "========================================================\n",
      "SUPER Best model saved. Loss:0.4392, Score:0.2322\n",
      "========================================================\n",
      "Epoch 13/4000\n"
     ]
    },
    {
     "name": "stderr",
     "output_type": "stream",
     "text": [
      "Training: 100%|██████████| 72/72 [01:19<00:00,  1.10s/it, loss=0.45] \n",
      "Validation: 100%|██████████| 12/12 [00:09<00:00,  1.32it/s, loss=0.44] \n"
     ]
    },
    {
     "name": "stdout",
     "output_type": "stream",
     "text": [
      "Validation Dice Score\n",
      "Class 0: 0.9874, Class 1: 0.0000, Class 2: 0.0000, Class 3: 0.0001, Class 4: 0.3613, Class 5: 0.2808, Class 6: 0.4337, \n",
      "Validation F-beta Score\n",
      "Class 0: 0.9865, Class 1: 0.0000, Class 2: 0.0000, Class 3: 0.0001, Class 4: 0.2994, Class 5: 0.3813, Class 6: 0.6674, \n",
      "\n",
      "Overall Mean Dice Score: 0.2152\n",
      "Overall Mean F-beta Score: 0.2696\n",
      "\n",
      "Training Loss: 0.4388, Validation Loss: 0.4344, Validation F-beta: 0.2696\n",
      "========================================================\n",
      "SUPER Best model saved. Loss:0.4344, Score:0.2696\n",
      "========================================================\n",
      "Epoch 14/4000\n"
     ]
    },
    {
     "name": "stderr",
     "output_type": "stream",
     "text": [
      "Training: 100%|██████████| 72/72 [01:18<00:00,  1.09s/it, loss=0.431]\n",
      "Validation: 100%|██████████| 12/12 [00:09<00:00,  1.31it/s, loss=0.417]\n"
     ]
    },
    {
     "name": "stdout",
     "output_type": "stream",
     "text": [
      "Validation Dice Score\n",
      "Class 0: 0.9891, Class 1: 0.0000, Class 2: 0.0004, Class 3: 0.0033, Class 4: 0.5206, Class 5: 0.3485, Class 6: 0.6820, \n",
      "Validation F-beta Score\n",
      "Class 0: 0.9887, Class 1: 0.0000, Class 2: 0.0002, Class 3: 0.0018, Class 4: 0.5657, Class 5: 0.3797, Class 6: 0.7750, \n",
      "\n",
      "Overall Mean Dice Score: 0.3109\n",
      "Overall Mean F-beta Score: 0.3444\n",
      "\n",
      "Training Loss: 0.4304, Validation Loss: 0.4129, Validation F-beta: 0.3444\n",
      "========================================================\n",
      "SUPER Best model saved. Loss:0.4129, Score:0.3444\n",
      "========================================================\n",
      "Epoch 15/4000\n"
     ]
    },
    {
     "name": "stderr",
     "output_type": "stream",
     "text": [
      "Training: 100%|██████████| 72/72 [01:18<00:00,  1.09s/it, loss=0.433]\n",
      "Validation: 100%|██████████| 12/12 [00:09<00:00,  1.31it/s, loss=0.41] \n"
     ]
    },
    {
     "name": "stdout",
     "output_type": "stream",
     "text": [
      "Validation Dice Score\n",
      "Class 0: 0.9885, Class 1: 0.0000, Class 2: 0.0000, Class 3: 0.0000, Class 4: 0.5095, Class 5: 0.3526, Class 6: 0.6928, \n",
      "Validation F-beta Score\n",
      "Class 0: 0.9898, Class 1: 0.0000, Class 2: 0.0000, Class 3: 0.0000, Class 4: 0.4715, Class 5: 0.3845, Class 6: 0.7200, \n",
      "\n",
      "Overall Mean Dice Score: 0.3110\n",
      "Overall Mean F-beta Score: 0.3152\n",
      "\n",
      "Training Loss: 0.4258, Validation Loss: 0.4110, Validation F-beta: 0.3152\n",
      "Epoch 16/4000\n"
     ]
    },
    {
     "name": "stderr",
     "output_type": "stream",
     "text": [
      "Training: 100%|██████████| 72/72 [01:18<00:00,  1.09s/it, loss=0.421]\n",
      "Validation: 100%|██████████| 12/12 [00:09<00:00,  1.32it/s, loss=0.42] \n"
     ]
    },
    {
     "name": "stdout",
     "output_type": "stream",
     "text": [
      "Validation Dice Score\n",
      "Class 0: 0.9868, Class 1: 0.0001, Class 2: 0.0002, Class 3: 0.0099, Class 4: 0.4715, Class 5: 0.3413, Class 6: 0.7171, \n",
      "Validation F-beta Score\n",
      "Class 0: 0.9870, Class 1: 0.0000, Class 2: 0.0001, Class 3: 0.0056, Class 4: 0.4268, Class 5: 0.4306, Class 6: 0.8293, \n",
      "\n",
      "Overall Mean Dice Score: 0.3080\n",
      "Overall Mean F-beta Score: 0.3385\n",
      "\n",
      "Training Loss: 0.4200, Validation Loss: 0.4094, Validation F-beta: 0.3385\n",
      "Epoch 17/4000\n"
     ]
    },
    {
     "name": "stderr",
     "output_type": "stream",
     "text": [
      "Training: 100%|██████████| 72/72 [01:18<00:00,  1.09s/it, loss=0.407]\n",
      "Validation: 100%|██████████| 12/12 [00:09<00:00,  1.33it/s, loss=0.402]\n"
     ]
    },
    {
     "name": "stdout",
     "output_type": "stream",
     "text": [
      "Validation Dice Score\n",
      "Class 0: 0.9878, Class 1: 0.0000, Class 2: 0.0003, Class 3: 0.0396, Class 4: 0.3450, Class 5: 0.3326, Class 6: 0.7993, \n",
      "Validation F-beta Score\n",
      "Class 0: 0.9889, Class 1: 0.0000, Class 2: 0.0002, Class 3: 0.0261, Class 4: 0.2825, Class 5: 0.4437, Class 6: 0.8013, \n",
      "\n",
      "Overall Mean Dice Score: 0.3033\n",
      "Overall Mean F-beta Score: 0.3107\n",
      "\n",
      "Training Loss: 0.4147, Validation Loss: 0.4114, Validation F-beta: 0.3107\n",
      "Epoch 18/4000\n"
     ]
    },
    {
     "name": "stderr",
     "output_type": "stream",
     "text": [
      "Training: 100%|██████████| 72/72 [01:18<00:00,  1.08s/it, loss=0.418]\n",
      "Validation: 100%|██████████| 12/12 [00:10<00:00,  1.19it/s, loss=0.418]\n"
     ]
    },
    {
     "name": "stdout",
     "output_type": "stream",
     "text": [
      "Validation Dice Score\n",
      "Class 0: 0.9872, Class 1: 0.0000, Class 2: 0.0012, Class 3: 0.0806, Class 4: 0.4379, Class 5: 0.3660, Class 6: 0.7203, \n",
      "Validation F-beta Score\n",
      "Class 0: 0.9868, Class 1: 0.0000, Class 2: 0.0007, Class 3: 0.0674, Class 4: 0.3535, Class 5: 0.5063, Class 6: 0.8441, \n",
      "\n",
      "Overall Mean Dice Score: 0.3210\n",
      "Overall Mean F-beta Score: 0.3543\n",
      "\n",
      "Training Loss: 0.4112, Validation Loss: 0.4105, Validation F-beta: 0.3543\n",
      "========================================================\n",
      "SUPER Best model saved. Loss:0.4105, Score:0.3543\n",
      "========================================================\n",
      "Epoch 19/4000\n"
     ]
    },
    {
     "name": "stderr",
     "output_type": "stream",
     "text": [
      "Training: 100%|██████████| 72/72 [01:18<00:00,  1.08s/it, loss=0.408]\n",
      "Validation: 100%|██████████| 12/12 [00:09<00:00,  1.32it/s, loss=0.389]\n"
     ]
    },
    {
     "name": "stdout",
     "output_type": "stream",
     "text": [
      "Validation Dice Score\n",
      "Class 0: 0.9886, Class 1: 0.0000, Class 2: 0.0004, Class 3: 0.1608, Class 4: 0.4678, Class 5: 0.3367, Class 6: 0.6672, \n",
      "Validation F-beta Score\n",
      "Class 0: 0.9877, Class 1: 0.0000, Class 2: 0.0002, Class 3: 0.1784, Class 4: 0.3876, Class 5: 0.4596, Class 6: 0.8748, \n",
      "\n",
      "Overall Mean Dice Score: 0.3265\n",
      "Overall Mean F-beta Score: 0.3801\n",
      "\n",
      "Training Loss: 0.4086, Validation Loss: 0.4038, Validation F-beta: 0.3801\n",
      "========================================================\n",
      "SUPER Best model saved. Loss:0.4038, Score:0.3801\n",
      "========================================================\n",
      "Epoch 20/4000\n"
     ]
    },
    {
     "name": "stderr",
     "output_type": "stream",
     "text": [
      "Training: 100%|██████████| 72/72 [01:17<00:00,  1.08s/it, loss=0.403]\n",
      "Validation: 100%|██████████| 12/12 [00:09<00:00,  1.30it/s, loss=0.396]\n"
     ]
    },
    {
     "name": "stdout",
     "output_type": "stream",
     "text": [
      "Validation Dice Score\n",
      "Class 0: 0.9882, Class 1: 0.0000, Class 2: 0.0000, Class 3: 0.1676, Class 4: 0.5800, Class 5: 0.3715, Class 6: 0.7439, \n",
      "Validation F-beta Score\n",
      "Class 0: 0.9857, Class 1: 0.0000, Class 2: 0.0000, Class 3: 0.1400, Class 4: 0.6064, Class 5: 0.4896, Class 6: 0.8983, \n",
      "\n",
      "Overall Mean Dice Score: 0.3726\n",
      "Overall Mean F-beta Score: 0.4269\n",
      "\n",
      "Training Loss: 0.4062, Validation Loss: 0.3930, Validation F-beta: 0.4269\n",
      "========================================================\n",
      "SUPER Best model saved. Loss:0.3930, Score:0.4269\n",
      "========================================================\n",
      "Epoch 21/4000\n"
     ]
    },
    {
     "name": "stderr",
     "output_type": "stream",
     "text": [
      "Training: 100%|██████████| 72/72 [01:19<00:00,  1.11s/it, loss=0.409]\n",
      "Validation: 100%|██████████| 12/12 [00:09<00:00,  1.31it/s, loss=0.41] \n"
     ]
    },
    {
     "name": "stdout",
     "output_type": "stream",
     "text": [
      "Validation Dice Score\n",
      "Class 0: 0.9867, Class 1: 0.0001, Class 2: 0.0000, Class 3: 0.1763, Class 4: 0.5792, Class 5: 0.3659, Class 6: 0.7939, \n",
      "Validation F-beta Score\n",
      "Class 0: 0.9828, Class 1: 0.0000, Class 2: 0.0000, Class 3: 0.1827, Class 4: 0.6465, Class 5: 0.5153, Class 6: 0.8792, \n",
      "\n",
      "Overall Mean Dice Score: 0.3831\n",
      "Overall Mean F-beta Score: 0.4447\n",
      "\n",
      "Training Loss: 0.4022, Validation Loss: 0.3941, Validation F-beta: 0.4447\n",
      "Epoch 22/4000\n"
     ]
    },
    {
     "name": "stderr",
     "output_type": "stream",
     "text": [
      "Training: 100%|██████████| 72/72 [01:18<00:00,  1.10s/it, loss=0.392]\n",
      "Validation: 100%|██████████| 12/12 [00:09<00:00,  1.27it/s, loss=0.399]\n"
     ]
    },
    {
     "name": "stdout",
     "output_type": "stream",
     "text": [
      "Validation Dice Score\n",
      "Class 0: 0.9845, Class 1: 0.0001, Class 2: 0.0000, Class 3: 0.2100, Class 4: 0.5539, Class 5: 0.3613, Class 6: 0.6176, \n",
      "Validation F-beta Score\n",
      "Class 0: 0.9774, Class 1: 0.0001, Class 2: 0.0000, Class 3: 0.3256, Class 4: 0.6647, Class 5: 0.5215, Class 6: 0.8972, \n",
      "\n",
      "Overall Mean Dice Score: 0.3486\n",
      "Overall Mean F-beta Score: 0.4818\n",
      "\n",
      "Training Loss: 0.3977, Validation Loss: 0.4002, Validation F-beta: 0.4818\n",
      "Epoch 23/4000\n"
     ]
    },
    {
     "name": "stderr",
     "output_type": "stream",
     "text": [
      "Training: 100%|██████████| 72/72 [01:18<00:00,  1.09s/it, loss=0.39] \n",
      "Validation: 100%|██████████| 12/12 [00:09<00:00,  1.28it/s, loss=0.398]\n"
     ]
    },
    {
     "name": "stdout",
     "output_type": "stream",
     "text": [
      "Validation Dice Score\n",
      "Class 0: 0.9878, Class 1: 0.0006, Class 2: 0.0001, Class 3: 0.1936, Class 4: 0.5398, Class 5: 0.3495, Class 6: 0.6113, \n",
      "Validation F-beta Score\n",
      "Class 0: 0.9867, Class 1: 0.0003, Class 2: 0.0001, Class 3: 0.1772, Class 4: 0.5917, Class 5: 0.3163, Class 6: 0.8523, \n",
      "\n",
      "Overall Mean Dice Score: 0.3390\n",
      "Overall Mean F-beta Score: 0.3876\n",
      "\n",
      "Training Loss: 0.4031, Validation Loss: 0.3978, Validation F-beta: 0.3876\n",
      "Epoch 24/4000\n"
     ]
    },
    {
     "name": "stderr",
     "output_type": "stream",
     "text": [
      "Training: 100%|██████████| 72/72 [01:18<00:00,  1.09s/it, loss=0.385]\n",
      "Validation: 100%|██████████| 12/12 [00:09<00:00,  1.22it/s, loss=0.389]\n"
     ]
    },
    {
     "name": "stdout",
     "output_type": "stream",
     "text": [
      "Validation Dice Score\n",
      "Class 0: 0.9880, Class 1: 0.0006, Class 2: 0.0002, Class 3: 0.2463, Class 4: 0.4883, Class 5: 0.3751, Class 6: 0.5255, \n",
      "Validation F-beta Score\n",
      "Class 0: 0.9865, Class 1: 0.0003, Class 2: 0.0001, Class 3: 0.2627, Class 4: 0.4649, Class 5: 0.4181, Class 6: 0.8441, \n",
      "\n",
      "Overall Mean Dice Score: 0.3272\n",
      "Overall Mean F-beta Score: 0.3980\n",
      "\n",
      "Training Loss: 0.3986, Validation Loss: 0.3994, Validation F-beta: 0.3980\n",
      "Epoch 25/4000\n"
     ]
    },
    {
     "name": "stderr",
     "output_type": "stream",
     "text": [
      "Training: 100%|██████████| 72/72 [01:19<00:00,  1.11s/it, loss=0.388]\n",
      "Validation: 100%|██████████| 12/12 [00:09<00:00,  1.30it/s, loss=0.385]\n"
     ]
    },
    {
     "name": "stdout",
     "output_type": "stream",
     "text": [
      "Validation Dice Score\n",
      "Class 0: 0.9875, Class 1: 0.0021, Class 2: 0.0001, Class 3: 0.1557, Class 4: 0.5360, Class 5: 0.3869, Class 6: 0.6726, \n",
      "Validation F-beta Score\n",
      "Class 0: 0.9841, Class 1: 0.0011, Class 2: 0.0000, Class 3: 0.1541, Class 4: 0.5881, Class 5: 0.4874, Class 6: 0.9030, \n",
      "\n",
      "Overall Mean Dice Score: 0.3507\n",
      "Overall Mean F-beta Score: 0.4268\n",
      "\n",
      "Training Loss: 0.3939, Validation Loss: 0.3950, Validation F-beta: 0.4268\n",
      "Epoch 26/4000\n"
     ]
    },
    {
     "name": "stderr",
     "output_type": "stream",
     "text": [
      "Training: 100%|██████████| 72/72 [01:18<00:00,  1.09s/it, loss=0.395]\n",
      "Validation: 100%|██████████| 12/12 [00:09<00:00,  1.30it/s, loss=0.366]\n"
     ]
    },
    {
     "name": "stdout",
     "output_type": "stream",
     "text": [
      "Validation Dice Score\n",
      "Class 0: 0.9876, Class 1: 0.0028, Class 2: 0.0000, Class 3: 0.3057, Class 4: 0.6047, Class 5: 0.4223, Class 6: 0.8303, \n",
      "Validation F-beta Score\n",
      "Class 0: 0.9870, Class 1: 0.0015, Class 2: 0.0000, Class 3: 0.4271, Class 4: 0.6216, Class 5: 0.4428, Class 6: 0.8640, \n",
      "\n",
      "Overall Mean Dice Score: 0.4332\n",
      "Overall Mean F-beta Score: 0.4714\n",
      "\n",
      "Training Loss: 0.3939, Validation Loss: 0.3768, Validation F-beta: 0.4714\n",
      "========================================================\n",
      "SUPER Best model saved. Loss:0.3768, Score:0.4714\n",
      "========================================================\n",
      "Epoch 27/4000\n"
     ]
    },
    {
     "name": "stderr",
     "output_type": "stream",
     "text": [
      "Training: 100%|██████████| 72/72 [01:18<00:00,  1.09s/it, loss=0.391]\n",
      "Validation: 100%|██████████| 12/12 [00:09<00:00,  1.30it/s, loss=0.392]\n"
     ]
    },
    {
     "name": "stdout",
     "output_type": "stream",
     "text": [
      "Validation Dice Score\n",
      "Class 0: 0.9886, Class 1: 0.0111, Class 2: 0.0006, Class 3: 0.2556, Class 4: 0.5757, Class 5: 0.3922, Class 6: 0.7510, \n",
      "Validation F-beta Score\n",
      "Class 0: 0.9883, Class 1: 0.0067, Class 2: 0.0003, Class 3: 0.4479, Class 4: 0.5295, Class 5: 0.4233, Class 6: 0.9081, \n",
      "\n",
      "Overall Mean Dice Score: 0.3971\n",
      "Overall Mean F-beta Score: 0.4631\n",
      "\n",
      "Training Loss: 0.3907, Validation Loss: 0.3824, Validation F-beta: 0.4631\n",
      "Epoch 28/4000\n"
     ]
    },
    {
     "name": "stderr",
     "output_type": "stream",
     "text": [
      "Training: 100%|██████████| 72/72 [01:19<00:00,  1.11s/it, loss=0.367]\n",
      "Validation: 100%|██████████| 12/12 [00:09<00:00,  1.31it/s, loss=0.398]\n"
     ]
    },
    {
     "name": "stdout",
     "output_type": "stream",
     "text": [
      "Validation Dice Score\n",
      "Class 0: 0.9877, Class 1: 0.0387, Class 2: 0.0029, Class 3: 0.2247, Class 4: 0.5916, Class 5: 0.3809, Class 6: 0.7573, \n",
      "Validation F-beta Score\n",
      "Class 0: 0.9844, Class 1: 0.0251, Class 2: 0.0017, Class 3: 0.4799, Class 4: 0.6096, Class 5: 0.4780, Class 6: 0.9244, \n",
      "\n",
      "Overall Mean Dice Score: 0.3987\n",
      "Overall Mean F-beta Score: 0.5034\n",
      "\n",
      "Training Loss: 0.3882, Validation Loss: 0.3829, Validation F-beta: 0.5034\n",
      "Epoch 29/4000\n"
     ]
    },
    {
     "name": "stderr",
     "output_type": "stream",
     "text": [
      "Training: 100%|██████████| 72/72 [01:18<00:00,  1.09s/it, loss=0.41] \n",
      "Validation: 100%|██████████| 12/12 [00:09<00:00,  1.33it/s, loss=0.381]\n"
     ]
    },
    {
     "name": "stdout",
     "output_type": "stream",
     "text": [
      "Validation Dice Score\n",
      "Class 0: 0.9855, Class 1: 0.1138, Class 2: 0.0023, Class 3: 0.2676, Class 4: 0.5771, Class 5: 0.3761, Class 6: 0.8257, \n",
      "Validation F-beta Score\n",
      "Class 0: 0.9810, Class 1: 0.0759, Class 2: 0.0012, Class 3: 0.4227, Class 4: 0.7279, Class 5: 0.3858, Class 6: 0.9156, \n",
      "\n",
      "Overall Mean Dice Score: 0.4320\n",
      "Overall Mean F-beta Score: 0.5056\n",
      "\n",
      "Training Loss: 0.3858, Validation Loss: 0.3832, Validation F-beta: 0.5056\n",
      "Epoch 30/4000\n"
     ]
    },
    {
     "name": "stderr",
     "output_type": "stream",
     "text": [
      "Training: 100%|██████████| 72/72 [01:20<00:00,  1.12s/it, loss=0.373]\n",
      "Validation: 100%|██████████| 12/12 [00:09<00:00,  1.32it/s, loss=0.356]\n"
     ]
    },
    {
     "name": "stdout",
     "output_type": "stream",
     "text": [
      "Validation Dice Score\n",
      "Class 0: 0.9896, Class 1: 0.2113, Class 2: 0.0038, Class 3: 0.2514, Class 4: 0.5648, Class 5: 0.3713, Class 6: 0.7782, \n",
      "Validation F-beta Score\n",
      "Class 0: 0.9887, Class 1: 0.2220, Class 2: 0.0021, Class 3: 0.4010, Class 4: 0.5879, Class 5: 0.3552, Class 6: 0.9263, \n",
      "\n",
      "Overall Mean Dice Score: 0.4354\n",
      "Overall Mean F-beta Score: 0.4985\n",
      "\n",
      "Training Loss: 0.3849, Validation Loss: 0.3773, Validation F-beta: 0.4985\n",
      "Epoch 31/4000\n"
     ]
    },
    {
     "name": "stderr",
     "output_type": "stream",
     "text": [
      "Training: 100%|██████████| 72/72 [01:20<00:00,  1.11s/it, loss=0.371]\n",
      "Validation: 100%|██████████| 12/12 [00:09<00:00,  1.21it/s, loss=0.362]\n"
     ]
    },
    {
     "name": "stdout",
     "output_type": "stream",
     "text": [
      "Validation Dice Score\n",
      "Class 0: 0.9874, Class 1: 0.3109, Class 2: 0.0021, Class 3: 0.2720, Class 4: 0.5747, Class 5: 0.3892, Class 6: 0.6954, \n",
      "Validation F-beta Score\n",
      "Class 0: 0.9846, Class 1: 0.3384, Class 2: 0.0012, Class 3: 0.3782, Class 4: 0.6804, Class 5: 0.3953, Class 6: 0.9245, \n",
      "\n",
      "Overall Mean Dice Score: 0.4484\n",
      "Overall Mean F-beta Score: 0.5434\n",
      "\n",
      "Training Loss: 0.3795, Validation Loss: 0.3763, Validation F-beta: 0.5434\n",
      "========================================================\n",
      "SUPER Best model saved. Loss:0.3763, Score:0.5434\n",
      "========================================================\n",
      "Epoch 32/4000\n"
     ]
    },
    {
     "name": "stderr",
     "output_type": "stream",
     "text": [
      "Training: 100%|██████████| 72/72 [01:19<00:00,  1.10s/it, loss=0.367]\n",
      "Validation: 100%|██████████| 12/12 [00:09<00:00,  1.28it/s, loss=0.375]\n"
     ]
    },
    {
     "name": "stdout",
     "output_type": "stream",
     "text": [
      "Validation Dice Score\n",
      "Class 0: 0.9890, Class 1: 0.2801, Class 2: 0.0019, Class 3: 0.2695, Class 4: 0.4807, Class 5: 0.3478, Class 6: 0.5416, \n",
      "Validation F-beta Score\n",
      "Class 0: 0.9876, Class 1: 0.5307, Class 2: 0.0010, Class 3: 0.3112, Class 4: 0.4543, Class 5: 0.3308, Class 6: 0.8625, \n",
      "\n",
      "Overall Mean Dice Score: 0.3839\n",
      "Overall Mean F-beta Score: 0.4979\n",
      "\n",
      "Training Loss: 0.3765, Validation Loss: 0.3920, Validation F-beta: 0.4979\n",
      "Epoch 33/4000\n"
     ]
    },
    {
     "name": "stderr",
     "output_type": "stream",
     "text": [
      "Training: 100%|██████████| 72/72 [01:18<00:00,  1.09s/it, loss=0.372]\n",
      "Validation: 100%|██████████| 12/12 [00:09<00:00,  1.29it/s, loss=0.395]\n"
     ]
    },
    {
     "name": "stdout",
     "output_type": "stream",
     "text": [
      "Validation Dice Score\n",
      "Class 0: 0.9884, Class 1: 0.3878, Class 2: 0.0015, Class 3: 0.2676, Class 4: 0.5831, Class 5: 0.3810, Class 6: 0.7549, \n",
      "Validation F-beta Score\n",
      "Class 0: 0.9863, Class 1: 0.6032, Class 2: 0.0008, Class 3: 0.5090, Class 4: 0.5717, Class 5: 0.4307, Class 6: 0.9056, \n",
      "\n",
      "Overall Mean Dice Score: 0.4749\n",
      "Overall Mean F-beta Score: 0.6040\n",
      "\n",
      "Training Loss: 0.3765, Validation Loss: 0.3701, Validation F-beta: 0.6040\n",
      "========================================================\n",
      "SUPER Best model saved. Loss:0.3701, Score:0.6040\n",
      "========================================================\n",
      "Epoch 34/4000\n"
     ]
    },
    {
     "name": "stderr",
     "output_type": "stream",
     "text": [
      "Training: 100%|██████████| 72/72 [01:19<00:00,  1.11s/it, loss=0.375]\n",
      "Validation: 100%|██████████| 12/12 [00:09<00:00,  1.31it/s, loss=0.376]\n"
     ]
    },
    {
     "name": "stdout",
     "output_type": "stream",
     "text": [
      "Validation Dice Score\n",
      "Class 0: 0.9864, Class 1: 0.5334, Class 2: 0.0004, Class 3: 0.2718, Class 4: 0.6059, Class 5: 0.3885, Class 6: 0.8181, \n",
      "Validation F-beta Score\n",
      "Class 0: 0.9805, Class 1: 0.6789, Class 2: 0.0002, Class 3: 0.4455, Class 4: 0.7208, Class 5: 0.5391, Class 6: 0.9326, \n",
      "\n",
      "Overall Mean Dice Score: 0.5235\n",
      "Overall Mean F-beta Score: 0.6634\n",
      "\n",
      "Training Loss: 0.3715, Validation Loss: 0.3639, Validation F-beta: 0.6634\n",
      "========================================================\n",
      "SUPER Best model saved. Loss:0.3639, Score:0.6634\n",
      "========================================================\n",
      "Epoch 35/4000\n"
     ]
    },
    {
     "name": "stderr",
     "output_type": "stream",
     "text": [
      "Training: 100%|██████████| 72/72 [01:18<00:00,  1.09s/it, loss=0.369]\n",
      "Validation: 100%|██████████| 12/12 [00:09<00:00,  1.33it/s, loss=0.339]\n"
     ]
    },
    {
     "name": "stdout",
     "output_type": "stream",
     "text": [
      "Validation Dice Score\n",
      "Class 0: 0.9884, Class 1: 0.5355, Class 2: 0.0002, Class 3: 0.3166, Class 4: 0.6308, Class 5: 0.4089, Class 6: 0.8541, \n",
      "Validation F-beta Score\n",
      "Class 0: 0.9854, Class 1: 0.4861, Class 2: 0.0001, Class 3: 0.4489, Class 4: 0.7266, Class 5: 0.4588, Class 6: 0.9298, \n",
      "\n",
      "Overall Mean Dice Score: 0.5492\n",
      "Overall Mean F-beta Score: 0.6100\n",
      "\n",
      "Training Loss: 0.3662, Validation Loss: 0.3491, Validation F-beta: 0.6100\n",
      "Epoch 36/4000\n"
     ]
    },
    {
     "name": "stderr",
     "output_type": "stream",
     "text": [
      "Training: 100%|██████████| 72/72 [01:18<00:00,  1.09s/it, loss=0.363]\n",
      "Validation: 100%|██████████| 12/12 [00:09<00:00,  1.33it/s, loss=0.363]\n"
     ]
    },
    {
     "name": "stdout",
     "output_type": "stream",
     "text": [
      "Validation Dice Score\n",
      "Class 0: 0.9883, Class 1: 0.5623, Class 2: 0.0009, Class 3: 0.2974, Class 4: 0.5434, Class 5: 0.3966, Class 6: 0.8571, \n",
      "Validation F-beta Score\n",
      "Class 0: 0.9892, Class 1: 0.5614, Class 2: 0.0005, Class 3: 0.4389, Class 4: 0.4525, Class 5: 0.4802, Class 6: 0.8197, \n",
      "\n",
      "Overall Mean Dice Score: 0.5314\n",
      "Overall Mean F-beta Score: 0.5505\n",
      "\n",
      "Training Loss: 0.3671, Validation Loss: 0.3616, Validation F-beta: 0.5505\n",
      "Epoch 37/4000\n"
     ]
    },
    {
     "name": "stderr",
     "output_type": "stream",
     "text": [
      "Training: 100%|██████████| 72/72 [01:19<00:00,  1.10s/it, loss=0.365]\n",
      "Validation: 100%|██████████| 12/12 [00:09<00:00,  1.31it/s, loss=0.34] \n"
     ]
    },
    {
     "name": "stdout",
     "output_type": "stream",
     "text": [
      "Validation Dice Score\n",
      "Class 0: 0.9886, Class 1: 0.5258, Class 2: 0.0018, Class 3: 0.3253, Class 4: 0.5643, Class 5: 0.3816, Class 6: 0.8410, \n",
      "Validation F-beta Score\n",
      "Class 0: 0.9886, Class 1: 0.5067, Class 2: 0.0009, Class 3: 0.4599, Class 4: 0.5003, Class 5: 0.4576, Class 6: 0.8854, \n",
      "\n",
      "Overall Mean Dice Score: 0.5276\n",
      "Overall Mean F-beta Score: 0.5620\n",
      "\n",
      "Training Loss: 0.3640, Validation Loss: 0.3612, Validation F-beta: 0.5620\n",
      "Epoch 38/4000\n"
     ]
    },
    {
     "name": "stderr",
     "output_type": "stream",
     "text": [
      "Training: 100%|██████████| 72/72 [01:20<00:00,  1.11s/it, loss=0.354]\n",
      "Validation: 100%|██████████| 12/12 [00:09<00:00,  1.31it/s, loss=0.352]\n"
     ]
    },
    {
     "name": "stdout",
     "output_type": "stream",
     "text": [
      "Validation Dice Score\n",
      "Class 0: 0.9896, Class 1: 0.6099, Class 2: 0.0031, Class 3: 0.3648, Class 4: 0.5719, Class 5: 0.4154, Class 6: 0.8177, \n",
      "Validation F-beta Score\n",
      "Class 0: 0.9910, Class 1: 0.7241, Class 2: 0.0017, Class 3: 0.4201, Class 4: 0.5047, Class 5: 0.4303, Class 6: 0.9189, \n",
      "\n",
      "Overall Mean Dice Score: 0.5560\n",
      "Overall Mean F-beta Score: 0.5996\n",
      "\n",
      "Training Loss: 0.3653, Validation Loss: 0.3484, Validation F-beta: 0.5996\n",
      "Epoch 39/4000\n"
     ]
    },
    {
     "name": "stderr",
     "output_type": "stream",
     "text": [
      "Training: 100%|██████████| 72/72 [01:18<00:00,  1.09s/it, loss=0.368]\n",
      "Validation: 100%|██████████| 12/12 [00:09<00:00,  1.29it/s, loss=0.339]\n"
     ]
    },
    {
     "name": "stdout",
     "output_type": "stream",
     "text": [
      "Validation Dice Score\n",
      "Class 0: 0.9897, Class 1: 0.6270, Class 2: 0.0058, Class 3: 0.2732, Class 4: 0.5689, Class 5: 0.3986, Class 6: 0.8202, \n",
      "Validation F-beta Score\n",
      "Class 0: 0.9896, Class 1: 0.7820, Class 2: 0.0032, Class 3: 0.4971, Class 4: 0.5044, Class 5: 0.4245, Class 6: 0.9228, \n",
      "\n",
      "Overall Mean Dice Score: 0.5376\n",
      "Overall Mean F-beta Score: 0.6262\n",
      "\n",
      "Training Loss: 0.3628, Validation Loss: 0.3557, Validation F-beta: 0.6262\n",
      "Epoch 40/4000\n"
     ]
    },
    {
     "name": "stderr",
     "output_type": "stream",
     "text": [
      "Training: 100%|██████████| 72/72 [01:28<00:00,  1.24s/it, loss=0.376]\n",
      "Validation: 100%|██████████| 12/12 [00:09<00:00,  1.22it/s, loss=0.337]\n"
     ]
    },
    {
     "name": "stdout",
     "output_type": "stream",
     "text": [
      "Validation Dice Score\n",
      "Class 0: 0.9891, Class 1: 0.6427, Class 2: 0.0075, Class 3: 0.3012, Class 4: 0.6676, Class 5: 0.4533, Class 6: 0.8175, \n",
      "Validation F-beta Score\n",
      "Class 0: 0.9866, Class 1: 0.7746, Class 2: 0.0041, Class 3: 0.3961, Class 4: 0.6793, Class 5: 0.5677, Class 6: 0.9288, \n",
      "\n",
      "Overall Mean Dice Score: 0.5765\n",
      "Overall Mean F-beta Score: 0.6693\n",
      "\n",
      "Training Loss: 0.3605, Validation Loss: 0.3450, Validation F-beta: 0.6693\n",
      "========================================================\n",
      "SUPER Best model saved. Loss:0.3450, Score:0.6693\n",
      "========================================================\n",
      "Epoch 41/4000\n"
     ]
    },
    {
     "name": "stderr",
     "output_type": "stream",
     "text": [
      "Training: 100%|██████████| 72/72 [01:22<00:00,  1.15s/it, loss=0.351]\n",
      "Validation: 100%|██████████| 12/12 [00:09<00:00,  1.25it/s, loss=0.355]\n"
     ]
    },
    {
     "name": "stdout",
     "output_type": "stream",
     "text": [
      "Validation Dice Score\n",
      "Class 0: 0.9889, Class 1: 0.6524, Class 2: 0.0180, Class 3: 0.3006, Class 4: 0.6569, Class 5: 0.4382, Class 6: 0.8417, \n",
      "Validation F-beta Score\n",
      "Class 0: 0.9860, Class 1: 0.7555, Class 2: 0.0102, Class 3: 0.5022, Class 4: 0.7002, Class 5: 0.5311, Class 6: 0.9310, \n",
      "\n",
      "Overall Mean Dice Score: 0.5780\n",
      "Overall Mean F-beta Score: 0.6840\n",
      "\n",
      "Training Loss: 0.3565, Validation Loss: 0.3437, Validation F-beta: 0.6840\n",
      "========================================================\n",
      "SUPER Best model saved. Loss:0.3437, Score:0.6840\n",
      "========================================================\n",
      "Epoch 42/4000\n"
     ]
    },
    {
     "name": "stderr",
     "output_type": "stream",
     "text": [
      "Training: 100%|██████████| 72/72 [01:22<00:00,  1.14s/it, loss=0.361]\n",
      "Validation: 100%|██████████| 12/12 [00:09<00:00,  1.27it/s, loss=0.368]\n"
     ]
    },
    {
     "name": "stdout",
     "output_type": "stream",
     "text": [
      "Validation Dice Score\n",
      "Class 0: 0.9890, Class 1: 0.6957, Class 2: 0.0424, Class 3: 0.2600, Class 4: 0.6556, Class 5: 0.4183, Class 6: 0.8451, \n",
      "Validation F-beta Score\n",
      "Class 0: 0.9861, Class 1: 0.7864, Class 2: 0.0265, Class 3: 0.5103, Class 4: 0.6858, Class 5: 0.4872, Class 6: 0.9363, \n",
      "\n",
      "Overall Mean Dice Score: 0.5749\n",
      "Overall Mean F-beta Score: 0.6812\n",
      "\n",
      "Training Loss: 0.3572, Validation Loss: 0.3444, Validation F-beta: 0.6812\n",
      "Epoch 43/4000\n"
     ]
    },
    {
     "name": "stderr",
     "output_type": "stream",
     "text": [
      "Training: 100%|██████████| 72/72 [01:22<00:00,  1.15s/it, loss=0.356]\n",
      "Validation: 100%|██████████| 12/12 [00:09<00:00,  1.28it/s, loss=0.352]\n"
     ]
    },
    {
     "name": "stdout",
     "output_type": "stream",
     "text": [
      "Validation Dice Score\n",
      "Class 0: 0.9871, Class 1: 0.6823, Class 2: 0.0279, Class 3: 0.3176, Class 4: 0.5994, Class 5: 0.4299, Class 6: 0.7997, \n",
      "Validation F-beta Score\n",
      "Class 0: 0.9816, Class 1: 0.7858, Class 2: 0.0171, Class 3: 0.5233, Class 4: 0.7990, Class 5: 0.4754, Class 6: 0.9440, \n",
      "\n",
      "Overall Mean Dice Score: 0.5658\n",
      "Overall Mean F-beta Score: 0.7055\n",
      "\n",
      "Training Loss: 0.3579, Validation Loss: 0.3456, Validation F-beta: 0.7055\n",
      "Epoch 44/4000\n"
     ]
    },
    {
     "name": "stderr",
     "output_type": "stream",
     "text": [
      "Training: 100%|██████████| 72/72 [01:20<00:00,  1.12s/it, loss=0.362]\n",
      "Validation: 100%|██████████| 12/12 [00:10<00:00,  1.13it/s, loss=0.333]\n"
     ]
    },
    {
     "name": "stdout",
     "output_type": "stream",
     "text": [
      "Validation Dice Score\n",
      "Class 0: 0.9899, Class 1: 0.5639, Class 2: 0.0391, Class 3: 0.3342, Class 4: 0.6698, Class 5: 0.4309, Class 6: 0.8313, \n",
      "Validation F-beta Score\n",
      "Class 0: 0.9895, Class 1: 0.7813, Class 2: 0.0239, Class 3: 0.4172, Class 4: 0.6666, Class 5: 0.4398, Class 6: 0.9118, \n",
      "\n",
      "Overall Mean Dice Score: 0.5660\n",
      "Overall Mean F-beta Score: 0.6433\n",
      "\n",
      "Training Loss: 0.3593, Validation Loss: 0.3468, Validation F-beta: 0.6433\n",
      "Epoch 45/4000\n"
     ]
    },
    {
     "name": "stderr",
     "output_type": "stream",
     "text": [
      "Training: 100%|██████████| 72/72 [01:17<00:00,  1.08s/it, loss=0.376]\n",
      "Validation: 100%|██████████| 12/12 [00:09<00:00,  1.33it/s, loss=0.341]\n"
     ]
    },
    {
     "name": "stdout",
     "output_type": "stream",
     "text": [
      "Validation Dice Score\n",
      "Class 0: 0.9893, Class 1: 0.6688, Class 2: 0.0775, Class 3: 0.3812, Class 4: 0.5933, Class 5: 0.4290, Class 6: 0.8511, \n",
      "Validation F-beta Score\n",
      "Class 0: 0.9885, Class 1: 0.8290, Class 2: 0.0529, Class 3: 0.4300, Class 4: 0.5611, Class 5: 0.5138, Class 6: 0.9208, \n",
      "\n",
      "Overall Mean Dice Score: 0.5847\n",
      "Overall Mean F-beta Score: 0.6509\n",
      "\n",
      "Training Loss: 0.3539, Validation Loss: 0.3401, Validation F-beta: 0.6509\n",
      "Epoch 46/4000\n"
     ]
    },
    {
     "name": "stderr",
     "output_type": "stream",
     "text": [
      "Training: 100%|██████████| 72/72 [01:17<00:00,  1.08s/it, loss=0.345]\n",
      "Validation: 100%|██████████| 12/12 [00:09<00:00,  1.30it/s, loss=0.319]\n"
     ]
    },
    {
     "name": "stdout",
     "output_type": "stream",
     "text": [
      "Validation Dice Score\n",
      "Class 0: 0.9900, Class 1: 0.6933, Class 2: 0.0925, Class 3: 0.3417, Class 4: 0.6856, Class 5: 0.4686, Class 6: 0.8587, \n",
      "Validation F-beta Score\n",
      "Class 0: 0.9884, Class 1: 0.7695, Class 2: 0.0610, Class 3: 0.4870, Class 4: 0.6911, Class 5: 0.5488, Class 6: 0.9335, \n",
      "\n",
      "Overall Mean Dice Score: 0.6096\n",
      "Overall Mean F-beta Score: 0.6860\n",
      "\n",
      "Training Loss: 0.3514, Validation Loss: 0.3299, Validation F-beta: 0.6860\n",
      "========================================================\n",
      "SUPER Best model saved. Loss:0.3299, Score:0.6860\n",
      "========================================================\n",
      "Epoch 47/4000\n"
     ]
    },
    {
     "name": "stderr",
     "output_type": "stream",
     "text": [
      "Training: 100%|██████████| 72/72 [01:17<00:00,  1.08s/it, loss=0.351]\n",
      "Validation: 100%|██████████| 12/12 [00:09<00:00,  1.31it/s, loss=0.335]\n"
     ]
    },
    {
     "name": "stdout",
     "output_type": "stream",
     "text": [
      "Validation Dice Score\n",
      "Class 0: 0.9886, Class 1: 0.6826, Class 2: 0.0970, Class 3: 0.2916, Class 4: 0.6244, Class 5: 0.4329, Class 6: 0.8847, \n",
      "Validation F-beta Score\n",
      "Class 0: 0.9847, Class 1: 0.6867, Class 2: 0.0676, Class 3: 0.3266, Class 4: 0.7231, Class 5: 0.5814, Class 6: 0.8973, \n",
      "\n",
      "Overall Mean Dice Score: 0.5832\n",
      "Overall Mean F-beta Score: 0.6430\n",
      "\n",
      "Training Loss: 0.3534, Validation Loss: 0.3438, Validation F-beta: 0.6430\n",
      "Epoch 48/4000\n"
     ]
    },
    {
     "name": "stderr",
     "output_type": "stream",
     "text": [
      "Training: 100%|██████████| 72/72 [01:24<00:00,  1.17s/it, loss=0.354]\n",
      "Validation: 100%|██████████| 12/12 [00:09<00:00,  1.26it/s, loss=0.345]\n"
     ]
    },
    {
     "name": "stdout",
     "output_type": "stream",
     "text": [
      "Validation Dice Score\n",
      "Class 0: 0.9897, Class 1: 0.6822, Class 2: 0.1482, Class 3: 0.3359, Class 4: 0.6840, Class 5: 0.4474, Class 6: 0.8493, \n",
      "Validation F-beta Score\n",
      "Class 0: 0.9873, Class 1: 0.7485, Class 2: 0.1168, Class 3: 0.4197, Class 4: 0.7086, Class 5: 0.5499, Class 6: 0.9361, \n",
      "\n",
      "Overall Mean Dice Score: 0.5998\n",
      "Overall Mean F-beta Score: 0.6726\n",
      "\n",
      "Training Loss: 0.3537, Validation Loss: 0.3331, Validation F-beta: 0.6726\n",
      "Epoch 49/4000\n"
     ]
    },
    {
     "name": "stderr",
     "output_type": "stream",
     "text": [
      "Training: 100%|██████████| 72/72 [01:21<00:00,  1.14s/it, loss=0.348]\n",
      "Validation: 100%|██████████| 12/12 [00:09<00:00,  1.27it/s, loss=0.348]\n"
     ]
    },
    {
     "name": "stdout",
     "output_type": "stream",
     "text": [
      "Validation Dice Score\n",
      "Class 0: 0.9889, Class 1: 0.5310, Class 2: 0.1984, Class 3: 0.3226, Class 4: 0.6293, Class 5: 0.4257, Class 6: 0.7797, \n",
      "Validation F-beta Score\n",
      "Class 0: 0.9861, Class 1: 0.8328, Class 2: 0.1740, Class 3: 0.4264, Class 4: 0.7032, Class 5: 0.4521, Class 6: 0.9428, \n",
      "\n",
      "Overall Mean Dice Score: 0.5376\n",
      "Overall Mean F-beta Score: 0.6714\n",
      "\n",
      "Training Loss: 0.3505, Validation Loss: 0.3451, Validation F-beta: 0.6714\n",
      "Epoch 50/4000\n"
     ]
    },
    {
     "name": "stderr",
     "output_type": "stream",
     "text": [
      "Training: 100%|██████████| 72/72 [01:22<00:00,  1.14s/it, loss=0.353]\n",
      "Validation: 100%|██████████| 12/12 [00:09<00:00,  1.22it/s, loss=0.348]\n"
     ]
    },
    {
     "name": "stdout",
     "output_type": "stream",
     "text": [
      "Validation Dice Score\n",
      "Class 0: 0.9890, Class 1: 0.6979, Class 2: 0.1834, Class 3: 0.3390, Class 4: 0.6407, Class 5: 0.4337, Class 6: 0.7799, \n",
      "Validation F-beta Score\n",
      "Class 0: 0.9855, Class 1: 0.8218, Class 2: 0.1860, Class 3: 0.4541, Class 4: 0.7384, Class 5: 0.4927, Class 6: 0.9387, \n",
      "\n",
      "Overall Mean Dice Score: 0.5782\n",
      "Overall Mean F-beta Score: 0.6891\n",
      "\n",
      "Training Loss: 0.3534, Validation Loss: 0.3371, Validation F-beta: 0.6891\n",
      "Epoch 51/4000\n"
     ]
    },
    {
     "name": "stderr",
     "output_type": "stream",
     "text": [
      "Training: 100%|██████████| 72/72 [01:23<00:00,  1.16s/it, loss=0.327]\n",
      "Validation: 100%|██████████| 12/12 [00:09<00:00,  1.26it/s, loss=0.322]\n"
     ]
    },
    {
     "name": "stdout",
     "output_type": "stream",
     "text": [
      "Validation Dice Score\n",
      "Class 0: 0.9884, Class 1: 0.7041, Class 2: 0.1719, Class 3: 0.2829, Class 4: 0.6351, Class 5: 0.4569, Class 6: 0.8482, \n",
      "Validation F-beta Score\n",
      "Class 0: 0.9838, Class 1: 0.8090, Class 2: 0.1636, Class 3: 0.4204, Class 4: 0.7403, Class 5: 0.5867, Class 6: 0.9536, \n",
      "\n",
      "Overall Mean Dice Score: 0.5854\n",
      "Overall Mean F-beta Score: 0.7020\n",
      "\n",
      "Training Loss: 0.3490, Validation Loss: 0.3365, Validation F-beta: 0.7020\n",
      "Epoch 52/4000\n"
     ]
    },
    {
     "name": "stderr",
     "output_type": "stream",
     "text": [
      "Training: 100%|██████████| 72/72 [01:25<00:00,  1.18s/it, loss=0.342]\n",
      "Validation: 100%|██████████| 12/12 [00:09<00:00,  1.24it/s, loss=0.333]\n"
     ]
    },
    {
     "name": "stdout",
     "output_type": "stream",
     "text": [
      "Validation Dice Score\n",
      "Class 0: 0.9873, Class 1: 0.6766, Class 2: 0.2199, Class 3: 0.2953, Class 4: 0.6315, Class 5: 0.4499, Class 6: 0.8154, \n",
      "Validation F-beta Score\n",
      "Class 0: 0.9818, Class 1: 0.8277, Class 2: 0.1844, Class 3: 0.3465, Class 4: 0.7852, Class 5: 0.5802, Class 6: 0.9512, \n",
      "\n",
      "Overall Mean Dice Score: 0.5737\n",
      "Overall Mean F-beta Score: 0.6982\n",
      "\n",
      "Training Loss: 0.3493, Validation Loss: 0.3403, Validation F-beta: 0.6982\n",
      "Epoch 53/4000\n"
     ]
    },
    {
     "name": "stderr",
     "output_type": "stream",
     "text": [
      "Training: 100%|██████████| 72/72 [01:23<00:00,  1.16s/it, loss=0.36] \n",
      "Validation: 100%|██████████| 12/12 [00:09<00:00,  1.33it/s, loss=0.354]\n"
     ]
    },
    {
     "name": "stdout",
     "output_type": "stream",
     "text": [
      "Validation Dice Score\n",
      "Class 0: 0.9889, Class 1: 0.6278, Class 2: 0.2465, Class 3: 0.3272, Class 4: 0.6780, Class 5: 0.4356, Class 6: 0.8633, \n",
      "Validation F-beta Score\n",
      "Class 0: 0.9854, Class 1: 0.8409, Class 2: 0.2104, Class 3: 0.3945, Class 4: 0.7725, Class 5: 0.5249, Class 6: 0.9473, \n",
      "\n",
      "Overall Mean Dice Score: 0.5864\n",
      "Overall Mean F-beta Score: 0.6960\n",
      "\n",
      "Training Loss: 0.3494, Validation Loss: 0.3371, Validation F-beta: 0.6960\n",
      "Epoch 54/4000\n"
     ]
    },
    {
     "name": "stderr",
     "output_type": "stream",
     "text": [
      "Training: 100%|██████████| 72/72 [01:18<00:00,  1.10s/it, loss=0.334]\n",
      "Validation: 100%|██████████| 12/12 [00:09<00:00,  1.32it/s, loss=0.34] \n"
     ]
    },
    {
     "name": "stdout",
     "output_type": "stream",
     "text": [
      "Validation Dice Score\n",
      "Class 0: 0.9895, Class 1: 0.6201, Class 2: 0.2119, Class 3: 0.3576, Class 4: 0.6638, Class 5: 0.4498, Class 6: 0.7074, \n",
      "Validation F-beta Score\n",
      "Class 0: 0.9864, Class 1: 0.8551, Class 2: 0.2974, Class 3: 0.4606, Class 4: 0.6705, Class 5: 0.5471, Class 6: 0.9263, \n",
      "\n",
      "Overall Mean Dice Score: 0.5597\n",
      "Overall Mean F-beta Score: 0.6919\n",
      "\n",
      "Training Loss: 0.3480, Validation Loss: 0.3395, Validation F-beta: 0.6919\n",
      "Epoch 55/4000\n"
     ]
    },
    {
     "name": "stderr",
     "output_type": "stream",
     "text": [
      "Training: 100%|██████████| 72/72 [01:18<00:00,  1.09s/it, loss=0.341]\n",
      "Validation: 100%|██████████| 12/12 [00:09<00:00,  1.21it/s, loss=0.318]\n"
     ]
    },
    {
     "name": "stdout",
     "output_type": "stream",
     "text": [
      "Validation Dice Score\n",
      "Class 0: 0.9897, Class 1: 0.7228, Class 2: 0.2395, Class 3: 0.3601, Class 4: 0.6833, Class 5: 0.4379, Class 6: 0.8749, \n",
      "Validation F-beta Score\n",
      "Class 0: 0.9873, Class 1: 0.8156, Class 2: 0.2727, Class 3: 0.5375, Class 4: 0.7353, Class 5: 0.4881, Class 6: 0.9319, \n",
      "\n",
      "Overall Mean Dice Score: 0.6158\n",
      "Overall Mean F-beta Score: 0.7017\n",
      "\n",
      "Training Loss: 0.3464, Validation Loss: 0.3237, Validation F-beta: 0.7017\n",
      "========================================================\n",
      "SUPER Best model saved. Loss:0.3237, Score:0.7017\n",
      "========================================================\n",
      "Epoch 56/4000\n"
     ]
    },
    {
     "name": "stderr",
     "output_type": "stream",
     "text": [
      "Training: 100%|██████████| 72/72 [01:19<00:00,  1.10s/it, loss=0.358]\n",
      "Validation: 100%|██████████| 12/12 [00:09<00:00,  1.26it/s, loss=0.34] \n"
     ]
    },
    {
     "name": "stdout",
     "output_type": "stream",
     "text": [
      "Validation Dice Score\n",
      "Class 0: 0.9900, Class 1: 0.7430, Class 2: 0.1805, Class 3: 0.2698, Class 4: 0.6994, Class 5: 0.3930, Class 6: 0.8814, \n",
      "Validation F-beta Score\n",
      "Class 0: 0.9886, Class 1: 0.8004, Class 2: 0.2609, Class 3: 0.4837, Class 4: 0.7057, Class 5: 0.3807, Class 6: 0.9393, \n",
      "\n",
      "Overall Mean Dice Score: 0.5973\n",
      "Overall Mean F-beta Score: 0.6620\n",
      "\n",
      "Training Loss: 0.3474, Validation Loss: 0.3315, Validation F-beta: 0.6620\n",
      "Epoch 57/4000\n"
     ]
    },
    {
     "name": "stderr",
     "output_type": "stream",
     "text": [
      "Training: 100%|██████████| 72/72 [01:20<00:00,  1.12s/it, loss=0.323]\n",
      "Validation: 100%|██████████| 12/12 [00:17<00:00,  1.46s/it, loss=0.357]\n"
     ]
    },
    {
     "name": "stdout",
     "output_type": "stream",
     "text": [
      "Validation Dice Score\n",
      "Class 0: 0.9894, Class 1: 0.7128, Class 2: 0.1775, Class 3: 0.2992, Class 4: 0.6021, Class 5: 0.3831, Class 6: 0.8521, \n",
      "Validation F-beta Score\n",
      "Class 0: 0.9894, Class 1: 0.7331, Class 2: 0.3009, Class 3: 0.3784, Class 4: 0.4993, Class 5: 0.4516, Class 6: 0.9276, \n",
      "\n",
      "Overall Mean Dice Score: 0.5699\n",
      "Overall Mean F-beta Score: 0.5980\n",
      "\n",
      "Training Loss: 0.3453, Validation Loss: 0.3440, Validation F-beta: 0.5980\n",
      "Epoch 58/4000\n"
     ]
    },
    {
     "name": "stderr",
     "output_type": "stream",
     "text": [
      "Training: 100%|██████████| 72/72 [01:24<00:00,  1.18s/it, loss=0.336]\n",
      "Validation: 100%|██████████| 12/12 [00:09<00:00,  1.26it/s, loss=0.335]\n"
     ]
    },
    {
     "name": "stdout",
     "output_type": "stream",
     "text": [
      "Validation Dice Score\n",
      "Class 0: 0.9893, Class 1: 0.7260, Class 2: 0.2251, Class 3: 0.3495, Class 4: 0.5277, Class 5: 0.4694, Class 6: 0.8810, \n",
      "Validation F-beta Score\n",
      "Class 0: 0.9899, Class 1: 0.8096, Class 2: 0.3021, Class 3: 0.4755, Class 4: 0.4720, Class 5: 0.4994, Class 6: 0.8961, \n",
      "\n",
      "Overall Mean Dice Score: 0.5907\n",
      "Overall Mean F-beta Score: 0.6305\n",
      "\n",
      "Training Loss: 0.3459, Validation Loss: 0.3337, Validation F-beta: 0.6305\n",
      "Epoch 59/4000\n"
     ]
    },
    {
     "name": "stderr",
     "output_type": "stream",
     "text": [
      "Training: 100%|██████████| 72/72 [01:23<00:00,  1.16s/it, loss=0.333]\n",
      "Validation: 100%|██████████| 12/12 [00:09<00:00,  1.21it/s, loss=0.325]\n"
     ]
    },
    {
     "name": "stdout",
     "output_type": "stream",
     "text": [
      "Validation Dice Score\n",
      "Class 0: 0.9892, Class 1: 0.7371, Class 2: 0.2041, Class 3: 0.3111, Class 4: 0.6826, Class 5: 0.4735, Class 6: 0.8787, \n",
      "Validation F-beta Score\n",
      "Class 0: 0.9874, Class 1: 0.8432, Class 2: 0.3154, Class 3: 0.4425, Class 4: 0.6884, Class 5: 0.5143, Class 6: 0.9287, \n",
      "\n",
      "Overall Mean Dice Score: 0.6166\n",
      "Overall Mean F-beta Score: 0.6834\n",
      "\n",
      "Training Loss: 0.3439, Validation Loss: 0.3261, Validation F-beta: 0.6834\n",
      "Epoch 60/4000\n"
     ]
    },
    {
     "name": "stderr",
     "output_type": "stream",
     "text": [
      "Training: 100%|██████████| 72/72 [01:23<00:00,  1.16s/it, loss=0.354]\n",
      "Validation: 100%|██████████| 12/12 [00:09<00:00,  1.27it/s, loss=0.342]\n"
     ]
    },
    {
     "name": "stdout",
     "output_type": "stream",
     "text": [
      "Validation Dice Score\n",
      "Class 0: 0.9907, Class 1: 0.7468, Class 2: 0.1704, Class 3: 0.3109, Class 4: 0.6943, Class 5: 0.4157, Class 6: 0.8657, \n",
      "Validation F-beta Score\n",
      "Class 0: 0.9892, Class 1: 0.8373, Class 2: 0.2911, Class 3: 0.4509, Class 4: 0.6958, Class 5: 0.4402, Class 6: 0.9431, \n",
      "\n",
      "Overall Mean Dice Score: 0.6067\n",
      "Overall Mean F-beta Score: 0.6735\n",
      "\n",
      "Training Loss: 0.3420, Validation Loss: 0.3311, Validation F-beta: 0.6735\n",
      "Epoch 61/4000\n"
     ]
    },
    {
     "name": "stderr",
     "output_type": "stream",
     "text": [
      "Training: 100%|██████████| 72/72 [01:18<00:00,  1.09s/it, loss=0.323]\n",
      "Validation: 100%|██████████| 12/12 [00:09<00:00,  1.29it/s, loss=0.305]\n"
     ]
    },
    {
     "name": "stdout",
     "output_type": "stream",
     "text": [
      "Validation Dice Score\n",
      "Class 0: 0.9893, Class 1: 0.7151, Class 2: 0.3264, Class 3: 0.3457, Class 4: 0.6941, Class 5: 0.4775, Class 6: 0.8420, \n",
      "Validation F-beta Score\n",
      "Class 0: 0.9867, Class 1: 0.8727, Class 2: 0.3391, Class 3: 0.4321, Class 4: 0.7187, Class 5: 0.5599, Class 6: 0.9486, \n",
      "\n",
      "Overall Mean Dice Score: 0.6149\n",
      "Overall Mean F-beta Score: 0.7064\n",
      "\n",
      "Training Loss: 0.3441, Validation Loss: 0.3186, Validation F-beta: 0.7064\n",
      "========================================================\n",
      "SUPER Best model saved. Loss:0.3186, Score:0.7064\n",
      "========================================================\n",
      "Epoch 62/4000\n"
     ]
    },
    {
     "name": "stderr",
     "output_type": "stream",
     "text": [
      "Training: 100%|██████████| 72/72 [01:18<00:00,  1.09s/it, loss=0.348]\n",
      "Validation: 100%|██████████| 12/12 [00:09<00:00,  1.29it/s, loss=0.319]\n"
     ]
    },
    {
     "name": "stdout",
     "output_type": "stream",
     "text": [
      "Validation Dice Score\n",
      "Class 0: 0.9851, Class 1: 0.7485, Class 2: 0.2461, Class 3: 0.3323, Class 4: 0.5716, Class 5: 0.4318, Class 6: 0.8237, \n",
      "Validation F-beta Score\n",
      "Class 0: 0.9765, Class 1: 0.8324, Class 2: 0.2165, Class 3: 0.5209, Class 4: 0.8341, Class 5: 0.5678, Class 6: 0.9516, \n",
      "\n",
      "Overall Mean Dice Score: 0.5816\n",
      "Overall Mean F-beta Score: 0.7414\n",
      "\n",
      "Training Loss: 0.3463, Validation Loss: 0.3364, Validation F-beta: 0.7414\n",
      "Epoch 63/4000\n"
     ]
    },
    {
     "name": "stderr",
     "output_type": "stream",
     "text": [
      "Training: 100%|██████████| 72/72 [01:20<00:00,  1.12s/it, loss=0.361]\n",
      "Validation: 100%|██████████| 12/12 [00:09<00:00,  1.31it/s, loss=0.35] \n"
     ]
    },
    {
     "name": "stdout",
     "output_type": "stream",
     "text": [
      "Validation Dice Score\n",
      "Class 0: 0.9898, Class 1: 0.6211, Class 2: 0.2424, Class 3: 0.3492, Class 4: 0.6660, Class 5: 0.4414, Class 6: 0.8901, \n",
      "Validation F-beta Score\n",
      "Class 0: 0.9884, Class 1: 0.8607, Class 2: 0.2373, Class 3: 0.4472, Class 4: 0.6775, Class 5: 0.4740, Class 6: 0.9413, \n",
      "\n",
      "Overall Mean Dice Score: 0.5936\n",
      "Overall Mean F-beta Score: 0.6801\n",
      "\n",
      "Training Loss: 0.3491, Validation Loss: 0.3303, Validation F-beta: 0.6801\n",
      "Epoch 64/4000\n"
     ]
    },
    {
     "name": "stderr",
     "output_type": "stream",
     "text": [
      "Training: 100%|██████████| 72/72 [01:18<00:00,  1.09s/it, loss=0.329]\n",
      "Validation: 100%|██████████| 12/12 [00:08<00:00,  1.33it/s, loss=0.299]\n"
     ]
    },
    {
     "name": "stdout",
     "output_type": "stream",
     "text": [
      "Validation Dice Score\n",
      "Class 0: 0.9900, Class 1: 0.7482, Class 2: 0.2017, Class 3: 0.3146, Class 4: 0.6823, Class 5: 0.4276, Class 6: 0.8734, \n",
      "Validation F-beta Score\n",
      "Class 0: 0.9879, Class 1: 0.8471, Class 2: 0.3285, Class 3: 0.4231, Class 4: 0.6779, Class 5: 0.4779, Class 6: 0.9439, \n",
      "\n",
      "Overall Mean Dice Score: 0.6092\n",
      "Overall Mean F-beta Score: 0.6740\n",
      "\n",
      "Training Loss: 0.3397, Validation Loss: 0.3188, Validation F-beta: 0.6740\n",
      "Epoch 65/4000\n"
     ]
    },
    {
     "name": "stderr",
     "output_type": "stream",
     "text": [
      "Training: 100%|██████████| 72/72 [01:19<00:00,  1.10s/it, loss=0.346]\n",
      "Validation: 100%|██████████| 12/12 [00:09<00:00,  1.30it/s, loss=0.351]\n"
     ]
    },
    {
     "name": "stdout",
     "output_type": "stream",
     "text": [
      "Validation Dice Score\n",
      "Class 0: 0.9897, Class 1: 0.6874, Class 2: 0.1601, Class 3: 0.3100, Class 4: 0.6394, Class 5: 0.4056, Class 6: 0.8121, \n",
      "Validation F-beta Score\n",
      "Class 0: 0.9899, Class 1: 0.8676, Class 2: 0.2100, Class 3: 0.3622, Class 4: 0.5801, Class 5: 0.4267, Class 6: 0.9339, \n",
      "\n",
      "Overall Mean Dice Score: 0.5709\n",
      "Overall Mean F-beta Score: 0.6341\n",
      "\n",
      "Training Loss: 0.3444, Validation Loss: 0.3410, Validation F-beta: 0.6341\n",
      "Epoch 66/4000\n"
     ]
    },
    {
     "name": "stderr",
     "output_type": "stream",
     "text": [
      "Training: 100%|██████████| 72/72 [01:18<00:00,  1.09s/it, loss=0.343]\n",
      "Validation: 100%|██████████| 12/12 [00:09<00:00,  1.32it/s, loss=0.325]\n"
     ]
    },
    {
     "name": "stdout",
     "output_type": "stream",
     "text": [
      "Validation Dice Score\n",
      "Class 0: 0.9888, Class 1: 0.7476, Class 2: 0.2523, Class 3: 0.3799, Class 4: 0.6753, Class 5: 0.4649, Class 6: 0.8621, \n",
      "Validation F-beta Score\n",
      "Class 0: 0.9842, Class 1: 0.8535, Class 2: 0.3248, Class 3: 0.5187, Class 4: 0.7780, Class 5: 0.5968, Class 6: 0.9472, \n",
      "\n",
      "Overall Mean Dice Score: 0.6260\n",
      "Overall Mean F-beta Score: 0.7389\n",
      "\n",
      "Training Loss: 0.3416, Validation Loss: 0.3249, Validation F-beta: 0.7389\n",
      "Epoch 67/4000\n"
     ]
    },
    {
     "name": "stderr",
     "output_type": "stream",
     "text": [
      "Training: 100%|██████████| 72/72 [01:17<00:00,  1.08s/it, loss=0.327]\n",
      "Validation: 100%|██████████| 12/12 [00:09<00:00,  1.32it/s, loss=0.33] \n"
     ]
    },
    {
     "name": "stdout",
     "output_type": "stream",
     "text": [
      "Validation Dice Score\n",
      "Class 0: 0.9887, Class 1: 0.6827, Class 2: 0.2572, Class 3: 0.4009, Class 4: 0.6978, Class 5: 0.4356, Class 6: 0.8714, \n",
      "Validation F-beta Score\n",
      "Class 0: 0.9842, Class 1: 0.8426, Class 2: 0.3071, Class 3: 0.4688, Class 4: 0.7991, Class 5: 0.5734, Class 6: 0.9521, \n",
      "\n",
      "Overall Mean Dice Score: 0.6177\n",
      "Overall Mean F-beta Score: 0.7272\n",
      "\n",
      "Training Loss: 0.3425, Validation Loss: 0.3297, Validation F-beta: 0.7272\n",
      "Epoch 68/4000\n"
     ]
    },
    {
     "name": "stderr",
     "output_type": "stream",
     "text": [
      "Training: 100%|██████████| 72/72 [01:18<00:00,  1.09s/it, loss=0.339]\n",
      "Validation: 100%|██████████| 12/12 [00:09<00:00,  1.31it/s, loss=0.286]\n"
     ]
    },
    {
     "name": "stdout",
     "output_type": "stream",
     "text": [
      "Validation Dice Score\n",
      "Class 0: 0.9904, Class 1: 0.7183, Class 2: 0.2481, Class 3: 0.3737, Class 4: 0.6950, Class 5: 0.4529, Class 6: 0.8688, \n",
      "Validation F-beta Score\n",
      "Class 0: 0.9896, Class 1: 0.8651, Class 2: 0.3067, Class 3: 0.4821, Class 4: 0.6592, Class 5: 0.4942, Class 6: 0.9489, \n",
      "\n",
      "Overall Mean Dice Score: 0.6217\n",
      "Overall Mean F-beta Score: 0.6899\n",
      "\n",
      "Training Loss: 0.3437, Validation Loss: 0.3203, Validation F-beta: 0.6899\n",
      "Epoch 69/4000\n"
     ]
    },
    {
     "name": "stderr",
     "output_type": "stream",
     "text": [
      "Training: 100%|██████████| 72/72 [01:21<00:00,  1.13s/it, loss=0.326]\n",
      "Validation: 100%|██████████| 12/12 [00:09<00:00,  1.32it/s, loss=0.321]\n"
     ]
    },
    {
     "name": "stdout",
     "output_type": "stream",
     "text": [
      "Validation Dice Score\n",
      "Class 0: 0.9896, Class 1: 0.6966, Class 2: 0.1784, Class 3: 0.3034, Class 4: 0.6268, Class 5: 0.3750, Class 6: 0.8792, \n",
      "Validation F-beta Score\n",
      "Class 0: 0.9895, Class 1: 0.8710, Class 2: 0.3410, Class 3: 0.4990, Class 4: 0.5686, Class 5: 0.3608, Class 6: 0.9374, \n",
      "\n",
      "Overall Mean Dice Score: 0.5762\n",
      "Overall Mean F-beta Score: 0.6474\n",
      "\n",
      "Training Loss: 0.3376, Validation Loss: 0.3354, Validation F-beta: 0.6474\n",
      "Epoch 70/4000\n"
     ]
    },
    {
     "name": "stderr",
     "output_type": "stream",
     "text": [
      "Training: 100%|██████████| 72/72 [01:18<00:00,  1.09s/it, loss=0.328]\n",
      "Validation: 100%|██████████| 12/12 [00:09<00:00,  1.32it/s, loss=0.35] \n"
     ]
    },
    {
     "name": "stdout",
     "output_type": "stream",
     "text": [
      "Validation Dice Score\n",
      "Class 0: 0.9897, Class 1: 0.7479, Class 2: 0.2746, Class 3: 0.4055, Class 4: 0.7236, Class 5: 0.4434, Class 6: 0.8861, \n",
      "Validation F-beta Score\n",
      "Class 0: 0.9874, Class 1: 0.8408, Class 2: 0.4141, Class 3: 0.4686, Class 4: 0.7309, Class 5: 0.5371, Class 6: 0.9436, \n",
      "\n",
      "Overall Mean Dice Score: 0.6413\n",
      "Overall Mean F-beta Score: 0.7042\n",
      "\n",
      "Training Loss: 0.3411, Validation Loss: 0.3201, Validation F-beta: 0.7042\n",
      "Epoch 71/4000\n"
     ]
    },
    {
     "name": "stderr",
     "output_type": "stream",
     "text": [
      "Training: 100%|██████████| 72/72 [01:18<00:00,  1.09s/it, loss=0.349]\n",
      "Validation: 100%|██████████| 12/12 [00:09<00:00,  1.31it/s, loss=0.332]\n"
     ]
    },
    {
     "name": "stdout",
     "output_type": "stream",
     "text": [
      "Validation Dice Score\n",
      "Class 0: 0.9893, Class 1: 0.7626, Class 2: 0.3062, Class 3: 0.3424, Class 4: 0.6838, Class 5: 0.4377, Class 6: 0.8615, \n",
      "Validation F-beta Score\n",
      "Class 0: 0.9847, Class 1: 0.7994, Class 2: 0.3759, Class 3: 0.4945, Class 4: 0.7947, Class 5: 0.5776, Class 6: 0.9566, \n",
      "\n",
      "Overall Mean Dice Score: 0.6176\n",
      "Overall Mean F-beta Score: 0.7246\n",
      "\n",
      "Training Loss: 0.3389, Validation Loss: 0.3246, Validation F-beta: 0.7246\n",
      "Epoch 72/4000\n"
     ]
    },
    {
     "name": "stderr",
     "output_type": "stream",
     "text": [
      "Training: 100%|██████████| 72/72 [01:28<00:00,  1.22s/it, loss=0.34] \n",
      "Validation: 100%|██████████| 12/12 [00:09<00:00,  1.25it/s, loss=0.356]\n"
     ]
    },
    {
     "name": "stdout",
     "output_type": "stream",
     "text": [
      "Validation Dice Score\n",
      "Class 0: 0.9885, Class 1: 0.7066, Class 2: 0.2605, Class 3: 0.3688, Class 4: 0.6654, Class 5: 0.4579, Class 6: 0.8592, \n",
      "Validation F-beta Score\n",
      "Class 0: 0.9834, Class 1: 0.8735, Class 2: 0.3545, Class 3: 0.5142, Class 4: 0.7931, Class 5: 0.5802, Class 6: 0.9577, \n",
      "\n",
      "Overall Mean Dice Score: 0.6116\n",
      "Overall Mean F-beta Score: 0.7437\n",
      "\n",
      "Training Loss: 0.3413, Validation Loss: 0.3255, Validation F-beta: 0.7437\n",
      "Epoch 73/4000\n"
     ]
    },
    {
     "name": "stderr",
     "output_type": "stream",
     "text": [
      "Training: 100%|██████████| 72/72 [01:23<00:00,  1.17s/it, loss=0.32] \n",
      "Validation: 100%|██████████| 12/12 [00:09<00:00,  1.23it/s, loss=0.332]\n"
     ]
    },
    {
     "name": "stdout",
     "output_type": "stream",
     "text": [
      "Validation Dice Score\n",
      "Class 0: 0.9883, Class 1: 0.6478, Class 2: 0.3100, Class 3: 0.3649, Class 4: 0.6541, Class 5: 0.4474, Class 6: 0.8433, \n",
      "Validation F-beta Score\n",
      "Class 0: 0.9829, Class 1: 0.8852, Class 2: 0.4355, Class 3: 0.4881, Class 4: 0.7625, Class 5: 0.5934, Class 6: 0.9616, \n",
      "\n",
      "Overall Mean Dice Score: 0.5915\n",
      "Overall Mean F-beta Score: 0.7382\n",
      "\n",
      "Training Loss: 0.3370, Validation Loss: 0.3285, Validation F-beta: 0.7382\n",
      "Epoch 74/4000\n"
     ]
    },
    {
     "name": "stderr",
     "output_type": "stream",
     "text": [
      "Training: 100%|██████████| 72/72 [01:23<00:00,  1.16s/it, loss=0.343]\n",
      "Validation: 100%|██████████| 12/12 [00:09<00:00,  1.21it/s, loss=0.367]\n"
     ]
    },
    {
     "name": "stdout",
     "output_type": "stream",
     "text": [
      "Validation Dice Score\n",
      "Class 0: 0.9899, Class 1: 0.7264, Class 2: 0.2698, Class 3: 0.3843, Class 4: 0.7014, Class 5: 0.4684, Class 6: 0.8732, \n",
      "Validation F-beta Score\n",
      "Class 0: 0.9873, Class 1: 0.8239, Class 2: 0.3933, Class 3: 0.4545, Class 4: 0.7199, Class 5: 0.5594, Class 6: 0.9374, \n",
      "\n",
      "Overall Mean Dice Score: 0.6307\n",
      "Overall Mean F-beta Score: 0.6990\n",
      "\n",
      "Training Loss: 0.3376, Validation Loss: 0.3234, Validation F-beta: 0.6990\n",
      "Epoch 75/4000\n"
     ]
    },
    {
     "name": "stderr",
     "output_type": "stream",
     "text": [
      "Training: 100%|██████████| 72/72 [01:23<00:00,  1.16s/it, loss=0.345]\n",
      "Validation: 100%|██████████| 12/12 [00:11<00:00,  1.08it/s, loss=0.366]\n"
     ]
    },
    {
     "name": "stdout",
     "output_type": "stream",
     "text": [
      "Validation Dice Score\n",
      "Class 0: 0.9898, Class 1: 0.7516, Class 2: 0.2405, Class 3: 0.3613, Class 4: 0.7220, Class 5: 0.4587, Class 6: 0.8674, \n",
      "Validation F-beta Score\n",
      "Class 0: 0.9883, Class 1: 0.8428, Class 2: 0.3062, Class 3: 0.4681, Class 4: 0.7064, Class 5: 0.5267, Class 6: 0.9516, \n",
      "\n",
      "Overall Mean Dice Score: 0.6322\n",
      "Overall Mean F-beta Score: 0.6991\n",
      "\n",
      "Training Loss: 0.3372, Validation Loss: 0.3217, Validation F-beta: 0.6991\n",
      "Epoch 76/4000\n"
     ]
    },
    {
     "name": "stderr",
     "output_type": "stream",
     "text": [
      "Training: 100%|██████████| 72/72 [01:20<00:00,  1.12s/it, loss=0.324]\n",
      "Validation: 100%|██████████| 12/12 [00:09<00:00,  1.31it/s, loss=0.324]\n"
     ]
    },
    {
     "name": "stdout",
     "output_type": "stream",
     "text": [
      "Validation Dice Score\n",
      "Class 0: 0.9885, Class 1: 0.7452, Class 2: 0.2273, Class 3: 0.3757, Class 4: 0.6496, Class 5: 0.4363, Class 6: 0.8796, \n",
      "Validation F-beta Score\n",
      "Class 0: 0.9835, Class 1: 0.8382, Class 2: 0.3141, Class 3: 0.4629, Class 4: 0.7941, Class 5: 0.5667, Class 6: 0.9486, \n",
      "\n",
      "Overall Mean Dice Score: 0.6173\n",
      "Overall Mean F-beta Score: 0.7221\n",
      "\n",
      "Training Loss: 0.3383, Validation Loss: 0.3232, Validation F-beta: 0.7221\n",
      "Epoch 77/4000\n"
     ]
    },
    {
     "name": "stderr",
     "output_type": "stream",
     "text": [
      "Training: 100%|██████████| 72/72 [01:18<00:00,  1.08s/it, loss=0.345]\n",
      "Validation: 100%|██████████| 12/12 [00:09<00:00,  1.28it/s, loss=0.3]  \n"
     ]
    },
    {
     "name": "stdout",
     "output_type": "stream",
     "text": [
      "Validation Dice Score\n",
      "Class 0: 0.9900, Class 1: 0.7434, Class 2: 0.2818, Class 3: 0.3717, Class 4: 0.6833, Class 5: 0.4681, Class 6: 0.8749, \n",
      "Validation F-beta Score\n",
      "Class 0: 0.9869, Class 1: 0.8664, Class 2: 0.3859, Class 3: 0.4964, Class 4: 0.7351, Class 5: 0.5509, Class 6: 0.9552, \n",
      "\n",
      "Overall Mean Dice Score: 0.6283\n",
      "Overall Mean F-beta Score: 0.7208\n",
      "\n",
      "Training Loss: 0.3352, Validation Loss: 0.3078, Validation F-beta: 0.7208\n",
      "========================================================\n",
      "SUPER Best model saved. Loss:0.3078, Score:0.7208\n",
      "========================================================\n",
      "Epoch 78/4000\n"
     ]
    },
    {
     "name": "stderr",
     "output_type": "stream",
     "text": [
      "Training: 100%|██████████| 72/72 [01:17<00:00,  1.08s/it, loss=0.365]\n",
      "Validation: 100%|██████████| 12/12 [00:09<00:00,  1.31it/s, loss=0.341]\n"
     ]
    },
    {
     "name": "stdout",
     "output_type": "stream",
     "text": [
      "Validation Dice Score\n",
      "Class 0: 0.9903, Class 1: 0.7176, Class 2: 0.2509, Class 3: 0.3095, Class 4: 0.6653, Class 5: 0.4343, Class 6: 0.7991, \n",
      "Validation F-beta Score\n",
      "Class 0: 0.9882, Class 1: 0.8781, Class 2: 0.3650, Class 3: 0.5082, Class 4: 0.6307, Class 5: 0.4848, Class 6: 0.9467, \n",
      "\n",
      "Overall Mean Dice Score: 0.5851\n",
      "Overall Mean F-beta Score: 0.6897\n",
      "\n",
      "Training Loss: 0.3347, Validation Loss: 0.3342, Validation F-beta: 0.6897\n",
      "Epoch 79/4000\n"
     ]
    },
    {
     "name": "stderr",
     "output_type": "stream",
     "text": [
      "Training: 100%|██████████| 72/72 [01:18<00:00,  1.09s/it, loss=0.343]\n",
      "Validation: 100%|██████████| 12/12 [00:09<00:00,  1.32it/s, loss=0.305]\n"
     ]
    },
    {
     "name": "stdout",
     "output_type": "stream",
     "text": [
      "Validation Dice Score\n",
      "Class 0: 0.9901, Class 1: 0.7772, Class 2: 0.2235, Class 3: 0.3138, Class 4: 0.7073, Class 5: 0.4581, Class 6: 0.8730, \n",
      "Validation F-beta Score\n",
      "Class 0: 0.9882, Class 1: 0.8105, Class 2: 0.3682, Class 3: 0.5025, Class 4: 0.7068, Class 5: 0.4941, Class 6: 0.9427, \n",
      "\n",
      "Overall Mean Dice Score: 0.6259\n",
      "Overall Mean F-beta Score: 0.6913\n",
      "\n",
      "Training Loss: 0.3378, Validation Loss: 0.3273, Validation F-beta: 0.6913\n",
      "Epoch 80/4000\n"
     ]
    },
    {
     "name": "stderr",
     "output_type": "stream",
     "text": [
      "Training: 100%|██████████| 72/72 [01:25<00:00,  1.19s/it, loss=0.331]\n",
      "Validation: 100%|██████████| 12/12 [00:09<00:00,  1.23it/s, loss=0.305]\n"
     ]
    },
    {
     "name": "stdout",
     "output_type": "stream",
     "text": [
      "Validation Dice Score\n",
      "Class 0: 0.9893, Class 1: 0.7250, Class 2: 0.2129, Class 3: 0.3030, Class 4: 0.6634, Class 5: 0.4541, Class 6: 0.7494, \n",
      "Validation F-beta Score\n",
      "Class 0: 0.9880, Class 1: 0.8796, Class 2: 0.3449, Class 3: 0.4853, Class 4: 0.6133, Class 5: 0.5117, Class 6: 0.8324, \n",
      "\n",
      "Overall Mean Dice Score: 0.5790\n",
      "Overall Mean F-beta Score: 0.6644\n",
      "\n",
      "Training Loss: 0.3369, Validation Loss: 0.3313, Validation F-beta: 0.6644\n",
      "Epoch 81/4000\n"
     ]
    },
    {
     "name": "stderr",
     "output_type": "stream",
     "text": [
      "Training: 100%|██████████| 72/72 [01:24<00:00,  1.18s/it, loss=0.357]\n",
      "Validation: 100%|██████████| 12/12 [00:09<00:00,  1.23it/s, loss=0.299]\n"
     ]
    },
    {
     "name": "stdout",
     "output_type": "stream",
     "text": [
      "Validation Dice Score\n",
      "Class 0: 0.9901, Class 1: 0.7210, Class 2: 0.2697, Class 3: 0.3988, Class 4: 0.6487, Class 5: 0.4381, Class 6: 0.8707, \n",
      "Validation F-beta Score\n",
      "Class 0: 0.9892, Class 1: 0.8848, Class 2: 0.4133, Class 3: 0.4528, Class 4: 0.6000, Class 5: 0.5220, Class 6: 0.9368, \n",
      "\n",
      "Overall Mean Dice Score: 0.6155\n",
      "Overall Mean F-beta Score: 0.6793\n",
      "\n",
      "Training Loss: 0.3361, Validation Loss: 0.3252, Validation F-beta: 0.6793\n",
      "Epoch 82/4000\n"
     ]
    },
    {
     "name": "stderr",
     "output_type": "stream",
     "text": [
      "Training: 100%|██████████| 72/72 [01:23<00:00,  1.16s/it, loss=0.318]\n",
      "Validation: 100%|██████████| 12/12 [00:09<00:00,  1.23it/s, loss=0.337]\n"
     ]
    },
    {
     "name": "stdout",
     "output_type": "stream",
     "text": [
      "Validation Dice Score\n",
      "Class 0: 0.9869, Class 1: 0.7723, Class 2: 0.2613, Class 3: 0.3579, Class 4: 0.6745, Class 5: 0.4516, Class 6: 0.8633, \n",
      "Validation F-beta Score\n",
      "Class 0: 0.9805, Class 1: 0.8657, Class 2: 0.3590, Class 3: 0.4712, Class 4: 0.8261, Class 5: 0.5890, Class 6: 0.9589, \n",
      "\n",
      "Overall Mean Dice Score: 0.6239\n",
      "Overall Mean F-beta Score: 0.7422\n",
      "\n",
      "Training Loss: 0.3354, Validation Loss: 0.3203, Validation F-beta: 0.7422\n",
      "Epoch 83/4000\n"
     ]
    },
    {
     "name": "stderr",
     "output_type": "stream",
     "text": [
      "Training: 100%|██████████| 72/72 [01:22<00:00,  1.15s/it, loss=0.323]\n",
      "Validation: 100%|██████████| 12/12 [00:09<00:00,  1.22it/s, loss=0.328]\n"
     ]
    },
    {
     "name": "stdout",
     "output_type": "stream",
     "text": [
      "Validation Dice Score\n",
      "Class 0: 0.9894, Class 1: 0.6465, Class 2: 0.2917, Class 3: 0.3795, Class 4: 0.7083, Class 5: 0.4456, Class 6: 0.8580, \n",
      "Validation F-beta Score\n",
      "Class 0: 0.9876, Class 1: 0.8648, Class 2: 0.4176, Class 3: 0.5356, Class 4: 0.7215, Class 5: 0.4832, Class 6: 0.9450, \n",
      "\n",
      "Overall Mean Dice Score: 0.6076\n",
      "Overall Mean F-beta Score: 0.7100\n",
      "\n",
      "Training Loss: 0.3388, Validation Loss: 0.3265, Validation F-beta: 0.7100\n",
      "Epoch 84/4000\n"
     ]
    },
    {
     "name": "stderr",
     "output_type": "stream",
     "text": [
      "Training: 100%|██████████| 72/72 [01:22<00:00,  1.14s/it, loss=0.322]\n",
      "Validation: 100%|██████████| 12/12 [00:09<00:00,  1.21it/s, loss=0.328]\n"
     ]
    },
    {
     "name": "stdout",
     "output_type": "stream",
     "text": [
      "Validation Dice Score\n",
      "Class 0: 0.9902, Class 1: 0.7183, Class 2: 0.1730, Class 3: 0.3805, Class 4: 0.7039, Class 5: 0.4212, Class 6: 0.8511, \n",
      "Validation F-beta Score\n",
      "Class 0: 0.9892, Class 1: 0.8738, Class 2: 0.2560, Class 3: 0.4276, Class 4: 0.6978, Class 5: 0.4403, Class 6: 0.9450, \n",
      "\n",
      "Overall Mean Dice Score: 0.6150\n",
      "Overall Mean F-beta Score: 0.6769\n",
      "\n",
      "Training Loss: 0.3363, Validation Loss: 0.3283, Validation F-beta: 0.6769\n",
      "Epoch 85/4000\n"
     ]
    },
    {
     "name": "stderr",
     "output_type": "stream",
     "text": [
      "Training: 100%|██████████| 72/72 [01:22<00:00,  1.15s/it, loss=0.347]\n",
      "Validation: 100%|██████████| 12/12 [00:09<00:00,  1.31it/s, loss=0.318]\n"
     ]
    },
    {
     "name": "stdout",
     "output_type": "stream",
     "text": [
      "Validation Dice Score\n",
      "Class 0: 0.9905, Class 1: 0.7529, Class 2: 0.2941, Class 3: 0.4329, Class 4: 0.7401, Class 5: 0.4810, Class 6: 0.8949, \n",
      "Validation F-beta Score\n",
      "Class 0: 0.9892, Class 1: 0.8831, Class 2: 0.3761, Class 3: 0.5145, Class 4: 0.7354, Class 5: 0.5338, Class 6: 0.9524, \n",
      "\n",
      "Overall Mean Dice Score: 0.6604\n",
      "Overall Mean F-beta Score: 0.7238\n",
      "\n",
      "Training Loss: 0.3313, Validation Loss: 0.3084, Validation F-beta: 0.7238\n",
      "Epoch 86/4000\n"
     ]
    },
    {
     "name": "stderr",
     "output_type": "stream",
     "text": [
      "Training: 100%|██████████| 72/72 [01:19<00:00,  1.10s/it, loss=0.342]\n",
      "Validation: 100%|██████████| 12/12 [00:09<00:00,  1.30it/s, loss=0.348]\n"
     ]
    },
    {
     "name": "stdout",
     "output_type": "stream",
     "text": [
      "Validation Dice Score\n",
      "Class 0: 0.9902, Class 1: 0.7481, Class 2: 0.3365, Class 3: 0.4314, Class 4: 0.7214, Class 5: 0.4541, Class 6: 0.8644, \n",
      "Validation F-beta Score\n",
      "Class 0: 0.9875, Class 1: 0.8834, Class 2: 0.3740, Class 3: 0.5346, Class 4: 0.7441, Class 5: 0.5764, Class 6: 0.9511, \n",
      "\n",
      "Overall Mean Dice Score: 0.6439\n",
      "Overall Mean F-beta Score: 0.7379\n",
      "\n",
      "Training Loss: 0.3326, Validation Loss: 0.3161, Validation F-beta: 0.7379\n",
      "Epoch 87/4000\n"
     ]
    },
    {
     "name": "stderr",
     "output_type": "stream",
     "text": [
      "Training: 100%|██████████| 72/72 [01:19<00:00,  1.10s/it, loss=0.323]\n",
      "Validation: 100%|██████████| 12/12 [00:09<00:00,  1.30it/s, loss=0.338]\n"
     ]
    },
    {
     "name": "stdout",
     "output_type": "stream",
     "text": [
      "Validation Dice Score\n",
      "Class 0: 0.9903, Class 1: 0.7662, Class 2: 0.2417, Class 3: 0.3856, Class 4: 0.7236, Class 5: 0.4814, Class 6: 0.8822, \n",
      "Validation F-beta Score\n",
      "Class 0: 0.9881, Class 1: 0.8799, Class 2: 0.3110, Class 3: 0.5244, Class 4: 0.7350, Class 5: 0.5552, Class 6: 0.9497, \n",
      "\n",
      "Overall Mean Dice Score: 0.6478\n",
      "Overall Mean F-beta Score: 0.7288\n",
      "\n",
      "Training Loss: 0.3350, Validation Loss: 0.3128, Validation F-beta: 0.7288\n",
      "Epoch 88/4000\n"
     ]
    },
    {
     "name": "stderr",
     "output_type": "stream",
     "text": [
      "Training: 100%|██████████| 72/72 [01:19<00:00,  1.10s/it, loss=0.325]\n",
      "Validation: 100%|██████████| 12/12 [00:09<00:00,  1.28it/s, loss=0.322]\n"
     ]
    },
    {
     "name": "stdout",
     "output_type": "stream",
     "text": [
      "Validation Dice Score\n",
      "Class 0: 0.9902, Class 1: 0.7536, Class 2: 0.3053, Class 3: 0.4250, Class 4: 0.6806, Class 5: 0.4764, Class 6: 0.8974, \n",
      "Validation F-beta Score\n",
      "Class 0: 0.9877, Class 1: 0.8537, Class 2: 0.4150, Class 3: 0.5309, Class 4: 0.7190, Class 5: 0.5528, Class 6: 0.9446, \n",
      "\n",
      "Overall Mean Dice Score: 0.6466\n",
      "Overall Mean F-beta Score: 0.7202\n",
      "\n",
      "Training Loss: 0.3299, Validation Loss: 0.3121, Validation F-beta: 0.7202\n",
      "Epoch 89/4000\n"
     ]
    },
    {
     "name": "stderr",
     "output_type": "stream",
     "text": [
      "Training: 100%|██████████| 72/72 [01:18<00:00,  1.09s/it, loss=0.339]\n",
      "Validation: 100%|██████████| 12/12 [00:09<00:00,  1.31it/s, loss=0.342]\n"
     ]
    },
    {
     "name": "stdout",
     "output_type": "stream",
     "text": [
      "Validation Dice Score\n",
      "Class 0: 0.9899, Class 1: 0.7352, Class 2: 0.2383, Class 3: 0.3465, Class 4: 0.7141, Class 5: 0.4362, Class 6: 0.8840, \n",
      "Validation F-beta Score\n",
      "Class 0: 0.9871, Class 1: 0.8737, Class 2: 0.3178, Class 3: 0.4899, Class 4: 0.7490, Class 5: 0.5191, Class 6: 0.9528, \n",
      "\n",
      "Overall Mean Dice Score: 0.6232\n",
      "Overall Mean F-beta Score: 0.7169\n",
      "\n",
      "Training Loss: 0.3326, Validation Loss: 0.3268, Validation F-beta: 0.7169\n",
      "Epoch 90/4000\n"
     ]
    },
    {
     "name": "stderr",
     "output_type": "stream",
     "text": [
      "Training: 100%|██████████| 72/72 [01:27<00:00,  1.21s/it, loss=0.344]\n",
      "Validation: 100%|██████████| 12/12 [00:09<00:00,  1.22it/s, loss=0.339]\n"
     ]
    },
    {
     "name": "stdout",
     "output_type": "stream",
     "text": [
      "Validation Dice Score\n",
      "Class 0: 0.9898, Class 1: 0.7589, Class 2: 0.2408, Class 3: 0.3717, Class 4: 0.7280, Class 5: 0.4750, Class 6: 0.9115, \n",
      "Validation F-beta Score\n",
      "Class 0: 0.9866, Class 1: 0.8844, Class 2: 0.3425, Class 3: 0.5082, Class 4: 0.7939, Class 5: 0.5439, Class 6: 0.9466, \n",
      "\n",
      "Overall Mean Dice Score: 0.6490\n",
      "Overall Mean F-beta Score: 0.7354\n",
      "\n",
      "Training Loss: 0.3293, Validation Loss: 0.3144, Validation F-beta: 0.7354\n",
      "Epoch 91/4000\n"
     ]
    },
    {
     "name": "stderr",
     "output_type": "stream",
     "text": [
      "Training: 100%|██████████| 72/72 [01:22<00:00,  1.15s/it, loss=0.34] \n",
      "Validation: 100%|██████████| 12/12 [00:09<00:00,  1.23it/s, loss=0.325]\n"
     ]
    },
    {
     "name": "stdout",
     "output_type": "stream",
     "text": [
      "Validation Dice Score\n",
      "Class 0: 0.9899, Class 1: 0.7574, Class 2: 0.2836, Class 3: 0.4196, Class 4: 0.7354, Class 5: 0.4760, Class 6: 0.8767, \n",
      "Validation F-beta Score\n",
      "Class 0: 0.9866, Class 1: 0.8708, Class 2: 0.4448, Class 3: 0.5409, Class 4: 0.7755, Class 5: 0.5937, Class 6: 0.9513, \n",
      "\n",
      "Overall Mean Dice Score: 0.6530\n",
      "Overall Mean F-beta Score: 0.7464\n",
      "\n",
      "Training Loss: 0.3293, Validation Loss: 0.3181, Validation F-beta: 0.7464\n",
      "Epoch 92/4000\n"
     ]
    },
    {
     "name": "stderr",
     "output_type": "stream",
     "text": [
      "Training: 100%|██████████| 72/72 [01:21<00:00,  1.13s/it, loss=0.325]\n",
      "Validation: 100%|██████████| 12/12 [00:09<00:00,  1.27it/s, loss=0.323]\n"
     ]
    },
    {
     "name": "stdout",
     "output_type": "stream",
     "text": [
      "Validation Dice Score\n",
      "Class 0: 0.9900, Class 1: 0.7960, Class 2: 0.3332, Class 3: 0.4220, Class 4: 0.7223, Class 5: 0.4917, Class 6: 0.8832, \n",
      "Validation F-beta Score\n",
      "Class 0: 0.9864, Class 1: 0.8596, Class 2: 0.4481, Class 3: 0.5331, Class 4: 0.8021, Class 5: 0.5898, Class 6: 0.9558, \n",
      "\n",
      "Overall Mean Dice Score: 0.6631\n",
      "Overall Mean F-beta Score: 0.7481\n",
      "\n",
      "Training Loss: 0.3296, Validation Loss: 0.3052, Validation F-beta: 0.7481\n",
      "========================================================\n",
      "SUPER Best model saved. Loss:0.3052, Score:0.7481\n",
      "========================================================\n",
      "Epoch 93/4000\n"
     ]
    },
    {
     "name": "stderr",
     "output_type": "stream",
     "text": [
      "Training: 100%|██████████| 72/72 [01:21<00:00,  1.13s/it, loss=0.326]\n",
      "Validation: 100%|██████████| 12/12 [00:09<00:00,  1.31it/s, loss=0.307]\n"
     ]
    },
    {
     "name": "stdout",
     "output_type": "stream",
     "text": [
      "Validation Dice Score\n",
      "Class 0: 0.9904, Class 1: 0.7186, Class 2: 0.2713, Class 3: 0.3722, Class 4: 0.7523, Class 5: 0.4857, Class 6: 0.8876, \n",
      "Validation F-beta Score\n",
      "Class 0: 0.9882, Class 1: 0.8931, Class 2: 0.3891, Class 3: 0.5395, Class 4: 0.7663, Class 5: 0.5397, Class 6: 0.9473, \n",
      "\n",
      "Overall Mean Dice Score: 0.6433\n",
      "Overall Mean F-beta Score: 0.7372\n",
      "\n",
      "Training Loss: 0.3292, Validation Loss: 0.3206, Validation F-beta: 0.7372\n",
      "Epoch 94/4000\n"
     ]
    },
    {
     "name": "stderr",
     "output_type": "stream",
     "text": [
      "Training: 100%|██████████| 72/72 [01:21<00:00,  1.14s/it, loss=0.33] \n",
      "Validation: 100%|██████████| 12/12 [00:09<00:00,  1.25it/s, loss=0.335]\n"
     ]
    },
    {
     "name": "stdout",
     "output_type": "stream",
     "text": [
      "Validation Dice Score\n",
      "Class 0: 0.9895, Class 1: 0.7624, Class 2: 0.2694, Class 3: 0.3828, Class 4: 0.7005, Class 5: 0.4622, Class 6: 0.8855, \n",
      "Validation F-beta Score\n",
      "Class 0: 0.9853, Class 1: 0.8979, Class 2: 0.3632, Class 3: 0.4951, Class 4: 0.8001, Class 5: 0.5865, Class 6: 0.9623, \n",
      "\n",
      "Overall Mean Dice Score: 0.6387\n",
      "Overall Mean F-beta Score: 0.7484\n",
      "\n",
      "Training Loss: 0.3305, Validation Loss: 0.3168, Validation F-beta: 0.7484\n",
      "Epoch 95/4000\n"
     ]
    },
    {
     "name": "stderr",
     "output_type": "stream",
     "text": [
      "Training: 100%|██████████| 72/72 [01:23<00:00,  1.16s/it, loss=0.325]\n",
      "Validation: 100%|██████████| 12/12 [00:09<00:00,  1.26it/s, loss=0.344]\n"
     ]
    },
    {
     "name": "stdout",
     "output_type": "stream",
     "text": [
      "Validation Dice Score\n",
      "Class 0: 0.9900, Class 1: 0.7520, Class 2: 0.2251, Class 3: 0.3840, Class 4: 0.6933, Class 5: 0.5010, Class 6: 0.8927, \n",
      "Validation F-beta Score\n",
      "Class 0: 0.9863, Class 1: 0.8724, Class 2: 0.3478, Class 3: 0.5075, Class 4: 0.7810, Class 5: 0.5995, Class 6: 0.9570, \n",
      "\n",
      "Overall Mean Dice Score: 0.6446\n",
      "Overall Mean F-beta Score: 0.7435\n",
      "\n",
      "Training Loss: 0.3288, Validation Loss: 0.3156, Validation F-beta: 0.7435\n",
      "Epoch 96/4000\n"
     ]
    },
    {
     "name": "stderr",
     "output_type": "stream",
     "text": [
      "Training: 100%|██████████| 72/72 [01:23<00:00,  1.17s/it, loss=0.335]\n",
      "Validation: 100%|██████████| 12/12 [00:09<00:00,  1.24it/s, loss=0.325]\n"
     ]
    },
    {
     "name": "stdout",
     "output_type": "stream",
     "text": [
      "Validation Dice Score\n",
      "Class 0: 0.9897, Class 1: 0.7615, Class 2: 0.2813, Class 3: 0.3920, Class 4: 0.7023, Class 5: 0.4944, Class 6: 0.8990, \n",
      "Validation F-beta Score\n",
      "Class 0: 0.9863, Class 1: 0.8631, Class 2: 0.4286, Class 3: 0.5461, Class 4: 0.7437, Class 5: 0.5946, Class 6: 0.9647, \n",
      "\n",
      "Overall Mean Dice Score: 0.6498\n",
      "Overall Mean F-beta Score: 0.7424\n",
      "\n",
      "Training Loss: 0.3308, Validation Loss: 0.3103, Validation F-beta: 0.7424\n",
      "Epoch 97/4000\n"
     ]
    },
    {
     "name": "stderr",
     "output_type": "stream",
     "text": [
      "Training: 100%|██████████| 72/72 [01:23<00:00,  1.17s/it, loss=0.341]\n",
      "Validation: 100%|██████████| 12/12 [00:09<00:00,  1.31it/s, loss=0.333]\n"
     ]
    },
    {
     "name": "stdout",
     "output_type": "stream",
     "text": [
      "Validation Dice Score\n",
      "Class 0: 0.9898, Class 1: 0.7795, Class 2: 0.2500, Class 3: 0.4053, Class 4: 0.7240, Class 5: 0.4540, Class 6: 0.8889, \n",
      "Validation F-beta Score\n",
      "Class 0: 0.9864, Class 1: 0.8523, Class 2: 0.3356, Class 3: 0.5788, Class 4: 0.7629, Class 5: 0.5690, Class 6: 0.9529, \n",
      "\n",
      "Overall Mean Dice Score: 0.6503\n",
      "Overall Mean F-beta Score: 0.7432\n",
      "\n",
      "Training Loss: 0.3318, Validation Loss: 0.3162, Validation F-beta: 0.7432\n",
      "Epoch 98/4000\n"
     ]
    },
    {
     "name": "stderr",
     "output_type": "stream",
     "text": [
      "Training: 100%|██████████| 72/72 [01:21<00:00,  1.13s/it, loss=0.326]\n",
      "Validation: 100%|██████████| 12/12 [00:09<00:00,  1.30it/s, loss=0.34] \n"
     ]
    },
    {
     "name": "stdout",
     "output_type": "stream",
     "text": [
      "Validation Dice Score\n",
      "Class 0: 0.9903, Class 1: 0.7443, Class 2: 0.2766, Class 3: 0.4150, Class 4: 0.7232, Class 5: 0.4864, Class 6: 0.8898, \n",
      "Validation F-beta Score\n",
      "Class 0: 0.9874, Class 1: 0.8856, Class 2: 0.3829, Class 3: 0.5519, Class 4: 0.7610, Class 5: 0.5861, Class 6: 0.9539, \n",
      "\n",
      "Overall Mean Dice Score: 0.6518\n",
      "Overall Mean F-beta Score: 0.7477\n",
      "\n",
      "Training Loss: 0.3305, Validation Loss: 0.3095, Validation F-beta: 0.7477\n",
      "Epoch 99/4000\n"
     ]
    },
    {
     "name": "stderr",
     "output_type": "stream",
     "text": [
      "Training: 100%|██████████| 72/72 [01:21<00:00,  1.13s/it, loss=0.29] \n",
      "Validation: 100%|██████████| 12/12 [00:09<00:00,  1.29it/s, loss=0.323]\n"
     ]
    },
    {
     "name": "stdout",
     "output_type": "stream",
     "text": [
      "Validation Dice Score\n",
      "Class 0: 0.9904, Class 1: 0.7736, Class 2: 0.2821, Class 3: 0.4398, Class 4: 0.7194, Class 5: 0.4931, Class 6: 0.8913, \n",
      "Validation F-beta Score\n",
      "Class 0: 0.9879, Class 1: 0.8919, Class 2: 0.3975, Class 3: 0.5532, Class 4: 0.7304, Class 5: 0.5992, Class 6: 0.9546, \n",
      "\n",
      "Overall Mean Dice Score: 0.6634\n",
      "Overall Mean F-beta Score: 0.7458\n",
      "\n",
      "Training Loss: 0.3274, Validation Loss: 0.3081, Validation F-beta: 0.7458\n",
      "Epoch 100/4000\n"
     ]
    },
    {
     "name": "stderr",
     "output_type": "stream",
     "text": [
      "Training: 100%|██████████| 72/72 [01:18<00:00,  1.09s/it, loss=0.328]\n",
      "Validation: 100%|██████████| 12/12 [00:09<00:00,  1.28it/s, loss=0.317]\n"
     ]
    },
    {
     "name": "stdout",
     "output_type": "stream",
     "text": [
      "Validation Dice Score\n",
      "Class 0: 0.9890, Class 1: 0.7890, Class 2: 0.2720, Class 3: 0.3656, Class 4: 0.6833, Class 5: 0.4816, Class 6: 0.8715, \n",
      "Validation F-beta Score\n",
      "Class 0: 0.9851, Class 1: 0.8964, Class 2: 0.4569, Class 3: 0.4914, Class 4: 0.7678, Class 5: 0.5663, Class 6: 0.9594, \n",
      "\n",
      "Overall Mean Dice Score: 0.6382\n",
      "Overall Mean F-beta Score: 0.7363\n",
      "\n",
      "Training Loss: 0.3294, Validation Loss: 0.3155, Validation F-beta: 0.7363\n",
      "Epoch 101/4000\n"
     ]
    },
    {
     "name": "stderr",
     "output_type": "stream",
     "text": [
      "Training: 100%|██████████| 72/72 [01:18<00:00,  1.09s/it, loss=0.32] \n",
      "Validation: 100%|██████████| 12/12 [00:09<00:00,  1.29it/s, loss=0.342]\n"
     ]
    },
    {
     "name": "stdout",
     "output_type": "stream",
     "text": [
      "Validation Dice Score\n",
      "Class 0: 0.9891, Class 1: 0.7564, Class 2: 0.2912, Class 3: 0.3803, Class 4: 0.7013, Class 5: 0.4752, Class 6: 0.8781, \n",
      "Validation F-beta Score\n",
      "Class 0: 0.9848, Class 1: 0.8707, Class 2: 0.3396, Class 3: 0.5574, Class 4: 0.7909, Class 5: 0.6093, Class 6: 0.9530, \n",
      "\n",
      "Overall Mean Dice Score: 0.6382\n",
      "Overall Mean F-beta Score: 0.7563\n",
      "\n",
      "Training Loss: 0.3265, Validation Loss: 0.3238, Validation F-beta: 0.7563\n",
      "Epoch 102/4000\n"
     ]
    },
    {
     "name": "stderr",
     "output_type": "stream",
     "text": [
      "Training: 100%|██████████| 72/72 [01:28<00:00,  1.23s/it, loss=0.337]\n",
      "Validation: 100%|██████████| 12/12 [00:09<00:00,  1.24it/s, loss=0.317]\n"
     ]
    },
    {
     "name": "stdout",
     "output_type": "stream",
     "text": [
      "Validation Dice Score\n",
      "Class 0: 0.9904, Class 1: 0.7182, Class 2: 0.2539, Class 3: 0.3947, Class 4: 0.7230, Class 5: 0.4647, Class 6: 0.8905, \n",
      "Validation F-beta Score\n",
      "Class 0: 0.9887, Class 1: 0.8830, Class 2: 0.3384, Class 3: 0.6044, Class 4: 0.7237, Class 5: 0.5141, Class 6: 0.9560, \n",
      "\n",
      "Overall Mean Dice Score: 0.6382\n",
      "Overall Mean F-beta Score: 0.7363\n",
      "\n",
      "Training Loss: 0.3286, Validation Loss: 0.3196, Validation F-beta: 0.7363\n",
      "Epoch 103/4000\n"
     ]
    },
    {
     "name": "stderr",
     "output_type": "stream",
     "text": [
      "Training: 100%|██████████| 72/72 [01:20<00:00,  1.12s/it, loss=0.324]\n",
      "Validation: 100%|██████████| 12/12 [00:09<00:00,  1.23it/s, loss=0.334]\n"
     ]
    },
    {
     "name": "stdout",
     "output_type": "stream",
     "text": [
      "Validation Dice Score\n",
      "Class 0: 0.9899, Class 1: 0.7407, Class 2: 0.2601, Class 3: 0.3862, Class 4: 0.7138, Class 5: 0.4442, Class 6: 0.8743, \n",
      "Validation F-beta Score\n",
      "Class 0: 0.9859, Class 1: 0.8900, Class 2: 0.2789, Class 3: 0.5019, Class 4: 0.8033, Class 5: 0.5797, Class 6: 0.9556, \n",
      "\n",
      "Overall Mean Dice Score: 0.6319\n",
      "Overall Mean F-beta Score: 0.7461\n",
      "\n",
      "Training Loss: 0.3307, Validation Loss: 0.3175, Validation F-beta: 0.7461\n",
      "Epoch 104/4000\n"
     ]
    },
    {
     "name": "stderr",
     "output_type": "stream",
     "text": [
      "Training: 100%|██████████| 72/72 [01:21<00:00,  1.13s/it, loss=0.311]\n",
      "Validation: 100%|██████████| 12/12 [00:09<00:00,  1.22it/s, loss=0.317]\n"
     ]
    },
    {
     "name": "stdout",
     "output_type": "stream",
     "text": [
      "Validation Dice Score\n",
      "Class 0: 0.9901, Class 1: 0.7572, Class 2: 0.2343, Class 3: 0.3665, Class 4: 0.7232, Class 5: 0.4846, Class 6: 0.8776, \n",
      "Validation F-beta Score\n",
      "Class 0: 0.9872, Class 1: 0.8965, Class 2: 0.4014, Class 3: 0.5363, Class 4: 0.7418, Class 5: 0.5870, Class 6: 0.9598, \n",
      "\n",
      "Overall Mean Dice Score: 0.6418\n",
      "Overall Mean F-beta Score: 0.7443\n",
      "\n",
      "Training Loss: 0.3281, Validation Loss: 0.3132, Validation F-beta: 0.7443\n",
      "Epoch 105/4000\n"
     ]
    },
    {
     "name": "stderr",
     "output_type": "stream",
     "text": [
      "Training: 100%|██████████| 72/72 [01:21<00:00,  1.14s/it, loss=0.311]\n",
      "Validation: 100%|██████████| 12/12 [00:09<00:00,  1.29it/s, loss=0.33] \n"
     ]
    },
    {
     "name": "stdout",
     "output_type": "stream",
     "text": [
      "Validation Dice Score\n",
      "Class 0: 0.9897, Class 1: 0.7978, Class 2: 0.2444, Class 3: 0.3905, Class 4: 0.7226, Class 5: 0.4777, Class 6: 0.8837, \n",
      "Validation F-beta Score\n",
      "Class 0: 0.9864, Class 1: 0.8868, Class 2: 0.4196, Class 3: 0.5531, Class 4: 0.7455, Class 5: 0.5803, Class 6: 0.9654, \n",
      "\n",
      "Overall Mean Dice Score: 0.6545\n",
      "Overall Mean F-beta Score: 0.7462\n",
      "\n",
      "Training Loss: 0.3256, Validation Loss: 0.3121, Validation F-beta: 0.7462\n",
      "Epoch 106/4000\n"
     ]
    },
    {
     "name": "stderr",
     "output_type": "stream",
     "text": [
      "Training: 100%|██████████| 72/72 [01:19<00:00,  1.10s/it, loss=0.321]\n",
      "Validation: 100%|██████████| 12/12 [00:09<00:00,  1.28it/s, loss=0.296]\n"
     ]
    },
    {
     "name": "stdout",
     "output_type": "stream",
     "text": [
      "Validation Dice Score\n",
      "Class 0: 0.9908, Class 1: 0.7492, Class 2: 0.1901, Class 3: 0.3976, Class 4: 0.7347, Class 5: 0.5061, Class 6: 0.8981, \n",
      "Validation F-beta Score\n",
      "Class 0: 0.9888, Class 1: 0.8762, Class 2: 0.2996, Class 3: 0.5033, Class 4: 0.7567, Class 5: 0.5496, Class 6: 0.9545, \n",
      "\n",
      "Overall Mean Dice Score: 0.6572\n",
      "Overall Mean F-beta Score: 0.7281\n",
      "\n",
      "Training Loss: 0.3298, Validation Loss: 0.3107, Validation F-beta: 0.7281\n",
      "Epoch 107/4000\n"
     ]
    },
    {
     "name": "stderr",
     "output_type": "stream",
     "text": [
      "Training: 100%|██████████| 72/72 [01:18<00:00,  1.10s/it, loss=0.309]\n",
      "Validation: 100%|██████████| 12/12 [00:09<00:00,  1.29it/s, loss=0.298]\n"
     ]
    },
    {
     "name": "stdout",
     "output_type": "stream",
     "text": [
      "Validation Dice Score\n",
      "Class 0: 0.9905, Class 1: 0.7372, Class 2: 0.3036, Class 3: 0.4083, Class 4: 0.7088, Class 5: 0.4966, Class 6: 0.8824, \n",
      "Validation F-beta Score\n",
      "Class 0: 0.9881, Class 1: 0.8898, Class 2: 0.3718, Class 3: 0.5523, Class 4: 0.7701, Class 5: 0.5436, Class 6: 0.9556, \n",
      "\n",
      "Overall Mean Dice Score: 0.6467\n",
      "Overall Mean F-beta Score: 0.7423\n",
      "\n",
      "Training Loss: 0.3257, Validation Loss: 0.3095, Validation F-beta: 0.7423\n",
      "Epoch 108/4000\n"
     ]
    },
    {
     "name": "stderr",
     "output_type": "stream",
     "text": [
      "Training: 100%|██████████| 72/72 [01:29<00:00,  1.24s/it, loss=0.325]\n",
      "Validation: 100%|██████████| 12/12 [00:09<00:00,  1.21it/s, loss=0.332]\n"
     ]
    },
    {
     "name": "stdout",
     "output_type": "stream",
     "text": [
      "Validation Dice Score\n",
      "Class 0: 0.9902, Class 1: 0.7714, Class 2: 0.3160, Class 3: 0.4221, Class 4: 0.7507, Class 5: 0.4924, Class 6: 0.8893, \n",
      "Validation F-beta Score\n",
      "Class 0: 0.9876, Class 1: 0.8838, Class 2: 0.4522, Class 3: 0.4935, Class 4: 0.7821, Class 5: 0.5759, Class 6: 0.9607, \n",
      "\n",
      "Overall Mean Dice Score: 0.6652\n",
      "Overall Mean F-beta Score: 0.7392\n",
      "\n",
      "Training Loss: 0.3316, Validation Loss: 0.3093, Validation F-beta: 0.7392\n",
      "Epoch 109/4000\n"
     ]
    },
    {
     "name": "stderr",
     "output_type": "stream",
     "text": [
      "Training: 100%|██████████| 72/72 [01:24<00:00,  1.17s/it, loss=0.319]\n",
      "Validation: 100%|██████████| 12/12 [00:09<00:00,  1.22it/s, loss=0.312]\n"
     ]
    },
    {
     "name": "stdout",
     "output_type": "stream",
     "text": [
      "Validation Dice Score\n",
      "Class 0: 0.9901, Class 1: 0.7867, Class 2: 0.2588, Class 3: 0.3919, Class 4: 0.7260, Class 5: 0.4901, Class 6: 0.8856, \n",
      "Validation F-beta Score\n",
      "Class 0: 0.9873, Class 1: 0.8514, Class 2: 0.3449, Class 3: 0.5483, Class 4: 0.7960, Class 5: 0.5410, Class 6: 0.9633, \n",
      "\n",
      "Overall Mean Dice Score: 0.6560\n",
      "Overall Mean F-beta Score: 0.7400\n",
      "\n",
      "Training Loss: 0.3271, Validation Loss: 0.3059, Validation F-beta: 0.7400\n",
      "Epoch 110/4000\n"
     ]
    },
    {
     "name": "stderr",
     "output_type": "stream",
     "text": [
      "Training: 100%|██████████| 72/72 [01:23<00:00,  1.16s/it, loss=0.354]\n",
      "Validation: 100%|██████████| 12/12 [00:09<00:00,  1.23it/s, loss=0.318]\n"
     ]
    },
    {
     "name": "stdout",
     "output_type": "stream",
     "text": [
      "Validation Dice Score\n",
      "Class 0: 0.9905, Class 1: 0.7668, Class 2: 0.3117, Class 3: 0.4148, Class 4: 0.7187, Class 5: 0.5122, Class 6: 0.8936, \n",
      "Validation F-beta Score\n",
      "Class 0: 0.9880, Class 1: 0.8647, Class 2: 0.4879, Class 3: 0.5272, Class 4: 0.7805, Class 5: 0.5480, Class 6: 0.9576, \n",
      "\n",
      "Overall Mean Dice Score: 0.6612\n",
      "Overall Mean F-beta Score: 0.7356\n",
      "\n",
      "Training Loss: 0.3307, Validation Loss: 0.2998, Validation F-beta: 0.7356\n",
      "Epoch 111/4000\n"
     ]
    },
    {
     "name": "stderr",
     "output_type": "stream",
     "text": [
      "Training: 100%|██████████| 72/72 [01:26<00:00,  1.20s/it, loss=0.338]\n",
      "Validation: 100%|██████████| 12/12 [00:09<00:00,  1.26it/s, loss=0.302]\n"
     ]
    },
    {
     "name": "stdout",
     "output_type": "stream",
     "text": [
      "Validation Dice Score\n",
      "Class 0: 0.9897, Class 1: 0.7808, Class 2: 0.2069, Class 3: 0.3590, Class 4: 0.7229, Class 5: 0.4801, Class 6: 0.8601, \n",
      "Validation F-beta Score\n",
      "Class 0: 0.9861, Class 1: 0.8658, Class 2: 0.3684, Class 3: 0.5252, Class 4: 0.7524, Class 5: 0.5935, Class 6: 0.9572, \n",
      "\n",
      "Overall Mean Dice Score: 0.6406\n",
      "Overall Mean F-beta Score: 0.7388\n",
      "\n",
      "Training Loss: 0.3262, Validation Loss: 0.3142, Validation F-beta: 0.7388\n",
      "Epoch 112/4000\n"
     ]
    },
    {
     "name": "stderr",
     "output_type": "stream",
     "text": [
      "Training: 100%|██████████| 72/72 [01:21<00:00,  1.13s/it, loss=0.341]\n",
      "Validation: 100%|██████████| 12/12 [00:09<00:00,  1.29it/s, loss=0.332]\n"
     ]
    },
    {
     "name": "stdout",
     "output_type": "stream",
     "text": [
      "Validation Dice Score\n",
      "Class 0: 0.9901, Class 1: 0.7665, Class 2: 0.2574, Class 3: 0.3898, Class 4: 0.7176, Class 5: 0.4776, Class 6: 0.8944, \n",
      "Validation F-beta Score\n",
      "Class 0: 0.9868, Class 1: 0.8783, Class 2: 0.3626, Class 3: 0.5479, Class 4: 0.7840, Class 5: 0.5634, Class 6: 0.9586, \n",
      "\n",
      "Overall Mean Dice Score: 0.6492\n",
      "Overall Mean F-beta Score: 0.7464\n",
      "\n",
      "Training Loss: 0.3288, Validation Loss: 0.3152, Validation F-beta: 0.7464\n",
      "Epoch 113/4000\n"
     ]
    },
    {
     "name": "stderr",
     "output_type": "stream",
     "text": [
      "Training: 100%|██████████| 72/72 [01:19<00:00,  1.11s/it, loss=0.359]\n",
      "Validation: 100%|██████████| 12/12 [00:09<00:00,  1.29it/s, loss=0.341]\n"
     ]
    },
    {
     "name": "stdout",
     "output_type": "stream",
     "text": [
      "Validation Dice Score\n",
      "Class 0: 0.9900, Class 1: 0.7718, Class 2: 0.2839, Class 3: 0.3778, Class 4: 0.7359, Class 5: 0.4992, Class 6: 0.8818, \n",
      "Validation F-beta Score\n",
      "Class 0: 0.9867, Class 1: 0.8908, Class 2: 0.4239, Class 3: 0.4940, Class 4: 0.8120, Class 5: 0.5688, Class 6: 0.9654, \n",
      "\n",
      "Overall Mean Dice Score: 0.6533\n",
      "Overall Mean F-beta Score: 0.7462\n",
      "\n",
      "Training Loss: 0.3260, Validation Loss: 0.3052, Validation F-beta: 0.7462\n",
      "Epoch 114/4000\n"
     ]
    },
    {
     "name": "stderr",
     "output_type": "stream",
     "text": [
      "Training: 100%|██████████| 72/72 [01:20<00:00,  1.12s/it, loss=0.277]\n",
      "Validation: 100%|██████████| 12/12 [00:09<00:00,  1.28it/s, loss=0.343]\n"
     ]
    },
    {
     "name": "stdout",
     "output_type": "stream",
     "text": [
      "Validation Dice Score\n",
      "Class 0: 0.9901, Class 1: 0.7207, Class 2: 0.2431, Class 3: 0.4083, Class 4: 0.7241, Class 5: 0.4774, Class 6: 0.8902, \n",
      "Validation F-beta Score\n",
      "Class 0: 0.9871, Class 1: 0.8797, Class 2: 0.3125, Class 3: 0.5663, Class 4: 0.7500, Class 5: 0.5862, Class 6: 0.9511, \n",
      "\n",
      "Overall Mean Dice Score: 0.6441\n",
      "Overall Mean F-beta Score: 0.7467\n",
      "\n",
      "Training Loss: 0.3269, Validation Loss: 0.3175, Validation F-beta: 0.7467\n",
      "Epoch 115/4000\n"
     ]
    },
    {
     "name": "stderr",
     "output_type": "stream",
     "text": [
      "Training: 100%|██████████| 72/72 [01:21<00:00,  1.14s/it, loss=0.314]\n",
      "Validation: 100%|██████████| 12/12 [00:09<00:00,  1.29it/s, loss=0.339]\n"
     ]
    },
    {
     "name": "stdout",
     "output_type": "stream",
     "text": [
      "Validation Dice Score\n",
      "Class 0: 0.9902, Class 1: 0.7766, Class 2: 0.2337, Class 3: 0.4114, Class 4: 0.7364, Class 5: 0.4661, Class 6: 0.8825, \n",
      "Validation F-beta Score\n",
      "Class 0: 0.9870, Class 1: 0.8643, Class 2: 0.3465, Class 3: 0.5189, Class 4: 0.7821, Class 5: 0.5765, Class 6: 0.9504, \n",
      "\n",
      "Overall Mean Dice Score: 0.6546\n",
      "Overall Mean F-beta Score: 0.7384\n",
      "\n",
      "Training Loss: 0.3279, Validation Loss: 0.3172, Validation F-beta: 0.7384\n",
      "Epoch 116/4000\n"
     ]
    },
    {
     "name": "stderr",
     "output_type": "stream",
     "text": [
      "Training: 100%|██████████| 72/72 [01:21<00:00,  1.13s/it, loss=0.325]\n",
      "Validation: 100%|██████████| 12/12 [00:09<00:00,  1.28it/s, loss=0.328]\n"
     ]
    },
    {
     "name": "stdout",
     "output_type": "stream",
     "text": [
      "Validation Dice Score\n",
      "Class 0: 0.9903, Class 1: 0.7632, Class 2: 0.3123, Class 3: 0.3905, Class 4: 0.7188, Class 5: 0.4763, Class 6: 0.8910, \n",
      "Validation F-beta Score\n",
      "Class 0: 0.9874, Class 1: 0.8795, Class 2: 0.4393, Class 3: 0.5184, Class 4: 0.7725, Class 5: 0.5522, Class 6: 0.9563, \n",
      "\n",
      "Overall Mean Dice Score: 0.6480\n",
      "Overall Mean F-beta Score: 0.7358\n",
      "\n",
      "Training Loss: 0.3247, Validation Loss: 0.3120, Validation F-beta: 0.7358\n",
      "Epoch 117/4000\n"
     ]
    },
    {
     "name": "stderr",
     "output_type": "stream",
     "text": [
      "Training: 100%|██████████| 72/72 [01:21<00:00,  1.14s/it, loss=0.325]\n",
      "Validation: 100%|██████████| 12/12 [00:09<00:00,  1.29it/s, loss=0.301]\n"
     ]
    },
    {
     "name": "stdout",
     "output_type": "stream",
     "text": [
      "Validation Dice Score\n",
      "Class 0: 0.9901, Class 1: 0.7802, Class 2: 0.2578, Class 3: 0.3822, Class 4: 0.7096, Class 5: 0.4827, Class 6: 0.8923, \n",
      "Validation F-beta Score\n",
      "Class 0: 0.9875, Class 1: 0.9000, Class 2: 0.3333, Class 3: 0.5529, Class 4: 0.7487, Class 5: 0.5494, Class 6: 0.9608, \n",
      "\n",
      "Overall Mean Dice Score: 0.6494\n",
      "Overall Mean F-beta Score: 0.7424\n",
      "\n",
      "Training Loss: 0.3295, Validation Loss: 0.3107, Validation F-beta: 0.7424\n",
      "Epoch 118/4000\n"
     ]
    },
    {
     "name": "stderr",
     "output_type": "stream",
     "text": [
      "Training: 100%|██████████| 72/72 [01:22<00:00,  1.15s/it, loss=0.331]\n",
      "Validation: 100%|██████████| 12/12 [00:09<00:00,  1.25it/s, loss=0.342]\n"
     ]
    },
    {
     "name": "stdout",
     "output_type": "stream",
     "text": [
      "Validation Dice Score\n",
      "Class 0: 0.9900, Class 1: 0.7560, Class 2: 0.2583, Class 3: 0.3891, Class 4: 0.7452, Class 5: 0.4345, Class 6: 0.8802, \n",
      "Validation F-beta Score\n",
      "Class 0: 0.9869, Class 1: 0.8947, Class 2: 0.3439, Class 3: 0.5629, Class 4: 0.7843, Class 5: 0.5316, Class 6: 0.9525, \n",
      "\n",
      "Overall Mean Dice Score: 0.6410\n",
      "Overall Mean F-beta Score: 0.7452\n",
      "\n",
      "Training Loss: 0.3257, Validation Loss: 0.3189, Validation F-beta: 0.7452\n",
      "Epoch 119/4000\n"
     ]
    },
    {
     "name": "stderr",
     "output_type": "stream",
     "text": [
      "Training: 100%|██████████| 72/72 [01:21<00:00,  1.13s/it, loss=0.318]\n",
      "Validation: 100%|██████████| 12/12 [00:09<00:00,  1.29it/s, loss=0.336]\n"
     ]
    },
    {
     "name": "stdout",
     "output_type": "stream",
     "text": [
      "Validation Dice Score\n",
      "Class 0: 0.9900, Class 1: 0.7870, Class 2: 0.2606, Class 3: 0.4444, Class 4: 0.7322, Class 5: 0.4750, Class 6: 0.8896, \n",
      "Validation F-beta Score\n",
      "Class 0: 0.9867, Class 1: 0.8792, Class 2: 0.3715, Class 3: 0.5859, Class 4: 0.7782, Class 5: 0.5744, Class 6: 0.9547, \n",
      "\n",
      "Overall Mean Dice Score: 0.6656\n",
      "Overall Mean F-beta Score: 0.7545\n",
      "\n",
      "Training Loss: 0.3275, Validation Loss: 0.3129, Validation F-beta: 0.7545\n",
      "Epoch 120/4000\n"
     ]
    },
    {
     "name": "stderr",
     "output_type": "stream",
     "text": [
      "Training: 100%|██████████| 72/72 [01:22<00:00,  1.15s/it, loss=0.315]\n",
      "Validation: 100%|██████████| 12/12 [00:09<00:00,  1.28it/s, loss=0.302]\n"
     ]
    },
    {
     "name": "stdout",
     "output_type": "stream",
     "text": [
      "Validation Dice Score\n",
      "Class 0: 0.9904, Class 1: 0.7691, Class 2: 0.2402, Class 3: 0.4162, Class 4: 0.7264, Class 5: 0.5053, Class 6: 0.8908, \n",
      "Validation F-beta Score\n",
      "Class 0: 0.9869, Class 1: 0.8882, Class 2: 0.3358, Class 3: 0.5814, Class 4: 0.7913, Class 5: 0.6056, Class 6: 0.9571, \n",
      "\n",
      "Overall Mean Dice Score: 0.6616\n",
      "Overall Mean F-beta Score: 0.7647\n",
      "\n",
      "Training Loss: 0.3275, Validation Loss: 0.3096, Validation F-beta: 0.7647\n",
      "Epoch 121/4000\n"
     ]
    },
    {
     "name": "stderr",
     "output_type": "stream",
     "text": [
      "Training: 100%|██████████| 72/72 [01:19<00:00,  1.11s/it, loss=0.317]\n",
      "Validation: 100%|██████████| 12/12 [00:09<00:00,  1.30it/s, loss=0.29] \n"
     ]
    },
    {
     "name": "stdout",
     "output_type": "stream",
     "text": [
      "Validation Dice Score\n",
      "Class 0: 0.9902, Class 1: 0.7740, Class 2: 0.2480, Class 3: 0.3953, Class 4: 0.7297, Class 5: 0.4872, Class 6: 0.8942, \n",
      "Validation F-beta Score\n",
      "Class 0: 0.9875, Class 1: 0.8786, Class 2: 0.4184, Class 3: 0.5284, Class 4: 0.7331, Class 5: 0.6012, Class 6: 0.9592, \n",
      "\n",
      "Overall Mean Dice Score: 0.6561\n",
      "Overall Mean F-beta Score: 0.7401\n",
      "\n",
      "Training Loss: 0.3262, Validation Loss: 0.3140, Validation F-beta: 0.7401\n",
      "Epoch 122/4000\n"
     ]
    },
    {
     "name": "stderr",
     "output_type": "stream",
     "text": [
      "Training: 100%|██████████| 72/72 [01:19<00:00,  1.11s/it, loss=0.323]\n",
      "Validation: 100%|██████████| 12/12 [00:09<00:00,  1.29it/s, loss=0.35] \n"
     ]
    },
    {
     "name": "stdout",
     "output_type": "stream",
     "text": [
      "Validation Dice Score\n",
      "Class 0: 0.9904, Class 1: 0.7833, Class 2: 0.2917, Class 3: 0.4063, Class 4: 0.7217, Class 5: 0.4620, Class 6: 0.8850, \n",
      "Validation F-beta Score\n",
      "Class 0: 0.9869, Class 1: 0.8953, Class 2: 0.4686, Class 3: 0.5293, Class 4: 0.7652, Class 5: 0.5953, Class 6: 0.9623, \n",
      "\n",
      "Overall Mean Dice Score: 0.6517\n",
      "Overall Mean F-beta Score: 0.7495\n",
      "\n",
      "Training Loss: 0.3277, Validation Loss: 0.3185, Validation F-beta: 0.7495\n",
      "Epoch 123/4000\n"
     ]
    },
    {
     "name": "stderr",
     "output_type": "stream",
     "text": [
      "Training: 100%|██████████| 72/72 [01:19<00:00,  1.10s/it, loss=0.301]\n",
      "Validation: 100%|██████████| 12/12 [00:09<00:00,  1.24it/s, loss=0.298]\n"
     ]
    },
    {
     "name": "stdout",
     "output_type": "stream",
     "text": [
      "Validation Dice Score\n",
      "Class 0: 0.9901, Class 1: 0.7719, Class 2: 0.2921, Class 3: 0.4103, Class 4: 0.7335, Class 5: 0.4874, Class 6: 0.8792, \n",
      "Validation F-beta Score\n",
      "Class 0: 0.9868, Class 1: 0.8799, Class 2: 0.4246, Class 3: 0.5456, Class 4: 0.7921, Class 5: 0.5890, Class 6: 0.9508, \n",
      "\n",
      "Overall Mean Dice Score: 0.6564\n",
      "Overall Mean F-beta Score: 0.7515\n",
      "\n",
      "Training Loss: 0.3246, Validation Loss: 0.3109, Validation F-beta: 0.7515\n",
      "Epoch 124/4000\n"
     ]
    },
    {
     "name": "stderr",
     "output_type": "stream",
     "text": [
      "Training: 100%|██████████| 72/72 [01:18<00:00,  1.09s/it, loss=0.337]\n",
      "Validation: 100%|██████████| 12/12 [00:10<00:00,  1.11it/s, loss=0.341]\n"
     ]
    },
    {
     "name": "stdout",
     "output_type": "stream",
     "text": [
      "Validation Dice Score\n",
      "Class 0: 0.9897, Class 1: 0.7569, Class 2: 0.2380, Class 3: 0.3609, Class 4: 0.7027, Class 5: 0.5049, Class 6: 0.8818, \n",
      "Validation F-beta Score\n",
      "Class 0: 0.9866, Class 1: 0.8955, Class 2: 0.3363, Class 3: 0.4554, Class 4: 0.7672, Class 5: 0.5851, Class 6: 0.9589, \n",
      "\n",
      "Overall Mean Dice Score: 0.6415\n",
      "Overall Mean F-beta Score: 0.7324\n",
      "\n",
      "Training Loss: 0.3271, Validation Loss: 0.3152, Validation F-beta: 0.7324\n",
      "Epoch 125/4000\n"
     ]
    },
    {
     "name": "stderr",
     "output_type": "stream",
     "text": [
      "Training: 100%|██████████| 72/72 [01:18<00:00,  1.09s/it, loss=0.315]\n",
      "Validation: 100%|██████████| 12/12 [00:09<00:00,  1.29it/s, loss=0.313]\n"
     ]
    },
    {
     "name": "stdout",
     "output_type": "stream",
     "text": [
      "Validation Dice Score\n",
      "Class 0: 0.9897, Class 1: 0.7584, Class 2: 0.2694, Class 3: 0.4447, Class 4: 0.7244, Class 5: 0.4688, Class 6: 0.8699, \n",
      "Validation F-beta Score\n",
      "Class 0: 0.9864, Class 1: 0.8651, Class 2: 0.3970, Class 3: 0.5926, Class 4: 0.7655, Class 5: 0.5829, Class 6: 0.9597, \n",
      "\n",
      "Overall Mean Dice Score: 0.6532\n",
      "Overall Mean F-beta Score: 0.7531\n",
      "\n",
      "Training Loss: 0.3262, Validation Loss: 0.3134, Validation F-beta: 0.7531\n",
      "Epoch 126/4000\n"
     ]
    },
    {
     "name": "stderr",
     "output_type": "stream",
     "text": [
      "Training: 100%|██████████| 72/72 [01:19<00:00,  1.10s/it, loss=0.34] \n",
      "Validation: 100%|██████████| 12/12 [00:09<00:00,  1.33it/s, loss=0.299]\n"
     ]
    },
    {
     "name": "stdout",
     "output_type": "stream",
     "text": [
      "Validation Dice Score\n",
      "Class 0: 0.9902, Class 1: 0.7655, Class 2: 0.2307, Class 3: 0.4478, Class 4: 0.7442, Class 5: 0.5009, Class 6: 0.8890, \n",
      "Validation F-beta Score\n",
      "Class 0: 0.9872, Class 1: 0.8874, Class 2: 0.3442, Class 3: 0.5843, Class 4: 0.7968, Class 5: 0.5766, Class 6: 0.9598, \n",
      "\n",
      "Overall Mean Dice Score: 0.6695\n",
      "Overall Mean F-beta Score: 0.7610\n",
      "\n",
      "Training Loss: 0.3282, Validation Loss: 0.3022, Validation F-beta: 0.7610\n",
      "========================================================\n",
      "SUPER Best model saved. Loss:0.3022, Score:0.7610\n",
      "========================================================\n",
      "Epoch 127/4000\n"
     ]
    },
    {
     "name": "stderr",
     "output_type": "stream",
     "text": [
      "Training: 100%|██████████| 72/72 [01:21<00:00,  1.14s/it, loss=0.307]\n",
      "Validation: 100%|██████████| 12/12 [00:09<00:00,  1.31it/s, loss=0.323]\n"
     ]
    },
    {
     "name": "stdout",
     "output_type": "stream",
     "text": [
      "Validation Dice Score\n",
      "Class 0: 0.9902, Class 1: 0.7751, Class 2: 0.2479, Class 3: 0.3841, Class 4: 0.7467, Class 5: 0.4708, Class 6: 0.8902, \n",
      "Validation F-beta Score\n",
      "Class 0: 0.9865, Class 1: 0.8699, Class 2: 0.3466, Class 3: 0.5324, Class 4: 0.8041, Class 5: 0.6012, Class 6: 0.9591, \n",
      "\n",
      "Overall Mean Dice Score: 0.6534\n",
      "Overall Mean F-beta Score: 0.7533\n",
      "\n",
      "Training Loss: 0.3270, Validation Loss: 0.3115, Validation F-beta: 0.7533\n",
      "Epoch 128/4000\n"
     ]
    },
    {
     "name": "stderr",
     "output_type": "stream",
     "text": [
      "Training: 100%|██████████| 72/72 [01:21<00:00,  1.13s/it, loss=0.33] \n",
      "Validation: 100%|██████████| 12/12 [00:09<00:00,  1.26it/s, loss=0.322]\n"
     ]
    },
    {
     "name": "stdout",
     "output_type": "stream",
     "text": [
      "Validation Dice Score\n",
      "Class 0: 0.9908, Class 1: 0.7941, Class 2: 0.2418, Class 3: 0.3912, Class 4: 0.7211, Class 5: 0.5026, Class 6: 0.9001, \n",
      "Validation F-beta Score\n",
      "Class 0: 0.9875, Class 1: 0.8889, Class 2: 0.3586, Class 3: 0.5522, Class 4: 0.7820, Class 5: 0.6046, Class 6: 0.9578, \n",
      "\n",
      "Overall Mean Dice Score: 0.6618\n",
      "Overall Mean F-beta Score: 0.7571\n",
      "\n",
      "Training Loss: 0.3243, Validation Loss: 0.3086, Validation F-beta: 0.7571\n",
      "Epoch 129/4000\n"
     ]
    },
    {
     "name": "stderr",
     "output_type": "stream",
     "text": [
      "Training: 100%|██████████| 72/72 [01:21<00:00,  1.13s/it, loss=0.322]\n",
      "Validation: 100%|██████████| 12/12 [00:09<00:00,  1.24it/s, loss=0.301]\n"
     ]
    },
    {
     "name": "stdout",
     "output_type": "stream",
     "text": [
      "Validation Dice Score\n",
      "Class 0: 0.9904, Class 1: 0.7618, Class 2: 0.2872, Class 3: 0.4158, Class 4: 0.7392, Class 5: 0.4977, Class 6: 0.8923, \n",
      "Validation F-beta Score\n",
      "Class 0: 0.9874, Class 1: 0.8720, Class 2: 0.3814, Class 3: 0.5532, Class 4: 0.7889, Class 5: 0.5976, Class 6: 0.9571, \n",
      "\n",
      "Overall Mean Dice Score: 0.6614\n",
      "Overall Mean F-beta Score: 0.7538\n",
      "\n",
      "Training Loss: 0.3243, Validation Loss: 0.3096, Validation F-beta: 0.7538\n",
      "Epoch 130/4000\n"
     ]
    },
    {
     "name": "stderr",
     "output_type": "stream",
     "text": [
      "Training: 100%|██████████| 72/72 [01:21<00:00,  1.14s/it, loss=0.312]\n",
      "Validation: 100%|██████████| 12/12 [00:09<00:00,  1.28it/s, loss=0.33] \n"
     ]
    },
    {
     "name": "stdout",
     "output_type": "stream",
     "text": [
      "Validation Dice Score\n",
      "Class 0: 0.9905, Class 1: 0.7846, Class 2: 0.2320, Class 3: 0.4101, Class 4: 0.7561, Class 5: 0.4764, Class 6: 0.8840, \n",
      "Validation F-beta Score\n",
      "Class 0: 0.9869, Class 1: 0.8758, Class 2: 0.3289, Class 3: 0.5505, Class 4: 0.8136, Class 5: 0.6004, Class 6: 0.9536, \n",
      "\n",
      "Overall Mean Dice Score: 0.6622\n",
      "Overall Mean F-beta Score: 0.7588\n",
      "\n",
      "Training Loss: 0.3295, Validation Loss: 0.3201, Validation F-beta: 0.7588\n",
      "Epoch 131/4000\n"
     ]
    },
    {
     "name": "stderr",
     "output_type": "stream",
     "text": [
      "Training: 100%|██████████| 72/72 [01:22<00:00,  1.15s/it, loss=0.325]\n",
      "Validation: 100%|██████████| 12/12 [00:10<00:00,  1.19it/s, loss=0.32] \n"
     ]
    },
    {
     "name": "stdout",
     "output_type": "stream",
     "text": [
      "Validation Dice Score\n",
      "Class 0: 0.9905, Class 1: 0.7814, Class 2: 0.2682, Class 3: 0.4222, Class 4: 0.7371, Class 5: 0.4799, Class 6: 0.8886, \n",
      "Validation F-beta Score\n",
      "Class 0: 0.9878, Class 1: 0.8666, Class 2: 0.4034, Class 3: 0.5439, Class 4: 0.7438, Class 5: 0.5975, Class 6: 0.9483, \n",
      "\n",
      "Overall Mean Dice Score: 0.6618\n",
      "Overall Mean F-beta Score: 0.7400\n",
      "\n",
      "Training Loss: 0.3270, Validation Loss: 0.3134, Validation F-beta: 0.7400\n",
      "Epoch 132/4000\n"
     ]
    },
    {
     "name": "stderr",
     "output_type": "stream",
     "text": [
      "Training: 100%|██████████| 72/72 [01:19<00:00,  1.10s/it, loss=0.343]\n",
      "Validation: 100%|██████████| 12/12 [00:09<00:00,  1.28it/s, loss=0.329]\n"
     ]
    },
    {
     "name": "stdout",
     "output_type": "stream",
     "text": [
      "Validation Dice Score\n",
      "Class 0: 0.9898, Class 1: 0.7917, Class 2: 0.2702, Class 3: 0.4263, Class 4: 0.7133, Class 5: 0.4894, Class 6: 0.8714, \n",
      "Validation F-beta Score\n",
      "Class 0: 0.9863, Class 1: 0.9059, Class 2: 0.3925, Class 3: 0.5711, Class 4: 0.7698, Class 5: 0.5956, Class 6: 0.9555, \n",
      "\n",
      "Overall Mean Dice Score: 0.6584\n",
      "Overall Mean F-beta Score: 0.7595\n",
      "\n",
      "Training Loss: 0.3275, Validation Loss: 0.3160, Validation F-beta: 0.7595\n",
      "Epoch 133/4000\n"
     ]
    },
    {
     "name": "stderr",
     "output_type": "stream",
     "text": [
      "Training: 100%|██████████| 72/72 [01:18<00:00,  1.10s/it, loss=0.314]\n",
      "Validation: 100%|██████████| 12/12 [00:09<00:00,  1.30it/s, loss=0.324]\n"
     ]
    },
    {
     "name": "stdout",
     "output_type": "stream",
     "text": [
      "Validation Dice Score\n",
      "Class 0: 0.9902, Class 1: 0.7857, Class 2: 0.2804, Class 3: 0.4119, Class 4: 0.7556, Class 5: 0.4716, Class 6: 0.8924, \n",
      "Validation F-beta Score\n",
      "Class 0: 0.9866, Class 1: 0.8958, Class 2: 0.3924, Class 3: 0.5409, Class 4: 0.8128, Class 5: 0.6000, Class 6: 0.9563, \n",
      "\n",
      "Overall Mean Dice Score: 0.6634\n",
      "Overall Mean F-beta Score: 0.7612\n",
      "\n",
      "Training Loss: 0.3274, Validation Loss: 0.3100, Validation F-beta: 0.7612\n",
      "Epoch 134/4000\n"
     ]
    },
    {
     "name": "stderr",
     "output_type": "stream",
     "text": [
      "Training: 100%|██████████| 72/72 [01:18<00:00,  1.09s/it, loss=0.326]\n",
      "Validation: 100%|██████████| 12/12 [00:09<00:00,  1.30it/s, loss=0.346]\n"
     ]
    },
    {
     "name": "stdout",
     "output_type": "stream",
     "text": [
      "Validation Dice Score\n",
      "Class 0: 0.9895, Class 1: 0.7892, Class 2: 0.2153, Class 3: 0.3770, Class 4: 0.7116, Class 5: 0.5017, Class 6: 0.8919, \n",
      "Validation F-beta Score\n",
      "Class 0: 0.9865, Class 1: 0.8828, Class 2: 0.3607, Class 3: 0.4831, Class 4: 0.7477, Class 5: 0.5870, Class 6: 0.9584, \n",
      "\n",
      "Overall Mean Dice Score: 0.6543\n",
      "Overall Mean F-beta Score: 0.7318\n",
      "\n",
      "Training Loss: 0.3210, Validation Loss: 0.3067, Validation F-beta: 0.7318\n",
      "Epoch 135/4000\n"
     ]
    },
    {
     "name": "stderr",
     "output_type": "stream",
     "text": [
      "Training: 100%|██████████| 72/72 [01:18<00:00,  1.10s/it, loss=0.316]\n",
      "Validation: 100%|██████████| 12/12 [00:09<00:00,  1.30it/s, loss=0.285]\n"
     ]
    },
    {
     "name": "stdout",
     "output_type": "stream",
     "text": [
      "Validation Dice Score\n",
      "Class 0: 0.9906, Class 1: 0.7675, Class 2: 0.2576, Class 3: 0.3807, Class 4: 0.7491, Class 5: 0.4703, Class 6: 0.8910, \n",
      "Validation F-beta Score\n",
      "Class 0: 0.9877, Class 1: 0.8777, Class 2: 0.3752, Class 3: 0.5505, Class 4: 0.7937, Class 5: 0.5544, Class 6: 0.9602, \n",
      "\n",
      "Overall Mean Dice Score: 0.6517\n",
      "Overall Mean F-beta Score: 0.7473\n",
      "\n",
      "Training Loss: 0.3268, Validation Loss: 0.3124, Validation F-beta: 0.7473\n",
      "Epoch 136/4000\n"
     ]
    },
    {
     "name": "stderr",
     "output_type": "stream",
     "text": [
      "Training: 100%|██████████| 72/72 [01:19<00:00,  1.10s/it, loss=0.344]\n",
      "Validation: 100%|██████████| 12/12 [00:09<00:00,  1.30it/s, loss=0.315]\n"
     ]
    },
    {
     "name": "stdout",
     "output_type": "stream",
     "text": [
      "Validation Dice Score\n",
      "Class 0: 0.9900, Class 1: 0.7744, Class 2: 0.2750, Class 3: 0.4486, Class 4: 0.7427, Class 5: 0.4918, Class 6: 0.8814, \n",
      "Validation F-beta Score\n",
      "Class 0: 0.9867, Class 1: 0.8746, Class 2: 0.4224, Class 3: 0.6220, Class 4: 0.7906, Class 5: 0.5949, Class 6: 0.9541, \n",
      "\n",
      "Overall Mean Dice Score: 0.6678\n",
      "Overall Mean F-beta Score: 0.7672\n",
      "\n",
      "Training Loss: 0.3230, Validation Loss: 0.3026, Validation F-beta: 0.7672\n",
      "Epoch 137/4000\n"
     ]
    },
    {
     "name": "stderr",
     "output_type": "stream",
     "text": [
      "Training: 100%|██████████| 72/72 [01:20<00:00,  1.11s/it, loss=0.35] \n",
      "Validation: 100%|██████████| 12/12 [00:09<00:00,  1.30it/s, loss=0.286]\n"
     ]
    },
    {
     "name": "stdout",
     "output_type": "stream",
     "text": [
      "Validation Dice Score\n",
      "Class 0: 0.9904, Class 1: 0.7737, Class 2: 0.2529, Class 3: 0.3946, Class 4: 0.7365, Class 5: 0.4956, Class 6: 0.8808, \n",
      "Validation F-beta Score\n",
      "Class 0: 0.9870, Class 1: 0.8863, Class 2: 0.3211, Class 3: 0.5431, Class 4: 0.7896, Class 5: 0.6241, Class 6: 0.9527, \n",
      "\n",
      "Overall Mean Dice Score: 0.6562\n",
      "Overall Mean F-beta Score: 0.7592\n",
      "\n",
      "Training Loss: 0.3234, Validation Loss: 0.3066, Validation F-beta: 0.7592\n",
      "Epoch 138/4000\n"
     ]
    },
    {
     "name": "stderr",
     "output_type": "stream",
     "text": [
      "Training: 100%|██████████| 72/72 [01:18<00:00,  1.10s/it, loss=0.337]\n",
      "Validation: 100%|██████████| 12/12 [00:09<00:00,  1.29it/s, loss=0.307]\n"
     ]
    },
    {
     "name": "stdout",
     "output_type": "stream",
     "text": [
      "Validation Dice Score\n",
      "Class 0: 0.9903, Class 1: 0.7794, Class 2: 0.2446, Class 3: 0.3939, Class 4: 0.7349, Class 5: 0.4893, Class 6: 0.8903, \n",
      "Validation F-beta Score\n",
      "Class 0: 0.9875, Class 1: 0.8728, Class 2: 0.3428, Class 3: 0.5559, Class 4: 0.7808, Class 5: 0.5750, Class 6: 0.9604, \n",
      "\n",
      "Overall Mean Dice Score: 0.6575\n",
      "Overall Mean F-beta Score: 0.7490\n",
      "\n",
      "Training Loss: 0.3243, Validation Loss: 0.3064, Validation F-beta: 0.7490\n",
      "Epoch 139/4000\n"
     ]
    },
    {
     "name": "stderr",
     "output_type": "stream",
     "text": [
      "Training: 100%|██████████| 72/72 [01:20<00:00,  1.11s/it, loss=0.353]\n",
      "Validation: 100%|██████████| 12/12 [00:09<00:00,  1.26it/s, loss=0.312]\n"
     ]
    },
    {
     "name": "stdout",
     "output_type": "stream",
     "text": [
      "Validation Dice Score\n",
      "Class 0: 0.9898, Class 1: 0.7820, Class 2: 0.2034, Class 3: 0.4256, Class 4: 0.7564, Class 5: 0.4804, Class 6: 0.8871, \n",
      "Validation F-beta Score\n",
      "Class 0: 0.9867, Class 1: 0.8837, Class 2: 0.3181, Class 3: 0.5590, Class 4: 0.7931, Class 5: 0.5966, Class 6: 0.9555, \n",
      "\n",
      "Overall Mean Dice Score: 0.6663\n",
      "Overall Mean F-beta Score: 0.7576\n",
      "\n",
      "Training Loss: 0.3262, Validation Loss: 0.3198, Validation F-beta: 0.7576\n",
      "Epoch 140/4000\n"
     ]
    },
    {
     "name": "stderr",
     "output_type": "stream",
     "text": [
      "Training: 100%|██████████| 72/72 [01:18<00:00,  1.09s/it, loss=0.327]\n",
      "Validation: 100%|██████████| 12/12 [00:09<00:00,  1.28it/s, loss=0.316]\n"
     ]
    },
    {
     "name": "stdout",
     "output_type": "stream",
     "text": [
      "Validation Dice Score\n",
      "Class 0: 0.9898, Class 1: 0.7568, Class 2: 0.2552, Class 3: 0.4172, Class 4: 0.7347, Class 5: 0.4690, Class 6: 0.8834, \n",
      "Validation F-beta Score\n",
      "Class 0: 0.9866, Class 1: 0.8619, Class 2: 0.3595, Class 3: 0.5633, Class 4: 0.7769, Class 5: 0.5794, Class 6: 0.9597, \n",
      "\n",
      "Overall Mean Dice Score: 0.6522\n",
      "Overall Mean F-beta Score: 0.7482\n",
      "\n",
      "Training Loss: 0.3254, Validation Loss: 0.3157, Validation F-beta: 0.7482\n",
      "Epoch 141/4000\n"
     ]
    },
    {
     "name": "stderr",
     "output_type": "stream",
     "text": [
      "Training: 100%|██████████| 72/72 [01:20<00:00,  1.12s/it, loss=0.334]\n",
      "Validation: 100%|██████████| 12/12 [00:09<00:00,  1.30it/s, loss=0.308]\n"
     ]
    },
    {
     "name": "stdout",
     "output_type": "stream",
     "text": [
      "Validation Dice Score\n",
      "Class 0: 0.9904, Class 1: 0.7897, Class 2: 0.2851, Class 3: 0.4119, Class 4: 0.7299, Class 5: 0.5057, Class 6: 0.9087, \n",
      "Validation F-beta Score\n",
      "Class 0: 0.9872, Class 1: 0.8903, Class 2: 0.4117, Class 3: 0.5593, Class 4: 0.7885, Class 5: 0.5956, Class 6: 0.9648, \n",
      "\n",
      "Overall Mean Dice Score: 0.6692\n",
      "Overall Mean F-beta Score: 0.7597\n",
      "\n",
      "Training Loss: 0.3253, Validation Loss: 0.3085, Validation F-beta: 0.7597\n",
      "Epoch 142/4000\n"
     ]
    },
    {
     "name": "stderr",
     "output_type": "stream",
     "text": [
      "Training: 100%|██████████| 72/72 [01:20<00:00,  1.12s/it, loss=0.313]\n",
      "Validation: 100%|██████████| 12/12 [00:09<00:00,  1.30it/s, loss=0.313]\n"
     ]
    },
    {
     "name": "stdout",
     "output_type": "stream",
     "text": [
      "Validation Dice Score\n",
      "Class 0: 0.9901, Class 1: 0.7531, Class 2: 0.2719, Class 3: 0.4128, Class 4: 0.7280, Class 5: 0.4753, Class 6: 0.8988, \n",
      "Validation F-beta Score\n",
      "Class 0: 0.9866, Class 1: 0.8850, Class 2: 0.4066, Class 3: 0.5903, Class 4: 0.7781, Class 5: 0.5977, Class 6: 0.9581, \n",
      "\n",
      "Overall Mean Dice Score: 0.6536\n",
      "Overall Mean F-beta Score: 0.7618\n",
      "\n",
      "Training Loss: 0.3232, Validation Loss: 0.3178, Validation F-beta: 0.7618\n",
      "Epoch 143/4000\n"
     ]
    },
    {
     "name": "stderr",
     "output_type": "stream",
     "text": [
      "Training: 100%|██████████| 72/72 [01:19<00:00,  1.10s/it, loss=0.364]\n",
      "Validation: 100%|██████████| 12/12 [00:09<00:00,  1.33it/s, loss=0.318]\n"
     ]
    },
    {
     "name": "stdout",
     "output_type": "stream",
     "text": [
      "Validation Dice Score\n",
      "Class 0: 0.9901, Class 1: 0.7723, Class 2: 0.2684, Class 3: 0.3951, Class 4: 0.7293, Class 5: 0.4913, Class 6: 0.8859, \n",
      "Validation F-beta Score\n",
      "Class 0: 0.9869, Class 1: 0.8815, Class 2: 0.3709, Class 3: 0.5516, Class 4: 0.7831, Class 5: 0.5931, Class 6: 0.9576, \n",
      "\n",
      "Overall Mean Dice Score: 0.6548\n",
      "Overall Mean F-beta Score: 0.7534\n",
      "\n",
      "Training Loss: 0.3260, Validation Loss: 0.3121, Validation F-beta: 0.7534\n",
      "Epoch 144/4000\n"
     ]
    },
    {
     "name": "stderr",
     "output_type": "stream",
     "text": [
      "Training: 100%|██████████| 72/72 [01:22<00:00,  1.15s/it, loss=0.321]\n",
      "Validation: 100%|██████████| 12/12 [00:09<00:00,  1.31it/s, loss=0.337]\n"
     ]
    },
    {
     "name": "stdout",
     "output_type": "stream",
     "text": [
      "Validation Dice Score\n",
      "Class 0: 0.9902, Class 1: 0.7595, Class 2: 0.2296, Class 3: 0.4124, Class 4: 0.7312, Class 5: 0.4600, Class 6: 0.8969, \n",
      "Validation F-beta Score\n",
      "Class 0: 0.9868, Class 1: 0.8779, Class 2: 0.3469, Class 3: 0.5634, Class 4: 0.7909, Class 5: 0.5688, Class 6: 0.9596, \n",
      "\n",
      "Overall Mean Dice Score: 0.6520\n",
      "Overall Mean F-beta Score: 0.7521\n",
      "\n",
      "Training Loss: 0.3240, Validation Loss: 0.3235, Validation F-beta: 0.7521\n",
      "Epoch 145/4000\n"
     ]
    },
    {
     "name": "stderr",
     "output_type": "stream",
     "text": [
      "Training: 100%|██████████| 72/72 [01:21<00:00,  1.13s/it, loss=0.337]\n",
      "Validation: 100%|██████████| 12/12 [00:09<00:00,  1.30it/s, loss=0.308]\n"
     ]
    },
    {
     "name": "stdout",
     "output_type": "stream",
     "text": [
      "Validation Dice Score\n",
      "Class 0: 0.9900, Class 1: 0.7752, Class 2: 0.2331, Class 3: 0.4253, Class 4: 0.7404, Class 5: 0.4485, Class 6: 0.8862, \n",
      "Validation F-beta Score\n",
      "Class 0: 0.9864, Class 1: 0.8900, Class 2: 0.3577, Class 3: 0.5911, Class 4: 0.7820, Class 5: 0.5822, Class 6: 0.9546, \n",
      "\n",
      "Overall Mean Dice Score: 0.6551\n",
      "Overall Mean F-beta Score: 0.7600\n",
      "\n",
      "Training Loss: 0.3277, Validation Loss: 0.3156, Validation F-beta: 0.7600\n",
      "Epoch 146/4000\n"
     ]
    },
    {
     "name": "stderr",
     "output_type": "stream",
     "text": [
      "Training: 100%|██████████| 72/72 [01:22<00:00,  1.15s/it, loss=0.31] \n",
      "Validation: 100%|██████████| 12/12 [00:09<00:00,  1.28it/s, loss=0.328]\n"
     ]
    },
    {
     "name": "stdout",
     "output_type": "stream",
     "text": [
      "Validation Dice Score\n",
      "Class 0: 0.9901, Class 1: 0.7820, Class 2: 0.3284, Class 3: 0.4421, Class 4: 0.7191, Class 5: 0.4828, Class 6: 0.8765, \n",
      "Validation F-beta Score\n",
      "Class 0: 0.9871, Class 1: 0.8870, Class 2: 0.4546, Class 3: 0.5992, Class 4: 0.7520, Class 5: 0.5799, Class 6: 0.9548, \n",
      "\n",
      "Overall Mean Dice Score: 0.6605\n",
      "Overall Mean F-beta Score: 0.7546\n",
      "\n",
      "Training Loss: 0.3253, Validation Loss: 0.3027, Validation F-beta: 0.7546\n",
      "Epoch 147/4000\n"
     ]
    },
    {
     "name": "stderr",
     "output_type": "stream",
     "text": [
      "Training: 100%|██████████| 72/72 [01:22<00:00,  1.15s/it, loss=0.311]\n",
      "Validation: 100%|██████████| 12/12 [00:09<00:00,  1.25it/s, loss=0.331]\n"
     ]
    },
    {
     "name": "stdout",
     "output_type": "stream",
     "text": [
      "Validation Dice Score\n",
      "Class 0: 0.9897, Class 1: 0.7866, Class 2: 0.2202, Class 3: 0.4254, Class 4: 0.7208, Class 5: 0.4913, Class 6: 0.8889, \n",
      "Validation F-beta Score\n",
      "Class 0: 0.9866, Class 1: 0.8713, Class 2: 0.3364, Class 3: 0.5484, Class 4: 0.7780, Class 5: 0.5739, Class 6: 0.9519, \n",
      "\n",
      "Overall Mean Dice Score: 0.6626\n",
      "Overall Mean F-beta Score: 0.7447\n",
      "\n",
      "Training Loss: 0.3270, Validation Loss: 0.3133, Validation F-beta: 0.7447\n",
      "Epoch 148/4000\n"
     ]
    },
    {
     "name": "stderr",
     "output_type": "stream",
     "text": [
      "Training: 100%|██████████| 72/72 [01:23<00:00,  1.16s/it, loss=0.313]\n",
      "Validation: 100%|██████████| 12/12 [00:09<00:00,  1.27it/s, loss=0.341]\n"
     ]
    },
    {
     "name": "stdout",
     "output_type": "stream",
     "text": [
      "Validation Dice Score\n",
      "Class 0: 0.9903, Class 1: 0.7649, Class 2: 0.2721, Class 3: 0.4434, Class 4: 0.7395, Class 5: 0.4863, Class 6: 0.8901, \n",
      "Validation F-beta Score\n",
      "Class 0: 0.9867, Class 1: 0.8817, Class 2: 0.4057, Class 3: 0.5989, Class 4: 0.7920, Class 5: 0.6024, Class 6: 0.9536, \n",
      "\n",
      "Overall Mean Dice Score: 0.6649\n",
      "Overall Mean F-beta Score: 0.7657\n",
      "\n",
      "Training Loss: 0.3223, Validation Loss: 0.3135, Validation F-beta: 0.7657\n",
      "Epoch 149/4000\n"
     ]
    },
    {
     "name": "stderr",
     "output_type": "stream",
     "text": [
      "Training: 100%|██████████| 72/72 [01:22<00:00,  1.15s/it, loss=0.328]\n",
      "Validation: 100%|██████████| 12/12 [00:09<00:00,  1.28it/s, loss=0.323]\n"
     ]
    },
    {
     "name": "stdout",
     "output_type": "stream",
     "text": [
      "Validation Dice Score\n",
      "Class 0: 0.9903, Class 1: 0.7680, Class 2: 0.2484, Class 3: 0.4103, Class 4: 0.7186, Class 5: 0.4906, Class 6: 0.8933, \n",
      "Validation F-beta Score\n",
      "Class 0: 0.9867, Class 1: 0.8851, Class 2: 0.4158, Class 3: 0.5644, Class 4: 0.7822, Class 5: 0.5949, Class 6: 0.9586, \n",
      "\n",
      "Overall Mean Dice Score: 0.6562\n",
      "Overall Mean F-beta Score: 0.7571\n",
      "\n",
      "Training Loss: 0.3243, Validation Loss: 0.3133, Validation F-beta: 0.7571\n",
      "Epoch 150/4000\n"
     ]
    },
    {
     "name": "stderr",
     "output_type": "stream",
     "text": [
      "Training: 100%|██████████| 72/72 [01:20<00:00,  1.12s/it, loss=0.31] \n",
      "Validation: 100%|██████████| 12/12 [00:09<00:00,  1.27it/s, loss=0.328]\n"
     ]
    },
    {
     "name": "stdout",
     "output_type": "stream",
     "text": [
      "Validation Dice Score\n",
      "Class 0: 0.9900, Class 1: 0.7698, Class 2: 0.2631, Class 3: 0.4146, Class 4: 0.7164, Class 5: 0.4839, Class 6: 0.8950, \n",
      "Validation F-beta Score\n",
      "Class 0: 0.9865, Class 1: 0.8724, Class 2: 0.3797, Class 3: 0.5587, Class 4: 0.7714, Class 5: 0.5821, Class 6: 0.9577, \n",
      "\n",
      "Overall Mean Dice Score: 0.6560\n",
      "Overall Mean F-beta Score: 0.7485\n",
      "\n",
      "Training Loss: 0.3219, Validation Loss: 0.3079, Validation F-beta: 0.7485\n",
      "Epoch 151/4000\n"
     ]
    },
    {
     "name": "stderr",
     "output_type": "stream",
     "text": [
      "Training: 100%|██████████| 72/72 [01:21<00:00,  1.13s/it, loss=0.326]\n",
      "Validation: 100%|██████████| 12/12 [00:09<00:00,  1.29it/s, loss=0.329]\n"
     ]
    },
    {
     "name": "stdout",
     "output_type": "stream",
     "text": [
      "Validation Dice Score\n",
      "Class 0: 0.9903, Class 1: 0.7938, Class 2: 0.2638, Class 3: 0.4196, Class 4: 0.7270, Class 5: 0.4958, Class 6: 0.8872, \n",
      "Validation F-beta Score\n",
      "Class 0: 0.9874, Class 1: 0.8767, Class 2: 0.3760, Class 3: 0.5353, Class 4: 0.7720, Class 5: 0.5816, Class 6: 0.9549, \n",
      "\n",
      "Overall Mean Dice Score: 0.6647\n",
      "Overall Mean F-beta Score: 0.7441\n",
      "\n",
      "Training Loss: 0.3255, Validation Loss: 0.3036, Validation F-beta: 0.7441\n",
      "Epoch 152/4000\n"
     ]
    },
    {
     "name": "stderr",
     "output_type": "stream",
     "text": [
      "Training: 100%|██████████| 72/72 [01:19<00:00,  1.10s/it, loss=0.327]\n",
      "Validation: 100%|██████████| 12/12 [00:09<00:00,  1.28it/s, loss=0.305]\n"
     ]
    },
    {
     "name": "stdout",
     "output_type": "stream",
     "text": [
      "Validation Dice Score\n",
      "Class 0: 0.9902, Class 1: 0.7589, Class 2: 0.2823, Class 3: 0.4366, Class 4: 0.7315, Class 5: 0.4811, Class 6: 0.8891, \n",
      "Validation F-beta Score\n",
      "Class 0: 0.9867, Class 1: 0.8733, Class 2: 0.4317, Class 3: 0.6112, Class 4: 0.7804, Class 5: 0.5992, Class 6: 0.9570, \n",
      "\n",
      "Overall Mean Dice Score: 0.6594\n",
      "Overall Mean F-beta Score: 0.7642\n",
      "\n",
      "Training Loss: 0.3203, Validation Loss: 0.3107, Validation F-beta: 0.7642\n",
      "Epoch 153/4000\n"
     ]
    },
    {
     "name": "stderr",
     "output_type": "stream",
     "text": [
      "Training: 100%|██████████| 72/72 [01:18<00:00,  1.09s/it, loss=0.329]\n",
      "Validation: 100%|██████████| 12/12 [00:10<00:00,  1.14it/s, loss=0.319]\n"
     ]
    },
    {
     "name": "stdout",
     "output_type": "stream",
     "text": [
      "Validation Dice Score\n",
      "Class 0: 0.9902, Class 1: 0.7640, Class 2: 0.2494, Class 3: 0.4085, Class 4: 0.7264, Class 5: 0.4880, Class 6: 0.8900, \n",
      "Validation F-beta Score\n",
      "Class 0: 0.9873, Class 1: 0.8638, Class 2: 0.3925, Class 3: 0.5376, Class 4: 0.7537, Class 5: 0.5761, Class 6: 0.9545, \n",
      "\n",
      "Overall Mean Dice Score: 0.6554\n",
      "Overall Mean F-beta Score: 0.7371\n",
      "\n",
      "Training Loss: 0.3235, Validation Loss: 0.3157, Validation F-beta: 0.7371\n",
      "Epoch 154/4000\n"
     ]
    },
    {
     "name": "stderr",
     "output_type": "stream",
     "text": [
      "Training: 100%|██████████| 72/72 [01:17<00:00,  1.08s/it, loss=0.331]\n",
      "Validation: 100%|██████████| 12/12 [00:09<00:00,  1.32it/s, loss=0.322]\n"
     ]
    },
    {
     "name": "stdout",
     "output_type": "stream",
     "text": [
      "Validation Dice Score\n",
      "Class 0: 0.9900, Class 1: 0.7756, Class 2: 0.2617, Class 3: 0.4067, Class 4: 0.7418, Class 5: 0.4888, Class 6: 0.8858, \n",
      "Validation F-beta Score\n",
      "Class 0: 0.9865, Class 1: 0.8848, Class 2: 0.3641, Class 3: 0.5690, Class 4: 0.7957, Class 5: 0.5956, Class 6: 0.9532, \n",
      "\n",
      "Overall Mean Dice Score: 0.6597\n",
      "Overall Mean F-beta Score: 0.7597\n",
      "\n",
      "Training Loss: 0.3238, Validation Loss: 0.3100, Validation F-beta: 0.7597\n",
      "Epoch 155/4000\n"
     ]
    },
    {
     "name": "stderr",
     "output_type": "stream",
     "text": [
      "Training: 100%|██████████| 72/72 [01:21<00:00,  1.13s/it, loss=0.292]\n",
      "Validation: 100%|██████████| 12/12 [00:09<00:00,  1.30it/s, loss=0.311]\n"
     ]
    },
    {
     "name": "stdout",
     "output_type": "stream",
     "text": [
      "Validation Dice Score\n",
      "Class 0: 0.9905, Class 1: 0.7409, Class 2: 0.3028, Class 3: 0.4329, Class 4: 0.7482, Class 5: 0.4661, Class 6: 0.8942, \n",
      "Validation F-beta Score\n",
      "Class 0: 0.9873, Class 1: 0.8849, Class 2: 0.4528, Class 3: 0.6040, Class 4: 0.8004, Class 5: 0.5644, Class 6: 0.9585, \n",
      "\n",
      "Overall Mean Dice Score: 0.6565\n",
      "Overall Mean F-beta Score: 0.7624\n",
      "\n",
      "Training Loss: 0.3247, Validation Loss: 0.3202, Validation F-beta: 0.7624\n",
      "Epoch 156/4000\n"
     ]
    },
    {
     "name": "stderr",
     "output_type": "stream",
     "text": [
      "Training: 100%|██████████| 72/72 [01:18<00:00,  1.10s/it, loss=0.33] \n",
      "Validation: 100%|██████████| 12/12 [00:09<00:00,  1.25it/s, loss=0.319]\n"
     ]
    },
    {
     "name": "stdout",
     "output_type": "stream",
     "text": [
      "Validation Dice Score\n",
      "Class 0: 0.9900, Class 1: 0.7705, Class 2: 0.2259, Class 3: 0.3932, Class 4: 0.7453, Class 5: 0.4821, Class 6: 0.8810, \n",
      "Validation F-beta Score\n",
      "Class 0: 0.9863, Class 1: 0.8708, Class 2: 0.3588, Class 3: 0.5439, Class 4: 0.8121, Class 5: 0.5961, Class 6: 0.9591, \n",
      "\n",
      "Overall Mean Dice Score: 0.6544\n",
      "Overall Mean F-beta Score: 0.7564\n",
      "\n",
      "Training Loss: 0.3245, Validation Loss: 0.3123, Validation F-beta: 0.7564\n",
      "Epoch 157/4000\n"
     ]
    },
    {
     "name": "stderr",
     "output_type": "stream",
     "text": [
      "Training: 100%|██████████| 72/72 [01:19<00:00,  1.10s/it, loss=0.311]\n",
      "Validation: 100%|██████████| 12/12 [00:09<00:00,  1.31it/s, loss=0.328]\n"
     ]
    },
    {
     "name": "stdout",
     "output_type": "stream",
     "text": [
      "Validation Dice Score\n",
      "Class 0: 0.9902, Class 1: 0.7748, Class 2: 0.2892, Class 3: 0.4214, Class 4: 0.7411, Class 5: 0.4851, Class 6: 0.8900, \n",
      "Validation F-beta Score\n",
      "Class 0: 0.9865, Class 1: 0.8788, Class 2: 0.4304, Class 3: 0.5781, Class 4: 0.8119, Class 5: 0.5979, Class 6: 0.9560, \n",
      "\n",
      "Overall Mean Dice Score: 0.6625\n",
      "Overall Mean F-beta Score: 0.7645\n",
      "\n",
      "Training Loss: 0.3228, Validation Loss: 0.3101, Validation F-beta: 0.7645\n",
      "Epoch 158/4000\n"
     ]
    },
    {
     "name": "stderr",
     "output_type": "stream",
     "text": [
      "Training: 100%|██████████| 72/72 [01:19<00:00,  1.10s/it, loss=0.319]\n",
      "Validation: 100%|██████████| 12/12 [00:09<00:00,  1.27it/s, loss=0.331]\n"
     ]
    },
    {
     "name": "stdout",
     "output_type": "stream",
     "text": [
      "Validation Dice Score\n",
      "Class 0: 0.9901, Class 1: 0.7750, Class 2: 0.3017, Class 3: 0.4466, Class 4: 0.7218, Class 5: 0.4963, Class 6: 0.8777, \n",
      "Validation F-beta Score\n",
      "Class 0: 0.9868, Class 1: 0.8947, Class 2: 0.4357, Class 3: 0.5547, Class 4: 0.7736, Class 5: 0.5930, Class 6: 0.9488, \n",
      "\n",
      "Overall Mean Dice Score: 0.6635\n",
      "Overall Mean F-beta Score: 0.7530\n",
      "\n",
      "Training Loss: 0.3233, Validation Loss: 0.3057, Validation F-beta: 0.7530\n",
      "Epoch 159/4000\n"
     ]
    },
    {
     "name": "stderr",
     "output_type": "stream",
     "text": [
      "Training: 100%|██████████| 72/72 [01:21<00:00,  1.13s/it, loss=0.344]\n",
      "Validation: 100%|██████████| 12/12 [00:09<00:00,  1.30it/s, loss=0.334]\n"
     ]
    },
    {
     "name": "stdout",
     "output_type": "stream",
     "text": [
      "Validation Dice Score\n",
      "Class 0: 0.9896, Class 1: 0.7813, Class 2: 0.2362, Class 3: 0.4171, Class 4: 0.7229, Class 5: 0.4787, Class 6: 0.8818, \n",
      "Validation F-beta Score\n",
      "Class 0: 0.9862, Class 1: 0.8757, Class 2: 0.3623, Class 3: 0.5968, Class 4: 0.7672, Class 5: 0.5822, Class 6: 0.9569, \n",
      "\n",
      "Overall Mean Dice Score: 0.6563\n",
      "Overall Mean F-beta Score: 0.7558\n",
      "\n",
      "Training Loss: 0.3236, Validation Loss: 0.3125, Validation F-beta: 0.7558\n",
      "Epoch 160/4000\n"
     ]
    },
    {
     "name": "stderr",
     "output_type": "stream",
     "text": [
      "Training: 100%|██████████| 72/72 [01:19<00:00,  1.10s/it, loss=0.321]\n",
      "Validation: 100%|██████████| 12/12 [00:09<00:00,  1.31it/s, loss=0.311]\n"
     ]
    },
    {
     "name": "stdout",
     "output_type": "stream",
     "text": [
      "Validation Dice Score\n",
      "Class 0: 0.9899, Class 1: 0.7692, Class 2: 0.2864, Class 3: 0.3900, Class 4: 0.7393, Class 5: 0.4962, Class 6: 0.8948, \n",
      "Validation F-beta Score\n",
      "Class 0: 0.9865, Class 1: 0.8912, Class 2: 0.4086, Class 3: 0.5517, Class 4: 0.7935, Class 5: 0.5898, Class 6: 0.9567, \n",
      "\n",
      "Overall Mean Dice Score: 0.6579\n",
      "Overall Mean F-beta Score: 0.7566\n",
      "\n",
      "Training Loss: 0.3236, Validation Loss: 0.3165, Validation F-beta: 0.7566\n",
      "Epoch 161/4000\n"
     ]
    },
    {
     "name": "stderr",
     "output_type": "stream",
     "text": [
      "Training: 100%|██████████| 72/72 [01:19<00:00,  1.11s/it, loss=0.313]\n",
      "Validation: 100%|██████████| 12/12 [00:09<00:00,  1.31it/s, loss=0.311]\n"
     ]
    },
    {
     "name": "stdout",
     "output_type": "stream",
     "text": [
      "Validation Dice Score\n",
      "Class 0: 0.9898, Class 1: 0.7580, Class 2: 0.2608, Class 3: 0.4304, Class 4: 0.7501, Class 5: 0.4825, Class 6: 0.8961, \n",
      "Validation F-beta Score\n",
      "Class 0: 0.9864, Class 1: 0.8828, Class 2: 0.4155, Class 3: 0.5470, Class 4: 0.7957, Class 5: 0.5962, Class 6: 0.9548, \n",
      "\n",
      "Overall Mean Dice Score: 0.6634\n",
      "Overall Mean F-beta Score: 0.7553\n",
      "\n",
      "Training Loss: 0.3235, Validation Loss: 0.3159, Validation F-beta: 0.7553\n",
      "Epoch 162/4000\n"
     ]
    },
    {
     "name": "stderr",
     "output_type": "stream",
     "text": [
      "Training: 100%|██████████| 72/72 [01:21<00:00,  1.13s/it, loss=0.305]\n",
      "Validation: 100%|██████████| 12/12 [00:09<00:00,  1.31it/s, loss=0.337]\n"
     ]
    },
    {
     "name": "stdout",
     "output_type": "stream",
     "text": [
      "Validation Dice Score\n",
      "Class 0: 0.9903, Class 1: 0.7700, Class 2: 0.2850, Class 3: 0.4021, Class 4: 0.7407, Class 5: 0.4866, Class 6: 0.8876, \n",
      "Validation F-beta Score\n",
      "Class 0: 0.9869, Class 1: 0.8952, Class 2: 0.4481, Class 3: 0.5755, Class 4: 0.7932, Class 5: 0.5802, Class 6: 0.9569, \n",
      "\n",
      "Overall Mean Dice Score: 0.6574\n",
      "Overall Mean F-beta Score: 0.7602\n",
      "\n",
      "Training Loss: 0.3243, Validation Loss: 0.3167, Validation F-beta: 0.7602\n",
      "Epoch 163/4000\n"
     ]
    },
    {
     "name": "stderr",
     "output_type": "stream",
     "text": [
      "Training: 100%|██████████| 72/72 [01:21<00:00,  1.13s/it, loss=0.339]\n",
      "Validation: 100%|██████████| 12/12 [00:09<00:00,  1.28it/s, loss=0.317]\n"
     ]
    },
    {
     "name": "stdout",
     "output_type": "stream",
     "text": [
      "Validation Dice Score\n",
      "Class 0: 0.9904, Class 1: 0.7698, Class 2: 0.2824, Class 3: 0.4525, Class 4: 0.7597, Class 5: 0.4671, Class 6: 0.8906, \n",
      "Validation F-beta Score\n",
      "Class 0: 0.9870, Class 1: 0.8815, Class 2: 0.4223, Class 3: 0.6127, Class 4: 0.7946, Class 5: 0.5905, Class 6: 0.9558, \n",
      "\n",
      "Overall Mean Dice Score: 0.6679\n",
      "Overall Mean F-beta Score: 0.7670\n",
      "\n",
      "Training Loss: 0.3249, Validation Loss: 0.3091, Validation F-beta: 0.7670\n",
      "Epoch 164/4000\n"
     ]
    },
    {
     "name": "stderr",
     "output_type": "stream",
     "text": [
      "Training: 100%|██████████| 72/72 [01:21<00:00,  1.14s/it, loss=0.316]\n",
      "Validation: 100%|██████████| 12/12 [00:09<00:00,  1.33it/s, loss=0.308]\n"
     ]
    },
    {
     "name": "stdout",
     "output_type": "stream",
     "text": [
      "Validation Dice Score\n",
      "Class 0: 0.9902, Class 1: 0.7888, Class 2: 0.3236, Class 3: 0.4309, Class 4: 0.7378, Class 5: 0.4704, Class 6: 0.8901, \n",
      "Validation F-beta Score\n",
      "Class 0: 0.9869, Class 1: 0.8675, Class 2: 0.4286, Class 3: 0.5920, Class 4: 0.7769, Class 5: 0.5915, Class 6: 0.9549, \n",
      "\n",
      "Overall Mean Dice Score: 0.6636\n",
      "Overall Mean F-beta Score: 0.7566\n",
      "\n",
      "Training Loss: 0.3250, Validation Loss: 0.3106, Validation F-beta: 0.7566\n",
      "Epoch 165/4000\n"
     ]
    },
    {
     "name": "stderr",
     "output_type": "stream",
     "text": [
      "Training: 100%|██████████| 72/72 [01:22<00:00,  1.14s/it, loss=0.336]\n",
      "Validation: 100%|██████████| 12/12 [00:09<00:00,  1.31it/s, loss=0.337]\n"
     ]
    },
    {
     "name": "stdout",
     "output_type": "stream",
     "text": [
      "Validation Dice Score\n",
      "Class 0: 0.9900, Class 1: 0.7780, Class 2: 0.2861, Class 3: 0.3974, Class 4: 0.7464, Class 5: 0.4792, Class 6: 0.8881, \n",
      "Validation F-beta Score\n",
      "Class 0: 0.9868, Class 1: 0.8707, Class 2: 0.4055, Class 3: 0.5394, Class 4: 0.7862, Class 5: 0.5835, Class 6: 0.9558, \n",
      "\n",
      "Overall Mean Dice Score: 0.6578\n",
      "Overall Mean F-beta Score: 0.7471\n",
      "\n",
      "Training Loss: 0.3261, Validation Loss: 0.3088, Validation F-beta: 0.7471\n",
      "Epoch 166/4000\n"
     ]
    },
    {
     "name": "stderr",
     "output_type": "stream",
     "text": [
      "Training: 100%|██████████| 72/72 [01:20<00:00,  1.12s/it, loss=0.333]\n",
      "Validation: 100%|██████████| 12/12 [00:09<00:00,  1.30it/s, loss=0.332]\n"
     ]
    },
    {
     "name": "stdout",
     "output_type": "stream",
     "text": [
      "Validation Dice Score\n",
      "Class 0: 0.9900, Class 1: 0.7500, Class 2: 0.2002, Class 3: 0.3792, Class 4: 0.7477, Class 5: 0.4756, Class 6: 0.8935, \n",
      "Validation F-beta Score\n",
      "Class 0: 0.9865, Class 1: 0.8692, Class 2: 0.3284, Class 3: 0.5591, Class 4: 0.8003, Class 5: 0.5986, Class 6: 0.9601, \n",
      "\n",
      "Overall Mean Dice Score: 0.6492\n",
      "Overall Mean F-beta Score: 0.7575\n",
      "\n",
      "Training Loss: 0.3266, Validation Loss: 0.3200, Validation F-beta: 0.7575\n",
      "Epoch 167/4000\n"
     ]
    },
    {
     "name": "stderr",
     "output_type": "stream",
     "text": [
      "Training: 100%|██████████| 72/72 [01:20<00:00,  1.12s/it, loss=0.335]\n",
      "Validation: 100%|██████████| 12/12 [00:09<00:00,  1.29it/s, loss=0.323]\n"
     ]
    },
    {
     "name": "stdout",
     "output_type": "stream",
     "text": [
      "Validation Dice Score\n",
      "Class 0: 0.9906, Class 1: 0.7910, Class 2: 0.2834, Class 3: 0.4293, Class 4: 0.7415, Class 5: 0.4946, Class 6: 0.8987, \n",
      "Validation F-beta Score\n",
      "Class 0: 0.9870, Class 1: 0.8827, Class 2: 0.4130, Class 3: 0.5916, Class 4: 0.8114, Class 5: 0.6090, Class 6: 0.9615, \n",
      "\n",
      "Overall Mean Dice Score: 0.6710\n",
      "Overall Mean F-beta Score: 0.7712\n",
      "\n",
      "Training Loss: 0.3264, Validation Loss: 0.3060, Validation F-beta: 0.7712\n",
      "Epoch 168/4000\n"
     ]
    },
    {
     "name": "stderr",
     "output_type": "stream",
     "text": [
      "Training: 100%|██████████| 72/72 [01:19<00:00,  1.11s/it, loss=0.346]\n",
      "Validation: 100%|██████████| 12/12 [00:09<00:00,  1.31it/s, loss=0.333]\n"
     ]
    },
    {
     "name": "stdout",
     "output_type": "stream",
     "text": [
      "Validation Dice Score\n",
      "Class 0: 0.9900, Class 1: 0.7420, Class 2: 0.2435, Class 3: 0.3825, Class 4: 0.7595, Class 5: 0.4787, Class 6: 0.8805, \n",
      "Validation F-beta Score\n",
      "Class 0: 0.9867, Class 1: 0.8640, Class 2: 0.3755, Class 3: 0.5745, Class 4: 0.7947, Class 5: 0.5818, Class 6: 0.9597, \n",
      "\n",
      "Overall Mean Dice Score: 0.6486\n",
      "Overall Mean F-beta Score: 0.7549\n",
      "\n",
      "Training Loss: 0.3250, Validation Loss: 0.3210, Validation F-beta: 0.7549\n",
      "Epoch 169/4000\n"
     ]
    },
    {
     "name": "stderr",
     "output_type": "stream",
     "text": [
      "Training: 100%|██████████| 72/72 [01:23<00:00,  1.16s/it, loss=0.323]\n",
      "Validation: 100%|██████████| 12/12 [00:09<00:00,  1.27it/s, loss=0.337]\n"
     ]
    },
    {
     "name": "stdout",
     "output_type": "stream",
     "text": [
      "Validation Dice Score\n",
      "Class 0: 0.9906, Class 1: 0.7535, Class 2: 0.2982, Class 3: 0.4259, Class 4: 0.7479, Class 5: 0.4944, Class 6: 0.8914, \n",
      "Validation F-beta Score\n",
      "Class 0: 0.9871, Class 1: 0.8770, Class 2: 0.4184, Class 3: 0.5769, Class 4: 0.8155, Class 5: 0.6032, Class 6: 0.9556, \n",
      "\n",
      "Overall Mean Dice Score: 0.6626\n",
      "Overall Mean F-beta Score: 0.7657\n",
      "\n",
      "Training Loss: 0.3265, Validation Loss: 0.3078, Validation F-beta: 0.7657\n",
      "Epoch 170/4000\n"
     ]
    },
    {
     "name": "stderr",
     "output_type": "stream",
     "text": [
      "Training: 100%|██████████| 72/72 [01:23<00:00,  1.17s/it, loss=0.322]\n",
      "Validation: 100%|██████████| 12/12 [00:09<00:00,  1.27it/s, loss=0.344]\n"
     ]
    },
    {
     "name": "stdout",
     "output_type": "stream",
     "text": [
      "Validation Dice Score\n",
      "Class 0: 0.9903, Class 1: 0.7608, Class 2: 0.2657, Class 3: 0.4199, Class 4: 0.7359, Class 5: 0.5000, Class 6: 0.8750, \n",
      "Validation F-beta Score\n",
      "Class 0: 0.9871, Class 1: 0.8788, Class 2: 0.3730, Class 3: 0.5618, Class 4: 0.7904, Class 5: 0.5928, Class 6: 0.9555, \n",
      "\n",
      "Overall Mean Dice Score: 0.6583\n",
      "Overall Mean F-beta Score: 0.7559\n",
      "\n",
      "Training Loss: 0.3249, Validation Loss: 0.3159, Validation F-beta: 0.7559\n",
      "Epoch 171/4000\n"
     ]
    },
    {
     "name": "stderr",
     "output_type": "stream",
     "text": [
      "Training: 100%|██████████| 72/72 [01:22<00:00,  1.14s/it, loss=0.332]\n",
      "Validation: 100%|██████████| 12/12 [00:09<00:00,  1.28it/s, loss=0.307]\n"
     ]
    },
    {
     "name": "stdout",
     "output_type": "stream",
     "text": [
      "Validation Dice Score\n",
      "Class 0: 0.9903, Class 1: 0.7956, Class 2: 0.2743, Class 3: 0.4376, Class 4: 0.7445, Class 5: 0.4841, Class 6: 0.9019, \n",
      "Validation F-beta Score\n",
      "Class 0: 0.9868, Class 1: 0.8879, Class 2: 0.4198, Class 3: 0.5755, Class 4: 0.7997, Class 5: 0.5864, Class 6: 0.9582, \n",
      "\n",
      "Overall Mean Dice Score: 0.6727\n",
      "Overall Mean F-beta Score: 0.7615\n",
      "\n",
      "Training Loss: 0.3229, Validation Loss: 0.3087, Validation F-beta: 0.7615\n",
      "Epoch 172/4000\n"
     ]
    },
    {
     "name": "stderr",
     "output_type": "stream",
     "text": [
      "Training: 100%|██████████| 72/72 [01:20<00:00,  1.12s/it, loss=0.319]\n",
      "Validation: 100%|██████████| 12/12 [00:09<00:00,  1.29it/s, loss=0.33] \n"
     ]
    },
    {
     "name": "stdout",
     "output_type": "stream",
     "text": [
      "Validation Dice Score\n",
      "Class 0: 0.9897, Class 1: 0.7644, Class 2: 0.2699, Class 3: 0.4191, Class 4: 0.7258, Class 5: 0.5094, Class 6: 0.8806, \n",
      "Validation F-beta Score\n",
      "Class 0: 0.9866, Class 1: 0.8650, Class 2: 0.4128, Class 3: 0.5552, Class 4: 0.7825, Class 5: 0.5838, Class 6: 0.9528, \n",
      "\n",
      "Overall Mean Dice Score: 0.6599\n",
      "Overall Mean F-beta Score: 0.7479\n",
      "\n",
      "Training Loss: 0.3259, Validation Loss: 0.3109, Validation F-beta: 0.7479\n",
      "Epoch 173/4000\n"
     ]
    },
    {
     "name": "stderr",
     "output_type": "stream",
     "text": [
      "Training: 100%|██████████| 72/72 [01:22<00:00,  1.14s/it, loss=0.344]\n",
      "Validation: 100%|██████████| 12/12 [00:09<00:00,  1.28it/s, loss=0.313]\n"
     ]
    },
    {
     "name": "stdout",
     "output_type": "stream",
     "text": [
      "Validation Dice Score\n",
      "Class 0: 0.9899, Class 1: 0.7915, Class 2: 0.2835, Class 3: 0.4353, Class 4: 0.7413, Class 5: 0.4717, Class 6: 0.8930, \n",
      "Validation F-beta Score\n",
      "Class 0: 0.9864, Class 1: 0.8850, Class 2: 0.4123, Class 3: 0.5755, Class 4: 0.7914, Class 5: 0.5873, Class 6: 0.9587, \n",
      "\n",
      "Overall Mean Dice Score: 0.6666\n",
      "Overall Mean F-beta Score: 0.7596\n",
      "\n",
      "Training Loss: 0.3253, Validation Loss: 0.3083, Validation F-beta: 0.7596\n",
      "Epoch 174/4000\n"
     ]
    },
    {
     "name": "stderr",
     "output_type": "stream",
     "text": [
      "Training: 100%|██████████| 72/72 [01:20<00:00,  1.11s/it, loss=0.337]\n",
      "Validation: 100%|██████████| 12/12 [00:09<00:00,  1.30it/s, loss=0.316]\n"
     ]
    },
    {
     "name": "stdout",
     "output_type": "stream",
     "text": [
      "Validation Dice Score\n",
      "Class 0: 0.9907, Class 1: 0.7716, Class 2: 0.2668, Class 3: 0.4505, Class 4: 0.7324, Class 5: 0.5048, Class 6: 0.8888, \n",
      "Validation F-beta Score\n",
      "Class 0: 0.9873, Class 1: 0.8779, Class 2: 0.4050, Class 3: 0.5762, Class 4: 0.8026, Class 5: 0.6082, Class 6: 0.9524, \n",
      "\n",
      "Overall Mean Dice Score: 0.6696\n",
      "Overall Mean F-beta Score: 0.7635\n",
      "\n",
      "Training Loss: 0.3249, Validation Loss: 0.3034, Validation F-beta: 0.7635\n",
      "Epoch 175/4000\n"
     ]
    },
    {
     "name": "stderr",
     "output_type": "stream",
     "text": [
      "Training: 100%|██████████| 72/72 [01:20<00:00,  1.11s/it, loss=0.345]\n",
      "Validation: 100%|██████████| 12/12 [00:09<00:00,  1.28it/s, loss=0.312]\n"
     ]
    },
    {
     "name": "stdout",
     "output_type": "stream",
     "text": [
      "Validation Dice Score\n",
      "Class 0: 0.9902, Class 1: 0.7818, Class 2: 0.2775, Class 3: 0.4352, Class 4: 0.7165, Class 5: 0.4834, Class 6: 0.8825, \n",
      "Validation F-beta Score\n",
      "Class 0: 0.9869, Class 1: 0.8878, Class 2: 0.4083, Class 3: 0.6007, Class 4: 0.7779, Class 5: 0.5810, Class 6: 0.9557, \n",
      "\n",
      "Overall Mean Dice Score: 0.6599\n",
      "Overall Mean F-beta Score: 0.7606\n",
      "\n",
      "Training Loss: 0.3239, Validation Loss: 0.3084, Validation F-beta: 0.7606\n",
      "Epoch 176/4000\n"
     ]
    },
    {
     "name": "stderr",
     "output_type": "stream",
     "text": [
      "Training: 100%|██████████| 72/72 [01:20<00:00,  1.11s/it, loss=0.316]\n",
      "Validation: 100%|██████████| 12/12 [00:09<00:00,  1.22it/s, loss=0.328]\n"
     ]
    },
    {
     "name": "stdout",
     "output_type": "stream",
     "text": [
      "Validation Dice Score\n",
      "Class 0: 0.9901, Class 1: 0.7806, Class 2: 0.2598, Class 3: 0.4048, Class 4: 0.7371, Class 5: 0.5180, Class 6: 0.8853, \n",
      "Validation F-beta Score\n",
      "Class 0: 0.9869, Class 1: 0.8919, Class 2: 0.3589, Class 3: 0.5528, Class 4: 0.7997, Class 5: 0.6040, Class 6: 0.9540, \n",
      "\n",
      "Overall Mean Dice Score: 0.6651\n",
      "Overall Mean F-beta Score: 0.7605\n",
      "\n",
      "Training Loss: 0.3248, Validation Loss: 0.3065, Validation F-beta: 0.7605\n",
      "Epoch 177/4000\n"
     ]
    },
    {
     "name": "stderr",
     "output_type": "stream",
     "text": [
      "Training: 100%|██████████| 72/72 [01:20<00:00,  1.12s/it, loss=0.334]\n",
      "Validation: 100%|██████████| 12/12 [00:09<00:00,  1.25it/s, loss=0.307]\n"
     ]
    },
    {
     "name": "stdout",
     "output_type": "stream",
     "text": [
      "Validation Dice Score\n",
      "Class 0: 0.9898, Class 1: 0.7808, Class 2: 0.2714, Class 3: 0.4112, Class 4: 0.7487, Class 5: 0.5078, Class 6: 0.8995, \n",
      "Validation F-beta Score\n",
      "Class 0: 0.9866, Class 1: 0.8849, Class 2: 0.4077, Class 3: 0.5433, Class 4: 0.7907, Class 5: 0.5957, Class 6: 0.9601, \n",
      "\n",
      "Overall Mean Dice Score: 0.6696\n",
      "Overall Mean F-beta Score: 0.7549\n",
      "\n",
      "Training Loss: 0.3254, Validation Loss: 0.3040, Validation F-beta: 0.7549\n",
      "Epoch 178/4000\n"
     ]
    },
    {
     "name": "stderr",
     "output_type": "stream",
     "text": [
      "Training:  19%|█▉        | 14/72 [00:15<01:05,  1.12s/it, loss=0.332]"
     ]
    }
   ],
   "source": [
    "train_model(\n",
    "    model=model,\n",
    "    train_loader=train_loader,\n",
    "    val_loader=val_loader,\n",
    "    criterion=criterion,\n",
    "    optimizer=optimizer,\n",
    "    num_epochs=num_epochs,\n",
    "    patience=10,\n",
    "    device=device,\n",
    "    start_epoch=start_epoch,\n",
    "    best_val_loss=best_val_loss,\n",
    "    best_val_fbeta_score=best_val_fbeta_score,\n",
    "    calculate_dice_interval=1,\n",
    "    accumulation_steps = accumulation_steps\n",
    "     ) "
   ]
  },
  {
   "cell_type": "code",
   "execution_count": null,
   "metadata": {},
   "outputs": [
    {
     "ename": "SyntaxError",
     "evalue": "invalid syntax (879943805.py, line 1)",
     "output_type": "error",
     "traceback": [
      "\u001b[1;36m  Cell \u001b[1;32mIn[12], line 1\u001b[1;36m\u001b[0m\n\u001b[1;33m    if:\u001b[0m\n\u001b[1;37m      ^\u001b[0m\n\u001b[1;31mSyntaxError\u001b[0m\u001b[1;31m:\u001b[0m invalid syntax\n"
     ]
    }
   ],
   "source": [
    "if:"
   ]
  },
  {
   "cell_type": "markdown",
   "metadata": {},
   "source": [
    "# VAl"
   ]
  },
  {
   "cell_type": "code",
   "execution_count": null,
   "metadata": {},
   "outputs": [
    {
     "data": {
      "text/html": [
       "Finishing last run (ID:fs6utwyo) before initializing another..."
      ],
      "text/plain": [
       "<IPython.core.display.HTML object>"
      ]
     },
     "metadata": {},
     "output_type": "display_data"
    },
    {
     "data": {
      "application/vnd.jupyter.widget-view+json": {
       "model_id": "29cc3ae761af43baae5aca60b5d2e7f4",
       "version_major": 2,
       "version_minor": 0
      },
      "text/plain": [
       "VBox(children=(Label(value='0.009 MB of 0.009 MB uploaded\\r'), FloatProgress(value=1.0, max=1.0)))"
      ]
     },
     "metadata": {},
     "output_type": "display_data"
    },
    {
     "data": {
      "text/html": [
       "<style>\n",
       "    table.wandb td:nth-child(1) { padding: 0 10px; text-align: left ; width: auto;} td:nth-child(2) {text-align: left ; width: 100%}\n",
       "    .wandb-row { display: flex; flex-direction: row; flex-wrap: wrap; justify-content: flex-start; width: 100% }\n",
       "    .wandb-col { display: flex; flex-direction: column; flex-basis: 100%; flex: 1; padding: 10px; }\n",
       "    </style>\n",
       "<div class=\"wandb-row\"><div class=\"wandb-col\"><h3>Run history:</h3><br/><table class=\"wandb\"><tr><td>class_0_dice_score</td><td>▁</td></tr><tr><td>class_0_f_beta_score</td><td>▁</td></tr><tr><td>class_1_dice_score</td><td>▁</td></tr><tr><td>class_1_f_beta_score</td><td>▁</td></tr><tr><td>class_2_dice_score</td><td>▁</td></tr><tr><td>class_2_f_beta_score</td><td>▁</td></tr><tr><td>class_3_dice_score</td><td>▁</td></tr><tr><td>class_3_f_beta_score</td><td>▁</td></tr><tr><td>class_4_dice_score</td><td>▁</td></tr><tr><td>class_4_f_beta_score</td><td>▁</td></tr><tr><td>class_5_dice_score</td><td>▁</td></tr><tr><td>class_5_f_beta_score</td><td>▁</td></tr><tr><td>class_6_dice_score</td><td>▁</td></tr><tr><td>class_6_f_beta_score</td><td>▁</td></tr><tr><td>epoch</td><td>▁▁▁▁▁▁▁▁▁▁▁▁▁▁▁▁</td></tr><tr><td>overall_mean_dice_score</td><td>▁</td></tr><tr><td>overall_mean_f_beta_score</td><td>▁</td></tr><tr><td>val_epoch_loss</td><td>▁</td></tr></table><br/></div><div class=\"wandb-col\"><h3>Run summary:</h3><br/><table class=\"wandb\"><tr><td>class_0_dice_score</td><td>0.65703</td></tr><tr><td>class_0_f_beta_score</td><td>0.50748</td></tr><tr><td>class_1_dice_score</td><td>0.53332</td></tr><tr><td>class_1_f_beta_score</td><td>0.64703</td></tr><tr><td>class_2_dice_score</td><td>0.00286</td></tr><tr><td>class_2_f_beta_score</td><td>0.02334</td></tr><tr><td>class_3_dice_score</td><td>0.23703</td></tr><tr><td>class_3_f_beta_score</td><td>0.23033</td></tr><tr><td>class_4_dice_score</td><td>0.65487</td></tr><tr><td>class_4_f_beta_score</td><td>0.62525</td></tr><tr><td>class_5_dice_score</td><td>0.47899</td></tr><tr><td>class_5_f_beta_score</td><td>0.51448</td></tr><tr><td>class_6_dice_score</td><td>0.42545</td></tr><tr><td>class_6_f_beta_score</td><td>0.47197</td></tr><tr><td>epoch</td><td>1</td></tr><tr><td>overall_mean_dice_score</td><td>0.42708</td></tr><tr><td>overall_mean_f_beta_score</td><td>0.43141</td></tr><tr><td>val_epoch_loss</td><td>0.7152</td></tr></table><br/></div></div>"
      ],
      "text/plain": [
       "<IPython.core.display.HTML object>"
      ]
     },
     "metadata": {},
     "output_type": "display_data"
    },
    {
     "data": {
      "text/html": [
       " View run <strong style=\"color:#cdcd00\">SwinUNETR96_96_lr0.001_lambda0.52_batch2</strong> at: <a href='https://wandb.ai/waooang/czii_SwinUnetR_val/runs/fs6utwyo' target=\"_blank\">https://wandb.ai/waooang/czii_SwinUnetR_val/runs/fs6utwyo</a><br/> View project at: <a href='https://wandb.ai/waooang/czii_SwinUnetR_val' target=\"_blank\">https://wandb.ai/waooang/czii_SwinUnetR_val</a><br/>Synced 4 W&B file(s), 0 media file(s), 3 artifact file(s) and 0 other file(s)"
      ],
      "text/plain": [
       "<IPython.core.display.HTML object>"
      ]
     },
     "metadata": {},
     "output_type": "display_data"
    },
    {
     "data": {
      "text/html": [
       "Find logs at: <code>.\\wandb\\run-20241219_200219-fs6utwyo\\logs</code>"
      ],
      "text/plain": [
       "<IPython.core.display.HTML object>"
      ]
     },
     "metadata": {},
     "output_type": "display_data"
    },
    {
     "data": {
      "text/html": [
       "Successfully finished last run (ID:fs6utwyo). Initializing new run:<br/>"
      ],
      "text/plain": [
       "<IPython.core.display.HTML object>"
      ]
     },
     "metadata": {},
     "output_type": "display_data"
    },
    {
     "data": {
      "text/html": [
       "Tracking run with wandb version 0.18.3"
      ],
      "text/plain": [
       "<IPython.core.display.HTML object>"
      ]
     },
     "metadata": {},
     "output_type": "display_data"
    },
    {
     "data": {
      "text/html": [
       "Run data is saved locally in <code>e:\\Workspace\\czll\\wandb\\run-20241219_200454-121l7bn3</code>"
      ],
      "text/plain": [
       "<IPython.core.display.HTML object>"
      ]
     },
     "metadata": {},
     "output_type": "display_data"
    },
    {
     "data": {
      "text/html": [
       "Syncing run <strong><a href='https://wandb.ai/waooang/czii_SwinUnetR_val/runs/121l7bn3' target=\"_blank\">SwinUNETR96_96_lr0.001_lambda0.52_batch2</a></strong> to <a href='https://wandb.ai/waooang/czii_SwinUnetR_val' target=\"_blank\">Weights & Biases</a> (<a href='https://wandb.me/run' target=\"_blank\">docs</a>)<br/>"
      ],
      "text/plain": [
       "<IPython.core.display.HTML object>"
      ]
     },
     "metadata": {},
     "output_type": "display_data"
    },
    {
     "data": {
      "text/html": [
       " View project at <a href='https://wandb.ai/waooang/czii_SwinUnetR_val' target=\"_blank\">https://wandb.ai/waooang/czii_SwinUnetR_val</a>"
      ],
      "text/plain": [
       "<IPython.core.display.HTML object>"
      ]
     },
     "metadata": {},
     "output_type": "display_data"
    },
    {
     "data": {
      "text/html": [
       " View run at <a href='https://wandb.ai/waooang/czii_SwinUnetR_val/runs/121l7bn3' target=\"_blank\">https://wandb.ai/waooang/czii_SwinUnetR_val/runs/121l7bn3</a>"
      ],
      "text/plain": [
       "<IPython.core.display.HTML object>"
      ]
     },
     "metadata": {},
     "output_type": "display_data"
    },
    {
     "name": "stderr",
     "output_type": "stream",
     "text": [
      "Loading dataset: 100%|██████████| 4/4 [00:06<00:00,  1.58s/it]\n",
      "C:\\Users\\Seungwoo\\AppData\\Local\\Temp\\ipykernel_21000\\1177025787.py:95: FutureWarning: You are using `torch.load` with `weights_only=False` (the current default value), which uses the default pickle module implicitly. It is possible to construct malicious pickle data which will execute arbitrary code during unpickling (See https://github.com/pytorch/pytorch/blob/main/SECURITY.md#untrusted-models for more details). In a future release, the default value for `weights_only` will be flipped to `True`. This limits the functions that could be executed during unpickling. Arbitrary objects will no longer be allowed to be loaded via this mode unless they are explicitly allowlisted by the user via `torch.serialization.add_safe_globals`. We recommend you start setting `weights_only=True` for any use case where you don't have full control of the loaded file. Please open an issue on GitHub for any issues related to this experimental feature.\n",
      "  checkpoint = torch.load(pretrain_path, map_location=device)\n",
      "Validation: 100%|██████████| 4/4 [00:01<00:00,  2.38it/s, loss=0.865]"
     ]
    },
    {
     "name": "stdout",
     "output_type": "stream",
     "text": [
      "Validation Dice Score\n",
      "Class 0: 0.6570, Class 1: 0.5333, Class 2: 0.0029, Class 3: 0.2370, \n",
      "Class 4: 0.6549, Class 5: 0.4790, Class 6: 0.4255, \n",
      "Validation F-beta Score\n",
      "Class 0: 0.5075, Class 1: 0.6470, Class 2: 0.0233, Class 3: 0.2303, \n",
      "Class 4: 0.6252, Class 5: 0.5145, Class 6: 0.4720, \n",
      "Overall Mean Dice Score: 0.4659\n",
      "Overall Mean F-beta Score: 0.4978\n",
      "\n"
     ]
    },
    {
     "name": "stderr",
     "output_type": "stream",
     "text": [
      "\n"
     ]
    }
   ],
   "source": [
    "from monai.data import DataLoader, Dataset, CacheDataset\n",
    "from monai.transforms import (\n",
    "    Compose, LoadImaged, EnsureChannelFirstd, NormalizeIntensityd,\n",
    "    Orientationd, CropForegroundd, GaussianSmoothd, ScaleIntensityd,\n",
    "    RandSpatialCropd, RandRotate90d, RandFlipd, RandGaussianNoised,\n",
    "    ToTensord, RandCropByLabelClassesd\n",
    ")\n",
    "from monai.metrics import DiceMetric\n",
    "from monai.networks.nets import UNETR, SwinUNETR\n",
    "from monai.losses import TverskyLoss\n",
    "import torch\n",
    "import numpy as np\n",
    "from tqdm import tqdm\n",
    "import wandb\n",
    "from src.dataset.dataset import make_val_dataloader\n",
    "\n",
    "val_img_dir = \"./datasets/val/images\"\n",
    "val_label_dir = \"./datasets/val/labels\"\n",
    "img_depth = 96\n",
    "img_size = 96  # Match your patch size\n",
    "n_classes = 7\n",
    "batch_size = 2 # 13.8GB GPU memory required for 128x128 img size\n",
    "num_samples = batch_size # 한 이미지에서 뽑을 샘플 수\n",
    "loader_batch = 1\n",
    "lamda = 0.52\n",
    "\n",
    "wandb.init(\n",
    "    project='czii_SwinUnetR_val',  # 프로젝트 이름 설정\n",
    "    name='SwinUNETR96_96_lr0.001_lambda0.52_batch2',         # 실행(run) 이름 설정\n",
    "    config={\n",
    "        'learning_rate': 0.001,\n",
    "        'batch_size': batch_size,\n",
    "        'lambda': lamda,\n",
    "        'img_size': img_size,\n",
    "        'device': 'cuda',\n",
    "        \"checkpoint_dir\": \"./model_checkpoints/SwinUNETR96_96_lr0.001_lambda0.52_batch2\",\n",
    "        \n",
    "    }\n",
    ")\n",
    "\n",
    "non_random_transforms = Compose([\n",
    "    EnsureChannelFirstd(keys=[\"image\", \"label\"], channel_dim=\"no_channel\"),\n",
    "    NormalizeIntensityd(keys=\"image\"),\n",
    "    Orientationd(keys=[\"image\", \"label\"], axcodes=\"RAS\"),\n",
    "    GaussianSmoothd(\n",
    "        keys=[\"image\"],      # 변환을 적용할 키\n",
    "        sigma=[1.0, 1.0, 1.0]  # 각 축(x, y, z)의 시그마 값\n",
    "        ),\n",
    "])\n",
    "random_transforms = Compose([\n",
    "    RandCropByLabelClassesd(\n",
    "        keys=[\"image\", \"label\"],\n",
    "        label_key=\"label\",\n",
    "        spatial_size=[img_depth, img_size, img_size],\n",
    "        num_classes=n_classes,\n",
    "        num_samples=num_samples, \n",
    "        ratios=ratios_list,\n",
    "    ),\n",
    "    RandRotate90d(keys=[\"image\", \"label\"], prob=0.5, spatial_axes=[1, 2]),\n",
    "    RandFlipd(keys=[\"image\", \"label\"], prob=0.5, spatial_axis=0),\n",
    "])\n",
    "\n",
    "val_loader = make_val_dataloader(\n",
    "    val_img_dir, \n",
    "    val_label_dir, \n",
    "    non_random_transforms = non_random_transforms, \n",
    "    random_transforms = random_transforms, \n",
    "    batch_size = loader_batch,\n",
    "    num_workers=0\n",
    ")\n",
    "criterion = TverskyLoss(\n",
    "    alpha= 1 - lamda,  # FP에 대한 가중치\n",
    "    beta=lamda,       # FN에 대한 가중치\n",
    "    include_background=False,  # 배경 클래스 제외\n",
    "    softmax=True\n",
    ")\n",
    "    \n",
    "    \n",
    "from monai.metrics import DiceMetric\n",
    "\n",
    "img_size = 96\n",
    "img_depth = img_size\n",
    "n_classes = 7 \n",
    "\n",
    "device = torch.device(\"cuda\" if torch.cuda.is_available() else \"cpu\")\n",
    "pretrain_path = \"./model_checkpoints/SwinUNETR96_96_lr0.001_lambda0.52_batch2/best_model.pt\"\n",
    "model = SwinUNETR(\n",
    "    img_size=(img_depth, img_size, img_size),\n",
    "    in_channels=1,\n",
    "    out_channels=n_classes,\n",
    "    feature_size=48,\n",
    "    use_checkpoint=True,\n",
    ").to(device)\n",
    "# Pretrained weights 불러오기\n",
    "checkpoint = torch.load(pretrain_path, map_location=device)\n",
    "model.load_state_dict(checkpoint['model_state_dict'])\n",
    "\n",
    "val_loss, overall_mean_fbeta_score = validate_one_epoch(\n",
    "    model=model, \n",
    "    val_loader=val_loader, \n",
    "    criterion=criterion, \n",
    "    device=device, \n",
    "    epoch=0, \n",
    "    calculate_dice_interval=1\n",
    ")"
   ]
  },
  {
   "cell_type": "markdown",
   "metadata": {},
   "source": [
    "# Inference"
   ]
  },
  {
   "cell_type": "code",
   "execution_count": null,
   "metadata": {},
   "outputs": [],
   "source": [
    "from src.dataset.preprocessing import Preprocessor"
   ]
  },
  {
   "cell_type": "code",
   "execution_count": null,
   "metadata": {},
   "outputs": [
    {
     "name": "stdout",
     "output_type": "stream",
     "text": [
      "Done.\n"
     ]
    }
   ],
   "source": [
    "from monai.inferers import sliding_window_inference\n",
    "from monai.transforms import Compose, EnsureChannelFirstd, NormalizeIntensityd, Orientationd, GaussianSmoothd\n",
    "from monai.data import DataLoader, Dataset, CacheDataset\n",
    "from monai.networks.nets import SwinUNETR\n",
    "from pathlib import Path\n",
    "import numpy as np\n",
    "import copick\n",
    "\n",
    "import torch\n",
    "print(\"Done.\")"
   ]
  },
  {
   "cell_type": "code",
   "execution_count": null,
   "metadata": {},
   "outputs": [
    {
     "name": "stdout",
     "output_type": "stream",
     "text": [
      "Config file written to ./kaggle/working/copick.config\n",
      "file length: 7\n"
     ]
    }
   ],
   "source": [
    "config_blob = \"\"\"{\n",
    "    \"name\": \"czii_cryoet_mlchallenge_2024\",\n",
    "    \"description\": \"2024 CZII CryoET ML Challenge training data.\",\n",
    "    \"version\": \"1.0.0\",\n",
    "\n",
    "    \"pickable_objects\": [\n",
    "        {\n",
    "            \"name\": \"apo-ferritin\",\n",
    "            \"is_particle\": true,\n",
    "            \"pdb_id\": \"4V1W\",\n",
    "            \"label\": 1,\n",
    "            \"color\": [  0, 117, 220, 128],\n",
    "            \"radius\": 60,\n",
    "            \"map_threshold\": 0.0418\n",
    "        },\n",
    "        {\n",
    "          \"name\" : \"beta-amylase\",\n",
    "            \"is_particle\": true,\n",
    "            \"pdb_id\": \"8ZRZ\",\n",
    "            \"label\": 2,\n",
    "            \"color\": [255, 255, 255, 128],\n",
    "            \"radius\": 90,\n",
    "            \"map_threshold\": 0.0578  \n",
    "        },\n",
    "        {\n",
    "            \"name\": \"beta-galactosidase\",\n",
    "            \"is_particle\": true,\n",
    "            \"pdb_id\": \"6X1Q\",\n",
    "            \"label\": 3,\n",
    "            \"color\": [ 76,   0,  92, 128],\n",
    "            \"radius\": 90,\n",
    "            \"map_threshold\": 0.0578\n",
    "        },\n",
    "        {\n",
    "            \"name\": \"ribosome\",\n",
    "            \"is_particle\": true,\n",
    "            \"pdb_id\": \"6EK0\",\n",
    "            \"label\": 4,\n",
    "            \"color\": [  0,  92,  49, 128],\n",
    "            \"radius\": 150,\n",
    "            \"map_threshold\": 0.0374\n",
    "        },\n",
    "        {\n",
    "            \"name\": \"thyroglobulin\",\n",
    "            \"is_particle\": true,\n",
    "            \"pdb_id\": \"6SCJ\",\n",
    "            \"label\": 5,\n",
    "            \"color\": [ 43, 206,  72, 128],\n",
    "            \"radius\": 130,\n",
    "            \"map_threshold\": 0.0278\n",
    "        },\n",
    "        {\n",
    "            \"name\": \"virus-like-particle\",\n",
    "            \"is_particle\": true,\n",
    "            \"label\": 6,\n",
    "            \"color\": [255, 204, 153, 128],\n",
    "            \"radius\": 135,\n",
    "            \"map_threshold\": 0.201\n",
    "        },\n",
    "        {\n",
    "            \"name\": \"membrane\",\n",
    "            \"is_particle\": false,\n",
    "            \"label\": 8,\n",
    "            \"color\": [100, 100, 100, 128]\n",
    "        },\n",
    "        {\n",
    "            \"name\": \"background\",\n",
    "            \"is_particle\": false,\n",
    "            \"label\": 9,\n",
    "            \"color\": [10, 150, 200, 128]\n",
    "        }\n",
    "    ],\n",
    "\n",
    "    \"overlay_root\": \"./kaggle/working/overlay\",\n",
    "\n",
    "    \"overlay_fs_args\": {\n",
    "        \"auto_mkdir\": true\n",
    "    },\n",
    "\n",
    "    \"static_root\": \"./kaggle/input/czii-cryo-et-object-identification/test/static\"\n",
    "}\"\"\"\n",
    "\n",
    "copick_config_path = \"./kaggle/working/copick.config\"\n",
    "preprocessor = Preprocessor(config_blob,copick_config_path=copick_config_path)\n",
    "non_random_transforms = Compose([\n",
    "    EnsureChannelFirstd(keys=[\"image\"], channel_dim=\"no_channel\"),\n",
    "    NormalizeIntensityd(keys=\"image\"),\n",
    "    Orientationd(keys=[\"image\"], axcodes=\"RAS\"),\n",
    "    GaussianSmoothd(\n",
    "        keys=[\"image\"],      # 변환을 적용할 키\n",
    "        sigma=[1.0, 1.0, 1.0]  # 각 축(x, y, z)의 시그마 값\n",
    "        ),\n",
    "    ])"
   ]
  },
  {
   "cell_type": "code",
   "execution_count": null,
   "metadata": {},
   "outputs": [
    {
     "name": "stderr",
     "output_type": "stream",
     "text": [
      "c:\\ProgramData\\anaconda3\\envs\\ship\\Lib\\site-packages\\monai\\utils\\deprecate_utils.py:221: FutureWarning: monai.networks.nets.swin_unetr SwinUNETR.__init__:img_size: Argument `img_size` has been deprecated since version 1.3. It will be removed in version 1.5. The img_size argument is not required anymore and checks on the input size are run during forward().\n",
      "  warn_deprecated(argname, msg, warning_category)\n",
      "C:\\Users\\Seungwoo\\AppData\\Local\\Temp\\ipykernel_6248\\2937359115.py:15: FutureWarning: You are using `torch.load` with `weights_only=False` (the current default value), which uses the default pickle module implicitly. It is possible to construct malicious pickle data which will execute arbitrary code during unpickling (See https://github.com/pytorch/pytorch/blob/main/SECURITY.md#untrusted-models for more details). In a future release, the default value for `weights_only` will be flipped to `True`. This limits the functions that could be executed during unpickling. Arbitrary objects will no longer be allowed to be loaded via this mode unless they are explicitly allowlisted by the user via `torch.serialization.add_safe_globals`. We recommend you start setting `weights_only=True` for any use case where you don't have full control of the loaded file. Please open an issue on GitHub for any issues related to this experimental feature.\n",
      "  checkpoint = torch.load(pretrain_path, map_location=device)\n"
     ]
    },
    {
     "data": {
      "text/plain": [
       "<All keys matched successfully>"
      ]
     },
     "execution_count": 15,
     "metadata": {},
     "output_type": "execute_result"
    }
   ],
   "source": [
    "img_size = 96\n",
    "img_depth = img_size\n",
    "n_classes = 7 \n",
    "\n",
    "device = torch.device(\"cuda\" if torch.cuda.is_available() else \"cpu\")\n",
    "pretrain_path = \"./model_checkpoints/SwinUNETR96_96_lr0.001_lambda0.52_batch2/best_model.pt\"\n",
    "model = SwinUNETR(\n",
    "    img_size=(img_depth, img_size, img_size),\n",
    "    in_channels=1,\n",
    "    out_channels=n_classes,\n",
    "    feature_size=48,\n",
    "    use_checkpoint=True,\n",
    ").to(device)\n",
    "# Pretrained weights 불러오기\n",
    "checkpoint = torch.load(pretrain_path, map_location=device)\n",
    "model.load_state_dict(checkpoint['model_state_dict'])\n"
   ]
  },
  {
   "cell_type": "code",
   "execution_count": null,
   "metadata": {},
   "outputs": [
    {
     "name": "stderr",
     "output_type": "stream",
     "text": [
      "Validation:   0%|          | 0/4 [00:03<?, ?it/s, loss=0.764]\n"
     ]
    },
    {
     "ename": "ZeroDivisionError",
     "evalue": "integer modulo by zero",
     "output_type": "error",
     "traceback": [
      "\u001b[1;31m---------------------------------------------------------------------------\u001b[0m",
      "\u001b[1;31mZeroDivisionError\u001b[0m                         Traceback (most recent call last)",
      "Cell \u001b[1;32mIn[16], line 1\u001b[0m\n\u001b[1;32m----> 1\u001b[0m val_loss \u001b[38;5;241m=\u001b[39m \u001b[43mvalidate_one_epoch\u001b[49m\u001b[43m(\u001b[49m\n\u001b[0;32m      2\u001b[0m \u001b[43m            \u001b[49m\u001b[43mmodel\u001b[49m\u001b[38;5;241;43m=\u001b[39;49m\u001b[43mmodel\u001b[49m\u001b[43m,\u001b[49m\u001b[43m \u001b[49m\n\u001b[0;32m      3\u001b[0m \u001b[43m            \u001b[49m\u001b[43mval_loader\u001b[49m\u001b[38;5;241;43m=\u001b[39;49m\u001b[43mval_loader\u001b[49m\u001b[43m,\u001b[49m\u001b[43m \u001b[49m\n\u001b[0;32m      4\u001b[0m \u001b[43m            \u001b[49m\u001b[43mcriterion\u001b[49m\u001b[38;5;241;43m=\u001b[39;49m\u001b[43mcriterion\u001b[49m\u001b[43m,\u001b[49m\u001b[43m \u001b[49m\n\u001b[0;32m      5\u001b[0m \u001b[43m            \u001b[49m\u001b[43mdevice\u001b[49m\u001b[38;5;241;43m=\u001b[39;49m\u001b[43mdevice\u001b[49m\u001b[43m,\u001b[49m\u001b[43m \u001b[49m\n\u001b[0;32m      6\u001b[0m \u001b[43m            \u001b[49m\u001b[43mepoch\u001b[49m\u001b[38;5;241;43m=\u001b[39;49m\u001b[38;5;241;43m1\u001b[39;49m\u001b[43m,\u001b[49m\u001b[43m \u001b[49m\n\u001b[0;32m      7\u001b[0m \u001b[43m            \u001b[49m\u001b[43mcalculate_dice_interval\u001b[49m\u001b[38;5;241;43m=\u001b[39;49m\u001b[38;5;241;43m0\u001b[39;49m\n\u001b[0;32m      8\u001b[0m \u001b[43m        \u001b[49m\u001b[43m)\u001b[49m\n",
      "Cell \u001b[1;32mIn[11], line 64\u001b[0m, in \u001b[0;36mvalidate_one_epoch\u001b[1;34m(model, val_loader, criterion, device, epoch, calculate_dice_interval)\u001b[0m\n\u001b[0;32m     61\u001b[0m pbar\u001b[38;5;241m.\u001b[39mset_postfix(loss\u001b[38;5;241m=\u001b[39mloss\u001b[38;5;241m.\u001b[39mitem())\n\u001b[0;32m     63\u001b[0m \u001b[38;5;66;03m# 각 클래스별 Dice 점수 계산\u001b[39;00m\n\u001b[1;32m---> 64\u001b[0m \u001b[38;5;28;01mif\u001b[39;00m \u001b[43mepoch\u001b[49m\u001b[43m \u001b[49m\u001b[38;5;241;43m%\u001b[39;49m\u001b[43m \u001b[49m\u001b[43mcalculate_dice_interval\u001b[49m \u001b[38;5;241m==\u001b[39m \u001b[38;5;241m0\u001b[39m:\n\u001b[0;32m     65\u001b[0m     \u001b[38;5;28;01mfor\u001b[39;00m i \u001b[38;5;129;01min\u001b[39;00m \u001b[38;5;28mrange\u001b[39m(n_classes):\n\u001b[0;32m     66\u001b[0m         pred_i \u001b[38;5;241m=\u001b[39m (preds \u001b[38;5;241m==\u001b[39m i)\n",
      "\u001b[1;31mZeroDivisionError\u001b[0m: integer modulo by zero"
     ]
    }
   ],
   "source": [
    "val_loss = validate_one_epoch(\n",
    "            model=model, \n",
    "            val_loader=val_loader, \n",
    "            criterion=criterion, \n",
    "            device=device, \n",
    "            epoch=1, \n",
    "            calculate_dice_interval=0\n",
    "        )"
   ]
  },
  {
   "cell_type": "code",
   "execution_count": null,
   "metadata": {},
   "outputs": [
    {
     "name": "stdout",
     "output_type": "stream",
     "text": [
      "Processing volume 1/7\n"
     ]
    },
    {
     "name": "stderr",
     "output_type": "stream",
     "text": [
      "Loading dataset: 100%|██████████| 1/1 [00:01<00:00,  1.94s/it]\n"
     ]
    },
    {
     "name": "stdout",
     "output_type": "stream",
     "text": [
      "Processing volume 2/7\n"
     ]
    },
    {
     "name": "stderr",
     "output_type": "stream",
     "text": [
      "Loading dataset: 100%|██████████| 1/1 [00:01<00:00,  1.89s/it]\n"
     ]
    },
    {
     "name": "stdout",
     "output_type": "stream",
     "text": [
      "Processing volume 3/7\n"
     ]
    },
    {
     "name": "stderr",
     "output_type": "stream",
     "text": [
      "Loading dataset: 100%|██████████| 1/1 [00:01<00:00,  1.79s/it]\n"
     ]
    },
    {
     "name": "stdout",
     "output_type": "stream",
     "text": [
      "Submission saved to: submission.csv\n"
     ]
    }
   ],
   "source": [
    "import torch\n",
    "import numpy as np\n",
    "from scipy.ndimage import label, center_of_mass\n",
    "import pandas as pd\n",
    "from tqdm import tqdm\n",
    "from monai.data import CacheDataset, DataLoader\n",
    "from monai.transforms import Compose, NormalizeIntensity\n",
    "import cc3d\n",
    "\n",
    "def dict_to_df(coord_dict, experiment_name):\n",
    "    all_coords = []\n",
    "    all_labels = []\n",
    "    \n",
    "    for label, coords in coord_dict.items():\n",
    "        all_coords.append(coords)\n",
    "        all_labels.extend([label] * len(coords))\n",
    "    \n",
    "    all_coords = np.vstack(all_coords)\n",
    "    df = pd.DataFrame({\n",
    "        'experiment': experiment_name,\n",
    "        'particle_type': all_labels,\n",
    "        'x': all_coords[:, 0],\n",
    "        'y': all_coords[:, 1],\n",
    "        'z': all_coords[:, 2]\n",
    "    })\n",
    "    return df\n",
    "\n",
    "id_to_name = {1: \"apo-ferritin\", \n",
    "              2: \"beta-amylase\",\n",
    "              3: \"beta-galactosidase\", \n",
    "              4: \"ribosome\", \n",
    "              5: \"thyroglobulin\", \n",
    "              6: \"virus-like-particle\"}\n",
    "BLOB_THRESHOLD = 200\n",
    "CERTAINTY_THRESHOLD = 0.05\n",
    "\n",
    "classes = [1, 2, 3, 4, 5, 6]\n",
    "\n",
    "model.eval()\n",
    "with torch.no_grad():\n",
    "    location_dfs = []  # DataFrame 리스트로 초기화\n",
    "    \n",
    "    for vol_idx, run in enumerate(preprocessor.root.runs):\n",
    "        print(f\"Processing volume {vol_idx + 1}/{len(preprocessor.root.runs)}\")\n",
    "        tomogram = preprocessor.processing(run=run, task=\"task\")\n",
    "        task_files = [{\"image\": tomogram}]\n",
    "        task_ds = CacheDataset(data=task_files, transform=non_random_transforms)\n",
    "        task_loader = DataLoader(task_ds, batch_size=1, num_workers=0)\n",
    "        \n",
    "        for task_data in task_loader:\n",
    "            images = task_data['image'].to(\"cuda\")\n",
    "            outputs = sliding_window_inference(\n",
    "                inputs=images,\n",
    "                roi_size=(96, 96, 96),  # ROI 크기\n",
    "                sw_batch_size=4,\n",
    "                predictor=model.forward,\n",
    "                overlap=0.1,\n",
    "                sw_device=\"cuda\",\n",
    "                device=\"cpu\",\n",
    "                buffer_steps=1,\n",
    "                buffer_dim=-1\n",
    "            )\n",
    "            outputs = outputs.argmax(dim=1).squeeze(0).cpu().numpy()  # 클래스 채널 예측\n",
    "            location = {}  # 좌표 저장용 딕셔너리\n",
    "            for c in classes:\n",
    "                cc = cc3d.connected_components(outputs == c)  # cc3d 라벨링\n",
    "                stats = cc3d.statistics(cc)\n",
    "                zyx = stats['centroids'][1:] * 10.012444  # 스케일 변환\n",
    "                zyx_large = zyx[stats['voxel_counts'][1:] > BLOB_THRESHOLD]  # 크기 필터링\n",
    "                xyz = np.ascontiguousarray(zyx_large[:, ::-1])  # 좌표 스왑 (z, y, x -> x, y, z)\n",
    "\n",
    "                location[id_to_name[c]] = xyz  # ID 이름 매칭 저장\n",
    "\n",
    "            # 데이터프레임 변환\n",
    "            df = dict_to_df(location, run.name)\n",
    "            location_dfs.append(df)  # 리스트에 추가\n",
    "        \n",
    "        # if vol_idx == 2:\n",
    "        #     break\n",
    "    \n",
    "    # DataFrame 병합\n",
    "    final_df = pd.concat(location_dfs, ignore_index=True)\n",
    "    \n",
    "    # ID 추가 및 CSV 저장\n",
    "    final_df.insert(loc=0, column='id', value=np.arange(len(final_df)))\n",
    "    final_df.to_csv(\"submission.csv\", index=False)\n",
    "    print(\"Submission saved to: submission.csv\")\n"
   ]
  }
 ],
 "metadata": {
  "kernelspec": {
   "display_name": "UM",
   "language": "python",
   "name": "python3"
  },
  "language_info": {
   "codemirror_mode": {
    "name": "ipython",
    "version": 3
   },
   "file_extension": ".py",
   "mimetype": "text/x-python",
   "name": "python",
   "nbconvert_exporter": "python",
   "pygments_lexer": "ipython3",
   "version": "3.12.7"
  }
 },
 "nbformat": 4,
 "nbformat_minor": 2
}
