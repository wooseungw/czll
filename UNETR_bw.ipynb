{
 "cells": [
  {
   "cell_type": "code",
   "execution_count": 1,
   "metadata": {},
   "outputs": [
    {
     "name": "stderr",
     "output_type": "stream",
     "text": [
      "c:\\Users\\pook0\\.conda\\envs\\UM\\Lib\\site-packages\\tqdm\\auto.py:21: TqdmWarning: IProgress not found. Please update jupyter and ipywidgets. See https://ipywidgets.readthedocs.io/en/stable/user_install.html\n",
      "  from .autonotebook import tqdm as notebook_tqdm\n"
     ]
    },
    {
     "name": "stdout",
     "output_type": "stream",
     "text": [
      "MONAI version: 1.4.0\n",
      "Numpy version: 1.26.4\n",
      "Pytorch version: 2.4.1+cu121\n",
      "MONAI flags: HAS_EXT = False, USE_COMPILED = False, USE_META_DICT = False\n",
      "MONAI rev id: 46a5272196a6c2590ca2589029eed8e4d56ff008\n",
      "MONAI __file__: c:\\Users\\<username>\\.conda\\envs\\UM\\Lib\\site-packages\\monai\\__init__.py\n",
      "\n",
      "Optional dependencies:\n",
      "Pytorch Ignite version: NOT INSTALLED or UNKNOWN VERSION.\n",
      "ITK version: NOT INSTALLED or UNKNOWN VERSION.\n",
      "Nibabel version: 5.3.2\n",
      "scikit-image version: 0.24.0\n",
      "scipy version: 1.14.1\n",
      "Pillow version: 10.2.0\n",
      "Tensorboard version: 2.18.0\n",
      "gdown version: 5.2.0\n",
      "TorchVision version: 0.19.1+cu121\n",
      "tqdm version: 4.66.5\n",
      "lmdb version: NOT INSTALLED or UNKNOWN VERSION.\n",
      "psutil version: 6.0.0\n",
      "pandas version: 2.2.3\n",
      "einops version: 0.8.0\n",
      "transformers version: NOT INSTALLED or UNKNOWN VERSION.\n",
      "mlflow version: 2.17.2\n",
      "pynrrd version: NOT INSTALLED or UNKNOWN VERSION.\n",
      "clearml version: NOT INSTALLED or UNKNOWN VERSION.\n",
      "\n",
      "For details about installing the optional dependencies, please visit:\n",
      "    https://docs.monai.io/en/latest/installation.html#installing-the-recommended-dependencies\n",
      "\n"
     ]
    }
   ],
   "source": [
    "import os\n",
    "import shutil\n",
    "import tempfile\n",
    "\n",
    "import matplotlib.pyplot as plt\n",
    "from tqdm import tqdm\n",
    "\n",
    "import random\n",
    "import numpy as np\n",
    "import torch\n",
    "\n",
    "from src.models import UNet_CBAM_bw as UNet_CBAM\n",
    "\n",
    "from monai.losses import DiceCELoss\n",
    "from monai.inferers import sliding_window_inference\n",
    "from monai.transforms import (\n",
    "    AsDiscrete,\n",
    "    EnsureChannelFirstd,\n",
    "    Compose,\n",
    "    CropForegroundd,\n",
    "    LoadImaged,\n",
    "    Orientationd,\n",
    "    RandFlipd,\n",
    "    RandCropByPosNegLabeld,\n",
    "    RandShiftIntensityd,\n",
    "    ScaleIntensityRanged,\n",
    "    Spacingd,\n",
    "    RandRotate90d,\n",
    ")\n",
    "\n",
    "from monai.config import print_config\n",
    "from monai.metrics import DiceMetric\n",
    "# from src.models.swincspunetr import SwinCSPUNETR\n",
    "# from src.models.swincspunetr_unet import SwinCSPUNETR_unet\n",
    "# from src.models.swincspunetr3plus import SwinCSPUNETR3plus\n",
    "\n",
    "from monai.data import (\n",
    "    DataLoader,\n",
    "    CacheDataset,\n",
    "    load_decathlon_datalist,\n",
    "    decollate_batch,\n",
    ")\n",
    "\n",
    "# 랜덤 시드 고정\n",
    "def set_seed(seed):\n",
    "    random.seed(seed)\n",
    "    np.random.seed(seed)\n",
    "    torch.manual_seed(seed)\n",
    "    if torch.cuda.is_available():\n",
    "        torch.cuda.manual_seed_all(seed)\n",
    "\n",
    "set_seed(42)\n",
    "\n",
    "\n",
    "print_config()"
   ]
  },
  {
   "cell_type": "code",
   "execution_count": 2,
   "metadata": {},
   "outputs": [
    {
     "name": "stdout",
     "output_type": "stream",
     "text": [
      "클래스 비율: {0: 0.0, 1: 0.16393442622950818, 2: 0.01639344262295082, 3: 0.2459016393442623, 4: 0.16393442622950818, 5: 0.2459016393442623, 6: 0.16393442622950818}\n",
      "최종 합계: 1.0\n",
      "클래스 비율 리스트: [0.0, 0.16393442622950818, 0.01639344262295082, 0.2459016393442623, 0.16393442622950818, 0.2459016393442623, 0.16393442622950818]\n"
     ]
    }
   ],
   "source": [
    "class_info = {\n",
    "    0: {\"name\": \"background\", \"weight\": 0},  # weight 없음\n",
    "    1: {\"name\": \"apo-ferritin\", \"weight\": 1000},\n",
    "    2: {\"name\": \"beta-amylase\", \"weight\": 100}, # 4130\n",
    "    3: {\"name\": \"beta-galactosidase\", \"weight\": 1500}, #3080\n",
    "    4: {\"name\": \"ribosome\", \"weight\": 1000},\n",
    "    5: {\"name\": \"thyroglobulin\", \"weight\": 1500},\n",
    "    6: {\"name\": \"virus-like-particle\", \"weight\": 1000},\n",
    "}\n",
    "\n",
    "# 가중치에 비례한 비율 계산\n",
    "raw_ratios = {\n",
    "    k: (v[\"weight\"] if v[\"weight\"] is not None else 0.01)  # 가중치 비례, None일 경우 기본값a\n",
    "    for k, v in class_info.items()\n",
    "}\n",
    "total = sum(raw_ratios.values())\n",
    "ratios = {k: v / total for k, v in raw_ratios.items()}\n",
    "\n",
    "# 최종 합계가 1인지 확인\n",
    "final_total = sum(ratios.values())\n",
    "print(\"클래스 비율:\", ratios)\n",
    "print(\"최종 합계:\", final_total)\n",
    "\n",
    "# 비율을 리스트로 변환\n",
    "ratios_list = [ratios[k] for k in sorted(ratios.keys())]\n",
    "print(\"클래스 비율 리스트:\", ratios_list)"
   ]
  },
  {
   "cell_type": "markdown",
   "metadata": {},
   "source": [
    "# 모델 설정"
   ]
  },
  {
   "cell_type": "code",
   "execution_count": 3,
   "metadata": {},
   "outputs": [],
   "source": [
    "from src.dataset.dataset import create_dataloaders, create_dataloaders_bw\n",
    "from monai.transforms import (\n",
    "    Compose, LoadImaged, EnsureChannelFirstd, NormalizeIntensityd,\n",
    "    Orientationd, CropForegroundd, GaussianSmoothd, ScaleIntensityd,\n",
    "    RandSpatialCropd, RandRotate90d, RandFlipd, RandGaussianNoised,\n",
    "    ToTensord, RandCropByLabelClassesd, RandCropd,RandCropByPosNegLabeld, RandGaussianSmoothd\n",
    ")\n",
    "from monai.transforms import CastToTyped\n",
    "import numpy as np\n",
    "\n",
    "train_img_dir = \"./datasets/train/images\"\n",
    "train_label_dir = \"./datasets/train/labels\"\n",
    "val_img_dir = \"./datasets/val_de_iso/images\"\n",
    "val_label_dir = \"./datasets/val_de_iso/labels\"\n",
    "# DATA CONFIG\n",
    "img_size =  96 # Match your patch size\n",
    "img_depth = 32\n",
    "n_classes = 7\n",
    "batch_size = 64 # 13.8GB GPU memory required for 128x128 img size\n",
    "loader_batch = 1\n",
    "num_samples = batch_size // loader_batch # 한 이미지에서 뽑을 샘플 수\n",
    "num_repeat = 10\n",
    "# MODEL CONFIG\n",
    "num_epochs = 4000\n",
    "lamda = 0.52\n",
    "ce_weight = 0.8\n",
    "lr = 0.001\n",
    "feature_size = (32, 64, 128, 256)\n",
    "use_checkpoint = True\n",
    "use_v2 = True\n",
    "drop_rate= 0.2\n",
    "attn_drop_rate = 0.2\n",
    "num_bottleneck = 2\n",
    "# CLASS_WEIGHTS\n",
    "class_weights = None\n",
    "# class_weights = torch.tensor([0.0001, 1, 0.001, 1.1, 1, 1.1, 1], dtype=torch.float32)  # 클래스별 가중치\n",
    "# class_weights = torch.tensor([0.9,1,0.9,1.1,1,1.1,1], dtype=torch.float32)  # 클래스별 가중치\n",
    "sigma = 2.0\n",
    "accumulation_steps = 1\n",
    "# INIT\n",
    "start_epoch = 0\n",
    "best_val_loss = float('inf')\n",
    "best_val_fbeta_score = 0\n",
    "\n",
    "non_random_transforms = Compose([\n",
    "    EnsureChannelFirstd(keys=[\"image\", \"label\"], channel_dim=\"no_channel\"),\n",
    "    NormalizeIntensityd(keys=\"image\"),\n",
    "    Orientationd(keys=[\"image\", \"label\"], axcodes=\"RAS\"),\n",
    "    # GaussianSmoothd(\n",
    "    #     keys=[\"image\"],      # 변환을 적용할 키\n",
    "    #     sigma=[sigma, sigma, sigma]  # 각 축(x, y, z)의 시그마 값\n",
    "    #     ),\n",
    "])\n",
    "random_transforms = Compose([\n",
    "    RandCropByLabelClassesd(\n",
    "        keys=[\"image\", \"label\"],\n",
    "        label_key=\"label\",\n",
    "        spatial_size=[img_depth, img_size, img_size],\n",
    "        num_classes=n_classes,\n",
    "        num_samples=num_samples, \n",
    "        ratios=ratios_list,\n",
    "    ),\n",
    "    RandRotate90d(keys=[\"image\", \"label\"], prob=0.5, spatial_axes=[1, 2]),\n",
    "    RandFlipd(keys=[\"image\", \"label\"], prob=0.5, spatial_axis=0),\n",
    "    RandFlipd(keys=[\"image\", \"label\"], prob=0.5, spatial_axis=1),\n",
    "    RandFlipd(keys=[\"image\", \"label\"], prob=0.5, spatial_axis=2),\n",
    "    # RandGaussianSmoothd(\n",
    "    # keys=[\"image\"],      # 변환을 적용할 키\n",
    "    # sigma_x = (0.0, sigma), # 각 축(x, y, z)의 시그마 값\n",
    "    # sigma_y = (0.0, sigma),\n",
    "    # sigma_z = (0.0, sigma),\n",
    "    # prob=1.0,\n",
    "    # ),\n",
    "])\n",
    "val_random_transforms = Compose([\n",
    "    RandCropByLabelClassesd(\n",
    "        keys=[\"image\", \"label\"],\n",
    "        label_key=\"label\",\n",
    "        spatial_size=[img_depth, img_size, img_size],\n",
    "        num_classes=n_classes,\n",
    "        num_samples=num_samples, \n",
    "        ratios=ratios_list,\n",
    "    ),\n",
    "    # RandRotate90d(keys=[\"image\", \"label\"], prob=0.5, spatial_axes=[1, 2]),\n",
    "    # RandFlipd(keys=[\"image\", \"label\"], prob=0.5, spatial_axis=0),\n",
    "    # RandFlipd(keys=[\"image\", \"label\"], prob=0.5, spatial_axis=1),\n",
    "    # RandFlipd(keys=[\"image\", \"label\"], prob=0.5, spatial_axis=2),\n",
    "    # RandGaussianSmoothd(\n",
    "    # keys=[\"image\"],      # 변환을 적용할 키\n",
    "    # sigma_x = (0.0, sigma), # 각 축(x, y, z)의 시그마 값\n",
    "    # sigma_y = (0.0, sigma),\n",
    "    # sigma_z = (0.0, sigma),\n",
    "    # prob=1.0,\n",
    "    # ),\n",
    "])\n"
   ]
  },
  {
   "cell_type": "code",
   "execution_count": 4,
   "metadata": {},
   "outputs": [],
   "source": [
    "train_loader, val_loader = None, None\n",
    "train_loader, val_loader = create_dataloaders_bw(\n",
    "    train_img_dir, \n",
    "    train_label_dir, \n",
    "    val_img_dir, \n",
    "    val_label_dir, \n",
    "    non_random_transforms = non_random_transforms, \n",
    "    val_non_random_transforms=non_random_transforms,\n",
    "    random_transforms = random_transforms, \n",
    "    val_random_transforms=val_random_transforms,\n",
    "    batch_size = loader_batch,\n",
    "    num_workers=0,\n",
    "    train_num_repeat=num_repeat,\n",
    "    val_num_repeat=num_repeat,\n",
    "    )"
   ]
  },
  {
   "cell_type": "markdown",
   "metadata": {},
   "source": [
    "https://monai.io/model-zoo.html"
   ]
  },
  {
   "cell_type": "code",
   "execution_count": 5,
   "metadata": {},
   "outputs": [],
   "source": [
    "import torch\n",
    "import torch.nn as nn\n",
    "import torch.nn.functional as F\n",
    "from monai.losses import TverskyLoss\n",
    "\n",
    "device = torch.device(\"cuda\" if torch.cuda.is_available() else \"cpu\")\n",
    "\n",
    "# DynamicTverskyLoss 클래스 정의\n",
    "class DynamicTverskyLoss(TverskyLoss):\n",
    "    def __init__(self, lamda=0.5, **kwargs):\n",
    "        super().__init__(alpha=1 - lamda, beta=lamda, **kwargs)\n",
    "        self.lamda = lamda\n",
    "\n",
    "    def set_lamda(self, lamda):\n",
    "        self.lamda = lamda\n",
    "        self.alpha = 1 - lamda\n",
    "        self.beta = lamda\n",
    "\n",
    "\n",
    "# CombinedCETverskyLoss 클래스\n",
    "class CombinedCETverskyLoss_cl_weight(nn.Module):\n",
    "    \n",
    "    \n",
    "    def __init__(self, lamda=0.5, ce_weight=0.5, n_classes=7, class_weights=None, ignore_index=-1, **kwargs):\n",
    "        super().__init__()\n",
    "        self.n_classes = n_classes\n",
    "        self.ce_weight = ce_weight\n",
    "        self.ignore_index = ignore_index\n",
    "        \n",
    "        # CrossEntropyLoss에서 클래스별 가중치를 적용\n",
    "        self.ce = nn.CrossEntropyLoss(weight=class_weights, ignore_index=self.ignore_index, reduction='mean', **kwargs)\n",
    "        \n",
    "        # TverskyLoss\n",
    "        self.tversky = DynamicTverskyLoss(lamda=lamda, reduction=\"none\",softmax=True, **kwargs)\n",
    "\n",
    "    def forward(self, inputs, targets):\n",
    "        \n",
    "        # CrossEntropyLoss는 정수형 클래스 인덱스를 사용\n",
    "        ce_loss = self.ce(inputs, targets)\n",
    "\n",
    "        # TverskyLoss 계산 (원핫 인코딩된 라벨을 사용)\n",
    "        \n",
    "        tversky_loss = self.tversky(inputs, targets)\n",
    "\n",
    "        # 클래스별 가중치 적용 (Tversky 손실에도 가중치를 곱하기)\n",
    "        class_weights = torch.tensor(self.ce.weight)  # CrossEntropy의 weight를 사용\n",
    "\n",
    "        # Tversky 손실이 (B, num_classes) 형태이므로, 가중치를 클래스 차원에 곱합니다.\n",
    "        tversky_loss = tversky_loss * class_weights.view(1, self.n_classes)\n",
    "\n",
    "        # 최종 손실 계산\n",
    "        final_loss = self.ce_weight * ce_loss + (1 - self.ce_weight) * tversky_loss.mean()  # mean()으로 배치에 대해 평균\n",
    "        return final_loss\n",
    "\n",
    "    def set_lamda(self, lamda):\n",
    "        self.tversky.set_lamda(lamda)\n",
    "\n",
    "    @property\n",
    "    def lamda(self):\n",
    "        return self.tversky.lamda\n",
    "\n",
    "# CombinedCETverskyLoss 클래스\n",
    "class CombinedCETverskyLoss(nn.Module):\n",
    "    \n",
    "    def __init__(self, lamda=0.5, ce_weight=0.5, n_classes=7, class_weights=None, ignore_index=-1, **kwargs):\n",
    "        super().__init__()\n",
    "        self.n_classes = n_classes\n",
    "        self.ce_weight = ce_weight\n",
    "        self.ignore_index = ignore_index\n",
    "        \n",
    "        # CrossEntropyLoss에서 클래스별 가중치를 적용\n",
    "        self.ce = nn.CrossEntropyLoss(ignore_index=self.ignore_index, reduction='mean', **kwargs)\n",
    "        \n",
    "        # TverskyLoss\n",
    "        self.tversky = DynamicTverskyLoss(lamda=lamda, reduction=\"mean\",softmax=True, **kwargs)\n",
    "\n",
    "    def forward(self, inputs, targets):\n",
    "        \n",
    "        # CrossEntropyLoss는 정수형 클래스 인덱스를 사용\n",
    "        ce_loss = self.ce(inputs, targets)\n",
    "\n",
    "        # TverskyLoss 계산 (원핫 인코딩된 라벨을 사용)\n",
    "        \n",
    "        tversky_loss = self.tversky(inputs, targets)\n",
    "\n",
    "        # 최종 손실 계산\n",
    "        final_loss = self.ce_weight * ce_loss + (1 - self.ce_weight) * tversky_loss  # mean()으로 배치에 대해 평균\n",
    "        \n",
    "        return final_loss\n",
    "\n",
    "    def set_lamda(self, lamda):\n",
    "        self.tversky.set_lamda(lamda)\n",
    "\n",
    "    @property\n",
    "    def lamda(self):\n",
    "        return self.tversky.lamda\n",
    "\n",
    "criterion = CombinedCETverskyLoss(\n",
    "    lamda=lamda,\n",
    "    ce_weight=ce_weight,\n",
    "    n_classes=n_classes,\n",
    "    class_weights=class_weights,\n",
    ").to(device)"
   ]
  },
  {
   "cell_type": "code",
   "execution_count": 6,
   "metadata": {},
   "outputs": [
    {
     "name": "stderr",
     "output_type": "stream",
     "text": [
      "c:\\Users\\pook0\\.conda\\envs\\UM\\Lib\\site-packages\\torch\\nn\\init.py:453: UserWarning: Initializing zero-element tensors is a no-op\n",
      "  warnings.warn(\"Initializing zero-element tensors is a no-op\")\n"
     ]
    }
   ],
   "source": [
    "import torch.optim as optim\n",
    "from tqdm import tqdm\n",
    "import numpy as np\n",
    "import torch\n",
    "from pathlib import Path\n",
    "from monai.networks.nets import UNet\n",
    "from src.models import UNet_CBAM\n",
    "from monai.networks.layers.factories import Act, Norm\n",
    "\n",
    "device = torch.device(\"cuda\" if torch.cuda.is_available() else \"cpu\")\n",
    "\n",
    "\n",
    "model = UNet_CBAM(\n",
    "    spatial_dims=3,\n",
    "    in_channels=1,\n",
    "    out_channels=n_classes,\n",
    "    channels=feature_size,\n",
    "    strides=(2, 2, 2),\n",
    "    dropout = drop_rate,\n",
    "    norm = Norm.INSTANCE,\n",
    "    act = Act.PRELU,\n",
    ").to(device)\n",
    "\n",
    "pretrain_str = \"yes\" if use_checkpoint else \"no\"\n",
    "weight_str = \"weighted\" if class_weights is not None else \"\"\n",
    "\n",
    "# 체크포인트 디렉토리 및 파일 설정\n",
    "checkpoint_base_dir = Path(\"./model_checkpoints\")\n",
    "folder_name = f\"CBAMbw_deno_iso_noclswt_{weight_str}_f{feature_size}_d{img_depth}_s{img_size}_dropr{drop_rate}_lr{lr:.0e}_a{lamda:.2f}_b{batch_size}_r{num_repeat}_ce{ce_weight}_ac{accumulation_steps}\"\n",
    "checkpoint_dir = checkpoint_base_dir / folder_name\n",
    "optimizer = optim.AdamW(model.parameters(), lr=lr, weight_decay=1e-5)\n",
    "scheduler = torch.optim.lr_scheduler.ReduceLROnPlateau(optimizer, patience=5, factor=0.5)\n",
    "# 체크포인트 디렉토리 생성\n",
    "checkpoint_dir.mkdir(parents=True, exist_ok=True)\n",
    "\n",
    "if checkpoint_dir.exists():\n",
    "    best_model_path = checkpoint_dir / 'best_model.pt'\n",
    "    if best_model_path.exists():\n",
    "        print(f\"기존 best model 발견: {best_model_path}\")\n",
    "        try:\n",
    "            checkpoint = torch.load(best_model_path, map_location=device)\n",
    "            # 체크포인트 내부 키 검증\n",
    "            required_keys = ['model_state_dict', 'optimizer_state_dict', 'epoch', 'best_val_loss']\n",
    "            if all(k in checkpoint for k in required_keys):\n",
    "                model.load_state_dict(checkpoint['model_state_dict'])\n",
    "                optimizer.load_state_dict(checkpoint['optimizer_state_dict'])\n",
    "                start_epoch = checkpoint['epoch']\n",
    "                best_val_loss = checkpoint['best_val_loss']\n",
    "                print(\"기존 학습된 가중치를 성공적으로 로드했습니다.\")\n",
    "                checkpoint= None\n",
    "            else:\n",
    "                raise ValueError(\"체크포인트 파일에 필요한 key가 없습니다.\")\n",
    "        except Exception as e:\n",
    "            print(f\"체크포인트 파일을 로드하는 중 오류 발생: {e}\")"
   ]
  },
  {
   "cell_type": "code",
   "execution_count": 7,
   "metadata": {},
   "outputs": [
    {
     "name": "stdout",
     "output_type": "stream",
     "text": [
      "torch.Size([64, 1, 32, 96, 96]) torch.Size([64, 1, 32, 96, 96])\n"
     ]
    }
   ],
   "source": [
    "batch = next(iter(val_loader))\n",
    "images, labels = batch[\"image\"], batch[\"label\"]\n",
    "print(images.shape, labels.shape)"
   ]
  },
  {
   "cell_type": "code",
   "execution_count": 8,
   "metadata": {},
   "outputs": [],
   "source": [
    "torch.backends.cudnn.benchmark = True"
   ]
  },
  {
   "cell_type": "code",
   "execution_count": 9,
   "metadata": {},
   "outputs": [
    {
     "name": "stderr",
     "output_type": "stream",
     "text": [
      "\u001b[34m\u001b[1mwandb\u001b[0m: Using wandb-core as the SDK backend.  Please refer to https://wandb.me/wandb-core for more information.\n",
      "\u001b[34m\u001b[1mwandb\u001b[0m: Currently logged in as: \u001b[33mpook0612\u001b[0m (\u001b[33mlimbw\u001b[0m). Use \u001b[1m`wandb login --relogin`\u001b[0m to force relogin\n"
     ]
    },
    {
     "data": {
      "text/html": [
       "Tracking run with wandb version 0.19.1"
      ],
      "text/plain": [
       "<IPython.core.display.HTML object>"
      ]
     },
     "metadata": {},
     "output_type": "display_data"
    },
    {
     "data": {
      "text/html": [
       "Run data is saved locally in <code>c:\\Workspace\\czll\\wandb\\run-20250127_192055-7zsn0hud</code>"
      ],
      "text/plain": [
       "<IPython.core.display.HTML object>"
      ]
     },
     "metadata": {},
     "output_type": "display_data"
    },
    {
     "data": {
      "text/html": [
       "Syncing run <strong><a href='https://wandb.ai/limbw/czii_UNet/runs/7zsn0hud' target=\"_blank\">CBAMbw_deno_iso_noclswt__f(32, 64, 128, 256)_d32_s96_dropr0.2_lr1e-03_a0.52_b64_r10_ce0.8_ac1</a></strong> to <a href='https://wandb.ai/limbw/czii_UNet' target=\"_blank\">Weights & Biases</a> (<a href='https://wandb.me/developer-guide' target=\"_blank\">docs</a>)<br>"
      ],
      "text/plain": [
       "<IPython.core.display.HTML object>"
      ]
     },
     "metadata": {},
     "output_type": "display_data"
    },
    {
     "data": {
      "text/html": [
       " View project at <a href='https://wandb.ai/limbw/czii_UNet' target=\"_blank\">https://wandb.ai/limbw/czii_UNet</a>"
      ],
      "text/plain": [
       "<IPython.core.display.HTML object>"
      ]
     },
     "metadata": {},
     "output_type": "display_data"
    },
    {
     "data": {
      "text/html": [
       " View run at <a href='https://wandb.ai/limbw/czii_UNet/runs/7zsn0hud' target=\"_blank\">https://wandb.ai/limbw/czii_UNet/runs/7zsn0hud</a>"
      ],
      "text/plain": [
       "<IPython.core.display.HTML object>"
      ]
     },
     "metadata": {},
     "output_type": "display_data"
    }
   ],
   "source": [
    "import wandb\n",
    "from datetime import datetime\n",
    "\n",
    "current_time = datetime.now().strftime('%Y%m%d_%H%M%S')\n",
    "run_name = folder_name\n",
    "\n",
    "# wandb 초기화\n",
    "wandb.init(\n",
    "    project='czii_UNet',  # 프로젝트 이름 설정\n",
    "    name=run_name,         # 실행(run) 이름 설정\n",
    "    config={\n",
    "        'num_epochs': num_epochs,\n",
    "        'learning_rate': lr,\n",
    "        'batch_size': batch_size,\n",
    "        'lambda': lamda,\n",
    "        \"cross_entropy_weight\": ce_weight,\n",
    "        'feature_size': feature_size,\n",
    "        'img_size': img_size,\n",
    "        'sampling_ratio': ratios_list,\n",
    "        'device': device.type,\n",
    "        \"checkpoint_dir\": str(checkpoint_dir),\n",
    "        \"class_weights\": class_weights.tolist() if class_weights is not None else None,\n",
    "        \"use_checkpoint\": use_checkpoint,\n",
    "        \"drop_rate\": drop_rate,\n",
    "        # \"attn_drop_rate\": attn_drop_rate,\n",
    "        # \"use_v2\": use_v2,\n",
    "        \"accumulation_steps\": accumulation_steps,\n",
    "        \"num_repeat\": num_repeat,\n",
    "        # \"num_bottleneck\": num_bottleneck,\n",
    "        \n",
    "        # 필요한 하이퍼파라미터 추가\n",
    "    }\n",
    ")\n",
    "# 모델을 wandb에 연결\n",
    "wandb.watch(model, log='all')"
   ]
  },
  {
   "cell_type": "markdown",
   "metadata": {},
   "source": [
    "# 학습"
   ]
  },
  {
   "cell_type": "code",
   "execution_count": 10,
   "metadata": {},
   "outputs": [],
   "source": [
    "from monai.metrics import DiceMetric\n",
    "    \n",
    "def processing(batch_data, model, criterion, device):\n",
    "    images = batch_data['image'].to(device)  # Input 이미지 (B, 1, 96, 96, 96)\n",
    "    labels = batch_data['label'].to(device)  # 라벨 (B, 96, 96, 96)\n",
    "\n",
    "    labels = labels.squeeze(1)  # (B, 1, 96, 96, 96) → (B, 96, 96, 96)\n",
    "    labels = labels.long()  # 라벨을 정수형으로 변환\n",
    "\n",
    "    # 원핫 인코딩 (B, H, W, D) → (B, num_classes, H, W, D)\n",
    "    \n",
    "    labels_onehot = torch.nn.functional.one_hot(labels, num_classes=n_classes)\n",
    "    labels_onehot = labels_onehot.permute(0, 4, 1, 2, 3).float()  # (B, num_classes, H, W, D)\n",
    "\n",
    "    # 모델 예측\n",
    "    outputs = model(images)  # outputs: (B, num_classes, H, W, D)\n",
    "\n",
    "    # Loss 계산\n",
    "    loss = criterion(outputs, labels_onehot)\n",
    "    # loss = loss_fn(criterion(outputs, labels_onehot),class_weights=class_weights, device=device)\n",
    "    return loss, outputs, labels, outputs.argmax(dim=1)\n",
    "\n",
    "def train_one_epoch(model, train_loader, criterion, optimizer, device, epoch, accumulation_steps=4):\n",
    "    model.train()\n",
    "    epoch_loss = 0\n",
    "    optimizer.zero_grad()  # 그래디언트 초기화\n",
    "    with tqdm(train_loader, desc='Training') as pbar:\n",
    "        for i, batch_data in enumerate(pbar):\n",
    "            # 손실 계산\n",
    "            loss, _, _, _ = processing(batch_data, model, criterion, device)\n",
    "\n",
    "            # 그래디언트를 계산하고 누적\n",
    "            loss = loss / accumulation_steps  # 그래디언트 누적을 위한 스케일링\n",
    "            loss.backward()  # 그래디언트 계산 및 누적\n",
    "            \n",
    "            # 그래디언트 업데이트 (accumulation_steps마다 한 번)\n",
    "            if (i + 1) % accumulation_steps == 0 or (i + 1) == len(train_loader):\n",
    "                optimizer.step()  # 파라미터 업데이트\n",
    "                optimizer.zero_grad()  # 누적된 그래디언트 초기화\n",
    "            \n",
    "            # 손실값 누적 (스케일링 복구)\n",
    "            epoch_loss += loss.item() * accumulation_steps  # 실제 손실값 반영\n",
    "            pbar.set_postfix(loss=loss.item() * accumulation_steps)  # 실제 손실값 출력\n",
    "    avg_loss = epoch_loss / len(train_loader)\n",
    "    wandb.log({'train_epoch_loss': avg_loss, 'epoch': epoch + 1})\n",
    "    return avg_loss\n",
    "\n",
    "\n",
    "def validate_one_epoch(model, val_loader, criterion, device, epoch, calculate_dice_interval, ce_weight):\n",
    "    model.eval()\n",
    "    val_loss = 0\n",
    "    \n",
    "    class_dice_scores = {i: [] for i in range(n_classes)}\n",
    "    class_f_beta_scores = {i: [] for i in range(n_classes)}\n",
    "    class_mIoU_scores = {i: [] for i in range(n_classes)}\n",
    "    with torch.no_grad():\n",
    "        with tqdm(val_loader, desc='Validation') as pbar:\n",
    "            for batch_data in pbar:\n",
    "                loss, _, labels, preds = processing(batch_data, model, criterion, device)\n",
    "                val_loss += loss.item()\n",
    "                pbar.set_postfix(loss=loss.item())\n",
    "\n",
    "                # 각 클래스별 Dice 점수 계산\n",
    "                if epoch % calculate_dice_interval == 0:\n",
    "                    for i in range(n_classes):\n",
    "                        pred_i = (preds == i)\n",
    "                        label_i = (labels == i)\n",
    "                        dice_score = (2.0 * torch.sum(pred_i & label_i)) / (torch.sum(pred_i) + torch.sum(label_i) + 1e-8)\n",
    "                        class_dice_scores[i].append(dice_score.item())\n",
    "                        precision = (torch.sum(pred_i & label_i) + 1e-8) / (torch.sum(pred_i) + 1e-8)\n",
    "                        recall = (torch.sum(pred_i & label_i) + 1e-8) / (torch.sum(label_i) + 1e-8)\n",
    "                        f_beta_score = (1 + 4**2) * (precision * recall) / (4**2 * precision + recall + 1e-8)\n",
    "                        class_f_beta_scores[i].append(f_beta_score.item())\n",
    "                        intersection = torch.sum(pred_i & label_i).float()\n",
    "                        union = torch.sum(pred_i | label_i).float()\n",
    "                        iou = (intersection + 1e-8) / (union + 1e-8)\n",
    "                        class_mIoU_scores[i].append(iou.item())\n",
    "\n",
    "    avg_loss = val_loss / len(val_loader)\n",
    "    # 에포크별 평균 손실 로깅\n",
    "    wandb.log({'val_epoch_loss': avg_loss, 'epoch': epoch + 1})\n",
    "    \n",
    "    # 각 클래스별 평균 Dice 점수 출력\n",
    "    if epoch % calculate_dice_interval == 0:\n",
    "        print(\"Validation Dice Score\")\n",
    "        all_classes_dice_scores = []\n",
    "        for i in range(n_classes):\n",
    "            mean_dice = np.mean(class_dice_scores[i])\n",
    "            wandb.log({f'class_{i}_dice_score': mean_dice, 'epoch': epoch + 1})\n",
    "            print(f\"Class {i}: {mean_dice:.4f}\", end=\", \")\n",
    "            if i not in [0, 2]:  # 평균에 포함할 클래스만 추가\n",
    "                all_classes_dice_scores.append(mean_dice)\n",
    "            \n",
    "        print()\n",
    "    if epoch % calculate_dice_interval == 0:\n",
    "        print(\"Validation F-beta Score\")\n",
    "        all_classes_fbeta_scores = []\n",
    "        for i in range(n_classes):\n",
    "            mean_fbeta = np.mean(class_f_beta_scores[i])\n",
    "            wandb.log({f'class_{i}_f_beta_score': mean_fbeta, 'epoch': epoch + 1})\n",
    "            print(f\"Class {i}: {mean_fbeta:.4f}\", end=\", \")\n",
    "            if i not in [0, 2]:  # 평균에 포함할 클래스만 추가\n",
    "                all_classes_fbeta_scores.append(mean_fbeta)\n",
    "               \n",
    "        print() \n",
    "    if epoch % calculate_dice_interval == 0:\n",
    "        print(\"Validation mIoU Score\")\n",
    "        all_classes_mIoU_scores = []\n",
    "        for i in range(n_classes):\n",
    "            mean_IoU = np.mean(class_mIoU_scores[i])\n",
    "            wandb.log({f'class_{i}_IoU_score': mean_fbeta, 'epoch': epoch + 1})\n",
    "            print(f\"Class {i}: {mean_IoU:.4f}\", end=\", \")\n",
    "            if i not in [0, 2]:  # 평균에 포함할 클래스만 추가\n",
    "                all_classes_mIoU_scores.append(mean_IoU)\n",
    "                \n",
    "        print()\n",
    "        overall_mean_dice = np.mean(all_classes_dice_scores)\n",
    "        overall_mean_fbeta = np.mean(all_classes_fbeta_scores)\n",
    "        overall_mean_IoU = np.mean(all_classes_mIoU_scores)\n",
    "        final_score = overall_mean_fbeta * (1 - ce_weight) + overall_mean_IoU * ce_weight\n",
    "        wandb.log({'overall_mean_f_beta_score': overall_mean_fbeta, 'overall_mean_dice_score': overall_mean_dice, 'epoch': epoch + 1, 'overall_mean_IoU_score': overall_mean_IoU, 'final_score': final_score})  \n",
    "        print(f\"\\nOverall Mean Dice Score: {overall_mean_dice:.4f}\\nOverall Mean F-beta Score: {overall_mean_fbeta:.4f}\\nOverall Mean IoU Score: {overall_mean_IoU:.4f}\\nFinal_score: {final_score:.4f}\")\n",
    "\n",
    "    if overall_mean_fbeta is None:\n",
    "        overall_mean_fbeta = 0\n",
    "\n",
    "    \n",
    "    \n",
    "    return val_loss / len(val_loader), final_score \n",
    "\n",
    "def train_model(\n",
    "    model, train_loader, val_loader, criterion, optimizer, num_epochs, patience, \n",
    "    device, start_epoch, best_val_loss, best_val_fbeta_score, calculate_dice_interval=1,\n",
    "    accumulation_steps=4, pretrained=False\n",
    "):\n",
    "    \"\"\"\n",
    "    모델을 학습하고 검증하는 함수\n",
    "    Args:\n",
    "        model: 학습할 모델\n",
    "        train_loader: 학습 데이터 로더\n",
    "        val_loader: 검증 데이터 로더\n",
    "        criterion: 손실 함수\n",
    "        optimizer: 최적화 알고리즘\n",
    "        num_epochs: 총 학습 epoch 수\n",
    "        patience: early stopping 기준\n",
    "        device: GPU/CPU 장치\n",
    "        start_epoch: 시작 epoch\n",
    "        best_val_loss: 이전 최적 validation loss\n",
    "        best_val_fbeta_score: 이전 최적 validation f-beta score\n",
    "        calculate_dice_interval: Dice 점수 계산 주기\n",
    "    \"\"\"\n",
    "    epochs_no_improve = 0\n",
    "\n",
    "    for epoch in range(start_epoch, num_epochs):\n",
    "        print(f\"Epoch {epoch + 1}/{num_epochs}\")\n",
    "\n",
    "        # Train One Epoch\n",
    "        train_loss = train_one_epoch(\n",
    "            model=model, \n",
    "            train_loader=train_loader, \n",
    "            criterion=criterion, \n",
    "            optimizer=optimizer, \n",
    "            device=device,\n",
    "            epoch=epoch,\n",
    "            accumulation_steps= accumulation_steps\n",
    "        )\n",
    "        \n",
    "        scheduler.step(train_loss)\n",
    "        # Validate One Epoch\n",
    "        val_loss, overall_mean_fbeta_score = validate_one_epoch(\n",
    "            model=model, \n",
    "            val_loader=val_loader, \n",
    "            criterion=criterion, \n",
    "            device=device, \n",
    "            epoch=epoch, \n",
    "            calculate_dice_interval=calculate_dice_interval,\n",
    "            ce_weight = ce_weight\n",
    "        )\n",
    "\n",
    "        \n",
    "        print(f\"Training Loss: {train_loss:.4f}, Validation Loss: {val_loss:.4f}, Validation hybrid_score: {overall_mean_fbeta_score:.4f}\")\n",
    "\n",
    "        if val_loss < best_val_loss and overall_mean_fbeta_score > best_val_fbeta_score:\n",
    "            best_val_loss = val_loss\n",
    "            best_val_fbeta_score = overall_mean_fbeta_score\n",
    "            epochs_no_improve = 0\n",
    "            if pretrained:\n",
    "                checkpoint_path = os.path.join(checkpoint_dir, 'best_model_pretrained.pt')\n",
    "            else:\n",
    "                checkpoint_path = os.path.join(checkpoint_dir, 'best_model.pt')\n",
    "            torch.save({\n",
    "                'epoch': epoch + 1,\n",
    "                'model_state_dict': model.state_dict(),\n",
    "                'optimizer_state_dict': optimizer.state_dict(),\n",
    "                'best_val_loss': best_val_loss,\n",
    "                'best_val_fbeta_score': best_val_fbeta_score\n",
    "            }, checkpoint_path)\n",
    "            print(f\"========================================================\")\n",
    "            print(f\"SUPER Best model saved. Loss:{best_val_loss:.4f}, Score:{best_val_fbeta_score:.4f}\")\n",
    "            print(f\"========================================================\")\n",
    "\n",
    "        # Early stopping 조건 체크\n",
    "        if val_loss >= best_val_loss and overall_mean_fbeta_score <= best_val_fbeta_score:\n",
    "            epochs_no_improve += 1\n",
    "        else:\n",
    "            epochs_no_improve = 0\n",
    "\n",
    "        if epochs_no_improve >= patience:\n",
    "            print(\"Early stopping\")\n",
    "            checkpoint_path = os.path.join(checkpoint_dir, 'last.pt')\n",
    "            torch.save({\n",
    "                'epoch': epoch + 1,\n",
    "                'model_state_dict': model.state_dict(),\n",
    "                'optimizer_state_dict': optimizer.state_dict(),\n",
    "                'best_val_loss': best_val_loss,\n",
    "                'best_val_fbeta_score': best_val_fbeta_score\n",
    "            }, checkpoint_path)\n",
    "            break\n",
    "        # if epochs_no_improve % 6 == 0 & epochs_no_improve != 0:\n",
    "        #     # 손실이 개선되지 않았으므로 lambda 감소\n",
    "        #     new_lamda = max(criterion.lamda - 0.01, 0.35)  # 최소값은 0.1로 설정\n",
    "        #     criterion.set_lamda(new_lamda)\n",
    "        #     print(f\"Validation loss did not improve. Reducing lambda to {new_lamda:.4f}\")\n",
    "\n",
    "    wandb.finish()\n"
   ]
  },
  {
   "cell_type": "code",
   "execution_count": 11,
   "metadata": {},
   "outputs": [
    {
     "name": "stdout",
     "output_type": "stream",
     "text": [
      "Epoch 1/4000\n"
     ]
    },
    {
     "name": "stderr",
     "output_type": "stream",
     "text": [
      "Training: 100%|██████████| 120/120 [03:38<00:00,  1.82s/it, loss=0.374]\n",
      "Validation: 100%|██████████| 20/20 [00:18<00:00,  1.11it/s, loss=0.373]\n"
     ]
    },
    {
     "name": "stdout",
     "output_type": "stream",
     "text": [
      "Validation Dice Score\n",
      "Class 0: 0.9821, Class 1: 0.0003, Class 2: 0.0000, Class 3: 0.0000, Class 4: 0.1382, Class 5: 0.0002, Class 6: 0.0003, \n",
      "Validation F-beta Score\n",
      "Class 0: 0.9970, Class 1: 0.0001, Class 2: 0.0000, Class 3: 0.0000, Class 4: 0.0867, Class 5: 0.0001, Class 6: 0.0002, \n",
      "Validation mIoU Score\n",
      "Class 0: 0.9648, Class 1: 0.0001, Class 2: 0.0000, Class 3: 0.0000, Class 4: 0.0754, Class 5: 0.0001, Class 6: 0.0002, \n",
      "\n",
      "Overall Mean Dice Score: 0.0278\n",
      "Overall Mean F-beta Score: 0.0174\n",
      "Overall Mean IoU Score: 0.0152\n",
      "Final_score: 0.0156\n",
      "Training Loss: 0.7243, Validation Loss: 0.3529, Validation hybrid_score: 0.0156\n",
      "========================================================\n",
      "SUPER Best model saved. Loss:0.3529, Score:0.0156\n",
      "========================================================\n",
      "Epoch 2/4000\n"
     ]
    },
    {
     "name": "stderr",
     "output_type": "stream",
     "text": [
      "Training: 100%|██████████| 120/120 [02:50<00:00,  1.42s/it, loss=0.302]\n",
      "Validation: 100%|██████████| 20/20 [00:17<00:00,  1.11it/s, loss=0.283]\n"
     ]
    },
    {
     "name": "stdout",
     "output_type": "stream",
     "text": [
      "Validation Dice Score\n",
      "Class 0: 0.9834, Class 1: 0.0000, Class 2: 0.0000, Class 3: 0.0000, Class 4: 0.2646, Class 5: 0.0003, Class 6: 0.0359, \n",
      "Validation F-beta Score\n",
      "Class 0: 0.9963, Class 1: 0.0000, Class 2: 0.0000, Class 3: 0.0000, Class 4: 0.1986, Class 5: 0.0001, Class 6: 0.0196, \n",
      "Validation mIoU Score\n",
      "Class 0: 0.9674, Class 1: 0.0000, Class 2: 0.0000, Class 3: 0.0000, Class 4: 0.1534, Class 5: 0.0001, Class 6: 0.0183, \n",
      "\n",
      "Overall Mean Dice Score: 0.0602\n",
      "Overall Mean F-beta Score: 0.0437\n",
      "Overall Mean IoU Score: 0.0344\n",
      "Final_score: 0.0362\n",
      "Training Loss: 0.2980, Validation Loss: 0.2841, Validation hybrid_score: 0.0362\n",
      "========================================================\n",
      "SUPER Best model saved. Loss:0.2841, Score:0.0362\n",
      "========================================================\n",
      "Epoch 3/4000\n"
     ]
    },
    {
     "name": "stderr",
     "output_type": "stream",
     "text": [
      "Training: 100%|██████████| 120/120 [02:50<00:00,  1.42s/it, loss=0.257]\n",
      "Validation: 100%|██████████| 20/20 [00:17<00:00,  1.13it/s, loss=0.28] \n"
     ]
    },
    {
     "name": "stdout",
     "output_type": "stream",
     "text": [
      "Validation Dice Score\n",
      "Class 0: 0.9839, Class 1: 0.0000, Class 2: 0.0000, Class 3: 0.0000, Class 4: 0.2520, Class 5: 0.0028, Class 6: 0.2905, \n",
      "Validation F-beta Score\n",
      "Class 0: 0.9965, Class 1: 0.0000, Class 2: 0.0000, Class 3: 0.0000, Class 4: 0.1881, Class 5: 0.0015, Class 6: 0.1863, \n",
      "Validation mIoU Score\n",
      "Class 0: 0.9684, Class 1: 0.0000, Class 2: 0.0000, Class 3: 0.0000, Class 4: 0.1449, Class 5: 0.0014, Class 6: 0.1701, \n",
      "\n",
      "Overall Mean Dice Score: 0.1091\n",
      "Overall Mean F-beta Score: 0.0752\n",
      "Overall Mean IoU Score: 0.0633\n",
      "Final_score: 0.0657\n",
      "Training Loss: 0.2668, Validation Loss: 0.2688, Validation hybrid_score: 0.0657\n",
      "========================================================\n",
      "SUPER Best model saved. Loss:0.2688, Score:0.0657\n",
      "========================================================\n",
      "Epoch 4/4000\n"
     ]
    },
    {
     "name": "stderr",
     "output_type": "stream",
     "text": [
      "Training: 100%|██████████| 120/120 [02:49<00:00,  1.42s/it, loss=0.248]\n",
      "Validation: 100%|██████████| 20/20 [00:17<00:00,  1.12it/s, loss=0.247]\n"
     ]
    },
    {
     "name": "stdout",
     "output_type": "stream",
     "text": [
      "Validation Dice Score\n",
      "Class 0: 0.9848, Class 1: 0.0000, Class 2: 0.0000, Class 3: 0.0309, Class 4: 0.3456, Class 5: 0.1117, Class 6: 0.6500, \n",
      "Validation F-beta Score\n",
      "Class 0: 0.9960, Class 1: 0.0000, Class 2: 0.0000, Class 3: 0.0177, Class 4: 0.2548, Class 5: 0.0688, Class 6: 0.5098, \n",
      "Validation mIoU Score\n",
      "Class 0: 0.9701, Class 1: 0.0000, Class 2: 0.0000, Class 3: 0.0157, Class 4: 0.2115, Class 5: 0.0594, Class 6: 0.4822, \n",
      "\n",
      "Overall Mean Dice Score: 0.2276\n",
      "Overall Mean F-beta Score: 0.1702\n",
      "Overall Mean IoU Score: 0.1538\n",
      "Final_score: 0.1570\n",
      "Training Loss: 0.2530, Validation Loss: 0.2507, Validation hybrid_score: 0.1570\n",
      "========================================================\n",
      "SUPER Best model saved. Loss:0.2507, Score:0.1570\n",
      "========================================================\n",
      "Epoch 5/4000\n"
     ]
    },
    {
     "name": "stderr",
     "output_type": "stream",
     "text": [
      "Training: 100%|██████████| 120/120 [02:49<00:00,  1.42s/it, loss=0.226]\n",
      "Validation: 100%|██████████| 20/20 [00:17<00:00,  1.13it/s, loss=0.227]\n"
     ]
    },
    {
     "name": "stdout",
     "output_type": "stream",
     "text": [
      "Validation Dice Score\n",
      "Class 0: 0.9857, Class 1: 0.0000, Class 2: 0.0000, Class 3: 0.1623, Class 4: 0.4554, Class 5: 0.2322, Class 6: 0.8137, \n",
      "Validation F-beta Score\n",
      "Class 0: 0.9941, Class 1: 0.0000, Class 2: 0.0000, Class 3: 0.1090, Class 4: 0.3505, Class 5: 0.1762, Class 6: 0.7490, \n",
      "Validation mIoU Score\n",
      "Class 0: 0.9719, Class 1: 0.0000, Class 2: 0.0000, Class 3: 0.0885, Class 4: 0.2985, Class 5: 0.1317, Class 6: 0.6863, \n",
      "\n",
      "Overall Mean Dice Score: 0.3327\n",
      "Overall Mean F-beta Score: 0.2770\n",
      "Overall Mean IoU Score: 0.2410\n",
      "Final_score: 0.2482\n",
      "Training Loss: 0.2370, Validation Loss: 0.2338, Validation hybrid_score: 0.2482\n",
      "========================================================\n",
      "SUPER Best model saved. Loss:0.2338, Score:0.2482\n",
      "========================================================\n",
      "Epoch 6/4000\n"
     ]
    },
    {
     "name": "stderr",
     "output_type": "stream",
     "text": [
      "Training: 100%|██████████| 120/120 [02:49<00:00,  1.42s/it, loss=0.225]\n",
      "Validation: 100%|██████████| 20/20 [00:17<00:00,  1.13it/s, loss=0.222]\n"
     ]
    },
    {
     "name": "stdout",
     "output_type": "stream",
     "text": [
      "Validation Dice Score\n",
      "Class 0: 0.9867, Class 1: 0.0036, Class 2: 0.0000, Class 3: 0.2701, Class 4: 0.5656, Class 5: 0.1708, Class 6: 0.8415, \n",
      "Validation F-beta Score\n",
      "Class 0: 0.9949, Class 1: 0.0020, Class 2: 0.0000, Class 3: 0.2558, Class 4: 0.4528, Class 5: 0.1082, Class 6: 0.8433, \n",
      "Validation mIoU Score\n",
      "Class 0: 0.9738, Class 1: 0.0018, Class 2: 0.0000, Class 3: 0.1573, Class 4: 0.3951, Class 5: 0.0936, Class 6: 0.7269, \n",
      "\n",
      "Overall Mean Dice Score: 0.3703\n",
      "Overall Mean F-beta Score: 0.3324\n",
      "Overall Mean IoU Score: 0.2750\n",
      "Final_score: 0.2864\n",
      "Training Loss: 0.2258, Validation Loss: 0.2241, Validation hybrid_score: 0.2864\n",
      "========================================================\n",
      "SUPER Best model saved. Loss:0.2241, Score:0.2864\n",
      "========================================================\n",
      "Epoch 7/4000\n"
     ]
    },
    {
     "name": "stderr",
     "output_type": "stream",
     "text": [
      "Training: 100%|██████████| 120/120 [02:49<00:00,  1.41s/it, loss=0.219]\n",
      "Validation: 100%|██████████| 20/20 [00:17<00:00,  1.14it/s, loss=0.223]\n"
     ]
    },
    {
     "name": "stdout",
     "output_type": "stream",
     "text": [
      "Validation Dice Score\n",
      "Class 0: 0.9867, Class 1: 0.0056, Class 2: 0.0000, Class 3: 0.3258, Class 4: 0.5876, Class 5: 0.3069, Class 6: 0.8563, \n",
      "Validation F-beta Score\n",
      "Class 0: 0.9933, Class 1: 0.0031, Class 2: 0.0000, Class 3: 0.2916, Class 4: 0.4784, Class 5: 0.2381, Class 6: 0.8502, \n",
      "Validation mIoU Score\n",
      "Class 0: 0.9737, Class 1: 0.0028, Class 2: 0.0000, Class 3: 0.1958, Class 4: 0.4174, Class 5: 0.1816, Class 6: 0.7493, \n",
      "\n",
      "Overall Mean Dice Score: 0.4165\n",
      "Overall Mean F-beta Score: 0.3723\n",
      "Overall Mean IoU Score: 0.3094\n",
      "Final_score: 0.3220\n",
      "Training Loss: 0.2174, Validation Loss: 0.2190, Validation hybrid_score: 0.3220\n",
      "========================================================\n",
      "SUPER Best model saved. Loss:0.2190, Score:0.3220\n",
      "========================================================\n",
      "Epoch 8/4000\n"
     ]
    },
    {
     "name": "stderr",
     "output_type": "stream",
     "text": [
      "Training: 100%|██████████| 120/120 [02:49<00:00,  1.41s/it, loss=0.206]\n",
      "Validation: 100%|██████████| 20/20 [00:17<00:00,  1.14it/s, loss=0.212]\n"
     ]
    },
    {
     "name": "stdout",
     "output_type": "stream",
     "text": [
      "Validation Dice Score\n",
      "Class 0: 0.9872, Class 1: 0.0819, Class 2: 0.0000, Class 3: 0.3464, Class 4: 0.6384, Class 5: 0.2450, Class 6: 0.8642, \n",
      "Validation F-beta Score\n",
      "Class 0: 0.9934, Class 1: 0.0488, Class 2: 0.0000, Class 3: 0.3219, Class 4: 0.5646, Class 5: 0.1614, Class 6: 0.9057, \n",
      "Validation mIoU Score\n",
      "Class 0: 0.9746, Class 1: 0.0428, Class 2: 0.0000, Class 3: 0.2100, Class 4: 0.4699, Class 5: 0.1400, Class 6: 0.7617, \n",
      "\n",
      "Overall Mean Dice Score: 0.4352\n",
      "Overall Mean F-beta Score: 0.4005\n",
      "Overall Mean IoU Score: 0.3249\n",
      "Final_score: 0.3400\n",
      "Training Loss: 0.2128, Validation Loss: 0.2142, Validation hybrid_score: 0.3400\n",
      "========================================================\n",
      "SUPER Best model saved. Loss:0.2142, Score:0.3400\n",
      "========================================================\n",
      "Epoch 9/4000\n"
     ]
    },
    {
     "name": "stderr",
     "output_type": "stream",
     "text": [
      "Training: 100%|██████████| 120/120 [02:49<00:00,  1.41s/it, loss=0.199]\n",
      "Validation: 100%|██████████| 20/20 [00:17<00:00,  1.14it/s, loss=0.204]\n"
     ]
    },
    {
     "name": "stdout",
     "output_type": "stream",
     "text": [
      "Validation Dice Score\n",
      "Class 0: 0.9876, Class 1: 0.2450, Class 2: 0.0000, Class 3: 0.4018, Class 4: 0.6494, Class 5: 0.3173, Class 6: 0.8887, \n",
      "Validation F-beta Score\n",
      "Class 0: 0.9933, Class 1: 0.1683, Class 2: 0.0000, Class 3: 0.4033, Class 4: 0.5656, Class 5: 0.2318, Class 6: 0.8995, \n",
      "Validation mIoU Score\n",
      "Class 0: 0.9755, Class 1: 0.1403, Class 2: 0.0000, Class 3: 0.2523, Class 4: 0.4824, Class 5: 0.1894, Class 6: 0.8000, \n",
      "\n",
      "Overall Mean Dice Score: 0.5004\n",
      "Overall Mean F-beta Score: 0.4537\n",
      "Overall Mean IoU Score: 0.3729\n",
      "Final_score: 0.3890\n",
      "Training Loss: 0.2070, Validation Loss: 0.2080, Validation hybrid_score: 0.3890\n",
      "========================================================\n",
      "SUPER Best model saved. Loss:0.2080, Score:0.3890\n",
      "========================================================\n",
      "Epoch 10/4000\n"
     ]
    },
    {
     "name": "stderr",
     "output_type": "stream",
     "text": [
      "Training: 100%|██████████| 120/120 [02:50<00:00,  1.42s/it, loss=0.211]\n",
      "Validation: 100%|██████████| 20/20 [00:17<00:00,  1.14it/s, loss=0.203]\n"
     ]
    },
    {
     "name": "stdout",
     "output_type": "stream",
     "text": [
      "Validation Dice Score\n",
      "Class 0: 0.9881, Class 1: 0.4552, Class 2: 0.0004, Class 3: 0.4400, Class 4: 0.6856, Class 5: 0.4017, Class 6: 0.8891, \n",
      "Validation F-beta Score\n",
      "Class 0: 0.9916, Class 1: 0.3963, Class 2: 0.0002, Class 3: 0.4076, Class 4: 0.6287, Class 5: 0.3407, Class 6: 0.9067, \n",
      "Validation mIoU Score\n",
      "Class 0: 0.9765, Class 1: 0.2957, Class 2: 0.0002, Class 3: 0.2831, Class 4: 0.5225, Class 5: 0.2527, Class 6: 0.8005, \n",
      "\n",
      "Overall Mean Dice Score: 0.5743\n",
      "Overall Mean F-beta Score: 0.5360\n",
      "Overall Mean IoU Score: 0.4309\n",
      "Final_score: 0.4519\n",
      "Training Loss: 0.2040, Validation Loss: 0.2007, Validation hybrid_score: 0.4519\n",
      "========================================================\n",
      "SUPER Best model saved. Loss:0.2007, Score:0.4519\n",
      "========================================================\n",
      "Epoch 11/4000\n"
     ]
    },
    {
     "name": "stderr",
     "output_type": "stream",
     "text": [
      "Training: 100%|██████████| 120/120 [02:50<00:00,  1.42s/it, loss=0.221]\n",
      "Validation: 100%|██████████| 20/20 [00:17<00:00,  1.14it/s, loss=0.202]\n"
     ]
    },
    {
     "name": "stdout",
     "output_type": "stream",
     "text": [
      "Validation Dice Score\n",
      "Class 0: 0.9872, Class 1: 0.5451, Class 2: 0.0001, Class 3: 0.4126, Class 4: 0.6625, Class 5: 0.3883, Class 6: 0.8936, \n",
      "Validation F-beta Score\n",
      "Class 0: 0.9929, Class 1: 0.5021, Class 2: 0.0001, Class 3: 0.3920, Class 4: 0.5796, Class 5: 0.2950, Class 6: 0.8996, \n",
      "Validation mIoU Score\n",
      "Class 0: 0.9746, Class 1: 0.3758, Class 2: 0.0001, Class 3: 0.2615, Class 4: 0.4966, Class 5: 0.2419, Class 6: 0.8080, \n",
      "\n",
      "Overall Mean Dice Score: 0.5804\n",
      "Overall Mean F-beta Score: 0.5337\n",
      "Overall Mean IoU Score: 0.4368\n",
      "Final_score: 0.4562\n",
      "Training Loss: 0.2003, Validation Loss: 0.2036, Validation hybrid_score: 0.4562\n",
      "Epoch 12/4000\n"
     ]
    },
    {
     "name": "stderr",
     "output_type": "stream",
     "text": [
      "Training: 100%|██████████| 120/120 [02:48<00:00,  1.40s/it, loss=0.196]\n",
      "Validation: 100%|██████████| 20/20 [00:19<00:00,  1.02it/s, loss=0.19] \n"
     ]
    },
    {
     "name": "stdout",
     "output_type": "stream",
     "text": [
      "Validation Dice Score\n",
      "Class 0: 0.9885, Class 1: 0.6238, Class 2: 0.0012, Class 3: 0.4525, Class 4: 0.6862, Class 5: 0.4045, Class 6: 0.8965, \n",
      "Validation F-beta Score\n",
      "Class 0: 0.9930, Class 1: 0.6541, Class 2: 0.0006, Class 3: 0.4064, Class 4: 0.6114, Class 5: 0.3188, Class 6: 0.9229, \n",
      "Validation mIoU Score\n",
      "Class 0: 0.9773, Class 1: 0.4540, Class 2: 0.0006, Class 3: 0.2939, Class 4: 0.5230, Class 5: 0.2544, Class 6: 0.8128, \n",
      "\n",
      "Overall Mean Dice Score: 0.6127\n",
      "Overall Mean F-beta Score: 0.5827\n",
      "Overall Mean IoU Score: 0.4676\n",
      "Final_score: 0.4906\n",
      "Training Loss: 0.1965, Validation Loss: 0.1950, Validation hybrid_score: 0.4906\n",
      "========================================================\n",
      "SUPER Best model saved. Loss:0.1950, Score:0.4906\n",
      "========================================================\n",
      "Epoch 13/4000\n"
     ]
    },
    {
     "name": "stderr",
     "output_type": "stream",
     "text": [
      "Training: 100%|██████████| 120/120 [02:47<00:00,  1.40s/it, loss=0.205]\n",
      "Validation: 100%|██████████| 20/20 [00:19<00:00,  1.03it/s, loss=0.192]\n"
     ]
    },
    {
     "name": "stdout",
     "output_type": "stream",
     "text": [
      "Validation Dice Score\n",
      "Class 0: 0.9881, Class 1: 0.6897, Class 2: 0.0003, Class 3: 0.4545, Class 4: 0.6750, Class 5: 0.4314, Class 6: 0.9069, \n",
      "Validation F-beta Score\n",
      "Class 0: 0.9927, Class 1: 0.6702, Class 2: 0.0002, Class 3: 0.4071, Class 4: 0.5853, Class 5: 0.3680, Class 6: 0.8921, \n",
      "Validation mIoU Score\n",
      "Class 0: 0.9765, Class 1: 0.5268, Class 2: 0.0002, Class 3: 0.2950, Class 4: 0.5103, Class 5: 0.2761, Class 6: 0.8298, \n",
      "\n",
      "Overall Mean Dice Score: 0.6315\n",
      "Overall Mean F-beta Score: 0.5845\n",
      "Overall Mean IoU Score: 0.4876\n",
      "Final_score: 0.5070\n",
      "Training Loss: 0.1935, Validation Loss: 0.1948, Validation hybrid_score: 0.5070\n",
      "========================================================\n",
      "SUPER Best model saved. Loss:0.1948, Score:0.5070\n",
      "========================================================\n",
      "Epoch 14/4000\n"
     ]
    },
    {
     "name": "stderr",
     "output_type": "stream",
     "text": [
      "Training: 100%|██████████| 120/120 [02:48<00:00,  1.40s/it, loss=0.194]\n",
      "Validation: 100%|██████████| 20/20 [00:19<00:00,  1.05it/s, loss=0.195]\n"
     ]
    },
    {
     "name": "stdout",
     "output_type": "stream",
     "text": [
      "Validation Dice Score\n",
      "Class 0: 0.9889, Class 1: 0.6991, Class 2: 0.0002, Class 3: 0.4471, Class 4: 0.6678, Class 5: 0.4224, Class 6: 0.9011, \n",
      "Validation F-beta Score\n",
      "Class 0: 0.9934, Class 1: 0.6998, Class 2: 0.0001, Class 3: 0.5215, Class 4: 0.5726, Class 5: 0.3339, Class 6: 0.8964, \n",
      "Validation mIoU Score\n",
      "Class 0: 0.9781, Class 1: 0.5383, Class 2: 0.0001, Class 3: 0.2888, Class 4: 0.5021, Class 5: 0.2682, Class 6: 0.8202, \n",
      "\n",
      "Overall Mean Dice Score: 0.6275\n",
      "Overall Mean F-beta Score: 0.6048\n",
      "Overall Mean IoU Score: 0.4835\n",
      "Final_score: 0.5078\n",
      "Training Loss: 0.1920, Validation Loss: 0.1932, Validation hybrid_score: 0.5078\n",
      "========================================================\n",
      "SUPER Best model saved. Loss:0.1932, Score:0.5078\n",
      "========================================================\n",
      "Epoch 15/4000\n"
     ]
    },
    {
     "name": "stderr",
     "output_type": "stream",
     "text": [
      "Training: 100%|██████████| 120/120 [02:48<00:00,  1.41s/it, loss=0.201]\n",
      "Validation: 100%|██████████| 20/20 [00:17<00:00,  1.13it/s, loss=0.192]\n"
     ]
    },
    {
     "name": "stdout",
     "output_type": "stream",
     "text": [
      "Validation Dice Score\n",
      "Class 0: 0.9885, Class 1: 0.7174, Class 2: 0.0040, Class 3: 0.4908, Class 4: 0.7021, Class 5: 0.4556, Class 6: 0.9011, \n",
      "Validation F-beta Score\n",
      "Class 0: 0.9917, Class 1: 0.7376, Class 2: 0.0021, Class 3: 0.5012, Class 4: 0.6444, Class 5: 0.3897, Class 6: 0.9100, \n",
      "Validation mIoU Score\n",
      "Class 0: 0.9772, Class 1: 0.5610, Class 2: 0.0020, Class 3: 0.3260, Class 4: 0.5418, Class 5: 0.2957, Class 6: 0.8202, \n",
      "\n",
      "Overall Mean Dice Score: 0.6534\n",
      "Overall Mean F-beta Score: 0.6366\n",
      "Overall Mean IoU Score: 0.5089\n",
      "Final_score: 0.5345\n",
      "Training Loss: 0.1899, Validation Loss: 0.1921, Validation hybrid_score: 0.5345\n",
      "========================================================\n",
      "SUPER Best model saved. Loss:0.1921, Score:0.5345\n",
      "========================================================\n",
      "Epoch 16/4000\n"
     ]
    },
    {
     "name": "stderr",
     "output_type": "stream",
     "text": [
      "Training: 100%|██████████| 120/120 [02:50<00:00,  1.42s/it, loss=0.191]\n",
      "Validation: 100%|██████████| 20/20 [00:17<00:00,  1.12it/s, loss=0.194]\n"
     ]
    },
    {
     "name": "stdout",
     "output_type": "stream",
     "text": [
      "Validation Dice Score\n",
      "Class 0: 0.9888, Class 1: 0.7223, Class 2: 0.0035, Class 3: 0.4694, Class 4: 0.6938, Class 5: 0.4468, Class 6: 0.9053, \n",
      "Validation F-beta Score\n",
      "Class 0: 0.9932, Class 1: 0.7706, Class 2: 0.0019, Class 3: 0.4815, Class 4: 0.6133, Class 5: 0.3586, Class 6: 0.9070, \n",
      "Validation mIoU Score\n",
      "Class 0: 0.9778, Class 1: 0.5662, Class 2: 0.0017, Class 3: 0.3083, Class 4: 0.5323, Class 5: 0.2887, Class 6: 0.8272, \n",
      "\n",
      "Overall Mean Dice Score: 0.6475\n",
      "Overall Mean F-beta Score: 0.6262\n",
      "Overall Mean IoU Score: 0.5045\n",
      "Final_score: 0.5289\n",
      "Training Loss: 0.1896, Validation Loss: 0.1903, Validation hybrid_score: 0.5289\n",
      "Epoch 17/4000\n"
     ]
    },
    {
     "name": "stderr",
     "output_type": "stream",
     "text": [
      "Training: 100%|██████████| 120/120 [02:50<00:00,  1.42s/it, loss=0.193]\n",
      "Validation: 100%|██████████| 20/20 [00:17<00:00,  1.14it/s, loss=0.192]\n"
     ]
    },
    {
     "name": "stdout",
     "output_type": "stream",
     "text": [
      "Validation Dice Score\n",
      "Class 0: 0.9884, Class 1: 0.7522, Class 2: 0.0067, Class 3: 0.4774, Class 4: 0.6909, Class 5: 0.4463, Class 6: 0.9004, \n",
      "Validation F-beta Score\n",
      "Class 0: 0.9929, Class 1: 0.8000, Class 2: 0.0036, Class 3: 0.5122, Class 4: 0.6006, Class 5: 0.3622, Class 6: 0.9236, \n",
      "Validation mIoU Score\n",
      "Class 0: 0.9771, Class 1: 0.6039, Class 2: 0.0034, Class 3: 0.3150, Class 4: 0.5287, Class 5: 0.2882, Class 6: 0.8192, \n",
      "\n",
      "Overall Mean Dice Score: 0.6534\n",
      "Overall Mean F-beta Score: 0.6397\n",
      "Overall Mean IoU Score: 0.5110\n",
      "Final_score: 0.5367\n",
      "Training Loss: 0.1871, Validation Loss: 0.1910, Validation hybrid_score: 0.5367\n",
      "========================================================\n",
      "SUPER Best model saved. Loss:0.1910, Score:0.5367\n",
      "========================================================\n",
      "Epoch 18/4000\n"
     ]
    },
    {
     "name": "stderr",
     "output_type": "stream",
     "text": [
      "Training: 100%|██████████| 120/120 [02:49<00:00,  1.42s/it, loss=0.185]\n",
      "Validation: 100%|██████████| 20/20 [00:17<00:00,  1.14it/s, loss=0.192]\n"
     ]
    },
    {
     "name": "stdout",
     "output_type": "stream",
     "text": [
      "Validation Dice Score\n",
      "Class 0: 0.9890, Class 1: 0.7524, Class 2: 0.0054, Class 3: 0.4717, Class 4: 0.6918, Class 5: 0.4509, Class 6: 0.9068, \n",
      "Validation F-beta Score\n",
      "Class 0: 0.9933, Class 1: 0.8066, Class 2: 0.0029, Class 3: 0.4386, Class 4: 0.6013, Class 5: 0.3780, Class 6: 0.8963, \n",
      "Validation mIoU Score\n",
      "Class 0: 0.9781, Class 1: 0.6043, Class 2: 0.0027, Class 3: 0.3102, Class 4: 0.5302, Class 5: 0.2916, Class 6: 0.8295, \n",
      "\n",
      "Overall Mean Dice Score: 0.6547\n",
      "Overall Mean F-beta Score: 0.6242\n",
      "Overall Mean IoU Score: 0.5132\n",
      "Final_score: 0.5354\n",
      "Training Loss: 0.1873, Validation Loss: 0.1886, Validation hybrid_score: 0.5354\n",
      "Epoch 19/4000\n"
     ]
    },
    {
     "name": "stderr",
     "output_type": "stream",
     "text": [
      "Training: 100%|██████████| 120/120 [02:49<00:00,  1.41s/it, loss=0.197]\n",
      "Validation: 100%|██████████| 20/20 [00:17<00:00,  1.13it/s, loss=0.187]\n"
     ]
    },
    {
     "name": "stdout",
     "output_type": "stream",
     "text": [
      "Validation Dice Score\n",
      "Class 0: 0.9892, Class 1: 0.7596, Class 2: 0.0197, Class 3: 0.4907, Class 4: 0.7160, Class 5: 0.4469, Class 6: 0.9072, \n",
      "Validation F-beta Score\n",
      "Class 0: 0.9925, Class 1: 0.8083, Class 2: 0.0109, Class 3: 0.5221, Class 4: 0.6602, Class 5: 0.3647, Class 6: 0.9067, \n",
      "Validation mIoU Score\n",
      "Class 0: 0.9786, Class 1: 0.6137, Class 2: 0.0100, Class 3: 0.3261, Class 4: 0.5585, Class 5: 0.2896, Class 6: 0.8303, \n",
      "\n",
      "Overall Mean Dice Score: 0.6641\n",
      "Overall Mean F-beta Score: 0.6524\n",
      "Overall Mean IoU Score: 0.5236\n",
      "Final_score: 0.5494\n",
      "Training Loss: 0.1858, Validation Loss: 0.1873, Validation hybrid_score: 0.5494\n",
      "========================================================\n",
      "SUPER Best model saved. Loss:0.1873, Score:0.5494\n",
      "========================================================\n",
      "Epoch 20/4000\n"
     ]
    },
    {
     "name": "stderr",
     "output_type": "stream",
     "text": [
      "Training: 100%|██████████| 120/120 [02:50<00:00,  1.42s/it, loss=0.189]\n",
      "Validation: 100%|██████████| 20/20 [00:17<00:00,  1.13it/s, loss=0.179]\n"
     ]
    },
    {
     "name": "stdout",
     "output_type": "stream",
     "text": [
      "Validation Dice Score\n",
      "Class 0: 0.9890, Class 1: 0.7609, Class 2: 0.0306, Class 3: 0.4386, Class 4: 0.7107, Class 5: 0.4174, Class 6: 0.9107, \n",
      "Validation F-beta Score\n",
      "Class 0: 0.9927, Class 1: 0.8411, Class 2: 0.0178, Class 3: 0.4921, Class 4: 0.6425, Class 5: 0.3325, Class 6: 0.9136, \n",
      "Validation mIoU Score\n",
      "Class 0: 0.9782, Class 1: 0.6149, Class 2: 0.0156, Class 3: 0.2813, Class 4: 0.5523, Class 5: 0.2654, Class 6: 0.8363, \n",
      "\n",
      "Overall Mean Dice Score: 0.6476\n",
      "Overall Mean F-beta Score: 0.6444\n",
      "Overall Mean IoU Score: 0.5100\n",
      "Final_score: 0.5369\n",
      "Training Loss: 0.1854, Validation Loss: 0.1898, Validation hybrid_score: 0.5369\n",
      "Epoch 21/4000\n"
     ]
    },
    {
     "name": "stderr",
     "output_type": "stream",
     "text": [
      "Training: 100%|██████████| 120/120 [02:50<00:00,  1.42s/it, loss=0.18] \n",
      "Validation: 100%|██████████| 20/20 [00:17<00:00,  1.15it/s, loss=0.182]\n"
     ]
    },
    {
     "name": "stdout",
     "output_type": "stream",
     "text": [
      "Validation Dice Score\n",
      "Class 0: 0.9892, Class 1: 0.7654, Class 2: 0.0306, Class 3: 0.5009, Class 4: 0.7441, Class 5: 0.4563, Class 6: 0.9032, \n",
      "Validation F-beta Score\n",
      "Class 0: 0.9920, Class 1: 0.8270, Class 2: 0.0171, Class 3: 0.5289, Class 4: 0.7128, Class 5: 0.3699, Class 6: 0.9174, \n",
      "Validation mIoU Score\n",
      "Class 0: 0.9787, Class 1: 0.6205, Class 2: 0.0156, Class 3: 0.3350, Class 4: 0.5932, Class 5: 0.2968, Class 6: 0.8238, \n",
      "\n",
      "Overall Mean Dice Score: 0.6740\n",
      "Overall Mean F-beta Score: 0.6712\n",
      "Overall Mean IoU Score: 0.5339\n",
      "Final_score: 0.5613\n",
      "Training Loss: 0.1834, Validation Loss: 0.1853, Validation hybrid_score: 0.5613\n",
      "========================================================\n",
      "SUPER Best model saved. Loss:0.1853, Score:0.5613\n",
      "========================================================\n",
      "Epoch 22/4000\n"
     ]
    },
    {
     "name": "stderr",
     "output_type": "stream",
     "text": [
      "Training: 100%|██████████| 120/120 [02:49<00:00,  1.42s/it, loss=0.186]\n",
      "Validation: 100%|██████████| 20/20 [00:17<00:00,  1.13it/s, loss=0.179]\n"
     ]
    },
    {
     "name": "stdout",
     "output_type": "stream",
     "text": [
      "Validation Dice Score\n",
      "Class 0: 0.9889, Class 1: 0.7724, Class 2: 0.0318, Class 3: 0.5083, Class 4: 0.6968, Class 5: 0.4975, Class 6: 0.9126, \n",
      "Validation F-beta Score\n",
      "Class 0: 0.9923, Class 1: 0.8366, Class 2: 0.0178, Class 3: 0.4990, Class 4: 0.6227, Class 5: 0.4439, Class 6: 0.8972, \n",
      "Validation mIoU Score\n",
      "Class 0: 0.9781, Class 1: 0.6298, Class 2: 0.0163, Class 3: 0.3419, Class 4: 0.5357, Class 5: 0.3320, Class 6: 0.8393, \n",
      "\n",
      "Overall Mean Dice Score: 0.6775\n",
      "Overall Mean F-beta Score: 0.6599\n",
      "Overall Mean IoU Score: 0.5357\n",
      "Final_score: 0.5606\n",
      "Training Loss: 0.1836, Validation Loss: 0.1862, Validation hybrid_score: 0.5606\n",
      "Epoch 23/4000\n"
     ]
    },
    {
     "name": "stderr",
     "output_type": "stream",
     "text": [
      "Training: 100%|██████████| 120/120 [02:49<00:00,  1.41s/it, loss=0.185]\n",
      "Validation: 100%|██████████| 20/20 [00:17<00:00,  1.14it/s, loss=0.192]\n"
     ]
    },
    {
     "name": "stdout",
     "output_type": "stream",
     "text": [
      "Validation Dice Score\n",
      "Class 0: 0.9893, Class 1: 0.7606, Class 2: 0.0646, Class 3: 0.5094, Class 4: 0.6937, Class 5: 0.4864, Class 6: 0.9139, \n",
      "Validation F-beta Score\n",
      "Class 0: 0.9927, Class 1: 0.8187, Class 2: 0.0392, Class 3: 0.5193, Class 4: 0.6060, Class 5: 0.4335, Class 6: 0.9145, \n",
      "Validation mIoU Score\n",
      "Class 0: 0.9787, Class 1: 0.6147, Class 2: 0.0336, Class 3: 0.3433, Class 4: 0.5325, Class 5: 0.3226, Class 6: 0.8416, \n",
      "\n",
      "Overall Mean Dice Score: 0.6728\n",
      "Overall Mean F-beta Score: 0.6584\n",
      "Overall Mean IoU Score: 0.5309\n",
      "Final_score: 0.5564\n",
      "Training Loss: 0.1845, Validation Loss: 0.1861, Validation hybrid_score: 0.5564\n",
      "Epoch 24/4000\n"
     ]
    },
    {
     "name": "stderr",
     "output_type": "stream",
     "text": [
      "Training: 100%|██████████| 120/120 [02:47<00:00,  1.40s/it, loss=0.183]\n",
      "Validation: 100%|██████████| 20/20 [00:19<00:00,  1.03it/s, loss=0.181]\n"
     ]
    },
    {
     "name": "stdout",
     "output_type": "stream",
     "text": [
      "Validation Dice Score\n",
      "Class 0: 0.9891, Class 1: 0.7779, Class 2: 0.0533, Class 3: 0.5110, Class 4: 0.7032, Class 5: 0.4808, Class 6: 0.9114, \n",
      "Validation F-beta Score\n",
      "Class 0: 0.9927, Class 1: 0.8122, Class 2: 0.0316, Class 3: 0.5201, Class 4: 0.6213, Class 5: 0.4216, Class 6: 0.9059, \n",
      "Validation mIoU Score\n",
      "Class 0: 0.9784, Class 1: 0.6373, Class 2: 0.0280, Class 3: 0.3443, Class 4: 0.5427, Class 5: 0.3171, Class 6: 0.8374, \n",
      "\n",
      "Overall Mean Dice Score: 0.6768\n",
      "Overall Mean F-beta Score: 0.6562\n",
      "Overall Mean IoU Score: 0.5358\n",
      "Final_score: 0.5599\n",
      "Training Loss: 0.1830, Validation Loss: 0.1857, Validation hybrid_score: 0.5599\n",
      "Epoch 25/4000\n"
     ]
    },
    {
     "name": "stderr",
     "output_type": "stream",
     "text": [
      "Training: 100%|██████████| 120/120 [02:49<00:00,  1.41s/it, loss=0.192]\n",
      "Validation: 100%|██████████| 20/20 [00:19<00:00,  1.05it/s, loss=0.188]\n"
     ]
    },
    {
     "name": "stdout",
     "output_type": "stream",
     "text": [
      "Validation Dice Score\n",
      "Class 0: 0.9893, Class 1: 0.7643, Class 2: 0.0675, Class 3: 0.4794, Class 4: 0.7090, Class 5: 0.4761, Class 6: 0.9083, \n",
      "Validation F-beta Score\n",
      "Class 0: 0.9926, Class 1: 0.8307, Class 2: 0.0405, Class 3: 0.5321, Class 4: 0.6286, Class 5: 0.4130, Class 6: 0.8947, \n",
      "Validation mIoU Score\n",
      "Class 0: 0.9789, Class 1: 0.6198, Class 2: 0.0355, Class 3: 0.3170, Class 4: 0.5496, Class 5: 0.3135, Class 6: 0.8321, \n",
      "\n",
      "Overall Mean Dice Score: 0.6674\n",
      "Overall Mean F-beta Score: 0.6598\n",
      "Overall Mean IoU Score: 0.5264\n",
      "Final_score: 0.5531\n",
      "Training Loss: 0.1823, Validation Loss: 0.1853, Validation hybrid_score: 0.5531\n",
      "Epoch 26/4000\n"
     ]
    },
    {
     "name": "stderr",
     "output_type": "stream",
     "text": [
      "Training: 100%|██████████| 120/120 [02:50<00:00,  1.42s/it, loss=0.191]\n",
      "Validation: 100%|██████████| 20/20 [00:19<00:00,  1.03it/s, loss=0.18] \n"
     ]
    },
    {
     "name": "stdout",
     "output_type": "stream",
     "text": [
      "Validation Dice Score\n",
      "Class 0: 0.9892, Class 1: 0.7635, Class 2: 0.0799, Class 3: 0.5014, Class 4: 0.7280, Class 5: 0.4749, Class 6: 0.9088, \n",
      "Validation F-beta Score\n",
      "Class 0: 0.9919, Class 1: 0.8353, Class 2: 0.0526, Class 3: 0.5201, Class 4: 0.6772, Class 5: 0.4117, Class 6: 0.9017, \n",
      "Validation mIoU Score\n",
      "Class 0: 0.9787, Class 1: 0.6183, Class 2: 0.0421, Class 3: 0.3359, Class 4: 0.5731, Class 5: 0.3124, Class 6: 0.8331, \n",
      "\n",
      "Overall Mean Dice Score: 0.6753\n",
      "Overall Mean F-beta Score: 0.6692\n",
      "Overall Mean IoU Score: 0.5346\n",
      "Final_score: 0.5615\n",
      "Training Loss: 0.1808, Validation Loss: 0.1855, Validation hybrid_score: 0.5615\n",
      "Epoch 27/4000\n"
     ]
    },
    {
     "name": "stderr",
     "output_type": "stream",
     "text": [
      "Training: 100%|██████████| 120/120 [02:47<00:00,  1.40s/it, loss=0.194]\n",
      "Validation: 100%|██████████| 20/20 [00:19<00:00,  1.02it/s, loss=0.188]\n"
     ]
    },
    {
     "name": "stdout",
     "output_type": "stream",
     "text": [
      "Validation Dice Score\n",
      "Class 0: 0.9893, Class 1: 0.7784, Class 2: 0.0711, Class 3: 0.5077, Class 4: 0.7136, Class 5: 0.4786, Class 6: 0.9119, \n",
      "Validation F-beta Score\n",
      "Class 0: 0.9940, Class 1: 0.8406, Class 2: 0.0437, Class 3: 0.4950, Class 4: 0.6323, Class 5: 0.3761, Class 6: 0.9002, \n",
      "Validation mIoU Score\n",
      "Class 0: 0.9787, Class 1: 0.6378, Class 2: 0.0374, Class 3: 0.3420, Class 4: 0.5555, Class 5: 0.3166, Class 6: 0.8381, \n",
      "\n",
      "Overall Mean Dice Score: 0.6780\n",
      "Overall Mean F-beta Score: 0.6488\n",
      "Overall Mean IoU Score: 0.5380\n",
      "Final_score: 0.5602\n",
      "Training Loss: 0.1806, Validation Loss: 0.1853, Validation hybrid_score: 0.5602\n",
      "Epoch 28/4000\n"
     ]
    },
    {
     "name": "stderr",
     "output_type": "stream",
     "text": [
      "Training: 100%|██████████| 120/120 [02:45<00:00,  1.38s/it, loss=0.179]\n",
      "Validation: 100%|██████████| 20/20 [00:17<00:00,  1.14it/s, loss=0.18] \n"
     ]
    },
    {
     "name": "stdout",
     "output_type": "stream",
     "text": [
      "Validation Dice Score\n",
      "Class 0: 0.9890, Class 1: 0.7736, Class 2: 0.1098, Class 3: 0.5043, Class 4: 0.7447, Class 5: 0.4951, Class 6: 0.9103, \n",
      "Validation F-beta Score\n",
      "Class 0: 0.9909, Class 1: 0.8399, Class 2: 0.0753, Class 3: 0.5705, Class 4: 0.7130, Class 5: 0.4420, Class 6: 0.9150, \n",
      "Validation mIoU Score\n",
      "Class 0: 0.9783, Class 1: 0.6314, Class 2: 0.0596, Class 3: 0.3390, Class 4: 0.5938, Class 5: 0.3305, Class 6: 0.8357, \n",
      "\n",
      "Overall Mean Dice Score: 0.6856\n",
      "Overall Mean F-beta Score: 0.6961\n",
      "Overall Mean IoU Score: 0.5461\n",
      "Final_score: 0.5761\n",
      "Training Loss: 0.1814, Validation Loss: 0.1846, Validation hybrid_score: 0.5761\n",
      "========================================================\n",
      "SUPER Best model saved. Loss:0.1846, Score:0.5761\n",
      "========================================================\n",
      "Epoch 29/4000\n"
     ]
    },
    {
     "name": "stderr",
     "output_type": "stream",
     "text": [
      "Training: 100%|██████████| 120/120 [02:47<00:00,  1.40s/it, loss=0.193]\n",
      "Validation: 100%|██████████| 20/20 [00:17<00:00,  1.14it/s, loss=0.185]\n"
     ]
    },
    {
     "name": "stdout",
     "output_type": "stream",
     "text": [
      "Validation Dice Score\n",
      "Class 0: 0.9889, Class 1: 0.7794, Class 2: 0.0696, Class 3: 0.5041, Class 4: 0.7317, Class 5: 0.4934, Class 6: 0.9096, \n",
      "Validation F-beta Score\n",
      "Class 0: 0.9915, Class 1: 0.8499, Class 2: 0.0423, Class 3: 0.5345, Class 4: 0.6784, Class 5: 0.4454, Class 6: 0.8941, \n",
      "Validation mIoU Score\n",
      "Class 0: 0.9780, Class 1: 0.6395, Class 2: 0.0365, Class 3: 0.3380, Class 4: 0.5775, Class 5: 0.3296, Class 6: 0.8344, \n",
      "\n",
      "Overall Mean Dice Score: 0.6836\n",
      "Overall Mean F-beta Score: 0.6805\n",
      "Overall Mean IoU Score: 0.5438\n",
      "Final_score: 0.5711\n",
      "Training Loss: 0.1802, Validation Loss: 0.1858, Validation hybrid_score: 0.5711\n",
      "Epoch 30/4000\n"
     ]
    },
    {
     "name": "stderr",
     "output_type": "stream",
     "text": [
      "Training: 100%|██████████| 120/120 [02:48<00:00,  1.40s/it, loss=0.188]\n",
      "Validation: 100%|██████████| 20/20 [00:17<00:00,  1.14it/s, loss=0.183]\n"
     ]
    },
    {
     "name": "stdout",
     "output_type": "stream",
     "text": [
      "Validation Dice Score\n",
      "Class 0: 0.9895, Class 1: 0.7833, Class 2: 0.0781, Class 3: 0.5119, Class 4: 0.7233, Class 5: 0.4783, Class 6: 0.8999, \n",
      "Validation F-beta Score\n",
      "Class 0: 0.9930, Class 1: 0.8021, Class 2: 0.0496, Class 3: 0.4926, Class 4: 0.6450, Class 5: 0.4246, Class 6: 0.8654, \n",
      "Validation mIoU Score\n",
      "Class 0: 0.9793, Class 1: 0.6444, Class 2: 0.0418, Class 3: 0.3450, Class 4: 0.5673, Class 5: 0.3149, Class 6: 0.8183, \n",
      "\n",
      "Overall Mean Dice Score: 0.6793\n",
      "Overall Mean F-beta Score: 0.6459\n",
      "Overall Mean IoU Score: 0.5380\n",
      "Final_score: 0.5596\n",
      "Training Loss: 0.1791, Validation Loss: 0.1835, Validation hybrid_score: 0.5596\n",
      "Epoch 31/4000\n"
     ]
    },
    {
     "name": "stderr",
     "output_type": "stream",
     "text": [
      "Training: 100%|██████████| 120/120 [02:47<00:00,  1.40s/it, loss=0.182]\n",
      "Validation: 100%|██████████| 20/20 [00:17<00:00,  1.14it/s, loss=0.186]\n"
     ]
    },
    {
     "name": "stdout",
     "output_type": "stream",
     "text": [
      "Validation Dice Score\n",
      "Class 0: 0.9889, Class 1: 0.7779, Class 2: 0.0815, Class 3: 0.5010, Class 4: 0.7080, Class 5: 0.5070, Class 6: 0.9059, \n",
      "Validation F-beta Score\n",
      "Class 0: 0.9926, Class 1: 0.8555, Class 2: 0.0525, Class 3: 0.5088, Class 4: 0.6306, Class 5: 0.4389, Class 6: 0.8958, \n",
      "Validation mIoU Score\n",
      "Class 0: 0.9781, Class 1: 0.6373, Class 2: 0.0435, Class 3: 0.3351, Class 4: 0.5491, Class 5: 0.3408, Class 6: 0.8281, \n",
      "\n",
      "Overall Mean Dice Score: 0.6800\n",
      "Overall Mean F-beta Score: 0.6659\n",
      "Overall Mean IoU Score: 0.5381\n",
      "Final_score: 0.5636\n",
      "Training Loss: 0.1796, Validation Loss: 0.1867, Validation hybrid_score: 0.5636\n",
      "Epoch 32/4000\n"
     ]
    },
    {
     "name": "stderr",
     "output_type": "stream",
     "text": [
      "Training: 100%|██████████| 120/120 [02:48<00:00,  1.40s/it, loss=0.186]\n",
      "Validation: 100%|██████████| 20/20 [00:17<00:00,  1.14it/s, loss=0.188]\n"
     ]
    },
    {
     "name": "stdout",
     "output_type": "stream",
     "text": [
      "Validation Dice Score\n",
      "Class 0: 0.9891, Class 1: 0.7490, Class 2: 0.1302, Class 3: 0.4801, Class 4: 0.7341, Class 5: 0.4907, Class 6: 0.9031, \n",
      "Validation F-beta Score\n",
      "Class 0: 0.9923, Class 1: 0.8729, Class 2: 0.0914, Class 3: 0.5101, Class 4: 0.6672, Class 5: 0.4180, Class 6: 0.8972, \n",
      "Validation mIoU Score\n",
      "Class 0: 0.9783, Class 1: 0.5995, Class 2: 0.0710, Class 3: 0.3169, Class 4: 0.5804, Class 5: 0.3265, Class 6: 0.8236, \n",
      "\n",
      "Overall Mean Dice Score: 0.6714\n",
      "Overall Mean F-beta Score: 0.6731\n",
      "Overall Mean IoU Score: 0.5294\n",
      "Final_score: 0.5581\n",
      "Training Loss: 0.1794, Validation Loss: 0.1849, Validation hybrid_score: 0.5581\n",
      "Epoch 33/4000\n"
     ]
    },
    {
     "name": "stderr",
     "output_type": "stream",
     "text": [
      "Training: 100%|██████████| 120/120 [02:48<00:00,  1.40s/it, loss=0.185]\n",
      "Validation: 100%|██████████| 20/20 [00:17<00:00,  1.15it/s, loss=0.185]\n"
     ]
    },
    {
     "name": "stdout",
     "output_type": "stream",
     "text": [
      "Validation Dice Score\n",
      "Class 0: 0.9896, Class 1: 0.7623, Class 2: 0.1110, Class 3: 0.4451, Class 4: 0.7230, Class 5: 0.3950, Class 6: 0.9131, \n",
      "Validation F-beta Score\n",
      "Class 0: 0.9937, Class 1: 0.8504, Class 2: 0.0804, Class 3: 0.5291, Class 4: 0.6573, Class 5: 0.2868, Class 6: 0.9056, \n",
      "Validation mIoU Score\n",
      "Class 0: 0.9794, Class 1: 0.6168, Class 2: 0.0603, Class 3: 0.2874, Class 4: 0.5674, Class 5: 0.2474, Class 6: 0.8402, \n",
      "\n",
      "Overall Mean Dice Score: 0.6477\n",
      "Overall Mean F-beta Score: 0.6458\n",
      "Overall Mean IoU Score: 0.5118\n",
      "Final_score: 0.5386\n",
      "Training Loss: 0.1780, Validation Loss: 0.1879, Validation hybrid_score: 0.5386\n",
      "Epoch 34/4000\n"
     ]
    },
    {
     "name": "stderr",
     "output_type": "stream",
     "text": [
      "Training: 100%|██████████| 120/120 [02:48<00:00,  1.40s/it, loss=0.183]\n",
      "Validation: 100%|██████████| 20/20 [00:17<00:00,  1.15it/s, loss=0.188]\n"
     ]
    },
    {
     "name": "stdout",
     "output_type": "stream",
     "text": [
      "Validation Dice Score\n",
      "Class 0: 0.9889, Class 1: 0.7927, Class 2: 0.1283, Class 3: 0.4749, Class 4: 0.7243, Class 5: 0.4940, Class 6: 0.9123, \n",
      "Validation F-beta Score\n",
      "Class 0: 0.9917, Class 1: 0.8446, Class 2: 0.0973, Class 3: 0.4917, Class 4: 0.6552, Class 5: 0.4459, Class 6: 0.9121, \n",
      "Validation mIoU Score\n",
      "Class 0: 0.9781, Class 1: 0.6571, Class 2: 0.0697, Class 3: 0.3127, Class 4: 0.5685, Class 5: 0.3291, Class 6: 0.8389, \n",
      "\n",
      "Overall Mean Dice Score: 0.6796\n",
      "Overall Mean F-beta Score: 0.6699\n",
      "Overall Mean IoU Score: 0.5413\n",
      "Final_score: 0.5670\n",
      "Training Loss: 0.1785, Validation Loss: 0.1867, Validation hybrid_score: 0.5670\n",
      "Epoch 35/4000\n"
     ]
    },
    {
     "name": "stderr",
     "output_type": "stream",
     "text": [
      "Training: 100%|██████████| 120/120 [02:47<00:00,  1.40s/it, loss=0.183]\n",
      "Validation: 100%|██████████| 20/20 [00:17<00:00,  1.14it/s, loss=0.18] \n"
     ]
    },
    {
     "name": "stdout",
     "output_type": "stream",
     "text": [
      "Validation Dice Score\n",
      "Class 0: 0.9893, Class 1: 0.7804, Class 2: 0.1095, Class 3: 0.5092, Class 4: 0.7368, Class 5: 0.4983, Class 6: 0.9099, \n",
      "Validation F-beta Score\n",
      "Class 0: 0.9926, Class 1: 0.8411, Class 2: 0.0747, Class 3: 0.5480, Class 4: 0.6752, Class 5: 0.4207, Class 6: 0.8925, \n",
      "Validation mIoU Score\n",
      "Class 0: 0.9788, Class 1: 0.6405, Class 2: 0.0609, Class 3: 0.3430, Class 4: 0.5836, Class 5: 0.3328, Class 6: 0.8348, \n",
      "\n",
      "Overall Mean Dice Score: 0.6869\n",
      "Overall Mean F-beta Score: 0.6755\n",
      "Overall Mean IoU Score: 0.5470\n",
      "Final_score: 0.5727\n",
      "Training Loss: 0.1770, Validation Loss: 0.1839, Validation hybrid_score: 0.5727\n",
      "Epoch 36/4000\n"
     ]
    },
    {
     "name": "stderr",
     "output_type": "stream",
     "text": [
      "Training: 100%|██████████| 120/120 [02:47<00:00,  1.40s/it, loss=0.179]\n",
      "Validation: 100%|██████████| 20/20 [00:17<00:00,  1.15it/s, loss=0.189]\n"
     ]
    },
    {
     "name": "stdout",
     "output_type": "stream",
     "text": [
      "Validation Dice Score\n",
      "Class 0: 0.9889, Class 1: 0.7773, Class 2: 0.0880, Class 3: 0.5174, Class 4: 0.7190, Class 5: 0.4926, Class 6: 0.8974, \n",
      "Validation F-beta Score\n",
      "Class 0: 0.9927, Class 1: 0.8514, Class 2: 0.0563, Class 3: 0.5597, Class 4: 0.6399, Class 5: 0.4189, Class 6: 0.8727, \n",
      "Validation mIoU Score\n",
      "Class 0: 0.9781, Class 1: 0.6365, Class 2: 0.0473, Class 3: 0.3503, Class 4: 0.5617, Class 5: 0.3279, Class 6: 0.8141, \n",
      "\n",
      "Overall Mean Dice Score: 0.6807\n",
      "Overall Mean F-beta Score: 0.6685\n",
      "Overall Mean IoU Score: 0.5381\n",
      "Final_score: 0.5642\n",
      "Training Loss: 0.1787, Validation Loss: 0.1862, Validation hybrid_score: 0.5642\n",
      "Epoch 37/4000\n"
     ]
    },
    {
     "name": "stderr",
     "output_type": "stream",
     "text": [
      "Training: 100%|██████████| 120/120 [02:47<00:00,  1.40s/it, loss=0.186]\n",
      "Validation: 100%|██████████| 20/20 [00:17<00:00,  1.15it/s, loss=0.181]\n"
     ]
    },
    {
     "name": "stdout",
     "output_type": "stream",
     "text": [
      "Validation Dice Score\n",
      "Class 0: 0.9898, Class 1: 0.7768, Class 2: 0.1040, Class 3: 0.5188, Class 4: 0.7507, Class 5: 0.4700, Class 6: 0.9090, \n",
      "Validation F-beta Score\n",
      "Class 0: 0.9923, Class 1: 0.8629, Class 2: 0.0730, Class 3: 0.5697, Class 4: 0.7141, Class 5: 0.3810, Class 6: 0.9173, \n",
      "Validation mIoU Score\n",
      "Class 0: 0.9797, Class 1: 0.6357, Class 2: 0.0556, Class 3: 0.3513, Class 4: 0.6014, Class 5: 0.3080, Class 6: 0.8334, \n",
      "\n",
      "Overall Mean Dice Score: 0.6850\n",
      "Overall Mean F-beta Score: 0.6890\n",
      "Overall Mean IoU Score: 0.5460\n",
      "Final_score: 0.5746\n",
      "Training Loss: 0.1766, Validation Loss: 0.1827, Validation hybrid_score: 0.5746\n",
      "Epoch 38/4000\n"
     ]
    },
    {
     "name": "stderr",
     "output_type": "stream",
     "text": [
      "Training: 100%|██████████| 120/120 [02:48<00:00,  1.40s/it, loss=0.188]\n",
      "Validation: 100%|██████████| 20/20 [00:17<00:00,  1.15it/s, loss=0.191]\n"
     ]
    },
    {
     "name": "stdout",
     "output_type": "stream",
     "text": [
      "Validation Dice Score\n",
      "Class 0: 0.9892, Class 1: 0.7668, Class 2: 0.1552, Class 3: 0.4986, Class 4: 0.7204, Class 5: 0.4428, Class 6: 0.9076, \n",
      "Validation F-beta Score\n",
      "Class 0: 0.9931, Class 1: 0.8740, Class 2: 0.1237, Class 3: 0.5417, Class 4: 0.6564, Class 5: 0.3356, Class 6: 0.9099, \n",
      "Validation mIoU Score\n",
      "Class 0: 0.9787, Class 1: 0.6225, Class 2: 0.0861, Class 3: 0.3330, Class 4: 0.5638, Class 5: 0.2849, Class 6: 0.8312, \n",
      "\n",
      "Overall Mean Dice Score: 0.6673\n",
      "Overall Mean F-beta Score: 0.6635\n",
      "Overall Mean IoU Score: 0.5271\n",
      "Final_score: 0.5544\n",
      "Training Loss: 0.1770, Validation Loss: 0.1849, Validation hybrid_score: 0.5544\n",
      "Epoch 39/4000\n"
     ]
    },
    {
     "name": "stderr",
     "output_type": "stream",
     "text": [
      "Training: 100%|██████████| 120/120 [02:47<00:00,  1.40s/it, loss=0.179]\n",
      "Validation: 100%|██████████| 20/20 [00:17<00:00,  1.15it/s, loss=0.182]\n"
     ]
    },
    {
     "name": "stdout",
     "output_type": "stream",
     "text": [
      "Validation Dice Score\n",
      "Class 0: 0.9896, Class 1: 0.7865, Class 2: 0.1305, Class 3: 0.4957, Class 4: 0.7296, Class 5: 0.4384, Class 6: 0.9078, \n",
      "Validation F-beta Score\n",
      "Class 0: 0.9932, Class 1: 0.8343, Class 2: 0.0923, Class 3: 0.5214, Class 4: 0.6764, Class 5: 0.3409, Class 6: 0.8946, \n",
      "Validation mIoU Score\n",
      "Class 0: 0.9793, Class 1: 0.6487, Class 2: 0.0711, Class 3: 0.3307, Class 4: 0.5750, Class 5: 0.2816, Class 6: 0.8313, \n",
      "\n",
      "Overall Mean Dice Score: 0.6716\n",
      "Overall Mean F-beta Score: 0.6535\n",
      "Overall Mean IoU Score: 0.5335\n",
      "Final_score: 0.5575\n",
      "Training Loss: 0.1770, Validation Loss: 0.1838, Validation hybrid_score: 0.5575\n",
      "Epoch 40/4000\n"
     ]
    },
    {
     "name": "stderr",
     "output_type": "stream",
     "text": [
      "Training: 100%|██████████| 120/120 [02:46<00:00,  1.39s/it, loss=0.188]\n",
      "Validation: 100%|██████████| 20/20 [00:18<00:00,  1.10it/s, loss=0.186]\n"
     ]
    },
    {
     "name": "stdout",
     "output_type": "stream",
     "text": [
      "Validation Dice Score\n",
      "Class 0: 0.9891, Class 1: 0.7701, Class 2: 0.1893, Class 3: 0.5020, Class 4: 0.7292, Class 5: 0.4768, Class 6: 0.9057, \n",
      "Validation F-beta Score\n",
      "Class 0: 0.9923, Class 1: 0.8694, Class 2: 0.1620, Class 3: 0.5290, Class 4: 0.6670, Class 5: 0.4018, Class 6: 0.8891, \n",
      "Validation mIoU Score\n",
      "Class 0: 0.9785, Class 1: 0.6270, Class 2: 0.1069, Class 3: 0.3364, Class 4: 0.5745, Class 5: 0.3141, Class 6: 0.8277, \n",
      "\n",
      "Overall Mean Dice Score: 0.6767\n",
      "Overall Mean F-beta Score: 0.6713\n",
      "Overall Mean IoU Score: 0.5359\n",
      "Final_score: 0.5630\n",
      "Training Loss: 0.1769, Validation Loss: 0.1849, Validation hybrid_score: 0.5630\n",
      "Epoch 41/4000\n"
     ]
    },
    {
     "name": "stderr",
     "output_type": "stream",
     "text": [
      "Training: 100%|██████████| 120/120 [02:46<00:00,  1.39s/it, loss=0.188]\n",
      "Validation: 100%|██████████| 20/20 [00:19<00:00,  1.03it/s, loss=0.181]\n"
     ]
    },
    {
     "name": "stdout",
     "output_type": "stream",
     "text": [
      "Validation Dice Score\n",
      "Class 0: 0.9892, Class 1: 0.7930, Class 2: 0.1743, Class 3: 0.5057, Class 4: 0.7338, Class 5: 0.4889, Class 6: 0.9055, \n",
      "Validation F-beta Score\n",
      "Class 0: 0.9925, Class 1: 0.8516, Class 2: 0.1184, Class 3: 0.4536, Class 4: 0.6791, Class 5: 0.4277, Class 6: 0.8793, \n",
      "Validation mIoU Score\n",
      "Class 0: 0.9787, Class 1: 0.6581, Class 2: 0.0969, Class 3: 0.3392, Class 4: 0.5801, Class 5: 0.3246, Class 6: 0.8274, \n",
      "\n",
      "Overall Mean Dice Score: 0.6854\n",
      "Overall Mean F-beta Score: 0.6583\n",
      "Overall Mean IoU Score: 0.5459\n",
      "Final_score: 0.5684\n",
      "Training Loss: 0.1763, Validation Loss: 0.1842, Validation hybrid_score: 0.5684\n",
      "Epoch 42/4000\n"
     ]
    },
    {
     "name": "stderr",
     "output_type": "stream",
     "text": [
      "Training: 100%|██████████| 120/120 [02:46<00:00,  1.39s/it, loss=0.183]\n",
      "Validation: 100%|██████████| 20/20 [00:19<00:00,  1.05it/s, loss=0.189]\n"
     ]
    },
    {
     "name": "stdout",
     "output_type": "stream",
     "text": [
      "Validation Dice Score\n",
      "Class 0: 0.9890, Class 1: 0.7732, Class 2: 0.1659, Class 3: 0.5004, Class 4: 0.7434, Class 5: 0.5178, Class 6: 0.9044, \n",
      "Validation F-beta Score\n",
      "Class 0: 0.9911, Class 1: 0.8608, Class 2: 0.1237, Class 3: 0.5522, Class 4: 0.7007, Class 5: 0.4718, Class 6: 0.8819, \n",
      "Validation mIoU Score\n",
      "Class 0: 0.9783, Class 1: 0.6311, Class 2: 0.0935, Class 3: 0.3349, Class 4: 0.5919, Class 5: 0.3505, Class 6: 0.8256, \n",
      "\n",
      "Overall Mean Dice Score: 0.6878\n",
      "Overall Mean F-beta Score: 0.6935\n",
      "Overall Mean IoU Score: 0.5468\n",
      "Final_score: 0.5762\n",
      "Training Loss: 0.1759, Validation Loss: 0.1827, Validation hybrid_score: 0.5762\n",
      "========================================================\n",
      "SUPER Best model saved. Loss:0.1827, Score:0.5762\n",
      "========================================================\n",
      "Epoch 43/4000\n"
     ]
    },
    {
     "name": "stderr",
     "output_type": "stream",
     "text": [
      "Training: 100%|██████████| 120/120 [02:45<00:00,  1.38s/it, loss=0.176]\n",
      "Validation: 100%|██████████| 20/20 [00:19<00:00,  1.03it/s, loss=0.198]\n"
     ]
    },
    {
     "name": "stdout",
     "output_type": "stream",
     "text": [
      "Validation Dice Score\n",
      "Class 0: 0.9889, Class 1: 0.7759, Class 2: 0.1007, Class 3: 0.4874, Class 4: 0.7101, Class 5: 0.4759, Class 6: 0.9076, \n",
      "Validation F-beta Score\n",
      "Class 0: 0.9929, Class 1: 0.8682, Class 2: 0.0731, Class 3: 0.4496, Class 4: 0.6286, Class 5: 0.4041, Class 6: 0.8932, \n",
      "Validation mIoU Score\n",
      "Class 0: 0.9781, Class 1: 0.6349, Class 2: 0.0547, Class 3: 0.3245, Class 4: 0.5514, Class 5: 0.3135, Class 6: 0.8309, \n",
      "\n",
      "Overall Mean Dice Score: 0.6714\n",
      "Overall Mean F-beta Score: 0.6487\n",
      "Overall Mean IoU Score: 0.5310\n",
      "Final_score: 0.5546\n",
      "Training Loss: 0.1755, Validation Loss: 0.1865, Validation hybrid_score: 0.5546\n",
      "Epoch 44/4000\n"
     ]
    },
    {
     "name": "stderr",
     "output_type": "stream",
     "text": [
      "Training: 100%|██████████| 120/120 [02:56<00:00,  1.47s/it, loss=0.173]\n",
      "Validation: 100%|██████████| 20/20 [00:19<00:00,  1.04it/s, loss=0.182]\n"
     ]
    },
    {
     "name": "stdout",
     "output_type": "stream",
     "text": [
      "Validation Dice Score\n",
      "Class 0: 0.9895, Class 1: 0.7966, Class 2: 0.0978, Class 3: 0.5222, Class 4: 0.6995, Class 5: 0.4731, Class 6: 0.9023, \n",
      "Validation F-beta Score\n",
      "Class 0: 0.9937, Class 1: 0.8461, Class 2: 0.0674, Class 3: 0.5151, Class 4: 0.6147, Class 5: 0.3872, Class 6: 0.8707, \n",
      "Validation mIoU Score\n",
      "Class 0: 0.9792, Class 1: 0.6627, Class 2: 0.0526, Class 3: 0.3548, Class 4: 0.5388, Class 5: 0.3120, Class 6: 0.8220, \n",
      "\n",
      "Overall Mean Dice Score: 0.6787\n",
      "Overall Mean F-beta Score: 0.6468\n",
      "Overall Mean IoU Score: 0.5381\n",
      "Final_score: 0.5598\n",
      "Training Loss: 0.1765, Validation Loss: 0.1843, Validation hybrid_score: 0.5598\n",
      "Epoch 45/4000\n"
     ]
    },
    {
     "name": "stderr",
     "output_type": "stream",
     "text": [
      "Training: 100%|██████████| 120/120 [03:02<00:00,  1.52s/it, loss=0.179]\n",
      "Validation: 100%|██████████| 20/20 [00:18<00:00,  1.07it/s, loss=0.19] \n"
     ]
    },
    {
     "name": "stdout",
     "output_type": "stream",
     "text": [
      "Validation Dice Score\n",
      "Class 0: 0.9899, Class 1: 0.7873, Class 2: 0.0828, Class 3: 0.5036, Class 4: 0.7019, Class 5: 0.4817, Class 6: 0.8834, \n",
      "Validation F-beta Score\n",
      "Class 0: 0.9940, Class 1: 0.8431, Class 2: 0.0539, Class 3: 0.4953, Class 4: 0.6165, Class 5: 0.3958, Class 6: 0.8409, \n",
      "Validation mIoU Score\n",
      "Class 0: 0.9799, Class 1: 0.6502, Class 2: 0.0437, Class 3: 0.3375, Class 4: 0.5414, Class 5: 0.3185, Class 6: 0.7914, \n",
      "\n",
      "Overall Mean Dice Score: 0.6716\n",
      "Overall Mean F-beta Score: 0.6383\n",
      "Overall Mean IoU Score: 0.5278\n",
      "Final_score: 0.5499\n",
      "Training Loss: 0.1755, Validation Loss: 0.1840, Validation hybrid_score: 0.5499\n",
      "Epoch 46/4000\n"
     ]
    },
    {
     "name": "stderr",
     "output_type": "stream",
     "text": [
      "Training: 100%|██████████| 120/120 [03:00<00:00,  1.50s/it, loss=0.192]\n",
      "Validation: 100%|██████████| 20/20 [00:18<00:00,  1.07it/s, loss=0.187]\n"
     ]
    },
    {
     "name": "stdout",
     "output_type": "stream",
     "text": [
      "Validation Dice Score\n",
      "Class 0: 0.9899, Class 1: 0.7776, Class 2: 0.1691, Class 3: 0.4656, Class 4: 0.7274, Class 5: 0.4698, Class 6: 0.9136, \n",
      "Validation F-beta Score\n",
      "Class 0: 0.9934, Class 1: 0.8534, Class 2: 0.1277, Class 3: 0.5140, Class 4: 0.6634, Class 5: 0.3727, Class 6: 0.9009, \n",
      "Validation mIoU Score\n",
      "Class 0: 0.9801, Class 1: 0.6370, Class 2: 0.0952, Class 3: 0.3052, Class 4: 0.5723, Class 5: 0.3084, Class 6: 0.8410, \n",
      "\n",
      "Overall Mean Dice Score: 0.6708\n",
      "Overall Mean F-beta Score: 0.6609\n",
      "Overall Mean IoU Score: 0.5328\n",
      "Final_score: 0.5584\n",
      "Training Loss: 0.1751, Validation Loss: 0.1832, Validation hybrid_score: 0.5584\n",
      "Epoch 47/4000\n"
     ]
    },
    {
     "name": "stderr",
     "output_type": "stream",
     "text": [
      "Training: 100%|██████████| 120/120 [03:00<00:00,  1.51s/it, loss=0.178]\n",
      "Validation: 100%|██████████| 20/20 [00:18<00:00,  1.08it/s, loss=0.179]\n"
     ]
    },
    {
     "name": "stdout",
     "output_type": "stream",
     "text": [
      "Validation Dice Score\n",
      "Class 0: 0.9896, Class 1: 0.7784, Class 2: 0.1390, Class 3: 0.4597, Class 4: 0.7340, Class 5: 0.5075, Class 6: 0.9145, \n",
      "Validation F-beta Score\n",
      "Class 0: 0.9925, Class 1: 0.8677, Class 2: 0.1241, Class 3: 0.4724, Class 4: 0.6703, Class 5: 0.4339, Class 6: 0.9174, \n",
      "Validation mIoU Score\n",
      "Class 0: 0.9793, Class 1: 0.6379, Class 2: 0.0771, Class 3: 0.2997, Class 4: 0.5808, Class 5: 0.3411, Class 6: 0.8428, \n",
      "\n",
      "Overall Mean Dice Score: 0.6788\n",
      "Overall Mean F-beta Score: 0.6724\n",
      "Overall Mean IoU Score: 0.5404\n",
      "Final_score: 0.5668\n",
      "Training Loss: 0.1758, Validation Loss: 0.1831, Validation hybrid_score: 0.5668\n",
      "Epoch 48/4000\n"
     ]
    },
    {
     "name": "stderr",
     "output_type": "stream",
     "text": [
      "Training: 100%|██████████| 120/120 [02:59<00:00,  1.49s/it, loss=0.168]\n",
      "Validation: 100%|██████████| 20/20 [00:18<00:00,  1.07it/s, loss=0.177]\n"
     ]
    },
    {
     "name": "stdout",
     "output_type": "stream",
     "text": [
      "Validation Dice Score\n",
      "Class 0: 0.9890, Class 1: 0.7837, Class 2: 0.1534, Class 3: 0.5041, Class 4: 0.7221, Class 5: 0.4896, Class 6: 0.8894, \n",
      "Validation F-beta Score\n",
      "Class 0: 0.9927, Class 1: 0.8519, Class 2: 0.1154, Class 3: 0.5069, Class 4: 0.6603, Class 5: 0.4134, Class 6: 0.8421, \n",
      "Validation mIoU Score\n",
      "Class 0: 0.9783, Class 1: 0.6453, Class 2: 0.0844, Class 3: 0.3387, Class 4: 0.5659, Class 5: 0.3251, Class 6: 0.8010, \n",
      "\n",
      "Overall Mean Dice Score: 0.6778\n",
      "Overall Mean F-beta Score: 0.6549\n",
      "Overall Mean IoU Score: 0.5352\n",
      "Final_score: 0.5591\n",
      "Training Loss: 0.1740, Validation Loss: 0.1851, Validation hybrid_score: 0.5591\n",
      "Epoch 49/4000\n"
     ]
    },
    {
     "name": "stderr",
     "output_type": "stream",
     "text": [
      "Training: 100%|██████████| 120/120 [02:59<00:00,  1.49s/it, loss=0.177]\n",
      "Validation: 100%|██████████| 20/20 [00:18<00:00,  1.08it/s, loss=0.174]\n"
     ]
    },
    {
     "name": "stdout",
     "output_type": "stream",
     "text": [
      "Validation Dice Score\n",
      "Class 0: 0.9898, Class 1: 0.7832, Class 2: 0.1679, Class 3: 0.5166, Class 4: 0.7260, Class 5: 0.4896, Class 6: 0.9102, \n",
      "Validation F-beta Score\n",
      "Class 0: 0.9933, Class 1: 0.8423, Class 2: 0.1236, Class 3: 0.5178, Class 4: 0.6544, Class 5: 0.4124, Class 6: 0.8885, \n",
      "Validation mIoU Score\n",
      "Class 0: 0.9798, Class 1: 0.6447, Class 2: 0.0940, Class 3: 0.3489, Class 4: 0.5706, Class 5: 0.3252, Class 6: 0.8353, \n",
      "\n",
      "Overall Mean Dice Score: 0.6851\n",
      "Overall Mean F-beta Score: 0.6630\n",
      "Overall Mean IoU Score: 0.5449\n",
      "Final_score: 0.5686\n",
      "Training Loss: 0.1730, Validation Loss: 0.1811, Validation hybrid_score: 0.5686\n",
      "Epoch 50/4000\n"
     ]
    },
    {
     "name": "stderr",
     "output_type": "stream",
     "text": [
      "Training: 100%|██████████| 120/120 [02:59<00:00,  1.50s/it, loss=0.184]\n",
      "Validation: 100%|██████████| 20/20 [00:18<00:00,  1.09it/s, loss=0.177]\n"
     ]
    },
    {
     "name": "stdout",
     "output_type": "stream",
     "text": [
      "Validation Dice Score\n",
      "Class 0: 0.9896, Class 1: 0.7869, Class 2: 0.1394, Class 3: 0.4907, Class 4: 0.7326, Class 5: 0.5122, Class 6: 0.9124, \n",
      "Validation F-beta Score\n",
      "Class 0: 0.9928, Class 1: 0.8530, Class 2: 0.1130, Class 3: 0.4731, Class 4: 0.6687, Class 5: 0.4390, Class 6: 0.8984, \n",
      "Validation mIoU Score\n",
      "Class 0: 0.9794, Class 1: 0.6493, Class 2: 0.0770, Class 3: 0.3261, Class 4: 0.5786, Class 5: 0.3459, Class 6: 0.8392, \n",
      "\n",
      "Overall Mean Dice Score: 0.6870\n",
      "Overall Mean F-beta Score: 0.6664\n",
      "Overall Mean IoU Score: 0.5478\n",
      "Final_score: 0.5715\n",
      "Training Loss: 0.1733, Validation Loss: 0.1825, Validation hybrid_score: 0.5715\n",
      "Epoch 51/4000\n"
     ]
    },
    {
     "name": "stderr",
     "output_type": "stream",
     "text": [
      "Training: 100%|██████████| 120/120 [02:59<00:00,  1.49s/it, loss=0.186]\n",
      "Validation: 100%|██████████| 20/20 [00:18<00:00,  1.08it/s, loss=0.182]\n"
     ]
    },
    {
     "name": "stdout",
     "output_type": "stream",
     "text": [
      "Validation Dice Score\n",
      "Class 0: 0.9895, Class 1: 0.7653, Class 2: 0.1528, Class 3: 0.4933, Class 4: 0.7074, Class 5: 0.4724, Class 6: 0.8955, \n",
      "Validation F-beta Score\n",
      "Class 0: 0.9939, Class 1: 0.8533, Class 2: 0.1122, Class 3: 0.4871, Class 4: 0.6228, Class 5: 0.3768, Class 6: 0.8542, \n",
      "Validation mIoU Score\n",
      "Class 0: 0.9791, Class 1: 0.6209, Class 2: 0.0841, Class 3: 0.3281, Class 4: 0.5481, Class 5: 0.3101, Class 6: 0.8109, \n",
      "\n",
      "Overall Mean Dice Score: 0.6668\n",
      "Overall Mean F-beta Score: 0.6389\n",
      "Overall Mean IoU Score: 0.5236\n",
      "Final_score: 0.5467\n",
      "Training Loss: 0.1748, Validation Loss: 0.1852, Validation hybrid_score: 0.5467\n",
      "Epoch 52/4000\n"
     ]
    },
    {
     "name": "stderr",
     "output_type": "stream",
     "text": [
      "Training: 100%|██████████| 120/120 [02:59<00:00,  1.50s/it, loss=0.192]\n",
      "Validation: 100%|██████████| 20/20 [00:18<00:00,  1.08it/s, loss=0.188]\n"
     ]
    },
    {
     "name": "stdout",
     "output_type": "stream",
     "text": [
      "Validation Dice Score\n",
      "Class 0: 0.9892, Class 1: 0.7604, Class 2: 0.1849, Class 3: 0.5159, Class 4: 0.7386, Class 5: 0.5217, Class 6: 0.9000, \n",
      "Validation F-beta Score\n",
      "Class 0: 0.9905, Class 1: 0.8721, Class 2: 0.1510, Class 3: 0.5234, Class 4: 0.7281, Class 5: 0.4777, Class 6: 0.8774, \n",
      "Validation mIoU Score\n",
      "Class 0: 0.9787, Class 1: 0.6142, Class 2: 0.1045, Class 3: 0.3489, Class 4: 0.5863, Class 5: 0.3537, Class 6: 0.8183, \n",
      "\n",
      "Overall Mean Dice Score: 0.6873\n",
      "Overall Mean F-beta Score: 0.6957\n",
      "Overall Mean IoU Score: 0.5443\n",
      "Final_score: 0.5746\n",
      "Training Loss: 0.1739, Validation Loss: 0.1838, Validation hybrid_score: 0.5746\n",
      "Epoch 53/4000\n"
     ]
    },
    {
     "name": "stderr",
     "output_type": "stream",
     "text": [
      "Training: 100%|██████████| 120/120 [02:59<00:00,  1.50s/it, loss=0.181]\n",
      "Validation: 100%|██████████| 20/20 [00:18<00:00,  1.07it/s, loss=0.185]\n"
     ]
    },
    {
     "name": "stdout",
     "output_type": "stream",
     "text": [
      "Validation Dice Score\n",
      "Class 0: 0.9897, Class 1: 0.7664, Class 2: 0.1626, Class 3: 0.5057, Class 4: 0.7463, Class 5: 0.4853, Class 6: 0.9101, \n",
      "Validation F-beta Score\n",
      "Class 0: 0.9923, Class 1: 0.8606, Class 2: 0.1241, Class 3: 0.5193, Class 4: 0.7061, Class 5: 0.4116, Class 6: 0.8970, \n",
      "Validation mIoU Score\n",
      "Class 0: 0.9796, Class 1: 0.6220, Class 2: 0.0911, Class 3: 0.3394, Class 4: 0.5960, Class 5: 0.3216, Class 6: 0.8352, \n",
      "\n",
      "Overall Mean Dice Score: 0.6827\n",
      "Overall Mean F-beta Score: 0.6789\n",
      "Overall Mean IoU Score: 0.5428\n",
      "Final_score: 0.5700\n",
      "Training Loss: 0.1743, Validation Loss: 0.1820, Validation hybrid_score: 0.5700\n",
      "Epoch 54/4000\n"
     ]
    },
    {
     "name": "stderr",
     "output_type": "stream",
     "text": [
      "Training: 100%|██████████| 120/120 [02:59<00:00,  1.50s/it, loss=0.193]\n",
      "Validation: 100%|██████████| 20/20 [00:18<00:00,  1.09it/s, loss=0.18] \n"
     ]
    },
    {
     "name": "stdout",
     "output_type": "stream",
     "text": [
      "Validation Dice Score\n",
      "Class 0: 0.9894, Class 1: 0.7806, Class 2: 0.1499, Class 3: 0.4944, Class 4: 0.7366, Class 5: 0.5195, Class 6: 0.9115, \n",
      "Validation F-beta Score\n",
      "Class 0: 0.9918, Class 1: 0.8587, Class 2: 0.1240, Class 3: 0.5141, Class 4: 0.6773, Class 5: 0.4736, Class 6: 0.9057, \n",
      "Validation mIoU Score\n",
      "Class 0: 0.9791, Class 1: 0.6409, Class 2: 0.0829, Class 3: 0.3294, Class 4: 0.5834, Class 5: 0.3515, Class 6: 0.8376, \n",
      "\n",
      "Overall Mean Dice Score: 0.6885\n",
      "Overall Mean F-beta Score: 0.6859\n",
      "Overall Mean IoU Score: 0.5486\n",
      "Final_score: 0.5760\n",
      "Training Loss: 0.1725, Validation Loss: 0.1833, Validation hybrid_score: 0.5760\n",
      "Epoch 55/4000\n"
     ]
    },
    {
     "name": "stderr",
     "output_type": "stream",
     "text": [
      "Training: 100%|██████████| 120/120 [02:58<00:00,  1.48s/it, loss=0.181]\n",
      "Validation: 100%|██████████| 20/20 [00:18<00:00,  1.08it/s, loss=0.182]\n"
     ]
    },
    {
     "name": "stdout",
     "output_type": "stream",
     "text": [
      "Validation Dice Score\n",
      "Class 0: 0.9898, Class 1: 0.7845, Class 2: 0.1267, Class 3: 0.4889, Class 4: 0.7217, Class 5: 0.4596, Class 6: 0.9108, \n",
      "Validation F-beta Score\n",
      "Class 0: 0.9934, Class 1: 0.8528, Class 2: 0.0957, Class 3: 0.4921, Class 4: 0.6583, Class 5: 0.3655, Class 6: 0.8921, \n",
      "Validation mIoU Score\n",
      "Class 0: 0.9798, Class 1: 0.6463, Class 2: 0.0683, Class 3: 0.3253, Class 4: 0.5653, Class 5: 0.2996, Class 6: 0.8364, \n",
      "\n",
      "Overall Mean Dice Score: 0.6731\n",
      "Overall Mean F-beta Score: 0.6522\n",
      "Overall Mean IoU Score: 0.5346\n",
      "Final_score: 0.5581\n",
      "Training Loss: 0.1729, Validation Loss: 0.1833, Validation hybrid_score: 0.5581\n",
      "Epoch 56/4000\n"
     ]
    },
    {
     "name": "stderr",
     "output_type": "stream",
     "text": [
      "Training: 100%|██████████| 120/120 [02:59<00:00,  1.50s/it, loss=0.183]\n",
      "Validation: 100%|██████████| 20/20 [00:18<00:00,  1.09it/s, loss=0.192]\n"
     ]
    },
    {
     "name": "stdout",
     "output_type": "stream",
     "text": [
      "Validation Dice Score\n",
      "Class 0: 0.9888, Class 1: 0.7725, Class 2: 0.1573, Class 3: 0.4533, Class 4: 0.7013, Class 5: 0.4882, Class 6: 0.8956, \n",
      "Validation F-beta Score\n",
      "Class 0: 0.9931, Class 1: 0.8722, Class 2: 0.1325, Class 3: 0.4037, Class 4: 0.6283, Class 5: 0.4017, Class 6: 0.8569, \n",
      "Validation mIoU Score\n",
      "Class 0: 0.9778, Class 1: 0.6298, Class 2: 0.0874, Class 3: 0.2958, Class 4: 0.5407, Class 5: 0.3241, Class 6: 0.8111, \n",
      "\n",
      "Overall Mean Dice Score: 0.6622\n",
      "Overall Mean F-beta Score: 0.6325\n",
      "Overall Mean IoU Score: 0.5203\n",
      "Final_score: 0.5428\n",
      "Training Loss: 0.1737, Validation Loss: 0.1892, Validation hybrid_score: 0.5428\n",
      "Epoch 57/4000\n"
     ]
    },
    {
     "name": "stderr",
     "output_type": "stream",
     "text": [
      "Training: 100%|██████████| 120/120 [02:57<00:00,  1.48s/it, loss=0.181]\n",
      "Validation: 100%|██████████| 20/20 [00:20<00:00,  1.01s/it, loss=0.179]\n"
     ]
    },
    {
     "name": "stdout",
     "output_type": "stream",
     "text": [
      "Validation Dice Score\n",
      "Class 0: 0.9897, Class 1: 0.7537, Class 2: 0.2069, Class 3: 0.4914, Class 4: 0.7444, Class 5: 0.4686, Class 6: 0.9029, \n",
      "Validation F-beta Score\n",
      "Class 0: 0.9928, Class 1: 0.8820, Class 2: 0.1706, Class 3: 0.5080, Class 4: 0.6989, Class 5: 0.3747, Class 6: 0.8855, \n",
      "Validation mIoU Score\n",
      "Class 0: 0.9796, Class 1: 0.6059, Class 2: 0.1183, Class 3: 0.3273, Class 4: 0.5932, Class 5: 0.3074, Class 6: 0.8234, \n",
      "\n",
      "Overall Mean Dice Score: 0.6722\n",
      "Overall Mean F-beta Score: 0.6698\n",
      "Overall Mean IoU Score: 0.5315\n",
      "Final_score: 0.5591\n",
      "Training Loss: 0.1724, Validation Loss: 0.1832, Validation hybrid_score: 0.5591\n",
      "Epoch 58/4000\n"
     ]
    },
    {
     "name": "stderr",
     "output_type": "stream",
     "text": [
      "Training: 100%|██████████| 120/120 [02:57<00:00,  1.48s/it, loss=0.174]\n",
      "Validation: 100%|██████████| 20/20 [00:20<00:00,  1.01s/it, loss=0.193]\n"
     ]
    },
    {
     "name": "stdout",
     "output_type": "stream",
     "text": [
      "Validation Dice Score\n",
      "Class 0: 0.9894, Class 1: 0.7820, Class 2: 0.1386, Class 3: 0.4968, Class 4: 0.7170, Class 5: 0.4770, Class 6: 0.9036, \n",
      "Validation F-beta Score\n",
      "Class 0: 0.9934, Class 1: 0.8728, Class 2: 0.1044, Class 3: 0.4825, Class 4: 0.6388, Class 5: 0.3924, Class 6: 0.8790, \n",
      "Validation mIoU Score\n",
      "Class 0: 0.9790, Class 1: 0.6429, Class 2: 0.0766, Class 3: 0.3316, Class 4: 0.5593, Class 5: 0.3143, Class 6: 0.8243, \n",
      "\n",
      "Overall Mean Dice Score: 0.6753\n",
      "Overall Mean F-beta Score: 0.6531\n",
      "Overall Mean IoU Score: 0.5345\n",
      "Final_score: 0.5582\n",
      "Training Loss: 0.1711, Validation Loss: 0.1843, Validation hybrid_score: 0.5582\n",
      "Epoch 59/4000\n"
     ]
    },
    {
     "name": "stderr",
     "output_type": "stream",
     "text": [
      "Training: 100%|██████████| 120/120 [02:56<00:00,  1.47s/it, loss=0.18] \n",
      "Validation: 100%|██████████| 20/20 [00:20<00:00,  1.01s/it, loss=0.191]\n"
     ]
    },
    {
     "name": "stdout",
     "output_type": "stream",
     "text": [
      "Validation Dice Score\n",
      "Class 0: 0.9894, Class 1: 0.7851, Class 2: 0.1749, Class 3: 0.4773, Class 4: 0.7130, Class 5: 0.4768, Class 6: 0.8874, \n",
      "Validation F-beta Score\n",
      "Class 0: 0.9938, Class 1: 0.8497, Class 2: 0.1346, Class 3: 0.4272, Class 4: 0.6318, Class 5: 0.3916, Class 6: 0.8395, \n",
      "Validation mIoU Score\n",
      "Class 0: 0.9790, Class 1: 0.6482, Class 2: 0.0981, Class 3: 0.3144, Class 4: 0.5551, Class 5: 0.3147, Class 6: 0.7978, \n",
      "\n",
      "Overall Mean Dice Score: 0.6679\n",
      "Overall Mean F-beta Score: 0.6279\n",
      "Overall Mean IoU Score: 0.5260\n",
      "Final_score: 0.5464\n",
      "Training Loss: 0.1724, Validation Loss: 0.1856, Validation hybrid_score: 0.5464\n",
      "Epoch 60/4000\n"
     ]
    },
    {
     "name": "stderr",
     "output_type": "stream",
     "text": [
      "Training: 100%|██████████| 120/120 [02:55<00:00,  1.46s/it, loss=0.179]\n",
      "Validation: 100%|██████████| 20/20 [00:18<00:00,  1.09it/s, loss=0.182]\n"
     ]
    },
    {
     "name": "stdout",
     "output_type": "stream",
     "text": [
      "Validation Dice Score\n",
      "Class 0: 0.9891, Class 1: 0.7867, Class 2: 0.1548, Class 3: 0.4623, Class 4: 0.7159, Class 5: 0.4780, Class 6: 0.8926, \n",
      "Validation F-beta Score\n",
      "Class 0: 0.9932, Class 1: 0.8292, Class 2: 0.1213, Class 3: 0.4640, Class 4: 0.6464, Class 5: 0.3874, Class 6: 0.8542, \n",
      "Validation mIoU Score\n",
      "Class 0: 0.9785, Class 1: 0.6495, Class 2: 0.0860, Class 3: 0.3015, Class 4: 0.5583, Class 5: 0.3158, Class 6: 0.8062, \n",
      "\n",
      "Overall Mean Dice Score: 0.6671\n",
      "Overall Mean F-beta Score: 0.6362\n",
      "Overall Mean IoU Score: 0.5262\n",
      "Final_score: 0.5482\n",
      "Training Loss: 0.1724, Validation Loss: 0.1867, Validation hybrid_score: 0.5482\n",
      "Epoch 61/4000\n"
     ]
    },
    {
     "name": "stderr",
     "output_type": "stream",
     "text": [
      "Training: 100%|██████████| 120/120 [02:56<00:00,  1.47s/it, loss=0.17] \n",
      "Validation: 100%|██████████| 20/20 [00:18<00:00,  1.08it/s, loss=0.183]\n"
     ]
    },
    {
     "name": "stdout",
     "output_type": "stream",
     "text": [
      "Validation Dice Score\n",
      "Class 0: 0.9895, Class 1: 0.7757, Class 2: 0.1696, Class 3: 0.5153, Class 4: 0.7371, Class 5: 0.4864, Class 6: 0.9035, \n",
      "Validation F-beta Score\n",
      "Class 0: 0.9934, Class 1: 0.8784, Class 2: 0.1217, Class 3: 0.4687, Class 4: 0.6769, Class 5: 0.4006, Class 6: 0.8769, \n",
      "Validation mIoU Score\n",
      "Class 0: 0.9793, Class 1: 0.6345, Class 2: 0.0939, Class 3: 0.3482, Class 4: 0.5842, Class 5: 0.3227, Class 6: 0.8242, \n",
      "\n",
      "Overall Mean Dice Score: 0.6836\n",
      "Overall Mean F-beta Score: 0.6603\n",
      "Overall Mean IoU Score: 0.5428\n",
      "Final_score: 0.5663\n",
      "Training Loss: 0.1725, Validation Loss: 0.1842, Validation hybrid_score: 0.5663\n",
      "Epoch 62/4000\n"
     ]
    },
    {
     "name": "stderr",
     "output_type": "stream",
     "text": [
      "Training: 100%|██████████| 120/120 [02:57<00:00,  1.48s/it, loss=0.179]\n",
      "Validation: 100%|██████████| 20/20 [00:18<00:00,  1.10it/s, loss=0.194]\n"
     ]
    },
    {
     "name": "stdout",
     "output_type": "stream",
     "text": [
      "Validation Dice Score\n",
      "Class 0: 0.9893, Class 1: 0.7928, Class 2: 0.1514, Class 3: 0.4384, Class 4: 0.7220, Class 5: 0.4185, Class 6: 0.9038, \n",
      "Validation F-beta Score\n",
      "Class 0: 0.9939, Class 1: 0.8554, Class 2: 0.1291, Class 3: 0.4853, Class 4: 0.6340, Class 5: 0.3160, Class 6: 0.8771, \n",
      "Validation mIoU Score\n",
      "Class 0: 0.9788, Class 1: 0.6577, Class 2: 0.0826, Class 3: 0.2823, Class 4: 0.5659, Class 5: 0.2656, Class 6: 0.8246, \n",
      "\n",
      "Overall Mean Dice Score: 0.6551\n",
      "Overall Mean F-beta Score: 0.6336\n",
      "Overall Mean IoU Score: 0.5192\n",
      "Final_score: 0.5421\n",
      "Training Loss: 0.1715, Validation Loss: 0.1880, Validation hybrid_score: 0.5421\n",
      "Epoch 63/4000\n"
     ]
    },
    {
     "name": "stderr",
     "output_type": "stream",
     "text": [
      "Training: 100%|██████████| 120/120 [02:59<00:00,  1.49s/it, loss=0.176]\n",
      "Validation: 100%|██████████| 20/20 [00:18<00:00,  1.07it/s, loss=0.181]\n"
     ]
    },
    {
     "name": "stdout",
     "output_type": "stream",
     "text": [
      "Validation Dice Score\n",
      "Class 0: 0.9894, Class 1: 0.7692, Class 2: 0.1651, Class 3: 0.4783, Class 4: 0.7341, Class 5: 0.5116, Class 6: 0.9051, \n",
      "Validation F-beta Score\n",
      "Class 0: 0.9918, Class 1: 0.8539, Class 2: 0.1312, Class 3: 0.4870, Class 4: 0.6767, Class 5: 0.4667, Class 6: 0.8766, \n",
      "Validation mIoU Score\n",
      "Class 0: 0.9789, Class 1: 0.6262, Class 2: 0.0921, Class 3: 0.3153, Class 4: 0.5806, Class 5: 0.3447, Class 6: 0.8269, \n",
      "\n",
      "Overall Mean Dice Score: 0.6797\n",
      "Overall Mean F-beta Score: 0.6722\n",
      "Overall Mean IoU Score: 0.5387\n",
      "Final_score: 0.5654\n",
      "Training Loss: 0.1723, Validation Loss: 0.1841, Validation hybrid_score: 0.5654\n",
      "Early stopping\n"
     ]
    },
    {
     "data": {
      "text/html": [],
      "text/plain": [
       "<IPython.core.display.HTML object>"
      ]
     },
     "metadata": {},
     "output_type": "display_data"
    },
    {
     "data": {
      "text/html": [
       "<br>    <style><br>        .wandb-row {<br>            display: flex;<br>            flex-direction: row;<br>            flex-wrap: wrap;<br>            justify-content: flex-start;<br>            width: 100%;<br>        }<br>        .wandb-col {<br>            display: flex;<br>            flex-direction: column;<br>            flex-basis: 100%;<br>            flex: 1;<br>            padding: 10px;<br>        }<br>    </style><br><div class=\"wandb-row\"><div class=\"wandb-col\"><h3>Run history:</h3><br/><table class=\"wandb\"><tr><td>class_0_IoU_score</td><td>▁▁▂▅▇█████████████████████████▇██▇██▇█▇█</td></tr><tr><td>class_0_dice_score</td><td>▁▂▃▄▅▆▆▆▇▆▇▇▇▇▇▇▇▇▇█▇▇▇██▇▇▇███▇████████</td></tr><tr><td>class_0_f_beta_score</td><td>██▆▄▄▄▄▄▂▄▄▄▃▃▄▄▃▅▁▂▄▃▅▄▃▃▂▄▅▄▄▅▁▂▅▄▅▄▄▃</td></tr><tr><td>class_1_IoU_score</td><td>▁▂▅▇▇█████████████████████████▇█▇███▇█▇█</td></tr><tr><td>class_1_dice_score</td><td>▁▁▁▁▁▂▃▆▇▇▇█████████████████████████████</td></tr><tr><td>class_1_f_beta_score</td><td>▁▁▁▁▁▁▄▅▆▆▇▇▇▇▇█▇███████████████████████</td></tr><tr><td>class_2_IoU_score</td><td>▁▁▂▇▇████████████████████████████████▇▇█</td></tr><tr><td>class_2_dice_score</td><td>▁▁▁▁▁▁▁▁▁▁▁▁▁▁▂▃▃▃▃▅▄▅▅▅▅▆▅▇▇▄▆▆▇▇▆▆█▆▆▇</td></tr><tr><td>class_2_f_beta_score</td><td>▁▁▁▁▁▁▁▁▁▁▁▁▁▂▂▃▂▃▃▃▄▅▄▃▄▅█▆▆▄▃▇▆▆▆▆▇▆▇▇</td></tr><tr><td>class_3_IoU_score</td><td>▁▁▂▅▇▇███████████████████████▇█▇██▇██▇██</td></tr><tr><td>class_3_dice_score</td><td>▁▁▁▃▅▆▇▇▇██▇██████████▇████████▇███▇██▇█</td></tr><tr><td>class_3_f_beta_score</td><td>▁▁▁▁▄▅▆▆▇▇▇▇▇▇▇██▇▇▇████▇▇▇▇▇▇▇▇▇▇▇▇▇▆▇▇</td></tr><tr><td>class_4_IoU_score</td><td>▁▆▇██████████████▇██████████▇▇█▇█████▇▇█</td></tr><tr><td>class_4_dice_score</td><td>▁▂▅▆▆▇▇▇▇▇▇▇▇██▇██████████████▇████▇████</td></tr><tr><td>class_4_f_beta_score</td><td>▁▂▂▃▅▆▆▇▇▇▇▇▇▇▇█▇██▇▇▇██▇▇██▇▇█▇▇▇▇█▇▇▇█</td></tr><tr><td>class_5_IoU_score</td><td>▁▁▂▇▇██████████████████████████▇█▇█▇████</td></tr><tr><td>class_5_dice_score</td><td>▁▁▄▃▅▆▇▇▇▇▇▇█▇▇██▇███▇▇▇█▇▇▇▇████▇█▇▇▇██</td></tr><tr><td>class_5_f_beta_score</td><td>▁▁▁▂▄▅▃▅▆▆▆▇▆█▇▇▇▇█▇▅█▇▇▆▇▇█▇▇▇▇▇▇█▇▇▇▇█</td></tr><tr><td>class_6_IoU_score</td><td>▁▁▂▅▇████████████████████████████▇██▇███</td></tr><tr><td>class_6_dice_score</td><td>▁▁▃▆▇███████████████████████████████████</td></tr><tr><td>class_6_f_beta_score</td><td>▁▁▅▇▇███████████████████████████▇██▇██▇█</td></tr><tr><td>epoch</td><td>▁▁▁▁▁▂▂▂▂▂▂▃▃▃▃▃▃▃▄▄▄▅▅▅▅▅▆▆▆▆▇▇▇▇▇▇▇███</td></tr><tr><td>final_score</td><td>▁▁▂▃▄▅▆▇▇▇▇█████████████████████████████</td></tr><tr><td>overall_mean_IoU_score</td><td>▁▂▃▄▄▆▆▇▇▇███▇██████████████████████████</td></tr><tr><td>overall_mean_dice_score</td><td>▁▁▂▃▄▅▅▆▇▇▇█████████████████████████████</td></tr><tr><td>overall_mean_f_beta_score</td><td>▁▁▂▄▄▅▆▆▇▇▇█▇██████▇█████▇▇███▇█████▇▇██</td></tr><tr><td>train_epoch_loss</td><td>█▅▄▄▃▃▃▂▂▂▂▂▂▂▂▂▂▂▁▁▁▁▁▁▁▁▁▁▁▁▁▁▁▁▁▁▁▁▁▁</td></tr><tr><td>val_epoch_loss</td><td>█▅▅▄▃▃▂▂▂▂▂▁▁▁▁▁▁▁▁▁▁▁▁▁▁▁▁▁▁▁▁▁▁▁▁▁▁▁▁▁</td></tr></table><br/></div><div class=\"wandb-col\"><h3>Run summary:</h3><br/><table class=\"wandb\"><tr><td>class_0_IoU_score</td><td>0.87661</td></tr><tr><td>class_0_dice_score</td><td>0.98936</td></tr><tr><td>class_0_f_beta_score</td><td>0.9918</td></tr><tr><td>class_1_IoU_score</td><td>0.87661</td></tr><tr><td>class_1_dice_score</td><td>0.76923</td></tr><tr><td>class_1_f_beta_score</td><td>0.85385</td></tr><tr><td>class_2_IoU_score</td><td>0.87661</td></tr><tr><td>class_2_dice_score</td><td>0.16506</td></tr><tr><td>class_2_f_beta_score</td><td>0.13115</td></tr><tr><td>class_3_IoU_score</td><td>0.87661</td></tr><tr><td>class_3_dice_score</td><td>0.47829</td></tr><tr><td>class_3_f_beta_score</td><td>0.48704</td></tr><tr><td>class_4_IoU_score</td><td>0.87661</td></tr><tr><td>class_4_dice_score</td><td>0.73413</td></tr><tr><td>class_4_f_beta_score</td><td>0.67672</td></tr><tr><td>class_5_IoU_score</td><td>0.87661</td></tr><tr><td>class_5_dice_score</td><td>0.5116</td></tr><tr><td>class_5_f_beta_score</td><td>0.46671</td></tr><tr><td>class_6_IoU_score</td><td>0.87661</td></tr><tr><td>class_6_dice_score</td><td>0.90513</td></tr><tr><td>class_6_f_beta_score</td><td>0.87661</td></tr><tr><td>epoch</td><td>63</td></tr><tr><td>final_score</td><td>0.56543</td></tr><tr><td>overall_mean_IoU_score</td><td>0.53875</td></tr><tr><td>overall_mean_dice_score</td><td>0.67968</td></tr><tr><td>overall_mean_f_beta_score</td><td>0.67219</td></tr><tr><td>train_epoch_loss</td><td>0.17227</td></tr><tr><td>val_epoch_loss</td><td>0.18408</td></tr></table><br/></div></div>"
      ],
      "text/plain": [
       "<IPython.core.display.HTML object>"
      ]
     },
     "metadata": {},
     "output_type": "display_data"
    },
    {
     "data": {
      "text/html": [
       " View run <strong style=\"color:#cdcd00\">CBAMbw_deno_iso_noclswt__f(32, 64, 128, 256)_d32_s96_dropr0.2_lr1e-03_a0.52_b64_r10_ce0.8_ac1</strong> at: <a href='https://wandb.ai/limbw/czii_UNet/runs/7zsn0hud' target=\"_blank\">https://wandb.ai/limbw/czii_UNet/runs/7zsn0hud</a><br> View project at: <a href='https://wandb.ai/limbw/czii_UNet' target=\"_blank\">https://wandb.ai/limbw/czii_UNet</a><br>Synced 5 W&B file(s), 0 media file(s), 0 artifact file(s) and 0 other file(s)"
      ],
      "text/plain": [
       "<IPython.core.display.HTML object>"
      ]
     },
     "metadata": {},
     "output_type": "display_data"
    },
    {
     "data": {
      "text/html": [
       "Find logs at: <code>.\\wandb\\run-20250127_192055-7zsn0hud\\logs</code>"
      ],
      "text/plain": [
       "<IPython.core.display.HTML object>"
      ]
     },
     "metadata": {},
     "output_type": "display_data"
    }
   ],
   "source": [
    "train_model(\n",
    "    model=model,\n",
    "    train_loader=train_loader,\n",
    "    val_loader=val_loader,\n",
    "    criterion=criterion,\n",
    "    optimizer=optimizer,\n",
    "    num_epochs=num_epochs,\n",
    "    patience=10,\n",
    "    device=device,\n",
    "    start_epoch=start_epoch,\n",
    "    best_val_loss=best_val_loss,\n",
    "    best_val_fbeta_score=best_val_fbeta_score,\n",
    "    calculate_dice_interval=1,\n",
    "    accumulation_steps = accumulation_steps,\n",
    "    pretrained=False\n",
    "     ) "
   ]
  },
  {
   "cell_type": "code",
   "execution_count": 12,
   "metadata": {},
   "outputs": [
    {
     "ename": "SyntaxError",
     "evalue": "invalid syntax (879943805.py, line 1)",
     "output_type": "error",
     "traceback": [
      "\u001b[1;36m  Cell \u001b[1;32mIn[12], line 1\u001b[1;36m\u001b[0m\n\u001b[1;33m    if:\u001b[0m\n\u001b[1;37m      ^\u001b[0m\n\u001b[1;31mSyntaxError\u001b[0m\u001b[1;31m:\u001b[0m invalid syntax\n"
     ]
    }
   ],
   "source": [
    "if:"
   ]
  },
  {
   "cell_type": "markdown",
   "metadata": {},
   "source": [
    "# VAl"
   ]
  },
  {
   "cell_type": "code",
   "execution_count": null,
   "metadata": {},
   "outputs": [
    {
     "data": {
      "text/html": [
       "Finishing last run (ID:fs6utwyo) before initializing another..."
      ],
      "text/plain": [
       "<IPython.core.display.HTML object>"
      ]
     },
     "metadata": {},
     "output_type": "display_data"
    },
    {
     "data": {
      "application/vnd.jupyter.widget-view+json": {
       "model_id": "29cc3ae761af43baae5aca60b5d2e7f4",
       "version_major": 2,
       "version_minor": 0
      },
      "text/plain": [
       "VBox(children=(Label(value='0.009 MB of 0.009 MB uploaded\\r'), FloatProgress(value=1.0, max=1.0)))"
      ]
     },
     "metadata": {},
     "output_type": "display_data"
    },
    {
     "data": {
      "text/html": [
       "<style>\n",
       "    table.wandb td:nth-child(1) { padding: 0 10px; text-align: left ; width: auto;} td:nth-child(2) {text-align: left ; width: 100%}\n",
       "    .wandb-row { display: flex; flex-direction: row; flex-wrap: wrap; justify-content: flex-start; width: 100% }\n",
       "    .wandb-col { display: flex; flex-direction: column; flex-basis: 100%; flex: 1; padding: 10px; }\n",
       "    </style>\n",
       "<div class=\"wandb-row\"><div class=\"wandb-col\"><h3>Run history:</h3><br/><table class=\"wandb\"><tr><td>class_0_dice_score</td><td>▁</td></tr><tr><td>class_0_f_beta_score</td><td>▁</td></tr><tr><td>class_1_dice_score</td><td>▁</td></tr><tr><td>class_1_f_beta_score</td><td>▁</td></tr><tr><td>class_2_dice_score</td><td>▁</td></tr><tr><td>class_2_f_beta_score</td><td>▁</td></tr><tr><td>class_3_dice_score</td><td>▁</td></tr><tr><td>class_3_f_beta_score</td><td>▁</td></tr><tr><td>class_4_dice_score</td><td>▁</td></tr><tr><td>class_4_f_beta_score</td><td>▁</td></tr><tr><td>class_5_dice_score</td><td>▁</td></tr><tr><td>class_5_f_beta_score</td><td>▁</td></tr><tr><td>class_6_dice_score</td><td>▁</td></tr><tr><td>class_6_f_beta_score</td><td>▁</td></tr><tr><td>epoch</td><td>▁▁▁▁▁▁▁▁▁▁▁▁▁▁▁▁</td></tr><tr><td>overall_mean_dice_score</td><td>▁</td></tr><tr><td>overall_mean_f_beta_score</td><td>▁</td></tr><tr><td>val_epoch_loss</td><td>▁</td></tr></table><br/></div><div class=\"wandb-col\"><h3>Run summary:</h3><br/><table class=\"wandb\"><tr><td>class_0_dice_score</td><td>0.65703</td></tr><tr><td>class_0_f_beta_score</td><td>0.50748</td></tr><tr><td>class_1_dice_score</td><td>0.53332</td></tr><tr><td>class_1_f_beta_score</td><td>0.64703</td></tr><tr><td>class_2_dice_score</td><td>0.00286</td></tr><tr><td>class_2_f_beta_score</td><td>0.02334</td></tr><tr><td>class_3_dice_score</td><td>0.23703</td></tr><tr><td>class_3_f_beta_score</td><td>0.23033</td></tr><tr><td>class_4_dice_score</td><td>0.65487</td></tr><tr><td>class_4_f_beta_score</td><td>0.62525</td></tr><tr><td>class_5_dice_score</td><td>0.47899</td></tr><tr><td>class_5_f_beta_score</td><td>0.51448</td></tr><tr><td>class_6_dice_score</td><td>0.42545</td></tr><tr><td>class_6_f_beta_score</td><td>0.47197</td></tr><tr><td>epoch</td><td>1</td></tr><tr><td>overall_mean_dice_score</td><td>0.42708</td></tr><tr><td>overall_mean_f_beta_score</td><td>0.43141</td></tr><tr><td>val_epoch_loss</td><td>0.7152</td></tr></table><br/></div></div>"
      ],
      "text/plain": [
       "<IPython.core.display.HTML object>"
      ]
     },
     "metadata": {},
     "output_type": "display_data"
    },
    {
     "data": {
      "text/html": [
       " View run <strong style=\"color:#cdcd00\">SwinUNETR96_96_lr0.001_lambda0.52_batch2</strong> at: <a href='https://wandb.ai/waooang/czii_SwinUnetR_val/runs/fs6utwyo' target=\"_blank\">https://wandb.ai/waooang/czii_SwinUnetR_val/runs/fs6utwyo</a><br/> View project at: <a href='https://wandb.ai/waooang/czii_SwinUnetR_val' target=\"_blank\">https://wandb.ai/waooang/czii_SwinUnetR_val</a><br/>Synced 4 W&B file(s), 0 media file(s), 3 artifact file(s) and 0 other file(s)"
      ],
      "text/plain": [
       "<IPython.core.display.HTML object>"
      ]
     },
     "metadata": {},
     "output_type": "display_data"
    },
    {
     "data": {
      "text/html": [
       "Find logs at: <code>.\\wandb\\run-20241219_200219-fs6utwyo\\logs</code>"
      ],
      "text/plain": [
       "<IPython.core.display.HTML object>"
      ]
     },
     "metadata": {},
     "output_type": "display_data"
    },
    {
     "data": {
      "text/html": [
       "Successfully finished last run (ID:fs6utwyo). Initializing new run:<br/>"
      ],
      "text/plain": [
       "<IPython.core.display.HTML object>"
      ]
     },
     "metadata": {},
     "output_type": "display_data"
    },
    {
     "data": {
      "text/html": [
       "Tracking run with wandb version 0.18.3"
      ],
      "text/plain": [
       "<IPython.core.display.HTML object>"
      ]
     },
     "metadata": {},
     "output_type": "display_data"
    },
    {
     "data": {
      "text/html": [
       "Run data is saved locally in <code>e:\\Workspace\\czll\\wandb\\run-20241219_200454-121l7bn3</code>"
      ],
      "text/plain": [
       "<IPython.core.display.HTML object>"
      ]
     },
     "metadata": {},
     "output_type": "display_data"
    },
    {
     "data": {
      "text/html": [
       "Syncing run <strong><a href='https://wandb.ai/waooang/czii_SwinUnetR_val/runs/121l7bn3' target=\"_blank\">SwinUNETR96_96_lr0.001_lambda0.52_batch2</a></strong> to <a href='https://wandb.ai/waooang/czii_SwinUnetR_val' target=\"_blank\">Weights & Biases</a> (<a href='https://wandb.me/run' target=\"_blank\">docs</a>)<br/>"
      ],
      "text/plain": [
       "<IPython.core.display.HTML object>"
      ]
     },
     "metadata": {},
     "output_type": "display_data"
    },
    {
     "data": {
      "text/html": [
       " View project at <a href='https://wandb.ai/waooang/czii_SwinUnetR_val' target=\"_blank\">https://wandb.ai/waooang/czii_SwinUnetR_val</a>"
      ],
      "text/plain": [
       "<IPython.core.display.HTML object>"
      ]
     },
     "metadata": {},
     "output_type": "display_data"
    },
    {
     "data": {
      "text/html": [
       " View run at <a href='https://wandb.ai/waooang/czii_SwinUnetR_val/runs/121l7bn3' target=\"_blank\">https://wandb.ai/waooang/czii_SwinUnetR_val/runs/121l7bn3</a>"
      ],
      "text/plain": [
       "<IPython.core.display.HTML object>"
      ]
     },
     "metadata": {},
     "output_type": "display_data"
    },
    {
     "name": "stderr",
     "output_type": "stream",
     "text": [
      "Loading dataset: 100%|██████████| 4/4 [00:06<00:00,  1.58s/it]\n",
      "C:\\Users\\Seungwoo\\AppData\\Local\\Temp\\ipykernel_21000\\1177025787.py:95: FutureWarning: You are using `torch.load` with `weights_only=False` (the current default value), which uses the default pickle module implicitly. It is possible to construct malicious pickle data which will execute arbitrary code during unpickling (See https://github.com/pytorch/pytorch/blob/main/SECURITY.md#untrusted-models for more details). In a future release, the default value for `weights_only` will be flipped to `True`. This limits the functions that could be executed during unpickling. Arbitrary objects will no longer be allowed to be loaded via this mode unless they are explicitly allowlisted by the user via `torch.serialization.add_safe_globals`. We recommend you start setting `weights_only=True` for any use case where you don't have full control of the loaded file. Please open an issue on GitHub for any issues related to this experimental feature.\n",
      "  checkpoint = torch.load(pretrain_path, map_location=device)\n",
      "Validation: 100%|██████████| 4/4 [00:01<00:00,  2.38it/s, loss=0.865]"
     ]
    },
    {
     "name": "stdout",
     "output_type": "stream",
     "text": [
      "Validation Dice Score\n",
      "Class 0: 0.6570, Class 1: 0.5333, Class 2: 0.0029, Class 3: 0.2370, \n",
      "Class 4: 0.6549, Class 5: 0.4790, Class 6: 0.4255, \n",
      "Validation F-beta Score\n",
      "Class 0: 0.5075, Class 1: 0.6470, Class 2: 0.0233, Class 3: 0.2303, \n",
      "Class 4: 0.6252, Class 5: 0.5145, Class 6: 0.4720, \n",
      "Overall Mean Dice Score: 0.4659\n",
      "Overall Mean F-beta Score: 0.4978\n",
      "\n"
     ]
    },
    {
     "name": "stderr",
     "output_type": "stream",
     "text": [
      "\n"
     ]
    },
    {
     "ename": "",
     "evalue": "",
     "output_type": "error",
     "traceback": [
      "\u001b[1;31mnotebook controller is DISPOSED. \n",
      "\u001b[1;31m자세한 내용은 Jupyter <a href='command:jupyter.viewOutput'>로그</a>를 참조하세요."
     ]
    },
    {
     "ename": "",
     "evalue": "",
     "output_type": "error",
     "traceback": [
      "\u001b[1;31mnotebook controller is DISPOSED. \n",
      "\u001b[1;31m자세한 내용은 Jupyter <a href='command:jupyter.viewOutput'>로그</a>를 참조하세요."
     ]
    }
   ],
   "source": [
    "from monai.data import DataLoader, Dataset, CacheDataset\n",
    "from monai.transforms import (\n",
    "    Compose, LoadImaged, EnsureChannelFirstd, NormalizeIntensityd,\n",
    "    Orientationd, CropForegroundd, GaussianSmoothd, ScaleIntensityd,\n",
    "    RandSpatialCropd, RandRotate90d, RandFlipd, RandGaussianNoised,\n",
    "    ToTensord, RandCropByLabelClassesd\n",
    ")\n",
    "from monai.metrics import DiceMetric\n",
    "from monai.networks.nets import UNETR, SwinUNETR\n",
    "from monai.losses import TverskyLoss\n",
    "import torch\n",
    "import numpy as np\n",
    "from tqdm import tqdm\n",
    "import wandb\n",
    "from src.dataset.dataset import make_val_dataloader\n",
    "\n",
    "val_img_dir = \"./datasets/val/images\"\n",
    "val_label_dir = \"./datasets/val/labels\"\n",
    "img_depth = 96\n",
    "img_size = 96  # Match your patch size\n",
    "n_classes = 7\n",
    "batch_size = 2 # 13.8GB GPU memory required for 128x128 img size\n",
    "num_samples = batch_size # 한 이미지에서 뽑을 샘플 수\n",
    "loader_batch = 1\n",
    "lamda = 0.52\n",
    "\n",
    "wandb.init(\n",
    "    project='czii_SwinUnetR_val',  # 프로젝트 이름 설정\n",
    "    name='SwinUNETR96_96_lr0.001_lambda0.52_batch2',         # 실행(run) 이름 설정\n",
    "    config={\n",
    "        'learning_rate': 0.001,\n",
    "        'batch_size': batch_size,\n",
    "        'lambda': lamda,\n",
    "        'img_size': img_size,\n",
    "        'device': 'cuda',\n",
    "        \"checkpoint_dir\": \"./model_checkpoints/SwinUNETR96_96_lr0.001_lambda0.52_batch2\",\n",
    "        \n",
    "    }\n",
    ")\n",
    "\n",
    "non_random_transforms = Compose([\n",
    "    EnsureChannelFirstd(keys=[\"image\", \"label\"], channel_dim=\"no_channel\"),\n",
    "    NormalizeIntensityd(keys=\"image\"),\n",
    "    Orientationd(keys=[\"image\", \"label\"], axcodes=\"RAS\"),\n",
    "    GaussianSmoothd(\n",
    "        keys=[\"image\"],      # 변환을 적용할 키\n",
    "        sigma=[1.0, 1.0, 1.0]  # 각 축(x, y, z)의 시그마 값\n",
    "        ),\n",
    "])\n",
    "random_transforms = Compose([\n",
    "    RandCropByLabelClassesd(\n",
    "        keys=[\"image\", \"label\"],\n",
    "        label_key=\"label\",\n",
    "        spatial_size=[img_depth, img_size, img_size],\n",
    "        num_classes=n_classes,\n",
    "        num_samples=num_samples, \n",
    "        ratios=ratios_list,\n",
    "    ),\n",
    "    RandRotate90d(keys=[\"image\", \"label\"], prob=0.5, spatial_axes=[1, 2]),\n",
    "    RandFlipd(keys=[\"image\", \"label\"], prob=0.5, spatial_axis=0),\n",
    "])\n",
    "\n",
    "val_loader = make_val_dataloader(\n",
    "    val_img_dir, \n",
    "    val_label_dir, \n",
    "    non_random_transforms = non_random_transforms, \n",
    "    random_transforms = random_transforms, \n",
    "    batch_size = loader_batch,\n",
    "    num_workers=0\n",
    ")\n",
    "criterion = TverskyLoss(\n",
    "    alpha= 1 - lamda,  # FP에 대한 가중치\n",
    "    beta=lamda,       # FN에 대한 가중치\n",
    "    include_background=False,  # 배경 클래스 제외\n",
    "    softmax=True\n",
    ")\n",
    "    \n",
    "    \n",
    "from monai.metrics import DiceMetric\n",
    "\n",
    "img_size = 96\n",
    "img_depth = img_size\n",
    "n_classes = 7 \n",
    "\n",
    "device = torch.device(\"cuda\" if torch.cuda.is_available() else \"cpu\")\n",
    "pretrain_path = \"./model_checkpoints/SwinUNETR96_96_lr0.001_lambda0.52_batch2/best_model.pt\"\n",
    "model = SwinUNETR(\n",
    "    img_size=(img_depth, img_size, img_size),\n",
    "    in_channels=1,\n",
    "    out_channels=n_classes,\n",
    "    feature_size=48,\n",
    "    use_checkpoint=True,\n",
    ").to(device)\n",
    "# Pretrained weights 불러오기\n",
    "checkpoint = torch.load(pretrain_path, map_location=device)\n",
    "model.load_state_dict(checkpoint['model_state_dict'])\n",
    "\n",
    "val_loss, overall_mean_fbeta_score = validate_one_epoch(\n",
    "    model=model, \n",
    "    val_loader=val_loader, \n",
    "    criterion=criterion, \n",
    "    device=device, \n",
    "    epoch=0, \n",
    "    calculate_dice_interval=1\n",
    ")"
   ]
  },
  {
   "cell_type": "markdown",
   "metadata": {},
   "source": [
    "# Inference"
   ]
  },
  {
   "cell_type": "code",
   "execution_count": null,
   "metadata": {},
   "outputs": [
    {
     "ename": "",
     "evalue": "",
     "output_type": "error",
     "traceback": [
      "\u001b[1;31mnotebook controller is DISPOSED. \n",
      "\u001b[1;31m자세한 내용은 Jupyter <a href='command:jupyter.viewOutput'>로그</a>를 참조하세요."
     ]
    },
    {
     "ename": "",
     "evalue": "",
     "output_type": "error",
     "traceback": [
      "\u001b[1;31mnotebook controller is DISPOSED. \n",
      "\u001b[1;31m자세한 내용은 Jupyter <a href='command:jupyter.viewOutput'>로그</a>를 참조하세요."
     ]
    }
   ],
   "source": [
    "from src.dataset.preprocessing import Preprocessor"
   ]
  },
  {
   "cell_type": "code",
   "execution_count": null,
   "metadata": {},
   "outputs": [
    {
     "name": "stdout",
     "output_type": "stream",
     "text": [
      "Done.\n"
     ]
    },
    {
     "ename": "",
     "evalue": "",
     "output_type": "error",
     "traceback": [
      "\u001b[1;31mnotebook controller is DISPOSED. \n",
      "\u001b[1;31m자세한 내용은 Jupyter <a href='command:jupyter.viewOutput'>로그</a>를 참조하세요."
     ]
    },
    {
     "ename": "",
     "evalue": "",
     "output_type": "error",
     "traceback": [
      "\u001b[1;31mnotebook controller is DISPOSED. \n",
      "\u001b[1;31m자세한 내용은 Jupyter <a href='command:jupyter.viewOutput'>로그</a>를 참조하세요."
     ]
    }
   ],
   "source": [
    "from monai.inferers import sliding_window_inference\n",
    "from monai.transforms import Compose, EnsureChannelFirstd, NormalizeIntensityd, Orientationd, GaussianSmoothd\n",
    "from monai.data import DataLoader, Dataset, CacheDataset\n",
    "from monai.networks.nets import SwinUNETR\n",
    "from pathlib import Path\n",
    "import numpy as np\n",
    "import copick\n",
    "\n",
    "import torch\n",
    "print(\"Done.\")"
   ]
  },
  {
   "cell_type": "code",
   "execution_count": null,
   "metadata": {},
   "outputs": [
    {
     "name": "stdout",
     "output_type": "stream",
     "text": [
      "Config file written to ./kaggle/working/copick.config\n",
      "file length: 7\n"
     ]
    },
    {
     "ename": "",
     "evalue": "",
     "output_type": "error",
     "traceback": [
      "\u001b[1;31mnotebook controller is DISPOSED. \n",
      "\u001b[1;31m자세한 내용은 Jupyter <a href='command:jupyter.viewOutput'>로그</a>를 참조하세요."
     ]
    },
    {
     "ename": "",
     "evalue": "",
     "output_type": "error",
     "traceback": [
      "\u001b[1;31mnotebook controller is DISPOSED. \n",
      "\u001b[1;31m자세한 내용은 Jupyter <a href='command:jupyter.viewOutput'>로그</a>를 참조하세요."
     ]
    }
   ],
   "source": [
    "config_blob = \"\"\"{\n",
    "    \"name\": \"czii_cryoet_mlchallenge_2024\",\n",
    "    \"description\": \"2024 CZII CryoET ML Challenge training data.\",\n",
    "    \"version\": \"1.0.0\",\n",
    "\n",
    "    \"pickable_objects\": [\n",
    "        {\n",
    "            \"name\": \"apo-ferritin\",\n",
    "            \"is_particle\": true,\n",
    "            \"pdb_id\": \"4V1W\",\n",
    "            \"label\": 1,\n",
    "            \"color\": [  0, 117, 220, 128],\n",
    "            \"radius\": 60,\n",
    "            \"map_threshold\": 0.0418\n",
    "        },\n",
    "        {\n",
    "          \"name\" : \"beta-amylase\",\n",
    "            \"is_particle\": true,\n",
    "            \"pdb_id\": \"8ZRZ\",\n",
    "            \"label\": 2,\n",
    "            \"color\": [255, 255, 255, 128],\n",
    "            \"radius\": 90,\n",
    "            \"map_threshold\": 0.0578  \n",
    "        },\n",
    "        {\n",
    "            \"name\": \"beta-galactosidase\",\n",
    "            \"is_particle\": true,\n",
    "            \"pdb_id\": \"6X1Q\",\n",
    "            \"label\": 3,\n",
    "            \"color\": [ 76,   0,  92, 128],\n",
    "            \"radius\": 90,\n",
    "            \"map_threshold\": 0.0578\n",
    "        },\n",
    "        {\n",
    "            \"name\": \"ribosome\",\n",
    "            \"is_particle\": true,\n",
    "            \"pdb_id\": \"6EK0\",\n",
    "            \"label\": 4,\n",
    "            \"color\": [  0,  92,  49, 128],\n",
    "            \"radius\": 150,\n",
    "            \"map_threshold\": 0.0374\n",
    "        },\n",
    "        {\n",
    "            \"name\": \"thyroglobulin\",\n",
    "            \"is_particle\": true,\n",
    "            \"pdb_id\": \"6SCJ\",\n",
    "            \"label\": 5,\n",
    "            \"color\": [ 43, 206,  72, 128],\n",
    "            \"radius\": 130,\n",
    "            \"map_threshold\": 0.0278\n",
    "        },\n",
    "        {\n",
    "            \"name\": \"virus-like-particle\",\n",
    "            \"is_particle\": true,\n",
    "            \"label\": 6,\n",
    "            \"color\": [255, 204, 153, 128],\n",
    "            \"radius\": 135,\n",
    "            \"map_threshold\": 0.201\n",
    "        },\n",
    "        {\n",
    "            \"name\": \"membrane\",\n",
    "            \"is_particle\": false,\n",
    "            \"label\": 8,\n",
    "            \"color\": [100, 100, 100, 128]\n",
    "        },\n",
    "        {\n",
    "            \"name\": \"background\",\n",
    "            \"is_particle\": false,\n",
    "            \"label\": 9,\n",
    "            \"color\": [10, 150, 200, 128]\n",
    "        }\n",
    "    ],\n",
    "\n",
    "    \"overlay_root\": \"./kaggle/working/overlay\",\n",
    "\n",
    "    \"overlay_fs_args\": {\n",
    "        \"auto_mkdir\": true\n",
    "    },\n",
    "\n",
    "    \"static_root\": \"./kaggle/input/czii-cryo-et-object-identification/test/static\"\n",
    "}\"\"\"\n",
    "\n",
    "copick_config_path = \"./kaggle/working/copick.config\"\n",
    "preprocessor = Preprocessor(config_blob,copick_config_path=copick_config_path)\n",
    "non_random_transforms = Compose([\n",
    "    EnsureChannelFirstd(keys=[\"image\"], channel_dim=\"no_channel\"),\n",
    "    NormalizeIntensityd(keys=\"image\"),\n",
    "    Orientationd(keys=[\"image\"], axcodes=\"RAS\"),\n",
    "    GaussianSmoothd(\n",
    "        keys=[\"image\"],      # 변환을 적용할 키\n",
    "        sigma=[1.0, 1.0, 1.0]  # 각 축(x, y, z)의 시그마 값\n",
    "        ),\n",
    "    ])"
   ]
  },
  {
   "cell_type": "code",
   "execution_count": null,
   "metadata": {},
   "outputs": [
    {
     "name": "stderr",
     "output_type": "stream",
     "text": [
      "c:\\ProgramData\\anaconda3\\envs\\ship\\Lib\\site-packages\\monai\\utils\\deprecate_utils.py:221: FutureWarning: monai.networks.nets.swin_unetr SwinUNETR.__init__:img_size: Argument `img_size` has been deprecated since version 1.3. It will be removed in version 1.5. The img_size argument is not required anymore and checks on the input size are run during forward().\n",
      "  warn_deprecated(argname, msg, warning_category)\n",
      "C:\\Users\\Seungwoo\\AppData\\Local\\Temp\\ipykernel_6248\\2937359115.py:15: FutureWarning: You are using `torch.load` with `weights_only=False` (the current default value), which uses the default pickle module implicitly. It is possible to construct malicious pickle data which will execute arbitrary code during unpickling (See https://github.com/pytorch/pytorch/blob/main/SECURITY.md#untrusted-models for more details). In a future release, the default value for `weights_only` will be flipped to `True`. This limits the functions that could be executed during unpickling. Arbitrary objects will no longer be allowed to be loaded via this mode unless they are explicitly allowlisted by the user via `torch.serialization.add_safe_globals`. We recommend you start setting `weights_only=True` for any use case where you don't have full control of the loaded file. Please open an issue on GitHub for any issues related to this experimental feature.\n",
      "  checkpoint = torch.load(pretrain_path, map_location=device)\n"
     ]
    },
    {
     "data": {
      "text/plain": [
       "<All keys matched successfully>"
      ]
     },
     "execution_count": 15,
     "metadata": {},
     "output_type": "execute_result"
    },
    {
     "ename": "",
     "evalue": "",
     "output_type": "error",
     "traceback": [
      "\u001b[1;31mnotebook controller is DISPOSED. \n",
      "\u001b[1;31m자세한 내용은 Jupyter <a href='command:jupyter.viewOutput'>로그</a>를 참조하세요."
     ]
    },
    {
     "ename": "",
     "evalue": "",
     "output_type": "error",
     "traceback": [
      "\u001b[1;31mnotebook controller is DISPOSED. \n",
      "\u001b[1;31m자세한 내용은 Jupyter <a href='command:jupyter.viewOutput'>로그</a>를 참조하세요."
     ]
    }
   ],
   "source": [
    "img_size = 96\n",
    "img_depth = img_size\n",
    "n_classes = 7 \n",
    "\n",
    "device = torch.device(\"cuda\" if torch.cuda.is_available() else \"cpu\")\n",
    "pretrain_path = \"./model_checkpoints/SwinUNETR96_96_lr0.001_lambda0.52_batch2/best_model.pt\"\n",
    "model = SwinUNETR(\n",
    "    img_size=(img_depth, img_size, img_size),\n",
    "    in_channels=1,\n",
    "    out_channels=n_classes,\n",
    "    feature_size=48,\n",
    "    use_checkpoint=True,\n",
    ").to(device)\n",
    "# Pretrained weights 불러오기\n",
    "checkpoint = torch.load(pretrain_path, map_location=device)\n",
    "model.load_state_dict(checkpoint['model_state_dict'])\n"
   ]
  },
  {
   "cell_type": "code",
   "execution_count": null,
   "metadata": {},
   "outputs": [
    {
     "name": "stderr",
     "output_type": "stream",
     "text": [
      "Validation:   0%|          | 0/4 [00:03<?, ?it/s, loss=0.764]\n"
     ]
    },
    {
     "ename": "ZeroDivisionError",
     "evalue": "integer modulo by zero",
     "output_type": "error",
     "traceback": [
      "\u001b[1;31m---------------------------------------------------------------------------\u001b[0m",
      "\u001b[1;31mZeroDivisionError\u001b[0m                         Traceback (most recent call last)",
      "Cell \u001b[1;32mIn[16], line 1\u001b[0m\n\u001b[1;32m----> 1\u001b[0m val_loss \u001b[38;5;241m=\u001b[39m \u001b[43mvalidate_one_epoch\u001b[49m\u001b[43m(\u001b[49m\n\u001b[0;32m      2\u001b[0m \u001b[43m            \u001b[49m\u001b[43mmodel\u001b[49m\u001b[38;5;241;43m=\u001b[39;49m\u001b[43mmodel\u001b[49m\u001b[43m,\u001b[49m\u001b[43m \u001b[49m\n\u001b[0;32m      3\u001b[0m \u001b[43m            \u001b[49m\u001b[43mval_loader\u001b[49m\u001b[38;5;241;43m=\u001b[39;49m\u001b[43mval_loader\u001b[49m\u001b[43m,\u001b[49m\u001b[43m \u001b[49m\n\u001b[0;32m      4\u001b[0m \u001b[43m            \u001b[49m\u001b[43mcriterion\u001b[49m\u001b[38;5;241;43m=\u001b[39;49m\u001b[43mcriterion\u001b[49m\u001b[43m,\u001b[49m\u001b[43m \u001b[49m\n\u001b[0;32m      5\u001b[0m \u001b[43m            \u001b[49m\u001b[43mdevice\u001b[49m\u001b[38;5;241;43m=\u001b[39;49m\u001b[43mdevice\u001b[49m\u001b[43m,\u001b[49m\u001b[43m \u001b[49m\n\u001b[0;32m      6\u001b[0m \u001b[43m            \u001b[49m\u001b[43mepoch\u001b[49m\u001b[38;5;241;43m=\u001b[39;49m\u001b[38;5;241;43m1\u001b[39;49m\u001b[43m,\u001b[49m\u001b[43m \u001b[49m\n\u001b[0;32m      7\u001b[0m \u001b[43m            \u001b[49m\u001b[43mcalculate_dice_interval\u001b[49m\u001b[38;5;241;43m=\u001b[39;49m\u001b[38;5;241;43m0\u001b[39;49m\n\u001b[0;32m      8\u001b[0m \u001b[43m        \u001b[49m\u001b[43m)\u001b[49m\n",
      "Cell \u001b[1;32mIn[11], line 64\u001b[0m, in \u001b[0;36mvalidate_one_epoch\u001b[1;34m(model, val_loader, criterion, device, epoch, calculate_dice_interval)\u001b[0m\n\u001b[0;32m     61\u001b[0m pbar\u001b[38;5;241m.\u001b[39mset_postfix(loss\u001b[38;5;241m=\u001b[39mloss\u001b[38;5;241m.\u001b[39mitem())\n\u001b[0;32m     63\u001b[0m \u001b[38;5;66;03m# 각 클래스별 Dice 점수 계산\u001b[39;00m\n\u001b[1;32m---> 64\u001b[0m \u001b[38;5;28;01mif\u001b[39;00m \u001b[43mepoch\u001b[49m\u001b[43m \u001b[49m\u001b[38;5;241;43m%\u001b[39;49m\u001b[43m \u001b[49m\u001b[43mcalculate_dice_interval\u001b[49m \u001b[38;5;241m==\u001b[39m \u001b[38;5;241m0\u001b[39m:\n\u001b[0;32m     65\u001b[0m     \u001b[38;5;28;01mfor\u001b[39;00m i \u001b[38;5;129;01min\u001b[39;00m \u001b[38;5;28mrange\u001b[39m(n_classes):\n\u001b[0;32m     66\u001b[0m         pred_i \u001b[38;5;241m=\u001b[39m (preds \u001b[38;5;241m==\u001b[39m i)\n",
      "\u001b[1;31mZeroDivisionError\u001b[0m: integer modulo by zero"
     ]
    },
    {
     "ename": "",
     "evalue": "",
     "output_type": "error",
     "traceback": [
      "\u001b[1;31mnotebook controller is DISPOSED. \n",
      "\u001b[1;31m자세한 내용은 Jupyter <a href='command:jupyter.viewOutput'>로그</a>를 참조하세요."
     ]
    },
    {
     "ename": "",
     "evalue": "",
     "output_type": "error",
     "traceback": [
      "\u001b[1;31mnotebook controller is DISPOSED. \n",
      "\u001b[1;31m자세한 내용은 Jupyter <a href='command:jupyter.viewOutput'>로그</a>를 참조하세요."
     ]
    }
   ],
   "source": [
    "val_loss = validate_one_epoch(\n",
    "            model=model, \n",
    "            val_loader=val_loader, \n",
    "            criterion=criterion, \n",
    "            device=device, \n",
    "            epoch=1, \n",
    "            calculate_dice_interval=0\n",
    "        )"
   ]
  },
  {
   "cell_type": "code",
   "execution_count": null,
   "metadata": {},
   "outputs": [
    {
     "name": "stdout",
     "output_type": "stream",
     "text": [
      "Processing volume 1/7\n"
     ]
    },
    {
     "name": "stderr",
     "output_type": "stream",
     "text": [
      "Loading dataset: 100%|██████████| 1/1 [00:01<00:00,  1.94s/it]\n"
     ]
    },
    {
     "name": "stdout",
     "output_type": "stream",
     "text": [
      "Processing volume 2/7\n"
     ]
    },
    {
     "name": "stderr",
     "output_type": "stream",
     "text": [
      "Loading dataset: 100%|██████████| 1/1 [00:01<00:00,  1.89s/it]\n"
     ]
    },
    {
     "name": "stdout",
     "output_type": "stream",
     "text": [
      "Processing volume 3/7\n"
     ]
    },
    {
     "name": "stderr",
     "output_type": "stream",
     "text": [
      "Loading dataset: 100%|██████████| 1/1 [00:01<00:00,  1.79s/it]\n"
     ]
    },
    {
     "name": "stdout",
     "output_type": "stream",
     "text": [
      "Submission saved to: submission.csv\n"
     ]
    },
    {
     "ename": "",
     "evalue": "",
     "output_type": "error",
     "traceback": [
      "\u001b[1;31mnotebook controller is DISPOSED. \n",
      "\u001b[1;31m자세한 내용은 Jupyter <a href='command:jupyter.viewOutput'>로그</a>를 참조하세요."
     ]
    },
    {
     "ename": "",
     "evalue": "",
     "output_type": "error",
     "traceback": [
      "\u001b[1;31mnotebook controller is DISPOSED. \n",
      "\u001b[1;31m자세한 내용은 Jupyter <a href='command:jupyter.viewOutput'>로그</a>를 참조하세요."
     ]
    }
   ],
   "source": [
    "import torch\n",
    "import numpy as np\n",
    "from scipy.ndimage import label, center_of_mass\n",
    "import pandas as pd\n",
    "from tqdm import tqdm\n",
    "from monai.data import CacheDataset, DataLoader\n",
    "from monai.transforms import Compose, NormalizeIntensity\n",
    "import cc3d\n",
    "\n",
    "def dict_to_df(coord_dict, experiment_name):\n",
    "    all_coords = []\n",
    "    all_labels = []\n",
    "    \n",
    "    for label, coords in coord_dict.items():\n",
    "        all_coords.append(coords)\n",
    "        all_labels.extend([label] * len(coords))\n",
    "    \n",
    "    all_coords = np.vstack(all_coords)\n",
    "    df = pd.DataFrame({\n",
    "        'experiment': experiment_name,\n",
    "        'particle_type': all_labels,\n",
    "        'x': all_coords[:, 0],\n",
    "        'y': all_coords[:, 1],\n",
    "        'z': all_coords[:, 2]\n",
    "    })\n",
    "    return df\n",
    "\n",
    "id_to_name = {1: \"apo-ferritin\", \n",
    "              2: \"beta-amylase\",\n",
    "              3: \"beta-galactosidase\", \n",
    "              4: \"ribosome\", \n",
    "              5: \"thyroglobulin\", \n",
    "              6: \"virus-like-particle\"}\n",
    "BLOB_THRESHOLD = 200\n",
    "CERTAINTY_THRESHOLD = 0.05\n",
    "\n",
    "classes = [1, 2, 3, 4, 5, 6]\n",
    "\n",
    "model.eval()\n",
    "with torch.no_grad():\n",
    "    location_dfs = []  # DataFrame 리스트로 초기화\n",
    "    \n",
    "    for vol_idx, run in enumerate(preprocessor.root.runs):\n",
    "        print(f\"Processing volume {vol_idx + 1}/{len(preprocessor.root.runs)}\")\n",
    "        tomogram = preprocessor.processing(run=run, task=\"task\")\n",
    "        task_files = [{\"image\": tomogram}]\n",
    "        task_ds = CacheDataset(data=task_files, transform=non_random_transforms)\n",
    "        task_loader = DataLoader(task_ds, batch_size=1, num_workers=0)\n",
    "        \n",
    "        for task_data in task_loader:\n",
    "            images = task_data['image'].to(\"cuda\")\n",
    "            outputs = sliding_window_inference(\n",
    "                inputs=images,\n",
    "                roi_size=(96, 96, 96),  # ROI 크기\n",
    "                sw_batch_size=4,\n",
    "                predictor=model.forward,\n",
    "                overlap=0.1,\n",
    "                sw_device=\"cuda\",\n",
    "                device=\"cpu\",\n",
    "                buffer_steps=1,\n",
    "                buffer_dim=-1\n",
    "            )\n",
    "            outputs = outputs.argmax(dim=1).squeeze(0).cpu().numpy()  # 클래스 채널 예측\n",
    "            location = {}  # 좌표 저장용 딕셔너리\n",
    "            for c in classes:\n",
    "                cc = cc3d.connected_components(outputs == c)  # cc3d 라벨링\n",
    "                stats = cc3d.statistics(cc)\n",
    "                zyx = stats['centroids'][1:] * 10.012444  # 스케일 변환\n",
    "                zyx_large = zyx[stats['voxel_counts'][1:] > BLOB_THRESHOLD]  # 크기 필터링\n",
    "                xyz = np.ascontiguousarray(zyx_large[:, ::-1])  # 좌표 스왑 (z, y, x -> x, y, z)\n",
    "\n",
    "                location[id_to_name[c]] = xyz  # ID 이름 매칭 저장\n",
    "\n",
    "            # 데이터프레임 변환\n",
    "            df = dict_to_df(location, run.name)\n",
    "            location_dfs.append(df)  # 리스트에 추가\n",
    "        \n",
    "        # if vol_idx == 2:\n",
    "        #     break\n",
    "    \n",
    "    # DataFrame 병합\n",
    "    final_df = pd.concat(location_dfs, ignore_index=True)\n",
    "    \n",
    "    # ID 추가 및 CSV 저장\n",
    "    final_df.insert(loc=0, column='id', value=np.arange(len(final_df)))\n",
    "    final_df.to_csv(\"submission.csv\", index=False)\n",
    "    print(\"Submission saved to: submission.csv\")\n"
   ]
  }
 ],
 "metadata": {
  "kernelspec": {
   "display_name": "UM",
   "language": "python",
   "name": "python3"
  },
  "language_info": {
   "codemirror_mode": {
    "name": "ipython",
    "version": 3
   },
   "file_extension": ".py",
   "mimetype": "text/x-python",
   "name": "python",
   "nbconvert_exporter": "python",
   "pygments_lexer": "ipython3",
   "version": "3.12.7"
  }
 },
 "nbformat": 4,
 "nbformat_minor": 2
}
