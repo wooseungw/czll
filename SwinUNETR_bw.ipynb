{
 "cells": [
  {
   "cell_type": "code",
   "execution_count": 1,
   "metadata": {},
   "outputs": [
    {
     "name": "stderr",
     "output_type": "stream",
     "text": [
      "c:\\Users\\pook0\\.conda\\envs\\UM\\Lib\\site-packages\\tqdm\\auto.py:21: TqdmWarning: IProgress not found. Please update jupyter and ipywidgets. See https://ipywidgets.readthedocs.io/en/stable/user_install.html\n",
      "  from .autonotebook import tqdm as notebook_tqdm\n"
     ]
    },
    {
     "name": "stdout",
     "output_type": "stream",
     "text": [
      "MONAI version: 1.4.0\n",
      "Numpy version: 1.26.4\n",
      "Pytorch version: 2.4.1+cu121\n",
      "MONAI flags: HAS_EXT = False, USE_COMPILED = False, USE_META_DICT = False\n",
      "MONAI rev id: 46a5272196a6c2590ca2589029eed8e4d56ff008\n",
      "MONAI __file__: c:\\Users\\<username>\\.conda\\envs\\UM\\Lib\\site-packages\\monai\\__init__.py\n",
      "\n",
      "Optional dependencies:\n",
      "Pytorch Ignite version: NOT INSTALLED or UNKNOWN VERSION.\n",
      "ITK version: NOT INSTALLED or UNKNOWN VERSION.\n",
      "Nibabel version: 5.3.2\n",
      "scikit-image version: 0.24.0\n",
      "scipy version: 1.14.1\n",
      "Pillow version: 10.2.0\n",
      "Tensorboard version: 2.18.0\n",
      "gdown version: 5.2.0\n",
      "TorchVision version: 0.19.1+cu121\n",
      "tqdm version: 4.66.5\n",
      "lmdb version: NOT INSTALLED or UNKNOWN VERSION.\n",
      "psutil version: 6.0.0\n",
      "pandas version: 2.2.3\n",
      "einops version: 0.8.0\n",
      "transformers version: NOT INSTALLED or UNKNOWN VERSION.\n",
      "mlflow version: 2.17.2\n",
      "pynrrd version: NOT INSTALLED or UNKNOWN VERSION.\n",
      "clearml version: NOT INSTALLED or UNKNOWN VERSION.\n",
      "\n",
      "For details about installing the optional dependencies, please visit:\n",
      "    https://docs.monai.io/en/latest/installation.html#installing-the-recommended-dependencies\n",
      "\n"
     ]
    }
   ],
   "source": [
    "import os\n",
    "import shutil\n",
    "import tempfile\n",
    "\n",
    "import matplotlib.pyplot as plt\n",
    "from tqdm import tqdm\n",
    "\n",
    "from monai.losses import DiceCELoss\n",
    "from monai.inferers import sliding_window_inference\n",
    "from monai.transforms import (\n",
    "    AsDiscrete,\n",
    "    EnsureChannelFirstd,\n",
    "    Compose,\n",
    "    CropForegroundd,\n",
    "    LoadImaged,\n",
    "    Orientationd,\n",
    "    RandFlipd,\n",
    "    RandCropByPosNegLabeld,\n",
    "    RandShiftIntensityd,\n",
    "    ScaleIntensityRanged,\n",
    "    Spacingd,\n",
    "    RandRotate90d,\n",
    ")\n",
    "\n",
    "from monai.config import print_config\n",
    "from monai.metrics import DiceMetric\n",
    "from monai.networks.nets import UNETR, SwinUNETR\n",
    "\n",
    "from monai.data import (\n",
    "    DataLoader,\n",
    "    CacheDataset,\n",
    "    load_decathlon_datalist,\n",
    "    decollate_batch,\n",
    ")\n",
    "\n",
    "\n",
    "import torch\n",
    "\n",
    "print_config()"
   ]
  },
  {
   "cell_type": "code",
   "execution_count": 2,
   "metadata": {},
   "outputs": [],
   "source": [
    "# class_info = {\n",
    "#     0: {\"name\": \"background\", \"weight\": 10000},  # weight 없음\n",
    "#     1: {\"name\": \"apo-ferritin\", \"weight\": 300},\n",
    "#     2: {\"name\": \"beta-amylase\", \"weight\": 100}, # 4130\n",
    "#     3: {\"name\": \"beta-galactosidase\", \"weight\": 150}, #3080\n",
    "#     4: {\"name\": \"ribosome\", \"weight\": 6000},\n",
    "#     5: {\"name\": \"thyroglobulin\", \"weight\": 4000},\n",
    "#     6: {\"name\": \"virus-like-particle\", \"weight\": 2000},\n",
    "# }\n",
    "\n",
    "# # 가중치에 비례한 비율 계산\n",
    "# raw_ratios = {\n",
    "#     k: (v[\"weight\"] if v[\"weight\"] is not None else 0.01)  # 가중치 비례, None일 경우 기본값\n",
    "#     for k, v in class_info.items()\n",
    "# }\n",
    "# total = sum(raw_ratios.values())\n",
    "# ratios = {k: v / total for k, v in raw_ratios.items()}\n",
    "\n",
    "# # 최종 합계가 1인지 확인\n",
    "# final_total = sum(ratios.values())\n",
    "# print(\"클래스 비율:\", ratios)\n",
    "# print(\"최종 합계:\", final_total)\n",
    "\n",
    "# # 비율을 리스트로 변환\n",
    "# ratios_list = [ratios[k] for k in sorted(ratios.keys())]\n",
    "# print(\"클래스 비율 리스트:\", ratios_list)"
   ]
  },
  {
   "cell_type": "code",
   "execution_count": 3,
   "metadata": {},
   "outputs": [
    {
     "name": "stdout",
     "output_type": "stream",
     "text": [
      "클래스 비율: {0: 0.0, 1: 0.14084507042253522, 2: 0.014084507042253521, 3: 0.28169014084507044, 4: 0.14084507042253522, 5: 0.28169014084507044, 6: 0.14084507042253522}\n",
      "최종 합계: 1.0\n",
      "클래스 비율 리스트: [0.0, 0.14084507042253522, 0.014084507042253521, 0.28169014084507044, 0.14084507042253522, 0.28169014084507044, 0.14084507042253522]\n"
     ]
    }
   ],
   "source": [
    "class_info = {\n",
    "    0: {\"name\": \"background\", \"weight\": 0},  # weight 없음\n",
    "    1: {\"name\": \"apo-ferritin\", \"weight\": 1000},\n",
    "    2: {\"name\": \"beta-amylase\", \"weight\": 100}, # 4130\n",
    "    3: {\"name\": \"beta-galactosidase\", \"weight\": 2000}, #3080\n",
    "    4: {\"name\": \"ribosome\", \"weight\": 1000},\n",
    "    5: {\"name\": \"thyroglobulin\", \"weight\": 2000},\n",
    "    6: {\"name\": \"virus-like-particle\", \"weight\": 1000},\n",
    "}\n",
    "\n",
    "# 가중치에 비례한 비율 계산\n",
    "raw_ratios = {\n",
    "    k: (v[\"weight\"] if v[\"weight\"] is not None else 0.01)  # 가중치 비례, None일 경우 기본값a\n",
    "    for k, v in class_info.items()\n",
    "}\n",
    "total = sum(raw_ratios.values())\n",
    "ratios = {k: v / total for k, v in raw_ratios.items()}\n",
    "\n",
    "# 최종 합계가 1인지 확인\n",
    "final_total = sum(ratios.values())\n",
    "print(\"클래스 비율:\", ratios)\n",
    "print(\"최종 합계:\", final_total)\n",
    "\n",
    "# 비율을 리스트로 변환\n",
    "ratios_list = [ratios[k] for k in sorted(ratios.keys())]\n",
    "print(\"클래스 비율 리스트:\", ratios_list)"
   ]
  },
  {
   "cell_type": "code",
   "execution_count": 4,
   "metadata": {},
   "outputs": [],
   "source": [
    "from src.dataset.dataset import create_dataloaders\n",
    "import numpy as np\n",
    "from monai.transforms import (\n",
    "    Compose, LoadImaged, EnsureChannelFirstd, NormalizeIntensityd,\n",
    "    Orientationd, CropForegroundd, GaussianSmoothd, ScaleIntensityd,\n",
    "    RandSpatialCropd, RandRotate90d, RandFlipd, RandGaussianNoised,\n",
    "    ToTensord, RandCropByLabelClassesd, CastToTyped,\n",
    ")\n",
    "\n",
    "train_img_dir = \"./datasets/train/images\"\n",
    "train_label_dir = \"./datasets/train/labels\"\n",
    "val_img_dir = \"./datasets/val/images\"\n",
    "val_label_dir = \"./datasets/val/labels\"\n",
    "# DATA CONFIG\n",
    "img_depth = 96\n",
    "img_size =  96 # Match your patch size\n",
    "n_classes = 7\n",
    "batch_size = 2 # 13.8GB GPU memory required for 128x128 img size\n",
    "num_samples = batch_size # 한 이미지에서 뽑을 샘플 수\n",
    "loader_batch = 1\n",
    "# MODEL CONFIG\n",
    "num_epochs = 4000\n",
    "lamda = 0.52\n",
    "lr = 0.001\n",
    "feature_size = 48\n",
    "use_checkpoint = True\n",
    "use_v2 = True\n",
    "drop_rate= 0.25\n",
    "attn_drop_rate = 0.25\n",
    "# CLASS_WEIGHTS\n",
    "class_weights = None\n",
    "class_weights = torch.tensor([0.001, 1, 0.001, 1.1, 1, 1.1, 1], dtype=torch.float32)  # 클래스별 가중치\n",
    "\n",
    "accumulation_steps = 4\n",
    "# INIT\n",
    "start_epoch = 0\n",
    "best_val_loss = float('inf')\n",
    "best_val_fbeta_score = 0\n",
    "\n",
    "non_random_transforms = Compose([\n",
    "    EnsureChannelFirstd(keys=[\"image\", \"label\"], channel_dim=\"no_channel\"),\n",
    "    NormalizeIntensityd(keys=\"image\"),\n",
    "    Orientationd(keys=[\"image\", \"label\"], axcodes=\"RAS\"),\n",
    "    # CastToTyped(keys=[\"image\"], dtype=np.float16),\n",
    "    GaussianSmoothd(\n",
    "        keys=[\"image\"],      # 변환을 적용할 키\n",
    "        sigma=[1.0, 1.0, 1.0]  # 각 축(x, y, z)의 시그마 값\n",
    "        ),\n",
    "])\n",
    "random_transforms = Compose([\n",
    "    RandCropByLabelClassesd(\n",
    "        keys=[\"image\", \"label\"],\n",
    "        label_key=\"label\",\n",
    "        spatial_size=[img_depth, img_size, img_size],\n",
    "        num_classes=n_classes,\n",
    "        num_samples=num_samples, \n",
    "        ratios=ratios_list,\n",
    "    ),\n",
    "    RandRotate90d(keys=[\"image\", \"label\"], prob=0.5, spatial_axes=[1, 2]),\n",
    "    RandFlipd(keys=[\"image\", \"label\"], prob=0.5, spatial_axis=0),\n",
    "    RandFlipd(keys=[\"image\", \"label\"], prob=0.5, spatial_axis=1),\n",
    "    RandFlipd(keys=[\"image\", \"label\"], prob=0.5, spatial_axis=2),\n",
    "])\n"
   ]
  },
  {
   "cell_type": "code",
   "execution_count": 5,
   "metadata": {},
   "outputs": [
    {
     "name": "stderr",
     "output_type": "stream",
     "text": [
      "Loading dataset: 100%|██████████| 24/24 [00:42<00:00,  1.77s/it]\n",
      "Loading dataset: 100%|██████████| 4/4 [00:06<00:00,  1.72s/it]\n"
     ]
    }
   ],
   "source": [
    "train_loader, val_loader = None, None\n",
    "train_loader, val_loader = create_dataloaders(\n",
    "    train_img_dir, \n",
    "    train_label_dir, \n",
    "    val_img_dir, \n",
    "    val_label_dir, \n",
    "    non_random_transforms = non_random_transforms, \n",
    "    random_transforms = random_transforms, \n",
    "    batch_size = loader_batch,\n",
    "    num_workers=0)"
   ]
  },
  {
   "cell_type": "markdown",
   "metadata": {},
   "source": [
    "https://monai.io/model-zoo.html"
   ]
  },
  {
   "cell_type": "code",
   "execution_count": 6,
   "metadata": {},
   "outputs": [],
   "source": [
    "from monai.losses import TverskyLoss\n",
    "import torch\n",
    "\n",
    "def loss_fn(loss, class_weights, device):\n",
    "    \"\"\"\n",
    "    Tversky 손실에 클래스별 가중치를 적용하여 최종 스칼라 값을 반환합니다.\n",
    "\n",
    "    Args:\n",
    "        loss: Tversky 손실 텐서 (B, num_classes, H, W, D).\n",
    "        class_weights: 클래스별 가중치 텐서 (num_classes,).\n",
    "        device: 사용할 장치 (예: 'cuda' 또는 'cpu').\n",
    "\n",
    "    Returns:\n",
    "        torch.Tensor: 최종 가중 평균 손실 값 (스칼라).\n",
    "    \"\"\"\n",
    "    # 가중치를 device로 이동\n",
    "    class_weights = class_weights.to(device)\n",
    "\n",
    "    # 클래스 차원에 가중치 적용 (B, num_classes, ...)\n",
    "    class_weights = class_weights.view(1, n_classes, 1, 1, 1)  # [1, num_classes, 1, 1, 1]\n",
    "    weighted_loss = loss * class_weights\n",
    "\n",
    "    # 모든 차원을 평균 내어 스칼라 손실 반환\n",
    "    final_loss = torch.mean(weighted_loss)\n",
    "    return final_loss"
   ]
  },
  {
   "cell_type": "code",
   "execution_count": 7,
   "metadata": {},
   "outputs": [
    {
     "name": "stderr",
     "output_type": "stream",
     "text": [
      "c:\\Users\\pook0\\.conda\\envs\\UM\\Lib\\site-packages\\monai\\utils\\deprecate_utils.py:221: FutureWarning: monai.networks.nets.swin_unetr SwinUNETR.__init__:img_size: Argument `img_size` has been deprecated since version 1.3. It will be removed in version 1.5. The img_size argument is not required anymore and checks on the input size are run during forward().\n",
      "  warn_deprecated(argname, msg, warning_category)\n"
     ]
    },
    {
     "name": "stdout",
     "output_type": "stream",
     "text": [
      "기존 best model 발견: model_checkpoints\\SwinUNETR_v2_step4_pyes_weighted_f48_d96_s96_lr1e-03_a0.52_b0.48_batch2\\best_model.pt\n"
     ]
    },
    {
     "name": "stderr",
     "output_type": "stream",
     "text": [
      "C:\\Users\\pook0\\AppData\\Local\\Temp\\ipykernel_17240\\721133388.py:98: FutureWarning: You are using `torch.load` with `weights_only=False` (the current default value), which uses the default pickle module implicitly. It is possible to construct malicious pickle data which will execute arbitrary code during unpickling (See https://github.com/pytorch/pytorch/blob/main/SECURITY.md#untrusted-models for more details). In a future release, the default value for `weights_only` will be flipped to `True`. This limits the functions that could be executed during unpickling. Arbitrary objects will no longer be allowed to be loaded via this mode unless they are explicitly allowlisted by the user via `torch.serialization.add_safe_globals`. We recommend you start setting `weights_only=True` for any use case where you don't have full control of the loaded file. Please open an issue on GitHub for any issues related to this experimental feature.\n",
      "  checkpoint = torch.load(best_model_path, map_location=device)\n"
     ]
    },
    {
     "name": "stdout",
     "output_type": "stream",
     "text": [
      "기존 학습된 가중치를 성공적으로 로드했습니다.\n"
     ]
    }
   ],
   "source": [
    "import torch.optim as optim\n",
    "from tqdm import tqdm\n",
    "import numpy as np\n",
    "import torch\n",
    "from pathlib import Path\n",
    "from monai.metrics import DiceMetric\n",
    "from monai.losses import TverskyLoss\n",
    "import torch.nn as nn\n",
    "import torch.nn.functional as F\n",
    "\n",
    "# TverskyLoss 설정\n",
    "'''\n",
    "criterion = TverskyLoss(\n",
    "    alpha= 1 - lamda,  # FP에 대한 가중치\n",
    "    beta=lamda,       # FN에 대한 가중치\n",
    "    include_background=False,  # 배경 클래스 제외\n",
    "    reduction=\"none\",  # 각 픽셀에 대한 손실 반환\n",
    "    softmax=True\n",
    ")\n",
    "'''\n",
    "\n",
    "class DynamicTverskyLoss(TverskyLoss):\n",
    "    def __init__(self, lamda=0.5, **kwargs):\n",
    "        super().__init__(alpha=1 - lamda, beta=lamda, **kwargs)\n",
    "        self.lamda = lamda\n",
    "\n",
    "    def set_lamda(self, lamda):\n",
    "        self.lamda = lamda\n",
    "        self.alpha = 1 - lamda\n",
    "        self.beta = lamda\n",
    "        \n",
    "# criterion = DynamicTverskyLoss(\n",
    "#     lamda=0.5,\n",
    "#     include_background=False,\n",
    "#     reduction=\"mean\",\n",
    "#     softmax=True\n",
    "# )\n",
    "\n",
    "class CombinedCETverskyLoss(nn.Module):\n",
    "    def __init__(self, lamda=0.5, ce_weight=0.5, **kwargs):\n",
    "        super().__init__()\n",
    "        self._lamda = lamda  # lamda 값 저장\n",
    "        self.tversky = DynamicTverskyLoss(lamda=lamda, **kwargs)\n",
    "        self.ce = nn.CrossEntropyLoss()\n",
    "        self.ce_weight = ce_weight\n",
    "        \n",
    "    def forward(self, inputs, targets):\n",
    "        tversky_loss = self.tversky(inputs, targets)\n",
    "        ce_loss = self.ce(inputs, targets)\n",
    "        return self.ce_weight * ce_loss + (1 - self.ce_weight) * tversky_loss\n",
    "    \n",
    "    def set_lamda(self, lamda):\n",
    "        self._lamda = lamda\n",
    "        self.tversky.set_lamda(lamda)\n",
    "    \n",
    "    @property\n",
    "    def lamda(self):\n",
    "        return self._lamda\n",
    "\n",
    "# 사용 예시\n",
    "criterion = CombinedCETverskyLoss(\n",
    "    lamda=0.5,\n",
    "    ce_weight=0.2,  # CE Loss와 Tversky Loss의 비중을 0.5:0.5로 설정\n",
    "    include_background=False,\n",
    "    reduction=\"mean\",\n",
    "    softmax=True\n",
    ")\n",
    "\n",
    "device = torch.device(\"cuda\" if torch.cuda.is_available() else \"cpu\")\n",
    "\n",
    "model = SwinUNETR(\n",
    "    img_size=(img_depth, img_size, img_size),\n",
    "    in_channels=1,\n",
    "    out_channels=n_classes,\n",
    "    feature_size=feature_size,\n",
    "    use_checkpoint=True,\n",
    "    drop_rate = drop_rate,\n",
    "    attn_drop_rate = attn_drop_rate,\n",
    "    use_v2 = use_v2,\n",
    ").to(device)\n",
    "\n",
    "pretrain_str = \"yes\" if use_checkpoint else \"no\"\n",
    "weight_str = \"weighted\" if class_weights is not None else \"\"\n",
    "\n",
    "# 체크포인트 디렉토리 및 파일 설정\n",
    "checkpoint_base_dir = Path(\"./model_checkpoints\")\n",
    "checkpoint_dir = checkpoint_base_dir / f\"SwinUNETR_v2_step4_p{pretrain_str}_{weight_str}_f{feature_size}_d{img_depth}_s{img_size}_lr{lr:.0e}_a{lamda:.2f}_b{1-lamda:.2f}_batch{batch_size}\"\n",
    "optimizer = optim.AdamW(model.parameters(), lr=lr, weight_decay=1e-5)\n",
    "scheduler = torch.optim.lr_scheduler.ReduceLROnPlateau(optimizer, patience=5, factor=0.5)\n",
    "# 체크포인트 디렉토리 생성\n",
    "checkpoint_dir.mkdir(parents=True, exist_ok=True)\n",
    "\n",
    "if checkpoint_dir.exists():\n",
    "    best_model_path = checkpoint_dir / 'best_model.pt'\n",
    "    if best_model_path.exists():\n",
    "        print(f\"기존 best model 발견: {best_model_path}\")\n",
    "        try:\n",
    "            checkpoint = torch.load(best_model_path, map_location=device)\n",
    "            # 체크포인트 내부 키 검증\n",
    "            required_keys = ['model_state_dict', 'optimizer_state_dict', 'epoch', 'best_val_loss']\n",
    "            if all(k in checkpoint for k in required_keys):\n",
    "                model.load_state_dict(checkpoint['model_state_dict'])\n",
    "                optimizer.load_state_dict(checkpoint['optimizer_state_dict'])\n",
    "                start_epoch = checkpoint['epoch']\n",
    "                best_val_loss = checkpoint['best_val_loss']\n",
    "                print(\"기존 학습된 가중치를 성공적으로 로드했습니다.\")\n",
    "            else:\n",
    "                raise ValueError(\"체크포인트 파일에 필요한 key가 없습니다.\")\n",
    "        except Exception as e:\n",
    "            print(f\"체크포인트 파일을 로드하는 중 오류 발생: {e}\")"
   ]
  },
  {
   "cell_type": "code",
   "execution_count": 8,
   "metadata": {},
   "outputs": [
    {
     "name": "stdout",
     "output_type": "stream",
     "text": [
      "torch.Size([2, 1, 96, 96, 96]) torch.Size([2, 1, 96, 96, 96])\n"
     ]
    }
   ],
   "source": [
    "batch = next(iter(val_loader))\n",
    "images, labels = batch[\"image\"], batch[\"label\"]\n",
    "print(images.shape, labels.shape)"
   ]
  },
  {
   "cell_type": "code",
   "execution_count": 9,
   "metadata": {},
   "outputs": [],
   "source": [
    "torch.backends.cudnn.benchmark = True"
   ]
  },
  {
   "cell_type": "code",
   "execution_count": 10,
   "metadata": {},
   "outputs": [
    {
     "name": "stderr",
     "output_type": "stream",
     "text": [
      "\u001b[34m\u001b[1mwandb\u001b[0m: Using wandb-core as the SDK backend.  Please refer to https://wandb.me/wandb-core for more information.\n",
      "\u001b[34m\u001b[1mwandb\u001b[0m: Currently logged in as: \u001b[33mpook0612\u001b[0m (\u001b[33mlimbw\u001b[0m). Use \u001b[1m`wandb login --relogin`\u001b[0m to force relogin\n"
     ]
    },
    {
     "data": {
      "text/html": [
       "Tracking run with wandb version 0.19.1"
      ],
      "text/plain": [
       "<IPython.core.display.HTML object>"
      ]
     },
     "metadata": {},
     "output_type": "display_data"
    },
    {
     "data": {
      "text/html": [
       "Run data is saved locally in <code>d:\\Workspace\\czll\\wandb\\run-20241223_195315-7l7apay6</code>"
      ],
      "text/plain": [
       "<IPython.core.display.HTML object>"
      ]
     },
     "metadata": {},
     "output_type": "display_data"
    },
    {
     "data": {
      "text/html": [
       "Syncing run <strong><a href='https://wandb.ai/limbw/czii_SwinUnetR/runs/7l7apay6' target=\"_blank\">SwinUNETR_pyes_weighted_f48_d96_s96_lr1e-03_a0.52_b0.48_batch2_20241223_195314</a></strong> to <a href='https://wandb.ai/limbw/czii_SwinUnetR' target=\"_blank\">Weights & Biases</a> (<a href='https://wandb.me/developer-guide' target=\"_blank\">docs</a>)<br>"
      ],
      "text/plain": [
       "<IPython.core.display.HTML object>"
      ]
     },
     "metadata": {},
     "output_type": "display_data"
    },
    {
     "data": {
      "text/html": [
       " View project at <a href='https://wandb.ai/limbw/czii_SwinUnetR' target=\"_blank\">https://wandb.ai/limbw/czii_SwinUnetR</a>"
      ],
      "text/plain": [
       "<IPython.core.display.HTML object>"
      ]
     },
     "metadata": {},
     "output_type": "display_data"
    },
    {
     "data": {
      "text/html": [
       " View run at <a href='https://wandb.ai/limbw/czii_SwinUnetR/runs/7l7apay6' target=\"_blank\">https://wandb.ai/limbw/czii_SwinUnetR/runs/7l7apay6</a>"
      ],
      "text/plain": [
       "<IPython.core.display.HTML object>"
      ]
     },
     "metadata": {},
     "output_type": "display_data"
    }
   ],
   "source": [
    "import wandb\n",
    "from datetime import datetime\n",
    "\n",
    "current_time = datetime.now().strftime('%Y%m%d_%H%M%S')\n",
    "run_name = f'SwinUNETR_p{pretrain_str}_{weight_str}_f{feature_size}_d{img_depth}_s{img_size}_lr{lr:.0e}_a{lamda:.2f}_b{1-lamda:.2f}_batch{batch_size}_{current_time}'\n",
    "\n",
    "# wandb 초기화\n",
    "wandb.init(\n",
    "    project='czii_SwinUnetR',  # 프로젝트 이름 설정\n",
    "    name=run_name,         # 실행(run) 이름 설정\n",
    "    config={\n",
    "        'num_epochs': num_epochs,\n",
    "        'learning_rate': lr,\n",
    "        'batch_size': batch_size,\n",
    "        'lambda': lamda,\n",
    "        'feature_size': feature_size,\n",
    "        'img_size': img_size,\n",
    "        'sampling_ratio': ratios_list,\n",
    "        'device': device.type,\n",
    "        \"checkpoint_dir\": str(checkpoint_dir),\n",
    "        \"class_weights\": class_weights.tolist() if class_weights is not None else None,\n",
    "        \"use_checkpoint\": use_checkpoint,\n",
    "        \"drop_rate\": drop_rate,\n",
    "        \"attn_drop_rate\": attn_drop_rate,\n",
    "        \"use_v2\": use_v2,\n",
    "        \"accumulation_steps\": accumulation_steps,\n",
    "        \n",
    "        # 필요한 하이퍼파라미터 추가\n",
    "    }\n",
    ")\n",
    "# 모델을 wandb에 연결\n",
    "wandb.watch(model, log='all')"
   ]
  },
  {
   "cell_type": "code",
   "execution_count": null,
   "metadata": {},
   "outputs": [],
   "source": [
    "from monai.metrics import DiceMetric\n",
    "\n",
    "def create_metric_dict(num_classes):\n",
    "    \"\"\"각 클래스별 DiceMetric 생성\"\"\"\n",
    "    metrics = {}\n",
    "    for i in range(num_classes):\n",
    "        metrics[f'dice_class_{i}'] = DiceMetric(\n",
    "            include_background=False if i == 0 else False,\n",
    "            reduction=\"mean\",\n",
    "            get_not_nans=False\n",
    "        )\n",
    "    return metrics\n",
    "    \n",
    "def processing(batch_data, model, criterion, device):\n",
    "    images = batch_data['image'].to(device)  # Input 이미지 (B, 1, 96, 96, 96)\n",
    "    labels = batch_data['label'].to(device)  # 라벨 (B, 96, 96, 96)\n",
    "\n",
    "    labels = labels.squeeze(1)  # (B, 1, 96, 96, 96) → (B, 96, 96, 96)\n",
    "    labels = labels.long()  # 라벨을 정수형으로 변환\n",
    "\n",
    "    # 원핫 인코딩 (B, H, W, D) → (B, num_classes, H, W, D)\n",
    "    \n",
    "    labels_onehot = torch.nn.functional.one_hot(labels, num_classes=n_classes)\n",
    "    labels_onehot = labels_onehot.permute(0, 4, 1, 2, 3).float()  # (B, num_classes, H, W, D)\n",
    "\n",
    "    # 모델 예측\n",
    "    outputs = model(images)  # outputs: (B, num_classes, H, W, D)\n",
    "\n",
    "    # Loss 계산\n",
    "    # loss = loss_fn(criterion(outputs, labels_onehot), class_weights, device)\n",
    "    loss = loss_fn(criterion(outputs, labels_onehot),class_weights=class_weights, device=device)\n",
    "    return loss, outputs, labels, outputs.argmax(dim=1)\n",
    "\n",
    "# def train_one_epoch(model, train_loader, criterion, optimizer, device, epoch, accumulation_steps=4):\n",
    "#     model.train()\n",
    "#     epoch_loss = 0\n",
    "#     optimizer.zero_grad()  # 그래디언트 초기화\n",
    "#     with tqdm(train_loader, desc='Training') as pbar:\n",
    "#         for i, batch_data in enumerate(pbar):\n",
    "#             # 손실 계산\n",
    "#             loss, _, _, _ = processing(batch_data, model, criterion, device)\n",
    "\n",
    "#             # 그래디언트를 계산하고 누적\n",
    "#             loss = loss / accumulation_steps  # 그래디언트 누적을 위한 스케일링\n",
    "#             loss.backward()  # 그래디언트 계산 및 누적\n",
    "            \n",
    "#             # 그래디언트 업데이트 (accumulation_steps마다 한 번)\n",
    "#             if (i + 1) % accumulation_steps == 0 or (i + 1) == len(train_loader):\n",
    "#                 optimizer.step()  # 파라미터 업데이트\n",
    "#                 optimizer.zero_grad()  # 누적된 그래디언트 초기화\n",
    "            \n",
    "#             # 손실값 누적 (스케일링 복구)\n",
    "#             epoch_loss += loss.item() * accumulation_steps  # 실제 손실값 반영\n",
    "#             pbar.set_postfix(loss=loss.item() * accumulation_steps)  # 실제 손실값 출력\n",
    "#     avg_loss = epoch_loss / len(train_loader)\n",
    "#     wandb.log({'train_epoch_loss': avg_loss, 'epoch': epoch + 1})\n",
    "#     return avg_loss\n",
    "\n",
    "def train_one_epoch(model, train_loader, criterion, optimizer, device, epoch, accumulation_steps=4):\n",
    "    model.train()\n",
    "    epoch_loss = 0\n",
    "    optimizer.zero_grad()  # 그래디언트 초기화\n",
    "    data_iter = iter(train_loader)  # 이터레이터 생성\n",
    "    with tqdm(total=len(train_loader)*4, desc='Training') as pbar:\n",
    "        for i in range(len(train_loader)*4):\n",
    "            try:\n",
    "                batch_data = next(data_iter)\n",
    "            except StopIteration:\n",
    "                # DataLoader를 전부 소진한 경우, 다시 이터레이터를 만들어 이어서 사용\n",
    "                data_iter = iter(train_loader)\n",
    "                batch_data = next(data_iter)\n",
    "            \n",
    "            # 손실 계산\n",
    "            loss, _, _, _ = processing(batch_data, model, criterion, device)\n",
    "\n",
    "            # 그래디언트를 계산하고 누적\n",
    "            loss = loss / accumulation_steps  # 그래디언트 누적을 위한 스케일링\n",
    "            loss.backward()  # 그래디언트 계산 및 누적\n",
    "            \n",
    "            # 그래디언트 업데이트 (accumulation_steps마다 한 번)\n",
    "            if (i + 1) % accumulation_steps == 0 or (i + 1) == len(train_loader):\n",
    "                optimizer.step()  # 파라미터 업데이트\n",
    "                optimizer.zero_grad()  # 누적된 그래디언트 초기화\n",
    "            \n",
    "            # 손실값 누적 (스케일링 복구)\n",
    "            epoch_loss += loss.item() * accumulation_steps  # 실제 손실값 반영\n",
    "            pbar.set_postfix(loss=loss.item() * accumulation_steps)  # 실제 손실값 출력\n",
    "            pbar.update(1)\n",
    "\n",
    "    avg_loss = epoch_loss / len(train_loader)*4\n",
    "    wandb.log({'train_epoch_loss': avg_loss, 'epoch': epoch + 1})\n",
    "    return avg_loss\n",
    "\n",
    "def validate_one_epoch(model, val_loader, criterion, device, epoch, calculate_dice_interval):\n",
    "    model.eval()\n",
    "    val_loss = 0\n",
    "    metrics = create_metric_dict(n_classes)\n",
    "    class_dice_scores = {i: [] for i in range(n_classes)}\n",
    "    class_f_beta_scores = {i: [] for i in range(n_classes)}\n",
    "    with torch.no_grad():\n",
    "        with tqdm(val_loader, desc='Validation') as pbar:\n",
    "            for batch_data in pbar:\n",
    "                loss, _, labels, preds = processing(batch_data, model, criterion, device)\n",
    "                val_loss += loss.item()\n",
    "                pbar.set_postfix(loss=loss.item())\n",
    "\n",
    "                # 각 클래스별 Dice 점수 계산\n",
    "                if epoch % calculate_dice_interval == 0:\n",
    "                    for i in range(n_classes):\n",
    "                        pred_i = (preds == i)\n",
    "                        label_i = (labels == i)\n",
    "                        dice_score = (2.0 * torch.sum(pred_i & label_i)) / (torch.sum(pred_i) + torch.sum(label_i) + 1e-8)\n",
    "                        class_dice_scores[i].append(dice_score.item())\n",
    "                        precision = (torch.sum(pred_i & label_i) + 1e-8) / (torch.sum(pred_i) + 1e-8)\n",
    "                        recall = (torch.sum(pred_i & label_i) + 1e-8) / (torch.sum(label_i) + 1e-8)\n",
    "                        f_beta_score = (1 + 4**2) * (precision * recall) / (4**2 * precision + recall + 1e-8)\n",
    "                        class_f_beta_scores[i].append(f_beta_score.item())\n",
    "\n",
    "    avg_loss = val_loss / len(val_loader)\n",
    "    # 에포크별 평균 손실 로깅\n",
    "    wandb.log({'val_epoch_loss': avg_loss, 'epoch': epoch + 1})\n",
    "    \n",
    "    # 각 클래스별 평균 Dice 점수 출력\n",
    "    if epoch % calculate_dice_interval == 0:\n",
    "        print(\"Validation Dice Score\")\n",
    "        all_classes_dice_scores = []\n",
    "        for i in range(n_classes):\n",
    "            mean_dice = np.mean(class_dice_scores[i])\n",
    "            wandb.log({f'class_{i}_dice_score': mean_dice, 'epoch': epoch + 1})\n",
    "            print(f\"Class {i}: {mean_dice:.4f}\", end=\", \")\n",
    "            if i not in [0, 2]:  # 평균에 포함할 클래스만 추가\n",
    "                all_classes_dice_scores.append(mean_dice)\n",
    "            if i == 3:\n",
    "                print()\n",
    "        print()\n",
    "    if epoch % calculate_dice_interval == 0:\n",
    "        print(\"Validation F-beta Score\")\n",
    "        all_classes_fbeta_scores = []\n",
    "        for i in range(n_classes):\n",
    "            mean_fbeta = np.mean(class_f_beta_scores[i])\n",
    "            wandb.log({f'class_{i}_f_beta_score': mean_fbeta, 'epoch': epoch + 1})\n",
    "            print(f\"Class {i}: {mean_fbeta:.4f}\", end=\", \")\n",
    "            if i not in [0, 2]:  # 평균에 포함할 클래스만 추가\n",
    "                all_classes_fbeta_scores.append(mean_fbeta)\n",
    "            if i == 3:\n",
    "                print()\n",
    "        overall_mean_dice = np.mean(all_classes_dice_scores)\n",
    "        overall_mean_fbeta = np.mean(all_classes_fbeta_scores)\n",
    "        wandb.log({'overall_mean_f_beta_score': overall_mean_fbeta, 'overall_mean_dice_score': overall_mean_dice, 'epoch': epoch + 1})\n",
    "        print(f\"\\nOverall Mean Dice Score: {overall_mean_dice:.4f}\\nOverall Mean F-beta Score: {overall_mean_fbeta:.4f}\\n\")\n",
    "\n",
    "    if overall_mean_fbeta is None:\n",
    "        overall_mean_fbeta = 0\n",
    "\n",
    "    return val_loss / len(val_loader), overall_mean_fbeta\n",
    "\n",
    "\n",
    "def train_model(\n",
    "    model, train_loader, val_loader, criterion, optimizer, num_epochs, patience, \n",
    "    device, start_epoch, best_val_loss, best_val_fbeta_score, calculate_dice_interval=1,\n",
    "    accumulation_steps=4\n",
    "):\n",
    "    \"\"\"\n",
    "    모델을 학습하고 검증하는 함수\n",
    "    Args:\n",
    "        model: 학습할 모델\n",
    "        train_loader: 학습 데이터 로더\n",
    "        val_loader: 검증 데이터 로더\n",
    "        criterion: 손실 함수\n",
    "        optimizer: 최적화 알고리즘\n",
    "        num_epochs: 총 학습 epoch 수\n",
    "        patience: early stopping 기준\n",
    "        device: GPU/CPU 장치\n",
    "        start_epoch: 시작 epoch\n",
    "        best_val_loss: 이전 최적 validation loss\n",
    "        best_val_fbeta_score: 이전 최적 validation f-beta score\n",
    "        calculate_dice_interval: Dice 점수 계산 주기\n",
    "    \"\"\"\n",
    "    epochs_no_improve = 0\n",
    "\n",
    "    for epoch in range(start_epoch, num_epochs):\n",
    "        print(f\"Epoch {epoch + 1}/{num_epochs}\")\n",
    "         # 현재 lambda 값 출력\n",
    "        print(f\"Current lambda: {criterion.lamda:.4f}\")\n",
    "        # Train One Epoch\n",
    "        train_loss = train_one_epoch(\n",
    "            model=model, \n",
    "            train_loader=train_loader, \n",
    "            criterion=criterion, \n",
    "            optimizer=optimizer, \n",
    "            device=device,\n",
    "            epoch=epoch,\n",
    "            accumulation_steps= accumulation_steps,\n",
    "        )\n",
    "        scheduler.step(train_loss)\n",
    "        \n",
    "        # Validate One Epoch\n",
    "        val_loss, overall_mean_fbeta_score = validate_one_epoch(\n",
    "            model=model, \n",
    "            val_loader=val_loader, \n",
    "            criterion=criterion, \n",
    "            device=device, \n",
    "            epoch=epoch, \n",
    "            calculate_dice_interval=calculate_dice_interval\n",
    "        )\n",
    "\n",
    "        \n",
    "        print(f\"Training Loss: {train_loss:.4f}, Validation Loss: {val_loss:.4f}, Validation F-beta: {overall_mean_fbeta_score:.4f}\")\n",
    "\n",
    "        if val_loss < best_val_loss and overall_mean_fbeta_score > best_val_fbeta_score:\n",
    "            best_val_loss = val_loss\n",
    "            best_val_fbeta_score = overall_mean_fbeta_score\n",
    "            epochs_no_improve = 0\n",
    "            checkpoint_path = os.path.join(checkpoint_dir, 'best_model.pt')\n",
    "            torch.save({\n",
    "                'epoch': epoch + 1,\n",
    "                'model_state_dict': model.state_dict(),\n",
    "                'optimizer_state_dict': optimizer.state_dict(),\n",
    "                'best_val_loss': best_val_loss,\n",
    "                'best_val_fbeta_score': best_val_fbeta_score\n",
    "            }, checkpoint_path)\n",
    "            print(f\"========================================================\")\n",
    "            print(f\"SUPER Best model saved. Loss:{best_val_loss:.4f}, Score:{best_val_fbeta_score:.4f}\")\n",
    "            print(f\"========================================================\")\n",
    "        \n",
    "        # Validation Loss 기준 모델 저장\n",
    "        if val_loss < best_val_loss:\n",
    "            best_val_loss = val_loss\n",
    "            epochs_no_improve = 0\n",
    "            checkpoint_path = os.path.join(checkpoint_dir, 'best_model_val_loss.pt')\n",
    "            torch.save({\n",
    "                'epoch': epoch + 1,\n",
    "                'model_state_dict': model.state_dict(),\n",
    "                'optimizer_state_dict': optimizer.state_dict(),\n",
    "                'best_val_loss': best_val_loss,\n",
    "                'best_val_fbeta_score': best_val_fbeta_score\n",
    "            }, checkpoint_path)\n",
    "            print(f\"========================================================\")\n",
    "            print(f\"Best model saved based on validation loss: {best_val_loss:.4f}\")\n",
    "            print(f\"========================================================\")\n",
    "\n",
    "        # Early stopping 조건 체크\n",
    "        if val_loss >= best_val_loss and overall_mean_fbeta_score <= best_val_fbeta_score:\n",
    "            epochs_no_improve += 1\n",
    "        else:\n",
    "            epochs_no_improve = 0\n",
    "\n",
    "        if epochs_no_improve >= patience:\n",
    "            print(\"Early stopping\")\n",
    "            checkpoint_path = os.path.join(checkpoint_dir, 'last.pt')\n",
    "            torch.save({\n",
    "                'epoch': epoch + 1,\n",
    "                'model_state_dict': model.state_dict(),\n",
    "                'optimizer_state_dict': optimizer.state_dict(),\n",
    "                'best_val_loss': best_val_loss,\n",
    "                'best_val_fbeta_score': best_val_fbeta_score\n",
    "            }, checkpoint_path)\n",
    "            break\n",
    "        if epochs_no_improve%6 == 0:\n",
    "            # 손실이 개선되지 않았으므로 lambda 감소\n",
    "            new_lamda = max(criterion.lamda - 0.01, 0.1)  # 최소값은 0.1로 설정\n",
    "            criterion.set_lamda(new_lamda)\n",
    "            print(f\"Validation loss did not improve. Reducing lambda to {new_lamda:.4f}\")\n",
    "\n",
    "\n",
    "    wandb.finish()\n"
   ]
  },
  {
   "cell_type": "code",
   "execution_count": 12,
   "metadata": {},
   "outputs": [
    {
     "name": "stdout",
     "output_type": "stream",
     "text": [
      "Epoch 2/4000\n",
      "Current lambda: 0.5000\n"
     ]
    },
    {
     "name": "stderr",
     "output_type": "stream",
     "text": [
      "Training:   0%|          | 0/96 [00:00<?, ?it/s]c:\\Users\\pook0\\.conda\\envs\\UM\\Lib\\site-packages\\torch\\utils\\checkpoint.py:1399: FutureWarning: `torch.cpu.amp.autocast(args...)` is deprecated. Please use `torch.amp.autocast('cpu', args...)` instead.\n",
      "  with device_autocast_ctx, torch.cpu.amp.autocast(**cpu_autocast_kwargs), recompute_context:  # type: ignore[attr-defined]\n",
      "Training: 100%|██████████| 96/96 [02:49<00:00,  1.77s/it, loss=0.575]\n",
      "Validation: 100%|██████████| 4/4 [00:02<00:00,  1.41it/s, loss=0.604]\n"
     ]
    },
    {
     "name": "stdout",
     "output_type": "stream",
     "text": [
      "Validation Dice Score\n",
      "Class 0: 0.9816, Class 1: 0.0000, Class 2: 0.0000, Class 3: 0.0000, \n",
      "Class 4: 0.2763, Class 5: 0.0000, Class 6: 0.0852, \n",
      "Validation F-beta Score\n",
      "Class 0: 0.9804, Class 1: 0.0000, Class 2: 0.0000, Class 3: 0.0000, \n",
      "Class 4: 0.2900, Class 5: 0.0000, Class 6: 0.1811, \n",
      "Overall Mean Dice Score: 0.0723\n",
      "Overall Mean F-beta Score: 0.0942\n",
      "\n",
      "Training Loss: 2.4272, Validation Loss: 0.5989, Validation F-beta: 0.0942\n",
      "========================================================\n",
      "SUPER Best model saved. Loss:0.5989, Score:0.0942\n",
      "========================================================\n",
      "Epoch 3/4000\n",
      "Current lambda: 0.5000\n"
     ]
    },
    {
     "name": "stderr",
     "output_type": "stream",
     "text": [
      "Training: 100%|██████████| 96/96 [02:32<00:00,  1.59s/it, loss=0.57] \n",
      "Validation: 100%|██████████| 4/4 [00:02<00:00,  1.43it/s, loss=0.535]\n"
     ]
    },
    {
     "name": "stdout",
     "output_type": "stream",
     "text": [
      "Validation Dice Score\n",
      "Class 0: 0.9868, Class 1: 0.0000, Class 2: 0.0000, Class 3: 0.0000, \n",
      "Class 4: 0.2708, Class 5: 0.2593, Class 6: 0.5608, \n",
      "Validation F-beta Score\n",
      "Class 0: 0.9852, Class 1: 0.0000, Class 2: 0.5000, Class 3: 0.0000, \n",
      "Class 4: 0.3938, Class 5: 0.2484, Class 6: 0.5447, \n",
      "Overall Mean Dice Score: 0.2182\n",
      "Overall Mean F-beta Score: 0.2374\n",
      "\n",
      "Training Loss: 2.3360, Validation Loss: 0.5356, Validation F-beta: 0.2374\n",
      "========================================================\n",
      "SUPER Best model saved. Loss:0.5356, Score:0.2374\n",
      "========================================================\n",
      "Epoch 4/4000\n",
      "Current lambda: 0.5000\n"
     ]
    },
    {
     "name": "stderr",
     "output_type": "stream",
     "text": [
      "Training: 100%|██████████| 96/96 [02:32<00:00,  1.59s/it, loss=0.587]\n",
      "Validation: 100%|██████████| 4/4 [00:02<00:00,  1.44it/s, loss=0.548]\n"
     ]
    },
    {
     "name": "stdout",
     "output_type": "stream",
     "text": [
      "Validation Dice Score\n",
      "Class 0: 0.9845, Class 1: 0.0000, Class 2: 0.0000, Class 3: 0.0000, \n",
      "Class 4: 0.2289, Class 5: 0.1375, Class 6: 0.2473, \n",
      "Validation F-beta Score\n",
      "Class 0: 0.9778, Class 1: 0.0000, Class 2: 0.0000, Class 3: 0.0000, \n",
      "Class 4: 0.2748, Class 5: 0.1692, Class 6: 0.3740, \n",
      "Overall Mean Dice Score: 0.1227\n",
      "Overall Mean F-beta Score: 0.1636\n",
      "\n",
      "Training Loss: 2.2584, Validation Loss: 0.5671, Validation F-beta: 0.1636\n",
      "Epoch 5/4000\n",
      "Current lambda: 0.5000\n"
     ]
    },
    {
     "name": "stderr",
     "output_type": "stream",
     "text": [
      "Training: 100%|██████████| 96/96 [02:32<00:00,  1.59s/it, loss=0.582]\n",
      "Validation: 100%|██████████| 4/4 [00:02<00:00,  1.46it/s, loss=0.545]\n"
     ]
    },
    {
     "name": "stdout",
     "output_type": "stream",
     "text": [
      "Validation Dice Score\n",
      "Class 0: 0.9849, Class 1: 0.0000, Class 2: 0.0000, Class 3: 0.0027, \n",
      "Class 4: 0.5121, Class 5: 0.2689, Class 6: 0.1319, \n",
      "Validation F-beta Score\n",
      "Class 0: 0.9845, Class 1: 0.5000, Class 2: 0.0000, Class 3: 0.0015, \n",
      "Class 4: 0.5193, Class 5: 0.3466, Class 6: 0.1527, \n",
      "Overall Mean Dice Score: 0.1831\n",
      "Overall Mean F-beta Score: 0.3040\n",
      "\n",
      "Training Loss: 2.2340, Validation Loss: 0.5411, Validation F-beta: 0.3040\n",
      "Validation loss did not improve. Reducing lambda to 0.4900\n",
      "Epoch 6/4000\n",
      "Current lambda: 0.4900\n"
     ]
    },
    {
     "name": "stderr",
     "output_type": "stream",
     "text": [
      "Training: 100%|██████████| 96/96 [02:32<00:00,  1.59s/it, loss=0.537]\n",
      "Validation: 100%|██████████| 4/4 [00:02<00:00,  1.48it/s, loss=0.511]\n"
     ]
    },
    {
     "name": "stdout",
     "output_type": "stream",
     "text": [
      "Validation Dice Score\n",
      "Class 0: 0.9836, Class 1: 0.0000, Class 2: 0.0000, Class 3: 0.0680, \n",
      "Class 4: 0.4457, Class 5: 0.3479, Class 6: 0.5125, \n",
      "Validation F-beta Score\n",
      "Class 0: 0.9829, Class 1: 0.0000, Class 2: 0.2500, Class 3: 0.0888, \n",
      "Class 4: 0.5736, Class 5: 0.3340, Class 6: 0.4813, \n",
      "Overall Mean Dice Score: 0.2748\n",
      "Overall Mean F-beta Score: 0.2955\n",
      "\n",
      "Training Loss: 2.1940, Validation Loss: 0.5145, Validation F-beta: 0.2955\n",
      "========================================================\n",
      "SUPER Best model saved. Loss:0.5145, Score:0.2955\n",
      "========================================================\n",
      "Epoch 7/4000\n",
      "Current lambda: 0.4900\n"
     ]
    },
    {
     "name": "stderr",
     "output_type": "stream",
     "text": [
      "Training: 100%|██████████| 96/96 [02:32<00:00,  1.59s/it, loss=0.532]\n",
      "Validation: 100%|██████████| 4/4 [00:02<00:00,  1.46it/s, loss=0.583]\n"
     ]
    },
    {
     "name": "stdout",
     "output_type": "stream",
     "text": [
      "Validation Dice Score\n",
      "Class 0: 0.9839, Class 1: 0.0000, Class 2: 0.0000, Class 3: 0.0215, \n",
      "Class 4: 0.3228, Class 5: 0.2817, Class 6: 0.2317, \n",
      "Validation F-beta Score\n",
      "Class 0: 0.9857, Class 1: 0.0000, Class 2: 0.0000, Class 3: 0.0146, \n",
      "Class 4: 0.3960, Class 5: 0.2534, Class 6: 0.2177, \n",
      "Overall Mean Dice Score: 0.1715\n",
      "Overall Mean F-beta Score: 0.1763\n",
      "\n",
      "Training Loss: 2.1529, Validation Loss: 0.5512, Validation F-beta: 0.1763\n",
      "Epoch 8/4000\n",
      "Current lambda: 0.4900\n"
     ]
    },
    {
     "name": "stderr",
     "output_type": "stream",
     "text": [
      "Training: 100%|██████████| 96/96 [02:32<00:00,  1.58s/it, loss=0.52] \n",
      "Validation: 100%|██████████| 4/4 [00:02<00:00,  1.42it/s, loss=0.557]\n"
     ]
    },
    {
     "name": "stdout",
     "output_type": "stream",
     "text": [
      "Validation Dice Score\n",
      "Class 0: 0.9865, Class 1: 0.0015, Class 2: 0.0000, Class 3: 0.2471, \n",
      "Class 4: 0.2588, Class 5: 0.2829, Class 6: 0.3428, \n",
      "Validation F-beta Score\n",
      "Class 0: 0.9812, Class 1: 0.0014, Class 2: 0.5000, Class 3: 0.2715, \n",
      "Class 4: 0.3982, Class 5: 0.3659, Class 6: 0.3997, \n",
      "Overall Mean Dice Score: 0.2266\n",
      "Overall Mean F-beta Score: 0.2874\n",
      "\n",
      "Training Loss: 2.1391, Validation Loss: 0.5249, Validation F-beta: 0.2874\n",
      "Epoch 9/4000\n",
      "Current lambda: 0.4900\n"
     ]
    },
    {
     "name": "stderr",
     "output_type": "stream",
     "text": [
      "Training: 100%|██████████| 96/96 [02:32<00:00,  1.59s/it, loss=0.536]\n",
      "Validation: 100%|██████████| 4/4 [00:02<00:00,  1.46it/s, loss=0.511]\n"
     ]
    },
    {
     "name": "stdout",
     "output_type": "stream",
     "text": [
      "Validation Dice Score\n",
      "Class 0: 0.9843, Class 1: 0.0000, Class 2: 0.0000, Class 3: 0.1113, \n",
      "Class 4: 0.4444, Class 5: 0.3055, Class 6: 0.2442, \n",
      "Validation F-beta Score\n",
      "Class 0: 0.9804, Class 1: 0.0000, Class 2: 0.5000, Class 3: 0.0867, \n",
      "Class 4: 0.4842, Class 5: 0.3341, Class 6: 0.2900, \n",
      "Overall Mean Dice Score: 0.2211\n",
      "Overall Mean F-beta Score: 0.2390\n",
      "\n",
      "Training Loss: 2.1359, Validation Loss: 0.5288, Validation F-beta: 0.2390\n",
      "Epoch 10/4000\n",
      "Current lambda: 0.4900\n"
     ]
    },
    {
     "name": "stderr",
     "output_type": "stream",
     "text": [
      "Training: 100%|██████████| 96/96 [02:32<00:00,  1.59s/it, loss=0.527]\n",
      "Validation: 100%|██████████| 4/4 [00:02<00:00,  1.48it/s, loss=0.484]\n"
     ]
    },
    {
     "name": "stdout",
     "output_type": "stream",
     "text": [
      "Validation Dice Score\n",
      "Class 0: 0.9915, Class 1: 0.0247, Class 2: 0.0000, Class 3: 0.2001, \n",
      "Class 4: 0.3525, Class 5: 0.3474, Class 6: 0.7821, \n",
      "Validation F-beta Score\n",
      "Class 0: 0.9916, Class 1: 0.0333, Class 2: 0.0000, Class 3: 0.1625, \n",
      "Class 4: 0.3558, Class 5: 0.3641, Class 6: 0.8450, \n",
      "Overall Mean Dice Score: 0.3414\n",
      "Overall Mean F-beta Score: 0.3521\n",
      "\n",
      "Training Loss: 2.1088, Validation Loss: 0.4778, Validation F-beta: 0.3521\n",
      "========================================================\n",
      "SUPER Best model saved. Loss:0.4778, Score:0.3521\n",
      "========================================================\n",
      "Epoch 11/4000\n",
      "Current lambda: 0.4900\n"
     ]
    },
    {
     "name": "stderr",
     "output_type": "stream",
     "text": [
      "Training: 100%|██████████| 96/96 [02:32<00:00,  1.59s/it, loss=0.48] \n",
      "Validation: 100%|██████████| 4/4 [00:03<00:00,  1.22it/s, loss=0.518]\n"
     ]
    },
    {
     "name": "stdout",
     "output_type": "stream",
     "text": [
      "Validation Dice Score\n",
      "Class 0: 0.9903, Class 1: 0.0092, Class 2: 0.0000, Class 3: 0.1158, \n",
      "Class 4: 0.3978, Class 5: 0.1304, Class 6: 0.4298, \n",
      "Validation F-beta Score\n",
      "Class 0: 0.9882, Class 1: 0.0059, Class 2: 0.5000, Class 3: 0.2462, \n",
      "Class 4: 0.3466, Class 5: 0.2133, Class 6: 0.5671, \n",
      "Overall Mean Dice Score: 0.2166\n",
      "Overall Mean F-beta Score: 0.2758\n",
      "\n",
      "Training Loss: 2.0472, Validation Loss: 0.5356, Validation F-beta: 0.2758\n",
      "Epoch 12/4000\n",
      "Current lambda: 0.4900\n"
     ]
    },
    {
     "name": "stderr",
     "output_type": "stream",
     "text": [
      "Training: 100%|██████████| 96/96 [02:32<00:00,  1.59s/it, loss=0.539]\n",
      "Validation: 100%|██████████| 4/4 [00:02<00:00,  1.45it/s, loss=0.448]\n"
     ]
    },
    {
     "name": "stdout",
     "output_type": "stream",
     "text": [
      "Validation Dice Score\n",
      "Class 0: 0.9866, Class 1: 0.0516, Class 2: 0.0000, Class 3: 0.2342, \n",
      "Class 4: 0.5414, Class 5: 0.3138, Class 6: 0.5109, \n",
      "Validation F-beta Score\n",
      "Class 0: 0.9848, Class 1: 0.0372, Class 2: 0.0000, Class 3: 0.3321, \n",
      "Class 4: 0.6420, Class 5: 0.3566, Class 6: 0.4210, \n",
      "Overall Mean Dice Score: 0.3304\n",
      "Overall Mean F-beta Score: 0.3578\n",
      "\n",
      "Training Loss: 2.0394, Validation Loss: 0.4832, Validation F-beta: 0.3578\n",
      "Validation loss did not improve. Reducing lambda to 0.4800\n",
      "Epoch 13/4000\n",
      "Current lambda: 0.4800\n"
     ]
    },
    {
     "name": "stderr",
     "output_type": "stream",
     "text": [
      "Training: 100%|██████████| 96/96 [02:32<00:00,  1.59s/it, loss=0.495]\n",
      "Validation: 100%|██████████| 4/4 [00:02<00:00,  1.44it/s, loss=0.469]\n"
     ]
    },
    {
     "name": "stdout",
     "output_type": "stream",
     "text": [
      "Validation Dice Score\n",
      "Class 0: 0.9863, Class 1: 0.1657, Class 2: 0.0001, Class 3: 0.2285, \n",
      "Class 4: 0.5165, Class 5: 0.3571, Class 6: 0.4944, \n",
      "Validation F-beta Score\n",
      "Class 0: 0.9826, Class 1: 0.1845, Class 2: 0.0001, Class 3: 0.2849, \n",
      "Class 4: 0.5932, Class 5: 0.5180, Class 6: 0.5802, \n",
      "Overall Mean Dice Score: 0.3524\n",
      "Overall Mean F-beta Score: 0.4322\n",
      "\n",
      "Training Loss: 2.0482, Validation Loss: 0.4725, Validation F-beta: 0.4322\n",
      "========================================================\n",
      "SUPER Best model saved. Loss:0.4725, Score:0.4322\n",
      "========================================================\n",
      "Epoch 14/4000\n",
      "Current lambda: 0.4800\n"
     ]
    },
    {
     "name": "stderr",
     "output_type": "stream",
     "text": [
      "Training: 100%|██████████| 96/96 [02:32<00:00,  1.59s/it, loss=0.482]\n",
      "Validation: 100%|██████████| 4/4 [00:02<00:00,  1.45it/s, loss=0.49] \n"
     ]
    },
    {
     "name": "stdout",
     "output_type": "stream",
     "text": [
      "Validation Dice Score\n",
      "Class 0: 0.9893, Class 1: 0.2356, Class 2: 0.0000, Class 3: 0.1807, \n",
      "Class 4: 0.5456, Class 5: 0.3063, Class 6: 0.8344, \n",
      "Validation F-beta Score\n",
      "Class 0: 0.9904, Class 1: 0.2724, Class 2: 0.0000, Class 3: 0.1830, \n",
      "Class 4: 0.6125, Class 5: 0.2709, Class 6: 0.8200, \n",
      "Overall Mean Dice Score: 0.4205\n",
      "Overall Mean F-beta Score: 0.4318\n",
      "\n",
      "Training Loss: 1.9681, Validation Loss: 0.4561, Validation F-beta: 0.4318\n",
      "========================================================\n",
      "Best model saved based on validation loss: 0.4561\n",
      "========================================================\n",
      "Epoch 15/4000\n",
      "Current lambda: 0.4800\n"
     ]
    },
    {
     "name": "stderr",
     "output_type": "stream",
     "text": [
      "Training: 100%|██████████| 96/96 [02:32<00:00,  1.59s/it, loss=0.416]\n",
      "Validation: 100%|██████████| 4/4 [00:02<00:00,  1.40it/s, loss=0.476]\n"
     ]
    },
    {
     "name": "stdout",
     "output_type": "stream",
     "text": [
      "Validation Dice Score\n",
      "Class 0: 0.9903, Class 1: 0.1674, Class 2: 0.0093, Class 3: 0.2469, \n",
      "Class 4: 0.4004, Class 5: 0.4403, Class 6: 0.6063, \n",
      "Validation F-beta Score\n",
      "Class 0: 0.9906, Class 1: 0.4205, Class 2: 0.0062, Class 3: 0.3929, \n",
      "Class 4: 0.3055, Class 5: 0.4017, Class 6: 0.5529, \n",
      "Overall Mean Dice Score: 0.3723\n",
      "Overall Mean F-beta Score: 0.4147\n",
      "\n",
      "Training Loss: 1.9758, Validation Loss: 0.4770, Validation F-beta: 0.4147\n",
      "Epoch 16/4000\n",
      "Current lambda: 0.4800\n"
     ]
    },
    {
     "name": "stderr",
     "output_type": "stream",
     "text": [
      "Training: 100%|██████████| 96/96 [02:29<00:00,  1.55s/it, loss=0.434]\n",
      "Validation: 100%|██████████| 4/4 [00:02<00:00,  1.45it/s, loss=0.483]\n"
     ]
    },
    {
     "name": "stdout",
     "output_type": "stream",
     "text": [
      "Validation Dice Score\n",
      "Class 0: 0.9871, Class 1: 0.0237, Class 2: 0.0117, Class 3: 0.1471, \n",
      "Class 4: 0.5297, Class 5: 0.2754, Class 6: 0.8626, \n",
      "Validation F-beta Score\n",
      "Class 0: 0.9878, Class 1: 0.0186, Class 2: 0.0079, Class 3: 0.1432, \n",
      "Class 4: 0.5019, Class 5: 0.3003, Class 6: 0.8424, \n",
      "Overall Mean Dice Score: 0.3677\n",
      "Overall Mean F-beta Score: 0.3613\n",
      "\n",
      "Training Loss: 1.9578, Validation Loss: 0.4754, Validation F-beta: 0.3613\n",
      "Epoch 17/4000\n",
      "Current lambda: 0.4800\n"
     ]
    },
    {
     "name": "stderr",
     "output_type": "stream",
     "text": [
      "Training: 100%|██████████| 96/96 [02:29<00:00,  1.55s/it, loss=0.573]\n",
      "Validation: 100%|██████████| 4/4 [00:02<00:00,  1.45it/s, loss=0.479]\n"
     ]
    },
    {
     "name": "stdout",
     "output_type": "stream",
     "text": [
      "Validation Dice Score\n",
      "Class 0: 0.9895, Class 1: 0.4398, Class 2: 0.0878, Class 3: 0.3037, \n",
      "Class 4: 0.6279, Class 5: 0.4015, Class 6: 0.7199, \n",
      "Validation F-beta Score\n",
      "Class 0: 0.9919, Class 1: 0.4342, Class 2: 0.0823, Class 3: 0.3170, \n",
      "Class 4: 0.6426, Class 5: 0.3366, Class 6: 0.6028, \n",
      "Overall Mean Dice Score: 0.4986\n",
      "Overall Mean F-beta Score: 0.4667\n",
      "\n",
      "Training Loss: 1.9463, Validation Loss: 0.4220, Validation F-beta: 0.4667\n",
      "========================================================\n",
      "SUPER Best model saved. Loss:0.4220, Score:0.4667\n",
      "========================================================\n",
      "Epoch 18/4000\n",
      "Current lambda: 0.4800\n"
     ]
    },
    {
     "name": "stderr",
     "output_type": "stream",
     "text": [
      "Training: 100%|██████████| 96/96 [02:29<00:00,  1.55s/it, loss=0.488]\n",
      "Validation: 100%|██████████| 4/4 [00:02<00:00,  1.46it/s, loss=0.454]\n"
     ]
    },
    {
     "name": "stdout",
     "output_type": "stream",
     "text": [
      "Validation Dice Score\n",
      "Class 0: 0.9888, Class 1: 0.3417, Class 2: 0.0405, Class 3: 0.3549, \n",
      "Class 4: 0.3398, Class 5: 0.3922, Class 6: 0.6190, \n",
      "Validation F-beta Score\n",
      "Class 0: 0.9854, Class 1: 0.4972, Class 2: 0.0585, Class 3: 0.3525, \n",
      "Class 4: 0.3517, Class 5: 0.6493, Class 6: 0.6365, \n",
      "Overall Mean Dice Score: 0.4095\n",
      "Overall Mean F-beta Score: 0.4974\n",
      "\n",
      "Training Loss: 1.9054, Validation Loss: 0.4592, Validation F-beta: 0.4974\n",
      "Validation loss did not improve. Reducing lambda to 0.4700\n",
      "Epoch 19/4000\n",
      "Current lambda: 0.4700\n"
     ]
    },
    {
     "name": "stderr",
     "output_type": "stream",
     "text": [
      "Training: 100%|██████████| 96/96 [02:29<00:00,  1.55s/it, loss=0.461]\n",
      "Validation: 100%|██████████| 4/4 [00:02<00:00,  1.47it/s, loss=0.41] \n"
     ]
    },
    {
     "name": "stdout",
     "output_type": "stream",
     "text": [
      "Validation Dice Score\n",
      "Class 0: 0.9867, Class 1: 0.3820, Class 2: 0.0301, Class 3: 0.1257, \n",
      "Class 4: 0.4990, Class 5: 0.4164, Class 6: 0.3767, \n",
      "Validation F-beta Score\n",
      "Class 0: 0.9904, Class 1: 0.5868, Class 2: 0.0389, Class 3: 0.1477, \n",
      "Class 4: 0.3782, Class 5: 0.4989, Class 6: 0.4773, \n",
      "Overall Mean Dice Score: 0.3599\n",
      "Overall Mean F-beta Score: 0.4178\n",
      "\n",
      "Training Loss: 1.8880, Validation Loss: 0.4847, Validation F-beta: 0.4178\n",
      "Epoch 20/4000\n",
      "Current lambda: 0.4700\n"
     ]
    },
    {
     "name": "stderr",
     "output_type": "stream",
     "text": [
      "Training: 100%|██████████| 96/96 [02:29<00:00,  1.55s/it, loss=0.432]\n",
      "Validation: 100%|██████████| 4/4 [00:02<00:00,  1.46it/s, loss=0.574]\n"
     ]
    },
    {
     "name": "stdout",
     "output_type": "stream",
     "text": [
      "Validation Dice Score\n",
      "Class 0: 0.9855, Class 1: 0.3750, Class 2: 0.1126, Class 3: 0.3682, \n",
      "Class 4: 0.1475, Class 5: 0.3135, Class 6: 0.5629, \n",
      "Validation F-beta Score\n",
      "Class 0: 0.9905, Class 1: 0.4664, Class 2: 0.0831, Class 3: 0.3953, \n",
      "Class 4: 0.3774, Class 5: 0.3166, Class 6: 0.5200, \n",
      "Overall Mean Dice Score: 0.3534\n",
      "Overall Mean F-beta Score: 0.4151\n",
      "\n",
      "Training Loss: 1.8837, Validation Loss: 0.4879, Validation F-beta: 0.4151\n",
      "Epoch 21/4000\n",
      "Current lambda: 0.4700\n"
     ]
    },
    {
     "name": "stderr",
     "output_type": "stream",
     "text": [
      "Training: 100%|██████████| 96/96 [02:29<00:00,  1.55s/it, loss=0.497]\n",
      "Validation: 100%|██████████| 4/4 [00:03<00:00,  1.23it/s, loss=0.484]\n"
     ]
    },
    {
     "name": "stdout",
     "output_type": "stream",
     "text": [
      "Validation Dice Score\n",
      "Class 0: 0.9849, Class 1: 0.4098, Class 2: 0.0622, Class 3: 0.1890, \n",
      "Class 4: 0.4578, Class 5: 0.3701, Class 6: 0.4662, \n",
      "Validation F-beta Score\n",
      "Class 0: 0.9868, Class 1: 0.4352, Class 2: 0.0477, Class 3: 0.1658, \n",
      "Class 4: 0.4002, Class 5: 0.3487, Class 6: 0.5766, \n",
      "Overall Mean Dice Score: 0.3786\n",
      "Overall Mean F-beta Score: 0.3853\n",
      "\n",
      "Training Loss: 1.8817, Validation Loss: 0.4634, Validation F-beta: 0.3853\n",
      "Epoch 22/4000\n",
      "Current lambda: 0.4700\n"
     ]
    },
    {
     "name": "stderr",
     "output_type": "stream",
     "text": [
      "Training: 100%|██████████| 96/96 [02:29<00:00,  1.55s/it, loss=0.471]\n",
      "Validation: 100%|██████████| 4/4 [00:02<00:00,  1.47it/s, loss=0.364]\n"
     ]
    },
    {
     "name": "stdout",
     "output_type": "stream",
     "text": [
      "Validation Dice Score\n",
      "Class 0: 0.9867, Class 1: 0.4994, Class 2: 0.0000, Class 3: 0.1127, \n",
      "Class 4: 0.5861, Class 5: 0.2683, Class 6: 0.7708, \n",
      "Validation F-beta Score\n",
      "Class 0: 0.9836, Class 1: 0.4891, Class 2: 0.0000, Class 3: 0.1493, \n",
      "Class 4: 0.7924, Class 5: 0.2756, Class 6: 0.8634, \n",
      "Overall Mean Dice Score: 0.4475\n",
      "Overall Mean F-beta Score: 0.5140\n",
      "\n",
      "Training Loss: 1.8702, Validation Loss: 0.4493, Validation F-beta: 0.5140\n",
      "Validation loss did not improve. Reducing lambda to 0.4600\n",
      "Epoch 23/4000\n",
      "Current lambda: 0.4600\n"
     ]
    },
    {
     "name": "stderr",
     "output_type": "stream",
     "text": [
      "Training: 100%|██████████| 96/96 [02:29<00:00,  1.55s/it, loss=0.521]\n",
      "Validation: 100%|██████████| 4/4 [00:02<00:00,  1.44it/s, loss=0.486]\n"
     ]
    },
    {
     "name": "stdout",
     "output_type": "stream",
     "text": [
      "Validation Dice Score\n",
      "Class 0: 0.9893, Class 1: 0.5005, Class 2: 0.0117, Class 3: 0.1120, \n",
      "Class 4: 0.3696, Class 5: 0.2572, Class 6: 0.8026, \n",
      "Validation F-beta Score\n",
      "Class 0: 0.9893, Class 1: 0.7043, Class 2: 0.0071, Class 3: 0.1058, \n",
      "Class 4: 0.3768, Class 5: 0.2720, Class 6: 0.8197, \n",
      "Overall Mean Dice Score: 0.4084\n",
      "Overall Mean F-beta Score: 0.4557\n",
      "\n",
      "Training Loss: 1.8731, Validation Loss: 0.4648, Validation F-beta: 0.4557\n",
      "Epoch 24/4000\n",
      "Current lambda: 0.4600\n"
     ]
    },
    {
     "name": "stderr",
     "output_type": "stream",
     "text": [
      "Training: 100%|██████████| 96/96 [02:28<00:00,  1.55s/it, loss=0.427]\n",
      "Validation: 100%|██████████| 4/4 [00:02<00:00,  1.48it/s, loss=0.425]\n"
     ]
    },
    {
     "name": "stdout",
     "output_type": "stream",
     "text": [
      "Validation Dice Score\n",
      "Class 0: 0.9868, Class 1: 0.5220, Class 2: 0.1393, Class 3: 0.2876, \n",
      "Class 4: 0.5105, Class 5: 0.2092, Class 6: 0.3854, \n",
      "Validation F-beta Score\n",
      "Class 0: 0.9889, Class 1: 0.8550, Class 2: 0.1503, Class 3: 0.2731, \n",
      "Class 4: 0.4334, Class 5: 0.2196, Class 6: 0.4046, \n",
      "Overall Mean Dice Score: 0.3829\n",
      "Overall Mean F-beta Score: 0.4371\n",
      "\n",
      "Training Loss: 1.8555, Validation Loss: 0.4816, Validation F-beta: 0.4371\n",
      "Epoch 25/4000\n",
      "Current lambda: 0.4600\n"
     ]
    },
    {
     "name": "stderr",
     "output_type": "stream",
     "text": [
      "Training: 100%|██████████| 96/96 [02:29<00:00,  1.55s/it, loss=0.529]\n",
      "Validation: 100%|██████████| 4/4 [00:02<00:00,  1.48it/s, loss=0.403]\n"
     ]
    },
    {
     "name": "stdout",
     "output_type": "stream",
     "text": [
      "Validation Dice Score\n",
      "Class 0: 0.9899, Class 1: 0.1838, Class 2: 0.0523, Class 3: 0.0394, \n",
      "Class 4: 0.4914, Class 5: 0.1789, Class 6: 0.6377, \n",
      "Validation F-beta Score\n",
      "Class 0: 0.9890, Class 1: 0.1657, Class 2: 0.0698, Class 3: 0.0460, \n",
      "Class 4: 0.7579, Class 5: 0.1834, Class 6: 0.6315, \n",
      "Overall Mean Dice Score: 0.3062\n",
      "Overall Mean F-beta Score: 0.3569\n",
      "\n",
      "Training Loss: 1.7898, Validation Loss: 0.4797, Validation F-beta: 0.3569\n",
      "Epoch 26/4000\n",
      "Current lambda: 0.4600\n"
     ]
    },
    {
     "name": "stderr",
     "output_type": "stream",
     "text": [
      "Training: 100%|██████████| 96/96 [02:29<00:00,  1.55s/it, loss=0.44] \n",
      "Validation: 100%|██████████| 4/4 [00:02<00:00,  1.46it/s, loss=0.483]\n"
     ]
    },
    {
     "name": "stdout",
     "output_type": "stream",
     "text": [
      "Validation Dice Score\n",
      "Class 0: 0.9913, Class 1: 0.1791, Class 2: 0.1443, Class 3: 0.2270, \n",
      "Class 4: 0.5069, Class 5: 0.5536, Class 6: 0.1487, \n",
      "Validation F-beta Score\n",
      "Class 0: 0.9910, Class 1: 0.2538, Class 2: 0.2019, Class 3: 0.2315, \n",
      "Class 4: 0.4274, Class 5: 0.6167, Class 6: 0.3412, \n",
      "Overall Mean Dice Score: 0.3231\n",
      "Overall Mean F-beta Score: 0.3741\n",
      "\n",
      "Training Loss: 1.8126, Validation Loss: 0.4732, Validation F-beta: 0.3741\n",
      "Epoch 27/4000\n",
      "Current lambda: 0.4600\n"
     ]
    },
    {
     "name": "stderr",
     "output_type": "stream",
     "text": [
      "Training: 100%|██████████| 96/96 [02:28<00:00,  1.55s/it, loss=0.496]\n",
      "Validation: 100%|██████████| 4/4 [00:02<00:00,  1.46it/s, loss=0.428]\n"
     ]
    },
    {
     "name": "stdout",
     "output_type": "stream",
     "text": [
      "Validation Dice Score\n",
      "Class 0: 0.9920, Class 1: 0.7382, Class 2: 0.0000, Class 3: 0.4121, \n",
      "Class 4: 0.4260, Class 5: 0.3921, Class 6: 0.5353, \n",
      "Validation F-beta Score\n",
      "Class 0: 0.9909, Class 1: 0.8124, Class 2: 0.0000, Class 3: 0.5033, \n",
      "Class 4: 0.4331, Class 5: 0.4475, Class 6: 0.6625, \n",
      "Overall Mean Dice Score: 0.5007\n",
      "Overall Mean F-beta Score: 0.5718\n",
      "\n",
      "Training Loss: 1.8203, Validation Loss: 0.4408, Validation F-beta: 0.5718\n",
      "Validation loss did not improve. Reducing lambda to 0.4500\n",
      "Epoch 28/4000\n",
      "Current lambda: 0.4500\n"
     ]
    },
    {
     "name": "stderr",
     "output_type": "stream",
     "text": [
      "Training: 100%|██████████| 96/96 [02:28<00:00,  1.55s/it, loss=0.397]\n",
      "Validation: 100%|██████████| 4/4 [00:02<00:00,  1.46it/s, loss=0.442]\n"
     ]
    },
    {
     "name": "stdout",
     "output_type": "stream",
     "text": [
      "Validation Dice Score\n",
      "Class 0: 0.9894, Class 1: 0.4921, Class 2: 0.1424, Class 3: 0.1438, \n",
      "Class 4: 0.4510, Class 5: 0.4322, Class 6: 0.6086, \n",
      "Validation F-beta Score\n",
      "Class 0: 0.9899, Class 1: 0.5129, Class 2: 0.1372, Class 3: 0.2038, \n",
      "Class 4: 0.4160, Class 5: 0.4782, Class 6: 0.5529, \n",
      "Overall Mean Dice Score: 0.4255\n",
      "Overall Mean F-beta Score: 0.4327\n",
      "\n",
      "Training Loss: 1.8208, Validation Loss: 0.4556, Validation F-beta: 0.4327\n",
      "Epoch 29/4000\n",
      "Current lambda: 0.4500\n"
     ]
    },
    {
     "name": "stderr",
     "output_type": "stream",
     "text": [
      "Training: 100%|██████████| 96/96 [02:29<00:00,  1.55s/it, loss=0.509]\n",
      "Validation: 100%|██████████| 4/4 [00:02<00:00,  1.45it/s, loss=0.489]\n"
     ]
    },
    {
     "name": "stdout",
     "output_type": "stream",
     "text": [
      "Validation Dice Score\n",
      "Class 0: 0.9918, Class 1: 0.4363, Class 2: 0.0429, Class 3: 0.2941, \n",
      "Class 4: 0.5299, Class 5: 0.3685, Class 6: 0.6143, \n",
      "Validation F-beta Score\n",
      "Class 0: 0.9912, Class 1: 0.5796, Class 2: 0.0457, Class 3: 0.4295, \n",
      "Class 4: 0.5218, Class 5: 0.4514, Class 6: 0.5471, \n",
      "Overall Mean Dice Score: 0.4486\n",
      "Overall Mean F-beta Score: 0.5059\n",
      "\n",
      "Training Loss: 1.8619, Validation Loss: 0.4473, Validation F-beta: 0.5059\n",
      "Validation loss did not improve. Reducing lambda to 0.4400\n",
      "Epoch 30/4000\n",
      "Current lambda: 0.4400\n"
     ]
    },
    {
     "name": "stderr",
     "output_type": "stream",
     "text": [
      "Training: 100%|██████████| 96/96 [02:28<00:00,  1.55s/it, loss=0.502]\n",
      "Validation: 100%|██████████| 4/4 [00:02<00:00,  1.47it/s, loss=0.366]\n"
     ]
    },
    {
     "name": "stdout",
     "output_type": "stream",
     "text": [
      "Validation Dice Score\n",
      "Class 0: 0.9871, Class 1: 0.7042, Class 2: 0.0091, Class 3: 0.2578, \n",
      "Class 4: 0.3551, Class 5: 0.4060, Class 6: 0.4092, \n",
      "Validation F-beta Score\n",
      "Class 0: 0.9890, Class 1: 0.7581, Class 2: 0.0106, Class 3: 0.2110, \n",
      "Class 4: 0.3376, Class 5: 0.4025, Class 6: 0.4264, \n",
      "Overall Mean Dice Score: 0.4264\n",
      "Overall Mean F-beta Score: 0.4271\n",
      "\n",
      "Training Loss: 1.8201, Validation Loss: 0.4361, Validation F-beta: 0.4271\n",
      "Epoch 31/4000\n",
      "Current lambda: 0.4400\n"
     ]
    },
    {
     "name": "stderr",
     "output_type": "stream",
     "text": [
      "Training: 100%|██████████| 96/96 [02:28<00:00,  1.55s/it, loss=0.476]\n",
      "Validation: 100%|██████████| 4/4 [00:03<00:00,  1.24it/s, loss=0.409]\n"
     ]
    },
    {
     "name": "stdout",
     "output_type": "stream",
     "text": [
      "Validation Dice Score\n",
      "Class 0: 0.9877, Class 1: 0.3039, Class 2: 0.0000, Class 3: 0.2371, \n",
      "Class 4: 0.3631, Class 5: 0.3622, Class 6: 0.4248, \n",
      "Validation F-beta Score\n",
      "Class 0: 0.9864, Class 1: 0.3175, Class 2: 0.0000, Class 3: 0.2744, \n",
      "Class 4: 0.4184, Class 5: 0.3979, Class 6: 0.4258, \n",
      "Overall Mean Dice Score: 0.3382\n",
      "Overall Mean F-beta Score: 0.3668\n",
      "\n",
      "Training Loss: 1.8103, Validation Loss: 0.4810, Validation F-beta: 0.3668\n",
      "Epoch 32/4000\n",
      "Current lambda: 0.4400\n"
     ]
    },
    {
     "name": "stderr",
     "output_type": "stream",
     "text": [
      "Training: 100%|██████████| 96/96 [02:28<00:00,  1.55s/it, loss=0.498]\n",
      "Validation: 100%|██████████| 4/4 [00:02<00:00,  1.46it/s, loss=0.472]\n"
     ]
    },
    {
     "name": "stdout",
     "output_type": "stream",
     "text": [
      "Validation Dice Score\n",
      "Class 0: 0.9839, Class 1: 0.3376, Class 2: 0.0338, Class 3: 0.3606, \n",
      "Class 4: 0.5356, Class 5: 0.3830, Class 6: 0.1936, \n",
      "Validation F-beta Score\n",
      "Class 0: 0.9851, Class 1: 0.4185, Class 2: 0.0719, Class 3: 0.3792, \n",
      "Class 4: 0.4820, Class 5: 0.4250, Class 6: 0.2116, \n",
      "Overall Mean Dice Score: 0.3621\n",
      "Overall Mean F-beta Score: 0.3833\n",
      "\n",
      "Training Loss: 1.7840, Validation Loss: 0.4647, Validation F-beta: 0.3833\n",
      "Epoch 33/4000\n",
      "Current lambda: 0.4400\n"
     ]
    },
    {
     "name": "stderr",
     "output_type": "stream",
     "text": [
      "Training: 100%|██████████| 96/96 [02:29<00:00,  1.55s/it, loss=0.448]\n",
      "Validation: 100%|██████████| 4/4 [00:02<00:00,  1.46it/s, loss=0.388]\n"
     ]
    },
    {
     "name": "stdout",
     "output_type": "stream",
     "text": [
      "Validation Dice Score\n",
      "Class 0: 0.9902, Class 1: 0.3590, Class 2: 0.1273, Class 3: 0.3669, \n",
      "Class 4: 0.4645, Class 5: 0.5165, Class 6: 0.7529, \n",
      "Validation F-beta Score\n",
      "Class 0: 0.9888, Class 1: 0.4389, Class 2: 0.1228, Class 3: 0.4443, \n",
      "Class 4: 0.5389, Class 5: 0.5101, Class 6: 0.8908, \n",
      "Overall Mean Dice Score: 0.4920\n",
      "Overall Mean F-beta Score: 0.5646\n",
      "\n",
      "Training Loss: 1.7958, Validation Loss: 0.4075, Validation F-beta: 0.5646\n",
      "========================================================\n",
      "SUPER Best model saved. Loss:0.4075, Score:0.5646\n",
      "========================================================\n",
      "Epoch 34/4000\n",
      "Current lambda: 0.4400\n"
     ]
    },
    {
     "name": "stderr",
     "output_type": "stream",
     "text": [
      "Training: 100%|██████████| 96/96 [02:28<00:00,  1.55s/it, loss=0.457]\n",
      "Validation: 100%|██████████| 4/4 [00:02<00:00,  1.47it/s, loss=0.344]\n"
     ]
    },
    {
     "name": "stdout",
     "output_type": "stream",
     "text": [
      "Validation Dice Score\n",
      "Class 0: 0.9865, Class 1: 0.5681, Class 2: 0.0253, Class 3: 0.2827, \n",
      "Class 4: 0.3589, Class 5: 0.4178, Class 6: 0.6694, \n",
      "Validation F-beta Score\n",
      "Class 0: 0.9868, Class 1: 0.7652, Class 2: 0.0244, Class 3: 0.2614, \n",
      "Class 4: 0.3347, Class 5: 0.4435, Class 6: 0.6315, \n",
      "Overall Mean Dice Score: 0.4594\n",
      "Overall Mean F-beta Score: 0.4873\n",
      "\n",
      "Training Loss: 1.7674, Validation Loss: 0.4356, Validation F-beta: 0.4873\n",
      "Epoch 35/4000\n",
      "Current lambda: 0.4400\n"
     ]
    },
    {
     "name": "stderr",
     "output_type": "stream",
     "text": [
      "Training: 100%|██████████| 96/96 [02:40<00:00,  1.67s/it, loss=0.529]\n",
      "Validation: 100%|██████████| 4/4 [00:02<00:00,  1.37it/s, loss=0.455]\n"
     ]
    },
    {
     "name": "stdout",
     "output_type": "stream",
     "text": [
      "Validation Dice Score\n",
      "Class 0: 0.9878, Class 1: 0.1314, Class 2: 0.1320, Class 3: 0.2817, \n",
      "Class 4: 0.5309, Class 5: 0.5542, Class 6: 0.6069, \n",
      "Validation F-beta Score\n",
      "Class 0: 0.9846, Class 1: 0.1772, Class 2: 0.1777, Class 3: 0.3191, \n",
      "Class 4: 0.6978, Class 5: 0.5088, Class 6: 0.5960, \n",
      "Overall Mean Dice Score: 0.4210\n",
      "Overall Mean F-beta Score: 0.4598\n",
      "\n",
      "Training Loss: 1.7644, Validation Loss: 0.4700, Validation F-beta: 0.4598\n",
      "Epoch 36/4000\n",
      "Current lambda: 0.4400\n"
     ]
    },
    {
     "name": "stderr",
     "output_type": "stream",
     "text": [
      "Training: 100%|██████████| 96/96 [02:45<00:00,  1.72s/it, loss=0.499]\n",
      "Validation: 100%|██████████| 4/4 [00:03<00:00,  1.31it/s, loss=0.516]\n"
     ]
    },
    {
     "name": "stdout",
     "output_type": "stream",
     "text": [
      "Validation Dice Score\n",
      "Class 0: 0.9906, Class 1: 0.5983, Class 2: 0.1576, Class 3: 0.2454, \n",
      "Class 4: 0.2801, Class 5: 0.4124, Class 6: 0.6439, \n",
      "Validation F-beta Score\n",
      "Class 0: 0.9900, Class 1: 0.5944, Class 2: 0.1876, Class 3: 0.2284, \n",
      "Class 4: 0.2655, Class 5: 0.4104, Class 6: 0.7036, \n",
      "Overall Mean Dice Score: 0.4360\n",
      "Overall Mean F-beta Score: 0.4405\n",
      "\n",
      "Training Loss: 1.7122, Validation Loss: 0.4480, Validation F-beta: 0.4405\n",
      "Epoch 37/4000\n",
      "Current lambda: 0.4400\n"
     ]
    },
    {
     "name": "stderr",
     "output_type": "stream",
     "text": [
      "Training: 100%|██████████| 96/96 [02:46<00:00,  1.73s/it, loss=0.45] \n",
      "Validation: 100%|██████████| 4/4 [00:02<00:00,  1.35it/s, loss=0.403]\n"
     ]
    },
    {
     "name": "stdout",
     "output_type": "stream",
     "text": [
      "Validation Dice Score\n",
      "Class 0: 0.9917, Class 1: 0.4480, Class 2: 0.2021, Class 3: 0.2029, \n",
      "Class 4: 0.4091, Class 5: 0.5621, Class 6: 0.7966, \n",
      "Validation F-beta Score\n",
      "Class 0: 0.9898, Class 1: 0.4955, Class 2: 0.2149, Class 3: 0.2117, \n",
      "Class 4: 0.5963, Class 5: 0.5602, Class 6: 0.8398, \n",
      "Overall Mean Dice Score: 0.4838\n",
      "Overall Mean F-beta Score: 0.5407\n",
      "\n",
      "Training Loss: 1.7427, Validation Loss: 0.4156, Validation F-beta: 0.5407\n",
      "Epoch 38/4000\n",
      "Current lambda: 0.4400\n"
     ]
    },
    {
     "name": "stderr",
     "output_type": "stream",
     "text": [
      "Training: 100%|██████████| 96/96 [02:45<00:00,  1.72s/it, loss=0.338]\n",
      "Validation: 100%|██████████| 4/4 [00:02<00:00,  1.37it/s, loss=0.503]\n"
     ]
    },
    {
     "name": "stdout",
     "output_type": "stream",
     "text": [
      "Validation Dice Score\n",
      "Class 0: 0.9869, Class 1: 0.7116, Class 2: 0.2200, Class 3: 0.3202, \n",
      "Class 4: 0.5646, Class 5: 0.4419, Class 6: 0.3841, \n",
      "Validation F-beta Score\n",
      "Class 0: 0.9901, Class 1: 0.7783, Class 2: 0.2171, Class 3: 0.2832, \n",
      "Class 4: 0.5214, Class 5: 0.4696, Class 6: 0.4698, \n",
      "Overall Mean Dice Score: 0.4845\n",
      "Overall Mean F-beta Score: 0.5045\n",
      "\n",
      "Training Loss: 1.7703, Validation Loss: 0.4212, Validation F-beta: 0.5045\n",
      "Validation loss did not improve. Reducing lambda to 0.4300\n",
      "Epoch 39/4000\n",
      "Current lambda: 0.4300\n"
     ]
    },
    {
     "name": "stderr",
     "output_type": "stream",
     "text": [
      "Training: 100%|██████████| 96/96 [02:37<00:00,  1.64s/it, loss=0.51] \n",
      "Validation: 100%|██████████| 4/4 [00:02<00:00,  1.45it/s, loss=0.406]\n"
     ]
    },
    {
     "name": "stdout",
     "output_type": "stream",
     "text": [
      "Validation Dice Score\n",
      "Class 0: 0.9904, Class 1: 0.7368, Class 2: 0.1928, Class 3: 0.2544, \n",
      "Class 4: 0.4741, Class 5: 0.3976, Class 6: 0.5578, \n",
      "Validation F-beta Score\n",
      "Class 0: 0.9893, Class 1: 0.8402, Class 2: 0.2376, Class 3: 0.3208, \n",
      "Class 4: 0.4965, Class 5: 0.4210, Class 6: 0.5605, \n",
      "Overall Mean Dice Score: 0.4841\n",
      "Overall Mean F-beta Score: 0.5278\n",
      "\n",
      "Training Loss: 1.7551, Validation Loss: 0.4112, Validation F-beta: 0.5278\n",
      "Epoch 40/4000\n",
      "Current lambda: 0.4300\n"
     ]
    },
    {
     "name": "stderr",
     "output_type": "stream",
     "text": [
      "Training: 100%|██████████| 96/96 [02:29<00:00,  1.55s/it, loss=0.485]\n",
      "Validation: 100%|██████████| 4/4 [00:02<00:00,  1.47it/s, loss=0.484]\n"
     ]
    },
    {
     "name": "stdout",
     "output_type": "stream",
     "text": [
      "Validation Dice Score\n",
      "Class 0: 0.9911, Class 1: 0.5655, Class 2: 0.0596, Class 3: 0.2539, \n",
      "Class 4: 0.1726, Class 5: 0.4061, Class 6: 0.6055, \n",
      "Validation F-beta Score\n",
      "Class 0: 0.9904, Class 1: 0.6588, Class 2: 0.0981, Class 3: 0.2750, \n",
      "Class 4: 0.1742, Class 5: 0.3656, Class 6: 0.6633, \n",
      "Overall Mean Dice Score: 0.4007\n",
      "Overall Mean F-beta Score: 0.4274\n",
      "\n",
      "Training Loss: 1.7153, Validation Loss: 0.4752, Validation F-beta: 0.4274\n",
      "Epoch 41/4000\n",
      "Current lambda: 0.4300\n"
     ]
    },
    {
     "name": "stderr",
     "output_type": "stream",
     "text": [
      "Training: 100%|██████████| 96/96 [02:29<00:00,  1.56s/it, loss=0.499]\n",
      "Validation: 100%|██████████| 4/4 [00:03<00:00,  1.25it/s, loss=0.566]\n"
     ]
    },
    {
     "name": "stdout",
     "output_type": "stream",
     "text": [
      "Validation Dice Score\n",
      "Class 0: 0.9865, Class 1: 0.3526, Class 2: 0.1227, Class 3: 0.2685, \n",
      "Class 4: 0.2209, Class 5: 0.4974, Class 6: 0.6711, \n",
      "Validation F-beta Score\n",
      "Class 0: 0.9850, Class 1: 0.3314, Class 2: 0.1219, Class 3: 0.3221, \n",
      "Class 4: 0.2412, Class 5: 0.5055, Class 6: 0.6681, \n",
      "Overall Mean Dice Score: 0.4021\n",
      "Overall Mean F-beta Score: 0.4137\n",
      "\n",
      "Training Loss: 1.7246, Validation Loss: 0.4202, Validation F-beta: 0.4137\n",
      "Epoch 42/4000\n",
      "Current lambda: 0.4300\n"
     ]
    },
    {
     "name": "stderr",
     "output_type": "stream",
     "text": [
      "Training: 100%|██████████| 96/96 [02:45<00:00,  1.72s/it, loss=0.542]\n",
      "Validation: 100%|██████████| 4/4 [00:02<00:00,  1.40it/s, loss=0.555]\n"
     ]
    },
    {
     "name": "stdout",
     "output_type": "stream",
     "text": [
      "Validation Dice Score\n",
      "Class 0: 0.9868, Class 1: 0.2996, Class 2: 0.0632, Class 3: 0.3663, \n",
      "Class 4: 0.5125, Class 5: 0.2311, Class 6: 0.2217, \n",
      "Validation F-beta Score\n",
      "Class 0: 0.9884, Class 1: 0.3547, Class 2: 0.0463, Class 3: 0.3349, \n",
      "Class 4: 0.5229, Class 5: 0.2857, Class 6: 0.2313, \n",
      "Overall Mean Dice Score: 0.3263\n",
      "Overall Mean F-beta Score: 0.3459\n",
      "\n",
      "Training Loss: 1.6963, Validation Loss: 0.4585, Validation F-beta: 0.3459\n",
      "Epoch 43/4000\n",
      "Current lambda: 0.4300\n"
     ]
    },
    {
     "name": "stderr",
     "output_type": "stream",
     "text": [
      "Training: 100%|██████████| 96/96 [02:37<00:00,  1.64s/it, loss=0.503]\n",
      "Validation: 100%|██████████| 4/4 [00:02<00:00,  1.46it/s, loss=0.499]\n"
     ]
    },
    {
     "name": "stdout",
     "output_type": "stream",
     "text": [
      "Validation Dice Score\n",
      "Class 0: 0.9878, Class 1: 0.0000, Class 2: 0.1236, Class 3: 0.3822, \n",
      "Class 4: 0.5903, Class 5: 0.4295, Class 6: 0.2223, \n",
      "Validation F-beta Score\n",
      "Class 0: 0.9900, Class 1: 0.0000, Class 2: 0.1476, Class 3: 0.4015, \n",
      "Class 4: 0.6613, Class 5: 0.3997, Class 6: 0.2379, \n",
      "Overall Mean Dice Score: 0.3248\n",
      "Overall Mean F-beta Score: 0.3401\n",
      "\n",
      "Training Loss: 1.7167, Validation Loss: 0.4895, Validation F-beta: 0.3401\n",
      "Epoch 44/4000\n",
      "Current lambda: 0.4300\n"
     ]
    },
    {
     "name": "stderr",
     "output_type": "stream",
     "text": [
      "Training: 100%|██████████| 96/96 [02:37<00:00,  1.65s/it, loss=0.382]\n",
      "Validation: 100%|██████████| 4/4 [00:02<00:00,  1.43it/s, loss=0.36] \n"
     ]
    },
    {
     "name": "stdout",
     "output_type": "stream",
     "text": [
      "Validation Dice Score\n",
      "Class 0: 0.9928, Class 1: 0.8009, Class 2: 0.0000, Class 3: 0.0627, \n",
      "Class 4: 0.6943, Class 5: 0.5791, Class 6: 0.6523, \n",
      "Validation F-beta Score\n",
      "Class 0: 0.9934, Class 1: 0.8398, Class 2: 0.0000, Class 3: 0.0939, \n",
      "Class 4: 0.6719, Class 5: 0.5421, Class 6: 0.6532, \n",
      "Overall Mean Dice Score: 0.5579\n",
      "Overall Mean F-beta Score: 0.5602\n",
      "\n",
      "Training Loss: 1.7481, Validation Loss: 0.4074, Validation F-beta: 0.5602\n",
      "========================================================\n",
      "Best model saved based on validation loss: 0.4074\n",
      "========================================================\n",
      "Epoch 45/4000\n",
      "Current lambda: 0.4300\n"
     ]
    },
    {
     "name": "stderr",
     "output_type": "stream",
     "text": [
      "Training: 100%|██████████| 96/96 [02:35<00:00,  1.62s/it, loss=0.414]\n",
      "Validation: 100%|██████████| 4/4 [00:02<00:00,  1.39it/s, loss=0.341]\n"
     ]
    },
    {
     "name": "stdout",
     "output_type": "stream",
     "text": [
      "Validation Dice Score\n",
      "Class 0: 0.9871, Class 1: 0.7457, Class 2: 0.0366, Class 3: 0.4124, \n",
      "Class 4: 0.5015, Class 5: 0.4082, Class 6: 0.8560, \n",
      "Validation F-beta Score\n",
      "Class 0: 0.9929, Class 1: 0.7031, Class 2: 0.0452, Class 3: 0.4551, \n",
      "Class 4: 0.3955, Class 5: 0.4111, Class 6: 0.8239, \n",
      "Overall Mean Dice Score: 0.5847\n",
      "Overall Mean F-beta Score: 0.5577\n",
      "\n",
      "Training Loss: 1.7392, Validation Loss: 0.4124, Validation F-beta: 0.5577\n",
      "Epoch 46/4000\n",
      "Current lambda: 0.4300\n"
     ]
    },
    {
     "name": "stderr",
     "output_type": "stream",
     "text": [
      "Training: 100%|██████████| 96/96 [02:37<00:00,  1.64s/it, loss=0.428]\n",
      "Validation: 100%|██████████| 4/4 [00:03<00:00,  1.30it/s, loss=0.302]\n"
     ]
    },
    {
     "name": "stdout",
     "output_type": "stream",
     "text": [
      "Validation Dice Score\n",
      "Class 0: 0.9904, Class 1: 0.5982, Class 2: 0.3284, Class 3: 0.2198, \n",
      "Class 4: 0.4642, Class 5: 0.3732, Class 6: 0.6127, \n",
      "Validation F-beta Score\n",
      "Class 0: 0.9864, Class 1: 0.7258, Class 2: 0.3470, Class 3: 0.3175, \n",
      "Class 4: 0.5492, Class 5: 0.5172, Class 6: 0.6970, \n",
      "Overall Mean Dice Score: 0.4536\n",
      "Overall Mean F-beta Score: 0.5613\n",
      "\n",
      "Training Loss: 1.7480, Validation Loss: 0.4182, Validation F-beta: 0.5613\n",
      "Epoch 47/4000\n",
      "Current lambda: 0.4300\n"
     ]
    },
    {
     "name": "stderr",
     "output_type": "stream",
     "text": [
      "Training: 100%|██████████| 96/96 [02:38<00:00,  1.65s/it, loss=0.475]\n",
      "Validation: 100%|██████████| 4/4 [00:03<00:00,  1.33it/s, loss=0.506]\n"
     ]
    },
    {
     "name": "stdout",
     "output_type": "stream",
     "text": [
      "Validation Dice Score\n",
      "Class 0: 0.9923, Class 1: 0.4677, Class 2: 0.0016, Class 3: 0.2089, \n",
      "Class 4: 0.5476, Class 5: 0.4555, Class 6: 0.4579, \n",
      "Validation F-beta Score\n",
      "Class 0: 0.9898, Class 1: 0.5521, Class 2: 0.0027, Class 3: 0.2970, \n",
      "Class 4: 0.5405, Class 5: 0.5173, Class 6: 0.4689, \n",
      "Overall Mean Dice Score: 0.4275\n",
      "Overall Mean F-beta Score: 0.4752\n",
      "\n",
      "Training Loss: 1.7042, Validation Loss: 0.4415, Validation F-beta: 0.4752\n",
      "Epoch 48/4000\n",
      "Current lambda: 0.4300\n"
     ]
    },
    {
     "name": "stderr",
     "output_type": "stream",
     "text": [
      "Training: 100%|██████████| 96/96 [02:36<00:00,  1.63s/it, loss=0.451]\n",
      "Validation: 100%|██████████| 4/4 [00:02<00:00,  1.43it/s, loss=0.344]\n"
     ]
    },
    {
     "name": "stdout",
     "output_type": "stream",
     "text": [
      "Validation Dice Score\n",
      "Class 0: 0.9911, Class 1: 0.7150, Class 2: 0.1802, Class 3: 0.3848, \n",
      "Class 4: 0.6991, Class 5: 0.5493, Class 6: 0.6317, \n",
      "Validation F-beta Score\n",
      "Class 0: 0.9924, Class 1: 0.7207, Class 2: 0.2859, Class 3: 0.4082, \n",
      "Class 4: 0.6615, Class 5: 0.5127, Class 6: 0.5813, \n",
      "Overall Mean Dice Score: 0.5960\n",
      "Overall Mean F-beta Score: 0.5769\n",
      "\n",
      "Training Loss: 1.7167, Validation Loss: 0.3794, Validation F-beta: 0.5769\n",
      "========================================================\n",
      "SUPER Best model saved. Loss:0.3794, Score:0.5769\n",
      "========================================================\n",
      "Epoch 49/4000\n",
      "Current lambda: 0.4300\n"
     ]
    },
    {
     "name": "stderr",
     "output_type": "stream",
     "text": [
      "Training: 100%|██████████| 96/96 [02:36<00:00,  1.63s/it, loss=0.498]\n",
      "Validation: 100%|██████████| 4/4 [00:02<00:00,  1.41it/s, loss=0.5]  \n"
     ]
    },
    {
     "name": "stdout",
     "output_type": "stream",
     "text": [
      "Validation Dice Score\n",
      "Class 0: 0.9903, Class 1: 0.3844, Class 2: 0.0000, Class 3: 0.2724, \n",
      "Class 4: 0.6017, Class 5: 0.4878, Class 6: 0.4190, \n",
      "Validation F-beta Score\n",
      "Class 0: 0.9902, Class 1: 0.4515, Class 2: 0.0000, Class 3: 0.2797, \n",
      "Class 4: 0.5967, Class 5: 0.4785, Class 6: 0.4807, \n",
      "Overall Mean Dice Score: 0.4331\n",
      "Overall Mean F-beta Score: 0.4574\n",
      "\n",
      "Training Loss: 1.7477, Validation Loss: 0.4262, Validation F-beta: 0.4574\n",
      "Epoch 50/4000\n",
      "Current lambda: 0.4300\n"
     ]
    },
    {
     "name": "stderr",
     "output_type": "stream",
     "text": [
      "Training: 100%|██████████| 96/96 [02:37<00:00,  1.64s/it, loss=0.395]\n",
      "Validation: 100%|██████████| 4/4 [00:02<00:00,  1.42it/s, loss=0.372]\n"
     ]
    },
    {
     "name": "stdout",
     "output_type": "stream",
     "text": [
      "Validation Dice Score\n",
      "Class 0: 0.9891, Class 1: 0.3174, Class 2: 0.2266, Class 3: 0.1876, \n",
      "Class 4: 0.4896, Class 5: 0.5191, Class 6: 0.6011, \n",
      "Validation F-beta Score\n",
      "Class 0: 0.9895, Class 1: 0.3088, Class 2: 0.2938, Class 3: 0.1436, \n",
      "Class 4: 0.4687, Class 5: 0.5514, Class 6: 0.6915, \n",
      "Overall Mean Dice Score: 0.4230\n",
      "Overall Mean F-beta Score: 0.4328\n",
      "\n",
      "Training Loss: 1.7247, Validation Loss: 0.4283, Validation F-beta: 0.4328\n",
      "Epoch 51/4000\n",
      "Current lambda: 0.4300\n"
     ]
    },
    {
     "name": "stderr",
     "output_type": "stream",
     "text": [
      "Training: 100%|██████████| 96/96 [02:35<00:00,  1.62s/it, loss=0.487]\n",
      "Validation: 100%|██████████| 4/4 [00:03<00:00,  1.19it/s, loss=0.461]\n"
     ]
    },
    {
     "name": "stdout",
     "output_type": "stream",
     "text": [
      "Validation Dice Score\n",
      "Class 0: 0.9922, Class 1: 0.6152, Class 2: 0.1597, Class 3: 0.5272, \n",
      "Class 4: 0.3515, Class 5: 0.3865, Class 6: 0.4444, \n",
      "Validation F-beta Score\n",
      "Class 0: 0.9923, Class 1: 0.6238, Class 2: 0.1239, Class 3: 0.4944, \n",
      "Class 4: 0.2943, Class 5: 0.5197, Class 6: 0.4481, \n",
      "Overall Mean Dice Score: 0.4650\n",
      "Overall Mean F-beta Score: 0.4761\n",
      "\n",
      "Training Loss: 1.7078, Validation Loss: 0.4059, Validation F-beta: 0.4761\n",
      "Epoch 52/4000\n",
      "Current lambda: 0.4300\n"
     ]
    },
    {
     "name": "stderr",
     "output_type": "stream",
     "text": [
      "Training: 100%|██████████| 96/96 [02:36<00:00,  1.63s/it, loss=0.498]\n",
      "Validation: 100%|██████████| 4/4 [00:02<00:00,  1.41it/s, loss=0.529]\n"
     ]
    },
    {
     "name": "stdout",
     "output_type": "stream",
     "text": [
      "Validation Dice Score\n",
      "Class 0: 0.9909, Class 1: 0.5038, Class 2: 0.2221, Class 3: 0.3446, \n",
      "Class 4: 0.3119, Class 5: 0.5191, Class 6: 0.6406, \n",
      "Validation F-beta Score\n",
      "Class 0: 0.9925, Class 1: 0.5388, Class 2: 0.2751, Class 3: 0.3686, \n",
      "Class 4: 0.2859, Class 5: 0.6184, Class 6: 0.6500, \n",
      "Overall Mean Dice Score: 0.4640\n",
      "Overall Mean F-beta Score: 0.4923\n",
      "\n",
      "Training Loss: 1.7345, Validation Loss: 0.4139, Validation F-beta: 0.4923\n",
      "Epoch 53/4000\n",
      "Current lambda: 0.4300\n"
     ]
    },
    {
     "name": "stderr",
     "output_type": "stream",
     "text": [
      "Training: 100%|██████████| 96/96 [02:33<00:00,  1.60s/it, loss=0.404]\n",
      "Validation: 100%|██████████| 4/4 [00:02<00:00,  1.43it/s, loss=0.416]\n"
     ]
    },
    {
     "name": "stdout",
     "output_type": "stream",
     "text": [
      "Validation Dice Score\n",
      "Class 0: 0.9890, Class 1: 0.7102, Class 2: 0.1707, Class 3: 0.2833, \n",
      "Class 4: 0.5620, Class 5: 0.4171, Class 6: 0.6110, \n",
      "Validation F-beta Score\n",
      "Class 0: 0.9906, Class 1: 0.7792, Class 2: 0.1645, Class 3: 0.2571, \n",
      "Class 4: 0.5718, Class 5: 0.4691, Class 6: 0.6711, \n",
      "Overall Mean Dice Score: 0.5167\n",
      "Overall Mean F-beta Score: 0.5497\n",
      "\n",
      "Training Loss: 1.7031, Validation Loss: 0.4005, Validation F-beta: 0.5497\n",
      "Validation loss did not improve. Reducing lambda to 0.4200\n",
      "Epoch 54/4000\n",
      "Current lambda: 0.4200\n"
     ]
    },
    {
     "name": "stderr",
     "output_type": "stream",
     "text": [
      "Training: 100%|██████████| 96/96 [02:35<00:00,  1.62s/it, loss=0.422]\n",
      "Validation: 100%|██████████| 4/4 [00:02<00:00,  1.44it/s, loss=0.478]\n"
     ]
    },
    {
     "name": "stdout",
     "output_type": "stream",
     "text": [
      "Validation Dice Score\n",
      "Class 0: 0.9880, Class 1: 0.7853, Class 2: 0.1247, Class 3: 0.2493, \n",
      "Class 4: 0.4402, Class 5: 0.3996, Class 6: 0.6342, \n",
      "Validation F-beta Score\n",
      "Class 0: 0.9891, Class 1: 0.8432, Class 2: 0.1236, Class 3: 0.2654, \n",
      "Class 4: 0.4713, Class 5: 0.4072, Class 6: 0.6719, \n",
      "Overall Mean Dice Score: 0.5017\n",
      "Overall Mean F-beta Score: 0.5318\n",
      "\n",
      "Training Loss: 1.6993, Validation Loss: 0.4179, Validation F-beta: 0.5318\n",
      "Epoch 55/4000\n",
      "Current lambda: 0.4200\n"
     ]
    },
    {
     "name": "stderr",
     "output_type": "stream",
     "text": [
      "Training: 100%|██████████| 96/96 [02:39<00:00,  1.67s/it, loss=0.382]\n",
      "Validation: 100%|██████████| 4/4 [00:02<00:00,  1.42it/s, loss=0.393]\n"
     ]
    },
    {
     "name": "stdout",
     "output_type": "stream",
     "text": [
      "Validation Dice Score\n",
      "Class 0: 0.9933, Class 1: 0.5405, Class 2: 0.3168, Class 3: 0.3244, \n",
      "Class 4: 0.5265, Class 5: 0.5425, Class 6: 0.6822, \n",
      "Validation F-beta Score\n",
      "Class 0: 0.9923, Class 1: 0.6171, Class 2: 0.3776, Class 3: 0.3120, \n",
      "Class 4: 0.5641, Class 5: 0.6176, Class 6: 0.7244, \n",
      "Overall Mean Dice Score: 0.5232\n",
      "Overall Mean F-beta Score: 0.5670\n",
      "\n",
      "Training Loss: 1.6694, Validation Loss: 0.4319, Validation F-beta: 0.5670\n",
      "Epoch 56/4000\n",
      "Current lambda: 0.4200\n"
     ]
    },
    {
     "name": "stderr",
     "output_type": "stream",
     "text": [
      "Training: 100%|██████████| 96/96 [02:41<00:00,  1.69s/it, loss=0.393]\n",
      "Validation: 100%|██████████| 4/4 [00:02<00:00,  1.42it/s, loss=0.366]\n"
     ]
    },
    {
     "name": "stdout",
     "output_type": "stream",
     "text": [
      "Validation Dice Score\n",
      "Class 0: 0.9890, Class 1: 0.6203, Class 2: 0.2456, Class 3: 0.4791, \n",
      "Class 4: 0.5643, Class 5: 0.3589, Class 6: 0.5653, \n",
      "Validation F-beta Score\n",
      "Class 0: 0.9911, Class 1: 0.6134, Class 2: 0.3684, Class 3: 0.4211, \n",
      "Class 4: 0.5065, Class 5: 0.3821, Class 6: 0.5894, \n",
      "Overall Mean Dice Score: 0.5176\n",
      "Overall Mean F-beta Score: 0.5025\n",
      "\n",
      "Training Loss: 1.6763, Validation Loss: 0.3684, Validation F-beta: 0.5025\n",
      "========================================================\n",
      "Best model saved based on validation loss: 0.3684\n",
      "========================================================\n",
      "Epoch 57/4000\n",
      "Current lambda: 0.4200\n"
     ]
    },
    {
     "name": "stderr",
     "output_type": "stream",
     "text": [
      "Training: 100%|██████████| 96/96 [02:43<00:00,  1.70s/it, loss=0.39] \n",
      "Validation: 100%|██████████| 4/4 [00:03<00:00,  1.31it/s, loss=0.449]\n"
     ]
    },
    {
     "name": "stdout",
     "output_type": "stream",
     "text": [
      "Validation Dice Score\n",
      "Class 0: 0.9914, Class 1: 0.0000, Class 2: 0.2127, Class 3: 0.2616, \n",
      "Class 4: 0.4368, Class 5: 0.3504, Class 6: 0.5600, \n",
      "Validation F-beta Score\n",
      "Class 0: 0.9914, Class 1: 0.0000, Class 2: 0.3437, Class 3: 0.2523, \n",
      "Class 4: 0.4507, Class 5: 0.3039, Class 6: 0.6813, \n",
      "Overall Mean Dice Score: 0.3218\n",
      "Overall Mean F-beta Score: 0.3376\n",
      "\n",
      "Training Loss: 1.6630, Validation Loss: 0.4797, Validation F-beta: 0.3376\n",
      "Epoch 58/4000\n",
      "Current lambda: 0.4200\n"
     ]
    },
    {
     "name": "stderr",
     "output_type": "stream",
     "text": [
      "Training: 100%|██████████| 96/96 [02:46<00:00,  1.73s/it, loss=0.43] \n",
      "Validation: 100%|██████████| 4/4 [00:02<00:00,  1.35it/s, loss=0.377]\n"
     ]
    },
    {
     "name": "stdout",
     "output_type": "stream",
     "text": [
      "Validation Dice Score\n",
      "Class 0: 0.9921, Class 1: 0.7675, Class 2: 0.1720, Class 3: 0.1778, \n",
      "Class 4: 0.4928, Class 5: 0.4478, Class 6: 0.5477, \n",
      "Validation F-beta Score\n",
      "Class 0: 0.9921, Class 1: 0.8890, Class 2: 0.2131, Class 3: 0.1476, \n",
      "Class 4: 0.4433, Class 5: 0.4592, Class 6: 0.6371, \n",
      "Overall Mean Dice Score: 0.4867\n",
      "Overall Mean F-beta Score: 0.5152\n",
      "\n",
      "Training Loss: 1.6892, Validation Loss: 0.4227, Validation F-beta: 0.5152\n",
      "Epoch 59/4000\n",
      "Current lambda: 0.4200\n"
     ]
    },
    {
     "name": "stderr",
     "output_type": "stream",
     "text": [
      "Training: 100%|██████████| 96/96 [02:48<00:00,  1.76s/it, loss=0.437]\n",
      "Validation: 100%|██████████| 4/4 [00:03<00:00,  1.33it/s, loss=0.286]\n"
     ]
    },
    {
     "name": "stdout",
     "output_type": "stream",
     "text": [
      "Validation Dice Score\n",
      "Class 0: 0.9873, Class 1: 0.5983, Class 2: 0.2393, Class 3: 0.3621, \n",
      "Class 4: 0.4918, Class 5: 0.2822, Class 6: 0.6498, \n",
      "Validation F-beta Score\n",
      "Class 0: 0.9921, Class 1: 0.6363, Class 2: 0.2566, Class 3: 0.3790, \n",
      "Class 4: 0.4146, Class 5: 0.2189, Class 6: 0.6575, \n",
      "Overall Mean Dice Score: 0.4768\n",
      "Overall Mean F-beta Score: 0.4613\n",
      "\n",
      "Training Loss: 1.6916, Validation Loss: 0.4018, Validation F-beta: 0.4613\n",
      "Epoch 60/4000\n",
      "Current lambda: 0.4200\n"
     ]
    },
    {
     "name": "stderr",
     "output_type": "stream",
     "text": [
      "Training: 100%|██████████| 96/96 [02:43<00:00,  1.71s/it, loss=0.348]\n",
      "Validation: 100%|██████████| 4/4 [00:02<00:00,  1.38it/s, loss=0.355]\n"
     ]
    },
    {
     "name": "stdout",
     "output_type": "stream",
     "text": [
      "Validation Dice Score\n",
      "Class 0: 0.9916, Class 1: 0.6964, Class 2: 0.1028, Class 3: 0.2057, \n",
      "Class 4: 0.5228, Class 5: 0.5270, Class 6: 0.6472, \n",
      "Validation F-beta Score\n",
      "Class 0: 0.9895, Class 1: 0.7819, Class 2: 0.1000, Class 3: 0.1721, \n",
      "Class 4: 0.6452, Class 5: 0.6077, Class 6: 0.7259, \n",
      "Overall Mean Dice Score: 0.5198\n",
      "Overall Mean F-beta Score: 0.5866\n",
      "\n",
      "Training Loss: 1.6905, Validation Loss: 0.4065, Validation F-beta: 0.5866\n",
      "Validation loss did not improve. Reducing lambda to 0.4100\n",
      "Epoch 61/4000\n",
      "Current lambda: 0.4100\n"
     ]
    },
    {
     "name": "stderr",
     "output_type": "stream",
     "text": [
      "Training: 100%|██████████| 96/96 [02:45<00:00,  1.72s/it, loss=0.401]\n",
      "Validation: 100%|██████████| 4/4 [00:03<00:00,  1.13it/s, loss=0.472]\n"
     ]
    },
    {
     "name": "stdout",
     "output_type": "stream",
     "text": [
      "Validation Dice Score\n",
      "Class 0: 0.9903, Class 1: 0.3919, Class 2: 0.3838, Class 3: 0.5152, \n",
      "Class 4: 0.5482, Class 5: 0.1279, Class 6: 0.4624, \n",
      "Validation F-beta Score\n",
      "Class 0: 0.9894, Class 1: 0.3702, Class 2: 0.4053, Class 3: 0.5168, \n",
      "Class 4: 0.5509, Class 5: 0.1264, Class 6: 0.4757, \n",
      "Overall Mean Dice Score: 0.4091\n",
      "Overall Mean F-beta Score: 0.4080\n",
      "\n",
      "Training Loss: 1.6756, Validation Loss: 0.4346, Validation F-beta: 0.4080\n",
      "Epoch 62/4000\n",
      "Current lambda: 0.4100\n"
     ]
    },
    {
     "name": "stderr",
     "output_type": "stream",
     "text": [
      "Training: 100%|██████████| 96/96 [02:46<00:00,  1.74s/it, loss=0.497]\n",
      "Validation: 100%|██████████| 4/4 [00:03<00:00,  1.30it/s, loss=0.406]\n"
     ]
    },
    {
     "name": "stdout",
     "output_type": "stream",
     "text": [
      "Validation Dice Score\n",
      "Class 0: 0.9877, Class 1: 0.7675, Class 2: 0.0000, Class 3: 0.1739, \n",
      "Class 4: 0.2727, Class 5: 0.4765, Class 6: 0.8644, \n",
      "Validation F-beta Score\n",
      "Class 0: 0.9912, Class 1: 0.7284, Class 2: 0.0000, Class 3: 0.1817, \n",
      "Class 4: 0.2139, Class 5: 0.4954, Class 6: 0.9308, \n",
      "Overall Mean Dice Score: 0.5110\n",
      "Overall Mean F-beta Score: 0.5100\n",
      "\n",
      "Training Loss: 1.7131, Validation Loss: 0.4284, Validation F-beta: 0.5100\n",
      "Epoch 63/4000\n",
      "Current lambda: 0.4100\n"
     ]
    },
    {
     "name": "stderr",
     "output_type": "stream",
     "text": [
      "Training: 100%|██████████| 96/96 [02:45<00:00,  1.72s/it, loss=0.418]\n",
      "Validation: 100%|██████████| 4/4 [00:02<00:00,  1.37it/s, loss=0.338]\n"
     ]
    },
    {
     "name": "stdout",
     "output_type": "stream",
     "text": [
      "Validation Dice Score\n",
      "Class 0: 0.9859, Class 1: 0.6094, Class 2: 0.0697, Class 3: 0.3855, \n",
      "Class 4: 0.6004, Class 5: 0.4302, Class 6: 0.8296, \n",
      "Validation F-beta Score\n",
      "Class 0: 0.9909, Class 1: 0.6810, Class 2: 0.0772, Class 3: 0.3578, \n",
      "Class 4: 0.5061, Class 5: 0.3524, Class 6: 0.8864, \n",
      "Overall Mean Dice Score: 0.5710\n",
      "Overall Mean F-beta Score: 0.5567\n",
      "\n",
      "Training Loss: 1.7112, Validation Loss: 0.4042, Validation F-beta: 0.5567\n",
      "Epoch 64/4000\n",
      "Current lambda: 0.4100\n"
     ]
    },
    {
     "name": "stderr",
     "output_type": "stream",
     "text": [
      "Training: 100%|██████████| 96/96 [02:41<00:00,  1.68s/it, loss=0.434]\n",
      "Validation: 100%|██████████| 4/4 [00:03<00:00,  1.29it/s, loss=0.462]\n"
     ]
    },
    {
     "name": "stdout",
     "output_type": "stream",
     "text": [
      "Validation Dice Score\n",
      "Class 0: 0.9917, Class 1: 0.5782, Class 2: 0.2228, Class 3: 0.1541, \n",
      "Class 4: 0.2664, Class 5: 0.5239, Class 6: 0.6655, \n",
      "Validation F-beta Score\n",
      "Class 0: 0.9927, Class 1: 0.6367, Class 2: 0.2347, Class 3: 0.1197, \n",
      "Class 4: 0.2412, Class 5: 0.4860, Class 6: 0.7160, \n",
      "Overall Mean Dice Score: 0.4376\n",
      "Overall Mean F-beta Score: 0.4399\n",
      "\n",
      "Training Loss: 1.6649, Validation Loss: 0.4395, Validation F-beta: 0.4399\n",
      "Epoch 65/4000\n",
      "Current lambda: 0.4100\n"
     ]
    },
    {
     "name": "stderr",
     "output_type": "stream",
     "text": [
      "Training: 100%|██████████| 96/96 [02:40<00:00,  1.67s/it, loss=0.457]\n",
      "Validation: 100%|██████████| 4/4 [00:02<00:00,  1.38it/s, loss=0.421]\n"
     ]
    },
    {
     "name": "stdout",
     "output_type": "stream",
     "text": [
      "Validation Dice Score\n",
      "Class 0: 0.9933, Class 1: 0.3282, Class 2: 0.1107, Class 3: 0.4797, \n",
      "Class 4: 0.4237, Class 5: 0.3860, Class 6: 0.2289, \n",
      "Validation F-beta Score\n",
      "Class 0: 0.9928, Class 1: 0.4336, Class 2: 0.1271, Class 3: 0.4804, \n",
      "Class 4: 0.4005, Class 5: 0.3750, Class 6: 0.2385, \n",
      "Overall Mean Dice Score: 0.3693\n",
      "Overall Mean F-beta Score: 0.3856\n",
      "\n",
      "Training Loss: 1.6840, Validation Loss: 0.4367, Validation F-beta: 0.3856\n",
      "Epoch 66/4000\n",
      "Current lambda: 0.4100\n"
     ]
    },
    {
     "name": "stderr",
     "output_type": "stream",
     "text": [
      "Training: 100%|██████████| 96/96 [02:36<00:00,  1.63s/it, loss=0.406]\n",
      "Validation: 100%|██████████| 4/4 [00:02<00:00,  1.37it/s, loss=0.441]\n"
     ]
    },
    {
     "name": "stdout",
     "output_type": "stream",
     "text": [
      "Validation Dice Score\n",
      "Class 0: 0.9913, Class 1: 0.3658, Class 2: 0.0001, Class 3: 0.4008, \n",
      "Class 4: 0.5560, Class 5: 0.5240, Class 6: 0.4532, \n",
      "Validation F-beta Score\n",
      "Class 0: 0.9913, Class 1: 0.3557, Class 2: 0.0002, Class 3: 0.4133, \n",
      "Class 4: 0.5188, Class 5: 0.6617, Class 6: 0.4413, \n",
      "Overall Mean Dice Score: 0.4600\n",
      "Overall Mean F-beta Score: 0.4782\n",
      "\n",
      "Training Loss: 1.6703, Validation Loss: 0.4622, Validation F-beta: 0.4782\n",
      "Validation loss did not improve. Reducing lambda to 0.4000\n",
      "Epoch 67/4000\n",
      "Current lambda: 0.4000\n"
     ]
    },
    {
     "name": "stderr",
     "output_type": "stream",
     "text": [
      "Training: 100%|██████████| 96/96 [02:36<00:00,  1.63s/it, loss=0.43] \n",
      "Validation: 100%|██████████| 4/4 [00:02<00:00,  1.43it/s, loss=0.499]\n"
     ]
    },
    {
     "name": "stdout",
     "output_type": "stream",
     "text": [
      "Validation Dice Score\n",
      "Class 0: 0.9911, Class 1: 0.5789, Class 2: 0.2083, Class 3: 0.2296, \n",
      "Class 4: 0.4762, Class 5: 0.3330, Class 6: 0.4279, \n",
      "Validation F-beta Score\n",
      "Class 0: 0.9914, Class 1: 0.6904, Class 2: 0.2461, Class 3: 0.2028, \n",
      "Class 4: 0.4702, Class 5: 0.4129, Class 6: 0.4613, \n",
      "Overall Mean Dice Score: 0.4091\n",
      "Overall Mean F-beta Score: 0.4475\n",
      "\n",
      "Training Loss: 1.6918, Validation Loss: 0.4487, Validation F-beta: 0.4475\n",
      "Epoch 68/4000\n",
      "Current lambda: 0.4000\n"
     ]
    },
    {
     "name": "stderr",
     "output_type": "stream",
     "text": [
      "Training: 100%|██████████| 96/96 [02:29<00:00,  1.56s/it, loss=0.439]\n",
      "Validation: 100%|██████████| 4/4 [00:02<00:00,  1.45it/s, loss=0.446]\n"
     ]
    },
    {
     "name": "stdout",
     "output_type": "stream",
     "text": [
      "Validation Dice Score\n",
      "Class 0: 0.9913, Class 1: 0.8095, Class 2: 0.2713, Class 3: 0.2729, \n",
      "Class 4: 0.5408, Class 5: 0.5090, Class 6: 0.0129, \n",
      "Validation F-beta Score\n",
      "Class 0: 0.9937, Class 1: 0.8502, Class 2: 0.2874, Class 3: 0.3197, \n",
      "Class 4: 0.4887, Class 5: 0.4747, Class 6: 0.0215, \n",
      "Overall Mean Dice Score: 0.4290\n",
      "Overall Mean F-beta Score: 0.4310\n",
      "\n",
      "Training Loss: 1.6599, Validation Loss: 0.4453, Validation F-beta: 0.4310\n",
      "Epoch 69/4000\n",
      "Current lambda: 0.4000\n"
     ]
    },
    {
     "name": "stderr",
     "output_type": "stream",
     "text": [
      "Training: 100%|██████████| 96/96 [02:29<00:00,  1.56s/it, loss=0.446]\n",
      "Validation: 100%|██████████| 4/4 [00:02<00:00,  1.45it/s, loss=0.476]\n"
     ]
    },
    {
     "name": "stdout",
     "output_type": "stream",
     "text": [
      "Validation Dice Score\n",
      "Class 0: 0.9903, Class 1: 0.5624, Class 2: 0.1019, Class 3: 0.4021, \n",
      "Class 4: 0.5092, Class 5: 0.3076, Class 6: 0.8438, \n",
      "Validation F-beta Score\n",
      "Class 0: 0.9880, Class 1: 0.5792, Class 2: 0.0986, Class 3: 0.4467, \n",
      "Class 4: 0.5768, Class 5: 0.3009, Class 6: 0.8976, \n",
      "Overall Mean Dice Score: 0.5250\n",
      "Overall Mean F-beta Score: 0.5603\n",
      "\n",
      "Training Loss: 1.6758, Validation Loss: 0.4131, Validation F-beta: 0.5603\n",
      "Epoch 70/4000\n",
      "Current lambda: 0.4000\n"
     ]
    },
    {
     "name": "stderr",
     "output_type": "stream",
     "text": [
      "Training: 100%|██████████| 96/96 [02:38<00:00,  1.65s/it, loss=0.395]\n",
      "Validation: 100%|██████████| 4/4 [00:02<00:00,  1.41it/s, loss=0.361]\n"
     ]
    },
    {
     "name": "stdout",
     "output_type": "stream",
     "text": [
      "Validation Dice Score\n",
      "Class 0: 0.9924, Class 1: 0.3930, Class 2: 0.1371, Class 3: 0.5581, \n",
      "Class 4: 0.7132, Class 5: 0.4848, Class 6: 0.8243, \n",
      "Validation F-beta Score\n",
      "Class 0: 0.9931, Class 1: 0.3781, Class 2: 0.1558, Class 3: 0.5912, \n",
      "Class 4: 0.7132, Class 5: 0.4067, Class 6: 0.9206, \n",
      "Overall Mean Dice Score: 0.5947\n",
      "Overall Mean F-beta Score: 0.6020\n",
      "\n",
      "Training Loss: 1.6603, Validation Loss: 0.3512, Validation F-beta: 0.6020\n",
      "========================================================\n",
      "SUPER Best model saved. Loss:0.3512, Score:0.6020\n",
      "========================================================\n",
      "Epoch 71/4000\n",
      "Current lambda: 0.4000\n"
     ]
    },
    {
     "name": "stderr",
     "output_type": "stream",
     "text": [
      "Training: 100%|██████████| 96/96 [02:36<00:00,  1.63s/it, loss=0.472]\n",
      "Validation: 100%|██████████| 4/4 [00:03<00:00,  1.18it/s, loss=0.486]\n"
     ]
    },
    {
     "name": "stdout",
     "output_type": "stream",
     "text": [
      "Validation Dice Score\n",
      "Class 0: 0.9914, Class 1: 0.7537, Class 2: 0.0000, Class 3: 0.4210, \n",
      "Class 4: 0.2115, Class 5: 0.3144, Class 6: 0.6219, \n",
      "Validation F-beta Score\n",
      "Class 0: 0.9931, Class 1: 0.7474, Class 2: 0.0000, Class 3: 0.4239, \n",
      "Class 4: 0.4008, Class 5: 0.3448, Class 6: 0.6393, \n",
      "Overall Mean Dice Score: 0.4645\n",
      "Overall Mean F-beta Score: 0.5112\n",
      "\n",
      "Training Loss: 1.7096, Validation Loss: 0.4320, Validation F-beta: 0.5112\n",
      "Epoch 72/4000\n",
      "Current lambda: 0.4000\n"
     ]
    },
    {
     "name": "stderr",
     "output_type": "stream",
     "text": [
      "Training: 100%|██████████| 96/96 [02:31<00:00,  1.58s/it, loss=0.456]\n",
      "Validation: 100%|██████████| 4/4 [00:02<00:00,  1.46it/s, loss=0.393]\n"
     ]
    },
    {
     "name": "stdout",
     "output_type": "stream",
     "text": [
      "Validation Dice Score\n",
      "Class 0: 0.9865, Class 1: 0.7410, Class 2: 0.2261, Class 3: 0.5404, \n",
      "Class 4: 0.5348, Class 5: 0.4532, Class 6: 0.6880, \n",
      "Validation F-beta Score\n",
      "Class 0: 0.9916, Class 1: 0.6592, Class 2: 0.2325, Class 3: 0.6027, \n",
      "Class 4: 0.5022, Class 5: 0.3828, Class 6: 0.7448, \n",
      "Overall Mean Dice Score: 0.5915\n",
      "Overall Mean F-beta Score: 0.5783\n",
      "\n",
      "Training Loss: 1.6769, Validation Loss: 0.3584, Validation F-beta: 0.5783\n",
      "Epoch 73/4000\n",
      "Current lambda: 0.4000\n"
     ]
    },
    {
     "name": "stderr",
     "output_type": "stream",
     "text": [
      "Training: 100%|██████████| 96/96 [02:29<00:00,  1.56s/it, loss=0.476]\n",
      "Validation: 100%|██████████| 4/4 [00:02<00:00,  1.46it/s, loss=0.341]\n"
     ]
    },
    {
     "name": "stdout",
     "output_type": "stream",
     "text": [
      "Validation Dice Score\n",
      "Class 0: 0.9918, Class 1: 0.5282, Class 2: 0.0953, Class 3: 0.4562, \n",
      "Class 4: 0.3006, Class 5: 0.4941, Class 6: 0.9211, \n",
      "Validation F-beta Score\n",
      "Class 0: 0.9929, Class 1: 0.4620, Class 2: 0.1044, Class 3: 0.4392, \n",
      "Class 4: 0.2924, Class 5: 0.4887, Class 6: 0.9123, \n",
      "Overall Mean Dice Score: 0.5400\n",
      "Overall Mean F-beta Score: 0.5189\n",
      "\n",
      "Training Loss: 1.6759, Validation Loss: 0.3910, Validation F-beta: 0.5189\n",
      "Epoch 74/4000\n",
      "Current lambda: 0.4000\n"
     ]
    },
    {
     "name": "stderr",
     "output_type": "stream",
     "text": [
      "Training: 100%|██████████| 96/96 [02:29<00:00,  1.56s/it, loss=0.413]\n",
      "Validation: 100%|██████████| 4/4 [00:02<00:00,  1.45it/s, loss=0.424]\n"
     ]
    },
    {
     "name": "stdout",
     "output_type": "stream",
     "text": [
      "Validation Dice Score\n",
      "Class 0: 0.9912, Class 1: 0.6071, Class 2: 0.0656, Class 3: 0.1014, \n",
      "Class 4: 0.5019, Class 5: 0.5327, Class 6: 0.6896, \n",
      "Validation F-beta Score\n",
      "Class 0: 0.9910, Class 1: 0.6508, Class 2: 0.0917, Class 3: 0.1085, \n",
      "Class 4: 0.5315, Class 5: 0.4778, Class 6: 0.9587, \n",
      "Overall Mean Dice Score: 0.4865\n",
      "Overall Mean F-beta Score: 0.5455\n",
      "\n",
      "Training Loss: 1.6623, Validation Loss: 0.4219, Validation F-beta: 0.5455\n",
      "Epoch 75/4000\n",
      "Current lambda: 0.4000\n"
     ]
    },
    {
     "name": "stderr",
     "output_type": "stream",
     "text": [
      "Training: 100%|██████████| 96/96 [02:29<00:00,  1.56s/it, loss=0.43] \n",
      "Validation: 100%|██████████| 4/4 [00:02<00:00,  1.44it/s, loss=0.491]\n"
     ]
    },
    {
     "name": "stdout",
     "output_type": "stream",
     "text": [
      "Validation Dice Score\n",
      "Class 0: 0.9867, Class 1: 0.4948, Class 2: 0.1953, Class 3: 0.1894, \n",
      "Class 4: 0.2512, Class 5: 0.3290, Class 6: 0.8560, \n",
      "Validation F-beta Score\n",
      "Class 0: 0.9916, Class 1: 0.5396, Class 2: 0.2665, Class 3: 0.1664, \n",
      "Class 4: 0.1938, Class 5: 0.2882, Class 6: 0.8421, \n",
      "Overall Mean Dice Score: 0.4241\n",
      "Overall Mean F-beta Score: 0.4060\n",
      "\n",
      "Training Loss: 1.6763, Validation Loss: 0.4572, Validation F-beta: 0.4060\n",
      "Validation loss did not improve. Reducing lambda to 0.3900\n",
      "Epoch 76/4000\n",
      "Current lambda: 0.3900\n"
     ]
    },
    {
     "name": "stderr",
     "output_type": "stream",
     "text": [
      "Training: 100%|██████████| 96/96 [02:29<00:00,  1.56s/it, loss=0.391]\n",
      "Validation: 100%|██████████| 4/4 [00:02<00:00,  1.46it/s, loss=0.44] \n"
     ]
    },
    {
     "name": "stdout",
     "output_type": "stream",
     "text": [
      "Validation Dice Score\n",
      "Class 0: 0.9901, Class 1: 0.7650, Class 2: 0.2276, Class 3: 0.0458, \n",
      "Class 4: 0.5595, Class 5: 0.3174, Class 6: 0.6595, \n",
      "Validation F-beta Score\n",
      "Class 0: 0.9899, Class 1: 0.7765, Class 2: 0.1965, Class 3: 0.0409, \n",
      "Class 4: 0.5928, Class 5: 0.3234, Class 6: 0.6659, \n",
      "Overall Mean Dice Score: 0.4694\n",
      "Overall Mean F-beta Score: 0.4799\n",
      "\n",
      "Training Loss: 1.6931, Validation Loss: 0.4459, Validation F-beta: 0.4799\n",
      "Epoch 77/4000\n",
      "Current lambda: 0.3900\n"
     ]
    },
    {
     "name": "stderr",
     "output_type": "stream",
     "text": [
      "Training: 100%|██████████| 96/96 [02:29<00:00,  1.56s/it, loss=0.393]\n",
      "Validation: 100%|██████████| 4/4 [00:02<00:00,  1.45it/s, loss=0.511]\n"
     ]
    },
    {
     "name": "stdout",
     "output_type": "stream",
     "text": [
      "Validation Dice Score\n",
      "Class 0: 0.9907, Class 1: 0.3520, Class 2: 0.2783, Class 3: 0.4412, \n",
      "Class 4: 0.6222, Class 5: 0.4861, Class 6: 0.2172, \n",
      "Validation F-beta Score\n",
      "Class 0: 0.9918, Class 1: 0.3783, Class 2: 0.3334, Class 3: 0.3747, \n",
      "Class 4: 0.6614, Class 5: 0.4307, Class 6: 0.2208, \n",
      "Overall Mean Dice Score: 0.4238\n",
      "Overall Mean F-beta Score: 0.4132\n",
      "\n",
      "Training Loss: 1.7196, Validation Loss: 0.4410, Validation F-beta: 0.4132\n",
      "Epoch 78/4000\n",
      "Current lambda: 0.3900\n"
     ]
    },
    {
     "name": "stderr",
     "output_type": "stream",
     "text": [
      "Training: 100%|██████████| 96/96 [02:29<00:00,  1.56s/it, loss=0.43] \n",
      "Validation: 100%|██████████| 4/4 [00:02<00:00,  1.46it/s, loss=0.453]\n"
     ]
    },
    {
     "name": "stdout",
     "output_type": "stream",
     "text": [
      "Validation Dice Score\n",
      "Class 0: 0.9905, Class 1: 0.7819, Class 2: 0.0237, Class 3: 0.2774, \n",
      "Class 4: 0.5236, Class 5: 0.4061, Class 6: 0.8556, \n",
      "Validation F-beta Score\n",
      "Class 0: 0.9890, Class 1: 0.7819, Class 2: 0.0265, Class 3: 0.2940, \n",
      "Class 4: 0.5540, Class 5: 0.4458, Class 6: 0.8548, \n",
      "Overall Mean Dice Score: 0.5689\n",
      "Overall Mean F-beta Score: 0.5861\n",
      "\n",
      "Training Loss: 1.7030, Validation Loss: 0.3855, Validation F-beta: 0.5861\n",
      "Epoch 79/4000\n",
      "Current lambda: 0.3900\n"
     ]
    },
    {
     "name": "stderr",
     "output_type": "stream",
     "text": [
      "Training: 100%|██████████| 96/96 [02:29<00:00,  1.56s/it, loss=0.434]\n",
      "Validation: 100%|██████████| 4/4 [00:02<00:00,  1.46it/s, loss=0.42] \n"
     ]
    },
    {
     "name": "stdout",
     "output_type": "stream",
     "text": [
      "Validation Dice Score\n",
      "Class 0: 0.9899, Class 1: 0.6984, Class 2: 0.1991, Class 3: 0.3907, \n",
      "Class 4: 0.5843, Class 5: 0.4144, Class 6: 0.7180, \n",
      "Validation F-beta Score\n",
      "Class 0: 0.9920, Class 1: 0.6343, Class 2: 0.2505, Class 3: 0.3311, \n",
      "Class 4: 0.5167, Class 5: 0.4471, Class 6: 0.7373, \n",
      "Overall Mean Dice Score: 0.5612\n",
      "Overall Mean F-beta Score: 0.5333\n",
      "\n",
      "Training Loss: 1.6646, Validation Loss: 0.3852, Validation F-beta: 0.5333\n",
      "Epoch 80/4000\n",
      "Current lambda: 0.3900\n"
     ]
    },
    {
     "name": "stderr",
     "output_type": "stream",
     "text": [
      "Training: 100%|██████████| 96/96 [02:29<00:00,  1.56s/it, loss=0.383]\n",
      "Validation: 100%|██████████| 4/4 [00:02<00:00,  1.45it/s, loss=0.525]\n"
     ]
    },
    {
     "name": "stdout",
     "output_type": "stream",
     "text": [
      "Validation Dice Score\n",
      "Class 0: 0.9893, Class 1: 0.3518, Class 2: 0.0000, Class 3: 0.2787, \n",
      "Class 4: 0.5250, Class 5: 0.3695, Class 6: 0.6308, \n",
      "Validation F-beta Score\n",
      "Class 0: 0.9891, Class 1: 0.4315, Class 2: 0.0000, Class 3: 0.2537, \n",
      "Class 4: 0.4758, Class 5: 0.3601, Class 6: 0.6984, \n",
      "Overall Mean Dice Score: 0.4312\n",
      "Overall Mean F-beta Score: 0.4439\n",
      "\n",
      "Training Loss: 1.6832, Validation Loss: 0.4420, Validation F-beta: 0.4439\n",
      "Epoch 81/4000\n",
      "Current lambda: 0.3900\n"
     ]
    },
    {
     "name": "stderr",
     "output_type": "stream",
     "text": [
      "Training: 100%|██████████| 96/96 [02:29<00:00,  1.56s/it, loss=0.301]\n",
      "Validation: 100%|██████████| 4/4 [00:03<00:00,  1.22it/s, loss=0.395]\n"
     ]
    },
    {
     "name": "stdout",
     "output_type": "stream",
     "text": [
      "Validation Dice Score\n",
      "Class 0: 0.9937, Class 1: 0.7263, Class 2: 0.1650, Class 3: 0.5656, \n",
      "Class 4: 0.6471, Class 5: 0.4813, Class 6: 0.6320, \n",
      "Validation F-beta Score\n",
      "Class 0: 0.9930, Class 1: 0.7493, Class 2: 0.1642, Class 3: 0.5923, \n",
      "Class 4: 0.7425, Class 5: 0.4821, Class 6: 0.6222, \n",
      "Overall Mean Dice Score: 0.6104\n",
      "Overall Mean F-beta Score: 0.6377\n",
      "\n",
      "Training Loss: 1.6789, Validation Loss: 0.3590, Validation F-beta: 0.6377\n",
      "Validation loss did not improve. Reducing lambda to 0.3800\n",
      "Epoch 82/4000\n",
      "Current lambda: 0.3800\n"
     ]
    },
    {
     "name": "stderr",
     "output_type": "stream",
     "text": [
      "Training: 100%|██████████| 96/96 [02:29<00:00,  1.56s/it, loss=0.43] \n",
      "Validation: 100%|██████████| 4/4 [00:02<00:00,  1.44it/s, loss=0.439]\n"
     ]
    },
    {
     "name": "stdout",
     "output_type": "stream",
     "text": [
      "Validation Dice Score\n",
      "Class 0: 0.9917, Class 1: 0.5866, Class 2: 0.0149, Class 3: 0.2254, \n",
      "Class 4: 0.6236, Class 5: 0.5123, Class 6: 0.8868, \n",
      "Validation F-beta Score\n",
      "Class 0: 0.9937, Class 1: 0.5445, Class 2: 0.0135, Class 3: 0.2299, \n",
      "Class 4: 0.5489, Class 5: 0.5416, Class 6: 0.8936, \n",
      "Overall Mean Dice Score: 0.5670\n",
      "Overall Mean F-beta Score: 0.5517\n",
      "\n",
      "Training Loss: 1.6802, Validation Loss: 0.3711, Validation F-beta: 0.5517\n",
      "Epoch 83/4000\n",
      "Current lambda: 0.3800\n"
     ]
    },
    {
     "name": "stderr",
     "output_type": "stream",
     "text": [
      "Training: 100%|██████████| 96/96 [02:29<00:00,  1.56s/it, loss=0.532]\n",
      "Validation: 100%|██████████| 4/4 [00:02<00:00,  1.48it/s, loss=0.448]\n"
     ]
    },
    {
     "name": "stdout",
     "output_type": "stream",
     "text": [
      "Validation Dice Score\n",
      "Class 0: 0.9902, Class 1: 0.7802, Class 2: 0.0869, Class 3: 0.2588, \n",
      "Class 4: 0.5657, Class 5: 0.5264, Class 6: 0.5020, \n",
      "Validation F-beta Score\n",
      "Class 0: 0.9912, Class 1: 0.8949, Class 2: 0.0743, Class 3: 0.2002, \n",
      "Class 4: 0.5973, Class 5: 0.4576, Class 6: 0.5468, \n",
      "Overall Mean Dice Score: 0.5266\n",
      "Overall Mean F-beta Score: 0.5394\n",
      "\n",
      "Training Loss: 1.6590, Validation Loss: 0.4117, Validation F-beta: 0.5394\n",
      "Epoch 84/4000\n",
      "Current lambda: 0.3800\n"
     ]
    },
    {
     "name": "stderr",
     "output_type": "stream",
     "text": [
      "Training: 100%|██████████| 96/96 [02:40<00:00,  1.67s/it, loss=0.461]\n",
      "Validation: 100%|██████████| 4/4 [00:02<00:00,  1.37it/s, loss=0.433]\n"
     ]
    },
    {
     "name": "stdout",
     "output_type": "stream",
     "text": [
      "Validation Dice Score\n",
      "Class 0: 0.9915, Class 1: 0.6960, Class 2: 0.2224, Class 3: 0.6437, \n",
      "Class 4: 0.3882, Class 5: 0.3661, Class 6: 0.3727, \n",
      "Validation F-beta Score\n",
      "Class 0: 0.9919, Class 1: 0.6714, Class 2: 0.3020, Class 3: 0.6308, \n",
      "Class 4: 0.3106, Class 5: 0.4610, Class 6: 0.4235, \n",
      "Overall Mean Dice Score: 0.4933\n",
      "Overall Mean F-beta Score: 0.4994\n",
      "\n",
      "Training Loss: 1.6221, Validation Loss: 0.3991, Validation F-beta: 0.4994\n",
      "Epoch 85/4000\n",
      "Current lambda: 0.3800\n"
     ]
    },
    {
     "name": "stderr",
     "output_type": "stream",
     "text": [
      "Training: 100%|██████████| 96/96 [02:39<00:00,  1.66s/it, loss=0.454]\n",
      "Validation: 100%|██████████| 4/4 [00:02<00:00,  1.40it/s, loss=0.347]\n"
     ]
    },
    {
     "name": "stdout",
     "output_type": "stream",
     "text": [
      "Validation Dice Score\n",
      "Class 0: 0.9906, Class 1: 0.4624, Class 2: 0.1463, Class 3: 0.2612, \n",
      "Class 4: 0.4494, Class 5: 0.5642, Class 6: 0.8464, \n",
      "Validation F-beta Score\n",
      "Class 0: 0.9924, Class 1: 0.4060, Class 2: 0.1479, Class 3: 0.2905, \n",
      "Class 4: 0.4626, Class 5: 0.5673, Class 6: 0.9088, \n",
      "Overall Mean Dice Score: 0.5167\n",
      "Overall Mean F-beta Score: 0.5270\n",
      "\n",
      "Training Loss: 1.7008, Validation Loss: 0.4170, Validation F-beta: 0.5270\n",
      "Epoch 86/4000\n",
      "Current lambda: 0.3800\n"
     ]
    },
    {
     "name": "stderr",
     "output_type": "stream",
     "text": [
      "Training: 100%|██████████| 96/96 [02:37<00:00,  1.64s/it, loss=0.451]\n",
      "Validation: 100%|██████████| 4/4 [00:02<00:00,  1.37it/s, loss=0.414]\n"
     ]
    },
    {
     "name": "stdout",
     "output_type": "stream",
     "text": [
      "Validation Dice Score\n",
      "Class 0: 0.9900, Class 1: 0.7498, Class 2: 0.4444, Class 3: 0.4623, \n",
      "Class 4: 0.4848, Class 5: 0.4807, Class 6: 0.4148, \n",
      "Validation F-beta Score\n",
      "Class 0: 0.9934, Class 1: 0.7660, Class 2: 0.4557, Class 3: 0.5233, \n",
      "Class 4: 0.4041, Class 5: 0.4345, Class 6: 0.4517, \n",
      "Overall Mean Dice Score: 0.5185\n",
      "Overall Mean F-beta Score: 0.5159\n",
      "\n",
      "Training Loss: 1.6809, Validation Loss: 0.4061, Validation F-beta: 0.5159\n",
      "Epoch 87/4000\n",
      "Current lambda: 0.3800\n"
     ]
    },
    {
     "name": "stderr",
     "output_type": "stream",
     "text": [
      "Training: 100%|██████████| 96/96 [02:30<00:00,  1.57s/it, loss=0.456]\n",
      "Validation: 100%|██████████| 4/4 [00:02<00:00,  1.45it/s, loss=0.535]\n"
     ]
    },
    {
     "name": "stdout",
     "output_type": "stream",
     "text": [
      "Validation Dice Score\n",
      "Class 0: 0.9892, Class 1: 0.4150, Class 2: 0.1146, Class 3: 0.2631, \n",
      "Class 4: 0.6745, Class 5: 0.2921, Class 6: 0.4509, \n",
      "Validation F-beta Score\n",
      "Class 0: 0.9912, Class 1: 0.3917, Class 2: 0.1615, Class 3: 0.2418, \n",
      "Class 4: 0.6332, Class 5: 0.2651, Class 6: 0.5500, \n",
      "Overall Mean Dice Score: 0.4191\n",
      "Overall Mean F-beta Score: 0.4164\n",
      "\n",
      "Training Loss: 1.6932, Validation Loss: 0.4345, Validation F-beta: 0.4164\n",
      "Validation loss did not improve. Reducing lambda to 0.3700\n",
      "Epoch 88/4000\n",
      "Current lambda: 0.3700\n"
     ]
    },
    {
     "name": "stderr",
     "output_type": "stream",
     "text": [
      "Training: 100%|██████████| 96/96 [02:29<00:00,  1.56s/it, loss=0.447]\n",
      "Validation: 100%|██████████| 4/4 [00:02<00:00,  1.47it/s, loss=0.423]\n"
     ]
    },
    {
     "name": "stdout",
     "output_type": "stream",
     "text": [
      "Validation Dice Score\n",
      "Class 0: 0.9885, Class 1: 0.4399, Class 2: 0.0076, Class 3: 0.1896, \n",
      "Class 4: 0.4237, Class 5: 0.3329, Class 6: 0.6798, \n",
      "Validation F-beta Score\n",
      "Class 0: 0.9924, Class 1: 0.3581, Class 2: 0.0066, Class 3: 0.2279, \n",
      "Class 4: 0.3415, Class 5: 0.2932, Class 6: 0.6832, \n",
      "Overall Mean Dice Score: 0.4132\n",
      "Overall Mean F-beta Score: 0.3808\n",
      "\n",
      "Training Loss: 1.6524, Validation Loss: 0.4483, Validation F-beta: 0.3808\n",
      "Epoch 89/4000\n",
      "Current lambda: 0.3700\n"
     ]
    },
    {
     "name": "stderr",
     "output_type": "stream",
     "text": [
      "Training: 100%|██████████| 96/96 [02:38<00:00,  1.66s/it, loss=0.403]\n",
      "Validation: 100%|██████████| 4/4 [00:02<00:00,  1.42it/s, loss=0.435]\n"
     ]
    },
    {
     "name": "stdout",
     "output_type": "stream",
     "text": [
      "Validation Dice Score\n",
      "Class 0: 0.9934, Class 1: 0.4181, Class 2: 0.0924, Class 3: 0.3931, \n",
      "Class 4: 0.4881, Class 5: 0.5378, Class 6: 0.2012, \n",
      "Validation F-beta Score\n",
      "Class 0: 0.9939, Class 1: 0.4990, Class 2: 0.0921, Class 3: 0.3893, \n",
      "Class 4: 0.4251, Class 5: 0.5114, Class 6: 0.2097, \n",
      "Overall Mean Dice Score: 0.4077\n",
      "Overall Mean F-beta Score: 0.4069\n",
      "\n",
      "Training Loss: 1.6494, Validation Loss: 0.4480, Validation F-beta: 0.4069\n",
      "Epoch 90/4000\n",
      "Current lambda: 0.3700\n"
     ]
    },
    {
     "name": "stderr",
     "output_type": "stream",
     "text": [
      "Training: 100%|██████████| 96/96 [02:37<00:00,  1.64s/it, loss=0.384]\n",
      "Validation: 100%|██████████| 4/4 [00:02<00:00,  1.42it/s, loss=0.389]\n"
     ]
    },
    {
     "name": "stdout",
     "output_type": "stream",
     "text": [
      "Validation Dice Score\n",
      "Class 0: 0.9896, Class 1: 0.5927, Class 2: 0.2723, Class 3: 0.3231, \n",
      "Class 4: 0.4177, Class 5: 0.2916, Class 6: 0.7204, \n",
      "Validation F-beta Score\n",
      "Class 0: 0.9909, Class 1: 0.6089, Class 2: 0.3039, Class 3: 0.2580, \n",
      "Class 4: 0.4095, Class 5: 0.2498, Class 6: 0.7818, \n",
      "Overall Mean Dice Score: 0.4691\n",
      "Overall Mean F-beta Score: 0.4616\n",
      "\n",
      "Training Loss: 1.6541, Validation Loss: 0.4184, Validation F-beta: 0.4616\n",
      "Epoch 91/4000\n",
      "Current lambda: 0.3700\n"
     ]
    },
    {
     "name": "stderr",
     "output_type": "stream",
     "text": [
      "Training: 100%|██████████| 96/96 [02:32<00:00,  1.59s/it, loss=0.446]\n",
      "Validation: 100%|██████████| 4/4 [00:03<00:00,  1.23it/s, loss=0.496]\n"
     ]
    },
    {
     "name": "stdout",
     "output_type": "stream",
     "text": [
      "Validation Dice Score\n",
      "Class 0: 0.9893, Class 1: 0.5433, Class 2: 0.1307, Class 3: 0.4046, \n",
      "Class 4: 0.6308, Class 5: 0.2885, Class 6: 0.6441, \n",
      "Validation F-beta Score\n",
      "Class 0: 0.9891, Class 1: 0.4962, Class 2: 0.0948, Class 3: 0.4917, \n",
      "Class 4: 0.6624, Class 5: 0.2625, Class 6: 0.6530, \n",
      "Overall Mean Dice Score: 0.5023\n",
      "Overall Mean F-beta Score: 0.5132\n",
      "\n",
      "Training Loss: 1.7199, Validation Loss: 0.4137, Validation F-beta: 0.5132\n",
      "Epoch 92/4000\n",
      "Current lambda: 0.3700\n"
     ]
    },
    {
     "name": "stderr",
     "output_type": "stream",
     "text": [
      "Training: 100%|██████████| 96/96 [02:29<00:00,  1.56s/it, loss=0.466]\n",
      "Validation: 100%|██████████| 4/4 [00:02<00:00,  1.45it/s, loss=0.38] \n"
     ]
    },
    {
     "name": "stdout",
     "output_type": "stream",
     "text": [
      "Validation Dice Score\n",
      "Class 0: 0.9887, Class 1: 0.7540, Class 2: 0.0274, Class 3: 0.1870, \n",
      "Class 4: 0.5015, Class 5: 0.3243, Class 6: 0.6317, \n",
      "Validation F-beta Score\n",
      "Class 0: 0.9890, Class 1: 0.7817, Class 2: 0.0436, Class 3: 0.1870, \n",
      "Class 4: 0.4632, Class 5: 0.2878, Class 6: 0.6254, \n",
      "Overall Mean Dice Score: 0.4797\n",
      "Overall Mean F-beta Score: 0.4690\n",
      "\n",
      "Training Loss: 1.6684, Validation Loss: 0.3944, Validation F-beta: 0.4690\n",
      "Epoch 93/4000\n",
      "Current lambda: 0.3700\n"
     ]
    },
    {
     "name": "stderr",
     "output_type": "stream",
     "text": [
      "Training: 100%|██████████| 96/96 [02:29<00:00,  1.56s/it, loss=0.508]\n",
      "Validation: 100%|██████████| 4/4 [00:02<00:00,  1.46it/s, loss=0.419]\n"
     ]
    },
    {
     "name": "stdout",
     "output_type": "stream",
     "text": [
      "Validation Dice Score\n",
      "Class 0: 0.9913, Class 1: 0.7402, Class 2: 0.1401, Class 3: 0.3451, \n",
      "Class 4: 0.6347, Class 5: 0.4841, Class 6: 0.9262, \n",
      "Validation F-beta Score\n",
      "Class 0: 0.9919, Class 1: 0.6751, Class 2: 0.1767, Class 3: 0.3360, \n",
      "Class 4: 0.6097, Class 5: 0.4922, Class 6: 0.9125, \n",
      "Overall Mean Dice Score: 0.6260\n",
      "Overall Mean F-beta Score: 0.6051\n",
      "\n",
      "Training Loss: 1.6799, Validation Loss: 0.3604, Validation F-beta: 0.6051\n",
      "Validation loss did not improve. Reducing lambda to 0.3600\n",
      "Epoch 94/4000\n",
      "Current lambda: 0.3600\n"
     ]
    },
    {
     "name": "stderr",
     "output_type": "stream",
     "text": [
      "Training: 100%|██████████| 96/96 [02:29<00:00,  1.56s/it, loss=0.517]\n",
      "Validation: 100%|██████████| 4/4 [00:02<00:00,  1.45it/s, loss=0.432]\n"
     ]
    },
    {
     "name": "stdout",
     "output_type": "stream",
     "text": [
      "Validation Dice Score\n",
      "Class 0: 0.9941, Class 1: 0.6248, Class 2: 0.2401, Class 3: 0.5042, \n",
      "Class 4: 0.5844, Class 5: 0.4362, Class 6: 0.6430, \n",
      "Validation F-beta Score\n",
      "Class 0: 0.9937, Class 1: 0.6108, Class 2: 0.2686, Class 3: 0.4958, \n",
      "Class 4: 0.8321, Class 5: 0.4286, Class 6: 0.6553, \n",
      "Overall Mean Dice Score: 0.5585\n",
      "Overall Mean F-beta Score: 0.6045\n",
      "\n",
      "Training Loss: 1.6954, Validation Loss: 0.3844, Validation F-beta: 0.6045\n",
      "Validation loss did not improve. Reducing lambda to 0.3500\n",
      "Epoch 95/4000\n",
      "Current lambda: 0.3500\n"
     ]
    },
    {
     "name": "stderr",
     "output_type": "stream",
     "text": [
      "Training: 100%|██████████| 96/96 [02:29<00:00,  1.56s/it, loss=0.422]\n",
      "Validation: 100%|██████████| 4/4 [00:02<00:00,  1.46it/s, loss=0.469]\n"
     ]
    },
    {
     "name": "stdout",
     "output_type": "stream",
     "text": [
      "Validation Dice Score\n",
      "Class 0: 0.9929, Class 1: 0.5121, Class 2: 0.2087, Class 3: 0.1746, \n",
      "Class 4: 0.2243, Class 5: 0.3611, Class 6: 0.4551, \n",
      "Validation F-beta Score\n",
      "Class 0: 0.9927, Class 1: 0.5991, Class 2: 0.3954, Class 3: 0.1700, \n",
      "Class 4: 0.1891, Class 5: 0.3555, Class 6: 0.7087, \n",
      "Overall Mean Dice Score: 0.3454\n",
      "Overall Mean F-beta Score: 0.4045\n",
      "\n",
      "Training Loss: 1.6820, Validation Loss: 0.4415, Validation F-beta: 0.4045\n",
      "Epoch 96/4000\n",
      "Current lambda: 0.3500\n"
     ]
    },
    {
     "name": "stderr",
     "output_type": "stream",
     "text": [
      "Training: 100%|██████████| 96/96 [02:29<00:00,  1.56s/it, loss=0.44] \n",
      "Validation: 100%|██████████| 4/4 [00:02<00:00,  1.46it/s, loss=0.455]\n"
     ]
    },
    {
     "name": "stdout",
     "output_type": "stream",
     "text": [
      "Validation Dice Score\n",
      "Class 0: 0.9910, Class 1: 0.3946, Class 2: 0.0018, Class 3: 0.3748, \n",
      "Class 4: 0.6058, Class 5: 0.4105, Class 6: 0.6436, \n",
      "Validation F-beta Score\n",
      "Class 0: 0.9922, Class 1: 0.4012, Class 2: 0.0028, Class 3: 0.3033, \n",
      "Class 4: 0.5424, Class 5: 0.4563, Class 6: 0.7081, \n",
      "Overall Mean Dice Score: 0.4859\n",
      "Overall Mean F-beta Score: 0.4823\n",
      "\n",
      "Training Loss: 1.6754, Validation Loss: 0.4301, Validation F-beta: 0.4823\n",
      "Epoch 97/4000\n",
      "Current lambda: 0.3500\n"
     ]
    },
    {
     "name": "stderr",
     "output_type": "stream",
     "text": [
      "Training: 100%|██████████| 96/96 [02:29<00:00,  1.56s/it, loss=0.498]\n",
      "Validation: 100%|██████████| 4/4 [00:02<00:00,  1.47it/s, loss=0.432]\n"
     ]
    },
    {
     "name": "stdout",
     "output_type": "stream",
     "text": [
      "Validation Dice Score\n",
      "Class 0: 0.9891, Class 1: 0.3993, Class 2: 0.0755, Class 3: 0.4675, \n",
      "Class 4: 0.6516, Class 5: 0.3128, Class 6: 0.4317, \n",
      "Validation F-beta Score\n",
      "Class 0: 0.9924, Class 1: 0.3807, Class 2: 0.0751, Class 3: 0.5295, \n",
      "Class 4: 0.5709, Class 5: 0.3242, Class 6: 0.4412, \n",
      "Overall Mean Dice Score: 0.4526\n",
      "Overall Mean F-beta Score: 0.4493\n",
      "\n",
      "Training Loss: 1.6747, Validation Loss: 0.4399, Validation F-beta: 0.4493\n",
      "Epoch 98/4000\n",
      "Current lambda: 0.3500\n"
     ]
    },
    {
     "name": "stderr",
     "output_type": "stream",
     "text": [
      "Training: 100%|██████████| 96/96 [02:29<00:00,  1.56s/it, loss=0.312]\n",
      "Validation: 100%|██████████| 4/4 [00:02<00:00,  1.45it/s, loss=0.387]\n"
     ]
    },
    {
     "name": "stdout",
     "output_type": "stream",
     "text": [
      "Validation Dice Score\n",
      "Class 0: 0.9935, Class 1: 0.7453, Class 2: 0.0668, Class 3: 0.3296, \n",
      "Class 4: 0.7833, Class 5: 0.5010, Class 6: 0.6958, \n",
      "Validation F-beta Score\n",
      "Class 0: 0.9930, Class 1: 0.8595, Class 2: 0.0910, Class 3: 0.2952, \n",
      "Class 4: 0.7398, Class 5: 0.6372, Class 6: 0.8582, \n",
      "Overall Mean Dice Score: 0.6110\n",
      "Overall Mean F-beta Score: 0.6780\n",
      "\n",
      "Training Loss: 1.6950, Validation Loss: 0.3775, Validation F-beta: 0.6780\n",
      "Validation loss did not improve. Reducing lambda to 0.3400\n",
      "Epoch 99/4000\n",
      "Current lambda: 0.3400\n"
     ]
    },
    {
     "name": "stderr",
     "output_type": "stream",
     "text": [
      "Training: 100%|██████████| 96/96 [02:41<00:00,  1.68s/it, loss=0.571]\n",
      "Validation: 100%|██████████| 4/4 [00:02<00:00,  1.38it/s, loss=0.463]\n"
     ]
    },
    {
     "name": "stdout",
     "output_type": "stream",
     "text": [
      "Validation Dice Score\n",
      "Class 0: 0.9886, Class 1: 0.3514, Class 2: 0.1270, Class 3: 0.2104, \n",
      "Class 4: 0.3956, Class 5: 0.4299, Class 6: 0.6337, \n",
      "Validation F-beta Score\n",
      "Class 0: 0.9924, Class 1: 0.3564, Class 2: 0.1020, Class 3: 0.1935, \n",
      "Class 4: 0.3527, Class 5: 0.4256, Class 6: 0.6474, \n",
      "Overall Mean Dice Score: 0.4042\n",
      "Overall Mean F-beta Score: 0.3951\n",
      "\n",
      "Training Loss: 1.6598, Validation Loss: 0.4342, Validation F-beta: 0.3951\n",
      "Epoch 100/4000\n",
      "Current lambda: 0.3400\n"
     ]
    },
    {
     "name": "stderr",
     "output_type": "stream",
     "text": [
      "Training: 100%|██████████| 96/96 [02:37<00:00,  1.64s/it, loss=0.407]\n",
      "Validation: 100%|██████████| 4/4 [00:02<00:00,  1.38it/s, loss=0.519]\n"
     ]
    },
    {
     "name": "stdout",
     "output_type": "stream",
     "text": [
      "Validation Dice Score\n",
      "Class 0: 0.9924, Class 1: 0.2056, Class 2: 0.1050, Class 3: 0.1863, \n",
      "Class 4: 0.3736, Class 5: 0.4366, Class 6: 0.2392, \n",
      "Validation F-beta Score\n",
      "Class 0: 0.9928, Class 1: 0.2029, Class 2: 0.1206, Class 3: 0.1828, \n",
      "Class 4: 0.3293, Class 5: 0.4537, Class 6: 0.3036, \n",
      "Overall Mean Dice Score: 0.2882\n",
      "Overall Mean F-beta Score: 0.2945\n",
      "\n",
      "Training Loss: 1.6975, Validation Loss: 0.4923, Validation F-beta: 0.2945\n",
      "Epoch 101/4000\n",
      "Current lambda: 0.3400\n"
     ]
    },
    {
     "name": "stderr",
     "output_type": "stream",
     "text": [
      "Training: 100%|██████████| 96/96 [02:37<00:00,  1.64s/it, loss=0.32] \n",
      "Validation: 100%|██████████| 4/4 [00:03<00:00,  1.18it/s, loss=0.292]\n"
     ]
    },
    {
     "name": "stdout",
     "output_type": "stream",
     "text": [
      "Validation Dice Score\n",
      "Class 0: 0.9898, Class 1: 0.8085, Class 2: 0.1491, Class 3: 0.5282, \n",
      "Class 4: 0.6379, Class 5: 0.5183, Class 6: 0.9018, \n",
      "Validation F-beta Score\n",
      "Class 0: 0.9933, Class 1: 0.8480, Class 2: 0.1397, Class 3: 0.5179, \n",
      "Class 4: 0.6215, Class 5: 0.4007, Class 6: 0.9404, \n",
      "Overall Mean Dice Score: 0.6789\n",
      "Overall Mean F-beta Score: 0.6657\n",
      "\n",
      "Training Loss: 1.6761, Validation Loss: 0.3059, Validation F-beta: 0.6657\n",
      "========================================================\n",
      "SUPER Best model saved. Loss:0.3059, Score:0.6657\n",
      "========================================================\n",
      "Epoch 102/4000\n",
      "Current lambda: 0.3400\n"
     ]
    },
    {
     "name": "stderr",
     "output_type": "stream",
     "text": [
      "Training: 100%|██████████| 96/96 [02:36<00:00,  1.63s/it, loss=0.432]\n",
      "Validation: 100%|██████████| 4/4 [00:02<00:00,  1.40it/s, loss=0.486]\n"
     ]
    },
    {
     "name": "stdout",
     "output_type": "stream",
     "text": [
      "Validation Dice Score\n",
      "Class 0: 0.9845, Class 1: 0.4277, Class 2: 0.1216, Class 3: 0.2300, \n",
      "Class 4: 0.3973, Class 5: 0.2363, Class 6: 0.6927, \n",
      "Validation F-beta Score\n",
      "Class 0: 0.9908, Class 1: 0.4491, Class 2: 0.1240, Class 3: 0.2171, \n",
      "Class 4: 0.3029, Class 5: 0.2146, Class 6: 0.7197, \n",
      "Overall Mean Dice Score: 0.3968\n",
      "Overall Mean F-beta Score: 0.3807\n",
      "\n",
      "Training Loss: 1.6803, Validation Loss: 0.4444, Validation F-beta: 0.3807\n",
      "Epoch 103/4000\n",
      "Current lambda: 0.3400\n"
     ]
    },
    {
     "name": "stderr",
     "output_type": "stream",
     "text": [
      "Training: 100%|██████████| 96/96 [02:42<00:00,  1.69s/it, loss=0.394]\n",
      "Validation: 100%|██████████| 4/4 [00:02<00:00,  1.35it/s, loss=0.491]\n"
     ]
    },
    {
     "name": "stdout",
     "output_type": "stream",
     "text": [
      "Validation Dice Score\n",
      "Class 0: 0.9898, Class 1: 0.5184, Class 2: 0.0000, Class 3: 0.4348, \n",
      "Class 4: 0.3983, Class 5: 0.2714, Class 6: 0.1785, \n",
      "Validation F-beta Score\n",
      "Class 0: 0.9880, Class 1: 0.5129, Class 2: 0.0000, Class 3: 0.4077, \n",
      "Class 4: 0.4076, Class 5: 0.3879, Class 6: 0.2197, \n",
      "Overall Mean Dice Score: 0.3603\n",
      "Overall Mean F-beta Score: 0.3872\n",
      "\n",
      "Training Loss: 1.6576, Validation Loss: 0.4730, Validation F-beta: 0.3872\n",
      "Epoch 104/4000\n",
      "Current lambda: 0.3400\n"
     ]
    },
    {
     "name": "stderr",
     "output_type": "stream",
     "text": [
      "Training: 100%|██████████| 96/96 [02:44<00:00,  1.71s/it, loss=0.432]\n",
      "Validation: 100%|██████████| 4/4 [00:03<00:00,  1.30it/s, loss=0.442]\n"
     ]
    },
    {
     "name": "stdout",
     "output_type": "stream",
     "text": [
      "Validation Dice Score\n",
      "Class 0: 0.9922, Class 1: 0.3501, Class 2: 0.0787, Class 3: 0.1331, \n",
      "Class 4: 0.4649, Class 5: 0.5734, Class 6: 0.2249, \n",
      "Validation F-beta Score\n",
      "Class 0: 0.9920, Class 1: 0.3104, Class 2: 0.0938, Class 3: 0.0966, \n",
      "Class 4: 0.4087, Class 5: 0.5904, Class 6: 0.2133, \n",
      "Overall Mean Dice Score: 0.3493\n",
      "Overall Mean F-beta Score: 0.3239\n",
      "\n",
      "Training Loss: 1.6980, Validation Loss: 0.4829, Validation F-beta: 0.3239\n",
      "Epoch 105/4000\n",
      "Current lambda: 0.3400\n"
     ]
    },
    {
     "name": "stderr",
     "output_type": "stream",
     "text": [
      "Training: 100%|██████████| 96/96 [02:41<00:00,  1.69s/it, loss=0.396]\n",
      "Validation: 100%|██████████| 4/4 [00:02<00:00,  1.36it/s, loss=0.383]\n"
     ]
    },
    {
     "name": "stdout",
     "output_type": "stream",
     "text": [
      "Validation Dice Score\n",
      "Class 0: 0.9890, Class 1: 0.8595, Class 2: 0.1677, Class 3: 0.3644, \n",
      "Class 4: 0.3361, Class 5: 0.2752, Class 6: 0.6334, \n",
      "Validation F-beta Score\n",
      "Class 0: 0.9923, Class 1: 0.8917, Class 2: 0.2585, Class 3: 0.2953, \n",
      "Class 4: 0.3054, Class 5: 0.2364, Class 6: 0.9403, \n",
      "Overall Mean Dice Score: 0.4937\n",
      "Overall Mean F-beta Score: 0.5338\n",
      "\n",
      "Training Loss: 1.6719, Validation Loss: 0.4064, Validation F-beta: 0.5338\n",
      "Epoch 106/4000\n",
      "Current lambda: 0.3400\n"
     ]
    },
    {
     "name": "stderr",
     "output_type": "stream",
     "text": [
      "Training: 100%|██████████| 96/96 [02:39<00:00,  1.66s/it, loss=0.389]\n",
      "Validation: 100%|██████████| 4/4 [00:02<00:00,  1.39it/s, loss=0.373]\n"
     ]
    },
    {
     "name": "stdout",
     "output_type": "stream",
     "text": [
      "Validation Dice Score\n",
      "Class 0: 0.9928, Class 1: 0.4920, Class 2: 0.1172, Class 3: 0.1091, \n",
      "Class 4: 0.8107, Class 5: 0.5492, Class 6: 0.5924, \n",
      "Validation F-beta Score\n",
      "Class 0: 0.9931, Class 1: 0.4752, Class 2: 0.1268, Class 3: 0.0995, \n",
      "Class 4: 0.7515, Class 5: 0.6080, Class 6: 0.9303, \n",
      "Overall Mean Dice Score: 0.5107\n",
      "Overall Mean F-beta Score: 0.5729\n",
      "\n",
      "Training Loss: 1.6698, Validation Loss: 0.4245, Validation F-beta: 0.5729\n",
      "Validation loss did not improve. Reducing lambda to 0.3300\n",
      "Epoch 107/4000\n",
      "Current lambda: 0.3300\n"
     ]
    },
    {
     "name": "stderr",
     "output_type": "stream",
     "text": [
      "Training: 100%|██████████| 96/96 [02:38<00:00,  1.66s/it, loss=0.463]\n",
      "Validation: 100%|██████████| 4/4 [00:02<00:00,  1.40it/s, loss=0.462]\n"
     ]
    },
    {
     "name": "stdout",
     "output_type": "stream",
     "text": [
      "Validation Dice Score\n",
      "Class 0: 0.9901, Class 1: 0.6038, Class 2: 0.1212, Class 3: 0.2888, \n",
      "Class 4: 0.6049, Class 5: 0.5056, Class 6: 0.6416, \n",
      "Validation F-beta Score\n",
      "Class 0: 0.9922, Class 1: 0.6254, Class 2: 0.1577, Class 3: 0.2235, \n",
      "Class 4: 0.5621, Class 5: 0.4708, Class 6: 0.6901, \n",
      "Overall Mean Dice Score: 0.5289\n",
      "Overall Mean F-beta Score: 0.5144\n",
      "\n",
      "Training Loss: 1.6600, Validation Loss: 0.3911, Validation F-beta: 0.5144\n",
      "Epoch 108/4000\n",
      "Current lambda: 0.3300\n"
     ]
    },
    {
     "name": "stderr",
     "output_type": "stream",
     "text": [
      "Training: 100%|██████████| 96/96 [02:38<00:00,  1.66s/it, loss=0.369]\n",
      "Validation: 100%|██████████| 4/4 [00:02<00:00,  1.40it/s, loss=0.385]\n"
     ]
    },
    {
     "name": "stdout",
     "output_type": "stream",
     "text": [
      "Validation Dice Score\n",
      "Class 0: 0.9910, Class 1: 0.5792, Class 2: 0.0952, Class 3: 0.3775, \n",
      "Class 4: 0.6886, Class 5: 0.3419, Class 6: 0.2247, \n",
      "Validation F-beta Score\n",
      "Class 0: 0.9937, Class 1: 0.9106, Class 2: 0.0692, Class 3: 0.4053, \n",
      "Class 4: 0.5965, Class 5: 0.3485, Class 6: 0.2123, \n",
      "Overall Mean Dice Score: 0.4424\n",
      "Overall Mean F-beta Score: 0.4946\n",
      "\n",
      "Training Loss: 1.6396, Validation Loss: 0.4167, Validation F-beta: 0.4946\n",
      "Epoch 109/4000\n",
      "Current lambda: 0.3300\n"
     ]
    },
    {
     "name": "stderr",
     "output_type": "stream",
     "text": [
      "Training: 100%|██████████| 96/96 [02:38<00:00,  1.65s/it, loss=0.347]\n",
      "Validation: 100%|██████████| 4/4 [00:02<00:00,  1.41it/s, loss=0.432]\n"
     ]
    },
    {
     "name": "stdout",
     "output_type": "stream",
     "text": [
      "Validation Dice Score\n",
      "Class 0: 0.9895, Class 1: 0.4344, Class 2: 0.2070, Class 3: 0.5432, \n",
      "Class 4: 0.4568, Class 5: 0.3327, Class 6: 0.6970, \n",
      "Validation F-beta Score\n",
      "Class 0: 0.9929, Class 1: 0.4787, Class 2: 0.2712, Class 3: 0.5458, \n",
      "Class 4: 0.4156, Class 5: 0.2818, Class 6: 0.7186, \n",
      "Overall Mean Dice Score: 0.4928\n",
      "Overall Mean F-beta Score: 0.4881\n",
      "\n",
      "Training Loss: 1.6534, Validation Loss: 0.4030, Validation F-beta: 0.4881\n",
      "Epoch 110/4000\n",
      "Current lambda: 0.3300\n"
     ]
    },
    {
     "name": "stderr",
     "output_type": "stream",
     "text": [
      "Training: 100%|██████████| 96/96 [02:37<00:00,  1.64s/it, loss=0.43] \n",
      "Validation: 100%|██████████| 4/4 [00:02<00:00,  1.40it/s, loss=0.449]\n"
     ]
    },
    {
     "name": "stdout",
     "output_type": "stream",
     "text": [
      "Validation Dice Score\n",
      "Class 0: 0.9902, Class 1: 0.5950, Class 2: 0.0000, Class 3: 0.2075, \n",
      "Class 4: 0.3486, Class 5: 0.2917, Class 6: 0.8658, \n",
      "Validation F-beta Score\n",
      "Class 0: 0.9919, Class 1: 0.6699, Class 2: 0.0000, Class 3: 0.2409, \n",
      "Class 4: 0.2946, Class 5: 0.2768, Class 6: 0.9448, \n",
      "Overall Mean Dice Score: 0.4617\n",
      "Overall Mean F-beta Score: 0.4854\n",
      "\n",
      "Training Loss: 1.6991, Validation Loss: 0.4599, Validation F-beta: 0.4854\n",
      "Epoch 111/4000\n",
      "Current lambda: 0.3300\n"
     ]
    },
    {
     "name": "stderr",
     "output_type": "stream",
     "text": [
      "Training: 100%|██████████| 96/96 [02:37<00:00,  1.64s/it, loss=0.397]\n",
      "Validation: 100%|██████████| 4/4 [00:03<00:00,  1.18it/s, loss=0.531]\n"
     ]
    },
    {
     "name": "stdout",
     "output_type": "stream",
     "text": [
      "Validation Dice Score\n",
      "Class 0: 0.9894, Class 1: 0.5011, Class 2: 0.1051, Class 3: 0.0985, \n",
      "Class 4: 0.5667, Class 5: 0.3461, Class 6: 0.4447, \n",
      "Validation F-beta Score\n",
      "Class 0: 0.9942, Class 1: 0.6013, Class 2: 0.1295, Class 3: 0.0759, \n",
      "Class 4: 0.4520, Class 5: 0.2853, Class 6: 0.4532, \n",
      "Overall Mean Dice Score: 0.3914\n",
      "Overall Mean F-beta Score: 0.3735\n",
      "\n",
      "Training Loss: 1.6874, Validation Loss: 0.4494, Validation F-beta: 0.3735\n",
      "Epoch 112/4000\n",
      "Current lambda: 0.3300\n"
     ]
    },
    {
     "name": "stderr",
     "output_type": "stream",
     "text": [
      "Training: 100%|██████████| 96/96 [02:37<00:00,  1.64s/it, loss=0.472]\n",
      "Validation: 100%|██████████| 4/4 [00:02<00:00,  1.38it/s, loss=0.404]\n"
     ]
    },
    {
     "name": "stdout",
     "output_type": "stream",
     "text": [
      "Validation Dice Score\n",
      "Class 0: 0.9900, Class 1: 0.7095, Class 2: 0.1809, Class 3: 0.3910, \n",
      "Class 4: 0.5053, Class 5: 0.4157, Class 6: 0.6466, \n",
      "Validation F-beta Score\n",
      "Class 0: 0.9876, Class 1: 0.6949, Class 2: 0.1941, Class 3: 0.3237, \n",
      "Class 4: 0.5236, Class 5: 0.4418, Class 6: 0.6424, \n",
      "Overall Mean Dice Score: 0.5336\n",
      "Overall Mean F-beta Score: 0.5253\n",
      "\n",
      "Training Loss: 1.6771, Validation Loss: 0.3798, Validation F-beta: 0.5253\n",
      "Validation loss did not improve. Reducing lambda to 0.3200\n",
      "Epoch 113/4000\n",
      "Current lambda: 0.3200\n"
     ]
    },
    {
     "name": "stderr",
     "output_type": "stream",
     "text": [
      "Training: 100%|██████████| 96/96 [02:39<00:00,  1.66s/it, loss=0.489]\n",
      "Validation: 100%|██████████| 4/4 [00:02<00:00,  1.40it/s, loss=0.443]\n"
     ]
    },
    {
     "name": "stdout",
     "output_type": "stream",
     "text": [
      "Validation Dice Score\n",
      "Class 0: 0.9901, Class 1: 0.5993, Class 2: 0.1397, Class 3: 0.5941, \n",
      "Class 4: 0.3701, Class 5: 0.2811, Class 6: 0.4257, \n",
      "Validation F-beta Score\n",
      "Class 0: 0.9930, Class 1: 0.6679, Class 2: 0.1512, Class 3: 0.5523, \n",
      "Class 4: 0.3117, Class 5: 0.2409, Class 6: 0.5583, \n",
      "Overall Mean Dice Score: 0.4541\n",
      "Overall Mean F-beta Score: 0.4662\n",
      "\n",
      "Training Loss: 1.6883, Validation Loss: 0.4293, Validation F-beta: 0.4662\n",
      "Epoch 114/4000\n",
      "Current lambda: 0.3200\n"
     ]
    },
    {
     "name": "stderr",
     "output_type": "stream",
     "text": [
      "Training: 100%|██████████| 96/96 [02:38<00:00,  1.66s/it, loss=0.486]\n",
      "Validation: 100%|██████████| 4/4 [00:02<00:00,  1.40it/s, loss=0.449]\n"
     ]
    },
    {
     "name": "stdout",
     "output_type": "stream",
     "text": [
      "Validation Dice Score\n",
      "Class 0: 0.9883, Class 1: 0.5834, Class 2: 0.2283, Class 3: 0.4114, \n",
      "Class 4: 0.5730, Class 5: 0.4563, Class 6: 0.5749, \n",
      "Validation F-beta Score\n",
      "Class 0: 0.9921, Class 1: 0.6337, Class 2: 0.2118, Class 3: 0.3507, \n",
      "Class 4: 0.5368, Class 5: 0.4135, Class 6: 0.5879, \n",
      "Overall Mean Dice Score: 0.5198\n",
      "Overall Mean F-beta Score: 0.5045\n",
      "\n",
      "Training Loss: 1.6583, Validation Loss: 0.4036, Validation F-beta: 0.5045\n",
      "Epoch 115/4000\n",
      "Current lambda: 0.3200\n"
     ]
    },
    {
     "name": "stderr",
     "output_type": "stream",
     "text": [
      "Training: 100%|██████████| 96/96 [02:38<00:00,  1.65s/it, loss=0.498]\n",
      "Validation: 100%|██████████| 4/4 [00:02<00:00,  1.42it/s, loss=0.4]  \n"
     ]
    },
    {
     "name": "stdout",
     "output_type": "stream",
     "text": [
      "Validation Dice Score\n",
      "Class 0: 0.9901, Class 1: 0.6856, Class 2: 0.0000, Class 3: 0.4716, \n",
      "Class 4: 0.5715, Class 5: 0.4024, Class 6: 0.8771, \n",
      "Validation F-beta Score\n",
      "Class 0: 0.9943, Class 1: 0.7073, Class 2: 0.0000, Class 3: 0.5127, \n",
      "Class 4: 0.4467, Class 5: 0.4265, Class 6: 0.8737, \n",
      "Overall Mean Dice Score: 0.6016\n",
      "Overall Mean F-beta Score: 0.5934\n",
      "\n",
      "Training Loss: 1.6762, Validation Loss: 0.4119, Validation F-beta: 0.5934\n",
      "Epoch 116/4000\n",
      "Current lambda: 0.3200\n"
     ]
    },
    {
     "name": "stderr",
     "output_type": "stream",
     "text": [
      "Training: 100%|██████████| 96/96 [02:37<00:00,  1.64s/it, loss=0.46] \n",
      "Validation: 100%|██████████| 4/4 [00:02<00:00,  1.40it/s, loss=0.516]\n"
     ]
    },
    {
     "name": "stdout",
     "output_type": "stream",
     "text": [
      "Validation Dice Score\n",
      "Class 0: 0.9918, Class 1: 0.5605, Class 2: 0.0000, Class 3: 0.3839, \n",
      "Class 4: 0.3203, Class 5: 0.3498, Class 6: 0.6400, \n",
      "Validation F-beta Score\n",
      "Class 0: 0.9922, Class 1: 0.5914, Class 2: 0.0000, Class 3: 0.4038, \n",
      "Class 4: 0.5185, Class 5: 0.3515, Class 6: 0.6533, \n",
      "Overall Mean Dice Score: 0.4509\n",
      "Overall Mean F-beta Score: 0.5037\n",
      "\n",
      "Training Loss: 1.6828, Validation Loss: 0.4403, Validation F-beta: 0.5037\n",
      "Epoch 117/4000\n",
      "Current lambda: 0.3200\n"
     ]
    },
    {
     "name": "stderr",
     "output_type": "stream",
     "text": [
      "Training: 100%|██████████| 96/96 [02:38<00:00,  1.65s/it, loss=0.378]\n",
      "Validation: 100%|██████████| 4/4 [00:02<00:00,  1.41it/s, loss=0.44] \n"
     ]
    },
    {
     "name": "stdout",
     "output_type": "stream",
     "text": [
      "Validation Dice Score\n",
      "Class 0: 0.9914, Class 1: 0.4842, Class 2: 0.0230, Class 3: 0.2882, \n",
      "Class 4: 0.6393, Class 5: 0.6011, Class 6: 0.8325, \n",
      "Validation F-beta Score\n",
      "Class 0: 0.9920, Class 1: 0.5324, Class 2: 0.0152, Class 3: 0.2632, \n",
      "Class 4: 0.5752, Class 5: 0.6262, Class 6: 0.9368, \n",
      "Overall Mean Dice Score: 0.5691\n",
      "Overall Mean F-beta Score: 0.5868\n",
      "\n",
      "Training Loss: 1.6763, Validation Loss: 0.4020, Validation F-beta: 0.5868\n",
      "Epoch 118/4000\n",
      "Current lambda: 0.3200\n"
     ]
    },
    {
     "name": "stderr",
     "output_type": "stream",
     "text": [
      "Training: 100%|██████████| 96/96 [02:39<00:00,  1.66s/it, loss=0.353]\n",
      "Validation: 100%|██████████| 4/4 [00:02<00:00,  1.37it/s, loss=0.337]\n"
     ]
    },
    {
     "name": "stdout",
     "output_type": "stream",
     "text": [
      "Validation Dice Score\n",
      "Class 0: 0.9874, Class 1: 0.7117, Class 2: 0.2250, Class 3: 0.2415, \n",
      "Class 4: 0.6013, Class 5: 0.2900, Class 6: 0.7263, \n",
      "Validation F-beta Score\n",
      "Class 0: 0.9894, Class 1: 0.6946, Class 2: 0.2435, Class 3: 0.1998, \n",
      "Class 4: 0.5638, Class 5: 0.2879, Class 6: 0.7148, \n",
      "Overall Mean Dice Score: 0.5142\n",
      "Overall Mean F-beta Score: 0.4922\n",
      "\n",
      "Training Loss: 1.6336, Validation Loss: 0.3999, Validation F-beta: 0.4922\n",
      "Validation loss did not improve. Reducing lambda to 0.3100\n",
      "Epoch 119/4000\n",
      "Current lambda: 0.3100\n"
     ]
    },
    {
     "name": "stderr",
     "output_type": "stream",
     "text": [
      "Training: 100%|██████████| 96/96 [02:39<00:00,  1.66s/it, loss=0.413]\n",
      "Validation: 100%|██████████| 4/4 [00:02<00:00,  1.35it/s, loss=0.41] \n"
     ]
    },
    {
     "name": "stdout",
     "output_type": "stream",
     "text": [
      "Validation Dice Score\n",
      "Class 0: 0.9884, Class 1: 0.8334, Class 2: 0.1188, Class 3: 0.0351, \n",
      "Class 4: 0.6068, Class 5: 0.3921, Class 6: 0.6046, \n",
      "Validation F-beta Score\n",
      "Class 0: 0.9924, Class 1: 0.8305, Class 2: 0.1516, Class 3: 0.0229, \n",
      "Class 4: 0.5274, Class 5: 0.3233, Class 6: 0.6818, \n",
      "Overall Mean Dice Score: 0.4944\n",
      "Overall Mean F-beta Score: 0.4772\n",
      "\n",
      "Training Loss: 1.6284, Validation Loss: 0.4160, Validation F-beta: 0.4772\n",
      "Epoch 120/4000\n",
      "Current lambda: 0.3100\n"
     ]
    },
    {
     "name": "stderr",
     "output_type": "stream",
     "text": [
      "Training: 100%|██████████| 96/96 [02:38<00:00,  1.65s/it, loss=0.417]\n",
      "Validation: 100%|██████████| 4/4 [00:02<00:00,  1.38it/s, loss=0.381]\n"
     ]
    },
    {
     "name": "stdout",
     "output_type": "stream",
     "text": [
      "Validation Dice Score\n",
      "Class 0: 0.9913, Class 1: 0.6002, Class 2: 0.1484, Class 3: 0.4581, \n",
      "Class 4: 0.6694, Class 5: 0.3986, Class 6: 0.4059, \n",
      "Validation F-beta Score\n",
      "Class 0: 0.9932, Class 1: 0.6846, Class 2: 0.1473, Class 3: 0.4136, \n",
      "Class 4: 0.5950, Class 5: 0.4163, Class 6: 0.6202, \n",
      "Overall Mean Dice Score: 0.5065\n",
      "Overall Mean F-beta Score: 0.5459\n",
      "\n",
      "Training Loss: 1.6611, Validation Loss: 0.4254, Validation F-beta: 0.5459\n",
      "Epoch 121/4000\n",
      "Current lambda: 0.3100\n"
     ]
    },
    {
     "name": "stderr",
     "output_type": "stream",
     "text": [
      "Training: 100%|██████████| 96/96 [02:37<00:00,  1.64s/it, loss=0.267]\n",
      "Validation: 100%|██████████| 4/4 [00:03<00:00,  1.16it/s, loss=0.358]\n"
     ]
    },
    {
     "name": "stdout",
     "output_type": "stream",
     "text": [
      "Validation Dice Score\n",
      "Class 0: 0.9914, Class 1: 0.5523, Class 2: 0.1934, Class 3: 0.0570, \n",
      "Class 4: 0.5903, Class 5: 0.4512, Class 6: 0.4214, \n",
      "Validation F-beta Score\n",
      "Class 0: 0.9921, Class 1: 0.6347, Class 2: 0.2336, Class 3: 0.0437, \n",
      "Class 4: 0.5567, Class 5: 0.4474, Class 6: 0.5162, \n",
      "Overall Mean Dice Score: 0.4144\n",
      "Overall Mean F-beta Score: 0.4397\n",
      "\n",
      "Training Loss: 1.6676, Validation Loss: 0.4457, Validation F-beta: 0.4397\n",
      "Epoch 122/4000\n",
      "Current lambda: 0.3100\n"
     ]
    },
    {
     "name": "stderr",
     "output_type": "stream",
     "text": [
      "Training: 100%|██████████| 96/96 [02:37<00:00,  1.64s/it, loss=0.517]\n",
      "Validation: 100%|██████████| 4/4 [00:02<00:00,  1.40it/s, loss=0.363]\n"
     ]
    },
    {
     "name": "stdout",
     "output_type": "stream",
     "text": [
      "Validation Dice Score\n",
      "Class 0: 0.9920, Class 1: 0.3895, Class 2: 0.2098, Class 3: 0.4618, \n",
      "Class 4: 0.5976, Class 5: 0.5949, Class 6: 0.4189, \n",
      "Validation F-beta Score\n",
      "Class 0: 0.9934, Class 1: 0.4146, Class 2: 0.2348, Class 3: 0.3681, \n",
      "Class 4: 0.6070, Class 5: 0.5831, Class 6: 0.4741, \n",
      "Overall Mean Dice Score: 0.4926\n",
      "Overall Mean F-beta Score: 0.4894\n",
      "\n",
      "Training Loss: 1.6822, Validation Loss: 0.4114, Validation F-beta: 0.4894\n",
      "Epoch 123/4000\n",
      "Current lambda: 0.3100\n"
     ]
    },
    {
     "name": "stderr",
     "output_type": "stream",
     "text": [
      "Training: 100%|██████████| 96/96 [02:37<00:00,  1.64s/it, loss=0.412]\n",
      "Validation: 100%|██████████| 4/4 [00:02<00:00,  1.38it/s, loss=0.43] \n"
     ]
    },
    {
     "name": "stdout",
     "output_type": "stream",
     "text": [
      "Validation Dice Score\n",
      "Class 0: 0.9911, Class 1: 0.7855, Class 2: 0.1125, Class 3: 0.3205, \n",
      "Class 4: 0.6509, Class 5: 0.4295, Class 6: 0.8928, \n",
      "Validation F-beta Score\n",
      "Class 0: 0.9932, Class 1: 0.7701, Class 2: 0.1341, Class 3: 0.2819, \n",
      "Class 4: 0.5860, Class 5: 0.4184, Class 6: 0.9200, \n",
      "Overall Mean Dice Score: 0.6158\n",
      "Overall Mean F-beta Score: 0.5953\n",
      "\n",
      "Training Loss: 1.6196, Validation Loss: 0.3766, Validation F-beta: 0.5953\n",
      "Epoch 124/4000\n",
      "Current lambda: 0.3100\n"
     ]
    },
    {
     "name": "stderr",
     "output_type": "stream",
     "text": [
      "Training: 100%|██████████| 96/96 [02:37<00:00,  1.64s/it, loss=0.451]\n",
      "Validation: 100%|██████████| 4/4 [00:02<00:00,  1.38it/s, loss=0.484]\n"
     ]
    },
    {
     "name": "stdout",
     "output_type": "stream",
     "text": [
      "Validation Dice Score\n",
      "Class 0: 0.9911, Class 1: 0.6664, Class 2: 0.2356, Class 3: 0.3197, \n",
      "Class 4: 0.3241, Class 5: 0.4313, Class 6: 0.6673, \n",
      "Validation F-beta Score\n",
      "Class 0: 0.9921, Class 1: 0.6918, Class 2: 0.2997, Class 3: 0.3049, \n",
      "Class 4: 0.2755, Class 5: 0.5208, Class 6: 0.6869, \n",
      "Overall Mean Dice Score: 0.4818\n",
      "Overall Mean F-beta Score: 0.4960\n",
      "\n",
      "Training Loss: 1.6913, Validation Loss: 0.4341, Validation F-beta: 0.4960\n",
      "Validation loss did not improve. Reducing lambda to 0.3000\n",
      "Epoch 125/4000\n",
      "Current lambda: 0.3000\n"
     ]
    },
    {
     "name": "stderr",
     "output_type": "stream",
     "text": [
      "Training: 100%|██████████| 96/96 [02:37<00:00,  1.65s/it, loss=0.364]\n",
      "Validation: 100%|██████████| 4/4 [00:02<00:00,  1.36it/s, loss=0.44] \n"
     ]
    },
    {
     "name": "stdout",
     "output_type": "stream",
     "text": [
      "Validation Dice Score\n",
      "Class 0: 0.9877, Class 1: 0.6716, Class 2: 0.1319, Class 3: 0.1996, \n",
      "Class 4: 0.4670, Class 5: 0.3340, Class 6: 0.6686, \n",
      "Validation F-beta Score\n",
      "Class 0: 0.9923, Class 1: 0.7120, Class 2: 0.1386, Class 3: 0.1536, \n",
      "Class 4: 0.3697, Class 5: 0.2752, Class 6: 0.6692, \n",
      "Overall Mean Dice Score: 0.4681\n",
      "Overall Mean F-beta Score: 0.4360\n",
      "\n",
      "Training Loss: 1.6846, Validation Loss: 0.4299, Validation F-beta: 0.4360\n",
      "Epoch 126/4000\n",
      "Current lambda: 0.3000\n"
     ]
    },
    {
     "name": "stderr",
     "output_type": "stream",
     "text": [
      "Training: 100%|██████████| 96/96 [02:38<00:00,  1.65s/it, loss=0.503]\n",
      "Validation: 100%|██████████| 4/4 [00:02<00:00,  1.38it/s, loss=0.414]\n"
     ]
    },
    {
     "name": "stdout",
     "output_type": "stream",
     "text": [
      "Validation Dice Score\n",
      "Class 0: 0.9904, Class 1: 0.7220, Class 2: 0.1869, Class 3: 0.4161, \n",
      "Class 4: 0.6210, Class 5: 0.3201, Class 6: 0.6600, \n",
      "Validation F-beta Score\n",
      "Class 0: 0.9890, Class 1: 0.6761, Class 2: 0.2091, Class 3: 0.3439, \n",
      "Class 4: 0.6910, Class 5: 0.3243, Class 6: 0.6457, \n",
      "Overall Mean Dice Score: 0.5479\n",
      "Overall Mean F-beta Score: 0.5362\n",
      "\n",
      "Training Loss: 1.6560, Validation Loss: 0.3771, Validation F-beta: 0.5362\n",
      "Epoch 127/4000\n",
      "Current lambda: 0.3000\n"
     ]
    },
    {
     "name": "stderr",
     "output_type": "stream",
     "text": [
      "Training: 100%|██████████| 96/96 [02:36<00:00,  1.63s/it, loss=0.489]\n",
      "Validation: 100%|██████████| 4/4 [00:02<00:00,  1.38it/s, loss=0.406]\n"
     ]
    },
    {
     "name": "stdout",
     "output_type": "stream",
     "text": [
      "Validation Dice Score\n",
      "Class 0: 0.9883, Class 1: 0.5086, Class 2: 0.2112, Class 3: 0.3411, \n",
      "Class 4: 0.5431, Class 5: 0.3578, Class 6: 0.0282, \n",
      "Validation F-beta Score\n",
      "Class 0: 0.9918, Class 1: 0.5402, Class 2: 0.2270, Class 3: 0.2934, \n",
      "Class 4: 0.4963, Class 5: 0.3010, Class 6: 0.0819, \n",
      "Overall Mean Dice Score: 0.3558\n",
      "Overall Mean F-beta Score: 0.3426\n",
      "\n",
      "Training Loss: 1.6684, Validation Loss: 0.4735, Validation F-beta: 0.3426\n",
      "Epoch 128/4000\n",
      "Current lambda: 0.3000\n"
     ]
    },
    {
     "name": "stderr",
     "output_type": "stream",
     "text": [
      "Training: 100%|██████████| 96/96 [02:36<00:00,  1.63s/it, loss=0.458]\n",
      "Validation: 100%|██████████| 4/4 [00:02<00:00,  1.38it/s, loss=0.402]\n"
     ]
    },
    {
     "name": "stdout",
     "output_type": "stream",
     "text": [
      "Validation Dice Score\n",
      "Class 0: 0.9917, Class 1: 0.7832, Class 2: 0.0000, Class 3: 0.2258, \n",
      "Class 4: 0.3994, Class 5: 0.4622, Class 6: 0.4419, \n",
      "Validation F-beta Score\n",
      "Class 0: 0.9951, Class 1: 0.8729, Class 2: 0.0000, Class 3: 0.2198, \n",
      "Class 4: 0.3014, Class 5: 0.4696, Class 6: 0.4486, \n",
      "Overall Mean Dice Score: 0.4625\n",
      "Overall Mean F-beta Score: 0.4625\n",
      "\n",
      "Training Loss: 1.6693, Validation Loss: 0.4428, Validation F-beta: 0.4625\n",
      "Epoch 129/4000\n",
      "Current lambda: 0.3000\n"
     ]
    },
    {
     "name": "stderr",
     "output_type": "stream",
     "text": [
      "Training: 100%|██████████| 96/96 [02:36<00:00,  1.63s/it, loss=0.444]\n",
      "Validation: 100%|██████████| 4/4 [00:02<00:00,  1.37it/s, loss=0.475]\n"
     ]
    },
    {
     "name": "stdout",
     "output_type": "stream",
     "text": [
      "Validation Dice Score\n",
      "Class 0: 0.9920, Class 1: 0.6271, Class 2: 0.1286, Class 3: 0.1382, \n",
      "Class 4: 0.4039, Class 5: 0.4438, Class 6: 0.8740, \n",
      "Validation F-beta Score\n",
      "Class 0: 0.9910, Class 1: 0.6729, Class 2: 0.1412, Class 3: 0.1100, \n",
      "Class 4: 0.4231, Class 5: 0.4402, Class 6: 0.8964, \n",
      "Overall Mean Dice Score: 0.4974\n",
      "Overall Mean F-beta Score: 0.5085\n",
      "\n",
      "Training Loss: 1.6611, Validation Loss: 0.4156, Validation F-beta: 0.5085\n",
      "Epoch 130/4000\n",
      "Current lambda: 0.3000\n"
     ]
    },
    {
     "name": "stderr",
     "output_type": "stream",
     "text": [
      "Training: 100%|██████████| 96/96 [02:36<00:00,  1.63s/it, loss=0.455]\n",
      "Validation: 100%|██████████| 4/4 [00:02<00:00,  1.38it/s, loss=0.411]\n"
     ]
    },
    {
     "name": "stdout",
     "output_type": "stream",
     "text": [
      "Validation Dice Score\n",
      "Class 0: 0.9924, Class 1: 0.8063, Class 2: 0.1897, Class 3: 0.4056, \n",
      "Class 4: 0.2366, Class 5: 0.4676, Class 6: 0.5942, \n",
      "Validation F-beta Score\n",
      "Class 0: 0.9938, Class 1: 0.8839, Class 2: 0.2380, Class 3: 0.3789, \n",
      "Class 4: 0.1707, Class 5: 0.4242, Class 6: 0.6484, \n",
      "Overall Mean Dice Score: 0.5021\n",
      "Overall Mean F-beta Score: 0.5012\n",
      "\n",
      "Training Loss: 1.6819, Validation Loss: 0.4191, Validation F-beta: 0.5012\n",
      "Early stopping\n"
     ]
    },
    {
     "data": {
      "text/html": [],
      "text/plain": [
       "<IPython.core.display.HTML object>"
      ]
     },
     "metadata": {},
     "output_type": "display_data"
    },
    {
     "data": {
      "text/html": [
       "<br>    <style><br>        .wandb-row {<br>            display: flex;<br>            flex-direction: row;<br>            flex-wrap: wrap;<br>            justify-content: flex-start;<br>            width: 100%;<br>        }<br>        .wandb-col {<br>            display: flex;<br>            flex-direction: column;<br>            flex-basis: 100%;<br>            flex: 1;<br>            padding: 10px;<br>        }<br>    </style><br><div class=\"wandb-row\"><div class=\"wandb-col\"><h3>Run history:</h3><br/><table class=\"wandb\"><tr><td>class_0_dice_score</td><td>▁▃▂▆▄▅▄▆▇▅▆▇▄▆▇▅▇▄▇▅▇▇█▇▆▅▇█▇▆▆▆▆▆▅▄▇▇▆▇</td></tr><tr><td>class_0_f_beta_score</td><td>▁▄▇▆▅▄▆▆▇▄▆▄▆▆▇▇▆▇▇▇▇▇█▇▆▇▇█▇▇▇██▅▇▇██▇▇</td></tr><tr><td>class_1_dice_score</td><td>▁▁▁▂▃▁▄▅▆▆▇█▅▄▅▆▆▆▆▆▅█▄▇█▅▄▇▄▃▅▇▆▆▇▆▄▇██</td></tr><tr><td>class_1_f_beta_score</td><td>▁▄▆▆█▅▇▄▆▅▄▁▇▅▇▆▇▄▇█▄▆▅▆▅▇▅▇▅▇▆▄▃▄▅▅█▆▆█</td></tr><tr><td>class_2_dice_score</td><td>▁▁▁▁▁▂▁▂▁▃▃▂▁▁▄▄▄▁▅▁▅▅▁▁█▁▂▅▃▃▃▄▃▁▁▄▄▃▅▃</td></tr><tr><td>class_2_f_beta_score</td><td>▁▄▁██▁▁▄▁▃▁▂▃▃▄▅▅▃▃▃▆▇▁▂▃▅▄▆▅▅▂▂▂▁▂▂▃▄▃▄</td></tr><tr><td>class_3_dice_score</td><td>▁▄▂▃▄▄▄▅▅▂▅▃▄▅▄▄▅▅▇▆▃▂▆▄▇█▄▃▅▃▆▅▃▂▄▆▁▆▄▃</td></tr><tr><td>class_3_f_beta_score</td><td>▁▁▅▅▅▄█▄▅▄▅▅▇▅▆█▄▇▄▃▆▇▂▅▄▄▅█▅█▆▅▄▆▂▄▅▃▆▆</td></tr><tr><td>class_4_dice_score</td><td>▅▃▂▃▅▁▅▃▄▃▄▅▇▄▅▆▅▅▅▅▆▂▄▄▇▆▅▄▆▅▆▂▆▆█▄▃▆▆▆</td></tr><tr><td>class_4_f_beta_score</td><td>▂▂▄▄▆▅▃▄██▃▃▂▆▅▂▄▅▅▆▄▅▄▄▅▅▅▃▆▇▆█▂▄▅▅▂▇▅▁</td></tr><tr><td>class_5_dice_score</td><td>▃▁▅▄▄▆▃▂█▆▅▅▆▆▅▆▅▆▇▅▅▇▄▇▇▄▆▅▅▇▆▆▇▇█▆▆▄▅▇</td></tr><tr><td>class_5_f_beta_score</td><td>▃▄▇▃▂█▆▆▅▆▆▅▇▆▆█▅▄▂▁▆▄▆▆▆▅▃▃▆▆▆▅█▆▄▅▅▄▃▆</td></tr><tr><td>class_6_dice_score</td><td>▅▁▄▇▄▆▅▃▅▄▅▃▇▃▅▁▆█▅▄▅▆▃▆█▆▆▅▅▆▅▁█▃▆██▃▆▅</td></tr><tr><td>class_6_f_beta_score</td><td>▂▄▇▅▇▆▅▇▇▆▅▄▆▅▆▆▆▆▆▆▃▁▆██▆▆▅▄█▆▆▆▆▄▇▆▆▄▁</td></tr><tr><td>epoch</td><td>▁▁▁▁▁▂▂▂▂▂▃▃▃▃▃▃▄▄▄▄▄▄▄▄▅▅▅▅▆▆▆▆▆▇▇▇▇███</td></tr><tr><td>overall_mean_dice_score</td><td>▁▃▂▄▆▅▆▅▄▄▆▇▅▅█▆▇▇▄▆▅▆█▆█▆██▇▆▅▅▇▇▆▆▇▆▇▅</td></tr><tr><td>overall_mean_f_beta_score</td><td>▁▃▄▄▆▄▅▇▅▆▇▅▆▇▄▄▅▅▇▆▄▇▅▆▆▄▇▅█▄▆▆▆▄▆▆▆▇▅▆</td></tr><tr><td>train_epoch_loss</td><td>█▇▆▅▄▃▃▃▂▂▂▂▂▂▂▂▂▂▁▂▁▁▁▂▁▁▂▁▂▂▂▁▁▁▁▁▂▁▁▁</td></tr><tr><td>val_epoch_loss</td><td>█▇▆▆▆▅▅▄▂▃▄▃▃▂▂▁▂▂▂▃▃▄▄▂▁▄▄▃▁▃▃▃▃▂▄▃▂▃▄▃</td></tr></table><br/></div><div class=\"wandb-col\"><h3>Run summary:</h3><br/><table class=\"wandb\"><tr><td>class_0_dice_score</td><td>0.99238</td></tr><tr><td>class_0_f_beta_score</td><td>0.99385</td></tr><tr><td>class_1_dice_score</td><td>0.80631</td></tr><tr><td>class_1_f_beta_score</td><td>0.88387</td></tr><tr><td>class_2_dice_score</td><td>0.1897</td></tr><tr><td>class_2_f_beta_score</td><td>0.23797</td></tr><tr><td>class_3_dice_score</td><td>0.40564</td></tr><tr><td>class_3_f_beta_score</td><td>0.3789</td></tr><tr><td>class_4_dice_score</td><td>0.23663</td></tr><tr><td>class_4_f_beta_score</td><td>0.17075</td></tr><tr><td>class_5_dice_score</td><td>0.46756</td></tr><tr><td>class_5_f_beta_score</td><td>0.42417</td></tr><tr><td>class_6_dice_score</td><td>0.59423</td></tr><tr><td>class_6_f_beta_score</td><td>0.64843</td></tr><tr><td>epoch</td><td>130</td></tr><tr><td>overall_mean_dice_score</td><td>0.50207</td></tr><tr><td>overall_mean_f_beta_score</td><td>0.50122</td></tr><tr><td>train_epoch_loss</td><td>1.68189</td></tr><tr><td>val_epoch_loss</td><td>0.41915</td></tr></table><br/></div></div>"
      ],
      "text/plain": [
       "<IPython.core.display.HTML object>"
      ]
     },
     "metadata": {},
     "output_type": "display_data"
    },
    {
     "data": {
      "text/html": [
       " View run <strong style=\"color:#cdcd00\">SwinUNETR_pyes_weighted_f48_d96_s96_lr1e-03_a0.52_b0.48_batch2_20241223_195314</strong> at: <a href='https://wandb.ai/limbw/czii_SwinUnetR/runs/7l7apay6' target=\"_blank\">https://wandb.ai/limbw/czii_SwinUnetR/runs/7l7apay6</a><br> View project at: <a href='https://wandb.ai/limbw/czii_SwinUnetR' target=\"_blank\">https://wandb.ai/limbw/czii_SwinUnetR</a><br>Synced 5 W&B file(s), 0 media file(s), 0 artifact file(s) and 0 other file(s)"
      ],
      "text/plain": [
       "<IPython.core.display.HTML object>"
      ]
     },
     "metadata": {},
     "output_type": "display_data"
    },
    {
     "data": {
      "text/html": [
       "Find logs at: <code>.\\wandb\\run-20241223_195315-7l7apay6\\logs</code>"
      ],
      "text/plain": [
       "<IPython.core.display.HTML object>"
      ]
     },
     "metadata": {},
     "output_type": "display_data"
    }
   ],
   "source": [
    "train_model(\n",
    "    model=model,\n",
    "    train_loader=train_loader,\n",
    "    val_loader=val_loader,\n",
    "    criterion=criterion,\n",
    "    optimizer=optimizer,\n",
    "    num_epochs=num_epochs,\n",
    "    patience=30,\n",
    "    device=device,\n",
    "    start_epoch=start_epoch,\n",
    "    best_val_loss=best_val_loss,\n",
    "    best_val_fbeta_score=best_val_fbeta_score,\n",
    "    calculate_dice_interval=1,\n",
    "    accumulation_steps = accumulation_steps\n",
    ")"
   ]
  },
  {
   "cell_type": "code",
   "execution_count": 13,
   "metadata": {},
   "outputs": [
    {
     "ename": "SyntaxError",
     "evalue": "invalid syntax (879943805.py, line 1)",
     "output_type": "error",
     "traceback": [
      "\u001b[1;36m  Cell \u001b[1;32mIn[13], line 1\u001b[1;36m\u001b[0m\n\u001b[1;33m    if:\u001b[0m\n\u001b[1;37m      ^\u001b[0m\n\u001b[1;31mSyntaxError\u001b[0m\u001b[1;31m:\u001b[0m invalid syntax\n"
     ]
    }
   ],
   "source": [
    "if:"
   ]
  },
  {
   "cell_type": "markdown",
   "metadata": {},
   "source": [
    "# VAl"
   ]
  },
  {
   "cell_type": "code",
   "execution_count": null,
   "metadata": {},
   "outputs": [
    {
     "data": {
      "text/html": [
       "Finishing last run (ID:fs6utwyo) before initializing another..."
      ],
      "text/plain": [
       "<IPython.core.display.HTML object>"
      ]
     },
     "metadata": {},
     "output_type": "display_data"
    },
    {
     "data": {
      "application/vnd.jupyter.widget-view+json": {
       "model_id": "29cc3ae761af43baae5aca60b5d2e7f4",
       "version_major": 2,
       "version_minor": 0
      },
      "text/plain": [
       "VBox(children=(Label(value='0.009 MB of 0.009 MB uploaded\\r'), FloatProgress(value=1.0, max=1.0)))"
      ]
     },
     "metadata": {},
     "output_type": "display_data"
    },
    {
     "data": {
      "text/html": [
       "<style>\n",
       "    table.wandb td:nth-child(1) { padding: 0 10px; text-align: left ; width: auto;} td:nth-child(2) {text-align: left ; width: 100%}\n",
       "    .wandb-row { display: flex; flex-direction: row; flex-wrap: wrap; justify-content: flex-start; width: 100% }\n",
       "    .wandb-col { display: flex; flex-direction: column; flex-basis: 100%; flex: 1; padding: 10px; }\n",
       "    </style>\n",
       "<div class=\"wandb-row\"><div class=\"wandb-col\"><h3>Run history:</h3><br/><table class=\"wandb\"><tr><td>class_0_dice_score</td><td>▁</td></tr><tr><td>class_0_f_beta_score</td><td>▁</td></tr><tr><td>class_1_dice_score</td><td>▁</td></tr><tr><td>class_1_f_beta_score</td><td>▁</td></tr><tr><td>class_2_dice_score</td><td>▁</td></tr><tr><td>class_2_f_beta_score</td><td>▁</td></tr><tr><td>class_3_dice_score</td><td>▁</td></tr><tr><td>class_3_f_beta_score</td><td>▁</td></tr><tr><td>class_4_dice_score</td><td>▁</td></tr><tr><td>class_4_f_beta_score</td><td>▁</td></tr><tr><td>class_5_dice_score</td><td>▁</td></tr><tr><td>class_5_f_beta_score</td><td>▁</td></tr><tr><td>class_6_dice_score</td><td>▁</td></tr><tr><td>class_6_f_beta_score</td><td>▁</td></tr><tr><td>epoch</td><td>▁▁▁▁▁▁▁▁▁▁▁▁▁▁▁▁</td></tr><tr><td>overall_mean_dice_score</td><td>▁</td></tr><tr><td>overall_mean_f_beta_score</td><td>▁</td></tr><tr><td>val_epoch_loss</td><td>▁</td></tr></table><br/></div><div class=\"wandb-col\"><h3>Run summary:</h3><br/><table class=\"wandb\"><tr><td>class_0_dice_score</td><td>0.65703</td></tr><tr><td>class_0_f_beta_score</td><td>0.50748</td></tr><tr><td>class_1_dice_score</td><td>0.53332</td></tr><tr><td>class_1_f_beta_score</td><td>0.64703</td></tr><tr><td>class_2_dice_score</td><td>0.00286</td></tr><tr><td>class_2_f_beta_score</td><td>0.02334</td></tr><tr><td>class_3_dice_score</td><td>0.23703</td></tr><tr><td>class_3_f_beta_score</td><td>0.23033</td></tr><tr><td>class_4_dice_score</td><td>0.65487</td></tr><tr><td>class_4_f_beta_score</td><td>0.62525</td></tr><tr><td>class_5_dice_score</td><td>0.47899</td></tr><tr><td>class_5_f_beta_score</td><td>0.51448</td></tr><tr><td>class_6_dice_score</td><td>0.42545</td></tr><tr><td>class_6_f_beta_score</td><td>0.47197</td></tr><tr><td>epoch</td><td>1</td></tr><tr><td>overall_mean_dice_score</td><td>0.42708</td></tr><tr><td>overall_mean_f_beta_score</td><td>0.43141</td></tr><tr><td>val_epoch_loss</td><td>0.7152</td></tr></table><br/></div></div>"
      ],
      "text/plain": [
       "<IPython.core.display.HTML object>"
      ]
     },
     "metadata": {},
     "output_type": "display_data"
    },
    {
     "data": {
      "text/html": [
       " View run <strong style=\"color:#cdcd00\">SwinUNETR96_96_lr0.001_lambda0.52_batch2</strong> at: <a href='https://wandb.ai/waooang/czii_SwinUnetR_val/runs/fs6utwyo' target=\"_blank\">https://wandb.ai/waooang/czii_SwinUnetR_val/runs/fs6utwyo</a><br/> View project at: <a href='https://wandb.ai/waooang/czii_SwinUnetR_val' target=\"_blank\">https://wandb.ai/waooang/czii_SwinUnetR_val</a><br/>Synced 4 W&B file(s), 0 media file(s), 3 artifact file(s) and 0 other file(s)"
      ],
      "text/plain": [
       "<IPython.core.display.HTML object>"
      ]
     },
     "metadata": {},
     "output_type": "display_data"
    },
    {
     "data": {
      "text/html": [
       "Find logs at: <code>.\\wandb\\run-20241219_200219-fs6utwyo\\logs</code>"
      ],
      "text/plain": [
       "<IPython.core.display.HTML object>"
      ]
     },
     "metadata": {},
     "output_type": "display_data"
    },
    {
     "data": {
      "text/html": [
       "Successfully finished last run (ID:fs6utwyo). Initializing new run:<br/>"
      ],
      "text/plain": [
       "<IPython.core.display.HTML object>"
      ]
     },
     "metadata": {},
     "output_type": "display_data"
    },
    {
     "data": {
      "text/html": [
       "Tracking run with wandb version 0.18.3"
      ],
      "text/plain": [
       "<IPython.core.display.HTML object>"
      ]
     },
     "metadata": {},
     "output_type": "display_data"
    },
    {
     "data": {
      "text/html": [
       "Run data is saved locally in <code>e:\\Workspace\\czll\\wandb\\run-20241219_200454-121l7bn3</code>"
      ],
      "text/plain": [
       "<IPython.core.display.HTML object>"
      ]
     },
     "metadata": {},
     "output_type": "display_data"
    },
    {
     "data": {
      "text/html": [
       "Syncing run <strong><a href='https://wandb.ai/waooang/czii_SwinUnetR_val/runs/121l7bn3' target=\"_blank\">SwinUNETR96_96_lr0.001_lambda0.52_batch2</a></strong> to <a href='https://wandb.ai/waooang/czii_SwinUnetR_val' target=\"_blank\">Weights & Biases</a> (<a href='https://wandb.me/run' target=\"_blank\">docs</a>)<br/>"
      ],
      "text/plain": [
       "<IPython.core.display.HTML object>"
      ]
     },
     "metadata": {},
     "output_type": "display_data"
    },
    {
     "data": {
      "text/html": [
       " View project at <a href='https://wandb.ai/waooang/czii_SwinUnetR_val' target=\"_blank\">https://wandb.ai/waooang/czii_SwinUnetR_val</a>"
      ],
      "text/plain": [
       "<IPython.core.display.HTML object>"
      ]
     },
     "metadata": {},
     "output_type": "display_data"
    },
    {
     "data": {
      "text/html": [
       " View run at <a href='https://wandb.ai/waooang/czii_SwinUnetR_val/runs/121l7bn3' target=\"_blank\">https://wandb.ai/waooang/czii_SwinUnetR_val/runs/121l7bn3</a>"
      ],
      "text/plain": [
       "<IPython.core.display.HTML object>"
      ]
     },
     "metadata": {},
     "output_type": "display_data"
    },
    {
     "name": "stderr",
     "output_type": "stream",
     "text": [
      "Loading dataset: 100%|██████████| 4/4 [00:06<00:00,  1.58s/it]\n",
      "C:\\Users\\Seungwoo\\AppData\\Local\\Temp\\ipykernel_21000\\1177025787.py:95: FutureWarning: You are using `torch.load` with `weights_only=False` (the current default value), which uses the default pickle module implicitly. It is possible to construct malicious pickle data which will execute arbitrary code during unpickling (See https://github.com/pytorch/pytorch/blob/main/SECURITY.md#untrusted-models for more details). In a future release, the default value for `weights_only` will be flipped to `True`. This limits the functions that could be executed during unpickling. Arbitrary objects will no longer be allowed to be loaded via this mode unless they are explicitly allowlisted by the user via `torch.serialization.add_safe_globals`. We recommend you start setting `weights_only=True` for any use case where you don't have full control of the loaded file. Please open an issue on GitHub for any issues related to this experimental feature.\n",
      "  checkpoint = torch.load(pretrain_path, map_location=device)\n",
      "Validation: 100%|██████████| 4/4 [00:01<00:00,  2.38it/s, loss=0.865]"
     ]
    },
    {
     "name": "stdout",
     "output_type": "stream",
     "text": [
      "Validation Dice Score\n",
      "Class 0: 0.6570, Class 1: 0.5333, Class 2: 0.0029, Class 3: 0.2370, \n",
      "Class 4: 0.6549, Class 5: 0.4790, Class 6: 0.4255, \n",
      "Validation F-beta Score\n",
      "Class 0: 0.5075, Class 1: 0.6470, Class 2: 0.0233, Class 3: 0.2303, \n",
      "Class 4: 0.6252, Class 5: 0.5145, Class 6: 0.4720, \n",
      "Overall Mean Dice Score: 0.4659\n",
      "Overall Mean F-beta Score: 0.4978\n",
      "\n"
     ]
    },
    {
     "name": "stderr",
     "output_type": "stream",
     "text": [
      "\n"
     ]
    }
   ],
   "source": [
    "from monai.data import DataLoader, Dataset, CacheDataset\n",
    "from monai.transforms import (\n",
    "    Compose, LoadImaged, EnsureChannelFirstd, NormalizeIntensityd,\n",
    "    Orientationd, CropForegroundd, GaussianSmoothd, ScaleIntensityd,\n",
    "    RandSpatialCropd, RandRotate90d, RandFlipd, RandGaussianNoised,\n",
    "    ToTensord, RandCropByLabelClassesd\n",
    ")\n",
    "from monai.metrics import DiceMetric\n",
    "from monai.networks.nets import UNETR, SwinUNETR\n",
    "from monai.losses import TverskyLoss\n",
    "import torch\n",
    "import numpy as np\n",
    "from tqdm import tqdm\n",
    "import wandb\n",
    "from src.dataset.dataset import make_val_dataloader\n",
    "\n",
    "val_img_dir = \"./datasets/val/images\"\n",
    "val_label_dir = \"./datasets/val/labels\"\n",
    "img_depth = 96\n",
    "img_size = 96  # Match your patch size\n",
    "n_classes = 7\n",
    "batch_size = 2 # 13.8GB GPU memory required for 128x128 img size\n",
    "num_samples = batch_size # 한 이미지에서 뽑을 샘플 수\n",
    "loader_batch = 1\n",
    "lamda = 0.52\n",
    "\n",
    "wandb.init(\n",
    "    project='czii_SwinUnetR_val',  # 프로젝트 이름 설정\n",
    "    name='SwinUNETR96_96_lr0.001_lambda0.52_batch2',         # 실행(run) 이름 설정\n",
    "    config={\n",
    "        'learning_rate': 0.001,\n",
    "        'batch_size': batch_size,\n",
    "        'lambda': lamda,\n",
    "        'img_size': img_size,\n",
    "        'device': 'cuda',\n",
    "        \"checkpoint_dir\": \"./model_checkpoints/SwinUNETR96_96_lr0.001_lambda0.52_batch2\",\n",
    "        \n",
    "    }\n",
    ")\n",
    "\n",
    "non_random_transforms = Compose([\n",
    "    EnsureChannelFirstd(keys=[\"image\", \"label\"], channel_dim=\"no_channel\"),\n",
    "    NormalizeIntensityd(keys=\"image\"),\n",
    "    Orientationd(keys=[\"image\", \"label\"], axcodes=\"RAS\"),\n",
    "    GaussianSmoothd(\n",
    "        keys=[\"image\"],      # 변환을 적용할 키\n",
    "        sigma=[1.0, 1.0, 1.0]  # 각 축(x, y, z)의 시그마 값\n",
    "        ),\n",
    "])\n",
    "random_transforms = Compose([\n",
    "    RandCropByLabelClassesd(\n",
    "        keys=[\"image\", \"label\"],\n",
    "        label_key=\"label\",\n",
    "        spatial_size=[img_depth, img_size, img_size],\n",
    "        num_classes=n_classes,\n",
    "        num_samples=num_samples, \n",
    "        ratios=ratios_list,\n",
    "    ),\n",
    "    RandRotate90d(keys=[\"image\", \"label\"], prob=0.5, spatial_axes=[1, 2]),\n",
    "    RandFlipd(keys=[\"image\", \"label\"], prob=0.5, spatial_axis=0),\n",
    "])\n",
    "\n",
    "val_loader = make_val_dataloader(\n",
    "    val_img_dir, \n",
    "    val_label_dir, \n",
    "    non_random_transforms = non_random_transforms, \n",
    "    random_transforms = random_transforms, \n",
    "    batch_size = loader_batch,\n",
    "    num_workers=0\n",
    ")\n",
    "criterion = TverskyLoss(\n",
    "    alpha= 1 - lamda,  # FP에 대한 가중치\n",
    "    beta=lamda,       # FN에 대한 가중치\n",
    "    include_background=False,  # 배경 클래스 제외\n",
    "    softmax=True\n",
    ")\n",
    "    \n",
    "    \n",
    "from monai.metrics import DiceMetric\n",
    "\n",
    "img_size = 96\n",
    "img_depth = img_size\n",
    "n_classes = 7 \n",
    "\n",
    "device = torch.device(\"cuda\" if torch.cuda.is_available() else \"cpu\")\n",
    "pretrain_path = \"./model_checkpoints/SwinUNETR96_96_lr0.001_lambda0.52_batch2/best_model.pt\"\n",
    "model = SwinUNETR(\n",
    "    img_size=(img_depth, img_size, img_size),\n",
    "    in_channels=1,\n",
    "    out_channels=n_classes,\n",
    "    feature_size=48,\n",
    "    use_checkpoint=True,\n",
    ").to(device)\n",
    "# Pretrained weights 불러오기\n",
    "checkpoint = torch.load(pretrain_path, map_location=device)\n",
    "model.load_state_dict(checkpoint['model_state_dict'])\n",
    "\n",
    "val_loss, overall_mean_fbeta_score = validate_one_epoch(\n",
    "    model=model, \n",
    "    val_loader=val_loader, \n",
    "    criterion=criterion, \n",
    "    device=device, \n",
    "    epoch=0, \n",
    "    calculate_dice_interval=1\n",
    ")"
   ]
  },
  {
   "cell_type": "markdown",
   "metadata": {},
   "source": [
    "# Inference"
   ]
  },
  {
   "cell_type": "code",
   "execution_count": null,
   "metadata": {},
   "outputs": [],
   "source": [
    "from src.dataset.preprocessing import Preprocessor"
   ]
  },
  {
   "cell_type": "code",
   "execution_count": null,
   "metadata": {},
   "outputs": [
    {
     "name": "stdout",
     "output_type": "stream",
     "text": [
      "Done.\n"
     ]
    }
   ],
   "source": [
    "from monai.inferers import sliding_window_inference\n",
    "from monai.transforms import Compose, EnsureChannelFirstd, NormalizeIntensityd, Orientationd, GaussianSmoothd\n",
    "from monai.data import DataLoader, Dataset, CacheDataset\n",
    "from monai.networks.nets import SwinUNETR\n",
    "from pathlib import Path\n",
    "import numpy as np\n",
    "import copick\n",
    "\n",
    "import torch\n",
    "print(\"Done.\")"
   ]
  },
  {
   "cell_type": "code",
   "execution_count": null,
   "metadata": {},
   "outputs": [
    {
     "name": "stdout",
     "output_type": "stream",
     "text": [
      "Config file written to ./kaggle/working/copick.config\n",
      "file length: 7\n"
     ]
    }
   ],
   "source": [
    "config_blob = \"\"\"{\n",
    "    \"name\": \"czii_cryoet_mlchallenge_2024\",\n",
    "    \"description\": \"2024 CZII CryoET ML Challenge training data.\",\n",
    "    \"version\": \"1.0.0\",\n",
    "\n",
    "    \"pickable_objects\": [\n",
    "        {\n",
    "            \"name\": \"apo-ferritin\",\n",
    "            \"is_particle\": true,\n",
    "            \"pdb_id\": \"4V1W\",\n",
    "            \"label\": 1,\n",
    "            \"color\": [  0, 117, 220, 128],\n",
    "            \"radius\": 60,\n",
    "            \"map_threshold\": 0.0418\n",
    "        },\n",
    "        {\n",
    "          \"name\" : \"beta-amylase\",\n",
    "            \"is_particle\": true,\n",
    "            \"pdb_id\": \"8ZRZ\",\n",
    "            \"label\": 2,\n",
    "            \"color\": [255, 255, 255, 128],\n",
    "            \"radius\": 90,\n",
    "            \"map_threshold\": 0.0578  \n",
    "        },\n",
    "        {\n",
    "            \"name\": \"beta-galactosidase\",\n",
    "            \"is_particle\": true,\n",
    "            \"pdb_id\": \"6X1Q\",\n",
    "            \"label\": 3,\n",
    "            \"color\": [ 76,   0,  92, 128],\n",
    "            \"radius\": 90,\n",
    "            \"map_threshold\": 0.0578\n",
    "        },\n",
    "        {\n",
    "            \"name\": \"ribosome\",\n",
    "            \"is_particle\": true,\n",
    "            \"pdb_id\": \"6EK0\",\n",
    "            \"label\": 4,\n",
    "            \"color\": [  0,  92,  49, 128],\n",
    "            \"radius\": 150,\n",
    "            \"map_threshold\": 0.0374\n",
    "        },\n",
    "        {\n",
    "            \"name\": \"thyroglobulin\",\n",
    "            \"is_particle\": true,\n",
    "            \"pdb_id\": \"6SCJ\",\n",
    "            \"label\": 5,\n",
    "            \"color\": [ 43, 206,  72, 128],\n",
    "            \"radius\": 130,\n",
    "            \"map_threshold\": 0.0278\n",
    "        },\n",
    "        {\n",
    "            \"name\": \"virus-like-particle\",\n",
    "            \"is_particle\": true,\n",
    "            \"label\": 6,\n",
    "            \"color\": [255, 204, 153, 128],\n",
    "            \"radius\": 135,\n",
    "            \"map_threshold\": 0.201\n",
    "        },\n",
    "        {\n",
    "            \"name\": \"membrane\",\n",
    "            \"is_particle\": false,\n",
    "            \"label\": 8,\n",
    "            \"color\": [100, 100, 100, 128]\n",
    "        },\n",
    "        {\n",
    "            \"name\": \"background\",\n",
    "            \"is_particle\": false,\n",
    "            \"label\": 9,\n",
    "            \"color\": [10, 150, 200, 128]\n",
    "        }\n",
    "    ],\n",
    "\n",
    "    \"overlay_root\": \"./kaggle/working/overlay\",\n",
    "\n",
    "    \"overlay_fs_args\": {\n",
    "        \"auto_mkdir\": true\n",
    "    },\n",
    "\n",
    "    \"static_root\": \"./kaggle/input/czii-cryo-et-object-identification/test/static\"\n",
    "}\"\"\"\n",
    "\n",
    "copick_config_path = \"./kaggle/working/copick.config\"\n",
    "preprocessor = Preprocessor(config_blob,copick_config_path=copick_config_path)\n",
    "non_random_transforms = Compose([\n",
    "    EnsureChannelFirstd(keys=[\"image\"], channel_dim=\"no_channel\"),\n",
    "    NormalizeIntensityd(keys=\"image\"),\n",
    "    Orientationd(keys=[\"image\"], axcodes=\"RAS\"),\n",
    "    GaussianSmoothd(\n",
    "        keys=[\"image\"],      # 변환을 적용할 키\n",
    "        sigma=[1.0, 1.0, 1.0]  # 각 축(x, y, z)의 시그마 값\n",
    "        ),\n",
    "    ])"
   ]
  },
  {
   "cell_type": "code",
   "execution_count": null,
   "metadata": {},
   "outputs": [
    {
     "name": "stderr",
     "output_type": "stream",
     "text": [
      "c:\\ProgramData\\anaconda3\\envs\\ship\\Lib\\site-packages\\monai\\utils\\deprecate_utils.py:221: FutureWarning: monai.networks.nets.swin_unetr SwinUNETR.__init__:img_size: Argument `img_size` has been deprecated since version 1.3. It will be removed in version 1.5. The img_size argument is not required anymore and checks on the input size are run during forward().\n",
      "  warn_deprecated(argname, msg, warning_category)\n",
      "C:\\Users\\Seungwoo\\AppData\\Local\\Temp\\ipykernel_6248\\2937359115.py:15: FutureWarning: You are using `torch.load` with `weights_only=False` (the current default value), which uses the default pickle module implicitly. It is possible to construct malicious pickle data which will execute arbitrary code during unpickling (See https://github.com/pytorch/pytorch/blob/main/SECURITY.md#untrusted-models for more details). In a future release, the default value for `weights_only` will be flipped to `True`. This limits the functions that could be executed during unpickling. Arbitrary objects will no longer be allowed to be loaded via this mode unless they are explicitly allowlisted by the user via `torch.serialization.add_safe_globals`. We recommend you start setting `weights_only=True` for any use case where you don't have full control of the loaded file. Please open an issue on GitHub for any issues related to this experimental feature.\n",
      "  checkpoint = torch.load(pretrain_path, map_location=device)\n"
     ]
    },
    {
     "data": {
      "text/plain": [
       "<All keys matched successfully>"
      ]
     },
     "execution_count": 15,
     "metadata": {},
     "output_type": "execute_result"
    }
   ],
   "source": [
    "img_size = 96\n",
    "img_depth = img_size\n",
    "n_classes = 7 \n",
    "\n",
    "device = torch.device(\"cuda\" if torch.cuda.is_available() else \"cpu\")\n",
    "pretrain_path = \"./model_checkpoints/SwinUNETR96_96_lr0.001_lambda0.52_batch2/best_model.pt\"\n",
    "model = SwinUNETR(\n",
    "    img_size=(img_depth, img_size, img_size),\n",
    "    in_channels=1,\n",
    "    out_channels=n_classes,\n",
    "    feature_size=48,\n",
    "    use_checkpoint=True,\n",
    ").to(device)\n",
    "# Pretrained weights 불러오기\n",
    "checkpoint = torch.load(pretrain_path, map_location=device)\n",
    "model.load_state_dict(checkpoint['model_state_dict'])\n"
   ]
  },
  {
   "cell_type": "code",
   "execution_count": null,
   "metadata": {},
   "outputs": [
    {
     "name": "stderr",
     "output_type": "stream",
     "text": [
      "Validation:   0%|          | 0/4 [00:03<?, ?it/s, loss=0.764]\n"
     ]
    },
    {
     "ename": "ZeroDivisionError",
     "evalue": "integer modulo by zero",
     "output_type": "error",
     "traceback": [
      "\u001b[1;31m---------------------------------------------------------------------------\u001b[0m",
      "\u001b[1;31mZeroDivisionError\u001b[0m                         Traceback (most recent call last)",
      "Cell \u001b[1;32mIn[16], line 1\u001b[0m\n\u001b[1;32m----> 1\u001b[0m val_loss \u001b[38;5;241m=\u001b[39m \u001b[43mvalidate_one_epoch\u001b[49m\u001b[43m(\u001b[49m\n\u001b[0;32m      2\u001b[0m \u001b[43m            \u001b[49m\u001b[43mmodel\u001b[49m\u001b[38;5;241;43m=\u001b[39;49m\u001b[43mmodel\u001b[49m\u001b[43m,\u001b[49m\u001b[43m \u001b[49m\n\u001b[0;32m      3\u001b[0m \u001b[43m            \u001b[49m\u001b[43mval_loader\u001b[49m\u001b[38;5;241;43m=\u001b[39;49m\u001b[43mval_loader\u001b[49m\u001b[43m,\u001b[49m\u001b[43m \u001b[49m\n\u001b[0;32m      4\u001b[0m \u001b[43m            \u001b[49m\u001b[43mcriterion\u001b[49m\u001b[38;5;241;43m=\u001b[39;49m\u001b[43mcriterion\u001b[49m\u001b[43m,\u001b[49m\u001b[43m \u001b[49m\n\u001b[0;32m      5\u001b[0m \u001b[43m            \u001b[49m\u001b[43mdevice\u001b[49m\u001b[38;5;241;43m=\u001b[39;49m\u001b[43mdevice\u001b[49m\u001b[43m,\u001b[49m\u001b[43m \u001b[49m\n\u001b[0;32m      6\u001b[0m \u001b[43m            \u001b[49m\u001b[43mepoch\u001b[49m\u001b[38;5;241;43m=\u001b[39;49m\u001b[38;5;241;43m1\u001b[39;49m\u001b[43m,\u001b[49m\u001b[43m \u001b[49m\n\u001b[0;32m      7\u001b[0m \u001b[43m            \u001b[49m\u001b[43mcalculate_dice_interval\u001b[49m\u001b[38;5;241;43m=\u001b[39;49m\u001b[38;5;241;43m0\u001b[39;49m\n\u001b[0;32m      8\u001b[0m \u001b[43m        \u001b[49m\u001b[43m)\u001b[49m\n",
      "Cell \u001b[1;32mIn[11], line 64\u001b[0m, in \u001b[0;36mvalidate_one_epoch\u001b[1;34m(model, val_loader, criterion, device, epoch, calculate_dice_interval)\u001b[0m\n\u001b[0;32m     61\u001b[0m pbar\u001b[38;5;241m.\u001b[39mset_postfix(loss\u001b[38;5;241m=\u001b[39mloss\u001b[38;5;241m.\u001b[39mitem())\n\u001b[0;32m     63\u001b[0m \u001b[38;5;66;03m# 각 클래스별 Dice 점수 계산\u001b[39;00m\n\u001b[1;32m---> 64\u001b[0m \u001b[38;5;28;01mif\u001b[39;00m \u001b[43mepoch\u001b[49m\u001b[43m \u001b[49m\u001b[38;5;241;43m%\u001b[39;49m\u001b[43m \u001b[49m\u001b[43mcalculate_dice_interval\u001b[49m \u001b[38;5;241m==\u001b[39m \u001b[38;5;241m0\u001b[39m:\n\u001b[0;32m     65\u001b[0m     \u001b[38;5;28;01mfor\u001b[39;00m i \u001b[38;5;129;01min\u001b[39;00m \u001b[38;5;28mrange\u001b[39m(n_classes):\n\u001b[0;32m     66\u001b[0m         pred_i \u001b[38;5;241m=\u001b[39m (preds \u001b[38;5;241m==\u001b[39m i)\n",
      "\u001b[1;31mZeroDivisionError\u001b[0m: integer modulo by zero"
     ]
    }
   ],
   "source": [
    "val_loss = validate_one_epoch(\n",
    "            model=model, \n",
    "            val_loader=val_loader, \n",
    "            criterion=criterion, \n",
    "            device=device, \n",
    "            epoch=1, \n",
    "            calculate_dice_interval=0\n",
    "        )"
   ]
  },
  {
   "cell_type": "code",
   "execution_count": null,
   "metadata": {},
   "outputs": [
    {
     "name": "stdout",
     "output_type": "stream",
     "text": [
      "Processing volume 1/7\n"
     ]
    },
    {
     "name": "stderr",
     "output_type": "stream",
     "text": [
      "Loading dataset: 100%|██████████| 1/1 [00:01<00:00,  1.94s/it]\n"
     ]
    },
    {
     "name": "stdout",
     "output_type": "stream",
     "text": [
      "Processing volume 2/7\n"
     ]
    },
    {
     "name": "stderr",
     "output_type": "stream",
     "text": [
      "Loading dataset: 100%|██████████| 1/1 [00:01<00:00,  1.89s/it]\n"
     ]
    },
    {
     "name": "stdout",
     "output_type": "stream",
     "text": [
      "Processing volume 3/7\n"
     ]
    },
    {
     "name": "stderr",
     "output_type": "stream",
     "text": [
      "Loading dataset: 100%|██████████| 1/1 [00:01<00:00,  1.79s/it]\n"
     ]
    },
    {
     "name": "stdout",
     "output_type": "stream",
     "text": [
      "Submission saved to: submission.csv\n"
     ]
    }
   ],
   "source": [
    "import torch\n",
    "import numpy as np\n",
    "from scipy.ndimage import label, center_of_mass\n",
    "import pandas as pd\n",
    "from tqdm import tqdm\n",
    "from monai.data import CacheDataset, DataLoader\n",
    "from monai.transforms import Compose, NormalizeIntensity\n",
    "import cc3d\n",
    "\n",
    "def dict_to_df(coord_dict, experiment_name):\n",
    "    all_coords = []\n",
    "    all_labels = []\n",
    "    \n",
    "    for label, coords in coord_dict.items():\n",
    "        all_coords.append(coords)\n",
    "        all_labels.extend([label] * len(coords))\n",
    "    \n",
    "    all_coords = np.vstack(all_coords)\n",
    "    df = pd.DataFrame({\n",
    "        'experiment': experiment_name,\n",
    "        'particle_type': all_labels,\n",
    "        'x': all_coords[:, 0],\n",
    "        'y': all_coords[:, 1],\n",
    "        'z': all_coords[:, 2]\n",
    "    })\n",
    "    return df\n",
    "\n",
    "id_to_name = {1: \"apo-ferritin\", \n",
    "              2: \"beta-amylase\",\n",
    "              3: \"beta-galactosidase\", \n",
    "              4: \"ribosome\", \n",
    "              5: \"thyroglobulin\", \n",
    "              6: \"virus-like-particle\"}\n",
    "BLOB_THRESHOLD = 200\n",
    "CERTAINTY_THRESHOLD = 0.05\n",
    "\n",
    "classes = [1, 2, 3, 4, 5, 6]\n",
    "\n",
    "model.eval()\n",
    "with torch.no_grad():\n",
    "    location_dfs = []  # DataFrame 리스트로 초기화\n",
    "    \n",
    "    for vol_idx, run in enumerate(preprocessor.root.runs):\n",
    "        print(f\"Processing volume {vol_idx + 1}/{len(preprocessor.root.runs)}\")\n",
    "        tomogram = preprocessor.processing(run=run, task=\"task\")\n",
    "        task_files = [{\"image\": tomogram}]\n",
    "        task_ds = CacheDataset(data=task_files, transform=non_random_transforms)\n",
    "        task_loader = DataLoader(task_ds, batch_size=1, num_workers=0)\n",
    "        \n",
    "        for task_data in task_loader:\n",
    "            images = task_data['image'].to(\"cuda\")\n",
    "            outputs = sliding_window_inference(\n",
    "                inputs=images,\n",
    "                roi_size=(96, 96, 96),  # ROI 크기\n",
    "                sw_batch_size=4,\n",
    "                predictor=model.forward,\n",
    "                overlap=0.1,\n",
    "                sw_device=\"cuda\",\n",
    "                device=\"cpu\",\n",
    "                buffer_steps=1,\n",
    "                buffer_dim=-1\n",
    "            )\n",
    "            outputs = outputs.argmax(dim=1).squeeze(0).cpu().numpy()  # 클래스 채널 예측\n",
    "            location = {}  # 좌표 저장용 딕셔너리\n",
    "            for c in classes:\n",
    "                cc = cc3d.connected_components(outputs == c)  # cc3d 라벨링\n",
    "                stats = cc3d.statistics(cc)\n",
    "                zyx = stats['centroids'][1:] * 10.012444  # 스케일 변환\n",
    "                zyx_large = zyx[stats['voxel_counts'][1:] > BLOB_THRESHOLD]  # 크기 필터링\n",
    "                xyz = np.ascontiguousarray(zyx_large[:, ::-1])  # 좌표 스왑 (z, y, x -> x, y, z)\n",
    "\n",
    "                location[id_to_name[c]] = xyz  # ID 이름 매칭 저장\n",
    "\n",
    "            # 데이터프레임 변환\n",
    "            df = dict_to_df(location, run.name)\n",
    "            location_dfs.append(df)  # 리스트에 추가\n",
    "        \n",
    "        # if vol_idx == 2:\n",
    "        #     break\n",
    "    \n",
    "    # DataFrame 병합\n",
    "    final_df = pd.concat(location_dfs, ignore_index=True)\n",
    "    \n",
    "    # ID 추가 및 CSV 저장\n",
    "    final_df.insert(loc=0, column='id', value=np.arange(len(final_df)))\n",
    "    final_df.to_csv(\"submission.csv\", index=False)\n",
    "    print(\"Submission saved to: submission.csv\")\n"
   ]
  }
 ],
 "metadata": {
  "kernelspec": {
   "display_name": "UM",
   "language": "python",
   "name": "python3"
  },
  "language_info": {
   "codemirror_mode": {
    "name": "ipython",
    "version": 3
   },
   "file_extension": ".py",
   "mimetype": "text/x-python",
   "name": "python",
   "nbconvert_exporter": "python",
   "pygments_lexer": "ipython3",
   "version": "3.12.7"
  }
 },
 "nbformat": 4,
 "nbformat_minor": 2
}
