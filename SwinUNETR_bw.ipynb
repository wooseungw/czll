{
 "cells": [
  {
   "cell_type": "code",
   "execution_count": 1,
   "metadata": {},
   "outputs": [
    {
     "name": "stderr",
     "output_type": "stream",
     "text": [
      "c:\\Users\\pook0\\.conda\\envs\\UM\\Lib\\site-packages\\tqdm\\auto.py:21: TqdmWarning: IProgress not found. Please update jupyter and ipywidgets. See https://ipywidgets.readthedocs.io/en/stable/user_install.html\n",
      "  from .autonotebook import tqdm as notebook_tqdm\n"
     ]
    },
    {
     "name": "stdout",
     "output_type": "stream",
     "text": [
      "MONAI version: 1.4.0\n",
      "Numpy version: 1.26.4\n",
      "Pytorch version: 2.4.1+cu121\n",
      "MONAI flags: HAS_EXT = False, USE_COMPILED = False, USE_META_DICT = False\n",
      "MONAI rev id: 46a5272196a6c2590ca2589029eed8e4d56ff008\n",
      "MONAI __file__: c:\\Users\\<username>\\.conda\\envs\\UM\\Lib\\site-packages\\monai\\__init__.py\n",
      "\n",
      "Optional dependencies:\n",
      "Pytorch Ignite version: NOT INSTALLED or UNKNOWN VERSION.\n",
      "ITK version: NOT INSTALLED or UNKNOWN VERSION.\n",
      "Nibabel version: 5.3.2\n",
      "scikit-image version: 0.24.0\n",
      "scipy version: 1.14.1\n",
      "Pillow version: 10.2.0\n",
      "Tensorboard version: 2.18.0\n",
      "gdown version: 5.2.0\n",
      "TorchVision version: 0.19.1+cu121\n",
      "tqdm version: 4.66.5\n",
      "lmdb version: NOT INSTALLED or UNKNOWN VERSION.\n",
      "psutil version: 6.0.0\n",
      "pandas version: 2.2.3\n",
      "einops version: 0.8.0\n",
      "transformers version: NOT INSTALLED or UNKNOWN VERSION.\n",
      "mlflow version: 2.17.2\n",
      "pynrrd version: NOT INSTALLED or UNKNOWN VERSION.\n",
      "clearml version: NOT INSTALLED or UNKNOWN VERSION.\n",
      "\n",
      "For details about installing the optional dependencies, please visit:\n",
      "    https://docs.monai.io/en/latest/installation.html#installing-the-recommended-dependencies\n",
      "\n"
     ]
    }
   ],
   "source": [
    "import os\n",
    "import shutil\n",
    "import tempfile\n",
    "\n",
    "import matplotlib.pyplot as plt\n",
    "from tqdm import tqdm\n",
    "\n",
    "from monai.losses import DiceCELoss\n",
    "from monai.inferers import sliding_window_inference\n",
    "from monai.transforms import (\n",
    "    AsDiscrete,\n",
    "    EnsureChannelFirstd,\n",
    "    Compose,\n",
    "    CropForegroundd,\n",
    "    LoadImaged,\n",
    "    Orientationd,\n",
    "    RandFlipd,\n",
    "    RandCropByPosNegLabeld,\n",
    "    RandShiftIntensityd,\n",
    "    ScaleIntensityRanged,\n",
    "    Spacingd,\n",
    "    RandRotate90d,\n",
    ")\n",
    "\n",
    "from monai.config import print_config\n",
    "from monai.metrics import DiceMetric\n",
    "from monai.networks.nets import UNETR, SwinUNETR\n",
    "\n",
    "from monai.data import (\n",
    "    DataLoader,\n",
    "    CacheDataset,\n",
    "    load_decathlon_datalist,\n",
    "    decollate_batch,\n",
    ")\n",
    "\n",
    "\n",
    "import torch\n",
    "\n",
    "print_config()"
   ]
  },
  {
   "cell_type": "code",
   "execution_count": 2,
   "metadata": {},
   "outputs": [],
   "source": [
    "# class_info = {\n",
    "#     0: {\"name\": \"background\", \"weight\": 10000},  # weight 없음\n",
    "#     1: {\"name\": \"apo-ferritin\", \"weight\": 300},\n",
    "#     2: {\"name\": \"beta-amylase\", \"weight\": 100}, # 4130\n",
    "#     3: {\"name\": \"beta-galactosidase\", \"weight\": 150}, #3080\n",
    "#     4: {\"name\": \"ribosome\", \"weight\": 6000},\n",
    "#     5: {\"name\": \"thyroglobulin\", \"weight\": 4000},\n",
    "#     6: {\"name\": \"virus-like-particle\", \"weight\": 2000},\n",
    "# }\n",
    "\n",
    "# # 가중치에 비례한 비율 계산\n",
    "# raw_ratios = {\n",
    "#     k: (v[\"weight\"] if v[\"weight\"] is not None else 0.01)  # 가중치 비례, None일 경우 기본값\n",
    "#     for k, v in class_info.items()\n",
    "# }\n",
    "# total = sum(raw_ratios.values())\n",
    "# ratios = {k: v / total for k, v in raw_ratios.items()}\n",
    "\n",
    "# # 최종 합계가 1인지 확인\n",
    "# final_total = sum(ratios.values())\n",
    "# print(\"클래스 비율:\", ratios)\n",
    "# print(\"최종 합계:\", final_total)\n",
    "\n",
    "# # 비율을 리스트로 변환\n",
    "# ratios_list = [ratios[k] for k in sorted(ratios.keys())]\n",
    "# print(\"클래스 비율 리스트:\", ratios_list)"
   ]
  },
  {
   "cell_type": "code",
   "execution_count": 3,
   "metadata": {},
   "outputs": [
    {
     "name": "stdout",
     "output_type": "stream",
     "text": [
      "반비례 클래스 비율: {0: 0.0033112582781456954, 1: 0.11037527593818984, 2: 0.0033112582781456954, 3: 0.3311258278145695, 4: 0.05518763796909492, 5: 0.3311258278145695, 6: 0.16556291390728475}\n",
      "최종 합계: 0.9999999999999999\n",
      "반비례 클래스 비율 리스트: [0.0033112582781456954, 0.11037527593818984, 0.0033112582781456954, 0.3311258278145695, 0.05518763796909492, 0.3311258278145695, 0.16556291390728475]\n"
     ]
    }
   ],
   "source": [
    "class_info = {\n",
    "    0: {\"name\": \"background\", \"weight\": 100000},  # weight 없음\n",
    "    1: {\"name\": \"apo-ferritin\", \"weight\": 3000},\n",
    "    2: {\"name\": \"beta-amylase\", \"weight\": 100000}, # 100\n",
    "    3: {\"name\": \"beta-galactosidase\", \"weight\": 1000}, #3080\n",
    "    4: {\"name\": \"ribosome\", \"weight\": 6000},\n",
    "    5: {\"name\": \"thyroglobulin\", \"weight\": 1000},\n",
    "    6: {\"name\": \"virus-like-particle\", \"weight\": 2000},\n",
    "}\n",
    "\n",
    "# 가중치의 역수 계산 (0인 경우 작은 값을 대체)\n",
    "inverse_ratios = {\n",
    "    k: (1 / v[\"weight\"] if v[\"weight\"] > 0 else 1e-6)\n",
    "    for k, v in class_info.items()\n",
    "}\n",
    "\n",
    "# 정규화하여 비율 계산\n",
    "total_inverse = sum(inverse_ratios.values())\n",
    "ratios_inverse = {k: v / total_inverse for k, v in inverse_ratios.items()}\n",
    "\n",
    "# 최종 합계가 1인지 확인\n",
    "final_total_inverse = sum(ratios_inverse.values())\n",
    "print(\"반비례 클래스 비율:\", ratios_inverse)\n",
    "print(\"최종 합계:\", final_total_inverse)\n",
    "\n",
    "# 비율을 리스트로 변환\n",
    "ratios_list = [ratios_inverse[k] for k in sorted(ratios_inverse.keys())]\n",
    "print(\"반비례 클래스 비율 리스트:\", ratios_list)\n"
   ]
  },
  {
   "cell_type": "code",
   "execution_count": 4,
   "metadata": {},
   "outputs": [],
   "source": [
    "from src.dataset.dataset import create_dataloaders\n",
    "from monai.transforms import (\n",
    "    Compose, LoadImaged, EnsureChannelFirstd, NormalizeIntensityd,\n",
    "    Orientationd, CropForegroundd, GaussianSmoothd, ScaleIntensityd,\n",
    "    RandSpatialCropd, RandRotate90d, RandFlipd, RandGaussianNoised,\n",
    "    ToTensord, RandCropByLabelClassesd\n",
    ")\n",
    "\n",
    "train_img_dir = \"./datasets/train/images\"\n",
    "train_label_dir = \"./datasets/train/labels\"\n",
    "val_img_dir = \"./datasets/val/images\"\n",
    "val_label_dir = \"./datasets/val/labels\"\n",
    "img_depth = 64\n",
    "img_size = 64  # Match your patch size\n",
    "n_classes = 7\n",
    "batch_size = 6 # 13.8GB GPU memory required for 128x128 img size\n",
    "num_samples = batch_size # 한 이미지에서 뽑을 샘플 수\n",
    "loader_batch = 1\n",
    "\n",
    "non_random_transforms = Compose([\n",
    "    EnsureChannelFirstd(keys=[\"image\", \"label\"], channel_dim=\"no_channel\"),\n",
    "    NormalizeIntensityd(keys=\"image\"),\n",
    "    Orientationd(keys=[\"image\", \"label\"], axcodes=\"RAS\"),\n",
    "    GaussianSmoothd(\n",
    "        keys=[\"image\"],      # 변환을 적용할 키\n",
    "        sigma=[1.0, 1.0, 1.0]  # 각 축(x, y, z)의 시그마 값\n",
    "        ),\n",
    "])\n",
    "random_transforms = Compose([\n",
    "    RandCropByLabelClassesd(\n",
    "        keys=[\"image\", \"label\"],\n",
    "        label_key=\"label\",\n",
    "        spatial_size=[img_depth, img_size, img_size],\n",
    "        num_classes=n_classes,\n",
    "        num_samples=num_samples, \n",
    "        ratios=ratios_list,\n",
    "    ),\n",
    "    RandRotate90d(keys=[\"image\", \"label\"], prob=0.5, spatial_axes=[1, 2]),\n",
    "    RandFlipd(keys=[\"image\", \"label\"], prob=0.5, spatial_axis=0),\n",
    "    RandFlipd(keys=[\"image\", \"label\"], prob=0.5, spatial_axis=1),\n",
    "    RandFlipd(keys=[\"image\", \"label\"], prob=0.5, spatial_axis=2),\n",
    "])\n"
   ]
  },
  {
   "cell_type": "code",
   "execution_count": 5,
   "metadata": {},
   "outputs": [
    {
     "name": "stderr",
     "output_type": "stream",
     "text": [
      "Loading dataset: 100%|██████████| 24/24 [00:42<00:00,  1.78s/it]\n",
      "Loading dataset: 100%|██████████| 4/4 [00:06<00:00,  1.69s/it]\n"
     ]
    }
   ],
   "source": [
    "train_loader, val_loader = None, None\n",
    "train_loader, val_loader = create_dataloaders(\n",
    "    train_img_dir, \n",
    "    train_label_dir, \n",
    "    val_img_dir, \n",
    "    val_label_dir, \n",
    "    non_random_transforms = non_random_transforms, \n",
    "    random_transforms = random_transforms, \n",
    "    batch_size = loader_batch,\n",
    "    num_workers=0)"
   ]
  },
  {
   "cell_type": "markdown",
   "metadata": {},
   "source": [
    "https://monai.io/model-zoo.html"
   ]
  },
  {
   "cell_type": "code",
   "execution_count": 6,
   "metadata": {},
   "outputs": [],
   "source": [
    "from monai.losses import TverskyLoss\n",
    "import torch\n",
    "\n",
    "def loss_fn(loss, class_weights, device):\n",
    "    \"\"\"\n",
    "    Tversky 손실에 클래스별 가중치를 적용하여 최종 스칼라 값을 반환합니다.\n",
    "\n",
    "    Args:\n",
    "        loss: Tversky 손실 텐서 (B, num_classes, H, W, D).\n",
    "        class_weights: 클래스별 가중치 텐서 (num_classes,).\n",
    "        device: 사용할 장치 (예: 'cuda' 또는 'cpu').\n",
    "\n",
    "    Returns:\n",
    "        torch.Tensor: 최종 가중 평균 손실 값 (스칼라).\n",
    "    \"\"\"\n",
    "    # 가중치를 device로 이동\n",
    "    class_weights = class_weights.to(device)\n",
    "\n",
    "    # 클래스 차원에 가중치 적용 (B, num_classes, ...)\n",
    "    class_weights = class_weights.view(1, n_classes, 1, 1, 1)  # [1, num_classes, 1, 1, 1]\n",
    "    weighted_loss = loss * class_weights\n",
    "\n",
    "    # 모든 차원을 평균 내어 스칼라 손실 반환\n",
    "    final_loss = torch.mean(weighted_loss)\n",
    "    return final_loss"
   ]
  },
  {
   "cell_type": "code",
   "execution_count": 7,
   "metadata": {},
   "outputs": [
    {
     "name": "stderr",
     "output_type": "stream",
     "text": [
      "c:\\Users\\pook0\\.conda\\envs\\UM\\Lib\\site-packages\\monai\\utils\\deprecate_utils.py:221: FutureWarning: monai.networks.nets.swin_unetr SwinUNETR.__init__:img_size: Argument `img_size` has been deprecated since version 1.3. It will be removed in version 1.5. The img_size argument is not required anymore and checks on the input size are run during forward().\n",
      "  warn_deprecated(argname, msg, warning_category)\n"
     ]
    }
   ],
   "source": [
    "import torch.optim as optim\n",
    "from tqdm import tqdm\n",
    "import numpy as np\n",
    "import torch\n",
    "from pathlib import Path\n",
    "from monai.metrics import DiceMetric\n",
    "# Model Configuration\n",
    "start_epoch = 0\n",
    "best_val_loss = float('inf')\n",
    "best_val_fbeta_score = 0\n",
    "# Training setup\n",
    "num_epochs = 4000\n",
    "lamda = 0.5\n",
    "lr = 0.001\n",
    "feature_size = 24\n",
    "\n",
    "class_weights = torch.tensor([0, 1, 0, 1, 1, 1, 1], dtype=torch.float32)  # 클래스별 가중치\n",
    "device = torch.device(\"cuda\" if torch.cuda.is_available() else \"cpu\")\n",
    "\n",
    "model = SwinUNETR(\n",
    "    img_size=(img_depth, img_size, img_size),\n",
    "    in_channels=1,\n",
    "    out_channels=n_classes,\n",
    "    feature_size=feature_size,\n",
    "    use_checkpoint=False,\n",
    ").to(device)\n",
    "# Pretrained weights 불러오기\n",
    "# pretrain_path = \"./swin_unetr_btcv_segmentation/models/model.pt\"\n",
    "# weight = torch.load(pretrain_path, map_location=device)\n",
    "\n",
    "# # 출력 레이어의 키를 제외한 나머지 가중치만 로드\n",
    "# filtered_weights = {k: v for k, v in weight.items() if \"out.conv.conv\" not in k}\n",
    "\n",
    "# # strict=False로 로드하여 불일치하는 부분 무시\n",
    "# model.load_state_dict(filtered_weights, strict=False)\n",
    "# print(\"Filtered weights loaded successfully. Output layer will be trained from scratch.\")\n",
    "\n",
    "# Load pretrained weights\n",
    "# model.load_from(weights=np.load(config_vit.real_pretrained_path, allow_pickle=True))\n",
    "# TverskyLoss 설정\n",
    "'''\n",
    "criterion = TverskyLoss(\n",
    "    alpha= 1 - lamda,  # FP에 대한 가중치\n",
    "    beta=lamda,       # FN에 대한 가중치\n",
    "    include_background=False,  # 배경 클래스 제외\n",
    "    reduction=\"none\",  # 각 픽셀에 대한 손실 반환\n",
    "    softmax=True\n",
    ")\n",
    "'''\n",
    "# 손실 함수 초기화\n",
    "from monai.losses import TverskyLoss\n",
    "\n",
    "class DynamicTverskyLoss(TverskyLoss):\n",
    "    def __init__(self, lamda=0.5, **kwargs):\n",
    "        super().__init__(alpha=1 - lamda, beta=lamda, **kwargs)\n",
    "        self.lamda = lamda\n",
    "\n",
    "    def set_lamda(self, lamda):\n",
    "        self.lamda = lamda\n",
    "        self.alpha = 1 - lamda\n",
    "        self.beta = lamda\n",
    "        \n",
    "criterion = DynamicTverskyLoss(\n",
    "    lamda=0.5,\n",
    "    include_background=False,\n",
    "    reduction=\"mean\",\n",
    "    softmax=True\n",
    ")\n",
    "# 체크포인트 디렉토리 및 파일 설정\n",
    "checkpoint_base_dir = Path(\"./model_checkpoints\")\n",
    "checkpoint_dir = checkpoint_base_dir / f\"SwinUNETR_no_pretrain_filps_f{feature_size}_{img_depth}_{img_size}_lr{lr}_lambda{lamda}_batch{batch_size}\"\n",
    "optimizer = optim.AdamW(model.parameters(), lr=lr, weight_decay=1e-5)\n",
    "\n",
    "# 체크포인트 디렉토리 생성\n",
    "checkpoint_dir.mkdir(parents=True, exist_ok=True)\n",
    "\n",
    "if checkpoint_dir.exists():\n",
    "    best_model_path = checkpoint_dir / 'best_model.pt'\n",
    "    if best_model_path.exists():\n",
    "        print(f\"기존 best model 발견: {best_model_path}\")\n",
    "        try:\n",
    "            checkpoint = torch.load(best_model_path, map_location=device)\n",
    "            # 체크포인트 내부 키 검증\n",
    "            required_keys = ['model_state_dict', 'optimizer_state_dict', 'epoch', 'best_val_loss']\n",
    "            if all(k in checkpoint for k in required_keys):\n",
    "                model.load_state_dict(checkpoint['model_state_dict'])\n",
    "                optimizer.load_state_dict(checkpoint['optimizer_state_dict'])\n",
    "                start_epoch = checkpoint['epoch']\n",
    "                best_val_loss = checkpoint['best_val_loss']\n",
    "                print(\"기존 학습된 가중치를 성공적으로 로드했습니다.\")\n",
    "            else:\n",
    "                raise ValueError(\"체크포인트 파일에 필요한 key가 없습니다.\")\n",
    "        except Exception as e:\n",
    "            print(f\"체크포인트 파일을 로드하는 중 오류 발생: {e}\")\n"
   ]
  },
  {
   "cell_type": "code",
   "execution_count": 8,
   "metadata": {},
   "outputs": [
    {
     "name": "stdout",
     "output_type": "stream",
     "text": [
      "torch.Size([6, 1, 64, 64, 64]) torch.Size([6, 1, 64, 64, 64])\n"
     ]
    }
   ],
   "source": [
    "batch = next(iter(val_loader))\n",
    "images, labels = batch[\"image\"], batch[\"label\"]\n",
    "print(images.shape, labels.shape)"
   ]
  },
  {
   "cell_type": "code",
   "execution_count": 9,
   "metadata": {},
   "outputs": [],
   "source": [
    "torch.backends.cudnn.benchmark = True"
   ]
  },
  {
   "cell_type": "code",
   "execution_count": 10,
   "metadata": {},
   "outputs": [
    {
     "name": "stderr",
     "output_type": "stream",
     "text": [
      "\u001b[34m\u001b[1mwandb\u001b[0m: Using wandb-core as the SDK backend.  Please refer to https://wandb.me/wandb-core for more information.\n",
      "\u001b[34m\u001b[1mwandb\u001b[0m: Currently logged in as: \u001b[33mpook0612\u001b[0m (\u001b[33mlimbw\u001b[0m). Use \u001b[1m`wandb login --relogin`\u001b[0m to force relogin\n"
     ]
    },
    {
     "data": {
      "text/html": [
       "Tracking run with wandb version 0.19.1"
      ],
      "text/plain": [
       "<IPython.core.display.HTML object>"
      ]
     },
     "metadata": {},
     "output_type": "display_data"
    },
    {
     "data": {
      "text/html": [
       "Run data is saved locally in <code>d:\\Workspace\\czll\\wandb\\run-20241220_165225-jzd7bds9</code>"
      ],
      "text/plain": [
       "<IPython.core.display.HTML object>"
      ]
     },
     "metadata": {},
     "output_type": "display_data"
    },
    {
     "data": {
      "text/html": [
       "Syncing run <strong><a href='https://wandb.ai/limbw/czii_SwinUnetR/runs/jzd7bds9' target=\"_blank\">SwinUNETR_lr0.001_bs6_lambda0.5_20241220_165225</a></strong> to <a href='https://wandb.ai/limbw/czii_SwinUnetR' target=\"_blank\">Weights & Biases</a> (<a href='https://wandb.me/developer-guide' target=\"_blank\">docs</a>)<br>"
      ],
      "text/plain": [
       "<IPython.core.display.HTML object>"
      ]
     },
     "metadata": {},
     "output_type": "display_data"
    },
    {
     "data": {
      "text/html": [
       " View project at <a href='https://wandb.ai/limbw/czii_SwinUnetR' target=\"_blank\">https://wandb.ai/limbw/czii_SwinUnetR</a>"
      ],
      "text/plain": [
       "<IPython.core.display.HTML object>"
      ]
     },
     "metadata": {},
     "output_type": "display_data"
    },
    {
     "data": {
      "text/html": [
       " View run at <a href='https://wandb.ai/limbw/czii_SwinUnetR/runs/jzd7bds9' target=\"_blank\">https://wandb.ai/limbw/czii_SwinUnetR/runs/jzd7bds9</a>"
      ],
      "text/plain": [
       "<IPython.core.display.HTML object>"
      ]
     },
     "metadata": {},
     "output_type": "display_data"
    }
   ],
   "source": [
    "import wandb\n",
    "from datetime import datetime\n",
    "\n",
    "current_time = datetime.now().strftime('%Y%m%d_%H%M%S')\n",
    "run_name = f'SwinUNETR_lr{lr}_bs{batch_size}_lambda{lamda}_{current_time}'\n",
    "\n",
    "# wandb 초기화\n",
    "wandb.init(\n",
    "    project='czii_SwinUnetR',  # 프로젝트 이름 설정\n",
    "    name=run_name,         # 실행(run) 이름 설정\n",
    "    config={\n",
    "        'num_epochs': num_epochs,\n",
    "        'learning_rate': lr,\n",
    "        'batch_size': batch_size,\n",
    "        'lambda': lamda,\n",
    "        'feature_size': feature_size,\n",
    "        'img_size': img_size,\n",
    "        'sampling_ratio': ratios_list,\n",
    "        'device': device.type,\n",
    "        \"checkpoint_dir\": str(checkpoint_dir),\n",
    "        \"class_weights\": class_weights.tolist(),\n",
    "        # 필요한 하이퍼파라미터 추가\n",
    "    }\n",
    ")\n",
    "# 모델을 wandb에 연결\n",
    "wandb.watch(model, log='all')"
   ]
  },
  {
   "cell_type": "code",
   "execution_count": null,
   "metadata": {},
   "outputs": [],
   "source": [
    "from monai.metrics import DiceMetric\n",
    "\n",
    "def create_metric_dict(num_classes):\n",
    "    \"\"\"각 클래스별 DiceMetric 생성\"\"\"\n",
    "    metrics = {}\n",
    "    for i in range(num_classes):\n",
    "        metrics[f'dice_class_{i}'] = DiceMetric(\n",
    "            include_background=False if i == 0 else False,\n",
    "            reduction=\"mean\",\n",
    "            get_not_nans=False\n",
    "        )\n",
    "    return metrics\n",
    "    \n",
    "def processing(batch_data, model, criterion, device):\n",
    "    images = batch_data['image'].to(device)  # Input 이미지 (B, 1, 96, 96, 96)\n",
    "    labels = batch_data['label'].to(device)  # 라벨 (B, 96, 96, 96)\n",
    "\n",
    "    labels = labels.squeeze(1)  # (B, 1, 96, 96, 96) → (B, 96, 96, 96)\n",
    "    labels = labels.long()  # 라벨을 정수형으로 변환\n",
    "\n",
    "    # 원핫 인코딩 (B, H, W, D) → (B, num_classes, H, W, D)\n",
    "    \n",
    "    labels_onehot = torch.nn.functional.one_hot(labels, num_classes=n_classes)\n",
    "    labels_onehot = labels_onehot.permute(0, 4, 1, 2, 3).float()  # (B, num_classes, H, W, D)\n",
    "\n",
    "    # 모델 예측\n",
    "    outputs = model(images)  # outputs: (B, num_classes, H, W, D)\n",
    "\n",
    "    # Loss 계산\n",
    "    # loss = loss_fn(criterion(outputs, labels_onehot), class_weights, device)\n",
    "    loss = loss_fn(criterion(outputs, labels_onehot),class_weights=class_weights, device=device)\n",
    "    return loss, outputs, labels, outputs.argmax(dim=1)\n",
    "\n",
    "def train_one_epoch(model, train_loader, criterion, optimizer, device, epoch):\n",
    "    model.train()\n",
    "    epoch_loss = 0\n",
    "    with tqdm(train_loader, desc='Training') as pbar:\n",
    "        for batch_data in pbar:\n",
    "            optimizer.zero_grad()\n",
    "            loss, _, _, _ = processing(batch_data, model, criterion, device)\n",
    "            loss.backward()\n",
    "            optimizer.step()\n",
    "\n",
    "            epoch_loss += loss.item()\n",
    "            pbar.set_postfix(loss=loss.item())\n",
    "    avg_loss = epoch_loss / len(train_loader)\n",
    "    wandb.log({'train_epoch_loss': avg_loss, 'epoch': epoch + 1})\n",
    "    return epoch_loss / len(train_loader)\n",
    "\n",
    "def validate_one_epoch(model, val_loader, criterion, device, epoch, calculate_dice_interval):\n",
    "    model.eval()\n",
    "    val_loss = 0\n",
    "    metrics = create_metric_dict(n_classes)\n",
    "    class_dice_scores = {i: [] for i in range(n_classes)}\n",
    "    class_f_beta_scores = {i: [] for i in range(n_classes)}\n",
    "    with torch.no_grad():\n",
    "        with tqdm(val_loader, desc='Validation') as pbar:\n",
    "            for batch_data in pbar:\n",
    "                loss, _, labels, preds = processing(batch_data, model, criterion, device)\n",
    "                val_loss += loss.item()\n",
    "                pbar.set_postfix(loss=loss.item())\n",
    "\n",
    "                # 각 클래스별 Dice 점수 계산\n",
    "                if epoch % calculate_dice_interval == 0:\n",
    "                    for i in range(n_classes):\n",
    "                        pred_i = (preds == i)\n",
    "                        label_i = (labels == i)\n",
    "                        dice_score = (2.0 * torch.sum(pred_i & label_i)) / (torch.sum(pred_i) + torch.sum(label_i) + 1e-8)\n",
    "                        class_dice_scores[i].append(dice_score.item())\n",
    "                        precision = (torch.sum(pred_i & label_i) + 1e-8) / (torch.sum(pred_i) + 1e-8)\n",
    "                        recall = (torch.sum(pred_i & label_i) + 1e-8) / (torch.sum(label_i) + 1e-8)\n",
    "                        f_beta_score = (1 + 4**2) * (precision * recall) / (4**2 * precision + recall + 1e-8)\n",
    "                        class_f_beta_scores[i].append(f_beta_score.item())\n",
    "\n",
    "    avg_loss = val_loss / len(val_loader)\n",
    "    # 에포크별 평균 손실 로깅\n",
    "    wandb.log({'val_epoch_loss': avg_loss, 'epoch': epoch + 1})\n",
    "    \n",
    "    # 각 클래스별 평균 Dice 점수 출력\n",
    "    if epoch % calculate_dice_interval == 0:\n",
    "        print(\"Validation Dice Score\")\n",
    "        all_classes_dice_scores = []\n",
    "        for i in range(n_classes):\n",
    "            mean_dice = np.mean(class_dice_scores[i])\n",
    "            wandb.log({f'class_{i}_dice_score': mean_dice, 'epoch': epoch + 1})\n",
    "            print(f\"Class {i}: {mean_dice:.4f}\", end=\", \")\n",
    "            if i not in [0, 2]:  # 평균에 포함할 클래스만 추가\n",
    "                all_classes_dice_scores.append(mean_dice)\n",
    "            if i == 3:\n",
    "                print()\n",
    "        print()\n",
    "    if epoch % calculate_dice_interval == 0:\n",
    "        print(\"Validation F-beta Score\")\n",
    "        all_classes_fbeta_scores = []\n",
    "        for i in range(n_classes):\n",
    "            mean_fbeta = np.mean(class_f_beta_scores[i])\n",
    "            wandb.log({f'class_{i}_f_beta_score': mean_fbeta, 'epoch': epoch + 1})\n",
    "            print(f\"Class {i}: {mean_fbeta:.4f}\", end=\", \")\n",
    "            if i not in [0, 2]:  # 평균에 포함할 클래스만 추가\n",
    "                all_classes_fbeta_scores.append(mean_fbeta)\n",
    "            if i == 3:\n",
    "                print()\n",
    "        overall_mean_dice = np.mean(all_classes_dice_scores)\n",
    "        overall_mean_fbeta = np.mean(all_classes_fbeta_scores)\n",
    "        wandb.log({'overall_mean_f_beta_score': overall_mean_fbeta, 'overall_mean_dice_score': overall_mean_dice, 'epoch': epoch + 1})\n",
    "        print(f\"\\nOverall Mean Dice Score: {overall_mean_dice:.4f}\\nOverall Mean F-beta Score: {overall_mean_fbeta:.4f}\\n\")\n",
    "\n",
    "    if overall_mean_fbeta is None:\n",
    "        overall_mean_fbeta = 0\n",
    "\n",
    "    return val_loss / len(val_loader), overall_mean_fbeta\n",
    "\n",
    "\n",
    "def train_model(\n",
    "    model, train_loader, val_loader, criterion, optimizer, num_epochs, patience, \n",
    "    device, start_epoch, best_val_loss, best_val_fbeta_score, calculate_dice_interval=1\n",
    "):\n",
    "    \"\"\"\n",
    "    모델을 학습하고 검증하는 함수\n",
    "    Args:\n",
    "        model: 학습할 모델\n",
    "        train_loader: 학습 데이터 로더\n",
    "        val_loader: 검증 데이터 로더\n",
    "        criterion: 손실 함수\n",
    "        optimizer: 최적화 알고리즘\n",
    "        num_epochs: 총 학습 epoch 수\n",
    "        patience: early stopping 기준\n",
    "        device: GPU/CPU 장치\n",
    "        start_epoch: 시작 epoch\n",
    "        best_val_loss: 이전 최적 validation loss\n",
    "        best_val_fbeta_score: 이전 최적 validation f-beta score\n",
    "        calculate_dice_interval: Dice 점수 계산 주기\n",
    "    \"\"\"\n",
    "    epochs_no_improve = 0\n",
    "\n",
    "    for epoch in range(start_epoch, num_epochs):\n",
    "        print(f\"Epoch {epoch + 1}/{num_epochs}\")\n",
    "         # 현재 lambda 값 출력\n",
    "        print(f\"Current lambda: {criterion.lamda:.4f}\")\n",
    "        # Train One Epoch\n",
    "        train_loss = train_one_epoch(\n",
    "            model=model, \n",
    "            train_loader=train_loader, \n",
    "            criterion=criterion, \n",
    "            optimizer=optimizer, \n",
    "            device=device,\n",
    "            epoch=epoch\n",
    "        )\n",
    "\n",
    "        # Validate One Epoch\n",
    "        val_loss, overall_mean_fbeta_score = validate_one_epoch(\n",
    "            model=model, \n",
    "            val_loader=val_loader, \n",
    "            criterion=criterion, \n",
    "            device=device, \n",
    "            epoch=epoch, \n",
    "            calculate_dice_interval=calculate_dice_interval\n",
    "        )\n",
    "\n",
    "        \n",
    "        print(f\"Training Loss: {train_loss:.4f}, Validation Loss: {val_loss:.4f}, Validation F-beta: {overall_mean_fbeta_score:.4f}\")\n",
    "\n",
    "        if val_loss < best_val_loss and overall_mean_fbeta_score > best_val_fbeta_score:\n",
    "            best_val_loss = val_loss\n",
    "            best_val_fbeta_score = overall_mean_fbeta_score\n",
    "            epochs_no_improve = 0\n",
    "            checkpoint_path = os.path.join(checkpoint_dir, 'best_model.pt')\n",
    "            torch.save({\n",
    "                'epoch': epoch + 1,\n",
    "                'model_state_dict': model.state_dict(),\n",
    "                'optimizer_state_dict': optimizer.state_dict(),\n",
    "                'best_val_loss': best_val_loss,\n",
    "                'best_val_fbeta_score': best_val_fbeta_score\n",
    "            }, checkpoint_path)\n",
    "            print(f\"========================================================\")\n",
    "            print(f\"SUPER Best model saved. Loss:{best_val_loss:.4f}, Score:{best_val_fbeta_score:.4f}\")\n",
    "            print(f\"========================================================\")\n",
    "        \n",
    "        # Validation Loss 기준 모델 저장\n",
    "        if val_loss < best_val_loss:\n",
    "            best_val_loss = val_loss\n",
    "            epochs_no_improve = 0\n",
    "            checkpoint_path = os.path.join(checkpoint_dir, 'best_model_val_loss.pt')\n",
    "            torch.save({\n",
    "                'epoch': epoch + 1,\n",
    "                'model_state_dict': model.state_dict(),\n",
    "                'optimizer_state_dict': optimizer.state_dict(),\n",
    "                'best_val_loss': best_val_loss,\n",
    "                'best_val_fbeta_score': best_val_fbeta_score\n",
    "            }, checkpoint_path)\n",
    "            print(f\"========================================================\")\n",
    "            print(f\"Best model saved based on validation loss: {best_val_loss:.4f}\")\n",
    "            print(f\"========================================================\")\n",
    "\n",
    "        # Validation F-beta Score 기준 모델 저장\n",
    "        if overall_mean_fbeta_score > best_val_fbeta_score:\n",
    "            best_val_fbeta_score = overall_mean_fbeta_score\n",
    "            epochs_no_improve = 0\n",
    "            checkpoint_path = os.path.join(checkpoint_dir, 'best_model_val_fbeta.pt')\n",
    "            torch.save({\n",
    "                'epoch': epoch + 1,\n",
    "                'model_state_dict': model.state_dict(),\n",
    "                'optimizer_state_dict': optimizer.state_dict(),\n",
    "                'best_val_loss': best_val_loss,\n",
    "                'best_val_fbeta_score': best_val_fbeta_score\n",
    "            }, checkpoint_path)\n",
    "            print(f\"========================================================\")\n",
    "            print(f\"Best model saved based on F-beta score: {best_val_fbeta_score:.4f}\")\n",
    "            print(f\"========================================================\")\n",
    "\n",
    "        # Early stopping 조건 체크\n",
    "        if val_loss >= best_val_loss and overall_mean_fbeta_score <= best_val_fbeta_score:\n",
    "            epochs_no_improve += 1\n",
    "        else:\n",
    "            epochs_no_improve = 0\n",
    "\n",
    "        if epochs_no_improve >= patience:\n",
    "            print(\"Early stopping\")\n",
    "            checkpoint_path = os.path.join(checkpoint_dir, 'last.pt')\n",
    "            torch.save({\n",
    "                'epoch': epoch + 1,\n",
    "                'model_state_dict': model.state_dict(),\n",
    "                'optimizer_state_dict': optimizer.state_dict(),\n",
    "                'best_val_loss': best_val_loss,\n",
    "                'best_val_fbeta_score': best_val_fbeta_score\n",
    "            }, checkpoint_path)\n",
    "            break\n",
    "        if epochs_no_improve%10 == 0:\n",
    "            # 손실이 개선되지 않았으므로 lambda 감소\n",
    "            new_lamda = max(criterion.lamda - 0.01, 0.1)  # 최소값은 0.1로 설정\n",
    "            criterion.set_lamda(new_lamda)\n",
    "            print(f\"Validation loss did not improve. Reducing lambda to {new_lamda:.4f}\")\n",
    "\n",
    "\n",
    "    wandb.finish()\n"
   ]
  },
  {
   "cell_type": "code",
   "execution_count": null,
   "metadata": {},
   "outputs": [
    {
     "name": "stdout",
     "output_type": "stream",
     "text": [
      "Epoch 1/4000\n",
      "Current lambda: 0.5000\n"
     ]
    },
    {
     "name": "stderr",
     "output_type": "stream",
     "text": [
      "Training: 100%|██████████| 24/24 [00:32<00:00,  1.36s/it, loss=0.689]\n",
      "Validation: 100%|██████████| 4/4 [00:02<00:00,  1.65it/s, loss=0.704]\n"
     ]
    },
    {
     "name": "stdout",
     "output_type": "stream",
     "text": [
      "Validation Dice Score\n",
      "Class 0: 0.6532, Class 1: 0.0000, Class 2: 0.0007, Class 3: 0.0294, \n",
      "Class 4: 0.0933, Class 5: 0.0412, Class 6: 0.1531, \n",
      "Validation F-beta Score\n",
      "Class 0: 0.5009, Class 1: 0.0000, Class 2: 0.0030, Class 3: 0.1585, \n",
      "Class 4: 0.1037, Class 5: 0.1901, Class 6: 0.4182, \n",
      "Overall Mean Dice Score: 0.0634\n",
      "Overall Mean F-beta Score: 0.1741\n",
      "\n",
      "Training Loss: 0.7038, Validation Loss: 0.6954, Validation F-beta: 0.1741\n",
      "========================================================\n",
      "SUPER Best model saved. Loss:0.6954, Score:0.1741\n",
      "========================================================\n",
      "Epoch 2/4000\n",
      "Current lambda: 0.5000\n"
     ]
    },
    {
     "name": "stderr",
     "output_type": "stream",
     "text": [
      "Training: 100%|██████████| 24/24 [00:24<00:00,  1.00s/it, loss=0.689]\n",
      "Validation: 100%|██████████| 4/4 [00:02<00:00,  1.69it/s, loss=0.686]\n"
     ]
    },
    {
     "name": "stdout",
     "output_type": "stream",
     "text": [
      "Validation Dice Score\n",
      "Class 0: 0.6630, Class 1: 0.0001, Class 2: 0.0002, Class 3: 0.0047, \n",
      "Class 4: 0.1296, Class 5: 0.0789, Class 6: 0.2235, \n",
      "Validation F-beta Score\n",
      "Class 0: 0.5123, Class 1: 0.0008, Class 2: 0.0011, Class 3: 0.0192, \n",
      "Class 4: 0.1922, Class 5: 0.2830, Class 6: 0.4540, \n",
      "Overall Mean Dice Score: 0.0873\n",
      "Overall Mean F-beta Score: 0.1898\n",
      "\n",
      "Training Loss: 0.6945, Validation Loss: 0.6900, Validation F-beta: 0.1898\n",
      "========================================================\n",
      "SUPER Best model saved. Loss:0.6900, Score:0.1898\n",
      "========================================================\n",
      "Epoch 3/4000\n",
      "Current lambda: 0.5000\n"
     ]
    },
    {
     "name": "stderr",
     "output_type": "stream",
     "text": [
      "Training: 100%|██████████| 24/24 [00:23<00:00,  1.00it/s, loss=0.697]\n",
      "Validation: 100%|██████████| 4/4 [00:02<00:00,  1.70it/s, loss=0.671]\n"
     ]
    },
    {
     "name": "stdout",
     "output_type": "stream",
     "text": [
      "Validation Dice Score\n",
      "Class 0: 0.6651, Class 1: 0.0000, Class 2: 0.0010, Class 3: 0.0016, \n",
      "Class 4: 0.0715, Class 5: 0.1335, Class 6: 0.4076, \n",
      "Validation F-beta Score\n",
      "Class 0: 0.5160, Class 1: 0.0002, Class 2: 0.0038, Class 3: 0.0104, \n",
      "Class 4: 0.1047, Class 5: 0.3621, Class 6: 0.7722, \n",
      "Overall Mean Dice Score: 0.1228\n",
      "Overall Mean F-beta Score: 0.2499\n",
      "\n",
      "Training Loss: 0.6876, Validation Loss: 0.6702, Validation F-beta: 0.2499\n",
      "========================================================\n",
      "SUPER Best model saved. Loss:0.6702, Score:0.2499\n",
      "========================================================\n",
      "Epoch 4/4000\n",
      "Current lambda: 0.5000\n"
     ]
    },
    {
     "name": "stderr",
     "output_type": "stream",
     "text": [
      "Training: 100%|██████████| 24/24 [00:23<00:00,  1.01it/s, loss=0.655]\n",
      "Validation: 100%|██████████| 4/4 [00:02<00:00,  1.72it/s, loss=0.673]\n"
     ]
    },
    {
     "name": "stdout",
     "output_type": "stream",
     "text": [
      "Validation Dice Score\n",
      "Class 0: 0.6506, Class 1: 0.0005, Class 2: 0.0061, Class 3: 0.0001, \n",
      "Class 4: 0.0516, Class 5: 0.1462, Class 6: 0.4600, \n",
      "Validation F-beta Score\n",
      "Class 0: 0.4998, Class 1: 0.0040, Class 2: 0.0197, Class 3: 0.0006, \n",
      "Class 4: 0.2100, Class 5: 0.2240, Class 6: 0.5958, \n",
      "Overall Mean Dice Score: 0.1317\n",
      "Overall Mean F-beta Score: 0.2069\n",
      "\n",
      "Training Loss: 0.6788, Validation Loss: 0.6693, Validation F-beta: 0.2069\n",
      "========================================================\n",
      "Best model saved based on validation loss: 0.6693\n",
      "========================================================\n",
      "Epoch 5/4000\n",
      "Current lambda: 0.5000\n"
     ]
    },
    {
     "name": "stderr",
     "output_type": "stream",
     "text": [
      "Training: 100%|██████████| 24/24 [00:24<00:00,  1.02s/it, loss=0.687]\n",
      "Validation: 100%|██████████| 4/4 [00:02<00:00,  1.71it/s, loss=0.683]\n"
     ]
    },
    {
     "name": "stdout",
     "output_type": "stream",
     "text": [
      "Validation Dice Score\n",
      "Class 0: 0.6667, Class 1: 0.0005, Class 2: 0.0041, Class 3: 0.0015, \n",
      "Class 4: 0.3414, Class 5: 0.1685, Class 6: 0.3252, \n",
      "Validation F-beta Score\n",
      "Class 0: 0.5192, Class 1: 0.0039, Class 2: 0.0087, Class 3: 0.0096, \n",
      "Class 4: 0.4778, Class 5: 0.3417, Class 6: 0.4845, \n",
      "Overall Mean Dice Score: 0.1674\n",
      "Overall Mean F-beta Score: 0.2635\n",
      "\n",
      "Training Loss: 0.6689, Validation Loss: 0.6705, Validation F-beta: 0.2635\n",
      "========================================================\n",
      "Best model saved based on F-beta score: 0.2635\n",
      "========================================================\n",
      "Epoch 6/4000\n",
      "Current lambda: 0.5000\n"
     ]
    },
    {
     "name": "stderr",
     "output_type": "stream",
     "text": [
      "Training: 100%|██████████| 24/24 [00:23<00:00,  1.00it/s, loss=0.677]\n",
      "Validation: 100%|██████████| 4/4 [00:02<00:00,  1.75it/s, loss=0.662]\n"
     ]
    },
    {
     "name": "stdout",
     "output_type": "stream",
     "text": [
      "Validation Dice Score\n",
      "Class 0: 0.6666, Class 1: 0.0009, Class 2: 0.0249, Class 3: 0.0005, \n",
      "Class 4: 0.2442, Class 5: 0.2677, Class 6: 0.3214, \n",
      "Validation F-beta Score\n",
      "Class 0: 0.5194, Class 1: 0.0069, Class 2: 0.0539, Class 3: 0.0035, \n",
      "Class 4: 0.3872, Class 5: 0.3808, Class 6: 0.4808, \n",
      "Overall Mean Dice Score: 0.1669\n",
      "Overall Mean F-beta Score: 0.2518\n",
      "\n",
      "Training Loss: 0.6716, Validation Loss: 0.6548, Validation F-beta: 0.2518\n",
      "========================================================\n",
      "Best model saved based on validation loss: 0.6548\n",
      "========================================================\n",
      "Epoch 7/4000\n",
      "Current lambda: 0.5000\n"
     ]
    },
    {
     "name": "stderr",
     "output_type": "stream",
     "text": [
      "Training: 100%|██████████| 24/24 [00:23<00:00,  1.01it/s, loss=0.654]\n",
      "Validation: 100%|██████████| 4/4 [00:02<00:00,  1.71it/s, loss=0.692]\n"
     ]
    },
    {
     "name": "stdout",
     "output_type": "stream",
     "text": [
      "Validation Dice Score\n",
      "Class 0: 0.6791, Class 1: 0.0000, Class 2: 0.0337, Class 3: 0.0006, \n",
      "Class 4: 0.1807, Class 5: 0.2296, Class 6: 0.2901, \n",
      "Validation F-beta Score\n",
      "Class 0: 0.5334, Class 1: 0.0003, Class 2: 0.0442, Class 3: 0.0040, \n",
      "Class 4: 0.3164, Class 5: 0.3551, Class 6: 0.4409, \n",
      "Overall Mean Dice Score: 0.1402\n",
      "Overall Mean F-beta Score: 0.2234\n",
      "\n",
      "Training Loss: 0.6602, Validation Loss: 0.6646, Validation F-beta: 0.2234\n",
      "Epoch 8/4000\n",
      "Current lambda: 0.5000\n"
     ]
    },
    {
     "name": "stderr",
     "output_type": "stream",
     "text": [
      "Training: 100%|██████████| 24/24 [00:23<00:00,  1.00it/s, loss=0.688]\n",
      "Validation: 100%|██████████| 4/4 [00:02<00:00,  1.70it/s, loss=0.673]\n"
     ]
    },
    {
     "name": "stdout",
     "output_type": "stream",
     "text": [
      "Validation Dice Score\n",
      "Class 0: 0.6828, Class 1: 0.0005, Class 2: 0.0344, Class 3: 0.0009, \n",
      "Class 4: 0.1803, Class 5: 0.3116, Class 6: 0.3628, \n",
      "Validation F-beta Score\n",
      "Class 0: 0.5379, Class 1: 0.0034, Class 2: 0.0413, Class 3: 0.0062, \n",
      "Class 4: 0.2696, Class 5: 0.4036, Class 6: 0.5582, \n",
      "Overall Mean Dice Score: 0.1712\n",
      "Overall Mean F-beta Score: 0.2482\n",
      "\n",
      "Training Loss: 0.6677, Validation Loss: 0.6540, Validation F-beta: 0.2482\n",
      "========================================================\n",
      "Best model saved based on validation loss: 0.6540\n",
      "========================================================\n",
      "Epoch 9/4000\n",
      "Current lambda: 0.5000\n"
     ]
    },
    {
     "name": "stderr",
     "output_type": "stream",
     "text": [
      "Training: 100%|██████████| 24/24 [00:23<00:00,  1.02it/s, loss=0.683]\n",
      "Validation: 100%|██████████| 4/4 [00:02<00:00,  1.76it/s, loss=0.678]\n"
     ]
    },
    {
     "name": "stdout",
     "output_type": "stream",
     "text": [
      "Validation Dice Score\n",
      "Class 0: 0.6964, Class 1: 0.0004, Class 2: 0.0000, Class 3: 0.0004, \n",
      "Class 4: 0.3433, Class 5: 0.2419, Class 6: 0.2682, \n",
      "Validation F-beta Score\n",
      "Class 0: 0.5535, Class 1: 0.0028, Class 2: 0.0000, Class 3: 0.0028, \n",
      "Class 4: 0.4009, Class 5: 0.3831, Class 6: 0.5853, \n",
      "Overall Mean Dice Score: 0.1708\n",
      "Overall Mean F-beta Score: 0.2750\n",
      "\n",
      "Training Loss: 0.6628, Validation Loss: 0.6602, Validation F-beta: 0.2750\n",
      "========================================================\n",
      "Best model saved based on F-beta score: 0.2750\n",
      "========================================================\n",
      "Epoch 10/4000\n",
      "Current lambda: 0.5000\n"
     ]
    },
    {
     "name": "stderr",
     "output_type": "stream",
     "text": [
      "Training: 100%|██████████| 24/24 [00:23<00:00,  1.01it/s, loss=0.639]\n",
      "Validation: 100%|██████████| 4/4 [00:02<00:00,  1.71it/s, loss=0.648]\n"
     ]
    },
    {
     "name": "stdout",
     "output_type": "stream",
     "text": [
      "Validation Dice Score\n",
      "Class 0: 0.7041, Class 1: 0.0013, Class 2: 0.0079, Class 3: 0.0009, \n",
      "Class 4: 0.2641, Class 5: 0.1319, Class 6: 0.3966, \n",
      "Validation F-beta Score\n",
      "Class 0: 0.5624, Class 1: 0.0094, Class 2: 0.0119, Class 3: 0.0063, \n",
      "Class 4: 0.3373, Class 5: 0.2171, Class 6: 0.6638, \n",
      "Overall Mean Dice Score: 0.1589\n",
      "Overall Mean F-beta Score: 0.2468\n",
      "\n",
      "Training Loss: 0.6605, Validation Loss: 0.6600, Validation F-beta: 0.2468\n",
      "Epoch 11/4000\n",
      "Current lambda: 0.5000\n"
     ]
    },
    {
     "name": "stderr",
     "output_type": "stream",
     "text": [
      "Training: 100%|██████████| 24/24 [00:24<00:00,  1.02s/it, loss=0.657]\n",
      "Validation: 100%|██████████| 4/4 [00:02<00:00,  1.70it/s, loss=0.623]\n"
     ]
    },
    {
     "name": "stdout",
     "output_type": "stream",
     "text": [
      "Validation Dice Score\n",
      "Class 0: 0.7111, Class 1: 0.0018, Class 2: 0.0196, Class 3: 0.0005, \n",
      "Class 4: 0.2855, Class 5: 0.4043, Class 6: 0.4780, \n",
      "Validation F-beta Score\n",
      "Class 0: 0.5717, Class 1: 0.0128, Class 2: 0.0415, Class 3: 0.0040, \n",
      "Class 4: 0.4676, Class 5: 0.4838, Class 6: 0.5229, \n",
      "Overall Mean Dice Score: 0.2340\n",
      "Overall Mean F-beta Score: 0.2982\n",
      "\n",
      "Training Loss: 0.6628, Validation Loss: 0.6282, Validation F-beta: 0.2982\n",
      "========================================================\n",
      "SUPER Best model saved. Loss:0.6282, Score:0.2982\n",
      "========================================================\n",
      "Epoch 12/4000\n",
      "Current lambda: 0.5000\n"
     ]
    },
    {
     "name": "stderr",
     "output_type": "stream",
     "text": [
      "Training: 100%|██████████| 24/24 [00:24<00:00,  1.02s/it, loss=0.659]\n",
      "Validation: 100%|██████████| 4/4 [00:02<00:00,  1.60it/s, loss=0.667]\n"
     ]
    },
    {
     "name": "stdout",
     "output_type": "stream",
     "text": [
      "Validation Dice Score\n",
      "Class 0: 0.7277, Class 1: 0.0018, Class 2: 0.0339, Class 3: 0.0003, \n",
      "Class 4: 0.2015, Class 5: 0.3152, Class 6: 0.3766, \n",
      "Validation F-beta Score\n",
      "Class 0: 0.5901, Class 1: 0.0122, Class 2: 0.0704, Class 3: 0.0025, \n",
      "Class 4: 0.3370, Class 5: 0.4065, Class 6: 0.6263, \n",
      "Overall Mean Dice Score: 0.1791\n",
      "Overall Mean F-beta Score: 0.2769\n",
      "\n",
      "Training Loss: 0.6574, Validation Loss: 0.6452, Validation F-beta: 0.2769\n",
      "Epoch 13/4000\n",
      "Current lambda: 0.5000\n"
     ]
    },
    {
     "name": "stderr",
     "output_type": "stream",
     "text": [
      "Training: 100%|██████████| 24/24 [00:24<00:00,  1.00s/it, loss=0.675]\n",
      "Validation: 100%|██████████| 4/4 [00:02<00:00,  1.70it/s, loss=0.618]\n"
     ]
    },
    {
     "name": "stdout",
     "output_type": "stream",
     "text": [
      "Validation Dice Score\n",
      "Class 0: 0.7301, Class 1: 0.0022, Class 2: 0.0178, Class 3: 0.0007, \n",
      "Class 4: 0.1657, Class 5: 0.2732, Class 6: 0.6197, \n",
      "Validation F-beta Score\n",
      "Class 0: 0.5940, Class 1: 0.0156, Class 2: 0.0208, Class 3: 0.0051, \n",
      "Class 4: 0.3663, Class 5: 0.4062, Class 6: 0.7114, \n",
      "Overall Mean Dice Score: 0.2123\n",
      "Overall Mean F-beta Score: 0.3009\n",
      "\n",
      "Training Loss: 0.6502, Validation Loss: 0.6403, Validation F-beta: 0.3009\n",
      "========================================================\n",
      "Best model saved based on F-beta score: 0.3009\n",
      "========================================================\n",
      "Epoch 14/4000\n",
      "Current lambda: 0.5000\n"
     ]
    },
    {
     "name": "stderr",
     "output_type": "stream",
     "text": [
      "Training: 100%|██████████| 24/24 [00:23<00:00,  1.01it/s, loss=0.67] \n",
      "Validation: 100%|██████████| 4/4 [00:02<00:00,  1.72it/s, loss=0.647]\n"
     ]
    },
    {
     "name": "stdout",
     "output_type": "stream",
     "text": [
      "Validation Dice Score\n",
      "Class 0: 0.7359, Class 1: 0.0021, Class 2: 0.0082, Class 3: 0.0014, \n",
      "Class 4: 0.2313, Class 5: 0.3409, Class 6: 0.2151, \n",
      "Validation F-beta Score\n",
      "Class 0: 0.6016, Class 1: 0.0138, Class 2: 0.0095, Class 3: 0.0100, \n",
      "Class 4: 0.2278, Class 5: 0.4738, Class 6: 0.5276, \n",
      "Overall Mean Dice Score: 0.1582\n",
      "Overall Mean F-beta Score: 0.2506\n",
      "\n",
      "Training Loss: 0.6529, Validation Loss: 0.6503, Validation F-beta: 0.2506\n",
      "Epoch 15/4000\n",
      "Current lambda: 0.5000\n"
     ]
    },
    {
     "name": "stderr",
     "output_type": "stream",
     "text": [
      "Training: 100%|██████████| 24/24 [00:23<00:00,  1.01it/s, loss=0.654]\n",
      "Validation: 100%|██████████| 4/4 [00:02<00:00,  1.72it/s, loss=0.638]\n"
     ]
    },
    {
     "name": "stdout",
     "output_type": "stream",
     "text": [
      "Validation Dice Score\n",
      "Class 0: 0.7525, Class 1: 0.0096, Class 2: 0.0070, Class 3: 0.0008, \n",
      "Class 4: 0.3222, Class 5: 0.2259, Class 6: 0.2015, \n",
      "Validation F-beta Score\n",
      "Class 0: 0.6238, Class 1: 0.0419, Class 2: 0.0118, Class 3: 0.0061, \n",
      "Class 4: 0.3487, Class 5: 0.3073, Class 6: 0.3522, \n",
      "Overall Mean Dice Score: 0.1520\n",
      "Overall Mean F-beta Score: 0.2113\n",
      "\n",
      "Training Loss: 0.6570, Validation Loss: 0.6525, Validation F-beta: 0.2113\n",
      "Epoch 16/4000\n",
      "Current lambda: 0.5000\n"
     ]
    },
    {
     "name": "stderr",
     "output_type": "stream",
     "text": [
      "Training: 100%|██████████| 24/24 [00:23<00:00,  1.02it/s, loss=0.607]\n",
      "Validation: 100%|██████████| 4/4 [00:02<00:00,  1.71it/s, loss=0.668]\n"
     ]
    },
    {
     "name": "stdout",
     "output_type": "stream",
     "text": [
      "Validation Dice Score\n",
      "Class 0: 0.7478, Class 1: 0.0076, Class 2: 0.0163, Class 3: 0.0010, \n",
      "Class 4: 0.2696, Class 5: 0.2773, Class 6: 0.5182, \n",
      "Validation F-beta Score\n",
      "Class 0: 0.6174, Class 1: 0.0396, Class 2: 0.0232, Class 3: 0.0073, \n",
      "Class 4: 0.4036, Class 5: 0.4968, Class 6: 0.5631, \n",
      "Overall Mean Dice Score: 0.2147\n",
      "Overall Mean F-beta Score: 0.3021\n",
      "\n",
      "Training Loss: 0.6535, Validation Loss: 0.6415, Validation F-beta: 0.3021\n",
      "========================================================\n",
      "Best model saved based on F-beta score: 0.3021\n",
      "========================================================\n",
      "Epoch 17/4000\n",
      "Current lambda: 0.5000\n"
     ]
    },
    {
     "name": "stderr",
     "output_type": "stream",
     "text": [
      "Training: 100%|██████████| 24/24 [00:23<00:00,  1.00it/s, loss=0.681]\n",
      "Validation: 100%|██████████| 4/4 [00:02<00:00,  1.76it/s, loss=0.643]\n"
     ]
    },
    {
     "name": "stdout",
     "output_type": "stream",
     "text": [
      "Validation Dice Score\n",
      "Class 0: 0.7481, Class 1: 0.0028, Class 2: 0.0104, Class 3: 0.0009, \n",
      "Class 4: 0.2245, Class 5: 0.2809, Class 6: 0.3965, \n",
      "Validation F-beta Score\n",
      "Class 0: 0.6162, Class 1: 0.0146, Class 2: 0.0237, Class 3: 0.0065, \n",
      "Class 4: 0.3894, Class 5: 0.3492, Class 6: 0.4049, \n",
      "Overall Mean Dice Score: 0.1811\n",
      "Overall Mean F-beta Score: 0.2329\n",
      "\n",
      "Training Loss: 0.6542, Validation Loss: 0.6368, Validation F-beta: 0.2329\n",
      "Epoch 18/4000\n",
      "Current lambda: 0.5000\n"
     ]
    },
    {
     "name": "stderr",
     "output_type": "stream",
     "text": [
      "Training: 100%|██████████| 24/24 [00:23<00:00,  1.01it/s, loss=0.654]\n",
      "Validation: 100%|██████████| 4/4 [00:02<00:00,  1.67it/s, loss=0.649]\n"
     ]
    },
    {
     "name": "stdout",
     "output_type": "stream",
     "text": [
      "Validation Dice Score\n",
      "Class 0: 0.7508, Class 1: 0.0174, Class 2: 0.0082, Class 3: 0.0000, \n",
      "Class 4: 0.1845, Class 5: 0.3752, Class 6: 0.5556, \n",
      "Validation F-beta Score\n",
      "Class 0: 0.6206, Class 1: 0.0435, Class 2: 0.0112, Class 3: 0.0003, \n",
      "Class 4: 0.4553, Class 5: 0.3905, Class 6: 0.5735, \n",
      "Overall Mean Dice Score: 0.2265\n",
      "Overall Mean F-beta Score: 0.2926\n",
      "\n",
      "Training Loss: 0.6485, Validation Loss: 0.6468, Validation F-beta: 0.2926\n",
      "Epoch 19/4000\n",
      "Current lambda: 0.5000\n"
     ]
    },
    {
     "name": "stderr",
     "output_type": "stream",
     "text": [
      "Training: 100%|██████████| 24/24 [00:23<00:00,  1.01it/s, loss=0.646]\n",
      "Validation: 100%|██████████| 4/4 [00:02<00:00,  1.69it/s, loss=0.623]\n"
     ]
    },
    {
     "name": "stdout",
     "output_type": "stream",
     "text": [
      "Validation Dice Score\n",
      "Class 0: 0.7312, Class 1: 0.0157, Class 2: 0.0346, Class 3: 0.0003, \n",
      "Class 4: 0.3069, Class 5: 0.4050, Class 6: 0.5194, \n",
      "Validation F-beta Score\n",
      "Class 0: 0.5953, Class 1: 0.0664, Class 2: 0.0555, Class 3: 0.0023, \n",
      "Class 4: 0.5242, Class 5: 0.4716, Class 6: 0.7297, \n",
      "Overall Mean Dice Score: 0.2495\n",
      "Overall Mean F-beta Score: 0.3588\n",
      "\n",
      "Training Loss: 0.6507, Validation Loss: 0.6252, Validation F-beta: 0.3588\n",
      "========================================================\n",
      "SUPER Best model saved. Loss:0.6252, Score:0.3588\n",
      "========================================================\n",
      "Epoch 20/4000\n",
      "Current lambda: 0.5000\n"
     ]
    },
    {
     "name": "stderr",
     "output_type": "stream",
     "text": [
      "Training: 100%|██████████| 24/24 [00:23<00:00,  1.01it/s, loss=0.634]\n",
      "Validation: 100%|██████████| 4/4 [00:02<00:00,  1.77it/s, loss=0.636]\n"
     ]
    },
    {
     "name": "stdout",
     "output_type": "stream",
     "text": [
      "Validation Dice Score\n",
      "Class 0: 0.7479, Class 1: 0.0109, Class 2: 0.0144, Class 3: 0.0006, \n",
      "Class 4: 0.3320, Class 5: 0.4430, Class 6: 0.3156, \n",
      "Validation F-beta Score\n",
      "Class 0: 0.6168, Class 1: 0.0330, Class 2: 0.0399, Class 3: 0.0049, \n",
      "Class 4: 0.3446, Class 5: 0.4992, Class 6: 0.4935, \n",
      "Overall Mean Dice Score: 0.2204\n",
      "Overall Mean F-beta Score: 0.2750\n",
      "\n",
      "Training Loss: 0.6564, Validation Loss: 0.6352, Validation F-beta: 0.2750\n",
      "Epoch 21/4000\n",
      "Current lambda: 0.5000\n"
     ]
    },
    {
     "name": "stderr",
     "output_type": "stream",
     "text": [
      "Training: 100%|██████████| 24/24 [00:23<00:00,  1.02it/s, loss=0.633]\n",
      "Validation: 100%|██████████| 4/4 [00:02<00:00,  1.69it/s, loss=0.632]\n"
     ]
    },
    {
     "name": "stdout",
     "output_type": "stream",
     "text": [
      "Validation Dice Score\n",
      "Class 0: 0.7332, Class 1: 0.0293, Class 2: 0.0213, Class 3: 0.0002, \n",
      "Class 4: 0.1642, Class 5: 0.3664, Class 6: 0.6532, \n",
      "Validation F-beta Score\n",
      "Class 0: 0.5984, Class 1: 0.0598, Class 2: 0.0390, Class 3: 0.0014, \n",
      "Class 4: 0.3665, Class 5: 0.4704, Class 6: 0.7286, \n",
      "Overall Mean Dice Score: 0.2427\n",
      "Overall Mean F-beta Score: 0.3253\n",
      "\n",
      "Training Loss: 0.6514, Validation Loss: 0.6273, Validation F-beta: 0.3253\n",
      "Epoch 22/4000\n",
      "Current lambda: 0.5000\n"
     ]
    },
    {
     "name": "stderr",
     "output_type": "stream",
     "text": [
      "Training: 100%|██████████| 24/24 [00:23<00:00,  1.00it/s, loss=0.665]\n",
      "Validation: 100%|██████████| 4/4 [00:02<00:00,  1.67it/s, loss=0.676]\n"
     ]
    },
    {
     "name": "stdout",
     "output_type": "stream",
     "text": [
      "Validation Dice Score\n",
      "Class 0: 0.7221, Class 1: 0.0053, Class 2: 0.0190, Class 3: 0.0002, \n",
      "Class 4: 0.3487, Class 5: 0.2672, Class 6: 0.3260, \n",
      "Validation F-beta Score\n",
      "Class 0: 0.5858, Class 1: 0.0148, Class 2: 0.0576, Class 3: 0.0017, \n",
      "Class 4: 0.4346, Class 5: 0.3673, Class 6: 0.4179, \n",
      "Overall Mean Dice Score: 0.1895\n",
      "Overall Mean F-beta Score: 0.2473\n",
      "\n",
      "Training Loss: 0.6475, Validation Loss: 0.6556, Validation F-beta: 0.2473\n",
      "Epoch 23/4000\n",
      "Current lambda: 0.5000\n"
     ]
    },
    {
     "name": "stderr",
     "output_type": "stream",
     "text": [
      "Training: 100%|██████████| 24/24 [00:23<00:00,  1.01it/s, loss=0.652]\n",
      "Validation: 100%|██████████| 4/4 [00:02<00:00,  1.72it/s, loss=0.65] \n"
     ]
    },
    {
     "name": "stdout",
     "output_type": "stream",
     "text": [
      "Validation Dice Score\n",
      "Class 0: 0.7268, Class 1: 0.0159, Class 2: 0.0248, Class 3: 0.0004, \n",
      "Class 4: 0.2450, Class 5: 0.3728, Class 6: 0.6740, \n",
      "Validation F-beta Score\n",
      "Class 0: 0.5883, Class 1: 0.0548, Class 2: 0.0755, Class 3: 0.0034, \n",
      "Class 4: 0.3971, Class 5: 0.5781, Class 6: 0.7997, \n",
      "Overall Mean Dice Score: 0.2616\n",
      "Overall Mean F-beta Score: 0.3666\n",
      "\n",
      "Training Loss: 0.6449, Validation Loss: 0.6357, Validation F-beta: 0.3666\n",
      "========================================================\n",
      "Best model saved based on F-beta score: 0.3666\n",
      "========================================================\n",
      "Epoch 24/4000\n",
      "Current lambda: 0.5000\n"
     ]
    },
    {
     "name": "stderr",
     "output_type": "stream",
     "text": [
      "Training: 100%|██████████| 24/24 [00:23<00:00,  1.00it/s, loss=0.612]\n",
      "Validation: 100%|██████████| 4/4 [00:02<00:00,  1.73it/s, loss=0.602]\n"
     ]
    },
    {
     "name": "stdout",
     "output_type": "stream",
     "text": [
      "Validation Dice Score\n",
      "Class 0: 0.7090, Class 1: 0.0127, Class 2: 0.0172, Class 3: 0.0010, \n",
      "Class 4: 0.3206, Class 5: 0.3595, Class 6: 0.4636, \n",
      "Validation F-beta Score\n",
      "Class 0: 0.5681, Class 1: 0.0399, Class 2: 0.0577, Class 3: 0.0077, \n",
      "Class 4: 0.3519, Class 5: 0.4478, Class 6: 0.5861, \n",
      "Overall Mean Dice Score: 0.2315\n",
      "Overall Mean F-beta Score: 0.2867\n",
      "\n",
      "Training Loss: 0.6393, Validation Loss: 0.6355, Validation F-beta: 0.2867\n",
      "Epoch 25/4000\n",
      "Current lambda: 0.5000\n"
     ]
    },
    {
     "name": "stderr",
     "output_type": "stream",
     "text": [
      "Training: 100%|██████████| 24/24 [00:24<00:00,  1.00s/it, loss=0.658]\n",
      "Validation: 100%|██████████| 4/4 [00:02<00:00,  1.72it/s, loss=0.659]\n"
     ]
    },
    {
     "name": "stdout",
     "output_type": "stream",
     "text": [
      "Validation Dice Score\n",
      "Class 0: 0.6995, Class 1: 0.0213, Class 2: 0.0174, Class 3: 0.0009, \n",
      "Class 4: 0.1597, Class 5: 0.2758, Class 6: 0.4651, \n",
      "Validation F-beta Score\n",
      "Class 0: 0.5575, Class 1: 0.0651, Class 2: 0.0563, Class 3: 0.0069, \n",
      "Class 4: 0.2776, Class 5: 0.4109, Class 6: 0.5620, \n",
      "Overall Mean Dice Score: 0.1846\n",
      "Overall Mean F-beta Score: 0.2645\n",
      "\n",
      "Training Loss: 0.6493, Validation Loss: 0.6567, Validation F-beta: 0.2645\n",
      "Epoch 26/4000\n",
      "Current lambda: 0.5000\n"
     ]
    },
    {
     "name": "stderr",
     "output_type": "stream",
     "text": [
      "Training: 100%|██████████| 24/24 [00:23<00:00,  1.01it/s, loss=0.639]\n",
      "Validation: 100%|██████████| 4/4 [00:02<00:00,  1.67it/s, loss=0.665]\n"
     ]
    },
    {
     "name": "stdout",
     "output_type": "stream",
     "text": [
      "Validation Dice Score\n",
      "Class 0: 0.6957, Class 1: 0.0259, Class 2: 0.0047, Class 3: 0.0010, \n",
      "Class 4: 0.3509, Class 5: 0.3455, Class 6: 0.5897, \n",
      "Validation F-beta Score\n",
      "Class 0: 0.5519, Class 1: 0.0714, Class 2: 0.0190, Class 3: 0.0077, \n",
      "Class 4: 0.4212, Class 5: 0.5125, Class 6: 0.6226, \n",
      "Overall Mean Dice Score: 0.2626\n",
      "Overall Mean F-beta Score: 0.3271\n",
      "\n",
      "Training Loss: 0.6493, Validation Loss: 0.6269, Validation F-beta: 0.3271\n",
      "Epoch 27/4000\n",
      "Current lambda: 0.5000\n"
     ]
    },
    {
     "name": "stderr",
     "output_type": "stream",
     "text": [
      "Training: 100%|██████████| 24/24 [00:23<00:00,  1.01it/s, loss=0.651]\n",
      "Validation: 100%|██████████| 4/4 [00:02<00:00,  1.71it/s, loss=0.663]\n"
     ]
    },
    {
     "name": "stdout",
     "output_type": "stream",
     "text": [
      "Validation Dice Score\n",
      "Class 0: 0.6813, Class 1: 0.0416, Class 2: 0.0069, Class 3: 0.0007, \n",
      "Class 4: 0.2286, Class 5: 0.3382, Class 6: 0.4864, \n",
      "Validation F-beta Score\n",
      "Class 0: 0.5349, Class 1: 0.1602, Class 2: 0.0238, Class 3: 0.0054, \n",
      "Class 4: 0.3003, Class 5: 0.4540, Class 6: 0.7786, \n",
      "Overall Mean Dice Score: 0.2191\n",
      "Overall Mean F-beta Score: 0.3397\n",
      "\n",
      "Training Loss: 0.6502, Validation Loss: 0.6316, Validation F-beta: 0.3397\n",
      "Validation loss did not improve. Reducing lambda to 0.4500\n",
      "Epoch 28/4000\n",
      "Current lambda: 0.4500\n"
     ]
    },
    {
     "name": "stderr",
     "output_type": "stream",
     "text": [
      "Training: 100%|██████████| 24/24 [00:23<00:00,  1.00it/s, loss=0.625]\n",
      "Validation: 100%|██████████| 4/4 [00:02<00:00,  1.70it/s, loss=0.672]\n"
     ]
    },
    {
     "name": "stdout",
     "output_type": "stream",
     "text": [
      "Validation Dice Score\n",
      "Class 0: 0.6821, Class 1: 0.0178, Class 2: 0.0226, Class 3: 0.0008, \n",
      "Class 4: 0.3483, Class 5: 0.3401, Class 6: 0.5795, \n",
      "Validation F-beta Score\n",
      "Class 0: 0.5360, Class 1: 0.0686, Class 2: 0.0835, Class 3: 0.0061, \n",
      "Class 4: 0.4600, Class 5: 0.4848, Class 6: 0.7835, \n",
      "Overall Mean Dice Score: 0.2573\n",
      "Overall Mean F-beta Score: 0.3606\n",
      "\n",
      "Training Loss: 0.6487, Validation Loss: 0.6314, Validation F-beta: 0.3606\n",
      "Epoch 29/4000\n",
      "Current lambda: 0.4500\n"
     ]
    },
    {
     "name": "stderr",
     "output_type": "stream",
     "text": [
      "Training: 100%|██████████| 24/24 [00:23<00:00,  1.02it/s, loss=0.64] \n",
      "Validation: 100%|██████████| 4/4 [00:02<00:00,  1.73it/s, loss=0.68] \n"
     ]
    },
    {
     "name": "stdout",
     "output_type": "stream",
     "text": [
      "Validation Dice Score\n",
      "Class 0: 0.6741, Class 1: 0.0218, Class 2: 0.0429, Class 3: 0.0005, \n",
      "Class 4: 0.2325, Class 5: 0.2526, Class 6: 0.5827, \n",
      "Validation F-beta Score\n",
      "Class 0: 0.5271, Class 1: 0.0949, Class 2: 0.1061, Class 3: 0.0035, \n",
      "Class 4: 0.2696, Class 5: 0.4234, Class 6: 0.6971, \n",
      "Overall Mean Dice Score: 0.2180\n",
      "Overall Mean F-beta Score: 0.2977\n",
      "\n",
      "Training Loss: 0.6506, Validation Loss: 0.6507, Validation F-beta: 0.2977\n",
      "Epoch 30/4000\n",
      "Current lambda: 0.4500\n"
     ]
    },
    {
     "name": "stderr",
     "output_type": "stream",
     "text": [
      "Training: 100%|██████████| 24/24 [00:23<00:00,  1.00it/s, loss=0.634]\n",
      "Validation: 100%|██████████| 4/4 [00:02<00:00,  1.69it/s, loss=0.637]\n"
     ]
    },
    {
     "name": "stdout",
     "output_type": "stream",
     "text": [
      "Validation Dice Score\n",
      "Class 0: 0.6818, Class 1: 0.0124, Class 2: 0.0552, Class 3: 0.0011, \n",
      "Class 4: 0.1802, Class 5: 0.4181, Class 6: 0.4150, \n",
      "Validation F-beta Score\n",
      "Class 0: 0.5361, Class 1: 0.0641, Class 2: 0.1404, Class 3: 0.0085, \n",
      "Class 4: 0.2709, Class 5: 0.4272, Class 6: 0.5917, \n",
      "Overall Mean Dice Score: 0.2054\n",
      "Overall Mean F-beta Score: 0.2725\n",
      "\n",
      "Training Loss: 0.6394, Validation Loss: 0.6367, Validation F-beta: 0.2725\n",
      "Epoch 31/4000\n",
      "Current lambda: 0.4500\n"
     ]
    },
    {
     "name": "stderr",
     "output_type": "stream",
     "text": [
      "Training: 100%|██████████| 24/24 [00:23<00:00,  1.03it/s, loss=0.625]\n",
      "Validation: 100%|██████████| 4/4 [00:02<00:00,  1.66it/s, loss=0.626]\n"
     ]
    },
    {
     "name": "stdout",
     "output_type": "stream",
     "text": [
      "Validation Dice Score\n",
      "Class 0: 0.6736, Class 1: 0.0195, Class 2: 0.0153, Class 3: 0.0005, \n",
      "Class 4: 0.4152, Class 5: 0.2401, Class 6: 0.5073, \n",
      "Validation F-beta Score\n",
      "Class 0: 0.5264, Class 1: 0.0842, Class 2: 0.0497, Class 3: 0.0034, \n",
      "Class 4: 0.5048, Class 5: 0.2760, Class 6: 0.4347, \n",
      "Overall Mean Dice Score: 0.2365\n",
      "Overall Mean F-beta Score: 0.2606\n",
      "\n",
      "Training Loss: 0.6423, Validation Loss: 0.6399, Validation F-beta: 0.2606\n",
      "Epoch 32/4000\n",
      "Current lambda: 0.4500\n"
     ]
    },
    {
     "name": "stderr",
     "output_type": "stream",
     "text": [
      "Training: 100%|██████████| 24/24 [00:23<00:00,  1.01it/s, loss=0.618]\n",
      "Validation: 100%|██████████| 4/4 [00:02<00:00,  1.74it/s, loss=0.646]\n"
     ]
    },
    {
     "name": "stdout",
     "output_type": "stream",
     "text": [
      "Validation Dice Score\n",
      "Class 0: 0.6615, Class 1: 0.0161, Class 2: 0.0633, Class 3: 0.0004, \n",
      "Class 4: 0.1609, Class 5: 0.4303, Class 6: 0.5102, \n",
      "Validation F-beta Score\n",
      "Class 0: 0.5133, Class 1: 0.0577, Class 2: 0.1498, Class 3: 0.0029, \n",
      "Class 4: 0.2992, Class 5: 0.5663, Class 6: 0.6666, \n",
      "Overall Mean Dice Score: 0.2236\n",
      "Overall Mean F-beta Score: 0.3185\n",
      "\n",
      "Training Loss: 0.6551, Validation Loss: 0.6295, Validation F-beta: 0.3185\n",
      "Validation loss did not improve. Reducing lambda to 0.4000\n",
      "Epoch 33/4000\n",
      "Current lambda: 0.4000\n"
     ]
    },
    {
     "name": "stderr",
     "output_type": "stream",
     "text": [
      "Training: 100%|██████████| 24/24 [00:23<00:00,  1.02it/s, loss=0.619]\n",
      "Validation: 100%|██████████| 4/4 [00:02<00:00,  1.70it/s, loss=0.65] \n"
     ]
    },
    {
     "name": "stdout",
     "output_type": "stream",
     "text": [
      "Validation Dice Score\n",
      "Class 0: 0.6727, Class 1: 0.0415, Class 2: 0.0829, Class 3: 0.0007, \n",
      "Class 4: 0.2381, Class 5: 0.2510, Class 6: 0.4982, \n",
      "Validation F-beta Score\n",
      "Class 0: 0.5256, Class 1: 0.1543, Class 2: 0.1269, Class 3: 0.0056, \n",
      "Class 4: 0.3626, Class 5: 0.2984, Class 6: 0.5892, \n",
      "Overall Mean Dice Score: 0.2059\n",
      "Overall Mean F-beta Score: 0.2820\n",
      "\n",
      "Training Loss: 0.6498, Validation Loss: 0.6384, Validation F-beta: 0.2820\n",
      "Epoch 34/4000\n",
      "Current lambda: 0.4000\n"
     ]
    },
    {
     "name": "stderr",
     "output_type": "stream",
     "text": [
      "Training: 100%|██████████| 24/24 [00:23<00:00,  1.01it/s, loss=0.619]\n",
      "Validation: 100%|██████████| 4/4 [00:02<00:00,  1.70it/s, loss=0.687]\n"
     ]
    },
    {
     "name": "stdout",
     "output_type": "stream",
     "text": [
      "Validation Dice Score\n",
      "Class 0: 0.6616, Class 1: 0.0296, Class 2: 0.0700, Class 3: 0.0002, \n",
      "Class 4: 0.3181, Class 5: 0.2165, Class 6: 0.4566, \n",
      "Validation F-beta Score\n",
      "Class 0: 0.5141, Class 1: 0.1256, Class 2: 0.1719, Class 3: 0.0017, \n",
      "Class 4: 0.3312, Class 5: 0.2711, Class 6: 0.6084, \n",
      "Overall Mean Dice Score: 0.2042\n",
      "Overall Mean F-beta Score: 0.2676\n",
      "\n",
      "Training Loss: 0.6376, Validation Loss: 0.6516, Validation F-beta: 0.2676\n",
      "Epoch 35/4000\n",
      "Current lambda: 0.4000\n"
     ]
    },
    {
     "name": "stderr",
     "output_type": "stream",
     "text": [
      "Training: 100%|██████████| 24/24 [00:23<00:00,  1.02it/s, loss=0.619]\n",
      "Validation: 100%|██████████| 4/4 [00:02<00:00,  1.75it/s, loss=0.681]\n"
     ]
    },
    {
     "name": "stdout",
     "output_type": "stream",
     "text": [
      "Validation Dice Score\n",
      "Class 0: 0.6757, Class 1: 0.0410, Class 2: 0.0395, Class 3: 0.0007, \n",
      "Class 4: 0.2309, Class 5: 0.1928, Class 6: 0.5421, \n",
      "Validation F-beta Score\n",
      "Class 0: 0.5290, Class 1: 0.1416, Class 2: 0.0802, Class 3: 0.0052, \n",
      "Class 4: 0.2149, Class 5: 0.2958, Class 6: 0.5491, \n",
      "Overall Mean Dice Score: 0.2015\n",
      "Overall Mean F-beta Score: 0.2413\n",
      "\n",
      "Training Loss: 0.6421, Validation Loss: 0.6689, Validation F-beta: 0.2413\n",
      "Epoch 36/4000\n",
      "Current lambda: 0.4000\n"
     ]
    },
    {
     "name": "stderr",
     "output_type": "stream",
     "text": [
      "Training: 100%|██████████| 24/24 [00:23<00:00,  1.01it/s, loss=0.616]\n",
      "Validation: 100%|██████████| 4/4 [00:02<00:00,  1.71it/s, loss=0.632]\n"
     ]
    },
    {
     "name": "stdout",
     "output_type": "stream",
     "text": [
      "Validation Dice Score\n",
      "Class 0: 0.6622, Class 1: 0.0331, Class 2: 0.0369, Class 3: 0.0010, \n",
      "Class 4: 0.2644, Class 5: 0.2783, Class 6: 0.7171, \n",
      "Validation F-beta Score\n",
      "Class 0: 0.5136, Class 1: 0.1064, Class 2: 0.0660, Class 3: 0.0079, \n",
      "Class 4: 0.3266, Class 5: 0.3159, Class 6: 0.8335, \n",
      "Overall Mean Dice Score: 0.2588\n",
      "Overall Mean F-beta Score: 0.3181\n",
      "\n",
      "Training Loss: 0.6425, Validation Loss: 0.6367, Validation F-beta: 0.3181\n",
      "Epoch 37/4000\n",
      "Current lambda: 0.4000\n"
     ]
    },
    {
     "name": "stderr",
     "output_type": "stream",
     "text": [
      "Training: 100%|██████████| 24/24 [00:23<00:00,  1.03it/s, loss=0.633]\n",
      "Validation: 100%|██████████| 4/4 [00:02<00:00,  1.69it/s, loss=0.62] \n"
     ]
    },
    {
     "name": "stdout",
     "output_type": "stream",
     "text": [
      "Validation Dice Score\n",
      "Class 0: 0.6720, Class 1: 0.0932, Class 2: 0.0404, Class 3: 0.0008, \n",
      "Class 4: 0.2026, Class 5: 0.3862, Class 6: 0.4257, \n",
      "Validation F-beta Score\n",
      "Class 0: 0.5251, Class 1: 0.1953, Class 2: 0.1025, Class 3: 0.0064, \n",
      "Class 4: 0.3771, Class 5: 0.4063, Class 6: 0.4553, \n",
      "Overall Mean Dice Score: 0.2217\n",
      "Overall Mean F-beta Score: 0.2881\n",
      "\n",
      "Training Loss: 0.6436, Validation Loss: 0.6331, Validation F-beta: 0.2881\n",
      "Validation loss did not improve. Reducing lambda to 0.3500\n",
      "Epoch 38/4000\n",
      "Current lambda: 0.3500\n"
     ]
    },
    {
     "name": "stderr",
     "output_type": "stream",
     "text": [
      "Training: 100%|██████████| 24/24 [00:23<00:00,  1.03it/s, loss=0.659]\n",
      "Validation: 100%|██████████| 4/4 [00:02<00:00,  1.77it/s, loss=0.655]\n"
     ]
    },
    {
     "name": "stdout",
     "output_type": "stream",
     "text": [
      "Validation Dice Score\n",
      "Class 0: 0.6632, Class 1: 0.0986, Class 2: 0.0978, Class 3: 0.0008, \n",
      "Class 4: 0.2533, Class 5: 0.3968, Class 6: 0.5720, \n",
      "Validation F-beta Score\n",
      "Class 0: 0.5156, Class 1: 0.1581, Class 2: 0.1623, Class 3: 0.0061, \n",
      "Class 4: 0.3291, Class 5: 0.4557, Class 6: 0.6227, \n",
      "Overall Mean Dice Score: 0.2643\n",
      "Overall Mean F-beta Score: 0.3144\n",
      "\n",
      "Training Loss: 0.6320, Validation Loss: 0.6226, Validation F-beta: 0.3144\n",
      "========================================================\n",
      "Best model saved based on validation loss: 0.6226\n",
      "========================================================\n",
      "Epoch 39/4000\n",
      "Current lambda: 0.3500\n"
     ]
    },
    {
     "name": "stderr",
     "output_type": "stream",
     "text": [
      "Training: 100%|██████████| 24/24 [00:23<00:00,  1.02it/s, loss=0.657]\n",
      "Validation: 100%|██████████| 4/4 [00:02<00:00,  1.71it/s, loss=0.587]\n"
     ]
    },
    {
     "name": "stdout",
     "output_type": "stream",
     "text": [
      "Validation Dice Score\n",
      "Class 0: 0.6655, Class 1: 0.1471, Class 2: 0.0029, Class 3: 0.0000, \n",
      "Class 4: 0.2854, Class 5: 0.3639, Class 6: 0.5778, \n",
      "Validation F-beta Score\n",
      "Class 0: 0.5171, Class 1: 0.2431, Class 2: 0.0069, Class 3: 0.0001, \n",
      "Class 4: 0.4089, Class 5: 0.4651, Class 6: 0.7350, \n",
      "Overall Mean Dice Score: 0.2748\n",
      "Overall Mean F-beta Score: 0.3704\n",
      "\n",
      "Training Loss: 0.6421, Validation Loss: 0.6297, Validation F-beta: 0.3704\n",
      "========================================================\n",
      "Best model saved based on F-beta score: 0.3704\n",
      "========================================================\n",
      "Epoch 40/4000\n",
      "Current lambda: 0.3500\n"
     ]
    },
    {
     "name": "stderr",
     "output_type": "stream",
     "text": [
      "Training: 100%|██████████| 24/24 [00:23<00:00,  1.03it/s, loss=0.658]\n",
      "Validation: 100%|██████████| 4/4 [00:02<00:00,  1.71it/s, loss=0.631]\n"
     ]
    },
    {
     "name": "stdout",
     "output_type": "stream",
     "text": [
      "Validation Dice Score\n",
      "Class 0: 0.6573, Class 1: 0.1937, Class 2: 0.0740, Class 3: 0.0004, \n",
      "Class 4: 0.3456, Class 5: 0.3523, Class 6: 0.4734, \n",
      "Validation F-beta Score\n",
      "Class 0: 0.5096, Class 1: 0.2397, Class 2: 0.1042, Class 3: 0.0032, \n",
      "Class 4: 0.3628, Class 5: 0.3670, Class 6: 0.6506, \n",
      "Overall Mean Dice Score: 0.2731\n",
      "Overall Mean F-beta Score: 0.3247\n",
      "\n",
      "Training Loss: 0.6334, Validation Loss: 0.6202, Validation F-beta: 0.3247\n",
      "========================================================\n",
      "Best model saved based on validation loss: 0.6202\n",
      "========================================================\n",
      "Epoch 41/4000\n",
      "Current lambda: 0.3500\n"
     ]
    },
    {
     "name": "stderr",
     "output_type": "stream",
     "text": [
      "Training: 100%|██████████| 24/24 [00:23<00:00,  1.02it/s, loss=0.613]\n",
      "Validation: 100%|██████████| 4/4 [00:02<00:00,  1.74it/s, loss=0.594]\n"
     ]
    },
    {
     "name": "stdout",
     "output_type": "stream",
     "text": [
      "Validation Dice Score\n",
      "Class 0: 0.6665, Class 1: 0.1620, Class 2: 0.0275, Class 3: 0.0006, \n",
      "Class 4: 0.1943, Class 5: 0.3164, Class 6: 0.6385, \n",
      "Validation F-beta Score\n",
      "Class 0: 0.5171, Class 1: 0.4013, Class 2: 0.0785, Class 3: 0.0052, \n",
      "Class 4: 0.3197, Class 5: 0.4675, Class 6: 0.6961, \n",
      "Overall Mean Dice Score: 0.2624\n",
      "Overall Mean F-beta Score: 0.3780\n",
      "\n",
      "Training Loss: 0.6405, Validation Loss: 0.6269, Validation F-beta: 0.3780\n",
      "========================================================\n",
      "Best model saved based on F-beta score: 0.3780\n",
      "========================================================\n",
      "Epoch 42/4000\n",
      "Current lambda: 0.3500\n"
     ]
    },
    {
     "name": "stderr",
     "output_type": "stream",
     "text": [
      "Training: 100%|██████████| 24/24 [00:23<00:00,  1.02it/s, loss=0.653]\n",
      "Validation: 100%|██████████| 4/4 [00:02<00:00,  1.75it/s, loss=0.657]\n"
     ]
    },
    {
     "name": "stdout",
     "output_type": "stream",
     "text": [
      "Validation Dice Score\n",
      "Class 0: 0.6638, Class 1: 0.2859, Class 2: 0.0023, Class 3: 0.0022, \n",
      "Class 4: 0.3363, Class 5: 0.1825, Class 6: 0.6039, \n",
      "Validation F-beta Score\n",
      "Class 0: 0.5178, Class 1: 0.3160, Class 2: 0.0026, Class 3: 0.0164, \n",
      "Class 4: 0.4547, Class 5: 0.1953, Class 6: 0.6879, \n",
      "Overall Mean Dice Score: 0.2822\n",
      "Overall Mean F-beta Score: 0.3340\n",
      "\n",
      "Training Loss: 0.6383, Validation Loss: 0.6312, Validation F-beta: 0.3340\n",
      "Epoch 43/4000\n",
      "Current lambda: 0.3500\n"
     ]
    },
    {
     "name": "stderr",
     "output_type": "stream",
     "text": [
      "Training: 100%|██████████| 24/24 [00:23<00:00,  1.04it/s, loss=0.656]\n",
      "Validation: 100%|██████████| 4/4 [00:02<00:00,  1.66it/s, loss=0.613]\n"
     ]
    },
    {
     "name": "stdout",
     "output_type": "stream",
     "text": [
      "Validation Dice Score\n",
      "Class 0: 0.6517, Class 1: 0.2604, Class 2: 0.0117, Class 3: 0.0013, \n",
      "Class 4: 0.3894, Class 5: 0.3787, Class 6: 0.6908, \n",
      "Validation F-beta Score\n",
      "Class 0: 0.5056, Class 1: 0.2873, Class 2: 0.0405, Class 3: 0.0104, \n",
      "Class 4: 0.4592, Class 5: 0.3721, Class 6: 0.7693, \n",
      "Overall Mean Dice Score: 0.3441\n",
      "Overall Mean F-beta Score: 0.3797\n",
      "\n",
      "Training Loss: 0.6329, Validation Loss: 0.6108, Validation F-beta: 0.3797\n",
      "========================================================\n",
      "SUPER Best model saved. Loss:0.6108, Score:0.3797\n",
      "========================================================\n",
      "Epoch 44/4000\n",
      "Current lambda: 0.3500\n"
     ]
    },
    {
     "name": "stderr",
     "output_type": "stream",
     "text": [
      "Training: 100%|██████████| 24/24 [00:23<00:00,  1.04it/s, loss=0.606]\n",
      "Validation: 100%|██████████| 4/4 [00:02<00:00,  1.67it/s, loss=0.583]\n"
     ]
    },
    {
     "name": "stdout",
     "output_type": "stream",
     "text": [
      "Validation Dice Score\n",
      "Class 0: 0.6572, Class 1: 0.3506, Class 2: 0.0338, Class 3: 0.0008, \n",
      "Class 4: 0.2782, Class 5: 0.4163, Class 6: 0.6555, \n",
      "Validation F-beta Score\n",
      "Class 0: 0.5084, Class 1: 0.3781, Class 2: 0.0653, Class 3: 0.0062, \n",
      "Class 4: 0.3871, Class 5: 0.4541, Class 6: 0.6936, \n",
      "Overall Mean Dice Score: 0.3403\n",
      "Overall Mean F-beta Score: 0.3838\n",
      "\n",
      "Training Loss: 0.6302, Validation Loss: 0.6006, Validation F-beta: 0.3838\n",
      "========================================================\n",
      "SUPER Best model saved. Loss:0.6006, Score:0.3838\n",
      "========================================================\n",
      "Epoch 45/4000\n",
      "Current lambda: 0.3500\n"
     ]
    },
    {
     "name": "stderr",
     "output_type": "stream",
     "text": [
      "Training: 100%|██████████| 24/24 [00:23<00:00,  1.02it/s, loss=0.663]\n",
      "Validation: 100%|██████████| 4/4 [00:02<00:00,  1.65it/s, loss=0.582]\n"
     ]
    },
    {
     "name": "stdout",
     "output_type": "stream",
     "text": [
      "Validation Dice Score\n",
      "Class 0: 0.6553, Class 1: 0.4227, Class 2: 0.0352, Class 3: 0.0011, \n",
      "Class 4: 0.3903, Class 5: 0.3954, Class 6: 0.7634, \n",
      "Validation F-beta Score\n",
      "Class 0: 0.5068, Class 1: 0.6260, Class 2: 0.1270, Class 3: 0.0082, \n",
      "Class 4: 0.5440, Class 5: 0.4091, Class 6: 0.7481, \n",
      "Overall Mean Dice Score: 0.3946\n",
      "Overall Mean F-beta Score: 0.4671\n",
      "\n",
      "Training Loss: 0.6377, Validation Loss: 0.5926, Validation F-beta: 0.4671\n",
      "========================================================\n",
      "SUPER Best model saved. Loss:0.5926, Score:0.4671\n",
      "========================================================\n",
      "Epoch 46/4000\n",
      "Current lambda: 0.3500\n"
     ]
    },
    {
     "name": "stderr",
     "output_type": "stream",
     "text": [
      "Training: 100%|██████████| 24/24 [00:23<00:00,  1.02it/s, loss=0.603]\n",
      "Validation: 100%|██████████| 4/4 [00:02<00:00,  1.72it/s, loss=0.62] \n"
     ]
    },
    {
     "name": "stdout",
     "output_type": "stream",
     "text": [
      "Validation Dice Score\n",
      "Class 0: 0.6608, Class 1: 0.3788, Class 2: 0.0202, Class 3: 0.0014, \n",
      "Class 4: 0.3005, Class 5: 0.3183, Class 6: 0.1280, \n",
      "Validation F-beta Score\n",
      "Class 0: 0.5137, Class 1: 0.4603, Class 2: 0.0291, Class 3: 0.0104, \n",
      "Class 4: 0.3833, Class 5: 0.3423, Class 6: 0.1663, \n",
      "Overall Mean Dice Score: 0.2254\n",
      "Overall Mean F-beta Score: 0.2725\n",
      "\n",
      "Training Loss: 0.6221, Validation Loss: 0.6383, Validation F-beta: 0.2725\n",
      "Epoch 47/4000\n",
      "Current lambda: 0.3500\n"
     ]
    },
    {
     "name": "stderr",
     "output_type": "stream",
     "text": [
      "Training: 100%|██████████| 24/24 [00:23<00:00,  1.02it/s, loss=0.634]\n",
      "Validation: 100%|██████████| 4/4 [00:02<00:00,  1.70it/s, loss=0.616]\n"
     ]
    },
    {
     "name": "stdout",
     "output_type": "stream",
     "text": [
      "Validation Dice Score\n",
      "Class 0: 0.6661, Class 1: 0.2929, Class 2: 0.0320, Class 3: 0.0017, \n",
      "Class 4: 0.1204, Class 5: 0.3101, Class 6: 0.8004, \n",
      "Validation F-beta Score\n",
      "Class 0: 0.5187, Class 1: 0.4666, Class 2: 0.0520, Class 3: 0.0124, \n",
      "Class 4: 0.2109, Class 5: 0.3414, Class 6: 0.7637, \n",
      "Overall Mean Dice Score: 0.3051\n",
      "Overall Mean F-beta Score: 0.3590\n",
      "\n",
      "Training Loss: 0.6327, Validation Loss: 0.6143, Validation F-beta: 0.3590\n",
      "Epoch 48/4000\n",
      "Current lambda: 0.3500\n"
     ]
    },
    {
     "name": "stderr",
     "output_type": "stream",
     "text": [
      "Training: 100%|██████████| 24/24 [00:27<00:00,  1.14s/it, loss=0.617]\n",
      "Validation: 100%|██████████| 4/4 [00:02<00:00,  1.65it/s, loss=0.583]\n"
     ]
    },
    {
     "name": "stdout",
     "output_type": "stream",
     "text": [
      "Validation Dice Score\n",
      "Class 0: 0.6611, Class 1: 0.4289, Class 2: 0.0175, Class 3: 0.0004, \n",
      "Class 4: 0.1681, Class 5: 0.4045, Class 6: 0.5948, \n",
      "Validation F-beta Score\n",
      "Class 0: 0.5122, Class 1: 0.5195, Class 2: 0.0514, Class 3: 0.0030, \n",
      "Class 4: 0.3910, Class 5: 0.3871, Class 6: 0.5756, \n",
      "Overall Mean Dice Score: 0.3193\n",
      "Overall Mean F-beta Score: 0.3752\n",
      "\n",
      "Training Loss: 0.6364, Validation Loss: 0.6003, Validation F-beta: 0.3752\n",
      "Epoch 49/4000\n",
      "Current lambda: 0.3500\n"
     ]
    },
    {
     "name": "stderr",
     "output_type": "stream",
     "text": [
      "Training: 100%|██████████| 24/24 [00:23<00:00,  1.02it/s, loss=0.641]\n",
      "Validation: 100%|██████████| 4/4 [00:02<00:00,  1.69it/s, loss=0.638]\n"
     ]
    },
    {
     "name": "stdout",
     "output_type": "stream",
     "text": [
      "Validation Dice Score\n",
      "Class 0: 0.6610, Class 1: 0.3415, Class 2: 0.0808, Class 3: 0.0003, \n",
      "Class 4: 0.2996, Class 5: 0.3043, Class 6: 0.4538, \n",
      "Validation F-beta Score\n",
      "Class 0: 0.5124, Class 1: 0.3827, Class 2: 0.1305, Class 3: 0.0020, \n",
      "Class 4: 0.4209, Class 5: 0.3429, Class 6: 0.7969, \n",
      "Overall Mean Dice Score: 0.2799\n",
      "Overall Mean F-beta Score: 0.3891\n",
      "\n",
      "Training Loss: 0.6377, Validation Loss: 0.6311, Validation F-beta: 0.3891\n",
      "Validation loss did not improve. Reducing lambda to 0.3000\n",
      "Epoch 50/4000\n",
      "Current lambda: 0.3000\n"
     ]
    },
    {
     "name": "stderr",
     "output_type": "stream",
     "text": [
      "Training: 100%|██████████| 24/24 [00:23<00:00,  1.02it/s, loss=0.583]\n",
      "Validation: 100%|██████████| 4/4 [00:02<00:00,  1.74it/s, loss=0.54] \n"
     ]
    },
    {
     "name": "stdout",
     "output_type": "stream",
     "text": [
      "Validation Dice Score\n",
      "Class 0: 0.6669, Class 1: 0.3062, Class 2: 0.0439, Class 3: 0.0005, \n",
      "Class 4: 0.3733, Class 5: 0.4323, Class 6: 0.5934, \n",
      "Validation F-beta Score\n",
      "Class 0: 0.5194, Class 1: 0.3253, Class 2: 0.0981, Class 3: 0.0042, \n",
      "Class 4: 0.4214, Class 5: 0.4039, Class 6: 0.6224, \n",
      "Overall Mean Dice Score: 0.3412\n",
      "Overall Mean F-beta Score: 0.3555\n",
      "\n",
      "Training Loss: 0.6205, Validation Loss: 0.5977, Validation F-beta: 0.3555\n",
      "Epoch 51/4000\n",
      "Current lambda: 0.3000\n"
     ]
    },
    {
     "name": "stderr",
     "output_type": "stream",
     "text": [
      "Training: 100%|██████████| 24/24 [00:23<00:00,  1.01it/s, loss=0.616]\n",
      "Validation: 100%|██████████| 4/4 [00:02<00:00,  1.72it/s, loss=0.596]\n"
     ]
    },
    {
     "name": "stdout",
     "output_type": "stream",
     "text": [
      "Validation Dice Score\n",
      "Class 0: 0.6520, Class 1: 0.4154, Class 2: 0.0087, Class 3: 0.0010, \n",
      "Class 4: 0.2186, Class 5: 0.3932, Class 6: 0.6175, \n",
      "Validation F-beta Score\n",
      "Class 0: 0.5034, Class 1: 0.4105, Class 2: 0.0298, Class 3: 0.0079, \n",
      "Class 4: 0.2793, Class 5: 0.3875, Class 6: 0.7108, \n",
      "Overall Mean Dice Score: 0.3291\n",
      "Overall Mean F-beta Score: 0.3592\n",
      "\n",
      "Training Loss: 0.6208, Validation Loss: 0.5986, Validation F-beta: 0.3592\n",
      "Epoch 52/4000\n",
      "Current lambda: 0.3000\n"
     ]
    },
    {
     "name": "stderr",
     "output_type": "stream",
     "text": [
      "Training: 100%|██████████| 24/24 [00:23<00:00,  1.01it/s, loss=0.632]\n",
      "Validation: 100%|██████████| 4/4 [00:02<00:00,  1.71it/s, loss=0.584]\n"
     ]
    },
    {
     "name": "stdout",
     "output_type": "stream",
     "text": [
      "Validation Dice Score\n",
      "Class 0: 0.6560, Class 1: 0.4344, Class 2: 0.0072, Class 3: 0.0005, \n",
      "Class 4: 0.3642, Class 5: 0.2730, Class 6: 0.5376, \n",
      "Validation F-beta Score\n",
      "Class 0: 0.5091, Class 1: 0.6256, Class 2: 0.0147, Class 3: 0.0042, \n",
      "Class 4: 0.4151, Class 5: 0.3097, Class 6: 0.5388, \n",
      "Overall Mean Dice Score: 0.3220\n",
      "Overall Mean F-beta Score: 0.3787\n",
      "\n",
      "Training Loss: 0.6237, Validation Loss: 0.6155, Validation F-beta: 0.3787\n",
      "Epoch 53/4000\n",
      "Current lambda: 0.3000\n"
     ]
    },
    {
     "name": "stderr",
     "output_type": "stream",
     "text": [
      "Training: 100%|██████████| 24/24 [00:23<00:00,  1.02it/s, loss=0.583]\n",
      "Validation: 100%|██████████| 4/4 [00:02<00:00,  1.69it/s, loss=0.61] \n"
     ]
    },
    {
     "name": "stdout",
     "output_type": "stream",
     "text": [
      "Validation Dice Score\n",
      "Class 0: 0.6596, Class 1: 0.2244, Class 2: 0.0613, Class 3: 0.0013, \n",
      "Class 4: 0.4470, Class 5: 0.3707, Class 6: 0.6571, \n",
      "Validation F-beta Score\n",
      "Class 0: 0.5117, Class 1: 0.3610, Class 2: 0.1469, Class 3: 0.0099, \n",
      "Class 4: 0.5605, Class 5: 0.4130, Class 6: 0.6837, \n",
      "Overall Mean Dice Score: 0.3401\n",
      "Overall Mean F-beta Score: 0.4056\n",
      "\n",
      "Training Loss: 0.6292, Validation Loss: 0.6212, Validation F-beta: 0.4056\n",
      "Epoch 54/4000\n",
      "Current lambda: 0.3000\n"
     ]
    },
    {
     "name": "stderr",
     "output_type": "stream",
     "text": [
      "Training: 100%|██████████| 24/24 [00:23<00:00,  1.02it/s, loss=0.616]\n",
      "Validation: 100%|██████████| 4/4 [00:02<00:00,  1.72it/s, loss=0.591]\n"
     ]
    },
    {
     "name": "stdout",
     "output_type": "stream",
     "text": [
      "Validation Dice Score\n",
      "Class 0: 0.6571, Class 1: 0.4404, Class 2: 0.0483, Class 3: 0.0007, \n",
      "Class 4: 0.3497, Class 5: 0.2964, Class 6: 0.4346, \n",
      "Validation F-beta Score\n",
      "Class 0: 0.5101, Class 1: 0.6694, Class 2: 0.0985, Class 3: 0.0050, \n",
      "Class 4: 0.2850, Class 5: 0.3322, Class 6: 0.7679, \n",
      "Overall Mean Dice Score: 0.3043\n",
      "Overall Mean F-beta Score: 0.4119\n",
      "\n",
      "Training Loss: 0.6210, Validation Loss: 0.6275, Validation F-beta: 0.4119\n",
      "Validation loss did not improve. Reducing lambda to 0.2500\n",
      "Epoch 55/4000\n",
      "Current lambda: 0.2500\n"
     ]
    },
    {
     "name": "stderr",
     "output_type": "stream",
     "text": [
      "Training: 100%|██████████| 24/24 [00:23<00:00,  1.01it/s, loss=0.663]\n",
      "Validation: 100%|██████████| 4/4 [00:02<00:00,  1.70it/s, loss=0.627]\n"
     ]
    },
    {
     "name": "stdout",
     "output_type": "stream",
     "text": [
      "Validation Dice Score\n",
      "Class 0: 0.6482, Class 1: 0.4657, Class 2: 0.0291, Class 3: 0.0012, \n",
      "Class 4: 0.5316, Class 5: 0.2055, Class 6: 0.4990, \n",
      "Validation F-beta Score\n",
      "Class 0: 0.5007, Class 1: 0.3747, Class 2: 0.0432, Class 3: 0.0090, \n",
      "Class 4: 0.5372, Class 5: 0.1982, Class 6: 0.5088, \n",
      "Overall Mean Dice Score: 0.3406\n",
      "Overall Mean F-beta Score: 0.3256\n",
      "\n",
      "Training Loss: 0.6315, Validation Loss: 0.6154, Validation F-beta: 0.3256\n",
      "Epoch 56/4000\n",
      "Current lambda: 0.2500\n"
     ]
    },
    {
     "name": "stderr",
     "output_type": "stream",
     "text": [
      "Training: 100%|██████████| 24/24 [00:23<00:00,  1.02it/s, loss=0.557]\n",
      "Validation: 100%|██████████| 4/4 [00:02<00:00,  1.70it/s, loss=0.61] \n"
     ]
    },
    {
     "name": "stdout",
     "output_type": "stream",
     "text": [
      "Validation Dice Score\n",
      "Class 0: 0.6531, Class 1: 0.4723, Class 2: 0.0035, Class 3: 0.0015, \n",
      "Class 4: 0.3767, Class 5: 0.3382, Class 6: 0.5664, \n",
      "Validation F-beta Score\n",
      "Class 0: 0.5052, Class 1: 0.4473, Class 2: 0.0066, Class 3: 0.0110, \n",
      "Class 4: 0.4448, Class 5: 0.3787, Class 6: 0.5924, \n",
      "Overall Mean Dice Score: 0.3510\n",
      "Overall Mean F-beta Score: 0.3748\n",
      "\n",
      "Training Loss: 0.6199, Validation Loss: 0.6264, Validation F-beta: 0.3748\n",
      "Epoch 57/4000\n",
      "Current lambda: 0.2500\n"
     ]
    },
    {
     "name": "stderr",
     "output_type": "stream",
     "text": [
      "Training: 100%|██████████| 24/24 [00:23<00:00,  1.01it/s, loss=0.587]\n",
      "Validation: 100%|██████████| 4/4 [00:02<00:00,  1.66it/s, loss=0.606]\n"
     ]
    },
    {
     "name": "stdout",
     "output_type": "stream",
     "text": [
      "Validation Dice Score\n",
      "Class 0: 0.6573, Class 1: 0.5160, Class 2: 0.0544, Class 3: 0.0017, \n",
      "Class 4: 0.3367, Class 5: 0.3042, Class 6: 0.6897, \n",
      "Validation F-beta Score\n",
      "Class 0: 0.5106, Class 1: 0.6502, Class 2: 0.1573, Class 3: 0.0131, \n",
      "Class 4: 0.2799, Class 5: 0.3400, Class 6: 0.6343, \n",
      "Overall Mean Dice Score: 0.3697\n",
      "Overall Mean F-beta Score: 0.3835\n",
      "\n",
      "Training Loss: 0.6182, Validation Loss: 0.6044, Validation F-beta: 0.3835\n",
      "Epoch 58/4000\n",
      "Current lambda: 0.2500\n"
     ]
    },
    {
     "name": "stderr",
     "output_type": "stream",
     "text": [
      "Training: 100%|██████████| 24/24 [00:24<00:00,  1.00s/it, loss=0.613]\n",
      "Validation: 100%|██████████| 4/4 [00:02<00:00,  1.73it/s, loss=0.63] \n"
     ]
    },
    {
     "name": "stdout",
     "output_type": "stream",
     "text": [
      "Validation Dice Score\n",
      "Class 0: 0.6492, Class 1: 0.3841, Class 2: 0.0274, Class 3: 0.0018, \n",
      "Class 4: 0.2806, Class 5: 0.3797, Class 6: 0.6928, \n",
      "Validation F-beta Score\n",
      "Class 0: 0.5014, Class 1: 0.4182, Class 2: 0.0266, Class 3: 0.0142, \n",
      "Class 4: 0.3952, Class 5: 0.3448, Class 6: 0.7829, \n",
      "Overall Mean Dice Score: 0.3478\n",
      "Overall Mean F-beta Score: 0.3911\n",
      "\n",
      "Training Loss: 0.6156, Validation Loss: 0.5986, Validation F-beta: 0.3911\n",
      "Epoch 59/4000\n",
      "Current lambda: 0.2500\n"
     ]
    },
    {
     "name": "stderr",
     "output_type": "stream",
     "text": [
      "Training: 100%|██████████| 24/24 [00:23<00:00,  1.02it/s, loss=0.613]\n",
      "Validation: 100%|██████████| 4/4 [00:02<00:00,  1.70it/s, loss=0.602]\n"
     ]
    },
    {
     "name": "stdout",
     "output_type": "stream",
     "text": [
      "Validation Dice Score\n",
      "Class 0: 0.6549, Class 1: 0.4739, Class 2: 0.0041, Class 3: 0.0011, \n",
      "Class 4: 0.2424, Class 5: 0.3124, Class 6: 0.6426, \n",
      "Validation F-beta Score\n",
      "Class 0: 0.5068, Class 1: 0.5807, Class 2: 0.0098, Class 3: 0.0083, \n",
      "Class 4: 0.2454, Class 5: 0.3205, Class 6: 0.6067, \n",
      "Overall Mean Dice Score: 0.3345\n",
      "Overall Mean F-beta Score: 0.3523\n",
      "\n",
      "Training Loss: 0.6188, Validation Loss: 0.6167, Validation F-beta: 0.3523\n",
      "Validation loss did not improve. Reducing lambda to 0.2000\n",
      "Epoch 60/4000\n",
      "Current lambda: 0.2000\n"
     ]
    },
    {
     "name": "stderr",
     "output_type": "stream",
     "text": [
      "Training: 100%|██████████| 24/24 [00:23<00:00,  1.03it/s, loss=0.605]\n",
      "Validation: 100%|██████████| 4/4 [00:02<00:00,  1.70it/s, loss=0.625]\n"
     ]
    },
    {
     "name": "stdout",
     "output_type": "stream",
     "text": [
      "Validation Dice Score\n",
      "Class 0: 0.6612, Class 1: 0.2533, Class 2: 0.0748, Class 3: 0.0001, \n",
      "Class 4: 0.2611, Class 5: 0.3019, Class 6: 0.3273, \n",
      "Validation F-beta Score\n",
      "Class 0: 0.5147, Class 1: 0.2378, Class 2: 0.1132, Class 3: 0.0012, \n",
      "Class 4: 0.2610, Class 5: 0.3712, Class 6: 0.3977, \n",
      "Overall Mean Dice Score: 0.2287\n",
      "Overall Mean F-beta Score: 0.2538\n",
      "\n",
      "Training Loss: 0.6147, Validation Loss: 0.6346, Validation F-beta: 0.2538\n",
      "Epoch 61/4000\n",
      "Current lambda: 0.2000\n"
     ]
    },
    {
     "name": "stderr",
     "output_type": "stream",
     "text": [
      "Training: 100%|██████████| 24/24 [00:23<00:00,  1.03it/s, loss=0.652]\n",
      "Validation: 100%|██████████| 4/4 [00:02<00:00,  1.74it/s, loss=0.582]\n"
     ]
    },
    {
     "name": "stdout",
     "output_type": "stream",
     "text": [
      "Validation Dice Score\n",
      "Class 0: 0.6356, Class 1: 0.4708, Class 2: 0.0296, Class 3: 0.0017, \n",
      "Class 4: 0.3910, Class 5: 0.3258, Class 6: 0.6693, \n",
      "Validation F-beta Score\n",
      "Class 0: 0.4894, Class 1: 0.4187, Class 2: 0.0409, Class 3: 0.0128, \n",
      "Class 4: 0.4715, Class 5: 0.3146, Class 6: 0.6346, \n",
      "Overall Mean Dice Score: 0.3717\n",
      "Overall Mean F-beta Score: 0.3705\n",
      "\n",
      "Training Loss: 0.6310, Validation Loss: 0.5857, Validation F-beta: 0.3705\n",
      "========================================================\n",
      "Best model saved based on validation loss: 0.5857\n",
      "========================================================\n",
      "Epoch 62/4000\n",
      "Current lambda: 0.2000\n"
     ]
    },
    {
     "name": "stderr",
     "output_type": "stream",
     "text": [
      "Training: 100%|██████████| 24/24 [00:23<00:00,  1.03it/s, loss=0.664]\n",
      "Validation: 100%|██████████| 4/4 [00:02<00:00,  1.72it/s, loss=0.596]\n"
     ]
    },
    {
     "name": "stdout",
     "output_type": "stream",
     "text": [
      "Validation Dice Score\n",
      "Class 0: 0.6540, Class 1: 0.4137, Class 2: 0.0616, Class 3: 0.0020, \n",
      "Class 4: 0.3223, Class 5: 0.3013, Class 6: 0.6100, \n",
      "Validation F-beta Score\n",
      "Class 0: 0.5081, Class 1: 0.3625, Class 2: 0.0807, Class 3: 0.0151, \n",
      "Class 4: 0.2827, Class 5: 0.3312, Class 6: 0.5466, \n",
      "Overall Mean Dice Score: 0.3299\n",
      "Overall Mean F-beta Score: 0.3076\n",
      "\n",
      "Training Loss: 0.6224, Validation Loss: 0.6181, Validation F-beta: 0.3076\n",
      "Epoch 63/4000\n",
      "Current lambda: 0.2000\n"
     ]
    },
    {
     "name": "stderr",
     "output_type": "stream",
     "text": [
      "Training: 100%|██████████| 24/24 [00:23<00:00,  1.03it/s, loss=0.63] \n",
      "Validation: 100%|██████████| 4/4 [00:02<00:00,  1.73it/s, loss=0.57] \n"
     ]
    },
    {
     "name": "stdout",
     "output_type": "stream",
     "text": [
      "Validation Dice Score\n",
      "Class 0: 0.6472, Class 1: 0.4339, Class 2: 0.0521, Class 3: 0.0010, \n",
      "Class 4: 0.3497, Class 5: 0.3202, Class 6: 0.6670, \n",
      "Validation F-beta Score\n",
      "Class 0: 0.5021, Class 1: 0.5720, Class 2: 0.0833, Class 3: 0.0082, \n",
      "Class 4: 0.2735, Class 5: 0.3000, Class 6: 0.7950, \n",
      "Overall Mean Dice Score: 0.3544\n",
      "Overall Mean F-beta Score: 0.3897\n",
      "\n",
      "Training Loss: 0.6210, Validation Loss: 0.6091, Validation F-beta: 0.3897\n",
      "Epoch 64/4000\n",
      "Current lambda: 0.2000\n"
     ]
    },
    {
     "name": "stderr",
     "output_type": "stream",
     "text": [
      "Training: 100%|██████████| 24/24 [00:23<00:00,  1.03it/s, loss=0.615]\n",
      "Validation: 100%|██████████| 4/4 [00:02<00:00,  1.71it/s, loss=0.642]\n"
     ]
    },
    {
     "name": "stdout",
     "output_type": "stream",
     "text": [
      "Validation Dice Score\n",
      "Class 0: 0.6567, Class 1: 0.5344, Class 2: 0.0139, Class 3: 0.0012, \n",
      "Class 4: 0.5066, Class 5: 0.2921, Class 6: 0.4936, \n",
      "Validation F-beta Score\n",
      "Class 0: 0.5078, Class 1: 0.5783, Class 2: 0.0202, Class 3: 0.0094, \n",
      "Class 4: 0.4794, Class 5: 0.3253, Class 6: 0.5191, \n",
      "Overall Mean Dice Score: 0.3656\n",
      "Overall Mean F-beta Score: 0.3823\n",
      "\n",
      "Training Loss: 0.6144, Validation Loss: 0.6012, Validation F-beta: 0.3823\n",
      "Epoch 65/4000\n",
      "Current lambda: 0.2000\n"
     ]
    },
    {
     "name": "stderr",
     "output_type": "stream",
     "text": [
      "Training: 100%|██████████| 24/24 [00:23<00:00,  1.03it/s, loss=0.614]\n",
      "Validation: 100%|██████████| 4/4 [00:02<00:00,  1.76it/s, loss=0.585]\n"
     ]
    },
    {
     "name": "stdout",
     "output_type": "stream",
     "text": [
      "Validation Dice Score\n",
      "Class 0: 0.6464, Class 1: 0.5463, Class 2: 0.0685, Class 3: 0.0004, \n",
      "Class 4: 0.3080, Class 5: 0.4133, Class 6: 0.7404, \n",
      "Validation F-beta Score\n",
      "Class 0: 0.4999, Class 1: 0.6039, Class 2: 0.1469, Class 3: 0.0031, \n",
      "Class 4: 0.2530, Class 5: 0.3815, Class 6: 0.7613, \n",
      "Overall Mean Dice Score: 0.4017\n",
      "Overall Mean F-beta Score: 0.4006\n",
      "\n",
      "Training Loss: 0.6170, Validation Loss: 0.5835, Validation F-beta: 0.4006\n",
      "========================================================\n",
      "Best model saved based on validation loss: 0.5835\n",
      "========================================================\n",
      "Epoch 66/4000\n",
      "Current lambda: 0.2000\n"
     ]
    },
    {
     "name": "stderr",
     "output_type": "stream",
     "text": [
      "Training: 100%|██████████| 24/24 [00:23<00:00,  1.02it/s, loss=0.601]\n",
      "Validation: 100%|██████████| 4/4 [00:02<00:00,  1.69it/s, loss=0.604]\n"
     ]
    },
    {
     "name": "stdout",
     "output_type": "stream",
     "text": [
      "Validation Dice Score\n",
      "Class 0: 0.6504, Class 1: 0.3421, Class 2: 0.0869, Class 3: 0.0009, \n",
      "Class 4: 0.2286, Class 5: 0.3107, Class 6: 0.4132, \n",
      "Validation F-beta Score\n",
      "Class 0: 0.5014, Class 1: 0.3038, Class 2: 0.1046, Class 3: 0.0067, \n",
      "Class 4: 0.2287, Class 5: 0.4054, Class 6: 0.4292, \n",
      "Overall Mean Dice Score: 0.2591\n",
      "Overall Mean F-beta Score: 0.2748\n",
      "\n",
      "Training Loss: 0.6213, Validation Loss: 0.6298, Validation F-beta: 0.2748\n",
      "Epoch 67/4000\n",
      "Current lambda: 0.2000\n"
     ]
    },
    {
     "name": "stderr",
     "output_type": "stream",
     "text": [
      "Training: 100%|██████████| 24/24 [00:23<00:00,  1.03it/s, loss=0.596]\n",
      "Validation: 100%|██████████| 4/4 [00:02<00:00,  1.64it/s, loss=0.587]\n"
     ]
    },
    {
     "name": "stdout",
     "output_type": "stream",
     "text": [
      "Validation Dice Score\n",
      "Class 0: 0.6635, Class 1: 0.5533, Class 2: 0.0249, Class 3: 0.0015, \n",
      "Class 4: 0.3399, Class 5: 0.2561, Class 6: 0.1912, \n",
      "Validation F-beta Score\n",
      "Class 0: 0.5160, Class 1: 0.5799, Class 2: 0.0455, Class 3: 0.0116, \n",
      "Class 4: 0.3643, Class 5: 0.3022, Class 6: 0.3155, \n",
      "Overall Mean Dice Score: 0.2684\n",
      "Overall Mean F-beta Score: 0.3147\n",
      "\n",
      "Training Loss: 0.6009, Validation Loss: 0.6269, Validation F-beta: 0.3147\n",
      "Epoch 68/4000\n",
      "Current lambda: 0.2000\n"
     ]
    },
    {
     "name": "stderr",
     "output_type": "stream",
     "text": [
      "Training: 100%|██████████| 24/24 [00:23<00:00,  1.03it/s, loss=0.633]\n",
      "Validation: 100%|██████████| 4/4 [00:02<00:00,  1.70it/s, loss=0.585]\n"
     ]
    },
    {
     "name": "stdout",
     "output_type": "stream",
     "text": [
      "Validation Dice Score\n",
      "Class 0: 0.6569, Class 1: 0.2921, Class 2: 0.0141, Class 3: 0.0010, \n",
      "Class 4: 0.3245, Class 5: 0.3871, Class 6: 0.6499, \n",
      "Validation F-beta Score\n",
      "Class 0: 0.5092, Class 1: 0.2985, Class 2: 0.0156, Class 3: 0.0077, \n",
      "Class 4: 0.4261, Class 5: 0.3835, Class 6: 0.7939, \n",
      "Overall Mean Dice Score: 0.3309\n",
      "Overall Mean F-beta Score: 0.3819\n",
      "\n",
      "Training Loss: 0.6138, Validation Loss: 0.6067, Validation F-beta: 0.3819\n",
      "Epoch 69/4000\n",
      "Current lambda: 0.2000\n"
     ]
    },
    {
     "name": "stderr",
     "output_type": "stream",
     "text": [
      "Training: 100%|██████████| 24/24 [00:23<00:00,  1.02it/s, loss=0.614]\n",
      "Validation: 100%|██████████| 4/4 [00:02<00:00,  1.70it/s, loss=0.669]\n"
     ]
    },
    {
     "name": "stdout",
     "output_type": "stream",
     "text": [
      "Validation Dice Score\n",
      "Class 0: 0.6474, Class 1: 0.5509, Class 2: 0.0000, Class 3: 0.0007, \n",
      "Class 4: 0.4070, Class 5: 0.2607, Class 6: 0.4390, \n",
      "Validation F-beta Score\n",
      "Class 0: 0.4998, Class 1: 0.6190, Class 2: 0.0000, Class 3: 0.0056, \n",
      "Class 4: 0.3727, Class 5: 0.2699, Class 6: 0.5006, \n",
      "Overall Mean Dice Score: 0.3317\n",
      "Overall Mean F-beta Score: 0.3536\n",
      "\n",
      "Training Loss: 0.6108, Validation Loss: 0.6198, Validation F-beta: 0.3536\n",
      "Validation loss did not improve. Reducing lambda to 0.1500\n",
      "Epoch 70/4000\n",
      "Current lambda: 0.1500\n"
     ]
    },
    {
     "name": "stderr",
     "output_type": "stream",
     "text": [
      "Training: 100%|██████████| 24/24 [00:23<00:00,  1.02it/s, loss=0.595]\n",
      "Validation: 100%|██████████| 4/4 [00:02<00:00,  1.69it/s, loss=0.549]\n"
     ]
    },
    {
     "name": "stdout",
     "output_type": "stream",
     "text": [
      "Validation Dice Score\n",
      "Class 0: 0.6506, Class 1: 0.4918, Class 2: 0.1280, Class 3: 0.0005, \n",
      "Class 4: 0.2719, Class 5: 0.3662, Class 6: 0.7639, \n",
      "Validation F-beta Score\n",
      "Class 0: 0.5042, Class 1: 0.4155, Class 2: 0.1227, Class 3: 0.0038, \n",
      "Class 4: 0.2821, Class 5: 0.3456, Class 6: 0.7120, \n",
      "Overall Mean Dice Score: 0.3789\n",
      "Overall Mean F-beta Score: 0.3518\n",
      "\n",
      "Training Loss: 0.6086, Validation Loss: 0.5776, Validation F-beta: 0.3518\n",
      "========================================================\n",
      "Best model saved based on validation loss: 0.5776\n",
      "========================================================\n",
      "Epoch 71/4000\n",
      "Current lambda: 0.1500\n"
     ]
    },
    {
     "name": "stderr",
     "output_type": "stream",
     "text": [
      "Training: 100%|██████████| 24/24 [00:23<00:00,  1.03it/s, loss=0.655]\n",
      "Validation: 100%|██████████| 4/4 [00:02<00:00,  1.72it/s, loss=0.548]\n"
     ]
    },
    {
     "name": "stdout",
     "output_type": "stream",
     "text": [
      "Validation Dice Score\n",
      "Class 0: 0.6597, Class 1: 0.4362, Class 2: 0.1012, Class 3: 0.0006, \n",
      "Class 4: 0.3569, Class 5: 0.4326, Class 6: 0.6941, \n",
      "Validation F-beta Score\n",
      "Class 0: 0.5120, Class 1: 0.3990, Class 2: 0.1422, Class 3: 0.0048, \n",
      "Class 4: 0.5018, Class 5: 0.4790, Class 6: 0.6409, \n",
      "Overall Mean Dice Score: 0.3841\n",
      "Overall Mean F-beta Score: 0.4051\n",
      "\n",
      "Training Loss: 0.6170, Validation Loss: 0.5851, Validation F-beta: 0.4051\n",
      "Epoch 72/4000\n",
      "Current lambda: 0.1500\n"
     ]
    },
    {
     "name": "stderr",
     "output_type": "stream",
     "text": [
      "Training: 100%|██████████| 24/24 [00:23<00:00,  1.01it/s, loss=0.609]\n",
      "Validation: 100%|██████████| 4/4 [00:02<00:00,  1.61it/s, loss=0.599]\n"
     ]
    },
    {
     "name": "stdout",
     "output_type": "stream",
     "text": [
      "Validation Dice Score\n",
      "Class 0: 0.6542, Class 1: 0.5992, Class 2: 0.0963, Class 3: 0.0013, \n",
      "Class 4: 0.3809, Class 5: 0.3005, Class 6: 0.3561, \n",
      "Validation F-beta Score\n",
      "Class 0: 0.5081, Class 1: 0.5468, Class 2: 0.0999, Class 3: 0.0098, \n",
      "Class 4: 0.4033, Class 5: 0.2577, Class 6: 0.4520, \n",
      "Overall Mean Dice Score: 0.3276\n",
      "Overall Mean F-beta Score: 0.3339\n",
      "\n",
      "Training Loss: 0.6139, Validation Loss: 0.6059, Validation F-beta: 0.3339\n",
      "Epoch 73/4000\n",
      "Current lambda: 0.1500\n"
     ]
    },
    {
     "name": "stderr",
     "output_type": "stream",
     "text": [
      "Training: 100%|██████████| 24/24 [00:23<00:00,  1.04it/s, loss=0.578]\n",
      "Validation: 100%|██████████| 4/4 [00:02<00:00,  1.74it/s, loss=0.561]\n"
     ]
    },
    {
     "name": "stdout",
     "output_type": "stream",
     "text": [
      "Validation Dice Score\n",
      "Class 0: 0.6581, Class 1: 0.6561, Class 2: 0.0272, Class 3: 0.0011, \n",
      "Class 4: 0.3599, Class 5: 0.3530, Class 6: 0.5235, \n",
      "Validation F-beta Score\n",
      "Class 0: 0.5102, Class 1: 0.5942, Class 2: 0.0592, Class 3: 0.0084, \n",
      "Class 4: 0.5126, Class 5: 0.3391, Class 6: 0.5462, \n",
      "Overall Mean Dice Score: 0.3787\n",
      "Overall Mean F-beta Score: 0.4001\n",
      "\n",
      "Training Loss: 0.6120, Validation Loss: 0.5851, Validation F-beta: 0.4001\n",
      "Epoch 74/4000\n",
      "Current lambda: 0.1500\n"
     ]
    },
    {
     "name": "stderr",
     "output_type": "stream",
     "text": [
      "Training: 100%|██████████| 24/24 [00:23<00:00,  1.03it/s, loss=0.589]\n",
      "Validation: 100%|██████████| 4/4 [00:02<00:00,  1.75it/s, loss=0.573]\n"
     ]
    },
    {
     "name": "stdout",
     "output_type": "stream",
     "text": [
      "Validation Dice Score\n",
      "Class 0: 0.6523, Class 1: 0.5400, Class 2: 0.0148, Class 3: 0.0013, \n",
      "Class 4: 0.2801, Class 5: 0.3695, Class 6: 0.4998, \n",
      "Validation F-beta Score\n",
      "Class 0: 0.5072, Class 1: 0.5014, Class 2: 0.0101, Class 3: 0.0097, \n",
      "Class 4: 0.2392, Class 5: 0.3592, Class 6: 0.4603, \n",
      "Overall Mean Dice Score: 0.3381\n",
      "Overall Mean F-beta Score: 0.3140\n",
      "\n",
      "Training Loss: 0.6068, Validation Loss: 0.5991, Validation F-beta: 0.3140\n",
      "Validation loss did not improve. Reducing lambda to 0.1000\n",
      "Epoch 75/4000\n",
      "Current lambda: 0.1000\n"
     ]
    },
    {
     "name": "stderr",
     "output_type": "stream",
     "text": [
      "Training: 100%|██████████| 24/24 [00:23<00:00,  1.03it/s, loss=0.616]\n",
      "Validation: 100%|██████████| 4/4 [00:02<00:00,  1.73it/s, loss=0.573]\n"
     ]
    },
    {
     "name": "stdout",
     "output_type": "stream",
     "text": [
      "Validation Dice Score\n",
      "Class 0: 0.6565, Class 1: 0.4907, Class 2: 0.0603, Class 3: 0.0016, \n",
      "Class 4: 0.3446, Class 5: 0.3359, Class 6: 0.7016, \n",
      "Validation F-beta Score\n",
      "Class 0: 0.5089, Class 1: 0.6177, Class 2: 0.1078, Class 3: 0.0121, \n",
      "Class 4: 0.3758, Class 5: 0.3143, Class 6: 0.6437, \n",
      "Overall Mean Dice Score: 0.3749\n",
      "Overall Mean F-beta Score: 0.3927\n",
      "\n",
      "Training Loss: 0.6015, Validation Loss: 0.5826, Validation F-beta: 0.3927\n",
      "Epoch 76/4000\n",
      "Current lambda: 0.1000\n"
     ]
    },
    {
     "name": "stderr",
     "output_type": "stream",
     "text": [
      "Training: 100%|██████████| 24/24 [00:23<00:00,  1.02it/s, loss=0.607]\n",
      "Validation: 100%|██████████| 4/4 [00:02<00:00,  1.70it/s, loss=0.628]\n"
     ]
    },
    {
     "name": "stdout",
     "output_type": "stream",
     "text": [
      "Validation Dice Score\n",
      "Class 0: 0.6629, Class 1: 0.4716, Class 2: 0.0513, Class 3: 0.0007, \n",
      "Class 4: 0.1680, Class 5: 0.3455, Class 6: 0.6112, \n",
      "Validation F-beta Score\n",
      "Class 0: 0.5153, Class 1: 0.4997, Class 2: 0.0656, Class 3: 0.0058, \n",
      "Class 4: 0.2490, Class 5: 0.3550, Class 6: 0.4878, \n",
      "Overall Mean Dice Score: 0.3194\n",
      "Overall Mean F-beta Score: 0.3195\n",
      "\n",
      "Training Loss: 0.6077, Validation Loss: 0.6051, Validation F-beta: 0.3195\n",
      "Epoch 77/4000\n",
      "Current lambda: 0.1000\n"
     ]
    },
    {
     "name": "stderr",
     "output_type": "stream",
     "text": [
      "Training: 100%|██████████| 24/24 [00:23<00:00,  1.02it/s, loss=0.572]\n",
      "Validation: 100%|██████████| 4/4 [00:02<00:00,  1.71it/s, loss=0.623]\n"
     ]
    },
    {
     "name": "stdout",
     "output_type": "stream",
     "text": [
      "Validation Dice Score\n",
      "Class 0: 0.6627, Class 1: 0.3425, Class 2: 0.0873, Class 3: 0.0012, \n",
      "Class 4: 0.2446, Class 5: 0.3346, Class 6: 0.7291, \n",
      "Validation F-beta Score\n",
      "Class 0: 0.5154, Class 1: 0.2433, Class 2: 0.1205, Class 3: 0.0092, \n",
      "Class 4: 0.2357, Class 5: 0.3564, Class 6: 0.7106, \n",
      "Overall Mean Dice Score: 0.3304\n",
      "Overall Mean F-beta Score: 0.3111\n",
      "\n",
      "Training Loss: 0.6016, Validation Loss: 0.5967, Validation F-beta: 0.3111\n",
      "Epoch 78/4000\n",
      "Current lambda: 0.1000\n"
     ]
    },
    {
     "name": "stderr",
     "output_type": "stream",
     "text": [
      "Training: 100%|██████████| 24/24 [00:23<00:00,  1.02it/s, loss=0.64] \n",
      "Validation: 100%|██████████| 4/4 [00:02<00:00,  1.72it/s, loss=0.608]\n"
     ]
    },
    {
     "name": "stdout",
     "output_type": "stream",
     "text": [
      "Validation Dice Score\n",
      "Class 0: 0.6476, Class 1: 0.3640, Class 2: 0.0644, Class 3: 0.0006, \n",
      "Class 4: 0.3523, Class 5: 0.3096, Class 6: 0.5272, \n",
      "Validation F-beta Score\n",
      "Class 0: 0.5035, Class 1: 0.3496, Class 2: 0.0942, Class 3: 0.0048, \n",
      "Class 4: 0.2732, Class 5: 0.2980, Class 6: 0.4401, \n",
      "Overall Mean Dice Score: 0.3108\n",
      "Overall Mean F-beta Score: 0.2731\n",
      "\n",
      "Training Loss: 0.5991, Validation Loss: 0.5968, Validation F-beta: 0.2731\n",
      "Epoch 79/4000\n",
      "Current lambda: 0.1000\n"
     ]
    },
    {
     "name": "stderr",
     "output_type": "stream",
     "text": [
      "Training: 100%|██████████| 24/24 [00:23<00:00,  1.03it/s, loss=0.66] \n",
      "Validation: 100%|██████████| 4/4 [00:02<00:00,  1.70it/s, loss=0.615]\n"
     ]
    },
    {
     "name": "stdout",
     "output_type": "stream",
     "text": [
      "Validation Dice Score\n",
      "Class 0: 0.6589, Class 1: 0.5147, Class 2: 0.0640, Class 3: 0.0030, \n",
      "Class 4: 0.3865, Class 5: 0.2274, Class 6: 0.7461, \n",
      "Validation F-beta Score\n",
      "Class 0: 0.5093, Class 1: 0.4388, Class 2: 0.0700, Class 3: 0.0224, \n",
      "Class 4: 0.3757, Class 5: 0.3405, Class 6: 0.7707, \n",
      "Overall Mean Dice Score: 0.3755\n",
      "Overall Mean F-beta Score: 0.3896\n",
      "\n",
      "Training Loss: 0.6113, Validation Loss: 0.6184, Validation F-beta: 0.3896\n",
      "Validation loss did not improve. Reducing lambda to 0.0500\n",
      "Epoch 80/4000\n",
      "Current lambda: 0.0500\n"
     ]
    },
    {
     "name": "stderr",
     "output_type": "stream",
     "text": [
      "Training: 100%|██████████| 24/24 [00:23<00:00,  1.03it/s, loss=0.657]\n",
      "Validation: 100%|██████████| 4/4 [00:02<00:00,  1.74it/s, loss=0.624]\n"
     ]
    },
    {
     "name": "stdout",
     "output_type": "stream",
     "text": [
      "Validation Dice Score\n",
      "Class 0: 0.6476, Class 1: 0.4937, Class 2: 0.0848, Class 3: 0.0018, \n",
      "Class 4: 0.2057, Class 5: 0.2409, Class 6: 0.5864, \n",
      "Validation F-beta Score\n",
      "Class 0: 0.5019, Class 1: 0.4110, Class 2: 0.1062, Class 3: 0.0136, \n",
      "Class 4: 0.1689, Class 5: 0.1912, Class 6: 0.4855, \n",
      "Overall Mean Dice Score: 0.3057\n",
      "Overall Mean F-beta Score: 0.2540\n",
      "\n",
      "Training Loss: 0.6125, Validation Loss: 0.6012, Validation F-beta: 0.2540\n",
      "Epoch 81/4000\n",
      "Current lambda: 0.0500\n"
     ]
    },
    {
     "name": "stderr",
     "output_type": "stream",
     "text": [
      "Training: 100%|██████████| 24/24 [00:23<00:00,  1.03it/s, loss=0.546]\n",
      "Validation: 100%|██████████| 4/4 [00:02<00:00,  1.74it/s, loss=0.599]\n"
     ]
    },
    {
     "name": "stdout",
     "output_type": "stream",
     "text": [
      "Validation Dice Score\n",
      "Class 0: 0.6529, Class 1: 0.6148, Class 2: 0.1005, Class 3: 0.0020, \n",
      "Class 4: 0.2836, Class 5: 0.3091, Class 6: 0.2059, \n",
      "Validation F-beta Score\n",
      "Class 0: 0.5086, Class 1: 0.5641, Class 2: 0.0773, Class 3: 0.0162, \n",
      "Class 4: 0.2439, Class 5: 0.2182, Class 6: 0.1801, \n",
      "Overall Mean Dice Score: 0.2831\n",
      "Overall Mean F-beta Score: 0.2445\n",
      "\n",
      "Training Loss: 0.6012, Validation Loss: 0.5815, Validation F-beta: 0.2445\n",
      "Epoch 82/4000\n",
      "Current lambda: 0.0500\n"
     ]
    },
    {
     "name": "stderr",
     "output_type": "stream",
     "text": [
      "Training: 100%|██████████| 24/24 [00:27<00:00,  1.13s/it, loss=0.629]\n",
      "Validation: 100%|██████████| 4/4 [00:02<00:00,  1.71it/s, loss=0.63] \n"
     ]
    },
    {
     "name": "stdout",
     "output_type": "stream",
     "text": [
      "Validation Dice Score\n",
      "Class 0: 0.6531, Class 1: 0.2845, Class 2: 0.0317, Class 3: 0.0014, \n",
      "Class 4: 0.2356, Class 5: 0.3369, Class 6: 0.3245, \n",
      "Validation F-beta Score\n",
      "Class 0: 0.5064, Class 1: 0.2244, Class 2: 0.0630, Class 3: 0.0109, \n",
      "Class 4: 0.2932, Class 5: 0.2661, Class 6: 0.2696, \n",
      "Overall Mean Dice Score: 0.2366\n",
      "Overall Mean F-beta Score: 0.2128\n",
      "\n",
      "Training Loss: 0.6085, Validation Loss: 0.6017, Validation F-beta: 0.2128\n",
      "Epoch 83/4000\n",
      "Current lambda: 0.0500\n"
     ]
    },
    {
     "name": "stderr",
     "output_type": "stream",
     "text": [
      "Training: 100%|██████████| 24/24 [00:23<00:00,  1.02it/s, loss=0.547]\n",
      "Validation: 100%|██████████| 4/4 [00:02<00:00,  1.69it/s, loss=0.62] \n"
     ]
    },
    {
     "name": "stdout",
     "output_type": "stream",
     "text": [
      "Validation Dice Score\n",
      "Class 0: 0.6623, Class 1: 0.4191, Class 2: 0.1181, Class 3: 0.0025, \n",
      "Class 4: 0.2208, Class 5: 0.2649, Class 6: 0.5620, \n",
      "Validation F-beta Score\n",
      "Class 0: 0.5149, Class 1: 0.4527, Class 2: 0.1582, Class 3: 0.0194, \n",
      "Class 4: 0.2875, Class 5: 0.2509, Class 6: 0.5104, \n",
      "Overall Mean Dice Score: 0.2938\n",
      "Overall Mean F-beta Score: 0.3042\n",
      "\n",
      "Training Loss: 0.6036, Validation Loss: 0.6192, Validation F-beta: 0.3042\n",
      "Epoch 84/4000\n",
      "Current lambda: 0.0500\n"
     ]
    },
    {
     "name": "stderr",
     "output_type": "stream",
     "text": [
      "Training: 100%|██████████| 24/24 [00:23<00:00,  1.01it/s, loss=0.524]\n",
      "Validation: 100%|██████████| 4/4 [00:02<00:00,  1.68it/s, loss=0.542]\n"
     ]
    },
    {
     "name": "stdout",
     "output_type": "stream",
     "text": [
      "Validation Dice Score\n",
      "Class 0: 0.6524, Class 1: 0.3603, Class 2: 0.1429, Class 3: 0.0015, \n",
      "Class 4: 0.2039, Class 5: 0.3181, Class 6: 0.4896, \n",
      "Validation F-beta Score\n",
      "Class 0: 0.5065, Class 1: 0.3010, Class 2: 0.1464, Class 3: 0.0118, \n",
      "Class 4: 0.2678, Class 5: 0.2331, Class 6: 0.3977, \n",
      "Overall Mean Dice Score: 0.2747\n",
      "Overall Mean F-beta Score: 0.2423\n",
      "\n",
      "Training Loss: 0.6017, Validation Loss: 0.5772, Validation F-beta: 0.2423\n",
      "========================================================\n",
      "Best model saved based on validation loss: 0.5772\n",
      "========================================================\n",
      "Epoch 85/4000\n",
      "Current lambda: 0.0500\n"
     ]
    },
    {
     "name": "stderr",
     "output_type": "stream",
     "text": [
      "Training: 100%|██████████| 24/24 [00:23<00:00,  1.01it/s, loss=0.632]\n",
      "Validation: 100%|██████████| 4/4 [00:02<00:00,  1.71it/s, loss=0.57] \n"
     ]
    },
    {
     "name": "stdout",
     "output_type": "stream",
     "text": [
      "Validation Dice Score\n",
      "Class 0: 0.6477, Class 1: 0.3500, Class 2: 0.0966, Class 3: 0.0019, \n",
      "Class 4: 0.4125, Class 5: 0.2357, Class 6: 0.6703, \n",
      "Validation F-beta Score\n",
      "Class 0: 0.5007, Class 1: 0.3192, Class 2: 0.0957, Class 3: 0.0146, \n",
      "Class 4: 0.4533, Class 5: 0.2160, Class 6: 0.6946, \n",
      "Overall Mean Dice Score: 0.3341\n",
      "Overall Mean F-beta Score: 0.3395\n",
      "\n",
      "Training Loss: 0.5978, Validation Loss: 0.5833, Validation F-beta: 0.3395\n",
      "Epoch 86/4000\n",
      "Current lambda: 0.0500\n"
     ]
    },
    {
     "name": "stderr",
     "output_type": "stream",
     "text": [
      "Training: 100%|██████████| 24/24 [00:23<00:00,  1.02it/s, loss=0.601]\n",
      "Validation: 100%|██████████| 4/4 [00:02<00:00,  1.68it/s, loss=0.524]\n"
     ]
    },
    {
     "name": "stdout",
     "output_type": "stream",
     "text": [
      "Validation Dice Score\n",
      "Class 0: 0.6583, Class 1: 0.3856, Class 2: 0.0032, Class 3: 0.0012, \n",
      "Class 4: 0.3735, Class 5: 0.3334, Class 6: 0.2869, \n",
      "Validation F-beta Score\n",
      "Class 0: 0.5126, Class 1: 0.3276, Class 2: 0.0023, Class 3: 0.0100, \n",
      "Class 4: 0.3163, Class 5: 0.2707, Class 6: 0.2641, \n",
      "Overall Mean Dice Score: 0.2762\n",
      "Overall Mean F-beta Score: 0.2377\n",
      "\n",
      "Training Loss: 0.5988, Validation Loss: 0.5934, Validation F-beta: 0.2377\n",
      "Epoch 87/4000\n",
      "Current lambda: 0.0500\n"
     ]
    },
    {
     "name": "stderr",
     "output_type": "stream",
     "text": [
      "Training: 100%|██████████| 24/24 [00:23<00:00,  1.01it/s, loss=0.653]\n",
      "Validation: 100%|██████████| 4/4 [00:02<00:00,  1.48it/s, loss=0.584]\n"
     ]
    },
    {
     "name": "stdout",
     "output_type": "stream",
     "text": [
      "Validation Dice Score\n",
      "Class 0: 0.6650, Class 1: 0.5922, Class 2: 0.0875, Class 3: 0.0009, \n",
      "Class 4: 0.2534, Class 5: 0.3532, Class 6: 0.3616, \n",
      "Validation F-beta Score\n",
      "Class 0: 0.5211, Class 1: 0.5069, Class 2: 0.1023, Class 3: 0.0069, \n",
      "Class 4: 0.1798, Class 5: 0.3470, Class 6: 0.2678, \n",
      "Overall Mean Dice Score: 0.3123\n",
      "Overall Mean F-beta Score: 0.2617\n",
      "\n",
      "Training Loss: 0.6027, Validation Loss: 0.5879, Validation F-beta: 0.2617\n",
      "Epoch 88/4000\n",
      "Current lambda: 0.0500\n"
     ]
    },
    {
     "name": "stderr",
     "output_type": "stream",
     "text": [
      "Training: 100%|██████████| 24/24 [00:24<00:00,  1.00s/it, loss=0.629]\n",
      "Validation: 100%|██████████| 4/4 [00:02<00:00,  1.69it/s, loss=0.613]\n"
     ]
    },
    {
     "name": "stdout",
     "output_type": "stream",
     "text": [
      "Validation Dice Score\n",
      "Class 0: 0.6553, Class 1: 0.6619, Class 2: 0.0141, Class 3: 0.0017, \n",
      "Class 4: 0.1896, Class 5: 0.2247, Class 6: 0.6001, \n",
      "Validation F-beta Score\n",
      "Class 0: 0.5121, Class 1: 0.5674, Class 2: 0.0213, Class 3: 0.0134, \n",
      "Class 4: 0.1259, Class 5: 0.1731, Class 6: 0.4691, \n",
      "Overall Mean Dice Score: 0.3356\n",
      "Overall Mean F-beta Score: 0.2698\n",
      "\n",
      "Training Loss: 0.6076, Validation Loss: 0.5985, Validation F-beta: 0.2698\n",
      "Validation loss did not improve. Reducing lambda to 0.0500\n",
      "Epoch 89/4000\n",
      "Current lambda: 0.0500\n"
     ]
    },
    {
     "name": "stderr",
     "output_type": "stream",
     "text": [
      "Training: 100%|██████████| 24/24 [00:23<00:00,  1.01it/s, loss=0.573]\n",
      "Validation: 100%|██████████| 4/4 [00:02<00:00,  1.72it/s, loss=0.581]\n"
     ]
    },
    {
     "name": "stdout",
     "output_type": "stream",
     "text": [
      "Validation Dice Score\n",
      "Class 0: 0.6636, Class 1: 0.5073, Class 2: 0.0483, Class 3: 0.0016, \n",
      "Class 4: 0.3082, Class 5: 0.2297, Class 6: 0.7210, \n",
      "Validation F-beta Score\n",
      "Class 0: 0.5170, Class 1: 0.4238, Class 2: 0.0571, Class 3: 0.0121, \n",
      "Class 4: 0.2516, Class 5: 0.2313, Class 6: 0.7711, \n",
      "Overall Mean Dice Score: 0.3536\n",
      "Overall Mean F-beta Score: 0.3380\n",
      "\n",
      "Training Loss: 0.6047, Validation Loss: 0.5851, Validation F-beta: 0.3380\n",
      "Epoch 90/4000\n",
      "Current lambda: 0.0500\n"
     ]
    },
    {
     "name": "stderr",
     "output_type": "stream",
     "text": [
      "Training: 100%|██████████| 24/24 [00:23<00:00,  1.01it/s, loss=0.605]\n",
      "Validation: 100%|██████████| 4/4 [00:02<00:00,  1.66it/s, loss=0.584]\n"
     ]
    },
    {
     "name": "stdout",
     "output_type": "stream",
     "text": [
      "Validation Dice Score\n",
      "Class 0: 0.6464, Class 1: 0.5149, Class 2: 0.0028, Class 3: 0.0034, \n",
      "Class 4: 0.3270, Class 5: 0.2684, Class 6: 0.3764, \n",
      "Validation F-beta Score\n",
      "Class 0: 0.5035, Class 1: 0.3836, Class 2: 0.0047, Class 3: 0.0261, \n",
      "Class 4: 0.2472, Class 5: 0.2081, Class 6: 0.3116, \n",
      "Overall Mean Dice Score: 0.2980\n",
      "Overall Mean F-beta Score: 0.2353\n",
      "\n",
      "Training Loss: 0.5982, Validation Loss: 0.5849, Validation F-beta: 0.2353\n",
      "Epoch 91/4000\n",
      "Current lambda: 0.0500\n"
     ]
    },
    {
     "name": "stderr",
     "output_type": "stream",
     "text": [
      "Training: 100%|██████████| 24/24 [00:23<00:00,  1.01it/s, loss=0.602]\n",
      "Validation: 100%|██████████| 4/4 [00:02<00:00,  1.71it/s, loss=0.64] \n"
     ]
    },
    {
     "name": "stdout",
     "output_type": "stream",
     "text": [
      "Validation Dice Score\n",
      "Class 0: 0.6606, Class 1: 0.3776, Class 2: 0.0556, Class 3: 0.0013, \n",
      "Class 4: 0.2365, Class 5: 0.3071, Class 6: 0.3720, \n",
      "Validation F-beta Score\n",
      "Class 0: 0.5144, Class 1: 0.3443, Class 2: 0.0757, Class 3: 0.0104, \n",
      "Class 4: 0.2263, Class 5: 0.2455, Class 6: 0.3674, \n",
      "Overall Mean Dice Score: 0.2589\n",
      "Overall Mean F-beta Score: 0.2388\n",
      "\n",
      "Training Loss: 0.5865, Validation Loss: 0.6098, Validation F-beta: 0.2388\n",
      "Epoch 92/4000\n",
      "Current lambda: 0.0500\n"
     ]
    },
    {
     "name": "stderr",
     "output_type": "stream",
     "text": [
      "Training: 100%|██████████| 24/24 [00:23<00:00,  1.00it/s, loss=0.609]\n",
      "Validation: 100%|██████████| 4/4 [00:02<00:00,  1.70it/s, loss=0.579]\n"
     ]
    },
    {
     "name": "stdout",
     "output_type": "stream",
     "text": [
      "Validation Dice Score\n",
      "Class 0: 0.6584, Class 1: 0.2518, Class 2: 0.0707, Class 3: 0.0012, \n",
      "Class 4: 0.2595, Class 5: 0.3364, Class 6: 0.3080, \n",
      "Validation F-beta Score\n",
      "Class 0: 0.5139, Class 1: 0.3068, Class 2: 0.1221, Class 3: 0.0099, \n",
      "Class 4: 0.2205, Class 5: 0.2790, Class 6: 0.3312, \n",
      "Overall Mean Dice Score: 0.2314\n",
      "Overall Mean F-beta Score: 0.2294\n",
      "\n",
      "Training Loss: 0.6029, Validation Loss: 0.6078, Validation F-beta: 0.2294\n",
      "Epoch 93/4000\n",
      "Current lambda: 0.0500\n"
     ]
    },
    {
     "name": "stderr",
     "output_type": "stream",
     "text": [
      "Training: 100%|██████████| 24/24 [00:25<00:00,  1.05s/it, loss=0.605]\n",
      "Validation: 100%|██████████| 4/4 [00:02<00:00,  1.65it/s, loss=0.648]\n"
     ]
    },
    {
     "name": "stdout",
     "output_type": "stream",
     "text": [
      "Validation Dice Score\n",
      "Class 0: 0.6524, Class 1: 0.5074, Class 2: 0.0808, Class 3: 0.0012, \n",
      "Class 4: 0.3228, Class 5: 0.3010, Class 6: 0.5352, \n",
      "Validation F-beta Score\n",
      "Class 0: 0.5059, Class 1: 0.4194, Class 2: 0.0579, Class 3: 0.0094, \n",
      "Class 4: 0.2999, Class 5: 0.2521, Class 6: 0.4882, \n",
      "Overall Mean Dice Score: 0.3335\n",
      "Overall Mean F-beta Score: 0.2938\n",
      "\n",
      "Training Loss: 0.5986, Validation Loss: 0.6040, Validation F-beta: 0.2938\n",
      "Validation loss did not improve. Reducing lambda to 0.0500\n",
      "Epoch 94/4000\n",
      "Current lambda: 0.0500\n"
     ]
    },
    {
     "name": "stderr",
     "output_type": "stream",
     "text": [
      "Training: 100%|██████████| 24/24 [00:24<00:00,  1.01s/it, loss=0.571]\n",
      "Validation: 100%|██████████| 4/4 [00:02<00:00,  1.65it/s, loss=0.59] \n"
     ]
    },
    {
     "name": "stdout",
     "output_type": "stream",
     "text": [
      "Validation Dice Score\n",
      "Class 0: 0.6574, Class 1: 0.3997, Class 2: 0.0372, Class 3: 0.0012, \n",
      "Class 4: 0.2802, Class 5: 0.3432, Class 6: 0.6585, \n",
      "Validation F-beta Score\n",
      "Class 0: 0.5105, Class 1: 0.2867, Class 2: 0.0462, Class 3: 0.0090, \n",
      "Class 4: 0.2713, Class 5: 0.2982, Class 6: 0.5585, \n",
      "Overall Mean Dice Score: 0.3366\n",
      "Overall Mean F-beta Score: 0.2847\n",
      "\n",
      "Training Loss: 0.5967, Validation Loss: 0.5687, Validation F-beta: 0.2847\n",
      "========================================================\n",
      "Best model saved based on validation loss: 0.5687\n",
      "========================================================\n",
      "Epoch 95/4000\n",
      "Current lambda: 0.0500\n"
     ]
    },
    {
     "name": "stderr",
     "output_type": "stream",
     "text": [
      "Training: 100%|██████████| 24/24 [00:24<00:00,  1.00s/it, loss=0.6]  \n",
      "Validation: 100%|██████████| 4/4 [00:02<00:00,  1.76it/s, loss=0.568]\n"
     ]
    },
    {
     "name": "stdout",
     "output_type": "stream",
     "text": [
      "Validation Dice Score\n",
      "Class 0: 0.6537, Class 1: 0.5440, Class 2: 0.0285, Class 3: 0.0023, \n",
      "Class 4: 0.2207, Class 5: 0.2599, Class 6: 0.4078, \n",
      "Validation F-beta Score\n",
      "Class 0: 0.5091, Class 1: 0.4582, Class 2: 0.0296, Class 3: 0.0178, \n",
      "Class 4: 0.1464, Class 5: 0.1898, Class 6: 0.3074, \n",
      "Overall Mean Dice Score: 0.2869\n",
      "Overall Mean F-beta Score: 0.2239\n",
      "\n",
      "Training Loss: 0.6045, Validation Loss: 0.5804, Validation F-beta: 0.2239\n",
      "Epoch 96/4000\n",
      "Current lambda: 0.0500\n"
     ]
    },
    {
     "name": "stderr",
     "output_type": "stream",
     "text": [
      "Training: 100%|██████████| 24/24 [00:24<00:00,  1.01s/it, loss=0.582]\n",
      "Validation: 100%|██████████| 4/4 [00:02<00:00,  1.73it/s, loss=0.558]\n"
     ]
    },
    {
     "name": "stdout",
     "output_type": "stream",
     "text": [
      "Validation Dice Score\n",
      "Class 0: 0.6421, Class 1: 0.5105, Class 2: 0.0169, Class 3: 0.0016, \n",
      "Class 4: 0.2938, Class 5: 0.1364, Class 6: 0.6797, \n",
      "Validation F-beta Score\n",
      "Class 0: 0.4966, Class 1: 0.3968, Class 2: 0.0160, Class 3: 0.0124, \n",
      "Class 4: 0.1969, Class 5: 0.1075, Class 6: 0.6910, \n",
      "Overall Mean Dice Score: 0.3244\n",
      "Overall Mean F-beta Score: 0.2809\n",
      "\n",
      "Training Loss: 0.6062, Validation Loss: 0.6007, Validation F-beta: 0.2809\n",
      "Epoch 97/4000\n",
      "Current lambda: 0.0500\n"
     ]
    },
    {
     "name": "stderr",
     "output_type": "stream",
     "text": [
      "Training: 100%|██████████| 24/24 [00:23<00:00,  1.00it/s, loss=0.578]\n",
      "Validation: 100%|██████████| 4/4 [00:02<00:00,  1.71it/s, loss=0.591]\n"
     ]
    },
    {
     "name": "stdout",
     "output_type": "stream",
     "text": [
      "Validation Dice Score\n",
      "Class 0: 0.6601, Class 1: 0.6007, Class 2: 0.0392, Class 3: 0.0037, \n",
      "Class 4: 0.4296, Class 5: 0.3068, Class 6: 0.4809, \n",
      "Validation F-beta Score\n",
      "Class 0: 0.5130, Class 1: 0.5204, Class 2: 0.0685, Class 3: 0.0280, \n",
      "Class 4: 0.4587, Class 5: 0.3006, Class 6: 0.4064, \n",
      "Overall Mean Dice Score: 0.3643\n",
      "Overall Mean F-beta Score: 0.3428\n",
      "\n",
      "Training Loss: 0.5965, Validation Loss: 0.5905, Validation F-beta: 0.3428\n",
      "Epoch 98/4000\n",
      "Current lambda: 0.0500\n"
     ]
    },
    {
     "name": "stderr",
     "output_type": "stream",
     "text": [
      "Training: 100%|██████████| 24/24 [00:24<00:00,  1.00s/it, loss=0.56] \n",
      "Validation: 100%|██████████| 4/4 [00:02<00:00,  1.71it/s, loss=0.594]\n"
     ]
    },
    {
     "name": "stdout",
     "output_type": "stream",
     "text": [
      "Validation Dice Score\n",
      "Class 0: 0.6468, Class 1: 0.6368, Class 2: 0.0678, Class 3: 0.0027, \n",
      "Class 4: 0.2910, Class 5: 0.2937, Class 6: 0.6786, \n",
      "Validation F-beta Score\n",
      "Class 0: 0.5036, Class 1: 0.6265, Class 2: 0.1018, Class 3: 0.0200, \n",
      "Class 4: 0.1965, Class 5: 0.2377, Class 6: 0.7079, \n",
      "Overall Mean Dice Score: 0.3806\n",
      "Overall Mean F-beta Score: 0.3577\n",
      "\n",
      "Training Loss: 0.5967, Validation Loss: 0.5810, Validation F-beta: 0.3577\n",
      "Validation loss did not improve. Reducing lambda to 0.0500\n",
      "Epoch 99/4000\n",
      "Current lambda: 0.0500\n"
     ]
    },
    {
     "name": "stderr",
     "output_type": "stream",
     "text": [
      "Training: 100%|██████████| 24/24 [00:23<00:00,  1.01it/s, loss=0.623]\n",
      "Validation: 100%|██████████| 4/4 [00:02<00:00,  1.67it/s, loss=0.614]\n"
     ]
    },
    {
     "name": "stdout",
     "output_type": "stream",
     "text": [
      "Validation Dice Score\n",
      "Class 0: 0.6524, Class 1: 0.4582, Class 2: 0.0594, Class 3: 0.0027, \n",
      "Class 4: 0.4036, Class 5: 0.3059, Class 6: 0.5194, \n",
      "Validation F-beta Score\n",
      "Class 0: 0.5066, Class 1: 0.3386, Class 2: 0.0621, Class 3: 0.0207, \n",
      "Class 4: 0.3807, Class 5: 0.2583, Class 6: 0.4515, \n",
      "Overall Mean Dice Score: 0.3380\n",
      "Overall Mean F-beta Score: 0.2899\n",
      "\n",
      "Training Loss: 0.5924, Validation Loss: 0.5875, Validation F-beta: 0.2899\n",
      "Epoch 100/4000\n",
      "Current lambda: 0.0500\n"
     ]
    },
    {
     "name": "stderr",
     "output_type": "stream",
     "text": [
      "Training: 100%|██████████| 24/24 [00:24<00:00,  1.03s/it, loss=0.61] \n",
      "Validation: 100%|██████████| 4/4 [00:02<00:00,  1.64it/s, loss=0.635]\n"
     ]
    },
    {
     "name": "stdout",
     "output_type": "stream",
     "text": [
      "Validation Dice Score\n",
      "Class 0: 0.6485, Class 1: 0.4954, Class 2: 0.0413, Class 3: 0.0029, \n",
      "Class 4: 0.3830, Class 5: 0.2457, Class 6: 0.6011, \n",
      "Validation F-beta Score\n",
      "Class 0: 0.5019, Class 1: 0.3812, Class 2: 0.0444, Class 3: 0.0218, \n",
      "Class 4: 0.3489, Class 5: 0.2201, Class 6: 0.5157, \n",
      "Overall Mean Dice Score: 0.3456\n",
      "Overall Mean F-beta Score: 0.2975\n",
      "\n",
      "Training Loss: 0.5995, Validation Loss: 0.5889, Validation F-beta: 0.2975\n",
      "Epoch 101/4000\n",
      "Current lambda: 0.0500\n"
     ]
    },
    {
     "name": "stderr",
     "output_type": "stream",
     "text": [
      "Training: 100%|██████████| 24/24 [00:24<00:00,  1.03s/it, loss=0.6]  \n",
      "Validation: 100%|██████████| 4/4 [00:02<00:00,  1.73it/s, loss=0.528]\n"
     ]
    },
    {
     "name": "stdout",
     "output_type": "stream",
     "text": [
      "Validation Dice Score\n",
      "Class 0: 0.6489, Class 1: 0.5909, Class 2: 0.0000, Class 3: 0.0011, \n",
      "Class 4: 0.2594, Class 5: 0.3419, Class 6: 0.5234, \n",
      "Validation F-beta Score\n",
      "Class 0: 0.5033, Class 1: 0.5730, Class 2: 0.0000, Class 3: 0.0085, \n",
      "Class 4: 0.1804, Class 5: 0.3070, Class 6: 0.4429, \n",
      "Overall Mean Dice Score: 0.3434\n",
      "Overall Mean F-beta Score: 0.3024\n",
      "\n",
      "Training Loss: 0.5940, Validation Loss: 0.5695, Validation F-beta: 0.3024\n",
      "Epoch 102/4000\n",
      "Current lambda: 0.0500\n"
     ]
    },
    {
     "name": "stderr",
     "output_type": "stream",
     "text": [
      "Training: 100%|██████████| 24/24 [00:23<00:00,  1.00it/s, loss=0.583]\n",
      "Validation: 100%|██████████| 4/4 [00:02<00:00,  1.71it/s, loss=0.608]\n"
     ]
    },
    {
     "name": "stdout",
     "output_type": "stream",
     "text": [
      "Validation Dice Score\n",
      "Class 0: 0.6454, Class 1: 0.5222, Class 2: 0.0763, Class 3: 0.0020, \n",
      "Class 4: 0.3398, Class 5: 0.2114, Class 6: 0.4696, \n",
      "Validation F-beta Score\n",
      "Class 0: 0.5016, Class 1: 0.4563, Class 2: 0.0677, Class 3: 0.0148, \n",
      "Class 4: 0.3188, Class 5: 0.1595, Class 6: 0.3873, \n",
      "Overall Mean Dice Score: 0.3090\n",
      "Overall Mean F-beta Score: 0.2673\n",
      "\n",
      "Training Loss: 0.6013, Validation Loss: 0.5967, Validation F-beta: 0.2673\n",
      "Epoch 103/4000\n",
      "Current lambda: 0.0500\n"
     ]
    },
    {
     "name": "stderr",
     "output_type": "stream",
     "text": [
      "Training: 100%|██████████| 24/24 [00:24<00:00,  1.00s/it, loss=0.6]  \n",
      "Validation: 100%|██████████| 4/4 [00:02<00:00,  1.70it/s, loss=0.581]\n"
     ]
    },
    {
     "name": "stdout",
     "output_type": "stream",
     "text": [
      "Validation Dice Score\n",
      "Class 0: 0.6489, Class 1: 0.5195, Class 2: 0.0238, Class 3: 0.0016, \n",
      "Class 4: 0.3628, Class 5: 0.2899, Class 6: 0.3874, \n",
      "Validation F-beta Score\n",
      "Class 0: 0.5026, Class 1: 0.5421, Class 2: 0.0670, Class 3: 0.0122, \n",
      "Class 4: 0.2794, Class 5: 0.2510, Class 6: 0.2967, \n",
      "Overall Mean Dice Score: 0.3123\n",
      "Overall Mean F-beta Score: 0.2763\n",
      "\n",
      "Training Loss: 0.6099, Validation Loss: 0.5970, Validation F-beta: 0.2763\n",
      "Validation loss did not improve. Reducing lambda to 0.0500\n",
      "Epoch 104/4000\n",
      "Current lambda: 0.0500\n"
     ]
    },
    {
     "name": "stderr",
     "output_type": "stream",
     "text": [
      "Training: 100%|██████████| 24/24 [00:23<00:00,  1.01it/s, loss=0.624]\n",
      "Validation: 100%|██████████| 4/4 [00:02<00:00,  1.72it/s, loss=0.606]\n"
     ]
    },
    {
     "name": "stdout",
     "output_type": "stream",
     "text": [
      "Validation Dice Score\n",
      "Class 0: 0.6354, Class 1: 0.5591, Class 2: 0.0039, Class 3: 0.0020, \n",
      "Class 4: 0.2858, Class 5: 0.1780, Class 6: 0.4973, \n",
      "Validation F-beta Score\n",
      "Class 0: 0.4925, Class 1: 0.4357, Class 2: 0.0043, Class 3: 0.0154, \n",
      "Class 4: 0.1896, Class 5: 0.1508, Class 6: 0.4116, \n",
      "Overall Mean Dice Score: 0.3044\n",
      "Overall Mean F-beta Score: 0.2406\n",
      "\n",
      "Training Loss: 0.6051, Validation Loss: 0.6022, Validation F-beta: 0.2406\n",
      "Epoch 105/4000\n",
      "Current lambda: 0.0500\n"
     ]
    },
    {
     "name": "stderr",
     "output_type": "stream",
     "text": [
      "Training: 100%|██████████| 24/24 [00:24<00:00,  1.00s/it, loss=0.572]\n",
      "Validation: 100%|██████████| 4/4 [00:02<00:00,  1.71it/s, loss=0.583]\n"
     ]
    },
    {
     "name": "stdout",
     "output_type": "stream",
     "text": [
      "Validation Dice Score\n",
      "Class 0: 0.6476, Class 1: 0.1902, Class 2: 0.0374, Class 3: 0.0012, \n",
      "Class 4: 0.4142, Class 5: 0.3770, Class 6: 0.7218, \n",
      "Validation F-beta Score\n",
      "Class 0: 0.5016, Class 1: 0.1644, Class 2: 0.0259, Class 3: 0.0093, \n",
      "Class 4: 0.3174, Class 5: 0.3094, Class 6: 0.6596, \n",
      "Overall Mean Dice Score: 0.3409\n",
      "Overall Mean F-beta Score: 0.2920\n",
      "\n",
      "Training Loss: 0.5923, Validation Loss: 0.5748, Validation F-beta: 0.2920\n",
      "Epoch 106/4000\n",
      "Current lambda: 0.0500\n"
     ]
    },
    {
     "name": "stderr",
     "output_type": "stream",
     "text": [
      "Training: 100%|██████████| 24/24 [00:23<00:00,  1.01it/s, loss=0.647]\n",
      "Validation: 100%|██████████| 4/4 [00:02<00:00,  1.70it/s, loss=0.567]\n"
     ]
    },
    {
     "name": "stdout",
     "output_type": "stream",
     "text": [
      "Validation Dice Score\n",
      "Class 0: 0.6531, Class 1: 0.4206, Class 2: 0.0872, Class 3: 0.0011, \n",
      "Class 4: 0.2599, Class 5: 0.3246, Class 6: 0.6197, \n",
      "Validation F-beta Score\n",
      "Class 0: 0.5068, Class 1: 0.3487, Class 2: 0.0860, Class 3: 0.0090, \n",
      "Class 4: 0.1802, Class 5: 0.3344, Class 6: 0.4832, \n",
      "Overall Mean Dice Score: 0.3252\n",
      "Overall Mean F-beta Score: 0.2711\n",
      "\n",
      "Training Loss: 0.5965, Validation Loss: 0.5873, Validation F-beta: 0.2711\n",
      "Epoch 107/4000\n",
      "Current lambda: 0.0500\n"
     ]
    },
    {
     "name": "stderr",
     "output_type": "stream",
     "text": [
      "Training: 100%|██████████| 24/24 [00:23<00:00,  1.01it/s, loss=0.625]\n",
      "Validation: 100%|██████████| 4/4 [00:02<00:00,  1.70it/s, loss=0.587]\n"
     ]
    },
    {
     "name": "stdout",
     "output_type": "stream",
     "text": [
      "Validation Dice Score\n",
      "Class 0: 0.6510, Class 1: 0.5143, Class 2: 0.1011, Class 3: 0.0010, \n",
      "Class 4: 0.2774, Class 5: 0.2639, Class 6: 0.6840, \n",
      "Validation F-beta Score\n",
      "Class 0: 0.5048, Class 1: 0.4312, Class 2: 0.1529, Class 3: 0.0079, \n",
      "Class 4: 0.2041, Class 5: 0.2819, Class 6: 0.7175, \n",
      "Overall Mean Dice Score: 0.3481\n",
      "Overall Mean F-beta Score: 0.3285\n",
      "\n",
      "Training Loss: 0.5911, Validation Loss: 0.5914, Validation F-beta: 0.3285\n",
      "Epoch 108/4000\n",
      "Current lambda: 0.0500\n"
     ]
    },
    {
     "name": "stderr",
     "output_type": "stream",
     "text": [
      "Training: 100%|██████████| 24/24 [00:23<00:00,  1.01it/s, loss=0.542]\n",
      "Validation: 100%|██████████| 4/4 [00:02<00:00,  1.73it/s, loss=0.629]\n"
     ]
    },
    {
     "name": "stdout",
     "output_type": "stream",
     "text": [
      "Validation Dice Score\n",
      "Class 0: 0.6520, Class 1: 0.4936, Class 2: 0.0592, Class 3: 0.0023, \n",
      "Class 4: 0.5626, Class 5: 0.2876, Class 6: 0.5356, \n",
      "Validation F-beta Score\n",
      "Class 0: 0.5050, Class 1: 0.4696, Class 2: 0.0440, Class 3: 0.0174, \n",
      "Class 4: 0.5261, Class 5: 0.2654, Class 6: 0.4423, \n",
      "Overall Mean Dice Score: 0.3763\n",
      "Overall Mean F-beta Score: 0.3442\n",
      "\n",
      "Training Loss: 0.5994, Validation Loss: 0.5710, Validation F-beta: 0.3442\n",
      "Validation loss did not improve. Reducing lambda to 0.0500\n",
      "Epoch 109/4000\n",
      "Current lambda: 0.0500\n"
     ]
    },
    {
     "name": "stderr",
     "output_type": "stream",
     "text": [
      "Training: 100%|██████████| 24/24 [00:23<00:00,  1.02it/s, loss=0.583]\n",
      "Validation: 100%|██████████| 4/4 [00:02<00:00,  1.72it/s, loss=0.541]\n"
     ]
    },
    {
     "name": "stdout",
     "output_type": "stream",
     "text": [
      "Validation Dice Score\n",
      "Class 0: 0.6563, Class 1: 0.4849, Class 2: 0.0378, Class 3: 0.0029, \n",
      "Class 4: 0.4491, Class 5: 0.1720, Class 6: 0.2544, \n",
      "Validation F-beta Score\n",
      "Class 0: 0.5097, Class 1: 0.3809, Class 2: 0.0546, Class 3: 0.0221, \n",
      "Class 4: 0.3886, Class 5: 0.1535, Class 6: 0.2282, \n",
      "Overall Mean Dice Score: 0.2727\n",
      "Overall Mean F-beta Score: 0.2347\n",
      "\n",
      "Training Loss: 0.5977, Validation Loss: 0.5978, Validation F-beta: 0.2347\n",
      "Epoch 110/4000\n",
      "Current lambda: 0.0500\n"
     ]
    },
    {
     "name": "stderr",
     "output_type": "stream",
     "text": [
      "Training: 100%|██████████| 24/24 [00:23<00:00,  1.02it/s, loss=0.627]\n",
      "Validation: 100%|██████████| 4/4 [00:02<00:00,  1.73it/s, loss=0.656]\n"
     ]
    },
    {
     "name": "stdout",
     "output_type": "stream",
     "text": [
      "Validation Dice Score\n",
      "Class 0: 0.6517, Class 1: 0.2262, Class 2: 0.0967, Class 3: 0.0011, \n",
      "Class 4: 0.2633, Class 5: 0.3694, Class 6: 0.4472, \n",
      "Validation F-beta Score\n",
      "Class 0: 0.5056, Class 1: 0.2177, Class 2: 0.0829, Class 3: 0.0089, \n",
      "Class 4: 0.1785, Class 5: 0.3578, Class 6: 0.5350, \n",
      "Overall Mean Dice Score: 0.2614\n",
      "Overall Mean F-beta Score: 0.2596\n",
      "\n",
      "Training Loss: 0.5968, Validation Loss: 0.5963, Validation F-beta: 0.2596\n",
      "Epoch 111/4000\n",
      "Current lambda: 0.0500\n"
     ]
    },
    {
     "name": "stderr",
     "output_type": "stream",
     "text": [
      "Training: 100%|██████████| 24/24 [00:23<00:00,  1.02it/s, loss=0.608]\n",
      "Validation: 100%|██████████| 4/4 [00:02<00:00,  1.73it/s, loss=0.614]\n"
     ]
    },
    {
     "name": "stdout",
     "output_type": "stream",
     "text": [
      "Validation Dice Score\n",
      "Class 0: 0.6555, Class 1: 0.4912, Class 2: 0.0799, Class 3: 0.0012, \n",
      "Class 4: 0.4000, Class 5: 0.2368, Class 6: 0.4876, \n",
      "Validation F-beta Score\n",
      "Class 0: 0.5099, Class 1: 0.4832, Class 2: 0.0573, Class 3: 0.0095, \n",
      "Class 4: 0.3659, Class 5: 0.1821, Class 6: 0.4077, \n",
      "Overall Mean Dice Score: 0.3233\n",
      "Overall Mean F-beta Score: 0.2897\n",
      "\n",
      "Training Loss: 0.5964, Validation Loss: 0.5955, Validation F-beta: 0.2897\n",
      "Epoch 112/4000\n",
      "Current lambda: 0.0500\n"
     ]
    },
    {
     "name": "stderr",
     "output_type": "stream",
     "text": [
      "Training: 100%|██████████| 24/24 [00:23<00:00,  1.02it/s, loss=0.594]\n",
      "Validation: 100%|██████████| 4/4 [00:02<00:00,  1.76it/s, loss=0.608]\n"
     ]
    },
    {
     "name": "stdout",
     "output_type": "stream",
     "text": [
      "Validation Dice Score\n",
      "Class 0: 0.6638, Class 1: 0.5406, Class 2: 0.0706, Class 3: 0.0022, \n",
      "Class 4: 0.4765, Class 5: 0.2209, Class 6: 0.5080, \n",
      "Validation F-beta Score\n",
      "Class 0: 0.5163, Class 1: 0.4462, Class 2: 0.0668, Class 3: 0.0173, \n",
      "Class 4: 0.6404, Class 5: 0.1977, Class 6: 0.4808, \n",
      "Overall Mean Dice Score: 0.3496\n",
      "Overall Mean F-beta Score: 0.3565\n",
      "\n",
      "Training Loss: 0.5962, Validation Loss: 0.5942, Validation F-beta: 0.3565\n",
      "Epoch 113/4000\n",
      "Current lambda: 0.0500\n"
     ]
    },
    {
     "name": "stderr",
     "output_type": "stream",
     "text": [
      "Training: 100%|██████████| 24/24 [00:23<00:00,  1.04it/s, loss=0.563]\n",
      "Validation: 100%|██████████| 4/4 [00:02<00:00,  1.74it/s, loss=0.592]\n"
     ]
    },
    {
     "name": "stdout",
     "output_type": "stream",
     "text": [
      "Validation Dice Score\n",
      "Class 0: 0.6602, Class 1: 0.5556, Class 2: 0.0875, Class 3: 0.0014, \n",
      "Class 4: 0.3424, Class 5: 0.3544, Class 6: 0.6120, \n",
      "Validation F-beta Score\n",
      "Class 0: 0.5129, Class 1: 0.4526, Class 2: 0.2157, Class 3: 0.0111, \n",
      "Class 4: 0.2606, Class 5: 0.3253, Class 6: 0.6819, \n",
      "Overall Mean Dice Score: 0.3732\n",
      "Overall Mean F-beta Score: 0.3463\n",
      "\n",
      "Training Loss: 0.5927, Validation Loss: 0.5897, Validation F-beta: 0.3463\n",
      "Validation loss did not improve. Reducing lambda to 0.0500\n",
      "Epoch 114/4000\n",
      "Current lambda: 0.0500\n"
     ]
    },
    {
     "name": "stderr",
     "output_type": "stream",
     "text": [
      "Training: 100%|██████████| 24/24 [00:23<00:00,  1.03it/s, loss=0.582]\n",
      "Validation: 100%|██████████| 4/4 [00:02<00:00,  1.72it/s, loss=0.571]\n"
     ]
    },
    {
     "name": "stdout",
     "output_type": "stream",
     "text": [
      "Validation Dice Score\n",
      "Class 0: 0.6443, Class 1: 0.4633, Class 2: 0.0797, Class 3: 0.0022, \n",
      "Class 4: 0.3895, Class 5: 0.1889, Class 6: 0.6168, \n",
      "Validation F-beta Score\n",
      "Class 0: 0.4975, Class 1: 0.3953, Class 2: 0.0938, Class 3: 0.0173, \n",
      "Class 4: 0.3758, Class 5: 0.1369, Class 6: 0.6098, \n",
      "Overall Mean Dice Score: 0.3321\n",
      "Overall Mean F-beta Score: 0.3070\n",
      "\n",
      "Training Loss: 0.5840, Validation Loss: 0.5848, Validation F-beta: 0.3070\n",
      "Epoch 115/4000\n",
      "Current lambda: 0.0500\n"
     ]
    },
    {
     "name": "stderr",
     "output_type": "stream",
     "text": [
      "Training: 100%|██████████| 24/24 [00:23<00:00,  1.02it/s, loss=0.632]\n",
      "Validation: 100%|██████████| 4/4 [00:02<00:00,  1.73it/s, loss=0.59] \n"
     ]
    },
    {
     "name": "stdout",
     "output_type": "stream",
     "text": [
      "Validation Dice Score\n",
      "Class 0: 0.6521, Class 1: 0.3164, Class 2: 0.0919, Class 3: 0.0021, \n",
      "Class 4: 0.2985, Class 5: 0.4107, Class 6: 0.3708, \n",
      "Validation F-beta Score\n",
      "Class 0: 0.5040, Class 1: 0.2307, Class 2: 0.1036, Class 3: 0.0162, \n",
      "Class 4: 0.3155, Class 5: 0.3636, Class 6: 0.4127, \n",
      "Overall Mean Dice Score: 0.2797\n",
      "Overall Mean F-beta Score: 0.2677\n",
      "\n",
      "Training Loss: 0.5946, Validation Loss: 0.5883, Validation F-beta: 0.2677\n",
      "Epoch 116/4000\n",
      "Current lambda: 0.0500\n"
     ]
    },
    {
     "name": "stderr",
     "output_type": "stream",
     "text": [
      "Training: 100%|██████████| 24/24 [00:23<00:00,  1.03it/s, loss=0.607]\n",
      "Validation: 100%|██████████| 4/4 [00:02<00:00,  1.73it/s, loss=0.621]\n"
     ]
    },
    {
     "name": "stdout",
     "output_type": "stream",
     "text": [
      "Validation Dice Score\n",
      "Class 0: 0.6464, Class 1: 0.4860, Class 2: 0.0117, Class 3: 0.0024, \n",
      "Class 4: 0.4650, Class 5: 0.2836, Class 6: 0.6618, \n",
      "Validation F-beta Score\n",
      "Class 0: 0.5008, Class 1: 0.4672, Class 2: 0.0065, Class 3: 0.0184, \n",
      "Class 4: 0.3923, Class 5: 0.2208, Class 6: 0.5620, \n",
      "Overall Mean Dice Score: 0.3798\n",
      "Overall Mean F-beta Score: 0.3321\n",
      "\n",
      "Training Loss: 0.5950, Validation Loss: 0.5672, Validation F-beta: 0.3321\n",
      "========================================================\n",
      "Best model saved based on validation loss: 0.5672\n",
      "========================================================\n",
      "Epoch 117/4000\n",
      "Current lambda: 0.0500\n"
     ]
    },
    {
     "name": "stderr",
     "output_type": "stream",
     "text": [
      "Training: 100%|██████████| 24/24 [00:23<00:00,  1.03it/s, loss=0.59] \n",
      "Validation: 100%|██████████| 4/4 [00:02<00:00,  1.72it/s, loss=0.61] \n"
     ]
    },
    {
     "name": "stdout",
     "output_type": "stream",
     "text": [
      "Validation Dice Score\n",
      "Class 0: 0.6452, Class 1: 0.4988, Class 2: 0.0299, Class 3: 0.0021, \n",
      "Class 4: 0.2136, Class 5: 0.2850, Class 6: 0.5703, \n",
      "Validation F-beta Score\n",
      "Class 0: 0.4991, Class 1: 0.3726, Class 2: 0.0273, Class 3: 0.0163, \n",
      "Class 4: 0.1936, Class 5: 0.2359, Class 6: 0.4352, \n",
      "Overall Mean Dice Score: 0.3140\n",
      "Overall Mean F-beta Score: 0.2507\n",
      "\n",
      "Training Loss: 0.6091, Validation Loss: 0.6017, Validation F-beta: 0.2507\n",
      "Epoch 118/4000\n",
      "Current lambda: 0.0500\n"
     ]
    },
    {
     "name": "stderr",
     "output_type": "stream",
     "text": [
      "Training: 100%|██████████| 24/24 [00:23<00:00,  1.03it/s, loss=0.553]\n",
      "Validation: 100%|██████████| 4/4 [00:02<00:00,  1.73it/s, loss=0.524]\n"
     ]
    },
    {
     "name": "stdout",
     "output_type": "stream",
     "text": [
      "Validation Dice Score\n",
      "Class 0: 0.6433, Class 1: 0.4074, Class 2: 0.0343, Class 3: 0.0019, \n",
      "Class 4: 0.3605, Class 5: 0.3847, Class 6: 0.4539, \n",
      "Validation F-beta Score\n",
      "Class 0: 0.4959, Class 1: 0.3178, Class 2: 0.0262, Class 3: 0.0144, \n",
      "Class 4: 0.2819, Class 5: 0.2972, Class 6: 0.4086, \n",
      "Overall Mean Dice Score: 0.3217\n",
      "Overall Mean F-beta Score: 0.2640\n",
      "\n",
      "Training Loss: 0.5933, Validation Loss: 0.5585, Validation F-beta: 0.2640\n",
      "========================================================\n",
      "Best model saved based on validation loss: 0.5585\n",
      "========================================================\n",
      "Epoch 119/4000\n",
      "Current lambda: 0.0500\n"
     ]
    },
    {
     "name": "stderr",
     "output_type": "stream",
     "text": [
      "Training: 100%|██████████| 24/24 [00:23<00:00,  1.02it/s, loss=0.595]\n",
      "Validation: 100%|██████████| 4/4 [00:02<00:00,  1.73it/s, loss=0.534]\n"
     ]
    },
    {
     "name": "stdout",
     "output_type": "stream",
     "text": [
      "Validation Dice Score\n",
      "Class 0: 0.6555, Class 1: 0.5416, Class 2: 0.0246, Class 3: 0.0018, \n",
      "Class 4: 0.4187, Class 5: 0.3361, Class 6: 0.5197, \n",
      "Validation F-beta Score\n",
      "Class 0: 0.5089, Class 1: 0.4861, Class 2: 0.0255, Class 3: 0.0147, \n",
      "Class 4: 0.3459, Class 5: 0.2890, Class 6: 0.3897, \n",
      "Overall Mean Dice Score: 0.3636\n",
      "Overall Mean F-beta Score: 0.3051\n",
      "\n",
      "Training Loss: 0.5866, Validation Loss: 0.5700, Validation F-beta: 0.3051\n",
      "Epoch 120/4000\n",
      "Current lambda: 0.0500\n"
     ]
    },
    {
     "name": "stderr",
     "output_type": "stream",
     "text": [
      "Training: 100%|██████████| 24/24 [00:23<00:00,  1.02it/s, loss=0.621]\n",
      "Validation: 100%|██████████| 4/4 [00:02<00:00,  1.77it/s, loss=0.548]\n"
     ]
    },
    {
     "name": "stdout",
     "output_type": "stream",
     "text": [
      "Validation Dice Score\n",
      "Class 0: 0.6630, Class 1: 0.3925, Class 2: 0.0012, Class 3: 0.0016, \n",
      "Class 4: 0.2646, Class 5: 0.4078, Class 6: 0.5550, \n",
      "Validation F-beta Score\n",
      "Class 0: 0.5172, Class 1: 0.4015, Class 2: 0.0011, Class 3: 0.0127, \n",
      "Class 4: 0.3054, Class 5: 0.3163, Class 6: 0.5653, \n",
      "Overall Mean Dice Score: 0.3243\n",
      "Overall Mean F-beta Score: 0.3203\n",
      "\n",
      "Training Loss: 0.6024, Validation Loss: 0.5817, Validation F-beta: 0.3203\n",
      "Epoch 121/4000\n",
      "Current lambda: 0.0500\n"
     ]
    },
    {
     "name": "stderr",
     "output_type": "stream",
     "text": [
      "Training: 100%|██████████| 24/24 [00:23<00:00,  1.03it/s, loss=0.571]\n",
      "Validation: 100%|██████████| 4/4 [00:02<00:00,  1.74it/s, loss=0.553]\n"
     ]
    },
    {
     "name": "stdout",
     "output_type": "stream",
     "text": [
      "Validation Dice Score\n",
      "Class 0: 0.6538, Class 1: 0.5935, Class 2: 0.0936, Class 3: 0.0030, \n",
      "Class 4: 0.1835, Class 5: 0.2037, Class 6: 0.4677, \n",
      "Validation F-beta Score\n",
      "Class 0: 0.5072, Class 1: 0.4860, Class 2: 0.0758, Class 3: 0.0226, \n",
      "Class 4: 0.1420, Class 5: 0.2112, Class 6: 0.4622, \n",
      "Overall Mean Dice Score: 0.2903\n",
      "Overall Mean F-beta Score: 0.2648\n",
      "\n",
      "Training Loss: 0.5995, Validation Loss: 0.5990, Validation F-beta: 0.2648\n",
      "Epoch 122/4000\n",
      "Current lambda: 0.0500\n"
     ]
    },
    {
     "name": "stderr",
     "output_type": "stream",
     "text": [
      "Training: 100%|██████████| 24/24 [00:23<00:00,  1.03it/s, loss=0.606]\n",
      "Validation: 100%|██████████| 4/4 [00:02<00:00,  1.72it/s, loss=0.643]\n"
     ]
    },
    {
     "name": "stdout",
     "output_type": "stream",
     "text": [
      "Validation Dice Score\n",
      "Class 0: 0.6442, Class 1: 0.5118, Class 2: 0.0362, Class 3: 0.0033, \n",
      "Class 4: 0.2208, Class 5: 0.2221, Class 6: 0.4644, \n",
      "Validation F-beta Score\n",
      "Class 0: 0.5014, Class 1: 0.4613, Class 2: 0.0342, Class 3: 0.0252, \n",
      "Class 4: 0.1985, Class 5: 0.1894, Class 6: 0.3586, \n",
      "Overall Mean Dice Score: 0.2845\n",
      "Overall Mean F-beta Score: 0.2466\n",
      "\n",
      "Training Loss: 0.5925, Validation Loss: 0.6036, Validation F-beta: 0.2466\n",
      "Validation loss did not improve. Reducing lambda to 0.0500\n",
      "Epoch 123/4000\n",
      "Current lambda: 0.0500\n"
     ]
    },
    {
     "name": "stderr",
     "output_type": "stream",
     "text": [
      "Training: 100%|██████████| 24/24 [00:23<00:00,  1.03it/s, loss=0.625]\n",
      "Validation: 100%|██████████| 4/4 [00:02<00:00,  1.71it/s, loss=0.564]\n"
     ]
    },
    {
     "name": "stdout",
     "output_type": "stream",
     "text": [
      "Validation Dice Score\n",
      "Class 0: 0.6435, Class 1: 0.4574, Class 2: 0.0669, Class 3: 0.0025, \n",
      "Class 4: 0.3118, Class 5: 0.2121, Class 6: 0.6173, \n",
      "Validation F-beta Score\n",
      "Class 0: 0.4991, Class 1: 0.3366, Class 2: 0.0735, Class 3: 0.0190, \n",
      "Class 4: 0.2265, Class 5: 0.1792, Class 6: 0.5427, \n",
      "Overall Mean Dice Score: 0.3202\n",
      "Overall Mean F-beta Score: 0.2608\n",
      "\n",
      "Training Loss: 0.5957, Validation Loss: 0.5738, Validation F-beta: 0.2608\n",
      "Epoch 124/4000\n",
      "Current lambda: 0.0500\n"
     ]
    },
    {
     "name": "stderr",
     "output_type": "stream",
     "text": [
      "Training: 100%|██████████| 24/24 [00:23<00:00,  1.03it/s, loss=0.59] \n",
      "Validation: 100%|██████████| 4/4 [00:02<00:00,  1.74it/s, loss=0.489]\n"
     ]
    },
    {
     "name": "stdout",
     "output_type": "stream",
     "text": [
      "Validation Dice Score\n",
      "Class 0: 0.6459, Class 1: 0.5280, Class 2: 0.0524, Class 3: 0.0028, \n",
      "Class 4: 0.3858, Class 5: 0.2708, Class 6: 0.3393, \n",
      "Validation F-beta Score\n",
      "Class 0: 0.4989, Class 1: 0.4115, Class 2: 0.0385, Class 3: 0.0214, \n",
      "Class 4: 0.3279, Class 5: 0.2572, Class 6: 0.2789, \n",
      "Overall Mean Dice Score: 0.3053\n",
      "Overall Mean F-beta Score: 0.2594\n",
      "\n",
      "Training Loss: 0.5897, Validation Loss: 0.5764, Validation F-beta: 0.2594\n",
      "Epoch 125/4000\n",
      "Current lambda: 0.0500\n"
     ]
    },
    {
     "name": "stderr",
     "output_type": "stream",
     "text": [
      "Training: 100%|██████████| 24/24 [00:23<00:00,  1.03it/s, loss=0.599]\n",
      "Validation: 100%|██████████| 4/4 [00:02<00:00,  1.77it/s, loss=0.624]\n"
     ]
    },
    {
     "name": "stdout",
     "output_type": "stream",
     "text": [
      "Validation Dice Score\n",
      "Class 0: 0.6551, Class 1: 0.4966, Class 2: 0.0000, Class 3: 0.0012, \n",
      "Class 4: 0.3733, Class 5: 0.3537, Class 6: 0.6616, \n",
      "Validation F-beta Score\n",
      "Class 0: 0.5092, Class 1: 0.4982, Class 2: 0.0000, Class 3: 0.0093, \n",
      "Class 4: 0.3244, Class 5: 0.3118, Class 6: 0.5231, \n",
      "Overall Mean Dice Score: 0.3773\n",
      "Overall Mean F-beta Score: 0.3334\n",
      "\n",
      "Training Loss: 0.5957, Validation Loss: 0.5825, Validation F-beta: 0.3334\n",
      "Epoch 126/4000\n",
      "Current lambda: 0.0500\n"
     ]
    },
    {
     "name": "stderr",
     "output_type": "stream",
     "text": [
      "Training: 100%|██████████| 24/24 [00:23<00:00,  1.03it/s, loss=0.599]\n",
      "Validation: 100%|██████████| 4/4 [00:02<00:00,  1.73it/s, loss=0.569]\n"
     ]
    },
    {
     "name": "stdout",
     "output_type": "stream",
     "text": [
      "Validation Dice Score\n",
      "Class 0: 0.6536, Class 1: 0.5608, Class 2: 0.0577, Class 3: 0.0018, \n",
      "Class 4: 0.3112, Class 5: 0.3638, Class 6: 0.6920, \n",
      "Validation F-beta Score\n",
      "Class 0: 0.5073, Class 1: 0.4892, Class 2: 0.0860, Class 3: 0.0142, \n",
      "Class 4: 0.2685, Class 5: 0.2931, Class 6: 0.6036, \n",
      "Overall Mean Dice Score: 0.3859\n",
      "Overall Mean F-beta Score: 0.3337\n",
      "\n",
      "Training Loss: 0.5877, Validation Loss: 0.5742, Validation F-beta: 0.3337\n",
      "Epoch 127/4000\n",
      "Current lambda: 0.0500\n"
     ]
    },
    {
     "name": "stderr",
     "output_type": "stream",
     "text": [
      "Training: 100%|██████████| 24/24 [00:23<00:00,  1.03it/s, loss=0.577]\n",
      "Validation: 100%|██████████| 4/4 [00:02<00:00,  1.75it/s, loss=0.614]\n"
     ]
    },
    {
     "name": "stdout",
     "output_type": "stream",
     "text": [
      "Validation Dice Score\n",
      "Class 0: 0.6478, Class 1: 0.4102, Class 2: 0.0753, Class 3: 0.0023, \n",
      "Class 4: 0.4782, Class 5: 0.3677, Class 6: 0.5584, \n",
      "Validation F-beta Score\n",
      "Class 0: 0.5026, Class 1: 0.4002, Class 2: 0.0591, Class 3: 0.0182, \n",
      "Class 4: 0.4213, Class 5: 0.2679, Class 6: 0.6551, \n",
      "Overall Mean Dice Score: 0.3634\n",
      "Overall Mean F-beta Score: 0.3526\n",
      "\n",
      "Training Loss: 0.5884, Validation Loss: 0.5783, Validation F-beta: 0.3526\n",
      "Validation loss did not improve. Reducing lambda to 0.0500\n",
      "Epoch 128/4000\n",
      "Current lambda: 0.0500\n"
     ]
    },
    {
     "name": "stderr",
     "output_type": "stream",
     "text": [
      "Training: 100%|██████████| 24/24 [00:23<00:00,  1.03it/s, loss=0.592]\n",
      "Validation: 100%|██████████| 4/4 [00:02<00:00,  1.73it/s, loss=0.605]\n"
     ]
    },
    {
     "name": "stdout",
     "output_type": "stream",
     "text": [
      "Validation Dice Score\n",
      "Class 0: 0.6496, Class 1: 0.3802, Class 2: 0.0574, Class 3: 0.0008, \n",
      "Class 4: 0.1394, Class 5: 0.3680, Class 6: 0.5391, \n",
      "Validation F-beta Score\n",
      "Class 0: 0.5029, Class 1: 0.2821, Class 2: 0.0742, Class 3: 0.0064, \n",
      "Class 4: 0.0871, Class 5: 0.2959, Class 6: 0.4725, \n",
      "Overall Mean Dice Score: 0.2855\n",
      "Overall Mean F-beta Score: 0.2288\n",
      "\n",
      "Training Loss: 0.5876, Validation Loss: 0.5874, Validation F-beta: 0.2288\n",
      "Epoch 129/4000\n",
      "Current lambda: 0.0500\n"
     ]
    },
    {
     "name": "stderr",
     "output_type": "stream",
     "text": [
      "Training: 100%|██████████| 24/24 [00:27<00:00,  1.16s/it, loss=0.603]\n",
      "Validation: 100%|██████████| 4/4 [00:02<00:00,  1.63it/s, loss=0.535]\n"
     ]
    },
    {
     "name": "stdout",
     "output_type": "stream",
     "text": [
      "Validation Dice Score\n",
      "Class 0: 0.6383, Class 1: 0.6466, Class 2: 0.1141, Class 3: 0.0011, \n",
      "Class 4: 0.2309, Class 5: 0.2826, Class 6: 0.7103, \n",
      "Validation F-beta Score\n",
      "Class 0: 0.4923, Class 1: 0.5308, Class 2: 0.0837, Class 3: 0.0089, \n",
      "Class 4: 0.1829, Class 5: 0.2555, Class 6: 0.6090, \n",
      "Overall Mean Dice Score: 0.3743\n",
      "Overall Mean F-beta Score: 0.3174\n",
      "\n",
      "Training Loss: 0.5971, Validation Loss: 0.5421, Validation F-beta: 0.3174\n",
      "========================================================\n",
      "Best model saved based on validation loss: 0.5421\n",
      "========================================================\n",
      "Epoch 130/4000\n",
      "Current lambda: 0.0500\n"
     ]
    },
    {
     "name": "stderr",
     "output_type": "stream",
     "text": [
      "Training: 100%|██████████| 24/24 [00:23<00:00,  1.01it/s, loss=0.543]\n",
      "Validation: 100%|██████████| 4/4 [00:02<00:00,  1.71it/s, loss=0.614]\n"
     ]
    },
    {
     "name": "stdout",
     "output_type": "stream",
     "text": [
      "Validation Dice Score\n",
      "Class 0: 0.6357, Class 1: 0.5927, Class 2: 0.0487, Class 3: 0.0026, \n",
      "Class 4: 0.2381, Class 5: 0.2870, Class 6: 0.6588, \n",
      "Validation F-beta Score\n",
      "Class 0: 0.4902, Class 1: 0.4936, Class 2: 0.0367, Class 3: 0.0195, \n",
      "Class 4: 0.1510, Class 5: 0.2881, Class 6: 0.5805, \n",
      "Overall Mean Dice Score: 0.3558\n",
      "Overall Mean F-beta Score: 0.3065\n",
      "\n",
      "Training Loss: 0.5888, Validation Loss: 0.5840, Validation F-beta: 0.3065\n",
      "Epoch 131/4000\n",
      "Current lambda: 0.0500\n"
     ]
    },
    {
     "name": "stderr",
     "output_type": "stream",
     "text": [
      "Training: 100%|██████████| 24/24 [00:24<00:00,  1.00s/it, loss=0.614]\n",
      "Validation: 100%|██████████| 4/4 [00:02<00:00,  1.73it/s, loss=0.552]\n"
     ]
    },
    {
     "name": "stdout",
     "output_type": "stream",
     "text": [
      "Validation Dice Score\n",
      "Class 0: 0.6488, Class 1: 0.5810, Class 2: 0.0986, Class 3: 0.0019, \n",
      "Class 4: 0.4040, Class 5: 0.3123, Class 6: 0.5198, \n",
      "Validation F-beta Score\n",
      "Class 0: 0.5016, Class 1: 0.4772, Class 2: 0.0841, Class 3: 0.0146, \n",
      "Class 4: 0.3946, Class 5: 0.2654, Class 6: 0.4706, \n",
      "Overall Mean Dice Score: 0.3638\n",
      "Overall Mean F-beta Score: 0.3245\n",
      "\n",
      "Training Loss: 0.5933, Validation Loss: 0.5721, Validation F-beta: 0.3245\n",
      "Epoch 132/4000\n",
      "Current lambda: 0.0500\n"
     ]
    },
    {
     "name": "stderr",
     "output_type": "stream",
     "text": [
      "Training: 100%|██████████| 24/24 [00:24<00:00,  1.01s/it, loss=0.613]\n",
      "Validation: 100%|██████████| 4/4 [00:02<00:00,  1.71it/s, loss=0.542]\n"
     ]
    },
    {
     "name": "stdout",
     "output_type": "stream",
     "text": [
      "Validation Dice Score\n",
      "Class 0: 0.6511, Class 1: 0.4800, Class 2: 0.0584, Class 3: 0.0021, \n",
      "Class 4: 0.2709, Class 5: 0.3538, Class 6: 0.6643, \n",
      "Validation F-beta Score\n",
      "Class 0: 0.5035, Class 1: 0.4122, Class 2: 0.0918, Class 3: 0.0172, \n",
      "Class 4: 0.2271, Class 5: 0.3232, Class 6: 0.5564, \n",
      "Overall Mean Dice Score: 0.3542\n",
      "Overall Mean F-beta Score: 0.3072\n",
      "\n",
      "Training Loss: 0.5914, Validation Loss: 0.5670, Validation F-beta: 0.3072\n",
      "Epoch 133/4000\n",
      "Current lambda: 0.0500\n"
     ]
    },
    {
     "name": "stderr",
     "output_type": "stream",
     "text": [
      "Training: 100%|██████████| 24/24 [00:24<00:00,  1.01s/it, loss=0.549]\n",
      "Validation: 100%|██████████| 4/4 [00:02<00:00,  1.74it/s, loss=0.565]\n"
     ]
    },
    {
     "name": "stdout",
     "output_type": "stream",
     "text": [
      "Validation Dice Score\n",
      "Class 0: 0.6477, Class 1: 0.5878, Class 2: 0.1290, Class 3: 0.0031, \n",
      "Class 4: 0.3456, Class 5: 0.3640, Class 6: 0.5355, \n",
      "Validation F-beta Score\n",
      "Class 0: 0.5016, Class 1: 0.4739, Class 2: 0.1411, Class 3: 0.0232, \n",
      "Class 4: 0.2861, Class 5: 0.3350, Class 6: 0.5404, \n",
      "Overall Mean Dice Score: 0.3672\n",
      "Overall Mean F-beta Score: 0.3317\n",
      "\n",
      "Training Loss: 0.6040, Validation Loss: 0.5461, Validation F-beta: 0.3317\n",
      "Validation loss did not improve. Reducing lambda to 0.0500\n",
      "Epoch 134/4000\n",
      "Current lambda: 0.0500\n"
     ]
    },
    {
     "name": "stderr",
     "output_type": "stream",
     "text": [
      "Training: 100%|██████████| 24/24 [00:24<00:00,  1.00s/it, loss=0.548]\n",
      "Validation: 100%|██████████| 4/4 [00:02<00:00,  1.69it/s, loss=0.611]\n"
     ]
    },
    {
     "name": "stdout",
     "output_type": "stream",
     "text": [
      "Validation Dice Score\n",
      "Class 0: 0.6450, Class 1: 0.2683, Class 2: 0.0367, Class 3: 0.0017, \n",
      "Class 4: 0.3746, Class 5: 0.3515, Class 6: 0.4690, \n",
      "Validation F-beta Score\n",
      "Class 0: 0.4989, Class 1: 0.2013, Class 2: 0.0429, Class 3: 0.0131, \n",
      "Class 4: 0.3497, Class 5: 0.3105, Class 6: 0.4281, \n",
      "Overall Mean Dice Score: 0.2930\n",
      "Overall Mean F-beta Score: 0.2605\n",
      "\n",
      "Training Loss: 0.5897, Validation Loss: 0.5994, Validation F-beta: 0.2605\n",
      "Epoch 135/4000\n",
      "Current lambda: 0.0500\n"
     ]
    },
    {
     "name": "stderr",
     "output_type": "stream",
     "text": [
      "Training: 100%|██████████| 24/24 [00:23<00:00,  1.00it/s, loss=0.598]\n",
      "Validation: 100%|██████████| 4/4 [00:02<00:00,  1.72it/s, loss=0.519]\n"
     ]
    },
    {
     "name": "stdout",
     "output_type": "stream",
     "text": [
      "Validation Dice Score\n",
      "Class 0: 0.6555, Class 1: 0.6375, Class 2: 0.0311, Class 3: 0.0030, \n",
      "Class 4: 0.5161, Class 5: 0.3370, Class 6: 0.4895, \n",
      "Validation F-beta Score\n",
      "Class 0: 0.5082, Class 1: 0.6197, Class 2: 0.0380, Class 3: 0.0230, \n",
      "Class 4: 0.5119, Class 5: 0.2770, Class 6: 0.4458, \n",
      "Overall Mean Dice Score: 0.3966\n",
      "Overall Mean F-beta Score: 0.3755\n",
      "\n",
      "Training Loss: 0.6024, Validation Loss: 0.5636, Validation F-beta: 0.3755\n",
      "Epoch 136/4000\n",
      "Current lambda: 0.0500\n"
     ]
    },
    {
     "name": "stderr",
     "output_type": "stream",
     "text": [
      "Training: 100%|██████████| 24/24 [00:24<00:00,  1.00s/it, loss=0.578]\n",
      "Validation: 100%|██████████| 4/4 [00:02<00:00,  1.74it/s, loss=0.583]\n"
     ]
    },
    {
     "name": "stdout",
     "output_type": "stream",
     "text": [
      "Validation Dice Score\n",
      "Class 0: 0.6374, Class 1: 0.4721, Class 2: 0.0840, Class 3: 0.0017, \n",
      "Class 4: 0.2300, Class 5: 0.2446, Class 6: 0.6863, \n",
      "Validation F-beta Score\n",
      "Class 0: 0.4933, Class 1: 0.3903, Class 2: 0.0679, Class 3: 0.0134, \n",
      "Class 4: 0.1569, Class 5: 0.1942, Class 6: 0.5530, \n",
      "Overall Mean Dice Score: 0.3269\n",
      "Overall Mean F-beta Score: 0.2616\n",
      "\n",
      "Training Loss: 0.5880, Validation Loss: 0.5732, Validation F-beta: 0.2616\n",
      "Epoch 137/4000\n",
      "Current lambda: 0.0500\n"
     ]
    },
    {
     "name": "stderr",
     "output_type": "stream",
     "text": [
      "Training: 100%|██████████| 24/24 [00:24<00:00,  1.01s/it, loss=0.557]\n",
      "Validation: 100%|██████████| 4/4 [00:02<00:00,  1.62it/s, loss=0.622]\n"
     ]
    },
    {
     "name": "stdout",
     "output_type": "stream",
     "text": [
      "Validation Dice Score\n",
      "Class 0: 0.6527, Class 1: 0.3420, Class 2: 0.0580, Class 3: 0.0031, \n",
      "Class 4: 0.1451, Class 5: 0.3768, Class 6: 0.5221, \n",
      "Validation F-beta Score\n",
      "Class 0: 0.5075, Class 1: 0.2466, Class 2: 0.0502, Class 3: 0.0239, \n",
      "Class 4: 0.0915, Class 5: 0.3026, Class 6: 0.4276, \n",
      "Overall Mean Dice Score: 0.2778\n",
      "Overall Mean F-beta Score: 0.2184\n",
      "\n",
      "Training Loss: 0.5817, Validation Loss: 0.5905, Validation F-beta: 0.2184\n",
      "Epoch 138/4000\n",
      "Current lambda: 0.0500\n"
     ]
    },
    {
     "name": "stderr",
     "output_type": "stream",
     "text": [
      "Training: 100%|██████████| 24/24 [00:23<00:00,  1.00it/s, loss=0.635]\n",
      "Validation: 100%|██████████| 4/4 [00:02<00:00,  1.75it/s, loss=0.593]\n"
     ]
    },
    {
     "name": "stdout",
     "output_type": "stream",
     "text": [
      "Validation Dice Score\n",
      "Class 0: 0.6462, Class 1: 0.5397, Class 2: 0.0388, Class 3: 0.0019, \n",
      "Class 4: 0.4334, Class 5: 0.2425, Class 6: 0.6549, \n",
      "Validation F-beta Score\n",
      "Class 0: 0.5001, Class 1: 0.4394, Class 2: 0.0471, Class 3: 0.0153, \n",
      "Class 4: 0.3447, Class 5: 0.1834, Class 6: 0.6299, \n",
      "Overall Mean Dice Score: 0.3745\n",
      "Overall Mean F-beta Score: 0.3225\n",
      "\n",
      "Training Loss: 0.5922, Validation Loss: 0.5646, Validation F-beta: 0.3225\n",
      "Validation loss did not improve. Reducing lambda to 0.0500\n",
      "Epoch 139/4000\n",
      "Current lambda: 0.0500\n"
     ]
    },
    {
     "name": "stderr",
     "output_type": "stream",
     "text": [
      "Training: 100%|██████████| 24/24 [00:24<00:00,  1.00s/it, loss=0.604]\n",
      "Validation: 100%|██████████| 4/4 [00:02<00:00,  1.73it/s, loss=0.584]\n"
     ]
    },
    {
     "name": "stdout",
     "output_type": "stream",
     "text": [
      "Validation Dice Score\n",
      "Class 0: 0.6406, Class 1: 0.4465, Class 2: 0.0127, Class 3: 0.0014, \n",
      "Class 4: 0.2651, Class 5: 0.3330, Class 6: 0.6614, \n",
      "Validation F-beta Score\n",
      "Class 0: 0.4950, Class 1: 0.4148, Class 2: 0.0184, Class 3: 0.0111, \n",
      "Class 4: 0.1863, Class 5: 0.2851, Class 6: 0.5998, \n",
      "Overall Mean Dice Score: 0.3415\n",
      "Overall Mean F-beta Score: 0.2994\n",
      "\n",
      "Training Loss: 0.6062, Validation Loss: 0.5666, Validation F-beta: 0.2994\n",
      "Epoch 140/4000\n",
      "Current lambda: 0.0500\n"
     ]
    },
    {
     "name": "stderr",
     "output_type": "stream",
     "text": [
      "Training: 100%|██████████| 24/24 [00:23<00:00,  1.00it/s, loss=0.578]\n",
      "Validation: 100%|██████████| 4/4 [00:02<00:00,  1.74it/s, loss=0.588]\n"
     ]
    },
    {
     "name": "stdout",
     "output_type": "stream",
     "text": [
      "Validation Dice Score\n",
      "Class 0: 0.6437, Class 1: 0.2774, Class 2: 0.0574, Class 3: 0.0013, \n",
      "Class 4: 0.3273, Class 5: 0.3761, Class 6: 0.6097, \n",
      "Validation F-beta Score\n",
      "Class 0: 0.4985, Class 1: 0.2449, Class 2: 0.0520, Class 3: 0.0104, \n",
      "Class 4: 0.3040, Class 5: 0.3259, Class 6: 0.5725, \n",
      "Overall Mean Dice Score: 0.3184\n",
      "Overall Mean F-beta Score: 0.2915\n",
      "\n",
      "Training Loss: 0.6041, Validation Loss: 0.5870, Validation F-beta: 0.2915\n",
      "Epoch 141/4000\n",
      "Current lambda: 0.0500\n"
     ]
    },
    {
     "name": "stderr",
     "output_type": "stream",
     "text": [
      "Training: 100%|██████████| 24/24 [00:23<00:00,  1.02it/s, loss=0.579]\n",
      "Validation: 100%|██████████| 4/4 [00:02<00:00,  1.73it/s, loss=0.536]\n"
     ]
    },
    {
     "name": "stdout",
     "output_type": "stream",
     "text": [
      "Validation Dice Score\n",
      "Class 0: 0.6557, Class 1: 0.4442, Class 2: 0.1340, Class 3: 0.0019, \n",
      "Class 4: 0.2435, Class 5: 0.3349, Class 6: 0.5394, \n",
      "Validation F-beta Score\n",
      "Class 0: 0.5097, Class 1: 0.3645, Class 2: 0.1698, Class 3: 0.0149, \n",
      "Class 4: 0.2056, Class 5: 0.2597, Class 6: 0.4650, \n",
      "Overall Mean Dice Score: 0.3128\n",
      "Overall Mean F-beta Score: 0.2619\n",
      "\n",
      "Training Loss: 0.5950, Validation Loss: 0.5750, Validation F-beta: 0.2619\n",
      "Epoch 142/4000\n",
      "Current lambda: 0.0500\n"
     ]
    },
    {
     "name": "stderr",
     "output_type": "stream",
     "text": [
      "Training: 100%|██████████| 24/24 [00:23<00:00,  1.02it/s, loss=0.594]\n",
      "Validation: 100%|██████████| 4/4 [00:02<00:00,  1.71it/s, loss=0.544]\n"
     ]
    },
    {
     "name": "stdout",
     "output_type": "stream",
     "text": [
      "Validation Dice Score\n",
      "Class 0: 0.6595, Class 1: 0.6800, Class 2: 0.0732, Class 3: 0.0019, \n",
      "Class 4: 0.2173, Class 5: 0.3920, Class 6: 0.4466, \n",
      "Validation F-beta Score\n",
      "Class 0: 0.5135, Class 1: 0.5556, Class 2: 0.1012, Class 3: 0.0146, \n",
      "Class 4: 0.1452, Class 5: 0.3306, Class 6: 0.4809, \n",
      "Overall Mean Dice Score: 0.3475\n",
      "Overall Mean F-beta Score: 0.3053\n",
      "\n",
      "Training Loss: 0.6094, Validation Loss: 0.5599, Validation F-beta: 0.3053\n",
      "Epoch 143/4000\n",
      "Current lambda: 0.0500\n"
     ]
    },
    {
     "name": "stderr",
     "output_type": "stream",
     "text": [
      "Training: 100%|██████████| 24/24 [00:23<00:00,  1.02it/s, loss=0.599]\n",
      "Validation: 100%|██████████| 4/4 [00:02<00:00,  1.71it/s, loss=0.597]\n"
     ]
    },
    {
     "name": "stdout",
     "output_type": "stream",
     "text": [
      "Validation Dice Score\n",
      "Class 0: 0.6559, Class 1: 0.4335, Class 2: 0.1652, Class 3: 0.0015, \n",
      "Class 4: 0.3026, Class 5: 0.3527, Class 6: 0.6450, \n",
      "Validation F-beta Score\n",
      "Class 0: 0.5115, Class 1: 0.3315, Class 2: 0.3013, Class 3: 0.0116, \n",
      "Class 4: 0.3221, Class 5: 0.2999, Class 6: 0.5729, \n",
      "Overall Mean Dice Score: 0.3471\n",
      "Overall Mean F-beta Score: 0.3076\n",
      "\n",
      "Training Loss: 0.5938, Validation Loss: 0.5812, Validation F-beta: 0.3076\n",
      "Validation loss did not improve. Reducing lambda to 0.0500\n",
      "Epoch 144/4000\n",
      "Current lambda: 0.0500\n"
     ]
    },
    {
     "name": "stderr",
     "output_type": "stream",
     "text": [
      "Training: 100%|██████████| 24/24 [00:23<00:00,  1.03it/s, loss=0.549]\n",
      "Validation: 100%|██████████| 4/4 [00:02<00:00,  1.75it/s, loss=0.57] \n"
     ]
    },
    {
     "name": "stdout",
     "output_type": "stream",
     "text": [
      "Validation Dice Score\n",
      "Class 0: 0.6519, Class 1: 0.5367, Class 2: 0.0038, Class 3: 0.0013, \n",
      "Class 4: 0.1933, Class 5: 0.3189, Class 6: 0.7169, \n",
      "Validation F-beta Score\n",
      "Class 0: 0.5047, Class 1: 0.4094, Class 2: 0.0024, Class 3: 0.0100, \n",
      "Class 4: 0.2319, Class 5: 0.2579, Class 6: 0.6632, \n",
      "Overall Mean Dice Score: 0.3534\n",
      "Overall Mean F-beta Score: 0.3145\n",
      "\n",
      "Training Loss: 0.5947, Validation Loss: 0.5452, Validation F-beta: 0.3145\n",
      "Epoch 145/4000\n",
      "Current lambda: 0.0500\n"
     ]
    },
    {
     "name": "stderr",
     "output_type": "stream",
     "text": [
      "Training: 100%|██████████| 24/24 [00:23<00:00,  1.03it/s, loss=0.513]\n",
      "Validation: 100%|██████████| 4/4 [00:02<00:00,  1.74it/s, loss=0.616]\n"
     ]
    },
    {
     "name": "stdout",
     "output_type": "stream",
     "text": [
      "Validation Dice Score\n",
      "Class 0: 0.6483, Class 1: 0.6519, Class 2: 0.0238, Class 3: 0.0013, \n",
      "Class 4: 0.2320, Class 5: 0.4228, Class 6: 0.5363, \n",
      "Validation F-beta Score\n",
      "Class 0: 0.5016, Class 1: 0.6415, Class 2: 0.0174, Class 3: 0.0101, \n",
      "Class 4: 0.2107, Class 5: 0.3733, Class 6: 0.4264, \n",
      "Overall Mean Dice Score: 0.3689\n",
      "Overall Mean F-beta Score: 0.3324\n",
      "\n",
      "Training Loss: 0.5878, Validation Loss: 0.5922, Validation F-beta: 0.3324\n",
      "Epoch 146/4000\n",
      "Current lambda: 0.0500\n"
     ]
    },
    {
     "name": "stderr",
     "output_type": "stream",
     "text": [
      "Training: 100%|██████████| 24/24 [00:23<00:00,  1.03it/s, loss=0.63] \n",
      "Validation: 100%|██████████| 4/4 [00:02<00:00,  1.74it/s, loss=0.575]\n"
     ]
    },
    {
     "name": "stdout",
     "output_type": "stream",
     "text": [
      "Validation Dice Score\n",
      "Class 0: 0.6459, Class 1: 0.5595, Class 2: 0.0647, Class 3: 0.0016, \n",
      "Class 4: 0.2219, Class 5: 0.3392, Class 6: 0.6937, \n",
      "Validation F-beta Score\n",
      "Class 0: 0.5000, Class 1: 0.4653, Class 2: 0.1054, Class 3: 0.0127, \n",
      "Class 4: 0.1824, Class 5: 0.2519, Class 6: 0.5731, \n",
      "Overall Mean Dice Score: 0.3632\n",
      "Overall Mean F-beta Score: 0.2971\n",
      "\n",
      "Training Loss: 0.5864, Validation Loss: 0.5692, Validation F-beta: 0.2971\n",
      "Epoch 147/4000\n",
      "Current lambda: 0.0500\n"
     ]
    },
    {
     "name": "stderr",
     "output_type": "stream",
     "text": [
      "Training: 100%|██████████| 24/24 [00:23<00:00,  1.02it/s, loss=0.544]\n",
      "Validation: 100%|██████████| 4/4 [00:02<00:00,  1.73it/s, loss=0.548]\n"
     ]
    },
    {
     "name": "stdout",
     "output_type": "stream",
     "text": [
      "Validation Dice Score\n",
      "Class 0: 0.6643, Class 1: 0.6297, Class 2: 0.0505, Class 3: 0.0013, \n",
      "Class 4: 0.3085, Class 5: 0.3427, Class 6: 0.6348, \n",
      "Validation F-beta Score\n",
      "Class 0: 0.5182, Class 1: 0.5305, Class 2: 0.0567, Class 3: 0.0104, \n",
      "Class 4: 0.2510, Class 5: 0.2916, Class 6: 0.5610, \n",
      "Overall Mean Dice Score: 0.3834\n",
      "Overall Mean F-beta Score: 0.3289\n",
      "\n",
      "Training Loss: 0.5877, Validation Loss: 0.5774, Validation F-beta: 0.3289\n",
      "Epoch 148/4000\n",
      "Current lambda: 0.0500\n"
     ]
    },
    {
     "name": "stderr",
     "output_type": "stream",
     "text": [
      "Training: 100%|██████████| 24/24 [00:23<00:00,  1.03it/s, loss=0.616]\n",
      "Validation: 100%|██████████| 4/4 [00:02<00:00,  1.75it/s, loss=0.589]\n"
     ]
    },
    {
     "name": "stdout",
     "output_type": "stream",
     "text": [
      "Validation Dice Score\n",
      "Class 0: 0.6606, Class 1: 0.5111, Class 2: 0.0680, Class 3: 0.0022, \n",
      "Class 4: 0.2933, Class 5: 0.3246, Class 6: 0.6283, \n",
      "Validation F-beta Score\n",
      "Class 0: 0.5150, Class 1: 0.4575, Class 2: 0.0780, Class 3: 0.0173, \n",
      "Class 4: 0.2757, Class 5: 0.2784, Class 6: 0.5080, \n",
      "Overall Mean Dice Score: 0.3519\n",
      "Overall Mean F-beta Score: 0.3074\n",
      "\n",
      "Training Loss: 0.5934, Validation Loss: 0.5864, Validation F-beta: 0.3074\n",
      "Validation loss did not improve. Reducing lambda to 0.0500\n",
      "Epoch 149/4000\n",
      "Current lambda: 0.0500\n"
     ]
    },
    {
     "name": "stderr",
     "output_type": "stream",
     "text": [
      "Training: 100%|██████████| 24/24 [00:23<00:00,  1.03it/s, loss=0.545]\n",
      "Validation: 100%|██████████| 4/4 [00:02<00:00,  1.76it/s, loss=0.59] \n"
     ]
    },
    {
     "name": "stdout",
     "output_type": "stream",
     "text": [
      "Validation Dice Score\n",
      "Class 0: 0.6519, Class 1: 0.4074, Class 2: 0.0507, Class 3: 0.0027, \n",
      "Class 4: 0.3656, Class 5: 0.3547, Class 6: 0.5201, \n",
      "Validation F-beta Score\n",
      "Class 0: 0.5060, Class 1: 0.3513, Class 2: 0.0451, Class 3: 0.0210, \n",
      "Class 4: 0.3854, Class 5: 0.2742, Class 6: 0.6024, \n",
      "Overall Mean Dice Score: 0.3301\n",
      "Overall Mean F-beta Score: 0.3269\n",
      "\n",
      "Training Loss: 0.5870, Validation Loss: 0.5746, Validation F-beta: 0.3269\n",
      "Epoch 150/4000\n",
      "Current lambda: 0.0500\n"
     ]
    },
    {
     "name": "stderr",
     "output_type": "stream",
     "text": [
      "Training: 100%|██████████| 24/24 [00:23<00:00,  1.03it/s, loss=0.658]\n",
      "Validation: 100%|██████████| 4/4 [00:02<00:00,  1.73it/s, loss=0.59] \n"
     ]
    },
    {
     "name": "stdout",
     "output_type": "stream",
     "text": [
      "Validation Dice Score\n",
      "Class 0: 0.6556, Class 1: 0.5164, Class 2: 0.0190, Class 3: 0.0035, \n",
      "Class 4: 0.2118, Class 5: 0.2482, Class 6: 0.3894, \n",
      "Validation F-beta Score\n",
      "Class 0: 0.5093, Class 1: 0.4611, Class 2: 0.0199, Class 3: 0.0269, \n",
      "Class 4: 0.1907, Class 5: 0.2394, Class 6: 0.5484, \n",
      "Overall Mean Dice Score: 0.2738\n",
      "Overall Mean F-beta Score: 0.2933\n",
      "\n",
      "Training Loss: 0.5933, Validation Loss: 0.6095, Validation F-beta: 0.2933\n",
      "Epoch 151/4000\n",
      "Current lambda: 0.0500\n"
     ]
    },
    {
     "name": "stderr",
     "output_type": "stream",
     "text": [
      "Training: 100%|██████████| 24/24 [00:23<00:00,  1.04it/s, loss=0.534]\n",
      "Validation: 100%|██████████| 4/4 [00:02<00:00,  1.75it/s, loss=0.618]\n"
     ]
    },
    {
     "name": "stdout",
     "output_type": "stream",
     "text": [
      "Validation Dice Score\n",
      "Class 0: 0.6489, Class 1: 0.4786, Class 2: 0.1133, Class 3: 0.0008, \n",
      "Class 4: 0.3701, Class 5: 0.3268, Class 6: 0.5459, \n",
      "Validation F-beta Score\n",
      "Class 0: 0.5023, Class 1: 0.4559, Class 2: 0.1098, Class 3: 0.0066, \n",
      "Class 4: 0.2921, Class 5: 0.2518, Class 6: 0.4779, \n",
      "Overall Mean Dice Score: 0.3445\n",
      "Overall Mean F-beta Score: 0.2969\n",
      "\n",
      "Training Loss: 0.5845, Validation Loss: 0.5667, Validation F-beta: 0.2969\n",
      "Epoch 152/4000\n",
      "Current lambda: 0.0500\n"
     ]
    },
    {
     "name": "stderr",
     "output_type": "stream",
     "text": [
      "Training: 100%|██████████| 24/24 [00:23<00:00,  1.03it/s, loss=0.594]\n",
      "Validation: 100%|██████████| 4/4 [00:02<00:00,  1.75it/s, loss=0.573]\n"
     ]
    },
    {
     "name": "stdout",
     "output_type": "stream",
     "text": [
      "Validation Dice Score\n",
      "Class 0: 0.6458, Class 1: 0.3519, Class 2: 0.1668, Class 3: 0.0019, \n",
      "Class 4: 0.2379, Class 5: 0.3829, Class 6: 0.6140, \n",
      "Validation F-beta Score\n",
      "Class 0: 0.4988, Class 1: 0.3146, Class 2: 0.2204, Class 3: 0.0151, \n",
      "Class 4: 0.1975, Class 5: 0.3179, Class 6: 0.4828, \n",
      "Overall Mean Dice Score: 0.3177\n",
      "Overall Mean F-beta Score: 0.2656\n",
      "\n",
      "Training Loss: 0.5908, Validation Loss: 0.5620, Validation F-beta: 0.2656\n",
      "Epoch 153/4000\n",
      "Current lambda: 0.0500\n"
     ]
    },
    {
     "name": "stderr",
     "output_type": "stream",
     "text": [
      "Training: 100%|██████████| 24/24 [00:23<00:00,  1.03it/s, loss=0.553]\n",
      "Validation: 100%|██████████| 4/4 [00:02<00:00,  1.74it/s, loss=0.55] \n"
     ]
    },
    {
     "name": "stdout",
     "output_type": "stream",
     "text": [
      "Validation Dice Score\n",
      "Class 0: 0.6474, Class 1: 0.5779, Class 2: 0.0955, Class 3: 0.0017, \n",
      "Class 4: 0.4032, Class 5: 0.2697, Class 6: 0.5594, \n",
      "Validation F-beta Score\n",
      "Class 0: 0.5004, Class 1: 0.4798, Class 2: 0.1653, Class 3: 0.0133, \n",
      "Class 4: 0.3135, Class 5: 0.2079, Class 6: 0.4652, \n",
      "Overall Mean Dice Score: 0.3624\n",
      "Overall Mean F-beta Score: 0.2959\n",
      "\n",
      "Training Loss: 0.5754, Validation Loss: 0.5626, Validation F-beta: 0.2959\n",
      "Validation loss did not improve. Reducing lambda to 0.0500\n",
      "Epoch 154/4000\n",
      "Current lambda: 0.0500\n"
     ]
    },
    {
     "name": "stderr",
     "output_type": "stream",
     "text": [
      "Training: 100%|██████████| 24/24 [00:23<00:00,  1.03it/s, loss=0.56] \n",
      "Validation: 100%|██████████| 4/4 [00:02<00:00,  1.74it/s, loss=0.628]\n"
     ]
    },
    {
     "name": "stdout",
     "output_type": "stream",
     "text": [
      "Validation Dice Score\n",
      "Class 0: 0.6567, Class 1: 0.4313, Class 2: 0.0224, Class 3: 0.0030, \n",
      "Class 4: 0.2591, Class 5: 0.3429, Class 6: 0.6602, \n",
      "Validation F-beta Score\n",
      "Class 0: 0.5102, Class 1: 0.3574, Class 2: 0.0273, Class 3: 0.0226, \n",
      "Class 4: 0.2272, Class 5: 0.2906, Class 6: 0.5505, \n",
      "Overall Mean Dice Score: 0.3393\n",
      "Overall Mean F-beta Score: 0.2897\n",
      "\n",
      "Training Loss: 0.5956, Validation Loss: 0.5777, Validation F-beta: 0.2897\n",
      "Epoch 155/4000\n",
      "Current lambda: 0.0500\n"
     ]
    },
    {
     "name": "stderr",
     "output_type": "stream",
     "text": [
      "Training: 100%|██████████| 24/24 [00:24<00:00,  1.01s/it, loss=0.588]\n",
      "Validation: 100%|██████████| 4/4 [00:02<00:00,  1.64it/s, loss=0.637]\n"
     ]
    },
    {
     "name": "stdout",
     "output_type": "stream",
     "text": [
      "Validation Dice Score\n",
      "Class 0: 0.6429, Class 1: 0.4215, Class 2: 0.0750, Class 3: 0.0007, \n",
      "Class 4: 0.3092, Class 5: 0.3311, Class 6: 0.4700, \n",
      "Validation F-beta Score\n",
      "Class 0: 0.4985, Class 1: 0.3489, Class 2: 0.0485, Class 3: 0.0055, \n",
      "Class 4: 0.2704, Class 5: 0.2393, Class 6: 0.3698, \n",
      "Overall Mean Dice Score: 0.3065\n",
      "Overall Mean F-beta Score: 0.2468\n",
      "\n",
      "Training Loss: 0.5924, Validation Loss: 0.5806, Validation F-beta: 0.2468\n",
      "Epoch 156/4000\n",
      "Current lambda: 0.0500\n"
     ]
    },
    {
     "name": "stderr",
     "output_type": "stream",
     "text": [
      "Training: 100%|██████████| 24/24 [00:23<00:00,  1.02it/s, loss=0.611]\n",
      "Validation: 100%|██████████| 4/4 [00:02<00:00,  1.75it/s, loss=0.596]\n"
     ]
    },
    {
     "name": "stdout",
     "output_type": "stream",
     "text": [
      "Validation Dice Score\n",
      "Class 0: 0.6546, Class 1: 0.5474, Class 2: 0.1499, Class 3: 0.0017, \n",
      "Class 4: 0.3405, Class 5: 0.3192, Class 6: 0.4929, \n",
      "Validation F-beta Score\n",
      "Class 0: 0.5089, Class 1: 0.4275, Class 2: 0.2083, Class 3: 0.0139, \n",
      "Class 4: 0.2474, Class 5: 0.2980, Class 6: 0.5054, \n",
      "Overall Mean Dice Score: 0.3403\n",
      "Overall Mean F-beta Score: 0.2984\n",
      "\n",
      "Training Loss: 0.5861, Validation Loss: 0.5831, Validation F-beta: 0.2984\n",
      "Epoch 157/4000\n",
      "Current lambda: 0.0500\n"
     ]
    },
    {
     "name": "stderr",
     "output_type": "stream",
     "text": [
      "Training: 100%|██████████| 24/24 [00:23<00:00,  1.03it/s, loss=0.587]\n",
      "Validation: 100%|██████████| 4/4 [00:02<00:00,  1.73it/s, loss=0.562]\n"
     ]
    },
    {
     "name": "stdout",
     "output_type": "stream",
     "text": [
      "Validation Dice Score\n",
      "Class 0: 0.6533, Class 1: 0.5405, Class 2: 0.0755, Class 3: 0.0036, \n",
      "Class 4: 0.4267, Class 5: 0.2977, Class 6: 0.5713, \n",
      "Validation F-beta Score\n",
      "Class 0: 0.5086, Class 1: 0.4142, Class 2: 0.0957, Class 3: 0.0274, \n",
      "Class 4: 0.3471, Class 5: 0.2301, Class 6: 0.4390, \n",
      "Overall Mean Dice Score: 0.3680\n",
      "Overall Mean F-beta Score: 0.2916\n",
      "\n",
      "Training Loss: 0.6041, Validation Loss: 0.5474, Validation F-beta: 0.2916\n",
      "Epoch 158/4000\n",
      "Current lambda: 0.0500\n"
     ]
    },
    {
     "name": "stderr",
     "output_type": "stream",
     "text": [
      "Training: 100%|██████████| 24/24 [00:23<00:00,  1.03it/s, loss=0.571]\n",
      "Validation: 100%|██████████| 4/4 [00:02<00:00,  1.76it/s, loss=0.544]\n"
     ]
    },
    {
     "name": "stdout",
     "output_type": "stream",
     "text": [
      "Validation Dice Score\n",
      "Class 0: 0.6529, Class 1: 0.4379, Class 2: 0.0292, Class 3: 0.0013, \n",
      "Class 4: 0.3373, Class 5: 0.3734, Class 6: 0.6838, \n",
      "Validation F-beta Score\n",
      "Class 0: 0.5056, Class 1: 0.3155, Class 2: 0.0261, Class 3: 0.0102, \n",
      "Class 4: 0.3171, Class 5: 0.3333, Class 6: 0.5559, \n",
      "Overall Mean Dice Score: 0.3668\n",
      "Overall Mean F-beta Score: 0.3064\n",
      "\n",
      "Training Loss: 0.5951, Validation Loss: 0.5386, Validation F-beta: 0.3064\n",
      "========================================================\n",
      "Best model saved based on validation loss: 0.5386\n",
      "========================================================\n",
      "Epoch 159/4000\n",
      "Current lambda: 0.0500\n"
     ]
    },
    {
     "name": "stderr",
     "output_type": "stream",
     "text": [
      "Training: 100%|██████████| 24/24 [00:23<00:00,  1.02it/s, loss=0.627]\n",
      "Validation: 100%|██████████| 4/4 [00:02<00:00,  1.75it/s, loss=0.549]\n"
     ]
    },
    {
     "name": "stdout",
     "output_type": "stream",
     "text": [
      "Validation Dice Score\n",
      "Class 0: 0.6469, Class 1: 0.4860, Class 2: 0.1330, Class 3: 0.0017, \n",
      "Class 4: 0.4642, Class 5: 0.3936, Class 6: 0.4831, \n",
      "Validation F-beta Score\n",
      "Class 0: 0.5016, Class 1: 0.4958, Class 2: 0.1316, Class 3: 0.0136, \n",
      "Class 4: 0.3958, Class 5: 0.3304, Class 6: 0.4307, \n",
      "Overall Mean Dice Score: 0.3657\n",
      "Overall Mean F-beta Score: 0.3333\n",
      "\n",
      "Training Loss: 0.5983, Validation Loss: 0.5752, Validation F-beta: 0.3333\n",
      "Epoch 160/4000\n",
      "Current lambda: 0.0500\n"
     ]
    },
    {
     "name": "stderr",
     "output_type": "stream",
     "text": [
      "Training: 100%|██████████| 24/24 [00:23<00:00,  1.02it/s, loss=0.594]\n",
      "Validation: 100%|██████████| 4/4 [00:02<00:00,  1.75it/s, loss=0.565]\n"
     ]
    },
    {
     "name": "stdout",
     "output_type": "stream",
     "text": [
      "Validation Dice Score\n",
      "Class 0: 0.6503, Class 1: 0.4953, Class 2: 0.1031, Class 3: 0.0016, \n",
      "Class 4: 0.1960, Class 5: 0.3490, Class 6: 0.4529, \n",
      "Validation F-beta Score\n",
      "Class 0: 0.5060, Class 1: 0.3758, Class 2: 0.1109, Class 3: 0.0130, \n",
      "Class 4: 0.1390, Class 5: 0.3167, Class 6: 0.3514, \n",
      "Overall Mean Dice Score: 0.2990\n",
      "Overall Mean F-beta Score: 0.2392\n",
      "\n",
      "Training Loss: 0.5884, Validation Loss: 0.5855, Validation F-beta: 0.2392\n",
      "Epoch 161/4000\n",
      "Current lambda: 0.0500\n"
     ]
    },
    {
     "name": "stderr",
     "output_type": "stream",
     "text": [
      "Training: 100%|██████████| 24/24 [00:23<00:00,  1.02it/s, loss=0.582]\n",
      "Validation: 100%|██████████| 4/4 [00:02<00:00,  1.70it/s, loss=0.517]\n"
     ]
    },
    {
     "name": "stdout",
     "output_type": "stream",
     "text": [
      "Validation Dice Score\n",
      "Class 0: 0.6538, Class 1: 0.4335, Class 2: 0.0775, Class 3: 0.0026, \n",
      "Class 4: 0.2483, Class 5: 0.3462, Class 6: 0.4796, \n",
      "Validation F-beta Score\n",
      "Class 0: 0.5085, Class 1: 0.3885, Class 2: 0.0498, Class 3: 0.0194, \n",
      "Class 4: 0.1838, Class 5: 0.2708, Class 6: 0.3823, \n",
      "Overall Mean Dice Score: 0.3020\n",
      "Overall Mean F-beta Score: 0.2490\n",
      "\n",
      "Training Loss: 0.5885, Validation Loss: 0.5701, Validation F-beta: 0.2490\n",
      "Epoch 162/4000\n",
      "Current lambda: 0.0500\n"
     ]
    },
    {
     "name": "stderr",
     "output_type": "stream",
     "text": [
      "Training: 100%|██████████| 24/24 [00:23<00:00,  1.01it/s, loss=0.6]  \n",
      "Validation: 100%|██████████| 4/4 [00:02<00:00,  1.69it/s, loss=0.578]\n"
     ]
    },
    {
     "name": "stdout",
     "output_type": "stream",
     "text": [
      "Validation Dice Score\n",
      "Class 0: 0.6484, Class 1: 0.2870, Class 2: 0.0781, Class 3: 0.0031, \n",
      "Class 4: 0.2073, Class 5: 0.2303, Class 6: 0.5096, \n",
      "Validation F-beta Score\n",
      "Class 0: 0.5037, Class 1: 0.2067, Class 2: 0.1715, Class 3: 0.0239, \n",
      "Class 4: 0.1680, Class 5: 0.1646, Class 6: 0.3603, \n",
      "Overall Mean Dice Score: 0.2474\n",
      "Overall Mean F-beta Score: 0.1847\n",
      "\n",
      "Training Loss: 0.5945, Validation Loss: 0.5893, Validation F-beta: 0.1847\n",
      "Validation loss did not improve. Reducing lambda to 0.0500\n",
      "Epoch 163/4000\n",
      "Current lambda: 0.0500\n"
     ]
    },
    {
     "name": "stderr",
     "output_type": "stream",
     "text": [
      "Training: 100%|██████████| 24/24 [00:23<00:00,  1.03it/s, loss=0.603]\n",
      "Validation: 100%|██████████| 4/4 [00:02<00:00,  1.73it/s, loss=0.518]\n"
     ]
    },
    {
     "name": "stdout",
     "output_type": "stream",
     "text": [
      "Validation Dice Score\n",
      "Class 0: 0.6473, Class 1: 0.6018, Class 2: 0.0083, Class 3: 0.0011, \n",
      "Class 4: 0.2372, Class 5: 0.3040, Class 6: 0.7229, \n",
      "Validation F-beta Score\n",
      "Class 0: 0.5027, Class 1: 0.6162, Class 2: 0.0132, Class 3: 0.0084, \n",
      "Class 4: 0.1555, Class 5: 0.2240, Class 6: 0.6836, \n",
      "Overall Mean Dice Score: 0.3734\n",
      "Overall Mean F-beta Score: 0.3375\n",
      "\n",
      "Training Loss: 0.5984, Validation Loss: 0.5607, Validation F-beta: 0.3375\n",
      "Epoch 164/4000\n",
      "Current lambda: 0.0500\n"
     ]
    },
    {
     "name": "stderr",
     "output_type": "stream",
     "text": [
      "Training: 100%|██████████| 24/24 [00:23<00:00,  1.04it/s, loss=0.577]\n",
      "Validation: 100%|██████████| 4/4 [00:02<00:00,  1.75it/s, loss=0.646]\n"
     ]
    },
    {
     "name": "stdout",
     "output_type": "stream",
     "text": [
      "Validation Dice Score\n",
      "Class 0: 0.6542, Class 1: 0.3291, Class 2: 0.0894, Class 3: 0.0020, \n",
      "Class 4: 0.3538, Class 5: 0.2811, Class 6: 0.4953, \n",
      "Validation F-beta Score\n",
      "Class 0: 0.5068, Class 1: 0.2649, Class 2: 0.0720, Class 3: 0.0153, \n",
      "Class 4: 0.3761, Class 5: 0.2449, Class 6: 0.3945, \n",
      "Overall Mean Dice Score: 0.2922\n",
      "Overall Mean F-beta Score: 0.2592\n",
      "\n",
      "Training Loss: 0.5815, Validation Loss: 0.5945, Validation F-beta: 0.2592\n",
      "Epoch 165/4000\n",
      "Current lambda: 0.0500\n"
     ]
    },
    {
     "name": "stderr",
     "output_type": "stream",
     "text": [
      "Training: 100%|██████████| 24/24 [00:23<00:00,  1.04it/s, loss=0.614]\n",
      "Validation: 100%|██████████| 4/4 [00:02<00:00,  1.77it/s, loss=0.562]\n"
     ]
    },
    {
     "name": "stdout",
     "output_type": "stream",
     "text": [
      "Validation Dice Score\n",
      "Class 0: 0.6411, Class 1: 0.7119, Class 2: 0.0626, Class 3: 0.0033, \n",
      "Class 4: 0.3713, Class 5: 0.1693, Class 6: 0.5756, \n",
      "Validation F-beta Score\n",
      "Class 0: 0.4936, Class 1: 0.6532, Class 2: 0.0388, Class 3: 0.0247, \n",
      "Class 4: 0.4314, Class 5: 0.1350, Class 6: 0.5171, \n",
      "Overall Mean Dice Score: 0.3663\n",
      "Overall Mean F-beta Score: 0.3523\n",
      "\n",
      "Training Loss: 0.5976, Validation Loss: 0.5872, Validation F-beta: 0.3523\n",
      "Epoch 166/4000\n",
      "Current lambda: 0.0500\n"
     ]
    },
    {
     "name": "stderr",
     "output_type": "stream",
     "text": [
      "Training: 100%|██████████| 24/24 [00:23<00:00,  1.03it/s, loss=0.588]\n",
      "Validation: 100%|██████████| 4/4 [00:02<00:00,  1.73it/s, loss=0.62] \n"
     ]
    },
    {
     "name": "stdout",
     "output_type": "stream",
     "text": [
      "Validation Dice Score\n",
      "Class 0: 0.6481, Class 1: 0.2720, Class 2: 0.0502, Class 3: 0.0017, \n",
      "Class 4: 0.3070, Class 5: 0.3596, Class 6: 0.6611, \n",
      "Validation F-beta Score\n",
      "Class 0: 0.5017, Class 1: 0.2223, Class 2: 0.0833, Class 3: 0.0130, \n",
      "Class 4: 0.2323, Class 5: 0.2895, Class 6: 0.6737, \n",
      "Overall Mean Dice Score: 0.3203\n",
      "Overall Mean F-beta Score: 0.2861\n",
      "\n",
      "Training Loss: 0.5856, Validation Loss: 0.5924, Validation F-beta: 0.2861\n",
      "Epoch 167/4000\n",
      "Current lambda: 0.0500\n"
     ]
    },
    {
     "name": "stderr",
     "output_type": "stream",
     "text": [
      "Training: 100%|██████████| 24/24 [00:23<00:00,  1.03it/s, loss=0.576]\n",
      "Validation: 100%|██████████| 4/4 [00:02<00:00,  1.73it/s, loss=0.615]\n"
     ]
    },
    {
     "name": "stdout",
     "output_type": "stream",
     "text": [
      "Validation Dice Score\n",
      "Class 0: 0.6531, Class 1: 0.6045, Class 2: 0.1739, Class 3: 0.0036, \n",
      "Class 4: 0.4089, Class 5: 0.2472, Class 6: 0.6295, \n",
      "Validation F-beta Score\n",
      "Class 0: 0.5062, Class 1: 0.5226, Class 2: 0.1644, Class 3: 0.0270, \n",
      "Class 4: 0.3722, Class 5: 0.2562, Class 6: 0.5877, \n",
      "Overall Mean Dice Score: 0.3787\n",
      "Overall Mean F-beta Score: 0.3531\n",
      "\n",
      "Training Loss: 0.5904, Validation Loss: 0.5706, Validation F-beta: 0.3531\n",
      "Validation loss did not improve. Reducing lambda to 0.0500\n",
      "Epoch 168/4000\n",
      "Current lambda: 0.0500\n"
     ]
    },
    {
     "name": "stderr",
     "output_type": "stream",
     "text": [
      "Training: 100%|██████████| 24/24 [00:23<00:00,  1.04it/s, loss=0.597]\n",
      "Validation: 100%|██████████| 4/4 [00:02<00:00,  1.76it/s, loss=0.566]\n"
     ]
    },
    {
     "name": "stdout",
     "output_type": "stream",
     "text": [
      "Validation Dice Score\n",
      "Class 0: 0.6512, Class 1: 0.5636, Class 2: 0.0362, Class 3: 0.0028, \n",
      "Class 4: 0.3218, Class 5: 0.2640, Class 6: 0.5791, \n",
      "Validation F-beta Score\n",
      "Class 0: 0.5045, Class 1: 0.4389, Class 2: 0.0388, Class 3: 0.0211, \n",
      "Class 4: 0.4079, Class 5: 0.2106, Class 6: 0.4811, \n",
      "Overall Mean Dice Score: 0.3463\n",
      "Overall Mean F-beta Score: 0.3119\n",
      "\n",
      "Training Loss: 0.5948, Validation Loss: 0.5675, Validation F-beta: 0.3119\n",
      "Epoch 169/4000\n",
      "Current lambda: 0.0500\n"
     ]
    },
    {
     "name": "stderr",
     "output_type": "stream",
     "text": [
      "Training: 100%|██████████| 24/24 [00:23<00:00,  1.04it/s, loss=0.506]\n",
      "Validation: 100%|██████████| 4/4 [00:02<00:00,  1.78it/s, loss=0.539]\n"
     ]
    },
    {
     "name": "stdout",
     "output_type": "stream",
     "text": [
      "Validation Dice Score\n",
      "Class 0: 0.6468, Class 1: 0.4435, Class 2: 0.0000, Class 3: 0.0023, \n",
      "Class 4: 0.4352, Class 5: 0.3044, Class 6: 0.6394, \n",
      "Validation F-beta Score\n",
      "Class 0: 0.5014, Class 1: 0.3847, Class 2: 0.0000, Class 3: 0.0176, \n",
      "Class 4: 0.3952, Class 5: 0.2231, Class 6: 0.5549, \n",
      "Overall Mean Dice Score: 0.3650\n",
      "Overall Mean F-beta Score: 0.3151\n",
      "\n",
      "Training Loss: 0.5754, Validation Loss: 0.5564, Validation F-beta: 0.3151\n",
      "Epoch 170/4000\n",
      "Current lambda: 0.0500\n"
     ]
    },
    {
     "name": "stderr",
     "output_type": "stream",
     "text": [
      "Training: 100%|██████████| 24/24 [00:23<00:00,  1.03it/s, loss=0.601]\n",
      "Validation: 100%|██████████| 4/4 [00:02<00:00,  1.74it/s, loss=0.61] \n"
     ]
    },
    {
     "name": "stdout",
     "output_type": "stream",
     "text": [
      "Validation Dice Score\n",
      "Class 0: 0.6413, Class 1: 0.6521, Class 2: 0.1000, Class 3: 0.0030, \n",
      "Class 4: 0.2002, Class 5: 0.3125, Class 6: 0.4076, \n",
      "Validation F-beta Score\n",
      "Class 0: 0.4972, Class 1: 0.6328, Class 2: 0.0989, Class 3: 0.0225, \n",
      "Class 4: 0.1770, Class 5: 0.2367, Class 6: 0.3927, \n",
      "Overall Mean Dice Score: 0.3151\n",
      "Overall Mean F-beta Score: 0.2924\n",
      "\n",
      "Training Loss: 0.5938, Validation Loss: 0.5822, Validation F-beta: 0.2924\n",
      "Epoch 171/4000\n",
      "Current lambda: 0.0500\n"
     ]
    },
    {
     "name": "stderr",
     "output_type": "stream",
     "text": [
      "Training: 100%|██████████| 24/24 [00:23<00:00,  1.04it/s, loss=0.622]\n",
      "Validation: 100%|██████████| 4/4 [00:02<00:00,  1.74it/s, loss=0.616]\n"
     ]
    },
    {
     "name": "stdout",
     "output_type": "stream",
     "text": [
      "Validation Dice Score\n",
      "Class 0: 0.6348, Class 1: 0.3045, Class 2: 0.0617, Class 3: 0.0019, \n",
      "Class 4: 0.2635, Class 5: 0.3740, Class 6: 0.5504, \n",
      "Validation F-beta Score\n",
      "Class 0: 0.4914, Class 1: 0.2310, Class 2: 0.0899, Class 3: 0.0149, \n",
      "Class 4: 0.1674, Class 5: 0.2849, Class 6: 0.4690, \n",
      "Overall Mean Dice Score: 0.2989\n",
      "Overall Mean F-beta Score: 0.2334\n",
      "\n",
      "Training Loss: 0.6000, Validation Loss: 0.5656, Validation F-beta: 0.2334\n",
      "Epoch 172/4000\n",
      "Current lambda: 0.0500\n"
     ]
    },
    {
     "name": "stderr",
     "output_type": "stream",
     "text": [
      "Training: 100%|██████████| 24/24 [00:23<00:00,  1.04it/s, loss=0.547]\n",
      "Validation: 100%|██████████| 4/4 [00:02<00:00,  1.75it/s, loss=0.618]\n"
     ]
    },
    {
     "name": "stdout",
     "output_type": "stream",
     "text": [
      "Validation Dice Score\n",
      "Class 0: 0.6532, Class 1: 0.6815, Class 2: 0.1963, Class 3: 0.0019, \n",
      "Class 4: 0.1976, Class 5: 0.2869, Class 6: 0.4580, \n",
      "Validation F-beta Score\n",
      "Class 0: 0.5051, Class 1: 0.6275, Class 2: 0.2367, Class 3: 0.0152, \n",
      "Class 4: 0.2063, Class 5: 0.2557, Class 6: 0.5461, \n",
      "Overall Mean Dice Score: 0.3252\n",
      "Overall Mean F-beta Score: 0.3302\n",
      "\n",
      "Training Loss: 0.5828, Validation Loss: 0.5996, Validation F-beta: 0.3302\n",
      "Validation loss did not improve. Reducing lambda to 0.0500\n",
      "Epoch 173/4000\n",
      "Current lambda: 0.0500\n"
     ]
    },
    {
     "name": "stderr",
     "output_type": "stream",
     "text": [
      "Training: 100%|██████████| 24/24 [00:23<00:00,  1.04it/s, loss=0.597]\n",
      "Validation: 100%|██████████| 4/4 [00:02<00:00,  1.76it/s, loss=0.519]\n"
     ]
    },
    {
     "name": "stdout",
     "output_type": "stream",
     "text": [
      "Validation Dice Score\n",
      "Class 0: 0.6520, Class 1: 0.5568, Class 2: 0.0837, Class 3: 0.0021, \n",
      "Class 4: 0.3630, Class 5: 0.3863, Class 6: 0.5464, \n",
      "Validation F-beta Score\n",
      "Class 0: 0.5059, Class 1: 0.5002, Class 2: 0.0931, Class 3: 0.0168, \n",
      "Class 4: 0.3384, Class 5: 0.3017, Class 6: 0.4277, \n",
      "Overall Mean Dice Score: 0.3709\n",
      "Overall Mean F-beta Score: 0.3170\n",
      "\n",
      "Training Loss: 0.5891, Validation Loss: 0.5441, Validation F-beta: 0.3170\n",
      "Epoch 174/4000\n",
      "Current lambda: 0.0500\n"
     ]
    },
    {
     "name": "stderr",
     "output_type": "stream",
     "text": [
      "Training: 100%|██████████| 24/24 [00:23<00:00,  1.03it/s, loss=0.528]\n",
      "Validation: 100%|██████████| 4/4 [00:02<00:00,  1.71it/s, loss=0.589]\n"
     ]
    },
    {
     "name": "stdout",
     "output_type": "stream",
     "text": [
      "Validation Dice Score\n",
      "Class 0: 0.6603, Class 1: 0.5622, Class 2: 0.1254, Class 3: 0.0032, \n",
      "Class 4: 0.2842, Class 5: 0.2354, Class 6: 0.5811, \n",
      "Validation F-beta Score\n",
      "Class 0: 0.5148, Class 1: 0.5092, Class 2: 0.1655, Class 3: 0.0246, \n",
      "Class 4: 0.2082, Class 5: 0.2013, Class 6: 0.5057, \n",
      "Overall Mean Dice Score: 0.3332\n",
      "Overall Mean F-beta Score: 0.2898\n",
      "\n",
      "Training Loss: 0.5872, Validation Loss: 0.5731, Validation F-beta: 0.2898\n",
      "Epoch 175/4000\n",
      "Current lambda: 0.0500\n"
     ]
    },
    {
     "name": "stderr",
     "output_type": "stream",
     "text": [
      "Training: 100%|██████████| 24/24 [00:23<00:00,  1.04it/s, loss=0.616]\n",
      "Validation: 100%|██████████| 4/4 [00:02<00:00,  1.73it/s, loss=0.525]\n"
     ]
    },
    {
     "name": "stdout",
     "output_type": "stream",
     "text": [
      "Validation Dice Score\n",
      "Class 0: 0.6510, Class 1: 0.5829, Class 2: 0.1744, Class 3: 0.0021, \n",
      "Class 4: 0.3786, Class 5: 0.3634, Class 6: 0.6159, \n",
      "Validation F-beta Score\n",
      "Class 0: 0.5044, Class 1: 0.4640, Class 2: 0.2138, Class 3: 0.0161, \n",
      "Class 4: 0.3258, Class 5: 0.3270, Class 6: 0.4910, \n",
      "Overall Mean Dice Score: 0.3886\n",
      "Overall Mean F-beta Score: 0.3248\n",
      "\n",
      "Training Loss: 0.6030, Validation Loss: 0.5552, Validation F-beta: 0.3248\n",
      "Epoch 176/4000\n",
      "Current lambda: 0.0500\n"
     ]
    },
    {
     "name": "stderr",
     "output_type": "stream",
     "text": [
      "Training: 100%|██████████| 24/24 [00:23<00:00,  1.03it/s, loss=0.602]\n",
      "Validation: 100%|██████████| 4/4 [00:02<00:00,  1.72it/s, loss=0.626]\n"
     ]
    },
    {
     "name": "stdout",
     "output_type": "stream",
     "text": [
      "Validation Dice Score\n",
      "Class 0: 0.6521, Class 1: 0.5721, Class 2: 0.1835, Class 3: 0.0033, \n",
      "Class 4: 0.3116, Class 5: 0.3514, Class 6: 0.3546, \n",
      "Validation F-beta Score\n",
      "Class 0: 0.5080, Class 1: 0.5020, Class 2: 0.2621, Class 3: 0.0256, \n",
      "Class 4: 0.2180, Class 5: 0.2888, Class 6: 0.3031, \n",
      "Overall Mean Dice Score: 0.3186\n",
      "Overall Mean F-beta Score: 0.2675\n",
      "\n",
      "Training Loss: 0.5896, Validation Loss: 0.5930, Validation F-beta: 0.2675\n",
      "Epoch 177/4000\n",
      "Current lambda: 0.0500\n"
     ]
    },
    {
     "name": "stderr",
     "output_type": "stream",
     "text": [
      "Training: 100%|██████████| 24/24 [00:23<00:00,  1.03it/s, loss=0.634]\n",
      "Validation: 100%|██████████| 4/4 [00:02<00:00,  1.72it/s, loss=0.526]\n"
     ]
    },
    {
     "name": "stdout",
     "output_type": "stream",
     "text": [
      "Validation Dice Score\n",
      "Class 0: 0.6534, Class 1: 0.4334, Class 2: 0.0756, Class 3: 0.0051, \n",
      "Class 4: 0.4380, Class 5: 0.2647, Class 6: 0.7178, \n",
      "Validation F-beta Score\n",
      "Class 0: 0.5064, Class 1: 0.3883, Class 2: 0.1219, Class 3: 0.0391, \n",
      "Class 4: 0.4205, Class 5: 0.2480, Class 6: 0.6594, \n",
      "Overall Mean Dice Score: 0.3718\n",
      "Overall Mean F-beta Score: 0.3510\n",
      "\n",
      "Training Loss: 0.6015, Validation Loss: 0.5927, Validation F-beta: 0.3510\n",
      "Validation loss did not improve. Reducing lambda to 0.0500\n",
      "Epoch 178/4000\n",
      "Current lambda: 0.0500\n"
     ]
    },
    {
     "name": "stderr",
     "output_type": "stream",
     "text": [
      "Training: 100%|██████████| 24/24 [00:23<00:00,  1.04it/s, loss=0.611]\n",
      "Validation: 100%|██████████| 4/4 [00:02<00:00,  1.75it/s, loss=0.564]\n"
     ]
    },
    {
     "name": "stdout",
     "output_type": "stream",
     "text": [
      "Validation Dice Score\n",
      "Class 0: 0.6517, Class 1: 0.5728, Class 2: 0.0469, Class 3: 0.0058, \n",
      "Class 4: 0.2784, Class 5: 0.1819, Class 6: 0.7021, \n",
      "Validation F-beta Score\n",
      "Class 0: 0.5041, Class 1: 0.5490, Class 2: 0.0332, Class 3: 0.0438, \n",
      "Class 4: 0.2430, Class 5: 0.1319, Class 6: 0.6263, \n",
      "Overall Mean Dice Score: 0.3482\n",
      "Overall Mean F-beta Score: 0.3188\n",
      "\n",
      "Training Loss: 0.5817, Validation Loss: 0.5887, Validation F-beta: 0.3188\n",
      "Epoch 179/4000\n",
      "Current lambda: 0.0500\n"
     ]
    },
    {
     "name": "stderr",
     "output_type": "stream",
     "text": [
      "Training: 100%|██████████| 24/24 [00:23<00:00,  1.03it/s, loss=0.634]\n",
      "Validation: 100%|██████████| 4/4 [00:02<00:00,  1.74it/s, loss=0.592]\n"
     ]
    },
    {
     "name": "stdout",
     "output_type": "stream",
     "text": [
      "Validation Dice Score\n",
      "Class 0: 0.6518, Class 1: 0.4268, Class 2: 0.0326, Class 3: 0.0009, \n",
      "Class 4: 0.3897, Class 5: 0.4608, Class 6: 0.5878, \n",
      "Validation F-beta Score\n",
      "Class 0: 0.5051, Class 1: 0.3979, Class 2: 0.0225, Class 3: 0.0074, \n",
      "Class 4: 0.4209, Class 5: 0.3669, Class 6: 0.5635, \n",
      "Overall Mean Dice Score: 0.3732\n",
      "Overall Mean F-beta Score: 0.3513\n",
      "\n",
      "Training Loss: 0.5963, Validation Loss: 0.5695, Validation F-beta: 0.3513\n",
      "Epoch 180/4000\n",
      "Current lambda: 0.0500\n"
     ]
    },
    {
     "name": "stderr",
     "output_type": "stream",
     "text": [
      "Training: 100%|██████████| 24/24 [00:23<00:00,  1.03it/s, loss=0.535]\n",
      "Validation: 100%|██████████| 4/4 [00:02<00:00,  1.75it/s, loss=0.62] \n"
     ]
    },
    {
     "name": "stdout",
     "output_type": "stream",
     "text": [
      "Validation Dice Score\n",
      "Class 0: 0.6482, Class 1: 0.3869, Class 2: 0.0246, Class 3: 0.0032, \n",
      "Class 4: 0.3137, Class 5: 0.1834, Class 6: 0.7416, \n",
      "Validation F-beta Score\n",
      "Class 0: 0.5007, Class 1: 0.3003, Class 2: 0.0204, Class 3: 0.0247, \n",
      "Class 4: 0.2757, Class 5: 0.1737, Class 6: 0.6445, \n",
      "Overall Mean Dice Score: 0.3258\n",
      "Overall Mean F-beta Score: 0.2838\n",
      "\n",
      "Training Loss: 0.5886, Validation Loss: 0.5937, Validation F-beta: 0.2838\n",
      "Epoch 181/4000\n",
      "Current lambda: 0.0500\n"
     ]
    },
    {
     "name": "stderr",
     "output_type": "stream",
     "text": [
      "Training: 100%|██████████| 24/24 [00:23<00:00,  1.03it/s, loss=0.626]\n",
      "Validation: 100%|██████████| 4/4 [00:02<00:00,  1.74it/s, loss=0.576]\n"
     ]
    },
    {
     "name": "stdout",
     "output_type": "stream",
     "text": [
      "Validation Dice Score\n",
      "Class 0: 0.6514, Class 1: 0.4850, Class 2: 0.0541, Class 3: 0.0033, \n",
      "Class 4: 0.3903, Class 5: 0.3939, Class 6: 0.5195, \n",
      "Validation F-beta Score\n",
      "Class 0: 0.5033, Class 1: 0.4263, Class 2: 0.0847, Class 3: 0.0259, \n",
      "Class 4: 0.3447, Class 5: 0.3809, Class 6: 0.3856, \n",
      "Overall Mean Dice Score: 0.3584\n",
      "Overall Mean F-beta Score: 0.3127\n",
      "\n",
      "Training Loss: 0.5961, Validation Loss: 0.5837, Validation F-beta: 0.3127\n",
      "Epoch 182/4000\n",
      "Current lambda: 0.0500\n"
     ]
    },
    {
     "name": "stderr",
     "output_type": "stream",
     "text": [
      "Training: 100%|██████████| 24/24 [00:23<00:00,  1.02it/s, loss=0.567]\n",
      "Validation: 100%|██████████| 4/4 [00:02<00:00,  1.72it/s, loss=0.576]\n"
     ]
    },
    {
     "name": "stdout",
     "output_type": "stream",
     "text": [
      "Validation Dice Score\n",
      "Class 0: 0.6504, Class 1: 0.4721, Class 2: 0.0000, Class 3: 0.0011, \n",
      "Class 4: 0.3660, Class 5: 0.3218, Class 6: 0.4990, \n",
      "Validation F-beta Score\n",
      "Class 0: 0.5034, Class 1: 0.3898, Class 2: 0.0000, Class 3: 0.0089, \n",
      "Class 4: 0.2615, Class 5: 0.2745, Class 6: 0.4438, \n",
      "Overall Mean Dice Score: 0.3320\n",
      "Overall Mean F-beta Score: 0.2757\n",
      "\n",
      "Training Loss: 0.5834, Validation Loss: 0.5662, Validation F-beta: 0.2757\n",
      "Validation loss did not improve. Reducing lambda to 0.0500\n",
      "Epoch 183/4000\n",
      "Current lambda: 0.0500\n"
     ]
    },
    {
     "name": "stderr",
     "output_type": "stream",
     "text": [
      "Training: 100%|██████████| 24/24 [00:23<00:00,  1.00it/s, loss=0.589]\n",
      "Validation: 100%|██████████| 4/4 [00:02<00:00,  1.73it/s, loss=0.565]\n"
     ]
    },
    {
     "name": "stdout",
     "output_type": "stream",
     "text": [
      "Validation Dice Score\n",
      "Class 0: 0.6478, Class 1: 0.5807, Class 2: 0.0157, Class 3: 0.0011, \n",
      "Class 4: 0.2921, Class 5: 0.3042, Class 6: 0.3542, \n",
      "Validation F-beta Score\n",
      "Class 0: 0.5030, Class 1: 0.4786, Class 2: 0.0118, Class 3: 0.0088, \n",
      "Class 4: 0.2286, Class 5: 0.2578, Class 6: 0.3707, \n",
      "Overall Mean Dice Score: 0.3065\n",
      "Overall Mean F-beta Score: 0.2689\n",
      "\n",
      "Training Loss: 0.5744, Validation Loss: 0.5780, Validation F-beta: 0.2689\n",
      "Epoch 184/4000\n",
      "Current lambda: 0.0500\n"
     ]
    },
    {
     "name": "stderr",
     "output_type": "stream",
     "text": [
      "Training: 100%|██████████| 24/24 [00:23<00:00,  1.01it/s, loss=0.556]\n",
      "Validation: 100%|██████████| 4/4 [00:02<00:00,  1.73it/s, loss=0.579]\n"
     ]
    },
    {
     "name": "stdout",
     "output_type": "stream",
     "text": [
      "Validation Dice Score\n",
      "Class 0: 0.6451, Class 1: 0.4733, Class 2: 0.0727, Class 3: 0.0019, \n",
      "Class 4: 0.3259, Class 5: 0.3001, Class 6: 0.7321, \n",
      "Validation F-beta Score\n",
      "Class 0: 0.4997, Class 1: 0.3852, Class 2: 0.0712, Class 3: 0.0144, \n",
      "Class 4: 0.2739, Class 5: 0.2332, Class 6: 0.6229, \n",
      "Overall Mean Dice Score: 0.3667\n",
      "Overall Mean F-beta Score: 0.3059\n",
      "\n",
      "Training Loss: 0.5931, Validation Loss: 0.5660, Validation F-beta: 0.3059\n",
      "Epoch 185/4000\n",
      "Current lambda: 0.0500\n"
     ]
    },
    {
     "name": "stderr",
     "output_type": "stream",
     "text": [
      "Training: 100%|██████████| 24/24 [00:23<00:00,  1.03it/s, loss=0.577]\n",
      "Validation: 100%|██████████| 4/4 [00:02<00:00,  1.72it/s, loss=0.542]\n"
     ]
    },
    {
     "name": "stdout",
     "output_type": "stream",
     "text": [
      "Validation Dice Score\n",
      "Class 0: 0.6578, Class 1: 0.5796, Class 2: 0.0718, Class 3: 0.0022, \n",
      "Class 4: 0.4615, Class 5: 0.2737, Class 6: 0.6983, \n",
      "Validation F-beta Score\n",
      "Class 0: 0.5128, Class 1: 0.4551, Class 2: 0.0468, Class 3: 0.0174, \n",
      "Class 4: 0.3698, Class 5: 0.2335, Class 6: 0.6495, \n",
      "Overall Mean Dice Score: 0.4031\n",
      "Overall Mean F-beta Score: 0.3451\n",
      "\n",
      "Training Loss: 0.5784, Validation Loss: 0.5622, Validation F-beta: 0.3451\n",
      "Epoch 186/4000\n",
      "Current lambda: 0.0500\n"
     ]
    },
    {
     "name": "stderr",
     "output_type": "stream",
     "text": [
      "Training: 100%|██████████| 24/24 [00:23<00:00,  1.03it/s, loss=0.595]\n",
      "Validation: 100%|██████████| 4/4 [00:02<00:00,  1.74it/s, loss=0.543]\n"
     ]
    },
    {
     "name": "stdout",
     "output_type": "stream",
     "text": [
      "Validation Dice Score\n",
      "Class 0: 0.6624, Class 1: 0.5055, Class 2: 0.0314, Class 3: 0.0049, \n",
      "Class 4: 0.5716, Class 5: 0.2621, Class 6: 0.6853, \n",
      "Validation F-beta Score\n",
      "Class 0: 0.5164, Class 1: 0.5605, Class 2: 0.0496, Class 3: 0.0366, \n",
      "Class 4: 0.4755, Class 5: 0.2035, Class 6: 0.6556, \n",
      "Overall Mean Dice Score: 0.4059\n",
      "Overall Mean F-beta Score: 0.3863\n",
      "\n",
      "Training Loss: 0.5809, Validation Loss: 0.5778, Validation F-beta: 0.3863\n",
      "Epoch 187/4000\n",
      "Current lambda: 0.0500\n"
     ]
    },
    {
     "name": "stderr",
     "output_type": "stream",
     "text": [
      "Training: 100%|██████████| 24/24 [00:23<00:00,  1.03it/s, loss=0.594]\n",
      "Validation: 100%|██████████| 4/4 [00:02<00:00,  1.68it/s, loss=0.57] \n"
     ]
    },
    {
     "name": "stdout",
     "output_type": "stream",
     "text": [
      "Validation Dice Score\n",
      "Class 0: 0.6464, Class 1: 0.4847, Class 2: 0.0701, Class 3: 0.0024, \n",
      "Class 4: 0.4443, Class 5: 0.2669, Class 6: 0.4954, \n",
      "Validation F-beta Score\n",
      "Class 0: 0.4998, Class 1: 0.4775, Class 2: 0.0587, Class 3: 0.0192, \n",
      "Class 4: 0.3587, Class 5: 0.2401, Class 6: 0.4373, \n",
      "Overall Mean Dice Score: 0.3387\n",
      "Overall Mean F-beta Score: 0.3066\n",
      "\n",
      "Training Loss: 0.5923, Validation Loss: 0.5833, Validation F-beta: 0.3066\n",
      "Validation loss did not improve. Reducing lambda to 0.0500\n",
      "Epoch 188/4000\n",
      "Current lambda: 0.0500\n"
     ]
    },
    {
     "name": "stderr",
     "output_type": "stream",
     "text": [
      "Training: 100%|██████████| 24/24 [00:23<00:00,  1.04it/s, loss=0.619]\n",
      "Validation: 100%|██████████| 4/4 [00:02<00:00,  1.75it/s, loss=0.578]\n"
     ]
    },
    {
     "name": "stdout",
     "output_type": "stream",
     "text": [
      "Validation Dice Score\n",
      "Class 0: 0.6553, Class 1: 0.4628, Class 2: 0.2070, Class 3: 0.0009, \n",
      "Class 4: 0.2455, Class 5: 0.3156, Class 6: 0.7249, \n",
      "Validation F-beta Score\n",
      "Class 0: 0.5086, Class 1: 0.3668, Class 2: 0.2028, Class 3: 0.0068, \n",
      "Class 4: 0.1995, Class 5: 0.2802, Class 6: 0.6168, \n",
      "Overall Mean Dice Score: 0.3499\n",
      "Overall Mean F-beta Score: 0.2940\n",
      "\n",
      "Training Loss: 0.5942, Validation Loss: 0.5689, Validation F-beta: 0.2940\n",
      "Epoch 189/4000\n",
      "Current lambda: 0.0500\n"
     ]
    },
    {
     "name": "stderr",
     "output_type": "stream",
     "text": [
      "Training: 100%|██████████| 24/24 [00:30<00:00,  1.25s/it, loss=0.559]\n",
      "Validation: 100%|██████████| 4/4 [00:02<00:00,  1.68it/s, loss=0.579]\n"
     ]
    },
    {
     "name": "stdout",
     "output_type": "stream",
     "text": [
      "Validation Dice Score\n",
      "Class 0: 0.6505, Class 1: 0.3409, Class 2: 0.1604, Class 3: 0.0024, \n",
      "Class 4: 0.2445, Class 5: 0.3425, Class 6: 0.7273, \n",
      "Validation F-beta Score\n",
      "Class 0: 0.5058, Class 1: 0.2712, Class 2: 0.1482, Class 3: 0.0179, \n",
      "Class 4: 0.1659, Class 5: 0.3597, Class 6: 0.6191, \n",
      "Overall Mean Dice Score: 0.3315\n",
      "Overall Mean F-beta Score: 0.2867\n",
      "\n",
      "Training Loss: 0.5975, Validation Loss: 0.5640, Validation F-beta: 0.2867\n",
      "Epoch 190/4000\n",
      "Current lambda: 0.0500\n"
     ]
    },
    {
     "name": "stderr",
     "output_type": "stream",
     "text": [
      "Training: 100%|██████████| 24/24 [00:24<00:00,  1.03s/it, loss=0.542]\n",
      "Validation: 100%|██████████| 4/4 [00:02<00:00,  1.60it/s, loss=0.612]\n"
     ]
    },
    {
     "name": "stdout",
     "output_type": "stream",
     "text": [
      "Validation Dice Score\n",
      "Class 0: 0.6570, Class 1: 0.5930, Class 2: 0.1006, Class 3: 0.0025, \n",
      "Class 4: 0.2589, Class 5: 0.3230, Class 6: 0.5753, \n",
      "Validation F-beta Score\n",
      "Class 0: 0.5102, Class 1: 0.5051, Class 2: 0.1114, Class 3: 0.0194, \n",
      "Class 4: 0.2248, Class 5: 0.2513, Class 6: 0.5962, \n",
      "Overall Mean Dice Score: 0.3505\n",
      "Overall Mean F-beta Score: 0.3193\n",
      "\n",
      "Training Loss: 0.5837, Validation Loss: 0.5803, Validation F-beta: 0.3193\n",
      "Epoch 191/4000\n",
      "Current lambda: 0.0500\n"
     ]
    },
    {
     "name": "stderr",
     "output_type": "stream",
     "text": [
      "Training: 100%|██████████| 24/24 [00:24<00:00,  1.04s/it, loss=0.607]\n",
      "Validation: 100%|██████████| 4/4 [00:02<00:00,  1.71it/s, loss=0.617]\n"
     ]
    },
    {
     "name": "stdout",
     "output_type": "stream",
     "text": [
      "Validation Dice Score\n",
      "Class 0: 0.6527, Class 1: 0.5416, Class 2: 0.0693, Class 3: 0.0025, \n",
      "Class 4: 0.4203, Class 5: 0.3275, Class 6: 0.5450, \n",
      "Validation F-beta Score\n",
      "Class 0: 0.5064, Class 1: 0.5263, Class 2: 0.0494, Class 3: 0.0194, \n",
      "Class 4: 0.4430, Class 5: 0.2415, Class 6: 0.4700, \n",
      "Overall Mean Dice Score: 0.3674\n",
      "Overall Mean F-beta Score: 0.3400\n",
      "\n",
      "Training Loss: 0.5884, Validation Loss: 0.5776, Validation F-beta: 0.3400\n",
      "Epoch 192/4000\n",
      "Current lambda: 0.0500\n"
     ]
    },
    {
     "name": "stderr",
     "output_type": "stream",
     "text": [
      "Training: 100%|██████████| 24/24 [00:23<00:00,  1.01it/s, loss=0.55] \n",
      "Validation: 100%|██████████| 4/4 [00:02<00:00,  1.69it/s, loss=0.613]\n"
     ]
    },
    {
     "name": "stdout",
     "output_type": "stream",
     "text": [
      "Validation Dice Score\n",
      "Class 0: 0.6565, Class 1: 0.3147, Class 2: 0.0006, Class 3: 0.0026, \n",
      "Class 4: 0.3144, Class 5: 0.2733, Class 6: 0.6083, \n",
      "Validation F-beta Score\n",
      "Class 0: 0.5106, Class 1: 0.2163, Class 2: 0.0006, Class 3: 0.0194, \n",
      "Class 4: 0.2594, Class 5: 0.2288, Class 6: 0.4928, \n",
      "Overall Mean Dice Score: 0.3027\n",
      "Overall Mean F-beta Score: 0.2433\n",
      "\n",
      "Training Loss: 0.5836, Validation Loss: 0.6083, Validation F-beta: 0.2433\n",
      "Validation loss did not improve. Reducing lambda to 0.0500\n",
      "Epoch 193/4000\n",
      "Current lambda: 0.0500\n"
     ]
    },
    {
     "name": "stderr",
     "output_type": "stream",
     "text": [
      "Training: 100%|██████████| 24/24 [00:23<00:00,  1.01it/s, loss=0.562]\n",
      "Validation: 100%|██████████| 4/4 [00:02<00:00,  1.68it/s, loss=0.629]\n"
     ]
    },
    {
     "name": "stdout",
     "output_type": "stream",
     "text": [
      "Validation Dice Score\n",
      "Class 0: 0.6565, Class 1: 0.4388, Class 2: 0.0097, Class 3: 0.0034, \n",
      "Class 4: 0.2805, Class 5: 0.2256, Class 6: 0.6975, \n",
      "Validation F-beta Score\n",
      "Class 0: 0.5106, Class 1: 0.4165, Class 2: 0.0145, Class 3: 0.0258, \n",
      "Class 4: 0.2131, Class 5: 0.2789, Class 6: 0.6463, \n",
      "Overall Mean Dice Score: 0.3292\n",
      "Overall Mean F-beta Score: 0.3161\n",
      "\n",
      "Training Loss: 0.5902, Validation Loss: 0.6326, Validation F-beta: 0.3161\n",
      "Epoch 194/4000\n",
      "Current lambda: 0.0500\n"
     ]
    },
    {
     "name": "stderr",
     "output_type": "stream",
     "text": [
      "Training: 100%|██████████| 24/24 [00:23<00:00,  1.01it/s, loss=0.576]\n",
      "Validation: 100%|██████████| 4/4 [00:02<00:00,  1.71it/s, loss=0.542]\n"
     ]
    },
    {
     "name": "stdout",
     "output_type": "stream",
     "text": [
      "Validation Dice Score\n",
      "Class 0: 0.6664, Class 1: 0.6419, Class 2: 0.2076, Class 3: 0.0044, \n",
      "Class 4: 0.3402, Class 5: 0.3451, Class 6: 0.7521, \n",
      "Validation F-beta Score\n",
      "Class 0: 0.5217, Class 1: 0.5581, Class 2: 0.2315, Class 3: 0.0336, \n",
      "Class 4: 0.2926, Class 5: 0.2766, Class 6: 0.7335, \n",
      "Overall Mean Dice Score: 0.4168\n",
      "Overall Mean F-beta Score: 0.3789\n",
      "\n",
      "Training Loss: 0.5916, Validation Loss: 0.5601, Validation F-beta: 0.3789\n",
      "Epoch 195/4000\n",
      "Current lambda: 0.0500\n"
     ]
    },
    {
     "name": "stderr",
     "output_type": "stream",
     "text": [
      "Training: 100%|██████████| 24/24 [00:23<00:00,  1.01it/s, loss=0.582]\n",
      "Validation: 100%|██████████| 4/4 [00:02<00:00,  1.68it/s, loss=0.609]\n"
     ]
    },
    {
     "name": "stdout",
     "output_type": "stream",
     "text": [
      "Validation Dice Score\n",
      "Class 0: 0.6504, Class 1: 0.6352, Class 2: 0.0818, Class 3: 0.0035, \n",
      "Class 4: 0.1623, Class 5: 0.2281, Class 6: 0.5286, \n",
      "Validation F-beta Score\n",
      "Class 0: 0.5052, Class 1: 0.5410, Class 2: 0.0591, Class 3: 0.0269, \n",
      "Class 4: 0.1262, Class 5: 0.2078, Class 6: 0.4539, \n",
      "Overall Mean Dice Score: 0.3115\n",
      "Overall Mean F-beta Score: 0.2712\n",
      "\n",
      "Training Loss: 0.5866, Validation Loss: 0.5780, Validation F-beta: 0.2712\n",
      "Epoch 196/4000\n",
      "Current lambda: 0.0500\n"
     ]
    },
    {
     "name": "stderr",
     "output_type": "stream",
     "text": [
      "Training: 100%|██████████| 24/24 [00:23<00:00,  1.01it/s, loss=0.571]\n",
      "Validation: 100%|██████████| 4/4 [00:02<00:00,  1.62it/s, loss=0.604]\n"
     ]
    },
    {
     "name": "stdout",
     "output_type": "stream",
     "text": [
      "Validation Dice Score\n",
      "Class 0: 0.6587, Class 1: 0.3620, Class 2: 0.0680, Class 3: 0.0035, \n",
      "Class 4: 0.2804, Class 5: 0.3259, Class 6: 0.6666, \n",
      "Validation F-beta Score\n",
      "Class 0: 0.5150, Class 1: 0.2575, Class 2: 0.0669, Class 3: 0.0269, \n",
      "Class 4: 0.2169, Class 5: 0.2677, Class 6: 0.5452, \n",
      "Overall Mean Dice Score: 0.3277\n",
      "Overall Mean F-beta Score: 0.2628\n",
      "\n",
      "Training Loss: 0.5934, Validation Loss: 0.5646, Validation F-beta: 0.2628\n",
      "Epoch 197/4000\n",
      "Current lambda: 0.0500\n"
     ]
    },
    {
     "name": "stderr",
     "output_type": "stream",
     "text": [
      "Training: 100%|██████████| 24/24 [00:23<00:00,  1.01it/s, loss=0.602]\n",
      "Validation: 100%|██████████| 4/4 [00:02<00:00,  1.68it/s, loss=0.524]\n"
     ]
    },
    {
     "name": "stdout",
     "output_type": "stream",
     "text": [
      "Validation Dice Score\n",
      "Class 0: 0.6500, Class 1: 0.5720, Class 2: 0.0543, Class 3: 0.0028, \n",
      "Class 4: 0.3459, Class 5: 0.2528, Class 6: 0.5514, \n",
      "Validation F-beta Score\n",
      "Class 0: 0.5092, Class 1: 0.5106, Class 2: 0.0395, Class 3: 0.0210, \n",
      "Class 4: 0.2410, Class 5: 0.2184, Class 6: 0.4629, \n",
      "Overall Mean Dice Score: 0.3450\n",
      "Overall Mean F-beta Score: 0.2908\n",
      "\n",
      "Training Loss: 0.5758, Validation Loss: 0.5806, Validation F-beta: 0.2908\n",
      "Validation loss did not improve. Reducing lambda to 0.0500\n",
      "Epoch 198/4000\n",
      "Current lambda: 0.0500\n"
     ]
    },
    {
     "name": "stderr",
     "output_type": "stream",
     "text": [
      "Training: 100%|██████████| 24/24 [00:24<00:00,  1.00s/it, loss=0.573]\n",
      "Validation: 100%|██████████| 4/4 [00:02<00:00,  1.64it/s, loss=0.622]\n"
     ]
    },
    {
     "name": "stdout",
     "output_type": "stream",
     "text": [
      "Validation Dice Score\n",
      "Class 0: 0.6671, Class 1: 0.6633, Class 2: 0.0182, Class 3: 0.0026, \n",
      "Class 4: 0.2632, Class 5: 0.2550, Class 6: 0.4844, \n",
      "Validation F-beta Score\n",
      "Class 0: 0.5224, Class 1: 0.5525, Class 2: 0.0196, Class 3: 0.0201, \n",
      "Class 4: 0.2492, Class 5: 0.1865, Class 6: 0.4054, \n",
      "Overall Mean Dice Score: 0.3337\n",
      "Overall Mean F-beta Score: 0.2827\n",
      "\n",
      "Training Loss: 0.5772, Validation Loss: 0.5700, Validation F-beta: 0.2827\n",
      "Epoch 199/4000\n",
      "Current lambda: 0.0500\n"
     ]
    },
    {
     "name": "stderr",
     "output_type": "stream",
     "text": [
      "Training: 100%|██████████| 24/24 [00:23<00:00,  1.01it/s, loss=0.593]\n",
      "Validation: 100%|██████████| 4/4 [00:02<00:00,  1.69it/s, loss=0.6]  \n"
     ]
    },
    {
     "name": "stdout",
     "output_type": "stream",
     "text": [
      "Validation Dice Score\n",
      "Class 0: 0.6586, Class 1: 0.3540, Class 2: 0.0471, Class 3: 0.0031, \n",
      "Class 4: 0.3816, Class 5: 0.3043, Class 6: 0.5261, \n",
      "Validation F-beta Score\n",
      "Class 0: 0.5141, Class 1: 0.2957, Class 2: 0.0865, Class 3: 0.0230, \n",
      "Class 4: 0.3418, Class 5: 0.2285, Class 6: 0.5004, \n",
      "Overall Mean Dice Score: 0.3138\n",
      "Overall Mean F-beta Score: 0.2779\n",
      "\n",
      "Training Loss: 0.5951, Validation Loss: 0.5748, Validation F-beta: 0.2779\n",
      "Epoch 200/4000\n",
      "Current lambda: 0.0500\n"
     ]
    },
    {
     "name": "stderr",
     "output_type": "stream",
     "text": [
      "Training: 100%|██████████| 24/24 [00:23<00:00,  1.01it/s, loss=0.609]\n",
      "Validation: 100%|██████████| 4/4 [00:02<00:00,  1.69it/s, loss=0.513]\n"
     ]
    },
    {
     "name": "stdout",
     "output_type": "stream",
     "text": [
      "Validation Dice Score\n",
      "Class 0: 0.6629, Class 1: 0.4210, Class 2: 0.0931, Class 3: 0.0017, \n",
      "Class 4: 0.4684, Class 5: 0.2874, Class 6: 0.7133, \n",
      "Validation F-beta Score\n",
      "Class 0: 0.5180, Class 1: 0.3339, Class 2: 0.1029, Class 3: 0.0132, \n",
      "Class 4: 0.3474, Class 5: 0.2295, Class 6: 0.6995, \n",
      "Overall Mean Dice Score: 0.3783\n",
      "Overall Mean F-beta Score: 0.3247\n",
      "\n",
      "Training Loss: 0.5943, Validation Loss: 0.5506, Validation F-beta: 0.3247\n",
      "Epoch 201/4000\n",
      "Current lambda: 0.0500\n"
     ]
    },
    {
     "name": "stderr",
     "output_type": "stream",
     "text": [
      "Training: 100%|██████████| 24/24 [00:23<00:00,  1.01it/s, loss=0.59] \n",
      "Validation: 100%|██████████| 4/4 [00:02<00:00,  1.66it/s, loss=0.561]\n"
     ]
    },
    {
     "name": "stdout",
     "output_type": "stream",
     "text": [
      "Validation Dice Score\n",
      "Class 0: 0.6585, Class 1: 0.5454, Class 2: 0.0576, Class 3: 0.0033, \n",
      "Class 4: 0.4545, Class 5: 0.3284, Class 6: 0.3781, \n",
      "Validation F-beta Score\n",
      "Class 0: 0.5134, Class 1: 0.4146, Class 2: 0.0370, Class 3: 0.0241, \n",
      "Class 4: 0.3832, Class 5: 0.3015, Class 6: 0.3176, \n",
      "Overall Mean Dice Score: 0.3419\n",
      "Overall Mean F-beta Score: 0.2882\n",
      "\n",
      "Training Loss: 0.5920, Validation Loss: 0.5552, Validation F-beta: 0.2882\n",
      "Epoch 202/4000\n",
      "Current lambda: 0.0500\n"
     ]
    },
    {
     "name": "stderr",
     "output_type": "stream",
     "text": [
      "Training: 100%|██████████| 24/24 [00:23<00:00,  1.01it/s, loss=0.536]\n",
      "Validation: 100%|██████████| 4/4 [00:02<00:00,  1.73it/s, loss=0.588]\n"
     ]
    },
    {
     "name": "stdout",
     "output_type": "stream",
     "text": [
      "Validation Dice Score\n",
      "Class 0: 0.6692, Class 1: 0.5201, Class 2: 0.1150, Class 3: 0.0038, \n",
      "Class 4: 0.2986, Class 5: 0.3184, Class 6: 0.5487, \n",
      "Validation F-beta Score\n",
      "Class 0: 0.5243, Class 1: 0.4178, Class 2: 0.1127, Class 3: 0.0289, \n",
      "Class 4: 0.2239, Class 5: 0.2569, Class 6: 0.4818, \n",
      "Overall Mean Dice Score: 0.3379\n",
      "Overall Mean F-beta Score: 0.2819\n",
      "\n",
      "Training Loss: 0.5891, Validation Loss: 0.5632, Validation F-beta: 0.2819\n",
      "Validation loss did not improve. Reducing lambda to 0.0500\n",
      "Epoch 203/4000\n",
      "Current lambda: 0.0500\n"
     ]
    },
    {
     "name": "stderr",
     "output_type": "stream",
     "text": [
      "Training: 100%|██████████| 24/24 [00:23<00:00,  1.03it/s, loss=0.508]\n",
      "Validation: 100%|██████████| 4/4 [00:02<00:00,  1.75it/s, loss=0.544]\n"
     ]
    },
    {
     "name": "stdout",
     "output_type": "stream",
     "text": [
      "Validation Dice Score\n",
      "Class 0: 0.6588, Class 1: 0.4994, Class 2: 0.1025, Class 3: 0.0015, \n",
      "Class 4: 0.2069, Class 5: 0.3293, Class 6: 0.5611, \n",
      "Validation F-beta Score\n",
      "Class 0: 0.5166, Class 1: 0.4080, Class 2: 0.1201, Class 3: 0.0120, \n",
      "Class 4: 0.1329, Class 5: 0.2513, Class 6: 0.4901, \n",
      "Overall Mean Dice Score: 0.3196\n",
      "Overall Mean F-beta Score: 0.2589\n",
      "\n",
      "Training Loss: 0.5797, Validation Loss: 0.5585, Validation F-beta: 0.2589\n",
      "Epoch 204/4000\n",
      "Current lambda: 0.0500\n"
     ]
    },
    {
     "name": "stderr",
     "output_type": "stream",
     "text": [
      "Training: 100%|██████████| 24/24 [00:23<00:00,  1.02it/s, loss=0.585]\n",
      "Validation: 100%|██████████| 4/4 [00:02<00:00,  1.73it/s, loss=0.578]\n"
     ]
    },
    {
     "name": "stdout",
     "output_type": "stream",
     "text": [
      "Validation Dice Score\n",
      "Class 0: 0.6653, Class 1: 0.4621, Class 2: 0.0937, Class 3: 0.0024, \n",
      "Class 4: 0.1729, Class 5: 0.2990, Class 6: 0.6769, \n",
      "Validation F-beta Score\n",
      "Class 0: 0.5209, Class 1: 0.3828, Class 2: 0.1016, Class 3: 0.0186, \n",
      "Class 4: 0.1193, Class 5: 0.2551, Class 6: 0.5629, \n",
      "Overall Mean Dice Score: 0.3226\n",
      "Overall Mean F-beta Score: 0.2678\n",
      "\n",
      "Training Loss: 0.5875, Validation Loss: 0.5716, Validation F-beta: 0.2678\n",
      "Epoch 205/4000\n",
      "Current lambda: 0.0500\n"
     ]
    },
    {
     "name": "stderr",
     "output_type": "stream",
     "text": [
      "Training: 100%|██████████| 24/24 [00:23<00:00,  1.03it/s, loss=0.556]\n",
      "Validation: 100%|██████████| 4/4 [00:02<00:00,  1.67it/s, loss=0.517]\n"
     ]
    },
    {
     "name": "stdout",
     "output_type": "stream",
     "text": [
      "Validation Dice Score\n",
      "Class 0: 0.6603, Class 1: 0.5237, Class 2: 0.0284, Class 3: 0.0025, \n",
      "Class 4: 0.4599, Class 5: 0.4000, Class 6: 0.6367, \n",
      "Validation F-beta Score\n",
      "Class 0: 0.5170, Class 1: 0.4928, Class 2: 0.0427, Class 3: 0.0192, \n",
      "Class 4: 0.3456, Class 5: 0.3338, Class 6: 0.5135, \n",
      "Overall Mean Dice Score: 0.4046\n",
      "Overall Mean F-beta Score: 0.3410\n",
      "\n",
      "Training Loss: 0.5714, Validation Loss: 0.5532, Validation F-beta: 0.3410\n",
      "Epoch 206/4000\n",
      "Current lambda: 0.0500\n"
     ]
    },
    {
     "name": "stderr",
     "output_type": "stream",
     "text": [
      "Training: 100%|██████████| 24/24 [00:23<00:00,  1.03it/s, loss=0.529]\n",
      "Validation: 100%|██████████| 4/4 [00:02<00:00,  1.74it/s, loss=0.554]\n"
     ]
    },
    {
     "name": "stdout",
     "output_type": "stream",
     "text": [
      "Validation Dice Score\n",
      "Class 0: 0.6581, Class 1: 0.6229, Class 2: 0.2067, Class 3: 0.0013, \n",
      "Class 4: 0.3654, Class 5: 0.3305, Class 6: 0.7188, \n",
      "Validation F-beta Score\n",
      "Class 0: 0.5132, Class 1: 0.5861, Class 2: 0.1931, Class 3: 0.0105, \n",
      "Class 4: 0.3115, Class 5: 0.2460, Class 6: 0.7085, \n",
      "Overall Mean Dice Score: 0.4078\n",
      "Overall Mean F-beta Score: 0.3725\n",
      "\n",
      "Training Loss: 0.5930, Validation Loss: 0.5543, Validation F-beta: 0.3725\n",
      "Epoch 207/4000\n",
      "Current lambda: 0.0500\n"
     ]
    },
    {
     "name": "stderr",
     "output_type": "stream",
     "text": [
      "Training: 100%|██████████| 24/24 [00:23<00:00,  1.03it/s, loss=0.543]\n",
      "Validation: 100%|██████████| 4/4 [00:02<00:00,  1.75it/s, loss=0.607]\n"
     ]
    },
    {
     "name": "stdout",
     "output_type": "stream",
     "text": [
      "Validation Dice Score\n",
      "Class 0: 0.6621, Class 1: 0.3278, Class 2: 0.0972, Class 3: 0.0031, \n",
      "Class 4: 0.1899, Class 5: 0.3799, Class 6: 0.7332, \n",
      "Validation F-beta Score\n",
      "Class 0: 0.5157, Class 1: 0.2731, Class 2: 0.0648, Class 3: 0.0239, \n",
      "Class 4: 0.1320, Class 5: 0.3375, Class 6: 0.6616, \n",
      "Overall Mean Dice Score: 0.3268\n",
      "Overall Mean F-beta Score: 0.2856\n",
      "\n",
      "Training Loss: 0.5693, Validation Loss: 0.5960, Validation F-beta: 0.2856\n",
      "Validation loss did not improve. Reducing lambda to 0.0500\n",
      "Epoch 208/4000\n",
      "Current lambda: 0.0500\n"
     ]
    },
    {
     "name": "stderr",
     "output_type": "stream",
     "text": [
      "Training: 100%|██████████| 24/24 [00:23<00:00,  1.02it/s, loss=0.58] \n",
      "Validation: 100%|██████████| 4/4 [00:02<00:00,  1.72it/s, loss=0.637]\n"
     ]
    },
    {
     "name": "stdout",
     "output_type": "stream",
     "text": [
      "Validation Dice Score\n",
      "Class 0: 0.6487, Class 1: 0.5303, Class 2: 0.1048, Class 3: 0.0043, \n",
      "Class 4: 0.2508, Class 5: 0.1785, Class 6: 0.5930, \n",
      "Validation F-beta Score\n",
      "Class 0: 0.5055, Class 1: 0.4883, Class 2: 0.1156, Class 3: 0.0328, \n",
      "Class 4: 0.1896, Class 5: 0.1365, Class 6: 0.7232, \n",
      "Overall Mean Dice Score: 0.3114\n",
      "Overall Mean F-beta Score: 0.3141\n",
      "\n",
      "Training Loss: 0.5860, Validation Loss: 0.5838, Validation F-beta: 0.3141\n",
      "Epoch 209/4000\n",
      "Current lambda: 0.0500\n"
     ]
    },
    {
     "name": "stderr",
     "output_type": "stream",
     "text": [
      "Training: 100%|██████████| 24/24 [00:23<00:00,  1.02it/s, loss=0.617]\n",
      "Validation: 100%|██████████| 4/4 [00:02<00:00,  1.74it/s, loss=0.539]\n"
     ]
    },
    {
     "name": "stdout",
     "output_type": "stream",
     "text": [
      "Validation Dice Score\n",
      "Class 0: 0.6576, Class 1: 0.7273, Class 2: 0.1517, Class 3: 0.0032, \n",
      "Class 4: 0.3050, Class 5: 0.2898, Class 6: 0.5366, \n",
      "Validation F-beta Score\n",
      "Class 0: 0.5117, Class 1: 0.6596, Class 2: 0.1577, Class 3: 0.0240, \n",
      "Class 4: 0.2682, Class 5: 0.2423, Class 6: 0.4460, \n",
      "Overall Mean Dice Score: 0.3724\n",
      "Overall Mean F-beta Score: 0.3281\n",
      "\n",
      "Training Loss: 0.5838, Validation Loss: 0.5705, Validation F-beta: 0.3281\n",
      "Epoch 210/4000\n",
      "Current lambda: 0.0500\n"
     ]
    },
    {
     "name": "stderr",
     "output_type": "stream",
     "text": [
      "Training: 100%|██████████| 24/24 [00:23<00:00,  1.03it/s, loss=0.649]\n",
      "Validation: 100%|██████████| 4/4 [00:02<00:00,  1.70it/s, loss=0.558]\n"
     ]
    },
    {
     "name": "stdout",
     "output_type": "stream",
     "text": [
      "Validation Dice Score\n",
      "Class 0: 0.6619, Class 1: 0.6192, Class 2: 0.0936, Class 3: 0.0017, \n",
      "Class 4: 0.2549, Class 5: 0.3294, Class 6: 0.6139, \n",
      "Validation F-beta Score\n",
      "Class 0: 0.5163, Class 1: 0.5630, Class 2: 0.1340, Class 3: 0.0135, \n",
      "Class 4: 0.1966, Class 5: 0.2607, Class 6: 0.5216, \n",
      "Overall Mean Dice Score: 0.3638\n",
      "Overall Mean F-beta Score: 0.3111\n",
      "\n",
      "Training Loss: 0.5849, Validation Loss: 0.5644, Validation F-beta: 0.3111\n",
      "Epoch 211/4000\n",
      "Current lambda: 0.0500\n"
     ]
    },
    {
     "name": "stderr",
     "output_type": "stream",
     "text": [
      "Training: 100%|██████████| 24/24 [00:23<00:00,  1.03it/s, loss=0.565]\n",
      "Validation: 100%|██████████| 4/4 [00:02<00:00,  1.69it/s, loss=0.573]\n"
     ]
    },
    {
     "name": "stdout",
     "output_type": "stream",
     "text": [
      "Validation Dice Score\n",
      "Class 0: 0.6676, Class 1: 0.6926, Class 2: 0.0928, Class 3: 0.0024, \n",
      "Class 4: 0.4368, Class 5: 0.3526, Class 6: 0.7408, \n",
      "Validation F-beta Score\n",
      "Class 0: 0.5213, Class 1: 0.5729, Class 2: 0.1092, Class 3: 0.0192, \n",
      "Class 4: 0.4305, Class 5: 0.2688, Class 6: 0.6571, \n",
      "Overall Mean Dice Score: 0.4450\n",
      "Overall Mean F-beta Score: 0.3897\n",
      "\n",
      "Training Loss: 0.5880, Validation Loss: 0.5509, Validation F-beta: 0.3897\n",
      "Epoch 212/4000\n",
      "Current lambda: 0.0500\n"
     ]
    },
    {
     "name": "stderr",
     "output_type": "stream",
     "text": [
      "Training: 100%|██████████| 24/24 [00:23<00:00,  1.02it/s, loss=0.614]\n",
      "Validation: 100%|██████████| 4/4 [00:02<00:00,  1.74it/s, loss=0.596]\n"
     ]
    },
    {
     "name": "stdout",
     "output_type": "stream",
     "text": [
      "Validation Dice Score\n",
      "Class 0: 0.6415, Class 1: 0.6817, Class 2: 0.0375, Class 3: 0.0014, \n",
      "Class 4: 0.3219, Class 5: 0.2934, Class 6: 0.4833, \n",
      "Validation F-beta Score\n",
      "Class 0: 0.4975, Class 1: 0.6229, Class 2: 0.0804, Class 3: 0.0110, \n",
      "Class 4: 0.2205, Class 5: 0.2514, Class 6: 0.3919, \n",
      "Overall Mean Dice Score: 0.3564\n",
      "Overall Mean F-beta Score: 0.2995\n",
      "\n",
      "Training Loss: 0.5914, Validation Loss: 0.5748, Validation F-beta: 0.2995\n",
      "Validation loss did not improve. Reducing lambda to 0.0500\n",
      "Epoch 213/4000\n",
      "Current lambda: 0.0500\n"
     ]
    },
    {
     "name": "stderr",
     "output_type": "stream",
     "text": [
      "Training: 100%|██████████| 24/24 [00:23<00:00,  1.03it/s, loss=0.597]\n",
      "Validation: 100%|██████████| 4/4 [00:02<00:00,  1.74it/s, loss=0.515]\n"
     ]
    },
    {
     "name": "stdout",
     "output_type": "stream",
     "text": [
      "Validation Dice Score\n",
      "Class 0: 0.6533, Class 1: 0.5095, Class 2: 0.1303, Class 3: 0.0023, \n",
      "Class 4: 0.4255, Class 5: 0.3192, Class 6: 0.5324, \n",
      "Validation F-beta Score\n",
      "Class 0: 0.5067, Class 1: 0.3781, Class 2: 0.1500, Class 3: 0.0178, \n",
      "Class 4: 0.3383, Class 5: 0.3577, Class 6: 0.4796, \n",
      "Overall Mean Dice Score: 0.3578\n",
      "Overall Mean F-beta Score: 0.3143\n",
      "\n",
      "Training Loss: 0.5890, Validation Loss: 0.5656, Validation F-beta: 0.3143\n",
      "Epoch 214/4000\n",
      "Current lambda: 0.0500\n"
     ]
    },
    {
     "name": "stderr",
     "output_type": "stream",
     "text": [
      "Training: 100%|██████████| 24/24 [00:23<00:00,  1.03it/s, loss=0.579]\n",
      "Validation: 100%|██████████| 4/4 [00:02<00:00,  1.70it/s, loss=0.604]\n"
     ]
    },
    {
     "name": "stdout",
     "output_type": "stream",
     "text": [
      "Validation Dice Score\n",
      "Class 0: 0.6560, Class 1: 0.3298, Class 2: 0.0046, Class 3: 0.0016, \n",
      "Class 4: 0.4506, Class 5: 0.3415, Class 6: 0.5376, \n",
      "Validation F-beta Score\n",
      "Class 0: 0.5102, Class 1: 0.2690, Class 2: 0.0050, Class 3: 0.0123, \n",
      "Class 4: 0.3625, Class 5: 0.2687, Class 6: 0.4924, \n",
      "Overall Mean Dice Score: 0.3322\n",
      "Overall Mean F-beta Score: 0.2810\n",
      "\n",
      "Training Loss: 0.5963, Validation Loss: 0.5566, Validation F-beta: 0.2810\n",
      "Epoch 215/4000\n",
      "Current lambda: 0.0500\n"
     ]
    },
    {
     "name": "stderr",
     "output_type": "stream",
     "text": [
      "Training: 100%|██████████| 24/24 [00:23<00:00,  1.01it/s, loss=0.544]\n",
      "Validation: 100%|██████████| 4/4 [00:02<00:00,  1.71it/s, loss=0.532]\n"
     ]
    },
    {
     "name": "stdout",
     "output_type": "stream",
     "text": [
      "Validation Dice Score\n",
      "Class 0: 0.6656, Class 1: 0.6141, Class 2: 0.0654, Class 3: 0.0016, \n",
      "Class 4: 0.2621, Class 5: 0.3657, Class 6: 0.5852, \n",
      "Validation F-beta Score\n",
      "Class 0: 0.5187, Class 1: 0.6178, Class 2: 0.0590, Class 3: 0.0125, \n",
      "Class 4: 0.3133, Class 5: 0.2902, Class 6: 0.5177, \n",
      "Overall Mean Dice Score: 0.3657\n",
      "Overall Mean F-beta Score: 0.3503\n",
      "\n",
      "Training Loss: 0.5923, Validation Loss: 0.5650, Validation F-beta: 0.3503\n",
      "Epoch 216/4000\n",
      "Current lambda: 0.0500\n"
     ]
    },
    {
     "name": "stderr",
     "output_type": "stream",
     "text": [
      "Training: 100%|██████████| 24/24 [00:23<00:00,  1.02it/s, loss=0.536]\n",
      "Validation: 100%|██████████| 4/4 [00:02<00:00,  1.66it/s, loss=0.611]\n"
     ]
    },
    {
     "name": "stdout",
     "output_type": "stream",
     "text": [
      "Validation Dice Score\n",
      "Class 0: 0.6614, Class 1: 0.2765, Class 2: 0.0841, Class 3: 0.0037, \n",
      "Class 4: 0.3237, Class 5: 0.2985, Class 6: 0.7290, \n",
      "Validation F-beta Score\n",
      "Class 0: 0.5147, Class 1: 0.2078, Class 2: 0.1141, Class 3: 0.0279, \n",
      "Class 4: 0.3754, Class 5: 0.2571, Class 6: 0.6292, \n",
      "Overall Mean Dice Score: 0.3263\n",
      "Overall Mean F-beta Score: 0.2995\n",
      "\n",
      "Training Loss: 0.5958, Validation Loss: 0.5844, Validation F-beta: 0.2995\n",
      "Epoch 217/4000\n",
      "Current lambda: 0.0500\n"
     ]
    },
    {
     "name": "stderr",
     "output_type": "stream",
     "text": [
      "Training: 100%|██████████| 24/24 [00:23<00:00,  1.02it/s, loss=0.633]\n",
      "Validation: 100%|██████████| 4/4 [00:02<00:00,  1.69it/s, loss=0.589]\n"
     ]
    },
    {
     "name": "stdout",
     "output_type": "stream",
     "text": [
      "Validation Dice Score\n",
      "Class 0: 0.6597, Class 1: 0.5828, Class 2: 0.1058, Class 3: 0.0021, \n",
      "Class 4: 0.1432, Class 5: 0.3896, Class 6: 0.6091, \n",
      "Validation F-beta Score\n",
      "Class 0: 0.5137, Class 1: 0.5990, Class 2: 0.1024, Class 3: 0.0159, \n",
      "Class 4: 0.1091, Class 5: 0.2989, Class 6: 0.6645, \n",
      "Overall Mean Dice Score: 0.3454\n",
      "Overall Mean F-beta Score: 0.3375\n",
      "\n",
      "Training Loss: 0.5881, Validation Loss: 0.5732, Validation F-beta: 0.3375\n",
      "Validation loss did not improve. Reducing lambda to 0.0500\n",
      "Epoch 218/4000\n",
      "Current lambda: 0.0500\n"
     ]
    },
    {
     "name": "stderr",
     "output_type": "stream",
     "text": [
      "Training: 100%|██████████| 24/24 [00:23<00:00,  1.02it/s, loss=0.573]\n",
      "Validation: 100%|██████████| 4/4 [00:02<00:00,  1.70it/s, loss=0.603]\n"
     ]
    },
    {
     "name": "stdout",
     "output_type": "stream",
     "text": [
      "Validation Dice Score\n",
      "Class 0: 0.6656, Class 1: 0.4661, Class 2: 0.0318, Class 3: 0.0039, \n",
      "Class 4: 0.3012, Class 5: 0.2314, Class 6: 0.6749, \n",
      "Validation F-beta Score\n",
      "Class 0: 0.5221, Class 1: 0.4087, Class 2: 0.0353, Class 3: 0.0306, \n",
      "Class 4: 0.2223, Class 5: 0.1962, Class 6: 0.5605, \n",
      "Overall Mean Dice Score: 0.3355\n",
      "Overall Mean F-beta Score: 0.2837\n",
      "\n",
      "Training Loss: 0.5820, Validation Loss: 0.5875, Validation F-beta: 0.2837\n",
      "Epoch 219/4000\n",
      "Current lambda: 0.0500\n"
     ]
    },
    {
     "name": "stderr",
     "output_type": "stream",
     "text": [
      "Training: 100%|██████████| 24/24 [00:23<00:00,  1.01it/s, loss=0.574]\n",
      "Validation: 100%|██████████| 4/4 [00:02<00:00,  1.69it/s, loss=0.567]\n"
     ]
    },
    {
     "name": "stdout",
     "output_type": "stream",
     "text": [
      "Validation Dice Score\n",
      "Class 0: 0.6653, Class 1: 0.4234, Class 2: 0.0649, Class 3: 0.0045, \n",
      "Class 4: 0.3699, Class 5: 0.3317, Class 6: 0.4118, \n",
      "Validation F-beta Score\n",
      "Class 0: 0.5209, Class 1: 0.3079, Class 2: 0.0582, Class 3: 0.0345, \n",
      "Class 4: 0.3154, Class 5: 0.3097, Class 6: 0.3781, \n",
      "Overall Mean Dice Score: 0.3083\n",
      "Overall Mean F-beta Score: 0.2691\n",
      "\n",
      "Training Loss: 0.5968, Validation Loss: 0.5778, Validation F-beta: 0.2691\n",
      "Epoch 220/4000\n",
      "Current lambda: 0.0500\n"
     ]
    },
    {
     "name": "stderr",
     "output_type": "stream",
     "text": [
      "Training: 100%|██████████| 24/24 [00:23<00:00,  1.02it/s, loss=0.595]\n",
      "Validation: 100%|██████████| 4/4 [00:02<00:00,  1.66it/s, loss=0.558]\n"
     ]
    },
    {
     "name": "stdout",
     "output_type": "stream",
     "text": [
      "Validation Dice Score\n",
      "Class 0: 0.6645, Class 1: 0.3960, Class 2: 0.0915, Class 3: 0.0027, \n",
      "Class 4: 0.4180, Class 5: 0.3760, Class 6: 0.6573, \n",
      "Validation F-beta Score\n",
      "Class 0: 0.5181, Class 1: 0.2899, Class 2: 0.1231, Class 3: 0.0213, \n",
      "Class 4: 0.3813, Class 5: 0.3338, Class 6: 0.5228, \n",
      "Overall Mean Dice Score: 0.3700\n",
      "Overall Mean F-beta Score: 0.3098\n",
      "\n",
      "Training Loss: 0.5772, Validation Loss: 0.5645, Validation F-beta: 0.3098\n",
      "Epoch 221/4000\n",
      "Current lambda: 0.0500\n"
     ]
    },
    {
     "name": "stderr",
     "output_type": "stream",
     "text": [
      "Training: 100%|██████████| 24/24 [00:23<00:00,  1.02it/s, loss=0.599]\n",
      "Validation: 100%|██████████| 4/4 [00:02<00:00,  1.74it/s, loss=0.644]\n"
     ]
    },
    {
     "name": "stdout",
     "output_type": "stream",
     "text": [
      "Validation Dice Score\n",
      "Class 0: 0.6674, Class 1: 0.3673, Class 2: 0.0782, Class 3: 0.0058, \n",
      "Class 4: 0.2605, Class 5: 0.3039, Class 6: 0.6911, \n",
      "Validation F-beta Score\n",
      "Class 0: 0.5213, Class 1: 0.2654, Class 2: 0.0620, Class 3: 0.0433, \n",
      "Class 4: 0.3098, Class 5: 0.2815, Class 6: 0.6511, \n",
      "Overall Mean Dice Score: 0.3257\n",
      "Overall Mean F-beta Score: 0.3102\n",
      "\n",
      "Training Loss: 0.5856, Validation Loss: 0.5911, Validation F-beta: 0.3102\n",
      "Epoch 222/4000\n",
      "Current lambda: 0.0500\n"
     ]
    },
    {
     "name": "stderr",
     "output_type": "stream",
     "text": [
      "Training: 100%|██████████| 24/24 [00:23<00:00,  1.03it/s, loss=0.609]\n",
      "Validation: 100%|██████████| 4/4 [00:02<00:00,  1.72it/s, loss=0.515]\n"
     ]
    },
    {
     "name": "stdout",
     "output_type": "stream",
     "text": [
      "Validation Dice Score\n",
      "Class 0: 0.6642, Class 1: 0.3522, Class 2: 0.0740, Class 3: 0.0047, \n",
      "Class 4: 0.3886, Class 5: 0.2553, Class 6: 0.7222, \n",
      "Validation F-beta Score\n",
      "Class 0: 0.5209, Class 1: 0.3082, Class 2: 0.0965, Class 3: 0.0359, \n",
      "Class 4: 0.2755, Class 5: 0.2001, Class 6: 0.5931, \n",
      "Overall Mean Dice Score: 0.3446\n",
      "Overall Mean F-beta Score: 0.2825\n",
      "\n",
      "Training Loss: 0.5775, Validation Loss: 0.5640, Validation F-beta: 0.2825\n",
      "Validation loss did not improve. Reducing lambda to 0.0500\n",
      "Epoch 223/4000\n",
      "Current lambda: 0.0500\n"
     ]
    },
    {
     "name": "stderr",
     "output_type": "stream",
     "text": [
      "Training: 100%|██████████| 24/24 [00:23<00:00,  1.02it/s, loss=0.602]\n",
      "Validation: 100%|██████████| 4/4 [00:02<00:00,  1.68it/s, loss=0.555]\n"
     ]
    },
    {
     "name": "stdout",
     "output_type": "stream",
     "text": [
      "Validation Dice Score\n",
      "Class 0: 0.6688, Class 1: 0.5333, Class 2: 0.0839, Class 3: 0.0059, \n",
      "Class 4: 0.1944, Class 5: 0.1729, Class 6: 0.6091, \n",
      "Validation F-beta Score\n",
      "Class 0: 0.5233, Class 1: 0.4141, Class 2: 0.0628, Class 3: 0.0446, \n",
      "Class 4: 0.1721, Class 5: 0.1657, Class 6: 0.5438, \n",
      "Overall Mean Dice Score: 0.3031\n",
      "Overall Mean F-beta Score: 0.2681\n",
      "\n",
      "Training Loss: 0.5880, Validation Loss: 0.6029, Validation F-beta: 0.2681\n",
      "Epoch 224/4000\n",
      "Current lambda: 0.0500\n"
     ]
    },
    {
     "name": "stderr",
     "output_type": "stream",
     "text": [
      "Training: 100%|██████████| 24/24 [00:23<00:00,  1.03it/s, loss=0.624]\n",
      "Validation: 100%|██████████| 4/4 [00:02<00:00,  1.68it/s, loss=0.55] \n"
     ]
    },
    {
     "name": "stdout",
     "output_type": "stream",
     "text": [
      "Validation Dice Score\n",
      "Class 0: 0.6670, Class 1: 0.5835, Class 2: 0.1092, Class 3: 0.0052, \n",
      "Class 4: 0.3501, Class 5: 0.3631, Class 6: 0.6507, \n",
      "Validation F-beta Score\n",
      "Class 0: 0.5209, Class 1: 0.4668, Class 2: 0.0956, Class 3: 0.0396, \n",
      "Class 4: 0.3036, Class 5: 0.3320, Class 6: 0.6013, \n",
      "Overall Mean Dice Score: 0.3905\n",
      "Overall Mean F-beta Score: 0.3487\n",
      "\n",
      "Training Loss: 0.5767, Validation Loss: 0.5455, Validation F-beta: 0.3487\n",
      "Epoch 225/4000\n",
      "Current lambda: 0.0500\n"
     ]
    },
    {
     "name": "stderr",
     "output_type": "stream",
     "text": [
      "Training: 100%|██████████| 24/24 [00:23<00:00,  1.02it/s, loss=0.514]\n",
      "Validation: 100%|██████████| 4/4 [00:02<00:00,  1.70it/s, loss=0.557]\n"
     ]
    },
    {
     "name": "stdout",
     "output_type": "stream",
     "text": [
      "Validation Dice Score\n",
      "Class 0: 0.6657, Class 1: 0.6070, Class 2: 0.0154, Class 3: 0.0036, \n",
      "Class 4: 0.3831, Class 5: 0.3157, Class 6: 0.5754, \n",
      "Validation F-beta Score\n",
      "Class 0: 0.5217, Class 1: 0.5859, Class 2: 0.0170, Class 3: 0.0275, \n",
      "Class 4: 0.3408, Class 5: 0.2384, Class 6: 0.4534, \n",
      "Overall Mean Dice Score: 0.3770\n",
      "Overall Mean F-beta Score: 0.3292\n",
      "\n",
      "Training Loss: 0.5701, Validation Loss: 0.5500, Validation F-beta: 0.3292\n",
      "Epoch 226/4000\n",
      "Current lambda: 0.0500\n"
     ]
    },
    {
     "name": "stderr",
     "output_type": "stream",
     "text": [
      "Training: 100%|██████████| 24/24 [00:23<00:00,  1.02it/s, loss=0.576]\n",
      "Validation: 100%|██████████| 4/4 [00:02<00:00,  1.76it/s, loss=0.545]\n"
     ]
    },
    {
     "name": "stdout",
     "output_type": "stream",
     "text": [
      "Validation Dice Score\n",
      "Class 0: 0.6557, Class 1: 0.4090, Class 2: 0.0000, Class 3: 0.0035, \n",
      "Class 4: 0.4109, Class 5: 0.3584, Class 6: 0.7167, \n",
      "Validation F-beta Score\n",
      "Class 0: 0.5114, Class 1: 0.3611, Class 2: 0.0000, Class 3: 0.0276, \n",
      "Class 4: 0.2987, Class 5: 0.3154, Class 6: 0.7012, \n",
      "Overall Mean Dice Score: 0.3797\n",
      "Overall Mean F-beta Score: 0.3408\n",
      "\n",
      "Training Loss: 0.5896, Validation Loss: 0.5654, Validation F-beta: 0.3408\n",
      "Epoch 227/4000\n",
      "Current lambda: 0.0500\n"
     ]
    },
    {
     "name": "stderr",
     "output_type": "stream",
     "text": [
      "Training: 100%|██████████| 24/24 [00:23<00:00,  1.02it/s, loss=0.569]\n",
      "Validation: 100%|██████████| 4/4 [00:02<00:00,  1.70it/s, loss=0.548]\n"
     ]
    },
    {
     "name": "stdout",
     "output_type": "stream",
     "text": [
      "Validation Dice Score\n",
      "Class 0: 0.6592, Class 1: 0.6756, Class 2: 0.0432, Class 3: 0.0037, \n",
      "Class 4: 0.3313, Class 5: 0.3104, Class 6: 0.7444, \n",
      "Validation F-beta Score\n",
      "Class 0: 0.5122, Class 1: 0.6370, Class 2: 0.0465, Class 3: 0.0287, \n",
      "Class 4: 0.3224, Class 5: 0.2532, Class 6: 0.7591, \n",
      "Overall Mean Dice Score: 0.4131\n",
      "Overall Mean F-beta Score: 0.4001\n",
      "\n",
      "Training Loss: 0.5859, Validation Loss: 0.5831, Validation F-beta: 0.4001\n",
      "Validation loss did not improve. Reducing lambda to 0.0500\n",
      "Epoch 228/4000\n",
      "Current lambda: 0.0500\n"
     ]
    },
    {
     "name": "stderr",
     "output_type": "stream",
     "text": [
      "Training: 100%|██████████| 24/24 [00:23<00:00,  1.04it/s, loss=0.606]\n",
      "Validation: 100%|██████████| 4/4 [00:02<00:00,  1.71it/s, loss=0.573]\n"
     ]
    },
    {
     "name": "stdout",
     "output_type": "stream",
     "text": [
      "Validation Dice Score\n",
      "Class 0: 0.6612, Class 1: 0.5494, Class 2: 0.0399, Class 3: 0.0022, \n",
      "Class 4: 0.3344, Class 5: 0.3301, Class 6: 0.6066, \n",
      "Validation F-beta Score\n",
      "Class 0: 0.5150, Class 1: 0.4813, Class 2: 0.0269, Class 3: 0.0162, \n",
      "Class 4: 0.2739, Class 5: 0.3184, Class 6: 0.5518, \n",
      "Overall Mean Dice Score: 0.3645\n",
      "Overall Mean F-beta Score: 0.3283\n",
      "\n",
      "Training Loss: 0.5949, Validation Loss: 0.5743, Validation F-beta: 0.3283\n",
      "Epoch 229/4000\n",
      "Current lambda: 0.0500\n"
     ]
    },
    {
     "name": "stderr",
     "output_type": "stream",
     "text": [
      "Training: 100%|██████████| 24/24 [00:23<00:00,  1.03it/s, loss=0.543]\n",
      "Validation: 100%|██████████| 4/4 [00:02<00:00,  1.75it/s, loss=0.588]\n"
     ]
    },
    {
     "name": "stdout",
     "output_type": "stream",
     "text": [
      "Validation Dice Score\n",
      "Class 0: 0.6571, Class 1: 0.6271, Class 2: 0.1097, Class 3: 0.0049, \n",
      "Class 4: 0.4376, Class 5: 0.1930, Class 6: 0.5480, \n",
      "Validation F-beta Score\n",
      "Class 0: 0.5114, Class 1: 0.5325, Class 2: 0.1183, Class 3: 0.0367, \n",
      "Class 4: 0.3311, Class 5: 0.1492, Class 6: 0.4832, \n",
      "Overall Mean Dice Score: 0.3621\n",
      "Overall Mean F-beta Score: 0.3065\n",
      "\n",
      "Training Loss: 0.5853, Validation Loss: 0.5776, Validation F-beta: 0.3065\n",
      "Epoch 230/4000\n",
      "Current lambda: 0.0500\n"
     ]
    },
    {
     "name": "stderr",
     "output_type": "stream",
     "text": [
      "Training: 100%|██████████| 24/24 [00:23<00:00,  1.03it/s, loss=0.609]\n",
      "Validation: 100%|██████████| 4/4 [00:02<00:00,  1.71it/s, loss=0.568]\n"
     ]
    },
    {
     "name": "stdout",
     "output_type": "stream",
     "text": [
      "Validation Dice Score\n",
      "Class 0: 0.6627, Class 1: 0.5316, Class 2: 0.0686, Class 3: 0.0024, \n",
      "Class 4: 0.3356, Class 5: 0.3758, Class 6: 0.7210, \n",
      "Validation F-beta Score\n",
      "Class 0: 0.5171, Class 1: 0.5041, Class 2: 0.0533, Class 3: 0.0196, \n",
      "Class 4: 0.2454, Class 5: 0.3180, Class 6: 0.6086, \n",
      "Overall Mean Dice Score: 0.3933\n",
      "Overall Mean F-beta Score: 0.3392\n",
      "\n",
      "Training Loss: 0.5823, Validation Loss: 0.5785, Validation F-beta: 0.3392\n",
      "Epoch 231/4000\n",
      "Current lambda: 0.0500\n"
     ]
    },
    {
     "name": "stderr",
     "output_type": "stream",
     "text": [
      "Training: 100%|██████████| 24/24 [00:23<00:00,  1.02it/s, loss=0.531]\n",
      "Validation: 100%|██████████| 4/4 [00:02<00:00,  1.72it/s, loss=0.557]\n"
     ]
    },
    {
     "name": "stdout",
     "output_type": "stream",
     "text": [
      "Validation Dice Score\n",
      "Class 0: 0.6613, Class 1: 0.5520, Class 2: 0.0855, Class 3: 0.0018, \n",
      "Class 4: 0.3617, Class 5: 0.4102, Class 6: 0.7296, \n",
      "Validation F-beta Score\n",
      "Class 0: 0.5160, Class 1: 0.4112, Class 2: 0.0924, Class 3: 0.0138, \n",
      "Class 4: 0.3164, Class 5: 0.3430, Class 6: 0.6454, \n",
      "Overall Mean Dice Score: 0.4110\n",
      "Overall Mean F-beta Score: 0.3460\n",
      "\n",
      "Training Loss: 0.5861, Validation Loss: 0.5360, Validation F-beta: 0.3460\n",
      "========================================================\n",
      "Best model saved based on validation loss: 0.5360\n",
      "========================================================\n",
      "Epoch 232/4000\n",
      "Current lambda: 0.0500\n"
     ]
    },
    {
     "name": "stderr",
     "output_type": "stream",
     "text": [
      "Training: 100%|██████████| 24/24 [00:23<00:00,  1.02it/s, loss=0.627]\n",
      "Validation: 100%|██████████| 4/4 [00:02<00:00,  1.71it/s, loss=0.61] \n"
     ]
    },
    {
     "name": "stdout",
     "output_type": "stream",
     "text": [
      "Validation Dice Score\n",
      "Class 0: 0.6615, Class 1: 0.6019, Class 2: 0.0723, Class 3: 0.0027, \n",
      "Class 4: 0.2937, Class 5: 0.2684, Class 6: 0.7588, \n",
      "Validation F-beta Score\n",
      "Class 0: 0.5190, Class 1: 0.5022, Class 2: 0.0800, Class 3: 0.0214, \n",
      "Class 4: 0.1896, Class 5: 0.2255, Class 6: 0.6960, \n",
      "Overall Mean Dice Score: 0.3851\n",
      "Overall Mean F-beta Score: 0.3269\n",
      "\n",
      "Training Loss: 0.5768, Validation Loss: 0.5648, Validation F-beta: 0.3269\n",
      "Epoch 233/4000\n",
      "Current lambda: 0.0500\n"
     ]
    },
    {
     "name": "stderr",
     "output_type": "stream",
     "text": [
      "Training: 100%|██████████| 24/24 [00:23<00:00,  1.03it/s, loss=0.64] \n",
      "Validation: 100%|██████████| 4/4 [00:02<00:00,  1.72it/s, loss=0.575]\n"
     ]
    },
    {
     "name": "stdout",
     "output_type": "stream",
     "text": [
      "Validation Dice Score\n",
      "Class 0: 0.6667, Class 1: 0.6821, Class 2: 0.0544, Class 3: 0.0043, \n",
      "Class 4: 0.3604, Class 5: 0.3881, Class 6: 0.4738, \n",
      "Validation F-beta Score\n",
      "Class 0: 0.5225, Class 1: 0.6700, Class 2: 0.0452, Class 3: 0.0334, \n",
      "Class 4: 0.2515, Class 5: 0.2934, Class 6: 0.3908, \n",
      "Overall Mean Dice Score: 0.3817\n",
      "Overall Mean F-beta Score: 0.3278\n",
      "\n",
      "Training Loss: 0.5881, Validation Loss: 0.5570, Validation F-beta: 0.3278\n",
      "Epoch 234/4000\n",
      "Current lambda: 0.0500\n"
     ]
    },
    {
     "name": "stderr",
     "output_type": "stream",
     "text": [
      "Training: 100%|██████████| 24/24 [00:23<00:00,  1.03it/s, loss=0.55] \n",
      "Validation: 100%|██████████| 4/4 [00:02<00:00,  1.72it/s, loss=0.5]  \n"
     ]
    },
    {
     "name": "stdout",
     "output_type": "stream",
     "text": [
      "Validation Dice Score\n",
      "Class 0: 0.6706, Class 1: 0.6073, Class 2: 0.1052, Class 3: 0.0039, \n",
      "Class 4: 0.4182, Class 5: 0.3590, Class 6: 0.7044, \n",
      "Validation F-beta Score\n",
      "Class 0: 0.5259, Class 1: 0.5284, Class 2: 0.1099, Class 3: 0.0292, \n",
      "Class 4: 0.3225, Class 5: 0.3134, Class 6: 0.6629, \n",
      "Overall Mean Dice Score: 0.4186\n",
      "Overall Mean F-beta Score: 0.3713\n",
      "\n",
      "Training Loss: 0.5821, Validation Loss: 0.5430, Validation F-beta: 0.3713\n",
      "Epoch 235/4000\n",
      "Current lambda: 0.0500\n"
     ]
    },
    {
     "name": "stderr",
     "output_type": "stream",
     "text": [
      "Training: 100%|██████████| 24/24 [00:23<00:00,  1.02it/s, loss=0.627]\n",
      "Validation: 100%|██████████| 4/4 [00:02<00:00,  1.73it/s, loss=0.547]\n"
     ]
    },
    {
     "name": "stdout",
     "output_type": "stream",
     "text": [
      "Validation Dice Score\n",
      "Class 0: 0.6605, Class 1: 0.6747, Class 2: 0.2029, Class 3: 0.0036, \n",
      "Class 4: 0.4131, Class 5: 0.2986, Class 6: 0.6574, \n",
      "Validation F-beta Score\n",
      "Class 0: 0.5158, Class 1: 0.6288, Class 2: 0.2056, Class 3: 0.0275, \n",
      "Class 4: 0.3401, Class 5: 0.2190, Class 6: 0.6922, \n",
      "Overall Mean Dice Score: 0.4095\n",
      "Overall Mean F-beta Score: 0.3815\n",
      "\n",
      "Training Loss: 0.5797, Validation Loss: 0.5521, Validation F-beta: 0.3815\n",
      "Validation loss did not improve. Reducing lambda to 0.0500\n",
      "Epoch 236/4000\n",
      "Current lambda: 0.0500\n"
     ]
    },
    {
     "name": "stderr",
     "output_type": "stream",
     "text": [
      "Training: 100%|██████████| 24/24 [00:23<00:00,  1.02it/s, loss=0.571]\n",
      "Validation: 100%|██████████| 4/4 [00:02<00:00,  1.73it/s, loss=0.544]\n"
     ]
    },
    {
     "name": "stdout",
     "output_type": "stream",
     "text": [
      "Validation Dice Score\n",
      "Class 0: 0.6651, Class 1: 0.5164, Class 2: 0.1016, Class 3: 0.0060, \n",
      "Class 4: 0.4148, Class 5: 0.4103, Class 6: 0.6926, \n",
      "Validation F-beta Score\n",
      "Class 0: 0.5204, Class 1: 0.5103, Class 2: 0.0939, Class 3: 0.0451, \n",
      "Class 4: 0.2869, Class 5: 0.3600, Class 6: 0.5672, \n",
      "Overall Mean Dice Score: 0.4080\n",
      "Overall Mean F-beta Score: 0.3539\n",
      "\n",
      "Training Loss: 0.5797, Validation Loss: 0.5595, Validation F-beta: 0.3539\n",
      "Epoch 237/4000\n",
      "Current lambda: 0.0500\n"
     ]
    },
    {
     "name": "stderr",
     "output_type": "stream",
     "text": [
      "Training: 100%|██████████| 24/24 [00:23<00:00,  1.03it/s, loss=0.608]\n",
      "Validation: 100%|██████████| 4/4 [00:02<00:00,  1.70it/s, loss=0.533]\n"
     ]
    },
    {
     "name": "stdout",
     "output_type": "stream",
     "text": [
      "Validation Dice Score\n",
      "Class 0: 0.6675, Class 1: 0.7190, Class 2: 0.1616, Class 3: 0.0037, \n",
      "Class 4: 0.3851, Class 5: 0.2085, Class 6: 0.5260, \n",
      "Validation F-beta Score\n",
      "Class 0: 0.5225, Class 1: 0.6211, Class 2: 0.1299, Class 3: 0.0277, \n",
      "Class 4: 0.3675, Class 5: 0.1707, Class 6: 0.5108, \n",
      "Overall Mean Dice Score: 0.3685\n",
      "Overall Mean F-beta Score: 0.3396\n",
      "\n",
      "Training Loss: 0.5825, Validation Loss: 0.5488, Validation F-beta: 0.3396\n",
      "Epoch 238/4000\n",
      "Current lambda: 0.0500\n"
     ]
    },
    {
     "name": "stderr",
     "output_type": "stream",
     "text": [
      "Training: 100%|██████████| 24/24 [00:23<00:00,  1.03it/s, loss=0.543]\n",
      "Validation: 100%|██████████| 4/4 [00:02<00:00,  1.75it/s, loss=0.548]\n"
     ]
    },
    {
     "name": "stdout",
     "output_type": "stream",
     "text": [
      "Validation Dice Score\n",
      "Class 0: 0.6727, Class 1: 0.5653, Class 2: 0.0731, Class 3: 0.0039, \n",
      "Class 4: 0.3119, Class 5: 0.3912, Class 6: 0.6530, \n",
      "Validation F-beta Score\n",
      "Class 0: 0.5295, Class 1: 0.5820, Class 2: 0.0715, Class 3: 0.0302, \n",
      "Class 4: 0.2470, Class 5: 0.2943, Class 6: 0.6308, \n",
      "Overall Mean Dice Score: 0.3851\n",
      "Overall Mean F-beta Score: 0.3569\n",
      "\n",
      "Training Loss: 0.5981, Validation Loss: 0.5621, Validation F-beta: 0.3569\n",
      "Epoch 239/4000\n",
      "Current lambda: 0.0500\n"
     ]
    },
    {
     "name": "stderr",
     "output_type": "stream",
     "text": [
      "Training: 100%|██████████| 24/24 [00:23<00:00,  1.02it/s, loss=0.488]\n",
      "Validation: 100%|██████████| 4/4 [00:02<00:00,  1.73it/s, loss=0.539]\n"
     ]
    },
    {
     "name": "stdout",
     "output_type": "stream",
     "text": [
      "Validation Dice Score\n",
      "Class 0: 0.6737, Class 1: 0.6134, Class 2: 0.0734, Class 3: 0.0059, \n",
      "Class 4: 0.3883, Class 5: 0.2779, Class 6: 0.4272, \n",
      "Validation F-beta Score\n",
      "Class 0: 0.5300, Class 1: 0.4989, Class 2: 0.0767, Class 3: 0.0442, \n",
      "Class 4: 0.2644, Class 5: 0.2465, Class 6: 0.4085, \n",
      "Overall Mean Dice Score: 0.3425\n",
      "Overall Mean F-beta Score: 0.2925\n",
      "\n",
      "Training Loss: 0.5889, Validation Loss: 0.5741, Validation F-beta: 0.2925\n",
      "Epoch 240/4000\n",
      "Current lambda: 0.0500\n"
     ]
    },
    {
     "name": "stderr",
     "output_type": "stream",
     "text": [
      "Training: 100%|██████████| 24/24 [00:23<00:00,  1.03it/s, loss=0.551]\n",
      "Validation: 100%|██████████| 4/4 [00:02<00:00,  1.69it/s, loss=0.593]\n"
     ]
    },
    {
     "name": "stdout",
     "output_type": "stream",
     "text": [
      "Validation Dice Score\n",
      "Class 0: 0.6666, Class 1: 0.6840, Class 2: 0.0000, Class 3: 0.0042, \n",
      "Class 4: 0.4292, Class 5: 0.2785, Class 6: 0.5497, \n",
      "Validation F-beta Score\n",
      "Class 0: 0.5228, Class 1: 0.5867, Class 2: 0.0000, Class 3: 0.0317, \n",
      "Class 4: 0.3041, Class 5: 0.2514, Class 6: 0.4874, \n",
      "Overall Mean Dice Score: 0.3891\n",
      "Overall Mean F-beta Score: 0.3323\n",
      "\n",
      "Training Loss: 0.5782, Validation Loss: 0.5756, Validation F-beta: 0.3323\n",
      "Validation loss did not improve. Reducing lambda to 0.0500\n",
      "Epoch 241/4000\n",
      "Current lambda: 0.0500\n"
     ]
    },
    {
     "name": "stderr",
     "output_type": "stream",
     "text": [
      "Training: 100%|██████████| 24/24 [00:23<00:00,  1.03it/s, loss=0.554]\n",
      "Validation: 100%|██████████| 4/4 [00:02<00:00,  1.66it/s, loss=0.564]\n"
     ]
    },
    {
     "name": "stdout",
     "output_type": "stream",
     "text": [
      "Validation Dice Score\n",
      "Class 0: 0.6684, Class 1: 0.5346, Class 2: 0.1235, Class 3: 0.0031, \n",
      "Class 4: 0.4871, Class 5: 0.3238, Class 6: 0.6326, \n",
      "Validation F-beta Score\n",
      "Class 0: 0.5233, Class 1: 0.4845, Class 2: 0.0914, Class 3: 0.0234, \n",
      "Class 4: 0.4763, Class 5: 0.2473, Class 6: 0.6593, \n",
      "Overall Mean Dice Score: 0.3962\n",
      "Overall Mean F-beta Score: 0.3781\n",
      "\n",
      "Training Loss: 0.5767, Validation Loss: 0.5571, Validation F-beta: 0.3781\n",
      "Epoch 242/4000\n",
      "Current lambda: 0.0500\n"
     ]
    },
    {
     "name": "stderr",
     "output_type": "stream",
     "text": [
      "Training: 100%|██████████| 24/24 [00:23<00:00,  1.02it/s, loss=0.59] \n",
      "Validation: 100%|██████████| 4/4 [00:02<00:00,  1.74it/s, loss=0.569]\n"
     ]
    },
    {
     "name": "stdout",
     "output_type": "stream",
     "text": [
      "Validation Dice Score\n",
      "Class 0: 0.6738, Class 1: 0.6418, Class 2: 0.1660, Class 3: 0.0036, \n",
      "Class 4: 0.3916, Class 5: 0.3641, Class 6: 0.6591, \n",
      "Validation F-beta Score\n",
      "Class 0: 0.5281, Class 1: 0.5443, Class 2: 0.1741, Class 3: 0.0274, \n",
      "Class 4: 0.3745, Class 5: 0.3049, Class 6: 0.6221, \n",
      "Overall Mean Dice Score: 0.4120\n",
      "Overall Mean F-beta Score: 0.3746\n",
      "\n",
      "Training Loss: 0.5755, Validation Loss: 0.5702, Validation F-beta: 0.3746\n",
      "Epoch 243/4000\n",
      "Current lambda: 0.0500\n"
     ]
    },
    {
     "name": "stderr",
     "output_type": "stream",
     "text": [
      "Training: 100%|██████████| 24/24 [00:23<00:00,  1.02it/s, loss=0.587]\n",
      "Validation: 100%|██████████| 4/4 [00:02<00:00,  1.69it/s, loss=0.577]\n"
     ]
    },
    {
     "name": "stdout",
     "output_type": "stream",
     "text": [
      "Validation Dice Score\n",
      "Class 0: 0.6669, Class 1: 0.3895, Class 2: 0.1399, Class 3: 0.0040, \n",
      "Class 4: 0.2374, Class 5: 0.3001, Class 6: 0.7189, \n",
      "Validation F-beta Score\n",
      "Class 0: 0.5218, Class 1: 0.3301, Class 2: 0.2078, Class 3: 0.0309, \n",
      "Class 4: 0.2212, Class 5: 0.2641, Class 6: 0.6421, \n",
      "Overall Mean Dice Score: 0.3300\n",
      "Overall Mean F-beta Score: 0.2977\n",
      "\n",
      "Training Loss: 0.5915, Validation Loss: 0.5863, Validation F-beta: 0.2977\n",
      "Epoch 244/4000\n",
      "Current lambda: 0.0500\n"
     ]
    },
    {
     "name": "stderr",
     "output_type": "stream",
     "text": [
      "Training: 100%|██████████| 24/24 [00:23<00:00,  1.02it/s, loss=0.567]\n",
      "Validation: 100%|██████████| 4/4 [00:02<00:00,  1.69it/s, loss=0.597]\n"
     ]
    },
    {
     "name": "stdout",
     "output_type": "stream",
     "text": [
      "Validation Dice Score\n",
      "Class 0: 0.6626, Class 1: 0.6411, Class 2: 0.2090, Class 3: 0.0049, \n",
      "Class 4: 0.4498, Class 5: 0.2422, Class 6: 0.7248, \n",
      "Validation F-beta Score\n",
      "Class 0: 0.5187, Class 1: 0.5878, Class 2: 0.2295, Class 3: 0.0372, \n",
      "Class 4: 0.3479, Class 5: 0.1996, Class 6: 0.5997, \n",
      "Overall Mean Dice Score: 0.4126\n",
      "Overall Mean F-beta Score: 0.3544\n",
      "\n",
      "Training Loss: 0.5741, Validation Loss: 0.5553, Validation F-beta: 0.3544\n",
      "Epoch 245/4000\n",
      "Current lambda: 0.0500\n"
     ]
    },
    {
     "name": "stderr",
     "output_type": "stream",
     "text": [
      "Training: 100%|██████████| 24/24 [00:23<00:00,  1.02it/s, loss=0.606]\n",
      "Validation: 100%|██████████| 4/4 [00:02<00:00,  1.73it/s, loss=0.578]\n"
     ]
    },
    {
     "name": "stdout",
     "output_type": "stream",
     "text": [
      "Validation Dice Score\n",
      "Class 0: 0.6756, Class 1: 0.5030, Class 2: 0.2379, Class 3: 0.0057, \n",
      "Class 4: 0.1359, Class 5: 0.3123, Class 6: 0.6704, \n",
      "Validation F-beta Score\n",
      "Class 0: 0.5300, Class 1: 0.4017, Class 2: 0.2350, Class 3: 0.0438, \n",
      "Class 4: 0.1253, Class 5: 0.2698, Class 6: 0.7019, \n",
      "Overall Mean Dice Score: 0.3255\n",
      "Overall Mean F-beta Score: 0.3085\n",
      "\n",
      "Training Loss: 0.5755, Validation Loss: 0.5724, Validation F-beta: 0.3085\n",
      "Validation loss did not improve. Reducing lambda to 0.0500\n",
      "Epoch 246/4000\n",
      "Current lambda: 0.0500\n"
     ]
    },
    {
     "name": "stderr",
     "output_type": "stream",
     "text": [
      "Training: 100%|██████████| 24/24 [00:23<00:00,  1.03it/s, loss=0.534]\n",
      "Validation: 100%|██████████| 4/4 [00:02<00:00,  1.67it/s, loss=0.528]\n"
     ]
    },
    {
     "name": "stdout",
     "output_type": "stream",
     "text": [
      "Validation Dice Score\n",
      "Class 0: 0.6723, Class 1: 0.6737, Class 2: 0.0000, Class 3: 0.0072, \n",
      "Class 4: 0.4597, Class 5: 0.3843, Class 6: 0.5260, \n",
      "Validation F-beta Score\n",
      "Class 0: 0.5276, Class 1: 0.6445, Class 2: 0.0000, Class 3: 0.0538, \n",
      "Class 4: 0.4398, Class 5: 0.3052, Class 6: 0.6103, \n",
      "Overall Mean Dice Score: 0.4102\n",
      "Overall Mean F-beta Score: 0.4107\n",
      "\n",
      "Training Loss: 0.5725, Validation Loss: 0.5633, Validation F-beta: 0.4107\n",
      "Epoch 247/4000\n",
      "Current lambda: 0.0500\n"
     ]
    },
    {
     "name": "stderr",
     "output_type": "stream",
     "text": [
      "Training: 100%|██████████| 24/24 [00:23<00:00,  1.01it/s, loss=0.602]\n",
      "Validation: 100%|██████████| 4/4 [00:02<00:00,  1.69it/s, loss=0.535]\n"
     ]
    },
    {
     "name": "stdout",
     "output_type": "stream",
     "text": [
      "Validation Dice Score\n",
      "Class 0: 0.6708, Class 1: 0.5438, Class 2: 0.0370, Class 3: 0.0049, \n",
      "Class 4: 0.3726, Class 5: 0.3122, Class 6: 0.7394, \n",
      "Validation F-beta Score\n",
      "Class 0: 0.5272, Class 1: 0.4741, Class 2: 0.0234, Class 3: 0.0380, \n",
      "Class 4: 0.3461, Class 5: 0.2438, Class 6: 0.6351, \n",
      "Overall Mean Dice Score: 0.3946\n",
      "Overall Mean F-beta Score: 0.3474\n",
      "\n",
      "Training Loss: 0.5724, Validation Loss: 0.5769, Validation F-beta: 0.3474\n",
      "Epoch 248/4000\n",
      "Current lambda: 0.0500\n"
     ]
    },
    {
     "name": "stderr",
     "output_type": "stream",
     "text": [
      "Training: 100%|██████████| 24/24 [00:23<00:00,  1.02it/s, loss=0.602]\n",
      "Validation: 100%|██████████| 4/4 [00:02<00:00,  1.72it/s, loss=0.583]\n"
     ]
    },
    {
     "name": "stdout",
     "output_type": "stream",
     "text": [
      "Validation Dice Score\n",
      "Class 0: 0.6673, Class 1: 0.5440, Class 2: 0.0394, Class 3: 0.0018, \n",
      "Class 4: 0.4317, Class 5: 0.2970, Class 6: 0.7378, \n",
      "Validation F-beta Score\n",
      "Class 0: 0.5235, Class 1: 0.4281, Class 2: 0.0667, Class 3: 0.0143, \n",
      "Class 4: 0.4139, Class 5: 0.2364, Class 6: 0.6185, \n",
      "Overall Mean Dice Score: 0.4025\n",
      "Overall Mean F-beta Score: 0.3422\n",
      "\n",
      "Training Loss: 0.5877, Validation Loss: 0.5494, Validation F-beta: 0.3422\n",
      "Epoch 249/4000\n",
      "Current lambda: 0.0500\n"
     ]
    },
    {
     "name": "stderr",
     "output_type": "stream",
     "text": [
      "Training: 100%|██████████| 24/24 [00:23<00:00,  1.02it/s, loss=0.51] \n",
      "Validation: 100%|██████████| 4/4 [00:02<00:00,  1.72it/s, loss=0.599]\n"
     ]
    },
    {
     "name": "stdout",
     "output_type": "stream",
     "text": [
      "Validation Dice Score\n",
      "Class 0: 0.6708, Class 1: 0.5315, Class 2: 0.0758, Class 3: 0.0043, \n",
      "Class 4: 0.3896, Class 5: 0.2616, Class 6: 0.6153, \n",
      "Validation F-beta Score\n",
      "Class 0: 0.5271, Class 1: 0.4390, Class 2: 0.1562, Class 3: 0.0325, \n",
      "Class 4: 0.2952, Class 5: 0.2244, Class 6: 0.4825, \n",
      "Overall Mean Dice Score: 0.3605\n",
      "Overall Mean F-beta Score: 0.2947\n",
      "\n",
      "Training Loss: 0.6020, Validation Loss: 0.5885, Validation F-beta: 0.2947\n",
      "Epoch 250/4000\n",
      "Current lambda: 0.0500\n"
     ]
    },
    {
     "name": "stderr",
     "output_type": "stream",
     "text": [
      "Training: 100%|██████████| 24/24 [00:23<00:00,  1.02it/s, loss=0.599]\n",
      "Validation: 100%|██████████| 4/4 [00:02<00:00,  1.59it/s, loss=0.591]\n"
     ]
    },
    {
     "name": "stdout",
     "output_type": "stream",
     "text": [
      "Validation Dice Score\n",
      "Class 0: 0.6722, Class 1: 0.3937, Class 2: 0.0326, Class 3: 0.0034, \n",
      "Class 4: 0.3970, Class 5: 0.2820, Class 6: 0.5469, \n",
      "Validation F-beta Score\n",
      "Class 0: 0.5267, Class 1: 0.3070, Class 2: 0.0264, Class 3: 0.0265, \n",
      "Class 4: 0.3820, Class 5: 0.2341, Class 6: 0.4926, \n",
      "Overall Mean Dice Score: 0.3246\n",
      "Overall Mean F-beta Score: 0.2884\n",
      "\n",
      "Training Loss: 0.5675, Validation Loss: 0.5883, Validation F-beta: 0.2884\n",
      "Validation loss did not improve. Reducing lambda to 0.0500\n",
      "Epoch 251/4000\n",
      "Current lambda: 0.0500\n"
     ]
    },
    {
     "name": "stderr",
     "output_type": "stream",
     "text": [
      "Training: 100%|██████████| 24/24 [00:23<00:00,  1.02it/s, loss=0.575]\n",
      "Validation: 100%|██████████| 4/4 [00:02<00:00,  1.70it/s, loss=0.637]\n"
     ]
    },
    {
     "name": "stdout",
     "output_type": "stream",
     "text": [
      "Validation Dice Score\n",
      "Class 0: 0.6716, Class 1: 0.5597, Class 2: 0.1672, Class 3: 0.0062, \n",
      "Class 4: 0.4630, Class 5: 0.2496, Class 6: 0.6384, \n",
      "Validation F-beta Score\n",
      "Class 0: 0.5259, Class 1: 0.5307, Class 2: 0.1684, Class 3: 0.0461, \n",
      "Class 4: 0.3764, Class 5: 0.2203, Class 6: 0.5045, \n",
      "Overall Mean Dice Score: 0.3834\n",
      "Overall Mean F-beta Score: 0.3356\n",
      "\n",
      "Training Loss: 0.5775, Validation Loss: 0.5736, Validation F-beta: 0.3356\n",
      "Epoch 252/4000\n",
      "Current lambda: 0.0500\n"
     ]
    },
    {
     "name": "stderr",
     "output_type": "stream",
     "text": [
      "Training: 100%|██████████| 24/24 [00:23<00:00,  1.02it/s, loss=0.624]\n",
      "Validation: 100%|██████████| 4/4 [00:02<00:00,  1.74it/s, loss=0.54] \n"
     ]
    },
    {
     "name": "stdout",
     "output_type": "stream",
     "text": [
      "Validation Dice Score\n",
      "Class 0: 0.6729, Class 1: 0.6091, Class 2: 0.0706, Class 3: 0.0023, \n",
      "Class 4: 0.3121, Class 5: 0.2644, Class 6: 0.5309, \n",
      "Validation F-beta Score\n",
      "Class 0: 0.5275, Class 1: 0.5982, Class 2: 0.0640, Class 3: 0.0182, \n",
      "Class 4: 0.3175, Class 5: 0.1894, Class 6: 0.4981, \n",
      "Overall Mean Dice Score: 0.3438\n",
      "Overall Mean F-beta Score: 0.3243\n",
      "\n",
      "Training Loss: 0.5958, Validation Loss: 0.5837, Validation F-beta: 0.3243\n",
      "Epoch 253/4000\n",
      "Current lambda: 0.0500\n"
     ]
    },
    {
     "name": "stderr",
     "output_type": "stream",
     "text": [
      "Training: 100%|██████████| 24/24 [00:23<00:00,  1.03it/s, loss=0.562]\n",
      "Validation: 100%|██████████| 4/4 [00:02<00:00,  1.76it/s, loss=0.527]\n"
     ]
    },
    {
     "name": "stdout",
     "output_type": "stream",
     "text": [
      "Validation Dice Score\n",
      "Class 0: 0.6705, Class 1: 0.7363, Class 2: 0.0872, Class 3: 0.0039, \n",
      "Class 4: 0.4814, Class 5: 0.3413, Class 6: 0.6828, \n",
      "Validation F-beta Score\n",
      "Class 0: 0.5290, Class 1: 0.7451, Class 2: 0.0804, Class 3: 0.0296, \n",
      "Class 4: 0.3555, Class 5: 0.2856, Class 6: 0.6278, \n",
      "Overall Mean Dice Score: 0.4491\n",
      "Overall Mean F-beta Score: 0.4087\n",
      "\n",
      "Training Loss: 0.5804, Validation Loss: 0.5463, Validation F-beta: 0.4087\n",
      "Epoch 254/4000\n",
      "Current lambda: 0.0500\n"
     ]
    },
    {
     "name": "stderr",
     "output_type": "stream",
     "text": [
      "Training: 100%|██████████| 24/24 [00:23<00:00,  1.02it/s, loss=0.609]\n",
      "Validation: 100%|██████████| 4/4 [00:02<00:00,  1.75it/s, loss=0.527]\n"
     ]
    },
    {
     "name": "stdout",
     "output_type": "stream",
     "text": [
      "Validation Dice Score\n",
      "Class 0: 0.6636, Class 1: 0.4340, Class 2: 0.1425, Class 3: 0.0029, \n",
      "Class 4: 0.4201, Class 5: 0.2770, Class 6: 0.5761, \n",
      "Validation F-beta Score\n",
      "Class 0: 0.5228, Class 1: 0.3676, Class 2: 0.1277, Class 3: 0.0228, \n",
      "Class 4: 0.3208, Class 5: 0.2326, Class 6: 0.4922, \n",
      "Overall Mean Dice Score: 0.3420\n",
      "Overall Mean F-beta Score: 0.2872\n",
      "\n",
      "Training Loss: 0.5917, Validation Loss: 0.5679, Validation F-beta: 0.2872\n",
      "Epoch 255/4000\n",
      "Current lambda: 0.0500\n"
     ]
    },
    {
     "name": "stderr",
     "output_type": "stream",
     "text": [
      "Training: 100%|██████████| 24/24 [00:23<00:00,  1.03it/s, loss=0.593]\n",
      "Validation: 100%|██████████| 4/4 [00:02<00:00,  1.76it/s, loss=0.491]\n"
     ]
    },
    {
     "name": "stdout",
     "output_type": "stream",
     "text": [
      "Validation Dice Score\n",
      "Class 0: 0.6813, Class 1: 0.5983, Class 2: 0.0082, Class 3: 0.0050, \n",
      "Class 4: 0.3920, Class 5: 0.3687, Class 6: 0.7187, \n",
      "Validation F-beta Score\n",
      "Class 0: 0.5381, Class 1: 0.5063, Class 2: 0.0105, Class 3: 0.0388, \n",
      "Class 4: 0.3705, Class 5: 0.2850, Class 6: 0.6161, \n",
      "Overall Mean Dice Score: 0.4165\n",
      "Overall Mean F-beta Score: 0.3633\n",
      "\n",
      "Training Loss: 0.5741, Validation Loss: 0.5517, Validation F-beta: 0.3633\n",
      "Validation loss did not improve. Reducing lambda to 0.0500\n",
      "Epoch 256/4000\n",
      "Current lambda: 0.0500\n"
     ]
    },
    {
     "name": "stderr",
     "output_type": "stream",
     "text": [
      "Training: 100%|██████████| 24/24 [00:23<00:00,  1.03it/s, loss=0.579]\n",
      "Validation: 100%|██████████| 4/4 [00:02<00:00,  1.73it/s, loss=0.569]\n"
     ]
    },
    {
     "name": "stdout",
     "output_type": "stream",
     "text": [
      "Validation Dice Score\n",
      "Class 0: 0.6748, Class 1: 0.7395, Class 2: 0.0659, Class 3: 0.0042, \n",
      "Class 4: 0.3217, Class 5: 0.2782, Class 6: 0.7372, \n",
      "Validation F-beta Score\n",
      "Class 0: 0.5310, Class 1: 0.6742, Class 2: 0.1082, Class 3: 0.0322, \n",
      "Class 4: 0.2317, Class 5: 0.2180, Class 6: 0.7304, \n",
      "Overall Mean Dice Score: 0.4162\n",
      "Overall Mean F-beta Score: 0.3773\n",
      "\n",
      "Training Loss: 0.5950, Validation Loss: 0.5360, Validation F-beta: 0.3773\n",
      "Epoch 257/4000\n",
      "Current lambda: 0.0500\n"
     ]
    },
    {
     "name": "stderr",
     "output_type": "stream",
     "text": [
      "Training: 100%|██████████| 24/24 [00:23<00:00,  1.04it/s, loss=0.566]\n",
      "Validation: 100%|██████████| 4/4 [00:02<00:00,  1.74it/s, loss=0.59] \n"
     ]
    },
    {
     "name": "stdout",
     "output_type": "stream",
     "text": [
      "Validation Dice Score\n",
      "Class 0: 0.6757, Class 1: 0.2577, Class 2: 0.1971, Class 3: 0.0040, \n",
      "Class 4: 0.5395, Class 5: 0.4341, Class 6: 0.7473, \n",
      "Validation F-beta Score\n",
      "Class 0: 0.5308, Class 1: 0.2215, Class 2: 0.1687, Class 3: 0.0314, \n",
      "Class 4: 0.5129, Class 5: 0.3337, Class 6: 0.6939, \n",
      "Overall Mean Dice Score: 0.3965\n",
      "Overall Mean F-beta Score: 0.3587\n",
      "\n",
      "Training Loss: 0.5940, Validation Loss: 0.5710, Validation F-beta: 0.3587\n",
      "Epoch 258/4000\n",
      "Current lambda: 0.0500\n"
     ]
    },
    {
     "name": "stderr",
     "output_type": "stream",
     "text": [
      "Training: 100%|██████████| 24/24 [00:23<00:00,  1.03it/s, loss=0.496]\n",
      "Validation: 100%|██████████| 4/4 [00:02<00:00,  1.72it/s, loss=0.583]\n"
     ]
    },
    {
     "name": "stdout",
     "output_type": "stream",
     "text": [
      "Validation Dice Score\n",
      "Class 0: 0.6782, Class 1: 0.5418, Class 2: 0.0085, Class 3: 0.0055, \n",
      "Class 4: 0.3389, Class 5: 0.3065, Class 6: 0.5626, \n",
      "Validation F-beta Score\n",
      "Class 0: 0.5359, Class 1: 0.4674, Class 2: 0.0085, Class 3: 0.0416, \n",
      "Class 4: 0.2371, Class 5: 0.2475, Class 6: 0.5952, \n",
      "Overall Mean Dice Score: 0.3511\n",
      "Overall Mean F-beta Score: 0.3178\n",
      "\n",
      "Training Loss: 0.5777, Validation Loss: 0.5572, Validation F-beta: 0.3178\n",
      "Epoch 259/4000\n",
      "Current lambda: 0.0500\n"
     ]
    },
    {
     "name": "stderr",
     "output_type": "stream",
     "text": [
      "Training: 100%|██████████| 24/24 [00:23<00:00,  1.03it/s, loss=0.572]\n",
      "Validation: 100%|██████████| 4/4 [00:02<00:00,  1.75it/s, loss=0.561]\n"
     ]
    },
    {
     "name": "stdout",
     "output_type": "stream",
     "text": [
      "Validation Dice Score\n",
      "Class 0: 0.6714, Class 1: 0.6890, Class 2: 0.1387, Class 3: 0.0064, \n",
      "Class 4: 0.4442, Class 5: 0.2524, Class 6: 0.4885, \n",
      "Validation F-beta Score\n",
      "Class 0: 0.5292, Class 1: 0.6586, Class 2: 0.1226, Class 3: 0.0471, \n",
      "Class 4: 0.3536, Class 5: 0.1964, Class 6: 0.4077, \n",
      "Overall Mean Dice Score: 0.3761\n",
      "Overall Mean F-beta Score: 0.3327\n",
      "\n",
      "Training Loss: 0.5865, Validation Loss: 0.5497, Validation F-beta: 0.3327\n",
      "Epoch 260/4000\n",
      "Current lambda: 0.0500\n"
     ]
    },
    {
     "name": "stderr",
     "output_type": "stream",
     "text": [
      "Training: 100%|██████████| 24/24 [00:23<00:00,  1.03it/s, loss=0.566]\n",
      "Validation: 100%|██████████| 4/4 [00:02<00:00,  1.74it/s, loss=0.608]\n"
     ]
    },
    {
     "name": "stdout",
     "output_type": "stream",
     "text": [
      "Validation Dice Score\n",
      "Class 0: 0.6724, Class 1: 0.2804, Class 2: 0.0501, Class 3: 0.0022, \n",
      "Class 4: 0.3385, Class 5: 0.4761, Class 6: 0.5513, \n",
      "Validation F-beta Score\n",
      "Class 0: 0.5295, Class 1: 0.2117, Class 2: 0.0532, Class 3: 0.0175, \n",
      "Class 4: 0.2586, Class 5: 0.3860, Class 6: 0.4657, \n",
      "Overall Mean Dice Score: 0.3297\n",
      "Overall Mean F-beta Score: 0.2679\n",
      "\n",
      "Training Loss: 0.5737, Validation Loss: 0.5696, Validation F-beta: 0.2679\n",
      "Validation loss did not improve. Reducing lambda to 0.0500\n",
      "Epoch 261/4000\n",
      "Current lambda: 0.0500\n"
     ]
    },
    {
     "name": "stderr",
     "output_type": "stream",
     "text": [
      "Training: 100%|██████████| 24/24 [00:23<00:00,  1.03it/s, loss=0.556]\n",
      "Validation: 100%|██████████| 4/4 [00:02<00:00,  1.73it/s, loss=0.584]\n"
     ]
    },
    {
     "name": "stdout",
     "output_type": "stream",
     "text": [
      "Validation Dice Score\n",
      "Class 0: 0.6768, Class 1: 0.6104, Class 2: 0.0025, Class 3: 0.0026, \n",
      "Class 4: 0.3072, Class 5: 0.3074, Class 6: 0.5374, \n",
      "Validation F-beta Score\n",
      "Class 0: 0.5323, Class 1: 0.5133, Class 2: 0.0024, Class 3: 0.0210, \n",
      "Class 4: 0.2755, Class 5: 0.2675, Class 6: 0.4540, \n",
      "Overall Mean Dice Score: 0.3530\n",
      "Overall Mean F-beta Score: 0.3063\n",
      "\n",
      "Training Loss: 0.5852, Validation Loss: 0.5938, Validation F-beta: 0.3063\n",
      "Epoch 262/4000\n",
      "Current lambda: 0.0500\n"
     ]
    },
    {
     "name": "stderr",
     "output_type": "stream",
     "text": [
      "Training: 100%|██████████| 24/24 [00:23<00:00,  1.03it/s, loss=0.589]\n",
      "Validation: 100%|██████████| 4/4 [00:02<00:00,  1.77it/s, loss=0.547]\n"
     ]
    },
    {
     "name": "stdout",
     "output_type": "stream",
     "text": [
      "Validation Dice Score\n",
      "Class 0: 0.6715, Class 1: 0.6089, Class 2: 0.0611, Class 3: 0.0039, \n",
      "Class 4: 0.4165, Class 5: 0.3420, Class 6: 0.6799, \n",
      "Validation F-beta Score\n",
      "Class 0: 0.5288, Class 1: 0.4780, Class 2: 0.0787, Class 3: 0.0303, \n",
      "Class 4: 0.3016, Class 5: 0.2942, Class 6: 0.6254, \n",
      "Overall Mean Dice Score: 0.4102\n",
      "Overall Mean F-beta Score: 0.3459\n",
      "\n",
      "Training Loss: 0.5832, Validation Loss: 0.5399, Validation F-beta: 0.3459\n",
      "Epoch 263/4000\n",
      "Current lambda: 0.0500\n"
     ]
    },
    {
     "name": "stderr",
     "output_type": "stream",
     "text": [
      "Training: 100%|██████████| 24/24 [00:23<00:00,  1.04it/s, loss=0.6]  \n",
      "Validation: 100%|██████████| 4/4 [00:02<00:00,  1.74it/s, loss=0.561]\n"
     ]
    },
    {
     "name": "stdout",
     "output_type": "stream",
     "text": [
      "Validation Dice Score\n",
      "Class 0: 0.6726, Class 1: 0.5817, Class 2: 0.2603, Class 3: 0.0059, \n",
      "Class 4: 0.4271, Class 5: 0.3719, Class 6: 0.5510, \n",
      "Validation F-beta Score\n",
      "Class 0: 0.5294, Class 1: 0.4795, Class 2: 0.2358, Class 3: 0.0449, \n",
      "Class 4: 0.3140, Class 5: 0.2886, Class 6: 0.4759, \n",
      "Overall Mean Dice Score: 0.3875\n",
      "Overall Mean F-beta Score: 0.3206\n",
      "\n",
      "Training Loss: 0.5820, Validation Loss: 0.5196, Validation F-beta: 0.3206\n",
      "========================================================\n",
      "Best model saved based on validation loss: 0.5196\n",
      "========================================================\n",
      "Epoch 264/4000\n",
      "Current lambda: 0.0500\n"
     ]
    },
    {
     "name": "stderr",
     "output_type": "stream",
     "text": [
      "Training: 100%|██████████| 24/24 [00:23<00:00,  1.02it/s, loss=0.573]\n",
      "Validation: 100%|██████████| 4/4 [00:02<00:00,  1.75it/s, loss=0.517]\n"
     ]
    },
    {
     "name": "stdout",
     "output_type": "stream",
     "text": [
      "Validation Dice Score\n",
      "Class 0: 0.6682, Class 1: 0.5732, Class 2: 0.1040, Class 3: 0.0058, \n",
      "Class 4: 0.3941, Class 5: 0.2793, Class 6: 0.6529, \n",
      "Validation F-beta Score\n",
      "Class 0: 0.5264, Class 1: 0.4726, Class 2: 0.1049, Class 3: 0.0445, \n",
      "Class 4: 0.3055, Class 5: 0.2464, Class 6: 0.6295, \n",
      "Overall Mean Dice Score: 0.3811\n",
      "Overall Mean F-beta Score: 0.3397\n",
      "\n",
      "Training Loss: 0.5802, Validation Loss: 0.5636, Validation F-beta: 0.3397\n",
      "Epoch 265/4000\n",
      "Current lambda: 0.0500\n"
     ]
    },
    {
     "name": "stderr",
     "output_type": "stream",
     "text": [
      "Training: 100%|██████████| 24/24 [00:23<00:00,  1.03it/s, loss=0.544]\n",
      "Validation: 100%|██████████| 4/4 [00:02<00:00,  1.73it/s, loss=0.579]\n"
     ]
    },
    {
     "name": "stdout",
     "output_type": "stream",
     "text": [
      "Validation Dice Score\n",
      "Class 0: 0.6675, Class 1: 0.6501, Class 2: 0.0704, Class 3: 0.0039, \n",
      "Class 4: 0.4095, Class 5: 0.3063, Class 6: 0.4681, \n",
      "Validation F-beta Score\n",
      "Class 0: 0.5252, Class 1: 0.5782, Class 2: 0.1165, Class 3: 0.0301, \n",
      "Class 4: 0.3106, Class 5: 0.2419, Class 6: 0.4067, \n",
      "Overall Mean Dice Score: 0.3676\n",
      "Overall Mean F-beta Score: 0.3135\n",
      "\n",
      "Training Loss: 0.5827, Validation Loss: 0.5596, Validation F-beta: 0.3135\n",
      "Epoch 266/4000\n",
      "Current lambda: 0.0500\n"
     ]
    },
    {
     "name": "stderr",
     "output_type": "stream",
     "text": [
      "Training: 100%|██████████| 24/24 [00:23<00:00,  1.03it/s, loss=0.572]\n",
      "Validation: 100%|██████████| 4/4 [00:02<00:00,  1.70it/s, loss=0.533]\n"
     ]
    },
    {
     "name": "stdout",
     "output_type": "stream",
     "text": [
      "Validation Dice Score\n",
      "Class 0: 0.6668, Class 1: 0.3238, Class 2: 0.1193, Class 3: 0.0033, \n",
      "Class 4: 0.3351, Class 5: 0.2888, Class 6: 0.7432, \n",
      "Validation F-beta Score\n",
      "Class 0: 0.5242, Class 1: 0.2478, Class 2: 0.1290, Class 3: 0.0260, \n",
      "Class 4: 0.3540, Class 5: 0.2263, Class 6: 0.6760, \n",
      "Overall Mean Dice Score: 0.3388\n",
      "Overall Mean F-beta Score: 0.3060\n",
      "\n",
      "Training Loss: 0.5790, Validation Loss: 0.5555, Validation F-beta: 0.3060\n",
      "Epoch 267/4000\n",
      "Current lambda: 0.0500\n"
     ]
    },
    {
     "name": "stderr",
     "output_type": "stream",
     "text": [
      "Training: 100%|██████████| 24/24 [00:23<00:00,  1.03it/s, loss=0.608]\n",
      "Validation: 100%|██████████| 4/4 [00:02<00:00,  1.72it/s, loss=0.476]\n"
     ]
    },
    {
     "name": "stdout",
     "output_type": "stream",
     "text": [
      "Validation Dice Score\n",
      "Class 0: 0.6726, Class 1: 0.4447, Class 2: 0.0189, Class 3: 0.0023, \n",
      "Class 4: 0.3730, Class 5: 0.3377, Class 6: 0.7499, \n",
      "Validation F-beta Score\n",
      "Class 0: 0.5290, Class 1: 0.3475, Class 2: 0.0428, Class 3: 0.0188, \n",
      "Class 4: 0.3004, Class 5: 0.2522, Class 6: 0.6445, \n",
      "Overall Mean Dice Score: 0.3815\n",
      "Overall Mean F-beta Score: 0.3127\n",
      "\n",
      "Training Loss: 0.5808, Validation Loss: 0.5471, Validation F-beta: 0.3127\n",
      "Validation loss did not improve. Reducing lambda to 0.0500\n",
      "Epoch 268/4000\n",
      "Current lambda: 0.0500\n"
     ]
    },
    {
     "name": "stderr",
     "output_type": "stream",
     "text": [
      "Training: 100%|██████████| 24/24 [00:23<00:00,  1.04it/s, loss=0.58] \n",
      "Validation: 100%|██████████| 4/4 [00:02<00:00,  1.75it/s, loss=0.64] \n"
     ]
    },
    {
     "name": "stdout",
     "output_type": "stream",
     "text": [
      "Validation Dice Score\n",
      "Class 0: 0.6769, Class 1: 0.6847, Class 2: 0.0015, Class 3: 0.0052, \n",
      "Class 4: 0.2192, Class 5: 0.2347, Class 6: 0.6609, \n",
      "Validation F-beta Score\n",
      "Class 0: 0.5329, Class 1: 0.6204, Class 2: 0.0017, Class 3: 0.0393, \n",
      "Class 4: 0.2789, Class 5: 0.1773, Class 6: 0.6142, \n",
      "Overall Mean Dice Score: 0.3609\n",
      "Overall Mean F-beta Score: 0.3460\n",
      "\n",
      "Training Loss: 0.5892, Validation Loss: 0.5923, Validation F-beta: 0.3460\n",
      "Epoch 269/4000\n",
      "Current lambda: 0.0500\n"
     ]
    },
    {
     "name": "stderr",
     "output_type": "stream",
     "text": [
      "Training: 100%|██████████| 24/24 [00:23<00:00,  1.03it/s, loss=0.615]\n",
      "Validation: 100%|██████████| 4/4 [00:02<00:00,  1.74it/s, loss=0.543]\n"
     ]
    },
    {
     "name": "stdout",
     "output_type": "stream",
     "text": [
      "Validation Dice Score\n",
      "Class 0: 0.6778, Class 1: 0.6087, Class 2: 0.1601, Class 3: 0.0026, \n",
      "Class 4: 0.3197, Class 5: 0.4470, Class 6: 0.5839, \n",
      "Validation F-beta Score\n",
      "Class 0: 0.5333, Class 1: 0.5650, Class 2: 0.1397, Class 3: 0.0212, \n",
      "Class 4: 0.3659, Class 5: 0.3636, Class 6: 0.6244, \n",
      "Overall Mean Dice Score: 0.3924\n",
      "Overall Mean F-beta Score: 0.3880\n",
      "\n",
      "Training Loss: 0.5838, Validation Loss: 0.5534, Validation F-beta: 0.3880\n",
      "Epoch 270/4000\n",
      "Current lambda: 0.0500\n"
     ]
    },
    {
     "name": "stderr",
     "output_type": "stream",
     "text": [
      "Training: 100%|██████████| 24/24 [00:23<00:00,  1.03it/s, loss=0.611]\n",
      "Validation: 100%|██████████| 4/4 [00:02<00:00,  1.72it/s, loss=0.531]\n"
     ]
    },
    {
     "name": "stdout",
     "output_type": "stream",
     "text": [
      "Validation Dice Score\n",
      "Class 0: 0.6737, Class 1: 0.4654, Class 2: 0.1252, Class 3: 0.0038, \n",
      "Class 4: 0.2803, Class 5: 0.2469, Class 6: 0.7591, \n",
      "Validation F-beta Score\n",
      "Class 0: 0.5317, Class 1: 0.3661, Class 2: 0.1288, Class 3: 0.0295, \n",
      "Class 4: 0.1929, Class 5: 0.1882, Class 6: 0.6914, \n",
      "Overall Mean Dice Score: 0.3511\n",
      "Overall Mean F-beta Score: 0.2936\n",
      "\n",
      "Training Loss: 0.5845, Validation Loss: 0.5443, Validation F-beta: 0.2936\n",
      "Epoch 271/4000\n",
      "Current lambda: 0.0500\n"
     ]
    },
    {
     "name": "stderr",
     "output_type": "stream",
     "text": [
      "Training: 100%|██████████| 24/24 [00:23<00:00,  1.03it/s, loss=0.592]\n",
      "Validation: 100%|██████████| 4/4 [00:02<00:00,  1.73it/s, loss=0.614]\n"
     ]
    },
    {
     "name": "stdout",
     "output_type": "stream",
     "text": [
      "Validation Dice Score\n",
      "Class 0: 0.6813, Class 1: 0.5034, Class 2: 0.0548, Class 3: 0.0040, \n",
      "Class 4: 0.4441, Class 5: 0.3644, Class 6: 0.6894, \n",
      "Validation F-beta Score\n",
      "Class 0: 0.5394, Class 1: 0.4262, Class 2: 0.0570, Class 3: 0.0308, \n",
      "Class 4: 0.3398, Class 5: 0.3516, Class 6: 0.6064, \n",
      "Overall Mean Dice Score: 0.4011\n",
      "Overall Mean F-beta Score: 0.3510\n",
      "\n",
      "Training Loss: 0.5780, Validation Loss: 0.5655, Validation F-beta: 0.3510\n",
      "Epoch 272/4000\n",
      "Current lambda: 0.0500\n"
     ]
    },
    {
     "name": "stderr",
     "output_type": "stream",
     "text": [
      "Training: 100%|██████████| 24/24 [00:23<00:00,  1.03it/s, loss=0.553]\n",
      "Validation: 100%|██████████| 4/4 [00:02<00:00,  1.71it/s, loss=0.609]\n"
     ]
    },
    {
     "name": "stdout",
     "output_type": "stream",
     "text": [
      "Validation Dice Score\n",
      "Class 0: 0.6782, Class 1: 0.3591, Class 2: 0.0752, Class 3: 0.0037, \n",
      "Class 4: 0.3493, Class 5: 0.2600, Class 6: 0.7383, \n",
      "Validation F-beta Score\n",
      "Class 0: 0.5360, Class 1: 0.2915, Class 2: 0.1240, Class 3: 0.0285, \n",
      "Class 4: 0.3058, Class 5: 0.2139, Class 6: 0.7594, \n",
      "Overall Mean Dice Score: 0.3421\n",
      "Overall Mean F-beta Score: 0.3198\n",
      "\n",
      "Training Loss: 0.5734, Validation Loss: 0.5823, Validation F-beta: 0.3198\n",
      "Validation loss did not improve. Reducing lambda to 0.0500\n",
      "Epoch 273/4000\n",
      "Current lambda: 0.0500\n"
     ]
    },
    {
     "name": "stderr",
     "output_type": "stream",
     "text": [
      "Training: 100%|██████████| 24/24 [00:23<00:00,  1.02it/s, loss=0.579]\n",
      "Validation: 100%|██████████| 4/4 [00:02<00:00,  1.73it/s, loss=0.562]\n"
     ]
    },
    {
     "name": "stdout",
     "output_type": "stream",
     "text": [
      "Validation Dice Score\n",
      "Class 0: 0.6771, Class 1: 0.6513, Class 2: 0.0899, Class 3: 0.0045, \n",
      "Class 4: 0.5213, Class 5: 0.3519, Class 6: 0.5071, \n",
      "Validation F-beta Score\n",
      "Class 0: 0.5352, Class 1: 0.6045, Class 2: 0.0692, Class 3: 0.0341, \n",
      "Class 4: 0.4409, Class 5: 0.2684, Class 6: 0.4061, \n",
      "Overall Mean Dice Score: 0.4072\n",
      "Overall Mean F-beta Score: 0.3508\n",
      "\n",
      "Training Loss: 0.5783, Validation Loss: 0.5577, Validation F-beta: 0.3508\n",
      "Epoch 274/4000\n",
      "Current lambda: 0.0500\n"
     ]
    },
    {
     "name": "stderr",
     "output_type": "stream",
     "text": [
      "Training: 100%|██████████| 24/24 [00:23<00:00,  1.02it/s, loss=0.577]\n",
      "Validation: 100%|██████████| 4/4 [00:02<00:00,  1.70it/s, loss=0.55] \n"
     ]
    },
    {
     "name": "stdout",
     "output_type": "stream",
     "text": [
      "Validation Dice Score\n",
      "Class 0: 0.6858, Class 1: 0.4341, Class 2: 0.3171, Class 3: 0.0074, \n",
      "Class 4: 0.3619, Class 5: 0.3998, Class 6: 0.5755, \n",
      "Validation F-beta Score\n",
      "Class 0: 0.5428, Class 1: 0.4015, Class 2: 0.3665, Class 3: 0.0551, \n",
      "Class 4: 0.3000, Class 5: 0.3438, Class 6: 0.4254, \n",
      "Overall Mean Dice Score: 0.3557\n",
      "Overall Mean F-beta Score: 0.3052\n",
      "\n",
      "Training Loss: 0.5723, Validation Loss: 0.5688, Validation F-beta: 0.3052\n",
      "Epoch 275/4000\n",
      "Current lambda: 0.0500\n"
     ]
    },
    {
     "name": "stderr",
     "output_type": "stream",
     "text": [
      "Training: 100%|██████████| 24/24 [00:23<00:00,  1.03it/s, loss=0.587]\n",
      "Validation: 100%|██████████| 4/4 [00:02<00:00,  1.71it/s, loss=0.567]\n"
     ]
    },
    {
     "name": "stdout",
     "output_type": "stream",
     "text": [
      "Validation Dice Score\n",
      "Class 0: 0.6871, Class 1: 0.6587, Class 2: 0.0080, Class 3: 0.0037, \n",
      "Class 4: 0.2928, Class 5: 0.3652, Class 6: 0.7112, \n",
      "Validation F-beta Score\n",
      "Class 0: 0.5443, Class 1: 0.6340, Class 2: 0.0066, Class 3: 0.0294, \n",
      "Class 4: 0.2809, Class 5: 0.2792, Class 6: 0.6904, \n",
      "Overall Mean Dice Score: 0.4063\n",
      "Overall Mean F-beta Score: 0.3828\n",
      "\n",
      "Training Loss: 0.5864, Validation Loss: 0.5525, Validation F-beta: 0.3828\n",
      "Epoch 276/4000\n",
      "Current lambda: 0.0500\n"
     ]
    },
    {
     "name": "stderr",
     "output_type": "stream",
     "text": [
      "Training: 100%|██████████| 24/24 [00:23<00:00,  1.03it/s, loss=0.605]\n",
      "Validation: 100%|██████████| 4/4 [00:02<00:00,  1.69it/s, loss=0.512]\n"
     ]
    },
    {
     "name": "stdout",
     "output_type": "stream",
     "text": [
      "Validation Dice Score\n",
      "Class 0: 0.6861, Class 1: 0.5259, Class 2: 0.1179, Class 3: 0.0032, \n",
      "Class 4: 0.2787, Class 5: 0.3514, Class 6: 0.4690, \n",
      "Validation F-beta Score\n",
      "Class 0: 0.5445, Class 1: 0.4350, Class 2: 0.1577, Class 3: 0.0255, \n",
      "Class 4: 0.1885, Class 5: 0.3085, Class 6: 0.3912, \n",
      "Overall Mean Dice Score: 0.3256\n",
      "Overall Mean F-beta Score: 0.2697\n",
      "\n",
      "Training Loss: 0.5823, Validation Loss: 0.5521, Validation F-beta: 0.2697\n",
      "Epoch 277/4000\n",
      "Current lambda: 0.0500\n"
     ]
    },
    {
     "name": "stderr",
     "output_type": "stream",
     "text": [
      "Training: 100%|██████████| 24/24 [00:23<00:00,  1.03it/s, loss=0.601]\n",
      "Validation: 100%|██████████| 4/4 [00:02<00:00,  1.74it/s, loss=0.592]\n"
     ]
    },
    {
     "name": "stdout",
     "output_type": "stream",
     "text": [
      "Validation Dice Score\n",
      "Class 0: 0.6841, Class 1: 0.4929, Class 2: 0.1134, Class 3: 0.0049, \n",
      "Class 4: 0.5019, Class 5: 0.3697, Class 6: 0.7105, \n",
      "Validation F-beta Score\n",
      "Class 0: 0.5410, Class 1: 0.3783, Class 2: 0.1022, Class 3: 0.0377, \n",
      "Class 4: 0.3861, Class 5: 0.3481, Class 6: 0.6173, \n",
      "Overall Mean Dice Score: 0.4160\n",
      "Overall Mean F-beta Score: 0.3535\n",
      "\n",
      "Training Loss: 0.5882, Validation Loss: 0.5565, Validation F-beta: 0.3535\n",
      "Validation loss did not improve. Reducing lambda to 0.0500\n",
      "Epoch 278/4000\n",
      "Current lambda: 0.0500\n"
     ]
    },
    {
     "name": "stderr",
     "output_type": "stream",
     "text": [
      "Training: 100%|██████████| 24/24 [00:23<00:00,  1.03it/s, loss=0.588]\n",
      "Validation: 100%|██████████| 4/4 [00:02<00:00,  1.70it/s, loss=0.602]\n"
     ]
    },
    {
     "name": "stdout",
     "output_type": "stream",
     "text": [
      "Validation Dice Score\n",
      "Class 0: 0.6819, Class 1: 0.6216, Class 2: 0.1081, Class 3: 0.0085, \n",
      "Class 4: 0.2758, Class 5: 0.2212, Class 6: 0.5131, \n",
      "Validation F-beta Score\n",
      "Class 0: 0.5406, Class 1: 0.6045, Class 2: 0.1140, Class 3: 0.0617, \n",
      "Class 4: 0.2198, Class 5: 0.1641, Class 6: 0.5253, \n",
      "Overall Mean Dice Score: 0.3280\n",
      "Overall Mean F-beta Score: 0.3151\n",
      "\n",
      "Training Loss: 0.5726, Validation Loss: 0.5989, Validation F-beta: 0.3151\n",
      "Epoch 279/4000\n",
      "Current lambda: 0.0500\n"
     ]
    },
    {
     "name": "stderr",
     "output_type": "stream",
     "text": [
      "Training: 100%|██████████| 24/24 [00:23<00:00,  1.02it/s, loss=0.553]\n",
      "Validation: 100%|██████████| 4/4 [00:02<00:00,  1.72it/s, loss=0.508]\n"
     ]
    },
    {
     "name": "stdout",
     "output_type": "stream",
     "text": [
      "Validation Dice Score\n",
      "Class 0: 0.6835, Class 1: 0.4421, Class 2: 0.1020, Class 3: 0.0019, \n",
      "Class 4: 0.3883, Class 5: 0.3239, Class 6: 0.6444, \n",
      "Validation F-beta Score\n",
      "Class 0: 0.5409, Class 1: 0.3044, Class 2: 0.0907, Class 3: 0.0149, \n",
      "Class 4: 0.2783, Class 5: 0.2778, Class 6: 0.6206, \n",
      "Overall Mean Dice Score: 0.3601\n",
      "Overall Mean F-beta Score: 0.2992\n",
      "\n",
      "Training Loss: 0.5807, Validation Loss: 0.5564, Validation F-beta: 0.2992\n",
      "Epoch 280/4000\n",
      "Current lambda: 0.0500\n"
     ]
    },
    {
     "name": "stderr",
     "output_type": "stream",
     "text": [
      "Training: 100%|██████████| 24/24 [00:23<00:00,  1.02it/s, loss=0.591]\n",
      "Validation: 100%|██████████| 4/4 [00:02<00:00,  1.72it/s, loss=0.647]\n"
     ]
    },
    {
     "name": "stdout",
     "output_type": "stream",
     "text": [
      "Validation Dice Score\n",
      "Class 0: 0.6891, Class 1: 0.4222, Class 2: 0.0000, Class 3: 0.0046, \n",
      "Class 4: 0.4723, Class 5: 0.3531, Class 6: 0.5788, \n",
      "Validation F-beta Score\n",
      "Class 0: 0.5473, Class 1: 0.3483, Class 2: 0.0000, Class 3: 0.0333, \n",
      "Class 4: 0.4216, Class 5: 0.2746, Class 6: 0.4963, \n",
      "Overall Mean Dice Score: 0.3662\n",
      "Overall Mean F-beta Score: 0.3148\n",
      "\n",
      "Training Loss: 0.5846, Validation Loss: 0.5669, Validation F-beta: 0.3148\n",
      "Epoch 281/4000\n",
      "Current lambda: 0.0500\n"
     ]
    },
    {
     "name": "stderr",
     "output_type": "stream",
     "text": [
      "Training: 100%|██████████| 24/24 [00:23<00:00,  1.03it/s, loss=0.562]\n",
      "Validation: 100%|██████████| 4/4 [00:02<00:00,  1.73it/s, loss=0.55] \n"
     ]
    },
    {
     "name": "stdout",
     "output_type": "stream",
     "text": [
      "Validation Dice Score\n",
      "Class 0: 0.6843, Class 1: 0.6689, Class 2: 0.0935, Class 3: 0.0041, \n",
      "Class 4: 0.4738, Class 5: 0.3605, Class 6: 0.7365, \n",
      "Validation F-beta Score\n",
      "Class 0: 0.5424, Class 1: 0.5762, Class 2: 0.0975, Class 3: 0.0326, \n",
      "Class 4: 0.4087, Class 5: 0.2897, Class 6: 0.6402, \n",
      "Overall Mean Dice Score: 0.4487\n",
      "Overall Mean F-beta Score: 0.3895\n",
      "\n",
      "Training Loss: 0.5764, Validation Loss: 0.5499, Validation F-beta: 0.3895\n",
      "Epoch 282/4000\n",
      "Current lambda: 0.0500\n"
     ]
    },
    {
     "name": "stderr",
     "output_type": "stream",
     "text": [
      "Training: 100%|██████████| 24/24 [00:23<00:00,  1.03it/s, loss=0.566]\n",
      "Validation: 100%|██████████| 4/4 [00:02<00:00,  1.73it/s, loss=0.544]\n"
     ]
    },
    {
     "name": "stdout",
     "output_type": "stream",
     "text": [
      "Validation Dice Score\n",
      "Class 0: 0.6830, Class 1: 0.6588, Class 2: 0.0077, Class 3: 0.0034, \n",
      "Class 4: 0.4360, Class 5: 0.3120, Class 6: 0.5496, \n",
      "Validation F-beta Score\n",
      "Class 0: 0.5412, Class 1: 0.6604, Class 2: 0.0132, Class 3: 0.0273, \n",
      "Class 4: 0.3566, Class 5: 0.2771, Class 6: 0.4789, \n",
      "Overall Mean Dice Score: 0.3920\n",
      "Overall Mean F-beta Score: 0.3601\n",
      "\n",
      "Training Loss: 0.5867, Validation Loss: 0.5798, Validation F-beta: 0.3601\n",
      "Validation loss did not improve. Reducing lambda to 0.0500\n",
      "Epoch 283/4000\n",
      "Current lambda: 0.0500\n"
     ]
    },
    {
     "name": "stderr",
     "output_type": "stream",
     "text": [
      "Training: 100%|██████████| 24/24 [00:23<00:00,  1.02it/s, loss=0.636]\n",
      "Validation: 100%|██████████| 4/4 [00:02<00:00,  1.71it/s, loss=0.573]\n"
     ]
    },
    {
     "name": "stdout",
     "output_type": "stream",
     "text": [
      "Validation Dice Score\n",
      "Class 0: 0.6859, Class 1: 0.6178, Class 2: 0.0454, Class 3: 0.0050, \n",
      "Class 4: 0.4311, Class 5: 0.3163, Class 6: 0.3951, \n",
      "Validation F-beta Score\n",
      "Class 0: 0.5442, Class 1: 0.5273, Class 2: 0.0580, Class 3: 0.0380, \n",
      "Class 4: 0.3069, Class 5: 0.2531, Class 6: 0.4079, \n",
      "Overall Mean Dice Score: 0.3531\n",
      "Overall Mean F-beta Score: 0.3066\n",
      "\n",
      "Training Loss: 0.5861, Validation Loss: 0.5877, Validation F-beta: 0.3066\n",
      "Epoch 284/4000\n",
      "Current lambda: 0.0500\n"
     ]
    },
    {
     "name": "stderr",
     "output_type": "stream",
     "text": [
      "Training: 100%|██████████| 24/24 [00:23<00:00,  1.02it/s, loss=0.571]\n",
      "Validation: 100%|██████████| 4/4 [00:02<00:00,  1.67it/s, loss=0.579]\n"
     ]
    },
    {
     "name": "stdout",
     "output_type": "stream",
     "text": [
      "Validation Dice Score\n",
      "Class 0: 0.6839, Class 1: 0.2751, Class 2: 0.0000, Class 3: 0.0057, \n",
      "Class 4: 0.2919, Class 5: 0.3532, Class 6: 0.5759, \n",
      "Validation F-beta Score\n",
      "Class 0: 0.5435, Class 1: 0.2883, Class 2: 0.0000, Class 3: 0.0444, \n",
      "Class 4: 0.1862, Class 5: 0.2782, Class 6: 0.5140, \n",
      "Overall Mean Dice Score: 0.3004\n",
      "Overall Mean F-beta Score: 0.2622\n",
      "\n",
      "Training Loss: 0.5755, Validation Loss: 0.5962, Validation F-beta: 0.2622\n",
      "Epoch 285/4000\n",
      "Current lambda: 0.0500\n"
     ]
    },
    {
     "name": "stderr",
     "output_type": "stream",
     "text": [
      "Training: 100%|██████████| 24/24 [00:23<00:00,  1.02it/s, loss=0.581]\n",
      "Validation: 100%|██████████| 4/4 [00:02<00:00,  1.69it/s, loss=0.569]\n"
     ]
    },
    {
     "name": "stdout",
     "output_type": "stream",
     "text": [
      "Validation Dice Score\n",
      "Class 0: 0.6861, Class 1: 0.4491, Class 2: 0.0312, Class 3: 0.0018, \n",
      "Class 4: 0.2788, Class 5: 0.3864, Class 6: 0.7351, \n",
      "Validation F-beta Score\n",
      "Class 0: 0.5440, Class 1: 0.3469, Class 2: 0.0524, Class 3: 0.0147, \n",
      "Class 4: 0.2874, Class 5: 0.3439, Class 6: 0.6107, \n",
      "Overall Mean Dice Score: 0.3703\n",
      "Overall Mean F-beta Score: 0.3207\n",
      "\n",
      "Training Loss: 0.5763, Validation Loss: 0.5403, Validation F-beta: 0.3207\n",
      "Epoch 286/4000\n",
      "Current lambda: 0.0500\n"
     ]
    },
    {
     "name": "stderr",
     "output_type": "stream",
     "text": [
      "Training: 100%|██████████| 24/24 [00:23<00:00,  1.01it/s, loss=0.577]\n",
      "Validation: 100%|██████████| 4/4 [00:02<00:00,  1.72it/s, loss=0.585]\n"
     ]
    },
    {
     "name": "stdout",
     "output_type": "stream",
     "text": [
      "Validation Dice Score\n",
      "Class 0: 0.6846, Class 1: 0.5428, Class 2: 0.1158, Class 3: 0.0040, \n",
      "Class 4: 0.2374, Class 5: 0.2954, Class 6: 0.7707, \n",
      "Validation F-beta Score\n",
      "Class 0: 0.5423, Class 1: 0.4535, Class 2: 0.1433, Class 3: 0.0308, \n",
      "Class 4: 0.2722, Class 5: 0.2294, Class 6: 0.6854, \n",
      "Overall Mean Dice Score: 0.3701\n",
      "Overall Mean F-beta Score: 0.3342\n",
      "\n",
      "Training Loss: 0.5914, Validation Loss: 0.5858, Validation F-beta: 0.3342\n",
      "Epoch 287/4000\n",
      "Current lambda: 0.0500\n"
     ]
    },
    {
     "name": "stderr",
     "output_type": "stream",
     "text": [
      "Training: 100%|██████████| 24/24 [00:23<00:00,  1.03it/s, loss=0.574]\n",
      "Validation: 100%|██████████| 4/4 [00:02<00:00,  1.68it/s, loss=0.496]\n"
     ]
    },
    {
     "name": "stdout",
     "output_type": "stream",
     "text": [
      "Validation Dice Score\n",
      "Class 0: 0.6890, Class 1: 0.5051, Class 2: 0.0554, Class 3: 0.0028, \n",
      "Class 4: 0.3506, Class 5: 0.3815, Class 6: 0.7331, \n",
      "Validation F-beta Score\n",
      "Class 0: 0.5482, Class 1: 0.3865, Class 2: 0.0714, Class 3: 0.0220, \n",
      "Class 4: 0.3026, Class 5: 0.3246, Class 6: 0.6187, \n",
      "Overall Mean Dice Score: 0.3946\n",
      "Overall Mean F-beta Score: 0.3309\n",
      "\n",
      "Training Loss: 0.5971, Validation Loss: 0.5376, Validation F-beta: 0.3309\n",
      "Validation loss did not improve. Reducing lambda to 0.0500\n",
      "Epoch 288/4000\n",
      "Current lambda: 0.0500\n"
     ]
    },
    {
     "name": "stderr",
     "output_type": "stream",
     "text": [
      "Training: 100%|██████████| 24/24 [00:23<00:00,  1.03it/s, loss=0.602]\n",
      "Validation: 100%|██████████| 4/4 [00:02<00:00,  1.71it/s, loss=0.584]\n"
     ]
    },
    {
     "name": "stdout",
     "output_type": "stream",
     "text": [
      "Validation Dice Score\n",
      "Class 0: 0.6934, Class 1: 0.4868, Class 2: 0.1897, Class 3: 0.0050, \n",
      "Class 4: 0.3286, Class 5: 0.3585, Class 6: 0.7627, \n",
      "Validation F-beta Score\n",
      "Class 0: 0.5543, Class 1: 0.4899, Class 2: 0.2098, Class 3: 0.0372, \n",
      "Class 4: 0.2409, Class 5: 0.2667, Class 6: 0.6935, \n",
      "Overall Mean Dice Score: 0.3883\n",
      "Overall Mean F-beta Score: 0.3456\n",
      "\n",
      "Training Loss: 0.5980, Validation Loss: 0.5690, Validation F-beta: 0.3456\n",
      "Epoch 289/4000\n",
      "Current lambda: 0.0500\n"
     ]
    },
    {
     "name": "stderr",
     "output_type": "stream",
     "text": [
      "Training: 100%|██████████| 24/24 [00:23<00:00,  1.03it/s, loss=0.617]\n",
      "Validation: 100%|██████████| 4/4 [00:02<00:00,  1.67it/s, loss=0.548]\n"
     ]
    },
    {
     "name": "stdout",
     "output_type": "stream",
     "text": [
      "Validation Dice Score\n",
      "Class 0: 0.6991, Class 1: 0.4777, Class 2: 0.1464, Class 3: 0.0058, \n",
      "Class 4: 0.4637, Class 5: 0.3202, Class 6: 0.5141, \n",
      "Validation F-beta Score\n",
      "Class 0: 0.5588, Class 1: 0.4571, Class 2: 0.1264, Class 3: 0.0434, \n",
      "Class 4: 0.3574, Class 5: 0.2560, Class 6: 0.3903, \n",
      "Overall Mean Dice Score: 0.3563\n",
      "Overall Mean F-beta Score: 0.3008\n",
      "\n",
      "Training Loss: 0.5777, Validation Loss: 0.5827, Validation F-beta: 0.3008\n",
      "Epoch 290/4000\n",
      "Current lambda: 0.0500\n"
     ]
    },
    {
     "name": "stderr",
     "output_type": "stream",
     "text": [
      "Training: 100%|██████████| 24/24 [00:23<00:00,  1.03it/s, loss=0.589]\n",
      "Validation: 100%|██████████| 4/4 [00:02<00:00,  1.73it/s, loss=0.633]\n"
     ]
    },
    {
     "name": "stdout",
     "output_type": "stream",
     "text": [
      "Validation Dice Score\n",
      "Class 0: 0.7015, Class 1: 0.6062, Class 2: 0.0976, Class 3: 0.0059, \n",
      "Class 4: 0.2949, Class 5: 0.3469, Class 6: 0.5474, \n",
      "Validation F-beta Score\n",
      "Class 0: 0.5611, Class 1: 0.4682, Class 2: 0.1159, Class 3: 0.0452, \n",
      "Class 4: 0.2459, Class 5: 0.3023, Class 6: 0.5096, \n",
      "Overall Mean Dice Score: 0.3603\n",
      "Overall Mean F-beta Score: 0.3143\n",
      "\n",
      "Training Loss: 0.5851, Validation Loss: 0.5865, Validation F-beta: 0.3143\n",
      "Epoch 291/4000\n",
      "Current lambda: 0.0500\n"
     ]
    },
    {
     "name": "stderr",
     "output_type": "stream",
     "text": [
      "Training: 100%|██████████| 24/24 [00:23<00:00,  1.03it/s, loss=0.587]\n",
      "Validation: 100%|██████████| 4/4 [00:02<00:00,  1.68it/s, loss=0.567]\n"
     ]
    },
    {
     "name": "stdout",
     "output_type": "stream",
     "text": [
      "Validation Dice Score\n",
      "Class 0: 0.6963, Class 1: 0.6247, Class 2: 0.1183, Class 3: 0.0016, \n",
      "Class 4: 0.4206, Class 5: 0.3607, Class 6: 0.7469, \n",
      "Validation F-beta Score\n",
      "Class 0: 0.5556, Class 1: 0.5010, Class 2: 0.1734, Class 3: 0.0133, \n",
      "Class 4: 0.3668, Class 5: 0.2746, Class 6: 0.6311, \n",
      "Overall Mean Dice Score: 0.4309\n",
      "Overall Mean F-beta Score: 0.3574\n",
      "\n",
      "Training Loss: 0.5835, Validation Loss: 0.5449, Validation F-beta: 0.3574\n",
      "Epoch 292/4000\n",
      "Current lambda: 0.0500\n"
     ]
    },
    {
     "name": "stderr",
     "output_type": "stream",
     "text": [
      "Training: 100%|██████████| 24/24 [00:23<00:00,  1.02it/s, loss=0.596]\n",
      "Validation: 100%|██████████| 4/4 [00:02<00:00,  1.72it/s, loss=0.603]\n"
     ]
    },
    {
     "name": "stdout",
     "output_type": "stream",
     "text": [
      "Validation Dice Score\n",
      "Class 0: 0.7028, Class 1: 0.4473, Class 2: 0.0935, Class 3: 0.0036, \n",
      "Class 4: 0.2579, Class 5: 0.4058, Class 6: 0.6342, \n",
      "Validation F-beta Score\n",
      "Class 0: 0.5629, Class 1: 0.3445, Class 2: 0.0599, Class 3: 0.0271, \n",
      "Class 4: 0.1752, Class 5: 0.3514, Class 6: 0.6348, \n",
      "Overall Mean Dice Score: 0.3497\n",
      "Overall Mean F-beta Score: 0.3066\n",
      "\n",
      "Training Loss: 0.5836, Validation Loss: 0.5497, Validation F-beta: 0.3066\n",
      "Validation loss did not improve. Reducing lambda to 0.0500\n",
      "Epoch 293/4000\n",
      "Current lambda: 0.0500\n"
     ]
    },
    {
     "name": "stderr",
     "output_type": "stream",
     "text": [
      "Training: 100%|██████████| 24/24 [00:23<00:00,  1.03it/s, loss=0.57] \n",
      "Validation: 100%|██████████| 4/4 [00:02<00:00,  1.74it/s, loss=0.576]\n"
     ]
    },
    {
     "name": "stdout",
     "output_type": "stream",
     "text": [
      "Validation Dice Score\n",
      "Class 0: 0.6922, Class 1: 0.3250, Class 2: 0.0858, Class 3: 0.0052, \n",
      "Class 4: 0.3655, Class 5: 0.3333, Class 6: 0.6586, \n",
      "Validation F-beta Score\n",
      "Class 0: 0.5527, Class 1: 0.2391, Class 2: 0.0696, Class 3: 0.0378, \n",
      "Class 4: 0.3785, Class 5: 0.2582, Class 6: 0.6552, \n",
      "Overall Mean Dice Score: 0.3375\n",
      "Overall Mean F-beta Score: 0.3138\n",
      "\n",
      "Training Loss: 0.5730, Validation Loss: 0.5688, Validation F-beta: 0.3138\n",
      "Epoch 294/4000\n",
      "Current lambda: 0.0500\n"
     ]
    },
    {
     "name": "stderr",
     "output_type": "stream",
     "text": [
      "Training: 100%|██████████| 24/24 [00:23<00:00,  1.03it/s, loss=0.565]\n",
      "Validation: 100%|██████████| 4/4 [00:02<00:00,  1.74it/s, loss=0.637]\n"
     ]
    },
    {
     "name": "stdout",
     "output_type": "stream",
     "text": [
      "Validation Dice Score\n",
      "Class 0: 0.7059, Class 1: 0.2474, Class 2: 0.0288, Class 3: 0.0046, \n",
      "Class 4: 0.3752, Class 5: 0.3855, Class 6: 0.8099, \n",
      "Validation F-beta Score\n",
      "Class 0: 0.5649, Class 1: 0.2020, Class 2: 0.0329, Class 3: 0.0343, \n",
      "Class 4: 0.3127, Class 5: 0.3403, Class 6: 0.7144, \n",
      "Overall Mean Dice Score: 0.3645\n",
      "Overall Mean F-beta Score: 0.3207\n",
      "\n",
      "Training Loss: 0.5865, Validation Loss: 0.5918, Validation F-beta: 0.3207\n",
      "Epoch 295/4000\n",
      "Current lambda: 0.0500\n"
     ]
    },
    {
     "name": "stderr",
     "output_type": "stream",
     "text": [
      "Training: 100%|██████████| 24/24 [00:23<00:00,  1.02it/s, loss=0.55] \n",
      "Validation: 100%|██████████| 4/4 [00:02<00:00,  1.68it/s, loss=0.485]\n"
     ]
    },
    {
     "name": "stdout",
     "output_type": "stream",
     "text": [
      "Validation Dice Score\n",
      "Class 0: 0.7019, Class 1: 0.6454, Class 2: 0.1617, Class 3: 0.0033, \n",
      "Class 4: 0.3512, Class 5: 0.3715, Class 6: 0.7766, \n",
      "Validation F-beta Score\n",
      "Class 0: 0.5626, Class 1: 0.5141, Class 2: 0.1903, Class 3: 0.0258, \n",
      "Class 4: 0.3156, Class 5: 0.2840, Class 6: 0.6905, \n",
      "Overall Mean Dice Score: 0.4296\n",
      "Overall Mean F-beta Score: 0.3660\n",
      "\n",
      "Training Loss: 0.5829, Validation Loss: 0.5544, Validation F-beta: 0.3660\n",
      "Epoch 296/4000\n",
      "Current lambda: 0.0500\n"
     ]
    },
    {
     "name": "stderr",
     "output_type": "stream",
     "text": [
      "Training: 100%|██████████| 24/24 [00:23<00:00,  1.02it/s, loss=0.545]\n",
      "Validation: 100%|██████████| 4/4 [00:02<00:00,  1.70it/s, loss=0.576]\n"
     ]
    },
    {
     "name": "stdout",
     "output_type": "stream",
     "text": [
      "Validation Dice Score\n",
      "Class 0: 0.7045, Class 1: 0.7022, Class 2: 0.0617, Class 3: 0.0085, \n",
      "Class 4: 0.4051, Class 5: 0.3350, Class 6: 0.5848, \n",
      "Validation F-beta Score\n",
      "Class 0: 0.5649, Class 1: 0.6341, Class 2: 0.0744, Class 3: 0.0650, \n",
      "Class 4: 0.3565, Class 5: 0.2711, Class 6: 0.5088, \n",
      "Overall Mean Dice Score: 0.4071\n",
      "Overall Mean F-beta Score: 0.3671\n",
      "\n",
      "Training Loss: 0.5818, Validation Loss: 0.5724, Validation F-beta: 0.3671\n",
      "Epoch 297/4000\n",
      "Current lambda: 0.0500\n"
     ]
    },
    {
     "name": "stderr",
     "output_type": "stream",
     "text": [
      "Training: 100%|██████████| 24/24 [00:23<00:00,  1.02it/s, loss=0.592]\n",
      "Validation: 100%|██████████| 4/4 [00:02<00:00,  1.74it/s, loss=0.601]\n"
     ]
    },
    {
     "name": "stdout",
     "output_type": "stream",
     "text": [
      "Validation Dice Score\n",
      "Class 0: 0.6976, Class 1: 0.6288, Class 2: 0.1026, Class 3: 0.0070, \n",
      "Class 4: 0.3082, Class 5: 0.2136, Class 6: 0.7314, \n",
      "Validation F-beta Score\n",
      "Class 0: 0.5597, Class 1: 0.5486, Class 2: 0.0788, Class 3: 0.0528, \n",
      "Class 4: 0.2343, Class 5: 0.1904, Class 6: 0.6116, \n",
      "Overall Mean Dice Score: 0.3778\n",
      "Overall Mean F-beta Score: 0.3275\n",
      "\n",
      "Training Loss: 0.5836, Validation Loss: 0.5665, Validation F-beta: 0.3275\n",
      "Validation loss did not improve. Reducing lambda to 0.0500\n",
      "Epoch 298/4000\n",
      "Current lambda: 0.0500\n"
     ]
    },
    {
     "name": "stderr",
     "output_type": "stream",
     "text": [
      "Training: 100%|██████████| 24/24 [00:23<00:00,  1.04it/s, loss=0.561]\n",
      "Validation: 100%|██████████| 4/4 [00:02<00:00,  1.67it/s, loss=0.568]\n"
     ]
    },
    {
     "name": "stdout",
     "output_type": "stream",
     "text": [
      "Validation Dice Score\n",
      "Class 0: 0.7077, Class 1: 0.6846, Class 2: 0.1730, Class 3: 0.0086, \n",
      "Class 4: 0.4033, Class 5: 0.2368, Class 6: 0.4348, \n",
      "Validation F-beta Score\n",
      "Class 0: 0.5685, Class 1: 0.6045, Class 2: 0.1901, Class 3: 0.0627, \n",
      "Class 4: 0.3681, Class 5: 0.2609, Class 6: 0.4768, \n",
      "Overall Mean Dice Score: 0.3536\n",
      "Overall Mean F-beta Score: 0.3546\n",
      "\n",
      "Training Loss: 0.5860, Validation Loss: 0.5934, Validation F-beta: 0.3546\n",
      "Epoch 299/4000\n",
      "Current lambda: 0.0500\n"
     ]
    },
    {
     "name": "stderr",
     "output_type": "stream",
     "text": [
      "Training: 100%|██████████| 24/24 [00:23<00:00,  1.03it/s, loss=0.506]\n",
      "Validation: 100%|██████████| 4/4 [00:02<00:00,  1.73it/s, loss=0.543]\n"
     ]
    },
    {
     "name": "stdout",
     "output_type": "stream",
     "text": [
      "Validation Dice Score\n",
      "Class 0: 0.7031, Class 1: 0.6985, Class 2: 0.1118, Class 3: 0.0052, \n",
      "Class 4: 0.3801, Class 5: 0.3803, Class 6: 0.7066, \n",
      "Validation F-beta Score\n",
      "Class 0: 0.5646, Class 1: 0.5879, Class 2: 0.1159, Class 3: 0.0393, \n",
      "Class 4: 0.3140, Class 5: 0.2928, Class 6: 0.5779, \n",
      "Overall Mean Dice Score: 0.4341\n",
      "Overall Mean F-beta Score: 0.3624\n",
      "\n",
      "Training Loss: 0.5767, Validation Loss: 0.5205, Validation F-beta: 0.3624\n",
      "Epoch 300/4000\n",
      "Current lambda: 0.0500\n"
     ]
    },
    {
     "name": "stderr",
     "output_type": "stream",
     "text": [
      "Training: 100%|██████████| 24/24 [00:27<00:00,  1.13s/it, loss=0.602]\n",
      "Validation: 100%|██████████| 4/4 [00:02<00:00,  1.60it/s, loss=0.559]\n"
     ]
    },
    {
     "name": "stdout",
     "output_type": "stream",
     "text": [
      "Validation Dice Score\n",
      "Class 0: 0.7052, Class 1: 0.6347, Class 2: 0.1282, Class 3: 0.0074, \n",
      "Class 4: 0.4898, Class 5: 0.3798, Class 6: 0.4964, \n",
      "Validation F-beta Score\n",
      "Class 0: 0.5651, Class 1: 0.6682, Class 2: 0.1745, Class 3: 0.0561, \n",
      "Class 4: 0.4954, Class 5: 0.2903, Class 6: 0.4182, \n",
      "Overall Mean Dice Score: 0.4016\n",
      "Overall Mean F-beta Score: 0.3857\n",
      "\n",
      "Training Loss: 0.5713, Validation Loss: 0.5677, Validation F-beta: 0.3857\n",
      "Epoch 301/4000\n",
      "Current lambda: 0.0500\n"
     ]
    },
    {
     "name": "stderr",
     "output_type": "stream",
     "text": [
      "Training: 100%|██████████| 24/24 [00:23<00:00,  1.01it/s, loss=0.501]\n",
      "Validation: 100%|██████████| 4/4 [00:02<00:00,  1.70it/s, loss=0.531]\n"
     ]
    },
    {
     "name": "stdout",
     "output_type": "stream",
     "text": [
      "Validation Dice Score\n",
      "Class 0: 0.7005, Class 1: 0.6614, Class 2: 0.0744, Class 3: 0.0056, \n",
      "Class 4: 0.5195, Class 5: 0.4599, Class 6: 0.7520, \n",
      "Validation F-beta Score\n",
      "Class 0: 0.5619, Class 1: 0.5455, Class 2: 0.0700, Class 3: 0.0417, \n",
      "Class 4: 0.4133, Class 5: 0.3798, Class 6: 0.6811, \n",
      "Overall Mean Dice Score: 0.4797\n",
      "Overall Mean F-beta Score: 0.4123\n",
      "\n",
      "Training Loss: 0.5768, Validation Loss: 0.5249, Validation F-beta: 0.4123\n",
      "Epoch 302/4000\n",
      "Current lambda: 0.0500\n"
     ]
    },
    {
     "name": "stderr",
     "output_type": "stream",
     "text": [
      "Training: 100%|██████████| 24/24 [00:24<00:00,  1.02s/it, loss=0.6]  \n",
      "Validation: 100%|██████████| 4/4 [00:02<00:00,  1.52it/s, loss=0.58] \n"
     ]
    },
    {
     "name": "stdout",
     "output_type": "stream",
     "text": [
      "Validation Dice Score\n",
      "Class 0: 0.7048, Class 1: 0.6642, Class 2: 0.0883, Class 3: 0.0051, \n",
      "Class 4: 0.2944, Class 5: 0.3343, Class 6: 0.5918, \n",
      "Validation F-beta Score\n",
      "Class 0: 0.5667, Class 1: 0.5300, Class 2: 0.0744, Class 3: 0.0391, \n",
      "Class 4: 0.2227, Class 5: 0.3000, Class 6: 0.5354, \n",
      "Overall Mean Dice Score: 0.3780\n",
      "Overall Mean F-beta Score: 0.3254\n",
      "\n",
      "Training Loss: 0.5874, Validation Loss: 0.5520, Validation F-beta: 0.3254\n",
      "Validation loss did not improve. Reducing lambda to 0.0500\n",
      "Epoch 303/4000\n",
      "Current lambda: 0.0500\n"
     ]
    },
    {
     "name": "stderr",
     "output_type": "stream",
     "text": [
      "Training: 100%|██████████| 24/24 [00:24<00:00,  1.00s/it, loss=0.593]\n",
      "Validation: 100%|██████████| 4/4 [00:02<00:00,  1.75it/s, loss=0.624]\n"
     ]
    },
    {
     "name": "stdout",
     "output_type": "stream",
     "text": [
      "Validation Dice Score\n",
      "Class 0: 0.7090, Class 1: 0.5844, Class 2: 0.1979, Class 3: 0.0043, \n",
      "Class 4: 0.3219, Class 5: 0.3165, Class 6: 0.4809, \n",
      "Validation F-beta Score\n",
      "Class 0: 0.5698, Class 1: 0.4985, Class 2: 0.2582, Class 3: 0.0341, \n",
      "Class 4: 0.2484, Class 5: 0.2540, Class 6: 0.3948, \n",
      "Overall Mean Dice Score: 0.3416\n",
      "Overall Mean F-beta Score: 0.2860\n",
      "\n",
      "Training Loss: 0.5758, Validation Loss: 0.5749, Validation F-beta: 0.2860\n",
      "Epoch 304/4000\n",
      "Current lambda: 0.0500\n"
     ]
    },
    {
     "name": "stderr",
     "output_type": "stream",
     "text": [
      "Training: 100%|██████████| 24/24 [00:24<00:00,  1.00s/it, loss=0.614]\n",
      "Validation: 100%|██████████| 4/4 [00:02<00:00,  1.72it/s, loss=0.616]\n"
     ]
    },
    {
     "name": "stdout",
     "output_type": "stream",
     "text": [
      "Validation Dice Score\n",
      "Class 0: 0.7067, Class 1: 0.5370, Class 2: 0.0899, Class 3: 0.0044, \n",
      "Class 4: 0.3503, Class 5: 0.2455, Class 6: 0.6932, \n",
      "Validation F-beta Score\n",
      "Class 0: 0.5692, Class 1: 0.4334, Class 2: 0.0968, Class 3: 0.0346, \n",
      "Class 4: 0.2745, Class 5: 0.2200, Class 6: 0.5718, \n",
      "Overall Mean Dice Score: 0.3661\n",
      "Overall Mean F-beta Score: 0.3069\n",
      "\n",
      "Training Loss: 0.5902, Validation Loss: 0.5819, Validation F-beta: 0.3069\n",
      "Epoch 305/4000\n",
      "Current lambda: 0.0500\n"
     ]
    },
    {
     "name": "stderr",
     "output_type": "stream",
     "text": [
      "Training: 100%|██████████| 24/24 [00:23<00:00,  1.00it/s, loss=0.582]\n",
      "Validation: 100%|██████████| 4/4 [00:02<00:00,  1.62it/s, loss=0.53] \n"
     ]
    },
    {
     "name": "stdout",
     "output_type": "stream",
     "text": [
      "Validation Dice Score\n",
      "Class 0: 0.7076, Class 1: 0.4690, Class 2: 0.2478, Class 3: 0.0035, \n",
      "Class 4: 0.3966, Class 5: 0.3721, Class 6: 0.7119, \n",
      "Validation F-beta Score\n",
      "Class 0: 0.5710, Class 1: 0.3759, Class 2: 0.2636, Class 3: 0.0274, \n",
      "Class 4: 0.2818, Class 5: 0.3349, Class 6: 0.5845, \n",
      "Overall Mean Dice Score: 0.3906\n",
      "Overall Mean F-beta Score: 0.3209\n",
      "\n",
      "Training Loss: 0.5764, Validation Loss: 0.5636, Validation F-beta: 0.3209\n",
      "Epoch 306/4000\n",
      "Current lambda: 0.0500\n"
     ]
    },
    {
     "name": "stderr",
     "output_type": "stream",
     "text": [
      "Training: 100%|██████████| 24/24 [00:23<00:00,  1.00it/s, loss=0.592]\n",
      "Validation: 100%|██████████| 4/4 [00:02<00:00,  1.74it/s, loss=0.549]\n"
     ]
    },
    {
     "name": "stdout",
     "output_type": "stream",
     "text": [
      "Validation Dice Score\n",
      "Class 0: 0.7169, Class 1: 0.6121, Class 2: 0.1772, Class 3: 0.0049, \n",
      "Class 4: 0.2209, Class 5: 0.3046, Class 6: 0.6491, \n",
      "Validation F-beta Score\n",
      "Class 0: 0.5794, Class 1: 0.5252, Class 2: 0.2370, Class 3: 0.0381, \n",
      "Class 4: 0.1755, Class 5: 0.2495, Class 6: 0.5628, \n",
      "Overall Mean Dice Score: 0.3583\n",
      "Overall Mean F-beta Score: 0.3102\n",
      "\n",
      "Training Loss: 0.5794, Validation Loss: 0.5549, Validation F-beta: 0.3102\n",
      "Epoch 307/4000\n",
      "Current lambda: 0.0500\n"
     ]
    },
    {
     "name": "stderr",
     "output_type": "stream",
     "text": [
      "Training: 100%|██████████| 24/24 [00:24<00:00,  1.00s/it, loss=0.591]\n",
      "Validation: 100%|██████████| 4/4 [00:02<00:00,  1.73it/s, loss=0.588]\n"
     ]
    },
    {
     "name": "stdout",
     "output_type": "stream",
     "text": [
      "Validation Dice Score\n",
      "Class 0: 0.7153, Class 1: 0.4523, Class 2: 0.0926, Class 3: 0.0066, \n",
      "Class 4: 0.2998, Class 5: 0.3071, Class 6: 0.7644, \n",
      "Validation F-beta Score\n",
      "Class 0: 0.5765, Class 1: 0.3405, Class 2: 0.0879, Class 3: 0.0509, \n",
      "Class 4: 0.2594, Class 5: 0.2561, Class 6: 0.7510, \n",
      "Overall Mean Dice Score: 0.3660\n",
      "Overall Mean F-beta Score: 0.3316\n",
      "\n",
      "Training Loss: 0.5596, Validation Loss: 0.5822, Validation F-beta: 0.3316\n",
      "Validation loss did not improve. Reducing lambda to 0.0500\n",
      "Epoch 308/4000\n",
      "Current lambda: 0.0500\n"
     ]
    },
    {
     "name": "stderr",
     "output_type": "stream",
     "text": [
      "Training: 100%|██████████| 24/24 [00:23<00:00,  1.01it/s, loss=0.612]\n",
      "Validation: 100%|██████████| 4/4 [00:02<00:00,  1.69it/s, loss=0.572]\n"
     ]
    },
    {
     "name": "stdout",
     "output_type": "stream",
     "text": [
      "Validation Dice Score\n",
      "Class 0: 0.7198, Class 1: 0.6713, Class 2: 0.0437, Class 3: 0.0050, \n",
      "Class 4: 0.4101, Class 5: 0.4203, Class 6: 0.6166, \n",
      "Validation F-beta Score\n",
      "Class 0: 0.5839, Class 1: 0.6013, Class 2: 0.0465, Class 3: 0.0379, \n",
      "Class 4: 0.3300, Class 5: 0.3373, Class 6: 0.5221, \n",
      "Overall Mean Dice Score: 0.4247\n",
      "Overall Mean F-beta Score: 0.3657\n",
      "\n",
      "Training Loss: 0.5909, Validation Loss: 0.5515, Validation F-beta: 0.3657\n",
      "Epoch 309/4000\n",
      "Current lambda: 0.0500\n"
     ]
    },
    {
     "name": "stderr",
     "output_type": "stream",
     "text": [
      "Training: 100%|██████████| 24/24 [00:23<00:00,  1.00it/s, loss=0.551]\n",
      "Validation: 100%|██████████| 4/4 [00:02<00:00,  1.73it/s, loss=0.575]\n"
     ]
    },
    {
     "name": "stdout",
     "output_type": "stream",
     "text": [
      "Validation Dice Score\n",
      "Class 0: 0.7260, Class 1: 0.5758, Class 2: 0.1209, Class 3: 0.0092, \n",
      "Class 4: 0.4743, Class 5: 0.3041, Class 6: 0.5318, \n",
      "Validation F-beta Score\n",
      "Class 0: 0.5914, Class 1: 0.4397, Class 2: 0.1204, Class 3: 0.0685, \n",
      "Class 4: 0.3922, Class 5: 0.2435, Class 6: 0.4806, \n",
      "Overall Mean Dice Score: 0.3790\n",
      "Overall Mean F-beta Score: 0.3249\n",
      "\n",
      "Training Loss: 0.5882, Validation Loss: 0.5645, Validation F-beta: 0.3249\n",
      "Epoch 310/4000\n",
      "Current lambda: 0.0500\n"
     ]
    },
    {
     "name": "stderr",
     "output_type": "stream",
     "text": [
      "Training: 100%|██████████| 24/24 [00:24<00:00,  1.00s/it, loss=0.588]\n",
      "Validation: 100%|██████████| 4/4 [00:02<00:00,  1.72it/s, loss=0.516]\n"
     ]
    },
    {
     "name": "stdout",
     "output_type": "stream",
     "text": [
      "Validation Dice Score\n",
      "Class 0: 0.7235, Class 1: 0.7172, Class 2: 0.0692, Class 3: 0.0055, \n",
      "Class 4: 0.2113, Class 5: 0.2831, Class 6: 0.6335, \n",
      "Validation F-beta Score\n",
      "Class 0: 0.5884, Class 1: 0.6276, Class 2: 0.0961, Class 3: 0.0409, \n",
      "Class 4: 0.1631, Class 5: 0.2291, Class 6: 0.4916, \n",
      "Overall Mean Dice Score: 0.3701\n",
      "Overall Mean F-beta Score: 0.3105\n",
      "\n",
      "Training Loss: 0.5849, Validation Loss: 0.5393, Validation F-beta: 0.3105\n",
      "Epoch 311/4000\n",
      "Current lambda: 0.0500\n"
     ]
    },
    {
     "name": "stderr",
     "output_type": "stream",
     "text": [
      "Training: 100%|██████████| 24/24 [00:24<00:00,  1.00s/it, loss=0.547]\n",
      "Validation: 100%|██████████| 4/4 [00:02<00:00,  1.70it/s, loss=0.606]\n"
     ]
    },
    {
     "name": "stdout",
     "output_type": "stream",
     "text": [
      "Validation Dice Score\n",
      "Class 0: 0.7332, Class 1: 0.4616, Class 2: 0.0483, Class 3: 0.0063, \n",
      "Class 4: 0.3435, Class 5: 0.3327, Class 6: 0.7449, \n",
      "Validation F-beta Score\n",
      "Class 0: 0.5982, Class 1: 0.3825, Class 2: 0.0702, Class 3: 0.0492, \n",
      "Class 4: 0.3142, Class 5: 0.2646, Class 6: 0.6856, \n",
      "Overall Mean Dice Score: 0.3778\n",
      "Overall Mean F-beta Score: 0.3392\n",
      "\n",
      "Training Loss: 0.5886, Validation Loss: 0.6022, Validation F-beta: 0.3392\n",
      "Epoch 312/4000\n",
      "Current lambda: 0.0500\n"
     ]
    },
    {
     "name": "stderr",
     "output_type": "stream",
     "text": [
      "Training: 100%|██████████| 24/24 [00:23<00:00,  1.03it/s, loss=0.607]\n",
      "Validation: 100%|██████████| 4/4 [00:02<00:00,  1.78it/s, loss=0.508]\n"
     ]
    },
    {
     "name": "stdout",
     "output_type": "stream",
     "text": [
      "Validation Dice Score\n",
      "Class 0: 0.7352, Class 1: 0.7097, Class 2: 0.0000, Class 3: 0.0062, \n",
      "Class 4: 0.3747, Class 5: 0.2855, Class 6: 0.7449, \n",
      "Validation F-beta Score\n",
      "Class 0: 0.6023, Class 1: 0.5965, Class 2: 0.0000, Class 3: 0.0483, \n",
      "Class 4: 0.3251, Class 5: 0.2570, Class 6: 0.6521, \n",
      "Overall Mean Dice Score: 0.4242\n",
      "Overall Mean F-beta Score: 0.3758\n",
      "\n",
      "Training Loss: 0.5826, Validation Loss: 0.5376, Validation F-beta: 0.3758\n",
      "Validation loss did not improve. Reducing lambda to 0.0500\n",
      "Epoch 313/4000\n",
      "Current lambda: 0.0500\n"
     ]
    },
    {
     "name": "stderr",
     "output_type": "stream",
     "text": [
      "Training: 100%|██████████| 24/24 [00:23<00:00,  1.03it/s, loss=0.583]\n",
      "Validation: 100%|██████████| 4/4 [00:02<00:00,  1.73it/s, loss=0.615]\n"
     ]
    },
    {
     "name": "stdout",
     "output_type": "stream",
     "text": [
      "Validation Dice Score\n",
      "Class 0: 0.7401, Class 1: 0.6704, Class 2: 0.0726, Class 3: 0.0073, \n",
      "Class 4: 0.3973, Class 5: 0.3534, Class 6: 0.7448, \n",
      "Validation F-beta Score\n",
      "Class 0: 0.6078, Class 1: 0.5634, Class 2: 0.1135, Class 3: 0.0566, \n",
      "Class 4: 0.3684, Class 5: 0.2821, Class 6: 0.6416, \n",
      "Overall Mean Dice Score: 0.4347\n",
      "Overall Mean F-beta Score: 0.3824\n",
      "\n",
      "Training Loss: 0.6010, Validation Loss: 0.5395, Validation F-beta: 0.3824\n",
      "Epoch 314/4000\n",
      "Current lambda: 0.0500\n"
     ]
    },
    {
     "name": "stderr",
     "output_type": "stream",
     "text": [
      "Training: 100%|██████████| 24/24 [00:23<00:00,  1.04it/s, loss=0.539]\n",
      "Validation: 100%|██████████| 4/4 [00:02<00:00,  1.75it/s, loss=0.579]\n"
     ]
    },
    {
     "name": "stdout",
     "output_type": "stream",
     "text": [
      "Validation Dice Score\n",
      "Class 0: 0.7382, Class 1: 0.4210, Class 2: 0.1232, Class 3: 0.0054, \n",
      "Class 4: 0.3704, Class 5: 0.2822, Class 6: 0.7257, \n",
      "Validation F-beta Score\n",
      "Class 0: 0.6055, Class 1: 0.3133, Class 2: 0.1513, Class 3: 0.0418, \n",
      "Class 4: 0.3215, Class 5: 0.2716, Class 6: 0.6019, \n",
      "Overall Mean Dice Score: 0.3610\n",
      "Overall Mean F-beta Score: 0.3101\n",
      "\n",
      "Training Loss: 0.5745, Validation Loss: 0.5799, Validation F-beta: 0.3101\n",
      "Epoch 315/4000\n",
      "Current lambda: 0.0500\n"
     ]
    },
    {
     "name": "stderr",
     "output_type": "stream",
     "text": [
      "Training: 100%|██████████| 24/24 [00:23<00:00,  1.04it/s, loss=0.569]\n",
      "Validation: 100%|██████████| 4/4 [00:02<00:00,  1.72it/s, loss=0.561]\n"
     ]
    },
    {
     "name": "stdout",
     "output_type": "stream",
     "text": [
      "Validation Dice Score\n",
      "Class 0: 0.7384, Class 1: 0.5601, Class 2: 0.1160, Class 3: 0.0051, \n",
      "Class 4: 0.2314, Class 5: 0.3998, Class 6: 0.4922, \n",
      "Validation F-beta Score\n",
      "Class 0: 0.6092, Class 1: 0.6002, Class 2: 0.0837, Class 3: 0.0392, \n",
      "Class 4: 0.1610, Class 5: 0.3388, Class 6: 0.4438, \n",
      "Overall Mean Dice Score: 0.3377\n",
      "Overall Mean F-beta Score: 0.3166\n",
      "\n",
      "Training Loss: 0.5828, Validation Loss: 0.5739, Validation F-beta: 0.3166\n",
      "Epoch 316/4000\n",
      "Current lambda: 0.0500\n"
     ]
    },
    {
     "name": "stderr",
     "output_type": "stream",
     "text": [
      "Training: 100%|██████████| 24/24 [00:23<00:00,  1.04it/s, loss=0.571]\n",
      "Validation: 100%|██████████| 4/4 [00:02<00:00,  1.76it/s, loss=0.558]\n"
     ]
    },
    {
     "name": "stdout",
     "output_type": "stream",
     "text": [
      "Validation Dice Score\n",
      "Class 0: 0.7366, Class 1: 0.3143, Class 2: 0.0193, Class 3: 0.0080, \n",
      "Class 4: 0.5017, Class 5: 0.3521, Class 6: 0.4599, \n",
      "Validation F-beta Score\n",
      "Class 0: 0.6058, Class 1: 0.2367, Class 2: 0.0214, Class 3: 0.0595, \n",
      "Class 4: 0.4123, Class 5: 0.3017, Class 6: 0.4257, \n",
      "Overall Mean Dice Score: 0.3272\n",
      "Overall Mean F-beta Score: 0.2872\n",
      "\n",
      "Training Loss: 0.5873, Validation Loss: 0.5909, Validation F-beta: 0.2872\n",
      "Epoch 317/4000\n",
      "Current lambda: 0.0500\n"
     ]
    },
    {
     "name": "stderr",
     "output_type": "stream",
     "text": [
      "Training: 100%|██████████| 24/24 [00:23<00:00,  1.03it/s, loss=0.569]\n",
      "Validation: 100%|██████████| 4/4 [00:02<00:00,  1.73it/s, loss=0.573]\n"
     ]
    },
    {
     "name": "stdout",
     "output_type": "stream",
     "text": [
      "Validation Dice Score\n",
      "Class 0: 0.7404, Class 1: 0.4665, Class 2: 0.0949, Class 3: 0.0055, \n",
      "Class 4: 0.2121, Class 5: 0.3911, Class 6: 0.5207, \n",
      "Validation F-beta Score\n",
      "Class 0: 0.6094, Class 1: 0.5030, Class 2: 0.1219, Class 3: 0.0413, \n",
      "Class 4: 0.1471, Class 5: 0.3630, Class 6: 0.4240, \n",
      "Overall Mean Dice Score: 0.3192\n",
      "Overall Mean F-beta Score: 0.2957\n",
      "\n",
      "Training Loss: 0.5780, Validation Loss: 0.5780, Validation F-beta: 0.2957\n",
      "Validation loss did not improve. Reducing lambda to 0.0500\n",
      "Epoch 318/4000\n",
      "Current lambda: 0.0500\n"
     ]
    },
    {
     "name": "stderr",
     "output_type": "stream",
     "text": [
      "Training: 100%|██████████| 24/24 [00:23<00:00,  1.03it/s, loss=0.599]\n",
      "Validation: 100%|██████████| 4/4 [00:02<00:00,  1.75it/s, loss=0.592]\n"
     ]
    },
    {
     "name": "stdout",
     "output_type": "stream",
     "text": [
      "Validation Dice Score\n",
      "Class 0: 0.7417, Class 1: 0.6031, Class 2: 0.0819, Class 3: 0.0082, \n",
      "Class 4: 0.3115, Class 5: 0.4054, Class 6: 0.6671, \n",
      "Validation F-beta Score\n",
      "Class 0: 0.6108, Class 1: 0.5543, Class 2: 0.0713, Class 3: 0.0621, \n",
      "Class 4: 0.2202, Class 5: 0.3367, Class 6: 0.6420, \n",
      "Overall Mean Dice Score: 0.3991\n",
      "Overall Mean F-beta Score: 0.3631\n",
      "\n",
      "Training Loss: 0.5762, Validation Loss: 0.5769, Validation F-beta: 0.3631\n",
      "Epoch 319/4000\n",
      "Current lambda: 0.0500\n"
     ]
    },
    {
     "name": "stderr",
     "output_type": "stream",
     "text": [
      "Training: 100%|██████████| 24/24 [00:23<00:00,  1.03it/s, loss=0.588]\n",
      "Validation: 100%|██████████| 4/4 [00:02<00:00,  1.75it/s, loss=0.532]\n"
     ]
    },
    {
     "name": "stdout",
     "output_type": "stream",
     "text": [
      "Validation Dice Score\n",
      "Class 0: 0.7486, Class 1: 0.6514, Class 2: 0.0415, Class 3: 0.0042, \n",
      "Class 4: 0.3608, Class 5: 0.3502, Class 6: 0.6983, \n",
      "Validation F-beta Score\n",
      "Class 0: 0.6234, Class 1: 0.5834, Class 2: 0.0712, Class 3: 0.0329, \n",
      "Class 4: 0.2733, Class 5: 0.2689, Class 6: 0.5735, \n",
      "Overall Mean Dice Score: 0.4130\n",
      "Overall Mean F-beta Score: 0.3464\n",
      "\n",
      "Training Loss: 0.5909, Validation Loss: 0.5471, Validation F-beta: 0.3464\n",
      "Epoch 320/4000\n",
      "Current lambda: 0.0500\n"
     ]
    },
    {
     "name": "stderr",
     "output_type": "stream",
     "text": [
      "Training: 100%|██████████| 24/24 [00:23<00:00,  1.03it/s, loss=0.616]\n",
      "Validation: 100%|██████████| 4/4 [00:02<00:00,  1.74it/s, loss=0.585]\n"
     ]
    },
    {
     "name": "stdout",
     "output_type": "stream",
     "text": [
      "Validation Dice Score\n",
      "Class 0: 0.7589, Class 1: 0.7184, Class 2: 0.1457, Class 3: 0.0076, \n",
      "Class 4: 0.2767, Class 5: 0.3524, Class 6: 0.6872, \n",
      "Validation F-beta Score\n",
      "Class 0: 0.6352, Class 1: 0.6121, Class 2: 0.1352, Class 3: 0.0569, \n",
      "Class 4: 0.2188, Class 5: 0.2907, Class 6: 0.5623, \n",
      "Overall Mean Dice Score: 0.4085\n",
      "Overall Mean F-beta Score: 0.3482\n",
      "\n",
      "Training Loss: 0.5797, Validation Loss: 0.5445, Validation F-beta: 0.3482\n",
      "Epoch 321/4000\n",
      "Current lambda: 0.0500\n"
     ]
    },
    {
     "name": "stderr",
     "output_type": "stream",
     "text": [
      "Training: 100%|██████████| 24/24 [00:23<00:00,  1.03it/s, loss=0.587]\n",
      "Validation: 100%|██████████| 4/4 [00:02<00:00,  1.74it/s, loss=0.572]\n"
     ]
    },
    {
     "name": "stdout",
     "output_type": "stream",
     "text": [
      "Validation Dice Score\n",
      "Class 0: 0.7695, Class 1: 0.6365, Class 2: 0.0984, Class 3: 0.0078, \n",
      "Class 4: 0.3375, Class 5: 0.3106, Class 6: 0.7452, \n",
      "Validation F-beta Score\n",
      "Class 0: 0.6466, Class 1: 0.5485, Class 2: 0.1308, Class 3: 0.0572, \n",
      "Class 4: 0.2978, Class 5: 0.2301, Class 6: 0.6537, \n",
      "Overall Mean Dice Score: 0.4075\n",
      "Overall Mean F-beta Score: 0.3575\n",
      "\n",
      "Training Loss: 0.5902, Validation Loss: 0.5527, Validation F-beta: 0.3575\n",
      "Epoch 322/4000\n",
      "Current lambda: 0.0500\n"
     ]
    },
    {
     "name": "stderr",
     "output_type": "stream",
     "text": [
      "Training: 100%|██████████| 24/24 [00:23<00:00,  1.02it/s, loss=0.581]\n",
      "Validation: 100%|██████████| 4/4 [00:02<00:00,  1.76it/s, loss=0.62] \n"
     ]
    },
    {
     "name": "stdout",
     "output_type": "stream",
     "text": [
      "Validation Dice Score\n",
      "Class 0: 0.7739, Class 1: 0.4816, Class 2: 0.1457, Class 3: 0.0082, \n",
      "Class 4: 0.3169, Class 5: 0.2883, Class 6: 0.5316, \n",
      "Validation F-beta Score\n",
      "Class 0: 0.6517, Class 1: 0.3914, Class 2: 0.1451, Class 3: 0.0619, \n",
      "Class 4: 0.2547, Class 5: 0.2389, Class 6: 0.4541, \n",
      "Overall Mean Dice Score: 0.3253\n",
      "Overall Mean F-beta Score: 0.2802\n",
      "\n",
      "Training Loss: 0.5793, Validation Loss: 0.5813, Validation F-beta: 0.2802\n",
      "Validation loss did not improve. Reducing lambda to 0.0500\n",
      "Epoch 323/4000\n",
      "Current lambda: 0.0500\n"
     ]
    },
    {
     "name": "stderr",
     "output_type": "stream",
     "text": [
      "Training: 100%|██████████| 24/24 [00:23<00:00,  1.02it/s, loss=0.506]\n",
      "Validation: 100%|██████████| 4/4 [00:02<00:00,  1.70it/s, loss=0.624]\n"
     ]
    },
    {
     "name": "stdout",
     "output_type": "stream",
     "text": [
      "Validation Dice Score\n",
      "Class 0: 0.7691, Class 1: 0.4674, Class 2: 0.0283, Class 3: 0.0055, \n",
      "Class 4: 0.4510, Class 5: 0.2132, Class 6: 0.6434, \n",
      "Validation F-beta Score\n",
      "Class 0: 0.6477, Class 1: 0.3776, Class 2: 0.0301, Class 3: 0.0426, \n",
      "Class 4: 0.4219, Class 5: 0.1629, Class 6: 0.5188, \n",
      "Overall Mean Dice Score: 0.3561\n",
      "Overall Mean F-beta Score: 0.3048\n",
      "\n",
      "Training Loss: 0.5610, Validation Loss: 0.5829, Validation F-beta: 0.3048\n",
      "Epoch 324/4000\n",
      "Current lambda: 0.0500\n"
     ]
    },
    {
     "name": "stderr",
     "output_type": "stream",
     "text": [
      "Training: 100%|██████████| 24/24 [00:23<00:00,  1.03it/s, loss=0.639]\n",
      "Validation: 100%|██████████| 4/4 [00:02<00:00,  1.77it/s, loss=0.572]\n"
     ]
    },
    {
     "name": "stdout",
     "output_type": "stream",
     "text": [
      "Validation Dice Score\n",
      "Class 0: 0.7867, Class 1: 0.6175, Class 2: 0.2164, Class 3: 0.0083, \n",
      "Class 4: 0.3606, Class 5: 0.4085, Class 6: 0.4477, \n",
      "Validation F-beta Score\n",
      "Class 0: 0.6702, Class 1: 0.5208, Class 2: 0.1908, Class 3: 0.0620, \n",
      "Class 4: 0.2752, Class 5: 0.3547, Class 6: 0.3775, \n",
      "Overall Mean Dice Score: 0.3685\n",
      "Overall Mean F-beta Score: 0.3180\n",
      "\n",
      "Training Loss: 0.5999, Validation Loss: 0.5404, Validation F-beta: 0.3180\n",
      "Epoch 325/4000\n",
      "Current lambda: 0.0500\n"
     ]
    },
    {
     "name": "stderr",
     "output_type": "stream",
     "text": [
      "Training: 100%|██████████| 24/24 [00:23<00:00,  1.04it/s, loss=0.63] \n",
      "Validation: 100%|██████████| 4/4 [00:02<00:00,  1.71it/s, loss=0.582]\n"
     ]
    },
    {
     "name": "stdout",
     "output_type": "stream",
     "text": [
      "Validation Dice Score\n",
      "Class 0: 0.7928, Class 1: 0.7618, Class 2: 0.0764, Class 3: 0.0062, \n",
      "Class 4: 0.3406, Class 5: 0.3764, Class 6: 0.8034, \n",
      "Validation F-beta Score\n",
      "Class 0: 0.6781, Class 1: 0.6920, Class 2: 0.0858, Class 3: 0.0455, \n",
      "Class 4: 0.2809, Class 5: 0.2913, Class 6: 0.7441, \n",
      "Overall Mean Dice Score: 0.4577\n",
      "Overall Mean F-beta Score: 0.4107\n",
      "\n",
      "Training Loss: 0.5824, Validation Loss: 0.5512, Validation F-beta: 0.4107\n",
      "Epoch 326/4000\n",
      "Current lambda: 0.0500\n"
     ]
    },
    {
     "name": "stderr",
     "output_type": "stream",
     "text": [
      "Training: 100%|██████████| 24/24 [00:23<00:00,  1.03it/s, loss=0.598]\n",
      "Validation: 100%|██████████| 4/4 [00:02<00:00,  1.76it/s, loss=0.518]\n"
     ]
    },
    {
     "name": "stdout",
     "output_type": "stream",
     "text": [
      "Validation Dice Score\n",
      "Class 0: 0.8167, Class 1: 0.7053, Class 2: 0.1196, Class 3: 0.0101, \n",
      "Class 4: 0.2811, Class 5: 0.3382, Class 6: 0.4131, \n",
      "Validation F-beta Score\n",
      "Class 0: 0.7099, Class 1: 0.5739, Class 2: 0.1301, Class 3: 0.0735, \n",
      "Class 4: 0.2187, Class 5: 0.2491, Class 6: 0.3806, \n",
      "Overall Mean Dice Score: 0.3495\n",
      "Overall Mean F-beta Score: 0.2991\n",
      "\n",
      "Training Loss: 0.5871, Validation Loss: 0.5249, Validation F-beta: 0.2991\n",
      "Epoch 327/4000\n",
      "Current lambda: 0.0500\n"
     ]
    },
    {
     "name": "stderr",
     "output_type": "stream",
     "text": [
      "Training: 100%|██████████| 24/24 [00:23<00:00,  1.03it/s, loss=0.587]\n",
      "Validation: 100%|██████████| 4/4 [00:02<00:00,  1.73it/s, loss=0.563]\n"
     ]
    },
    {
     "name": "stdout",
     "output_type": "stream",
     "text": [
      "Validation Dice Score\n",
      "Class 0: 0.8285, Class 1: 0.4243, Class 2: 0.1177, Class 3: 0.0116, \n",
      "Class 4: 0.3179, Class 5: 0.3242, Class 6: 0.7019, \n",
      "Validation F-beta Score\n",
      "Class 0: 0.7311, Class 1: 0.3468, Class 2: 0.1147, Class 3: 0.0803, \n",
      "Class 4: 0.2135, Class 5: 0.2599, Class 6: 0.6955, \n",
      "Overall Mean Dice Score: 0.3560\n",
      "Overall Mean F-beta Score: 0.3192\n",
      "\n",
      "Training Loss: 0.5816, Validation Loss: 0.5736, Validation F-beta: 0.3192\n",
      "Validation loss did not improve. Reducing lambda to 0.0500\n",
      "Epoch 328/4000\n",
      "Current lambda: 0.0500\n"
     ]
    },
    {
     "name": "stderr",
     "output_type": "stream",
     "text": [
      "Training: 100%|██████████| 24/24 [00:23<00:00,  1.03it/s, loss=0.592]\n",
      "Validation: 100%|██████████| 4/4 [00:02<00:00,  1.72it/s, loss=0.569]\n"
     ]
    },
    {
     "name": "stdout",
     "output_type": "stream",
     "text": [
      "Validation Dice Score\n",
      "Class 0: 0.8514, Class 1: 0.6281, Class 2: 0.0023, Class 3: 0.0108, \n",
      "Class 4: 0.4276, Class 5: 0.3691, Class 6: 0.7050, \n",
      "Validation F-beta Score\n",
      "Class 0: 0.7613, Class 1: 0.7827, Class 2: 0.0040, Class 3: 0.0769, \n",
      "Class 4: 0.3576, Class 5: 0.2937, Class 6: 0.7548, \n",
      "Overall Mean Dice Score: 0.4281\n",
      "Overall Mean F-beta Score: 0.4531\n",
      "\n",
      "Training Loss: 0.5718, Validation Loss: 0.5645, Validation F-beta: 0.4531\n",
      "Epoch 329/4000\n",
      "Current lambda: 0.0500\n"
     ]
    },
    {
     "name": "stderr",
     "output_type": "stream",
     "text": [
      "Training: 100%|██████████| 24/24 [00:23<00:00,  1.03it/s, loss=0.607]\n",
      "Validation: 100%|██████████| 4/4 [00:02<00:00,  1.74it/s, loss=0.558]\n"
     ]
    },
    {
     "name": "stdout",
     "output_type": "stream",
     "text": [
      "Validation Dice Score\n",
      "Class 0: 0.8633, Class 1: 0.5434, Class 2: 0.0574, Class 3: 0.0144, \n",
      "Class 4: 0.2958, Class 5: 0.3489, Class 6: 0.5265, \n",
      "Validation F-beta Score\n",
      "Class 0: 0.7825, Class 1: 0.5526, Class 2: 0.0898, Class 3: 0.0983, \n",
      "Class 4: 0.2019, Class 5: 0.2952, Class 6: 0.4767, \n",
      "Overall Mean Dice Score: 0.3458\n",
      "Overall Mean F-beta Score: 0.3249\n",
      "\n",
      "Training Loss: 0.5965, Validation Loss: 0.5973, Validation F-beta: 0.3249\n",
      "Epoch 330/4000\n",
      "Current lambda: 0.0500\n"
     ]
    },
    {
     "name": "stderr",
     "output_type": "stream",
     "text": [
      "Training: 100%|██████████| 24/24 [00:23<00:00,  1.03it/s, loss=0.57] \n",
      "Validation: 100%|██████████| 4/4 [00:02<00:00,  1.70it/s, loss=0.588]\n"
     ]
    },
    {
     "name": "stdout",
     "output_type": "stream",
     "text": [
      "Validation Dice Score\n",
      "Class 0: 0.9011, Class 1: 0.5156, Class 2: 0.0606, Class 3: 0.0113, \n",
      "Class 4: 0.4598, Class 5: 0.2896, Class 6: 0.7796, \n",
      "Validation F-beta Score\n",
      "Class 0: 0.8399, Class 1: 0.4854, Class 2: 0.0429, Class 3: 0.0817, \n",
      "Class 4: 0.3547, Class 5: 0.2096, Class 6: 0.6973, \n",
      "Overall Mean Dice Score: 0.4112\n",
      "Overall Mean F-beta Score: 0.3658\n",
      "\n",
      "Training Loss: 0.5786, Validation Loss: 0.5691, Validation F-beta: 0.3658\n",
      "Epoch 331/4000\n",
      "Current lambda: 0.0500\n"
     ]
    },
    {
     "name": "stderr",
     "output_type": "stream",
     "text": [
      "Training: 100%|██████████| 24/24 [00:23<00:00,  1.03it/s, loss=0.473]\n",
      "Validation: 100%|██████████| 4/4 [00:02<00:00,  1.74it/s, loss=0.601]\n"
     ]
    },
    {
     "name": "stdout",
     "output_type": "stream",
     "text": [
      "Validation Dice Score\n",
      "Class 0: 0.9639, Class 1: 0.4895, Class 2: 0.0211, Class 3: 0.0364, \n",
      "Class 4: 0.4007, Class 5: 0.3668, Class 6: 0.5446, \n",
      "Validation F-beta Score\n",
      "Class 0: 0.9447, Class 1: 0.4845, Class 2: 0.0217, Class 3: 0.1653, \n",
      "Class 4: 0.3100, Class 5: 0.3047, Class 6: 0.4972, \n",
      "Overall Mean Dice Score: 0.3676\n",
      "Overall Mean F-beta Score: 0.3523\n",
      "\n",
      "Training Loss: 0.5737, Validation Loss: 0.5560, Validation F-beta: 0.3523\n",
      "Epoch 332/4000\n",
      "Current lambda: 0.0500\n"
     ]
    },
    {
     "name": "stderr",
     "output_type": "stream",
     "text": [
      "Training: 100%|██████████| 24/24 [00:23<00:00,  1.03it/s, loss=0.59] \n",
      "Validation: 100%|██████████| 4/4 [00:02<00:00,  1.73it/s, loss=0.612]\n"
     ]
    },
    {
     "name": "stdout",
     "output_type": "stream",
     "text": [
      "Validation Dice Score\n",
      "Class 0: 0.9840, Class 1: 0.7365, Class 2: 0.0002, Class 3: 0.1216, \n",
      "Class 4: 0.3039, Class 5: 0.2081, Class 6: 0.6816, \n",
      "Validation F-beta Score\n",
      "Class 0: 0.9824, Class 1: 0.6609, Class 2: 0.0002, Class 3: 0.3382, \n",
      "Class 4: 0.2518, Class 5: 0.1655, Class 6: 0.6264, \n",
      "Overall Mean Dice Score: 0.4103\n",
      "Overall Mean F-beta Score: 0.4086\n",
      "\n",
      "Training Loss: 0.5810, Validation Loss: 0.5809, Validation F-beta: 0.4086\n",
      "Validation loss did not improve. Reducing lambda to 0.0500\n",
      "Epoch 333/4000\n",
      "Current lambda: 0.0500\n"
     ]
    },
    {
     "name": "stderr",
     "output_type": "stream",
     "text": [
      "Training: 100%|██████████| 24/24 [00:23<00:00,  1.03it/s, loss=0.574]\n",
      "Validation: 100%|██████████| 4/4 [00:02<00:00,  1.78it/s, loss=0.521]\n"
     ]
    },
    {
     "name": "stdout",
     "output_type": "stream",
     "text": [
      "Validation Dice Score\n",
      "Class 0: 0.9888, Class 1: 0.5338, Class 2: 0.1095, Class 3: 0.3268, \n",
      "Class 4: 0.4689, Class 5: 0.3512, Class 6: 0.3335, \n",
      "Validation F-beta Score\n",
      "Class 0: 0.9937, Class 1: 0.4528, Class 2: 0.0911, Class 3: 0.3805, \n",
      "Class 4: 0.3543, Class 5: 0.2678, Class 6: 0.2666, \n",
      "Overall Mean Dice Score: 0.4028\n",
      "Overall Mean F-beta Score: 0.3444\n",
      "\n",
      "Training Loss: 0.5815, Validation Loss: 0.5362, Validation F-beta: 0.3444\n",
      "Epoch 334/4000\n",
      "Current lambda: 0.0500\n"
     ]
    },
    {
     "name": "stderr",
     "output_type": "stream",
     "text": [
      "Training: 100%|██████████| 24/24 [00:23<00:00,  1.03it/s, loss=0.508]\n",
      "Validation: 100%|██████████| 4/4 [00:02<00:00,  1.73it/s, loss=0.555]\n"
     ]
    },
    {
     "name": "stdout",
     "output_type": "stream",
     "text": [
      "Validation Dice Score\n",
      "Class 0: 0.9884, Class 1: 0.5145, Class 2: 0.0021, Class 3: 0.3308, \n",
      "Class 4: 0.3117, Class 5: 0.2663, Class 6: 0.3288, \n",
      "Validation F-beta Score\n",
      "Class 0: 0.9963, Class 1: 0.4261, Class 2: 0.0011, Class 3: 0.2561, \n",
      "Class 4: 0.2121, Class 5: 0.1941, Class 6: 0.3373, \n",
      "Overall Mean Dice Score: 0.3504\n",
      "Overall Mean F-beta Score: 0.2851\n",
      "\n",
      "Training Loss: 0.5608, Validation Loss: 0.5672, Validation F-beta: 0.2851\n",
      "Epoch 335/4000\n",
      "Current lambda: 0.0500\n"
     ]
    },
    {
     "name": "stderr",
     "output_type": "stream",
     "text": [
      "Training: 100%|██████████| 24/24 [00:23<00:00,  1.02it/s, loss=0.571]\n",
      "Validation: 100%|██████████| 4/4 [00:02<00:00,  1.72it/s, loss=0.598]\n"
     ]
    },
    {
     "name": "stdout",
     "output_type": "stream",
     "text": [
      "Validation Dice Score\n",
      "Class 0: 0.9888, Class 1: 0.4300, Class 2: 0.1080, Class 3: 0.2416, \n",
      "Class 4: 0.2978, Class 5: 0.2461, Class 6: 0.7182, \n",
      "Validation F-beta Score\n",
      "Class 0: 0.9952, Class 1: 0.3522, Class 2: 0.0690, Class 3: 0.1834, \n",
      "Class 4: 0.2209, Class 5: 0.1874, Class 6: 0.6879, \n",
      "Overall Mean Dice Score: 0.3868\n",
      "Overall Mean F-beta Score: 0.3264\n",
      "\n",
      "Training Loss: 0.5576, Validation Loss: 0.5635, Validation F-beta: 0.3264\n",
      "Epoch 336/4000\n",
      "Current lambda: 0.0500\n"
     ]
    },
    {
     "name": "stderr",
     "output_type": "stream",
     "text": [
      "Training: 100%|██████████| 24/24 [00:23<00:00,  1.03it/s, loss=0.575]\n",
      "Validation: 100%|██████████| 4/4 [00:02<00:00,  1.79it/s, loss=0.517]\n"
     ]
    },
    {
     "name": "stdout",
     "output_type": "stream",
     "text": [
      "Validation Dice Score\n",
      "Class 0: 0.9855, Class 1: 0.4812, Class 2: 0.0971, Class 3: 0.2580, \n",
      "Class 4: 0.1870, Class 5: 0.2778, Class 6: 0.6773, \n",
      "Validation F-beta Score\n",
      "Class 0: 0.9943, Class 1: 0.4070, Class 2: 0.0777, Class 3: 0.1923, \n",
      "Class 4: 0.1334, Class 5: 0.2250, Class 6: 0.5534, \n",
      "Overall Mean Dice Score: 0.3763\n",
      "Overall Mean F-beta Score: 0.3022\n",
      "\n",
      "Training Loss: 0.5558, Validation Loss: 0.5430, Validation F-beta: 0.3022\n",
      "Epoch 337/4000\n",
      "Current lambda: 0.0500\n"
     ]
    },
    {
     "name": "stderr",
     "output_type": "stream",
     "text": [
      "Training: 100%|██████████| 24/24 [00:23<00:00,  1.03it/s, loss=0.555]\n",
      "Validation: 100%|██████████| 4/4 [00:02<00:00,  1.73it/s, loss=0.54] \n"
     ]
    },
    {
     "name": "stdout",
     "output_type": "stream",
     "text": [
      "Validation Dice Score\n",
      "Class 0: 0.9879, Class 1: 0.3630, Class 2: 0.0889, Class 3: 0.2767, \n",
      "Class 4: 0.2908, Class 5: 0.2284, Class 6: 0.5547, \n",
      "Validation F-beta Score\n",
      "Class 0: 0.9924, Class 1: 0.2721, Class 2: 0.0786, Class 3: 0.1934, \n",
      "Class 4: 0.3518, Class 5: 0.1810, Class 6: 0.4721, \n",
      "Overall Mean Dice Score: 0.3427\n",
      "Overall Mean F-beta Score: 0.2941\n",
      "\n",
      "Training Loss: 0.5515, Validation Loss: 0.5639, Validation F-beta: 0.2941\n",
      "Validation loss did not improve. Reducing lambda to 0.0500\n",
      "Epoch 338/4000\n",
      "Current lambda: 0.0500\n"
     ]
    },
    {
     "name": "stderr",
     "output_type": "stream",
     "text": [
      "Training: 100%|██████████| 24/24 [00:22<00:00,  1.04it/s, loss=0.573]\n",
      "Validation: 100%|██████████| 4/4 [00:02<00:00,  1.77it/s, loss=0.612]\n"
     ]
    },
    {
     "name": "stdout",
     "output_type": "stream",
     "text": [
      "Validation Dice Score\n",
      "Class 0: 0.9916, Class 1: 0.5893, Class 2: 0.0000, Class 3: 0.2082, \n",
      "Class 4: 0.1954, Class 5: 0.3705, Class 6: 0.5575, \n",
      "Validation F-beta Score\n",
      "Class 0: 0.9954, Class 1: 0.4929, Class 2: 0.0000, Class 3: 0.2101, \n",
      "Class 4: 0.1422, Class 5: 0.3022, Class 6: 0.4614, \n",
      "Overall Mean Dice Score: 0.3842\n",
      "Overall Mean F-beta Score: 0.3218\n",
      "\n",
      "Training Loss: 0.5413, Validation Loss: 0.5732, Validation F-beta: 0.3218\n",
      "Epoch 339/4000\n",
      "Current lambda: 0.0500\n"
     ]
    },
    {
     "name": "stderr",
     "output_type": "stream",
     "text": [
      "Training: 100%|██████████| 24/24 [00:22<00:00,  1.04it/s, loss=0.522]\n",
      "Validation: 100%|██████████| 4/4 [00:02<00:00,  1.73it/s, loss=0.526]\n"
     ]
    },
    {
     "name": "stdout",
     "output_type": "stream",
     "text": [
      "Validation Dice Score\n",
      "Class 0: 0.9868, Class 1: 0.4992, Class 2: 0.1251, Class 3: 0.3984, \n",
      "Class 4: 0.3987, Class 5: 0.3961, Class 6: 0.6433, \n",
      "Validation F-beta Score\n",
      "Class 0: 0.9940, Class 1: 0.3628, Class 2: 0.0869, Class 3: 0.2882, \n",
      "Class 4: 0.3607, Class 5: 0.3107, Class 6: 0.5960, \n",
      "Overall Mean Dice Score: 0.4671\n",
      "Overall Mean F-beta Score: 0.3837\n",
      "\n",
      "Training Loss: 0.5518, Validation Loss: 0.5241, Validation F-beta: 0.3837\n",
      "Epoch 340/4000\n",
      "Current lambda: 0.0500\n"
     ]
    },
    {
     "name": "stderr",
     "output_type": "stream",
     "text": [
      "Training: 100%|██████████| 24/24 [00:23<00:00,  1.04it/s, loss=0.516]\n",
      "Validation: 100%|██████████| 4/4 [00:02<00:00,  1.73it/s, loss=0.563]\n"
     ]
    },
    {
     "name": "stdout",
     "output_type": "stream",
     "text": [
      "Validation Dice Score\n",
      "Class 0: 0.9868, Class 1: 0.6948, Class 2: 0.1087, Class 3: 0.3400, \n",
      "Class 4: 0.4707, Class 5: 0.2782, Class 6: 0.5791, \n",
      "Validation F-beta Score\n",
      "Class 0: 0.9926, Class 1: 0.6271, Class 2: 0.1100, Class 3: 0.2696, \n",
      "Class 4: 0.3689, Class 5: 0.2577, Class 6: 0.4666, \n",
      "Overall Mean Dice Score: 0.4726\n",
      "Overall Mean F-beta Score: 0.3980\n",
      "\n",
      "Training Loss: 0.5540, Validation Loss: 0.5380, Validation F-beta: 0.3980\n",
      "Epoch 341/4000\n",
      "Current lambda: 0.0500\n"
     ]
    },
    {
     "name": "stderr",
     "output_type": "stream",
     "text": [
      "Training: 100%|██████████| 24/24 [00:23<00:00,  1.03it/s, loss=0.512]\n",
      "Validation: 100%|██████████| 4/4 [00:02<00:00,  1.74it/s, loss=0.541]\n"
     ]
    },
    {
     "name": "stdout",
     "output_type": "stream",
     "text": [
      "Validation Dice Score\n",
      "Class 0: 0.9864, Class 1: 0.6407, Class 2: 0.1121, Class 3: 0.3053, \n",
      "Class 4: 0.1478, Class 5: 0.2964, Class 6: 0.6317, \n",
      "Validation F-beta Score\n",
      "Class 0: 0.9923, Class 1: 0.5290, Class 2: 0.0858, Class 3: 0.2644, \n",
      "Class 4: 0.1459, Class 5: 0.2626, Class 6: 0.5370, \n",
      "Overall Mean Dice Score: 0.4044\n",
      "Overall Mean F-beta Score: 0.3478\n",
      "\n",
      "Training Loss: 0.5498, Validation Loss: 0.5447, Validation F-beta: 0.3478\n",
      "Epoch 342/4000\n",
      "Current lambda: 0.0500\n"
     ]
    },
    {
     "name": "stderr",
     "output_type": "stream",
     "text": [
      "Training: 100%|██████████| 24/24 [00:23<00:00,  1.03it/s, loss=0.563]\n",
      "Validation: 100%|██████████| 4/4 [00:02<00:00,  1.75it/s, loss=0.545]\n"
     ]
    },
    {
     "name": "stdout",
     "output_type": "stream",
     "text": [
      "Validation Dice Score\n",
      "Class 0: 0.9858, Class 1: 0.4447, Class 2: 0.0391, Class 3: 0.3716, \n",
      "Class 4: 0.3152, Class 5: 0.3585, Class 6: 0.7327, \n",
      "Validation F-beta Score\n",
      "Class 0: 0.9938, Class 1: 0.3619, Class 2: 0.0435, Class 3: 0.3081, \n",
      "Class 4: 0.2236, Class 5: 0.2889, Class 6: 0.6451, \n",
      "Overall Mean Dice Score: 0.4445\n",
      "Overall Mean F-beta Score: 0.3655\n",
      "\n",
      "Training Loss: 0.5471, Validation Loss: 0.5467, Validation F-beta: 0.3655\n",
      "Validation loss did not improve. Reducing lambda to 0.0500\n",
      "Epoch 343/4000\n",
      "Current lambda: 0.0500\n"
     ]
    },
    {
     "name": "stderr",
     "output_type": "stream",
     "text": [
      "Training: 100%|██████████| 24/24 [00:23<00:00,  1.03it/s, loss=0.542]\n",
      "Validation: 100%|██████████| 4/4 [00:02<00:00,  1.72it/s, loss=0.534]\n"
     ]
    },
    {
     "name": "stdout",
     "output_type": "stream",
     "text": [
      "Validation Dice Score\n",
      "Class 0: 0.9880, Class 1: 0.5938, Class 2: 0.0693, Class 3: 0.4025, \n",
      "Class 4: 0.2636, Class 5: 0.2018, Class 6: 0.7013, \n",
      "Validation F-beta Score\n",
      "Class 0: 0.9954, Class 1: 0.5721, Class 2: 0.0554, Class 3: 0.3012, \n",
      "Class 4: 0.2566, Class 5: 0.1553, Class 6: 0.5624, \n",
      "Overall Mean Dice Score: 0.4326\n",
      "Overall Mean F-beta Score: 0.3695\n",
      "\n",
      "Training Loss: 0.5539, Validation Loss: 0.5260, Validation F-beta: 0.3695\n",
      "Epoch 344/4000\n",
      "Current lambda: 0.0500\n"
     ]
    },
    {
     "name": "stderr",
     "output_type": "stream",
     "text": [
      "Training: 100%|██████████| 24/24 [00:23<00:00,  1.04it/s, loss=0.555]\n",
      "Validation: 100%|██████████| 4/4 [00:02<00:00,  1.76it/s, loss=0.558]\n"
     ]
    },
    {
     "name": "stdout",
     "output_type": "stream",
     "text": [
      "Validation Dice Score\n",
      "Class 0: 0.9854, Class 1: 0.5951, Class 2: 0.0323, Class 3: 0.2485, \n",
      "Class 4: 0.2790, Class 5: 0.3364, Class 6: 0.7134, \n",
      "Validation F-beta Score\n",
      "Class 0: 0.9939, Class 1: 0.4592, Class 2: 0.0433, Class 3: 0.2203, \n",
      "Class 4: 0.1928, Class 5: 0.2655, Class 6: 0.5965, \n",
      "Overall Mean Dice Score: 0.4345\n",
      "Overall Mean F-beta Score: 0.3469\n",
      "\n",
      "Training Loss: 0.5435, Validation Loss: 0.5502, Validation F-beta: 0.3469\n",
      "Epoch 345/4000\n",
      "Current lambda: 0.0500\n"
     ]
    },
    {
     "name": "stderr",
     "output_type": "stream",
     "text": [
      "Training: 100%|██████████| 24/24 [00:23<00:00,  1.04it/s, loss=0.552]\n",
      "Validation: 100%|██████████| 4/4 [00:02<00:00,  1.71it/s, loss=0.581]\n"
     ]
    },
    {
     "name": "stdout",
     "output_type": "stream",
     "text": [
      "Validation Dice Score\n",
      "Class 0: 0.9865, Class 1: 0.4336, Class 2: 0.0229, Class 3: 0.2478, \n",
      "Class 4: 0.3204, Class 5: 0.3182, Class 6: 0.5543, \n",
      "Validation F-beta Score\n",
      "Class 0: 0.9943, Class 1: 0.3438, Class 2: 0.0143, Class 3: 0.2425, \n",
      "Class 4: 0.2587, Class 5: 0.2338, Class 6: 0.4692, \n",
      "Overall Mean Dice Score: 0.3749\n",
      "Overall Mean F-beta Score: 0.3096\n",
      "\n",
      "Training Loss: 0.5552, Validation Loss: 0.5630, Validation F-beta: 0.3096\n",
      "Epoch 346/4000\n",
      "Current lambda: 0.0500\n"
     ]
    },
    {
     "name": "stderr",
     "output_type": "stream",
     "text": [
      "Training: 100%|██████████| 24/24 [00:23<00:00,  1.04it/s, loss=0.563]\n",
      "Validation: 100%|██████████| 4/4 [00:02<00:00,  1.78it/s, loss=0.59] \n"
     ]
    },
    {
     "name": "stdout",
     "output_type": "stream",
     "text": [
      "Validation Dice Score\n",
      "Class 0: 0.9876, Class 1: 0.5773, Class 2: 0.0824, Class 3: 0.3068, \n",
      "Class 4: 0.3697, Class 5: 0.4631, Class 6: 0.5258, \n",
      "Validation F-beta Score\n",
      "Class 0: 0.9944, Class 1: 0.4310, Class 2: 0.0801, Class 3: 0.3241, \n",
      "Class 4: 0.2865, Class 5: 0.3532, Class 6: 0.4308, \n",
      "Overall Mean Dice Score: 0.4485\n",
      "Overall Mean F-beta Score: 0.3651\n",
      "\n",
      "Training Loss: 0.5537, Validation Loss: 0.4984, Validation F-beta: 0.3651\n",
      "========================================================\n",
      "Best model saved based on validation loss: 0.4984\n",
      "========================================================\n",
      "Epoch 347/4000\n",
      "Current lambda: 0.0500\n"
     ]
    },
    {
     "name": "stderr",
     "output_type": "stream",
     "text": [
      "Training: 100%|██████████| 24/24 [00:23<00:00,  1.03it/s, loss=0.55] \n",
      "Validation: 100%|██████████| 4/4 [00:02<00:00,  1.73it/s, loss=0.511]\n"
     ]
    },
    {
     "name": "stdout",
     "output_type": "stream",
     "text": [
      "Validation Dice Score\n",
      "Class 0: 0.9876, Class 1: 0.6913, Class 2: 0.0845, Class 3: 0.2679, \n",
      "Class 4: 0.3511, Class 5: 0.3255, Class 6: 0.7014, \n",
      "Validation F-beta Score\n",
      "Class 0: 0.9926, Class 1: 0.5988, Class 2: 0.1273, Class 3: 0.2084, \n",
      "Class 4: 0.3400, Class 5: 0.2723, Class 6: 0.5934, \n",
      "Overall Mean Dice Score: 0.4674\n",
      "Overall Mean F-beta Score: 0.4026\n",
      "\n",
      "Training Loss: 0.5465, Validation Loss: 0.5124, Validation F-beta: 0.4026\n",
      "Epoch 348/4000\n",
      "Current lambda: 0.0500\n"
     ]
    },
    {
     "name": "stderr",
     "output_type": "stream",
     "text": [
      "Training: 100%|██████████| 24/24 [00:23<00:00,  1.03it/s, loss=0.491]\n",
      "Validation: 100%|██████████| 4/4 [00:02<00:00,  1.76it/s, loss=0.581]\n"
     ]
    },
    {
     "name": "stdout",
     "output_type": "stream",
     "text": [
      "Validation Dice Score\n",
      "Class 0: 0.9865, Class 1: 0.3535, Class 2: 0.0026, Class 3: 0.2333, \n",
      "Class 4: 0.5131, Class 5: 0.3562, Class 6: 0.6544, \n",
      "Validation F-beta Score\n",
      "Class 0: 0.9935, Class 1: 0.2431, Class 2: 0.0019, Class 3: 0.1700, \n",
      "Class 4: 0.4111, Class 5: 0.2806, Class 6: 0.5566, \n",
      "Overall Mean Dice Score: 0.4221\n",
      "Overall Mean F-beta Score: 0.3323\n",
      "\n",
      "Training Loss: 0.5513, Validation Loss: 0.5137, Validation F-beta: 0.3323\n",
      "Epoch 349/4000\n",
      "Current lambda: 0.0500\n"
     ]
    },
    {
     "name": "stderr",
     "output_type": "stream",
     "text": [
      "Training: 100%|██████████| 24/24 [00:23<00:00,  1.04it/s, loss=0.578]\n",
      "Validation: 100%|██████████| 4/4 [00:02<00:00,  1.66it/s, loss=0.526]\n"
     ]
    },
    {
     "name": "stdout",
     "output_type": "stream",
     "text": [
      "Validation Dice Score\n",
      "Class 0: 0.9873, Class 1: 0.7118, Class 2: 0.1248, Class 3: 0.3400, \n",
      "Class 4: 0.2381, Class 5: 0.2898, Class 6: 0.7417, \n",
      "Validation F-beta Score\n",
      "Class 0: 0.9936, Class 1: 0.6089, Class 2: 0.0921, Class 3: 0.2822, \n",
      "Class 4: 0.2012, Class 5: 0.2700, Class 6: 0.6146, \n",
      "Overall Mean Dice Score: 0.4643\n",
      "Overall Mean F-beta Score: 0.3954\n",
      "\n",
      "Training Loss: 0.5359, Validation Loss: 0.5319, Validation F-beta: 0.3954\n",
      "Epoch 350/4000\n",
      "Current lambda: 0.0500\n"
     ]
    },
    {
     "name": "stderr",
     "output_type": "stream",
     "text": [
      "Training: 100%|██████████| 24/24 [00:23<00:00,  1.02it/s, loss=0.571]\n",
      "Validation: 100%|██████████| 4/4 [00:02<00:00,  1.75it/s, loss=0.562]\n"
     ]
    },
    {
     "name": "stdout",
     "output_type": "stream",
     "text": [
      "Validation Dice Score\n",
      "Class 0: 0.9883, Class 1: 0.5146, Class 2: 0.1219, Class 3: 0.2418, \n",
      "Class 4: 0.4320, Class 5: 0.3515, Class 6: 0.2251, \n",
      "Validation F-beta Score\n",
      "Class 0: 0.9941, Class 1: 0.4270, Class 2: 0.1144, Class 3: 0.1904, \n",
      "Class 4: 0.3427, Class 5: 0.2752, Class 6: 0.3359, \n",
      "Overall Mean Dice Score: 0.3530\n",
      "Overall Mean F-beta Score: 0.3142\n",
      "\n",
      "Training Loss: 0.5486, Validation Loss: 0.5678, Validation F-beta: 0.3142\n",
      "Validation loss did not improve. Reducing lambda to 0.0500\n",
      "Epoch 351/4000\n",
      "Current lambda: 0.0500\n"
     ]
    },
    {
     "name": "stderr",
     "output_type": "stream",
     "text": [
      "Training: 100%|██████████| 24/24 [00:23<00:00,  1.02it/s, loss=0.545]\n",
      "Validation: 100%|██████████| 4/4 [00:02<00:00,  1.77it/s, loss=0.524]\n"
     ]
    },
    {
     "name": "stdout",
     "output_type": "stream",
     "text": [
      "Validation Dice Score\n",
      "Class 0: 0.9895, Class 1: 0.4640, Class 2: 0.2322, Class 3: 0.3594, \n",
      "Class 4: 0.3749, Class 5: 0.3011, Class 6: 0.6655, \n",
      "Validation F-beta Score\n",
      "Class 0: 0.9936, Class 1: 0.3290, Class 2: 0.2631, Class 3: 0.2965, \n",
      "Class 4: 0.4251, Class 5: 0.2819, Class 6: 0.5242, \n",
      "Overall Mean Dice Score: 0.4330\n",
      "Overall Mean F-beta Score: 0.3713\n",
      "\n",
      "Training Loss: 0.5511, Validation Loss: 0.5289, Validation F-beta: 0.3713\n",
      "Epoch 352/4000\n",
      "Current lambda: 0.0500\n"
     ]
    },
    {
     "name": "stderr",
     "output_type": "stream",
     "text": [
      "Training: 100%|██████████| 24/24 [00:23<00:00,  1.03it/s, loss=0.58] \n",
      "Validation: 100%|██████████| 4/4 [00:02<00:00,  1.78it/s, loss=0.563]\n"
     ]
    },
    {
     "name": "stdout",
     "output_type": "stream",
     "text": [
      "Validation Dice Score\n",
      "Class 0: 0.9851, Class 1: 0.3352, Class 2: 0.0515, Class 3: 0.3352, \n",
      "Class 4: 0.2954, Class 5: 0.3189, Class 6: 0.7469, \n",
      "Validation F-beta Score\n",
      "Class 0: 0.9947, Class 1: 0.4950, Class 2: 0.0537, Class 3: 0.3064, \n",
      "Class 4: 0.2160, Class 5: 0.2541, Class 6: 0.6437, \n",
      "Overall Mean Dice Score: 0.4063\n",
      "Overall Mean F-beta Score: 0.3830\n",
      "\n",
      "Training Loss: 0.5561, Validation Loss: 0.5499, Validation F-beta: 0.3830\n",
      "Epoch 353/4000\n",
      "Current lambda: 0.0500\n"
     ]
    },
    {
     "name": "stderr",
     "output_type": "stream",
     "text": [
      "Training: 100%|██████████| 24/24 [00:23<00:00,  1.03it/s, loss=0.504]\n",
      "Validation: 100%|██████████| 4/4 [00:02<00:00,  1.72it/s, loss=0.471]\n"
     ]
    },
    {
     "name": "stdout",
     "output_type": "stream",
     "text": [
      "Validation Dice Score\n",
      "Class 0: 0.9876, Class 1: 0.0805, Class 2: 0.0000, Class 3: 0.4755, \n",
      "Class 4: 0.4198, Class 5: 0.3513, Class 6: 0.6130, \n",
      "Validation F-beta Score\n",
      "Class 0: 0.9944, Class 1: 0.0461, Class 2: 0.0000, Class 3: 0.4166, \n",
      "Class 4: 0.3790, Class 5: 0.2739, Class 6: 0.5508, \n",
      "Overall Mean Dice Score: 0.3880\n",
      "Overall Mean F-beta Score: 0.3333\n",
      "\n",
      "Training Loss: 0.5161, Validation Loss: 0.4665, Validation F-beta: 0.3333\n",
      "========================================================\n",
      "Best model saved based on validation loss: 0.4665\n",
      "========================================================\n",
      "Epoch 354/4000\n",
      "Current lambda: 0.0500\n"
     ]
    },
    {
     "name": "stderr",
     "output_type": "stream",
     "text": [
      "Training: 100%|██████████| 24/24 [00:23<00:00,  1.02it/s, loss=0.483]\n",
      "Validation: 100%|██████████| 4/4 [00:02<00:00,  1.74it/s, loss=0.508]\n"
     ]
    },
    {
     "name": "stdout",
     "output_type": "stream",
     "text": [
      "Validation Dice Score\n",
      "Class 0: 0.9882, Class 1: 0.0675, Class 2: 0.0725, Class 3: 0.3590, \n",
      "Class 4: 0.5665, Class 5: 0.2943, Class 6: 0.6635, \n",
      "Validation F-beta Score\n",
      "Class 0: 0.9934, Class 1: 0.0385, Class 2: 0.0553, Class 3: 0.3356, \n",
      "Class 4: 0.4974, Class 5: 0.2377, Class 6: 0.5457, \n",
      "Overall Mean Dice Score: 0.3902\n",
      "Overall Mean F-beta Score: 0.3309\n",
      "\n",
      "Training Loss: 0.5018, Validation Loss: 0.4771, Validation F-beta: 0.3309\n",
      "Epoch 355/4000\n",
      "Current lambda: 0.0500\n"
     ]
    },
    {
     "name": "stderr",
     "output_type": "stream",
     "text": [
      "Training: 100%|██████████| 24/24 [00:23<00:00,  1.04it/s, loss=0.458]\n",
      "Validation: 100%|██████████| 4/4 [00:02<00:00,  1.72it/s, loss=0.488]\n"
     ]
    },
    {
     "name": "stdout",
     "output_type": "stream",
     "text": [
      "Validation Dice Score\n",
      "Class 0: 0.9841, Class 1: 0.4348, Class 2: 0.0150, Class 3: 0.2576, \n",
      "Class 4: 0.3482, Class 5: 0.3355, Class 6: 0.5036, \n",
      "Validation F-beta Score\n",
      "Class 0: 0.9941, Class 1: 0.3281, Class 2: 0.0139, Class 3: 0.2304, \n",
      "Class 4: 0.3536, Class 5: 0.2599, Class 6: 0.3630, \n",
      "Overall Mean Dice Score: 0.3760\n",
      "Overall Mean F-beta Score: 0.3070\n",
      "\n",
      "Training Loss: 0.5036, Validation Loss: 0.4706, Validation F-beta: 0.3070\n",
      "Epoch 356/4000\n",
      "Current lambda: 0.0500\n"
     ]
    },
    {
     "name": "stderr",
     "output_type": "stream",
     "text": [
      "Training: 100%|██████████| 24/24 [00:23<00:00,  1.04it/s, loss=0.484]\n",
      "Validation: 100%|██████████| 4/4 [00:02<00:00,  1.78it/s, loss=0.504]\n"
     ]
    },
    {
     "name": "stdout",
     "output_type": "stream",
     "text": [
      "Validation Dice Score\n",
      "Class 0: 0.9855, Class 1: 0.2367, Class 2: 0.0484, Class 3: 0.2844, \n",
      "Class 4: 0.2729, Class 5: 0.3766, Class 6: 0.5203, \n",
      "Validation F-beta Score\n",
      "Class 0: 0.9929, Class 1: 0.4130, Class 2: 0.0277, Class 3: 0.2404, \n",
      "Class 4: 0.1819, Class 5: 0.3127, Class 6: 0.6202, \n",
      "Overall Mean Dice Score: 0.3382\n",
      "Overall Mean F-beta Score: 0.3536\n",
      "\n",
      "Training Loss: 0.4960, Validation Loss: 0.4763, Validation F-beta: 0.3536\n",
      "Epoch 357/4000\n",
      "Current lambda: 0.0500\n"
     ]
    },
    {
     "name": "stderr",
     "output_type": "stream",
     "text": [
      "Training: 100%|██████████| 24/24 [00:23<00:00,  1.03it/s, loss=0.447]\n",
      "Validation: 100%|██████████| 4/4 [00:02<00:00,  1.75it/s, loss=0.415]\n"
     ]
    },
    {
     "name": "stdout",
     "output_type": "stream",
     "text": [
      "Validation Dice Score\n",
      "Class 0: 0.9847, Class 1: 0.2208, Class 2: 0.0420, Class 3: 0.3598, \n",
      "Class 4: 0.2772, Class 5: 0.2683, Class 6: 0.5196, \n",
      "Validation F-beta Score\n",
      "Class 0: 0.9948, Class 1: 0.1469, Class 2: 0.0553, Class 3: 0.2543, \n",
      "Class 4: 0.2050, Class 5: 0.1792, Class 6: 0.4247, \n",
      "Overall Mean Dice Score: 0.3291\n",
      "Overall Mean F-beta Score: 0.2420\n",
      "\n",
      "Training Loss: 0.4870, Validation Loss: 0.4830, Validation F-beta: 0.2420\n",
      "Validation loss did not improve. Reducing lambda to 0.0500\n",
      "Epoch 358/4000\n",
      "Current lambda: 0.0500\n"
     ]
    },
    {
     "name": "stderr",
     "output_type": "stream",
     "text": [
      "Training: 100%|██████████| 24/24 [00:23<00:00,  1.03it/s, loss=0.515]\n",
      "Validation: 100%|██████████| 4/4 [00:02<00:00,  1.76it/s, loss=0.503]\n"
     ]
    },
    {
     "name": "stdout",
     "output_type": "stream",
     "text": [
      "Validation Dice Score\n",
      "Class 0: 0.9871, Class 1: 0.0267, Class 2: 0.1902, Class 3: 0.3070, \n",
      "Class 4: 0.1339, Class 5: 0.2428, Class 6: 0.5611, \n",
      "Validation F-beta Score\n",
      "Class 0: 0.9948, Class 1: 0.2649, Class 2: 0.1394, Class 3: 0.2701, \n",
      "Class 4: 0.0873, Class 5: 0.1875, Class 6: 0.4416, \n",
      "Overall Mean Dice Score: 0.2543\n",
      "Overall Mean F-beta Score: 0.2503\n",
      "\n",
      "Training Loss: 0.4947, Validation Loss: 0.4993, Validation F-beta: 0.2503\n",
      "Epoch 359/4000\n",
      "Current lambda: 0.0500\n"
     ]
    },
    {
     "name": "stderr",
     "output_type": "stream",
     "text": [
      "Training: 100%|██████████| 24/24 [00:23<00:00,  1.03it/s, loss=0.505]\n",
      "Validation: 100%|██████████| 4/4 [00:02<00:00,  1.66it/s, loss=0.5]  \n"
     ]
    },
    {
     "name": "stdout",
     "output_type": "stream",
     "text": [
      "Validation Dice Score\n",
      "Class 0: 0.9891, Class 1: 0.1548, Class 2: 0.1103, Class 3: 0.3889, \n",
      "Class 4: 0.3297, Class 5: 0.3360, Class 6: 0.7119, \n",
      "Validation F-beta Score\n",
      "Class 0: 0.9955, Class 1: 0.1024, Class 2: 0.1041, Class 3: 0.2747, \n",
      "Class 4: 0.2309, Class 5: 0.2994, Class 6: 0.6327, \n",
      "Overall Mean Dice Score: 0.3842\n",
      "Overall Mean F-beta Score: 0.3080\n",
      "\n",
      "Training Loss: 0.4962, Validation Loss: 0.4614, Validation F-beta: 0.3080\n",
      "========================================================\n",
      "Best model saved based on validation loss: 0.4614\n",
      "========================================================\n",
      "Epoch 360/4000\n",
      "Current lambda: 0.0500\n"
     ]
    },
    {
     "name": "stderr",
     "output_type": "stream",
     "text": [
      "Training: 100%|██████████| 24/24 [00:23<00:00,  1.03it/s, loss=0.511]\n",
      "Validation: 100%|██████████| 4/4 [00:02<00:00,  1.69it/s, loss=0.483]\n"
     ]
    },
    {
     "name": "stdout",
     "output_type": "stream",
     "text": [
      "Validation Dice Score\n",
      "Class 0: 0.9868, Class 1: 0.0459, Class 2: 0.1103, Class 3: 0.2498, \n",
      "Class 4: 0.4172, Class 5: 0.4071, Class 6: 0.7012, \n",
      "Validation F-beta Score\n",
      "Class 0: 0.9943, Class 1: 0.0260, Class 2: 0.1173, Class 3: 0.1688, \n",
      "Class 4: 0.3469, Class 5: 0.3243, Class 6: 0.6437, \n",
      "Overall Mean Dice Score: 0.3642\n",
      "Overall Mean F-beta Score: 0.3019\n",
      "\n",
      "Training Loss: 0.5000, Validation Loss: 0.4769, Validation F-beta: 0.3019\n",
      "Epoch 361/4000\n",
      "Current lambda: 0.0500\n"
     ]
    },
    {
     "name": "stderr",
     "output_type": "stream",
     "text": [
      "Training: 100%|██████████| 24/24 [00:23<00:00,  1.04it/s, loss=0.533]\n",
      "Validation: 100%|██████████| 4/4 [00:02<00:00,  1.72it/s, loss=0.465]\n"
     ]
    },
    {
     "name": "stdout",
     "output_type": "stream",
     "text": [
      "Validation Dice Score\n",
      "Class 0: 0.9871, Class 1: 0.3254, Class 2: 0.1395, Class 3: 0.2678, \n",
      "Class 4: 0.2893, Class 5: 0.3270, Class 6: 0.6669, \n",
      "Validation F-beta Score\n",
      "Class 0: 0.9940, Class 1: 0.2206, Class 2: 0.1247, Class 3: 0.1846, \n",
      "Class 4: 0.2664, Class 5: 0.2660, Class 6: 0.6596, \n",
      "Overall Mean Dice Score: 0.3753\n",
      "Overall Mean F-beta Score: 0.3194\n",
      "\n",
      "Training Loss: 0.4988, Validation Loss: 0.4781, Validation F-beta: 0.3194\n",
      "Epoch 362/4000\n",
      "Current lambda: 0.0500\n"
     ]
    },
    {
     "name": "stderr",
     "output_type": "stream",
     "text": [
      "Training: 100%|██████████| 24/24 [00:23<00:00,  1.03it/s, loss=0.525]\n",
      "Validation: 100%|██████████| 4/4 [00:02<00:00,  1.74it/s, loss=0.499]\n"
     ]
    },
    {
     "name": "stdout",
     "output_type": "stream",
     "text": [
      "Validation Dice Score\n",
      "Class 0: 0.9838, Class 1: 0.0011, Class 2: 0.0532, Class 3: 0.3602, \n",
      "Class 4: 0.3045, Class 5: 0.3041, Class 6: 0.4921, \n",
      "Validation F-beta Score\n",
      "Class 0: 0.9934, Class 1: 0.2506, Class 2: 0.0703, Class 3: 0.2828, \n",
      "Class 4: 0.1981, Class 5: 0.2394, Class 6: 0.4810, \n",
      "Overall Mean Dice Score: 0.2924\n",
      "Overall Mean F-beta Score: 0.2904\n",
      "\n",
      "Training Loss: 0.4958, Validation Loss: 0.4801, Validation F-beta: 0.2904\n",
      "Epoch 363/4000\n",
      "Current lambda: 0.0500\n"
     ]
    },
    {
     "name": "stderr",
     "output_type": "stream",
     "text": [
      "Training: 100%|██████████| 24/24 [00:23<00:00,  1.04it/s, loss=0.484]\n",
      "Validation: 100%|██████████| 4/4 [00:02<00:00,  1.78it/s, loss=0.516]\n"
     ]
    },
    {
     "name": "stdout",
     "output_type": "stream",
     "text": [
      "Validation Dice Score\n",
      "Class 0: 0.9893, Class 1: 0.0286, Class 2: 0.0124, Class 3: 0.2935, \n",
      "Class 4: 0.2665, Class 5: 0.2929, Class 6: 0.7072, \n",
      "Validation F-beta Score\n",
      "Class 0: 0.9938, Class 1: 0.0156, Class 2: 0.0077, Class 3: 0.2290, \n",
      "Class 4: 0.3092, Class 5: 0.2790, Class 6: 0.6278, \n",
      "Overall Mean Dice Score: 0.3178\n",
      "Overall Mean F-beta Score: 0.2921\n",
      "\n",
      "Training Loss: 0.5048, Validation Loss: 0.4965, Validation F-beta: 0.2921\n",
      "Validation loss did not improve. Reducing lambda to 0.0500\n",
      "Epoch 364/4000\n",
      "Current lambda: 0.0500\n"
     ]
    },
    {
     "name": "stderr",
     "output_type": "stream",
     "text": [
      "Training: 100%|██████████| 24/24 [00:23<00:00,  1.02it/s, loss=0.487]\n",
      "Validation: 100%|██████████| 4/4 [00:02<00:00,  1.71it/s, loss=0.443]\n"
     ]
    },
    {
     "name": "stdout",
     "output_type": "stream",
     "text": [
      "Validation Dice Score\n",
      "Class 0: 0.9874, Class 1: 0.1936, Class 2: 0.1729, Class 3: 0.3324, \n",
      "Class 4: 0.4747, Class 5: 0.2624, Class 6: 0.5108, \n",
      "Validation F-beta Score\n",
      "Class 0: 0.9956, Class 1: 0.6551, Class 2: 0.1676, Class 3: 0.2570, \n",
      "Class 4: 0.3879, Class 5: 0.1761, Class 6: 0.4109, \n",
      "Overall Mean Dice Score: 0.3548\n",
      "Overall Mean F-beta Score: 0.3774\n",
      "\n",
      "Training Loss: 0.4820, Validation Loss: 0.4479, Validation F-beta: 0.3774\n",
      "========================================================\n",
      "Best model saved based on validation loss: 0.4479\n",
      "========================================================\n",
      "Epoch 365/4000\n",
      "Current lambda: 0.0500\n"
     ]
    },
    {
     "name": "stderr",
     "output_type": "stream",
     "text": [
      "Training: 100%|██████████| 24/24 [00:23<00:00,  1.03it/s, loss=0.485]\n",
      "Validation: 100%|██████████| 4/4 [00:02<00:00,  1.74it/s, loss=0.508]\n"
     ]
    },
    {
     "name": "stdout",
     "output_type": "stream",
     "text": [
      "Validation Dice Score\n",
      "Class 0: 0.9854, Class 1: 0.0318, Class 2: 0.1188, Class 3: 0.1324, \n",
      "Class 4: 0.2872, Class 5: 0.4152, Class 6: 0.3607, \n",
      "Validation F-beta Score\n",
      "Class 0: 0.9935, Class 1: 0.2674, Class 2: 0.1355, Class 3: 0.0955, \n",
      "Class 4: 0.1971, Class 5: 0.3309, Class 6: 0.3665, \n",
      "Overall Mean Dice Score: 0.2455\n",
      "Overall Mean F-beta Score: 0.2515\n",
      "\n",
      "Training Loss: 0.5012, Validation Loss: 0.4930, Validation F-beta: 0.2515\n",
      "Epoch 366/4000\n",
      "Current lambda: 0.0500\n"
     ]
    },
    {
     "name": "stderr",
     "output_type": "stream",
     "text": [
      "Training: 100%|██████████| 24/24 [00:23<00:00,  1.02it/s, loss=0.513]\n",
      "Validation: 100%|██████████| 4/4 [00:02<00:00,  1.70it/s, loss=0.401]\n"
     ]
    },
    {
     "name": "stdout",
     "output_type": "stream",
     "text": [
      "Validation Dice Score\n",
      "Class 0: 0.9882, Class 1: 0.3747, Class 2: 0.0018, Class 3: 0.3354, \n",
      "Class 4: 0.3973, Class 5: 0.3507, Class 6: 0.7498, \n",
      "Validation F-beta Score\n",
      "Class 0: 0.9959, Class 1: 0.2644, Class 2: 0.0012, Class 3: 0.2578, \n",
      "Class 4: 0.3114, Class 5: 0.2757, Class 6: 0.6593, \n",
      "Overall Mean Dice Score: 0.4416\n",
      "Overall Mean F-beta Score: 0.3537\n",
      "\n",
      "Training Loss: 0.4973, Validation Loss: 0.4480, Validation F-beta: 0.3537\n",
      "Epoch 367/4000\n",
      "Current lambda: 0.0500\n"
     ]
    },
    {
     "name": "stderr",
     "output_type": "stream",
     "text": [
      "Training: 100%|██████████| 24/24 [00:23<00:00,  1.03it/s, loss=0.482]\n",
      "Validation: 100%|██████████| 4/4 [00:02<00:00,  1.73it/s, loss=0.485]\n"
     ]
    },
    {
     "name": "stdout",
     "output_type": "stream",
     "text": [
      "Validation Dice Score\n",
      "Class 0: 0.9870, Class 1: 0.2062, Class 2: 0.0374, Class 3: 0.3404, \n",
      "Class 4: 0.3880, Class 5: 0.3695, Class 6: 0.7206, \n",
      "Validation F-beta Score\n",
      "Class 0: 0.9937, Class 1: 0.1275, Class 2: 0.0421, Class 3: 0.2905, \n",
      "Class 4: 0.3275, Class 5: 0.2927, Class 6: 0.6009, \n",
      "Overall Mean Dice Score: 0.4050\n",
      "Overall Mean F-beta Score: 0.3278\n",
      "\n",
      "Training Loss: 0.4914, Validation Loss: 0.4775, Validation F-beta: 0.3278\n",
      "Epoch 368/4000\n",
      "Current lambda: 0.0500\n"
     ]
    },
    {
     "name": "stderr",
     "output_type": "stream",
     "text": [
      "Training: 100%|██████████| 24/24 [00:23<00:00,  1.03it/s, loss=0.477]\n",
      "Validation: 100%|██████████| 4/4 [00:02<00:00,  1.75it/s, loss=0.41] \n"
     ]
    },
    {
     "name": "stdout",
     "output_type": "stream",
     "text": [
      "Validation Dice Score\n",
      "Class 0: 0.9904, Class 1: 0.1216, Class 2: 0.0987, Class 3: 0.4801, \n",
      "Class 4: 0.4311, Class 5: 0.2393, Class 6: 0.7401, \n",
      "Validation F-beta Score\n",
      "Class 0: 0.9945, Class 1: 0.0752, Class 2: 0.1025, Class 3: 0.3548, \n",
      "Class 4: 0.3330, Class 5: 0.2004, Class 6: 0.6704, \n",
      "Overall Mean Dice Score: 0.4025\n",
      "Overall Mean F-beta Score: 0.3268\n",
      "\n",
      "Training Loss: 0.4737, Validation Loss: 0.4337, Validation F-beta: 0.3268\n",
      "========================================================\n",
      "Best model saved based on validation loss: 0.4337\n",
      "========================================================\n",
      "Epoch 369/4000\n",
      "Current lambda: 0.0500\n"
     ]
    },
    {
     "name": "stderr",
     "output_type": "stream",
     "text": [
      "Training: 100%|██████████| 24/24 [00:23<00:00,  1.02it/s, loss=0.426]\n",
      "Validation: 100%|██████████| 4/4 [00:02<00:00,  1.72it/s, loss=0.519]\n"
     ]
    },
    {
     "name": "stdout",
     "output_type": "stream",
     "text": [
      "Validation Dice Score\n",
      "Class 0: 0.9875, Class 1: 0.4917, Class 2: 0.0067, Class 3: 0.1569, \n",
      "Class 4: 0.4190, Class 5: 0.3591, Class 6: 0.6830, \n",
      "Validation F-beta Score\n",
      "Class 0: 0.9958, Class 1: 0.3725, Class 2: 0.0042, Class 3: 0.1637, \n",
      "Class 4: 0.3080, Class 5: 0.2603, Class 6: 0.5694, \n",
      "Overall Mean Dice Score: 0.4219\n",
      "Overall Mean F-beta Score: 0.3348\n",
      "\n",
      "Training Loss: 0.4832, Validation Loss: 0.4705, Validation F-beta: 0.3348\n",
      "Epoch 370/4000\n",
      "Current lambda: 0.0500\n"
     ]
    },
    {
     "name": "stderr",
     "output_type": "stream",
     "text": [
      "Training: 100%|██████████| 24/24 [00:23<00:00,  1.04it/s, loss=0.459]\n",
      "Validation: 100%|██████████| 4/4 [00:02<00:00,  1.76it/s, loss=0.529]\n"
     ]
    },
    {
     "name": "stdout",
     "output_type": "stream",
     "text": [
      "Validation Dice Score\n",
      "Class 0: 0.9861, Class 1: 0.5483, Class 2: 0.0660, Class 3: 0.3890, \n",
      "Class 4: 0.2814, Class 5: 0.2177, Class 6: 0.3628, \n",
      "Validation F-beta Score\n",
      "Class 0: 0.9926, Class 1: 0.4038, Class 2: 0.0788, Class 3: 0.3007, \n",
      "Class 4: 0.2259, Class 5: 0.1835, Class 6: 0.3028, \n",
      "Overall Mean Dice Score: 0.3598\n",
      "Overall Mean F-beta Score: 0.2833\n",
      "\n",
      "Training Loss: 0.4805, Validation Loss: 0.5045, Validation F-beta: 0.2833\n",
      "Epoch 371/4000\n",
      "Current lambda: 0.0500\n"
     ]
    },
    {
     "name": "stderr",
     "output_type": "stream",
     "text": [
      "Training: 100%|██████████| 24/24 [00:23<00:00,  1.03it/s, loss=0.554]\n",
      "Validation: 100%|██████████| 4/4 [00:02<00:00,  1.57it/s, loss=0.434]\n"
     ]
    },
    {
     "name": "stdout",
     "output_type": "stream",
     "text": [
      "Validation Dice Score\n",
      "Class 0: 0.9884, Class 1: 0.5118, Class 2: 0.0000, Class 3: 0.4374, \n",
      "Class 4: 0.2204, Class 5: 0.2356, Class 6: 0.6675, \n",
      "Validation F-beta Score\n",
      "Class 0: 0.9938, Class 1: 0.3898, Class 2: 0.0000, Class 3: 0.3799, \n",
      "Class 4: 0.1430, Class 5: 0.1836, Class 6: 0.6181, \n",
      "Overall Mean Dice Score: 0.4145\n",
      "Overall Mean F-beta Score: 0.3429\n",
      "\n",
      "Training Loss: 0.4759, Validation Loss: 0.4635, Validation F-beta: 0.3429\n",
      "Epoch 372/4000\n",
      "Current lambda: 0.0500\n"
     ]
    },
    {
     "name": "stderr",
     "output_type": "stream",
     "text": [
      "Training: 100%|██████████| 24/24 [00:23<00:00,  1.03it/s, loss=0.499]\n",
      "Validation: 100%|██████████| 4/4 [00:02<00:00,  1.76it/s, loss=0.476]\n"
     ]
    },
    {
     "name": "stdout",
     "output_type": "stream",
     "text": [
      "Validation Dice Score\n",
      "Class 0: 0.9897, Class 1: 0.1212, Class 2: 0.0000, Class 3: 0.3901, \n",
      "Class 4: 0.5897, Class 5: 0.3849, Class 6: 0.5367, \n",
      "Validation F-beta Score\n",
      "Class 0: 0.9928, Class 1: 0.3249, Class 2: 0.0000, Class 3: 0.2881, \n",
      "Class 4: 0.5327, Class 5: 0.3480, Class 6: 0.4790, \n",
      "Overall Mean Dice Score: 0.4045\n",
      "Overall Mean F-beta Score: 0.3945\n",
      "\n",
      "Training Loss: 0.4808, Validation Loss: 0.4641, Validation F-beta: 0.3945\n",
      "Validation loss did not improve. Reducing lambda to 0.0500\n",
      "Epoch 373/4000\n",
      "Current lambda: 0.0500\n"
     ]
    },
    {
     "name": "stderr",
     "output_type": "stream",
     "text": [
      "Training: 100%|██████████| 24/24 [00:23<00:00,  1.04it/s, loss=0.444]\n",
      "Validation: 100%|██████████| 4/4 [00:02<00:00,  1.71it/s, loss=0.499]\n"
     ]
    },
    {
     "name": "stdout",
     "output_type": "stream",
     "text": [
      "Validation Dice Score\n",
      "Class 0: 0.9860, Class 1: 0.0000, Class 2: 0.0060, Class 3: 0.2894, \n",
      "Class 4: 0.3616, Class 5: 0.3715, Class 6: 0.4824, \n",
      "Validation F-beta Score\n",
      "Class 0: 0.9937, Class 1: 0.2500, Class 2: 0.0085, Class 3: 0.2537, \n",
      "Class 4: 0.2725, Class 5: 0.2847, Class 6: 0.4111, \n",
      "Overall Mean Dice Score: 0.3010\n",
      "Overall Mean F-beta Score: 0.2944\n",
      "\n",
      "Training Loss: 0.4840, Validation Loss: 0.4884, Validation F-beta: 0.2944\n",
      "Epoch 374/4000\n",
      "Current lambda: 0.0500\n"
     ]
    },
    {
     "name": "stderr",
     "output_type": "stream",
     "text": [
      "Training: 100%|██████████| 24/24 [00:23<00:00,  1.03it/s, loss=0.465]\n",
      "Validation: 100%|██████████| 4/4 [00:02<00:00,  1.69it/s, loss=0.584]\n"
     ]
    },
    {
     "name": "stdout",
     "output_type": "stream",
     "text": [
      "Validation Dice Score\n",
      "Class 0: 0.9885, Class 1: 0.0000, Class 2: 0.1141, Class 3: 0.3019, \n",
      "Class 4: 0.2577, Class 5: 0.3332, Class 6: 0.4850, \n",
      "Validation F-beta Score\n",
      "Class 0: 0.9938, Class 1: 0.0000, Class 2: 0.1193, Class 3: 0.2272, \n",
      "Class 4: 0.2605, Class 5: 0.2698, Class 6: 0.3894, \n",
      "Overall Mean Dice Score: 0.2755\n",
      "Overall Mean F-beta Score: 0.2294\n",
      "\n",
      "Training Loss: 0.5042, Validation Loss: 0.5117, Validation F-beta: 0.2294\n",
      "Epoch 375/4000\n",
      "Current lambda: 0.0500\n"
     ]
    },
    {
     "name": "stderr",
     "output_type": "stream",
     "text": [
      "Training: 100%|██████████| 24/24 [00:23<00:00,  1.03it/s, loss=0.533]\n",
      "Validation: 100%|██████████| 4/4 [00:02<00:00,  1.69it/s, loss=0.472]\n"
     ]
    },
    {
     "name": "stdout",
     "output_type": "stream",
     "text": [
      "Validation Dice Score\n",
      "Class 0: 0.9853, Class 1: 0.0000, Class 2: 0.0480, Class 3: 0.2927, \n",
      "Class 4: 0.2792, Class 5: 0.2908, Class 6: 0.6683, \n",
      "Validation F-beta Score\n",
      "Class 0: 0.9943, Class 1: 0.2500, Class 2: 0.0481, Class 3: 0.2266, \n",
      "Class 4: 0.1886, Class 5: 0.2387, Class 6: 0.5666, \n",
      "Overall Mean Dice Score: 0.3062\n",
      "Overall Mean F-beta Score: 0.2941\n",
      "\n",
      "Training Loss: 0.4946, Validation Loss: 0.4894, Validation F-beta: 0.2941\n",
      "Epoch 376/4000\n",
      "Current lambda: 0.0500\n"
     ]
    },
    {
     "name": "stderr",
     "output_type": "stream",
     "text": [
      "Training: 100%|██████████| 24/24 [00:23<00:00,  1.03it/s, loss=0.476]\n",
      "Validation: 100%|██████████| 4/4 [00:02<00:00,  1.77it/s, loss=0.475]\n"
     ]
    },
    {
     "name": "stdout",
     "output_type": "stream",
     "text": [
      "Validation Dice Score\n",
      "Class 0: 0.9861, Class 1: 0.0000, Class 2: 0.0153, Class 3: 0.3050, \n",
      "Class 4: 0.4020, Class 5: 0.3370, Class 6: 0.6858, \n",
      "Validation F-beta Score\n",
      "Class 0: 0.9952, Class 1: 0.0000, Class 2: 0.0230, Class 3: 0.2289, \n",
      "Class 4: 0.2803, Class 5: 0.2412, Class 6: 0.6071, \n",
      "Overall Mean Dice Score: 0.3460\n",
      "Overall Mean F-beta Score: 0.2715\n",
      "\n",
      "Training Loss: 0.4973, Validation Loss: 0.4755, Validation F-beta: 0.2715\n",
      "Epoch 377/4000\n",
      "Current lambda: 0.0500\n"
     ]
    },
    {
     "name": "stderr",
     "output_type": "stream",
     "text": [
      "Training: 100%|██████████| 24/24 [00:23<00:00,  1.03it/s, loss=0.52] \n",
      "Validation: 100%|██████████| 4/4 [00:06<00:00,  1.67s/it, loss=0.537]\n"
     ]
    },
    {
     "name": "stdout",
     "output_type": "stream",
     "text": [
      "Validation Dice Score\n",
      "Class 0: 0.9891, Class 1: 0.0000, Class 2: 0.0739, Class 3: 0.3010, \n",
      "Class 4: 0.3024, Class 5: 0.3083, Class 6: 0.6529, \n",
      "Validation F-beta Score\n",
      "Class 0: 0.9952, Class 1: 0.2500, Class 2: 0.0621, Class 3: 0.2685, \n",
      "Class 4: 0.2399, Class 5: 0.2466, Class 6: 0.5423, \n",
      "Overall Mean Dice Score: 0.3129\n",
      "Overall Mean F-beta Score: 0.3095\n",
      "\n",
      "Training Loss: 0.4950, Validation Loss: 0.5007, Validation F-beta: 0.3095\n",
      "Validation loss did not improve. Reducing lambda to 0.0500\n",
      "Epoch 378/4000\n",
      "Current lambda: 0.0500\n"
     ]
    },
    {
     "name": "stderr",
     "output_type": "stream",
     "text": [
      "Training: 100%|██████████| 24/24 [00:24<00:00,  1.03s/it, loss=0.44] \n",
      "Validation: 100%|██████████| 4/4 [00:02<00:00,  1.65it/s, loss=0.56] \n"
     ]
    },
    {
     "name": "stdout",
     "output_type": "stream",
     "text": [
      "Validation Dice Score\n",
      "Class 0: 0.9888, Class 1: 0.0000, Class 2: 0.0302, Class 3: 0.3095, \n",
      "Class 4: 0.3426, Class 5: 0.2598, Class 6: 0.7193, \n",
      "Validation F-beta Score\n",
      "Class 0: 0.9934, Class 1: 0.0000, Class 2: 0.0366, Class 3: 0.2616, \n",
      "Class 4: 0.3140, Class 5: 0.2198, Class 6: 0.6573, \n",
      "Overall Mean Dice Score: 0.3262\n",
      "Overall Mean F-beta Score: 0.2906\n",
      "\n",
      "Training Loss: 0.4783, Validation Loss: 0.4982, Validation F-beta: 0.2906\n",
      "Epoch 379/4000\n",
      "Current lambda: 0.0500\n"
     ]
    },
    {
     "name": "stderr",
     "output_type": "stream",
     "text": [
      "Training: 100%|██████████| 24/24 [00:24<00:00,  1.02s/it, loss=0.535]\n",
      "Validation: 100%|██████████| 4/4 [00:02<00:00,  1.67it/s, loss=0.472]\n"
     ]
    },
    {
     "name": "stdout",
     "output_type": "stream",
     "text": [
      "Validation Dice Score\n",
      "Class 0: 0.9841, Class 1: 0.0000, Class 2: 0.1268, Class 3: 0.1593, \n",
      "Class 4: 0.2850, Class 5: 0.3855, Class 6: 0.7132, \n",
      "Validation F-beta Score\n",
      "Class 0: 0.9937, Class 1: 0.0000, Class 2: 0.1575, Class 3: 0.1467, \n",
      "Class 4: 0.2025, Class 5: 0.2958, Class 6: 0.5933, \n",
      "Overall Mean Dice Score: 0.3086\n",
      "Overall Mean F-beta Score: 0.2477\n",
      "\n",
      "Training Loss: 0.5005, Validation Loss: 0.4892, Validation F-beta: 0.2477\n",
      "Epoch 380/4000\n",
      "Current lambda: 0.0500\n"
     ]
    },
    {
     "name": "stderr",
     "output_type": "stream",
     "text": [
      "Training: 100%|██████████| 24/24 [00:24<00:00,  1.03s/it, loss=0.533]\n",
      "Validation: 100%|██████████| 4/4 [00:02<00:00,  1.69it/s, loss=0.532]\n"
     ]
    },
    {
     "name": "stdout",
     "output_type": "stream",
     "text": [
      "Validation Dice Score\n",
      "Class 0: 0.9897, Class 1: 0.0000, Class 2: 0.0697, Class 3: 0.3628, \n",
      "Class 4: 0.4336, Class 5: 0.1684, Class 6: 0.3682, \n",
      "Validation F-beta Score\n",
      "Class 0: 0.9940, Class 1: 0.0000, Class 2: 0.0676, Class 3: 0.2794, \n",
      "Class 4: 0.3444, Class 5: 0.1574, Class 6: 0.2901, \n",
      "Overall Mean Dice Score: 0.2666\n",
      "Overall Mean F-beta Score: 0.2143\n",
      "\n",
      "Training Loss: 0.5073, Validation Loss: 0.5136, Validation F-beta: 0.2143\n",
      "Epoch 381/4000\n",
      "Current lambda: 0.0500\n"
     ]
    },
    {
     "name": "stderr",
     "output_type": "stream",
     "text": [
      "Training: 100%|██████████| 24/24 [00:24<00:00,  1.04s/it, loss=0.57] \n",
      "Validation: 100%|██████████| 4/4 [00:02<00:00,  1.62it/s, loss=0.498]\n"
     ]
    },
    {
     "name": "stdout",
     "output_type": "stream",
     "text": [
      "Validation Dice Score\n",
      "Class 0: 0.9895, Class 1: 0.0000, Class 2: 0.0605, Class 3: 0.3186, \n",
      "Class 4: 0.1218, Class 5: 0.2350, Class 6: 0.7360, \n",
      "Validation F-beta Score\n",
      "Class 0: 0.9930, Class 1: 0.0000, Class 2: 0.0777, Class 3: 0.2782, \n",
      "Class 4: 0.1347, Class 5: 0.1917, Class 6: 0.6558, \n",
      "Overall Mean Dice Score: 0.2823\n",
      "Overall Mean F-beta Score: 0.2521\n",
      "\n",
      "Training Loss: 0.4904, Validation Loss: 0.5504, Validation F-beta: 0.2521\n",
      "Epoch 382/4000\n",
      "Current lambda: 0.0500\n"
     ]
    },
    {
     "name": "stderr",
     "output_type": "stream",
     "text": [
      "Training: 100%|██████████| 24/24 [00:24<00:00,  1.01s/it, loss=0.469]\n",
      "Validation: 100%|██████████| 4/4 [00:02<00:00,  1.68it/s, loss=0.594]\n"
     ]
    },
    {
     "name": "stdout",
     "output_type": "stream",
     "text": [
      "Validation Dice Score\n",
      "Class 0: 0.9866, Class 1: 0.0000, Class 2: 0.0000, Class 3: 0.1948, \n",
      "Class 4: 0.4433, Class 5: 0.3175, Class 6: 0.4315, \n",
      "Validation F-beta Score\n",
      "Class 0: 0.9946, Class 1: 0.0000, Class 2: 0.0000, Class 3: 0.1631, \n",
      "Class 4: 0.3449, Class 5: 0.2293, Class 6: 0.4149, \n",
      "Overall Mean Dice Score: 0.2774\n",
      "Overall Mean F-beta Score: 0.2304\n",
      "\n",
      "Training Loss: 0.4988, Validation Loss: 0.5181, Validation F-beta: 0.2304\n",
      "Validation loss did not improve. Reducing lambda to 0.0500\n",
      "Epoch 383/4000\n",
      "Current lambda: 0.0500\n"
     ]
    },
    {
     "name": "stderr",
     "output_type": "stream",
     "text": [
      "Training: 100%|██████████| 24/24 [00:25<00:00,  1.05s/it, loss=0.534]\n",
      "Validation: 100%|██████████| 4/4 [00:02<00:00,  1.64it/s, loss=0.442]\n"
     ]
    },
    {
     "name": "stdout",
     "output_type": "stream",
     "text": [
      "Validation Dice Score\n",
      "Class 0: 0.9886, Class 1: 0.0000, Class 2: 0.1378, Class 3: 0.3541, \n",
      "Class 4: 0.2589, Class 5: 0.4067, Class 6: 0.6228, \n",
      "Validation F-beta Score\n",
      "Class 0: 0.9949, Class 1: 0.0000, Class 2: 0.1602, Class 3: 0.2832, \n",
      "Class 4: 0.1805, Class 5: 0.3097, Class 6: 0.5532, \n",
      "Overall Mean Dice Score: 0.3285\n",
      "Overall Mean F-beta Score: 0.2653\n",
      "\n",
      "Training Loss: 0.4849, Validation Loss: 0.4893, Validation F-beta: 0.2653\n",
      "Epoch 384/4000\n",
      "Current lambda: 0.0500\n"
     ]
    },
    {
     "name": "stderr",
     "output_type": "stream",
     "text": [
      "Training: 100%|██████████| 24/24 [00:24<00:00,  1.01s/it, loss=0.53] \n",
      "Validation: 100%|██████████| 4/4 [00:02<00:00,  1.61it/s, loss=0.498]\n"
     ]
    },
    {
     "name": "stdout",
     "output_type": "stream",
     "text": [
      "Validation Dice Score\n",
      "Class 0: 0.9864, Class 1: 0.0000, Class 2: 0.1217, Class 3: 0.3176, \n",
      "Class 4: 0.2590, Class 5: 0.3932, Class 6: 0.5356, \n",
      "Validation F-beta Score\n",
      "Class 0: 0.9942, Class 1: 0.2500, Class 2: 0.1261, Class 3: 0.2543, \n",
      "Class 4: 0.1868, Class 5: 0.3323, Class 6: 0.4337, \n",
      "Overall Mean Dice Score: 0.3011\n",
      "Overall Mean F-beta Score: 0.2914\n",
      "\n",
      "Training Loss: 0.4966, Validation Loss: 0.4786, Validation F-beta: 0.2914\n",
      "Epoch 385/4000\n",
      "Current lambda: 0.0500\n"
     ]
    },
    {
     "name": "stderr",
     "output_type": "stream",
     "text": [
      "Training: 100%|██████████| 24/24 [00:24<00:00,  1.03s/it, loss=0.537]\n",
      "Validation: 100%|██████████| 4/4 [00:02<00:00,  1.69it/s, loss=0.419]\n"
     ]
    },
    {
     "name": "stdout",
     "output_type": "stream",
     "text": [
      "Validation Dice Score\n",
      "Class 0: 0.9890, Class 1: 0.0000, Class 2: 0.2141, Class 3: 0.3465, \n",
      "Class 4: 0.3802, Class 5: 0.2970, Class 6: 0.7296, \n",
      "Validation F-beta Score\n",
      "Class 0: 0.9934, Class 1: 0.0000, Class 2: 0.2649, Class 3: 0.3012, \n",
      "Class 4: 0.3471, Class 5: 0.2407, Class 6: 0.6116, \n",
      "Overall Mean Dice Score: 0.3507\n",
      "Overall Mean F-beta Score: 0.3001\n",
      "\n",
      "Training Loss: 0.5039, Validation Loss: 0.4735, Validation F-beta: 0.3001\n",
      "Epoch 386/4000\n",
      "Current lambda: 0.0500\n"
     ]
    },
    {
     "name": "stderr",
     "output_type": "stream",
     "text": [
      "Training:  25%|██▌       | 6/24 [00:06<00:18,  1.04s/it, loss=0.473]"
     ]
    }
   ],
   "source": [
    "train_model(\n",
    "    model=model,\n",
    "    train_loader=train_loader,\n",
    "    val_loader=val_loader,\n",
    "    criterion=criterion,\n",
    "    optimizer=optimizer,\n",
    "    num_epochs=num_epochs,\n",
    "    patience=100,\n",
    "    device=device,\n",
    "    start_epoch=start_epoch,\n",
    "    best_val_loss=best_val_loss,\n",
    "    best_val_fbeta_score=best_val_fbeta_score,\n",
    "    calculate_dice_interval=1\n",
    ")"
   ]
  },
  {
   "cell_type": "code",
   "execution_count": null,
   "metadata": {},
   "outputs": [
    {
     "data": {
      "text/plain": [
       "<wandb.integration.torch.wandb_torch.TorchHistory at 0x1bf45e4c860>"
      ]
     },
     "execution_count": 25,
     "metadata": {},
     "output_type": "execute_result"
    }
   ],
   "source": [
    "if:"
   ]
  },
  {
   "cell_type": "markdown",
   "metadata": {},
   "source": [
    "# VAl"
   ]
  },
  {
   "cell_type": "code",
   "execution_count": null,
   "metadata": {},
   "outputs": [
    {
     "data": {
      "text/html": [
       "Finishing last run (ID:fs6utwyo) before initializing another..."
      ],
      "text/plain": [
       "<IPython.core.display.HTML object>"
      ]
     },
     "metadata": {},
     "output_type": "display_data"
    },
    {
     "data": {
      "application/vnd.jupyter.widget-view+json": {
       "model_id": "29cc3ae761af43baae5aca60b5d2e7f4",
       "version_major": 2,
       "version_minor": 0
      },
      "text/plain": [
       "VBox(children=(Label(value='0.009 MB of 0.009 MB uploaded\\r'), FloatProgress(value=1.0, max=1.0)))"
      ]
     },
     "metadata": {},
     "output_type": "display_data"
    },
    {
     "data": {
      "text/html": [
       "<style>\n",
       "    table.wandb td:nth-child(1) { padding: 0 10px; text-align: left ; width: auto;} td:nth-child(2) {text-align: left ; width: 100%}\n",
       "    .wandb-row { display: flex; flex-direction: row; flex-wrap: wrap; justify-content: flex-start; width: 100% }\n",
       "    .wandb-col { display: flex; flex-direction: column; flex-basis: 100%; flex: 1; padding: 10px; }\n",
       "    </style>\n",
       "<div class=\"wandb-row\"><div class=\"wandb-col\"><h3>Run history:</h3><br/><table class=\"wandb\"><tr><td>class_0_dice_score</td><td>▁</td></tr><tr><td>class_0_f_beta_score</td><td>▁</td></tr><tr><td>class_1_dice_score</td><td>▁</td></tr><tr><td>class_1_f_beta_score</td><td>▁</td></tr><tr><td>class_2_dice_score</td><td>▁</td></tr><tr><td>class_2_f_beta_score</td><td>▁</td></tr><tr><td>class_3_dice_score</td><td>▁</td></tr><tr><td>class_3_f_beta_score</td><td>▁</td></tr><tr><td>class_4_dice_score</td><td>▁</td></tr><tr><td>class_4_f_beta_score</td><td>▁</td></tr><tr><td>class_5_dice_score</td><td>▁</td></tr><tr><td>class_5_f_beta_score</td><td>▁</td></tr><tr><td>class_6_dice_score</td><td>▁</td></tr><tr><td>class_6_f_beta_score</td><td>▁</td></tr><tr><td>epoch</td><td>▁▁▁▁▁▁▁▁▁▁▁▁▁▁▁▁</td></tr><tr><td>overall_mean_dice_score</td><td>▁</td></tr><tr><td>overall_mean_f_beta_score</td><td>▁</td></tr><tr><td>val_epoch_loss</td><td>▁</td></tr></table><br/></div><div class=\"wandb-col\"><h3>Run summary:</h3><br/><table class=\"wandb\"><tr><td>class_0_dice_score</td><td>0.65703</td></tr><tr><td>class_0_f_beta_score</td><td>0.50748</td></tr><tr><td>class_1_dice_score</td><td>0.53332</td></tr><tr><td>class_1_f_beta_score</td><td>0.64703</td></tr><tr><td>class_2_dice_score</td><td>0.00286</td></tr><tr><td>class_2_f_beta_score</td><td>0.02334</td></tr><tr><td>class_3_dice_score</td><td>0.23703</td></tr><tr><td>class_3_f_beta_score</td><td>0.23033</td></tr><tr><td>class_4_dice_score</td><td>0.65487</td></tr><tr><td>class_4_f_beta_score</td><td>0.62525</td></tr><tr><td>class_5_dice_score</td><td>0.47899</td></tr><tr><td>class_5_f_beta_score</td><td>0.51448</td></tr><tr><td>class_6_dice_score</td><td>0.42545</td></tr><tr><td>class_6_f_beta_score</td><td>0.47197</td></tr><tr><td>epoch</td><td>1</td></tr><tr><td>overall_mean_dice_score</td><td>0.42708</td></tr><tr><td>overall_mean_f_beta_score</td><td>0.43141</td></tr><tr><td>val_epoch_loss</td><td>0.7152</td></tr></table><br/></div></div>"
      ],
      "text/plain": [
       "<IPython.core.display.HTML object>"
      ]
     },
     "metadata": {},
     "output_type": "display_data"
    },
    {
     "data": {
      "text/html": [
       " View run <strong style=\"color:#cdcd00\">SwinUNETR96_96_lr0.001_lambda0.52_batch2</strong> at: <a href='https://wandb.ai/waooang/czii_SwinUnetR_val/runs/fs6utwyo' target=\"_blank\">https://wandb.ai/waooang/czii_SwinUnetR_val/runs/fs6utwyo</a><br/> View project at: <a href='https://wandb.ai/waooang/czii_SwinUnetR_val' target=\"_blank\">https://wandb.ai/waooang/czii_SwinUnetR_val</a><br/>Synced 4 W&B file(s), 0 media file(s), 3 artifact file(s) and 0 other file(s)"
      ],
      "text/plain": [
       "<IPython.core.display.HTML object>"
      ]
     },
     "metadata": {},
     "output_type": "display_data"
    },
    {
     "data": {
      "text/html": [
       "Find logs at: <code>.\\wandb\\run-20241219_200219-fs6utwyo\\logs</code>"
      ],
      "text/plain": [
       "<IPython.core.display.HTML object>"
      ]
     },
     "metadata": {},
     "output_type": "display_data"
    },
    {
     "data": {
      "text/html": [
       "Successfully finished last run (ID:fs6utwyo). Initializing new run:<br/>"
      ],
      "text/plain": [
       "<IPython.core.display.HTML object>"
      ]
     },
     "metadata": {},
     "output_type": "display_data"
    },
    {
     "data": {
      "text/html": [
       "Tracking run with wandb version 0.18.3"
      ],
      "text/plain": [
       "<IPython.core.display.HTML object>"
      ]
     },
     "metadata": {},
     "output_type": "display_data"
    },
    {
     "data": {
      "text/html": [
       "Run data is saved locally in <code>e:\\Workspace\\czll\\wandb\\run-20241219_200454-121l7bn3</code>"
      ],
      "text/plain": [
       "<IPython.core.display.HTML object>"
      ]
     },
     "metadata": {},
     "output_type": "display_data"
    },
    {
     "data": {
      "text/html": [
       "Syncing run <strong><a href='https://wandb.ai/waooang/czii_SwinUnetR_val/runs/121l7bn3' target=\"_blank\">SwinUNETR96_96_lr0.001_lambda0.52_batch2</a></strong> to <a href='https://wandb.ai/waooang/czii_SwinUnetR_val' target=\"_blank\">Weights & Biases</a> (<a href='https://wandb.me/run' target=\"_blank\">docs</a>)<br/>"
      ],
      "text/plain": [
       "<IPython.core.display.HTML object>"
      ]
     },
     "metadata": {},
     "output_type": "display_data"
    },
    {
     "data": {
      "text/html": [
       " View project at <a href='https://wandb.ai/waooang/czii_SwinUnetR_val' target=\"_blank\">https://wandb.ai/waooang/czii_SwinUnetR_val</a>"
      ],
      "text/plain": [
       "<IPython.core.display.HTML object>"
      ]
     },
     "metadata": {},
     "output_type": "display_data"
    },
    {
     "data": {
      "text/html": [
       " View run at <a href='https://wandb.ai/waooang/czii_SwinUnetR_val/runs/121l7bn3' target=\"_blank\">https://wandb.ai/waooang/czii_SwinUnetR_val/runs/121l7bn3</a>"
      ],
      "text/plain": [
       "<IPython.core.display.HTML object>"
      ]
     },
     "metadata": {},
     "output_type": "display_data"
    },
    {
     "name": "stderr",
     "output_type": "stream",
     "text": [
      "Loading dataset: 100%|██████████| 4/4 [00:06<00:00,  1.58s/it]\n",
      "C:\\Users\\Seungwoo\\AppData\\Local\\Temp\\ipykernel_21000\\1177025787.py:95: FutureWarning: You are using `torch.load` with `weights_only=False` (the current default value), which uses the default pickle module implicitly. It is possible to construct malicious pickle data which will execute arbitrary code during unpickling (See https://github.com/pytorch/pytorch/blob/main/SECURITY.md#untrusted-models for more details). In a future release, the default value for `weights_only` will be flipped to `True`. This limits the functions that could be executed during unpickling. Arbitrary objects will no longer be allowed to be loaded via this mode unless they are explicitly allowlisted by the user via `torch.serialization.add_safe_globals`. We recommend you start setting `weights_only=True` for any use case where you don't have full control of the loaded file. Please open an issue on GitHub for any issues related to this experimental feature.\n",
      "  checkpoint = torch.load(pretrain_path, map_location=device)\n",
      "Validation: 100%|██████████| 4/4 [00:01<00:00,  2.38it/s, loss=0.865]"
     ]
    },
    {
     "name": "stdout",
     "output_type": "stream",
     "text": [
      "Validation Dice Score\n",
      "Class 0: 0.6570, Class 1: 0.5333, Class 2: 0.0029, Class 3: 0.2370, \n",
      "Class 4: 0.6549, Class 5: 0.4790, Class 6: 0.4255, \n",
      "Validation F-beta Score\n",
      "Class 0: 0.5075, Class 1: 0.6470, Class 2: 0.0233, Class 3: 0.2303, \n",
      "Class 4: 0.6252, Class 5: 0.5145, Class 6: 0.4720, \n",
      "Overall Mean Dice Score: 0.4659\n",
      "Overall Mean F-beta Score: 0.4978\n",
      "\n"
     ]
    },
    {
     "name": "stderr",
     "output_type": "stream",
     "text": [
      "\n"
     ]
    }
   ],
   "source": [
    "from monai.data import DataLoader, Dataset, CacheDataset\n",
    "from monai.transforms import (\n",
    "    Compose, LoadImaged, EnsureChannelFirstd, NormalizeIntensityd,\n",
    "    Orientationd, CropForegroundd, GaussianSmoothd, ScaleIntensityd,\n",
    "    RandSpatialCropd, RandRotate90d, RandFlipd, RandGaussianNoised,\n",
    "    ToTensord, RandCropByLabelClassesd\n",
    ")\n",
    "from monai.metrics import DiceMetric\n",
    "from monai.networks.nets import UNETR, SwinUNETR\n",
    "from monai.losses import TverskyLoss\n",
    "import torch\n",
    "import numpy as np\n",
    "from tqdm import tqdm\n",
    "import wandb\n",
    "from src.dataset.dataset import make_val_dataloader\n",
    "\n",
    "val_img_dir = \"./datasets/val/images\"\n",
    "val_label_dir = \"./datasets/val/labels\"\n",
    "img_depth = 96\n",
    "img_size = 96  # Match your patch size\n",
    "n_classes = 7\n",
    "batch_size = 2 # 13.8GB GPU memory required for 128x128 img size\n",
    "num_samples = batch_size # 한 이미지에서 뽑을 샘플 수\n",
    "loader_batch = 1\n",
    "lamda = 0.52\n",
    "\n",
    "wandb.init(\n",
    "    project='czii_SwinUnetR_val',  # 프로젝트 이름 설정\n",
    "    name='SwinUNETR96_96_lr0.001_lambda0.52_batch2',         # 실행(run) 이름 설정\n",
    "    config={\n",
    "        'learning_rate': 0.001,\n",
    "        'batch_size': batch_size,\n",
    "        'lambda': lamda,\n",
    "        'img_size': img_size,\n",
    "        'device': 'cuda',\n",
    "        \"checkpoint_dir\": \"./model_checkpoints/SwinUNETR96_96_lr0.001_lambda0.52_batch2\",\n",
    "        \n",
    "    }\n",
    ")\n",
    "\n",
    "non_random_transforms = Compose([\n",
    "    EnsureChannelFirstd(keys=[\"image\", \"label\"], channel_dim=\"no_channel\"),\n",
    "    NormalizeIntensityd(keys=\"image\"),\n",
    "    Orientationd(keys=[\"image\", \"label\"], axcodes=\"RAS\"),\n",
    "    GaussianSmoothd(\n",
    "        keys=[\"image\"],      # 변환을 적용할 키\n",
    "        sigma=[1.0, 1.0, 1.0]  # 각 축(x, y, z)의 시그마 값\n",
    "        ),\n",
    "])\n",
    "random_transforms = Compose([\n",
    "    RandCropByLabelClassesd(\n",
    "        keys=[\"image\", \"label\"],\n",
    "        label_key=\"label\",\n",
    "        spatial_size=[img_depth, img_size, img_size],\n",
    "        num_classes=n_classes,\n",
    "        num_samples=num_samples, \n",
    "        ratios=ratios_list,\n",
    "    ),\n",
    "    RandRotate90d(keys=[\"image\", \"label\"], prob=0.5, spatial_axes=[1, 2]),\n",
    "    RandFlipd(keys=[\"image\", \"label\"], prob=0.5, spatial_axis=0),\n",
    "])\n",
    "\n",
    "val_loader = make_val_dataloader(\n",
    "    val_img_dir, \n",
    "    val_label_dir, \n",
    "    non_random_transforms = non_random_transforms, \n",
    "    random_transforms = random_transforms, \n",
    "    batch_size = loader_batch,\n",
    "    num_workers=0\n",
    ")\n",
    "criterion = TverskyLoss(\n",
    "    alpha= 1 - lamda,  # FP에 대한 가중치\n",
    "    beta=lamda,       # FN에 대한 가중치\n",
    "    include_background=False,  # 배경 클래스 제외\n",
    "    softmax=True\n",
    ")\n",
    "    \n",
    "    \n",
    "from monai.metrics import DiceMetric\n",
    "\n",
    "img_size = 96\n",
    "img_depth = img_size\n",
    "n_classes = 7 \n",
    "\n",
    "device = torch.device(\"cuda\" if torch.cuda.is_available() else \"cpu\")\n",
    "pretrain_path = \"./model_checkpoints/SwinUNETR96_96_lr0.001_lambda0.52_batch2/best_model.pt\"\n",
    "model = SwinUNETR(\n",
    "    img_size=(img_depth, img_size, img_size),\n",
    "    in_channels=1,\n",
    "    out_channels=n_classes,\n",
    "    feature_size=48,\n",
    "    use_checkpoint=True,\n",
    ").to(device)\n",
    "# Pretrained weights 불러오기\n",
    "checkpoint = torch.load(pretrain_path, map_location=device)\n",
    "model.load_state_dict(checkpoint['model_state_dict'])\n",
    "\n",
    "val_loss, overall_mean_fbeta_score = validate_one_epoch(\n",
    "    model=model, \n",
    "    val_loader=val_loader, \n",
    "    criterion=criterion, \n",
    "    device=device, \n",
    "    epoch=0, \n",
    "    calculate_dice_interval=1\n",
    ")"
   ]
  },
  {
   "cell_type": "markdown",
   "metadata": {},
   "source": [
    "# Inference"
   ]
  },
  {
   "cell_type": "code",
   "execution_count": null,
   "metadata": {},
   "outputs": [],
   "source": [
    "from src.dataset.preprocessing import Preprocessor"
   ]
  },
  {
   "cell_type": "code",
   "execution_count": null,
   "metadata": {},
   "outputs": [
    {
     "name": "stdout",
     "output_type": "stream",
     "text": [
      "Done.\n"
     ]
    }
   ],
   "source": [
    "from monai.inferers import sliding_window_inference\n",
    "from monai.transforms import Compose, EnsureChannelFirstd, NormalizeIntensityd, Orientationd, GaussianSmoothd\n",
    "from monai.data import DataLoader, Dataset, CacheDataset\n",
    "from monai.networks.nets import SwinUNETR\n",
    "from pathlib import Path\n",
    "import numpy as np\n",
    "import copick\n",
    "\n",
    "import torch\n",
    "print(\"Done.\")"
   ]
  },
  {
   "cell_type": "code",
   "execution_count": null,
   "metadata": {},
   "outputs": [
    {
     "name": "stdout",
     "output_type": "stream",
     "text": [
      "Config file written to ./kaggle/working/copick.config\n",
      "file length: 7\n"
     ]
    }
   ],
   "source": [
    "config_blob = \"\"\"{\n",
    "    \"name\": \"czii_cryoet_mlchallenge_2024\",\n",
    "    \"description\": \"2024 CZII CryoET ML Challenge training data.\",\n",
    "    \"version\": \"1.0.0\",\n",
    "\n",
    "    \"pickable_objects\": [\n",
    "        {\n",
    "            \"name\": \"apo-ferritin\",\n",
    "            \"is_particle\": true,\n",
    "            \"pdb_id\": \"4V1W\",\n",
    "            \"label\": 1,\n",
    "            \"color\": [  0, 117, 220, 128],\n",
    "            \"radius\": 60,\n",
    "            \"map_threshold\": 0.0418\n",
    "        },\n",
    "        {\n",
    "          \"name\" : \"beta-amylase\",\n",
    "            \"is_particle\": true,\n",
    "            \"pdb_id\": \"8ZRZ\",\n",
    "            \"label\": 2,\n",
    "            \"color\": [255, 255, 255, 128],\n",
    "            \"radius\": 90,\n",
    "            \"map_threshold\": 0.0578  \n",
    "        },\n",
    "        {\n",
    "            \"name\": \"beta-galactosidase\",\n",
    "            \"is_particle\": true,\n",
    "            \"pdb_id\": \"6X1Q\",\n",
    "            \"label\": 3,\n",
    "            \"color\": [ 76,   0,  92, 128],\n",
    "            \"radius\": 90,\n",
    "            \"map_threshold\": 0.0578\n",
    "        },\n",
    "        {\n",
    "            \"name\": \"ribosome\",\n",
    "            \"is_particle\": true,\n",
    "            \"pdb_id\": \"6EK0\",\n",
    "            \"label\": 4,\n",
    "            \"color\": [  0,  92,  49, 128],\n",
    "            \"radius\": 150,\n",
    "            \"map_threshold\": 0.0374\n",
    "        },\n",
    "        {\n",
    "            \"name\": \"thyroglobulin\",\n",
    "            \"is_particle\": true,\n",
    "            \"pdb_id\": \"6SCJ\",\n",
    "            \"label\": 5,\n",
    "            \"color\": [ 43, 206,  72, 128],\n",
    "            \"radius\": 130,\n",
    "            \"map_threshold\": 0.0278\n",
    "        },\n",
    "        {\n",
    "            \"name\": \"virus-like-particle\",\n",
    "            \"is_particle\": true,\n",
    "            \"label\": 6,\n",
    "            \"color\": [255, 204, 153, 128],\n",
    "            \"radius\": 135,\n",
    "            \"map_threshold\": 0.201\n",
    "        },\n",
    "        {\n",
    "            \"name\": \"membrane\",\n",
    "            \"is_particle\": false,\n",
    "            \"label\": 8,\n",
    "            \"color\": [100, 100, 100, 128]\n",
    "        },\n",
    "        {\n",
    "            \"name\": \"background\",\n",
    "            \"is_particle\": false,\n",
    "            \"label\": 9,\n",
    "            \"color\": [10, 150, 200, 128]\n",
    "        }\n",
    "    ],\n",
    "\n",
    "    \"overlay_root\": \"./kaggle/working/overlay\",\n",
    "\n",
    "    \"overlay_fs_args\": {\n",
    "        \"auto_mkdir\": true\n",
    "    },\n",
    "\n",
    "    \"static_root\": \"./kaggle/input/czii-cryo-et-object-identification/test/static\"\n",
    "}\"\"\"\n",
    "\n",
    "copick_config_path = \"./kaggle/working/copick.config\"\n",
    "preprocessor = Preprocessor(config_blob,copick_config_path=copick_config_path)\n",
    "non_random_transforms = Compose([\n",
    "    EnsureChannelFirstd(keys=[\"image\"], channel_dim=\"no_channel\"),\n",
    "    NormalizeIntensityd(keys=\"image\"),\n",
    "    Orientationd(keys=[\"image\"], axcodes=\"RAS\"),\n",
    "    GaussianSmoothd(\n",
    "        keys=[\"image\"],      # 변환을 적용할 키\n",
    "        sigma=[1.0, 1.0, 1.0]  # 각 축(x, y, z)의 시그마 값\n",
    "        ),\n",
    "    ])"
   ]
  },
  {
   "cell_type": "code",
   "execution_count": null,
   "metadata": {},
   "outputs": [
    {
     "name": "stderr",
     "output_type": "stream",
     "text": [
      "c:\\ProgramData\\anaconda3\\envs\\ship\\Lib\\site-packages\\monai\\utils\\deprecate_utils.py:221: FutureWarning: monai.networks.nets.swin_unetr SwinUNETR.__init__:img_size: Argument `img_size` has been deprecated since version 1.3. It will be removed in version 1.5. The img_size argument is not required anymore and checks on the input size are run during forward().\n",
      "  warn_deprecated(argname, msg, warning_category)\n",
      "C:\\Users\\Seungwoo\\AppData\\Local\\Temp\\ipykernel_6248\\2937359115.py:15: FutureWarning: You are using `torch.load` with `weights_only=False` (the current default value), which uses the default pickle module implicitly. It is possible to construct malicious pickle data which will execute arbitrary code during unpickling (See https://github.com/pytorch/pytorch/blob/main/SECURITY.md#untrusted-models for more details). In a future release, the default value for `weights_only` will be flipped to `True`. This limits the functions that could be executed during unpickling. Arbitrary objects will no longer be allowed to be loaded via this mode unless they are explicitly allowlisted by the user via `torch.serialization.add_safe_globals`. We recommend you start setting `weights_only=True` for any use case where you don't have full control of the loaded file. Please open an issue on GitHub for any issues related to this experimental feature.\n",
      "  checkpoint = torch.load(pretrain_path, map_location=device)\n"
     ]
    },
    {
     "data": {
      "text/plain": [
       "<All keys matched successfully>"
      ]
     },
     "execution_count": 15,
     "metadata": {},
     "output_type": "execute_result"
    }
   ],
   "source": [
    "img_size = 96\n",
    "img_depth = img_size\n",
    "n_classes = 7 \n",
    "\n",
    "device = torch.device(\"cuda\" if torch.cuda.is_available() else \"cpu\")\n",
    "pretrain_path = \"./model_checkpoints/SwinUNETR96_96_lr0.001_lambda0.52_batch2/best_model.pt\"\n",
    "model = SwinUNETR(\n",
    "    img_size=(img_depth, img_size, img_size),\n",
    "    in_channels=1,\n",
    "    out_channels=n_classes,\n",
    "    feature_size=48,\n",
    "    use_checkpoint=True,\n",
    ").to(device)\n",
    "# Pretrained weights 불러오기\n",
    "checkpoint = torch.load(pretrain_path, map_location=device)\n",
    "model.load_state_dict(checkpoint['model_state_dict'])\n"
   ]
  },
  {
   "cell_type": "code",
   "execution_count": null,
   "metadata": {},
   "outputs": [
    {
     "name": "stderr",
     "output_type": "stream",
     "text": [
      "Validation:   0%|          | 0/4 [00:03<?, ?it/s, loss=0.764]\n"
     ]
    },
    {
     "ename": "ZeroDivisionError",
     "evalue": "integer modulo by zero",
     "output_type": "error",
     "traceback": [
      "\u001b[1;31m---------------------------------------------------------------------------\u001b[0m",
      "\u001b[1;31mZeroDivisionError\u001b[0m                         Traceback (most recent call last)",
      "Cell \u001b[1;32mIn[16], line 1\u001b[0m\n\u001b[1;32m----> 1\u001b[0m val_loss \u001b[38;5;241m=\u001b[39m \u001b[43mvalidate_one_epoch\u001b[49m\u001b[43m(\u001b[49m\n\u001b[0;32m      2\u001b[0m \u001b[43m            \u001b[49m\u001b[43mmodel\u001b[49m\u001b[38;5;241;43m=\u001b[39;49m\u001b[43mmodel\u001b[49m\u001b[43m,\u001b[49m\u001b[43m \u001b[49m\n\u001b[0;32m      3\u001b[0m \u001b[43m            \u001b[49m\u001b[43mval_loader\u001b[49m\u001b[38;5;241;43m=\u001b[39;49m\u001b[43mval_loader\u001b[49m\u001b[43m,\u001b[49m\u001b[43m \u001b[49m\n\u001b[0;32m      4\u001b[0m \u001b[43m            \u001b[49m\u001b[43mcriterion\u001b[49m\u001b[38;5;241;43m=\u001b[39;49m\u001b[43mcriterion\u001b[49m\u001b[43m,\u001b[49m\u001b[43m \u001b[49m\n\u001b[0;32m      5\u001b[0m \u001b[43m            \u001b[49m\u001b[43mdevice\u001b[49m\u001b[38;5;241;43m=\u001b[39;49m\u001b[43mdevice\u001b[49m\u001b[43m,\u001b[49m\u001b[43m \u001b[49m\n\u001b[0;32m      6\u001b[0m \u001b[43m            \u001b[49m\u001b[43mepoch\u001b[49m\u001b[38;5;241;43m=\u001b[39;49m\u001b[38;5;241;43m1\u001b[39;49m\u001b[43m,\u001b[49m\u001b[43m \u001b[49m\n\u001b[0;32m      7\u001b[0m \u001b[43m            \u001b[49m\u001b[43mcalculate_dice_interval\u001b[49m\u001b[38;5;241;43m=\u001b[39;49m\u001b[38;5;241;43m0\u001b[39;49m\n\u001b[0;32m      8\u001b[0m \u001b[43m        \u001b[49m\u001b[43m)\u001b[49m\n",
      "Cell \u001b[1;32mIn[11], line 64\u001b[0m, in \u001b[0;36mvalidate_one_epoch\u001b[1;34m(model, val_loader, criterion, device, epoch, calculate_dice_interval)\u001b[0m\n\u001b[0;32m     61\u001b[0m pbar\u001b[38;5;241m.\u001b[39mset_postfix(loss\u001b[38;5;241m=\u001b[39mloss\u001b[38;5;241m.\u001b[39mitem())\n\u001b[0;32m     63\u001b[0m \u001b[38;5;66;03m# 각 클래스별 Dice 점수 계산\u001b[39;00m\n\u001b[1;32m---> 64\u001b[0m \u001b[38;5;28;01mif\u001b[39;00m \u001b[43mepoch\u001b[49m\u001b[43m \u001b[49m\u001b[38;5;241;43m%\u001b[39;49m\u001b[43m \u001b[49m\u001b[43mcalculate_dice_interval\u001b[49m \u001b[38;5;241m==\u001b[39m \u001b[38;5;241m0\u001b[39m:\n\u001b[0;32m     65\u001b[0m     \u001b[38;5;28;01mfor\u001b[39;00m i \u001b[38;5;129;01min\u001b[39;00m \u001b[38;5;28mrange\u001b[39m(n_classes):\n\u001b[0;32m     66\u001b[0m         pred_i \u001b[38;5;241m=\u001b[39m (preds \u001b[38;5;241m==\u001b[39m i)\n",
      "\u001b[1;31mZeroDivisionError\u001b[0m: integer modulo by zero"
     ]
    }
   ],
   "source": [
    "val_loss = validate_one_epoch(\n",
    "            model=model, \n",
    "            val_loader=val_loader, \n",
    "            criterion=criterion, \n",
    "            device=device, \n",
    "            epoch=1, \n",
    "            calculate_dice_interval=0\n",
    "        )"
   ]
  },
  {
   "cell_type": "code",
   "execution_count": null,
   "metadata": {},
   "outputs": [
    {
     "name": "stdout",
     "output_type": "stream",
     "text": [
      "Processing volume 1/7\n"
     ]
    },
    {
     "name": "stderr",
     "output_type": "stream",
     "text": [
      "Loading dataset: 100%|██████████| 1/1 [00:01<00:00,  1.94s/it]\n"
     ]
    },
    {
     "name": "stdout",
     "output_type": "stream",
     "text": [
      "Processing volume 2/7\n"
     ]
    },
    {
     "name": "stderr",
     "output_type": "stream",
     "text": [
      "Loading dataset: 100%|██████████| 1/1 [00:01<00:00,  1.89s/it]\n"
     ]
    },
    {
     "name": "stdout",
     "output_type": "stream",
     "text": [
      "Processing volume 3/7\n"
     ]
    },
    {
     "name": "stderr",
     "output_type": "stream",
     "text": [
      "Loading dataset: 100%|██████████| 1/1 [00:01<00:00,  1.79s/it]\n"
     ]
    },
    {
     "name": "stdout",
     "output_type": "stream",
     "text": [
      "Submission saved to: submission.csv\n"
     ]
    }
   ],
   "source": [
    "import torch\n",
    "import numpy as np\n",
    "from scipy.ndimage import label, center_of_mass\n",
    "import pandas as pd\n",
    "from tqdm import tqdm\n",
    "from monai.data import CacheDataset, DataLoader\n",
    "from monai.transforms import Compose, NormalizeIntensity\n",
    "import cc3d\n",
    "\n",
    "def dict_to_df(coord_dict, experiment_name):\n",
    "    all_coords = []\n",
    "    all_labels = []\n",
    "    \n",
    "    for label, coords in coord_dict.items():\n",
    "        all_coords.append(coords)\n",
    "        all_labels.extend([label] * len(coords))\n",
    "    \n",
    "    all_coords = np.vstack(all_coords)\n",
    "    df = pd.DataFrame({\n",
    "        'experiment': experiment_name,\n",
    "        'particle_type': all_labels,\n",
    "        'x': all_coords[:, 0],\n",
    "        'y': all_coords[:, 1],\n",
    "        'z': all_coords[:, 2]\n",
    "    })\n",
    "    return df\n",
    "\n",
    "id_to_name = {1: \"apo-ferritin\", \n",
    "              2: \"beta-amylase\",\n",
    "              3: \"beta-galactosidase\", \n",
    "              4: \"ribosome\", \n",
    "              5: \"thyroglobulin\", \n",
    "              6: \"virus-like-particle\"}\n",
    "BLOB_THRESHOLD = 200\n",
    "CERTAINTY_THRESHOLD = 0.05\n",
    "\n",
    "classes = [1, 2, 3, 4, 5, 6]\n",
    "\n",
    "model.eval()\n",
    "with torch.no_grad():\n",
    "    location_dfs = []  # DataFrame 리스트로 초기화\n",
    "    \n",
    "    for vol_idx, run in enumerate(preprocessor.root.runs):\n",
    "        print(f\"Processing volume {vol_idx + 1}/{len(preprocessor.root.runs)}\")\n",
    "        tomogram = preprocessor.processing(run=run, task=\"task\")\n",
    "        task_files = [{\"image\": tomogram}]\n",
    "        task_ds = CacheDataset(data=task_files, transform=non_random_transforms)\n",
    "        task_loader = DataLoader(task_ds, batch_size=1, num_workers=0)\n",
    "        \n",
    "        for task_data in task_loader:\n",
    "            images = task_data['image'].to(\"cuda\")\n",
    "            outputs = sliding_window_inference(\n",
    "                inputs=images,\n",
    "                roi_size=(96, 96, 96),  # ROI 크기\n",
    "                sw_batch_size=4,\n",
    "                predictor=model.forward,\n",
    "                overlap=0.1,\n",
    "                sw_device=\"cuda\",\n",
    "                device=\"cpu\",\n",
    "                buffer_steps=1,\n",
    "                buffer_dim=-1\n",
    "            )\n",
    "            outputs = outputs.argmax(dim=1).squeeze(0).cpu().numpy()  # 클래스 채널 예측\n",
    "            location = {}  # 좌표 저장용 딕셔너리\n",
    "            for c in classes:\n",
    "                cc = cc3d.connected_components(outputs == c)  # cc3d 라벨링\n",
    "                stats = cc3d.statistics(cc)\n",
    "                zyx = stats['centroids'][1:] * 10.012444  # 스케일 변환\n",
    "                zyx_large = zyx[stats['voxel_counts'][1:] > BLOB_THRESHOLD]  # 크기 필터링\n",
    "                xyz = np.ascontiguousarray(zyx_large[:, ::-1])  # 좌표 스왑 (z, y, x -> x, y, z)\n",
    "\n",
    "                location[id_to_name[c]] = xyz  # ID 이름 매칭 저장\n",
    "\n",
    "            # 데이터프레임 변환\n",
    "            df = dict_to_df(location, run.name)\n",
    "            location_dfs.append(df)  # 리스트에 추가\n",
    "        \n",
    "        # if vol_idx == 2:\n",
    "        #     break\n",
    "    \n",
    "    # DataFrame 병합\n",
    "    final_df = pd.concat(location_dfs, ignore_index=True)\n",
    "    \n",
    "    # ID 추가 및 CSV 저장\n",
    "    final_df.insert(loc=0, column='id', value=np.arange(len(final_df)))\n",
    "    final_df.to_csv(\"submission.csv\", index=False)\n",
    "    print(\"Submission saved to: submission.csv\")\n"
   ]
  }
 ],
 "metadata": {
  "kernelspec": {
   "display_name": "UM",
   "language": "python",
   "name": "python3"
  },
  "language_info": {
   "codemirror_mode": {
    "name": "ipython",
    "version": 3
   },
   "file_extension": ".py",
   "mimetype": "text/x-python",
   "name": "python",
   "nbconvert_exporter": "python",
   "pygments_lexer": "ipython3",
   "version": "3.12.7"
  }
 },
 "nbformat": 4,
 "nbformat_minor": 2
}
