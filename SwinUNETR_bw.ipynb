{
 "cells": [
  {
   "cell_type": "code",
   "execution_count": 3,
   "metadata": {},
   "outputs": [
    {
     "name": "stderr",
     "output_type": "stream",
     "text": [
      "c:\\Users\\pook0\\.conda\\envs\\UM\\Lib\\site-packages\\tqdm\\auto.py:21: TqdmWarning: IProgress not found. Please update jupyter and ipywidgets. See https://ipywidgets.readthedocs.io/en/stable/user_install.html\n",
      "  from .autonotebook import tqdm as notebook_tqdm\n"
     ]
    },
    {
     "name": "stdout",
     "output_type": "stream",
     "text": [
      "MONAI version: 1.4.0\n",
      "Numpy version: 1.26.4\n",
      "Pytorch version: 2.4.1+cu121\n",
      "MONAI flags: HAS_EXT = False, USE_COMPILED = False, USE_META_DICT = False\n",
      "MONAI rev id: 46a5272196a6c2590ca2589029eed8e4d56ff008\n",
      "MONAI __file__: c:\\Users\\<username>\\.conda\\envs\\UM\\Lib\\site-packages\\monai\\__init__.py\n",
      "\n",
      "Optional dependencies:\n",
      "Pytorch Ignite version: NOT INSTALLED or UNKNOWN VERSION.\n",
      "ITK version: NOT INSTALLED or UNKNOWN VERSION.\n",
      "Nibabel version: 5.3.2\n",
      "scikit-image version: 0.24.0\n",
      "scipy version: 1.14.1\n",
      "Pillow version: 10.2.0\n",
      "Tensorboard version: 2.18.0\n",
      "gdown version: 5.2.0\n",
      "TorchVision version: 0.19.1+cu121\n",
      "tqdm version: 4.66.5\n",
      "lmdb version: NOT INSTALLED or UNKNOWN VERSION.\n",
      "psutil version: 6.0.0\n",
      "pandas version: 2.2.3\n",
      "einops version: 0.8.0\n",
      "transformers version: NOT INSTALLED or UNKNOWN VERSION.\n",
      "mlflow version: 2.17.2\n",
      "pynrrd version: NOT INSTALLED or UNKNOWN VERSION.\n",
      "clearml version: NOT INSTALLED or UNKNOWN VERSION.\n",
      "\n",
      "For details about installing the optional dependencies, please visit:\n",
      "    https://docs.monai.io/en/latest/installation.html#installing-the-recommended-dependencies\n",
      "\n"
     ]
    }
   ],
   "source": [
    "import os\n",
    "import shutil\n",
    "import tempfile\n",
    "\n",
    "import matplotlib.pyplot as plt\n",
    "from tqdm import tqdm\n",
    "\n",
    "from monai.losses import DiceCELoss\n",
    "from monai.inferers import sliding_window_inference\n",
    "from monai.transforms import (\n",
    "    AsDiscrete,\n",
    "    EnsureChannelFirstd,\n",
    "    Compose,\n",
    "    CropForegroundd,\n",
    "    LoadImaged,\n",
    "    Orientationd,\n",
    "    RandFlipd,\n",
    "    RandCropByPosNegLabeld,\n",
    "    RandShiftIntensityd,\n",
    "    ScaleIntensityRanged,\n",
    "    Spacingd,\n",
    "    RandRotate90d,\n",
    ")\n",
    "\n",
    "from monai.config import print_config\n",
    "from monai.metrics import DiceMetric\n",
    "from monai.networks.nets import UNETR, SwinUNETR\n",
    "\n",
    "from monai.data import (\n",
    "    DataLoader,\n",
    "    CacheDataset,\n",
    "    load_decathlon_datalist,\n",
    "    decollate_batch,\n",
    ")\n",
    "\n",
    "\n",
    "import torch\n",
    "\n",
    "print_config()"
   ]
  },
  {
   "cell_type": "code",
   "execution_count": 4,
   "metadata": {},
   "outputs": [],
   "source": [
    "# class_info = {\n",
    "#     0: {\"name\": \"background\", \"weight\": 10000},  # weight 없음\n",
    "#     1: {\"name\": \"apo-ferritin\", \"weight\": 300},\n",
    "#     2: {\"name\": \"beta-amylase\", \"weight\": 100}, # 4130\n",
    "#     3: {\"name\": \"beta-galactosidase\", \"weight\": 150}, #3080\n",
    "#     4: {\"name\": \"ribosome\", \"weight\": 6000},\n",
    "#     5: {\"name\": \"thyroglobulin\", \"weight\": 4000},\n",
    "#     6: {\"name\": \"virus-like-particle\", \"weight\": 2000},\n",
    "# }\n",
    "\n",
    "# # 가중치에 비례한 비율 계산\n",
    "# raw_ratios = {\n",
    "#     k: (v[\"weight\"] if v[\"weight\"] is not None else 0.01)  # 가중치 비례, None일 경우 기본값\n",
    "#     for k, v in class_info.items()\n",
    "# }\n",
    "# total = sum(raw_ratios.values())\n",
    "# ratios = {k: v / total for k, v in raw_ratios.items()}\n",
    "\n",
    "# # 최종 합계가 1인지 확인\n",
    "# final_total = sum(ratios.values())\n",
    "# print(\"클래스 비율:\", ratios)\n",
    "# print(\"최종 합계:\", final_total)\n",
    "\n",
    "# # 비율을 리스트로 변환\n",
    "# ratios_list = [ratios[k] for k in sorted(ratios.keys())]\n",
    "# print(\"클래스 비율 리스트:\", ratios_list)"
   ]
  },
  {
   "cell_type": "code",
   "execution_count": 5,
   "metadata": {},
   "outputs": [
    {
     "name": "stdout",
     "output_type": "stream",
     "text": [
      "반비례 클래스 비율: {0: 0.0031380753138075318, 1: 0.10460251046025104, 2: 0.0031380753138075318, 3: 0.3138075313807531, 4: 0.10460251046025104, 5: 0.3138075313807531, 6: 0.15690376569037656}\n",
      "최종 합계: 1.0\n",
      "반비례 클래스 비율 리스트: [0.0031380753138075318, 0.10460251046025104, 0.0031380753138075318, 0.3138075313807531, 0.10460251046025104, 0.3138075313807531, 0.15690376569037656]\n"
     ]
    }
   ],
   "source": [
    "class_info = {\n",
    "    0: {\"name\": \"background\", \"weight\": 100000},  # weight 없음\n",
    "    1: {\"name\": \"apo-ferritin\", \"weight\": 3000},\n",
    "    2: {\"name\": \"beta-amylase\", \"weight\": 100000}, # 100\n",
    "    3: {\"name\": \"beta-galactosidase\", \"weight\": 1000}, #3080\n",
    "    4: {\"name\": \"ribosome\", \"weight\": 3000}, #6000\n",
    "    5: {\"name\": \"thyroglobulin\", \"weight\": 1000},\n",
    "    6: {\"name\": \"virus-like-particle\", \"weight\": 2000},\n",
    "}\n",
    "\n",
    "# 가중치의 역수 계산 (0인 경우 작은 값을 대체)\n",
    "inverse_ratios = {\n",
    "    k: (1 / v[\"weight\"] if v[\"weight\"] > 0 else 1e-6)\n",
    "    for k, v in class_info.items()\n",
    "}\n",
    "\n",
    "# 정규화하여 비율 계산\n",
    "total_inverse = sum(inverse_ratios.values())\n",
    "ratios_inverse = {k: v / total_inverse for k, v in inverse_ratios.items()}\n",
    "\n",
    "# 최종 합계가 1인지 확인\n",
    "final_total_inverse = sum(ratios_inverse.values())\n",
    "print(\"반비례 클래스 비율:\", ratios_inverse)\n",
    "print(\"최종 합계:\", final_total_inverse)\n",
    "\n",
    "# 비율을 리스트로 변환\n",
    "ratios_list = [ratios_inverse[k] for k in sorted(ratios_inverse.keys())]\n",
    "print(\"반비례 클래스 비율 리스트:\", ratios_list)\n"
   ]
  },
  {
   "cell_type": "code",
   "execution_count": 6,
   "metadata": {},
   "outputs": [],
   "source": [
    "from src.dataset.dataset import create_dataloaders\n",
    "from monai.transforms import (\n",
    "    Compose, LoadImaged, EnsureChannelFirstd, NormalizeIntensityd,\n",
    "    Orientationd, CropForegroundd, GaussianSmoothd, ScaleIntensityd,\n",
    "    RandSpatialCropd, RandRotate90d, RandFlipd, RandGaussianNoised,\n",
    "    ToTensord, RandCropByLabelClassesd\n",
    ")\n",
    "\n",
    "train_img_dir = \"./datasets/train/images\"\n",
    "train_label_dir = \"./datasets/train/labels\"\n",
    "val_img_dir = \"./datasets/val/images\"\n",
    "val_label_dir = \"./datasets/val/labels\"\n",
    "img_depth = 64\n",
    "img_size = 64  # Match your patch size\n",
    "n_classes = 7\n",
    "batch_size = 6 # 13.8GB GPU memory required for 128x128 img size\n",
    "num_samples = batch_size # 한 이미지에서 뽑을 샘플 수\n",
    "loader_batch = 1\n",
    "\n",
    "non_random_transforms = Compose([\n",
    "    EnsureChannelFirstd(keys=[\"image\", \"label\"], channel_dim=\"no_channel\"),\n",
    "    NormalizeIntensityd(keys=\"image\"),\n",
    "    Orientationd(keys=[\"image\", \"label\"], axcodes=\"RAS\"),\n",
    "    GaussianSmoothd(\n",
    "        keys=[\"image\"],      # 변환을 적용할 키\n",
    "        sigma=[1.0, 1.0, 1.0]  # 각 축(x, y, z)의 시그마 값\n",
    "        ),\n",
    "])\n",
    "random_transforms = Compose([\n",
    "    RandCropByLabelClassesd(\n",
    "        keys=[\"image\", \"label\"],\n",
    "        label_key=\"label\",\n",
    "        spatial_size=[img_depth, img_size, img_size],\n",
    "        num_classes=n_classes,\n",
    "        num_samples=num_samples, \n",
    "        ratios=ratios_list,\n",
    "    ),\n",
    "    RandRotate90d(keys=[\"image\", \"label\"], prob=0.5, spatial_axes=[1, 2]),\n",
    "    RandFlipd(keys=[\"image\", \"label\"], prob=0.5, spatial_axis=0),\n",
    "    RandFlipd(keys=[\"image\", \"label\"], prob=0.5, spatial_axis=1),\n",
    "    RandFlipd(keys=[\"image\", \"label\"], prob=0.5, spatial_axis=2),\n",
    "])\n"
   ]
  },
  {
   "cell_type": "code",
   "execution_count": 7,
   "metadata": {},
   "outputs": [
    {
     "name": "stderr",
     "output_type": "stream",
     "text": [
      "Loading dataset: 100%|██████████| 24/24 [00:43<00:00,  1.82s/it]\n",
      "Loading dataset: 100%|██████████| 4/4 [00:06<00:00,  1.72s/it]\n"
     ]
    }
   ],
   "source": [
    "train_loader, val_loader = None, None\n",
    "train_loader, val_loader = create_dataloaders(\n",
    "    train_img_dir, \n",
    "    train_label_dir, \n",
    "    val_img_dir, \n",
    "    val_label_dir, \n",
    "    non_random_transforms = non_random_transforms, \n",
    "    random_transforms = random_transforms, \n",
    "    batch_size = loader_batch,\n",
    "    num_workers=0)"
   ]
  },
  {
   "cell_type": "markdown",
   "metadata": {},
   "source": [
    "https://monai.io/model-zoo.html"
   ]
  },
  {
   "cell_type": "code",
   "execution_count": 8,
   "metadata": {},
   "outputs": [],
   "source": [
    "from monai.losses import TverskyLoss\n",
    "import torch\n",
    "\n",
    "def loss_fn(loss, class_weights, device):\n",
    "    \"\"\"\n",
    "    Tversky 손실에 클래스별 가중치를 적용하여 최종 스칼라 값을 반환합니다.\n",
    "\n",
    "    Args:\n",
    "        loss: Tversky 손실 텐서 (B, num_classes, H, W, D).\n",
    "        class_weights: 클래스별 가중치 텐서 (num_classes,).\n",
    "        device: 사용할 장치 (예: 'cuda' 또는 'cpu').\n",
    "\n",
    "    Returns:\n",
    "        torch.Tensor: 최종 가중 평균 손실 값 (스칼라).\n",
    "    \"\"\"\n",
    "    # 가중치를 device로 이동\n",
    "    class_weights = class_weights.to(device)\n",
    "\n",
    "    # 클래스 차원에 가중치 적용 (B, num_classes, ...)\n",
    "    class_weights = class_weights.view(1, n_classes, 1, 1, 1)  # [1, num_classes, 1, 1, 1]\n",
    "    weighted_loss = loss * class_weights\n",
    "\n",
    "    # 모든 차원을 평균 내어 스칼라 손실 반환\n",
    "    final_loss = torch.mean(weighted_loss)\n",
    "    return final_loss"
   ]
  },
  {
   "cell_type": "code",
   "execution_count": 9,
   "metadata": {},
   "outputs": [
    {
     "name": "stderr",
     "output_type": "stream",
     "text": [
      "c:\\Users\\pook0\\.conda\\envs\\UM\\Lib\\site-packages\\monai\\utils\\deprecate_utils.py:221: FutureWarning: monai.networks.nets.swin_unetr SwinUNETR.__init__:img_size: Argument `img_size` has been deprecated since version 1.3. It will be removed in version 1.5. The img_size argument is not required anymore and checks on the input size are run during forward().\n",
      "  warn_deprecated(argname, msg, warning_category)\n"
     ]
    }
   ],
   "source": [
    "import torch.optim as optim\n",
    "from tqdm import tqdm\n",
    "import numpy as np\n",
    "import torch\n",
    "from pathlib import Path\n",
    "from monai.metrics import DiceMetric\n",
    "# Model Configuration\n",
    "start_epoch = 0\n",
    "best_val_loss = float('inf')\n",
    "best_val_fbeta_score = 0\n",
    "# Training setup\n",
    "num_epochs = 4000\n",
    "lamda = 0.5\n",
    "lr = 0.001\n",
    "feature_size = 24\n",
    "\n",
    "class_weights = torch.tensor([0.01, 1, 0.01, 1, 1, 1, 1], dtype=torch.float32)  # 클래스별 가중치\n",
    "device = torch.device(\"cuda\" if torch.cuda.is_available() else \"cpu\")\n",
    "\n",
    "model = SwinUNETR(\n",
    "    img_size=(img_depth, img_size, img_size),\n",
    "    in_channels=1,\n",
    "    out_channels=n_classes,\n",
    "    feature_size=feature_size,\n",
    "    use_checkpoint=False,\n",
    ").to(device)\n",
    "# Pretrained weights 불러오기\n",
    "# pretrain_path = \"./swin_unetr_btcv_segmentation/models/model.pt\"\n",
    "# weight = torch.load(pretrain_path, map_location=device)\n",
    "\n",
    "# # 출력 레이어의 키를 제외한 나머지 가중치만 로드\n",
    "# filtered_weights = {k: v for k, v in weight.items() if \"out.conv.conv\" not in k}\n",
    "\n",
    "# # strict=False로 로드하여 불일치하는 부분 무시\n",
    "# model.load_state_dict(filtered_weights, strict=False)\n",
    "# print(\"Filtered weights loaded successfully. Output layer will be trained from scratch.\")\n",
    "\n",
    "# Load pretrained weights\n",
    "# model.load_from(weights=np.load(config_vit.real_pretrained_path, allow_pickle=True))\n",
    "# TverskyLoss 설정\n",
    "'''\n",
    "criterion = TverskyLoss(\n",
    "    alpha= 1 - lamda,  # FP에 대한 가중치\n",
    "    beta=lamda,       # FN에 대한 가중치\n",
    "    include_background=False,  # 배경 클래스 제외\n",
    "    reduction=\"none\",  # 각 픽셀에 대한 손실 반환\n",
    "    softmax=True\n",
    ")\n",
    "'''\n",
    "# 손실 함수 초기화\n",
    "from monai.losses import TverskyLoss\n",
    "\n",
    "class DynamicTverskyLoss(TverskyLoss):\n",
    "    def __init__(self, lamda=0.5, **kwargs):\n",
    "        super().__init__(alpha=1 - lamda, beta=lamda, **kwargs)\n",
    "        self.lamda = lamda\n",
    "\n",
    "    def set_lamda(self, lamda):\n",
    "        self.lamda = lamda\n",
    "        self.alpha = 1 - lamda\n",
    "        self.beta = lamda\n",
    "        \n",
    "criterion = DynamicTverskyLoss(\n",
    "    lamda=0.5,\n",
    "    include_background=False,\n",
    "    reduction=\"mean\",\n",
    "    softmax=True\n",
    ")\n",
    "# 체크포인트 디렉토리 및 파일 설정\n",
    "checkpoint_base_dir = Path(\"./model_checkpoints\")\n",
    "checkpoint_dir = checkpoint_base_dir / f\"SwinUNETR_no_pretrain_filps_dynamic_lamda_f{feature_size}_{img_depth}_{img_size}_lr{lr}_lambda{lamda}_batch{batch_size}\"\n",
    "optimizer = optim.AdamW(model.parameters(), lr=lr, weight_decay=1e-5)\n",
    "\n",
    "# 체크포인트 디렉토리 생성\n",
    "checkpoint_dir.mkdir(parents=True, exist_ok=True)\n",
    "\n",
    "if checkpoint_dir.exists():\n",
    "    best_model_path = checkpoint_dir / 'best_model.pt'\n",
    "    if best_model_path.exists():\n",
    "        print(f\"기존 best model 발견: {best_model_path}\")\n",
    "        try:\n",
    "            checkpoint = torch.load(best_model_path, map_location=device)\n",
    "            # 체크포인트 내부 키 검증\n",
    "            required_keys = ['model_state_dict', 'optimizer_state_dict', 'epoch', 'best_val_loss']\n",
    "            if all(k in checkpoint for k in required_keys):\n",
    "                model.load_state_dict(checkpoint['model_state_dict'])\n",
    "                optimizer.load_state_dict(checkpoint['optimizer_state_dict'])\n",
    "                start_epoch = checkpoint['epoch']\n",
    "                best_val_loss = checkpoint['best_val_loss']\n",
    "                print(\"기존 학습된 가중치를 성공적으로 로드했습니다.\")\n",
    "            else:\n",
    "                raise ValueError(\"체크포인트 파일에 필요한 key가 없습니다.\")\n",
    "        except Exception as e:\n",
    "            print(f\"체크포인트 파일을 로드하는 중 오류 발생: {e}\")\n"
   ]
  },
  {
   "cell_type": "code",
   "execution_count": 10,
   "metadata": {},
   "outputs": [
    {
     "name": "stdout",
     "output_type": "stream",
     "text": [
      "torch.Size([6, 1, 64, 64, 64]) torch.Size([6, 1, 64, 64, 64])\n"
     ]
    }
   ],
   "source": [
    "batch = next(iter(val_loader))\n",
    "images, labels = batch[\"image\"], batch[\"label\"]\n",
    "print(images.shape, labels.shape)"
   ]
  },
  {
   "cell_type": "code",
   "execution_count": 11,
   "metadata": {},
   "outputs": [],
   "source": [
    "torch.backends.cudnn.benchmark = True"
   ]
  },
  {
   "cell_type": "code",
   "execution_count": 12,
   "metadata": {},
   "outputs": [
    {
     "name": "stderr",
     "output_type": "stream",
     "text": [
      "\u001b[34m\u001b[1mwandb\u001b[0m: Using wandb-core as the SDK backend.  Please refer to https://wandb.me/wandb-core for more information.\n",
      "\u001b[34m\u001b[1mwandb\u001b[0m: Currently logged in as: \u001b[33mpook0612\u001b[0m (\u001b[33mlimbw\u001b[0m). Use \u001b[1m`wandb login --relogin`\u001b[0m to force relogin\n"
     ]
    },
    {
     "data": {
      "text/html": [
       "Tracking run with wandb version 0.19.1"
      ],
      "text/plain": [
       "<IPython.core.display.HTML object>"
      ]
     },
     "metadata": {},
     "output_type": "display_data"
    },
    {
     "data": {
      "text/html": [
       "Run data is saved locally in <code>d:\\Workspace\\czll\\wandb\\run-20241221_022719-co5b6kzy</code>"
      ],
      "text/plain": [
       "<IPython.core.display.HTML object>"
      ]
     },
     "metadata": {},
     "output_type": "display_data"
    },
    {
     "data": {
      "text/html": [
       "Syncing run <strong><a href='https://wandb.ai/limbw/czii_SwinUnetR/runs/co5b6kzy' target=\"_blank\">SwinUNETR_lr0.001_bs6_lambda0.5_20241221_022718</a></strong> to <a href='https://wandb.ai/limbw/czii_SwinUnetR' target=\"_blank\">Weights & Biases</a> (<a href='https://wandb.me/developer-guide' target=\"_blank\">docs</a>)<br>"
      ],
      "text/plain": [
       "<IPython.core.display.HTML object>"
      ]
     },
     "metadata": {},
     "output_type": "display_data"
    },
    {
     "data": {
      "text/html": [
       " View project at <a href='https://wandb.ai/limbw/czii_SwinUnetR' target=\"_blank\">https://wandb.ai/limbw/czii_SwinUnetR</a>"
      ],
      "text/plain": [
       "<IPython.core.display.HTML object>"
      ]
     },
     "metadata": {},
     "output_type": "display_data"
    },
    {
     "data": {
      "text/html": [
       " View run at <a href='https://wandb.ai/limbw/czii_SwinUnetR/runs/co5b6kzy' target=\"_blank\">https://wandb.ai/limbw/czii_SwinUnetR/runs/co5b6kzy</a>"
      ],
      "text/plain": [
       "<IPython.core.display.HTML object>"
      ]
     },
     "metadata": {},
     "output_type": "display_data"
    }
   ],
   "source": [
    "import wandb\n",
    "from datetime import datetime\n",
    "\n",
    "current_time = datetime.now().strftime('%Y%m%d_%H%M%S')\n",
    "run_name = f'SwinUNETR_lr{lr}_bs{batch_size}_lambda{lamda}_{current_time}'\n",
    "\n",
    "# wandb 초기화\n",
    "wandb.init(\n",
    "    project='czii_SwinUnetR',  # 프로젝트 이름 설정\n",
    "    name=run_name,         # 실행(run) 이름 설정\n",
    "    config={\n",
    "        'num_epochs': num_epochs,\n",
    "        'learning_rate': lr,\n",
    "        'batch_size': batch_size,\n",
    "        'lambda': lamda,\n",
    "        'feature_size': feature_size,\n",
    "        'img_size': img_size,\n",
    "        'sampling_ratio': ratios_list,\n",
    "        'device': device.type,\n",
    "        \"checkpoint_dir\": str(checkpoint_dir),\n",
    "        \"class_weights\": class_weights.tolist(),\n",
    "        # 필요한 하이퍼파라미터 추가\n",
    "    }\n",
    ")\n",
    "# 모델을 wandb에 연결\n",
    "wandb.watch(model, log='all')"
   ]
  },
  {
   "cell_type": "code",
   "execution_count": 13,
   "metadata": {},
   "outputs": [],
   "source": [
    "from monai.metrics import DiceMetric\n",
    "\n",
    "def create_metric_dict(num_classes):\n",
    "    \"\"\"각 클래스별 DiceMetric 생성\"\"\"\n",
    "    metrics = {}\n",
    "    for i in range(num_classes):\n",
    "        metrics[f'dice_class_{i}'] = DiceMetric(\n",
    "            include_background=False if i == 0 else False,\n",
    "            reduction=\"mean\",\n",
    "            get_not_nans=False\n",
    "        )\n",
    "    return metrics\n",
    "    \n",
    "def processing(batch_data, model, criterion, device):\n",
    "    images = batch_data['image'].to(device)  # Input 이미지 (B, 1, 96, 96, 96)\n",
    "    labels = batch_data['label'].to(device)  # 라벨 (B, 96, 96, 96)\n",
    "\n",
    "    labels = labels.squeeze(1)  # (B, 1, 96, 96, 96) → (B, 96, 96, 96)\n",
    "    labels = labels.long()  # 라벨을 정수형으로 변환\n",
    "\n",
    "    # 원핫 인코딩 (B, H, W, D) → (B, num_classes, H, W, D)\n",
    "    \n",
    "    labels_onehot = torch.nn.functional.one_hot(labels, num_classes=n_classes)\n",
    "    labels_onehot = labels_onehot.permute(0, 4, 1, 2, 3).float()  # (B, num_classes, H, W, D)\n",
    "\n",
    "    # 모델 예측\n",
    "    outputs = model(images)  # outputs: (B, num_classes, H, W, D)\n",
    "\n",
    "    # Loss 계산\n",
    "    # loss = loss_fn(criterion(outputs, labels_onehot), class_weights, device)\n",
    "    loss = loss_fn(criterion(outputs, labels_onehot),class_weights=class_weights, device=device)\n",
    "    return loss, outputs, labels, outputs.argmax(dim=1)\n",
    "\n",
    "def train_one_epoch(model, train_loader, criterion, optimizer, device, epoch):\n",
    "    model.train()\n",
    "    epoch_loss = 0\n",
    "    with tqdm(train_loader, desc='Training') as pbar:\n",
    "        for batch_data in pbar:\n",
    "            optimizer.zero_grad()\n",
    "            loss, _, _, _ = processing(batch_data, model, criterion, device)\n",
    "            loss.backward()\n",
    "            optimizer.step()\n",
    "\n",
    "            epoch_loss += loss.item()\n",
    "            pbar.set_postfix(loss=loss.item())\n",
    "    avg_loss = epoch_loss / len(train_loader)\n",
    "    wandb.log({'train_epoch_loss': avg_loss, 'epoch': epoch + 1})\n",
    "    return epoch_loss / len(train_loader)\n",
    "\n",
    "def validate_one_epoch(model, val_loader, criterion, device, epoch, calculate_dice_interval):\n",
    "    model.eval()\n",
    "    val_loss = 0\n",
    "    metrics = create_metric_dict(n_classes)\n",
    "    class_dice_scores = {i: [] for i in range(n_classes)}\n",
    "    class_f_beta_scores = {i: [] for i in range(n_classes)}\n",
    "    with torch.no_grad():\n",
    "        with tqdm(val_loader, desc='Validation') as pbar:\n",
    "            for batch_data in pbar:\n",
    "                loss, _, labels, preds = processing(batch_data, model, criterion, device)\n",
    "                val_loss += loss.item()\n",
    "                pbar.set_postfix(loss=loss.item())\n",
    "\n",
    "                # 각 클래스별 Dice 점수 계산\n",
    "                if epoch % calculate_dice_interval == 0:\n",
    "                    for i in range(n_classes):\n",
    "                        pred_i = (preds == i)\n",
    "                        label_i = (labels == i)\n",
    "                        dice_score = (2.0 * torch.sum(pred_i & label_i)) / (torch.sum(pred_i) + torch.sum(label_i) + 1e-8)\n",
    "                        class_dice_scores[i].append(dice_score.item())\n",
    "                        precision = (torch.sum(pred_i & label_i) + 1e-8) / (torch.sum(pred_i) + 1e-8)\n",
    "                        recall = (torch.sum(pred_i & label_i) + 1e-8) / (torch.sum(label_i) + 1e-8)\n",
    "                        f_beta_score = (1 + 4**2) * (precision * recall) / (4**2 * precision + recall + 1e-8)\n",
    "                        class_f_beta_scores[i].append(f_beta_score.item())\n",
    "\n",
    "    avg_loss = val_loss / len(val_loader)\n",
    "    # 에포크별 평균 손실 로깅\n",
    "    wandb.log({'val_epoch_loss': avg_loss, 'epoch': epoch + 1})\n",
    "    \n",
    "    # 각 클래스별 평균 Dice 점수 출력\n",
    "    if epoch % calculate_dice_interval == 0:\n",
    "        print(\"Validation Dice Score\")\n",
    "        all_classes_dice_scores = []\n",
    "        for i in range(n_classes):\n",
    "            mean_dice = np.mean(class_dice_scores[i])\n",
    "            wandb.log({f'class_{i}_dice_score': mean_dice, 'epoch': epoch + 1})\n",
    "            print(f\"Class {i}: {mean_dice:.4f}\", end=\", \")\n",
    "            if i not in [0, 2]:  # 평균에 포함할 클래스만 추가\n",
    "                all_classes_dice_scores.append(mean_dice)\n",
    "            if i == 3:\n",
    "                print()\n",
    "        print()\n",
    "    if epoch % calculate_dice_interval == 0:\n",
    "        print(\"Validation F-beta Score\")\n",
    "        all_classes_fbeta_scores = []\n",
    "        for i in range(n_classes):\n",
    "            mean_fbeta = np.mean(class_f_beta_scores[i])\n",
    "            wandb.log({f'class_{i}_f_beta_score': mean_fbeta, 'epoch': epoch + 1})\n",
    "            print(f\"Class {i}: {mean_fbeta:.4f}\", end=\", \")\n",
    "            if i not in [0, 2]:  # 평균에 포함할 클래스만 추가\n",
    "                all_classes_fbeta_scores.append(mean_fbeta)\n",
    "            if i == 3:\n",
    "                print()\n",
    "        overall_mean_dice = np.mean(all_classes_dice_scores)\n",
    "        overall_mean_fbeta = np.mean(all_classes_fbeta_scores)\n",
    "        wandb.log({'overall_mean_f_beta_score': overall_mean_fbeta, 'overall_mean_dice_score': overall_mean_dice, 'epoch': epoch + 1})\n",
    "        print(f\"\\nOverall Mean Dice Score: {overall_mean_dice:.4f}\\nOverall Mean F-beta Score: {overall_mean_fbeta:.4f}\\n\")\n",
    "\n",
    "    if overall_mean_fbeta is None:\n",
    "        overall_mean_fbeta = 0\n",
    "\n",
    "    return val_loss / len(val_loader), overall_mean_fbeta\n",
    "\n",
    "\n",
    "def train_model(\n",
    "    model, train_loader, val_loader, criterion, optimizer, num_epochs, patience, \n",
    "    device, start_epoch, best_val_loss, best_val_fbeta_score, calculate_dice_interval=1\n",
    "):\n",
    "    \"\"\"\n",
    "    모델을 학습하고 검증하는 함수\n",
    "    Args:\n",
    "        model: 학습할 모델\n",
    "        train_loader: 학습 데이터 로더\n",
    "        val_loader: 검증 데이터 로더\n",
    "        criterion: 손실 함수\n",
    "        optimizer: 최적화 알고리즘\n",
    "        num_epochs: 총 학습 epoch 수\n",
    "        patience: early stopping 기준\n",
    "        device: GPU/CPU 장치\n",
    "        start_epoch: 시작 epoch\n",
    "        best_val_loss: 이전 최적 validation loss\n",
    "        best_val_fbeta_score: 이전 최적 validation f-beta score\n",
    "        calculate_dice_interval: Dice 점수 계산 주기\n",
    "    \"\"\"\n",
    "    epochs_no_improve = 0\n",
    "\n",
    "    for epoch in range(start_epoch, num_epochs):\n",
    "        print(f\"Epoch {epoch + 1}/{num_epochs}\")\n",
    "         # 현재 lambda 값 출력\n",
    "        print(f\"Current lambda: {criterion.lamda:.4f}\")\n",
    "        # Train One Epoch\n",
    "        train_loss = train_one_epoch(\n",
    "            model=model, \n",
    "            train_loader=train_loader, \n",
    "            criterion=criterion, \n",
    "            optimizer=optimizer, \n",
    "            device=device,\n",
    "            epoch=epoch\n",
    "        )\n",
    "\n",
    "        # Validate One Epoch\n",
    "        val_loss, overall_mean_fbeta_score = validate_one_epoch(\n",
    "            model=model, \n",
    "            val_loader=val_loader, \n",
    "            criterion=criterion, \n",
    "            device=device, \n",
    "            epoch=epoch, \n",
    "            calculate_dice_interval=calculate_dice_interval\n",
    "        )\n",
    "\n",
    "        \n",
    "        print(f\"Training Loss: {train_loss:.4f}, Validation Loss: {val_loss:.4f}, Validation F-beta: {overall_mean_fbeta_score:.4f}\")\n",
    "\n",
    "        if val_loss < best_val_loss and overall_mean_fbeta_score > best_val_fbeta_score:\n",
    "            best_val_loss = val_loss\n",
    "            best_val_fbeta_score = overall_mean_fbeta_score\n",
    "            epochs_no_improve = 0\n",
    "            checkpoint_path = os.path.join(checkpoint_dir, 'best_model.pt')\n",
    "            torch.save({\n",
    "                'epoch': epoch + 1,\n",
    "                'model_state_dict': model.state_dict(),\n",
    "                'optimizer_state_dict': optimizer.state_dict(),\n",
    "                'best_val_loss': best_val_loss,\n",
    "                'best_val_fbeta_score': best_val_fbeta_score\n",
    "            }, checkpoint_path)\n",
    "            print(f\"========================================================\")\n",
    "            print(f\"SUPER Best model saved. Loss:{best_val_loss:.4f}, Score:{best_val_fbeta_score:.4f}\")\n",
    "            print(f\"========================================================\")\n",
    "        \n",
    "        # Validation Loss 기준 모델 저장\n",
    "        if val_loss < best_val_loss:\n",
    "            best_val_loss = val_loss\n",
    "            epochs_no_improve = 0\n",
    "            checkpoint_path = os.path.join(checkpoint_dir, 'best_model_val_loss.pt')\n",
    "            torch.save({\n",
    "                'epoch': epoch + 1,\n",
    "                'model_state_dict': model.state_dict(),\n",
    "                'optimizer_state_dict': optimizer.state_dict(),\n",
    "                'best_val_loss': best_val_loss,\n",
    "                'best_val_fbeta_score': best_val_fbeta_score\n",
    "            }, checkpoint_path)\n",
    "            print(f\"========================================================\")\n",
    "            print(f\"Best model saved based on validation loss: {best_val_loss:.4f}\")\n",
    "            print(f\"========================================================\")\n",
    "\n",
    "        # Validation F-beta Score 기준 모델 저장\n",
    "        if overall_mean_fbeta_score > best_val_fbeta_score:\n",
    "            best_val_fbeta_score = overall_mean_fbeta_score\n",
    "            epochs_no_improve = 0\n",
    "            checkpoint_path = os.path.join(checkpoint_dir, 'best_model_val_fbeta.pt')\n",
    "            torch.save({\n",
    "                'epoch': epoch + 1,\n",
    "                'model_state_dict': model.state_dict(),\n",
    "                'optimizer_state_dict': optimizer.state_dict(),\n",
    "                'best_val_loss': best_val_loss,\n",
    "                'best_val_fbeta_score': best_val_fbeta_score\n",
    "            }, checkpoint_path)\n",
    "            print(f\"========================================================\")\n",
    "            print(f\"Best model saved based on F-beta score: {best_val_fbeta_score:.4f}\")\n",
    "            print(f\"========================================================\")\n",
    "\n",
    "        # Early stopping 조건 체크\n",
    "        if val_loss >= best_val_loss and overall_mean_fbeta_score <= best_val_fbeta_score:\n",
    "            epochs_no_improve += 1\n",
    "        else:\n",
    "            epochs_no_improve = 0\n",
    "\n",
    "        if epochs_no_improve >= patience:\n",
    "            print(\"Early stopping\")\n",
    "            checkpoint_path = os.path.join(checkpoint_dir, 'last.pt')\n",
    "            torch.save({\n",
    "                'epoch': epoch + 1,\n",
    "                'model_state_dict': model.state_dict(),\n",
    "                'optimizer_state_dict': optimizer.state_dict(),\n",
    "                'best_val_loss': best_val_loss,\n",
    "                'best_val_fbeta_score': best_val_fbeta_score\n",
    "            }, checkpoint_path)\n",
    "            break\n",
    "        if epochs_no_improve%10 == 0:\n",
    "            # 손실이 개선되지 않았으므로 lambda 감소\n",
    "            new_lamda = max(criterion.lamda - 0.01, 0.1)  # 최소값은 0.1로 설정\n",
    "            criterion.set_lamda(new_lamda)\n",
    "            print(f\"Validation loss did not improve. Reducing lambda to {new_lamda:.4f}\")\n",
    "\n",
    "\n",
    "    wandb.finish()\n"
   ]
  },
  {
   "cell_type": "code",
   "execution_count": 14,
   "metadata": {},
   "outputs": [
    {
     "name": "stdout",
     "output_type": "stream",
     "text": [
      "Epoch 1/4000\n",
      "Current lambda: 0.5000\n"
     ]
    },
    {
     "name": "stderr",
     "output_type": "stream",
     "text": [
      "Training: 100%|██████████| 24/24 [00:34<00:00,  1.42s/it, loss=0.7]  \n",
      "Validation: 100%|██████████| 4/4 [00:02<00:00,  1.55it/s, loss=0.708]\n"
     ]
    },
    {
     "name": "stdout",
     "output_type": "stream",
     "text": [
      "Validation Dice Score\n",
      "Class 0: 0.2011, Class 1: 0.0018, Class 2: 0.0001, Class 3: 0.0426, \n",
      "Class 4: 0.2035, Class 5: 0.0319, Class 6: 0.0020, \n",
      "Validation F-beta Score\n",
      "Class 0: 0.1181, Class 1: 0.0134, Class 2: 0.0006, Class 3: 0.1560, \n",
      "Class 4: 0.4690, Class 5: 0.1700, Class 6: 0.0065, \n",
      "Overall Mean Dice Score: 0.0564\n",
      "Overall Mean F-beta Score: 0.1630\n",
      "\n",
      "Training Loss: 0.7075, Validation Loss: 0.7001, Validation F-beta: 0.1630\n",
      "========================================================\n",
      "SUPER Best model saved. Loss:0.7001, Score:0.1630\n",
      "========================================================\n",
      "Epoch 2/4000\n",
      "Current lambda: 0.5000\n"
     ]
    },
    {
     "name": "stderr",
     "output_type": "stream",
     "text": [
      "Training: 100%|██████████| 24/24 [00:24<00:00,  1.01s/it, loss=0.709]\n",
      "Validation: 100%|██████████| 4/4 [00:02<00:00,  1.72it/s, loss=0.69] \n"
     ]
    },
    {
     "name": "stdout",
     "output_type": "stream",
     "text": [
      "Validation Dice Score\n",
      "Class 0: 0.2640, Class 1: 0.0013, Class 2: 0.0005, Class 3: 0.1106, \n",
      "Class 4: 0.1823, Class 5: 0.0168, Class 6: 0.0489, \n",
      "Validation F-beta Score\n",
      "Class 0: 0.1608, Class 1: 0.0097, Class 2: 0.0041, Class 3: 0.3504, \n",
      "Class 4: 0.4716, Class 5: 0.0906, Class 6: 0.1235, \n",
      "Overall Mean Dice Score: 0.0720\n",
      "Overall Mean F-beta Score: 0.2092\n",
      "\n",
      "Training Loss: 0.7048, Validation Loss: 0.6963, Validation F-beta: 0.2092\n",
      "========================================================\n",
      "SUPER Best model saved. Loss:0.6963, Score:0.2092\n",
      "========================================================\n",
      "Epoch 3/4000\n",
      "Current lambda: 0.5000\n"
     ]
    },
    {
     "name": "stderr",
     "output_type": "stream",
     "text": [
      "Training: 100%|██████████| 24/24 [00:24<00:00,  1.01s/it, loss=0.699]\n",
      "Validation: 100%|██████████| 4/4 [00:02<00:00,  1.70it/s, loss=0.699]\n"
     ]
    },
    {
     "name": "stdout",
     "output_type": "stream",
     "text": [
      "Validation Dice Score\n",
      "Class 0: 0.3789, Class 1: 0.0008, Class 2: 0.0007, Class 3: 0.1328, \n",
      "Class 4: 0.1576, Class 5: 0.0320, Class 6: 0.0329, \n",
      "Validation F-beta Score\n",
      "Class 0: 0.2492, Class 1: 0.0057, Class 2: 0.0060, Class 3: 0.3963, \n",
      "Class 4: 0.3797, Class 5: 0.1343, Class 6: 0.0868, \n",
      "Overall Mean Dice Score: 0.0712\n",
      "Overall Mean F-beta Score: 0.2006\n",
      "\n",
      "Training Loss: 0.7004, Validation Loss: 0.6974, Validation F-beta: 0.2006\n",
      "Epoch 4/4000\n",
      "Current lambda: 0.5000\n"
     ]
    },
    {
     "name": "stderr",
     "output_type": "stream",
     "text": [
      "Training: 100%|██████████| 24/24 [00:24<00:00,  1.01s/it, loss=0.674]\n",
      "Validation: 100%|██████████| 4/4 [00:02<00:00,  1.69it/s, loss=0.698]\n"
     ]
    },
    {
     "name": "stdout",
     "output_type": "stream",
     "text": [
      "Validation Dice Score\n",
      "Class 0: 0.4850, Class 1: 0.0000, Class 2: 0.0026, Class 3: 0.0540, \n",
      "Class 4: 0.1551, Class 5: 0.1291, Class 6: 0.0279, \n",
      "Validation F-beta Score\n",
      "Class 0: 0.3356, Class 1: 0.0003, Class 2: 0.0197, Class 3: 0.1189, \n",
      "Class 4: 0.4329, Class 5: 0.2908, Class 6: 0.0694, \n",
      "Overall Mean Dice Score: 0.0732\n",
      "Overall Mean F-beta Score: 0.1825\n",
      "\n",
      "Training Loss: 0.6956, Validation Loss: 0.6967, Validation F-beta: 0.1825\n",
      "Epoch 5/4000\n",
      "Current lambda: 0.5000\n"
     ]
    },
    {
     "name": "stderr",
     "output_type": "stream",
     "text": [
      "Training: 100%|██████████| 24/24 [00:24<00:00,  1.01s/it, loss=0.685]\n",
      "Validation: 100%|██████████| 4/4 [00:02<00:00,  1.64it/s, loss=0.682]\n"
     ]
    },
    {
     "name": "stdout",
     "output_type": "stream",
     "text": [
      "Validation Dice Score\n",
      "Class 0: 0.4932, Class 1: 0.0005, Class 2: 0.0014, Class 3: 0.2259, \n",
      "Class 4: 0.2730, Class 5: 0.1469, Class 6: 0.0306, \n",
      "Validation F-beta Score\n",
      "Class 0: 0.3433, Class 1: 0.0035, Class 2: 0.0107, Class 3: 0.3550, \n",
      "Class 4: 0.5171, Class 5: 0.2651, Class 6: 0.0822, \n",
      "Overall Mean Dice Score: 0.1354\n",
      "Overall Mean F-beta Score: 0.2446\n",
      "\n",
      "Training Loss: 0.6816, Validation Loss: 0.6742, Validation F-beta: 0.2446\n",
      "========================================================\n",
      "SUPER Best model saved. Loss:0.6742, Score:0.2446\n",
      "========================================================\n",
      "Epoch 6/4000\n",
      "Current lambda: 0.5000\n"
     ]
    },
    {
     "name": "stderr",
     "output_type": "stream",
     "text": [
      "Training: 100%|██████████| 24/24 [00:24<00:00,  1.01s/it, loss=0.68] \n",
      "Validation: 100%|██████████| 4/4 [00:02<00:00,  1.73it/s, loss=0.671]\n"
     ]
    },
    {
     "name": "stdout",
     "output_type": "stream",
     "text": [
      "Validation Dice Score\n",
      "Class 0: 0.4830, Class 1: 0.0004, Class 2: 0.0013, Class 3: 0.1796, \n",
      "Class 4: 0.2055, Class 5: 0.1887, Class 6: 0.1339, \n",
      "Validation F-beta Score\n",
      "Class 0: 0.3336, Class 1: 0.0030, Class 2: 0.0104, Class 3: 0.3612, \n",
      "Class 4: 0.3281, Class 5: 0.2569, Class 6: 0.2741, \n",
      "Overall Mean Dice Score: 0.1416\n",
      "Overall Mean F-beta Score: 0.2446\n",
      "\n",
      "Training Loss: 0.6769, Validation Loss: 0.6775, Validation F-beta: 0.2446\n",
      "========================================================\n",
      "Best model saved based on F-beta score: 0.2446\n",
      "========================================================\n",
      "Epoch 7/4000\n",
      "Current lambda: 0.5000\n"
     ]
    },
    {
     "name": "stderr",
     "output_type": "stream",
     "text": [
      "Training: 100%|██████████| 24/24 [00:23<00:00,  1.00it/s, loss=0.654]\n",
      "Validation: 100%|██████████| 4/4 [00:02<00:00,  1.73it/s, loss=0.677]\n"
     ]
    },
    {
     "name": "stdout",
     "output_type": "stream",
     "text": [
      "Validation Dice Score\n",
      "Class 0: 0.5046, Class 1: 0.0003, Class 2: 0.0032, Class 3: 0.2661, \n",
      "Class 4: 0.1612, Class 5: 0.2352, Class 6: 0.1242, \n",
      "Validation F-beta Score\n",
      "Class 0: 0.3536, Class 1: 0.0025, Class 2: 0.0240, Class 3: 0.2823, \n",
      "Class 4: 0.3688, Class 5: 0.3025, Class 6: 0.2020, \n",
      "Overall Mean Dice Score: 0.1574\n",
      "Overall Mean F-beta Score: 0.2316\n",
      "\n",
      "Training Loss: 0.6654, Validation Loss: 0.6687, Validation F-beta: 0.2316\n",
      "========================================================\n",
      "Best model saved based on validation loss: 0.6687\n",
      "========================================================\n",
      "Epoch 8/4000\n",
      "Current lambda: 0.5000\n"
     ]
    },
    {
     "name": "stderr",
     "output_type": "stream",
     "text": [
      "Training: 100%|██████████| 24/24 [00:24<00:00,  1.00s/it, loss=0.667]\n",
      "Validation: 100%|██████████| 4/4 [00:02<00:00,  1.71it/s, loss=0.666]\n"
     ]
    },
    {
     "name": "stdout",
     "output_type": "stream",
     "text": [
      "Validation Dice Score\n",
      "Class 0: 0.5263, Class 1: 0.0001, Class 2: 0.0014, Class 3: 0.2780, \n",
      "Class 4: 0.3125, Class 5: 0.0889, Class 6: 0.0856, \n",
      "Validation F-beta Score\n",
      "Class 0: 0.3736, Class 1: 0.0012, Class 2: 0.0103, Class 3: 0.3820, \n",
      "Class 4: 0.4500, Class 5: 0.1139, Class 6: 0.2266, \n",
      "Overall Mean Dice Score: 0.1530\n",
      "Overall Mean F-beta Score: 0.2347\n",
      "\n",
      "Training Loss: 0.6641, Validation Loss: 0.6665, Validation F-beta: 0.2347\n",
      "========================================================\n",
      "Best model saved based on validation loss: 0.6665\n",
      "========================================================\n",
      "Epoch 9/4000\n",
      "Current lambda: 0.5000\n"
     ]
    },
    {
     "name": "stderr",
     "output_type": "stream",
     "text": [
      "Training: 100%|██████████| 24/24 [00:24<00:00,  1.00s/it, loss=0.653]\n",
      "Validation: 100%|██████████| 4/4 [00:02<00:00,  1.72it/s, loss=0.664]\n"
     ]
    },
    {
     "name": "stdout",
     "output_type": "stream",
     "text": [
      "Validation Dice Score\n",
      "Class 0: 0.5157, Class 1: 0.0003, Class 2: 0.0040, Class 3: 0.2566, \n",
      "Class 4: 0.1674, Class 5: 0.1618, Class 6: 0.2914, \n",
      "Validation F-beta Score\n",
      "Class 0: 0.3639, Class 1: 0.0025, Class 2: 0.0309, Class 3: 0.5541, \n",
      "Class 4: 0.1418, Class 5: 0.1866, Class 6: 0.4324, \n",
      "Overall Mean Dice Score: 0.1755\n",
      "Overall Mean F-beta Score: 0.2635\n",
      "\n",
      "Training Loss: 0.6596, Validation Loss: 0.6614, Validation F-beta: 0.2635\n",
      "========================================================\n",
      "SUPER Best model saved. Loss:0.6614, Score:0.2635\n",
      "========================================================\n",
      "Epoch 10/4000\n",
      "Current lambda: 0.5000\n"
     ]
    },
    {
     "name": "stderr",
     "output_type": "stream",
     "text": [
      "Training: 100%|██████████| 24/24 [00:23<00:00,  1.01it/s, loss=0.62] \n",
      "Validation: 100%|██████████| 4/4 [00:02<00:00,  1.68it/s, loss=0.653]\n"
     ]
    },
    {
     "name": "stdout",
     "output_type": "stream",
     "text": [
      "Validation Dice Score\n",
      "Class 0: 0.5384, Class 1: 0.0006, Class 2: 0.0023, Class 3: 0.2522, \n",
      "Class 4: 0.0662, Class 5: 0.2435, Class 6: 0.3202, \n",
      "Validation F-beta Score\n",
      "Class 0: 0.3844, Class 1: 0.0049, Class 2: 0.0185, Class 3: 0.3153, \n",
      "Class 4: 0.1248, Class 5: 0.2747, Class 6: 0.5127, \n",
      "Overall Mean Dice Score: 0.1765\n",
      "Overall Mean F-beta Score: 0.2465\n",
      "\n",
      "Training Loss: 0.6628, Validation Loss: 0.6486, Validation F-beta: 0.2465\n",
      "========================================================\n",
      "Best model saved based on validation loss: 0.6486\n",
      "========================================================\n",
      "Epoch 11/4000\n",
      "Current lambda: 0.5000\n"
     ]
    },
    {
     "name": "stderr",
     "output_type": "stream",
     "text": [
      "Training: 100%|██████████| 24/24 [00:23<00:00,  1.00it/s, loss=0.644]\n",
      "Validation: 100%|██████████| 4/4 [00:02<00:00,  1.74it/s, loss=0.683]\n"
     ]
    },
    {
     "name": "stdout",
     "output_type": "stream",
     "text": [
      "Validation Dice Score\n",
      "Class 0: 0.5364, Class 1: 0.0004, Class 2: 0.0032, Class 3: 0.1625, \n",
      "Class 4: 0.1747, Class 5: 0.2164, Class 6: 0.2216, \n",
      "Validation F-beta Score\n",
      "Class 0: 0.3824, Class 1: 0.0032, Class 2: 0.0252, Class 3: 0.1416, \n",
      "Class 4: 0.2324, Class 5: 0.2946, Class 6: 0.3960, \n",
      "Overall Mean Dice Score: 0.1551\n",
      "Overall Mean F-beta Score: 0.2136\n",
      "\n",
      "Training Loss: 0.6474, Validation Loss: 0.6579, Validation F-beta: 0.2136\n",
      "Epoch 12/4000\n",
      "Current lambda: 0.5000\n"
     ]
    },
    {
     "name": "stderr",
     "output_type": "stream",
     "text": [
      "Training: 100%|██████████| 24/24 [00:24<00:00,  1.00s/it, loss=0.631]\n",
      "Validation: 100%|██████████| 4/4 [00:02<00:00,  1.65it/s, loss=0.65] \n"
     ]
    },
    {
     "name": "stdout",
     "output_type": "stream",
     "text": [
      "Validation Dice Score\n",
      "Class 0: 0.5367, Class 1: 0.0004, Class 2: 0.0015, Class 3: 0.2129, \n",
      "Class 4: 0.2742, Class 5: 0.3135, Class 6: 0.3303, \n",
      "Validation F-beta Score\n",
      "Class 0: 0.3830, Class 1: 0.0036, Class 2: 0.0117, Class 3: 0.2105, \n",
      "Class 4: 0.2634, Class 5: 0.3905, Class 6: 0.4953, \n",
      "Overall Mean Dice Score: 0.2263\n",
      "Overall Mean F-beta Score: 0.2727\n",
      "\n",
      "Training Loss: 0.6509, Validation Loss: 0.6363, Validation F-beta: 0.2727\n",
      "========================================================\n",
      "SUPER Best model saved. Loss:0.6363, Score:0.2727\n",
      "========================================================\n",
      "Epoch 13/4000\n",
      "Current lambda: 0.5000\n"
     ]
    },
    {
     "name": "stderr",
     "output_type": "stream",
     "text": [
      "Training: 100%|██████████| 24/24 [00:24<00:00,  1.01s/it, loss=0.638]\n",
      "Validation: 100%|██████████| 4/4 [00:02<00:00,  1.67it/s, loss=0.64] \n"
     ]
    },
    {
     "name": "stdout",
     "output_type": "stream",
     "text": [
      "Validation Dice Score\n",
      "Class 0: 0.5535, Class 1: 0.0002, Class 2: 0.0019, Class 3: 0.1263, \n",
      "Class 4: 0.3156, Class 5: 0.5195, Class 6: 0.1806, \n",
      "Validation F-beta Score\n",
      "Class 0: 0.3985, Class 1: 0.0015, Class 2: 0.0154, Class 3: 0.1097, \n",
      "Class 4: 0.3638, Class 5: 0.5962, Class 6: 0.3825, \n",
      "Overall Mean Dice Score: 0.2284\n",
      "Overall Mean F-beta Score: 0.2908\n",
      "\n",
      "Training Loss: 0.6469, Validation Loss: 0.6286, Validation F-beta: 0.2908\n",
      "========================================================\n",
      "SUPER Best model saved. Loss:0.6286, Score:0.2908\n",
      "========================================================\n",
      "Epoch 14/4000\n",
      "Current lambda: 0.5000\n"
     ]
    },
    {
     "name": "stderr",
     "output_type": "stream",
     "text": [
      "Training: 100%|██████████| 24/24 [00:24<00:00,  1.01s/it, loss=0.616]\n",
      "Validation: 100%|██████████| 4/4 [00:02<00:00,  1.71it/s, loss=0.625]\n"
     ]
    },
    {
     "name": "stdout",
     "output_type": "stream",
     "text": [
      "Validation Dice Score\n",
      "Class 0: 0.5518, Class 1: 0.0004, Class 2: 0.0078, Class 3: 0.1618, \n",
      "Class 4: 0.2121, Class 5: 0.2854, Class 6: 0.1651, \n",
      "Validation F-beta Score\n",
      "Class 0: 0.3977, Class 1: 0.0030, Class 2: 0.0525, Class 3: 0.3080, \n",
      "Class 4: 0.2056, Class 5: 0.4052, Class 6: 0.3223, \n",
      "Overall Mean Dice Score: 0.1649\n",
      "Overall Mean F-beta Score: 0.2488\n",
      "\n",
      "Training Loss: 0.6468, Validation Loss: 0.6541, Validation F-beta: 0.2488\n",
      "Epoch 15/4000\n",
      "Current lambda: 0.5000\n"
     ]
    },
    {
     "name": "stderr",
     "output_type": "stream",
     "text": [
      "Training: 100%|██████████| 24/24 [00:23<00:00,  1.00it/s, loss=0.654]\n",
      "Validation: 100%|██████████| 4/4 [00:02<00:00,  1.69it/s, loss=0.64] \n"
     ]
    },
    {
     "name": "stdout",
     "output_type": "stream",
     "text": [
      "Validation Dice Score\n",
      "Class 0: 0.5464, Class 1: 0.0001, Class 2: 0.0022, Class 3: 0.3950, \n",
      "Class 4: 0.3249, Class 5: 0.1868, Class 6: 0.3119, \n",
      "Validation F-beta Score\n",
      "Class 0: 0.3923, Class 1: 0.0005, Class 2: 0.0171, Class 3: 0.4679, \n",
      "Class 4: 0.3882, Class 5: 0.2340, Class 6: 0.5055, \n",
      "Overall Mean Dice Score: 0.2437\n",
      "Overall Mean F-beta Score: 0.3192\n",
      "\n",
      "Training Loss: 0.6480, Validation Loss: 0.6332, Validation F-beta: 0.3192\n",
      "========================================================\n",
      "Best model saved based on F-beta score: 0.3192\n",
      "========================================================\n",
      "Epoch 16/4000\n",
      "Current lambda: 0.5000\n"
     ]
    },
    {
     "name": "stderr",
     "output_type": "stream",
     "text": [
      "Training: 100%|██████████| 24/24 [00:24<00:00,  1.00s/it, loss=0.615]\n",
      "Validation: 100%|██████████| 4/4 [00:02<00:00,  1.66it/s, loss=0.67] \n"
     ]
    },
    {
     "name": "stdout",
     "output_type": "stream",
     "text": [
      "Validation Dice Score\n",
      "Class 0: 0.5505, Class 1: 0.0010, Class 2: 0.0027, Class 3: 0.3125, \n",
      "Class 4: 0.2842, Class 5: 0.2718, Class 6: 0.0868, \n",
      "Validation F-beta Score\n",
      "Class 0: 0.3958, Class 1: 0.0077, Class 2: 0.0211, Class 3: 0.3812, \n",
      "Class 4: 0.3167, Class 5: 0.3684, Class 6: 0.1086, \n",
      "Overall Mean Dice Score: 0.1912\n",
      "Overall Mean F-beta Score: 0.2365\n",
      "\n",
      "Training Loss: 0.6441, Validation Loss: 0.6490, Validation F-beta: 0.2365\n",
      "Epoch 17/4000\n",
      "Current lambda: 0.5000\n"
     ]
    },
    {
     "name": "stderr",
     "output_type": "stream",
     "text": [
      "Training: 100%|██████████| 24/24 [00:24<00:00,  1.00s/it, loss=0.683]\n",
      "Validation: 100%|██████████| 4/4 [00:02<00:00,  1.71it/s, loss=0.617]\n"
     ]
    },
    {
     "name": "stdout",
     "output_type": "stream",
     "text": [
      "Validation Dice Score\n",
      "Class 0: 0.5520, Class 1: 0.0005, Class 2: 0.0043, Class 3: 0.3221, \n",
      "Class 4: 0.2770, Class 5: 0.1407, Class 6: 0.4877, \n",
      "Validation F-beta Score\n",
      "Class 0: 0.3975, Class 1: 0.0040, Class 2: 0.0337, Class 3: 0.4196, \n",
      "Class 4: 0.4083, Class 5: 0.2143, Class 6: 0.4842, \n",
      "Overall Mean Dice Score: 0.2456\n",
      "Overall Mean F-beta Score: 0.3061\n",
      "\n",
      "Training Loss: 0.6420, Validation Loss: 0.6324, Validation F-beta: 0.3061\n",
      "Epoch 18/4000\n",
      "Current lambda: 0.5000\n"
     ]
    },
    {
     "name": "stderr",
     "output_type": "stream",
     "text": [
      "Training: 100%|██████████| 24/24 [00:24<00:00,  1.00s/it, loss=0.663]\n",
      "Validation: 100%|██████████| 4/4 [00:02<00:00,  1.66it/s, loss=0.627]\n"
     ]
    },
    {
     "name": "stdout",
     "output_type": "stream",
     "text": [
      "Validation Dice Score\n",
      "Class 0: 0.5463, Class 1: 0.0002, Class 2: 0.0021, Class 3: 0.3615, \n",
      "Class 4: 0.2260, Class 5: 0.3003, Class 6: 0.3933, \n",
      "Validation F-beta Score\n",
      "Class 0: 0.3919, Class 1: 0.0017, Class 2: 0.0174, Class 3: 0.3527, \n",
      "Class 4: 0.3138, Class 5: 0.3525, Class 6: 0.5103, \n",
      "Overall Mean Dice Score: 0.2562\n",
      "Overall Mean F-beta Score: 0.3062\n",
      "\n",
      "Training Loss: 0.6459, Validation Loss: 0.6251, Validation F-beta: 0.3062\n",
      "========================================================\n",
      "Best model saved based on validation loss: 0.6251\n",
      "========================================================\n",
      "Epoch 19/4000\n",
      "Current lambda: 0.5000\n"
     ]
    },
    {
     "name": "stderr",
     "output_type": "stream",
     "text": [
      "Training: 100%|██████████| 24/24 [00:24<00:00,  1.00s/it, loss=0.62] \n",
      "Validation: 100%|██████████| 4/4 [00:02<00:00,  1.69it/s, loss=0.622]\n"
     ]
    },
    {
     "name": "stdout",
     "output_type": "stream",
     "text": [
      "Validation Dice Score\n",
      "Class 0: 0.5552, Class 1: 0.0003, Class 2: 0.0010, Class 3: 0.1297, \n",
      "Class 4: 0.2749, Class 5: 0.2986, Class 6: 0.4624, \n",
      "Validation F-beta Score\n",
      "Class 0: 0.4005, Class 1: 0.0026, Class 2: 0.0078, Class 3: 0.1646, \n",
      "Class 4: 0.4592, Class 5: 0.3332, Class 6: 0.6106, \n",
      "Overall Mean Dice Score: 0.2332\n",
      "Overall Mean F-beta Score: 0.3141\n",
      "\n",
      "Training Loss: 0.6420, Validation Loss: 0.6421, Validation F-beta: 0.3141\n",
      "Epoch 20/4000\n",
      "Current lambda: 0.5000\n"
     ]
    },
    {
     "name": "stderr",
     "output_type": "stream",
     "text": [
      "Training: 100%|██████████| 24/24 [00:24<00:00,  1.01s/it, loss=0.64] \n",
      "Validation: 100%|██████████| 4/4 [00:02<00:00,  1.72it/s, loss=0.622]\n"
     ]
    },
    {
     "name": "stdout",
     "output_type": "stream",
     "text": [
      "Validation Dice Score\n",
      "Class 0: 0.5591, Class 1: 0.0004, Class 2: 0.0042, Class 3: 0.4490, \n",
      "Class 4: 0.3349, Class 5: 0.2483, Class 6: 0.2195, \n",
      "Validation F-beta Score\n",
      "Class 0: 0.4038, Class 1: 0.0028, Class 2: 0.0336, Class 3: 0.4586, \n",
      "Class 4: 0.4072, Class 5: 0.4237, Class 6: 0.2911, \n",
      "Overall Mean Dice Score: 0.2504\n",
      "Overall Mean F-beta Score: 0.3167\n",
      "\n",
      "Training Loss: 0.6374, Validation Loss: 0.6211, Validation F-beta: 0.3167\n",
      "========================================================\n",
      "Best model saved based on validation loss: 0.6211\n",
      "========================================================\n",
      "Epoch 21/4000\n",
      "Current lambda: 0.5000\n"
     ]
    },
    {
     "name": "stderr",
     "output_type": "stream",
     "text": [
      "Training: 100%|██████████| 24/24 [00:24<00:00,  1.02s/it, loss=0.639]\n",
      "Validation: 100%|██████████| 4/4 [00:02<00:00,  1.72it/s, loss=0.655]\n"
     ]
    },
    {
     "name": "stdout",
     "output_type": "stream",
     "text": [
      "Validation Dice Score\n",
      "Class 0: 0.5625, Class 1: 0.0005, Class 2: 0.0052, Class 3: 0.4078, \n",
      "Class 4: 0.1920, Class 5: 0.1504, Class 6: 0.3706, \n",
      "Validation F-beta Score\n",
      "Class 0: 0.4073, Class 1: 0.0038, Class 2: 0.0393, Class 3: 0.5931, \n",
      "Class 4: 0.1640, Class 5: 0.1672, Class 6: 0.6659, \n",
      "Overall Mean Dice Score: 0.2242\n",
      "Overall Mean F-beta Score: 0.3188\n",
      "\n",
      "Training Loss: 0.6385, Validation Loss: 0.6431, Validation F-beta: 0.3188\n",
      "Epoch 22/4000\n",
      "Current lambda: 0.5000\n"
     ]
    },
    {
     "name": "stderr",
     "output_type": "stream",
     "text": [
      "Training: 100%|██████████| 24/24 [00:24<00:00,  1.00s/it, loss=0.615]\n",
      "Validation: 100%|██████████| 4/4 [00:02<00:00,  1.76it/s, loss=0.622]\n"
     ]
    },
    {
     "name": "stdout",
     "output_type": "stream",
     "text": [
      "Validation Dice Score\n",
      "Class 0: 0.5513, Class 1: 0.0001, Class 2: 0.0021, Class 3: 0.3233, \n",
      "Class 4: 0.1203, Class 5: 0.3311, Class 6: 0.2585, \n",
      "Validation F-beta Score\n",
      "Class 0: 0.3961, Class 1: 0.0008, Class 2: 0.0171, Class 3: 0.3599, \n",
      "Class 4: 0.2034, Class 5: 0.4284, Class 6: 0.3414, \n",
      "Overall Mean Dice Score: 0.2067\n",
      "Overall Mean F-beta Score: 0.2668\n",
      "\n",
      "Training Loss: 0.6332, Validation Loss: 0.6415, Validation F-beta: 0.2668\n",
      "Epoch 23/4000\n",
      "Current lambda: 0.5000\n"
     ]
    },
    {
     "name": "stderr",
     "output_type": "stream",
     "text": [
      "Training: 100%|██████████| 24/24 [00:24<00:00,  1.01s/it, loss=0.622]\n",
      "Validation: 100%|██████████| 4/4 [00:02<00:00,  1.67it/s, loss=0.628]\n"
     ]
    },
    {
     "name": "stdout",
     "output_type": "stream",
     "text": [
      "Validation Dice Score\n",
      "Class 0: 0.5740, Class 1: 0.0002, Class 2: 0.0049, Class 3: 0.5015, \n",
      "Class 4: 0.3213, Class 5: 0.3149, Class 6: 0.1584, \n",
      "Validation F-beta Score\n",
      "Class 0: 0.4187, Class 1: 0.0016, Class 2: 0.0382, Class 3: 0.4644, \n",
      "Class 4: 0.3261, Class 5: 0.3905, Class 6: 0.1841, \n",
      "Overall Mean Dice Score: 0.2592\n",
      "Overall Mean F-beta Score: 0.2733\n",
      "\n",
      "Training Loss: 0.6394, Validation Loss: 0.6210, Validation F-beta: 0.2733\n",
      "========================================================\n",
      "Best model saved based on validation loss: 0.6210\n",
      "========================================================\n",
      "Epoch 24/4000\n",
      "Current lambda: 0.5000\n"
     ]
    },
    {
     "name": "stderr",
     "output_type": "stream",
     "text": [
      "Training: 100%|██████████| 24/24 [00:23<00:00,  1.03it/s, loss=0.624]\n",
      "Validation: 100%|██████████| 4/4 [00:02<00:00,  1.78it/s, loss=0.654]\n"
     ]
    },
    {
     "name": "stdout",
     "output_type": "stream",
     "text": [
      "Validation Dice Score\n",
      "Class 0: 0.5631, Class 1: 0.0000, Class 2: 0.0028, Class 3: 0.4598, \n",
      "Class 4: 0.3395, Class 5: 0.2799, Class 6: 0.3272, \n",
      "Validation F-beta Score\n",
      "Class 0: 0.4082, Class 1: 0.0002, Class 2: 0.0228, Class 3: 0.3935, \n",
      "Class 4: 0.3186, Class 5: 0.3552, Class 6: 0.5536, \n",
      "Overall Mean Dice Score: 0.2813\n",
      "Overall Mean F-beta Score: 0.3242\n",
      "\n",
      "Training Loss: 0.6369, Validation Loss: 0.6232, Validation F-beta: 0.3242\n",
      "========================================================\n",
      "Best model saved based on F-beta score: 0.3242\n",
      "========================================================\n",
      "Epoch 25/4000\n",
      "Current lambda: 0.5000\n"
     ]
    },
    {
     "name": "stderr",
     "output_type": "stream",
     "text": [
      "Training: 100%|██████████| 24/24 [00:22<00:00,  1.05it/s, loss=0.644]\n",
      "Validation: 100%|██████████| 4/4 [00:02<00:00,  1.75it/s, loss=0.619]\n"
     ]
    },
    {
     "name": "stdout",
     "output_type": "stream",
     "text": [
      "Validation Dice Score\n",
      "Class 0: 0.5590, Class 1: 0.0007, Class 2: 0.0053, Class 3: 0.2868, \n",
      "Class 4: 0.2960, Class 5: 0.2643, Class 6: 0.3077, \n",
      "Validation F-beta Score\n",
      "Class 0: 0.4042, Class 1: 0.0056, Class 2: 0.0420, Class 3: 0.4387, \n",
      "Class 4: 0.3709, Class 5: 0.3908, Class 6: 0.4623, \n",
      "Overall Mean Dice Score: 0.2311\n",
      "Overall Mean F-beta Score: 0.3337\n",
      "\n",
      "Training Loss: 0.6388, Validation Loss: 0.6357, Validation F-beta: 0.3337\n",
      "========================================================\n",
      "Best model saved based on F-beta score: 0.3337\n",
      "========================================================\n",
      "Epoch 26/4000\n",
      "Current lambda: 0.5000\n"
     ]
    },
    {
     "name": "stderr",
     "output_type": "stream",
     "text": [
      "Training: 100%|██████████| 24/24 [00:23<00:00,  1.04it/s, loss=0.601]\n",
      "Validation: 100%|██████████| 4/4 [00:02<00:00,  1.74it/s, loss=0.629]\n"
     ]
    },
    {
     "name": "stdout",
     "output_type": "stream",
     "text": [
      "Validation Dice Score\n",
      "Class 0: 0.5804, Class 1: 0.0007, Class 2: 0.0089, Class 3: 0.3362, \n",
      "Class 4: 0.3642, Class 5: 0.3814, Class 6: 0.4404, \n",
      "Validation F-beta Score\n",
      "Class 0: 0.4255, Class 1: 0.0059, Class 2: 0.0660, Class 3: 0.4436, \n",
      "Class 4: 0.4002, Class 5: 0.4758, Class 6: 0.6052, \n",
      "Overall Mean Dice Score: 0.3046\n",
      "Overall Mean F-beta Score: 0.3861\n",
      "\n",
      "Training Loss: 0.6328, Validation Loss: 0.6147, Validation F-beta: 0.3861\n",
      "========================================================\n",
      "SUPER Best model saved. Loss:0.6147, Score:0.3861\n",
      "========================================================\n",
      "Epoch 27/4000\n",
      "Current lambda: 0.5000\n"
     ]
    },
    {
     "name": "stderr",
     "output_type": "stream",
     "text": [
      "Training: 100%|██████████| 24/24 [00:22<00:00,  1.04it/s, loss=0.631]\n",
      "Validation: 100%|██████████| 4/4 [00:02<00:00,  1.75it/s, loss=0.634]\n"
     ]
    },
    {
     "name": "stdout",
     "output_type": "stream",
     "text": [
      "Validation Dice Score\n",
      "Class 0: 0.5752, Class 1: 0.0003, Class 2: 0.0024, Class 3: 0.4742, \n",
      "Class 4: 0.1921, Class 5: 0.2918, Class 6: 0.2527, \n",
      "Validation F-beta Score\n",
      "Class 0: 0.4200, Class 1: 0.0025, Class 2: 0.0189, Class 3: 0.6092, \n",
      "Class 4: 0.1486, Class 5: 0.4618, Class 6: 0.4868, \n",
      "Overall Mean Dice Score: 0.2422\n",
      "Overall Mean F-beta Score: 0.3418\n",
      "\n",
      "Training Loss: 0.6316, Validation Loss: 0.6243, Validation F-beta: 0.3418\n",
      "Epoch 28/4000\n",
      "Current lambda: 0.5000\n"
     ]
    },
    {
     "name": "stderr",
     "output_type": "stream",
     "text": [
      "Training: 100%|██████████| 24/24 [00:23<00:00,  1.04it/s, loss=0.613]\n",
      "Validation: 100%|██████████| 4/4 [00:02<00:00,  1.76it/s, loss=0.636]\n"
     ]
    },
    {
     "name": "stdout",
     "output_type": "stream",
     "text": [
      "Validation Dice Score\n",
      "Class 0: 0.5555, Class 1: 0.0002, Class 2: 0.0020, Class 3: 0.2997, \n",
      "Class 4: 0.2740, Class 5: 0.2491, Class 6: 0.3902, \n",
      "Validation F-beta Score\n",
      "Class 0: 0.4006, Class 1: 0.0020, Class 2: 0.0161, Class 3: 0.4099, \n",
      "Class 4: 0.3872, Class 5: 0.3145, Class 6: 0.4194, \n",
      "Overall Mean Dice Score: 0.2427\n",
      "Overall Mean F-beta Score: 0.3066\n",
      "\n",
      "Training Loss: 0.6271, Validation Loss: 0.6412, Validation F-beta: 0.3066\n",
      "Epoch 29/4000\n",
      "Current lambda: 0.5000\n"
     ]
    },
    {
     "name": "stderr",
     "output_type": "stream",
     "text": [
      "Training: 100%|██████████| 24/24 [00:22<00:00,  1.05it/s, loss=0.609]\n",
      "Validation: 100%|██████████| 4/4 [00:02<00:00,  1.77it/s, loss=0.656]\n"
     ]
    },
    {
     "name": "stdout",
     "output_type": "stream",
     "text": [
      "Validation Dice Score\n",
      "Class 0: 0.5640, Class 1: 0.0006, Class 2: 0.0034, Class 3: 0.4216, \n",
      "Class 4: 0.2659, Class 5: 0.3649, Class 6: 0.3586, \n",
      "Validation F-beta Score\n",
      "Class 0: 0.4089, Class 1: 0.0045, Class 2: 0.0261, Class 3: 0.4527, \n",
      "Class 4: 0.3327, Class 5: 0.4907, Class 6: 0.4607, \n",
      "Overall Mean Dice Score: 0.2823\n",
      "Overall Mean F-beta Score: 0.3483\n",
      "\n",
      "Training Loss: 0.6305, Validation Loss: 0.6159, Validation F-beta: 0.3483\n",
      "Epoch 30/4000\n",
      "Current lambda: 0.5000\n"
     ]
    },
    {
     "name": "stderr",
     "output_type": "stream",
     "text": [
      "Training: 100%|██████████| 24/24 [00:22<00:00,  1.05it/s, loss=0.606]\n",
      "Validation: 100%|██████████| 4/4 [00:02<00:00,  1.76it/s, loss=0.636]\n"
     ]
    },
    {
     "name": "stdout",
     "output_type": "stream",
     "text": [
      "Validation Dice Score\n",
      "Class 0: 0.5852, Class 1: 0.0004, Class 2: 0.0028, Class 3: 0.3330, \n",
      "Class 4: 0.3354, Class 5: 0.2525, Class 6: 0.3889, \n",
      "Validation F-beta Score\n",
      "Class 0: 0.4306, Class 1: 0.0035, Class 2: 0.0220, Class 3: 0.5793, \n",
      "Class 4: 0.3845, Class 5: 0.3277, Class 6: 0.6099, \n",
      "Overall Mean Dice Score: 0.2621\n",
      "Overall Mean F-beta Score: 0.3810\n",
      "\n",
      "Training Loss: 0.6340, Validation Loss: 0.6259, Validation F-beta: 0.3810\n",
      "Epoch 31/4000\n",
      "Current lambda: 0.5000\n"
     ]
    },
    {
     "name": "stderr",
     "output_type": "stream",
     "text": [
      "Training: 100%|██████████| 24/24 [00:22<00:00,  1.05it/s, loss=0.635]\n",
      "Validation: 100%|██████████| 4/4 [00:02<00:00,  1.81it/s, loss=0.643]\n"
     ]
    },
    {
     "name": "stdout",
     "output_type": "stream",
     "text": [
      "Validation Dice Score\n",
      "Class 0: 0.5680, Class 1: 0.0005, Class 2: 0.0045, Class 3: 0.4457, \n",
      "Class 4: 0.3403, Class 5: 0.2994, Class 6: 0.3079, \n",
      "Validation F-beta Score\n",
      "Class 0: 0.4124, Class 1: 0.0037, Class 2: 0.0355, Class 3: 0.4115, \n",
      "Class 4: 0.3032, Class 5: 0.5162, Class 6: 0.4210, \n",
      "Overall Mean Dice Score: 0.2787\n",
      "Overall Mean F-beta Score: 0.3311\n",
      "\n",
      "Training Loss: 0.6291, Validation Loss: 0.6214, Validation F-beta: 0.3311\n",
      "Epoch 32/4000\n",
      "Current lambda: 0.5000\n"
     ]
    },
    {
     "name": "stderr",
     "output_type": "stream",
     "text": [
      "Training: 100%|██████████| 24/24 [00:22<00:00,  1.05it/s, loss=0.642]\n",
      "Validation: 100%|██████████| 4/4 [00:02<00:00,  1.76it/s, loss=0.628]\n"
     ]
    },
    {
     "name": "stdout",
     "output_type": "stream",
     "text": [
      "Validation Dice Score\n",
      "Class 0: 0.5715, Class 1: 0.0003, Class 2: 0.0019, Class 3: 0.4558, \n",
      "Class 4: 0.1832, Class 5: 0.2525, Class 6: 0.4381, \n",
      "Validation F-beta Score\n",
      "Class 0: 0.4158, Class 1: 0.0024, Class 2: 0.0155, Class 3: 0.5335, \n",
      "Class 4: 0.2881, Class 5: 0.3592, Class 6: 0.6626, \n",
      "Overall Mean Dice Score: 0.2660\n",
      "Overall Mean F-beta Score: 0.3692\n",
      "\n",
      "Training Loss: 0.6228, Validation Loss: 0.6265, Validation F-beta: 0.3692\n",
      "Epoch 33/4000\n",
      "Current lambda: 0.5000\n"
     ]
    },
    {
     "name": "stderr",
     "output_type": "stream",
     "text": [
      "Training: 100%|██████████| 24/24 [00:22<00:00,  1.05it/s, loss=0.638]\n",
      "Validation: 100%|██████████| 4/4 [00:02<00:00,  1.79it/s, loss=0.652]\n"
     ]
    },
    {
     "name": "stdout",
     "output_type": "stream",
     "text": [
      "Validation Dice Score\n",
      "Class 0: 0.5720, Class 1: 0.0003, Class 2: 0.0006, Class 3: 0.3579, \n",
      "Class 4: 0.2321, Class 5: 0.2527, Class 6: 0.2421, \n",
      "Validation F-beta Score\n",
      "Class 0: 0.4163, Class 1: 0.0028, Class 2: 0.0051, Class 3: 0.3836, \n",
      "Class 4: 0.2155, Class 5: 0.3745, Class 6: 0.4382, \n",
      "Overall Mean Dice Score: 0.2170\n",
      "Overall Mean F-beta Score: 0.2829\n",
      "\n",
      "Training Loss: 0.6349, Validation Loss: 0.6454, Validation F-beta: 0.2829\n",
      "Epoch 34/4000\n",
      "Current lambda: 0.5000\n"
     ]
    },
    {
     "name": "stderr",
     "output_type": "stream",
     "text": [
      "Training: 100%|██████████| 24/24 [00:23<00:00,  1.03it/s, loss=0.63] \n",
      "Validation: 100%|██████████| 4/4 [00:02<00:00,  1.77it/s, loss=0.63] \n"
     ]
    },
    {
     "name": "stdout",
     "output_type": "stream",
     "text": [
      "Validation Dice Score\n",
      "Class 0: 0.5736, Class 1: 0.0010, Class 2: 0.0053, Class 3: 0.2877, \n",
      "Class 4: 0.2762, Class 5: 0.3000, Class 6: 0.4244, \n",
      "Validation F-beta Score\n",
      "Class 0: 0.4182, Class 1: 0.0077, Class 2: 0.0406, Class 3: 0.4010, \n",
      "Class 4: 0.3591, Class 5: 0.4653, Class 6: 0.5822, \n",
      "Overall Mean Dice Score: 0.2578\n",
      "Overall Mean F-beta Score: 0.3631\n",
      "\n",
      "Training Loss: 0.6367, Validation Loss: 0.6278, Validation F-beta: 0.3631\n",
      "Epoch 35/4000\n",
      "Current lambda: 0.5000\n"
     ]
    },
    {
     "name": "stderr",
     "output_type": "stream",
     "text": [
      "Training: 100%|██████████| 24/24 [00:23<00:00,  1.04it/s, loss=0.626]\n",
      "Validation: 100%|██████████| 4/4 [00:02<00:00,  1.73it/s, loss=0.622]\n"
     ]
    },
    {
     "name": "stdout",
     "output_type": "stream",
     "text": [
      "Validation Dice Score\n",
      "Class 0: 0.5887, Class 1: 0.0005, Class 2: 0.0047, Class 3: 0.2348, \n",
      "Class 4: 0.4152, Class 5: 0.4737, Class 6: 0.3577, \n",
      "Validation F-beta Score\n",
      "Class 0: 0.4340, Class 1: 0.0044, Class 2: 0.0351, Class 3: 0.2717, \n",
      "Class 4: 0.4695, Class 5: 0.4802, Class 6: 0.5154, \n",
      "Overall Mean Dice Score: 0.2964\n",
      "Overall Mean F-beta Score: 0.3482\n",
      "\n",
      "Training Loss: 0.6218, Validation Loss: 0.6098, Validation F-beta: 0.3482\n",
      "========================================================\n",
      "Best model saved based on validation loss: 0.6098\n",
      "========================================================\n",
      "Epoch 36/4000\n",
      "Current lambda: 0.5000\n"
     ]
    },
    {
     "name": "stderr",
     "output_type": "stream",
     "text": [
      "Training: 100%|██████████| 24/24 [00:23<00:00,  1.04it/s, loss=0.658]\n",
      "Validation: 100%|██████████| 4/4 [00:02<00:00,  1.77it/s, loss=0.616]\n"
     ]
    },
    {
     "name": "stdout",
     "output_type": "stream",
     "text": [
      "Validation Dice Score\n",
      "Class 0: 0.5900, Class 1: 0.0005, Class 2: 0.0038, Class 3: 0.3098, \n",
      "Class 4: 0.3307, Class 5: 0.3018, Class 6: 0.4607, \n",
      "Validation F-beta Score\n",
      "Class 0: 0.4353, Class 1: 0.0039, Class 2: 0.0294, Class 3: 0.3245, \n",
      "Class 4: 0.3467, Class 5: 0.4742, Class 6: 0.3993, \n",
      "Overall Mean Dice Score: 0.2807\n",
      "Overall Mean F-beta Score: 0.3097\n",
      "\n",
      "Training Loss: 0.6286, Validation Loss: 0.6288, Validation F-beta: 0.3097\n",
      "Epoch 37/4000\n",
      "Current lambda: 0.5000\n"
     ]
    },
    {
     "name": "stderr",
     "output_type": "stream",
     "text": [
      "Training: 100%|██████████| 24/24 [00:23<00:00,  1.03it/s, loss=0.615]\n",
      "Validation: 100%|██████████| 4/4 [00:02<00:00,  1.69it/s, loss=0.614]\n"
     ]
    },
    {
     "name": "stdout",
     "output_type": "stream",
     "text": [
      "Validation Dice Score\n",
      "Class 0: 0.5759, Class 1: 0.0003, Class 2: 0.0105, Class 3: 0.4648, \n",
      "Class 4: 0.3229, Class 5: 0.2899, Class 6: 0.3023, \n",
      "Validation F-beta Score\n",
      "Class 0: 0.4203, Class 1: 0.0026, Class 2: 0.0761, Class 3: 0.6139, \n",
      "Class 4: 0.5260, Class 5: 0.4166, Class 6: 0.5066, \n",
      "Overall Mean Dice Score: 0.2760\n",
      "Overall Mean F-beta Score: 0.4131\n",
      "\n",
      "Training Loss: 0.6240, Validation Loss: 0.6223, Validation F-beta: 0.4131\n",
      "========================================================\n",
      "Best model saved based on F-beta score: 0.4131\n",
      "========================================================\n",
      "Epoch 38/4000\n",
      "Current lambda: 0.5000\n"
     ]
    },
    {
     "name": "stderr",
     "output_type": "stream",
     "text": [
      "Training: 100%|██████████| 24/24 [00:22<00:00,  1.05it/s, loss=0.617]\n",
      "Validation: 100%|██████████| 4/4 [00:02<00:00,  1.76it/s, loss=0.626]\n"
     ]
    },
    {
     "name": "stdout",
     "output_type": "stream",
     "text": [
      "Validation Dice Score\n",
      "Class 0: 0.5785, Class 1: 0.0002, Class 2: 0.0039, Class 3: 0.3872, \n",
      "Class 4: 0.4447, Class 5: 0.4043, Class 6: 0.2804, \n",
      "Validation F-beta Score\n",
      "Class 0: 0.4232, Class 1: 0.0013, Class 2: 0.0288, Class 3: 0.4359, \n",
      "Class 4: 0.5425, Class 5: 0.5055, Class 6: 0.3869, \n",
      "Overall Mean Dice Score: 0.3034\n",
      "Overall Mean F-beta Score: 0.3744\n",
      "\n",
      "Training Loss: 0.6286, Validation Loss: 0.6208, Validation F-beta: 0.3744\n",
      "Epoch 39/4000\n",
      "Current lambda: 0.5000\n"
     ]
    },
    {
     "name": "stderr",
     "output_type": "stream",
     "text": [
      "Training: 100%|██████████| 24/24 [00:22<00:00,  1.04it/s, loss=0.646]\n",
      "Validation: 100%|██████████| 4/4 [00:02<00:00,  1.73it/s, loss=0.653]\n"
     ]
    },
    {
     "name": "stdout",
     "output_type": "stream",
     "text": [
      "Validation Dice Score\n",
      "Class 0: 0.5931, Class 1: 0.0003, Class 2: 0.0043, Class 3: 0.2780, \n",
      "Class 4: 0.3269, Class 5: 0.2505, Class 6: 0.6052, \n",
      "Validation F-beta Score\n",
      "Class 0: 0.4378, Class 1: 0.0027, Class 2: 0.0332, Class 3: 0.2960, \n",
      "Class 4: 0.4480, Class 5: 0.3002, Class 6: 0.6864, \n",
      "Overall Mean Dice Score: 0.2922\n",
      "Overall Mean F-beta Score: 0.3467\n",
      "\n",
      "Training Loss: 0.6294, Validation Loss: 0.6322, Validation F-beta: 0.3467\n",
      "Epoch 40/4000\n",
      "Current lambda: 0.5000\n"
     ]
    },
    {
     "name": "stderr",
     "output_type": "stream",
     "text": [
      "Training: 100%|██████████| 24/24 [00:23<00:00,  1.03it/s, loss=0.674]\n",
      "Validation: 100%|██████████| 4/4 [00:02<00:00,  1.71it/s, loss=0.616]\n"
     ]
    },
    {
     "name": "stdout",
     "output_type": "stream",
     "text": [
      "Validation Dice Score\n",
      "Class 0: 0.5781, Class 1: 0.0004, Class 2: 0.0032, Class 3: 0.1478, \n",
      "Class 4: 0.2901, Class 5: 0.2882, Class 6: 0.4653, \n",
      "Validation F-beta Score\n",
      "Class 0: 0.4228, Class 1: 0.0033, Class 2: 0.0249, Class 3: 0.2863, \n",
      "Class 4: 0.3239, Class 5: 0.3522, Class 6: 0.6029, \n",
      "Overall Mean Dice Score: 0.2384\n",
      "Overall Mean F-beta Score: 0.3137\n",
      "\n",
      "Training Loss: 0.6268, Validation Loss: 0.6434, Validation F-beta: 0.3137\n",
      "Epoch 41/4000\n",
      "Current lambda: 0.5000\n"
     ]
    },
    {
     "name": "stderr",
     "output_type": "stream",
     "text": [
      "Training: 100%|██████████| 24/24 [00:23<00:00,  1.03it/s, loss=0.631]\n",
      "Validation: 100%|██████████| 4/4 [00:02<00:00,  1.75it/s, loss=0.593]\n"
     ]
    },
    {
     "name": "stdout",
     "output_type": "stream",
     "text": [
      "Validation Dice Score\n",
      "Class 0: 0.5796, Class 1: 0.0006, Class 2: 0.0054, Class 3: 0.3547, \n",
      "Class 4: 0.2584, Class 5: 0.2822, Class 6: 0.3734, \n",
      "Validation F-beta Score\n",
      "Class 0: 0.4240, Class 1: 0.0049, Class 2: 0.0394, Class 3: 0.4975, \n",
      "Class 4: 0.4178, Class 5: 0.4892, Class 6: 0.5244, \n",
      "Overall Mean Dice Score: 0.2538\n",
      "Overall Mean F-beta Score: 0.3867\n",
      "\n",
      "Training Loss: 0.6275, Validation Loss: 0.6277, Validation F-beta: 0.3867\n",
      "Epoch 42/4000\n",
      "Current lambda: 0.5000\n"
     ]
    },
    {
     "name": "stderr",
     "output_type": "stream",
     "text": [
      "Training: 100%|██████████| 24/24 [00:23<00:00,  1.03it/s, loss=0.619]\n",
      "Validation: 100%|██████████| 4/4 [00:02<00:00,  1.71it/s, loss=0.622]\n"
     ]
    },
    {
     "name": "stdout",
     "output_type": "stream",
     "text": [
      "Validation Dice Score\n",
      "Class 0: 0.5792, Class 1: 0.0003, Class 2: 0.0029, Class 3: 0.4269, \n",
      "Class 4: 0.3029, Class 5: 0.2837, Class 6: 0.2768, \n",
      "Validation F-beta Score\n",
      "Class 0: 0.4238, Class 1: 0.0023, Class 2: 0.0224, Class 3: 0.3816, \n",
      "Class 4: 0.4291, Class 5: 0.3635, Class 6: 0.3174, \n",
      "Overall Mean Dice Score: 0.2581\n",
      "Overall Mean F-beta Score: 0.2988\n",
      "\n",
      "Training Loss: 0.6280, Validation Loss: 0.6280, Validation F-beta: 0.2988\n",
      "Epoch 43/4000\n",
      "Current lambda: 0.5000\n"
     ]
    },
    {
     "name": "stderr",
     "output_type": "stream",
     "text": [
      "Training: 100%|██████████| 24/24 [00:23<00:00,  1.04it/s, loss=0.65] \n",
      "Validation: 100%|██████████| 4/4 [00:02<00:00,  1.70it/s, loss=0.631]\n"
     ]
    },
    {
     "name": "stdout",
     "output_type": "stream",
     "text": [
      "Validation Dice Score\n",
      "Class 0: 0.5893, Class 1: 0.0003, Class 2: 0.0059, Class 3: 0.3691, \n",
      "Class 4: 0.2933, Class 5: 0.2395, Class 6: 0.4156, \n",
      "Validation F-beta Score\n",
      "Class 0: 0.4342, Class 1: 0.0021, Class 2: 0.0442, Class 3: 0.5478, \n",
      "Class 4: 0.3333, Class 5: 0.3351, Class 6: 0.7033, \n",
      "Overall Mean Dice Score: 0.2636\n",
      "Overall Mean F-beta Score: 0.3843\n",
      "\n",
      "Training Loss: 0.6296, Validation Loss: 0.6221, Validation F-beta: 0.3843\n",
      "Epoch 44/4000\n",
      "Current lambda: 0.5000\n"
     ]
    },
    {
     "name": "stderr",
     "output_type": "stream",
     "text": [
      "Training: 100%|██████████| 24/24 [00:23<00:00,  1.03it/s, loss=0.656]\n",
      "Validation: 100%|██████████| 4/4 [00:02<00:00,  1.74it/s, loss=0.628]\n"
     ]
    },
    {
     "name": "stdout",
     "output_type": "stream",
     "text": [
      "Validation Dice Score\n",
      "Class 0: 0.5947, Class 1: 0.0006, Class 2: 0.0027, Class 3: 0.4290, \n",
      "Class 4: 0.3480, Class 5: 0.2732, Class 6: 0.1529, \n",
      "Validation F-beta Score\n",
      "Class 0: 0.4393, Class 1: 0.0047, Class 2: 0.0204, Class 3: 0.5004, \n",
      "Class 4: 0.4198, Class 5: 0.4310, Class 6: 0.2145, \n",
      "Overall Mean Dice Score: 0.2407\n",
      "Overall Mean F-beta Score: 0.3141\n",
      "\n",
      "Training Loss: 0.6268, Validation Loss: 0.6273, Validation F-beta: 0.3141\n",
      "Epoch 45/4000\n",
      "Current lambda: 0.5000\n"
     ]
    },
    {
     "name": "stderr",
     "output_type": "stream",
     "text": [
      "Training: 100%|██████████| 24/24 [00:22<00:00,  1.05it/s, loss=0.651]\n",
      "Validation: 100%|██████████| 4/4 [00:02<00:00,  1.73it/s, loss=0.599]\n"
     ]
    },
    {
     "name": "stdout",
     "output_type": "stream",
     "text": [
      "Validation Dice Score\n",
      "Class 0: 0.5962, Class 1: 0.0008, Class 2: 0.0083, Class 3: 0.5385, \n",
      "Class 4: 0.3083, Class 5: 0.3092, Class 6: 0.5236, \n",
      "Validation F-beta Score\n",
      "Class 0: 0.4412, Class 1: 0.0068, Class 2: 0.0593, Class 3: 0.5750, \n",
      "Class 4: 0.3872, Class 5: 0.3912, Class 6: 0.6518, \n",
      "Overall Mean Dice Score: 0.3361\n",
      "Overall Mean F-beta Score: 0.4024\n",
      "\n",
      "Training Loss: 0.6307, Validation Loss: 0.6003, Validation F-beta: 0.4024\n",
      "========================================================\n",
      "Best model saved based on validation loss: 0.6003\n",
      "========================================================\n",
      "Epoch 46/4000\n",
      "Current lambda: 0.5000\n"
     ]
    },
    {
     "name": "stderr",
     "output_type": "stream",
     "text": [
      "Training: 100%|██████████| 24/24 [00:23<00:00,  1.03it/s, loss=0.603]\n",
      "Validation: 100%|██████████| 4/4 [00:02<00:00,  1.65it/s, loss=0.65] \n"
     ]
    },
    {
     "name": "stdout",
     "output_type": "stream",
     "text": [
      "Validation Dice Score\n",
      "Class 0: 0.6034, Class 1: 0.0010, Class 2: 0.0095, Class 3: 0.4125, \n",
      "Class 4: 0.2242, Class 5: 0.3091, Class 6: 0.3460, \n",
      "Validation F-beta Score\n",
      "Class 0: 0.4481, Class 1: 0.0078, Class 2: 0.0642, Class 3: 0.4063, \n",
      "Class 4: 0.2160, Class 5: 0.4700, Class 6: 0.3943, \n",
      "Overall Mean Dice Score: 0.2585\n",
      "Overall Mean F-beta Score: 0.2989\n",
      "\n",
      "Training Loss: 0.6217, Validation Loss: 0.6390, Validation F-beta: 0.2989\n",
      "Epoch 47/4000\n",
      "Current lambda: 0.5000\n"
     ]
    },
    {
     "name": "stderr",
     "output_type": "stream",
     "text": [
      "Training: 100%|██████████| 24/24 [00:23<00:00,  1.04it/s, loss=0.624]\n",
      "Validation: 100%|██████████| 4/4 [00:02<00:00,  1.74it/s, loss=0.619]\n"
     ]
    },
    {
     "name": "stdout",
     "output_type": "stream",
     "text": [
      "Validation Dice Score\n",
      "Class 0: 0.6046, Class 1: 0.0009, Class 2: 0.0070, Class 3: 0.2588, \n",
      "Class 4: 0.3170, Class 5: 0.3507, Class 6: 0.3964, \n",
      "Validation F-beta Score\n",
      "Class 0: 0.4498, Class 1: 0.0070, Class 2: 0.0513, Class 3: 0.3870, \n",
      "Class 4: 0.4232, Class 5: 0.4123, Class 6: 0.5331, \n",
      "Overall Mean Dice Score: 0.2647\n",
      "Overall Mean F-beta Score: 0.3525\n",
      "\n",
      "Training Loss: 0.6299, Validation Loss: 0.6332, Validation F-beta: 0.3525\n",
      "Epoch 48/4000\n",
      "Current lambda: 0.5000\n"
     ]
    },
    {
     "name": "stderr",
     "output_type": "stream",
     "text": [
      "Training: 100%|██████████| 24/24 [00:23<00:00,  1.03it/s, loss=0.629]\n",
      "Validation: 100%|██████████| 4/4 [00:02<00:00,  1.70it/s, loss=0.587]\n"
     ]
    },
    {
     "name": "stdout",
     "output_type": "stream",
     "text": [
      "Validation Dice Score\n",
      "Class 0: 0.6015, Class 1: 0.0005, Class 2: 0.0079, Class 3: 0.2894, \n",
      "Class 4: 0.2717, Class 5: 0.3251, Class 6: 0.5977, \n",
      "Validation F-beta Score\n",
      "Class 0: 0.4463, Class 1: 0.0041, Class 2: 0.0541, Class 3: 0.2958, \n",
      "Class 4: 0.5242, Class 5: 0.5055, Class 6: 0.6599, \n",
      "Overall Mean Dice Score: 0.2969\n",
      "Overall Mean F-beta Score: 0.3979\n",
      "\n",
      "Training Loss: 0.6217, Validation Loss: 0.6151, Validation F-beta: 0.3979\n",
      "Epoch 49/4000\n",
      "Current lambda: 0.5000\n"
     ]
    },
    {
     "name": "stderr",
     "output_type": "stream",
     "text": [
      "Training: 100%|██████████| 24/24 [00:23<00:00,  1.04it/s, loss=0.63] \n",
      "Validation: 100%|██████████| 4/4 [00:02<00:00,  1.76it/s, loss=0.645]\n"
     ]
    },
    {
     "name": "stdout",
     "output_type": "stream",
     "text": [
      "Validation Dice Score\n",
      "Class 0: 0.6159, Class 1: 0.0012, Class 2: 0.0056, Class 3: 0.2244, \n",
      "Class 4: 0.3322, Class 5: 0.2453, Class 6: 0.4908, \n",
      "Validation F-beta Score\n",
      "Class 0: 0.4615, Class 1: 0.0100, Class 2: 0.0367, Class 3: 0.3067, \n",
      "Class 4: 0.2882, Class 5: 0.3402, Class 6: 0.7475, \n",
      "Overall Mean Dice Score: 0.2588\n",
      "Overall Mean F-beta Score: 0.3385\n",
      "\n",
      "Training Loss: 0.6296, Validation Loss: 0.6316, Validation F-beta: 0.3385\n",
      "Epoch 50/4000\n",
      "Current lambda: 0.5000\n"
     ]
    },
    {
     "name": "stderr",
     "output_type": "stream",
     "text": [
      "Training: 100%|██████████| 24/24 [00:23<00:00,  1.04it/s, loss=0.636]\n",
      "Validation: 100%|██████████| 4/4 [00:02<00:00,  1.75it/s, loss=0.612]\n"
     ]
    },
    {
     "name": "stdout",
     "output_type": "stream",
     "text": [
      "Validation Dice Score\n",
      "Class 0: 0.6106, Class 1: 0.0024, Class 2: 0.0136, Class 3: 0.3072, \n",
      "Class 4: 0.2122, Class 5: 0.1961, Class 6: 0.4431, \n",
      "Validation F-beta Score\n",
      "Class 0: 0.4558, Class 1: 0.0193, Class 2: 0.0519, Class 3: 0.3805, \n",
      "Class 4: 0.3444, Class 5: 0.3216, Class 6: 0.5194, \n",
      "Overall Mean Dice Score: 0.2322\n",
      "Overall Mean F-beta Score: 0.3171\n",
      "\n",
      "Training Loss: 0.6298, Validation Loss: 0.6452, Validation F-beta: 0.3171\n",
      "Epoch 51/4000\n",
      "Current lambda: 0.5000\n"
     ]
    },
    {
     "name": "stderr",
     "output_type": "stream",
     "text": [
      "Training: 100%|██████████| 24/24 [00:22<00:00,  1.05it/s, loss=0.629]\n",
      "Validation: 100%|██████████| 4/4 [00:02<00:00,  1.81it/s, loss=0.619]\n"
     ]
    },
    {
     "name": "stdout",
     "output_type": "stream",
     "text": [
      "Validation Dice Score\n",
      "Class 0: 0.6178, Class 1: 0.0006, Class 2: 0.0226, Class 3: 0.4205, \n",
      "Class 4: 0.2442, Class 5: 0.3518, Class 6: 0.5382, \n",
      "Validation F-beta Score\n",
      "Class 0: 0.4631, Class 1: 0.0046, Class 2: 0.1037, Class 3: 0.4299, \n",
      "Class 4: 0.2401, Class 5: 0.5342, Class 6: 0.7236, \n",
      "Overall Mean Dice Score: 0.3110\n",
      "Overall Mean F-beta Score: 0.3865\n",
      "\n",
      "Training Loss: 0.6223, Validation Loss: 0.6256, Validation F-beta: 0.3865\n",
      "Epoch 52/4000\n",
      "Current lambda: 0.5000\n"
     ]
    },
    {
     "name": "stderr",
     "output_type": "stream",
     "text": [
      "Training: 100%|██████████| 24/24 [00:23<00:00,  1.04it/s, loss=0.631]\n",
      "Validation: 100%|██████████| 4/4 [00:02<00:00,  1.70it/s, loss=0.62] \n"
     ]
    },
    {
     "name": "stdout",
     "output_type": "stream",
     "text": [
      "Validation Dice Score\n",
      "Class 0: 0.6313, Class 1: 0.0018, Class 2: 0.0194, Class 3: 0.2990, \n",
      "Class 4: 0.4720, Class 5: 0.2723, Class 6: 0.3435, \n",
      "Validation F-beta Score\n",
      "Class 0: 0.4778, Class 1: 0.0143, Class 2: 0.0789, Class 3: 0.3912, \n",
      "Class 4: 0.5940, Class 5: 0.3453, Class 6: 0.4745, \n",
      "Overall Mean Dice Score: 0.2777\n",
      "Overall Mean F-beta Score: 0.3639\n",
      "\n",
      "Training Loss: 0.6228, Validation Loss: 0.6274, Validation F-beta: 0.3639\n",
      "Epoch 53/4000\n",
      "Current lambda: 0.5000\n"
     ]
    },
    {
     "name": "stderr",
     "output_type": "stream",
     "text": [
      "Training: 100%|██████████| 24/24 [00:23<00:00,  1.04it/s, loss=0.635]\n",
      "Validation: 100%|██████████| 4/4 [00:02<00:00,  1.75it/s, loss=0.626]\n"
     ]
    },
    {
     "name": "stdout",
     "output_type": "stream",
     "text": [
      "Validation Dice Score\n",
      "Class 0: 0.6213, Class 1: 0.0005, Class 2: 0.0092, Class 3: 0.4796, \n",
      "Class 4: 0.2539, Class 5: 0.3223, Class 6: 0.3512, \n",
      "Validation F-beta Score\n",
      "Class 0: 0.4675, Class 1: 0.0046, Class 2: 0.0450, Class 3: 0.4964, \n",
      "Class 4: 0.3530, Class 5: 0.4555, Class 6: 0.5271, \n",
      "Overall Mean Dice Score: 0.2815\n",
      "Overall Mean F-beta Score: 0.3673\n",
      "\n",
      "Training Loss: 0.6213, Validation Loss: 0.6166, Validation F-beta: 0.3673\n",
      "Epoch 54/4000\n",
      "Current lambda: 0.5000\n"
     ]
    },
    {
     "name": "stderr",
     "output_type": "stream",
     "text": [
      "Training: 100%|██████████| 24/24 [00:22<00:00,  1.04it/s, loss=0.619]\n",
      "Validation: 100%|██████████| 4/4 [00:02<00:00,  1.74it/s, loss=0.603]\n"
     ]
    },
    {
     "name": "stdout",
     "output_type": "stream",
     "text": [
      "Validation Dice Score\n",
      "Class 0: 0.6206, Class 1: 0.0021, Class 2: 0.0327, Class 3: 0.3701, \n",
      "Class 4: 0.4433, Class 5: 0.2550, Class 6: 0.6179, \n",
      "Validation F-beta Score\n",
      "Class 0: 0.4660, Class 1: 0.0169, Class 2: 0.1089, Class 3: 0.5396, \n",
      "Class 4: 0.5773, Class 5: 0.4742, Class 6: 0.7400, \n",
      "Overall Mean Dice Score: 0.3377\n",
      "Overall Mean F-beta Score: 0.4696\n",
      "\n",
      "Training Loss: 0.6267, Validation Loss: 0.6108, Validation F-beta: 0.4696\n",
      "========================================================\n",
      "Best model saved based on F-beta score: 0.4696\n",
      "========================================================\n",
      "Epoch 55/4000\n",
      "Current lambda: 0.5000\n"
     ]
    },
    {
     "name": "stderr",
     "output_type": "stream",
     "text": [
      "Training: 100%|██████████| 24/24 [00:23<00:00,  1.04it/s, loss=0.617]\n",
      "Validation: 100%|██████████| 4/4 [00:02<00:00,  1.77it/s, loss=0.619]\n"
     ]
    },
    {
     "name": "stdout",
     "output_type": "stream",
     "text": [
      "Validation Dice Score\n",
      "Class 0: 0.6248, Class 1: 0.0007, Class 2: 0.0038, Class 3: 0.3772, \n",
      "Class 4: 0.3031, Class 5: 0.3629, Class 6: 0.4703, \n",
      "Validation F-beta Score\n",
      "Class 0: 0.4714, Class 1: 0.0060, Class 2: 0.0206, Class 3: 0.3504, \n",
      "Class 4: 0.4262, Class 5: 0.4854, Class 6: 0.6853, \n",
      "Overall Mean Dice Score: 0.3029\n",
      "Overall Mean F-beta Score: 0.3906\n",
      "\n",
      "Training Loss: 0.6226, Validation Loss: 0.6089, Validation F-beta: 0.3906\n",
      "Epoch 56/4000\n",
      "Current lambda: 0.5000\n"
     ]
    },
    {
     "name": "stderr",
     "output_type": "stream",
     "text": [
      "Training: 100%|██████████| 24/24 [00:22<00:00,  1.05it/s, loss=0.619]\n",
      "Validation: 100%|██████████| 4/4 [00:02<00:00,  1.77it/s, loss=0.638]\n"
     ]
    },
    {
     "name": "stdout",
     "output_type": "stream",
     "text": [
      "Validation Dice Score\n",
      "Class 0: 0.6198, Class 1: 0.0021, Class 2: 0.0920, Class 3: 0.2554, \n",
      "Class 4: 0.3192, Class 5: 0.2826, Class 6: 0.4858, \n",
      "Validation F-beta Score\n",
      "Class 0: 0.4652, Class 1: 0.0177, Class 2: 0.1584, Class 3: 0.4109, \n",
      "Class 4: 0.5900, Class 5: 0.4213, Class 6: 0.5729, \n",
      "Overall Mean Dice Score: 0.2690\n",
      "Overall Mean F-beta Score: 0.4025\n",
      "\n",
      "Training Loss: 0.6169, Validation Loss: 0.6377, Validation F-beta: 0.4025\n",
      "Epoch 57/4000\n",
      "Current lambda: 0.5000\n"
     ]
    },
    {
     "name": "stderr",
     "output_type": "stream",
     "text": [
      "Training: 100%|██████████| 24/24 [00:23<00:00,  1.04it/s, loss=0.628]\n",
      "Validation: 100%|██████████| 4/4 [00:02<00:00,  1.75it/s, loss=0.595]\n"
     ]
    },
    {
     "name": "stdout",
     "output_type": "stream",
     "text": [
      "Validation Dice Score\n",
      "Class 0: 0.6292, Class 1: 0.0022, Class 2: 0.0527, Class 3: 0.3975, \n",
      "Class 4: 0.3750, Class 5: 0.2990, Class 6: 0.5757, \n",
      "Validation F-beta Score\n",
      "Class 0: 0.4756, Class 1: 0.0180, Class 2: 0.0909, Class 3: 0.4807, \n",
      "Class 4: 0.4308, Class 5: 0.4173, Class 6: 0.8186, \n",
      "Overall Mean Dice Score: 0.3299\n",
      "Overall Mean F-beta Score: 0.4331\n",
      "\n",
      "Training Loss: 0.6263, Validation Loss: 0.6096, Validation F-beta: 0.4331\n",
      "Epoch 58/4000\n",
      "Current lambda: 0.5000\n"
     ]
    },
    {
     "name": "stderr",
     "output_type": "stream",
     "text": [
      "Training: 100%|██████████| 24/24 [00:23<00:00,  1.04it/s, loss=0.59] \n",
      "Validation: 100%|██████████| 4/4 [00:02<00:00,  1.79it/s, loss=0.631]\n"
     ]
    },
    {
     "name": "stdout",
     "output_type": "stream",
     "text": [
      "Validation Dice Score\n",
      "Class 0: 0.6254, Class 1: 0.0033, Class 2: 0.0627, Class 3: 0.3240, \n",
      "Class 4: 0.4707, Class 5: 0.2574, Class 6: 0.5968, \n",
      "Validation F-beta Score\n",
      "Class 0: 0.4717, Class 1: 0.0266, Class 2: 0.1875, Class 3: 0.3329, \n",
      "Class 4: 0.5280, Class 5: 0.4470, Class 6: 0.7638, \n",
      "Overall Mean Dice Score: 0.3304\n",
      "Overall Mean F-beta Score: 0.4196\n",
      "\n",
      "Training Loss: 0.6162, Validation Loss: 0.6194, Validation F-beta: 0.4196\n",
      "Epoch 59/4000\n",
      "Current lambda: 0.5000\n"
     ]
    },
    {
     "name": "stderr",
     "output_type": "stream",
     "text": [
      "Training: 100%|██████████| 24/24 [00:23<00:00,  1.01it/s, loss=0.612]\n",
      "Validation: 100%|██████████| 4/4 [00:02<00:00,  1.73it/s, loss=0.628]\n"
     ]
    },
    {
     "name": "stdout",
     "output_type": "stream",
     "text": [
      "Validation Dice Score\n",
      "Class 0: 0.6235, Class 1: 0.0016, Class 2: 0.0835, Class 3: 0.4420, \n",
      "Class 4: 0.1289, Class 5: 0.3592, Class 6: 0.2984, \n",
      "Validation F-beta Score\n",
      "Class 0: 0.4690, Class 1: 0.0131, Class 2: 0.1067, Class 3: 0.4274, \n",
      "Class 4: 0.2849, Class 5: 0.5097, Class 6: 0.3710, \n",
      "Overall Mean Dice Score: 0.2460\n",
      "Overall Mean F-beta Score: 0.3212\n",
      "\n",
      "Training Loss: 0.6311, Validation Loss: 0.6240, Validation F-beta: 0.3212\n",
      "Epoch 60/4000\n",
      "Current lambda: 0.5000\n"
     ]
    },
    {
     "name": "stderr",
     "output_type": "stream",
     "text": [
      "Training: 100%|██████████| 24/24 [00:23<00:00,  1.01it/s, loss=0.61] \n",
      "Validation: 100%|██████████| 4/4 [00:02<00:00,  1.54it/s, loss=0.603]\n"
     ]
    },
    {
     "name": "stdout",
     "output_type": "stream",
     "text": [
      "Validation Dice Score\n",
      "Class 0: 0.6240, Class 1: 0.0007, Class 2: 0.0118, Class 3: 0.5165, \n",
      "Class 4: 0.3793, Class 5: 0.3121, Class 6: 0.3553, \n",
      "Validation F-beta Score\n",
      "Class 0: 0.4701, Class 1: 0.0059, Class 2: 0.0499, Class 3: 0.6866, \n",
      "Class 4: 0.4350, Class 5: 0.3828, Class 6: 0.5531, \n",
      "Overall Mean Dice Score: 0.3128\n",
      "Overall Mean F-beta Score: 0.4127\n",
      "\n",
      "Training Loss: 0.6101, Validation Loss: 0.6107, Validation F-beta: 0.4127\n",
      "Epoch 61/4000\n",
      "Current lambda: 0.5000\n"
     ]
    },
    {
     "name": "stderr",
     "output_type": "stream",
     "text": [
      "Training: 100%|██████████| 24/24 [00:23<00:00,  1.04it/s, loss=0.617]\n",
      "Validation: 100%|██████████| 4/4 [00:02<00:00,  1.72it/s, loss=0.594]\n"
     ]
    },
    {
     "name": "stdout",
     "output_type": "stream",
     "text": [
      "Validation Dice Score\n",
      "Class 0: 0.6402, Class 1: 0.0013, Class 2: 0.0395, Class 3: 0.3019, \n",
      "Class 4: 0.4124, Class 5: 0.3912, Class 6: 0.3870, \n",
      "Validation F-beta Score\n",
      "Class 0: 0.4875, Class 1: 0.0110, Class 2: 0.0803, Class 3: 0.4530, \n",
      "Class 4: 0.5985, Class 5: 0.4732, Class 6: 0.5160, \n",
      "Overall Mean Dice Score: 0.2988\n",
      "Overall Mean F-beta Score: 0.4103\n",
      "\n",
      "Training Loss: 0.6199, Validation Loss: 0.6088, Validation F-beta: 0.4103\n",
      "Epoch 62/4000\n",
      "Current lambda: 0.5000\n"
     ]
    },
    {
     "name": "stderr",
     "output_type": "stream",
     "text": [
      "Training: 100%|██████████| 24/24 [00:23<00:00,  1.04it/s, loss=0.652]\n",
      "Validation: 100%|██████████| 4/4 [00:02<00:00,  1.71it/s, loss=0.644]\n"
     ]
    },
    {
     "name": "stdout",
     "output_type": "stream",
     "text": [
      "Validation Dice Score\n",
      "Class 0: 0.6345, Class 1: 0.0007, Class 2: 0.0835, Class 3: 0.2842, \n",
      "Class 4: 0.3188, Class 5: 0.3848, Class 6: 0.4152, \n",
      "Validation F-beta Score\n",
      "Class 0: 0.4816, Class 1: 0.0057, Class 2: 0.2226, Class 3: 0.3736, \n",
      "Class 4: 0.2978, Class 5: 0.4984, Class 6: 0.5311, \n",
      "Overall Mean Dice Score: 0.2808\n",
      "Overall Mean F-beta Score: 0.3413\n",
      "\n",
      "Training Loss: 0.6257, Validation Loss: 0.6271, Validation F-beta: 0.3413\n",
      "Epoch 63/4000\n",
      "Current lambda: 0.5000\n"
     ]
    },
    {
     "name": "stderr",
     "output_type": "stream",
     "text": [
      "Training: 100%|██████████| 24/24 [00:23<00:00,  1.04it/s, loss=0.636]\n",
      "Validation: 100%|██████████| 4/4 [00:02<00:00,  1.69it/s, loss=0.564]\n"
     ]
    },
    {
     "name": "stdout",
     "output_type": "stream",
     "text": [
      "Validation Dice Score\n",
      "Class 0: 0.6369, Class 1: 0.0010, Class 2: 0.0266, Class 3: 0.4152, \n",
      "Class 4: 0.4832, Class 5: 0.4272, Class 6: 0.3285, \n",
      "Validation F-beta Score\n",
      "Class 0: 0.4837, Class 1: 0.0086, Class 2: 0.0485, Class 3: 0.5526, \n",
      "Class 4: 0.5149, Class 5: 0.4838, Class 6: 0.4658, \n",
      "Overall Mean Dice Score: 0.3310\n",
      "Overall Mean F-beta Score: 0.4051\n",
      "\n",
      "Training Loss: 0.6210, Validation Loss: 0.5953, Validation F-beta: 0.4051\n",
      "========================================================\n",
      "Best model saved based on validation loss: 0.5953\n",
      "========================================================\n",
      "Epoch 64/4000\n",
      "Current lambda: 0.5000\n"
     ]
    },
    {
     "name": "stderr",
     "output_type": "stream",
     "text": [
      "Training: 100%|██████████| 24/24 [00:23<00:00,  1.04it/s, loss=0.641]\n",
      "Validation: 100%|██████████| 4/4 [00:02<00:00,  1.77it/s, loss=0.643]\n"
     ]
    },
    {
     "name": "stdout",
     "output_type": "stream",
     "text": [
      "Validation Dice Score\n",
      "Class 0: 0.6364, Class 1: 0.0011, Class 2: 0.0691, Class 3: 0.4047, \n",
      "Class 4: 0.3981, Class 5: 0.3316, Class 6: 0.6082, \n",
      "Validation F-beta Score\n",
      "Class 0: 0.4832, Class 1: 0.0093, Class 2: 0.1323, Class 3: 0.5087, \n",
      "Class 4: 0.4140, Class 5: 0.4580, Class 6: 0.6085, \n",
      "Overall Mean Dice Score: 0.3488\n",
      "Overall Mean F-beta Score: 0.3997\n",
      "\n",
      "Training Loss: 0.6175, Validation Loss: 0.6100, Validation F-beta: 0.3997\n",
      "Epoch 65/4000\n",
      "Current lambda: 0.5000\n"
     ]
    },
    {
     "name": "stderr",
     "output_type": "stream",
     "text": [
      "Training: 100%|██████████| 24/24 [00:23<00:00,  1.04it/s, loss=0.646]\n",
      "Validation: 100%|██████████| 4/4 [00:02<00:00,  1.75it/s, loss=0.606]\n"
     ]
    },
    {
     "name": "stdout",
     "output_type": "stream",
     "text": [
      "Validation Dice Score\n",
      "Class 0: 0.6418, Class 1: 0.0023, Class 2: 0.0434, Class 3: 0.3405, \n",
      "Class 4: 0.3747, Class 5: 0.3009, Class 6: 0.5321, \n",
      "Validation F-beta Score\n",
      "Class 0: 0.4894, Class 1: 0.0190, Class 2: 0.1053, Class 3: 0.4474, \n",
      "Class 4: 0.4705, Class 5: 0.3493, Class 6: 0.7616, \n",
      "Overall Mean Dice Score: 0.3101\n",
      "Overall Mean F-beta Score: 0.4096\n",
      "\n",
      "Training Loss: 0.6179, Validation Loss: 0.6079, Validation F-beta: 0.4096\n",
      "Epoch 66/4000\n",
      "Current lambda: 0.5000\n"
     ]
    },
    {
     "name": "stderr",
     "output_type": "stream",
     "text": [
      "Training: 100%|██████████| 24/24 [00:23<00:00,  1.04it/s, loss=0.613]\n",
      "Validation: 100%|██████████| 4/4 [00:02<00:00,  1.73it/s, loss=0.654]\n"
     ]
    },
    {
     "name": "stdout",
     "output_type": "stream",
     "text": [
      "Validation Dice Score\n",
      "Class 0: 0.6365, Class 1: 0.0013, Class 2: 0.0136, Class 3: 0.3496, \n",
      "Class 4: 0.3338, Class 5: 0.3172, Class 6: 0.4557, \n",
      "Validation F-beta Score\n",
      "Class 0: 0.4834, Class 1: 0.0108, Class 2: 0.0327, Class 3: 0.4616, \n",
      "Class 4: 0.3613, Class 5: 0.3677, Class 6: 0.7199, \n",
      "Overall Mean Dice Score: 0.2915\n",
      "Overall Mean F-beta Score: 0.3843\n",
      "\n",
      "Training Loss: 0.6129, Validation Loss: 0.6198, Validation F-beta: 0.3843\n",
      "Epoch 67/4000\n",
      "Current lambda: 0.5000\n"
     ]
    },
    {
     "name": "stderr",
     "output_type": "stream",
     "text": [
      "Training: 100%|██████████| 24/24 [00:23<00:00,  1.04it/s, loss=0.602]\n",
      "Validation: 100%|██████████| 4/4 [00:02<00:00,  1.72it/s, loss=0.629]\n"
     ]
    },
    {
     "name": "stdout",
     "output_type": "stream",
     "text": [
      "Validation Dice Score\n",
      "Class 0: 0.6423, Class 1: 0.0004, Class 2: 0.0680, Class 3: 0.5267, \n",
      "Class 4: 0.4969, Class 5: 0.1740, Class 6: 0.3814, \n",
      "Validation F-beta Score\n",
      "Class 0: 0.4899, Class 1: 0.0031, Class 2: 0.2041, Class 3: 0.6553, \n",
      "Class 4: 0.5406, Class 5: 0.3117, Class 6: 0.4440, \n",
      "Overall Mean Dice Score: 0.3159\n",
      "Overall Mean F-beta Score: 0.3909\n",
      "\n",
      "Training Loss: 0.6199, Validation Loss: 0.6209, Validation F-beta: 0.3909\n",
      "Epoch 68/4000\n",
      "Current lambda: 0.5000\n"
     ]
    },
    {
     "name": "stderr",
     "output_type": "stream",
     "text": [
      "Training: 100%|██████████| 24/24 [00:22<00:00,  1.05it/s, loss=0.609]\n",
      "Validation: 100%|██████████| 4/4 [00:02<00:00,  1.73it/s, loss=0.594]\n"
     ]
    },
    {
     "name": "stdout",
     "output_type": "stream",
     "text": [
      "Validation Dice Score\n",
      "Class 0: 0.6314, Class 1: 0.0016, Class 2: 0.0043, Class 3: 0.3775, \n",
      "Class 4: 0.2703, Class 5: 0.2869, Class 6: 0.6854, \n",
      "Validation F-beta Score\n",
      "Class 0: 0.4777, Class 1: 0.0131, Class 2: 0.0093, Class 3: 0.5188, \n",
      "Class 4: 0.3838, Class 5: 0.2833, Class 6: 0.7871, \n",
      "Overall Mean Dice Score: 0.3243\n",
      "Overall Mean F-beta Score: 0.3972\n",
      "\n",
      "Training Loss: 0.6181, Validation Loss: 0.6085, Validation F-beta: 0.3972\n",
      "Epoch 69/4000\n",
      "Current lambda: 0.5000\n"
     ]
    },
    {
     "name": "stderr",
     "output_type": "stream",
     "text": [
      "Training: 100%|██████████| 24/24 [00:23<00:00,  1.04it/s, loss=0.629]\n",
      "Validation: 100%|██████████| 4/4 [00:02<00:00,  1.77it/s, loss=0.625]\n"
     ]
    },
    {
     "name": "stdout",
     "output_type": "stream",
     "text": [
      "Validation Dice Score\n",
      "Class 0: 0.6373, Class 1: 0.0013, Class 2: 0.1136, Class 3: 0.4861, \n",
      "Class 4: 0.3182, Class 5: 0.3463, Class 6: 0.3704, \n",
      "Validation F-beta Score\n",
      "Class 0: 0.4838, Class 1: 0.0104, Class 2: 0.2149, Class 3: 0.5180, \n",
      "Class 4: 0.4791, Class 5: 0.5182, Class 6: 0.5068, \n",
      "Overall Mean Dice Score: 0.3045\n",
      "Overall Mean F-beta Score: 0.4065\n",
      "\n",
      "Training Loss: 0.6221, Validation Loss: 0.6065, Validation F-beta: 0.4065\n",
      "Epoch 70/4000\n",
      "Current lambda: 0.5000\n"
     ]
    },
    {
     "name": "stderr",
     "output_type": "stream",
     "text": [
      "Training: 100%|██████████| 24/24 [00:23<00:00,  1.03it/s, loss=0.612]\n",
      "Validation: 100%|██████████| 4/4 [00:02<00:00,  1.76it/s, loss=0.591]\n"
     ]
    },
    {
     "name": "stdout",
     "output_type": "stream",
     "text": [
      "Validation Dice Score\n",
      "Class 0: 0.6430, Class 1: 0.0011, Class 2: 0.0754, Class 3: 0.4478, \n",
      "Class 4: 0.4691, Class 5: 0.4586, Class 6: 0.6506, \n",
      "Validation F-beta Score\n",
      "Class 0: 0.4906, Class 1: 0.0095, Class 2: 0.1716, Class 3: 0.5050, \n",
      "Class 4: 0.5383, Class 5: 0.5380, Class 6: 0.7716, \n",
      "Overall Mean Dice Score: 0.4054\n",
      "Overall Mean F-beta Score: 0.4725\n",
      "\n",
      "Training Loss: 0.6184, Validation Loss: 0.5911, Validation F-beta: 0.4725\n",
      "========================================================\n",
      "SUPER Best model saved. Loss:0.5911, Score:0.4725\n",
      "========================================================\n",
      "Epoch 71/4000\n",
      "Current lambda: 0.5000\n"
     ]
    },
    {
     "name": "stderr",
     "output_type": "stream",
     "text": [
      "Training: 100%|██████████| 24/24 [00:23<00:00,  1.04it/s, loss=0.622]\n",
      "Validation: 100%|██████████| 4/4 [00:02<00:00,  1.75it/s, loss=0.613]\n"
     ]
    },
    {
     "name": "stdout",
     "output_type": "stream",
     "text": [
      "Validation Dice Score\n",
      "Class 0: 0.6613, Class 1: 0.0011, Class 2: 0.0479, Class 3: 0.3954, \n",
      "Class 4: 0.4469, Class 5: 0.5093, Class 6: 0.3692, \n",
      "Validation F-beta Score\n",
      "Class 0: 0.5110, Class 1: 0.0092, Class 2: 0.1400, Class 3: 0.4803, \n",
      "Class 4: 0.4071, Class 5: 0.6160, Class 6: 0.6329, \n",
      "Overall Mean Dice Score: 0.3444\n",
      "Overall Mean F-beta Score: 0.4291\n",
      "\n",
      "Training Loss: 0.6128, Validation Loss: 0.6044, Validation F-beta: 0.4291\n",
      "Epoch 72/4000\n",
      "Current lambda: 0.5000\n"
     ]
    },
    {
     "name": "stderr",
     "output_type": "stream",
     "text": [
      "Training: 100%|██████████| 24/24 [00:23<00:00,  1.04it/s, loss=0.574]\n",
      "Validation: 100%|██████████| 4/4 [00:02<00:00,  1.71it/s, loss=0.611]\n"
     ]
    },
    {
     "name": "stdout",
     "output_type": "stream",
     "text": [
      "Validation Dice Score\n",
      "Class 0: 0.6537, Class 1: 0.0012, Class 2: 0.0000, Class 3: 0.3527, \n",
      "Class 4: 0.4873, Class 5: 0.2691, Class 6: 0.6352, \n",
      "Validation F-beta Score\n",
      "Class 0: 0.5021, Class 1: 0.0099, Class 2: 0.0000, Class 3: 0.4725, \n",
      "Class 4: 0.5440, Class 5: 0.3459, Class 6: 0.7058, \n",
      "Overall Mean Dice Score: 0.3491\n",
      "Overall Mean F-beta Score: 0.4156\n",
      "\n",
      "Training Loss: 0.6163, Validation Loss: 0.6133, Validation F-beta: 0.4156\n",
      "Epoch 73/4000\n",
      "Current lambda: 0.5000\n"
     ]
    },
    {
     "name": "stderr",
     "output_type": "stream",
     "text": [
      "Training: 100%|██████████| 24/24 [00:23<00:00,  1.04it/s, loss=0.604]\n",
      "Validation: 100%|██████████| 4/4 [00:02<00:00,  1.73it/s, loss=0.648]\n"
     ]
    },
    {
     "name": "stdout",
     "output_type": "stream",
     "text": [
      "Validation Dice Score\n",
      "Class 0: 0.6451, Class 1: 0.0016, Class 2: 0.0278, Class 3: 0.3866, \n",
      "Class 4: 0.4704, Class 5: 0.2949, Class 6: 0.4793, \n",
      "Validation F-beta Score\n",
      "Class 0: 0.4924, Class 1: 0.0134, Class 2: 0.0655, Class 3: 0.6046, \n",
      "Class 4: 0.5092, Class 5: 0.4080, Class 6: 0.7668, \n",
      "Overall Mean Dice Score: 0.3266\n",
      "Overall Mean F-beta Score: 0.4604\n",
      "\n",
      "Training Loss: 0.6186, Validation Loss: 0.6173, Validation F-beta: 0.4604\n",
      "Epoch 74/4000\n",
      "Current lambda: 0.5000\n"
     ]
    },
    {
     "name": "stderr",
     "output_type": "stream",
     "text": [
      "Training: 100%|██████████| 24/24 [00:23<00:00,  1.04it/s, loss=0.593]\n",
      "Validation: 100%|██████████| 4/4 [00:02<00:00,  1.75it/s, loss=0.59] \n"
     ]
    },
    {
     "name": "stdout",
     "output_type": "stream",
     "text": [
      "Validation Dice Score\n",
      "Class 0: 0.6459, Class 1: 0.0009, Class 2: 0.0171, Class 3: 0.4183, \n",
      "Class 4: 0.4266, Class 5: 0.3252, Class 6: 0.4216, \n",
      "Validation F-beta Score\n",
      "Class 0: 0.4938, Class 1: 0.0077, Class 2: 0.0696, Class 3: 0.6487, \n",
      "Class 4: 0.3701, Class 5: 0.3816, Class 6: 0.4993, \n",
      "Overall Mean Dice Score: 0.3185\n",
      "Overall Mean F-beta Score: 0.3815\n",
      "\n",
      "Training Loss: 0.6160, Validation Loss: 0.6062, Validation F-beta: 0.3815\n",
      "Epoch 75/4000\n",
      "Current lambda: 0.5000\n"
     ]
    },
    {
     "name": "stderr",
     "output_type": "stream",
     "text": [
      "Training: 100%|██████████| 24/24 [00:23<00:00,  1.04it/s, loss=0.609]\n",
      "Validation: 100%|██████████| 4/4 [00:02<00:00,  1.79it/s, loss=0.621]\n"
     ]
    },
    {
     "name": "stdout",
     "output_type": "stream",
     "text": [
      "Validation Dice Score\n",
      "Class 0: 0.6448, Class 1: 0.0027, Class 2: 0.1111, Class 3: 0.4837, \n",
      "Class 4: 0.3254, Class 5: 0.3334, Class 6: 0.6119, \n",
      "Validation F-beta Score\n",
      "Class 0: 0.4922, Class 1: 0.0218, Class 2: 0.1822, Class 3: 0.4991, \n",
      "Class 4: 0.5197, Class 5: 0.4452, Class 6: 0.7376, \n",
      "Overall Mean Dice Score: 0.3514\n",
      "Overall Mean F-beta Score: 0.4447\n",
      "\n",
      "Training Loss: 0.6201, Validation Loss: 0.5987, Validation F-beta: 0.4447\n",
      "Epoch 76/4000\n",
      "Current lambda: 0.5000\n"
     ]
    },
    {
     "name": "stderr",
     "output_type": "stream",
     "text": [
      "Training: 100%|██████████| 24/24 [00:23<00:00,  1.04it/s, loss=0.605]\n",
      "Validation: 100%|██████████| 4/4 [00:02<00:00,  1.74it/s, loss=0.618]\n"
     ]
    },
    {
     "name": "stdout",
     "output_type": "stream",
     "text": [
      "Validation Dice Score\n",
      "Class 0: 0.6552, Class 1: 0.0018, Class 2: 0.0672, Class 3: 0.3582, \n",
      "Class 4: 0.3799, Class 5: 0.3982, Class 6: 0.4487, \n",
      "Validation F-beta Score\n",
      "Class 0: 0.5039, Class 1: 0.0149, Class 2: 0.2325, Class 3: 0.4338, \n",
      "Class 4: 0.3950, Class 5: 0.4988, Class 6: 0.7511, \n",
      "Overall Mean Dice Score: 0.3174\n",
      "Overall Mean F-beta Score: 0.4187\n",
      "\n",
      "Training Loss: 0.6136, Validation Loss: 0.6120, Validation F-beta: 0.4187\n",
      "Epoch 77/4000\n",
      "Current lambda: 0.5000\n"
     ]
    },
    {
     "name": "stderr",
     "output_type": "stream",
     "text": [
      "Training: 100%|██████████| 24/24 [00:23<00:00,  1.03it/s, loss=0.599]\n",
      "Validation: 100%|██████████| 4/4 [00:02<00:00,  1.77it/s, loss=0.628]\n"
     ]
    },
    {
     "name": "stdout",
     "output_type": "stream",
     "text": [
      "Validation Dice Score\n",
      "Class 0: 0.6606, Class 1: 0.0034, Class 2: 0.0799, Class 3: 0.4413, \n",
      "Class 4: 0.2794, Class 5: 0.3592, Class 6: 0.6612, \n",
      "Validation F-beta Score\n",
      "Class 0: 0.5098, Class 1: 0.0276, Class 2: 0.1320, Class 3: 0.5845, \n",
      "Class 4: 0.4519, Class 5: 0.4889, Class 6: 0.8256, \n",
      "Overall Mean Dice Score: 0.3489\n",
      "Overall Mean F-beta Score: 0.4757\n",
      "\n",
      "Training Loss: 0.6261, Validation Loss: 0.6003, Validation F-beta: 0.4757\n",
      "========================================================\n",
      "Best model saved based on F-beta score: 0.4757\n",
      "========================================================\n",
      "Epoch 78/4000\n",
      "Current lambda: 0.5000\n"
     ]
    },
    {
     "name": "stderr",
     "output_type": "stream",
     "text": [
      "Training: 100%|██████████| 24/24 [00:23<00:00,  1.03it/s, loss=0.617]\n",
      "Validation: 100%|██████████| 4/4 [00:02<00:00,  1.78it/s, loss=0.596]\n"
     ]
    },
    {
     "name": "stdout",
     "output_type": "stream",
     "text": [
      "Validation Dice Score\n",
      "Class 0: 0.6633, Class 1: 0.0006, Class 2: 0.1176, Class 3: 0.3347, \n",
      "Class 4: 0.4080, Class 5: 0.5511, Class 6: 0.3846, \n",
      "Validation F-beta Score\n",
      "Class 0: 0.5136, Class 1: 0.0047, Class 2: 0.2425, Class 3: 0.3883, \n",
      "Class 4: 0.4651, Class 5: 0.5576, Class 6: 0.5806, \n",
      "Overall Mean Dice Score: 0.3358\n",
      "Overall Mean F-beta Score: 0.3993\n",
      "\n",
      "Training Loss: 0.6170, Validation Loss: 0.6010, Validation F-beta: 0.3993\n",
      "Epoch 79/4000\n",
      "Current lambda: 0.5000\n"
     ]
    },
    {
     "name": "stderr",
     "output_type": "stream",
     "text": [
      "Training: 100%|██████████| 24/24 [00:23<00:00,  1.04it/s, loss=0.652]\n",
      "Validation: 100%|██████████| 4/4 [00:02<00:00,  1.74it/s, loss=0.595]\n"
     ]
    },
    {
     "name": "stdout",
     "output_type": "stream",
     "text": [
      "Validation Dice Score\n",
      "Class 0: 0.6725, Class 1: 0.0062, Class 2: 0.0735, Class 3: 0.3699, \n",
      "Class 4: 0.2581, Class 5: 0.3296, Class 6: 0.6768, \n",
      "Validation F-beta Score\n",
      "Class 0: 0.5231, Class 1: 0.0484, Class 2: 0.0887, Class 3: 0.3853, \n",
      "Class 4: 0.3244, Class 5: 0.4747, Class 6: 0.8318, \n",
      "Overall Mean Dice Score: 0.3281\n",
      "Overall Mean F-beta Score: 0.4129\n",
      "\n",
      "Training Loss: 0.6126, Validation Loss: 0.5986, Validation F-beta: 0.4129\n",
      "Epoch 80/4000\n",
      "Current lambda: 0.5000\n"
     ]
    },
    {
     "name": "stderr",
     "output_type": "stream",
     "text": [
      "Training: 100%|██████████| 24/24 [00:22<00:00,  1.04it/s, loss=0.615]\n",
      "Validation: 100%|██████████| 4/4 [00:02<00:00,  1.75it/s, loss=0.636]\n"
     ]
    },
    {
     "name": "stdout",
     "output_type": "stream",
     "text": [
      "Validation Dice Score\n",
      "Class 0: 0.6683, Class 1: 0.0015, Class 2: 0.1205, Class 3: 0.4379, \n",
      "Class 4: 0.4679, Class 5: 0.3620, Class 6: 0.3897, \n",
      "Validation F-beta Score\n",
      "Class 0: 0.5187, Class 1: 0.0119, Class 2: 0.3815, Class 3: 0.6495, \n",
      "Class 4: 0.4768, Class 5: 0.4424, Class 6: 0.6123, \n",
      "Overall Mean Dice Score: 0.3318\n",
      "Overall Mean F-beta Score: 0.4386\n",
      "\n",
      "Training Loss: 0.6196, Validation Loss: 0.6065, Validation F-beta: 0.4386\n",
      "Epoch 81/4000\n",
      "Current lambda: 0.5000\n"
     ]
    },
    {
     "name": "stderr",
     "output_type": "stream",
     "text": [
      "Training: 100%|██████████| 24/24 [00:23<00:00,  1.04it/s, loss=0.618]\n",
      "Validation: 100%|██████████| 4/4 [00:02<00:00,  1.72it/s, loss=0.646]\n"
     ]
    },
    {
     "name": "stdout",
     "output_type": "stream",
     "text": [
      "Validation Dice Score\n",
      "Class 0: 0.6716, Class 1: 0.0007, Class 2: 0.0082, Class 3: 0.4437, \n",
      "Class 4: 0.4541, Class 5: 0.4419, Class 6: 0.5608, \n",
      "Validation F-beta Score\n",
      "Class 0: 0.5223, Class 1: 0.0058, Class 2: 0.0284, Class 3: 0.6023, \n",
      "Class 4: 0.5555, Class 5: 0.4844, Class 6: 0.7754, \n",
      "Overall Mean Dice Score: 0.3802\n",
      "Overall Mean F-beta Score: 0.4847\n",
      "\n",
      "Training Loss: 0.6144, Validation Loss: 0.6032, Validation F-beta: 0.4847\n",
      "========================================================\n",
      "Best model saved based on F-beta score: 0.4847\n",
      "========================================================\n",
      "Epoch 82/4000\n",
      "Current lambda: 0.5000\n"
     ]
    },
    {
     "name": "stderr",
     "output_type": "stream",
     "text": [
      "Training: 100%|██████████| 24/24 [00:23<00:00,  1.04it/s, loss=0.607]\n",
      "Validation: 100%|██████████| 4/4 [00:02<00:00,  1.44it/s, loss=0.617]\n"
     ]
    },
    {
     "name": "stdout",
     "output_type": "stream",
     "text": [
      "Validation Dice Score\n",
      "Class 0: 0.6701, Class 1: 0.0016, Class 2: 0.0166, Class 3: 0.3219, \n",
      "Class 4: 0.4486, Class 5: 0.3468, Class 6: 0.6701, \n",
      "Validation F-beta Score\n",
      "Class 0: 0.5203, Class 1: 0.0129, Class 2: 0.0379, Class 3: 0.4829, \n",
      "Class 4: 0.4607, Class 5: 0.4558, Class 6: 0.7738, \n",
      "Overall Mean Dice Score: 0.3578\n",
      "Overall Mean F-beta Score: 0.4372\n",
      "\n",
      "Training Loss: 0.6135, Validation Loss: 0.6112, Validation F-beta: 0.4372\n",
      "Epoch 83/4000\n",
      "Current lambda: 0.5000\n"
     ]
    },
    {
     "name": "stderr",
     "output_type": "stream",
     "text": [
      "Training: 100%|██████████| 24/24 [00:23<00:00,  1.03it/s, loss=0.602]\n",
      "Validation: 100%|██████████| 4/4 [00:02<00:00,  1.71it/s, loss=0.614]\n"
     ]
    },
    {
     "name": "stdout",
     "output_type": "stream",
     "text": [
      "Validation Dice Score\n",
      "Class 0: 0.6798, Class 1: 0.0018, Class 2: 0.1067, Class 3: 0.4037, \n",
      "Class 4: 0.4811, Class 5: 0.3071, Class 6: 0.7090, \n",
      "Validation F-beta Score\n",
      "Class 0: 0.5311, Class 1: 0.0144, Class 2: 0.1808, Class 3: 0.5179, \n",
      "Class 4: 0.5759, Class 5: 0.5015, Class 6: 0.8058, \n",
      "Overall Mean Dice Score: 0.3805\n",
      "Overall Mean F-beta Score: 0.4831\n",
      "\n",
      "Training Loss: 0.6170, Validation Loss: 0.6065, Validation F-beta: 0.4831\n",
      "Epoch 84/4000\n",
      "Current lambda: 0.5000\n"
     ]
    },
    {
     "name": "stderr",
     "output_type": "stream",
     "text": [
      "Training: 100%|██████████| 24/24 [00:23<00:00,  1.02it/s, loss=0.63] \n",
      "Validation: 100%|██████████| 4/4 [00:02<00:00,  1.72it/s, loss=0.573]\n"
     ]
    },
    {
     "name": "stdout",
     "output_type": "stream",
     "text": [
      "Validation Dice Score\n",
      "Class 0: 0.6746, Class 1: 0.0015, Class 2: 0.1644, Class 3: 0.3009, \n",
      "Class 4: 0.3823, Class 5: 0.3213, Class 6: 0.4582, \n",
      "Validation F-beta Score\n",
      "Class 0: 0.5254, Class 1: 0.0123, Class 2: 0.2195, Class 3: 0.3687, \n",
      "Class 4: 0.6038, Class 5: 0.4611, Class 6: 0.5648, \n",
      "Overall Mean Dice Score: 0.2929\n",
      "Overall Mean F-beta Score: 0.4021\n",
      "\n",
      "Training Loss: 0.6111, Validation Loss: 0.6129, Validation F-beta: 0.4021\n",
      "Epoch 85/4000\n",
      "Current lambda: 0.5000\n"
     ]
    },
    {
     "name": "stderr",
     "output_type": "stream",
     "text": [
      "Training: 100%|██████████| 24/24 [00:23<00:00,  1.03it/s, loss=0.615]\n",
      "Validation: 100%|██████████| 4/4 [00:02<00:00,  1.73it/s, loss=0.596]\n"
     ]
    },
    {
     "name": "stdout",
     "output_type": "stream",
     "text": [
      "Validation Dice Score\n",
      "Class 0: 0.6799, Class 1: 0.0023, Class 2: 0.0680, Class 3: 0.4937, \n",
      "Class 4: 0.2815, Class 5: 0.3072, Class 6: 0.5163, \n",
      "Validation F-beta Score\n",
      "Class 0: 0.5312, Class 1: 0.0182, Class 2: 0.1785, Class 3: 0.6491, \n",
      "Class 4: 0.2956, Class 5: 0.4402, Class 6: 0.8423, \n",
      "Overall Mean Dice Score: 0.3202\n",
      "Overall Mean F-beta Score: 0.4490\n",
      "\n",
      "Training Loss: 0.6118, Validation Loss: 0.6162, Validation F-beta: 0.4490\n",
      "Epoch 86/4000\n",
      "Current lambda: 0.5000\n"
     ]
    },
    {
     "name": "stderr",
     "output_type": "stream",
     "text": [
      "Training: 100%|██████████| 24/24 [00:23<00:00,  1.02it/s, loss=0.595]\n",
      "Validation: 100%|██████████| 4/4 [00:02<00:00,  1.70it/s, loss=0.608]\n"
     ]
    },
    {
     "name": "stdout",
     "output_type": "stream",
     "text": [
      "Validation Dice Score\n",
      "Class 0: 0.6879, Class 1: 0.0008, Class 2: 0.0080, Class 3: 0.5448, \n",
      "Class 4: 0.5668, Class 5: 0.2295, Class 6: 0.3795, \n",
      "Validation F-beta Score\n",
      "Class 0: 0.5413, Class 1: 0.0066, Class 2: 0.0148, Class 3: 0.5743, \n",
      "Class 4: 0.6404, Class 5: 0.2817, Class 6: 0.4061, \n",
      "Overall Mean Dice Score: 0.3443\n",
      "Overall Mean F-beta Score: 0.3818\n",
      "\n",
      "Training Loss: 0.6103, Validation Loss: 0.6122, Validation F-beta: 0.3818\n",
      "Epoch 87/4000\n",
      "Current lambda: 0.5000\n"
     ]
    },
    {
     "name": "stderr",
     "output_type": "stream",
     "text": [
      "Training: 100%|██████████| 24/24 [00:23<00:00,  1.04it/s, loss=0.631]\n",
      "Validation: 100%|██████████| 4/4 [00:02<00:00,  1.69it/s, loss=0.649]\n"
     ]
    },
    {
     "name": "stdout",
     "output_type": "stream",
     "text": [
      "Validation Dice Score\n",
      "Class 0: 0.6873, Class 1: 0.0008, Class 2: 0.0381, Class 3: 0.3746, \n",
      "Class 4: 0.2911, Class 5: 0.3583, Class 6: 0.4965, \n",
      "Validation F-beta Score\n",
      "Class 0: 0.5406, Class 1: 0.0065, Class 2: 0.1495, Class 3: 0.5665, \n",
      "Class 4: 0.4560, Class 5: 0.4081, Class 6: 0.8495, \n",
      "Overall Mean Dice Score: 0.3043\n",
      "Overall Mean F-beta Score: 0.4573\n",
      "\n",
      "Training Loss: 0.6194, Validation Loss: 0.6133, Validation F-beta: 0.4573\n",
      "Epoch 88/4000\n",
      "Current lambda: 0.5000\n"
     ]
    },
    {
     "name": "stderr",
     "output_type": "stream",
     "text": [
      "Training: 100%|██████████| 24/24 [00:23<00:00,  1.03it/s, loss=0.658]\n",
      "Validation: 100%|██████████| 4/4 [00:02<00:00,  1.70it/s, loss=0.627]\n"
     ]
    },
    {
     "name": "stdout",
     "output_type": "stream",
     "text": [
      "Validation Dice Score\n",
      "Class 0: 0.7042, Class 1: 0.0013, Class 2: 0.0795, Class 3: 0.2555, \n",
      "Class 4: 0.2924, Class 5: 0.2446, Class 6: 0.5480, \n",
      "Validation F-beta Score\n",
      "Class 0: 0.5601, Class 1: 0.0103, Class 2: 0.1202, Class 3: 0.4210, \n",
      "Class 4: 0.3241, Class 5: 0.2979, Class 6: 0.8048, \n",
      "Overall Mean Dice Score: 0.2683\n",
      "Overall Mean F-beta Score: 0.3716\n",
      "\n",
      "Training Loss: 0.6066, Validation Loss: 0.6339, Validation F-beta: 0.3716\n",
      "Epoch 89/4000\n",
      "Current lambda: 0.5000\n"
     ]
    },
    {
     "name": "stderr",
     "output_type": "stream",
     "text": [
      "Training: 100%|██████████| 24/24 [00:23<00:00,  1.04it/s, loss=0.591]\n",
      "Validation: 100%|██████████| 4/4 [00:02<00:00,  1.67it/s, loss=0.632]\n"
     ]
    },
    {
     "name": "stdout",
     "output_type": "stream",
     "text": [
      "Validation Dice Score\n",
      "Class 0: 0.7060, Class 1: 0.0026, Class 2: 0.1107, Class 3: 0.4769, \n",
      "Class 4: 0.3337, Class 5: 0.2731, Class 6: 0.5013, \n",
      "Validation F-beta Score\n",
      "Class 0: 0.5624, Class 1: 0.0212, Class 2: 0.2760, Class 3: 0.4693, \n",
      "Class 4: 0.3320, Class 5: 0.4631, Class 6: 0.8166, \n",
      "Overall Mean Dice Score: 0.3175\n",
      "Overall Mean F-beta Score: 0.4204\n",
      "\n",
      "Training Loss: 0.6148, Validation Loss: 0.6097, Validation F-beta: 0.4204\n",
      "Epoch 90/4000\n",
      "Current lambda: 0.5000\n"
     ]
    },
    {
     "name": "stderr",
     "output_type": "stream",
     "text": [
      "Training: 100%|██████████| 24/24 [00:23<00:00,  1.04it/s, loss=0.63] \n",
      "Validation: 100%|██████████| 4/4 [00:02<00:00,  1.71it/s, loss=0.612]\n"
     ]
    },
    {
     "name": "stdout",
     "output_type": "stream",
     "text": [
      "Validation Dice Score\n",
      "Class 0: 0.7114, Class 1: 0.0016, Class 2: 0.0354, Class 3: 0.5177, \n",
      "Class 4: 0.4552, Class 5: 0.3400, Class 6: 0.4387, \n",
      "Validation F-beta Score\n",
      "Class 0: 0.5686, Class 1: 0.0130, Class 2: 0.0766, Class 3: 0.4968, \n",
      "Class 4: 0.3804, Class 5: 0.4953, Class 6: 0.6582, \n",
      "Overall Mean Dice Score: 0.3506\n",
      "Overall Mean F-beta Score: 0.4087\n",
      "\n",
      "Training Loss: 0.6141, Validation Loss: 0.6025, Validation F-beta: 0.4087\n",
      "Validation loss did not improve. Reducing lambda to 0.4900\n",
      "Epoch 91/4000\n",
      "Current lambda: 0.4900\n"
     ]
    },
    {
     "name": "stderr",
     "output_type": "stream",
     "text": [
      "Training: 100%|██████████| 24/24 [00:23<00:00,  1.03it/s, loss=0.59] \n",
      "Validation: 100%|██████████| 4/4 [00:02<00:00,  1.74it/s, loss=0.607]\n"
     ]
    },
    {
     "name": "stdout",
     "output_type": "stream",
     "text": [
      "Validation Dice Score\n",
      "Class 0: 0.7096, Class 1: 0.0037, Class 2: 0.0654, Class 3: 0.4294, \n",
      "Class 4: 0.3850, Class 5: 0.3127, Class 6: 0.5918, \n",
      "Validation F-beta Score\n",
      "Class 0: 0.5666, Class 1: 0.0304, Class 2: 0.1632, Class 3: 0.5415, \n",
      "Class 4: 0.4695, Class 5: 0.3850, Class 6: 0.5803, \n",
      "Overall Mean Dice Score: 0.3445\n",
      "Overall Mean F-beta Score: 0.4013\n",
      "\n",
      "Training Loss: 0.6141, Validation Loss: 0.6026, Validation F-beta: 0.4013\n",
      "Epoch 92/4000\n",
      "Current lambda: 0.4900\n"
     ]
    },
    {
     "name": "stderr",
     "output_type": "stream",
     "text": [
      "Training: 100%|██████████| 24/24 [00:22<00:00,  1.04it/s, loss=0.584]\n",
      "Validation: 100%|██████████| 4/4 [00:02<00:00,  1.76it/s, loss=0.647]\n"
     ]
    },
    {
     "name": "stdout",
     "output_type": "stream",
     "text": [
      "Validation Dice Score\n",
      "Class 0: 0.7186, Class 1: 0.0011, Class 2: 0.1191, Class 3: 0.5141, \n",
      "Class 4: 0.3031, Class 5: 0.3122, Class 6: 0.2908, \n",
      "Validation F-beta Score\n",
      "Class 0: 0.5772, Class 1: 0.0086, Class 2: 0.3664, Class 3: 0.5082, \n",
      "Class 4: 0.2623, Class 5: 0.4877, Class 6: 0.3852, \n",
      "Overall Mean Dice Score: 0.2843\n",
      "Overall Mean F-beta Score: 0.3304\n",
      "\n",
      "Training Loss: 0.6087, Validation Loss: 0.6145, Validation F-beta: 0.3304\n",
      "Epoch 93/4000\n",
      "Current lambda: 0.4900\n"
     ]
    },
    {
     "name": "stderr",
     "output_type": "stream",
     "text": [
      "Training: 100%|██████████| 24/24 [00:23<00:00,  1.04it/s, loss=0.609]\n",
      "Validation: 100%|██████████| 4/4 [00:02<00:00,  1.75it/s, loss=0.635]\n"
     ]
    },
    {
     "name": "stdout",
     "output_type": "stream",
     "text": [
      "Validation Dice Score\n",
      "Class 0: 0.7236, Class 1: 0.0018, Class 2: 0.0348, Class 3: 0.4447, \n",
      "Class 4: 0.1389, Class 5: 0.4021, Class 6: 0.6091, \n",
      "Validation F-beta Score\n",
      "Class 0: 0.5836, Class 1: 0.0145, Class 2: 0.1043, Class 3: 0.5715, \n",
      "Class 4: 0.2242, Class 5: 0.4943, Class 6: 0.7444, \n",
      "Overall Mean Dice Score: 0.3193\n",
      "Overall Mean F-beta Score: 0.4098\n",
      "\n",
      "Training Loss: 0.6156, Validation Loss: 0.6144, Validation F-beta: 0.4098\n",
      "Epoch 94/4000\n",
      "Current lambda: 0.4900\n"
     ]
    },
    {
     "name": "stderr",
     "output_type": "stream",
     "text": [
      "Training: 100%|██████████| 24/24 [00:23<00:00,  1.04it/s, loss=0.606]\n",
      "Validation: 100%|██████████| 4/4 [00:02<00:00,  1.74it/s, loss=0.64] \n"
     ]
    },
    {
     "name": "stdout",
     "output_type": "stream",
     "text": [
      "Validation Dice Score\n",
      "Class 0: 0.7272, Class 1: 0.0025, Class 2: 0.0725, Class 3: 0.4535, \n",
      "Class 4: 0.3804, Class 5: 0.3537, Class 6: 0.3825, \n",
      "Validation F-beta Score\n",
      "Class 0: 0.5881, Class 1: 0.0198, Class 2: 0.2589, Class 3: 0.6473, \n",
      "Class 4: 0.4444, Class 5: 0.3806, Class 6: 0.5831, \n",
      "Overall Mean Dice Score: 0.3145\n",
      "Overall Mean F-beta Score: 0.4150\n",
      "\n",
      "Training Loss: 0.6094, Validation Loss: 0.6054, Validation F-beta: 0.4150\n",
      "Epoch 95/4000\n",
      "Current lambda: 0.4900\n"
     ]
    },
    {
     "name": "stderr",
     "output_type": "stream",
     "text": [
      "Training: 100%|██████████| 24/24 [00:23<00:00,  1.04it/s, loss=0.575]\n",
      "Validation: 100%|██████████| 4/4 [00:02<00:00,  1.75it/s, loss=0.582]\n"
     ]
    },
    {
     "name": "stdout",
     "output_type": "stream",
     "text": [
      "Validation Dice Score\n",
      "Class 0: 0.7315, Class 1: 0.0013, Class 2: 0.1259, Class 3: 0.4671, \n",
      "Class 4: 0.4051, Class 5: 0.3393, Class 6: 0.4239, \n",
      "Validation F-beta Score\n",
      "Class 0: 0.5934, Class 1: 0.0106, Class 2: 0.2118, Class 3: 0.6383, \n",
      "Class 4: 0.4993, Class 5: 0.4566, Class 6: 0.5396, \n",
      "Overall Mean Dice Score: 0.3273\n",
      "Overall Mean F-beta Score: 0.4289\n",
      "\n",
      "Training Loss: 0.6079, Validation Loss: 0.5998, Validation F-beta: 0.4289\n",
      "Epoch 96/4000\n",
      "Current lambda: 0.4900\n"
     ]
    },
    {
     "name": "stderr",
     "output_type": "stream",
     "text": [
      "Training: 100%|██████████| 24/24 [00:23<00:00,  1.04it/s, loss=0.643]\n",
      "Validation: 100%|██████████| 4/4 [00:02<00:00,  1.75it/s, loss=0.615]\n"
     ]
    },
    {
     "name": "stdout",
     "output_type": "stream",
     "text": [
      "Validation Dice Score\n",
      "Class 0: 0.7241, Class 1: 0.0016, Class 2: 0.2044, Class 3: 0.4096, \n",
      "Class 4: 0.3259, Class 5: 0.3462, Class 6: 0.3089, \n",
      "Validation F-beta Score\n",
      "Class 0: 0.5839, Class 1: 0.0126, Class 2: 0.3841, Class 3: 0.5764, \n",
      "Class 4: 0.3950, Class 5: 0.4863, Class 6: 0.4026, \n",
      "Overall Mean Dice Score: 0.2784\n",
      "Overall Mean F-beta Score: 0.3746\n",
      "\n",
      "Training Loss: 0.6188, Validation Loss: 0.6129, Validation F-beta: 0.3746\n",
      "Epoch 97/4000\n",
      "Current lambda: 0.4900\n"
     ]
    },
    {
     "name": "stderr",
     "output_type": "stream",
     "text": [
      "Training: 100%|██████████| 24/24 [00:23<00:00,  1.04it/s, loss=0.63] \n",
      "Validation: 100%|██████████| 4/4 [00:02<00:00,  1.76it/s, loss=0.65] \n"
     ]
    },
    {
     "name": "stdout",
     "output_type": "stream",
     "text": [
      "Validation Dice Score\n",
      "Class 0: 0.7366, Class 1: 0.0019, Class 2: 0.0549, Class 3: 0.3516, \n",
      "Class 4: 0.3442, Class 5: 0.3749, Class 6: 0.4362, \n",
      "Validation F-beta Score\n",
      "Class 0: 0.5998, Class 1: 0.0154, Class 2: 0.1448, Class 3: 0.4748, \n",
      "Class 4: 0.3915, Class 5: 0.4585, Class 6: 0.6299, \n",
      "Overall Mean Dice Score: 0.3017\n",
      "Overall Mean F-beta Score: 0.3940\n",
      "\n",
      "Training Loss: 0.6159, Validation Loss: 0.6033, Validation F-beta: 0.3940\n",
      "Epoch 98/4000\n",
      "Current lambda: 0.4900\n"
     ]
    },
    {
     "name": "stderr",
     "output_type": "stream",
     "text": [
      "Training: 100%|██████████| 24/24 [00:23<00:00,  1.03it/s, loss=0.581]\n",
      "Validation: 100%|██████████| 4/4 [00:02<00:00,  1.71it/s, loss=0.658]\n"
     ]
    },
    {
     "name": "stdout",
     "output_type": "stream",
     "text": [
      "Validation Dice Score\n",
      "Class 0: 0.7484, Class 1: 0.0029, Class 2: 0.0794, Class 3: 0.2822, \n",
      "Class 4: 0.4226, Class 5: 0.3301, Class 6: 0.5322, \n",
      "Validation F-beta Score\n",
      "Class 0: 0.6150, Class 1: 0.0236, Class 2: 0.2324, Class 3: 0.4384, \n",
      "Class 4: 0.5290, Class 5: 0.4634, Class 6: 0.6296, \n",
      "Overall Mean Dice Score: 0.3140\n",
      "Overall Mean F-beta Score: 0.4168\n",
      "\n",
      "Training Loss: 0.6104, Validation Loss: 0.6111, Validation F-beta: 0.4168\n",
      "Epoch 99/4000\n",
      "Current lambda: 0.4900\n"
     ]
    },
    {
     "name": "stderr",
     "output_type": "stream",
     "text": [
      "Training: 100%|██████████| 24/24 [00:23<00:00,  1.04it/s, loss=0.599]\n",
      "Validation: 100%|██████████| 4/4 [00:02<00:00,  1.72it/s, loss=0.571]\n"
     ]
    },
    {
     "name": "stdout",
     "output_type": "stream",
     "text": [
      "Validation Dice Score\n",
      "Class 0: 0.7382, Class 1: 0.0022, Class 2: 0.0561, Class 3: 0.3709, \n",
      "Class 4: 0.2859, Class 5: 0.3635, Class 6: 0.6388, \n",
      "Validation F-beta Score\n",
      "Class 0: 0.6021, Class 1: 0.0183, Class 2: 0.1640, Class 3: 0.4902, \n",
      "Class 4: 0.3024, Class 5: 0.4612, Class 6: 0.7539, \n",
      "Overall Mean Dice Score: 0.3323\n",
      "Overall Mean F-beta Score: 0.4052\n",
      "\n",
      "Training Loss: 0.6126, Validation Loss: 0.6068, Validation F-beta: 0.4052\n",
      "Epoch 100/4000\n",
      "Current lambda: 0.4900\n"
     ]
    },
    {
     "name": "stderr",
     "output_type": "stream",
     "text": [
      "Training: 100%|██████████| 24/24 [00:23<00:00,  1.03it/s, loss=0.588]\n",
      "Validation: 100%|██████████| 4/4 [00:02<00:00,  1.78it/s, loss=0.592]\n"
     ]
    },
    {
     "name": "stdout",
     "output_type": "stream",
     "text": [
      "Validation Dice Score\n",
      "Class 0: 0.7441, Class 1: 0.0026, Class 2: 0.0866, Class 3: 0.3871, \n",
      "Class 4: 0.2946, Class 5: 0.4341, Class 6: 0.5045, \n",
      "Validation F-beta Score\n",
      "Class 0: 0.6086, Class 1: 0.0208, Class 2: 0.1806, Class 3: 0.4187, \n",
      "Class 4: 0.5827, Class 5: 0.6042, Class 6: 0.6178, \n",
      "Overall Mean Dice Score: 0.3246\n",
      "Overall Mean F-beta Score: 0.4489\n",
      "\n",
      "Training Loss: 0.6136, Validation Loss: 0.6022, Validation F-beta: 0.4489\n",
      "Validation loss did not improve. Reducing lambda to 0.4800\n",
      "Epoch 101/4000\n",
      "Current lambda: 0.4800\n"
     ]
    },
    {
     "name": "stderr",
     "output_type": "stream",
     "text": [
      "Training: 100%|██████████| 24/24 [00:23<00:00,  1.03it/s, loss=0.617]\n",
      "Validation: 100%|██████████| 4/4 [00:02<00:00,  1.72it/s, loss=0.618]\n"
     ]
    },
    {
     "name": "stdout",
     "output_type": "stream",
     "text": [
      "Validation Dice Score\n",
      "Class 0: 0.7568, Class 1: 0.0008, Class 2: 0.0348, Class 3: 0.4784, \n",
      "Class 4: 0.5577, Class 5: 0.3103, Class 6: 0.3548, \n",
      "Validation F-beta Score\n",
      "Class 0: 0.6259, Class 1: 0.0067, Class 2: 0.0834, Class 3: 0.5438, \n",
      "Class 4: 0.5351, Class 5: 0.4343, Class 6: 0.5989, \n",
      "Overall Mean Dice Score: 0.3404\n",
      "Overall Mean F-beta Score: 0.4238\n",
      "\n",
      "Training Loss: 0.6180, Validation Loss: 0.6140, Validation F-beta: 0.4238\n",
      "Epoch 102/4000\n",
      "Current lambda: 0.4800\n"
     ]
    },
    {
     "name": "stderr",
     "output_type": "stream",
     "text": [
      "Training: 100%|██████████| 24/24 [00:23<00:00,  1.04it/s, loss=0.602]\n",
      "Validation: 100%|██████████| 4/4 [00:02<00:00,  1.72it/s, loss=0.649]\n"
     ]
    },
    {
     "name": "stdout",
     "output_type": "stream",
     "text": [
      "Validation Dice Score\n",
      "Class 0: 0.7699, Class 1: 0.0029, Class 2: 0.0425, Class 3: 0.4543, \n",
      "Class 4: 0.5067, Class 5: 0.2550, Class 6: 0.7250, \n",
      "Validation F-beta Score\n",
      "Class 0: 0.6429, Class 1: 0.0228, Class 2: 0.1062, Class 3: 0.5675, \n",
      "Class 4: 0.5453, Class 5: 0.4449, Class 6: 0.8313, \n",
      "Overall Mean Dice Score: 0.3888\n",
      "Overall Mean F-beta Score: 0.4823\n",
      "\n",
      "Training Loss: 0.6157, Validation Loss: 0.5980, Validation F-beta: 0.4823\n",
      "Epoch 103/4000\n",
      "Current lambda: 0.4800\n"
     ]
    },
    {
     "name": "stderr",
     "output_type": "stream",
     "text": [
      "Training: 100%|██████████| 24/24 [00:23<00:00,  1.03it/s, loss=0.59] \n",
      "Validation: 100%|██████████| 4/4 [00:02<00:00,  1.77it/s, loss=0.623]\n"
     ]
    },
    {
     "name": "stdout",
     "output_type": "stream",
     "text": [
      "Validation Dice Score\n",
      "Class 0: 0.7661, Class 1: 0.0014, Class 2: 0.0809, Class 3: 0.3747, \n",
      "Class 4: 0.2123, Class 5: 0.4412, Class 6: 0.7256, \n",
      "Validation F-beta Score\n",
      "Class 0: 0.6370, Class 1: 0.0116, Class 2: 0.1641, Class 3: 0.5131, \n",
      "Class 4: 0.2644, Class 5: 0.5540, Class 6: 0.7702, \n",
      "Overall Mean Dice Score: 0.3511\n",
      "Overall Mean F-beta Score: 0.4227\n",
      "\n",
      "Training Loss: 0.6092, Validation Loss: 0.6242, Validation F-beta: 0.4227\n",
      "Epoch 104/4000\n",
      "Current lambda: 0.4800\n"
     ]
    },
    {
     "name": "stderr",
     "output_type": "stream",
     "text": [
      "Training: 100%|██████████| 24/24 [00:23<00:00,  1.02it/s, loss=0.601]\n",
      "Validation: 100%|██████████| 4/4 [00:02<00:00,  1.69it/s, loss=0.63] \n"
     ]
    },
    {
     "name": "stdout",
     "output_type": "stream",
     "text": [
      "Validation Dice Score\n",
      "Class 0: 0.7763, Class 1: 0.0022, Class 2: 0.1167, Class 3: 0.4097, \n",
      "Class 4: 0.2342, Class 5: 0.2993, Class 6: 0.3322, \n",
      "Validation F-beta Score\n",
      "Class 0: 0.6511, Class 1: 0.0182, Class 2: 0.2555, Class 3: 0.6019, \n",
      "Class 4: 0.3414, Class 5: 0.4318, Class 6: 0.3874, \n",
      "Overall Mean Dice Score: 0.2555\n",
      "Overall Mean F-beta Score: 0.3561\n",
      "\n",
      "Training Loss: 0.6082, Validation Loss: 0.6296, Validation F-beta: 0.3561\n",
      "Epoch 105/4000\n",
      "Current lambda: 0.4800\n"
     ]
    },
    {
     "name": "stderr",
     "output_type": "stream",
     "text": [
      "Training: 100%|██████████| 24/24 [00:23<00:00,  1.03it/s, loss=0.606]\n",
      "Validation: 100%|██████████| 4/4 [00:02<00:00,  1.72it/s, loss=0.601]\n"
     ]
    },
    {
     "name": "stdout",
     "output_type": "stream",
     "text": [
      "Validation Dice Score\n",
      "Class 0: 0.7876, Class 1: 0.0039, Class 2: 0.0000, Class 3: 0.5241, \n",
      "Class 4: 0.4237, Class 5: 0.2983, Class 6: 0.6481, \n",
      "Validation F-beta Score\n",
      "Class 0: 0.6659, Class 1: 0.0311, Class 2: 0.0000, Class 3: 0.6342, \n",
      "Class 4: 0.5110, Class 5: 0.4449, Class 6: 0.8185, \n",
      "Overall Mean Dice Score: 0.3796\n",
      "Overall Mean F-beta Score: 0.4879\n",
      "\n",
      "Training Loss: 0.6053, Validation Loss: 0.5767, Validation F-beta: 0.4879\n",
      "========================================================\n",
      "SUPER Best model saved. Loss:0.5767, Score:0.4879\n",
      "========================================================\n",
      "Epoch 106/4000\n",
      "Current lambda: 0.4800\n"
     ]
    },
    {
     "name": "stderr",
     "output_type": "stream",
     "text": [
      "Training: 100%|██████████| 24/24 [00:23<00:00,  1.04it/s, loss=0.601]\n",
      "Validation: 100%|██████████| 4/4 [00:02<00:00,  1.77it/s, loss=0.616]\n"
     ]
    },
    {
     "name": "stdout",
     "output_type": "stream",
     "text": [
      "Validation Dice Score\n",
      "Class 0: 0.7872, Class 1: 0.0011, Class 2: 0.1034, Class 3: 0.4961, \n",
      "Class 4: 0.3973, Class 5: 0.3214, Class 6: 0.7167, \n",
      "Validation F-beta Score\n",
      "Class 0: 0.6652, Class 1: 0.0088, Class 2: 0.2201, Class 3: 0.5150, \n",
      "Class 4: 0.3741, Class 5: 0.4764, Class 6: 0.8299, \n",
      "Overall Mean Dice Score: 0.3865\n",
      "Overall Mean F-beta Score: 0.4408\n",
      "\n",
      "Training Loss: 0.6106, Validation Loss: 0.6169, Validation F-beta: 0.4408\n",
      "Epoch 107/4000\n",
      "Current lambda: 0.4800\n"
     ]
    },
    {
     "name": "stderr",
     "output_type": "stream",
     "text": [
      "Training: 100%|██████████| 24/24 [00:23<00:00,  1.03it/s, loss=0.616]\n",
      "Validation: 100%|██████████| 4/4 [00:02<00:00,  1.72it/s, loss=0.597]\n"
     ]
    },
    {
     "name": "stdout",
     "output_type": "stream",
     "text": [
      "Validation Dice Score\n",
      "Class 0: 0.7990, Class 1: 0.0012, Class 2: 0.0799, Class 3: 0.3645, \n",
      "Class 4: 0.4169, Class 5: 0.4831, Class 6: 0.6315, \n",
      "Validation F-beta Score\n",
      "Class 0: 0.6821, Class 1: 0.0100, Class 2: 0.1379, Class 3: 0.4866, \n",
      "Class 4: 0.3620, Class 5: 0.5634, Class 6: 0.8955, \n",
      "Overall Mean Dice Score: 0.3794\n",
      "Overall Mean F-beta Score: 0.4635\n",
      "\n",
      "Training Loss: 0.6021, Validation Loss: 0.5913, Validation F-beta: 0.4635\n",
      "Epoch 108/4000\n",
      "Current lambda: 0.4800\n"
     ]
    },
    {
     "name": "stderr",
     "output_type": "stream",
     "text": [
      "Training: 100%|██████████| 24/24 [00:23<00:00,  1.02it/s, loss=0.625]\n",
      "Validation: 100%|██████████| 4/4 [00:02<00:00,  1.72it/s, loss=0.63] \n"
     ]
    },
    {
     "name": "stdout",
     "output_type": "stream",
     "text": [
      "Validation Dice Score\n",
      "Class 0: 0.8179, Class 1: 0.0046, Class 2: 0.0565, Class 3: 0.3573, \n",
      "Class 4: 0.3336, Class 5: 0.3663, Class 6: 0.7710, \n",
      "Validation F-beta Score\n",
      "Class 0: 0.7079, Class 1: 0.0343, Class 2: 0.1485, Class 3: 0.4434, \n",
      "Class 4: 0.3858, Class 5: 0.4622, Class 6: 0.8232, \n",
      "Overall Mean Dice Score: 0.3665\n",
      "Overall Mean F-beta Score: 0.4298\n",
      "\n",
      "Training Loss: 0.6072, Validation Loss: 0.5993, Validation F-beta: 0.4298\n",
      "Epoch 109/4000\n",
      "Current lambda: 0.4800\n"
     ]
    },
    {
     "name": "stderr",
     "output_type": "stream",
     "text": [
      "Training: 100%|██████████| 24/24 [00:23<00:00,  1.03it/s, loss=0.63] \n",
      "Validation: 100%|██████████| 4/4 [00:02<00:00,  1.74it/s, loss=0.626]\n"
     ]
    },
    {
     "name": "stdout",
     "output_type": "stream",
     "text": [
      "Validation Dice Score\n",
      "Class 0: 0.8298, Class 1: 0.0042, Class 2: 0.1103, Class 3: 0.2635, \n",
      "Class 4: 0.5302, Class 5: 0.3398, Class 6: 0.6979, \n",
      "Validation F-beta Score\n",
      "Class 0: 0.7242, Class 1: 0.0337, Class 2: 0.1734, Class 3: 0.2267, \n",
      "Class 4: 0.5579, Class 5: 0.4963, Class 6: 0.8408, \n",
      "Overall Mean Dice Score: 0.3671\n",
      "Overall Mean F-beta Score: 0.4311\n",
      "\n",
      "Training Loss: 0.6061, Validation Loss: 0.6039, Validation F-beta: 0.4311\n",
      "Epoch 110/4000\n",
      "Current lambda: 0.4800\n"
     ]
    },
    {
     "name": "stderr",
     "output_type": "stream",
     "text": [
      "Training: 100%|██████████| 24/24 [00:23<00:00,  1.04it/s, loss=0.578]\n",
      "Validation: 100%|██████████| 4/4 [00:02<00:00,  1.69it/s, loss=0.619]\n"
     ]
    },
    {
     "name": "stdout",
     "output_type": "stream",
     "text": [
      "Validation Dice Score\n",
      "Class 0: 0.8266, Class 1: 0.0026, Class 2: 0.0516, Class 3: 0.5552, \n",
      "Class 4: 0.3978, Class 5: 0.3021, Class 6: 0.7593, \n",
      "Validation F-beta Score\n",
      "Class 0: 0.7201, Class 1: 0.0207, Class 2: 0.1091, Class 3: 0.5439, \n",
      "Class 4: 0.5585, Class 5: 0.4240, Class 6: 0.8055, \n",
      "Overall Mean Dice Score: 0.4034\n",
      "Overall Mean F-beta Score: 0.4705\n",
      "\n",
      "Training Loss: 0.6053, Validation Loss: 0.5968, Validation F-beta: 0.4705\n",
      "Epoch 111/4000\n",
      "Current lambda: 0.4800\n"
     ]
    },
    {
     "name": "stderr",
     "output_type": "stream",
     "text": [
      "Training: 100%|██████████| 24/24 [00:23<00:00,  1.03it/s, loss=0.65] \n",
      "Validation: 100%|██████████| 4/4 [00:02<00:00,  1.72it/s, loss=0.608]\n"
     ]
    },
    {
     "name": "stdout",
     "output_type": "stream",
     "text": [
      "Validation Dice Score\n",
      "Class 0: 0.8445, Class 1: 0.0025, Class 2: 0.0163, Class 3: 0.4258, \n",
      "Class 4: 0.4827, Class 5: 0.2551, Class 6: 0.6135, \n",
      "Validation F-beta Score\n",
      "Class 0: 0.7449, Class 1: 0.0191, Class 2: 0.0479, Class 3: 0.6043, \n",
      "Class 4: 0.6685, Class 5: 0.4365, Class 6: 0.7957, \n",
      "Overall Mean Dice Score: 0.3559\n",
      "Overall Mean F-beta Score: 0.5048\n",
      "\n",
      "Training Loss: 0.6222, Validation Loss: 0.6111, Validation F-beta: 0.5048\n",
      "========================================================\n",
      "Best model saved based on F-beta score: 0.5048\n",
      "========================================================\n",
      "Epoch 112/4000\n",
      "Current lambda: 0.4800\n"
     ]
    },
    {
     "name": "stderr",
     "output_type": "stream",
     "text": [
      "Training: 100%|██████████| 24/24 [00:23<00:00,  1.03it/s, loss=0.591]\n",
      "Validation: 100%|██████████| 4/4 [00:02<00:00,  1.75it/s, loss=0.588]\n"
     ]
    },
    {
     "name": "stdout",
     "output_type": "stream",
     "text": [
      "Validation Dice Score\n",
      "Class 0: 0.8441, Class 1: 0.0029, Class 2: 0.0569, Class 3: 0.5446, \n",
      "Class 4: 0.3974, Class 5: 0.3314, Class 6: 0.4086, \n",
      "Validation F-beta Score\n",
      "Class 0: 0.7450, Class 1: 0.0229, Class 2: 0.1628, Class 3: 0.5798, \n",
      "Class 4: 0.5611, Class 5: 0.4860, Class 6: 0.5533, \n",
      "Overall Mean Dice Score: 0.3370\n",
      "Overall Mean F-beta Score: 0.4406\n",
      "\n",
      "Training Loss: 0.6124, Validation Loss: 0.6013, Validation F-beta: 0.4406\n",
      "Epoch 113/4000\n",
      "Current lambda: 0.4800\n"
     ]
    },
    {
     "name": "stderr",
     "output_type": "stream",
     "text": [
      "Training: 100%|██████████| 24/24 [00:23<00:00,  1.03it/s, loss=0.619]\n",
      "Validation: 100%|██████████| 4/4 [00:02<00:00,  1.66it/s, loss=0.619]\n"
     ]
    },
    {
     "name": "stdout",
     "output_type": "stream",
     "text": [
      "Validation Dice Score\n",
      "Class 0: 0.8726, Class 1: 0.0031, Class 2: 0.0000, Class 3: 0.3254, \n",
      "Class 4: 0.4460, Class 5: 0.4736, Class 6: 0.5578, \n",
      "Validation F-beta Score\n",
      "Class 0: 0.7886, Class 1: 0.0241, Class 2: 0.0000, Class 3: 0.4025, \n",
      "Class 4: 0.4531, Class 5: 0.5803, Class 6: 0.7684, \n",
      "Overall Mean Dice Score: 0.3612\n",
      "Overall Mean F-beta Score: 0.4457\n",
      "\n",
      "Training Loss: 0.6135, Validation Loss: 0.5953, Validation F-beta: 0.4457\n",
      "Epoch 114/4000\n",
      "Current lambda: 0.4800\n"
     ]
    },
    {
     "name": "stderr",
     "output_type": "stream",
     "text": [
      "Training: 100%|██████████| 24/24 [00:23<00:00,  1.03it/s, loss=0.603]\n",
      "Validation: 100%|██████████| 4/4 [00:02<00:00,  1.73it/s, loss=0.529]\n"
     ]
    },
    {
     "name": "stdout",
     "output_type": "stream",
     "text": [
      "Validation Dice Score\n",
      "Class 0: 0.8965, Class 1: 0.0086, Class 2: 0.0814, Class 3: 0.3563, \n",
      "Class 4: 0.4358, Class 5: 0.4373, Class 6: 0.6678, \n",
      "Validation F-beta Score\n",
      "Class 0: 0.8242, Class 1: 0.0668, Class 2: 0.1508, Class 3: 0.3622, \n",
      "Class 4: 0.5935, Class 5: 0.5279, Class 6: 0.7127, \n",
      "Overall Mean Dice Score: 0.3812\n",
      "Overall Mean F-beta Score: 0.4526\n",
      "\n",
      "Training Loss: 0.6146, Validation Loss: 0.5942, Validation F-beta: 0.4526\n",
      "Epoch 115/4000\n",
      "Current lambda: 0.4800\n"
     ]
    },
    {
     "name": "stderr",
     "output_type": "stream",
     "text": [
      "Training: 100%|██████████| 24/24 [00:23<00:00,  1.03it/s, loss=0.621]\n",
      "Validation: 100%|██████████| 4/4 [00:02<00:00,  1.74it/s, loss=0.576]\n"
     ]
    },
    {
     "name": "stdout",
     "output_type": "stream",
     "text": [
      "Validation Dice Score\n",
      "Class 0: 0.9302, Class 1: 0.0176, Class 2: 0.0536, Class 3: 0.4462, \n",
      "Class 4: 0.4121, Class 5: 0.4061, Class 6: 0.7403, \n",
      "Validation F-beta Score\n",
      "Class 0: 0.8799, Class 1: 0.1072, Class 2: 0.1375, Class 3: 0.6221, \n",
      "Class 4: 0.3788, Class 5: 0.4441, Class 6: 0.8153, \n",
      "Overall Mean Dice Score: 0.4045\n",
      "Overall Mean F-beta Score: 0.4735\n",
      "\n",
      "Training Loss: 0.6039, Validation Loss: 0.5794, Validation F-beta: 0.4735\n",
      "Epoch 116/4000\n",
      "Current lambda: 0.4800\n"
     ]
    },
    {
     "name": "stderr",
     "output_type": "stream",
     "text": [
      "Training: 100%|██████████| 24/24 [00:23<00:00,  1.02it/s, loss=0.614]\n",
      "Validation: 100%|██████████| 4/4 [00:02<00:00,  1.72it/s, loss=0.594]\n"
     ]
    },
    {
     "name": "stdout",
     "output_type": "stream",
     "text": [
      "Validation Dice Score\n",
      "Class 0: 0.9628, Class 1: 0.0199, Class 2: 0.0575, Class 3: 0.4275, \n",
      "Class 4: 0.4213, Class 5: 0.4314, Class 6: 0.5881, \n",
      "Validation F-beta Score\n",
      "Class 0: 0.9393, Class 1: 0.1169, Class 2: 0.1115, Class 3: 0.4966, \n",
      "Class 4: 0.5569, Class 5: 0.5410, Class 6: 0.6650, \n",
      "Overall Mean Dice Score: 0.3776\n",
      "Overall Mean F-beta Score: 0.4753\n",
      "\n",
      "Training Loss: 0.6095, Validation Loss: 0.5912, Validation F-beta: 0.4753\n",
      "Epoch 117/4000\n",
      "Current lambda: 0.4800\n"
     ]
    },
    {
     "name": "stderr",
     "output_type": "stream",
     "text": [
      "Training: 100%|██████████| 24/24 [00:23<00:00,  1.02it/s, loss=0.61] \n",
      "Validation: 100%|██████████| 4/4 [00:02<00:00,  1.69it/s, loss=0.601]\n"
     ]
    },
    {
     "name": "stdout",
     "output_type": "stream",
     "text": [
      "Validation Dice Score\n",
      "Class 0: 0.9696, Class 1: 0.0330, Class 2: 0.0468, Class 3: 0.4000, \n",
      "Class 4: 0.6075, Class 5: 0.3017, Class 6: 0.6911, \n",
      "Validation F-beta Score\n",
      "Class 0: 0.9499, Class 1: 0.1636, Class 2: 0.1165, Class 3: 0.5893, \n",
      "Class 4: 0.6491, Class 5: 0.4107, Class 6: 0.7700, \n",
      "Overall Mean Dice Score: 0.4066\n",
      "Overall Mean F-beta Score: 0.5165\n",
      "\n",
      "Training Loss: 0.6030, Validation Loss: 0.6076, Validation F-beta: 0.5165\n",
      "========================================================\n",
      "Best model saved based on F-beta score: 0.5165\n",
      "========================================================\n",
      "Epoch 118/4000\n",
      "Current lambda: 0.4800\n"
     ]
    },
    {
     "name": "stderr",
     "output_type": "stream",
     "text": [
      "Training: 100%|██████████| 24/24 [00:23<00:00,  1.03it/s, loss=0.605]\n",
      "Validation: 100%|██████████| 4/4 [00:02<00:00,  1.71it/s, loss=0.597]\n"
     ]
    },
    {
     "name": "stdout",
     "output_type": "stream",
     "text": [
      "Validation Dice Score\n",
      "Class 0: 0.9713, Class 1: 0.0223, Class 2: 0.0448, Class 3: 0.2906, \n",
      "Class 4: 0.5059, Class 5: 0.4159, Class 6: 0.5434, \n",
      "Validation F-beta Score\n",
      "Class 0: 0.9539, Class 1: 0.1311, Class 2: 0.0819, Class 3: 0.4140, \n",
      "Class 4: 0.4467, Class 5: 0.5413, Class 6: 0.8809, \n",
      "Overall Mean Dice Score: 0.3556\n",
      "Overall Mean F-beta Score: 0.4828\n",
      "\n",
      "Training Loss: 0.6047, Validation Loss: 0.6077, Validation F-beta: 0.4828\n",
      "Epoch 119/4000\n",
      "Current lambda: 0.4800\n"
     ]
    },
    {
     "name": "stderr",
     "output_type": "stream",
     "text": [
      "Training: 100%|██████████| 24/24 [00:23<00:00,  1.03it/s, loss=0.555]\n",
      "Validation: 100%|██████████| 4/4 [00:02<00:00,  1.74it/s, loss=0.604]\n"
     ]
    },
    {
     "name": "stdout",
     "output_type": "stream",
     "text": [
      "Validation Dice Score\n",
      "Class 0: 0.9735, Class 1: 0.0635, Class 2: 0.0647, Class 3: 0.3936, \n",
      "Class 4: 0.4416, Class 5: 0.3913, Class 6: 0.7018, \n",
      "Validation F-beta Score\n",
      "Class 0: 0.9621, Class 1: 0.1830, Class 2: 0.1439, Class 3: 0.6048, \n",
      "Class 4: 0.5518, Class 5: 0.3992, Class 6: 0.8965, \n",
      "Overall Mean Dice Score: 0.3984\n",
      "Overall Mean F-beta Score: 0.5270\n",
      "\n",
      "Training Loss: 0.5974, Validation Loss: 0.5826, Validation F-beta: 0.5270\n",
      "========================================================\n",
      "Best model saved based on F-beta score: 0.5270\n",
      "========================================================\n",
      "Epoch 120/4000\n",
      "Current lambda: 0.4800\n"
     ]
    },
    {
     "name": "stderr",
     "output_type": "stream",
     "text": [
      "Training: 100%|██████████| 24/24 [00:23<00:00,  1.03it/s, loss=0.554]\n",
      "Validation: 100%|██████████| 4/4 [00:02<00:00,  1.72it/s, loss=0.62] \n"
     ]
    },
    {
     "name": "stdout",
     "output_type": "stream",
     "text": [
      "Validation Dice Score\n",
      "Class 0: 0.9781, Class 1: 0.0276, Class 2: 0.0226, Class 3: 0.2858, \n",
      "Class 4: 0.4546, Class 5: 0.2920, Class 6: 0.6229, \n",
      "Validation F-beta Score\n",
      "Class 0: 0.9691, Class 1: 0.1118, Class 2: 0.0482, Class 3: 0.3393, \n",
      "Class 4: 0.4585, Class 5: 0.3774, Class 6: 0.6130, \n",
      "Overall Mean Dice Score: 0.3366\n",
      "Overall Mean F-beta Score: 0.3800\n",
      "\n",
      "Training Loss: 0.6049, Validation Loss: 0.6130, Validation F-beta: 0.3800\n",
      "Epoch 121/4000\n",
      "Current lambda: 0.4800\n"
     ]
    },
    {
     "name": "stderr",
     "output_type": "stream",
     "text": [
      "Training: 100%|██████████| 24/24 [00:23<00:00,  1.03it/s, loss=0.598]\n",
      "Validation: 100%|██████████| 4/4 [00:02<00:00,  1.70it/s, loss=0.609]\n"
     ]
    },
    {
     "name": "stdout",
     "output_type": "stream",
     "text": [
      "Validation Dice Score\n",
      "Class 0: 0.9784, Class 1: 0.0140, Class 2: 0.0816, Class 3: 0.3928, \n",
      "Class 4: 0.4186, Class 5: 0.4297, Class 6: 0.7066, \n",
      "Validation F-beta Score\n",
      "Class 0: 0.9693, Class 1: 0.0648, Class 2: 0.1559, Class 3: 0.5488, \n",
      "Class 4: 0.4453, Class 5: 0.5477, Class 6: 0.6125, \n",
      "Overall Mean Dice Score: 0.3923\n",
      "Overall Mean F-beta Score: 0.4438\n",
      "\n",
      "Training Loss: 0.6084, Validation Loss: 0.5997, Validation F-beta: 0.4438\n",
      "Epoch 122/4000\n",
      "Current lambda: 0.4800\n"
     ]
    },
    {
     "name": "stderr",
     "output_type": "stream",
     "text": [
      "Training: 100%|██████████| 24/24 [00:23<00:00,  1.03it/s, loss=0.576]\n",
      "Validation: 100%|██████████| 4/4 [00:02<00:00,  1.72it/s, loss=0.6]  \n"
     ]
    },
    {
     "name": "stdout",
     "output_type": "stream",
     "text": [
      "Validation Dice Score\n",
      "Class 0: 0.9815, Class 1: 0.0715, Class 2: 0.1235, Class 3: 0.3806, \n",
      "Class 4: 0.5765, Class 5: 0.4821, Class 6: 0.6464, \n",
      "Validation F-beta Score\n",
      "Class 0: 0.9743, Class 1: 0.1553, Class 2: 0.2234, Class 3: 0.4956, \n",
      "Class 4: 0.6861, Class 5: 0.5714, Class 6: 0.8129, \n",
      "Overall Mean Dice Score: 0.4314\n",
      "Overall Mean F-beta Score: 0.5443\n",
      "\n",
      "Training Loss: 0.6041, Validation Loss: 0.6011, Validation F-beta: 0.5443\n",
      "========================================================\n",
      "Best model saved based on F-beta score: 0.5443\n",
      "========================================================\n",
      "Epoch 123/4000\n",
      "Current lambda: 0.4800\n"
     ]
    },
    {
     "name": "stderr",
     "output_type": "stream",
     "text": [
      "Training: 100%|██████████| 24/24 [00:23<00:00,  1.02it/s, loss=0.604]\n",
      "Validation: 100%|██████████| 4/4 [00:02<00:00,  1.70it/s, loss=0.591]\n"
     ]
    },
    {
     "name": "stdout",
     "output_type": "stream",
     "text": [
      "Validation Dice Score\n",
      "Class 0: 0.9788, Class 1: 0.0488, Class 2: 0.0885, Class 3: 0.3992, \n",
      "Class 4: 0.3572, Class 5: 0.3963, Class 6: 0.5007, \n",
      "Validation F-beta Score\n",
      "Class 0: 0.9708, Class 1: 0.0913, Class 2: 0.2105, Class 3: 0.4272, \n",
      "Class 4: 0.3384, Class 5: 0.4985, Class 6: 0.6184, \n",
      "Overall Mean Dice Score: 0.3404\n",
      "Overall Mean F-beta Score: 0.3948\n",
      "\n",
      "Training Loss: 0.6021, Validation Loss: 0.6055, Validation F-beta: 0.3948\n",
      "Epoch 124/4000\n",
      "Current lambda: 0.4800\n"
     ]
    },
    {
     "name": "stderr",
     "output_type": "stream",
     "text": [
      "Training: 100%|██████████| 24/24 [00:23<00:00,  1.02it/s, loss=0.572]\n",
      "Validation: 100%|██████████| 4/4 [00:02<00:00,  1.70it/s, loss=0.625]\n"
     ]
    },
    {
     "name": "stdout",
     "output_type": "stream",
     "text": [
      "Validation Dice Score\n",
      "Class 0: 0.9769, Class 1: 0.1061, Class 2: 0.0532, Class 3: 0.4049, \n",
      "Class 4: 0.4675, Class 5: 0.2599, Class 6: 0.5656, \n",
      "Validation F-beta Score\n",
      "Class 0: 0.9643, Class 1: 0.2477, Class 2: 0.1112, Class 3: 0.4573, \n",
      "Class 4: 0.5726, Class 5: 0.4804, Class 6: 0.6745, \n",
      "Overall Mean Dice Score: 0.3608\n",
      "Overall Mean F-beta Score: 0.4865\n",
      "\n",
      "Training Loss: 0.6008, Validation Loss: 0.6101, Validation F-beta: 0.4865\n",
      "Epoch 125/4000\n",
      "Current lambda: 0.4800\n"
     ]
    },
    {
     "name": "stderr",
     "output_type": "stream",
     "text": [
      "Training: 100%|██████████| 24/24 [00:23<00:00,  1.03it/s, loss=0.609]\n",
      "Validation: 100%|██████████| 4/4 [00:02<00:00,  1.70it/s, loss=0.656]\n"
     ]
    },
    {
     "name": "stdout",
     "output_type": "stream",
     "text": [
      "Validation Dice Score\n",
      "Class 0: 0.9778, Class 1: 0.1163, Class 2: 0.1141, Class 3: 0.4332, \n",
      "Class 4: 0.4840, Class 5: 0.2297, Class 6: 0.2196, \n",
      "Validation F-beta Score\n",
      "Class 0: 0.9703, Class 1: 0.2370, Class 2: 0.3443, Class 3: 0.4578, \n",
      "Class 4: 0.5327, Class 5: 0.3404, Class 6: 0.2248, \n",
      "Overall Mean Dice Score: 0.2965\n",
      "Overall Mean F-beta Score: 0.3585\n",
      "\n",
      "Training Loss: 0.5975, Validation Loss: 0.6037, Validation F-beta: 0.3585\n",
      "Epoch 126/4000\n",
      "Current lambda: 0.4800\n"
     ]
    },
    {
     "name": "stderr",
     "output_type": "stream",
     "text": [
      "Training: 100%|██████████| 24/24 [00:23<00:00,  1.02it/s, loss=0.612]\n",
      "Validation: 100%|██████████| 4/4 [00:02<00:00,  1.72it/s, loss=0.603]\n"
     ]
    },
    {
     "name": "stdout",
     "output_type": "stream",
     "text": [
      "Validation Dice Score\n",
      "Class 0: 0.9763, Class 1: 0.0254, Class 2: 0.0934, Class 3: 0.3295, \n",
      "Class 4: 0.3749, Class 5: 0.4311, Class 6: 0.7749, \n",
      "Validation F-beta Score\n",
      "Class 0: 0.9651, Class 1: 0.1259, Class 2: 0.2050, Class 3: 0.4392, \n",
      "Class 4: 0.4269, Class 5: 0.5100, Class 6: 0.8581, \n",
      "Overall Mean Dice Score: 0.3872\n",
      "Overall Mean F-beta Score: 0.4720\n",
      "\n",
      "Training Loss: 0.6031, Validation Loss: 0.5983, Validation F-beta: 0.4720\n",
      "Epoch 127/4000\n",
      "Current lambda: 0.4800\n"
     ]
    },
    {
     "name": "stderr",
     "output_type": "stream",
     "text": [
      "Training: 100%|██████████| 24/24 [00:23<00:00,  1.04it/s, loss=0.599]\n",
      "Validation: 100%|██████████| 4/4 [00:02<00:00,  1.72it/s, loss=0.573]\n"
     ]
    },
    {
     "name": "stdout",
     "output_type": "stream",
     "text": [
      "Validation Dice Score\n",
      "Class 0: 0.9794, Class 1: 0.0552, Class 2: 0.0842, Class 3: 0.4012, \n",
      "Class 4: 0.4207, Class 5: 0.3949, Class 6: 0.4352, \n",
      "Validation F-beta Score\n",
      "Class 0: 0.9719, Class 1: 0.2520, Class 2: 0.0899, Class 3: 0.3762, \n",
      "Class 4: 0.3225, Class 5: 0.5562, Class 6: 0.6619, \n",
      "Overall Mean Dice Score: 0.3415\n",
      "Overall Mean F-beta Score: 0.4338\n",
      "\n",
      "Training Loss: 0.6051, Validation Loss: 0.6127, Validation F-beta: 0.4338\n",
      "Epoch 128/4000\n",
      "Current lambda: 0.4800\n"
     ]
    },
    {
     "name": "stderr",
     "output_type": "stream",
     "text": [
      "Training: 100%|██████████| 24/24 [00:23<00:00,  1.04it/s, loss=0.623]\n",
      "Validation: 100%|██████████| 4/4 [00:02<00:00,  1.70it/s, loss=0.606]\n"
     ]
    },
    {
     "name": "stdout",
     "output_type": "stream",
     "text": [
      "Validation Dice Score\n",
      "Class 0: 0.9764, Class 1: 0.0686, Class 2: 0.1010, Class 3: 0.4545, \n",
      "Class 4: 0.4485, Class 5: 0.3386, Class 6: 0.7314, \n",
      "Validation F-beta Score\n",
      "Class 0: 0.9641, Class 1: 0.2523, Class 2: 0.2731, Class 3: 0.4820, \n",
      "Class 4: 0.5703, Class 5: 0.4274, Class 6: 0.8225, \n",
      "Overall Mean Dice Score: 0.4083\n",
      "Overall Mean F-beta Score: 0.5109\n",
      "\n",
      "Training Loss: 0.5988, Validation Loss: 0.5931, Validation F-beta: 0.5109\n",
      "Epoch 129/4000\n",
      "Current lambda: 0.4800\n"
     ]
    },
    {
     "name": "stderr",
     "output_type": "stream",
     "text": [
      "Training: 100%|██████████| 24/24 [00:23<00:00,  1.04it/s, loss=0.61] \n",
      "Validation: 100%|██████████| 4/4 [00:02<00:00,  1.78it/s, loss=0.596]\n"
     ]
    },
    {
     "name": "stdout",
     "output_type": "stream",
     "text": [
      "Validation Dice Score\n",
      "Class 0: 0.9822, Class 1: 0.2493, Class 2: 0.1352, Class 3: 0.4894, \n",
      "Class 4: 0.3387, Class 5: 0.3276, Class 6: 0.3892, \n",
      "Validation F-beta Score\n",
      "Class 0: 0.9745, Class 1: 0.2428, Class 2: 0.3542, Class 3: 0.5755, \n",
      "Class 4: 0.3816, Class 5: 0.5297, Class 6: 0.4356, \n",
      "Overall Mean Dice Score: 0.3588\n",
      "Overall Mean F-beta Score: 0.4331\n",
      "\n",
      "Training Loss: 0.6011, Validation Loss: 0.6036, Validation F-beta: 0.4331\n",
      "Epoch 130/4000\n",
      "Current lambda: 0.4800\n"
     ]
    },
    {
     "name": "stderr",
     "output_type": "stream",
     "text": [
      "Training: 100%|██████████| 24/24 [00:23<00:00,  1.04it/s, loss=0.572]\n",
      "Validation: 100%|██████████| 4/4 [00:02<00:00,  1.74it/s, loss=0.589]\n"
     ]
    },
    {
     "name": "stdout",
     "output_type": "stream",
     "text": [
      "Validation Dice Score\n",
      "Class 0: 0.9732, Class 1: 0.0949, Class 2: 0.1030, Class 3: 0.3807, \n",
      "Class 4: 0.3553, Class 5: 0.2909, Class 6: 0.7551, \n",
      "Validation F-beta Score\n",
      "Class 0: 0.9593, Class 1: 0.2354, Class 2: 0.2759, Class 3: 0.5908, \n",
      "Class 4: 0.4933, Class 5: 0.4661, Class 6: 0.7525, \n",
      "Overall Mean Dice Score: 0.3754\n",
      "Overall Mean F-beta Score: 0.5076\n",
      "\n",
      "Training Loss: 0.5989, Validation Loss: 0.6035, Validation F-beta: 0.5076\n",
      "Epoch 131/4000\n",
      "Current lambda: 0.4800\n"
     ]
    },
    {
     "name": "stderr",
     "output_type": "stream",
     "text": [
      "Training: 100%|██████████| 24/24 [00:23<00:00,  1.04it/s, loss=0.586]\n",
      "Validation: 100%|██████████| 4/4 [00:02<00:00,  1.75it/s, loss=0.648]\n"
     ]
    },
    {
     "name": "stdout",
     "output_type": "stream",
     "text": [
      "Validation Dice Score\n",
      "Class 0: 0.9809, Class 1: 0.1613, Class 2: 0.0021, Class 3: 0.3395, \n",
      "Class 4: 0.6227, Class 5: 0.3267, Class 6: 0.5387, \n",
      "Validation F-beta Score\n",
      "Class 0: 0.9771, Class 1: 0.2689, Class 2: 0.0030, Class 3: 0.3648, \n",
      "Class 4: 0.6073, Class 5: 0.4203, Class 6: 0.5736, \n",
      "Overall Mean Dice Score: 0.3978\n",
      "Overall Mean F-beta Score: 0.4470\n",
      "\n",
      "Training Loss: 0.5952, Validation Loss: 0.6093, Validation F-beta: 0.4470\n",
      "Validation loss did not improve. Reducing lambda to 0.4700\n",
      "Epoch 132/4000\n",
      "Current lambda: 0.4700\n"
     ]
    },
    {
     "name": "stderr",
     "output_type": "stream",
     "text": [
      "Training: 100%|██████████| 24/24 [00:23<00:00,  1.04it/s, loss=0.578]\n",
      "Validation: 100%|██████████| 4/4 [00:02<00:00,  1.75it/s, loss=0.564]\n"
     ]
    },
    {
     "name": "stdout",
     "output_type": "stream",
     "text": [
      "Validation Dice Score\n",
      "Class 0: 0.9821, Class 1: 0.2946, Class 2: 0.0226, Class 3: 0.4229, \n",
      "Class 4: 0.4762, Class 5: 0.3750, Class 6: 0.7448, \n",
      "Validation F-beta Score\n",
      "Class 0: 0.9742, Class 1: 0.3792, Class 2: 0.0241, Class 3: 0.4914, \n",
      "Class 4: 0.6093, Class 5: 0.4764, Class 6: 0.8873, \n",
      "Overall Mean Dice Score: 0.4627\n",
      "Overall Mean F-beta Score: 0.5687\n",
      "\n",
      "Training Loss: 0.5975, Validation Loss: 0.5782, Validation F-beta: 0.5687\n",
      "========================================================\n",
      "Best model saved based on F-beta score: 0.5687\n",
      "========================================================\n",
      "Epoch 133/4000\n",
      "Current lambda: 0.4700\n"
     ]
    },
    {
     "name": "stderr",
     "output_type": "stream",
     "text": [
      "Training: 100%|██████████| 24/24 [00:23<00:00,  1.03it/s, loss=0.604]\n",
      "Validation: 100%|██████████| 4/4 [00:02<00:00,  1.73it/s, loss=0.618]\n"
     ]
    },
    {
     "name": "stdout",
     "output_type": "stream",
     "text": [
      "Validation Dice Score\n",
      "Class 0: 0.9817, Class 1: 0.2566, Class 2: 0.1048, Class 3: 0.5573, \n",
      "Class 4: 0.3516, Class 5: 0.3712, Class 6: 0.6867, \n",
      "Validation F-beta Score\n",
      "Class 0: 0.9734, Class 1: 0.3269, Class 2: 0.1947, Class 3: 0.5412, \n",
      "Class 4: 0.6070, Class 5: 0.4401, Class 6: 0.8139, \n",
      "Overall Mean Dice Score: 0.4447\n",
      "Overall Mean F-beta Score: 0.5458\n",
      "\n",
      "Training Loss: 0.6064, Validation Loss: 0.6010, Validation F-beta: 0.5458\n",
      "Epoch 134/4000\n",
      "Current lambda: 0.4700\n"
     ]
    },
    {
     "name": "stderr",
     "output_type": "stream",
     "text": [
      "Training: 100%|██████████| 24/24 [00:23<00:00,  1.04it/s, loss=0.564]\n",
      "Validation: 100%|██████████| 4/4 [00:02<00:00,  1.78it/s, loss=0.626]\n"
     ]
    },
    {
     "name": "stdout",
     "output_type": "stream",
     "text": [
      "Validation Dice Score\n",
      "Class 0: 0.9800, Class 1: 0.1427, Class 2: 0.0030, Class 3: 0.3255, \n",
      "Class 4: 0.4486, Class 5: 0.4649, Class 6: 0.6105, \n",
      "Validation F-beta Score\n",
      "Class 0: 0.9724, Class 1: 0.1966, Class 2: 0.0076, Class 3: 0.4844, \n",
      "Class 4: 0.6053, Class 5: 0.5171, Class 6: 0.8460, \n",
      "Overall Mean Dice Score: 0.3984\n",
      "Overall Mean F-beta Score: 0.5299\n",
      "\n",
      "Training Loss: 0.6039, Validation Loss: 0.5987, Validation F-beta: 0.5299\n",
      "Epoch 135/4000\n",
      "Current lambda: 0.4700\n"
     ]
    },
    {
     "name": "stderr",
     "output_type": "stream",
     "text": [
      "Training: 100%|██████████| 24/24 [00:23<00:00,  1.04it/s, loss=0.615]\n",
      "Validation: 100%|██████████| 4/4 [00:02<00:00,  1.74it/s, loss=0.576]\n"
     ]
    },
    {
     "name": "stdout",
     "output_type": "stream",
     "text": [
      "Validation Dice Score\n",
      "Class 0: 0.9836, Class 1: 0.0593, Class 2: 0.1300, Class 3: 0.3657, \n",
      "Class 4: 0.5055, Class 5: 0.4619, Class 6: 0.6988, \n",
      "Validation F-beta Score\n",
      "Class 0: 0.9786, Class 1: 0.0631, Class 2: 0.2337, Class 3: 0.4178, \n",
      "Class 4: 0.6293, Class 5: 0.4899, Class 6: 0.9074, \n",
      "Overall Mean Dice Score: 0.4182\n",
      "Overall Mean F-beta Score: 0.5015\n",
      "\n",
      "Training Loss: 0.5938, Validation Loss: 0.5844, Validation F-beta: 0.5015\n",
      "Epoch 136/4000\n",
      "Current lambda: 0.4700\n"
     ]
    },
    {
     "name": "stderr",
     "output_type": "stream",
     "text": [
      "Training: 100%|██████████| 24/24 [00:23<00:00,  1.04it/s, loss=0.591]\n",
      "Validation: 100%|██████████| 4/4 [00:02<00:00,  1.77it/s, loss=0.615]\n"
     ]
    },
    {
     "name": "stdout",
     "output_type": "stream",
     "text": [
      "Validation Dice Score\n",
      "Class 0: 0.9825, Class 1: 0.1203, Class 2: 0.0350, Class 3: 0.3819, \n",
      "Class 4: 0.4777, Class 5: 0.3260, Class 6: 0.7929, \n",
      "Validation F-beta Score\n",
      "Class 0: 0.9766, Class 1: 0.1571, Class 2: 0.0570, Class 3: 0.4177, \n",
      "Class 4: 0.5476, Class 5: 0.4255, Class 6: 0.8563, \n",
      "Overall Mean Dice Score: 0.4198\n",
      "Overall Mean F-beta Score: 0.4808\n",
      "\n",
      "Training Loss: 0.5971, Validation Loss: 0.5990, Validation F-beta: 0.4808\n",
      "Epoch 137/4000\n",
      "Current lambda: 0.4700\n"
     ]
    },
    {
     "name": "stderr",
     "output_type": "stream",
     "text": [
      "Training: 100%|██████████| 24/24 [00:23<00:00,  1.04it/s, loss=0.596]\n",
      "Validation: 100%|██████████| 4/4 [00:02<00:00,  1.74it/s, loss=0.608]\n"
     ]
    },
    {
     "name": "stdout",
     "output_type": "stream",
     "text": [
      "Validation Dice Score\n",
      "Class 0: 0.9820, Class 1: 0.3555, Class 2: 0.0066, Class 3: 0.5506, \n",
      "Class 4: 0.5665, Class 5: 0.2746, Class 6: 0.5641, \n",
      "Validation F-beta Score\n",
      "Class 0: 0.9758, Class 1: 0.5957, Class 2: 0.0203, Class 3: 0.6230, \n",
      "Class 4: 0.6220, Class 5: 0.3462, Class 6: 0.5533, \n",
      "Overall Mean Dice Score: 0.4623\n",
      "Overall Mean F-beta Score: 0.5481\n",
      "\n",
      "Training Loss: 0.5941, Validation Loss: 0.5824, Validation F-beta: 0.5481\n",
      "Epoch 138/4000\n",
      "Current lambda: 0.4700\n"
     ]
    },
    {
     "name": "stderr",
     "output_type": "stream",
     "text": [
      "Training: 100%|██████████| 24/24 [00:23<00:00,  1.04it/s, loss=0.596]\n",
      "Validation: 100%|██████████| 4/4 [00:02<00:00,  1.75it/s, loss=0.612]\n"
     ]
    },
    {
     "name": "stdout",
     "output_type": "stream",
     "text": [
      "Validation Dice Score\n",
      "Class 0: 0.9838, Class 1: 0.2666, Class 2: 0.1063, Class 3: 0.5028, \n",
      "Class 4: 0.4700, Class 5: 0.3256, Class 6: 0.8343, \n",
      "Validation F-beta Score\n",
      "Class 0: 0.9772, Class 1: 0.3198, Class 2: 0.1970, Class 3: 0.5608, \n",
      "Class 4: 0.5751, Class 5: 0.5104, Class 6: 0.8303, \n",
      "Overall Mean Dice Score: 0.4798\n",
      "Overall Mean F-beta Score: 0.5593\n",
      "\n",
      "Training Loss: 0.5979, Validation Loss: 0.5851, Validation F-beta: 0.5593\n",
      "Epoch 139/4000\n",
      "Current lambda: 0.4700\n"
     ]
    },
    {
     "name": "stderr",
     "output_type": "stream",
     "text": [
      "Training: 100%|██████████| 24/24 [00:23<00:00,  1.04it/s, loss=0.606]\n",
      "Validation: 100%|██████████| 4/4 [00:02<00:00,  1.75it/s, loss=0.6]  \n"
     ]
    },
    {
     "name": "stdout",
     "output_type": "stream",
     "text": [
      "Validation Dice Score\n",
      "Class 0: 0.9818, Class 1: 0.2319, Class 2: 0.1185, Class 3: 0.4138, \n",
      "Class 4: 0.3376, Class 5: 0.3492, Class 6: 0.5582, \n",
      "Validation F-beta Score\n",
      "Class 0: 0.9775, Class 1: 0.5192, Class 2: 0.2305, Class 3: 0.3697, \n",
      "Class 4: 0.2723, Class 5: 0.4315, Class 6: 0.7237, \n",
      "Overall Mean Dice Score: 0.3781\n",
      "Overall Mean F-beta Score: 0.4633\n",
      "\n",
      "Training Loss: 0.5866, Validation Loss: 0.6042, Validation F-beta: 0.4633\n",
      "Epoch 140/4000\n",
      "Current lambda: 0.4700\n"
     ]
    },
    {
     "name": "stderr",
     "output_type": "stream",
     "text": [
      "Training: 100%|██████████| 24/24 [00:23<00:00,  1.03it/s, loss=0.599]\n",
      "Validation: 100%|██████████| 4/4 [00:02<00:00,  1.71it/s, loss=0.577]\n"
     ]
    },
    {
     "name": "stdout",
     "output_type": "stream",
     "text": [
      "Validation Dice Score\n",
      "Class 0: 0.9836, Class 1: 0.4060, Class 2: 0.1006, Class 3: 0.4304, \n",
      "Class 4: 0.4917, Class 5: 0.3665, Class 6: 0.3858, \n",
      "Validation F-beta Score\n",
      "Class 0: 0.9760, Class 1: 0.5271, Class 2: 0.2145, Class 3: 0.4167, \n",
      "Class 4: 0.5601, Class 5: 0.5294, Class 6: 0.4205, \n",
      "Overall Mean Dice Score: 0.4161\n",
      "Overall Mean F-beta Score: 0.4908\n",
      "\n",
      "Training Loss: 0.5965, Validation Loss: 0.5871, Validation F-beta: 0.4908\n",
      "Epoch 141/4000\n",
      "Current lambda: 0.4700\n"
     ]
    },
    {
     "name": "stderr",
     "output_type": "stream",
     "text": [
      "Training: 100%|██████████| 24/24 [00:23<00:00,  1.04it/s, loss=0.503]\n",
      "Validation: 100%|██████████| 4/4 [00:02<00:00,  1.71it/s, loss=0.568]\n"
     ]
    },
    {
     "name": "stdout",
     "output_type": "stream",
     "text": [
      "Validation Dice Score\n",
      "Class 0: 0.9846, Class 1: 0.4775, Class 2: 0.0947, Class 3: 0.4542, \n",
      "Class 4: 0.4377, Class 5: 0.3702, Class 6: 0.6304, \n",
      "Validation F-beta Score\n",
      "Class 0: 0.9809, Class 1: 0.5250, Class 2: 0.1890, Class 3: 0.6839, \n",
      "Class 4: 0.4094, Class 5: 0.4353, Class 6: 0.6319, \n",
      "Overall Mean Dice Score: 0.4740\n",
      "Overall Mean F-beta Score: 0.5371\n",
      "\n",
      "Training Loss: 0.5878, Validation Loss: 0.5750, Validation F-beta: 0.5371\n",
      "========================================================\n",
      "Best model saved based on validation loss: 0.5750\n",
      "========================================================\n",
      "Epoch 142/4000\n",
      "Current lambda: 0.4700\n"
     ]
    },
    {
     "name": "stderr",
     "output_type": "stream",
     "text": [
      "Training: 100%|██████████| 24/24 [00:23<00:00,  1.04it/s, loss=0.561]\n",
      "Validation: 100%|██████████| 4/4 [00:02<00:00,  1.74it/s, loss=0.577]\n"
     ]
    },
    {
     "name": "stdout",
     "output_type": "stream",
     "text": [
      "Validation Dice Score\n",
      "Class 0: 0.9835, Class 1: 0.2842, Class 2: 0.0448, Class 3: 0.5362, \n",
      "Class 4: 0.5804, Class 5: 0.4044, Class 6: 0.6030, \n",
      "Validation F-beta Score\n",
      "Class 0: 0.9783, Class 1: 0.3210, Class 2: 0.0858, Class 3: 0.5602, \n",
      "Class 4: 0.5992, Class 5: 0.4766, Class 6: 0.6211, \n",
      "Overall Mean Dice Score: 0.4816\n",
      "Overall Mean F-beta Score: 0.5156\n",
      "\n",
      "Training Loss: 0.5909, Validation Loss: 0.5765, Validation F-beta: 0.5156\n",
      "Epoch 143/4000\n",
      "Current lambda: 0.4700\n"
     ]
    },
    {
     "name": "stderr",
     "output_type": "stream",
     "text": [
      "Training: 100%|██████████| 24/24 [00:23<00:00,  1.03it/s, loss=0.575]\n",
      "Validation: 100%|██████████| 4/4 [00:02<00:00,  1.77it/s, loss=0.597]\n"
     ]
    },
    {
     "name": "stdout",
     "output_type": "stream",
     "text": [
      "Validation Dice Score\n",
      "Class 0: 0.9825, Class 1: 0.5335, Class 2: 0.0244, Class 3: 0.4270, \n",
      "Class 4: 0.4517, Class 5: 0.4070, Class 6: 0.7943, \n",
      "Validation F-beta Score\n",
      "Class 0: 0.9748, Class 1: 0.6387, Class 2: 0.0721, Class 3: 0.5668, \n",
      "Class 4: 0.4800, Class 5: 0.5620, Class 6: 0.8933, \n",
      "Overall Mean Dice Score: 0.5227\n",
      "Overall Mean F-beta Score: 0.6281\n",
      "\n",
      "Training Loss: 0.5904, Validation Loss: 0.5836, Validation F-beta: 0.6281\n",
      "========================================================\n",
      "Best model saved based on F-beta score: 0.6281\n",
      "========================================================\n",
      "Epoch 144/4000\n",
      "Current lambda: 0.4700\n"
     ]
    },
    {
     "name": "stderr",
     "output_type": "stream",
     "text": [
      "Training: 100%|██████████| 24/24 [00:23<00:00,  1.04it/s, loss=0.603]\n",
      "Validation: 100%|██████████| 4/4 [00:02<00:00,  1.73it/s, loss=0.558]\n"
     ]
    },
    {
     "name": "stdout",
     "output_type": "stream",
     "text": [
      "Validation Dice Score\n",
      "Class 0: 0.9789, Class 1: 0.3399, Class 2: 0.0939, Class 3: 0.4519, \n",
      "Class 4: 0.3877, Class 5: 0.4249, Class 6: 0.8322, \n",
      "Validation F-beta Score\n",
      "Class 0: 0.9705, Class 1: 0.6477, Class 2: 0.2527, Class 3: 0.5487, \n",
      "Class 4: 0.5939, Class 5: 0.4314, Class 6: 0.8507, \n",
      "Overall Mean Dice Score: 0.4873\n",
      "Overall Mean F-beta Score: 0.6145\n",
      "\n",
      "Training Loss: 0.5927, Validation Loss: 0.5645, Validation F-beta: 0.6145\n",
      "========================================================\n",
      "Best model saved based on validation loss: 0.5645\n",
      "========================================================\n",
      "Epoch 145/4000\n",
      "Current lambda: 0.4700\n"
     ]
    },
    {
     "name": "stderr",
     "output_type": "stream",
     "text": [
      "Training: 100%|██████████| 24/24 [00:23<00:00,  1.03it/s, loss=0.611]\n",
      "Validation: 100%|██████████| 4/4 [00:02<00:00,  1.70it/s, loss=0.509]\n"
     ]
    },
    {
     "name": "stdout",
     "output_type": "stream",
     "text": [
      "Validation Dice Score\n",
      "Class 0: 0.9825, Class 1: 0.3015, Class 2: 0.0161, Class 3: 0.5949, \n",
      "Class 4: 0.4203, Class 5: 0.2754, Class 6: 0.6021, \n",
      "Validation F-beta Score\n",
      "Class 0: 0.9735, Class 1: 0.6108, Class 2: 0.0281, Class 3: 0.6899, \n",
      "Class 4: 0.5564, Class 5: 0.3329, Class 6: 0.6145, \n",
      "Overall Mean Dice Score: 0.4388\n",
      "Overall Mean F-beta Score: 0.5609\n",
      "\n",
      "Training Loss: 0.6012, Validation Loss: 0.5850, Validation F-beta: 0.5609\n",
      "Epoch 146/4000\n",
      "Current lambda: 0.4700\n"
     ]
    },
    {
     "name": "stderr",
     "output_type": "stream",
     "text": [
      "Training: 100%|██████████| 24/24 [00:23<00:00,  1.03it/s, loss=0.606]\n",
      "Validation: 100%|██████████| 4/4 [00:02<00:00,  1.70it/s, loss=0.573]\n"
     ]
    },
    {
     "name": "stdout",
     "output_type": "stream",
     "text": [
      "Validation Dice Score\n",
      "Class 0: 0.9814, Class 1: 0.3434, Class 2: 0.0653, Class 3: 0.3737, \n",
      "Class 4: 0.4089, Class 5: 0.4165, Class 6: 0.8668, \n",
      "Validation F-beta Score\n",
      "Class 0: 0.9755, Class 1: 0.4798, Class 2: 0.1774, Class 3: 0.5412, \n",
      "Class 4: 0.3973, Class 5: 0.5300, Class 6: 0.8361, \n",
      "Overall Mean Dice Score: 0.4819\n",
      "Overall Mean F-beta Score: 0.5569\n",
      "\n",
      "Training Loss: 0.5940, Validation Loss: 0.5757, Validation F-beta: 0.5569\n",
      "Epoch 147/4000\n",
      "Current lambda: 0.4700\n"
     ]
    },
    {
     "name": "stderr",
     "output_type": "stream",
     "text": [
      "Training: 100%|██████████| 24/24 [00:23<00:00,  1.03it/s, loss=0.575]\n",
      "Validation: 100%|██████████| 4/4 [00:02<00:00,  1.77it/s, loss=0.613]\n"
     ]
    },
    {
     "name": "stdout",
     "output_type": "stream",
     "text": [
      "Validation Dice Score\n",
      "Class 0: 0.9835, Class 1: 0.3611, Class 2: 0.0932, Class 3: 0.3299, \n",
      "Class 4: 0.4896, Class 5: 0.4878, Class 6: 0.5737, \n",
      "Validation F-beta Score\n",
      "Class 0: 0.9824, Class 1: 0.3348, Class 2: 0.2710, Class 3: 0.3601, \n",
      "Class 4: 0.4051, Class 5: 0.5365, Class 6: 0.6298, \n",
      "Overall Mean Dice Score: 0.4484\n",
      "Overall Mean F-beta Score: 0.4532\n",
      "\n",
      "Training Loss: 0.5776, Validation Loss: 0.5959, Validation F-beta: 0.4532\n",
      "Epoch 148/4000\n",
      "Current lambda: 0.4700\n"
     ]
    },
    {
     "name": "stderr",
     "output_type": "stream",
     "text": [
      "Training: 100%|██████████| 24/24 [00:23<00:00,  1.03it/s, loss=0.624]\n",
      "Validation: 100%|██████████| 4/4 [00:02<00:00,  1.70it/s, loss=0.579]\n"
     ]
    },
    {
     "name": "stdout",
     "output_type": "stream",
     "text": [
      "Validation Dice Score\n",
      "Class 0: 0.9801, Class 1: 0.4685, Class 2: 0.0743, Class 3: 0.3320, \n",
      "Class 4: 0.4946, Class 5: 0.3012, Class 6: 0.6935, \n",
      "Validation F-beta Score\n",
      "Class 0: 0.9719, Class 1: 0.4640, Class 2: 0.2177, Class 3: 0.5114, \n",
      "Class 4: 0.5363, Class 5: 0.4742, Class 6: 0.8551, \n",
      "Overall Mean Dice Score: 0.4579\n",
      "Overall Mean F-beta Score: 0.5682\n",
      "\n",
      "Training Loss: 0.5870, Validation Loss: 0.5893, Validation F-beta: 0.5682\n",
      "Epoch 149/4000\n",
      "Current lambda: 0.4700\n"
     ]
    },
    {
     "name": "stderr",
     "output_type": "stream",
     "text": [
      "Training: 100%|██████████| 24/24 [00:23<00:00,  1.02it/s, loss=0.583]\n",
      "Validation: 100%|██████████| 4/4 [00:02<00:00,  1.68it/s, loss=0.579]\n"
     ]
    },
    {
     "name": "stdout",
     "output_type": "stream",
     "text": [
      "Validation Dice Score\n",
      "Class 0: 0.9846, Class 1: 0.5224, Class 2: 0.0000, Class 3: 0.3953, \n",
      "Class 4: 0.4141, Class 5: 0.3683, Class 6: 0.6716, \n",
      "Validation F-beta Score\n",
      "Class 0: 0.9794, Class 1: 0.4897, Class 2: 0.0000, Class 3: 0.4509, \n",
      "Class 4: 0.5823, Class 5: 0.4212, Class 6: 0.6824, \n",
      "Overall Mean Dice Score: 0.4743\n",
      "Overall Mean F-beta Score: 0.5253\n",
      "\n",
      "Training Loss: 0.5995, Validation Loss: 0.5824, Validation F-beta: 0.5253\n",
      "Epoch 150/4000\n",
      "Current lambda: 0.4700\n"
     ]
    },
    {
     "name": "stderr",
     "output_type": "stream",
     "text": [
      "Training: 100%|██████████| 24/24 [00:23<00:00,  1.03it/s, loss=0.636]\n",
      "Validation: 100%|██████████| 4/4 [00:02<00:00,  1.67it/s, loss=0.657]\n"
     ]
    },
    {
     "name": "stdout",
     "output_type": "stream",
     "text": [
      "Validation Dice Score\n",
      "Class 0: 0.9791, Class 1: 0.4882, Class 2: 0.1171, Class 3: 0.3320, \n",
      "Class 4: 0.3757, Class 5: 0.2576, Class 6: 0.4209, \n",
      "Validation F-beta Score\n",
      "Class 0: 0.9747, Class 1: 0.7332, Class 2: 0.1808, Class 3: 0.4402, \n",
      "Class 4: 0.2981, Class 5: 0.4081, Class 6: 0.4490, \n",
      "Overall Mean Dice Score: 0.3749\n",
      "Overall Mean F-beta Score: 0.4657\n",
      "\n",
      "Training Loss: 0.5931, Validation Loss: 0.5960, Validation F-beta: 0.4657\n",
      "Epoch 151/4000\n",
      "Current lambda: 0.4700\n"
     ]
    },
    {
     "name": "stderr",
     "output_type": "stream",
     "text": [
      "Training: 100%|██████████| 24/24 [00:23<00:00,  1.02it/s, loss=0.594]\n",
      "Validation: 100%|██████████| 4/4 [00:02<00:00,  1.76it/s, loss=0.603]\n"
     ]
    },
    {
     "name": "stdout",
     "output_type": "stream",
     "text": [
      "Validation Dice Score\n",
      "Class 0: 0.9812, Class 1: 0.2991, Class 2: 0.1249, Class 3: 0.5315, \n",
      "Class 4: 0.4767, Class 5: 0.3316, Class 6: 0.5571, \n",
      "Validation F-beta Score\n",
      "Class 0: 0.9739, Class 1: 0.4106, Class 2: 0.2578, Class 3: 0.6839, \n",
      "Class 4: 0.5519, Class 5: 0.4238, Class 6: 0.7212, \n",
      "Overall Mean Dice Score: 0.4392\n",
      "Overall Mean F-beta Score: 0.5583\n",
      "\n",
      "Training Loss: 0.5903, Validation Loss: 0.5666, Validation F-beta: 0.5583\n",
      "Epoch 152/4000\n",
      "Current lambda: 0.4700\n"
     ]
    },
    {
     "name": "stderr",
     "output_type": "stream",
     "text": [
      "Training: 100%|██████████| 24/24 [00:23<00:00,  1.03it/s, loss=0.578]\n",
      "Validation: 100%|██████████| 4/4 [00:02<00:00,  1.76it/s, loss=0.576]\n"
     ]
    },
    {
     "name": "stdout",
     "output_type": "stream",
     "text": [
      "Validation Dice Score\n",
      "Class 0: 0.9850, Class 1: 0.3124, Class 2: 0.0875, Class 3: 0.3178, \n",
      "Class 4: 0.3518, Class 5: 0.4432, Class 6: 0.8154, \n",
      "Validation F-beta Score\n",
      "Class 0: 0.9780, Class 1: 0.5629, Class 2: 0.1269, Class 3: 0.5404, \n",
      "Class 4: 0.3863, Class 5: 0.5470, Class 6: 0.8632, \n",
      "Overall Mean Dice Score: 0.4481\n",
      "Overall Mean F-beta Score: 0.5800\n",
      "\n",
      "Training Loss: 0.5857, Validation Loss: 0.5874, Validation F-beta: 0.5800\n",
      "Epoch 153/4000\n",
      "Current lambda: 0.4700\n"
     ]
    },
    {
     "name": "stderr",
     "output_type": "stream",
     "text": [
      "Training: 100%|██████████| 24/24 [00:23<00:00,  1.04it/s, loss=0.607]\n",
      "Validation: 100%|██████████| 4/4 [00:02<00:00,  1.70it/s, loss=0.575]\n"
     ]
    },
    {
     "name": "stdout",
     "output_type": "stream",
     "text": [
      "Validation Dice Score\n",
      "Class 0: 0.9833, Class 1: 0.3584, Class 2: 0.0385, Class 3: 0.2627, \n",
      "Class 4: 0.5807, Class 5: 0.4183, Class 6: 0.8463, \n",
      "Validation F-beta Score\n",
      "Class 0: 0.9795, Class 1: 0.5851, Class 2: 0.0721, Class 3: 0.3420, \n",
      "Class 4: 0.5619, Class 5: 0.4223, Class 6: 0.8552, \n",
      "Overall Mean Dice Score: 0.4933\n",
      "Overall Mean F-beta Score: 0.5533\n",
      "\n",
      "Training Loss: 0.5753, Validation Loss: 0.5568, Validation F-beta: 0.5533\n",
      "========================================================\n",
      "Best model saved based on validation loss: 0.5568\n",
      "========================================================\n",
      "Epoch 154/4000\n",
      "Current lambda: 0.4700\n"
     ]
    },
    {
     "name": "stderr",
     "output_type": "stream",
     "text": [
      "Training: 100%|██████████| 24/24 [00:23<00:00,  1.03it/s, loss=0.579]\n",
      "Validation: 100%|██████████| 4/4 [00:02<00:00,  1.69it/s, loss=0.612]\n"
     ]
    },
    {
     "name": "stdout",
     "output_type": "stream",
     "text": [
      "Validation Dice Score\n",
      "Class 0: 0.9810, Class 1: 0.3224, Class 2: 0.1424, Class 3: 0.4487, \n",
      "Class 4: 0.2996, Class 5: 0.3350, Class 6: 0.7838, \n",
      "Validation F-beta Score\n",
      "Class 0: 0.9724, Class 1: 0.4718, Class 2: 0.3405, Class 3: 0.6502, \n",
      "Class 4: 0.3260, Class 5: 0.3963, Class 6: 0.8578, \n",
      "Overall Mean Dice Score: 0.4379\n",
      "Overall Mean F-beta Score: 0.5404\n",
      "\n",
      "Training Loss: 0.5883, Validation Loss: 0.5795, Validation F-beta: 0.5404\n",
      "Epoch 155/4000\n",
      "Current lambda: 0.4700\n"
     ]
    },
    {
     "name": "stderr",
     "output_type": "stream",
     "text": [
      "Training: 100%|██████████| 24/24 [00:23<00:00,  1.02it/s, loss=0.543]\n",
      "Validation: 100%|██████████| 4/4 [00:02<00:00,  1.68it/s, loss=0.593]\n"
     ]
    },
    {
     "name": "stdout",
     "output_type": "stream",
     "text": [
      "Validation Dice Score\n",
      "Class 0: 0.9814, Class 1: 0.5645, Class 2: 0.0902, Class 3: 0.4496, \n",
      "Class 4: 0.4115, Class 5: 0.3580, Class 6: 0.3276, \n",
      "Validation F-beta Score\n",
      "Class 0: 0.9729, Class 1: 0.5503, Class 2: 0.2318, Class 3: 0.5852, \n",
      "Class 4: 0.5028, Class 5: 0.5262, Class 6: 0.3561, \n",
      "Overall Mean Dice Score: 0.4222\n",
      "Overall Mean F-beta Score: 0.5041\n",
      "\n",
      "Training Loss: 0.5870, Validation Loss: 0.6014, Validation F-beta: 0.5041\n",
      "Epoch 156/4000\n",
      "Current lambda: 0.4700\n"
     ]
    },
    {
     "name": "stderr",
     "output_type": "stream",
     "text": [
      "Training: 100%|██████████| 24/24 [00:23<00:00,  1.03it/s, loss=0.598]\n",
      "Validation: 100%|██████████| 4/4 [00:02<00:00,  1.68it/s, loss=0.609]\n"
     ]
    },
    {
     "name": "stdout",
     "output_type": "stream",
     "text": [
      "Validation Dice Score\n",
      "Class 0: 0.9826, Class 1: 0.3818, Class 2: 0.0658, Class 3: 0.3253, \n",
      "Class 4: 0.3792, Class 5: 0.3488, Class 6: 0.6090, \n",
      "Validation F-beta Score\n",
      "Class 0: 0.9761, Class 1: 0.4910, Class 2: 0.1220, Class 3: 0.3859, \n",
      "Class 4: 0.4787, Class 5: 0.3797, Class 6: 0.8091, \n",
      "Overall Mean Dice Score: 0.4088\n",
      "Overall Mean F-beta Score: 0.5089\n",
      "\n",
      "Training Loss: 0.5864, Validation Loss: 0.6012, Validation F-beta: 0.5089\n",
      "Epoch 157/4000\n",
      "Current lambda: 0.4700\n"
     ]
    },
    {
     "name": "stderr",
     "output_type": "stream",
     "text": [
      "Training: 100%|██████████| 24/24 [00:23<00:00,  1.04it/s, loss=0.561]\n",
      "Validation: 100%|██████████| 4/4 [00:02<00:00,  1.75it/s, loss=0.523]\n"
     ]
    },
    {
     "name": "stdout",
     "output_type": "stream",
     "text": [
      "Validation Dice Score\n",
      "Class 0: 0.9804, Class 1: 0.2727, Class 2: 0.0803, Class 3: 0.4615, \n",
      "Class 4: 0.3362, Class 5: 0.3500, Class 6: 0.7800, \n",
      "Validation F-beta Score\n",
      "Class 0: 0.9746, Class 1: 0.5448, Class 2: 0.2138, Class 3: 0.4871, \n",
      "Class 4: 0.4711, Class 5: 0.3436, Class 6: 0.8473, \n",
      "Overall Mean Dice Score: 0.4401\n",
      "Overall Mean F-beta Score: 0.5388\n",
      "\n",
      "Training Loss: 0.5872, Validation Loss: 0.5632, Validation F-beta: 0.5388\n",
      "Epoch 158/4000\n",
      "Current lambda: 0.4700\n"
     ]
    },
    {
     "name": "stderr",
     "output_type": "stream",
     "text": [
      "Training: 100%|██████████| 24/24 [00:23<00:00,  1.03it/s, loss=0.542]\n",
      "Validation: 100%|██████████| 4/4 [00:02<00:00,  1.73it/s, loss=0.604]\n"
     ]
    },
    {
     "name": "stdout",
     "output_type": "stream",
     "text": [
      "Validation Dice Score\n",
      "Class 0: 0.9809, Class 1: 0.2722, Class 2: 0.1079, Class 3: 0.3280, \n",
      "Class 4: 0.5255, Class 5: 0.2670, Class 6: 0.4480, \n",
      "Validation F-beta Score\n",
      "Class 0: 0.9725, Class 1: 0.4388, Class 2: 0.2249, Class 3: 0.4353, \n",
      "Class 4: 0.5078, Class 5: 0.3162, Class 6: 0.6529, \n",
      "Overall Mean Dice Score: 0.3681\n",
      "Overall Mean F-beta Score: 0.4702\n",
      "\n",
      "Training Loss: 0.5848, Validation Loss: 0.6037, Validation F-beta: 0.4702\n",
      "Epoch 159/4000\n",
      "Current lambda: 0.4700\n"
     ]
    },
    {
     "name": "stderr",
     "output_type": "stream",
     "text": [
      "Training: 100%|██████████| 24/24 [00:23<00:00,  1.02it/s, loss=0.589]\n",
      "Validation: 100%|██████████| 4/4 [00:02<00:00,  1.74it/s, loss=0.62] \n"
     ]
    },
    {
     "name": "stdout",
     "output_type": "stream",
     "text": [
      "Validation Dice Score\n",
      "Class 0: 0.9836, Class 1: 0.4868, Class 2: 0.0880, Class 3: 0.3942, \n",
      "Class 4: 0.3795, Class 5: 0.3891, Class 6: 0.6399, \n",
      "Validation F-beta Score\n",
      "Class 0: 0.9769, Class 1: 0.7138, Class 2: 0.2353, Class 3: 0.4696, \n",
      "Class 4: 0.4247, Class 5: 0.4798, Class 6: 0.6544, \n",
      "Overall Mean Dice Score: 0.4579\n",
      "Overall Mean F-beta Score: 0.5484\n",
      "\n",
      "Training Loss: 0.5892, Validation Loss: 0.5934, Validation F-beta: 0.5484\n",
      "Epoch 160/4000\n",
      "Current lambda: 0.4700\n"
     ]
    },
    {
     "name": "stderr",
     "output_type": "stream",
     "text": [
      "Training: 100%|██████████| 24/24 [00:23<00:00,  1.03it/s, loss=0.557]\n",
      "Validation: 100%|██████████| 4/4 [00:02<00:00,  1.72it/s, loss=0.56] \n"
     ]
    },
    {
     "name": "stdout",
     "output_type": "stream",
     "text": [
      "Validation Dice Score\n",
      "Class 0: 0.9816, Class 1: 0.5992, Class 2: 0.0902, Class 3: 0.4229, \n",
      "Class 4: 0.3005, Class 5: 0.3208, Class 6: 0.7943, \n",
      "Validation F-beta Score\n",
      "Class 0: 0.9735, Class 1: 0.5286, Class 2: 0.2179, Class 3: 0.4854, \n",
      "Class 4: 0.3263, Class 5: 0.4679, Class 6: 0.8546, \n",
      "Overall Mean Dice Score: 0.4876\n",
      "Overall Mean F-beta Score: 0.5326\n",
      "\n",
      "Training Loss: 0.5940, Validation Loss: 0.5644, Validation F-beta: 0.5326\n",
      "Epoch 161/4000\n",
      "Current lambda: 0.4700\n"
     ]
    },
    {
     "name": "stderr",
     "output_type": "stream",
     "text": [
      "Training: 100%|██████████| 24/24 [00:23<00:00,  1.03it/s, loss=0.607]\n",
      "Validation: 100%|██████████| 4/4 [00:02<00:00,  1.74it/s, loss=0.632]\n"
     ]
    },
    {
     "name": "stdout",
     "output_type": "stream",
     "text": [
      "Validation Dice Score\n",
      "Class 0: 0.9806, Class 1: 0.2395, Class 2: 0.0794, Class 3: 0.4935, \n",
      "Class 4: 0.3117, Class 5: 0.4390, Class 6: 0.5864, \n",
      "Validation F-beta Score\n",
      "Class 0: 0.9730, Class 1: 0.3758, Class 2: 0.1490, Class 3: 0.4628, \n",
      "Class 4: 0.5274, Class 5: 0.4671, Class 6: 0.6930, \n",
      "Overall Mean Dice Score: 0.4140\n",
      "Overall Mean F-beta Score: 0.5052\n",
      "\n",
      "Training Loss: 0.5912, Validation Loss: 0.5711, Validation F-beta: 0.5052\n",
      "Epoch 162/4000\n",
      "Current lambda: 0.4700\n"
     ]
    },
    {
     "name": "stderr",
     "output_type": "stream",
     "text": [
      "Training: 100%|██████████| 24/24 [00:23<00:00,  1.02it/s, loss=0.563]\n",
      "Validation: 100%|██████████| 4/4 [00:02<00:00,  1.70it/s, loss=0.591]\n"
     ]
    },
    {
     "name": "stdout",
     "output_type": "stream",
     "text": [
      "Validation Dice Score\n",
      "Class 0: 0.9820, Class 1: 0.3582, Class 2: 0.1051, Class 3: 0.4498, \n",
      "Class 4: 0.5350, Class 5: 0.4264, Class 6: 0.7898, \n",
      "Validation F-beta Score\n",
      "Class 0: 0.9778, Class 1: 0.3840, Class 2: 0.1944, Class 3: 0.4815, \n",
      "Class 4: 0.5945, Class 5: 0.5297, Class 6: 0.7331, \n",
      "Overall Mean Dice Score: 0.5118\n",
      "Overall Mean F-beta Score: 0.5445\n",
      "\n",
      "Training Loss: 0.5915, Validation Loss: 0.5641, Validation F-beta: 0.5445\n",
      "Validation loss did not improve. Reducing lambda to 0.4600\n",
      "Epoch 163/4000\n",
      "Current lambda: 0.4600\n"
     ]
    },
    {
     "name": "stderr",
     "output_type": "stream",
     "text": [
      "Training: 100%|██████████| 24/24 [00:23<00:00,  1.02it/s, loss=0.592]\n",
      "Validation: 100%|██████████| 4/4 [00:02<00:00,  1.69it/s, loss=0.557]\n"
     ]
    },
    {
     "name": "stdout",
     "output_type": "stream",
     "text": [
      "Validation Dice Score\n",
      "Class 0: 0.9815, Class 1: 0.4292, Class 2: 0.1714, Class 3: 0.4529, \n",
      "Class 4: 0.4249, Class 5: 0.4578, Class 6: 0.8341, \n",
      "Validation F-beta Score\n",
      "Class 0: 0.9745, Class 1: 0.5134, Class 2: 0.3406, Class 3: 0.6282, \n",
      "Class 4: 0.4796, Class 5: 0.5762, Class 6: 0.8971, \n",
      "Overall Mean Dice Score: 0.5198\n",
      "Overall Mean F-beta Score: 0.6189\n",
      "\n",
      "Training Loss: 0.5818, Validation Loss: 0.5601, Validation F-beta: 0.6189\n",
      "Epoch 164/4000\n",
      "Current lambda: 0.4600\n"
     ]
    },
    {
     "name": "stderr",
     "output_type": "stream",
     "text": [
      "Training: 100%|██████████| 24/24 [00:23<00:00,  1.03it/s, loss=0.591]\n",
      "Validation: 100%|██████████| 4/4 [00:02<00:00,  1.66it/s, loss=0.562]\n"
     ]
    },
    {
     "name": "stdout",
     "output_type": "stream",
     "text": [
      "Validation Dice Score\n",
      "Class 0: 0.9829, Class 1: 0.4172, Class 2: 0.0380, Class 3: 0.3081, \n",
      "Class 4: 0.2952, Class 5: 0.3457, Class 6: 0.4306, \n",
      "Validation F-beta Score\n",
      "Class 0: 0.9785, Class 1: 0.4247, Class 2: 0.1215, Class 3: 0.3836, \n",
      "Class 4: 0.2469, Class 5: 0.3757, Class 6: 0.4143, \n",
      "Overall Mean Dice Score: 0.3594\n",
      "Overall Mean F-beta Score: 0.3690\n",
      "\n",
      "Training Loss: 0.5822, Validation Loss: 0.5842, Validation F-beta: 0.3690\n",
      "Epoch 165/4000\n",
      "Current lambda: 0.4600\n"
     ]
    },
    {
     "name": "stderr",
     "output_type": "stream",
     "text": [
      "Training: 100%|██████████| 24/24 [00:23<00:00,  1.03it/s, loss=0.599]\n",
      "Validation: 100%|██████████| 4/4 [00:02<00:00,  1.70it/s, loss=0.577]\n"
     ]
    },
    {
     "name": "stdout",
     "output_type": "stream",
     "text": [
      "Validation Dice Score\n",
      "Class 0: 0.9846, Class 1: 0.2629, Class 2: 0.1300, Class 3: 0.1135, \n",
      "Class 4: 0.4735, Class 5: 0.5849, Class 6: 0.5125, \n",
      "Validation F-beta Score\n",
      "Class 0: 0.9802, Class 1: 0.4712, Class 2: 0.2490, Class 3: 0.1585, \n",
      "Class 4: 0.5143, Class 5: 0.6742, Class 6: 0.6075, \n",
      "Overall Mean Dice Score: 0.3894\n",
      "Overall Mean F-beta Score: 0.4851\n",
      "\n",
      "Training Loss: 0.5874, Validation Loss: 0.5876, Validation F-beta: 0.4851\n",
      "Epoch 166/4000\n",
      "Current lambda: 0.4600\n"
     ]
    },
    {
     "name": "stderr",
     "output_type": "stream",
     "text": [
      "Training: 100%|██████████| 24/24 [00:23<00:00,  1.04it/s, loss=0.582]\n",
      "Validation: 100%|██████████| 4/4 [00:02<00:00,  1.73it/s, loss=0.623]\n"
     ]
    },
    {
     "name": "stdout",
     "output_type": "stream",
     "text": [
      "Validation Dice Score\n",
      "Class 0: 0.9856, Class 1: 0.5350, Class 2: 0.1406, Class 3: 0.5121, \n",
      "Class 4: 0.5040, Class 5: 0.4554, Class 6: 0.6063, \n",
      "Validation F-beta Score\n",
      "Class 0: 0.9817, Class 1: 0.5897, Class 2: 0.1692, Class 3: 0.5632, \n",
      "Class 4: 0.5987, Class 5: 0.5053, Class 6: 0.6385, \n",
      "Overall Mean Dice Score: 0.5225\n",
      "Overall Mean F-beta Score: 0.5791\n",
      "\n",
      "Training Loss: 0.5834, Validation Loss: 0.5613, Validation F-beta: 0.5791\n",
      "Epoch 167/4000\n",
      "Current lambda: 0.4600\n"
     ]
    },
    {
     "name": "stderr",
     "output_type": "stream",
     "text": [
      "Training: 100%|██████████| 24/24 [00:23<00:00,  1.03it/s, loss=0.574]\n",
      "Validation: 100%|██████████| 4/4 [00:02<00:00,  1.77it/s, loss=0.556]\n"
     ]
    },
    {
     "name": "stdout",
     "output_type": "stream",
     "text": [
      "Validation Dice Score\n",
      "Class 0: 0.9822, Class 1: 0.6195, Class 2: 0.0102, Class 3: 0.4224, \n",
      "Class 4: 0.3003, Class 5: 0.3549, Class 6: 0.8302, \n",
      "Validation F-beta Score\n",
      "Class 0: 0.9729, Class 1: 0.5444, Class 2: 0.0240, Class 3: 0.5628, \n",
      "Class 4: 0.3745, Class 5: 0.5066, Class 6: 0.9131, \n",
      "Overall Mean Dice Score: 0.5054\n",
      "Overall Mean F-beta Score: 0.5803\n",
      "\n",
      "Training Loss: 0.5841, Validation Loss: 0.5754, Validation F-beta: 0.5803\n",
      "Epoch 168/4000\n",
      "Current lambda: 0.4600\n"
     ]
    },
    {
     "name": "stderr",
     "output_type": "stream",
     "text": [
      "Training: 100%|██████████| 24/24 [00:23<00:00,  1.04it/s, loss=0.571]\n",
      "Validation: 100%|██████████| 4/4 [00:02<00:00,  1.73it/s, loss=0.543]\n"
     ]
    },
    {
     "name": "stdout",
     "output_type": "stream",
     "text": [
      "Validation Dice Score\n",
      "Class 0: 0.9821, Class 1: 0.4570, Class 2: 0.0661, Class 3: 0.4611, \n",
      "Class 4: 0.4358, Class 5: 0.3917, Class 6: 0.5470, \n",
      "Validation F-beta Score\n",
      "Class 0: 0.9779, Class 1: 0.5414, Class 2: 0.1032, Class 3: 0.5978, \n",
      "Class 4: 0.3828, Class 5: 0.4342, Class 6: 0.7850, \n",
      "Overall Mean Dice Score: 0.4585\n",
      "Overall Mean F-beta Score: 0.5482\n",
      "\n",
      "Training Loss: 0.5815, Validation Loss: 0.5720, Validation F-beta: 0.5482\n",
      "Epoch 169/4000\n",
      "Current lambda: 0.4600\n"
     ]
    },
    {
     "name": "stderr",
     "output_type": "stream",
     "text": [
      "Training: 100%|██████████| 24/24 [00:23<00:00,  1.04it/s, loss=0.549]\n",
      "Validation: 100%|██████████| 4/4 [00:02<00:00,  1.74it/s, loss=0.639]\n"
     ]
    },
    {
     "name": "stdout",
     "output_type": "stream",
     "text": [
      "Validation Dice Score\n",
      "Class 0: 0.9821, Class 1: 0.3899, Class 2: 0.0578, Class 3: 0.4750, \n",
      "Class 4: 0.4827, Class 5: 0.4122, Class 6: 0.5472, \n",
      "Validation F-beta Score\n",
      "Class 0: 0.9773, Class 1: 0.4575, Class 2: 0.1346, Class 3: 0.6012, \n",
      "Class 4: 0.4549, Class 5: 0.5088, Class 6: 0.6258, \n",
      "Overall Mean Dice Score: 0.4614\n",
      "Overall Mean F-beta Score: 0.5296\n",
      "\n",
      "Training Loss: 0.5864, Validation Loss: 0.5638, Validation F-beta: 0.5296\n",
      "Epoch 170/4000\n",
      "Current lambda: 0.4600\n"
     ]
    },
    {
     "name": "stderr",
     "output_type": "stream",
     "text": [
      "Training: 100%|██████████| 24/24 [00:23<00:00,  1.04it/s, loss=0.618]\n",
      "Validation: 100%|██████████| 4/4 [00:02<00:00,  1.71it/s, loss=0.569]\n"
     ]
    },
    {
     "name": "stdout",
     "output_type": "stream",
     "text": [
      "Validation Dice Score\n",
      "Class 0: 0.9801, Class 1: 0.2202, Class 2: 0.0672, Class 3: 0.5426, \n",
      "Class 4: 0.5610, Class 5: 0.4043, Class 6: 0.5977, \n",
      "Validation F-beta Score\n",
      "Class 0: 0.9746, Class 1: 0.2364, Class 2: 0.2194, Class 3: 0.6771, \n",
      "Class 4: 0.5933, Class 5: 0.4297, Class 6: 0.6666, \n",
      "Overall Mean Dice Score: 0.4652\n",
      "Overall Mean F-beta Score: 0.5206\n",
      "\n",
      "Training Loss: 0.5810, Validation Loss: 0.5796, Validation F-beta: 0.5206\n",
      "Epoch 171/4000\n",
      "Current lambda: 0.4600\n"
     ]
    },
    {
     "name": "stderr",
     "output_type": "stream",
     "text": [
      "Training: 100%|██████████| 24/24 [00:23<00:00,  1.04it/s, loss=0.613]\n",
      "Validation: 100%|██████████| 4/4 [00:02<00:00,  1.73it/s, loss=0.542]\n"
     ]
    },
    {
     "name": "stdout",
     "output_type": "stream",
     "text": [
      "Validation Dice Score\n",
      "Class 0: 0.9793, Class 1: 0.5901, Class 2: 0.0381, Class 3: 0.4232, \n",
      "Class 4: 0.5451, Class 5: 0.4493, Class 6: 0.7769, \n",
      "Validation F-beta Score\n",
      "Class 0: 0.9754, Class 1: 0.5764, Class 2: 0.1068, Class 3: 0.4645, \n",
      "Class 4: 0.6415, Class 5: 0.5039, Class 6: 0.7932, \n",
      "Overall Mean Dice Score: 0.5569\n",
      "Overall Mean F-beta Score: 0.5959\n",
      "\n",
      "Training Loss: 0.5850, Validation Loss: 0.5444, Validation F-beta: 0.5959\n",
      "========================================================\n",
      "Best model saved based on validation loss: 0.5444\n",
      "========================================================\n",
      "Epoch 172/4000\n",
      "Current lambda: 0.4600\n"
     ]
    },
    {
     "name": "stderr",
     "output_type": "stream",
     "text": [
      "Training: 100%|██████████| 24/24 [00:23<00:00,  1.04it/s, loss=0.61] \n",
      "Validation: 100%|██████████| 4/4 [00:02<00:00,  1.76it/s, loss=0.551]\n"
     ]
    },
    {
     "name": "stdout",
     "output_type": "stream",
     "text": [
      "Validation Dice Score\n",
      "Class 0: 0.9860, Class 1: 0.4164, Class 2: 0.1159, Class 3: 0.5690, \n",
      "Class 4: 0.4573, Class 5: 0.3801, Class 6: 0.7881, \n",
      "Validation F-beta Score\n",
      "Class 0: 0.9824, Class 1: 0.5019, Class 2: 0.2938, Class 3: 0.5791, \n",
      "Class 4: 0.4705, Class 5: 0.4294, Class 6: 0.8618, \n",
      "Overall Mean Dice Score: 0.5222\n",
      "Overall Mean F-beta Score: 0.5686\n",
      "\n",
      "Training Loss: 0.5876, Validation Loss: 0.5615, Validation F-beta: 0.5686\n",
      "Epoch 173/4000\n",
      "Current lambda: 0.4600\n"
     ]
    },
    {
     "name": "stderr",
     "output_type": "stream",
     "text": [
      "Training: 100%|██████████| 24/24 [00:23<00:00,  1.03it/s, loss=0.625]\n",
      "Validation: 100%|██████████| 4/4 [00:02<00:00,  1.70it/s, loss=0.602]\n"
     ]
    },
    {
     "name": "stdout",
     "output_type": "stream",
     "text": [
      "Validation Dice Score\n",
      "Class 0: 0.9805, Class 1: 0.4922, Class 2: 0.0675, Class 3: 0.2758, \n",
      "Class 4: 0.4006, Class 5: 0.4911, Class 6: 0.8538, \n",
      "Validation F-beta Score\n",
      "Class 0: 0.9785, Class 1: 0.4891, Class 2: 0.1528, Class 3: 0.3587, \n",
      "Class 4: 0.3847, Class 5: 0.5188, Class 6: 0.8317, \n",
      "Overall Mean Dice Score: 0.5027\n",
      "Overall Mean F-beta Score: 0.5166\n",
      "\n",
      "Training Loss: 0.5802, Validation Loss: 0.5782, Validation F-beta: 0.5166\n",
      "Epoch 174/4000\n",
      "Current lambda: 0.4600\n"
     ]
    },
    {
     "name": "stderr",
     "output_type": "stream",
     "text": [
      "Training: 100%|██████████| 24/24 [00:22<00:00,  1.05it/s, loss=0.589]\n",
      "Validation: 100%|██████████| 4/4 [00:02<00:00,  1.73it/s, loss=0.588]\n"
     ]
    },
    {
     "name": "stdout",
     "output_type": "stream",
     "text": [
      "Validation Dice Score\n",
      "Class 0: 0.9839, Class 1: 0.4270, Class 2: 0.0340, Class 3: 0.5461, \n",
      "Class 4: 0.3921, Class 5: 0.4196, Class 6: 0.5687, \n",
      "Validation F-beta Score\n",
      "Class 0: 0.9769, Class 1: 0.5527, Class 2: 0.0900, Class 3: 0.6889, \n",
      "Class 4: 0.4499, Class 5: 0.5405, Class 6: 0.7296, \n",
      "Overall Mean Dice Score: 0.4707\n",
      "Overall Mean F-beta Score: 0.5923\n",
      "\n",
      "Training Loss: 0.5791, Validation Loss: 0.5685, Validation F-beta: 0.5923\n",
      "Epoch 175/4000\n",
      "Current lambda: 0.4600\n"
     ]
    },
    {
     "name": "stderr",
     "output_type": "stream",
     "text": [
      "Training: 100%|██████████| 24/24 [00:23<00:00,  1.04it/s, loss=0.601]\n",
      "Validation: 100%|██████████| 4/4 [00:02<00:00,  1.75it/s, loss=0.543]\n"
     ]
    },
    {
     "name": "stdout",
     "output_type": "stream",
     "text": [
      "Validation Dice Score\n",
      "Class 0: 0.9802, Class 1: 0.4669, Class 2: 0.0515, Class 3: 0.6143, \n",
      "Class 4: 0.6035, Class 5: 0.2845, Class 6: 0.8242, \n",
      "Validation F-beta Score\n",
      "Class 0: 0.9748, Class 1: 0.4739, Class 2: 0.0960, Class 3: 0.6880, \n",
      "Class 4: 0.6290, Class 5: 0.3830, Class 6: 0.8418, \n",
      "Overall Mean Dice Score: 0.5587\n",
      "Overall Mean F-beta Score: 0.6031\n",
      "\n",
      "Training Loss: 0.5864, Validation Loss: 0.5683, Validation F-beta: 0.6031\n",
      "Epoch 176/4000\n",
      "Current lambda: 0.4600\n"
     ]
    },
    {
     "name": "stderr",
     "output_type": "stream",
     "text": [
      "Training: 100%|██████████| 24/24 [00:23<00:00,  1.03it/s, loss=0.604]\n",
      "Validation: 100%|██████████| 4/4 [00:02<00:00,  1.74it/s, loss=0.596]\n"
     ]
    },
    {
     "name": "stdout",
     "output_type": "stream",
     "text": [
      "Validation Dice Score\n",
      "Class 0: 0.9833, Class 1: 0.5250, Class 2: 0.1499, Class 3: 0.4923, \n",
      "Class 4: 0.5696, Class 5: 0.4046, Class 6: 0.5007, \n",
      "Validation F-beta Score\n",
      "Class 0: 0.9785, Class 1: 0.5192, Class 2: 0.3182, Class 3: 0.4810, \n",
      "Class 4: 0.5550, Class 5: 0.4906, Class 6: 0.4785, \n",
      "Overall Mean Dice Score: 0.4985\n",
      "Overall Mean F-beta Score: 0.5049\n",
      "\n",
      "Training Loss: 0.5889, Validation Loss: 0.5638, Validation F-beta: 0.5049\n",
      "Epoch 177/4000\n",
      "Current lambda: 0.4600\n"
     ]
    },
    {
     "name": "stderr",
     "output_type": "stream",
     "text": [
      "Training: 100%|██████████| 24/24 [00:23<00:00,  1.04it/s, loss=0.596]\n",
      "Validation: 100%|██████████| 4/4 [00:02<00:00,  1.71it/s, loss=0.61] \n"
     ]
    },
    {
     "name": "stdout",
     "output_type": "stream",
     "text": [
      "Validation Dice Score\n",
      "Class 0: 0.9839, Class 1: 0.6845, Class 2: 0.0354, Class 3: 0.4223, \n",
      "Class 4: 0.4305, Class 5: 0.2561, Class 6: 0.8415, \n",
      "Validation F-beta Score\n",
      "Class 0: 0.9773, Class 1: 0.7269, Class 2: 0.1028, Class 3: 0.5873, \n",
      "Class 4: 0.5291, Class 5: 0.3185, Class 6: 0.8449, \n",
      "Overall Mean Dice Score: 0.5270\n",
      "Overall Mean F-beta Score: 0.6013\n",
      "\n",
      "Training Loss: 0.5810, Validation Loss: 0.5767, Validation F-beta: 0.6013\n",
      "Epoch 178/4000\n",
      "Current lambda: 0.4600\n"
     ]
    },
    {
     "name": "stderr",
     "output_type": "stream",
     "text": [
      "Training: 100%|██████████| 24/24 [00:23<00:00,  1.03it/s, loss=0.578]\n",
      "Validation: 100%|██████████| 4/4 [00:02<00:00,  1.74it/s, loss=0.584]\n"
     ]
    },
    {
     "name": "stdout",
     "output_type": "stream",
     "text": [
      "Validation Dice Score\n",
      "Class 0: 0.9833, Class 1: 0.6116, Class 2: 0.2183, Class 3: 0.5954, \n",
      "Class 4: 0.2741, Class 5: 0.3285, Class 6: 0.6296, \n",
      "Validation F-beta Score\n",
      "Class 0: 0.9746, Class 1: 0.7799, Class 2: 0.4191, Class 3: 0.5403, \n",
      "Class 4: 0.5480, Class 5: 0.4255, Class 6: 0.6864, \n",
      "Overall Mean Dice Score: 0.4879\n",
      "Overall Mean F-beta Score: 0.5960\n",
      "\n",
      "Training Loss: 0.5820, Validation Loss: 0.5571, Validation F-beta: 0.5960\n",
      "Epoch 179/4000\n",
      "Current lambda: 0.4600\n"
     ]
    },
    {
     "name": "stderr",
     "output_type": "stream",
     "text": [
      "Training: 100%|██████████| 24/24 [00:23<00:00,  1.02it/s, loss=0.559]\n",
      "Validation: 100%|██████████| 4/4 [00:02<00:00,  1.78it/s, loss=0.59] \n"
     ]
    },
    {
     "name": "stdout",
     "output_type": "stream",
     "text": [
      "Validation Dice Score\n",
      "Class 0: 0.9832, Class 1: 0.6740, Class 2: 0.0729, Class 3: 0.3586, \n",
      "Class 4: 0.6238, Class 5: 0.4009, Class 6: 0.8287, \n",
      "Validation F-beta Score\n",
      "Class 0: 0.9807, Class 1: 0.6809, Class 2: 0.1631, Class 3: 0.5021, \n",
      "Class 4: 0.6850, Class 5: 0.3969, Class 6: 0.8860, \n",
      "Overall Mean Dice Score: 0.5772\n",
      "Overall Mean F-beta Score: 0.6302\n",
      "\n",
      "Training Loss: 0.5769, Validation Loss: 0.5823, Validation F-beta: 0.6302\n",
      "========================================================\n",
      "Best model saved based on F-beta score: 0.6302\n",
      "========================================================\n",
      "Epoch 180/4000\n",
      "Current lambda: 0.4600\n"
     ]
    },
    {
     "name": "stderr",
     "output_type": "stream",
     "text": [
      "Training: 100%|██████████| 24/24 [00:23<00:00,  1.03it/s, loss=0.548]\n",
      "Validation: 100%|██████████| 4/4 [00:02<00:00,  1.72it/s, loss=0.567]\n"
     ]
    },
    {
     "name": "stdout",
     "output_type": "stream",
     "text": [
      "Validation Dice Score\n",
      "Class 0: 0.9819, Class 1: 0.6104, Class 2: 0.0261, Class 3: 0.2828, \n",
      "Class 4: 0.4393, Class 5: 0.4369, Class 6: 0.5131, \n",
      "Validation F-beta Score\n",
      "Class 0: 0.9722, Class 1: 0.5833, Class 2: 0.0942, Class 3: 0.4367, \n",
      "Class 4: 0.6732, Class 5: 0.5054, Class 6: 0.6594, \n",
      "Overall Mean Dice Score: 0.4565\n",
      "Overall Mean F-beta Score: 0.5716\n",
      "\n",
      "Training Loss: 0.5838, Validation Loss: 0.5816, Validation F-beta: 0.5716\n",
      "Epoch 181/4000\n",
      "Current lambda: 0.4600\n"
     ]
    },
    {
     "name": "stderr",
     "output_type": "stream",
     "text": [
      "Training: 100%|██████████| 24/24 [00:23<00:00,  1.01it/s, loss=0.599]\n",
      "Validation: 100%|██████████| 4/4 [00:02<00:00,  1.71it/s, loss=0.561]\n"
     ]
    },
    {
     "name": "stdout",
     "output_type": "stream",
     "text": [
      "Validation Dice Score\n",
      "Class 0: 0.9821, Class 1: 0.3403, Class 2: 0.1747, Class 3: 0.3824, \n",
      "Class 4: 0.3690, Class 5: 0.3297, Class 6: 0.6039, \n",
      "Validation F-beta Score\n",
      "Class 0: 0.9735, Class 1: 0.5570, Class 2: 0.3819, Class 3: 0.5733, \n",
      "Class 4: 0.5121, Class 5: 0.4061, Class 6: 0.6511, \n",
      "Overall Mean Dice Score: 0.4051\n",
      "Overall Mean F-beta Score: 0.5399\n",
      "\n",
      "Training Loss: 0.5817, Validation Loss: 0.5976, Validation F-beta: 0.5399\n",
      "Epoch 182/4000\n",
      "Current lambda: 0.4600\n"
     ]
    },
    {
     "name": "stderr",
     "output_type": "stream",
     "text": [
      "Training: 100%|██████████| 24/24 [00:23<00:00,  1.03it/s, loss=0.577]\n",
      "Validation: 100%|██████████| 4/4 [00:02<00:00,  1.72it/s, loss=0.575]\n"
     ]
    },
    {
     "name": "stdout",
     "output_type": "stream",
     "text": [
      "Validation Dice Score\n",
      "Class 0: 0.9823, Class 1: 0.4338, Class 2: 0.0959, Class 3: 0.4643, \n",
      "Class 4: 0.6317, Class 5: 0.3475, Class 6: 0.8323, \n",
      "Validation F-beta Score\n",
      "Class 0: 0.9775, Class 1: 0.5142, Class 2: 0.2180, Class 3: 0.6934, \n",
      "Class 4: 0.6354, Class 5: 0.4481, Class 6: 0.8161, \n",
      "Overall Mean Dice Score: 0.5419\n",
      "Overall Mean F-beta Score: 0.6214\n",
      "\n",
      "Training Loss: 0.5820, Validation Loss: 0.5696, Validation F-beta: 0.6214\n",
      "Epoch 183/4000\n",
      "Current lambda: 0.4600\n"
     ]
    },
    {
     "name": "stderr",
     "output_type": "stream",
     "text": [
      "Training: 100%|██████████| 24/24 [00:23<00:00,  1.04it/s, loss=0.605]\n",
      "Validation: 100%|██████████| 4/4 [00:02<00:00,  1.78it/s, loss=0.547]\n"
     ]
    },
    {
     "name": "stdout",
     "output_type": "stream",
     "text": [
      "Validation Dice Score\n",
      "Class 0: 0.9822, Class 1: 0.4440, Class 2: 0.1933, Class 3: 0.3694, \n",
      "Class 4: 0.4842, Class 5: 0.3217, Class 6: 0.7662, \n",
      "Validation F-beta Score\n",
      "Class 0: 0.9737, Class 1: 0.5406, Class 2: 0.3645, Class 3: 0.3609, \n",
      "Class 4: 0.5919, Class 5: 0.3912, Class 6: 0.8730, \n",
      "Overall Mean Dice Score: 0.4771\n",
      "Overall Mean F-beta Score: 0.5515\n",
      "\n",
      "Training Loss: 0.5834, Validation Loss: 0.5633, Validation F-beta: 0.5515\n",
      "Epoch 184/4000\n",
      "Current lambda: 0.4600\n"
     ]
    },
    {
     "name": "stderr",
     "output_type": "stream",
     "text": [
      "Training: 100%|██████████| 24/24 [00:23<00:00,  1.03it/s, loss=0.556]\n",
      "Validation: 100%|██████████| 4/4 [00:02<00:00,  1.76it/s, loss=0.622]\n"
     ]
    },
    {
     "name": "stdout",
     "output_type": "stream",
     "text": [
      "Validation Dice Score\n",
      "Class 0: 0.9856, Class 1: 0.6646, Class 2: 0.1589, Class 3: 0.3221, \n",
      "Class 4: 0.3243, Class 5: 0.4367, Class 6: 0.6178, \n",
      "Validation F-beta Score\n",
      "Class 0: 0.9792, Class 1: 0.6534, Class 2: 0.3865, Class 3: 0.4055, \n",
      "Class 4: 0.5183, Class 5: 0.5369, Class 6: 0.6481, \n",
      "Overall Mean Dice Score: 0.4731\n",
      "Overall Mean F-beta Score: 0.5525\n",
      "\n",
      "Training Loss: 0.5759, Validation Loss: 0.5764, Validation F-beta: 0.5525\n",
      "Epoch 185/4000\n",
      "Current lambda: 0.4600\n"
     ]
    },
    {
     "name": "stderr",
     "output_type": "stream",
     "text": [
      "Training: 100%|██████████| 24/24 [00:23<00:00,  1.03it/s, loss=0.539]\n",
      "Validation: 100%|██████████| 4/4 [00:02<00:00,  1.76it/s, loss=0.611]\n"
     ]
    },
    {
     "name": "stdout",
     "output_type": "stream",
     "text": [
      "Validation Dice Score\n",
      "Class 0: 0.9804, Class 1: 0.4750, Class 2: 0.0649, Class 3: 0.4672, \n",
      "Class 4: 0.4197, Class 5: 0.3147, Class 6: 0.3468, \n",
      "Validation F-beta Score\n",
      "Class 0: 0.9722, Class 1: 0.5394, Class 2: 0.1100, Class 3: 0.5582, \n",
      "Class 4: 0.5220, Class 5: 0.4710, Class 6: 0.4195, \n",
      "Overall Mean Dice Score: 0.4047\n",
      "Overall Mean F-beta Score: 0.5020\n",
      "\n",
      "Training Loss: 0.5792, Validation Loss: 0.5867, Validation F-beta: 0.5020\n",
      "Epoch 186/4000\n",
      "Current lambda: 0.4600\n"
     ]
    },
    {
     "name": "stderr",
     "output_type": "stream",
     "text": [
      "Training: 100%|██████████| 24/24 [00:23<00:00,  1.04it/s, loss=0.593]\n",
      "Validation: 100%|██████████| 4/4 [00:02<00:00,  1.72it/s, loss=0.586]\n"
     ]
    },
    {
     "name": "stdout",
     "output_type": "stream",
     "text": [
      "Validation Dice Score\n",
      "Class 0: 0.9792, Class 1: 0.3790, Class 2: 0.1158, Class 3: 0.3542, \n",
      "Class 4: 0.4251, Class 5: 0.3010, Class 6: 0.7367, \n",
      "Validation F-beta Score\n",
      "Class 0: 0.9745, Class 1: 0.3823, Class 2: 0.2898, Class 3: 0.4206, \n",
      "Class 4: 0.4104, Class 5: 0.4325, Class 6: 0.7257, \n",
      "Overall Mean Dice Score: 0.4392\n",
      "Overall Mean F-beta Score: 0.4743\n",
      "\n",
      "Training Loss: 0.5780, Validation Loss: 0.5774, Validation F-beta: 0.4743\n",
      "Epoch 187/4000\n",
      "Current lambda: 0.4600\n"
     ]
    },
    {
     "name": "stderr",
     "output_type": "stream",
     "text": [
      "Training: 100%|██████████| 24/24 [00:23<00:00,  1.04it/s, loss=0.563]\n",
      "Validation: 100%|██████████| 4/4 [00:02<00:00,  1.73it/s, loss=0.576]\n"
     ]
    },
    {
     "name": "stdout",
     "output_type": "stream",
     "text": [
      "Validation Dice Score\n",
      "Class 0: 0.9772, Class 1: 0.6197, Class 2: 0.0290, Class 3: 0.4007, \n",
      "Class 4: 0.4020, Class 5: 0.4335, Class 6: 0.7109, \n",
      "Validation F-beta Score\n",
      "Class 0: 0.9722, Class 1: 0.6731, Class 2: 0.0487, Class 3: 0.5504, \n",
      "Class 4: 0.4730, Class 5: 0.4528, Class 6: 0.7940, \n",
      "Overall Mean Dice Score: 0.5134\n",
      "Overall Mean F-beta Score: 0.5887\n",
      "\n",
      "Training Loss: 0.5901, Validation Loss: 0.5680, Validation F-beta: 0.5887\n",
      "Epoch 188/4000\n",
      "Current lambda: 0.4600\n"
     ]
    },
    {
     "name": "stderr",
     "output_type": "stream",
     "text": [
      "Training: 100%|██████████| 24/24 [00:23<00:00,  1.04it/s, loss=0.59] \n",
      "Validation: 100%|██████████| 4/4 [00:02<00:00,  1.75it/s, loss=0.505]\n"
     ]
    },
    {
     "name": "stdout",
     "output_type": "stream",
     "text": [
      "Validation Dice Score\n",
      "Class 0: 0.9788, Class 1: 0.4323, Class 2: 0.0680, Class 3: 0.4870, \n",
      "Class 4: 0.4792, Class 5: 0.3534, Class 6: 0.8328, \n",
      "Validation F-beta Score\n",
      "Class 0: 0.9711, Class 1: 0.5192, Class 2: 0.1952, Class 3: 0.6821, \n",
      "Class 4: 0.6326, Class 5: 0.4147, Class 6: 0.8134, \n",
      "Overall Mean Dice Score: 0.5169\n",
      "Overall Mean F-beta Score: 0.6124\n",
      "\n",
      "Training Loss: 0.5853, Validation Loss: 0.5448, Validation F-beta: 0.6124\n",
      "Validation loss did not improve. Reducing lambda to 0.4500\n",
      "Epoch 189/4000\n",
      "Current lambda: 0.4500\n"
     ]
    },
    {
     "name": "stderr",
     "output_type": "stream",
     "text": [
      "Training: 100%|██████████| 24/24 [00:23<00:00,  1.03it/s, loss=0.578]\n",
      "Validation: 100%|██████████| 4/4 [00:02<00:00,  1.72it/s, loss=0.539]\n"
     ]
    },
    {
     "name": "stdout",
     "output_type": "stream",
     "text": [
      "Validation Dice Score\n",
      "Class 0: 0.9849, Class 1: 0.5716, Class 2: 0.1106, Class 3: 0.3897, \n",
      "Class 4: 0.4506, Class 5: 0.5427, Class 6: 0.7295, \n",
      "Validation F-beta Score\n",
      "Class 0: 0.9813, Class 1: 0.6443, Class 2: 0.2347, Class 3: 0.4527, \n",
      "Class 4: 0.5470, Class 5: 0.5779, Class 6: 0.7973, \n",
      "Overall Mean Dice Score: 0.5368\n",
      "Overall Mean F-beta Score: 0.6038\n",
      "\n",
      "Training Loss: 0.5743, Validation Loss: 0.5444, Validation F-beta: 0.6038\n",
      "========================================================\n",
      "Best model saved based on validation loss: 0.5444\n",
      "========================================================\n",
      "Epoch 190/4000\n",
      "Current lambda: 0.4500\n"
     ]
    },
    {
     "name": "stderr",
     "output_type": "stream",
     "text": [
      "Training: 100%|██████████| 24/24 [00:23<00:00,  1.04it/s, loss=0.553]\n",
      "Validation: 100%|██████████| 4/4 [00:02<00:00,  1.75it/s, loss=0.59] \n"
     ]
    },
    {
     "name": "stdout",
     "output_type": "stream",
     "text": [
      "Validation Dice Score\n",
      "Class 0: 0.9833, Class 1: 0.5313, Class 2: 0.1170, Class 3: 0.3133, \n",
      "Class 4: 0.6283, Class 5: 0.4402, Class 6: 0.7460, \n",
      "Validation F-beta Score\n",
      "Class 0: 0.9799, Class 1: 0.4082, Class 2: 0.1513, Class 3: 0.3430, \n",
      "Class 4: 0.6274, Class 5: 0.5624, Class 6: 0.7878, \n",
      "Overall Mean Dice Score: 0.5318\n",
      "Overall Mean F-beta Score: 0.5458\n",
      "\n",
      "Training Loss: 0.5754, Validation Loss: 0.5782, Validation F-beta: 0.5458\n",
      "Epoch 191/4000\n",
      "Current lambda: 0.4500\n"
     ]
    },
    {
     "name": "stderr",
     "output_type": "stream",
     "text": [
      "Training: 100%|██████████| 24/24 [00:23<00:00,  1.04it/s, loss=0.616]\n",
      "Validation: 100%|██████████| 4/4 [00:02<00:00,  1.70it/s, loss=0.624]\n"
     ]
    },
    {
     "name": "stdout",
     "output_type": "stream",
     "text": [
      "Validation Dice Score\n",
      "Class 0: 0.9839, Class 1: 0.2854, Class 2: 0.0319, Class 3: 0.5224, \n",
      "Class 4: 0.3841, Class 5: 0.4064, Class 6: 0.4960, \n",
      "Validation F-beta Score\n",
      "Class 0: 0.9814, Class 1: 0.3810, Class 2: 0.0566, Class 3: 0.4801, \n",
      "Class 4: 0.4104, Class 5: 0.4264, Class 6: 0.6016, \n",
      "Overall Mean Dice Score: 0.4189\n",
      "Overall Mean F-beta Score: 0.4599\n",
      "\n",
      "Training Loss: 0.5852, Validation Loss: 0.5605, Validation F-beta: 0.4599\n",
      "Epoch 192/4000\n",
      "Current lambda: 0.4500\n"
     ]
    },
    {
     "name": "stderr",
     "output_type": "stream",
     "text": [
      "Training: 100%|██████████| 24/24 [00:23<00:00,  1.04it/s, loss=0.603]\n",
      "Validation: 100%|██████████| 4/4 [00:02<00:00,  1.69it/s, loss=0.564]\n"
     ]
    },
    {
     "name": "stdout",
     "output_type": "stream",
     "text": [
      "Validation Dice Score\n",
      "Class 0: 0.9837, Class 1: 0.4953, Class 2: 0.1614, Class 3: 0.4277, \n",
      "Class 4: 0.5601, Class 5: 0.3876, Class 6: 0.6024, \n",
      "Validation F-beta Score\n",
      "Class 0: 0.9777, Class 1: 0.7717, Class 2: 0.2743, Class 3: 0.5085, \n",
      "Class 4: 0.5504, Class 5: 0.4600, Class 6: 0.6454, \n",
      "Overall Mean Dice Score: 0.4946\n",
      "Overall Mean F-beta Score: 0.5872\n",
      "\n",
      "Training Loss: 0.5793, Validation Loss: 0.5586, Validation F-beta: 0.5872\n",
      "Epoch 193/4000\n",
      "Current lambda: 0.4500\n"
     ]
    },
    {
     "name": "stderr",
     "output_type": "stream",
     "text": [
      "Training: 100%|██████████| 24/24 [00:22<00:00,  1.05it/s, loss=0.589]\n",
      "Validation: 100%|██████████| 4/4 [00:02<00:00,  1.75it/s, loss=0.514]\n"
     ]
    },
    {
     "name": "stdout",
     "output_type": "stream",
     "text": [
      "Validation Dice Score\n",
      "Class 0: 0.9841, Class 1: 0.5890, Class 2: 0.0754, Class 3: 0.4730, \n",
      "Class 4: 0.3596, Class 5: 0.4492, Class 6: 0.7799, \n",
      "Validation F-beta Score\n",
      "Class 0: 0.9784, Class 1: 0.7793, Class 2: 0.2195, Class 3: 0.5425, \n",
      "Class 4: 0.5596, Class 5: 0.4280, Class 6: 0.8643, \n",
      "Overall Mean Dice Score: 0.5301\n",
      "Overall Mean F-beta Score: 0.6347\n",
      "\n",
      "Training Loss: 0.5816, Validation Loss: 0.5368, Validation F-beta: 0.6347\n",
      "========================================================\n",
      "SUPER Best model saved. Loss:0.5368, Score:0.6347\n",
      "========================================================\n",
      "Epoch 194/4000\n",
      "Current lambda: 0.4500\n"
     ]
    },
    {
     "name": "stderr",
     "output_type": "stream",
     "text": [
      "Training: 100%|██████████| 24/24 [00:22<00:00,  1.04it/s, loss=0.628]\n",
      "Validation: 100%|██████████| 4/4 [00:02<00:00,  1.73it/s, loss=0.569]\n"
     ]
    },
    {
     "name": "stdout",
     "output_type": "stream",
     "text": [
      "Validation Dice Score\n",
      "Class 0: 0.9831, Class 1: 0.5280, Class 2: 0.0556, Class 3: 0.3241, \n",
      "Class 4: 0.4669, Class 5: 0.3123, Class 6: 0.5250, \n",
      "Validation F-beta Score\n",
      "Class 0: 0.9778, Class 1: 0.6266, Class 2: 0.0941, Class 3: 0.4012, \n",
      "Class 4: 0.4873, Class 5: 0.3979, Class 6: 0.6638, \n",
      "Overall Mean Dice Score: 0.4313\n",
      "Overall Mean F-beta Score: 0.5153\n",
      "\n",
      "Training Loss: 0.5815, Validation Loss: 0.5852, Validation F-beta: 0.5153\n",
      "Epoch 195/4000\n",
      "Current lambda: 0.4500\n"
     ]
    },
    {
     "name": "stderr",
     "output_type": "stream",
     "text": [
      "Training: 100%|██████████| 24/24 [00:23<00:00,  1.04it/s, loss=0.604]\n",
      "Validation: 100%|██████████| 4/4 [00:02<00:00,  1.78it/s, loss=0.588]\n"
     ]
    },
    {
     "name": "stdout",
     "output_type": "stream",
     "text": [
      "Validation Dice Score\n",
      "Class 0: 0.9836, Class 1: 0.4382, Class 2: 0.0217, Class 3: 0.2881, \n",
      "Class 4: 0.3502, Class 5: 0.4600, Class 6: 0.5846, \n",
      "Validation F-beta Score\n",
      "Class 0: 0.9772, Class 1: 0.6813, Class 2: 0.0450, Class 3: 0.3714, \n",
      "Class 4: 0.4943, Class 5: 0.4858, Class 6: 0.8256, \n",
      "Overall Mean Dice Score: 0.4242\n",
      "Overall Mean F-beta Score: 0.5717\n",
      "\n",
      "Training Loss: 0.5730, Validation Loss: 0.5894, Validation F-beta: 0.5717\n",
      "Epoch 196/4000\n",
      "Current lambda: 0.4500\n"
     ]
    },
    {
     "name": "stderr",
     "output_type": "stream",
     "text": [
      "Training: 100%|██████████| 24/24 [00:22<00:00,  1.05it/s, loss=0.593]\n",
      "Validation: 100%|██████████| 4/4 [00:02<00:00,  1.73it/s, loss=0.552]\n"
     ]
    },
    {
     "name": "stdout",
     "output_type": "stream",
     "text": [
      "Validation Dice Score\n",
      "Class 0: 0.9846, Class 1: 0.5102, Class 2: 0.1699, Class 3: 0.5818, \n",
      "Class 4: 0.3687, Class 5: 0.4214, Class 6: 0.7868, \n",
      "Validation F-beta Score\n",
      "Class 0: 0.9772, Class 1: 0.6283, Class 2: 0.3346, Class 3: 0.5813, \n",
      "Class 4: 0.5312, Class 5: 0.5946, Class 6: 0.8724, \n",
      "Overall Mean Dice Score: 0.5338\n",
      "Overall Mean F-beta Score: 0.6416\n",
      "\n",
      "Training Loss: 0.5763, Validation Loss: 0.5476, Validation F-beta: 0.6416\n",
      "========================================================\n",
      "Best model saved based on F-beta score: 0.6416\n",
      "========================================================\n",
      "Epoch 197/4000\n",
      "Current lambda: 0.4500\n"
     ]
    },
    {
     "name": "stderr",
     "output_type": "stream",
     "text": [
      "Training: 100%|██████████| 24/24 [00:23<00:00,  1.03it/s, loss=0.578]\n",
      "Validation: 100%|██████████| 4/4 [00:02<00:00,  1.76it/s, loss=0.552]\n"
     ]
    },
    {
     "name": "stdout",
     "output_type": "stream",
     "text": [
      "Validation Dice Score\n",
      "Class 0: 0.9815, Class 1: 0.6503, Class 2: 0.1184, Class 3: 0.5350, \n",
      "Class 4: 0.3446, Class 5: 0.4679, Class 6: 0.8122, \n",
      "Validation F-beta Score\n",
      "Class 0: 0.9729, Class 1: 0.7119, Class 2: 0.1842, Class 3: 0.6019, \n",
      "Class 4: 0.6446, Class 5: 0.5800, Class 6: 0.9115, \n",
      "Overall Mean Dice Score: 0.5620\n",
      "Overall Mean F-beta Score: 0.6900\n",
      "\n",
      "Training Loss: 0.5787, Validation Loss: 0.5286, Validation F-beta: 0.6900\n",
      "========================================================\n",
      "SUPER Best model saved. Loss:0.5286, Score:0.6900\n",
      "========================================================\n",
      "Epoch 198/4000\n",
      "Current lambda: 0.4500\n"
     ]
    },
    {
     "name": "stderr",
     "output_type": "stream",
     "text": [
      "Training: 100%|██████████| 24/24 [00:23<00:00,  1.04it/s, loss=0.603]\n",
      "Validation: 100%|██████████| 4/4 [00:02<00:00,  1.72it/s, loss=0.509]\n"
     ]
    },
    {
     "name": "stdout",
     "output_type": "stream",
     "text": [
      "Validation Dice Score\n",
      "Class 0: 0.9830, Class 1: 0.7086, Class 2: 0.1390, Class 3: 0.4779, \n",
      "Class 4: 0.4221, Class 5: 0.3189, Class 6: 0.7281, \n",
      "Validation F-beta Score\n",
      "Class 0: 0.9785, Class 1: 0.6588, Class 2: 0.2425, Class 3: 0.4704, \n",
      "Class 4: 0.4249, Class 5: 0.3749, Class 6: 0.8236, \n",
      "Overall Mean Dice Score: 0.5311\n",
      "Overall Mean F-beta Score: 0.5505\n",
      "\n",
      "Training Loss: 0.5888, Validation Loss: 0.5359, Validation F-beta: 0.5505\n",
      "Epoch 199/4000\n",
      "Current lambda: 0.4500\n"
     ]
    },
    {
     "name": "stderr",
     "output_type": "stream",
     "text": [
      "Training: 100%|██████████| 24/24 [00:23<00:00,  1.03it/s, loss=0.565]\n",
      "Validation: 100%|██████████| 4/4 [00:02<00:00,  1.74it/s, loss=0.537]\n"
     ]
    },
    {
     "name": "stdout",
     "output_type": "stream",
     "text": [
      "Validation Dice Score\n",
      "Class 0: 0.9830, Class 1: 0.3885, Class 2: 0.1091, Class 3: 0.3208, \n",
      "Class 4: 0.3692, Class 5: 0.4897, Class 6: 0.4539, \n",
      "Validation F-beta Score\n",
      "Class 0: 0.9752, Class 1: 0.4354, Class 2: 0.1782, Class 3: 0.4820, \n",
      "Class 4: 0.4901, Class 5: 0.5493, Class 6: 0.7194, \n",
      "Overall Mean Dice Score: 0.4044\n",
      "Overall Mean F-beta Score: 0.5353\n",
      "\n",
      "Training Loss: 0.5784, Validation Loss: 0.5933, Validation F-beta: 0.5353\n",
      "Epoch 200/4000\n",
      "Current lambda: 0.4500\n"
     ]
    },
    {
     "name": "stderr",
     "output_type": "stream",
     "text": [
      "Training: 100%|██████████| 24/24 [00:23<00:00,  1.01it/s, loss=0.556]\n",
      "Validation: 100%|██████████| 4/4 [00:02<00:00,  1.66it/s, loss=0.595]\n"
     ]
    },
    {
     "name": "stdout",
     "output_type": "stream",
     "text": [
      "Validation Dice Score\n",
      "Class 0: 0.9849, Class 1: 0.4571, Class 2: 0.0278, Class 3: 0.3873, \n",
      "Class 4: 0.3057, Class 5: 0.3869, Class 6: 0.7679, \n",
      "Validation F-beta Score\n",
      "Class 0: 0.9762, Class 1: 0.4017, Class 2: 0.0506, Class 3: 0.5270, \n",
      "Class 4: 0.5574, Class 5: 0.5767, Class 6: 0.8089, \n",
      "Overall Mean Dice Score: 0.4610\n",
      "Overall Mean F-beta Score: 0.5743\n",
      "\n",
      "Training Loss: 0.5787, Validation Loss: 0.5823, Validation F-beta: 0.5743\n",
      "Epoch 201/4000\n",
      "Current lambda: 0.4500\n"
     ]
    },
    {
     "name": "stderr",
     "output_type": "stream",
     "text": [
      "Training: 100%|██████████| 24/24 [00:23<00:00,  1.03it/s, loss=0.578]\n",
      "Validation: 100%|██████████| 4/4 [00:02<00:00,  1.72it/s, loss=0.594]\n"
     ]
    },
    {
     "name": "stdout",
     "output_type": "stream",
     "text": [
      "Validation Dice Score\n",
      "Class 0: 0.9805, Class 1: 0.5302, Class 2: 0.1037, Class 3: 0.4709, \n",
      "Class 4: 0.4549, Class 5: 0.3231, Class 6: 0.6115, \n",
      "Validation F-beta Score\n",
      "Class 0: 0.9712, Class 1: 0.5502, Class 2: 0.2706, Class 3: 0.6061, \n",
      "Class 4: 0.6562, Class 5: 0.4149, Class 6: 0.5820, \n",
      "Overall Mean Dice Score: 0.4781\n",
      "Overall Mean F-beta Score: 0.5619\n",
      "\n",
      "Training Loss: 0.5782, Validation Loss: 0.5836, Validation F-beta: 0.5619\n",
      "Epoch 202/4000\n",
      "Current lambda: 0.4500\n"
     ]
    },
    {
     "name": "stderr",
     "output_type": "stream",
     "text": [
      "Training: 100%|██████████| 24/24 [00:23<00:00,  1.03it/s, loss=0.607]\n",
      "Validation: 100%|██████████| 4/4 [00:02<00:00,  1.68it/s, loss=0.587]\n"
     ]
    },
    {
     "name": "stdout",
     "output_type": "stream",
     "text": [
      "Validation Dice Score\n",
      "Class 0: 0.9842, Class 1: 0.4779, Class 2: 0.1369, Class 3: 0.4673, \n",
      "Class 4: 0.4505, Class 5: 0.4700, Class 6: 0.7812, \n",
      "Validation F-beta Score\n",
      "Class 0: 0.9778, Class 1: 0.6085, Class 2: 0.3038, Class 3: 0.5492, \n",
      "Class 4: 0.5887, Class 5: 0.5374, Class 6: 0.8911, \n",
      "Overall Mean Dice Score: 0.5294\n",
      "Overall Mean F-beta Score: 0.6350\n",
      "\n",
      "Training Loss: 0.5772, Validation Loss: 0.5555, Validation F-beta: 0.6350\n",
      "Epoch 203/4000\n",
      "Current lambda: 0.4500\n"
     ]
    },
    {
     "name": "stderr",
     "output_type": "stream",
     "text": [
      "Training: 100%|██████████| 24/24 [00:23<00:00,  1.03it/s, loss=0.53] \n",
      "Validation: 100%|██████████| 4/4 [00:02<00:00,  1.74it/s, loss=0.536]\n"
     ]
    },
    {
     "name": "stdout",
     "output_type": "stream",
     "text": [
      "Validation Dice Score\n",
      "Class 0: 0.9828, Class 1: 0.6652, Class 2: 0.0593, Class 3: 0.4366, \n",
      "Class 4: 0.3574, Class 5: 0.3165, Class 6: 0.8497, \n",
      "Validation F-beta Score\n",
      "Class 0: 0.9736, Class 1: 0.6558, Class 2: 0.2140, Class 3: 0.5740, \n",
      "Class 4: 0.4585, Class 5: 0.3855, Class 6: 0.8719, \n",
      "Overall Mean Dice Score: 0.5251\n",
      "Overall Mean F-beta Score: 0.5891\n",
      "\n",
      "Training Loss: 0.5790, Validation Loss: 0.5680, Validation F-beta: 0.5891\n",
      "Epoch 204/4000\n",
      "Current lambda: 0.4500\n"
     ]
    },
    {
     "name": "stderr",
     "output_type": "stream",
     "text": [
      "Training: 100%|██████████| 24/24 [00:23<00:00,  1.04it/s, loss=0.553]\n",
      "Validation: 100%|██████████| 4/4 [00:02<00:00,  1.69it/s, loss=0.597]\n"
     ]
    },
    {
     "name": "stdout",
     "output_type": "stream",
     "text": [
      "Validation Dice Score\n",
      "Class 0: 0.9844, Class 1: 0.2730, Class 2: 0.0763, Class 3: 0.5887, \n",
      "Class 4: 0.4994, Class 5: 0.3517, Class 6: 0.6952, \n",
      "Validation F-beta Score\n",
      "Class 0: 0.9778, Class 1: 0.3376, Class 2: 0.1820, Class 3: 0.7424, \n",
      "Class 4: 0.5692, Class 5: 0.4447, Class 6: 0.8738, \n",
      "Overall Mean Dice Score: 0.4816\n",
      "Overall Mean F-beta Score: 0.5935\n",
      "\n",
      "Training Loss: 0.5769, Validation Loss: 0.5662, Validation F-beta: 0.5935\n",
      "Epoch 205/4000\n",
      "Current lambda: 0.4500\n"
     ]
    },
    {
     "name": "stderr",
     "output_type": "stream",
     "text": [
      "Training: 100%|██████████| 24/24 [00:23<00:00,  1.04it/s, loss=0.574]\n",
      "Validation: 100%|██████████| 4/4 [00:02<00:00,  1.69it/s, loss=0.584]\n"
     ]
    },
    {
     "name": "stdout",
     "output_type": "stream",
     "text": [
      "Validation Dice Score\n",
      "Class 0: 0.9828, Class 1: 0.6290, Class 2: 0.0942, Class 3: 0.4667, \n",
      "Class 4: 0.2788, Class 5: 0.3974, Class 6: 0.5641, \n",
      "Validation F-beta Score\n",
      "Class 0: 0.9786, Class 1: 0.8295, Class 2: 0.1627, Class 3: 0.6367, \n",
      "Class 4: 0.2015, Class 5: 0.4379, Class 6: 0.8550, \n",
      "Overall Mean Dice Score: 0.4672\n",
      "Overall Mean F-beta Score: 0.5921\n",
      "\n",
      "Training Loss: 0.5838, Validation Loss: 0.5753, Validation F-beta: 0.5921\n",
      "Epoch 206/4000\n",
      "Current lambda: 0.4500\n"
     ]
    },
    {
     "name": "stderr",
     "output_type": "stream",
     "text": [
      "Training: 100%|██████████| 24/24 [00:23<00:00,  1.04it/s, loss=0.603]\n",
      "Validation: 100%|██████████| 4/4 [00:02<00:00,  1.73it/s, loss=0.535]\n"
     ]
    },
    {
     "name": "stdout",
     "output_type": "stream",
     "text": [
      "Validation Dice Score\n",
      "Class 0: 0.9836, Class 1: 0.5542, Class 2: 0.1731, Class 3: 0.4070, \n",
      "Class 4: 0.4610, Class 5: 0.3595, Class 6: 0.7462, \n",
      "Validation F-beta Score\n",
      "Class 0: 0.9807, Class 1: 0.5565, Class 2: 0.3854, Class 3: 0.4403, \n",
      "Class 4: 0.4487, Class 5: 0.4651, Class 6: 0.8232, \n",
      "Overall Mean Dice Score: 0.5056\n",
      "Overall Mean F-beta Score: 0.5468\n",
      "\n",
      "Training Loss: 0.5892, Validation Loss: 0.5614, Validation F-beta: 0.5468\n",
      "Validation loss did not improve. Reducing lambda to 0.4400\n",
      "Epoch 207/4000\n",
      "Current lambda: 0.4400\n"
     ]
    },
    {
     "name": "stderr",
     "output_type": "stream",
     "text": [
      "Training: 100%|██████████| 24/24 [00:23<00:00,  1.04it/s, loss=0.565]\n",
      "Validation: 100%|██████████| 4/4 [00:02<00:00,  1.74it/s, loss=0.511]\n"
     ]
    },
    {
     "name": "stdout",
     "output_type": "stream",
     "text": [
      "Validation Dice Score\n",
      "Class 0: 0.9802, Class 1: 0.4174, Class 2: 0.1265, Class 3: 0.5253, \n",
      "Class 4: 0.4989, Class 5: 0.4701, Class 6: 0.3934, \n",
      "Validation F-beta Score\n",
      "Class 0: 0.9743, Class 1: 0.5414, Class 2: 0.2779, Class 3: 0.7045, \n",
      "Class 4: 0.6031, Class 5: 0.5218, Class 6: 0.3935, \n",
      "Overall Mean Dice Score: 0.4610\n",
      "Overall Mean F-beta Score: 0.5529\n",
      "\n",
      "Training Loss: 0.5825, Validation Loss: 0.5674, Validation F-beta: 0.5529\n",
      "Epoch 208/4000\n",
      "Current lambda: 0.4400\n"
     ]
    },
    {
     "name": "stderr",
     "output_type": "stream",
     "text": [
      "Training: 100%|██████████| 24/24 [00:23<00:00,  1.04it/s, loss=0.624]\n",
      "Validation: 100%|██████████| 4/4 [00:02<00:00,  1.71it/s, loss=0.565]\n"
     ]
    },
    {
     "name": "stdout",
     "output_type": "stream",
     "text": [
      "Validation Dice Score\n",
      "Class 0: 0.9854, Class 1: 0.2217, Class 2: 0.0745, Class 3: 0.3195, \n",
      "Class 4: 0.5782, Class 5: 0.4655, Class 6: 0.7709, \n",
      "Validation F-beta Score\n",
      "Class 0: 0.9830, Class 1: 0.5236, Class 2: 0.1349, Class 3: 0.3725, \n",
      "Class 4: 0.5356, Class 5: 0.5504, Class 6: 0.7440, \n",
      "Overall Mean Dice Score: 0.4712\n",
      "Overall Mean F-beta Score: 0.5452\n",
      "\n",
      "Training Loss: 0.5796, Validation Loss: 0.5834, Validation F-beta: 0.5452\n",
      "Epoch 209/4000\n",
      "Current lambda: 0.4400\n"
     ]
    },
    {
     "name": "stderr",
     "output_type": "stream",
     "text": [
      "Training: 100%|██████████| 24/24 [00:23<00:00,  1.04it/s, loss=0.594]\n",
      "Validation: 100%|██████████| 4/4 [00:02<00:00,  1.75it/s, loss=0.638]\n"
     ]
    },
    {
     "name": "stdout",
     "output_type": "stream",
     "text": [
      "Validation Dice Score\n",
      "Class 0: 0.9820, Class 1: 0.5755, Class 2: 0.0257, Class 3: 0.3447, \n",
      "Class 4: 0.3927, Class 5: 0.3176, Class 6: 0.6261, \n",
      "Validation F-beta Score\n",
      "Class 0: 0.9766, Class 1: 0.7789, Class 2: 0.0853, Class 3: 0.5659, \n",
      "Class 4: 0.4418, Class 5: 0.4025, Class 6: 0.6408, \n",
      "Overall Mean Dice Score: 0.4513\n",
      "Overall Mean F-beta Score: 0.5660\n",
      "\n",
      "Training Loss: 0.5812, Validation Loss: 0.5901, Validation F-beta: 0.5660\n",
      "Epoch 210/4000\n",
      "Current lambda: 0.4400\n"
     ]
    },
    {
     "name": "stderr",
     "output_type": "stream",
     "text": [
      "Training: 100%|██████████| 24/24 [00:23<00:00,  1.04it/s, loss=0.604]\n",
      "Validation: 100%|██████████| 4/4 [00:02<00:00,  1.74it/s, loss=0.489]\n"
     ]
    },
    {
     "name": "stdout",
     "output_type": "stream",
     "text": [
      "Validation Dice Score\n",
      "Class 0: 0.9854, Class 1: 0.7204, Class 2: 0.1512, Class 3: 0.4521, \n",
      "Class 4: 0.4409, Class 5: 0.4698, Class 6: 0.8259, \n",
      "Validation F-beta Score\n",
      "Class 0: 0.9777, Class 1: 0.7216, Class 2: 0.2941, Class 3: 0.6558, \n",
      "Class 4: 0.6119, Class 5: 0.5304, Class 6: 0.9216, \n",
      "Overall Mean Dice Score: 0.5818\n",
      "Overall Mean F-beta Score: 0.6883\n",
      "\n",
      "Training Loss: 0.5881, Validation Loss: 0.5264, Validation F-beta: 0.6883\n",
      "========================================================\n",
      "Best model saved based on validation loss: 0.5264\n",
      "========================================================\n",
      "Epoch 211/4000\n",
      "Current lambda: 0.4400\n"
     ]
    },
    {
     "name": "stderr",
     "output_type": "stream",
     "text": [
      "Training: 100%|██████████| 24/24 [00:23<00:00,  1.03it/s, loss=0.586]\n",
      "Validation: 100%|██████████| 4/4 [00:02<00:00,  1.77it/s, loss=0.549]\n"
     ]
    },
    {
     "name": "stdout",
     "output_type": "stream",
     "text": [
      "Validation Dice Score\n",
      "Class 0: 0.9804, Class 1: 0.6724, Class 2: 0.1068, Class 3: 0.5303, \n",
      "Class 4: 0.5253, Class 5: 0.2761, Class 6: 0.8369, \n",
      "Validation F-beta Score\n",
      "Class 0: 0.9708, Class 1: 0.8332, Class 2: 0.2100, Class 3: 0.6163, \n",
      "Class 4: 0.6857, Class 5: 0.3549, Class 6: 0.8191, \n",
      "Overall Mean Dice Score: 0.5682\n",
      "Overall Mean F-beta Score: 0.6618\n",
      "\n",
      "Training Loss: 0.5758, Validation Loss: 0.5628, Validation F-beta: 0.6618\n",
      "Epoch 212/4000\n",
      "Current lambda: 0.4400\n"
     ]
    },
    {
     "name": "stderr",
     "output_type": "stream",
     "text": [
      "Training: 100%|██████████| 24/24 [00:23<00:00,  1.04it/s, loss=0.591]\n",
      "Validation: 100%|██████████| 4/4 [00:02<00:00,  1.77it/s, loss=0.612]\n"
     ]
    },
    {
     "name": "stdout",
     "output_type": "stream",
     "text": [
      "Validation Dice Score\n",
      "Class 0: 0.9823, Class 1: 0.3323, Class 2: 0.1822, Class 3: 0.4414, \n",
      "Class 4: 0.5571, Class 5: 0.3858, Class 6: 0.7731, \n",
      "Validation F-beta Score\n",
      "Class 0: 0.9796, Class 1: 0.2723, Class 2: 0.2213, Class 3: 0.5098, \n",
      "Class 4: 0.5609, Class 5: 0.4623, Class 6: 0.8587, \n",
      "Overall Mean Dice Score: 0.4979\n",
      "Overall Mean F-beta Score: 0.5328\n",
      "\n",
      "Training Loss: 0.5845, Validation Loss: 0.5991, Validation F-beta: 0.5328\n",
      "Epoch 213/4000\n",
      "Current lambda: 0.4400\n"
     ]
    },
    {
     "name": "stderr",
     "output_type": "stream",
     "text": [
      "Training: 100%|██████████| 24/24 [00:23<00:00,  1.03it/s, loss=0.628]\n",
      "Validation: 100%|██████████| 4/4 [00:02<00:00,  1.71it/s, loss=0.598]\n"
     ]
    },
    {
     "name": "stdout",
     "output_type": "stream",
     "text": [
      "Validation Dice Score\n",
      "Class 0: 0.9823, Class 1: 0.4931, Class 2: 0.0938, Class 3: 0.2900, \n",
      "Class 4: 0.4170, Class 5: 0.3503, Class 6: 0.8563, \n",
      "Validation F-beta Score\n",
      "Class 0: 0.9768, Class 1: 0.4710, Class 2: 0.2828, Class 3: 0.4271, \n",
      "Class 4: 0.5353, Class 5: 0.4181, Class 6: 0.8998, \n",
      "Overall Mean Dice Score: 0.4813\n",
      "Overall Mean F-beta Score: 0.5503\n",
      "\n",
      "Training Loss: 0.5725, Validation Loss: 0.5607, Validation F-beta: 0.5503\n",
      "Epoch 214/4000\n",
      "Current lambda: 0.4400\n"
     ]
    },
    {
     "name": "stderr",
     "output_type": "stream",
     "text": [
      "Training: 100%|██████████| 24/24 [00:23<00:00,  1.04it/s, loss=0.586]\n",
      "Validation: 100%|██████████| 4/4 [00:02<00:00,  1.74it/s, loss=0.579]\n"
     ]
    },
    {
     "name": "stdout",
     "output_type": "stream",
     "text": [
      "Validation Dice Score\n",
      "Class 0: 0.9832, Class 1: 0.5043, Class 2: 0.0322, Class 3: 0.3294, \n",
      "Class 4: 0.3773, Class 5: 0.3278, Class 6: 0.8664, \n",
      "Validation F-beta Score\n",
      "Class 0: 0.9793, Class 1: 0.5397, Class 2: 0.1011, Class 3: 0.4118, \n",
      "Class 4: 0.3251, Class 5: 0.4143, Class 6: 0.8229, \n",
      "Overall Mean Dice Score: 0.4810\n",
      "Overall Mean F-beta Score: 0.5028\n",
      "\n",
      "Training Loss: 0.5747, Validation Loss: 0.5904, Validation F-beta: 0.5028\n",
      "Epoch 215/4000\n",
      "Current lambda: 0.4400\n"
     ]
    },
    {
     "name": "stderr",
     "output_type": "stream",
     "text": [
      "Training: 100%|██████████| 24/24 [00:23<00:00,  1.02it/s, loss=0.589]\n",
      "Validation: 100%|██████████| 4/4 [00:02<00:00,  1.76it/s, loss=0.609]\n"
     ]
    },
    {
     "name": "stdout",
     "output_type": "stream",
     "text": [
      "Validation Dice Score\n",
      "Class 0: 0.9786, Class 1: 0.3278, Class 2: 0.0659, Class 3: 0.5240, \n",
      "Class 4: 0.5180, Class 5: 0.3019, Class 6: 0.3965, \n",
      "Validation F-beta Score\n",
      "Class 0: 0.9742, Class 1: 0.4141, Class 2: 0.1181, Class 3: 0.6733, \n",
      "Class 4: 0.5320, Class 5: 0.3779, Class 6: 0.4370, \n",
      "Overall Mean Dice Score: 0.4136\n",
      "Overall Mean F-beta Score: 0.4869\n",
      "\n",
      "Training Loss: 0.5827, Validation Loss: 0.5964, Validation F-beta: 0.4869\n",
      "Epoch 216/4000\n",
      "Current lambda: 0.4400\n"
     ]
    },
    {
     "name": "stderr",
     "output_type": "stream",
     "text": [
      "Training: 100%|██████████| 24/24 [00:23<00:00,  1.03it/s, loss=0.558]\n",
      "Validation: 100%|██████████| 4/4 [00:02<00:00,  1.73it/s, loss=0.565]\n"
     ]
    },
    {
     "name": "stdout",
     "output_type": "stream",
     "text": [
      "Validation Dice Score\n",
      "Class 0: 0.9804, Class 1: 0.6501, Class 2: 0.0000, Class 3: 0.4857, \n",
      "Class 4: 0.5870, Class 5: 0.3640, Class 6: 0.7111, \n",
      "Validation F-beta Score\n",
      "Class 0: 0.9716, Class 1: 0.6259, Class 2: 0.0000, Class 3: 0.5061, \n",
      "Class 4: 0.7784, Class 5: 0.4415, Class 6: 0.8978, \n",
      "Overall Mean Dice Score: 0.5596\n",
      "Overall Mean F-beta Score: 0.6499\n",
      "\n",
      "Training Loss: 0.5819, Validation Loss: 0.5394, Validation F-beta: 0.6499\n",
      "Epoch 217/4000\n",
      "Current lambda: 0.4400\n"
     ]
    },
    {
     "name": "stderr",
     "output_type": "stream",
     "text": [
      "Training: 100%|██████████| 24/24 [00:23<00:00,  1.04it/s, loss=0.575]\n",
      "Validation: 100%|██████████| 4/4 [00:02<00:00,  1.73it/s, loss=0.53] \n"
     ]
    },
    {
     "name": "stdout",
     "output_type": "stream",
     "text": [
      "Validation Dice Score\n",
      "Class 0: 0.9843, Class 1: 0.6533, Class 2: 0.1283, Class 3: 0.4058, \n",
      "Class 4: 0.4343, Class 5: 0.4173, Class 6: 0.8455, \n",
      "Validation F-beta Score\n",
      "Class 0: 0.9783, Class 1: 0.7380, Class 2: 0.2168, Class 3: 0.6526, \n",
      "Class 4: 0.5222, Class 5: 0.5626, Class 6: 0.8980, \n",
      "Overall Mean Dice Score: 0.5512\n",
      "Overall Mean F-beta Score: 0.6747\n",
      "\n",
      "Training Loss: 0.5741, Validation Loss: 0.5527, Validation F-beta: 0.6747\n",
      "Epoch 218/4000\n",
      "Current lambda: 0.4400\n"
     ]
    },
    {
     "name": "stderr",
     "output_type": "stream",
     "text": [
      "Training: 100%|██████████| 24/24 [00:23<00:00,  1.04it/s, loss=0.559]\n",
      "Validation: 100%|██████████| 4/4 [00:02<00:00,  1.75it/s, loss=0.54] \n"
     ]
    },
    {
     "name": "stdout",
     "output_type": "stream",
     "text": [
      "Validation Dice Score\n",
      "Class 0: 0.9845, Class 1: 0.6885, Class 2: 0.0008, Class 3: 0.4503, \n",
      "Class 4: 0.6670, Class 5: 0.3340, Class 6: 0.5825, \n",
      "Validation F-beta Score\n",
      "Class 0: 0.9781, Class 1: 0.6349, Class 2: 0.0028, Class 3: 0.4539, \n",
      "Class 4: 0.7418, Class 5: 0.4627, Class 6: 0.6156, \n",
      "Overall Mean Dice Score: 0.5445\n",
      "Overall Mean F-beta Score: 0.5817\n",
      "\n",
      "Training Loss: 0.5844, Validation Loss: 0.5710, Validation F-beta: 0.5817\n",
      "Epoch 219/4000\n",
      "Current lambda: 0.4400\n"
     ]
    },
    {
     "name": "stderr",
     "output_type": "stream",
     "text": [
      "Training: 100%|██████████| 24/24 [00:23<00:00,  1.04it/s, loss=0.586]\n",
      "Validation: 100%|██████████| 4/4 [00:02<00:00,  1.69it/s, loss=0.551]\n"
     ]
    },
    {
     "name": "stdout",
     "output_type": "stream",
     "text": [
      "Validation Dice Score\n",
      "Class 0: 0.9864, Class 1: 0.5540, Class 2: 0.1677, Class 3: 0.4223, \n",
      "Class 4: 0.5697, Class 5: 0.4844, Class 6: 0.6166, \n",
      "Validation F-beta Score\n",
      "Class 0: 0.9823, Class 1: 0.6173, Class 2: 0.3100, Class 3: 0.5748, \n",
      "Class 4: 0.6528, Class 5: 0.5234, Class 6: 0.6739, \n",
      "Overall Mean Dice Score: 0.5294\n",
      "Overall Mean F-beta Score: 0.6084\n",
      "\n",
      "Training Loss: 0.5712, Validation Loss: 0.5597, Validation F-beta: 0.6084\n",
      "Validation loss did not improve. Reducing lambda to 0.4300\n",
      "Epoch 220/4000\n",
      "Current lambda: 0.4300\n"
     ]
    },
    {
     "name": "stderr",
     "output_type": "stream",
     "text": [
      "Training: 100%|██████████| 24/24 [00:23<00:00,  1.04it/s, loss=0.576]\n",
      "Validation: 100%|██████████| 4/4 [00:02<00:00,  1.76it/s, loss=0.568]\n"
     ]
    },
    {
     "name": "stdout",
     "output_type": "stream",
     "text": [
      "Validation Dice Score\n",
      "Class 0: 0.9830, Class 1: 0.4030, Class 2: 0.0799, Class 3: 0.4872, \n",
      "Class 4: 0.4471, Class 5: 0.2944, Class 6: 0.4107, \n",
      "Validation F-beta Score\n",
      "Class 0: 0.9745, Class 1: 0.5841, Class 2: 0.1271, Class 3: 0.5393, \n",
      "Class 4: 0.5315, Class 5: 0.4968, Class 6: 0.4358, \n",
      "Overall Mean Dice Score: 0.4085\n",
      "Overall Mean F-beta Score: 0.5175\n",
      "\n",
      "Training Loss: 0.5799, Validation Loss: 0.5910, Validation F-beta: 0.5175\n",
      "Epoch 221/4000\n",
      "Current lambda: 0.4300\n"
     ]
    },
    {
     "name": "stderr",
     "output_type": "stream",
     "text": [
      "Training: 100%|██████████| 24/24 [00:22<00:00,  1.05it/s, loss=0.561]\n",
      "Validation: 100%|██████████| 4/4 [00:02<00:00,  1.75it/s, loss=0.539]\n"
     ]
    },
    {
     "name": "stdout",
     "output_type": "stream",
     "text": [
      "Validation Dice Score\n",
      "Class 0: 0.9852, Class 1: 0.5177, Class 2: 0.0528, Class 3: 0.4333, \n",
      "Class 4: 0.5763, Class 5: 0.5376, Class 6: 0.8290, \n",
      "Validation F-beta Score\n",
      "Class 0: 0.9843, Class 1: 0.7129, Class 2: 0.0465, Class 3: 0.4238, \n",
      "Class 4: 0.5645, Class 5: 0.5599, Class 6: 0.8398, \n",
      "Overall Mean Dice Score: 0.5788\n",
      "Overall Mean F-beta Score: 0.6202\n",
      "\n",
      "Training Loss: 0.5745, Validation Loss: 0.5358, Validation F-beta: 0.6202\n",
      "Epoch 222/4000\n",
      "Current lambda: 0.4300\n"
     ]
    },
    {
     "name": "stderr",
     "output_type": "stream",
     "text": [
      "Training: 100%|██████████| 24/24 [00:23<00:00,  1.03it/s, loss=0.563]\n",
      "Validation: 100%|██████████| 4/4 [00:02<00:00,  1.77it/s, loss=0.539]\n"
     ]
    },
    {
     "name": "stdout",
     "output_type": "stream",
     "text": [
      "Validation Dice Score\n",
      "Class 0: 0.9839, Class 1: 0.5077, Class 2: 0.0925, Class 3: 0.3629, \n",
      "Class 4: 0.4327, Class 5: 0.3545, Class 6: 0.6015, \n",
      "Validation F-beta Score\n",
      "Class 0: 0.9779, Class 1: 0.5895, Class 2: 0.1010, Class 3: 0.4196, \n",
      "Class 4: 0.5060, Class 5: 0.4854, Class 6: 0.6542, \n",
      "Overall Mean Dice Score: 0.4519\n",
      "Overall Mean F-beta Score: 0.5309\n",
      "\n",
      "Training Loss: 0.5811, Validation Loss: 0.5703, Validation F-beta: 0.5309\n",
      "Epoch 223/4000\n",
      "Current lambda: 0.4300\n"
     ]
    },
    {
     "name": "stderr",
     "output_type": "stream",
     "text": [
      "Training: 100%|██████████| 24/24 [00:23<00:00,  1.04it/s, loss=0.6]  \n",
      "Validation: 100%|██████████| 4/4 [00:02<00:00,  1.74it/s, loss=0.598]\n"
     ]
    },
    {
     "name": "stdout",
     "output_type": "stream",
     "text": [
      "Validation Dice Score\n",
      "Class 0: 0.9852, Class 1: 0.5616, Class 2: 0.1691, Class 3: 0.5719, \n",
      "Class 4: 0.5457, Class 5: 0.4706, Class 6: 0.6436, \n",
      "Validation F-beta Score\n",
      "Class 0: 0.9841, Class 1: 0.6167, Class 2: 0.2819, Class 3: 0.5604, \n",
      "Class 4: 0.5657, Class 5: 0.4818, Class 6: 0.6106, \n",
      "Overall Mean Dice Score: 0.5587\n",
      "Overall Mean F-beta Score: 0.5670\n",
      "\n",
      "Training Loss: 0.5817, Validation Loss: 0.5375, Validation F-beta: 0.5670\n",
      "Epoch 224/4000\n",
      "Current lambda: 0.4300\n"
     ]
    },
    {
     "name": "stderr",
     "output_type": "stream",
     "text": [
      "Training: 100%|██████████| 24/24 [00:23<00:00,  1.04it/s, loss=0.577]\n",
      "Validation: 100%|██████████| 4/4 [00:02<00:00,  1.73it/s, loss=0.533]\n"
     ]
    },
    {
     "name": "stdout",
     "output_type": "stream",
     "text": [
      "Validation Dice Score\n",
      "Class 0: 0.9835, Class 1: 0.6500, Class 2: 0.1374, Class 3: 0.5589, \n",
      "Class 4: 0.5593, Class 5: 0.4120, Class 6: 0.7226, \n",
      "Validation F-beta Score\n",
      "Class 0: 0.9787, Class 1: 0.7162, Class 2: 0.3889, Class 3: 0.5699, \n",
      "Class 4: 0.6117, Class 5: 0.4924, Class 6: 0.8533, \n",
      "Overall Mean Dice Score: 0.5806\n",
      "Overall Mean F-beta Score: 0.6487\n",
      "\n",
      "Training Loss: 0.5781, Validation Loss: 0.5379, Validation F-beta: 0.6487\n",
      "Epoch 225/4000\n",
      "Current lambda: 0.4300\n"
     ]
    },
    {
     "name": "stderr",
     "output_type": "stream",
     "text": [
      "Training: 100%|██████████| 24/24 [00:23<00:00,  1.03it/s, loss=0.605]\n",
      "Validation: 100%|██████████| 4/4 [00:02<00:00,  1.73it/s, loss=0.568]\n"
     ]
    },
    {
     "name": "stdout",
     "output_type": "stream",
     "text": [
      "Validation Dice Score\n",
      "Class 0: 0.9844, Class 1: 0.6414, Class 2: 0.0558, Class 3: 0.4537, \n",
      "Class 4: 0.4406, Class 5: 0.3465, Class 6: 0.8406, \n",
      "Validation F-beta Score\n",
      "Class 0: 0.9755, Class 1: 0.6289, Class 2: 0.1227, Class 3: 0.4717, \n",
      "Class 4: 0.6659, Class 5: 0.5351, Class 6: 0.9113, \n",
      "Overall Mean Dice Score: 0.5445\n",
      "Overall Mean F-beta Score: 0.6426\n",
      "\n",
      "Training Loss: 0.5814, Validation Loss: 0.5534, Validation F-beta: 0.6426\n",
      "Epoch 226/4000\n",
      "Current lambda: 0.4300\n"
     ]
    },
    {
     "name": "stderr",
     "output_type": "stream",
     "text": [
      "Training: 100%|██████████| 24/24 [00:23<00:00,  1.04it/s, loss=0.539]\n",
      "Validation: 100%|██████████| 4/4 [00:02<00:00,  1.72it/s, loss=0.599]\n"
     ]
    },
    {
     "name": "stdout",
     "output_type": "stream",
     "text": [
      "Validation Dice Score\n",
      "Class 0: 0.9848, Class 1: 0.5558, Class 2: 0.0486, Class 3: 0.3454, \n",
      "Class 4: 0.6273, Class 5: 0.4943, Class 6: 0.7851, \n",
      "Validation F-beta Score\n",
      "Class 0: 0.9827, Class 1: 0.8377, Class 2: 0.0432, Class 3: 0.5154, \n",
      "Class 4: 0.6562, Class 5: 0.4849, Class 6: 0.9163, \n",
      "Overall Mean Dice Score: 0.5616\n",
      "Overall Mean F-beta Score: 0.6821\n",
      "\n",
      "Training Loss: 0.5710, Validation Loss: 0.5673, Validation F-beta: 0.6821\n",
      "Epoch 227/4000\n",
      "Current lambda: 0.4300\n"
     ]
    },
    {
     "name": "stderr",
     "output_type": "stream",
     "text": [
      "Training: 100%|██████████| 24/24 [00:23<00:00,  1.04it/s, loss=0.576]\n",
      "Validation: 100%|██████████| 4/4 [00:02<00:00,  1.73it/s, loss=0.546]\n"
     ]
    },
    {
     "name": "stdout",
     "output_type": "stream",
     "text": [
      "Validation Dice Score\n",
      "Class 0: 0.9794, Class 1: 0.5758, Class 2: 0.0584, Class 3: 0.3419, \n",
      "Class 4: 0.4020, Class 5: 0.3850, Class 6: 0.6340, \n",
      "Validation F-beta Score\n",
      "Class 0: 0.9738, Class 1: 0.7655, Class 2: 0.1467, Class 3: 0.3834, \n",
      "Class 4: 0.4171, Class 5: 0.4756, Class 6: 0.8309, \n",
      "Overall Mean Dice Score: 0.4677\n",
      "Overall Mean F-beta Score: 0.5745\n",
      "\n",
      "Training Loss: 0.5812, Validation Loss: 0.5794, Validation F-beta: 0.5745\n",
      "Epoch 228/4000\n",
      "Current lambda: 0.4300\n"
     ]
    },
    {
     "name": "stderr",
     "output_type": "stream",
     "text": [
      "Training: 100%|██████████| 24/24 [00:23<00:00,  1.04it/s, loss=0.564]\n",
      "Validation: 100%|██████████| 4/4 [00:02<00:00,  1.78it/s, loss=0.567]\n"
     ]
    },
    {
     "name": "stdout",
     "output_type": "stream",
     "text": [
      "Validation Dice Score\n",
      "Class 0: 0.9804, Class 1: 0.4592, Class 2: 0.0697, Class 3: 0.6583, \n",
      "Class 4: 0.5403, Class 5: 0.3028, Class 6: 0.8034, \n",
      "Validation F-beta Score\n",
      "Class 0: 0.9743, Class 1: 0.5743, Class 2: 0.1897, Class 3: 0.7336, \n",
      "Class 4: 0.6581, Class 5: 0.4403, Class 6: 0.8615, \n",
      "Overall Mean Dice Score: 0.5528\n",
      "Overall Mean F-beta Score: 0.6536\n",
      "\n",
      "Training Loss: 0.5705, Validation Loss: 0.5668, Validation F-beta: 0.6536\n",
      "Epoch 229/4000\n",
      "Current lambda: 0.4300\n"
     ]
    },
    {
     "name": "stderr",
     "output_type": "stream",
     "text": [
      "Training: 100%|██████████| 24/24 [00:23<00:00,  1.04it/s, loss=0.597]\n",
      "Validation: 100%|██████████| 4/4 [00:02<00:00,  1.75it/s, loss=0.604]\n"
     ]
    },
    {
     "name": "stdout",
     "output_type": "stream",
     "text": [
      "Validation Dice Score\n",
      "Class 0: 0.9835, Class 1: 0.5196, Class 2: 0.0306, Class 3: 0.4734, \n",
      "Class 4: 0.4427, Class 5: 0.4043, Class 6: 0.7019, \n",
      "Validation F-beta Score\n",
      "Class 0: 0.9794, Class 1: 0.8313, Class 2: 0.0613, Class 3: 0.4671, \n",
      "Class 4: 0.4309, Class 5: 0.5435, Class 6: 0.8128, \n",
      "Overall Mean Dice Score: 0.5084\n",
      "Overall Mean F-beta Score: 0.6171\n",
      "\n",
      "Training Loss: 0.5721, Validation Loss: 0.5784, Validation F-beta: 0.6171\n",
      "Validation loss did not improve. Reducing lambda to 0.4200\n",
      "Epoch 230/4000\n",
      "Current lambda: 0.4200\n"
     ]
    },
    {
     "name": "stderr",
     "output_type": "stream",
     "text": [
      "Training: 100%|██████████| 24/24 [00:23<00:00,  1.04it/s, loss=0.535]\n",
      "Validation: 100%|██████████| 4/4 [00:02<00:00,  1.76it/s, loss=0.582]\n"
     ]
    },
    {
     "name": "stdout",
     "output_type": "stream",
     "text": [
      "Validation Dice Score\n",
      "Class 0: 0.9796, Class 1: 0.3868, Class 2: 0.0273, Class 3: 0.3421, \n",
      "Class 4: 0.1401, Class 5: 0.3714, Class 6: 0.6068, \n",
      "Validation F-beta Score\n",
      "Class 0: 0.9721, Class 1: 0.5374, Class 2: 0.0776, Class 3: 0.3192, \n",
      "Class 4: 0.2569, Class 5: 0.4255, Class 6: 0.6668, \n",
      "Overall Mean Dice Score: 0.3694\n",
      "Overall Mean F-beta Score: 0.4412\n",
      "\n",
      "Training Loss: 0.5673, Validation Loss: 0.5932, Validation F-beta: 0.4412\n",
      "Epoch 231/4000\n",
      "Current lambda: 0.4200\n"
     ]
    },
    {
     "name": "stderr",
     "output_type": "stream",
     "text": [
      "Training: 100%|██████████| 24/24 [00:23<00:00,  1.03it/s, loss=0.562]\n",
      "Validation: 100%|██████████| 4/4 [00:02<00:00,  1.71it/s, loss=0.564]\n"
     ]
    },
    {
     "name": "stdout",
     "output_type": "stream",
     "text": [
      "Validation Dice Score\n",
      "Class 0: 0.9831, Class 1: 0.4385, Class 2: 0.1028, Class 3: 0.5588, \n",
      "Class 4: 0.4014, Class 5: 0.3627, Class 6: 0.6596, \n",
      "Validation F-beta Score\n",
      "Class 0: 0.9787, Class 1: 0.5412, Class 2: 0.1904, Class 3: 0.6091, \n",
      "Class 4: 0.3199, Class 5: 0.4710, Class 6: 0.7565, \n",
      "Overall Mean Dice Score: 0.4842\n",
      "Overall Mean F-beta Score: 0.5396\n",
      "\n",
      "Training Loss: 0.5828, Validation Loss: 0.5632, Validation F-beta: 0.5396\n",
      "Epoch 232/4000\n",
      "Current lambda: 0.4200\n"
     ]
    },
    {
     "name": "stderr",
     "output_type": "stream",
     "text": [
      "Training: 100%|██████████| 24/24 [00:23<00:00,  1.03it/s, loss=0.62] \n",
      "Validation: 100%|██████████| 4/4 [00:02<00:00,  1.75it/s, loss=0.562]\n"
     ]
    },
    {
     "name": "stdout",
     "output_type": "stream",
     "text": [
      "Validation Dice Score\n",
      "Class 0: 0.9816, Class 1: 0.6687, Class 2: 0.0685, Class 3: 0.4444, \n",
      "Class 4: 0.5617, Class 5: 0.3815, Class 6: 0.5146, \n",
      "Validation F-beta Score\n",
      "Class 0: 0.9749, Class 1: 0.7420, Class 2: 0.1254, Class 3: 0.5319, \n",
      "Class 4: 0.5764, Class 5: 0.5442, Class 6: 0.6301, \n",
      "Overall Mean Dice Score: 0.5142\n",
      "Overall Mean F-beta Score: 0.6049\n",
      "\n",
      "Training Loss: 0.5855, Validation Loss: 0.5571, Validation F-beta: 0.6049\n",
      "Epoch 233/4000\n",
      "Current lambda: 0.4200\n"
     ]
    },
    {
     "name": "stderr",
     "output_type": "stream",
     "text": [
      "Training: 100%|██████████| 24/24 [00:23<00:00,  1.03it/s, loss=0.559]\n",
      "Validation: 100%|██████████| 4/4 [00:02<00:00,  1.74it/s, loss=0.531]\n"
     ]
    },
    {
     "name": "stdout",
     "output_type": "stream",
     "text": [
      "Validation Dice Score\n",
      "Class 0: 0.9830, Class 1: 0.6531, Class 2: 0.0514, Class 3: 0.4067, \n",
      "Class 4: 0.5623, Class 5: 0.4111, Class 6: 0.6538, \n",
      "Validation F-beta Score\n",
      "Class 0: 0.9777, Class 1: 0.8350, Class 2: 0.1375, Class 3: 0.3937, \n",
      "Class 4: 0.6646, Class 5: 0.4967, Class 6: 0.7359, \n",
      "Overall Mean Dice Score: 0.5374\n",
      "Overall Mean F-beta Score: 0.6252\n",
      "\n",
      "Training Loss: 0.5772, Validation Loss: 0.5572, Validation F-beta: 0.6252\n",
      "Epoch 234/4000\n",
      "Current lambda: 0.4200\n"
     ]
    },
    {
     "name": "stderr",
     "output_type": "stream",
     "text": [
      "Training: 100%|██████████| 24/24 [00:23<00:00,  1.04it/s, loss=0.596]\n",
      "Validation: 100%|██████████| 4/4 [00:02<00:00,  1.76it/s, loss=0.575]\n"
     ]
    },
    {
     "name": "stdout",
     "output_type": "stream",
     "text": [
      "Validation Dice Score\n",
      "Class 0: 0.9832, Class 1: 0.1727, Class 2: 0.1554, Class 3: 0.4991, \n",
      "Class 4: 0.4513, Class 5: 0.4249, Class 6: 0.5018, \n",
      "Validation F-beta Score\n",
      "Class 0: 0.9794, Class 1: 0.2550, Class 2: 0.1954, Class 3: 0.5278, \n",
      "Class 4: 0.4539, Class 5: 0.5033, Class 6: 0.5455, \n",
      "Overall Mean Dice Score: 0.4100\n",
      "Overall Mean F-beta Score: 0.4571\n",
      "\n",
      "Training Loss: 0.5676, Validation Loss: 0.5890, Validation F-beta: 0.4571\n",
      "Epoch 235/4000\n",
      "Current lambda: 0.4200\n"
     ]
    },
    {
     "name": "stderr",
     "output_type": "stream",
     "text": [
      "Training: 100%|██████████| 24/24 [00:23<00:00,  1.03it/s, loss=0.584]\n",
      "Validation: 100%|██████████| 4/4 [00:02<00:00,  1.75it/s, loss=0.539]\n"
     ]
    },
    {
     "name": "stdout",
     "output_type": "stream",
     "text": [
      "Validation Dice Score\n",
      "Class 0: 0.9839, Class 1: 0.6156, Class 2: 0.0597, Class 3: 0.4095, \n",
      "Class 4: 0.5002, Class 5: 0.4092, Class 6: 0.7757, \n",
      "Validation F-beta Score\n",
      "Class 0: 0.9773, Class 1: 0.7161, Class 2: 0.1964, Class 3: 0.4364, \n",
      "Class 4: 0.6514, Class 5: 0.4991, Class 6: 0.8180, \n",
      "Overall Mean Dice Score: 0.5420\n",
      "Overall Mean F-beta Score: 0.6242\n",
      "\n",
      "Training Loss: 0.5731, Validation Loss: 0.5627, Validation F-beta: 0.6242\n",
      "Epoch 236/4000\n",
      "Current lambda: 0.4200\n"
     ]
    },
    {
     "name": "stderr",
     "output_type": "stream",
     "text": [
      "Training: 100%|██████████| 24/24 [00:23<00:00,  1.04it/s, loss=0.555]\n",
      "Validation: 100%|██████████| 4/4 [00:02<00:00,  1.75it/s, loss=0.609]\n"
     ]
    },
    {
     "name": "stdout",
     "output_type": "stream",
     "text": [
      "Validation Dice Score\n",
      "Class 0: 0.9820, Class 1: 0.6621, Class 2: 0.0421, Class 3: 0.3638, \n",
      "Class 4: 0.4736, Class 5: 0.4138, Class 6: 0.6662, \n",
      "Validation F-beta Score\n",
      "Class 0: 0.9759, Class 1: 0.8227, Class 2: 0.1033, Class 3: 0.3379, \n",
      "Class 4: 0.5280, Class 5: 0.5631, Class 6: 0.7434, \n",
      "Overall Mean Dice Score: 0.5159\n",
      "Overall Mean F-beta Score: 0.5990\n",
      "\n",
      "Training Loss: 0.5662, Validation Loss: 0.5636, Validation F-beta: 0.5990\n",
      "Epoch 237/4000\n",
      "Current lambda: 0.4200\n"
     ]
    },
    {
     "name": "stderr",
     "output_type": "stream",
     "text": [
      "Training: 100%|██████████| 24/24 [00:23<00:00,  1.04it/s, loss=0.581]\n",
      "Validation: 100%|██████████| 4/4 [00:02<00:00,  1.76it/s, loss=0.517]\n"
     ]
    },
    {
     "name": "stdout",
     "output_type": "stream",
     "text": [
      "Validation Dice Score\n",
      "Class 0: 0.9845, Class 1: 0.4834, Class 2: 0.0873, Class 3: 0.4519, \n",
      "Class 4: 0.4710, Class 5: 0.4725, Class 6: 0.7885, \n",
      "Validation F-beta Score\n",
      "Class 0: 0.9822, Class 1: 0.5513, Class 2: 0.1424, Class 3: 0.4873, \n",
      "Class 4: 0.4991, Class 5: 0.5387, Class 6: 0.8127, \n",
      "Overall Mean Dice Score: 0.5335\n",
      "Overall Mean F-beta Score: 0.5778\n",
      "\n",
      "Training Loss: 0.5692, Validation Loss: 0.5647, Validation F-beta: 0.5778\n",
      "Epoch 238/4000\n",
      "Current lambda: 0.4200\n"
     ]
    },
    {
     "name": "stderr",
     "output_type": "stream",
     "text": [
      "Training: 100%|██████████| 24/24 [00:23<00:00,  1.04it/s, loss=0.578]\n",
      "Validation: 100%|██████████| 4/4 [00:02<00:00,  1.74it/s, loss=0.54] \n"
     ]
    },
    {
     "name": "stdout",
     "output_type": "stream",
     "text": [
      "Validation Dice Score\n",
      "Class 0: 0.9838, Class 1: 0.3561, Class 2: 0.1366, Class 3: 0.4732, \n",
      "Class 4: 0.5351, Class 5: 0.4166, Class 6: 0.6637, \n",
      "Validation F-beta Score\n",
      "Class 0: 0.9837, Class 1: 0.3576, Class 2: 0.1606, Class 3: 0.4626, \n",
      "Class 4: 0.4984, Class 5: 0.5360, Class 6: 0.6679, \n",
      "Overall Mean Dice Score: 0.4889\n",
      "Overall Mean F-beta Score: 0.5045\n",
      "\n",
      "Training Loss: 0.5795, Validation Loss: 0.5672, Validation F-beta: 0.5045\n",
      "Epoch 239/4000\n",
      "Current lambda: 0.4200\n"
     ]
    },
    {
     "name": "stderr",
     "output_type": "stream",
     "text": [
      "Training: 100%|██████████| 24/24 [00:23<00:00,  1.04it/s, loss=0.582]\n",
      "Validation: 100%|██████████| 4/4 [00:02<00:00,  1.73it/s, loss=0.558]\n"
     ]
    },
    {
     "name": "stdout",
     "output_type": "stream",
     "text": [
      "Validation Dice Score\n",
      "Class 0: 0.9835, Class 1: 0.6047, Class 2: 0.1386, Class 3: 0.2886, \n",
      "Class 4: 0.5297, Class 5: 0.5387, Class 6: 0.6254, \n",
      "Validation F-beta Score\n",
      "Class 0: 0.9795, Class 1: 0.6530, Class 2: 0.1866, Class 3: 0.3533, \n",
      "Class 4: 0.5775, Class 5: 0.5690, Class 6: 0.8426, \n",
      "Overall Mean Dice Score: 0.5174\n",
      "Overall Mean F-beta Score: 0.5991\n",
      "\n",
      "Training Loss: 0.5766, Validation Loss: 0.5666, Validation F-beta: 0.5991\n",
      "Validation loss did not improve. Reducing lambda to 0.4100\n",
      "Epoch 240/4000\n",
      "Current lambda: 0.4100\n"
     ]
    },
    {
     "name": "stderr",
     "output_type": "stream",
     "text": [
      "Training: 100%|██████████| 24/24 [00:23<00:00,  1.04it/s, loss=0.536]\n",
      "Validation: 100%|██████████| 4/4 [00:02<00:00,  1.77it/s, loss=0.57] \n"
     ]
    },
    {
     "name": "stdout",
     "output_type": "stream",
     "text": [
      "Validation Dice Score\n",
      "Class 0: 0.9834, Class 1: 0.5361, Class 2: 0.1652, Class 3: 0.2338, \n",
      "Class 4: 0.6116, Class 5: 0.4496, Class 6: 0.7760, \n",
      "Validation F-beta Score\n",
      "Class 0: 0.9802, Class 1: 0.8201, Class 2: 0.2919, Class 3: 0.2458, \n",
      "Class 4: 0.7123, Class 5: 0.5406, Class 6: 0.7923, \n",
      "Overall Mean Dice Score: 0.5214\n",
      "Overall Mean F-beta Score: 0.6222\n",
      "\n",
      "Training Loss: 0.5732, Validation Loss: 0.5698, Validation F-beta: 0.6222\n",
      "Epoch 241/4000\n",
      "Current lambda: 0.4100\n"
     ]
    },
    {
     "name": "stderr",
     "output_type": "stream",
     "text": [
      "Training: 100%|██████████| 24/24 [00:23<00:00,  1.03it/s, loss=0.528]\n",
      "Validation: 100%|██████████| 4/4 [00:02<00:00,  1.74it/s, loss=0.591]\n"
     ]
    },
    {
     "name": "stdout",
     "output_type": "stream",
     "text": [
      "Validation Dice Score\n",
      "Class 0: 0.9849, Class 1: 0.6665, Class 2: 0.0976, Class 3: 0.4941, \n",
      "Class 4: 0.5544, Class 5: 0.1918, Class 6: 0.3190, \n",
      "Validation F-beta Score\n",
      "Class 0: 0.9782, Class 1: 0.7731, Class 2: 0.1287, Class 3: 0.5581, \n",
      "Class 4: 0.6182, Class 5: 0.2948, Class 6: 0.4387, \n",
      "Overall Mean Dice Score: 0.4452\n",
      "Overall Mean F-beta Score: 0.5366\n",
      "\n",
      "Training Loss: 0.5617, Validation Loss: 0.5903, Validation F-beta: 0.5366\n",
      "Epoch 242/4000\n",
      "Current lambda: 0.4100\n"
     ]
    },
    {
     "name": "stderr",
     "output_type": "stream",
     "text": [
      "Training: 100%|██████████| 24/24 [00:23<00:00,  1.04it/s, loss=0.612]\n",
      "Validation: 100%|██████████| 4/4 [00:02<00:00,  1.73it/s, loss=0.503]\n"
     ]
    },
    {
     "name": "stdout",
     "output_type": "stream",
     "text": [
      "Validation Dice Score\n",
      "Class 0: 0.9845, Class 1: 0.5693, Class 2: 0.0593, Class 3: 0.5761, \n",
      "Class 4: 0.3612, Class 5: 0.3881, Class 6: 0.7668, \n",
      "Validation F-beta Score\n",
      "Class 0: 0.9781, Class 1: 0.5844, Class 2: 0.1636, Class 3: 0.5746, \n",
      "Class 4: 0.4213, Class 5: 0.5344, Class 6: 0.8747, \n",
      "Overall Mean Dice Score: 0.5323\n",
      "Overall Mean F-beta Score: 0.5979\n",
      "\n",
      "Training Loss: 0.5660, Validation Loss: 0.5437, Validation F-beta: 0.5979\n",
      "Epoch 243/4000\n",
      "Current lambda: 0.4100\n"
     ]
    },
    {
     "name": "stderr",
     "output_type": "stream",
     "text": [
      "Training: 100%|██████████| 24/24 [00:23<00:00,  1.02it/s, loss=0.602]\n",
      "Validation: 100%|██████████| 4/4 [00:02<00:00,  1.75it/s, loss=0.532]\n"
     ]
    },
    {
     "name": "stdout",
     "output_type": "stream",
     "text": [
      "Validation Dice Score\n",
      "Class 0: 0.9823, Class 1: 0.5296, Class 2: 0.2374, Class 3: 0.4531, \n",
      "Class 4: 0.4891, Class 5: 0.4365, Class 6: 0.5829, \n",
      "Validation F-beta Score\n",
      "Class 0: 0.9771, Class 1: 0.6402, Class 2: 0.3592, Class 3: 0.5088, \n",
      "Class 4: 0.6610, Class 5: 0.4903, Class 6: 0.7499, \n",
      "Overall Mean Dice Score: 0.4982\n",
      "Overall Mean F-beta Score: 0.6100\n",
      "\n",
      "Training Loss: 0.5760, Validation Loss: 0.5605, Validation F-beta: 0.6100\n",
      "Epoch 244/4000\n",
      "Current lambda: 0.4100\n"
     ]
    },
    {
     "name": "stderr",
     "output_type": "stream",
     "text": [
      "Training: 100%|██████████| 24/24 [00:23<00:00,  1.02it/s, loss=0.6]  \n",
      "Validation: 100%|██████████| 4/4 [00:02<00:00,  1.75it/s, loss=0.523]\n"
     ]
    },
    {
     "name": "stdout",
     "output_type": "stream",
     "text": [
      "Validation Dice Score\n",
      "Class 0: 0.9822, Class 1: 0.5235, Class 2: 0.0924, Class 3: 0.4363, \n",
      "Class 4: 0.4641, Class 5: 0.4731, Class 6: 0.4035, \n",
      "Validation F-beta Score\n",
      "Class 0: 0.9757, Class 1: 0.6085, Class 2: 0.2790, Class 3: 0.4571, \n",
      "Class 4: 0.5527, Class 5: 0.5214, Class 6: 0.6618, \n",
      "Overall Mean Dice Score: 0.4601\n",
      "Overall Mean F-beta Score: 0.5603\n",
      "\n",
      "Training Loss: 0.5749, Validation Loss: 0.5421, Validation F-beta: 0.5603\n",
      "Epoch 245/4000\n",
      "Current lambda: 0.4100\n"
     ]
    },
    {
     "name": "stderr",
     "output_type": "stream",
     "text": [
      "Training: 100%|██████████| 24/24 [00:23<00:00,  1.03it/s, loss=0.596]\n",
      "Validation: 100%|██████████| 4/4 [00:02<00:00,  1.74it/s, loss=0.503]\n"
     ]
    },
    {
     "name": "stdout",
     "output_type": "stream",
     "text": [
      "Validation Dice Score\n",
      "Class 0: 0.9837, Class 1: 0.6335, Class 2: 0.1240, Class 3: 0.4368, \n",
      "Class 4: 0.5962, Class 5: 0.3153, Class 6: 0.7909, \n",
      "Validation F-beta Score\n",
      "Class 0: 0.9799, Class 1: 0.8543, Class 2: 0.3011, Class 3: 0.5337, \n",
      "Class 4: 0.5738, Class 5: 0.4269, Class 6: 0.8085, \n",
      "Overall Mean Dice Score: 0.5546\n",
      "Overall Mean F-beta Score: 0.6394\n",
      "\n",
      "Training Loss: 0.5754, Validation Loss: 0.5568, Validation F-beta: 0.6394\n",
      "Epoch 246/4000\n",
      "Current lambda: 0.4100\n"
     ]
    },
    {
     "name": "stderr",
     "output_type": "stream",
     "text": [
      "Training: 100%|██████████| 24/24 [00:23<00:00,  1.03it/s, loss=0.554]\n",
      "Validation: 100%|██████████| 4/4 [00:02<00:00,  1.74it/s, loss=0.601]\n"
     ]
    },
    {
     "name": "stdout",
     "output_type": "stream",
     "text": [
      "Validation Dice Score\n",
      "Class 0: 0.9859, Class 1: 0.6285, Class 2: 0.1072, Class 3: 0.3744, \n",
      "Class 4: 0.4163, Class 5: 0.4803, Class 6: 0.6409, \n",
      "Validation F-beta Score\n",
      "Class 0: 0.9829, Class 1: 0.7008, Class 2: 0.1960, Class 3: 0.5377, \n",
      "Class 4: 0.3857, Class 5: 0.5071, Class 6: 0.6719, \n",
      "Overall Mean Dice Score: 0.5081\n",
      "Overall Mean F-beta Score: 0.5606\n",
      "\n",
      "Training Loss: 0.5707, Validation Loss: 0.5559, Validation F-beta: 0.5606\n",
      "Epoch 247/4000\n",
      "Current lambda: 0.4100\n"
     ]
    },
    {
     "name": "stderr",
     "output_type": "stream",
     "text": [
      "Training: 100%|██████████| 24/24 [00:23<00:00,  1.04it/s, loss=0.61] \n",
      "Validation: 100%|██████████| 4/4 [00:02<00:00,  1.72it/s, loss=0.607]\n"
     ]
    },
    {
     "name": "stdout",
     "output_type": "stream",
     "text": [
      "Validation Dice Score\n",
      "Class 0: 0.9800, Class 1: 0.5387, Class 2: 0.0759, Class 3: 0.2510, \n",
      "Class 4: 0.5439, Class 5: 0.3937, Class 6: 0.8032, \n",
      "Validation F-beta Score\n",
      "Class 0: 0.9765, Class 1: 0.5106, Class 2: 0.2113, Class 3: 0.3413, \n",
      "Class 4: 0.5236, Class 5: 0.4235, Class 6: 0.8684, \n",
      "Overall Mean Dice Score: 0.5061\n",
      "Overall Mean F-beta Score: 0.5335\n",
      "\n",
      "Training Loss: 0.5892, Validation Loss: 0.5890, Validation F-beta: 0.5335\n",
      "Epoch 248/4000\n",
      "Current lambda: 0.4100\n"
     ]
    },
    {
     "name": "stderr",
     "output_type": "stream",
     "text": [
      "Training: 100%|██████████| 24/24 [00:23<00:00,  1.04it/s, loss=0.588]\n",
      "Validation: 100%|██████████| 4/4 [00:02<00:00,  1.75it/s, loss=0.574]\n"
     ]
    },
    {
     "name": "stdout",
     "output_type": "stream",
     "text": [
      "Validation Dice Score\n",
      "Class 0: 0.9847, Class 1: 0.3992, Class 2: 0.0678, Class 3: 0.2461, \n",
      "Class 4: 0.6259, Class 5: 0.3960, Class 6: 0.6535, \n",
      "Validation F-beta Score\n",
      "Class 0: 0.9811, Class 1: 0.5361, Class 2: 0.1053, Class 3: 0.4384, \n",
      "Class 4: 0.6365, Class 5: 0.4337, Class 6: 0.6166, \n",
      "Overall Mean Dice Score: 0.4641\n",
      "Overall Mean F-beta Score: 0.5322\n",
      "\n",
      "Training Loss: 0.5822, Validation Loss: 0.5895, Validation F-beta: 0.5322\n",
      "Epoch 249/4000\n",
      "Current lambda: 0.4100\n"
     ]
    },
    {
     "name": "stderr",
     "output_type": "stream",
     "text": [
      "Training: 100%|██████████| 24/24 [00:23<00:00,  1.03it/s, loss=0.567]\n",
      "Validation: 100%|██████████| 4/4 [00:02<00:00,  1.75it/s, loss=0.554]\n"
     ]
    },
    {
     "name": "stdout",
     "output_type": "stream",
     "text": [
      "Validation Dice Score\n",
      "Class 0: 0.9819, Class 1: 0.7052, Class 2: 0.0238, Class 3: 0.3782, \n",
      "Class 4: 0.4776, Class 5: 0.2953, Class 6: 0.8425, \n",
      "Validation F-beta Score\n",
      "Class 0: 0.9767, Class 1: 0.7348, Class 2: 0.0498, Class 3: 0.4764, \n",
      "Class 4: 0.4936, Class 5: 0.3769, Class 6: 0.8957, \n",
      "Overall Mean Dice Score: 0.5397\n",
      "Overall Mean F-beta Score: 0.5955\n",
      "\n",
      "Training Loss: 0.5726, Validation Loss: 0.5574, Validation F-beta: 0.5955\n",
      "Validation loss did not improve. Reducing lambda to 0.4000\n",
      "Epoch 250/4000\n",
      "Current lambda: 0.4000\n"
     ]
    },
    {
     "name": "stderr",
     "output_type": "stream",
     "text": [
      "Training: 100%|██████████| 24/24 [00:23<00:00,  1.03it/s, loss=0.561]\n",
      "Validation: 100%|██████████| 4/4 [00:02<00:00,  1.57it/s, loss=0.585]\n"
     ]
    },
    {
     "name": "stdout",
     "output_type": "stream",
     "text": [
      "Validation Dice Score\n",
      "Class 0: 0.9820, Class 1: 0.5015, Class 2: 0.0630, Class 3: 0.5273, \n",
      "Class 4: 0.6147, Class 5: 0.3657, Class 6: 0.6127, \n",
      "Validation F-beta Score\n",
      "Class 0: 0.9818, Class 1: 0.6089, Class 2: 0.1033, Class 3: 0.5502, \n",
      "Class 4: 0.5616, Class 5: 0.3965, Class 6: 0.6463, \n",
      "Overall Mean Dice Score: 0.5243\n",
      "Overall Mean F-beta Score: 0.5527\n",
      "\n",
      "Training Loss: 0.5718, Validation Loss: 0.5496, Validation F-beta: 0.5527\n",
      "Epoch 251/4000\n",
      "Current lambda: 0.4000\n"
     ]
    },
    {
     "name": "stderr",
     "output_type": "stream",
     "text": [
      "Training: 100%|██████████| 24/24 [00:23<00:00,  1.04it/s, loss=0.595]\n",
      "Validation: 100%|██████████| 4/4 [00:02<00:00,  1.69it/s, loss=0.57] \n"
     ]
    },
    {
     "name": "stdout",
     "output_type": "stream",
     "text": [
      "Validation Dice Score\n",
      "Class 0: 0.9817, Class 1: 0.6923, Class 2: 0.1314, Class 3: 0.3994, \n",
      "Class 4: 0.4572, Class 5: 0.3914, Class 6: 0.6785, \n",
      "Validation F-beta Score\n",
      "Class 0: 0.9765, Class 1: 0.7918, Class 2: 0.1617, Class 3: 0.3936, \n",
      "Class 4: 0.4838, Class 5: 0.4489, Class 6: 0.8952, \n",
      "Overall Mean Dice Score: 0.5238\n",
      "Overall Mean F-beta Score: 0.6026\n",
      "\n",
      "Training Loss: 0.5802, Validation Loss: 0.5398, Validation F-beta: 0.6026\n",
      "Epoch 252/4000\n",
      "Current lambda: 0.4000\n"
     ]
    },
    {
     "name": "stderr",
     "output_type": "stream",
     "text": [
      "Training: 100%|██████████| 24/24 [00:22<00:00,  1.05it/s, loss=0.486]\n",
      "Validation: 100%|██████████| 4/4 [00:02<00:00,  1.74it/s, loss=0.57] \n"
     ]
    },
    {
     "name": "stdout",
     "output_type": "stream",
     "text": [
      "Validation Dice Score\n",
      "Class 0: 0.9844, Class 1: 0.6503, Class 2: 0.0000, Class 3: 0.4450, \n",
      "Class 4: 0.5440, Class 5: 0.4051, Class 6: 0.6133, \n",
      "Validation F-beta Score\n",
      "Class 0: 0.9835, Class 1: 0.7838, Class 2: 0.0000, Class 3: 0.5708, \n",
      "Class 4: 0.4401, Class 5: 0.4722, Class 6: 0.6495, \n",
      "Overall Mean Dice Score: 0.5316\n",
      "Overall Mean F-beta Score: 0.5833\n",
      "\n",
      "Training Loss: 0.5648, Validation Loss: 0.5605, Validation F-beta: 0.5833\n",
      "Epoch 253/4000\n",
      "Current lambda: 0.4000\n"
     ]
    },
    {
     "name": "stderr",
     "output_type": "stream",
     "text": [
      "Training: 100%|██████████| 24/24 [00:23<00:00,  1.04it/s, loss=0.6]  \n",
      "Validation: 100%|██████████| 4/4 [00:02<00:00,  1.71it/s, loss=0.604]\n"
     ]
    },
    {
     "name": "stdout",
     "output_type": "stream",
     "text": [
      "Validation Dice Score\n",
      "Class 0: 0.9845, Class 1: 0.6235, Class 2: 0.0000, Class 3: 0.4356, \n",
      "Class 4: 0.6350, Class 5: 0.4517, Class 6: 0.6234, \n",
      "Validation F-beta Score\n",
      "Class 0: 0.9830, Class 1: 0.7732, Class 2: 0.0000, Class 3: 0.4831, \n",
      "Class 4: 0.6228, Class 5: 0.5312, Class 6: 0.6514, \n",
      "Overall Mean Dice Score: 0.5538\n",
      "Overall Mean F-beta Score: 0.6123\n",
      "\n",
      "Training Loss: 0.5802, Validation Loss: 0.5529, Validation F-beta: 0.6123\n",
      "Epoch 254/4000\n",
      "Current lambda: 0.4000\n"
     ]
    },
    {
     "name": "stderr",
     "output_type": "stream",
     "text": [
      "Training: 100%|██████████| 24/24 [00:23<00:00,  1.04it/s, loss=0.559]\n",
      "Validation: 100%|██████████| 4/4 [00:02<00:00,  1.75it/s, loss=0.512]\n"
     ]
    },
    {
     "name": "stdout",
     "output_type": "stream",
     "text": [
      "Validation Dice Score\n",
      "Class 0: 0.9855, Class 1: 0.6630, Class 2: 0.1170, Class 3: 0.5897, \n",
      "Class 4: 0.4058, Class 5: 0.3376, Class 6: 0.6805, \n",
      "Validation F-beta Score\n",
      "Class 0: 0.9815, Class 1: 0.8537, Class 2: 0.1715, Class 3: 0.6724, \n",
      "Class 4: 0.4774, Class 5: 0.4120, Class 6: 0.7401, \n",
      "Overall Mean Dice Score: 0.5353\n",
      "Overall Mean F-beta Score: 0.6311\n",
      "\n",
      "Training Loss: 0.5798, Validation Loss: 0.5496, Validation F-beta: 0.6311\n",
      "Epoch 255/4000\n",
      "Current lambda: 0.4000\n"
     ]
    },
    {
     "name": "stderr",
     "output_type": "stream",
     "text": [
      "Training: 100%|██████████| 24/24 [00:23<00:00,  1.04it/s, loss=0.555]\n",
      "Validation: 100%|██████████| 4/4 [00:02<00:00,  1.78it/s, loss=0.531]\n"
     ]
    },
    {
     "name": "stdout",
     "output_type": "stream",
     "text": [
      "Validation Dice Score\n",
      "Class 0: 0.9831, Class 1: 0.6047, Class 2: 0.1238, Class 3: 0.4264, \n",
      "Class 4: 0.4062, Class 5: 0.2936, Class 6: 0.6385, \n",
      "Validation F-beta Score\n",
      "Class 0: 0.9781, Class 1: 0.6469, Class 2: 0.2605, Class 3: 0.5650, \n",
      "Class 4: 0.4892, Class 5: 0.3082, Class 6: 0.6151, \n",
      "Overall Mean Dice Score: 0.4739\n",
      "Overall Mean F-beta Score: 0.5249\n",
      "\n",
      "Training Loss: 0.5805, Validation Loss: 0.5713, Validation F-beta: 0.5249\n",
      "Epoch 256/4000\n",
      "Current lambda: 0.4000\n"
     ]
    },
    {
     "name": "stderr",
     "output_type": "stream",
     "text": [
      "Training: 100%|██████████| 24/24 [00:22<00:00,  1.05it/s, loss=0.59] \n",
      "Validation: 100%|██████████| 4/4 [00:02<00:00,  1.71it/s, loss=0.533]\n"
     ]
    },
    {
     "name": "stdout",
     "output_type": "stream",
     "text": [
      "Validation Dice Score\n",
      "Class 0: 0.9848, Class 1: 0.6647, Class 2: 0.2197, Class 3: 0.4352, \n",
      "Class 4: 0.4047, Class 5: 0.3969, Class 6: 0.7114, \n",
      "Validation F-beta Score\n",
      "Class 0: 0.9798, Class 1: 0.7964, Class 2: 0.2592, Class 3: 0.4645, \n",
      "Class 4: 0.4477, Class 5: 0.4999, Class 6: 0.8740, \n",
      "Overall Mean Dice Score: 0.5226\n",
      "Overall Mean F-beta Score: 0.6165\n",
      "\n",
      "Training Loss: 0.5825, Validation Loss: 0.5503, Validation F-beta: 0.6165\n",
      "Epoch 257/4000\n",
      "Current lambda: 0.4000\n"
     ]
    },
    {
     "name": "stderr",
     "output_type": "stream",
     "text": [
      "Training: 100%|██████████| 24/24 [00:22<00:00,  1.05it/s, loss=0.588]\n",
      "Validation: 100%|██████████| 4/4 [00:02<00:00,  1.80it/s, loss=0.569]\n"
     ]
    },
    {
     "name": "stdout",
     "output_type": "stream",
     "text": [
      "Validation Dice Score\n",
      "Class 0: 0.9850, Class 1: 0.4444, Class 2: 0.0714, Class 3: 0.5301, \n",
      "Class 4: 0.5115, Class 5: 0.3513, Class 6: 0.8077, \n",
      "Validation F-beta Score\n",
      "Class 0: 0.9804, Class 1: 0.6624, Class 2: 0.1430, Class 3: 0.5751, \n",
      "Class 4: 0.5168, Class 5: 0.4330, Class 6: 0.8678, \n",
      "Overall Mean Dice Score: 0.5290\n",
      "Overall Mean F-beta Score: 0.6110\n",
      "\n",
      "Training Loss: 0.5727, Validation Loss: 0.5537, Validation F-beta: 0.6110\n",
      "Epoch 258/4000\n",
      "Current lambda: 0.4000\n"
     ]
    },
    {
     "name": "stderr",
     "output_type": "stream",
     "text": [
      "Training: 100%|██████████| 24/24 [00:23<00:00,  1.04it/s, loss=0.568]\n",
      "Validation: 100%|██████████| 4/4 [00:02<00:00,  1.73it/s, loss=0.557]\n"
     ]
    },
    {
     "name": "stdout",
     "output_type": "stream",
     "text": [
      "Validation Dice Score\n",
      "Class 0: 0.9853, Class 1: 0.4393, Class 2: 0.1675, Class 3: 0.4273, \n",
      "Class 4: 0.6351, Class 5: 0.3714, Class 6: 0.8641, \n",
      "Validation F-beta Score\n",
      "Class 0: 0.9818, Class 1: 0.6195, Class 2: 0.3154, Class 3: 0.6563, \n",
      "Class 4: 0.6779, Class 5: 0.3893, Class 6: 0.8983, \n",
      "Overall Mean Dice Score: 0.5474\n",
      "Overall Mean F-beta Score: 0.6482\n",
      "\n",
      "Training Loss: 0.5771, Validation Loss: 0.5665, Validation F-beta: 0.6482\n",
      "Epoch 259/4000\n",
      "Current lambda: 0.4000\n"
     ]
    },
    {
     "name": "stderr",
     "output_type": "stream",
     "text": [
      "Training: 100%|██████████| 24/24 [00:23<00:00,  1.03it/s, loss=0.597]\n",
      "Validation: 100%|██████████| 4/4 [00:02<00:00,  1.70it/s, loss=0.552]\n"
     ]
    },
    {
     "name": "stdout",
     "output_type": "stream",
     "text": [
      "Validation Dice Score\n",
      "Class 0: 0.9862, Class 1: 0.6851, Class 2: 0.0972, Class 3: 0.5685, \n",
      "Class 4: 0.5988, Class 5: 0.3078, Class 6: 0.7887, \n",
      "Validation F-beta Score\n",
      "Class 0: 0.9824, Class 1: 0.6571, Class 2: 0.1219, Class 3: 0.5478, \n",
      "Class 4: 0.5911, Class 5: 0.3796, Class 6: 0.8546, \n",
      "Overall Mean Dice Score: 0.5898\n",
      "Overall Mean F-beta Score: 0.6060\n",
      "\n",
      "Training Loss: 0.5733, Validation Loss: 0.5766, Validation F-beta: 0.6060\n",
      "Validation loss did not improve. Reducing lambda to 0.3900\n",
      "Epoch 260/4000\n",
      "Current lambda: 0.3900\n"
     ]
    },
    {
     "name": "stderr",
     "output_type": "stream",
     "text": [
      "Training: 100%|██████████| 24/24 [00:23<00:00,  1.04it/s, loss=0.568]\n",
      "Validation: 100%|██████████| 4/4 [00:02<00:00,  1.68it/s, loss=0.512]\n"
     ]
    },
    {
     "name": "stdout",
     "output_type": "stream",
     "text": [
      "Validation Dice Score\n",
      "Class 0: 0.9858, Class 1: 0.4943, Class 2: 0.1216, Class 3: 0.6143, \n",
      "Class 4: 0.4807, Class 5: 0.3480, Class 6: 0.7772, \n",
      "Validation F-beta Score\n",
      "Class 0: 0.9802, Class 1: 0.5798, Class 2: 0.2489, Class 3: 0.6066, \n",
      "Class 4: 0.5137, Class 5: 0.4829, Class 6: 0.7858, \n",
      "Overall Mean Dice Score: 0.5429\n",
      "Overall Mean F-beta Score: 0.5938\n",
      "\n",
      "Training Loss: 0.5642, Validation Loss: 0.5619, Validation F-beta: 0.5938\n",
      "Epoch 261/4000\n",
      "Current lambda: 0.3900\n"
     ]
    },
    {
     "name": "stderr",
     "output_type": "stream",
     "text": [
      "Training: 100%|██████████| 24/24 [00:23<00:00,  1.03it/s, loss=0.581]\n",
      "Validation: 100%|██████████| 4/4 [00:02<00:00,  1.73it/s, loss=0.599]\n"
     ]
    },
    {
     "name": "stdout",
     "output_type": "stream",
     "text": [
      "Validation Dice Score\n",
      "Class 0: 0.9828, Class 1: 0.5622, Class 2: 0.0735, Class 3: 0.2467, \n",
      "Class 4: 0.5351, Class 5: 0.4324, Class 6: 0.6191, \n",
      "Validation F-beta Score\n",
      "Class 0: 0.9824, Class 1: 0.6333, Class 2: 0.1657, Class 3: 0.4407, \n",
      "Class 4: 0.4568, Class 5: 0.4637, Class 6: 0.6169, \n",
      "Overall Mean Dice Score: 0.4791\n",
      "Overall Mean F-beta Score: 0.5223\n",
      "\n",
      "Training Loss: 0.5688, Validation Loss: 0.5705, Validation F-beta: 0.5223\n",
      "Epoch 262/4000\n",
      "Current lambda: 0.3900\n"
     ]
    },
    {
     "name": "stderr",
     "output_type": "stream",
     "text": [
      "Training: 100%|██████████| 24/24 [00:23<00:00,  1.04it/s, loss=0.57] \n",
      "Validation: 100%|██████████| 4/4 [00:02<00:00,  1.75it/s, loss=0.527]\n"
     ]
    },
    {
     "name": "stdout",
     "output_type": "stream",
     "text": [
      "Validation Dice Score\n",
      "Class 0: 0.9850, Class 1: 0.5594, Class 2: 0.1434, Class 3: 0.5013, \n",
      "Class 4: 0.5005, Class 5: 0.3012, Class 6: 0.8466, \n",
      "Validation F-beta Score\n",
      "Class 0: 0.9825, Class 1: 0.6210, Class 2: 0.1929, Class 3: 0.4775, \n",
      "Class 4: 0.6138, Class 5: 0.3457, Class 6: 0.8513, \n",
      "Overall Mean Dice Score: 0.5418\n",
      "Overall Mean F-beta Score: 0.5819\n",
      "\n",
      "Training Loss: 0.5769, Validation Loss: 0.5598, Validation F-beta: 0.5819\n",
      "Epoch 263/4000\n",
      "Current lambda: 0.3900\n"
     ]
    },
    {
     "name": "stderr",
     "output_type": "stream",
     "text": [
      "Training: 100%|██████████| 24/24 [00:22<00:00,  1.04it/s, loss=0.627]\n",
      "Validation: 100%|██████████| 4/4 [00:02<00:00,  1.83it/s, loss=0.606]\n"
     ]
    },
    {
     "name": "stdout",
     "output_type": "stream",
     "text": [
      "Validation Dice Score\n",
      "Class 0: 0.9828, Class 1: 0.7653, Class 2: 0.0293, Class 3: 0.3141, \n",
      "Class 4: 0.5520, Class 5: 0.4601, Class 6: 0.7889, \n",
      "Validation F-beta Score\n",
      "Class 0: 0.9782, Class 1: 0.7715, Class 2: 0.0516, Class 3: 0.3490, \n",
      "Class 4: 0.5623, Class 5: 0.5081, Class 6: 0.8821, \n",
      "Overall Mean Dice Score: 0.5761\n",
      "Overall Mean F-beta Score: 0.6146\n",
      "\n",
      "Training Loss: 0.5723, Validation Loss: 0.5667, Validation F-beta: 0.6146\n",
      "Epoch 264/4000\n",
      "Current lambda: 0.3900\n"
     ]
    },
    {
     "name": "stderr",
     "output_type": "stream",
     "text": [
      "Training: 100%|██████████| 24/24 [00:23<00:00,  1.04it/s, loss=0.544]\n",
      "Validation: 100%|██████████| 4/4 [00:02<00:00,  1.74it/s, loss=0.589]\n"
     ]
    },
    {
     "name": "stdout",
     "output_type": "stream",
     "text": [
      "Validation Dice Score\n",
      "Class 0: 0.9842, Class 1: 0.6273, Class 2: 0.1809, Class 3: 0.4427, \n",
      "Class 4: 0.5441, Class 5: 0.4035, Class 6: 0.6410, \n",
      "Validation F-beta Score\n",
      "Class 0: 0.9803, Class 1: 0.8085, Class 2: 0.2964, Class 3: 0.4597, \n",
      "Class 4: 0.5497, Class 5: 0.5399, Class 6: 0.7538, \n",
      "Overall Mean Dice Score: 0.5317\n",
      "Overall Mean F-beta Score: 0.6223\n",
      "\n",
      "Training Loss: 0.5800, Validation Loss: 0.5671, Validation F-beta: 0.6223\n",
      "Epoch 265/4000\n",
      "Current lambda: 0.3900\n"
     ]
    },
    {
     "name": "stderr",
     "output_type": "stream",
     "text": [
      "Training: 100%|██████████| 24/24 [00:22<00:00,  1.05it/s, loss=0.579]\n",
      "Validation: 100%|██████████| 4/4 [00:02<00:00,  1.78it/s, loss=0.587]\n"
     ]
    },
    {
     "name": "stdout",
     "output_type": "stream",
     "text": [
      "Validation Dice Score\n",
      "Class 0: 0.9845, Class 1: 0.3668, Class 2: 0.0137, Class 3: 0.4323, \n",
      "Class 4: 0.5303, Class 5: 0.3999, Class 6: 0.6658, \n",
      "Validation F-beta Score\n",
      "Class 0: 0.9796, Class 1: 0.3278, Class 2: 0.0377, Class 3: 0.4697, \n",
      "Class 4: 0.5933, Class 5: 0.4985, Class 6: 0.6800, \n",
      "Overall Mean Dice Score: 0.4790\n",
      "Overall Mean F-beta Score: 0.5139\n",
      "\n",
      "Training Loss: 0.5632, Validation Loss: 0.5872, Validation F-beta: 0.5139\n",
      "Epoch 266/4000\n",
      "Current lambda: 0.3900\n"
     ]
    },
    {
     "name": "stderr",
     "output_type": "stream",
     "text": [
      "Training: 100%|██████████| 24/24 [00:23<00:00,  1.04it/s, loss=0.573]\n",
      "Validation: 100%|██████████| 4/4 [00:02<00:00,  1.77it/s, loss=0.549]\n"
     ]
    },
    {
     "name": "stdout",
     "output_type": "stream",
     "text": [
      "Validation Dice Score\n",
      "Class 0: 0.9853, Class 1: 0.5802, Class 2: 0.0580, Class 3: 0.4861, \n",
      "Class 4: 0.6342, Class 5: 0.3612, Class 6: 0.6005, \n",
      "Validation F-beta Score\n",
      "Class 0: 0.9800, Class 1: 0.6187, Class 2: 0.0853, Class 3: 0.4896, \n",
      "Class 4: 0.6422, Class 5: 0.5278, Class 6: 0.6446, \n",
      "Overall Mean Dice Score: 0.5324\n",
      "Overall Mean F-beta Score: 0.5845\n",
      "\n",
      "Training Loss: 0.5752, Validation Loss: 0.5648, Validation F-beta: 0.5845\n",
      "Epoch 267/4000\n",
      "Current lambda: 0.3900\n"
     ]
    },
    {
     "name": "stderr",
     "output_type": "stream",
     "text": [
      "Training: 100%|██████████| 24/24 [00:23<00:00,  1.04it/s, loss=0.589]\n",
      "Validation: 100%|██████████| 4/4 [00:02<00:00,  1.76it/s, loss=0.56] \n"
     ]
    },
    {
     "name": "stdout",
     "output_type": "stream",
     "text": [
      "Validation Dice Score\n",
      "Class 0: 0.9824, Class 1: 0.6072, Class 2: 0.1007, Class 3: 0.4149, \n",
      "Class 4: 0.6116, Class 5: 0.3118, Class 6: 0.5799, \n",
      "Validation F-beta Score\n",
      "Class 0: 0.9775, Class 1: 0.7043, Class 2: 0.1775, Class 3: 0.4729, \n",
      "Class 4: 0.5670, Class 5: 0.4249, Class 6: 0.6577, \n",
      "Overall Mean Dice Score: 0.5051\n",
      "Overall Mean F-beta Score: 0.5654\n",
      "\n",
      "Training Loss: 0.5743, Validation Loss: 0.5645, Validation F-beta: 0.5654\n",
      "Epoch 268/4000\n",
      "Current lambda: 0.3900\n"
     ]
    },
    {
     "name": "stderr",
     "output_type": "stream",
     "text": [
      "Training: 100%|██████████| 24/24 [00:22<00:00,  1.04it/s, loss=0.524]\n",
      "Validation: 100%|██████████| 4/4 [00:02<00:00,  1.75it/s, loss=0.605]\n"
     ]
    },
    {
     "name": "stdout",
     "output_type": "stream",
     "text": [
      "Validation Dice Score\n",
      "Class 0: 0.9834, Class 1: 0.2757, Class 2: 0.0857, Class 3: 0.3872, \n",
      "Class 4: 0.4935, Class 5: 0.4055, Class 6: 0.4233, \n",
      "Validation F-beta Score\n",
      "Class 0: 0.9770, Class 1: 0.5089, Class 2: 0.1500, Class 3: 0.6090, \n",
      "Class 4: 0.5628, Class 5: 0.4301, Class 6: 0.5858, \n",
      "Overall Mean Dice Score: 0.3970\n",
      "Overall Mean F-beta Score: 0.5393\n",
      "\n",
      "Training Loss: 0.5729, Validation Loss: 0.6025, Validation F-beta: 0.5393\n",
      "Epoch 269/4000\n",
      "Current lambda: 0.3900\n"
     ]
    },
    {
     "name": "stderr",
     "output_type": "stream",
     "text": [
      "Training: 100%|██████████| 24/24 [00:22<00:00,  1.04it/s, loss=0.516]\n",
      "Validation: 100%|██████████| 4/4 [00:02<00:00,  1.70it/s, loss=0.539]\n"
     ]
    },
    {
     "name": "stdout",
     "output_type": "stream",
     "text": [
      "Validation Dice Score\n",
      "Class 0: 0.9857, Class 1: 0.6111, Class 2: 0.1519, Class 3: 0.4463, \n",
      "Class 4: 0.3060, Class 5: 0.4284, Class 6: 0.8696, \n",
      "Validation F-beta Score\n",
      "Class 0: 0.9797, Class 1: 0.7746, Class 2: 0.3316, Class 3: 0.6203, \n",
      "Class 4: 0.4576, Class 5: 0.5141, Class 6: 0.9183, \n",
      "Overall Mean Dice Score: 0.5323\n",
      "Overall Mean F-beta Score: 0.6570\n",
      "\n",
      "Training Loss: 0.5801, Validation Loss: 0.5467, Validation F-beta: 0.6570\n",
      "Validation loss did not improve. Reducing lambda to 0.3800\n",
      "Epoch 270/4000\n",
      "Current lambda: 0.3800\n"
     ]
    },
    {
     "name": "stderr",
     "output_type": "stream",
     "text": [
      "Training: 100%|██████████| 24/24 [00:23<00:00,  1.04it/s, loss=0.608]\n",
      "Validation: 100%|██████████| 4/4 [00:02<00:00,  1.79it/s, loss=0.583]\n"
     ]
    },
    {
     "name": "stdout",
     "output_type": "stream",
     "text": [
      "Validation Dice Score\n",
      "Class 0: 0.9854, Class 1: 0.6840, Class 2: 0.0529, Class 3: 0.5245, \n",
      "Class 4: 0.5680, Class 5: 0.4338, Class 6: 0.4432, \n",
      "Validation F-beta Score\n",
      "Class 0: 0.9829, Class 1: 0.6487, Class 2: 0.1173, Class 3: 0.5149, \n",
      "Class 4: 0.6094, Class 5: 0.4612, Class 6: 0.4816, \n",
      "Overall Mean Dice Score: 0.5307\n",
      "Overall Mean F-beta Score: 0.5432\n",
      "\n",
      "Training Loss: 0.5831, Validation Loss: 0.5481, Validation F-beta: 0.5432\n",
      "Epoch 271/4000\n",
      "Current lambda: 0.3800\n"
     ]
    },
    {
     "name": "stderr",
     "output_type": "stream",
     "text": [
      "Training: 100%|██████████| 24/24 [00:23<00:00,  1.04it/s, loss=0.567]\n",
      "Validation: 100%|██████████| 4/4 [00:02<00:00,  1.77it/s, loss=0.607]\n"
     ]
    },
    {
     "name": "stdout",
     "output_type": "stream",
     "text": [
      "Validation Dice Score\n",
      "Class 0: 0.9861, Class 1: 0.5040, Class 2: 0.1595, Class 3: 0.4512, \n",
      "Class 4: 0.4242, Class 5: 0.4014, Class 6: 0.5877, \n",
      "Validation F-beta Score\n",
      "Class 0: 0.9832, Class 1: 0.5598, Class 2: 0.2247, Class 3: 0.5588, \n",
      "Class 4: 0.5581, Class 5: 0.4165, Class 6: 0.6428, \n",
      "Overall Mean Dice Score: 0.4737\n",
      "Overall Mean F-beta Score: 0.5472\n",
      "\n",
      "Training Loss: 0.5751, Validation Loss: 0.5731, Validation F-beta: 0.5472\n",
      "Epoch 272/4000\n",
      "Current lambda: 0.3800\n"
     ]
    },
    {
     "name": "stderr",
     "output_type": "stream",
     "text": [
      "Training: 100%|██████████| 24/24 [00:23<00:00,  1.04it/s, loss=0.608]\n",
      "Validation: 100%|██████████| 4/4 [00:02<00:00,  1.73it/s, loss=0.59] \n"
     ]
    },
    {
     "name": "stdout",
     "output_type": "stream",
     "text": [
      "Validation Dice Score\n",
      "Class 0: 0.9830, Class 1: 0.1131, Class 2: 0.1164, Class 3: 0.4027, \n",
      "Class 4: 0.4812, Class 5: 0.4836, Class 6: 0.3668, \n",
      "Validation F-beta Score\n",
      "Class 0: 0.9781, Class 1: 0.1817, Class 2: 0.2217, Class 3: 0.4688, \n",
      "Class 4: 0.4883, Class 5: 0.5761, Class 6: 0.4583, \n",
      "Overall Mean Dice Score: 0.3695\n",
      "Overall Mean F-beta Score: 0.4346\n",
      "\n",
      "Training Loss: 0.5791, Validation Loss: 0.6101, Validation F-beta: 0.4346\n",
      "Epoch 273/4000\n",
      "Current lambda: 0.3800\n"
     ]
    },
    {
     "name": "stderr",
     "output_type": "stream",
     "text": [
      "Training: 100%|██████████| 24/24 [00:23<00:00,  1.04it/s, loss=0.574]\n",
      "Validation: 100%|██████████| 4/4 [00:02<00:00,  1.76it/s, loss=0.605]\n"
     ]
    },
    {
     "name": "stdout",
     "output_type": "stream",
     "text": [
      "Validation Dice Score\n",
      "Class 0: 0.9858, Class 1: 0.4619, Class 2: 0.0135, Class 3: 0.4933, \n",
      "Class 4: 0.4469, Class 5: 0.4782, Class 6: 0.5924, \n",
      "Validation F-beta Score\n",
      "Class 0: 0.9810, Class 1: 0.3773, Class 2: 0.0323, Class 3: 0.5517, \n",
      "Class 4: 0.5658, Class 5: 0.5879, Class 6: 0.7434, \n",
      "Overall Mean Dice Score: 0.4946\n",
      "Overall Mean F-beta Score: 0.5652\n",
      "\n",
      "Training Loss: 0.5706, Validation Loss: 0.5871, Validation F-beta: 0.5652\n",
      "Epoch 274/4000\n",
      "Current lambda: 0.3800\n"
     ]
    },
    {
     "name": "stderr",
     "output_type": "stream",
     "text": [
      "Training: 100%|██████████| 24/24 [00:23<00:00,  1.04it/s, loss=0.552]\n",
      "Validation: 100%|██████████| 4/4 [00:02<00:00,  1.74it/s, loss=0.556]\n"
     ]
    },
    {
     "name": "stdout",
     "output_type": "stream",
     "text": [
      "Validation Dice Score\n",
      "Class 0: 0.9845, Class 1: 0.5290, Class 2: 0.1940, Class 3: 0.2933, \n",
      "Class 4: 0.6264, Class 5: 0.4087, Class 6: 0.6472, \n",
      "Validation F-beta Score\n",
      "Class 0: 0.9795, Class 1: 0.5423, Class 2: 0.3611, Class 3: 0.3457, \n",
      "Class 4: 0.6851, Class 5: 0.4546, Class 6: 0.6253, \n",
      "Overall Mean Dice Score: 0.5009\n",
      "Overall Mean F-beta Score: 0.5306\n",
      "\n",
      "Training Loss: 0.5683, Validation Loss: 0.5648, Validation F-beta: 0.5306\n",
      "Epoch 275/4000\n",
      "Current lambda: 0.3800\n"
     ]
    },
    {
     "name": "stderr",
     "output_type": "stream",
     "text": [
      "Training: 100%|██████████| 24/24 [00:23<00:00,  1.04it/s, loss=0.568]\n",
      "Validation: 100%|██████████| 4/4 [00:02<00:00,  1.77it/s, loss=0.599]\n"
     ]
    },
    {
     "name": "stdout",
     "output_type": "stream",
     "text": [
      "Validation Dice Score\n",
      "Class 0: 0.9835, Class 1: 0.6269, Class 2: 0.0717, Class 3: 0.4210, \n",
      "Class 4: 0.2905, Class 5: 0.3943, Class 6: 0.4681, \n",
      "Validation F-beta Score\n",
      "Class 0: 0.9759, Class 1: 0.6737, Class 2: 0.1171, Class 3: 0.4548, \n",
      "Class 4: 0.4747, Class 5: 0.5055, Class 6: 0.6377, \n",
      "Overall Mean Dice Score: 0.4401\n",
      "Overall Mean F-beta Score: 0.5493\n",
      "\n",
      "Training Loss: 0.5736, Validation Loss: 0.5875, Validation F-beta: 0.5493\n",
      "Epoch 276/4000\n",
      "Current lambda: 0.3800\n"
     ]
    },
    {
     "name": "stderr",
     "output_type": "stream",
     "text": [
      "Training: 100%|██████████| 24/24 [00:22<00:00,  1.05it/s, loss=0.602]\n",
      "Validation: 100%|██████████| 4/4 [00:02<00:00,  1.75it/s, loss=0.543]\n"
     ]
    },
    {
     "name": "stdout",
     "output_type": "stream",
     "text": [
      "Validation Dice Score\n",
      "Class 0: 0.9866, Class 1: 0.6485, Class 2: 0.0477, Class 3: 0.4144, \n",
      "Class 4: 0.6494, Class 5: 0.4129, Class 6: 0.7673, \n",
      "Validation F-beta Score\n",
      "Class 0: 0.9849, Class 1: 0.6573, Class 2: 0.1274, Class 3: 0.3994, \n",
      "Class 4: 0.5869, Class 5: 0.4703, Class 6: 0.7979, \n",
      "Overall Mean Dice Score: 0.5785\n",
      "Overall Mean F-beta Score: 0.5823\n",
      "\n",
      "Training Loss: 0.5754, Validation Loss: 0.5527, Validation F-beta: 0.5823\n",
      "Epoch 277/4000\n",
      "Current lambda: 0.3800\n"
     ]
    },
    {
     "name": "stderr",
     "output_type": "stream",
     "text": [
      "Training: 100%|██████████| 24/24 [00:22<00:00,  1.04it/s, loss=0.591]\n",
      "Validation: 100%|██████████| 4/4 [00:02<00:00,  1.73it/s, loss=0.525]\n"
     ]
    },
    {
     "name": "stdout",
     "output_type": "stream",
     "text": [
      "Validation Dice Score\n",
      "Class 0: 0.9829, Class 1: 0.6968, Class 2: 0.1292, Class 3: 0.3140, \n",
      "Class 4: 0.3406, Class 5: 0.4253, Class 6: 0.8117, \n",
      "Validation F-beta Score\n",
      "Class 0: 0.9802, Class 1: 0.7819, Class 2: 0.2659, Class 3: 0.4974, \n",
      "Class 4: 0.4522, Class 5: 0.4170, Class 6: 0.8749, \n",
      "Overall Mean Dice Score: 0.5177\n",
      "Overall Mean F-beta Score: 0.6047\n",
      "\n",
      "Training Loss: 0.5768, Validation Loss: 0.5470, Validation F-beta: 0.6047\n",
      "Epoch 278/4000\n",
      "Current lambda: 0.3800\n"
     ]
    },
    {
     "name": "stderr",
     "output_type": "stream",
     "text": [
      "Training: 100%|██████████| 24/24 [00:23<00:00,  1.04it/s, loss=0.615]\n",
      "Validation: 100%|██████████| 4/4 [00:02<00:00,  1.78it/s, loss=0.592]\n"
     ]
    },
    {
     "name": "stdout",
     "output_type": "stream",
     "text": [
      "Validation Dice Score\n",
      "Class 0: 0.9862, Class 1: 0.5646, Class 2: 0.1202, Class 3: 0.4322, \n",
      "Class 4: 0.4119, Class 5: 0.4676, Class 6: 0.4460, \n",
      "Validation F-beta Score\n",
      "Class 0: 0.9834, Class 1: 0.5412, Class 2: 0.2361, Class 3: 0.5875, \n",
      "Class 4: 0.3662, Class 5: 0.4764, Class 6: 0.4942, \n",
      "Overall Mean Dice Score: 0.4645\n",
      "Overall Mean F-beta Score: 0.4931\n",
      "\n",
      "Training Loss: 0.5710, Validation Loss: 0.5634, Validation F-beta: 0.4931\n",
      "Epoch 279/4000\n",
      "Current lambda: 0.3800\n"
     ]
    },
    {
     "name": "stderr",
     "output_type": "stream",
     "text": [
      "Training: 100%|██████████| 24/24 [00:22<00:00,  1.04it/s, loss=0.53] \n",
      "Validation: 100%|██████████| 4/4 [00:02<00:00,  1.71it/s, loss=0.609]\n"
     ]
    },
    {
     "name": "stdout",
     "output_type": "stream",
     "text": [
      "Validation Dice Score\n",
      "Class 0: 0.9861, Class 1: 0.6064, Class 2: 0.0479, Class 3: 0.3612, \n",
      "Class 4: 0.5017, Class 5: 0.4359, Class 6: 0.5846, \n",
      "Validation F-beta Score\n",
      "Class 0: 0.9818, Class 1: 0.7433, Class 2: 0.0864, Class 3: 0.4152, \n",
      "Class 4: 0.5742, Class 5: 0.4813, Class 6: 0.6259, \n",
      "Overall Mean Dice Score: 0.4980\n",
      "Overall Mean F-beta Score: 0.5680\n",
      "\n",
      "Training Loss: 0.5663, Validation Loss: 0.5804, Validation F-beta: 0.5680\n",
      "Validation loss did not improve. Reducing lambda to 0.3700\n",
      "Epoch 280/4000\n",
      "Current lambda: 0.3700\n"
     ]
    },
    {
     "name": "stderr",
     "output_type": "stream",
     "text": [
      "Training: 100%|██████████| 24/24 [00:23<00:00,  1.04it/s, loss=0.546]\n",
      "Validation: 100%|██████████| 4/4 [00:02<00:00,  1.76it/s, loss=0.514]\n"
     ]
    },
    {
     "name": "stdout",
     "output_type": "stream",
     "text": [
      "Validation Dice Score\n",
      "Class 0: 0.9842, Class 1: 0.6446, Class 2: 0.0952, Class 3: 0.4317, \n",
      "Class 4: 0.5830, Class 5: 0.4690, Class 6: 0.5866, \n",
      "Validation F-beta Score\n",
      "Class 0: 0.9806, Class 1: 0.7338, Class 2: 0.1923, Class 3: 0.5254, \n",
      "Class 4: 0.5861, Class 5: 0.5411, Class 6: 0.7711, \n",
      "Overall Mean Dice Score: 0.5430\n",
      "Overall Mean F-beta Score: 0.6315\n",
      "\n",
      "Training Loss: 0.5748, Validation Loss: 0.5541, Validation F-beta: 0.6315\n",
      "Epoch 281/4000\n",
      "Current lambda: 0.3700\n"
     ]
    },
    {
     "name": "stderr",
     "output_type": "stream",
     "text": [
      "Training: 100%|██████████| 24/24 [00:23<00:00,  1.04it/s, loss=0.533]\n",
      "Validation: 100%|██████████| 4/4 [00:02<00:00,  1.75it/s, loss=0.582]\n"
     ]
    },
    {
     "name": "stdout",
     "output_type": "stream",
     "text": [
      "Validation Dice Score\n",
      "Class 0: 0.9855, Class 1: 0.6465, Class 2: 0.1631, Class 3: 0.4870, \n",
      "Class 4: 0.4476, Class 5: 0.2808, Class 6: 0.6349, \n",
      "Validation F-beta Score\n",
      "Class 0: 0.9805, Class 1: 0.7068, Class 2: 0.3186, Class 3: 0.5262, \n",
      "Class 4: 0.4336, Class 5: 0.4045, Class 6: 0.6369, \n",
      "Overall Mean Dice Score: 0.4993\n",
      "Overall Mean F-beta Score: 0.5416\n",
      "\n",
      "Training Loss: 0.5725, Validation Loss: 0.5658, Validation F-beta: 0.5416\n",
      "Epoch 282/4000\n",
      "Current lambda: 0.3700\n"
     ]
    },
    {
     "name": "stderr",
     "output_type": "stream",
     "text": [
      "Training: 100%|██████████| 24/24 [00:23<00:00,  1.02it/s, loss=0.609]\n",
      "Validation: 100%|██████████| 4/4 [00:02<00:00,  1.77it/s, loss=0.55] \n"
     ]
    },
    {
     "name": "stdout",
     "output_type": "stream",
     "text": [
      "Validation Dice Score\n",
      "Class 0: 0.9831, Class 1: 0.5160, Class 2: 0.0822, Class 3: 0.3760, \n",
      "Class 4: 0.6460, Class 5: 0.3450, Class 6: 0.6393, \n",
      "Validation F-beta Score\n",
      "Class 0: 0.9823, Class 1: 0.5568, Class 2: 0.1589, Class 3: 0.4996, \n",
      "Class 4: 0.5651, Class 5: 0.4634, Class 6: 0.6638, \n",
      "Overall Mean Dice Score: 0.5044\n",
      "Overall Mean F-beta Score: 0.5497\n",
      "\n",
      "Training Loss: 0.5763, Validation Loss: 0.5887, Validation F-beta: 0.5497\n",
      "Epoch 283/4000\n",
      "Current lambda: 0.3700\n"
     ]
    },
    {
     "name": "stderr",
     "output_type": "stream",
     "text": [
      "Training: 100%|██████████| 24/24 [00:23<00:00,  1.02it/s, loss=0.568]\n",
      "Validation: 100%|██████████| 4/4 [00:02<00:00,  1.75it/s, loss=0.555]\n"
     ]
    },
    {
     "name": "stdout",
     "output_type": "stream",
     "text": [
      "Validation Dice Score\n",
      "Class 0: 0.9844, Class 1: 0.4877, Class 2: 0.0649, Class 3: 0.4553, \n",
      "Class 4: 0.4616, Class 5: 0.3664, Class 6: 0.8430, \n",
      "Validation F-beta Score\n",
      "Class 0: 0.9818, Class 1: 0.4561, Class 2: 0.1275, Class 3: 0.6126, \n",
      "Class 4: 0.4808, Class 5: 0.3976, Class 6: 0.8654, \n",
      "Overall Mean Dice Score: 0.5228\n",
      "Overall Mean F-beta Score: 0.5625\n",
      "\n",
      "Training Loss: 0.5750, Validation Loss: 0.5622, Validation F-beta: 0.5625\n",
      "Epoch 284/4000\n",
      "Current lambda: 0.3700\n"
     ]
    },
    {
     "name": "stderr",
     "output_type": "stream",
     "text": [
      "Training: 100%|██████████| 24/24 [00:23<00:00,  1.03it/s, loss=0.536]\n",
      "Validation: 100%|██████████| 4/4 [00:02<00:00,  1.69it/s, loss=0.545]\n"
     ]
    },
    {
     "name": "stdout",
     "output_type": "stream",
     "text": [
      "Validation Dice Score\n",
      "Class 0: 0.9793, Class 1: 0.7408, Class 2: 0.0809, Class 3: 0.5188, \n",
      "Class 4: 0.6249, Class 5: 0.3349, Class 6: 0.6201, \n",
      "Validation F-beta Score\n",
      "Class 0: 0.9767, Class 1: 0.7973, Class 2: 0.2249, Class 3: 0.6360, \n",
      "Class 4: 0.5765, Class 5: 0.3887, Class 6: 0.5703, \n",
      "Overall Mean Dice Score: 0.5679\n",
      "Overall Mean F-beta Score: 0.5938\n",
      "\n",
      "Training Loss: 0.5735, Validation Loss: 0.5392, Validation F-beta: 0.5938\n",
      "Epoch 285/4000\n",
      "Current lambda: 0.3700\n"
     ]
    },
    {
     "name": "stderr",
     "output_type": "stream",
     "text": [
      "Training: 100%|██████████| 24/24 [00:23<00:00,  1.03it/s, loss=0.552]\n",
      "Validation: 100%|██████████| 4/4 [00:02<00:00,  1.73it/s, loss=0.61] \n"
     ]
    },
    {
     "name": "stdout",
     "output_type": "stream",
     "text": [
      "Validation Dice Score\n",
      "Class 0: 0.9849, Class 1: 0.6183, Class 2: 0.2046, Class 3: 0.5163, \n",
      "Class 4: 0.3911, Class 5: 0.3599, Class 6: 0.7634, \n",
      "Validation F-beta Score\n",
      "Class 0: 0.9798, Class 1: 0.7721, Class 2: 0.3144, Class 3: 0.5907, \n",
      "Class 4: 0.4889, Class 5: 0.3847, Class 6: 0.7774, \n",
      "Overall Mean Dice Score: 0.5298\n",
      "Overall Mean F-beta Score: 0.6028\n",
      "\n",
      "Training Loss: 0.5727, Validation Loss: 0.5705, Validation F-beta: 0.6028\n",
      "Epoch 286/4000\n",
      "Current lambda: 0.3700\n"
     ]
    },
    {
     "name": "stderr",
     "output_type": "stream",
     "text": [
      "Training: 100%|██████████| 24/24 [00:23<00:00,  1.02it/s, loss=0.548]\n",
      "Validation: 100%|██████████| 4/4 [00:02<00:00,  1.75it/s, loss=0.57] \n"
     ]
    },
    {
     "name": "stdout",
     "output_type": "stream",
     "text": [
      "Validation Dice Score\n",
      "Class 0: 0.9833, Class 1: 0.5459, Class 2: 0.0012, Class 3: 0.5638, \n",
      "Class 4: 0.3440, Class 5: 0.3743, Class 6: 0.6171, \n",
      "Validation F-beta Score\n",
      "Class 0: 0.9800, Class 1: 0.8289, Class 2: 0.0041, Class 3: 0.6125, \n",
      "Class 4: 0.3357, Class 5: 0.4728, Class 6: 0.7570, \n",
      "Overall Mean Dice Score: 0.4890\n",
      "Overall Mean F-beta Score: 0.6014\n",
      "\n",
      "Training Loss: 0.5636, Validation Loss: 0.5667, Validation F-beta: 0.6014\n",
      "Epoch 287/4000\n",
      "Current lambda: 0.3700\n"
     ]
    },
    {
     "name": "stderr",
     "output_type": "stream",
     "text": [
      "Training: 100%|██████████| 24/24 [00:23<00:00,  1.03it/s, loss=0.552]\n",
      "Validation: 100%|██████████| 4/4 [00:02<00:00,  1.76it/s, loss=0.497]\n"
     ]
    },
    {
     "name": "stdout",
     "output_type": "stream",
     "text": [
      "Validation Dice Score\n",
      "Class 0: 0.9795, Class 1: 0.3633, Class 2: 0.0731, Class 3: 0.3422, \n",
      "Class 4: 0.5107, Class 5: 0.3491, Class 6: 0.6342, \n",
      "Validation F-beta Score\n",
      "Class 0: 0.9755, Class 1: 0.5555, Class 2: 0.1570, Class 3: 0.3671, \n",
      "Class 4: 0.6000, Class 5: 0.3798, Class 6: 0.6300, \n",
      "Overall Mean Dice Score: 0.4399\n",
      "Overall Mean F-beta Score: 0.5065\n",
      "\n",
      "Training Loss: 0.5719, Validation Loss: 0.5591, Validation F-beta: 0.5065\n",
      "Epoch 288/4000\n",
      "Current lambda: 0.3700\n"
     ]
    },
    {
     "name": "stderr",
     "output_type": "stream",
     "text": [
      "Training: 100%|██████████| 24/24 [00:23<00:00,  1.04it/s, loss=0.584]\n",
      "Validation: 100%|██████████| 4/4 [00:02<00:00,  1.75it/s, loss=0.632]\n"
     ]
    },
    {
     "name": "stdout",
     "output_type": "stream",
     "text": [
      "Validation Dice Score\n",
      "Class 0: 0.9840, Class 1: 0.3600, Class 2: 0.0556, Class 3: 0.4662, \n",
      "Class 4: 0.4860, Class 5: 0.4497, Class 6: 0.4314, \n",
      "Validation F-beta Score\n",
      "Class 0: 0.9846, Class 1: 0.5411, Class 2: 0.0464, Class 3: 0.5623, \n",
      "Class 4: 0.4815, Class 5: 0.4883, Class 6: 0.4442, \n",
      "Overall Mean Dice Score: 0.4386\n",
      "Overall Mean F-beta Score: 0.5035\n",
      "\n",
      "Training Loss: 0.5711, Validation Loss: 0.5693, Validation F-beta: 0.5035\n",
      "Epoch 289/4000\n",
      "Current lambda: 0.3700\n"
     ]
    },
    {
     "name": "stderr",
     "output_type": "stream",
     "text": [
      "Training: 100%|██████████| 24/24 [00:23<00:00,  1.03it/s, loss=0.553]\n",
      "Validation: 100%|██████████| 4/4 [00:02<00:00,  1.71it/s, loss=0.558]\n"
     ]
    },
    {
     "name": "stdout",
     "output_type": "stream",
     "text": [
      "Validation Dice Score\n",
      "Class 0: 0.9836, Class 1: 0.5398, Class 2: 0.0691, Class 3: 0.3631, \n",
      "Class 4: 0.6410, Class 5: 0.4584, Class 6: 0.8511, \n",
      "Validation F-beta Score\n",
      "Class 0: 0.9815, Class 1: 0.5400, Class 2: 0.0879, Class 3: 0.4969, \n",
      "Class 4: 0.6331, Class 5: 0.5289, Class 6: 0.8711, \n",
      "Overall Mean Dice Score: 0.5707\n",
      "Overall Mean F-beta Score: 0.6140\n",
      "\n",
      "Training Loss: 0.5716, Validation Loss: 0.5671, Validation F-beta: 0.6140\n",
      "Validation loss did not improve. Reducing lambda to 0.3600\n",
      "Epoch 290/4000\n",
      "Current lambda: 0.3600\n"
     ]
    },
    {
     "name": "stderr",
     "output_type": "stream",
     "text": [
      "Training: 100%|██████████| 24/24 [00:23<00:00,  1.04it/s, loss=0.536]\n",
      "Validation: 100%|██████████| 4/4 [00:02<00:00,  1.71it/s, loss=0.529]\n"
     ]
    },
    {
     "name": "stdout",
     "output_type": "stream",
     "text": [
      "Validation Dice Score\n",
      "Class 0: 0.9871, Class 1: 0.4690, Class 2: 0.0983, Class 3: 0.4355, \n",
      "Class 4: 0.6607, Class 5: 0.4361, Class 6: 0.6569, \n",
      "Validation F-beta Score\n",
      "Class 0: 0.9840, Class 1: 0.4367, Class 2: 0.1196, Class 3: 0.4550, \n",
      "Class 4: 0.6703, Class 5: 0.5680, Class 6: 0.6754, \n",
      "Overall Mean Dice Score: 0.5316\n",
      "Overall Mean F-beta Score: 0.5611\n",
      "\n",
      "Training Loss: 0.5631, Validation Loss: 0.5542, Validation F-beta: 0.5611\n",
      "Epoch 291/4000\n",
      "Current lambda: 0.3600\n"
     ]
    },
    {
     "name": "stderr",
     "output_type": "stream",
     "text": [
      "Training: 100%|██████████| 24/24 [00:23<00:00,  1.04it/s, loss=0.603]\n",
      "Validation: 100%|██████████| 4/4 [00:02<00:00,  1.70it/s, loss=0.566]\n"
     ]
    },
    {
     "name": "stdout",
     "output_type": "stream",
     "text": [
      "Validation Dice Score\n",
      "Class 0: 0.9850, Class 1: 0.6196, Class 2: 0.0666, Class 3: 0.5298, \n",
      "Class 4: 0.6489, Class 5: 0.3619, Class 6: 0.6196, \n",
      "Validation F-beta Score\n",
      "Class 0: 0.9831, Class 1: 0.8834, Class 2: 0.1168, Class 3: 0.5071, \n",
      "Class 4: 0.6130, Class 5: 0.4909, Class 6: 0.6128, \n",
      "Overall Mean Dice Score: 0.5560\n",
      "Overall Mean F-beta Score: 0.6214\n",
      "\n",
      "Training Loss: 0.5672, Validation Loss: 0.5427, Validation F-beta: 0.6214\n",
      "Epoch 292/4000\n",
      "Current lambda: 0.3600\n"
     ]
    },
    {
     "name": "stderr",
     "output_type": "stream",
     "text": [
      "Training: 100%|██████████| 24/24 [00:23<00:00,  1.02it/s, loss=0.58] \n",
      "Validation: 100%|██████████| 4/4 [00:02<00:00,  1.68it/s, loss=0.561]\n"
     ]
    },
    {
     "name": "stdout",
     "output_type": "stream",
     "text": [
      "Validation Dice Score\n",
      "Class 0: 0.9827, Class 1: 0.8190, Class 2: 0.0547, Class 3: 0.4797, \n",
      "Class 4: 0.6024, Class 5: 0.3652, Class 6: 0.7593, \n",
      "Validation F-beta Score\n",
      "Class 0: 0.9766, Class 1: 0.8451, Class 2: 0.1408, Class 3: 0.5830, \n",
      "Class 4: 0.7044, Class 5: 0.3734, Class 6: 0.8488, \n",
      "Overall Mean Dice Score: 0.6051\n",
      "Overall Mean F-beta Score: 0.6709\n",
      "\n",
      "Training Loss: 0.5782, Validation Loss: 0.5525, Validation F-beta: 0.6709\n",
      "Epoch 293/4000\n",
      "Current lambda: 0.3600\n"
     ]
    },
    {
     "name": "stderr",
     "output_type": "stream",
     "text": [
      "Training: 100%|██████████| 24/24 [00:23<00:00,  1.04it/s, loss=0.594]\n",
      "Validation: 100%|██████████| 4/4 [00:02<00:00,  1.75it/s, loss=0.517]\n"
     ]
    },
    {
     "name": "stdout",
     "output_type": "stream",
     "text": [
      "Validation Dice Score\n",
      "Class 0: 0.9865, Class 1: 0.6254, Class 2: 0.1961, Class 3: 0.4917, \n",
      "Class 4: 0.4703, Class 5: 0.4750, Class 6: 0.5408, \n",
      "Validation F-beta Score\n",
      "Class 0: 0.9851, Class 1: 0.7436, Class 2: 0.3262, Class 3: 0.6215, \n",
      "Class 4: 0.3995, Class 5: 0.5161, Class 6: 0.5381, \n",
      "Overall Mean Dice Score: 0.5206\n",
      "Overall Mean F-beta Score: 0.5638\n",
      "\n",
      "Training Loss: 0.5639, Validation Loss: 0.5404, Validation F-beta: 0.5638\n",
      "Epoch 294/4000\n",
      "Current lambda: 0.3600\n"
     ]
    },
    {
     "name": "stderr",
     "output_type": "stream",
     "text": [
      "Training: 100%|██████████| 24/24 [00:23<00:00,  1.04it/s, loss=0.542]\n",
      "Validation: 100%|██████████| 4/4 [00:02<00:00,  1.75it/s, loss=0.599]\n"
     ]
    },
    {
     "name": "stdout",
     "output_type": "stream",
     "text": [
      "Validation Dice Score\n",
      "Class 0: 0.9843, Class 1: 0.5307, Class 2: 0.1204, Class 3: 0.4550, \n",
      "Class 4: 0.4958, Class 5: 0.3549, Class 6: 0.6289, \n",
      "Validation F-beta Score\n",
      "Class 0: 0.9803, Class 1: 0.6676, Class 2: 0.1967, Class 3: 0.4805, \n",
      "Class 4: 0.7359, Class 5: 0.3674, Class 6: 0.6574, \n",
      "Overall Mean Dice Score: 0.4930\n",
      "Overall Mean F-beta Score: 0.5818\n",
      "\n",
      "Training Loss: 0.5745, Validation Loss: 0.5723, Validation F-beta: 0.5818\n",
      "Epoch 295/4000\n",
      "Current lambda: 0.3600\n"
     ]
    },
    {
     "name": "stderr",
     "output_type": "stream",
     "text": [
      "Training: 100%|██████████| 24/24 [00:22<00:00,  1.05it/s, loss=0.581]\n",
      "Validation: 100%|██████████| 4/4 [00:02<00:00,  1.68it/s, loss=0.592]\n"
     ]
    },
    {
     "name": "stdout",
     "output_type": "stream",
     "text": [
      "Validation Dice Score\n",
      "Class 0: 0.9867, Class 1: 0.5685, Class 2: 0.2358, Class 3: 0.4197, \n",
      "Class 4: 0.5026, Class 5: 0.4333, Class 6: 0.8138, \n",
      "Validation F-beta Score\n",
      "Class 0: 0.9853, Class 1: 0.6319, Class 2: 0.4529, Class 3: 0.4172, \n",
      "Class 4: 0.5916, Class 5: 0.4220, Class 6: 0.7941, \n",
      "Overall Mean Dice Score: 0.5476\n",
      "Overall Mean F-beta Score: 0.5714\n",
      "\n",
      "Training Loss: 0.5711, Validation Loss: 0.5527, Validation F-beta: 0.5714\n",
      "Epoch 296/4000\n",
      "Current lambda: 0.3600\n"
     ]
    },
    {
     "name": "stderr",
     "output_type": "stream",
     "text": [
      "Training: 100%|██████████| 24/24 [00:23<00:00,  1.04it/s, loss=0.497]\n",
      "Validation: 100%|██████████| 4/4 [00:02<00:00,  1.80it/s, loss=0.565]\n"
     ]
    },
    {
     "name": "stdout",
     "output_type": "stream",
     "text": [
      "Validation Dice Score\n",
      "Class 0: 0.9825, Class 1: 0.5238, Class 2: 0.1038, Class 3: 0.5207, \n",
      "Class 4: 0.4878, Class 5: 0.3283, Class 6: 0.6669, \n",
      "Validation F-beta Score\n",
      "Class 0: 0.9782, Class 1: 0.5092, Class 2: 0.3096, Class 3: 0.5803, \n",
      "Class 4: 0.5067, Class 5: 0.4271, Class 6: 0.8006, \n",
      "Overall Mean Dice Score: 0.5055\n",
      "Overall Mean F-beta Score: 0.5648\n",
      "\n",
      "Training Loss: 0.5656, Validation Loss: 0.5838, Validation F-beta: 0.5648\n",
      "Epoch 297/4000\n",
      "Current lambda: 0.3600\n"
     ]
    },
    {
     "name": "stderr",
     "output_type": "stream",
     "text": [
      "Training: 100%|██████████| 24/24 [00:23<00:00,  1.04it/s, loss=0.542]\n",
      "Validation: 100%|██████████| 4/4 [00:02<00:00,  1.77it/s, loss=0.561]\n"
     ]
    },
    {
     "name": "stdout",
     "output_type": "stream",
     "text": [
      "Validation Dice Score\n",
      "Class 0: 0.9833, Class 1: 0.6234, Class 2: 0.0161, Class 3: 0.4423, \n",
      "Class 4: 0.5617, Class 5: 0.3649, Class 6: 0.8527, \n",
      "Validation F-beta Score\n",
      "Class 0: 0.9813, Class 1: 0.6964, Class 2: 0.0229, Class 3: 0.4958, \n",
      "Class 4: 0.5565, Class 5: 0.4220, Class 6: 0.8469, \n",
      "Overall Mean Dice Score: 0.5690\n",
      "Overall Mean F-beta Score: 0.6035\n",
      "\n",
      "Training Loss: 0.5690, Validation Loss: 0.5593, Validation F-beta: 0.6035\n",
      "Epoch 298/4000\n",
      "Current lambda: 0.3600\n"
     ]
    },
    {
     "name": "stderr",
     "output_type": "stream",
     "text": [
      "Training: 100%|██████████| 24/24 [00:22<00:00,  1.04it/s, loss=0.548]\n",
      "Validation: 100%|██████████| 4/4 [00:02<00:00,  1.74it/s, loss=0.548]\n"
     ]
    },
    {
     "name": "stdout",
     "output_type": "stream",
     "text": [
      "Validation Dice Score\n",
      "Class 0: 0.9861, Class 1: 0.7016, Class 2: 0.1107, Class 3: 0.5210, \n",
      "Class 4: 0.5304, Class 5: 0.4150, Class 6: 0.7743, \n",
      "Validation F-beta Score\n",
      "Class 0: 0.9850, Class 1: 0.7748, Class 2: 0.2267, Class 3: 0.6762, \n",
      "Class 4: 0.5083, Class 5: 0.4423, Class 6: 0.8135, \n",
      "Overall Mean Dice Score: 0.5885\n",
      "Overall Mean F-beta Score: 0.6430\n",
      "\n",
      "Training Loss: 0.5674, Validation Loss: 0.5471, Validation F-beta: 0.6430\n",
      "Epoch 299/4000\n",
      "Current lambda: 0.3600\n"
     ]
    },
    {
     "name": "stderr",
     "output_type": "stream",
     "text": [
      "Training: 100%|██████████| 24/24 [00:22<00:00,  1.05it/s, loss=0.593]\n",
      "Validation: 100%|██████████| 4/4 [00:02<00:00,  1.76it/s, loss=0.569]\n"
     ]
    },
    {
     "name": "stdout",
     "output_type": "stream",
     "text": [
      "Validation Dice Score\n",
      "Class 0: 0.9860, Class 1: 0.7148, Class 2: 0.1836, Class 3: 0.4512, \n",
      "Class 4: 0.3955, Class 5: 0.3409, Class 6: 0.8991, \n",
      "Validation F-beta Score\n",
      "Class 0: 0.9832, Class 1: 0.7652, Class 2: 0.2770, Class 3: 0.4514, \n",
      "Class 4: 0.3622, Class 5: 0.5009, Class 6: 0.8805, \n",
      "Overall Mean Dice Score: 0.5603\n",
      "Overall Mean F-beta Score: 0.5921\n",
      "\n",
      "Training Loss: 0.5765, Validation Loss: 0.5699, Validation F-beta: 0.5921\n",
      "Validation loss did not improve. Reducing lambda to 0.3500\n",
      "Epoch 300/4000\n",
      "Current lambda: 0.3500\n"
     ]
    },
    {
     "name": "stderr",
     "output_type": "stream",
     "text": [
      "Training: 100%|██████████| 24/24 [00:23<00:00,  1.04it/s, loss=0.593]\n",
      "Validation: 100%|██████████| 4/4 [00:02<00:00,  1.79it/s, loss=0.569]\n"
     ]
    },
    {
     "name": "stdout",
     "output_type": "stream",
     "text": [
      "Validation Dice Score\n",
      "Class 0: 0.9854, Class 1: 0.5304, Class 2: 0.0224, Class 3: 0.5046, \n",
      "Class 4: 0.5747, Class 5: 0.4544, Class 6: 0.8419, \n",
      "Validation F-beta Score\n",
      "Class 0: 0.9840, Class 1: 0.5642, Class 2: 0.0508, Class 3: 0.4989, \n",
      "Class 4: 0.5426, Class 5: 0.5133, Class 6: 0.8113, \n",
      "Overall Mean Dice Score: 0.5812\n",
      "Overall Mean F-beta Score: 0.5861\n",
      "\n",
      "Training Loss: 0.5749, Validation Loss: 0.5475, Validation F-beta: 0.5861\n",
      "Epoch 301/4000\n",
      "Current lambda: 0.3500\n"
     ]
    },
    {
     "name": "stderr",
     "output_type": "stream",
     "text": [
      "Training: 100%|██████████| 24/24 [00:23<00:00,  1.04it/s, loss=0.613]\n",
      "Validation: 100%|██████████| 4/4 [00:02<00:00,  1.65it/s, loss=0.557]\n"
     ]
    },
    {
     "name": "stdout",
     "output_type": "stream",
     "text": [
      "Validation Dice Score\n",
      "Class 0: 0.9858, Class 1: 0.6267, Class 2: 0.1853, Class 3: 0.5057, \n",
      "Class 4: 0.6151, Class 5: 0.5030, Class 6: 0.7947, \n",
      "Validation F-beta Score\n",
      "Class 0: 0.9837, Class 1: 0.8360, Class 2: 0.2799, Class 3: 0.5639, \n",
      "Class 4: 0.5785, Class 5: 0.6019, Class 6: 0.8024, \n",
      "Overall Mean Dice Score: 0.6090\n",
      "Overall Mean F-beta Score: 0.6765\n",
      "\n",
      "Training Loss: 0.5795, Validation Loss: 0.5400, Validation F-beta: 0.6765\n",
      "Epoch 302/4000\n",
      "Current lambda: 0.3500\n"
     ]
    },
    {
     "name": "stderr",
     "output_type": "stream",
     "text": [
      "Training: 100%|██████████| 24/24 [00:23<00:00,  1.04it/s, loss=0.539]\n",
      "Validation: 100%|██████████| 4/4 [00:02<00:00,  1.75it/s, loss=0.61] \n"
     ]
    },
    {
     "name": "stdout",
     "output_type": "stream",
     "text": [
      "Validation Dice Score\n",
      "Class 0: 0.9852, Class 1: 0.3267, Class 2: 0.1296, Class 3: 0.4667, \n",
      "Class 4: 0.3694, Class 5: 0.3842, Class 6: 0.8476, \n",
      "Validation F-beta Score\n",
      "Class 0: 0.9826, Class 1: 0.2574, Class 2: 0.2137, Class 3: 0.5252, \n",
      "Class 4: 0.3737, Class 5: 0.3698, Class 6: 0.8470, \n",
      "Overall Mean Dice Score: 0.4789\n",
      "Overall Mean F-beta Score: 0.4746\n",
      "\n",
      "Training Loss: 0.5767, Validation Loss: 0.5608, Validation F-beta: 0.4746\n",
      "Epoch 303/4000\n",
      "Current lambda: 0.3500\n"
     ]
    },
    {
     "name": "stderr",
     "output_type": "stream",
     "text": [
      "Training: 100%|██████████| 24/24 [00:23<00:00,  1.04it/s, loss=0.603]\n",
      "Validation: 100%|██████████| 4/4 [00:02<00:00,  1.73it/s, loss=0.563]\n"
     ]
    },
    {
     "name": "stdout",
     "output_type": "stream",
     "text": [
      "Validation Dice Score\n",
      "Class 0: 0.9845, Class 1: 0.7240, Class 2: 0.1405, Class 3: 0.5366, \n",
      "Class 4: 0.6224, Class 5: 0.3846, Class 6: 0.2082, \n",
      "Validation F-beta Score\n",
      "Class 0: 0.9824, Class 1: 0.6707, Class 2: 0.2595, Class 3: 0.5366, \n",
      "Class 4: 0.6359, Class 5: 0.4632, Class 6: 0.2092, \n",
      "Overall Mean Dice Score: 0.4952\n",
      "Overall Mean F-beta Score: 0.5031\n",
      "\n",
      "Training Loss: 0.5799, Validation Loss: 0.5728, Validation F-beta: 0.5031\n",
      "Epoch 304/4000\n",
      "Current lambda: 0.3500\n"
     ]
    },
    {
     "name": "stderr",
     "output_type": "stream",
     "text": [
      "Training: 100%|██████████| 24/24 [00:22<00:00,  1.05it/s, loss=0.577]\n",
      "Validation: 100%|██████████| 4/4 [00:02<00:00,  1.77it/s, loss=0.597]\n"
     ]
    },
    {
     "name": "stdout",
     "output_type": "stream",
     "text": [
      "Validation Dice Score\n",
      "Class 0: 0.9871, Class 1: 0.6052, Class 2: 0.0004, Class 3: 0.1796, \n",
      "Class 4: 0.5508, Class 5: 0.5188, Class 6: 0.8260, \n",
      "Validation F-beta Score\n",
      "Class 0: 0.9872, Class 1: 0.5958, Class 2: 0.0005, Class 3: 0.2776, \n",
      "Class 4: 0.5270, Class 5: 0.5081, Class 6: 0.7707, \n",
      "Overall Mean Dice Score: 0.5361\n",
      "Overall Mean F-beta Score: 0.5358\n",
      "\n",
      "Training Loss: 0.5645, Validation Loss: 0.5770, Validation F-beta: 0.5358\n",
      "Epoch 305/4000\n",
      "Current lambda: 0.3500\n"
     ]
    },
    {
     "name": "stderr",
     "output_type": "stream",
     "text": [
      "Training: 100%|██████████| 24/24 [00:23<00:00,  1.04it/s, loss=0.583]\n",
      "Validation: 100%|██████████| 4/4 [00:02<00:00,  1.77it/s, loss=0.566]\n"
     ]
    },
    {
     "name": "stdout",
     "output_type": "stream",
     "text": [
      "Validation Dice Score\n",
      "Class 0: 0.9860, Class 1: 0.7729, Class 2: 0.1097, Class 3: 0.5532, \n",
      "Class 4: 0.6132, Class 5: 0.4503, Class 6: 0.6550, \n",
      "Validation F-beta Score\n",
      "Class 0: 0.9828, Class 1: 0.7858, Class 2: 0.2294, Class 3: 0.5595, \n",
      "Class 4: 0.6147, Class 5: 0.5673, Class 6: 0.7577, \n",
      "Overall Mean Dice Score: 0.6089\n",
      "Overall Mean F-beta Score: 0.6570\n",
      "\n",
      "Training Loss: 0.5773, Validation Loss: 0.5301, Validation F-beta: 0.6570\n",
      "Epoch 306/4000\n",
      "Current lambda: 0.3500\n"
     ]
    },
    {
     "name": "stderr",
     "output_type": "stream",
     "text": [
      "Training: 100%|██████████| 24/24 [00:23<00:00,  1.04it/s, loss=0.587]\n",
      "Validation: 100%|██████████| 4/4 [00:02<00:00,  1.75it/s, loss=0.567]\n"
     ]
    },
    {
     "name": "stdout",
     "output_type": "stream",
     "text": [
      "Validation Dice Score\n",
      "Class 0: 0.9887, Class 1: 0.5240, Class 2: 0.2250, Class 3: 0.4462, \n",
      "Class 4: 0.5024, Class 5: 0.5300, Class 6: 0.7756, \n",
      "Validation F-beta Score\n",
      "Class 0: 0.9879, Class 1: 0.6551, Class 2: 0.2287, Class 3: 0.5474, \n",
      "Class 4: 0.4465, Class 5: 0.5603, Class 6: 0.8292, \n",
      "Overall Mean Dice Score: 0.5556\n",
      "Overall Mean F-beta Score: 0.6077\n",
      "\n",
      "Training Loss: 0.5673, Validation Loss: 0.5564, Validation F-beta: 0.6077\n",
      "Epoch 307/4000\n",
      "Current lambda: 0.3500\n"
     ]
    },
    {
     "name": "stderr",
     "output_type": "stream",
     "text": [
      "Training: 100%|██████████| 24/24 [00:22<00:00,  1.05it/s, loss=0.561]\n",
      "Validation: 100%|██████████| 4/4 [00:02<00:00,  1.70it/s, loss=0.599]\n"
     ]
    },
    {
     "name": "stdout",
     "output_type": "stream",
     "text": [
      "Validation Dice Score\n",
      "Class 0: 0.9835, Class 1: 0.7143, Class 2: 0.1494, Class 3: 0.3119, \n",
      "Class 4: 0.3217, Class 5: 0.3492, Class 6: 0.6344, \n",
      "Validation F-beta Score\n",
      "Class 0: 0.9811, Class 1: 0.7521, Class 2: 0.3468, Class 3: 0.6414, \n",
      "Class 4: 0.3264, Class 5: 0.3584, Class 6: 0.6238, \n",
      "Overall Mean Dice Score: 0.4663\n",
      "Overall Mean F-beta Score: 0.5404\n",
      "\n",
      "Training Loss: 0.5663, Validation Loss: 0.5906, Validation F-beta: 0.5404\n",
      "Epoch 308/4000\n",
      "Current lambda: 0.3500\n"
     ]
    },
    {
     "name": "stderr",
     "output_type": "stream",
     "text": [
      "Training: 100%|██████████| 24/24 [00:22<00:00,  1.04it/s, loss=0.582]\n",
      "Validation: 100%|██████████| 4/4 [00:02<00:00,  1.76it/s, loss=0.602]\n"
     ]
    },
    {
     "name": "stdout",
     "output_type": "stream",
     "text": [
      "Validation Dice Score\n",
      "Class 0: 0.9855, Class 1: 0.4023, Class 2: 0.1787, Class 3: 0.3792, \n",
      "Class 4: 0.4417, Class 5: 0.3153, Class 6: 0.7915, \n",
      "Validation F-beta Score\n",
      "Class 0: 0.9838, Class 1: 0.6504, Class 2: 0.2780, Class 3: 0.3682, \n",
      "Class 4: 0.4365, Class 5: 0.3487, Class 6: 0.7547, \n",
      "Overall Mean Dice Score: 0.4660\n",
      "Overall Mean F-beta Score: 0.5117\n",
      "\n",
      "Training Loss: 0.5802, Validation Loss: 0.5749, Validation F-beta: 0.5117\n",
      "Epoch 309/4000\n",
      "Current lambda: 0.3500\n"
     ]
    },
    {
     "name": "stderr",
     "output_type": "stream",
     "text": [
      "Training: 100%|██████████| 24/24 [00:23<00:00,  1.04it/s, loss=0.586]\n",
      "Validation: 100%|██████████| 4/4 [00:02<00:00,  1.74it/s, loss=0.547]\n"
     ]
    },
    {
     "name": "stdout",
     "output_type": "stream",
     "text": [
      "Validation Dice Score\n",
      "Class 0: 0.9875, Class 1: 0.7123, Class 2: 0.1024, Class 3: 0.4155, \n",
      "Class 4: 0.5717, Class 5: 0.5081, Class 6: 0.8484, \n",
      "Validation F-beta Score\n",
      "Class 0: 0.9875, Class 1: 0.7693, Class 2: 0.1164, Class 3: 0.5913, \n",
      "Class 4: 0.5094, Class 5: 0.5351, Class 6: 0.8839, \n",
      "Overall Mean Dice Score: 0.6112\n",
      "Overall Mean F-beta Score: 0.6578\n",
      "\n",
      "Training Loss: 0.5760, Validation Loss: 0.5366, Validation F-beta: 0.6578\n",
      "Early stopping\n"
     ]
    },
    {
     "data": {
      "text/html": [],
      "text/plain": [
       "<IPython.core.display.HTML object>"
      ]
     },
     "metadata": {},
     "output_type": "display_data"
    },
    {
     "data": {
      "text/html": [
       "<br>    <style><br>        .wandb-row {<br>            display: flex;<br>            flex-direction: row;<br>            flex-wrap: wrap;<br>            justify-content: flex-start;<br>            width: 100%;<br>        }<br>        .wandb-col {<br>            display: flex;<br>            flex-direction: column;<br>            flex-basis: 100%;<br>            flex: 1;<br>            padding: 10px;<br>        }<br>    </style><br><div class=\"wandb-row\"><div class=\"wandb-col\"><h3>Run history:</h3><br/><table class=\"wandb\"><tr><td>class_0_dice_score</td><td>▁▁▁▁▂▂▂▂▂▂▃▃▃▃▃▆████████████████████████</td></tr><tr><td>class_0_f_beta_score</td><td>▁▁▁▁▂▂▂▂▂▃▃▄▄▅▅█████████████████████████</td></tr><tr><td>class_1_dice_score</td><td>▁▁▁▁▁▁▁▁▁▁▁▁▁▁▁▁▁▂▂▂▅▅▅▇▇▅▅█▇█▅█▇▇▆▇▇▇▇▅</td></tr><tr><td>class_1_f_beta_score</td><td>▁▁▁▁▁▁▁▁▁▁▁▁▁▁▁▂▃▃▆▅▃▇▇▆▄▇▆▆▅▄▆▆▇█▄▇█▆▇▇</td></tr><tr><td>class_2_dice_score</td><td>▁▁▁▁▁▁▁▁▁▁▁▁▁▄▃▃▁▂▅▃▅▂▄▂▃▁▅▄▁▂▆▃▅▆▃▇▄█▃▂</td></tr><tr><td>class_2_f_beta_score</td><td>▁▂▁▂▂▂▂▂▂▂▁▄▆▁▄▃▄▅▅▅▃▅▅▇▃█▅▆▂▅▁▆▃▄▆▅▄▃▆▁</td></tr><tr><td>class_3_dice_score</td><td>▂▁▄▄▆▄▅▆▅▆▄▇▇▇▅▆▆▆█▆▆▄▄▇▇▆▅▇▆▅▆▃▇█▆▆▆▅▆▇</td></tr><tr><td>class_3_f_beta_score</td><td>▆▃▁▃▂▅▃▄▃▃▄▆▅▅▆▄▆▇▆▂▅▇█▄▅█▄▆▆▄▅▆▇█▅▅▇▅▅▆</td></tr><tr><td>class_4_dice_score</td><td>▃▁▂▃▃▂▃▅▁▄▅▃▃▅▄▄▂▂▆▅▅▅▆▃▆▆▅▅▄▅▇▇▇▆▆▃▅██▄</td></tr><tr><td>class_4_f_beta_score</td><td>▁▂▅▃▂▆▃▂▇▂▄▇▂▂█▆▇▇▁▇▇█▆▆▅▆▅█▅▇▄▆▇▆▇▇▇▆▃▄</td></tr><tr><td>class_5_dice_score</td><td>▁▂▃▃▃▄▄▅▄▄▄█▄▄▅▆▄▇▄▅▅▆▄▆█▄▅▄▅▅▆▅▆▃▅▅▆▇▅▅</td></tr><tr><td>class_5_f_beta_score</td><td>▁▁▄█▆▇▆▆▅▇▆▅▄▇▆▇▇▆▅▆█▆█▅▇▆▇▅▇▆▇▆▆▇▅▅▆▆█▇</td></tr><tr><td>class_6_dice_score</td><td>▁▂▃▂▄▄▆▄▄▅▅▆▇▆▆▇██████▆▅▆▇▅▇▄▇▇▅▆▆▆▆█▆▅▆</td></tr><tr><td>class_6_f_beta_score</td><td>▃▅▁▃▂▆▄▃▅▄▅▅▄▅▇▇█▅▇▃▇▅▅▂▇▄█▇▇█▅▄▆█▅█▅▇▄▇</td></tr><tr><td>epoch</td><td>▁▁▂▂▂▂▃▃▃▃▄▄▄▄▄▅▅▅▅▅▅▅▅▅▅▆▆▆▆▆▆▆▇▇▇▇▇▇██</td></tr><tr><td>overall_mean_dice_score</td><td>▂▁▂▃▃▃▃▃▃▄▄▄▅▅▅▅▄▆▃▅▅▆▆▆▆▆█▆▇▆█▅▆▇█▇▇▇▇▆</td></tr><tr><td>overall_mean_f_beta_score</td><td>▁▂▃▃▃▂▃▅▃▄▄▅▅▄▅▅▅▆▃▅▅▇▅▆▇▇▇▇▇▆▇▆▇▆█▇▆▇▇▆</td></tr><tr><td>train_epoch_loss</td><td>█▆▅▅▄▄▄▄▄▄▄▃▄▃▃▃▂▂▃▂▂▂▂▂▂▂▂▂▂▁▂▂▁▁▂▁▁▂▂▁</td></tr><tr><td>val_epoch_loss</td><td>█▇▇█▇▇▇▆▆▆▇▄▅▅▆▆▄▄▅▃▂▃▄▄▄▅▄▃▄▃▁▂▄▅▁▃▃▄▄▁</td></tr></table><br/></div><div class=\"wandb-col\"><h3>Run summary:</h3><br/><table class=\"wandb\"><tr><td>class_0_dice_score</td><td>0.98747</td></tr><tr><td>class_0_f_beta_score</td><td>0.98751</td></tr><tr><td>class_1_dice_score</td><td>0.71225</td></tr><tr><td>class_1_f_beta_score</td><td>0.76931</td></tr><tr><td>class_2_dice_score</td><td>0.10243</td></tr><tr><td>class_2_f_beta_score</td><td>0.11637</td></tr><tr><td>class_3_dice_score</td><td>0.41555</td></tr><tr><td>class_3_f_beta_score</td><td>0.59127</td></tr><tr><td>class_4_dice_score</td><td>0.5717</td></tr><tr><td>class_4_f_beta_score</td><td>0.50938</td></tr><tr><td>class_5_dice_score</td><td>0.50811</td></tr><tr><td>class_5_f_beta_score</td><td>0.53513</td></tr><tr><td>class_6_dice_score</td><td>0.84845</td></tr><tr><td>class_6_f_beta_score</td><td>0.88391</td></tr><tr><td>epoch</td><td>309</td></tr><tr><td>overall_mean_dice_score</td><td>0.61121</td></tr><tr><td>overall_mean_f_beta_score</td><td>0.6578</td></tr><tr><td>train_epoch_loss</td><td>0.57605</td></tr><tr><td>val_epoch_loss</td><td>0.53658</td></tr></table><br/></div></div>"
      ],
      "text/plain": [
       "<IPython.core.display.HTML object>"
      ]
     },
     "metadata": {},
     "output_type": "display_data"
    },
    {
     "data": {
      "text/html": [
       " View run <strong style=\"color:#cdcd00\">SwinUNETR_lr0.001_bs6_lambda0.5_20241221_022718</strong> at: <a href='https://wandb.ai/limbw/czii_SwinUnetR/runs/co5b6kzy' target=\"_blank\">https://wandb.ai/limbw/czii_SwinUnetR/runs/co5b6kzy</a><br> View project at: <a href='https://wandb.ai/limbw/czii_SwinUnetR' target=\"_blank\">https://wandb.ai/limbw/czii_SwinUnetR</a><br>Synced 5 W&B file(s), 0 media file(s), 0 artifact file(s) and 0 other file(s)"
      ],
      "text/plain": [
       "<IPython.core.display.HTML object>"
      ]
     },
     "metadata": {},
     "output_type": "display_data"
    },
    {
     "data": {
      "text/html": [
       "Find logs at: <code>.\\wandb\\run-20241221_022719-co5b6kzy\\logs</code>"
      ],
      "text/plain": [
       "<IPython.core.display.HTML object>"
      ]
     },
     "metadata": {},
     "output_type": "display_data"
    }
   ],
   "source": [
    "train_model(\n",
    "    model=model,\n",
    "    train_loader=train_loader,\n",
    "    val_loader=val_loader,\n",
    "    criterion=criterion,\n",
    "    optimizer=optimizer,\n",
    "    num_epochs=num_epochs,\n",
    "    patience=100,\n",
    "    device=device,\n",
    "    start_epoch=start_epoch,\n",
    "    best_val_loss=best_val_loss,\n",
    "    best_val_fbeta_score=best_val_fbeta_score,\n",
    "    calculate_dice_interval=1\n",
    ")"
   ]
  },
  {
   "cell_type": "code",
   "execution_count": 15,
   "metadata": {},
   "outputs": [
    {
     "ename": "SyntaxError",
     "evalue": "invalid syntax (879943805.py, line 1)",
     "output_type": "error",
     "traceback": [
      "\u001b[1;36m  Cell \u001b[1;32mIn[15], line 1\u001b[1;36m\u001b[0m\n\u001b[1;33m    if:\u001b[0m\n\u001b[1;37m      ^\u001b[0m\n\u001b[1;31mSyntaxError\u001b[0m\u001b[1;31m:\u001b[0m invalid syntax\n"
     ]
    }
   ],
   "source": [
    "if:"
   ]
  },
  {
   "cell_type": "markdown",
   "metadata": {},
   "source": [
    "# VAl"
   ]
  },
  {
   "cell_type": "code",
   "execution_count": null,
   "metadata": {},
   "outputs": [
    {
     "data": {
      "text/html": [
       "Finishing last run (ID:fs6utwyo) before initializing another..."
      ],
      "text/plain": [
       "<IPython.core.display.HTML object>"
      ]
     },
     "metadata": {},
     "output_type": "display_data"
    },
    {
     "data": {
      "application/vnd.jupyter.widget-view+json": {
       "model_id": "29cc3ae761af43baae5aca60b5d2e7f4",
       "version_major": 2,
       "version_minor": 0
      },
      "text/plain": [
       "VBox(children=(Label(value='0.009 MB of 0.009 MB uploaded\\r'), FloatProgress(value=1.0, max=1.0)))"
      ]
     },
     "metadata": {},
     "output_type": "display_data"
    },
    {
     "data": {
      "text/html": [
       "<style>\n",
       "    table.wandb td:nth-child(1) { padding: 0 10px; text-align: left ; width: auto;} td:nth-child(2) {text-align: left ; width: 100%}\n",
       "    .wandb-row { display: flex; flex-direction: row; flex-wrap: wrap; justify-content: flex-start; width: 100% }\n",
       "    .wandb-col { display: flex; flex-direction: column; flex-basis: 100%; flex: 1; padding: 10px; }\n",
       "    </style>\n",
       "<div class=\"wandb-row\"><div class=\"wandb-col\"><h3>Run history:</h3><br/><table class=\"wandb\"><tr><td>class_0_dice_score</td><td>▁</td></tr><tr><td>class_0_f_beta_score</td><td>▁</td></tr><tr><td>class_1_dice_score</td><td>▁</td></tr><tr><td>class_1_f_beta_score</td><td>▁</td></tr><tr><td>class_2_dice_score</td><td>▁</td></tr><tr><td>class_2_f_beta_score</td><td>▁</td></tr><tr><td>class_3_dice_score</td><td>▁</td></tr><tr><td>class_3_f_beta_score</td><td>▁</td></tr><tr><td>class_4_dice_score</td><td>▁</td></tr><tr><td>class_4_f_beta_score</td><td>▁</td></tr><tr><td>class_5_dice_score</td><td>▁</td></tr><tr><td>class_5_f_beta_score</td><td>▁</td></tr><tr><td>class_6_dice_score</td><td>▁</td></tr><tr><td>class_6_f_beta_score</td><td>▁</td></tr><tr><td>epoch</td><td>▁▁▁▁▁▁▁▁▁▁▁▁▁▁▁▁</td></tr><tr><td>overall_mean_dice_score</td><td>▁</td></tr><tr><td>overall_mean_f_beta_score</td><td>▁</td></tr><tr><td>val_epoch_loss</td><td>▁</td></tr></table><br/></div><div class=\"wandb-col\"><h3>Run summary:</h3><br/><table class=\"wandb\"><tr><td>class_0_dice_score</td><td>0.65703</td></tr><tr><td>class_0_f_beta_score</td><td>0.50748</td></tr><tr><td>class_1_dice_score</td><td>0.53332</td></tr><tr><td>class_1_f_beta_score</td><td>0.64703</td></tr><tr><td>class_2_dice_score</td><td>0.00286</td></tr><tr><td>class_2_f_beta_score</td><td>0.02334</td></tr><tr><td>class_3_dice_score</td><td>0.23703</td></tr><tr><td>class_3_f_beta_score</td><td>0.23033</td></tr><tr><td>class_4_dice_score</td><td>0.65487</td></tr><tr><td>class_4_f_beta_score</td><td>0.62525</td></tr><tr><td>class_5_dice_score</td><td>0.47899</td></tr><tr><td>class_5_f_beta_score</td><td>0.51448</td></tr><tr><td>class_6_dice_score</td><td>0.42545</td></tr><tr><td>class_6_f_beta_score</td><td>0.47197</td></tr><tr><td>epoch</td><td>1</td></tr><tr><td>overall_mean_dice_score</td><td>0.42708</td></tr><tr><td>overall_mean_f_beta_score</td><td>0.43141</td></tr><tr><td>val_epoch_loss</td><td>0.7152</td></tr></table><br/></div></div>"
      ],
      "text/plain": [
       "<IPython.core.display.HTML object>"
      ]
     },
     "metadata": {},
     "output_type": "display_data"
    },
    {
     "data": {
      "text/html": [
       " View run <strong style=\"color:#cdcd00\">SwinUNETR96_96_lr0.001_lambda0.52_batch2</strong> at: <a href='https://wandb.ai/waooang/czii_SwinUnetR_val/runs/fs6utwyo' target=\"_blank\">https://wandb.ai/waooang/czii_SwinUnetR_val/runs/fs6utwyo</a><br/> View project at: <a href='https://wandb.ai/waooang/czii_SwinUnetR_val' target=\"_blank\">https://wandb.ai/waooang/czii_SwinUnetR_val</a><br/>Synced 4 W&B file(s), 0 media file(s), 3 artifact file(s) and 0 other file(s)"
      ],
      "text/plain": [
       "<IPython.core.display.HTML object>"
      ]
     },
     "metadata": {},
     "output_type": "display_data"
    },
    {
     "data": {
      "text/html": [
       "Find logs at: <code>.\\wandb\\run-20241219_200219-fs6utwyo\\logs</code>"
      ],
      "text/plain": [
       "<IPython.core.display.HTML object>"
      ]
     },
     "metadata": {},
     "output_type": "display_data"
    },
    {
     "data": {
      "text/html": [
       "Successfully finished last run (ID:fs6utwyo). Initializing new run:<br/>"
      ],
      "text/plain": [
       "<IPython.core.display.HTML object>"
      ]
     },
     "metadata": {},
     "output_type": "display_data"
    },
    {
     "data": {
      "text/html": [
       "Tracking run with wandb version 0.18.3"
      ],
      "text/plain": [
       "<IPython.core.display.HTML object>"
      ]
     },
     "metadata": {},
     "output_type": "display_data"
    },
    {
     "data": {
      "text/html": [
       "Run data is saved locally in <code>e:\\Workspace\\czll\\wandb\\run-20241219_200454-121l7bn3</code>"
      ],
      "text/plain": [
       "<IPython.core.display.HTML object>"
      ]
     },
     "metadata": {},
     "output_type": "display_data"
    },
    {
     "data": {
      "text/html": [
       "Syncing run <strong><a href='https://wandb.ai/waooang/czii_SwinUnetR_val/runs/121l7bn3' target=\"_blank\">SwinUNETR96_96_lr0.001_lambda0.52_batch2</a></strong> to <a href='https://wandb.ai/waooang/czii_SwinUnetR_val' target=\"_blank\">Weights & Biases</a> (<a href='https://wandb.me/run' target=\"_blank\">docs</a>)<br/>"
      ],
      "text/plain": [
       "<IPython.core.display.HTML object>"
      ]
     },
     "metadata": {},
     "output_type": "display_data"
    },
    {
     "data": {
      "text/html": [
       " View project at <a href='https://wandb.ai/waooang/czii_SwinUnetR_val' target=\"_blank\">https://wandb.ai/waooang/czii_SwinUnetR_val</a>"
      ],
      "text/plain": [
       "<IPython.core.display.HTML object>"
      ]
     },
     "metadata": {},
     "output_type": "display_data"
    },
    {
     "data": {
      "text/html": [
       " View run at <a href='https://wandb.ai/waooang/czii_SwinUnetR_val/runs/121l7bn3' target=\"_blank\">https://wandb.ai/waooang/czii_SwinUnetR_val/runs/121l7bn3</a>"
      ],
      "text/plain": [
       "<IPython.core.display.HTML object>"
      ]
     },
     "metadata": {},
     "output_type": "display_data"
    },
    {
     "name": "stderr",
     "output_type": "stream",
     "text": [
      "Loading dataset: 100%|██████████| 4/4 [00:06<00:00,  1.58s/it]\n",
      "C:\\Users\\Seungwoo\\AppData\\Local\\Temp\\ipykernel_21000\\1177025787.py:95: FutureWarning: You are using `torch.load` with `weights_only=False` (the current default value), which uses the default pickle module implicitly. It is possible to construct malicious pickle data which will execute arbitrary code during unpickling (See https://github.com/pytorch/pytorch/blob/main/SECURITY.md#untrusted-models for more details). In a future release, the default value for `weights_only` will be flipped to `True`. This limits the functions that could be executed during unpickling. Arbitrary objects will no longer be allowed to be loaded via this mode unless they are explicitly allowlisted by the user via `torch.serialization.add_safe_globals`. We recommend you start setting `weights_only=True` for any use case where you don't have full control of the loaded file. Please open an issue on GitHub for any issues related to this experimental feature.\n",
      "  checkpoint = torch.load(pretrain_path, map_location=device)\n",
      "Validation: 100%|██████████| 4/4 [00:01<00:00,  2.38it/s, loss=0.865]"
     ]
    },
    {
     "name": "stdout",
     "output_type": "stream",
     "text": [
      "Validation Dice Score\n",
      "Class 0: 0.6570, Class 1: 0.5333, Class 2: 0.0029, Class 3: 0.2370, \n",
      "Class 4: 0.6549, Class 5: 0.4790, Class 6: 0.4255, \n",
      "Validation F-beta Score\n",
      "Class 0: 0.5075, Class 1: 0.6470, Class 2: 0.0233, Class 3: 0.2303, \n",
      "Class 4: 0.6252, Class 5: 0.5145, Class 6: 0.4720, \n",
      "Overall Mean Dice Score: 0.4659\n",
      "Overall Mean F-beta Score: 0.4978\n",
      "\n"
     ]
    },
    {
     "name": "stderr",
     "output_type": "stream",
     "text": [
      "\n"
     ]
    }
   ],
   "source": [
    "from monai.data import DataLoader, Dataset, CacheDataset\n",
    "from monai.transforms import (\n",
    "    Compose, LoadImaged, EnsureChannelFirstd, NormalizeIntensityd,\n",
    "    Orientationd, CropForegroundd, GaussianSmoothd, ScaleIntensityd,\n",
    "    RandSpatialCropd, RandRotate90d, RandFlipd, RandGaussianNoised,\n",
    "    ToTensord, RandCropByLabelClassesd\n",
    ")\n",
    "from monai.metrics import DiceMetric\n",
    "from monai.networks.nets import UNETR, SwinUNETR\n",
    "from monai.losses import TverskyLoss\n",
    "import torch\n",
    "import numpy as np\n",
    "from tqdm import tqdm\n",
    "import wandb\n",
    "from src.dataset.dataset import make_val_dataloader\n",
    "\n",
    "val_img_dir = \"./datasets/val/images\"\n",
    "val_label_dir = \"./datasets/val/labels\"\n",
    "img_depth = 96\n",
    "img_size = 96  # Match your patch size\n",
    "n_classes = 7\n",
    "batch_size = 2 # 13.8GB GPU memory required for 128x128 img size\n",
    "num_samples = batch_size # 한 이미지에서 뽑을 샘플 수\n",
    "loader_batch = 1\n",
    "lamda = 0.52\n",
    "\n",
    "wandb.init(\n",
    "    project='czii_SwinUnetR_val',  # 프로젝트 이름 설정\n",
    "    name='SwinUNETR96_96_lr0.001_lambda0.52_batch2',         # 실행(run) 이름 설정\n",
    "    config={\n",
    "        'learning_rate': 0.001,\n",
    "        'batch_size': batch_size,\n",
    "        'lambda': lamda,\n",
    "        'img_size': img_size,\n",
    "        'device': 'cuda',\n",
    "        \"checkpoint_dir\": \"./model_checkpoints/SwinUNETR96_96_lr0.001_lambda0.52_batch2\",\n",
    "        \n",
    "    }\n",
    ")\n",
    "\n",
    "non_random_transforms = Compose([\n",
    "    EnsureChannelFirstd(keys=[\"image\", \"label\"], channel_dim=\"no_channel\"),\n",
    "    NormalizeIntensityd(keys=\"image\"),\n",
    "    Orientationd(keys=[\"image\", \"label\"], axcodes=\"RAS\"),\n",
    "    GaussianSmoothd(\n",
    "        keys=[\"image\"],      # 변환을 적용할 키\n",
    "        sigma=[1.0, 1.0, 1.0]  # 각 축(x, y, z)의 시그마 값\n",
    "        ),\n",
    "])\n",
    "random_transforms = Compose([\n",
    "    RandCropByLabelClassesd(\n",
    "        keys=[\"image\", \"label\"],\n",
    "        label_key=\"label\",\n",
    "        spatial_size=[img_depth, img_size, img_size],\n",
    "        num_classes=n_classes,\n",
    "        num_samples=num_samples, \n",
    "        ratios=ratios_list,\n",
    "    ),\n",
    "    RandRotate90d(keys=[\"image\", \"label\"], prob=0.5, spatial_axes=[1, 2]),\n",
    "    RandFlipd(keys=[\"image\", \"label\"], prob=0.5, spatial_axis=0),\n",
    "])\n",
    "\n",
    "val_loader = make_val_dataloader(\n",
    "    val_img_dir, \n",
    "    val_label_dir, \n",
    "    non_random_transforms = non_random_transforms, \n",
    "    random_transforms = random_transforms, \n",
    "    batch_size = loader_batch,\n",
    "    num_workers=0\n",
    ")\n",
    "criterion = TverskyLoss(\n",
    "    alpha= 1 - lamda,  # FP에 대한 가중치\n",
    "    beta=lamda,       # FN에 대한 가중치\n",
    "    include_background=False,  # 배경 클래스 제외\n",
    "    softmax=True\n",
    ")\n",
    "    \n",
    "    \n",
    "from monai.metrics import DiceMetric\n",
    "\n",
    "img_size = 96\n",
    "img_depth = img_size\n",
    "n_classes = 7 \n",
    "\n",
    "device = torch.device(\"cuda\" if torch.cuda.is_available() else \"cpu\")\n",
    "pretrain_path = \"./model_checkpoints/SwinUNETR96_96_lr0.001_lambda0.52_batch2/best_model.pt\"\n",
    "model = SwinUNETR(\n",
    "    img_size=(img_depth, img_size, img_size),\n",
    "    in_channels=1,\n",
    "    out_channels=n_classes,\n",
    "    feature_size=48,\n",
    "    use_checkpoint=True,\n",
    ").to(device)\n",
    "# Pretrained weights 불러오기\n",
    "checkpoint = torch.load(pretrain_path, map_location=device)\n",
    "model.load_state_dict(checkpoint['model_state_dict'])\n",
    "\n",
    "val_loss, overall_mean_fbeta_score = validate_one_epoch(\n",
    "    model=model, \n",
    "    val_loader=val_loader, \n",
    "    criterion=criterion, \n",
    "    device=device, \n",
    "    epoch=0, \n",
    "    calculate_dice_interval=1\n",
    ")"
   ]
  },
  {
   "cell_type": "markdown",
   "metadata": {},
   "source": [
    "# Inference"
   ]
  },
  {
   "cell_type": "code",
   "execution_count": null,
   "metadata": {},
   "outputs": [],
   "source": [
    "from src.dataset.preprocessing import Preprocessor"
   ]
  },
  {
   "cell_type": "code",
   "execution_count": null,
   "metadata": {},
   "outputs": [
    {
     "name": "stdout",
     "output_type": "stream",
     "text": [
      "Done.\n"
     ]
    }
   ],
   "source": [
    "from monai.inferers import sliding_window_inference\n",
    "from monai.transforms import Compose, EnsureChannelFirstd, NormalizeIntensityd, Orientationd, GaussianSmoothd\n",
    "from monai.data import DataLoader, Dataset, CacheDataset\n",
    "from monai.networks.nets import SwinUNETR\n",
    "from pathlib import Path\n",
    "import numpy as np\n",
    "import copick\n",
    "\n",
    "import torch\n",
    "print(\"Done.\")"
   ]
  },
  {
   "cell_type": "code",
   "execution_count": null,
   "metadata": {},
   "outputs": [
    {
     "name": "stdout",
     "output_type": "stream",
     "text": [
      "Config file written to ./kaggle/working/copick.config\n",
      "file length: 7\n"
     ]
    }
   ],
   "source": [
    "config_blob = \"\"\"{\n",
    "    \"name\": \"czii_cryoet_mlchallenge_2024\",\n",
    "    \"description\": \"2024 CZII CryoET ML Challenge training data.\",\n",
    "    \"version\": \"1.0.0\",\n",
    "\n",
    "    \"pickable_objects\": [\n",
    "        {\n",
    "            \"name\": \"apo-ferritin\",\n",
    "            \"is_particle\": true,\n",
    "            \"pdb_id\": \"4V1W\",\n",
    "            \"label\": 1,\n",
    "            \"color\": [  0, 117, 220, 128],\n",
    "            \"radius\": 60,\n",
    "            \"map_threshold\": 0.0418\n",
    "        },\n",
    "        {\n",
    "          \"name\" : \"beta-amylase\",\n",
    "            \"is_particle\": true,\n",
    "            \"pdb_id\": \"8ZRZ\",\n",
    "            \"label\": 2,\n",
    "            \"color\": [255, 255, 255, 128],\n",
    "            \"radius\": 90,\n",
    "            \"map_threshold\": 0.0578  \n",
    "        },\n",
    "        {\n",
    "            \"name\": \"beta-galactosidase\",\n",
    "            \"is_particle\": true,\n",
    "            \"pdb_id\": \"6X1Q\",\n",
    "            \"label\": 3,\n",
    "            \"color\": [ 76,   0,  92, 128],\n",
    "            \"radius\": 90,\n",
    "            \"map_threshold\": 0.0578\n",
    "        },\n",
    "        {\n",
    "            \"name\": \"ribosome\",\n",
    "            \"is_particle\": true,\n",
    "            \"pdb_id\": \"6EK0\",\n",
    "            \"label\": 4,\n",
    "            \"color\": [  0,  92,  49, 128],\n",
    "            \"radius\": 150,\n",
    "            \"map_threshold\": 0.0374\n",
    "        },\n",
    "        {\n",
    "            \"name\": \"thyroglobulin\",\n",
    "            \"is_particle\": true,\n",
    "            \"pdb_id\": \"6SCJ\",\n",
    "            \"label\": 5,\n",
    "            \"color\": [ 43, 206,  72, 128],\n",
    "            \"radius\": 130,\n",
    "            \"map_threshold\": 0.0278\n",
    "        },\n",
    "        {\n",
    "            \"name\": \"virus-like-particle\",\n",
    "            \"is_particle\": true,\n",
    "            \"label\": 6,\n",
    "            \"color\": [255, 204, 153, 128],\n",
    "            \"radius\": 135,\n",
    "            \"map_threshold\": 0.201\n",
    "        },\n",
    "        {\n",
    "            \"name\": \"membrane\",\n",
    "            \"is_particle\": false,\n",
    "            \"label\": 8,\n",
    "            \"color\": [100, 100, 100, 128]\n",
    "        },\n",
    "        {\n",
    "            \"name\": \"background\",\n",
    "            \"is_particle\": false,\n",
    "            \"label\": 9,\n",
    "            \"color\": [10, 150, 200, 128]\n",
    "        }\n",
    "    ],\n",
    "\n",
    "    \"overlay_root\": \"./kaggle/working/overlay\",\n",
    "\n",
    "    \"overlay_fs_args\": {\n",
    "        \"auto_mkdir\": true\n",
    "    },\n",
    "\n",
    "    \"static_root\": \"./kaggle/input/czii-cryo-et-object-identification/test/static\"\n",
    "}\"\"\"\n",
    "\n",
    "copick_config_path = \"./kaggle/working/copick.config\"\n",
    "preprocessor = Preprocessor(config_blob,copick_config_path=copick_config_path)\n",
    "non_random_transforms = Compose([\n",
    "    EnsureChannelFirstd(keys=[\"image\"], channel_dim=\"no_channel\"),\n",
    "    NormalizeIntensityd(keys=\"image\"),\n",
    "    Orientationd(keys=[\"image\"], axcodes=\"RAS\"),\n",
    "    GaussianSmoothd(\n",
    "        keys=[\"image\"],      # 변환을 적용할 키\n",
    "        sigma=[1.0, 1.0, 1.0]  # 각 축(x, y, z)의 시그마 값\n",
    "        ),\n",
    "    ])"
   ]
  },
  {
   "cell_type": "code",
   "execution_count": null,
   "metadata": {},
   "outputs": [
    {
     "name": "stderr",
     "output_type": "stream",
     "text": [
      "c:\\ProgramData\\anaconda3\\envs\\ship\\Lib\\site-packages\\monai\\utils\\deprecate_utils.py:221: FutureWarning: monai.networks.nets.swin_unetr SwinUNETR.__init__:img_size: Argument `img_size` has been deprecated since version 1.3. It will be removed in version 1.5. The img_size argument is not required anymore and checks on the input size are run during forward().\n",
      "  warn_deprecated(argname, msg, warning_category)\n",
      "C:\\Users\\Seungwoo\\AppData\\Local\\Temp\\ipykernel_6248\\2937359115.py:15: FutureWarning: You are using `torch.load` with `weights_only=False` (the current default value), which uses the default pickle module implicitly. It is possible to construct malicious pickle data which will execute arbitrary code during unpickling (See https://github.com/pytorch/pytorch/blob/main/SECURITY.md#untrusted-models for more details). In a future release, the default value for `weights_only` will be flipped to `True`. This limits the functions that could be executed during unpickling. Arbitrary objects will no longer be allowed to be loaded via this mode unless they are explicitly allowlisted by the user via `torch.serialization.add_safe_globals`. We recommend you start setting `weights_only=True` for any use case where you don't have full control of the loaded file. Please open an issue on GitHub for any issues related to this experimental feature.\n",
      "  checkpoint = torch.load(pretrain_path, map_location=device)\n"
     ]
    },
    {
     "data": {
      "text/plain": [
       "<All keys matched successfully>"
      ]
     },
     "execution_count": 15,
     "metadata": {},
     "output_type": "execute_result"
    }
   ],
   "source": [
    "img_size = 96\n",
    "img_depth = img_size\n",
    "n_classes = 7 \n",
    "\n",
    "device = torch.device(\"cuda\" if torch.cuda.is_available() else \"cpu\")\n",
    "pretrain_path = \"./model_checkpoints/SwinUNETR96_96_lr0.001_lambda0.52_batch2/best_model.pt\"\n",
    "model = SwinUNETR(\n",
    "    img_size=(img_depth, img_size, img_size),\n",
    "    in_channels=1,\n",
    "    out_channels=n_classes,\n",
    "    feature_size=48,\n",
    "    use_checkpoint=True,\n",
    ").to(device)\n",
    "# Pretrained weights 불러오기\n",
    "checkpoint = torch.load(pretrain_path, map_location=device)\n",
    "model.load_state_dict(checkpoint['model_state_dict'])\n"
   ]
  },
  {
   "cell_type": "code",
   "execution_count": null,
   "metadata": {},
   "outputs": [
    {
     "name": "stderr",
     "output_type": "stream",
     "text": [
      "Validation:   0%|          | 0/4 [00:03<?, ?it/s, loss=0.764]\n"
     ]
    },
    {
     "ename": "ZeroDivisionError",
     "evalue": "integer modulo by zero",
     "output_type": "error",
     "traceback": [
      "\u001b[1;31m---------------------------------------------------------------------------\u001b[0m",
      "\u001b[1;31mZeroDivisionError\u001b[0m                         Traceback (most recent call last)",
      "Cell \u001b[1;32mIn[16], line 1\u001b[0m\n\u001b[1;32m----> 1\u001b[0m val_loss \u001b[38;5;241m=\u001b[39m \u001b[43mvalidate_one_epoch\u001b[49m\u001b[43m(\u001b[49m\n\u001b[0;32m      2\u001b[0m \u001b[43m            \u001b[49m\u001b[43mmodel\u001b[49m\u001b[38;5;241;43m=\u001b[39;49m\u001b[43mmodel\u001b[49m\u001b[43m,\u001b[49m\u001b[43m \u001b[49m\n\u001b[0;32m      3\u001b[0m \u001b[43m            \u001b[49m\u001b[43mval_loader\u001b[49m\u001b[38;5;241;43m=\u001b[39;49m\u001b[43mval_loader\u001b[49m\u001b[43m,\u001b[49m\u001b[43m \u001b[49m\n\u001b[0;32m      4\u001b[0m \u001b[43m            \u001b[49m\u001b[43mcriterion\u001b[49m\u001b[38;5;241;43m=\u001b[39;49m\u001b[43mcriterion\u001b[49m\u001b[43m,\u001b[49m\u001b[43m \u001b[49m\n\u001b[0;32m      5\u001b[0m \u001b[43m            \u001b[49m\u001b[43mdevice\u001b[49m\u001b[38;5;241;43m=\u001b[39;49m\u001b[43mdevice\u001b[49m\u001b[43m,\u001b[49m\u001b[43m \u001b[49m\n\u001b[0;32m      6\u001b[0m \u001b[43m            \u001b[49m\u001b[43mepoch\u001b[49m\u001b[38;5;241;43m=\u001b[39;49m\u001b[38;5;241;43m1\u001b[39;49m\u001b[43m,\u001b[49m\u001b[43m \u001b[49m\n\u001b[0;32m      7\u001b[0m \u001b[43m            \u001b[49m\u001b[43mcalculate_dice_interval\u001b[49m\u001b[38;5;241;43m=\u001b[39;49m\u001b[38;5;241;43m0\u001b[39;49m\n\u001b[0;32m      8\u001b[0m \u001b[43m        \u001b[49m\u001b[43m)\u001b[49m\n",
      "Cell \u001b[1;32mIn[11], line 64\u001b[0m, in \u001b[0;36mvalidate_one_epoch\u001b[1;34m(model, val_loader, criterion, device, epoch, calculate_dice_interval)\u001b[0m\n\u001b[0;32m     61\u001b[0m pbar\u001b[38;5;241m.\u001b[39mset_postfix(loss\u001b[38;5;241m=\u001b[39mloss\u001b[38;5;241m.\u001b[39mitem())\n\u001b[0;32m     63\u001b[0m \u001b[38;5;66;03m# 각 클래스별 Dice 점수 계산\u001b[39;00m\n\u001b[1;32m---> 64\u001b[0m \u001b[38;5;28;01mif\u001b[39;00m \u001b[43mepoch\u001b[49m\u001b[43m \u001b[49m\u001b[38;5;241;43m%\u001b[39;49m\u001b[43m \u001b[49m\u001b[43mcalculate_dice_interval\u001b[49m \u001b[38;5;241m==\u001b[39m \u001b[38;5;241m0\u001b[39m:\n\u001b[0;32m     65\u001b[0m     \u001b[38;5;28;01mfor\u001b[39;00m i \u001b[38;5;129;01min\u001b[39;00m \u001b[38;5;28mrange\u001b[39m(n_classes):\n\u001b[0;32m     66\u001b[0m         pred_i \u001b[38;5;241m=\u001b[39m (preds \u001b[38;5;241m==\u001b[39m i)\n",
      "\u001b[1;31mZeroDivisionError\u001b[0m: integer modulo by zero"
     ]
    }
   ],
   "source": [
    "val_loss = validate_one_epoch(\n",
    "            model=model, \n",
    "            val_loader=val_loader, \n",
    "            criterion=criterion, \n",
    "            device=device, \n",
    "            epoch=1, \n",
    "            calculate_dice_interval=0\n",
    "        )"
   ]
  },
  {
   "cell_type": "code",
   "execution_count": null,
   "metadata": {},
   "outputs": [
    {
     "name": "stdout",
     "output_type": "stream",
     "text": [
      "Processing volume 1/7\n"
     ]
    },
    {
     "name": "stderr",
     "output_type": "stream",
     "text": [
      "Loading dataset: 100%|██████████| 1/1 [00:01<00:00,  1.94s/it]\n"
     ]
    },
    {
     "name": "stdout",
     "output_type": "stream",
     "text": [
      "Processing volume 2/7\n"
     ]
    },
    {
     "name": "stderr",
     "output_type": "stream",
     "text": [
      "Loading dataset: 100%|██████████| 1/1 [00:01<00:00,  1.89s/it]\n"
     ]
    },
    {
     "name": "stdout",
     "output_type": "stream",
     "text": [
      "Processing volume 3/7\n"
     ]
    },
    {
     "name": "stderr",
     "output_type": "stream",
     "text": [
      "Loading dataset: 100%|██████████| 1/1 [00:01<00:00,  1.79s/it]\n"
     ]
    },
    {
     "name": "stdout",
     "output_type": "stream",
     "text": [
      "Submission saved to: submission.csv\n"
     ]
    }
   ],
   "source": [
    "import torch\n",
    "import numpy as np\n",
    "from scipy.ndimage import label, center_of_mass\n",
    "import pandas as pd\n",
    "from tqdm import tqdm\n",
    "from monai.data import CacheDataset, DataLoader\n",
    "from monai.transforms import Compose, NormalizeIntensity\n",
    "import cc3d\n",
    "\n",
    "def dict_to_df(coord_dict, experiment_name):\n",
    "    all_coords = []\n",
    "    all_labels = []\n",
    "    \n",
    "    for label, coords in coord_dict.items():\n",
    "        all_coords.append(coords)\n",
    "        all_labels.extend([label] * len(coords))\n",
    "    \n",
    "    all_coords = np.vstack(all_coords)\n",
    "    df = pd.DataFrame({\n",
    "        'experiment': experiment_name,\n",
    "        'particle_type': all_labels,\n",
    "        'x': all_coords[:, 0],\n",
    "        'y': all_coords[:, 1],\n",
    "        'z': all_coords[:, 2]\n",
    "    })\n",
    "    return df\n",
    "\n",
    "id_to_name = {1: \"apo-ferritin\", \n",
    "              2: \"beta-amylase\",\n",
    "              3: \"beta-galactosidase\", \n",
    "              4: \"ribosome\", \n",
    "              5: \"thyroglobulin\", \n",
    "              6: \"virus-like-particle\"}\n",
    "BLOB_THRESHOLD = 200\n",
    "CERTAINTY_THRESHOLD = 0.05\n",
    "\n",
    "classes = [1, 2, 3, 4, 5, 6]\n",
    "\n",
    "model.eval()\n",
    "with torch.no_grad():\n",
    "    location_dfs = []  # DataFrame 리스트로 초기화\n",
    "    \n",
    "    for vol_idx, run in enumerate(preprocessor.root.runs):\n",
    "        print(f\"Processing volume {vol_idx + 1}/{len(preprocessor.root.runs)}\")\n",
    "        tomogram = preprocessor.processing(run=run, task=\"task\")\n",
    "        task_files = [{\"image\": tomogram}]\n",
    "        task_ds = CacheDataset(data=task_files, transform=non_random_transforms)\n",
    "        task_loader = DataLoader(task_ds, batch_size=1, num_workers=0)\n",
    "        \n",
    "        for task_data in task_loader:\n",
    "            images = task_data['image'].to(\"cuda\")\n",
    "            outputs = sliding_window_inference(\n",
    "                inputs=images,\n",
    "                roi_size=(96, 96, 96),  # ROI 크기\n",
    "                sw_batch_size=4,\n",
    "                predictor=model.forward,\n",
    "                overlap=0.1,\n",
    "                sw_device=\"cuda\",\n",
    "                device=\"cpu\",\n",
    "                buffer_steps=1,\n",
    "                buffer_dim=-1\n",
    "            )\n",
    "            outputs = outputs.argmax(dim=1).squeeze(0).cpu().numpy()  # 클래스 채널 예측\n",
    "            location = {}  # 좌표 저장용 딕셔너리\n",
    "            for c in classes:\n",
    "                cc = cc3d.connected_components(outputs == c)  # cc3d 라벨링\n",
    "                stats = cc3d.statistics(cc)\n",
    "                zyx = stats['centroids'][1:] * 10.012444  # 스케일 변환\n",
    "                zyx_large = zyx[stats['voxel_counts'][1:] > BLOB_THRESHOLD]  # 크기 필터링\n",
    "                xyz = np.ascontiguousarray(zyx_large[:, ::-1])  # 좌표 스왑 (z, y, x -> x, y, z)\n",
    "\n",
    "                location[id_to_name[c]] = xyz  # ID 이름 매칭 저장\n",
    "\n",
    "            # 데이터프레임 변환\n",
    "            df = dict_to_df(location, run.name)\n",
    "            location_dfs.append(df)  # 리스트에 추가\n",
    "        \n",
    "        # if vol_idx == 2:\n",
    "        #     break\n",
    "    \n",
    "    # DataFrame 병합\n",
    "    final_df = pd.concat(location_dfs, ignore_index=True)\n",
    "    \n",
    "    # ID 추가 및 CSV 저장\n",
    "    final_df.insert(loc=0, column='id', value=np.arange(len(final_df)))\n",
    "    final_df.to_csv(\"submission.csv\", index=False)\n",
    "    print(\"Submission saved to: submission.csv\")\n"
   ]
  }
 ],
 "metadata": {
  "kernelspec": {
   "display_name": "UM",
   "language": "python",
   "name": "python3"
  },
  "language_info": {
   "codemirror_mode": {
    "name": "ipython",
    "version": 3
   },
   "file_extension": ".py",
   "mimetype": "text/x-python",
   "name": "python",
   "nbconvert_exporter": "python",
   "pygments_lexer": "ipython3",
   "version": "3.12.7"
  }
 },
 "nbformat": 4,
 "nbformat_minor": 2
}
