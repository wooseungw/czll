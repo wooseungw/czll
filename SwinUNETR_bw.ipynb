{
 "cells": [
  {
   "cell_type": "code",
   "execution_count": 1,
   "metadata": {},
   "outputs": [
    {
     "name": "stderr",
     "output_type": "stream",
     "text": [
      "c:\\Users\\pook0\\.conda\\envs\\UM\\Lib\\site-packages\\tqdm\\auto.py:21: TqdmWarning: IProgress not found. Please update jupyter and ipywidgets. See https://ipywidgets.readthedocs.io/en/stable/user_install.html\n",
      "  from .autonotebook import tqdm as notebook_tqdm\n"
     ]
    },
    {
     "name": "stdout",
     "output_type": "stream",
     "text": [
      "MONAI version: 1.4.0\n",
      "Numpy version: 1.26.4\n",
      "Pytorch version: 2.4.1+cu121\n",
      "MONAI flags: HAS_EXT = False, USE_COMPILED = False, USE_META_DICT = False\n",
      "MONAI rev id: 46a5272196a6c2590ca2589029eed8e4d56ff008\n",
      "MONAI __file__: c:\\Users\\<username>\\.conda\\envs\\UM\\Lib\\site-packages\\monai\\__init__.py\n",
      "\n",
      "Optional dependencies:\n",
      "Pytorch Ignite version: NOT INSTALLED or UNKNOWN VERSION.\n",
      "ITK version: NOT INSTALLED or UNKNOWN VERSION.\n",
      "Nibabel version: 5.3.2\n",
      "scikit-image version: 0.24.0\n",
      "scipy version: 1.14.1\n",
      "Pillow version: 10.2.0\n",
      "Tensorboard version: 2.18.0\n",
      "gdown version: 5.2.0\n",
      "TorchVision version: 0.19.1+cu121\n",
      "tqdm version: 4.66.5\n",
      "lmdb version: NOT INSTALLED or UNKNOWN VERSION.\n",
      "psutil version: 6.0.0\n",
      "pandas version: 2.2.3\n",
      "einops version: 0.8.0\n",
      "transformers version: NOT INSTALLED or UNKNOWN VERSION.\n",
      "mlflow version: 2.17.2\n",
      "pynrrd version: NOT INSTALLED or UNKNOWN VERSION.\n",
      "clearml version: NOT INSTALLED or UNKNOWN VERSION.\n",
      "\n",
      "For details about installing the optional dependencies, please visit:\n",
      "    https://docs.monai.io/en/latest/installation.html#installing-the-recommended-dependencies\n",
      "\n"
     ]
    }
   ],
   "source": [
    "import os\n",
    "import shutil\n",
    "import tempfile\n",
    "\n",
    "import matplotlib.pyplot as plt\n",
    "from tqdm import tqdm\n",
    "\n",
    "from monai.losses import DiceCELoss\n",
    "from monai.inferers import sliding_window_inference\n",
    "from monai.transforms import (\n",
    "    AsDiscrete,\n",
    "    EnsureChannelFirstd,\n",
    "    Compose,\n",
    "    CropForegroundd,\n",
    "    LoadImaged,\n",
    "    Orientationd,\n",
    "    RandFlipd,\n",
    "    RandCropByPosNegLabeld,\n",
    "    RandShiftIntensityd,\n",
    "    ScaleIntensityRanged,\n",
    "    Spacingd,\n",
    "    RandRotate90d,\n",
    ")\n",
    "\n",
    "from monai.config import print_config\n",
    "from monai.metrics import DiceMetric\n",
    "from monai.networks.nets import UNETR, SwinUNETR\n",
    "\n",
    "from monai.data import (\n",
    "    DataLoader,\n",
    "    CacheDataset,\n",
    "    load_decathlon_datalist,\n",
    "    decollate_batch,\n",
    ")\n",
    "\n",
    "\n",
    "import torch\n",
    "\n",
    "print_config()"
   ]
  },
  {
   "cell_type": "code",
   "execution_count": 2,
   "metadata": {},
   "outputs": [
    {
     "name": "stdout",
     "output_type": "stream",
     "text": [
      "클래스 비율: {0: 0.001162385214460072, 1: 0.725328373823085, 2: 0.013134952923398814, 3: 0.024410089503661515, 4: 0.0209229338602813, 5: 0.11740090666046728, 6: 0.09764035801464606}\n",
      "최종 합계: 1.0\n",
      "클래스 비율 리스트: [0.001162385214460072, 0.725328373823085, 0.013134952923398814, 0.024410089503661515, 0.0209229338602813, 0.11740090666046728, 0.09764035801464606]\n"
     ]
    }
   ],
   "source": [
    "class_info = {\n",
    "    0: {\"name\": \"background\", \"weight\": 100},  # weight 없음\n",
    "    1: {\"name\": \"apo-ferritin\", \"weight\": 62400},\n",
    "    2: {\"name\": \"beta-amylase\", \"weight\": 1130}, # 4130\n",
    "    3: {\"name\": \"beta-galactosidase\", \"weight\": 2100}, #3080\n",
    "    4: {\"name\": \"ribosome\", \"weight\": 1800},\n",
    "    5: {\"name\": \"thyroglobulin\", \"weight\": 10100},\n",
    "    6: {\"name\": \"virus-like-particle\", \"weight\": 8400},\n",
    "}\n",
    "\n",
    "# 가중치에 비례한 비율 계산\n",
    "raw_ratios = {\n",
    "    k: (v[\"weight\"] if v[\"weight\"] is not None else 0.01)  # 가중치 비례, None일 경우 기본값\n",
    "    for k, v in class_info.items()\n",
    "}\n",
    "total = sum(raw_ratios.values())\n",
    "ratios = {k: v / total for k, v in raw_ratios.items()}\n",
    "\n",
    "# 최종 합계가 1인지 확인\n",
    "final_total = sum(ratios.values())\n",
    "print(\"클래스 비율:\", ratios)\n",
    "print(\"최종 합계:\", final_total)\n",
    "\n",
    "# 비율을 리스트로 변환\n",
    "ratios_list = [ratios[k] for k in sorted(ratios.keys())]\n",
    "print(\"클래스 비율 리스트:\", ratios_list)"
   ]
  },
  {
   "cell_type": "code",
   "execution_count": 3,
   "metadata": {},
   "outputs": [],
   "source": [
    "from src.dataset.dataset import create_dataloaders\n",
    "from monai.transforms import (\n",
    "    Compose, LoadImaged, EnsureChannelFirstd, NormalizeIntensityd,\n",
    "    Orientationd, CropForegroundd, GaussianSmoothd, ScaleIntensityd,\n",
    "    RandSpatialCropd, RandRotate90d, RandFlipd, RandGaussianNoised,\n",
    "    ToTensord, RandCropByLabelClassesd\n",
    ")\n",
    "\n",
    "train_img_dir = \"./datasets/train/images\"\n",
    "train_label_dir = \"./datasets/train/labels\"\n",
    "val_img_dir = \"./datasets/val/images\"\n",
    "val_label_dir = \"./datasets/val/labels\"\n",
    "img_depth = 96\n",
    "img_size = 96  # Match your patch size\n",
    "n_classes = 7\n",
    "batch_size = 2 # 13.8GB GPU memory required for 128x128 img size\n",
    "num_samples = 1 # 한 이미지에서 뽑을 샘플 수\n",
    "loader_batch = batch_size // num_samples\n",
    "\n",
    "non_random_transforms = Compose([\n",
    "    EnsureChannelFirstd(keys=[\"image\", \"label\"], channel_dim=\"no_channel\"),\n",
    "    NormalizeIntensityd(keys=\"image\"),\n",
    "    Orientationd(keys=[\"image\", \"label\"], axcodes=\"RAS\")\n",
    "])\n",
    "random_transforms = Compose([\n",
    "    RandCropByLabelClassesd(\n",
    "        keys=[\"image\", \"label\"],\n",
    "        label_key=\"label\",\n",
    "        spatial_size=[img_depth, img_size, img_size],\n",
    "        num_classes=n_classes,\n",
    "        num_samples=num_samples, \n",
    "        ratios=ratios_list,\n",
    "    ),\n",
    "    RandRotate90d(keys=[\"image\", \"label\"], prob=0.5, spatial_axes=[1, 2]),\n",
    "    RandFlipd(keys=[\"image\", \"label\"], prob=0.5, spatial_axis=0),\n",
    "])\n"
   ]
  },
  {
   "cell_type": "code",
   "execution_count": 4,
   "metadata": {},
   "outputs": [
    {
     "name": "stderr",
     "output_type": "stream",
     "text": [
      "Loading dataset: 100%|██████████| 20/20 [00:01<00:00, 11.89it/s]\n",
      "Loading dataset: 100%|██████████| 1/1 [00:00<00:00,  9.64it/s]\n"
     ]
    }
   ],
   "source": [
    "\n",
    "train_loader, val_loader = None, None\n",
    "train_loader, val_loader = create_dataloaders(\n",
    "    train_img_dir, \n",
    "    train_label_dir, \n",
    "    val_img_dir, \n",
    "    val_label_dir, \n",
    "    non_random_transforms = non_random_transforms, \n",
    "    random_transforms = random_transforms, \n",
    "    batch_size = loader_batch,\n",
    "    num_workers=0)"
   ]
  },
  {
   "cell_type": "markdown",
   "metadata": {},
   "source": [
    "https://monai.io/model-zoo.html"
   ]
  },
  {
   "cell_type": "code",
   "execution_count": 5,
   "metadata": {},
   "outputs": [
    {
     "name": "stdout",
     "output_type": "stream",
     "text": [
      "1.4.0\n"
     ]
    }
   ],
   "source": [
    "\n",
    "import monai\n",
    "print(monai.__version__)"
   ]
  },
  {
   "cell_type": "code",
   "execution_count": 6,
   "metadata": {},
   "outputs": [
    {
     "name": "stderr",
     "output_type": "stream",
     "text": [
      "c:\\Users\\pook0\\.conda\\envs\\UM\\Lib\\site-packages\\monai\\utils\\deprecate_utils.py:221: FutureWarning: monai.networks.nets.swin_unetr SwinUNETR.__init__:img_size: Argument `img_size` has been deprecated since version 1.3. It will be removed in version 1.5. The img_size argument is not required anymore and checks on the input size are run during forward().\n",
      "  warn_deprecated(argname, msg, warning_category)\n",
      "C:\\Users\\pook0\\AppData\\Local\\Temp\\ipykernel_20620\\2894765411.py:27: FutureWarning: You are using `torch.load` with `weights_only=False` (the current default value), which uses the default pickle module implicitly. It is possible to construct malicious pickle data which will execute arbitrary code during unpickling (See https://github.com/pytorch/pytorch/blob/main/SECURITY.md#untrusted-models for more details). In a future release, the default value for `weights_only` will be flipped to `True`. This limits the functions that could be executed during unpickling. Arbitrary objects will no longer be allowed to be loaded via this mode unless they are explicitly allowlisted by the user via `torch.serialization.add_safe_globals`. We recommend you start setting `weights_only=True` for any use case where you don't have full control of the loaded file. Please open an issue on GitHub for any issues related to this experimental feature.\n",
      "  weight = torch.load(pretrain_path, map_location=device)\n",
      "C:\\Users\\pook0\\AppData\\Local\\Temp\\ipykernel_20620\\2894765411.py:60: FutureWarning: You are using `torch.load` with `weights_only=False` (the current default value), which uses the default pickle module implicitly. It is possible to construct malicious pickle data which will execute arbitrary code during unpickling (See https://github.com/pytorch/pytorch/blob/main/SECURITY.md#untrusted-models for more details). In a future release, the default value for `weights_only` will be flipped to `True`. This limits the functions that could be executed during unpickling. Arbitrary objects will no longer be allowed to be loaded via this mode unless they are explicitly allowlisted by the user via `torch.serialization.add_safe_globals`. We recommend you start setting `weights_only=True` for any use case where you don't have full control of the loaded file. Please open an issue on GitHub for any issues related to this experimental feature.\n",
      "  checkpoint = torch.load(best_model_path, map_location=device)\n"
     ]
    },
    {
     "name": "stdout",
     "output_type": "stream",
     "text": [
      "Filtered weights loaded successfully. Output layer will be trained from scratch.\n",
      "기존 best model 발견: model_checkpoints\\SwinUNETR96_96_lr0.001_lambda0.45_batch2\\best_model.pt\n",
      "기존 학습된 가중치를 성공적으로 로드했습니다.\n"
     ]
    }
   ],
   "source": [
    "import torch.optim as optim\n",
    "from tqdm import tqdm\n",
    "import numpy as np\n",
    "import torch\n",
    "from monai.losses import TverskyLoss\n",
    "from pathlib import Path\n",
    "from monai.metrics import DiceMetric\n",
    "# Model Configuration\n",
    "start_epoch = 0\n",
    "best_val_loss = float('inf')\n",
    "\n",
    "# Training setup\n",
    "num_epochs = 4000\n",
    "lamda = 0.45\n",
    "lr = 0.001\n",
    "\n",
    "device = torch.device(\"cuda\" if torch.cuda.is_available() else \"cpu\")\n",
    "pretrain_path = \"./swin_unetr_btcv_segmentation/models/model.pt\"\n",
    "model = SwinUNETR(\n",
    "    img_size=(img_depth, img_size, img_size), \n",
    "    in_channels=1,\n",
    "    out_channels=n_classes,\n",
    "    feature_size=48,\n",
    "    use_checkpoint=True,\n",
    ").to(device)\n",
    "# Pretrained weights 불러오기\n",
    "weight = torch.load(pretrain_path, map_location=device)\n",
    "\n",
    "# 출력 레이어의 키를 제외한 나머지 가중치만 로드\n",
    "filtered_weights = {k: v for k, v in weight.items() if \"out.conv.conv\" not in k}\n",
    "\n",
    "# strict=False로 로드하여 불일치하는 부분 무시\n",
    "model.load_state_dict(filtered_weights, strict=False)\n",
    "print(\"Filtered weights loaded successfully. Output layer will be trained from scratch.\")\n",
    "\n",
    "# Load pretrained weights\n",
    "# model.load_from(weights=np.load(config_vit.real_pretrained_path, allow_pickle=True))\n",
    "\n",
    "# TverskyLoss 설정\n",
    "criterion = TverskyLoss(\n",
    "    alpha=1- lamda,  # FP에 대한 가중치\n",
    "    beta= lamda,  # FN에 대한 가중치\n",
    "    include_background=False,\n",
    "    softmax=True\n",
    ")\n",
    "\n",
    "# 체크포인트 디렉토리 및 파일 설정\n",
    "checkpoint_base_dir = Path(\"./model_checkpoints\")\n",
    "checkpoint_dir = checkpoint_base_dir / f\"SwinUNETR{img_depth}_{img_size}_lr{lr}_lambda{lamda}_batch{batch_size}\"\n",
    "optimizer = optim.AdamW(model.parameters(), lr=lr, weight_decay=1e-5)\n",
    "\n",
    "# 체크포인트 디렉토리 생성\n",
    "checkpoint_dir.mkdir(parents=True, exist_ok=True)\n",
    "\n",
    "if checkpoint_dir.exists():\n",
    "    best_model_path = checkpoint_dir / 'best_model.pt'\n",
    "    if best_model_path.exists():\n",
    "        print(f\"기존 best model 발견: {best_model_path}\")\n",
    "        try:\n",
    "            checkpoint = torch.load(best_model_path, map_location=device)\n",
    "            # 체크포인트 내부 키 검증\n",
    "            required_keys = ['model_state_dict', 'optimizer_state_dict', 'epoch', 'best_val_loss']\n",
    "            if all(k in checkpoint for k in required_keys):\n",
    "                model.load_state_dict(checkpoint['model_state_dict'])\n",
    "                optimizer.load_state_dict(checkpoint['optimizer_state_dict'])\n",
    "                start_epoch = checkpoint['epoch']\n",
    "                best_val_loss = checkpoint['best_val_loss']\n",
    "                print(\"기존 학습된 가중치를 성공적으로 로드했습니다.\")\n",
    "            else:\n",
    "                raise ValueError(\"체크포인트 파일에 필요한 key가 없습니다.\")\n",
    "        except Exception as e:\n",
    "            print(f\"체크포인트 파일을 로드하는 중 오류 발생: {e}\")\n"
   ]
  },
  {
   "cell_type": "code",
   "execution_count": 7,
   "metadata": {},
   "outputs": [
    {
     "name": "stdout",
     "output_type": "stream",
     "text": [
      "torch.Size([1, 1, 96, 96, 96]) torch.Size([1, 1, 96, 96, 96])\n"
     ]
    }
   ],
   "source": [
    "batch = next(iter(val_loader))\n",
    "images, labels = batch[\"image\"], batch[\"label\"]\n",
    "print(images.shape, labels.shape)"
   ]
  },
  {
   "cell_type": "code",
   "execution_count": 8,
   "metadata": {},
   "outputs": [],
   "source": [
    "torch.backends.cudnn.benchmark = True"
   ]
  },
  {
   "cell_type": "code",
   "execution_count": 9,
   "metadata": {},
   "outputs": [
    {
     "name": "stderr",
     "output_type": "stream",
     "text": [
      "\u001b[34m\u001b[1mwandb\u001b[0m: Using wandb-core as the SDK backend.  Please refer to https://wandb.me/wandb-core for more information.\n",
      "\u001b[34m\u001b[1mwandb\u001b[0m: Currently logged in as: \u001b[33mpook0612\u001b[0m (\u001b[33mlimbw\u001b[0m). Use \u001b[1m`wandb login --relogin`\u001b[0m to force relogin\n"
     ]
    },
    {
     "data": {
      "text/html": [
       "Tracking run with wandb version 0.19.1"
      ],
      "text/plain": [
       "<IPython.core.display.HTML object>"
      ]
     },
     "metadata": {},
     "output_type": "display_data"
    },
    {
     "data": {
      "text/html": [
       "Run data is saved locally in <code>d:\\Workspace\\czll\\wandb\\run-20241218_183050-28xeq9dg</code>"
      ],
      "text/plain": [
       "<IPython.core.display.HTML object>"
      ]
     },
     "metadata": {},
     "output_type": "display_data"
    },
    {
     "data": {
      "text/html": [
       "Syncing run <strong><a href='https://wandb.ai/limbw/czii_SwinUnetR/runs/28xeq9dg' target=\"_blank\">SwinUNETR_lr0.001_bs2_lambda0.45_20241218_183049</a></strong> to <a href='https://wandb.ai/limbw/czii_SwinUnetR' target=\"_blank\">Weights & Biases</a> (<a href='https://wandb.me/developer-guide' target=\"_blank\">docs</a>)<br>"
      ],
      "text/plain": [
       "<IPython.core.display.HTML object>"
      ]
     },
     "metadata": {},
     "output_type": "display_data"
    },
    {
     "data": {
      "text/html": [
       " View project at <a href='https://wandb.ai/limbw/czii_SwinUnetR' target=\"_blank\">https://wandb.ai/limbw/czii_SwinUnetR</a>"
      ],
      "text/plain": [
       "<IPython.core.display.HTML object>"
      ]
     },
     "metadata": {},
     "output_type": "display_data"
    },
    {
     "data": {
      "text/html": [
       " View run at <a href='https://wandb.ai/limbw/czii_SwinUnetR/runs/28xeq9dg' target=\"_blank\">https://wandb.ai/limbw/czii_SwinUnetR/runs/28xeq9dg</a>"
      ],
      "text/plain": [
       "<IPython.core.display.HTML object>"
      ]
     },
     "metadata": {},
     "output_type": "display_data"
    },
    {
     "name": "stdout",
     "output_type": "stream",
     "text": [
      "Epoch 11/4000\n"
     ]
    },
    {
     "name": "stderr",
     "output_type": "stream",
     "text": [
      "Training:   0%|          | 0/10 [00:00<?, ?it/s]c:\\Users\\pook0\\.conda\\envs\\UM\\Lib\\site-packages\\torch\\utils\\checkpoint.py:1399: FutureWarning: `torch.cpu.amp.autocast(args...)` is deprecated. Please use `torch.amp.autocast('cpu', args...)` instead.\n",
      "  with device_autocast_ctx, torch.cpu.amp.autocast(**cpu_autocast_kwargs), recompute_context:  # type: ignore[attr-defined]\n",
      "Training: 100%|██████████| 10/10 [00:35<00:00,  3.58s/it, loss=0.954]\n",
      "Validation: 100%|██████████| 1/1 [00:03<00:00,  3.33s/it, loss=0.915]\n"
     ]
    },
    {
     "name": "stdout",
     "output_type": "stream",
     "text": [
      "Validation Dice Score\n",
      "Class 0: 0.0357, Class 1: 0.1709, Class 2: 0.0012, Class 3: 0.0000, \n",
      "Class 4: 0.0000, Class 5: 0.3705, Class 6: 0.0000, \n",
      "Training Loss: 0.9143, Validation Loss: 0.9148\n",
      "Epoch 12/4000\n"
     ]
    },
    {
     "name": "stderr",
     "output_type": "stream",
     "text": [
      "Training: 100%|██████████| 10/10 [00:18<00:00,  1.87s/it, loss=0.911]\n",
      "Validation: 100%|██████████| 1/1 [00:00<00:00,  1.80it/s, loss=0.824]\n"
     ]
    },
    {
     "name": "stdout",
     "output_type": "stream",
     "text": [
      "Validation Dice Score\n",
      "Class 0: 0.0376, Class 1: 0.5801, Class 2: 0.0000, Class 3: 0.0016, \n",
      "Class 4: 0.0000, Class 5: 0.3458, Class 6: 0.3966, \n",
      "Training Loss: 0.9077, Validation Loss: 0.8243\n",
      "Epoch 13/4000\n"
     ]
    },
    {
     "name": "stderr",
     "output_type": "stream",
     "text": [
      "Training: 100%|██████████| 10/10 [00:18<00:00,  1.89s/it, loss=0.867]\n",
      "Validation: 100%|██████████| 1/1 [00:00<00:00,  1.79it/s, loss=0.956]\n"
     ]
    },
    {
     "name": "stdout",
     "output_type": "stream",
     "text": [
      "Validation Dice Score\n",
      "Class 0: 0.0331, Class 1: 0.0000, Class 2: 0.0018, Class 3: 0.0027, \n",
      "Class 4: 0.0723, Class 5: 0.2233, Class 6: 0.0000, \n",
      "Training Loss: 0.8900, Validation Loss: 0.9563\n",
      "Epoch 14/4000\n"
     ]
    },
    {
     "name": "stderr",
     "output_type": "stream",
     "text": [
      "Training: 100%|██████████| 10/10 [00:18<00:00,  1.88s/it, loss=0.911]\n",
      "Validation: 100%|██████████| 1/1 [00:00<00:00,  1.79it/s, loss=0.786]\n"
     ]
    },
    {
     "name": "stdout",
     "output_type": "stream",
     "text": [
      "Validation Dice Score\n",
      "Class 0: 0.0317, Class 1: 0.6077, Class 2: 0.0000, Class 3: 0.0000, \n",
      "Class 4: 0.6378, Class 5: 0.1217, Class 6: 0.0000, \n",
      "Training Loss: 0.9060, Validation Loss: 0.7856\n",
      "Best model saved with validation loss: 0.7856\n",
      "Epoch 15/4000\n"
     ]
    },
    {
     "name": "stderr",
     "output_type": "stream",
     "text": [
      "Training: 100%|██████████| 10/10 [00:18<00:00,  1.90s/it, loss=0.886]\n",
      "Validation: 100%|██████████| 1/1 [00:00<00:00,  1.73it/s, loss=0.909]\n"
     ]
    },
    {
     "name": "stdout",
     "output_type": "stream",
     "text": [
      "Validation Dice Score\n",
      "Class 0: 0.0421, Class 1: 0.5581, Class 2: 0.0005, Class 3: 0.0001, \n",
      "Class 4: 0.0000, Class 5: 0.0000, Class 6: 0.0000, \n",
      "Training Loss: 0.8726, Validation Loss: 0.9093\n",
      "Epoch 16/4000\n"
     ]
    },
    {
     "name": "stderr",
     "output_type": "stream",
     "text": [
      "Training: 100%|██████████| 10/10 [00:18<00:00,  1.88s/it, loss=0.871]\n",
      "Validation: 100%|██████████| 1/1 [00:00<00:00,  1.71it/s, loss=0.743]\n"
     ]
    },
    {
     "name": "stdout",
     "output_type": "stream",
     "text": [
      "Validation Dice Score\n",
      "Class 0: 0.0394, Class 1: 0.6370, Class 2: 0.0000, Class 3: 0.0019, \n",
      "Class 4: 0.0000, Class 5: 0.4509, Class 6: 0.5722, \n",
      "Training Loss: 0.8730, Validation Loss: 0.7430\n",
      "Best model saved with validation loss: 0.7430\n",
      "Epoch 17/4000\n"
     ]
    },
    {
     "name": "stderr",
     "output_type": "stream",
     "text": [
      "Training: 100%|██████████| 10/10 [00:18<00:00,  1.87s/it, loss=0.895]\n",
      "Validation: 100%|██████████| 1/1 [00:00<00:00,  1.86it/s, loss=0.707]\n"
     ]
    },
    {
     "name": "stdout",
     "output_type": "stream",
     "text": [
      "Validation Dice Score\n",
      "Class 0: 0.0524, Class 1: 0.6691, Class 2: 0.0006, Class 3: 0.0000, \n",
      "Class 4: 0.3865, Class 5: 0.1968, Class 6: 0.5847, \n",
      "Training Loss: 0.8659, Validation Loss: 0.7065\n",
      "Best model saved with validation loss: 0.7065\n",
      "Epoch 18/4000\n"
     ]
    },
    {
     "name": "stderr",
     "output_type": "stream",
     "text": [
      "Training: 100%|██████████| 10/10 [00:18<00:00,  1.87s/it, loss=0.883]\n",
      "Validation: 100%|██████████| 1/1 [00:00<00:00,  1.78it/s, loss=0.889]\n"
     ]
    },
    {
     "name": "stdout",
     "output_type": "stream",
     "text": [
      "Validation Dice Score\n",
      "Class 0: 0.0408, Class 1: 0.6006, Class 2: 0.0000, Class 3: 0.0047, \n",
      "Class 4: 0.0851, Class 5: 0.0000, Class 6: 0.0000, \n",
      "Training Loss: 0.8489, Validation Loss: 0.8889\n",
      "Epoch 19/4000\n"
     ]
    },
    {
     "name": "stderr",
     "output_type": "stream",
     "text": [
      "Training: 100%|██████████| 10/10 [00:18<00:00,  1.87s/it, loss=0.928]\n",
      "Validation: 100%|██████████| 1/1 [00:00<00:00,  1.85it/s, loss=0.979]\n"
     ]
    },
    {
     "name": "stdout",
     "output_type": "stream",
     "text": [
      "Validation Dice Score\n",
      "Class 0: 0.0393, Class 1: 0.0000, Class 2: 0.0016, Class 3: 0.0000, \n",
      "Class 4: 0.0000, Class 5: 0.1357, Class 6: 0.0000, \n",
      "Training Loss: 0.8630, Validation Loss: 0.9792\n",
      "Epoch 20/4000\n"
     ]
    },
    {
     "name": "stderr",
     "output_type": "stream",
     "text": [
      "Training: 100%|██████████| 10/10 [00:18<00:00,  1.87s/it, loss=0.912]\n",
      "Validation: 100%|██████████| 1/1 [00:00<00:00,  1.82it/s, loss=0.781]\n"
     ]
    },
    {
     "name": "stdout",
     "output_type": "stream",
     "text": [
      "Validation Dice Score\n",
      "Class 0: 0.0410, Class 1: 0.0000, Class 2: 0.0000, Class 3: 0.0015, \n",
      "Class 4: 0.5653, Class 5: 0.2570, Class 6: 0.5511, \n",
      "Training Loss: 0.8668, Validation Loss: 0.7809\n",
      "Epoch 21/4000\n"
     ]
    },
    {
     "name": "stderr",
     "output_type": "stream",
     "text": [
      "Training: 100%|██████████| 10/10 [00:18<00:00,  1.87s/it, loss=0.764]\n",
      "Validation: 100%|██████████| 1/1 [00:00<00:00,  1.80it/s, loss=0.768]\n"
     ]
    },
    {
     "name": "stdout",
     "output_type": "stream",
     "text": [
      "Validation Dice Score\n",
      "Class 0: 0.0447, Class 1: 0.7817, Class 2: 0.0000, Class 3: 0.0000, \n",
      "Class 4: 0.6000, Class 5: 0.0431, Class 6: 0.0000, \n",
      "Training Loss: 0.8382, Validation Loss: 0.7679\n",
      "Epoch 22/4000\n"
     ]
    },
    {
     "name": "stderr",
     "output_type": "stream",
     "text": [
      "Training: 100%|██████████| 10/10 [00:18<00:00,  1.88s/it, loss=0.938]\n",
      "Validation: 100%|██████████| 1/1 [00:00<00:00,  1.79it/s, loss=0.686]\n"
     ]
    },
    {
     "name": "stdout",
     "output_type": "stream",
     "text": [
      "Validation Dice Score\n",
      "Class 0: 0.0387, Class 1: 0.6732, Class 2: 0.0000, Class 3: 0.0000, \n",
      "Class 4: 0.2192, Class 5: 0.2901, Class 6: 0.7828, \n",
      "Training Loss: 0.8247, Validation Loss: 0.6856\n",
      "Best model saved with validation loss: 0.6856\n",
      "Epoch 23/4000\n"
     ]
    },
    {
     "name": "stderr",
     "output_type": "stream",
     "text": [
      "Training: 100%|██████████| 10/10 [00:18<00:00,  1.87s/it, loss=0.83]\n",
      "Validation: 100%|██████████| 1/1 [00:00<00:00,  1.79it/s, loss=0.816]\n"
     ]
    },
    {
     "name": "stdout",
     "output_type": "stream",
     "text": [
      "Validation Dice Score\n",
      "Class 0: 0.0408, Class 1: 0.5166, Class 2: 0.0000, Class 3: 0.0000, \n",
      "Class 4: 0.6028, Class 5: 0.0000, Class 6: 0.0000, \n",
      "Training Loss: 0.8356, Validation Loss: 0.8163\n",
      "Epoch 24/4000\n"
     ]
    },
    {
     "name": "stderr",
     "output_type": "stream",
     "text": [
      "Training: 100%|██████████| 10/10 [00:18<00:00,  1.90s/it, loss=0.888]\n",
      "Validation: 100%|██████████| 1/1 [00:00<00:00,  1.71it/s, loss=0.798]\n"
     ]
    },
    {
     "name": "stdout",
     "output_type": "stream",
     "text": [
      "Validation Dice Score\n",
      "Class 0: 0.0267, Class 1: 0.5174, Class 2: 0.0000, Class 3: 0.0002, \n",
      "Class 4: 0.6119, Class 5: 0.1378, Class 6: 0.0000, \n",
      "Training Loss: 0.8612, Validation Loss: 0.7979\n",
      "Epoch 25/4000\n"
     ]
    },
    {
     "name": "stderr",
     "output_type": "stream",
     "text": [
      "Training: 100%|██████████| 10/10 [00:18<00:00,  1.88s/it, loss=0.803]\n",
      "Validation: 100%|██████████| 1/1 [00:00<00:00,  1.79it/s, loss=0.758]\n"
     ]
    },
    {
     "name": "stdout",
     "output_type": "stream",
     "text": [
      "Validation Dice Score\n",
      "Class 0: 0.0433, Class 1: 0.7857, Class 2: 0.0016, Class 3: 0.0025, \n",
      "Class 4: 0.4624, Class 5: 0.0830, Class 6: 0.1779, \n",
      "Training Loss: 0.8356, Validation Loss: 0.7577\n",
      "Epoch 26/4000\n"
     ]
    },
    {
     "name": "stderr",
     "output_type": "stream",
     "text": [
      "Training: 100%|██████████| 10/10 [00:18<00:00,  1.88s/it, loss=0.824]\n",
      "Validation: 100%|██████████| 1/1 [00:00<00:00,  1.63it/s, loss=0.748]\n"
     ]
    },
    {
     "name": "stdout",
     "output_type": "stream",
     "text": [
      "Validation Dice Score\n",
      "Class 0: 0.0404, Class 1: 0.5502, Class 2: 0.0068, Class 3: 0.0000, \n",
      "Class 4: 0.4886, Class 5: 0.1831, Class 6: 0.3330, \n",
      "Training Loss: 0.8547, Validation Loss: 0.7480\n",
      "Epoch 27/4000\n"
     ]
    },
    {
     "name": "stderr",
     "output_type": "stream",
     "text": [
      "Training: 100%|██████████| 10/10 [00:18<00:00,  1.90s/it, loss=0.786]\n",
      "Validation: 100%|██████████| 1/1 [00:00<00:00,  1.82it/s, loss=0.732]\n"
     ]
    },
    {
     "name": "stdout",
     "output_type": "stream",
     "text": [
      "Validation Dice Score\n",
      "Class 0: 0.0385, Class 1: 0.8270, Class 2: 0.0039, Class 3: 0.0001, \n",
      "Class 4: 0.4528, Class 5: 0.1800, Class 6: 0.2158, \n",
      "Training Loss: 0.8124, Validation Loss: 0.7324\n",
      "Epoch 28/4000\n"
     ]
    },
    {
     "name": "stderr",
     "output_type": "stream",
     "text": [
      "Training: 100%|██████████| 10/10 [00:18<00:00,  1.87s/it, loss=0.829]\n",
      "Validation: 100%|██████████| 1/1 [00:00<00:00,  1.80it/s, loss=0.69]\n"
     ]
    },
    {
     "name": "stdout",
     "output_type": "stream",
     "text": [
      "Validation Dice Score\n",
      "Class 0: 0.0274, Class 1: 0.6055, Class 2: 0.0000, Class 3: 0.0000, \n",
      "Class 4: 0.0321, Class 5: 0.5188, Class 6: 0.7755, \n",
      "Training Loss: 0.8432, Validation Loss: 0.6898\n",
      "Epoch 29/4000\n"
     ]
    },
    {
     "name": "stderr",
     "output_type": "stream",
     "text": [
      "Training: 100%|██████████| 10/10 [00:18<00:00,  1.87s/it, loss=0.891]\n",
      "Validation: 100%|██████████| 1/1 [00:00<00:00,  1.72it/s, loss=0.71]\n"
     ]
    },
    {
     "name": "stdout",
     "output_type": "stream",
     "text": [
      "Validation Dice Score\n",
      "Class 0: 0.0229, Class 1: 0.7115, Class 2: 0.0000, Class 3: 0.0000, \n",
      "Class 4: 0.5775, Class 5: 0.4690, Class 6: 0.0000, \n",
      "Training Loss: 0.8341, Validation Loss: 0.7096\n",
      "Epoch 30/4000\n"
     ]
    },
    {
     "name": "stderr",
     "output_type": "stream",
     "text": [
      "Training: 100%|██████████| 10/10 [00:18<00:00,  1.89s/it, loss=0.809]\n",
      "Validation: 100%|██████████| 1/1 [00:00<00:00,  1.81it/s, loss=0.945]\n"
     ]
    },
    {
     "name": "stdout",
     "output_type": "stream",
     "text": [
      "Validation Dice Score\n",
      "Class 0: 0.0353, Class 1: 0.0000, Class 2: 0.0062, Class 3: 0.0028, \n",
      "Class 4: 0.0000, Class 5: 0.3186, Class 6: 0.0000, \n",
      "Training Loss: 0.8552, Validation Loss: 0.9455\n",
      "Epoch 31/4000\n"
     ]
    },
    {
     "name": "stderr",
     "output_type": "stream",
     "text": [
      "Training: 100%|██████████| 10/10 [00:18<00:00,  1.87s/it, loss=0.745]\n",
      "Validation: 100%|██████████| 1/1 [00:00<00:00,  1.66it/s, loss=0.928]\n"
     ]
    },
    {
     "name": "stdout",
     "output_type": "stream",
     "text": [
      "Validation Dice Score\n",
      "Class 0: 0.0389, Class 1: 0.0000, Class 2: 0.0062, Class 3: 0.0055, \n",
      "Class 4: 0.0000, Class 5: 0.4200, Class 6: 0.0000, \n",
      "Training Loss: 0.8336, Validation Loss: 0.9284\n",
      "Epoch 32/4000\n"
     ]
    },
    {
     "name": "stderr",
     "output_type": "stream",
     "text": [
      "Training: 100%|██████████| 10/10 [00:18<00:00,  1.86s/it, loss=0.853]\n",
      "Validation: 100%|██████████| 1/1 [00:00<00:00,  1.62it/s, loss=0.877]\n"
     ]
    },
    {
     "name": "stdout",
     "output_type": "stream",
     "text": [
      "Validation Dice Score\n",
      "Class 0: 0.0270, Class 1: 0.0000, Class 2: 0.0005, Class 3: 0.0000, \n",
      "Class 4: 0.4428, Class 5: 0.3009, Class 6: 0.0000, \n",
      "Training Loss: 0.8243, Validation Loss: 0.8769\n",
      "Epoch 33/4000\n"
     ]
    },
    {
     "name": "stderr",
     "output_type": "stream",
     "text": [
      "Training: 100%|██████████| 10/10 [00:18<00:00,  1.89s/it, loss=0.761]\n",
      "Validation: 100%|██████████| 1/1 [00:00<00:00,  1.83it/s, loss=0.836]\n"
     ]
    },
    {
     "name": "stdout",
     "output_type": "stream",
     "text": [
      "Validation Dice Score\n",
      "Class 0: 0.0454, Class 1: 0.6940, Class 2: 0.0021, Class 3: 0.0000, \n",
      "Class 4: 0.0000, Class 5: 0.3091, Class 6: 0.0000, \n",
      "Training Loss: 0.8328, Validation Loss: 0.8362\n",
      "Epoch 34/4000\n"
     ]
    },
    {
     "name": "stderr",
     "output_type": "stream",
     "text": [
      "Training: 100%|██████████| 10/10 [00:18<00:00,  1.87s/it, loss=0.82]\n",
      "Validation: 100%|██████████| 1/1 [00:00<00:00,  1.76it/s, loss=0.975]\n"
     ]
    },
    {
     "name": "stdout",
     "output_type": "stream",
     "text": [
      "Validation Dice Score\n",
      "Class 0: 0.0639, Class 1: 0.0000, Class 2: 0.0000, Class 3: 0.0000, \n",
      "Class 4: 0.1681, Class 5: 0.0017, Class 6: 0.0000, \n",
      "Training Loss: 0.8443, Validation Loss: 0.9746\n",
      "Epoch 35/4000\n"
     ]
    },
    {
     "name": "stderr",
     "output_type": "stream",
     "text": [
      "Training: 100%|██████████| 10/10 [00:18<00:00,  1.87s/it, loss=0.747]\n",
      "Validation: 100%|██████████| 1/1 [00:00<00:00,  2.02it/s, loss=0.8]\n"
     ]
    },
    {
     "name": "stdout",
     "output_type": "stream",
     "text": [
      "Validation Dice Score\n",
      "Class 0: 0.0503, Class 1: 0.6035, Class 2: 0.0032, Class 3: 0.0000, \n",
      "Class 4: 0.2347, Class 5: 0.3798, Class 6: 0.0000, \n",
      "Training Loss: 0.8231, Validation Loss: 0.7996\n",
      "Epoch 36/4000\n"
     ]
    },
    {
     "name": "stderr",
     "output_type": "stream",
     "text": [
      "Training: 100%|██████████| 10/10 [00:18<00:00,  1.87s/it, loss=0.805]\n",
      "Validation: 100%|██████████| 1/1 [00:00<00:00,  1.73it/s, loss=0.746]\n"
     ]
    },
    {
     "name": "stdout",
     "output_type": "stream",
     "text": [
      "Validation Dice Score\n",
      "Class 0: 0.0354, Class 1: 0.8306, Class 2: 0.0025, Class 3: 0.0027, \n",
      "Class 4: 0.4477, Class 5: 0.2611, Class 6: 0.0096, \n",
      "Training Loss: 0.8280, Validation Loss: 0.7462\n",
      "Epoch 37/4000\n"
     ]
    },
    {
     "name": "stderr",
     "output_type": "stream",
     "text": [
      "Training: 100%|██████████| 10/10 [00:18<00:00,  1.87s/it, loss=0.812]\n",
      "Validation: 100%|██████████| 1/1 [00:00<00:00,  1.79it/s, loss=0.691]\n"
     ]
    },
    {
     "name": "stdout",
     "output_type": "stream",
     "text": [
      "Validation Dice Score\n",
      "Class 0: 0.0335, Class 1: 0.0000, Class 2: 0.0046, Class 3: 0.0018, \n",
      "Class 4: 0.6277, Class 5: 0.4906, Class 6: 0.7701, \n",
      "Training Loss: 0.8229, Validation Loss: 0.6909\n",
      "Epoch 38/4000\n"
     ]
    },
    {
     "name": "stderr",
     "output_type": "stream",
     "text": [
      "Training: 100%|██████████| 10/10 [00:18<00:00,  1.86s/it, loss=0.868]\n",
      "Validation: 100%|██████████| 1/1 [00:00<00:00,  1.79it/s, loss=0.892]\n"
     ]
    },
    {
     "name": "stdout",
     "output_type": "stream",
     "text": [
      "Validation Dice Score\n",
      "Class 0: 0.0367, Class 1: 0.5972, Class 2: 0.0000, Class 3: 0.0017, \n",
      "Class 4: 0.0000, Class 5: 0.0664, Class 6: 0.0000, \n",
      "Training Loss: 0.8142, Validation Loss: 0.8919\n",
      "Epoch 39/4000\n"
     ]
    },
    {
     "name": "stderr",
     "output_type": "stream",
     "text": [
      "Training: 100%|██████████| 10/10 [00:18<00:00,  1.86s/it, loss=0.797]\n",
      "Validation: 100%|██████████| 1/1 [00:00<00:00,  1.66it/s, loss=0.772]\n"
     ]
    },
    {
     "name": "stdout",
     "output_type": "stream",
     "text": [
      "Validation Dice Score\n",
      "Class 0: 0.0287, Class 1: 0.6567, Class 2: 0.0000, Class 3: 0.0000, \n",
      "Class 4: 0.0000, Class 5: 0.0000, Class 6: 0.7184, \n",
      "Training Loss: 0.8350, Validation Loss: 0.7718\n",
      "Epoch 40/4000\n"
     ]
    },
    {
     "name": "stderr",
     "output_type": "stream",
     "text": [
      "Training: 100%|██████████| 10/10 [00:18<00:00,  1.86s/it, loss=0.866]\n",
      "Validation: 100%|██████████| 1/1 [00:00<00:00,  1.78it/s, loss=0.663]\n"
     ]
    },
    {
     "name": "stdout",
     "output_type": "stream",
     "text": [
      "Validation Dice Score\n",
      "Class 0: 0.0297, Class 1: 0.5763, Class 2: 0.0000, Class 3: 0.0000, \n",
      "Class 4: 0.1681, Class 5: 0.5078, Class 6: 0.8347, \n",
      "Training Loss: 0.8138, Validation Loss: 0.6626\n",
      "Best model saved with validation loss: 0.6626\n",
      "Epoch 41/4000\n"
     ]
    },
    {
     "name": "stderr",
     "output_type": "stream",
     "text": [
      "Training: 100%|██████████| 10/10 [00:18<00:00,  1.86s/it, loss=0.703]\n",
      "Validation: 100%|██████████| 1/1 [00:00<00:00,  1.72it/s, loss=0.755]\n"
     ]
    },
    {
     "name": "stdout",
     "output_type": "stream",
     "text": [
      "Validation Dice Score\n",
      "Class 0: 0.0265, Class 1: 0.8296, Class 2: 0.0000, Class 3: 0.0000, \n",
      "Class 4: 0.6525, Class 5: 0.0000, Class 6: 0.0000, \n",
      "Training Loss: 0.7885, Validation Loss: 0.7554\n",
      "Epoch 42/4000\n"
     ]
    },
    {
     "name": "stderr",
     "output_type": "stream",
     "text": [
      "Training: 100%|██████████| 10/10 [00:18<00:00,  1.88s/it, loss=0.864]\n",
      "Validation: 100%|██████████| 1/1 [00:00<00:00,  1.73it/s, loss=0.703]\n"
     ]
    },
    {
     "name": "stdout",
     "output_type": "stream",
     "text": [
      "Validation Dice Score\n",
      "Class 0: 0.0211, Class 1: 0.5105, Class 2: 0.0077, Class 3: 0.0000, \n",
      "Class 4: 0.6457, Class 5: 0.0000, Class 6: 0.6461, \n",
      "Training Loss: 0.8315, Validation Loss: 0.7034\n",
      "Epoch 43/4000\n"
     ]
    },
    {
     "name": "stderr",
     "output_type": "stream",
     "text": [
      "Training: 100%|██████████| 10/10 [00:18<00:00,  1.88s/it, loss=0.826]\n",
      "Validation: 100%|██████████| 1/1 [00:00<00:00,  1.77it/s, loss=0.914]\n"
     ]
    },
    {
     "name": "stdout",
     "output_type": "stream",
     "text": [
      "Validation Dice Score\n",
      "Class 0: 0.0203, Class 1: 0.0000, Class 2: 0.0059, Class 3: 0.0000, \n",
      "Class 4: 0.5168, Class 5: 0.0000, Class 6: 0.0000, \n",
      "Training Loss: 0.8267, Validation Loss: 0.9138\n",
      "Epoch 44/4000\n"
     ]
    },
    {
     "name": "stderr",
     "output_type": "stream",
     "text": [
      "Training: 100%|██████████| 10/10 [00:18<00:00,  1.89s/it, loss=0.766]\n",
      "Validation: 100%|██████████| 1/1 [00:00<00:00,  1.74it/s, loss=0.818]\n"
     ]
    },
    {
     "name": "stdout",
     "output_type": "stream",
     "text": [
      "Validation Dice Score\n",
      "Class 0: 0.0280, Class 1: 0.5601, Class 2: 0.0000, Class 3: 0.0000, \n",
      "Class 4: 0.5436, Class 5: 0.0000, Class 6: 0.0000, \n",
      "Training Loss: 0.7947, Validation Loss: 0.8184\n",
      "Epoch 45/4000\n"
     ]
    },
    {
     "name": "stderr",
     "output_type": "stream",
     "text": [
      "Training: 100%|██████████| 10/10 [00:18<00:00,  1.89s/it, loss=0.839]\n",
      "Validation: 100%|██████████| 1/1 [00:00<00:00,  1.72it/s, loss=0.764]\n"
     ]
    },
    {
     "name": "stdout",
     "output_type": "stream",
     "text": [
      "Validation Dice Score\n",
      "Class 0: 0.0225, Class 1: 0.5559, Class 2: 0.0000, Class 3: 0.0070, \n",
      "Class 4: 0.0000, Class 5: 0.4033, Class 6: 0.4519, \n",
      "Training Loss: 0.8139, Validation Loss: 0.7639\n",
      "Epoch 46/4000\n"
     ]
    },
    {
     "name": "stderr",
     "output_type": "stream",
     "text": [
      "Training: 100%|██████████| 10/10 [00:18<00:00,  1.88s/it, loss=0.769]\n",
      "Validation: 100%|██████████| 1/1 [00:00<00:00,  1.77it/s, loss=0.892]\n"
     ]
    },
    {
     "name": "stdout",
     "output_type": "stream",
     "text": [
      "Validation Dice Score\n",
      "Class 0: 0.0252, Class 1: 0.6290, Class 2: 0.0027, Class 3: 0.0000, \n",
      "Class 4: 0.0000, Class 5: 0.0000, Class 6: 0.0000, \n",
      "Training Loss: 0.7890, Validation Loss: 0.8922\n",
      "Epoch 47/4000\n"
     ]
    },
    {
     "name": "stderr",
     "output_type": "stream",
     "text": [
      "Training: 100%|██████████| 10/10 [00:18<00:00,  1.89s/it, loss=0.772]\n",
      "Validation: 100%|██████████| 1/1 [00:00<00:00,  1.80it/s, loss=0.714]\n"
     ]
    },
    {
     "name": "stdout",
     "output_type": "stream",
     "text": [
      "Validation Dice Score\n",
      "Class 0: 0.0207, Class 1: 0.7508, Class 2: 0.0012, Class 3: 0.0047, \n",
      "Class 4: 0.5953, Class 5: 0.3590, Class 6: 0.0034, \n",
      "Training Loss: 0.8163, Validation Loss: 0.7140\n",
      "Epoch 48/4000\n"
     ]
    },
    {
     "name": "stderr",
     "output_type": "stream",
     "text": [
      "Training: 100%|██████████| 10/10 [00:18<00:00,  1.86s/it, loss=0.751]\n",
      "Validation: 100%|██████████| 1/1 [00:00<00:00,  1.83it/s, loss=0.724]\n"
     ]
    },
    {
     "name": "stdout",
     "output_type": "stream",
     "text": [
      "Validation Dice Score\n",
      "Class 0: 0.0146, Class 1: 0.6965, Class 2: 0.0000, Class 3: 0.0001, \n",
      "Class 4: 0.4673, Class 5: 0.5063, Class 6: 0.0000, \n",
      "Training Loss: 0.7975, Validation Loss: 0.7244\n",
      "Epoch 49/4000\n"
     ]
    },
    {
     "name": "stderr",
     "output_type": "stream",
     "text": [
      "Training: 100%|██████████| 10/10 [00:18<00:00,  1.89s/it, loss=0.782]\n",
      "Validation: 100%|██████████| 1/1 [00:00<00:00,  1.84it/s, loss=0.596]\n"
     ]
    },
    {
     "name": "stdout",
     "output_type": "stream",
     "text": [
      "Validation Dice Score\n",
      "Class 0: 0.0157, Class 1: 0.8477, Class 2: 0.0000, Class 3: 0.0000, \n",
      "Class 4: 0.4369, Class 5: 0.6796, Class 6: 0.5161, \n",
      "Training Loss: 0.7949, Validation Loss: 0.5958\n",
      "Best model saved with validation loss: 0.5958\n",
      "Epoch 50/4000\n"
     ]
    },
    {
     "name": "stderr",
     "output_type": "stream",
     "text": [
      "Training: 100%|██████████| 10/10 [00:18<00:00,  1.88s/it, loss=0.877]\n",
      "Validation: 100%|██████████| 1/1 [00:00<00:00,  1.80it/s, loss=0.872]\n"
     ]
    },
    {
     "name": "stdout",
     "output_type": "stream",
     "text": [
      "Validation Dice Score\n",
      "Class 0: 0.0144, Class 1: 0.0000, Class 2: 0.0000, Class 3: 0.0000, \n",
      "Class 4: 0.5784, Class 5: 0.0000, Class 6: 0.1865, \n",
      "Training Loss: 0.8257, Validation Loss: 0.8722\n",
      "Epoch 51/4000\n"
     ]
    },
    {
     "name": "stderr",
     "output_type": "stream",
     "text": [
      "Training: 100%|██████████| 10/10 [00:18<00:00,  1.85s/it, loss=0.832]\n",
      "Validation: 100%|██████████| 1/1 [00:00<00:00,  1.79it/s, loss=0.816]\n"
     ]
    },
    {
     "name": "stdout",
     "output_type": "stream",
     "text": [
      "Validation Dice Score\n",
      "Class 0: 0.0253, Class 1: 0.5629, Class 2: 0.0000, Class 3: 0.0000, \n",
      "Class 4: 0.0000, Class 5: 0.0000, Class 6: 0.5783, \n",
      "Training Loss: 0.8000, Validation Loss: 0.8163\n",
      "Epoch 52/4000\n"
     ]
    },
    {
     "name": "stderr",
     "output_type": "stream",
     "text": [
      "Training: 100%|██████████| 10/10 [00:18<00:00,  1.87s/it, loss=0.828]\n",
      "Validation: 100%|██████████| 1/1 [00:00<00:00,  1.78it/s, loss=0.565]\n"
     ]
    },
    {
     "name": "stdout",
     "output_type": "stream",
     "text": [
      "Validation Dice Score\n",
      "Class 0: 0.0184, Class 1: 0.8453, Class 2: 0.0000, Class 3: 0.0000, \n",
      "Class 4: 0.4917, Class 5: 0.8119, Class 6: 0.5118, \n",
      "Training Loss: 0.8063, Validation Loss: 0.5652\n",
      "Best model saved with validation loss: 0.5652\n",
      "Epoch 53/4000\n"
     ]
    },
    {
     "name": "stderr",
     "output_type": "stream",
     "text": [
      "Training: 100%|██████████| 10/10 [00:18<00:00,  1.84s/it, loss=0.762]\n",
      "Validation: 100%|██████████| 1/1 [00:00<00:00,  1.81it/s, loss=0.764]\n"
     ]
    },
    {
     "name": "stdout",
     "output_type": "stream",
     "text": [
      "Validation Dice Score\n",
      "Class 0: 0.0162, Class 1: 0.6864, Class 2: 0.0000, Class 3: 0.0001, \n",
      "Class 4: 0.5804, Class 5: 0.1700, Class 6: 0.0000, \n",
      "Training Loss: 0.7835, Validation Loss: 0.7638\n",
      "Epoch 54/4000\n"
     ]
    },
    {
     "name": "stderr",
     "output_type": "stream",
     "text": [
      "Training: 100%|██████████| 10/10 [00:18<00:00,  1.85s/it, loss=0.785]\n",
      "Validation: 100%|██████████| 1/1 [00:00<00:00,  1.67it/s, loss=0.728]\n"
     ]
    },
    {
     "name": "stdout",
     "output_type": "stream",
     "text": [
      "Validation Dice Score\n",
      "Class 0: 0.0257, Class 1: 0.7299, Class 2: 0.0000, Class 3: 0.0066, \n",
      "Class 4: 0.2808, Class 5: 0.0000, Class 6: 0.6402, \n",
      "Training Loss: 0.7893, Validation Loss: 0.7285\n",
      "Epoch 55/4000\n"
     ]
    },
    {
     "name": "stderr",
     "output_type": "stream",
     "text": [
      "Training: 100%|██████████| 10/10 [00:18<00:00,  1.85s/it, loss=0.881]\n",
      "Validation: 100%|██████████| 1/1 [00:00<00:00,  1.70it/s, loss=0.618]\n"
     ]
    },
    {
     "name": "stdout",
     "output_type": "stream",
     "text": [
      "Validation Dice Score\n",
      "Class 0: 0.0162, Class 1: 0.7573, Class 2: 0.0018, Class 3: 0.0000, \n",
      "Class 4: 0.4309, Class 5: 0.3024, Class 6: 0.8126, \n",
      "Training Loss: 0.8366, Validation Loss: 0.6184\n",
      "Epoch 56/4000\n"
     ]
    },
    {
     "name": "stderr",
     "output_type": "stream",
     "text": [
      "Training: 100%|██████████| 10/10 [00:18<00:00,  1.86s/it, loss=0.847]\n",
      "Validation: 100%|██████████| 1/1 [00:00<00:00,  1.76it/s, loss=0.88]\n"
     ]
    },
    {
     "name": "stdout",
     "output_type": "stream",
     "text": [
      "Validation Dice Score\n",
      "Class 0: 0.0163, Class 1: 0.6200, Class 2: 0.0000, Class 3: 0.0065, \n",
      "Class 4: 0.0496, Class 5: 0.0000, Class 6: 0.0595, \n",
      "Training Loss: 0.8075, Validation Loss: 0.8804\n",
      "Epoch 57/4000\n"
     ]
    },
    {
     "name": "stderr",
     "output_type": "stream",
     "text": [
      "Training: 100%|██████████| 10/10 [00:18<00:00,  1.86s/it, loss=0.787]\n",
      "Validation: 100%|██████████| 1/1 [00:00<00:00,  1.76it/s, loss=0.701]\n"
     ]
    },
    {
     "name": "stdout",
     "output_type": "stream",
     "text": [
      "Validation Dice Score\n",
      "Class 0: 0.0112, Class 1: 0.7384, Class 2: 0.0000, Class 3: 0.0065, \n",
      "Class 4: 0.5916, Class 5: 0.4489, Class 6: 0.0000, \n",
      "Training Loss: 0.8170, Validation Loss: 0.7012\n",
      "Epoch 58/4000\n"
     ]
    },
    {
     "name": "stderr",
     "output_type": "stream",
     "text": [
      "Training: 100%|██████████| 10/10 [00:18<00:00,  1.86s/it, loss=0.809]\n",
      "Validation: 100%|██████████| 1/1 [00:00<00:00,  1.81it/s, loss=0.894]\n"
     ]
    },
    {
     "name": "stdout",
     "output_type": "stream",
     "text": [
      "Validation Dice Score\n",
      "Class 0: 0.0143, Class 1: 0.5874, Class 2: 0.0045, Class 3: 0.0036, \n",
      "Class 4: 0.0000, Class 5: 0.0584, Class 6: 0.0000, \n",
      "Training Loss: 0.8050, Validation Loss: 0.8943\n",
      "Epoch 59/4000\n"
     ]
    },
    {
     "name": "stderr",
     "output_type": "stream",
     "text": [
      "Training: 100%|██████████| 10/10 [00:18<00:00,  1.86s/it, loss=0.82]\n",
      "Validation: 100%|██████████| 1/1 [00:00<00:00,  1.71it/s, loss=0.758]\n"
     ]
    },
    {
     "name": "stdout",
     "output_type": "stream",
     "text": [
      "Validation Dice Score\n",
      "Class 0: 0.0154, Class 1: 0.6771, Class 2: 0.0000, Class 3: 0.0000, \n",
      "Class 4: 0.0000, Class 5: 0.0000, Class 6: 0.8005, \n",
      "Training Loss: 0.8127, Validation Loss: 0.7578\n",
      "Epoch 60/4000\n"
     ]
    },
    {
     "name": "stderr",
     "output_type": "stream",
     "text": [
      "Training: 100%|██████████| 10/10 [00:18<00:00,  1.85s/it, loss=0.769]\n",
      "Validation: 100%|██████████| 1/1 [00:00<00:00,  1.83it/s, loss=0.759]\n"
     ]
    },
    {
     "name": "stdout",
     "output_type": "stream",
     "text": [
      "Validation Dice Score\n",
      "Class 0: 0.0140, Class 1: 0.8104, Class 2: 0.0000, Class 3: 0.0000, \n",
      "Class 4: 0.6451, Class 5: 0.0000, Class 6: 0.0000, \n",
      "Training Loss: 0.7778, Validation Loss: 0.7590\n",
      "Epoch 61/4000\n"
     ]
    },
    {
     "name": "stderr",
     "output_type": "stream",
     "text": [
      "Training: 100%|██████████| 10/10 [00:18<00:00,  1.85s/it, loss=0.843]\n",
      "Validation: 100%|██████████| 1/1 [00:00<00:00,  1.83it/s, loss=0.795]\n"
     ]
    },
    {
     "name": "stdout",
     "output_type": "stream",
     "text": [
      "Validation Dice Score\n",
      "Class 0: 0.0104, Class 1: 0.5879, Class 2: 0.0000, Class 3: 0.0000, \n",
      "Class 4: 0.0000, Class 5: 0.0000, Class 6: 0.6696, \n",
      "Training Loss: 0.8139, Validation Loss: 0.7954\n",
      "Epoch 62/4000\n"
     ]
    },
    {
     "name": "stderr",
     "output_type": "stream",
     "text": [
      "Training: 100%|██████████| 10/10 [00:18<00:00,  1.83s/it, loss=0.729]\n",
      "Validation: 100%|██████████| 1/1 [00:00<00:00,  1.80it/s, loss=0.787]\n"
     ]
    },
    {
     "name": "stdout",
     "output_type": "stream",
     "text": [
      "Validation Dice Score\n",
      "Class 0: 0.0062, Class 1: 0.6431, Class 2: 0.0000, Class 3: 0.0041, \n",
      "Class 4: 0.2511, Class 5: 0.4077, Class 6: 0.0000, \n",
      "Training Loss: 0.7794, Validation Loss: 0.7869\n",
      "Epoch 63/4000\n"
     ]
    },
    {
     "name": "stderr",
     "output_type": "stream",
     "text": [
      "Training: 100%|██████████| 10/10 [00:18<00:00,  1.85s/it, loss=0.794]\n",
      "Validation: 100%|██████████| 1/1 [00:00<00:00,  1.83it/s, loss=0.771]\n"
     ]
    },
    {
     "name": "stdout",
     "output_type": "stream",
     "text": [
      "Validation Dice Score\n",
      "Class 0: 0.0043, Class 1: 0.6812, Class 2: 0.0000, Class 3: 0.0000, \n",
      "Class 4: 0.7062, Class 5: 0.0000, Class 6: 0.0000, \n",
      "Training Loss: 0.8211, Validation Loss: 0.7713\n",
      "Epoch 64/4000\n"
     ]
    },
    {
     "name": "stderr",
     "output_type": "stream",
     "text": [
      "Training: 100%|██████████| 10/10 [00:18<00:00,  1.85s/it, loss=0.85]\n",
      "Validation: 100%|██████████| 1/1 [00:00<00:00,  1.82it/s, loss=0.68]\n"
     ]
    },
    {
     "name": "stdout",
     "output_type": "stream",
     "text": [
      "Validation Dice Score\n",
      "Class 0: 0.0024, Class 1: 0.8169, Class 2: 0.0000, Class 3: 0.0000, \n",
      "Class 4: 0.0000, Class 5: 0.4648, Class 6: 0.6570, \n",
      "Training Loss: 0.8145, Validation Loss: 0.6805\n",
      "Epoch 65/4000\n"
     ]
    },
    {
     "name": "stderr",
     "output_type": "stream",
     "text": [
      "Training: 100%|██████████| 10/10 [00:18<00:00,  1.86s/it, loss=0.865]\n",
      "Validation: 100%|██████████| 1/1 [00:00<00:00,  1.93it/s, loss=0.819]\n"
     ]
    },
    {
     "name": "stdout",
     "output_type": "stream",
     "text": [
      "Validation Dice Score\n",
      "Class 0: 0.0045, Class 1: 0.5466, Class 2: 0.0003, Class 3: 0.0062, \n",
      "Class 4: 0.0000, Class 5: 0.0032, Class 6: 0.5578, \n",
      "Training Loss: 0.8425, Validation Loss: 0.8193\n",
      "Epoch 66/4000\n"
     ]
    },
    {
     "name": "stderr",
     "output_type": "stream",
     "text": [
      "Training: 100%|██████████| 10/10 [00:18<00:00,  1.88s/it, loss=0.913]\n",
      "Validation: 100%|██████████| 1/1 [00:00<00:00,  1.86it/s, loss=0.879]\n"
     ]
    },
    {
     "name": "stdout",
     "output_type": "stream",
     "text": [
      "Validation Dice Score\n",
      "Class 0: 0.0086, Class 1: 0.7466, Class 2: 0.0000, Class 3: 0.0007, \n",
      "Class 4: 0.0000, Class 5: 0.0000, Class 6: 0.0000, \n",
      "Training Loss: 0.8325, Validation Loss: 0.8787\n",
      "Epoch 67/4000\n"
     ]
    },
    {
     "name": "stderr",
     "output_type": "stream",
     "text": [
      "Training: 100%|██████████| 10/10 [00:18<00:00,  1.86s/it, loss=0.731]\n",
      "Validation: 100%|██████████| 1/1 [00:00<00:00,  1.92it/s, loss=0.798]\n"
     ]
    },
    {
     "name": "stdout",
     "output_type": "stream",
     "text": [
      "Validation Dice Score\n",
      "Class 0: 0.0028, Class 1: 0.6281, Class 2: 0.0000, Class 3: 0.0000, \n",
      "Class 4: 0.6063, Class 5: 0.0000, Class 6: 0.0000, \n",
      "Training Loss: 0.7840, Validation Loss: 0.7978\n",
      "Epoch 68/4000\n"
     ]
    },
    {
     "name": "stderr",
     "output_type": "stream",
     "text": [
      "Training: 100%|██████████| 10/10 [00:18<00:00,  1.84s/it, loss=0.716]\n",
      "Validation: 100%|██████████| 1/1 [00:00<00:00,  1.89it/s, loss=0.766]\n"
     ]
    },
    {
     "name": "stdout",
     "output_type": "stream",
     "text": [
      "Validation Dice Score\n",
      "Class 0: 0.0042, Class 1: 0.7203, Class 2: 0.0022, Class 3: 0.0009, \n",
      "Class 4: 0.0000, Class 5: 0.1746, Class 6: 0.5513, \n",
      "Training Loss: 0.7903, Validation Loss: 0.7656\n",
      "Epoch 69/4000\n"
     ]
    },
    {
     "name": "stderr",
     "output_type": "stream",
     "text": [
      "Training: 100%|██████████| 10/10 [00:18<00:00,  1.84s/it, loss=0.786]\n",
      "Validation: 100%|██████████| 1/1 [00:00<00:00,  1.85it/s, loss=0.796]\n"
     ]
    },
    {
     "name": "stdout",
     "output_type": "stream",
     "text": [
      "Validation Dice Score\n",
      "Class 0: 0.0076, Class 1: 0.6832, Class 2: 0.0042, Class 3: 0.0000, \n",
      "Class 4: 0.0000, Class 5: 0.5674, Class 6: 0.0000, \n",
      "Training Loss: 0.7844, Validation Loss: 0.7956\n",
      "Epoch 70/4000\n"
     ]
    },
    {
     "name": "stderr",
     "output_type": "stream",
     "text": [
      "Training: 100%|██████████| 10/10 [00:18<00:00,  1.84s/it, loss=0.75]\n",
      "Validation: 100%|██████████| 1/1 [00:00<00:00,  1.75it/s, loss=0.767]\n"
     ]
    },
    {
     "name": "stdout",
     "output_type": "stream",
     "text": [
      "Validation Dice Score\n",
      "Class 0: 0.0030, Class 1: 0.5409, Class 2: 0.0000, Class 3: 0.0000, \n",
      "Class 4: 0.0408, Class 5: 0.0000, Class 6: 0.8212, \n",
      "Training Loss: 0.8012, Validation Loss: 0.7674\n",
      "Epoch 71/4000\n"
     ]
    },
    {
     "name": "stderr",
     "output_type": "stream",
     "text": [
      "Training: 100%|██████████| 10/10 [00:18<00:00,  1.83s/it, loss=0.749]\n",
      "Validation: 100%|██████████| 1/1 [00:00<00:00,  1.83it/s, loss=0.818]\n"
     ]
    },
    {
     "name": "stdout",
     "output_type": "stream",
     "text": [
      "Validation Dice Score\n",
      "Class 0: 0.0059, Class 1: 0.6967, Class 2: 0.0000, Class 3: 0.0000, \n",
      "Class 4: 0.0000, Class 5: 0.4141, Class 6: 0.0000, \n",
      "Training Loss: 0.7941, Validation Loss: 0.8175\n",
      "Epoch 72/4000\n"
     ]
    },
    {
     "name": "stderr",
     "output_type": "stream",
     "text": [
      "Training: 100%|██████████| 10/10 [00:18<00:00,  1.85s/it, loss=0.778]\n",
      "Validation: 100%|██████████| 1/1 [00:00<00:00,  1.78it/s, loss=0.762]\n"
     ]
    },
    {
     "name": "stdout",
     "output_type": "stream",
     "text": [
      "Validation Dice Score\n",
      "Class 0: 0.0041, Class 1: 0.6013, Class 2: 0.0001, Class 3: 0.0007, \n",
      "Class 4: 0.0000, Class 5: 0.0968, Class 6: 0.7636, \n",
      "Training Loss: 0.7863, Validation Loss: 0.7616\n",
      "Epoch 73/4000\n"
     ]
    },
    {
     "name": "stderr",
     "output_type": "stream",
     "text": [
      "Training: 100%|██████████| 10/10 [00:18<00:00,  1.84s/it, loss=0.888]\n",
      "Validation: 100%|██████████| 1/1 [00:00<00:00,  1.83it/s, loss=0.77]\n"
     ]
    },
    {
     "name": "stdout",
     "output_type": "stream",
     "text": [
      "Validation Dice Score\n",
      "Class 0: 0.0084, Class 1: 0.7560, Class 2: 0.0000, Class 3: 0.0036, \n",
      "Class 4: 0.0508, Class 5: 0.0000, Class 6: 0.5950, \n",
      "Training Loss: 0.8156, Validation Loss: 0.7697\n",
      "Epoch 74/4000\n"
     ]
    },
    {
     "name": "stderr",
     "output_type": "stream",
     "text": [
      "Training: 100%|██████████| 10/10 [00:18<00:00,  1.84s/it, loss=0.885]\n",
      "Validation: 100%|██████████| 1/1 [00:00<00:00,  1.85it/s, loss=0.741]\n"
     ]
    },
    {
     "name": "stdout",
     "output_type": "stream",
     "text": [
      "Validation Dice Score\n",
      "Class 0: 0.0030, Class 1: 0.7818, Class 2: 0.0000, Class 3: 0.0011, \n",
      "Class 4: 0.0000, Class 5: 0.0000, Class 6: 0.7878, \n",
      "Training Loss: 0.7677, Validation Loss: 0.7408\n",
      "Epoch 75/4000\n"
     ]
    },
    {
     "name": "stderr",
     "output_type": "stream",
     "text": [
      "Training: 100%|██████████| 10/10 [00:18<00:00,  1.83s/it, loss=0.795]\n",
      "Validation: 100%|██████████| 1/1 [00:00<00:00,  1.87it/s, loss=0.833]\n"
     ]
    },
    {
     "name": "stdout",
     "output_type": "stream",
     "text": [
      "Validation Dice Score\n",
      "Class 0: 0.0020, Class 1: 0.5278, Class 2: 0.0000, Class 3: 0.0000, \n",
      "Class 4: 0.5092, Class 5: 0.0000, Class 6: 0.0000, \n",
      "Training Loss: 0.8168, Validation Loss: 0.8333\n",
      "Epoch 76/4000\n"
     ]
    },
    {
     "name": "stderr",
     "output_type": "stream",
     "text": [
      "Training: 100%|██████████| 10/10 [00:18<00:00,  1.86s/it, loss=0.743]\n",
      "Validation: 100%|██████████| 1/1 [00:00<00:00,  1.97it/s, loss=0.566]\n"
     ]
    },
    {
     "name": "stdout",
     "output_type": "stream",
     "text": [
      "Validation Dice Score\n",
      "Class 0: 0.0010, Class 1: 0.7423, Class 2: 0.0007, Class 3: 0.0063, \n",
      "Class 4: 0.6785, Class 5: 0.4038, Class 6: 0.7943, \n",
      "Training Loss: 0.7895, Validation Loss: 0.5658\n",
      "Epoch 77/4000\n"
     ]
    },
    {
     "name": "stderr",
     "output_type": "stream",
     "text": [
      "Training: 100%|██████████| 10/10 [00:18<00:00,  1.84s/it, loss=0.76]\n",
      "Validation: 100%|██████████| 1/1 [00:00<00:00,  1.78it/s, loss=0.616]\n"
     ]
    },
    {
     "name": "stdout",
     "output_type": "stream",
     "text": [
      "Validation Dice Score\n",
      "Class 0: 0.0005, Class 1: 0.8293, Class 2: 0.0000, Class 3: 0.0032, \n",
      "Class 4: 0.0000, Class 5: 0.6428, Class 6: 0.8306, \n",
      "Training Loss: 0.7698, Validation Loss: 0.6165\n",
      "Epoch 78/4000\n"
     ]
    },
    {
     "name": "stderr",
     "output_type": "stream",
     "text": [
      "Training: 100%|██████████| 10/10 [00:18<00:00,  1.85s/it, loss=0.741]\n",
      "Validation: 100%|██████████| 1/1 [00:00<00:00,  1.83it/s, loss=0.827]\n"
     ]
    },
    {
     "name": "stdout",
     "output_type": "stream",
     "text": [
      "Validation Dice Score\n",
      "Class 0: 0.0019, Class 1: 0.8130, Class 2: 0.0000, Class 3: 0.0030, \n",
      "Class 4: 0.0129, Class 5: 0.0000, Class 6: 0.2166, \n",
      "Training Loss: 0.7600, Validation Loss: 0.8268\n",
      "Epoch 79/4000\n"
     ]
    },
    {
     "name": "stderr",
     "output_type": "stream",
     "text": [
      "Training: 100%|██████████| 10/10 [00:18<00:00,  1.84s/it, loss=0.821]\n",
      "Validation: 100%|██████████| 1/1 [00:00<00:00,  1.70it/s, loss=0.847]\n"
     ]
    },
    {
     "name": "stdout",
     "output_type": "stream",
     "text": [
      "Validation Dice Score\n",
      "Class 0: 0.0015, Class 1: 0.5969, Class 2: 0.0035, Class 3: 0.0030, \n",
      "Class 4: 0.2569, Class 5: 0.0553, Class 6: 0.0111, \n",
      "Training Loss: 0.7757, Validation Loss: 0.8471\n",
      "Epoch 80/4000\n"
     ]
    },
    {
     "name": "stderr",
     "output_type": "stream",
     "text": [
      "Training: 100%|██████████| 10/10 [00:18<00:00,  1.85s/it, loss=0.808]\n",
      "Validation: 100%|██████████| 1/1 [00:00<00:00,  1.97it/s, loss=0.578]\n"
     ]
    },
    {
     "name": "stdout",
     "output_type": "stream",
     "text": [
      "Validation Dice Score\n",
      "Class 0: 0.0002, Class 1: 0.8747, Class 2: 0.0005, Class 3: 0.0000, \n",
      "Class 4: 0.2185, Class 5: 0.6125, Class 6: 0.8693, \n",
      "Training Loss: 0.7935, Validation Loss: 0.5778\n",
      "Epoch 81/4000\n"
     ]
    },
    {
     "name": "stderr",
     "output_type": "stream",
     "text": [
      "Training: 100%|██████████| 10/10 [00:18<00:00,  1.85s/it, loss=0.796]\n",
      "Validation: 100%|██████████| 1/1 [00:00<00:00,  1.83it/s, loss=0.541]\n"
     ]
    },
    {
     "name": "stdout",
     "output_type": "stream",
     "text": [
      "Validation Dice Score\n",
      "Class 0: 0.0001, Class 1: 0.8204, Class 2: 0.0018, Class 3: 0.0000, \n",
      "Class 4: 0.5858, Class 5: 0.5237, Class 6: 0.8328, \n",
      "Training Loss: 0.8024, Validation Loss: 0.5407\n",
      "Best model saved with validation loss: 0.5407\n",
      "Epoch 82/4000\n"
     ]
    },
    {
     "name": "stderr",
     "output_type": "stream",
     "text": [
      "Training: 100%|██████████| 10/10 [00:18<00:00,  1.84s/it, loss=0.76]\n",
      "Validation: 100%|██████████| 1/1 [00:00<00:00,  1.86it/s, loss=0.582]\n"
     ]
    },
    {
     "name": "stdout",
     "output_type": "stream",
     "text": [
      "Validation Dice Score\n",
      "Class 0: 0.0001, Class 1: 0.8911, Class 2: 0.0000, Class 3: 0.0000, \n",
      "Class 4: 0.3642, Class 5: 0.5661, Class 6: 0.7123, \n",
      "Training Loss: 0.7717, Validation Loss: 0.5817\n",
      "Epoch 83/4000\n"
     ]
    },
    {
     "name": "stderr",
     "output_type": "stream",
     "text": [
      "Training: 100%|██████████| 10/10 [00:18<00:00,  1.84s/it, loss=0.859]\n",
      "Validation: 100%|██████████| 1/1 [00:00<00:00,  1.76it/s, loss=0.621]\n"
     ]
    },
    {
     "name": "stdout",
     "output_type": "stream",
     "text": [
      "Validation Dice Score\n",
      "Class 0: 0.0001, Class 1: 0.8735, Class 2: 0.0000, Class 3: 0.0000, \n",
      "Class 4: 0.0688, Class 5: 0.6052, Class 6: 0.7344, \n",
      "Training Loss: 0.7977, Validation Loss: 0.6211\n",
      "Epoch 84/4000\n"
     ]
    },
    {
     "name": "stderr",
     "output_type": "stream",
     "text": [
      "Training: 100%|██████████| 10/10 [00:18<00:00,  1.84s/it, loss=0.775]\n",
      "Validation: 100%|██████████| 1/1 [00:00<00:00,  1.80it/s, loss=0.741]\n"
     ]
    },
    {
     "name": "stdout",
     "output_type": "stream",
     "text": [
      "Validation Dice Score\n",
      "Class 0: 0.0005, Class 1: 0.8120, Class 2: 0.0000, Class 3: 0.0000, \n",
      "Class 4: 0.4134, Class 5: 0.3571, Class 6: 0.0000, \n",
      "Training Loss: 0.7671, Validation Loss: 0.7410\n",
      "Epoch 85/4000\n"
     ]
    },
    {
     "name": "stderr",
     "output_type": "stream",
     "text": [
      "Training: 100%|██████████| 10/10 [00:18<00:00,  1.84s/it, loss=0.849]\n",
      "Validation: 100%|██████████| 1/1 [00:00<00:00,  1.73it/s, loss=0.861]\n"
     ]
    },
    {
     "name": "stdout",
     "output_type": "stream",
     "text": [
      "Validation Dice Score\n",
      "Class 0: 0.0008, Class 1: 0.6944, Class 2: 0.0000, Class 3: 0.0000, \n",
      "Class 4: 0.1611, Class 5: 0.0000, Class 6: 0.0000, \n",
      "Training Loss: 0.8334, Validation Loss: 0.8607\n",
      "Epoch 86/4000\n"
     ]
    },
    {
     "name": "stderr",
     "output_type": "stream",
     "text": [
      "Training: 100%|██████████| 10/10 [00:18<00:00,  1.84s/it, loss=0.796]\n",
      "Validation: 100%|██████████| 1/1 [00:00<00:00,  1.82it/s, loss=0.64]\n"
     ]
    },
    {
     "name": "stdout",
     "output_type": "stream",
     "text": [
      "Validation Dice Score\n",
      "Class 0: 0.0028, Class 1: 0.8052, Class 2: 0.0000, Class 3: 0.0063, \n",
      "Class 4: 0.5242, Class 5: 0.0000, Class 6: 0.8629, \n",
      "Training Loss: 0.8121, Validation Loss: 0.6401\n",
      "Epoch 87/4000\n"
     ]
    },
    {
     "name": "stderr",
     "output_type": "stream",
     "text": [
      "Training: 100%|██████████| 10/10 [00:18<00:00,  1.85s/it, loss=0.736]\n",
      "Validation: 100%|██████████| 1/1 [00:00<00:00,  1.71it/s, loss=0.781]\n"
     ]
    },
    {
     "name": "stdout",
     "output_type": "stream",
     "text": [
      "Validation Dice Score\n",
      "Class 0: 0.0008, Class 1: 0.8586, Class 2: 0.0036, Class 3: 0.0000, \n",
      "Class 4: 0.0000, Class 5: 0.4739, Class 6: 0.0000, \n",
      "Training Loss: 0.8008, Validation Loss: 0.7809\n",
      "Epoch 88/4000\n"
     ]
    },
    {
     "name": "stderr",
     "output_type": "stream",
     "text": [
      "Training: 100%|██████████| 10/10 [00:18<00:00,  1.85s/it, loss=0.86]\n",
      "Validation: 100%|██████████| 1/1 [00:00<00:00,  1.84it/s, loss=0.767]\n"
     ]
    },
    {
     "name": "stdout",
     "output_type": "stream",
     "text": [
      "Validation Dice Score\n",
      "Class 0: 0.0010, Class 1: 0.6230, Class 2: 0.0000, Class 3: 0.0000, \n",
      "Class 4: 0.0000, Class 5: 0.0000, Class 6: 0.7954, \n",
      "Training Loss: 0.7552, Validation Loss: 0.7670\n",
      "Epoch 89/4000\n"
     ]
    },
    {
     "name": "stderr",
     "output_type": "stream",
     "text": [
      "Training: 100%|██████████| 10/10 [00:18<00:00,  1.85s/it, loss=0.831]\n",
      "Validation: 100%|██████████| 1/1 [00:00<00:00,  1.79it/s, loss=0.793]\n"
     ]
    },
    {
     "name": "stdout",
     "output_type": "stream",
     "text": [
      "Validation Dice Score\n",
      "Class 0: 0.0001, Class 1: 0.5999, Class 2: 0.0000, Class 3: 0.0000, \n",
      "Class 4: 0.6620, Class 5: 0.0000, Class 6: 0.0000, \n",
      "Training Loss: 0.7625, Validation Loss: 0.7927\n",
      "Epoch 90/4000\n"
     ]
    },
    {
     "name": "stderr",
     "output_type": "stream",
     "text": [
      "Training: 100%|██████████| 10/10 [00:18<00:00,  1.85s/it, loss=0.689]\n",
      "Validation: 100%|██████████| 1/1 [00:00<00:00,  1.90it/s, loss=0.711]\n"
     ]
    },
    {
     "name": "stdout",
     "output_type": "stream",
     "text": [
      "Validation Dice Score\n",
      "Class 0: 0.0014, Class 1: 0.7565, Class 2: 0.0001, Class 3: 0.0005, \n",
      "Class 4: 0.0000, Class 5: 0.2422, Class 6: 0.7679, \n",
      "Training Loss: 0.7894, Validation Loss: 0.7110\n",
      "Epoch 91/4000\n"
     ]
    },
    {
     "name": "stderr",
     "output_type": "stream",
     "text": [
      "Training: 100%|██████████| 10/10 [00:18<00:00,  1.84s/it, loss=0.801]\n",
      "Validation: 100%|██████████| 1/1 [00:00<00:00,  1.80it/s, loss=0.783]\n"
     ]
    },
    {
     "name": "stdout",
     "output_type": "stream",
     "text": [
      "Validation Dice Score\n",
      "Class 0: 0.0002, Class 1: 0.7492, Class 2: 0.0013, Class 3: 0.0002, \n",
      "Class 4: 0.0000, Class 5: 0.5680, Class 6: 0.0000, \n",
      "Training Loss: 0.8053, Validation Loss: 0.7833\n",
      "Epoch 92/4000\n"
     ]
    },
    {
     "name": "stderr",
     "output_type": "stream",
     "text": [
      "Training: 100%|██████████| 10/10 [00:18<00:00,  1.84s/it, loss=0.819]\n",
      "Validation: 100%|██████████| 1/1 [00:00<00:00,  1.91it/s, loss=0.72]\n"
     ]
    },
    {
     "name": "stdout",
     "output_type": "stream",
     "text": [
      "Validation Dice Score\n",
      "Class 0: 0.0001, Class 1: 0.6874, Class 2: 0.0000, Class 3: 0.0003, \n",
      "Class 4: 0.6516, Class 5: 0.3638, Class 6: 0.0000, \n",
      "Training Loss: 0.7747, Validation Loss: 0.7196\n",
      "Epoch 93/4000\n"
     ]
    },
    {
     "name": "stderr",
     "output_type": "stream",
     "text": [
      "Training: 100%|██████████| 10/10 [00:18<00:00,  1.84s/it, loss=0.766]\n",
      "Validation: 100%|██████████| 1/1 [00:00<00:00,  1.80it/s, loss=0.867]\n"
     ]
    },
    {
     "name": "stdout",
     "output_type": "stream",
     "text": [
      "Validation Dice Score\n",
      "Class 0: 0.0010, Class 1: 0.8143, Class 2: 0.0000, Class 3: 0.0006, \n",
      "Class 4: 0.0000, Class 5: 0.0000, Class 6: 0.0000, \n",
      "Training Loss: 0.7738, Validation Loss: 0.8669\n",
      "Epoch 94/4000\n"
     ]
    },
    {
     "name": "stderr",
     "output_type": "stream",
     "text": [
      "Training: 100%|██████████| 10/10 [00:18<00:00,  1.85s/it, loss=0.689]\n",
      "Validation: 100%|██████████| 1/1 [00:00<00:00,  1.81it/s, loss=0.795]\n"
     ]
    },
    {
     "name": "stdout",
     "output_type": "stream",
     "text": [
      "Validation Dice Score\n",
      "Class 0: 0.0005, Class 1: 0.0000, Class 2: 0.0021, Class 3: 0.0000, \n",
      "Class 4: 0.0000, Class 5: 0.4479, Class 6: 0.7859, \n",
      "Training Loss: 0.7844, Validation Loss: 0.7948\n",
      "Epoch 95/4000\n"
     ]
    },
    {
     "name": "stderr",
     "output_type": "stream",
     "text": [
      "Training: 100%|██████████| 10/10 [00:18<00:00,  1.86s/it, loss=0.829]\n",
      "Validation: 100%|██████████| 1/1 [00:00<00:00,  1.74it/s, loss=0.669]\n"
     ]
    },
    {
     "name": "stdout",
     "output_type": "stream",
     "text": [
      "Validation Dice Score\n",
      "Class 0: 0.0013, Class 1: 0.8153, Class 2: 0.0000, Class 3: 0.0003, \n",
      "Class 4: 0.0000, Class 5: 0.3196, Class 6: 0.8806, \n",
      "Training Loss: 0.7663, Validation Loss: 0.6686\n",
      "Epoch 96/4000\n"
     ]
    },
    {
     "name": "stderr",
     "output_type": "stream",
     "text": [
      "Training: 100%|██████████| 10/10 [00:18<00:00,  1.85s/it, loss=0.81]\n",
      "Validation: 100%|██████████| 1/1 [00:00<00:00,  1.81it/s, loss=0.768]\n"
     ]
    },
    {
     "name": "stdout",
     "output_type": "stream",
     "text": [
      "Validation Dice Score\n",
      "Class 0: 0.0008, Class 1: 0.5806, Class 2: 0.0000, Class 3: 0.0000, \n",
      "Class 4: 0.5497, Class 5: 0.2977, Class 6: 0.0000, \n",
      "Training Loss: 0.8116, Validation Loss: 0.7682\n",
      "Epoch 97/4000\n"
     ]
    },
    {
     "name": "stderr",
     "output_type": "stream",
     "text": [
      "Training: 100%|██████████| 10/10 [00:18<00:00,  1.85s/it, loss=0.78]\n",
      "Validation: 100%|██████████| 1/1 [00:00<00:00,  1.81it/s, loss=0.766]\n"
     ]
    },
    {
     "name": "stdout",
     "output_type": "stream",
     "text": [
      "Validation Dice Score\n",
      "Class 0: 0.0016, Class 1: 0.7238, Class 2: 0.0000, Class 3: 0.0065, \n",
      "Class 4: 0.2340, Class 5: 0.0000, Class 6: 0.4471, \n",
      "Training Loss: 0.7730, Validation Loss: 0.7660\n",
      "Epoch 98/4000\n"
     ]
    },
    {
     "name": "stderr",
     "output_type": "stream",
     "text": [
      "Training: 100%|██████████| 10/10 [00:18<00:00,  1.84s/it, loss=0.782]\n",
      "Validation: 100%|██████████| 1/1 [00:00<00:00,  1.84it/s, loss=0.594]\n"
     ]
    },
    {
     "name": "stdout",
     "output_type": "stream",
     "text": [
      "Validation Dice Score\n",
      "Class 0: 0.0007, Class 1: 0.7617, Class 2: 0.0000, Class 3: 0.0000, \n",
      "Class 4: 0.4570, Class 5: 0.3320, Class 6: 0.9225, \n",
      "Training Loss: 0.7699, Validation Loss: 0.5942\n",
      "Epoch 99/4000\n"
     ]
    },
    {
     "name": "stderr",
     "output_type": "stream",
     "text": [
      "Training: 100%|██████████| 10/10 [00:18<00:00,  1.85s/it, loss=0.713]\n",
      "Validation: 100%|██████████| 1/1 [00:00<00:00,  1.81it/s, loss=0.563]\n"
     ]
    },
    {
     "name": "stdout",
     "output_type": "stream",
     "text": [
      "Validation Dice Score\n",
      "Class 0: 0.0003, Class 1: 0.8777, Class 2: 0.0027, Class 3: 0.0024, \n",
      "Class 4: 0.4699, Class 5: 0.4325, Class 6: 0.8704, \n",
      "Training Loss: 0.7873, Validation Loss: 0.5628\n",
      "Epoch 100/4000\n"
     ]
    },
    {
     "name": "stderr",
     "output_type": "stream",
     "text": [
      "Training: 100%|██████████| 10/10 [00:18<00:00,  1.87s/it, loss=0.695]\n",
      "Validation: 100%|██████████| 1/1 [00:00<00:00,  1.85it/s, loss=0.812]\n"
     ]
    },
    {
     "name": "stdout",
     "output_type": "stream",
     "text": [
      "Validation Dice Score\n",
      "Class 0: 0.0000, Class 1: 0.6057, Class 2: 0.0000, Class 3: 0.0065, \n",
      "Class 4: 0.5196, Class 5: 0.0042, Class 6: 0.0000, \n",
      "Training Loss: 0.7743, Validation Loss: 0.8122\n",
      "Epoch 101/4000\n"
     ]
    },
    {
     "name": "stderr",
     "output_type": "stream",
     "text": [
      "Training: 100%|██████████| 10/10 [00:18<00:00,  1.90s/it, loss=0.774]\n",
      "Validation: 100%|██████████| 1/1 [00:00<00:00,  1.98it/s, loss=0.628]\n"
     ]
    },
    {
     "name": "stdout",
     "output_type": "stream",
     "text": [
      "Validation Dice Score\n",
      "Class 0: 0.0002, Class 1: 0.7656, Class 2: 0.0000, Class 3: 0.0065, \n",
      "Class 4: 0.6792, Class 5: 0.7901, Class 6: 0.0000, \n",
      "Training Loss: 0.7684, Validation Loss: 0.6282\n",
      "Epoch 102/4000\n"
     ]
    },
    {
     "name": "stderr",
     "output_type": "stream",
     "text": [
      "Training: 100%|██████████| 10/10 [00:18<00:00,  1.85s/it, loss=0.799]\n",
      "Validation: 100%|██████████| 1/1 [00:00<00:00,  1.77it/s, loss=0.817]\n"
     ]
    },
    {
     "name": "stdout",
     "output_type": "stream",
     "text": [
      "Validation Dice Score\n",
      "Class 0: 0.0001, Class 1: 0.7677, Class 2: 0.0000, Class 3: 0.0000, \n",
      "Class 4: 0.0268, Class 5: 0.2931, Class 6: 0.0000, \n",
      "Training Loss: 0.8107, Validation Loss: 0.8175\n",
      "Epoch 103/4000\n"
     ]
    },
    {
     "name": "stderr",
     "output_type": "stream",
     "text": [
      "Training: 100%|██████████| 10/10 [00:18<00:00,  1.85s/it, loss=0.731]\n",
      "Validation: 100%|██████████| 1/1 [00:00<00:00,  1.73it/s, loss=0.916]\n"
     ]
    },
    {
     "name": "stdout",
     "output_type": "stream",
     "text": [
      "Validation Dice Score\n",
      "Class 0: 0.0001, Class 1: 0.0000, Class 2: 0.0091, Class 3: 0.0000, \n",
      "Class 4: 0.4857, Class 5: 0.0000, Class 6: 0.0000, \n",
      "Training Loss: 0.7719, Validation Loss: 0.9158\n",
      "Epoch 104/4000\n"
     ]
    },
    {
     "name": "stderr",
     "output_type": "stream",
     "text": [
      "Training: 100%|██████████| 10/10 [00:18<00:00,  1.85s/it, loss=0.697]\n",
      "Validation: 100%|██████████| 1/1 [00:00<00:00,  1.80it/s, loss=0.886]\n"
     ]
    },
    {
     "name": "stdout",
     "output_type": "stream",
     "text": [
      "Validation Dice Score\n",
      "Class 0: 0.0001, Class 1: 0.4932, Class 2: 0.0005, Class 3: 0.0000, \n",
      "Class 4: 0.0000, Class 5: 0.2213, Class 6: 0.0000, \n",
      "Training Loss: 0.7860, Validation Loss: 0.8864\n",
      "Epoch 105/4000\n"
     ]
    },
    {
     "name": "stderr",
     "output_type": "stream",
     "text": [
      "Training: 100%|██████████| 10/10 [00:18<00:00,  1.84s/it, loss=0.817]\n",
      "Validation: 100%|██████████| 1/1 [00:00<00:00,  1.78it/s, loss=0.759]\n"
     ]
    },
    {
     "name": "stdout",
     "output_type": "stream",
     "text": [
      "Validation Dice Score\n",
      "Class 0: 0.0001, Class 1: 0.7526, Class 2: 0.0000, Class 3: 0.0061, \n",
      "Class 4: 0.0000, Class 5: 0.5144, Class 6: 0.1658, \n",
      "Training Loss: 0.8014, Validation Loss: 0.7586\n",
      "Epoch 106/4000\n"
     ]
    },
    {
     "name": "stderr",
     "output_type": "stream",
     "text": [
      "Training: 100%|██████████| 10/10 [00:18<00:00,  1.86s/it, loss=0.821]\n",
      "Validation: 100%|██████████| 1/1 [00:00<00:00,  1.77it/s, loss=0.667]\n"
     ]
    },
    {
     "name": "stdout",
     "output_type": "stream",
     "text": [
      "Validation Dice Score\n",
      "Class 0: 0.0001, Class 1: 0.6959, Class 2: 0.0002, Class 3: 0.0038, \n",
      "Class 4: 0.7803, Class 5: 0.5256, Class 6: 0.0000, \n",
      "Training Loss: 0.7964, Validation Loss: 0.6669\n",
      "Epoch 107/4000\n"
     ]
    },
    {
     "name": "stderr",
     "output_type": "stream",
     "text": [
      "Training: 100%|██████████| 10/10 [00:18<00:00,  1.85s/it, loss=0.808]\n",
      "Validation: 100%|██████████| 1/1 [00:00<00:00,  1.77it/s, loss=0.814]\n"
     ]
    },
    {
     "name": "stdout",
     "output_type": "stream",
     "text": [
      "Validation Dice Score\n",
      "Class 0: 0.0001, Class 1: 0.6921, Class 2: 0.0000, Class 3: 0.0000, \n",
      "Class 4: 0.4576, Class 5: 0.0000, Class 6: 0.0000, \n",
      "Training Loss: 0.7792, Validation Loss: 0.8140\n",
      "Epoch 108/4000\n"
     ]
    },
    {
     "name": "stderr",
     "output_type": "stream",
     "text": [
      "Training: 100%|██████████| 10/10 [00:18<00:00,  1.86s/it, loss=0.782]\n",
      "Validation: 100%|██████████| 1/1 [00:00<00:00,  1.79it/s, loss=0.894]\n"
     ]
    },
    {
     "name": "stdout",
     "output_type": "stream",
     "text": [
      "Validation Dice Score\n",
      "Class 0: 0.0001, Class 1: 0.6464, Class 2: 0.0014, Class 3: 0.0000, \n",
      "Class 4: 0.0000, Class 5: 0.0000, Class 6: 0.0000, \n",
      "Training Loss: 0.7809, Validation Loss: 0.8945\n",
      "Epoch 109/4000\n"
     ]
    },
    {
     "name": "stderr",
     "output_type": "stream",
     "text": [
      "Training: 100%|██████████| 10/10 [00:18<00:00,  1.85s/it, loss=0.893]\n",
      "Validation: 100%|██████████| 1/1 [00:00<00:00,  1.81it/s, loss=0.815]\n"
     ]
    },
    {
     "name": "stdout",
     "output_type": "stream",
     "text": [
      "Validation Dice Score\n",
      "Class 0: 0.0001, Class 1: 0.0000, Class 2: 0.0013, Class 3: 0.0000, \n",
      "Class 4: 0.0000, Class 5: 0.2403, Class 6: 0.8833, \n",
      "Training Loss: 0.7858, Validation Loss: 0.8150\n",
      "Epoch 110/4000\n"
     ]
    },
    {
     "name": "stderr",
     "output_type": "stream",
     "text": [
      "Training: 100%|██████████| 10/10 [00:18<00:00,  1.88s/it, loss=0.838]\n",
      "Validation: 100%|██████████| 1/1 [00:00<00:00,  1.86it/s, loss=0.903]\n"
     ]
    },
    {
     "name": "stdout",
     "output_type": "stream",
     "text": [
      "Validation Dice Score\n",
      "Class 0: 0.0004, Class 1: 0.6065, Class 2: 0.0000, Class 3: 0.0000, \n",
      "Class 4: 0.0000, Class 5: 0.0000, Class 6: 0.0000, \n",
      "Training Loss: 0.7957, Validation Loss: 0.9029\n",
      "Epoch 111/4000\n"
     ]
    },
    {
     "name": "stderr",
     "output_type": "stream",
     "text": [
      "Training: 100%|██████████| 10/10 [00:18<00:00,  1.85s/it, loss=0.783]\n",
      "Validation: 100%|██████████| 1/1 [00:00<00:00,  1.69it/s, loss=0.622]\n"
     ]
    },
    {
     "name": "stdout",
     "output_type": "stream",
     "text": [
      "Validation Dice Score\n",
      "Class 0: 0.0000, Class 1: 0.8909, Class 2: 0.0000, Class 3: 0.0004, \n",
      "Class 4: 0.4823, Class 5: 0.0061, Class 6: 0.9085, \n",
      "Training Loss: 0.8293, Validation Loss: 0.6215\n",
      "Epoch 112/4000\n"
     ]
    },
    {
     "name": "stderr",
     "output_type": "stream",
     "text": [
      "Training: 100%|██████████| 10/10 [00:18<00:00,  1.86s/it, loss=0.88]\n",
      "Validation: 100%|██████████| 1/1 [00:00<00:00,  1.80it/s, loss=0.76]\n"
     ]
    },
    {
     "name": "stdout",
     "output_type": "stream",
     "text": [
      "Validation Dice Score\n",
      "Class 0: 0.0000, Class 1: 0.6723, Class 2: 0.0000, Class 3: 0.0048, \n",
      "Class 4: 0.0000, Class 5: 0.4406, Class 6: 0.3620, \n",
      "Training Loss: 0.7767, Validation Loss: 0.7604\n",
      "Epoch 113/4000\n"
     ]
    },
    {
     "name": "stderr",
     "output_type": "stream",
     "text": [
      "Training: 100%|██████████| 10/10 [00:18<00:00,  1.85s/it, loss=0.807]\n",
      "Validation: 100%|██████████| 1/1 [00:00<00:00,  1.71it/s, loss=0.867]\n"
     ]
    },
    {
     "name": "stdout",
     "output_type": "stream",
     "text": [
      "Validation Dice Score\n",
      "Class 0: 0.0000, Class 1: 0.7995, Class 2: 0.0016, Class 3: 0.0000, \n",
      "Class 4: 0.0000, Class 5: 0.0101, Class 6: 0.0000, \n",
      "Training Loss: 0.7673, Validation Loss: 0.8669\n",
      "Epoch 114/4000\n"
     ]
    },
    {
     "name": "stderr",
     "output_type": "stream",
     "text": [
      "Training: 100%|██████████| 10/10 [00:18<00:00,  1.86s/it, loss=0.849]\n",
      "Validation: 100%|██████████| 1/1 [00:00<00:00,  1.78it/s, loss=0.737]\n"
     ]
    },
    {
     "name": "stdout",
     "output_type": "stream",
     "text": [
      "Validation Dice Score\n",
      "Class 0: 0.0009, Class 1: 0.8002, Class 2: 0.0004, Class 3: 0.0055, \n",
      "Class 4: 0.0000, Class 5: 0.0000, Class 6: 0.7796, \n",
      "Training Loss: 0.7617, Validation Loss: 0.7373\n",
      "Epoch 115/4000\n"
     ]
    },
    {
     "name": "stderr",
     "output_type": "stream",
     "text": [
      "Training: 100%|██████████| 10/10 [00:18<00:00,  1.86s/it, loss=0.82]\n",
      "Validation: 100%|██████████| 1/1 [00:00<00:00,  1.67it/s, loss=0.742]\n"
     ]
    },
    {
     "name": "stdout",
     "output_type": "stream",
     "text": [
      "Validation Dice Score\n",
      "Class 0: 0.0001, Class 1: 0.6839, Class 2: 0.0000, Class 3: 0.0042, \n",
      "Class 4: 0.0000, Class 5: 0.4823, Class 6: 0.4269, \n",
      "Training Loss: 0.8051, Validation Loss: 0.7418\n",
      "Epoch 116/4000\n"
     ]
    },
    {
     "name": "stderr",
     "output_type": "stream",
     "text": [
      "Training: 100%|██████████| 10/10 [00:18<00:00,  1.85s/it, loss=0.696]\n",
      "Validation: 100%|██████████| 1/1 [00:00<00:00,  1.81it/s, loss=0.732]\n"
     ]
    },
    {
     "name": "stdout",
     "output_type": "stream",
     "text": [
      "Validation Dice Score\n",
      "Class 0: 0.0008, Class 1: 0.5641, Class 2: 0.0001, Class 3: 0.0050, \n",
      "Class 4: 0.0000, Class 5: 0.2999, Class 6: 0.7641, \n",
      "Training Loss: 0.7641, Validation Loss: 0.7323\n",
      "Epoch 117/4000\n"
     ]
    },
    {
     "name": "stderr",
     "output_type": "stream",
     "text": [
      "Training: 100%|██████████| 10/10 [00:18<00:00,  1.85s/it, loss=0.912]\n",
      "Validation: 100%|██████████| 1/1 [00:00<00:00,  1.72it/s, loss=0.823]\n"
     ]
    },
    {
     "name": "stdout",
     "output_type": "stream",
     "text": [
      "Validation Dice Score\n",
      "Class 0: 0.0000, Class 1: 0.7731, Class 2: 0.0051, Class 3: 0.0000, \n",
      "Class 4: 0.0000, Class 5: 0.2953, Class 6: 0.0000, \n",
      "Training Loss: 0.7669, Validation Loss: 0.8230\n",
      "Epoch 118/4000\n"
     ]
    },
    {
     "name": "stderr",
     "output_type": "stream",
     "text": [
      "Training: 100%|██████████| 10/10 [00:18<00:00,  1.85s/it, loss=0.765]\n",
      "Validation: 100%|██████████| 1/1 [00:00<00:00,  1.70it/s, loss=0.643]\n"
     ]
    },
    {
     "name": "stdout",
     "output_type": "stream",
     "text": [
      "Validation Dice Score\n",
      "Class 0: 0.0000, Class 1: 0.7711, Class 2: 0.0000, Class 3: 0.0091, \n",
      "Class 4: 0.0000, Class 5: 0.6094, Class 6: 0.7796, \n",
      "Training Loss: 0.7775, Validation Loss: 0.6427\n",
      "Epoch 119/4000\n"
     ]
    },
    {
     "name": "stderr",
     "output_type": "stream",
     "text": [
      "Training: 100%|██████████| 10/10 [00:18<00:00,  1.86s/it, loss=0.642]\n",
      "Validation: 100%|██████████| 1/1 [00:00<00:00,  1.83it/s, loss=0.634]\n"
     ]
    },
    {
     "name": "stdout",
     "output_type": "stream",
     "text": [
      "Validation Dice Score\n",
      "Class 0: 0.0000, Class 1: 0.8638, Class 2: 0.0055, Class 3: 0.0000, \n",
      "Class 4: 0.6461, Class 5: 0.0000, Class 6: 0.6608, \n",
      "Training Loss: 0.7670, Validation Loss: 0.6339\n",
      "Epoch 120/4000\n"
     ]
    },
    {
     "name": "stderr",
     "output_type": "stream",
     "text": [
      "Training: 100%|██████████| 10/10 [00:18<00:00,  1.86s/it, loss=0.769]\n",
      "Validation: 100%|██████████| 1/1 [00:00<00:00,  1.75it/s, loss=0.743]\n"
     ]
    },
    {
     "name": "stdout",
     "output_type": "stream",
     "text": [
      "Validation Dice Score\n",
      "Class 0: 0.0000, Class 1: 0.7370, Class 2: 0.0000, Class 3: 0.0035, \n",
      "Class 4: 0.0000, Class 5: 0.4714, Class 6: 0.3651, \n",
      "Training Loss: 0.7898, Validation Loss: 0.7434\n",
      "Epoch 121/4000\n"
     ]
    },
    {
     "name": "stderr",
     "output_type": "stream",
     "text": [
      "Training: 100%|██████████| 10/10 [00:18<00:00,  1.85s/it, loss=0.794]\n",
      "Validation: 100%|██████████| 1/1 [00:00<00:00,  1.73it/s, loss=0.734]\n"
     ]
    },
    {
     "name": "stdout",
     "output_type": "stream",
     "text": [
      "Validation Dice Score\n",
      "Class 0: 0.0001, Class 1: 0.8082, Class 2: 0.0000, Class 3: 0.0070, \n",
      "Class 4: 0.0917, Class 5: 0.0000, Class 6: 0.7057, \n",
      "Training Loss: 0.8004, Validation Loss: 0.7341\n",
      "Epoch 122/4000\n"
     ]
    },
    {
     "name": "stderr",
     "output_type": "stream",
     "text": [
      "Training: 100%|██████████| 10/10 [00:18<00:00,  1.86s/it, loss=0.742]\n",
      "Validation: 100%|██████████| 1/1 [00:00<00:00,  1.79it/s, loss=0.819]\n"
     ]
    },
    {
     "name": "stdout",
     "output_type": "stream",
     "text": [
      "Validation Dice Score\n",
      "Class 0: 0.0000, Class 1: 0.7472, Class 2: 0.0000, Class 3: 0.0063, \n",
      "Class 4: 0.0000, Class 5: 0.3532, Class 6: 0.0000, \n",
      "Training Loss: 0.7607, Validation Loss: 0.8186\n",
      "Epoch 123/4000\n"
     ]
    },
    {
     "name": "stderr",
     "output_type": "stream",
     "text": [
      "Training: 100%|██████████| 10/10 [00:18<00:00,  1.86s/it, loss=0.872]\n",
      "Validation: 100%|██████████| 1/1 [00:00<00:00,  1.80it/s, loss=0.535]\n"
     ]
    },
    {
     "name": "stdout",
     "output_type": "stream",
     "text": [
      "Validation Dice Score\n",
      "Class 0: 0.0000, Class 1: 0.8624, Class 2: 0.0014, Class 3: 0.0000, \n",
      "Class 4: 0.4366, Class 5: 0.6673, Class 6: 0.8450, \n",
      "Training Loss: 0.7865, Validation Loss: 0.5349\n",
      "Best model saved with validation loss: 0.5349\n",
      "Epoch 124/4000\n"
     ]
    },
    {
     "name": "stderr",
     "output_type": "stream",
     "text": [
      "Training: 100%|██████████| 10/10 [00:18<00:00,  1.83s/it, loss=0.851]\n",
      "Validation: 100%|██████████| 1/1 [00:00<00:00,  1.88it/s, loss=0.553]\n"
     ]
    },
    {
     "name": "stdout",
     "output_type": "stream",
     "text": [
      "Validation Dice Score\n",
      "Class 0: 0.0000, Class 1: 0.7792, Class 2: 0.0000, Class 3: 0.0000, \n",
      "Class 4: 0.4024, Class 5: 0.6770, Class 6: 0.8719, \n",
      "Training Loss: 0.8171, Validation Loss: 0.5533\n",
      "Epoch 125/4000\n"
     ]
    },
    {
     "name": "stderr",
     "output_type": "stream",
     "text": [
      "Training: 100%|██████████| 10/10 [00:18<00:00,  1.85s/it, loss=0.925]\n",
      "Validation: 100%|██████████| 1/1 [00:00<00:00,  1.76it/s, loss=0.727]\n"
     ]
    },
    {
     "name": "stdout",
     "output_type": "stream",
     "text": [
      "Validation Dice Score\n",
      "Class 0: 0.0002, Class 1: 0.7602, Class 2: 0.0000, Class 3: 0.0013, \n",
      "Class 4: 0.0000, Class 5: 0.0027, Class 6: 0.8660, \n",
      "Training Loss: 0.7819, Validation Loss: 0.7274\n",
      "Epoch 126/4000\n"
     ]
    },
    {
     "name": "stderr",
     "output_type": "stream",
     "text": [
      "Training: 100%|██████████| 10/10 [00:18<00:00,  1.85s/it, loss=0.748]\n",
      "Validation: 100%|██████████| 1/1 [00:00<00:00,  1.83it/s, loss=0.569]\n"
     ]
    },
    {
     "name": "stdout",
     "output_type": "stream",
     "text": [
      "Validation Dice Score\n",
      "Class 0: 0.0000, Class 1: 0.8613, Class 2: 0.0019, Class 3: 0.0000, \n",
      "Class 4: 0.3169, Class 5: 0.5972, Class 6: 0.8157, \n",
      "Training Loss: 0.7325, Validation Loss: 0.5691\n",
      "Epoch 127/4000\n"
     ]
    },
    {
     "name": "stderr",
     "output_type": "stream",
     "text": [
      "Training: 100%|██████████| 10/10 [00:18<00:00,  1.85s/it, loss=0.699]\n",
      "Validation: 100%|██████████| 1/1 [00:00<00:00,  1.81it/s, loss=0.727]\n"
     ]
    },
    {
     "name": "stdout",
     "output_type": "stream",
     "text": [
      "Validation Dice Score\n",
      "Class 0: 0.0000, Class 1: 0.8751, Class 2: 0.0002, Class 3: 0.0004, \n",
      "Class 4: 0.0000, Class 5: 0.0304, Class 6: 0.7353, \n",
      "Training Loss: 0.7425, Validation Loss: 0.7270\n",
      "Epoch 128/4000\n"
     ]
    },
    {
     "name": "stderr",
     "output_type": "stream",
     "text": [
      "Training: 100%|██████████| 10/10 [00:18<00:00,  1.86s/it, loss=0.77]\n",
      "Validation: 100%|██████████| 1/1 [00:00<00:00,  1.75it/s, loss=0.601]\n"
     ]
    },
    {
     "name": "stdout",
     "output_type": "stream",
     "text": [
      "Validation Dice Score\n",
      "Class 0: 0.0000, Class 1: 0.7970, Class 2: 0.0040, Class 3: 0.0000, \n",
      "Class 4: 0.2792, Class 5: 0.4528, Class 6: 0.8631, \n",
      "Training Loss: 0.8172, Validation Loss: 0.6014\n",
      "Epoch 129/4000\n"
     ]
    },
    {
     "name": "stderr",
     "output_type": "stream",
     "text": [
      "Training: 100%|██████████| 10/10 [00:18<00:00,  1.85s/it, loss=0.797]\n",
      "Validation: 100%|██████████| 1/1 [00:00<00:00,  1.75it/s, loss=0.623]\n"
     ]
    },
    {
     "name": "stdout",
     "output_type": "stream",
     "text": [
      "Validation Dice Score\n",
      "Class 0: 0.0000, Class 1: 0.8553, Class 2: 0.0000, Class 3: 0.0000, \n",
      "Class 4: 0.1169, Class 5: 0.4299, Class 6: 0.8792, \n",
      "Training Loss: 0.7933, Validation Loss: 0.6229\n",
      "Epoch 130/4000\n"
     ]
    },
    {
     "name": "stderr",
     "output_type": "stream",
     "text": [
      "Training: 100%|██████████| 10/10 [00:18<00:00,  1.85s/it, loss=0.728]\n",
      "Validation: 100%|██████████| 1/1 [00:00<00:00,  1.81it/s, loss=0.777]\n"
     ]
    },
    {
     "name": "stdout",
     "output_type": "stream",
     "text": [
      "Validation Dice Score\n",
      "Class 0: 0.0000, Class 1: 0.6499, Class 2: 0.0000, Class 3: 0.0039, \n",
      "Class 4: 0.4691, Class 5: 0.2271, Class 6: 0.0000, \n",
      "Training Loss: 0.7540, Validation Loss: 0.7766\n",
      "Epoch 131/4000\n"
     ]
    },
    {
     "name": "stderr",
     "output_type": "stream",
     "text": [
      "Training: 100%|██████████| 10/10 [00:18<00:00,  1.85s/it, loss=0.867]\n",
      "Validation: 100%|██████████| 1/1 [00:00<00:00,  1.70it/s, loss=0.646]\n"
     ]
    },
    {
     "name": "stdout",
     "output_type": "stream",
     "text": [
      "Validation Dice Score\n",
      "Class 0: 0.0000, Class 1: 0.7486, Class 2: 0.0000, Class 3: 0.0068, \n",
      "Class 4: 0.8263, Class 5: 0.5594, Class 6: 0.0000, \n",
      "Training Loss: 0.7946, Validation Loss: 0.6457\n",
      "Epoch 132/4000\n"
     ]
    },
    {
     "name": "stderr",
     "output_type": "stream",
     "text": [
      "Training: 100%|██████████| 10/10 [00:18<00:00,  1.84s/it, loss=0.711]\n",
      "Validation: 100%|██████████| 1/1 [00:00<00:00,  1.86it/s, loss=0.885]\n"
     ]
    },
    {
     "name": "stdout",
     "output_type": "stream",
     "text": [
      "Validation Dice Score\n",
      "Class 0: 0.0000, Class 1: 0.0000, Class 2: 0.0008, Class 3: 0.0000, \n",
      "Class 4: 0.0000, Class 5: 0.2601, Class 6: 0.4458, \n",
      "Training Loss: 0.7705, Validation Loss: 0.8847\n",
      "Epoch 133/4000\n"
     ]
    },
    {
     "name": "stderr",
     "output_type": "stream",
     "text": [
      "Training: 100%|██████████| 10/10 [00:18<00:00,  1.85s/it, loss=0.717]\n",
      "Validation: 100%|██████████| 1/1 [00:00<00:00,  1.80it/s, loss=0.764]\n"
     ]
    },
    {
     "name": "stdout",
     "output_type": "stream",
     "text": [
      "Validation Dice Score\n",
      "Class 0: 0.0000, Class 1: 0.7578, Class 2: 0.0000, Class 3: 0.0071, \n",
      "Class 4: 0.5791, Class 5: 0.0794, Class 6: 0.0000, \n",
      "Training Loss: 0.7708, Validation Loss: 0.7639\n",
      "Epoch 134/4000\n"
     ]
    },
    {
     "name": "stderr",
     "output_type": "stream",
     "text": [
      "Training: 100%|██████████| 10/10 [00:18<00:00,  1.85s/it, loss=0.809]\n",
      "Validation: 100%|██████████| 1/1 [00:00<00:00,  1.82it/s, loss=0.784]\n"
     ]
    },
    {
     "name": "stdout",
     "output_type": "stream",
     "text": [
      "Validation Dice Score\n",
      "Class 0: 0.0002, Class 1: 0.5104, Class 2: 0.0000, Class 3: 0.0000, \n",
      "Class 4: 0.0000, Class 5: 0.0000, Class 6: 0.8002, \n",
      "Training Loss: 0.7277, Validation Loss: 0.7836\n",
      "Epoch 135/4000\n"
     ]
    },
    {
     "name": "stderr",
     "output_type": "stream",
     "text": [
      "Training: 100%|██████████| 10/10 [00:18<00:00,  1.86s/it, loss=0.792]\n",
      "Validation: 100%|██████████| 1/1 [00:00<00:00,  1.79it/s, loss=0.673]\n"
     ]
    },
    {
     "name": "stdout",
     "output_type": "stream",
     "text": [
      "Validation Dice Score\n",
      "Class 0: 0.0000, Class 1: 0.7392, Class 2: 0.0001, Class 3: 0.0065, \n",
      "Class 4: 0.7823, Class 5: 0.4577, Class 6: 0.0000, \n",
      "Training Loss: 0.7912, Validation Loss: 0.6732\n",
      "Epoch 136/4000\n"
     ]
    },
    {
     "name": "stderr",
     "output_type": "stream",
     "text": [
      "Training: 100%|██████████| 10/10 [00:18<00:00,  1.86s/it, loss=0.759]\n",
      "Validation: 100%|██████████| 1/1 [00:00<00:00,  1.75it/s, loss=0.71]\n"
     ]
    },
    {
     "name": "stdout",
     "output_type": "stream",
     "text": [
      "Validation Dice Score\n",
      "Class 0: 0.0000, Class 1: 0.7069, Class 2: 0.0000, Class 3: 0.0055, \n",
      "Class 4: 0.1566, Class 5: 0.0000, Class 6: 0.9050, \n",
      "Training Loss: 0.7588, Validation Loss: 0.7097\n",
      "Epoch 137/4000\n"
     ]
    },
    {
     "name": "stderr",
     "output_type": "stream",
     "text": [
      "Training: 100%|██████████| 10/10 [00:18<00:00,  1.85s/it, loss=0.871]\n",
      "Validation: 100%|██████████| 1/1 [00:00<00:00,  1.78it/s, loss=0.745]\n"
     ]
    },
    {
     "name": "stdout",
     "output_type": "stream",
     "text": [
      "Validation Dice Score\n",
      "Class 0: 0.0000, Class 1: 0.8155, Class 2: 0.0000, Class 3: 0.0000, \n",
      "Class 4: 0.7311, Class 5: 0.0000, Class 6: 0.0000, \n",
      "Training Loss: 0.7875, Validation Loss: 0.7453\n",
      "Epoch 138/4000\n"
     ]
    },
    {
     "name": "stderr",
     "output_type": "stream",
     "text": [
      "Training: 100%|██████████| 10/10 [00:18<00:00,  1.86s/it, loss=0.893]\n",
      "Validation: 100%|██████████| 1/1 [00:00<00:00,  1.75it/s, loss=0.747]\n"
     ]
    },
    {
     "name": "stdout",
     "output_type": "stream",
     "text": [
      "Validation Dice Score\n",
      "Class 0: 0.0000, Class 1: 0.8713, Class 2: 0.0031, Class 3: 0.0000, \n",
      "Class 4: 0.0000, Class 5: 0.6518, Class 6: 0.0000, \n",
      "Training Loss: 0.8033, Validation Loss: 0.7473\n",
      "Epoch 139/4000\n"
     ]
    },
    {
     "name": "stderr",
     "output_type": "stream",
     "text": [
      "Training: 100%|██████████| 10/10 [00:18<00:00,  1.85s/it, loss=0.756]\n",
      "Validation: 100%|██████████| 1/1 [00:00<00:00,  1.76it/s, loss=0.771]\n"
     ]
    },
    {
     "name": "stdout",
     "output_type": "stream",
     "text": [
      "Validation Dice Score\n",
      "Class 0: 0.0000, Class 1: 0.8274, Class 2: 0.0026, Class 3: 0.0000, \n",
      "Class 4: 0.0000, Class 5: 0.5624, Class 6: 0.0000, \n",
      "Training Loss: 0.7824, Validation Loss: 0.7705\n",
      "Epoch 140/4000\n"
     ]
    },
    {
     "name": "stderr",
     "output_type": "stream",
     "text": [
      "Training: 100%|██████████| 10/10 [00:18<00:00,  1.85s/it, loss=0.827]\n",
      "Validation: 100%|██████████| 1/1 [00:00<00:00,  1.82it/s, loss=0.644]\n"
     ]
    },
    {
     "name": "stdout",
     "output_type": "stream",
     "text": [
      "Validation Dice Score\n",
      "Class 0: 0.0000, Class 1: 0.8399, Class 2: 0.0000, Class 3: 0.0068, \n",
      "Class 4: 0.4054, Class 5: 0.0000, Class 6: 0.8995, \n",
      "Training Loss: 0.7945, Validation Loss: 0.6437\n",
      "Epoch 141/4000\n"
     ]
    },
    {
     "name": "stderr",
     "output_type": "stream",
     "text": [
      "Training: 100%|██████████| 10/10 [00:18<00:00,  1.88s/it, loss=0.799]\n",
      "Validation: 100%|██████████| 1/1 [00:00<00:00,  1.73it/s, loss=0.654]\n"
     ]
    },
    {
     "name": "stdout",
     "output_type": "stream",
     "text": [
      "Validation Dice Score\n",
      "Class 0: 0.0000, Class 1: 0.9229, Class 2: 0.0000, Class 3: 0.0055, \n",
      "Class 4: 0.6266, Class 5: 0.5244, Class 6: 0.0000, \n",
      "Training Loss: 0.7658, Validation Loss: 0.6545\n",
      "Epoch 142/4000\n"
     ]
    },
    {
     "name": "stderr",
     "output_type": "stream",
     "text": [
      "Training: 100%|██████████| 10/10 [00:18<00:00,  1.85s/it, loss=0.765]\n",
      "Validation: 100%|██████████| 1/1 [00:00<00:00,  1.84it/s, loss=0.771]\n"
     ]
    },
    {
     "name": "stdout",
     "output_type": "stream",
     "text": [
      "Validation Dice Score\n",
      "Class 0: 0.0000, Class 1: 0.8634, Class 2: 0.0022, Class 3: 0.0000, \n",
      "Class 4: 0.0000, Class 5: 0.5194, Class 6: 0.0000, \n",
      "Training Loss: 0.7930, Validation Loss: 0.7710\n",
      "Epoch 143/4000\n"
     ]
    },
    {
     "name": "stderr",
     "output_type": "stream",
     "text": [
      "Training: 100%|██████████| 10/10 [00:18<00:00,  1.85s/it, loss=0.764]\n",
      "Validation: 100%|██████████| 1/1 [00:00<00:00,  1.70it/s, loss=0.756]\n"
     ]
    },
    {
     "name": "stdout",
     "output_type": "stream",
     "text": [
      "Validation Dice Score\n",
      "Class 0: 0.0000, Class 1: 0.7436, Class 2: 0.0000, Class 3: 0.0061, \n",
      "Class 4: 0.6763, Class 5: 0.0556, Class 6: 0.0000, \n",
      "Training Loss: 0.7792, Validation Loss: 0.7559\n",
      "Epoch 144/4000\n"
     ]
    },
    {
     "name": "stderr",
     "output_type": "stream",
     "text": [
      "Training: 100%|██████████| 10/10 [00:18<00:00,  1.85s/it, loss=0.837]\n",
      "Validation: 100%|██████████| 1/1 [00:00<00:00,  1.84it/s, loss=0.617]\n"
     ]
    },
    {
     "name": "stdout",
     "output_type": "stream",
     "text": [
      "Validation Dice Score\n",
      "Class 0: 0.0000, Class 1: 0.8803, Class 2: 0.0015, Class 3: 0.0000, \n",
      "Class 4: 0.4545, Class 5: 0.0645, Class 6: 0.9147, \n",
      "Training Loss: 0.7580, Validation Loss: 0.6171\n",
      "Epoch 145/4000\n"
     ]
    },
    {
     "name": "stderr",
     "output_type": "stream",
     "text": [
      "Training: 100%|██████████| 10/10 [00:18<00:00,  1.86s/it, loss=0.743]\n",
      "Validation: 100%|██████████| 1/1 [00:00<00:00,  1.68it/s, loss=0.909]\n"
     ]
    },
    {
     "name": "stdout",
     "output_type": "stream",
     "text": [
      "Validation Dice Score\n",
      "Class 0: 0.0000, Class 1: 0.5338, Class 2: 0.0007, Class 3: 0.0000, \n",
      "Class 4: 0.0000, Class 5: 0.0271, Class 6: 0.0000, \n",
      "Training Loss: 0.7270, Validation Loss: 0.9093\n",
      "Epoch 146/4000\n"
     ]
    },
    {
     "name": "stderr",
     "output_type": "stream",
     "text": [
      "Training: 100%|██████████| 10/10 [00:18<00:00,  1.85s/it, loss=0.643]\n",
      "Validation: 100%|██████████| 1/1 [00:00<00:00,  1.83it/s, loss=0.726]\n"
     ]
    },
    {
     "name": "stdout",
     "output_type": "stream",
     "text": [
      "Validation Dice Score\n",
      "Class 0: 0.0000, Class 1: 0.6535, Class 2: 0.0008, Class 3: 0.0000, \n",
      "Class 4: 0.6439, Class 5: 0.3903, Class 6: 0.0000, \n",
      "Training Loss: 0.7491, Validation Loss: 0.7256\n",
      "Epoch 147/4000\n"
     ]
    },
    {
     "name": "stderr",
     "output_type": "stream",
     "text": [
      "Training: 100%|██████████| 10/10 [00:18<00:00,  1.85s/it, loss=0.835]\n",
      "Validation: 100%|██████████| 1/1 [00:00<00:00,  1.76it/s, loss=0.701]\n"
     ]
    },
    {
     "name": "stdout",
     "output_type": "stream",
     "text": [
      "Validation Dice Score\n",
      "Class 0: 0.0000, Class 1: 0.8425, Class 2: 0.0000, Class 3: 0.0001, \n",
      "Class 4: 0.0000, Class 5: 0.1629, Class 6: 0.7903, \n",
      "Training Loss: 0.7795, Validation Loss: 0.7007\n",
      "Epoch 148/4000\n"
     ]
    },
    {
     "name": "stderr",
     "output_type": "stream",
     "text": [
      "Training: 100%|██████████| 10/10 [00:18<00:00,  1.85s/it, loss=0.791]\n",
      "Validation: 100%|██████████| 1/1 [00:00<00:00,  1.73it/s, loss=0.895]\n"
     ]
    },
    {
     "name": "stdout",
     "output_type": "stream",
     "text": [
      "Validation Dice Score\n",
      "Class 0: 0.0000, Class 1: 0.6422, Class 2: 0.0034, Class 3: 0.0016, \n",
      "Class 4: 0.0000, Class 5: 0.0000, Class 6: 0.0000, \n",
      "Training Loss: 0.7618, Validation Loss: 0.8951\n",
      "Epoch 149/4000\n"
     ]
    },
    {
     "name": "stderr",
     "output_type": "stream",
     "text": [
      "Training: 100%|██████████| 10/10 [00:18<00:00,  1.84s/it, loss=0.732]\n",
      "Validation: 100%|██████████| 1/1 [00:00<00:00,  1.92it/s, loss=0.815]\n"
     ]
    },
    {
     "name": "stdout",
     "output_type": "stream",
     "text": [
      "Validation Dice Score\n",
      "Class 0: 0.0000, Class 1: 0.3478, Class 2: 0.0000, Class 3: 0.0000, \n",
      "Class 4: 0.0000, Class 5: 0.0000, Class 6: 0.7639, \n",
      "Training Loss: 0.7842, Validation Loss: 0.8152\n",
      "Epoch 150/4000\n"
     ]
    },
    {
     "name": "stderr",
     "output_type": "stream",
     "text": [
      "Training: 100%|██████████| 10/10 [00:18<00:00,  1.85s/it, loss=0.81]\n",
      "Validation: 100%|██████████| 1/1 [00:00<00:00,  1.80it/s, loss=0.81]\n"
     ]
    },
    {
     "name": "stdout",
     "output_type": "stream",
     "text": [
      "Validation Dice Score\n",
      "Class 0: 0.0000, Class 1: 0.4818, Class 2: 0.0000, Class 3: 0.0000, \n",
      "Class 4: 0.0000, Class 5: 0.0000, Class 6: 0.6978, \n",
      "Training Loss: 0.7818, Validation Loss: 0.8102\n",
      "Epoch 151/4000\n"
     ]
    },
    {
     "name": "stderr",
     "output_type": "stream",
     "text": [
      "Training: 100%|██████████| 10/10 [00:18<00:00,  1.85s/it, loss=0.866]\n",
      "Validation: 100%|██████████| 1/1 [00:00<00:00,  1.79it/s, loss=0.606]\n"
     ]
    },
    {
     "name": "stdout",
     "output_type": "stream",
     "text": [
      "Validation Dice Score\n",
      "Class 0: 0.0000, Class 1: 0.8773, Class 2: 0.0000, Class 3: 0.0067, \n",
      "Class 4: 0.3630, Class 5: 0.4812, Class 6: 0.6935, \n",
      "Training Loss: 0.7868, Validation Loss: 0.6057\n",
      "Epoch 152/4000\n"
     ]
    },
    {
     "name": "stderr",
     "output_type": "stream",
     "text": [
      "Training: 100%|██████████| 10/10 [00:18<00:00,  1.86s/it, loss=0.873]\n",
      "Validation: 100%|██████████| 1/1 [00:00<00:00,  1.88it/s, loss=0.751]\n"
     ]
    },
    {
     "name": "stdout",
     "output_type": "stream",
     "text": [
      "Validation Dice Score\n",
      "Class 0: 0.0000, Class 1: 0.7096, Class 2: 0.0026, Class 3: 0.0000, \n",
      "Class 4: 0.0000, Class 5: 0.8090, Class 6: 0.0000, \n",
      "Training Loss: 0.7633, Validation Loss: 0.7509\n",
      "Epoch 153/4000\n"
     ]
    },
    {
     "name": "stderr",
     "output_type": "stream",
     "text": [
      "Training: 100%|██████████| 10/10 [00:18<00:00,  1.85s/it, loss=0.723]\n",
      "Validation: 100%|██████████| 1/1 [00:00<00:00,  1.83it/s, loss=0.694]\n"
     ]
    },
    {
     "name": "stdout",
     "output_type": "stream",
     "text": [
      "Validation Dice Score\n",
      "Class 0: 0.0000, Class 1: 0.0000, Class 2: 0.0047, Class 3: 0.0000, \n",
      "Class 4: 0.3629, Class 5: 0.5888, Class 6: 0.8842, \n",
      "Training Loss: 0.7944, Validation Loss: 0.6945\n",
      "Epoch 154/4000\n"
     ]
    },
    {
     "name": "stderr",
     "output_type": "stream",
     "text": [
      "Training: 100%|██████████| 10/10 [00:18<00:00,  1.87s/it, loss=0.723]\n",
      "Validation: 100%|██████████| 1/1 [00:00<00:00,  1.85it/s, loss=0.726]\n"
     ]
    },
    {
     "name": "stdout",
     "output_type": "stream",
     "text": [
      "Validation Dice Score\n",
      "Class 0: 0.0000, Class 1: 0.8077, Class 2: 0.0000, Class 3: 0.0047, \n",
      "Class 4: 0.6785, Class 5: 0.1696, Class 6: 0.0000, \n",
      "Training Loss: 0.7786, Validation Loss: 0.7262\n",
      "Epoch 155/4000\n"
     ]
    },
    {
     "name": "stderr",
     "output_type": "stream",
     "text": [
      "Training: 100%|██████████| 10/10 [00:18<00:00,  1.86s/it, loss=0.759]\n",
      "Validation: 100%|██████████| 1/1 [00:00<00:00,  1.85it/s, loss=0.711]\n"
     ]
    },
    {
     "name": "stdout",
     "output_type": "stream",
     "text": [
      "Validation Dice Score\n",
      "Class 0: 0.0000, Class 1: 0.0000, Class 2: 0.0000, Class 3: 0.0000, \n",
      "Class 4: 0.2549, Class 5: 0.5986, Class 6: 0.8867, \n",
      "Training Loss: 0.7892, Validation Loss: 0.7112\n",
      "Epoch 156/4000\n"
     ]
    },
    {
     "name": "stderr",
     "output_type": "stream",
     "text": [
      "Training: 100%|██████████| 10/10 [00:18<00:00,  1.84s/it, loss=0.797]\n",
      "Validation: 100%|██████████| 1/1 [00:00<00:00,  1.65it/s, loss=0.909]\n"
     ]
    },
    {
     "name": "stdout",
     "output_type": "stream",
     "text": [
      "Validation Dice Score\n",
      "Class 0: 0.0000, Class 1: 0.0000, Class 2: 0.0023, Class 3: 0.0006, \n",
      "Class 4: 0.0000, Class 5: 0.5421, Class 6: 0.0000, \n",
      "Training Loss: 0.7961, Validation Loss: 0.9092\n",
      "Epoch 157/4000\n"
     ]
    },
    {
     "name": "stderr",
     "output_type": "stream",
     "text": [
      "Training: 100%|██████████| 10/10 [00:18<00:00,  1.84s/it, loss=0.842]\n",
      "Validation: 100%|██████████| 1/1 [00:00<00:00,  1.71it/s, loss=0.813]\n"
     ]
    },
    {
     "name": "stdout",
     "output_type": "stream",
     "text": [
      "Validation Dice Score\n",
      "Class 0: 0.0000, Class 1: 0.7105, Class 2: 0.0000, Class 3: 0.0000, \n",
      "Class 4: 0.0000, Class 5: 0.4247, Class 6: 0.0000, \n",
      "Training Loss: 0.8341, Validation Loss: 0.8133\n",
      "Epoch 158/4000\n"
     ]
    },
    {
     "name": "stderr",
     "output_type": "stream",
     "text": [
      "Training: 100%|██████████| 10/10 [00:18<00:00,  1.84s/it, loss=0.8] \n",
      "Validation: 100%|██████████| 1/1 [00:00<00:00,  1.70it/s, loss=0.624]\n"
     ]
    },
    {
     "name": "stdout",
     "output_type": "stream",
     "text": [
      "Validation Dice Score\n",
      "Class 0: 0.0000, Class 1: 0.8683, Class 2: 0.0027, Class 3: 0.0000, \n",
      "Class 4: 0.4589, Class 5: 0.0723, Class 6: 0.8670, \n",
      "Training Loss: 0.7717, Validation Loss: 0.6244\n",
      "Epoch 159/4000\n"
     ]
    },
    {
     "name": "stderr",
     "output_type": "stream",
     "text": [
      "Training: 100%|██████████| 10/10 [00:18<00:00,  1.83s/it, loss=0.888]\n",
      "Validation: 100%|██████████| 1/1 [00:00<00:00,  1.93it/s, loss=0.642]\n"
     ]
    },
    {
     "name": "stdout",
     "output_type": "stream",
     "text": [
      "Validation Dice Score\n",
      "Class 0: 0.0000, Class 1: 0.7242, Class 2: 0.0000, Class 3: 0.0083, \n",
      "Class 4: 0.0000, Class 5: 0.6246, Class 6: 0.7981, \n",
      "Training Loss: 0.7950, Validation Loss: 0.6416\n",
      "Epoch 160/4000\n"
     ]
    },
    {
     "name": "stderr",
     "output_type": "stream",
     "text": [
      "Training: 100%|██████████| 10/10 [00:18<00:00,  1.85s/it, loss=0.904]\n",
      "Validation: 100%|██████████| 1/1 [00:00<00:00,  1.82it/s, loss=0.692]\n"
     ]
    },
    {
     "name": "stdout",
     "output_type": "stream",
     "text": [
      "Validation Dice Score\n",
      "Class 0: 0.0001, Class 1: 0.7754, Class 2: 0.0000, Class 3: 0.0005, \n",
      "Class 4: 0.0000, Class 5: 0.2512, Class 6: 0.8571, \n",
      "Training Loss: 0.7722, Validation Loss: 0.6919\n",
      "Epoch 161/4000\n"
     ]
    },
    {
     "name": "stderr",
     "output_type": "stream",
     "text": [
      "Training: 100%|██████████| 10/10 [00:18<00:00,  1.85s/it, loss=0.853]\n",
      "Validation: 100%|██████████| 1/1 [00:00<00:00,  1.82it/s, loss=0.555]\n"
     ]
    },
    {
     "name": "stdout",
     "output_type": "stream",
     "text": [
      "Validation Dice Score\n",
      "Class 0: 0.0000, Class 1: 0.8651, Class 2: 0.0001, Class 3: 0.0000, \n",
      "Class 4: 0.1402, Class 5: 0.7398, Class 6: 0.9410, \n",
      "Training Loss: 0.7524, Validation Loss: 0.5546\n",
      "Epoch 162/4000\n"
     ]
    },
    {
     "name": "stderr",
     "output_type": "stream",
     "text": [
      "Training: 100%|██████████| 10/10 [00:18<00:00,  1.84s/it, loss=0.741]\n",
      "Validation: 100%|██████████| 1/1 [00:00<00:00,  1.69it/s, loss=0.749]\n"
     ]
    },
    {
     "name": "stdout",
     "output_type": "stream",
     "text": [
      "Validation Dice Score\n",
      "Class 0: 0.0000, Class 1: 0.7663, Class 2: 0.0000, Class 3: 0.0061, \n",
      "Class 4: 0.0000, Class 5: 0.5610, Class 6: 0.2170, \n",
      "Training Loss: 0.7511, Validation Loss: 0.7485\n",
      "Epoch 163/4000\n"
     ]
    },
    {
     "name": "stderr",
     "output_type": "stream",
     "text": [
      "Training: 100%|██████████| 10/10 [00:18<00:00,  1.86s/it, loss=0.824]\n",
      "Validation: 100%|██████████| 1/1 [00:00<00:00,  1.71it/s, loss=0.743]\n"
     ]
    },
    {
     "name": "stdout",
     "output_type": "stream",
     "text": [
      "Validation Dice Score\n",
      "Class 0: 0.0006, Class 1: 0.5023, Class 2: 0.0009, Class 3: 0.0013, \n",
      "Class 4: 0.1425, Class 5: 0.0000, Class 6: 0.8950, \n",
      "Training Loss: 0.7595, Validation Loss: 0.7429\n",
      "Epoch 164/4000\n"
     ]
    },
    {
     "name": "stderr",
     "output_type": "stream",
     "text": [
      "Training: 100%|██████████| 10/10 [00:18<00:00,  1.85s/it, loss=0.688]\n",
      "Validation: 100%|██████████| 1/1 [00:00<00:00,  1.66it/s, loss=0.757]\n"
     ]
    },
    {
     "name": "stdout",
     "output_type": "stream",
     "text": [
      "Validation Dice Score\n",
      "Class 0: 0.0000, Class 1: 0.7255, Class 2: 0.0000, Class 3: 0.0101, \n",
      "Class 4: 0.0000, Class 5: 0.0000, Class 6: 0.7289, \n",
      "Training Loss: 0.7569, Validation Loss: 0.7568\n",
      "Epoch 165/4000\n"
     ]
    },
    {
     "name": "stderr",
     "output_type": "stream",
     "text": [
      "Training: 100%|██████████| 10/10 [00:18<00:00,  1.84s/it, loss=0.775]\n",
      "Validation: 100%|██████████| 1/1 [00:00<00:00,  1.71it/s, loss=0.58]\n"
     ]
    },
    {
     "name": "stdout",
     "output_type": "stream",
     "text": [
      "Validation Dice Score\n",
      "Class 0: 0.0000, Class 1: 0.8906, Class 2: 0.0026, Class 3: 0.0000, \n",
      "Class 4: 0.4714, Class 5: 0.3359, Class 6: 0.8481, \n",
      "Training Loss: 0.7805, Validation Loss: 0.5798\n",
      "Epoch 166/4000\n"
     ]
    },
    {
     "name": "stderr",
     "output_type": "stream",
     "text": [
      "Training: 100%|██████████| 10/10 [00:18<00:00,  1.85s/it, loss=0.907]\n",
      "Validation: 100%|██████████| 1/1 [00:00<00:00,  1.65it/s, loss=0.804]\n"
     ]
    },
    {
     "name": "stdout",
     "output_type": "stream",
     "text": [
      "Validation Dice Score\n",
      "Class 0: 0.0000, Class 1: 0.7903, Class 2: 0.0000, Class 3: 0.0000, \n",
      "Class 4: 0.0000, Class 5: 0.4109, Class 6: 0.0000, \n",
      "Training Loss: 0.7920, Validation Loss: 0.8042\n",
      "Epoch 167/4000\n"
     ]
    },
    {
     "name": "stderr",
     "output_type": "stream",
     "text": [
      "Training: 100%|██████████| 10/10 [00:18<00:00,  1.85s/it, loss=0.939]\n",
      "Validation: 100%|██████████| 1/1 [00:00<00:00,  1.83it/s, loss=0.816]\n"
     ]
    },
    {
     "name": "stdout",
     "output_type": "stream",
     "text": [
      "Validation Dice Score\n",
      "Class 0: 0.0000, Class 1: 0.7086, Class 2: 0.0000, Class 3: 0.0000, \n",
      "Class 4: 0.4325, Class 5: 0.0000, Class 6: 0.0000, \n",
      "Training Loss: 0.7895, Validation Loss: 0.8161\n",
      "Epoch 168/4000\n"
     ]
    },
    {
     "name": "stderr",
     "output_type": "stream",
     "text": [
      "Training: 100%|██████████| 10/10 [00:18<00:00,  1.86s/it, loss=0.628]\n",
      "Validation: 100%|██████████| 1/1 [00:00<00:00,  1.75it/s, loss=0.676]\n"
     ]
    },
    {
     "name": "stdout",
     "output_type": "stream",
     "text": [
      "Validation Dice Score\n",
      "Class 0: 0.0000, Class 1: 0.8415, Class 2: 0.0000, Class 3: 0.0009, \n",
      "Class 4: 0.6317, Class 5: 0.4902, Class 6: 0.0000, \n",
      "Training Loss: 0.7940, Validation Loss: 0.6765\n",
      "Epoch 169/4000\n"
     ]
    },
    {
     "name": "stderr",
     "output_type": "stream",
     "text": [
      "Training: 100%|██████████| 10/10 [00:18<00:00,  1.87s/it, loss=0.924]\n",
      "Validation: 100%|██████████| 1/1 [00:00<00:00,  1.70it/s, loss=0.756]\n"
     ]
    },
    {
     "name": "stdout",
     "output_type": "stream",
     "text": [
      "Validation Dice Score\n",
      "Class 0: 0.0000, Class 1: 0.8374, Class 2: 0.0000, Class 3: 0.0069, \n",
      "Class 4: 0.6337, Class 5: 0.0000, Class 6: 0.0000, \n",
      "Training Loss: 0.7667, Validation Loss: 0.7561\n",
      "Epoch 170/4000\n"
     ]
    },
    {
     "name": "stderr",
     "output_type": "stream",
     "text": [
      "Training: 100%|██████████| 10/10 [00:18<00:00,  1.87s/it, loss=0.826]\n",
      "Validation: 100%|██████████| 1/1 [00:00<00:00,  1.74it/s, loss=0.747]\n"
     ]
    },
    {
     "name": "stdout",
     "output_type": "stream",
     "text": [
      "Validation Dice Score\n",
      "Class 0: 0.0000, Class 1: 0.0000, Class 2: 0.0000, Class 3: 0.0000, \n",
      "Class 4: 0.6954, Class 5: 0.8418, Class 6: 0.0000, \n",
      "Training Loss: 0.7782, Validation Loss: 0.7469\n",
      "Epoch 171/4000\n"
     ]
    },
    {
     "name": "stderr",
     "output_type": "stream",
     "text": [
      "Training: 100%|██████████| 10/10 [00:18<00:00,  1.85s/it, loss=0.876]\n",
      "Validation: 100%|██████████| 1/1 [00:00<00:00,  1.76it/s, loss=0.658]\n"
     ]
    },
    {
     "name": "stdout",
     "output_type": "stream",
     "text": [
      "Validation Dice Score\n",
      "Class 0: 0.0000, Class 1: 0.8104, Class 2: 0.0000, Class 3: 0.0000, \n",
      "Class 4: 0.0000, Class 5: 0.3761, Class 6: 0.8884, \n",
      "Training Loss: 0.7844, Validation Loss: 0.6584\n",
      "Epoch 172/4000\n"
     ]
    },
    {
     "name": "stderr",
     "output_type": "stream",
     "text": [
      "Training: 100%|██████████| 10/10 [00:18<00:00,  1.85s/it, loss=0.675]\n",
      "Validation: 100%|██████████| 1/1 [00:00<00:00,  1.96it/s, loss=0.681]\n"
     ]
    },
    {
     "name": "stdout",
     "output_type": "stream",
     "text": [
      "Validation Dice Score\n",
      "Class 0: 0.0000, Class 1: 0.7465, Class 2: 0.0000, Class 3: 0.0001, \n",
      "Class 4: 0.0000, Class 5: 0.4165, Class 6: 0.7774, \n",
      "Training Loss: 0.7793, Validation Loss: 0.6814\n",
      "Epoch 173/4000\n"
     ]
    },
    {
     "name": "stderr",
     "output_type": "stream",
     "text": [
      "Training: 100%|██████████| 10/10 [00:18<00:00,  1.86s/it, loss=0.692]\n",
      "Validation: 100%|██████████| 1/1 [00:00<00:00,  1.88it/s, loss=0.634]"
     ]
    },
    {
     "name": "stdout",
     "output_type": "stream",
     "text": [
      "Validation Dice Score\n",
      "Class 0: 0.0000, Class 1: 0.8059, Class 2: 0.0000, Class 3: 0.0070, \n",
      "Class 4: 0.4793, Class 5: 0.0000, Class 6: 0.9191, \n",
      "Training Loss: 0.7649, Validation Loss: 0.6338\n",
      "Early stopping\n"
     ]
    },
    {
     "name": "stderr",
     "output_type": "stream",
     "text": [
      "\n"
     ]
    },
    {
     "data": {
      "text/html": [],
      "text/plain": [
       "<IPython.core.display.HTML object>"
      ]
     },
     "metadata": {},
     "output_type": "display_data"
    },
    {
     "data": {
      "text/html": [
       "<br>    <style><br>        .wandb-row {<br>            display: flex;<br>            flex-direction: row;<br>            flex-wrap: wrap;<br>            justify-content: flex-start;<br>            width: 100%;<br>        }<br>        .wandb-col {<br>            display: flex;<br>            flex-direction: column;<br>            flex-basis: 100%;<br>            flex: 1;<br>            padding: 10px;<br>        }<br>    </style><br><div class=\"wandb-row\"><div class=\"wandb-col\"><h3>Run history:</h3><br/><table class=\"wandb\"><tr><td>class_0_dice_score</td><td>▇▆████▇▇▆▆▃▂▁▂▁▂▂▁▁▁▁▁▁▁▁▁▁▁▁▁▁▁▁▁▁▁▁▁▁▁</td></tr><tr><td>class_1_dice_score</td><td>▂▆▆▇▇▆█▅▁▆▁▆▆▆▅█▆▇▇▆▆▇█▇▇▅▇▇▇▇▆▇▇▅█▇▆▇█▅</td></tr><tr><td>class_2_dice_score</td><td>▁▁▁▆▁▄▄▁▁▃▁▁▁▁▁▁▄▁▁▂▂▄▁▁▁▁▂█▁▁▁▂▁▄▄▁▄▁▁▁</td></tr><tr><td>class_3_dice_score</td><td>▁▁▁▄▁▁▃▁▁▃▁▁▁▁▄▆▁▂▁▁▁▁▅▁▁▁▁▁▂▁▅▁▆▅▁▄▁█▁▁</td></tr><tr><td>class_4_dice_score</td><td>▂▆▁▁▅▆▅▁▅▁▅▁▃▁▁▁▆▄▂▂▁▇▁▆▅▅▁▁▁▁▂██▁▄▄▁▁▁▆</td></tr><tr><td>class_5_dice_score</td><td>▁▁▂▄▅▁▁▅▁▁▁▁▁▅▃▂▇▅▆▁▅▄▄▄▁▄▆█▇▁▁▂▂▃▁▃▇▅█▅</td></tr><tr><td>class_6_dice_score</td><td>▁▄▁▆▁▁▁▇▁▁▅▇▁▆▁▁▁▇▃█▁█▁▄▁▁▁▄▇██▁▇█▁▁▇▁▁▇</td></tr><tr><td>epoch</td><td>▁▁▁▁▁▂▂▂▂▂▃▃▃▃▃▃▃▃▄▄▄▄▄▄▅▅▅▅▅▅▆▆▆▆▆▇▇▇▇█</td></tr><tr><td>train_batch_loss</td><td>▇▆▅▅▇▄▄▆▄█▆▇▄▃▃▃▃▃▆▂▅▄▅▃▂▆▂▂▃▁▃▄▆▅▃▅▅▇▂▄</td></tr><tr><td>train_epoch_loss</td><td>█▇▆▆▆▅▄▄▃▃▃▃▃▃▂▃▄▃▄▄▄▄▃▂▃▂▃▁▃▃▂▁▃▃▄▄▅▂▃▂</td></tr><tr><td>val_epoch_loss</td><td>▄█▆▆▃▅▄▁▇▆█▅▆▇▅▅▄▆▂▇▄▅▄▅▂▃▆█▂▂▂▂▄█▆▂▅▅▁▂</td></tr></table><br/></div><div class=\"wandb-col\"><h3>Run summary:</h3><br/><table class=\"wandb\"><tr><td>class_0_dice_score</td><td>0.0</td></tr><tr><td>class_1_dice_score</td><td>0.8059</td></tr><tr><td>class_2_dice_score</td><td>0</td></tr><tr><td>class_3_dice_score</td><td>0.00703</td></tr><tr><td>class_4_dice_score</td><td>0.47926</td></tr><tr><td>class_5_dice_score</td><td>0</td></tr><tr><td>class_6_dice_score</td><td>0.91912</td></tr><tr><td>epoch</td><td>173</td></tr><tr><td>train_batch_loss</td><td>0.6921</td></tr><tr><td>train_epoch_loss</td><td>0.76493</td></tr><tr><td>val_epoch_loss</td><td>0.63385</td></tr></table><br/></div></div>"
      ],
      "text/plain": [
       "<IPython.core.display.HTML object>"
      ]
     },
     "metadata": {},
     "output_type": "display_data"
    },
    {
     "data": {
      "text/html": [
       " View run <strong style=\"color:#cdcd00\">SwinUNETR_lr0.001_bs2_lambda0.45_20241218_183049</strong> at: <a href='https://wandb.ai/limbw/czii_SwinUnetR/runs/28xeq9dg' target=\"_blank\">https://wandb.ai/limbw/czii_SwinUnetR/runs/28xeq9dg</a><br> View project at: <a href='https://wandb.ai/limbw/czii_SwinUnetR' target=\"_blank\">https://wandb.ai/limbw/czii_SwinUnetR</a><br>Synced 5 W&B file(s), 0 media file(s), 0 artifact file(s) and 0 other file(s)"
      ],
      "text/plain": [
       "<IPython.core.display.HTML object>"
      ]
     },
     "metadata": {},
     "output_type": "display_data"
    },
    {
     "data": {
      "text/html": [
       "Find logs at: <code>.\\wandb\\run-20241218_183050-28xeq9dg\\logs</code>"
      ],
      "text/plain": [
       "<IPython.core.display.HTML object>"
      ]
     },
     "metadata": {},
     "output_type": "display_data"
    }
   ],
   "source": [
    "from monai.metrics import DiceMetric\n",
    "import wandb\n",
    "from datetime import datetime\n",
    "\n",
    "current_time = datetime.now().strftime('%Y%m%d_%H%M%S')\n",
    "run_name = f'SwinUNETR_lr{lr}_bs{batch_size}_lambda{lamda}_{current_time}'\n",
    "\n",
    "# wandb 초기화\n",
    "wandb.init(\n",
    "    project='czii_SwinUnetR',  # 프로젝트 이름 설정\n",
    "    name=run_name,         # 실행(run) 이름 설정\n",
    "    config={\n",
    "        'num_epochs': num_epochs,\n",
    "        'learning_rate': lr,\n",
    "        'batch_size': batch_size,\n",
    "        'lambda': lamda,\n",
    "        # 필요한 하이퍼파라미터 추가\n",
    "    }\n",
    ")\n",
    "\n",
    "# 모델을 wandb에 연결\n",
    "wandb.watch(model, log='all')\n",
    "\n",
    "def create_metric_dict(num_classes):\n",
    "    \"\"\"각 클래스별 DiceMetric 생성\"\"\"\n",
    "    metrics = {}\n",
    "    for i in range(num_classes):\n",
    "        metrics[f'dice_class_{i}'] = DiceMetric(\n",
    "            include_background=False if i == 0 else False,\n",
    "            reduction=\"mean\",\n",
    "            get_not_nans=False\n",
    "        )\n",
    "    return metrics\n",
    "    \n",
    "def processing(batch_data, model, criterion, device):\n",
    "    images = batch_data['image'].to(device)  # Input 이미지 (B, 1, 96, 96, 96)\n",
    "    labels = batch_data['label'].to(device)  # 라벨 (B, 96, 96, 96)\n",
    "\n",
    "    labels = labels.squeeze(1)  # (B, 1, 96, 96, 96) → (B, 96, 96, 96)\n",
    "    labels = labels.long()  # 라벨을 정수형으로 변환\n",
    "\n",
    "    # 원핫 인코딩 (B, H, W, D) → (B, num_classes, H, W, D)\n",
    "    \n",
    "    labels_onehot = torch.nn.functional.one_hot(labels, num_classes=n_classes)\n",
    "    labels_onehot = labels_onehot.permute(0, 4, 1, 2, 3).float()  # (B, num_classes, H, W, D)\n",
    "\n",
    "    # 모델 예측\n",
    "    outputs = model(images)  # outputs: (B, num_classes, H, W, D)\n",
    "\n",
    "    # Loss 계산\n",
    "    loss = criterion(outputs, labels_onehot)\n",
    "\n",
    "    return loss, outputs, labels, outputs.argmax(dim=1)\n",
    "\n",
    "def train_one_epoch(model, train_loader, criterion, optimizer, device, epoch):\n",
    "    model.train()\n",
    "    epoch_loss = 0\n",
    "    with tqdm(train_loader, desc='Training') as pbar:\n",
    "        for batch_data in pbar:\n",
    "            optimizer.zero_grad()\n",
    "            loss, _, _, _ = processing(batch_data, model, criterion, device)\n",
    "            loss.backward()\n",
    "            optimizer.step()\n",
    "\n",
    "            epoch_loss += loss.item()\n",
    "            pbar.set_postfix(loss=loss.item())\n",
    "\n",
    "            # 미니배치 손실 로깅\n",
    "            wandb.log({'train_batch_loss': loss.item()})\n",
    "\n",
    "    avg_loss = epoch_loss / len(train_loader)\n",
    "    # 에포크별 평균 손실 로깅\n",
    "    wandb.log({'train_epoch_loss': avg_loss, 'epoch': epoch + 1})\n",
    "    return avg_loss\n",
    "\n",
    "def validate_one_epoch(model, val_loader, criterion, device, epoch, calculate_dice_interval):\n",
    "    model.eval()\n",
    "    val_loss = 0\n",
    "    metrics = create_metric_dict(n_classes)\n",
    "    class_dice_scores = {i: [] for i in range(n_classes)}\n",
    "    with torch.no_grad():\n",
    "        with tqdm(val_loader, desc='Validation') as pbar:\n",
    "            for batch_data in pbar:\n",
    "                loss, _, labels, preds = processing(batch_data, model, criterion, device)\n",
    "                val_loss += loss.item()\n",
    "                pbar.set_postfix(loss=loss.item())\n",
    "\n",
    "                # 각 클래스별 Dice 점수 계산\n",
    "                if epoch % calculate_dice_interval == 0:\n",
    "                    for i in range(n_classes):\n",
    "                        pred_i = (preds == i)\n",
    "                        label_i = (labels == i)\n",
    "                        dice_score = (2.0 * torch.sum(pred_i & label_i)) / (torch.sum(pred_i) + torch.sum(label_i) + 1e-8)\n",
    "                        class_dice_scores[i].append(dice_score.item())\n",
    "\n",
    "    avg_loss = val_loss / len(val_loader)\n",
    "    # 에포크별 평균 손실 로깅\n",
    "    wandb.log({'val_epoch_loss': avg_loss, 'epoch': epoch + 1})\n",
    "\n",
    "    # 각 클래스별 평균 Dice 점수 출력\n",
    "    if epoch % calculate_dice_interval == 0:\n",
    "        print(\"Validation Dice Score\")\n",
    "        for i in range(n_classes):\n",
    "            mean_dice = np.mean(class_dice_scores[i])\n",
    "            wandb.log({f'class_{i}_dice_score': mean_dice, 'epoch': epoch + 1})\n",
    "            print(f\"Class {i}: {mean_dice:.4f}\", end=\", \")\n",
    "            if i == 3:\n",
    "                print()\n",
    "        print()\n",
    "\n",
    "    return avg_loss\n",
    "\n",
    "def train_model(\n",
    "    model, train_loader, val_loader, criterion, optimizer, num_epochs, patience, \n",
    "    device, start_epoch, best_val_loss, calculate_dice_interval=1\n",
    "):\n",
    "    \"\"\"\n",
    "    모델을 학습하고 검증하는 함수\n",
    "    Args:\n",
    "        model: 학습할 모델\n",
    "        train_loader: 학습 데이터 로더\n",
    "        val_loader: 검증 데이터 로더\n",
    "        criterion: 손실 함수\n",
    "        optimizer: 최적화 알고리즘\n",
    "        num_epochs: 총 학습 epoch 수\n",
    "        patience: early stopping 기준\n",
    "        device: GPU/CPU 장치\n",
    "        start_epoch: 시작 epoch\n",
    "        best_val_loss: 이전 최적 validation loss\n",
    "        calculate_dice_interval: Dice 점수 계산 주기\n",
    "    \"\"\"\n",
    "\n",
    "    epochs_no_improve = 0\n",
    "\n",
    "    for epoch in range(start_epoch, num_epochs):\n",
    "        print(f\"Epoch {epoch + 1}/{num_epochs}\")\n",
    "\n",
    "        # Train One Epoch\n",
    "        train_loss = train_one_epoch(\n",
    "            model=model, \n",
    "            train_loader=train_loader, \n",
    "            criterion=criterion, \n",
    "            optimizer=optimizer, \n",
    "            device=device,\n",
    "            epoch=epoch\n",
    "        )\n",
    "\n",
    "        # Validate One Epoch\n",
    "        val_loss = validate_one_epoch(\n",
    "            model=model, \n",
    "            val_loader=val_loader, \n",
    "            criterion=criterion, \n",
    "            device=device, \n",
    "            epoch=epoch, \n",
    "            calculate_dice_interval=calculate_dice_interval\n",
    "        )\n",
    "\n",
    "        print(f\"Training Loss: {train_loss:.4f}, Validation Loss: {val_loss:.4f}\")\n",
    "\n",
    "        # Early stopping 및 모델 저장 로직\n",
    "        if val_loss < best_val_loss:\n",
    "            best_val_loss = val_loss\n",
    "            epochs_no_improve = 0\n",
    "            checkpoint_path = os.path.join(checkpoint_dir, 'best_model.pt')\n",
    "            torch.save({\n",
    "                'epoch': epoch + 1,\n",
    "                'model_state_dict': model.state_dict(),\n",
    "                'optimizer_state_dict': optimizer.state_dict(),\n",
    "                'best_val_loss': best_val_loss,\n",
    "            }, checkpoint_path)\n",
    "            print(f\"Best model saved with validation loss: {best_val_loss:.4f}\")\n",
    "        else:\n",
    "            epochs_no_improve += 1\n",
    "\n",
    "        if epochs_no_improve >= patience:\n",
    "            print(\"Early stopping\")\n",
    "            break\n",
    "\n",
    "    wandb.finish()\n",
    "\n",
    "train_model(\n",
    "    model=model,\n",
    "    train_loader=train_loader,\n",
    "    val_loader=val_loader,\n",
    "    criterion=criterion,\n",
    "    optimizer=optimizer,\n",
    "    num_epochs=num_epochs,\n",
    "    patience=50,\n",
    "    device=device,\n",
    "    start_epoch=start_epoch,\n",
    "    best_val_loss=best_val_loss,\n",
    "    calculate_dice_interval=1\n",
    ")"
   ]
  },
  {
   "cell_type": "code",
   "execution_count": 10,
   "metadata": {},
   "outputs": [
    {
     "name": "stdout",
     "output_type": "stream",
     "text": [
      "Config file written to ./kaggle/working/copick.config\n"
     ]
    },
    {
     "ename": "ValidationError",
     "evalue": "1 validation error for CopickConfigFSSpec\noverlay_root\n  Field required [type=missing, input_value={'name': 'czii_cryoet_mlc...fig_type': 'filesystem'}, input_type=dict]\n    For further information visit https://errors.pydantic.dev/2.9/v/missing",
     "output_type": "error",
     "traceback": [
      "\u001b[1;31m---------------------------------------------------------------------------\u001b[0m",
      "\u001b[1;31mValidationError\u001b[0m                           Traceback (most recent call last)",
      "Cell \u001b[1;32mIn[10], line 91\u001b[0m\n\u001b[0;32m     85\u001b[0m non_random_transforms \u001b[38;5;241m=\u001b[39m Compose([\n\u001b[0;32m     86\u001b[0m     EnsureChannelFirstd(keys\u001b[38;5;241m=\u001b[39m[\u001b[38;5;124m\"\u001b[39m\u001b[38;5;124mimage\u001b[39m\u001b[38;5;124m\"\u001b[39m], channel_dim\u001b[38;5;241m=\u001b[39m\u001b[38;5;124m\"\u001b[39m\u001b[38;5;124mno_channel\u001b[39m\u001b[38;5;124m\"\u001b[39m),\n\u001b[0;32m     87\u001b[0m     NormalizeIntensityd(keys\u001b[38;5;241m=\u001b[39m\u001b[38;5;124m\"\u001b[39m\u001b[38;5;124mimage\u001b[39m\u001b[38;5;124m\"\u001b[39m),\n\u001b[0;32m     88\u001b[0m     Orientationd(keys\u001b[38;5;241m=\u001b[39m[\u001b[38;5;124m\"\u001b[39m\u001b[38;5;124mimage\u001b[39m\u001b[38;5;124m\"\u001b[39m], axcodes\u001b[38;5;241m=\u001b[39m\u001b[38;5;124m\"\u001b[39m\u001b[38;5;124mRAS\u001b[39m\u001b[38;5;124m\"\u001b[39m)\n\u001b[0;32m     89\u001b[0m ])\n\u001b[0;32m     90\u001b[0m model\u001b[38;5;241m.\u001b[39meval()\n\u001b[1;32m---> 91\u001b[0m preprocessor \u001b[38;5;241m=\u001b[39m \u001b[43mPreprocessor\u001b[49m\u001b[43m(\u001b[49m\u001b[43mconfig_blob\u001b[49m\u001b[43m)\u001b[49m\n\u001b[0;32m     92\u001b[0m \u001b[38;5;28;01mfor\u001b[39;00m vol_idx, run \u001b[38;5;129;01min\u001b[39;00m \u001b[38;5;28menumerate\u001b[39m(preprocessor\u001b[38;5;241m.\u001b[39mroot\u001b[38;5;241m.\u001b[39mruns):\n\u001b[0;32m     93\u001b[0m     \u001b[38;5;28mprint\u001b[39m(\u001b[38;5;124mf\u001b[39m\u001b[38;5;124m\"\u001b[39m\u001b[38;5;124mProcessing volume \u001b[39m\u001b[38;5;132;01m{\u001b[39;00mvol_idx\u001b[38;5;250m \u001b[39m\u001b[38;5;241m+\u001b[39m\u001b[38;5;250m \u001b[39m\u001b[38;5;241m1\u001b[39m\u001b[38;5;132;01m}\u001b[39;00m\u001b[38;5;124m/\u001b[39m\u001b[38;5;132;01m{\u001b[39;00m\u001b[38;5;28mlen\u001b[39m(preprocessor\u001b[38;5;241m.\u001b[39mroot\u001b[38;5;241m.\u001b[39mruns)\u001b[38;5;132;01m}\u001b[39;00m\u001b[38;5;124m\"\u001b[39m)\n",
      "File \u001b[1;32md:\\Workspace\\czll\\src\\dataset\\preprocessing.py:14\u001b[0m, in \u001b[0;36mPreprocessor.__init__\u001b[1;34m(self, config_blob, copick_config_path)\u001b[0m\n\u001b[0;32m     12\u001b[0m \u001b[38;5;28mself\u001b[39m\u001b[38;5;241m.\u001b[39mcopick_config_path \u001b[38;5;241m=\u001b[39m copick_config_path\n\u001b[0;32m     13\u001b[0m \u001b[38;5;66;03m# 클래스 내부 메서드 호출 시 self 사용\u001b[39;00m\n\u001b[1;32m---> 14\u001b[0m \u001b[38;5;28mself\u001b[39m\u001b[38;5;241m.\u001b[39mcopick_config_path \u001b[38;5;241m=\u001b[39m \u001b[38;5;28;43mself\u001b[39;49m\u001b[38;5;241;43m.\u001b[39;49m\u001b[43m_make_config\u001b[49m\u001b[43m(\u001b[49m\u001b[43mconfig_blob\u001b[49m\u001b[43m)\u001b[49m\n\u001b[0;32m     15\u001b[0m \u001b[38;5;28mself\u001b[39m\u001b[38;5;241m.\u001b[39mroot \u001b[38;5;241m=\u001b[39m copick\u001b[38;5;241m.\u001b[39mfrom_file(\u001b[38;5;28mself\u001b[39m\u001b[38;5;241m.\u001b[39mcopick_config_path)\n",
      "File \u001b[1;32md:\\Workspace\\czll\\src\\dataset\\preprocessing.py:21\u001b[0m, in \u001b[0;36mPreprocessor._make_config\u001b[1;34m(self, static_root)\u001b[0m\n\u001b[0;32m     19\u001b[0m     f\u001b[38;5;241m.\u001b[39mwrite(\u001b[38;5;28mself\u001b[39m\u001b[38;5;241m.\u001b[39mconfig_blob)\n\u001b[0;32m     20\u001b[0m \u001b[38;5;28mprint\u001b[39m(\u001b[38;5;124mf\u001b[39m\u001b[38;5;124m\"\u001b[39m\u001b[38;5;124mConfig file written to \u001b[39m\u001b[38;5;132;01m{\u001b[39;00m\u001b[38;5;28mself\u001b[39m\u001b[38;5;241m.\u001b[39mcopick_config_path\u001b[38;5;132;01m}\u001b[39;00m\u001b[38;5;124m\"\u001b[39m)\n\u001b[1;32m---> 21\u001b[0m root \u001b[38;5;241m=\u001b[39m \u001b[43mcopick\u001b[49m\u001b[38;5;241;43m.\u001b[39;49m\u001b[43mfrom_file\u001b[49m\u001b[43m(\u001b[49m\u001b[38;5;28;43mself\u001b[39;49m\u001b[38;5;241;43m.\u001b[39;49m\u001b[43mcopick_config_path\u001b[49m\u001b[43m)\u001b[49m\n\u001b[0;32m     22\u001b[0m \u001b[38;5;28mprint\u001b[39m(\u001b[38;5;124m\"\u001b[39m\u001b[38;5;124mfile length:\u001b[39m\u001b[38;5;124m\"\u001b[39m,\u001b[38;5;28mlen\u001b[39m(root\u001b[38;5;241m.\u001b[39mruns))\n\u001b[0;32m     23\u001b[0m \u001b[38;5;28;01mreturn\u001b[39;00m \u001b[38;5;28mself\u001b[39m\u001b[38;5;241m.\u001b[39mcopick_config_path\n",
      "File \u001b[1;32mc:\\Users\\pook0\\.conda\\envs\\UM\\Lib\\site-packages\\copick\\ops\\open.py:32\u001b[0m, in \u001b[0;36mfrom_file\u001b[1;34m(path)\u001b[0m\n\u001b[0;32m     29\u001b[0m \u001b[38;5;28;01mwith\u001b[39;00m \u001b[38;5;28mopen\u001b[39m(path, \u001b[38;5;124m\"\u001b[39m\u001b[38;5;124mr\u001b[39m\u001b[38;5;124m\"\u001b[39m) \u001b[38;5;28;01mas\u001b[39;00m f:\n\u001b[0;32m     30\u001b[0m     data \u001b[38;5;241m=\u001b[39m f\u001b[38;5;241m.\u001b[39mread()\n\u001b[1;32m---> 32\u001b[0m \u001b[38;5;28;01mreturn\u001b[39;00m \u001b[43mfrom_string\u001b[49m\u001b[43m(\u001b[49m\u001b[43mdata\u001b[49m\u001b[43m)\u001b[49m\n",
      "File \u001b[1;32mc:\\Users\\pook0\\.conda\\envs\\UM\\Lib\\site-packages\\copick\\ops\\open.py:23\u001b[0m, in \u001b[0;36mfrom_string\u001b[1;34m(data)\u001b[0m\n\u001b[0;32m     16\u001b[0m     warnings\u001b[38;5;241m.\u001b[39mwarn(\n\u001b[0;32m     17\u001b[0m         \u001b[38;5;124m\"\u001b[39m\u001b[38;5;124mconfig_type not found in config file, defaulting to filesystem\u001b[39m\u001b[38;5;124m\"\u001b[39m,\n\u001b[0;32m     18\u001b[0m         \u001b[38;5;167;01mDeprecationWarning\u001b[39;00m,\n\u001b[0;32m     19\u001b[0m         stacklevel\u001b[38;5;241m=\u001b[39m\u001b[38;5;241m2\u001b[39m,\n\u001b[0;32m     20\u001b[0m     )\n\u001b[0;32m     22\u001b[0m \u001b[38;5;28;01mif\u001b[39;00m data[\u001b[38;5;124m\"\u001b[39m\u001b[38;5;124mconfig_type\u001b[39m\u001b[38;5;124m\"\u001b[39m] \u001b[38;5;241m==\u001b[39m \u001b[38;5;124m\"\u001b[39m\u001b[38;5;124mfilesystem\u001b[39m\u001b[38;5;124m\"\u001b[39m:\n\u001b[1;32m---> 23\u001b[0m     \u001b[38;5;28;01mreturn\u001b[39;00m CopickRootFSSpec(\u001b[43mCopickConfigFSSpec\u001b[49m\u001b[43m(\u001b[49m\u001b[38;5;241;43m*\u001b[39;49m\u001b[38;5;241;43m*\u001b[39;49m\u001b[43mdata\u001b[49m\u001b[43m)\u001b[49m)\n\u001b[0;32m     24\u001b[0m \u001b[38;5;28;01melif\u001b[39;00m data[\u001b[38;5;124m\"\u001b[39m\u001b[38;5;124mconfig_type\u001b[39m\u001b[38;5;124m\"\u001b[39m] \u001b[38;5;241m==\u001b[39m \u001b[38;5;124m\"\u001b[39m\u001b[38;5;124mcryoet_data_portal\u001b[39m\u001b[38;5;124m\"\u001b[39m:\n\u001b[0;32m     25\u001b[0m     \u001b[38;5;28;01mreturn\u001b[39;00m CopickRootCDP(CopickConfigCDP(\u001b[38;5;241m*\u001b[39m\u001b[38;5;241m*\u001b[39mdata))\n",
      "File \u001b[1;32mc:\\Users\\pook0\\.conda\\envs\\UM\\Lib\\site-packages\\pydantic\\main.py:212\u001b[0m, in \u001b[0;36mBaseModel.__init__\u001b[1;34m(self, **data)\u001b[0m\n\u001b[0;32m    210\u001b[0m \u001b[38;5;66;03m# `__tracebackhide__` tells pytest and some other tools to omit this function from tracebacks\u001b[39;00m\n\u001b[0;32m    211\u001b[0m __tracebackhide__ \u001b[38;5;241m=\u001b[39m \u001b[38;5;28;01mTrue\u001b[39;00m\n\u001b[1;32m--> 212\u001b[0m validated_self \u001b[38;5;241m=\u001b[39m \u001b[38;5;28;43mself\u001b[39;49m\u001b[38;5;241;43m.\u001b[39;49m\u001b[43m__pydantic_validator__\u001b[49m\u001b[38;5;241;43m.\u001b[39;49m\u001b[43mvalidate_python\u001b[49m\u001b[43m(\u001b[49m\u001b[43mdata\u001b[49m\u001b[43m,\u001b[49m\u001b[43m \u001b[49m\u001b[43mself_instance\u001b[49m\u001b[38;5;241;43m=\u001b[39;49m\u001b[38;5;28;43mself\u001b[39;49m\u001b[43m)\u001b[49m\n\u001b[0;32m    213\u001b[0m \u001b[38;5;28;01mif\u001b[39;00m \u001b[38;5;28mself\u001b[39m \u001b[38;5;129;01mis\u001b[39;00m \u001b[38;5;129;01mnot\u001b[39;00m validated_self:\n\u001b[0;32m    214\u001b[0m     warnings\u001b[38;5;241m.\u001b[39mwarn(\n\u001b[0;32m    215\u001b[0m         \u001b[38;5;124m'\u001b[39m\u001b[38;5;124mA custom validator is returning a value other than `self`.\u001b[39m\u001b[38;5;130;01m\\n\u001b[39;00m\u001b[38;5;124m'\u001b[39m\n\u001b[0;32m    216\u001b[0m         \u001b[38;5;124m\"\u001b[39m\u001b[38;5;124mReturning anything other than `self` from a top level model validator isn\u001b[39m\u001b[38;5;124m'\u001b[39m\u001b[38;5;124mt supported when validating via `__init__`.\u001b[39m\u001b[38;5;130;01m\\n\u001b[39;00m\u001b[38;5;124m\"\u001b[39m\n\u001b[0;32m    217\u001b[0m         \u001b[38;5;124m'\u001b[39m\u001b[38;5;124mSee the `model_validator` docs (https://docs.pydantic.dev/latest/concepts/validators/#model-validators) for more details.\u001b[39m\u001b[38;5;124m'\u001b[39m,\n\u001b[0;32m    218\u001b[0m         category\u001b[38;5;241m=\u001b[39m\u001b[38;5;28;01mNone\u001b[39;00m,\n\u001b[0;32m    219\u001b[0m     )\n",
      "\u001b[1;31mValidationError\u001b[0m: 1 validation error for CopickConfigFSSpec\noverlay_root\n  Field required [type=missing, input_value={'name': 'czii_cryoet_mlc...fig_type': 'filesystem'}, input_type=dict]\n    For further information visit https://errors.pydantic.dev/2.9/v/missing"
     ]
    }
   ],
   "source": [
    "from monai.inferers import sliding_window_inference\n",
    "from src.dataset.preprocessing import Preprocessor\n",
    "from monai.data import Dataset, DataLoader, CacheDataset\n",
    "\n",
    "config_blob = \"\"\"{\n",
    "    \"name\": \"czii_cryoet_mlchallenge_2024\",\n",
    "    \"description\": \"2024 CZII CryoET ML Challenge training data.\",\n",
    "    \"version\": \"1.0.0\",\n",
    "\n",
    "    \"pickable_objects\": [\n",
    "        {\n",
    "            \"name\": \"apo-ferritin\",\n",
    "            \"is_particle\": true,\n",
    "            \"pdb_id\": \"4V1W\",\n",
    "            \"label\": 1,\n",
    "            \"color\": [  0, 117, 220, 128],\n",
    "            \"radius\": 60,\n",
    "            \"map_threshold\": 0.0418\n",
    "        },\n",
    "        {\n",
    "          \"name\" : \"beta-amylase\",\n",
    "            \"is_particle\": true,\n",
    "            \"pdb_id\": \"8ZRZ\",\n",
    "            \"label\": 2,\n",
    "            \"color\": [255, 255, 255, 128],\n",
    "            \"radius\": 90,\n",
    "            \"map_threshold\": 0.0578  \n",
    "        },\n",
    "        {\n",
    "            \"name\": \"beta-galactosidase\",\n",
    "            \"is_particle\": true,\n",
    "            \"pdb_id\": \"6X1Q\",\n",
    "            \"label\": 3,\n",
    "            \"color\": [ 76,   0,  92, 128],\n",
    "            \"radius\": 90,\n",
    "            \"map_threshold\": 0.0578\n",
    "        },\n",
    "        {\n",
    "            \"name\": \"ribosome\",\n",
    "            \"is_particle\": true,\n",
    "            \"pdb_id\": \"6EK0\",\n",
    "            \"label\": 4,\n",
    "            \"color\": [  0,  92,  49, 128],\n",
    "            \"radius\": 150,\n",
    "            \"map_threshold\": 0.0374\n",
    "        },\n",
    "        {\n",
    "            \"name\": \"thyroglobulin\",\n",
    "            \"is_particle\": true,\n",
    "            \"pdb_id\": \"6SCJ\",\n",
    "            \"label\": 5,\n",
    "            \"color\": [ 43, 206,  72, 128],\n",
    "            \"radius\": 130,\n",
    "            \"map_threshold\": 0.0278\n",
    "        },\n",
    "        {\n",
    "            \"name\": \"virus-like-particle\",\n",
    "            \"is_particle\": true,\n",
    "            \"label\": 6,\n",
    "            \"color\": [255, 204, 153, 128],\n",
    "            \"radius\": 135,\n",
    "            \"map_threshold\": 0.201\n",
    "        },\n",
    "        {\n",
    "            \"name\": \"membrane\",\n",
    "            \"is_particle\": false,\n",
    "            \"label\": 8,\n",
    "            \"color\": [100, 100, 100, 128]\n",
    "        },\n",
    "        {\n",
    "            \"name\": \"background\",\n",
    "            \"is_particle\": false,\n",
    "            \"label\": 9,\n",
    "            \"color\": [10, 150, 200, 128]\n",
    "        }\n",
    "    ],\n",
    "\n",
    "    \"overlay_fs_args\": {\n",
    "        \"auto_mkdir\": true\n",
    "    },\n",
    "\n",
    "    \"static_root\": \"./kaggle/input/czii-cryo-et-object-identification/test/static\"\n",
    "    }\"\"\"\n",
    "\n",
    "non_random_transforms = Compose([\n",
    "    EnsureChannelFirstd(keys=[\"image\"], channel_dim=\"no_channel\"),\n",
    "    NormalizeIntensityd(keys=\"image\"),\n",
    "    Orientationd(keys=[\"image\"], axcodes=\"RAS\")\n",
    "])\n",
    "model.eval()\n",
    "preprocessor = Preprocessor(config_blob)\n",
    "for vol_idx, run in enumerate(preprocessor.root.runs):\n",
    "    print(f\"Processing volume {vol_idx + 1}/{len(preprocessor.root.runs)}\")\n",
    "    tomogram = preprocessor.processing(run=run,task=\"task\")\n",
    "    task_files = []\n",
    "    task_files.append({\"image\": tomogram})    \n",
    "    task_ds = Dataset(data=task_files, transform=non_random_transforms)\n",
    "    task_loader = DataLoader(task_ds, batch_size=1, num_workers=0)\n",
    "    for task_data in task_loader:\n",
    "        images = task_data['image'].to(device)\n",
    "        outputs = sliding_window_inference(\n",
    "            inputs=images,                 # [N, C, D, H, W]\n",
    "            roi_size=(img_size, img_size, img_size),         # 슬라이딩 윈도우 크기\n",
    "            sw_batch_size=1,\n",
    "            predictor=model.forward,\n",
    "            #overlap=(0.7, 0.25, 0.25)      # Depth 50%, Height 25%, Width 25% 겹침\n",
    "        )\n"
   ]
  }
 ],
 "metadata": {
  "kernelspec": {
   "display_name": "UM",
   "language": "python",
   "name": "python3"
  },
  "language_info": {
   "codemirror_mode": {
    "name": "ipython",
    "version": 3
   },
   "file_extension": ".py",
   "mimetype": "text/x-python",
   "name": "python",
   "nbconvert_exporter": "python",
   "pygments_lexer": "ipython3",
   "version": "3.12.7"
  }
 },
 "nbformat": 4,
 "nbformat_minor": 2
}
