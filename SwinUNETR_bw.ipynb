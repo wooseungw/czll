{
 "cells": [
  {
   "cell_type": "code",
   "execution_count": null,
   "metadata": {},
   "outputs": [],
   "source": [
    "import os\n",
    "import shutil\n",
    "import tempfile\n",
    "\n",
    "import matplotlib.pyplot as plt\n",
    "from tqdm import tqdm\n",
    "\n",
    "from monai.losses import DiceCELoss\n",
    "from monai.inferers import sliding_window_inference\n",
    "from monai.transforms import (\n",
    "    AsDiscrete,\n",
    "    EnsureChannelFirstd,\n",
    "    Compose,\n",
    "    CropForegroundd,\n",
    "    LoadImaged,\n",
    "    Orientationd,\n",
    "    RandFlipd,\n",
    "    RandCropByPosNegLabeld,\n",
    "    RandShiftIntensityd,\n",
    "    ScaleIntensityRanged,\n",
    "    Spacingd,\n",
    "    RandRotate90d,\n",
    ")\n",
    "\n",
    "from monai.config import print_config\n",
    "from monai.metrics import DiceMetric\n",
    "from monai.networks.nets import UNETR, SwinUNETR\n",
    "\n",
    "from monai.data import (\n",
    "    DataLoader,\n",
    "    CacheDataset,\n",
    "    load_decathlon_datalist,\n",
    "    decollate_batch,\n",
    ")\n",
    "\n",
    "\n",
    "import torch\n",
    "\n",
    "print_config()"
   ]
  },
  {
   "cell_type": "code",
   "execution_count": null,
   "metadata": {},
   "outputs": [],
   "source": [
    "# class_info = {\n",
    "#     0: {\"name\": \"background\", \"weight\": 10000},  # weight 없음\n",
    "#     1: {\"name\": \"apo-ferritin\", \"weight\": 300},\n",
    "#     2: {\"name\": \"beta-amylase\", \"weight\": 100}, # 4130\n",
    "#     3: {\"name\": \"beta-galactosidase\", \"weight\": 150}, #3080\n",
    "#     4: {\"name\": \"ribosome\", \"weight\": 6000},\n",
    "#     5: {\"name\": \"thyroglobulin\", \"weight\": 4000},\n",
    "#     6: {\"name\": \"virus-like-particle\", \"weight\": 2000},\n",
    "# }\n",
    "\n",
    "# # 가중치에 비례한 비율 계산\n",
    "# raw_ratios = {\n",
    "#     k: (v[\"weight\"] if v[\"weight\"] is not None else 0.01)  # 가중치 비례, None일 경우 기본값\n",
    "#     for k, v in class_info.items()\n",
    "# }\n",
    "# total = sum(raw_ratios.values())\n",
    "# ratios = {k: v / total for k, v in raw_ratios.items()}\n",
    "\n",
    "# # 최종 합계가 1인지 확인\n",
    "# final_total = sum(ratios.values())\n",
    "# print(\"클래스 비율:\", ratios)\n",
    "# print(\"최종 합계:\", final_total)\n",
    "\n",
    "# # 비율을 리스트로 변환\n",
    "# ratios_list = [ratios[k] for k in sorted(ratios.keys())]\n",
    "# print(\"클래스 비율 리스트:\", ratios_list)"
   ]
  },
  {
   "cell_type": "code",
   "execution_count": null,
   "metadata": {},
   "outputs": [
    {
     "name": "stdout",
     "output_type": "stream",
     "text": [
      "클래스 비율: {0: 0.0, 1: 0.14084507042253522, 2: 0.014084507042253521, 3: 0.28169014084507044, 4: 0.14084507042253522, 5: 0.28169014084507044, 6: 0.14084507042253522}\n",
      "최종 합계: 1.0\n",
      "클래스 비율 리스트: [0.0, 0.14084507042253522, 0.014084507042253521, 0.28169014084507044, 0.14084507042253522, 0.28169014084507044, 0.14084507042253522]\n"
     ]
    }
   ],
   "source": [
    "class_info = {\n",
    "    0: {\"name\": \"background\", \"weight\": 0},  # weight 없음\n",
    "    1: {\"name\": \"apo-ferritin\", \"weight\": 1000},\n",
    "    2: {\"name\": \"beta-amylase\", \"weight\": 100}, # 4130\n",
    "    3: {\"name\": \"beta-galactosidase\", \"weight\": 2000}, #3080\n",
    "    4: {\"name\": \"ribosome\", \"weight\": 1000},\n",
    "    5: {\"name\": \"thyroglobulin\", \"weight\": 2000},\n",
    "    6: {\"name\": \"virus-like-particle\", \"weight\": 1000},\n",
    "}\n",
    "\n",
    "# 가중치에 비례한 비율 계산\n",
    "raw_ratios = {\n",
    "    k: (v[\"weight\"] if v[\"weight\"] is not None else 0.01)  # 가중치 비례, None일 경우 기본값a\n",
    "    for k, v in class_info.items()\n",
    "}\n",
    "total = sum(raw_ratios.values())\n",
    "ratios = {k: v / total for k, v in raw_ratios.items()}\n",
    "\n",
    "# 최종 합계가 1인지 확인\n",
    "final_total = sum(ratios.values())\n",
    "print(\"클래스 비율:\", ratios)\n",
    "print(\"최종 합계:\", final_total)\n",
    "\n",
    "# 비율을 리스트로 변환\n",
    "ratios_list = [ratios[k] for k in sorted(ratios.keys())]\n",
    "print(\"클래스 비율 리스트:\", ratios_list)"
   ]
  },
  {
   "cell_type": "code",
   "execution_count": null,
   "metadata": {},
   "outputs": [],
   "source": [
    "from src.dataset.dataset import create_dataloaders\n",
    "import numpy as np\n",
    "from monai.transforms import (\n",
    "    Compose, LoadImaged, EnsureChannelFirstd, NormalizeIntensityd,\n",
    "    Orientationd, CropForegroundd, GaussianSmoothd, ScaleIntensityd,\n",
    "    RandSpatialCropd, RandRotate90d, RandFlipd, RandGaussianNoised,\n",
    "    ToTensord, RandCropByLabelClassesd, CastToTyped,\n",
    ")\n",
    "\n",
    "train_img_dir = \"./datasets/train/images\"\n",
    "train_label_dir = \"./datasets/train/labels\"\n",
    "val_img_dir = \"./datasets/val/images\"\n",
    "val_label_dir = \"./datasets/val/labels\"\n",
    "# DATA CONFIG\n",
    "img_depth = 96\n",
    "img_size =  96 # Match your patch size\n",
    "n_classes = 7\n",
    "batch_size = 2 # 13.8GB GPU memory required for 128x128 img size\n",
    "num_samples = batch_size # 한 이미지에서 뽑을 샘플 수\n",
    "loader_batch = 1\n",
    "# MODEL CONFIG\n",
    "num_epochs = 4000\n",
    "lamda = 0.52\n",
    "lr = 0.001\n",
    "feature_size = 48\n",
    "use_checkpoint = True\n",
    "use_v2 = True\n",
    "drop_rate= 0.25\n",
    "attn_drop_rate = 0.25\n",
    "# CLASS_WEIGHTS\n",
    "class_weights = None\n",
    "class_weights = torch.tensor([0.001, 1, 0.001, 1.1, 1, 1.1, 1], dtype=torch.float32)  # 클래스별 가중치\n",
    "ce_weight = 0.4\n",
    "accumulation_steps = 4\n",
    "# INIT\n",
    "start_epoch = 0\n",
    "best_val_loss = float('inf')\n",
    "best_val_fbeta_score = 0\n",
    "\n",
    "non_random_transforms = Compose([\n",
    "    EnsureChannelFirstd(keys=[\"image\", \"label\"], channel_dim=\"no_channel\"),\n",
    "    NormalizeIntensityd(keys=\"image\"),\n",
    "    Orientationd(keys=[\"image\", \"label\"], axcodes=\"RAS\"),\n",
    "    # CastToTyped(keys=[\"image\"], dtype=np.float16),\n",
    "    GaussianSmoothd(\n",
    "        keys=[\"image\"],      # 변환을 적용할 키\n",
    "        sigma=[1.0, 1.0, 1.0]  # 각 축(x, y, z)의 시그마 값\n",
    "        ),\n",
    "])\n",
    "random_transforms = Compose([\n",
    "    RandCropByLabelClassesd(\n",
    "        keys=[\"image\", \"label\"],\n",
    "        label_key=\"label\",\n",
    "        spatial_size=[img_depth, img_size, img_size],\n",
    "        num_classes=n_classes,\n",
    "        num_samples=num_samples, \n",
    "        ratios=ratios_list,\n",
    "    ),\n",
    "    RandRotate90d(keys=[\"image\", \"label\"], prob=0.5, spatial_axes=[1, 2]),\n",
    "    RandFlipd(keys=[\"image\", \"label\"], prob=0.5, spatial_axis=0),\n",
    "    RandFlipd(keys=[\"image\", \"label\"], prob=0.5, spatial_axis=1),\n",
    "    RandFlipd(keys=[\"image\", \"label\"], prob=0.5, spatial_axis=2),\n",
    "])\n"
   ]
  },
  {
   "cell_type": "code",
   "execution_count": null,
   "metadata": {},
   "outputs": [
    {
     "name": "stderr",
     "output_type": "stream",
     "text": [
      "Loading dataset: 100%|██████████| 24/24 [00:41<00:00,  1.71s/it]\n",
      "Loading dataset: 100%|██████████| 4/4 [00:06<00:00,  1.62s/it]\n"
     ]
    }
   ],
   "source": [
    "train_loader, val_loader = None, None\n",
    "train_loader, val_loader = create_dataloaders(\n",
    "    train_img_dir, \n",
    "    train_label_dir, \n",
    "    val_img_dir, \n",
    "    val_label_dir, \n",
    "    non_random_transforms = non_random_transforms, \n",
    "    random_transforms = random_transforms, \n",
    "    batch_size = loader_batch,\n",
    "    num_workers=0)"
   ]
  },
  {
   "cell_type": "markdown",
   "metadata": {},
   "source": [
    "https://monai.io/model-zoo.html"
   ]
  },
  {
   "cell_type": "code",
   "execution_count": null,
   "metadata": {},
   "outputs": [],
   "source": [
    "from monai.losses import TverskyLoss\n",
    "import torch\n",
    "\n",
    "def loss_fn(loss, class_weights, device):\n",
    "    \"\"\"\n",
    "    Tversky 손실에 클래스별 가중치를 적용하여 최종 스칼라 값을 반환합니다.\n",
    "\n",
    "    Args:\n",
    "        loss: Tversky 손실 텐서 (B, num_classes, H, W, D).\n",
    "        class_weights: 클래스별 가중치 텐서 (num_classes,).\n",
    "        device: 사용할 장치 (예: 'cuda' 또는 'cpu').\n",
    "\n",
    "    Returns:\n",
    "        torch.Tensor: 최종 가중 평균 손실 값 (스칼라).\n",
    "    \"\"\"\n",
    "    # 가중치를 device로 이동\n",
    "    class_weights = class_weights.to(device)\n",
    "\n",
    "    # 클래스 차원에 가중치 적용 (B, num_classes, ...)\n",
    "    class_weights = class_weights.view(1, n_classes, 1, 1, 1)  # [1, num_classes, 1, 1, 1]\n",
    "    weighted_loss = loss * class_weights\n",
    "\n",
    "    # 모든 차원을 평균 내어 스칼라 손실 반환\n",
    "    final_loss = torch.mean(weighted_loss)\n",
    "    return final_loss"
   ]
  },
  {
   "cell_type": "code",
   "execution_count": null,
   "metadata": {},
   "outputs": [
    {
     "name": "stderr",
     "output_type": "stream",
     "text": [
      "c:\\Users\\pook0\\.conda\\envs\\UM\\Lib\\site-packages\\monai\\utils\\deprecate_utils.py:221: FutureWarning: monai.networks.nets.swin_unetr SwinUNETR.__init__:img_size: Argument `img_size` has been deprecated since version 1.3. It will be removed in version 1.5. The img_size argument is not required anymore and checks on the input size are run during forward().\n",
      "  warn_deprecated(argname, msg, warning_category)\n"
     ]
    }
   ],
   "source": [
    "import torch.optim as optim\n",
    "from tqdm import tqdm\n",
    "import numpy as np\n",
    "import torch\n",
    "from pathlib import Path\n",
    "from monai.metrics import DiceMetric\n",
    "from monai.losses import TverskyLoss\n",
    "import torch.nn as nn\n",
    "import torch.nn.functional as F\n",
    "\n",
    "# TverskyLoss 설정\n",
    "'''\n",
    "criterion = TverskyLoss(\n",
    "    alpha= 1 - lamda,  # FP에 대한 가중치\n",
    "    beta=lamda,       # FN에 대한 가중치\n",
    "    include_background=False,  # 배경 클래스 제외\n",
    "    reduction=\"none\",  # 각 픽셀에 대한 손실 반환\n",
    "    softmax=True\n",
    ")\n",
    "'''\n",
    "\n",
    "class DynamicTverskyLoss(TverskyLoss):\n",
    "    def __init__(self, lamda=0.5, **kwargs):\n",
    "        super().__init__(alpha=1 - lamda, beta=lamda, **kwargs)\n",
    "        self.lamda = lamda\n",
    "\n",
    "    def set_lamda(self, lamda):\n",
    "        self.lamda = lamda\n",
    "        self.alpha = 1 - lamda\n",
    "        self.beta = lamda\n",
    "        \n",
    "# criterion = DynamicTverskyLoss(\n",
    "#     lamda=0.5,\n",
    "#     include_background=False,\n",
    "#     reduction=\"mean\",\n",
    "#     softmax=True\n",
    "# )\n",
    "\n",
    "class CombinedCETverskyLoss(nn.Module):\n",
    "    def __init__(self, lamda=0.5, ce_weight=0.5, **kwargs):\n",
    "        super().__init__()\n",
    "        self._lamda = lamda  # lamda 값 저장\n",
    "        self.tversky = DynamicTverskyLoss(lamda=lamda, **kwargs)\n",
    "        self.ce = nn.CrossEntropyLoss()\n",
    "        self.ce_weight = ce_weight\n",
    "        \n",
    "    def forward(self, inputs, targets):\n",
    "        tversky_loss = self.tversky(inputs, targets)\n",
    "        ce_loss = self.ce(inputs, targets)\n",
    "        return self.ce_weight * ce_loss + (1 - self.ce_weight) * tversky_loss\n",
    "    \n",
    "    def set_lamda(self, lamda):\n",
    "        self._lamda = lamda\n",
    "        self.tversky.set_lamda(lamda)\n",
    "    \n",
    "    @property\n",
    "    def lamda(self):\n",
    "        return self._lamda\n",
    "\n",
    "# 사용 예시\n",
    "criterion = CombinedCETverskyLoss(\n",
    "    lamda=0.5,\n",
    "    ce_weight=ce_weight,  # CE Loss와 Tversky Loss의 비중을 ce_weight:1-ce_weight로 설정\n",
    "    include_background=False,\n",
    "    reduction=\"mean\",\n",
    "    softmax=True\n",
    ")\n",
    "\n",
    "device = torch.device(\"cuda\" if torch.cuda.is_available() else \"cpu\")\n",
    "\n",
    "model = SwinUNETR(\n",
    "    img_size=(img_depth, img_size, img_size),\n",
    "    in_channels=1,\n",
    "    out_channels=n_classes,\n",
    "    feature_size=feature_size,\n",
    "    use_checkpoint=True,\n",
    "    drop_rate = drop_rate,\n",
    "    attn_drop_rate = attn_drop_rate,\n",
    "    use_v2 = use_v2,\n",
    ").to(device)\n",
    "\n",
    "pretrain_str = \"yes\" if use_checkpoint else \"no\"\n",
    "weight_str = \"weighted\" if class_weights is not None else \"\"\n",
    "\n",
    "# 체크포인트 디렉토리 및 파일 설정\n",
    "checkpoint_base_dir = Path(\"./model_checkpoints\")\n",
    "checkpoint_dir = checkpoint_base_dir / f\"SwinUNETR_v2_step4_p{pretrain_str}_{weight_str}_f{feature_size}_d{img_depth}_s{img_size}_lr{lr:.0e}_a{lamda:.2f}_ce{ce_weight:.2f}_batch{batch_size}\"\n",
    "optimizer = optim.AdamW(model.parameters(), lr=lr, weight_decay=1e-5)\n",
    "scheduler = torch.optim.lr_scheduler.ReduceLROnPlateau(optimizer, patience=5, factor=0.5)\n",
    "# 체크포인트 디렉토리 생성\n",
    "checkpoint_dir.mkdir(parents=True, exist_ok=True)\n",
    "\n",
    "if checkpoint_dir.exists():\n",
    "    best_model_path = checkpoint_dir / 'best_model.pt'\n",
    "    if best_model_path.exists():\n",
    "        print(f\"기존 best model 발견: {best_model_path}\")\n",
    "        try:\n",
    "            checkpoint = torch.load(best_model_path, map_location=device)\n",
    "            # 체크포인트 내부 키 검증\n",
    "            required_keys = ['model_state_dict', 'optimizer_state_dict', 'epoch', 'best_val_loss']\n",
    "            if all(k in checkpoint for k in required_keys):\n",
    "                model.load_state_dict(checkpoint['model_state_dict'])\n",
    "                optimizer.load_state_dict(checkpoint['optimizer_state_dict'])\n",
    "                start_epoch = checkpoint['epoch']\n",
    "                best_val_loss = checkpoint['best_val_loss']\n",
    "                print(\"기존 학습된 가중치를 성공적으로 로드했습니다.\")\n",
    "            else:\n",
    "                raise ValueError(\"체크포인트 파일에 필요한 key가 없습니다.\")\n",
    "        except Exception as e:\n",
    "            print(f\"체크포인트 파일을 로드하는 중 오류 발생: {e}\")"
   ]
  },
  {
   "cell_type": "code",
   "execution_count": null,
   "metadata": {},
   "outputs": [
    {
     "name": "stdout",
     "output_type": "stream",
     "text": [
      "torch.Size([2, 1, 96, 96, 96]) torch.Size([2, 1, 96, 96, 96])\n"
     ]
    }
   ],
   "source": [
    "batch = next(iter(val_loader))\n",
    "images, labels = batch[\"image\"], batch[\"label\"]\n",
    "print(images.shape, labels.shape)"
   ]
  },
  {
   "cell_type": "code",
   "execution_count": null,
   "metadata": {},
   "outputs": [],
   "source": [
    "torch.backends.cudnn.benchmark = True"
   ]
  },
  {
   "cell_type": "code",
   "execution_count": null,
   "metadata": {},
   "outputs": [
    {
     "name": "stderr",
     "output_type": "stream",
     "text": [
      "\u001b[34m\u001b[1mwandb\u001b[0m: Using wandb-core as the SDK backend.  Please refer to https://wandb.me/wandb-core for more information.\n",
      "\u001b[34m\u001b[1mwandb\u001b[0m: Currently logged in as: \u001b[33mpook0612\u001b[0m (\u001b[33mlimbw\u001b[0m). Use \u001b[1m`wandb login --relogin`\u001b[0m to force relogin\n"
     ]
    },
    {
     "data": {
      "text/html": [
       "Tracking run with wandb version 0.19.1"
      ],
      "text/plain": [
       "<IPython.core.display.HTML object>"
      ]
     },
     "metadata": {},
     "output_type": "display_data"
    },
    {
     "data": {
      "text/html": [
       "Run data is saved locally in <code>d:\\Workspace\\czll\\wandb\\run-20241225_132602-uzw2t3z1</code>"
      ],
      "text/plain": [
       "<IPython.core.display.HTML object>"
      ]
     },
     "metadata": {},
     "output_type": "display_data"
    },
    {
     "data": {
      "text/html": [
       "Syncing run <strong><a href='https://wandb.ai/limbw/czii_SwinUnetR/runs/uzw2t3z1' target=\"_blank\">SwinUNETR_pyes_weighted_f48_d96_s96_lr1e-03_ce0.00_batch2_20241225_132601</a></strong> to <a href='https://wandb.ai/limbw/czii_SwinUnetR' target=\"_blank\">Weights & Biases</a> (<a href='https://wandb.me/developer-guide' target=\"_blank\">docs</a>)<br>"
      ],
      "text/plain": [
       "<IPython.core.display.HTML object>"
      ]
     },
     "metadata": {},
     "output_type": "display_data"
    },
    {
     "data": {
      "text/html": [
       " View project at <a href='https://wandb.ai/limbw/czii_SwinUnetR' target=\"_blank\">https://wandb.ai/limbw/czii_SwinUnetR</a>"
      ],
      "text/plain": [
       "<IPython.core.display.HTML object>"
      ]
     },
     "metadata": {},
     "output_type": "display_data"
    },
    {
     "data": {
      "text/html": [
       " View run at <a href='https://wandb.ai/limbw/czii_SwinUnetR/runs/uzw2t3z1' target=\"_blank\">https://wandb.ai/limbw/czii_SwinUnetR/runs/uzw2t3z1</a>"
      ],
      "text/plain": [
       "<IPython.core.display.HTML object>"
      ]
     },
     "metadata": {},
     "output_type": "display_data"
    }
   ],
   "source": [
    "import wandb\n",
    "from datetime import datetime\n",
    "\n",
    "current_time = datetime.now().strftime('%Y%m%d_%H%M%S')\n",
    "run_name = f'SwinUNETR_p{pretrain_str}_{weight_str}_f{feature_size}_d{img_depth}_s{img_size}_lr{lr:.0e}_ce{ce_weight:.2f}_batch{batch_size}_{current_time}'\n",
    "\n",
    "# wandb 초기화\n",
    "wandb.init(\n",
    "    project='czii_SwinUnetR',  # 프로젝트 이름 설정\n",
    "    name=run_name,         # 실행(run) 이름 설정\n",
    "    config={\n",
    "        'num_epochs': num_epochs,\n",
    "        'learning_rate': lr,\n",
    "        'batch_size': batch_size,\n",
    "        'lambda': lamda,\n",
    "        'feature_size': feature_size,\n",
    "        'img_size': img_size,\n",
    "        'sampling_ratio': ratios_list,\n",
    "        'device': device.type,\n",
    "        \"checkpoint_dir\": str(checkpoint_dir),\n",
    "        \"class_weights\": class_weights.tolist() if class_weights is not None else None,\n",
    "        \"use_checkpoint\": use_checkpoint,\n",
    "        \"drop_rate\": drop_rate,\n",
    "        \"attn_drop_rate\": attn_drop_rate,\n",
    "        \"use_v2\": use_v2,\n",
    "        \"accumulation_steps\": accumulation_steps,\n",
    "        \n",
    "        # 필요한 하이퍼파라미터 추가\n",
    "    }\n",
    ")\n",
    "# 모델을 wandb에 연결\n",
    "wandb.watch(model, log='all')"
   ]
  },
  {
   "cell_type": "code",
   "execution_count": null,
   "metadata": {},
   "outputs": [],
   "source": [
    "from monai.metrics import DiceMetric\n",
    "\n",
    "def create_metric_dict(num_classes):\n",
    "    \"\"\"각 클래스별 DiceMetric 생성\"\"\"\n",
    "    metrics = {}\n",
    "    for i in range(num_classes):\n",
    "        metrics[f'dice_class_{i}'] = DiceMetric(\n",
    "            include_background=False if i == 0 else False,\n",
    "            reduction=\"mean\",\n",
    "            get_not_nans=False\n",
    "        )\n",
    "    return metrics\n",
    "    \n",
    "def processing(batch_data, model, criterion, device):\n",
    "    images = batch_data['image'].to(device)  # Input 이미지 (B, 1, 96, 96, 96)\n",
    "    labels = batch_data['label'].to(device)  # 라벨 (B, 96, 96, 96)\n",
    "\n",
    "    labels = labels.squeeze(1)  # (B, 1, 96, 96, 96) → (B, 96, 96, 96)\n",
    "    labels = labels.long()  # 라벨을 정수형으로 변환\n",
    "\n",
    "    # 원핫 인코딩 (B, H, W, D) → (B, num_classes, H, W, D)\n",
    "    \n",
    "    labels_onehot = torch.nn.functional.one_hot(labels, num_classes=n_classes)\n",
    "    labels_onehot = labels_onehot.permute(0, 4, 1, 2, 3).float()  # (B, num_classes, H, W, D)\n",
    "\n",
    "    # 모델 예측\n",
    "    outputs = model(images)  # outputs: (B, num_classes, H, W, D)\n",
    "\n",
    "    # Loss 계산\n",
    "    # loss = loss_fn(criterion(outputs, labels_onehot), class_weights, device)\n",
    "    loss = loss_fn(criterion(outputs, labels_onehot),class_weights=class_weights, device=device)\n",
    "    return loss, outputs, labels, outputs.argmax(dim=1)\n",
    "\n",
    "# def train_one_epoch(model, train_loader, criterion, optimizer, device, epoch, accumulation_steps=4):\n",
    "#     model.train()\n",
    "#     epoch_loss = 0\n",
    "#     optimizer.zero_grad()  # 그래디언트 초기화\n",
    "#     with tqdm(train_loader, desc='Training') as pbar:\n",
    "#         for i, batch_data in enumerate(pbar):\n",
    "#             # 손실 계산\n",
    "#             loss, _, _, _ = processing(batch_data, model, criterion, device)\n",
    "\n",
    "#             # 그래디언트를 계산하고 누적\n",
    "#             loss = loss / accumulation_steps  # 그래디언트 누적을 위한 스케일링\n",
    "#             loss.backward()  # 그래디언트 계산 및 누적\n",
    "            \n",
    "#             # 그래디언트 업데이트 (accumulation_steps마다 한 번)\n",
    "#             if (i + 1) % accumulation_steps == 0 or (i + 1) == len(train_loader):\n",
    "#                 optimizer.step()  # 파라미터 업데이트\n",
    "#                 optimizer.zero_grad()  # 누적된 그래디언트 초기화\n",
    "            \n",
    "#             # 손실값 누적 (스케일링 복구)\n",
    "#             epoch_loss += loss.item() * accumulation_steps  # 실제 손실값 반영\n",
    "#             pbar.set_postfix(loss=loss.item() * accumulation_steps)  # 실제 손실값 출력\n",
    "#     avg_loss = epoch_loss / len(train_loader)\n",
    "#     wandb.log({'train_epoch_loss': avg_loss, 'epoch': epoch + 1})\n",
    "#     return avg_loss\n",
    "\n",
    "def train_one_epoch(model, train_loader, criterion, optimizer, device, epoch, accumulation_steps=4):\n",
    "    model.train()\n",
    "    epoch_loss = 0\n",
    "    optimizer.zero_grad()  # 그래디언트 초기화\n",
    "    data_iter = iter(train_loader)  # 이터레이터 생성\n",
    "    with tqdm(total=len(train_loader)*accumulation_steps, desc='Training') as pbar:\n",
    "        for i in range(len(train_loader)*accumulation_steps):\n",
    "            try:\n",
    "                batch_data = next(data_iter)\n",
    "            except StopIteration:\n",
    "                # DataLoader를 전부 소진한 경우, 다시 이터레이터를 만들어 이어서 사용\n",
    "                data_iter = iter(train_loader)\n",
    "                batch_data = next(data_iter)\n",
    "            \n",
    "            # 손실 계산\n",
    "            loss, _, _, _ = processing(batch_data, model, criterion, device)\n",
    "\n",
    "            # 그래디언트를 계산하고 누적\n",
    "            loss = loss / accumulation_steps  # 그래디언트 누적을 위한 스케일링\n",
    "            loss.backward()  # 그래디언트 계산 및 누적\n",
    "            \n",
    "            # 그래디언트 업데이트 (accumulation_steps마다 한 번)\n",
    "            if (i + 1) % accumulation_steps == 0 or (i + 1) == len(train_loader):\n",
    "                optimizer.step()  # 파라미터 업데이트\n",
    "                optimizer.zero_grad()  # 누적된 그래디언트 초기화\n",
    "            \n",
    "            # 손실값 누적 (스케일링 복구)\n",
    "            epoch_loss += loss.item()  # 실제 손실값 반영\n",
    "            pbar.set_postfix(loss=loss.item())  # 실제 손실값 출력\n",
    "            pbar.update(1)\n",
    "\n",
    "    avg_loss = epoch_loss / len(train_loader)\n",
    "    wandb.log({'train_epoch_loss': avg_loss, 'epoch': epoch + 1})\n",
    "    return avg_loss\n",
    "\n",
    "def validate_one_epoch(model, val_loader, criterion, device, epoch, calculate_dice_interval):\n",
    "    model.eval()\n",
    "    val_loss = 0\n",
    "    metrics = create_metric_dict(n_classes)\n",
    "    class_dice_scores = {i: [] for i in range(n_classes)}\n",
    "    class_f_beta_scores = {i: [] for i in range(n_classes)}\n",
    "    with torch.no_grad():\n",
    "        with tqdm(val_loader, desc='Validation') as pbar:\n",
    "            for batch_data in pbar:\n",
    "                loss, _, labels, preds = processing(batch_data, model, criterion, device)\n",
    "                val_loss += loss.item()\n",
    "                pbar.set_postfix(loss=loss.item())\n",
    "\n",
    "                # 각 클래스별 Dice 점수 계산\n",
    "                if epoch % calculate_dice_interval == 0:\n",
    "                    for i in range(n_classes):\n",
    "                        pred_i = (preds == i)\n",
    "                        label_i = (labels == i)\n",
    "                        dice_score = (2.0 * torch.sum(pred_i & label_i)) / (torch.sum(pred_i) + torch.sum(label_i) + 1e-8)\n",
    "                        class_dice_scores[i].append(dice_score.item())\n",
    "                        precision = (torch.sum(pred_i & label_i) + 1e-8) / (torch.sum(pred_i) + 1e-8)\n",
    "                        recall = (torch.sum(pred_i & label_i) + 1e-8) / (torch.sum(label_i) + 1e-8)\n",
    "                        f_beta_score = (1 + 4**2) * (precision * recall) / (4**2 * precision + recall + 1e-8)\n",
    "                        class_f_beta_scores[i].append(f_beta_score.item())\n",
    "\n",
    "    avg_loss = val_loss / len(val_loader)\n",
    "    # 에포크별 평균 손실 로깅\n",
    "    wandb.log({'val_epoch_loss': avg_loss, 'epoch': epoch + 1})\n",
    "    \n",
    "    # 각 클래스별 평균 Dice 점수 출력\n",
    "    if epoch % calculate_dice_interval == 0:\n",
    "        print(\"Validation Dice Score\")\n",
    "        all_classes_dice_scores = []\n",
    "        for i in range(n_classes):\n",
    "            mean_dice = np.mean(class_dice_scores[i])\n",
    "            wandb.log({f'class_{i}_dice_score': mean_dice, 'epoch': epoch + 1})\n",
    "            print(f\"Class {i}: {mean_dice:.4f}\", end=\", \")\n",
    "            if i not in [0, 2]:  # 평균에 포함할 클래스만 추가\n",
    "                all_classes_dice_scores.append(mean_dice)\n",
    "            if i == 3:\n",
    "                print()\n",
    "        print()\n",
    "    if epoch % calculate_dice_interval == 0:\n",
    "        print(\"Validation F-beta Score\")\n",
    "        all_classes_fbeta_scores = []\n",
    "        for i in range(n_classes):\n",
    "            mean_fbeta = np.mean(class_f_beta_scores[i])\n",
    "            wandb.log({f'class_{i}_f_beta_score': mean_fbeta, 'epoch': epoch + 1})\n",
    "            print(f\"Class {i}: {mean_fbeta:.4f}\", end=\", \")\n",
    "            if i not in [0, 2]:  # 평균에 포함할 클래스만 추가\n",
    "                all_classes_fbeta_scores.append(mean_fbeta)\n",
    "            if i == 3:\n",
    "                print()\n",
    "        overall_mean_dice = np.mean(all_classes_dice_scores)\n",
    "        overall_mean_fbeta = np.mean(all_classes_fbeta_scores)\n",
    "        wandb.log({'overall_mean_f_beta_score': overall_mean_fbeta, 'overall_mean_dice_score': overall_mean_dice, 'epoch': epoch + 1})\n",
    "        print(f\"\\nOverall Mean Dice Score: {overall_mean_dice:.4f}\\nOverall Mean F-beta Score: {overall_mean_fbeta:.4f}\\n\")\n",
    "\n",
    "    if overall_mean_fbeta is None:\n",
    "        overall_mean_fbeta = 0\n",
    "\n",
    "    return val_loss / len(val_loader), overall_mean_fbeta\n",
    "\n",
    "\n",
    "def train_model(\n",
    "    model, train_loader, val_loader, criterion, optimizer, num_epochs, patience, \n",
    "    device, start_epoch, best_val_loss, best_val_fbeta_score, calculate_dice_interval=1,\n",
    "    accumulation_steps=4\n",
    "):\n",
    "    \"\"\"\n",
    "    모델을 학습하고 검증하는 함수\n",
    "    Args:\n",
    "        model: 학습할 모델\n",
    "        train_loader: 학습 데이터 로더\n",
    "        val_loader: 검증 데이터 로더\n",
    "        criterion: 손실 함수\n",
    "        optimizer: 최적화 알고리즘\n",
    "        num_epochs: 총 학습 epoch 수\n",
    "        patience: early stopping 기준\n",
    "        device: GPU/CPU 장치\n",
    "        start_epoch: 시작 epoch\n",
    "        best_val_loss: 이전 최적 validation loss\n",
    "        best_val_fbeta_score: 이전 최적 validation f-beta score\n",
    "        calculate_dice_interval: Dice 점수 계산 주기\n",
    "    \"\"\"\n",
    "    epochs_no_improve = 0\n",
    "\n",
    "    for epoch in range(start_epoch, num_epochs):\n",
    "        print(f\"Epoch {epoch + 1}/{num_epochs}\")\n",
    "         # 현재 lambda 값 출력\n",
    "        print(f\"Current lambda: {criterion.lamda:.4f}\")\n",
    "        # Train One Epoch\n",
    "        train_loss = train_one_epoch(\n",
    "            model=model, \n",
    "            train_loader=train_loader, \n",
    "            criterion=criterion, \n",
    "            optimizer=optimizer, \n",
    "            device=device,\n",
    "            epoch=epoch,\n",
    "            accumulation_steps= accumulation_steps,\n",
    "        )\n",
    "        scheduler.step(train_loss)\n",
    "        \n",
    "        # Validate One Epoch\n",
    "        val_loss, overall_mean_fbeta_score = validate_one_epoch(\n",
    "            model=model, \n",
    "            val_loader=val_loader, \n",
    "            criterion=criterion, \n",
    "            device=device, \n",
    "            epoch=epoch, \n",
    "            calculate_dice_interval=calculate_dice_interval\n",
    "        )\n",
    "\n",
    "        \n",
    "        print(f\"Training Loss: {train_loss:.4f}, Validation Loss: {val_loss:.4f}, Validation F-beta: {overall_mean_fbeta_score:.4f}\")\n",
    "\n",
    "        if val_loss < best_val_loss and overall_mean_fbeta_score > best_val_fbeta_score:\n",
    "            best_val_loss = val_loss\n",
    "            best_val_fbeta_score = overall_mean_fbeta_score\n",
    "            epochs_no_improve = 0\n",
    "            checkpoint_path = os.path.join(checkpoint_dir, 'best_model.pt')\n",
    "            torch.save({\n",
    "                'epoch': epoch + 1,\n",
    "                'model_state_dict': model.state_dict(),\n",
    "                'optimizer_state_dict': optimizer.state_dict(),\n",
    "                'best_val_loss': best_val_loss,\n",
    "                'best_val_fbeta_score': best_val_fbeta_score\n",
    "            }, checkpoint_path)\n",
    "            print(f\"========================================================\")\n",
    "            print(f\"SUPER Best model saved. Loss:{best_val_loss:.4f}, Score:{best_val_fbeta_score:.4f}\")\n",
    "            print(f\"========================================================\")\n",
    "        \n",
    "        if overall_mean_fbeta_score > best_val_fbeta_score:\n",
    "            best_val_fbeta_score = overall_mean_fbeta_score\n",
    "            print(f\"========================================================\")\n",
    "            print(f\"NEW validation fbeta score: {best_val_fbeta_score:.4f}\")\n",
    "            print(f\"========================================================\")\n",
    "\n",
    "        # Validation Loss 기준 모델 저장\n",
    "        if val_loss < best_val_loss:\n",
    "            best_val_loss = val_loss\n",
    "            epochs_no_improve = 0\n",
    "            checkpoint_path = os.path.join(checkpoint_dir, 'best_model_val_loss.pt')\n",
    "            torch.save({\n",
    "                'epoch': epoch + 1,\n",
    "                'model_state_dict': model.state_dict(),\n",
    "                'optimizer_state_dict': optimizer.state_dict(),\n",
    "                'best_val_loss': best_val_loss,\n",
    "                'best_val_fbeta_score': best_val_fbeta_score\n",
    "            }, checkpoint_path)\n",
    "            print(f\"========================================================\")\n",
    "            print(f\"Best model saved based on validation loss: {best_val_loss:.4f}\")\n",
    "            print(f\"========================================================\")\n",
    "\n",
    "        # Early stopping 조건 체크\n",
    "        if val_loss >= best_val_loss and overall_mean_fbeta_score <= best_val_fbeta_score:\n",
    "            epochs_no_improve += 1\n",
    "        else:\n",
    "            epochs_no_improve = 0\n",
    "\n",
    "        if epochs_no_improve >= patience:\n",
    "            print(\"Early stopping\")\n",
    "            checkpoint_path = os.path.join(checkpoint_dir, 'last.pt')\n",
    "            torch.save({\n",
    "                'epoch': epoch + 1,\n",
    "                'model_state_dict': model.state_dict(),\n",
    "                'optimizer_state_dict': optimizer.state_dict(),\n",
    "                'best_val_loss': best_val_loss,\n",
    "                'best_val_fbeta_score': best_val_fbeta_score\n",
    "            }, checkpoint_path)\n",
    "            break\n",
    "        if epochs_no_improve%6 == 0:\n",
    "            # 손실이 개선되지 않았으므로 lambda 감소\n",
    "            new_lamda = max(criterion.lamda - 0.01, 0.1)  # 최소값은 0.1로 설정\n",
    "            criterion.set_lamda(new_lamda)\n",
    "            print(f\"Validation loss did not improve. Reducing lambda to {new_lamda:.4f}\")\n",
    "\n",
    "\n",
    "    wandb.finish()\n"
   ]
  },
  {
   "cell_type": "code",
   "execution_count": null,
   "metadata": {},
   "outputs": [
    {
     "name": "stdout",
     "output_type": "stream",
     "text": [
      "Epoch 1/4000\n",
      "Current lambda: 0.5000\n"
     ]
    },
    {
     "name": "stderr",
     "output_type": "stream",
     "text": [
      "Training:   0%|          | 0/288 [00:00<?, ?it/s]c:\\Users\\pook0\\.conda\\envs\\UM\\Lib\\site-packages\\torch\\utils\\checkpoint.py:1399: FutureWarning: `torch.cpu.amp.autocast(args...)` is deprecated. Please use `torch.amp.autocast('cpu', args...)` instead.\n",
      "  with device_autocast_ctx, torch.cpu.amp.autocast(**cpu_autocast_kwargs), recompute_context:  # type: ignore[attr-defined]\n",
      "Training: 100%|██████████| 288/288 [07:54<00:00,  1.65s/it, loss=0.185]\n",
      "Validation: 100%|██████████| 12/12 [00:08<00:00,  1.40it/s, loss=0.717]\n"
     ]
    },
    {
     "name": "stdout",
     "output_type": "stream",
     "text": [
      "Validation Dice Score\n",
      "Class 0: 0.5921, Class 1: 0.0192, Class 2: 0.0007, Class 3: 0.0011, \n",
      "Class 4: 0.3519, Class 5: 0.0617, Class 6: 0.0029, \n",
      "Validation F-beta Score\n",
      "Class 0: 0.4371, Class 1: 0.0962, Class 2: 0.0056, Class 3: 0.0074, \n",
      "Class 4: 0.5433, Class 5: 0.2312, Class 6: 0.0065, \n",
      "Overall Mean Dice Score: 0.0874\n",
      "Overall Mean F-beta Score: 0.1769\n",
      "\n",
      "Training Loss: 0.7203, Validation Loss: 0.6979, Validation F-beta: 0.1769\n",
      "========================================================\n",
      "SUPER Best model saved. Loss:0.6979, Score:0.1769\n",
      "========================================================\n",
      "Epoch 2/4000\n",
      "Current lambda: 0.5000\n"
     ]
    },
    {
     "name": "stderr",
     "output_type": "stream",
     "text": [
      "Training: 100%|██████████| 288/288 [07:38<00:00,  1.59s/it, loss=0.157]\n",
      "Validation: 100%|██████████| 12/12 [00:08<00:00,  1.37it/s, loss=0.62] \n"
     ]
    },
    {
     "name": "stdout",
     "output_type": "stream",
     "text": [
      "Validation Dice Score\n",
      "Class 0: 0.6310, Class 1: 0.0354, Class 2: 0.0007, Class 3: 0.0012, \n",
      "Class 4: 0.4243, Class 5: 0.2246, Class 6: 0.1292, \n",
      "Validation F-beta Score\n",
      "Class 0: 0.4791, Class 1: 0.0728, Class 2: 0.0054, Class 3: 0.0074, \n",
      "Class 4: 0.4746, Class 5: 0.2623, Class 6: 0.1982, \n",
      "Overall Mean Dice Score: 0.1629\n",
      "Overall Mean F-beta Score: 0.2031\n",
      "\n",
      "Training Loss: 0.6871, Validation Loss: 0.6607, Validation F-beta: 0.2031\n",
      "========================================================\n",
      "SUPER Best model saved. Loss:0.6607, Score:0.2031\n",
      "========================================================\n",
      "Epoch 3/4000\n",
      "Current lambda: 0.5000\n"
     ]
    },
    {
     "name": "stderr",
     "output_type": "stream",
     "text": [
      "Training: 100%|██████████| 288/288 [07:36<00:00,  1.59s/it, loss=0.18] \n",
      "Validation: 100%|██████████| 12/12 [00:08<00:00,  1.43it/s, loss=0.599]\n"
     ]
    },
    {
     "name": "stdout",
     "output_type": "stream",
     "text": [
      "Validation Dice Score\n",
      "Class 0: 0.6348, Class 1: 0.0327, Class 2: 0.0012, Class 3: 0.0031, \n",
      "Class 4: 0.3718, Class 5: 0.2613, Class 6: 0.1836, \n",
      "Validation F-beta Score\n",
      "Class 0: 0.4841, Class 1: 0.0354, Class 2: 0.0097, Class 3: 0.0155, \n",
      "Class 4: 0.3590, Class 5: 0.2879, Class 6: 0.2289, \n",
      "Overall Mean Dice Score: 0.1705\n",
      "Overall Mean F-beta Score: 0.1854\n",
      "\n",
      "Training Loss: 0.6565, Validation Loss: 0.6602, Validation F-beta: 0.1854\n",
      "========================================================\n",
      "Best model saved based on validation loss: 0.6602\n",
      "========================================================\n",
      "Epoch 4/4000\n",
      "Current lambda: 0.5000\n"
     ]
    },
    {
     "name": "stderr",
     "output_type": "stream",
     "text": [
      "Training: 100%|██████████| 288/288 [07:40<00:00,  1.60s/it, loss=0.135]\n",
      "Validation: 100%|██████████| 12/12 [00:08<00:00,  1.42it/s, loss=0.567]\n"
     ]
    },
    {
     "name": "stdout",
     "output_type": "stream",
     "text": [
      "Validation Dice Score\n",
      "Class 0: 0.6592, Class 1: 0.3241, Class 2: 0.0010, Class 3: 0.0372, \n",
      "Class 4: 0.3225, Class 5: 0.2962, Class 6: 0.2139, \n",
      "Validation F-beta Score\n",
      "Class 0: 0.5126, Class 1: 0.5617, Class 2: 0.0081, Class 3: 0.0679, \n",
      "Class 4: 0.2800, Class 5: 0.3355, Class 6: 0.2690, \n",
      "Overall Mean Dice Score: 0.2388\n",
      "Overall Mean F-beta Score: 0.3028\n",
      "\n",
      "Training Loss: 0.6373, Validation Loss: 0.6308, Validation F-beta: 0.3028\n",
      "========================================================\n",
      "SUPER Best model saved. Loss:0.6308, Score:0.3028\n",
      "========================================================\n",
      "Epoch 5/4000\n",
      "Current lambda: 0.5000\n"
     ]
    },
    {
     "name": "stderr",
     "output_type": "stream",
     "text": [
      "Training: 100%|██████████| 288/288 [07:39<00:00,  1.60s/it, loss=0.137]\n",
      "Validation: 100%|██████████| 12/12 [00:08<00:00,  1.39it/s, loss=0.678]\n"
     ]
    },
    {
     "name": "stdout",
     "output_type": "stream",
     "text": [
      "Validation Dice Score\n",
      "Class 0: 0.6707, Class 1: 0.5264, Class 2: 0.0008, Class 3: 0.0521, \n",
      "Class 4: 0.3916, Class 5: 0.3885, Class 6: 0.3109, \n",
      "Validation F-beta Score\n",
      "Class 0: 0.5247, Class 1: 0.4820, Class 2: 0.0065, Class 3: 0.1271, \n",
      "Class 4: 0.4575, Class 5: 0.3942, Class 6: 0.3926, \n",
      "Overall Mean Dice Score: 0.3339\n",
      "Overall Mean F-beta Score: 0.3707\n",
      "\n",
      "Training Loss: 0.6075, Validation Loss: 0.5844, Validation F-beta: 0.3707\n",
      "========================================================\n",
      "SUPER Best model saved. Loss:0.5844, Score:0.3707\n",
      "========================================================\n",
      "Epoch 6/4000\n",
      "Current lambda: 0.5000\n"
     ]
    },
    {
     "name": "stderr",
     "output_type": "stream",
     "text": [
      "Training: 100%|██████████| 288/288 [07:38<00:00,  1.59s/it, loss=0.138]\n",
      "Validation: 100%|██████████| 12/12 [00:08<00:00,  1.42it/s, loss=0.658]\n"
     ]
    },
    {
     "name": "stdout",
     "output_type": "stream",
     "text": [
      "Validation Dice Score\n",
      "Class 0: 0.6757, Class 1: 0.5128, Class 2: 0.0009, Class 3: 0.1617, \n",
      "Class 4: 0.3819, Class 5: 0.2885, Class 6: 0.3961, \n",
      "Validation F-beta Score\n",
      "Class 0: 0.5310, Class 1: 0.5966, Class 2: 0.0071, Class 3: 0.2084, \n",
      "Class 4: 0.3571, Class 5: 0.3019, Class 6: 0.5327, \n",
      "Overall Mean Dice Score: 0.3482\n",
      "Overall Mean F-beta Score: 0.3993\n",
      "\n",
      "Training Loss: 0.5960, Validation Loss: 0.5713, Validation F-beta: 0.3993\n",
      "========================================================\n",
      "SUPER Best model saved. Loss:0.5713, Score:0.3993\n",
      "========================================================\n",
      "Epoch 7/4000\n",
      "Current lambda: 0.5000\n"
     ]
    },
    {
     "name": "stderr",
     "output_type": "stream",
     "text": [
      "Training: 100%|██████████| 288/288 [07:38<00:00,  1.59s/it, loss=0.137]\n",
      "Validation: 100%|██████████| 12/12 [00:08<00:00,  1.45it/s, loss=0.38] \n"
     ]
    },
    {
     "name": "stdout",
     "output_type": "stream",
     "text": [
      "Validation Dice Score\n",
      "Class 0: 0.6815, Class 1: 0.5935, Class 2: 0.0009, Class 3: 0.2256, \n",
      "Class 4: 0.3717, Class 5: 0.3242, Class 6: 0.3370, \n",
      "Validation F-beta Score\n",
      "Class 0: 0.5363, Class 1: 0.6828, Class 2: 0.0076, Class 3: 0.3114, \n",
      "Class 4: 0.4345, Class 5: 0.3376, Class 6: 0.4141, \n",
      "Overall Mean Dice Score: 0.3704\n",
      "Overall Mean F-beta Score: 0.4361\n",
      "\n",
      "Training Loss: 0.5899, Validation Loss: 0.5605, Validation F-beta: 0.4361\n",
      "========================================================\n",
      "SUPER Best model saved. Loss:0.5605, Score:0.4361\n",
      "========================================================\n",
      "Epoch 8/4000\n",
      "Current lambda: 0.5000\n"
     ]
    },
    {
     "name": "stderr",
     "output_type": "stream",
     "text": [
      "Training: 100%|██████████| 288/288 [07:38<00:00,  1.59s/it, loss=0.146]\n",
      "Validation: 100%|██████████| 12/12 [00:08<00:00,  1.37it/s, loss=0.572]\n"
     ]
    },
    {
     "name": "stdout",
     "output_type": "stream",
     "text": [
      "Validation Dice Score\n",
      "Class 0: 0.6788, Class 1: 0.3457, Class 2: 0.0008, Class 3: 0.2711, \n",
      "Class 4: 0.4563, Class 5: 0.3605, Class 6: 0.4496, \n",
      "Validation F-beta Score\n",
      "Class 0: 0.5330, Class 1: 0.6019, Class 2: 0.0065, Class 3: 0.3085, \n",
      "Class 4: 0.5304, Class 5: 0.3693, Class 6: 0.4672, \n",
      "Overall Mean Dice Score: 0.3766\n",
      "Overall Mean F-beta Score: 0.4554\n",
      "\n",
      "Training Loss: 0.5772, Validation Loss: 0.5569, Validation F-beta: 0.4554\n",
      "========================================================\n",
      "SUPER Best model saved. Loss:0.5569, Score:0.4554\n",
      "========================================================\n",
      "Epoch 9/4000\n",
      "Current lambda: 0.5000\n"
     ]
    },
    {
     "name": "stderr",
     "output_type": "stream",
     "text": [
      "Training: 100%|██████████| 288/288 [07:38<00:00,  1.59s/it, loss=0.159]\n",
      "Validation: 100%|██████████| 12/12 [00:08<00:00,  1.44it/s, loss=0.478]\n"
     ]
    },
    {
     "name": "stdout",
     "output_type": "stream",
     "text": [
      "Validation Dice Score\n",
      "Class 0: 0.6917, Class 1: 0.3968, Class 2: 0.0015, Class 3: 0.1817, \n",
      "Class 4: 0.3325, Class 5: 0.3243, Class 6: 0.3737, \n",
      "Validation F-beta Score\n",
      "Class 0: 0.5495, Class 1: 0.4880, Class 2: 0.0120, Class 3: 0.2822, \n",
      "Class 4: 0.2705, Class 5: 0.4425, Class 6: 0.4951, \n",
      "Overall Mean Dice Score: 0.3218\n",
      "Overall Mean F-beta Score: 0.3957\n",
      "\n",
      "Training Loss: 0.5721, Validation Loss: 0.6001, Validation F-beta: 0.3957\n",
      "Epoch 10/4000\n",
      "Current lambda: 0.5000\n"
     ]
    },
    {
     "name": "stderr",
     "output_type": "stream",
     "text": [
      "Training: 100%|██████████| 288/288 [07:38<00:00,  1.59s/it, loss=0.135]\n",
      "Validation: 100%|██████████| 12/12 [00:09<00:00,  1.32it/s, loss=0.639]\n"
     ]
    },
    {
     "name": "stdout",
     "output_type": "stream",
     "text": [
      "Validation Dice Score\n",
      "Class 0: 0.6877, Class 1: 0.3067, Class 2: 0.0011, Class 3: 0.1149, \n",
      "Class 4: 0.5048, Class 5: 0.3360, Class 6: 0.4985, \n",
      "Validation F-beta Score\n",
      "Class 0: 0.5435, Class 1: 0.4030, Class 2: 0.0090, Class 3: 0.1198, \n",
      "Class 4: 0.5929, Class 5: 0.3465, Class 6: 0.4723, \n",
      "Overall Mean Dice Score: 0.3522\n",
      "Overall Mean F-beta Score: 0.3869\n",
      "\n",
      "Training Loss: 0.5701, Validation Loss: 0.5805, Validation F-beta: 0.3869\n",
      "Epoch 11/4000\n",
      "Current lambda: 0.5000\n"
     ]
    },
    {
     "name": "stderr",
     "output_type": "stream",
     "text": [
      "Training: 100%|██████████| 288/288 [07:39<00:00,  1.60s/it, loss=0.14] \n",
      "Validation: 100%|██████████| 12/12 [00:08<00:00,  1.35it/s, loss=0.487]\n"
     ]
    },
    {
     "name": "stdout",
     "output_type": "stream",
     "text": [
      "Validation Dice Score\n",
      "Class 0: 0.6926, Class 1: 0.6367, Class 2: 0.0006, Class 3: 0.2179, \n",
      "Class 4: 0.5340, Class 5: 0.3886, Class 6: 0.5367, \n",
      "Validation F-beta Score\n",
      "Class 0: 0.5494, Class 1: 0.7463, Class 2: 0.0048, Class 3: 0.2702, \n",
      "Class 4: 0.5760, Class 5: 0.4203, Class 6: 0.5592, \n",
      "Overall Mean Dice Score: 0.4628\n",
      "Overall Mean F-beta Score: 0.5144\n",
      "\n",
      "Training Loss: 0.5678, Validation Loss: 0.5239, Validation F-beta: 0.5144\n",
      "========================================================\n",
      "SUPER Best model saved. Loss:0.5239, Score:0.5144\n",
      "========================================================\n",
      "Epoch 12/4000\n",
      "Current lambda: 0.5000\n"
     ]
    },
    {
     "name": "stderr",
     "output_type": "stream",
     "text": [
      "Training: 100%|██████████| 288/288 [07:39<00:00,  1.60s/it, loss=0.148]\n",
      "Validation: 100%|██████████| 12/12 [00:08<00:00,  1.37it/s, loss=0.479]\n"
     ]
    },
    {
     "name": "stdout",
     "output_type": "stream",
     "text": [
      "Validation Dice Score\n",
      "Class 0: 0.7001, Class 1: 0.6230, Class 2: 0.0010, Class 3: 0.2683, \n",
      "Class 4: 0.4976, Class 5: 0.3420, Class 6: 0.3708, \n",
      "Validation F-beta Score\n",
      "Class 0: 0.5574, Class 1: 0.6413, Class 2: 0.0083, Class 3: 0.3183, \n",
      "Class 4: 0.5181, Class 5: 0.5006, Class 6: 0.5569, \n",
      "Overall Mean Dice Score: 0.4203\n",
      "Overall Mean F-beta Score: 0.5070\n",
      "\n",
      "Training Loss: 0.5614, Validation Loss: 0.5431, Validation F-beta: 0.5070\n",
      "Epoch 13/4000\n",
      "Current lambda: 0.5000\n"
     ]
    },
    {
     "name": "stderr",
     "output_type": "stream",
     "text": [
      "Training: 100%|██████████| 288/288 [07:40<00:00,  1.60s/it, loss=0.115] \n",
      "Validation: 100%|██████████| 12/12 [00:08<00:00,  1.35it/s, loss=0.479]\n"
     ]
    },
    {
     "name": "stdout",
     "output_type": "stream",
     "text": [
      "Validation Dice Score\n",
      "Class 0: 0.7036, Class 1: 0.4634, Class 2: 0.0009, Class 3: 0.2719, \n",
      "Class 4: 0.5013, Class 5: 0.3478, Class 6: 0.5100, \n",
      "Validation F-beta Score\n",
      "Class 0: 0.5638, Class 1: 0.5791, Class 2: 0.0073, Class 3: 0.3801, \n",
      "Class 4: 0.5079, Class 5: 0.4228, Class 6: 0.5789, \n",
      "Overall Mean Dice Score: 0.4189\n",
      "Overall Mean F-beta Score: 0.4937\n",
      "\n",
      "Training Loss: 0.5519, Validation Loss: 0.5431, Validation F-beta: 0.4937\n",
      "Epoch 14/4000\n",
      "Current lambda: 0.5000\n"
     ]
    },
    {
     "name": "stderr",
     "output_type": "stream",
     "text": [
      "Training: 100%|██████████| 288/288 [07:39<00:00,  1.59s/it, loss=0.139]\n",
      "Validation: 100%|██████████| 12/12 [00:08<00:00,  1.34it/s, loss=0.622]\n"
     ]
    },
    {
     "name": "stdout",
     "output_type": "stream",
     "text": [
      "Validation Dice Score\n",
      "Class 0: 0.7210, Class 1: 0.6187, Class 2: 0.0009, Class 3: 0.2929, \n",
      "Class 4: 0.4864, Class 5: 0.3414, Class 6: 0.6266, \n",
      "Validation F-beta Score\n",
      "Class 0: 0.5826, Class 1: 0.6484, Class 2: 0.0071, Class 3: 0.4708, \n",
      "Class 4: 0.5446, Class 5: 0.4351, Class 6: 0.6232, \n",
      "Overall Mean Dice Score: 0.4732\n",
      "Overall Mean F-beta Score: 0.5444\n",
      "\n",
      "Training Loss: 0.5590, Validation Loss: 0.5134, Validation F-beta: 0.5444\n",
      "========================================================\n",
      "SUPER Best model saved. Loss:0.5134, Score:0.5444\n",
      "========================================================\n",
      "Epoch 15/4000\n",
      "Current lambda: 0.5000\n"
     ]
    },
    {
     "name": "stderr",
     "output_type": "stream",
     "text": [
      "Training: 100%|██████████| 288/288 [07:39<00:00,  1.59s/it, loss=0.111] \n",
      "Validation: 100%|██████████| 12/12 [00:08<00:00,  1.36it/s, loss=0.56] \n"
     ]
    },
    {
     "name": "stdout",
     "output_type": "stream",
     "text": [
      "Validation Dice Score\n",
      "Class 0: 0.7379, Class 1: 0.4485, Class 2: 0.0005, Class 3: 0.2057, \n",
      "Class 4: 0.3791, Class 5: 0.4222, Class 6: 0.5292, \n",
      "Validation F-beta Score\n",
      "Class 0: 0.6048, Class 1: 0.4344, Class 2: 0.0038, Class 3: 0.2189, \n",
      "Class 4: 0.3731, Class 5: 0.4862, Class 6: 0.5284, \n",
      "Overall Mean Dice Score: 0.3970\n",
      "Overall Mean F-beta Score: 0.4082\n",
      "\n",
      "Training Loss: 0.5509, Validation Loss: 0.5524, Validation F-beta: 0.4082\n",
      "Epoch 16/4000\n",
      "Current lambda: 0.5000\n"
     ]
    },
    {
     "name": "stderr",
     "output_type": "stream",
     "text": [
      "Training: 100%|██████████| 288/288 [07:38<00:00,  1.59s/it, loss=0.142]\n",
      "Validation: 100%|██████████| 12/12 [00:08<00:00,  1.36it/s, loss=0.567]\n"
     ]
    },
    {
     "name": "stdout",
     "output_type": "stream",
     "text": [
      "Validation Dice Score\n",
      "Class 0: 0.7566, Class 1: 0.5140, Class 2: 0.0009, Class 3: 0.1939, \n",
      "Class 4: 0.5087, Class 5: 0.3507, Class 6: 0.6374, \n",
      "Validation F-beta Score\n",
      "Class 0: 0.6279, Class 1: 0.6826, Class 2: 0.0070, Class 3: 0.1901, \n",
      "Class 4: 0.5648, Class 5: 0.4013, Class 6: 0.7651, \n",
      "Overall Mean Dice Score: 0.4409\n",
      "Overall Mean F-beta Score: 0.5208\n",
      "\n",
      "Training Loss: 0.5560, Validation Loss: 0.5478, Validation F-beta: 0.5208\n",
      "Epoch 17/4000\n",
      "Current lambda: 0.5000\n"
     ]
    },
    {
     "name": "stderr",
     "output_type": "stream",
     "text": [
      "Training: 100%|██████████| 288/288 [07:38<00:00,  1.59s/it, loss=0.143]\n",
      "Validation: 100%|██████████| 12/12 [00:09<00:00,  1.33it/s, loss=0.606]\n"
     ]
    },
    {
     "name": "stdout",
     "output_type": "stream",
     "text": [
      "Validation Dice Score\n",
      "Class 0: 0.7945, Class 1: 0.4637, Class 2: 0.0017, Class 3: 0.2711, \n",
      "Class 4: 0.5574, Class 5: 0.3801, Class 6: 0.5429, \n",
      "Validation F-beta Score\n",
      "Class 0: 0.6781, Class 1: 0.5058, Class 2: 0.0139, Class 3: 0.3290, \n",
      "Class 4: 0.5614, Class 5: 0.4296, Class 6: 0.5228, \n",
      "Overall Mean Dice Score: 0.4430\n",
      "Overall Mean F-beta Score: 0.4697\n",
      "\n",
      "Training Loss: 0.5530, Validation Loss: 0.5206, Validation F-beta: 0.4697\n",
      "Epoch 18/4000\n",
      "Current lambda: 0.5000\n"
     ]
    },
    {
     "name": "stderr",
     "output_type": "stream",
     "text": [
      "Training: 100%|██████████| 288/288 [07:38<00:00,  1.59s/it, loss=0.144] \n",
      "Validation: 100%|██████████| 12/12 [00:08<00:00,  1.39it/s, loss=0.555]\n"
     ]
    },
    {
     "name": "stdout",
     "output_type": "stream",
     "text": [
      "Validation Dice Score\n",
      "Class 0: 0.8478, Class 1: 0.5915, Class 2: 0.0012, Class 3: 0.2585, \n",
      "Class 4: 0.4322, Class 5: 0.2587, Class 6: 0.4753, \n",
      "Validation F-beta Score\n",
      "Class 0: 0.7525, Class 1: 0.7190, Class 2: 0.0095, Class 3: 0.3269, \n",
      "Class 4: 0.4736, Class 5: 0.2926, Class 6: 0.5231, \n",
      "Overall Mean Dice Score: 0.4032\n",
      "Overall Mean F-beta Score: 0.4671\n",
      "\n",
      "Training Loss: 0.5457, Validation Loss: 0.5445, Validation F-beta: 0.4671\n",
      "Epoch 19/4000\n",
      "Current lambda: 0.5000\n"
     ]
    },
    {
     "name": "stderr",
     "output_type": "stream",
     "text": [
      "Training: 100%|██████████| 288/288 [07:37<00:00,  1.59s/it, loss=0.167] \n",
      "Validation: 100%|██████████| 12/12 [00:08<00:00,  1.39it/s, loss=0.563]\n"
     ]
    },
    {
     "name": "stdout",
     "output_type": "stream",
     "text": [
      "Validation Dice Score\n",
      "Class 0: 0.9142, Class 1: 0.5335, Class 2: 0.0015, Class 3: 0.3470, \n",
      "Class 4: 0.4027, Class 5: 0.3381, Class 6: 0.5903, \n",
      "Validation F-beta Score\n",
      "Class 0: 0.8607, Class 1: 0.4828, Class 2: 0.0111, Class 3: 0.4413, \n",
      "Class 4: 0.3325, Class 5: 0.3637, Class 6: 0.7071, \n",
      "Overall Mean Dice Score: 0.4423\n",
      "Overall Mean F-beta Score: 0.4655\n",
      "\n",
      "Training Loss: 0.5455, Validation Loss: 0.5452, Validation F-beta: 0.4655\n",
      "Validation loss did not improve. Reducing lambda to 0.4900\n",
      "Epoch 20/4000\n",
      "Current lambda: 0.4900\n"
     ]
    },
    {
     "name": "stderr",
     "output_type": "stream",
     "text": [
      "Training: 100%|██████████| 288/288 [07:38<00:00,  1.59s/it, loss=0.14]  \n",
      "Validation: 100%|██████████| 12/12 [00:09<00:00,  1.30it/s, loss=0.611]\n"
     ]
    },
    {
     "name": "stdout",
     "output_type": "stream",
     "text": [
      "Validation Dice Score\n",
      "Class 0: 0.9832, Class 1: 0.5200, Class 2: 0.0025, Class 3: 0.3986, \n",
      "Class 4: 0.6277, Class 5: 0.3168, Class 6: 0.4470, \n",
      "Validation F-beta Score\n",
      "Class 0: 0.9765, Class 1: 0.5430, Class 2: 0.0079, Class 3: 0.4985, \n",
      "Class 4: 0.6600, Class 5: 0.3692, Class 6: 0.4522, \n",
      "Overall Mean Dice Score: 0.4620\n",
      "Overall Mean F-beta Score: 0.5046\n",
      "\n",
      "Training Loss: 0.5367, Validation Loss: 0.5190, Validation F-beta: 0.5046\n",
      "Epoch 21/4000\n",
      "Current lambda: 0.4900\n"
     ]
    },
    {
     "name": "stderr",
     "output_type": "stream",
     "text": [
      "Training: 100%|██████████| 288/288 [07:38<00:00,  1.59s/it, loss=0.111] \n",
      "Validation: 100%|██████████| 12/12 [00:08<00:00,  1.37it/s, loss=0.504]\n"
     ]
    },
    {
     "name": "stdout",
     "output_type": "stream",
     "text": [
      "Validation Dice Score\n",
      "Class 0: 0.9898, Class 1: 0.4673, Class 2: 0.0506, Class 3: 0.3616, \n",
      "Class 4: 0.5457, Class 5: 0.4383, Class 6: 0.4759, \n",
      "Validation F-beta Score\n",
      "Class 0: 0.9874, Class 1: 0.5142, Class 2: 0.0953, Class 3: 0.4418, \n",
      "Class 4: 0.5605, Class 5: 0.4746, Class 6: 0.5527, \n",
      "Overall Mean Dice Score: 0.4578\n",
      "Overall Mean F-beta Score: 0.5088\n",
      "\n",
      "Training Loss: 0.5380, Validation Loss: 0.5179, Validation F-beta: 0.5088\n",
      "Epoch 22/4000\n",
      "Current lambda: 0.4900\n"
     ]
    },
    {
     "name": "stderr",
     "output_type": "stream",
     "text": [
      "Training: 100%|██████████| 288/288 [07:38<00:00,  1.59s/it, loss=0.11]  \n",
      "Validation: 100%|██████████| 12/12 [00:08<00:00,  1.38it/s, loss=0.378]\n"
     ]
    },
    {
     "name": "stdout",
     "output_type": "stream",
     "text": [
      "Validation Dice Score\n",
      "Class 0: 0.9866, Class 1: 0.5317, Class 2: 0.0204, Class 3: 0.3191, \n",
      "Class 4: 0.5868, Class 5: 0.3907, Class 6: 0.4851, \n",
      "Validation F-beta Score\n",
      "Class 0: 0.9866, Class 1: 0.5317, Class 2: 0.0484, Class 3: 0.3780, \n",
      "Class 4: 0.5537, Class 5: 0.4588, Class 6: 0.5103, \n",
      "Overall Mean Dice Score: 0.4627\n",
      "Overall Mean F-beta Score: 0.4865\n",
      "\n",
      "Training Loss: 0.5431, Validation Loss: 0.5211, Validation F-beta: 0.4865\n",
      "Epoch 23/4000\n",
      "Current lambda: 0.4900\n"
     ]
    },
    {
     "name": "stderr",
     "output_type": "stream",
     "text": [
      "Training: 100%|██████████| 288/288 [07:39<00:00,  1.59s/it, loss=0.142] \n",
      "Validation: 100%|██████████| 12/12 [00:08<00:00,  1.35it/s, loss=0.552]\n"
     ]
    },
    {
     "name": "stdout",
     "output_type": "stream",
     "text": [
      "Validation Dice Score\n",
      "Class 0: 0.9848, Class 1: 0.4802, Class 2: 0.0378, Class 3: 0.2114, \n",
      "Class 4: 0.6118, Class 5: 0.3221, Class 6: 0.4735, \n",
      "Validation F-beta Score\n",
      "Class 0: 0.9808, Class 1: 0.6318, Class 2: 0.0742, Class 3: 0.3084, \n",
      "Class 4: 0.6888, Class 5: 0.3479, Class 6: 0.4704, \n",
      "Overall Mean Dice Score: 0.4198\n",
      "Overall Mean F-beta Score: 0.4895\n",
      "\n",
      "Training Loss: 0.5349, Validation Loss: 0.5291, Validation F-beta: 0.4895\n",
      "Epoch 24/4000\n",
      "Current lambda: 0.4900\n"
     ]
    },
    {
     "name": "stderr",
     "output_type": "stream",
     "text": [
      "Training: 100%|██████████| 288/288 [07:39<00:00,  1.60s/it, loss=0.118] \n",
      "Validation: 100%|██████████| 12/12 [00:08<00:00,  1.37it/s, loss=0.607]\n"
     ]
    },
    {
     "name": "stdout",
     "output_type": "stream",
     "text": [
      "Validation Dice Score\n",
      "Class 0: 0.9878, Class 1: 0.3983, Class 2: 0.0843, Class 3: 0.3918, \n",
      "Class 4: 0.5901, Class 5: 0.3704, Class 6: 0.3934, \n",
      "Validation F-beta Score\n",
      "Class 0: 0.9866, Class 1: 0.5082, Class 2: 0.1298, Class 3: 0.5087, \n",
      "Class 4: 0.5504, Class 5: 0.4264, Class 6: 0.4457, \n",
      "Overall Mean Dice Score: 0.4288\n",
      "Overall Mean F-beta Score: 0.4879\n",
      "\n",
      "Training Loss: 0.5336, Validation Loss: 0.5499, Validation F-beta: 0.4879\n",
      "Epoch 25/4000\n",
      "Current lambda: 0.4900\n"
     ]
    },
    {
     "name": "stderr",
     "output_type": "stream",
     "text": [
      "Training: 100%|██████████| 288/288 [07:38<00:00,  1.59s/it, loss=0.131] \n",
      "Validation: 100%|██████████| 12/12 [00:08<00:00,  1.37it/s, loss=0.5]  \n"
     ]
    },
    {
     "name": "stdout",
     "output_type": "stream",
     "text": [
      "Validation Dice Score\n",
      "Class 0: 0.9881, Class 1: 0.5030, Class 2: 0.1161, Class 3: 0.3018, \n",
      "Class 4: 0.4848, Class 5: 0.4168, Class 6: 0.5854, \n",
      "Validation F-beta Score\n",
      "Class 0: 0.9837, Class 1: 0.5322, Class 2: 0.1534, Class 3: 0.2901, \n",
      "Class 4: 0.6224, Class 5: 0.4714, Class 6: 0.6564, \n",
      "Overall Mean Dice Score: 0.4584\n",
      "Overall Mean F-beta Score: 0.5145\n",
      "\n",
      "Training Loss: 0.5322, Validation Loss: 0.5205, Validation F-beta: 0.5145\n",
      "Validation loss did not improve. Reducing lambda to 0.4800\n",
      "Epoch 26/4000\n",
      "Current lambda: 0.4800\n"
     ]
    },
    {
     "name": "stderr",
     "output_type": "stream",
     "text": [
      "Training: 100%|██████████| 288/288 [07:39<00:00,  1.60s/it, loss=0.12]  \n",
      "Validation: 100%|██████████| 12/12 [00:08<00:00,  1.37it/s, loss=0.491]\n"
     ]
    },
    {
     "name": "stdout",
     "output_type": "stream",
     "text": [
      "Validation Dice Score\n",
      "Class 0: 0.9870, Class 1: 0.7699, Class 2: 0.0738, Class 3: 0.2911, \n",
      "Class 4: 0.4420, Class 5: 0.4091, Class 6: 0.7362, \n",
      "Validation F-beta Score\n",
      "Class 0: 0.9842, Class 1: 0.8634, Class 2: 0.1406, Class 3: 0.3144, \n",
      "Class 4: 0.4969, Class 5: 0.4751, Class 6: 0.8461, \n",
      "Overall Mean Dice Score: 0.5296\n",
      "Overall Mean F-beta Score: 0.5992\n",
      "\n",
      "Training Loss: 0.5377, Validation Loss: 0.4779, Validation F-beta: 0.5992\n",
      "========================================================\n",
      "SUPER Best model saved. Loss:0.4779, Score:0.5992\n",
      "========================================================\n",
      "Epoch 27/4000\n",
      "Current lambda: 0.4800\n"
     ]
    },
    {
     "name": "stderr",
     "output_type": "stream",
     "text": [
      "Training: 100%|██████████| 288/288 [07:38<00:00,  1.59s/it, loss=0.142] \n",
      "Validation: 100%|██████████| 12/12 [00:08<00:00,  1.39it/s, loss=0.414]\n"
     ]
    },
    {
     "name": "stdout",
     "output_type": "stream",
     "text": [
      "Validation Dice Score\n",
      "Class 0: 0.9875, Class 1: 0.4761, Class 2: 0.0563, Class 3: 0.2203, \n",
      "Class 4: 0.5394, Class 5: 0.4051, Class 6: 0.4272, \n",
      "Validation F-beta Score\n",
      "Class 0: 0.9860, Class 1: 0.5197, Class 2: 0.0973, Class 3: 0.2632, \n",
      "Class 4: 0.5842, Class 5: 0.4059, Class 6: 0.4873, \n",
      "Overall Mean Dice Score: 0.4136\n",
      "Overall Mean F-beta Score: 0.4521\n",
      "\n",
      "Training Loss: 0.5263, Validation Loss: 0.5308, Validation F-beta: 0.4521\n",
      "Epoch 28/4000\n",
      "Current lambda: 0.4800\n"
     ]
    },
    {
     "name": "stderr",
     "output_type": "stream",
     "text": [
      "Training: 100%|██████████| 288/288 [07:39<00:00,  1.60s/it, loss=0.121] \n",
      "Validation: 100%|██████████| 12/12 [00:08<00:00,  1.37it/s, loss=0.561]\n"
     ]
    },
    {
     "name": "stdout",
     "output_type": "stream",
     "text": [
      "Validation Dice Score\n",
      "Class 0: 0.9884, Class 1: 0.6384, Class 2: 0.1046, Class 3: 0.2976, \n",
      "Class 4: 0.4569, Class 5: 0.4067, Class 6: 0.6385, \n",
      "Validation F-beta Score\n",
      "Class 0: 0.9844, Class 1: 0.7494, Class 2: 0.2543, Class 3: 0.3627, \n",
      "Class 4: 0.4830, Class 5: 0.5094, Class 6: 0.6017, \n",
      "Overall Mean Dice Score: 0.4876\n",
      "Overall Mean F-beta Score: 0.5413\n",
      "\n",
      "Training Loss: 0.5242, Validation Loss: 0.5082, Validation F-beta: 0.5413\n",
      "Epoch 29/4000\n",
      "Current lambda: 0.4800\n"
     ]
    },
    {
     "name": "stderr",
     "output_type": "stream",
     "text": [
      "Training: 100%|██████████| 288/288 [07:38<00:00,  1.59s/it, loss=0.137] \n",
      "Validation: 100%|██████████| 12/12 [00:08<00:00,  1.40it/s, loss=0.472]\n"
     ]
    },
    {
     "name": "stdout",
     "output_type": "stream",
     "text": [
      "Validation Dice Score\n",
      "Class 0: 0.9899, Class 1: 0.3899, Class 2: 0.0614, Class 3: 0.3519, \n",
      "Class 4: 0.5040, Class 5: 0.3661, Class 6: 0.6123, \n",
      "Validation F-beta Score\n",
      "Class 0: 0.9881, Class 1: 0.5187, Class 2: 0.0955, Class 3: 0.3947, \n",
      "Class 4: 0.4960, Class 5: 0.4041, Class 6: 0.6618, \n",
      "Overall Mean Dice Score: 0.4448\n",
      "Overall Mean F-beta Score: 0.4951\n",
      "\n",
      "Training Loss: 0.5314, Validation Loss: 0.5228, Validation F-beta: 0.4951\n",
      "Epoch 30/4000\n",
      "Current lambda: 0.4800\n"
     ]
    },
    {
     "name": "stderr",
     "output_type": "stream",
     "text": [
      "Training: 100%|██████████| 288/288 [07:38<00:00,  1.59s/it, loss=0.137] \n",
      "Validation: 100%|██████████| 12/12 [00:09<00:00,  1.33it/s, loss=0.612]\n"
     ]
    },
    {
     "name": "stdout",
     "output_type": "stream",
     "text": [
      "Validation Dice Score\n",
      "Class 0: 0.9878, Class 1: 0.4530, Class 2: 0.0549, Class 3: 0.1896, \n",
      "Class 4: 0.6355, Class 5: 0.2779, Class 6: 0.6034, \n",
      "Validation F-beta Score\n",
      "Class 0: 0.9863, Class 1: 0.4774, Class 2: 0.0606, Class 3: 0.2083, \n",
      "Class 4: 0.6410, Class 5: 0.3940, Class 6: 0.6350, \n",
      "Overall Mean Dice Score: 0.4319\n",
      "Overall Mean F-beta Score: 0.4711\n",
      "\n",
      "Training Loss: 0.5260, Validation Loss: 0.5363, Validation F-beta: 0.4711\n",
      "Epoch 31/4000\n",
      "Current lambda: 0.4800\n"
     ]
    },
    {
     "name": "stderr",
     "output_type": "stream",
     "text": [
      "Training: 100%|██████████| 288/288 [07:36<00:00,  1.59s/it, loss=0.123] \n",
      "Validation: 100%|██████████| 12/12 [00:08<00:00,  1.37it/s, loss=0.591]\n"
     ]
    },
    {
     "name": "stdout",
     "output_type": "stream",
     "text": [
      "Validation Dice Score\n",
      "Class 0: 0.9889, Class 1: 0.5178, Class 2: 0.1927, Class 3: 0.1884, \n",
      "Class 4: 0.4822, Class 5: 0.3475, Class 6: 0.5179, \n",
      "Validation F-beta Score\n",
      "Class 0: 0.9863, Class 1: 0.6011, Class 2: 0.2111, Class 3: 0.2459, \n",
      "Class 4: 0.4326, Class 5: 0.4235, Class 6: 0.5919, \n",
      "Overall Mean Dice Score: 0.4108\n",
      "Overall Mean F-beta Score: 0.4590\n",
      "\n",
      "Training Loss: 0.5187, Validation Loss: 0.5327, Validation F-beta: 0.4590\n",
      "Validation loss did not improve. Reducing lambda to 0.4700\n",
      "Epoch 32/4000\n",
      "Current lambda: 0.4700\n"
     ]
    },
    {
     "name": "stderr",
     "output_type": "stream",
     "text": [
      "Training: 100%|██████████| 288/288 [07:38<00:00,  1.59s/it, loss=0.125] \n",
      "Validation: 100%|██████████| 12/12 [00:08<00:00,  1.38it/s, loss=0.39] \n"
     ]
    },
    {
     "name": "stdout",
     "output_type": "stream",
     "text": [
      "Validation Dice Score\n",
      "Class 0: 0.9906, Class 1: 0.6816, Class 2: 0.0678, Class 3: 0.2260, \n",
      "Class 4: 0.5150, Class 5: 0.3934, Class 6: 0.7467, \n",
      "Validation F-beta Score\n",
      "Class 0: 0.9898, Class 1: 0.6496, Class 2: 0.1036, Class 3: 0.2215, \n",
      "Class 4: 0.4686, Class 5: 0.4494, Class 6: 0.7958, \n",
      "Overall Mean Dice Score: 0.5125\n",
      "Overall Mean F-beta Score: 0.5170\n",
      "\n",
      "Training Loss: 0.5209, Validation Loss: 0.4982, Validation F-beta: 0.5170\n",
      "Epoch 33/4000\n",
      "Current lambda: 0.4700\n"
     ]
    },
    {
     "name": "stderr",
     "output_type": "stream",
     "text": [
      "Training: 100%|██████████| 288/288 [07:39<00:00,  1.59s/it, loss=0.113] \n",
      "Validation: 100%|██████████| 12/12 [00:08<00:00,  1.37it/s, loss=0.571]\n"
     ]
    },
    {
     "name": "stdout",
     "output_type": "stream",
     "text": [
      "Validation Dice Score\n",
      "Class 0: 0.9886, Class 1: 0.5996, Class 2: 0.0864, Class 3: 0.3825, \n",
      "Class 4: 0.5534, Class 5: 0.4399, Class 6: 0.5483, \n",
      "Validation F-beta Score\n",
      "Class 0: 0.9888, Class 1: 0.6437, Class 2: 0.1284, Class 3: 0.3913, \n",
      "Class 4: 0.5507, Class 5: 0.4723, Class 6: 0.5549, \n",
      "Overall Mean Dice Score: 0.5047\n",
      "Overall Mean F-beta Score: 0.5226\n",
      "\n",
      "Training Loss: 0.5253, Validation Loss: 0.4957, Validation F-beta: 0.5226\n",
      "Epoch 34/4000\n",
      "Current lambda: 0.4700\n"
     ]
    },
    {
     "name": "stderr",
     "output_type": "stream",
     "text": [
      "Training: 100%|██████████| 288/288 [07:37<00:00,  1.59s/it, loss=0.141] \n",
      "Validation: 100%|██████████| 12/12 [00:08<00:00,  1.38it/s, loss=0.642]\n"
     ]
    },
    {
     "name": "stdout",
     "output_type": "stream",
     "text": [
      "Validation Dice Score\n",
      "Class 0: 0.9902, Class 1: 0.6114, Class 2: 0.1387, Class 3: 0.3466, \n",
      "Class 4: 0.4284, Class 5: 0.3672, Class 6: 0.6007, \n",
      "Validation F-beta Score\n",
      "Class 0: 0.9877, Class 1: 0.6791, Class 2: 0.1828, Class 3: 0.3818, \n",
      "Class 4: 0.4721, Class 5: 0.4854, Class 6: 0.5816, \n",
      "Overall Mean Dice Score: 0.4709\n",
      "Overall Mean F-beta Score: 0.5200\n",
      "\n",
      "Training Loss: 0.5331, Validation Loss: 0.5287, Validation F-beta: 0.5200\n",
      "Epoch 35/4000\n",
      "Current lambda: 0.4700\n"
     ]
    },
    {
     "name": "stderr",
     "output_type": "stream",
     "text": [
      "Training: 100%|██████████| 288/288 [07:37<00:00,  1.59s/it, loss=0.119] \n",
      "Validation: 100%|██████████| 12/12 [00:08<00:00,  1.35it/s, loss=0.545]\n"
     ]
    },
    {
     "name": "stdout",
     "output_type": "stream",
     "text": [
      "Validation Dice Score\n",
      "Class 0: 0.9895, Class 1: 0.5212, Class 2: 0.1691, Class 3: 0.3835, \n",
      "Class 4: 0.5688, Class 5: 0.3122, Class 6: 0.4535, \n",
      "Validation F-beta Score\n",
      "Class 0: 0.9879, Class 1: 0.5682, Class 2: 0.2051, Class 3: 0.4496, \n",
      "Class 4: 0.5379, Class 5: 0.3686, Class 6: 0.5041, \n",
      "Overall Mean Dice Score: 0.4478\n",
      "Overall Mean F-beta Score: 0.4857\n",
      "\n",
      "Training Loss: 0.5261, Validation Loss: 0.5082, Validation F-beta: 0.4857\n",
      "Epoch 36/4000\n",
      "Current lambda: 0.4700\n"
     ]
    },
    {
     "name": "stderr",
     "output_type": "stream",
     "text": [
      "Training: 100%|██████████| 288/288 [07:38<00:00,  1.59s/it, loss=0.118] \n",
      "Validation: 100%|██████████| 12/12 [00:08<00:00,  1.40it/s, loss=0.484]\n"
     ]
    },
    {
     "name": "stdout",
     "output_type": "stream",
     "text": [
      "Validation Dice Score\n",
      "Class 0: 0.9894, Class 1: 0.5237, Class 2: 0.0482, Class 3: 0.2799, \n",
      "Class 4: 0.6313, Class 5: 0.4034, Class 6: 0.5117, \n",
      "Validation F-beta Score\n",
      "Class 0: 0.9889, Class 1: 0.6400, Class 2: 0.0946, Class 3: 0.2613, \n",
      "Class 4: 0.6243, Class 5: 0.4009, Class 6: 0.5480, \n",
      "Overall Mean Dice Score: 0.4700\n",
      "Overall Mean F-beta Score: 0.4949\n",
      "\n",
      "Training Loss: 0.5210, Validation Loss: 0.5287, Validation F-beta: 0.4949\n",
      "Epoch 37/4000\n",
      "Current lambda: 0.4700\n"
     ]
    },
    {
     "name": "stderr",
     "output_type": "stream",
     "text": [
      "Training: 100%|██████████| 288/288 [07:36<00:00,  1.59s/it, loss=0.13]  \n",
      "Validation: 100%|██████████| 12/12 [00:08<00:00,  1.40it/s, loss=0.545]\n"
     ]
    },
    {
     "name": "stdout",
     "output_type": "stream",
     "text": [
      "Validation Dice Score\n",
      "Class 0: 0.9895, Class 1: 0.6995, Class 2: 0.1176, Class 3: 0.2909, \n",
      "Class 4: 0.4568, Class 5: 0.4077, Class 6: 0.6535, \n",
      "Validation F-beta Score\n",
      "Class 0: 0.9865, Class 1: 0.7994, Class 2: 0.1828, Class 3: 0.3525, \n",
      "Class 4: 0.5219, Class 5: 0.5272, Class 6: 0.6898, \n",
      "Overall Mean Dice Score: 0.5017\n",
      "Overall Mean F-beta Score: 0.5782\n",
      "\n",
      "Training Loss: 0.5168, Validation Loss: 0.4960, Validation F-beta: 0.5782\n",
      "Validation loss did not improve. Reducing lambda to 0.4600\n",
      "Epoch 38/4000\n",
      "Current lambda: 0.4600\n"
     ]
    },
    {
     "name": "stderr",
     "output_type": "stream",
     "text": [
      "Training: 100%|██████████| 288/288 [07:37<00:00,  1.59s/it, loss=0.138] \n",
      "Validation: 100%|██████████| 12/12 [00:08<00:00,  1.38it/s, loss=0.451]\n"
     ]
    },
    {
     "name": "stdout",
     "output_type": "stream",
     "text": [
      "Validation Dice Score\n",
      "Class 0: 0.9884, Class 1: 0.6758, Class 2: 0.1475, Class 3: 0.3577, \n",
      "Class 4: 0.5082, Class 5: 0.4083, Class 6: 0.7604, \n",
      "Validation F-beta Score\n",
      "Class 0: 0.9855, Class 1: 0.7798, Class 2: 0.2619, Class 3: 0.3755, \n",
      "Class 4: 0.5899, Class 5: 0.4526, Class 6: 0.7838, \n",
      "Overall Mean Dice Score: 0.5421\n",
      "Overall Mean F-beta Score: 0.5963\n",
      "\n",
      "Training Loss: 0.5238, Validation Loss: 0.4733, Validation F-beta: 0.5963\n",
      "========================================================\n",
      "Best model saved based on validation loss: 0.4733\n",
      "========================================================\n",
      "Epoch 39/4000\n",
      "Current lambda: 0.4600\n"
     ]
    },
    {
     "name": "stderr",
     "output_type": "stream",
     "text": [
      "Training: 100%|██████████| 288/288 [07:37<00:00,  1.59s/it, loss=0.128] \n",
      "Validation: 100%|██████████| 12/12 [00:08<00:00,  1.40it/s, loss=0.499]\n"
     ]
    },
    {
     "name": "stdout",
     "output_type": "stream",
     "text": [
      "Validation Dice Score\n",
      "Class 0: 0.9902, Class 1: 0.4814, Class 2: 0.1199, Class 3: 0.2678, \n",
      "Class 4: 0.6169, Class 5: 0.4718, Class 6: 0.5254, \n",
      "Validation F-beta Score\n",
      "Class 0: 0.9894, Class 1: 0.5442, Class 2: 0.1480, Class 3: 0.3089, \n",
      "Class 4: 0.6239, Class 5: 0.5172, Class 6: 0.5770, \n",
      "Overall Mean Dice Score: 0.4726\n",
      "Overall Mean F-beta Score: 0.5142\n",
      "\n",
      "Training Loss: 0.5231, Validation Loss: 0.5102, Validation F-beta: 0.5142\n",
      "Epoch 40/4000\n",
      "Current lambda: 0.4600\n"
     ]
    },
    {
     "name": "stderr",
     "output_type": "stream",
     "text": [
      "Training: 100%|██████████| 288/288 [07:38<00:00,  1.59s/it, loss=0.131] \n",
      "Validation: 100%|██████████| 12/12 [00:09<00:00,  1.29it/s, loss=0.398]\n"
     ]
    },
    {
     "name": "stdout",
     "output_type": "stream",
     "text": [
      "Validation Dice Score\n",
      "Class 0: 0.9872, Class 1: 0.6074, Class 2: 0.0728, Class 3: 0.2514, \n",
      "Class 4: 0.4420, Class 5: 0.3897, Class 6: 0.5767, \n",
      "Validation F-beta Score\n",
      "Class 0: 0.9875, Class 1: 0.6647, Class 2: 0.1050, Class 3: 0.3066, \n",
      "Class 4: 0.4418, Class 5: 0.3714, Class 6: 0.6023, \n",
      "Overall Mean Dice Score: 0.4535\n",
      "Overall Mean F-beta Score: 0.4773\n",
      "\n",
      "Training Loss: 0.5243, Validation Loss: 0.5184, Validation F-beta: 0.4773\n",
      "Epoch 41/4000\n",
      "Current lambda: 0.4600\n"
     ]
    },
    {
     "name": "stderr",
     "output_type": "stream",
     "text": [
      "Training: 100%|██████████| 288/288 [07:37<00:00,  1.59s/it, loss=0.134] \n",
      "Validation: 100%|██████████| 12/12 [00:08<00:00,  1.37it/s, loss=0.414]\n"
     ]
    },
    {
     "name": "stdout",
     "output_type": "stream",
     "text": [
      "Validation Dice Score\n",
      "Class 0: 0.9890, Class 1: 0.6686, Class 2: 0.1043, Class 3: 0.3946, \n",
      "Class 4: 0.5741, Class 5: 0.4176, Class 6: 0.5016, \n",
      "Validation F-beta Score\n",
      "Class 0: 0.9901, Class 1: 0.7069, Class 2: 0.1395, Class 3: 0.4038, \n",
      "Class 4: 0.5460, Class 5: 0.4468, Class 6: 0.5344, \n",
      "Overall Mean Dice Score: 0.5113\n",
      "Overall Mean F-beta Score: 0.5276\n",
      "\n",
      "Training Loss: 0.5217, Validation Loss: 0.4960, Validation F-beta: 0.5276\n",
      "Epoch 42/4000\n",
      "Current lambda: 0.4600\n"
     ]
    },
    {
     "name": "stderr",
     "output_type": "stream",
     "text": [
      "Training: 100%|██████████| 288/288 [07:38<00:00,  1.59s/it, loss=0.125] \n",
      "Validation: 100%|██████████| 12/12 [00:08<00:00,  1.40it/s, loss=0.633]\n"
     ]
    },
    {
     "name": "stdout",
     "output_type": "stream",
     "text": [
      "Validation Dice Score\n",
      "Class 0: 0.9880, Class 1: 0.4187, Class 2: 0.1663, Class 3: 0.4121, \n",
      "Class 4: 0.5943, Class 5: 0.3990, Class 6: 0.4574, \n",
      "Validation F-beta Score\n",
      "Class 0: 0.9849, Class 1: 0.5147, Class 2: 0.2533, Class 3: 0.4987, \n",
      "Class 4: 0.7582, Class 5: 0.4207, Class 6: 0.5084, \n",
      "Overall Mean Dice Score: 0.4563\n",
      "Overall Mean F-beta Score: 0.5401\n",
      "\n",
      "Training Loss: 0.5189, Validation Loss: 0.5189, Validation F-beta: 0.5401\n",
      "Epoch 43/4000\n",
      "Current lambda: 0.4600\n"
     ]
    },
    {
     "name": "stderr",
     "output_type": "stream",
     "text": [
      "Training: 100%|██████████| 288/288 [07:37<00:00,  1.59s/it, loss=0.123] \n",
      "Validation: 100%|██████████| 12/12 [00:08<00:00,  1.38it/s, loss=0.541]\n"
     ]
    },
    {
     "name": "stdout",
     "output_type": "stream",
     "text": [
      "Validation Dice Score\n",
      "Class 0: 0.9877, Class 1: 0.5808, Class 2: 0.1085, Class 3: 0.1956, \n",
      "Class 4: 0.4735, Class 5: 0.4428, Class 6: 0.5254, \n",
      "Validation F-beta Score\n",
      "Class 0: 0.9872, Class 1: 0.6472, Class 2: 0.1459, Class 3: 0.2254, \n",
      "Class 4: 0.5309, Class 5: 0.4983, Class 6: 0.5704, \n",
      "Overall Mean Dice Score: 0.4436\n",
      "Overall Mean F-beta Score: 0.4944\n",
      "\n",
      "Training Loss: 0.5252, Validation Loss: 0.5347, Validation F-beta: 0.4944\n",
      "Validation loss did not improve. Reducing lambda to 0.4500\n",
      "Epoch 44/4000\n",
      "Current lambda: 0.4500\n"
     ]
    },
    {
     "name": "stderr",
     "output_type": "stream",
     "text": [
      "Training: 100%|██████████| 288/288 [07:39<00:00,  1.60s/it, loss=0.106] \n",
      "Validation: 100%|██████████| 12/12 [00:08<00:00,  1.37it/s, loss=0.321]\n"
     ]
    },
    {
     "name": "stdout",
     "output_type": "stream",
     "text": [
      "Validation Dice Score\n",
      "Class 0: 0.9911, Class 1: 0.6752, Class 2: 0.2456, Class 3: 0.3860, \n",
      "Class 4: 0.6122, Class 5: 0.4866, Class 6: 0.4546, \n",
      "Validation F-beta Score\n",
      "Class 0: 0.9913, Class 1: 0.6851, Class 2: 0.2875, Class 3: 0.4550, \n",
      "Class 4: 0.6409, Class 5: 0.5251, Class 6: 0.5113, \n",
      "Overall Mean Dice Score: 0.5229\n",
      "Overall Mean F-beta Score: 0.5635\n",
      "\n",
      "Training Loss: 0.5169, Validation Loss: 0.4868, Validation F-beta: 0.5635\n",
      "Epoch 45/4000\n",
      "Current lambda: 0.4500\n"
     ]
    },
    {
     "name": "stderr",
     "output_type": "stream",
     "text": [
      "Training: 100%|██████████| 288/288 [07:37<00:00,  1.59s/it, loss=0.131] \n",
      "Validation: 100%|██████████| 12/12 [00:08<00:00,  1.39it/s, loss=0.375]\n"
     ]
    },
    {
     "name": "stdout",
     "output_type": "stream",
     "text": [
      "Validation Dice Score\n",
      "Class 0: 0.9899, Class 1: 0.5653, Class 2: 0.1013, Class 3: 0.4180, \n",
      "Class 4: 0.5445, Class 5: 0.4145, Class 6: 0.5045, \n",
      "Validation F-beta Score\n",
      "Class 0: 0.9890, Class 1: 0.5978, Class 2: 0.1247, Class 3: 0.4885, \n",
      "Class 4: 0.5305, Class 5: 0.4590, Class 6: 0.5193, \n",
      "Overall Mean Dice Score: 0.4894\n",
      "Overall Mean F-beta Score: 0.5190\n",
      "\n",
      "Training Loss: 0.5109, Validation Loss: 0.4985, Validation F-beta: 0.5190\n",
      "Epoch 46/4000\n",
      "Current lambda: 0.4500\n"
     ]
    },
    {
     "name": "stderr",
     "output_type": "stream",
     "text": [
      "Training: 100%|██████████| 288/288 [07:37<00:00,  1.59s/it, loss=0.126] \n",
      "Validation: 100%|██████████| 12/12 [00:08<00:00,  1.37it/s, loss=0.635]\n"
     ]
    },
    {
     "name": "stdout",
     "output_type": "stream",
     "text": [
      "Validation Dice Score\n",
      "Class 0: 0.9882, Class 1: 0.6165, Class 2: 0.1268, Class 3: 0.1579, \n",
      "Class 4: 0.6069, Class 5: 0.4120, Class 6: 0.4582, \n",
      "Validation F-beta Score\n",
      "Class 0: 0.9877, Class 1: 0.7399, Class 2: 0.2175, Class 3: 0.2033, \n",
      "Class 4: 0.5522, Class 5: 0.4705, Class 6: 0.4752, \n",
      "Overall Mean Dice Score: 0.4503\n",
      "Overall Mean F-beta Score: 0.4882\n",
      "\n",
      "Training Loss: 0.5103, Validation Loss: 0.5161, Validation F-beta: 0.4882\n",
      "Epoch 47/4000\n",
      "Current lambda: 0.4500\n"
     ]
    },
    {
     "name": "stderr",
     "output_type": "stream",
     "text": [
      "Training: 100%|██████████| 288/288 [07:37<00:00,  1.59s/it, loss=0.118] \n",
      "Validation: 100%|██████████| 12/12 [00:08<00:00,  1.37it/s, loss=0.485]\n"
     ]
    },
    {
     "name": "stdout",
     "output_type": "stream",
     "text": [
      "Validation Dice Score\n",
      "Class 0: 0.9902, Class 1: 0.4562, Class 2: 0.1489, Class 3: 0.2855, \n",
      "Class 4: 0.6002, Class 5: 0.3367, Class 6: 0.5857, \n",
      "Validation F-beta Score\n",
      "Class 0: 0.9874, Class 1: 0.4899, Class 2: 0.1769, Class 3: 0.3944, \n",
      "Class 4: 0.6801, Class 5: 0.4418, Class 6: 0.6109, \n",
      "Overall Mean Dice Score: 0.4529\n",
      "Overall Mean F-beta Score: 0.5234\n",
      "\n",
      "Training Loss: 0.5099, Validation Loss: 0.5159, Validation F-beta: 0.5234\n",
      "Epoch 48/4000\n",
      "Current lambda: 0.4500\n"
     ]
    },
    {
     "name": "stderr",
     "output_type": "stream",
     "text": [
      "Training: 100%|██████████| 288/288 [07:37<00:00,  1.59s/it, loss=0.126] \n",
      "Validation: 100%|██████████| 12/12 [00:08<00:00,  1.36it/s, loss=0.536]\n"
     ]
    },
    {
     "name": "stdout",
     "output_type": "stream",
     "text": [
      "Validation Dice Score\n",
      "Class 0: 0.9894, Class 1: 0.4757, Class 2: 0.1529, Class 3: 0.3470, \n",
      "Class 4: 0.6236, Class 5: 0.4235, Class 6: 0.5811, \n",
      "Validation F-beta Score\n",
      "Class 0: 0.9890, Class 1: 0.6265, Class 2: 0.2241, Class 3: 0.3671, \n",
      "Class 4: 0.6192, Class 5: 0.5404, Class 6: 0.6219, \n",
      "Overall Mean Dice Score: 0.4902\n",
      "Overall Mean F-beta Score: 0.5550\n",
      "\n",
      "Training Loss: 0.5041, Validation Loss: 0.5074, Validation F-beta: 0.5550\n",
      "Epoch 49/4000\n",
      "Current lambda: 0.4500\n"
     ]
    },
    {
     "name": "stderr",
     "output_type": "stream",
     "text": [
      "Training: 100%|██████████| 288/288 [07:38<00:00,  1.59s/it, loss=0.143] \n",
      "Validation: 100%|██████████| 12/12 [00:08<00:00,  1.39it/s, loss=0.391]\n"
     ]
    },
    {
     "name": "stdout",
     "output_type": "stream",
     "text": [
      "Validation Dice Score\n",
      "Class 0: 0.9907, Class 1: 0.5641, Class 2: 0.0849, Class 3: 0.4100, \n",
      "Class 4: 0.4787, Class 5: 0.4757, Class 6: 0.7255, \n",
      "Validation F-beta Score\n",
      "Class 0: 0.9875, Class 1: 0.6603, Class 2: 0.1024, Class 3: 0.4858, \n",
      "Class 4: 0.5183, Class 5: 0.5758, Class 6: 0.7349, \n",
      "Overall Mean Dice Score: 0.5308\n",
      "Overall Mean F-beta Score: 0.5950\n",
      "\n",
      "Training Loss: 0.5151, Validation Loss: 0.4763, Validation F-beta: 0.5950\n",
      "Validation loss did not improve. Reducing lambda to 0.4400\n",
      "Epoch 50/4000\n",
      "Current lambda: 0.4400\n"
     ]
    },
    {
     "name": "stderr",
     "output_type": "stream",
     "text": [
      "Training: 100%|██████████| 288/288 [07:39<00:00,  1.60s/it, loss=0.124] \n",
      "Validation: 100%|██████████| 12/12 [00:09<00:00,  1.29it/s, loss=0.544]\n"
     ]
    },
    {
     "name": "stdout",
     "output_type": "stream",
     "text": [
      "Validation Dice Score\n",
      "Class 0: 0.9874, Class 1: 0.3960, Class 2: 0.1081, Class 3: 0.3388, \n",
      "Class 4: 0.5052, Class 5: 0.3662, Class 6: 0.5205, \n",
      "Validation F-beta Score\n",
      "Class 0: 0.9886, Class 1: 0.4032, Class 2: 0.1586, Class 3: 0.3594, \n",
      "Class 4: 0.5268, Class 5: 0.3770, Class 6: 0.5077, \n",
      "Overall Mean Dice Score: 0.4254\n",
      "Overall Mean F-beta Score: 0.4348\n",
      "\n",
      "Training Loss: 0.5029, Validation Loss: 0.5399, Validation F-beta: 0.4348\n",
      "Epoch 51/4000\n",
      "Current lambda: 0.4400\n"
     ]
    },
    {
     "name": "stderr",
     "output_type": "stream",
     "text": [
      "Training: 100%|██████████| 288/288 [07:40<00:00,  1.60s/it, loss=0.115] \n",
      "Validation: 100%|██████████| 12/12 [00:08<00:00,  1.38it/s, loss=0.313]\n"
     ]
    },
    {
     "name": "stdout",
     "output_type": "stream",
     "text": [
      "Validation Dice Score\n",
      "Class 0: 0.9903, Class 1: 0.6766, Class 2: 0.1060, Class 3: 0.3685, \n",
      "Class 4: 0.5925, Class 5: 0.4907, Class 6: 0.7794, \n",
      "Validation F-beta Score\n",
      "Class 0: 0.9874, Class 1: 0.7305, Class 2: 0.1411, Class 3: 0.4256, \n",
      "Class 4: 0.6819, Class 5: 0.5763, Class 6: 0.7975, \n",
      "Overall Mean Dice Score: 0.5816\n",
      "Overall Mean F-beta Score: 0.6424\n",
      "\n",
      "Training Loss: 0.5059, Validation Loss: 0.4557, Validation F-beta: 0.6424\n",
      "========================================================\n",
      "SUPER Best model saved. Loss:0.4557, Score:0.6424\n",
      "========================================================\n",
      "Epoch 52/4000\n",
      "Current lambda: 0.4400\n"
     ]
    },
    {
     "name": "stderr",
     "output_type": "stream",
     "text": [
      "Training: 100%|██████████| 288/288 [07:34<00:00,  1.58s/it, loss=0.126] \n",
      "Validation: 100%|██████████| 12/12 [00:08<00:00,  1.39it/s, loss=0.552]\n"
     ]
    },
    {
     "name": "stdout",
     "output_type": "stream",
     "text": [
      "Validation Dice Score\n",
      "Class 0: 0.9899, Class 1: 0.5655, Class 2: 0.1100, Class 3: 0.2985, \n",
      "Class 4: 0.6361, Class 5: 0.4075, Class 6: 0.5149, \n",
      "Validation F-beta Score\n",
      "Class 0: 0.9898, Class 1: 0.6556, Class 2: 0.1541, Class 3: 0.3443, \n",
      "Class 4: 0.6051, Class 5: 0.4750, Class 6: 0.5796, \n",
      "Overall Mean Dice Score: 0.4845\n",
      "Overall Mean F-beta Score: 0.5319\n",
      "\n",
      "Training Loss: 0.5124, Validation Loss: 0.5171, Validation F-beta: 0.5319\n",
      "Epoch 53/4000\n",
      "Current lambda: 0.4400\n"
     ]
    },
    {
     "name": "stderr",
     "output_type": "stream",
     "text": [
      "Training: 100%|██████████| 288/288 [07:38<00:00,  1.59s/it, loss=0.127] \n",
      "Validation: 100%|██████████| 12/12 [00:08<00:00,  1.41it/s, loss=0.475]\n"
     ]
    },
    {
     "name": "stdout",
     "output_type": "stream",
     "text": [
      "Validation Dice Score\n",
      "Class 0: 0.9898, Class 1: 0.4839, Class 2: 0.0717, Class 3: 0.2875, \n",
      "Class 4: 0.5730, Class 5: 0.4211, Class 6: 0.3483, \n",
      "Validation F-beta Score\n",
      "Class 0: 0.9890, Class 1: 0.5244, Class 2: 0.0930, Class 3: 0.3971, \n",
      "Class 4: 0.5400, Class 5: 0.4728, Class 6: 0.3905, \n",
      "Overall Mean Dice Score: 0.4228\n",
      "Overall Mean F-beta Score: 0.4650\n",
      "\n",
      "Training Loss: 0.5012, Validation Loss: 0.5467, Validation F-beta: 0.4650\n",
      "Epoch 54/4000\n",
      "Current lambda: 0.4400\n"
     ]
    },
    {
     "name": "stderr",
     "output_type": "stream",
     "text": [
      "Training: 100%|██████████| 288/288 [07:36<00:00,  1.59s/it, loss=0.127] \n",
      "Validation: 100%|██████████| 12/12 [00:08<00:00,  1.40it/s, loss=0.491]\n"
     ]
    },
    {
     "name": "stdout",
     "output_type": "stream",
     "text": [
      "Validation Dice Score\n",
      "Class 0: 0.9895, Class 1: 0.6278, Class 2: 0.1514, Class 3: 0.3106, \n",
      "Class 4: 0.6054, Class 5: 0.4205, Class 6: 0.6980, \n",
      "Validation F-beta Score\n",
      "Class 0: 0.9912, Class 1: 0.6633, Class 2: 0.2053, Class 3: 0.3298, \n",
      "Class 4: 0.5451, Class 5: 0.4354, Class 6: 0.7208, \n",
      "Overall Mean Dice Score: 0.5325\n",
      "Overall Mean F-beta Score: 0.5389\n",
      "\n",
      "Training Loss: 0.5052, Validation Loss: 0.4952, Validation F-beta: 0.5389\n",
      "Epoch 55/4000\n",
      "Current lambda: 0.4400\n"
     ]
    },
    {
     "name": "stderr",
     "output_type": "stream",
     "text": [
      "Training: 100%|██████████| 288/288 [07:36<00:00,  1.59s/it, loss=0.141] \n",
      "Validation: 100%|██████████| 12/12 [00:08<00:00,  1.38it/s, loss=0.506]\n"
     ]
    },
    {
     "name": "stdout",
     "output_type": "stream",
     "text": [
      "Validation Dice Score\n",
      "Class 0: 0.9882, Class 1: 0.4648, Class 2: 0.1516, Class 3: 0.3144, \n",
      "Class 4: 0.5260, Class 5: 0.3855, Class 6: 0.5596, \n",
      "Validation F-beta Score\n",
      "Class 0: 0.9880, Class 1: 0.4752, Class 2: 0.2174, Class 3: 0.4173, \n",
      "Class 4: 0.5011, Class 5: 0.4394, Class 6: 0.6761, \n",
      "Overall Mean Dice Score: 0.4500\n",
      "Overall Mean F-beta Score: 0.5018\n",
      "\n",
      "Training Loss: 0.5071, Validation Loss: 0.5100, Validation F-beta: 0.5018\n",
      "Epoch 56/4000\n",
      "Current lambda: 0.4400\n"
     ]
    },
    {
     "name": "stderr",
     "output_type": "stream",
     "text": [
      "Training: 100%|██████████| 288/288 [07:35<00:00,  1.58s/it, loss=0.129] \n",
      "Validation: 100%|██████████| 12/12 [00:08<00:00,  1.38it/s, loss=0.47] \n"
     ]
    },
    {
     "name": "stdout",
     "output_type": "stream",
     "text": [
      "Validation Dice Score\n",
      "Class 0: 0.9910, Class 1: 0.6185, Class 2: 0.0713, Class 3: 0.4051, \n",
      "Class 4: 0.7479, Class 5: 0.4427, Class 6: 0.5108, \n",
      "Validation F-beta Score\n",
      "Class 0: 0.9909, Class 1: 0.7103, Class 2: 0.0906, Class 3: 0.4962, \n",
      "Class 4: 0.7394, Class 5: 0.5416, Class 6: 0.6133, \n",
      "Overall Mean Dice Score: 0.5450\n",
      "Overall Mean F-beta Score: 0.6201\n",
      "\n",
      "Training Loss: 0.5008, Validation Loss: 0.4849, Validation F-beta: 0.6201\n",
      "Validation loss did not improve. Reducing lambda to 0.4300\n",
      "Epoch 57/4000\n",
      "Current lambda: 0.4300\n"
     ]
    },
    {
     "name": "stderr",
     "output_type": "stream",
     "text": [
      "Training: 100%|██████████| 288/288 [07:37<00:00,  1.59s/it, loss=0.15]  \n",
      "Validation: 100%|██████████| 12/12 [00:08<00:00,  1.36it/s, loss=0.393]\n"
     ]
    },
    {
     "name": "stdout",
     "output_type": "stream",
     "text": [
      "Validation Dice Score\n",
      "Class 0: 0.9916, Class 1: 0.5204, Class 2: 0.1790, Class 3: 0.4099, \n",
      "Class 4: 0.3649, Class 5: 0.4445, Class 6: 0.7269, \n",
      "Validation F-beta Score\n",
      "Class 0: 0.9916, Class 1: 0.5473, Class 2: 0.1961, Class 3: 0.3844, \n",
      "Class 4: 0.4033, Class 5: 0.4617, Class 6: 0.7595, \n",
      "Overall Mean Dice Score: 0.4933\n",
      "Overall Mean F-beta Score: 0.5112\n",
      "\n",
      "Training Loss: 0.5087, Validation Loss: 0.4815, Validation F-beta: 0.5112\n",
      "Epoch 58/4000\n",
      "Current lambda: 0.4300\n"
     ]
    },
    {
     "name": "stderr",
     "output_type": "stream",
     "text": [
      "Training: 100%|██████████| 288/288 [07:36<00:00,  1.58s/it, loss=0.108] \n",
      "Validation: 100%|██████████| 12/12 [00:08<00:00,  1.41it/s, loss=0.506]\n"
     ]
    },
    {
     "name": "stdout",
     "output_type": "stream",
     "text": [
      "Validation Dice Score\n",
      "Class 0: 0.9893, Class 1: 0.6756, Class 2: 0.1508, Class 3: 0.3249, \n",
      "Class 4: 0.4979, Class 5: 0.4138, Class 6: 0.7917, \n",
      "Validation F-beta Score\n",
      "Class 0: 0.9913, Class 1: 0.7069, Class 2: 0.1721, Class 3: 0.3906, \n",
      "Class 4: 0.4493, Class 5: 0.4173, Class 6: 0.7953, \n",
      "Overall Mean Dice Score: 0.5408\n",
      "Overall Mean F-beta Score: 0.5519\n",
      "\n",
      "Training Loss: 0.5074, Validation Loss: 0.4787, Validation F-beta: 0.5519\n",
      "Epoch 59/4000\n",
      "Current lambda: 0.4300\n"
     ]
    },
    {
     "name": "stderr",
     "output_type": "stream",
     "text": [
      "Training: 100%|██████████| 288/288 [07:35<00:00,  1.58s/it, loss=0.14]  \n",
      "Validation: 100%|██████████| 12/12 [00:08<00:00,  1.36it/s, loss=0.503]\n"
     ]
    },
    {
     "name": "stdout",
     "output_type": "stream",
     "text": [
      "Validation Dice Score\n",
      "Class 0: 0.9911, Class 1: 0.7382, Class 2: 0.1714, Class 3: 0.3534, \n",
      "Class 4: 0.5075, Class 5: 0.3466, Class 6: 0.7094, \n",
      "Validation F-beta Score\n",
      "Class 0: 0.9910, Class 1: 0.7754, Class 2: 0.1642, Class 3: 0.3934, \n",
      "Class 4: 0.4741, Class 5: 0.4060, Class 6: 0.6745, \n",
      "Overall Mean Dice Score: 0.5310\n",
      "Overall Mean F-beta Score: 0.5447\n",
      "\n",
      "Training Loss: 0.5025, Validation Loss: 0.4578, Validation F-beta: 0.5447\n",
      "Epoch 60/4000\n",
      "Current lambda: 0.4300\n"
     ]
    },
    {
     "name": "stderr",
     "output_type": "stream",
     "text": [
      "Training: 100%|██████████| 288/288 [07:36<00:00,  1.59s/it, loss=0.14]  \n",
      "Validation: 100%|██████████| 12/12 [00:09<00:00,  1.30it/s, loss=0.409]\n"
     ]
    },
    {
     "name": "stdout",
     "output_type": "stream",
     "text": [
      "Validation Dice Score\n",
      "Class 0: 0.9901, Class 1: 0.5933, Class 2: 0.1366, Class 3: 0.3370, \n",
      "Class 4: 0.6304, Class 5: 0.4069, Class 6: 0.7732, \n",
      "Validation F-beta Score\n",
      "Class 0: 0.9895, Class 1: 0.6206, Class 2: 0.2108, Class 3: 0.3699, \n",
      "Class 4: 0.6354, Class 5: 0.4598, Class 6: 0.8228, \n",
      "Overall Mean Dice Score: 0.5482\n",
      "Overall Mean F-beta Score: 0.5817\n",
      "\n",
      "Training Loss: 0.5024, Validation Loss: 0.4733, Validation F-beta: 0.5817\n",
      "Epoch 61/4000\n",
      "Current lambda: 0.4300\n"
     ]
    },
    {
     "name": "stderr",
     "output_type": "stream",
     "text": [
      "Training: 100%|██████████| 288/288 [07:35<00:00,  1.58s/it, loss=0.129] \n",
      "Validation: 100%|██████████| 12/12 [00:08<00:00,  1.39it/s, loss=0.548]\n"
     ]
    },
    {
     "name": "stdout",
     "output_type": "stream",
     "text": [
      "Validation Dice Score\n",
      "Class 0: 0.9889, Class 1: 0.5162, Class 2: 0.1327, Class 3: 0.2817, \n",
      "Class 4: 0.6237, Class 5: 0.4151, Class 6: 0.5077, \n",
      "Validation F-beta Score\n",
      "Class 0: 0.9880, Class 1: 0.6898, Class 2: 0.1949, Class 3: 0.3364, \n",
      "Class 4: 0.5825, Class 5: 0.5322, Class 6: 0.5336, \n",
      "Overall Mean Dice Score: 0.4689\n",
      "Overall Mean F-beta Score: 0.5349\n",
      "\n",
      "Training Loss: 0.4951, Validation Loss: 0.5101, Validation F-beta: 0.5349\n",
      "Epoch 62/4000\n",
      "Current lambda: 0.4300\n"
     ]
    },
    {
     "name": "stderr",
     "output_type": "stream",
     "text": [
      "Training: 100%|██████████| 288/288 [07:37<00:00,  1.59s/it, loss=0.112] \n",
      "Validation: 100%|██████████| 12/12 [00:08<00:00,  1.40it/s, loss=0.494]\n"
     ]
    },
    {
     "name": "stdout",
     "output_type": "stream",
     "text": [
      "Validation Dice Score\n",
      "Class 0: 0.9898, Class 1: 0.5733, Class 2: 0.1782, Class 3: 0.3862, \n",
      "Class 4: 0.6102, Class 5: 0.4791, Class 6: 0.6469, \n",
      "Validation F-beta Score\n",
      "Class 0: 0.9898, Class 1: 0.6517, Class 2: 0.2027, Class 3: 0.4246, \n",
      "Class 4: 0.6160, Class 5: 0.5022, Class 6: 0.6643, \n",
      "Overall Mean Dice Score: 0.5392\n",
      "Overall Mean F-beta Score: 0.5718\n",
      "\n",
      "Training Loss: 0.4981, Validation Loss: 0.4866, Validation F-beta: 0.5718\n",
      "Validation loss did not improve. Reducing lambda to 0.4200\n",
      "Epoch 63/4000\n",
      "Current lambda: 0.4200\n"
     ]
    },
    {
     "name": "stderr",
     "output_type": "stream",
     "text": [
      "Training: 100%|██████████| 288/288 [07:36<00:00,  1.59s/it, loss=0.139] \n",
      "Validation: 100%|██████████| 12/12 [00:08<00:00,  1.38it/s, loss=0.282]\n"
     ]
    },
    {
     "name": "stdout",
     "output_type": "stream",
     "text": [
      "Validation Dice Score\n",
      "Class 0: 0.9896, Class 1: 0.7690, Class 2: 0.1277, Class 3: 0.4644, \n",
      "Class 4: 0.5960, Class 5: 0.4319, Class 6: 0.6224, \n",
      "Validation F-beta Score\n",
      "Class 0: 0.9908, Class 1: 0.7933, Class 2: 0.1555, Class 3: 0.4779, \n",
      "Class 4: 0.5757, Class 5: 0.4110, Class 6: 0.6845, \n",
      "Overall Mean Dice Score: 0.5767\n",
      "Overall Mean F-beta Score: 0.5885\n",
      "\n",
      "Training Loss: 0.5034, Validation Loss: 0.4528, Validation F-beta: 0.5885\n",
      "========================================================\n",
      "Best model saved based on validation loss: 0.4528\n",
      "========================================================\n",
      "Epoch 64/4000\n",
      "Current lambda: 0.4200\n"
     ]
    },
    {
     "name": "stderr",
     "output_type": "stream",
     "text": [
      "Training: 100%|██████████| 288/288 [07:38<00:00,  1.59s/it, loss=0.13]  \n",
      "Validation: 100%|██████████| 12/12 [00:08<00:00,  1.40it/s, loss=0.522]\n"
     ]
    },
    {
     "name": "stdout",
     "output_type": "stream",
     "text": [
      "Validation Dice Score\n",
      "Class 0: 0.9903, Class 1: 0.6438, Class 2: 0.2094, Class 3: 0.3729, \n",
      "Class 4: 0.4913, Class 5: 0.4363, Class 6: 0.4786, \n",
      "Validation F-beta Score\n",
      "Class 0: 0.9898, Class 1: 0.6228, Class 2: 0.2437, Class 3: 0.3958, \n",
      "Class 4: 0.4694, Class 5: 0.5482, Class 6: 0.4489, \n",
      "Overall Mean Dice Score: 0.4846\n",
      "Overall Mean F-beta Score: 0.4970\n",
      "\n",
      "Training Loss: 0.4951, Validation Loss: 0.4884, Validation F-beta: 0.4970\n",
      "Epoch 65/4000\n",
      "Current lambda: 0.4200\n"
     ]
    },
    {
     "name": "stderr",
     "output_type": "stream",
     "text": [
      "Training: 100%|██████████| 288/288 [07:35<00:00,  1.58s/it, loss=0.122] \n",
      "Validation: 100%|██████████| 12/12 [00:08<00:00,  1.38it/s, loss=0.477]\n"
     ]
    },
    {
     "name": "stdout",
     "output_type": "stream",
     "text": [
      "Validation Dice Score\n",
      "Class 0: 0.9883, Class 1: 0.4585, Class 2: 0.1744, Class 3: 0.3627, \n",
      "Class 4: 0.6793, Class 5: 0.4250, Class 6: 0.6337, \n",
      "Validation F-beta Score\n",
      "Class 0: 0.9909, Class 1: 0.5211, Class 2: 0.2251, Class 3: 0.4018, \n",
      "Class 4: 0.6550, Class 5: 0.3991, Class 6: 0.6509, \n",
      "Overall Mean Dice Score: 0.5118\n",
      "Overall Mean F-beta Score: 0.5256\n",
      "\n",
      "Training Loss: 0.4997, Validation Loss: 0.4958, Validation F-beta: 0.5256\n",
      "Epoch 66/4000\n",
      "Current lambda: 0.4200\n"
     ]
    },
    {
     "name": "stderr",
     "output_type": "stream",
     "text": [
      "Training: 100%|██████████| 288/288 [07:36<00:00,  1.59s/it, loss=0.121] \n",
      "Validation: 100%|██████████| 12/12 [00:08<00:00,  1.37it/s, loss=0.503]\n"
     ]
    },
    {
     "name": "stdout",
     "output_type": "stream",
     "text": [
      "Validation Dice Score\n",
      "Class 0: 0.9904, Class 1: 0.5263, Class 2: 0.2443, Class 3: 0.3233, \n",
      "Class 4: 0.6038, Class 5: 0.3901, Class 6: 0.4061, \n",
      "Validation F-beta Score\n",
      "Class 0: 0.9898, Class 1: 0.5163, Class 2: 0.2910, Class 3: 0.3911, \n",
      "Class 4: 0.5819, Class 5: 0.4377, Class 6: 0.4723, \n",
      "Overall Mean Dice Score: 0.4499\n",
      "Overall Mean F-beta Score: 0.4799\n",
      "\n",
      "Training Loss: 0.5016, Validation Loss: 0.5153, Validation F-beta: 0.4799\n",
      "Epoch 67/4000\n",
      "Current lambda: 0.4200\n"
     ]
    },
    {
     "name": "stderr",
     "output_type": "stream",
     "text": [
      "Training: 100%|██████████| 288/288 [07:38<00:00,  1.59s/it, loss=0.119] \n",
      "Validation: 100%|██████████| 12/12 [00:08<00:00,  1.40it/s, loss=0.411]\n"
     ]
    },
    {
     "name": "stdout",
     "output_type": "stream",
     "text": [
      "Validation Dice Score\n",
      "Class 0: 0.9904, Class 1: 0.6808, Class 2: 0.0540, Class 3: 0.3046, \n",
      "Class 4: 0.6872, Class 5: 0.4071, Class 6: 0.7408, \n",
      "Validation F-beta Score\n",
      "Class 0: 0.9912, Class 1: 0.7048, Class 2: 0.0780, Class 3: 0.3196, \n",
      "Class 4: 0.6565, Class 5: 0.4212, Class 6: 0.7294, \n",
      "Overall Mean Dice Score: 0.5641\n",
      "Overall Mean F-beta Score: 0.5663\n",
      "\n",
      "Training Loss: 0.5010, Validation Loss: 0.4797, Validation F-beta: 0.5663\n",
      "Epoch 68/4000\n",
      "Current lambda: 0.4200\n"
     ]
    },
    {
     "name": "stderr",
     "output_type": "stream",
     "text": [
      "Training: 100%|██████████| 288/288 [07:36<00:00,  1.58s/it, loss=0.112] \n",
      "Validation: 100%|██████████| 12/12 [00:08<00:00,  1.38it/s, loss=0.452]\n"
     ]
    },
    {
     "name": "stdout",
     "output_type": "stream",
     "text": [
      "Validation Dice Score\n",
      "Class 0: 0.9914, Class 1: 0.6806, Class 2: 0.1335, Class 3: 0.4102, \n",
      "Class 4: 0.6652, Class 5: 0.4063, Class 6: 0.6222, \n",
      "Validation F-beta Score\n",
      "Class 0: 0.9923, Class 1: 0.7219, Class 2: 0.1659, Class 3: 0.4635, \n",
      "Class 4: 0.6020, Class 5: 0.4099, Class 6: 0.6263, \n",
      "Overall Mean Dice Score: 0.5569\n",
      "Overall Mean F-beta Score: 0.5647\n",
      "\n",
      "Training Loss: 0.4882, Validation Loss: 0.4937, Validation F-beta: 0.5647\n",
      "Validation loss did not improve. Reducing lambda to 0.4100\n",
      "Epoch 69/4000\n",
      "Current lambda: 0.4100\n"
     ]
    },
    {
     "name": "stderr",
     "output_type": "stream",
     "text": [
      "Training: 100%|██████████| 288/288 [07:37<00:00,  1.59s/it, loss=0.109] \n",
      "Validation: 100%|██████████| 12/12 [00:08<00:00,  1.37it/s, loss=0.458]\n"
     ]
    },
    {
     "name": "stdout",
     "output_type": "stream",
     "text": [
      "Validation Dice Score\n",
      "Class 0: 0.9899, Class 1: 0.7547, Class 2: 0.2073, Class 3: 0.4025, \n",
      "Class 4: 0.4828, Class 5: 0.4023, Class 6: 0.6880, \n",
      "Validation F-beta Score\n",
      "Class 0: 0.9894, Class 1: 0.8413, Class 2: 0.2911, Class 3: 0.3620, \n",
      "Class 4: 0.4910, Class 5: 0.4667, Class 6: 0.7253, \n",
      "Overall Mean Dice Score: 0.5461\n",
      "Overall Mean F-beta Score: 0.5773\n",
      "\n",
      "Training Loss: 0.4928, Validation Loss: 0.4746, Validation F-beta: 0.5773\n",
      "Epoch 70/4000\n",
      "Current lambda: 0.4100\n"
     ]
    },
    {
     "name": "stderr",
     "output_type": "stream",
     "text": [
      "Training: 100%|██████████| 288/288 [07:36<00:00,  1.58s/it, loss=0.113] \n",
      "Validation: 100%|██████████| 12/12 [00:09<00:00,  1.32it/s, loss=0.543]\n"
     ]
    },
    {
     "name": "stdout",
     "output_type": "stream",
     "text": [
      "Validation Dice Score\n",
      "Class 0: 0.9900, Class 1: 0.7053, Class 2: 0.0324, Class 3: 0.3046, \n",
      "Class 4: 0.5983, Class 5: 0.3193, Class 6: 0.6137, \n",
      "Validation F-beta Score\n",
      "Class 0: 0.9897, Class 1: 0.7075, Class 2: 0.0338, Class 3: 0.3349, \n",
      "Class 4: 0.6076, Class 5: 0.3223, Class 6: 0.6273, \n",
      "Overall Mean Dice Score: 0.5082\n",
      "Overall Mean F-beta Score: 0.5199\n",
      "\n",
      "Training Loss: 0.4949, Validation Loss: 0.4978, Validation F-beta: 0.5199\n",
      "Epoch 71/4000\n",
      "Current lambda: 0.4100\n"
     ]
    },
    {
     "name": "stderr",
     "output_type": "stream",
     "text": [
      "Training: 100%|██████████| 288/288 [07:36<00:00,  1.59s/it, loss=0.117] \n",
      "Validation: 100%|██████████| 12/12 [00:08<00:00,  1.39it/s, loss=0.55] \n"
     ]
    },
    {
     "name": "stdout",
     "output_type": "stream",
     "text": [
      "Validation Dice Score\n",
      "Class 0: 0.9916, Class 1: 0.4462, Class 2: 0.1350, Class 3: 0.3224, \n",
      "Class 4: 0.5497, Class 5: 0.4385, Class 6: 0.7059, \n",
      "Validation F-beta Score\n",
      "Class 0: 0.9922, Class 1: 0.5677, Class 2: 0.1313, Class 3: 0.3352, \n",
      "Class 4: 0.5460, Class 5: 0.4620, Class 6: 0.7640, \n",
      "Overall Mean Dice Score: 0.4925\n",
      "Overall Mean F-beta Score: 0.5350\n",
      "\n",
      "Training Loss: 0.4912, Validation Loss: 0.4919, Validation F-beta: 0.5350\n",
      "Epoch 72/4000\n",
      "Current lambda: 0.4100\n"
     ]
    },
    {
     "name": "stderr",
     "output_type": "stream",
     "text": [
      "Training: 100%|██████████| 288/288 [07:36<00:00,  1.58s/it, loss=0.108] \n",
      "Validation: 100%|██████████| 12/12 [00:08<00:00,  1.39it/s, loss=0.612]\n"
     ]
    },
    {
     "name": "stdout",
     "output_type": "stream",
     "text": [
      "Validation Dice Score\n",
      "Class 0: 0.9903, Class 1: 0.5380, Class 2: 0.2433, Class 3: 0.3712, \n",
      "Class 4: 0.4590, Class 5: 0.4005, Class 6: 0.6405, \n",
      "Validation F-beta Score\n",
      "Class 0: 0.9890, Class 1: 0.6002, Class 2: 0.2923, Class 3: 0.3388, \n",
      "Class 4: 0.5094, Class 5: 0.4462, Class 6: 0.6282, \n",
      "Overall Mean Dice Score: 0.4818\n",
      "Overall Mean F-beta Score: 0.5045\n",
      "\n",
      "Training Loss: 0.4936, Validation Loss: 0.5141, Validation F-beta: 0.5045\n",
      "Epoch 73/4000\n",
      "Current lambda: 0.4100\n"
     ]
    },
    {
     "name": "stderr",
     "output_type": "stream",
     "text": [
      "Training: 100%|██████████| 288/288 [07:45<00:00,  1.62s/it, loss=0.0976]\n",
      "Validation: 100%|██████████| 12/12 [00:08<00:00,  1.38it/s, loss=0.526]\n"
     ]
    },
    {
     "name": "stdout",
     "output_type": "stream",
     "text": [
      "Validation Dice Score\n",
      "Class 0: 0.9904, Class 1: 0.6918, Class 2: 0.1826, Class 3: 0.2422, \n",
      "Class 4: 0.5416, Class 5: 0.3973, Class 6: 0.6601, \n",
      "Validation F-beta Score\n",
      "Class 0: 0.9909, Class 1: 0.7127, Class 2: 0.2023, Class 3: 0.2575, \n",
      "Class 4: 0.5373, Class 5: 0.3944, Class 6: 0.6720, \n",
      "Overall Mean Dice Score: 0.5066\n",
      "Overall Mean F-beta Score: 0.5148\n",
      "\n",
      "Training Loss: 0.4863, Validation Loss: 0.5103, Validation F-beta: 0.5148\n",
      "Epoch 74/4000\n",
      "Current lambda: 0.4100\n"
     ]
    },
    {
     "name": "stderr",
     "output_type": "stream",
     "text": [
      "Training: 100%|██████████| 288/288 [08:05<00:00,  1.69s/it, loss=0.127] \n",
      "Validation: 100%|██████████| 12/12 [00:08<00:00,  1.36it/s, loss=0.522]\n"
     ]
    },
    {
     "name": "stdout",
     "output_type": "stream",
     "text": [
      "Validation Dice Score\n",
      "Class 0: 0.9906, Class 1: 0.7736, Class 2: 0.1234, Class 3: 0.3607, \n",
      "Class 4: 0.5364, Class 5: 0.4206, Class 6: 0.7848, \n",
      "Validation F-beta Score\n",
      "Class 0: 0.9908, Class 1: 0.8163, Class 2: 0.1493, Class 3: 0.3929, \n",
      "Class 4: 0.5477, Class 5: 0.4078, Class 6: 0.7555, \n",
      "Overall Mean Dice Score: 0.5752\n",
      "Overall Mean F-beta Score: 0.5840\n",
      "\n",
      "Training Loss: 0.4919, Validation Loss: 0.4638, Validation F-beta: 0.5840\n",
      "Validation loss did not improve. Reducing lambda to 0.4000\n",
      "Epoch 75/4000\n",
      "Current lambda: 0.4000\n"
     ]
    },
    {
     "name": "stderr",
     "output_type": "stream",
     "text": [
      "Training: 100%|██████████| 288/288 [08:05<00:00,  1.69s/it, loss=0.0969]\n",
      "Validation: 100%|██████████| 12/12 [00:08<00:00,  1.37it/s, loss=0.482]\n"
     ]
    },
    {
     "name": "stdout",
     "output_type": "stream",
     "text": [
      "Validation Dice Score\n",
      "Class 0: 0.9907, Class 1: 0.6055, Class 2: 0.2644, Class 3: 0.5221, \n",
      "Class 4: 0.5648, Class 5: 0.4701, Class 6: 0.7375, \n",
      "Validation F-beta Score\n",
      "Class 0: 0.9916, Class 1: 0.6450, Class 2: 0.2946, Class 3: 0.5286, \n",
      "Class 4: 0.5233, Class 5: 0.5324, Class 6: 0.7334, \n",
      "Overall Mean Dice Score: 0.5800\n",
      "Overall Mean F-beta Score: 0.5926\n",
      "\n",
      "Training Loss: 0.4922, Validation Loss: 0.4367, Validation F-beta: 0.5926\n",
      "========================================================\n",
      "Best model saved based on validation loss: 0.4367\n",
      "========================================================\n",
      "Epoch 76/4000\n",
      "Current lambda: 0.4000\n"
     ]
    },
    {
     "name": "stderr",
     "output_type": "stream",
     "text": [
      "Training: 100%|██████████| 288/288 [08:07<00:00,  1.69s/it, loss=0.133] \n",
      "Validation: 100%|██████████| 12/12 [00:08<00:00,  1.36it/s, loss=0.492]\n"
     ]
    },
    {
     "name": "stdout",
     "output_type": "stream",
     "text": [
      "Validation Dice Score\n",
      "Class 0: 0.9909, Class 1: 0.4021, Class 2: 0.1556, Class 3: 0.2540, \n",
      "Class 4: 0.6587, Class 5: 0.2660, Class 6: 0.4550, \n",
      "Validation F-beta Score\n",
      "Class 0: 0.9908, Class 1: 0.5404, Class 2: 0.1761, Class 3: 0.2916, \n",
      "Class 4: 0.6570, Class 5: 0.2570, Class 6: 0.4482, \n",
      "Overall Mean Dice Score: 0.4071\n",
      "Overall Mean F-beta Score: 0.4388\n",
      "\n",
      "Training Loss: 0.4946, Validation Loss: 0.5508, Validation F-beta: 0.4388\n",
      "Epoch 77/4000\n",
      "Current lambda: 0.4000\n"
     ]
    },
    {
     "name": "stderr",
     "output_type": "stream",
     "text": [
      "Training: 100%|██████████| 288/288 [08:05<00:00,  1.69s/it, loss=0.14]  \n",
      "Validation: 100%|██████████| 12/12 [00:08<00:00,  1.35it/s, loss=0.555]\n"
     ]
    },
    {
     "name": "stdout",
     "output_type": "stream",
     "text": [
      "Validation Dice Score\n",
      "Class 0: 0.9904, Class 1: 0.6568, Class 2: 0.0414, Class 3: 0.3420, \n",
      "Class 4: 0.6034, Class 5: 0.3893, Class 6: 0.8268, \n",
      "Validation F-beta Score\n",
      "Class 0: 0.9906, Class 1: 0.6678, Class 2: 0.0577, Class 3: 0.3425, \n",
      "Class 4: 0.5732, Class 5: 0.4300, Class 6: 0.8153, \n",
      "Overall Mean Dice Score: 0.5637\n",
      "Overall Mean F-beta Score: 0.5658\n",
      "\n",
      "Training Loss: 0.5001, Validation Loss: 0.4810, Validation F-beta: 0.5658\n",
      "Epoch 78/4000\n",
      "Current lambda: 0.4000\n"
     ]
    },
    {
     "name": "stderr",
     "output_type": "stream",
     "text": [
      "Training: 100%|██████████| 288/288 [08:03<00:00,  1.68s/it, loss=0.113] \n",
      "Validation: 100%|██████████| 12/12 [00:08<00:00,  1.38it/s, loss=0.495]\n"
     ]
    },
    {
     "name": "stdout",
     "output_type": "stream",
     "text": [
      "Validation Dice Score\n",
      "Class 0: 0.9906, Class 1: 0.6173, Class 2: 0.2399, Class 3: 0.2462, \n",
      "Class 4: 0.5381, Class 5: 0.4149, Class 6: 0.6966, \n",
      "Validation F-beta Score\n",
      "Class 0: 0.9897, Class 1: 0.6663, Class 2: 0.2100, Class 3: 0.2486, \n",
      "Class 4: 0.5608, Class 5: 0.4616, Class 6: 0.7514, \n",
      "Overall Mean Dice Score: 0.5026\n",
      "Overall Mean F-beta Score: 0.5377\n",
      "\n",
      "Training Loss: 0.4949, Validation Loss: 0.4948, Validation F-beta: 0.5377\n",
      "Epoch 79/4000\n",
      "Current lambda: 0.4000\n"
     ]
    },
    {
     "name": "stderr",
     "output_type": "stream",
     "text": [
      "Training: 100%|██████████| 288/288 [07:57<00:00,  1.66s/it, loss=0.129] \n",
      "Validation: 100%|██████████| 12/12 [00:08<00:00,  1.36it/s, loss=0.411]\n"
     ]
    },
    {
     "name": "stdout",
     "output_type": "stream",
     "text": [
      "Validation Dice Score\n",
      "Class 0: 0.9917, Class 1: 0.5833, Class 2: 0.1647, Class 3: 0.3801, \n",
      "Class 4: 0.5532, Class 5: 0.4661, Class 6: 0.5845, \n",
      "Validation F-beta Score\n",
      "Class 0: 0.9920, Class 1: 0.6967, Class 2: 0.1972, Class 3: 0.4235, \n",
      "Class 4: 0.5470, Class 5: 0.4659, Class 6: 0.5976, \n",
      "Overall Mean Dice Score: 0.5135\n",
      "Overall Mean F-beta Score: 0.5461\n",
      "\n",
      "Training Loss: 0.4903, Validation Loss: 0.4850, Validation F-beta: 0.5461\n",
      "Epoch 80/4000\n",
      "Current lambda: 0.4000\n"
     ]
    },
    {
     "name": "stderr",
     "output_type": "stream",
     "text": [
      "Training: 100%|██████████| 288/288 [08:00<00:00,  1.67s/it, loss=0.122] \n",
      "Validation: 100%|██████████| 12/12 [00:09<00:00,  1.31it/s, loss=0.619]\n"
     ]
    },
    {
     "name": "stdout",
     "output_type": "stream",
     "text": [
      "Validation Dice Score\n",
      "Class 0: 0.9903, Class 1: 0.4376, Class 2: 0.1209, Class 3: 0.3535, \n",
      "Class 4: 0.6161, Class 5: 0.3815, Class 6: 0.5298, \n",
      "Validation F-beta Score\n",
      "Class 0: 0.9900, Class 1: 0.4184, Class 2: 0.1391, Class 3: 0.4047, \n",
      "Class 4: 0.5733, Class 5: 0.4850, Class 6: 0.5288, \n",
      "Overall Mean Dice Score: 0.4637\n",
      "Overall Mean F-beta Score: 0.4820\n",
      "\n",
      "Training Loss: 0.4843, Validation Loss: 0.5018, Validation F-beta: 0.4820\n",
      "Validation loss did not improve. Reducing lambda to 0.3900\n",
      "Epoch 81/4000\n",
      "Current lambda: 0.3900\n"
     ]
    },
    {
     "name": "stderr",
     "output_type": "stream",
     "text": [
      "Training: 100%|██████████| 288/288 [07:59<00:00,  1.67s/it, loss=0.139] \n",
      "Validation: 100%|██████████| 12/12 [00:08<00:00,  1.35it/s, loss=0.489]\n"
     ]
    },
    {
     "name": "stdout",
     "output_type": "stream",
     "text": [
      "Validation Dice Score\n",
      "Class 0: 0.9924, Class 1: 0.6508, Class 2: 0.1148, Class 3: 0.5056, \n",
      "Class 4: 0.7648, Class 5: 0.4014, Class 6: 0.5501, \n",
      "Validation F-beta Score\n",
      "Class 0: 0.9932, Class 1: 0.6961, Class 2: 0.1348, Class 3: 0.5928, \n",
      "Class 4: 0.7232, Class 5: 0.3734, Class 6: 0.5501, \n",
      "Overall Mean Dice Score: 0.5745\n",
      "Overall Mean F-beta Score: 0.5871\n",
      "\n",
      "Training Loss: 0.4890, Validation Loss: 0.4605, Validation F-beta: 0.5871\n",
      "Epoch 82/4000\n",
      "Current lambda: 0.3900\n"
     ]
    },
    {
     "name": "stderr",
     "output_type": "stream",
     "text": [
      "Training: 100%|██████████| 288/288 [08:06<00:00,  1.69s/it, loss=0.109] \n",
      "Validation: 100%|██████████| 12/12 [00:08<00:00,  1.35it/s, loss=0.559]\n"
     ]
    },
    {
     "name": "stdout",
     "output_type": "stream",
     "text": [
      "Validation Dice Score\n",
      "Class 0: 0.9926, Class 1: 0.5169, Class 2: 0.2946, Class 3: 0.2512, \n",
      "Class 4: 0.4930, Class 5: 0.5230, Class 6: 0.4618, \n",
      "Validation F-beta Score\n",
      "Class 0: 0.9928, Class 1: 0.6900, Class 2: 0.3308, Class 3: 0.2663, \n",
      "Class 4: 0.4585, Class 5: 0.5743, Class 6: 0.4643, \n",
      "Overall Mean Dice Score: 0.4492\n",
      "Overall Mean F-beta Score: 0.4907\n",
      "\n",
      "Training Loss: 0.4846, Validation Loss: 0.5016, Validation F-beta: 0.4907\n",
      "Epoch 83/4000\n",
      "Current lambda: 0.3900\n"
     ]
    },
    {
     "name": "stderr",
     "output_type": "stream",
     "text": [
      "Training: 100%|██████████| 288/288 [08:03<00:00,  1.68s/it, loss=0.142] \n",
      "Validation: 100%|██████████| 12/12 [00:08<00:00,  1.35it/s, loss=0.587]\n"
     ]
    },
    {
     "name": "stdout",
     "output_type": "stream",
     "text": [
      "Validation Dice Score\n",
      "Class 0: 0.9921, Class 1: 0.6625, Class 2: 0.2360, Class 3: 0.4899, \n",
      "Class 4: 0.5713, Class 5: 0.3607, Class 6: 0.5922, \n",
      "Validation F-beta Score\n",
      "Class 0: 0.9918, Class 1: 0.6815, Class 2: 0.2901, Class 3: 0.5055, \n",
      "Class 4: 0.5625, Class 5: 0.3743, Class 6: 0.6014, \n",
      "Overall Mean Dice Score: 0.5353\n",
      "Overall Mean F-beta Score: 0.5450\n",
      "\n",
      "Training Loss: 0.4766, Validation Loss: 0.4827, Validation F-beta: 0.5450\n",
      "Epoch 84/4000\n",
      "Current lambda: 0.3900\n"
     ]
    },
    {
     "name": "stderr",
     "output_type": "stream",
     "text": [
      "Training: 100%|██████████| 288/288 [08:05<00:00,  1.68s/it, loss=0.122] \n",
      "Validation: 100%|██████████| 12/12 [00:09<00:00,  1.32it/s, loss=0.409]\n"
     ]
    },
    {
     "name": "stdout",
     "output_type": "stream",
     "text": [
      "Validation Dice Score\n",
      "Class 0: 0.9904, Class 1: 0.6807, Class 2: 0.1682, Class 3: 0.3753, \n",
      "Class 4: 0.6738, Class 5: 0.3522, Class 6: 0.5121, \n",
      "Validation F-beta Score\n",
      "Class 0: 0.9917, Class 1: 0.6830, Class 2: 0.1578, Class 3: 0.3725, \n",
      "Class 4: 0.5980, Class 5: 0.3712, Class 6: 0.5035, \n",
      "Overall Mean Dice Score: 0.5188\n",
      "Overall Mean F-beta Score: 0.5056\n",
      "\n",
      "Training Loss: 0.4918, Validation Loss: 0.4840, Validation F-beta: 0.5056\n",
      "Epoch 85/4000\n",
      "Current lambda: 0.3900\n"
     ]
    },
    {
     "name": "stderr",
     "output_type": "stream",
     "text": [
      "Training: 100%|██████████| 288/288 [08:04<00:00,  1.68s/it, loss=0.122] \n",
      "Validation: 100%|██████████| 12/12 [00:08<00:00,  1.35it/s, loss=0.568]\n"
     ]
    },
    {
     "name": "stdout",
     "output_type": "stream",
     "text": [
      "Validation Dice Score\n",
      "Class 0: 0.9932, Class 1: 0.6460, Class 2: 0.1415, Class 3: 0.3583, \n",
      "Class 4: 0.4326, Class 5: 0.5033, Class 6: 0.6354, \n",
      "Validation F-beta Score\n",
      "Class 0: 0.9935, Class 1: 0.7067, Class 2: 0.1564, Class 3: 0.3686, \n",
      "Class 4: 0.4111, Class 5: 0.5058, Class 6: 0.6748, \n",
      "Overall Mean Dice Score: 0.5151\n",
      "Overall Mean F-beta Score: 0.5334\n",
      "\n",
      "Training Loss: 0.4865, Validation Loss: 0.4958, Validation F-beta: 0.5334\n",
      "Epoch 86/4000\n",
      "Current lambda: 0.3900\n"
     ]
    },
    {
     "name": "stderr",
     "output_type": "stream",
     "text": [
      "Training: 100%|██████████| 288/288 [07:59<00:00,  1.67s/it, loss=0.122] \n",
      "Validation: 100%|██████████| 12/12 [00:08<00:00,  1.37it/s, loss=0.394]\n"
     ]
    },
    {
     "name": "stdout",
     "output_type": "stream",
     "text": [
      "Validation Dice Score\n",
      "Class 0: 0.9902, Class 1: 0.7254, Class 2: 0.0429, Class 3: 0.2528, \n",
      "Class 4: 0.5549, Class 5: 0.5032, Class 6: 0.6219, \n",
      "Validation F-beta Score\n",
      "Class 0: 0.9921, Class 1: 0.8478, Class 2: 0.0585, Class 3: 0.2522, \n",
      "Class 4: 0.4997, Class 5: 0.4896, Class 6: 0.6640, \n",
      "Overall Mean Dice Score: 0.5316\n",
      "Overall Mean F-beta Score: 0.5507\n",
      "\n",
      "Training Loss: 0.4859, Validation Loss: 0.4843, Validation F-beta: 0.5507\n",
      "Validation loss did not improve. Reducing lambda to 0.3800\n",
      "Epoch 87/4000\n",
      "Current lambda: 0.3800\n"
     ]
    },
    {
     "name": "stderr",
     "output_type": "stream",
     "text": [
      "Training: 100%|██████████| 288/288 [08:02<00:00,  1.68s/it, loss=0.104] \n",
      "Validation: 100%|██████████| 12/12 [00:09<00:00,  1.31it/s, loss=0.531]\n"
     ]
    },
    {
     "name": "stdout",
     "output_type": "stream",
     "text": [
      "Validation Dice Score\n",
      "Class 0: 0.9913, Class 1: 0.5998, Class 2: 0.1689, Class 3: 0.4812, \n",
      "Class 4: 0.5007, Class 5: 0.4226, Class 6: 0.6676, \n",
      "Validation F-beta Score\n",
      "Class 0: 0.9913, Class 1: 0.6546, Class 2: 0.1942, Class 3: 0.4894, \n",
      "Class 4: 0.4980, Class 5: 0.4452, Class 6: 0.6905, \n",
      "Overall Mean Dice Score: 0.5344\n",
      "Overall Mean F-beta Score: 0.5555\n",
      "\n",
      "Training Loss: 0.4857, Validation Loss: 0.4792, Validation F-beta: 0.5555\n",
      "Epoch 88/4000\n",
      "Current lambda: 0.3800\n"
     ]
    },
    {
     "name": "stderr",
     "output_type": "stream",
     "text": [
      "Training:   6%|▋         | 18/288 [00:31<07:45,  1.73s/it, loss=0.107] "
     ]
    }
   ],
   "source": [
    "train_model(\n",
    "    model=model,\n",
    "    train_loader=train_loader,\n",
    "    val_loader=val_loader,\n",
    "    criterion=criterion,\n",
    "    optimizer=optimizer,\n",
    "    num_epochs=num_epochs,\n",
    "    patience=10,\n",
    "    device=device,\n",
    "    start_epoch=start_epoch,\n",
    "    best_val_loss=best_val_loss,\n",
    "    best_val_fbeta_score=best_val_fbeta_score,\n",
    "    calculate_dice_interval=1,\n",
    "    accumulation_steps = accumulation_steps\n",
    ")"
   ]
  },
  {
   "cell_type": "code",
   "execution_count": null,
   "metadata": {},
   "outputs": [
    {
     "ename": "SyntaxError",
     "evalue": "invalid syntax (879943805.py, line 1)",
     "output_type": "error",
     "traceback": [
      "\u001b[1;36m  Cell \u001b[1;32mIn[13], line 1\u001b[1;36m\u001b[0m\n\u001b[1;33m    if:\u001b[0m\n\u001b[1;37m      ^\u001b[0m\n\u001b[1;31mSyntaxError\u001b[0m\u001b[1;31m:\u001b[0m invalid syntax\n"
     ]
    }
   ],
   "source": [
    "if:"
   ]
  },
  {
   "cell_type": "markdown",
   "metadata": {},
   "source": [
    "# VAl"
   ]
  },
  {
   "cell_type": "code",
   "execution_count": null,
   "metadata": {},
   "outputs": [
    {
     "data": {
      "text/html": [
       "Finishing last run (ID:fs6utwyo) before initializing another..."
      ],
      "text/plain": [
       "<IPython.core.display.HTML object>"
      ]
     },
     "metadata": {},
     "output_type": "display_data"
    },
    {
     "data": {
      "application/vnd.jupyter.widget-view+json": {
       "model_id": "29cc3ae761af43baae5aca60b5d2e7f4",
       "version_major": 2,
       "version_minor": 0
      },
      "text/plain": [
       "VBox(children=(Label(value='0.009 MB of 0.009 MB uploaded\\r'), FloatProgress(value=1.0, max=1.0)))"
      ]
     },
     "metadata": {},
     "output_type": "display_data"
    },
    {
     "data": {
      "text/html": [
       "<style>\n",
       "    table.wandb td:nth-child(1) { padding: 0 10px; text-align: left ; width: auto;} td:nth-child(2) {text-align: left ; width: 100%}\n",
       "    .wandb-row { display: flex; flex-direction: row; flex-wrap: wrap; justify-content: flex-start; width: 100% }\n",
       "    .wandb-col { display: flex; flex-direction: column; flex-basis: 100%; flex: 1; padding: 10px; }\n",
       "    </style>\n",
       "<div class=\"wandb-row\"><div class=\"wandb-col\"><h3>Run history:</h3><br/><table class=\"wandb\"><tr><td>class_0_dice_score</td><td>▁</td></tr><tr><td>class_0_f_beta_score</td><td>▁</td></tr><tr><td>class_1_dice_score</td><td>▁</td></tr><tr><td>class_1_f_beta_score</td><td>▁</td></tr><tr><td>class_2_dice_score</td><td>▁</td></tr><tr><td>class_2_f_beta_score</td><td>▁</td></tr><tr><td>class_3_dice_score</td><td>▁</td></tr><tr><td>class_3_f_beta_score</td><td>▁</td></tr><tr><td>class_4_dice_score</td><td>▁</td></tr><tr><td>class_4_f_beta_score</td><td>▁</td></tr><tr><td>class_5_dice_score</td><td>▁</td></tr><tr><td>class_5_f_beta_score</td><td>▁</td></tr><tr><td>class_6_dice_score</td><td>▁</td></tr><tr><td>class_6_f_beta_score</td><td>▁</td></tr><tr><td>epoch</td><td>▁▁▁▁▁▁▁▁▁▁▁▁▁▁▁▁</td></tr><tr><td>overall_mean_dice_score</td><td>▁</td></tr><tr><td>overall_mean_f_beta_score</td><td>▁</td></tr><tr><td>val_epoch_loss</td><td>▁</td></tr></table><br/></div><div class=\"wandb-col\"><h3>Run summary:</h3><br/><table class=\"wandb\"><tr><td>class_0_dice_score</td><td>0.65703</td></tr><tr><td>class_0_f_beta_score</td><td>0.50748</td></tr><tr><td>class_1_dice_score</td><td>0.53332</td></tr><tr><td>class_1_f_beta_score</td><td>0.64703</td></tr><tr><td>class_2_dice_score</td><td>0.00286</td></tr><tr><td>class_2_f_beta_score</td><td>0.02334</td></tr><tr><td>class_3_dice_score</td><td>0.23703</td></tr><tr><td>class_3_f_beta_score</td><td>0.23033</td></tr><tr><td>class_4_dice_score</td><td>0.65487</td></tr><tr><td>class_4_f_beta_score</td><td>0.62525</td></tr><tr><td>class_5_dice_score</td><td>0.47899</td></tr><tr><td>class_5_f_beta_score</td><td>0.51448</td></tr><tr><td>class_6_dice_score</td><td>0.42545</td></tr><tr><td>class_6_f_beta_score</td><td>0.47197</td></tr><tr><td>epoch</td><td>1</td></tr><tr><td>overall_mean_dice_score</td><td>0.42708</td></tr><tr><td>overall_mean_f_beta_score</td><td>0.43141</td></tr><tr><td>val_epoch_loss</td><td>0.7152</td></tr></table><br/></div></div>"
      ],
      "text/plain": [
       "<IPython.core.display.HTML object>"
      ]
     },
     "metadata": {},
     "output_type": "display_data"
    },
    {
     "data": {
      "text/html": [
       " View run <strong style=\"color:#cdcd00\">SwinUNETR96_96_lr0.001_lambda0.52_batch2</strong> at: <a href='https://wandb.ai/waooang/czii_SwinUnetR_val/runs/fs6utwyo' target=\"_blank\">https://wandb.ai/waooang/czii_SwinUnetR_val/runs/fs6utwyo</a><br/> View project at: <a href='https://wandb.ai/waooang/czii_SwinUnetR_val' target=\"_blank\">https://wandb.ai/waooang/czii_SwinUnetR_val</a><br/>Synced 4 W&B file(s), 0 media file(s), 3 artifact file(s) and 0 other file(s)"
      ],
      "text/plain": [
       "<IPython.core.display.HTML object>"
      ]
     },
     "metadata": {},
     "output_type": "display_data"
    },
    {
     "data": {
      "text/html": [
       "Find logs at: <code>.\\wandb\\run-20241219_200219-fs6utwyo\\logs</code>"
      ],
      "text/plain": [
       "<IPython.core.display.HTML object>"
      ]
     },
     "metadata": {},
     "output_type": "display_data"
    },
    {
     "data": {
      "text/html": [
       "Successfully finished last run (ID:fs6utwyo). Initializing new run:<br/>"
      ],
      "text/plain": [
       "<IPython.core.display.HTML object>"
      ]
     },
     "metadata": {},
     "output_type": "display_data"
    },
    {
     "data": {
      "text/html": [
       "Tracking run with wandb version 0.18.3"
      ],
      "text/plain": [
       "<IPython.core.display.HTML object>"
      ]
     },
     "metadata": {},
     "output_type": "display_data"
    },
    {
     "data": {
      "text/html": [
       "Run data is saved locally in <code>e:\\Workspace\\czll\\wandb\\run-20241219_200454-121l7bn3</code>"
      ],
      "text/plain": [
       "<IPython.core.display.HTML object>"
      ]
     },
     "metadata": {},
     "output_type": "display_data"
    },
    {
     "data": {
      "text/html": [
       "Syncing run <strong><a href='https://wandb.ai/waooang/czii_SwinUnetR_val/runs/121l7bn3' target=\"_blank\">SwinUNETR96_96_lr0.001_lambda0.52_batch2</a></strong> to <a href='https://wandb.ai/waooang/czii_SwinUnetR_val' target=\"_blank\">Weights & Biases</a> (<a href='https://wandb.me/run' target=\"_blank\">docs</a>)<br/>"
      ],
      "text/plain": [
       "<IPython.core.display.HTML object>"
      ]
     },
     "metadata": {},
     "output_type": "display_data"
    },
    {
     "data": {
      "text/html": [
       " View project at <a href='https://wandb.ai/waooang/czii_SwinUnetR_val' target=\"_blank\">https://wandb.ai/waooang/czii_SwinUnetR_val</a>"
      ],
      "text/plain": [
       "<IPython.core.display.HTML object>"
      ]
     },
     "metadata": {},
     "output_type": "display_data"
    },
    {
     "data": {
      "text/html": [
       " View run at <a href='https://wandb.ai/waooang/czii_SwinUnetR_val/runs/121l7bn3' target=\"_blank\">https://wandb.ai/waooang/czii_SwinUnetR_val/runs/121l7bn3</a>"
      ],
      "text/plain": [
       "<IPython.core.display.HTML object>"
      ]
     },
     "metadata": {},
     "output_type": "display_data"
    },
    {
     "name": "stderr",
     "output_type": "stream",
     "text": [
      "Loading dataset: 100%|██████████| 4/4 [00:06<00:00,  1.58s/it]\n",
      "C:\\Users\\Seungwoo\\AppData\\Local\\Temp\\ipykernel_21000\\1177025787.py:95: FutureWarning: You are using `torch.load` with `weights_only=False` (the current default value), which uses the default pickle module implicitly. It is possible to construct malicious pickle data which will execute arbitrary code during unpickling (See https://github.com/pytorch/pytorch/blob/main/SECURITY.md#untrusted-models for more details). In a future release, the default value for `weights_only` will be flipped to `True`. This limits the functions that could be executed during unpickling. Arbitrary objects will no longer be allowed to be loaded via this mode unless they are explicitly allowlisted by the user via `torch.serialization.add_safe_globals`. We recommend you start setting `weights_only=True` for any use case where you don't have full control of the loaded file. Please open an issue on GitHub for any issues related to this experimental feature.\n",
      "  checkpoint = torch.load(pretrain_path, map_location=device)\n",
      "Validation: 100%|██████████| 4/4 [00:01<00:00,  2.38it/s, loss=0.865]"
     ]
    },
    {
     "name": "stdout",
     "output_type": "stream",
     "text": [
      "Validation Dice Score\n",
      "Class 0: 0.6570, Class 1: 0.5333, Class 2: 0.0029, Class 3: 0.2370, \n",
      "Class 4: 0.6549, Class 5: 0.4790, Class 6: 0.4255, \n",
      "Validation F-beta Score\n",
      "Class 0: 0.5075, Class 1: 0.6470, Class 2: 0.0233, Class 3: 0.2303, \n",
      "Class 4: 0.6252, Class 5: 0.5145, Class 6: 0.4720, \n",
      "Overall Mean Dice Score: 0.4659\n",
      "Overall Mean F-beta Score: 0.4978\n",
      "\n"
     ]
    },
    {
     "name": "stderr",
     "output_type": "stream",
     "text": [
      "\n"
     ]
    }
   ],
   "source": [
    "from monai.data import DataLoader, Dataset, CacheDataset\n",
    "from monai.transforms import (\n",
    "    Compose, LoadImaged, EnsureChannelFirstd, NormalizeIntensityd,\n",
    "    Orientationd, CropForegroundd, GaussianSmoothd, ScaleIntensityd,\n",
    "    RandSpatialCropd, RandRotate90d, RandFlipd, RandGaussianNoised,\n",
    "    ToTensord, RandCropByLabelClassesd\n",
    ")\n",
    "from monai.metrics import DiceMetric\n",
    "from monai.networks.nets import UNETR, SwinUNETR\n",
    "from monai.losses import TverskyLoss\n",
    "import torch\n",
    "import numpy as np\n",
    "from tqdm import tqdm\n",
    "import wandb\n",
    "from src.dataset.dataset import make_val_dataloader\n",
    "\n",
    "val_img_dir = \"./datasets/val/images\"\n",
    "val_label_dir = \"./datasets/val/labels\"\n",
    "img_depth = 96\n",
    "img_size = 96  # Match your patch size\n",
    "n_classes = 7\n",
    "batch_size = 2 # 13.8GB GPU memory required for 128x128 img size\n",
    "num_samples = batch_size # 한 이미지에서 뽑을 샘플 수\n",
    "loader_batch = 1\n",
    "lamda = 0.52\n",
    "\n",
    "wandb.init(\n",
    "    project='czii_SwinUnetR_val',  # 프로젝트 이름 설정\n",
    "    name='SwinUNETR96_96_lr0.001_lambda0.52_batch2',         # 실행(run) 이름 설정\n",
    "    config={\n",
    "        'learning_rate': 0.001,\n",
    "        'batch_size': batch_size,\n",
    "        'lambda': lamda,\n",
    "        'img_size': img_size,\n",
    "        'device': 'cuda',\n",
    "        \"checkpoint_dir\": \"./model_checkpoints/SwinUNETR96_96_lr0.001_lambda0.52_batch2\",\n",
    "        \n",
    "    }\n",
    ")\n",
    "\n",
    "non_random_transforms = Compose([\n",
    "    EnsureChannelFirstd(keys=[\"image\", \"label\"], channel_dim=\"no_channel\"),\n",
    "    NormalizeIntensityd(keys=\"image\"),\n",
    "    Orientationd(keys=[\"image\", \"label\"], axcodes=\"RAS\"),\n",
    "    GaussianSmoothd(\n",
    "        keys=[\"image\"],      # 변환을 적용할 키\n",
    "        sigma=[1.0, 1.0, 1.0]  # 각 축(x, y, z)의 시그마 값\n",
    "        ),\n",
    "])\n",
    "random_transforms = Compose([\n",
    "    RandCropByLabelClassesd(\n",
    "        keys=[\"image\", \"label\"],\n",
    "        label_key=\"label\",\n",
    "        spatial_size=[img_depth, img_size, img_size],\n",
    "        num_classes=n_classes,\n",
    "        num_samples=num_samples, \n",
    "        ratios=ratios_list,\n",
    "    ),\n",
    "    RandRotate90d(keys=[\"image\", \"label\"], prob=0.5, spatial_axes=[1, 2]),\n",
    "    RandFlipd(keys=[\"image\", \"label\"], prob=0.5, spatial_axis=0),\n",
    "])\n",
    "\n",
    "val_loader = make_val_dataloader(\n",
    "    val_img_dir, \n",
    "    val_label_dir, \n",
    "    non_random_transforms = non_random_transforms, \n",
    "    random_transforms = random_transforms, \n",
    "    batch_size = loader_batch,\n",
    "    num_workers=0\n",
    ")\n",
    "criterion = TverskyLoss(\n",
    "    alpha= 1 - lamda,  # FP에 대한 가중치\n",
    "    beta=lamda,       # FN에 대한 가중치\n",
    "    include_background=False,  # 배경 클래스 제외\n",
    "    softmax=True\n",
    ")\n",
    "    \n",
    "    \n",
    "from monai.metrics import DiceMetric\n",
    "\n",
    "img_size = 96\n",
    "img_depth = img_size\n",
    "n_classes = 7 \n",
    "\n",
    "device = torch.device(\"cuda\" if torch.cuda.is_available() else \"cpu\")\n",
    "pretrain_path = \"./model_checkpoints/SwinUNETR96_96_lr0.001_lambda0.52_batch2/best_model.pt\"\n",
    "model = SwinUNETR(\n",
    "    img_size=(img_depth, img_size, img_size),\n",
    "    in_channels=1,\n",
    "    out_channels=n_classes,\n",
    "    feature_size=48,\n",
    "    use_checkpoint=True,\n",
    ").to(device)\n",
    "# Pretrained weights 불러오기\n",
    "checkpoint = torch.load(pretrain_path, map_location=device)\n",
    "model.load_state_dict(checkpoint['model_state_dict'])\n",
    "\n",
    "val_loss, overall_mean_fbeta_score = validate_one_epoch(\n",
    "    model=model, \n",
    "    val_loader=val_loader, \n",
    "    criterion=criterion, \n",
    "    device=device, \n",
    "    epoch=0, \n",
    "    calculate_dice_interval=1\n",
    ")"
   ]
  },
  {
   "cell_type": "markdown",
   "metadata": {},
   "source": [
    "# Inference"
   ]
  },
  {
   "cell_type": "code",
   "execution_count": null,
   "metadata": {},
   "outputs": [],
   "source": [
    "from src.dataset.preprocessing import Preprocessor"
   ]
  },
  {
   "cell_type": "code",
   "execution_count": null,
   "metadata": {},
   "outputs": [
    {
     "name": "stdout",
     "output_type": "stream",
     "text": [
      "Done.\n"
     ]
    }
   ],
   "source": [
    "from monai.inferers import sliding_window_inference\n",
    "from monai.transforms import Compose, EnsureChannelFirstd, NormalizeIntensityd, Orientationd, GaussianSmoothd\n",
    "from monai.data import DataLoader, Dataset, CacheDataset\n",
    "from monai.networks.nets import SwinUNETR\n",
    "from pathlib import Path\n",
    "import numpy as np\n",
    "import copick\n",
    "\n",
    "import torch\n",
    "print(\"Done.\")"
   ]
  },
  {
   "cell_type": "code",
   "execution_count": null,
   "metadata": {},
   "outputs": [
    {
     "name": "stdout",
     "output_type": "stream",
     "text": [
      "Config file written to ./kaggle/working/copick.config\n",
      "file length: 7\n"
     ]
    }
   ],
   "source": [
    "config_blob = \"\"\"{\n",
    "    \"name\": \"czii_cryoet_mlchallenge_2024\",\n",
    "    \"description\": \"2024 CZII CryoET ML Challenge training data.\",\n",
    "    \"version\": \"1.0.0\",\n",
    "\n",
    "    \"pickable_objects\": [\n",
    "        {\n",
    "            \"name\": \"apo-ferritin\",\n",
    "            \"is_particle\": true,\n",
    "            \"pdb_id\": \"4V1W\",\n",
    "            \"label\": 1,\n",
    "            \"color\": [  0, 117, 220, 128],\n",
    "            \"radius\": 60,\n",
    "            \"map_threshold\": 0.0418\n",
    "        },\n",
    "        {\n",
    "          \"name\" : \"beta-amylase\",\n",
    "            \"is_particle\": true,\n",
    "            \"pdb_id\": \"8ZRZ\",\n",
    "            \"label\": 2,\n",
    "            \"color\": [255, 255, 255, 128],\n",
    "            \"radius\": 90,\n",
    "            \"map_threshold\": 0.0578  \n",
    "        },\n",
    "        {\n",
    "            \"name\": \"beta-galactosidase\",\n",
    "            \"is_particle\": true,\n",
    "            \"pdb_id\": \"6X1Q\",\n",
    "            \"label\": 3,\n",
    "            \"color\": [ 76,   0,  92, 128],\n",
    "            \"radius\": 90,\n",
    "            \"map_threshold\": 0.0578\n",
    "        },\n",
    "        {\n",
    "            \"name\": \"ribosome\",\n",
    "            \"is_particle\": true,\n",
    "            \"pdb_id\": \"6EK0\",\n",
    "            \"label\": 4,\n",
    "            \"color\": [  0,  92,  49, 128],\n",
    "            \"radius\": 150,\n",
    "            \"map_threshold\": 0.0374\n",
    "        },\n",
    "        {\n",
    "            \"name\": \"thyroglobulin\",\n",
    "            \"is_particle\": true,\n",
    "            \"pdb_id\": \"6SCJ\",\n",
    "            \"label\": 5,\n",
    "            \"color\": [ 43, 206,  72, 128],\n",
    "            \"radius\": 130,\n",
    "            \"map_threshold\": 0.0278\n",
    "        },\n",
    "        {\n",
    "            \"name\": \"virus-like-particle\",\n",
    "            \"is_particle\": true,\n",
    "            \"label\": 6,\n",
    "            \"color\": [255, 204, 153, 128],\n",
    "            \"radius\": 135,\n",
    "            \"map_threshold\": 0.201\n",
    "        },\n",
    "        {\n",
    "            \"name\": \"membrane\",\n",
    "            \"is_particle\": false,\n",
    "            \"label\": 8,\n",
    "            \"color\": [100, 100, 100, 128]\n",
    "        },\n",
    "        {\n",
    "            \"name\": \"background\",\n",
    "            \"is_particle\": false,\n",
    "            \"label\": 9,\n",
    "            \"color\": [10, 150, 200, 128]\n",
    "        }\n",
    "    ],\n",
    "\n",
    "    \"overlay_root\": \"./kaggle/working/overlay\",\n",
    "\n",
    "    \"overlay_fs_args\": {\n",
    "        \"auto_mkdir\": true\n",
    "    },\n",
    "\n",
    "    \"static_root\": \"./kaggle/input/czii-cryo-et-object-identification/test/static\"\n",
    "}\"\"\"\n",
    "\n",
    "copick_config_path = \"./kaggle/working/copick.config\"\n",
    "preprocessor = Preprocessor(config_blob,copick_config_path=copick_config_path)\n",
    "non_random_transforms = Compose([\n",
    "    EnsureChannelFirstd(keys=[\"image\"], channel_dim=\"no_channel\"),\n",
    "    NormalizeIntensityd(keys=\"image\"),\n",
    "    Orientationd(keys=[\"image\"], axcodes=\"RAS\"),\n",
    "    GaussianSmoothd(\n",
    "        keys=[\"image\"],      # 변환을 적용할 키\n",
    "        sigma=[1.0, 1.0, 1.0]  # 각 축(x, y, z)의 시그마 값\n",
    "        ),\n",
    "    ])"
   ]
  },
  {
   "cell_type": "code",
   "execution_count": null,
   "metadata": {},
   "outputs": [
    {
     "name": "stderr",
     "output_type": "stream",
     "text": [
      "c:\\ProgramData\\anaconda3\\envs\\ship\\Lib\\site-packages\\monai\\utils\\deprecate_utils.py:221: FutureWarning: monai.networks.nets.swin_unetr SwinUNETR.__init__:img_size: Argument `img_size` has been deprecated since version 1.3. It will be removed in version 1.5. The img_size argument is not required anymore and checks on the input size are run during forward().\n",
      "  warn_deprecated(argname, msg, warning_category)\n",
      "C:\\Users\\Seungwoo\\AppData\\Local\\Temp\\ipykernel_6248\\2937359115.py:15: FutureWarning: You are using `torch.load` with `weights_only=False` (the current default value), which uses the default pickle module implicitly. It is possible to construct malicious pickle data which will execute arbitrary code during unpickling (See https://github.com/pytorch/pytorch/blob/main/SECURITY.md#untrusted-models for more details). In a future release, the default value for `weights_only` will be flipped to `True`. This limits the functions that could be executed during unpickling. Arbitrary objects will no longer be allowed to be loaded via this mode unless they are explicitly allowlisted by the user via `torch.serialization.add_safe_globals`. We recommend you start setting `weights_only=True` for any use case where you don't have full control of the loaded file. Please open an issue on GitHub for any issues related to this experimental feature.\n",
      "  checkpoint = torch.load(pretrain_path, map_location=device)\n"
     ]
    },
    {
     "data": {
      "text/plain": [
       "<All keys matched successfully>"
      ]
     },
     "execution_count": 15,
     "metadata": {},
     "output_type": "execute_result"
    }
   ],
   "source": [
    "img_size = 96\n",
    "img_depth = img_size\n",
    "n_classes = 7 \n",
    "\n",
    "device = torch.device(\"cuda\" if torch.cuda.is_available() else \"cpu\")\n",
    "pretrain_path = \"./model_checkpoints/SwinUNETR96_96_lr0.001_lambda0.52_batch2/best_model.pt\"\n",
    "model = SwinUNETR(\n",
    "    img_size=(img_depth, img_size, img_size),\n",
    "    in_channels=1,\n",
    "    out_channels=n_classes,\n",
    "    feature_size=48,\n",
    "    use_checkpoint=True,\n",
    ").to(device)\n",
    "# Pretrained weights 불러오기\n",
    "checkpoint = torch.load(pretrain_path, map_location=device)\n",
    "model.load_state_dict(checkpoint['model_state_dict'])\n"
   ]
  },
  {
   "cell_type": "code",
   "execution_count": null,
   "metadata": {},
   "outputs": [
    {
     "name": "stderr",
     "output_type": "stream",
     "text": [
      "Validation:   0%|          | 0/4 [00:03<?, ?it/s, loss=0.764]\n"
     ]
    },
    {
     "ename": "ZeroDivisionError",
     "evalue": "integer modulo by zero",
     "output_type": "error",
     "traceback": [
      "\u001b[1;31m---------------------------------------------------------------------------\u001b[0m",
      "\u001b[1;31mZeroDivisionError\u001b[0m                         Traceback (most recent call last)",
      "Cell \u001b[1;32mIn[16], line 1\u001b[0m\n\u001b[1;32m----> 1\u001b[0m val_loss \u001b[38;5;241m=\u001b[39m \u001b[43mvalidate_one_epoch\u001b[49m\u001b[43m(\u001b[49m\n\u001b[0;32m      2\u001b[0m \u001b[43m            \u001b[49m\u001b[43mmodel\u001b[49m\u001b[38;5;241;43m=\u001b[39;49m\u001b[43mmodel\u001b[49m\u001b[43m,\u001b[49m\u001b[43m \u001b[49m\n\u001b[0;32m      3\u001b[0m \u001b[43m            \u001b[49m\u001b[43mval_loader\u001b[49m\u001b[38;5;241;43m=\u001b[39;49m\u001b[43mval_loader\u001b[49m\u001b[43m,\u001b[49m\u001b[43m \u001b[49m\n\u001b[0;32m      4\u001b[0m \u001b[43m            \u001b[49m\u001b[43mcriterion\u001b[49m\u001b[38;5;241;43m=\u001b[39;49m\u001b[43mcriterion\u001b[49m\u001b[43m,\u001b[49m\u001b[43m \u001b[49m\n\u001b[0;32m      5\u001b[0m \u001b[43m            \u001b[49m\u001b[43mdevice\u001b[49m\u001b[38;5;241;43m=\u001b[39;49m\u001b[43mdevice\u001b[49m\u001b[43m,\u001b[49m\u001b[43m \u001b[49m\n\u001b[0;32m      6\u001b[0m \u001b[43m            \u001b[49m\u001b[43mepoch\u001b[49m\u001b[38;5;241;43m=\u001b[39;49m\u001b[38;5;241;43m1\u001b[39;49m\u001b[43m,\u001b[49m\u001b[43m \u001b[49m\n\u001b[0;32m      7\u001b[0m \u001b[43m            \u001b[49m\u001b[43mcalculate_dice_interval\u001b[49m\u001b[38;5;241;43m=\u001b[39;49m\u001b[38;5;241;43m0\u001b[39;49m\n\u001b[0;32m      8\u001b[0m \u001b[43m        \u001b[49m\u001b[43m)\u001b[49m\n",
      "Cell \u001b[1;32mIn[11], line 64\u001b[0m, in \u001b[0;36mvalidate_one_epoch\u001b[1;34m(model, val_loader, criterion, device, epoch, calculate_dice_interval)\u001b[0m\n\u001b[0;32m     61\u001b[0m pbar\u001b[38;5;241m.\u001b[39mset_postfix(loss\u001b[38;5;241m=\u001b[39mloss\u001b[38;5;241m.\u001b[39mitem())\n\u001b[0;32m     63\u001b[0m \u001b[38;5;66;03m# 각 클래스별 Dice 점수 계산\u001b[39;00m\n\u001b[1;32m---> 64\u001b[0m \u001b[38;5;28;01mif\u001b[39;00m \u001b[43mepoch\u001b[49m\u001b[43m \u001b[49m\u001b[38;5;241;43m%\u001b[39;49m\u001b[43m \u001b[49m\u001b[43mcalculate_dice_interval\u001b[49m \u001b[38;5;241m==\u001b[39m \u001b[38;5;241m0\u001b[39m:\n\u001b[0;32m     65\u001b[0m     \u001b[38;5;28;01mfor\u001b[39;00m i \u001b[38;5;129;01min\u001b[39;00m \u001b[38;5;28mrange\u001b[39m(n_classes):\n\u001b[0;32m     66\u001b[0m         pred_i \u001b[38;5;241m=\u001b[39m (preds \u001b[38;5;241m==\u001b[39m i)\n",
      "\u001b[1;31mZeroDivisionError\u001b[0m: integer modulo by zero"
     ]
    }
   ],
   "source": [
    "val_loss = validate_one_epoch(\n",
    "            model=model, \n",
    "            val_loader=val_loader, \n",
    "            criterion=criterion, \n",
    "            device=device, \n",
    "            epoch=1, \n",
    "            calculate_dice_interval=0\n",
    "        )"
   ]
  },
  {
   "cell_type": "code",
   "execution_count": null,
   "metadata": {},
   "outputs": [
    {
     "name": "stdout",
     "output_type": "stream",
     "text": [
      "Processing volume 1/7\n"
     ]
    },
    {
     "name": "stderr",
     "output_type": "stream",
     "text": [
      "Loading dataset: 100%|██████████| 1/1 [00:01<00:00,  1.94s/it]\n"
     ]
    },
    {
     "name": "stdout",
     "output_type": "stream",
     "text": [
      "Processing volume 2/7\n"
     ]
    },
    {
     "name": "stderr",
     "output_type": "stream",
     "text": [
      "Loading dataset: 100%|██████████| 1/1 [00:01<00:00,  1.89s/it]\n"
     ]
    },
    {
     "name": "stdout",
     "output_type": "stream",
     "text": [
      "Processing volume 3/7\n"
     ]
    },
    {
     "name": "stderr",
     "output_type": "stream",
     "text": [
      "Loading dataset: 100%|██████████| 1/1 [00:01<00:00,  1.79s/it]\n"
     ]
    },
    {
     "name": "stdout",
     "output_type": "stream",
     "text": [
      "Submission saved to: submission.csv\n"
     ]
    }
   ],
   "source": [
    "import torch\n",
    "import numpy as np\n",
    "from scipy.ndimage import label, center_of_mass\n",
    "import pandas as pd\n",
    "from tqdm import tqdm\n",
    "from monai.data import CacheDataset, DataLoader\n",
    "from monai.transforms import Compose, NormalizeIntensity\n",
    "import cc3d\n",
    "\n",
    "def dict_to_df(coord_dict, experiment_name):\n",
    "    all_coords = []\n",
    "    all_labels = []\n",
    "    \n",
    "    for label, coords in coord_dict.items():\n",
    "        all_coords.append(coords)\n",
    "        all_labels.extend([label] * len(coords))\n",
    "    \n",
    "    all_coords = np.vstack(all_coords)\n",
    "    df = pd.DataFrame({\n",
    "        'experiment': experiment_name,\n",
    "        'particle_type': all_labels,\n",
    "        'x': all_coords[:, 0],\n",
    "        'y': all_coords[:, 1],\n",
    "        'z': all_coords[:, 2]\n",
    "    })\n",
    "    return df\n",
    "\n",
    "id_to_name = {1: \"apo-ferritin\", \n",
    "              2: \"beta-amylase\",\n",
    "              3: \"beta-galactosidase\", \n",
    "              4: \"ribosome\", \n",
    "              5: \"thyroglobulin\", \n",
    "              6: \"virus-like-particle\"}\n",
    "BLOB_THRESHOLD = 200\n",
    "CERTAINTY_THRESHOLD = 0.05\n",
    "\n",
    "classes = [1, 2, 3, 4, 5, 6]\n",
    "\n",
    "model.eval()\n",
    "with torch.no_grad():\n",
    "    location_dfs = []  # DataFrame 리스트로 초기화\n",
    "    \n",
    "    for vol_idx, run in enumerate(preprocessor.root.runs):\n",
    "        print(f\"Processing volume {vol_idx + 1}/{len(preprocessor.root.runs)}\")\n",
    "        tomogram = preprocessor.processing(run=run, task=\"task\")\n",
    "        task_files = [{\"image\": tomogram}]\n",
    "        task_ds = CacheDataset(data=task_files, transform=non_random_transforms)\n",
    "        task_loader = DataLoader(task_ds, batch_size=1, num_workers=0)\n",
    "        \n",
    "        for task_data in task_loader:\n",
    "            images = task_data['image'].to(\"cuda\")\n",
    "            outputs = sliding_window_inference(\n",
    "                inputs=images,\n",
    "                roi_size=(96, 96, 96),  # ROI 크기\n",
    "                sw_batch_size=4,\n",
    "                predictor=model.forward,\n",
    "                overlap=0.1,\n",
    "                sw_device=\"cuda\",\n",
    "                device=\"cpu\",\n",
    "                buffer_steps=1,\n",
    "                buffer_dim=-1\n",
    "            )\n",
    "            outputs = outputs.argmax(dim=1).squeeze(0).cpu().numpy()  # 클래스 채널 예측\n",
    "            location = {}  # 좌표 저장용 딕셔너리\n",
    "            for c in classes:\n",
    "                cc = cc3d.connected_components(outputs == c)  # cc3d 라벨링\n",
    "                stats = cc3d.statistics(cc)\n",
    "                zyx = stats['centroids'][1:] * 10.012444  # 스케일 변환\n",
    "                zyx_large = zyx[stats['voxel_counts'][1:] > BLOB_THRESHOLD]  # 크기 필터링\n",
    "                xyz = np.ascontiguousarray(zyx_large[:, ::-1])  # 좌표 스왑 (z, y, x -> x, y, z)\n",
    "\n",
    "                location[id_to_name[c]] = xyz  # ID 이름 매칭 저장\n",
    "\n",
    "            # 데이터프레임 변환\n",
    "            df = dict_to_df(location, run.name)\n",
    "            location_dfs.append(df)  # 리스트에 추가\n",
    "        \n",
    "        # if vol_idx == 2:\n",
    "        #     break\n",
    "    \n",
    "    # DataFrame 병합\n",
    "    final_df = pd.concat(location_dfs, ignore_index=True)\n",
    "    \n",
    "    # ID 추가 및 CSV 저장\n",
    "    final_df.insert(loc=0, column='id', value=np.arange(len(final_df)))\n",
    "    final_df.to_csv(\"submission.csv\", index=False)\n",
    "    print(\"Submission saved to: submission.csv\")\n"
   ]
  }
 ],
 "metadata": {
  "kernelspec": {
   "display_name": "UM",
   "language": "python",
   "name": "python3"
  },
  "language_info": {
   "codemirror_mode": {
    "name": "ipython",
    "version": 3
   },
   "file_extension": ".py",
   "mimetype": "text/x-python",
   "name": "python",
   "nbconvert_exporter": "python",
   "pygments_lexer": "ipython3",
   "version": "3.12.7"
  }
 },
 "nbformat": 4,
 "nbformat_minor": 2
}
