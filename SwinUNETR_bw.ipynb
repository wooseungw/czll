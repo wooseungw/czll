{
 "cells": [
  {
   "cell_type": "code",
   "execution_count": 1,
   "metadata": {},
   "outputs": [
    {
     "name": "stderr",
     "output_type": "stream",
     "text": [
      "c:\\Users\\pook0\\.conda\\envs\\UM\\Lib\\site-packages\\tqdm\\auto.py:21: TqdmWarning: IProgress not found. Please update jupyter and ipywidgets. See https://ipywidgets.readthedocs.io/en/stable/user_install.html\n",
      "  from .autonotebook import tqdm as notebook_tqdm\n"
     ]
    },
    {
     "name": "stdout",
     "output_type": "stream",
     "text": [
      "MONAI version: 1.4.0\n",
      "Numpy version: 1.26.4\n",
      "Pytorch version: 2.4.1+cu121\n",
      "MONAI flags: HAS_EXT = False, USE_COMPILED = False, USE_META_DICT = False\n",
      "MONAI rev id: 46a5272196a6c2590ca2589029eed8e4d56ff008\n",
      "MONAI __file__: c:\\Users\\<username>\\.conda\\envs\\UM\\Lib\\site-packages\\monai\\__init__.py\n",
      "\n",
      "Optional dependencies:\n",
      "Pytorch Ignite version: NOT INSTALLED or UNKNOWN VERSION.\n",
      "ITK version: NOT INSTALLED or UNKNOWN VERSION.\n",
      "Nibabel version: 5.3.2\n",
      "scikit-image version: 0.24.0\n",
      "scipy version: 1.14.1\n",
      "Pillow version: 10.2.0\n",
      "Tensorboard version: 2.18.0\n",
      "gdown version: 5.2.0\n",
      "TorchVision version: 0.19.1+cu121\n",
      "tqdm version: 4.66.5\n",
      "lmdb version: NOT INSTALLED or UNKNOWN VERSION.\n",
      "psutil version: 6.0.0\n",
      "pandas version: 2.2.3\n",
      "einops version: 0.8.0\n",
      "transformers version: NOT INSTALLED or UNKNOWN VERSION.\n",
      "mlflow version: 2.17.2\n",
      "pynrrd version: NOT INSTALLED or UNKNOWN VERSION.\n",
      "clearml version: NOT INSTALLED or UNKNOWN VERSION.\n",
      "\n",
      "For details about installing the optional dependencies, please visit:\n",
      "    https://docs.monai.io/en/latest/installation.html#installing-the-recommended-dependencies\n",
      "\n"
     ]
    }
   ],
   "source": [
    "import os\n",
    "import shutil\n",
    "import tempfile\n",
    "\n",
    "import matplotlib.pyplot as plt\n",
    "from tqdm import tqdm\n",
    "\n",
    "from monai.losses import DiceCELoss\n",
    "from monai.inferers import sliding_window_inference\n",
    "from monai.transforms import (\n",
    "    AsDiscrete,\n",
    "    EnsureChannelFirstd,\n",
    "    Compose,\n",
    "    CropForegroundd,\n",
    "    LoadImaged,\n",
    "    Orientationd,\n",
    "    RandFlipd,\n",
    "    RandCropByPosNegLabeld,\n",
    "    RandShiftIntensityd,\n",
    "    ScaleIntensityRanged,\n",
    "    Spacingd,\n",
    "    RandRotate90d,\n",
    ")\n",
    "\n",
    "from monai.config import print_config\n",
    "from monai.metrics import DiceMetric\n",
    "from monai.networks.nets import UNETR, SwinUNETR\n",
    "\n",
    "from monai.data import (\n",
    "    DataLoader,\n",
    "    CacheDataset,\n",
    "    load_decathlon_datalist,\n",
    "    decollate_batch,\n",
    ")\n",
    "\n",
    "\n",
    "import torch\n",
    "\n",
    "print_config()"
   ]
  },
  {
   "cell_type": "code",
   "execution_count": 2,
   "metadata": {},
   "outputs": [],
   "source": [
    "# class_info = {\n",
    "#     0: {\"name\": \"background\", \"weight\": 10000},  # weight 없음\n",
    "#     1: {\"name\": \"apo-ferritin\", \"weight\": 300},\n",
    "#     2: {\"name\": \"beta-amylase\", \"weight\": 100}, # 4130\n",
    "#     3: {\"name\": \"beta-galactosidase\", \"weight\": 150}, #3080\n",
    "#     4: {\"name\": \"ribosome\", \"weight\": 6000},\n",
    "#     5: {\"name\": \"thyroglobulin\", \"weight\": 4000},\n",
    "#     6: {\"name\": \"virus-like-particle\", \"weight\": 2000},\n",
    "# }\n",
    "\n",
    "# # 가중치에 비례한 비율 계산\n",
    "# raw_ratios = {\n",
    "#     k: (v[\"weight\"] if v[\"weight\"] is not None else 0.01)  # 가중치 비례, None일 경우 기본값\n",
    "#     for k, v in class_info.items()\n",
    "# }\n",
    "# total = sum(raw_ratios.values())\n",
    "# ratios = {k: v / total for k, v in raw_ratios.items()}\n",
    "\n",
    "# # 최종 합계가 1인지 확인\n",
    "# final_total = sum(ratios.values())\n",
    "# print(\"클래스 비율:\", ratios)\n",
    "# print(\"최종 합계:\", final_total)\n",
    "\n",
    "# # 비율을 리스트로 변환\n",
    "# ratios_list = [ratios[k] for k in sorted(ratios.keys())]\n",
    "# print(\"클래스 비율 리스트:\", ratios_list)"
   ]
  },
  {
   "cell_type": "code",
   "execution_count": null,
   "metadata": {},
   "outputs": [
    {
     "name": "stdout",
     "output_type": "stream",
     "text": [
      "반비례 클래스 비율: {0: 0.0031380753138075318, 1: 0.10460251046025104, 2: 0.0031380753138075318, 3: 0.3138075313807531, 4: 0.10460251046025104, 5: 0.3138075313807531, 6: 0.15690376569037656}\n",
      "최종 합계: 1.0\n",
      "반비례 클래스 비율 리스트: [0.0031380753138075318, 0.10460251046025104, 0.0031380753138075318, 0.3138075313807531, 0.10460251046025104, 0.3138075313807531, 0.15690376569037656]\n"
     ]
    }
   ],
   "source": [
    "class_info = {\n",
    "    0: {\"name\": \"background\", \"weight\": 0},  # weight 없음\n",
    "    1: {\"name\": \"apo-ferritin\", \"weight\": 1000},\n",
    "    2: {\"name\": \"beta-amylase\", \"weight\": 100}, # 4130\n",
    "    3: {\"name\": \"beta-galactosidase\", \"weight\": 2000}, #3080\n",
    "    4: {\"name\": \"ribosome\", \"weight\": 1000},\n",
    "    5: {\"name\": \"thyroglobulin\", \"weight\": 2000},\n",
    "    6: {\"name\": \"virus-like-particle\", \"weight\": 1000},\n",
    "}\n",
    "\n",
    "# 가중치에 비례한 비율 계산\n",
    "raw_ratios = {\n",
    "    k: (v[\"weight\"] if v[\"weight\"] is not None else 0.01)  # 가중치 비례, None일 경우 기본값a\n",
    "    for k, v in class_info.items()\n",
    "}\n",
    "total = sum(raw_ratios.values())\n",
    "ratios = {k: v / total for k, v in raw_ratios.items()}\n",
    "\n",
    "# 최종 합계가 1인지 확인\n",
    "final_total = sum(ratios.values())\n",
    "print(\"클래스 비율:\", ratios)\n",
    "print(\"최종 합계:\", final_total)\n",
    "\n",
    "# 비율을 리스트로 변환\n",
    "ratios_list = [ratios[k] for k in sorted(ratios.keys())]\n",
    "print(\"클래스 비율 리스트:\", ratios_list)"
   ]
  },
  {
   "cell_type": "code",
   "execution_count": null,
   "metadata": {},
   "outputs": [],
   "source": [
    "from src.dataset.dataset import create_dataloaders\n",
    "from monai.transforms import (\n",
    "    Compose, LoadImaged, EnsureChannelFirstd, NormalizeIntensityd,\n",
    "    Orientationd, CropForegroundd, GaussianSmoothd, ScaleIntensityd,\n",
    "    RandSpatialCropd, RandRotate90d, RandFlipd, RandGaussianNoised,\n",
    "    ToTensord, RandCropByLabelClassesd\n",
    ")\n",
    "\n",
    "train_img_dir = \"./datasets/train/images\"\n",
    "train_label_dir = \"./datasets/train/labels\"\n",
    "val_img_dir = \"./datasets/val/images\"\n",
    "val_label_dir = \"./datasets/val/labels\"\n",
    "# DATA CONFIG\n",
    "img_depth = 96\n",
    "img_size =  96 # Match your patch size\n",
    "n_classes = 7\n",
    "batch_size =2 # 13.8GB GPU memory required for 128x128 img size\n",
    "num_samples = batch_size # 한 이미지에서 뽑을 샘플 수\n",
    "loader_batch = 1\n",
    "# MODEL CONFIG\n",
    "num_epochs = 4000\n",
    "lamda = 0.52\n",
    "lr = 0.001\n",
    "feature_size = 48\n",
    "use_checkpoint = True\n",
    "use_v2 = True\n",
    "drop_rate= 0.25\n",
    "attn_drop_rate = 0.25\n",
    "# CLASS_WEIGHTS\n",
    "class_weights = None\n",
    "class_weights = torch.tensor([0.001, 1, 0.001, 1.1, 1, 1.1, 1], dtype=torch.float32)  # 클래스별 가중치\n",
    "\n",
    "accumulation_steps = 4\n",
    "# INIT\n",
    "start_epoch = 0\n",
    "best_val_loss = float('inf')\n",
    "best_val_fbeta_score = 0\n",
    "\n",
    "non_random_transforms = Compose([\n",
    "    EnsureChannelFirstd(keys=[\"image\", \"label\"], channel_dim=\"no_channel\"),\n",
    "    NormalizeIntensityd(keys=\"image\"),\n",
    "    Orientationd(keys=[\"image\", \"label\"], axcodes=\"RAS\"),\n",
    "    GaussianSmoothd(\n",
    "        keys=[\"image\"],      # 변환을 적용할 키\n",
    "        sigma=[1.0, 1.0, 1.0]  # 각 축(x, y, z)의 시그마 값\n",
    "        ),\n",
    "])\n",
    "random_transforms = Compose([\n",
    "    RandCropByLabelClassesd(\n",
    "        keys=[\"image\", \"label\"],\n",
    "        label_key=\"label\",\n",
    "        spatial_size=[img_depth, img_size, img_size],\n",
    "        num_classes=n_classes,\n",
    "        num_samples=num_samples, \n",
    "        ratios=ratios_list,\n",
    "    ),\n",
    "    RandRotate90d(keys=[\"image\", \"label\"], prob=0.5, spatial_axes=[1, 2]),\n",
    "    RandFlipd(keys=[\"image\", \"label\"], prob=0.5, spatial_axis=0),\n",
    "    RandFlipd(keys=[\"image\", \"label\"], prob=0.5, spatial_axis=1),\n",
    "    RandFlipd(keys=[\"image\", \"label\"], prob=0.5, spatial_axis=2),\n",
    "])\n"
   ]
  },
  {
   "cell_type": "code",
   "execution_count": 5,
   "metadata": {},
   "outputs": [
    {
     "name": "stderr",
     "output_type": "stream",
     "text": [
      "Loading dataset: 100%|██████████| 24/24 [00:41<00:00,  1.73s/it]\n",
      "Loading dataset: 100%|██████████| 4/4 [00:06<00:00,  1.73s/it]\n"
     ]
    }
   ],
   "source": [
    "train_loader, val_loader = None, None\n",
    "train_loader, val_loader = create_dataloaders(\n",
    "    train_img_dir, \n",
    "    train_label_dir, \n",
    "    val_img_dir, \n",
    "    val_label_dir, \n",
    "    non_random_transforms = non_random_transforms, \n",
    "    random_transforms = random_transforms, \n",
    "    batch_size = loader_batch,\n",
    "    num_workers=0)"
   ]
  },
  {
   "cell_type": "markdown",
   "metadata": {},
   "source": [
    "https://monai.io/model-zoo.html"
   ]
  },
  {
   "cell_type": "code",
   "execution_count": 6,
   "metadata": {},
   "outputs": [],
   "source": [
    "from monai.losses import TverskyLoss\n",
    "import torch\n",
    "\n",
    "def loss_fn(loss, class_weights, device):\n",
    "    \"\"\"\n",
    "    Tversky 손실에 클래스별 가중치를 적용하여 최종 스칼라 값을 반환합니다.\n",
    "\n",
    "    Args:\n",
    "        loss: Tversky 손실 텐서 (B, num_classes, H, W, D).\n",
    "        class_weights: 클래스별 가중치 텐서 (num_classes,).\n",
    "        device: 사용할 장치 (예: 'cuda' 또는 'cpu').\n",
    "\n",
    "    Returns:\n",
    "        torch.Tensor: 최종 가중 평균 손실 값 (스칼라).\n",
    "    \"\"\"\n",
    "    # 가중치를 device로 이동\n",
    "    class_weights = class_weights.to(device)\n",
    "\n",
    "    # 클래스 차원에 가중치 적용 (B, num_classes, ...)\n",
    "    class_weights = class_weights.view(1, n_classes, 1, 1, 1)  # [1, num_classes, 1, 1, 1]\n",
    "    weighted_loss = loss * class_weights\n",
    "\n",
    "    # 모든 차원을 평균 내어 스칼라 손실 반환\n",
    "    final_loss = torch.mean(weighted_loss)\n",
    "    return final_loss"
   ]
  },
  {
   "cell_type": "code",
   "execution_count": null,
   "metadata": {},
   "outputs": [
    {
     "name": "stderr",
     "output_type": "stream",
     "text": [
      "c:\\Users\\pook0\\.conda\\envs\\UM\\Lib\\site-packages\\monai\\utils\\deprecate_utils.py:221: FutureWarning: monai.networks.nets.swin_unetr SwinUNETR.__init__:img_size: Argument `img_size` has been deprecated since version 1.3. It will be removed in version 1.5. The img_size argument is not required anymore and checks on the input size are run during forward().\n",
      "  warn_deprecated(argname, msg, warning_category)\n",
      "C:\\Users\\pook0\\AppData\\Local\\Temp\\ipykernel_21864\\232658936.py:29: FutureWarning: You are using `torch.load` with `weights_only=False` (the current default value), which uses the default pickle module implicitly. It is possible to construct malicious pickle data which will execute arbitrary code during unpickling (See https://github.com/pytorch/pytorch/blob/main/SECURITY.md#untrusted-models for more details). In a future release, the default value for `weights_only` will be flipped to `True`. This limits the functions that could be executed during unpickling. Arbitrary objects will no longer be allowed to be loaded via this mode unless they are explicitly allowlisted by the user via `torch.serialization.add_safe_globals`. We recommend you start setting `weights_only=True` for any use case where you don't have full control of the loaded file. Please open an issue on GitHub for any issues related to this experimental feature.\n",
      "  weight = torch.load(pretrain_path, map_location=device)\n"
     ]
    },
    {
     "name": "stdout",
     "output_type": "stream",
     "text": [
      "Filtered weights loaded successfully. Output layer will be trained from scratch.\n"
     ]
    }
   ],
   "source": [
    "import torch.optim as optim\n",
    "from tqdm import tqdm\n",
    "import numpy as np\n",
    "import torch\n",
    "from pathlib import Path\n",
    "from monai.metrics import DiceMetric\n",
    "# 손실 함수 초기화\n",
    "from monai.losses import TverskyLoss\n",
    "\n",
    "# TverskyLoss 설정\n",
    "'''\n",
    "criterion = TverskyLoss(\n",
    "    alpha= 1 - lamda,  # FP에 대한 가중치\n",
    "    beta=lamda,       # FN에 대한 가중치\n",
    "    include_background=False,  # 배경 클래스 제외\n",
    "    reduction=\"none\",  # 각 픽셀에 대한 손실 반환\n",
    "    softmax=True\n",
    ")\n",
    "'''\n",
    "\n",
    "class DynamicTverskyLoss(TverskyLoss):\n",
    "    def __init__(self, lamda=0.5, **kwargs):\n",
    "        super().__init__(alpha=1 - lamda, beta=lamda, **kwargs)\n",
    "        self.lamda = lamda\n",
    "\n",
    "    def set_lamda(self, lamda):\n",
    "        self.lamda = lamda\n",
    "        self.alpha = 1 - lamda\n",
    "        self.beta = lamda\n",
    "        \n",
    "criterion = DynamicTverskyLoss(\n",
    "    lamda=0.5,\n",
    "    include_background=False,\n",
    "    reduction=\"mean\",\n",
    "    softmax=True\n",
    ")\n",
    "\n",
    "device = torch.device(\"cuda\" if torch.cuda.is_available() else \"cpu\")\n",
    "\n",
    "model = SwinUNETR(\n",
    "    img_size=(img_depth, img_size, img_size),\n",
    "    in_channels=1,\n",
    "    out_channels=n_classes,\n",
    "    feature_size=feature_size,\n",
    "    use_checkpoint=True,\n",
    "    drop_rate = drop_rate,\n",
    "    attn_drop_rate = attn_drop_rate,\n",
    "    use_v2 = use_v2,\n",
    ").to(device)\n",
    "\n",
    "pretrain_str = \"yes\" if use_checkpoint else \"no\"\n",
    "weight_str = \"weighted\" if class_weights is not None else \"\"\n",
    "\n",
    "# 체크포인트 디렉토리 및 파일 설정\n",
    "checkpoint_base_dir = Path(\"./model_checkpoints\")\n",
    "checkpoint_dir = checkpoint_base_dir / f\"SwinUNETR_v2_p{pretrain_str}_{weight_str}_f{feature_size}_d{img_depth}_s{img_size}_lr{lr:.0e}_a{lamda:.2f}_b{1-lamda:.2f}_batch{batch_size}\"\n",
    "optimizer = optim.AdamW(model.parameters(), lr=lr, weight_decay=1e-5)\n",
    "scheduler = torch.optim.lr_scheduler.ReduceLROnPlateau(optimizer, patience=5, factor=0.5)\n",
    "# 체크포인트 디렉토리 생성\n",
    "checkpoint_dir.mkdir(parents=True, exist_ok=True)\n",
    "\n",
    "if checkpoint_dir.exists():\n",
    "    best_model_path = checkpoint_dir / 'best_model.pt'\n",
    "    if best_model_path.exists():\n",
    "        print(f\"기존 best model 발견: {best_model_path}\")\n",
    "        try:\n",
    "            checkpoint = torch.load(best_model_path, map_location=device)\n",
    "            # 체크포인트 내부 키 검증\n",
    "            required_keys = ['model_state_dict', 'optimizer_state_dict', 'epoch', 'best_val_loss']\n",
    "            if all(k in checkpoint for k in required_keys):\n",
    "                model.load_state_dict(checkpoint['model_state_dict'])\n",
    "                optimizer.load_state_dict(checkpoint['optimizer_state_dict'])\n",
    "                start_epoch = checkpoint['epoch']\n",
    "                best_val_loss = checkpoint['best_val_loss']\n",
    "                print(\"기존 학습된 가중치를 성공적으로 로드했습니다.\")\n",
    "            else:\n",
    "                raise ValueError(\"체크포인트 파일에 필요한 key가 없습니다.\")\n",
    "        except Exception as e:\n",
    "            print(f\"체크포인트 파일을 로드하는 중 오류 발생: {e}\")"
   ]
  },
  {
   "cell_type": "code",
   "execution_count": 8,
   "metadata": {},
   "outputs": [
    {
     "name": "stdout",
     "output_type": "stream",
     "text": [
      "torch.Size([2, 1, 96, 96, 96]) torch.Size([2, 1, 96, 96, 96])\n"
     ]
    }
   ],
   "source": [
    "batch = next(iter(val_loader))\n",
    "images, labels = batch[\"image\"], batch[\"label\"]\n",
    "print(images.shape, labels.shape)"
   ]
  },
  {
   "cell_type": "code",
   "execution_count": 9,
   "metadata": {},
   "outputs": [],
   "source": [
    "torch.backends.cudnn.benchmark = True"
   ]
  },
  {
   "cell_type": "code",
   "execution_count": null,
   "metadata": {},
   "outputs": [
    {
     "name": "stderr",
     "output_type": "stream",
     "text": [
      "\u001b[34m\u001b[1mwandb\u001b[0m: Using wandb-core as the SDK backend.  Please refer to https://wandb.me/wandb-core for more information.\n",
      "\u001b[34m\u001b[1mwandb\u001b[0m: Currently logged in as: \u001b[33mpook0612\u001b[0m (\u001b[33mlimbw\u001b[0m). Use \u001b[1m`wandb login --relogin`\u001b[0m to force relogin\n"
     ]
    },
    {
     "data": {
      "text/html": [
       "Tracking run with wandb version 0.19.1"
      ],
      "text/plain": [
       "<IPython.core.display.HTML object>"
      ]
     },
     "metadata": {},
     "output_type": "display_data"
    },
    {
     "data": {
      "text/html": [
       "Run data is saved locally in <code>d:\\Workspace\\czll\\wandb\\run-20241222_133806-uzb5xd30</code>"
      ],
      "text/plain": [
       "<IPython.core.display.HTML object>"
      ]
     },
     "metadata": {},
     "output_type": "display_data"
    },
    {
     "data": {
      "text/html": [
       "Syncing run <strong><a href='https://wandb.ai/limbw/czii_SwinUnetR/runs/uzb5xd30' target=\"_blank\">SwinUNETR_lr0.001_bs2_lambda0.5_20241222_133805</a></strong> to <a href='https://wandb.ai/limbw/czii_SwinUnetR' target=\"_blank\">Weights & Biases</a> (<a href='https://wandb.me/developer-guide' target=\"_blank\">docs</a>)<br>"
      ],
      "text/plain": [
       "<IPython.core.display.HTML object>"
      ]
     },
     "metadata": {},
     "output_type": "display_data"
    },
    {
     "data": {
      "text/html": [
       " View project at <a href='https://wandb.ai/limbw/czii_SwinUnetR' target=\"_blank\">https://wandb.ai/limbw/czii_SwinUnetR</a>"
      ],
      "text/plain": [
       "<IPython.core.display.HTML object>"
      ]
     },
     "metadata": {},
     "output_type": "display_data"
    },
    {
     "data": {
      "text/html": [
       " View run at <a href='https://wandb.ai/limbw/czii_SwinUnetR/runs/uzb5xd30' target=\"_blank\">https://wandb.ai/limbw/czii_SwinUnetR/runs/uzb5xd30</a>"
      ],
      "text/plain": [
       "<IPython.core.display.HTML object>"
      ]
     },
     "metadata": {},
     "output_type": "display_data"
    }
   ],
   "source": [
    "import wandb\n",
    "from datetime import datetime\n",
    "\n",
    "current_time = datetime.now().strftime('%Y%m%d_%H%M%S')\n",
    "run_name = f'SwinUNETR_p{pretrain_str}_{weight_str}_f{feature_size}_d{img_depth}_s{img_size}_lr{lr:.0e}_a{lamda:.2f}_b{1-lamda:.2f}_batch{batch_size}_{current_time}'\n",
    "\n",
    "# wandb 초기화\n",
    "wandb.init(\n",
    "    project='czii_SwinUnetR',  # 프로젝트 이름 설정\n",
    "    name=run_name,         # 실행(run) 이름 설정\n",
    "    config={\n",
    "        'num_epochs': num_epochs,\n",
    "        'learning_rate': lr,\n",
    "        'batch_size': batch_size,\n",
    "        'lambda': lamda,\n",
    "        'feature_size': feature_size,\n",
    "        'img_size': img_size,\n",
    "        'sampling_ratio': ratios_list,\n",
    "        'device': device.type,\n",
    "        \"checkpoint_dir\": str(checkpoint_dir),\n",
    "        \"class_weights\": class_weights.tolist() if class_weights is not None else None,\n",
    "        \"use_checkpoint\": use_checkpoint,\n",
    "        \"drop_rate\": drop_rate,\n",
    "        \"attn_drop_rate\": attn_drop_rate,\n",
    "        \"use_v2\": use_v2,\n",
    "        \"accumulation_steps\": accumulation_steps,\n",
    "        \n",
    "        # 필요한 하이퍼파라미터 추가\n",
    "    }\n",
    ")\n",
    "# 모델을 wandb에 연결\n",
    "wandb.watch(model, log='all')"
   ]
  },
  {
   "cell_type": "code",
   "execution_count": null,
   "metadata": {},
   "outputs": [],
   "source": [
    "from monai.metrics import DiceMetric\n",
    "\n",
    "def create_metric_dict(num_classes):\n",
    "    \"\"\"각 클래스별 DiceMetric 생성\"\"\"\n",
    "    metrics = {}\n",
    "    for i in range(num_classes):\n",
    "        metrics[f'dice_class_{i}'] = DiceMetric(\n",
    "            include_background=False if i == 0 else False,\n",
    "            reduction=\"mean\",\n",
    "            get_not_nans=False\n",
    "        )\n",
    "    return metrics\n",
    "    \n",
    "def processing(batch_data, model, criterion, device):\n",
    "    images = batch_data['image'].to(device)  # Input 이미지 (B, 1, 96, 96, 96)\n",
    "    labels = batch_data['label'].to(device)  # 라벨 (B, 96, 96, 96)\n",
    "\n",
    "    labels = labels.squeeze(1)  # (B, 1, 96, 96, 96) → (B, 96, 96, 96)\n",
    "    labels = labels.long()  # 라벨을 정수형으로 변환\n",
    "\n",
    "    # 원핫 인코딩 (B, H, W, D) → (B, num_classes, H, W, D)\n",
    "    \n",
    "    labels_onehot = torch.nn.functional.one_hot(labels, num_classes=n_classes)\n",
    "    labels_onehot = labels_onehot.permute(0, 4, 1, 2, 3).float()  # (B, num_classes, H, W, D)\n",
    "\n",
    "    # 모델 예측\n",
    "    outputs = model(images)  # outputs: (B, num_classes, H, W, D)\n",
    "\n",
    "    # Loss 계산\n",
    "    # loss = loss_fn(criterion(outputs, labels_onehot), class_weights, device)\n",
    "    loss = loss_fn(criterion(outputs, labels_onehot),class_weights=class_weights, device=device)\n",
    "    return loss, outputs, labels, outputs.argmax(dim=1)\n",
    "\n",
    "def train_one_epoch(model, train_loader, criterion, optimizer, device, epoch, accumulation_steps=4):\n",
    "    model.train()\n",
    "    epoch_loss = 0\n",
    "    optimizer.zero_grad()  # 그래디언트 초기화\n",
    "    with tqdm(train_loader, desc='Training') as pbar:\n",
    "        for i, batch_data in enumerate(pbar):\n",
    "            # 손실 계산\n",
    "            loss, _, _, _ = processing(batch_data, model, criterion, device)\n",
    "\n",
    "            # 그래디언트를 계산하고 누적\n",
    "            loss = loss / accumulation_steps  # 그래디언트 누적을 위한 스케일링\n",
    "            loss.backward()  # 그래디언트 계산 및 누적\n",
    "            \n",
    "            # 그래디언트 업데이트 (accumulation_steps마다 한 번)\n",
    "            if (i + 1) % accumulation_steps == 0 or (i + 1) == len(train_loader):\n",
    "                optimizer.step()  # 파라미터 업데이트\n",
    "                optimizer.zero_grad()  # 누적된 그래디언트 초기화\n",
    "            \n",
    "            # 손실값 누적 (스케일링 복구)\n",
    "            epoch_loss += loss.item() * accumulation_steps  # 실제 손실값 반영\n",
    "            pbar.set_postfix(loss=loss.item() * accumulation_steps)  # 실제 손실값 출력\n",
    "    avg_loss = epoch_loss / len(train_loader)\n",
    "    wandb.log({'train_epoch_loss': avg_loss, 'epoch': epoch + 1})\n",
    "    return avg_loss\n",
    "\n",
    "def validate_one_epoch(model, val_loader, criterion, device, epoch, calculate_dice_interval):\n",
    "    model.eval()\n",
    "    val_loss = 0\n",
    "    metrics = create_metric_dict(n_classes)\n",
    "    class_dice_scores = {i: [] for i in range(n_classes)}\n",
    "    class_f_beta_scores = {i: [] for i in range(n_classes)}\n",
    "    with torch.no_grad():\n",
    "        with tqdm(val_loader, desc='Validation') as pbar:\n",
    "            for batch_data in pbar:\n",
    "                loss, _, labels, preds = processing(batch_data, model, criterion, device)\n",
    "                val_loss += loss.item()\n",
    "                pbar.set_postfix(loss=loss.item())\n",
    "\n",
    "                # 각 클래스별 Dice 점수 계산\n",
    "                if epoch % calculate_dice_interval == 0:\n",
    "                    for i in range(n_classes):\n",
    "                        pred_i = (preds == i)\n",
    "                        label_i = (labels == i)\n",
    "                        dice_score = (2.0 * torch.sum(pred_i & label_i)) / (torch.sum(pred_i) + torch.sum(label_i) + 1e-8)\n",
    "                        class_dice_scores[i].append(dice_score.item())\n",
    "                        precision = (torch.sum(pred_i & label_i) + 1e-8) / (torch.sum(pred_i) + 1e-8)\n",
    "                        recall = (torch.sum(pred_i & label_i) + 1e-8) / (torch.sum(label_i) + 1e-8)\n",
    "                        f_beta_score = (1 + 4**2) * (precision * recall) / (4**2 * precision + recall + 1e-8)\n",
    "                        class_f_beta_scores[i].append(f_beta_score.item())\n",
    "\n",
    "    avg_loss = val_loss / len(val_loader)\n",
    "    # 에포크별 평균 손실 로깅\n",
    "    wandb.log({'val_epoch_loss': avg_loss, 'epoch': epoch + 1})\n",
    "    \n",
    "    # 각 클래스별 평균 Dice 점수 출력\n",
    "    if epoch % calculate_dice_interval == 0:\n",
    "        print(\"Validation Dice Score\")\n",
    "        all_classes_dice_scores = []\n",
    "        for i in range(n_classes):\n",
    "            mean_dice = np.mean(class_dice_scores[i])\n",
    "            wandb.log({f'class_{i}_dice_score': mean_dice, 'epoch': epoch + 1})\n",
    "            print(f\"Class {i}: {mean_dice:.4f}\", end=\", \")\n",
    "            if i not in [0, 2]:  # 평균에 포함할 클래스만 추가\n",
    "                all_classes_dice_scores.append(mean_dice)\n",
    "            if i == 3:\n",
    "                print()\n",
    "        print()\n",
    "    if epoch % calculate_dice_interval == 0:\n",
    "        print(\"Validation F-beta Score\")\n",
    "        all_classes_fbeta_scores = []\n",
    "        for i in range(n_classes):\n",
    "            mean_fbeta = np.mean(class_f_beta_scores[i])\n",
    "            wandb.log({f'class_{i}_f_beta_score': mean_fbeta, 'epoch': epoch + 1})\n",
    "            print(f\"Class {i}: {mean_fbeta:.4f}\", end=\", \")\n",
    "            if i not in [0, 2]:  # 평균에 포함할 클래스만 추가\n",
    "                all_classes_fbeta_scores.append(mean_fbeta)\n",
    "            if i == 3:\n",
    "                print()\n",
    "        overall_mean_dice = np.mean(all_classes_dice_scores)\n",
    "        overall_mean_fbeta = np.mean(all_classes_fbeta_scores)\n",
    "        wandb.log({'overall_mean_f_beta_score': overall_mean_fbeta, 'overall_mean_dice_score': overall_mean_dice, 'epoch': epoch + 1})\n",
    "        print(f\"\\nOverall Mean Dice Score: {overall_mean_dice:.4f}\\nOverall Mean F-beta Score: {overall_mean_fbeta:.4f}\\n\")\n",
    "\n",
    "    if overall_mean_fbeta is None:\n",
    "        overall_mean_fbeta = 0\n",
    "\n",
    "    return val_loss / len(val_loader), overall_mean_fbeta\n",
    "\n",
    "\n",
    "def train_model(\n",
    "    model, train_loader, val_loader, criterion, optimizer, num_epochs, patience, \n",
    "    device, start_epoch, best_val_loss, best_val_fbeta_score, calculate_dice_interval=1\n",
    "):\n",
    "    \"\"\"\n",
    "    모델을 학습하고 검증하는 함수\n",
    "    Args:\n",
    "        model: 학습할 모델\n",
    "        train_loader: 학습 데이터 로더\n",
    "        val_loader: 검증 데이터 로더\n",
    "        criterion: 손실 함수\n",
    "        optimizer: 최적화 알고리즘\n",
    "        num_epochs: 총 학습 epoch 수\n",
    "        patience: early stopping 기준\n",
    "        device: GPU/CPU 장치\n",
    "        start_epoch: 시작 epoch\n",
    "        best_val_loss: 이전 최적 validation loss\n",
    "        best_val_fbeta_score: 이전 최적 validation f-beta score\n",
    "        calculate_dice_interval: Dice 점수 계산 주기\n",
    "    \"\"\"\n",
    "    epochs_no_improve = 0\n",
    "\n",
    "    for epoch in range(start_epoch, num_epochs):\n",
    "        print(f\"Epoch {epoch + 1}/{num_epochs}\")\n",
    "         # 현재 lambda 값 출력\n",
    "        print(f\"Current lambda: {criterion.lamda:.4f}\")\n",
    "        # Train One Epoch\n",
    "        train_loss = train_one_epoch(\n",
    "            model=model, \n",
    "            train_loader=train_loader, \n",
    "            criterion=criterion, \n",
    "            optimizer=optimizer, \n",
    "            device=device,\n",
    "            epoch=epoch,\n",
    "            accumulation_steps= accumulation_steps,\n",
    "        )\n",
    "        scheduler.step(train_loss)\n",
    "        \n",
    "        # Validate One Epoch\n",
    "        val_loss, overall_mean_fbeta_score = validate_one_epoch(\n",
    "            model=model, \n",
    "            val_loader=val_loader, \n",
    "            criterion=criterion, \n",
    "            device=device, \n",
    "            epoch=epoch, \n",
    "            calculate_dice_interval=calculate_dice_interval\n",
    "        )\n",
    "\n",
    "        \n",
    "        print(f\"Training Loss: {train_loss:.4f}, Validation Loss: {val_loss:.4f}, Validation F-beta: {overall_mean_fbeta_score:.4f}\")\n",
    "\n",
    "        if val_loss < best_val_loss and overall_mean_fbeta_score > best_val_fbeta_score:\n",
    "            best_val_loss = val_loss\n",
    "            best_val_fbeta_score = overall_mean_fbeta_score\n",
    "            epochs_no_improve = 0\n",
    "            checkpoint_path = os.path.join(checkpoint_dir, 'best_model.pt')\n",
    "            torch.save({\n",
    "                'epoch': epoch + 1,\n",
    "                'model_state_dict': model.state_dict(),\n",
    "                'optimizer_state_dict': optimizer.state_dict(),\n",
    "                'best_val_loss': best_val_loss,\n",
    "                'best_val_fbeta_score': best_val_fbeta_score\n",
    "            }, checkpoint_path)\n",
    "            print(f\"========================================================\")\n",
    "            print(f\"SUPER Best model saved. Loss:{best_val_loss:.4f}, Score:{best_val_fbeta_score:.4f}\")\n",
    "            print(f\"========================================================\")\n",
    "        \n",
    "        # Validation Loss 기준 모델 저장\n",
    "        if val_loss < best_val_loss:\n",
    "            best_val_loss = val_loss\n",
    "            epochs_no_improve = 0\n",
    "            checkpoint_path = os.path.join(checkpoint_dir, 'best_model_val_loss.pt')\n",
    "            torch.save({\n",
    "                'epoch': epoch + 1,\n",
    "                'model_state_dict': model.state_dict(),\n",
    "                'optimizer_state_dict': optimizer.state_dict(),\n",
    "                'best_val_loss': best_val_loss,\n",
    "                'best_val_fbeta_score': best_val_fbeta_score\n",
    "            }, checkpoint_path)\n",
    "            print(f\"========================================================\")\n",
    "            print(f\"Best model saved based on validation loss: {best_val_loss:.4f}\")\n",
    "            print(f\"========================================================\")\n",
    "\n",
    "        # Early stopping 조건 체크\n",
    "        if val_loss >= best_val_loss and overall_mean_fbeta_score <= best_val_fbeta_score:\n",
    "            epochs_no_improve += 1\n",
    "        else:\n",
    "            epochs_no_improve = 0\n",
    "\n",
    "        if epochs_no_improve >= patience:\n",
    "            print(\"Early stopping\")\n",
    "            checkpoint_path = os.path.join(checkpoint_dir, 'last.pt')\n",
    "            torch.save({\n",
    "                'epoch': epoch + 1,\n",
    "                'model_state_dict': model.state_dict(),\n",
    "                'optimizer_state_dict': optimizer.state_dict(),\n",
    "                'best_val_loss': best_val_loss,\n",
    "                'best_val_fbeta_score': best_val_fbeta_score\n",
    "            }, checkpoint_path)\n",
    "            break\n",
    "        if epochs_no_improve%6 == 0:\n",
    "            # 손실이 개선되지 않았으므로 lambda 감소\n",
    "            new_lamda = max(criterion.lamda - 0.01, 0.1)  # 최소값은 0.1로 설정\n",
    "            criterion.set_lamda(new_lamda)\n",
    "            print(f\"Validation loss did not improve. Reducing lambda to {new_lamda:.4f}\")\n",
    "\n",
    "\n",
    "    wandb.finish()\n"
   ]
  },
  {
   "cell_type": "code",
   "execution_count": null,
   "metadata": {},
   "outputs": [
    {
     "name": "stdout",
     "output_type": "stream",
     "text": [
      "Epoch 1/4000\n",
      "Current lambda: 0.5000\n"
     ]
    },
    {
     "name": "stderr",
     "output_type": "stream",
     "text": [
      "Training: 100%|██████████| 24/24 [00:55<00:00,  2.33s/it, loss=0.702]\n",
      "Validation: 100%|██████████| 4/4 [00:02<00:00,  1.42it/s, loss=0.702]\n"
     ]
    },
    {
     "name": "stdout",
     "output_type": "stream",
     "text": [
      "Validation Dice Score\n",
      "Class 0: 0.1072, Class 1: 0.0017, Class 2: 0.0021, Class 3: 0.0000, \n",
      "Class 4: 0.2074, Class 5: 0.1370, Class 6: 0.0090, \n",
      "Validation F-beta Score\n",
      "Class 0: 0.0601, Class 1: 0.0142, Class 2: 0.0173, Class 3: 0.0000, \n",
      "Class 4: 0.4231, Class 5: 0.3543, Class 6: 0.0432, \n",
      "Overall Mean Dice Score: 0.0710\n",
      "Overall Mean F-beta Score: 0.1670\n",
      "\n",
      "Training Loss: 0.7057, Validation Loss: 0.6912, Validation F-beta: 0.1670\n",
      "========================================================\n",
      "SUPER Best model saved. Loss:0.6912, Score:0.1670\n",
      "========================================================\n",
      "Epoch 2/4000\n",
      "Current lambda: 0.5000\n"
     ]
    },
    {
     "name": "stderr",
     "output_type": "stream",
     "text": [
      "Training: 100%|██████████| 24/24 [00:37<00:00,  1.55s/it, loss=0.692]\n",
      "Validation: 100%|██████████| 4/4 [00:03<00:00,  1.24it/s, loss=0.698]\n"
     ]
    },
    {
     "name": "stdout",
     "output_type": "stream",
     "text": [
      "Validation Dice Score\n",
      "Class 0: 0.0374, Class 1: 0.0018, Class 2: 0.0007, Class 3: 0.0010, \n",
      "Class 4: 0.1202, Class 5: 0.2034, Class 6: 0.0598, \n",
      "Validation F-beta Score\n",
      "Class 0: 0.0202, Class 1: 0.0116, Class 2: 0.0054, Class 3: 0.0080, \n",
      "Class 4: 0.2343, Class 5: 0.2247, Class 6: 0.2647, \n",
      "Overall Mean Dice Score: 0.0773\n",
      "Overall Mean F-beta Score: 0.1487\n",
      "\n",
      "Training Loss: 0.6954, Validation Loss: 0.6851, Validation F-beta: 0.1487\n",
      "========================================================\n",
      "Best model saved based on validation loss: 0.6851\n",
      "========================================================\n",
      "Epoch 3/4000\n",
      "Current lambda: 0.5000\n"
     ]
    },
    {
     "name": "stderr",
     "output_type": "stream",
     "text": [
      "Training: 100%|██████████| 24/24 [00:37<00:00,  1.57s/it, loss=0.692]\n",
      "Validation: 100%|██████████| 4/4 [00:02<00:00,  1.44it/s, loss=0.691]\n"
     ]
    },
    {
     "name": "stdout",
     "output_type": "stream",
     "text": [
      "Validation Dice Score\n",
      "Class 0: 0.0548, Class 1: 0.0096, Class 2: 0.0011, Class 3: 0.0007, \n",
      "Class 4: 0.3829, Class 5: 0.2521, Class 6: 0.2570, \n",
      "Validation F-beta Score\n",
      "Class 0: 0.0299, Class 1: 0.0590, Class 2: 0.0089, Class 3: 0.0058, \n",
      "Class 4: 0.4708, Class 5: 0.3507, Class 6: 0.2059, \n",
      "Overall Mean Dice Score: 0.1805\n",
      "Overall Mean F-beta Score: 0.2184\n",
      "\n",
      "Training Loss: 0.6717, Validation Loss: 0.6543, Validation F-beta: 0.2184\n",
      "========================================================\n",
      "SUPER Best model saved. Loss:0.6543, Score:0.2184\n",
      "========================================================\n",
      "Epoch 4/4000\n",
      "Current lambda: 0.5000\n"
     ]
    },
    {
     "name": "stderr",
     "output_type": "stream",
     "text": [
      "Training: 100%|██████████| 24/24 [00:36<00:00,  1.54s/it, loss=0.678]\n",
      "Validation: 100%|██████████| 4/4 [00:02<00:00,  1.42it/s, loss=0.627]\n"
     ]
    },
    {
     "name": "stdout",
     "output_type": "stream",
     "text": [
      "Validation Dice Score\n",
      "Class 0: 0.0693, Class 1: 0.0104, Class 2: 0.0008, Class 3: 0.0002, \n",
      "Class 4: 0.0595, Class 5: 0.1992, Class 6: 0.2684, \n",
      "Validation F-beta Score\n",
      "Class 0: 0.0381, Class 1: 0.0643, Class 2: 0.0062, Class 3: 0.0017, \n",
      "Class 4: 0.1181, Class 5: 0.1972, Class 6: 0.2221, \n",
      "Overall Mean Dice Score: 0.1075\n",
      "Overall Mean F-beta Score: 0.1207\n",
      "\n",
      "Training Loss: 0.6717, Validation Loss: 0.6679, Validation F-beta: 0.1207\n",
      "Epoch 5/4000\n",
      "Current lambda: 0.5000\n"
     ]
    },
    {
     "name": "stderr",
     "output_type": "stream",
     "text": [
      "Training: 100%|██████████| 24/24 [00:37<00:00,  1.54s/it, loss=0.66] \n",
      "Validation: 100%|██████████| 4/4 [00:02<00:00,  1.42it/s, loss=0.649]\n"
     ]
    },
    {
     "name": "stdout",
     "output_type": "stream",
     "text": [
      "Validation Dice Score\n",
      "Class 0: 0.0622, Class 1: 0.0310, Class 2: 0.0012, Class 3: 0.0006, \n",
      "Class 4: 0.1943, Class 5: 0.1895, Class 6: 0.2324, \n",
      "Validation F-beta Score\n",
      "Class 0: 0.0341, Class 1: 0.1195, Class 2: 0.0098, Class 3: 0.0047, \n",
      "Class 4: 0.2247, Class 5: 0.2065, Class 6: 0.3894, \n",
      "Overall Mean Dice Score: 0.1296\n",
      "Overall Mean F-beta Score: 0.1890\n",
      "\n",
      "Training Loss: 0.6485, Validation Loss: 0.6596, Validation F-beta: 0.1890\n",
      "Epoch 6/4000\n",
      "Current lambda: 0.5000\n"
     ]
    },
    {
     "name": "stderr",
     "output_type": "stream",
     "text": [
      "Training: 100%|██████████| 24/24 [00:36<00:00,  1.54s/it, loss=0.687]\n",
      "Validation: 100%|██████████| 4/4 [00:02<00:00,  1.39it/s, loss=0.574]\n"
     ]
    },
    {
     "name": "stdout",
     "output_type": "stream",
     "text": [
      "Validation Dice Score\n",
      "Class 0: 0.0509, Class 1: 0.0278, Class 2: 0.0012, Class 3: 0.0013, \n",
      "Class 4: 0.3455, Class 5: 0.3054, Class 6: 0.2960, \n",
      "Validation F-beta Score\n",
      "Class 0: 0.0277, Class 1: 0.0821, Class 2: 0.0096, Class 3: 0.0108, \n",
      "Class 4: 0.3883, Class 5: 0.3998, Class 6: 0.4264, \n",
      "Overall Mean Dice Score: 0.1952\n",
      "Overall Mean F-beta Score: 0.2615\n",
      "\n",
      "Training Loss: 0.6483, Validation Loss: 0.6217, Validation F-beta: 0.2615\n",
      "========================================================\n",
      "SUPER Best model saved. Loss:0.6217, Score:0.2615\n",
      "========================================================\n",
      "Epoch 7/4000\n",
      "Current lambda: 0.5000\n"
     ]
    },
    {
     "name": "stderr",
     "output_type": "stream",
     "text": [
      "Training: 100%|██████████| 24/24 [00:36<00:00,  1.54s/it, loss=0.675]\n",
      "Validation: 100%|██████████| 4/4 [00:02<00:00,  1.39it/s, loss=0.639]\n"
     ]
    },
    {
     "name": "stdout",
     "output_type": "stream",
     "text": [
      "Validation Dice Score\n",
      "Class 0: 0.0270, Class 1: 0.0155, Class 2: 0.0017, Class 3: 0.0010, \n",
      "Class 4: 0.2026, Class 5: 0.1985, Class 6: 0.3266, \n",
      "Validation F-beta Score\n",
      "Class 0: 0.0145, Class 1: 0.0906, Class 2: 0.0136, Class 3: 0.0083, \n",
      "Class 4: 0.1619, Class 5: 0.2515, Class 6: 0.4640, \n",
      "Overall Mean Dice Score: 0.1488\n",
      "Overall Mean F-beta Score: 0.1952\n",
      "\n",
      "Training Loss: 0.6475, Validation Loss: 0.6525, Validation F-beta: 0.1952\n",
      "Epoch 8/4000\n",
      "Current lambda: 0.5000\n"
     ]
    },
    {
     "name": "stderr",
     "output_type": "stream",
     "text": [
      "Training: 100%|██████████| 24/24 [00:36<00:00,  1.54s/it, loss=0.655]\n",
      "Validation: 100%|██████████| 4/4 [00:02<00:00,  1.39it/s, loss=0.69] \n"
     ]
    },
    {
     "name": "stdout",
     "output_type": "stream",
     "text": [
      "Validation Dice Score\n",
      "Class 0: 0.0318, Class 1: 0.0068, Class 2: 0.0005, Class 3: 0.0008, \n",
      "Class 4: 0.3078, Class 5: 0.0995, Class 6: 0.0022, \n",
      "Validation F-beta Score\n",
      "Class 0: 0.0172, Class 1: 0.0109, Class 2: 0.0042, Class 3: 0.0063, \n",
      "Class 4: 0.3659, Class 5: 0.1513, Class 6: 0.0028, \n",
      "Overall Mean Dice Score: 0.0834\n",
      "Overall Mean F-beta Score: 0.1074\n",
      "\n",
      "Training Loss: 0.6388, Validation Loss: 0.6781, Validation F-beta: 0.1074\n",
      "Epoch 9/4000\n",
      "Current lambda: 0.5000\n"
     ]
    },
    {
     "name": "stderr",
     "output_type": "stream",
     "text": [
      "Training: 100%|██████████| 24/24 [00:37<00:00,  1.54s/it, loss=0.61] \n",
      "Validation: 100%|██████████| 4/4 [00:02<00:00,  1.39it/s, loss=0.599]\n"
     ]
    },
    {
     "name": "stdout",
     "output_type": "stream",
     "text": [
      "Validation Dice Score\n",
      "Class 0: 0.0250, Class 1: 0.0630, Class 2: 0.0012, Class 3: 0.0014, \n",
      "Class 4: 0.3102, Class 5: 0.2831, Class 6: 0.2387, \n",
      "Validation F-beta Score\n",
      "Class 0: 0.0134, Class 1: 0.0948, Class 2: 0.0101, Class 3: 0.0111, \n",
      "Class 4: 0.2825, Class 5: 0.4100, Class 6: 0.2731, \n",
      "Overall Mean Dice Score: 0.1793\n",
      "Overall Mean F-beta Score: 0.2143\n",
      "\n",
      "Training Loss: 0.6259, Validation Loss: 0.6369, Validation F-beta: 0.2143\n",
      "Epoch 10/4000\n",
      "Current lambda: 0.5000\n"
     ]
    },
    {
     "name": "stderr",
     "output_type": "stream",
     "text": [
      "Training: 100%|██████████| 24/24 [00:36<00:00,  1.54s/it, loss=0.605]\n",
      "Validation: 100%|██████████| 4/4 [00:02<00:00,  1.42it/s, loss=0.663]\n"
     ]
    },
    {
     "name": "stdout",
     "output_type": "stream",
     "text": [
      "Validation Dice Score\n",
      "Class 0: 0.0154, Class 1: 0.0298, Class 2: 0.0014, Class 3: 0.0023, \n",
      "Class 4: 0.1865, Class 5: 0.1548, Class 6: 0.1461, \n",
      "Validation F-beta Score\n",
      "Class 0: 0.0083, Class 1: 0.1416, Class 2: 0.0115, Class 3: 0.0179, \n",
      "Class 4: 0.2290, Class 5: 0.2026, Class 6: 0.2516, \n",
      "Overall Mean Dice Score: 0.1039\n",
      "Overall Mean F-beta Score: 0.1686\n",
      "\n",
      "Training Loss: 0.6399, Validation Loss: 0.6716, Validation F-beta: 0.1686\n",
      "Epoch 11/4000\n",
      "Current lambda: 0.5000\n"
     ]
    },
    {
     "name": "stderr",
     "output_type": "stream",
     "text": [
      "Training: 100%|██████████| 24/24 [00:36<00:00,  1.54s/it, loss=0.631]\n",
      "Validation: 100%|██████████| 4/4 [00:02<00:00,  1.37it/s, loss=0.644]\n"
     ]
    },
    {
     "name": "stdout",
     "output_type": "stream",
     "text": [
      "Validation Dice Score\n",
      "Class 0: 0.0081, Class 1: 0.0557, Class 2: 0.0014, Class 3: 0.0015, \n",
      "Class 4: 0.4266, Class 5: 0.2793, Class 6: 0.2056, \n",
      "Validation F-beta Score\n",
      "Class 0: 0.0043, Class 1: 0.0880, Class 2: 0.0110, Class 3: 0.0117, \n",
      "Class 4: 0.3844, Class 5: 0.2685, Class 6: 0.1962, \n",
      "Overall Mean Dice Score: 0.1937\n",
      "Overall Mean F-beta Score: 0.1897\n",
      "\n",
      "Training Loss: 0.6403, Validation Loss: 0.6236, Validation F-beta: 0.1897\n",
      "Epoch 12/4000\n",
      "Current lambda: 0.5000\n"
     ]
    },
    {
     "name": "stderr",
     "output_type": "stream",
     "text": [
      "Training: 100%|██████████| 24/24 [00:37<00:00,  1.54s/it, loss=0.555]\n",
      "Validation: 100%|██████████| 4/4 [00:02<00:00,  1.40it/s, loss=0.576]\n"
     ]
    },
    {
     "name": "stdout",
     "output_type": "stream",
     "text": [
      "Validation Dice Score\n",
      "Class 0: 0.0053, Class 1: 0.1057, Class 2: 0.0002, Class 3: 0.0022, \n",
      "Class 4: 0.3158, Class 5: 0.3735, Class 6: 0.3083, \n",
      "Validation F-beta Score\n",
      "Class 0: 0.0028, Class 1: 0.1510, Class 2: 0.0014, Class 3: 0.0171, \n",
      "Class 4: 0.4109, Class 5: 0.5293, Class 6: 0.3303, \n",
      "Overall Mean Dice Score: 0.2211\n",
      "Overall Mean F-beta Score: 0.2877\n",
      "\n",
      "Training Loss: 0.6296, Validation Loss: 0.6196, Validation F-beta: 0.2877\n",
      "========================================================\n",
      "SUPER Best model saved. Loss:0.6196, Score:0.2877\n",
      "========================================================\n",
      "Epoch 13/4000\n",
      "Current lambda: 0.5000\n"
     ]
    },
    {
     "name": "stderr",
     "output_type": "stream",
     "text": [
      "Training: 100%|██████████| 24/24 [00:36<00:00,  1.54s/it, loss=0.659]\n",
      "Validation: 100%|██████████| 4/4 [00:02<00:00,  1.41it/s, loss=0.613]\n"
     ]
    },
    {
     "name": "stdout",
     "output_type": "stream",
     "text": [
      "Validation Dice Score\n",
      "Class 0: 0.0031, Class 1: 0.1099, Class 2: 0.0004, Class 3: 0.0015, \n",
      "Class 4: 0.4358, Class 5: 0.1691, Class 6: 0.2042, \n",
      "Validation F-beta Score\n",
      "Class 0: 0.0016, Class 1: 0.1868, Class 2: 0.0034, Class 3: 0.0125, \n",
      "Class 4: 0.5374, Class 5: 0.2373, Class 6: 0.3745, \n",
      "Overall Mean Dice Score: 0.1841\n",
      "Overall Mean F-beta Score: 0.2697\n",
      "\n",
      "Training Loss: 0.6314, Validation Loss: 0.6373, Validation F-beta: 0.2697\n",
      "Epoch 14/4000\n",
      "Current lambda: 0.5000\n"
     ]
    },
    {
     "name": "stderr",
     "output_type": "stream",
     "text": [
      "Training: 100%|██████████| 24/24 [00:36<00:00,  1.54s/it, loss=0.64] \n",
      "Validation: 100%|██████████| 4/4 [00:02<00:00,  1.41it/s, loss=0.556]\n"
     ]
    },
    {
     "name": "stdout",
     "output_type": "stream",
     "text": [
      "Validation Dice Score\n",
      "Class 0: 0.0014, Class 1: 0.1155, Class 2: 0.0001, Class 3: 0.0031, \n",
      "Class 4: 0.2859, Class 5: 0.4562, Class 6: 0.6001, \n",
      "Validation F-beta Score\n",
      "Class 0: 0.0008, Class 1: 0.1444, Class 2: 0.0008, Class 3: 0.0255, \n",
      "Class 4: 0.2644, Class 5: 0.5538, Class 6: 0.7073, \n",
      "Overall Mean Dice Score: 0.2922\n",
      "Overall Mean F-beta Score: 0.3391\n",
      "\n",
      "Training Loss: 0.6304, Validation Loss: 0.5786, Validation F-beta: 0.3391\n",
      "========================================================\n",
      "SUPER Best model saved. Loss:0.5786, Score:0.3391\n",
      "========================================================\n",
      "Epoch 15/4000\n",
      "Current lambda: 0.5000\n"
     ]
    },
    {
     "name": "stderr",
     "output_type": "stream",
     "text": [
      "Training: 100%|██████████| 24/24 [00:36<00:00,  1.54s/it, loss=0.603]\n",
      "Validation: 100%|██████████| 4/4 [00:02<00:00,  1.41it/s, loss=0.634]\n"
     ]
    },
    {
     "name": "stdout",
     "output_type": "stream",
     "text": [
      "Validation Dice Score\n",
      "Class 0: 0.0000, Class 1: 0.1106, Class 2: 0.0015, Class 3: 0.0024, \n",
      "Class 4: 0.2782, Class 5: 0.3614, Class 6: 0.2901, \n",
      "Validation F-beta Score\n",
      "Class 0: 0.0000, Class 1: 0.1987, Class 2: 0.0118, Class 3: 0.0189, \n",
      "Class 4: 0.2728, Class 5: 0.3490, Class 6: 0.3570, \n",
      "Overall Mean Dice Score: 0.2085\n",
      "Overall Mean F-beta Score: 0.2393\n",
      "\n",
      "Training Loss: 0.6211, Validation Loss: 0.6199, Validation F-beta: 0.2393\n",
      "Epoch 16/4000\n",
      "Current lambda: 0.5000\n"
     ]
    },
    {
     "name": "stderr",
     "output_type": "stream",
     "text": [
      "Training: 100%|██████████| 24/24 [00:36<00:00,  1.54s/it, loss=0.545]\n",
      "Validation: 100%|██████████| 4/4 [00:02<00:00,  1.41it/s, loss=0.587]\n"
     ]
    },
    {
     "name": "stdout",
     "output_type": "stream",
     "text": [
      "Validation Dice Score\n",
      "Class 0: 0.0000, Class 1: 0.2076, Class 2: 0.0004, Class 3: 0.0007, \n",
      "Class 4: 0.1437, Class 5: 0.3658, Class 6: 0.3820, \n",
      "Validation F-beta Score\n",
      "Class 0: 0.0000, Class 1: 0.4017, Class 2: 0.0033, Class 3: 0.0054, \n",
      "Class 4: 0.1683, Class 5: 0.4338, Class 6: 0.5812, \n",
      "Overall Mean Dice Score: 0.2199\n",
      "Overall Mean F-beta Score: 0.3181\n",
      "\n",
      "Training Loss: 0.6061, Validation Loss: 0.6148, Validation F-beta: 0.3181\n",
      "Epoch 17/4000\n",
      "Current lambda: 0.5000\n"
     ]
    },
    {
     "name": "stderr",
     "output_type": "stream",
     "text": [
      "Training: 100%|██████████| 24/24 [00:36<00:00,  1.53s/it, loss=0.529]\n",
      "Validation: 100%|██████████| 4/4 [00:02<00:00,  1.40it/s, loss=0.544]\n"
     ]
    },
    {
     "name": "stdout",
     "output_type": "stream",
     "text": [
      "Validation Dice Score\n",
      "Class 0: 0.0000, Class 1: 0.1185, Class 2: 0.0002, Class 3: 0.0010, \n",
      "Class 4: 0.1380, Class 5: 0.2780, Class 6: 0.6194, \n",
      "Validation F-beta Score\n",
      "Class 0: 0.0000, Class 1: 0.0965, Class 2: 0.0020, Class 3: 0.0078, \n",
      "Class 4: 0.1162, Class 5: 0.3466, Class 6: 0.8717, \n",
      "Overall Mean Dice Score: 0.2310\n",
      "Overall Mean F-beta Score: 0.2878\n",
      "\n",
      "Training Loss: 0.6164, Validation Loss: 0.5939, Validation F-beta: 0.2878\n",
      "Epoch 18/4000\n",
      "Current lambda: 0.5000\n"
     ]
    },
    {
     "name": "stderr",
     "output_type": "stream",
     "text": [
      "Training: 100%|██████████| 24/24 [00:36<00:00,  1.54s/it, loss=0.585]\n",
      "Validation: 100%|██████████| 4/4 [00:02<00:00,  1.38it/s, loss=0.613]\n"
     ]
    },
    {
     "name": "stdout",
     "output_type": "stream",
     "text": [
      "Validation Dice Score\n",
      "Class 0: 0.0000, Class 1: 0.1303, Class 2: 0.0010, Class 3: 0.0015, \n",
      "Class 4: 0.1148, Class 5: 0.3243, Class 6: 0.4148, \n",
      "Validation F-beta Score\n",
      "Class 0: 0.0000, Class 1: 0.1316, Class 2: 0.0078, Class 3: 0.0124, \n",
      "Class 4: 0.0742, Class 5: 0.4155, Class 6: 0.6392, \n",
      "Overall Mean Dice Score: 0.1972\n",
      "Overall Mean F-beta Score: 0.2546\n",
      "\n",
      "Training Loss: 0.6200, Validation Loss: 0.6212, Validation F-beta: 0.2546\n",
      "Epoch 19/4000\n",
      "Current lambda: 0.5000\n"
     ]
    },
    {
     "name": "stderr",
     "output_type": "stream",
     "text": [
      "Training: 100%|██████████| 24/24 [00:37<00:00,  1.55s/it, loss=0.555]\n",
      "Validation: 100%|██████████| 4/4 [00:02<00:00,  1.42it/s, loss=0.675]\n"
     ]
    },
    {
     "name": "stdout",
     "output_type": "stream",
     "text": [
      "Validation Dice Score\n",
      "Class 0: 0.0000, Class 1: 0.4102, Class 2: 0.0017, Class 3: 0.0040, \n",
      "Class 4: 0.3546, Class 5: 0.3885, Class 6: 0.3313, \n",
      "Validation F-beta Score\n",
      "Class 0: 0.0000, Class 1: 0.3851, Class 2: 0.0137, Class 3: 0.0324, \n",
      "Class 4: 0.4846, Class 5: 0.3747, Class 6: 0.3613, \n",
      "Overall Mean Dice Score: 0.2977\n",
      "Overall Mean F-beta Score: 0.3276\n",
      "\n",
      "Training Loss: 0.6032, Validation Loss: 0.5793, Validation F-beta: 0.3276\n",
      "Epoch 20/4000\n",
      "Current lambda: 0.5000\n"
     ]
    },
    {
     "name": "stderr",
     "output_type": "stream",
     "text": [
      "Training: 100%|██████████| 24/24 [00:37<00:00,  1.54s/it, loss=0.577]\n",
      "Validation: 100%|██████████| 4/4 [00:02<00:00,  1.39it/s, loss=0.593]\n"
     ]
    },
    {
     "name": "stdout",
     "output_type": "stream",
     "text": [
      "Validation Dice Score\n",
      "Class 0: 0.0000, Class 1: 0.3263, Class 2: 0.0008, Class 3: 0.0027, \n",
      "Class 4: 0.3429, Class 5: 0.1873, Class 6: 0.4813, \n",
      "Validation F-beta Score\n",
      "Class 0: 0.0000, Class 1: 0.2388, Class 2: 0.0063, Class 3: 0.0222, \n",
      "Class 4: 0.3323, Class 5: 0.2080, Class 6: 0.4777, \n",
      "Overall Mean Dice Score: 0.2681\n",
      "Overall Mean F-beta Score: 0.2558\n",
      "\n",
      "Training Loss: 0.6050, Validation Loss: 0.6047, Validation F-beta: 0.2558\n",
      "Epoch 21/4000\n",
      "Current lambda: 0.5000\n"
     ]
    },
    {
     "name": "stderr",
     "output_type": "stream",
     "text": [
      "Training: 100%|██████████| 24/24 [00:36<00:00,  1.54s/it, loss=0.531]\n",
      "Validation: 100%|██████████| 4/4 [00:02<00:00,  1.41it/s, loss=0.564]\n"
     ]
    },
    {
     "name": "stdout",
     "output_type": "stream",
     "text": [
      "Validation Dice Score\n",
      "Class 0: 0.0000, Class 1: 0.3413, Class 2: 0.0009, Class 3: 0.0008, \n",
      "Class 4: 0.4852, Class 5: 0.2490, Class 6: 0.2800, \n",
      "Validation F-beta Score\n",
      "Class 0: 0.0000, Class 1: 0.4140, Class 2: 0.0074, Class 3: 0.0063, \n",
      "Class 4: 0.4846, Class 5: 0.2857, Class 6: 0.2758, \n",
      "Overall Mean Dice Score: 0.2713\n",
      "Overall Mean F-beta Score: 0.2933\n",
      "\n",
      "Training Loss: 0.6114, Validation Loss: 0.6012, Validation F-beta: 0.2933\n",
      "Epoch 22/4000\n",
      "Current lambda: 0.5000\n"
     ]
    },
    {
     "name": "stderr",
     "output_type": "stream",
     "text": [
      "Training: 100%|██████████| 24/24 [00:36<00:00,  1.54s/it, loss=0.619]\n",
      "Validation: 100%|██████████| 4/4 [00:02<00:00,  1.38it/s, loss=0.499]\n"
     ]
    },
    {
     "name": "stdout",
     "output_type": "stream",
     "text": [
      "Validation Dice Score\n",
      "Class 0: 0.0000, Class 1: 0.3087, Class 2: 0.0025, Class 3: 0.0024, \n",
      "Class 4: 0.2400, Class 5: 0.4801, Class 6: 0.4385, \n",
      "Validation F-beta Score\n",
      "Class 0: 0.0000, Class 1: 0.3418, Class 2: 0.0201, Class 3: 0.0193, \n",
      "Class 4: 0.3791, Class 5: 0.4929, Class 6: 0.5694, \n",
      "Overall Mean Dice Score: 0.2939\n",
      "Overall Mean F-beta Score: 0.3605\n",
      "\n",
      "Training Loss: 0.5972, Validation Loss: 0.5677, Validation F-beta: 0.3605\n",
      "========================================================\n",
      "SUPER Best model saved. Loss:0.5677, Score:0.3605\n",
      "========================================================\n",
      "Epoch 23/4000\n",
      "Current lambda: 0.5000\n"
     ]
    },
    {
     "name": "stderr",
     "output_type": "stream",
     "text": [
      "Training: 100%|██████████| 24/24 [00:37<00:00,  1.55s/it, loss=0.576]\n",
      "Validation: 100%|██████████| 4/4 [00:02<00:00,  1.40it/s, loss=0.583]\n"
     ]
    },
    {
     "name": "stdout",
     "output_type": "stream",
     "text": [
      "Validation Dice Score\n",
      "Class 0: 0.0000, Class 1: 0.0355, Class 2: 0.0002, Class 3: 0.0017, \n",
      "Class 4: 0.2954, Class 5: 0.4401, Class 6: 0.4380, \n",
      "Validation F-beta Score\n",
      "Class 0: 0.0000, Class 1: 0.2705, Class 2: 0.0020, Class 3: 0.0140, \n",
      "Class 4: 0.4379, Class 5: 0.5714, Class 6: 0.5132, \n",
      "Overall Mean Dice Score: 0.2421\n",
      "Overall Mean F-beta Score: 0.3614\n",
      "\n",
      "Training Loss: 0.6087, Validation Loss: 0.5959, Validation F-beta: 0.3614\n",
      "========================================================\n",
      "Best model saved based on F-beta score: 0.3614\n",
      "========================================================\n",
      "Epoch 24/4000\n",
      "Current lambda: 0.5000\n"
     ]
    },
    {
     "name": "stderr",
     "output_type": "stream",
     "text": [
      "Training: 100%|██████████| 24/24 [00:37<00:00,  1.54s/it, loss=0.636]\n",
      "Validation: 100%|██████████| 4/4 [00:02<00:00,  1.42it/s, loss=0.631]\n"
     ]
    },
    {
     "name": "stdout",
     "output_type": "stream",
     "text": [
      "Validation Dice Score\n",
      "Class 0: 0.0000, Class 1: 0.1920, Class 2: 0.0006, Class 3: 0.0026, \n",
      "Class 4: 0.4604, Class 5: 0.2934, Class 6: 0.3766, \n",
      "Validation F-beta Score\n",
      "Class 0: 0.0000, Class 1: 0.3178, Class 2: 0.0050, Class 3: 0.0208, \n",
      "Class 4: 0.4955, Class 5: 0.4721, Class 6: 0.5199, \n",
      "Overall Mean Dice Score: 0.2650\n",
      "Overall Mean F-beta Score: 0.3652\n",
      "\n",
      "Training Loss: 0.5909, Validation Loss: 0.6003, Validation F-beta: 0.3652\n",
      "========================================================\n",
      "Best model saved based on F-beta score: 0.3652\n",
      "========================================================\n",
      "Epoch 25/4000\n",
      "Current lambda: 0.5000\n"
     ]
    },
    {
     "name": "stderr",
     "output_type": "stream",
     "text": [
      "Training: 100%|██████████| 24/24 [00:37<00:00,  1.55s/it, loss=0.639]\n",
      "Validation: 100%|██████████| 4/4 [00:02<00:00,  1.38it/s, loss=0.576]\n"
     ]
    },
    {
     "name": "stdout",
     "output_type": "stream",
     "text": [
      "Validation Dice Score\n",
      "Class 0: 0.0000, Class 1: 0.2208, Class 2: 0.0005, Class 3: 0.0003, \n",
      "Class 4: 0.3797, Class 5: 0.3338, Class 6: 0.4889, \n",
      "Validation F-beta Score\n",
      "Class 0: 0.0000, Class 1: 0.5447, Class 2: 0.0044, Class 3: 0.0025, \n",
      "Class 4: 0.4750, Class 5: 0.3609, Class 6: 0.6014, \n",
      "Overall Mean Dice Score: 0.2847\n",
      "Overall Mean F-beta Score: 0.3969\n",
      "\n",
      "Training Loss: 0.6214, Validation Loss: 0.5847, Validation F-beta: 0.3969\n",
      "========================================================\n",
      "Best model saved based on F-beta score: 0.3969\n",
      "========================================================\n",
      "Epoch 26/4000\n",
      "Current lambda: 0.5000\n"
     ]
    },
    {
     "name": "stderr",
     "output_type": "stream",
     "text": [
      "Training: 100%|██████████| 24/24 [00:37<00:00,  1.56s/it, loss=0.621]\n",
      "Validation: 100%|██████████| 4/4 [00:02<00:00,  1.40it/s, loss=0.587]\n"
     ]
    },
    {
     "name": "stdout",
     "output_type": "stream",
     "text": [
      "Validation Dice Score\n",
      "Class 0: 0.0000, Class 1: 0.4515, Class 2: 0.0007, Class 3: 0.0023, \n",
      "Class 4: 0.3876, Class 5: 0.3638, Class 6: 0.3861, \n",
      "Validation F-beta Score\n",
      "Class 0: 0.0000, Class 1: 0.6259, Class 2: 0.0056, Class 3: 0.0185, \n",
      "Class 4: 0.4700, Class 5: 0.4064, Class 6: 0.4268, \n",
      "Overall Mean Dice Score: 0.3183\n",
      "Overall Mean F-beta Score: 0.3895\n",
      "\n",
      "Training Loss: 0.5984, Validation Loss: 0.5572, Validation F-beta: 0.3895\n",
      "========================================================\n",
      "Best model saved based on validation loss: 0.5572\n",
      "========================================================\n",
      "Epoch 27/4000\n",
      "Current lambda: 0.5000\n"
     ]
    },
    {
     "name": "stderr",
     "output_type": "stream",
     "text": [
      "Training: 100%|██████████| 24/24 [00:37<00:00,  1.54s/it, loss=0.624]\n",
      "Validation: 100%|██████████| 4/4 [00:02<00:00,  1.37it/s, loss=0.615]\n"
     ]
    },
    {
     "name": "stdout",
     "output_type": "stream",
     "text": [
      "Validation Dice Score\n",
      "Class 0: 0.0000, Class 1: 0.3509, Class 2: 0.0005, Class 3: 0.0019, \n",
      "Class 4: 0.4580, Class 5: 0.2983, Class 6: 0.1425, \n",
      "Validation F-beta Score\n",
      "Class 0: 0.0000, Class 1: 0.4926, Class 2: 0.0042, Class 3: 0.0148, \n",
      "Class 4: 0.4960, Class 5: 0.3754, Class 6: 0.1675, \n",
      "Overall Mean Dice Score: 0.2503\n",
      "Overall Mean F-beta Score: 0.3093\n",
      "\n",
      "Training Loss: 0.5988, Validation Loss: 0.6060, Validation F-beta: 0.3093\n",
      "Epoch 28/4000\n",
      "Current lambda: 0.5000\n"
     ]
    },
    {
     "name": "stderr",
     "output_type": "stream",
     "text": [
      "Training: 100%|██████████| 24/24 [00:36<00:00,  1.53s/it, loss=0.614]\n",
      "Validation: 100%|██████████| 4/4 [00:02<00:00,  1.39it/s, loss=0.603]\n"
     ]
    },
    {
     "name": "stdout",
     "output_type": "stream",
     "text": [
      "Validation Dice Score\n",
      "Class 0: 0.0000, Class 1: 0.2970, Class 2: 0.0006, Class 3: 0.0017, \n",
      "Class 4: 0.4740, Class 5: 0.3013, Class 6: 0.1879, \n",
      "Validation F-beta Score\n",
      "Class 0: 0.0000, Class 1: 0.4605, Class 2: 0.0053, Class 3: 0.0137, \n",
      "Class 4: 0.6802, Class 5: 0.4244, Class 6: 0.1868, \n",
      "Overall Mean Dice Score: 0.2524\n",
      "Overall Mean F-beta Score: 0.3531\n",
      "\n",
      "Training Loss: 0.5882, Validation Loss: 0.5956, Validation F-beta: 0.3531\n",
      "Epoch 29/4000\n",
      "Current lambda: 0.5000\n"
     ]
    },
    {
     "name": "stderr",
     "output_type": "stream",
     "text": [
      "Training: 100%|██████████| 24/24 [00:36<00:00,  1.54s/it, loss=0.595]\n",
      "Validation: 100%|██████████| 4/4 [00:02<00:00,  1.38it/s, loss=0.628]\n"
     ]
    },
    {
     "name": "stdout",
     "output_type": "stream",
     "text": [
      "Validation Dice Score\n",
      "Class 0: 0.0000, Class 1: 0.4409, Class 2: 0.0006, Class 3: 0.0009, \n",
      "Class 4: 0.1223, Class 5: 0.3098, Class 6: 0.5897, \n",
      "Validation F-beta Score\n",
      "Class 0: 0.0000, Class 1: 0.4263, Class 2: 0.0050, Class 3: 0.0075, \n",
      "Class 4: 0.2109, Class 5: 0.4005, Class 6: 0.7327, \n",
      "Overall Mean Dice Score: 0.2927\n",
      "Overall Mean F-beta Score: 0.3556\n",
      "\n",
      "Training Loss: 0.6007, Validation Loss: 0.5726, Validation F-beta: 0.3556\n",
      "Epoch 30/4000\n",
      "Current lambda: 0.5000\n"
     ]
    },
    {
     "name": "stderr",
     "output_type": "stream",
     "text": [
      "Training: 100%|██████████| 24/24 [00:36<00:00,  1.53s/it, loss=0.607]\n",
      "Validation: 100%|██████████| 4/4 [00:02<00:00,  1.41it/s, loss=0.569]\n"
     ]
    },
    {
     "name": "stdout",
     "output_type": "stream",
     "text": [
      "Validation Dice Score\n",
      "Class 0: 0.0000, Class 1: 0.4240, Class 2: 0.0014, Class 3: 0.0021, \n",
      "Class 4: 0.3773, Class 5: 0.3156, Class 6: 0.5216, \n",
      "Validation F-beta Score\n",
      "Class 0: 0.0000, Class 1: 0.4942, Class 2: 0.0114, Class 3: 0.0168, \n",
      "Class 4: 0.4094, Class 5: 0.4254, Class 6: 0.5946, \n",
      "Overall Mean Dice Score: 0.3281\n",
      "Overall Mean F-beta Score: 0.3881\n",
      "\n",
      "Training Loss: 0.5994, Validation Loss: 0.5741, Validation F-beta: 0.3881\n",
      "Epoch 31/4000\n",
      "Current lambda: 0.5000\n"
     ]
    },
    {
     "name": "stderr",
     "output_type": "stream",
     "text": [
      "Training: 100%|██████████| 24/24 [00:36<00:00,  1.54s/it, loss=0.546]\n",
      "Validation: 100%|██████████| 4/4 [00:02<00:00,  1.35it/s, loss=0.572]\n"
     ]
    },
    {
     "name": "stdout",
     "output_type": "stream",
     "text": [
      "Validation Dice Score\n",
      "Class 0: 0.0000, Class 1: 0.3454, Class 2: 0.0012, Class 3: 0.0033, \n",
      "Class 4: 0.3802, Class 5: 0.4034, Class 6: 0.4346, \n",
      "Validation F-beta Score\n",
      "Class 0: 0.0000, Class 1: 0.4561, Class 2: 0.0101, Class 3: 0.0265, \n",
      "Class 4: 0.4194, Class 5: 0.5054, Class 6: 0.4508, \n",
      "Overall Mean Dice Score: 0.3134\n",
      "Overall Mean F-beta Score: 0.3716\n",
      "\n",
      "Training Loss: 0.5889, Validation Loss: 0.5599, Validation F-beta: 0.3716\n",
      "Epoch 32/4000\n",
      "Current lambda: 0.5000\n"
     ]
    },
    {
     "name": "stderr",
     "output_type": "stream",
     "text": [
      "Training: 100%|██████████| 24/24 [00:36<00:00,  1.53s/it, loss=0.661]\n",
      "Validation: 100%|██████████| 4/4 [00:02<00:00,  1.41it/s, loss=0.519]\n"
     ]
    },
    {
     "name": "stdout",
     "output_type": "stream",
     "text": [
      "Validation Dice Score\n",
      "Class 0: 0.0000, Class 1: 0.3012, Class 2: 0.0008, Class 3: 0.0014, \n",
      "Class 4: 0.4844, Class 5: 0.3175, Class 6: 0.5369, \n",
      "Validation F-beta Score\n",
      "Class 0: 0.0000, Class 1: 0.3157, Class 2: 0.0066, Class 3: 0.0108, \n",
      "Class 4: 0.6211, Class 5: 0.3958, Class 6: 0.5117, \n",
      "Overall Mean Dice Score: 0.3283\n",
      "Overall Mean F-beta Score: 0.3710\n",
      "\n",
      "Training Loss: 0.5789, Validation Loss: 0.5641, Validation F-beta: 0.3710\n",
      "Epoch 33/4000\n",
      "Current lambda: 0.5000\n"
     ]
    },
    {
     "name": "stderr",
     "output_type": "stream",
     "text": [
      "Training: 100%|██████████| 24/24 [00:36<00:00,  1.54s/it, loss=0.614]\n",
      "Validation: 100%|██████████| 4/4 [00:02<00:00,  1.45it/s, loss=0.465]\n"
     ]
    },
    {
     "name": "stdout",
     "output_type": "stream",
     "text": [
      "Validation Dice Score\n",
      "Class 0: 0.0000, Class 1: 0.5157, Class 2: 0.0009, Class 3: 0.0029, \n",
      "Class 4: 0.3705, Class 5: 0.2671, Class 6: 0.5155, \n",
      "Validation F-beta Score\n",
      "Class 0: 0.0000, Class 1: 0.6137, Class 2: 0.0075, Class 3: 0.0232, \n",
      "Class 4: 0.3634, Class 5: 0.2773, Class 6: 0.4397, \n",
      "Overall Mean Dice Score: 0.3343\n",
      "Overall Mean F-beta Score: 0.3434\n",
      "\n",
      "Training Loss: 0.5966, Validation Loss: 0.5340, Validation F-beta: 0.3434\n",
      "========================================================\n",
      "Best model saved based on validation loss: 0.5340\n",
      "========================================================\n",
      "Epoch 34/4000\n",
      "Current lambda: 0.5000\n"
     ]
    },
    {
     "name": "stderr",
     "output_type": "stream",
     "text": [
      "Training: 100%|██████████| 24/24 [00:36<00:00,  1.53s/it, loss=0.554]\n",
      "Validation: 100%|██████████| 4/4 [00:02<00:00,  1.41it/s, loss=0.633]\n"
     ]
    },
    {
     "name": "stdout",
     "output_type": "stream",
     "text": [
      "Validation Dice Score\n",
      "Class 0: 0.0000, Class 1: 0.2409, Class 2: 0.0007, Class 3: 0.0025, \n",
      "Class 4: 0.2996, Class 5: 0.3921, Class 6: 0.6104, \n",
      "Validation F-beta Score\n",
      "Class 0: 0.0000, Class 1: 0.5751, Class 2: 0.0059, Class 3: 0.0200, \n",
      "Class 4: 0.2741, Class 5: 0.4842, Class 6: 0.6329, \n",
      "Overall Mean Dice Score: 0.3091\n",
      "Overall Mean F-beta Score: 0.3973\n",
      "\n",
      "Training Loss: 0.5801, Validation Loss: 0.5705, Validation F-beta: 0.3973\n",
      "========================================================\n",
      "Best model saved based on F-beta score: 0.3973\n",
      "========================================================\n",
      "Epoch 35/4000\n",
      "Current lambda: 0.5000\n"
     ]
    },
    {
     "name": "stderr",
     "output_type": "stream",
     "text": [
      "Training: 100%|██████████| 24/24 [00:36<00:00,  1.54s/it, loss=0.631]\n",
      "Validation: 100%|██████████| 4/4 [00:02<00:00,  1.43it/s, loss=0.544]\n"
     ]
    },
    {
     "name": "stdout",
     "output_type": "stream",
     "text": [
      "Validation Dice Score\n",
      "Class 0: 0.0000, Class 1: 0.3879, Class 2: 0.0003, Class 3: 0.0017, \n",
      "Class 4: 0.3055, Class 5: 0.3805, Class 6: 0.5424, \n",
      "Validation F-beta Score\n",
      "Class 0: 0.0000, Class 1: 0.3576, Class 2: 0.0026, Class 3: 0.0135, \n",
      "Class 4: 0.3664, Class 5: 0.4381, Class 6: 0.7986, \n",
      "Overall Mean Dice Score: 0.3236\n",
      "Overall Mean F-beta Score: 0.3948\n",
      "\n",
      "Training Loss: 0.5750, Validation Loss: 0.5601, Validation F-beta: 0.3948\n",
      "Epoch 36/4000\n",
      "Current lambda: 0.5000\n"
     ]
    },
    {
     "name": "stderr",
     "output_type": "stream",
     "text": [
      "Training: 100%|██████████| 24/24 [00:37<00:00,  1.55s/it, loss=0.611]\n",
      "Validation: 100%|██████████| 4/4 [00:02<00:00,  1.40it/s, loss=0.547]\n"
     ]
    },
    {
     "name": "stdout",
     "output_type": "stream",
     "text": [
      "Validation Dice Score\n",
      "Class 0: 0.0000, Class 1: 0.4298, Class 2: 0.0009, Class 3: 0.0017, \n",
      "Class 4: 0.4753, Class 5: 0.2763, Class 6: 0.6391, \n",
      "Validation F-beta Score\n",
      "Class 0: 0.0000, Class 1: 0.5450, Class 2: 0.0076, Class 3: 0.0142, \n",
      "Class 4: 0.5775, Class 5: 0.4267, Class 6: 0.7890, \n",
      "Overall Mean Dice Score: 0.3644\n",
      "Overall Mean F-beta Score: 0.4705\n",
      "\n",
      "Training Loss: 0.5911, Validation Loss: 0.5507, Validation F-beta: 0.4705\n",
      "========================================================\n",
      "Best model saved based on F-beta score: 0.4705\n",
      "========================================================\n",
      "Epoch 37/4000\n",
      "Current lambda: 0.5000\n"
     ]
    },
    {
     "name": "stderr",
     "output_type": "stream",
     "text": [
      "Training: 100%|██████████| 24/24 [00:37<00:00,  1.54s/it, loss=0.636]\n",
      "Validation: 100%|██████████| 4/4 [00:02<00:00,  1.43it/s, loss=0.562]\n"
     ]
    },
    {
     "name": "stdout",
     "output_type": "stream",
     "text": [
      "Validation Dice Score\n",
      "Class 0: 0.0000, Class 1: 0.1734, Class 2: 0.0014, Class 3: 0.0026, \n",
      "Class 4: 0.1649, Class 5: 0.2913, Class 6: 0.5707, \n",
      "Validation F-beta Score\n",
      "Class 0: 0.0000, Class 1: 0.1523, Class 2: 0.0111, Class 3: 0.0214, \n",
      "Class 4: 0.1260, Class 5: 0.3449, Class 6: 0.4869, \n",
      "Overall Mean Dice Score: 0.2406\n",
      "Overall Mean F-beta Score: 0.2263\n",
      "\n",
      "Training Loss: 0.5744, Validation Loss: 0.5930, Validation F-beta: 0.2263\n",
      "Epoch 38/4000\n",
      "Current lambda: 0.5000\n"
     ]
    },
    {
     "name": "stderr",
     "output_type": "stream",
     "text": [
      "Training: 100%|██████████| 24/24 [00:36<00:00,  1.53s/it, loss=0.548]\n",
      "Validation: 100%|██████████| 4/4 [00:02<00:00,  1.40it/s, loss=0.465]\n"
     ]
    },
    {
     "name": "stdout",
     "output_type": "stream",
     "text": [
      "Validation Dice Score\n",
      "Class 0: 0.0000, Class 1: 0.4899, Class 2: 0.0020, Class 3: 0.0018, \n",
      "Class 4: 0.4467, Class 5: 0.4061, Class 6: 0.7705, \n",
      "Validation F-beta Score\n",
      "Class 0: 0.0000, Class 1: 0.7009, Class 2: 0.0161, Class 3: 0.0148, \n",
      "Class 4: 0.5263, Class 5: 0.4964, Class 6: 0.8831, \n",
      "Overall Mean Dice Score: 0.4230\n",
      "Overall Mean F-beta Score: 0.5243\n",
      "\n",
      "Training Loss: 0.5820, Validation Loss: 0.5163, Validation F-beta: 0.5243\n",
      "========================================================\n",
      "SUPER Best model saved. Loss:0.5163, Score:0.5243\n",
      "========================================================\n",
      "Epoch 39/4000\n",
      "Current lambda: 0.5000\n"
     ]
    },
    {
     "name": "stderr",
     "output_type": "stream",
     "text": [
      "Training: 100%|██████████| 24/24 [00:36<00:00,  1.54s/it, loss=0.656]\n",
      "Validation: 100%|██████████| 4/4 [00:02<00:00,  1.42it/s, loss=0.553]\n"
     ]
    },
    {
     "name": "stdout",
     "output_type": "stream",
     "text": [
      "Validation Dice Score\n",
      "Class 0: 0.0000, Class 1: 0.3309, Class 2: 0.0001, Class 3: 0.0018, \n",
      "Class 4: 0.4645, Class 5: 0.1327, Class 6: 0.6740, \n",
      "Validation F-beta Score\n",
      "Class 0: 0.0000, Class 1: 0.7358, Class 2: 0.0011, Class 3: 0.0148, \n",
      "Class 4: 0.6231, Class 5: 0.1344, Class 6: 0.8545, \n",
      "Overall Mean Dice Score: 0.3208\n",
      "Overall Mean F-beta Score: 0.4725\n",
      "\n",
      "Training Loss: 0.5976, Validation Loss: 0.5673, Validation F-beta: 0.4725\n",
      "Epoch 40/4000\n",
      "Current lambda: 0.5000\n"
     ]
    },
    {
     "name": "stderr",
     "output_type": "stream",
     "text": [
      "Training: 100%|██████████| 24/24 [00:37<00:00,  1.55s/it, loss=0.541]\n",
      "Validation: 100%|██████████| 4/4 [00:02<00:00,  1.41it/s, loss=0.601]\n"
     ]
    },
    {
     "name": "stdout",
     "output_type": "stream",
     "text": [
      "Validation Dice Score\n",
      "Class 0: 0.0000, Class 1: 0.2492, Class 2: 0.0006, Class 3: 0.0011, \n",
      "Class 4: 0.3497, Class 5: 0.2691, Class 6: 0.2612, \n",
      "Validation F-beta Score\n",
      "Class 0: 0.0000, Class 1: 0.3104, Class 2: 0.0047, Class 3: 0.0089, \n",
      "Class 4: 0.4303, Class 5: 0.2724, Class 6: 0.3931, \n",
      "Overall Mean Dice Score: 0.2261\n",
      "Overall Mean F-beta Score: 0.2830\n",
      "\n",
      "Training Loss: 0.5816, Validation Loss: 0.6090, Validation F-beta: 0.2830\n",
      "Epoch 41/4000\n",
      "Current lambda: 0.5000\n"
     ]
    },
    {
     "name": "stderr",
     "output_type": "stream",
     "text": [
      "Training: 100%|██████████| 24/24 [00:36<00:00,  1.53s/it, loss=0.602]\n",
      "Validation: 100%|██████████| 4/4 [00:02<00:00,  1.40it/s, loss=0.557]\n"
     ]
    },
    {
     "name": "stdout",
     "output_type": "stream",
     "text": [
      "Validation Dice Score\n",
      "Class 0: 0.0000, Class 1: 0.6893, Class 2: 0.0011, Class 3: 0.0017, \n",
      "Class 4: 0.2960, Class 5: 0.2767, Class 6: 0.5945, \n",
      "Validation F-beta Score\n",
      "Class 0: 0.0000, Class 1: 0.7469, Class 2: 0.0088, Class 3: 0.0139, \n",
      "Class 4: 0.3224, Class 5: 0.2676, Class 6: 0.6708, \n",
      "Overall Mean Dice Score: 0.3717\n",
      "Overall Mean F-beta Score: 0.4043\n",
      "\n",
      "Training Loss: 0.5864, Validation Loss: 0.5424, Validation F-beta: 0.4043\n",
      "Epoch 42/4000\n",
      "Current lambda: 0.5000\n"
     ]
    },
    {
     "name": "stderr",
     "output_type": "stream",
     "text": [
      "Training: 100%|██████████| 24/24 [00:37<00:00,  1.55s/it, loss=0.62] \n",
      "Validation: 100%|██████████| 4/4 [00:02<00:00,  1.41it/s, loss=0.462]\n"
     ]
    },
    {
     "name": "stdout",
     "output_type": "stream",
     "text": [
      "Validation Dice Score\n",
      "Class 0: 0.0000, Class 1: 0.5289, Class 2: 0.0012, Class 3: 0.0025, \n",
      "Class 4: 0.5479, Class 5: 0.4245, Class 6: 0.6288, \n",
      "Validation F-beta Score\n",
      "Class 0: 0.0000, Class 1: 0.5037, Class 2: 0.0097, Class 3: 0.0205, \n",
      "Class 4: 0.5921, Class 5: 0.4458, Class 6: 0.6535, \n",
      "Overall Mean Dice Score: 0.4265\n",
      "Overall Mean F-beta Score: 0.4431\n",
      "\n",
      "Training Loss: 0.5768, Validation Loss: 0.5035, Validation F-beta: 0.4431\n",
      "========================================================\n",
      "Best model saved based on validation loss: 0.5035\n",
      "========================================================\n",
      "Epoch 43/4000\n",
      "Current lambda: 0.5000\n"
     ]
    },
    {
     "name": "stderr",
     "output_type": "stream",
     "text": [
      "Training: 100%|██████████| 24/24 [00:36<00:00,  1.54s/it, loss=0.576]\n",
      "Validation: 100%|██████████| 4/4 [00:02<00:00,  1.44it/s, loss=0.563]\n"
     ]
    },
    {
     "name": "stdout",
     "output_type": "stream",
     "text": [
      "Validation Dice Score\n",
      "Class 0: 0.0000, Class 1: 0.5369, Class 2: 0.0002, Class 3: 0.0031, \n",
      "Class 4: 0.2165, Class 5: 0.4015, Class 6: 0.4363, \n",
      "Validation F-beta Score\n",
      "Class 0: 0.0000, Class 1: 0.5170, Class 2: 0.0015, Class 3: 0.0248, \n",
      "Class 4: 0.2202, Class 5: 0.3779, Class 6: 0.5232, \n",
      "Overall Mean Dice Score: 0.3189\n",
      "Overall Mean F-beta Score: 0.3326\n",
      "\n",
      "Training Loss: 0.5677, Validation Loss: 0.5680, Validation F-beta: 0.3326\n",
      "Epoch 44/4000\n",
      "Current lambda: 0.5000\n"
     ]
    },
    {
     "name": "stderr",
     "output_type": "stream",
     "text": [
      "Training: 100%|██████████| 24/24 [00:38<00:00,  1.59s/it, loss=0.595]\n",
      "Validation: 100%|██████████| 4/4 [00:02<00:00,  1.40it/s, loss=0.583]\n"
     ]
    },
    {
     "name": "stdout",
     "output_type": "stream",
     "text": [
      "Validation Dice Score\n",
      "Class 0: 0.0000, Class 1: 0.2591, Class 2: 0.0005, Class 3: 0.0019, \n",
      "Class 4: 0.4735, Class 5: 0.4151, Class 6: 0.4255, \n",
      "Validation F-beta Score\n",
      "Class 0: 0.0000, Class 1: 0.4167, Class 2: 0.0042, Class 3: 0.0151, \n",
      "Class 4: 0.4840, Class 5: 0.5051, Class 6: 0.5026, \n",
      "Overall Mean Dice Score: 0.3150\n",
      "Overall Mean F-beta Score: 0.3847\n",
      "\n",
      "Training Loss: 0.5784, Validation Loss: 0.5623, Validation F-beta: 0.3847\n",
      "Epoch 45/4000\n",
      "Current lambda: 0.5000\n"
     ]
    },
    {
     "name": "stderr",
     "output_type": "stream",
     "text": [
      "Training: 100%|██████████| 24/24 [00:37<00:00,  1.54s/it, loss=0.508]\n",
      "Validation: 100%|██████████| 4/4 [00:02<00:00,  1.38it/s, loss=0.546]\n"
     ]
    },
    {
     "name": "stdout",
     "output_type": "stream",
     "text": [
      "Validation Dice Score\n",
      "Class 0: 0.0000, Class 1: 0.4947, Class 2: 0.0007, Class 3: 0.0030, \n",
      "Class 4: 0.2461, Class 5: 0.2047, Class 6: 0.7601, \n",
      "Validation F-beta Score\n",
      "Class 0: 0.0000, Class 1: 0.7425, Class 2: 0.0055, Class 3: 0.0238, \n",
      "Class 4: 0.2306, Class 5: 0.1839, Class 6: 0.8142, \n",
      "Overall Mean Dice Score: 0.3417\n",
      "Overall Mean F-beta Score: 0.3990\n",
      "\n",
      "Training Loss: 0.5725, Validation Loss: 0.5537, Validation F-beta: 0.3990\n",
      "Epoch 46/4000\n",
      "Current lambda: 0.5000\n"
     ]
    },
    {
     "name": "stderr",
     "output_type": "stream",
     "text": [
      "Training: 100%|██████████| 24/24 [00:36<00:00,  1.53s/it, loss=0.564]\n",
      "Validation: 100%|██████████| 4/4 [00:02<00:00,  1.43it/s, loss=0.57] \n"
     ]
    },
    {
     "name": "stdout",
     "output_type": "stream",
     "text": [
      "Validation Dice Score\n",
      "Class 0: 0.0000, Class 1: 0.3332, Class 2: 0.0003, Class 3: 0.0010, \n",
      "Class 4: 0.3942, Class 5: 0.4303, Class 6: 0.8813, \n",
      "Validation F-beta Score\n",
      "Class 0: 0.0000, Class 1: 0.4286, Class 2: 0.0028, Class 3: 0.0077, \n",
      "Class 4: 0.4572, Class 5: 0.5513, Class 6: 0.9044, \n",
      "Overall Mean Dice Score: 0.4080\n",
      "Overall Mean F-beta Score: 0.4699\n",
      "\n",
      "Training Loss: 0.5746, Validation Loss: 0.5385, Validation F-beta: 0.4699\n",
      "Epoch 47/4000\n",
      "Current lambda: 0.5000\n"
     ]
    },
    {
     "name": "stderr",
     "output_type": "stream",
     "text": [
      "Training: 100%|██████████| 24/24 [00:37<00:00,  1.54s/it, loss=0.554]\n",
      "Validation: 100%|██████████| 4/4 [00:02<00:00,  1.41it/s, loss=0.553]\n"
     ]
    },
    {
     "name": "stdout",
     "output_type": "stream",
     "text": [
      "Validation Dice Score\n",
      "Class 0: 0.0000, Class 1: 0.6922, Class 2: 0.0011, Class 3: 0.0026, \n",
      "Class 4: 0.4260, Class 5: 0.3213, Class 6: 0.6505, \n",
      "Validation F-beta Score\n",
      "Class 0: 0.0000, Class 1: 0.6201, Class 2: 0.0090, Class 3: 0.0207, \n",
      "Class 4: 0.4330, Class 5: 0.4494, Class 6: 0.5852, \n",
      "Overall Mean Dice Score: 0.4185\n",
      "Overall Mean F-beta Score: 0.4217\n",
      "\n",
      "Training Loss: 0.5580, Validation Loss: 0.5593, Validation F-beta: 0.4217\n",
      "Epoch 48/4000\n",
      "Current lambda: 0.5000\n"
     ]
    },
    {
     "name": "stderr",
     "output_type": "stream",
     "text": [
      "Training: 100%|██████████| 24/24 [00:37<00:00,  1.54s/it, loss=0.579]\n",
      "Validation: 100%|██████████| 4/4 [00:02<00:00,  1.41it/s, loss=0.573]\n"
     ]
    },
    {
     "name": "stdout",
     "output_type": "stream",
     "text": [
      "Validation Dice Score\n",
      "Class 0: 0.0000, Class 1: 0.2918, Class 2: 0.0005, Class 3: 0.0059, \n",
      "Class 4: 0.6490, Class 5: 0.2839, Class 6: 0.1210, \n",
      "Validation F-beta Score\n",
      "Class 0: 0.0000, Class 1: 0.3491, Class 2: 0.0044, Class 3: 0.0465, \n",
      "Class 4: 0.6413, Class 5: 0.3279, Class 6: 0.1869, \n",
      "Overall Mean Dice Score: 0.2703\n",
      "Overall Mean F-beta Score: 0.3103\n",
      "\n",
      "Training Loss: 0.5619, Validation Loss: 0.5968, Validation F-beta: 0.3103\n",
      "Epoch 49/4000\n",
      "Current lambda: 0.5000\n"
     ]
    },
    {
     "name": "stderr",
     "output_type": "stream",
     "text": [
      "Training: 100%|██████████| 24/24 [00:37<00:00,  1.54s/it, loss=0.521]\n",
      "Validation: 100%|██████████| 4/4 [00:02<00:00,  1.39it/s, loss=0.648]\n"
     ]
    },
    {
     "name": "stdout",
     "output_type": "stream",
     "text": [
      "Validation Dice Score\n",
      "Class 0: 0.0000, Class 1: 0.5658, Class 2: 0.0006, Class 3: 0.0032, \n",
      "Class 4: 0.4189, Class 5: 0.2682, Class 6: 0.1897, \n",
      "Validation F-beta Score\n",
      "Class 0: 0.0000, Class 1: 0.4942, Class 2: 0.0047, Class 3: 0.0260, \n",
      "Class 4: 0.5222, Class 5: 0.3907, Class 6: 0.1586, \n",
      "Overall Mean Dice Score: 0.2891\n",
      "Overall Mean F-beta Score: 0.3184\n",
      "\n",
      "Training Loss: 0.5913, Validation Loss: 0.5957, Validation F-beta: 0.3184\n",
      "Epoch 50/4000\n",
      "Current lambda: 0.5000\n"
     ]
    },
    {
     "name": "stderr",
     "output_type": "stream",
     "text": [
      "Training: 100%|██████████| 24/24 [00:37<00:00,  1.55s/it, loss=0.644]\n",
      "Validation: 100%|██████████| 4/4 [00:02<00:00,  1.41it/s, loss=0.577]\n"
     ]
    },
    {
     "name": "stdout",
     "output_type": "stream",
     "text": [
      "Validation Dice Score\n",
      "Class 0: 0.0000, Class 1: 0.3229, Class 2: 0.0005, Class 3: 0.0053, \n",
      "Class 4: 0.4779, Class 5: 0.3154, Class 6: 0.6131, \n",
      "Validation F-beta Score\n",
      "Class 0: 0.0000, Class 1: 0.3579, Class 2: 0.0043, Class 3: 0.0426, \n",
      "Class 4: 0.5437, Class 5: 0.2718, Class 6: 0.6218, \n",
      "Overall Mean Dice Score: 0.3469\n",
      "Overall Mean F-beta Score: 0.3675\n",
      "\n",
      "Training Loss: 0.5486, Validation Loss: 0.5824, Validation F-beta: 0.3675\n",
      "Epoch 51/4000\n",
      "Current lambda: 0.5000\n"
     ]
    },
    {
     "name": "stderr",
     "output_type": "stream",
     "text": [
      "Training: 100%|██████████| 24/24 [00:36<00:00,  1.54s/it, loss=0.562]\n",
      "Validation: 100%|██████████| 4/4 [00:02<00:00,  1.42it/s, loss=0.578]\n"
     ]
    },
    {
     "name": "stdout",
     "output_type": "stream",
     "text": [
      "Validation Dice Score\n",
      "Class 0: 0.0000, Class 1: 0.3346, Class 2: 0.0006, Class 3: 0.0034, \n",
      "Class 4: 0.2403, Class 5: 0.3695, Class 6: 0.7506, \n",
      "Validation F-beta Score\n",
      "Class 0: 0.0000, Class 1: 0.3581, Class 2: 0.0046, Class 3: 0.0271, \n",
      "Class 4: 0.4704, Class 5: 0.4500, Class 6: 0.7707, \n",
      "Overall Mean Dice Score: 0.3397\n",
      "Overall Mean F-beta Score: 0.4153\n",
      "\n",
      "Training Loss: 0.5967, Validation Loss: 0.5583, Validation F-beta: 0.4153\n",
      "Validation loss did not improve. Reducing lambda to 0.4900\n",
      "Epoch 52/4000\n",
      "Current lambda: 0.4900\n"
     ]
    },
    {
     "name": "stderr",
     "output_type": "stream",
     "text": [
      "Training: 100%|██████████| 24/24 [00:42<00:00,  1.76s/it, loss=0.597]\n",
      "Validation: 100%|██████████| 4/4 [00:02<00:00,  1.36it/s, loss=0.623]\n"
     ]
    },
    {
     "name": "stdout",
     "output_type": "stream",
     "text": [
      "Validation Dice Score\n",
      "Class 0: 0.0000, Class 1: 0.2542, Class 2: 0.0008, Class 3: 0.0045, \n",
      "Class 4: 0.3722, Class 5: 0.3371, Class 6: 0.2959, \n",
      "Validation F-beta Score\n",
      "Class 0: 0.0000, Class 1: 0.3409, Class 2: 0.0062, Class 3: 0.0352, \n",
      "Class 4: 0.4037, Class 5: 0.3474, Class 6: 0.2817, \n",
      "Overall Mean Dice Score: 0.2528\n",
      "Overall Mean F-beta Score: 0.2818\n",
      "\n",
      "Training Loss: 0.5738, Validation Loss: 0.6023, Validation F-beta: 0.2818\n",
      "Epoch 53/4000\n",
      "Current lambda: 0.4900\n"
     ]
    },
    {
     "name": "stderr",
     "output_type": "stream",
     "text": [
      "Training: 100%|██████████| 24/24 [00:42<00:00,  1.77s/it, loss=0.545]\n",
      "Validation: 100%|██████████| 4/4 [00:02<00:00,  1.36it/s, loss=0.564]\n"
     ]
    },
    {
     "name": "stdout",
     "output_type": "stream",
     "text": [
      "Validation Dice Score\n",
      "Class 0: 0.0000, Class 1: 0.6481, Class 2: 0.0005, Class 3: 0.0056, \n",
      "Class 4: 0.2537, Class 5: 0.4615, Class 6: 0.8198, \n",
      "Validation F-beta Score\n",
      "Class 0: 0.0000, Class 1: 0.7464, Class 2: 0.0039, Class 3: 0.0444, \n",
      "Class 4: 0.3962, Class 5: 0.5059, Class 6: 0.7960, \n",
      "Overall Mean Dice Score: 0.4377\n",
      "Overall Mean F-beta Score: 0.4978\n",
      "\n",
      "Training Loss: 0.5828, Validation Loss: 0.5120, Validation F-beta: 0.4978\n",
      "Epoch 54/4000\n",
      "Current lambda: 0.4900\n"
     ]
    },
    {
     "name": "stderr",
     "output_type": "stream",
     "text": [
      "Training: 100%|██████████| 24/24 [00:42<00:00,  1.76s/it, loss=0.657]\n",
      "Validation: 100%|██████████| 4/4 [00:02<00:00,  1.40it/s, loss=0.549]\n"
     ]
    },
    {
     "name": "stdout",
     "output_type": "stream",
     "text": [
      "Validation Dice Score\n",
      "Class 0: 0.0000, Class 1: 0.2010, Class 2: 0.0002, Class 3: 0.0016, \n",
      "Class 4: 0.5757, Class 5: 0.2994, Class 6: 0.6147, \n",
      "Validation F-beta Score\n",
      "Class 0: 0.0000, Class 1: 0.3429, Class 2: 0.0013, Class 3: 0.0127, \n",
      "Class 4: 0.6870, Class 5: 0.2963, Class 6: 0.7189, \n",
      "Overall Mean Dice Score: 0.3385\n",
      "Overall Mean F-beta Score: 0.4115\n",
      "\n",
      "Training Loss: 0.5899, Validation Loss: 0.5562, Validation F-beta: 0.4115\n",
      "Epoch 55/4000\n",
      "Current lambda: 0.4900\n"
     ]
    },
    {
     "name": "stderr",
     "output_type": "stream",
     "text": [
      "Training: 100%|██████████| 24/24 [00:42<00:00,  1.77s/it, loss=0.498]\n",
      "Validation: 100%|██████████| 4/4 [00:02<00:00,  1.38it/s, loss=0.579]\n"
     ]
    },
    {
     "name": "stdout",
     "output_type": "stream",
     "text": [
      "Validation Dice Score\n",
      "Class 0: 0.0000, Class 1: 0.4740, Class 2: 0.0011, Class 3: 0.0037, \n",
      "Class 4: 0.5259, Class 5: 0.3674, Class 6: 0.5888, \n",
      "Validation F-beta Score\n",
      "Class 0: 0.0000, Class 1: 0.6377, Class 2: 0.0089, Class 3: 0.0292, \n",
      "Class 4: 0.6131, Class 5: 0.4064, Class 6: 0.7051, \n",
      "Overall Mean Dice Score: 0.3920\n",
      "Overall Mean F-beta Score: 0.4783\n",
      "\n",
      "Training Loss: 0.5703, Validation Loss: 0.5402, Validation F-beta: 0.4783\n",
      "Epoch 56/4000\n",
      "Current lambda: 0.4900\n"
     ]
    },
    {
     "name": "stderr",
     "output_type": "stream",
     "text": [
      "Training: 100%|██████████| 24/24 [00:42<00:00,  1.77s/it, loss=0.602]\n",
      "Validation: 100%|██████████| 4/4 [00:02<00:00,  1.43it/s, loss=0.616]\n"
     ]
    },
    {
     "name": "stdout",
     "output_type": "stream",
     "text": [
      "Validation Dice Score\n",
      "Class 0: 0.0000, Class 1: 0.6153, Class 2: 0.0002, Class 3: 0.0021, \n",
      "Class 4: 0.4546, Class 5: 0.4216, Class 6: 0.4155, \n",
      "Validation F-beta Score\n",
      "Class 0: 0.0000, Class 1: 0.7872, Class 2: 0.0018, Class 3: 0.0171, \n",
      "Class 4: 0.5788, Class 5: 0.4557, Class 6: 0.4472, \n",
      "Overall Mean Dice Score: 0.3818\n",
      "Overall Mean F-beta Score: 0.4572\n",
      "\n",
      "Training Loss: 0.6054, Validation Loss: 0.5380, Validation F-beta: 0.4572\n",
      "Epoch 57/4000\n",
      "Current lambda: 0.4900\n"
     ]
    },
    {
     "name": "stderr",
     "output_type": "stream",
     "text": [
      "Training: 100%|██████████| 24/24 [00:42<00:00,  1.76s/it, loss=0.521]\n",
      "Validation: 100%|██████████| 4/4 [00:02<00:00,  1.34it/s, loss=0.526]\n"
     ]
    },
    {
     "name": "stdout",
     "output_type": "stream",
     "text": [
      "Validation Dice Score\n",
      "Class 0: 0.0000, Class 1: 0.3782, Class 2: 0.0010, Class 3: 0.0028, \n",
      "Class 4: 0.4270, Class 5: 0.2247, Class 6: 0.3872, \n",
      "Validation F-beta Score\n",
      "Class 0: 0.0000, Class 1: 0.3971, Class 2: 0.0083, Class 3: 0.0230, \n",
      "Class 4: 0.3929, Class 5: 0.2965, Class 6: 0.5125, \n",
      "Overall Mean Dice Score: 0.2840\n",
      "Overall Mean F-beta Score: 0.3244\n",
      "\n",
      "Training Loss: 0.5701, Validation Loss: 0.5866, Validation F-beta: 0.3244\n",
      "Epoch 58/4000\n",
      "Current lambda: 0.4900\n"
     ]
    },
    {
     "name": "stderr",
     "output_type": "stream",
     "text": [
      "Training: 100%|██████████| 24/24 [00:42<00:00,  1.76s/it, loss=0.614]\n",
      "Validation: 100%|██████████| 4/4 [00:02<00:00,  1.35it/s, loss=0.587]\n"
     ]
    },
    {
     "name": "stdout",
     "output_type": "stream",
     "text": [
      "Validation Dice Score\n",
      "Class 0: 0.0000, Class 1: 0.3265, Class 2: 0.0008, Class 3: 0.0029, \n",
      "Class 4: 0.2504, Class 5: 0.2430, Class 6: 0.5887, \n",
      "Validation F-beta Score\n",
      "Class 0: 0.0000, Class 1: 0.3404, Class 2: 0.0063, Class 3: 0.0231, \n",
      "Class 4: 0.1956, Class 5: 0.3411, Class 6: 0.6699, \n",
      "Overall Mean Dice Score: 0.2823\n",
      "Overall Mean F-beta Score: 0.3140\n",
      "\n",
      "Training Loss: 0.5658, Validation Loss: 0.5900, Validation F-beta: 0.3140\n",
      "Epoch 59/4000\n",
      "Current lambda: 0.4900\n"
     ]
    },
    {
     "name": "stderr",
     "output_type": "stream",
     "text": [
      "Training: 100%|██████████| 24/24 [00:42<00:00,  1.76s/it, loss=0.562]\n",
      "Validation: 100%|██████████| 4/4 [00:02<00:00,  1.39it/s, loss=0.603]\n"
     ]
    },
    {
     "name": "stdout",
     "output_type": "stream",
     "text": [
      "Validation Dice Score\n",
      "Class 0: 0.0000, Class 1: 0.5698, Class 2: 0.0010, Class 3: 0.0021, \n",
      "Class 4: 0.5304, Class 5: 0.1056, Class 6: 0.3486, \n",
      "Validation F-beta Score\n",
      "Class 0: 0.0000, Class 1: 0.5651, Class 2: 0.0083, Class 3: 0.0170, \n",
      "Class 4: 0.5555, Class 5: 0.1712, Class 6: 0.5531, \n",
      "Overall Mean Dice Score: 0.3113\n",
      "Overall Mean F-beta Score: 0.3724\n",
      "\n",
      "Training Loss: 0.5771, Validation Loss: 0.5851, Validation F-beta: 0.3724\n",
      "Epoch 60/4000\n",
      "Current lambda: 0.4900\n"
     ]
    },
    {
     "name": "stderr",
     "output_type": "stream",
     "text": [
      "Training: 100%|██████████| 24/24 [00:42<00:00,  1.76s/it, loss=0.52] \n",
      "Validation: 100%|██████████| 4/4 [00:02<00:00,  1.44it/s, loss=0.586]\n"
     ]
    },
    {
     "name": "stdout",
     "output_type": "stream",
     "text": [
      "Validation Dice Score\n",
      "Class 0: 0.0000, Class 1: 0.2612, Class 2: 0.0005, Class 3: 0.0024, \n",
      "Class 4: 0.4001, Class 5: 0.3333, Class 6: 0.0200, \n",
      "Validation F-beta Score\n",
      "Class 0: 0.0000, Class 1: 0.3868, Class 2: 0.0038, Class 3: 0.0191, \n",
      "Class 4: 0.3850, Class 5: 0.3577, Class 6: 0.0242, \n",
      "Overall Mean Dice Score: 0.2034\n",
      "Overall Mean F-beta Score: 0.2346\n",
      "\n",
      "Training Loss: 0.5872, Validation Loss: 0.6226, Validation F-beta: 0.2346\n",
      "Epoch 61/4000\n",
      "Current lambda: 0.4900\n"
     ]
    },
    {
     "name": "stderr",
     "output_type": "stream",
     "text": [
      "Training: 100%|██████████| 24/24 [00:42<00:00,  1.76s/it, loss=0.511]\n",
      "Validation: 100%|██████████| 4/4 [00:02<00:00,  1.38it/s, loss=0.519]\n"
     ]
    },
    {
     "name": "stdout",
     "output_type": "stream",
     "text": [
      "Validation Dice Score\n",
      "Class 0: 0.0000, Class 1: 0.4673, Class 2: 0.0008, Class 3: 0.0055, \n",
      "Class 4: 0.5046, Class 5: 0.3936, Class 6: 0.4900, \n",
      "Validation F-beta Score\n",
      "Class 0: 0.0000, Class 1: 0.4707, Class 2: 0.0065, Class 3: 0.0434, \n",
      "Class 4: 0.4639, Class 5: 0.3364, Class 6: 0.4456, \n",
      "Overall Mean Dice Score: 0.3722\n",
      "Overall Mean F-beta Score: 0.3520\n",
      "\n",
      "Training Loss: 0.5712, Validation Loss: 0.5613, Validation F-beta: 0.3520\n",
      "Validation loss did not improve. Reducing lambda to 0.4800\n",
      "Epoch 62/4000\n",
      "Current lambda: 0.4800\n"
     ]
    },
    {
     "name": "stderr",
     "output_type": "stream",
     "text": [
      "Training: 100%|██████████| 24/24 [00:42<00:00,  1.76s/it, loss=0.521]\n",
      "Validation: 100%|██████████| 4/4 [00:02<00:00,  1.41it/s, loss=0.514]\n"
     ]
    },
    {
     "name": "stdout",
     "output_type": "stream",
     "text": [
      "Validation Dice Score\n",
      "Class 0: 0.0000, Class 1: 0.5057, Class 2: 0.0012, Class 3: 0.0007, \n",
      "Class 4: 0.5613, Class 5: 0.2588, Class 6: 0.6186, \n",
      "Validation F-beta Score\n",
      "Class 0: 0.0000, Class 1: 0.6682, Class 2: 0.0092, Class 3: 0.0061, \n",
      "Class 4: 0.5964, Class 5: 0.3020, Class 6: 0.6428, \n",
      "Overall Mean Dice Score: 0.3890\n",
      "Overall Mean F-beta Score: 0.4431\n",
      "\n",
      "Training Loss: 0.5577, Validation Loss: 0.5551, Validation F-beta: 0.4431\n",
      "Epoch 63/4000\n",
      "Current lambda: 0.4800\n"
     ]
    },
    {
     "name": "stderr",
     "output_type": "stream",
     "text": [
      "Training: 100%|██████████| 24/24 [00:42<00:00,  1.77s/it, loss=0.587]\n",
      "Validation: 100%|██████████| 4/4 [00:02<00:00,  1.39it/s, loss=0.503]\n"
     ]
    },
    {
     "name": "stdout",
     "output_type": "stream",
     "text": [
      "Validation Dice Score\n",
      "Class 0: 0.0000, Class 1: 0.6624, Class 2: 0.0006, Class 3: 0.0035, \n",
      "Class 4: 0.4389, Class 5: 0.2045, Class 6: 0.6195, \n",
      "Validation F-beta Score\n",
      "Class 0: 0.0000, Class 1: 0.6695, Class 2: 0.0052, Class 3: 0.0285, \n",
      "Class 4: 0.3794, Class 5: 0.3068, Class 6: 0.6618, \n",
      "Overall Mean Dice Score: 0.3858\n",
      "Overall Mean F-beta Score: 0.4092\n",
      "\n",
      "Training Loss: 0.5440, Validation Loss: 0.5591, Validation F-beta: 0.4092\n",
      "Epoch 64/4000\n",
      "Current lambda: 0.4800\n"
     ]
    },
    {
     "name": "stderr",
     "output_type": "stream",
     "text": [
      "Training: 100%|██████████| 24/24 [00:42<00:00,  1.76s/it, loss=0.5]  \n",
      "Validation: 100%|██████████| 4/4 [00:02<00:00,  1.42it/s, loss=0.44] \n"
     ]
    },
    {
     "name": "stdout",
     "output_type": "stream",
     "text": [
      "Validation Dice Score\n",
      "Class 0: 0.0000, Class 1: 0.7199, Class 2: 0.0010, Class 3: 0.0008, \n",
      "Class 4: 0.4344, Class 5: 0.4170, Class 6: 0.6829, \n",
      "Validation F-beta Score\n",
      "Class 0: 0.0000, Class 1: 0.6806, Class 2: 0.0086, Class 3: 0.0064, \n",
      "Class 4: 0.6075, Class 5: 0.5055, Class 6: 0.7629, \n",
      "Overall Mean Dice Score: 0.4510\n",
      "Overall Mean F-beta Score: 0.5126\n",
      "\n",
      "Training Loss: 0.5586, Validation Loss: 0.5031, Validation F-beta: 0.5126\n",
      "========================================================\n",
      "Best model saved based on validation loss: 0.5031\n",
      "========================================================\n",
      "Epoch 65/4000\n",
      "Current lambda: 0.4800\n"
     ]
    },
    {
     "name": "stderr",
     "output_type": "stream",
     "text": [
      "Training: 100%|██████████| 24/24 [00:42<00:00,  1.77s/it, loss=0.652]\n",
      "Validation: 100%|██████████| 4/4 [00:02<00:00,  1.36it/s, loss=0.653]\n"
     ]
    },
    {
     "name": "stdout",
     "output_type": "stream",
     "text": [
      "Validation Dice Score\n",
      "Class 0: 0.0000, Class 1: 0.0000, Class 2: 0.0007, Class 3: 0.0003, \n",
      "Class 4: 0.4435, Class 5: 0.3067, Class 6: 0.0000, \n",
      "Validation F-beta Score\n",
      "Class 0: 0.0000, Class 1: 0.0000, Class 2: 0.0055, Class 3: 0.0025, \n",
      "Class 4: 0.4261, Class 5: 0.3914, Class 6: 0.0000, \n",
      "Overall Mean Dice Score: 0.1501\n",
      "Overall Mean F-beta Score: 0.1640\n",
      "\n",
      "Training Loss: 0.5534, Validation Loss: 0.6415, Validation F-beta: 0.1640\n",
      "Epoch 66/4000\n",
      "Current lambda: 0.4800\n"
     ]
    },
    {
     "name": "stderr",
     "output_type": "stream",
     "text": [
      "Training: 100%|██████████| 24/24 [00:42<00:00,  1.76s/it, loss=0.552]\n",
      "Validation: 100%|██████████| 4/4 [00:02<00:00,  1.41it/s, loss=0.484]\n"
     ]
    },
    {
     "name": "stdout",
     "output_type": "stream",
     "text": [
      "Validation Dice Score\n",
      "Class 0: 0.0000, Class 1: 0.4827, Class 2: 0.0003, Class 3: 0.0027, \n",
      "Class 4: 0.6472, Class 5: 0.2787, Class 6: 0.6387, \n",
      "Validation F-beta Score\n",
      "Class 0: 0.0000, Class 1: 0.4400, Class 2: 0.0027, Class 3: 0.0220, \n",
      "Class 4: 0.6733, Class 5: 0.2793, Class 6: 0.6097, \n",
      "Overall Mean Dice Score: 0.4100\n",
      "Overall Mean F-beta Score: 0.4049\n",
      "\n",
      "Training Loss: 0.5565, Validation Loss: 0.5374, Validation F-beta: 0.4049\n",
      "Epoch 67/4000\n",
      "Current lambda: 0.4800\n"
     ]
    },
    {
     "name": "stderr",
     "output_type": "stream",
     "text": [
      "Training: 100%|██████████| 24/24 [00:42<00:00,  1.77s/it, loss=0.616]\n",
      "Validation: 100%|██████████| 4/4 [00:02<00:00,  1.39it/s, loss=0.542]\n"
     ]
    },
    {
     "name": "stdout",
     "output_type": "stream",
     "text": [
      "Validation Dice Score\n",
      "Class 0: 0.0000, Class 1: 0.0633, Class 2: 0.0009, Class 3: 0.0023, \n",
      "Class 4: 0.5553, Class 5: 0.3868, Class 6: 0.6874, \n",
      "Validation F-beta Score\n",
      "Class 0: 0.0000, Class 1: 0.2883, Class 2: 0.0072, Class 3: 0.0185, \n",
      "Class 4: 0.5909, Class 5: 0.5273, Class 6: 0.7906, \n",
      "Overall Mean Dice Score: 0.3390\n",
      "Overall Mean F-beta Score: 0.4431\n",
      "\n",
      "Training Loss: 0.5754, Validation Loss: 0.5679, Validation F-beta: 0.4431\n",
      "Epoch 68/4000\n",
      "Current lambda: 0.4800\n"
     ]
    },
    {
     "name": "stderr",
     "output_type": "stream",
     "text": [
      "Training: 100%|██████████| 24/24 [00:42<00:00,  1.77s/it, loss=0.52] \n",
      "Validation: 100%|██████████| 4/4 [00:02<00:00,  1.40it/s, loss=0.664]\n"
     ]
    },
    {
     "name": "stdout",
     "output_type": "stream",
     "text": [
      "Validation Dice Score\n",
      "Class 0: 0.0000, Class 1: 0.5485, Class 2: 0.0009, Class 3: 0.0024, \n",
      "Class 4: 0.4379, Class 5: 0.2338, Class 6: 0.3817, \n",
      "Validation F-beta Score\n",
      "Class 0: 0.0000, Class 1: 0.5683, Class 2: 0.0074, Class 3: 0.0195, \n",
      "Class 4: 0.4363, Class 5: 0.2562, Class 6: 0.4338, \n",
      "Overall Mean Dice Score: 0.3209\n",
      "Overall Mean F-beta Score: 0.3428\n",
      "\n",
      "Training Loss: 0.5666, Validation Loss: 0.5800, Validation F-beta: 0.3428\n",
      "Epoch 69/4000\n",
      "Current lambda: 0.4800\n"
     ]
    },
    {
     "name": "stderr",
     "output_type": "stream",
     "text": [
      "Training: 100%|██████████| 24/24 [00:42<00:00,  1.77s/it, loss=0.583]\n",
      "Validation: 100%|██████████| 4/4 [00:02<00:00,  1.39it/s, loss=0.541]\n"
     ]
    },
    {
     "name": "stdout",
     "output_type": "stream",
     "text": [
      "Validation Dice Score\n",
      "Class 0: 0.0000, Class 1: 0.4943, Class 2: 0.0000, Class 3: 0.0047, \n",
      "Class 4: 0.4208, Class 5: 0.2531, Class 6: 0.6686, \n",
      "Validation F-beta Score\n",
      "Class 0: 0.0000, Class 1: 0.5800, Class 2: 0.0000, Class 3: 0.0373, \n",
      "Class 4: 0.3821, Class 5: 0.2493, Class 6: 0.6708, \n",
      "Overall Mean Dice Score: 0.3683\n",
      "Overall Mean F-beta Score: 0.3839\n",
      "\n",
      "Training Loss: 0.5749, Validation Loss: 0.5686, Validation F-beta: 0.3839\n",
      "Epoch 70/4000\n",
      "Current lambda: 0.4800\n"
     ]
    },
    {
     "name": "stderr",
     "output_type": "stream",
     "text": [
      "Training: 100%|██████████| 24/24 [00:42<00:00,  1.76s/it, loss=0.565]\n",
      "Validation: 100%|██████████| 4/4 [00:02<00:00,  1.36it/s, loss=0.532]\n"
     ]
    },
    {
     "name": "stdout",
     "output_type": "stream",
     "text": [
      "Validation Dice Score\n",
      "Class 0: 0.0000, Class 1: 0.6684, Class 2: 0.0010, Class 3: 0.0032, \n",
      "Class 4: 0.3069, Class 5: 0.2977, Class 6: 0.4163, \n",
      "Validation F-beta Score\n",
      "Class 0: 0.0000, Class 1: 0.8130, Class 2: 0.0078, Class 3: 0.0253, \n",
      "Class 4: 0.2338, Class 5: 0.4060, Class 6: 0.4310, \n",
      "Overall Mean Dice Score: 0.3385\n",
      "Overall Mean F-beta Score: 0.3818\n",
      "\n",
      "Training Loss: 0.5605, Validation Loss: 0.5806, Validation F-beta: 0.3818\n",
      "Epoch 71/4000\n",
      "Current lambda: 0.4800\n"
     ]
    },
    {
     "name": "stderr",
     "output_type": "stream",
     "text": [
      "Training: 100%|██████████| 24/24 [00:42<00:00,  1.77s/it, loss=0.541]\n",
      "Validation: 100%|██████████| 4/4 [00:02<00:00,  1.42it/s, loss=0.591]\n"
     ]
    },
    {
     "name": "stdout",
     "output_type": "stream",
     "text": [
      "Validation Dice Score\n",
      "Class 0: 0.0000, Class 1: 0.7372, Class 2: 0.0007, Class 3: 0.0042, \n",
      "Class 4: 0.2050, Class 5: 0.2996, Class 6: 0.2746, \n",
      "Validation F-beta Score\n",
      "Class 0: 0.0000, Class 1: 0.6980, Class 2: 0.0059, Class 3: 0.0341, \n",
      "Class 4: 0.3682, Class 5: 0.2686, Class 6: 0.3040, \n",
      "Overall Mean Dice Score: 0.3041\n",
      "Overall Mean F-beta Score: 0.3346\n",
      "\n",
      "Training Loss: 0.5709, Validation Loss: 0.5860, Validation F-beta: 0.3346\n",
      "Epoch 72/4000\n",
      "Current lambda: 0.4800\n"
     ]
    },
    {
     "name": "stderr",
     "output_type": "stream",
     "text": [
      "Training: 100%|██████████| 24/24 [00:42<00:00,  1.77s/it, loss=0.536]\n",
      "Validation: 100%|██████████| 4/4 [00:02<00:00,  1.42it/s, loss=0.538]\n"
     ]
    },
    {
     "name": "stdout",
     "output_type": "stream",
     "text": [
      "Validation Dice Score\n",
      "Class 0: 0.0000, Class 1: 0.5621, Class 2: 0.0009, Class 3: 0.0029, \n",
      "Class 4: 0.5542, Class 5: 0.2967, Class 6: 0.6695, \n",
      "Validation F-beta Score\n",
      "Class 0: 0.0000, Class 1: 0.4300, Class 2: 0.0076, Class 3: 0.0231, \n",
      "Class 4: 0.5951, Class 5: 0.2981, Class 6: 0.6527, \n",
      "Overall Mean Dice Score: 0.4171\n",
      "Overall Mean F-beta Score: 0.3998\n",
      "\n",
      "Training Loss: 0.5537, Validation Loss: 0.5395, Validation F-beta: 0.3998\n",
      "Epoch 73/4000\n",
      "Current lambda: 0.4800\n"
     ]
    },
    {
     "name": "stderr",
     "output_type": "stream",
     "text": [
      "Training: 100%|██████████| 24/24 [00:42<00:00,  1.76s/it, loss=0.641]\n",
      "Validation: 100%|██████████| 4/4 [00:02<00:00,  1.43it/s, loss=0.603]\n"
     ]
    },
    {
     "name": "stdout",
     "output_type": "stream",
     "text": [
      "Validation Dice Score\n",
      "Class 0: 0.0000, Class 1: 0.4124, Class 2: 0.0002, Class 3: 0.0034, \n",
      "Class 4: 0.5150, Class 5: 0.3456, Class 6: 0.1749, \n",
      "Validation F-beta Score\n",
      "Class 0: 0.0000, Class 1: 0.4461, Class 2: 0.0017, Class 3: 0.0275, \n",
      "Class 4: 0.4112, Class 5: 0.3945, Class 6: 0.2673, \n",
      "Overall Mean Dice Score: 0.2903\n",
      "Overall Mean F-beta Score: 0.3093\n",
      "\n",
      "Training Loss: 0.5561, Validation Loss: 0.5849, Validation F-beta: 0.3093\n",
      "Validation loss did not improve. Reducing lambda to 0.4700\n",
      "Epoch 74/4000\n",
      "Current lambda: 0.4700\n"
     ]
    },
    {
     "name": "stderr",
     "output_type": "stream",
     "text": [
      "Training: 100%|██████████| 24/24 [00:42<00:00,  1.76s/it, loss=0.496]\n",
      "Validation: 100%|██████████| 4/4 [00:02<00:00,  1.39it/s, loss=0.587]\n"
     ]
    },
    {
     "name": "stdout",
     "output_type": "stream",
     "text": [
      "Validation Dice Score\n",
      "Class 0: 0.0000, Class 1: 0.4438, Class 2: 0.0000, Class 3: 0.0027, \n",
      "Class 4: 0.4402, Class 5: 0.2712, Class 6: 0.4513, \n",
      "Validation F-beta Score\n",
      "Class 0: 0.0000, Class 1: 0.4785, Class 2: 0.0000, Class 3: 0.0217, \n",
      "Class 4: 0.4202, Class 5: 0.3096, Class 6: 0.4464, \n",
      "Overall Mean Dice Score: 0.3218\n",
      "Overall Mean F-beta Score: 0.3353\n",
      "\n",
      "Training Loss: 0.5613, Validation Loss: 0.5815, Validation F-beta: 0.3353\n",
      "Epoch 75/4000\n",
      "Current lambda: 0.4700\n"
     ]
    },
    {
     "name": "stderr",
     "output_type": "stream",
     "text": [
      "Training: 100%|██████████| 24/24 [00:42<00:00,  1.77s/it, loss=0.51] \n",
      "Validation: 100%|██████████| 4/4 [00:02<00:00,  1.41it/s, loss=0.61] \n"
     ]
    },
    {
     "name": "stdout",
     "output_type": "stream",
     "text": [
      "Validation Dice Score\n",
      "Class 0: 0.0000, Class 1: 0.1565, Class 2: 0.0000, Class 3: 0.0034, \n",
      "Class 4: 0.5723, Class 5: 0.3253, Class 6: 0.2398, \n",
      "Validation F-beta Score\n",
      "Class 0: 0.0000, Class 1: 0.3284, Class 2: 0.0000, Class 3: 0.0268, \n",
      "Class 4: 0.6352, Class 5: 0.3510, Class 6: 0.3158, \n",
      "Overall Mean Dice Score: 0.2595\n",
      "Overall Mean F-beta Score: 0.3314\n",
      "\n",
      "Training Loss: 0.5597, Validation Loss: 0.5824, Validation F-beta: 0.3314\n",
      "Epoch 76/4000\n",
      "Current lambda: 0.4700\n"
     ]
    },
    {
     "name": "stderr",
     "output_type": "stream",
     "text": [
      "Training: 100%|██████████| 24/24 [00:42<00:00,  1.76s/it, loss=0.695]\n",
      "Validation: 100%|██████████| 4/4 [00:02<00:00,  1.38it/s, loss=0.549]\n"
     ]
    },
    {
     "name": "stdout",
     "output_type": "stream",
     "text": [
      "Validation Dice Score\n",
      "Class 0: 0.0000, Class 1: 0.7528, Class 2: 0.0012, Class 3: 0.0031, \n",
      "Class 4: 0.4361, Class 5: 0.2640, Class 6: 0.3869, \n",
      "Validation F-beta Score\n",
      "Class 0: 0.0000, Class 1: 0.7995, Class 2: 0.0097, Class 3: 0.0242, \n",
      "Class 4: 0.4702, Class 5: 0.4660, Class 6: 0.5607, \n",
      "Overall Mean Dice Score: 0.3686\n",
      "Overall Mean F-beta Score: 0.4641\n",
      "\n",
      "Training Loss: 0.5631, Validation Loss: 0.5808, Validation F-beta: 0.4641\n",
      "Epoch 77/4000\n",
      "Current lambda: 0.4700\n"
     ]
    },
    {
     "name": "stderr",
     "output_type": "stream",
     "text": [
      "Training: 100%|██████████| 24/24 [00:42<00:00,  1.76s/it, loss=0.576]\n",
      "Validation: 100%|██████████| 4/4 [00:02<00:00,  1.40it/s, loss=0.564]\n"
     ]
    },
    {
     "name": "stdout",
     "output_type": "stream",
     "text": [
      "Validation Dice Score\n",
      "Class 0: 0.0000, Class 1: 0.6524, Class 2: 0.0009, Class 3: 0.0037, \n",
      "Class 4: 0.5884, Class 5: 0.2753, Class 6: 0.6652, \n",
      "Validation F-beta Score\n",
      "Class 0: 0.0000, Class 1: 0.8652, Class 2: 0.0075, Class 3: 0.0292, \n",
      "Class 4: 0.6181, Class 5: 0.3185, Class 6: 0.6960, \n",
      "Overall Mean Dice Score: 0.4370\n",
      "Overall Mean F-beta Score: 0.5054\n",
      "\n",
      "Training Loss: 0.5679, Validation Loss: 0.5395, Validation F-beta: 0.5054\n",
      "Epoch 78/4000\n",
      "Current lambda: 0.4700\n"
     ]
    },
    {
     "name": "stderr",
     "output_type": "stream",
     "text": [
      "Training: 100%|██████████| 24/24 [00:42<00:00,  1.75s/it, loss=0.513]\n",
      "Validation: 100%|██████████| 4/4 [00:02<00:00,  1.40it/s, loss=0.56] \n"
     ]
    },
    {
     "name": "stdout",
     "output_type": "stream",
     "text": [
      "Validation Dice Score\n",
      "Class 0: 0.0000, Class 1: 0.4796, Class 2: 0.0003, Class 3: 0.0028, \n",
      "Class 4: 0.4724, Class 5: 0.3605, Class 6: 0.4279, \n",
      "Validation F-beta Score\n",
      "Class 0: 0.0000, Class 1: 0.5540, Class 2: 0.0028, Class 3: 0.0227, \n",
      "Class 4: 0.5366, Class 5: 0.3557, Class 6: 0.4154, \n",
      "Overall Mean Dice Score: 0.3486\n",
      "Overall Mean F-beta Score: 0.3769\n",
      "\n",
      "Training Loss: 0.5463, Validation Loss: 0.5516, Validation F-beta: 0.3769\n",
      "Epoch 79/4000\n",
      "Current lambda: 0.4700\n"
     ]
    },
    {
     "name": "stderr",
     "output_type": "stream",
     "text": [
      "Training: 100%|██████████| 24/24 [00:42<00:00,  1.76s/it, loss=0.605]\n",
      "Validation: 100%|██████████| 4/4 [00:02<00:00,  1.44it/s, loss=0.677]\n"
     ]
    },
    {
     "name": "stdout",
     "output_type": "stream",
     "text": [
      "Validation Dice Score\n",
      "Class 0: 0.0000, Class 1: 0.3008, Class 2: 0.0012, Class 3: 0.0016, \n",
      "Class 4: 0.3703, Class 5: 0.2805, Class 6: 0.3018, \n",
      "Validation F-beta Score\n",
      "Class 0: 0.0000, Class 1: 0.3948, Class 2: 0.0101, Class 3: 0.0129, \n",
      "Class 4: 0.4397, Class 5: 0.3081, Class 6: 0.3765, \n",
      "Overall Mean Dice Score: 0.2510\n",
      "Overall Mean F-beta Score: 0.3064\n",
      "\n",
      "Training Loss: 0.5861, Validation Loss: 0.6033, Validation F-beta: 0.3064\n",
      "Epoch 80/4000\n",
      "Current lambda: 0.4700\n"
     ]
    },
    {
     "name": "stderr",
     "output_type": "stream",
     "text": [
      "Training: 100%|██████████| 24/24 [00:42<00:00,  1.76s/it, loss=0.565]\n",
      "Validation: 100%|██████████| 4/4 [00:02<00:00,  1.41it/s, loss=0.491]\n"
     ]
    },
    {
     "name": "stdout",
     "output_type": "stream",
     "text": [
      "Validation Dice Score\n",
      "Class 0: 0.0000, Class 1: 0.7252, Class 2: 0.0004, Class 3: 0.0032, \n",
      "Class 4: 0.5801, Class 5: 0.4388, Class 6: 0.2100, \n",
      "Validation F-beta Score\n",
      "Class 0: 0.0000, Class 1: 0.7878, Class 2: 0.0029, Class 3: 0.0245, \n",
      "Class 4: 0.5190, Class 5: 0.4925, Class 6: 0.2199, \n",
      "Overall Mean Dice Score: 0.3915\n",
      "Overall Mean F-beta Score: 0.4087\n",
      "\n",
      "Training Loss: 0.5633, Validation Loss: 0.5362, Validation F-beta: 0.4087\n",
      "Epoch 81/4000\n",
      "Current lambda: 0.4700\n"
     ]
    },
    {
     "name": "stderr",
     "output_type": "stream",
     "text": [
      "Training: 100%|██████████| 24/24 [00:42<00:00,  1.76s/it, loss=0.415]\n",
      "Validation: 100%|██████████| 4/4 [00:02<00:00,  1.42it/s, loss=0.542]\n"
     ]
    },
    {
     "name": "stdout",
     "output_type": "stream",
     "text": [
      "Validation Dice Score\n",
      "Class 0: 0.0000, Class 1: 0.4241, Class 2: 0.0008, Class 3: 0.0053, \n",
      "Class 4: 0.4021, Class 5: 0.2016, Class 6: 0.5997, \n",
      "Validation F-beta Score\n",
      "Class 0: 0.0000, Class 1: 0.4395, Class 2: 0.0069, Class 3: 0.0428, \n",
      "Class 4: 0.5180, Class 5: 0.2448, Class 6: 0.5457, \n",
      "Overall Mean Dice Score: 0.3266\n",
      "Overall Mean F-beta Score: 0.3582\n",
      "\n",
      "Training Loss: 0.5549, Validation Loss: 0.5697, Validation F-beta: 0.3582\n",
      "Epoch 82/4000\n",
      "Current lambda: 0.4700\n"
     ]
    },
    {
     "name": "stderr",
     "output_type": "stream",
     "text": [
      "Training: 100%|██████████| 24/24 [00:42<00:00,  1.76s/it, loss=0.611]\n",
      "Validation: 100%|██████████| 4/4 [00:02<00:00,  1.41it/s, loss=0.634]\n"
     ]
    },
    {
     "name": "stdout",
     "output_type": "stream",
     "text": [
      "Validation Dice Score\n",
      "Class 0: 0.0000, Class 1: 0.4748, Class 2: 0.0005, Class 3: 0.0040, \n",
      "Class 4: 0.4229, Class 5: 0.3224, Class 6: 0.1969, \n",
      "Validation F-beta Score\n",
      "Class 0: 0.0000, Class 1: 0.6459, Class 2: 0.0041, Class 3: 0.0312, \n",
      "Class 4: 0.5215, Class 5: 0.4464, Class 6: 0.2065, \n",
      "Overall Mean Dice Score: 0.2842\n",
      "Overall Mean F-beta Score: 0.3703\n",
      "\n",
      "Training Loss: 0.5786, Validation Loss: 0.5686, Validation F-beta: 0.3703\n",
      "Epoch 83/4000\n",
      "Current lambda: 0.4700\n"
     ]
    },
    {
     "name": "stderr",
     "output_type": "stream",
     "text": [
      "Training: 100%|██████████| 24/24 [00:42<00:00,  1.76s/it, loss=0.598]\n",
      "Validation: 100%|██████████| 4/4 [00:02<00:00,  1.36it/s, loss=0.497]\n"
     ]
    },
    {
     "name": "stdout",
     "output_type": "stream",
     "text": [
      "Validation Dice Score\n",
      "Class 0: 0.0000, Class 1: 0.5374, Class 2: 0.0005, Class 3: 0.0027, \n",
      "Class 4: 0.6102, Class 5: 0.2993, Class 6: 0.8779, \n",
      "Validation F-beta Score\n",
      "Class 0: 0.0000, Class 1: 0.4996, Class 2: 0.0043, Class 3: 0.0221, \n",
      "Class 4: 0.6648, Class 5: 0.2866, Class 6: 0.8917, \n",
      "Overall Mean Dice Score: 0.4655\n",
      "Overall Mean F-beta Score: 0.4730\n",
      "\n",
      "Training Loss: 0.5815, Validation Loss: 0.4986, Validation F-beta: 0.4730\n",
      "========================================================\n",
      "Best model saved based on validation loss: 0.4986\n",
      "========================================================\n",
      "Epoch 84/4000\n",
      "Current lambda: 0.4700\n"
     ]
    },
    {
     "name": "stderr",
     "output_type": "stream",
     "text": [
      "Training: 100%|██████████| 24/24 [00:42<00:00,  1.77s/it, loss=0.553]\n",
      "Validation: 100%|██████████| 4/4 [00:02<00:00,  1.42it/s, loss=0.552]\n"
     ]
    },
    {
     "name": "stdout",
     "output_type": "stream",
     "text": [
      "Validation Dice Score\n",
      "Class 0: 0.0000, Class 1: 0.4288, Class 2: 0.0004, Class 3: 0.0044, \n",
      "Class 4: 0.6002, Class 5: 0.2945, Class 6: 0.4269, \n",
      "Validation F-beta Score\n",
      "Class 0: 0.0000, Class 1: 0.5984, Class 2: 0.0036, Class 3: 0.0349, \n",
      "Class 4: 0.6876, Class 5: 0.2815, Class 6: 0.4606, \n",
      "Overall Mean Dice Score: 0.3509\n",
      "Overall Mean F-beta Score: 0.4126\n",
      "\n",
      "Training Loss: 0.5441, Validation Loss: 0.5581, Validation F-beta: 0.4126\n",
      "Epoch 85/4000\n",
      "Current lambda: 0.4700\n"
     ]
    },
    {
     "name": "stderr",
     "output_type": "stream",
     "text": [
      "Training: 100%|██████████| 24/24 [00:42<00:00,  1.78s/it, loss=0.557]\n",
      "Validation: 100%|██████████| 4/4 [00:02<00:00,  1.38it/s, loss=0.627]\n"
     ]
    },
    {
     "name": "stdout",
     "output_type": "stream",
     "text": [
      "Validation Dice Score\n",
      "Class 0: 0.0000, Class 1: 0.3429, Class 2: 0.0006, Class 3: 0.0000, \n",
      "Class 4: 0.3606, Class 5: 0.3486, Class 6: 0.4400, \n",
      "Validation F-beta Score\n",
      "Class 0: 0.0000, Class 1: 0.4247, Class 2: 0.0052, Class 3: 0.0000, \n",
      "Class 4: 0.4279, Class 5: 0.4621, Class 6: 0.4323, \n",
      "Overall Mean Dice Score: 0.2984\n",
      "Overall Mean F-beta Score: 0.3494\n",
      "\n",
      "Training Loss: 0.5482, Validation Loss: 0.5921, Validation F-beta: 0.3494\n",
      "Epoch 86/4000\n",
      "Current lambda: 0.4700\n"
     ]
    },
    {
     "name": "stderr",
     "output_type": "stream",
     "text": [
      "Training: 100%|██████████| 24/24 [00:42<00:00,  1.77s/it, loss=0.584]\n",
      "Validation: 100%|██████████| 4/4 [00:02<00:00,  1.40it/s, loss=0.625]\n"
     ]
    },
    {
     "name": "stdout",
     "output_type": "stream",
     "text": [
      "Validation Dice Score\n",
      "Class 0: 0.0000, Class 1: 0.5510, Class 2: 0.0006, Class 3: 0.0050, \n",
      "Class 4: 0.4745, Class 5: 0.1614, Class 6: 0.3419, \n",
      "Validation F-beta Score\n",
      "Class 0: 0.0000, Class 1: 0.8344, Class 2: 0.0052, Class 3: 0.0391, \n",
      "Class 4: 0.4827, Class 5: 0.1965, Class 6: 0.4130, \n",
      "Overall Mean Dice Score: 0.3067\n",
      "Overall Mean F-beta Score: 0.3932\n",
      "\n",
      "Training Loss: 0.5673, Validation Loss: 0.5724, Validation F-beta: 0.3932\n",
      "Epoch 87/4000\n",
      "Current lambda: 0.4700\n"
     ]
    },
    {
     "name": "stderr",
     "output_type": "stream",
     "text": [
      "Training: 100%|██████████| 24/24 [00:42<00:00,  1.75s/it, loss=0.557]\n",
      "Validation: 100%|██████████| 4/4 [00:02<00:00,  1.38it/s, loss=0.545]\n"
     ]
    },
    {
     "name": "stdout",
     "output_type": "stream",
     "text": [
      "Validation Dice Score\n",
      "Class 0: 0.0000, Class 1: 0.4860, Class 2: 0.0003, Class 3: 0.0029, \n",
      "Class 4: 0.4810, Class 5: 0.4019, Class 6: 0.7859, \n",
      "Validation F-beta Score\n",
      "Class 0: 0.0000, Class 1: 0.7298, Class 2: 0.0025, Class 3: 0.0229, \n",
      "Class 4: 0.5077, Class 5: 0.4546, Class 6: 0.8394, \n",
      "Overall Mean Dice Score: 0.4315\n",
      "Overall Mean F-beta Score: 0.5109\n",
      "\n",
      "Training Loss: 0.5726, Validation Loss: 0.5280, Validation F-beta: 0.5109\n",
      "Epoch 88/4000\n",
      "Current lambda: 0.4700\n"
     ]
    },
    {
     "name": "stderr",
     "output_type": "stream",
     "text": [
      "Training: 100%|██████████| 24/24 [00:42<00:00,  1.76s/it, loss=0.486]\n",
      "Validation: 100%|██████████| 4/4 [00:02<00:00,  1.38it/s, loss=0.522]\n"
     ]
    },
    {
     "name": "stdout",
     "output_type": "stream",
     "text": [
      "Validation Dice Score\n",
      "Class 0: 0.0000, Class 1: 0.4412, Class 2: 0.0003, Class 3: 0.0044, \n",
      "Class 4: 0.5610, Class 5: 0.4144, Class 6: 0.3789, \n",
      "Validation F-beta Score\n",
      "Class 0: 0.0000, Class 1: 0.5558, Class 2: 0.0029, Class 3: 0.0354, \n",
      "Class 4: 0.7866, Class 5: 0.5645, Class 6: 0.4488, \n",
      "Overall Mean Dice Score: 0.3600\n",
      "Overall Mean F-beta Score: 0.4782\n",
      "\n",
      "Training Loss: 0.5830, Validation Loss: 0.5604, Validation F-beta: 0.4782\n",
      "Epoch 89/4000\n",
      "Current lambda: 0.4700\n"
     ]
    },
    {
     "name": "stderr",
     "output_type": "stream",
     "text": [
      "Training: 100%|██████████| 24/24 [00:42<00:00,  1.77s/it, loss=0.552]\n",
      "Validation: 100%|██████████| 4/4 [00:02<00:00,  1.37it/s, loss=0.587]\n"
     ]
    },
    {
     "name": "stdout",
     "output_type": "stream",
     "text": [
      "Validation Dice Score\n",
      "Class 0: 0.0000, Class 1: 0.4496, Class 2: 0.0005, Class 3: 0.0037, \n",
      "Class 4: 0.6037, Class 5: 0.2577, Class 6: 0.6438, \n",
      "Validation F-beta Score\n",
      "Class 0: 0.0000, Class 1: 0.5471, Class 2: 0.0044, Class 3: 0.0290, \n",
      "Class 4: 0.6422, Class 5: 0.3394, Class 6: 0.6130, \n",
      "Overall Mean Dice Score: 0.3917\n",
      "Overall Mean F-beta Score: 0.4341\n",
      "\n",
      "Training Loss: 0.5560, Validation Loss: 0.5490, Validation F-beta: 0.4341\n",
      "Epoch 90/4000\n",
      "Current lambda: 0.4700\n"
     ]
    },
    {
     "name": "stderr",
     "output_type": "stream",
     "text": [
      "Training: 100%|██████████| 24/24 [00:42<00:00,  1.77s/it, loss=0.551]\n",
      "Validation: 100%|██████████| 4/4 [00:02<00:00,  1.41it/s, loss=0.602]\n"
     ]
    },
    {
     "name": "stdout",
     "output_type": "stream",
     "text": [
      "Validation Dice Score\n",
      "Class 0: 0.0000, Class 1: 0.3734, Class 2: 0.0004, Class 3: 0.0035, \n",
      "Class 4: 0.3463, Class 5: 0.5230, Class 6: 0.2039, \n",
      "Validation F-beta Score\n",
      "Class 0: 0.0000, Class 1: 0.4364, Class 2: 0.0035, Class 3: 0.0281, \n",
      "Class 4: 0.3609, Class 5: 0.6159, Class 6: 0.1943, \n",
      "Overall Mean Dice Score: 0.2900\n",
      "Overall Mean F-beta Score: 0.3271\n",
      "\n",
      "Training Loss: 0.5500, Validation Loss: 0.5595, Validation F-beta: 0.3271\n",
      "Epoch 91/4000\n",
      "Current lambda: 0.4700\n"
     ]
    },
    {
     "name": "stderr",
     "output_type": "stream",
     "text": [
      "Training: 100%|██████████| 24/24 [00:42<00:00,  1.76s/it, loss=0.56] \n",
      "Validation: 100%|██████████| 4/4 [00:02<00:00,  1.39it/s, loss=0.581]\n"
     ]
    },
    {
     "name": "stdout",
     "output_type": "stream",
     "text": [
      "Validation Dice Score\n",
      "Class 0: 0.0000, Class 1: 0.7413, Class 2: 0.0005, Class 3: 0.0024, \n",
      "Class 4: 0.3144, Class 5: 0.4132, Class 6: 0.6493, \n",
      "Validation F-beta Score\n",
      "Class 0: 0.0000, Class 1: 0.7933, Class 2: 0.0043, Class 3: 0.0200, \n",
      "Class 4: 0.5359, Class 5: 0.4177, Class 6: 0.6856, \n",
      "Overall Mean Dice Score: 0.4241\n",
      "Overall Mean F-beta Score: 0.4905\n",
      "\n",
      "Training Loss: 0.5522, Validation Loss: 0.5371, Validation F-beta: 0.4905\n",
      "Epoch 92/4000\n",
      "Current lambda: 0.4700\n"
     ]
    },
    {
     "name": "stderr",
     "output_type": "stream",
     "text": [
      "Training: 100%|██████████| 24/24 [00:42<00:00,  1.76s/it, loss=0.471]\n",
      "Validation: 100%|██████████| 4/4 [00:02<00:00,  1.40it/s, loss=0.598]\n"
     ]
    },
    {
     "name": "stdout",
     "output_type": "stream",
     "text": [
      "Validation Dice Score\n",
      "Class 0: 0.0000, Class 1: 0.4849, Class 2: 0.0003, Class 3: 0.0048, \n",
      "Class 4: 0.1930, Class 5: 0.2627, Class 6: 0.5994, \n",
      "Validation F-beta Score\n",
      "Class 0: 0.0000, Class 1: 0.6497, Class 2: 0.0022, Class 3: 0.0384, \n",
      "Class 4: 0.1398, Class 5: 0.3160, Class 6: 0.6692, \n",
      "Overall Mean Dice Score: 0.3090\n",
      "Overall Mean F-beta Score: 0.3626\n",
      "\n",
      "Training Loss: 0.5578, Validation Loss: 0.5755, Validation F-beta: 0.3626\n",
      "Validation loss did not improve. Reducing lambda to 0.4600\n",
      "Epoch 93/4000\n",
      "Current lambda: 0.4600\n"
     ]
    },
    {
     "name": "stderr",
     "output_type": "stream",
     "text": [
      "Training: 100%|██████████| 24/24 [00:42<00:00,  1.76s/it, loss=0.529]\n",
      "Validation: 100%|██████████| 4/4 [00:02<00:00,  1.39it/s, loss=0.387]\n"
     ]
    },
    {
     "name": "stdout",
     "output_type": "stream",
     "text": [
      "Validation Dice Score\n",
      "Class 0: 0.0000, Class 1: 0.3910, Class 2: 0.0005, Class 3: 0.0015, \n",
      "Class 4: 0.5029, Class 5: 0.2812, Class 6: 0.6491, \n",
      "Validation F-beta Score\n",
      "Class 0: 0.0000, Class 1: 0.4389, Class 2: 0.0039, Class 3: 0.0121, \n",
      "Class 4: 0.6485, Class 5: 0.2327, Class 6: 0.6713, \n",
      "Overall Mean Dice Score: 0.3651\n",
      "Overall Mean F-beta Score: 0.4007\n",
      "\n",
      "Training Loss: 0.5655, Validation Loss: 0.5007, Validation F-beta: 0.4007\n",
      "Epoch 94/4000\n",
      "Current lambda: 0.4600\n"
     ]
    },
    {
     "name": "stderr",
     "output_type": "stream",
     "text": [
      "Training: 100%|██████████| 24/24 [00:42<00:00,  1.77s/it, loss=0.571]\n",
      "Validation: 100%|██████████| 4/4 [00:02<00:00,  1.43it/s, loss=0.556]\n"
     ]
    },
    {
     "name": "stdout",
     "output_type": "stream",
     "text": [
      "Validation Dice Score\n",
      "Class 0: 0.0000, Class 1: 0.4318, Class 2: 0.0006, Class 3: 0.0010, \n",
      "Class 4: 0.5443, Class 5: 0.2603, Class 6: 0.6211, \n",
      "Validation F-beta Score\n",
      "Class 0: 0.0000, Class 1: 0.5891, Class 2: 0.0048, Class 3: 0.0077, \n",
      "Class 4: 0.6698, Class 5: 0.2701, Class 6: 0.6487, \n",
      "Overall Mean Dice Score: 0.3717\n",
      "Overall Mean F-beta Score: 0.4371\n",
      "\n",
      "Training Loss: 0.5614, Validation Loss: 0.5678, Validation F-beta: 0.4371\n",
      "Epoch 95/4000\n",
      "Current lambda: 0.4600\n"
     ]
    },
    {
     "name": "stderr",
     "output_type": "stream",
     "text": [
      "Training: 100%|██████████| 24/24 [00:42<00:00,  1.76s/it, loss=0.611]\n",
      "Validation: 100%|██████████| 4/4 [00:02<00:00,  1.35it/s, loss=0.502]\n"
     ]
    },
    {
     "name": "stdout",
     "output_type": "stream",
     "text": [
      "Validation Dice Score\n",
      "Class 0: 0.0000, Class 1: 0.3305, Class 2: 0.0001, Class 3: 0.0040, \n",
      "Class 4: 0.4002, Class 5: 0.2173, Class 6: 0.4391, \n",
      "Validation F-beta Score\n",
      "Class 0: 0.0000, Class 1: 0.5526, Class 2: 0.0010, Class 3: 0.0328, \n",
      "Class 4: 0.2945, Class 5: 0.3040, Class 6: 0.4380, \n",
      "Overall Mean Dice Score: 0.2782\n",
      "Overall Mean F-beta Score: 0.3243\n",
      "\n",
      "Training Loss: 0.5566, Validation Loss: 0.5833, Validation F-beta: 0.3243\n",
      "Epoch 96/4000\n",
      "Current lambda: 0.4600\n"
     ]
    },
    {
     "name": "stderr",
     "output_type": "stream",
     "text": [
      "Training: 100%|██████████| 24/24 [00:42<00:00,  1.76s/it, loss=0.572]\n",
      "Validation: 100%|██████████| 4/4 [00:02<00:00,  1.35it/s, loss=0.546]\n"
     ]
    },
    {
     "name": "stdout",
     "output_type": "stream",
     "text": [
      "Validation Dice Score\n",
      "Class 0: 0.0000, Class 1: 0.4708, Class 2: 0.0015, Class 3: 0.0018, \n",
      "Class 4: 0.3749, Class 5: 0.2461, Class 6: 0.5728, \n",
      "Validation F-beta Score\n",
      "Class 0: 0.0000, Class 1: 0.5984, Class 2: 0.0119, Class 3: 0.0147, \n",
      "Class 4: 0.5514, Class 5: 0.2543, Class 6: 0.5041, \n",
      "Overall Mean Dice Score: 0.3333\n",
      "Overall Mean F-beta Score: 0.3846\n",
      "\n",
      "Training Loss: 0.5595, Validation Loss: 0.5806, Validation F-beta: 0.3846\n",
      "Epoch 97/4000\n",
      "Current lambda: 0.4600\n"
     ]
    },
    {
     "name": "stderr",
     "output_type": "stream",
     "text": [
      "Training: 100%|██████████| 24/24 [00:42<00:00,  1.77s/it, loss=0.488]\n",
      "Validation: 100%|██████████| 4/4 [00:02<00:00,  1.36it/s, loss=0.53] \n"
     ]
    },
    {
     "name": "stdout",
     "output_type": "stream",
     "text": [
      "Validation Dice Score\n",
      "Class 0: 0.0000, Class 1: 0.4062, Class 2: 0.0009, Class 3: 0.0050, \n",
      "Class 4: 0.1754, Class 5: 0.4420, Class 6: 0.6318, \n",
      "Validation F-beta Score\n",
      "Class 0: 0.0000, Class 1: 0.6010, Class 2: 0.0074, Class 3: 0.0399, \n",
      "Class 4: 0.3351, Class 5: 0.5770, Class 6: 0.6666, \n",
      "Overall Mean Dice Score: 0.3321\n",
      "Overall Mean F-beta Score: 0.4439\n",
      "\n",
      "Training Loss: 0.5598, Validation Loss: 0.5599, Validation F-beta: 0.4439\n",
      "Epoch 98/4000\n",
      "Current lambda: 0.4600\n"
     ]
    },
    {
     "name": "stderr",
     "output_type": "stream",
     "text": [
      "Training: 100%|██████████| 24/24 [00:42<00:00,  1.77s/it, loss=0.573]\n",
      "Validation: 100%|██████████| 4/4 [00:02<00:00,  1.34it/s, loss=0.453]\n"
     ]
    },
    {
     "name": "stdout",
     "output_type": "stream",
     "text": [
      "Validation Dice Score\n",
      "Class 0: 0.0000, Class 1: 0.6224, Class 2: 0.0008, Class 3: 0.0019, \n",
      "Class 4: 0.4921, Class 5: 0.3325, Class 6: 0.4677, \n",
      "Validation F-beta Score\n",
      "Class 0: 0.0000, Class 1: 0.5698, Class 2: 0.0066, Class 3: 0.0156, \n",
      "Class 4: 0.4702, Class 5: 0.3216, Class 6: 0.4934, \n",
      "Overall Mean Dice Score: 0.3833\n",
      "Overall Mean F-beta Score: 0.3741\n",
      "\n",
      "Training Loss: 0.5600, Validation Loss: 0.4976, Validation F-beta: 0.3741\n",
      "========================================================\n",
      "Best model saved based on validation loss: 0.4976\n",
      "========================================================\n",
      "Epoch 99/4000\n",
      "Current lambda: 0.4600\n"
     ]
    },
    {
     "name": "stderr",
     "output_type": "stream",
     "text": [
      "Training: 100%|██████████| 24/24 [00:42<00:00,  1.76s/it, loss=0.584]\n",
      "Validation: 100%|██████████| 4/4 [00:02<00:00,  1.41it/s, loss=0.669]\n"
     ]
    },
    {
     "name": "stdout",
     "output_type": "stream",
     "text": [
      "Validation Dice Score\n",
      "Class 0: 0.0000, Class 1: 0.1691, Class 2: 0.0002, Class 3: 0.0051, \n",
      "Class 4: 0.6640, Class 5: 0.1773, Class 6: 0.4410, \n",
      "Validation F-beta Score\n",
      "Class 0: 0.0000, Class 1: 0.1420, Class 2: 0.0020, Class 3: 0.0409, \n",
      "Class 4: 0.7071, Class 5: 0.2233, Class 6: 0.4339, \n",
      "Overall Mean Dice Score: 0.2913\n",
      "Overall Mean F-beta Score: 0.3094\n",
      "\n",
      "Training Loss: 0.5650, Validation Loss: 0.6067, Validation F-beta: 0.3094\n",
      "Epoch 100/4000\n",
      "Current lambda: 0.4600\n"
     ]
    },
    {
     "name": "stderr",
     "output_type": "stream",
     "text": [
      "Training: 100%|██████████| 24/24 [00:42<00:00,  1.77s/it, loss=0.564]\n",
      "Validation: 100%|██████████| 4/4 [00:02<00:00,  1.39it/s, loss=0.458]\n"
     ]
    },
    {
     "name": "stdout",
     "output_type": "stream",
     "text": [
      "Validation Dice Score\n",
      "Class 0: 0.0000, Class 1: 0.7655, Class 2: 0.0010, Class 3: 0.0016, \n",
      "Class 4: 0.4850, Class 5: 0.3699, Class 6: 0.6730, \n",
      "Validation F-beta Score\n",
      "Class 0: 0.0000, Class 1: 0.8374, Class 2: 0.0086, Class 3: 0.0131, \n",
      "Class 4: 0.6101, Class 5: 0.3252, Class 6: 0.5953, \n",
      "Overall Mean Dice Score: 0.4590\n",
      "Overall Mean F-beta Score: 0.4762\n",
      "\n",
      "Training Loss: 0.5598, Validation Loss: 0.5157, Validation F-beta: 0.4762\n",
      "Epoch 101/4000\n",
      "Current lambda: 0.4600\n"
     ]
    },
    {
     "name": "stderr",
     "output_type": "stream",
     "text": [
      "Training: 100%|██████████| 24/24 [00:42<00:00,  1.75s/it, loss=0.541]\n",
      "Validation: 100%|██████████| 4/4 [00:02<00:00,  1.37it/s, loss=0.583]\n"
     ]
    },
    {
     "name": "stdout",
     "output_type": "stream",
     "text": [
      "Validation Dice Score\n",
      "Class 0: 0.0000, Class 1: 0.2857, Class 2: 0.0002, Class 3: 0.0044, \n",
      "Class 4: 0.3701, Class 5: 0.3025, Class 6: 0.6210, \n",
      "Validation F-beta Score\n",
      "Class 0: 0.0000, Class 1: 0.3634, Class 2: 0.0017, Class 3: 0.0352, \n",
      "Class 4: 0.2996, Class 5: 0.3770, Class 6: 0.6462, \n",
      "Overall Mean Dice Score: 0.3167\n",
      "Overall Mean F-beta Score: 0.3443\n",
      "\n",
      "Training Loss: 0.5413, Validation Loss: 0.5765, Validation F-beta: 0.3443\n",
      "Epoch 102/4000\n",
      "Current lambda: 0.4600\n"
     ]
    },
    {
     "name": "stderr",
     "output_type": "stream",
     "text": [
      "Training: 100%|██████████| 24/24 [00:42<00:00,  1.76s/it, loss=0.384]\n",
      "Validation: 100%|██████████| 4/4 [00:02<00:00,  1.36it/s, loss=0.466]\n"
     ]
    },
    {
     "name": "stdout",
     "output_type": "stream",
     "text": [
      "Validation Dice Score\n",
      "Class 0: 0.0000, Class 1: 0.5418, Class 2: 0.0005, Class 3: 0.0025, \n",
      "Class 4: 0.4824, Class 5: 0.3987, Class 6: 0.6625, \n",
      "Validation F-beta Score\n",
      "Class 0: 0.0000, Class 1: 0.5867, Class 2: 0.0039, Class 3: 0.0199, \n",
      "Class 4: 0.6802, Class 5: 0.4669, Class 6: 0.6853, \n",
      "Overall Mean Dice Score: 0.4176\n",
      "Overall Mean F-beta Score: 0.4878\n",
      "\n",
      "Training Loss: 0.5551, Validation Loss: 0.5204, Validation F-beta: 0.4878\n",
      "Epoch 103/4000\n",
      "Current lambda: 0.4600\n"
     ]
    },
    {
     "name": "stderr",
     "output_type": "stream",
     "text": [
      "Training: 100%|██████████| 24/24 [00:42<00:00,  1.76s/it, loss=0.561]\n",
      "Validation: 100%|██████████| 4/4 [00:02<00:00,  1.39it/s, loss=0.534]\n"
     ]
    },
    {
     "name": "stdout",
     "output_type": "stream",
     "text": [
      "Validation Dice Score\n",
      "Class 0: 0.0000, Class 1: 0.4850, Class 2: 0.0003, Class 3: 0.0052, \n",
      "Class 4: 0.2980, Class 5: 0.2171, Class 6: 0.8180, \n",
      "Validation F-beta Score\n",
      "Class 0: 0.0000, Class 1: 0.3898, Class 2: 0.0025, Class 3: 0.0414, \n",
      "Class 4: 0.4012, Class 5: 0.2757, Class 6: 0.9097, \n",
      "Overall Mean Dice Score: 0.3647\n",
      "Overall Mean F-beta Score: 0.4036\n",
      "\n",
      "Training Loss: 0.5643, Validation Loss: 0.5483, Validation F-beta: 0.4036\n",
      "Epoch 104/4000\n",
      "Current lambda: 0.4600\n"
     ]
    },
    {
     "name": "stderr",
     "output_type": "stream",
     "text": [
      "Training: 100%|██████████| 24/24 [00:42<00:00,  1.76s/it, loss=0.537]\n",
      "Validation: 100%|██████████| 4/4 [00:02<00:00,  1.39it/s, loss=0.584]\n"
     ]
    },
    {
     "name": "stdout",
     "output_type": "stream",
     "text": [
      "Validation Dice Score\n",
      "Class 0: 0.0000, Class 1: 0.5300, Class 2: 0.0007, Class 3: 0.0014, \n",
      "Class 4: 0.1741, Class 5: 0.3236, Class 6: 0.6595, \n",
      "Validation F-beta Score\n",
      "Class 0: 0.0000, Class 1: 0.8603, Class 2: 0.0055, Class 3: 0.0106, \n",
      "Class 4: 0.2164, Class 5: 0.3690, Class 6: 0.7658, \n",
      "Overall Mean Dice Score: 0.3377\n",
      "Overall Mean F-beta Score: 0.4444\n",
      "\n",
      "Training Loss: 0.5538, Validation Loss: 0.5607, Validation F-beta: 0.4444\n",
      "Epoch 105/4000\n",
      "Current lambda: 0.4600\n"
     ]
    },
    {
     "name": "stderr",
     "output_type": "stream",
     "text": [
      "Training: 100%|██████████| 24/24 [00:42<00:00,  1.76s/it, loss=0.64] \n",
      "Validation: 100%|██████████| 4/4 [00:02<00:00,  1.43it/s, loss=0.604]\n"
     ]
    },
    {
     "name": "stdout",
     "output_type": "stream",
     "text": [
      "Validation Dice Score\n",
      "Class 0: 0.0000, Class 1: 0.1509, Class 2: 0.0005, Class 3: 0.0037, \n",
      "Class 4: 0.5186, Class 5: 0.3824, Class 6: 0.8229, \n",
      "Validation F-beta Score\n",
      "Class 0: 0.0000, Class 1: 0.1677, Class 2: 0.0041, Class 3: 0.0303, \n",
      "Class 4: 0.5140, Class 5: 0.3875, Class 6: 0.8578, \n",
      "Overall Mean Dice Score: 0.3757\n",
      "Overall Mean F-beta Score: 0.3915\n",
      "\n",
      "Training Loss: 0.5549, Validation Loss: 0.5553, Validation F-beta: 0.3915\n",
      "Epoch 106/4000\n",
      "Current lambda: 0.4600\n"
     ]
    },
    {
     "name": "stderr",
     "output_type": "stream",
     "text": [
      "Training: 100%|██████████| 24/24 [00:42<00:00,  1.76s/it, loss=0.597]\n",
      "Validation: 100%|██████████| 4/4 [00:02<00:00,  1.37it/s, loss=0.499]\n"
     ]
    },
    {
     "name": "stdout",
     "output_type": "stream",
     "text": [
      "Validation Dice Score\n",
      "Class 0: 0.0000, Class 1: 0.4912, Class 2: 0.0001, Class 3: 0.0018, \n",
      "Class 4: 0.4432, Class 5: 0.4669, Class 6: 0.7221, \n",
      "Validation F-beta Score\n",
      "Class 0: 0.0000, Class 1: 0.6566, Class 2: 0.0008, Class 3: 0.0142, \n",
      "Class 4: 0.5533, Class 5: 0.4663, Class 6: 0.8743, \n",
      "Overall Mean Dice Score: 0.4250\n",
      "Overall Mean F-beta Score: 0.5129\n",
      "\n",
      "Training Loss: 0.5728, Validation Loss: 0.5309, Validation F-beta: 0.5129\n",
      "Epoch 107/4000\n",
      "Current lambda: 0.4600\n"
     ]
    },
    {
     "name": "stderr",
     "output_type": "stream",
     "text": [
      "Training: 100%|██████████| 24/24 [00:42<00:00,  1.77s/it, loss=0.547]\n",
      "Validation: 100%|██████████| 4/4 [00:02<00:00,  1.37it/s, loss=0.494]\n"
     ]
    },
    {
     "name": "stdout",
     "output_type": "stream",
     "text": [
      "Validation Dice Score\n",
      "Class 0: 0.0000, Class 1: 0.4708, Class 2: 0.0006, Class 3: 0.0047, \n",
      "Class 4: 0.4365, Class 5: 0.4253, Class 6: 0.4653, \n",
      "Validation F-beta Score\n",
      "Class 0: 0.0000, Class 1: 0.5594, Class 2: 0.0053, Class 3: 0.0379, \n",
      "Class 4: 0.5476, Class 5: 0.4949, Class 6: 0.6130, \n",
      "Overall Mean Dice Score: 0.3605\n",
      "Overall Mean F-beta Score: 0.4505\n",
      "\n",
      "Training Loss: 0.5793, Validation Loss: 0.5374, Validation F-beta: 0.4505\n",
      "Validation loss did not improve. Reducing lambda to 0.4500\n",
      "Epoch 108/4000\n",
      "Current lambda: 0.4500\n"
     ]
    },
    {
     "name": "stderr",
     "output_type": "stream",
     "text": [
      "Training: 100%|██████████| 24/24 [00:42<00:00,  1.77s/it, loss=0.61] \n",
      "Validation: 100%|██████████| 4/4 [00:02<00:00,  1.38it/s, loss=0.594]\n"
     ]
    },
    {
     "name": "stdout",
     "output_type": "stream",
     "text": [
      "Validation Dice Score\n",
      "Class 0: 0.0000, Class 1: 0.3738, Class 2: 0.0007, Class 3: 0.0022, \n",
      "Class 4: 0.5474, Class 5: 0.3970, Class 6: 0.5811, \n",
      "Validation F-beta Score\n",
      "Class 0: 0.0000, Class 1: 0.4912, Class 2: 0.0060, Class 3: 0.0176, \n",
      "Class 4: 0.5364, Class 5: 0.4603, Class 6: 0.6569, \n",
      "Overall Mean Dice Score: 0.3803\n",
      "Overall Mean F-beta Score: 0.4325\n",
      "\n",
      "Training Loss: 0.5645, Validation Loss: 0.5375, Validation F-beta: 0.4325\n",
      "Epoch 109/4000\n",
      "Current lambda: 0.4500\n"
     ]
    },
    {
     "name": "stderr",
     "output_type": "stream",
     "text": [
      "Training: 100%|██████████| 24/24 [00:42<00:00,  1.77s/it, loss=0.703]\n",
      "Validation: 100%|██████████| 4/4 [00:02<00:00,  1.39it/s, loss=0.519]\n"
     ]
    },
    {
     "name": "stdout",
     "output_type": "stream",
     "text": [
      "Validation Dice Score\n",
      "Class 0: 0.0000, Class 1: 0.7059, Class 2: 0.0008, Class 3: 0.0008, \n",
      "Class 4: 0.7012, Class 5: 0.4262, Class 6: 0.7941, \n",
      "Validation F-beta Score\n",
      "Class 0: 0.0000, Class 1: 0.7233, Class 2: 0.0066, Class 3: 0.0066, \n",
      "Class 4: 0.7678, Class 5: 0.4015, Class 6: 0.8847, \n",
      "Overall Mean Dice Score: 0.5256\n",
      "Overall Mean F-beta Score: 0.5568\n",
      "\n",
      "Training Loss: 0.5601, Validation Loss: 0.4504, Validation F-beta: 0.5568\n",
      "========================================================\n",
      "SUPER Best model saved. Loss:0.4504, Score:0.5568\n",
      "========================================================\n",
      "Epoch 110/4000\n",
      "Current lambda: 0.4500\n"
     ]
    },
    {
     "name": "stderr",
     "output_type": "stream",
     "text": [
      "Training: 100%|██████████| 24/24 [00:42<00:00,  1.75s/it, loss=0.523]\n",
      "Validation: 100%|██████████| 4/4 [00:02<00:00,  1.38it/s, loss=0.539]\n"
     ]
    },
    {
     "name": "stdout",
     "output_type": "stream",
     "text": [
      "Validation Dice Score\n",
      "Class 0: 0.0000, Class 1: 0.5220, Class 2: 0.0002, Class 3: 0.0080, \n",
      "Class 4: 0.5794, Class 5: 0.3602, Class 6: 0.3198, \n",
      "Validation F-beta Score\n",
      "Class 0: 0.0000, Class 1: 0.6035, Class 2: 0.0020, Class 3: 0.0637, \n",
      "Class 4: 0.6298, Class 5: 0.2805, Class 6: 0.3549, \n",
      "Overall Mean Dice Score: 0.3579\n",
      "Overall Mean F-beta Score: 0.3865\n",
      "\n",
      "Training Loss: 0.5456, Validation Loss: 0.5499, Validation F-beta: 0.3865\n",
      "Epoch 111/4000\n",
      "Current lambda: 0.4500\n"
     ]
    },
    {
     "name": "stderr",
     "output_type": "stream",
     "text": [
      "Training: 100%|██████████| 24/24 [00:42<00:00,  1.76s/it, loss=0.577]\n",
      "Validation: 100%|██████████| 4/4 [00:02<00:00,  1.42it/s, loss=0.538]\n"
     ]
    },
    {
     "name": "stdout",
     "output_type": "stream",
     "text": [
      "Validation Dice Score\n",
      "Class 0: 0.0000, Class 1: 0.5626, Class 2: 0.0002, Class 3: 0.0055, \n",
      "Class 4: 0.5439, Class 5: 0.3566, Class 6: 0.8297, \n",
      "Validation F-beta Score\n",
      "Class 0: 0.0000, Class 1: 0.7203, Class 2: 0.0016, Class 3: 0.0428, \n",
      "Class 4: 0.4979, Class 5: 0.4336, Class 6: 0.7742, \n",
      "Overall Mean Dice Score: 0.4597\n",
      "Overall Mean F-beta Score: 0.4938\n",
      "\n",
      "Training Loss: 0.5488, Validation Loss: 0.5194, Validation F-beta: 0.4938\n",
      "Epoch 112/4000\n",
      "Current lambda: 0.4500\n"
     ]
    },
    {
     "name": "stderr",
     "output_type": "stream",
     "text": [
      "Training: 100%|██████████| 24/24 [00:42<00:00,  1.76s/it, loss=0.635]\n",
      "Validation: 100%|██████████| 4/4 [00:02<00:00,  1.42it/s, loss=0.566]\n"
     ]
    },
    {
     "name": "stdout",
     "output_type": "stream",
     "text": [
      "Validation Dice Score\n",
      "Class 0: 0.0000, Class 1: 0.4344, Class 2: 0.0002, Class 3: 0.0037, \n",
      "Class 4: 0.4945, Class 5: 0.2998, Class 6: 0.6221, \n",
      "Validation F-beta Score\n",
      "Class 0: 0.0000, Class 1: 0.5440, Class 2: 0.0015, Class 3: 0.0294, \n",
      "Class 4: 0.6075, Class 5: 0.3216, Class 6: 0.6339, \n",
      "Overall Mean Dice Score: 0.3709\n",
      "Overall Mean F-beta Score: 0.4273\n",
      "\n",
      "Training Loss: 0.5680, Validation Loss: 0.5427, Validation F-beta: 0.4273\n",
      "Epoch 113/4000\n",
      "Current lambda: 0.4500\n"
     ]
    },
    {
     "name": "stderr",
     "output_type": "stream",
     "text": [
      "Training: 100%|██████████| 24/24 [00:42<00:00,  1.76s/it, loss=0.579]\n",
      "Validation: 100%|██████████| 4/4 [00:02<00:00,  1.38it/s, loss=0.48] \n"
     ]
    },
    {
     "name": "stdout",
     "output_type": "stream",
     "text": [
      "Validation Dice Score\n",
      "Class 0: 0.0000, Class 1: 0.5732, Class 2: 0.0005, Class 3: 0.0028, \n",
      "Class 4: 0.4847, Class 5: 0.4370, Class 6: 0.4740, \n",
      "Validation F-beta Score\n",
      "Class 0: 0.0000, Class 1: 0.6472, Class 2: 0.0041, Class 3: 0.0225, \n",
      "Class 4: 0.6524, Class 5: 0.5220, Class 6: 0.5400, \n",
      "Overall Mean Dice Score: 0.3943\n",
      "Overall Mean F-beta Score: 0.4768\n",
      "\n",
      "Training Loss: 0.5663, Validation Loss: 0.5377, Validation F-beta: 0.4768\n",
      "Epoch 114/4000\n",
      "Current lambda: 0.4500\n"
     ]
    },
    {
     "name": "stderr",
     "output_type": "stream",
     "text": [
      "Training: 100%|██████████| 24/24 [00:42<00:00,  1.76s/it, loss=0.548]\n",
      "Validation: 100%|██████████| 4/4 [00:02<00:00,  1.39it/s, loss=0.637]\n"
     ]
    },
    {
     "name": "stdout",
     "output_type": "stream",
     "text": [
      "Validation Dice Score\n",
      "Class 0: 0.0000, Class 1: 0.5764, Class 2: 0.0004, Class 3: 0.0022, \n",
      "Class 4: 0.4797, Class 5: 0.4148, Class 6: 0.6229, \n",
      "Validation F-beta Score\n",
      "Class 0: 0.0000, Class 1: 0.5578, Class 2: 0.0033, Class 3: 0.0181, \n",
      "Class 4: 0.4710, Class 5: 0.4329, Class 6: 0.7017, \n",
      "Overall Mean Dice Score: 0.4192\n",
      "Overall Mean F-beta Score: 0.4363\n",
      "\n",
      "Training Loss: 0.5735, Validation Loss: 0.5160, Validation F-beta: 0.4363\n",
      "Epoch 115/4000\n",
      "Current lambda: 0.4500\n"
     ]
    },
    {
     "name": "stderr",
     "output_type": "stream",
     "text": [
      "Training: 100%|██████████| 24/24 [00:42<00:00,  1.76s/it, loss=0.546]\n",
      "Validation: 100%|██████████| 4/4 [00:02<00:00,  1.40it/s, loss=0.542]\n"
     ]
    },
    {
     "name": "stdout",
     "output_type": "stream",
     "text": [
      "Validation Dice Score\n",
      "Class 0: 0.0000, Class 1: 0.6296, Class 2: 0.0000, Class 3: 0.0033, \n",
      "Class 4: 0.4593, Class 5: 0.4481, Class 6: 0.3431, \n",
      "Validation F-beta Score\n",
      "Class 0: 0.0000, Class 1: 0.8235, Class 2: 0.0001, Class 3: 0.0265, \n",
      "Class 4: 0.4262, Class 5: 0.4259, Class 6: 0.4507, \n",
      "Overall Mean Dice Score: 0.3767\n",
      "Overall Mean F-beta Score: 0.4306\n",
      "\n",
      "Training Loss: 0.5472, Validation Loss: 0.5637, Validation F-beta: 0.4306\n",
      "Epoch 116/4000\n",
      "Current lambda: 0.4500\n"
     ]
    },
    {
     "name": "stderr",
     "output_type": "stream",
     "text": [
      "Training: 100%|██████████| 24/24 [00:42<00:00,  1.75s/it, loss=0.49] \n",
      "Validation: 100%|██████████| 4/4 [00:02<00:00,  1.39it/s, loss=0.652]\n"
     ]
    },
    {
     "name": "stdout",
     "output_type": "stream",
     "text": [
      "Validation Dice Score\n",
      "Class 0: 0.0000, Class 1: 0.5530, Class 2: 0.0007, Class 3: 0.0029, \n",
      "Class 4: 0.6364, Class 5: 0.4097, Class 6: 0.1857, \n",
      "Validation F-beta Score\n",
      "Class 0: 0.0000, Class 1: 0.6748, Class 2: 0.0060, Class 3: 0.0235, \n",
      "Class 4: 0.6509, Class 5: 0.3865, Class 6: 0.2395, \n",
      "Overall Mean Dice Score: 0.3575\n",
      "Overall Mean F-beta Score: 0.3950\n",
      "\n",
      "Training Loss: 0.5498, Validation Loss: 0.5401, Validation F-beta: 0.3950\n",
      "Epoch 117/4000\n",
      "Current lambda: 0.4500\n"
     ]
    },
    {
     "name": "stderr",
     "output_type": "stream",
     "text": [
      "Training: 100%|██████████| 24/24 [00:42<00:00,  1.76s/it, loss=0.528]\n",
      "Validation: 100%|██████████| 4/4 [00:02<00:00,  1.39it/s, loss=0.548]\n"
     ]
    },
    {
     "name": "stdout",
     "output_type": "stream",
     "text": [
      "Validation Dice Score\n",
      "Class 0: 0.0000, Class 1: 0.7795, Class 2: 0.0008, Class 3: 0.0051, \n",
      "Class 4: 0.3674, Class 5: 0.6545, Class 6: 0.8541, \n",
      "Validation F-beta Score\n",
      "Class 0: 0.0000, Class 1: 0.8160, Class 2: 0.0068, Class 3: 0.0407, \n",
      "Class 4: 0.4767, Class 5: 0.6925, Class 6: 0.8875, \n",
      "Overall Mean Dice Score: 0.5321\n",
      "Overall Mean F-beta Score: 0.5827\n",
      "\n",
      "Training Loss: 0.5693, Validation Loss: 0.4689, Validation F-beta: 0.5827\n",
      "========================================================\n",
      "Best model saved based on F-beta score: 0.5827\n",
      "========================================================\n",
      "Epoch 118/4000\n",
      "Current lambda: 0.4500\n"
     ]
    },
    {
     "name": "stderr",
     "output_type": "stream",
     "text": [
      "Training: 100%|██████████| 24/24 [00:42<00:00,  1.77s/it, loss=0.539]\n",
      "Validation: 100%|██████████| 4/4 [00:02<00:00,  1.40it/s, loss=0.571]\n"
     ]
    },
    {
     "name": "stdout",
     "output_type": "stream",
     "text": [
      "Validation Dice Score\n",
      "Class 0: 0.0000, Class 1: 0.5143, Class 2: 0.0005, Class 3: 0.0040, \n",
      "Class 4: 0.3490, Class 5: 0.3185, Class 6: 0.6410, \n",
      "Validation F-beta Score\n",
      "Class 0: 0.0000, Class 1: 0.4660, Class 2: 0.0044, Class 3: 0.0319, \n",
      "Class 4: 0.4477, Class 5: 0.4982, Class 6: 0.6541, \n",
      "Overall Mean Dice Score: 0.3654\n",
      "Overall Mean F-beta Score: 0.4196\n",
      "\n",
      "Training Loss: 0.5539, Validation Loss: 0.5744, Validation F-beta: 0.4196\n",
      "Epoch 119/4000\n",
      "Current lambda: 0.4500\n"
     ]
    },
    {
     "name": "stderr",
     "output_type": "stream",
     "text": [
      "Training: 100%|██████████| 24/24 [00:42<00:00,  1.76s/it, loss=0.57] \n",
      "Validation: 100%|██████████| 4/4 [00:02<00:00,  1.36it/s, loss=0.515]\n"
     ]
    },
    {
     "name": "stdout",
     "output_type": "stream",
     "text": [
      "Validation Dice Score\n",
      "Class 0: 0.0000, Class 1: 0.3539, Class 2: 0.0006, Class 3: 0.0040, \n",
      "Class 4: 0.3492, Class 5: 0.3115, Class 6: 0.6634, \n",
      "Validation F-beta Score\n",
      "Class 0: 0.0000, Class 1: 0.4128, Class 2: 0.0047, Class 3: 0.0319, \n",
      "Class 4: 0.2944, Class 5: 0.5592, Class 6: 0.6660, \n",
      "Overall Mean Dice Score: 0.3364\n",
      "Overall Mean F-beta Score: 0.3929\n",
      "\n",
      "Training Loss: 0.5565, Validation Loss: 0.5672, Validation F-beta: 0.3929\n",
      "Epoch 120/4000\n",
      "Current lambda: 0.4500\n"
     ]
    },
    {
     "name": "stderr",
     "output_type": "stream",
     "text": [
      "Training: 100%|██████████| 24/24 [00:42<00:00,  1.76s/it, loss=0.539]\n",
      "Validation: 100%|██████████| 4/4 [00:02<00:00,  1.38it/s, loss=0.547]\n"
     ]
    },
    {
     "name": "stdout",
     "output_type": "stream",
     "text": [
      "Validation Dice Score\n",
      "Class 0: 0.0000, Class 1: 0.5190, Class 2: 0.0006, Class 3: 0.0044, \n",
      "Class 4: 0.6158, Class 5: 0.2533, Class 6: 0.1305, \n",
      "Validation F-beta Score\n",
      "Class 0: 0.0000, Class 1: 0.8290, Class 2: 0.0054, Class 3: 0.0344, \n",
      "Class 4: 0.5785, Class 5: 0.2189, Class 6: 0.4403, \n",
      "Overall Mean Dice Score: 0.3046\n",
      "Overall Mean F-beta Score: 0.4202\n",
      "\n",
      "Training Loss: 0.5407, Validation Loss: 0.5749, Validation F-beta: 0.4202\n",
      "Epoch 121/4000\n",
      "Current lambda: 0.4500\n"
     ]
    },
    {
     "name": "stderr",
     "output_type": "stream",
     "text": [
      "Training: 100%|██████████| 24/24 [00:42<00:00,  1.76s/it, loss=0.518]\n",
      "Validation: 100%|██████████| 4/4 [00:02<00:00,  1.39it/s, loss=0.456]\n"
     ]
    },
    {
     "name": "stdout",
     "output_type": "stream",
     "text": [
      "Validation Dice Score\n",
      "Class 0: 0.0000, Class 1: 0.7181, Class 2: 0.0010, Class 3: 0.0037, \n",
      "Class 4: 0.3215, Class 5: 0.3015, Class 6: 0.6509, \n",
      "Validation F-beta Score\n",
      "Class 0: 0.0000, Class 1: 0.7207, Class 2: 0.0081, Class 3: 0.0287, \n",
      "Class 4: 0.4287, Class 5: 0.3942, Class 6: 0.5965, \n",
      "Overall Mean Dice Score: 0.3991\n",
      "Overall Mean F-beta Score: 0.4338\n",
      "\n",
      "Training Loss: 0.5469, Validation Loss: 0.5298, Validation F-beta: 0.4338\n",
      "Epoch 122/4000\n",
      "Current lambda: 0.4500\n"
     ]
    },
    {
     "name": "stderr",
     "output_type": "stream",
     "text": [
      "Training: 100%|██████████| 24/24 [00:42<00:00,  1.77s/it, loss=0.504]\n",
      "Validation: 100%|██████████| 4/4 [00:02<00:00,  1.43it/s, loss=0.528]\n"
     ]
    },
    {
     "name": "stdout",
     "output_type": "stream",
     "text": [
      "Validation Dice Score\n",
      "Class 0: 0.0000, Class 1: 0.6773, Class 2: 0.0004, Class 3: 0.0050, \n",
      "Class 4: 0.3943, Class 5: 0.2818, Class 6: 0.9142, \n",
      "Validation F-beta Score\n",
      "Class 0: 0.0000, Class 1: 0.8960, Class 2: 0.0031, Class 3: 0.0397, \n",
      "Class 4: 0.5402, Class 5: 0.2874, Class 6: 0.9237, \n",
      "Overall Mean Dice Score: 0.4545\n",
      "Overall Mean F-beta Score: 0.5374\n",
      "\n",
      "Training Loss: 0.5474, Validation Loss: 0.5445, Validation F-beta: 0.5374\n",
      "Epoch 123/4000\n",
      "Current lambda: 0.4500\n"
     ]
    },
    {
     "name": "stderr",
     "output_type": "stream",
     "text": [
      "Training: 100%|██████████| 24/24 [00:42<00:00,  1.76s/it, loss=0.598]\n",
      "Validation: 100%|██████████| 4/4 [00:02<00:00,  1.39it/s, loss=0.513]\n"
     ]
    },
    {
     "name": "stdout",
     "output_type": "stream",
     "text": [
      "Validation Dice Score\n",
      "Class 0: 0.0000, Class 1: 0.7074, Class 2: 0.0010, Class 3: 0.0053, \n",
      "Class 4: 0.3218, Class 5: 0.4953, Class 6: 0.4027, \n",
      "Validation F-beta Score\n",
      "Class 0: 0.0000, Class 1: 0.7641, Class 2: 0.0085, Class 3: 0.0420, \n",
      "Class 4: 0.2872, Class 5: 0.5061, Class 6: 0.6441, \n",
      "Overall Mean Dice Score: 0.3865\n",
      "Overall Mean F-beta Score: 0.4487\n",
      "\n",
      "Training Loss: 0.5637, Validation Loss: 0.5570, Validation F-beta: 0.4487\n",
      "Epoch 124/4000\n",
      "Current lambda: 0.4500\n"
     ]
    },
    {
     "name": "stderr",
     "output_type": "stream",
     "text": [
      "Training: 100%|██████████| 24/24 [00:42<00:00,  1.76s/it, loss=0.574]\n",
      "Validation: 100%|██████████| 4/4 [00:02<00:00,  1.38it/s, loss=0.528]\n"
     ]
    },
    {
     "name": "stdout",
     "output_type": "stream",
     "text": [
      "Validation Dice Score\n",
      "Class 0: 0.0000, Class 1: 0.5804, Class 2: 0.0014, Class 3: 0.0062, \n",
      "Class 4: 0.4483, Class 5: 0.2007, Class 6: 0.4311, \n",
      "Validation F-beta Score\n",
      "Class 0: 0.0000, Class 1: 0.6390, Class 2: 0.0113, Class 3: 0.0480, \n",
      "Class 4: 0.4094, Class 5: 0.2487, Class 6: 0.4404, \n",
      "Overall Mean Dice Score: 0.3334\n",
      "Overall Mean F-beta Score: 0.3571\n",
      "\n",
      "Training Loss: 0.5559, Validation Loss: 0.5632, Validation F-beta: 0.3571\n",
      "Epoch 125/4000\n",
      "Current lambda: 0.4500\n"
     ]
    },
    {
     "name": "stderr",
     "output_type": "stream",
     "text": [
      "Training: 100%|██████████| 24/24 [00:42<00:00,  1.76s/it, loss=0.532]\n",
      "Validation: 100%|██████████| 4/4 [00:02<00:00,  1.39it/s, loss=0.546]\n"
     ]
    },
    {
     "name": "stdout",
     "output_type": "stream",
     "text": [
      "Validation Dice Score\n",
      "Class 0: 0.0000, Class 1: 0.3598, Class 2: 0.0005, Class 3: 0.0023, \n",
      "Class 4: 0.5180, Class 5: 0.3074, Class 6: 0.3600, \n",
      "Validation F-beta Score\n",
      "Class 0: 0.0000, Class 1: 0.3963, Class 2: 0.0041, Class 3: 0.0183, \n",
      "Class 4: 0.5036, Class 5: 0.5137, Class 6: 0.4572, \n",
      "Overall Mean Dice Score: 0.3095\n",
      "Overall Mean F-beta Score: 0.3778\n",
      "\n",
      "Training Loss: 0.5682, Validation Loss: 0.5724, Validation F-beta: 0.3778\n",
      "Epoch 126/4000\n",
      "Current lambda: 0.4500\n"
     ]
    },
    {
     "name": "stderr",
     "output_type": "stream",
     "text": [
      "Training: 100%|██████████| 24/24 [00:42<00:00,  1.77s/it, loss=0.564]\n",
      "Validation: 100%|██████████| 4/4 [00:02<00:00,  1.39it/s, loss=0.614]\n"
     ]
    },
    {
     "name": "stdout",
     "output_type": "stream",
     "text": [
      "Validation Dice Score\n",
      "Class 0: 0.0000, Class 1: 0.4759, Class 2: 0.0002, Class 3: 0.0037, \n",
      "Class 4: 0.6115, Class 5: 0.3588, Class 6: 0.3620, \n",
      "Validation F-beta Score\n",
      "Class 0: 0.0000, Class 1: 0.5115, Class 2: 0.0018, Class 3: 0.0287, \n",
      "Class 4: 0.8311, Class 5: 0.5392, Class 6: 0.3563, \n",
      "Overall Mean Dice Score: 0.3624\n",
      "Overall Mean F-beta Score: 0.4534\n",
      "\n",
      "Training Loss: 0.5519, Validation Loss: 0.5705, Validation F-beta: 0.4534\n",
      "Validation loss did not improve. Reducing lambda to 0.4400\n",
      "Epoch 127/4000\n",
      "Current lambda: 0.4400\n"
     ]
    },
    {
     "name": "stderr",
     "output_type": "stream",
     "text": [
      "Training: 100%|██████████| 24/24 [00:42<00:00,  1.76s/it, loss=0.571]\n",
      "Validation: 100%|██████████| 4/4 [00:02<00:00,  1.40it/s, loss=0.458]\n"
     ]
    },
    {
     "name": "stdout",
     "output_type": "stream",
     "text": [
      "Validation Dice Score\n",
      "Class 0: 0.0000, Class 1: 0.5029, Class 2: 0.0006, Class 3: 0.0020, \n",
      "Class 4: 0.6251, Class 5: 0.4313, Class 6: 0.8248, \n",
      "Validation F-beta Score\n",
      "Class 0: 0.0000, Class 1: 0.6090, Class 2: 0.0052, Class 3: 0.0162, \n",
      "Class 4: 0.5727, Class 5: 0.4286, Class 6: 0.8602, \n",
      "Overall Mean Dice Score: 0.4772\n",
      "Overall Mean F-beta Score: 0.4973\n",
      "\n",
      "Training Loss: 0.5529, Validation Loss: 0.5145, Validation F-beta: 0.4973\n",
      "Epoch 128/4000\n",
      "Current lambda: 0.4400\n"
     ]
    },
    {
     "name": "stderr",
     "output_type": "stream",
     "text": [
      "Training: 100%|██████████| 24/24 [00:42<00:00,  1.76s/it, loss=0.659]\n",
      "Validation: 100%|██████████| 4/4 [00:02<00:00,  1.41it/s, loss=0.489]\n"
     ]
    },
    {
     "name": "stdout",
     "output_type": "stream",
     "text": [
      "Validation Dice Score\n",
      "Class 0: 0.0000, Class 1: 0.6758, Class 2: 0.0009, Class 3: 0.0030, \n",
      "Class 4: 0.5175, Class 5: 0.2966, Class 6: 0.3203, \n",
      "Validation F-beta Score\n",
      "Class 0: 0.0000, Class 1: 0.7619, Class 2: 0.0074, Class 3: 0.0239, \n",
      "Class 4: 0.6372, Class 5: 0.3869, Class 6: 0.3201, \n",
      "Overall Mean Dice Score: 0.3627\n",
      "Overall Mean F-beta Score: 0.4260\n",
      "\n",
      "Training Loss: 0.5493, Validation Loss: 0.5827, Validation F-beta: 0.4260\n",
      "Epoch 129/4000\n",
      "Current lambda: 0.4400\n"
     ]
    },
    {
     "name": "stderr",
     "output_type": "stream",
     "text": [
      "Training: 100%|██████████| 24/24 [00:42<00:00,  1.76s/it, loss=0.544]\n",
      "Validation: 100%|██████████| 4/4 [00:02<00:00,  1.39it/s, loss=0.561]\n"
     ]
    },
    {
     "name": "stdout",
     "output_type": "stream",
     "text": [
      "Validation Dice Score\n",
      "Class 0: 0.0000, Class 1: 0.5172, Class 2: 0.0009, Class 3: 0.0034, \n",
      "Class 4: 0.4998, Class 5: 0.4649, Class 6: 0.6458, \n",
      "Validation F-beta Score\n",
      "Class 0: 0.0000, Class 1: 0.6350, Class 2: 0.0074, Class 3: 0.0272, \n",
      "Class 4: 0.5288, Class 5: 0.4786, Class 6: 0.6882, \n",
      "Overall Mean Dice Score: 0.4262\n",
      "Overall Mean F-beta Score: 0.4716\n",
      "\n",
      "Training Loss: 0.5478, Validation Loss: 0.5205, Validation F-beta: 0.4716\n",
      "Epoch 130/4000\n",
      "Current lambda: 0.4400\n"
     ]
    },
    {
     "name": "stderr",
     "output_type": "stream",
     "text": [
      "Training: 100%|██████████| 24/24 [00:42<00:00,  1.76s/it, loss=0.6]  \n",
      "Validation: 100%|██████████| 4/4 [00:02<00:00,  1.43it/s, loss=0.544]\n"
     ]
    },
    {
     "name": "stdout",
     "output_type": "stream",
     "text": [
      "Validation Dice Score\n",
      "Class 0: 0.0000, Class 1: 0.4242, Class 2: 0.0010, Class 3: 0.0029, \n",
      "Class 4: 0.5428, Class 5: 0.4770, Class 6: 0.5995, \n",
      "Validation F-beta Score\n",
      "Class 0: 0.0000, Class 1: 0.4203, Class 2: 0.0080, Class 3: 0.0234, \n",
      "Class 4: 0.5072, Class 5: 0.5231, Class 6: 0.7072, \n",
      "Overall Mean Dice Score: 0.4093\n",
      "Overall Mean F-beta Score: 0.4362\n",
      "\n",
      "Training Loss: 0.5596, Validation Loss: 0.5569, Validation F-beta: 0.4362\n",
      "Epoch 131/4000\n",
      "Current lambda: 0.4400\n"
     ]
    },
    {
     "name": "stderr",
     "output_type": "stream",
     "text": [
      "Training: 100%|██████████| 24/24 [00:42<00:00,  1.77s/it, loss=0.593]\n",
      "Validation: 100%|██████████| 4/4 [00:02<00:00,  1.43it/s, loss=0.603]\n"
     ]
    },
    {
     "name": "stdout",
     "output_type": "stream",
     "text": [
      "Validation Dice Score\n",
      "Class 0: 0.0000, Class 1: 0.3472, Class 2: 0.0011, Class 3: 0.0034, \n",
      "Class 4: 0.3500, Class 5: 0.4177, Class 6: 0.8871, \n",
      "Validation F-beta Score\n",
      "Class 0: 0.0000, Class 1: 0.3688, Class 2: 0.0094, Class 3: 0.0266, \n",
      "Class 4: 0.4896, Class 5: 0.3654, Class 6: 0.8551, \n",
      "Overall Mean Dice Score: 0.4011\n",
      "Overall Mean F-beta Score: 0.4211\n",
      "\n",
      "Training Loss: 0.5544, Validation Loss: 0.5195, Validation F-beta: 0.4211\n",
      "Epoch 132/4000\n",
      "Current lambda: 0.4400\n"
     ]
    },
    {
     "name": "stderr",
     "output_type": "stream",
     "text": [
      "Training: 100%|██████████| 24/24 [00:42<00:00,  1.77s/it, loss=0.563]\n",
      "Validation: 100%|██████████| 4/4 [00:02<00:00,  1.39it/s, loss=0.506]\n"
     ]
    },
    {
     "name": "stdout",
     "output_type": "stream",
     "text": [
      "Validation Dice Score\n",
      "Class 0: 0.0000, Class 1: 0.3772, Class 2: 0.0003, Class 3: 0.0049, \n",
      "Class 4: 0.4114, Class 5: 0.3786, Class 6: 0.6543, \n",
      "Validation F-beta Score\n",
      "Class 0: 0.0000, Class 1: 0.3796, Class 2: 0.0026, Class 3: 0.0395, \n",
      "Class 4: 0.4648, Class 5: 0.4117, Class 6: 0.7128, \n",
      "Overall Mean Dice Score: 0.3653\n",
      "Overall Mean F-beta Score: 0.4017\n",
      "\n",
      "Training Loss: 0.5387, Validation Loss: 0.5386, Validation F-beta: 0.4017\n",
      "Epoch 133/4000\n",
      "Current lambda: 0.4400\n"
     ]
    },
    {
     "name": "stderr",
     "output_type": "stream",
     "text": [
      "Training: 100%|██████████| 24/24 [00:42<00:00,  1.75s/it, loss=0.532]\n",
      "Validation: 100%|██████████| 4/4 [00:02<00:00,  1.36it/s, loss=0.581]\n"
     ]
    },
    {
     "name": "stdout",
     "output_type": "stream",
     "text": [
      "Validation Dice Score\n",
      "Class 0: 0.0000, Class 1: 0.5581, Class 2: 0.0009, Class 3: 0.0038, \n",
      "Class 4: 0.4762, Class 5: 0.2510, Class 6: 0.8724, \n",
      "Validation F-beta Score\n",
      "Class 0: 0.0000, Class 1: 0.6080, Class 2: 0.0073, Class 3: 0.0308, \n",
      "Class 4: 0.4402, Class 5: 0.3732, Class 6: 0.7980, \n",
      "Overall Mean Dice Score: 0.4323\n",
      "Overall Mean F-beta Score: 0.4501\n",
      "\n",
      "Training Loss: 0.5564, Validation Loss: 0.5637, Validation F-beta: 0.4501\n",
      "Epoch 134/4000\n",
      "Current lambda: 0.4400\n"
     ]
    },
    {
     "name": "stderr",
     "output_type": "stream",
     "text": [
      "Training: 100%|██████████| 24/24 [00:42<00:00,  1.77s/it, loss=0.593]\n",
      "Validation: 100%|██████████| 4/4 [00:02<00:00,  1.38it/s, loss=0.577]\n"
     ]
    },
    {
     "name": "stdout",
     "output_type": "stream",
     "text": [
      "Validation Dice Score\n",
      "Class 0: 0.0000, Class 1: 0.3953, Class 2: 0.0013, Class 3: 0.0061, \n",
      "Class 4: 0.3012, Class 5: 0.2486, Class 6: 0.3679, \n",
      "Validation F-beta Score\n",
      "Class 0: 0.0000, Class 1: 0.5158, Class 2: 0.0106, Class 3: 0.0481, \n",
      "Class 4: 0.2695, Class 5: 0.2181, Class 6: 0.4538, \n",
      "Overall Mean Dice Score: 0.2638\n",
      "Overall Mean F-beta Score: 0.3011\n",
      "\n",
      "Training Loss: 0.5540, Validation Loss: 0.5790, Validation F-beta: 0.3011\n",
      "Epoch 135/4000\n",
      "Current lambda: 0.4400\n"
     ]
    },
    {
     "name": "stderr",
     "output_type": "stream",
     "text": [
      "Training: 100%|██████████| 24/24 [00:42<00:00,  1.77s/it, loss=0.539]\n",
      "Validation: 100%|██████████| 4/4 [00:02<00:00,  1.41it/s, loss=0.519]\n"
     ]
    },
    {
     "name": "stdout",
     "output_type": "stream",
     "text": [
      "Validation Dice Score\n",
      "Class 0: 0.0000, Class 1: 0.6896, Class 2: 0.0006, Class 3: 0.0062, \n",
      "Class 4: 0.3820, Class 5: 0.3854, Class 6: 0.6468, \n",
      "Validation F-beta Score\n",
      "Class 0: 0.0000, Class 1: 0.7686, Class 2: 0.0051, Class 3: 0.0474, \n",
      "Class 4: 0.3971, Class 5: 0.4626, Class 6: 0.8149, \n",
      "Overall Mean Dice Score: 0.4220\n",
      "Overall Mean F-beta Score: 0.4981\n",
      "\n",
      "Training Loss: 0.5556, Validation Loss: 0.5409, Validation F-beta: 0.4981\n",
      "Epoch 136/4000\n",
      "Current lambda: 0.4400\n"
     ]
    },
    {
     "name": "stderr",
     "output_type": "stream",
     "text": [
      "Training: 100%|██████████| 24/24 [00:42<00:00,  1.77s/it, loss=0.601]\n",
      "Validation: 100%|██████████| 4/4 [00:02<00:00,  1.34it/s, loss=0.574]\n"
     ]
    },
    {
     "name": "stdout",
     "output_type": "stream",
     "text": [
      "Validation Dice Score\n",
      "Class 0: 0.0000, Class 1: 0.4682, Class 2: 0.0005, Class 3: 0.0032, \n",
      "Class 4: 0.4377, Class 5: 0.1735, Class 6: 0.6166, \n",
      "Validation F-beta Score\n",
      "Class 0: 0.0000, Class 1: 0.4168, Class 2: 0.0040, Class 3: 0.0254, \n",
      "Class 4: 0.4465, Class 5: 0.2196, Class 6: 0.6803, \n",
      "Overall Mean Dice Score: 0.3398\n",
      "Overall Mean F-beta Score: 0.3577\n",
      "\n",
      "Training Loss: 0.5707, Validation Loss: 0.5599, Validation F-beta: 0.3577\n",
      "Validation loss did not improve. Reducing lambda to 0.4300\n",
      "Epoch 137/4000\n",
      "Current lambda: 0.4300\n"
     ]
    },
    {
     "name": "stderr",
     "output_type": "stream",
     "text": [
      "Training: 100%|██████████| 24/24 [00:42<00:00,  1.77s/it, loss=0.5]  \n",
      "Validation: 100%|██████████| 4/4 [00:02<00:00,  1.38it/s, loss=0.498]\n"
     ]
    },
    {
     "name": "stdout",
     "output_type": "stream",
     "text": [
      "Validation Dice Score\n",
      "Class 0: 0.0000, Class 1: 0.7224, Class 2: 0.0001, Class 3: 0.0063, \n",
      "Class 4: 0.4668, Class 5: 0.3849, Class 6: 0.2211, \n",
      "Validation F-beta Score\n",
      "Class 0: 0.0000, Class 1: 0.7222, Class 2: 0.0005, Class 3: 0.0489, \n",
      "Class 4: 0.3884, Class 5: 0.4294, Class 6: 0.2010, \n",
      "Overall Mean Dice Score: 0.3603\n",
      "Overall Mean F-beta Score: 0.3580\n",
      "\n",
      "Training Loss: 0.5555, Validation Loss: 0.5441, Validation F-beta: 0.3580\n",
      "Epoch 138/4000\n",
      "Current lambda: 0.4300\n"
     ]
    },
    {
     "name": "stderr",
     "output_type": "stream",
     "text": [
      "Training: 100%|██████████| 24/24 [00:56<00:00,  2.35s/it, loss=0.561]\n",
      "Validation: 100%|██████████| 4/4 [00:03<00:00,  1.22it/s, loss=0.59] \n"
     ]
    },
    {
     "name": "stdout",
     "output_type": "stream",
     "text": [
      "Validation Dice Score\n",
      "Class 0: 0.0000, Class 1: 0.6122, Class 2: 0.0009, Class 3: 0.0053, \n",
      "Class 4: 0.3700, Class 5: 0.2980, Class 6: 0.3472, \n",
      "Validation F-beta Score\n",
      "Class 0: 0.0000, Class 1: 0.8402, Class 2: 0.0071, Class 3: 0.0415, \n",
      "Class 4: 0.3533, Class 5: 0.4187, Class 6: 0.3761, \n",
      "Overall Mean Dice Score: 0.3265\n",
      "Overall Mean F-beta Score: 0.4060\n",
      "\n",
      "Training Loss: 0.5643, Validation Loss: 0.5842, Validation F-beta: 0.4060\n",
      "Epoch 139/4000\n",
      "Current lambda: 0.4300\n"
     ]
    },
    {
     "name": "stderr",
     "output_type": "stream",
     "text": [
      "Training: 100%|██████████| 24/24 [00:53<00:00,  2.24s/it, loss=0.599]\n",
      "Validation: 100%|██████████| 4/4 [00:03<00:00,  1.20it/s, loss=0.603]\n"
     ]
    },
    {
     "name": "stdout",
     "output_type": "stream",
     "text": [
      "Validation Dice Score\n",
      "Class 0: 0.0000, Class 1: 0.4171, Class 2: 0.0003, Class 3: 0.0035, \n",
      "Class 4: 0.3538, Class 5: 0.4071, Class 6: 0.0000, \n",
      "Validation F-beta Score\n",
      "Class 0: 0.0000, Class 1: 0.6296, Class 2: 0.0025, Class 3: 0.0278, \n",
      "Class 4: 0.3760, Class 5: 0.4037, Class 6: 0.0000, \n",
      "Overall Mean Dice Score: 0.2363\n",
      "Overall Mean F-beta Score: 0.2874\n",
      "\n",
      "Training Loss: 0.5699, Validation Loss: 0.6093, Validation F-beta: 0.2874\n",
      "Epoch 140/4000\n",
      "Current lambda: 0.4300\n"
     ]
    },
    {
     "name": "stderr",
     "output_type": "stream",
     "text": [
      "Training: 100%|██████████| 24/24 [00:53<00:00,  2.24s/it, loss=0.532]\n",
      "Validation: 100%|██████████| 4/4 [00:03<00:00,  1.24it/s, loss=0.529]\n"
     ]
    },
    {
     "name": "stdout",
     "output_type": "stream",
     "text": [
      "Validation Dice Score\n",
      "Class 0: 0.0000, Class 1: 0.5764, Class 2: 0.0011, Class 3: 0.0042, \n",
      "Class 4: 0.4951, Class 5: 0.4215, Class 6: 0.8608, \n",
      "Validation F-beta Score\n",
      "Class 0: 0.0000, Class 1: 0.6372, Class 2: 0.0093, Class 3: 0.0322, \n",
      "Class 4: 0.5855, Class 5: 0.4436, Class 6: 0.8451, \n",
      "Overall Mean Dice Score: 0.4716\n",
      "Overall Mean F-beta Score: 0.5087\n",
      "\n",
      "Training Loss: 0.5648, Validation Loss: 0.5088, Validation F-beta: 0.5087\n",
      "Epoch 141/4000\n",
      "Current lambda: 0.4300\n"
     ]
    },
    {
     "name": "stderr",
     "output_type": "stream",
     "text": [
      "Training: 100%|██████████| 24/24 [00:54<00:00,  2.25s/it, loss=0.533]\n",
      "Validation: 100%|██████████| 4/4 [00:03<00:00,  1.24it/s, loss=0.667]\n"
     ]
    },
    {
     "name": "stdout",
     "output_type": "stream",
     "text": [
      "Validation Dice Score\n",
      "Class 0: 0.0000, Class 1: 0.3707, Class 2: 0.0010, Class 3: 0.0042, \n",
      "Class 4: 0.4686, Class 5: 0.2041, Class 6: 0.4274, \n",
      "Validation F-beta Score\n",
      "Class 0: 0.0000, Class 1: 0.3770, Class 2: 0.0079, Class 3: 0.0329, \n",
      "Class 4: 0.5178, Class 5: 0.2961, Class 6: 0.4285, \n",
      "Overall Mean Dice Score: 0.2950\n",
      "Overall Mean F-beta Score: 0.3304\n",
      "\n",
      "Training Loss: 0.5563, Validation Loss: 0.6031, Validation F-beta: 0.3304\n",
      "Epoch 142/4000\n",
      "Current lambda: 0.4300\n"
     ]
    },
    {
     "name": "stderr",
     "output_type": "stream",
     "text": [
      "Training: 100%|██████████| 24/24 [00:53<00:00,  2.23s/it, loss=0.564]\n",
      "Validation: 100%|██████████| 4/4 [00:03<00:00,  1.21it/s, loss=0.524]\n"
     ]
    },
    {
     "name": "stdout",
     "output_type": "stream",
     "text": [
      "Validation Dice Score\n",
      "Class 0: 0.0000, Class 1: 0.7539, Class 2: 0.0008, Class 3: 0.0036, \n",
      "Class 4: 0.4878, Class 5: 0.3866, Class 6: 0.8082, \n",
      "Validation F-beta Score\n",
      "Class 0: 0.0000, Class 1: 0.7482, Class 2: 0.0065, Class 3: 0.0277, \n",
      "Class 4: 0.5559, Class 5: 0.5201, Class 6: 0.8301, \n",
      "Overall Mean Dice Score: 0.4880\n",
      "Overall Mean F-beta Score: 0.5364\n",
      "\n",
      "Training Loss: 0.5537, Validation Loss: 0.5296, Validation F-beta: 0.5364\n",
      "Epoch 143/4000\n",
      "Current lambda: 0.4300\n"
     ]
    },
    {
     "name": "stderr",
     "output_type": "stream",
     "text": [
      "Training: 100%|██████████| 24/24 [00:54<00:00,  2.26s/it, loss=0.496]\n",
      "Validation: 100%|██████████| 4/4 [00:03<00:00,  1.25it/s, loss=0.46] \n"
     ]
    },
    {
     "name": "stdout",
     "output_type": "stream",
     "text": [
      "Validation Dice Score\n",
      "Class 0: 0.0000, Class 1: 0.3700, Class 2: 0.0001, Class 3: 0.0034, \n",
      "Class 4: 0.4390, Class 5: 0.2749, Class 6: 0.3784, \n",
      "Validation F-beta Score\n",
      "Class 0: 0.0000, Class 1: 0.4323, Class 2: 0.0006, Class 3: 0.0272, \n",
      "Class 4: 0.3867, Class 5: 0.2938, Class 6: 0.4536, \n",
      "Overall Mean Dice Score: 0.2931\n",
      "Overall Mean F-beta Score: 0.3187\n",
      "\n",
      "Training Loss: 0.5399, Validation Loss: 0.5871, Validation F-beta: 0.3187\n",
      "Epoch 144/4000\n",
      "Current lambda: 0.4300\n"
     ]
    },
    {
     "name": "stderr",
     "output_type": "stream",
     "text": [
      "Training: 100%|██████████| 24/24 [00:54<00:00,  2.26s/it, loss=0.571]\n",
      "Validation: 100%|██████████| 4/4 [00:03<00:00,  1.20it/s, loss=0.559]\n"
     ]
    },
    {
     "name": "stdout",
     "output_type": "stream",
     "text": [
      "Validation Dice Score\n",
      "Class 0: 0.0000, Class 1: 0.5580, Class 2: 0.0010, Class 3: 0.0028, \n",
      "Class 4: 0.4216, Class 5: 0.1276, Class 6: 0.7742, \n",
      "Validation F-beta Score\n",
      "Class 0: 0.0000, Class 1: 0.7821, Class 2: 0.0083, Class 3: 0.0222, \n",
      "Class 4: 0.5456, Class 5: 0.1718, Class 6: 0.8639, \n",
      "Overall Mean Dice Score: 0.3768\n",
      "Overall Mean F-beta Score: 0.4771\n",
      "\n",
      "Training Loss: 0.5456, Validation Loss: 0.5581, Validation F-beta: 0.4771\n",
      "Epoch 145/4000\n",
      "Current lambda: 0.4300\n"
     ]
    },
    {
     "name": "stderr",
     "output_type": "stream",
     "text": [
      "Training: 100%|██████████| 24/24 [00:53<00:00,  2.25s/it, loss=0.58] \n",
      "Validation: 100%|██████████| 4/4 [00:03<00:00,  1.24it/s, loss=0.481]\n"
     ]
    },
    {
     "name": "stdout",
     "output_type": "stream",
     "text": [
      "Validation Dice Score\n",
      "Class 0: 0.0000, Class 1: 0.4489, Class 2: 0.0004, Class 3: 0.0037, \n",
      "Class 4: 0.5369, Class 5: 0.3738, Class 6: 0.8175, \n",
      "Validation F-beta Score\n",
      "Class 0: 0.0000, Class 1: 0.5199, Class 2: 0.0037, Class 3: 0.0291, \n",
      "Class 4: 0.6201, Class 5: 0.3873, Class 6: 0.8664, \n",
      "Overall Mean Dice Score: 0.4362\n",
      "Overall Mean F-beta Score: 0.4845\n",
      "\n",
      "Training Loss: 0.5504, Validation Loss: 0.5405, Validation F-beta: 0.4845\n",
      "Epoch 146/4000\n",
      "Current lambda: 0.4300\n"
     ]
    },
    {
     "name": "stderr",
     "output_type": "stream",
     "text": [
      "Training: 100%|██████████| 24/24 [00:53<00:00,  2.25s/it, loss=0.543]\n",
      "Validation: 100%|██████████| 4/4 [00:03<00:00,  1.26it/s, loss=0.666]\n"
     ]
    },
    {
     "name": "stdout",
     "output_type": "stream",
     "text": [
      "Validation Dice Score\n",
      "Class 0: 0.0000, Class 1: 0.2021, Class 2: 0.0004, Class 3: 0.0041, \n",
      "Class 4: 0.3005, Class 5: 0.4381, Class 6: 0.4495, \n",
      "Validation F-beta Score\n",
      "Class 0: 0.0000, Class 1: 0.4359, Class 2: 0.0034, Class 3: 0.0329, \n",
      "Class 4: 0.3813, Class 5: 0.6197, Class 6: 0.4620, \n",
      "Overall Mean Dice Score: 0.2788\n",
      "Overall Mean F-beta Score: 0.3863\n",
      "\n",
      "Training Loss: 0.5545, Validation Loss: 0.5965, Validation F-beta: 0.3863\n",
      "Validation loss did not improve. Reducing lambda to 0.4200\n",
      "Epoch 147/4000\n",
      "Current lambda: 0.4200\n"
     ]
    },
    {
     "name": "stderr",
     "output_type": "stream",
     "text": [
      "Training: 100%|██████████| 24/24 [00:53<00:00,  2.23s/it, loss=0.503]\n",
      "Validation: 100%|██████████| 4/4 [00:03<00:00,  1.26it/s, loss=0.429]\n"
     ]
    },
    {
     "name": "stdout",
     "output_type": "stream",
     "text": [
      "Validation Dice Score\n",
      "Class 0: 0.0000, Class 1: 0.5178, Class 2: 0.0014, Class 3: 0.0049, \n",
      "Class 4: 0.4339, Class 5: 0.2595, Class 6: 0.4100, \n",
      "Validation F-beta Score\n",
      "Class 0: 0.0000, Class 1: 0.6376, Class 2: 0.0116, Class 3: 0.0395, \n",
      "Class 4: 0.5318, Class 5: 0.2424, Class 6: 0.4580, \n",
      "Overall Mean Dice Score: 0.3252\n",
      "Overall Mean F-beta Score: 0.3819\n",
      "\n",
      "Training Loss: 0.5686, Validation Loss: 0.5563, Validation F-beta: 0.3819\n",
      "Epoch 148/4000\n",
      "Current lambda: 0.4200\n"
     ]
    },
    {
     "name": "stderr",
     "output_type": "stream",
     "text": [
      "Training: 100%|██████████| 24/24 [00:53<00:00,  2.23s/it, loss=0.448]\n",
      "Validation: 100%|██████████| 4/4 [00:03<00:00,  1.21it/s, loss=0.606]\n"
     ]
    },
    {
     "name": "stdout",
     "output_type": "stream",
     "text": [
      "Validation Dice Score\n",
      "Class 0: 0.0000, Class 1: 0.5788, Class 2: 0.0012, Class 3: 0.0060, \n",
      "Class 4: 0.2811, Class 5: 0.4569, Class 6: 0.7019, \n",
      "Validation F-beta Score\n",
      "Class 0: 0.0000, Class 1: 0.5953, Class 2: 0.0100, Class 3: 0.0433, \n",
      "Class 4: 0.3384, Class 5: 0.5563, Class 6: 0.8573, \n",
      "Overall Mean Dice Score: 0.4049\n",
      "Overall Mean F-beta Score: 0.4781\n",
      "\n",
      "Training Loss: 0.5261, Validation Loss: 0.5412, Validation F-beta: 0.4781\n",
      "Epoch 149/4000\n",
      "Current lambda: 0.4200\n"
     ]
    },
    {
     "name": "stderr",
     "output_type": "stream",
     "text": [
      "Training: 100%|██████████| 24/24 [00:53<00:00,  2.24s/it, loss=0.562]\n",
      "Validation: 100%|██████████| 4/4 [00:03<00:00,  1.21it/s, loss=0.547]\n"
     ]
    },
    {
     "name": "stdout",
     "output_type": "stream",
     "text": [
      "Validation Dice Score\n",
      "Class 0: 0.0000, Class 1: 0.3870, Class 2: 0.0013, Class 3: 0.0040, \n",
      "Class 4: 0.3641, Class 5: 0.4346, Class 6: 0.5063, \n",
      "Validation F-beta Score\n",
      "Class 0: 0.0000, Class 1: 0.6333, Class 2: 0.0106, Class 3: 0.0326, \n",
      "Class 4: 0.3004, Class 5: 0.4363, Class 6: 0.4777, \n",
      "Overall Mean Dice Score: 0.3392\n",
      "Overall Mean F-beta Score: 0.3761\n",
      "\n",
      "Training Loss: 0.5478, Validation Loss: 0.5447, Validation F-beta: 0.3761\n",
      "Epoch 150/4000\n",
      "Current lambda: 0.4200\n"
     ]
    },
    {
     "name": "stderr",
     "output_type": "stream",
     "text": [
      "Training: 100%|██████████| 24/24 [00:53<00:00,  2.25s/it, loss=0.495]\n",
      "Validation: 100%|██████████| 4/4 [00:03<00:00,  1.22it/s, loss=0.631]\n"
     ]
    },
    {
     "name": "stdout",
     "output_type": "stream",
     "text": [
      "Validation Dice Score\n",
      "Class 0: 0.0000, Class 1: 0.2248, Class 2: 0.0003, Class 3: 0.0070, \n",
      "Class 4: 0.5208, Class 5: 0.4646, Class 6: 0.3990, \n",
      "Validation F-beta Score\n",
      "Class 0: 0.0000, Class 1: 0.2294, Class 2: 0.0025, Class 3: 0.0533, \n",
      "Class 4: 0.7516, Class 5: 0.5270, Class 6: 0.3773, \n",
      "Overall Mean Dice Score: 0.3232\n",
      "Overall Mean F-beta Score: 0.3877\n",
      "\n",
      "Training Loss: 0.5578, Validation Loss: 0.5640, Validation F-beta: 0.3877\n",
      "Epoch 151/4000\n",
      "Current lambda: 0.4200\n"
     ]
    },
    {
     "name": "stderr",
     "output_type": "stream",
     "text": [
      "Training: 100%|██████████| 24/24 [00:54<00:00,  2.27s/it, loss=0.641]\n",
      "Validation: 100%|██████████| 4/4 [00:03<00:00,  1.24it/s, loss=0.554]\n"
     ]
    },
    {
     "name": "stdout",
     "output_type": "stream",
     "text": [
      "Validation Dice Score\n",
      "Class 0: 0.0000, Class 1: 0.6267, Class 2: 0.0003, Class 3: 0.0081, \n",
      "Class 4: 0.4802, Class 5: 0.4679, Class 6: 0.5201, \n",
      "Validation F-beta Score\n",
      "Class 0: 0.0000, Class 1: 0.7680, Class 2: 0.0021, Class 3: 0.0631, \n",
      "Class 4: 0.4654, Class 5: 0.5496, Class 6: 0.6743, \n",
      "Overall Mean Dice Score: 0.4206\n",
      "Overall Mean F-beta Score: 0.5041\n",
      "\n",
      "Training Loss: 0.5568, Validation Loss: 0.5214, Validation F-beta: 0.5041\n",
      "Epoch 152/4000\n",
      "Current lambda: 0.4200\n"
     ]
    },
    {
     "name": "stderr",
     "output_type": "stream",
     "text": [
      "Training: 100%|██████████| 24/24 [00:53<00:00,  2.25s/it, loss=0.499]\n",
      "Validation: 100%|██████████| 4/4 [00:03<00:00,  1.22it/s, loss=0.656]\n"
     ]
    },
    {
     "name": "stdout",
     "output_type": "stream",
     "text": [
      "Validation Dice Score\n",
      "Class 0: 0.0000, Class 1: 0.3149, Class 2: 0.0004, Class 3: 0.0030, \n",
      "Class 4: 0.4941, Class 5: 0.2407, Class 6: 0.6583, \n",
      "Validation F-beta Score\n",
      "Class 0: 0.0000, Class 1: 0.3897, Class 2: 0.0030, Class 3: 0.0238, \n",
      "Class 4: 0.3810, Class 5: 0.2542, Class 6: 0.6482, \n",
      "Overall Mean Dice Score: 0.3422\n",
      "Overall Mean F-beta Score: 0.3394\n",
      "\n",
      "Training Loss: 0.5515, Validation Loss: 0.5636, Validation F-beta: 0.3394\n",
      "Epoch 153/4000\n",
      "Current lambda: 0.4200\n"
     ]
    },
    {
     "name": "stderr",
     "output_type": "stream",
     "text": [
      "Training: 100%|██████████| 24/24 [00:53<00:00,  2.24s/it, loss=0.585]\n",
      "Validation: 100%|██████████| 4/4 [00:03<00:00,  1.26it/s, loss=0.553]\n"
     ]
    },
    {
     "name": "stdout",
     "output_type": "stream",
     "text": [
      "Validation Dice Score\n",
      "Class 0: 0.0000, Class 1: 0.6046, Class 2: 0.0009, Class 3: 0.0047, \n",
      "Class 4: 0.3360, Class 5: 0.4107, Class 6: 0.3896, \n",
      "Validation F-beta Score\n",
      "Class 0: 0.0000, Class 1: 0.6674, Class 2: 0.0071, Class 3: 0.0374, \n",
      "Class 4: 0.3153, Class 5: 0.5119, Class 6: 0.4722, \n",
      "Overall Mean Dice Score: 0.3491\n",
      "Overall Mean F-beta Score: 0.4009\n",
      "\n",
      "Training Loss: 0.5482, Validation Loss: 0.5768, Validation F-beta: 0.4009\n",
      "Epoch 154/4000\n",
      "Current lambda: 0.4200\n"
     ]
    },
    {
     "name": "stderr",
     "output_type": "stream",
     "text": [
      "Training: 100%|██████████| 24/24 [00:53<00:00,  2.23s/it, loss=0.517]\n",
      "Validation: 100%|██████████| 4/4 [00:03<00:00,  1.19it/s, loss=0.528]\n"
     ]
    },
    {
     "name": "stdout",
     "output_type": "stream",
     "text": [
      "Validation Dice Score\n",
      "Class 0: 0.0000, Class 1: 0.8643, Class 2: 0.0015, Class 3: 0.0080, \n",
      "Class 4: 0.5346, Class 5: 0.5158, Class 6: 0.6518, \n",
      "Validation F-beta Score\n",
      "Class 0: 0.0000, Class 1: 0.8524, Class 2: 0.0125, Class 3: 0.0601, \n",
      "Class 4: 0.4883, Class 5: 0.4803, Class 6: 0.8421, \n",
      "Overall Mean Dice Score: 0.5149\n",
      "Overall Mean F-beta Score: 0.5447\n",
      "\n",
      "Training Loss: 0.5296, Validation Loss: 0.4950, Validation F-beta: 0.5447\n",
      "Epoch 155/4000\n",
      "Current lambda: 0.4200\n"
     ]
    },
    {
     "name": "stderr",
     "output_type": "stream",
     "text": [
      "Training: 100%|██████████| 24/24 [00:53<00:00,  2.23s/it, loss=0.582]\n",
      "Validation: 100%|██████████| 4/4 [00:03<00:00,  1.21it/s, loss=0.488]\n"
     ]
    },
    {
     "name": "stdout",
     "output_type": "stream",
     "text": [
      "Validation Dice Score\n",
      "Class 0: 0.0000, Class 1: 0.3312, Class 2: 0.0006, Class 3: 0.0037, \n",
      "Class 4: 0.4839, Class 5: 0.3635, Class 6: 0.4470, \n",
      "Validation F-beta Score\n",
      "Class 0: 0.0000, Class 1: 0.4217, Class 2: 0.0047, Class 3: 0.0297, \n",
      "Class 4: 0.4573, Class 5: 0.4159, Class 6: 0.4648, \n",
      "Overall Mean Dice Score: 0.3259\n",
      "Overall Mean F-beta Score: 0.3579\n",
      "\n",
      "Training Loss: 0.5677, Validation Loss: 0.5812, Validation F-beta: 0.3579\n",
      "Epoch 156/4000\n",
      "Current lambda: 0.4200\n"
     ]
    },
    {
     "name": "stderr",
     "output_type": "stream",
     "text": [
      "Training: 100%|██████████| 24/24 [00:53<00:00,  2.25s/it, loss=0.542]\n",
      "Validation: 100%|██████████| 4/4 [00:03<00:00,  1.22it/s, loss=0.384]\n"
     ]
    },
    {
     "name": "stdout",
     "output_type": "stream",
     "text": [
      "Validation Dice Score\n",
      "Class 0: 0.0000, Class 1: 0.5447, Class 2: 0.0016, Class 3: 0.0052, \n",
      "Class 4: 0.5272, Class 5: 0.3657, Class 6: 0.5850, \n",
      "Validation F-beta Score\n",
      "Class 0: 0.0000, Class 1: 0.5747, Class 2: 0.0132, Class 3: 0.0403, \n",
      "Class 4: 0.5034, Class 5: 0.4107, Class 6: 0.5492, \n",
      "Overall Mean Dice Score: 0.4055\n",
      "Overall Mean F-beta Score: 0.4156\n",
      "\n",
      "Training Loss: 0.5411, Validation Loss: 0.5009, Validation F-beta: 0.4156\n",
      "Validation loss did not improve. Reducing lambda to 0.4100\n",
      "Epoch 157/4000\n",
      "Current lambda: 0.4100\n"
     ]
    },
    {
     "name": "stderr",
     "output_type": "stream",
     "text": [
      "Training: 100%|██████████| 24/24 [00:53<00:00,  2.24s/it, loss=0.454]\n",
      "Validation: 100%|██████████| 4/4 [00:03<00:00,  1.19it/s, loss=0.611]\n"
     ]
    },
    {
     "name": "stdout",
     "output_type": "stream",
     "text": [
      "Validation Dice Score\n",
      "Class 0: 0.0000, Class 1: 0.3289, Class 2: 0.0008, Class 3: 0.0090, \n",
      "Class 4: 0.6814, Class 5: 0.4815, Class 6: 0.3111, \n",
      "Validation F-beta Score\n",
      "Class 0: 0.0000, Class 1: 0.4437, Class 2: 0.0064, Class 3: 0.0692, \n",
      "Class 4: 0.5994, Class 5: 0.4732, Class 6: 0.3624, \n",
      "Overall Mean Dice Score: 0.3624\n",
      "Overall Mean F-beta Score: 0.3896\n",
      "\n",
      "Training Loss: 0.5435, Validation Loss: 0.5356, Validation F-beta: 0.3896\n",
      "Epoch 158/4000\n",
      "Current lambda: 0.4100\n"
     ]
    },
    {
     "name": "stderr",
     "output_type": "stream",
     "text": [
      "Training: 100%|██████████| 24/24 [00:53<00:00,  2.24s/it, loss=0.444]\n",
      "Validation: 100%|██████████| 4/4 [00:03<00:00,  1.20it/s, loss=0.556]\n"
     ]
    },
    {
     "name": "stdout",
     "output_type": "stream",
     "text": [
      "Validation Dice Score\n",
      "Class 0: 0.0000, Class 1: 0.5093, Class 2: 0.0004, Class 3: 0.0057, \n",
      "Class 4: 0.6178, Class 5: 0.3405, Class 6: 0.0626, \n",
      "Validation F-beta Score\n",
      "Class 0: 0.0000, Class 1: 0.6539, Class 2: 0.0036, Class 3: 0.0426, \n",
      "Class 4: 0.6295, Class 5: 0.3908, Class 6: 0.1155, \n",
      "Overall Mean Dice Score: 0.3072\n",
      "Overall Mean F-beta Score: 0.3665\n",
      "\n",
      "Training Loss: 0.5484, Validation Loss: 0.5670, Validation F-beta: 0.3665\n",
      "Epoch 159/4000\n",
      "Current lambda: 0.4100\n"
     ]
    },
    {
     "name": "stderr",
     "output_type": "stream",
     "text": [
      "Training: 100%|██████████| 24/24 [00:53<00:00,  2.25s/it, loss=0.53] \n",
      "Validation: 100%|██████████| 4/4 [00:03<00:00,  1.20it/s, loss=0.559]\n"
     ]
    },
    {
     "name": "stdout",
     "output_type": "stream",
     "text": [
      "Validation Dice Score\n",
      "Class 0: 0.0000, Class 1: 0.5422, Class 2: 0.0005, Class 3: 0.0083, \n",
      "Class 4: 0.3187, Class 5: 0.4584, Class 6: 0.8435, \n",
      "Validation F-beta Score\n",
      "Class 0: 0.0000, Class 1: 0.6644, Class 2: 0.0044, Class 3: 0.0609, \n",
      "Class 4: 0.3989, Class 5: 0.4269, Class 6: 0.8960, \n",
      "Overall Mean Dice Score: 0.4342\n",
      "Overall Mean F-beta Score: 0.4894\n",
      "\n",
      "Training Loss: 0.5571, Validation Loss: 0.5336, Validation F-beta: 0.4894\n",
      "Epoch 160/4000\n",
      "Current lambda: 0.4100\n"
     ]
    },
    {
     "name": "stderr",
     "output_type": "stream",
     "text": [
      "Training: 100%|██████████| 24/24 [00:53<00:00,  2.24s/it, loss=0.613]\n",
      "Validation: 100%|██████████| 4/4 [00:03<00:00,  1.23it/s, loss=0.505]\n"
     ]
    },
    {
     "name": "stdout",
     "output_type": "stream",
     "text": [
      "Validation Dice Score\n",
      "Class 0: 0.0000, Class 1: 0.4614, Class 2: 0.0007, Class 3: 0.0087, \n",
      "Class 4: 0.2238, Class 5: 0.3888, Class 6: 0.5962, \n",
      "Validation F-beta Score\n",
      "Class 0: 0.0000, Class 1: 0.4477, Class 2: 0.0056, Class 3: 0.0575, \n",
      "Class 4: 0.2554, Class 5: 0.5463, Class 6: 0.6204, \n",
      "Overall Mean Dice Score: 0.3358\n",
      "Overall Mean F-beta Score: 0.3855\n",
      "\n",
      "Training Loss: 0.5295, Validation Loss: 0.5596, Validation F-beta: 0.3855\n",
      "Epoch 161/4000\n",
      "Current lambda: 0.4100\n"
     ]
    },
    {
     "name": "stderr",
     "output_type": "stream",
     "text": [
      "Training: 100%|██████████| 24/24 [00:53<00:00,  2.24s/it, loss=0.54] \n",
      "Validation: 100%|██████████| 4/4 [00:03<00:00,  1.18it/s, loss=0.428]\n"
     ]
    },
    {
     "name": "stdout",
     "output_type": "stream",
     "text": [
      "Validation Dice Score\n",
      "Class 0: 0.0000, Class 1: 0.7089, Class 2: 0.0009, Class 3: 0.1210, \n",
      "Class 4: 0.4935, Class 5: 0.3985, Class 6: 0.6485, \n",
      "Validation F-beta Score\n",
      "Class 0: 0.0000, Class 1: 0.7678, Class 2: 0.0076, Class 3: 0.2377, \n",
      "Class 4: 0.6267, Class 5: 0.3650, Class 6: 0.6786, \n",
      "Overall Mean Dice Score: 0.4741\n",
      "Overall Mean F-beta Score: 0.5352\n",
      "\n",
      "Training Loss: 0.5590, Validation Loss: 0.4903, Validation F-beta: 0.5352\n",
      "Epoch 162/4000\n",
      "Current lambda: 0.4100\n"
     ]
    },
    {
     "name": "stderr",
     "output_type": "stream",
     "text": [
      "Training: 100%|██████████| 24/24 [00:53<00:00,  2.24s/it, loss=0.588]\n",
      "Validation: 100%|██████████| 4/4 [00:03<00:00,  1.22it/s, loss=0.543]\n"
     ]
    },
    {
     "name": "stdout",
     "output_type": "stream",
     "text": [
      "Validation Dice Score\n",
      "Class 0: 0.0000, Class 1: 0.3070, Class 2: 0.0014, Class 3: 0.1717, \n",
      "Class 4: 0.4798, Class 5: 0.5041, Class 6: 0.4289, \n",
      "Validation F-beta Score\n",
      "Class 0: 0.0000, Class 1: 0.4011, Class 2: 0.0119, Class 3: 0.3081, \n",
      "Class 4: 0.4667, Class 5: 0.5460, Class 6: 0.5281, \n",
      "Overall Mean Dice Score: 0.3783\n",
      "Overall Mean F-beta Score: 0.4500\n",
      "\n",
      "Training Loss: 0.5482, Validation Loss: 0.5534, Validation F-beta: 0.4500\n",
      "Epoch 163/4000\n",
      "Current lambda: 0.4100\n"
     ]
    },
    {
     "name": "stderr",
     "output_type": "stream",
     "text": [
      "Training: 100%|██████████| 24/24 [00:55<00:00,  2.31s/it, loss=0.509]\n",
      "Validation: 100%|██████████| 4/4 [00:03<00:00,  1.20it/s, loss=0.628]\n"
     ]
    },
    {
     "name": "stdout",
     "output_type": "stream",
     "text": [
      "Validation Dice Score\n",
      "Class 0: 0.0000, Class 1: 0.1681, Class 2: 0.0030, Class 3: 0.0755, \n",
      "Class 4: 0.2304, Class 5: 0.4783, Class 6: 0.4288, \n",
      "Validation F-beta Score\n",
      "Class 0: 0.0000, Class 1: 0.1812, Class 2: 0.0241, Class 3: 0.1951, \n",
      "Class 4: 0.2301, Class 5: 0.6384, Class 6: 0.4151, \n",
      "Overall Mean Dice Score: 0.2762\n",
      "Overall Mean F-beta Score: 0.3320\n",
      "\n",
      "Training Loss: 0.5363, Validation Loss: 0.5955, Validation F-beta: 0.3320\n",
      "Epoch 164/4000\n",
      "Current lambda: 0.4100\n"
     ]
    },
    {
     "name": "stderr",
     "output_type": "stream",
     "text": [
      "Training: 100%|██████████| 24/24 [00:48<00:00,  2.04s/it, loss=0.522]\n",
      "Validation: 100%|██████████| 4/4 [00:02<00:00,  1.38it/s, loss=0.568]\n"
     ]
    },
    {
     "name": "stdout",
     "output_type": "stream",
     "text": [
      "Validation Dice Score\n",
      "Class 0: 0.0000, Class 1: 0.4114, Class 2: 0.0008, Class 3: 0.1239, \n",
      "Class 4: 0.4047, Class 5: 0.3529, Class 6: 0.4324, \n",
      "Validation F-beta Score\n",
      "Class 0: 0.0000, Class 1: 0.4105, Class 2: 0.0066, Class 3: 0.2299, \n",
      "Class 4: 0.3610, Class 5: 0.4289, Class 6: 0.4964, \n",
      "Overall Mean Dice Score: 0.3451\n",
      "Overall Mean F-beta Score: 0.3853\n",
      "\n",
      "Training Loss: 0.5277, Validation Loss: 0.5724, Validation F-beta: 0.3853\n",
      "Epoch 165/4000\n",
      "Current lambda: 0.4100\n"
     ]
    },
    {
     "name": "stderr",
     "output_type": "stream",
     "text": [
      "Training: 100%|██████████| 24/24 [00:42<00:00,  1.76s/it, loss=0.522]\n",
      "Validation: 100%|██████████| 4/4 [00:02<00:00,  1.40it/s, loss=0.508]\n"
     ]
    },
    {
     "name": "stdout",
     "output_type": "stream",
     "text": [
      "Validation Dice Score\n",
      "Class 0: 0.0000, Class 1: 0.5317, Class 2: 0.0021, Class 3: 0.2290, \n",
      "Class 4: 0.7113, Class 5: 0.3224, Class 6: 0.6617, \n",
      "Validation F-beta Score\n",
      "Class 0: 0.0000, Class 1: 0.5501, Class 2: 0.0171, Class 3: 0.2891, \n",
      "Class 4: 0.8110, Class 5: 0.2783, Class 6: 0.6454, \n",
      "Overall Mean Dice Score: 0.4912\n",
      "Overall Mean F-beta Score: 0.5148\n",
      "\n",
      "Training Loss: 0.5494, Validation Loss: 0.4894, Validation F-beta: 0.5148\n",
      "Epoch 166/4000\n",
      "Current lambda: 0.4100\n"
     ]
    },
    {
     "name": "stderr",
     "output_type": "stream",
     "text": [
      "Training: 100%|██████████| 24/24 [00:42<00:00,  1.76s/it, loss=0.538]\n",
      "Validation: 100%|██████████| 4/4 [00:02<00:00,  1.42it/s, loss=0.601]\n"
     ]
    },
    {
     "name": "stdout",
     "output_type": "stream",
     "text": [
      "Validation Dice Score\n",
      "Class 0: 0.0000, Class 1: 0.3288, Class 2: 0.0015, Class 3: 0.0461, \n",
      "Class 4: 0.4297, Class 5: 0.4031, Class 6: 0.4451, \n",
      "Validation F-beta Score\n",
      "Class 0: 0.0000, Class 1: 0.4664, Class 2: 0.0120, Class 3: 0.0560, \n",
      "Class 4: 0.6098, Class 5: 0.5457, Class 6: 0.4706, \n",
      "Overall Mean Dice Score: 0.3306\n",
      "Overall Mean F-beta Score: 0.4297\n",
      "\n",
      "Training Loss: 0.5466, Validation Loss: 0.5646, Validation F-beta: 0.4297\n",
      "Validation loss did not improve. Reducing lambda to 0.4000\n",
      "Epoch 167/4000\n",
      "Current lambda: 0.4000\n"
     ]
    },
    {
     "name": "stderr",
     "output_type": "stream",
     "text": [
      "Training: 100%|██████████| 24/24 [00:42<00:00,  1.76s/it, loss=0.654]\n",
      "Validation: 100%|██████████| 4/4 [00:02<00:00,  1.43it/s, loss=0.62] \n"
     ]
    },
    {
     "name": "stdout",
     "output_type": "stream",
     "text": [
      "Validation Dice Score\n",
      "Class 0: 0.0000, Class 1: 0.3802, Class 2: 0.0011, Class 3: 0.1107, \n",
      "Class 4: 0.4953, Class 5: 0.1859, Class 6: 0.6117, \n",
      "Validation F-beta Score\n",
      "Class 0: 0.0000, Class 1: 0.5484, Class 2: 0.0088, Class 3: 0.2032, \n",
      "Class 4: 0.4522, Class 5: 0.2827, Class 6: 0.6959, \n",
      "Overall Mean Dice Score: 0.3567\n",
      "Overall Mean F-beta Score: 0.4365\n",
      "\n",
      "Training Loss: 0.5382, Validation Loss: 0.5657, Validation F-beta: 0.4365\n",
      "Epoch 168/4000\n",
      "Current lambda: 0.4000\n"
     ]
    },
    {
     "name": "stderr",
     "output_type": "stream",
     "text": [
      "Training: 100%|██████████| 24/24 [00:42<00:00,  1.76s/it, loss=0.485]\n",
      "Validation: 100%|██████████| 4/4 [00:02<00:00,  1.40it/s, loss=0.502]\n"
     ]
    },
    {
     "name": "stdout",
     "output_type": "stream",
     "text": [
      "Validation Dice Score\n",
      "Class 0: 0.0000, Class 1: 0.3581, Class 2: 0.0002, Class 3: 0.0996, \n",
      "Class 4: 0.6165, Class 5: 0.3893, Class 6: 0.4516, \n",
      "Validation F-beta Score\n",
      "Class 0: 0.0000, Class 1: 0.4226, Class 2: 0.0020, Class 3: 0.1223, \n",
      "Class 4: 0.5490, Class 5: 0.3999, Class 6: 0.4511, \n",
      "Overall Mean Dice Score: 0.3830\n",
      "Overall Mean F-beta Score: 0.3890\n",
      "\n",
      "Training Loss: 0.5441, Validation Loss: 0.5582, Validation F-beta: 0.3890\n",
      "Epoch 169/4000\n",
      "Current lambda: 0.4000\n"
     ]
    },
    {
     "name": "stderr",
     "output_type": "stream",
     "text": [
      "Training: 100%|██████████| 24/24 [00:42<00:00,  1.75s/it, loss=0.566]\n",
      "Validation: 100%|██████████| 4/4 [00:02<00:00,  1.42it/s, loss=0.547]\n"
     ]
    },
    {
     "name": "stdout",
     "output_type": "stream",
     "text": [
      "Validation Dice Score\n",
      "Class 0: 0.0000, Class 1: 0.5948, Class 2: 0.0008, Class 3: 0.2401, \n",
      "Class 4: 0.4511, Class 5: 0.2600, Class 6: 0.4396, \n",
      "Validation F-beta Score\n",
      "Class 0: 0.0000, Class 1: 0.6651, Class 2: 0.0069, Class 3: 0.2279, \n",
      "Class 4: 0.3666, Class 5: 0.2371, Class 6: 0.5853, \n",
      "Overall Mean Dice Score: 0.3971\n",
      "Overall Mean F-beta Score: 0.4164\n",
      "\n",
      "Training Loss: 0.5404, Validation Loss: 0.5511, Validation F-beta: 0.4164\n",
      "Epoch 170/4000\n",
      "Current lambda: 0.4000\n"
     ]
    },
    {
     "name": "stderr",
     "output_type": "stream",
     "text": [
      "Training: 100%|██████████| 24/24 [00:42<00:00,  1.75s/it, loss=0.605]\n",
      "Validation: 100%|██████████| 4/4 [00:02<00:00,  1.42it/s, loss=0.482]\n"
     ]
    },
    {
     "name": "stdout",
     "output_type": "stream",
     "text": [
      "Validation Dice Score\n",
      "Class 0: 0.0000, Class 1: 0.5521, Class 2: 0.0014, Class 3: 0.2766, \n",
      "Class 4: 0.6019, Class 5: 0.2891, Class 6: 0.5896, \n",
      "Validation F-beta Score\n",
      "Class 0: 0.0000, Class 1: 0.5259, Class 2: 0.0113, Class 3: 0.3096, \n",
      "Class 4: 0.5355, Class 5: 0.2537, Class 6: 0.6203, \n",
      "Overall Mean Dice Score: 0.4619\n",
      "Overall Mean F-beta Score: 0.4490\n",
      "\n",
      "Training Loss: 0.5380, Validation Loss: 0.5151, Validation F-beta: 0.4490\n",
      "Epoch 171/4000\n",
      "Current lambda: 0.4000\n"
     ]
    },
    {
     "name": "stderr",
     "output_type": "stream",
     "text": [
      "Training: 100%|██████████| 24/24 [00:41<00:00,  1.75s/it, loss=0.595]\n",
      "Validation: 100%|██████████| 4/4 [00:02<00:00,  1.42it/s, loss=0.59] \n"
     ]
    },
    {
     "name": "stdout",
     "output_type": "stream",
     "text": [
      "Validation Dice Score\n",
      "Class 0: 0.0000, Class 1: 0.5810, Class 2: 0.0008, Class 3: 0.2425, \n",
      "Class 4: 0.2943, Class 5: 0.3521, Class 6: 0.4424, \n",
      "Validation F-beta Score\n",
      "Class 0: 0.0000, Class 1: 0.7951, Class 2: 0.0071, Class 3: 0.3304, \n",
      "Class 4: 0.3493, Class 5: 0.3490, Class 6: 0.4833, \n",
      "Overall Mean Dice Score: 0.3825\n",
      "Overall Mean F-beta Score: 0.4614\n",
      "\n",
      "Training Loss: 0.5315, Validation Loss: 0.5497, Validation F-beta: 0.4614\n",
      "Epoch 172/4000\n",
      "Current lambda: 0.4000\n"
     ]
    },
    {
     "name": "stderr",
     "output_type": "stream",
     "text": [
      "Training: 100%|██████████| 24/24 [00:42<00:00,  1.75s/it, loss=0.562]\n",
      "Validation: 100%|██████████| 4/4 [00:02<00:00,  1.39it/s, loss=0.549]\n"
     ]
    },
    {
     "name": "stdout",
     "output_type": "stream",
     "text": [
      "Validation Dice Score\n",
      "Class 0: 0.0000, Class 1: 0.5785, Class 2: 0.0012, Class 3: 0.0458, \n",
      "Class 4: 0.5108, Class 5: 0.4543, Class 6: 0.8716, \n",
      "Validation F-beta Score\n",
      "Class 0: 0.0000, Class 1: 0.7765, Class 2: 0.0102, Class 3: 0.0439, \n",
      "Class 4: 0.5410, Class 5: 0.5626, Class 6: 0.8975, \n",
      "Overall Mean Dice Score: 0.4922\n",
      "Overall Mean F-beta Score: 0.5643\n",
      "\n",
      "Training Loss: 0.5531, Validation Loss: 0.5195, Validation F-beta: 0.5643\n",
      "Epoch 173/4000\n",
      "Current lambda: 0.4000\n"
     ]
    },
    {
     "name": "stderr",
     "output_type": "stream",
     "text": [
      "Training: 100%|██████████| 24/24 [00:42<00:00,  1.76s/it, loss=0.568]\n",
      "Validation: 100%|██████████| 4/4 [00:02<00:00,  1.44it/s, loss=0.478]\n"
     ]
    },
    {
     "name": "stdout",
     "output_type": "stream",
     "text": [
      "Validation Dice Score\n",
      "Class 0: 0.0000, Class 1: 0.7282, Class 2: 0.0005, Class 3: 0.2115, \n",
      "Class 4: 0.3332, Class 5: 0.2835, Class 6: 0.8916, \n",
      "Validation F-beta Score\n",
      "Class 0: 0.0000, Class 1: 0.6875, Class 2: 0.0042, Class 3: 0.2123, \n",
      "Class 4: 0.3411, Class 5: 0.2984, Class 6: 0.8861, \n",
      "Overall Mean Dice Score: 0.4896\n",
      "Overall Mean F-beta Score: 0.4851\n",
      "\n",
      "Training Loss: 0.5474, Validation Loss: 0.5029, Validation F-beta: 0.4851\n",
      "Epoch 174/4000\n",
      "Current lambda: 0.4000\n"
     ]
    },
    {
     "name": "stderr",
     "output_type": "stream",
     "text": [
      "Training: 100%|██████████| 24/24 [00:41<00:00,  1.71s/it, loss=0.615]\n",
      "Validation: 100%|██████████| 4/4 [00:02<00:00,  1.49it/s, loss=0.313]\n"
     ]
    },
    {
     "name": "stdout",
     "output_type": "stream",
     "text": [
      "Validation Dice Score\n",
      "Class 0: 0.0000, Class 1: 0.5260, Class 2: 0.0021, Class 3: 0.3959, \n",
      "Class 4: 0.4278, Class 5: 0.3197, Class 6: 0.5779, \n",
      "Validation F-beta Score\n",
      "Class 0: 0.0000, Class 1: 0.5935, Class 2: 0.0173, Class 3: 0.3335, \n",
      "Class 4: 0.4919, Class 5: 0.3344, Class 6: 0.6666, \n",
      "Overall Mean Dice Score: 0.4495\n",
      "Overall Mean F-beta Score: 0.4840\n",
      "\n",
      "Training Loss: 0.5240, Validation Loss: 0.4741, Validation F-beta: 0.4840\n",
      "Epoch 175/4000\n",
      "Current lambda: 0.4000\n"
     ]
    },
    {
     "name": "stderr",
     "output_type": "stream",
     "text": [
      "Training: 100%|██████████| 24/24 [00:36<00:00,  1.51s/it, loss=0.534]\n",
      "Validation: 100%|██████████| 4/4 [00:02<00:00,  1.46it/s, loss=0.528]\n"
     ]
    },
    {
     "name": "stdout",
     "output_type": "stream",
     "text": [
      "Validation Dice Score\n",
      "Class 0: 0.0000, Class 1: 0.5850, Class 2: 0.0000, Class 3: 0.0180, \n",
      "Class 4: 0.4740, Class 5: 0.4197, Class 6: 0.6429, \n",
      "Validation F-beta Score\n",
      "Class 0: 0.0000, Class 1: 0.6551, Class 2: 0.0003, Class 3: 0.0152, \n",
      "Class 4: 0.3630, Class 5: 0.4753, Class 6: 0.6418, \n",
      "Overall Mean Dice Score: 0.4279\n",
      "Overall Mean F-beta Score: 0.4301\n",
      "\n",
      "Training Loss: 0.5219, Validation Loss: 0.5385, Validation F-beta: 0.4301\n",
      "Epoch 176/4000\n",
      "Current lambda: 0.4000\n"
     ]
    },
    {
     "name": "stderr",
     "output_type": "stream",
     "text": [
      "Training: 100%|██████████| 24/24 [00:37<00:00,  1.54s/it, loss=0.436]\n",
      "Validation: 100%|██████████| 4/4 [00:02<00:00,  1.43it/s, loss=0.507]\n"
     ]
    },
    {
     "name": "stdout",
     "output_type": "stream",
     "text": [
      "Validation Dice Score\n",
      "Class 0: 0.0000, Class 1: 0.6367, Class 2: 0.0015, Class 3: 0.1548, \n",
      "Class 4: 0.4647, Class 5: 0.4567, Class 6: 0.7450, \n",
      "Validation F-beta Score\n",
      "Class 0: 0.0000, Class 1: 0.7562, Class 2: 0.0129, Class 3: 0.1588, \n",
      "Class 4: 0.4558, Class 5: 0.4844, Class 6: 0.8574, \n",
      "Overall Mean Dice Score: 0.4916\n",
      "Overall Mean F-beta Score: 0.5425\n",
      "\n",
      "Training Loss: 0.5102, Validation Loss: 0.4997, Validation F-beta: 0.5425\n",
      "Validation loss did not improve. Reducing lambda to 0.3900\n",
      "Epoch 177/4000\n",
      "Current lambda: 0.3900\n"
     ]
    },
    {
     "name": "stderr",
     "output_type": "stream",
     "text": [
      "Training: 100%|██████████| 24/24 [00:36<00:00,  1.53s/it, loss=0.514]\n",
      "Validation: 100%|██████████| 4/4 [00:02<00:00,  1.44it/s, loss=0.483]\n"
     ]
    },
    {
     "name": "stdout",
     "output_type": "stream",
     "text": [
      "Validation Dice Score\n",
      "Class 0: 0.0000, Class 1: 0.8124, Class 2: 0.0009, Class 3: 0.1796, \n",
      "Class 4: 0.2521, Class 5: 0.2784, Class 6: 0.6456, \n",
      "Validation F-beta Score\n",
      "Class 0: 0.0000, Class 1: 0.8680, Class 2: 0.0076, Class 3: 0.2150, \n",
      "Class 4: 0.2803, Class 5: 0.2169, Class 6: 0.6545, \n",
      "Overall Mean Dice Score: 0.4336\n",
      "Overall Mean F-beta Score: 0.4469\n",
      "\n",
      "Training Loss: 0.5303, Validation Loss: 0.4978, Validation F-beta: 0.4469\n",
      "Epoch 178/4000\n",
      "Current lambda: 0.3900\n"
     ]
    },
    {
     "name": "stderr",
     "output_type": "stream",
     "text": [
      "Training: 100%|██████████| 24/24 [00:36<00:00,  1.52s/it, loss=0.619]\n",
      "Validation: 100%|██████████| 4/4 [00:02<00:00,  1.41it/s, loss=0.525]\n"
     ]
    },
    {
     "name": "stdout",
     "output_type": "stream",
     "text": [
      "Validation Dice Score\n",
      "Class 0: 0.0000, Class 1: 0.3447, Class 2: 0.0005, Class 3: 0.2206, \n",
      "Class 4: 0.4754, Class 5: 0.1686, Class 6: 0.8416, \n",
      "Validation F-beta Score\n",
      "Class 0: 0.0000, Class 1: 0.4627, Class 2: 0.0039, Class 3: 0.1705, \n",
      "Class 4: 0.4293, Class 5: 0.1440, Class 6: 0.8498, \n",
      "Overall Mean Dice Score: 0.4102\n",
      "Overall Mean F-beta Score: 0.4113\n",
      "\n",
      "Training Loss: 0.5189, Validation Loss: 0.5267, Validation F-beta: 0.4113\n",
      "Epoch 179/4000\n",
      "Current lambda: 0.3900\n"
     ]
    },
    {
     "name": "stderr",
     "output_type": "stream",
     "text": [
      "Training: 100%|██████████| 24/24 [00:37<00:00,  1.55s/it, loss=0.493]\n",
      "Validation: 100%|██████████| 4/4 [00:02<00:00,  1.43it/s, loss=0.58] \n"
     ]
    },
    {
     "name": "stdout",
     "output_type": "stream",
     "text": [
      "Validation Dice Score\n",
      "Class 0: 0.0000, Class 1: 0.3984, Class 2: 0.0020, Class 3: 0.2323, \n",
      "Class 4: 0.2985, Class 5: 0.3303, Class 6: 0.5838, \n",
      "Validation F-beta Score\n",
      "Class 0: 0.0000, Class 1: 0.4626, Class 2: 0.0160, Class 3: 0.2108, \n",
      "Class 4: 0.2935, Class 5: 0.2632, Class 6: 0.7515, \n",
      "Overall Mean Dice Score: 0.3687\n",
      "Overall Mean F-beta Score: 0.3963\n",
      "\n",
      "Training Loss: 0.5264, Validation Loss: 0.5630, Validation F-beta: 0.3963\n",
      "Epoch 180/4000\n",
      "Current lambda: 0.3900\n"
     ]
    },
    {
     "name": "stderr",
     "output_type": "stream",
     "text": [
      "Training: 100%|██████████| 24/24 [00:36<00:00,  1.53s/it, loss=0.531]\n",
      "Validation: 100%|██████████| 4/4 [00:02<00:00,  1.41it/s, loss=0.556]\n"
     ]
    },
    {
     "name": "stdout",
     "output_type": "stream",
     "text": [
      "Validation Dice Score\n",
      "Class 0: 0.0000, Class 1: 0.7437, Class 2: 0.0023, Class 3: 0.2223, \n",
      "Class 4: 0.5274, Class 5: 0.4236, Class 6: 0.4235, \n",
      "Validation F-beta Score\n",
      "Class 0: 0.0000, Class 1: 0.6765, Class 2: 0.0191, Class 3: 0.2025, \n",
      "Class 4: 0.5120, Class 5: 0.4930, Class 6: 0.4028, \n",
      "Overall Mean Dice Score: 0.4681\n",
      "Overall Mean F-beta Score: 0.4573\n",
      "\n",
      "Training Loss: 0.5371, Validation Loss: 0.5123, Validation F-beta: 0.4573\n",
      "Epoch 181/4000\n",
      "Current lambda: 0.3900\n"
     ]
    },
    {
     "name": "stderr",
     "output_type": "stream",
     "text": [
      "Training: 100%|██████████| 24/24 [00:36<00:00,  1.53s/it, loss=0.45] \n",
      "Validation: 100%|██████████| 4/4 [00:02<00:00,  1.43it/s, loss=0.526]\n"
     ]
    },
    {
     "name": "stdout",
     "output_type": "stream",
     "text": [
      "Validation Dice Score\n",
      "Class 0: 0.0000, Class 1: 0.7022, Class 2: 0.0009, Class 3: 0.2868, \n",
      "Class 4: 0.3864, Class 5: 0.2965, Class 6: 0.4249, \n",
      "Validation F-beta Score\n",
      "Class 0: 0.0000, Class 1: 0.7328, Class 2: 0.0075, Class 3: 0.2901, \n",
      "Class 4: 0.3494, Class 5: 0.3854, Class 6: 0.4350, \n",
      "Overall Mean Dice Score: 0.4194\n",
      "Overall Mean F-beta Score: 0.4385\n",
      "\n",
      "Training Loss: 0.5271, Validation Loss: 0.5222, Validation F-beta: 0.4385\n",
      "Epoch 182/4000\n",
      "Current lambda: 0.3900\n"
     ]
    },
    {
     "name": "stderr",
     "output_type": "stream",
     "text": [
      "Training: 100%|██████████| 24/24 [00:36<00:00,  1.54s/it, loss=0.448]\n",
      "Validation: 100%|██████████| 4/4 [00:02<00:00,  1.38it/s, loss=0.55] \n"
     ]
    },
    {
     "name": "stdout",
     "output_type": "stream",
     "text": [
      "Validation Dice Score\n",
      "Class 0: 0.0000, Class 1: 0.6817, Class 2: 0.0023, Class 3: 0.2943, \n",
      "Class 4: 0.1640, Class 5: 0.3945, Class 6: 0.6091, \n",
      "Validation F-beta Score\n",
      "Class 0: 0.0000, Class 1: 0.5616, Class 2: 0.0190, Class 3: 0.3344, \n",
      "Class 4: 0.1885, Class 5: 0.4571, Class 6: 0.5265, \n",
      "Overall Mean Dice Score: 0.4287\n",
      "Overall Mean F-beta Score: 0.4136\n",
      "\n",
      "Training Loss: 0.5271, Validation Loss: 0.5369, Validation F-beta: 0.4136\n",
      "Epoch 183/4000\n",
      "Current lambda: 0.3900\n"
     ]
    },
    {
     "name": "stderr",
     "output_type": "stream",
     "text": [
      "Training: 100%|██████████| 24/24 [00:36<00:00,  1.54s/it, loss=0.558]\n",
      "Validation: 100%|██████████| 4/4 [00:02<00:00,  1.43it/s, loss=0.521]\n"
     ]
    },
    {
     "name": "stdout",
     "output_type": "stream",
     "text": [
      "Validation Dice Score\n",
      "Class 0: 0.0000, Class 1: 0.2810, Class 2: 0.0020, Class 3: 0.2944, \n",
      "Class 4: 0.4860, Class 5: 0.4292, Class 6: 0.2780, \n",
      "Validation F-beta Score\n",
      "Class 0: 0.0000, Class 1: 0.3904, Class 2: 0.0168, Class 3: 0.2412, \n",
      "Class 4: 0.4139, Class 5: 0.4115, Class 6: 0.3237, \n",
      "Overall Mean Dice Score: 0.3537\n",
      "Overall Mean F-beta Score: 0.3561\n",
      "\n",
      "Training Loss: 0.5270, Validation Loss: 0.5362, Validation F-beta: 0.3561\n",
      "Epoch 184/4000\n",
      "Current lambda: 0.3900\n"
     ]
    },
    {
     "name": "stderr",
     "output_type": "stream",
     "text": [
      "Training: 100%|██████████| 24/24 [00:36<00:00,  1.54s/it, loss=0.419]\n",
      "Validation: 100%|██████████| 4/4 [00:02<00:00,  1.34it/s, loss=0.482]\n"
     ]
    },
    {
     "name": "stdout",
     "output_type": "stream",
     "text": [
      "Validation Dice Score\n",
      "Class 0: 0.0000, Class 1: 0.6086, Class 2: 0.0021, Class 3: 0.2141, \n",
      "Class 4: 0.3908, Class 5: 0.2547, Class 6: 0.6304, \n",
      "Validation F-beta Score\n",
      "Class 0: 0.0000, Class 1: 0.5959, Class 2: 0.0172, Class 3: 0.3225, \n",
      "Class 4: 0.3827, Class 5: 0.3561, Class 6: 0.6541, \n",
      "Overall Mean Dice Score: 0.4197\n",
      "Overall Mean F-beta Score: 0.4623\n",
      "\n",
      "Training Loss: 0.5098, Validation Loss: 0.5440, Validation F-beta: 0.4623\n",
      "Epoch 185/4000\n",
      "Current lambda: 0.3900\n"
     ]
    },
    {
     "name": "stderr",
     "output_type": "stream",
     "text": [
      "Training: 100%|██████████| 24/24 [00:36<00:00,  1.53s/it, loss=0.586]\n",
      "Validation: 100%|██████████| 4/4 [00:02<00:00,  1.41it/s, loss=0.425]\n"
     ]
    },
    {
     "name": "stdout",
     "output_type": "stream",
     "text": [
      "Validation Dice Score\n",
      "Class 0: 0.0000, Class 1: 0.6300, Class 2: 0.0017, Class 3: 0.2547, \n",
      "Class 4: 0.5842, Class 5: 0.2612, Class 6: 0.5767, \n",
      "Validation F-beta Score\n",
      "Class 0: 0.0000, Class 1: 0.6129, Class 2: 0.0142, Class 3: 0.3308, \n",
      "Class 4: 0.5705, Class 5: 0.2430, Class 6: 0.5949, \n",
      "Overall Mean Dice Score: 0.4614\n",
      "Overall Mean F-beta Score: 0.4704\n",
      "\n",
      "Training Loss: 0.5136, Validation Loss: 0.4916, Validation F-beta: 0.4704\n",
      "Epoch 186/4000\n",
      "Current lambda: 0.3900\n"
     ]
    },
    {
     "name": "stderr",
     "output_type": "stream",
     "text": [
      "Training: 100%|██████████| 24/24 [00:37<00:00,  1.55s/it, loss=0.529]\n",
      "Validation: 100%|██████████| 4/4 [00:02<00:00,  1.42it/s, loss=0.494]\n"
     ]
    },
    {
     "name": "stdout",
     "output_type": "stream",
     "text": [
      "Validation Dice Score\n",
      "Class 0: 0.0000, Class 1: 0.4148, Class 2: 0.0013, Class 3: 0.1205, \n",
      "Class 4: 0.4764, Class 5: 0.3725, Class 6: 0.7803, \n",
      "Validation F-beta Score\n",
      "Class 0: 0.0000, Class 1: 0.4415, Class 2: 0.0113, Class 3: 0.1263, \n",
      "Class 4: 0.5802, Class 5: 0.3771, Class 6: 0.8018, \n",
      "Overall Mean Dice Score: 0.4329\n",
      "Overall Mean F-beta Score: 0.4654\n",
      "\n",
      "Training Loss: 0.5232, Validation Loss: 0.5086, Validation F-beta: 0.4654\n",
      "Validation loss did not improve. Reducing lambda to 0.3800\n",
      "Epoch 187/4000\n",
      "Current lambda: 0.3800\n"
     ]
    },
    {
     "name": "stderr",
     "output_type": "stream",
     "text": [
      "Training: 100%|██████████| 24/24 [00:36<00:00,  1.53s/it, loss=0.527]\n",
      "Validation: 100%|██████████| 4/4 [00:02<00:00,  1.43it/s, loss=0.58] \n"
     ]
    },
    {
     "name": "stdout",
     "output_type": "stream",
     "text": [
      "Validation Dice Score\n",
      "Class 0: 0.0001, Class 1: 0.5137, Class 2: 0.0034, Class 3: 0.2918, \n",
      "Class 4: 0.3039, Class 5: 0.3267, Class 6: 0.5389, \n",
      "Validation F-beta Score\n",
      "Class 0: 0.0000, Class 1: 0.5516, Class 2: 0.0281, Class 3: 0.4734, \n",
      "Class 4: 0.3059, Class 5: 0.3687, Class 6: 0.5846, \n",
      "Overall Mean Dice Score: 0.3950\n",
      "Overall Mean F-beta Score: 0.4568\n",
      "\n",
      "Training Loss: 0.5095, Validation Loss: 0.5528, Validation F-beta: 0.4568\n",
      "Epoch 188/4000\n",
      "Current lambda: 0.3800\n"
     ]
    },
    {
     "name": "stderr",
     "output_type": "stream",
     "text": [
      "Training: 100%|██████████| 24/24 [00:36<00:00,  1.54s/it, loss=0.438]\n",
      "Validation: 100%|██████████| 4/4 [00:02<00:00,  1.41it/s, loss=0.565]\n"
     ]
    },
    {
     "name": "stdout",
     "output_type": "stream",
     "text": [
      "Validation Dice Score\n",
      "Class 0: 0.0000, Class 1: 0.6778, Class 2: 0.0011, Class 3: 0.3308, \n",
      "Class 4: 0.3107, Class 5: 0.1535, Class 6: 0.6496, \n",
      "Validation F-beta Score\n",
      "Class 0: 0.0000, Class 1: 0.6127, Class 2: 0.0090, Class 3: 0.4312, \n",
      "Class 4: 0.2198, Class 5: 0.2781, Class 6: 0.9276, \n",
      "Overall Mean Dice Score: 0.4245\n",
      "Overall Mean F-beta Score: 0.4939\n",
      "\n",
      "Training Loss: 0.5131, Validation Loss: 0.5337, Validation F-beta: 0.4939\n",
      "Epoch 189/4000\n",
      "Current lambda: 0.3800\n"
     ]
    },
    {
     "name": "stderr",
     "output_type": "stream",
     "text": [
      "Training: 100%|██████████| 24/24 [00:36<00:00,  1.52s/it, loss=0.48] \n",
      "Validation: 100%|██████████| 4/4 [00:02<00:00,  1.42it/s, loss=0.549]\n"
     ]
    },
    {
     "name": "stdout",
     "output_type": "stream",
     "text": [
      "Validation Dice Score\n",
      "Class 0: 0.0000, Class 1: 0.4259, Class 2: 0.0009, Class 3: 0.2926, \n",
      "Class 4: 0.5446, Class 5: 0.1846, Class 6: 0.6335, \n",
      "Validation F-beta Score\n",
      "Class 0: 0.0000, Class 1: 0.4227, Class 2: 0.0076, Class 3: 0.3479, \n",
      "Class 4: 0.4982, Class 5: 0.2238, Class 6: 0.6417, \n",
      "Overall Mean Dice Score: 0.4162\n",
      "Overall Mean F-beta Score: 0.4269\n",
      "\n",
      "Training Loss: 0.5299, Validation Loss: 0.5332, Validation F-beta: 0.4269\n",
      "Epoch 190/4000\n",
      "Current lambda: 0.3800\n"
     ]
    },
    {
     "name": "stderr",
     "output_type": "stream",
     "text": [
      "Training: 100%|██████████| 24/24 [00:36<00:00,  1.53s/it, loss=0.59] \n",
      "Validation: 100%|██████████| 4/4 [00:02<00:00,  1.36it/s, loss=0.53] \n"
     ]
    },
    {
     "name": "stdout",
     "output_type": "stream",
     "text": [
      "Validation Dice Score\n",
      "Class 0: 0.0000, Class 1: 0.7157, Class 2: 0.0020, Class 3: 0.0401, \n",
      "Class 4: 0.2616, Class 5: 0.2989, Class 6: 0.8723, \n",
      "Validation F-beta Score\n",
      "Class 0: 0.0000, Class 1: 0.6286, Class 2: 0.0165, Class 3: 0.0557, \n",
      "Class 4: 0.2334, Class 5: 0.3242, Class 6: 0.9227, \n",
      "Overall Mean Dice Score: 0.4377\n",
      "Overall Mean F-beta Score: 0.4329\n",
      "\n",
      "Training Loss: 0.5489, Validation Loss: 0.5335, Validation F-beta: 0.4329\n",
      "Epoch 191/4000\n",
      "Current lambda: 0.3800\n"
     ]
    },
    {
     "name": "stderr",
     "output_type": "stream",
     "text": [
      "Training: 100%|██████████| 24/24 [00:36<00:00,  1.54s/it, loss=0.588]\n",
      "Validation: 100%|██████████| 4/4 [00:02<00:00,  1.41it/s, loss=0.546]\n"
     ]
    },
    {
     "name": "stdout",
     "output_type": "stream",
     "text": [
      "Validation Dice Score\n",
      "Class 0: 0.0000, Class 1: 0.5645, Class 2: 0.0008, Class 3: 0.2691, \n",
      "Class 4: 0.2754, Class 5: 0.3483, Class 6: 0.5297, \n",
      "Validation F-beta Score\n",
      "Class 0: 0.0000, Class 1: 0.5826, Class 2: 0.0068, Class 3: 0.3265, \n",
      "Class 4: 0.2190, Class 5: 0.3541, Class 6: 0.5128, \n",
      "Overall Mean Dice Score: 0.3974\n",
      "Overall Mean F-beta Score: 0.3990\n",
      "\n",
      "Training Loss: 0.5203, Validation Loss: 0.5341, Validation F-beta: 0.3990\n",
      "Epoch 192/4000\n",
      "Current lambda: 0.3800\n"
     ]
    },
    {
     "name": "stderr",
     "output_type": "stream",
     "text": [
      "Training: 100%|██████████| 24/24 [00:37<00:00,  1.54s/it, loss=0.545]\n",
      "Validation: 100%|██████████| 4/4 [00:02<00:00,  1.40it/s, loss=0.6]  \n"
     ]
    },
    {
     "name": "stdout",
     "output_type": "stream",
     "text": [
      "Validation Dice Score\n",
      "Class 0: 0.0000, Class 1: 0.2091, Class 2: 0.0009, Class 3: 0.3094, \n",
      "Class 4: 0.4488, Class 5: 0.3863, Class 6: 0.6670, \n",
      "Validation F-beta Score\n",
      "Class 0: 0.0000, Class 1: 0.2030, Class 2: 0.0075, Class 3: 0.3407, \n",
      "Class 4: 0.5066, Class 5: 0.3326, Class 6: 0.6998, \n",
      "Overall Mean Dice Score: 0.4041\n",
      "Overall Mean F-beta Score: 0.4165\n",
      "\n",
      "Training Loss: 0.5150, Validation Loss: 0.5213, Validation F-beta: 0.4165\n",
      "Epoch 193/4000\n",
      "Current lambda: 0.3800\n"
     ]
    },
    {
     "name": "stderr",
     "output_type": "stream",
     "text": [
      "Training: 100%|██████████| 24/24 [00:37<00:00,  1.55s/it, loss=0.429]\n",
      "Validation: 100%|██████████| 4/4 [00:02<00:00,  1.36it/s, loss=0.46] \n"
     ]
    },
    {
     "name": "stdout",
     "output_type": "stream",
     "text": [
      "Validation Dice Score\n",
      "Class 0: 0.0000, Class 1: 0.2966, Class 2: 0.0018, Class 3: 0.3423, \n",
      "Class 4: 0.4168, Class 5: 0.2736, Class 6: 0.6389, \n",
      "Validation F-beta Score\n",
      "Class 0: 0.0000, Class 1: 0.2589, Class 2: 0.0150, Class 3: 0.3574, \n",
      "Class 4: 0.5244, Class 5: 0.3593, Class 6: 0.6501, \n",
      "Overall Mean Dice Score: 0.3936\n",
      "Overall Mean F-beta Score: 0.4300\n",
      "\n",
      "Training Loss: 0.5198, Validation Loss: 0.5312, Validation F-beta: 0.4300\n",
      "Epoch 194/4000\n",
      "Current lambda: 0.3800\n"
     ]
    },
    {
     "name": "stderr",
     "output_type": "stream",
     "text": [
      "Training: 100%|██████████| 24/24 [00:36<00:00,  1.54s/it, loss=0.56] \n",
      "Validation: 100%|██████████| 4/4 [00:02<00:00,  1.39it/s, loss=0.494]\n"
     ]
    },
    {
     "name": "stdout",
     "output_type": "stream",
     "text": [
      "Validation Dice Score\n",
      "Class 0: 0.0000, Class 1: 0.4971, Class 2: 0.0006, Class 3: 0.3609, \n",
      "Class 4: 0.5165, Class 5: 0.2245, Class 6: 0.5839, \n",
      "Validation F-beta Score\n",
      "Class 0: 0.0000, Class 1: 0.5925, Class 2: 0.0047, Class 3: 0.2920, \n",
      "Class 4: 0.4137, Class 5: 0.2075, Class 6: 0.6575, \n",
      "Overall Mean Dice Score: 0.4366\n",
      "Overall Mean F-beta Score: 0.4326\n",
      "\n",
      "Training Loss: 0.5227, Validation Loss: 0.5260, Validation F-beta: 0.4326\n",
      "Epoch 195/4000\n",
      "Current lambda: 0.3800\n"
     ]
    },
    {
     "name": "stderr",
     "output_type": "stream",
     "text": [
      "Training: 100%|██████████| 24/24 [00:36<00:00,  1.54s/it, loss=0.527]\n",
      "Validation: 100%|██████████| 4/4 [00:02<00:00,  1.43it/s, loss=0.601]\n"
     ]
    },
    {
     "name": "stdout",
     "output_type": "stream",
     "text": [
      "Validation Dice Score\n",
      "Class 0: 0.0000, Class 1: 0.4843, Class 2: 0.0009, Class 3: 0.3683, \n",
      "Class 4: 0.2794, Class 5: 0.2234, Class 6: 0.4296, \n",
      "Validation F-beta Score\n",
      "Class 0: 0.0000, Class 1: 0.5135, Class 2: 0.0079, Class 3: 0.3864, \n",
      "Class 4: 0.3544, Class 5: 0.2583, Class 6: 0.4395, \n",
      "Overall Mean Dice Score: 0.3570\n",
      "Overall Mean F-beta Score: 0.3904\n",
      "\n",
      "Training Loss: 0.5217, Validation Loss: 0.5455, Validation F-beta: 0.3904\n",
      "Epoch 196/4000\n",
      "Current lambda: 0.3800\n"
     ]
    },
    {
     "name": "stderr",
     "output_type": "stream",
     "text": [
      "Training: 100%|██████████| 24/24 [00:36<00:00,  1.53s/it, loss=0.571]\n",
      "Validation: 100%|██████████| 4/4 [00:02<00:00,  1.36it/s, loss=0.551]\n"
     ]
    },
    {
     "name": "stdout",
     "output_type": "stream",
     "text": [
      "Validation Dice Score\n",
      "Class 0: 0.0000, Class 1: 0.6887, Class 2: 0.0001, Class 3: 0.3247, \n",
      "Class 4: 0.4299, Class 5: 0.2131, Class 6: 0.6305, \n",
      "Validation F-beta Score\n",
      "Class 0: 0.0000, Class 1: 0.8359, Class 2: 0.0008, Class 3: 0.2999, \n",
      "Class 4: 0.4460, Class 5: 0.1935, Class 6: 0.6278, \n",
      "Overall Mean Dice Score: 0.4574\n",
      "Overall Mean F-beta Score: 0.4806\n",
      "\n",
      "Training Loss: 0.5246, Validation Loss: 0.5045, Validation F-beta: 0.4806\n",
      "Validation loss did not improve. Reducing lambda to 0.3700\n",
      "Epoch 197/4000\n",
      "Current lambda: 0.3700\n"
     ]
    },
    {
     "name": "stderr",
     "output_type": "stream",
     "text": [
      "Training: 100%|██████████| 24/24 [00:37<00:00,  1.54s/it, loss=0.562]\n",
      "Validation: 100%|██████████| 4/4 [00:02<00:00,  1.42it/s, loss=0.544]\n"
     ]
    },
    {
     "name": "stdout",
     "output_type": "stream",
     "text": [
      "Validation Dice Score\n",
      "Class 0: 0.0000, Class 1: 0.6273, Class 2: 0.0017, Class 3: 0.2981, \n",
      "Class 4: 0.6413, Class 5: 0.5465, Class 6: 0.2669, \n",
      "Validation F-beta Score\n",
      "Class 0: 0.0000, Class 1: 0.5645, Class 2: 0.0145, Class 3: 0.3586, \n",
      "Class 4: 0.6599, Class 5: 0.5434, Class 6: 0.2702, \n",
      "Overall Mean Dice Score: 0.4760\n",
      "Overall Mean F-beta Score: 0.4793\n",
      "\n",
      "Training Loss: 0.5174, Validation Loss: 0.5095, Validation F-beta: 0.4793\n",
      "Epoch 198/4000\n",
      "Current lambda: 0.3700\n"
     ]
    },
    {
     "name": "stderr",
     "output_type": "stream",
     "text": [
      "Training: 100%|██████████| 24/24 [00:36<00:00,  1.52s/it, loss=0.645]\n",
      "Validation: 100%|██████████| 4/4 [00:02<00:00,  1.41it/s, loss=0.496]\n"
     ]
    },
    {
     "name": "stdout",
     "output_type": "stream",
     "text": [
      "Validation Dice Score\n",
      "Class 0: 0.0000, Class 1: 0.5214, Class 2: 0.0004, Class 3: 0.3201, \n",
      "Class 4: 0.6278, Class 5: 0.4364, Class 6: 0.8158, \n",
      "Validation F-beta Score\n",
      "Class 0: 0.0000, Class 1: 0.5521, Class 2: 0.0033, Class 3: 0.3366, \n",
      "Class 4: 0.6524, Class 5: 0.5167, Class 6: 0.9036, \n",
      "Overall Mean Dice Score: 0.5443\n",
      "Overall Mean F-beta Score: 0.5923\n",
      "\n",
      "Training Loss: 0.5319, Validation Loss: 0.5111, Validation F-beta: 0.5923\n",
      "========================================================\n",
      "Best model saved based on F-beta score: 0.5923\n",
      "========================================================\n",
      "Epoch 199/4000\n",
      "Current lambda: 0.3700\n"
     ]
    },
    {
     "name": "stderr",
     "output_type": "stream",
     "text": [
      "Training: 100%|██████████| 24/24 [00:36<00:00,  1.53s/it, loss=0.462]\n",
      "Validation: 100%|██████████| 4/4 [00:02<00:00,  1.44it/s, loss=0.578]\n"
     ]
    },
    {
     "name": "stdout",
     "output_type": "stream",
     "text": [
      "Validation Dice Score\n",
      "Class 0: 0.0000, Class 1: 0.5213, Class 2: 0.0000, Class 3: 0.3085, \n",
      "Class 4: 0.4858, Class 5: 0.5448, Class 6: 0.6739, \n",
      "Validation F-beta Score\n",
      "Class 0: 0.0000, Class 1: 0.6042, Class 2: 0.0001, Class 3: 0.3154, \n",
      "Class 4: 0.4289, Class 5: 0.5961, Class 6: 0.6897, \n",
      "Overall Mean Dice Score: 0.5068\n",
      "Overall Mean F-beta Score: 0.5268\n",
      "\n",
      "Training Loss: 0.5143, Validation Loss: 0.4694, Validation F-beta: 0.5268\n",
      "Epoch 200/4000\n",
      "Current lambda: 0.3700\n"
     ]
    },
    {
     "name": "stderr",
     "output_type": "stream",
     "text": [
      "Training: 100%|██████████| 24/24 [00:36<00:00,  1.53s/it, loss=0.362]\n",
      "Validation: 100%|██████████| 4/4 [00:02<00:00,  1.43it/s, loss=0.51] \n"
     ]
    },
    {
     "name": "stdout",
     "output_type": "stream",
     "text": [
      "Validation Dice Score\n",
      "Class 0: 0.0000, Class 1: 0.5973, Class 2: 0.0009, Class 3: 0.3392, \n",
      "Class 4: 0.6537, Class 5: 0.5204, Class 6: 0.6224, \n",
      "Validation F-beta Score\n",
      "Class 0: 0.0000, Class 1: 0.6059, Class 2: 0.0075, Class 3: 0.3902, \n",
      "Class 4: 0.6166, Class 5: 0.5709, Class 6: 0.6353, \n",
      "Overall Mean Dice Score: 0.5466\n",
      "Overall Mean F-beta Score: 0.5638\n",
      "\n",
      "Training Loss: 0.5116, Validation Loss: 0.4759, Validation F-beta: 0.5638\n",
      "Epoch 201/4000\n",
      "Current lambda: 0.3700\n"
     ]
    },
    {
     "name": "stderr",
     "output_type": "stream",
     "text": [
      "Training: 100%|██████████| 24/24 [00:36<00:00,  1.54s/it, loss=0.578]\n",
      "Validation: 100%|██████████| 4/4 [00:02<00:00,  1.45it/s, loss=0.433]\n"
     ]
    },
    {
     "name": "stdout",
     "output_type": "stream",
     "text": [
      "Validation Dice Score\n",
      "Class 0: 0.0000, Class 1: 0.5212, Class 2: 0.0016, Class 3: 0.2258, \n",
      "Class 4: 0.4136, Class 5: 0.2529, Class 6: 0.4437, \n",
      "Validation F-beta Score\n",
      "Class 0: 0.0000, Class 1: 0.5148, Class 2: 0.0130, Class 3: 0.2140, \n",
      "Class 4: 0.4870, Class 5: 0.3112, Class 6: 0.4811, \n",
      "Overall Mean Dice Score: 0.3714\n",
      "Overall Mean F-beta Score: 0.4016\n",
      "\n",
      "Training Loss: 0.5124, Validation Loss: 0.5679, Validation F-beta: 0.4016\n",
      "Epoch 202/4000\n",
      "Current lambda: 0.3700\n"
     ]
    },
    {
     "name": "stderr",
     "output_type": "stream",
     "text": [
      "Training: 100%|██████████| 24/24 [00:36<00:00,  1.53s/it, loss=0.459]\n",
      "Validation: 100%|██████████| 4/4 [00:02<00:00,  1.39it/s, loss=0.299]\n"
     ]
    },
    {
     "name": "stdout",
     "output_type": "stream",
     "text": [
      "Validation Dice Score\n",
      "Class 0: 0.0000, Class 1: 0.7771, Class 2: 0.0010, Class 3: 0.3033, \n",
      "Class 4: 0.6699, Class 5: 0.2866, Class 6: 0.8308, \n",
      "Validation F-beta Score\n",
      "Class 0: 0.0000, Class 1: 0.7428, Class 2: 0.0080, Class 3: 0.3163, \n",
      "Class 4: 0.7387, Class 5: 0.3111, Class 6: 0.8822, \n",
      "Overall Mean Dice Score: 0.5735\n",
      "Overall Mean F-beta Score: 0.5982\n",
      "\n",
      "Training Loss: 0.5045, Validation Loss: 0.4609, Validation F-beta: 0.5982\n",
      "========================================================\n",
      "Best model saved based on F-beta score: 0.5982\n",
      "========================================================\n",
      "Epoch 203/4000\n",
      "Current lambda: 0.3700\n"
     ]
    },
    {
     "name": "stderr",
     "output_type": "stream",
     "text": [
      "Training: 100%|██████████| 24/24 [00:36<00:00,  1.54s/it, loss=0.527]\n",
      "Validation: 100%|██████████| 4/4 [00:02<00:00,  1.39it/s, loss=0.409]\n"
     ]
    },
    {
     "name": "stdout",
     "output_type": "stream",
     "text": [
      "Validation Dice Score\n",
      "Class 0: 0.0000, Class 1: 0.3857, Class 2: 0.0023, Class 3: 0.4739, \n",
      "Class 4: 0.4425, Class 5: 0.3733, Class 6: 0.8328, \n",
      "Validation F-beta Score\n",
      "Class 0: 0.0000, Class 1: 0.4286, Class 2: 0.0194, Class 3: 0.4369, \n",
      "Class 4: 0.6814, Class 5: 0.3613, Class 6: 0.9259, \n",
      "Overall Mean Dice Score: 0.5016\n",
      "Overall Mean F-beta Score: 0.5668\n",
      "\n",
      "Training Loss: 0.4889, Validation Loss: 0.4914, Validation F-beta: 0.5668\n",
      "Epoch 204/4000\n",
      "Current lambda: 0.3700\n"
     ]
    },
    {
     "name": "stderr",
     "output_type": "stream",
     "text": [
      "Training: 100%|██████████| 24/24 [00:36<00:00,  1.53s/it, loss=0.582]\n",
      "Validation: 100%|██████████| 4/4 [00:02<00:00,  1.44it/s, loss=0.43] \n"
     ]
    },
    {
     "name": "stdout",
     "output_type": "stream",
     "text": [
      "Validation Dice Score\n",
      "Class 0: 0.0000, Class 1: 0.7717, Class 2: 0.0016, Class 3: 0.1131, \n",
      "Class 4: 0.2396, Class 5: 0.4130, Class 6: 0.8792, \n",
      "Validation F-beta Score\n",
      "Class 0: 0.0000, Class 1: 0.7798, Class 2: 0.0132, Class 3: 0.1074, \n",
      "Class 4: 0.2213, Class 5: 0.4852, Class 6: 0.8528, \n",
      "Overall Mean Dice Score: 0.4833\n",
      "Overall Mean F-beta Score: 0.4893\n",
      "\n",
      "Training Loss: 0.5067, Validation Loss: 0.4749, Validation F-beta: 0.4893\n",
      "Epoch 205/4000\n",
      "Current lambda: 0.3700\n"
     ]
    },
    {
     "name": "stderr",
     "output_type": "stream",
     "text": [
      "Training: 100%|██████████| 24/24 [00:36<00:00,  1.53s/it, loss=0.51] \n",
      "Validation: 100%|██████████| 4/4 [00:02<00:00,  1.46it/s, loss=0.476]\n"
     ]
    },
    {
     "name": "stdout",
     "output_type": "stream",
     "text": [
      "Validation Dice Score\n",
      "Class 0: 0.0000, Class 1: 0.7318, Class 2: 0.0008, Class 3: 0.2477, \n",
      "Class 4: 0.3394, Class 5: 0.3126, Class 6: 0.7504, \n",
      "Validation F-beta Score\n",
      "Class 0: 0.0000, Class 1: 0.6616, Class 2: 0.0069, Class 3: 0.2411, \n",
      "Class 4: 0.3458, Class 5: 0.3248, Class 6: 0.7652, \n",
      "Overall Mean Dice Score: 0.4764\n",
      "Overall Mean F-beta Score: 0.4677\n",
      "\n",
      "Training Loss: 0.5025, Validation Loss: 0.4590, Validation F-beta: 0.4677\n",
      "Epoch 206/4000\n",
      "Current lambda: 0.3700\n"
     ]
    },
    {
     "name": "stderr",
     "output_type": "stream",
     "text": [
      "Training: 100%|██████████| 24/24 [00:36<00:00,  1.53s/it, loss=0.652]\n",
      "Validation: 100%|██████████| 4/4 [00:02<00:00,  1.44it/s, loss=0.524]\n"
     ]
    },
    {
     "name": "stdout",
     "output_type": "stream",
     "text": [
      "Validation Dice Score\n",
      "Class 0: 0.0000, Class 1: 0.7052, Class 2: 0.0027, Class 3: 0.2059, \n",
      "Class 4: 0.2890, Class 5: 0.3814, Class 6: 0.8337, \n",
      "Validation F-beta Score\n",
      "Class 0: 0.0000, Class 1: 0.8062, Class 2: 0.0225, Class 3: 0.1414, \n",
      "Class 4: 0.4513, Class 5: 0.3487, Class 6: 0.8754, \n",
      "Overall Mean Dice Score: 0.4830\n",
      "Overall Mean F-beta Score: 0.5246\n",
      "\n",
      "Training Loss: 0.5241, Validation Loss: 0.4787, Validation F-beta: 0.5246\n",
      "Epoch 207/4000\n",
      "Current lambda: 0.3700\n"
     ]
    },
    {
     "name": "stderr",
     "output_type": "stream",
     "text": [
      "Training: 100%|██████████| 24/24 [00:36<00:00,  1.53s/it, loss=0.504]\n",
      "Validation: 100%|██████████| 4/4 [00:02<00:00,  1.41it/s, loss=0.499]\n"
     ]
    },
    {
     "name": "stdout",
     "output_type": "stream",
     "text": [
      "Validation Dice Score\n",
      "Class 0: 0.0000, Class 1: 0.1981, Class 2: 0.0010, Class 3: 0.4452, \n",
      "Class 4: 0.5375, Class 5: 0.2976, Class 6: 0.4634, \n",
      "Validation F-beta Score\n",
      "Class 0: 0.0000, Class 1: 0.7111, Class 2: 0.0086, Class 3: 0.4488, \n",
      "Class 4: 0.7060, Class 5: 0.2877, Class 6: 0.4475, \n",
      "Overall Mean Dice Score: 0.3884\n",
      "Overall Mean F-beta Score: 0.5202\n",
      "\n",
      "Training Loss: 0.5015, Validation Loss: 0.5478, Validation F-beta: 0.5202\n",
      "Epoch 208/4000\n",
      "Current lambda: 0.3700\n"
     ]
    },
    {
     "name": "stderr",
     "output_type": "stream",
     "text": [
      "Training: 100%|██████████| 24/24 [00:36<00:00,  1.53s/it, loss=0.508]\n",
      "Validation: 100%|██████████| 4/4 [00:02<00:00,  1.43it/s, loss=0.528]\n"
     ]
    },
    {
     "name": "stdout",
     "output_type": "stream",
     "text": [
      "Validation Dice Score\n",
      "Class 0: 0.0000, Class 1: 0.5404, Class 2: 0.0018, Class 3: 0.4056, \n",
      "Class 4: 0.5714, Class 5: 0.4620, Class 6: 0.8486, \n",
      "Validation F-beta Score\n",
      "Class 0: 0.0000, Class 1: 0.6871, Class 2: 0.0149, Class 3: 0.4951, \n",
      "Class 4: 0.5532, Class 5: 0.4389, Class 6: 0.8809, \n",
      "Overall Mean Dice Score: 0.5656\n",
      "Overall Mean F-beta Score: 0.6110\n",
      "\n",
      "Training Loss: 0.5279, Validation Loss: 0.4794, Validation F-beta: 0.6110\n",
      "========================================================\n",
      "Best model saved based on F-beta score: 0.6110\n",
      "========================================================\n",
      "Epoch 209/4000\n",
      "Current lambda: 0.3700\n"
     ]
    },
    {
     "name": "stderr",
     "output_type": "stream",
     "text": [
      "Training: 100%|██████████| 24/24 [00:36<00:00,  1.53s/it, loss=0.551]\n",
      "Validation: 100%|██████████| 4/4 [00:02<00:00,  1.41it/s, loss=0.549]\n"
     ]
    },
    {
     "name": "stdout",
     "output_type": "stream",
     "text": [
      "Validation Dice Score\n",
      "Class 0: 0.0000, Class 1: 0.7518, Class 2: 0.0014, Class 3: 0.3027, \n",
      "Class 4: 0.6300, Class 5: 0.1387, Class 6: 0.5974, \n",
      "Validation F-beta Score\n",
      "Class 0: 0.0000, Class 1: 0.6937, Class 2: 0.0112, Class 3: 0.4190, \n",
      "Class 4: 0.6930, Class 5: 0.1405, Class 6: 0.5623, \n",
      "Overall Mean Dice Score: 0.4841\n",
      "Overall Mean F-beta Score: 0.5017\n",
      "\n",
      "Training Loss: 0.5093, Validation Loss: 0.5216, Validation F-beta: 0.5017\n",
      "Epoch 210/4000\n",
      "Current lambda: 0.3700\n"
     ]
    },
    {
     "name": "stderr",
     "output_type": "stream",
     "text": [
      "Training: 100%|██████████| 24/24 [00:36<00:00,  1.53s/it, loss=0.578]\n",
      "Validation: 100%|██████████| 4/4 [00:02<00:00,  1.42it/s, loss=0.472]\n"
     ]
    },
    {
     "name": "stdout",
     "output_type": "stream",
     "text": [
      "Validation Dice Score\n",
      "Class 0: 0.0000, Class 1: 0.4849, Class 2: 0.0007, Class 3: 0.3411, \n",
      "Class 4: 0.4722, Class 5: 0.3797, Class 6: 0.2242, \n",
      "Validation F-beta Score\n",
      "Class 0: 0.0000, Class 1: 0.5621, Class 2: 0.0060, Class 3: 0.4826, \n",
      "Class 4: 0.4238, Class 5: 0.4466, Class 6: 0.3805, \n",
      "Overall Mean Dice Score: 0.3804\n",
      "Overall Mean F-beta Score: 0.4591\n",
      "\n",
      "Training Loss: 0.5226, Validation Loss: 0.5356, Validation F-beta: 0.4591\n",
      "Epoch 211/4000\n",
      "Current lambda: 0.3700\n"
     ]
    },
    {
     "name": "stderr",
     "output_type": "stream",
     "text": [
      "Training: 100%|██████████| 24/24 [00:36<00:00,  1.54s/it, loss=0.583]\n",
      "Validation: 100%|██████████| 4/4 [00:02<00:00,  1.41it/s, loss=0.45] \n"
     ]
    },
    {
     "name": "stdout",
     "output_type": "stream",
     "text": [
      "Validation Dice Score\n",
      "Class 0: 0.0000, Class 1: 0.7764, Class 2: 0.0010, Class 3: 0.5106, \n",
      "Class 4: 0.5009, Class 5: 0.2916, Class 6: 0.7427, \n",
      "Validation F-beta Score\n",
      "Class 0: 0.0000, Class 1: 0.7181, Class 2: 0.0082, Class 3: 0.5380, \n",
      "Class 4: 0.5073, Class 5: 0.2863, Class 6: 0.8695, \n",
      "Overall Mean Dice Score: 0.5644\n",
      "Overall Mean F-beta Score: 0.5839\n",
      "\n",
      "Training Loss: 0.5172, Validation Loss: 0.4786, Validation F-beta: 0.5839\n",
      "Epoch 212/4000\n",
      "Current lambda: 0.3700\n"
     ]
    },
    {
     "name": "stderr",
     "output_type": "stream",
     "text": [
      "Training: 100%|██████████| 24/24 [00:37<00:00,  1.55s/it, loss=0.509]\n",
      "Validation: 100%|██████████| 4/4 [00:02<00:00,  1.38it/s, loss=0.575]\n"
     ]
    },
    {
     "name": "stdout",
     "output_type": "stream",
     "text": [
      "Validation Dice Score\n",
      "Class 0: 0.0000, Class 1: 0.5174, Class 2: 0.0020, Class 3: 0.0381, \n",
      "Class 4: 0.2998, Class 5: 0.2479, Class 6: 0.5828, \n",
      "Validation F-beta Score\n",
      "Class 0: 0.0000, Class 1: 0.5146, Class 2: 0.0169, Class 3: 0.0405, \n",
      "Class 4: 0.2282, Class 5: 0.2136, Class 6: 0.6173, \n",
      "Overall Mean Dice Score: 0.3372\n",
      "Overall Mean F-beta Score: 0.3229\n",
      "\n",
      "Training Loss: 0.5071, Validation Loss: 0.5677, Validation F-beta: 0.3229\n",
      "Epoch 213/4000\n",
      "Current lambda: 0.3700\n"
     ]
    },
    {
     "name": "stderr",
     "output_type": "stream",
     "text": [
      "Training: 100%|██████████| 24/24 [00:36<00:00,  1.53s/it, loss=0.496]\n",
      "Validation: 100%|██████████| 4/4 [00:02<00:00,  1.40it/s, loss=0.56] \n"
     ]
    },
    {
     "name": "stdout",
     "output_type": "stream",
     "text": [
      "Validation Dice Score\n",
      "Class 0: 0.0000, Class 1: 0.7427, Class 2: 0.0022, Class 3: 0.3497, \n",
      "Class 4: 0.1320, Class 5: 0.4559, Class 6: 0.6258, \n",
      "Validation F-beta Score\n",
      "Class 0: 0.0000, Class 1: 0.8202, Class 2: 0.0182, Class 3: 0.4501, \n",
      "Class 4: 0.1788, Class 5: 0.3822, Class 6: 0.6495, \n",
      "Overall Mean Dice Score: 0.4612\n",
      "Overall Mean F-beta Score: 0.4962\n",
      "\n",
      "Training Loss: 0.5279, Validation Loss: 0.5115, Validation F-beta: 0.4962\n",
      "Epoch 214/4000\n",
      "Current lambda: 0.3700\n"
     ]
    },
    {
     "name": "stderr",
     "output_type": "stream",
     "text": [
      "Training: 100%|██████████| 24/24 [00:36<00:00,  1.54s/it, loss=0.558]\n",
      "Validation: 100%|██████████| 4/4 [00:02<00:00,  1.42it/s, loss=0.541]\n"
     ]
    },
    {
     "name": "stdout",
     "output_type": "stream",
     "text": [
      "Validation Dice Score\n",
      "Class 0: 0.0000, Class 1: 0.7417, Class 2: 0.0006, Class 3: 0.1649, \n",
      "Class 4: 0.3503, Class 5: 0.3822, Class 6: 0.8474, \n",
      "Validation F-beta Score\n",
      "Class 0: 0.0000, Class 1: 0.7096, Class 2: 0.0048, Class 3: 0.1466, \n",
      "Class 4: 0.4958, Class 5: 0.4955, Class 6: 0.8917, \n",
      "Overall Mean Dice Score: 0.4973\n",
      "Overall Mean F-beta Score: 0.5478\n",
      "\n",
      "Training Loss: 0.4995, Validation Loss: 0.4648, Validation F-beta: 0.5478\n",
      "Epoch 215/4000\n",
      "Current lambda: 0.3700\n"
     ]
    },
    {
     "name": "stderr",
     "output_type": "stream",
     "text": [
      "Training: 100%|██████████| 24/24 [00:37<00:00,  1.56s/it, loss=0.461]\n",
      "Validation: 100%|██████████| 4/4 [00:02<00:00,  1.40it/s, loss=0.505]\n"
     ]
    },
    {
     "name": "stdout",
     "output_type": "stream",
     "text": [
      "Validation Dice Score\n",
      "Class 0: 0.0000, Class 1: 0.8417, Class 2: 0.0011, Class 3: 0.3394, \n",
      "Class 4: 0.4679, Class 5: 0.3684, Class 6: 0.8309, \n",
      "Validation F-beta Score\n",
      "Class 0: 0.0000, Class 1: 0.8932, Class 2: 0.0088, Class 3: 0.3774, \n",
      "Class 4: 0.5930, Class 5: 0.3621, Class 6: 0.8107, \n",
      "Overall Mean Dice Score: 0.5697\n",
      "Overall Mean F-beta Score: 0.6073\n",
      "\n",
      "Training Loss: 0.5210, Validation Loss: 0.5103, Validation F-beta: 0.6073\n",
      "Epoch 216/4000\n",
      "Current lambda: 0.3700\n"
     ]
    },
    {
     "name": "stderr",
     "output_type": "stream",
     "text": [
      "Training: 100%|██████████| 24/24 [00:36<00:00,  1.54s/it, loss=0.474]\n",
      "Validation: 100%|██████████| 4/4 [00:02<00:00,  1.42it/s, loss=0.616]\n"
     ]
    },
    {
     "name": "stdout",
     "output_type": "stream",
     "text": [
      "Validation Dice Score\n",
      "Class 0: 0.0000, Class 1: 0.3913, Class 2: 0.0017, Class 3: 0.0837, \n",
      "Class 4: 0.2957, Class 5: 0.3737, Class 6: 0.6124, \n",
      "Validation F-beta Score\n",
      "Class 0: 0.0000, Class 1: 0.4109, Class 2: 0.0141, Class 3: 0.0699, \n",
      "Class 4: 0.3238, Class 5: 0.3905, Class 6: 0.6867, \n",
      "Overall Mean Dice Score: 0.3514\n",
      "Overall Mean F-beta Score: 0.3764\n",
      "\n",
      "Training Loss: 0.5250, Validation Loss: 0.5527, Validation F-beta: 0.3764\n",
      "Epoch 217/4000\n",
      "Current lambda: 0.3700\n"
     ]
    },
    {
     "name": "stderr",
     "output_type": "stream",
     "text": [
      "Training: 100%|██████████| 24/24 [00:40<00:00,  1.71s/it, loss=0.5]  \n",
      "Validation: 100%|██████████| 4/4 [00:02<00:00,  1.43it/s, loss=0.422]\n"
     ]
    },
    {
     "name": "stdout",
     "output_type": "stream",
     "text": [
      "Validation Dice Score\n",
      "Class 0: 0.0000, Class 1: 0.8486, Class 2: 0.0005, Class 3: 0.1048, \n",
      "Class 4: 0.3955, Class 5: 0.4573, Class 6: 0.8828, \n",
      "Validation F-beta Score\n",
      "Class 0: 0.0000, Class 1: 0.8772, Class 2: 0.0046, Class 3: 0.1675, \n",
      "Class 4: 0.5048, Class 5: 0.4575, Class 6: 0.9085, \n",
      "Overall Mean Dice Score: 0.5378\n",
      "Overall Mean F-beta Score: 0.5831\n",
      "\n",
      "Training Loss: 0.4956, Validation Loss: 0.4770, Validation F-beta: 0.5831\n",
      "Validation loss did not improve. Reducing lambda to 0.3600\n",
      "Epoch 218/4000\n",
      "Current lambda: 0.3600\n"
     ]
    },
    {
     "name": "stderr",
     "output_type": "stream",
     "text": [
      "Training: 100%|██████████| 24/24 [00:39<00:00,  1.67s/it, loss=0.524]\n",
      "Validation: 100%|██████████| 4/4 [00:02<00:00,  1.41it/s, loss=0.443]\n"
     ]
    },
    {
     "name": "stdout",
     "output_type": "stream",
     "text": [
      "Validation Dice Score\n",
      "Class 0: 0.0000, Class 1: 0.5977, Class 2: 0.0019, Class 3: 0.4044, \n",
      "Class 4: 0.3819, Class 5: 0.3755, Class 6: 0.8748, \n",
      "Validation F-beta Score\n",
      "Class 0: 0.0000, Class 1: 0.5696, Class 2: 0.0162, Class 3: 0.5147, \n",
      "Class 4: 0.4167, Class 5: 0.3793, Class 6: 0.8171, \n",
      "Overall Mean Dice Score: 0.5268\n",
      "Overall Mean F-beta Score: 0.5395\n",
      "\n",
      "Training Loss: 0.5280, Validation Loss: 0.4926, Validation F-beta: 0.5395\n",
      "Epoch 219/4000\n",
      "Current lambda: 0.3600\n"
     ]
    },
    {
     "name": "stderr",
     "output_type": "stream",
     "text": [
      "Training: 100%|██████████| 24/24 [00:37<00:00,  1.54s/it, loss=0.542]\n",
      "Validation: 100%|██████████| 4/4 [00:02<00:00,  1.40it/s, loss=0.601]\n"
     ]
    },
    {
     "name": "stdout",
     "output_type": "stream",
     "text": [
      "Validation Dice Score\n",
      "Class 0: 0.0000, Class 1: 0.3547, Class 2: 0.0012, Class 3: 0.1058, \n",
      "Class 4: 0.6924, Class 5: 0.4066, Class 6: 0.4334, \n",
      "Validation F-beta Score\n",
      "Class 0: 0.0000, Class 1: 0.3859, Class 2: 0.0096, Class 3: 0.1354, \n",
      "Class 4: 0.6531, Class 5: 0.3535, Class 6: 0.4045, \n",
      "Overall Mean Dice Score: 0.3986\n",
      "Overall Mean F-beta Score: 0.3865\n",
      "\n",
      "Training Loss: 0.5170, Validation Loss: 0.5446, Validation F-beta: 0.3865\n",
      "Epoch 220/4000\n",
      "Current lambda: 0.3600\n"
     ]
    },
    {
     "name": "stderr",
     "output_type": "stream",
     "text": [
      "Training: 100%|██████████| 24/24 [00:36<00:00,  1.53s/it, loss=0.571]\n",
      "Validation: 100%|██████████| 4/4 [00:02<00:00,  1.41it/s, loss=0.554]\n"
     ]
    },
    {
     "name": "stdout",
     "output_type": "stream",
     "text": [
      "Validation Dice Score\n",
      "Class 0: 0.0000, Class 1: 0.3914, Class 2: 0.0011, Class 3: 0.2469, \n",
      "Class 4: 0.5454, Class 5: 0.4853, Class 6: 0.5873, \n",
      "Validation F-beta Score\n",
      "Class 0: 0.0000, Class 1: 0.4383, Class 2: 0.0093, Class 3: 0.2181, \n",
      "Class 4: 0.6902, Class 5: 0.4562, Class 6: 0.6886, \n",
      "Overall Mean Dice Score: 0.4513\n",
      "Overall Mean F-beta Score: 0.4983\n",
      "\n",
      "Training Loss: 0.5181, Validation Loss: 0.4903, Validation F-beta: 0.4983\n",
      "Epoch 221/4000\n",
      "Current lambda: 0.3600\n"
     ]
    },
    {
     "name": "stderr",
     "output_type": "stream",
     "text": [
      "Training: 100%|██████████| 24/24 [00:36<00:00,  1.52s/it, loss=0.436]\n",
      "Validation: 100%|██████████| 4/4 [00:02<00:00,  1.42it/s, loss=0.505]\n"
     ]
    },
    {
     "name": "stdout",
     "output_type": "stream",
     "text": [
      "Validation Dice Score\n",
      "Class 0: 0.0000, Class 1: 0.7461, Class 2: 0.0008, Class 3: 0.1246, \n",
      "Class 4: 0.6227, Class 5: 0.6359, Class 6: 0.2188, \n",
      "Validation F-beta Score\n",
      "Class 0: 0.0000, Class 1: 0.8733, Class 2: 0.0069, Class 3: 0.0790, \n",
      "Class 4: 0.5397, Class 5: 0.7042, Class 6: 0.4649, \n",
      "Overall Mean Dice Score: 0.4696\n",
      "Overall Mean F-beta Score: 0.5322\n",
      "\n",
      "Training Loss: 0.5219, Validation Loss: 0.4907, Validation F-beta: 0.5322\n",
      "Epoch 222/4000\n",
      "Current lambda: 0.3600\n"
     ]
    },
    {
     "name": "stderr",
     "output_type": "stream",
     "text": [
      "Training: 100%|██████████| 24/24 [00:36<00:00,  1.53s/it, loss=0.427]\n",
      "Validation: 100%|██████████| 4/4 [00:02<00:00,  1.43it/s, loss=0.474]\n"
     ]
    },
    {
     "name": "stdout",
     "output_type": "stream",
     "text": [
      "Validation Dice Score\n",
      "Class 0: 0.0001, Class 1: 0.5572, Class 2: 0.0010, Class 3: 0.2480, \n",
      "Class 4: 0.3799, Class 5: 0.4447, Class 6: 0.4238, \n",
      "Validation F-beta Score\n",
      "Class 0: 0.0000, Class 1: 0.5937, Class 2: 0.0085, Class 3: 0.2507, \n",
      "Class 4: 0.3433, Class 5: 0.3956, Class 6: 0.4699, \n",
      "Overall Mean Dice Score: 0.4107\n",
      "Overall Mean F-beta Score: 0.4106\n",
      "\n",
      "Training Loss: 0.5120, Validation Loss: 0.5131, Validation F-beta: 0.4106\n",
      "Epoch 223/4000\n",
      "Current lambda: 0.3600\n"
     ]
    },
    {
     "name": "stderr",
     "output_type": "stream",
     "text": [
      "Training: 100%|██████████| 24/24 [00:36<00:00,  1.53s/it, loss=0.495]\n",
      "Validation: 100%|██████████| 4/4 [00:02<00:00,  1.43it/s, loss=0.429]\n"
     ]
    },
    {
     "name": "stdout",
     "output_type": "stream",
     "text": [
      "Validation Dice Score\n",
      "Class 0: 0.0000, Class 1: 0.8168, Class 2: 0.0008, Class 3: 0.1166, \n",
      "Class 4: 0.4974, Class 5: 0.4315, Class 6: 0.4459, \n",
      "Validation F-beta Score\n",
      "Class 0: 0.0000, Class 1: 0.8443, Class 2: 0.0063, Class 3: 0.1077, \n",
      "Class 4: 0.5411, Class 5: 0.4162, Class 6: 0.4293, \n",
      "Overall Mean Dice Score: 0.4616\n",
      "Overall Mean F-beta Score: 0.4677\n",
      "\n",
      "Training Loss: 0.5059, Validation Loss: 0.4923, Validation F-beta: 0.4677\n",
      "Epoch 224/4000\n",
      "Current lambda: 0.3600\n"
     ]
    },
    {
     "name": "stderr",
     "output_type": "stream",
     "text": [
      "Training: 100%|██████████| 24/24 [00:36<00:00,  1.52s/it, loss=0.477]\n",
      "Validation: 100%|██████████| 4/4 [00:02<00:00,  1.43it/s, loss=0.49] \n"
     ]
    },
    {
     "name": "stdout",
     "output_type": "stream",
     "text": [
      "Validation Dice Score\n",
      "Class 0: 0.0000, Class 1: 0.4111, Class 2: 0.0010, Class 3: 0.4605, \n",
      "Class 4: 0.4647, Class 5: 0.4066, Class 6: 0.3713, \n",
      "Validation F-beta Score\n",
      "Class 0: 0.0000, Class 1: 0.4619, Class 2: 0.0080, Class 3: 0.6141, \n",
      "Class 4: 0.4578, Class 5: 0.3480, Class 6: 0.4499, \n",
      "Overall Mean Dice Score: 0.4228\n",
      "Overall Mean F-beta Score: 0.4663\n",
      "\n",
      "Training Loss: 0.5194, Validation Loss: 0.5279, Validation F-beta: 0.4663\n",
      "Epoch 225/4000\n",
      "Current lambda: 0.3600\n"
     ]
    },
    {
     "name": "stderr",
     "output_type": "stream",
     "text": [
      "Training: 100%|██████████| 24/24 [00:36<00:00,  1.53s/it, loss=0.522]\n",
      "Validation: 100%|██████████| 4/4 [00:02<00:00,  1.43it/s, loss=0.468]\n"
     ]
    },
    {
     "name": "stdout",
     "output_type": "stream",
     "text": [
      "Validation Dice Score\n",
      "Class 0: 0.0000, Class 1: 0.5852, Class 2: 0.0016, Class 3: 0.3840, \n",
      "Class 4: 0.5180, Class 5: 0.4934, Class 6: 0.8743, \n",
      "Validation F-beta Score\n",
      "Class 0: 0.0000, Class 1: 0.5516, Class 2: 0.0135, Class 3: 0.3801, \n",
      "Class 4: 0.5815, Class 5: 0.4777, Class 6: 0.8849, \n",
      "Overall Mean Dice Score: 0.5710\n",
      "Overall Mean F-beta Score: 0.5752\n",
      "\n",
      "Training Loss: 0.5060, Validation Loss: 0.4397, Validation F-beta: 0.5752\n",
      "========================================================\n",
      "Best model saved based on validation loss: 0.4397\n",
      "========================================================\n",
      "Epoch 226/4000\n",
      "Current lambda: 0.3600\n"
     ]
    },
    {
     "name": "stderr",
     "output_type": "stream",
     "text": [
      "Training: 100%|██████████| 24/24 [00:36<00:00,  1.53s/it, loss=0.52] \n",
      "Validation: 100%|██████████| 4/4 [00:02<00:00,  1.46it/s, loss=0.511]\n"
     ]
    },
    {
     "name": "stdout",
     "output_type": "stream",
     "text": [
      "Validation Dice Score\n",
      "Class 0: 0.0000, Class 1: 0.7108, Class 2: 0.0005, Class 3: 0.1031, \n",
      "Class 4: 0.4418, Class 5: 0.4084, Class 6: 0.6768, \n",
      "Validation F-beta Score\n",
      "Class 0: 0.0000, Class 1: 0.7708, Class 2: 0.0038, Class 3: 0.0994, \n",
      "Class 4: 0.4072, Class 5: 0.3510, Class 6: 0.6698, \n",
      "Overall Mean Dice Score: 0.4682\n",
      "Overall Mean F-beta Score: 0.4597\n",
      "\n",
      "Training Loss: 0.5215, Validation Loss: 0.4959, Validation F-beta: 0.4597\n",
      "Epoch 227/4000\n",
      "Current lambda: 0.3600\n"
     ]
    },
    {
     "name": "stderr",
     "output_type": "stream",
     "text": [
      "Training: 100%|██████████| 24/24 [00:36<00:00,  1.53s/it, loss=0.444]\n",
      "Validation: 100%|██████████| 4/4 [00:02<00:00,  1.45it/s, loss=0.608]\n"
     ]
    },
    {
     "name": "stdout",
     "output_type": "stream",
     "text": [
      "Validation Dice Score\n",
      "Class 0: 0.0000, Class 1: 0.5809, Class 2: 0.0015, Class 3: 0.1738, \n",
      "Class 4: 0.5068, Class 5: 0.2679, Class 6: 0.6578, \n",
      "Validation F-beta Score\n",
      "Class 0: 0.0000, Class 1: 0.5396, Class 2: 0.0125, Class 3: 0.2348, \n",
      "Class 4: 0.6250, Class 5: 0.2366, Class 6: 0.6102, \n",
      "Overall Mean Dice Score: 0.4375\n",
      "Overall Mean F-beta Score: 0.4492\n",
      "\n",
      "Training Loss: 0.5250, Validation Loss: 0.5407, Validation F-beta: 0.4492\n",
      "Epoch 228/4000\n",
      "Current lambda: 0.3600\n"
     ]
    },
    {
     "name": "stderr",
     "output_type": "stream",
     "text": [
      "Training: 100%|██████████| 24/24 [00:36<00:00,  1.53s/it, loss=0.414]\n",
      "Validation: 100%|██████████| 4/4 [00:02<00:00,  1.42it/s, loss=0.348]\n"
     ]
    },
    {
     "name": "stdout",
     "output_type": "stream",
     "text": [
      "Validation Dice Score\n",
      "Class 0: 0.0000, Class 1: 0.6440, Class 2: 0.0013, Class 3: 0.1932, \n",
      "Class 4: 0.5309, Class 5: 0.3907, Class 6: 0.6496, \n",
      "Validation F-beta Score\n",
      "Class 0: 0.0000, Class 1: 0.6569, Class 2: 0.0109, Class 3: 0.1582, \n",
      "Class 4: 0.4377, Class 5: 0.3304, Class 6: 0.6412, \n",
      "Overall Mean Dice Score: 0.4817\n",
      "Overall Mean F-beta Score: 0.4449\n",
      "\n",
      "Training Loss: 0.5006, Validation Loss: 0.4812, Validation F-beta: 0.4449\n",
      "Epoch 229/4000\n",
      "Current lambda: 0.3600\n"
     ]
    },
    {
     "name": "stderr",
     "output_type": "stream",
     "text": [
      "Training: 100%|██████████| 24/24 [00:36<00:00,  1.54s/it, loss=0.47] \n",
      "Validation: 100%|██████████| 4/4 [00:02<00:00,  1.41it/s, loss=0.423]\n"
     ]
    },
    {
     "name": "stdout",
     "output_type": "stream",
     "text": [
      "Validation Dice Score\n",
      "Class 0: 0.0000, Class 1: 0.7614, Class 2: 0.0006, Class 3: 0.2103, \n",
      "Class 4: 0.4046, Class 5: 0.3203, Class 6: 0.8944, \n",
      "Validation F-beta Score\n",
      "Class 0: 0.0000, Class 1: 0.7284, Class 2: 0.0046, Class 3: 0.2210, \n",
      "Class 4: 0.3431, Class 5: 0.3366, Class 6: 0.8494, \n",
      "Overall Mean Dice Score: 0.5182\n",
      "Overall Mean F-beta Score: 0.4957\n",
      "\n",
      "Training Loss: 0.5230, Validation Loss: 0.5012, Validation F-beta: 0.4957\n",
      "Epoch 230/4000\n",
      "Current lambda: 0.3600\n"
     ]
    },
    {
     "name": "stderr",
     "output_type": "stream",
     "text": [
      "Training: 100%|██████████| 24/24 [00:36<00:00,  1.52s/it, loss=0.557]\n",
      "Validation: 100%|██████████| 4/4 [00:02<00:00,  1.43it/s, loss=0.481]\n"
     ]
    },
    {
     "name": "stdout",
     "output_type": "stream",
     "text": [
      "Validation Dice Score\n",
      "Class 0: 0.0000, Class 1: 0.5662, Class 2: 0.0002, Class 3: 0.0548, \n",
      "Class 4: 0.3835, Class 5: 0.4154, Class 6: 0.5668, \n",
      "Validation F-beta Score\n",
      "Class 0: 0.0000, Class 1: 0.6055, Class 2: 0.0019, Class 3: 0.0630, \n",
      "Class 4: 0.4867, Class 5: 0.4892, Class 6: 0.6579, \n",
      "Overall Mean Dice Score: 0.3973\n",
      "Overall Mean F-beta Score: 0.4605\n",
      "\n",
      "Training Loss: 0.5110, Validation Loss: 0.5590, Validation F-beta: 0.4605\n",
      "Epoch 231/4000\n",
      "Current lambda: 0.3600\n"
     ]
    },
    {
     "name": "stderr",
     "output_type": "stream",
     "text": [
      "Training: 100%|██████████| 24/24 [00:36<00:00,  1.53s/it, loss=0.442]\n",
      "Validation: 100%|██████████| 4/4 [00:02<00:00,  1.43it/s, loss=0.549]\n"
     ]
    },
    {
     "name": "stdout",
     "output_type": "stream",
     "text": [
      "Validation Dice Score\n",
      "Class 0: 0.0000, Class 1: 0.5485, Class 2: 0.0008, Class 3: 0.4263, \n",
      "Class 4: 0.6601, Class 5: 0.2032, Class 6: 0.4709, \n",
      "Validation F-beta Score\n",
      "Class 0: 0.0000, Class 1: 0.5439, Class 2: 0.0065, Class 3: 0.4403, \n",
      "Class 4: 0.6844, Class 5: 0.1611, Class 6: 0.4425, \n",
      "Overall Mean Dice Score: 0.4618\n",
      "Overall Mean F-beta Score: 0.4544\n",
      "\n",
      "Training Loss: 0.5141, Validation Loss: 0.5065, Validation F-beta: 0.4544\n",
      "Epoch 232/4000\n",
      "Current lambda: 0.3600\n"
     ]
    },
    {
     "name": "stderr",
     "output_type": "stream",
     "text": [
      "Training: 100%|██████████| 24/24 [00:36<00:00,  1.53s/it, loss=0.506]\n",
      "Validation: 100%|██████████| 4/4 [00:02<00:00,  1.43it/s, loss=0.504]\n"
     ]
    },
    {
     "name": "stdout",
     "output_type": "stream",
     "text": [
      "Validation Dice Score\n",
      "Class 0: 0.0000, Class 1: 0.5906, Class 2: 0.0010, Class 3: 0.3414, \n",
      "Class 4: 0.5898, Class 5: 0.2159, Class 6: 0.6301, \n",
      "Validation F-beta Score\n",
      "Class 0: 0.0000, Class 1: 0.8202, Class 2: 0.0080, Class 3: 0.3427, \n",
      "Class 4: 0.5552, Class 5: 0.1606, Class 6: 0.6309, \n",
      "Overall Mean Dice Score: 0.4735\n",
      "Overall Mean F-beta Score: 0.5019\n",
      "\n",
      "Training Loss: 0.5061, Validation Loss: 0.5051, Validation F-beta: 0.5019\n",
      "Epoch 233/4000\n",
      "Current lambda: 0.3600\n"
     ]
    },
    {
     "name": "stderr",
     "output_type": "stream",
     "text": [
      "Training: 100%|██████████| 24/24 [00:36<00:00,  1.53s/it, loss=0.64] \n",
      "Validation: 100%|██████████| 4/4 [00:02<00:00,  1.41it/s, loss=0.473]\n"
     ]
    },
    {
     "name": "stdout",
     "output_type": "stream",
     "text": [
      "Validation Dice Score\n",
      "Class 0: 0.0000, Class 1: 0.6006, Class 2: 0.0014, Class 3: 0.3240, \n",
      "Class 4: 0.5267, Class 5: 0.5044, Class 6: 0.8495, \n",
      "Validation F-beta Score\n",
      "Class 0: 0.0000, Class 1: 0.8666, Class 2: 0.0120, Class 3: 0.2952, \n",
      "Class 4: 0.4792, Class 5: 0.4643, Class 6: 0.8428, \n",
      "Overall Mean Dice Score: 0.5610\n",
      "Overall Mean F-beta Score: 0.5896\n",
      "\n",
      "Training Loss: 0.5086, Validation Loss: 0.4532, Validation F-beta: 0.5896\n",
      "Epoch 234/4000\n",
      "Current lambda: 0.3600\n"
     ]
    },
    {
     "name": "stderr",
     "output_type": "stream",
     "text": [
      "Training: 100%|██████████| 24/24 [00:36<00:00,  1.53s/it, loss=0.507]\n",
      "Validation: 100%|██████████| 4/4 [00:02<00:00,  1.42it/s, loss=0.489]\n"
     ]
    },
    {
     "name": "stdout",
     "output_type": "stream",
     "text": [
      "Validation Dice Score\n",
      "Class 0: 0.0000, Class 1: 0.4613, Class 2: 0.0014, Class 3: 0.0541, \n",
      "Class 4: 0.3056, Class 5: 0.3801, Class 6: 0.6519, \n",
      "Validation F-beta Score\n",
      "Class 0: 0.0000, Class 1: 0.5918, Class 2: 0.0120, Class 3: 0.0539, \n",
      "Class 4: 0.3029, Class 5: 0.3747, Class 6: 0.7046, \n",
      "Overall Mean Dice Score: 0.3706\n",
      "Overall Mean F-beta Score: 0.4056\n",
      "\n",
      "Training Loss: 0.4954, Validation Loss: 0.5233, Validation F-beta: 0.4056\n",
      "Validation loss did not improve. Reducing lambda to 0.3500\n",
      "Epoch 235/4000\n",
      "Current lambda: 0.3500\n"
     ]
    },
    {
     "name": "stderr",
     "output_type": "stream",
     "text": [
      "Training: 100%|██████████| 24/24 [00:37<00:00,  1.54s/it, loss=0.503]\n",
      "Validation: 100%|██████████| 4/4 [00:02<00:00,  1.36it/s, loss=0.392]\n"
     ]
    },
    {
     "name": "stdout",
     "output_type": "stream",
     "text": [
      "Validation Dice Score\n",
      "Class 0: 0.0000, Class 1: 0.7599, Class 2: 0.0017, Class 3: 0.3434, \n",
      "Class 4: 0.5105, Class 5: 0.4737, Class 6: 0.6786, \n",
      "Validation F-beta Score\n",
      "Class 0: 0.0000, Class 1: 0.7424, Class 2: 0.0138, Class 3: 0.2839, \n",
      "Class 4: 0.4964, Class 5: 0.4048, Class 6: 0.8593, \n",
      "Overall Mean Dice Score: 0.5532\n",
      "Overall Mean F-beta Score: 0.5574\n",
      "\n",
      "Training Loss: 0.5320, Validation Loss: 0.4385, Validation F-beta: 0.5574\n",
      "========================================================\n",
      "Best model saved based on validation loss: 0.4385\n",
      "========================================================\n",
      "Epoch 236/4000\n",
      "Current lambda: 0.3500\n"
     ]
    },
    {
     "name": "stderr",
     "output_type": "stream",
     "text": [
      "Training: 100%|██████████| 24/24 [00:36<00:00,  1.54s/it, loss=0.559]\n",
      "Validation: 100%|██████████| 4/4 [00:02<00:00,  1.38it/s, loss=0.409]\n"
     ]
    },
    {
     "name": "stdout",
     "output_type": "stream",
     "text": [
      "Validation Dice Score\n",
      "Class 0: 0.0000, Class 1: 0.5033, Class 2: 0.0020, Class 3: 0.1419, \n",
      "Class 4: 0.4063, Class 5: 0.3567, Class 6: 0.8496, \n",
      "Validation F-beta Score\n",
      "Class 0: 0.0000, Class 1: 0.5976, Class 2: 0.0165, Class 3: 0.1463, \n",
      "Class 4: 0.3711, Class 5: 0.3891, Class 6: 0.8637, \n",
      "Overall Mean Dice Score: 0.4515\n",
      "Overall Mean F-beta Score: 0.4736\n",
      "\n",
      "Training Loss: 0.5062, Validation Loss: 0.4947, Validation F-beta: 0.4736\n",
      "Epoch 237/4000\n",
      "Current lambda: 0.3500\n"
     ]
    },
    {
     "name": "stderr",
     "output_type": "stream",
     "text": [
      "Training: 100%|██████████| 24/24 [00:36<00:00,  1.54s/it, loss=0.606]\n",
      "Validation: 100%|██████████| 4/4 [00:02<00:00,  1.38it/s, loss=0.528]\n"
     ]
    },
    {
     "name": "stdout",
     "output_type": "stream",
     "text": [
      "Validation Dice Score\n",
      "Class 0: 0.0000, Class 1: 0.4439, Class 2: 0.0007, Class 3: 0.1329, \n",
      "Class 4: 0.6804, Class 5: 0.4287, Class 6: 0.4374, \n",
      "Validation F-beta Score\n",
      "Class 0: 0.0000, Class 1: 0.7061, Class 2: 0.0057, Class 3: 0.1955, \n",
      "Class 4: 0.6857, Class 5: 0.5001, Class 6: 0.6758, \n",
      "Overall Mean Dice Score: 0.4246\n",
      "Overall Mean F-beta Score: 0.5526\n",
      "\n",
      "Training Loss: 0.4981, Validation Loss: 0.5525, Validation F-beta: 0.5526\n",
      "Epoch 238/4000\n",
      "Current lambda: 0.3500\n"
     ]
    },
    {
     "name": "stderr",
     "output_type": "stream",
     "text": [
      "Training: 100%|██████████| 24/24 [00:36<00:00,  1.53s/it, loss=0.596]\n",
      "Validation: 100%|██████████| 4/4 [00:02<00:00,  1.41it/s, loss=0.602]\n"
     ]
    },
    {
     "name": "stdout",
     "output_type": "stream",
     "text": [
      "Validation Dice Score\n",
      "Class 0: 0.0000, Class 1: 0.3979, Class 2: 0.0013, Class 3: 0.4462, \n",
      "Class 4: 0.4812, Class 5: 0.2513, Class 6: 0.5969, \n",
      "Validation F-beta Score\n",
      "Class 0: 0.0000, Class 1: 0.4297, Class 2: 0.0109, Class 3: 0.5015, \n",
      "Class 4: 0.4891, Class 5: 0.1941, Class 6: 0.6160, \n",
      "Overall Mean Dice Score: 0.4347\n",
      "Overall Mean F-beta Score: 0.4461\n",
      "\n",
      "Training Loss: 0.5357, Validation Loss: 0.5321, Validation F-beta: 0.4461\n",
      "Epoch 239/4000\n",
      "Current lambda: 0.3500\n"
     ]
    },
    {
     "name": "stderr",
     "output_type": "stream",
     "text": [
      "Training: 100%|██████████| 24/24 [00:37<00:00,  1.55s/it, loss=0.554]\n",
      "Validation: 100%|██████████| 4/4 [00:02<00:00,  1.41it/s, loss=0.424]\n"
     ]
    },
    {
     "name": "stdout",
     "output_type": "stream",
     "text": [
      "Validation Dice Score\n",
      "Class 0: 0.0000, Class 1: 0.5539, Class 2: 0.0012, Class 3: 0.4760, \n",
      "Class 4: 0.6357, Class 5: 0.3861, Class 6: 0.4477, \n",
      "Validation F-beta Score\n",
      "Class 0: 0.0000, Class 1: 0.5641, Class 2: 0.0098, Class 3: 0.4577, \n",
      "Class 4: 0.7251, Class 5: 0.3502, Class 6: 0.4376, \n",
      "Overall Mean Dice Score: 0.4999\n",
      "Overall Mean F-beta Score: 0.5070\n",
      "\n",
      "Training Loss: 0.5089, Validation Loss: 0.4840, Validation F-beta: 0.5070\n",
      "Epoch 240/4000\n",
      "Current lambda: 0.3500\n"
     ]
    },
    {
     "name": "stderr",
     "output_type": "stream",
     "text": [
      "Training: 100%|██████████| 24/24 [00:36<00:00,  1.54s/it, loss=0.437]\n",
      "Validation: 100%|██████████| 4/4 [00:02<00:00,  1.44it/s, loss=0.482]\n"
     ]
    },
    {
     "name": "stdout",
     "output_type": "stream",
     "text": [
      "Validation Dice Score\n",
      "Class 0: 0.0000, Class 1: 0.7578, Class 2: 0.0017, Class 3: 0.3663, \n",
      "Class 4: 0.5833, Class 5: 0.3432, Class 6: 0.8659, \n",
      "Validation F-beta Score\n",
      "Class 0: 0.0000, Class 1: 0.7413, Class 2: 0.0141, Class 3: 0.4300, \n",
      "Class 4: 0.5623, Class 5: 0.3072, Class 6: 0.9211, \n",
      "Overall Mean Dice Score: 0.5833\n",
      "Overall Mean F-beta Score: 0.5924\n",
      "\n",
      "Training Loss: 0.5150, Validation Loss: 0.4378, Validation F-beta: 0.5924\n",
      "========================================================\n",
      "Best model saved based on validation loss: 0.4378\n",
      "========================================================\n",
      "Epoch 241/4000\n",
      "Current lambda: 0.3500\n"
     ]
    },
    {
     "name": "stderr",
     "output_type": "stream",
     "text": [
      "Training: 100%|██████████| 24/24 [00:36<00:00,  1.54s/it, loss=0.547]\n",
      "Validation: 100%|██████████| 4/4 [00:02<00:00,  1.44it/s, loss=0.53] \n"
     ]
    },
    {
     "name": "stdout",
     "output_type": "stream",
     "text": [
      "Validation Dice Score\n",
      "Class 0: 0.0000, Class 1: 0.3486, Class 2: 0.0012, Class 3: 0.5104, \n",
      "Class 4: 0.5733, Class 5: 0.2909, Class 6: 0.7592, \n",
      "Validation F-beta Score\n",
      "Class 0: 0.0000, Class 1: 0.3332, Class 2: 0.0099, Class 3: 0.5945, \n",
      "Class 4: 0.4601, Class 5: 0.2188, Class 6: 0.8388, \n",
      "Overall Mean Dice Score: 0.4965\n",
      "Overall Mean F-beta Score: 0.4891\n",
      "\n",
      "Training Loss: 0.5034, Validation Loss: 0.4671, Validation F-beta: 0.4891\n",
      "Epoch 242/4000\n",
      "Current lambda: 0.3500\n"
     ]
    },
    {
     "name": "stderr",
     "output_type": "stream",
     "text": [
      "Training: 100%|██████████| 24/24 [00:37<00:00,  1.54s/it, loss=0.538]\n",
      "Validation: 100%|██████████| 4/4 [00:02<00:00,  1.42it/s, loss=0.444]\n"
     ]
    },
    {
     "name": "stdout",
     "output_type": "stream",
     "text": [
      "Validation Dice Score\n",
      "Class 0: 0.0000, Class 1: 0.4207, Class 2: 0.0002, Class 3: 0.4033, \n",
      "Class 4: 0.6731, Class 5: 0.5531, Class 6: 0.5550, \n",
      "Validation F-beta Score\n",
      "Class 0: 0.0000, Class 1: 0.4655, Class 2: 0.0017, Class 3: 0.3997, \n",
      "Class 4: 0.5532, Class 5: 0.4921, Class 6: 0.5109, \n",
      "Overall Mean Dice Score: 0.5211\n",
      "Overall Mean F-beta Score: 0.4843\n",
      "\n",
      "Training Loss: 0.5077, Validation Loss: 0.4673, Validation F-beta: 0.4843\n",
      "Epoch 243/4000\n",
      "Current lambda: 0.3500\n"
     ]
    },
    {
     "name": "stderr",
     "output_type": "stream",
     "text": [
      "Training: 100%|██████████| 24/24 [00:36<00:00,  1.54s/it, loss=0.538]\n",
      "Validation: 100%|██████████| 4/4 [00:02<00:00,  1.43it/s, loss=0.422]\n"
     ]
    },
    {
     "name": "stdout",
     "output_type": "stream",
     "text": [
      "Validation Dice Score\n",
      "Class 0: 0.0000, Class 1: 0.7096, Class 2: 0.0002, Class 3: 0.2835, \n",
      "Class 4: 0.4647, Class 5: 0.4147, Class 6: 0.3881, \n",
      "Validation F-beta Score\n",
      "Class 0: 0.0000, Class 1: 0.8158, Class 2: 0.0020, Class 3: 0.2567, \n",
      "Class 4: 0.5029, Class 5: 0.4119, Class 6: 0.4373, \n",
      "Overall Mean Dice Score: 0.4521\n",
      "Overall Mean F-beta Score: 0.4849\n",
      "\n",
      "Training Loss: 0.5282, Validation Loss: 0.4762, Validation F-beta: 0.4849\n",
      "Epoch 244/4000\n",
      "Current lambda: 0.3500\n"
     ]
    },
    {
     "name": "stderr",
     "output_type": "stream",
     "text": [
      "Training: 100%|██████████| 24/24 [00:36<00:00,  1.54s/it, loss=0.573]\n",
      "Validation: 100%|██████████| 4/4 [00:02<00:00,  1.37it/s, loss=0.488]\n"
     ]
    },
    {
     "name": "stdout",
     "output_type": "stream",
     "text": [
      "Validation Dice Score\n",
      "Class 0: 0.0000, Class 1: 0.5579, Class 2: 0.0016, Class 3: 0.1725, \n",
      "Class 4: 0.4233, Class 5: 0.3525, Class 6: 0.2267, \n",
      "Validation F-beta Score\n",
      "Class 0: 0.0000, Class 1: 0.5938, Class 2: 0.0137, Class 3: 0.2473, \n",
      "Class 4: 0.3822, Class 5: 0.3615, Class 6: 0.2173, \n",
      "Overall Mean Dice Score: 0.3466\n",
      "Overall Mean F-beta Score: 0.3604\n",
      "\n",
      "Training Loss: 0.5125, Validation Loss: 0.5472, Validation F-beta: 0.3604\n",
      "Epoch 245/4000\n",
      "Current lambda: 0.3500\n"
     ]
    },
    {
     "name": "stderr",
     "output_type": "stream",
     "text": [
      "Training: 100%|██████████| 24/24 [00:36<00:00,  1.53s/it, loss=0.581]\n",
      "Validation: 100%|██████████| 4/4 [00:02<00:00,  1.40it/s, loss=0.577]\n"
     ]
    },
    {
     "name": "stdout",
     "output_type": "stream",
     "text": [
      "Validation Dice Score\n",
      "Class 0: 0.0000, Class 1: 0.4220, Class 2: 0.0017, Class 3: 0.4321, \n",
      "Class 4: 0.5424, Class 5: 0.3971, Class 6: 0.5538, \n",
      "Validation F-beta Score\n",
      "Class 0: 0.0000, Class 1: 0.3672, Class 2: 0.0146, Class 3: 0.4130, \n",
      "Class 4: 0.5699, Class 5: 0.4147, Class 6: 0.6557, \n",
      "Overall Mean Dice Score: 0.4695\n",
      "Overall Mean F-beta Score: 0.4841\n",
      "\n",
      "Training Loss: 0.5214, Validation Loss: 0.4956, Validation F-beta: 0.4841\n",
      "Epoch 246/4000\n",
      "Current lambda: 0.3500\n"
     ]
    },
    {
     "name": "stderr",
     "output_type": "stream",
     "text": [
      "Training: 100%|██████████| 24/24 [00:36<00:00,  1.52s/it, loss=0.411]\n",
      "Validation: 100%|██████████| 4/4 [00:02<00:00,  1.42it/s, loss=0.49] \n"
     ]
    },
    {
     "name": "stdout",
     "output_type": "stream",
     "text": [
      "Validation Dice Score\n",
      "Class 0: 0.0000, Class 1: 0.4198, Class 2: 0.0024, Class 3: 0.4816, \n",
      "Class 4: 0.3430, Class 5: 0.3646, Class 6: 0.4768, \n",
      "Validation F-beta Score\n",
      "Class 0: 0.0000, Class 1: 0.5606, Class 2: 0.0202, Class 3: 0.4821, \n",
      "Class 4: 0.3512, Class 5: 0.3559, Class 6: 0.5557, \n",
      "Overall Mean Dice Score: 0.4172\n",
      "Overall Mean F-beta Score: 0.4611\n",
      "\n",
      "Training Loss: 0.5150, Validation Loss: 0.4967, Validation F-beta: 0.4611\n",
      "Epoch 247/4000\n",
      "Current lambda: 0.3500\n"
     ]
    },
    {
     "name": "stderr",
     "output_type": "stream",
     "text": [
      "Training: 100%|██████████| 24/24 [00:36<00:00,  1.54s/it, loss=0.469]\n",
      "Validation: 100%|██████████| 4/4 [00:02<00:00,  1.42it/s, loss=0.425]\n"
     ]
    },
    {
     "name": "stdout",
     "output_type": "stream",
     "text": [
      "Validation Dice Score\n",
      "Class 0: 0.0000, Class 1: 0.6550, Class 2: 0.0016, Class 3: 0.1673, \n",
      "Class 4: 0.4895, Class 5: 0.4288, Class 6: 0.8899, \n",
      "Validation F-beta Score\n",
      "Class 0: 0.0000, Class 1: 0.5543, Class 2: 0.0131, Class 3: 0.2392, \n",
      "Class 4: 0.4090, Class 5: 0.3680, Class 6: 0.8536, \n",
      "Overall Mean Dice Score: 0.5261\n",
      "Overall Mean F-beta Score: 0.4848\n",
      "\n",
      "Training Loss: 0.5188, Validation Loss: 0.4745, Validation F-beta: 0.4848\n",
      "Epoch 248/4000\n",
      "Current lambda: 0.3500\n"
     ]
    },
    {
     "name": "stderr",
     "output_type": "stream",
     "text": [
      "Training: 100%|██████████| 24/24 [00:36<00:00,  1.53s/it, loss=0.463]\n",
      "Validation: 100%|██████████| 4/4 [00:02<00:00,  1.45it/s, loss=0.494]\n"
     ]
    },
    {
     "name": "stdout",
     "output_type": "stream",
     "text": [
      "Validation Dice Score\n",
      "Class 0: 0.0000, Class 1: 0.7253, Class 2: 0.0018, Class 3: 0.1539, \n",
      "Class 4: 0.1863, Class 5: 0.3209, Class 6: 0.6884, \n",
      "Validation F-beta Score\n",
      "Class 0: 0.0000, Class 1: 0.7824, Class 2: 0.0152, Class 3: 0.1477, \n",
      "Class 4: 0.2171, Class 5: 0.3503, Class 6: 0.7230, \n",
      "Overall Mean Dice Score: 0.4150\n",
      "Overall Mean F-beta Score: 0.4441\n",
      "\n",
      "Training Loss: 0.5086, Validation Loss: 0.5012, Validation F-beta: 0.4441\n",
      "Epoch 249/4000\n",
      "Current lambda: 0.3500\n"
     ]
    },
    {
     "name": "stderr",
     "output_type": "stream",
     "text": [
      "Training: 100%|██████████| 24/24 [00:36<00:00,  1.53s/it, loss=0.468]\n",
      "Validation: 100%|██████████| 4/4 [00:02<00:00,  1.45it/s, loss=0.37] \n"
     ]
    },
    {
     "name": "stdout",
     "output_type": "stream",
     "text": [
      "Validation Dice Score\n",
      "Class 0: 0.0000, Class 1: 0.8672, Class 2: 0.0008, Class 3: 0.1202, \n",
      "Class 4: 0.5459, Class 5: 0.4541, Class 6: 0.4265, \n",
      "Validation F-beta Score\n",
      "Class 0: 0.0000, Class 1: 0.8808, Class 2: 0.0066, Class 3: 0.1271, \n",
      "Class 4: 0.4285, Class 5: 0.5212, Class 6: 0.4623, \n",
      "Overall Mean Dice Score: 0.4828\n",
      "Overall Mean F-beta Score: 0.4840\n",
      "\n",
      "Training Loss: 0.5030, Validation Loss: 0.4980, Validation F-beta: 0.4840\n",
      "Validation loss did not improve. Reducing lambda to 0.3400\n",
      "Epoch 250/4000\n",
      "Current lambda: 0.3400\n"
     ]
    },
    {
     "name": "stderr",
     "output_type": "stream",
     "text": [
      "Training: 100%|██████████| 24/24 [00:36<00:00,  1.54s/it, loss=0.638]\n",
      "Validation: 100%|██████████| 4/4 [00:03<00:00,  1.20it/s, loss=0.524]\n"
     ]
    },
    {
     "name": "stdout",
     "output_type": "stream",
     "text": [
      "Validation Dice Score\n",
      "Class 0: 0.0000, Class 1: 0.6936, Class 2: 0.0011, Class 3: 0.1847, \n",
      "Class 4: 0.6741, Class 5: 0.4033, Class 6: 0.6841, \n",
      "Validation F-beta Score\n",
      "Class 0: 0.0000, Class 1: 0.7655, Class 2: 0.0094, Class 3: 0.1886, \n",
      "Class 4: 0.7264, Class 5: 0.3916, Class 6: 0.7217, \n",
      "Overall Mean Dice Score: 0.5280\n",
      "Overall Mean F-beta Score: 0.5587\n",
      "\n",
      "Training Loss: 0.4879, Validation Loss: 0.4950, Validation F-beta: 0.5587\n",
      "Epoch 251/4000\n",
      "Current lambda: 0.3400\n"
     ]
    },
    {
     "name": "stderr",
     "output_type": "stream",
     "text": [
      "Training: 100%|██████████| 24/24 [00:36<00:00,  1.54s/it, loss=0.382]\n",
      "Validation: 100%|██████████| 4/4 [00:02<00:00,  1.41it/s, loss=0.56] \n"
     ]
    },
    {
     "name": "stdout",
     "output_type": "stream",
     "text": [
      "Validation Dice Score\n",
      "Class 0: 0.0000, Class 1: 0.3505, Class 2: 0.0013, Class 3: 0.3743, \n",
      "Class 4: 0.5936, Class 5: 0.3615, Class 6: 0.3872, \n",
      "Validation F-beta Score\n",
      "Class 0: 0.0000, Class 1: 0.4338, Class 2: 0.0107, Class 3: 0.3239, \n",
      "Class 4: 0.6404, Class 5: 0.3343, Class 6: 0.4561, \n",
      "Overall Mean Dice Score: 0.4134\n",
      "Overall Mean F-beta Score: 0.4377\n",
      "\n",
      "Training Loss: 0.5029, Validation Loss: 0.5251, Validation F-beta: 0.4377\n",
      "Epoch 252/4000\n",
      "Current lambda: 0.3400\n"
     ]
    },
    {
     "name": "stderr",
     "output_type": "stream",
     "text": [
      "Training: 100%|██████████| 24/24 [00:36<00:00,  1.54s/it, loss=0.468]\n",
      "Validation: 100%|██████████| 4/4 [00:02<00:00,  1.44it/s, loss=0.443]\n"
     ]
    },
    {
     "name": "stdout",
     "output_type": "stream",
     "text": [
      "Validation Dice Score\n",
      "Class 0: 0.0000, Class 1: 0.5431, Class 2: 0.0019, Class 3: 0.3052, \n",
      "Class 4: 0.4960, Class 5: 0.5145, Class 6: 0.4952, \n",
      "Validation F-beta Score\n",
      "Class 0: 0.0000, Class 1: 0.5067, Class 2: 0.0157, Class 3: 0.3162, \n",
      "Class 4: 0.4603, Class 5: 0.5841, Class 6: 0.4884, \n",
      "Overall Mean Dice Score: 0.4708\n",
      "Overall Mean F-beta Score: 0.4711\n",
      "\n",
      "Training Loss: 0.5156, Validation Loss: 0.4773, Validation F-beta: 0.4711\n",
      "Epoch 253/4000\n",
      "Current lambda: 0.3400\n"
     ]
    },
    {
     "name": "stderr",
     "output_type": "stream",
     "text": [
      "Training: 100%|██████████| 24/24 [00:36<00:00,  1.52s/it, loss=0.512]\n",
      "Validation: 100%|██████████| 4/4 [00:02<00:00,  1.43it/s, loss=0.493]\n"
     ]
    },
    {
     "name": "stdout",
     "output_type": "stream",
     "text": [
      "Validation Dice Score\n",
      "Class 0: 0.0000, Class 1: 0.5622, Class 2: 0.0007, Class 3: 0.2911, \n",
      "Class 4: 0.5588, Class 5: 0.2986, Class 6: 0.8796, \n",
      "Validation F-beta Score\n",
      "Class 0: 0.0000, Class 1: 0.6240, Class 2: 0.0062, Class 3: 0.3443, \n",
      "Class 4: 0.5992, Class 5: 0.2555, Class 6: 0.9301, \n",
      "Overall Mean Dice Score: 0.5181\n",
      "Overall Mean F-beta Score: 0.5506\n",
      "\n",
      "Training Loss: 0.5168, Validation Loss: 0.5040, Validation F-beta: 0.5506\n",
      "Epoch 254/4000\n",
      "Current lambda: 0.3400\n"
     ]
    },
    {
     "name": "stderr",
     "output_type": "stream",
     "text": [
      "Training: 100%|██████████| 24/24 [00:36<00:00,  1.53s/it, loss=0.5]  \n",
      "Validation: 100%|██████████| 4/4 [00:02<00:00,  1.45it/s, loss=0.505]\n"
     ]
    },
    {
     "name": "stdout",
     "output_type": "stream",
     "text": [
      "Validation Dice Score\n",
      "Class 0: 0.0000, Class 1: 0.7578, Class 2: 0.0016, Class 3: 0.1812, \n",
      "Class 4: 0.5392, Class 5: 0.2434, Class 6: 0.4453, \n",
      "Validation F-beta Score\n",
      "Class 0: 0.0000, Class 1: 0.8102, Class 2: 0.0133, Class 3: 0.1769, \n",
      "Class 4: 0.5283, Class 5: 0.2290, Class 6: 0.5746, \n",
      "Overall Mean Dice Score: 0.4334\n",
      "Overall Mean F-beta Score: 0.4638\n",
      "\n",
      "Training Loss: 0.5006, Validation Loss: 0.5198, Validation F-beta: 0.4638\n",
      "Epoch 255/4000\n",
      "Current lambda: 0.3400\n"
     ]
    },
    {
     "name": "stderr",
     "output_type": "stream",
     "text": [
      "Training: 100%|██████████| 24/24 [00:36<00:00,  1.52s/it, loss=0.578]\n",
      "Validation: 100%|██████████| 4/4 [00:02<00:00,  1.44it/s, loss=0.499]\n"
     ]
    },
    {
     "name": "stdout",
     "output_type": "stream",
     "text": [
      "Validation Dice Score\n",
      "Class 0: 0.0000, Class 1: 0.3831, Class 2: 0.0012, Class 3: 0.1561, \n",
      "Class 4: 0.4788, Class 5: 0.3325, Class 6: 0.7581, \n",
      "Validation F-beta Score\n",
      "Class 0: 0.0000, Class 1: 0.4512, Class 2: 0.0098, Class 3: 0.1578, \n",
      "Class 4: 0.4280, Class 5: 0.3383, Class 6: 0.7344, \n",
      "Overall Mean Dice Score: 0.4217\n",
      "Overall Mean F-beta Score: 0.4219\n",
      "\n",
      "Training Loss: 0.4867, Validation Loss: 0.5327, Validation F-beta: 0.4219\n",
      "Epoch 256/4000\n",
      "Current lambda: 0.3400\n"
     ]
    },
    {
     "name": "stderr",
     "output_type": "stream",
     "text": [
      "Training: 100%|██████████| 24/24 [00:36<00:00,  1.53s/it, loss=0.546]\n",
      "Validation: 100%|██████████| 4/4 [00:02<00:00,  1.40it/s, loss=0.539]\n"
     ]
    },
    {
     "name": "stdout",
     "output_type": "stream",
     "text": [
      "Validation Dice Score\n",
      "Class 0: 0.0000, Class 1: 0.5757, Class 2: 0.0010, Class 3: 0.4002, \n",
      "Class 4: 0.5689, Class 5: 0.2785, Class 6: 0.4809, \n",
      "Validation F-beta Score\n",
      "Class 0: 0.0000, Class 1: 0.6273, Class 2: 0.0080, Class 3: 0.3674, \n",
      "Class 4: 0.6587, Class 5: 0.2679, Class 6: 0.6510, \n",
      "Overall Mean Dice Score: 0.4608\n",
      "Overall Mean F-beta Score: 0.5145\n",
      "\n",
      "Training Loss: 0.5205, Validation Loss: 0.5137, Validation F-beta: 0.5145\n",
      "Epoch 257/4000\n",
      "Current lambda: 0.3400\n"
     ]
    },
    {
     "name": "stderr",
     "output_type": "stream",
     "text": [
      "Training: 100%|██████████| 24/24 [00:36<00:00,  1.54s/it, loss=0.503]\n",
      "Validation: 100%|██████████| 4/4 [00:02<00:00,  1.41it/s, loss=0.508]\n"
     ]
    },
    {
     "name": "stdout",
     "output_type": "stream",
     "text": [
      "Validation Dice Score\n",
      "Class 0: 0.0000, Class 1: 0.7811, Class 2: 0.0007, Class 3: 0.3278, \n",
      "Class 4: 0.5432, Class 5: 0.3958, Class 6: 0.6321, \n",
      "Validation F-beta Score\n",
      "Class 0: 0.0000, Class 1: 0.7021, Class 2: 0.0059, Class 3: 0.4680, \n",
      "Class 4: 0.5387, Class 5: 0.4137, Class 6: 0.6028, \n",
      "Overall Mean Dice Score: 0.5360\n",
      "Overall Mean F-beta Score: 0.5451\n",
      "\n",
      "Training Loss: 0.4997, Validation Loss: 0.4597, Validation F-beta: 0.5451\n",
      "Epoch 258/4000\n",
      "Current lambda: 0.3400\n"
     ]
    },
    {
     "name": "stderr",
     "output_type": "stream",
     "text": [
      "Training: 100%|██████████| 24/24 [00:36<00:00,  1.53s/it, loss=0.546]\n",
      "Validation: 100%|██████████| 4/4 [00:02<00:00,  1.42it/s, loss=0.508]\n"
     ]
    },
    {
     "name": "stdout",
     "output_type": "stream",
     "text": [
      "Validation Dice Score\n",
      "Class 0: 0.0000, Class 1: 0.7199, Class 2: 0.0012, Class 3: 0.4839, \n",
      "Class 4: 0.4984, Class 5: 0.2923, Class 6: 0.6165, \n",
      "Validation F-beta Score\n",
      "Class 0: 0.0000, Class 1: 0.7248, Class 2: 0.0100, Class 3: 0.4469, \n",
      "Class 4: 0.4159, Class 5: 0.4499, Class 6: 0.6334, \n",
      "Overall Mean Dice Score: 0.5222\n",
      "Overall Mean F-beta Score: 0.5342\n",
      "\n",
      "Training Loss: 0.5249, Validation Loss: 0.4953, Validation F-beta: 0.5342\n",
      "Epoch 259/4000\n",
      "Current lambda: 0.3400\n"
     ]
    },
    {
     "name": "stderr",
     "output_type": "stream",
     "text": [
      "Training: 100%|██████████| 24/24 [00:36<00:00,  1.54s/it, loss=0.456]\n",
      "Validation: 100%|██████████| 4/4 [00:02<00:00,  1.44it/s, loss=0.506]\n"
     ]
    },
    {
     "name": "stdout",
     "output_type": "stream",
     "text": [
      "Validation Dice Score\n",
      "Class 0: 0.0000, Class 1: 0.3879, Class 2: 0.0006, Class 3: 0.4062, \n",
      "Class 4: 0.3779, Class 5: 0.2110, Class 6: 0.2246, \n",
      "Validation F-beta Score\n",
      "Class 0: 0.0000, Class 1: 0.3808, Class 2: 0.0054, Class 3: 0.4103, \n",
      "Class 4: 0.3166, Class 5: 0.1663, Class 6: 0.2631, \n",
      "Overall Mean Dice Score: 0.3215\n",
      "Overall Mean F-beta Score: 0.3074\n",
      "\n",
      "Training Loss: 0.4953, Validation Loss: 0.5626, Validation F-beta: 0.3074\n",
      "Validation loss did not improve. Reducing lambda to 0.3300\n",
      "Epoch 260/4000\n",
      "Current lambda: 0.3300\n"
     ]
    },
    {
     "name": "stderr",
     "output_type": "stream",
     "text": [
      "Training: 100%|██████████| 24/24 [00:36<00:00,  1.53s/it, loss=0.517]\n",
      "Validation: 100%|██████████| 4/4 [00:02<00:00,  1.43it/s, loss=0.593]\n"
     ]
    },
    {
     "name": "stdout",
     "output_type": "stream",
     "text": [
      "Validation Dice Score\n",
      "Class 0: 0.0000, Class 1: 0.2071, Class 2: 0.0017, Class 3: 0.3069, \n",
      "Class 4: 0.4719, Class 5: 0.5553, Class 6: 0.4405, \n",
      "Validation F-beta Score\n",
      "Class 0: 0.0000, Class 1: 0.2308, Class 2: 0.0144, Class 3: 0.2796, \n",
      "Class 4: 0.5227, Class 5: 0.6599, Class 6: 0.6555, \n",
      "Overall Mean Dice Score: 0.3964\n",
      "Overall Mean F-beta Score: 0.4697\n",
      "\n",
      "Training Loss: 0.5071, Validation Loss: 0.5271, Validation F-beta: 0.4697\n",
      "Epoch 261/4000\n",
      "Current lambda: 0.3300\n"
     ]
    },
    {
     "name": "stderr",
     "output_type": "stream",
     "text": [
      "Training: 100%|██████████| 24/24 [00:36<00:00,  1.53s/it, loss=0.561]\n",
      "Validation: 100%|██████████| 4/4 [00:02<00:00,  1.41it/s, loss=0.57] \n"
     ]
    },
    {
     "name": "stdout",
     "output_type": "stream",
     "text": [
      "Validation Dice Score\n",
      "Class 0: 0.0000, Class 1: 0.8156, Class 2: 0.0021, Class 3: 0.1062, \n",
      "Class 4: 0.3061, Class 5: 0.3159, Class 6: 0.6681, \n",
      "Validation F-beta Score\n",
      "Class 0: 0.0000, Class 1: 0.7457, Class 2: 0.0171, Class 3: 0.1275, \n",
      "Class 4: 0.4613, Class 5: 0.2522, Class 6: 0.6663, \n",
      "Overall Mean Dice Score: 0.4424\n",
      "Overall Mean F-beta Score: 0.4506\n",
      "\n",
      "Training Loss: 0.5114, Validation Loss: 0.5114, Validation F-beta: 0.4506\n",
      "Epoch 262/4000\n",
      "Current lambda: 0.3300\n"
     ]
    },
    {
     "name": "stderr",
     "output_type": "stream",
     "text": [
      "Training: 100%|██████████| 24/24 [00:40<00:00,  1.70s/it, loss=0.468]\n",
      "Validation: 100%|██████████| 4/4 [00:02<00:00,  1.36it/s, loss=0.452]\n"
     ]
    },
    {
     "name": "stdout",
     "output_type": "stream",
     "text": [
      "Validation Dice Score\n",
      "Class 0: 0.0000, Class 1: 0.4816, Class 2: 0.0018, Class 3: 0.4222, \n",
      "Class 4: 0.4997, Class 5: 0.3461, Class 6: 0.5999, \n",
      "Validation F-beta Score\n",
      "Class 0: 0.0000, Class 1: 0.6305, Class 2: 0.0149, Class 3: 0.4590, \n",
      "Class 4: 0.4636, Class 5: 0.3467, Class 6: 0.7225, \n",
      "Overall Mean Dice Score: 0.4699\n",
      "Overall Mean F-beta Score: 0.5245\n",
      "\n",
      "Training Loss: 0.5062, Validation Loss: 0.4884, Validation F-beta: 0.5245\n",
      "Epoch 263/4000\n",
      "Current lambda: 0.3300\n"
     ]
    },
    {
     "name": "stderr",
     "output_type": "stream",
     "text": [
      "Training: 100%|██████████| 24/24 [00:36<00:00,  1.54s/it, loss=0.575]\n",
      "Validation: 100%|██████████| 4/4 [00:02<00:00,  1.43it/s, loss=0.535]\n"
     ]
    },
    {
     "name": "stdout",
     "output_type": "stream",
     "text": [
      "Validation Dice Score\n",
      "Class 0: 0.0000, Class 1: 0.6786, Class 2: 0.0010, Class 3: 0.5426, \n",
      "Class 4: 0.5545, Class 5: 0.4085, Class 6: 0.6376, \n",
      "Validation F-beta Score\n",
      "Class 0: 0.0000, Class 1: 0.6860, Class 2: 0.0083, Class 3: 0.4752, \n",
      "Class 4: 0.5160, Class 5: 0.4048, Class 6: 0.6236, \n",
      "Overall Mean Dice Score: 0.5644\n",
      "Overall Mean F-beta Score: 0.5411\n",
      "\n",
      "Training Loss: 0.5235, Validation Loss: 0.4354, Validation F-beta: 0.5411\n",
      "========================================================\n",
      "Best model saved based on validation loss: 0.4354\n",
      "========================================================\n",
      "Epoch 264/4000\n",
      "Current lambda: 0.3300\n"
     ]
    },
    {
     "name": "stderr",
     "output_type": "stream",
     "text": [
      "Training: 100%|██████████| 24/24 [00:36<00:00,  1.53s/it, loss=0.461]\n",
      "Validation: 100%|██████████| 4/4 [00:02<00:00,  1.38it/s, loss=0.438]\n"
     ]
    },
    {
     "name": "stdout",
     "output_type": "stream",
     "text": [
      "Validation Dice Score\n",
      "Class 0: 0.0000, Class 1: 0.6206, Class 2: 0.0011, Class 3: 0.1999, \n",
      "Class 4: 0.5954, Class 5: 0.4850, Class 6: 0.2230, \n",
      "Validation F-beta Score\n",
      "Class 0: 0.0000, Class 1: 0.6466, Class 2: 0.0092, Class 3: 0.1771, \n",
      "Class 4: 0.5161, Class 5: 0.4368, Class 6: 0.4571, \n",
      "Overall Mean Dice Score: 0.4248\n",
      "Overall Mean F-beta Score: 0.4467\n",
      "\n",
      "Training Loss: 0.5075, Validation Loss: 0.5153, Validation F-beta: 0.4467\n",
      "Epoch 265/4000\n",
      "Current lambda: 0.3300\n"
     ]
    },
    {
     "name": "stderr",
     "output_type": "stream",
     "text": [
      "Training: 100%|██████████| 24/24 [00:37<00:00,  1.55s/it, loss=0.416]\n",
      "Validation: 100%|██████████| 4/4 [00:02<00:00,  1.43it/s, loss=0.644]\n"
     ]
    },
    {
     "name": "stdout",
     "output_type": "stream",
     "text": [
      "Validation Dice Score\n",
      "Class 0: 0.0000, Class 1: 0.6290, Class 2: 0.0017, Class 3: 0.3131, \n",
      "Class 4: 0.3499, Class 5: 0.3076, Class 6: 0.4687, \n",
      "Validation F-beta Score\n",
      "Class 0: 0.0000, Class 1: 0.5931, Class 2: 0.0141, Class 3: 0.3754, \n",
      "Class 4: 0.3726, Class 5: 0.3494, Class 6: 0.7215, \n",
      "Overall Mean Dice Score: 0.4137\n",
      "Overall Mean F-beta Score: 0.4824\n",
      "\n",
      "Training Loss: 0.5195, Validation Loss: 0.5288, Validation F-beta: 0.4824\n",
      "Epoch 266/4000\n",
      "Current lambda: 0.3300\n"
     ]
    },
    {
     "name": "stderr",
     "output_type": "stream",
     "text": [
      "Training: 100%|██████████| 24/24 [00:37<00:00,  1.55s/it, loss=0.629]\n",
      "Validation: 100%|██████████| 4/4 [00:02<00:00,  1.40it/s, loss=0.537]\n"
     ]
    },
    {
     "name": "stdout",
     "output_type": "stream",
     "text": [
      "Validation Dice Score\n",
      "Class 0: 0.0000, Class 1: 0.4185, Class 2: 0.0007, Class 3: 0.1165, \n",
      "Class 4: 0.4251, Class 5: 0.3716, Class 6: 0.9020, \n",
      "Validation F-beta Score\n",
      "Class 0: 0.0000, Class 1: 0.4374, Class 2: 0.0060, Class 3: 0.0880, \n",
      "Class 4: 0.3626, Class 5: 0.3742, Class 6: 0.8986, \n",
      "Overall Mean Dice Score: 0.4467\n",
      "Overall Mean F-beta Score: 0.4321\n",
      "\n",
      "Training Loss: 0.5009, Validation Loss: 0.4978, Validation F-beta: 0.4321\n",
      "Epoch 267/4000\n",
      "Current lambda: 0.3300\n"
     ]
    },
    {
     "name": "stderr",
     "output_type": "stream",
     "text": [
      "Training: 100%|██████████| 24/24 [00:36<00:00,  1.54s/it, loss=0.479]\n",
      "Validation: 100%|██████████| 4/4 [00:02<00:00,  1.42it/s, loss=0.519]\n"
     ]
    },
    {
     "name": "stdout",
     "output_type": "stream",
     "text": [
      "Validation Dice Score\n",
      "Class 0: 0.0000, Class 1: 0.6476, Class 2: 0.0016, Class 3: 0.0537, \n",
      "Class 4: 0.4689, Class 5: 0.4441, Class 6: 0.9219, \n",
      "Validation F-beta Score\n",
      "Class 0: 0.0000, Class 1: 0.6965, Class 2: 0.0131, Class 3: 0.0511, \n",
      "Class 4: 0.5073, Class 5: 0.5340, Class 6: 0.9401, \n",
      "Overall Mean Dice Score: 0.5072\n",
      "Overall Mean F-beta Score: 0.5458\n",
      "\n",
      "Training Loss: 0.5201, Validation Loss: 0.4813, Validation F-beta: 0.5458\n",
      "Epoch 268/4000\n",
      "Current lambda: 0.3300\n"
     ]
    },
    {
     "name": "stderr",
     "output_type": "stream",
     "text": [
      "Training: 100%|██████████| 24/24 [00:37<00:00,  1.55s/it, loss=0.458]\n",
      "Validation: 100%|██████████| 4/4 [00:02<00:00,  1.42it/s, loss=0.445]\n"
     ]
    },
    {
     "name": "stdout",
     "output_type": "stream",
     "text": [
      "Validation Dice Score\n",
      "Class 0: 0.0000, Class 1: 0.3217, Class 2: 0.0005, Class 3: 0.4622, \n",
      "Class 4: 0.6053, Class 5: 0.4482, Class 6: 0.6434, \n",
      "Validation F-beta Score\n",
      "Class 0: 0.0000, Class 1: 0.2574, Class 2: 0.0038, Class 3: 0.4951, \n",
      "Class 4: 0.6164, Class 5: 0.4496, Class 6: 0.6051, \n",
      "Overall Mean Dice Score: 0.4962\n",
      "Overall Mean F-beta Score: 0.4847\n",
      "\n",
      "Training Loss: 0.4964, Validation Loss: 0.4750, Validation F-beta: 0.4847\n",
      "Epoch 269/4000\n",
      "Current lambda: 0.3300\n"
     ]
    },
    {
     "name": "stderr",
     "output_type": "stream",
     "text": [
      "Training: 100%|██████████| 24/24 [00:36<00:00,  1.53s/it, loss=0.459]\n",
      "Validation: 100%|██████████| 4/4 [00:02<00:00,  1.43it/s, loss=0.354]\n"
     ]
    },
    {
     "name": "stdout",
     "output_type": "stream",
     "text": [
      "Validation Dice Score\n",
      "Class 0: 0.0000, Class 1: 0.6549, Class 2: 0.0014, Class 3: 0.2328, \n",
      "Class 4: 0.4324, Class 5: 0.4538, Class 6: 0.6331, \n",
      "Validation F-beta Score\n",
      "Class 0: 0.0000, Class 1: 0.6521, Class 2: 0.0113, Class 3: 0.2007, \n",
      "Class 4: 0.4515, Class 5: 0.4006, Class 6: 0.6720, \n",
      "Overall Mean Dice Score: 0.4814\n",
      "Overall Mean F-beta Score: 0.4754\n",
      "\n",
      "Training Loss: 0.4968, Validation Loss: 0.4917, Validation F-beta: 0.4754\n",
      "Epoch 270/4000\n",
      "Current lambda: 0.3300\n"
     ]
    },
    {
     "name": "stderr",
     "output_type": "stream",
     "text": [
      "Training: 100%|██████████| 24/24 [00:36<00:00,  1.54s/it, loss=0.494]\n",
      "Validation: 100%|██████████| 4/4 [00:02<00:00,  1.46it/s, loss=0.411]\n"
     ]
    },
    {
     "name": "stdout",
     "output_type": "stream",
     "text": [
      "Validation Dice Score\n",
      "Class 0: 0.0000, Class 1: 0.8153, Class 2: 0.0019, Class 3: 0.4543, \n",
      "Class 4: 0.4621, Class 5: 0.4014, Class 6: 0.5424, \n",
      "Validation F-beta Score\n",
      "Class 0: 0.0000, Class 1: 0.8006, Class 2: 0.0160, Class 3: 0.3797, \n",
      "Class 4: 0.5015, Class 5: 0.3152, Class 6: 0.6055, \n",
      "Overall Mean Dice Score: 0.5351\n",
      "Overall Mean F-beta Score: 0.5205\n",
      "\n",
      "Training Loss: 0.5047, Validation Loss: 0.4184, Validation F-beta: 0.5205\n",
      "========================================================\n",
      "Best model saved based on validation loss: 0.4184\n",
      "========================================================\n",
      "Epoch 271/4000\n",
      "Current lambda: 0.3300\n"
     ]
    },
    {
     "name": "stderr",
     "output_type": "stream",
     "text": [
      "Training: 100%|██████████| 24/24 [00:36<00:00,  1.52s/it, loss=0.57] \n",
      "Validation: 100%|██████████| 4/4 [00:02<00:00,  1.42it/s, loss=0.588]\n"
     ]
    },
    {
     "name": "stdout",
     "output_type": "stream",
     "text": [
      "Validation Dice Score\n",
      "Class 0: 0.0000, Class 1: 0.2070, Class 2: 0.0013, Class 3: 0.1012, \n",
      "Class 4: 0.5060, Class 5: 0.3581, Class 6: 0.4467, \n",
      "Validation F-beta Score\n",
      "Class 0: 0.0000, Class 1: 0.1982, Class 2: 0.0107, Class 3: 0.0861, \n",
      "Class 4: 0.4619, Class 5: 0.3618, Class 6: 0.4715, \n",
      "Overall Mean Dice Score: 0.3238\n",
      "Overall Mean F-beta Score: 0.3159\n",
      "\n",
      "Training Loss: 0.4805, Validation Loss: 0.5501, Validation F-beta: 0.3159\n",
      "Epoch 272/4000\n",
      "Current lambda: 0.3300\n"
     ]
    },
    {
     "name": "stderr",
     "output_type": "stream",
     "text": [
      "Training: 100%|██████████| 24/24 [00:36<00:00,  1.53s/it, loss=0.345]\n",
      "Validation: 100%|██████████| 4/4 [00:02<00:00,  1.39it/s, loss=0.454]\n"
     ]
    },
    {
     "name": "stdout",
     "output_type": "stream",
     "text": [
      "Validation Dice Score\n",
      "Class 0: 0.0000, Class 1: 0.5675, Class 2: 0.0005, Class 3: 0.1207, \n",
      "Class 4: 0.4108, Class 5: 0.4641, Class 6: 0.8187, \n",
      "Validation F-beta Score\n",
      "Class 0: 0.0000, Class 1: 0.6013, Class 2: 0.0038, Class 3: 0.1060, \n",
      "Class 4: 0.3773, Class 5: 0.4758, Class 6: 0.8158, \n",
      "Overall Mean Dice Score: 0.4763\n",
      "Overall Mean F-beta Score: 0.4752\n",
      "\n",
      "Training Loss: 0.5112, Validation Loss: 0.5148, Validation F-beta: 0.4752\n",
      "Epoch 273/4000\n",
      "Current lambda: 0.3300\n"
     ]
    },
    {
     "name": "stderr",
     "output_type": "stream",
     "text": [
      "Training: 100%|██████████| 24/24 [00:36<00:00,  1.54s/it, loss=0.507]\n",
      "Validation: 100%|██████████| 4/4 [00:02<00:00,  1.45it/s, loss=0.582]\n"
     ]
    },
    {
     "name": "stdout",
     "output_type": "stream",
     "text": [
      "Validation Dice Score\n",
      "Class 0: 0.0000, Class 1: 0.6724, Class 2: 0.0025, Class 3: 0.3330, \n",
      "Class 4: 0.1908, Class 5: 0.3621, Class 6: 0.2657, \n",
      "Validation F-beta Score\n",
      "Class 0: 0.0000, Class 1: 0.6359, Class 2: 0.0207, Class 3: 0.3935, \n",
      "Class 4: 0.1600, Class 5: 0.2950, Class 6: 0.3767, \n",
      "Overall Mean Dice Score: 0.3648\n",
      "Overall Mean F-beta Score: 0.3722\n",
      "\n",
      "Training Loss: 0.5288, Validation Loss: 0.5515, Validation F-beta: 0.3722\n",
      "Epoch 274/4000\n",
      "Current lambda: 0.3300\n"
     ]
    },
    {
     "name": "stderr",
     "output_type": "stream",
     "text": [
      "Training: 100%|██████████| 24/24 [00:36<00:00,  1.53s/it, loss=0.572]\n",
      "Validation: 100%|██████████| 4/4 [00:02<00:00,  1.41it/s, loss=0.609]\n"
     ]
    },
    {
     "name": "stdout",
     "output_type": "stream",
     "text": [
      "Validation Dice Score\n",
      "Class 0: 0.0000, Class 1: 0.7152, Class 2: 0.0016, Class 3: 0.2057, \n",
      "Class 4: 0.3233, Class 5: 0.2568, Class 6: 0.6512, \n",
      "Validation F-beta Score\n",
      "Class 0: 0.0000, Class 1: 0.7577, Class 2: 0.0131, Class 3: 0.1755, \n",
      "Class 4: 0.4696, Class 5: 0.2940, Class 6: 0.6679, \n",
      "Overall Mean Dice Score: 0.4304\n",
      "Overall Mean F-beta Score: 0.4729\n",
      "\n",
      "Training Loss: 0.5186, Validation Loss: 0.5132, Validation F-beta: 0.4729\n",
      "Epoch 275/4000\n",
      "Current lambda: 0.3300\n"
     ]
    },
    {
     "name": "stderr",
     "output_type": "stream",
     "text": [
      "Training: 100%|██████████| 24/24 [00:36<00:00,  1.53s/it, loss=0.567]\n",
      "Validation: 100%|██████████| 4/4 [00:02<00:00,  1.43it/s, loss=0.49] \n"
     ]
    },
    {
     "name": "stdout",
     "output_type": "stream",
     "text": [
      "Validation Dice Score\n",
      "Class 0: 0.0000, Class 1: 0.5240, Class 2: 0.0007, Class 3: 0.4742, \n",
      "Class 4: 0.5717, Class 5: 0.3393, Class 6: 0.4003, \n",
      "Validation F-beta Score\n",
      "Class 0: 0.0000, Class 1: 0.8196, Class 2: 0.0055, Class 3: 0.4317, \n",
      "Class 4: 0.5996, Class 5: 0.4128, Class 6: 0.4390, \n",
      "Overall Mean Dice Score: 0.4619\n",
      "Overall Mean F-beta Score: 0.5405\n",
      "\n",
      "Training Loss: 0.5242, Validation Loss: 0.5185, Validation F-beta: 0.5405\n",
      "Epoch 276/4000\n",
      "Current lambda: 0.3300\n"
     ]
    },
    {
     "name": "stderr",
     "output_type": "stream",
     "text": [
      "Training: 100%|██████████| 24/24 [00:36<00:00,  1.54s/it, loss=0.539]\n",
      "Validation: 100%|██████████| 4/4 [00:02<00:00,  1.41it/s, loss=0.582]\n"
     ]
    },
    {
     "name": "stdout",
     "output_type": "stream",
     "text": [
      "Validation Dice Score\n",
      "Class 0: 0.0000, Class 1: 0.6117, Class 2: 0.0019, Class 3: 0.2006, \n",
      "Class 4: 0.4649, Class 5: 0.4310, Class 6: 0.4602, \n",
      "Validation F-beta Score\n",
      "Class 0: 0.0000, Class 1: 0.5564, Class 2: 0.0157, Class 3: 0.1825, \n",
      "Class 4: 0.4168, Class 5: 0.4752, Class 6: 0.4595, \n",
      "Overall Mean Dice Score: 0.4337\n",
      "Overall Mean F-beta Score: 0.4181\n",
      "\n",
      "Training Loss: 0.5279, Validation Loss: 0.5038, Validation F-beta: 0.4181\n",
      "Epoch 277/4000\n",
      "Current lambda: 0.3300\n"
     ]
    },
    {
     "name": "stderr",
     "output_type": "stream",
     "text": [
      "Training: 100%|██████████| 24/24 [00:36<00:00,  1.53s/it, loss=0.577]\n",
      "Validation: 100%|██████████| 4/4 [00:02<00:00,  1.44it/s, loss=0.507]\n"
     ]
    },
    {
     "name": "stdout",
     "output_type": "stream",
     "text": [
      "Validation Dice Score\n",
      "Class 0: 0.0000, Class 1: 0.5689, Class 2: 0.0018, Class 3: 0.2450, \n",
      "Class 4: 0.7757, Class 5: 0.3331, Class 6: 0.4550, \n",
      "Validation F-beta Score\n",
      "Class 0: 0.0000, Class 1: 0.5667, Class 2: 0.0147, Class 3: 0.2646, \n",
      "Class 4: 0.7335, Class 5: 0.3343, Class 6: 0.6832, \n",
      "Overall Mean Dice Score: 0.4755\n",
      "Overall Mean F-beta Score: 0.5165\n",
      "\n",
      "Training Loss: 0.5290, Validation Loss: 0.4957, Validation F-beta: 0.5165\n",
      "Epoch 278/4000\n",
      "Current lambda: 0.3300\n"
     ]
    },
    {
     "name": "stderr",
     "output_type": "stream",
     "text": [
      "Training: 100%|██████████| 24/24 [00:36<00:00,  1.53s/it, loss=0.408]\n",
      "Validation: 100%|██████████| 4/4 [00:02<00:00,  1.46it/s, loss=0.466]\n"
     ]
    },
    {
     "name": "stdout",
     "output_type": "stream",
     "text": [
      "Validation Dice Score\n",
      "Class 0: 0.0000, Class 1: 0.5704, Class 2: 0.0007, Class 3: 0.2390, \n",
      "Class 4: 0.4975, Class 5: 0.4659, Class 6: 0.8804, \n",
      "Validation F-beta Score\n",
      "Class 0: 0.0000, Class 1: 0.5861, Class 2: 0.0059, Class 3: 0.1881, \n",
      "Class 4: 0.4802, Class 5: 0.4119, Class 6: 0.8887, \n",
      "Overall Mean Dice Score: 0.5306\n",
      "Overall Mean F-beta Score: 0.5110\n",
      "\n",
      "Training Loss: 0.5180, Validation Loss: 0.4353, Validation F-beta: 0.5110\n",
      "Epoch 279/4000\n",
      "Current lambda: 0.3300\n"
     ]
    },
    {
     "name": "stderr",
     "output_type": "stream",
     "text": [
      "Training: 100%|██████████| 24/24 [00:36<00:00,  1.53s/it, loss=0.556]\n",
      "Validation: 100%|██████████| 4/4 [00:02<00:00,  1.44it/s, loss=0.556]\n"
     ]
    },
    {
     "name": "stdout",
     "output_type": "stream",
     "text": [
      "Validation Dice Score\n",
      "Class 0: 0.0000, Class 1: 0.5093, Class 2: 0.0014, Class 3: 0.3499, \n",
      "Class 4: 0.6067, Class 5: 0.3693, Class 6: 0.6894, \n",
      "Validation F-beta Score\n",
      "Class 0: 0.0000, Class 1: 0.5656, Class 2: 0.0117, Class 3: 0.5195, \n",
      "Class 4: 0.5403, Class 5: 0.2903, Class 6: 0.6706, \n",
      "Overall Mean Dice Score: 0.5049\n",
      "Overall Mean F-beta Score: 0.5173\n",
      "\n",
      "Training Loss: 0.5313, Validation Loss: 0.4760, Validation F-beta: 0.5173\n",
      "Validation loss did not improve. Reducing lambda to 0.3200\n",
      "Epoch 280/4000\n",
      "Current lambda: 0.3200\n"
     ]
    },
    {
     "name": "stderr",
     "output_type": "stream",
     "text": [
      "Training: 100%|██████████| 24/24 [00:36<00:00,  1.54s/it, loss=0.428]\n",
      "Validation: 100%|██████████| 4/4 [00:02<00:00,  1.38it/s, loss=0.472]\n"
     ]
    },
    {
     "name": "stdout",
     "output_type": "stream",
     "text": [
      "Validation Dice Score\n",
      "Class 0: 0.0000, Class 1: 0.5387, Class 2: 0.0010, Class 3: 0.4114, \n",
      "Class 4: 0.1485, Class 5: 0.3989, Class 6: 0.4548, \n",
      "Validation F-beta Score\n",
      "Class 0: 0.0000, Class 1: 0.5181, Class 2: 0.0085, Class 3: 0.3694, \n",
      "Class 4: 0.1311, Class 5: 0.4067, Class 6: 0.5555, \n",
      "Overall Mean Dice Score: 0.3904\n",
      "Overall Mean F-beta Score: 0.3962\n",
      "\n",
      "Training Loss: 0.5131, Validation Loss: 0.5181, Validation F-beta: 0.3962\n",
      "Epoch 281/4000\n",
      "Current lambda: 0.3200\n"
     ]
    },
    {
     "name": "stderr",
     "output_type": "stream",
     "text": [
      "Training: 100%|██████████| 24/24 [00:36<00:00,  1.53s/it, loss=0.559]\n",
      "Validation: 100%|██████████| 4/4 [00:02<00:00,  1.41it/s, loss=0.543]\n"
     ]
    },
    {
     "name": "stdout",
     "output_type": "stream",
     "text": [
      "Validation Dice Score\n",
      "Class 0: 0.0000, Class 1: 0.5491, Class 2: 0.0031, Class 3: 0.2650, \n",
      "Class 4: 0.5604, Class 5: 0.3341, Class 6: 0.4206, \n",
      "Validation F-beta Score\n",
      "Class 0: 0.0000, Class 1: 0.7208, Class 2: 0.0260, Class 3: 0.2988, \n",
      "Class 4: 0.4739, Class 5: 0.2637, Class 6: 0.3856, \n",
      "Overall Mean Dice Score: 0.4258\n",
      "Overall Mean F-beta Score: 0.4286\n",
      "\n",
      "Training Loss: 0.5099, Validation Loss: 0.5326, Validation F-beta: 0.4286\n",
      "Epoch 282/4000\n",
      "Current lambda: 0.3200\n"
     ]
    },
    {
     "name": "stderr",
     "output_type": "stream",
     "text": [
      "Training: 100%|██████████| 24/24 [00:36<00:00,  1.54s/it, loss=0.591]\n",
      "Validation: 100%|██████████| 4/4 [00:02<00:00,  1.42it/s, loss=0.569]\n"
     ]
    },
    {
     "name": "stdout",
     "output_type": "stream",
     "text": [
      "Validation Dice Score\n",
      "Class 0: 0.0000, Class 1: 0.5521, Class 2: 0.0018, Class 3: 0.1732, \n",
      "Class 4: 0.4212, Class 5: 0.2617, Class 6: 0.7087, \n",
      "Validation F-beta Score\n",
      "Class 0: 0.0000, Class 1: 0.6045, Class 2: 0.0147, Class 3: 0.1644, \n",
      "Class 4: 0.4056, Class 5: 0.2687, Class 6: 0.7845, \n",
      "Overall Mean Dice Score: 0.4233\n",
      "Overall Mean F-beta Score: 0.4455\n",
      "\n",
      "Training Loss: 0.5229, Validation Loss: 0.5162, Validation F-beta: 0.4455\n",
      "Epoch 283/4000\n",
      "Current lambda: 0.3200\n"
     ]
    },
    {
     "name": "stderr",
     "output_type": "stream",
     "text": [
      "Training: 100%|██████████| 24/24 [00:36<00:00,  1.53s/it, loss=0.436]\n",
      "Validation: 100%|██████████| 4/4 [00:02<00:00,  1.41it/s, loss=0.6]  \n"
     ]
    },
    {
     "name": "stdout",
     "output_type": "stream",
     "text": [
      "Validation Dice Score\n",
      "Class 0: 0.0000, Class 1: 0.6170, Class 2: 0.0027, Class 3: 0.3318, \n",
      "Class 4: 0.4082, Class 5: 0.3134, Class 6: 0.6046, \n",
      "Validation F-beta Score\n",
      "Class 0: 0.0000, Class 1: 0.6548, Class 2: 0.0226, Class 3: 0.3234, \n",
      "Class 4: 0.4138, Class 5: 0.2639, Class 6: 0.6686, \n",
      "Overall Mean Dice Score: 0.4550\n",
      "Overall Mean F-beta Score: 0.4649\n",
      "\n",
      "Training Loss: 0.5192, Validation Loss: 0.4754, Validation F-beta: 0.4649\n",
      "Epoch 284/4000\n",
      "Current lambda: 0.3200\n"
     ]
    },
    {
     "name": "stderr",
     "output_type": "stream",
     "text": [
      "Training: 100%|██████████| 24/24 [00:36<00:00,  1.53s/it, loss=0.555]\n",
      "Validation: 100%|██████████| 4/4 [00:02<00:00,  1.41it/s, loss=0.447]\n"
     ]
    },
    {
     "name": "stdout",
     "output_type": "stream",
     "text": [
      "Validation Dice Score\n",
      "Class 0: 0.0000, Class 1: 0.4980, Class 2: 0.0014, Class 3: 0.3868, \n",
      "Class 4: 0.5823, Class 5: 0.5278, Class 6: 0.8907, \n",
      "Validation F-beta Score\n",
      "Class 0: 0.0000, Class 1: 0.8894, Class 2: 0.0113, Class 3: 0.3652, \n",
      "Class 4: 0.4898, Class 5: 0.4819, Class 6: 0.8929, \n",
      "Overall Mean Dice Score: 0.5771\n",
      "Overall Mean F-beta Score: 0.6238\n",
      "\n",
      "Training Loss: 0.5270, Validation Loss: 0.4554, Validation F-beta: 0.6238\n",
      "========================================================\n",
      "Best model saved based on F-beta score: 0.6238\n",
      "========================================================\n",
      "Epoch 285/4000\n",
      "Current lambda: 0.3200\n"
     ]
    },
    {
     "name": "stderr",
     "output_type": "stream",
     "text": [
      "Training: 100%|██████████| 24/24 [00:36<00:00,  1.54s/it, loss=0.502]\n",
      "Validation: 100%|██████████| 4/4 [00:02<00:00,  1.39it/s, loss=0.586]\n"
     ]
    },
    {
     "name": "stdout",
     "output_type": "stream",
     "text": [
      "Validation Dice Score\n",
      "Class 0: 0.0000, Class 1: 0.5711, Class 2: 0.0015, Class 3: 0.3237, \n",
      "Class 4: 0.3827, Class 5: 0.4615, Class 6: 0.2235, \n",
      "Validation F-beta Score\n",
      "Class 0: 0.0000, Class 1: 0.8935, Class 2: 0.0126, Class 3: 0.3856, \n",
      "Class 4: 0.4294, Class 5: 0.4767, Class 6: 0.2166, \n",
      "Overall Mean Dice Score: 0.3925\n",
      "Overall Mean F-beta Score: 0.4804\n",
      "\n",
      "Training Loss: 0.4905, Validation Loss: 0.5330, Validation F-beta: 0.4804\n",
      "Epoch 286/4000\n",
      "Current lambda: 0.3200\n"
     ]
    },
    {
     "name": "stderr",
     "output_type": "stream",
     "text": [
      "Training: 100%|██████████| 24/24 [00:37<00:00,  1.56s/it, loss=0.495]\n",
      "Validation: 100%|██████████| 4/4 [00:02<00:00,  1.41it/s, loss=0.442]\n"
     ]
    },
    {
     "name": "stdout",
     "output_type": "stream",
     "text": [
      "Validation Dice Score\n",
      "Class 0: 0.0000, Class 1: 0.4109, Class 2: 0.0015, Class 3: 0.1944, \n",
      "Class 4: 0.6987, Class 5: 0.5308, Class 6: 0.8937, \n",
      "Validation F-beta Score\n",
      "Class 0: 0.0000, Class 1: 0.4237, Class 2: 0.0127, Class 3: 0.1921, \n",
      "Class 4: 0.6132, Class 5: 0.5910, Class 6: 0.8896, \n",
      "Overall Mean Dice Score: 0.5457\n",
      "Overall Mean F-beta Score: 0.5419\n",
      "\n",
      "Training Loss: 0.5053, Validation Loss: 0.4603, Validation F-beta: 0.5419\n",
      "Epoch 287/4000\n",
      "Current lambda: 0.3200\n"
     ]
    },
    {
     "name": "stderr",
     "output_type": "stream",
     "text": [
      "Training: 100%|██████████| 24/24 [00:36<00:00,  1.53s/it, loss=0.557]\n",
      "Validation: 100%|██████████| 4/4 [00:02<00:00,  1.39it/s, loss=0.588]\n"
     ]
    },
    {
     "name": "stdout",
     "output_type": "stream",
     "text": [
      "Validation Dice Score\n",
      "Class 0: 0.0000, Class 1: 0.2092, Class 2: 0.0016, Class 3: 0.2595, \n",
      "Class 4: 0.6358, Class 5: 0.4013, Class 6: 0.4644, \n",
      "Validation F-beta Score\n",
      "Class 0: 0.0000, Class 1: 0.1956, Class 2: 0.0134, Class 3: 0.2336, \n",
      "Class 4: 0.6044, Class 5: 0.3693, Class 6: 0.4478, \n",
      "Overall Mean Dice Score: 0.3941\n",
      "Overall Mean F-beta Score: 0.3701\n",
      "\n",
      "Training Loss: 0.5129, Validation Loss: 0.5214, Validation F-beta: 0.3701\n",
      "Epoch 288/4000\n",
      "Current lambda: 0.3200\n"
     ]
    },
    {
     "name": "stderr",
     "output_type": "stream",
     "text": [
      "Training: 100%|██████████| 24/24 [00:36<00:00,  1.53s/it, loss=0.491]\n",
      "Validation: 100%|██████████| 4/4 [00:02<00:00,  1.41it/s, loss=0.642]\n"
     ]
    },
    {
     "name": "stdout",
     "output_type": "stream",
     "text": [
      "Validation Dice Score\n",
      "Class 0: 0.0000, Class 1: 0.2148, Class 2: 0.0016, Class 3: 0.2326, \n",
      "Class 4: 0.6106, Class 5: 0.2201, Class 6: 0.2372, \n",
      "Validation F-beta Score\n",
      "Class 0: 0.0000, Class 1: 0.2213, Class 2: 0.0131, Class 3: 0.3788, \n",
      "Class 4: 0.5404, Class 5: 0.1888, Class 6: 0.2389, \n",
      "Overall Mean Dice Score: 0.3031\n",
      "Overall Mean F-beta Score: 0.3136\n",
      "\n",
      "Training Loss: 0.5020, Validation Loss: 0.5578, Validation F-beta: 0.3136\n",
      "Epoch 289/4000\n",
      "Current lambda: 0.3200\n"
     ]
    },
    {
     "name": "stderr",
     "output_type": "stream",
     "text": [
      "Training: 100%|██████████| 24/24 [00:36<00:00,  1.53s/it, loss=0.576]\n",
      "Validation: 100%|██████████| 4/4 [00:02<00:00,  1.40it/s, loss=0.502]\n"
     ]
    },
    {
     "name": "stdout",
     "output_type": "stream",
     "text": [
      "Validation Dice Score\n",
      "Class 0: 0.0000, Class 1: 0.3787, Class 2: 0.0021, Class 3: 0.3115, \n",
      "Class 4: 0.5935, Class 5: 0.2860, Class 6: 0.4675, \n",
      "Validation F-beta Score\n",
      "Class 0: 0.0000, Class 1: 0.5885, Class 2: 0.0175, Class 3: 0.3958, \n",
      "Class 4: 0.8235, Class 5: 0.2264, Class 6: 0.4773, \n",
      "Overall Mean Dice Score: 0.4074\n",
      "Overall Mean F-beta Score: 0.5023\n",
      "\n",
      "Training Loss: 0.5301, Validation Loss: 0.5473, Validation F-beta: 0.5023\n",
      "Epoch 290/4000\n",
      "Current lambda: 0.3200\n"
     ]
    },
    {
     "name": "stderr",
     "output_type": "stream",
     "text": [
      "Training: 100%|██████████| 24/24 [00:36<00:00,  1.54s/it, loss=0.543]\n",
      "Validation: 100%|██████████| 4/4 [00:02<00:00,  1.39it/s, loss=0.448]\n"
     ]
    },
    {
     "name": "stdout",
     "output_type": "stream",
     "text": [
      "Validation Dice Score\n",
      "Class 0: 0.0000, Class 1: 0.3585, Class 2: 0.0016, Class 3: 0.2224, \n",
      "Class 4: 0.7216, Class 5: 0.3198, Class 6: 0.5992, \n",
      "Validation F-beta Score\n",
      "Class 0: 0.0000, Class 1: 0.4132, Class 2: 0.0135, Class 3: 0.2462, \n",
      "Class 4: 0.6356, Class 5: 0.3228, Class 6: 0.6724, \n",
      "Overall Mean Dice Score: 0.4443\n",
      "Overall Mean F-beta Score: 0.4580\n",
      "\n",
      "Training Loss: 0.5147, Validation Loss: 0.5339, Validation F-beta: 0.4580\n",
      "Epoch 291/4000\n",
      "Current lambda: 0.3200\n"
     ]
    },
    {
     "name": "stderr",
     "output_type": "stream",
     "text": [
      "Training: 100%|██████████| 24/24 [00:36<00:00,  1.53s/it, loss=0.51] \n",
      "Validation: 100%|██████████| 4/4 [00:02<00:00,  1.39it/s, loss=0.503]\n"
     ]
    },
    {
     "name": "stdout",
     "output_type": "stream",
     "text": [
      "Validation Dice Score\n",
      "Class 0: 0.0000, Class 1: 0.0000, Class 2: 0.0018, Class 3: 0.2590, \n",
      "Class 4: 0.4994, Class 5: 0.4907, Class 6: 0.4269, \n",
      "Validation F-beta Score\n",
      "Class 0: 0.0000, Class 1: 0.0000, Class 2: 0.0148, Class 3: 0.2835, \n",
      "Class 4: 0.4027, Class 5: 0.4216, Class 6: 0.4660, \n",
      "Overall Mean Dice Score: 0.3352\n",
      "Overall Mean F-beta Score: 0.3148\n",
      "\n",
      "Training Loss: 0.5109, Validation Loss: 0.5435, Validation F-beta: 0.3148\n",
      "Epoch 292/4000\n",
      "Current lambda: 0.3200\n"
     ]
    },
    {
     "name": "stderr",
     "output_type": "stream",
     "text": [
      "Training: 100%|██████████| 24/24 [00:37<00:00,  1.54s/it, loss=0.591]\n",
      "Validation: 100%|██████████| 4/4 [00:02<00:00,  1.42it/s, loss=0.499]\n"
     ]
    },
    {
     "name": "stdout",
     "output_type": "stream",
     "text": [
      "Validation Dice Score\n",
      "Class 0: 0.0000, Class 1: 0.7758, Class 2: 0.0020, Class 3: 0.0661, \n",
      "Class 4: 0.2983, Class 5: 0.4259, Class 6: 0.8579, \n",
      "Validation F-beta Score\n",
      "Class 0: 0.0000, Class 1: 0.8198, Class 2: 0.0168, Class 3: 0.0621, \n",
      "Class 4: 0.2943, Class 5: 0.3742, Class 6: 0.8787, \n",
      "Overall Mean Dice Score: 0.4848\n",
      "Overall Mean F-beta Score: 0.4858\n",
      "\n",
      "Training Loss: 0.5178, Validation Loss: 0.5077, Validation F-beta: 0.4858\n",
      "Epoch 293/4000\n",
      "Current lambda: 0.3200\n"
     ]
    },
    {
     "name": "stderr",
     "output_type": "stream",
     "text": [
      "Training: 100%|██████████| 24/24 [00:36<00:00,  1.53s/it, loss=0.52] \n",
      "Validation: 100%|██████████| 4/4 [00:02<00:00,  1.43it/s, loss=0.588]\n"
     ]
    },
    {
     "name": "stdout",
     "output_type": "stream",
     "text": [
      "Validation Dice Score\n",
      "Class 0: 0.0000, Class 1: 0.6017, Class 2: 0.0011, Class 3: 0.2077, \n",
      "Class 4: 0.5611, Class 5: 0.1957, Class 6: 0.8733, \n",
      "Validation F-beta Score\n",
      "Class 0: 0.0000, Class 1: 0.6539, Class 2: 0.0088, Class 3: 0.2131, \n",
      "Class 4: 0.6658, Class 5: 0.1805, Class 6: 0.8221, \n",
      "Overall Mean Dice Score: 0.4879\n",
      "Overall Mean F-beta Score: 0.5071\n",
      "\n",
      "Training Loss: 0.5201, Validation Loss: 0.5333, Validation F-beta: 0.5071\n",
      "Validation loss did not improve. Reducing lambda to 0.3100\n",
      "Epoch 294/4000\n",
      "Current lambda: 0.3100\n"
     ]
    },
    {
     "name": "stderr",
     "output_type": "stream",
     "text": [
      "Training: 100%|██████████| 24/24 [00:36<00:00,  1.52s/it, loss=0.506]\n",
      "Validation: 100%|██████████| 4/4 [00:02<00:00,  1.43it/s, loss=0.611]\n"
     ]
    },
    {
     "name": "stdout",
     "output_type": "stream",
     "text": [
      "Validation Dice Score\n",
      "Class 0: 0.0000, Class 1: 0.5835, Class 2: 0.0018, Class 3: 0.2256, \n",
      "Class 4: 0.4086, Class 5: 0.4605, Class 6: 0.4627, \n",
      "Validation F-beta Score\n",
      "Class 0: 0.0000, Class 1: 0.6301, Class 2: 0.0152, Class 3: 0.2400, \n",
      "Class 4: 0.2979, Class 5: 0.4028, Class 6: 0.4573, \n",
      "Overall Mean Dice Score: 0.4282\n",
      "Overall Mean F-beta Score: 0.4056\n",
      "\n",
      "Training Loss: 0.4950, Validation Loss: 0.5149, Validation F-beta: 0.4056\n",
      "Epoch 295/4000\n",
      "Current lambda: 0.3100\n"
     ]
    },
    {
     "name": "stderr",
     "output_type": "stream",
     "text": [
      "Training: 100%|██████████| 24/24 [00:36<00:00,  1.52s/it, loss=0.555]\n",
      "Validation: 100%|██████████| 4/4 [00:02<00:00,  1.39it/s, loss=0.544]\n"
     ]
    },
    {
     "name": "stdout",
     "output_type": "stream",
     "text": [
      "Validation Dice Score\n",
      "Class 0: 0.0000, Class 1: 0.5262, Class 2: 0.0013, Class 3: 0.2151, \n",
      "Class 4: 0.4599, Class 5: 0.4833, Class 6: 0.4923, \n",
      "Validation F-beta Score\n",
      "Class 0: 0.0000, Class 1: 0.4682, Class 2: 0.0112, Class 3: 0.1637, \n",
      "Class 4: 0.4459, Class 5: 0.4387, Class 6: 0.4765, \n",
      "Overall Mean Dice Score: 0.4354\n",
      "Overall Mean F-beta Score: 0.3986\n",
      "\n",
      "Training Loss: 0.4858, Validation Loss: 0.5087, Validation F-beta: 0.3986\n",
      "Epoch 296/4000\n",
      "Current lambda: 0.3100\n"
     ]
    },
    {
     "name": "stderr",
     "output_type": "stream",
     "text": [
      "Training: 100%|██████████| 24/24 [00:36<00:00,  1.53s/it, loss=0.579]\n",
      "Validation: 100%|██████████| 4/4 [00:02<00:00,  1.40it/s, loss=0.392]\n"
     ]
    },
    {
     "name": "stdout",
     "output_type": "stream",
     "text": [
      "Validation Dice Score\n",
      "Class 0: 0.0000, Class 1: 0.7557, Class 2: 0.0013, Class 3: 0.2891, \n",
      "Class 4: 0.6005, Class 5: 0.4885, Class 6: 0.6704, \n",
      "Validation F-beta Score\n",
      "Class 0: 0.0000, Class 1: 0.7122, Class 2: 0.0109, Class 3: 0.2984, \n",
      "Class 4: 0.5567, Class 5: 0.4979, Class 6: 0.6775, \n",
      "Overall Mean Dice Score: 0.5609\n",
      "Overall Mean F-beta Score: 0.5485\n",
      "\n",
      "Training Loss: 0.4992, Validation Loss: 0.4352, Validation F-beta: 0.5485\n",
      "Epoch 297/4000\n",
      "Current lambda: 0.3100\n"
     ]
    },
    {
     "name": "stderr",
     "output_type": "stream",
     "text": [
      "Training: 100%|██████████| 24/24 [00:36<00:00,  1.53s/it, loss=0.61] \n",
      "Validation: 100%|██████████| 4/4 [00:02<00:00,  1.41it/s, loss=0.587]\n"
     ]
    },
    {
     "name": "stdout",
     "output_type": "stream",
     "text": [
      "Validation Dice Score\n",
      "Class 0: 0.0000, Class 1: 0.3800, Class 2: 0.0028, Class 3: 0.3753, \n",
      "Class 4: 0.3608, Class 5: 0.5737, Class 6: 0.4262, \n",
      "Validation F-beta Score\n",
      "Class 0: 0.0000, Class 1: 0.4057, Class 2: 0.0227, Class 3: 0.3220, \n",
      "Class 4: 0.3566, Class 5: 0.5619, Class 6: 0.4176, \n",
      "Overall Mean Dice Score: 0.4232\n",
      "Overall Mean F-beta Score: 0.4128\n",
      "\n",
      "Training Loss: 0.5329, Validation Loss: 0.5128, Validation F-beta: 0.4128\n",
      "Epoch 298/4000\n",
      "Current lambda: 0.3100\n"
     ]
    },
    {
     "name": "stderr",
     "output_type": "stream",
     "text": [
      "Training: 100%|██████████| 24/24 [00:36<00:00,  1.53s/it, loss=0.597]\n",
      "Validation: 100%|██████████| 4/4 [00:02<00:00,  1.44it/s, loss=0.398]\n"
     ]
    },
    {
     "name": "stdout",
     "output_type": "stream",
     "text": [
      "Validation Dice Score\n",
      "Class 0: 0.0000, Class 1: 0.4775, Class 2: 0.0008, Class 3: 0.3248, \n",
      "Class 4: 0.6127, Class 5: 0.2133, Class 6: 0.7830, \n",
      "Validation F-beta Score\n",
      "Class 0: 0.0000, Class 1: 0.5794, Class 2: 0.0068, Class 3: 0.3037, \n",
      "Class 4: 0.6210, Class 5: 0.1713, Class 6: 0.9099, \n",
      "Overall Mean Dice Score: 0.4822\n",
      "Overall Mean F-beta Score: 0.5171\n",
      "\n",
      "Training Loss: 0.5190, Validation Loss: 0.4852, Validation F-beta: 0.5171\n",
      "Epoch 299/4000\n",
      "Current lambda: 0.3100\n"
     ]
    },
    {
     "name": "stderr",
     "output_type": "stream",
     "text": [
      "Training: 100%|██████████| 24/24 [00:36<00:00,  1.53s/it, loss=0.539]\n",
      "Validation: 100%|██████████| 4/4 [00:02<00:00,  1.41it/s, loss=0.543]\n"
     ]
    },
    {
     "name": "stdout",
     "output_type": "stream",
     "text": [
      "Validation Dice Score\n",
      "Class 0: 0.0000, Class 1: 0.7588, Class 2: 0.0005, Class 3: 0.1995, \n",
      "Class 4: 0.3426, Class 5: 0.3744, Class 6: 0.7360, \n",
      "Validation F-beta Score\n",
      "Class 0: 0.0000, Class 1: 0.6871, Class 2: 0.0038, Class 3: 0.1747, \n",
      "Class 4: 0.2933, Class 5: 0.3667, Class 6: 0.6667, \n",
      "Overall Mean Dice Score: 0.4823\n",
      "Overall Mean F-beta Score: 0.4377\n",
      "\n",
      "Training Loss: 0.5103, Validation Loss: 0.5053, Validation F-beta: 0.4377\n",
      "Epoch 300/4000\n",
      "Current lambda: 0.3100\n"
     ]
    },
    {
     "name": "stderr",
     "output_type": "stream",
     "text": [
      "Training: 100%|██████████| 24/24 [00:36<00:00,  1.52s/it, loss=0.442]\n",
      "Validation: 100%|██████████| 4/4 [00:02<00:00,  1.44it/s, loss=0.559]\n"
     ]
    },
    {
     "name": "stdout",
     "output_type": "stream",
     "text": [
      "Validation Dice Score\n",
      "Class 0: 0.0000, Class 1: 0.2909, Class 2: 0.0002, Class 3: 0.1940, \n",
      "Class 4: 0.4350, Class 5: 0.3132, Class 6: 0.2266, \n",
      "Validation F-beta Score\n",
      "Class 0: 0.0000, Class 1: 0.4915, Class 2: 0.0020, Class 3: 0.2692, \n",
      "Class 4: 0.3887, Class 5: 0.3202, Class 6: 0.2190, \n",
      "Overall Mean Dice Score: 0.2919\n",
      "Overall Mean F-beta Score: 0.3377\n",
      "\n",
      "Training Loss: 0.5107, Validation Loss: 0.5797, Validation F-beta: 0.3377\n",
      "Epoch 301/4000\n",
      "Current lambda: 0.3100\n"
     ]
    },
    {
     "name": "stderr",
     "output_type": "stream",
     "text": [
      "Training: 100%|██████████| 24/24 [00:36<00:00,  1.53s/it, loss=0.528]\n",
      "Validation: 100%|██████████| 4/4 [00:02<00:00,  1.41it/s, loss=0.532]\n"
     ]
    },
    {
     "name": "stdout",
     "output_type": "stream",
     "text": [
      "Validation Dice Score\n",
      "Class 0: 0.0000, Class 1: 0.7874, Class 2: 0.0015, Class 3: 0.2742, \n",
      "Class 4: 0.2682, Class 5: 0.3689, Class 6: 0.5976, \n",
      "Validation F-beta Score\n",
      "Class 0: 0.0000, Class 1: 0.7874, Class 2: 0.0125, Class 3: 0.2844, \n",
      "Class 4: 0.2105, Class 5: 0.3183, Class 6: 0.6080, \n",
      "Overall Mean Dice Score: 0.4593\n",
      "Overall Mean F-beta Score: 0.4417\n",
      "\n",
      "Training Loss: 0.4990, Validation Loss: 0.5001, Validation F-beta: 0.4417\n",
      "Epoch 302/4000\n",
      "Current lambda: 0.3100\n"
     ]
    },
    {
     "name": "stderr",
     "output_type": "stream",
     "text": [
      "Training: 100%|██████████| 24/24 [00:36<00:00,  1.52s/it, loss=0.494]\n",
      "Validation: 100%|██████████| 4/4 [00:02<00:00,  1.44it/s, loss=0.41] \n"
     ]
    },
    {
     "name": "stdout",
     "output_type": "stream",
     "text": [
      "Validation Dice Score\n",
      "Class 0: 0.0000, Class 1: 0.7618, Class 2: 0.0014, Class 3: 0.3812, \n",
      "Class 4: 0.5621, Class 5: 0.3376, Class 6: 0.7493, \n",
      "Validation F-beta Score\n",
      "Class 0: 0.0000, Class 1: 0.7108, Class 2: 0.0118, Class 3: 0.4695, \n",
      "Class 4: 0.6054, Class 5: 0.4108, Class 6: 0.7487, \n",
      "Overall Mean Dice Score: 0.5584\n",
      "Overall Mean F-beta Score: 0.5890\n",
      "\n",
      "Training Loss: 0.5166, Validation Loss: 0.4670, Validation F-beta: 0.5890\n",
      "Epoch 303/4000\n",
      "Current lambda: 0.3100\n"
     ]
    },
    {
     "name": "stderr",
     "output_type": "stream",
     "text": [
      "Training: 100%|██████████| 24/24 [00:36<00:00,  1.53s/it, loss=0.481]\n",
      "Validation: 100%|██████████| 4/4 [00:02<00:00,  1.39it/s, loss=0.39] \n"
     ]
    },
    {
     "name": "stdout",
     "output_type": "stream",
     "text": [
      "Validation Dice Score\n",
      "Class 0: 0.0000, Class 1: 0.6228, Class 2: 0.0018, Class 3: 0.3565, \n",
      "Class 4: 0.4234, Class 5: 0.4004, Class 6: 0.6662, \n",
      "Validation F-beta Score\n",
      "Class 0: 0.0000, Class 1: 0.6214, Class 2: 0.0146, Class 3: 0.3492, \n",
      "Class 4: 0.3650, Class 5: 0.4135, Class 6: 0.6509, \n",
      "Overall Mean Dice Score: 0.4939\n",
      "Overall Mean F-beta Score: 0.4800\n",
      "\n",
      "Training Loss: 0.5163, Validation Loss: 0.4753, Validation F-beta: 0.4800\n",
      "Validation loss did not improve. Reducing lambda to 0.3000\n",
      "Epoch 304/4000\n",
      "Current lambda: 0.3000\n"
     ]
    },
    {
     "name": "stderr",
     "output_type": "stream",
     "text": [
      "Training: 100%|██████████| 24/24 [00:36<00:00,  1.53s/it, loss=0.489]\n",
      "Validation: 100%|██████████| 4/4 [00:02<00:00,  1.46it/s, loss=0.468]\n"
     ]
    },
    {
     "name": "stdout",
     "output_type": "stream",
     "text": [
      "Validation Dice Score\n",
      "Class 0: 0.0000, Class 1: 0.2972, Class 2: 0.0030, Class 3: 0.1383, \n",
      "Class 4: 0.4978, Class 5: 0.3016, Class 6: 0.4454, \n",
      "Validation F-beta Score\n",
      "Class 0: 0.0000, Class 1: 0.2927, Class 2: 0.0250, Class 3: 0.1676, \n",
      "Class 4: 0.4931, Class 5: 0.2673, Class 6: 0.4692, \n",
      "Overall Mean Dice Score: 0.3360\n",
      "Overall Mean F-beta Score: 0.3380\n",
      "\n",
      "Training Loss: 0.4799, Validation Loss: 0.5575, Validation F-beta: 0.3380\n",
      "Epoch 305/4000\n",
      "Current lambda: 0.3000\n"
     ]
    },
    {
     "name": "stderr",
     "output_type": "stream",
     "text": [
      "Training: 100%|██████████| 24/24 [00:36<00:00,  1.53s/it, loss=0.639]\n",
      "Validation: 100%|██████████| 4/4 [00:02<00:00,  1.43it/s, loss=0.479]\n"
     ]
    },
    {
     "name": "stdout",
     "output_type": "stream",
     "text": [
      "Validation Dice Score\n",
      "Class 0: 0.0000, Class 1: 0.3735, Class 2: 0.0005, Class 3: 0.3755, \n",
      "Class 4: 0.6217, Class 5: 0.4494, Class 6: 0.3535, \n",
      "Validation F-beta Score\n",
      "Class 0: 0.0000, Class 1: 0.4096, Class 2: 0.0039, Class 3: 0.3725, \n",
      "Class 4: 0.5281, Class 5: 0.5458, Class 6: 0.3543, \n",
      "Overall Mean Dice Score: 0.4347\n",
      "Overall Mean F-beta Score: 0.4421\n",
      "\n",
      "Training Loss: 0.4887, Validation Loss: 0.4986, Validation F-beta: 0.4421\n",
      "Epoch 306/4000\n",
      "Current lambda: 0.3000\n"
     ]
    },
    {
     "name": "stderr",
     "output_type": "stream",
     "text": [
      "Training: 100%|██████████| 24/24 [00:37<00:00,  1.54s/it, loss=0.404]\n",
      "Validation: 100%|██████████| 4/4 [00:02<00:00,  1.43it/s, loss=0.391]\n"
     ]
    },
    {
     "name": "stdout",
     "output_type": "stream",
     "text": [
      "Validation Dice Score\n",
      "Class 0: 0.0000, Class 1: 0.6244, Class 2: 0.0019, Class 3: 0.4272, \n",
      "Class 4: 0.5482, Class 5: 0.4252, Class 6: 0.6360, \n",
      "Validation F-beta Score\n",
      "Class 0: 0.0000, Class 1: 0.5671, Class 2: 0.0156, Class 3: 0.4707, \n",
      "Class 4: 0.8037, Class 5: 0.4200, Class 6: 0.6754, \n",
      "Overall Mean Dice Score: 0.5322\n",
      "Overall Mean F-beta Score: 0.5874\n",
      "\n",
      "Training Loss: 0.5188, Validation Loss: 0.4795, Validation F-beta: 0.5874\n",
      "Epoch 307/4000\n",
      "Current lambda: 0.3000\n"
     ]
    },
    {
     "name": "stderr",
     "output_type": "stream",
     "text": [
      "Training: 100%|██████████| 24/24 [00:36<00:00,  1.54s/it, loss=0.561]\n",
      "Validation: 100%|██████████| 4/4 [00:02<00:00,  1.44it/s, loss=0.524]\n"
     ]
    },
    {
     "name": "stdout",
     "output_type": "stream",
     "text": [
      "Validation Dice Score\n",
      "Class 0: 0.0000, Class 1: 0.6438, Class 2: 0.0023, Class 3: 0.1716, \n",
      "Class 4: 0.3534, Class 5: 0.3957, Class 6: 0.6374, \n",
      "Validation F-beta Score\n",
      "Class 0: 0.0000, Class 1: 0.5333, Class 2: 0.0191, Class 3: 0.2336, \n",
      "Class 4: 0.3760, Class 5: 0.4436, Class 6: 0.6287, \n",
      "Overall Mean Dice Score: 0.4404\n",
      "Overall Mean F-beta Score: 0.4430\n",
      "\n",
      "Training Loss: 0.5270, Validation Loss: 0.5377, Validation F-beta: 0.4430\n",
      "Epoch 308/4000\n",
      "Current lambda: 0.3000\n"
     ]
    },
    {
     "name": "stderr",
     "output_type": "stream",
     "text": [
      "Training: 100%|██████████| 24/24 [00:36<00:00,  1.53s/it, loss=0.547]\n",
      "Validation: 100%|██████████| 4/4 [00:02<00:00,  1.44it/s, loss=0.516]\n"
     ]
    },
    {
     "name": "stdout",
     "output_type": "stream",
     "text": [
      "Validation Dice Score\n",
      "Class 0: 0.0001, Class 1: 0.7221, Class 2: 0.0017, Class 3: 0.2029, \n",
      "Class 4: 0.3923, Class 5: 0.2945, Class 6: 0.6840, \n",
      "Validation F-beta Score\n",
      "Class 0: 0.0000, Class 1: 0.8593, Class 2: 0.0142, Class 3: 0.2461, \n",
      "Class 4: 0.3807, Class 5: 0.3012, Class 6: 0.6981, \n",
      "Overall Mean Dice Score: 0.4592\n",
      "Overall Mean F-beta Score: 0.4971\n",
      "\n",
      "Training Loss: 0.4876, Validation Loss: 0.5282, Validation F-beta: 0.4971\n",
      "Epoch 309/4000\n",
      "Current lambda: 0.3000\n"
     ]
    },
    {
     "name": "stderr",
     "output_type": "stream",
     "text": [
      "Training: 100%|██████████| 24/24 [00:37<00:00,  1.54s/it, loss=0.434]\n",
      "Validation: 100%|██████████| 4/4 [00:02<00:00,  1.44it/s, loss=0.626]\n"
     ]
    },
    {
     "name": "stdout",
     "output_type": "stream",
     "text": [
      "Validation Dice Score\n",
      "Class 0: 0.0000, Class 1: 0.6076, Class 2: 0.0008, Class 3: 0.3515, \n",
      "Class 4: 0.6219, Class 5: 0.3024, Class 6: 0.6453, \n",
      "Validation F-beta Score\n",
      "Class 0: 0.0000, Class 1: 0.5811, Class 2: 0.0064, Class 3: 0.3693, \n",
      "Class 4: 0.5911, Class 5: 0.3906, Class 6: 0.8425, \n",
      "Overall Mean Dice Score: 0.5058\n",
      "Overall Mean F-beta Score: 0.5549\n",
      "\n",
      "Training Loss: 0.5064, Validation Loss: 0.5002, Validation F-beta: 0.5549\n",
      "Epoch 310/4000\n",
      "Current lambda: 0.3000\n"
     ]
    },
    {
     "name": "stderr",
     "output_type": "stream",
     "text": [
      "Training: 100%|██████████| 24/24 [00:36<00:00,  1.54s/it, loss=0.447]\n",
      "Validation: 100%|██████████| 4/4 [00:02<00:00,  1.40it/s, loss=0.54] \n"
     ]
    },
    {
     "name": "stdout",
     "output_type": "stream",
     "text": [
      "Validation Dice Score\n",
      "Class 0: 0.0000, Class 1: 0.5664, Class 2: 0.0006, Class 3: 0.3295, \n",
      "Class 4: 0.4848, Class 5: 0.4162, Class 6: 0.5871, \n",
      "Validation F-beta Score\n",
      "Class 0: 0.0000, Class 1: 0.5462, Class 2: 0.0053, Class 3: 0.2506, \n",
      "Class 4: 0.5291, Class 5: 0.3951, Class 6: 0.6757, \n",
      "Overall Mean Dice Score: 0.4768\n",
      "Overall Mean F-beta Score: 0.4793\n",
      "\n",
      "Training Loss: 0.5064, Validation Loss: 0.4597, Validation F-beta: 0.4793\n",
      "Epoch 311/4000\n",
      "Current lambda: 0.3000\n"
     ]
    },
    {
     "name": "stderr",
     "output_type": "stream",
     "text": [
      "Training: 100%|██████████| 24/24 [00:37<00:00,  1.55s/it, loss=0.46] \n",
      "Validation: 100%|██████████| 4/4 [00:02<00:00,  1.40it/s, loss=0.456]\n"
     ]
    },
    {
     "name": "stdout",
     "output_type": "stream",
     "text": [
      "Validation Dice Score\n",
      "Class 0: 0.0000, Class 1: 0.8099, Class 2: 0.0018, Class 3: 0.4278, \n",
      "Class 4: 0.5003, Class 5: 0.4309, Class 6: 0.5038, \n",
      "Validation F-beta Score\n",
      "Class 0: 0.0000, Class 1: 0.7538, Class 2: 0.0150, Class 3: 0.3674, \n",
      "Class 4: 0.5023, Class 5: 0.3778, Class 6: 0.5384, \n",
      "Overall Mean Dice Score: 0.5345\n",
      "Overall Mean F-beta Score: 0.5079\n",
      "\n",
      "Training Loss: 0.5209, Validation Loss: 0.4245, Validation F-beta: 0.5079\n",
      "Epoch 312/4000\n",
      "Current lambda: 0.3000\n"
     ]
    },
    {
     "name": "stderr",
     "output_type": "stream",
     "text": [
      "Training: 100%|██████████| 24/24 [00:36<00:00,  1.53s/it, loss=0.429]\n",
      "Validation: 100%|██████████| 4/4 [00:02<00:00,  1.41it/s, loss=0.504]\n"
     ]
    },
    {
     "name": "stdout",
     "output_type": "stream",
     "text": [
      "Validation Dice Score\n",
      "Class 0: 0.0000, Class 1: 0.3513, Class 2: 0.0016, Class 3: 0.3053, \n",
      "Class 4: 0.5470, Class 5: 0.3847, Class 6: 0.4269, \n",
      "Validation F-beta Score\n",
      "Class 0: 0.0000, Class 1: 0.8373, Class 2: 0.0136, Class 3: 0.3006, \n",
      "Class 4: 0.5014, Class 5: 0.3427, Class 6: 0.3815, \n",
      "Overall Mean Dice Score: 0.4030\n",
      "Overall Mean F-beta Score: 0.4727\n",
      "\n",
      "Training Loss: 0.5241, Validation Loss: 0.5337, Validation F-beta: 0.4727\n",
      "Epoch 313/4000\n",
      "Current lambda: 0.3000\n"
     ]
    },
    {
     "name": "stderr",
     "output_type": "stream",
     "text": [
      "Training: 100%|██████████| 24/24 [00:36<00:00,  1.52s/it, loss=0.473]\n",
      "Validation: 100%|██████████| 4/4 [00:02<00:00,  1.37it/s, loss=0.474]\n"
     ]
    },
    {
     "name": "stdout",
     "output_type": "stream",
     "text": [
      "Validation Dice Score\n",
      "Class 0: 0.0000, Class 1: 0.4300, Class 2: 0.0001, Class 3: 0.4684, \n",
      "Class 4: 0.5075, Class 5: 0.3007, Class 6: 0.8530, \n",
      "Validation F-beta Score\n",
      "Class 0: 0.0000, Class 1: 0.4277, Class 2: 0.0011, Class 3: 0.4426, \n",
      "Class 4: 0.4220, Class 5: 0.3764, Class 6: 0.9007, \n",
      "Overall Mean Dice Score: 0.5119\n",
      "Overall Mean F-beta Score: 0.5139\n",
      "\n",
      "Training Loss: 0.4990, Validation Loss: 0.4808, Validation F-beta: 0.5139\n",
      "Validation loss did not improve. Reducing lambda to 0.2900\n",
      "Epoch 314/4000\n",
      "Current lambda: 0.2900\n"
     ]
    },
    {
     "name": "stderr",
     "output_type": "stream",
     "text": [
      "Training: 100%|██████████| 24/24 [00:36<00:00,  1.54s/it, loss=0.576]\n",
      "Validation: 100%|██████████| 4/4 [00:02<00:00,  1.41it/s, loss=0.543]\n"
     ]
    },
    {
     "name": "stdout",
     "output_type": "stream",
     "text": [
      "Validation Dice Score\n",
      "Class 0: 0.0000, Class 1: 0.4538, Class 2: 0.0018, Class 3: 0.3700, \n",
      "Class 4: 0.5378, Class 5: 0.2007, Class 6: 0.7252, \n",
      "Validation F-beta Score\n",
      "Class 0: 0.0000, Class 1: 0.3871, Class 2: 0.0145, Class 3: 0.3183, \n",
      "Class 4: 0.6154, Class 5: 0.1641, Class 6: 0.7209, \n",
      "Overall Mean Dice Score: 0.4575\n",
      "Overall Mean F-beta Score: 0.4412\n",
      "\n",
      "Training Loss: 0.5037, Validation Loss: 0.5195, Validation F-beta: 0.4412\n",
      "Epoch 315/4000\n",
      "Current lambda: 0.2900\n"
     ]
    },
    {
     "name": "stderr",
     "output_type": "stream",
     "text": [
      "Training: 100%|██████████| 24/24 [00:36<00:00,  1.54s/it, loss=0.656]\n",
      "Validation: 100%|██████████| 4/4 [00:02<00:00,  1.36it/s, loss=0.508]\n"
     ]
    },
    {
     "name": "stdout",
     "output_type": "stream",
     "text": [
      "Validation Dice Score\n",
      "Class 0: 0.0000, Class 1: 0.3526, Class 2: 0.0010, Class 3: 0.3313, \n",
      "Class 4: 0.3239, Class 5: 0.4694, Class 6: 0.6785, \n",
      "Validation F-beta Score\n",
      "Class 0: 0.0000, Class 1: 0.4182, Class 2: 0.0087, Class 3: 0.4499, \n",
      "Class 4: 0.2823, Class 5: 0.4053, Class 6: 0.6525, \n",
      "Overall Mean Dice Score: 0.4311\n",
      "Overall Mean F-beta Score: 0.4416\n",
      "\n",
      "Training Loss: 0.5273, Validation Loss: 0.4828, Validation F-beta: 0.4416\n",
      "Epoch 316/4000\n",
      "Current lambda: 0.2900\n"
     ]
    },
    {
     "name": "stderr",
     "output_type": "stream",
     "text": [
      "Training: 100%|██████████| 24/24 [00:37<00:00,  1.55s/it, loss=0.532]\n",
      "Validation: 100%|██████████| 4/4 [00:02<00:00,  1.41it/s, loss=0.491]\n"
     ]
    },
    {
     "name": "stdout",
     "output_type": "stream",
     "text": [
      "Validation Dice Score\n",
      "Class 0: 0.0000, Class 1: 0.5089, Class 2: 0.0008, Class 3: 0.3050, \n",
      "Class 4: 0.3935, Class 5: 0.3217, Class 6: 0.8343, \n",
      "Validation F-beta Score\n",
      "Class 0: 0.0000, Class 1: 0.4741, Class 2: 0.0065, Class 3: 0.3187, \n",
      "Class 4: 0.4062, Class 5: 0.2660, Class 6: 0.7792, \n",
      "Overall Mean Dice Score: 0.4727\n",
      "Overall Mean F-beta Score: 0.4489\n",
      "\n",
      "Training Loss: 0.5036, Validation Loss: 0.5171, Validation F-beta: 0.4489\n",
      "Epoch 317/4000\n",
      "Current lambda: 0.2900\n"
     ]
    },
    {
     "name": "stderr",
     "output_type": "stream",
     "text": [
      "Training: 100%|██████████| 24/24 [00:36<00:00,  1.54s/it, loss=0.491]\n",
      "Validation: 100%|██████████| 4/4 [00:02<00:00,  1.40it/s, loss=0.551]\n"
     ]
    },
    {
     "name": "stdout",
     "output_type": "stream",
     "text": [
      "Validation Dice Score\n",
      "Class 0: 0.0000, Class 1: 0.3892, Class 2: 0.0015, Class 3: 0.2710, \n",
      "Class 4: 0.4980, Class 5: 0.2475, Class 6: 0.6471, \n",
      "Validation F-beta Score\n",
      "Class 0: 0.0000, Class 1: 0.3969, Class 2: 0.0128, Class 3: 0.2686, \n",
      "Class 4: 0.5411, Class 5: 0.3295, Class 6: 0.6186, \n",
      "Overall Mean Dice Score: 0.4106\n",
      "Overall Mean F-beta Score: 0.4309\n",
      "\n",
      "Training Loss: 0.5049, Validation Loss: 0.5467, Validation F-beta: 0.4309\n",
      "Epoch 318/4000\n",
      "Current lambda: 0.2900\n"
     ]
    },
    {
     "name": "stderr",
     "output_type": "stream",
     "text": [
      "Training: 100%|██████████| 24/24 [00:36<00:00,  1.53s/it, loss=0.545]\n",
      "Validation: 100%|██████████| 4/4 [00:02<00:00,  1.42it/s, loss=0.497]\n"
     ]
    },
    {
     "name": "stdout",
     "output_type": "stream",
     "text": [
      "Validation Dice Score\n",
      "Class 0: 0.0000, Class 1: 0.3087, Class 2: 0.0013, Class 3: 0.1362, \n",
      "Class 4: 0.5445, Class 5: 0.4258, Class 6: 0.4074, \n",
      "Validation F-beta Score\n",
      "Class 0: 0.0000, Class 1: 0.3586, Class 2: 0.0108, Class 3: 0.1259, \n",
      "Class 4: 0.5100, Class 5: 0.4319, Class 6: 0.3879, \n",
      "Overall Mean Dice Score: 0.3645\n",
      "Overall Mean F-beta Score: 0.3629\n",
      "\n",
      "Training Loss: 0.5059, Validation Loss: 0.5426, Validation F-beta: 0.3629\n",
      "Epoch 319/4000\n",
      "Current lambda: 0.2900\n"
     ]
    },
    {
     "name": "stderr",
     "output_type": "stream",
     "text": [
      "Training: 100%|██████████| 24/24 [00:36<00:00,  1.53s/it, loss=0.491]\n",
      "Validation: 100%|██████████| 4/4 [00:02<00:00,  1.43it/s, loss=0.411]\n"
     ]
    },
    {
     "name": "stdout",
     "output_type": "stream",
     "text": [
      "Validation Dice Score\n",
      "Class 0: 0.0000, Class 1: 0.5577, Class 2: 0.0019, Class 3: 0.3208, \n",
      "Class 4: 0.4493, Class 5: 0.5672, Class 6: 0.8180, \n",
      "Validation F-beta Score\n",
      "Class 0: 0.0000, Class 1: 0.5231, Class 2: 0.0157, Class 3: 0.4010, \n",
      "Class 4: 0.4240, Class 5: 0.6041, Class 6: 0.7400, \n",
      "Overall Mean Dice Score: 0.5426\n",
      "Overall Mean F-beta Score: 0.5385\n",
      "\n",
      "Training Loss: 0.5135, Validation Loss: 0.4393, Validation F-beta: 0.5385\n",
      "Epoch 320/4000\n",
      "Current lambda: 0.2900\n"
     ]
    },
    {
     "name": "stderr",
     "output_type": "stream",
     "text": [
      "Training: 100%|██████████| 24/24 [00:36<00:00,  1.53s/it, loss=0.462]\n",
      "Validation: 100%|██████████| 4/4 [00:02<00:00,  1.37it/s, loss=0.509]\n"
     ]
    },
    {
     "name": "stdout",
     "output_type": "stream",
     "text": [
      "Validation Dice Score\n",
      "Class 0: 0.0000, Class 1: 0.8340, Class 2: 0.0009, Class 3: 0.2315, \n",
      "Class 4: 0.5497, Class 5: 0.1699, Class 6: 0.6417, \n",
      "Validation F-beta Score\n",
      "Class 0: 0.0000, Class 1: 0.7945, Class 2: 0.0076, Class 3: 0.2727, \n",
      "Class 4: 0.5256, Class 5: 0.1351, Class 6: 0.6721, \n",
      "Overall Mean Dice Score: 0.4854\n",
      "Overall Mean F-beta Score: 0.4800\n",
      "\n",
      "Training Loss: 0.5069, Validation Loss: 0.5100, Validation F-beta: 0.4800\n",
      "Epoch 321/4000\n",
      "Current lambda: 0.2900\n"
     ]
    },
    {
     "name": "stderr",
     "output_type": "stream",
     "text": [
      "Training: 100%|██████████| 24/24 [00:36<00:00,  1.53s/it, loss=0.552]\n",
      "Validation: 100%|██████████| 4/4 [00:02<00:00,  1.40it/s, loss=0.481]\n"
     ]
    },
    {
     "name": "stdout",
     "output_type": "stream",
     "text": [
      "Validation Dice Score\n",
      "Class 0: 0.0000, Class 1: 0.6697, Class 2: 0.0014, Class 3: 0.3171, \n",
      "Class 4: 0.5134, Class 5: 0.4209, Class 6: 0.8844, \n",
      "Validation F-beta Score\n",
      "Class 0: 0.0000, Class 1: 0.6739, Class 2: 0.0117, Class 3: 0.2645, \n",
      "Class 4: 0.5913, Class 5: 0.4165, Class 6: 0.8842, \n",
      "Overall Mean Dice Score: 0.5611\n",
      "Overall Mean F-beta Score: 0.5661\n",
      "\n",
      "Training Loss: 0.4982, Validation Loss: 0.4783, Validation F-beta: 0.5661\n",
      "Epoch 322/4000\n",
      "Current lambda: 0.2900\n"
     ]
    },
    {
     "name": "stderr",
     "output_type": "stream",
     "text": [
      "Training: 100%|██████████| 24/24 [00:37<00:00,  1.55s/it, loss=0.489]\n",
      "Validation: 100%|██████████| 4/4 [00:02<00:00,  1.42it/s, loss=0.552]\n"
     ]
    },
    {
     "name": "stdout",
     "output_type": "stream",
     "text": [
      "Validation Dice Score\n",
      "Class 0: 0.0000, Class 1: 0.7228, Class 2: 0.0012, Class 3: 0.3976, \n",
      "Class 4: 0.5540, Class 5: 0.3507, Class 6: 0.4558, \n",
      "Validation F-beta Score\n",
      "Class 0: 0.0000, Class 1: 0.8416, Class 2: 0.0099, Class 3: 0.4489, \n",
      "Class 4: 0.5069, Class 5: 0.3158, Class 6: 0.4505, \n",
      "Overall Mean Dice Score: 0.4962\n",
      "Overall Mean F-beta Score: 0.5127\n",
      "\n",
      "Training Loss: 0.5068, Validation Loss: 0.4842, Validation F-beta: 0.5127\n",
      "Epoch 323/4000\n",
      "Current lambda: 0.2900\n"
     ]
    },
    {
     "name": "stderr",
     "output_type": "stream",
     "text": [
      "Training: 100%|██████████| 24/24 [00:36<00:00,  1.53s/it, loss=0.533]\n",
      "Validation: 100%|██████████| 4/4 [00:02<00:00,  1.43it/s, loss=0.535]\n"
     ]
    },
    {
     "name": "stdout",
     "output_type": "stream",
     "text": [
      "Validation Dice Score\n",
      "Class 0: 0.0000, Class 1: 0.4208, Class 2: 0.0010, Class 3: 0.2458, \n",
      "Class 4: 0.6776, Class 5: 0.4255, Class 6: 0.4120, \n",
      "Validation F-beta Score\n",
      "Class 0: 0.0000, Class 1: 0.3883, Class 2: 0.0083, Class 3: 0.2597, \n",
      "Class 4: 0.6294, Class 5: 0.5094, Class 6: 0.4578, \n",
      "Overall Mean Dice Score: 0.4363\n",
      "Overall Mean F-beta Score: 0.4489\n",
      "\n",
      "Training Loss: 0.5153, Validation Loss: 0.4949, Validation F-beta: 0.4489\n",
      "Validation loss did not improve. Reducing lambda to 0.2800\n",
      "Epoch 324/4000\n",
      "Current lambda: 0.2800\n"
     ]
    },
    {
     "name": "stderr",
     "output_type": "stream",
     "text": [
      "Training: 100%|██████████| 24/24 [00:36<00:00,  1.53s/it, loss=0.446]\n",
      "Validation: 100%|██████████| 4/4 [00:02<00:00,  1.41it/s, loss=0.533]\n"
     ]
    },
    {
     "name": "stdout",
     "output_type": "stream",
     "text": [
      "Validation Dice Score\n",
      "Class 0: 0.0000, Class 1: 0.8006, Class 2: 0.0026, Class 3: 0.2557, \n",
      "Class 4: 0.4511, Class 5: 0.2711, Class 6: 0.8350, \n",
      "Validation F-beta Score\n",
      "Class 0: 0.0000, Class 1: 0.7902, Class 2: 0.0219, Class 3: 0.2377, \n",
      "Class 4: 0.4790, Class 5: 0.2984, Class 6: 0.7549, \n",
      "Overall Mean Dice Score: 0.5227\n",
      "Overall Mean F-beta Score: 0.5120\n",
      "\n",
      "Training Loss: 0.5053, Validation Loss: 0.4377, Validation F-beta: 0.5120\n",
      "Epoch 325/4000\n",
      "Current lambda: 0.2800\n"
     ]
    },
    {
     "name": "stderr",
     "output_type": "stream",
     "text": [
      "Training: 100%|██████████| 24/24 [00:36<00:00,  1.53s/it, loss=0.579]\n",
      "Validation: 100%|██████████| 4/4 [00:02<00:00,  1.41it/s, loss=0.438]\n"
     ]
    },
    {
     "name": "stdout",
     "output_type": "stream",
     "text": [
      "Validation Dice Score\n",
      "Class 0: 0.0000, Class 1: 0.6235, Class 2: 0.0006, Class 3: 0.0358, \n",
      "Class 4: 0.3929, Class 5: 0.3526, Class 6: 0.6661, \n",
      "Validation F-beta Score\n",
      "Class 0: 0.0000, Class 1: 0.8468, Class 2: 0.0052, Class 3: 0.0475, \n",
      "Class 4: 0.3486, Class 5: 0.3358, Class 6: 0.7043, \n",
      "Overall Mean Dice Score: 0.4142\n",
      "Overall Mean F-beta Score: 0.4566\n",
      "\n",
      "Training Loss: 0.5077, Validation Loss: 0.5145, Validation F-beta: 0.4566\n",
      "Epoch 326/4000\n",
      "Current lambda: 0.2800\n"
     ]
    },
    {
     "name": "stderr",
     "output_type": "stream",
     "text": [
      "Training: 100%|██████████| 24/24 [00:36<00:00,  1.54s/it, loss=0.581]\n",
      "Validation: 100%|██████████| 4/4 [00:02<00:00,  1.40it/s, loss=0.461]\n"
     ]
    },
    {
     "name": "stdout",
     "output_type": "stream",
     "text": [
      "Validation Dice Score\n",
      "Class 0: 0.0000, Class 1: 0.6760, Class 2: 0.0020, Class 3: 0.2648, \n",
      "Class 4: 0.4119, Class 5: 0.2457, Class 6: 0.4016, \n",
      "Validation F-beta Score\n",
      "Class 0: 0.0000, Class 1: 0.7534, Class 2: 0.0163, Class 3: 0.2420, \n",
      "Class 4: 0.3318, Class 5: 0.1827, Class 6: 0.4299, \n",
      "Overall Mean Dice Score: 0.4000\n",
      "Overall Mean F-beta Score: 0.3880\n",
      "\n",
      "Training Loss: 0.5115, Validation Loss: 0.5039, Validation F-beta: 0.3880\n",
      "Epoch 327/4000\n",
      "Current lambda: 0.2800\n"
     ]
    },
    {
     "name": "stderr",
     "output_type": "stream",
     "text": [
      "Training: 100%|██████████| 24/24 [00:36<00:00,  1.53s/it, loss=0.428]\n",
      "Validation: 100%|██████████| 4/4 [00:02<00:00,  1.44it/s, loss=0.418]\n"
     ]
    },
    {
     "name": "stdout",
     "output_type": "stream",
     "text": [
      "Validation Dice Score\n",
      "Class 0: 0.0000, Class 1: 0.7428, Class 2: 0.0004, Class 3: 0.3096, \n",
      "Class 4: 0.5207, Class 5: 0.4660, Class 6: 0.3959, \n",
      "Validation F-beta Score\n",
      "Class 0: 0.0000, Class 1: 0.8831, Class 2: 0.0032, Class 3: 0.3105, \n",
      "Class 4: 0.4654, Class 5: 0.3909, Class 6: 0.4516, \n",
      "Overall Mean Dice Score: 0.4870\n",
      "Overall Mean F-beta Score: 0.5003\n",
      "\n",
      "Training Loss: 0.5106, Validation Loss: 0.4754, Validation F-beta: 0.5003\n",
      "Epoch 328/4000\n",
      "Current lambda: 0.2800\n"
     ]
    },
    {
     "name": "stderr",
     "output_type": "stream",
     "text": [
      "Training: 100%|██████████| 24/24 [00:36<00:00,  1.54s/it, loss=0.45] \n",
      "Validation: 100%|██████████| 4/4 [00:02<00:00,  1.42it/s, loss=0.596]\n"
     ]
    },
    {
     "name": "stdout",
     "output_type": "stream",
     "text": [
      "Validation Dice Score\n",
      "Class 0: 0.0000, Class 1: 0.4319, Class 2: 0.0028, Class 3: 0.1932, \n",
      "Class 4: 0.4383, Class 5: 0.3473, Class 6: 0.2109, \n",
      "Validation F-beta Score\n",
      "Class 0: 0.0000, Class 1: 0.6210, Class 2: 0.0234, Class 3: 0.2091, \n",
      "Class 4: 0.3633, Class 5: 0.2840, Class 6: 0.2348, \n",
      "Overall Mean Dice Score: 0.3243\n",
      "Overall Mean F-beta Score: 0.3424\n",
      "\n",
      "Training Loss: 0.5213, Validation Loss: 0.5737, Validation F-beta: 0.3424\n",
      "Epoch 329/4000\n",
      "Current lambda: 0.2800\n"
     ]
    },
    {
     "name": "stderr",
     "output_type": "stream",
     "text": [
      "Training: 100%|██████████| 24/24 [00:36<00:00,  1.53s/it, loss=0.407]\n",
      "Validation: 100%|██████████| 4/4 [00:02<00:00,  1.40it/s, loss=0.566]\n"
     ]
    },
    {
     "name": "stdout",
     "output_type": "stream",
     "text": [
      "Validation Dice Score\n",
      "Class 0: 0.0000, Class 1: 0.5459, Class 2: 0.0011, Class 3: 0.3001, \n",
      "Class 4: 0.7118, Class 5: 0.2688, Class 6: 0.6911, \n",
      "Validation F-beta Score\n",
      "Class 0: 0.0000, Class 1: 0.5664, Class 2: 0.0090, Class 3: 0.3284, \n",
      "Class 4: 0.6217, Class 5: 0.2551, Class 6: 0.6774, \n",
      "Overall Mean Dice Score: 0.5035\n",
      "Overall Mean F-beta Score: 0.4898\n",
      "\n",
      "Training Loss: 0.4863, Validation Loss: 0.5030, Validation F-beta: 0.4898\n",
      "Epoch 330/4000\n",
      "Current lambda: 0.2800\n"
     ]
    },
    {
     "name": "stderr",
     "output_type": "stream",
     "text": [
      "Training: 100%|██████████| 24/24 [00:37<00:00,  1.54s/it, loss=0.5]  \n",
      "Validation: 100%|██████████| 4/4 [00:02<00:00,  1.42it/s, loss=0.499]\n"
     ]
    },
    {
     "name": "stdout",
     "output_type": "stream",
     "text": [
      "Validation Dice Score\n",
      "Class 0: 0.0000, Class 1: 0.6921, Class 2: 0.0012, Class 3: 0.2872, \n",
      "Class 4: 0.1428, Class 5: 0.1607, Class 6: 0.5852, \n",
      "Validation F-beta Score\n",
      "Class 0: 0.0000, Class 1: 0.6905, Class 2: 0.0098, Class 3: 0.3111, \n",
      "Class 4: 0.1215, Class 5: 0.1615, Class 6: 0.6223, \n",
      "Overall Mean Dice Score: 0.3736\n",
      "Overall Mean F-beta Score: 0.3814\n",
      "\n",
      "Training Loss: 0.4932, Validation Loss: 0.5360, Validation F-beta: 0.3814\n",
      "Epoch 331/4000\n",
      "Current lambda: 0.2800\n"
     ]
    },
    {
     "name": "stderr",
     "output_type": "stream",
     "text": [
      "Training: 100%|██████████| 24/24 [00:36<00:00,  1.53s/it, loss=0.599]\n",
      "Validation: 100%|██████████| 4/4 [00:02<00:00,  1.41it/s, loss=0.556]\n"
     ]
    },
    {
     "name": "stdout",
     "output_type": "stream",
     "text": [
      "Validation Dice Score\n",
      "Class 0: 0.0000, Class 1: 0.4718, Class 2: 0.0009, Class 3: 0.4309, \n",
      "Class 4: 0.4918, Class 5: 0.4158, Class 6: 0.4487, \n",
      "Validation F-beta Score\n",
      "Class 0: 0.0000, Class 1: 0.5310, Class 2: 0.0078, Class 3: 0.5437, \n",
      "Class 4: 0.4660, Class 5: 0.4261, Class 6: 0.6535, \n",
      "Overall Mean Dice Score: 0.4518\n",
      "Overall Mean F-beta Score: 0.5240\n",
      "\n",
      "Training Loss: 0.4905, Validation Loss: 0.4857, Validation F-beta: 0.5240\n",
      "Epoch 332/4000\n",
      "Current lambda: 0.2800\n"
     ]
    },
    {
     "name": "stderr",
     "output_type": "stream",
     "text": [
      "Training: 100%|██████████| 24/24 [00:36<00:00,  1.53s/it, loss=0.591]\n",
      "Validation: 100%|██████████| 4/4 [00:02<00:00,  1.44it/s, loss=0.552]\n"
     ]
    },
    {
     "name": "stdout",
     "output_type": "stream",
     "text": [
      "Validation Dice Score\n",
      "Class 0: 0.0000, Class 1: 0.3854, Class 2: 0.0030, Class 3: 0.2016, \n",
      "Class 4: 0.4424, Class 5: 0.3255, Class 6: 0.7858, \n",
      "Validation F-beta Score\n",
      "Class 0: 0.0000, Class 1: 0.6019, Class 2: 0.0247, Class 3: 0.1626, \n",
      "Class 4: 0.4927, Class 5: 0.2856, Class 6: 0.8582, \n",
      "Overall Mean Dice Score: 0.4282\n",
      "Overall Mean F-beta Score: 0.4802\n",
      "\n",
      "Training Loss: 0.5153, Validation Loss: 0.5252, Validation F-beta: 0.4802\n",
      "Epoch 333/4000\n",
      "Current lambda: 0.2800\n"
     ]
    },
    {
     "name": "stderr",
     "output_type": "stream",
     "text": [
      "Training: 100%|██████████| 24/24 [00:36<00:00,  1.54s/it, loss=0.437]\n",
      "Validation: 100%|██████████| 4/4 [00:02<00:00,  1.40it/s, loss=0.438]\n"
     ]
    },
    {
     "name": "stdout",
     "output_type": "stream",
     "text": [
      "Validation Dice Score\n",
      "Class 0: 0.0000, Class 1: 0.7697, Class 2: 0.0016, Class 3: 0.2644, \n",
      "Class 4: 0.4886, Class 5: 0.2228, Class 6: 0.5168, \n",
      "Validation F-beta Score\n",
      "Class 0: 0.0000, Class 1: 0.7245, Class 2: 0.0131, Class 3: 0.3052, \n",
      "Class 4: 0.4017, Class 5: 0.1884, Class 6: 0.6154, \n",
      "Overall Mean Dice Score: 0.4524\n",
      "Overall Mean F-beta Score: 0.4471\n",
      "\n",
      "Training Loss: 0.5116, Validation Loss: 0.4954, Validation F-beta: 0.4471\n",
      "Validation loss did not improve. Reducing lambda to 0.2700\n",
      "Epoch 334/4000\n",
      "Current lambda: 0.2700\n"
     ]
    },
    {
     "name": "stderr",
     "output_type": "stream",
     "text": [
      "Training: 100%|██████████| 24/24 [00:36<00:00,  1.54s/it, loss=0.439]\n",
      "Validation: 100%|██████████| 4/4 [00:02<00:00,  1.42it/s, loss=0.515]\n"
     ]
    },
    {
     "name": "stdout",
     "output_type": "stream",
     "text": [
      "Validation Dice Score\n",
      "Class 0: 0.0000, Class 1: 0.2293, Class 2: 0.0022, Class 3: 0.2968, \n",
      "Class 4: 0.5503, Class 5: 0.2736, Class 6: 0.2864, \n",
      "Validation F-beta Score\n",
      "Class 0: 0.0000, Class 1: 0.4906, Class 2: 0.0180, Class 3: 0.2364, \n",
      "Class 4: 0.5022, Class 5: 0.2478, Class 6: 0.4090, \n",
      "Overall Mean Dice Score: 0.3273\n",
      "Overall Mean F-beta Score: 0.3772\n",
      "\n",
      "Training Loss: 0.5042, Validation Loss: 0.5455, Validation F-beta: 0.3772\n",
      "Epoch 335/4000\n",
      "Current lambda: 0.2700\n"
     ]
    },
    {
     "name": "stderr",
     "output_type": "stream",
     "text": [
      "Training: 100%|██████████| 24/24 [00:37<00:00,  1.55s/it, loss=0.606]\n",
      "Validation: 100%|██████████| 4/4 [00:02<00:00,  1.37it/s, loss=0.474]\n"
     ]
    },
    {
     "name": "stdout",
     "output_type": "stream",
     "text": [
      "Validation Dice Score\n",
      "Class 0: 0.0000, Class 1: 0.4603, Class 2: 0.0023, Class 3: 0.2235, \n",
      "Class 4: 0.5762, Class 5: 0.4478, Class 6: 0.4572, \n",
      "Validation F-beta Score\n",
      "Class 0: 0.0000, Class 1: 0.7032, Class 2: 0.0190, Class 3: 0.2644, \n",
      "Class 4: 0.4894, Class 5: 0.4471, Class 6: 0.4595, \n",
      "Overall Mean Dice Score: 0.4330\n",
      "Overall Mean F-beta Score: 0.4727\n",
      "\n",
      "Training Loss: 0.5197, Validation Loss: 0.5160, Validation F-beta: 0.4727\n",
      "Epoch 336/4000\n",
      "Current lambda: 0.2700\n"
     ]
    },
    {
     "name": "stderr",
     "output_type": "stream",
     "text": [
      "Training: 100%|██████████| 24/24 [00:36<00:00,  1.54s/it, loss=0.457]\n",
      "Validation: 100%|██████████| 4/4 [00:02<00:00,  1.40it/s, loss=0.634]\n"
     ]
    },
    {
     "name": "stdout",
     "output_type": "stream",
     "text": [
      "Validation Dice Score\n",
      "Class 0: 0.0000, Class 1: 0.6068, Class 2: 0.0005, Class 3: 0.1044, \n",
      "Class 4: 0.5299, Class 5: 0.2705, Class 6: 0.6751, \n",
      "Validation F-beta Score\n",
      "Class 0: 0.0000, Class 1: 0.7800, Class 2: 0.0044, Class 3: 0.1350, \n",
      "Class 4: 0.4348, Class 5: 0.3140, Class 6: 0.7035, \n",
      "Overall Mean Dice Score: 0.4374\n",
      "Overall Mean F-beta Score: 0.4735\n",
      "\n",
      "Training Loss: 0.5018, Validation Loss: 0.5290, Validation F-beta: 0.4735\n",
      "Epoch 337/4000\n",
      "Current lambda: 0.2700\n"
     ]
    },
    {
     "name": "stderr",
     "output_type": "stream",
     "text": [
      "Training: 100%|██████████| 24/24 [00:36<00:00,  1.53s/it, loss=0.446]\n",
      "Validation: 100%|██████████| 4/4 [00:02<00:00,  1.40it/s, loss=0.611]\n"
     ]
    },
    {
     "name": "stdout",
     "output_type": "stream",
     "text": [
      "Validation Dice Score\n",
      "Class 0: 0.0000, Class 1: 0.2987, Class 2: 0.0011, Class 3: 0.2894, \n",
      "Class 4: 0.4654, Class 5: 0.3430, Class 6: 0.2347, \n",
      "Validation F-beta Score\n",
      "Class 0: 0.0000, Class 1: 0.3684, Class 2: 0.0093, Class 3: 0.3811, \n",
      "Class 4: 0.3900, Class 5: 0.3111, Class 6: 0.2244, \n",
      "Overall Mean Dice Score: 0.3262\n",
      "Overall Mean F-beta Score: 0.3350\n",
      "\n",
      "Training Loss: 0.5112, Validation Loss: 0.5737, Validation F-beta: 0.3350\n",
      "Epoch 338/4000\n",
      "Current lambda: 0.2700\n"
     ]
    },
    {
     "name": "stderr",
     "output_type": "stream",
     "text": [
      "Training: 100%|██████████| 24/24 [00:36<00:00,  1.54s/it, loss=0.415]\n",
      "Validation: 100%|██████████| 4/4 [00:02<00:00,  1.39it/s, loss=0.4]  \n"
     ]
    },
    {
     "name": "stdout",
     "output_type": "stream",
     "text": [
      "Validation Dice Score\n",
      "Class 0: 0.0000, Class 1: 0.6358, Class 2: 0.0022, Class 3: 0.2413, \n",
      "Class 4: 0.5301, Class 5: 0.2835, Class 6: 0.4435, \n",
      "Validation F-beta Score\n",
      "Class 0: 0.0000, Class 1: 0.6014, Class 2: 0.0179, Class 3: 0.2910, \n",
      "Class 4: 0.5108, Class 5: 0.3442, Class 6: 0.6846, \n",
      "Overall Mean Dice Score: 0.4268\n",
      "Overall Mean F-beta Score: 0.4864\n",
      "\n",
      "Training Loss: 0.5227, Validation Loss: 0.5203, Validation F-beta: 0.4864\n",
      "Epoch 339/4000\n",
      "Current lambda: 0.2700\n"
     ]
    },
    {
     "name": "stderr",
     "output_type": "stream",
     "text": [
      "Training: 100%|██████████| 24/24 [00:36<00:00,  1.54s/it, loss=0.503]\n",
      "Validation: 100%|██████████| 4/4 [00:02<00:00,  1.42it/s, loss=0.485]\n"
     ]
    },
    {
     "name": "stdout",
     "output_type": "stream",
     "text": [
      "Validation Dice Score\n",
      "Class 0: 0.0000, Class 1: 0.5931, Class 2: 0.0004, Class 3: 0.2710, \n",
      "Class 4: 0.6349, Class 5: 0.3164, Class 6: 0.4405, \n",
      "Validation F-beta Score\n",
      "Class 0: 0.0000, Class 1: 0.6187, Class 2: 0.0032, Class 3: 0.2317, \n",
      "Class 4: 0.5994, Class 5: 0.3310, Class 6: 0.4420, \n",
      "Overall Mean Dice Score: 0.4512\n",
      "Overall Mean F-beta Score: 0.4446\n",
      "\n",
      "Training Loss: 0.4949, Validation Loss: 0.4985, Validation F-beta: 0.4446\n",
      "Epoch 340/4000\n",
      "Current lambda: 0.2700\n"
     ]
    },
    {
     "name": "stderr",
     "output_type": "stream",
     "text": [
      "Training: 100%|██████████| 24/24 [00:37<00:00,  1.55s/it, loss=0.474]\n",
      "Validation: 100%|██████████| 4/4 [00:02<00:00,  1.38it/s, loss=0.476]\n"
     ]
    },
    {
     "name": "stdout",
     "output_type": "stream",
     "text": [
      "Validation Dice Score\n",
      "Class 0: 0.0000, Class 1: 0.5924, Class 2: 0.0011, Class 3: 0.4201, \n",
      "Class 4: 0.5196, Class 5: 0.4669, Class 6: 0.4552, \n",
      "Validation F-beta Score\n",
      "Class 0: 0.0000, Class 1: 0.7877, Class 2: 0.0092, Class 3: 0.4635, \n",
      "Class 4: 0.5333, Class 5: 0.5188, Class 6: 0.4436, \n",
      "Overall Mean Dice Score: 0.4908\n",
      "Overall Mean F-beta Score: 0.5494\n",
      "\n",
      "Training Loss: 0.5225, Validation Loss: 0.5028, Validation F-beta: 0.5494\n",
      "Epoch 341/4000\n",
      "Current lambda: 0.2700\n"
     ]
    },
    {
     "name": "stderr",
     "output_type": "stream",
     "text": [
      "Training: 100%|██████████| 24/24 [00:36<00:00,  1.53s/it, loss=0.403]\n",
      "Validation: 100%|██████████| 4/4 [00:02<00:00,  1.39it/s, loss=0.59] \n"
     ]
    },
    {
     "name": "stdout",
     "output_type": "stream",
     "text": [
      "Validation Dice Score\n",
      "Class 0: 0.0000, Class 1: 0.6965, Class 2: 0.0003, Class 3: 0.3292, \n",
      "Class 4: 0.3637, Class 5: 0.4813, Class 6: 0.6363, \n",
      "Validation F-beta Score\n",
      "Class 0: 0.0000, Class 1: 0.6486, Class 2: 0.0022, Class 3: 0.3347, \n",
      "Class 4: 0.3351, Class 5: 0.5672, Class 6: 0.5771, \n",
      "Overall Mean Dice Score: 0.5014\n",
      "Overall Mean F-beta Score: 0.4926\n",
      "\n",
      "Training Loss: 0.4900, Validation Loss: 0.5128, Validation F-beta: 0.4926\n",
      "Epoch 342/4000\n",
      "Current lambda: 0.2700\n"
     ]
    },
    {
     "name": "stderr",
     "output_type": "stream",
     "text": [
      "Training: 100%|██████████| 24/24 [00:36<00:00,  1.52s/it, loss=0.496]\n",
      "Validation: 100%|██████████| 4/4 [00:02<00:00,  1.42it/s, loss=0.572]\n"
     ]
    },
    {
     "name": "stdout",
     "output_type": "stream",
     "text": [
      "Validation Dice Score\n",
      "Class 0: 0.0000, Class 1: 0.3310, Class 2: 0.0008, Class 3: 0.3728, \n",
      "Class 4: 0.4530, Class 5: 0.4269, Class 6: 0.6891, \n",
      "Validation F-beta Score\n",
      "Class 0: 0.0000, Class 1: 0.3800, Class 2: 0.0067, Class 3: 0.3675, \n",
      "Class 4: 0.4538, Class 5: 0.4087, Class 6: 0.6579, \n",
      "Overall Mean Dice Score: 0.4546\n",
      "Overall Mean F-beta Score: 0.4536\n",
      "\n",
      "Training Loss: 0.4812, Validation Loss: 0.5000, Validation F-beta: 0.4536\n",
      "Epoch 343/4000\n",
      "Current lambda: 0.2700\n"
     ]
    },
    {
     "name": "stderr",
     "output_type": "stream",
     "text": [
      "Training: 100%|██████████| 24/24 [00:36<00:00,  1.53s/it, loss=0.521]\n",
      "Validation: 100%|██████████| 4/4 [00:02<00:00,  1.44it/s, loss=0.562]\n"
     ]
    },
    {
     "name": "stdout",
     "output_type": "stream",
     "text": [
      "Validation Dice Score\n",
      "Class 0: 0.0000, Class 1: 0.5438, Class 2: 0.0013, Class 3: 0.2189, \n",
      "Class 4: 0.4057, Class 5: 0.3128, Class 6: 0.8773, \n",
      "Validation F-beta Score\n",
      "Class 0: 0.0000, Class 1: 0.7374, Class 2: 0.0108, Class 3: 0.3283, \n",
      "Class 4: 0.4228, Class 5: 0.3327, Class 6: 0.9102, \n",
      "Overall Mean Dice Score: 0.4717\n",
      "Overall Mean F-beta Score: 0.5463\n",
      "\n",
      "Training Loss: 0.5015, Validation Loss: 0.5381, Validation F-beta: 0.5463\n",
      "Validation loss did not improve. Reducing lambda to 0.2600\n",
      "Epoch 344/4000\n",
      "Current lambda: 0.2600\n"
     ]
    },
    {
     "name": "stderr",
     "output_type": "stream",
     "text": [
      "Training: 100%|██████████| 24/24 [00:36<00:00,  1.53s/it, loss=0.353]\n",
      "Validation: 100%|██████████| 4/4 [00:02<00:00,  1.42it/s, loss=0.39] \n"
     ]
    },
    {
     "name": "stdout",
     "output_type": "stream",
     "text": [
      "Validation Dice Score\n",
      "Class 0: 0.0000, Class 1: 0.7812, Class 2: 0.0010, Class 3: 0.3976, \n",
      "Class 4: 0.4673, Class 5: 0.4702, Class 6: 0.8375, \n",
      "Validation F-beta Score\n",
      "Class 0: 0.0000, Class 1: 0.6899, Class 2: 0.0087, Class 3: 0.4101, \n",
      "Class 4: 0.4235, Class 5: 0.4338, Class 6: 0.7480, \n",
      "Overall Mean Dice Score: 0.5907\n",
      "Overall Mean F-beta Score: 0.5411\n",
      "\n",
      "Training Loss: 0.5109, Validation Loss: 0.4061, Validation F-beta: 0.5411\n",
      "========================================================\n",
      "Best model saved based on validation loss: 0.4061\n",
      "========================================================\n",
      "Epoch 345/4000\n",
      "Current lambda: 0.2600\n"
     ]
    },
    {
     "name": "stderr",
     "output_type": "stream",
     "text": [
      "Training: 100%|██████████| 24/24 [00:36<00:00,  1.53s/it, loss=0.523]\n",
      "Validation: 100%|██████████| 4/4 [00:02<00:00,  1.38it/s, loss=0.409]\n"
     ]
    },
    {
     "name": "stdout",
     "output_type": "stream",
     "text": [
      "Validation Dice Score\n",
      "Class 0: 0.0000, Class 1: 0.6003, Class 2: 0.0000, Class 3: 0.2817, \n",
      "Class 4: 0.4837, Class 5: 0.2545, Class 6: 0.4340, \n",
      "Validation F-beta Score\n",
      "Class 0: 0.0000, Class 1: 0.6028, Class 2: 0.0003, Class 3: 0.2292, \n",
      "Class 4: 0.3882, Class 5: 0.2103, Class 6: 0.4367, \n",
      "Overall Mean Dice Score: 0.4108\n",
      "Overall Mean F-beta Score: 0.3734\n",
      "\n",
      "Training Loss: 0.4796, Validation Loss: 0.5011, Validation F-beta: 0.3734\n",
      "Epoch 346/4000\n",
      "Current lambda: 0.2600\n"
     ]
    },
    {
     "name": "stderr",
     "output_type": "stream",
     "text": [
      "Training: 100%|██████████| 24/24 [00:36<00:00,  1.52s/it, loss=0.546]\n",
      "Validation: 100%|██████████| 4/4 [00:02<00:00,  1.42it/s, loss=0.435]\n"
     ]
    },
    {
     "name": "stdout",
     "output_type": "stream",
     "text": [
      "Validation Dice Score\n",
      "Class 0: 0.0000, Class 1: 0.6768, Class 2: 0.0006, Class 3: 0.1892, \n",
      "Class 4: 0.3588, Class 5: 0.2855, Class 6: 0.6780, \n",
      "Validation F-beta Score\n",
      "Class 0: 0.0000, Class 1: 0.8336, Class 2: 0.0050, Class 3: 0.1776, \n",
      "Class 4: 0.2719, Class 5: 0.2462, Class 6: 0.6633, \n",
      "Overall Mean Dice Score: 0.4377\n",
      "Overall Mean F-beta Score: 0.4385\n",
      "\n",
      "Training Loss: 0.5072, Validation Loss: 0.4833, Validation F-beta: 0.4385\n",
      "Epoch 347/4000\n",
      "Current lambda: 0.2600\n"
     ]
    },
    {
     "name": "stderr",
     "output_type": "stream",
     "text": [
      "Training: 100%|██████████| 24/24 [00:36<00:00,  1.53s/it, loss=0.408]\n",
      "Validation: 100%|██████████| 4/4 [00:02<00:00,  1.38it/s, loss=0.496]\n"
     ]
    },
    {
     "name": "stdout",
     "output_type": "stream",
     "text": [
      "Validation Dice Score\n",
      "Class 0: 0.0000, Class 1: 0.5105, Class 2: 0.0005, Class 3: 0.2551, \n",
      "Class 4: 0.6490, Class 5: 0.5137, Class 6: 0.3978, \n",
      "Validation F-beta Score\n",
      "Class 0: 0.0000, Class 1: 0.5564, Class 2: 0.0041, Class 3: 0.2484, \n",
      "Class 4: 0.5439, Class 5: 0.4877, Class 6: 0.3860, \n",
      "Overall Mean Dice Score: 0.4652\n",
      "Overall Mean F-beta Score: 0.4445\n",
      "\n",
      "Training Loss: 0.5137, Validation Loss: 0.5017, Validation F-beta: 0.4445\n",
      "Epoch 348/4000\n",
      "Current lambda: 0.2600\n"
     ]
    },
    {
     "name": "stderr",
     "output_type": "stream",
     "text": [
      "Training: 100%|██████████| 24/24 [00:36<00:00,  1.53s/it, loss=0.438]\n",
      "Validation: 100%|██████████| 4/4 [00:02<00:00,  1.46it/s, loss=0.446]\n"
     ]
    },
    {
     "name": "stdout",
     "output_type": "stream",
     "text": [
      "Validation Dice Score\n",
      "Class 0: 0.0000, Class 1: 0.6320, Class 2: 0.0018, Class 3: 0.3508, \n",
      "Class 4: 0.5436, Class 5: 0.4683, Class 6: 0.8293, \n",
      "Validation F-beta Score\n",
      "Class 0: 0.0000, Class 1: 0.5905, Class 2: 0.0145, Class 3: 0.3867, \n",
      "Class 4: 0.6302, Class 5: 0.4665, Class 6: 0.7807, \n",
      "Overall Mean Dice Score: 0.5648\n",
      "Overall Mean F-beta Score: 0.5709\n",
      "\n",
      "Training Loss: 0.4697, Validation Loss: 0.4688, Validation F-beta: 0.5709\n",
      "Epoch 349/4000\n",
      "Current lambda: 0.2600\n"
     ]
    },
    {
     "name": "stderr",
     "output_type": "stream",
     "text": [
      "Training: 100%|██████████| 24/24 [00:36<00:00,  1.53s/it, loss=0.499]\n",
      "Validation: 100%|██████████| 4/4 [00:02<00:00,  1.40it/s, loss=0.559]\n"
     ]
    },
    {
     "name": "stdout",
     "output_type": "stream",
     "text": [
      "Validation Dice Score\n",
      "Class 0: 0.0000, Class 1: 0.6247, Class 2: 0.0017, Class 3: 0.2868, \n",
      "Class 4: 0.2818, Class 5: 0.4585, Class 6: 0.5656, \n",
      "Validation F-beta Score\n",
      "Class 0: 0.0000, Class 1: 0.5983, Class 2: 0.0142, Class 3: 0.3631, \n",
      "Class 4: 0.2694, Class 5: 0.5090, Class 6: 0.7638, \n",
      "Overall Mean Dice Score: 0.4435\n",
      "Overall Mean F-beta Score: 0.5007\n",
      "\n",
      "Training Loss: 0.4959, Validation Loss: 0.4872, Validation F-beta: 0.5007\n",
      "Epoch 350/4000\n",
      "Current lambda: 0.2600\n"
     ]
    },
    {
     "name": "stderr",
     "output_type": "stream",
     "text": [
      "Training: 100%|██████████| 24/24 [00:36<00:00,  1.52s/it, loss=0.556]\n",
      "Validation: 100%|██████████| 4/4 [00:02<00:00,  1.44it/s, loss=0.408]\n"
     ]
    },
    {
     "name": "stdout",
     "output_type": "stream",
     "text": [
      "Validation Dice Score\n",
      "Class 0: 0.0000, Class 1: 0.6067, Class 2: 0.0027, Class 3: 0.3780, \n",
      "Class 4: 0.5214, Class 5: 0.3951, Class 6: 0.5525, \n",
      "Validation F-beta Score\n",
      "Class 0: 0.0000, Class 1: 0.5648, Class 2: 0.0228, Class 3: 0.3816, \n",
      "Class 4: 0.4210, Class 5: 0.3405, Class 6: 0.4882, \n",
      "Overall Mean Dice Score: 0.4907\n",
      "Overall Mean F-beta Score: 0.4392\n",
      "\n",
      "Training Loss: 0.4963, Validation Loss: 0.4593, Validation F-beta: 0.4392\n",
      "Epoch 351/4000\n",
      "Current lambda: 0.2600\n"
     ]
    },
    {
     "name": "stderr",
     "output_type": "stream",
     "text": [
      "Training: 100%|██████████| 24/24 [00:36<00:00,  1.53s/it, loss=0.495]\n",
      "Validation: 100%|██████████| 4/4 [00:02<00:00,  1.44it/s, loss=0.461]\n"
     ]
    },
    {
     "name": "stdout",
     "output_type": "stream",
     "text": [
      "Validation Dice Score\n",
      "Class 0: 0.0000, Class 1: 0.5415, Class 2: 0.0009, Class 3: 0.5017, \n",
      "Class 4: 0.4462, Class 5: 0.3122, Class 6: 0.6719, \n",
      "Validation F-beta Score\n",
      "Class 0: 0.0000, Class 1: 0.5540, Class 2: 0.0073, Class 3: 0.5522, \n",
      "Class 4: 0.3880, Class 5: 0.2972, Class 6: 0.6671, \n",
      "Overall Mean Dice Score: 0.4947\n",
      "Overall Mean F-beta Score: 0.4917\n",
      "\n",
      "Training Loss: 0.4980, Validation Loss: 0.5028, Validation F-beta: 0.4917\n",
      "Epoch 352/4000\n",
      "Current lambda: 0.2600\n"
     ]
    },
    {
     "name": "stderr",
     "output_type": "stream",
     "text": [
      "Training: 100%|██████████| 24/24 [00:36<00:00,  1.52s/it, loss=0.542]\n",
      "Validation: 100%|██████████| 4/4 [00:02<00:00,  1.43it/s, loss=0.505]\n"
     ]
    },
    {
     "name": "stdout",
     "output_type": "stream",
     "text": [
      "Validation Dice Score\n",
      "Class 0: 0.0000, Class 1: 0.5537, Class 2: 0.0021, Class 3: 0.4033, \n",
      "Class 4: 0.6148, Class 5: 0.3786, Class 6: 0.6796, \n",
      "Validation F-beta Score\n",
      "Class 0: 0.0000, Class 1: 0.6603, Class 2: 0.0174, Class 3: 0.4668, \n",
      "Class 4: 0.6047, Class 5: 0.3078, Class 6: 0.8358, \n",
      "Overall Mean Dice Score: 0.5260\n",
      "Overall Mean F-beta Score: 0.5751\n",
      "\n",
      "Training Loss: 0.5055, Validation Loss: 0.4873, Validation F-beta: 0.5751\n",
      "Epoch 353/4000\n",
      "Current lambda: 0.2600\n"
     ]
    },
    {
     "name": "stderr",
     "output_type": "stream",
     "text": [
      "Training: 100%|██████████| 24/24 [00:36<00:00,  1.52s/it, loss=0.465]\n",
      "Validation: 100%|██████████| 4/4 [00:02<00:00,  1.41it/s, loss=0.525]\n"
     ]
    },
    {
     "name": "stdout",
     "output_type": "stream",
     "text": [
      "Validation Dice Score\n",
      "Class 0: 0.0000, Class 1: 0.3812, Class 2: 0.0015, Class 3: 0.3617, \n",
      "Class 4: 0.5805, Class 5: 0.4940, Class 6: 0.1040, \n",
      "Validation F-beta Score\n",
      "Class 0: 0.0000, Class 1: 0.6019, Class 2: 0.0124, Class 3: 0.3600, \n",
      "Class 4: 0.5643, Class 5: 0.4482, Class 6: 0.1498, \n",
      "Overall Mean Dice Score: 0.3843\n",
      "Overall Mean F-beta Score: 0.4248\n",
      "\n",
      "Training Loss: 0.4984, Validation Loss: 0.5225, Validation F-beta: 0.4248\n",
      "Validation loss did not improve. Reducing lambda to 0.2500\n",
      "Epoch 354/4000\n",
      "Current lambda: 0.2500\n"
     ]
    },
    {
     "name": "stderr",
     "output_type": "stream",
     "text": [
      "Training: 100%|██████████| 24/24 [00:36<00:00,  1.53s/it, loss=0.554]\n",
      "Validation: 100%|██████████| 4/4 [00:02<00:00,  1.41it/s, loss=0.467]\n"
     ]
    },
    {
     "name": "stdout",
     "output_type": "stream",
     "text": [
      "Validation Dice Score\n",
      "Class 0: 0.0000, Class 1: 0.6216, Class 2: 0.0009, Class 3: 0.2690, \n",
      "Class 4: 0.5792, Class 5: 0.3570, Class 6: 0.4640, \n",
      "Validation F-beta Score\n",
      "Class 0: 0.0000, Class 1: 0.6188, Class 2: 0.0073, Class 3: 0.3326, \n",
      "Class 4: 0.5695, Class 5: 0.3749, Class 6: 0.4860, \n",
      "Overall Mean Dice Score: 0.4582\n",
      "Overall Mean F-beta Score: 0.4764\n",
      "\n",
      "Training Loss: 0.5221, Validation Loss: 0.4869, Validation F-beta: 0.4764\n",
      "Epoch 355/4000\n",
      "Current lambda: 0.2500\n"
     ]
    },
    {
     "name": "stderr",
     "output_type": "stream",
     "text": [
      "Training: 100%|██████████| 24/24 [00:36<00:00,  1.53s/it, loss=0.616]\n",
      "Validation: 100%|██████████| 4/4 [00:02<00:00,  1.43it/s, loss=0.302]\n"
     ]
    },
    {
     "name": "stdout",
     "output_type": "stream",
     "text": [
      "Validation Dice Score\n",
      "Class 0: 0.0000, Class 1: 0.6510, Class 2: 0.0026, Class 3: 0.1950, \n",
      "Class 4: 0.4288, Class 5: 0.3562, Class 6: 0.6808, \n",
      "Validation F-beta Score\n",
      "Class 0: 0.0000, Class 1: 0.5645, Class 2: 0.0214, Class 3: 0.2065, \n",
      "Class 4: 0.5592, Class 5: 0.2811, Class 6: 0.6589, \n",
      "Overall Mean Dice Score: 0.4624\n",
      "Overall Mean F-beta Score: 0.4540\n",
      "\n",
      "Training Loss: 0.5111, Validation Loss: 0.4685, Validation F-beta: 0.4540\n",
      "Epoch 356/4000\n",
      "Current lambda: 0.2500\n"
     ]
    },
    {
     "name": "stderr",
     "output_type": "stream",
     "text": [
      "Training: 100%|██████████| 24/24 [00:36<00:00,  1.53s/it, loss=0.505]\n",
      "Validation: 100%|██████████| 4/4 [00:02<00:00,  1.42it/s, loss=0.481]\n"
     ]
    },
    {
     "name": "stdout",
     "output_type": "stream",
     "text": [
      "Validation Dice Score\n",
      "Class 0: 0.0000, Class 1: 0.7269, Class 2: 0.0009, Class 3: 0.2887, \n",
      "Class 4: 0.4520, Class 5: 0.2526, Class 6: 0.6989, \n",
      "Validation F-beta Score\n",
      "Class 0: 0.0000, Class 1: 0.7770, Class 2: 0.0075, Class 3: 0.2572, \n",
      "Class 4: 0.4374, Class 5: 0.3254, Class 6: 0.7004, \n",
      "Overall Mean Dice Score: 0.4838\n",
      "Overall Mean F-beta Score: 0.4995\n",
      "\n",
      "Training Loss: 0.4923, Validation Loss: 0.5029, Validation F-beta: 0.4995\n",
      "Epoch 357/4000\n",
      "Current lambda: 0.2500\n"
     ]
    },
    {
     "name": "stderr",
     "output_type": "stream",
     "text": [
      "Training: 100%|██████████| 24/24 [00:36<00:00,  1.52s/it, loss=0.42] \n",
      "Validation: 100%|██████████| 4/4 [00:02<00:00,  1.43it/s, loss=0.446]\n"
     ]
    },
    {
     "name": "stdout",
     "output_type": "stream",
     "text": [
      "Validation Dice Score\n",
      "Class 0: 0.0000, Class 1: 0.4998, Class 2: 0.0012, Class 3: 0.2715, \n",
      "Class 4: 0.3786, Class 5: 0.3930, Class 6: 0.8793, \n",
      "Validation F-beta Score\n",
      "Class 0: 0.0000, Class 1: 0.7781, Class 2: 0.0105, Class 3: 0.2871, \n",
      "Class 4: 0.4145, Class 5: 0.3442, Class 6: 0.8528, \n",
      "Overall Mean Dice Score: 0.4844\n",
      "Overall Mean F-beta Score: 0.5353\n",
      "\n",
      "Training Loss: 0.5197, Validation Loss: 0.5094, Validation F-beta: 0.5353\n",
      "Epoch 358/4000\n",
      "Current lambda: 0.2500\n"
     ]
    },
    {
     "name": "stderr",
     "output_type": "stream",
     "text": [
      "Training: 100%|██████████| 24/24 [00:37<00:00,  1.55s/it, loss=0.47] \n",
      "Validation: 100%|██████████| 4/4 [00:02<00:00,  1.41it/s, loss=0.427]\n"
     ]
    },
    {
     "name": "stdout",
     "output_type": "stream",
     "text": [
      "Validation Dice Score\n",
      "Class 0: 0.0000, Class 1: 0.5512, Class 2: 0.0021, Class 3: 0.1896, \n",
      "Class 4: 0.4691, Class 5: 0.3376, Class 6: 0.6173, \n",
      "Validation F-beta Score\n",
      "Class 0: 0.0000, Class 1: 0.5144, Class 2: 0.0175, Class 3: 0.2196, \n",
      "Class 4: 0.3478, Class 5: 0.2942, Class 6: 0.5484, \n",
      "Overall Mean Dice Score: 0.4330\n",
      "Overall Mean F-beta Score: 0.3849\n",
      "\n",
      "Training Loss: 0.4776, Validation Loss: 0.4841, Validation F-beta: 0.3849\n",
      "Epoch 359/4000\n",
      "Current lambda: 0.2500\n"
     ]
    },
    {
     "name": "stderr",
     "output_type": "stream",
     "text": [
      "Training: 100%|██████████| 24/24 [00:36<00:00,  1.52s/it, loss=0.536]\n",
      "Validation: 100%|██████████| 4/4 [00:02<00:00,  1.42it/s, loss=0.48] \n"
     ]
    },
    {
     "name": "stdout",
     "output_type": "stream",
     "text": [
      "Validation Dice Score\n",
      "Class 0: 0.0000, Class 1: 0.7677, Class 2: 0.0029, Class 3: 0.4111, \n",
      "Class 4: 0.4970, Class 5: 0.4273, Class 6: 0.6537, \n",
      "Validation F-beta Score\n",
      "Class 0: 0.0000, Class 1: 0.7490, Class 2: 0.0238, Class 3: 0.3843, \n",
      "Class 4: 0.5245, Class 5: 0.3585, Class 6: 0.6412, \n",
      "Overall Mean Dice Score: 0.5513\n",
      "Overall Mean F-beta Score: 0.5315\n",
      "\n",
      "Training Loss: 0.4897, Validation Loss: 0.4701, Validation F-beta: 0.5315\n",
      "Epoch 360/4000\n",
      "Current lambda: 0.2500\n"
     ]
    },
    {
     "name": "stderr",
     "output_type": "stream",
     "text": [
      "Training: 100%|██████████| 24/24 [00:36<00:00,  1.53s/it, loss=0.518]\n",
      "Validation: 100%|██████████| 4/4 [00:02<00:00,  1.44it/s, loss=0.52] \n"
     ]
    },
    {
     "name": "stdout",
     "output_type": "stream",
     "text": [
      "Validation Dice Score\n",
      "Class 0: 0.0000, Class 1: 0.5019, Class 2: 0.0012, Class 3: 0.1036, \n",
      "Class 4: 0.6108, Class 5: 0.3530, Class 6: 0.4594, \n",
      "Validation F-beta Score\n",
      "Class 0: 0.0000, Class 1: 0.4138, Class 2: 0.0102, Class 3: 0.0792, \n",
      "Class 4: 0.5516, Class 5: 0.3468, Class 6: 0.4908, \n",
      "Overall Mean Dice Score: 0.4057\n",
      "Overall Mean F-beta Score: 0.3764\n",
      "\n",
      "Training Loss: 0.4966, Validation Loss: 0.5176, Validation F-beta: 0.3764\n",
      "Epoch 361/4000\n",
      "Current lambda: 0.2500\n"
     ]
    },
    {
     "name": "stderr",
     "output_type": "stream",
     "text": [
      "Training: 100%|██████████| 24/24 [00:36<00:00,  1.53s/it, loss=0.407]\n",
      "Validation: 100%|██████████| 4/4 [00:02<00:00,  1.41it/s, loss=0.501]\n"
     ]
    },
    {
     "name": "stdout",
     "output_type": "stream",
     "text": [
      "Validation Dice Score\n",
      "Class 0: 0.0000, Class 1: 0.4222, Class 2: 0.0022, Class 3: 0.3278, \n",
      "Class 4: 0.4053, Class 5: 0.2730, Class 6: 0.4338, \n",
      "Validation F-beta Score\n",
      "Class 0: 0.0000, Class 1: 0.5915, Class 2: 0.0187, Class 3: 0.3149, \n",
      "Class 4: 0.4310, Class 5: 0.2505, Class 6: 0.3943, \n",
      "Overall Mean Dice Score: 0.3724\n",
      "Overall Mean F-beta Score: 0.3964\n",
      "\n",
      "Training Loss: 0.4720, Validation Loss: 0.4631, Validation F-beta: 0.3964\n",
      "Epoch 362/4000\n",
      "Current lambda: 0.2500\n"
     ]
    },
    {
     "name": "stderr",
     "output_type": "stream",
     "text": [
      "Training: 100%|██████████| 24/24 [00:36<00:00,  1.52s/it, loss=0.314]\n",
      "Validation: 100%|██████████| 4/4 [00:02<00:00,  1.47it/s, loss=0.645]\n"
     ]
    },
    {
     "name": "stdout",
     "output_type": "stream",
     "text": [
      "Validation Dice Score\n",
      "Class 0: 0.0000, Class 1: 0.4069, Class 2: 0.0011, Class 3: 0.2610, \n",
      "Class 4: 0.7228, Class 5: 0.2633, Class 6: 0.3425, \n",
      "Validation F-beta Score\n",
      "Class 0: 0.0000, Class 1: 0.6244, Class 2: 0.0095, Class 3: 0.3496, \n",
      "Class 4: 0.6440, Class 5: 0.2396, Class 6: 0.8360, \n",
      "Overall Mean Dice Score: 0.3993\n",
      "Overall Mean F-beta Score: 0.5387\n",
      "\n",
      "Training Loss: 0.4600, Validation Loss: 0.5245, Validation F-beta: 0.5387\n",
      "Epoch 363/4000\n",
      "Current lambda: 0.2500\n"
     ]
    },
    {
     "name": "stderr",
     "output_type": "stream",
     "text": [
      "Training: 100%|██████████| 24/24 [00:36<00:00,  1.52s/it, loss=0.322]\n",
      "Validation: 100%|██████████| 4/4 [00:02<00:00,  1.41it/s, loss=0.567]\n"
     ]
    },
    {
     "name": "stdout",
     "output_type": "stream",
     "text": [
      "Validation Dice Score\n",
      "Class 0: 0.0000, Class 1: 0.0000, Class 2: 0.0018, Class 3: 0.2249, \n",
      "Class 4: 0.3786, Class 5: 0.2685, Class 6: 0.1701, \n",
      "Validation F-beta Score\n",
      "Class 0: 0.0000, Class 1: 0.0000, Class 2: 0.0146, Class 3: 0.1906, \n",
      "Class 4: 0.2629, Class 5: 0.2243, Class 6: 0.6299, \n",
      "Overall Mean Dice Score: 0.2084\n",
      "Overall Mean F-beta Score: 0.2616\n",
      "\n",
      "Training Loss: 0.4516, Validation Loss: 0.5050, Validation F-beta: 0.2616\n",
      "Validation loss did not improve. Reducing lambda to 0.2400\n",
      "Epoch 364/4000\n",
      "Current lambda: 0.2400\n"
     ]
    },
    {
     "name": "stderr",
     "output_type": "stream",
     "text": [
      "Training: 100%|██████████| 24/24 [00:36<00:00,  1.53s/it, loss=0.415]\n",
      "Validation: 100%|██████████| 4/4 [00:02<00:00,  1.41it/s, loss=0.543]\n"
     ]
    },
    {
     "name": "stdout",
     "output_type": "stream",
     "text": [
      "Validation Dice Score\n",
      "Class 0: 0.0000, Class 1: 0.0000, Class 2: 0.0004, Class 3: 0.2467, \n",
      "Class 4: 0.4177, Class 5: 0.2621, Class 6: 0.2161, \n",
      "Validation F-beta Score\n",
      "Class 0: 0.0000, Class 1: 0.0000, Class 2: 0.0037, Class 3: 0.2737, \n",
      "Class 4: 0.4246, Class 5: 0.2518, Class 6: 0.1343, \n",
      "Overall Mean Dice Score: 0.2285\n",
      "Overall Mean F-beta Score: 0.2169\n",
      "\n",
      "Training Loss: 0.4572, Validation Loss: 0.5154, Validation F-beta: 0.2169\n",
      "Epoch 365/4000\n",
      "Current lambda: 0.2400\n"
     ]
    },
    {
     "name": "stderr",
     "output_type": "stream",
     "text": [
      "Training: 100%|██████████| 24/24 [00:37<00:00,  1.54s/it, loss=0.539]\n",
      "Validation: 100%|██████████| 4/4 [00:02<00:00,  1.38it/s, loss=0.409]\n"
     ]
    },
    {
     "name": "stdout",
     "output_type": "stream",
     "text": [
      "Validation Dice Score\n",
      "Class 0: 0.0000, Class 1: 0.0000, Class 2: 0.0021, Class 3: 0.2432, \n",
      "Class 4: 0.5753, Class 5: 0.4268, Class 6: 0.3942, \n",
      "Validation F-beta Score\n",
      "Class 0: 0.0000, Class 1: 0.7500, Class 2: 0.0172, Class 3: 0.2958, \n",
      "Class 4: 0.5750, Class 5: 0.4568, Class 6: 0.5349, \n",
      "Overall Mean Dice Score: 0.3279\n",
      "Overall Mean F-beta Score: 0.5225\n",
      "\n",
      "Training Loss: 0.4834, Validation Loss: 0.3808, Validation F-beta: 0.5225\n",
      "========================================================\n",
      "Best model saved based on validation loss: 0.3808\n",
      "========================================================\n",
      "Epoch 366/4000\n",
      "Current lambda: 0.2400\n"
     ]
    },
    {
     "name": "stderr",
     "output_type": "stream",
     "text": [
      "Training: 100%|██████████| 24/24 [00:36<00:00,  1.54s/it, loss=0.494]\n",
      "Validation: 100%|██████████| 4/4 [00:02<00:00,  1.46it/s, loss=0.421]\n"
     ]
    },
    {
     "name": "stdout",
     "output_type": "stream",
     "text": [
      "Validation Dice Score\n",
      "Class 0: 0.0000, Class 1: 0.0000, Class 2: 0.0004, Class 3: 0.4688, \n",
      "Class 4: 0.5105, Class 5: 0.1143, Class 6: 0.0000, \n",
      "Validation F-beta Score\n",
      "Class 0: 0.0000, Class 1: 0.2500, Class 2: 0.0031, Class 3: 0.4432, \n",
      "Class 4: 0.4534, Class 5: 0.0958, Class 6: 0.2500, \n",
      "Overall Mean Dice Score: 0.2187\n",
      "Overall Mean F-beta Score: 0.2985\n",
      "\n",
      "Training Loss: 0.4969, Validation Loss: 0.4588, Validation F-beta: 0.2985\n",
      "Epoch 367/4000\n",
      "Current lambda: 0.2400\n"
     ]
    },
    {
     "name": "stderr",
     "output_type": "stream",
     "text": [
      "Training: 100%|██████████| 24/24 [00:36<00:00,  1.54s/it, loss=0.451]\n",
      "Validation: 100%|██████████| 4/4 [00:02<00:00,  1.39it/s, loss=0.505]\n"
     ]
    },
    {
     "name": "stdout",
     "output_type": "stream",
     "text": [
      "Validation Dice Score\n",
      "Class 0: 0.0000, Class 1: 0.0000, Class 2: 0.0012, Class 3: 0.3326, \n",
      "Class 4: 0.4197, Class 5: 0.3149, Class 6: 0.0000, \n",
      "Validation F-beta Score\n",
      "Class 0: 0.0000, Class 1: 0.2500, Class 2: 0.0097, Class 3: 0.3029, \n",
      "Class 4: 0.3498, Class 5: 0.3023, Class 6: 0.2500, \n",
      "Overall Mean Dice Score: 0.2134\n",
      "Overall Mean F-beta Score: 0.2910\n",
      "\n",
      "Training Loss: 0.5012, Validation Loss: 0.4806, Validation F-beta: 0.2910\n",
      "Epoch 368/4000\n",
      "Current lambda: 0.2400\n"
     ]
    },
    {
     "name": "stderr",
     "output_type": "stream",
     "text": [
      "Training: 100%|██████████| 24/24 [00:36<00:00,  1.54s/it, loss=0.517]\n",
      "Validation: 100%|██████████| 4/4 [00:02<00:00,  1.41it/s, loss=0.461]\n"
     ]
    },
    {
     "name": "stdout",
     "output_type": "stream",
     "text": [
      "Validation Dice Score\n",
      "Class 0: 0.0000, Class 1: 0.0000, Class 2: 0.0015, Class 3: 0.3468, \n",
      "Class 4: 0.5565, Class 5: 0.2692, Class 6: 0.0000, \n",
      "Validation F-beta Score\n",
      "Class 0: 0.0000, Class 1: 0.0000, Class 2: 0.0124, Class 3: 0.3444, \n",
      "Class 4: 0.4562, Class 5: 0.2772, Class 6: 0.2500, \n",
      "Overall Mean Dice Score: 0.2345\n",
      "Overall Mean F-beta Score: 0.2656\n",
      "\n",
      "Training Loss: 0.5124, Validation Loss: 0.5019, Validation F-beta: 0.2656\n",
      "Epoch 369/4000\n",
      "Current lambda: 0.2400\n"
     ]
    },
    {
     "name": "stderr",
     "output_type": "stream",
     "text": [
      "Training: 100%|██████████| 24/24 [00:36<00:00,  1.54s/it, loss=0.624]\n",
      "Validation: 100%|██████████| 4/4 [00:02<00:00,  1.44it/s, loss=0.664]\n"
     ]
    },
    {
     "name": "stdout",
     "output_type": "stream",
     "text": [
      "Validation Dice Score\n",
      "Class 0: 0.0000, Class 1: 0.0000, Class 2: 0.0028, Class 3: 0.5574, \n",
      "Class 4: 0.2308, Class 5: 0.2745, Class 6: 0.0000, \n",
      "Validation F-beta Score\n",
      "Class 0: 0.0000, Class 1: 0.2500, Class 2: 0.0230, Class 3: 0.5412, \n",
      "Class 4: 0.1615, Class 5: 0.2250, Class 6: 0.5000, \n",
      "Overall Mean Dice Score: 0.2125\n",
      "Overall Mean F-beta Score: 0.3355\n",
      "\n",
      "Training Loss: 0.5051, Validation Loss: 0.4825, Validation F-beta: 0.3355\n",
      "Epoch 370/4000\n",
      "Current lambda: 0.2400\n"
     ]
    },
    {
     "name": "stderr",
     "output_type": "stream",
     "text": [
      "Training: 100%|██████████| 24/24 [00:36<00:00,  1.53s/it, loss=0.456]\n",
      "Validation: 100%|██████████| 4/4 [00:02<00:00,  1.41it/s, loss=0.406]\n"
     ]
    },
    {
     "name": "stdout",
     "output_type": "stream",
     "text": [
      "Validation Dice Score\n",
      "Class 0: 0.0000, Class 1: 0.0000, Class 2: 0.0014, Class 3: 0.2809, \n",
      "Class 4: 0.3773, Class 5: 0.4043, Class 6: 0.0000, \n",
      "Validation F-beta Score\n",
      "Class 0: 0.0000, Class 1: 0.0000, Class 2: 0.0111, Class 3: 0.2538, \n",
      "Class 4: 0.3815, Class 5: 0.3662, Class 6: 0.2500, \n",
      "Overall Mean Dice Score: 0.2125\n",
      "Overall Mean F-beta Score: 0.2503\n",
      "\n",
      "Training Loss: 0.5082, Validation Loss: 0.5390, Validation F-beta: 0.2503\n",
      "Epoch 371/4000\n",
      "Current lambda: 0.2400\n"
     ]
    },
    {
     "name": "stderr",
     "output_type": "stream",
     "text": [
      "Training: 100%|██████████| 24/24 [00:36<00:00,  1.53s/it, loss=0.623]\n",
      "Validation: 100%|██████████| 4/4 [00:02<00:00,  1.36it/s, loss=0.549]\n"
     ]
    },
    {
     "name": "stdout",
     "output_type": "stream",
     "text": [
      "Validation Dice Score\n",
      "Class 0: 0.0000, Class 1: 0.0000, Class 2: 0.0020, Class 3: 0.2752, \n",
      "Class 4: 0.4279, Class 5: 0.4425, Class 6: 0.0000, \n",
      "Validation F-beta Score\n",
      "Class 0: 0.0000, Class 1: 0.2500, Class 2: 0.0169, Class 3: 0.2569, \n",
      "Class 4: 0.4144, Class 5: 0.3827, Class 6: 0.0000, \n",
      "Overall Mean Dice Score: 0.2291\n",
      "Overall Mean F-beta Score: 0.2608\n",
      "\n",
      "Training Loss: 0.4805, Validation Loss: 0.4668, Validation F-beta: 0.2608\n",
      "Epoch 372/4000\n",
      "Current lambda: 0.2400\n"
     ]
    },
    {
     "name": "stderr",
     "output_type": "stream",
     "text": [
      "Training: 100%|██████████| 24/24 [00:36<00:00,  1.53s/it, loss=0.531]\n",
      "Validation: 100%|██████████| 4/4 [00:02<00:00,  1.38it/s, loss=0.489]\n"
     ]
    },
    {
     "name": "stdout",
     "output_type": "stream",
     "text": [
      "Validation Dice Score\n",
      "Class 0: 0.0000, Class 1: 0.0000, Class 2: 0.0012, Class 3: 0.3018, \n",
      "Class 4: 0.3715, Class 5: 0.2340, Class 6: 0.0000, \n",
      "Validation F-beta Score\n",
      "Class 0: 0.0000, Class 1: 0.0000, Class 2: 0.0097, Class 3: 0.3232, \n",
      "Class 4: 0.2913, Class 5: 0.2063, Class 6: 0.0000, \n",
      "Overall Mean Dice Score: 0.1815\n",
      "Overall Mean F-beta Score: 0.1641\n",
      "\n",
      "Training Loss: 0.4761, Validation Loss: 0.5345, Validation F-beta: 0.1641\n",
      "Epoch 373/4000\n",
      "Current lambda: 0.2400\n"
     ]
    },
    {
     "name": "stderr",
     "output_type": "stream",
     "text": [
      "Training: 100%|██████████| 24/24 [00:36<00:00,  1.53s/it, loss=0.441]\n",
      "Validation: 100%|██████████| 4/4 [00:02<00:00,  1.39it/s, loss=0.404]\n"
     ]
    },
    {
     "name": "stdout",
     "output_type": "stream",
     "text": [
      "Validation Dice Score\n",
      "Class 0: 0.0000, Class 1: 0.0000, Class 2: 0.0011, Class 3: 0.2844, \n",
      "Class 4: 0.2884, Class 5: 0.3905, Class 6: 0.0000, \n",
      "Validation F-beta Score\n",
      "Class 0: 0.0000, Class 1: 0.2500, Class 2: 0.0090, Class 3: 0.2620, \n",
      "Class 4: 0.3488, Class 5: 0.3867, Class 6: 0.0000, \n",
      "Overall Mean Dice Score: 0.1927\n",
      "Overall Mean F-beta Score: 0.2495\n",
      "\n",
      "Training Loss: 0.4750, Validation Loss: 0.4950, Validation F-beta: 0.2495\n",
      "Epoch 374/4000\n",
      "Current lambda: 0.2400\n"
     ]
    },
    {
     "name": "stderr",
     "output_type": "stream",
     "text": [
      "Training: 100%|██████████| 24/24 [00:36<00:00,  1.54s/it, loss=0.512]\n",
      "Validation: 100%|██████████| 4/4 [00:02<00:00,  1.42it/s, loss=0.463]\n"
     ]
    },
    {
     "name": "stdout",
     "output_type": "stream",
     "text": [
      "Validation Dice Score\n",
      "Class 0: 0.0000, Class 1: 0.0000, Class 2: 0.0003, Class 3: 0.1890, \n",
      "Class 4: 0.4835, Class 5: 0.3979, Class 6: 0.0000, \n",
      "Validation F-beta Score\n",
      "Class 0: 0.0000, Class 1: 0.0000, Class 2: 0.0026, Class 3: 0.1935, \n",
      "Class 4: 0.5664, Class 5: 0.4062, Class 6: 0.0000, \n",
      "Overall Mean Dice Score: 0.2141\n",
      "Overall Mean F-beta Score: 0.2332\n",
      "\n",
      "Training Loss: 0.4825, Validation Loss: 0.5067, Validation F-beta: 0.2332\n",
      "Validation loss did not improve. Reducing lambda to 0.2300\n",
      "Epoch 375/4000\n",
      "Current lambda: 0.2300\n"
     ]
    },
    {
     "name": "stderr",
     "output_type": "stream",
     "text": [
      "Training: 100%|██████████| 24/24 [00:36<00:00,  1.53s/it, loss=0.435]\n",
      "Validation: 100%|██████████| 4/4 [00:02<00:00,  1.46it/s, loss=0.553]\n"
     ]
    },
    {
     "name": "stdout",
     "output_type": "stream",
     "text": [
      "Validation Dice Score\n",
      "Class 0: 0.0000, Class 1: 0.0000, Class 2: 0.0014, Class 3: 0.2589, \n",
      "Class 4: 0.4517, Class 5: 0.3235, Class 6: 0.0000, \n",
      "Validation F-beta Score\n",
      "Class 0: 0.0000, Class 1: 0.0000, Class 2: 0.0120, Class 3: 0.2635, \n",
      "Class 4: 0.3773, Class 5: 0.3436, Class 6: 0.2500, \n",
      "Overall Mean Dice Score: 0.2068\n",
      "Overall Mean F-beta Score: 0.2469\n",
      "\n",
      "Training Loss: 0.4721, Validation Loss: 0.5137, Validation F-beta: 0.2469\n",
      "Epoch 376/4000\n",
      "Current lambda: 0.2300\n"
     ]
    },
    {
     "name": "stderr",
     "output_type": "stream",
     "text": [
      "Training: 100%|██████████| 24/24 [00:36<00:00,  1.53s/it, loss=0.613]\n",
      "Validation: 100%|██████████| 4/4 [00:02<00:00,  1.41it/s, loss=0.588]\n"
     ]
    },
    {
     "name": "stdout",
     "output_type": "stream",
     "text": [
      "Validation Dice Score\n",
      "Class 0: 0.0000, Class 1: 0.0000, Class 2: 0.0009, Class 3: 0.2866, \n",
      "Class 4: 0.5380, Class 5: 0.3068, Class 6: 0.0000, \n",
      "Validation F-beta Score\n",
      "Class 0: 0.0000, Class 1: 0.2500, Class 2: 0.0078, Class 3: 0.2438, \n",
      "Class 4: 0.5278, Class 5: 0.2641, Class 6: 0.2500, \n",
      "Overall Mean Dice Score: 0.2263\n",
      "Overall Mean F-beta Score: 0.3071\n",
      "\n",
      "Training Loss: 0.5095, Validation Loss: 0.4712, Validation F-beta: 0.3071\n",
      "Epoch 377/4000\n",
      "Current lambda: 0.2300\n"
     ]
    },
    {
     "name": "stderr",
     "output_type": "stream",
     "text": [
      "Training: 100%|██████████| 24/24 [00:36<00:00,  1.54s/it, loss=0.635]\n",
      "Validation: 100%|██████████| 4/4 [00:02<00:00,  1.44it/s, loss=0.444]\n"
     ]
    },
    {
     "name": "stdout",
     "output_type": "stream",
     "text": [
      "Validation Dice Score\n",
      "Class 0: 0.0000, Class 1: 0.0000, Class 2: 0.0014, Class 3: 0.4494, \n",
      "Class 4: 0.5488, Class 5: 0.4564, Class 6: 0.0000, \n",
      "Validation F-beta Score\n",
      "Class 0: 0.0000, Class 1: 0.0000, Class 2: 0.0112, Class 3: 0.4252, \n",
      "Class 4: 0.4261, Class 5: 0.4373, Class 6: 0.2500, \n",
      "Overall Mean Dice Score: 0.2909\n",
      "Overall Mean F-beta Score: 0.3077\n",
      "\n",
      "Training Loss: 0.4863, Validation Loss: 0.4520, Validation F-beta: 0.3077\n",
      "Epoch 378/4000\n",
      "Current lambda: 0.2300\n"
     ]
    },
    {
     "name": "stderr",
     "output_type": "stream",
     "text": [
      "Training: 100%|██████████| 24/24 [00:36<00:00,  1.52s/it, loss=0.506]\n",
      "Validation: 100%|██████████| 4/4 [00:02<00:00,  1.43it/s, loss=0.453]\n"
     ]
    },
    {
     "name": "stdout",
     "output_type": "stream",
     "text": [
      "Validation Dice Score\n",
      "Class 0: 0.0000, Class 1: 0.0000, Class 2: 0.0004, Class 3: 0.4185, \n",
      "Class 4: 0.2626, Class 5: 0.2895, Class 6: 0.0000, \n",
      "Validation F-beta Score\n",
      "Class 0: 0.0000, Class 1: 0.0000, Class 2: 0.0038, Class 3: 0.3724, \n",
      "Class 4: 0.2060, Class 5: 0.3248, Class 6: 0.5000, \n",
      "Overall Mean Dice Score: 0.1941\n",
      "Overall Mean F-beta Score: 0.2807\n",
      "\n",
      "Training Loss: 0.4781, Validation Loss: 0.5010, Validation F-beta: 0.2807\n",
      "Epoch 379/4000\n",
      "Current lambda: 0.2300\n"
     ]
    },
    {
     "name": "stderr",
     "output_type": "stream",
     "text": [
      "Training: 100%|██████████| 24/24 [00:36<00:00,  1.53s/it, loss=0.412]\n",
      "Validation: 100%|██████████| 4/4 [00:02<00:00,  1.45it/s, loss=0.312]\n"
     ]
    },
    {
     "name": "stdout",
     "output_type": "stream",
     "text": [
      "Validation Dice Score\n",
      "Class 0: 0.0000, Class 1: 0.0000, Class 2: 0.0015, Class 3: 0.4066, \n",
      "Class 4: 0.3471, Class 5: 0.3224, Class 6: 0.0000, \n",
      "Validation F-beta Score\n",
      "Class 0: 0.0000, Class 1: 0.2500, Class 2: 0.0123, Class 3: 0.4031, \n",
      "Class 4: 0.3313, Class 5: 0.3404, Class 6: 0.5000, \n",
      "Overall Mean Dice Score: 0.2152\n",
      "Overall Mean F-beta Score: 0.3650\n",
      "\n",
      "Training Loss: 0.5010, Validation Loss: 0.4555, Validation F-beta: 0.3650\n",
      "Epoch 380/4000\n",
      "Current lambda: 0.2300\n"
     ]
    },
    {
     "name": "stderr",
     "output_type": "stream",
     "text": [
      "Training: 100%|██████████| 24/24 [00:36<00:00,  1.53s/it, loss=0.391]\n",
      "Validation: 100%|██████████| 4/4 [00:02<00:00,  1.41it/s, loss=0.603]\n"
     ]
    },
    {
     "name": "stdout",
     "output_type": "stream",
     "text": [
      "Validation Dice Score\n",
      "Class 0: 0.0000, Class 1: 0.0000, Class 2: 0.0025, Class 3: 0.3520, \n",
      "Class 4: 0.3788, Class 5: 0.4096, Class 6: 0.0000, \n",
      "Validation F-beta Score\n",
      "Class 0: 0.0000, Class 1: 0.5000, Class 2: 0.0210, Class 3: 0.2936, \n",
      "Class 4: 0.3421, Class 5: 0.3385, Class 6: 0.5000, \n",
      "Overall Mean Dice Score: 0.2281\n",
      "Overall Mean F-beta Score: 0.3948\n",
      "\n",
      "Training Loss: 0.4919, Validation Loss: 0.4398, Validation F-beta: 0.3948\n",
      "Epoch 381/4000\n",
      "Current lambda: 0.2300\n"
     ]
    },
    {
     "name": "stderr",
     "output_type": "stream",
     "text": [
      "Training: 100%|██████████| 24/24 [00:36<00:00,  1.54s/it, loss=0.604]\n",
      "Validation: 100%|██████████| 4/4 [00:02<00:00,  1.46it/s, loss=0.406]\n"
     ]
    },
    {
     "name": "stdout",
     "output_type": "stream",
     "text": [
      "Validation Dice Score\n",
      "Class 0: 0.0000, Class 1: 0.0000, Class 2: 0.0002, Class 3: 0.2445, \n",
      "Class 4: 0.4445, Class 5: 0.4681, Class 6: 0.0000, \n",
      "Validation F-beta Score\n",
      "Class 0: 0.0000, Class 1: 0.5000, Class 2: 0.0020, Class 3: 0.2616, \n",
      "Class 4: 0.3189, Class 5: 0.5218, Class 6: 0.0000, \n",
      "Overall Mean Dice Score: 0.2314\n",
      "Overall Mean F-beta Score: 0.3205\n",
      "\n",
      "Training Loss: 0.4783, Validation Loss: 0.4631, Validation F-beta: 0.3205\n",
      "Epoch 382/4000\n",
      "Current lambda: 0.2300\n"
     ]
    },
    {
     "name": "stderr",
     "output_type": "stream",
     "text": [
      "Training: 100%|██████████| 24/24 [00:37<00:00,  1.58s/it, loss=0.321]\n",
      "Validation: 100%|██████████| 4/4 [00:02<00:00,  1.36it/s, loss=0.611]\n"
     ]
    },
    {
     "name": "stdout",
     "output_type": "stream",
     "text": [
      "Validation Dice Score\n",
      "Class 0: 0.0000, Class 1: 0.0000, Class 2: 0.0011, Class 3: 0.1670, \n",
      "Class 4: 0.2339, Class 5: 0.3793, Class 6: 0.0000, \n",
      "Validation F-beta Score\n",
      "Class 0: 0.0000, Class 1: 0.0000, Class 2: 0.0089, Class 3: 0.1631, \n",
      "Class 4: 0.1658, Class 5: 0.2914, Class 6: 0.5000, \n",
      "Overall Mean Dice Score: 0.1561\n",
      "Overall Mean F-beta Score: 0.2240\n",
      "\n",
      "Training Loss: 0.4869, Validation Loss: 0.5300, Validation F-beta: 0.2240\n",
      "Epoch 383/4000\n",
      "Current lambda: 0.2300\n"
     ]
    },
    {
     "name": "stderr",
     "output_type": "stream",
     "text": [
      "Training: 100%|██████████| 24/24 [00:42<00:00,  1.79s/it, loss=0.404]\n",
      "Validation: 100%|██████████| 4/4 [00:03<00:00,  1.27it/s, loss=0.372]\n"
     ]
    },
    {
     "name": "stdout",
     "output_type": "stream",
     "text": [
      "Validation Dice Score\n",
      "Class 0: 0.0000, Class 1: 0.0000, Class 2: 0.0021, Class 3: 0.5813, \n",
      "Class 4: 0.6170, Class 5: 0.4415, Class 6: 0.0000, \n",
      "Validation F-beta Score\n",
      "Class 0: 0.0000, Class 1: 0.2500, Class 2: 0.0174, Class 3: 0.6305, \n",
      "Class 4: 0.4661, Class 5: 0.4232, Class 6: 0.2500, \n",
      "Overall Mean Dice Score: 0.3279\n",
      "Overall Mean F-beta Score: 0.4040\n",
      "\n",
      "Training Loss: 0.4820, Validation Loss: 0.3838, Validation F-beta: 0.4040\n",
      "Epoch 384/4000\n",
      "Current lambda: 0.2300\n"
     ]
    },
    {
     "name": "stderr",
     "output_type": "stream",
     "text": [
      "Training: 100%|██████████| 24/24 [00:43<00:00,  1.80s/it, loss=0.462]\n",
      "Validation: 100%|██████████| 4/4 [00:03<00:00,  1.29it/s, loss=0.533]\n"
     ]
    },
    {
     "name": "stdout",
     "output_type": "stream",
     "text": [
      "Validation Dice Score\n",
      "Class 0: 0.0000, Class 1: 0.0000, Class 2: 0.0013, Class 3: 0.3575, \n",
      "Class 4: 0.3599, Class 5: 0.2799, Class 6: 0.0000, \n",
      "Validation F-beta Score\n",
      "Class 0: 0.0000, Class 1: 0.2500, Class 2: 0.0112, Class 3: 0.3114, \n",
      "Class 4: 0.3224, Class 5: 0.3264, Class 6: 0.2500, \n",
      "Overall Mean Dice Score: 0.1995\n",
      "Overall Mean F-beta Score: 0.2920\n",
      "\n",
      "Training Loss: 0.4634, Validation Loss: 0.5210, Validation F-beta: 0.2920\n",
      "Validation loss did not improve. Reducing lambda to 0.2200\n",
      "Epoch 385/4000\n",
      "Current lambda: 0.2200\n"
     ]
    },
    {
     "name": "stderr",
     "output_type": "stream",
     "text": [
      "Training: 100%|██████████| 24/24 [00:43<00:00,  1.80s/it, loss=0.326]\n",
      "Validation: 100%|██████████| 4/4 [00:03<00:00,  1.31it/s, loss=0.571]\n"
     ]
    },
    {
     "name": "stdout",
     "output_type": "stream",
     "text": [
      "Validation Dice Score\n",
      "Class 0: 0.0000, Class 1: 0.0000, Class 2: 0.0025, Class 3: 0.1591, \n",
      "Class 4: 0.4210, Class 5: 0.2941, Class 6: 0.0000, \n",
      "Validation F-beta Score\n",
      "Class 0: 0.0000, Class 1: 0.2500, Class 2: 0.0207, Class 3: 0.1232, \n",
      "Class 4: 0.3465, Class 5: 0.2514, Class 6: 0.2500, \n",
      "Overall Mean Dice Score: 0.1748\n",
      "Overall Mean F-beta Score: 0.2442\n",
      "\n",
      "Training Loss: 0.4923, Validation Loss: 0.4784, Validation F-beta: 0.2442\n",
      "Epoch 386/4000\n",
      "Current lambda: 0.2200\n"
     ]
    },
    {
     "name": "stderr",
     "output_type": "stream",
     "text": [
      "Training: 100%|██████████| 24/24 [00:42<00:00,  1.79s/it, loss=0.424]\n",
      "Validation: 100%|██████████| 4/4 [00:02<00:00,  1.35it/s, loss=0.456]\n"
     ]
    },
    {
     "name": "stdout",
     "output_type": "stream",
     "text": [
      "Validation Dice Score\n",
      "Class 0: 0.0000, Class 1: 0.0000, Class 2: 0.0004, Class 3: 0.3829, \n",
      "Class 4: 0.5109, Class 5: 0.4107, Class 6: 0.0013, \n",
      "Validation F-beta Score\n",
      "Class 0: 0.0000, Class 1: 0.2500, Class 2: 0.0035, Class 3: 0.3641, \n",
      "Class 4: 0.4056, Class 5: 0.3993, Class 6: 0.2507, \n",
      "Overall Mean Dice Score: 0.2612\n",
      "Overall Mean F-beta Score: 0.3339\n",
      "\n",
      "Training Loss: 0.4889, Validation Loss: 0.4120, Validation F-beta: 0.3339\n",
      "Epoch 387/4000\n",
      "Current lambda: 0.2200\n"
     ]
    },
    {
     "name": "stderr",
     "output_type": "stream",
     "text": [
      "Training: 100%|██████████| 24/24 [00:43<00:00,  1.80s/it, loss=0.422]\n",
      "Validation: 100%|██████████| 4/4 [00:02<00:00,  1.34it/s, loss=0.45] \n"
     ]
    },
    {
     "name": "stdout",
     "output_type": "stream",
     "text": [
      "Validation Dice Score\n",
      "Class 0: 0.0000, Class 1: 0.0000, Class 2: 0.0027, Class 3: 0.3917, \n",
      "Class 4: 0.5457, Class 5: 0.3575, Class 6: 0.1874, \n",
      "Validation F-beta Score\n",
      "Class 0: 0.0000, Class 1: 0.0000, Class 2: 0.0222, Class 3: 0.4545, \n",
      "Class 4: 0.4830, Class 5: 0.2736, Class 6: 0.3774, \n",
      "Overall Mean Dice Score: 0.2964\n",
      "Overall Mean F-beta Score: 0.3177\n",
      "\n",
      "Training Loss: 0.4446, Validation Loss: 0.4617, Validation F-beta: 0.3177\n",
      "Epoch 388/4000\n",
      "Current lambda: 0.2200\n"
     ]
    },
    {
     "name": "stderr",
     "output_type": "stream",
     "text": [
      "Training: 100%|██████████| 24/24 [00:37<00:00,  1.57s/it, loss=0.597]\n",
      "Validation: 100%|██████████| 4/4 [00:02<00:00,  1.40it/s, loss=0.401]\n"
     ]
    },
    {
     "name": "stdout",
     "output_type": "stream",
     "text": [
      "Validation Dice Score\n",
      "Class 0: 0.0000, Class 1: 0.0000, Class 2: 0.0026, Class 3: 0.1879, \n",
      "Class 4: 0.2909, Class 5: 0.2577, Class 6: 0.3709, \n",
      "Validation F-beta Score\n",
      "Class 0: 0.0000, Class 1: 0.2500, Class 2: 0.0215, Class 3: 0.1758, \n",
      "Class 4: 0.2447, Class 5: 0.2301, Class 6: 0.8064, \n",
      "Overall Mean Dice Score: 0.2215\n",
      "Overall Mean F-beta Score: 0.3414\n",
      "\n",
      "Training Loss: 0.4701, Validation Loss: 0.4828, Validation F-beta: 0.3414\n",
      "Epoch 389/4000\n",
      "Current lambda: 0.2200\n"
     ]
    },
    {
     "name": "stderr",
     "output_type": "stream",
     "text": [
      "Training: 100%|██████████| 24/24 [00:36<00:00,  1.54s/it, loss=0.413]\n",
      "Validation: 100%|██████████| 4/4 [00:02<00:00,  1.43it/s, loss=0.364]\n"
     ]
    },
    {
     "name": "stdout",
     "output_type": "stream",
     "text": [
      "Validation Dice Score\n",
      "Class 0: 0.0000, Class 1: 0.0000, Class 2: 0.0026, Class 3: 0.2022, \n",
      "Class 4: 0.4355, Class 5: 0.3409, Class 6: 0.1444, \n",
      "Validation F-beta Score\n",
      "Class 0: 0.0000, Class 1: 0.5000, Class 2: 0.0212, Class 3: 0.1487, \n",
      "Class 4: 0.3462, Class 5: 0.2946, Class 6: 0.6052, \n",
      "Overall Mean Dice Score: 0.2246\n",
      "Overall Mean F-beta Score: 0.3790\n",
      "\n",
      "Training Loss: 0.4612, Validation Loss: 0.4296, Validation F-beta: 0.3790\n",
      "Epoch 390/4000\n",
      "Current lambda: 0.2200\n"
     ]
    },
    {
     "name": "stderr",
     "output_type": "stream",
     "text": [
      "Training: 100%|██████████| 24/24 [00:36<00:00,  1.53s/it, loss=0.49] \n",
      "Validation: 100%|██████████| 4/4 [00:02<00:00,  1.39it/s, loss=0.421]\n"
     ]
    },
    {
     "name": "stdout",
     "output_type": "stream",
     "text": [
      "Validation Dice Score\n",
      "Class 0: 0.0000, Class 1: 0.0000, Class 2: 0.0009, Class 3: 0.4630, \n",
      "Class 4: 0.5354, Class 5: 0.3337, Class 6: 0.5840, \n",
      "Validation F-beta Score\n",
      "Class 0: 0.0000, Class 1: 0.0000, Class 2: 0.0073, Class 3: 0.5040, \n",
      "Class 4: 0.6690, Class 5: 0.2996, Class 6: 0.7425, \n",
      "Overall Mean Dice Score: 0.3832\n",
      "Overall Mean F-beta Score: 0.4430\n",
      "\n",
      "Training Loss: 0.4529, Validation Loss: 0.4340, Validation F-beta: 0.4430\n",
      "Epoch 391/4000\n",
      "Current lambda: 0.2200\n"
     ]
    },
    {
     "name": "stderr",
     "output_type": "stream",
     "text": [
      "Training: 100%|██████████| 24/24 [00:36<00:00,  1.54s/it, loss=0.378]\n",
      "Validation: 100%|██████████| 4/4 [00:02<00:00,  1.44it/s, loss=0.35] \n"
     ]
    },
    {
     "name": "stdout",
     "output_type": "stream",
     "text": [
      "Validation Dice Score\n",
      "Class 0: 0.0000, Class 1: 0.0000, Class 2: 0.0008, Class 3: 0.3308, \n",
      "Class 4: 0.1599, Class 5: 0.4767, Class 6: 0.0050, \n",
      "Validation F-beta Score\n",
      "Class 0: 0.0000, Class 1: 0.2500, Class 2: 0.0066, Class 3: 0.3671, \n",
      "Class 4: 0.1051, Class 5: 0.3709, Class 6: 0.7527, \n",
      "Overall Mean Dice Score: 0.1945\n",
      "Overall Mean F-beta Score: 0.3691\n",
      "\n",
      "Training Loss: 0.4578, Validation Loss: 0.4209, Validation F-beta: 0.3691\n",
      "Epoch 392/4000\n",
      "Current lambda: 0.2200\n"
     ]
    },
    {
     "name": "stderr",
     "output_type": "stream",
     "text": [
      "Training: 100%|██████████| 24/24 [00:36<00:00,  1.53s/it, loss=0.556]\n",
      "Validation: 100%|██████████| 4/4 [00:02<00:00,  1.39it/s, loss=0.509]\n"
     ]
    },
    {
     "name": "stdout",
     "output_type": "stream",
     "text": [
      "Validation Dice Score\n",
      "Class 0: 0.0000, Class 1: 0.0000, Class 2: 0.0024, Class 3: 0.0935, \n",
      "Class 4: 0.2960, Class 5: 0.3967, Class 6: 0.0000, \n",
      "Validation F-beta Score\n",
      "Class 0: 0.0000, Class 1: 0.2500, Class 2: 0.0198, Class 3: 0.1084, \n",
      "Class 4: 0.3624, Class 5: 0.3182, Class 6: 0.5000, \n",
      "Overall Mean Dice Score: 0.1572\n",
      "Overall Mean F-beta Score: 0.3078\n",
      "\n",
      "Training Loss: 0.5025, Validation Loss: 0.4755, Validation F-beta: 0.3078\n",
      "Epoch 393/4000\n",
      "Current lambda: 0.2200\n"
     ]
    },
    {
     "name": "stderr",
     "output_type": "stream",
     "text": [
      "Training: 100%|██████████| 24/24 [00:37<00:00,  1.55s/it, loss=0.515]\n",
      "Validation: 100%|██████████| 4/4 [00:02<00:00,  1.41it/s, loss=0.616]\n"
     ]
    },
    {
     "name": "stdout",
     "output_type": "stream",
     "text": [
      "Validation Dice Score\n",
      "Class 0: 0.0000, Class 1: 0.0000, Class 2: 0.0009, Class 3: 0.1780, \n",
      "Class 4: 0.3597, Class 5: 0.2174, Class 6: 0.0000, \n",
      "Validation F-beta Score\n",
      "Class 0: 0.0000, Class 1: 0.0000, Class 2: 0.0074, Class 3: 0.1562, \n",
      "Class 4: 0.3087, Class 5: 0.2314, Class 6: 0.2500, \n",
      "Overall Mean Dice Score: 0.1510\n",
      "Overall Mean F-beta Score: 0.1893\n",
      "\n",
      "Training Loss: 0.5072, Validation Loss: 0.5471, Validation F-beta: 0.1893\n",
      "Epoch 394/4000\n",
      "Current lambda: 0.2200\n"
     ]
    },
    {
     "name": "stderr",
     "output_type": "stream",
     "text": [
      "Training: 100%|██████████| 24/24 [00:36<00:00,  1.53s/it, loss=0.633]\n",
      "Validation: 100%|██████████| 4/4 [00:02<00:00,  1.36it/s, loss=0.471]\n"
     ]
    },
    {
     "name": "stdout",
     "output_type": "stream",
     "text": [
      "Validation Dice Score\n",
      "Class 0: 0.0000, Class 1: 0.0000, Class 2: 0.0014, Class 3: 0.0865, \n",
      "Class 4: 0.4758, Class 5: 0.4108, Class 6: 0.0000, \n",
      "Validation F-beta Score\n",
      "Class 0: 0.0000, Class 1: 0.0000, Class 2: 0.0116, Class 3: 0.1337, \n",
      "Class 4: 0.4753, Class 5: 0.3790, Class 6: 0.2500, \n",
      "Overall Mean Dice Score: 0.1946\n",
      "Overall Mean F-beta Score: 0.2476\n",
      "\n",
      "Training Loss: 0.4995, Validation Loss: 0.5039, Validation F-beta: 0.2476\n",
      "Validation loss did not improve. Reducing lambda to 0.2100\n",
      "Epoch 395/4000\n",
      "Current lambda: 0.2100\n"
     ]
    },
    {
     "name": "stderr",
     "output_type": "stream",
     "text": [
      "Training: 100%|██████████| 24/24 [00:36<00:00,  1.53s/it, loss=0.455]\n",
      "Validation: 100%|██████████| 4/4 [00:02<00:00,  1.46it/s, loss=0.479]\n"
     ]
    },
    {
     "name": "stdout",
     "output_type": "stream",
     "text": [
      "Validation Dice Score\n",
      "Class 0: 0.0000, Class 1: 0.0000, Class 2: 0.0015, Class 3: 0.2734, \n",
      "Class 4: 0.6275, Class 5: 0.3095, Class 6: 0.0000, \n",
      "Validation F-beta Score\n",
      "Class 0: 0.0000, Class 1: 0.0000, Class 2: 0.0122, Class 3: 0.2256, \n",
      "Class 4: 0.5997, Class 5: 0.2816, Class 6: 0.0000, \n",
      "Overall Mean Dice Score: 0.2421\n",
      "Overall Mean F-beta Score: 0.2214\n",
      "\n",
      "Training Loss: 0.4877, Validation Loss: 0.4929, Validation F-beta: 0.2214\n",
      "Epoch 396/4000\n",
      "Current lambda: 0.2100\n"
     ]
    },
    {
     "name": "stderr",
     "output_type": "stream",
     "text": [
      "Training: 100%|██████████| 24/24 [00:36<00:00,  1.52s/it, loss=0.38] \n",
      "Validation: 100%|██████████| 4/4 [00:02<00:00,  1.43it/s, loss=0.325]\n"
     ]
    },
    {
     "name": "stdout",
     "output_type": "stream",
     "text": [
      "Validation Dice Score\n",
      "Class 0: 0.0000, Class 1: 0.0000, Class 2: 0.0033, Class 3: 0.2013, \n",
      "Class 4: 0.2692, Class 5: 0.5205, Class 6: 0.0000, \n",
      "Validation F-beta Score\n",
      "Class 0: 0.0000, Class 1: 0.2500, Class 2: 0.0275, Class 3: 0.1839, \n",
      "Class 4: 0.2221, Class 5: 0.5253, Class 6: 0.2500, \n",
      "Overall Mean Dice Score: 0.1982\n",
      "Overall Mean F-beta Score: 0.2863\n",
      "\n",
      "Training Loss: 0.4984, Validation Loss: 0.4517, Validation F-beta: 0.2863\n",
      "Epoch 397/4000\n",
      "Current lambda: 0.2100\n"
     ]
    },
    {
     "name": "stderr",
     "output_type": "stream",
     "text": [
      "Training: 100%|██████████| 24/24 [00:36<00:00,  1.53s/it, loss=0.533]\n",
      "Validation: 100%|██████████| 4/4 [00:02<00:00,  1.41it/s, loss=0.53] \n"
     ]
    },
    {
     "name": "stdout",
     "output_type": "stream",
     "text": [
      "Validation Dice Score\n",
      "Class 0: 0.0000, Class 1: 0.0000, Class 2: 0.0006, Class 3: 0.1942, \n",
      "Class 4: 0.2829, Class 5: 0.4600, Class 6: 0.0000, \n",
      "Validation F-beta Score\n",
      "Class 0: 0.0000, Class 1: 0.0000, Class 2: 0.0048, Class 3: 0.1892, \n",
      "Class 4: 0.2059, Class 5: 0.4038, Class 6: 0.0000, \n",
      "Overall Mean Dice Score: 0.1874\n",
      "Overall Mean F-beta Score: 0.1598\n",
      "\n",
      "Training Loss: 0.5046, Validation Loss: 0.5157, Validation F-beta: 0.1598\n",
      "Epoch 398/4000\n",
      "Current lambda: 0.2100\n"
     ]
    },
    {
     "name": "stderr",
     "output_type": "stream",
     "text": [
      "Training: 100%|██████████| 24/24 [00:36<00:00,  1.53s/it, loss=0.492]\n",
      "Validation: 100%|██████████| 4/4 [00:02<00:00,  1.38it/s, loss=0.577]\n"
     ]
    },
    {
     "name": "stdout",
     "output_type": "stream",
     "text": [
      "Validation Dice Score\n",
      "Class 0: 0.0000, Class 1: 0.0000, Class 2: 0.0010, Class 3: 0.1748, \n",
      "Class 4: 0.5945, Class 5: 0.3322, Class 6: 0.0000, \n",
      "Validation F-beta Score\n",
      "Class 0: 0.0000, Class 1: 0.0000, Class 2: 0.0079, Class 3: 0.1902, \n",
      "Class 4: 0.6645, Class 5: 0.3214, Class 6: 0.2500, \n",
      "Overall Mean Dice Score: 0.2203\n",
      "Overall Mean F-beta Score: 0.2852\n",
      "\n",
      "Training Loss: 0.4535, Validation Loss: 0.5476, Validation F-beta: 0.2852\n",
      "Epoch 399/4000\n",
      "Current lambda: 0.2100\n"
     ]
    },
    {
     "name": "stderr",
     "output_type": "stream",
     "text": [
      "Training: 100%|██████████| 24/24 [00:36<00:00,  1.54s/it, loss=0.512]\n",
      "Validation: 100%|██████████| 4/4 [00:02<00:00,  1.40it/s, loss=0.309]\n"
     ]
    },
    {
     "name": "stdout",
     "output_type": "stream",
     "text": [
      "Validation Dice Score\n",
      "Class 0: 0.0000, Class 1: 0.0000, Class 2: 0.0021, Class 3: 0.5339, \n",
      "Class 4: 0.4933, Class 5: 0.3719, Class 6: 0.0000, \n",
      "Validation F-beta Score\n",
      "Class 0: 0.0000, Class 1: 0.2500, Class 2: 0.0171, Class 3: 0.5613, \n",
      "Class 4: 0.4514, Class 5: 0.3612, Class 6: 0.2500, \n",
      "Overall Mean Dice Score: 0.2798\n",
      "Overall Mean F-beta Score: 0.3748\n",
      "\n",
      "Training Loss: 0.5313, Validation Loss: 0.4644, Validation F-beta: 0.3748\n",
      "Epoch 400/4000\n",
      "Current lambda: 0.2100\n"
     ]
    },
    {
     "name": "stderr",
     "output_type": "stream",
     "text": [
      "Training: 100%|██████████| 24/24 [00:36<00:00,  1.53s/it, loss=0.356]\n",
      "Validation: 100%|██████████| 4/4 [00:02<00:00,  1.43it/s, loss=0.392]\n"
     ]
    },
    {
     "name": "stdout",
     "output_type": "stream",
     "text": [
      "Validation Dice Score\n",
      "Class 0: 0.0000, Class 1: 0.0000, Class 2: 0.0022, Class 3: 0.3474, \n",
      "Class 4: 0.1500, Class 5: 0.3025, Class 6: 0.0000, \n",
      "Validation F-beta Score\n",
      "Class 0: 0.0000, Class 1: 0.2500, Class 2: 0.0181, Class 3: 0.3171, \n",
      "Class 4: 0.1211, Class 5: 0.2598, Class 6: 0.5000, \n",
      "Overall Mean Dice Score: 0.1600\n",
      "Overall Mean F-beta Score: 0.2896\n",
      "\n",
      "Training Loss: 0.4920, Validation Loss: 0.4787, Validation F-beta: 0.2896\n",
      "Epoch 401/4000\n",
      "Current lambda: 0.2100\n"
     ]
    },
    {
     "name": "stderr",
     "output_type": "stream",
     "text": [
      "Training: 100%|██████████| 24/24 [00:37<00:00,  1.54s/it, loss=0.446]\n",
      "Validation: 100%|██████████| 4/4 [00:02<00:00,  1.41it/s, loss=0.527]\n"
     ]
    },
    {
     "name": "stdout",
     "output_type": "stream",
     "text": [
      "Validation Dice Score\n",
      "Class 0: 0.0000, Class 1: 0.0000, Class 2: 0.0013, Class 3: 0.2682, \n",
      "Class 4: 0.4158, Class 5: 0.3167, Class 6: 0.0000, \n",
      "Validation F-beta Score\n",
      "Class 0: 0.0000, Class 1: 0.0000, Class 2: 0.0112, Class 3: 0.2346, \n",
      "Class 4: 0.3448, Class 5: 0.3295, Class 6: 0.2500, \n",
      "Overall Mean Dice Score: 0.2001\n",
      "Overall Mean F-beta Score: 0.2318\n",
      "\n",
      "Training Loss: 0.4831, Validation Loss: 0.5180, Validation F-beta: 0.2318\n",
      "Epoch 402/4000\n",
      "Current lambda: 0.2100\n"
     ]
    },
    {
     "name": "stderr",
     "output_type": "stream",
     "text": [
      "Training: 100%|██████████| 24/24 [00:36<00:00,  1.54s/it, loss=0.235]\n",
      "Validation: 100%|██████████| 4/4 [00:02<00:00,  1.41it/s, loss=0.517]\n"
     ]
    },
    {
     "name": "stdout",
     "output_type": "stream",
     "text": [
      "Validation Dice Score\n",
      "Class 0: 0.0000, Class 1: 0.0000, Class 2: 0.0021, Class 3: 0.3391, \n",
      "Class 4: 0.5696, Class 5: 0.3870, Class 6: 0.0000, \n",
      "Validation F-beta Score\n",
      "Class 0: 0.0000, Class 1: 0.2500, Class 2: 0.0174, Class 3: 0.3039, \n",
      "Class 4: 0.4643, Class 5: 0.3413, Class 6: 0.0000, \n",
      "Overall Mean Dice Score: 0.2591\n",
      "Overall Mean F-beta Score: 0.2719\n",
      "\n",
      "Training Loss: 0.4835, Validation Loss: 0.4867, Validation F-beta: 0.2719\n",
      "Epoch 403/4000\n",
      "Current lambda: 0.2100\n"
     ]
    },
    {
     "name": "stderr",
     "output_type": "stream",
     "text": [
      "Training: 100%|██████████| 24/24 [00:36<00:00,  1.54s/it, loss=0.373]\n",
      "Validation: 100%|██████████| 4/4 [00:02<00:00,  1.40it/s, loss=0.559]\n"
     ]
    },
    {
     "name": "stdout",
     "output_type": "stream",
     "text": [
      "Validation Dice Score\n",
      "Class 0: 0.0000, Class 1: 0.0000, Class 2: 0.0019, Class 3: 0.3207, \n",
      "Class 4: 0.3606, Class 5: 0.3913, Class 6: 0.0000, \n",
      "Validation F-beta Score\n",
      "Class 0: 0.0000, Class 1: 0.2500, Class 2: 0.0158, Class 3: 0.3519, \n",
      "Class 4: 0.2755, Class 5: 0.4229, Class 6: 0.7500, \n",
      "Overall Mean Dice Score: 0.2145\n",
      "Overall Mean F-beta Score: 0.4101\n",
      "\n",
      "Training Loss: 0.4618, Validation Loss: 0.4549, Validation F-beta: 0.4101\n",
      "Epoch 404/4000\n",
      "Current lambda: 0.2100\n"
     ]
    },
    {
     "name": "stderr",
     "output_type": "stream",
     "text": [
      "Training: 100%|██████████| 24/24 [00:36<00:00,  1.53s/it, loss=0.521]\n",
      "Validation: 100%|██████████| 4/4 [00:02<00:00,  1.41it/s, loss=0.359]\n"
     ]
    },
    {
     "name": "stdout",
     "output_type": "stream",
     "text": [
      "Validation Dice Score\n",
      "Class 0: 0.0000, Class 1: 0.0000, Class 2: 0.0018, Class 3: 0.3928, \n",
      "Class 4: 0.4205, Class 5: 0.4237, Class 6: 0.0000, \n",
      "Validation F-beta Score\n",
      "Class 0: 0.0000, Class 1: 0.2500, Class 2: 0.0150, Class 3: 0.3388, \n",
      "Class 4: 0.3980, Class 5: 0.3950, Class 6: 0.2500, \n",
      "Overall Mean Dice Score: 0.2474\n",
      "Overall Mean F-beta Score: 0.3264\n",
      "\n",
      "Training Loss: 0.4887, Validation Loss: 0.4587, Validation F-beta: 0.3264\n",
      "Validation loss did not improve. Reducing lambda to 0.2000\n",
      "Epoch 405/4000\n",
      "Current lambda: 0.2000\n"
     ]
    },
    {
     "name": "stderr",
     "output_type": "stream",
     "text": [
      "Training: 100%|██████████| 24/24 [00:36<00:00,  1.53s/it, loss=0.394]\n",
      "Validation: 100%|██████████| 4/4 [00:02<00:00,  1.41it/s, loss=0.594]\n"
     ]
    },
    {
     "name": "stdout",
     "output_type": "stream",
     "text": [
      "Validation Dice Score\n",
      "Class 0: 0.0000, Class 1: 0.0000, Class 2: 0.0008, Class 3: 0.2517, \n",
      "Class 4: 0.6582, Class 5: 0.3947, Class 6: 0.0000, \n",
      "Validation F-beta Score\n",
      "Class 0: 0.0000, Class 1: 0.2500, Class 2: 0.0068, Class 3: 0.1982, \n",
      "Class 4: 0.6380, Class 5: 0.3889, Class 6: 0.2500, \n",
      "Overall Mean Dice Score: 0.2609\n",
      "Overall Mean F-beta Score: 0.3450\n",
      "\n",
      "Training Loss: 0.4744, Validation Loss: 0.4895, Validation F-beta: 0.3450\n",
      "Epoch 406/4000\n",
      "Current lambda: 0.2000\n"
     ]
    },
    {
     "name": "stderr",
     "output_type": "stream",
     "text": [
      "Training: 100%|██████████| 24/24 [00:36<00:00,  1.54s/it, loss=0.445]\n",
      "Validation: 100%|██████████| 4/4 [00:02<00:00,  1.42it/s, loss=0.5]  \n"
     ]
    },
    {
     "name": "stdout",
     "output_type": "stream",
     "text": [
      "Validation Dice Score\n",
      "Class 0: 0.0000, Class 1: 0.0000, Class 2: 0.0019, Class 3: 0.2730, \n",
      "Class 4: 0.4745, Class 5: 0.3650, Class 6: 0.0000, \n",
      "Validation F-beta Score\n",
      "Class 0: 0.0000, Class 1: 0.2500, Class 2: 0.0159, Class 3: 0.2357, \n",
      "Class 4: 0.3693, Class 5: 0.3078, Class 6: 0.0000, \n",
      "Overall Mean Dice Score: 0.2225\n",
      "Overall Mean F-beta Score: 0.2326\n",
      "\n",
      "Training Loss: 0.4880, Validation Loss: 0.4795, Validation F-beta: 0.2326\n",
      "Epoch 407/4000\n",
      "Current lambda: 0.2000\n"
     ]
    },
    {
     "name": "stderr",
     "output_type": "stream",
     "text": [
      "Training: 100%|██████████| 24/24 [00:36<00:00,  1.54s/it, loss=0.577]\n",
      "Validation: 100%|██████████| 4/4 [00:02<00:00,  1.43it/s, loss=0.45] \n"
     ]
    },
    {
     "name": "stdout",
     "output_type": "stream",
     "text": [
      "Validation Dice Score\n",
      "Class 0: 0.0000, Class 1: 0.0000, Class 2: 0.0010, Class 3: 0.2111, \n",
      "Class 4: 0.5636, Class 5: 0.4133, Class 6: 0.0000, \n",
      "Validation F-beta Score\n",
      "Class 0: 0.0000, Class 1: 0.0000, Class 2: 0.0083, Class 3: 0.2284, \n",
      "Class 4: 0.5189, Class 5: 0.3943, Class 6: 0.2500, \n",
      "Overall Mean Dice Score: 0.2376\n",
      "Overall Mean F-beta Score: 0.2783\n",
      "\n",
      "Training Loss: 0.4792, Validation Loss: 0.5119, Validation F-beta: 0.2783\n",
      "Epoch 408/4000\n",
      "Current lambda: 0.2000\n"
     ]
    },
    {
     "name": "stderr",
     "output_type": "stream",
     "text": [
      "Training: 100%|██████████| 24/24 [00:36<00:00,  1.54s/it, loss=0.493]\n",
      "Validation: 100%|██████████| 4/4 [00:02<00:00,  1.40it/s, loss=0.493]\n"
     ]
    },
    {
     "name": "stdout",
     "output_type": "stream",
     "text": [
      "Validation Dice Score\n",
      "Class 0: 0.0000, Class 1: 0.0000, Class 2: 0.0017, Class 3: 0.3308, \n",
      "Class 4: 0.4690, Class 5: 0.2959, Class 6: 0.0000, \n",
      "Validation F-beta Score\n",
      "Class 0: 0.0000, Class 1: 0.0000, Class 2: 0.0144, Class 3: 0.3167, \n",
      "Class 4: 0.5352, Class 5: 0.2203, Class 6: 0.0000, \n",
      "Overall Mean Dice Score: 0.2191\n",
      "Overall Mean F-beta Score: 0.2144\n",
      "\n",
      "Training Loss: 0.4772, Validation Loss: 0.5028, Validation F-beta: 0.2144\n",
      "Epoch 409/4000\n",
      "Current lambda: 0.2000\n"
     ]
    },
    {
     "name": "stderr",
     "output_type": "stream",
     "text": [
      "Training: 100%|██████████| 24/24 [00:37<00:00,  1.55s/it, loss=0.413]\n",
      "Validation: 100%|██████████| 4/4 [00:02<00:00,  1.42it/s, loss=0.401]\n"
     ]
    },
    {
     "name": "stdout",
     "output_type": "stream",
     "text": [
      "Validation Dice Score\n",
      "Class 0: 0.0000, Class 1: 0.0000, Class 2: 0.0016, Class 3: 0.3512, \n",
      "Class 4: 0.2826, Class 5: 0.4276, Class 6: 0.0000, \n",
      "Validation F-beta Score\n",
      "Class 0: 0.0000, Class 1: 0.5000, Class 2: 0.0130, Class 3: 0.3075, \n",
      "Class 4: 0.2066, Class 5: 0.3679, Class 6: 0.2500, \n",
      "Overall Mean Dice Score: 0.2123\n",
      "Overall Mean F-beta Score: 0.3264\n",
      "\n",
      "Training Loss: 0.4885, Validation Loss: 0.4082, Validation F-beta: 0.3264\n",
      "Epoch 410/4000\n",
      "Current lambda: 0.2000\n"
     ]
    },
    {
     "name": "stderr",
     "output_type": "stream",
     "text": [
      "Training: 100%|██████████| 24/24 [00:36<00:00,  1.54s/it, loss=0.614]\n",
      "Validation: 100%|██████████| 4/4 [00:02<00:00,  1.44it/s, loss=0.392]\n"
     ]
    },
    {
     "name": "stdout",
     "output_type": "stream",
     "text": [
      "Validation Dice Score\n",
      "Class 0: 0.0000, Class 1: 0.0000, Class 2: 0.0013, Class 3: 0.4960, \n",
      "Class 4: 0.5784, Class 5: 0.3147, Class 6: 0.0000, \n",
      "Validation F-beta Score\n",
      "Class 0: 0.0000, Class 1: 0.2500, Class 2: 0.0109, Class 3: 0.4546, \n",
      "Class 4: 0.6014, Class 5: 0.3401, Class 6: 0.2500, \n",
      "Overall Mean Dice Score: 0.2778\n",
      "Overall Mean F-beta Score: 0.3792\n",
      "\n",
      "Training Loss: 0.4981, Validation Loss: 0.4403, Validation F-beta: 0.3792\n",
      "Epoch 411/4000\n",
      "Current lambda: 0.2000\n"
     ]
    },
    {
     "name": "stderr",
     "output_type": "stream",
     "text": [
      "Training: 100%|██████████| 24/24 [00:36<00:00,  1.53s/it, loss=0.533]\n",
      "Validation: 100%|██████████| 4/4 [00:02<00:00,  1.38it/s, loss=0.313]\n"
     ]
    },
    {
     "name": "stdout",
     "output_type": "stream",
     "text": [
      "Validation Dice Score\n",
      "Class 0: 0.0000, Class 1: 0.0000, Class 2: 0.0010, Class 3: 0.3644, \n",
      "Class 4: 0.3378, Class 5: 0.4459, Class 6: 0.0000, \n",
      "Validation F-beta Score\n",
      "Class 0: 0.0000, Class 1: 0.2500, Class 2: 0.0080, Class 3: 0.3451, \n",
      "Class 4: 0.2286, Class 5: 0.3773, Class 6: 0.5000, \n",
      "Overall Mean Dice Score: 0.2296\n",
      "Overall Mean F-beta Score: 0.3402\n",
      "\n",
      "Training Loss: 0.5005, Validation Loss: 0.4031, Validation F-beta: 0.3402\n",
      "Epoch 412/4000\n",
      "Current lambda: 0.2000\n"
     ]
    },
    {
     "name": "stderr",
     "output_type": "stream",
     "text": [
      "Training: 100%|██████████| 24/24 [00:36<00:00,  1.53s/it, loss=0.605]\n",
      "Validation: 100%|██████████| 4/4 [00:02<00:00,  1.44it/s, loss=0.372]\n"
     ]
    },
    {
     "name": "stdout",
     "output_type": "stream",
     "text": [
      "Validation Dice Score\n",
      "Class 0: 0.0000, Class 1: 0.0000, Class 2: 0.0013, Class 3: 0.2506, \n",
      "Class 4: 0.6137, Class 5: 0.3404, Class 6: 0.0000, \n",
      "Validation F-beta Score\n",
      "Class 0: 0.0000, Class 1: 0.2500, Class 2: 0.0112, Class 3: 0.2273, \n",
      "Class 4: 0.7065, Class 5: 0.2681, Class 6: 0.0000, \n",
      "Overall Mean Dice Score: 0.2409\n",
      "Overall Mean F-beta Score: 0.2904\n",
      "\n",
      "Training Loss: 0.4779, Validation Loss: 0.5025, Validation F-beta: 0.2904\n",
      "Epoch 413/4000\n",
      "Current lambda: 0.2000\n"
     ]
    },
    {
     "name": "stderr",
     "output_type": "stream",
     "text": [
      "Training: 100%|██████████| 24/24 [00:36<00:00,  1.53s/it, loss=0.581]\n",
      "Validation: 100%|██████████| 4/4 [00:02<00:00,  1.42it/s, loss=0.537]\n"
     ]
    },
    {
     "name": "stdout",
     "output_type": "stream",
     "text": [
      "Validation Dice Score\n",
      "Class 0: 0.0000, Class 1: 0.0000, Class 2: 0.0011, Class 3: 0.0953, \n",
      "Class 4: 0.3974, Class 5: 0.4252, Class 6: 0.0000, \n",
      "Validation F-beta Score\n",
      "Class 0: 0.0000, Class 1: 0.0000, Class 2: 0.0090, Class 3: 0.0974, \n",
      "Class 4: 0.3985, Class 5: 0.3833, Class 6: 0.0000, \n",
      "Overall Mean Dice Score: 0.1836\n",
      "Overall Mean F-beta Score: 0.1758\n",
      "\n",
      "Training Loss: 0.4884, Validation Loss: 0.5528, Validation F-beta: 0.1758\n",
      "Epoch 414/4000\n",
      "Current lambda: 0.2000\n"
     ]
    },
    {
     "name": "stderr",
     "output_type": "stream",
     "text": [
      "Training: 100%|██████████| 24/24 [00:36<00:00,  1.54s/it, loss=0.559]\n",
      "Validation: 100%|██████████| 4/4 [00:02<00:00,  1.43it/s, loss=0.479]\n"
     ]
    },
    {
     "name": "stdout",
     "output_type": "stream",
     "text": [
      "Validation Dice Score\n",
      "Class 0: 0.0000, Class 1: 0.0000, Class 2: 0.0009, Class 3: 0.2400, \n",
      "Class 4: 0.5094, Class 5: 0.4182, Class 6: 0.0000, \n",
      "Validation F-beta Score\n",
      "Class 0: 0.0000, Class 1: 0.5000, Class 2: 0.0075, Class 3: 0.2047, \n",
      "Class 4: 0.5524, Class 5: 0.4986, Class 6: 0.0000, \n",
      "Overall Mean Dice Score: 0.2335\n",
      "Overall Mean F-beta Score: 0.3511\n",
      "\n",
      "Training Loss: 0.4799, Validation Loss: 0.4810, Validation F-beta: 0.3511\n",
      "Validation loss did not improve. Reducing lambda to 0.1900\n",
      "Epoch 415/4000\n",
      "Current lambda: 0.1900\n"
     ]
    },
    {
     "name": "stderr",
     "output_type": "stream",
     "text": [
      "Training: 100%|██████████| 24/24 [00:36<00:00,  1.53s/it, loss=0.582]\n",
      "Validation: 100%|██████████| 4/4 [00:02<00:00,  1.43it/s, loss=0.628]\n"
     ]
    },
    {
     "name": "stdout",
     "output_type": "stream",
     "text": [
      "Validation Dice Score\n",
      "Class 0: 0.0000, Class 1: 0.0000, Class 2: 0.0010, Class 3: 0.3283, \n",
      "Class 4: 0.2831, Class 5: 0.3245, Class 6: 0.0000, \n",
      "Validation F-beta Score\n",
      "Class 0: 0.0000, Class 1: 0.2500, Class 2: 0.0080, Class 3: 0.3543, \n",
      "Class 4: 0.2025, Class 5: 0.2441, Class 6: 0.2500, \n",
      "Overall Mean Dice Score: 0.1872\n",
      "Overall Mean F-beta Score: 0.2602\n",
      "\n",
      "Training Loss: 0.4791, Validation Loss: 0.4826, Validation F-beta: 0.2602\n",
      "Epoch 416/4000\n",
      "Current lambda: 0.1900\n"
     ]
    },
    {
     "name": "stderr",
     "output_type": "stream",
     "text": [
      "Training: 100%|██████████| 24/24 [00:36<00:00,  1.53s/it, loss=0.494]\n",
      "Validation: 100%|██████████| 4/4 [00:02<00:00,  1.45it/s, loss=0.498]\n"
     ]
    },
    {
     "name": "stdout",
     "output_type": "stream",
     "text": [
      "Validation Dice Score\n",
      "Class 0: 0.0000, Class 1: 0.0000, Class 2: 0.0009, Class 3: 0.2696, \n",
      "Class 4: 0.3493, Class 5: 0.4064, Class 6: 0.0000, \n",
      "Validation F-beta Score\n",
      "Class 0: 0.0000, Class 1: 0.0000, Class 2: 0.0075, Class 3: 0.2808, \n",
      "Class 4: 0.3747, Class 5: 0.3648, Class 6: 0.0000, \n",
      "Overall Mean Dice Score: 0.2050\n",
      "Overall Mean F-beta Score: 0.2041\n",
      "\n",
      "Training Loss: 0.4807, Validation Loss: 0.5151, Validation F-beta: 0.2041\n",
      "Epoch 417/4000\n",
      "Current lambda: 0.1900\n"
     ]
    },
    {
     "name": "stderr",
     "output_type": "stream",
     "text": [
      "Training: 100%|██████████| 24/24 [00:36<00:00,  1.54s/it, loss=0.43] \n",
      "Validation: 100%|██████████| 4/4 [00:02<00:00,  1.39it/s, loss=0.402]\n"
     ]
    },
    {
     "name": "stdout",
     "output_type": "stream",
     "text": [
      "Validation Dice Score\n",
      "Class 0: 0.0000, Class 1: 0.0000, Class 2: 0.0006, Class 3: 0.4234, \n",
      "Class 4: 0.3687, Class 5: 0.4186, Class 6: 0.0000, \n",
      "Validation F-beta Score\n",
      "Class 0: 0.0000, Class 1: 0.0000, Class 2: 0.0051, Class 3: 0.3747, \n",
      "Class 4: 0.4085, Class 5: 0.4499, Class 6: 0.2500, \n",
      "Overall Mean Dice Score: 0.2421\n",
      "Overall Mean F-beta Score: 0.2966\n",
      "\n",
      "Training Loss: 0.5026, Validation Loss: 0.5013, Validation F-beta: 0.2966\n",
      "Epoch 418/4000\n",
      "Current lambda: 0.1900\n"
     ]
    },
    {
     "name": "stderr",
     "output_type": "stream",
     "text": [
      "Training: 100%|██████████| 24/24 [00:36<00:00,  1.53s/it, loss=0.46] \n",
      "Validation: 100%|██████████| 4/4 [00:02<00:00,  1.42it/s, loss=0.48] \n"
     ]
    },
    {
     "name": "stdout",
     "output_type": "stream",
     "text": [
      "Validation Dice Score\n",
      "Class 0: 0.0000, Class 1: 0.0000, Class 2: 0.0000, Class 3: 0.2523, \n",
      "Class 4: 0.3730, Class 5: 0.2638, Class 6: 0.0000, \n",
      "Validation F-beta Score\n",
      "Class 0: 0.0000, Class 1: 0.2500, Class 2: 0.0000, Class 3: 0.3011, \n",
      "Class 4: 0.2752, Class 5: 0.2281, Class 6: 0.5000, \n",
      "Overall Mean Dice Score: 0.1778\n",
      "Overall Mean F-beta Score: 0.3109\n",
      "\n",
      "Training Loss: 0.4815, Validation Loss: 0.4717, Validation F-beta: 0.3109\n",
      "Epoch 419/4000\n",
      "Current lambda: 0.1900\n"
     ]
    },
    {
     "name": "stderr",
     "output_type": "stream",
     "text": [
      "Training: 100%|██████████| 24/24 [00:36<00:00,  1.53s/it, loss=0.597]\n",
      "Validation: 100%|██████████| 4/4 [00:02<00:00,  1.45it/s, loss=0.498]\n"
     ]
    },
    {
     "name": "stdout",
     "output_type": "stream",
     "text": [
      "Validation Dice Score\n",
      "Class 0: 0.0000, Class 1: 0.0000, Class 2: 0.0020, Class 3: 0.1527, \n",
      "Class 4: 0.5200, Class 5: 0.3301, Class 6: 0.0000, \n",
      "Validation F-beta Score\n",
      "Class 0: 0.0000, Class 1: 0.0000, Class 2: 0.0166, Class 3: 0.1838, \n",
      "Class 4: 0.4852, Class 5: 0.3670, Class 6: 0.0000, \n",
      "Overall Mean Dice Score: 0.2006\n",
      "Overall Mean F-beta Score: 0.2072\n",
      "\n",
      "Training Loss: 0.4851, Validation Loss: 0.5017, Validation F-beta: 0.2072\n",
      "Epoch 420/4000\n",
      "Current lambda: 0.1900\n"
     ]
    },
    {
     "name": "stderr",
     "output_type": "stream",
     "text": [
      "Training: 100%|██████████| 24/24 [00:36<00:00,  1.53s/it, loss=0.419]\n",
      "Validation: 100%|██████████| 4/4 [00:02<00:00,  1.39it/s, loss=0.557]\n"
     ]
    },
    {
     "name": "stdout",
     "output_type": "stream",
     "text": [
      "Validation Dice Score\n",
      "Class 0: 0.0000, Class 1: 0.0000, Class 2: 0.0015, Class 3: 0.2978, \n",
      "Class 4: 0.4876, Class 5: 0.4030, Class 6: 0.0000, \n",
      "Validation F-beta Score\n",
      "Class 0: 0.0000, Class 1: 0.0000, Class 2: 0.0123, Class 3: 0.3324, \n",
      "Class 4: 0.3866, Class 5: 0.3225, Class 6: 0.0000, \n",
      "Overall Mean Dice Score: 0.2377\n",
      "Overall Mean F-beta Score: 0.2083\n",
      "\n",
      "Training Loss: 0.4565, Validation Loss: 0.5401, Validation F-beta: 0.2083\n",
      "Epoch 421/4000\n",
      "Current lambda: 0.1900\n"
     ]
    },
    {
     "name": "stderr",
     "output_type": "stream",
     "text": [
      "Training: 100%|██████████| 24/24 [00:36<00:00,  1.53s/it, loss=0.465]\n",
      "Validation: 100%|██████████| 4/4 [00:02<00:00,  1.42it/s, loss=0.457]\n"
     ]
    },
    {
     "name": "stdout",
     "output_type": "stream",
     "text": [
      "Validation Dice Score\n",
      "Class 0: 0.0000, Class 1: 0.0000, Class 2: 0.0006, Class 3: 0.1872, \n",
      "Class 4: 0.5012, Class 5: 0.2967, Class 6: 0.0000, \n",
      "Validation F-beta Score\n",
      "Class 0: 0.0000, Class 1: 0.0000, Class 2: 0.0052, Class 3: 0.2122, \n",
      "Class 4: 0.4413, Class 5: 0.2633, Class 6: 0.5000, \n",
      "Overall Mean Dice Score: 0.1970\n",
      "Overall Mean F-beta Score: 0.2834\n",
      "\n",
      "Training Loss: 0.4834, Validation Loss: 0.4908, Validation F-beta: 0.2834\n",
      "Epoch 422/4000\n",
      "Current lambda: 0.1900\n"
     ]
    },
    {
     "name": "stderr",
     "output_type": "stream",
     "text": [
      "Training: 100%|██████████| 24/24 [00:36<00:00,  1.53s/it, loss=0.423]\n",
      "Validation: 100%|██████████| 4/4 [00:02<00:00,  1.42it/s, loss=0.536]\n"
     ]
    },
    {
     "name": "stdout",
     "output_type": "stream",
     "text": [
      "Validation Dice Score\n",
      "Class 0: 0.0000, Class 1: 0.0000, Class 2: 0.0028, Class 3: 0.3095, \n",
      "Class 4: 0.1221, Class 5: 0.3482, Class 6: 0.0000, \n",
      "Validation F-beta Score\n",
      "Class 0: 0.0000, Class 1: 0.0000, Class 2: 0.0234, Class 3: 0.3236, \n",
      "Class 4: 0.0763, Class 5: 0.3290, Class 6: 0.5000, \n",
      "Overall Mean Dice Score: 0.1560\n",
      "Overall Mean F-beta Score: 0.2458\n",
      "\n",
      "Training Loss: 0.4900, Validation Loss: 0.4919, Validation F-beta: 0.2458\n",
      "Epoch 423/4000\n",
      "Current lambda: 0.1900\n"
     ]
    },
    {
     "name": "stderr",
     "output_type": "stream",
     "text": [
      "Training: 100%|██████████| 24/24 [00:36<00:00,  1.53s/it, loss=0.523]\n",
      "Validation: 100%|██████████| 4/4 [00:02<00:00,  1.40it/s, loss=0.521]\n"
     ]
    },
    {
     "name": "stdout",
     "output_type": "stream",
     "text": [
      "Validation Dice Score\n",
      "Class 0: 0.0000, Class 1: 0.0000, Class 2: 0.0016, Class 3: 0.5605, \n",
      "Class 4: 0.6760, Class 5: 0.3055, Class 6: 0.0000, \n",
      "Validation F-beta Score\n",
      "Class 0: 0.0000, Class 1: 0.0000, Class 2: 0.0137, Class 3: 0.5646, \n",
      "Class 4: 0.7343, Class 5: 0.2262, Class 6: 0.2500, \n",
      "Overall Mean Dice Score: 0.3084\n",
      "Overall Mean F-beta Score: 0.3550\n",
      "\n",
      "Training Loss: 0.4901, Validation Loss: 0.4939, Validation F-beta: 0.3550\n",
      "Epoch 424/4000\n",
      "Current lambda: 0.1900\n"
     ]
    },
    {
     "name": "stderr",
     "output_type": "stream",
     "text": [
      "Training: 100%|██████████| 24/24 [00:36<00:00,  1.52s/it, loss=0.358]\n",
      "Validation: 100%|██████████| 4/4 [00:02<00:00,  1.41it/s, loss=0.507]\n"
     ]
    },
    {
     "name": "stdout",
     "output_type": "stream",
     "text": [
      "Validation Dice Score\n",
      "Class 0: 0.0000, Class 1: 0.0000, Class 2: 0.0017, Class 3: 0.3941, \n",
      "Class 4: 0.6498, Class 5: 0.3853, Class 6: 0.0000, \n",
      "Validation F-beta Score\n",
      "Class 0: 0.0000, Class 1: 0.2500, Class 2: 0.0140, Class 3: 0.4159, \n",
      "Class 4: 0.5878, Class 5: 0.4092, Class 6: 0.2500, \n",
      "Overall Mean Dice Score: 0.2858\n",
      "Overall Mean F-beta Score: 0.3826\n",
      "\n",
      "Training Loss: 0.4493, Validation Loss: 0.4177, Validation F-beta: 0.3826\n",
      "Validation loss did not improve. Reducing lambda to 0.1800\n",
      "Epoch 425/4000\n",
      "Current lambda: 0.1800\n"
     ]
    },
    {
     "name": "stderr",
     "output_type": "stream",
     "text": [
      "Training: 100%|██████████| 24/24 [00:36<00:00,  1.53s/it, loss=0.497]\n",
      "Validation: 100%|██████████| 4/4 [00:02<00:00,  1.44it/s, loss=0.466]\n"
     ]
    },
    {
     "name": "stdout",
     "output_type": "stream",
     "text": [
      "Validation Dice Score\n",
      "Class 0: 0.0000, Class 1: 0.0000, Class 2: 0.0012, Class 3: 0.3245, \n",
      "Class 4: 0.5128, Class 5: 0.2906, Class 6: 0.0000, \n",
      "Validation F-beta Score\n",
      "Class 0: 0.0000, Class 1: 0.2500, Class 2: 0.0099, Class 3: 0.2898, \n",
      "Class 4: 0.4324, Class 5: 0.2443, Class 6: 0.5000, \n",
      "Overall Mean Dice Score: 0.2256\n",
      "Overall Mean F-beta Score: 0.3433\n",
      "\n",
      "Training Loss: 0.4974, Validation Loss: 0.4446, Validation F-beta: 0.3433\n",
      "Epoch 426/4000\n",
      "Current lambda: 0.1800\n"
     ]
    },
    {
     "name": "stderr",
     "output_type": "stream",
     "text": [
      "Training: 100%|██████████| 24/24 [00:36<00:00,  1.52s/it, loss=0.446]\n",
      "Validation: 100%|██████████| 4/4 [00:02<00:00,  1.43it/s, loss=0.383]\n"
     ]
    },
    {
     "name": "stdout",
     "output_type": "stream",
     "text": [
      "Validation Dice Score\n",
      "Class 0: 0.0000, Class 1: 0.0000, Class 2: 0.0018, Class 3: 0.5090, \n",
      "Class 4: 0.4406, Class 5: 0.3508, Class 6: 0.0000, \n",
      "Validation F-beta Score\n",
      "Class 0: 0.0000, Class 1: 0.0000, Class 2: 0.0149, Class 3: 0.5842, \n",
      "Class 4: 0.3778, Class 5: 0.2489, Class 6: 0.2500, \n",
      "Overall Mean Dice Score: 0.2601\n",
      "Overall Mean F-beta Score: 0.2922\n",
      "\n",
      "Training Loss: 0.4893, Validation Loss: 0.4134, Validation F-beta: 0.2922\n",
      "Epoch 427/4000\n",
      "Current lambda: 0.1800\n"
     ]
    },
    {
     "name": "stderr",
     "output_type": "stream",
     "text": [
      "Training: 100%|██████████| 24/24 [00:36<00:00,  1.53s/it, loss=0.657]\n",
      "Validation: 100%|██████████| 4/4 [00:02<00:00,  1.46it/s, loss=0.53] \n"
     ]
    },
    {
     "name": "stdout",
     "output_type": "stream",
     "text": [
      "Validation Dice Score\n",
      "Class 0: 0.0000, Class 1: 0.0000, Class 2: 0.0013, Class 3: 0.2447, \n",
      "Class 4: 0.4678, Class 5: 0.4176, Class 6: 0.0000, \n",
      "Validation F-beta Score\n",
      "Class 0: 0.0000, Class 1: 0.0000, Class 2: 0.0105, Class 3: 0.1932, \n",
      "Class 4: 0.3912, Class 5: 0.3225, Class 6: 0.0000, \n",
      "Overall Mean Dice Score: 0.2260\n",
      "Overall Mean F-beta Score: 0.1814\n",
      "\n",
      "Training Loss: 0.5016, Validation Loss: 0.4991, Validation F-beta: 0.1814\n",
      "Epoch 428/4000\n",
      "Current lambda: 0.1800\n"
     ]
    },
    {
     "name": "stderr",
     "output_type": "stream",
     "text": [
      "Training: 100%|██████████| 24/24 [00:37<00:00,  1.55s/it, loss=0.423]\n",
      "Validation: 100%|██████████| 4/4 [00:02<00:00,  1.46it/s, loss=0.453]\n"
     ]
    },
    {
     "name": "stdout",
     "output_type": "stream",
     "text": [
      "Validation Dice Score\n",
      "Class 0: 0.0000, Class 1: 0.0000, Class 2: 0.0015, Class 3: 0.3541, \n",
      "Class 4: 0.5966, Class 5: 0.4236, Class 6: 0.0000, \n",
      "Validation F-beta Score\n",
      "Class 0: 0.0000, Class 1: 0.2500, Class 2: 0.0125, Class 3: 0.3157, \n",
      "Class 4: 0.6421, Class 5: 0.4029, Class 6: 0.2500, \n",
      "Overall Mean Dice Score: 0.2748\n",
      "Overall Mean F-beta Score: 0.3721\n",
      "\n",
      "Training Loss: 0.4813, Validation Loss: 0.4615, Validation F-beta: 0.3721\n",
      "Epoch 429/4000\n",
      "Current lambda: 0.1800\n"
     ]
    },
    {
     "name": "stderr",
     "output_type": "stream",
     "text": [
      "Training: 100%|██████████| 24/24 [00:37<00:00,  1.55s/it, loss=0.419]\n",
      "Validation: 100%|██████████| 4/4 [00:02<00:00,  1.42it/s, loss=0.329]\n"
     ]
    },
    {
     "name": "stdout",
     "output_type": "stream",
     "text": [
      "Validation Dice Score\n",
      "Class 0: 0.0000, Class 1: 0.0000, Class 2: 0.0015, Class 3: 0.6126, \n",
      "Class 4: 0.5859, Class 5: 0.5243, Class 6: 0.0000, \n",
      "Validation F-beta Score\n",
      "Class 0: 0.0000, Class 1: 0.5000, Class 2: 0.0124, Class 3: 0.6347, \n",
      "Class 4: 0.4641, Class 5: 0.5643, Class 6: 0.5000, \n",
      "Overall Mean Dice Score: 0.3446\n",
      "Overall Mean F-beta Score: 0.5326\n",
      "\n",
      "Training Loss: 0.5050, Validation Loss: 0.3658, Validation F-beta: 0.5326\n",
      "========================================================\n",
      "Best model saved based on validation loss: 0.3658\n",
      "========================================================\n",
      "Epoch 430/4000\n",
      "Current lambda: 0.1800\n"
     ]
    },
    {
     "name": "stderr",
     "output_type": "stream",
     "text": [
      "Training: 100%|██████████| 24/24 [00:36<00:00,  1.53s/it, loss=0.558]\n",
      "Validation: 100%|██████████| 4/4 [00:02<00:00,  1.42it/s, loss=0.467]\n"
     ]
    },
    {
     "name": "stdout",
     "output_type": "stream",
     "text": [
      "Validation Dice Score\n",
      "Class 0: 0.0000, Class 1: 0.0000, Class 2: 0.0035, Class 3: 0.2842, \n",
      "Class 4: 0.0516, Class 5: 0.2551, Class 6: 0.0000, \n",
      "Validation F-beta Score\n",
      "Class 0: 0.0000, Class 1: 0.5000, Class 2: 0.0286, Class 3: 0.2184, \n",
      "Class 4: 0.1054, Class 5: 0.2415, Class 6: 0.7500, \n",
      "Overall Mean Dice Score: 0.1182\n",
      "Overall Mean F-beta Score: 0.3631\n",
      "\n",
      "Training Loss: 0.5017, Validation Loss: 0.4385, Validation F-beta: 0.3631\n",
      "Epoch 431/4000\n",
      "Current lambda: 0.1800\n"
     ]
    },
    {
     "name": "stderr",
     "output_type": "stream",
     "text": [
      "Training: 100%|██████████| 24/24 [00:36<00:00,  1.53s/it, loss=0.558]\n",
      "Validation: 100%|██████████| 4/4 [00:02<00:00,  1.39it/s, loss=0.479]\n"
     ]
    },
    {
     "name": "stdout",
     "output_type": "stream",
     "text": [
      "Validation Dice Score\n",
      "Class 0: 0.0000, Class 1: 0.0000, Class 2: 0.0007, Class 3: 0.3539, \n",
      "Class 4: 0.5390, Class 5: 0.4162, Class 6: 0.0000, \n",
      "Validation F-beta Score\n",
      "Class 0: 0.0000, Class 1: 0.0000, Class 2: 0.0063, Class 3: 0.2968, \n",
      "Class 4: 0.4887, Class 5: 0.3610, Class 6: 0.2500, \n",
      "Overall Mean Dice Score: 0.2618\n",
      "Overall Mean F-beta Score: 0.2793\n",
      "\n",
      "Training Loss: 0.4892, Validation Loss: 0.4450, Validation F-beta: 0.2793\n",
      "Epoch 432/4000\n",
      "Current lambda: 0.1800\n"
     ]
    },
    {
     "name": "stderr",
     "output_type": "stream",
     "text": [
      "Training: 100%|██████████| 24/24 [00:36<00:00,  1.53s/it, loss=0.496]\n",
      "Validation: 100%|██████████| 4/4 [00:02<00:00,  1.38it/s, loss=0.597]\n"
     ]
    },
    {
     "name": "stdout",
     "output_type": "stream",
     "text": [
      "Validation Dice Score\n",
      "Class 0: 0.0000, Class 1: 0.0000, Class 2: 0.0015, Class 3: 0.1670, \n",
      "Class 4: 0.4409, Class 5: 0.2798, Class 6: 0.0000, \n",
      "Validation F-beta Score\n",
      "Class 0: 0.0000, Class 1: 0.0000, Class 2: 0.0125, Class 3: 0.1494, \n",
      "Class 4: 0.4107, Class 5: 0.2210, Class 6: 0.0000, \n",
      "Overall Mean Dice Score: 0.1775\n",
      "Overall Mean F-beta Score: 0.1562\n",
      "\n",
      "Training Loss: 0.4979, Validation Loss: 0.5245, Validation F-beta: 0.1562\n",
      "Epoch 433/4000\n",
      "Current lambda: 0.1800\n"
     ]
    },
    {
     "name": "stderr",
     "output_type": "stream",
     "text": [
      "Training: 100%|██████████| 24/24 [00:36<00:00,  1.54s/it, loss=0.345]\n",
      "Validation: 100%|██████████| 4/4 [00:02<00:00,  1.42it/s, loss=0.504]\n"
     ]
    },
    {
     "name": "stdout",
     "output_type": "stream",
     "text": [
      "Validation Dice Score\n",
      "Class 0: 0.0000, Class 1: 0.0000, Class 2: 0.0012, Class 3: 0.5180, \n",
      "Class 4: 0.5956, Class 5: 0.4186, Class 6: 0.0000, \n",
      "Validation F-beta Score\n",
      "Class 0: 0.0000, Class 1: 0.0000, Class 2: 0.0099, Class 3: 0.5406, \n",
      "Class 4: 0.4563, Class 5: 0.4022, Class 6: 0.2500, \n",
      "Overall Mean Dice Score: 0.3064\n",
      "Overall Mean F-beta Score: 0.3298\n",
      "\n",
      "Training Loss: 0.4887, Validation Loss: 0.4739, Validation F-beta: 0.3298\n",
      "Epoch 434/4000\n",
      "Current lambda: 0.1800\n"
     ]
    },
    {
     "name": "stderr",
     "output_type": "stream",
     "text": [
      "Training: 100%|██████████| 24/24 [00:37<00:00,  1.54s/it, loss=0.547]\n",
      "Validation: 100%|██████████| 4/4 [00:02<00:00,  1.43it/s, loss=0.345]\n"
     ]
    },
    {
     "name": "stdout",
     "output_type": "stream",
     "text": [
      "Validation Dice Score\n",
      "Class 0: 0.0000, Class 1: 0.0000, Class 2: 0.0009, Class 3: 0.3815, \n",
      "Class 4: 0.5938, Class 5: 0.1915, Class 6: 0.0000, \n",
      "Validation F-beta Score\n",
      "Class 0: 0.0000, Class 1: 0.5000, Class 2: 0.0074, Class 3: 0.3319, \n",
      "Class 4: 0.5112, Class 5: 0.1566, Class 6: 0.7500, \n",
      "Overall Mean Dice Score: 0.2334\n",
      "Overall Mean F-beta Score: 0.4499\n",
      "\n",
      "Training Loss: 0.4869, Validation Loss: 0.4198, Validation F-beta: 0.4499\n",
      "Epoch 435/4000\n",
      "Current lambda: 0.1800\n"
     ]
    },
    {
     "name": "stderr",
     "output_type": "stream",
     "text": [
      "Training: 100%|██████████| 24/24 [00:36<00:00,  1.54s/it, loss=0.551]\n",
      "Validation: 100%|██████████| 4/4 [00:02<00:00,  1.41it/s, loss=0.545]\n"
     ]
    },
    {
     "name": "stdout",
     "output_type": "stream",
     "text": [
      "Validation Dice Score\n",
      "Class 0: 0.0000, Class 1: 0.0000, Class 2: 0.0016, Class 3: 0.3005, \n",
      "Class 4: 0.5731, Class 5: 0.3450, Class 6: 0.0000, \n",
      "Validation F-beta Score\n",
      "Class 0: 0.0000, Class 1: 0.2500, Class 2: 0.0132, Class 3: 0.2665, \n",
      "Class 4: 0.5468, Class 5: 0.2748, Class 6: 0.0000, \n",
      "Overall Mean Dice Score: 0.2437\n",
      "Overall Mean F-beta Score: 0.2676\n",
      "\n",
      "Training Loss: 0.4816, Validation Loss: 0.4593, Validation F-beta: 0.2676\n",
      "Epoch 436/4000\n",
      "Current lambda: 0.1800\n"
     ]
    },
    {
     "name": "stderr",
     "output_type": "stream",
     "text": [
      "Training: 100%|██████████| 24/24 [00:36<00:00,  1.54s/it, loss=0.494]\n",
      "Validation: 100%|██████████| 4/4 [00:02<00:00,  1.43it/s, loss=0.532]\n"
     ]
    },
    {
     "name": "stdout",
     "output_type": "stream",
     "text": [
      "Validation Dice Score\n",
      "Class 0: 0.0000, Class 1: 0.0000, Class 2: 0.0012, Class 3: 0.0687, \n",
      "Class 4: 0.1041, Class 5: 0.3864, Class 6: 0.0000, \n",
      "Validation F-beta Score\n",
      "Class 0: 0.0000, Class 1: 0.0000, Class 2: 0.0100, Class 3: 0.0602, \n",
      "Class 4: 0.0793, Class 5: 0.3518, Class 6: 0.0000, \n",
      "Overall Mean Dice Score: 0.1118\n",
      "Overall Mean F-beta Score: 0.0983\n",
      "\n",
      "Training Loss: 0.4612, Validation Loss: 0.5367, Validation F-beta: 0.0983\n",
      "Epoch 437/4000\n",
      "Current lambda: 0.1800\n"
     ]
    },
    {
     "name": "stderr",
     "output_type": "stream",
     "text": [
      "Training: 100%|██████████| 24/24 [00:37<00:00,  1.55s/it, loss=0.655]\n",
      "Validation: 100%|██████████| 4/4 [00:02<00:00,  1.42it/s, loss=0.39] \n"
     ]
    },
    {
     "name": "stdout",
     "output_type": "stream",
     "text": [
      "Validation Dice Score\n",
      "Class 0: 0.0000, Class 1: 0.0000, Class 2: 0.0009, Class 3: 0.2636, \n",
      "Class 4: 0.4438, Class 5: 0.3480, Class 6: 0.0000, \n",
      "Validation F-beta Score\n",
      "Class 0: 0.0000, Class 1: 0.2500, Class 2: 0.0073, Class 3: 0.2167, \n",
      "Class 4: 0.3316, Class 5: 0.3698, Class 6: 0.2500, \n",
      "Overall Mean Dice Score: 0.2111\n",
      "Overall Mean F-beta Score: 0.2836\n",
      "\n",
      "Training Loss: 0.4739, Validation Loss: 0.4572, Validation F-beta: 0.2836\n",
      "Epoch 438/4000\n",
      "Current lambda: 0.1800\n"
     ]
    },
    {
     "name": "stderr",
     "output_type": "stream",
     "text": [
      "Training: 100%|██████████| 24/24 [00:37<00:00,  1.55s/it, loss=0.597]\n",
      "Validation: 100%|██████████| 4/4 [00:02<00:00,  1.40it/s, loss=0.5]  \n"
     ]
    },
    {
     "name": "stdout",
     "output_type": "stream",
     "text": [
      "Validation Dice Score\n",
      "Class 0: 0.0000, Class 1: 0.0000, Class 2: 0.0015, Class 3: 0.3297, \n",
      "Class 4: 0.5889, Class 5: 0.4219, Class 6: 0.0000, \n",
      "Validation F-beta Score\n",
      "Class 0: 0.0000, Class 1: 0.0000, Class 2: 0.0126, Class 3: 0.2606, \n",
      "Class 4: 0.6205, Class 5: 0.3772, Class 6: 0.0000, \n",
      "Overall Mean Dice Score: 0.2681\n",
      "Overall Mean F-beta Score: 0.2517\n",
      "\n",
      "Training Loss: 0.4800, Validation Loss: 0.4307, Validation F-beta: 0.2517\n",
      "Validation loss did not improve. Reducing lambda to 0.1700\n",
      "Epoch 439/4000\n",
      "Current lambda: 0.1700\n"
     ]
    },
    {
     "name": "stderr",
     "output_type": "stream",
     "text": [
      "Training: 100%|██████████| 24/24 [00:37<00:00,  1.55s/it, loss=0.494]\n",
      "Validation: 100%|██████████| 4/4 [00:02<00:00,  1.41it/s, loss=0.596]\n"
     ]
    },
    {
     "name": "stdout",
     "output_type": "stream",
     "text": [
      "Validation Dice Score\n",
      "Class 0: 0.0000, Class 1: 0.0000, Class 2: 0.0009, Class 3: 0.1026, \n",
      "Class 4: 0.5621, Class 5: 0.1715, Class 6: 0.0000, \n",
      "Validation F-beta Score\n",
      "Class 0: 0.0000, Class 1: 0.0000, Class 2: 0.0074, Class 3: 0.0785, \n",
      "Class 4: 0.4799, Class 5: 0.1408, Class 6: 0.2500, \n",
      "Overall Mean Dice Score: 0.1672\n",
      "Overall Mean F-beta Score: 0.1898\n",
      "\n",
      "Training Loss: 0.4849, Validation Loss: 0.5377, Validation F-beta: 0.1898\n",
      "Epoch 440/4000\n",
      "Current lambda: 0.1700\n"
     ]
    },
    {
     "name": "stderr",
     "output_type": "stream",
     "text": [
      "Training: 100%|██████████| 24/24 [00:36<00:00,  1.52s/it, loss=0.508]\n",
      "Validation: 100%|██████████| 4/4 [00:02<00:00,  1.40it/s, loss=0.471]\n"
     ]
    },
    {
     "name": "stdout",
     "output_type": "stream",
     "text": [
      "Validation Dice Score\n",
      "Class 0: 0.0000, Class 1: 0.0000, Class 2: 0.0027, Class 3: 0.3647, \n",
      "Class 4: 0.4933, Class 5: 0.3621, Class 6: 0.0000, \n",
      "Validation F-beta Score\n",
      "Class 0: 0.0000, Class 1: 0.2500, Class 2: 0.0224, Class 3: 0.3196, \n",
      "Class 4: 0.4651, Class 5: 0.3852, Class 6: 0.5000, \n",
      "Overall Mean Dice Score: 0.2440\n",
      "Overall Mean F-beta Score: 0.3840\n",
      "\n",
      "Training Loss: 0.4733, Validation Loss: 0.4180, Validation F-beta: 0.3840\n",
      "Epoch 441/4000\n",
      "Current lambda: 0.1700\n"
     ]
    },
    {
     "name": "stderr",
     "output_type": "stream",
     "text": [
      "Training: 100%|██████████| 24/24 [00:36<00:00,  1.53s/it, loss=0.544]\n",
      "Validation: 100%|██████████| 4/4 [00:02<00:00,  1.42it/s, loss=0.545]\n"
     ]
    },
    {
     "name": "stdout",
     "output_type": "stream",
     "text": [
      "Validation Dice Score\n",
      "Class 0: 0.0000, Class 1: 0.0000, Class 2: 0.0008, Class 3: 0.4836, \n",
      "Class 4: 0.4862, Class 5: 0.2523, Class 6: 0.0000, \n",
      "Validation F-beta Score\n",
      "Class 0: 0.0000, Class 1: 0.0000, Class 2: 0.0066, Class 3: 0.4825, \n",
      "Class 4: 0.3883, Class 5: 0.2462, Class 6: 0.0000, \n",
      "Overall Mean Dice Score: 0.2444\n",
      "Overall Mean F-beta Score: 0.2234\n",
      "\n",
      "Training Loss: 0.5080, Validation Loss: 0.4717, Validation F-beta: 0.2234\n",
      "Epoch 442/4000\n",
      "Current lambda: 0.1700\n"
     ]
    },
    {
     "name": "stderr",
     "output_type": "stream",
     "text": [
      "Training: 100%|██████████| 24/24 [00:36<00:00,  1.54s/it, loss=0.655]\n",
      "Validation: 100%|██████████| 4/4 [00:02<00:00,  1.43it/s, loss=0.509]\n"
     ]
    },
    {
     "name": "stdout",
     "output_type": "stream",
     "text": [
      "Validation Dice Score\n",
      "Class 0: 0.0000, Class 1: 0.0000, Class 2: 0.0019, Class 3: 0.3134, \n",
      "Class 4: 0.6112, Class 5: 0.2864, Class 6: 0.0000, \n",
      "Validation F-beta Score\n",
      "Class 0: 0.0000, Class 1: 0.2500, Class 2: 0.0158, Class 3: 0.2317, \n",
      "Class 4: 0.6551, Class 5: 0.2511, Class 6: 0.0000, \n",
      "Overall Mean Dice Score: 0.2422\n",
      "Overall Mean F-beta Score: 0.2776\n",
      "\n",
      "Training Loss: 0.4535, Validation Loss: 0.4784, Validation F-beta: 0.2776\n",
      "Epoch 443/4000\n",
      "Current lambda: 0.1700\n"
     ]
    },
    {
     "name": "stderr",
     "output_type": "stream",
     "text": [
      "Training: 100%|██████████| 24/24 [00:36<00:00,  1.53s/it, loss=0.563]\n",
      "Validation: 100%|██████████| 4/4 [00:02<00:00,  1.40it/s, loss=0.358]\n"
     ]
    },
    {
     "name": "stdout",
     "output_type": "stream",
     "text": [
      "Validation Dice Score\n",
      "Class 0: 0.0000, Class 1: 0.0000, Class 2: 0.0026, Class 3: 0.2491, \n",
      "Class 4: 0.6347, Class 5: 0.3836, Class 6: 0.0000, \n",
      "Validation F-beta Score\n",
      "Class 0: 0.0000, Class 1: 0.2500, Class 2: 0.0214, Class 3: 0.2031, \n",
      "Class 4: 0.5804, Class 5: 0.3336, Class 6: 0.5000, \n",
      "Overall Mean Dice Score: 0.2535\n",
      "Overall Mean F-beta Score: 0.3734\n",
      "\n",
      "Training Loss: 0.4902, Validation Loss: 0.4217, Validation F-beta: 0.3734\n",
      "Epoch 444/4000\n",
      "Current lambda: 0.1700\n"
     ]
    },
    {
     "name": "stderr",
     "output_type": "stream",
     "text": [
      "Training: 100%|██████████| 24/24 [00:36<00:00,  1.53s/it, loss=0.585]\n",
      "Validation: 100%|██████████| 4/4 [00:02<00:00,  1.42it/s, loss=0.414]\n"
     ]
    },
    {
     "name": "stdout",
     "output_type": "stream",
     "text": [
      "Validation Dice Score\n",
      "Class 0: 0.0000, Class 1: 0.0000, Class 2: 0.0026, Class 3: 0.3108, \n",
      "Class 4: 0.4090, Class 5: 0.2562, Class 6: 0.0000, \n",
      "Validation F-beta Score\n",
      "Class 0: 0.0000, Class 1: 0.0000, Class 2: 0.0212, Class 3: 0.2863, \n",
      "Class 4: 0.3621, Class 5: 0.1944, Class 6: 0.0000, \n",
      "Overall Mean Dice Score: 0.1952\n",
      "Overall Mean F-beta Score: 0.1686\n",
      "\n",
      "Training Loss: 0.4990, Validation Loss: 0.4912, Validation F-beta: 0.1686\n",
      "Epoch 445/4000\n",
      "Current lambda: 0.1700\n"
     ]
    },
    {
     "name": "stderr",
     "output_type": "stream",
     "text": [
      "Training: 100%|██████████| 24/24 [00:36<00:00,  1.52s/it, loss=0.603]\n",
      "Validation: 100%|██████████| 4/4 [00:02<00:00,  1.39it/s, loss=0.41] \n"
     ]
    },
    {
     "name": "stdout",
     "output_type": "stream",
     "text": [
      "Validation Dice Score\n",
      "Class 0: 0.0000, Class 1: 0.0000, Class 2: 0.0017, Class 3: 0.1300, \n",
      "Class 4: 0.3463, Class 5: 0.4459, Class 6: 0.0000, \n",
      "Validation F-beta Score\n",
      "Class 0: 0.0000, Class 1: 0.2500, Class 2: 0.0136, Class 3: 0.1535, \n",
      "Class 4: 0.2370, Class 5: 0.3793, Class 6: 0.5000, \n",
      "Overall Mean Dice Score: 0.1844\n",
      "Overall Mean F-beta Score: 0.3040\n",
      "\n",
      "Training Loss: 0.4926, Validation Loss: 0.4274, Validation F-beta: 0.3040\n",
      "Epoch 446/4000\n",
      "Current lambda: 0.1700\n"
     ]
    },
    {
     "name": "stderr",
     "output_type": "stream",
     "text": [
      "Training: 100%|██████████| 24/24 [00:36<00:00,  1.53s/it, loss=0.528]\n",
      "Validation: 100%|██████████| 4/4 [00:02<00:00,  1.40it/s, loss=0.387]\n"
     ]
    },
    {
     "name": "stdout",
     "output_type": "stream",
     "text": [
      "Validation Dice Score\n",
      "Class 0: 0.0000, Class 1: 0.0000, Class 2: 0.0005, Class 3: 0.1078, \n",
      "Class 4: 0.4352, Class 5: 0.4295, Class 6: 0.0000, \n",
      "Validation F-beta Score\n",
      "Class 0: 0.0000, Class 1: 0.0000, Class 2: 0.0040, Class 3: 0.0944, \n",
      "Class 4: 0.3475, Class 5: 0.3807, Class 6: 0.5000, \n",
      "Overall Mean Dice Score: 0.1945\n",
      "Overall Mean F-beta Score: 0.2645\n",
      "\n",
      "Training Loss: 0.4748, Validation Loss: 0.4606, Validation F-beta: 0.2645\n",
      "Epoch 447/4000\n",
      "Current lambda: 0.1700\n"
     ]
    },
    {
     "name": "stderr",
     "output_type": "stream",
     "text": [
      "Training: 100%|██████████| 24/24 [00:36<00:00,  1.53s/it, loss=0.5]  \n",
      "Validation: 100%|██████████| 4/4 [00:02<00:00,  1.41it/s, loss=0.557]\n"
     ]
    },
    {
     "name": "stdout",
     "output_type": "stream",
     "text": [
      "Validation Dice Score\n",
      "Class 0: 0.0000, Class 1: 0.0000, Class 2: 0.0009, Class 3: 0.2291, \n",
      "Class 4: 0.4360, Class 5: 0.5092, Class 6: 0.0000, \n",
      "Validation F-beta Score\n",
      "Class 0: 0.0000, Class 1: 0.0000, Class 2: 0.0074, Class 3: 0.2433, \n",
      "Class 4: 0.3572, Class 5: 0.4931, Class 6: 0.0000, \n",
      "Overall Mean Dice Score: 0.2349\n",
      "Overall Mean F-beta Score: 0.2187\n",
      "\n",
      "Training Loss: 0.4844, Validation Loss: 0.5139, Validation F-beta: 0.2187\n",
      "Epoch 448/4000\n",
      "Current lambda: 0.1700\n"
     ]
    },
    {
     "name": "stderr",
     "output_type": "stream",
     "text": [
      "Training: 100%|██████████| 24/24 [00:36<00:00,  1.54s/it, loss=0.47] \n",
      "Validation: 100%|██████████| 4/4 [00:02<00:00,  1.39it/s, loss=0.543]\n"
     ]
    },
    {
     "name": "stdout",
     "output_type": "stream",
     "text": [
      "Validation Dice Score\n",
      "Class 0: 0.0000, Class 1: 0.0000, Class 2: 0.0015, Class 3: 0.3735, \n",
      "Class 4: 0.1297, Class 5: 0.4908, Class 6: 0.0000, \n",
      "Validation F-beta Score\n",
      "Class 0: 0.0000, Class 1: 0.2500, Class 2: 0.0123, Class 3: 0.3393, \n",
      "Class 4: 0.0830, Class 5: 0.4147, Class 6: 0.2500, \n",
      "Overall Mean Dice Score: 0.1988\n",
      "Overall Mean F-beta Score: 0.2674\n",
      "\n",
      "Training Loss: 0.4804, Validation Loss: 0.4734, Validation F-beta: 0.2674\n",
      "Validation loss did not improve. Reducing lambda to 0.1600\n",
      "Epoch 449/4000\n",
      "Current lambda: 0.1600\n"
     ]
    },
    {
     "name": "stderr",
     "output_type": "stream",
     "text": [
      "Training: 100%|██████████| 24/24 [00:36<00:00,  1.54s/it, loss=0.453]\n",
      "Validation: 100%|██████████| 4/4 [00:02<00:00,  1.44it/s, loss=0.485]\n"
     ]
    },
    {
     "name": "stdout",
     "output_type": "stream",
     "text": [
      "Validation Dice Score\n",
      "Class 0: 0.0000, Class 1: 0.0000, Class 2: 0.0018, Class 3: 0.1814, \n",
      "Class 4: 0.3602, Class 5: 0.3717, Class 6: 0.0000, \n",
      "Validation F-beta Score\n",
      "Class 0: 0.0000, Class 1: 0.0000, Class 2: 0.0153, Class 3: 0.1635, \n",
      "Class 4: 0.3037, Class 5: 0.3722, Class 6: 0.0000, \n",
      "Overall Mean Dice Score: 0.1827\n",
      "Overall Mean F-beta Score: 0.1679\n",
      "\n",
      "Training Loss: 0.4865, Validation Loss: 0.5526, Validation F-beta: 0.1679\n",
      "Epoch 450/4000\n",
      "Current lambda: 0.1600\n"
     ]
    },
    {
     "name": "stderr",
     "output_type": "stream",
     "text": [
      "Training: 100%|██████████| 24/24 [00:36<00:00,  1.53s/it, loss=0.424]\n",
      "Validation: 100%|██████████| 4/4 [00:02<00:00,  1.39it/s, loss=0.485]\n"
     ]
    },
    {
     "name": "stdout",
     "output_type": "stream",
     "text": [
      "Validation Dice Score\n",
      "Class 0: 0.0000, Class 1: 0.0000, Class 2: 0.0015, Class 3: 0.2509, \n",
      "Class 4: 0.4221, Class 5: 0.3835, Class 6: 0.0000, \n",
      "Validation F-beta Score\n",
      "Class 0: 0.0000, Class 1: 0.0000, Class 2: 0.0129, Class 3: 0.1814, \n",
      "Class 4: 0.3914, Class 5: 0.3738, Class 6: 0.2500, \n",
      "Overall Mean Dice Score: 0.2113\n",
      "Overall Mean F-beta Score: 0.2393\n",
      "\n",
      "Training Loss: 0.4901, Validation Loss: 0.5050, Validation F-beta: 0.2393\n",
      "Epoch 451/4000\n",
      "Current lambda: 0.1600\n"
     ]
    },
    {
     "name": "stderr",
     "output_type": "stream",
     "text": [
      "Training: 100%|██████████| 24/24 [00:36<00:00,  1.53s/it, loss=0.597]\n",
      "Validation: 100%|██████████| 4/4 [00:02<00:00,  1.44it/s, loss=0.467]\n"
     ]
    },
    {
     "name": "stdout",
     "output_type": "stream",
     "text": [
      "Validation Dice Score\n",
      "Class 0: 0.0000, Class 1: 0.0000, Class 2: 0.0013, Class 3: 0.3703, \n",
      "Class 4: 0.3097, Class 5: 0.2937, Class 6: 0.0000, \n",
      "Validation F-beta Score\n",
      "Class 0: 0.0000, Class 1: 0.0000, Class 2: 0.0112, Class 3: 0.3844, \n",
      "Class 4: 0.2788, Class 5: 0.2526, Class 6: 0.2500, \n",
      "Overall Mean Dice Score: 0.1947\n",
      "Overall Mean F-beta Score: 0.2332\n",
      "\n",
      "Training Loss: 0.5189, Validation Loss: 0.5194, Validation F-beta: 0.2332\n",
      "Epoch 452/4000\n",
      "Current lambda: 0.1600\n"
     ]
    },
    {
     "name": "stderr",
     "output_type": "stream",
     "text": [
      "Training: 100%|██████████| 24/24 [00:37<00:00,  1.54s/it, loss=0.466]\n",
      "Validation: 100%|██████████| 4/4 [00:02<00:00,  1.43it/s, loss=0.42] \n"
     ]
    },
    {
     "name": "stdout",
     "output_type": "stream",
     "text": [
      "Validation Dice Score\n",
      "Class 0: 0.0000, Class 1: 0.0000, Class 2: 0.0016, Class 3: 0.1518, \n",
      "Class 4: 0.5497, Class 5: 0.3476, Class 6: 0.0000, \n",
      "Validation F-beta Score\n",
      "Class 0: 0.0000, Class 1: 0.2500, Class 2: 0.0137, Class 3: 0.1718, \n",
      "Class 4: 0.4974, Class 5: 0.3158, Class 6: 0.2500, \n",
      "Overall Mean Dice Score: 0.2098\n",
      "Overall Mean F-beta Score: 0.2970\n",
      "\n",
      "Training Loss: 0.4615, Validation Loss: 0.5029, Validation F-beta: 0.2970\n",
      "Epoch 453/4000\n",
      "Current lambda: 0.1600\n"
     ]
    },
    {
     "name": "stderr",
     "output_type": "stream",
     "text": [
      "Training: 100%|██████████| 24/24 [00:36<00:00,  1.53s/it, loss=0.564]\n",
      "Validation: 100%|██████████| 4/4 [00:02<00:00,  1.42it/s, loss=0.535]\n"
     ]
    },
    {
     "name": "stdout",
     "output_type": "stream",
     "text": [
      "Validation Dice Score\n",
      "Class 0: 0.0000, Class 1: 0.0000, Class 2: 0.0013, Class 3: 0.1495, \n",
      "Class 4: 0.3385, Class 5: 0.3011, Class 6: 0.0000, \n",
      "Validation F-beta Score\n",
      "Class 0: 0.0000, Class 1: 0.0000, Class 2: 0.0109, Class 3: 0.1448, \n",
      "Class 4: 0.5697, Class 5: 0.2992, Class 6: 0.0000, \n",
      "Overall Mean Dice Score: 0.1578\n",
      "Overall Mean F-beta Score: 0.2027\n",
      "\n",
      "Training Loss: 0.4997, Validation Loss: 0.5379, Validation F-beta: 0.2027\n",
      "Epoch 454/4000\n",
      "Current lambda: 0.1600\n"
     ]
    },
    {
     "name": "stderr",
     "output_type": "stream",
     "text": [
      "Training: 100%|██████████| 24/24 [00:36<00:00,  1.53s/it, loss=0.552]\n",
      "Validation: 100%|██████████| 4/4 [00:02<00:00,  1.42it/s, loss=0.527]\n"
     ]
    },
    {
     "name": "stdout",
     "output_type": "stream",
     "text": [
      "Validation Dice Score\n",
      "Class 0: 0.0000, Class 1: 0.0000, Class 2: 0.0022, Class 3: 0.3116, \n",
      "Class 4: 0.4684, Class 5: 0.3486, Class 6: 0.0000, \n",
      "Validation F-beta Score\n",
      "Class 0: 0.0000, Class 1: 0.0000, Class 2: 0.0184, Class 3: 0.3524, \n",
      "Class 4: 0.4436, Class 5: 0.3344, Class 6: 0.5000, \n",
      "Overall Mean Dice Score: 0.2257\n",
      "Overall Mean F-beta Score: 0.3261\n",
      "\n",
      "Training Loss: 0.4992, Validation Loss: 0.4883, Validation F-beta: 0.3261\n",
      "Epoch 455/4000\n",
      "Current lambda: 0.1600\n"
     ]
    },
    {
     "name": "stderr",
     "output_type": "stream",
     "text": [
      "Training: 100%|██████████| 24/24 [00:36<00:00,  1.53s/it, loss=0.577]\n",
      "Validation: 100%|██████████| 4/4 [00:02<00:00,  1.40it/s, loss=0.492]\n"
     ]
    },
    {
     "name": "stdout",
     "output_type": "stream",
     "text": [
      "Validation Dice Score\n",
      "Class 0: 0.0000, Class 1: 0.0000, Class 2: 0.0023, Class 3: 0.2218, \n",
      "Class 4: 0.4223, Class 5: 0.2307, Class 6: 0.0000, \n",
      "Validation F-beta Score\n",
      "Class 0: 0.0000, Class 1: 0.0000, Class 2: 0.0188, Class 3: 0.2115, \n",
      "Class 4: 0.3532, Class 5: 0.2523, Class 6: 0.0000, \n",
      "Overall Mean Dice Score: 0.1750\n",
      "Overall Mean F-beta Score: 0.1634\n",
      "\n",
      "Training Loss: 0.5029, Validation Loss: 0.5391, Validation F-beta: 0.1634\n",
      "Epoch 456/4000\n",
      "Current lambda: 0.1600\n"
     ]
    },
    {
     "name": "stderr",
     "output_type": "stream",
     "text": [
      "Training: 100%|██████████| 24/24 [00:36<00:00,  1.54s/it, loss=0.479]\n",
      "Validation: 100%|██████████| 4/4 [00:02<00:00,  1.43it/s, loss=0.593]\n"
     ]
    },
    {
     "name": "stdout",
     "output_type": "stream",
     "text": [
      "Validation Dice Score\n",
      "Class 0: 0.0000, Class 1: 0.0000, Class 2: 0.0016, Class 3: 0.3846, \n",
      "Class 4: 0.3199, Class 5: 0.4932, Class 6: 0.0000, \n",
      "Validation F-beta Score\n",
      "Class 0: 0.0000, Class 1: 0.0000, Class 2: 0.0135, Class 3: 0.3619, \n",
      "Class 4: 0.2636, Class 5: 0.4027, Class 6: 0.0000, \n",
      "Overall Mean Dice Score: 0.2395\n",
      "Overall Mean F-beta Score: 0.2056\n",
      "\n",
      "Training Loss: 0.4816, Validation Loss: 0.5196, Validation F-beta: 0.2056\n",
      "Epoch 457/4000\n",
      "Current lambda: 0.1600\n"
     ]
    },
    {
     "name": "stderr",
     "output_type": "stream",
     "text": [
      "Training: 100%|██████████| 24/24 [00:37<00:00,  1.54s/it, loss=0.468]\n",
      "Validation: 100%|██████████| 4/4 [00:02<00:00,  1.40it/s, loss=0.475]\n"
     ]
    },
    {
     "name": "stdout",
     "output_type": "stream",
     "text": [
      "Validation Dice Score\n",
      "Class 0: 0.0000, Class 1: 0.0000, Class 2: 0.0015, Class 3: 0.1541, \n",
      "Class 4: 0.5413, Class 5: 0.3551, Class 6: 0.0000, \n",
      "Validation F-beta Score\n",
      "Class 0: 0.0000, Class 1: 0.7500, Class 2: 0.0122, Class 3: 0.1183, \n",
      "Class 4: 0.4968, Class 5: 0.3027, Class 6: 0.2500, \n",
      "Overall Mean Dice Score: 0.2101\n",
      "Overall Mean F-beta Score: 0.3835\n",
      "\n",
      "Training Loss: 0.4915, Validation Loss: 0.4265, Validation F-beta: 0.3835\n",
      "Epoch 458/4000\n",
      "Current lambda: 0.1600\n"
     ]
    },
    {
     "name": "stderr",
     "output_type": "stream",
     "text": [
      "Training: 100%|██████████| 24/24 [00:36<00:00,  1.53s/it, loss=0.364]\n",
      "Validation: 100%|██████████| 4/4 [00:02<00:00,  1.42it/s, loss=0.368]\n"
     ]
    },
    {
     "name": "stdout",
     "output_type": "stream",
     "text": [
      "Validation Dice Score\n",
      "Class 0: 0.0000, Class 1: 0.0000, Class 2: 0.0013, Class 3: 0.3861, \n",
      "Class 4: 0.6175, Class 5: 0.4430, Class 6: 0.0000, \n",
      "Validation F-beta Score\n",
      "Class 0: 0.0000, Class 1: 0.2500, Class 2: 0.0112, Class 3: 0.3596, \n",
      "Class 4: 0.5132, Class 5: 0.3662, Class 6: 0.2500, \n",
      "Overall Mean Dice Score: 0.2893\n",
      "Overall Mean F-beta Score: 0.3478\n",
      "\n",
      "Training Loss: 0.4872, Validation Loss: 0.4306, Validation F-beta: 0.3478\n",
      "Validation loss did not improve. Reducing lambda to 0.1500\n",
      "Epoch 459/4000\n",
      "Current lambda: 0.1500\n"
     ]
    },
    {
     "name": "stderr",
     "output_type": "stream",
     "text": [
      "Training: 100%|██████████| 24/24 [00:36<00:00,  1.54s/it, loss=0.475]\n",
      "Validation: 100%|██████████| 4/4 [00:02<00:00,  1.41it/s, loss=0.536]\n"
     ]
    },
    {
     "name": "stdout",
     "output_type": "stream",
     "text": [
      "Validation Dice Score\n",
      "Class 0: 0.0000, Class 1: 0.0000, Class 2: 0.0013, Class 3: 0.2009, \n",
      "Class 4: 0.2371, Class 5: 0.3283, Class 6: 0.0000, \n",
      "Validation F-beta Score\n",
      "Class 0: 0.0000, Class 1: 0.0000, Class 2: 0.0104, Class 3: 0.2053, \n",
      "Class 4: 0.1611, Class 5: 0.3482, Class 6: 0.2500, \n",
      "Overall Mean Dice Score: 0.1533\n",
      "Overall Mean F-beta Score: 0.1929\n",
      "\n",
      "Training Loss: 0.4814, Validation Loss: 0.5273, Validation F-beta: 0.1929\n",
      "Epoch 460/4000\n",
      "Current lambda: 0.1500\n"
     ]
    },
    {
     "name": "stderr",
     "output_type": "stream",
     "text": [
      "Training: 100%|██████████| 24/24 [00:36<00:00,  1.52s/it, loss=0.498]\n",
      "Validation: 100%|██████████| 4/4 [00:02<00:00,  1.40it/s, loss=0.48] \n"
     ]
    },
    {
     "name": "stdout",
     "output_type": "stream",
     "text": [
      "Validation Dice Score\n",
      "Class 0: 0.0000, Class 1: 0.0000, Class 2: 0.0023, Class 3: 0.3299, \n",
      "Class 4: 0.2819, Class 5: 0.3399, Class 6: 0.0000, \n",
      "Validation F-beta Score\n",
      "Class 0: 0.0000, Class 1: 0.2500, Class 2: 0.0194, Class 3: 0.3093, \n",
      "Class 4: 0.3792, Class 5: 0.2711, Class 6: 0.5000, \n",
      "Overall Mean Dice Score: 0.1903\n",
      "Overall Mean F-beta Score: 0.3419\n",
      "\n",
      "Training Loss: 0.4941, Validation Loss: 0.4537, Validation F-beta: 0.3419\n",
      "Epoch 461/4000\n",
      "Current lambda: 0.1500\n"
     ]
    },
    {
     "name": "stderr",
     "output_type": "stream",
     "text": [
      "Training: 100%|██████████| 24/24 [00:36<00:00,  1.53s/it, loss=0.412]\n",
      "Validation: 100%|██████████| 4/4 [00:02<00:00,  1.40it/s, loss=0.562]\n"
     ]
    },
    {
     "name": "stdout",
     "output_type": "stream",
     "text": [
      "Validation Dice Score\n",
      "Class 0: 0.0000, Class 1: 0.0000, Class 2: 0.0010, Class 3: 0.3790, \n",
      "Class 4: 0.5881, Class 5: 0.2002, Class 6: 0.0000, \n",
      "Validation F-beta Score\n",
      "Class 0: 0.0000, Class 1: 0.0000, Class 2: 0.0081, Class 3: 0.3044, \n",
      "Class 4: 0.4989, Class 5: 0.1439, Class 6: 0.2500, \n",
      "Overall Mean Dice Score: 0.2335\n",
      "Overall Mean F-beta Score: 0.2394\n",
      "\n",
      "Training Loss: 0.4614, Validation Loss: 0.4857, Validation F-beta: 0.2394\n",
      "Epoch 462/4000\n",
      "Current lambda: 0.1500\n"
     ]
    },
    {
     "name": "stderr",
     "output_type": "stream",
     "text": [
      "Training: 100%|██████████| 24/24 [00:36<00:00,  1.53s/it, loss=0.544]\n",
      "Validation: 100%|██████████| 4/4 [00:02<00:00,  1.42it/s, loss=0.499]\n"
     ]
    },
    {
     "name": "stdout",
     "output_type": "stream",
     "text": [
      "Validation Dice Score\n",
      "Class 0: 0.0000, Class 1: 0.0000, Class 2: 0.0016, Class 3: 0.1202, \n",
      "Class 4: 0.5586, Class 5: 0.3422, Class 6: 0.0000, \n",
      "Validation F-beta Score\n",
      "Class 0: 0.0000, Class 1: 0.2500, Class 2: 0.0136, Class 3: 0.0891, \n",
      "Class 4: 0.4966, Class 5: 0.3449, Class 6: 0.7500, \n",
      "Overall Mean Dice Score: 0.2042\n",
      "Overall Mean F-beta Score: 0.3861\n",
      "\n",
      "Training Loss: 0.4626, Validation Loss: 0.4366, Validation F-beta: 0.3861\n",
      "Epoch 463/4000\n",
      "Current lambda: 0.1500\n"
     ]
    },
    {
     "name": "stderr",
     "output_type": "stream",
     "text": [
      "Training: 100%|██████████| 24/24 [00:36<00:00,  1.53s/it, loss=0.555]\n",
      "Validation: 100%|██████████| 4/4 [00:02<00:00,  1.47it/s, loss=0.472]\n"
     ]
    },
    {
     "name": "stdout",
     "output_type": "stream",
     "text": [
      "Validation Dice Score\n",
      "Class 0: 0.0000, Class 1: 0.0000, Class 2: 0.0018, Class 3: 0.4805, \n",
      "Class 4: 0.5761, Class 5: 0.1446, Class 6: 0.0000, \n",
      "Validation F-beta Score\n",
      "Class 0: 0.0000, Class 1: 0.0000, Class 2: 0.0152, Class 3: 0.3909, \n",
      "Class 4: 0.4995, Class 5: 0.1177, Class 6: 0.0000, \n",
      "Overall Mean Dice Score: 0.2402\n",
      "Overall Mean F-beta Score: 0.2016\n",
      "\n",
      "Training Loss: 0.4744, Validation Loss: 0.4903, Validation F-beta: 0.2016\n",
      "Epoch 464/4000\n",
      "Current lambda: 0.1500\n"
     ]
    },
    {
     "name": "stderr",
     "output_type": "stream",
     "text": [
      "Training: 100%|██████████| 24/24 [00:36<00:00,  1.54s/it, loss=0.45] \n",
      "Validation: 100%|██████████| 4/4 [00:02<00:00,  1.42it/s, loss=0.476]\n"
     ]
    },
    {
     "name": "stdout",
     "output_type": "stream",
     "text": [
      "Validation Dice Score\n",
      "Class 0: 0.0000, Class 1: 0.0000, Class 2: 0.0010, Class 3: 0.4713, \n",
      "Class 4: 0.3485, Class 5: 0.3783, Class 6: 0.0000, \n",
      "Validation F-beta Score\n",
      "Class 0: 0.0000, Class 1: 0.0000, Class 2: 0.0082, Class 3: 0.4451, \n",
      "Class 4: 0.3094, Class 5: 0.3396, Class 6: 0.0000, \n",
      "Overall Mean Dice Score: 0.2396\n",
      "Overall Mean F-beta Score: 0.2188\n",
      "\n",
      "Training Loss: 0.4736, Validation Loss: 0.4860, Validation F-beta: 0.2188\n",
      "Epoch 465/4000\n",
      "Current lambda: 0.1500\n"
     ]
    },
    {
     "name": "stderr",
     "output_type": "stream",
     "text": [
      "Training: 100%|██████████| 24/24 [00:37<00:00,  1.55s/it, loss=0.504]\n",
      "Validation: 100%|██████████| 4/4 [00:02<00:00,  1.39it/s, loss=0.425]\n"
     ]
    },
    {
     "name": "stdout",
     "output_type": "stream",
     "text": [
      "Validation Dice Score\n",
      "Class 0: 0.0000, Class 1: 0.0000, Class 2: 0.0009, Class 3: 0.2013, \n",
      "Class 4: 0.4663, Class 5: 0.1260, Class 6: 0.0000, \n",
      "Validation F-beta Score\n",
      "Class 0: 0.0000, Class 1: 0.0000, Class 2: 0.0074, Class 3: 0.1641, \n",
      "Class 4: 0.3398, Class 5: 0.1024, Class 6: 0.5000, \n",
      "Overall Mean Dice Score: 0.1587\n",
      "Overall Mean F-beta Score: 0.2212\n",
      "\n",
      "Training Loss: 0.4845, Validation Loss: 0.4663, Validation F-beta: 0.2212\n",
      "Epoch 466/4000\n",
      "Current lambda: 0.1500\n"
     ]
    },
    {
     "name": "stderr",
     "output_type": "stream",
     "text": [
      "Training: 100%|██████████| 24/24 [00:36<00:00,  1.53s/it, loss=0.618]\n",
      "Validation: 100%|██████████| 4/4 [00:02<00:00,  1.41it/s, loss=0.331]\n"
     ]
    },
    {
     "name": "stdout",
     "output_type": "stream",
     "text": [
      "Validation Dice Score\n",
      "Class 0: 0.0000, Class 1: 0.0000, Class 2: 0.0014, Class 3: 0.3427, \n",
      "Class 4: 0.3984, Class 5: 0.3129, Class 6: 0.0000, \n",
      "Validation F-beta Score\n",
      "Class 0: 0.0000, Class 1: 0.5000, Class 2: 0.0119, Class 3: 0.2814, \n",
      "Class 4: 0.3939, Class 5: 0.2479, Class 6: 0.5000, \n",
      "Overall Mean Dice Score: 0.2108\n",
      "Overall Mean F-beta Score: 0.3846\n",
      "\n",
      "Training Loss: 0.4886, Validation Loss: 0.4608, Validation F-beta: 0.3846\n",
      "Epoch 467/4000\n",
      "Current lambda: 0.1500\n"
     ]
    },
    {
     "name": "stderr",
     "output_type": "stream",
     "text": [
      "Training: 100%|██████████| 24/24 [00:36<00:00,  1.52s/it, loss=0.505]\n",
      "Validation: 100%|██████████| 4/4 [00:02<00:00,  1.40it/s, loss=0.509]\n"
     ]
    },
    {
     "name": "stdout",
     "output_type": "stream",
     "text": [
      "Validation Dice Score\n",
      "Class 0: 0.0000, Class 1: 0.0000, Class 2: 0.0011, Class 3: 0.1639, \n",
      "Class 4: 0.2396, Class 5: 0.2470, Class 6: 0.0000, \n",
      "Validation F-beta Score\n",
      "Class 0: 0.0000, Class 1: 0.2500, Class 2: 0.0092, Class 3: 0.1641, \n",
      "Class 4: 0.4294, Class 5: 0.3531, Class 6: 0.5000, \n",
      "Overall Mean Dice Score: 0.1301\n",
      "Overall Mean F-beta Score: 0.3393\n",
      "\n",
      "Training Loss: 0.4812, Validation Loss: 0.5059, Validation F-beta: 0.3393\n",
      "Epoch 468/4000\n",
      "Current lambda: 0.1500\n"
     ]
    },
    {
     "name": "stderr",
     "output_type": "stream",
     "text": [
      "Training: 100%|██████████| 24/24 [00:36<00:00,  1.53s/it, loss=0.43] \n",
      "Validation: 100%|██████████| 4/4 [00:02<00:00,  1.43it/s, loss=0.284]\n"
     ]
    },
    {
     "name": "stdout",
     "output_type": "stream",
     "text": [
      "Validation Dice Score\n",
      "Class 0: 0.0000, Class 1: 0.0000, Class 2: 0.0017, Class 3: 0.3775, \n",
      "Class 4: 0.5939, Class 5: 0.4193, Class 6: 0.0000, \n",
      "Validation F-beta Score\n",
      "Class 0: 0.0000, Class 1: 0.2500, Class 2: 0.0142, Class 3: 0.3354, \n",
      "Class 4: 0.5361, Class 5: 0.4542, Class 6: 0.2500, \n",
      "Overall Mean Dice Score: 0.2781\n",
      "Overall Mean F-beta Score: 0.3652\n",
      "\n",
      "Training Loss: 0.4438, Validation Loss: 0.4478, Validation F-beta: 0.3652\n",
      "Validation loss did not improve. Reducing lambda to 0.1400\n",
      "Epoch 469/4000\n",
      "Current lambda: 0.1400\n"
     ]
    },
    {
     "name": "stderr",
     "output_type": "stream",
     "text": [
      "Training: 100%|██████████| 24/24 [00:36<00:00,  1.53s/it, loss=0.596]\n",
      "Validation: 100%|██████████| 4/4 [00:02<00:00,  1.43it/s, loss=0.374]\n"
     ]
    },
    {
     "name": "stdout",
     "output_type": "stream",
     "text": [
      "Validation Dice Score\n",
      "Class 0: 0.0000, Class 1: 0.0000, Class 2: 0.0033, Class 3: 0.3014, \n",
      "Class 4: 0.4892, Class 5: 0.3779, Class 6: 0.0000, \n",
      "Validation F-beta Score\n",
      "Class 0: 0.0000, Class 1: 0.5000, Class 2: 0.0273, Class 3: 0.2246, \n",
      "Class 4: 0.3658, Class 5: 0.3371, Class 6: 0.5000, \n",
      "Overall Mean Dice Score: 0.2337\n",
      "Overall Mean F-beta Score: 0.3855\n",
      "\n",
      "Training Loss: 0.4805, Validation Loss: 0.3961, Validation F-beta: 0.3855\n",
      "Epoch 470/4000\n",
      "Current lambda: 0.1400\n"
     ]
    },
    {
     "name": "stderr",
     "output_type": "stream",
     "text": [
      "Training: 100%|██████████| 24/24 [00:36<00:00,  1.53s/it, loss=0.524]\n",
      "Validation: 100%|██████████| 4/4 [00:02<00:00,  1.39it/s, loss=0.469]\n"
     ]
    },
    {
     "name": "stdout",
     "output_type": "stream",
     "text": [
      "Validation Dice Score\n",
      "Class 0: 0.0000, Class 1: 0.0000, Class 2: 0.0019, Class 3: 0.1921, \n",
      "Class 4: 0.1573, Class 5: 0.3649, Class 6: 0.0000, \n",
      "Validation F-beta Score\n",
      "Class 0: 0.0000, Class 1: 0.7500, Class 2: 0.0156, Class 3: 0.1720, \n",
      "Class 4: 0.1036, Class 5: 0.3082, Class 6: 0.0000, \n",
      "Overall Mean Dice Score: 0.1429\n",
      "Overall Mean F-beta Score: 0.2668\n",
      "\n",
      "Training Loss: 0.4808, Validation Loss: 0.4445, Validation F-beta: 0.2668\n",
      "Epoch 471/4000\n",
      "Current lambda: 0.1400\n"
     ]
    },
    {
     "name": "stderr",
     "output_type": "stream",
     "text": [
      "Training: 100%|██████████| 24/24 [00:36<00:00,  1.53s/it, loss=0.335]\n",
      "Validation: 100%|██████████| 4/4 [00:02<00:00,  1.43it/s, loss=0.454]\n"
     ]
    },
    {
     "name": "stdout",
     "output_type": "stream",
     "text": [
      "Validation Dice Score\n",
      "Class 0: 0.0000, Class 1: 0.0000, Class 2: 0.0009, Class 3: 0.2403, \n",
      "Class 4: 0.4888, Class 5: 0.2746, Class 6: 0.0000, \n",
      "Validation F-beta Score\n",
      "Class 0: 0.0000, Class 1: 0.2500, Class 2: 0.0079, Class 3: 0.2175, \n",
      "Class 4: 0.4581, Class 5: 0.2236, Class 6: 0.5000, \n",
      "Overall Mean Dice Score: 0.2007\n",
      "Overall Mean F-beta Score: 0.3298\n",
      "\n",
      "Training Loss: 0.4349, Validation Loss: 0.4423, Validation F-beta: 0.3298\n",
      "Epoch 472/4000\n",
      "Current lambda: 0.1400\n"
     ]
    },
    {
     "name": "stderr",
     "output_type": "stream",
     "text": [
      "Training: 100%|██████████| 24/24 [00:36<00:00,  1.53s/it, loss=0.361]\n",
      "Validation: 100%|██████████| 4/4 [00:02<00:00,  1.43it/s, loss=0.418]\n"
     ]
    },
    {
     "name": "stdout",
     "output_type": "stream",
     "text": [
      "Validation Dice Score\n",
      "Class 0: 0.0000, Class 1: 0.0000, Class 2: 0.0024, Class 3: 0.4763, \n",
      "Class 4: 0.4669, Class 5: 0.3856, Class 6: 0.0000, \n",
      "Validation F-beta Score\n",
      "Class 0: 0.0000, Class 1: 0.0000, Class 2: 0.0198, Class 3: 0.3886, \n",
      "Class 4: 0.3814, Class 5: 0.3000, Class 6: 0.5000, \n",
      "Overall Mean Dice Score: 0.2658\n",
      "Overall Mean F-beta Score: 0.3140\n",
      "\n",
      "Training Loss: 0.4599, Validation Loss: 0.4132, Validation F-beta: 0.3140\n",
      "Epoch 473/4000\n",
      "Current lambda: 0.1400\n"
     ]
    },
    {
     "name": "stderr",
     "output_type": "stream",
     "text": [
      "Training: 100%|██████████| 24/24 [00:36<00:00,  1.53s/it, loss=0.371]\n",
      "Validation: 100%|██████████| 4/4 [00:02<00:00,  1.44it/s, loss=0.451]\n"
     ]
    },
    {
     "name": "stdout",
     "output_type": "stream",
     "text": [
      "Validation Dice Score\n",
      "Class 0: 0.0000, Class 1: 0.0000, Class 2: 0.0012, Class 3: 0.0000, \n",
      "Class 4: 0.5058, Class 5: 0.3521, Class 6: 0.0000, \n",
      "Validation F-beta Score\n",
      "Class 0: 0.0000, Class 1: 0.5000, Class 2: 0.0099, Class 3: 0.2500, \n",
      "Class 4: 0.4104, Class 5: 0.2594, Class 6: 0.2500, \n",
      "Overall Mean Dice Score: 0.1716\n",
      "Overall Mean F-beta Score: 0.3340\n",
      "\n",
      "Training Loss: 0.4382, Validation Loss: 0.4248, Validation F-beta: 0.3340\n",
      "Epoch 474/4000\n",
      "Current lambda: 0.1400\n"
     ]
    },
    {
     "name": "stderr",
     "output_type": "stream",
     "text": [
      "Training: 100%|██████████| 24/24 [00:36<00:00,  1.53s/it, loss=0.545]\n",
      "Validation: 100%|██████████| 4/4 [00:02<00:00,  1.41it/s, loss=0.551]\n"
     ]
    },
    {
     "name": "stdout",
     "output_type": "stream",
     "text": [
      "Validation Dice Score\n",
      "Class 0: 0.0000, Class 1: 0.0000, Class 2: 0.0016, Class 3: 0.0000, \n",
      "Class 4: 0.3798, Class 5: 0.2804, Class 6: 0.0000, \n",
      "Validation F-beta Score\n",
      "Class 0: 0.0000, Class 1: 0.0000, Class 2: 0.0130, Class 3: 0.2500, \n",
      "Class 4: 0.4017, Class 5: 0.2171, Class 6: 0.0000, \n",
      "Overall Mean Dice Score: 0.1321\n",
      "Overall Mean F-beta Score: 0.1738\n",
      "\n",
      "Training Loss: 0.4548, Validation Loss: 0.5349, Validation F-beta: 0.1738\n",
      "Epoch 475/4000\n",
      "Current lambda: 0.1400\n"
     ]
    },
    {
     "name": "stderr",
     "output_type": "stream",
     "text": [
      "Training: 100%|██████████| 24/24 [00:36<00:00,  1.52s/it, loss=0.431]\n",
      "Validation: 100%|██████████| 4/4 [00:02<00:00,  1.43it/s, loss=0.584]\n"
     ]
    },
    {
     "name": "stdout",
     "output_type": "stream",
     "text": [
      "Validation Dice Score\n",
      "Class 0: 0.0000, Class 1: 0.0000, Class 2: 0.0035, Class 3: 0.0000, \n",
      "Class 4: 0.0000, Class 5: 0.1314, Class 6: 0.0000, \n",
      "Validation F-beta Score\n",
      "Class 0: 0.0000, Class 1: 0.0000, Class 2: 0.0287, Class 3: 0.5000, \n",
      "Class 4: 0.0000, Class 5: 0.1103, Class 6: 0.2500, \n",
      "Overall Mean Dice Score: 0.0263\n",
      "Overall Mean F-beta Score: 0.1721\n",
      "\n",
      "Training Loss: 0.4520, Validation Loss: 0.4737, Validation F-beta: 0.1721\n",
      "Epoch 476/4000\n",
      "Current lambda: 0.1400\n"
     ]
    },
    {
     "name": "stderr",
     "output_type": "stream",
     "text": [
      "Training: 100%|██████████| 24/24 [00:36<00:00,  1.53s/it, loss=0.546]\n",
      "Validation: 100%|██████████| 4/4 [00:02<00:00,  1.40it/s, loss=0.57] \n"
     ]
    },
    {
     "name": "stdout",
     "output_type": "stream",
     "text": [
      "Validation Dice Score\n",
      "Class 0: 0.0000, Class 1: 0.0000, Class 2: 0.0027, Class 3: 0.0000, \n",
      "Class 4: 0.0000, Class 5: 0.2091, Class 6: 0.0000, \n",
      "Validation F-beta Score\n",
      "Class 0: 0.0000, Class 1: 0.2500, Class 2: 0.0224, Class 3: 0.2500, \n",
      "Class 4: 0.2500, Class 5: 0.2132, Class 6: 0.0000, \n",
      "Overall Mean Dice Score: 0.0418\n",
      "Overall Mean F-beta Score: 0.1926\n",
      "\n",
      "Training Loss: 0.4416, Validation Loss: 0.5124, Validation F-beta: 0.1926\n",
      "Epoch 477/4000\n",
      "Current lambda: 0.1400\n"
     ]
    },
    {
     "name": "stderr",
     "output_type": "stream",
     "text": [
      "Training: 100%|██████████| 24/24 [00:36<00:00,  1.54s/it, loss=0.429]\n",
      "Validation: 100%|██████████| 4/4 [00:02<00:00,  1.41it/s, loss=0.41] \n"
     ]
    },
    {
     "name": "stdout",
     "output_type": "stream",
     "text": [
      "Validation Dice Score\n",
      "Class 0: 0.0000, Class 1: 0.0000, Class 2: 0.0009, Class 3: 0.0000, \n",
      "Class 4: 0.0000, Class 5: 0.3820, Class 6: 0.0000, \n",
      "Validation F-beta Score\n",
      "Class 0: 0.0000, Class 1: 0.0000, Class 2: 0.0075, Class 3: 0.0000, \n",
      "Class 4: 0.0000, Class 5: 0.3429, Class 6: 0.0000, \n",
      "Overall Mean Dice Score: 0.0764\n",
      "Overall Mean F-beta Score: 0.0686\n",
      "\n",
      "Training Loss: 0.4268, Validation Loss: 0.5037, Validation F-beta: 0.0686\n",
      "Epoch 478/4000\n",
      "Current lambda: 0.1400\n"
     ]
    },
    {
     "name": "stderr",
     "output_type": "stream",
     "text": [
      "Training: 100%|██████████| 24/24 [00:36<00:00,  1.53s/it, loss=0.314]\n",
      "Validation: 100%|██████████| 4/4 [00:02<00:00,  1.45it/s, loss=0.515]\n"
     ]
    },
    {
     "name": "stdout",
     "output_type": "stream",
     "text": [
      "Validation Dice Score\n",
      "Class 0: 0.0000, Class 1: 0.0000, Class 2: 0.0012, Class 3: 0.0000, \n",
      "Class 4: 0.0000, Class 5: 0.3294, Class 6: 0.0000, \n",
      "Validation F-beta Score\n",
      "Class 0: 0.0000, Class 1: 0.2500, Class 2: 0.0095, Class 3: 0.0000, \n",
      "Class 4: 0.0000, Class 5: 0.2916, Class 6: 0.0000, \n",
      "Overall Mean Dice Score: 0.0659\n",
      "Overall Mean F-beta Score: 0.1083\n",
      "\n",
      "Training Loss: 0.4516, Validation Loss: 0.4892, Validation F-beta: 0.1083\n",
      "Validation loss did not improve. Reducing lambda to 0.1300\n",
      "Epoch 479/4000\n",
      "Current lambda: 0.1300\n"
     ]
    },
    {
     "name": "stderr",
     "output_type": "stream",
     "text": [
      "Training: 100%|██████████| 24/24 [00:36<00:00,  1.53s/it, loss=0.501]\n",
      "Validation: 100%|██████████| 4/4 [00:02<00:00,  1.42it/s, loss=0.444]\n"
     ]
    },
    {
     "name": "stdout",
     "output_type": "stream",
     "text": [
      "Validation Dice Score\n",
      "Class 0: 0.0000, Class 1: 0.0000, Class 2: 0.0014, Class 3: 0.0000, \n",
      "Class 4: 0.0000, Class 5: 0.3498, Class 6: 0.0000, \n",
      "Validation F-beta Score\n",
      "Class 0: 0.0000, Class 1: 0.0000, Class 2: 0.0117, Class 3: 0.2500, \n",
      "Class 4: 0.0000, Class 5: 0.2917, Class 6: 0.2500, \n",
      "Overall Mean Dice Score: 0.0700\n",
      "Overall Mean F-beta Score: 0.1583\n",
      "\n",
      "Training Loss: 0.4758, Validation Loss: 0.5024, Validation F-beta: 0.1583\n",
      "Epoch 480/4000\n",
      "Current lambda: 0.1300\n"
     ]
    },
    {
     "name": "stderr",
     "output_type": "stream",
     "text": [
      "Training: 100%|██████████| 24/24 [00:36<00:00,  1.52s/it, loss=0.378]\n",
      "Validation: 100%|██████████| 4/4 [00:02<00:00,  1.42it/s, loss=0.562]\n"
     ]
    },
    {
     "name": "stdout",
     "output_type": "stream",
     "text": [
      "Validation Dice Score\n",
      "Class 0: 0.0000, Class 1: 0.0000, Class 2: 0.0007, Class 3: 0.0000, \n",
      "Class 4: 0.0000, Class 5: 0.4520, Class 6: 0.0000, \n",
      "Validation F-beta Score\n",
      "Class 0: 0.0000, Class 1: 0.0000, Class 2: 0.0055, Class 3: 0.0000, \n",
      "Class 4: 0.0000, Class 5: 0.4480, Class 6: 0.0000, \n",
      "Overall Mean Dice Score: 0.0904\n",
      "Overall Mean F-beta Score: 0.0896\n",
      "\n",
      "Training Loss: 0.4267, Validation Loss: 0.4696, Validation F-beta: 0.0896\n",
      "Epoch 481/4000\n",
      "Current lambda: 0.1300\n"
     ]
    },
    {
     "name": "stderr",
     "output_type": "stream",
     "text": [
      "Training: 100%|██████████| 24/24 [00:36<00:00,  1.53s/it, loss=0.423]\n",
      "Validation: 100%|██████████| 4/4 [00:02<00:00,  1.44it/s, loss=0.278]\n"
     ]
    },
    {
     "name": "stdout",
     "output_type": "stream",
     "text": [
      "Validation Dice Score\n",
      "Class 0: 0.0000, Class 1: 0.0000, Class 2: 0.0017, Class 3: 0.0000, \n",
      "Class 4: 0.0000, Class 5: 0.2354, Class 6: 0.0000, \n",
      "Validation F-beta Score\n",
      "Class 0: 0.0000, Class 1: 0.5000, Class 2: 0.0139, Class 3: 0.2500, \n",
      "Class 4: 0.2500, Class 5: 0.1744, Class 6: 0.5000, \n",
      "Overall Mean Dice Score: 0.0471\n",
      "Overall Mean F-beta Score: 0.3349\n",
      "\n",
      "Training Loss: 0.4641, Validation Loss: 0.4057, Validation F-beta: 0.3349\n",
      "Epoch 482/4000\n",
      "Current lambda: 0.1300\n"
     ]
    },
    {
     "name": "stderr",
     "output_type": "stream",
     "text": [
      "Training: 100%|██████████| 24/24 [00:36<00:00,  1.53s/it, loss=0.491]\n",
      "Validation: 100%|██████████| 4/4 [00:02<00:00,  1.40it/s, loss=0.558]\n"
     ]
    },
    {
     "name": "stdout",
     "output_type": "stream",
     "text": [
      "Validation Dice Score\n",
      "Class 0: 0.0000, Class 1: 0.0000, Class 2: 0.0009, Class 3: 0.0000, \n",
      "Class 4: 0.0000, Class 5: 0.3560, Class 6: 0.0000, \n",
      "Validation F-beta Score\n",
      "Class 0: 0.0000, Class 1: 0.0000, Class 2: 0.0075, Class 3: 0.0000, \n",
      "Class 4: 0.0000, Class 5: 0.3108, Class 6: 0.0000, \n",
      "Overall Mean Dice Score: 0.0712\n",
      "Overall Mean F-beta Score: 0.0622\n",
      "\n",
      "Training Loss: 0.4338, Validation Loss: 0.5379, Validation F-beta: 0.0622\n",
      "Epoch 483/4000\n",
      "Current lambda: 0.1300\n"
     ]
    },
    {
     "name": "stderr",
     "output_type": "stream",
     "text": [
      "Training: 100%|██████████| 24/24 [00:36<00:00,  1.53s/it, loss=0.303]\n",
      "Validation: 100%|██████████| 4/4 [00:02<00:00,  1.42it/s, loss=0.516]\n"
     ]
    },
    {
     "name": "stdout",
     "output_type": "stream",
     "text": [
      "Validation Dice Score\n",
      "Class 0: 0.0000, Class 1: 0.0000, Class 2: 0.0010, Class 3: 0.0000, \n",
      "Class 4: 0.0000, Class 5: 0.5006, Class 6: 0.0000, \n",
      "Validation F-beta Score\n",
      "Class 0: 0.0000, Class 1: 0.0000, Class 2: 0.0085, Class 3: 0.0000, \n",
      "Class 4: 0.0000, Class 5: 0.4051, Class 6: 0.0000, \n",
      "Overall Mean Dice Score: 0.1001\n",
      "Overall Mean F-beta Score: 0.0810\n",
      "\n",
      "Training Loss: 0.4382, Validation Loss: 0.5351, Validation F-beta: 0.0810\n",
      "Epoch 484/4000\n",
      "Current lambda: 0.1300\n"
     ]
    },
    {
     "name": "stderr",
     "output_type": "stream",
     "text": [
      "Training: 100%|██████████| 24/24 [00:36<00:00,  1.54s/it, loss=0.369]\n",
      "Validation: 100%|██████████| 4/4 [00:02<00:00,  1.37it/s, loss=0.478]\n"
     ]
    },
    {
     "name": "stdout",
     "output_type": "stream",
     "text": [
      "Validation Dice Score\n",
      "Class 0: 0.0000, Class 1: 0.0000, Class 2: 0.0011, Class 3: 0.0000, \n",
      "Class 4: 0.0000, Class 5: 0.1328, Class 6: 0.0000, \n",
      "Validation F-beta Score\n",
      "Class 0: 0.0000, Class 1: 0.0000, Class 2: 0.0089, Class 3: 0.2500, \n",
      "Class 4: 0.2500, Class 5: 0.1093, Class 6: 0.2500, \n",
      "Overall Mean Dice Score: 0.0266\n",
      "Overall Mean F-beta Score: 0.1719\n",
      "\n",
      "Training Loss: 0.4343, Validation Loss: 0.4704, Validation F-beta: 0.1719\n",
      "Epoch 485/4000\n",
      "Current lambda: 0.1300\n"
     ]
    },
    {
     "name": "stderr",
     "output_type": "stream",
     "text": [
      "Training: 100%|██████████| 24/24 [00:36<00:00,  1.54s/it, loss=0.433]\n",
      "Validation: 100%|██████████| 4/4 [00:02<00:00,  1.39it/s, loss=0.304]\n"
     ]
    },
    {
     "name": "stdout",
     "output_type": "stream",
     "text": [
      "Validation Dice Score\n",
      "Class 0: 0.0000, Class 1: 0.0000, Class 2: 0.0005, Class 3: 0.0000, \n",
      "Class 4: 0.0000, Class 5: 0.3383, Class 6: 0.0000, \n",
      "Validation F-beta Score\n",
      "Class 0: 0.0000, Class 1: 0.2500, Class 2: 0.0038, Class 3: 0.0000, \n",
      "Class 4: 0.0000, Class 5: 0.3006, Class 6: 0.2500, \n",
      "Overall Mean Dice Score: 0.0677\n",
      "Overall Mean F-beta Score: 0.1601\n",
      "\n",
      "Training Loss: 0.4482, Validation Loss: 0.4603, Validation F-beta: 0.1601\n",
      "Epoch 486/4000\n",
      "Current lambda: 0.1300\n"
     ]
    },
    {
     "name": "stderr",
     "output_type": "stream",
     "text": [
      "Training: 100%|██████████| 24/24 [00:36<00:00,  1.53s/it, loss=0.351]\n",
      "Validation: 100%|██████████| 4/4 [00:02<00:00,  1.41it/s, loss=0.429]\n"
     ]
    },
    {
     "name": "stdout",
     "output_type": "stream",
     "text": [
      "Validation Dice Score\n",
      "Class 0: 0.0000, Class 1: 0.0000, Class 2: 0.0011, Class 3: 0.0000, \n",
      "Class 4: 0.0000, Class 5: 0.2357, Class 6: 0.0000, \n",
      "Validation F-beta Score\n",
      "Class 0: 0.0000, Class 1: 0.0000, Class 2: 0.0091, Class 3: 0.0000, \n",
      "Class 4: 0.0000, Class 5: 0.1739, Class 6: 0.5000, \n",
      "Overall Mean Dice Score: 0.0471\n",
      "Overall Mean F-beta Score: 0.1348\n",
      "\n",
      "Training Loss: 0.4502, Validation Loss: 0.4565, Validation F-beta: 0.1348\n",
      "Epoch 487/4000\n",
      "Current lambda: 0.1300\n"
     ]
    },
    {
     "name": "stderr",
     "output_type": "stream",
     "text": [
      "Training: 100%|██████████| 24/24 [00:36<00:00,  1.54s/it, loss=0.434]\n",
      "Validation: 100%|██████████| 4/4 [00:02<00:00,  1.42it/s, loss=0.507]\n"
     ]
    },
    {
     "name": "stdout",
     "output_type": "stream",
     "text": [
      "Validation Dice Score\n",
      "Class 0: 0.0000, Class 1: 0.0000, Class 2: 0.0043, Class 3: 0.0000, \n",
      "Class 4: 0.0000, Class 5: 0.3174, Class 6: 0.0000, \n",
      "Validation F-beta Score\n",
      "Class 0: 0.0000, Class 1: 0.0000, Class 2: 0.0354, Class 3: 0.0000, \n",
      "Class 4: 0.2500, Class 5: 0.2693, Class 6: 0.2500, \n",
      "Overall Mean Dice Score: 0.0635\n",
      "Overall Mean F-beta Score: 0.1539\n",
      "\n",
      "Training Loss: 0.4386, Validation Loss: 0.4449, Validation F-beta: 0.1539\n",
      "Epoch 488/4000\n",
      "Current lambda: 0.1300\n"
     ]
    },
    {
     "name": "stderr",
     "output_type": "stream",
     "text": [
      "Training: 100%|██████████| 24/24 [00:36<00:00,  1.53s/it, loss=0.497]\n",
      "Validation: 100%|██████████| 4/4 [00:02<00:00,  1.45it/s, loss=0.443]\n"
     ]
    },
    {
     "name": "stdout",
     "output_type": "stream",
     "text": [
      "Validation Dice Score\n",
      "Class 0: 0.0000, Class 1: 0.0000, Class 2: 0.0016, Class 3: 0.0000, \n",
      "Class 4: 0.0000, Class 5: 0.4160, Class 6: 0.0000, \n",
      "Validation F-beta Score\n",
      "Class 0: 0.0000, Class 1: 0.2500, Class 2: 0.0133, Class 3: 0.0000, \n",
      "Class 4: 0.0000, Class 5: 0.3700, Class 6: 0.2500, \n",
      "Overall Mean Dice Score: 0.0832\n",
      "Overall Mean F-beta Score: 0.1740\n",
      "\n",
      "Training Loss: 0.4396, Validation Loss: 0.4436, Validation F-beta: 0.1740\n",
      "Validation loss did not improve. Reducing lambda to 0.1200\n",
      "Epoch 489/4000\n",
      "Current lambda: 0.1200\n"
     ]
    },
    {
     "name": "stderr",
     "output_type": "stream",
     "text": [
      "Training: 100%|██████████| 24/24 [00:36<00:00,  1.54s/it, loss=0.439]\n",
      "Validation: 100%|██████████| 4/4 [00:02<00:00,  1.44it/s, loss=0.542]\n"
     ]
    },
    {
     "name": "stdout",
     "output_type": "stream",
     "text": [
      "Validation Dice Score\n",
      "Class 0: 0.0000, Class 1: 0.0000, Class 2: 0.0033, Class 3: 0.0000, \n",
      "Class 4: 0.0000, Class 5: 0.3418, Class 6: 0.0000, \n",
      "Validation F-beta Score\n",
      "Class 0: 0.0000, Class 1: 0.0000, Class 2: 0.0272, Class 3: 0.2500, \n",
      "Class 4: 0.0000, Class 5: 0.2712, Class 6: 0.2500, \n",
      "Overall Mean Dice Score: 0.0684\n",
      "Overall Mean F-beta Score: 0.1542\n",
      "\n",
      "Training Loss: 0.4367, Validation Loss: 0.5303, Validation F-beta: 0.1542\n",
      "Epoch 490/4000\n",
      "Current lambda: 0.1200\n"
     ]
    },
    {
     "name": "stderr",
     "output_type": "stream",
     "text": [
      "Training: 100%|██████████| 24/24 [00:36<00:00,  1.53s/it, loss=0.473]\n",
      "Validation: 100%|██████████| 4/4 [00:02<00:00,  1.44it/s, loss=0.463]\n"
     ]
    },
    {
     "name": "stdout",
     "output_type": "stream",
     "text": [
      "Validation Dice Score\n",
      "Class 0: 0.0000, Class 1: 0.0000, Class 2: 0.0013, Class 3: 0.0000, \n",
      "Class 4: 0.0000, Class 5: 0.5156, Class 6: 0.0000, \n",
      "Validation F-beta Score\n",
      "Class 0: 0.0000, Class 1: 0.2500, Class 2: 0.0107, Class 3: 0.2500, \n",
      "Class 4: 0.0000, Class 5: 0.5253, Class 6: 0.2500, \n",
      "Overall Mean Dice Score: 0.1031\n",
      "Overall Mean F-beta Score: 0.2551\n",
      "\n",
      "Training Loss: 0.4644, Validation Loss: 0.4655, Validation F-beta: 0.2551\n",
      "Epoch 491/4000\n",
      "Current lambda: 0.1200\n"
     ]
    },
    {
     "name": "stderr",
     "output_type": "stream",
     "text": [
      "Training: 100%|██████████| 24/24 [00:36<00:00,  1.53s/it, loss=0.365]\n",
      "Validation: 100%|██████████| 4/4 [00:02<00:00,  1.46it/s, loss=0.593]\n"
     ]
    },
    {
     "name": "stdout",
     "output_type": "stream",
     "text": [
      "Validation Dice Score\n",
      "Class 0: 0.0000, Class 1: 0.0000, Class 2: 0.0016, Class 3: 0.0000, \n",
      "Class 4: 0.0000, Class 5: 0.3490, Class 6: 0.0000, \n",
      "Validation F-beta Score\n",
      "Class 0: 0.0000, Class 1: 0.0000, Class 2: 0.0136, Class 3: 0.2500, \n",
      "Class 4: 0.0000, Class 5: 0.2995, Class 6: 0.2500, \n",
      "Overall Mean Dice Score: 0.0698\n",
      "Overall Mean F-beta Score: 0.1599\n",
      "\n",
      "Training Loss: 0.4483, Validation Loss: 0.4720, Validation F-beta: 0.1599\n",
      "Epoch 492/4000\n",
      "Current lambda: 0.1200\n"
     ]
    },
    {
     "name": "stderr",
     "output_type": "stream",
     "text": [
      "Training: 100%|██████████| 24/24 [00:36<00:00,  1.53s/it, loss=0.486]\n",
      "Validation: 100%|██████████| 4/4 [00:02<00:00,  1.41it/s, loss=0.655]\n"
     ]
    },
    {
     "name": "stdout",
     "output_type": "stream",
     "text": [
      "Validation Dice Score\n",
      "Class 0: 0.0000, Class 1: 0.0000, Class 2: 0.0000, Class 3: 0.0000, \n",
      "Class 4: 0.0000, Class 5: 0.0969, Class 6: 0.0000, \n",
      "Validation F-beta Score\n",
      "Class 0: 0.0000, Class 1: 0.0000, Class 2: 0.0000, Class 3: 0.5000, \n",
      "Class 4: 0.0000, Class 5: 0.0668, Class 6: 0.2500, \n",
      "Overall Mean Dice Score: 0.0194\n",
      "Overall Mean F-beta Score: 0.1634\n",
      "\n",
      "Training Loss: 0.4566, Validation Loss: 0.5355, Validation F-beta: 0.1634\n",
      "Epoch 493/4000\n",
      "Current lambda: 0.1200\n"
     ]
    },
    {
     "name": "stderr",
     "output_type": "stream",
     "text": [
      "Training: 100%|██████████| 24/24 [00:36<00:00,  1.52s/it, loss=0.396]\n",
      "Validation: 100%|██████████| 4/4 [00:02<00:00,  1.44it/s, loss=0.366]\n"
     ]
    },
    {
     "name": "stdout",
     "output_type": "stream",
     "text": [
      "Validation Dice Score\n",
      "Class 0: 0.0000, Class 1: 0.0000, Class 2: 0.0027, Class 3: 0.0000, \n",
      "Class 4: 0.0000, Class 5: 0.3060, Class 6: 0.0000, \n",
      "Validation F-beta Score\n",
      "Class 0: 0.0000, Class 1: 0.2500, Class 2: 0.0223, Class 3: 0.0000, \n",
      "Class 4: 0.2500, Class 5: 0.2418, Class 6: 0.0000, \n",
      "Overall Mean Dice Score: 0.0612\n",
      "Overall Mean F-beta Score: 0.1484\n",
      "\n",
      "Training Loss: 0.4626, Validation Loss: 0.4435, Validation F-beta: 0.1484\n",
      "Epoch 494/4000\n",
      "Current lambda: 0.1200\n"
     ]
    },
    {
     "name": "stderr",
     "output_type": "stream",
     "text": [
      "Training: 100%|██████████| 24/24 [00:37<00:00,  1.54s/it, loss=0.514]\n",
      "Validation: 100%|██████████| 4/4 [00:02<00:00,  1.45it/s, loss=0.454]\n"
     ]
    },
    {
     "name": "stdout",
     "output_type": "stream",
     "text": [
      "Validation Dice Score\n",
      "Class 0: 0.0000, Class 1: 0.0000, Class 2: 0.0022, Class 3: 0.0000, \n",
      "Class 4: 0.0000, Class 5: 0.2521, Class 6: 0.0000, \n",
      "Validation F-beta Score\n",
      "Class 0: 0.0000, Class 1: 0.2500, Class 2: 0.0176, Class 3: 0.5000, \n",
      "Class 4: 0.2500, Class 5: 0.1881, Class 6: 0.0000, \n",
      "Overall Mean Dice Score: 0.0504\n",
      "Overall Mean F-beta Score: 0.2376\n",
      "\n",
      "Training Loss: 0.4453, Validation Loss: 0.4054, Validation F-beta: 0.2376\n",
      "Epoch 495/4000\n",
      "Current lambda: 0.1200\n"
     ]
    },
    {
     "name": "stderr",
     "output_type": "stream",
     "text": [
      "Training: 100%|██████████| 24/24 [00:36<00:00,  1.52s/it, loss=0.427]\n",
      "Validation: 100%|██████████| 4/4 [00:02<00:00,  1.44it/s, loss=0.506]\n"
     ]
    },
    {
     "name": "stdout",
     "output_type": "stream",
     "text": [
      "Validation Dice Score\n",
      "Class 0: 0.0000, Class 1: 0.0000, Class 2: 0.0025, Class 3: 0.0000, \n",
      "Class 4: 0.0000, Class 5: 0.1956, Class 6: 0.0000, \n",
      "Validation F-beta Score\n",
      "Class 0: 0.0000, Class 1: 0.0000, Class 2: 0.0206, Class 3: 0.0000, \n",
      "Class 4: 0.0000, Class 5: 0.1372, Class 6: 0.7500, \n",
      "Overall Mean Dice Score: 0.0391\n",
      "Overall Mean F-beta Score: 0.1774\n",
      "\n",
      "Training Loss: 0.4215, Validation Loss: 0.4417, Validation F-beta: 0.1774\n",
      "Epoch 496/4000\n",
      "Current lambda: 0.1200\n"
     ]
    },
    {
     "name": "stderr",
     "output_type": "stream",
     "text": [
      "Training: 100%|██████████| 24/24 [00:36<00:00,  1.53s/it, loss=0.439]\n",
      "Validation: 100%|██████████| 4/4 [00:02<00:00,  1.42it/s, loss=0.504]\n"
     ]
    },
    {
     "name": "stdout",
     "output_type": "stream",
     "text": [
      "Validation Dice Score\n",
      "Class 0: 0.0000, Class 1: 0.0000, Class 2: 0.0006, Class 3: 0.0000, \n",
      "Class 4: 0.0000, Class 5: 0.4413, Class 6: 0.0000, \n",
      "Validation F-beta Score\n",
      "Class 0: 0.0000, Class 1: 0.2500, Class 2: 0.0053, Class 3: 0.0000, \n",
      "Class 4: 0.0000, Class 5: 0.3477, Class 6: 0.0000, \n",
      "Overall Mean Dice Score: 0.0883\n",
      "Overall Mean F-beta Score: 0.1195\n",
      "\n",
      "Training Loss: 0.4671, Validation Loss: 0.5203, Validation F-beta: 0.1195\n",
      "Epoch 497/4000\n",
      "Current lambda: 0.1200\n"
     ]
    },
    {
     "name": "stderr",
     "output_type": "stream",
     "text": [
      "Training: 100%|██████████| 24/24 [00:36<00:00,  1.53s/it, loss=0.493]\n",
      "Validation: 100%|██████████| 4/4 [00:02<00:00,  1.44it/s, loss=0.377]\n"
     ]
    },
    {
     "name": "stdout",
     "output_type": "stream",
     "text": [
      "Validation Dice Score\n",
      "Class 0: 0.0000, Class 1: 0.0000, Class 2: 0.0018, Class 3: 0.0000, \n",
      "Class 4: 0.0000, Class 5: 0.3922, Class 6: 0.0000, \n",
      "Validation F-beta Score\n",
      "Class 0: 0.0000, Class 1: 0.5000, Class 2: 0.0152, Class 3: 0.0000, \n",
      "Class 4: 0.5000, Class 5: 0.3102, Class 6: 0.0000, \n",
      "Overall Mean Dice Score: 0.0784\n",
      "Overall Mean F-beta Score: 0.2620\n",
      "\n",
      "Training Loss: 0.4614, Validation Loss: 0.3767, Validation F-beta: 0.2620\n",
      "Epoch 498/4000\n",
      "Current lambda: 0.1200\n"
     ]
    },
    {
     "name": "stderr",
     "output_type": "stream",
     "text": [
      "Training: 100%|██████████| 24/24 [00:36<00:00,  1.53s/it, loss=0.405]\n",
      "Validation: 100%|██████████| 4/4 [00:02<00:00,  1.44it/s, loss=0.438]\n"
     ]
    },
    {
     "name": "stdout",
     "output_type": "stream",
     "text": [
      "Validation Dice Score\n",
      "Class 0: 0.0000, Class 1: 0.0000, Class 2: 0.0017, Class 3: 0.0000, \n",
      "Class 4: 0.0000, Class 5: 0.3729, Class 6: 0.0000, \n",
      "Validation F-beta Score\n",
      "Class 0: 0.0000, Class 1: 0.2500, Class 2: 0.0141, Class 3: 0.2500, \n",
      "Class 4: 0.0000, Class 5: 0.3639, Class 6: 0.0000, \n",
      "Overall Mean Dice Score: 0.0746\n",
      "Overall Mean F-beta Score: 0.1728\n",
      "\n",
      "Training Loss: 0.4371, Validation Loss: 0.4951, Validation F-beta: 0.1728\n",
      "Validation loss did not improve. Reducing lambda to 0.1100\n",
      "Epoch 499/4000\n",
      "Current lambda: 0.1100\n"
     ]
    },
    {
     "name": "stderr",
     "output_type": "stream",
     "text": [
      "Training: 100%|██████████| 24/24 [00:36<00:00,  1.54s/it, loss=0.186]\n",
      "Validation: 100%|██████████| 4/4 [00:02<00:00,  1.41it/s, loss=0.331]\n"
     ]
    },
    {
     "name": "stdout",
     "output_type": "stream",
     "text": [
      "Validation Dice Score\n",
      "Class 0: 0.0000, Class 1: 0.0000, Class 2: 0.0029, Class 3: 0.0000, \n",
      "Class 4: 0.0000, Class 5: 0.4304, Class 6: 0.0000, \n",
      "Validation F-beta Score\n",
      "Class 0: 0.0000, Class 1: 0.0000, Class 2: 0.0238, Class 3: 0.0000, \n",
      "Class 4: 0.7500, Class 5: 0.3136, Class 6: 0.5000, \n",
      "Overall Mean Dice Score: 0.0861\n",
      "Overall Mean F-beta Score: 0.3127\n",
      "\n",
      "Training Loss: 0.4233, Validation Loss: 0.3671, Validation F-beta: 0.3127\n",
      "Epoch 500/4000\n",
      "Current lambda: 0.1100\n"
     ]
    },
    {
     "name": "stderr",
     "output_type": "stream",
     "text": [
      "Training: 100%|██████████| 24/24 [00:36<00:00,  1.54s/it, loss=0.532]\n",
      "Validation: 100%|██████████| 4/4 [00:03<00:00,  1.21it/s, loss=0.332]\n"
     ]
    },
    {
     "name": "stdout",
     "output_type": "stream",
     "text": [
      "Validation Dice Score\n",
      "Class 0: 0.0000, Class 1: 0.0000, Class 2: 0.0013, Class 3: 0.0000, \n",
      "Class 4: 0.0000, Class 5: 0.2611, Class 6: 0.0000, \n",
      "Validation F-beta Score\n",
      "Class 0: 0.0000, Class 1: 0.5000, Class 2: 0.0112, Class 3: 0.2500, \n",
      "Class 4: 0.0000, Class 5: 0.2245, Class 6: 0.0000, \n",
      "Overall Mean Dice Score: 0.0522\n",
      "Overall Mean F-beta Score: 0.1949\n",
      "\n",
      "Training Loss: 0.4587, Validation Loss: 0.4701, Validation F-beta: 0.1949\n",
      "Epoch 501/4000\n",
      "Current lambda: 0.1100\n"
     ]
    },
    {
     "name": "stderr",
     "output_type": "stream",
     "text": [
      "Training: 100%|██████████| 24/24 [00:36<00:00,  1.52s/it, loss=0.483]\n",
      "Validation: 100%|██████████| 4/4 [00:02<00:00,  1.42it/s, loss=0.432]\n"
     ]
    },
    {
     "name": "stdout",
     "output_type": "stream",
     "text": [
      "Validation Dice Score\n",
      "Class 0: 0.0000, Class 1: 0.0000, Class 2: 0.0021, Class 3: 0.0000, \n",
      "Class 4: 0.0000, Class 5: 0.2720, Class 6: 0.0000, \n",
      "Validation F-beta Score\n",
      "Class 0: 0.0000, Class 1: 0.2500, Class 2: 0.0177, Class 3: 0.0000, \n",
      "Class 4: 0.0000, Class 5: 0.1966, Class 6: 0.2500, \n",
      "Overall Mean Dice Score: 0.0544\n",
      "Overall Mean F-beta Score: 0.1393\n",
      "\n",
      "Training Loss: 0.3987, Validation Loss: 0.4912, Validation F-beta: 0.1393\n",
      "Epoch 502/4000\n",
      "Current lambda: 0.1100\n"
     ]
    },
    {
     "name": "stderr",
     "output_type": "stream",
     "text": [
      "Training: 100%|██████████| 24/24 [00:36<00:00,  1.54s/it, loss=0.423]\n",
      "Validation: 100%|██████████| 4/4 [00:02<00:00,  1.44it/s, loss=0.398]\n"
     ]
    },
    {
     "name": "stdout",
     "output_type": "stream",
     "text": [
      "Validation Dice Score\n",
      "Class 0: 0.0000, Class 1: 0.0000, Class 2: 0.0016, Class 3: 0.0000, \n",
      "Class 4: 0.0000, Class 5: 0.4266, Class 6: 0.0000, \n",
      "Validation F-beta Score\n",
      "Class 0: 0.0000, Class 1: 0.0000, Class 2: 0.0130, Class 3: 0.0000, \n",
      "Class 4: 0.2500, Class 5: 0.3149, Class 6: 0.2500, \n",
      "Overall Mean Dice Score: 0.0853\n",
      "Overall Mean F-beta Score: 0.1630\n",
      "\n",
      "Training Loss: 0.4236, Validation Loss: 0.4422, Validation F-beta: 0.1630\n",
      "Epoch 503/4000\n",
      "Current lambda: 0.1100\n"
     ]
    },
    {
     "name": "stderr",
     "output_type": "stream",
     "text": [
      "Training: 100%|██████████| 24/24 [00:36<00:00,  1.54s/it, loss=0.315]\n",
      "Validation: 100%|██████████| 4/4 [00:02<00:00,  1.43it/s, loss=0.377]\n"
     ]
    },
    {
     "name": "stdout",
     "output_type": "stream",
     "text": [
      "Validation Dice Score\n",
      "Class 0: 0.0000, Class 1: 0.0000, Class 2: 0.0003, Class 3: 0.0000, \n",
      "Class 4: 0.0000, Class 5: 0.3493, Class 6: 0.0000, \n",
      "Validation F-beta Score\n",
      "Class 0: 0.0000, Class 1: 0.0000, Class 2: 0.0022, Class 3: 0.2500, \n",
      "Class 4: 0.0000, Class 5: 0.2945, Class 6: 0.0000, \n",
      "Overall Mean Dice Score: 0.0699\n",
      "Overall Mean F-beta Score: 0.1089\n",
      "\n",
      "Training Loss: 0.4573, Validation Loss: 0.5040, Validation F-beta: 0.1089\n",
      "Epoch 504/4000\n",
      "Current lambda: 0.1100\n"
     ]
    },
    {
     "name": "stderr",
     "output_type": "stream",
     "text": [
      "Training: 100%|██████████| 24/24 [00:36<00:00,  1.53s/it, loss=0.615]\n",
      "Validation: 100%|██████████| 4/4 [00:02<00:00,  1.44it/s, loss=0.468]\n"
     ]
    },
    {
     "name": "stdout",
     "output_type": "stream",
     "text": [
      "Validation Dice Score\n",
      "Class 0: 0.0000, Class 1: 0.0000, Class 2: 0.0021, Class 3: 0.0000, \n",
      "Class 4: 0.0000, Class 5: 0.3251, Class 6: 0.0000, \n",
      "Validation F-beta Score\n",
      "Class 0: 0.0000, Class 1: 0.0000, Class 2: 0.0171, Class 3: 0.0000, \n",
      "Class 4: 0.0000, Class 5: 0.3019, Class 6: 0.2500, \n",
      "Overall Mean Dice Score: 0.0650\n",
      "Overall Mean F-beta Score: 0.1104\n",
      "\n",
      "Training Loss: 0.4439, Validation Loss: 0.5244, Validation F-beta: 0.1104\n",
      "Epoch 505/4000\n",
      "Current lambda: 0.1100\n"
     ]
    },
    {
     "name": "stderr",
     "output_type": "stream",
     "text": [
      "Training: 100%|██████████| 24/24 [00:36<00:00,  1.53s/it, loss=0.448]\n",
      "Validation: 100%|██████████| 4/4 [00:02<00:00,  1.45it/s, loss=0.457]\n"
     ]
    },
    {
     "name": "stdout",
     "output_type": "stream",
     "text": [
      "Validation Dice Score\n",
      "Class 0: 0.0000, Class 1: 0.0000, Class 2: 0.0016, Class 3: 0.0000, \n",
      "Class 4: 0.0000, Class 5: 0.4889, Class 6: 0.0000, \n",
      "Validation F-beta Score\n",
      "Class 0: 0.0000, Class 1: 0.0000, Class 2: 0.0131, Class 3: 0.0000, \n",
      "Class 4: 0.2500, Class 5: 0.3857, Class 6: 0.0000, \n",
      "Overall Mean Dice Score: 0.0978\n",
      "Overall Mean F-beta Score: 0.1271\n",
      "\n",
      "Training Loss: 0.4718, Validation Loss: 0.4701, Validation F-beta: 0.1271\n",
      "Epoch 506/4000\n",
      "Current lambda: 0.1100\n"
     ]
    },
    {
     "name": "stderr",
     "output_type": "stream",
     "text": [
      "Training: 100%|██████████| 24/24 [00:36<00:00,  1.53s/it, loss=0.5]  \n",
      "Validation: 100%|██████████| 4/4 [00:02<00:00,  1.43it/s, loss=0.509]\n"
     ]
    },
    {
     "name": "stdout",
     "output_type": "stream",
     "text": [
      "Validation Dice Score\n",
      "Class 0: 0.0000, Class 1: 0.0000, Class 2: 0.0017, Class 3: 0.0000, \n",
      "Class 4: 0.0000, Class 5: 0.2564, Class 6: 0.0000, \n",
      "Validation F-beta Score\n",
      "Class 0: 0.0000, Class 1: 0.0000, Class 2: 0.0144, Class 3: 0.5000, \n",
      "Class 4: 0.0000, Class 5: 0.2353, Class 6: 0.0000, \n",
      "Overall Mean Dice Score: 0.0513\n",
      "Overall Mean F-beta Score: 0.1471\n",
      "\n",
      "Training Loss: 0.4508, Validation Loss: 0.4854, Validation F-beta: 0.1471\n",
      "Epoch 507/4000\n",
      "Current lambda: 0.1100\n"
     ]
    },
    {
     "name": "stderr",
     "output_type": "stream",
     "text": [
      "Training: 100%|██████████| 24/24 [00:36<00:00,  1.53s/it, loss=0.365]\n",
      "Validation: 100%|██████████| 4/4 [00:02<00:00,  1.43it/s, loss=0.312]\n"
     ]
    },
    {
     "name": "stdout",
     "output_type": "stream",
     "text": [
      "Validation Dice Score\n",
      "Class 0: 0.0000, Class 1: 0.0000, Class 2: 0.0014, Class 3: 0.0000, \n",
      "Class 4: 0.0000, Class 5: 0.3257, Class 6: 0.0000, \n",
      "Validation F-beta Score\n",
      "Class 0: 0.0000, Class 1: 0.5000, Class 2: 0.0121, Class 3: 0.2500, \n",
      "Class 4: 0.0000, Class 5: 0.2759, Class 6: 0.5000, \n",
      "Overall Mean Dice Score: 0.0651\n",
      "Overall Mean F-beta Score: 0.3052\n",
      "\n",
      "Training Loss: 0.4254, Validation Loss: 0.4309, Validation F-beta: 0.3052\n",
      "Epoch 508/4000\n",
      "Current lambda: 0.1100\n"
     ]
    },
    {
     "name": "stderr",
     "output_type": "stream",
     "text": [
      "Training: 100%|██████████| 24/24 [00:36<00:00,  1.53s/it, loss=0.397]\n",
      "Validation: 100%|██████████| 4/4 [00:02<00:00,  1.44it/s, loss=0.412]\n"
     ]
    },
    {
     "name": "stdout",
     "output_type": "stream",
     "text": [
      "Validation Dice Score\n",
      "Class 0: 0.0000, Class 1: 0.0000, Class 2: 0.0013, Class 3: 0.0000, \n",
      "Class 4: 0.0000, Class 5: 0.1881, Class 6: 0.0000, \n",
      "Validation F-beta Score\n",
      "Class 0: 0.0000, Class 1: 0.5000, Class 2: 0.0113, Class 3: 0.2500, \n",
      "Class 4: 0.2500, Class 5: 0.1751, Class 6: 0.5000, \n",
      "Overall Mean Dice Score: 0.0376\n",
      "Overall Mean F-beta Score: 0.3350\n",
      "\n",
      "Training Loss: 0.4667, Validation Loss: 0.4250, Validation F-beta: 0.3350\n",
      "Validation loss did not improve. Reducing lambda to 0.1000\n",
      "Epoch 509/4000\n",
      "Current lambda: 0.1000\n"
     ]
    },
    {
     "name": "stderr",
     "output_type": "stream",
     "text": [
      "Training: 100%|██████████| 24/24 [00:36<00:00,  1.52s/it, loss=0.403]\n",
      "Validation: 100%|██████████| 4/4 [00:02<00:00,  1.44it/s, loss=0.458]\n"
     ]
    },
    {
     "name": "stdout",
     "output_type": "stream",
     "text": [
      "Validation Dice Score\n",
      "Class 0: 0.0000, Class 1: 0.0000, Class 2: 0.0018, Class 3: 0.0000, \n",
      "Class 4: 0.0000, Class 5: 0.3399, Class 6: 0.0000, \n",
      "Validation F-beta Score\n",
      "Class 0: 0.0000, Class 1: 0.2500, Class 2: 0.0148, Class 3: 0.2500, \n",
      "Class 4: 0.2500, Class 5: 0.2538, Class 6: 0.0000, \n",
      "Overall Mean Dice Score: 0.0680\n",
      "Overall Mean F-beta Score: 0.2008\n",
      "\n",
      "Training Loss: 0.4376, Validation Loss: 0.4840, Validation F-beta: 0.2008\n",
      "Epoch 510/4000\n",
      "Current lambda: 0.1000\n"
     ]
    },
    {
     "name": "stderr",
     "output_type": "stream",
     "text": [
      "Training: 100%|██████████| 24/24 [00:36<00:00,  1.53s/it, loss=0.639]\n",
      "Validation: 100%|██████████| 4/4 [00:02<00:00,  1.39it/s, loss=0.457]\n"
     ]
    },
    {
     "name": "stdout",
     "output_type": "stream",
     "text": [
      "Validation Dice Score\n",
      "Class 0: 0.0000, Class 1: 0.0000, Class 2: 0.0010, Class 3: 0.0000, \n",
      "Class 4: 0.0000, Class 5: 0.3648, Class 6: 0.0000, \n",
      "Validation F-beta Score\n",
      "Class 0: 0.0000, Class 1: 0.2500, Class 2: 0.0080, Class 3: 0.0000, \n",
      "Class 4: 0.0000, Class 5: 0.3766, Class 6: 0.2500, \n",
      "Overall Mean Dice Score: 0.0730\n",
      "Overall Mean F-beta Score: 0.1753\n",
      "\n",
      "Training Loss: 0.4618, Validation Loss: 0.5218, Validation F-beta: 0.1753\n",
      "Epoch 511/4000\n",
      "Current lambda: 0.1000\n"
     ]
    },
    {
     "name": "stderr",
     "output_type": "stream",
     "text": [
      "Training: 100%|██████████| 24/24 [00:36<00:00,  1.54s/it, loss=0.31] \n",
      "Validation: 100%|██████████| 4/4 [00:02<00:00,  1.38it/s, loss=0.499]\n"
     ]
    },
    {
     "name": "stdout",
     "output_type": "stream",
     "text": [
      "Validation Dice Score\n",
      "Class 0: 0.0000, Class 1: 0.0000, Class 2: 0.0018, Class 3: 0.0000, \n",
      "Class 4: 0.0000, Class 5: 0.3890, Class 6: 0.0000, \n",
      "Validation F-beta Score\n",
      "Class 0: 0.0000, Class 1: 0.2500, Class 2: 0.0151, Class 3: 0.0000, \n",
      "Class 4: 0.0000, Class 5: 0.3427, Class 6: 0.2500, \n",
      "Overall Mean Dice Score: 0.0778\n",
      "Overall Mean F-beta Score: 0.1685\n",
      "\n",
      "Training Loss: 0.4650, Validation Loss: 0.4083, Validation F-beta: 0.1685\n",
      "Epoch 512/4000\n",
      "Current lambda: 0.1000\n"
     ]
    },
    {
     "name": "stderr",
     "output_type": "stream",
     "text": [
      "Training: 100%|██████████| 24/24 [00:37<00:00,  1.54s/it, loss=0.387]\n",
      "Validation: 100%|██████████| 4/4 [00:02<00:00,  1.43it/s, loss=0.398]\n"
     ]
    },
    {
     "name": "stdout",
     "output_type": "stream",
     "text": [
      "Validation Dice Score\n",
      "Class 0: 0.0000, Class 1: 0.0000, Class 2: 0.0008, Class 3: 0.0000, \n",
      "Class 4: 0.0000, Class 5: 0.4279, Class 6: 0.0000, \n",
      "Validation F-beta Score\n",
      "Class 0: 0.0000, Class 1: 0.5000, Class 2: 0.0068, Class 3: 0.5000, \n",
      "Class 4: 0.0000, Class 5: 0.3640, Class 6: 0.0000, \n",
      "Overall Mean Dice Score: 0.0856\n",
      "Overall Mean F-beta Score: 0.2728\n",
      "\n",
      "Training Loss: 0.4638, Validation Loss: 0.4448, Validation F-beta: 0.2728\n",
      "Epoch 513/4000\n",
      "Current lambda: 0.1000\n"
     ]
    },
    {
     "name": "stderr",
     "output_type": "stream",
     "text": [
      "Training: 100%|██████████| 24/24 [00:36<00:00,  1.54s/it, loss=0.382]\n",
      "Validation: 100%|██████████| 4/4 [00:02<00:00,  1.39it/s, loss=0.402]\n"
     ]
    },
    {
     "name": "stdout",
     "output_type": "stream",
     "text": [
      "Validation Dice Score\n",
      "Class 0: 0.0000, Class 1: 0.0000, Class 2: 0.0012, Class 3: 0.0000, \n",
      "Class 4: 0.0000, Class 5: 0.2159, Class 6: 0.0000, \n",
      "Validation F-beta Score\n",
      "Class 0: 0.0000, Class 1: 0.5000, Class 2: 0.0097, Class 3: 0.2500, \n",
      "Class 4: 0.2500, Class 5: 0.2515, Class 6: 0.5000, \n",
      "Overall Mean Dice Score: 0.0432\n",
      "Overall Mean F-beta Score: 0.3503\n",
      "\n",
      "Training Loss: 0.4365, Validation Loss: 0.3959, Validation F-beta: 0.3503\n",
      "Epoch 514/4000\n",
      "Current lambda: 0.1000\n"
     ]
    },
    {
     "name": "stderr",
     "output_type": "stream",
     "text": [
      "Training: 100%|██████████| 24/24 [00:36<00:00,  1.53s/it, loss=0.53] \n",
      "Validation: 100%|██████████| 4/4 [00:02<00:00,  1.41it/s, loss=0.617]\n"
     ]
    },
    {
     "name": "stdout",
     "output_type": "stream",
     "text": [
      "Validation Dice Score\n",
      "Class 0: 0.0000, Class 1: 0.0000, Class 2: 0.0023, Class 3: 0.0000, \n",
      "Class 4: 0.0000, Class 5: 0.2589, Class 6: 0.0000, \n",
      "Validation F-beta Score\n",
      "Class 0: 0.0000, Class 1: 0.0000, Class 2: 0.0187, Class 3: 0.0000, \n",
      "Class 4: 0.0000, Class 5: 0.2112, Class 6: 0.0000, \n",
      "Overall Mean Dice Score: 0.0518\n",
      "Overall Mean F-beta Score: 0.0422\n",
      "\n",
      "Training Loss: 0.4959, Validation Loss: 0.5309, Validation F-beta: 0.0422\n",
      "Epoch 515/4000\n",
      "Current lambda: 0.1000\n"
     ]
    },
    {
     "name": "stderr",
     "output_type": "stream",
     "text": [
      "Training: 100%|██████████| 24/24 [00:36<00:00,  1.54s/it, loss=0.524]\n",
      "Validation: 100%|██████████| 4/4 [00:02<00:00,  1.44it/s, loss=0.476]\n"
     ]
    },
    {
     "name": "stdout",
     "output_type": "stream",
     "text": [
      "Validation Dice Score\n",
      "Class 0: 0.0000, Class 1: 0.0000, Class 2: 0.0026, Class 3: 0.0000, \n",
      "Class 4: 0.0000, Class 5: 0.2271, Class 6: 0.0000, \n",
      "Validation F-beta Score\n",
      "Class 0: 0.0000, Class 1: 0.2500, Class 2: 0.0214, Class 3: 0.0000, \n",
      "Class 4: 0.2500, Class 5: 0.1683, Class 6: 0.2500, \n",
      "Overall Mean Dice Score: 0.0454\n",
      "Overall Mean F-beta Score: 0.1837\n",
      "\n",
      "Training Loss: 0.4401, Validation Loss: 0.4212, Validation F-beta: 0.1837\n",
      "Epoch 516/4000\n",
      "Current lambda: 0.1000\n"
     ]
    },
    {
     "name": "stderr",
     "output_type": "stream",
     "text": [
      "Training: 100%|██████████| 24/24 [00:36<00:00,  1.53s/it, loss=0.307]\n",
      "Validation: 100%|██████████| 4/4 [00:02<00:00,  1.43it/s, loss=0.495]\n"
     ]
    },
    {
     "name": "stdout",
     "output_type": "stream",
     "text": [
      "Validation Dice Score\n",
      "Class 0: 0.0000, Class 1: 0.0000, Class 2: 0.0024, Class 3: 0.0000, \n",
      "Class 4: 0.0000, Class 5: 0.3658, Class 6: 0.0000, \n",
      "Validation F-beta Score\n",
      "Class 0: 0.0000, Class 1: 0.2500, Class 2: 0.0199, Class 3: 0.2500, \n",
      "Class 4: 0.0000, Class 5: 0.3090, Class 6: 0.2500, \n",
      "Overall Mean Dice Score: 0.0732\n",
      "Overall Mean F-beta Score: 0.2118\n",
      "\n",
      "Training Loss: 0.4428, Validation Loss: 0.4366, Validation F-beta: 0.2118\n",
      "Epoch 517/4000\n",
      "Current lambda: 0.1000\n"
     ]
    },
    {
     "name": "stderr",
     "output_type": "stream",
     "text": [
      "Training: 100%|██████████| 24/24 [00:38<00:00,  1.59s/it, loss=0.478]\n",
      "Validation: 100%|██████████| 4/4 [00:02<00:00,  1.36it/s, loss=0.258]\n"
     ]
    },
    {
     "name": "stdout",
     "output_type": "stream",
     "text": [
      "Validation Dice Score\n",
      "Class 0: 0.0000, Class 1: 0.0000, Class 2: 0.0021, Class 3: 0.0000, \n",
      "Class 4: 0.0000, Class 5: 0.5124, Class 6: 0.0000, \n",
      "Validation F-beta Score\n",
      "Class 0: 0.0000, Class 1: 0.2500, Class 2: 0.0171, Class 3: 0.5000, \n",
      "Class 4: 0.2500, Class 5: 0.4425, Class 6: 0.2500, \n",
      "Overall Mean Dice Score: 0.1025\n",
      "Overall Mean F-beta Score: 0.3385\n",
      "\n",
      "Training Loss: 0.4592, Validation Loss: 0.3944, Validation F-beta: 0.3385\n",
      "Epoch 518/4000\n",
      "Current lambda: 0.1000\n"
     ]
    },
    {
     "name": "stderr",
     "output_type": "stream",
     "text": [
      "Training: 100%|██████████| 24/24 [00:41<00:00,  1.72s/it, loss=0.504]\n",
      "Validation: 100%|██████████| 4/4 [00:03<00:00,  1.33it/s, loss=0.431]\n"
     ]
    },
    {
     "name": "stdout",
     "output_type": "stream",
     "text": [
      "Validation Dice Score\n",
      "Class 0: 0.0000, Class 1: 0.0000, Class 2: 0.0022, Class 3: 0.0000, \n",
      "Class 4: 0.0000, Class 5: 0.4206, Class 6: 0.0000, \n",
      "Validation F-beta Score\n",
      "Class 0: 0.0000, Class 1: 0.2500, Class 2: 0.0185, Class 3: 0.0000, \n",
      "Class 4: 0.0000, Class 5: 0.3813, Class 6: 0.0000, \n",
      "Overall Mean Dice Score: 0.0841\n",
      "Overall Mean F-beta Score: 0.1263\n",
      "\n",
      "Training Loss: 0.4680, Validation Loss: 0.4700, Validation F-beta: 0.1263\n",
      "Validation loss did not improve. Reducing lambda to 0.1000\n",
      "Epoch 519/4000\n",
      "Current lambda: 0.1000\n"
     ]
    },
    {
     "name": "stderr",
     "output_type": "stream",
     "text": [
      "Training:  33%|███▎      | 8/24 [00:14<00:28,  1.81s/it, loss=0.501]"
     ]
    }
   ],
   "source": [
    "train_model(\n",
    "    model=model,\n",
    "    train_loader=train_loader,\n",
    "    val_loader=val_loader,\n",
    "    criterion=criterion,\n",
    "    optimizer=optimizer,\n",
    "    num_epochs=num_epochs,\n",
    "    patience=30,\n",
    "    device=device,\n",
    "    start_epoch=start_epoch,\n",
    "    best_val_loss=best_val_loss,\n",
    "    best_val_fbeta_score=best_val_fbeta_score,\n",
    "    calculate_dice_interval=1\n",
    ")"
   ]
  },
  {
   "cell_type": "code",
   "execution_count": null,
   "metadata": {},
   "outputs": [
    {
     "ename": "SyntaxError",
     "evalue": "invalid syntax (879943805.py, line 1)",
     "output_type": "error",
     "traceback": [
      "\u001b[1;36m  Cell \u001b[1;32mIn[13], line 1\u001b[1;36m\u001b[0m\n\u001b[1;33m    if:\u001b[0m\n\u001b[1;37m      ^\u001b[0m\n\u001b[1;31mSyntaxError\u001b[0m\u001b[1;31m:\u001b[0m invalid syntax\n"
     ]
    }
   ],
   "source": [
    "if:"
   ]
  },
  {
   "cell_type": "markdown",
   "metadata": {},
   "source": [
    "# VAl"
   ]
  },
  {
   "cell_type": "code",
   "execution_count": null,
   "metadata": {},
   "outputs": [
    {
     "data": {
      "text/html": [
       "Finishing last run (ID:fs6utwyo) before initializing another..."
      ],
      "text/plain": [
       "<IPython.core.display.HTML object>"
      ]
     },
     "metadata": {},
     "output_type": "display_data"
    },
    {
     "data": {
      "application/vnd.jupyter.widget-view+json": {
       "model_id": "29cc3ae761af43baae5aca60b5d2e7f4",
       "version_major": 2,
       "version_minor": 0
      },
      "text/plain": [
       "VBox(children=(Label(value='0.009 MB of 0.009 MB uploaded\\r'), FloatProgress(value=1.0, max=1.0)))"
      ]
     },
     "metadata": {},
     "output_type": "display_data"
    },
    {
     "data": {
      "text/html": [
       "<style>\n",
       "    table.wandb td:nth-child(1) { padding: 0 10px; text-align: left ; width: auto;} td:nth-child(2) {text-align: left ; width: 100%}\n",
       "    .wandb-row { display: flex; flex-direction: row; flex-wrap: wrap; justify-content: flex-start; width: 100% }\n",
       "    .wandb-col { display: flex; flex-direction: column; flex-basis: 100%; flex: 1; padding: 10px; }\n",
       "    </style>\n",
       "<div class=\"wandb-row\"><div class=\"wandb-col\"><h3>Run history:</h3><br/><table class=\"wandb\"><tr><td>class_0_dice_score</td><td>▁</td></tr><tr><td>class_0_f_beta_score</td><td>▁</td></tr><tr><td>class_1_dice_score</td><td>▁</td></tr><tr><td>class_1_f_beta_score</td><td>▁</td></tr><tr><td>class_2_dice_score</td><td>▁</td></tr><tr><td>class_2_f_beta_score</td><td>▁</td></tr><tr><td>class_3_dice_score</td><td>▁</td></tr><tr><td>class_3_f_beta_score</td><td>▁</td></tr><tr><td>class_4_dice_score</td><td>▁</td></tr><tr><td>class_4_f_beta_score</td><td>▁</td></tr><tr><td>class_5_dice_score</td><td>▁</td></tr><tr><td>class_5_f_beta_score</td><td>▁</td></tr><tr><td>class_6_dice_score</td><td>▁</td></tr><tr><td>class_6_f_beta_score</td><td>▁</td></tr><tr><td>epoch</td><td>▁▁▁▁▁▁▁▁▁▁▁▁▁▁▁▁</td></tr><tr><td>overall_mean_dice_score</td><td>▁</td></tr><tr><td>overall_mean_f_beta_score</td><td>▁</td></tr><tr><td>val_epoch_loss</td><td>▁</td></tr></table><br/></div><div class=\"wandb-col\"><h3>Run summary:</h3><br/><table class=\"wandb\"><tr><td>class_0_dice_score</td><td>0.65703</td></tr><tr><td>class_0_f_beta_score</td><td>0.50748</td></tr><tr><td>class_1_dice_score</td><td>0.53332</td></tr><tr><td>class_1_f_beta_score</td><td>0.64703</td></tr><tr><td>class_2_dice_score</td><td>0.00286</td></tr><tr><td>class_2_f_beta_score</td><td>0.02334</td></tr><tr><td>class_3_dice_score</td><td>0.23703</td></tr><tr><td>class_3_f_beta_score</td><td>0.23033</td></tr><tr><td>class_4_dice_score</td><td>0.65487</td></tr><tr><td>class_4_f_beta_score</td><td>0.62525</td></tr><tr><td>class_5_dice_score</td><td>0.47899</td></tr><tr><td>class_5_f_beta_score</td><td>0.51448</td></tr><tr><td>class_6_dice_score</td><td>0.42545</td></tr><tr><td>class_6_f_beta_score</td><td>0.47197</td></tr><tr><td>epoch</td><td>1</td></tr><tr><td>overall_mean_dice_score</td><td>0.42708</td></tr><tr><td>overall_mean_f_beta_score</td><td>0.43141</td></tr><tr><td>val_epoch_loss</td><td>0.7152</td></tr></table><br/></div></div>"
      ],
      "text/plain": [
       "<IPython.core.display.HTML object>"
      ]
     },
     "metadata": {},
     "output_type": "display_data"
    },
    {
     "data": {
      "text/html": [
       " View run <strong style=\"color:#cdcd00\">SwinUNETR96_96_lr0.001_lambda0.52_batch2</strong> at: <a href='https://wandb.ai/waooang/czii_SwinUnetR_val/runs/fs6utwyo' target=\"_blank\">https://wandb.ai/waooang/czii_SwinUnetR_val/runs/fs6utwyo</a><br/> View project at: <a href='https://wandb.ai/waooang/czii_SwinUnetR_val' target=\"_blank\">https://wandb.ai/waooang/czii_SwinUnetR_val</a><br/>Synced 4 W&B file(s), 0 media file(s), 3 artifact file(s) and 0 other file(s)"
      ],
      "text/plain": [
       "<IPython.core.display.HTML object>"
      ]
     },
     "metadata": {},
     "output_type": "display_data"
    },
    {
     "data": {
      "text/html": [
       "Find logs at: <code>.\\wandb\\run-20241219_200219-fs6utwyo\\logs</code>"
      ],
      "text/plain": [
       "<IPython.core.display.HTML object>"
      ]
     },
     "metadata": {},
     "output_type": "display_data"
    },
    {
     "data": {
      "text/html": [
       "Successfully finished last run (ID:fs6utwyo). Initializing new run:<br/>"
      ],
      "text/plain": [
       "<IPython.core.display.HTML object>"
      ]
     },
     "metadata": {},
     "output_type": "display_data"
    },
    {
     "data": {
      "text/html": [
       "Tracking run with wandb version 0.18.3"
      ],
      "text/plain": [
       "<IPython.core.display.HTML object>"
      ]
     },
     "metadata": {},
     "output_type": "display_data"
    },
    {
     "data": {
      "text/html": [
       "Run data is saved locally in <code>e:\\Workspace\\czll\\wandb\\run-20241219_200454-121l7bn3</code>"
      ],
      "text/plain": [
       "<IPython.core.display.HTML object>"
      ]
     },
     "metadata": {},
     "output_type": "display_data"
    },
    {
     "data": {
      "text/html": [
       "Syncing run <strong><a href='https://wandb.ai/waooang/czii_SwinUnetR_val/runs/121l7bn3' target=\"_blank\">SwinUNETR96_96_lr0.001_lambda0.52_batch2</a></strong> to <a href='https://wandb.ai/waooang/czii_SwinUnetR_val' target=\"_blank\">Weights & Biases</a> (<a href='https://wandb.me/run' target=\"_blank\">docs</a>)<br/>"
      ],
      "text/plain": [
       "<IPython.core.display.HTML object>"
      ]
     },
     "metadata": {},
     "output_type": "display_data"
    },
    {
     "data": {
      "text/html": [
       " View project at <a href='https://wandb.ai/waooang/czii_SwinUnetR_val' target=\"_blank\">https://wandb.ai/waooang/czii_SwinUnetR_val</a>"
      ],
      "text/plain": [
       "<IPython.core.display.HTML object>"
      ]
     },
     "metadata": {},
     "output_type": "display_data"
    },
    {
     "data": {
      "text/html": [
       " View run at <a href='https://wandb.ai/waooang/czii_SwinUnetR_val/runs/121l7bn3' target=\"_blank\">https://wandb.ai/waooang/czii_SwinUnetR_val/runs/121l7bn3</a>"
      ],
      "text/plain": [
       "<IPython.core.display.HTML object>"
      ]
     },
     "metadata": {},
     "output_type": "display_data"
    },
    {
     "name": "stderr",
     "output_type": "stream",
     "text": [
      "Loading dataset: 100%|██████████| 4/4 [00:06<00:00,  1.58s/it]\n",
      "C:\\Users\\Seungwoo\\AppData\\Local\\Temp\\ipykernel_21000\\1177025787.py:95: FutureWarning: You are using `torch.load` with `weights_only=False` (the current default value), which uses the default pickle module implicitly. It is possible to construct malicious pickle data which will execute arbitrary code during unpickling (See https://github.com/pytorch/pytorch/blob/main/SECURITY.md#untrusted-models for more details). In a future release, the default value for `weights_only` will be flipped to `True`. This limits the functions that could be executed during unpickling. Arbitrary objects will no longer be allowed to be loaded via this mode unless they are explicitly allowlisted by the user via `torch.serialization.add_safe_globals`. We recommend you start setting `weights_only=True` for any use case where you don't have full control of the loaded file. Please open an issue on GitHub for any issues related to this experimental feature.\n",
      "  checkpoint = torch.load(pretrain_path, map_location=device)\n",
      "Validation: 100%|██████████| 4/4 [00:01<00:00,  2.38it/s, loss=0.865]"
     ]
    },
    {
     "name": "stdout",
     "output_type": "stream",
     "text": [
      "Validation Dice Score\n",
      "Class 0: 0.6570, Class 1: 0.5333, Class 2: 0.0029, Class 3: 0.2370, \n",
      "Class 4: 0.6549, Class 5: 0.4790, Class 6: 0.4255, \n",
      "Validation F-beta Score\n",
      "Class 0: 0.5075, Class 1: 0.6470, Class 2: 0.0233, Class 3: 0.2303, \n",
      "Class 4: 0.6252, Class 5: 0.5145, Class 6: 0.4720, \n",
      "Overall Mean Dice Score: 0.4659\n",
      "Overall Mean F-beta Score: 0.4978\n",
      "\n"
     ]
    },
    {
     "name": "stderr",
     "output_type": "stream",
     "text": [
      "\n"
     ]
    }
   ],
   "source": [
    "from monai.data import DataLoader, Dataset, CacheDataset\n",
    "from monai.transforms import (\n",
    "    Compose, LoadImaged, EnsureChannelFirstd, NormalizeIntensityd,\n",
    "    Orientationd, CropForegroundd, GaussianSmoothd, ScaleIntensityd,\n",
    "    RandSpatialCropd, RandRotate90d, RandFlipd, RandGaussianNoised,\n",
    "    ToTensord, RandCropByLabelClassesd\n",
    ")\n",
    "from monai.metrics import DiceMetric\n",
    "from monai.networks.nets import UNETR, SwinUNETR\n",
    "from monai.losses import TverskyLoss\n",
    "import torch\n",
    "import numpy as np\n",
    "from tqdm import tqdm\n",
    "import wandb\n",
    "from src.dataset.dataset import make_val_dataloader\n",
    "\n",
    "val_img_dir = \"./datasets/val/images\"\n",
    "val_label_dir = \"./datasets/val/labels\"\n",
    "img_depth = 96\n",
    "img_size = 96  # Match your patch size\n",
    "n_classes = 7\n",
    "batch_size = 2 # 13.8GB GPU memory required for 128x128 img size\n",
    "num_samples = batch_size # 한 이미지에서 뽑을 샘플 수\n",
    "loader_batch = 1\n",
    "lamda = 0.52\n",
    "\n",
    "wandb.init(\n",
    "    project='czii_SwinUnetR_val',  # 프로젝트 이름 설정\n",
    "    name='SwinUNETR96_96_lr0.001_lambda0.52_batch2',         # 실행(run) 이름 설정\n",
    "    config={\n",
    "        'learning_rate': 0.001,\n",
    "        'batch_size': batch_size,\n",
    "        'lambda': lamda,\n",
    "        'img_size': img_size,\n",
    "        'device': 'cuda',\n",
    "        \"checkpoint_dir\": \"./model_checkpoints/SwinUNETR96_96_lr0.001_lambda0.52_batch2\",\n",
    "        \n",
    "    }\n",
    ")\n",
    "\n",
    "non_random_transforms = Compose([\n",
    "    EnsureChannelFirstd(keys=[\"image\", \"label\"], channel_dim=\"no_channel\"),\n",
    "    NormalizeIntensityd(keys=\"image\"),\n",
    "    Orientationd(keys=[\"image\", \"label\"], axcodes=\"RAS\"),\n",
    "    GaussianSmoothd(\n",
    "        keys=[\"image\"],      # 변환을 적용할 키\n",
    "        sigma=[1.0, 1.0, 1.0]  # 각 축(x, y, z)의 시그마 값\n",
    "        ),\n",
    "])\n",
    "random_transforms = Compose([\n",
    "    RandCropByLabelClassesd(\n",
    "        keys=[\"image\", \"label\"],\n",
    "        label_key=\"label\",\n",
    "        spatial_size=[img_depth, img_size, img_size],\n",
    "        num_classes=n_classes,\n",
    "        num_samples=num_samples, \n",
    "        ratios=ratios_list,\n",
    "    ),\n",
    "    RandRotate90d(keys=[\"image\", \"label\"], prob=0.5, spatial_axes=[1, 2]),\n",
    "    RandFlipd(keys=[\"image\", \"label\"], prob=0.5, spatial_axis=0),\n",
    "])\n",
    "\n",
    "val_loader = make_val_dataloader(\n",
    "    val_img_dir, \n",
    "    val_label_dir, \n",
    "    non_random_transforms = non_random_transforms, \n",
    "    random_transforms = random_transforms, \n",
    "    batch_size = loader_batch,\n",
    "    num_workers=0\n",
    ")\n",
    "criterion = TverskyLoss(\n",
    "    alpha= 1 - lamda,  # FP에 대한 가중치\n",
    "    beta=lamda,       # FN에 대한 가중치\n",
    "    include_background=False,  # 배경 클래스 제외\n",
    "    softmax=True\n",
    ")\n",
    "    \n",
    "    \n",
    "from monai.metrics import DiceMetric\n",
    "\n",
    "img_size = 96\n",
    "img_depth = img_size\n",
    "n_classes = 7 \n",
    "\n",
    "device = torch.device(\"cuda\" if torch.cuda.is_available() else \"cpu\")\n",
    "pretrain_path = \"./model_checkpoints/SwinUNETR96_96_lr0.001_lambda0.52_batch2/best_model.pt\"\n",
    "model = SwinUNETR(\n",
    "    img_size=(img_depth, img_size, img_size),\n",
    "    in_channels=1,\n",
    "    out_channels=n_classes,\n",
    "    feature_size=48,\n",
    "    use_checkpoint=True,\n",
    ").to(device)\n",
    "# Pretrained weights 불러오기\n",
    "checkpoint = torch.load(pretrain_path, map_location=device)\n",
    "model.load_state_dict(checkpoint['model_state_dict'])\n",
    "\n",
    "val_loss, overall_mean_fbeta_score = validate_one_epoch(\n",
    "    model=model, \n",
    "    val_loader=val_loader, \n",
    "    criterion=criterion, \n",
    "    device=device, \n",
    "    epoch=0, \n",
    "    calculate_dice_interval=1\n",
    ")"
   ]
  },
  {
   "cell_type": "markdown",
   "metadata": {},
   "source": [
    "# Inference"
   ]
  },
  {
   "cell_type": "code",
   "execution_count": null,
   "metadata": {},
   "outputs": [],
   "source": [
    "from src.dataset.preprocessing import Preprocessor"
   ]
  },
  {
   "cell_type": "code",
   "execution_count": null,
   "metadata": {},
   "outputs": [
    {
     "name": "stdout",
     "output_type": "stream",
     "text": [
      "Done.\n"
     ]
    }
   ],
   "source": [
    "from monai.inferers import sliding_window_inference\n",
    "from monai.transforms import Compose, EnsureChannelFirstd, NormalizeIntensityd, Orientationd, GaussianSmoothd\n",
    "from monai.data import DataLoader, Dataset, CacheDataset\n",
    "from monai.networks.nets import SwinUNETR\n",
    "from pathlib import Path\n",
    "import numpy as np\n",
    "import copick\n",
    "\n",
    "import torch\n",
    "print(\"Done.\")"
   ]
  },
  {
   "cell_type": "code",
   "execution_count": null,
   "metadata": {},
   "outputs": [
    {
     "name": "stdout",
     "output_type": "stream",
     "text": [
      "Config file written to ./kaggle/working/copick.config\n",
      "file length: 7\n"
     ]
    }
   ],
   "source": [
    "config_blob = \"\"\"{\n",
    "    \"name\": \"czii_cryoet_mlchallenge_2024\",\n",
    "    \"description\": \"2024 CZII CryoET ML Challenge training data.\",\n",
    "    \"version\": \"1.0.0\",\n",
    "\n",
    "    \"pickable_objects\": [\n",
    "        {\n",
    "            \"name\": \"apo-ferritin\",\n",
    "            \"is_particle\": true,\n",
    "            \"pdb_id\": \"4V1W\",\n",
    "            \"label\": 1,\n",
    "            \"color\": [  0, 117, 220, 128],\n",
    "            \"radius\": 60,\n",
    "            \"map_threshold\": 0.0418\n",
    "        },\n",
    "        {\n",
    "          \"name\" : \"beta-amylase\",\n",
    "            \"is_particle\": true,\n",
    "            \"pdb_id\": \"8ZRZ\",\n",
    "            \"label\": 2,\n",
    "            \"color\": [255, 255, 255, 128],\n",
    "            \"radius\": 90,\n",
    "            \"map_threshold\": 0.0578  \n",
    "        },\n",
    "        {\n",
    "            \"name\": \"beta-galactosidase\",\n",
    "            \"is_particle\": true,\n",
    "            \"pdb_id\": \"6X1Q\",\n",
    "            \"label\": 3,\n",
    "            \"color\": [ 76,   0,  92, 128],\n",
    "            \"radius\": 90,\n",
    "            \"map_threshold\": 0.0578\n",
    "        },\n",
    "        {\n",
    "            \"name\": \"ribosome\",\n",
    "            \"is_particle\": true,\n",
    "            \"pdb_id\": \"6EK0\",\n",
    "            \"label\": 4,\n",
    "            \"color\": [  0,  92,  49, 128],\n",
    "            \"radius\": 150,\n",
    "            \"map_threshold\": 0.0374\n",
    "        },\n",
    "        {\n",
    "            \"name\": \"thyroglobulin\",\n",
    "            \"is_particle\": true,\n",
    "            \"pdb_id\": \"6SCJ\",\n",
    "            \"label\": 5,\n",
    "            \"color\": [ 43, 206,  72, 128],\n",
    "            \"radius\": 130,\n",
    "            \"map_threshold\": 0.0278\n",
    "        },\n",
    "        {\n",
    "            \"name\": \"virus-like-particle\",\n",
    "            \"is_particle\": true,\n",
    "            \"label\": 6,\n",
    "            \"color\": [255, 204, 153, 128],\n",
    "            \"radius\": 135,\n",
    "            \"map_threshold\": 0.201\n",
    "        },\n",
    "        {\n",
    "            \"name\": \"membrane\",\n",
    "            \"is_particle\": false,\n",
    "            \"label\": 8,\n",
    "            \"color\": [100, 100, 100, 128]\n",
    "        },\n",
    "        {\n",
    "            \"name\": \"background\",\n",
    "            \"is_particle\": false,\n",
    "            \"label\": 9,\n",
    "            \"color\": [10, 150, 200, 128]\n",
    "        }\n",
    "    ],\n",
    "\n",
    "    \"overlay_root\": \"./kaggle/working/overlay\",\n",
    "\n",
    "    \"overlay_fs_args\": {\n",
    "        \"auto_mkdir\": true\n",
    "    },\n",
    "\n",
    "    \"static_root\": \"./kaggle/input/czii-cryo-et-object-identification/test/static\"\n",
    "}\"\"\"\n",
    "\n",
    "copick_config_path = \"./kaggle/working/copick.config\"\n",
    "preprocessor = Preprocessor(config_blob,copick_config_path=copick_config_path)\n",
    "non_random_transforms = Compose([\n",
    "    EnsureChannelFirstd(keys=[\"image\"], channel_dim=\"no_channel\"),\n",
    "    NormalizeIntensityd(keys=\"image\"),\n",
    "    Orientationd(keys=[\"image\"], axcodes=\"RAS\"),\n",
    "    GaussianSmoothd(\n",
    "        keys=[\"image\"],      # 변환을 적용할 키\n",
    "        sigma=[1.0, 1.0, 1.0]  # 각 축(x, y, z)의 시그마 값\n",
    "        ),\n",
    "    ])"
   ]
  },
  {
   "cell_type": "code",
   "execution_count": null,
   "metadata": {},
   "outputs": [
    {
     "name": "stderr",
     "output_type": "stream",
     "text": [
      "c:\\ProgramData\\anaconda3\\envs\\ship\\Lib\\site-packages\\monai\\utils\\deprecate_utils.py:221: FutureWarning: monai.networks.nets.swin_unetr SwinUNETR.__init__:img_size: Argument `img_size` has been deprecated since version 1.3. It will be removed in version 1.5. The img_size argument is not required anymore and checks on the input size are run during forward().\n",
      "  warn_deprecated(argname, msg, warning_category)\n",
      "C:\\Users\\Seungwoo\\AppData\\Local\\Temp\\ipykernel_6248\\2937359115.py:15: FutureWarning: You are using `torch.load` with `weights_only=False` (the current default value), which uses the default pickle module implicitly. It is possible to construct malicious pickle data which will execute arbitrary code during unpickling (See https://github.com/pytorch/pytorch/blob/main/SECURITY.md#untrusted-models for more details). In a future release, the default value for `weights_only` will be flipped to `True`. This limits the functions that could be executed during unpickling. Arbitrary objects will no longer be allowed to be loaded via this mode unless they are explicitly allowlisted by the user via `torch.serialization.add_safe_globals`. We recommend you start setting `weights_only=True` for any use case where you don't have full control of the loaded file. Please open an issue on GitHub for any issues related to this experimental feature.\n",
      "  checkpoint = torch.load(pretrain_path, map_location=device)\n"
     ]
    },
    {
     "data": {
      "text/plain": [
       "<All keys matched successfully>"
      ]
     },
     "execution_count": 15,
     "metadata": {},
     "output_type": "execute_result"
    }
   ],
   "source": [
    "img_size = 96\n",
    "img_depth = img_size\n",
    "n_classes = 7 \n",
    "\n",
    "device = torch.device(\"cuda\" if torch.cuda.is_available() else \"cpu\")\n",
    "pretrain_path = \"./model_checkpoints/SwinUNETR96_96_lr0.001_lambda0.52_batch2/best_model.pt\"\n",
    "model = SwinUNETR(\n",
    "    img_size=(img_depth, img_size, img_size),\n",
    "    in_channels=1,\n",
    "    out_channels=n_classes,\n",
    "    feature_size=48,\n",
    "    use_checkpoint=True,\n",
    ").to(device)\n",
    "# Pretrained weights 불러오기\n",
    "checkpoint = torch.load(pretrain_path, map_location=device)\n",
    "model.load_state_dict(checkpoint['model_state_dict'])\n"
   ]
  },
  {
   "cell_type": "code",
   "execution_count": null,
   "metadata": {},
   "outputs": [
    {
     "name": "stderr",
     "output_type": "stream",
     "text": [
      "Validation:   0%|          | 0/4 [00:03<?, ?it/s, loss=0.764]\n"
     ]
    },
    {
     "ename": "ZeroDivisionError",
     "evalue": "integer modulo by zero",
     "output_type": "error",
     "traceback": [
      "\u001b[1;31m---------------------------------------------------------------------------\u001b[0m",
      "\u001b[1;31mZeroDivisionError\u001b[0m                         Traceback (most recent call last)",
      "Cell \u001b[1;32mIn[16], line 1\u001b[0m\n\u001b[1;32m----> 1\u001b[0m val_loss \u001b[38;5;241m=\u001b[39m \u001b[43mvalidate_one_epoch\u001b[49m\u001b[43m(\u001b[49m\n\u001b[0;32m      2\u001b[0m \u001b[43m            \u001b[49m\u001b[43mmodel\u001b[49m\u001b[38;5;241;43m=\u001b[39;49m\u001b[43mmodel\u001b[49m\u001b[43m,\u001b[49m\u001b[43m \u001b[49m\n\u001b[0;32m      3\u001b[0m \u001b[43m            \u001b[49m\u001b[43mval_loader\u001b[49m\u001b[38;5;241;43m=\u001b[39;49m\u001b[43mval_loader\u001b[49m\u001b[43m,\u001b[49m\u001b[43m \u001b[49m\n\u001b[0;32m      4\u001b[0m \u001b[43m            \u001b[49m\u001b[43mcriterion\u001b[49m\u001b[38;5;241;43m=\u001b[39;49m\u001b[43mcriterion\u001b[49m\u001b[43m,\u001b[49m\u001b[43m \u001b[49m\n\u001b[0;32m      5\u001b[0m \u001b[43m            \u001b[49m\u001b[43mdevice\u001b[49m\u001b[38;5;241;43m=\u001b[39;49m\u001b[43mdevice\u001b[49m\u001b[43m,\u001b[49m\u001b[43m \u001b[49m\n\u001b[0;32m      6\u001b[0m \u001b[43m            \u001b[49m\u001b[43mepoch\u001b[49m\u001b[38;5;241;43m=\u001b[39;49m\u001b[38;5;241;43m1\u001b[39;49m\u001b[43m,\u001b[49m\u001b[43m \u001b[49m\n\u001b[0;32m      7\u001b[0m \u001b[43m            \u001b[49m\u001b[43mcalculate_dice_interval\u001b[49m\u001b[38;5;241;43m=\u001b[39;49m\u001b[38;5;241;43m0\u001b[39;49m\n\u001b[0;32m      8\u001b[0m \u001b[43m        \u001b[49m\u001b[43m)\u001b[49m\n",
      "Cell \u001b[1;32mIn[11], line 64\u001b[0m, in \u001b[0;36mvalidate_one_epoch\u001b[1;34m(model, val_loader, criterion, device, epoch, calculate_dice_interval)\u001b[0m\n\u001b[0;32m     61\u001b[0m pbar\u001b[38;5;241m.\u001b[39mset_postfix(loss\u001b[38;5;241m=\u001b[39mloss\u001b[38;5;241m.\u001b[39mitem())\n\u001b[0;32m     63\u001b[0m \u001b[38;5;66;03m# 각 클래스별 Dice 점수 계산\u001b[39;00m\n\u001b[1;32m---> 64\u001b[0m \u001b[38;5;28;01mif\u001b[39;00m \u001b[43mepoch\u001b[49m\u001b[43m \u001b[49m\u001b[38;5;241;43m%\u001b[39;49m\u001b[43m \u001b[49m\u001b[43mcalculate_dice_interval\u001b[49m \u001b[38;5;241m==\u001b[39m \u001b[38;5;241m0\u001b[39m:\n\u001b[0;32m     65\u001b[0m     \u001b[38;5;28;01mfor\u001b[39;00m i \u001b[38;5;129;01min\u001b[39;00m \u001b[38;5;28mrange\u001b[39m(n_classes):\n\u001b[0;32m     66\u001b[0m         pred_i \u001b[38;5;241m=\u001b[39m (preds \u001b[38;5;241m==\u001b[39m i)\n",
      "\u001b[1;31mZeroDivisionError\u001b[0m: integer modulo by zero"
     ]
    }
   ],
   "source": [
    "val_loss = validate_one_epoch(\n",
    "            model=model, \n",
    "            val_loader=val_loader, \n",
    "            criterion=criterion, \n",
    "            device=device, \n",
    "            epoch=1, \n",
    "            calculate_dice_interval=0\n",
    "        )"
   ]
  },
  {
   "cell_type": "code",
   "execution_count": null,
   "metadata": {},
   "outputs": [
    {
     "name": "stdout",
     "output_type": "stream",
     "text": [
      "Processing volume 1/7\n"
     ]
    },
    {
     "name": "stderr",
     "output_type": "stream",
     "text": [
      "Loading dataset: 100%|██████████| 1/1 [00:01<00:00,  1.94s/it]\n"
     ]
    },
    {
     "name": "stdout",
     "output_type": "stream",
     "text": [
      "Processing volume 2/7\n"
     ]
    },
    {
     "name": "stderr",
     "output_type": "stream",
     "text": [
      "Loading dataset: 100%|██████████| 1/1 [00:01<00:00,  1.89s/it]\n"
     ]
    },
    {
     "name": "stdout",
     "output_type": "stream",
     "text": [
      "Processing volume 3/7\n"
     ]
    },
    {
     "name": "stderr",
     "output_type": "stream",
     "text": [
      "Loading dataset: 100%|██████████| 1/1 [00:01<00:00,  1.79s/it]\n"
     ]
    },
    {
     "name": "stdout",
     "output_type": "stream",
     "text": [
      "Submission saved to: submission.csv\n"
     ]
    }
   ],
   "source": [
    "import torch\n",
    "import numpy as np\n",
    "from scipy.ndimage import label, center_of_mass\n",
    "import pandas as pd\n",
    "from tqdm import tqdm\n",
    "from monai.data import CacheDataset, DataLoader\n",
    "from monai.transforms import Compose, NormalizeIntensity\n",
    "import cc3d\n",
    "\n",
    "def dict_to_df(coord_dict, experiment_name):\n",
    "    all_coords = []\n",
    "    all_labels = []\n",
    "    \n",
    "    for label, coords in coord_dict.items():\n",
    "        all_coords.append(coords)\n",
    "        all_labels.extend([label] * len(coords))\n",
    "    \n",
    "    all_coords = np.vstack(all_coords)\n",
    "    df = pd.DataFrame({\n",
    "        'experiment': experiment_name,\n",
    "        'particle_type': all_labels,\n",
    "        'x': all_coords[:, 0],\n",
    "        'y': all_coords[:, 1],\n",
    "        'z': all_coords[:, 2]\n",
    "    })\n",
    "    return df\n",
    "\n",
    "id_to_name = {1: \"apo-ferritin\", \n",
    "              2: \"beta-amylase\",\n",
    "              3: \"beta-galactosidase\", \n",
    "              4: \"ribosome\", \n",
    "              5: \"thyroglobulin\", \n",
    "              6: \"virus-like-particle\"}\n",
    "BLOB_THRESHOLD = 200\n",
    "CERTAINTY_THRESHOLD = 0.05\n",
    "\n",
    "classes = [1, 2, 3, 4, 5, 6]\n",
    "\n",
    "model.eval()\n",
    "with torch.no_grad():\n",
    "    location_dfs = []  # DataFrame 리스트로 초기화\n",
    "    \n",
    "    for vol_idx, run in enumerate(preprocessor.root.runs):\n",
    "        print(f\"Processing volume {vol_idx + 1}/{len(preprocessor.root.runs)}\")\n",
    "        tomogram = preprocessor.processing(run=run, task=\"task\")\n",
    "        task_files = [{\"image\": tomogram}]\n",
    "        task_ds = CacheDataset(data=task_files, transform=non_random_transforms)\n",
    "        task_loader = DataLoader(task_ds, batch_size=1, num_workers=0)\n",
    "        \n",
    "        for task_data in task_loader:\n",
    "            images = task_data['image'].to(\"cuda\")\n",
    "            outputs = sliding_window_inference(\n",
    "                inputs=images,\n",
    "                roi_size=(96, 96, 96),  # ROI 크기\n",
    "                sw_batch_size=4,\n",
    "                predictor=model.forward,\n",
    "                overlap=0.1,\n",
    "                sw_device=\"cuda\",\n",
    "                device=\"cpu\",\n",
    "                buffer_steps=1,\n",
    "                buffer_dim=-1\n",
    "            )\n",
    "            outputs = outputs.argmax(dim=1).squeeze(0).cpu().numpy()  # 클래스 채널 예측\n",
    "            location = {}  # 좌표 저장용 딕셔너리\n",
    "            for c in classes:\n",
    "                cc = cc3d.connected_components(outputs == c)  # cc3d 라벨링\n",
    "                stats = cc3d.statistics(cc)\n",
    "                zyx = stats['centroids'][1:] * 10.012444  # 스케일 변환\n",
    "                zyx_large = zyx[stats['voxel_counts'][1:] > BLOB_THRESHOLD]  # 크기 필터링\n",
    "                xyz = np.ascontiguousarray(zyx_large[:, ::-1])  # 좌표 스왑 (z, y, x -> x, y, z)\n",
    "\n",
    "                location[id_to_name[c]] = xyz  # ID 이름 매칭 저장\n",
    "\n",
    "            # 데이터프레임 변환\n",
    "            df = dict_to_df(location, run.name)\n",
    "            location_dfs.append(df)  # 리스트에 추가\n",
    "        \n",
    "        # if vol_idx == 2:\n",
    "        #     break\n",
    "    \n",
    "    # DataFrame 병합\n",
    "    final_df = pd.concat(location_dfs, ignore_index=True)\n",
    "    \n",
    "    # ID 추가 및 CSV 저장\n",
    "    final_df.insert(loc=0, column='id', value=np.arange(len(final_df)))\n",
    "    final_df.to_csv(\"submission.csv\", index=False)\n",
    "    print(\"Submission saved to: submission.csv\")\n"
   ]
  }
 ],
 "metadata": {
  "kernelspec": {
   "display_name": "UM",
   "language": "python",
   "name": "python3"
  },
  "language_info": {
   "codemirror_mode": {
    "name": "ipython",
    "version": 3
   },
   "file_extension": ".py",
   "mimetype": "text/x-python",
   "name": "python",
   "nbconvert_exporter": "python",
   "pygments_lexer": "ipython3",
   "version": "3.12.7"
  }
 },
 "nbformat": 4,
 "nbformat_minor": 2
}
