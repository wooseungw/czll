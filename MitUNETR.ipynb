{
 "cells": [
  {
   "cell_type": "code",
   "execution_count": null,
   "metadata": {},
   "outputs": [],
   "source": [
    "import os\n",
    "import shutil\n",
    "import tempfile\n",
    "\n",
    "import matplotlib.pyplot as plt\n",
    "from tqdm import tqdm\n",
    "\n",
    "import random\n",
    "import numpy as np\n",
    "import torch\n",
    "\n",
    "\n",
    "from monai.losses import DiceCELoss\n",
    "from monai.inferers import sliding_window_inference\n",
    "from monai.transforms import (\n",
    "    AsDiscrete,\n",
    "    EnsureChannelFirstd,\n",
    "    Compose,\n",
    "    CropForegroundd,\n",
    "    LoadImaged,\n",
    "    Orientationd,\n",
    "    RandFlipd,\n",
    "    RandCropByPosNegLabeld,\n",
    "    RandShiftIntensityd,\n",
    "    ScaleIntensityRanged,\n",
    "    Spacingd,\n",
    "    RandRotate90d,\n",
    ")\n",
    "\n",
    "from monai.config import print_config\n",
    "from monai.metrics import DiceMetric\n",
    "from src.models import MiTCSPUnet, MiTUnet\n",
    "\n",
    "from monai.data import (\n",
    "    DataLoader,\n",
    "    CacheDataset,\n",
    "    load_decathlon_datalist,\n",
    "    decollate_batch,\n",
    ")\n",
    "\n",
    "# 랜덤 시드 고정\n",
    "def set_seed(seed):\n",
    "    random.seed(seed)\n",
    "    np.random.seed(seed)\n",
    "    torch.manual_seed(seed)\n",
    "    if torch.cuda.is_available():\n",
    "        torch.cuda.manual_seed_all(seed)\n",
    "\n",
    "set_seed(42)\n",
    "\n",
    "\n",
    "print_config()"
   ]
  },
  {
   "cell_type": "code",
   "execution_count": 2,
   "metadata": {},
   "outputs": [
    {
     "name": "stdout",
     "output_type": "stream",
     "text": [
      "클래스 비율: {0: 0.0, 1: 0.16393442622950818, 2: 0.01639344262295082, 3: 0.2459016393442623, 4: 0.16393442622950818, 5: 0.2459016393442623, 6: 0.16393442622950818}\n",
      "최종 합계: 1.0\n",
      "클래스 비율 리스트: [0.0, 0.16393442622950818, 0.01639344262295082, 0.2459016393442623, 0.16393442622950818, 0.2459016393442623, 0.16393442622950818]\n"
     ]
    }
   ],
   "source": [
    "class_info = {\n",
    "    0: {\"name\": \"background\", \"weight\": 0},  # weight 없음\n",
    "    1: {\"name\": \"apo-ferritin\", \"weight\": 1000},\n",
    "    2: {\"name\": \"beta-amylase\", \"weight\": 100}, # 4130\n",
    "    3: {\"name\": \"beta-galactosidase\", \"weight\": 1500}, #3080\n",
    "    4: {\"name\": \"ribosome\", \"weight\": 1000},\n",
    "    5: {\"name\": \"thyroglobulin\", \"weight\": 1500},\n",
    "    6: {\"name\": \"virus-like-particle\", \"weight\": 1000},\n",
    "}\n",
    "\n",
    "# 가중치에 비례한 비율 계산\n",
    "raw_ratios = {\n",
    "    k: (v[\"weight\"] if v[\"weight\"] is not None else 0.01)  # 가중치 비례, None일 경우 기본값a\n",
    "    for k, v in class_info.items()\n",
    "}\n",
    "total = sum(raw_ratios.values())\n",
    "ratios = {k: v / total for k, v in raw_ratios.items()}\n",
    "\n",
    "# 최종 합계가 1인지 확인\n",
    "final_total = sum(ratios.values())\n",
    "print(\"클래스 비율:\", ratios)\n",
    "print(\"최종 합계:\", final_total)\n",
    "\n",
    "# 비율을 리스트로 변환\n",
    "ratios_list = [ratios[k] for k in sorted(ratios.keys())]\n",
    "print(\"클래스 비율 리스트:\", ratios_list)"
   ]
  },
  {
   "cell_type": "markdown",
   "metadata": {},
   "source": [
    "# 모델 설정"
   ]
  },
  {
   "cell_type": "code",
   "execution_count": 3,
   "metadata": {},
   "outputs": [],
   "source": [
    "from src.dataset.dataset import create_dataloaders\n",
    "from monai.transforms import (\n",
    "    Compose, LoadImaged, EnsureChannelFirstd, NormalizeIntensityd,\n",
    "    Orientationd, CropForegroundd, GaussianSmoothd, ScaleIntensityd,\n",
    "    RandSpatialCropd, RandRotate90d, RandFlipd, RandGaussianNoised,\n",
    "    ToTensord, RandCropByLabelClassesd\n",
    ")\n",
    "from monai.transforms import CastToTyped\n",
    "import numpy as np\n",
    "\n",
    "train_img_dir = \"./datasets/train/images\"\n",
    "train_label_dir = \"./datasets/train/labels\"\n",
    "val_img_dir = \"./datasets/val/images\"\n",
    "val_label_dir = \"./datasets/val/labels\"\n",
    "# DATA CONFIG\n",
    "img_size =  96 # Match your patch size\n",
    "img_depth = img_size\n",
    "n_classes = 7\n",
    "batch_size = 1 # 13.8GB GPU memory required for 128x128 img size\n",
    "num_samples = batch_size # 한 이미지에서 뽑을 샘플 수\n",
    "loader_batch = 1\n",
    "num_repeat = 60\n",
    "# MODEL CONFIG\n",
    "num_epochs = 4000\n",
    "lamda = 0.52\n",
    "ce_weight = 0.4\n",
    "lr = 0.0001\n",
    "use_checkpoint = False\n",
    "feature_size = 24\n",
    "reduction_ratio = (16, 8, 4, 2, 1)\n",
    "ff_expansion = (2, 8, 8, 4, 4)\n",
    "heads = (1, 1, 2, 4, 8)\n",
    "stage_kernel_stride_pad = ((7,1,3), (3, 2, 1), (3, 2, 1), (3, 2, 1), (3, 2, 1))\n",
    "num_mit_layers = (1, 2, 2, 2, 2)\n",
    "num_bottle_layers = 2\n",
    "# CLASS_WEIGHTS\n",
    "class_weights = None\n",
    "class_weights = torch.tensor([0.0001, 1, 0.001, 1.1, 1, 1.1, 1], dtype=torch.float32)  # 클래스별 가중치\n",
    "accumulation_steps = 8\n",
    "# INIT\n",
    "start_epoch = 0\n",
    "best_val_loss = float('inf')\n",
    "best_val_fbeta_score = 0\n",
    "\n",
    "non_random_transforms = Compose([\n",
    "    EnsureChannelFirstd(keys=[\"image\", \"label\"], channel_dim=\"no_channel\"),\n",
    "    NormalizeIntensityd(keys=\"image\"),\n",
    "    Orientationd(keys=[\"image\", \"label\"], axcodes=\"RAS\"),\n",
    "    CastToTyped(keys=[\"image\"], dtype=np.float16),\n",
    "    GaussianSmoothd(\n",
    "        keys=[\"image\"],      # 변환을 적용할 키\n",
    "        sigma=[1.0, 1.0, 1.0]  # 각 축(x, y, z)의 시그마 값\n",
    "        ),\n",
    "])\n",
    "random_transforms = Compose([\n",
    "    RandCropByLabelClassesd(\n",
    "        keys=[\"image\", \"label\"],\n",
    "        label_key=\"label\",\n",
    "        spatial_size=[img_depth, img_size, img_size],\n",
    "        num_classes=n_classes,\n",
    "        num_samples=num_samples, \n",
    "        ratios=ratios_list,\n",
    "    ),\n",
    "    RandRotate90d(keys=[\"image\", \"label\"], prob=0.5, spatial_axes=[1, 2]),\n",
    "    RandFlipd(keys=[\"image\", \"label\"], prob=0.5, spatial_axis=0),\n",
    "    RandFlipd(keys=[\"image\", \"label\"], prob=0.5, spatial_axis=1),\n",
    "    RandFlipd(keys=[\"image\", \"label\"], prob=0.5, spatial_axis=2),\n",
    "])\n"
   ]
  },
  {
   "cell_type": "code",
   "execution_count": null,
   "metadata": {},
   "outputs": [
    {
     "name": "stderr",
     "output_type": "stream",
     "text": [
      "Loading dataset: 100%|██████████| 24/24 [00:38<00:00,  1.58s/it]\n",
      "Loading dataset: 100%|██████████| 4/4 [00:07<00:00,  1.86s/it]\n"
     ]
    }
   ],
   "source": [
    "train_loader, val_loader = None, None\n",
    "train_loader, val_loader = create_dataloaders(\n",
    "    train_img_dir, \n",
    "    train_label_dir, \n",
    "    val_img_dir, \n",
    "    val_label_dir, \n",
    "    non_random_transforms = non_random_transforms, \n",
    "    random_transforms = random_transforms, \n",
    "    batch_size = loader_batch,\n",
    "    num_workers=0,train_num_repeat=num_repeat)"
   ]
  },
  {
   "cell_type": "markdown",
   "metadata": {},
   "source": [
    "https://monai.io/model-zoo.html"
   ]
  },
  {
   "cell_type": "code",
   "execution_count": 5,
   "metadata": {},
   "outputs": [],
   "source": [
    "from monai.losses import TverskyLoss\n",
    "import torch\n",
    "import torch.nn as nn\n",
    "\n",
    "def loss_fn(loss, class_weights, device):\n",
    "    \"\"\"\n",
    "    Tversky 손실에 클래스별 가중치를 적용하여 최종 스칼라 값을 반환합니다.\n",
    "\n",
    "    Args:\n",
    "        loss: Tversky 손실 텐서 (B, num_classes, H, W, D).\n",
    "        class_weights: 클래스별 가중치 텐서 (num_classes,).\n",
    "        device: 사용할 장치 (예: 'cuda' 또는 'cpu').\n",
    "\n",
    "    Returns:\n",
    "        torch.Tensor: 최종 가중 평균 손실 값 (스칼라).\n",
    "    \"\"\"\n",
    "    # 가중치를 device로 이동\n",
    "    class_weights = class_weights.to(device)\n",
    "\n",
    "    # 클래스 차원에 가중치 적용 (B, num_classes, ...)\n",
    "    class_weights = class_weights.view(1, n_classes, 1, 1, 1)  # [1, num_classes, 1, 1, 1]\n",
    "    weighted_loss = loss * class_weights\n",
    "\n",
    "    # 모든 차원을 평균 내어 스칼라 손실 반환\n",
    "    final_loss = torch.mean(weighted_loss)\n",
    "    return final_loss\n",
    "\n",
    "class DynamicTverskyLoss(TverskyLoss):\n",
    "    def __init__(self, lamda=0.5, **kwargs):\n",
    "        super().__init__(alpha=1 - lamda, beta=lamda, **kwargs)\n",
    "        self.lamda = lamda\n",
    "\n",
    "    def set_lamda(self, lamda):\n",
    "        self.lamda = lamda\n",
    "        self.alpha = 1 - lamda\n",
    "        self.beta = lamda\n",
    "        \n",
    "# criterion = DynamicTverskyLoss(\n",
    "#     lamda=0.5,\n",
    "#     include_background=False,\n",
    "#     reduction=\"mean\",\n",
    "#     softmax=True\n",
    "# )\n",
    "\n",
    "class CombinedCETverskyLoss(nn.Module):\n",
    "    def __init__(self, lamda=0.5, ce_weight=0.5, **kwargs):\n",
    "        super().__init__()\n",
    "        self._lamda = lamda  # lamda 값 저장\n",
    "        self.tversky = DynamicTverskyLoss(lamda=lamda, **kwargs)\n",
    "        self.ce = nn.CrossEntropyLoss()\n",
    "        self.ce_weight = ce_weight\n",
    "        \n",
    "    def forward(self, inputs, targets):\n",
    "        tversky_loss = self.tversky(inputs, targets)\n",
    "        ce_loss = self.ce(inputs, targets)\n",
    "        return self.ce_weight * ce_loss + (1 - self.ce_weight) * tversky_loss\n",
    "    \n",
    "    def set_lamda(self, lamda):\n",
    "        self._lamda = lamda\n",
    "        self.tversky.set_lamda(lamda)\n",
    "    \n",
    "    @property\n",
    "    def lamda(self):\n",
    "        return self._lamda"
   ]
  },
  {
   "cell_type": "code",
   "execution_count": 6,
   "metadata": {},
   "outputs": [],
   "source": [
    "import torch.optim as optim\n",
    "from tqdm import tqdm\n",
    "import numpy as np\n",
    "import torch\n",
    "from pathlib import Path\n",
    "from monai.metrics import DiceMetric\n",
    "\n",
    "device = torch.device(\"cuda\" if torch.cuda.is_available() else \"cpu\")\n",
    "\n",
    "model = MiTUnet(\n",
    "    img_size=(img_depth, img_size, img_size),\n",
    "    \n",
    "    out_channels=n_classes,\n",
    "    feature_size=feature_size,\n",
    "    \n",
    "    heads = heads,\n",
    "    ff_expansion=ff_expansion,\n",
    "    reduction_ratio=reduction_ratio,\n",
    "    num_layers=num_mit_layers,\n",
    "    channels=1,\n",
    "    stage_kernel_stride_pad = stage_kernel_stride_pad,\n",
    "    \n",
    "    spatial_dims=3,\n",
    "    norm_name=\"instance\",\n",
    "    act_name = (\"leakyrelu \", {\"inplace\": True, \"negative_slope\": 0.01}),\n",
    "    n=num_bottle_layers,\n",
    ").to(device)\n",
    "# Pretrained weights 불러오기\n",
    "# if use_checkpoint:\n",
    "#     pretrain_path = \"./swin_unetr_btcv_segmentation/models/model.pt\"\n",
    "#     weight = torch.load(pretrain_path, map_location=device)\n",
    "\n",
    "#     # 출력 레이어의 키를 제외한 나머지 가중치만 로드\n",
    "#     filtered_weights = {k: v for k, v in weight.items() if \"out.conv.conv\" not in k}\n",
    "\n",
    "#     # strict=False로 로드하여 불일치하는 부분 무시\n",
    "#     model.load_state_dict(filtered_weights, strict=False)\n",
    "#     print(\"Filtered weights loaded successfully. Output layer will be trained from scratch.\")\n",
    "\n",
    "# Load pretrained weights\n",
    "# model.load_from(weights=np.load(config_vit.real_pretrained_path, allow_pickle=True))\n",
    "# TverskyLoss 설정\n",
    "# 사용 예시\n",
    "criterion = CombinedCETverskyLoss(\n",
    "    lamda=lamda,\n",
    "    ce_weight=ce_weight,  # CE Loss와 Tversky Loss의 비중을 0.5:0.5로 설정\n",
    "    include_background=False,\n",
    "    reduction=\"mean\",\n",
    "    softmax=True\n",
    ")\n",
    "\n",
    "pretrain_str = \"yes\" if use_checkpoint else \"no\"\n",
    "weight_str = \"weighted\" if class_weights is not None else \"\"\n",
    "\n",
    "# 체크포인트 디렉토리 및 파일 설정\n",
    "checkpoint_base_dir = Path(\"./model_checkpoints\")\n",
    "folder_name = f\"MitUnet_noencodLK_p{pretrain_str}_{weight_str}_f{feature_size}_d{img_depth}s{img_size}_lr{lr:.0e}_a{lamda:.2f}_b{1-lamda:.2f}_b{batch_size}_r{num_repeat}_ce{ce_weight}\"\n",
    "checkpoint_dir = checkpoint_base_dir / folder_name\n",
    "optimizer = optim.AdamW(model.parameters(), lr=lr, weight_decay=1e-5)\n",
    "scheduler = torch.optim.lr_scheduler.ReduceLROnPlateau(optimizer, patience=5, factor=0.5)\n",
    "# 체크포인트 디렉토리 생성\n",
    "checkpoint_dir.mkdir(parents=True, exist_ok=True)\n",
    "\n",
    "if checkpoint_dir.exists():\n",
    "    best_model_path = checkpoint_dir / 'best_model.pt'\n",
    "    if best_model_path.exists():\n",
    "        print(f\"기존 best model 발견: {best_model_path}\")\n",
    "        try:\n",
    "            checkpoint = torch.load(best_model_path, map_location=device)\n",
    "            # 체크포인트 내부 키 검증\n",
    "            required_keys = ['model_state_dict', 'optimizer_state_dict', 'epoch', 'best_val_loss']\n",
    "            if all(k in checkpoint for k in required_keys):\n",
    "                model.load_state_dict(checkpoint['model_state_dict'])\n",
    "                optimizer.load_state_dict(checkpoint['optimizer_state_dict'])\n",
    "                start_epoch = checkpoint['epoch']\n",
    "                best_val_loss = checkpoint['best_val_loss']\n",
    "                print(\"기존 학습된 가중치를 성공적으로 로드했습니다.\")\n",
    "                checkpoint= None\n",
    "            else:\n",
    "                raise ValueError(\"체크포인트 파일에 필요한 key가 없습니다.\")\n",
    "        except Exception as e:\n",
    "            print(f\"체크포인트 파일을 로드하는 중 오류 발생: {e}\")"
   ]
  },
  {
   "cell_type": "code",
   "execution_count": null,
   "metadata": {},
   "outputs": [
    {
     "name": "stdout",
     "output_type": "stream",
     "text": [
      "torch.Size([1, 1, 96, 96, 96]) torch.Size([1, 1, 96, 96, 96])\n"
     ]
    }
   ],
   "source": [
    "batch = next(iter(val_loader))\n",
    "images, labels = batch[\"image\"], batch[\"label\"]\n",
    "print(images.shape, labels.shape)"
   ]
  },
  {
   "cell_type": "code",
   "execution_count": 8,
   "metadata": {},
   "outputs": [],
   "source": [
    "torch.backends.cudnn.benchmark = True"
   ]
  },
  {
   "cell_type": "code",
   "execution_count": null,
   "metadata": {},
   "outputs": [
    {
     "name": "stderr",
     "output_type": "stream",
     "text": [
      "\u001b[34m\u001b[1mwandb\u001b[0m: Using wandb-core as the SDK backend. Please refer to https://wandb.me/wandb-core for more information.\n",
      "\u001b[34m\u001b[1mwandb\u001b[0m: Currently logged in as: \u001b[33mwoow070840\u001b[0m (\u001b[33mwaooang\u001b[0m). Use \u001b[1m`wandb login --relogin`\u001b[0m to force relogin\n"
     ]
    },
    {
     "data": {
      "text/html": [
       "Tracking run with wandb version 0.18.3"
      ],
      "text/plain": [
       "<IPython.core.display.HTML object>"
      ]
     },
     "metadata": {},
     "output_type": "display_data"
    },
    {
     "data": {
      "text/html": [
       "Run data is saved locally in <code>e:\\Workspace\\czll\\wandb\\run-20250107_010236-9djwfatk</code>"
      ],
      "text/plain": [
       "<IPython.core.display.HTML object>"
      ]
     },
     "metadata": {},
     "output_type": "display_data"
    },
    {
     "data": {
      "text/html": [
       "Syncing run <strong><a href='https://wandb.ai/waooang/czii_SwinUnetR/runs/9djwfatk' target=\"_blank\">MitUnet_noencod_pno_weighted_f24_d96s96_lr1e-04_a0.52_b0.48_b1_r60_ce0.4</a></strong> to <a href='https://wandb.ai/waooang/czii_SwinUnetR' target=\"_blank\">Weights & Biases</a> (<a href='https://wandb.me/run' target=\"_blank\">docs</a>)<br/>"
      ],
      "text/plain": [
       "<IPython.core.display.HTML object>"
      ]
     },
     "metadata": {},
     "output_type": "display_data"
    },
    {
     "data": {
      "text/html": [
       " View project at <a href='https://wandb.ai/waooang/czii_SwinUnetR' target=\"_blank\">https://wandb.ai/waooang/czii_SwinUnetR</a>"
      ],
      "text/plain": [
       "<IPython.core.display.HTML object>"
      ]
     },
     "metadata": {},
     "output_type": "display_data"
    },
    {
     "data": {
      "text/html": [
       " View run at <a href='https://wandb.ai/waooang/czii_SwinUnetR/runs/9djwfatk' target=\"_blank\">https://wandb.ai/waooang/czii_SwinUnetR/runs/9djwfatk</a>"
      ],
      "text/plain": [
       "<IPython.core.display.HTML object>"
      ]
     },
     "metadata": {},
     "output_type": "display_data"
    },
    {
     "data": {
      "text/plain": [
       "[]"
      ]
     },
     "execution_count": 9,
     "metadata": {},
     "output_type": "execute_result"
    }
   ],
   "source": [
    "import wandb\n",
    "from datetime import datetime\n",
    "\n",
    "current_time = datetime.now().strftime('%Y%m%d_%H%M%S')\n",
    "run_name = folder_name\n",
    "\n",
    "# wandb 초기화\n",
    "wandb.init(\n",
    "    project='czii_SwinUnetR',  # 프로젝트 이름 설정\n",
    "    name=run_name,         # 실행(run) 이름 설정\n",
    "    config={\n",
    "        'num_epochs': num_epochs,\n",
    "        'learning_rate': lr,\n",
    "        'batch_size': batch_size,\n",
    "        'lambda': lamda,\n",
    "        \"cross_entropy_weight\": ce_weight,\n",
    "        'feature_size': feature_size,\n",
    "        'img_size': img_size,\n",
    "        'sampling_ratio': ratios_list,\n",
    "        'device': device.type,\n",
    "        \"checkpoint_dir\": str(checkpoint_dir),\n",
    "        \"class_weights\": class_weights.tolist() if class_weights is not None else None,\n",
    "        \"use_checkpoint\": use_checkpoint,\n",
    "        \"kernel_strade_pad\": stage_kernel_stride_pad,   \n",
    "        \"heads\": heads,\n",
    "        \"ff_expansion\": ff_expansion,\n",
    "        \"reduction_ratio\": reduction_ratio,\n",
    "        \"num_mit_layers\": num_mit_layers,\n",
    "        \"num_bottle_layers\": num_bottle_layers,\n",
    "        \n",
    "        \"accumulation_steps\": accumulation_steps,\n",
    "        \"num_repeat\": num_repeat,\n",
    "        \n",
    "        # 필요한 하이퍼파라미터 추가\n",
    "    }\n",
    ")\n",
    "# 모델을 wandb에 연결\n",
    "wandb.watch(model, log='all')"
   ]
  },
  {
   "cell_type": "markdown",
   "metadata": {},
   "source": [
    "# 학습"
   ]
  },
  {
   "cell_type": "code",
   "execution_count": 10,
   "metadata": {},
   "outputs": [],
   "source": [
    "from monai.metrics import DiceMetric\n",
    "    \n",
    "def processing(batch_data, model, criterion, device):\n",
    "    images = batch_data['image'].to(device)  # Input 이미지 (B, 1, 96, 96, 96)\n",
    "    labels = batch_data['label'].to(device)  # 라벨 (B, 96, 96, 96)\n",
    "\n",
    "    labels = labels.squeeze(1)  # (B, 1, 96, 96, 96) → (B, 96, 96, 96)\n",
    "    labels = labels.long()  # 라벨을 정수형으로 변환\n",
    "\n",
    "    # 원핫 인코딩 (B, H, W, D) → (B, num_classes, H, W, D)\n",
    "    \n",
    "    labels_onehot = torch.nn.functional.one_hot(labels, num_classes=n_classes)\n",
    "    labels_onehot = labels_onehot.permute(0, 4, 1, 2, 3).float()  # (B, num_classes, H, W, D)\n",
    "\n",
    "    # 모델 예측\n",
    "    outputs = model(images)  # outputs: (B, num_classes, H, W, D)\n",
    "\n",
    "    # Loss 계산\n",
    "    # loss = criterion(outputs, labels_onehot)\n",
    "    loss = loss_fn(criterion(outputs, labels_onehot),class_weights=class_weights, device=device)\n",
    "    return loss, outputs, labels, outputs.argmax(dim=1)\n",
    "\n",
    "def train_one_epoch(model, train_loader, criterion, optimizer, device, epoch, accumulation_steps=4):\n",
    "    model.train()\n",
    "    epoch_loss = 0\n",
    "    optimizer.zero_grad()  # 그래디언트 초기화\n",
    "    with tqdm(train_loader, desc='Training') as pbar:\n",
    "        for i, batch_data in enumerate(pbar):\n",
    "            # 손실 계산\n",
    "            loss, _, _, _ = processing(batch_data, model, criterion, device)\n",
    "\n",
    "            # 그래디언트를 계산하고 누적\n",
    "            loss = loss / accumulation_steps  # 그래디언트 누적을 위한 스케일링\n",
    "            loss.backward()  # 그래디언트 계산 및 누적\n",
    "            \n",
    "            # 그래디언트 업데이트 (accumulation_steps마다 한 번)\n",
    "            if (i + 1) % accumulation_steps == 0 or (i + 1) == len(train_loader):\n",
    "                optimizer.step()  # 파라미터 업데이트\n",
    "                optimizer.zero_grad()  # 누적된 그래디언트 초기화\n",
    "            \n",
    "            # 손실값 누적 (스케일링 복구)\n",
    "            epoch_loss += loss.item() * accumulation_steps  # 실제 손실값 반영\n",
    "            pbar.set_postfix(loss=loss.item() * accumulation_steps)  # 실제 손실값 출력\n",
    "    avg_loss = epoch_loss / len(train_loader)\n",
    "    wandb.log({'train_epoch_loss': avg_loss, 'epoch': epoch + 1})\n",
    "    return avg_loss\n",
    "\n",
    "\n",
    "def validate_one_epoch(model, val_loader, criterion, device, epoch, calculate_dice_interval):\n",
    "    model.eval()\n",
    "    val_loss = 0\n",
    "    \n",
    "    class_dice_scores = {i: [] for i in range(n_classes)}\n",
    "    class_f_beta_scores = {i: [] for i in range(n_classes)}\n",
    "    with torch.no_grad():\n",
    "        with tqdm(val_loader, desc='Validation') as pbar:\n",
    "            for batch_data in pbar:\n",
    "                loss, _, labels, preds = processing(batch_data, model, criterion, device)\n",
    "                val_loss += loss.item()\n",
    "                pbar.set_postfix(loss=loss.item())\n",
    "\n",
    "                # 각 클래스별 Dice 점수 계산\n",
    "                if epoch % calculate_dice_interval == 0:\n",
    "                    for i in range(n_classes):\n",
    "                        pred_i = (preds == i)\n",
    "                        label_i = (labels == i)\n",
    "                        dice_score = (2.0 * torch.sum(pred_i & label_i)) / (torch.sum(pred_i) + torch.sum(label_i) + 1e-8)\n",
    "                        class_dice_scores[i].append(dice_score.item())\n",
    "                        precision = (torch.sum(pred_i & label_i) + 1e-8) / (torch.sum(pred_i) + 1e-8)\n",
    "                        recall = (torch.sum(pred_i & label_i) + 1e-8) / (torch.sum(label_i) + 1e-8)\n",
    "                        f_beta_score = (1 + 4**2) * (precision * recall) / (4**2 * precision + recall + 1e-8)\n",
    "                        class_f_beta_scores[i].append(f_beta_score.item())\n",
    "\n",
    "    avg_loss = val_loss / len(val_loader)\n",
    "    # 에포크별 평균 손실 로깅\n",
    "    wandb.log({'val_epoch_loss': avg_loss, 'epoch': epoch + 1})\n",
    "    \n",
    "    # 각 클래스별 평균 Dice 점수 출력\n",
    "    if epoch % calculate_dice_interval == 0:\n",
    "        print(\"Validation Dice Score\")\n",
    "        all_classes_dice_scores = []\n",
    "        for i in range(n_classes):\n",
    "            mean_dice = np.mean(class_dice_scores[i])\n",
    "            wandb.log({f'class_{i}_dice_score': mean_dice, 'epoch': epoch + 1})\n",
    "            print(f\"Class {i}: {mean_dice:.4f}\", end=\", \")\n",
    "            if i not in [0, 2]:  # 평균에 포함할 클래스만 추가\n",
    "                all_classes_dice_scores.append(mean_dice)\n",
    "            \n",
    "        print()\n",
    "    if epoch % calculate_dice_interval == 0:\n",
    "        print(\"Validation F-beta Score\")\n",
    "        all_classes_fbeta_scores = []\n",
    "        for i in range(n_classes):\n",
    "            mean_fbeta = np.mean(class_f_beta_scores[i])\n",
    "            wandb.log({f'class_{i}_f_beta_score': mean_fbeta, 'epoch': epoch + 1})\n",
    "            print(f\"Class {i}: {mean_fbeta:.4f}\", end=\", \")\n",
    "            if i not in [0, 2]:  # 평균에 포함할 클래스만 추가\n",
    "                all_classes_fbeta_scores.append(mean_fbeta)\n",
    "        print()\n",
    "        overall_mean_dice = np.mean(all_classes_dice_scores)\n",
    "        overall_mean_fbeta = np.mean(all_classes_fbeta_scores)\n",
    "        wandb.log({'overall_mean_f_beta_score': overall_mean_fbeta, 'overall_mean_dice_score': overall_mean_dice, 'epoch': epoch + 1})\n",
    "        print(f\"\\nOverall Mean Dice Score: {overall_mean_dice:.4f}\\nOverall Mean F-beta Score: {overall_mean_fbeta:.4f}\\n\")\n",
    "\n",
    "    if overall_mean_fbeta is None:\n",
    "        overall_mean_fbeta = 0\n",
    "\n",
    "    return val_loss / len(val_loader), overall_mean_fbeta\n",
    "\n",
    "def train_model(\n",
    "    model, train_loader, val_loader, criterion, optimizer, num_epochs, patience, \n",
    "    device, start_epoch, best_val_loss, best_val_fbeta_score, calculate_dice_interval=1,\n",
    "    accumulation_steps=4\n",
    "):\n",
    "    \"\"\"\n",
    "    모델을 학습하고 검증하는 함수\n",
    "    Args:\n",
    "        model: 학습할 모델\n",
    "        train_loader: 학습 데이터 로더\n",
    "        val_loader: 검증 데이터 로더\n",
    "        criterion: 손실 함수\n",
    "        optimizer: 최적화 알고리즘\n",
    "        num_epochs: 총 학습 epoch 수\n",
    "        patience: early stopping 기준\n",
    "        device: GPU/CPU 장치\n",
    "        start_epoch: 시작 epoch\n",
    "        best_val_loss: 이전 최적 validation loss\n",
    "        best_val_fbeta_score: 이전 최적 validation f-beta score\n",
    "        calculate_dice_interval: Dice 점수 계산 주기\n",
    "    \"\"\"\n",
    "    epochs_no_improve = 0\n",
    "\n",
    "    for epoch in range(start_epoch, num_epochs):\n",
    "        print(f\"Epoch {epoch + 1}/{num_epochs}\")\n",
    "\n",
    "        # Train One Epoch\n",
    "        train_loss = train_one_epoch(\n",
    "            model=model, \n",
    "            train_loader=train_loader, \n",
    "            criterion=criterion, \n",
    "            optimizer=optimizer, \n",
    "            device=device,\n",
    "            epoch=epoch,\n",
    "            accumulation_steps= accumulation_steps\n",
    "        )\n",
    "        \n",
    "        scheduler.step(train_loss)\n",
    "        # Validate One Epoch\n",
    "        val_loss, overall_mean_fbeta_score = validate_one_epoch(\n",
    "            model=model, \n",
    "            val_loader=val_loader, \n",
    "            criterion=criterion, \n",
    "            device=device, \n",
    "            epoch=epoch, \n",
    "            calculate_dice_interval=calculate_dice_interval\n",
    "        )\n",
    "\n",
    "        \n",
    "        print(f\"Training Loss: {train_loss:.4f}, Validation Loss: {val_loss:.4f}, Validation F-beta: {overall_mean_fbeta_score:.4f}\")\n",
    "\n",
    "        if val_loss < best_val_loss and overall_mean_fbeta_score > best_val_fbeta_score:\n",
    "            best_val_loss = val_loss\n",
    "            best_val_fbeta_score = overall_mean_fbeta_score\n",
    "            epochs_no_improve = 0\n",
    "            checkpoint_path = os.path.join(checkpoint_dir, 'best_model.pt')\n",
    "            torch.save({\n",
    "                'epoch': epoch + 1,\n",
    "                'model_state_dict': model.state_dict(),\n",
    "                'optimizer_state_dict': optimizer.state_dict(),\n",
    "                'best_val_loss': best_val_loss,\n",
    "                'best_val_fbeta_score': best_val_fbeta_score\n",
    "            }, checkpoint_path)\n",
    "            print(f\"========================================================\")\n",
    "            print(f\"SUPER Best model saved. Loss:{best_val_loss:.4f}, Score:{best_val_fbeta_score:.4f}\")\n",
    "            print(f\"========================================================\")\n",
    "\n",
    "        # Early stopping 조건 체크\n",
    "        if val_loss >= best_val_loss and overall_mean_fbeta_score <= best_val_fbeta_score:\n",
    "            epochs_no_improve += 1\n",
    "        else:\n",
    "            epochs_no_improve = 0\n",
    "\n",
    "        if epochs_no_improve >= patience:\n",
    "            print(\"Early stopping\")\n",
    "            checkpoint_path = os.path.join(checkpoint_dir, 'last.pt')\n",
    "            torch.save({\n",
    "                'epoch': epoch + 1,\n",
    "                'model_state_dict': model.state_dict(),\n",
    "                'optimizer_state_dict': optimizer.state_dict(),\n",
    "                'best_val_loss': best_val_loss,\n",
    "                'best_val_fbeta_score': best_val_fbeta_score\n",
    "            }, checkpoint_path)\n",
    "            break\n",
    "        # if epochs_no_improve%6 == 0:\n",
    "        #     # 손실이 개선되지 않았으므로 lambda 감소\n",
    "        #     new_lamda = max(criterion.lamda - 0.01, 0.1)  # 최소값은 0.1로 설정\n",
    "        #     criterion.set_lamda(new_lamda)\n",
    "        #     print(f\"Validation loss did not improve. Reducing lambda to {new_lamda:.4f}\")\n",
    "\n",
    "    wandb.finish()\n"
   ]
  },
  {
   "cell_type": "code",
   "execution_count": null,
   "metadata": {},
   "outputs": [
    {
     "name": "stdout",
     "output_type": "stream",
     "text": [
      "Epoch 1/4000\n"
     ]
    },
    {
     "name": "stderr",
     "output_type": "stream",
     "text": [
      "Training: 100%|██████████| 1440/1440 [13:12<00:00,  1.82it/s, loss=0.465]\n",
      "Validation: 100%|██████████| 12/12 [00:04<00:00,  2.67it/s, loss=0.515]\n"
     ]
    },
    {
     "name": "stdout",
     "output_type": "stream",
     "text": [
      "Validation Dice Score\n",
      "Class 0: 0.9849, Class 1: 0.0000, Class 2: 0.0000, Class 3: 0.0000, Class 4: 0.0000, Class 5: 0.0000, Class 6: 0.0000, \n",
      "Validation F-beta Score\n",
      "Class 0: 0.9982, Class 1: 0.5000, Class 2: 0.6667, Class 3: 0.3333, Class 4: 0.3333, Class 5: 0.3333, Class 6: 0.5000, \n",
      "\n",
      "Overall Mean Dice Score: 0.0000\n",
      "Overall Mean F-beta Score: 0.4000\n",
      "\n",
      "Training Loss: 0.4908, Validation Loss: 0.4923, Validation F-beta: 0.4000\n",
      "========================================================\n",
      "SUPER Best model saved. Loss:0.4923, Score:0.4000\n",
      "========================================================\n",
      "Epoch 2/4000\n"
     ]
    },
    {
     "name": "stderr",
     "output_type": "stream",
     "text": [
      "Training: 100%|██████████| 1440/1440 [12:33<00:00,  1.91it/s, loss=0.47] \n",
      "Validation: 100%|██████████| 12/12 [00:04<00:00,  2.75it/s, loss=0.481]\n"
     ]
    },
    {
     "name": "stdout",
     "output_type": "stream",
     "text": [
      "Validation Dice Score\n",
      "Class 0: 0.9899, Class 1: 0.0000, Class 2: 0.0000, Class 3: 0.0000, Class 4: 0.0660, Class 5: 0.0000, Class 6: 0.0001, \n",
      "Validation F-beta Score\n",
      "Class 0: 0.9967, Class 1: 0.5833, Class 2: 0.4167, Class 3: 0.2500, Class 4: 0.1527, Class 5: 0.0833, Class 6: 0.2501, \n",
      "\n",
      "Overall Mean Dice Score: 0.0132\n",
      "Overall Mean F-beta Score: 0.2639\n",
      "\n",
      "Training Loss: 0.4732, Validation Loss: 0.4728, Validation F-beta: 0.2639\n",
      "Epoch 3/4000\n"
     ]
    },
    {
     "name": "stderr",
     "output_type": "stream",
     "text": [
      "Training: 100%|██████████| 1440/1440 [12:28<00:00,  1.92it/s, loss=0.477]\n",
      "Validation: 100%|██████████| 12/12 [00:04<00:00,  2.82it/s, loss=0.504]\n"
     ]
    },
    {
     "name": "stdout",
     "output_type": "stream",
     "text": [
      "Validation Dice Score\n",
      "Class 0: 0.9795, Class 1: 0.0063, Class 2: 0.0000, Class 3: 0.0000, Class 4: 0.2496, Class 5: 0.0269, Class 6: 0.0510, \n",
      "Validation F-beta Score\n",
      "Class 0: 0.9786, Class 1: 0.0035, Class 2: 0.4167, Class 3: 0.5833, Class 4: 0.2357, Class 5: 0.1034, Class 6: 0.0859, \n",
      "\n",
      "Overall Mean Dice Score: 0.0668\n",
      "Overall Mean F-beta Score: 0.2024\n",
      "\n",
      "Training Loss: 0.4639, Validation Loss: 0.4722, Validation F-beta: 0.2024\n",
      "Epoch 4/4000\n"
     ]
    },
    {
     "name": "stderr",
     "output_type": "stream",
     "text": [
      "Training: 100%|██████████| 1440/1440 [12:27<00:00,  1.93it/s, loss=0.439]\n",
      "Validation: 100%|██████████| 12/12 [00:04<00:00,  2.95it/s, loss=0.404]\n"
     ]
    },
    {
     "name": "stdout",
     "output_type": "stream",
     "text": [
      "Validation Dice Score\n",
      "Class 0: 0.9861, Class 1: 0.0529, Class 2: 0.0000, Class 3: 0.0634, Class 4: 0.2984, Class 5: 0.0470, Class 6: 0.2439, \n",
      "Validation F-beta Score\n",
      "Class 0: 0.9899, Class 1: 0.1088, Class 2: 0.5000, Class 3: 0.0517, Class 4: 0.2704, Class 5: 0.0318, Class 6: 0.2432, \n",
      "\n",
      "Overall Mean Dice Score: 0.1411\n",
      "Overall Mean F-beta Score: 0.1412\n",
      "\n",
      "Training Loss: 0.4459, Validation Loss: 0.4340, Validation F-beta: 0.1412\n",
      "Epoch 5/4000\n"
     ]
    },
    {
     "name": "stderr",
     "output_type": "stream",
     "text": [
      "Training: 100%|██████████| 1440/1440 [12:28<00:00,  1.92it/s, loss=0.403]\n",
      "Validation: 100%|██████████| 12/12 [00:04<00:00,  2.88it/s, loss=0.431]\n"
     ]
    },
    {
     "name": "stdout",
     "output_type": "stream",
     "text": [
      "Validation Dice Score\n",
      "Class 0: 0.9845, Class 1: 0.0444, Class 2: 0.0016, Class 3: 0.0814, Class 4: 0.3147, Class 5: 0.0388, Class 6: 0.1283, \n",
      "Validation F-beta Score\n",
      "Class 0: 0.9820, Class 1: 0.1537, Class 2: 0.2509, Class 3: 0.1692, Class 4: 0.3351, Class 5: 0.0267, Class 6: 0.1087, \n",
      "\n",
      "Overall Mean Dice Score: 0.1215\n",
      "Overall Mean F-beta Score: 0.1587\n",
      "\n",
      "Training Loss: 0.4366, Validation Loss: 0.4339, Validation F-beta: 0.1587\n",
      "Epoch 6/4000\n"
     ]
    },
    {
     "name": "stderr",
     "output_type": "stream",
     "text": [
      "Training: 100%|██████████| 1440/1440 [12:28<00:00,  1.92it/s, loss=0.454]\n",
      "Validation: 100%|██████████| 12/12 [00:04<00:00,  2.82it/s, loss=0.442]\n"
     ]
    },
    {
     "name": "stdout",
     "output_type": "stream",
     "text": [
      "Validation Dice Score\n",
      "Class 0: 0.9885, Class 1: 0.0890, Class 2: 0.0004, Class 3: 0.1146, Class 4: 0.3098, Class 5: 0.0462, Class 6: 0.1760, \n",
      "Validation F-beta Score\n",
      "Class 0: 0.9930, Class 1: 0.0598, Class 2: 0.0002, Class 3: 0.2935, Class 4: 0.2784, Class 5: 0.0371, Class 6: 0.1549, \n",
      "\n",
      "Overall Mean Dice Score: 0.1471\n",
      "Overall Mean F-beta Score: 0.1647\n",
      "\n",
      "Training Loss: 0.4298, Validation Loss: 0.4217, Validation F-beta: 0.1647\n",
      "Epoch 7/4000\n"
     ]
    },
    {
     "name": "stderr",
     "output_type": "stream",
     "text": [
      "Training: 100%|██████████| 1440/1440 [12:28<00:00,  1.92it/s, loss=0.401]\n",
      "Validation: 100%|██████████| 12/12 [00:04<00:00,  2.75it/s, loss=0.4]  \n"
     ]
    },
    {
     "name": "stdout",
     "output_type": "stream",
     "text": [
      "Validation Dice Score\n",
      "Class 0: 0.9891, Class 1: 0.0719, Class 2: 0.0000, Class 3: 0.1354, Class 4: 0.1529, Class 5: 0.1509, Class 6: 0.1420, \n",
      "Validation F-beta Score\n",
      "Class 0: 0.9894, Class 1: 0.0613, Class 2: 0.3333, Class 3: 0.1037, Class 4: 0.1647, Class 5: 0.1243, Class 6: 0.1125, \n",
      "\n",
      "Overall Mean Dice Score: 0.1306\n",
      "Overall Mean F-beta Score: 0.1133\n",
      "\n",
      "Training Loss: 0.4219, Validation Loss: 0.4291, Validation F-beta: 0.1133\n",
      "Epoch 8/4000\n"
     ]
    },
    {
     "name": "stderr",
     "output_type": "stream",
     "text": [
      "Training: 100%|██████████| 1440/1440 [12:28<00:00,  1.92it/s, loss=0.447]\n",
      "Validation: 100%|██████████| 12/12 [00:04<00:00,  2.82it/s, loss=0.353]\n"
     ]
    },
    {
     "name": "stdout",
     "output_type": "stream",
     "text": [
      "Validation Dice Score\n",
      "Class 0: 0.9867, Class 1: 0.1537, Class 2: 0.0203, Class 3: 0.1125, Class 4: 0.1225, Class 5: 0.0796, Class 6: 0.2549, \n",
      "Validation F-beta Score\n",
      "Class 0: 0.9830, Class 1: 0.2303, Class 2: 0.0192, Class 3: 0.1312, Class 4: 0.1129, Class 5: 0.0576, Class 6: 0.2452, \n",
      "\n",
      "Overall Mean Dice Score: 0.1446\n",
      "Overall Mean F-beta Score: 0.1554\n",
      "\n",
      "Training Loss: 0.4258, Validation Loss: 0.4227, Validation F-beta: 0.1554\n",
      "Epoch 9/4000\n"
     ]
    },
    {
     "name": "stderr",
     "output_type": "stream",
     "text": [
      "Training: 100%|██████████| 1440/1440 [12:28<00:00,  1.92it/s, loss=0.425]\n",
      "Validation: 100%|██████████| 12/12 [00:04<00:00,  2.93it/s, loss=0.397]\n"
     ]
    },
    {
     "name": "stdout",
     "output_type": "stream",
     "text": [
      "Validation Dice Score\n",
      "Class 0: 0.9874, Class 1: 0.0931, Class 2: 0.0000, Class 3: 0.1586, Class 4: 0.3055, Class 5: 0.2799, Class 6: 0.4251, \n",
      "Validation F-beta Score\n",
      "Class 0: 0.9842, Class 1: 0.0675, Class 2: 0.0000, Class 3: 0.1764, Class 4: 0.3482, Class 5: 0.3418, Class 6: 0.3883, \n",
      "\n",
      "Overall Mean Dice Score: 0.2525\n",
      "Overall Mean F-beta Score: 0.2644\n",
      "\n",
      "Training Loss: 0.4157, Validation Loss: 0.3888, Validation F-beta: 0.2644\n",
      "Epoch 10/4000\n"
     ]
    },
    {
     "name": "stderr",
     "output_type": "stream",
     "text": [
      "Training: 100%|██████████| 1440/1440 [12:28<00:00,  1.92it/s, loss=0.456]\n",
      "Validation: 100%|██████████| 12/12 [00:04<00:00,  2.80it/s, loss=0.389]\n"
     ]
    },
    {
     "name": "stdout",
     "output_type": "stream",
     "text": [
      "Validation Dice Score\n",
      "Class 0: 0.9876, Class 1: 0.1180, Class 2: 0.0000, Class 3: 0.1036, Class 4: 0.4181, Class 5: 0.2959, Class 6: 0.3031, \n",
      "Validation F-beta Score\n",
      "Class 0: 0.9902, Class 1: 0.1141, Class 2: 0.0000, Class 3: 0.0785, Class 4: 0.3340, Class 5: 0.3412, Class 6: 0.2826, \n",
      "\n",
      "Overall Mean Dice Score: 0.2477\n",
      "Overall Mean F-beta Score: 0.2301\n",
      "\n",
      "Training Loss: 0.4094, Validation Loss: 0.3903, Validation F-beta: 0.2301\n",
      "Epoch 11/4000\n"
     ]
    },
    {
     "name": "stderr",
     "output_type": "stream",
     "text": [
      "Training: 100%|██████████| 1440/1440 [12:28<00:00,  1.92it/s, loss=0.416]\n",
      "Validation: 100%|██████████| 12/12 [00:04<00:00,  2.87it/s, loss=0.433]\n"
     ]
    },
    {
     "name": "stdout",
     "output_type": "stream",
     "text": [
      "Validation Dice Score\n",
      "Class 0: 0.9907, Class 1: 0.1772, Class 2: 0.0166, Class 3: 0.2457, Class 4: 0.2822, Class 5: 0.1517, Class 6: 0.2398, \n",
      "Validation F-beta Score\n",
      "Class 0: 0.9916, Class 1: 0.2342, Class 2: 0.0943, Class 3: 0.2169, Class 4: 0.4004, Class 5: 0.1382, Class 6: 0.3041, \n",
      "\n",
      "Overall Mean Dice Score: 0.2193\n",
      "Overall Mean F-beta Score: 0.2588\n",
      "\n",
      "Training Loss: 0.4052, Validation Loss: 0.3928, Validation F-beta: 0.2588\n",
      "Epoch 12/4000\n"
     ]
    },
    {
     "name": "stderr",
     "output_type": "stream",
     "text": [
      "Training: 100%|██████████| 1440/1440 [12:29<00:00,  1.92it/s, loss=0.459]\n",
      "Validation: 100%|██████████| 12/12 [00:04<00:00,  2.78it/s, loss=0.374]\n"
     ]
    },
    {
     "name": "stdout",
     "output_type": "stream",
     "text": [
      "Validation Dice Score\n",
      "Class 0: 0.9909, Class 1: 0.1655, Class 2: 0.0402, Class 3: 0.2013, Class 4: 0.2779, Class 5: 0.1902, Class 6: 0.2484, \n",
      "Validation F-beta Score\n",
      "Class 0: 0.9930, Class 1: 0.1729, Class 2: 0.0259, Class 3: 0.3084, Class 4: 0.3871, Class 5: 0.1908, Class 6: 0.2200, \n",
      "\n",
      "Overall Mean Dice Score: 0.2167\n",
      "Overall Mean F-beta Score: 0.2558\n",
      "\n",
      "Training Loss: 0.4038, Validation Loss: 0.3943, Validation F-beta: 0.2558\n",
      "Epoch 13/4000\n"
     ]
    },
    {
     "name": "stderr",
     "output_type": "stream",
     "text": [
      "Training: 100%|██████████| 1440/1440 [12:27<00:00,  1.93it/s, loss=0.396]\n",
      "Validation: 100%|██████████| 12/12 [00:04<00:00,  2.94it/s, loss=0.341]\n"
     ]
    },
    {
     "name": "stdout",
     "output_type": "stream",
     "text": [
      "Validation Dice Score\n",
      "Class 0: 0.9883, Class 1: 0.1582, Class 2: 0.0173, Class 3: 0.1368, Class 4: 0.3749, Class 5: 0.1901, Class 6: 0.2187, \n",
      "Validation F-beta Score\n",
      "Class 0: 0.9881, Class 1: 0.1997, Class 2: 0.0111, Class 3: 0.1460, Class 4: 0.3693, Class 5: 0.1881, Class 6: 0.1959, \n",
      "\n",
      "Overall Mean Dice Score: 0.2157\n",
      "Overall Mean F-beta Score: 0.2198\n",
      "\n",
      "Training Loss: 0.3989, Validation Loss: 0.3951, Validation F-beta: 0.2198\n",
      "Epoch 14/4000\n"
     ]
    },
    {
     "name": "stderr",
     "output_type": "stream",
     "text": [
      "Training: 100%|██████████| 1440/1440 [12:28<00:00,  1.92it/s, loss=0.395]\n",
      "Validation: 100%|██████████| 12/12 [00:04<00:00,  2.85it/s, loss=0.465]\n"
     ]
    },
    {
     "name": "stdout",
     "output_type": "stream",
     "text": [
      "Validation Dice Score\n",
      "Class 0: 0.9885, Class 1: 0.0562, Class 2: 0.0146, Class 3: 0.0394, Class 4: 0.3048, Class 5: 0.1537, Class 6: 0.0718, \n",
      "Validation F-beta Score\n",
      "Class 0: 0.9905, Class 1: 0.0747, Class 2: 0.0930, Class 3: 0.2775, Class 4: 0.4279, Class 5: 0.1247, Class 6: 0.0693, \n",
      "\n",
      "Overall Mean Dice Score: 0.1252\n",
      "Overall Mean F-beta Score: 0.1948\n",
      "\n",
      "Training Loss: 0.3964, Validation Loss: 0.4249, Validation F-beta: 0.1948\n",
      "Epoch 15/4000\n"
     ]
    },
    {
     "name": "stderr",
     "output_type": "stream",
     "text": [
      "Training: 100%|██████████| 1440/1440 [12:28<00:00,  1.92it/s, loss=0.333]\n",
      "Validation: 100%|██████████| 12/12 [00:04<00:00,  2.79it/s, loss=0.399]\n"
     ]
    },
    {
     "name": "stdout",
     "output_type": "stream",
     "text": [
      "Validation Dice Score\n",
      "Class 0: 0.9889, Class 1: 0.1627, Class 2: 0.0418, Class 3: 0.1523, Class 4: 0.2418, Class 5: 0.1459, Class 6: 0.3683, \n",
      "Validation F-beta Score\n",
      "Class 0: 0.9877, Class 1: 0.1826, Class 2: 0.0288, Class 3: 0.1914, Class 4: 0.3234, Class 5: 0.1119, Class 6: 0.5148, \n",
      "\n",
      "Overall Mean Dice Score: 0.2142\n",
      "Overall Mean F-beta Score: 0.2648\n",
      "\n",
      "Training Loss: 0.3953, Validation Loss: 0.3921, Validation F-beta: 0.2648\n",
      "Epoch 16/4000\n"
     ]
    },
    {
     "name": "stderr",
     "output_type": "stream",
     "text": [
      "Training: 100%|██████████| 1440/1440 [12:28<00:00,  1.92it/s, loss=0.378]\n",
      "Validation: 100%|██████████| 12/12 [00:04<00:00,  2.87it/s, loss=0.419]\n"
     ]
    },
    {
     "name": "stdout",
     "output_type": "stream",
     "text": [
      "Validation Dice Score\n",
      "Class 0: 0.9907, Class 1: 0.1479, Class 2: 0.0222, Class 3: 0.1890, Class 4: 0.3332, Class 5: 0.1538, Class 6: 0.1811, \n",
      "Validation F-beta Score\n",
      "Class 0: 0.9905, Class 1: 0.1510, Class 2: 0.0196, Class 3: 0.2410, Class 4: 0.4127, Class 5: 0.1514, Class 6: 0.3303, \n",
      "\n",
      "Overall Mean Dice Score: 0.2010\n",
      "Overall Mean F-beta Score: 0.2573\n",
      "\n",
      "Training Loss: 0.3912, Validation Loss: 0.3942, Validation F-beta: 0.2573\n",
      "Epoch 17/4000\n"
     ]
    },
    {
     "name": "stderr",
     "output_type": "stream",
     "text": [
      "Training: 100%|██████████| 1440/1440 [12:27<00:00,  1.93it/s, loss=0.362]\n",
      "Validation: 100%|██████████| 12/12 [00:04<00:00,  2.73it/s, loss=0.326]\n"
     ]
    },
    {
     "name": "stdout",
     "output_type": "stream",
     "text": [
      "Validation Dice Score\n",
      "Class 0: 0.9898, Class 1: 0.0441, Class 2: 0.0000, Class 3: 0.1325, Class 4: 0.2248, Class 5: 0.2197, Class 6: 0.2319, \n",
      "Validation F-beta Score\n",
      "Class 0: 0.9926, Class 1: 0.0341, Class 2: 0.0000, Class 3: 0.0888, Class 4: 0.2461, Class 5: 0.2120, Class 6: 0.4157, \n",
      "\n",
      "Overall Mean Dice Score: 0.1706\n",
      "Overall Mean F-beta Score: 0.1993\n",
      "\n",
      "Training Loss: 0.3885, Validation Loss: 0.4070, Validation F-beta: 0.1993\n",
      "Epoch 18/4000\n"
     ]
    },
    {
     "name": "stderr",
     "output_type": "stream",
     "text": [
      "Training: 100%|██████████| 1440/1440 [12:27<00:00,  1.93it/s, loss=0.4]  \n",
      "Validation: 100%|██████████| 12/12 [00:04<00:00,  2.85it/s, loss=0.422]\n"
     ]
    },
    {
     "name": "stdout",
     "output_type": "stream",
     "text": [
      "Validation Dice Score\n",
      "Class 0: 0.9884, Class 1: 0.2184, Class 2: 0.0126, Class 3: 0.2031, Class 4: 0.1588, Class 5: 0.2089, Class 6: 0.3122, \n",
      "Validation F-beta Score\n",
      "Class 0: 0.9903, Class 1: 0.2093, Class 2: 0.0080, Class 3: 0.2141, Class 4: 0.1329, Class 5: 0.2148, Class 6: 0.3346, \n",
      "\n",
      "Overall Mean Dice Score: 0.2203\n",
      "Overall Mean F-beta Score: 0.2212\n",
      "\n",
      "Training Loss: 0.3883, Validation Loss: 0.3922, Validation F-beta: 0.2212\n",
      "Epoch 19/4000\n"
     ]
    },
    {
     "name": "stderr",
     "output_type": "stream",
     "text": [
      "Training: 100%|██████████| 1440/1440 [12:30<00:00,  1.92it/s, loss=0.398]\n",
      "Validation: 100%|██████████| 12/12 [00:04<00:00,  2.81it/s, loss=0.437]\n"
     ]
    },
    {
     "name": "stdout",
     "output_type": "stream",
     "text": [
      "Validation Dice Score\n",
      "Class 0: 0.9863, Class 1: 0.2194, Class 2: 0.0258, Class 3: 0.2152, Class 4: 0.2703, Class 5: 0.1922, Class 6: 0.2494, \n",
      "Validation F-beta Score\n",
      "Class 0: 0.9884, Class 1: 0.2595, Class 2: 0.0186, Class 3: 0.2502, Class 4: 0.4022, Class 5: 0.1972, Class 6: 0.2332, \n",
      "\n",
      "Overall Mean Dice Score: 0.2293\n",
      "Overall Mean F-beta Score: 0.2684\n",
      "\n",
      "Training Loss: 0.3844, Validation Loss: 0.3934, Validation F-beta: 0.2684\n",
      "Epoch 20/4000\n"
     ]
    },
    {
     "name": "stderr",
     "output_type": "stream",
     "text": [
      "Training: 100%|██████████| 1440/1440 [12:29<00:00,  1.92it/s, loss=0.346]\n",
      "Validation: 100%|██████████| 12/12 [00:04<00:00,  2.92it/s, loss=0.421]\n"
     ]
    },
    {
     "name": "stdout",
     "output_type": "stream",
     "text": [
      "Validation Dice Score\n",
      "Class 0: 0.9885, Class 1: 0.1945, Class 2: 0.0568, Class 3: 0.2194, Class 4: 0.3251, Class 5: 0.2614, Class 6: 0.2700, \n",
      "Validation F-beta Score\n",
      "Class 0: 0.9851, Class 1: 0.2179, Class 2: 0.0447, Class 3: 0.2674, Class 4: 0.4012, Class 5: 0.2300, Class 6: 0.3695, \n",
      "\n",
      "Overall Mean Dice Score: 0.2541\n",
      "Overall Mean F-beta Score: 0.2972\n",
      "\n",
      "Training Loss: 0.3830, Validation Loss: 0.3790, Validation F-beta: 0.2972\n",
      "Epoch 21/4000\n"
     ]
    },
    {
     "name": "stderr",
     "output_type": "stream",
     "text": [
      "Training: 100%|██████████| 1440/1440 [12:28<00:00,  1.92it/s, loss=0.415]\n",
      "Validation: 100%|██████████| 12/12 [00:04<00:00,  2.71it/s, loss=0.357]\n"
     ]
    },
    {
     "name": "stdout",
     "output_type": "stream",
     "text": [
      "Validation Dice Score\n",
      "Class 0: 0.9847, Class 1: 0.2004, Class 2: 0.0000, Class 3: 0.2277, Class 4: 0.2870, Class 5: 0.1447, Class 6: 0.4369, \n",
      "Validation F-beta Score\n",
      "Class 0: 0.9855, Class 1: 0.2074, Class 2: 0.1667, Class 3: 0.3219, Class 4: 0.3486, Class 5: 0.1896, Class 6: 0.4982, \n",
      "\n",
      "Overall Mean Dice Score: 0.2593\n",
      "Overall Mean F-beta Score: 0.3131\n",
      "\n",
      "Training Loss: 0.3832, Validation Loss: 0.3862, Validation F-beta: 0.3131\n",
      "Epoch 22/4000\n"
     ]
    },
    {
     "name": "stderr",
     "output_type": "stream",
     "text": [
      "Training: 100%|██████████| 1440/1440 [12:28<00:00,  1.92it/s, loss=0.437]\n",
      "Validation: 100%|██████████| 12/12 [00:04<00:00,  2.83it/s, loss=0.413]\n"
     ]
    },
    {
     "name": "stdout",
     "output_type": "stream",
     "text": [
      "Validation Dice Score\n",
      "Class 0: 0.9892, Class 1: 0.2711, Class 2: 0.0378, Class 3: 0.2381, Class 4: 0.2811, Class 5: 0.2230, Class 6: 0.4845, \n",
      "Validation F-beta Score\n",
      "Class 0: 0.9877, Class 1: 0.2703, Class 2: 0.0272, Class 3: 0.2725, Class 4: 0.2981, Class 5: 0.2163, Class 6: 0.6021, \n",
      "\n",
      "Overall Mean Dice Score: 0.2996\n",
      "Overall Mean F-beta Score: 0.3319\n",
      "\n",
      "Training Loss: 0.3786, Validation Loss: 0.3584, Validation F-beta: 0.3319\n",
      "Epoch 23/4000\n"
     ]
    },
    {
     "name": "stderr",
     "output_type": "stream",
     "text": [
      "Training: 100%|██████████| 1440/1440 [12:28<00:00,  1.92it/s, loss=0.388]\n",
      "Validation: 100%|██████████| 12/12 [00:04<00:00,  2.94it/s, loss=0.351]\n"
     ]
    },
    {
     "name": "stdout",
     "output_type": "stream",
     "text": [
      "Validation Dice Score\n",
      "Class 0: 0.9863, Class 1: 0.2830, Class 2: 0.0209, Class 3: 0.2293, Class 4: 0.1448, Class 5: 0.2504, Class 6: 0.5980, \n",
      "Validation F-beta Score\n",
      "Class 0: 0.9847, Class 1: 0.2947, Class 2: 0.0126, Class 3: 0.4682, Class 4: 0.3151, Class 5: 0.2096, Class 6: 0.6169, \n",
      "\n",
      "Overall Mean Dice Score: 0.3011\n",
      "Overall Mean F-beta Score: 0.3809\n",
      "\n",
      "Training Loss: 0.3767, Validation Loss: 0.3654, Validation F-beta: 0.3809\n",
      "Epoch 24/4000\n"
     ]
    },
    {
     "name": "stderr",
     "output_type": "stream",
     "text": [
      "Training: 100%|██████████| 1440/1440 [12:28<00:00,  1.92it/s, loss=0.344]\n",
      "Validation: 100%|██████████| 12/12 [00:04<00:00,  2.86it/s, loss=0.391]\n"
     ]
    },
    {
     "name": "stdout",
     "output_type": "stream",
     "text": [
      "Validation Dice Score\n",
      "Class 0: 0.9875, Class 1: 0.2055, Class 2: 0.0647, Class 3: 0.2052, Class 4: 0.2988, Class 5: 0.3179, Class 6: 0.4087, \n",
      "Validation F-beta Score\n",
      "Class 0: 0.9828, Class 1: 0.2489, Class 2: 0.1068, Class 3: 0.3023, Class 4: 0.4673, Class 5: 0.3132, Class 6: 0.4944, \n",
      "\n",
      "Overall Mean Dice Score: 0.2872\n",
      "Overall Mean F-beta Score: 0.3652\n",
      "\n",
      "Training Loss: 0.3767, Validation Loss: 0.3728, Validation F-beta: 0.3652\n",
      "Epoch 25/4000\n"
     ]
    },
    {
     "name": "stderr",
     "output_type": "stream",
     "text": [
      "Training: 100%|██████████| 1440/1440 [12:28<00:00,  1.92it/s, loss=0.427]\n",
      "Validation: 100%|██████████| 12/12 [00:04<00:00,  2.91it/s, loss=0.402]\n"
     ]
    },
    {
     "name": "stdout",
     "output_type": "stream",
     "text": [
      "Validation Dice Score\n",
      "Class 0: 0.9909, Class 1: 0.0768, Class 2: 0.0156, Class 3: 0.2954, Class 4: 0.5677, Class 5: 0.3298, Class 6: 0.2097, \n",
      "Validation F-beta Score\n",
      "Class 0: 0.9924, Class 1: 0.0950, Class 2: 0.0097, Class 3: 0.3194, Class 4: 0.5848, Class 5: 0.2840, Class 6: 0.3746, \n",
      "\n",
      "Overall Mean Dice Score: 0.2959\n",
      "Overall Mean F-beta Score: 0.3315\n",
      "\n",
      "Training Loss: 0.3765, Validation Loss: 0.3658, Validation F-beta: 0.3315\n",
      "Epoch 26/4000\n"
     ]
    },
    {
     "name": "stderr",
     "output_type": "stream",
     "text": [
      "Training: 100%|██████████| 1440/1440 [12:28<00:00,  1.92it/s, loss=0.379]\n",
      "Validation: 100%|██████████| 12/12 [00:04<00:00,  2.85it/s, loss=0.341]\n"
     ]
    },
    {
     "name": "stdout",
     "output_type": "stream",
     "text": [
      "Validation Dice Score\n",
      "Class 0: 0.9894, Class 1: 0.0150, Class 2: 0.0001, Class 3: 0.2211, Class 4: 0.5052, Class 5: 0.1994, Class 6: 0.2505, \n",
      "Validation F-beta Score\n",
      "Class 0: 0.9909, Class 1: 0.0126, Class 2: 0.0001, Class 3: 0.2168, Class 4: 0.4675, Class 5: 0.1867, Class 6: 0.2357, \n",
      "\n",
      "Overall Mean Dice Score: 0.2383\n",
      "Overall Mean F-beta Score: 0.2239\n",
      "\n",
      "Training Loss: 0.3738, Validation Loss: 0.3856, Validation F-beta: 0.2239\n",
      "Epoch 27/4000\n"
     ]
    },
    {
     "name": "stderr",
     "output_type": "stream",
     "text": [
      "Training: 100%|██████████| 1440/1440 [12:28<00:00,  1.92it/s, loss=0.326]\n",
      "Validation: 100%|██████████| 12/12 [00:04<00:00,  2.94it/s, loss=0.464]\n"
     ]
    },
    {
     "name": "stdout",
     "output_type": "stream",
     "text": [
      "Validation Dice Score\n",
      "Class 0: 0.9853, Class 1: 0.2811, Class 2: 0.0551, Class 3: 0.0999, Class 4: 0.2137, Class 5: 0.2070, Class 6: 0.2672, \n",
      "Validation F-beta Score\n",
      "Class 0: 0.9800, Class 1: 0.2683, Class 2: 0.0600, Class 3: 0.0754, Class 4: 0.2362, Class 5: 0.2114, Class 6: 0.2838, \n",
      "\n",
      "Overall Mean Dice Score: 0.2138\n",
      "Overall Mean F-beta Score: 0.2150\n",
      "\n",
      "Training Loss: 0.3733, Validation Loss: 0.3950, Validation F-beta: 0.2150\n",
      "Epoch 28/4000\n"
     ]
    },
    {
     "name": "stderr",
     "output_type": "stream",
     "text": [
      "Training: 100%|██████████| 1440/1440 [12:27<00:00,  1.93it/s, loss=0.398]\n",
      "Validation: 100%|██████████| 12/12 [00:04<00:00,  2.90it/s, loss=0.318]\n"
     ]
    },
    {
     "name": "stdout",
     "output_type": "stream",
     "text": [
      "Validation Dice Score\n",
      "Class 0: 0.9891, Class 1: 0.1110, Class 2: 0.0000, Class 3: 0.1461, Class 4: 0.4296, Class 5: 0.1444, Class 6: 0.4969, \n",
      "Validation F-beta Score\n",
      "Class 0: 0.9891, Class 1: 0.1734, Class 2: 0.2500, Class 3: 0.2400, Class 4: 0.4785, Class 5: 0.1610, Class 6: 0.5673, \n",
      "\n",
      "Overall Mean Dice Score: 0.2656\n",
      "Overall Mean F-beta Score: 0.3240\n",
      "\n",
      "Training Loss: 0.3718, Validation Loss: 0.3745, Validation F-beta: 0.3240\n",
      "Epoch 29/4000\n"
     ]
    },
    {
     "name": "stderr",
     "output_type": "stream",
     "text": [
      "Training: 100%|██████████| 1440/1440 [12:28<00:00,  1.92it/s, loss=0.317]\n",
      "Validation: 100%|██████████| 12/12 [00:04<00:00,  2.79it/s, loss=0.401]\n"
     ]
    },
    {
     "name": "stdout",
     "output_type": "stream",
     "text": [
      "Validation Dice Score\n",
      "Class 0: 0.9912, Class 1: 0.2304, Class 2: 0.0703, Class 3: 0.1976, Class 4: 0.2217, Class 5: 0.2877, Class 6: 0.2182, \n",
      "Validation F-beta Score\n",
      "Class 0: 0.9905, Class 1: 0.3674, Class 2: 0.1375, Class 3: 0.1967, Class 4: 0.2902, Class 5: 0.3308, Class 6: 0.4595, \n",
      "\n",
      "Overall Mean Dice Score: 0.2311\n",
      "Overall Mean F-beta Score: 0.3289\n",
      "\n",
      "Training Loss: 0.3722, Validation Loss: 0.3797, Validation F-beta: 0.3289\n",
      "Epoch 30/4000\n"
     ]
    },
    {
     "name": "stderr",
     "output_type": "stream",
     "text": [
      "Training: 100%|██████████| 1440/1440 [12:28<00:00,  1.92it/s, loss=0.393]\n",
      "Validation: 100%|██████████| 12/12 [00:04<00:00,  2.92it/s, loss=0.469]\n"
     ]
    },
    {
     "name": "stdout",
     "output_type": "stream",
     "text": [
      "Validation Dice Score\n",
      "Class 0: 0.9891, Class 1: 0.2348, Class 2: 0.0118, Class 3: 0.2944, Class 4: 0.1779, Class 5: 0.3845, Class 6: 0.4728, \n",
      "Validation F-beta Score\n",
      "Class 0: 0.9932, Class 1: 0.2088, Class 2: 0.1737, Class 3: 0.2900, Class 4: 0.3984, Class 5: 0.3468, Class 6: 0.6446, \n",
      "\n",
      "Overall Mean Dice Score: 0.3129\n",
      "Overall Mean F-beta Score: 0.3777\n",
      "\n",
      "Training Loss: 0.3687, Validation Loss: 0.3581, Validation F-beta: 0.3777\n",
      "Epoch 31/4000\n"
     ]
    },
    {
     "name": "stderr",
     "output_type": "stream",
     "text": [
      "Training: 100%|██████████| 1440/1440 [12:28<00:00,  1.92it/s, loss=0.341]\n",
      "Validation: 100%|██████████| 12/12 [00:04<00:00,  2.87it/s, loss=0.299]\n"
     ]
    },
    {
     "name": "stdout",
     "output_type": "stream",
     "text": [
      "Validation Dice Score\n",
      "Class 0: 0.9902, Class 1: 0.3289, Class 2: 0.1010, Class 3: 0.1845, Class 4: 0.4183, Class 5: 0.3106, Class 6: 0.4365, \n",
      "Validation F-beta Score\n",
      "Class 0: 0.9874, Class 1: 0.3845, Class 2: 0.0824, Class 3: 0.3391, Class 4: 0.6179, Class 5: 0.3793, Class 6: 0.5703, \n",
      "\n",
      "Overall Mean Dice Score: 0.3358\n",
      "Overall Mean F-beta Score: 0.4582\n",
      "\n",
      "Training Loss: 0.3672, Validation Loss: 0.3422, Validation F-beta: 0.4582\n",
      "========================================================\n",
      "SUPER Best model saved. Loss:0.3422, Score:0.4582\n",
      "========================================================\n",
      "Epoch 32/4000\n"
     ]
    },
    {
     "name": "stderr",
     "output_type": "stream",
     "text": [
      "Training: 100%|██████████| 1440/1440 [12:32<00:00,  1.91it/s, loss=0.351]\n",
      "Validation: 100%|██████████| 12/12 [00:04<00:00,  2.82it/s, loss=0.363]\n"
     ]
    },
    {
     "name": "stdout",
     "output_type": "stream",
     "text": [
      "Validation Dice Score\n",
      "Class 0: 0.9844, Class 1: 0.2106, Class 2: 0.0881, Class 3: 0.1952, Class 4: 0.2994, Class 5: 0.1575, Class 6: 0.1195, \n",
      "Validation F-beta Score\n",
      "Class 0: 0.9797, Class 1: 0.2706, Class 2: 0.1186, Class 3: 0.2955, Class 4: 0.3937, Class 5: 0.1509, Class 6: 0.4425, \n",
      "\n",
      "Overall Mean Dice Score: 0.1964\n",
      "Overall Mean F-beta Score: 0.3106\n",
      "\n",
      "Training Loss: 0.3662, Validation Loss: 0.4012, Validation F-beta: 0.3106\n",
      "Epoch 33/4000\n"
     ]
    },
    {
     "name": "stderr",
     "output_type": "stream",
     "text": [
      "Training: 100%|██████████| 1440/1440 [12:27<00:00,  1.93it/s, loss=0.357]\n",
      "Validation: 100%|██████████| 12/12 [00:03<00:00,  3.07it/s, loss=0.395]\n"
     ]
    },
    {
     "name": "stdout",
     "output_type": "stream",
     "text": [
      "Validation Dice Score\n",
      "Class 0: 0.9882, Class 1: 0.2728, Class 2: 0.0907, Class 3: 0.1037, Class 4: 0.4647, Class 5: 0.1122, Class 6: 0.3813, \n",
      "Validation F-beta Score\n",
      "Class 0: 0.9889, Class 1: 0.3858, Class 2: 0.0685, Class 3: 0.1773, Class 4: 0.5784, Class 5: 0.0807, Class 6: 0.4267, \n",
      "\n",
      "Overall Mean Dice Score: 0.2670\n",
      "Overall Mean F-beta Score: 0.3298\n",
      "\n",
      "Training Loss: 0.3635, Validation Loss: 0.3711, Validation F-beta: 0.3298\n",
      "Epoch 34/4000\n"
     ]
    },
    {
     "name": "stderr",
     "output_type": "stream",
     "text": [
      "Training: 100%|██████████| 1440/1440 [12:29<00:00,  1.92it/s, loss=0.386]\n",
      "Validation: 100%|██████████| 12/12 [00:04<00:00,  2.91it/s, loss=0.393]\n"
     ]
    },
    {
     "name": "stdout",
     "output_type": "stream",
     "text": [
      "Validation Dice Score\n",
      "Class 0: 0.9907, Class 1: 0.1610, Class 2: 0.0558, Class 3: 0.3062, Class 4: 0.4181, Class 5: 0.4077, Class 6: 0.5029, \n",
      "Validation F-beta Score\n",
      "Class 0: 0.9882, Class 1: 0.1588, Class 2: 0.0656, Class 3: 0.3610, Class 4: 0.6166, Class 5: 0.4601, Class 6: 0.6912, \n",
      "\n",
      "Overall Mean Dice Score: 0.3592\n",
      "Overall Mean F-beta Score: 0.4575\n",
      "\n",
      "Training Loss: 0.3634, Validation Loss: 0.3365, Validation F-beta: 0.4575\n",
      "Epoch 35/4000\n"
     ]
    },
    {
     "name": "stderr",
     "output_type": "stream",
     "text": [
      "Training: 100%|██████████| 1440/1440 [12:28<00:00,  1.92it/s, loss=0.392]\n",
      "Validation: 100%|██████████| 12/12 [00:04<00:00,  2.96it/s, loss=0.418]\n"
     ]
    },
    {
     "name": "stdout",
     "output_type": "stream",
     "text": [
      "Validation Dice Score\n",
      "Class 0: 0.9896, Class 1: 0.2877, Class 2: 0.0844, Class 3: 0.1865, Class 4: 0.3890, Class 5: 0.2107, Class 6: 0.3675, \n",
      "Validation F-beta Score\n",
      "Class 0: 0.9902, Class 1: 0.3732, Class 2: 0.2261, Class 3: 0.4187, Class 4: 0.5058, Class 5: 0.3516, Class 6: 0.5863, \n",
      "\n",
      "Overall Mean Dice Score: 0.2883\n",
      "Overall Mean F-beta Score: 0.4471\n",
      "\n",
      "Training Loss: 0.3612, Validation Loss: 0.3582, Validation F-beta: 0.4471\n",
      "Epoch 36/4000\n"
     ]
    },
    {
     "name": "stderr",
     "output_type": "stream",
     "text": [
      "Training: 100%|██████████| 1440/1440 [12:28<00:00,  1.92it/s, loss=0.299]\n",
      "Validation: 100%|██████████| 12/12 [00:04<00:00,  2.82it/s, loss=0.317]\n"
     ]
    },
    {
     "name": "stdout",
     "output_type": "stream",
     "text": [
      "Validation Dice Score\n",
      "Class 0: 0.9907, Class 1: 0.3189, Class 2: 0.1240, Class 3: 0.1209, Class 4: 0.4107, Class 5: 0.3644, Class 6: 0.2979, \n",
      "Validation F-beta Score\n",
      "Class 0: 0.9914, Class 1: 0.3649, Class 2: 0.0895, Class 3: 0.1372, Class 4: 0.7012, Class 5: 0.3749, Class 6: 0.5491, \n",
      "\n",
      "Overall Mean Dice Score: 0.3025\n",
      "Overall Mean F-beta Score: 0.4254\n",
      "\n",
      "Training Loss: 0.3586, Validation Loss: 0.3521, Validation F-beta: 0.4254\n",
      "Epoch 37/4000\n"
     ]
    },
    {
     "name": "stderr",
     "output_type": "stream",
     "text": [
      "Training: 100%|██████████| 1440/1440 [12:27<00:00,  1.93it/s, loss=0.304]\n",
      "Validation: 100%|██████████| 12/12 [00:03<00:00,  3.05it/s, loss=0.377]\n"
     ]
    },
    {
     "name": "stdout",
     "output_type": "stream",
     "text": [
      "Validation Dice Score\n",
      "Class 0: 0.9840, Class 1: 0.3309, Class 2: 0.0176, Class 3: 0.1765, Class 4: 0.3303, Class 5: 0.2531, Class 6: 0.2967, \n",
      "Validation F-beta Score\n",
      "Class 0: 0.9844, Class 1: 0.3299, Class 2: 0.0109, Class 3: 0.1618, Class 4: 0.5029, Class 5: 0.2245, Class 6: 0.3761, \n",
      "\n",
      "Overall Mean Dice Score: 0.2775\n",
      "Overall Mean F-beta Score: 0.3190\n",
      "\n",
      "Training Loss: 0.3562, Validation Loss: 0.3812, Validation F-beta: 0.3190\n",
      "Epoch 38/4000\n"
     ]
    },
    {
     "name": "stderr",
     "output_type": "stream",
     "text": [
      "Training: 100%|██████████| 1440/1440 [12:29<00:00,  1.92it/s, loss=0.395]\n",
      "Validation: 100%|██████████| 12/12 [00:04<00:00,  2.95it/s, loss=0.443]\n"
     ]
    },
    {
     "name": "stdout",
     "output_type": "stream",
     "text": [
      "Validation Dice Score\n",
      "Class 0: 0.9904, Class 1: 0.2264, Class 2: 0.0760, Class 3: 0.1393, Class 4: 0.2841, Class 5: 0.3721, Class 6: 0.2982, \n",
      "Validation F-beta Score\n",
      "Class 0: 0.9918, Class 1: 0.2659, Class 2: 0.2286, Class 3: 0.2927, Class 4: 0.3776, Class 5: 0.3299, Class 6: 0.6494, \n",
      "\n",
      "Overall Mean Dice Score: 0.2640\n",
      "Overall Mean F-beta Score: 0.3831\n",
      "\n",
      "Training Loss: 0.3587, Validation Loss: 0.3657, Validation F-beta: 0.3831\n",
      "Epoch 39/4000\n"
     ]
    },
    {
     "name": "stderr",
     "output_type": "stream",
     "text": [
      "Training: 100%|██████████| 1440/1440 [12:28<00:00,  1.92it/s, loss=0.371]\n",
      "Validation: 100%|██████████| 12/12 [00:04<00:00,  2.91it/s, loss=0.392]\n"
     ]
    },
    {
     "name": "stdout",
     "output_type": "stream",
     "text": [
      "Validation Dice Score\n",
      "Class 0: 0.9898, Class 1: 0.3196, Class 2: 0.0396, Class 3: 0.2818, Class 4: 0.2973, Class 5: 0.2847, Class 6: 0.5482, \n",
      "Validation F-beta Score\n",
      "Class 0: 0.9896, Class 1: 0.3447, Class 2: 0.0508, Class 3: 0.2776, Class 4: 0.3870, Class 5: 0.2831, Class 6: 0.6318, \n",
      "\n",
      "Overall Mean Dice Score: 0.3463\n",
      "Overall Mean F-beta Score: 0.3848\n",
      "\n",
      "Training Loss: 0.3555, Validation Loss: 0.3414, Validation F-beta: 0.3848\n",
      "Epoch 40/4000\n"
     ]
    },
    {
     "name": "stderr",
     "output_type": "stream",
     "text": [
      "Training: 100%|██████████| 1440/1440 [12:28<00:00,  1.92it/s, loss=0.288]\n",
      "Validation: 100%|██████████| 12/12 [00:04<00:00,  2.85it/s, loss=0.335]\n"
     ]
    },
    {
     "name": "stdout",
     "output_type": "stream",
     "text": [
      "Validation Dice Score\n",
      "Class 0: 0.9918, Class 1: 0.4139, Class 2: 0.1908, Class 3: 0.1826, Class 4: 0.3758, Class 5: 0.3053, Class 6: 0.2032, \n",
      "Validation F-beta Score\n",
      "Class 0: 0.9922, Class 1: 0.6428, Class 2: 0.1945, Class 3: 0.1818, Class 4: 0.3419, Class 5: 0.2930, Class 6: 0.3637, \n",
      "\n",
      "Overall Mean Dice Score: 0.2962\n",
      "Overall Mean F-beta Score: 0.3646\n",
      "\n",
      "Training Loss: 0.3561, Validation Loss: 0.3487, Validation F-beta: 0.3646\n",
      "Epoch 41/4000\n"
     ]
    },
    {
     "name": "stderr",
     "output_type": "stream",
     "text": [
      "Training: 100%|██████████| 1440/1440 [12:27<00:00,  1.93it/s, loss=0.386]\n",
      "Validation: 100%|██████████| 12/12 [00:04<00:00,  2.88it/s, loss=0.393]\n"
     ]
    },
    {
     "name": "stdout",
     "output_type": "stream",
     "text": [
      "Validation Dice Score\n",
      "Class 0: 0.9906, Class 1: 0.3473, Class 2: 0.0390, Class 3: 0.1207, Class 4: 0.3252, Class 5: 0.3728, Class 6: 0.4830, \n",
      "Validation F-beta Score\n",
      "Class 0: 0.9908, Class 1: 0.4723, Class 2: 0.1968, Class 3: 0.3754, Class 4: 0.4183, Class 5: 0.4705, Class 6: 0.5795, \n",
      "\n",
      "Overall Mean Dice Score: 0.3298\n",
      "Overall Mean F-beta Score: 0.4632\n",
      "\n",
      "Training Loss: 0.3554, Validation Loss: 0.3468, Validation F-beta: 0.4632\n",
      "Epoch 42/4000\n"
     ]
    },
    {
     "name": "stderr",
     "output_type": "stream",
     "text": [
      "Training: 100%|██████████| 1440/1440 [12:29<00:00,  1.92it/s, loss=0.311]\n",
      "Validation: 100%|██████████| 12/12 [00:04<00:00,  2.91it/s, loss=0.302]\n"
     ]
    },
    {
     "name": "stdout",
     "output_type": "stream",
     "text": [
      "Validation Dice Score\n",
      "Class 0: 0.9911, Class 1: 0.4417, Class 2: 0.1118, Class 3: 0.2150, Class 4: 0.2871, Class 5: 0.3772, Class 6: 0.5919, \n",
      "Validation F-beta Score\n",
      "Class 0: 0.9933, Class 1: 0.5666, Class 2: 0.0863, Class 3: 0.2966, Class 4: 0.3283, Class 5: 0.3252, Class 6: 0.6749, \n",
      "\n",
      "Overall Mean Dice Score: 0.3826\n",
      "Overall Mean F-beta Score: 0.4383\n",
      "\n",
      "Training Loss: 0.3517, Validation Loss: 0.3216, Validation F-beta: 0.4383\n",
      "Epoch 43/4000\n"
     ]
    },
    {
     "name": "stderr",
     "output_type": "stream",
     "text": [
      "Training: 100%|██████████| 1440/1440 [12:28<00:00,  1.92it/s, loss=0.35] \n",
      "Validation: 100%|██████████| 12/12 [00:04<00:00,  2.80it/s, loss=0.388]\n"
     ]
    },
    {
     "name": "stdout",
     "output_type": "stream",
     "text": [
      "Validation Dice Score\n",
      "Class 0: 0.9892, Class 1: 0.2885, Class 2: 0.0712, Class 3: 0.1156, Class 4: 0.4924, Class 5: 0.4387, Class 6: 0.2926, \n",
      "Validation F-beta Score\n",
      "Class 0: 0.9905, Class 1: 0.5175, Class 2: 0.0491, Class 3: 0.1214, Class 4: 0.4543, Class 5: 0.4981, Class 6: 0.4761, \n",
      "\n",
      "Overall Mean Dice Score: 0.3256\n",
      "Overall Mean F-beta Score: 0.4135\n",
      "\n",
      "Training Loss: 0.3532, Validation Loss: 0.3478, Validation F-beta: 0.4135\n",
      "Epoch 44/4000\n"
     ]
    },
    {
     "name": "stderr",
     "output_type": "stream",
     "text": [
      "Training: 100%|██████████| 1440/1440 [14:41<00:00,  1.63it/s, loss=0.342]\n",
      "Validation: 100%|██████████| 12/12 [00:07<00:00,  1.59it/s, loss=0.337]\n"
     ]
    },
    {
     "name": "stdout",
     "output_type": "stream",
     "text": [
      "Validation Dice Score\n",
      "Class 0: 0.9900, Class 1: 0.2571, Class 2: 0.0756, Class 3: 0.1155, Class 4: 0.2198, Class 5: 0.2823, Class 6: 0.2766, \n",
      "Validation F-beta Score\n",
      "Class 0: 0.9925, Class 1: 0.4095, Class 2: 0.1530, Class 3: 0.1095, Class 4: 0.1840, Class 5: 0.2624, Class 6: 0.3729, \n",
      "\n",
      "Overall Mean Dice Score: 0.2303\n",
      "Overall Mean F-beta Score: 0.2676\n",
      "\n",
      "Training Loss: 0.3528, Validation Loss: 0.3818, Validation F-beta: 0.2676\n",
      "Epoch 45/4000\n"
     ]
    },
    {
     "name": "stderr",
     "output_type": "stream",
     "text": [
      "Training: 100%|██████████| 1440/1440 [20:14<00:00,  1.19it/s, loss=0.338]\n",
      "Validation: 100%|██████████| 12/12 [00:05<00:00,  2.03it/s, loss=0.337]\n"
     ]
    },
    {
     "name": "stdout",
     "output_type": "stream",
     "text": [
      "Validation Dice Score\n",
      "Class 0: 0.9896, Class 1: 0.3061, Class 2: 0.0411, Class 3: 0.3660, Class 4: 0.5135, Class 5: 0.2867, Class 6: 0.3630, \n",
      "Validation F-beta Score\n",
      "Class 0: 0.9892, Class 1: 0.3337, Class 2: 0.2000, Class 3: 0.4203, Class 4: 0.4838, Class 5: 0.2964, Class 6: 0.3927, \n",
      "\n",
      "Overall Mean Dice Score: 0.3671\n",
      "Overall Mean F-beta Score: 0.3854\n",
      "\n",
      "Training Loss: 0.3498, Validation Loss: 0.3364, Validation F-beta: 0.3854\n",
      "Epoch 46/4000\n"
     ]
    },
    {
     "name": "stderr",
     "output_type": "stream",
     "text": [
      "Training: 100%|██████████| 1440/1440 [25:03<00:00,  1.04s/it, loss=0.406]\n",
      "Validation: 100%|██████████| 12/12 [00:05<00:00,  2.22it/s, loss=0.338]\n"
     ]
    },
    {
     "name": "stdout",
     "output_type": "stream",
     "text": [
      "Validation Dice Score\n",
      "Class 0: 0.9877, Class 1: 0.2268, Class 2: 0.1343, Class 3: 0.0830, Class 4: 0.5457, Class 5: 0.2993, Class 6: 0.1444, \n",
      "Validation F-beta Score\n",
      "Class 0: 0.9858, Class 1: 0.2368, Class 2: 0.2054, Class 3: 0.1128, Class 4: 0.6743, Class 5: 0.3106, Class 6: 0.4815, \n",
      "\n",
      "Overall Mean Dice Score: 0.2598\n",
      "Overall Mean F-beta Score: 0.3632\n",
      "\n",
      "Training Loss: 0.3481, Validation Loss: 0.3691, Validation F-beta: 0.3632\n",
      "Epoch 47/4000\n"
     ]
    },
    {
     "name": "stderr",
     "output_type": "stream",
     "text": [
      "Training: 100%|██████████| 1440/1440 [22:28<00:00,  1.07it/s, loss=0.286]\n",
      "Validation: 100%|██████████| 12/12 [00:05<00:00,  2.32it/s, loss=0.472]\n"
     ]
    },
    {
     "name": "stdout",
     "output_type": "stream",
     "text": [
      "Validation Dice Score\n",
      "Class 0: 0.9907, Class 1: 0.5077, Class 2: 0.1697, Class 3: 0.2059, Class 4: 0.1517, Class 5: 0.2331, Class 6: 0.4575, \n",
      "Validation F-beta Score\n",
      "Class 0: 0.9903, Class 1: 0.5169, Class 2: 0.1476, Class 3: 0.2008, Class 4: 0.1503, Class 5: 0.2301, Class 6: 0.4541, \n",
      "\n",
      "Overall Mean Dice Score: 0.3112\n",
      "Overall Mean F-beta Score: 0.3104\n",
      "\n",
      "Training Loss: 0.3487, Validation Loss: 0.3475, Validation F-beta: 0.3104\n",
      "Epoch 48/4000\n"
     ]
    },
    {
     "name": "stderr",
     "output_type": "stream",
     "text": [
      "Training: 100%|██████████| 1440/1440 [22:29<00:00,  1.07it/s, loss=0.371]\n",
      "Validation: 100%|██████████| 12/12 [00:05<00:00,  2.34it/s, loss=0.355]\n"
     ]
    },
    {
     "name": "stdout",
     "output_type": "stream",
     "text": [
      "Validation Dice Score\n",
      "Class 0: 0.9895, Class 1: 0.4021, Class 2: 0.0525, Class 3: 0.2485, Class 4: 0.3788, Class 5: 0.3281, Class 6: 0.2859, \n",
      "Validation F-beta Score\n",
      "Class 0: 0.9932, Class 1: 0.5754, Class 2: 0.3833, Class 3: 0.3240, Class 4: 0.4985, Class 5: 0.2689, Class 6: 0.5535, \n",
      "\n",
      "Overall Mean Dice Score: 0.3287\n",
      "Overall Mean F-beta Score: 0.4441\n",
      "\n",
      "Training Loss: 0.3490, Validation Loss: 0.3524, Validation F-beta: 0.4441\n",
      "Epoch 49/4000\n"
     ]
    },
    {
     "name": "stderr",
     "output_type": "stream",
     "text": [
      "Training: 100%|██████████| 1440/1440 [22:28<00:00,  1.07it/s, loss=0.361]\n",
      "Validation: 100%|██████████| 12/12 [00:05<00:00,  2.32it/s, loss=0.345]\n"
     ]
    },
    {
     "name": "stdout",
     "output_type": "stream",
     "text": [
      "Validation Dice Score\n",
      "Class 0: 0.9906, Class 1: 0.3165, Class 2: 0.0656, Class 3: 0.1660, Class 4: 0.4336, Class 5: 0.3620, Class 6: 0.3665, \n",
      "Validation F-beta Score\n",
      "Class 0: 0.9910, Class 1: 0.4941, Class 2: 0.0480, Class 3: 0.3048, Class 4: 0.5631, Class 5: 0.3770, Class 6: 0.3942, \n",
      "\n",
      "Overall Mean Dice Score: 0.3289\n",
      "Overall Mean F-beta Score: 0.4266\n",
      "\n",
      "Training Loss: 0.3456, Validation Loss: 0.3459, Validation F-beta: 0.4266\n",
      "Epoch 50/4000\n"
     ]
    },
    {
     "name": "stderr",
     "output_type": "stream",
     "text": [
      "Training: 100%|██████████| 1440/1440 [22:31<00:00,  1.07it/s, loss=0.395]\n",
      "Validation: 100%|██████████| 12/12 [00:05<00:00,  2.33it/s, loss=0.329]\n"
     ]
    },
    {
     "name": "stdout",
     "output_type": "stream",
     "text": [
      "Validation Dice Score\n",
      "Class 0: 0.9903, Class 1: 0.2710, Class 2: 0.1499, Class 3: 0.1633, Class 4: 0.5166, Class 5: 0.2061, Class 6: 0.3613, \n",
      "Validation F-beta Score\n",
      "Class 0: 0.9914, Class 1: 0.3767, Class 2: 0.2023, Class 3: 0.1309, Class 4: 0.5818, Class 5: 0.2367, Class 6: 0.4387, \n",
      "\n",
      "Overall Mean Dice Score: 0.3037\n",
      "Overall Mean F-beta Score: 0.3529\n",
      "\n",
      "Training Loss: 0.3454, Validation Loss: 0.3480, Validation F-beta: 0.3529\n",
      "Epoch 51/4000\n"
     ]
    },
    {
     "name": "stderr",
     "output_type": "stream",
     "text": [
      "Training: 100%|██████████| 1440/1440 [22:29<00:00,  1.07it/s, loss=0.349]\n",
      "Validation: 100%|██████████| 12/12 [00:05<00:00,  2.29it/s, loss=0.418]\n"
     ]
    },
    {
     "name": "stdout",
     "output_type": "stream",
     "text": [
      "Validation Dice Score\n",
      "Class 0: 0.9884, Class 1: 0.1656, Class 2: 0.0953, Class 3: 0.2044, Class 4: 0.4476, Class 5: 0.3766, Class 6: 0.4425, \n",
      "Validation F-beta Score\n",
      "Class 0: 0.9890, Class 1: 0.5655, Class 2: 0.1276, Class 3: 0.3253, Class 4: 0.4207, Class 5: 0.4853, Class 6: 0.7656, \n",
      "\n",
      "Overall Mean Dice Score: 0.3274\n",
      "Overall Mean F-beta Score: 0.5125\n",
      "\n",
      "Training Loss: 0.3438, Validation Loss: 0.3443, Validation F-beta: 0.5125\n",
      "Epoch 52/4000\n"
     ]
    },
    {
     "name": "stderr",
     "output_type": "stream",
     "text": [
      "Training: 100%|██████████| 1440/1440 [22:31<00:00,  1.07it/s, loss=0.345]\n",
      "Validation: 100%|██████████| 12/12 [00:05<00:00,  2.28it/s, loss=0.271]\n"
     ]
    },
    {
     "name": "stdout",
     "output_type": "stream",
     "text": [
      "Validation Dice Score\n",
      "Class 0: 0.9865, Class 1: 0.2156, Class 2: 0.1527, Class 3: 0.2260, Class 4: 0.2937, Class 5: 0.2148, Class 6: 0.3614, \n",
      "Validation F-beta Score\n",
      "Class 0: 0.9912, Class 1: 0.3799, Class 2: 0.1694, Class 3: 0.1981, Class 4: 0.3388, Class 5: 0.1762, Class 6: 0.5988, \n",
      "\n",
      "Overall Mean Dice Score: 0.2623\n",
      "Overall Mean F-beta Score: 0.3384\n",
      "\n",
      "Training Loss: 0.3436, Validation Loss: 0.3740, Validation F-beta: 0.3384\n",
      "Epoch 53/4000\n"
     ]
    },
    {
     "name": "stderr",
     "output_type": "stream",
     "text": [
      "Training: 100%|██████████| 1440/1440 [22:35<00:00,  1.06it/s, loss=0.352]\n",
      "Validation: 100%|██████████| 12/12 [00:05<00:00,  2.23it/s, loss=0.271]\n"
     ]
    },
    {
     "name": "stdout",
     "output_type": "stream",
     "text": [
      "Validation Dice Score\n",
      "Class 0: 0.9911, Class 1: 0.3703, Class 2: 0.0211, Class 3: 0.0826, Class 4: 0.4294, Class 5: 0.2811, Class 6: 0.2929, \n",
      "Validation F-beta Score\n",
      "Class 0: 0.9916, Class 1: 0.3709, Class 2: 0.4295, Class 3: 0.3157, Class 4: 0.4262, Class 5: 0.2916, Class 6: 0.3874, \n",
      "\n",
      "Overall Mean Dice Score: 0.2912\n",
      "Overall Mean F-beta Score: 0.3583\n",
      "\n",
      "Training Loss: 0.3432, Validation Loss: 0.3578, Validation F-beta: 0.3583\n",
      "Epoch 54/4000\n"
     ]
    },
    {
     "name": "stderr",
     "output_type": "stream",
     "text": [
      "Training: 100%|██████████| 1440/1440 [24:17<00:00,  1.01s/it, loss=0.34] \n",
      "Validation: 100%|██████████| 12/12 [00:05<00:00,  2.35it/s, loss=0.386]\n"
     ]
    },
    {
     "name": "stdout",
     "output_type": "stream",
     "text": [
      "Validation Dice Score\n",
      "Class 0: 0.9865, Class 1: 0.1698, Class 2: 0.0162, Class 3: 0.0944, Class 4: 0.4930, Class 5: 0.3552, Class 6: 0.3821, \n",
      "Validation F-beta Score\n",
      "Class 0: 0.9842, Class 1: 0.4946, Class 2: 0.0311, Class 3: 0.3206, Class 4: 0.5073, Class 5: 0.5502, Class 6: 0.5620, \n",
      "\n",
      "Overall Mean Dice Score: 0.2989\n",
      "Overall Mean F-beta Score: 0.4869\n",
      "\n",
      "Training Loss: 0.3421, Validation Loss: 0.3644, Validation F-beta: 0.4869\n",
      "Epoch 55/4000\n"
     ]
    },
    {
     "name": "stderr",
     "output_type": "stream",
     "text": [
      "Training: 100%|██████████| 1440/1440 [29:48<00:00,  1.24s/it, loss=0.337]\n",
      "Validation: 100%|██████████| 12/12 [00:05<00:00,  2.39it/s, loss=0.373]\n"
     ]
    },
    {
     "name": "stdout",
     "output_type": "stream",
     "text": [
      "Validation Dice Score\n",
      "Class 0: 0.9918, Class 1: 0.3569, Class 2: 0.0444, Class 3: 0.1805, Class 4: 0.2563, Class 5: 0.4468, Class 6: 0.2945, \n",
      "Validation F-beta Score\n",
      "Class 0: 0.9936, Class 1: 0.5916, Class 2: 0.0294, Class 3: 0.2074, Class 4: 0.6248, Class 5: 0.4496, Class 6: 0.5474, \n",
      "\n",
      "Overall Mean Dice Score: 0.3070\n",
      "Overall Mean F-beta Score: 0.4842\n",
      "\n",
      "Training Loss: 0.3411, Validation Loss: 0.3505, Validation F-beta: 0.4842\n",
      "Epoch 56/4000\n"
     ]
    },
    {
     "name": "stderr",
     "output_type": "stream",
     "text": [
      "Training:  66%|██████▋   | 956/1440 [19:36<10:28,  1.30s/it, loss=0.271]"
     ]
    }
   ],
   "source": [
    "train_model(\n",
    "    model=model,\n",
    "    train_loader=train_loader,\n",
    "    val_loader=val_loader,\n",
    "    criterion=criterion,\n",
    "    optimizer=optimizer,\n",
    "    num_epochs=num_epochs,\n",
    "    patience=10,\n",
    "    device=device,\n",
    "    start_epoch=start_epoch,\n",
    "    best_val_loss=best_val_loss,\n",
    "    best_val_fbeta_score=best_val_fbeta_score,\n",
    "    calculate_dice_interval=1,\n",
    "    accumulation_steps = accumulation_steps\n",
    "    ) \n"
   ]
  },
  {
   "cell_type": "code",
   "execution_count": 12,
   "metadata": {},
   "outputs": [
    {
     "ename": "SyntaxError",
     "evalue": "invalid syntax (879943805.py, line 1)",
     "output_type": "error",
     "traceback": [
      "\u001b[1;36m  Cell \u001b[1;32mIn[12], line 1\u001b[1;36m\u001b[0m\n\u001b[1;33m    if:\u001b[0m\n\u001b[1;37m      ^\u001b[0m\n\u001b[1;31mSyntaxError\u001b[0m\u001b[1;31m:\u001b[0m invalid syntax\n"
     ]
    }
   ],
   "source": [
    "if:"
   ]
  },
  {
   "cell_type": "markdown",
   "metadata": {},
   "source": [
    "# VAl"
   ]
  },
  {
   "cell_type": "code",
   "execution_count": null,
   "metadata": {},
   "outputs": [
    {
     "data": {
      "text/html": [
       "Finishing last run (ID:fs6utwyo) before initializing another..."
      ],
      "text/plain": [
       "<IPython.core.display.HTML object>"
      ]
     },
     "metadata": {},
     "output_type": "display_data"
    },
    {
     "data": {
      "application/vnd.jupyter.widget-view+json": {
       "model_id": "29cc3ae761af43baae5aca60b5d2e7f4",
       "version_major": 2,
       "version_minor": 0
      },
      "text/plain": [
       "VBox(children=(Label(value='0.009 MB of 0.009 MB uploaded\\r'), FloatProgress(value=1.0, max=1.0)))"
      ]
     },
     "metadata": {},
     "output_type": "display_data"
    },
    {
     "data": {
      "text/html": [
       "<style>\n",
       "    table.wandb td:nth-child(1) { padding: 0 10px; text-align: left ; width: auto;} td:nth-child(2) {text-align: left ; width: 100%}\n",
       "    .wandb-row { display: flex; flex-direction: row; flex-wrap: wrap; justify-content: flex-start; width: 100% }\n",
       "    .wandb-col { display: flex; flex-direction: column; flex-basis: 100%; flex: 1; padding: 10px; }\n",
       "    </style>\n",
       "<div class=\"wandb-row\"><div class=\"wandb-col\"><h3>Run history:</h3><br/><table class=\"wandb\"><tr><td>class_0_dice_score</td><td>▁</td></tr><tr><td>class_0_f_beta_score</td><td>▁</td></tr><tr><td>class_1_dice_score</td><td>▁</td></tr><tr><td>class_1_f_beta_score</td><td>▁</td></tr><tr><td>class_2_dice_score</td><td>▁</td></tr><tr><td>class_2_f_beta_score</td><td>▁</td></tr><tr><td>class_3_dice_score</td><td>▁</td></tr><tr><td>class_3_f_beta_score</td><td>▁</td></tr><tr><td>class_4_dice_score</td><td>▁</td></tr><tr><td>class_4_f_beta_score</td><td>▁</td></tr><tr><td>class_5_dice_score</td><td>▁</td></tr><tr><td>class_5_f_beta_score</td><td>▁</td></tr><tr><td>class_6_dice_score</td><td>▁</td></tr><tr><td>class_6_f_beta_score</td><td>▁</td></tr><tr><td>epoch</td><td>▁▁▁▁▁▁▁▁▁▁▁▁▁▁▁▁</td></tr><tr><td>overall_mean_dice_score</td><td>▁</td></tr><tr><td>overall_mean_f_beta_score</td><td>▁</td></tr><tr><td>val_epoch_loss</td><td>▁</td></tr></table><br/></div><div class=\"wandb-col\"><h3>Run summary:</h3><br/><table class=\"wandb\"><tr><td>class_0_dice_score</td><td>0.65703</td></tr><tr><td>class_0_f_beta_score</td><td>0.50748</td></tr><tr><td>class_1_dice_score</td><td>0.53332</td></tr><tr><td>class_1_f_beta_score</td><td>0.64703</td></tr><tr><td>class_2_dice_score</td><td>0.00286</td></tr><tr><td>class_2_f_beta_score</td><td>0.02334</td></tr><tr><td>class_3_dice_score</td><td>0.23703</td></tr><tr><td>class_3_f_beta_score</td><td>0.23033</td></tr><tr><td>class_4_dice_score</td><td>0.65487</td></tr><tr><td>class_4_f_beta_score</td><td>0.62525</td></tr><tr><td>class_5_dice_score</td><td>0.47899</td></tr><tr><td>class_5_f_beta_score</td><td>0.51448</td></tr><tr><td>class_6_dice_score</td><td>0.42545</td></tr><tr><td>class_6_f_beta_score</td><td>0.47197</td></tr><tr><td>epoch</td><td>1</td></tr><tr><td>overall_mean_dice_score</td><td>0.42708</td></tr><tr><td>overall_mean_f_beta_score</td><td>0.43141</td></tr><tr><td>val_epoch_loss</td><td>0.7152</td></tr></table><br/></div></div>"
      ],
      "text/plain": [
       "<IPython.core.display.HTML object>"
      ]
     },
     "metadata": {},
     "output_type": "display_data"
    },
    {
     "data": {
      "text/html": [
       " View run <strong style=\"color:#cdcd00\">SwinUNETR96_96_lr0.001_lambda0.52_batch2</strong> at: <a href='https://wandb.ai/waooang/czii_SwinUnetR_val/runs/fs6utwyo' target=\"_blank\">https://wandb.ai/waooang/czii_SwinUnetR_val/runs/fs6utwyo</a><br/> View project at: <a href='https://wandb.ai/waooang/czii_SwinUnetR_val' target=\"_blank\">https://wandb.ai/waooang/czii_SwinUnetR_val</a><br/>Synced 4 W&B file(s), 0 media file(s), 3 artifact file(s) and 0 other file(s)"
      ],
      "text/plain": [
       "<IPython.core.display.HTML object>"
      ]
     },
     "metadata": {},
     "output_type": "display_data"
    },
    {
     "data": {
      "text/html": [
       "Find logs at: <code>.\\wandb\\run-20241219_200219-fs6utwyo\\logs</code>"
      ],
      "text/plain": [
       "<IPython.core.display.HTML object>"
      ]
     },
     "metadata": {},
     "output_type": "display_data"
    },
    {
     "data": {
      "text/html": [
       "Successfully finished last run (ID:fs6utwyo). Initializing new run:<br/>"
      ],
      "text/plain": [
       "<IPython.core.display.HTML object>"
      ]
     },
     "metadata": {},
     "output_type": "display_data"
    },
    {
     "data": {
      "text/html": [
       "Tracking run with wandb version 0.18.3"
      ],
      "text/plain": [
       "<IPython.core.display.HTML object>"
      ]
     },
     "metadata": {},
     "output_type": "display_data"
    },
    {
     "data": {
      "text/html": [
       "Run data is saved locally in <code>e:\\Workspace\\czll\\wandb\\run-20241219_200454-121l7bn3</code>"
      ],
      "text/plain": [
       "<IPython.core.display.HTML object>"
      ]
     },
     "metadata": {},
     "output_type": "display_data"
    },
    {
     "data": {
      "text/html": [
       "Syncing run <strong><a href='https://wandb.ai/waooang/czii_SwinUnetR_val/runs/121l7bn3' target=\"_blank\">SwinUNETR96_96_lr0.001_lambda0.52_batch2</a></strong> to <a href='https://wandb.ai/waooang/czii_SwinUnetR_val' target=\"_blank\">Weights & Biases</a> (<a href='https://wandb.me/run' target=\"_blank\">docs</a>)<br/>"
      ],
      "text/plain": [
       "<IPython.core.display.HTML object>"
      ]
     },
     "metadata": {},
     "output_type": "display_data"
    },
    {
     "data": {
      "text/html": [
       " View project at <a href='https://wandb.ai/waooang/czii_SwinUnetR_val' target=\"_blank\">https://wandb.ai/waooang/czii_SwinUnetR_val</a>"
      ],
      "text/plain": [
       "<IPython.core.display.HTML object>"
      ]
     },
     "metadata": {},
     "output_type": "display_data"
    },
    {
     "data": {
      "text/html": [
       " View run at <a href='https://wandb.ai/waooang/czii_SwinUnetR_val/runs/121l7bn3' target=\"_blank\">https://wandb.ai/waooang/czii_SwinUnetR_val/runs/121l7bn3</a>"
      ],
      "text/plain": [
       "<IPython.core.display.HTML object>"
      ]
     },
     "metadata": {},
     "output_type": "display_data"
    },
    {
     "name": "stderr",
     "output_type": "stream",
     "text": [
      "Loading dataset: 100%|██████████| 4/4 [00:06<00:00,  1.58s/it]\n",
      "C:\\Users\\Seungwoo\\AppData\\Local\\Temp\\ipykernel_21000\\1177025787.py:95: FutureWarning: You are using `torch.load` with `weights_only=False` (the current default value), which uses the default pickle module implicitly. It is possible to construct malicious pickle data which will execute arbitrary code during unpickling (See https://github.com/pytorch/pytorch/blob/main/SECURITY.md#untrusted-models for more details). In a future release, the default value for `weights_only` will be flipped to `True`. This limits the functions that could be executed during unpickling. Arbitrary objects will no longer be allowed to be loaded via this mode unless they are explicitly allowlisted by the user via `torch.serialization.add_safe_globals`. We recommend you start setting `weights_only=True` for any use case where you don't have full control of the loaded file. Please open an issue on GitHub for any issues related to this experimental feature.\n",
      "  checkpoint = torch.load(pretrain_path, map_location=device)\n",
      "Validation: 100%|██████████| 4/4 [00:01<00:00,  2.38it/s, loss=0.865]"
     ]
    },
    {
     "name": "stdout",
     "output_type": "stream",
     "text": [
      "Validation Dice Score\n",
      "Class 0: 0.6570, Class 1: 0.5333, Class 2: 0.0029, Class 3: 0.2370, \n",
      "Class 4: 0.6549, Class 5: 0.4790, Class 6: 0.4255, \n",
      "Validation F-beta Score\n",
      "Class 0: 0.5075, Class 1: 0.6470, Class 2: 0.0233, Class 3: 0.2303, \n",
      "Class 4: 0.6252, Class 5: 0.5145, Class 6: 0.4720, \n",
      "Overall Mean Dice Score: 0.4659\n",
      "Overall Mean F-beta Score: 0.4978\n",
      "\n"
     ]
    },
    {
     "name": "stderr",
     "output_type": "stream",
     "text": [
      "\n"
     ]
    }
   ],
   "source": [
    "from monai.data import DataLoader, Dataset, CacheDataset\n",
    "from monai.transforms import (\n",
    "    Compose, LoadImaged, EnsureChannelFirstd, NormalizeIntensityd,\n",
    "    Orientationd, CropForegroundd, GaussianSmoothd, ScaleIntensityd,\n",
    "    RandSpatialCropd, RandRotate90d, RandFlipd, RandGaussianNoised,\n",
    "    ToTensord, RandCropByLabelClassesd\n",
    ")\n",
    "from monai.metrics import DiceMetric\n",
    "from monai.networks.nets import UNETR, SwinUNETR\n",
    "from monai.losses import TverskyLoss\n",
    "import torch\n",
    "import numpy as np\n",
    "from tqdm import tqdm\n",
    "import wandb\n",
    "from src.dataset.dataset import make_val_dataloader\n",
    "\n",
    "val_img_dir = \"./datasets/val/images\"\n",
    "val_label_dir = \"./datasets/val/labels\"\n",
    "img_depth = 96\n",
    "img_size = 96  # Match your patch size\n",
    "n_classes = 7\n",
    "batch_size = 2 # 13.8GB GPU memory required for 128x128 img size\n",
    "num_samples = batch_size # 한 이미지에서 뽑을 샘플 수\n",
    "loader_batch = 1\n",
    "lamda = 0.52\n",
    "\n",
    "wandb.init(\n",
    "    project='czii_SwinUnetR_val',  # 프로젝트 이름 설정\n",
    "    name='SwinUNETR96_96_lr0.001_lambda0.52_batch2',         # 실행(run) 이름 설정\n",
    "    config={\n",
    "        'learning_rate': 0.001,\n",
    "        'batch_size': batch_size,\n",
    "        'lambda': lamda,\n",
    "        'img_size': img_size,\n",
    "        'device': 'cuda',\n",
    "        \"checkpoint_dir\": \"./model_checkpoints/SwinUNETR96_96_lr0.001_lambda0.52_batch2\",\n",
    "        \n",
    "    }\n",
    ")\n",
    "\n",
    "non_random_transforms = Compose([\n",
    "    EnsureChannelFirstd(keys=[\"image\", \"label\"], channel_dim=\"no_channel\"),\n",
    "    NormalizeIntensityd(keys=\"image\"),\n",
    "    Orientationd(keys=[\"image\", \"label\"], axcodes=\"RAS\"),\n",
    "    GaussianSmoothd(\n",
    "        keys=[\"image\"],      # 변환을 적용할 키\n",
    "        sigma=[1.0, 1.0, 1.0]  # 각 축(x, y, z)의 시그마 값\n",
    "        ),\n",
    "])\n",
    "random_transforms = Compose([\n",
    "    RandCropByLabelClassesd(\n",
    "        keys=[\"image\", \"label\"],\n",
    "        label_key=\"label\",\n",
    "        spatial_size=[img_depth, img_size, img_size],\n",
    "        num_classes=n_classes,\n",
    "        num_samples=num_samples, \n",
    "        ratios=ratios_list,\n",
    "    ),\n",
    "    RandRotate90d(keys=[\"image\", \"label\"], prob=0.5, spatial_axes=[1, 2]),\n",
    "    RandFlipd(keys=[\"image\", \"label\"], prob=0.5, spatial_axis=0),\n",
    "])\n",
    "\n",
    "val_loader = make_val_dataloader(\n",
    "    val_img_dir, \n",
    "    val_label_dir, \n",
    "    non_random_transforms = non_random_transforms, \n",
    "    random_transforms = random_transforms, \n",
    "    batch_size = loader_batch,\n",
    "    num_workers=0\n",
    ")\n",
    "criterion = TverskyLoss(\n",
    "    alpha= 1 - lamda,  # FP에 대한 가중치\n",
    "    beta=lamda,       # FN에 대한 가중치\n",
    "    include_background=False,  # 배경 클래스 제외\n",
    "    softmax=True\n",
    ")\n",
    "    \n",
    "    \n",
    "from monai.metrics import DiceMetric\n",
    "\n",
    "img_size = 96\n",
    "img_depth = img_size\n",
    "n_classes = 7 \n",
    "\n",
    "device = torch.device(\"cuda\" if torch.cuda.is_available() else \"cpu\")\n",
    "pretrain_path = \"./model_checkpoints/SwinUNETR96_96_lr0.001_lambda0.52_batch2/best_model.pt\"\n",
    "model = SwinUNETR(\n",
    "    img_size=(img_depth, img_size, img_size),\n",
    "    in_channels=1,\n",
    "    out_channels=n_classes,\n",
    "    feature_size=48,\n",
    "    use_checkpoint=True,\n",
    ").to(device)\n",
    "# Pretrained weights 불러오기\n",
    "checkpoint = torch.load(pretrain_path, map_location=device)\n",
    "model.load_state_dict(checkpoint['model_state_dict'])\n",
    "\n",
    "val_loss, overall_mean_fbeta_score = validate_one_epoch(\n",
    "    model=model, \n",
    "    val_loader=val_loader, \n",
    "    criterion=criterion, \n",
    "    device=device, \n",
    "    epoch=0, \n",
    "    calculate_dice_interval=1\n",
    ")"
   ]
  },
  {
   "cell_type": "markdown",
   "metadata": {},
   "source": [
    "# Inference"
   ]
  },
  {
   "cell_type": "code",
   "execution_count": null,
   "metadata": {},
   "outputs": [],
   "source": [
    "from src.dataset.preprocessing import Preprocessor"
   ]
  },
  {
   "cell_type": "code",
   "execution_count": null,
   "metadata": {},
   "outputs": [
    {
     "name": "stdout",
     "output_type": "stream",
     "text": [
      "Done.\n"
     ]
    }
   ],
   "source": [
    "from monai.inferers import sliding_window_inference\n",
    "from monai.transforms import Compose, EnsureChannelFirstd, NormalizeIntensityd, Orientationd, GaussianSmoothd\n",
    "from monai.data import DataLoader, Dataset, CacheDataset\n",
    "from monai.networks.nets import SwinUNETR\n",
    "from pathlib import Path\n",
    "import numpy as np\n",
    "import copick\n",
    "\n",
    "import torch\n",
    "print(\"Done.\")"
   ]
  },
  {
   "cell_type": "code",
   "execution_count": null,
   "metadata": {},
   "outputs": [
    {
     "name": "stdout",
     "output_type": "stream",
     "text": [
      "Config file written to ./kaggle/working/copick.config\n",
      "file length: 7\n"
     ]
    }
   ],
   "source": [
    "config_blob = \"\"\"{\n",
    "    \"name\": \"czii_cryoet_mlchallenge_2024\",\n",
    "    \"description\": \"2024 CZII CryoET ML Challenge training data.\",\n",
    "    \"version\": \"1.0.0\",\n",
    "\n",
    "    \"pickable_objects\": [\n",
    "        {\n",
    "            \"name\": \"apo-ferritin\",\n",
    "            \"is_particle\": true,\n",
    "            \"pdb_id\": \"4V1W\",\n",
    "            \"label\": 1,\n",
    "            \"color\": [  0, 117, 220, 128],\n",
    "            \"radius\": 60,\n",
    "            \"map_threshold\": 0.0418\n",
    "        },\n",
    "        {\n",
    "          \"name\" : \"beta-amylase\",\n",
    "            \"is_particle\": true,\n",
    "            \"pdb_id\": \"8ZRZ\",\n",
    "            \"label\": 2,\n",
    "            \"color\": [255, 255, 255, 128],\n",
    "            \"radius\": 90,\n",
    "            \"map_threshold\": 0.0578  \n",
    "        },\n",
    "        {\n",
    "            \"name\": \"beta-galactosidase\",\n",
    "            \"is_particle\": true,\n",
    "            \"pdb_id\": \"6X1Q\",\n",
    "            \"label\": 3,\n",
    "            \"color\": [ 76,   0,  92, 128],\n",
    "            \"radius\": 90,\n",
    "            \"map_threshold\": 0.0578\n",
    "        },\n",
    "        {\n",
    "            \"name\": \"ribosome\",\n",
    "            \"is_particle\": true,\n",
    "            \"pdb_id\": \"6EK0\",\n",
    "            \"label\": 4,\n",
    "            \"color\": [  0,  92,  49, 128],\n",
    "            \"radius\": 150,\n",
    "            \"map_threshold\": 0.0374\n",
    "        },\n",
    "        {\n",
    "            \"name\": \"thyroglobulin\",\n",
    "            \"is_particle\": true,\n",
    "            \"pdb_id\": \"6SCJ\",\n",
    "            \"label\": 5,\n",
    "            \"color\": [ 43, 206,  72, 128],\n",
    "            \"radius\": 130,\n",
    "            \"map_threshold\": 0.0278\n",
    "        },\n",
    "        {\n",
    "            \"name\": \"virus-like-particle\",\n",
    "            \"is_particle\": true,\n",
    "            \"label\": 6,\n",
    "            \"color\": [255, 204, 153, 128],\n",
    "            \"radius\": 135,\n",
    "            \"map_threshold\": 0.201\n",
    "        },\n",
    "        {\n",
    "            \"name\": \"membrane\",\n",
    "            \"is_particle\": false,\n",
    "            \"label\": 8,\n",
    "            \"color\": [100, 100, 100, 128]\n",
    "        },\n",
    "        {\n",
    "            \"name\": \"background\",\n",
    "            \"is_particle\": false,\n",
    "            \"label\": 9,\n",
    "            \"color\": [10, 150, 200, 128]\n",
    "        }\n",
    "    ],\n",
    "\n",
    "    \"overlay_root\": \"./kaggle/working/overlay\",\n",
    "\n",
    "    \"overlay_fs_args\": {\n",
    "        \"auto_mkdir\": true\n",
    "    },\n",
    "\n",
    "    \"static_root\": \"./kaggle/input/czii-cryo-et-object-identification/test/static\"\n",
    "}\"\"\"\n",
    "\n",
    "copick_config_path = \"./kaggle/working/copick.config\"\n",
    "preprocessor = Preprocessor(config_blob,copick_config_path=copick_config_path)\n",
    "non_random_transforms = Compose([\n",
    "    EnsureChannelFirstd(keys=[\"image\"], channel_dim=\"no_channel\"),\n",
    "    NormalizeIntensityd(keys=\"image\"),\n",
    "    Orientationd(keys=[\"image\"], axcodes=\"RAS\"),\n",
    "    GaussianSmoothd(\n",
    "        keys=[\"image\"],      # 변환을 적용할 키\n",
    "        sigma=[1.0, 1.0, 1.0]  # 각 축(x, y, z)의 시그마 값\n",
    "        ),\n",
    "    ])"
   ]
  },
  {
   "cell_type": "code",
   "execution_count": null,
   "metadata": {},
   "outputs": [
    {
     "name": "stderr",
     "output_type": "stream",
     "text": [
      "c:\\ProgramData\\anaconda3\\envs\\ship\\Lib\\site-packages\\monai\\utils\\deprecate_utils.py:221: FutureWarning: monai.networks.nets.swin_unetr SwinUNETR.__init__:img_size: Argument `img_size` has been deprecated since version 1.3. It will be removed in version 1.5. The img_size argument is not required anymore and checks on the input size are run during forward().\n",
      "  warn_deprecated(argname, msg, warning_category)\n",
      "C:\\Users\\Seungwoo\\AppData\\Local\\Temp\\ipykernel_6248\\2937359115.py:15: FutureWarning: You are using `torch.load` with `weights_only=False` (the current default value), which uses the default pickle module implicitly. It is possible to construct malicious pickle data which will execute arbitrary code during unpickling (See https://github.com/pytorch/pytorch/blob/main/SECURITY.md#untrusted-models for more details). In a future release, the default value for `weights_only` will be flipped to `True`. This limits the functions that could be executed during unpickling. Arbitrary objects will no longer be allowed to be loaded via this mode unless they are explicitly allowlisted by the user via `torch.serialization.add_safe_globals`. We recommend you start setting `weights_only=True` for any use case where you don't have full control of the loaded file. Please open an issue on GitHub for any issues related to this experimental feature.\n",
      "  checkpoint = torch.load(pretrain_path, map_location=device)\n"
     ]
    },
    {
     "data": {
      "text/plain": [
       "<All keys matched successfully>"
      ]
     },
     "execution_count": 15,
     "metadata": {},
     "output_type": "execute_result"
    }
   ],
   "source": [
    "img_size = 96\n",
    "img_depth = img_size\n",
    "n_classes = 7 \n",
    "\n",
    "device = torch.device(\"cuda\" if torch.cuda.is_available() else \"cpu\")\n",
    "pretrain_path = \"./model_checkpoints/SwinUNETR96_96_lr0.001_lambda0.52_batch2/best_model.pt\"\n",
    "model = SwinUNETR(\n",
    "    img_size=(img_depth, img_size, img_size),\n",
    "    in_channels=1,\n",
    "    out_channels=n_classes,\n",
    "    feature_size=48,\n",
    "    use_checkpoint=True,\n",
    ").to(device)\n",
    "# Pretrained weights 불러오기\n",
    "checkpoint = torch.load(pretrain_path, map_location=device)\n",
    "model.load_state_dict(checkpoint['model_state_dict'])\n"
   ]
  },
  {
   "cell_type": "code",
   "execution_count": null,
   "metadata": {},
   "outputs": [
    {
     "name": "stderr",
     "output_type": "stream",
     "text": [
      "Validation:   0%|          | 0/4 [00:03<?, ?it/s, loss=0.764]\n"
     ]
    },
    {
     "ename": "ZeroDivisionError",
     "evalue": "integer modulo by zero",
     "output_type": "error",
     "traceback": [
      "\u001b[1;31m---------------------------------------------------------------------------\u001b[0m",
      "\u001b[1;31mZeroDivisionError\u001b[0m                         Traceback (most recent call last)",
      "Cell \u001b[1;32mIn[16], line 1\u001b[0m\n\u001b[1;32m----> 1\u001b[0m val_loss \u001b[38;5;241m=\u001b[39m \u001b[43mvalidate_one_epoch\u001b[49m\u001b[43m(\u001b[49m\n\u001b[0;32m      2\u001b[0m \u001b[43m            \u001b[49m\u001b[43mmodel\u001b[49m\u001b[38;5;241;43m=\u001b[39;49m\u001b[43mmodel\u001b[49m\u001b[43m,\u001b[49m\u001b[43m \u001b[49m\n\u001b[0;32m      3\u001b[0m \u001b[43m            \u001b[49m\u001b[43mval_loader\u001b[49m\u001b[38;5;241;43m=\u001b[39;49m\u001b[43mval_loader\u001b[49m\u001b[43m,\u001b[49m\u001b[43m \u001b[49m\n\u001b[0;32m      4\u001b[0m \u001b[43m            \u001b[49m\u001b[43mcriterion\u001b[49m\u001b[38;5;241;43m=\u001b[39;49m\u001b[43mcriterion\u001b[49m\u001b[43m,\u001b[49m\u001b[43m \u001b[49m\n\u001b[0;32m      5\u001b[0m \u001b[43m            \u001b[49m\u001b[43mdevice\u001b[49m\u001b[38;5;241;43m=\u001b[39;49m\u001b[43mdevice\u001b[49m\u001b[43m,\u001b[49m\u001b[43m \u001b[49m\n\u001b[0;32m      6\u001b[0m \u001b[43m            \u001b[49m\u001b[43mepoch\u001b[49m\u001b[38;5;241;43m=\u001b[39;49m\u001b[38;5;241;43m1\u001b[39;49m\u001b[43m,\u001b[49m\u001b[43m \u001b[49m\n\u001b[0;32m      7\u001b[0m \u001b[43m            \u001b[49m\u001b[43mcalculate_dice_interval\u001b[49m\u001b[38;5;241;43m=\u001b[39;49m\u001b[38;5;241;43m0\u001b[39;49m\n\u001b[0;32m      8\u001b[0m \u001b[43m        \u001b[49m\u001b[43m)\u001b[49m\n",
      "Cell \u001b[1;32mIn[11], line 64\u001b[0m, in \u001b[0;36mvalidate_one_epoch\u001b[1;34m(model, val_loader, criterion, device, epoch, calculate_dice_interval)\u001b[0m\n\u001b[0;32m     61\u001b[0m pbar\u001b[38;5;241m.\u001b[39mset_postfix(loss\u001b[38;5;241m=\u001b[39mloss\u001b[38;5;241m.\u001b[39mitem())\n\u001b[0;32m     63\u001b[0m \u001b[38;5;66;03m# 각 클래스별 Dice 점수 계산\u001b[39;00m\n\u001b[1;32m---> 64\u001b[0m \u001b[38;5;28;01mif\u001b[39;00m \u001b[43mepoch\u001b[49m\u001b[43m \u001b[49m\u001b[38;5;241;43m%\u001b[39;49m\u001b[43m \u001b[49m\u001b[43mcalculate_dice_interval\u001b[49m \u001b[38;5;241m==\u001b[39m \u001b[38;5;241m0\u001b[39m:\n\u001b[0;32m     65\u001b[0m     \u001b[38;5;28;01mfor\u001b[39;00m i \u001b[38;5;129;01min\u001b[39;00m \u001b[38;5;28mrange\u001b[39m(n_classes):\n\u001b[0;32m     66\u001b[0m         pred_i \u001b[38;5;241m=\u001b[39m (preds \u001b[38;5;241m==\u001b[39m i)\n",
      "\u001b[1;31mZeroDivisionError\u001b[0m: integer modulo by zero"
     ]
    }
   ],
   "source": [
    "val_loss = validate_one_epoch(\n",
    "            model=model, \n",
    "            val_loader=val_loader, \n",
    "            criterion=criterion, \n",
    "            device=device, \n",
    "            epoch=1, \n",
    "            calculate_dice_interval=0\n",
    "        )"
   ]
  },
  {
   "cell_type": "code",
   "execution_count": null,
   "metadata": {},
   "outputs": [
    {
     "name": "stdout",
     "output_type": "stream",
     "text": [
      "Processing volume 1/7\n"
     ]
    },
    {
     "name": "stderr",
     "output_type": "stream",
     "text": [
      "Loading dataset: 100%|██████████| 1/1 [00:01<00:00,  1.94s/it]\n"
     ]
    },
    {
     "name": "stdout",
     "output_type": "stream",
     "text": [
      "Processing volume 2/7\n"
     ]
    },
    {
     "name": "stderr",
     "output_type": "stream",
     "text": [
      "Loading dataset: 100%|██████████| 1/1 [00:01<00:00,  1.89s/it]\n"
     ]
    },
    {
     "name": "stdout",
     "output_type": "stream",
     "text": [
      "Processing volume 3/7\n"
     ]
    },
    {
     "name": "stderr",
     "output_type": "stream",
     "text": [
      "Loading dataset: 100%|██████████| 1/1 [00:01<00:00,  1.79s/it]\n"
     ]
    },
    {
     "name": "stdout",
     "output_type": "stream",
     "text": [
      "Submission saved to: submission.csv\n"
     ]
    }
   ],
   "source": [
    "import torch\n",
    "import numpy as np\n",
    "from scipy.ndimage import label, center_of_mass\n",
    "import pandas as pd\n",
    "from tqdm import tqdm\n",
    "from monai.data import CacheDataset, DataLoader\n",
    "from monai.transforms import Compose, NormalizeIntensity\n",
    "import cc3d\n",
    "\n",
    "def dict_to_df(coord_dict, experiment_name):\n",
    "    all_coords = []\n",
    "    all_labels = []\n",
    "    \n",
    "    for label, coords in coord_dict.items():\n",
    "        all_coords.append(coords)\n",
    "        all_labels.extend([label] * len(coords))\n",
    "    \n",
    "    all_coords = np.vstack(all_coords)\n",
    "    df = pd.DataFrame({\n",
    "        'experiment': experiment_name,\n",
    "        'particle_type': all_labels,\n",
    "        'x': all_coords[:, 0],\n",
    "        'y': all_coords[:, 1],\n",
    "        'z': all_coords[:, 2]\n",
    "    })\n",
    "    return df\n",
    "\n",
    "id_to_name = {1: \"apo-ferritin\", \n",
    "              2: \"beta-amylase\",\n",
    "              3: \"beta-galactosidase\", \n",
    "              4: \"ribosome\", \n",
    "              5: \"thyroglobulin\", \n",
    "              6: \"virus-like-particle\"}\n",
    "BLOB_THRESHOLD = 200\n",
    "CERTAINTY_THRESHOLD = 0.05\n",
    "\n",
    "classes = [1, 2, 3, 4, 5, 6]\n",
    "\n",
    "model.eval()\n",
    "with torch.no_grad():\n",
    "    location_dfs = []  # DataFrame 리스트로 초기화\n",
    "    \n",
    "    for vol_idx, run in enumerate(preprocessor.root.runs):\n",
    "        print(f\"Processing volume {vol_idx + 1}/{len(preprocessor.root.runs)}\")\n",
    "        tomogram = preprocessor.processing(run=run, task=\"task\")\n",
    "        task_files = [{\"image\": tomogram}]\n",
    "        task_ds = CacheDataset(data=task_files, transform=non_random_transforms)\n",
    "        task_loader = DataLoader(task_ds, batch_size=1, num_workers=0)\n",
    "        \n",
    "        for task_data in task_loader:\n",
    "            images = task_data['image'].to(\"cuda\")\n",
    "            outputs = sliding_window_inference(\n",
    "                inputs=images,\n",
    "                roi_size=(96, 96, 96),  # ROI 크기\n",
    "                sw_batch_size=4,\n",
    "                predictor=model.forward,\n",
    "                overlap=0.1,\n",
    "                sw_device=\"cuda\",\n",
    "                device=\"cpu\",\n",
    "                buffer_steps=1,\n",
    "                buffer_dim=-1\n",
    "            )\n",
    "            outputs = outputs.argmax(dim=1).squeeze(0).cpu().numpy()  # 클래스 채널 예측\n",
    "            location = {}  # 좌표 저장용 딕셔너리\n",
    "            for c in classes:\n",
    "                cc = cc3d.connected_components(outputs == c)  # cc3d 라벨링\n",
    "                stats = cc3d.statistics(cc)\n",
    "                zyx = stats['centroids'][1:] * 10.012444  # 스케일 변환\n",
    "                zyx_large = zyx[stats['voxel_counts'][1:] > BLOB_THRESHOLD]  # 크기 필터링\n",
    "                xyz = np.ascontiguousarray(zyx_large[:, ::-1])  # 좌표 스왑 (z, y, x -> x, y, z)\n",
    "\n",
    "                location[id_to_name[c]] = xyz  # ID 이름 매칭 저장\n",
    "\n",
    "            # 데이터프레임 변환\n",
    "            df = dict_to_df(location, run.name)\n",
    "            location_dfs.append(df)  # 리스트에 추가\n",
    "        \n",
    "        # if vol_idx == 2:\n",
    "        #     break\n",
    "    \n",
    "    # DataFrame 병합\n",
    "    final_df = pd.concat(location_dfs, ignore_index=True)\n",
    "    \n",
    "    # ID 추가 및 CSV 저장\n",
    "    final_df.insert(loc=0, column='id', value=np.arange(len(final_df)))\n",
    "    final_df.to_csv(\"submission.csv\", index=False)\n",
    "    print(\"Submission saved to: submission.csv\")\n"
   ]
  }
 ],
 "metadata": {
  "kernelspec": {
   "display_name": "ship",
   "language": "python",
   "name": "python3"
  },
  "language_info": {
   "codemirror_mode": {
    "name": "ipython",
    "version": 3
   },
   "file_extension": ".py",
   "mimetype": "text/x-python",
   "name": "python",
   "nbconvert_exporter": "python",
   "pygments_lexer": "ipython3",
   "version": "3.12.7"
  }
 },
 "nbformat": 4,
 "nbformat_minor": 2
}
