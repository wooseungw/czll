{
 "cells": [
  {
   "cell_type": "code",
   "execution_count": 1,
   "metadata": {},
   "outputs": [
    {
     "name": "stdout",
     "output_type": "stream",
     "text": [
      "New https://pypi.org/project/ultralytics/8.3.28 available  Update with 'pip install -U ultralytics'\n",
      "Ultralytics 8.3.17  Python-3.12.7 torch-2.4.1+cu121 CUDA:0 (NVIDIA GeForce RTX 4060 Ti, 16380MiB)\n",
      "\u001b[34m\u001b[1mengine\\trainer: \u001b[0mtask=detect, mode=train, model=yolo11n.pt, data=coco8.yaml, epochs=3, time=None, patience=100, batch=16, imgsz=640, save=True, save_period=-1, cache=False, device=cuda, workers=8, project=yolo_test, name=custom_head3, exist_ok=False, pretrained=True, optimizer=auto, verbose=True, seed=0, deterministic=True, single_cls=False, rect=False, cos_lr=False, close_mosaic=10, resume=False, amp=True, fraction=1.0, profile=False, freeze=None, multi_scale=False, overlap_mask=True, mask_ratio=4, dropout=0.0, val=True, split=val, save_json=False, save_hybrid=False, conf=None, iou=0.7, max_det=300, half=False, dnn=False, plots=True, source=None, vid_stride=1, stream_buffer=False, visualize=False, augment=False, agnostic_nms=False, classes=None, retina_masks=False, embed=None, show=False, save_frames=False, save_txt=False, save_conf=False, save_crop=False, show_labels=True, show_conf=True, show_boxes=True, line_width=None, format=torchscript, keras=False, optimize=False, int8=False, dynamic=False, simplify=True, opset=None, workspace=4, nms=False, lr0=0.01, lrf=0.01, momentum=0.937, weight_decay=0.0005, warmup_epochs=3.0, warmup_momentum=0.8, warmup_bias_lr=0.1, box=7.5, cls=0.5, dfl=1.5, pose=12.0, kobj=1.0, label_smoothing=0.0, nbs=64, hsv_h=0.015, hsv_s=0.7, hsv_v=0.4, degrees=0.0, translate=0.1, scale=0.5, shear=0.0, perspective=0.0, flipud=0.0, fliplr=0.5, bgr=0.0, mosaic=1.0, mixup=0.0, copy_paste=0.0, copy_paste_mode=flip, auto_augment=randaugment, erasing=0.4, crop_fraction=1.0, cfg=None, tracker=botsort.yaml, save_dir=yolo_test\\custom_head3\n",
      "\n",
      "                   from  n    params  module                                       arguments                     \n",
      "  0                  -1  1       464  ultralytics.nn.modules.conv.Conv             [3, 16, 3, 2]                 \n",
      "  1                  -1  1      4672  ultralytics.nn.modules.conv.Conv             [16, 32, 3, 2]                \n",
      "  2                  -1  1      6640  ultralytics.nn.modules.block.C3k2            [32, 64, 1, False, 0.25]      \n",
      "  3                  -1  1     36992  ultralytics.nn.modules.conv.Conv             [64, 64, 3, 2]                \n",
      "  4                  -1  1     26080  ultralytics.nn.modules.block.C3k2            [64, 128, 1, False, 0.25]     \n",
      "  5                  -1  1    147712  ultralytics.nn.modules.conv.Conv             [128, 128, 3, 2]              \n",
      "  6                  -1  1     87040  ultralytics.nn.modules.block.C3k2            [128, 128, 1, True]           \n",
      "  7                  -1  1    295424  ultralytics.nn.modules.conv.Conv             [128, 256, 3, 2]              \n",
      "  8                  -1  1    346112  ultralytics.nn.modules.block.C3k2            [256, 256, 1, True]           \n",
      "  9                  -1  1    164608  ultralytics.nn.modules.block.SPPF            [256, 256, 5]                 \n",
      " 10                  -1  1    249728  ultralytics.nn.modules.block.C2PSA           [256, 256, 1]                 \n",
      " 11                  -1  1         0  torch.nn.modules.upsampling.Upsample         [None, 2, 'nearest']          \n",
      " 12             [-1, 6]  1         0  ultralytics.nn.modules.conv.Concat           [1]                           \n",
      " 13                  -1  1    111296  ultralytics.nn.modules.block.C3k2            [384, 128, 1, False]          \n",
      " 14                  -1  1         0  torch.nn.modules.upsampling.Upsample         [None, 2, 'nearest']          \n",
      " 15             [-1, 4]  1         0  ultralytics.nn.modules.conv.Concat           [1]                           \n",
      " 16                  -1  1     32096  ultralytics.nn.modules.block.C3k2            [256, 64, 1, False]           \n",
      " 17                  -1  1     36992  ultralytics.nn.modules.conv.Conv             [64, 64, 3, 2]                \n",
      " 18            [-1, 13]  1         0  ultralytics.nn.modules.conv.Concat           [1]                           \n",
      " 19                  -1  1     86720  ultralytics.nn.modules.block.C3k2            [192, 128, 1, False]          \n",
      " 20                  -1  1    147712  ultralytics.nn.modules.conv.Conv             [128, 128, 3, 2]              \n",
      " 21            [-1, 10]  1         0  ultralytics.nn.modules.conv.Concat           [1]                           \n",
      " 22                  -1  1    378880  ultralytics.nn.modules.block.C3k2            [384, 256, 1, True]           \n",
      " 23        [16, 19, 22]  1    464912  ultralytics.nn.modules.head.Detect           [80, [64, 128, 256]]          \n",
      "YOLO11n summary: 319 layers, 2,624,080 parameters, 2,624,064 gradients, 6.6 GFLOPs\n",
      "\n",
      "Transferred 499/499 items from pretrained weights\n",
      "Freezing layer 'model.23.dfl.conv.weight'\n",
      "\u001b[34m\u001b[1mAMP: \u001b[0mrunning Automatic Mixed Precision (AMP) checks with YOLO11n...\n",
      "\u001b[34m\u001b[1mAMP: \u001b[0mchecks passed \n"
     ]
    },
    {
     "name": "stderr",
     "output_type": "stream",
     "text": [
      "\u001b[34m\u001b[1mtrain: \u001b[0mScanning D:\\Workspace\\SatellieteIMGDetection\\datasets\\coco8\\labels\\train.cache... 4 images, 0 backgrounds, 0 corrupt: 100%|██████████| 4/4 [00:00<?, ?it/s]\n"
     ]
    },
    {
     "name": "stdout",
     "output_type": "stream",
     "text": [
      "\u001b[34m\u001b[1malbumentations: \u001b[0mBlur(p=0.01, blur_limit=(3, 7)), MedianBlur(p=0.01, blur_limit=(3, 7)), ToGray(p=0.01, num_output_channels=3, method='weighted_average'), CLAHE(p=0.01, clip_limit=(1.0, 4.0), tile_grid_size=(8, 8))\n"
     ]
    },
    {
     "name": "stderr",
     "output_type": "stream",
     "text": [
      "c:\\Users\\pook0\\.conda\\envs\\UM\\Lib\\site-packages\\albumentations\\__init__.py:13: UserWarning: A new version of Albumentations is available: 1.4.21 (you have 1.4.18). Upgrade using: pip install -U albumentations. To disable automatic update checks, set the environment variable NO_ALBUMENTATIONS_UPDATE to 1.\n",
      "  check_for_updates()\n",
      "\u001b[34m\u001b[1mval: \u001b[0mScanning D:\\Workspace\\SatellieteIMGDetection\\datasets\\coco8\\labels\\val.cache... 4 images, 0 backgrounds, 0 corrupt: 100%|██████████| 4/4 [00:00<?, ?it/s]\n"
     ]
    },
    {
     "name": "stdout",
     "output_type": "stream",
     "text": [
      "Plotting labels to yolo_test\\custom_head3\\labels.jpg... \n",
      "\u001b[34m\u001b[1moptimizer:\u001b[0m 'optimizer=auto' found, ignoring 'lr0=0.01' and 'momentum=0.937' and determining best 'optimizer', 'lr0' and 'momentum' automatically... \n",
      "\u001b[34m\u001b[1moptimizer:\u001b[0m AdamW(lr=0.000119, momentum=0.9) with parameter groups 81 weight(decay=0.0), 88 weight(decay=0.0005), 87 bias(decay=0.0)\n",
      "Image sizes 640 train, 640 val\n",
      "Using 8 dataloader workers\n",
      "Logging results to \u001b[1myolo_test\\custom_head3\u001b[0m\n",
      "Starting training for 3 epochs...\n",
      "\n",
      "      Epoch    GPU_mem   box_loss   cls_loss   dfl_loss  Instances       Size\n"
     ]
    },
    {
     "name": "stderr",
     "output_type": "stream",
     "text": [
      "        1/3     0.711G      1.004      3.248      1.367         30        640: 100%|██████████| 1/1 [00:03<00:00,  3.66s/it]\n",
      "                 Class     Images  Instances      Box(P          R      mAP50  mAP50-95): 100%|██████████| 1/1 [00:00<00:00,  8.19it/s]"
     ]
    },
    {
     "name": "stdout",
     "output_type": "stream",
     "text": [
      "                   all          4         17       0.58       0.85      0.849      0.631\n"
     ]
    },
    {
     "name": "stderr",
     "output_type": "stream",
     "text": [
      "\n"
     ]
    },
    {
     "name": "stdout",
     "output_type": "stream",
     "text": [
      "\n",
      "      Epoch    GPU_mem   box_loss   cls_loss   dfl_loss  Instances       Size\n"
     ]
    },
    {
     "name": "stderr",
     "output_type": "stream",
     "text": [
      "        2/3     0.713G      1.308      4.046        1.6         35        640: 100%|██████████| 1/1 [00:00<00:00,  7.39it/s]\n",
      "                 Class     Images  Instances      Box(P          R      mAP50  mAP50-95): 100%|██████████| 1/1 [00:00<00:00, 20.41it/s]"
     ]
    },
    {
     "name": "stdout",
     "output_type": "stream",
     "text": [
      "                   all          4         17      0.582       0.85      0.851      0.632\n"
     ]
    },
    {
     "name": "stderr",
     "output_type": "stream",
     "text": [
      "\n"
     ]
    },
    {
     "name": "stdout",
     "output_type": "stream",
     "text": [
      "\n",
      "      Epoch    GPU_mem   box_loss   cls_loss   dfl_loss  Instances       Size\n"
     ]
    },
    {
     "name": "stderr",
     "output_type": "stream",
     "text": [
      "        3/3     0.696G      1.436      3.954      1.814         15        640: 100%|██████████| 1/1 [00:00<00:00,  8.82it/s]\n",
      "                 Class     Images  Instances      Box(P          R      mAP50  mAP50-95): 100%|██████████| 1/1 [00:00<00:00, 21.28it/s]"
     ]
    },
    {
     "name": "stdout",
     "output_type": "stream",
     "text": [
      "                   all          4         17      0.577       0.85      0.853       0.63\n"
     ]
    },
    {
     "name": "stderr",
     "output_type": "stream",
     "text": [
      "\n"
     ]
    },
    {
     "name": "stdout",
     "output_type": "stream",
     "text": [
      "\n",
      "3 epochs completed in 0.001 hours.\n",
      "Optimizer stripped from yolo_test\\custom_head3\\weights\\last.pt, 5.5MB\n",
      "Optimizer stripped from yolo_test\\custom_head3\\weights\\best.pt, 5.5MB\n",
      "\n",
      "Validating yolo_test\\custom_head3\\weights\\best.pt...\n",
      "Ultralytics 8.3.17  Python-3.12.7 torch-2.4.1+cu121 CUDA:0 (NVIDIA GeForce RTX 4060 Ti, 16380MiB)\n",
      "YOLO11n summary (fused): 238 layers, 2,616,248 parameters, 0 gradients, 6.5 GFLOPs\n"
     ]
    },
    {
     "name": "stderr",
     "output_type": "stream",
     "text": [
      "                 Class     Images  Instances      Box(P          R      mAP50  mAP50-95): 100%|██████████| 1/1 [00:00<00:00, 25.96it/s]\n"
     ]
    },
    {
     "name": "stdout",
     "output_type": "stream",
     "text": [
      "                   all          4         17      0.581       0.85      0.851      0.616\n",
      "                person          3         10      0.569        0.6      0.605      0.275\n",
      "                   dog          1          1      0.546          1      0.995      0.697\n",
      "                 horse          1          2      0.584          1      0.995      0.674\n",
      "              elephant          1          2      0.365        0.5      0.524      0.259\n",
      "              umbrella          1          1      0.569          1      0.995      0.895\n",
      "          potted plant          1          1      0.851          1      0.995      0.895\n",
      "Speed: 0.3ms preprocess, 3.0ms inference, 0.0ms loss, 1.3ms postprocess per image\n",
      "Results saved to \u001b[1myolo_test\\custom_head3\u001b[0m\n",
      "Training completed!\n",
      "Best mAP50: 0.615894956390835\n",
      "\n",
      "WARNING  torch.Tensor inputs should be normalized 0.0-1.0 but max value is 4.706320762634277. Dividing input by 255.\n",
      "0: 640x640 (no detections), 33.1ms\n",
      "Speed: 8.0ms preprocess, 33.1ms inference, 6.0ms postprocess per image at shape (1, 3, 640, 640)\n",
      "\n",
      "Test inference results:\n",
      "Detected objects: 0\n"
     ]
    }
   ],
   "source": [
    "from ultralytics import YOLO\n",
    "import torch\n",
    "import torch.nn as nn\n",
    "\n",
    "# 커스텀 헤드 정의\n",
    "class CustomHead(nn.Module):\n",
    "    def __init__(self, nc=80, ch=()):\n",
    "        super().__init__()\n",
    "        self.nc = nc\n",
    "        \n",
    "        self.conv1 = nn.Conv2d(ch[0], 256, 3, padding=1)\n",
    "        self.bn1 = nn.BatchNorm2d(256)\n",
    "        self.conv2 = nn.Conv2d(256, 256, 3, padding=1)\n",
    "        self.bn2 = nn.BatchNorm2d(256)\n",
    "        \n",
    "        self.cls_conv = nn.Conv2d(256, self.nc, 1)\n",
    "        self.reg_conv = nn.Conv2d(256, 4, 1)\n",
    "        self.obj_conv = nn.Conv2d(256, 1, 1)\n",
    "        \n",
    "        self.act = nn.LeakyReLU(0.1)\n",
    "\n",
    "    def forward(self, x):\n",
    "        x = self.act(self.bn1(self.conv1(x)))\n",
    "        x = self.act(self.bn2(self.conv2(x)))\n",
    "        \n",
    "        cls_out = self.cls_conv(x)\n",
    "        reg_out = self.reg_conv(x)\n",
    "        obj_out = self.obj_conv(x)\n",
    "        \n",
    "        return torch.cat([reg_out, obj_out, cls_out], 1)\n",
    "\n",
    "# 커스텀 로스 정의\n",
    "class CustomLoss:\n",
    "    def __init__(self):\n",
    "        self.bce = nn.BCEWithLogitsLoss()\n",
    "        self.l1 = nn.L1Loss()\n",
    "        \n",
    "    def __call__(self, preds, targets):\n",
    "        cls_loss = self.bce(preds[..., 5:], targets[..., 5:])\n",
    "        box_loss = self.l1(preds[..., :4], targets[..., :4])\n",
    "        obj_loss = self.bce(preds[..., 4], targets[..., 4])\n",
    "        return cls_loss + box_loss + obj_loss\n",
    "\n",
    "# 모델 설정\n",
    "model = YOLO('yolo11n.pt')\n",
    "model.model.head = CustomHead(nc=80, ch=[256])\n",
    "model.loss_fn = CustomLoss()\n",
    "\n",
    "# # 학습 설정\n",
    "# data_yaml = \"\"\"\n",
    "# path: ../datasets/test  # 데이터셋 루트 디렉토리\n",
    "# train: images/train  # 학습 이미지 경로\n",
    "# val: images/val  # 검증 이미지 경로\n",
    "\n",
    "# nc: 80  # 클래스 수\n",
    "# names: ['person', 'bicycle', ...]  # 클래스 이름들\n",
    "# \"\"\"\n",
    "\n",
    "# # data.yaml 파일 생성\n",
    "# with open('data.yaml', 'w') as f:\n",
    "#     f.write(data_yaml)\n",
    "\n",
    "# 학습 실행\n",
    "results = model.train(\n",
    "    data='coco8.yaml',\n",
    "    epochs=3,               # 빠른 테스트를 위해 3 에포크만\n",
    "    imgsz=640,             # 이미지 크기\n",
    "    batch=16,              # 배치 크기\n",
    "    save=True,             # 모델 저장\n",
    "    device='cuda',         # GPU 사용\n",
    "    project='yolo_test',   # 프로젝트 이름\n",
    "    name='custom_head',    # 실험 이름\n",
    ")\n",
    "\n",
    "# 학습 결과 확인\n",
    "print(\"Training completed!\")\n",
    "print(f\"Best mAP50: {results.maps[50]}\")\n",
    "# print(f\"Final model saved at: {results.model}\")\n",
    "\n",
    "# 테스트 추론\n",
    "test_img = torch.randn(1, 3, 640, 640)  # 테스트 이미지\n",
    "results = model(test_img)\n",
    "print(\"\\nTest inference results:\")\n",
    "for r in results:\n",
    "    print(f\"Detected objects: {len(r.boxes)}\")\n",
    "    if r.boxes:\n",
    "        print(f\"Confidence scores: {r.boxes.conf}\")"
   ]
  },
  {
   "cell_type": "code",
   "execution_count": 2,
   "metadata": {},
   "outputs": [
    {
     "name": "stdout",
     "output_type": "stream",
     "text": [
      "torch.Size([1, 128, 128, 128])\n"
     ]
    }
   ],
   "source": [
    "from ultralytics import YOLO\n",
    "\n",
    "import torch\n",
    "from ultralytics.nn.modules.block import C3k2\n",
    "\n",
    "# 입력 텐서 생성 (배치 크기: 1, 채널 수: 64, 높이: 128, 너비: 128)\n",
    "x = torch.randn(1, 64, 128, 128)\n",
    "\n",
    "# C3k2 클래스 인스턴스 생성\n",
    "# 입력 채널 수: 64, 출력 채널 수: 128, 블록 수: 3, c3k 사용 여부: True\n",
    "model = C3k2(c1=64, c2=128, n=3, c3k=True)\n",
    "\n",
    "# 모델에 입력 텐서 전달\n",
    "output = model(x)\n",
    "\n",
    "# 출력 텐서의 크기 출력\n",
    "print(output.shape)"
   ]
  },
  {
   "cell_type": "code",
   "execution_count": 4,
   "metadata": {},
   "outputs": [
    {
     "name": "stdout",
     "output_type": "stream",
     "text": [
      "torch.Size([1, 64, 224, 224])\n"
     ]
    }
   ],
   "source": [
    "import torch\n",
    "from ultralytics.nn.modules.conv import Conv\n",
    "\n",
    "# 입력 텐서 생성 (배치 크기: 1, 채널 수: 3, 높이: 224, 너비: 224)\n",
    "x = torch.randn(1, 30, 224, 224)\n",
    "\n",
    "# Conv 클래스 인스턴스 생성\n",
    "# 입력 채널 수: 3, 출력 채널 수: 64, 커널 크기: 3, 스트라이드: 1, 패딩: 자동\n",
    "conv_layer = Conv(c1=30, c2=64, k=3, s=1)\n",
    "\n",
    "# Conv 레이어에 입력 텐서 전달\n",
    "output = conv_layer(x)\n",
    "\n",
    "# 출력 텐서의 크기 출력\n",
    "print(output.shape)"
   ]
  },
  {
   "cell_type": "code",
   "execution_count": null,
   "metadata": {},
   "outputs": [
    {
     "name": "stdout",
     "output_type": "stream",
     "text": [
      "torch.Size([1, 1024, 32, 32])\n"
     ]
    }
   ],
   "source": [
    "import torch\n",
    "from ultralytics.nn.modules.block import SPPF\n",
    "\n",
    "'''\n",
    "SPPF(Spatial Pyramid Pooling - Fast) 모듈은 YOLOv5에서 사용되는 레이어로, 입력 특징 맵에 대해 공간 피라미드 풀링을 수행하여 다양한 크기의 맥스 풀링 결과를 결합합니다. 이를 통해 다양한 스케일의 정보를 효과적으로 통합할 수 있습니다. SPPF 모듈은 특히 빠른 연산을 위해 최적화되어 있습니다.\n",
    "\n",
    "주요 역할:\n",
    "\n",
    "다양한 스케일의 정보 통합: 서로 다른 크기의 맥스 풀링을 통해 다양한 스케일의 정보를 추출하고 이를 결합합니다.\n",
    "특징 맵의 크기 유지: 입력 특징 맵의 공간적 크기를 유지하면서 채널 수를 증가시킵니다.\n",
    "연산 효율성: 빠른 연산을 위해 최적화된 구조를 사용합니다.\n",
    "SPPF 모듈의 구조는 다음과 같습니다:\n",
    "\n",
    "입력 채널 수를 절반으로 줄이는 1x1 컨볼루션 레이어\n",
    "5x5 맥스 풀링 레이어를 세 번 반복하여 다양한 스케일의 정보를 추출\n",
    "추출된 정보를 결합한 후 출력 채널 수를 원하는 값으로 조정하는 1x1 컨볼루션 레이어\n",
    "이를 통해 입력 특징 맵의 공간적 크기를 유지하면서 다양한 스케일의 정보를 효과적으로 통합할 수 있습니다.\n",
    "'''\n",
    "# 입력 텐서 생성 (배치 크기: 1, 채널 수: 512, 높이: 32, 너비: 32)\n",
    "x = torch.randn(1, 512, 32, 32)\n",
    "\n",
    "# SPPF 클래스 인스턴스 생성\n",
    "# 입력 채널 수: 512, 출력 채널 수: 1024, 커널 크기: 5\n",
    "sppf_layer = SPPF(c1=512, c2=1024, k=5)\n",
    "\n",
    "# SPPF 레이어에 입력 텐서 전달\n",
    "output = sppf_layer(x)\n",
    "\n",
    "# 출력 텐서의 크기 출력\n",
    "print(output.shape)"
   ]
  },
  {
   "cell_type": "code",
   "execution_count": 5,
   "metadata": {},
   "outputs": [
    {
     "name": "stdout",
     "output_type": "stream",
     "text": [
      "torch.Size([1, 256, 64, 64])\n"
     ]
    }
   ],
   "source": [
    "import torch\n",
    "from ultralytics.nn.modules.block import C2PSA\n",
    "\n",
    "# 입력 텐서 생성 (배치 크기: 1, 채널 수: 256, 높이: 64, 너비: 64)\n",
    "x = torch.randn(1, 256, 64, 64)\n",
    "\n",
    "# C2PSA 클래스 인스턴스 생성\n",
    "# 입력 채널 수: 256, 출력 채널 수: 256, 블록 수: 3, 확장 비율: 0.5\n",
    "model = C2PSA(c1=256, c2=256, n=3, e=0.5)\n",
    "\n",
    "# 모델에 입력 텐서 전달\n",
    "output = model(x)\n",
    "\n",
    "# 출력 텐서의 크기 출력\n",
    "print(output.shape)"
   ]
  },
  {
   "cell_type": "code",
   "execution_count": 32,
   "metadata": {},
   "outputs": [
    {
     "name": "stdout",
     "output_type": "stream",
     "text": [
      "torch.Size([1, 14, 8400])\n"
     ]
    }
   ],
   "source": [
    "import torch\n",
    "from ultralytics.nn.modules.head import Detect\n",
    "\n",
    "# 3개의 서로 다른 크기의 특징맵 생성 \n",
    "# (batch_size, channels, height, width)\n",
    "feature_maps = [\n",
    "    torch.randn(1, 256, 80, 80),    # P3\n",
    "    torch.randn(1, 256, 40, 40),    # P4  \n",
    "    torch.randn(1, 256, 20, 20)     # P5\n",
    "]\n",
    "\n",
    "# Detect 레이어 초기화\n",
    "# nc: 클래스 수 80개 (COCO dataset)\n",
    "# anchors: 3개의 스케일(P3,P4,P5)에 각각 3개의 앵커\n",
    "# ch: 입력 특징맵의 채널 수 \n",
    "detect = Detect(nc=10, ch=[256, 256, 256])\n",
    "\n",
    "# 추론 모드로 설정\n",
    "detect.eval()\n",
    "\n",
    "# 추론 실행\n",
    "with torch.no_grad():\n",
    "    predictions = detect(feature_maps)\n",
    "\n",
    "# 출력 형태 확인 \n",
    "# (batch_size, num_anchors_total, num_classes + 5)\n",
    "print(predictions[0].shape)\n"
   ]
  },
  {
   "cell_type": "code",
   "execution_count": 31,
   "metadata": {},
   "outputs": [
    {
     "name": "stdout",
     "output_type": "stream",
     "text": [
      "torch.Size([1, 144, 80, 80])\n",
      "torch.Size([1, 144, 40, 40])\n",
      "torch.Size([1, 144, 20, 20])\n"
     ]
    }
   ],
   "source": [
    "temp = predictions[1]\n",
    "print(temp[0].shape)\n",
    "print(temp[1].shape)\n",
    "print(temp[2].shape)\n"
   ]
  }
 ],
 "metadata": {
  "kernelspec": {
   "display_name": "UM",
   "language": "python",
   "name": "python3"
  },
  "language_info": {
   "codemirror_mode": {
    "name": "ipython",
    "version": 3
   },
   "file_extension": ".py",
   "mimetype": "text/x-python",
   "name": "python",
   "nbconvert_exporter": "python",
   "pygments_lexer": "ipython3",
   "version": "3.12.7"
  }
 },
 "nbformat": 4,
 "nbformat_minor": 2
}
