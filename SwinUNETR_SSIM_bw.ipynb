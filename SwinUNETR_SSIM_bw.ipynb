{
 "cells": [
  {
   "cell_type": "code",
   "execution_count": 1,
   "metadata": {},
   "outputs": [
    {
     "name": "stdout",
     "output_type": "stream",
     "text": [
      "MONAI version: 1.4.0\n",
      "Numpy version: 1.26.3\n",
      "Pytorch version: 2.4.1+cu121\n",
      "MONAI flags: HAS_EXT = False, USE_COMPILED = False, USE_META_DICT = False\n",
      "MONAI rev id: 46a5272196a6c2590ca2589029eed8e4d56ff008\n",
      "MONAI __file__: c:\\ProgramData\\anaconda3\\envs\\ship\\Lib\\site-packages\\monai\\__init__.py\n",
      "\n",
      "Optional dependencies:\n",
      "Pytorch Ignite version: NOT INSTALLED or UNKNOWN VERSION.\n",
      "ITK version: NOT INSTALLED or UNKNOWN VERSION.\n",
      "Nibabel version: 5.3.2\n",
      "scikit-image version: 0.24.0\n",
      "scipy version: 1.14.1\n",
      "Pillow version: 10.2.0\n",
      "Tensorboard version: NOT INSTALLED or UNKNOWN VERSION.\n",
      "gdown version: 5.2.0\n",
      "TorchVision version: 0.19.1+cu121\n",
      "tqdm version: 4.66.5\n",
      "lmdb version: NOT INSTALLED or UNKNOWN VERSION.\n",
      "psutil version: 6.0.0\n",
      "pandas version: 2.2.3\n",
      "einops version: 0.8.0\n",
      "transformers version: NOT INSTALLED or UNKNOWN VERSION.\n",
      "mlflow version: NOT INSTALLED or UNKNOWN VERSION.\n",
      "pynrrd version: NOT INSTALLED or UNKNOWN VERSION.\n",
      "clearml version: NOT INSTALLED or UNKNOWN VERSION.\n",
      "\n",
      "For details about installing the optional dependencies, please visit:\n",
      "    https://docs.monai.io/en/latest/installation.html#installing-the-recommended-dependencies\n",
      "\n"
     ]
    }
   ],
   "source": [
    "import os\n",
    "import shutil\n",
    "import tempfile\n",
    "\n",
    "import matplotlib.pyplot as plt\n",
    "from tqdm import tqdm\n",
    "\n",
    "import random\n",
    "import numpy as np\n",
    "import torch\n",
    "\n",
    "\n",
    "from monai.losses import DiceCELoss\n",
    "from monai.inferers import sliding_window_inference\n",
    "from monai.transforms import (\n",
    "    AsDiscrete,\n",
    "    EnsureChannelFirstd,\n",
    "    Compose,\n",
    "    CropForegroundd,\n",
    "    LoadImaged,\n",
    "    Orientationd,\n",
    "    RandFlipd,\n",
    "    RandCropByPosNegLabeld,\n",
    "    RandShiftIntensityd,\n",
    "    ScaleIntensityRanged,\n",
    "    Spacingd,\n",
    "    RandRotate90d,\n",
    ")\n",
    "\n",
    "from monai.config import print_config\n",
    "from monai.metrics import DiceMetric\n",
    "from monai.networks.nets import UNETR, SwinUNETR\n",
    "\n",
    "from monai.data import (\n",
    "    DataLoader,\n",
    "    CacheDataset,\n",
    "    load_decathlon_datalist,\n",
    "    decollate_batch,\n",
    ")\n",
    "\n",
    "# 랜덤 시드 고정\n",
    "def set_seed(seed):\n",
    "    random.seed(seed)\n",
    "    np.random.seed(seed)\n",
    "    torch.manual_seed(seed)\n",
    "    if torch.cuda.is_available():\n",
    "        torch.cuda.manual_seed_all(seed)\n",
    "\n",
    "set_seed(42)\n",
    "\n",
    "\n",
    "print_config()"
   ]
  },
  {
   "cell_type": "code",
   "execution_count": 2,
   "metadata": {},
   "outputs": [
    {
     "name": "stdout",
     "output_type": "stream",
     "text": [
      "클래스 비율: {0: 0.0, 1: 0.16393442622950818, 2: 0.01639344262295082, 3: 0.2459016393442623, 4: 0.16393442622950818, 5: 0.2459016393442623, 6: 0.16393442622950818}\n",
      "최종 합계: 1.0\n",
      "클래스 비율 리스트: [0.0, 0.16393442622950818, 0.01639344262295082, 0.2459016393442623, 0.16393442622950818, 0.2459016393442623, 0.16393442622950818]\n"
     ]
    }
   ],
   "source": [
    "class_info = {\n",
    "    0: {\"name\": \"background\", \"weight\": 0},  # weight 없음\n",
    "    1: {\"name\": \"apo-ferritin\", \"weight\": 1000},\n",
    "    2: {\"name\": \"beta-amylase\", \"weight\": 100}, # 4130\n",
    "    3: {\"name\": \"beta-galactosidase\", \"weight\": 1500}, #3080\n",
    "    4: {\"name\": \"ribosome\", \"weight\": 1000},\n",
    "    5: {\"name\": \"thyroglobulin\", \"weight\": 1500},\n",
    "    6: {\"name\": \"virus-like-particle\", \"weight\": 1000},\n",
    "}\n",
    "\n",
    "# 가중치에 비례한 비율 계산\n",
    "raw_ratios = {\n",
    "    k: (v[\"weight\"] if v[\"weight\"] is not None else 0.01)  # 가중치 비례, None일 경우 기본값a\n",
    "    for k, v in class_info.items()\n",
    "}\n",
    "total = sum(raw_ratios.values())\n",
    "ratios = {k: v / total for k, v in raw_ratios.items()}\n",
    "\n",
    "# 최종 합계가 1인지 확인\n",
    "final_total = sum(ratios.values())\n",
    "print(\"클래스 비율:\", ratios)\n",
    "print(\"최종 합계:\", final_total)\n",
    "\n",
    "# 비율을 리스트로 변환\n",
    "ratios_list = [ratios[k] for k in sorted(ratios.keys())]\n",
    "print(\"클래스 비율 리스트:\", ratios_list)"
   ]
  },
  {
   "cell_type": "markdown",
   "metadata": {},
   "source": [
    "# 모델 설정"
   ]
  },
  {
   "cell_type": "code",
   "execution_count": null,
   "metadata": {},
   "outputs": [],
   "source": [
    "from src.dataset.dataset import create_dataloaders\n",
    "from monai.transforms import (\n",
    "    Compose, LoadImaged, EnsureChannelFirstd, NormalizeIntensityd,\n",
    "    Orientationd, CropForegroundd, GaussianSmoothd, ScaleIntensityd,\n",
    "    RandSpatialCropd, RandRotate90d, RandFlipd, RandGaussianNoised,\n",
    "    ToTensord, RandCropByLabelClassesd\n",
    ")\n",
    "from monai.transforms import CastToTyped\n",
    "import numpy as np\n",
    "\n",
    "train_img_dir = \"./datasets/train/images\"\n",
    "train_label_dir = \"./datasets/train/labels\"\n",
    "val_img_dir = \"./datasets/val/images\"\n",
    "val_label_dir = \"./datasets/val/labels\"\n",
    "# DATA CONFIG\n",
    "img_size =  96 # Match your patch size\n",
    "img_depth = img_size\n",
    "n_classes = 7\n",
    "batch_size = 2 # 13.8GB GPU memory required for 128x128 img size\n",
    "num_samples = batch_size # 한 이미지에서 뽑을 샘플 수\n",
    "loader_batch = 1\n",
    "num_repeat = 20\n",
    "# MODEL CONFIG\n",
    "num_epochs = 4000\n",
    "lamda = 0.5\n",
    "ce_weight = 0.4\n",
    "lr = 0.001\n",
    "feature_size = 48\n",
    "use_checkpoint = True\n",
    "use_v2 = True\n",
    "drop_rate= 0.25\n",
    "attn_drop_rate = 0.25\n",
    "# CLASS_WEIGHTS\n",
    "class_weights = None\n",
    "class_weights = torch.tensor([0.0001, 1, 0.001, 1.1, 1, 1.1, 1], dtype=torch.float32)  # 클래스별 가중치\n",
    "\n",
    "accumulation_steps = 8\n",
    "# INIT\n",
    "start_epoch = 0\n",
    "best_val_loss = float('inf')\n",
    "best_val_fbeta_score = 0\n",
    "\n",
    "non_random_transforms = Compose([\n",
    "    EnsureChannelFirstd(keys=[\"image\", \"label\"], channel_dim=\"no_channel\"),\n",
    "    NormalizeIntensityd(keys=\"image\"),\n",
    "    Orientationd(keys=[\"image\", \"label\"], axcodes=\"RAS\"),\n",
    "    CastToTyped(keys=[\"image\"], dtype=np.float16),\n",
    "    GaussianSmoothd(\n",
    "        keys=[\"image\"],      # 변환을 적용할 키\n",
    "        sigma=[1.0, 1.0, 1.0]  # 각 축(x, y, z)의 시그마 값\n",
    "        ),\n",
    "])\n",
    "random_transforms = Compose([\n",
    "    RandCropByLabelClassesd(\n",
    "        keys=[\"image\", \"label\"],\n",
    "        label_key=\"label\",\n",
    "        spatial_size=[img_depth, img_size, img_size],\n",
    "        num_classes=n_classes,\n",
    "        num_samples=num_samples, \n",
    "        ratios=ratios_list,\n",
    "    ),\n",
    "    RandRotate90d(keys=[\"image\", \"label\"], prob=0.5, spatial_axes=[1, 2]),\n",
    "    RandFlipd(keys=[\"image\", \"label\"], prob=0.5, spatial_axis=0),\n",
    "    RandFlipd(keys=[\"image\", \"label\"], prob=0.5, spatial_axis=1),\n",
    "    RandFlipd(keys=[\"image\", \"label\"], prob=0.5, spatial_axis=2),\n",
    "])\n"
   ]
  },
  {
   "cell_type": "code",
   "execution_count": 4,
   "metadata": {},
   "outputs": [
    {
     "name": "stderr",
     "output_type": "stream",
     "text": [
      "Loading dataset: 100%|██████████| 24/24 [00:42<00:00,  1.77s/it]\n",
      "Loading dataset: 100%|██████████| 4/4 [00:08<00:00,  2.08s/it]\n"
     ]
    }
   ],
   "source": [
    "train_loader, val_loader = None, None\n",
    "train_loader, val_loader = create_dataloaders(\n",
    "    train_img_dir, \n",
    "    train_label_dir, \n",
    "    val_img_dir, \n",
    "    val_label_dir, \n",
    "    non_random_transforms = non_random_transforms, \n",
    "    random_transforms = random_transforms, \n",
    "    batch_size = loader_batch,\n",
    "    num_workers=0,train_num_repeat=num_repeat)"
   ]
  },
  {
   "cell_type": "markdown",
   "metadata": {},
   "source": [
    "https://monai.io/model-zoo.html"
   ]
  },
  {
   "cell_type": "code",
   "execution_count": 5,
   "metadata": {},
   "outputs": [],
   "source": [
    "from monai.losses import TverskyLoss\n",
    "import torch\n",
    "import torch.nn as nn\n",
    "from MSSSIM_Loss import MSSSIM\n",
    "\n",
    "def loss_fn(loss, class_weights, device):\n",
    "    \"\"\"\n",
    "    Tversky 손실에 클래스별 가중치를 적용하여 최종 스칼라 값을 반환합니다.\n",
    "\n",
    "    Args:\n",
    "        loss: Tversky 손실 텐서 (B, num_classes, H, W, D).\n",
    "        class_weights: 클래스별 가중치 텐서 (num_classes,).\n",
    "        device: 사용할 장치 (예: 'cuda' 또는 'cpu').\n",
    "\n",
    "    Returns:\n",
    "        torch.Tensor: 최종 가중 평균 손실 값 (스칼라).\n",
    "    \"\"\"\n",
    "    # 가중치를 device로 이동\n",
    "    class_weights = class_weights.to(device)\n",
    "\n",
    "    # 클래스 차원에 가중치 적용 (B, num_classes, ...)\n",
    "    class_weights = class_weights.view(1, n_classes, 1, 1, 1)  # [1, num_classes, 1, 1, 1]\n",
    "    weighted_loss = loss * class_weights\n",
    "\n",
    "    # 모든 차원을 평균 내어 스칼라 손실 반환\n",
    "    final_loss = torch.mean(weighted_loss)\n",
    "    return final_loss\n",
    "\n",
    "class DynamicTverskyLoss(TverskyLoss):\n",
    "    def __init__(self, lamda=0.5, **kwargs):\n",
    "        super().__init__(alpha=1 - lamda, beta=lamda, **kwargs)\n",
    "        self.lamda = lamda\n",
    "\n",
    "    def set_lamda(self, lamda):\n",
    "        self.lamda = lamda\n",
    "        self.alpha = 1 - lamda\n",
    "        self.beta = lamda\n",
    "        \n",
    "# criterion = DynamicTverskyLoss(\n",
    "#     lamda=0.5,\n",
    "#     include_background=False,\n",
    "#     reduction=\"mean\",\n",
    "#     softmax=True\n",
    "# )\n",
    "\n",
    "class CombinedLoss(nn.Module):\n",
    "    def __init__(self, lamda=0.5, ce_weight=0.3, tversky_weight=0.3, ssim_weight=0.4, **kwargs):\n",
    "        super().__init__()\n",
    "        self._lamda = lamda\n",
    "        self.tversky = DynamicTverskyLoss(lamda=lamda, **kwargs)\n",
    "        self.ce = nn.CrossEntropyLoss()\n",
    "        self.ssim = MSSSIM(window_size=11, size_average=True, channel=1)\n",
    "        \n",
    "        # 가중치 설정 (합이 1이 되도록)\n",
    "        total = ce_weight + tversky_weight + ssim_weight\n",
    "        self.ce_weight = ce_weight / total\n",
    "        self.tversky_weight = tversky_weight / total\n",
    "        self.ssim_weight = ssim_weight / total\n",
    "        \n",
    "    def forward(self, inputs, targets):\n",
    "        # CE Loss와 Tversky Loss 계산\n",
    "        ce_loss = self.ce(inputs, targets)\n",
    "        tversky_loss = self.tversky(inputs, targets)\n",
    "        \n",
    "        # SSIM Loss 계산 (1 - SSIM)\n",
    "        # softmax 적용 후 관심 있는 클래스에 대해서만 SSIM 계산\n",
    "        probs = torch.softmax(inputs, dim=1)\n",
    "        ssim_loss = 1 - self.ssim(probs[:, 1:], targets.unsqueeze(1).float())\n",
    "        \n",
    "        # 가중 평균 계산\n",
    "        total_loss = (\n",
    "            self.ce_weight * ce_loss + \n",
    "            self.tversky_weight * tversky_loss + \n",
    "            self.ssim_weight * ssim_loss\n",
    "        )\n",
    "        \n",
    "        return total_loss\n",
    "    \n",
    "    def set_lamda(self, lamda):\n",
    "        self._lamda = lamda\n",
    "        self.tversky.set_lamda(lamda)\n",
    "    \n",
    "    @property\n",
    "    def lamda(self):\n",
    "        return self._lamda\n",
    "\n",
    "# 사용 예시\n",
    "criterion = CombinedLoss(\n",
    "    lamda=0.5,\n",
    "    ce_weight=ce_weight,\n",
    "    tversky_weight=(1-ce_weight)/2,\n",
    "    ssim_weight=(1-ce_weight)/2,\n",
    "    include_background=False,\n",
    "    reduction=\"mean\",\n",
    "    softmax=True\n",
    ")"
   ]
  },
  {
   "cell_type": "code",
   "execution_count": 6,
   "metadata": {},
   "outputs": [
    {
     "name": "stderr",
     "output_type": "stream",
     "text": [
      "c:\\ProgramData\\anaconda3\\envs\\ship\\Lib\\site-packages\\monai\\utils\\deprecate_utils.py:221: FutureWarning: monai.networks.nets.swin_unetr SwinUNETR.__init__:img_size: Argument `img_size` has been deprecated since version 1.3. It will be removed in version 1.5. The img_size argument is not required anymore and checks on the input size are run during forward().\n",
      "  warn_deprecated(argname, msg, warning_category)\n"
     ]
    },
    {
     "name": "stdout",
     "output_type": "stream",
     "text": [
      "기존 best model 발견: model_checkpoints\\SwinUNETR_v2_pyes_weighted_f48_d96s96_lr1e-03_a0.52_b0.48_b2_r29_ce0.4\\best_model.pt\n"
     ]
    },
    {
     "name": "stderr",
     "output_type": "stream",
     "text": [
      "C:\\Users\\Seungwoo\\AppData\\Local\\Temp\\ipykernel_33020\\2389332050.py:60: FutureWarning: You are using `torch.load` with `weights_only=False` (the current default value), which uses the default pickle module implicitly. It is possible to construct malicious pickle data which will execute arbitrary code during unpickling (See https://github.com/pytorch/pytorch/blob/main/SECURITY.md#untrusted-models for more details). In a future release, the default value for `weights_only` will be flipped to `True`. This limits the functions that could be executed during unpickling. Arbitrary objects will no longer be allowed to be loaded via this mode unless they are explicitly allowlisted by the user via `torch.serialization.add_safe_globals`. We recommend you start setting `weights_only=True` for any use case where you don't have full control of the loaded file. Please open an issue on GitHub for any issues related to this experimental feature.\n",
      "  checkpoint = torch.load(best_model_path, map_location=device)\n"
     ]
    },
    {
     "name": "stdout",
     "output_type": "stream",
     "text": [
      "기존 학습된 가중치를 성공적으로 로드했습니다.\n"
     ]
    }
   ],
   "source": [
    "import torch.optim as optim\n",
    "from tqdm import tqdm\n",
    "import numpy as np\n",
    "import torch\n",
    "from pathlib import Path\n",
    "from monai.metrics import DiceMetric\n",
    "\n",
    "device = torch.device(\"cuda\" if torch.cuda.is_available() else \"cpu\")\n",
    "\n",
    "model = SwinUNETR(\n",
    "    img_size=(img_depth, img_size, img_size),\n",
    "    in_channels=1,\n",
    "    out_channels=n_classes,\n",
    "    feature_size=feature_size,\n",
    "    use_checkpoint=True,\n",
    "    drop_rate = drop_rate,\n",
    "    attn_drop_rate = attn_drop_rate,\n",
    "    use_v2 = use_v2,\n",
    ").to(device)\n",
    "# Pretrained weights 불러오기\n",
    "if use_checkpoint:\n",
    "    pretrain_path = \"./swin_unetr_btcv_segmentation/models/model.pt\"\n",
    "    weight = torch.load(pretrain_path, map_location=device)\n",
    "\n",
    "    # 출력 레이어의 키를 제외한 나머지 가중치만 로드\n",
    "    filtered_weights = {k: v for k, v in weight.items() if \"out.conv.conv\" not in k}\n",
    "\n",
    "    # strict=False로 로드하여 불일치하는 부분 무시\n",
    "    model.load_state_dict(filtered_weights, strict=False)\n",
    "    print(\"Filtered weights loaded successfully. Output layer will be trained from scratch.\")\n",
    "\n",
    "# Load pretrained weights\n",
    "# model.load_from(weights=np.load(config_vit.real_pretrained_path, allow_pickle=True))\n",
    "# TverskyLoss 설정\n",
    "# 사용 예시\n",
    "criterion = CombinedCETverskyLoss(\n",
    "    lamda=lamda,\n",
    "    ce_weight=ce_weight,  # CE Loss와 Tversky Loss의 비중을 0.5:0.5로 설정\n",
    "    include_background=False,\n",
    "    reduction=\"mean\",\n",
    "    softmax=True\n",
    ")\n",
    "\n",
    "pretrain_str = \"yes\" if use_checkpoint else \"no\"\n",
    "weight_str = \"weighted\" if class_weights is not None else \"\"\n",
    "\n",
    "# 체크포인트 디렉토리 및 파일 설정\n",
    "checkpoint_base_dir = Path(\"./model_checkpoints\")\n",
    "checkpoint_dir = checkpoint_base_dir / f\"SwinUNETR_v2_p{pretrain_str}_{weight_str}_f{feature_size}_d{img_depth}s{img_size}_lr{lr:.0e}_a{lamda:.2f}_b{1-lamda:.2f}_b{batch_size}_r{num_repeat}_ce{ce_weight}\"\n",
    "optimizer = optim.AdamW(model.parameters(), lr=lr, weight_decay=1e-5)\n",
    "scheduler = torch.optim.lr_scheduler.ReduceLROnPlateau(optimizer, patience=5, factor=0.5)\n",
    "# 체크포인트 디렉토리 생성\n",
    "checkpoint_dir.mkdir(parents=True, exist_ok=True)\n",
    "\n",
    "if checkpoint_dir.exists():\n",
    "    best_model_path = checkpoint_dir / 'best_model.pt'\n",
    "    if best_model_path.exists():\n",
    "        print(f\"기존 best model 발견: {best_model_path}\")\n",
    "        try:\n",
    "            checkpoint = torch.load(best_model_path, map_location=device)\n",
    "            # 체크포인트 내부 키 검증\n",
    "            required_keys = ['model_state_dict', 'optimizer_state_dict', 'epoch', 'best_val_loss']\n",
    "            if all(k in checkpoint for k in required_keys):\n",
    "                model.load_state_dict(checkpoint['model_state_dict'])\n",
    "                optimizer.load_state_dict(checkpoint['optimizer_state_dict'])\n",
    "                start_epoch = checkpoint['epoch']\n",
    "                best_val_loss = checkpoint['best_val_loss']\n",
    "                print(\"기존 학습된 가중치를 성공적으로 로드했습니다.\")\n",
    "                checkpoint= None\n",
    "            else:\n",
    "                raise ValueError(\"체크포인트 파일에 필요한 key가 없습니다.\")\n",
    "        except Exception as e:\n",
    "            print(f\"체크포인트 파일을 로드하는 중 오류 발생: {e}\")"
   ]
  },
  {
   "cell_type": "code",
   "execution_count": 7,
   "metadata": {},
   "outputs": [
    {
     "name": "stdout",
     "output_type": "stream",
     "text": [
      "torch.Size([2, 1, 96, 96, 96]) torch.Size([2, 1, 96, 96, 96])\n"
     ]
    }
   ],
   "source": [
    "batch = next(iter(val_loader))\n",
    "images, labels = batch[\"image\"], batch[\"label\"]\n",
    "print(images.shape, labels.shape)"
   ]
  },
  {
   "cell_type": "code",
   "execution_count": 8,
   "metadata": {},
   "outputs": [],
   "source": [
    "torch.backends.cudnn.benchmark = True"
   ]
  },
  {
   "cell_type": "code",
   "execution_count": 9,
   "metadata": {},
   "outputs": [
    {
     "name": "stderr",
     "output_type": "stream",
     "text": [
      "\u001b[34m\u001b[1mwandb\u001b[0m: Using wandb-core as the SDK backend. Please refer to https://wandb.me/wandb-core for more information.\n",
      "\u001b[34m\u001b[1mwandb\u001b[0m: Currently logged in as: \u001b[33mwoow070840\u001b[0m (\u001b[33mwaooang\u001b[0m). Use \u001b[1m`wandb login --relogin`\u001b[0m to force relogin\n"
     ]
    },
    {
     "data": {
      "text/html": [
       "Tracking run with wandb version 0.18.3"
      ],
      "text/plain": [
       "<IPython.core.display.HTML object>"
      ]
     },
     "metadata": {},
     "output_type": "display_data"
    },
    {
     "data": {
      "text/html": [
       "Run data is saved locally in <code>e:\\Workspace\\czll\\wandb\\run-20241229_032110-ym09s27h</code>"
      ],
      "text/plain": [
       "<IPython.core.display.HTML object>"
      ]
     },
     "metadata": {},
     "output_type": "display_data"
    },
    {
     "data": {
      "text/html": [
       "Syncing run <strong><a href='https://wandb.ai/waooang/czii_SwinUnetR/runs/ym09s27h' target=\"_blank\">SwinUNETR_pyes_weighted_f48_d96_s96_lr1e-03_a0.52_b0.48_batch2_20241229_032109</a></strong> to <a href='https://wandb.ai/waooang/czii_SwinUnetR' target=\"_blank\">Weights & Biases</a> (<a href='https://wandb.me/run' target=\"_blank\">docs</a>)<br/>"
      ],
      "text/plain": [
       "<IPython.core.display.HTML object>"
      ]
     },
     "metadata": {},
     "output_type": "display_data"
    },
    {
     "data": {
      "text/html": [
       " View project at <a href='https://wandb.ai/waooang/czii_SwinUnetR' target=\"_blank\">https://wandb.ai/waooang/czii_SwinUnetR</a>"
      ],
      "text/plain": [
       "<IPython.core.display.HTML object>"
      ]
     },
     "metadata": {},
     "output_type": "display_data"
    },
    {
     "data": {
      "text/html": [
       " View run at <a href='https://wandb.ai/waooang/czii_SwinUnetR/runs/ym09s27h' target=\"_blank\">https://wandb.ai/waooang/czii_SwinUnetR/runs/ym09s27h</a>"
      ],
      "text/plain": [
       "<IPython.core.display.HTML object>"
      ]
     },
     "metadata": {},
     "output_type": "display_data"
    },
    {
     "data": {
      "text/plain": [
       "[]"
      ]
     },
     "execution_count": 9,
     "metadata": {},
     "output_type": "execute_result"
    }
   ],
   "source": [
    "import wandb\n",
    "from datetime import datetime\n",
    "\n",
    "current_time = datetime.now().strftime('%Y%m%d_%H%M%S')\n",
    "run_name = f'SwinUNETR_p{pretrain_str}_{weight_str}_f{feature_size}_d{img_depth}_s{img_size}_lr{lr:.0e}_a{lamda:.2f}_b{1-lamda:.2f}_batch{batch_size}_{current_time}'\n",
    "\n",
    "# wandb 초기화\n",
    "wandb.init(\n",
    "    project='czii_SwinUnetR',  # 프로젝트 이름 설정\n",
    "    name=run_name,         # 실행(run) 이름 설정\n",
    "    config={\n",
    "        'num_epochs': num_epochs,\n",
    "        'learning_rate': lr,\n",
    "        'batch_size': batch_size,\n",
    "        'lambda': lamda,\n",
    "        \"cross_entropy_weight\": ce_weight,\n",
    "        'feature_size': feature_size,\n",
    "        'img_size': img_size,\n",
    "        'sampling_ratio': ratios_list,\n",
    "        'device': device.type,\n",
    "        \"checkpoint_dir\": str(checkpoint_dir),\n",
    "        \"class_weights\": class_weights.tolist() if class_weights is not None else None,\n",
    "        \"use_checkpoint\": use_checkpoint,\n",
    "        \"drop_rate\": drop_rate,\n",
    "        \"attn_drop_rate\": attn_drop_rate,\n",
    "        \"use_v2\": use_v2,\n",
    "        \"accumulation_steps\": accumulation_steps,\n",
    "        \"num_repeat\": num_repeat,\n",
    "        \n",
    "        # 필요한 하이퍼파라미터 추가\n",
    "    }\n",
    ")\n",
    "# 모델을 wandb에 연결\n",
    "wandb.watch(model, log='all')"
   ]
  },
  {
   "cell_type": "markdown",
   "metadata": {},
   "source": [
    "# 학습"
   ]
  },
  {
   "cell_type": "code",
   "execution_count": null,
   "metadata": {},
   "outputs": [],
   "source": [
    "from monai.metrics import DiceMetric\n",
    "    \n",
    "def processing(batch_data, model, criterion, device):\n",
    "    images = batch_data['image'].to(device)  # Input 이미지 (B, 1, 96, 96, 96)\n",
    "    labels = batch_data['label'].to(device)  # 라벨 (B, 96, 96, 96)\n",
    "\n",
    "    labels = labels.squeeze(1)  # (B, 1, 96, 96, 96) → (B, 96, 96, 96)\n",
    "    labels = labels.long()  # 라벨을 정수형으로 변환\n",
    "\n",
    "    # 원핫 인코딩 (B, H, W, D) → (B, num_classes, H, W, D)\n",
    "    \n",
    "    labels_onehot = torch.nn.functional.one_hot(labels, num_classes=n_classes)\n",
    "    labels_onehot = labels_onehot.permute(0, 4, 1, 2, 3).float()  # (B, num_classes, H, W, D)\n",
    "\n",
    "    # 모델 예측\n",
    "    outputs = model(images)  # outputs: (B, num_classes, H, W, D)\n",
    "\n",
    "    # Loss 계산\n",
    "    # loss = criterion(outputs, labels_onehot)\n",
    "    loss = loss_fn(criterion(outputs, labels_onehot),class_weights=class_weights, device=device)\n",
    "    return loss, outputs, labels, outputs.argmax(dim=1)\n",
    "\n",
    "def train_one_epoch(model, train_loader, criterion, optimizer, device, epoch, accumulation_steps=4):\n",
    "    model.train()\n",
    "    epoch_loss = 0\n",
    "    optimizer.zero_grad()  # 그래디언트 초기화\n",
    "    with tqdm(train_loader, desc='Training') as pbar:\n",
    "        for i, batch_data in enumerate(pbar):\n",
    "            # 손실 계산\n",
    "            loss, _, _, _ = processing(batch_data, model, criterion, device)\n",
    "\n",
    "            # 그래디언트를 계산하고 누적\n",
    "            loss = loss / accumulation_steps  # 그래디언트 누적을 위한 스케일링\n",
    "            loss.backward()  # 그래디언트 계산 및 누적\n",
    "            \n",
    "            # 그래디언트 업데이트 (accumulation_steps마다 한 번)\n",
    "            if (i + 1) % accumulation_steps == 0 or (i + 1) == len(train_loader):\n",
    "                optimizer.step()  # 파라미터 업데이트\n",
    "                optimizer.zero_grad()  # 누적된 그래디언트 초기화\n",
    "            \n",
    "            # 손실값 누적 (스케일링 복구)\n",
    "            epoch_loss += loss.item() * accumulation_steps  # 실제 손실값 반영\n",
    "            pbar.set_postfix(loss=loss.item() * accumulation_steps)  # 실제 손실값 출력\n",
    "    avg_loss = epoch_loss / len(train_loader)\n",
    "    wandb.log({'train_epoch_loss': avg_loss, 'epoch': epoch + 1})\n",
    "    return avg_loss\n",
    "\n",
    "\n",
    "def validate_one_epoch(model, val_loader, criterion, device, epoch, calculate_dice_interval):\n",
    "    model.eval()\n",
    "    val_loss = 0\n",
    "    \n",
    "    class_dice_scores = {i: [] for i in range(n_classes)}\n",
    "    class_f_beta_scores = {i: [] for i in range(n_classes)}\n",
    "    with torch.no_grad():\n",
    "        with tqdm(val_loader, desc='Validation') as pbar:\n",
    "            for batch_data in pbar:\n",
    "                loss, _, labels, preds = processing(batch_data, model, criterion, device)\n",
    "                val_loss += loss.item()\n",
    "                pbar.set_postfix(loss=loss.item())\n",
    "\n",
    "                # 각 클래스별 Dice 점수 계산\n",
    "                if epoch % calculate_dice_interval == 0:\n",
    "                    for i in range(n_classes):\n",
    "                        pred_i = (preds == i)\n",
    "                        label_i = (labels == i)\n",
    "                        dice_score = (2.0 * torch.sum(pred_i & label_i)) / (torch.sum(pred_i) + torch.sum(label_i) + 1e-8)\n",
    "                        class_dice_scores[i].append(dice_score.item())\n",
    "                        precision = (torch.sum(pred_i & label_i) + 1e-8) / (torch.sum(pred_i) + 1e-8)\n",
    "                        recall = (torch.sum(pred_i & label_i) + 1e-8) / (torch.sum(label_i) + 1e-8)\n",
    "                        f_beta_score = (1 + 4**2) * (precision * recall) / (4**2 * precision + recall + 1e-8)\n",
    "                        class_f_beta_scores[i].append(f_beta_score.item())\n",
    "\n",
    "    avg_loss = val_loss / len(val_loader)\n",
    "    # 에포크별 평균 손실 로깅\n",
    "    wandb.log({'val_epoch_loss': avg_loss, 'epoch': epoch + 1})\n",
    "    \n",
    "    # 각 클래스별 평균 Dice 점수 출력\n",
    "    if epoch % calculate_dice_interval == 0:\n",
    "        print(\"Validation Dice Score\")\n",
    "        all_classes_dice_scores = []\n",
    "        for i in range(n_classes):\n",
    "            mean_dice = np.mean(class_dice_scores[i])\n",
    "            wandb.log({f'class_{i}_dice_score': mean_dice, 'epoch': epoch + 1})\n",
    "            print(f\"Class {i}: {mean_dice:.4f}\", end=\", \")\n",
    "            if i not in [0, 2]:  # 평균에 포함할 클래스만 추가\n",
    "                all_classes_dice_scores.append(mean_dice)\n",
    "            \n",
    "        print()\n",
    "    if epoch % calculate_dice_interval == 0:\n",
    "        print(\"Validation F-beta Score\")\n",
    "        all_classes_fbeta_scores = []\n",
    "        for i in range(n_classes):\n",
    "            mean_fbeta = np.mean(class_f_beta_scores[i])\n",
    "            wandb.log({f'class_{i}_f_beta_score': mean_fbeta, 'epoch': epoch + 1})\n",
    "            print(f\"Class {i}: {mean_fbeta:.4f}\", end=\", \")\n",
    "            if i not in [0, 2]:  # 평균에 포함할 클래스만 추가\n",
    "                all_classes_fbeta_scores.append(mean_fbeta)\n",
    "        print()\n",
    "        overall_mean_dice = np.mean(all_classes_dice_scores)\n",
    "        overall_mean_fbeta = np.mean(all_classes_fbeta_scores)\n",
    "        wandb.log({'overall_mean_f_beta_score': overall_mean_fbeta, 'overall_mean_dice_score': overall_mean_dice, 'epoch': epoch + 1})\n",
    "        print(f\"\\nOverall Mean Dice Score: {overall_mean_dice:.4f}\\nOverall Mean F-beta Score: {overall_mean_fbeta:.4f}\\n\")\n",
    "\n",
    "    if overall_mean_fbeta is None:\n",
    "        overall_mean_fbeta = 0\n",
    "\n",
    "    return val_loss / len(val_loader), overall_mean_fbeta\n",
    "\n",
    "def train_model(\n",
    "    model, train_loader, val_loader, criterion, optimizer, num_epochs, patience, \n",
    "    device, start_epoch, best_val_loss, best_val_fbeta_score, calculate_dice_interval=1,\n",
    "    accumulation_steps=4\n",
    "):\n",
    "    \"\"\"\n",
    "    모델을 학습하고 검증하는 함수\n",
    "    Args:\n",
    "        model: 학습할 모델\n",
    "        train_loader: 학습 데이터 로더\n",
    "        val_loader: 검증 데이터 로더\n",
    "        criterion: 손실 함수\n",
    "        optimizer: 최적화 알고리즘\n",
    "        num_epochs: 총 학습 epoch 수\n",
    "        patience: early stopping 기준\n",
    "        device: GPU/CPU 장치\n",
    "        start_epoch: 시작 epoch\n",
    "        best_val_loss: 이전 최적 validation loss\n",
    "        best_val_fbeta_score: 이전 최적 validation f-beta score\n",
    "        calculate_dice_interval: Dice 점수 계산 주기\n",
    "    \"\"\"\n",
    "    epochs_no_improve = 0\n",
    "\n",
    "    for epoch in range(start_epoch, num_epochs):\n",
    "        print(f\"Epoch {epoch + 1}/{num_epochs}\")\n",
    "\n",
    "        # Train One Epoch\n",
    "        train_loss = train_one_epoch(\n",
    "            model=model, \n",
    "            train_loader=train_loader, \n",
    "            criterion=criterion, \n",
    "            optimizer=optimizer, \n",
    "            device=device,\n",
    "            epoch=epoch,\n",
    "            accumulation_steps= accumulation_steps\n",
    "        )\n",
    "        \n",
    "        scheduler.step(train_loss)\n",
    "        # Validate One Epoch\n",
    "        val_loss, overall_mean_fbeta_score = validate_one_epoch(\n",
    "            model=model, \n",
    "            val_loader=val_loader, \n",
    "            criterion=criterion, \n",
    "            device=device, \n",
    "            epoch=epoch, \n",
    "            calculate_dice_interval=calculate_dice_interval\n",
    "        )\n",
    "\n",
    "        \n",
    "        print(f\"Training Loss: {train_loss:.4f}, Validation Loss: {val_loss:.4f}, Validation F-beta: {overall_mean_fbeta_score:.4f}\")\n",
    "\n",
    "        if val_loss < best_val_loss and overall_mean_fbeta_score > best_val_fbeta_score:\n",
    "            best_val_loss = val_loss\n",
    "            best_val_fbeta_score = overall_mean_fbeta_score\n",
    "            epochs_no_improve = 0\n",
    "            checkpoint_path = os.path.join(checkpoint_dir, 'best_model.pt')\n",
    "            torch.save({\n",
    "                'epoch': epoch + 1,\n",
    "                'model_state_dict': model.state_dict(),\n",
    "                'optimizer_state_dict': optimizer.state_dict(),\n",
    "                'best_val_loss': best_val_loss,\n",
    "                'best_val_fbeta_score': best_val_fbeta_score\n",
    "            }, checkpoint_path)\n",
    "            print(f\"========================================================\")\n",
    "            print(f\"SUPER Best model saved. Loss:{best_val_loss:.4f}, Score:{best_val_fbeta_score:.4f}\")\n",
    "            print(f\"========================================================\")\n",
    "\n",
    "        # Early stopping 조건 체크\n",
    "        if val_loss >= best_val_loss and overall_mean_fbeta_score <= best_val_fbeta_score:\n",
    "            epochs_no_improve += 1\n",
    "        else:\n",
    "            epochs_no_improve = 0\n",
    "\n",
    "        if epochs_no_improve >= patience:\n",
    "            print(\"Early stopping\")\n",
    "            checkpoint_path = os.path.join(checkpoint_dir, 'last.pt')\n",
    "            torch.save({\n",
    "                'epoch': epoch + 1,\n",
    "                'model_state_dict': model.state_dict(),\n",
    "                'optimizer_state_dict': optimizer.state_dict(),\n",
    "                'best_val_loss': best_val_loss,\n",
    "                'best_val_fbeta_score': best_val_fbeta_score\n",
    "            }, checkpoint_path)\n",
    "            break\n",
    "        if epochs_no_improve%6 == 0:\n",
    "            # 손실이 개선되지 않았으므로 lambda 감소\n",
    "            new_lamda = max(criterion.lamda - 0.01, 0.35)  # 최소값은 0.1로 설정\n",
    "            criterion.set_lamda(new_lamda)\n",
    "            print(f\"Validation loss did not improve. Reducing lambda to {new_lamda:.4f}\")\n",
    "\n",
    "    wandb.finish()\n"
   ]
  },
  {
   "cell_type": "code",
   "execution_count": 11,
   "metadata": {},
   "outputs": [
    {
     "name": "stdout",
     "output_type": "stream",
     "text": [
      "Epoch 32/4000\n"
     ]
    },
    {
     "name": "stderr",
     "output_type": "stream",
     "text": [
      "Training:   0%|          | 0/696 [00:00<?, ?it/s]c:\\ProgramData\\anaconda3\\envs\\ship\\Lib\\site-packages\\torch\\utils\\checkpoint.py:1399: FutureWarning: `torch.cpu.amp.autocast(args...)` is deprecated. Please use `torch.amp.autocast('cpu', args...)` instead.\n",
      "  with device_autocast_ctx, torch.cpu.amp.autocast(**cpu_autocast_kwargs), recompute_context:  # type: ignore[attr-defined]\n",
      "Training: 100%|██████████| 696/696 [12:56<00:00,  1.12s/it, loss=0.311]\n",
      "Validation: 100%|██████████| 12/12 [00:05<00:00,  2.12it/s, loss=0.401]\n"
     ]
    },
    {
     "name": "stdout",
     "output_type": "stream",
     "text": [
      "Validation Dice Score\n",
      "Class 0: 0.9897, Class 1: 0.6125, Class 2: 0.0824, Class 3: 0.2307, Class 4: 0.6816, Class 5: 0.3723, Class 6: 0.5436, \n",
      "Validation F-beta Score\n",
      "Class 0: 0.9906, Class 1: 0.6572, Class 2: 0.0867, Class 3: 0.2404, Class 4: 0.6373, Class 5: 0.3871, Class 6: 0.6323, \n",
      "\n",
      "Overall Mean Dice Score: 0.4882\n",
      "Overall Mean F-beta Score: 0.5108\n",
      "\n",
      "Training Loss: 0.3099, Validation Loss: 0.3447, Validation F-beta: 0.5108\n",
      "Epoch 33/4000\n"
     ]
    },
    {
     "name": "stderr",
     "output_type": "stream",
     "text": [
      "Training: 100%|██████████| 696/696 [14:31<00:00,  1.25s/it, loss=0.341]\n",
      "Validation: 100%|██████████| 12/12 [00:05<00:00,  2.12it/s, loss=0.279]\n"
     ]
    },
    {
     "name": "stdout",
     "output_type": "stream",
     "text": [
      "Validation Dice Score\n",
      "Class 0: 0.9905, Class 1: 0.6668, Class 2: 0.1846, Class 3: 0.4980, Class 4: 0.6712, Class 5: 0.3666, Class 6: 0.9279, \n",
      "Validation F-beta Score\n",
      "Class 0: 0.9885, Class 1: 0.7130, Class 2: 0.1691, Class 3: 0.5477, Class 4: 0.7575, Class 5: 0.4113, Class 6: 0.9486, \n",
      "\n",
      "Overall Mean Dice Score: 0.6261\n",
      "Overall Mean F-beta Score: 0.6756\n",
      "\n",
      "Training Loss: 0.3110, Validation Loss: 0.2967, Validation F-beta: 0.6756\n",
      "Epoch 34/4000\n"
     ]
    },
    {
     "name": "stderr",
     "output_type": "stream",
     "text": [
      "Training: 100%|██████████| 696/696 [14:32<00:00,  1.25s/it, loss=0.326]\n",
      "Validation: 100%|██████████| 12/12 [00:05<00:00,  2.14it/s, loss=0.31] \n"
     ]
    },
    {
     "name": "stdout",
     "output_type": "stream",
     "text": [
      "Validation Dice Score\n",
      "Class 0: 0.9912, Class 1: 0.5044, Class 2: 0.1660, Class 3: 0.3040, Class 4: 0.6207, Class 5: 0.5441, Class 6: 0.6814, \n",
      "Validation F-beta Score\n",
      "Class 0: 0.9911, Class 1: 0.7390, Class 2: 0.1677, Class 3: 0.3256, Class 4: 0.6406, Class 5: 0.5248, Class 6: 0.6831, \n",
      "\n",
      "Overall Mean Dice Score: 0.5309\n",
      "Overall Mean F-beta Score: 0.5826\n",
      "\n",
      "Training Loss: 0.3091, Validation Loss: 0.3071, Validation F-beta: 0.5826\n",
      "Epoch 35/4000\n"
     ]
    },
    {
     "name": "stderr",
     "output_type": "stream",
     "text": [
      "Training: 100%|██████████| 696/696 [14:28<00:00,  1.25s/it, loss=0.356]\n",
      "Validation: 100%|██████████| 12/12 [00:05<00:00,  2.23it/s, loss=0.392]\n"
     ]
    },
    {
     "name": "stdout",
     "output_type": "stream",
     "text": [
      "Validation Dice Score\n",
      "Class 0: 0.9915, Class 1: 0.5078, Class 2: 0.0470, Class 3: 0.3572, Class 4: 0.4593, Class 5: 0.4470, Class 6: 0.3836, \n",
      "Validation F-beta Score\n",
      "Class 0: 0.9915, Class 1: 0.5410, Class 2: 0.0438, Class 3: 0.4229, Class 4: 0.5047, Class 5: 0.5123, Class 6: 0.4760, \n",
      "\n",
      "Overall Mean Dice Score: 0.4310\n",
      "Overall Mean F-beta Score: 0.4914\n",
      "\n",
      "Training Loss: 0.3121, Validation Loss: 0.3407, Validation F-beta: 0.4914\n",
      "Epoch 36/4000\n"
     ]
    },
    {
     "name": "stderr",
     "output_type": "stream",
     "text": [
      "Training: 100%|██████████| 696/696 [14:31<00:00,  1.25s/it, loss=0.326]\n",
      "Validation: 100%|██████████| 12/12 [00:05<00:00,  2.14it/s, loss=0.204]\n"
     ]
    },
    {
     "name": "stdout",
     "output_type": "stream",
     "text": [
      "Validation Dice Score\n",
      "Class 0: 0.9912, Class 1: 0.4980, Class 2: 0.2081, Class 3: 0.3978, Class 4: 0.5992, Class 5: 0.4370, Class 6: 0.4731, \n",
      "Validation F-beta Score\n",
      "Class 0: 0.9902, Class 1: 0.6756, Class 2: 0.1917, Class 3: 0.4854, Class 4: 0.6272, Class 5: 0.4528, Class 6: 0.6224, \n",
      "\n",
      "Overall Mean Dice Score: 0.4810\n",
      "Overall Mean F-beta Score: 0.5727\n",
      "\n",
      "Training Loss: 0.3063, Validation Loss: 0.3238, Validation F-beta: 0.5727\n",
      "Epoch 37/4000\n"
     ]
    },
    {
     "name": "stderr",
     "output_type": "stream",
     "text": [
      "Training: 100%|██████████| 696/696 [14:31<00:00,  1.25s/it, loss=0.395]\n",
      "Validation: 100%|██████████| 12/12 [00:05<00:00,  2.13it/s, loss=0.262]\n"
     ]
    },
    {
     "name": "stdout",
     "output_type": "stream",
     "text": [
      "Validation Dice Score\n",
      "Class 0: 0.9912, Class 1: 0.8040, Class 2: 0.1109, Class 3: 0.4763, Class 4: 0.6611, Class 5: 0.5247, Class 6: 0.6283, \n",
      "Validation F-beta Score\n",
      "Class 0: 0.9899, Class 1: 0.8616, Class 2: 0.1317, Class 3: 0.5239, Class 4: 0.6931, Class 5: 0.5664, Class 6: 0.6732, \n",
      "\n",
      "Overall Mean Dice Score: 0.6189\n",
      "Overall Mean F-beta Score: 0.6636\n",
      "\n",
      "Training Loss: 0.3082, Validation Loss: 0.2943, Validation F-beta: 0.6636\n",
      "Epoch 38/4000\n"
     ]
    },
    {
     "name": "stderr",
     "output_type": "stream",
     "text": [
      "Training: 100%|██████████| 696/696 [14:29<00:00,  1.25s/it, loss=0.314]\n",
      "Validation: 100%|██████████| 12/12 [00:05<00:00,  2.14it/s, loss=0.375]\n"
     ]
    },
    {
     "name": "stdout",
     "output_type": "stream",
     "text": [
      "Validation Dice Score\n",
      "Class 0: 0.9915, Class 1: 0.6766, Class 2: 0.1682, Class 3: 0.4194, Class 4: 0.6346, Class 5: 0.3533, Class 6: 0.6050, \n",
      "Validation F-beta Score\n",
      "Class 0: 0.9934, Class 1: 0.7426, Class 2: 0.1651, Class 3: 0.4371, Class 4: 0.5524, Class 5: 0.3941, Class 6: 0.6298, \n",
      "\n",
      "Overall Mean Dice Score: 0.5378\n",
      "Overall Mean F-beta Score: 0.5512\n",
      "\n",
      "Training Loss: 0.3097, Validation Loss: 0.3225, Validation F-beta: 0.5512\n",
      "Epoch 39/4000\n"
     ]
    },
    {
     "name": "stderr",
     "output_type": "stream",
     "text": [
      "Training: 100%|██████████| 696/696 [14:31<00:00,  1.25s/it, loss=0.381]\n",
      "Validation: 100%|██████████| 12/12 [00:05<00:00,  2.14it/s, loss=0.303]\n"
     ]
    },
    {
     "name": "stdout",
     "output_type": "stream",
     "text": [
      "Validation Dice Score\n",
      "Class 0: 0.9910, Class 1: 0.6889, Class 2: 0.2484, Class 3: 0.3228, Class 4: 0.6312, Class 5: 0.5181, Class 6: 0.6793, \n",
      "Validation F-beta Score\n",
      "Class 0: 0.9911, Class 1: 0.8142, Class 2: 0.3037, Class 3: 0.3524, Class 4: 0.6400, Class 5: 0.5182, Class 6: 0.6855, \n",
      "\n",
      "Overall Mean Dice Score: 0.5681\n",
      "Overall Mean F-beta Score: 0.6021\n",
      "\n",
      "Training Loss: 0.3080, Validation Loss: 0.3089, Validation F-beta: 0.6021\n",
      "Epoch 40/4000\n"
     ]
    },
    {
     "name": "stderr",
     "output_type": "stream",
     "text": [
      "Training: 100%|██████████| 696/696 [14:31<00:00,  1.25s/it, loss=0.333]\n",
      "Validation: 100%|██████████| 12/12 [00:05<00:00,  2.16it/s, loss=0.291]\n"
     ]
    },
    {
     "name": "stdout",
     "output_type": "stream",
     "text": [
      "Validation Dice Score\n",
      "Class 0: 0.9916, Class 1: 0.5021, Class 2: 0.1798, Class 3: 0.4768, Class 4: 0.5458, Class 5: 0.4402, Class 6: 0.4164, \n",
      "Validation F-beta Score\n",
      "Class 0: 0.9921, Class 1: 0.6215, Class 2: 0.1508, Class 3: 0.5081, Class 4: 0.6053, Class 5: 0.4634, Class 6: 0.4072, \n",
      "\n",
      "Overall Mean Dice Score: 0.4763\n",
      "Overall Mean F-beta Score: 0.5211\n",
      "\n",
      "Training Loss: 0.3060, Validation Loss: 0.3223, Validation F-beta: 0.5211\n",
      "Epoch 41/4000\n"
     ]
    },
    {
     "name": "stderr",
     "output_type": "stream",
     "text": [
      "Training: 100%|██████████| 696/696 [14:30<00:00,  1.25s/it, loss=0.346]\n",
      "Validation: 100%|██████████| 12/12 [00:05<00:00,  2.17it/s, loss=0.342]\n"
     ]
    },
    {
     "name": "stdout",
     "output_type": "stream",
     "text": [
      "Validation Dice Score\n",
      "Class 0: 0.9936, Class 1: 0.6302, Class 2: 0.0422, Class 3: 0.3616, Class 4: 0.5668, Class 5: 0.4635, Class 6: 0.6350, \n",
      "Validation F-beta Score\n",
      "Class 0: 0.9927, Class 1: 0.6593, Class 2: 0.0389, Class 3: 0.3635, Class 4: 0.5584, Class 5: 0.5757, Class 6: 0.6719, \n",
      "\n",
      "Overall Mean Dice Score: 0.5314\n",
      "Overall Mean F-beta Score: 0.5658\n",
      "\n",
      "Training Loss: 0.3093, Validation Loss: 0.3185, Validation F-beta: 0.5658\n",
      "Epoch 42/4000\n"
     ]
    },
    {
     "name": "stderr",
     "output_type": "stream",
     "text": [
      "Training: 100%|██████████| 696/696 [14:30<00:00,  1.25s/it, loss=0.355]\n",
      "Validation: 100%|██████████| 12/12 [00:05<00:00,  2.13it/s, loss=0.368]\n"
     ]
    },
    {
     "name": "stdout",
     "output_type": "stream",
     "text": [
      "Validation Dice Score\n",
      "Class 0: 0.9924, Class 1: 0.5763, Class 2: 0.1796, Class 3: 0.3544, Class 4: 0.6110, Class 5: 0.4933, Class 6: 0.5866, \n",
      "Validation F-beta Score\n",
      "Class 0: 0.9921, Class 1: 0.6484, Class 2: 0.2443, Class 3: 0.4187, Class 4: 0.6173, Class 5: 0.5267, Class 6: 0.6243, \n",
      "\n",
      "Overall Mean Dice Score: 0.5243\n",
      "Overall Mean F-beta Score: 0.5671\n",
      "\n",
      "Training Loss: 0.3110, Validation Loss: 0.3131, Validation F-beta: 0.5671\n",
      "Epoch 43/4000\n"
     ]
    },
    {
     "name": "stderr",
     "output_type": "stream",
     "text": [
      "Training: 100%|██████████| 696/696 [14:31<00:00,  1.25s/it, loss=0.336]\n",
      "Validation: 100%|██████████| 12/12 [00:05<00:00,  2.14it/s, loss=0.38] \n"
     ]
    },
    {
     "name": "stdout",
     "output_type": "stream",
     "text": [
      "Validation Dice Score\n",
      "Class 0: 0.9925, Class 1: 0.6748, Class 2: 0.0832, Class 3: 0.3864, Class 4: 0.6501, Class 5: 0.3707, Class 6: 0.6988, \n",
      "Validation F-beta Score\n",
      "Class 0: 0.9920, Class 1: 0.7235, Class 2: 0.0931, Class 3: 0.4577, Class 4: 0.6432, Class 5: 0.3827, Class 6: 0.6825, \n",
      "\n",
      "Overall Mean Dice Score: 0.5562\n",
      "Overall Mean F-beta Score: 0.5779\n",
      "\n",
      "Training Loss: 0.3061, Validation Loss: 0.3007, Validation F-beta: 0.5779\n",
      "Epoch 44/4000\n"
     ]
    },
    {
     "name": "stderr",
     "output_type": "stream",
     "text": [
      "Training: 100%|██████████| 696/696 [14:31<00:00,  1.25s/it, loss=0.304]\n",
      "Validation: 100%|██████████| 12/12 [00:05<00:00,  2.14it/s, loss=0.29] \n"
     ]
    },
    {
     "name": "stdout",
     "output_type": "stream",
     "text": [
      "Validation Dice Score\n",
      "Class 0: 0.9907, Class 1: 0.6609, Class 2: 0.2181, Class 3: 0.3340, Class 4: 0.7057, Class 5: 0.3668, Class 6: 0.7752, \n",
      "Validation F-beta Score\n",
      "Class 0: 0.9905, Class 1: 0.7140, Class 2: 0.2519, Class 3: 0.4110, Class 4: 0.7634, Class 5: 0.3542, Class 6: 0.8032, \n",
      "\n",
      "Overall Mean Dice Score: 0.5685\n",
      "Overall Mean F-beta Score: 0.6092\n",
      "\n",
      "Training Loss: 0.3056, Validation Loss: 0.2979, Validation F-beta: 0.6092\n",
      "Epoch 45/4000\n"
     ]
    },
    {
     "name": "stderr",
     "output_type": "stream",
     "text": [
      "Training: 100%|██████████| 696/696 [14:31<00:00,  1.25s/it, loss=0.328]\n",
      "Validation: 100%|██████████| 12/12 [00:05<00:00,  2.17it/s, loss=0.286]\n"
     ]
    },
    {
     "name": "stdout",
     "output_type": "stream",
     "text": [
      "Validation Dice Score\n",
      "Class 0: 0.9917, Class 1: 0.3699, Class 2: 0.1003, Class 3: 0.4410, Class 4: 0.6309, Class 5: 0.4852, Class 6: 0.6270, \n",
      "Validation F-beta Score\n",
      "Class 0: 0.9923, Class 1: 0.4084, Class 2: 0.1577, Class 3: 0.5626, Class 4: 0.7762, Class 5: 0.5073, Class 6: 0.7346, \n",
      "\n",
      "Overall Mean Dice Score: 0.5108\n",
      "Overall Mean F-beta Score: 0.5978\n",
      "\n",
      "Training Loss: 0.3059, Validation Loss: 0.3214, Validation F-beta: 0.5978\n",
      "Epoch 46/4000\n"
     ]
    },
    {
     "name": "stderr",
     "output_type": "stream",
     "text": [
      "Training: 100%|██████████| 696/696 [14:30<00:00,  1.25s/it, loss=0.264]\n",
      "Validation: 100%|██████████| 12/12 [00:05<00:00,  2.13it/s, loss=0.359]\n"
     ]
    },
    {
     "name": "stdout",
     "output_type": "stream",
     "text": [
      "Validation Dice Score\n",
      "Class 0: 0.9911, Class 1: 0.6016, Class 2: 0.1019, Class 3: 0.3067, Class 4: 0.4755, Class 5: 0.4281, Class 6: 0.6006, \n",
      "Validation F-beta Score\n",
      "Class 0: 0.9918, Class 1: 0.6213, Class 2: 0.1178, Class 3: 0.4275, Class 4: 0.4927, Class 5: 0.4359, Class 6: 0.6493, \n",
      "\n",
      "Overall Mean Dice Score: 0.4825\n",
      "Overall Mean F-beta Score: 0.5253\n",
      "\n",
      "Training Loss: 0.3020, Validation Loss: 0.3424, Validation F-beta: 0.5253\n",
      "Epoch 47/4000\n"
     ]
    },
    {
     "name": "stderr",
     "output_type": "stream",
     "text": [
      "Training: 100%|██████████| 696/696 [14:29<00:00,  1.25s/it, loss=0.257]\n",
      "Validation: 100%|██████████| 12/12 [00:05<00:00,  2.22it/s, loss=0.258]\n"
     ]
    },
    {
     "name": "stdout",
     "output_type": "stream",
     "text": [
      "Validation Dice Score\n",
      "Class 0: 0.9909, Class 1: 0.6184, Class 2: 0.2176, Class 3: 0.3738, Class 4: 0.6367, Class 5: 0.4586, Class 6: 0.6070, \n",
      "Validation F-beta Score\n",
      "Class 0: 0.9893, Class 1: 0.6837, Class 2: 0.2179, Class 3: 0.3982, Class 4: 0.6402, Class 5: 0.5500, Class 6: 0.6517, \n",
      "\n",
      "Overall Mean Dice Score: 0.5389\n",
      "Overall Mean F-beta Score: 0.5848\n",
      "\n",
      "Training Loss: 0.3034, Validation Loss: 0.3028, Validation F-beta: 0.5848\n",
      "Epoch 48/4000\n"
     ]
    },
    {
     "name": "stderr",
     "output_type": "stream",
     "text": [
      "Training: 100%|██████████| 696/696 [14:31<00:00,  1.25s/it, loss=0.272]\n",
      "Validation: 100%|██████████| 12/12 [00:05<00:00,  2.09it/s, loss=0.256]\n"
     ]
    },
    {
     "name": "stdout",
     "output_type": "stream",
     "text": [
      "Validation Dice Score\n",
      "Class 0: 0.9914, Class 1: 0.5474, Class 2: 0.1546, Class 3: 0.2956, Class 4: 0.7946, Class 5: 0.5051, Class 6: 0.6974, \n",
      "Validation F-beta Score\n",
      "Class 0: 0.9915, Class 1: 0.5893, Class 2: 0.1667, Class 3: 0.3093, Class 4: 0.8175, Class 5: 0.5085, Class 6: 0.8779, \n",
      "\n",
      "Overall Mean Dice Score: 0.5680\n",
      "Overall Mean F-beta Score: 0.6205\n",
      "\n",
      "Training Loss: 0.3048, Validation Loss: 0.3131, Validation F-beta: 0.6205\n",
      "Epoch 49/4000\n"
     ]
    },
    {
     "name": "stderr",
     "output_type": "stream",
     "text": [
      "Training: 100%|██████████| 696/696 [14:31<00:00,  1.25s/it, loss=0.259]\n",
      "Validation: 100%|██████████| 12/12 [00:05<00:00,  2.08it/s, loss=0.192]\n"
     ]
    },
    {
     "name": "stdout",
     "output_type": "stream",
     "text": [
      "Validation Dice Score\n",
      "Class 0: 0.9913, Class 1: 0.6837, Class 2: 0.1782, Class 3: 0.4956, Class 4: 0.5687, Class 5: 0.3949, Class 6: 0.6830, \n",
      "Validation F-beta Score\n",
      "Class 0: 0.9919, Class 1: 0.9141, Class 2: 0.1982, Class 3: 0.5037, Class 4: 0.5588, Class 5: 0.3863, Class 6: 0.8610, \n",
      "\n",
      "Overall Mean Dice Score: 0.5652\n",
      "Overall Mean F-beta Score: 0.6448\n",
      "\n",
      "Training Loss: 0.3093, Validation Loss: 0.2960, Validation F-beta: 0.6448\n",
      "Epoch 50/4000\n"
     ]
    },
    {
     "name": "stderr",
     "output_type": "stream",
     "text": [
      "Training: 100%|██████████| 696/696 [14:32<00:00,  1.25s/it, loss=0.305]\n",
      "Validation: 100%|██████████| 12/12 [00:05<00:00,  2.12it/s, loss=0.308]\n"
     ]
    },
    {
     "name": "stdout",
     "output_type": "stream",
     "text": [
      "Validation Dice Score\n",
      "Class 0: 0.9931, Class 1: 0.5827, Class 2: 0.2226, Class 3: 0.4689, Class 4: 0.6534, Class 5: 0.4092, Class 6: 0.7607, \n",
      "Validation F-beta Score\n",
      "Class 0: 0.9911, Class 1: 0.5722, Class 2: 0.3093, Class 3: 0.5840, Class 4: 0.7041, Class 5: 0.4357, Class 6: 0.8726, \n",
      "\n",
      "Overall Mean Dice Score: 0.5750\n",
      "Overall Mean F-beta Score: 0.6337\n",
      "\n",
      "Training Loss: 0.3016, Validation Loss: 0.2921, Validation F-beta: 0.6337\n",
      "Epoch 51/4000\n"
     ]
    },
    {
     "name": "stderr",
     "output_type": "stream",
     "text": [
      "Training: 100%|██████████| 696/696 [14:30<00:00,  1.25s/it, loss=0.316]\n",
      "Validation: 100%|██████████| 12/12 [00:05<00:00,  2.11it/s, loss=0.334]\n"
     ]
    },
    {
     "name": "stdout",
     "output_type": "stream",
     "text": [
      "Validation Dice Score\n",
      "Class 0: 0.9914, Class 1: 0.5437, Class 2: 0.2101, Class 3: 0.2361, Class 4: 0.5423, Class 5: 0.4944, Class 6: 0.6697, \n",
      "Validation F-beta Score\n",
      "Class 0: 0.9907, Class 1: 0.6314, Class 2: 0.2418, Class 3: 0.3079, Class 4: 0.6480, Class 5: 0.5431, Class 6: 0.7114, \n",
      "\n",
      "Overall Mean Dice Score: 0.4972\n",
      "Overall Mean F-beta Score: 0.5683\n",
      "\n",
      "Training Loss: 0.3031, Validation Loss: 0.3285, Validation F-beta: 0.5683\n",
      "Epoch 52/4000\n"
     ]
    },
    {
     "name": "stderr",
     "output_type": "stream",
     "text": [
      "Training: 100%|██████████| 696/696 [14:33<00:00,  1.26s/it, loss=0.325]\n",
      "Validation: 100%|██████████| 12/12 [00:05<00:00,  2.12it/s, loss=0.365]\n"
     ]
    },
    {
     "name": "stdout",
     "output_type": "stream",
     "text": [
      "Validation Dice Score\n",
      "Class 0: 0.9913, Class 1: 0.6992, Class 2: 0.1478, Class 3: 0.2700, Class 4: 0.7546, Class 5: 0.2926, Class 6: 0.6400, \n",
      "Validation F-beta Score\n",
      "Class 0: 0.9913, Class 1: 0.7672, Class 2: 0.1648, Class 3: 0.3096, Class 4: 0.7572, Class 5: 0.2835, Class 6: 0.8650, \n",
      "\n",
      "Overall Mean Dice Score: 0.5313\n",
      "Overall Mean F-beta Score: 0.5965\n",
      "\n",
      "Training Loss: 0.3031, Validation Loss: 0.3200, Validation F-beta: 0.5965\n",
      "Epoch 53/4000\n"
     ]
    },
    {
     "name": "stderr",
     "output_type": "stream",
     "text": [
      "Training: 100%|██████████| 696/696 [14:31<00:00,  1.25s/it, loss=0.32] \n",
      "Validation: 100%|██████████| 12/12 [00:05<00:00,  2.19it/s, loss=0.392]\n"
     ]
    },
    {
     "name": "stdout",
     "output_type": "stream",
     "text": [
      "Validation Dice Score\n",
      "Class 0: 0.9911, Class 1: 0.7623, Class 2: 0.1383, Class 3: 0.3337, Class 4: 0.4867, Class 5: 0.4912, Class 6: 0.6713, \n",
      "Validation F-beta Score\n",
      "Class 0: 0.9902, Class 1: 0.8224, Class 2: 0.1339, Class 3: 0.3123, Class 4: 0.4742, Class 5: 0.6115, Class 6: 0.7092, \n",
      "\n",
      "Overall Mean Dice Score: 0.5491\n",
      "Overall Mean F-beta Score: 0.5859\n",
      "\n",
      "Training Loss: 0.3001, Validation Loss: 0.3027, Validation F-beta: 0.5859\n",
      "Epoch 54/4000\n"
     ]
    },
    {
     "name": "stderr",
     "output_type": "stream",
     "text": [
      "Training: 100%|██████████| 696/696 [14:31<00:00,  1.25s/it, loss=0.238]\n",
      "Validation: 100%|██████████| 12/12 [00:05<00:00,  2.14it/s, loss=0.293]\n"
     ]
    },
    {
     "name": "stdout",
     "output_type": "stream",
     "text": [
      "Validation Dice Score\n",
      "Class 0: 0.9912, Class 1: 0.6288, Class 2: 0.1911, Class 3: 0.4195, Class 4: 0.5843, Class 5: 0.4989, Class 6: 0.6826, \n",
      "Validation F-beta Score\n",
      "Class 0: 0.9930, Class 1: 0.7554, Class 2: 0.1940, Class 3: 0.4427, Class 4: 0.5340, Class 5: 0.5423, Class 6: 0.6647, \n",
      "\n",
      "Overall Mean Dice Score: 0.5628\n",
      "Overall Mean F-beta Score: 0.5878\n",
      "\n",
      "Training Loss: 0.3013, Validation Loss: 0.2948, Validation F-beta: 0.5878\n",
      "Epoch 55/4000\n"
     ]
    },
    {
     "name": "stderr",
     "output_type": "stream",
     "text": [
      "Training: 100%|██████████| 696/696 [14:31<00:00,  1.25s/it, loss=0.264]\n",
      "Validation: 100%|██████████| 12/12 [00:05<00:00,  2.15it/s, loss=0.292]\n"
     ]
    },
    {
     "name": "stdout",
     "output_type": "stream",
     "text": [
      "Validation Dice Score\n",
      "Class 0: 0.9929, Class 1: 0.5716, Class 2: 0.2141, Class 3: 0.4107, Class 4: 0.7518, Class 5: 0.4122, Class 6: 0.3990, \n",
      "Validation F-beta Score\n",
      "Class 0: 0.9924, Class 1: 0.6732, Class 2: 0.1993, Class 3: 0.4432, Class 4: 0.7745, Class 5: 0.4500, Class 6: 0.5411, \n",
      "\n",
      "Overall Mean Dice Score: 0.5090\n",
      "Overall Mean F-beta Score: 0.5764\n",
      "\n",
      "Training Loss: 0.3023, Validation Loss: 0.3263, Validation F-beta: 0.5764\n",
      "Epoch 56/4000\n"
     ]
    },
    {
     "name": "stderr",
     "output_type": "stream",
     "text": [
      "Training: 100%|██████████| 696/696 [14:31<00:00,  1.25s/it, loss=0.241]\n",
      "Validation: 100%|██████████| 12/12 [00:05<00:00,  2.11it/s, loss=0.194]\n"
     ]
    },
    {
     "name": "stdout",
     "output_type": "stream",
     "text": [
      "Validation Dice Score\n",
      "Class 0: 0.9935, Class 1: 0.6717, Class 2: 0.1870, Class 3: 0.4557, Class 4: 0.6193, Class 5: 0.5282, Class 6: 0.6958, \n",
      "Validation F-beta Score\n",
      "Class 0: 0.9935, Class 1: 0.7710, Class 2: 0.2035, Class 3: 0.4931, Class 4: 0.6076, Class 5: 0.5382, Class 6: 0.8030, \n",
      "\n",
      "Overall Mean Dice Score: 0.5941\n",
      "Overall Mean F-beta Score: 0.6426\n",
      "\n",
      "Training Loss: 0.3023, Validation Loss: 0.2855, Validation F-beta: 0.6426\n",
      "========================================================\n",
      "SUPER Best model saved. Loss:0.2855, Score:0.6426\n",
      "========================================================\n",
      "Epoch 57/4000\n"
     ]
    },
    {
     "name": "stderr",
     "output_type": "stream",
     "text": [
      "Training: 100%|██████████| 696/696 [14:36<00:00,  1.26s/it, loss=0.255]\n",
      "Validation: 100%|██████████| 12/12 [00:05<00:00,  2.14it/s, loss=0.326]\n"
     ]
    },
    {
     "name": "stdout",
     "output_type": "stream",
     "text": [
      "Validation Dice Score\n",
      "Class 0: 0.9910, Class 1: 0.7191, Class 2: 0.2075, Class 3: 0.3530, Class 4: 0.5891, Class 5: 0.4323, Class 6: 0.6898, \n",
      "Validation F-beta Score\n",
      "Class 0: 0.9898, Class 1: 0.8475, Class 2: 0.2082, Class 3: 0.4338, Class 4: 0.6617, Class 5: 0.4762, Class 6: 0.7249, \n",
      "\n",
      "Overall Mean Dice Score: 0.5567\n",
      "Overall Mean F-beta Score: 0.6288\n",
      "\n",
      "Training Loss: 0.2989, Validation Loss: 0.3040, Validation F-beta: 0.6288\n",
      "Epoch 58/4000\n"
     ]
    },
    {
     "name": "stderr",
     "output_type": "stream",
     "text": [
      "Training: 100%|██████████| 696/696 [14:31<00:00,  1.25s/it, loss=0.309]\n",
      "Validation: 100%|██████████| 12/12 [00:05<00:00,  2.16it/s, loss=0.29] \n"
     ]
    },
    {
     "name": "stdout",
     "output_type": "stream",
     "text": [
      "Validation Dice Score\n",
      "Class 0: 0.9923, Class 1: 0.6700, Class 2: 0.2162, Class 3: 0.3193, Class 4: 0.7625, Class 5: 0.4179, Class 6: 0.8520, \n",
      "Validation F-beta Score\n",
      "Class 0: 0.9922, Class 1: 0.7536, Class 2: 0.1904, Class 3: 0.3972, Class 4: 0.7554, Class 5: 0.4162, Class 6: 0.8626, \n",
      "\n",
      "Overall Mean Dice Score: 0.6043\n",
      "Overall Mean F-beta Score: 0.6370\n",
      "\n",
      "Training Loss: 0.3008, Validation Loss: 0.2798, Validation F-beta: 0.6370\n",
      "Epoch 59/4000\n"
     ]
    },
    {
     "name": "stderr",
     "output_type": "stream",
     "text": [
      "Training: 100%|██████████| 696/696 [14:33<00:00,  1.25s/it, loss=0.282]\n",
      "Validation: 100%|██████████| 12/12 [00:05<00:00,  2.14it/s, loss=0.273]\n"
     ]
    },
    {
     "name": "stdout",
     "output_type": "stream",
     "text": [
      "Validation Dice Score\n",
      "Class 0: 0.9917, Class 1: 0.6332, Class 2: 0.1650, Class 3: 0.3452, Class 4: 0.6264, Class 5: 0.4441, Class 6: 0.7849, \n",
      "Validation F-beta Score\n",
      "Class 0: 0.9924, Class 1: 0.6781, Class 2: 0.1878, Class 3: 0.4658, Class 4: 0.6075, Class 5: 0.4603, Class 6: 0.7878, \n",
      "\n",
      "Overall Mean Dice Score: 0.5668\n",
      "Overall Mean F-beta Score: 0.5999\n",
      "\n",
      "Training Loss: 0.2995, Validation Loss: 0.3096, Validation F-beta: 0.5999\n",
      "Epoch 60/4000\n"
     ]
    },
    {
     "name": "stderr",
     "output_type": "stream",
     "text": [
      "Training: 100%|██████████| 696/696 [14:32<00:00,  1.25s/it, loss=0.285]\n",
      "Validation: 100%|██████████| 12/12 [00:05<00:00,  2.16it/s, loss=0.287]\n"
     ]
    },
    {
     "name": "stdout",
     "output_type": "stream",
     "text": [
      "Validation Dice Score\n",
      "Class 0: 0.9915, Class 1: 0.6279, Class 2: 0.2059, Class 3: 0.3914, Class 4: 0.6962, Class 5: 0.4538, Class 6: 0.6936, \n",
      "Validation F-beta Score\n",
      "Class 0: 0.9928, Class 1: 0.6478, Class 2: 0.2408, Class 3: 0.3502, Class 4: 0.7060, Class 5: 0.4454, Class 6: 0.6936, \n",
      "\n",
      "Overall Mean Dice Score: 0.5726\n",
      "Overall Mean F-beta Score: 0.5686\n",
      "\n",
      "Training Loss: 0.3011, Validation Loss: 0.3053, Validation F-beta: 0.5686\n",
      "Epoch 61/4000\n"
     ]
    },
    {
     "name": "stderr",
     "output_type": "stream",
     "text": [
      "Training: 100%|██████████| 696/696 [14:06<00:00,  1.22s/it, loss=0.363]\n",
      "Validation: 100%|██████████| 12/12 [00:05<00:00,  2.22it/s, loss=0.4]  \n"
     ]
    },
    {
     "name": "stdout",
     "output_type": "stream",
     "text": [
      "Validation Dice Score\n",
      "Class 0: 0.9920, Class 1: 0.7684, Class 2: 0.2533, Class 3: 0.3643, Class 4: 0.6640, Class 5: 0.5071, Class 6: 0.6049, \n",
      "Validation F-beta Score\n",
      "Class 0: 0.9925, Class 1: 0.8161, Class 2: 0.2908, Class 3: 0.4048, Class 4: 0.6312, Class 5: 0.5179, Class 6: 0.8090, \n",
      "\n",
      "Overall Mean Dice Score: 0.5818\n",
      "Overall Mean F-beta Score: 0.6358\n",
      "\n",
      "Training Loss: 0.3009, Validation Loss: 0.2999, Validation F-beta: 0.6358\n",
      "Epoch 62/4000\n"
     ]
    },
    {
     "name": "stderr",
     "output_type": "stream",
     "text": [
      "Training: 100%|██████████| 696/696 [16:25<00:00,  1.42s/it, loss=0.304]\n",
      "Validation: 100%|██████████| 12/12 [00:06<00:00,  1.87it/s, loss=0.312]\n"
     ]
    },
    {
     "name": "stdout",
     "output_type": "stream",
     "text": [
      "Validation Dice Score\n",
      "Class 0: 0.9923, Class 1: 0.6446, Class 2: 0.1518, Class 3: 0.4454, Class 4: 0.8077, Class 5: 0.3919, Class 6: 0.7883, \n",
      "Validation F-beta Score\n",
      "Class 0: 0.9905, Class 1: 0.6830, Class 2: 0.1448, Class 3: 0.5483, Class 4: 0.8704, Class 5: 0.4465, Class 6: 0.8857, \n",
      "\n",
      "Overall Mean Dice Score: 0.6156\n",
      "Overall Mean F-beta Score: 0.6868\n",
      "\n",
      "Training Loss: 0.2958, Validation Loss: 0.2860, Validation F-beta: 0.6868\n",
      "Epoch 63/4000\n"
     ]
    },
    {
     "name": "stderr",
     "output_type": "stream",
     "text": [
      "Training: 100%|██████████| 696/696 [17:01<00:00,  1.47s/it, loss=0.285]\n",
      "Validation: 100%|██████████| 12/12 [00:06<00:00,  1.74it/s, loss=0.325]\n"
     ]
    },
    {
     "name": "stdout",
     "output_type": "stream",
     "text": [
      "Validation Dice Score\n",
      "Class 0: 0.9921, Class 1: 0.6691, Class 2: 0.1289, Class 3: 0.2875, Class 4: 0.6113, Class 5: 0.4477, Class 6: 0.6374, \n",
      "Validation F-beta Score\n",
      "Class 0: 0.9919, Class 1: 0.7633, Class 2: 0.1328, Class 3: 0.2726, Class 4: 0.6266, Class 5: 0.4383, Class 6: 0.7882, \n",
      "\n",
      "Overall Mean Dice Score: 0.5306\n",
      "Overall Mean F-beta Score: 0.5778\n",
      "\n",
      "Training Loss: 0.3002, Validation Loss: 0.3109, Validation F-beta: 0.5778\n",
      "Epoch 64/4000\n"
     ]
    },
    {
     "name": "stderr",
     "output_type": "stream",
     "text": [
      "Training: 100%|██████████| 696/696 [16:34<00:00,  1.43s/it, loss=0.284]\n",
      "Validation: 100%|██████████| 12/12 [00:06<00:00,  1.97it/s, loss=0.403]\n"
     ]
    },
    {
     "name": "stdout",
     "output_type": "stream",
     "text": [
      "Validation Dice Score\n",
      "Class 0: 0.9915, Class 1: 0.7049, Class 2: 0.1590, Class 3: 0.3654, Class 4: 0.5503, Class 5: 0.3718, Class 6: 0.6155, \n",
      "Validation F-beta Score\n",
      "Class 0: 0.9918, Class 1: 0.7341, Class 2: 0.2428, Class 3: 0.4730, Class 4: 0.5587, Class 5: 0.3633, Class 6: 0.7947, \n",
      "\n",
      "Overall Mean Dice Score: 0.5216\n",
      "Overall Mean F-beta Score: 0.5848\n",
      "\n",
      "Training Loss: 0.3013, Validation Loss: 0.3246, Validation F-beta: 0.5848\n",
      "Epoch 65/4000\n"
     ]
    },
    {
     "name": "stderr",
     "output_type": "stream",
     "text": [
      "Training: 100%|██████████| 696/696 [18:08<00:00,  1.56s/it, loss=0.311]\n",
      "Validation: 100%|██████████| 12/12 [00:05<00:00,  2.03it/s, loss=0.298]\n"
     ]
    },
    {
     "name": "stdout",
     "output_type": "stream",
     "text": [
      "Validation Dice Score\n",
      "Class 0: 0.9915, Class 1: 0.7386, Class 2: 0.1155, Class 3: 0.4045, Class 4: 0.5158, Class 5: 0.4732, Class 6: 0.6743, \n",
      "Validation F-beta Score\n",
      "Class 0: 0.9926, Class 1: 0.8379, Class 2: 0.1270, Class 3: 0.4662, Class 4: 0.5182, Class 5: 0.4658, Class 6: 0.6959, \n",
      "\n",
      "Overall Mean Dice Score: 0.5613\n",
      "Overall Mean F-beta Score: 0.5968\n",
      "\n",
      "Training Loss: 0.3002, Validation Loss: 0.3149, Validation F-beta: 0.5968\n",
      "Epoch 66/4000\n"
     ]
    },
    {
     "name": "stderr",
     "output_type": "stream",
     "text": [
      "Training: 100%|██████████| 696/696 [17:14<00:00,  1.49s/it, loss=0.309]\n",
      "Validation: 100%|██████████| 12/12 [00:06<00:00,  1.76it/s, loss=0.366]\n"
     ]
    },
    {
     "name": "stdout",
     "output_type": "stream",
     "text": [
      "Validation Dice Score\n",
      "Class 0: 0.9896, Class 1: 0.6023, Class 2: 0.1917, Class 3: 0.3909, Class 4: 0.6180, Class 5: 0.3394, Class 6: 0.6793, \n",
      "Validation F-beta Score\n",
      "Class 0: 0.9862, Class 1: 0.6809, Class 2: 0.2127, Class 3: 0.4212, Class 4: 0.7185, Class 5: 0.4815, Class 6: 0.7797, \n",
      "\n",
      "Overall Mean Dice Score: 0.5260\n",
      "Overall Mean F-beta Score: 0.6164\n",
      "\n",
      "Training Loss: 0.2998, Validation Loss: 0.3044, Validation F-beta: 0.6164\n",
      "Epoch 67/4000\n"
     ]
    },
    {
     "name": "stderr",
     "output_type": "stream",
     "text": [
      "Training: 100%|██████████| 696/696 [20:49<00:00,  1.80s/it, loss=0.362]\n",
      "Validation: 100%|██████████| 12/12 [00:08<00:00,  1.48it/s, loss=0.362]\n"
     ]
    },
    {
     "name": "stdout",
     "output_type": "stream",
     "text": [
      "Validation Dice Score\n",
      "Class 0: 0.9911, Class 1: 0.6465, Class 2: 0.0570, Class 3: 0.2518, Class 4: 0.6653, Class 5: 0.4192, Class 6: 0.5741, \n",
      "Validation F-beta Score\n",
      "Class 0: 0.9933, Class 1: 0.6596, Class 2: 0.0636, Class 3: 0.2578, Class 4: 0.6297, Class 5: 0.3714, Class 6: 0.5775, \n",
      "\n",
      "Overall Mean Dice Score: 0.5114\n",
      "Overall Mean F-beta Score: 0.4992\n",
      "\n",
      "Training Loss: 0.3005, Validation Loss: 0.3307, Validation F-beta: 0.4992\n",
      "Epoch 68/4000\n"
     ]
    },
    {
     "name": "stderr",
     "output_type": "stream",
     "text": [
      "Training: 100%|██████████| 696/696 [21:02<00:00,  1.81s/it, loss=0.303]\n",
      "Validation: 100%|██████████| 12/12 [00:06<00:00,  1.73it/s, loss=0.222]\n"
     ]
    },
    {
     "name": "stdout",
     "output_type": "stream",
     "text": [
      "Validation Dice Score\n",
      "Class 0: 0.9925, Class 1: 0.4985, Class 2: 0.2133, Class 3: 0.5337, Class 4: 0.7501, Class 5: 0.3707, Class 6: 0.6887, \n",
      "Validation F-beta Score\n",
      "Class 0: 0.9917, Class 1: 0.5689, Class 2: 0.2585, Class 3: 0.5860, Class 4: 0.7973, Class 5: 0.4143, Class 6: 0.7085, \n",
      "\n",
      "Overall Mean Dice Score: 0.5683\n",
      "Overall Mean F-beta Score: 0.6150\n",
      "\n",
      "Training Loss: 0.2998, Validation Loss: 0.3066, Validation F-beta: 0.6150\n",
      "Epoch 69/4000\n"
     ]
    },
    {
     "name": "stderr",
     "output_type": "stream",
     "text": [
      "Training: 100%|██████████| 696/696 [19:35<00:00,  1.69s/it, loss=0.265]\n",
      "Validation: 100%|██████████| 12/12 [00:05<00:00,  2.02it/s, loss=0.227]\n"
     ]
    },
    {
     "name": "stdout",
     "output_type": "stream",
     "text": [
      "Validation Dice Score\n",
      "Class 0: 0.9923, Class 1: 0.7196, Class 2: 0.2040, Class 3: 0.4504, Class 4: 0.6056, Class 5: 0.4806, Class 6: 0.7683, \n",
      "Validation F-beta Score\n",
      "Class 0: 0.9933, Class 1: 0.8485, Class 2: 0.2804, Class 3: 0.5169, Class 4: 0.5798, Class 5: 0.4724, Class 6: 0.8609, \n",
      "\n",
      "Overall Mean Dice Score: 0.6049\n",
      "Overall Mean F-beta Score: 0.6557\n",
      "\n",
      "Training Loss: 0.2957, Validation Loss: 0.2879, Validation F-beta: 0.6557\n",
      "Epoch 70/4000\n"
     ]
    },
    {
     "name": "stderr",
     "output_type": "stream",
     "text": [
      "Training: 100%|██████████| 696/696 [16:52<00:00,  1.45s/it, loss=0.277]\n",
      "Validation: 100%|██████████| 12/12 [00:06<00:00,  1.96it/s, loss=0.356]\n"
     ]
    },
    {
     "name": "stdout",
     "output_type": "stream",
     "text": [
      "Validation Dice Score\n",
      "Class 0: 0.9911, Class 1: 0.7783, Class 2: 0.2584, Class 3: 0.3879, Class 4: 0.5789, Class 5: 0.5147, Class 6: 0.6829, \n",
      "Validation F-beta Score\n",
      "Class 0: 0.9921, Class 1: 0.8645, Class 2: 0.2670, Class 3: 0.4250, Class 4: 0.5894, Class 5: 0.5198, Class 6: 0.6945, \n",
      "\n",
      "Overall Mean Dice Score: 0.5886\n",
      "Overall Mean F-beta Score: 0.6186\n",
      "\n",
      "Training Loss: 0.2927, Validation Loss: 0.2861, Validation F-beta: 0.6186\n",
      "Epoch 71/4000\n"
     ]
    },
    {
     "name": "stderr",
     "output_type": "stream",
     "text": [
      "Training: 100%|██████████| 696/696 [16:37<00:00,  1.43s/it, loss=0.332]\n",
      "Validation: 100%|██████████| 12/12 [00:06<00:00,  1.81it/s, loss=0.234]\n"
     ]
    },
    {
     "name": "stdout",
     "output_type": "stream",
     "text": [
      "Validation Dice Score\n",
      "Class 0: 0.9906, Class 1: 0.7053, Class 2: 0.1286, Class 3: 0.4286, Class 4: 0.5766, Class 5: 0.4568, Class 6: 0.7721, \n",
      "Validation F-beta Score\n",
      "Class 0: 0.9904, Class 1: 0.7549, Class 2: 0.1428, Class 3: 0.5196, Class 4: 0.5938, Class 5: 0.5006, Class 6: 0.7954, \n",
      "\n",
      "Overall Mean Dice Score: 0.5879\n",
      "Overall Mean F-beta Score: 0.6329\n",
      "\n",
      "Training Loss: 0.2926, Validation Loss: 0.2911, Validation F-beta: 0.6329\n",
      "Epoch 72/4000\n"
     ]
    },
    {
     "name": "stderr",
     "output_type": "stream",
     "text": [
      "Training: 100%|██████████| 696/696 [16:57<00:00,  1.46s/it, loss=0.323]\n",
      "Validation: 100%|██████████| 12/12 [00:06<00:00,  1.84it/s, loss=0.294]\n"
     ]
    },
    {
     "name": "stdout",
     "output_type": "stream",
     "text": [
      "Validation Dice Score\n",
      "Class 0: 0.9933, Class 1: 0.6950, Class 2: 0.2401, Class 3: 0.4207, Class 4: 0.6218, Class 5: 0.4007, Class 6: 0.5382, \n",
      "Validation F-beta Score\n",
      "Class 0: 0.9944, Class 1: 0.7071, Class 2: 0.2275, Class 3: 0.4360, Class 4: 0.5812, Class 5: 0.4232, Class 6: 0.7203, \n",
      "\n",
      "Overall Mean Dice Score: 0.5353\n",
      "Overall Mean F-beta Score: 0.5735\n",
      "\n",
      "Training Loss: 0.2948, Validation Loss: 0.3171, Validation F-beta: 0.5735\n",
      "Epoch 73/4000\n"
     ]
    },
    {
     "name": "stderr",
     "output_type": "stream",
     "text": [
      "Training: 100%|██████████| 696/696 [16:41<00:00,  1.44s/it, loss=0.352]\n",
      "Validation: 100%|██████████| 12/12 [00:06<00:00,  1.95it/s, loss=0.29] \n"
     ]
    },
    {
     "name": "stdout",
     "output_type": "stream",
     "text": [
      "Validation Dice Score\n",
      "Class 0: 0.9928, Class 1: 0.6852, Class 2: 0.1992, Class 3: 0.3510, Class 4: 0.5128, Class 5: 0.4302, Class 6: 0.6106, \n",
      "Validation F-beta Score\n",
      "Class 0: 0.9924, Class 1: 0.7495, Class 2: 0.2459, Class 3: 0.4092, Class 4: 0.5189, Class 5: 0.4531, Class 6: 0.7124, \n",
      "\n",
      "Overall Mean Dice Score: 0.5180\n",
      "Overall Mean F-beta Score: 0.5686\n",
      "\n",
      "Training Loss: 0.2921, Validation Loss: 0.3148, Validation F-beta: 0.5686\n",
      "Epoch 74/4000\n"
     ]
    },
    {
     "name": "stderr",
     "output_type": "stream",
     "text": [
      "Training: 100%|██████████| 696/696 [19:05<00:00,  1.65s/it, loss=0.339]\n",
      "Validation: 100%|██████████| 12/12 [00:07<00:00,  1.52it/s, loss=0.334]\n"
     ]
    },
    {
     "name": "stdout",
     "output_type": "stream",
     "text": [
      "Validation Dice Score\n",
      "Class 0: 0.9914, Class 1: 0.5646, Class 2: 0.2660, Class 3: 0.5032, Class 4: 0.7122, Class 5: 0.4932, Class 6: 0.7629, \n",
      "Validation F-beta Score\n",
      "Class 0: 0.9922, Class 1: 0.6756, Class 2: 0.2902, Class 3: 0.5791, Class 4: 0.7021, Class 5: 0.5335, Class 6: 0.8484, \n",
      "\n",
      "Overall Mean Dice Score: 0.6072\n",
      "Overall Mean F-beta Score: 0.6677\n",
      "\n",
      "Training Loss: 0.2935, Validation Loss: 0.2965, Validation F-beta: 0.6677\n",
      "Epoch 75/4000\n"
     ]
    },
    {
     "name": "stderr",
     "output_type": "stream",
     "text": [
      "Training: 100%|██████████| 696/696 [27:50<00:00,  2.40s/it, loss=0.261]\n",
      "Validation: 100%|██████████| 12/12 [00:08<00:00,  1.36it/s, loss=0.293]\n"
     ]
    },
    {
     "name": "stdout",
     "output_type": "stream",
     "text": [
      "Validation Dice Score\n",
      "Class 0: 0.9930, Class 1: 0.6086, Class 2: 0.1430, Class 3: 0.3412, Class 4: 0.6257, Class 5: 0.3026, Class 6: 0.6875, \n",
      "Validation F-beta Score\n",
      "Class 0: 0.9929, Class 1: 0.7619, Class 2: 0.1400, Class 3: 0.3705, Class 4: 0.6539, Class 5: 0.2947, Class 6: 0.6955, \n",
      "\n",
      "Overall Mean Dice Score: 0.5131\n",
      "Overall Mean F-beta Score: 0.5553\n",
      "\n",
      "Training Loss: 0.2925, Validation Loss: 0.3148, Validation F-beta: 0.5553\n",
      "Epoch 76/4000\n"
     ]
    },
    {
     "name": "stderr",
     "output_type": "stream",
     "text": [
      "Training: 100%|██████████| 696/696 [26:47<00:00,  2.31s/it, loss=0.316]\n",
      "Validation: 100%|██████████| 12/12 [00:08<00:00,  1.46it/s, loss=0.197]\n"
     ]
    },
    {
     "name": "stdout",
     "output_type": "stream",
     "text": [
      "Validation Dice Score\n",
      "Class 0: 0.9923, Class 1: 0.6766, Class 2: 0.1407, Class 3: 0.4911, Class 4: 0.5756, Class 5: 0.4419, Class 6: 0.6262, \n",
      "Validation F-beta Score\n",
      "Class 0: 0.9930, Class 1: 0.8056, Class 2: 0.1105, Class 3: 0.5901, Class 4: 0.6105, Class 5: 0.3973, Class 6: 0.7127, \n",
      "\n",
      "Overall Mean Dice Score: 0.5623\n",
      "Overall Mean F-beta Score: 0.6232\n",
      "\n",
      "Training Loss: 0.2902, Validation Loss: 0.3051, Validation F-beta: 0.6232\n",
      "Epoch 77/4000\n"
     ]
    },
    {
     "name": "stderr",
     "output_type": "stream",
     "text": [
      "Training: 100%|██████████| 696/696 [26:32<00:00,  2.29s/it, loss=0.357]\n",
      "Validation: 100%|██████████| 12/12 [00:08<00:00,  1.47it/s, loss=0.39] \n"
     ]
    },
    {
     "name": "stdout",
     "output_type": "stream",
     "text": [
      "Validation Dice Score\n",
      "Class 0: 0.9912, Class 1: 0.6459, Class 2: 0.0897, Class 3: 0.4260, Class 4: 0.5597, Class 5: 0.4787, Class 6: 0.5527, \n",
      "Validation F-beta Score\n",
      "Class 0: 0.9923, Class 1: 0.8151, Class 2: 0.0779, Class 3: 0.4738, Class 4: 0.5960, Class 5: 0.5217, Class 6: 0.6336, \n",
      "\n",
      "Overall Mean Dice Score: 0.5326\n",
      "Overall Mean F-beta Score: 0.6080\n",
      "\n",
      "Training Loss: 0.2908, Validation Loss: 0.3039, Validation F-beta: 0.6080\n",
      "Epoch 78/4000\n"
     ]
    },
    {
     "name": "stderr",
     "output_type": "stream",
     "text": [
      "Training: 100%|██████████| 696/696 [26:52<00:00,  2.32s/it, loss=0.327]\n",
      "Validation: 100%|██████████| 12/12 [00:08<00:00,  1.45it/s, loss=0.283]\n"
     ]
    },
    {
     "name": "stdout",
     "output_type": "stream",
     "text": [
      "Validation Dice Score\n",
      "Class 0: 0.9924, Class 1: 0.6026, Class 2: 0.3103, Class 3: 0.3129, Class 4: 0.7416, Class 5: 0.4706, Class 6: 0.8277, \n",
      "Validation F-beta Score\n",
      "Class 0: 0.9915, Class 1: 0.7516, Class 2: 0.3307, Class 3: 0.3440, Class 4: 0.7712, Class 5: 0.5061, Class 6: 0.9325, \n",
      "\n",
      "Overall Mean Dice Score: 0.5911\n",
      "Overall Mean F-beta Score: 0.6611\n",
      "\n",
      "Training Loss: 0.2935, Validation Loss: 0.2963, Validation F-beta: 0.6611\n",
      "Epoch 79/4000\n"
     ]
    },
    {
     "name": "stderr",
     "output_type": "stream",
     "text": [
      "Training: 100%|██████████| 696/696 [27:31<00:00,  2.37s/it, loss=0.25] \n",
      "Validation: 100%|██████████| 12/12 [00:09<00:00,  1.26it/s, loss=0.262]\n"
     ]
    },
    {
     "name": "stdout",
     "output_type": "stream",
     "text": [
      "Validation Dice Score\n",
      "Class 0: 0.9930, Class 1: 0.7194, Class 2: 0.3317, Class 3: 0.3692, Class 4: 0.6065, Class 5: 0.4067, Class 6: 0.7037, \n",
      "Validation F-beta Score\n",
      "Class 0: 0.9915, Class 1: 0.8252, Class 2: 0.3241, Class 3: 0.4035, Class 4: 0.5915, Class 5: 0.4904, Class 6: 0.8785, \n",
      "\n",
      "Overall Mean Dice Score: 0.5611\n",
      "Overall Mean F-beta Score: 0.6378\n",
      "\n",
      "Training Loss: 0.2906, Validation Loss: 0.2970, Validation F-beta: 0.6378\n",
      "Epoch 80/4000\n"
     ]
    },
    {
     "name": "stderr",
     "output_type": "stream",
     "text": [
      "Training: 100%|██████████| 696/696 [26:58<00:00,  2.32s/it, loss=0.258]\n",
      "Validation: 100%|██████████| 12/12 [00:07<00:00,  1.54it/s, loss=0.363]\n"
     ]
    },
    {
     "name": "stdout",
     "output_type": "stream",
     "text": [
      "Validation Dice Score\n",
      "Class 0: 0.9918, Class 1: 0.5815, Class 2: 0.1344, Class 3: 0.2905, Class 4: 0.5416, Class 5: 0.3249, Class 6: 0.5339, \n",
      "Validation F-beta Score\n",
      "Class 0: 0.9899, Class 1: 0.7514, Class 2: 0.1490, Class 3: 0.3558, Class 4: 0.6449, Class 5: 0.3778, Class 6: 0.7131, \n",
      "\n",
      "Overall Mean Dice Score: 0.4545\n",
      "Overall Mean F-beta Score: 0.5686\n",
      "\n",
      "Training Loss: 0.2901, Validation Loss: 0.3458, Validation F-beta: 0.5686\n",
      "Epoch 81/4000\n"
     ]
    },
    {
     "name": "stderr",
     "output_type": "stream",
     "text": [
      "Training: 100%|██████████| 696/696 [27:52<00:00,  2.40s/it, loss=0.308]\n",
      "Validation: 100%|██████████| 12/12 [00:08<00:00,  1.40it/s, loss=0.177]\n"
     ]
    },
    {
     "name": "stdout",
     "output_type": "stream",
     "text": [
      "Validation Dice Score\n",
      "Class 0: 0.9927, Class 1: 0.6445, Class 2: 0.2860, Class 3: 0.4094, Class 4: 0.7587, Class 5: 0.3951, Class 6: 0.8416, \n",
      "Validation F-beta Score\n",
      "Class 0: 0.9930, Class 1: 0.7810, Class 2: 0.2611, Class 3: 0.4159, Class 4: 0.7651, Class 5: 0.3783, Class 6: 0.8845, \n",
      "\n",
      "Overall Mean Dice Score: 0.6098\n",
      "Overall Mean F-beta Score: 0.6450\n",
      "\n",
      "Training Loss: 0.2885, Validation Loss: 0.2743, Validation F-beta: 0.6450\n",
      "========================================================\n",
      "SUPER Best model saved. Loss:0.2743, Score:0.6450\n",
      "========================================================\n",
      "Epoch 82/4000\n"
     ]
    },
    {
     "name": "stderr",
     "output_type": "stream",
     "text": [
      "Training: 100%|██████████| 696/696 [28:31<00:00,  2.46s/it, loss=0.271]\n",
      "Validation: 100%|██████████| 12/12 [00:08<00:00,  1.35it/s, loss=0.38] \n"
     ]
    },
    {
     "name": "stdout",
     "output_type": "stream",
     "text": [
      "Validation Dice Score\n",
      "Class 0: 0.9914, Class 1: 0.6071, Class 2: 0.1692, Class 3: 0.3268, Class 4: 0.6270, Class 5: 0.3691, Class 6: 0.7026, \n",
      "Validation F-beta Score\n",
      "Class 0: 0.9925, Class 1: 0.7496, Class 2: 0.1775, Class 3: 0.3302, Class 4: 0.6219, Class 5: 0.3412, Class 6: 0.7838, \n",
      "\n",
      "Overall Mean Dice Score: 0.5265\n",
      "Overall Mean F-beta Score: 0.5654\n",
      "\n",
      "Training Loss: 0.2904, Validation Loss: 0.3284, Validation F-beta: 0.5654\n",
      "Epoch 83/4000\n"
     ]
    },
    {
     "name": "stderr",
     "output_type": "stream",
     "text": [
      "Training: 100%|██████████| 696/696 [29:30<00:00,  2.54s/it, loss=0.294]\n",
      "Validation: 100%|██████████| 12/12 [00:09<00:00,  1.31it/s, loss=0.287]\n"
     ]
    },
    {
     "name": "stdout",
     "output_type": "stream",
     "text": [
      "Validation Dice Score\n",
      "Class 0: 0.9914, Class 1: 0.6458, Class 2: 0.1764, Class 3: 0.4143, Class 4: 0.6172, Class 5: 0.2946, Class 6: 0.6989, \n",
      "Validation F-beta Score\n",
      "Class 0: 0.9932, Class 1: 0.7612, Class 2: 0.1914, Class 3: 0.4336, Class 4: 0.5887, Class 5: 0.2404, Class 6: 0.8112, \n",
      "\n",
      "Overall Mean Dice Score: 0.5342\n",
      "Overall Mean F-beta Score: 0.5670\n",
      "\n",
      "Training Loss: 0.2934, Validation Loss: 0.3119, Validation F-beta: 0.5670\n",
      "Epoch 84/4000\n"
     ]
    },
    {
     "name": "stderr",
     "output_type": "stream",
     "text": [
      "Training: 100%|██████████| 696/696 [29:32<00:00,  2.55s/it, loss=0.244] \n",
      "Validation: 100%|██████████| 12/12 [00:08<00:00,  1.43it/s, loss=0.195]\n"
     ]
    },
    {
     "name": "stdout",
     "output_type": "stream",
     "text": [
      "Validation Dice Score\n",
      "Class 0: 0.9920, Class 1: 0.6795, Class 2: 0.1374, Class 3: 0.3612, Class 4: 0.6975, Class 5: 0.4983, Class 6: 0.7047, \n",
      "Validation F-beta Score\n",
      "Class 0: 0.9913, Class 1: 0.7811, Class 2: 0.1709, Class 3: 0.3695, Class 4: 0.7162, Class 5: 0.5440, Class 6: 0.8045, \n",
      "\n",
      "Overall Mean Dice Score: 0.5882\n",
      "Overall Mean F-beta Score: 0.6430\n",
      "\n",
      "Training Loss: 0.2882, Validation Loss: 0.2982, Validation F-beta: 0.6430\n",
      "Epoch 85/4000\n"
     ]
    },
    {
     "name": "stderr",
     "output_type": "stream",
     "text": [
      "Training: 100%|██████████| 696/696 [30:38<00:00,  2.64s/it, loss=0.283]\n",
      "Validation: 100%|██████████| 12/12 [00:08<00:00,  1.37it/s, loss=0.291]\n"
     ]
    },
    {
     "name": "stdout",
     "output_type": "stream",
     "text": [
      "Validation Dice Score\n",
      "Class 0: 0.9906, Class 1: 0.6600, Class 2: 0.0274, Class 3: 0.2345, Class 4: 0.7042, Class 5: 0.3929, Class 6: 0.7078, \n",
      "Validation F-beta Score\n",
      "Class 0: 0.9910, Class 1: 0.7905, Class 2: 0.0221, Class 3: 0.2802, Class 4: 0.7049, Class 5: 0.3863, Class 6: 0.8090, \n",
      "\n",
      "Overall Mean Dice Score: 0.5399\n",
      "Overall Mean F-beta Score: 0.5942\n",
      "\n",
      "Training Loss: 0.2960, Validation Loss: 0.3161, Validation F-beta: 0.5942\n",
      "Epoch 86/4000\n"
     ]
    },
    {
     "name": "stderr",
     "output_type": "stream",
     "text": [
      "Training: 100%|██████████| 696/696 [27:50<00:00,  2.40s/it, loss=0.285]\n",
      "Validation: 100%|██████████| 12/12 [00:08<00:00,  1.41it/s, loss=0.321]\n"
     ]
    },
    {
     "name": "stdout",
     "output_type": "stream",
     "text": [
      "Validation Dice Score\n",
      "Class 0: 0.9935, Class 1: 0.7866, Class 2: 0.0462, Class 3: 0.3918, Class 4: 0.4786, Class 5: 0.5349, Class 6: 0.8534, \n",
      "Validation F-beta Score\n",
      "Class 0: 0.9935, Class 1: 0.9059, Class 2: 0.0385, Class 3: 0.4338, Class 4: 0.4870, Class 5: 0.5681, Class 6: 0.8799, \n",
      "\n",
      "Overall Mean Dice Score: 0.6091\n",
      "Overall Mean F-beta Score: 0.6550\n",
      "\n",
      "Training Loss: 0.2879, Validation Loss: 0.2857, Validation F-beta: 0.6550\n",
      "Epoch 87/4000\n"
     ]
    },
    {
     "name": "stderr",
     "output_type": "stream",
     "text": [
      "Training: 100%|██████████| 696/696 [29:15<00:00,  2.52s/it, loss=0.341]\n",
      "Validation: 100%|██████████| 12/12 [00:11<00:00,  1.06it/s, loss=0.34] \n"
     ]
    },
    {
     "name": "stdout",
     "output_type": "stream",
     "text": [
      "Validation Dice Score\n",
      "Class 0: 0.9924, Class 1: 0.6798, Class 2: 0.2050, Class 3: 0.2983, Class 4: 0.5874, Class 5: 0.4305, Class 6: 0.7794, \n",
      "Validation F-beta Score\n",
      "Class 0: 0.9926, Class 1: 0.7671, Class 2: 0.2624, Class 3: 0.3350, Class 4: 0.6003, Class 5: 0.4167, Class 6: 0.7994, \n",
      "\n",
      "Overall Mean Dice Score: 0.5551\n",
      "Overall Mean F-beta Score: 0.5837\n",
      "\n",
      "Training Loss: 0.2877, Validation Loss: 0.3210, Validation F-beta: 0.5837\n",
      "Epoch 88/4000\n"
     ]
    },
    {
     "name": "stderr",
     "output_type": "stream",
     "text": [
      "Training: 100%|██████████| 696/696 [30:14<00:00,  2.61s/it, loss=0.271]\n",
      "Validation: 100%|██████████| 12/12 [00:08<00:00,  1.43it/s, loss=0.341]\n"
     ]
    },
    {
     "name": "stdout",
     "output_type": "stream",
     "text": [
      "Validation Dice Score\n",
      "Class 0: 0.9917, Class 1: 0.5407, Class 2: 0.2273, Class 3: 0.4021, Class 4: 0.6907, Class 5: 0.3627, Class 6: 0.6167, \n",
      "Validation F-beta Score\n",
      "Class 0: 0.9916, Class 1: 0.6998, Class 2: 0.2535, Class 3: 0.4476, Class 4: 0.7316, Class 5: 0.3654, Class 6: 0.6152, \n",
      "\n",
      "Overall Mean Dice Score: 0.5226\n",
      "Overall Mean F-beta Score: 0.5719\n",
      "\n",
      "Training Loss: 0.2886, Validation Loss: 0.3208, Validation F-beta: 0.5719\n",
      "Epoch 89/4000\n"
     ]
    },
    {
     "name": "stderr",
     "output_type": "stream",
     "text": [
      "Training: 100%|██████████| 696/696 [27:29<00:00,  2.37s/it, loss=0.356]\n",
      "Validation: 100%|██████████| 12/12 [00:08<00:00,  1.43it/s, loss=0.312]\n"
     ]
    },
    {
     "name": "stdout",
     "output_type": "stream",
     "text": [
      "Validation Dice Score\n",
      "Class 0: 0.9923, Class 1: 0.6147, Class 2: 0.1928, Class 3: 0.2870, Class 4: 0.4929, Class 5: 0.3579, Class 6: 0.7014, \n",
      "Validation F-beta Score\n",
      "Class 0: 0.9934, Class 1: 0.7332, Class 2: 0.2167, Class 3: 0.3362, Class 4: 0.5185, Class 5: 0.3821, Class 6: 0.8830, \n",
      "\n",
      "Overall Mean Dice Score: 0.4908\n",
      "Overall Mean F-beta Score: 0.5706\n",
      "\n",
      "Training Loss: 0.2879, Validation Loss: 0.3320, Validation F-beta: 0.5706\n",
      "Epoch 90/4000\n"
     ]
    },
    {
     "name": "stderr",
     "output_type": "stream",
     "text": [
      "Training: 100%|██████████| 696/696 [20:21<00:00,  1.76s/it, loss=0.264]\n",
      "Validation: 100%|██████████| 12/12 [00:06<00:00,  1.98it/s, loss=0.239]\n"
     ]
    },
    {
     "name": "stdout",
     "output_type": "stream",
     "text": [
      "Validation Dice Score\n",
      "Class 0: 0.9928, Class 1: 0.6504, Class 2: 0.1109, Class 3: 0.3540, Class 4: 0.7140, Class 5: 0.3905, Class 6: 0.7008, \n",
      "Validation F-beta Score\n",
      "Class 0: 0.9928, Class 1: 0.7603, Class 2: 0.1366, Class 3: 0.3688, Class 4: 0.8077, Class 5: 0.3807, Class 6: 0.8342, \n",
      "\n",
      "Overall Mean Dice Score: 0.5619\n",
      "Overall Mean F-beta Score: 0.6303\n",
      "\n",
      "Training Loss: 0.2848, Validation Loss: 0.3016, Validation F-beta: 0.6303\n",
      "Epoch 91/4000\n"
     ]
    },
    {
     "name": "stderr",
     "output_type": "stream",
     "text": [
      "Training: 100%|██████████| 696/696 [17:09<00:00,  1.48s/it, loss=0.297]\n",
      "Validation: 100%|██████████| 12/12 [00:05<00:00,  2.01it/s, loss=0.291]\n"
     ]
    },
    {
     "name": "stdout",
     "output_type": "stream",
     "text": [
      "Validation Dice Score\n",
      "Class 0: 0.9910, Class 1: 0.7627, Class 2: 0.1766, Class 3: 0.4016, Class 4: 0.5812, Class 5: 0.4510, Class 6: 0.6806, \n",
      "Validation F-beta Score\n",
      "Class 0: 0.9909, Class 1: 0.8826, Class 2: 0.1638, Class 3: 0.4422, Class 4: 0.5918, Class 5: 0.4599, Class 6: 0.7743, \n",
      "\n",
      "Overall Mean Dice Score: 0.5754\n",
      "Overall Mean F-beta Score: 0.6301\n",
      "\n",
      "Training Loss: 0.2915, Validation Loss: 0.3042, Validation F-beta: 0.6301\n",
      "Epoch 92/4000\n"
     ]
    },
    {
     "name": "stderr",
     "output_type": "stream",
     "text": [
      "Training: 100%|██████████| 696/696 [17:07<00:00,  1.48s/it, loss=0.357]\n",
      "Validation: 100%|██████████| 12/12 [00:06<00:00,  1.82it/s, loss=0.452]\n"
     ]
    },
    {
     "name": "stdout",
     "output_type": "stream",
     "text": [
      "Validation Dice Score\n",
      "Class 0: 0.9910, Class 1: 0.4888, Class 2: 0.2463, Class 3: 0.4220, Class 4: 0.5417, Class 5: 0.4247, Class 6: 0.4668, \n",
      "Validation F-beta Score\n",
      "Class 0: 0.9911, Class 1: 0.6142, Class 2: 0.2621, Class 3: 0.4117, Class 4: 0.5364, Class 5: 0.4594, Class 6: 0.5623, \n",
      "\n",
      "Overall Mean Dice Score: 0.4688\n",
      "Overall Mean F-beta Score: 0.5168\n",
      "\n",
      "Training Loss: 0.2885, Validation Loss: 0.3329, Validation F-beta: 0.5168\n",
      "Epoch 93/4000\n"
     ]
    },
    {
     "name": "stderr",
     "output_type": "stream",
     "text": [
      "Training: 100%|██████████| 696/696 [17:48<00:00,  1.54s/it, loss=0.257]\n",
      "Validation: 100%|██████████| 12/12 [00:07<00:00,  1.66it/s, loss=0.223]\n"
     ]
    },
    {
     "name": "stdout",
     "output_type": "stream",
     "text": [
      "Validation Dice Score\n",
      "Class 0: 0.9933, Class 1: 0.5228, Class 2: 0.1870, Class 3: 0.4904, Class 4: 0.7338, Class 5: 0.5327, Class 6: 0.6949, \n",
      "Validation F-beta Score\n",
      "Class 0: 0.9936, Class 1: 0.7253, Class 2: 0.1590, Class 3: 0.5544, Class 4: 0.7187, Class 5: 0.5962, Class 6: 0.7882, \n",
      "\n",
      "Overall Mean Dice Score: 0.5949\n",
      "Overall Mean F-beta Score: 0.6766\n",
      "\n",
      "Training Loss: 0.2882, Validation Loss: 0.2988, Validation F-beta: 0.6766\n",
      "Epoch 94/4000\n"
     ]
    },
    {
     "name": "stderr",
     "output_type": "stream",
     "text": [
      "Training: 100%|██████████| 696/696 [23:12<00:00,  2.00s/it, loss=0.241]\n",
      "Validation: 100%|██████████| 12/12 [00:06<00:00,  1.72it/s, loss=0.37] \n"
     ]
    },
    {
     "name": "stdout",
     "output_type": "stream",
     "text": [
      "Validation Dice Score\n",
      "Class 0: 0.9907, Class 1: 0.6939, Class 2: 0.1032, Class 3: 0.3032, Class 4: 0.4930, Class 5: 0.4611, Class 6: 0.4613, \n",
      "Validation F-beta Score\n",
      "Class 0: 0.9929, Class 1: 0.8484, Class 2: 0.1207, Class 3: 0.2898, Class 4: 0.4509, Class 5: 0.4371, Class 6: 0.6349, \n",
      "\n",
      "Overall Mean Dice Score: 0.4825\n",
      "Overall Mean F-beta Score: 0.5322\n",
      "\n",
      "Training Loss: 0.2886, Validation Loss: 0.3362, Validation F-beta: 0.5322\n",
      "Epoch 95/4000\n"
     ]
    },
    {
     "name": "stderr",
     "output_type": "stream",
     "text": [
      "Training: 100%|██████████| 696/696 [21:42<00:00,  1.87s/it, loss=0.383]\n",
      "Validation: 100%|██████████| 12/12 [00:07<00:00,  1.70it/s, loss=0.317]\n"
     ]
    },
    {
     "name": "stdout",
     "output_type": "stream",
     "text": [
      "Validation Dice Score\n",
      "Class 0: 0.9914, Class 1: 0.7371, Class 2: 0.2874, Class 3: 0.3876, Class 4: 0.6062, Class 5: 0.4708, Class 6: 0.7951, \n",
      "Validation F-beta Score\n",
      "Class 0: 0.9931, Class 1: 0.7616, Class 2: 0.2641, Class 3: 0.3726, Class 4: 0.5300, Class 5: 0.4586, Class 6: 0.8370, \n",
      "\n",
      "Overall Mean Dice Score: 0.5993\n",
      "Overall Mean F-beta Score: 0.5920\n",
      "\n",
      "Training Loss: 0.2906, Validation Loss: 0.2915, Validation F-beta: 0.5920\n",
      "Epoch 96/4000\n"
     ]
    },
    {
     "name": "stderr",
     "output_type": "stream",
     "text": [
      "Training: 100%|██████████| 696/696 [22:51<00:00,  1.97s/it, loss=0.312]\n",
      "Validation: 100%|██████████| 12/12 [00:07<00:00,  1.68it/s, loss=0.388]\n"
     ]
    },
    {
     "name": "stdout",
     "output_type": "stream",
     "text": [
      "Validation Dice Score\n",
      "Class 0: 0.9911, Class 1: 0.7978, Class 2: 0.1639, Class 3: 0.3568, Class 4: 0.6824, Class 5: 0.3203, Class 6: 0.7002, \n",
      "Validation F-beta Score\n",
      "Class 0: 0.9906, Class 1: 0.8970, Class 2: 0.1312, Class 3: 0.3802, Class 4: 0.7352, Class 5: 0.3190, Class 6: 0.7987, \n",
      "\n",
      "Overall Mean Dice Score: 0.5715\n",
      "Overall Mean F-beta Score: 0.6260\n",
      "\n",
      "Training Loss: 0.2847, Validation Loss: 0.3089, Validation F-beta: 0.6260\n",
      "Epoch 97/4000\n"
     ]
    },
    {
     "name": "stderr",
     "output_type": "stream",
     "text": [
      "Training: 100%|██████████| 696/696 [20:27<00:00,  1.76s/it, loss=0.275]\n",
      "Validation: 100%|██████████| 12/12 [00:05<00:00,  2.25it/s, loss=0.35] \n"
     ]
    },
    {
     "name": "stdout",
     "output_type": "stream",
     "text": [
      "Validation Dice Score\n",
      "Class 0: 0.9934, Class 1: 0.6063, Class 2: 0.1415, Class 3: 0.2834, Class 4: 0.6122, Class 5: 0.4530, Class 6: 0.7043, \n",
      "Validation F-beta Score\n",
      "Class 0: 0.9923, Class 1: 0.6660, Class 2: 0.1393, Class 3: 0.3382, Class 4: 0.6820, Class 5: 0.5263, Class 6: 0.7133, \n",
      "\n",
      "Overall Mean Dice Score: 0.5318\n",
      "Overall Mean F-beta Score: 0.5852\n",
      "\n",
      "Training Loss: 0.2857, Validation Loss: 0.3109, Validation F-beta: 0.5852\n",
      "Epoch 98/4000\n"
     ]
    },
    {
     "name": "stderr",
     "output_type": "stream",
     "text": [
      "Training: 100%|██████████| 696/696 [16:47<00:00,  1.45s/it, loss=0.339]\n",
      "Validation: 100%|██████████| 12/12 [00:06<00:00,  1.93it/s, loss=0.282]\n"
     ]
    },
    {
     "name": "stdout",
     "output_type": "stream",
     "text": [
      "Validation Dice Score\n",
      "Class 0: 0.9910, Class 1: 0.6313, Class 2: 0.1744, Class 3: 0.2759, Class 4: 0.6013, Class 5: 0.4823, Class 6: 0.5458, \n",
      "Validation F-beta Score\n",
      "Class 0: 0.9935, Class 1: 0.9115, Class 2: 0.1602, Class 3: 0.3298, Class 4: 0.5578, Class 5: 0.4494, Class 6: 0.7219, \n",
      "\n",
      "Overall Mean Dice Score: 0.5073\n",
      "Overall Mean F-beta Score: 0.5941\n",
      "\n",
      "Training Loss: 0.2860, Validation Loss: 0.3331, Validation F-beta: 0.5941\n",
      "Epoch 99/4000\n"
     ]
    },
    {
     "name": "stderr",
     "output_type": "stream",
     "text": [
      "Training: 100%|██████████| 696/696 [16:43<00:00,  1.44s/it, loss=0.255]\n",
      "Validation: 100%|██████████| 12/12 [00:06<00:00,  1.83it/s, loss=0.404]\n"
     ]
    },
    {
     "name": "stdout",
     "output_type": "stream",
     "text": [
      "Validation Dice Score\n",
      "Class 0: 0.9922, Class 1: 0.6891, Class 2: 0.1443, Class 3: 0.4317, Class 4: 0.5753, Class 5: 0.4575, Class 6: 0.6239, \n",
      "Validation F-beta Score\n",
      "Class 0: 0.9935, Class 1: 0.8224, Class 2: 0.1374, Class 3: 0.4380, Class 4: 0.5538, Class 5: 0.4805, Class 6: 0.6412, \n",
      "\n",
      "Overall Mean Dice Score: 0.5555\n",
      "Overall Mean F-beta Score: 0.5872\n",
      "\n",
      "Training Loss: 0.2847, Validation Loss: 0.3119, Validation F-beta: 0.5872\n",
      "Epoch 100/4000\n"
     ]
    },
    {
     "name": "stderr",
     "output_type": "stream",
     "text": [
      "Training: 100%|██████████| 696/696 [18:26<00:00,  1.59s/it, loss=0.353]\n",
      "Validation: 100%|██████████| 12/12 [00:06<00:00,  1.93it/s, loss=0.38] \n"
     ]
    },
    {
     "name": "stdout",
     "output_type": "stream",
     "text": [
      "Validation Dice Score\n",
      "Class 0: 0.9908, Class 1: 0.6187, Class 2: 0.2218, Class 3: 0.3210, Class 4: 0.6951, Class 5: 0.4295, Class 6: 0.5522, \n",
      "Validation F-beta Score\n",
      "Class 0: 0.9912, Class 1: 0.6622, Class 2: 0.1894, Class 3: 0.3558, Class 4: 0.6606, Class 5: 0.4737, Class 6: 0.5645, \n",
      "\n",
      "Overall Mean Dice Score: 0.5233\n",
      "Overall Mean F-beta Score: 0.5434\n",
      "\n",
      "Training Loss: 0.2857, Validation Loss: 0.3174, Validation F-beta: 0.5434\n",
      "Epoch 101/4000\n"
     ]
    },
    {
     "name": "stderr",
     "output_type": "stream",
     "text": [
      "Training:  35%|███▌      | 246/696 [06:28<12:58,  1.73s/it, loss=0.279]"
     ]
    }
   ],
   "source": [
    "train_model(\n",
    "    model=model,\n",
    "    train_loader=train_loader,\n",
    "    val_loader=val_loader,\n",
    "    criterion=criterion,\n",
    "    optimizer=optimizer,\n",
    "    num_epochs=num_epochs,\n",
    "    patience=10,\n",
    "    device=device,\n",
    "    start_epoch=start_epoch,\n",
    "    best_val_loss=best_val_loss,\n",
    "    best_val_fbeta_score=best_val_fbeta_score,\n",
    "    calculate_dice_interval=1,\n",
    "    accumulation_steps = accumulation_steps\n",
    "     ) "
   ]
  },
  {
   "cell_type": "code",
   "execution_count": 12,
   "metadata": {},
   "outputs": [
    {
     "ename": "SyntaxError",
     "evalue": "invalid syntax (879943805.py, line 1)",
     "output_type": "error",
     "traceback": [
      "\u001b[1;36m  Cell \u001b[1;32mIn[12], line 1\u001b[1;36m\u001b[0m\n\u001b[1;33m    if:\u001b[0m\n\u001b[1;37m      ^\u001b[0m\n\u001b[1;31mSyntaxError\u001b[0m\u001b[1;31m:\u001b[0m invalid syntax\n"
     ]
    }
   ],
   "source": [
    "if:"
   ]
  },
  {
   "cell_type": "markdown",
   "metadata": {},
   "source": [
    "# VAl"
   ]
  },
  {
   "cell_type": "code",
   "execution_count": null,
   "metadata": {},
   "outputs": [
    {
     "data": {
      "text/html": [
       "Finishing last run (ID:fs6utwyo) before initializing another..."
      ],
      "text/plain": [
       "<IPython.core.display.HTML object>"
      ]
     },
     "metadata": {},
     "output_type": "display_data"
    },
    {
     "data": {
      "application/vnd.jupyter.widget-view+json": {
       "model_id": "29cc3ae761af43baae5aca60b5d2e7f4",
       "version_major": 2,
       "version_minor": 0
      },
      "text/plain": [
       "VBox(children=(Label(value='0.009 MB of 0.009 MB uploaded\\r'), FloatProgress(value=1.0, max=1.0)))"
      ]
     },
     "metadata": {},
     "output_type": "display_data"
    },
    {
     "data": {
      "text/html": [
       "<style>\n",
       "    table.wandb td:nth-child(1) { padding: 0 10px; text-align: left ; width: auto;} td:nth-child(2) {text-align: left ; width: 100%}\n",
       "    .wandb-row { display: flex; flex-direction: row; flex-wrap: wrap; justify-content: flex-start; width: 100% }\n",
       "    .wandb-col { display: flex; flex-direction: column; flex-basis: 100%; flex: 1; padding: 10px; }\n",
       "    </style>\n",
       "<div class=\"wandb-row\"><div class=\"wandb-col\"><h3>Run history:</h3><br/><table class=\"wandb\"><tr><td>class_0_dice_score</td><td>▁</td></tr><tr><td>class_0_f_beta_score</td><td>▁</td></tr><tr><td>class_1_dice_score</td><td>▁</td></tr><tr><td>class_1_f_beta_score</td><td>▁</td></tr><tr><td>class_2_dice_score</td><td>▁</td></tr><tr><td>class_2_f_beta_score</td><td>▁</td></tr><tr><td>class_3_dice_score</td><td>▁</td></tr><tr><td>class_3_f_beta_score</td><td>▁</td></tr><tr><td>class_4_dice_score</td><td>▁</td></tr><tr><td>class_4_f_beta_score</td><td>▁</td></tr><tr><td>class_5_dice_score</td><td>▁</td></tr><tr><td>class_5_f_beta_score</td><td>▁</td></tr><tr><td>class_6_dice_score</td><td>▁</td></tr><tr><td>class_6_f_beta_score</td><td>▁</td></tr><tr><td>epoch</td><td>▁▁▁▁▁▁▁▁▁▁▁▁▁▁▁▁</td></tr><tr><td>overall_mean_dice_score</td><td>▁</td></tr><tr><td>overall_mean_f_beta_score</td><td>▁</td></tr><tr><td>val_epoch_loss</td><td>▁</td></tr></table><br/></div><div class=\"wandb-col\"><h3>Run summary:</h3><br/><table class=\"wandb\"><tr><td>class_0_dice_score</td><td>0.65703</td></tr><tr><td>class_0_f_beta_score</td><td>0.50748</td></tr><tr><td>class_1_dice_score</td><td>0.53332</td></tr><tr><td>class_1_f_beta_score</td><td>0.64703</td></tr><tr><td>class_2_dice_score</td><td>0.00286</td></tr><tr><td>class_2_f_beta_score</td><td>0.02334</td></tr><tr><td>class_3_dice_score</td><td>0.23703</td></tr><tr><td>class_3_f_beta_score</td><td>0.23033</td></tr><tr><td>class_4_dice_score</td><td>0.65487</td></tr><tr><td>class_4_f_beta_score</td><td>0.62525</td></tr><tr><td>class_5_dice_score</td><td>0.47899</td></tr><tr><td>class_5_f_beta_score</td><td>0.51448</td></tr><tr><td>class_6_dice_score</td><td>0.42545</td></tr><tr><td>class_6_f_beta_score</td><td>0.47197</td></tr><tr><td>epoch</td><td>1</td></tr><tr><td>overall_mean_dice_score</td><td>0.42708</td></tr><tr><td>overall_mean_f_beta_score</td><td>0.43141</td></tr><tr><td>val_epoch_loss</td><td>0.7152</td></tr></table><br/></div></div>"
      ],
      "text/plain": [
       "<IPython.core.display.HTML object>"
      ]
     },
     "metadata": {},
     "output_type": "display_data"
    },
    {
     "data": {
      "text/html": [
       " View run <strong style=\"color:#cdcd00\">SwinUNETR96_96_lr0.001_lambda0.52_batch2</strong> at: <a href='https://wandb.ai/waooang/czii_SwinUnetR_val/runs/fs6utwyo' target=\"_blank\">https://wandb.ai/waooang/czii_SwinUnetR_val/runs/fs6utwyo</a><br/> View project at: <a href='https://wandb.ai/waooang/czii_SwinUnetR_val' target=\"_blank\">https://wandb.ai/waooang/czii_SwinUnetR_val</a><br/>Synced 4 W&B file(s), 0 media file(s), 3 artifact file(s) and 0 other file(s)"
      ],
      "text/plain": [
       "<IPython.core.display.HTML object>"
      ]
     },
     "metadata": {},
     "output_type": "display_data"
    },
    {
     "data": {
      "text/html": [
       "Find logs at: <code>.\\wandb\\run-20241219_200219-fs6utwyo\\logs</code>"
      ],
      "text/plain": [
       "<IPython.core.display.HTML object>"
      ]
     },
     "metadata": {},
     "output_type": "display_data"
    },
    {
     "data": {
      "text/html": [
       "Successfully finished last run (ID:fs6utwyo). Initializing new run:<br/>"
      ],
      "text/plain": [
       "<IPython.core.display.HTML object>"
      ]
     },
     "metadata": {},
     "output_type": "display_data"
    },
    {
     "data": {
      "text/html": [
       "Tracking run with wandb version 0.18.3"
      ],
      "text/plain": [
       "<IPython.core.display.HTML object>"
      ]
     },
     "metadata": {},
     "output_type": "display_data"
    },
    {
     "data": {
      "text/html": [
       "Run data is saved locally in <code>e:\\Workspace\\czll\\wandb\\run-20241219_200454-121l7bn3</code>"
      ],
      "text/plain": [
       "<IPython.core.display.HTML object>"
      ]
     },
     "metadata": {},
     "output_type": "display_data"
    },
    {
     "data": {
      "text/html": [
       "Syncing run <strong><a href='https://wandb.ai/waooang/czii_SwinUnetR_val/runs/121l7bn3' target=\"_blank\">SwinUNETR96_96_lr0.001_lambda0.52_batch2</a></strong> to <a href='https://wandb.ai/waooang/czii_SwinUnetR_val' target=\"_blank\">Weights & Biases</a> (<a href='https://wandb.me/run' target=\"_blank\">docs</a>)<br/>"
      ],
      "text/plain": [
       "<IPython.core.display.HTML object>"
      ]
     },
     "metadata": {},
     "output_type": "display_data"
    },
    {
     "data": {
      "text/html": [
       " View project at <a href='https://wandb.ai/waooang/czii_SwinUnetR_val' target=\"_blank\">https://wandb.ai/waooang/czii_SwinUnetR_val</a>"
      ],
      "text/plain": [
       "<IPython.core.display.HTML object>"
      ]
     },
     "metadata": {},
     "output_type": "display_data"
    },
    {
     "data": {
      "text/html": [
       " View run at <a href='https://wandb.ai/waooang/czii_SwinUnetR_val/runs/121l7bn3' target=\"_blank\">https://wandb.ai/waooang/czii_SwinUnetR_val/runs/121l7bn3</a>"
      ],
      "text/plain": [
       "<IPython.core.display.HTML object>"
      ]
     },
     "metadata": {},
     "output_type": "display_data"
    },
    {
     "name": "stderr",
     "output_type": "stream",
     "text": [
      "Loading dataset: 100%|██████████| 4/4 [00:06<00:00,  1.58s/it]\n",
      "C:\\Users\\Seungwoo\\AppData\\Local\\Temp\\ipykernel_21000\\1177025787.py:95: FutureWarning: You are using `torch.load` with `weights_only=False` (the current default value), which uses the default pickle module implicitly. It is possible to construct malicious pickle data which will execute arbitrary code during unpickling (See https://github.com/pytorch/pytorch/blob/main/SECURITY.md#untrusted-models for more details). In a future release, the default value for `weights_only` will be flipped to `True`. This limits the functions that could be executed during unpickling. Arbitrary objects will no longer be allowed to be loaded via this mode unless they are explicitly allowlisted by the user via `torch.serialization.add_safe_globals`. We recommend you start setting `weights_only=True` for any use case where you don't have full control of the loaded file. Please open an issue on GitHub for any issues related to this experimental feature.\n",
      "  checkpoint = torch.load(pretrain_path, map_location=device)\n",
      "Validation: 100%|██████████| 4/4 [00:01<00:00,  2.38it/s, loss=0.865]"
     ]
    },
    {
     "name": "stdout",
     "output_type": "stream",
     "text": [
      "Validation Dice Score\n",
      "Class 0: 0.6570, Class 1: 0.5333, Class 2: 0.0029, Class 3: 0.2370, \n",
      "Class 4: 0.6549, Class 5: 0.4790, Class 6: 0.4255, \n",
      "Validation F-beta Score\n",
      "Class 0: 0.5075, Class 1: 0.6470, Class 2: 0.0233, Class 3: 0.2303, \n",
      "Class 4: 0.6252, Class 5: 0.5145, Class 6: 0.4720, \n",
      "Overall Mean Dice Score: 0.4659\n",
      "Overall Mean F-beta Score: 0.4978\n",
      "\n"
     ]
    },
    {
     "name": "stderr",
     "output_type": "stream",
     "text": [
      "\n"
     ]
    }
   ],
   "source": [
    "from monai.data import DataLoader, Dataset, CacheDataset\n",
    "from monai.transforms import (\n",
    "    Compose, LoadImaged, EnsureChannelFirstd, NormalizeIntensityd,\n",
    "    Orientationd, CropForegroundd, GaussianSmoothd, ScaleIntensityd,\n",
    "    RandSpatialCropd, RandRotate90d, RandFlipd, RandGaussianNoised,\n",
    "    ToTensord, RandCropByLabelClassesd\n",
    ")\n",
    "from monai.metrics import DiceMetric\n",
    "from monai.networks.nets import UNETR, SwinUNETR\n",
    "from monai.losses import TverskyLoss\n",
    "import torch\n",
    "import numpy as np\n",
    "from tqdm import tqdm\n",
    "import wandb\n",
    "from src.dataset.dataset import make_val_dataloader\n",
    "\n",
    "val_img_dir = \"./datasets/val/images\"\n",
    "val_label_dir = \"./datasets/val/labels\"\n",
    "img_depth = 96\n",
    "img_size = 96  # Match your patch size\n",
    "n_classes = 7\n",
    "batch_size = 2 # 13.8GB GPU memory required for 128x128 img size\n",
    "num_samples = batch_size # 한 이미지에서 뽑을 샘플 수\n",
    "loader_batch = 1\n",
    "lamda = 0.52\n",
    "\n",
    "wandb.init(\n",
    "    project='czii_SwinUnetR_val',  # 프로젝트 이름 설정\n",
    "    name='SwinUNETR96_96_lr0.001_lambda0.52_batch2',         # 실행(run) 이름 설정\n",
    "    config={\n",
    "        'learning_rate': 0.001,\n",
    "        'batch_size': batch_size,\n",
    "        'lambda': lamda,\n",
    "        'img_size': img_size,\n",
    "        'device': 'cuda',\n",
    "        \"checkpoint_dir\": \"./model_checkpoints/SwinUNETR96_96_lr0.001_lambda0.52_batch2\",\n",
    "        \n",
    "    }\n",
    ")\n",
    "\n",
    "non_random_transforms = Compose([\n",
    "    EnsureChannelFirstd(keys=[\"image\", \"label\"], channel_dim=\"no_channel\"),\n",
    "    NormalizeIntensityd(keys=\"image\"),\n",
    "    Orientationd(keys=[\"image\", \"label\"], axcodes=\"RAS\"),\n",
    "    GaussianSmoothd(\n",
    "        keys=[\"image\"],      # 변환을 적용할 키\n",
    "        sigma=[1.0, 1.0, 1.0]  # 각 축(x, y, z)의 시그마 값\n",
    "        ),\n",
    "])\n",
    "random_transforms = Compose([\n",
    "    RandCropByLabelClassesd(\n",
    "        keys=[\"image\", \"label\"],\n",
    "        label_key=\"label\",\n",
    "        spatial_size=[img_depth, img_size, img_size],\n",
    "        num_classes=n_classes,\n",
    "        num_samples=num_samples, \n",
    "        ratios=ratios_list,\n",
    "    ),\n",
    "    RandRotate90d(keys=[\"image\", \"label\"], prob=0.5, spatial_axes=[1, 2]),\n",
    "    RandFlipd(keys=[\"image\", \"label\"], prob=0.5, spatial_axis=0),\n",
    "])\n",
    "\n",
    "val_loader = make_val_dataloader(\n",
    "    val_img_dir, \n",
    "    val_label_dir, \n",
    "    non_random_transforms = non_random_transforms, \n",
    "    random_transforms = random_transforms, \n",
    "    batch_size = loader_batch,\n",
    "    num_workers=0\n",
    ")\n",
    "criterion = TverskyLoss(\n",
    "    alpha= 1 - lamda,  # FP에 대한 가중치\n",
    "    beta=lamda,       # FN에 대한 가중치\n",
    "    include_background=False,  # 배경 클래스 제외\n",
    "    softmax=True\n",
    ")\n",
    "    \n",
    "    \n",
    "from monai.metrics import DiceMetric\n",
    "\n",
    "img_size = 96\n",
    "img_depth = img_size\n",
    "n_classes = 7 \n",
    "\n",
    "device = torch.device(\"cuda\" if torch.cuda.is_available() else \"cpu\")\n",
    "pretrain_path = \"./model_checkpoints/SwinUNETR96_96_lr0.001_lambda0.52_batch2/best_model.pt\"\n",
    "model = SwinUNETR(\n",
    "    img_size=(img_depth, img_size, img_size),\n",
    "    in_channels=1,\n",
    "    out_channels=n_classes,\n",
    "    feature_size=48,\n",
    "    use_checkpoint=True,\n",
    ").to(device)\n",
    "# Pretrained weights 불러오기\n",
    "checkpoint = torch.load(pretrain_path, map_location=device)\n",
    "model.load_state_dict(checkpoint['model_state_dict'])\n",
    "\n",
    "val_loss, overall_mean_fbeta_score = validate_one_epoch(\n",
    "    model=model, \n",
    "    val_loader=val_loader, \n",
    "    criterion=criterion, \n",
    "    device=device, \n",
    "    epoch=0, \n",
    "    calculate_dice_interval=1\n",
    ")"
   ]
  },
  {
   "cell_type": "markdown",
   "metadata": {},
   "source": [
    "# Inference"
   ]
  },
  {
   "cell_type": "code",
   "execution_count": null,
   "metadata": {},
   "outputs": [],
   "source": [
    "from src.dataset.preprocessing import Preprocessor"
   ]
  },
  {
   "cell_type": "code",
   "execution_count": null,
   "metadata": {},
   "outputs": [
    {
     "name": "stdout",
     "output_type": "stream",
     "text": [
      "Done.\n"
     ]
    }
   ],
   "source": [
    "from monai.inferers import sliding_window_inference\n",
    "from monai.transforms import Compose, EnsureChannelFirstd, NormalizeIntensityd, Orientationd, GaussianSmoothd\n",
    "from monai.data import DataLoader, Dataset, CacheDataset\n",
    "from monai.networks.nets import SwinUNETR\n",
    "from pathlib import Path\n",
    "import numpy as np\n",
    "import copick\n",
    "\n",
    "import torch\n",
    "print(\"Done.\")"
   ]
  },
  {
   "cell_type": "code",
   "execution_count": null,
   "metadata": {},
   "outputs": [
    {
     "name": "stdout",
     "output_type": "stream",
     "text": [
      "Config file written to ./kaggle/working/copick.config\n",
      "file length: 7\n"
     ]
    }
   ],
   "source": [
    "config_blob = \"\"\"{\n",
    "    \"name\": \"czii_cryoet_mlchallenge_2024\",\n",
    "    \"description\": \"2024 CZII CryoET ML Challenge training data.\",\n",
    "    \"version\": \"1.0.0\",\n",
    "\n",
    "    \"pickable_objects\": [\n",
    "        {\n",
    "            \"name\": \"apo-ferritin\",\n",
    "            \"is_particle\": true,\n",
    "            \"pdb_id\": \"4V1W\",\n",
    "            \"label\": 1,\n",
    "            \"color\": [  0, 117, 220, 128],\n",
    "            \"radius\": 60,\n",
    "            \"map_threshold\": 0.0418\n",
    "        },\n",
    "        {\n",
    "          \"name\" : \"beta-amylase\",\n",
    "            \"is_particle\": true,\n",
    "            \"pdb_id\": \"8ZRZ\",\n",
    "            \"label\": 2,\n",
    "            \"color\": [255, 255, 255, 128],\n",
    "            \"radius\": 90,\n",
    "            \"map_threshold\": 0.0578  \n",
    "        },\n",
    "        {\n",
    "            \"name\": \"beta-galactosidase\",\n",
    "            \"is_particle\": true,\n",
    "            \"pdb_id\": \"6X1Q\",\n",
    "            \"label\": 3,\n",
    "            \"color\": [ 76,   0,  92, 128],\n",
    "            \"radius\": 90,\n",
    "            \"map_threshold\": 0.0578\n",
    "        },\n",
    "        {\n",
    "            \"name\": \"ribosome\",\n",
    "            \"is_particle\": true,\n",
    "            \"pdb_id\": \"6EK0\",\n",
    "            \"label\": 4,\n",
    "            \"color\": [  0,  92,  49, 128],\n",
    "            \"radius\": 150,\n",
    "            \"map_threshold\": 0.0374\n",
    "        },\n",
    "        {\n",
    "            \"name\": \"thyroglobulin\",\n",
    "            \"is_particle\": true,\n",
    "            \"pdb_id\": \"6SCJ\",\n",
    "            \"label\": 5,\n",
    "            \"color\": [ 43, 206,  72, 128],\n",
    "            \"radius\": 130,\n",
    "            \"map_threshold\": 0.0278\n",
    "        },\n",
    "        {\n",
    "            \"name\": \"virus-like-particle\",\n",
    "            \"is_particle\": true,\n",
    "            \"label\": 6,\n",
    "            \"color\": [255, 204, 153, 128],\n",
    "            \"radius\": 135,\n",
    "            \"map_threshold\": 0.201\n",
    "        },\n",
    "        {\n",
    "            \"name\": \"membrane\",\n",
    "            \"is_particle\": false,\n",
    "            \"label\": 8,\n",
    "            \"color\": [100, 100, 100, 128]\n",
    "        },\n",
    "        {\n",
    "            \"name\": \"background\",\n",
    "            \"is_particle\": false,\n",
    "            \"label\": 9,\n",
    "            \"color\": [10, 150, 200, 128]\n",
    "        }\n",
    "    ],\n",
    "\n",
    "    \"overlay_root\": \"./kaggle/working/overlay\",\n",
    "\n",
    "    \"overlay_fs_args\": {\n",
    "        \"auto_mkdir\": true\n",
    "    },\n",
    "\n",
    "    \"static_root\": \"./kaggle/input/czii-cryo-et-object-identification/test/static\"\n",
    "}\"\"\"\n",
    "\n",
    "copick_config_path = \"./kaggle/working/copick.config\"\n",
    "preprocessor = Preprocessor(config_blob,copick_config_path=copick_config_path)\n",
    "non_random_transforms = Compose([\n",
    "    EnsureChannelFirstd(keys=[\"image\"], channel_dim=\"no_channel\"),\n",
    "    NormalizeIntensityd(keys=\"image\"),\n",
    "    Orientationd(keys=[\"image\"], axcodes=\"RAS\"),\n",
    "    GaussianSmoothd(\n",
    "        keys=[\"image\"],      # 변환을 적용할 키\n",
    "        sigma=[1.0, 1.0, 1.0]  # 각 축(x, y, z)의 시그마 값\n",
    "        ),\n",
    "    ])"
   ]
  },
  {
   "cell_type": "code",
   "execution_count": null,
   "metadata": {},
   "outputs": [
    {
     "name": "stderr",
     "output_type": "stream",
     "text": [
      "c:\\ProgramData\\anaconda3\\envs\\ship\\Lib\\site-packages\\monai\\utils\\deprecate_utils.py:221: FutureWarning: monai.networks.nets.swin_unetr SwinUNETR.__init__:img_size: Argument `img_size` has been deprecated since version 1.3. It will be removed in version 1.5. The img_size argument is not required anymore and checks on the input size are run during forward().\n",
      "  warn_deprecated(argname, msg, warning_category)\n",
      "C:\\Users\\Seungwoo\\AppData\\Local\\Temp\\ipykernel_6248\\2937359115.py:15: FutureWarning: You are using `torch.load` with `weights_only=False` (the current default value), which uses the default pickle module implicitly. It is possible to construct malicious pickle data which will execute arbitrary code during unpickling (See https://github.com/pytorch/pytorch/blob/main/SECURITY.md#untrusted-models for more details). In a future release, the default value for `weights_only` will be flipped to `True`. This limits the functions that could be executed during unpickling. Arbitrary objects will no longer be allowed to be loaded via this mode unless they are explicitly allowlisted by the user via `torch.serialization.add_safe_globals`. We recommend you start setting `weights_only=True` for any use case where you don't have full control of the loaded file. Please open an issue on GitHub for any issues related to this experimental feature.\n",
      "  checkpoint = torch.load(pretrain_path, map_location=device)\n"
     ]
    },
    {
     "data": {
      "text/plain": [
       "<All keys matched successfully>"
      ]
     },
     "execution_count": 15,
     "metadata": {},
     "output_type": "execute_result"
    }
   ],
   "source": [
    "img_size = 96\n",
    "img_depth = img_size\n",
    "n_classes = 7 \n",
    "\n",
    "device = torch.device(\"cuda\" if torch.cuda.is_available() else \"cpu\")\n",
    "pretrain_path = \"./model_checkpoints/SwinUNETR96_96_lr0.001_lambda0.52_batch2/best_model.pt\"\n",
    "model = SwinUNETR(\n",
    "    img_size=(img_depth, img_size, img_size),\n",
    "    in_channels=1,\n",
    "    out_channels=n_classes,\n",
    "    feature_size=48,\n",
    "    use_checkpoint=True,\n",
    ").to(device)\n",
    "# Pretrained weights 불러오기\n",
    "checkpoint = torch.load(pretrain_path, map_location=device)\n",
    "model.load_state_dict(checkpoint['model_state_dict'])\n"
   ]
  },
  {
   "cell_type": "code",
   "execution_count": null,
   "metadata": {},
   "outputs": [
    {
     "name": "stderr",
     "output_type": "stream",
     "text": [
      "Validation:   0%|          | 0/4 [00:03<?, ?it/s, loss=0.764]\n"
     ]
    },
    {
     "ename": "ZeroDivisionError",
     "evalue": "integer modulo by zero",
     "output_type": "error",
     "traceback": [
      "\u001b[1;31m---------------------------------------------------------------------------\u001b[0m",
      "\u001b[1;31mZeroDivisionError\u001b[0m                         Traceback (most recent call last)",
      "Cell \u001b[1;32mIn[16], line 1\u001b[0m\n\u001b[1;32m----> 1\u001b[0m val_loss \u001b[38;5;241m=\u001b[39m \u001b[43mvalidate_one_epoch\u001b[49m\u001b[43m(\u001b[49m\n\u001b[0;32m      2\u001b[0m \u001b[43m            \u001b[49m\u001b[43mmodel\u001b[49m\u001b[38;5;241;43m=\u001b[39;49m\u001b[43mmodel\u001b[49m\u001b[43m,\u001b[49m\u001b[43m \u001b[49m\n\u001b[0;32m      3\u001b[0m \u001b[43m            \u001b[49m\u001b[43mval_loader\u001b[49m\u001b[38;5;241;43m=\u001b[39;49m\u001b[43mval_loader\u001b[49m\u001b[43m,\u001b[49m\u001b[43m \u001b[49m\n\u001b[0;32m      4\u001b[0m \u001b[43m            \u001b[49m\u001b[43mcriterion\u001b[49m\u001b[38;5;241;43m=\u001b[39;49m\u001b[43mcriterion\u001b[49m\u001b[43m,\u001b[49m\u001b[43m \u001b[49m\n\u001b[0;32m      5\u001b[0m \u001b[43m            \u001b[49m\u001b[43mdevice\u001b[49m\u001b[38;5;241;43m=\u001b[39;49m\u001b[43mdevice\u001b[49m\u001b[43m,\u001b[49m\u001b[43m \u001b[49m\n\u001b[0;32m      6\u001b[0m \u001b[43m            \u001b[49m\u001b[43mepoch\u001b[49m\u001b[38;5;241;43m=\u001b[39;49m\u001b[38;5;241;43m1\u001b[39;49m\u001b[43m,\u001b[49m\u001b[43m \u001b[49m\n\u001b[0;32m      7\u001b[0m \u001b[43m            \u001b[49m\u001b[43mcalculate_dice_interval\u001b[49m\u001b[38;5;241;43m=\u001b[39;49m\u001b[38;5;241;43m0\u001b[39;49m\n\u001b[0;32m      8\u001b[0m \u001b[43m        \u001b[49m\u001b[43m)\u001b[49m\n",
      "Cell \u001b[1;32mIn[11], line 64\u001b[0m, in \u001b[0;36mvalidate_one_epoch\u001b[1;34m(model, val_loader, criterion, device, epoch, calculate_dice_interval)\u001b[0m\n\u001b[0;32m     61\u001b[0m pbar\u001b[38;5;241m.\u001b[39mset_postfix(loss\u001b[38;5;241m=\u001b[39mloss\u001b[38;5;241m.\u001b[39mitem())\n\u001b[0;32m     63\u001b[0m \u001b[38;5;66;03m# 각 클래스별 Dice 점수 계산\u001b[39;00m\n\u001b[1;32m---> 64\u001b[0m \u001b[38;5;28;01mif\u001b[39;00m \u001b[43mepoch\u001b[49m\u001b[43m \u001b[49m\u001b[38;5;241;43m%\u001b[39;49m\u001b[43m \u001b[49m\u001b[43mcalculate_dice_interval\u001b[49m \u001b[38;5;241m==\u001b[39m \u001b[38;5;241m0\u001b[39m:\n\u001b[0;32m     65\u001b[0m     \u001b[38;5;28;01mfor\u001b[39;00m i \u001b[38;5;129;01min\u001b[39;00m \u001b[38;5;28mrange\u001b[39m(n_classes):\n\u001b[0;32m     66\u001b[0m         pred_i \u001b[38;5;241m=\u001b[39m (preds \u001b[38;5;241m==\u001b[39m i)\n",
      "\u001b[1;31mZeroDivisionError\u001b[0m: integer modulo by zero"
     ]
    }
   ],
   "source": [
    "val_loss = validate_one_epoch(\n",
    "            model=model, \n",
    "            val_loader=val_loader, \n",
    "            criterion=criterion, \n",
    "            device=device, \n",
    "            epoch=1, \n",
    "            calculate_dice_interval=0\n",
    "        )"
   ]
  },
  {
   "cell_type": "code",
   "execution_count": null,
   "metadata": {},
   "outputs": [
    {
     "name": "stdout",
     "output_type": "stream",
     "text": [
      "Processing volume 1/7\n"
     ]
    },
    {
     "name": "stderr",
     "output_type": "stream",
     "text": [
      "Loading dataset: 100%|██████████| 1/1 [00:01<00:00,  1.94s/it]\n"
     ]
    },
    {
     "name": "stdout",
     "output_type": "stream",
     "text": [
      "Processing volume 2/7\n"
     ]
    },
    {
     "name": "stderr",
     "output_type": "stream",
     "text": [
      "Loading dataset: 100%|██████████| 1/1 [00:01<00:00,  1.89s/it]\n"
     ]
    },
    {
     "name": "stdout",
     "output_type": "stream",
     "text": [
      "Processing volume 3/7\n"
     ]
    },
    {
     "name": "stderr",
     "output_type": "stream",
     "text": [
      "Loading dataset: 100%|██████████| 1/1 [00:01<00:00,  1.79s/it]\n"
     ]
    },
    {
     "name": "stdout",
     "output_type": "stream",
     "text": [
      "Submission saved to: submission.csv\n"
     ]
    }
   ],
   "source": [
    "import torch\n",
    "import numpy as np\n",
    "from scipy.ndimage import label, center_of_mass\n",
    "import pandas as pd\n",
    "from tqdm import tqdm\n",
    "from monai.data import CacheDataset, DataLoader\n",
    "from monai.transforms import Compose, NormalizeIntensity\n",
    "import cc3d\n",
    "\n",
    "def dict_to_df(coord_dict, experiment_name):\n",
    "    all_coords = []\n",
    "    all_labels = []\n",
    "    \n",
    "    for label, coords in coord_dict.items():\n",
    "        all_coords.append(coords)\n",
    "        all_labels.extend([label] * len(coords))\n",
    "    \n",
    "    all_coords = np.vstack(all_coords)\n",
    "    df = pd.DataFrame({\n",
    "        'experiment': experiment_name,\n",
    "        'particle_type': all_labels,\n",
    "        'x': all_coords[:, 0],\n",
    "        'y': all_coords[:, 1],\n",
    "        'z': all_coords[:, 2]\n",
    "    })\n",
    "    return df\n",
    "\n",
    "id_to_name = {1: \"apo-ferritin\", \n",
    "              2: \"beta-amylase\",\n",
    "              3: \"beta-galactosidase\", \n",
    "              4: \"ribosome\", \n",
    "              5: \"thyroglobulin\", \n",
    "              6: \"virus-like-particle\"}\n",
    "BLOB_THRESHOLD = 200\n",
    "CERTAINTY_THRESHOLD = 0.05\n",
    "\n",
    "classes = [1, 2, 3, 4, 5, 6]\n",
    "\n",
    "model.eval()\n",
    "with torch.no_grad():\n",
    "    location_dfs = []  # DataFrame 리스트로 초기화\n",
    "    \n",
    "    for vol_idx, run in enumerate(preprocessor.root.runs):\n",
    "        print(f\"Processing volume {vol_idx + 1}/{len(preprocessor.root.runs)}\")\n",
    "        tomogram = preprocessor.processing(run=run, task=\"task\")\n",
    "        task_files = [{\"image\": tomogram}]\n",
    "        task_ds = CacheDataset(data=task_files, transform=non_random_transforms)\n",
    "        task_loader = DataLoader(task_ds, batch_size=1, num_workers=0)\n",
    "        \n",
    "        for task_data in task_loader:\n",
    "            images = task_data['image'].to(\"cuda\")\n",
    "            outputs = sliding_window_inference(\n",
    "                inputs=images,\n",
    "                roi_size=(96, 96, 96),  # ROI 크기\n",
    "                sw_batch_size=4,\n",
    "                predictor=model.forward,\n",
    "                overlap=0.1,\n",
    "                sw_device=\"cuda\",\n",
    "                device=\"cpu\",\n",
    "                buffer_steps=1,\n",
    "                buffer_dim=-1\n",
    "            )\n",
    "            outputs = outputs.argmax(dim=1).squeeze(0).cpu().numpy()  # 클래스 채널 예측\n",
    "            location = {}  # 좌표 저장용 딕셔너리\n",
    "            for c in classes:\n",
    "                cc = cc3d.connected_components(outputs == c)  # cc3d 라벨링\n",
    "                stats = cc3d.statistics(cc)\n",
    "                zyx = stats['centroids'][1:] * 10.012444  # 스케일 변환\n",
    "                zyx_large = zyx[stats['voxel_counts'][1:] > BLOB_THRESHOLD]  # 크기 필터링\n",
    "                xyz = np.ascontiguousarray(zyx_large[:, ::-1])  # 좌표 스왑 (z, y, x -> x, y, z)\n",
    "\n",
    "                location[id_to_name[c]] = xyz  # ID 이름 매칭 저장\n",
    "\n",
    "            # 데이터프레임 변환\n",
    "            df = dict_to_df(location, run.name)\n",
    "            location_dfs.append(df)  # 리스트에 추가\n",
    "        \n",
    "        # if vol_idx == 2:\n",
    "        #     break\n",
    "    \n",
    "    # DataFrame 병합\n",
    "    final_df = pd.concat(location_dfs, ignore_index=True)\n",
    "    \n",
    "    # ID 추가 및 CSV 저장\n",
    "    final_df.insert(loc=0, column='id', value=np.arange(len(final_df)))\n",
    "    final_df.to_csv(\"submission.csv\", index=False)\n",
    "    print(\"Submission saved to: submission.csv\")\n"
   ]
  }
 ],
 "metadata": {
  "kernelspec": {
   "display_name": "ship",
   "language": "python",
   "name": "python3"
  },
  "language_info": {
   "codemirror_mode": {
    "name": "ipython",
    "version": 3
   },
   "file_extension": ".py",
   "mimetype": "text/x-python",
   "name": "python",
   "nbconvert_exporter": "python",
   "pygments_lexer": "ipython3",
   "version": "3.12.7"
  }
 },
 "nbformat": 4,
 "nbformat_minor": 2
}
