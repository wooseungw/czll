{
 "cells": [
  {
   "cell_type": "code",
   "execution_count": 1,
   "metadata": {},
   "outputs": [
    {
     "name": "stderr",
     "output_type": "stream",
     "text": [
      "c:\\Users\\pook0\\.conda\\envs\\UM\\Lib\\site-packages\\tqdm\\auto.py:21: TqdmWarning: IProgress not found. Please update jupyter and ipywidgets. See https://ipywidgets.readthedocs.io/en/stable/user_install.html\n",
      "  from .autonotebook import tqdm as notebook_tqdm\n"
     ]
    },
    {
     "name": "stdout",
     "output_type": "stream",
     "text": [
      "MONAI version: 1.4.0\n",
      "Numpy version: 1.26.4\n",
      "Pytorch version: 2.4.1+cu121\n",
      "MONAI flags: HAS_EXT = False, USE_COMPILED = False, USE_META_DICT = False\n",
      "MONAI rev id: 46a5272196a6c2590ca2589029eed8e4d56ff008\n",
      "MONAI __file__: c:\\Users\\<username>\\.conda\\envs\\UM\\Lib\\site-packages\\monai\\__init__.py\n",
      "\n",
      "Optional dependencies:\n",
      "Pytorch Ignite version: NOT INSTALLED or UNKNOWN VERSION.\n",
      "ITK version: NOT INSTALLED or UNKNOWN VERSION.\n",
      "Nibabel version: 5.3.2\n",
      "scikit-image version: 0.24.0\n",
      "scipy version: 1.14.1\n",
      "Pillow version: 10.2.0\n",
      "Tensorboard version: 2.18.0\n",
      "gdown version: 5.2.0\n",
      "TorchVision version: 0.19.1+cu121\n",
      "tqdm version: 4.66.5\n",
      "lmdb version: NOT INSTALLED or UNKNOWN VERSION.\n",
      "psutil version: 6.0.0\n",
      "pandas version: 2.2.3\n",
      "einops version: 0.8.0\n",
      "transformers version: NOT INSTALLED or UNKNOWN VERSION.\n",
      "mlflow version: 2.17.2\n",
      "pynrrd version: NOT INSTALLED or UNKNOWN VERSION.\n",
      "clearml version: NOT INSTALLED or UNKNOWN VERSION.\n",
      "\n",
      "For details about installing the optional dependencies, please visit:\n",
      "    https://docs.monai.io/en/latest/installation.html#installing-the-recommended-dependencies\n",
      "\n"
     ]
    }
   ],
   "source": [
    "import os\n",
    "import shutil\n",
    "import tempfile\n",
    "\n",
    "import matplotlib.pyplot as plt\n",
    "from tqdm import tqdm\n",
    "\n",
    "import random\n",
    "import numpy as np\n",
    "import torch\n",
    "\n",
    "from src.models import UNet_CBAM\n",
    "\n",
    "from monai.losses import DiceCELoss\n",
    "from monai.inferers import sliding_window_inference\n",
    "from monai.transforms import (\n",
    "    AsDiscrete,\n",
    "    EnsureChannelFirstd,\n",
    "    Compose,\n",
    "    CropForegroundd,\n",
    "    LoadImaged,\n",
    "    Orientationd,\n",
    "    RandFlipd,\n",
    "    RandCropByPosNegLabeld,\n",
    "    RandShiftIntensityd,\n",
    "    ScaleIntensityRanged,\n",
    "    Spacingd,\n",
    "    RandRotate90d,\n",
    ")\n",
    "\n",
    "from monai.networks.layers.factories import Act, Norm\n",
    "\n",
    "from monai.config import print_config\n",
    "from monai.metrics import DiceMetric\n",
    "# from src.models.swincspunetr import SwinCSPUNETR\n",
    "# from src.models.swincspunetr_unet import SwinCSPUNETR_unet\n",
    "# from src.models.swincspunetr3plus import SwinCSPUNETR3plus\n",
    "\n",
    "from monai.data import (\n",
    "    DataLoader,\n",
    "    CacheDataset,\n",
    "    load_decathlon_datalist,\n",
    "    decollate_batch,\n",
    ")\n",
    "\n",
    "# 랜덤 시드 고정\n",
    "def set_seed(seed):\n",
    "    random.seed(seed)\n",
    "    np.random.seed(seed)\n",
    "    torch.manual_seed(seed)\n",
    "    if torch.cuda.is_available():\n",
    "        torch.cuda.manual_seed_all(seed)\n",
    "\n",
    "set_seed(42)\n",
    "\n",
    "\n",
    "print_config()"
   ]
  },
  {
   "cell_type": "code",
   "execution_count": 2,
   "metadata": {},
   "outputs": [
    {
     "name": "stdout",
     "output_type": "stream",
     "text": [
      "클래스 비율: {0: 0.0, 1: 0.16393442622950818, 2: 0.01639344262295082, 3: 0.2459016393442623, 4: 0.16393442622950818, 5: 0.2459016393442623, 6: 0.16393442622950818}\n",
      "최종 합계: 1.0\n",
      "클래스 비율 리스트: [0.0, 0.16393442622950818, 0.01639344262295082, 0.2459016393442623, 0.16393442622950818, 0.2459016393442623, 0.16393442622950818]\n"
     ]
    }
   ],
   "source": [
    "class_info = {\n",
    "    0: {\"name\": \"background\", \"weight\": 0},  # weight 없음\n",
    "    1: {\"name\": \"apo-ferritin\", \"weight\": 1000},\n",
    "    2: {\"name\": \"beta-amylase\", \"weight\": 100}, # 4130\n",
    "    3: {\"name\": \"beta-galactosidase\", \"weight\": 1500}, #3080\n",
    "    4: {\"name\": \"ribosome\", \"weight\": 1000},\n",
    "    5: {\"name\": \"thyroglobulin\", \"weight\": 1500},\n",
    "    6: {\"name\": \"virus-like-particle\", \"weight\": 1000},\n",
    "}\n",
    "\n",
    "# 가중치에 비례한 비율 계산\n",
    "raw_ratios = {\n",
    "    k: (v[\"weight\"] if v[\"weight\"] is not None else 0.01)  # 가중치 비례, None일 경우 기본값a\n",
    "    for k, v in class_info.items()\n",
    "}\n",
    "total = sum(raw_ratios.values())\n",
    "ratios = {k: v / total for k, v in raw_ratios.items()}\n",
    "\n",
    "# 최종 합계가 1인지 확인\n",
    "final_total = sum(ratios.values())\n",
    "print(\"클래스 비율:\", ratios)\n",
    "print(\"최종 합계:\", final_total)\n",
    "\n",
    "# 비율을 리스트로 변환\n",
    "ratios_list = [ratios[k] for k in sorted(ratios.keys())]\n",
    "print(\"클래스 비율 리스트:\", ratios_list)"
   ]
  },
  {
   "cell_type": "markdown",
   "metadata": {},
   "source": [
    "# 모델 설정"
   ]
  },
  {
   "cell_type": "code",
   "execution_count": 3,
   "metadata": {},
   "outputs": [],
   "source": [
    "from src.dataset.dataset import create_dataloaders, create_dataloaders_bw\n",
    "from monai.transforms import (\n",
    "    Compose, LoadImaged, EnsureChannelFirstd, NormalizeIntensityd,\n",
    "    Orientationd, CropForegroundd, GaussianSmoothd, ScaleIntensityd,\n",
    "    RandSpatialCropd, RandRotate90d, RandFlipd, RandGaussianNoised,\n",
    "    ToTensord, RandCropByLabelClassesd, RandCropd,RandCropByPosNegLabeld, RandGaussianSmoothd\n",
    ")\n",
    "from monai.transforms import CastToTyped\n",
    "import numpy as np\n",
    "\n",
    "train_img_dir = \"./datasets/pretrain_exdata/images\"\n",
    "train_label_dir = \"./datasets/pretrain_exdata/labels\"\n",
    "val_img_dir = \"./datasets/val/images\"\n",
    "val_label_dir = \"./datasets/val/labels\"\n",
    "# DATA CONFIG\n",
    "img_size =  96 # Match your patch size\n",
    "img_depth = 32\n",
    "n_classes = 7\n",
    "batch_size = 16 # 13.8GB GPU memory required for 128x128 img size\n",
    "loader_batch = 1\n",
    "num_samples = batch_size // loader_batch # 한 이미지에서 뽑을 샘플 수\n",
    "num_repeat = 4\n",
    "# MODEL CONFIG\n",
    "num_epochs = 4000\n",
    "lamda = 0.52\n",
    "ce_weight = 0.4\n",
    "lr = 0.001\n",
    "feature_size = 48\n",
    "use_checkpoint = True\n",
    "use_v2 = True\n",
    "drop_rate= 0.25\n",
    "attn_drop_rate = 0.25\n",
    "num_bottleneck = 2\n",
    "# CLASS_WEIGHTS\n",
    "class_weights = None\n",
    "# class_weights = torch.tensor([0.0001, 1, 0.001, 1.1, 1, 1.1, 1], dtype=torch.float32)  # 클래스별 가중치\n",
    "# class_weights = torch.tensor([0.9,1,0.9,1.1,1,1.1,1], dtype=torch.float32)  # 클래스별 가중치\n",
    "# class_weights = torch.tensor([1,1,1,1,1,1,1], dtype=torch.float32)  # 클래스별 가중치\n",
    "sigma = 2.0\n",
    "accumulation_steps = 1\n",
    "# INIT\n",
    "start_epoch = 0\n",
    "best_val_loss = float('inf')\n",
    "best_val_fbeta_score = 0\n",
    "\n",
    "non_random_transforms = Compose([\n",
    "    EnsureChannelFirstd(keys=[\"image\", \"label\"], channel_dim=\"no_channel\"),\n",
    "    NormalizeIntensityd(keys=\"image\"),\n",
    "    Orientationd(keys=[\"image\", \"label\"], axcodes=\"RAS\"),\n",
    "    # GaussianSmoothd(\n",
    "    #     keys=[\"image\"],      # 변환을 적용할 키\n",
    "    #     sigma=[sigma, sigma, sigma]  # 각 축(x, y, z)의 시그마 값\n",
    "    #     ),\n",
    "])\n",
    "random_transforms = Compose([\n",
    "    RandCropByLabelClassesd(\n",
    "        keys=[\"image\", \"label\"],\n",
    "        label_key=\"label\",\n",
    "        spatial_size=[img_depth, img_size, img_size],\n",
    "        num_classes=n_classes,\n",
    "        num_samples=num_samples, \n",
    "        ratios=ratios_list,\n",
    "    ),\n",
    "    RandRotate90d(keys=[\"image\", \"label\"], prob=0.5, spatial_axes=[1, 2]),\n",
    "    RandFlipd(keys=[\"image\", \"label\"], prob=0.5, spatial_axis=0),\n",
    "    RandFlipd(keys=[\"image\", \"label\"], prob=0.5, spatial_axis=1),\n",
    "    RandFlipd(keys=[\"image\", \"label\"], prob=0.5, spatial_axis=2),\n",
    "    RandGaussianSmoothd(\n",
    "    keys=[\"image\"],      # 변환을 적용할 키\n",
    "    sigma_x = (0.0, sigma), # 각 축(x, y, z)의 시그마 값\n",
    "    sigma_y = (0.0, sigma),\n",
    "    sigma_z = (0.0, sigma),\n",
    "    prob=1.0,\n",
    "    ),\n",
    "])\n",
    "val_random_transforms = Compose([\n",
    "    RandCropByLabelClassesd(\n",
    "        keys=[\"image\", \"label\"],\n",
    "        label_key=\"label\",\n",
    "        spatial_size=[img_depth, img_size, img_size],\n",
    "        num_classes=n_classes,\n",
    "        num_samples=num_samples, \n",
    "        ratios=ratios_list,\n",
    "    ),\n",
    "    RandRotate90d(keys=[\"image\", \"label\"], prob=0.5, spatial_axes=[1, 2]),\n",
    "    RandFlipd(keys=[\"image\", \"label\"], prob=0.5, spatial_axis=0),\n",
    "    RandFlipd(keys=[\"image\", \"label\"], prob=0.5, spatial_axis=1),\n",
    "    RandFlipd(keys=[\"image\", \"label\"], prob=0.5, spatial_axis=2),\n",
    "    # RandGaussianSmoothd(\n",
    "    # keys=[\"image\"],      # 변환을 적용할 키\n",
    "    # sigma_x = (0.0, sigma), # 각 축(x, y, z)의 시그마 값\n",
    "    # sigma_y = (0.0, sigma),\n",
    "    # sigma_z = (0.0, sigma),\n",
    "    # prob=1.0,\n",
    "    # ),\n",
    "])\n"
   ]
  },
  {
   "cell_type": "code",
   "execution_count": 4,
   "metadata": {},
   "outputs": [
    {
     "name": "stderr",
     "output_type": "stream",
     "text": [
      "Loading dataset: 100%|██████████| 51/51 [00:04<00:00, 10.24it/s]\n",
      "Loading dataset: 100%|██████████| 1/1 [00:00<00:00,  9.39it/s]\n"
     ]
    }
   ],
   "source": [
    "train_loader, val_loader = None, None\n",
    "train_loader, val_loader = create_dataloaders_bw(\n",
    "    train_img_dir, \n",
    "    train_label_dir, \n",
    "    val_img_dir, \n",
    "    val_label_dir, \n",
    "    non_random_transforms = non_random_transforms, \n",
    "    val_non_random_transforms=non_random_transforms,\n",
    "    random_transforms = random_transforms, \n",
    "    val_random_transforms=val_random_transforms,\n",
    "    batch_size = loader_batch,\n",
    "    num_workers=0,\n",
    "    train_num_repeat=num_repeat,\n",
    "    val_num_repeat=num_repeat,\n",
    "    )"
   ]
  },
  {
   "cell_type": "markdown",
   "metadata": {},
   "source": [
    "https://monai.io/model-zoo.html"
   ]
  },
  {
   "cell_type": "code",
   "execution_count": 4,
   "metadata": {},
   "outputs": [],
   "source": [
    "import torch\n",
    "import torch.nn as nn\n",
    "import torch.nn.functional as F\n",
    "from monai.losses import TverskyLoss\n",
    "\n",
    "device = torch.device(\"cuda\" if torch.cuda.is_available() else \"cpu\")\n",
    "\n",
    "# DynamicTverskyLoss 클래스 정의\n",
    "class DynamicTverskyLoss(TverskyLoss):\n",
    "    def __init__(self, lamda=0.5, **kwargs):\n",
    "        super().__init__(alpha=1 - lamda, beta=lamda, **kwargs)\n",
    "        self.lamda = lamda\n",
    "\n",
    "    def set_lamda(self, lamda):\n",
    "        self.lamda = lamda\n",
    "        self.alpha = 1 - lamda\n",
    "        self.beta = lamda\n",
    "\n",
    "\n",
    "# CombinedCETverskyLoss 클래스\n",
    "class CombinedCETverskyLoss(nn.Module):\n",
    "\n",
    "    \n",
    "    def __init__(self, lamda=0.5, ce_weight=0.5, n_classes=7, class_weights=None, ignore_index=-1, **kwargs):\n",
    "        super().__init__()\n",
    "        self.n_classes = n_classes\n",
    "        self.ce_weight = ce_weight\n",
    "        self.ignore_index = ignore_index\n",
    "        \n",
    "        # CrossEntropyLoss에서 클래스별 가중치를 적용\n",
    "        self.ce = nn.CrossEntropyLoss(ignore_index=self.ignore_index, reduction='mean', **kwargs)\n",
    "        \n",
    "        # TverskyLoss\n",
    "        self.tversky = DynamicTverskyLoss(lamda=lamda, reduction=\"mean\",softmax=True, **kwargs)\n",
    "\n",
    "    def forward(self, inputs, targets):\n",
    "        \n",
    "        # CrossEntropyLoss는 정수형 클래스 인덱스를 사용\n",
    "        ce_loss = self.ce(inputs, targets)\n",
    "\n",
    "        # TverskyLoss 계산 (원핫 인코딩된 라벨을 사용)\n",
    "        \n",
    "        tversky_loss = self.tversky(inputs, targets)\n",
    "\n",
    "        # 최종 손실 계산\n",
    "        final_loss = self.ce_weight * ce_loss + (1 - self.ce_weight) * tversky_loss  # mean()으로 배치에 대해 평균\n",
    "        \n",
    "        return final_loss\n",
    "\n",
    "    def set_lamda(self, lamda):\n",
    "        self.tversky.set_lamda(lamda)\n",
    "\n",
    "    @property\n",
    "    def lamda(self):\n",
    "        return self.tversky.lamda\n",
    "\n",
    "criterion = CombinedCETverskyLoss(\n",
    "    lamda=lamda,\n",
    "    ce_weight=ce_weight,\n",
    "    n_classes=n_classes,\n",
    "    class_weights=class_weights,\n",
    ").to(device)"
   ]
  },
  {
   "cell_type": "code",
   "execution_count": 5,
   "metadata": {},
   "outputs": [
    {
     "name": "stdout",
     "output_type": "stream",
     "text": [
      "기존 best model 발견: model_checkpoints\\FLEX_IoU_511_241_f48_lr1e-03_a0.52_b16_r4_ce0.4_ac1\\best_model_pretrained.pt\n",
      "기존 학습된 가중치를 성공적으로 로드했습니다.\n"
     ]
    },
    {
     "name": "stderr",
     "output_type": "stream",
     "text": [
      "C:\\Users\\pook0\\AppData\\Local\\Temp\\ipykernel_20404\\3561907438.py:66: FutureWarning: You are using `torch.load` with `weights_only=False` (the current default value), which uses the default pickle module implicitly. It is possible to construct malicious pickle data which will execute arbitrary code during unpickling (See https://github.com/pytorch/pytorch/blob/main/SECURITY.md#untrusted-models for more details). In a future release, the default value for `weights_only` will be flipped to `True`. This limits the functions that could be executed during unpickling. Arbitrary objects will no longer be allowed to be loaded via this mode unless they are explicitly allowlisted by the user via `torch.serialization.add_safe_globals`. We recommend you start setting `weights_only=True` for any use case where you don't have full control of the loaded file. Please open an issue on GitHub for any issues related to this experimental feature.\n",
      "  checkpoint = torch.load(best_model_path, map_location=device)\n"
     ]
    }
   ],
   "source": [
    "import torch.optim as optim\n",
    "from tqdm import tqdm\n",
    "import numpy as np\n",
    "import torch\n",
    "from pathlib import Path\n",
    "from monai.networks.nets import UNet\n",
    "from src.models import *\n",
    "\n",
    "\n",
    "device = torch.device(\"cuda\" if torch.cuda.is_available() else \"cpu\")\n",
    "\n",
    "enc_channels = (32, 64, 128, 256)\n",
    "enc_strides = (2, 2, 2)\n",
    "num_layers_enc = (1, 1, 1, 2)\n",
    "\n",
    "core_channels = 64\n",
    "dec_channels = (128, 64, 32)\n",
    "dec_strides = (2, 2, 2)\n",
    "num_layers_dec = (1, 1, 1)\n",
    "\n",
    "skip_map = {\n",
    "    0: [(\"enc\", 2)],       # 디코더0 => 인코더2\n",
    "    1: [(\"enc\", 3), (\"enc\", 1)],  # 디코더1 => 인코더1 + 디코더0\n",
    "    2: [(\"enc\", 3), (\"dec\", 0), (\"enc\", 0)]   # 디코더2 => 인코더0 + 디코더1\n",
    "}\n",
    "\n",
    "model = FlexibleUNet(\n",
    "    spatial_dims=3,\n",
    "    in_channels=1,\n",
    "    out_channels=n_classes,\n",
    "    encoder_channels=enc_channels,\n",
    "    encoder_strides=enc_strides,\n",
    "    core_channels=core_channels,\n",
    "    decoder_channels=dec_channels,\n",
    "    decoder_strides=dec_strides,\n",
    "    num_layers_encoder=num_layers_enc,\n",
    "    num_layers_decoder=num_layers_dec,\n",
    "    skip_connections=skip_map,\n",
    "    kernel_size=3,\n",
    "    up_kernel_size=3,\n",
    "    act=Act.PRELU,\n",
    "    norm=Norm.INSTANCE,\n",
    "    dropout=drop_rate,\n",
    "    bias=True,\n",
    "    mode=\"trilinear\",\n",
    "    align_corners=False,\n",
    ").to(device)\n",
    "\n",
    "pretrain_str = \"yes\" if use_checkpoint else \"no\"\n",
    "weight_str = \"weighted\" if class_weights is not None else \"\"\n",
    "\n",
    "# 체크포인트 디렉토리 및 파일 설정\n",
    "checkpoint_base_dir = Path(\"./model_checkpoints\")\n",
    "folder_name = f\"FLEX_IoU_511_241_f{feature_size}_lr{lr:.0e}_a{lamda:.2f}_b{batch_size}_r{num_repeat}_ce{ce_weight}_ac{accumulation_steps}\"\n",
    "checkpoint_dir = checkpoint_base_dir / folder_name\n",
    "optimizer = optim.AdamW(model.parameters(), lr=lr, weight_decay=1e-5)\n",
    "scheduler = torch.optim.lr_scheduler.ReduceLROnPlateau(optimizer, patience=5, factor=0.5)\n",
    "# 체크포인트 디렉토리 생성\n",
    "checkpoint_dir.mkdir(parents=True, exist_ok=True)\n",
    "\n",
    "if checkpoint_dir.exists():\n",
    "    best_model_path = checkpoint_dir / 'best_model_pretrained.pt'\n",
    "    if best_model_path.exists():\n",
    "        print(f\"기존 best model 발견: {best_model_path}\")\n",
    "        try:\n",
    "            checkpoint = torch.load(best_model_path, map_location=device)\n",
    "            # 체크포인트 내부 키 검증\n",
    "            required_keys = ['model_state_dict', 'optimizer_state_dict', 'epoch', 'best_val_loss', 'best_val_fbeta_score']\n",
    "            if all(k in checkpoint for k in required_keys):\n",
    "                model.load_state_dict(checkpoint['model_state_dict'])\n",
    "                optimizer.load_state_dict(checkpoint['optimizer_state_dict'])\n",
    "                start_epoch = checkpoint['epoch']\n",
    "                best_val_loss = checkpoint['best_val_loss']\n",
    "                best_val_fbeta_score = checkpoint['best_val_fbeta_score']\n",
    "                print(\"기존 학습된 가중치를 성공적으로 로드했습니다.\")\n",
    "                checkpoint= None\n",
    "            else:\n",
    "                raise ValueError(\"체크포인트 파일에 필요한 key가 없습니다.\")\n",
    "        except Exception as e:\n",
    "            print(f\"체크포인트 파일을 로드하는 중 오류 발생: {e}\")"
   ]
  },
  {
   "cell_type": "code",
   "execution_count": 7,
   "metadata": {},
   "outputs": [
    {
     "name": "stdout",
     "output_type": "stream",
     "text": [
      "torch.Size([16, 1, 32, 96, 96]) torch.Size([16, 1, 32, 96, 96])\n"
     ]
    }
   ],
   "source": [
    "batch = next(iter(val_loader))\n",
    "images, labels = batch[\"image\"], batch[\"label\"]\n",
    "print(images.shape, labels.shape)"
   ]
  },
  {
   "cell_type": "code",
   "execution_count": 8,
   "metadata": {},
   "outputs": [],
   "source": [
    "torch.backends.cudnn.benchmark = True"
   ]
  },
  {
   "cell_type": "code",
   "execution_count": 9,
   "metadata": {},
   "outputs": [
    {
     "name": "stderr",
     "output_type": "stream",
     "text": [
      "\u001b[34m\u001b[1mwandb\u001b[0m: Using wandb-core as the SDK backend.  Please refer to https://wandb.me/wandb-core for more information.\n",
      "\u001b[34m\u001b[1mwandb\u001b[0m: Currently logged in as: \u001b[33mpook0612\u001b[0m (\u001b[33mlimbw\u001b[0m). Use \u001b[1m`wandb login --relogin`\u001b[0m to force relogin\n"
     ]
    },
    {
     "data": {
      "text/html": [
       "Tracking run with wandb version 0.19.1"
      ],
      "text/plain": [
       "<IPython.core.display.HTML object>"
      ]
     },
     "metadata": {},
     "output_type": "display_data"
    },
    {
     "data": {
      "text/html": [
       "Run data is saved locally in <code>d:\\Workspace\\czll\\wandb\\run-20250120_170739-s09n9uq4</code>"
      ],
      "text/plain": [
       "<IPython.core.display.HTML object>"
      ]
     },
     "metadata": {},
     "output_type": "display_data"
    },
    {
     "data": {
      "text/html": [
       "Syncing run <strong><a href='https://wandb.ai/limbw/czii_UNet/runs/s09n9uq4' target=\"_blank\">FLEX_IoU_511_241_f48_lr1e-03_a0.52_b16_r4_ce0.4_ac1</a></strong> to <a href='https://wandb.ai/limbw/czii_UNet' target=\"_blank\">Weights & Biases</a> (<a href='https://wandb.me/developer-guide' target=\"_blank\">docs</a>)<br>"
      ],
      "text/plain": [
       "<IPython.core.display.HTML object>"
      ]
     },
     "metadata": {},
     "output_type": "display_data"
    },
    {
     "data": {
      "text/html": [
       " View project at <a href='https://wandb.ai/limbw/czii_UNet' target=\"_blank\">https://wandb.ai/limbw/czii_UNet</a>"
      ],
      "text/plain": [
       "<IPython.core.display.HTML object>"
      ]
     },
     "metadata": {},
     "output_type": "display_data"
    },
    {
     "data": {
      "text/html": [
       " View run at <a href='https://wandb.ai/limbw/czii_UNet/runs/s09n9uq4' target=\"_blank\">https://wandb.ai/limbw/czii_UNet/runs/s09n9uq4</a>"
      ],
      "text/plain": [
       "<IPython.core.display.HTML object>"
      ]
     },
     "metadata": {},
     "output_type": "display_data"
    }
   ],
   "source": [
    "import wandb\n",
    "from datetime import datetime\n",
    "\n",
    "current_time = datetime.now().strftime('%Y%m%d_%H%M%S')\n",
    "run_name = folder_name\n",
    "\n",
    "# wandb 초기화\n",
    "wandb.init(\n",
    "    project='czii_UNet',  # 프로젝트 이름 설정\n",
    "    name=run_name,         # 실행(run) 이름 설정\n",
    "    config={\n",
    "        'num_epochs': num_epochs,\n",
    "        'learning_rate': lr,\n",
    "        'batch_size': batch_size,\n",
    "        'lambda': lamda,\n",
    "        \"cross_entropy_weight\": ce_weight,\n",
    "        'feature_size': feature_size,\n",
    "        'img_size': img_size,\n",
    "        'sampling_ratio': ratios_list,\n",
    "        'device': device.type,\n",
    "        \"checkpoint_dir\": str(checkpoint_dir),\n",
    "        \"class_weights\": class_weights.tolist() if class_weights is not None else None,\n",
    "        # \"use_checkpoint\": use_checkpoint,\n",
    "        \"drop_rate\": drop_rate,\n",
    "        # \"attn_drop_rate\": attn_drop_rate,\n",
    "        # \"use_v2\": use_v2,\n",
    "        \"accumulation_steps\": accumulation_steps,\n",
    "        \"num_repeat\": num_repeat,\n",
    "        # \"num_bottleneck\": num_bottleneck,\n",
    "        \n",
    "        # 필요한 하이퍼파라미터 추가\n",
    "    }\n",
    ")\n",
    "# 모델을 wandb에 연결\n",
    "wandb.watch(model, log='all')"
   ]
  },
  {
   "cell_type": "markdown",
   "metadata": {},
   "source": [
    "# 학습"
   ]
  },
  {
   "cell_type": "code",
   "execution_count": 6,
   "metadata": {},
   "outputs": [],
   "source": [
    "from monai.metrics import DiceMetric\n",
    "    \n",
    "def processing(batch_data, model, criterion, device):\n",
    "    images = batch_data['image'].to(device)  # Input 이미지 (B, 1, 96, 96, 96)\n",
    "    labels = batch_data['label'].to(device)  # 라벨 (B, 96, 96, 96)\n",
    "\n",
    "    labels = labels.squeeze(1)  # (B, 1, 96, 96, 96) → (B, 96, 96, 96)\n",
    "    labels = labels.long()  # 라벨을 정수형으로 변환\n",
    "\n",
    "    # 원핫 인코딩 (B, H, W, D) → (B, num_classes, H, W, D)\n",
    "    \n",
    "    labels_onehot = torch.nn.functional.one_hot(labels, num_classes=n_classes)\n",
    "    labels_onehot = labels_onehot.permute(0, 4, 1, 2, 3).float()  # (B, num_classes, H, W, D)\n",
    "\n",
    "    # 모델 예측\n",
    "    outputs = model(images)  # outputs: (B, num_classes, H, W, D)\n",
    "\n",
    "    # Loss 계산\n",
    "    loss = criterion(outputs, labels_onehot)\n",
    "    # loss = loss_fn(criterion(outputs, labels_onehot),class_weights=class_weights, device=device)\n",
    "    return loss, outputs, labels, outputs.argmax(dim=1)\n",
    "\n",
    "def train_one_epoch(model, train_loader, criterion, optimizer, device, epoch, accumulation_steps=4):\n",
    "    model.train()\n",
    "    epoch_loss = 0\n",
    "    optimizer.zero_grad()  # 그래디언트 초기화\n",
    "    with tqdm(train_loader, desc='Training') as pbar:\n",
    "        for i, batch_data in enumerate(pbar):\n",
    "            # 손실 계산\n",
    "            loss, _, _, _ = processing(batch_data, model, criterion, device)\n",
    "\n",
    "            # 그래디언트를 계산하고 누적\n",
    "            loss = loss / accumulation_steps  # 그래디언트 누적을 위한 스케일링\n",
    "            loss.backward()  # 그래디언트 계산 및 누적\n",
    "            \n",
    "            # 그래디언트 업데이트 (accumulation_steps마다 한 번)\n",
    "            if (i + 1) % accumulation_steps == 0 or (i + 1) == len(train_loader):\n",
    "                optimizer.step()  # 파라미터 업데이트\n",
    "                optimizer.zero_grad()  # 누적된 그래디언트 초기화\n",
    "            \n",
    "            # 손실값 누적 (스케일링 복구)\n",
    "            epoch_loss += loss.item() * accumulation_steps  # 실제 손실값 반영\n",
    "            pbar.set_postfix(loss=loss.item() * accumulation_steps)  # 실제 손실값 출력\n",
    "    avg_loss = epoch_loss / len(train_loader)\n",
    "    wandb.log({'train_epoch_loss': avg_loss, 'epoch': epoch + 1})\n",
    "    return avg_loss\n",
    "\n",
    "\n",
    "def validate_one_epoch(model, val_loader, criterion, device, epoch, calculate_dice_interval, ce_weight):\n",
    "    model.eval()\n",
    "    val_loss = 0\n",
    "    \n",
    "    class_dice_scores = {i: [] for i in range(n_classes)}\n",
    "    class_f_beta_scores = {i: [] for i in range(n_classes)}\n",
    "    class_mIoU_scores = {i: [] for i in range(n_classes)}\n",
    "    with torch.no_grad():\n",
    "        with tqdm(val_loader, desc='Validation') as pbar:\n",
    "            for batch_data in pbar:\n",
    "                loss, _, labels, preds = processing(batch_data, model, criterion, device)\n",
    "                val_loss += loss.item()\n",
    "                pbar.set_postfix(loss=loss.item())\n",
    "\n",
    "                # 각 클래스별 Dice 점수 계산\n",
    "                if epoch % calculate_dice_interval == 0:\n",
    "                    for i in range(n_classes):\n",
    "                        pred_i = (preds == i)\n",
    "                        label_i = (labels == i)\n",
    "                        dice_score = (2.0 * torch.sum(pred_i & label_i)) / (torch.sum(pred_i) + torch.sum(label_i) + 1e-8)\n",
    "                        class_dice_scores[i].append(dice_score.item())\n",
    "                        precision = (torch.sum(pred_i & label_i) + 1e-8) / (torch.sum(pred_i) + 1e-8)\n",
    "                        recall = (torch.sum(pred_i & label_i) + 1e-8) / (torch.sum(label_i) + 1e-8)\n",
    "                        f_beta_score = (1 + 4**2) * (precision * recall) / (4**2 * precision + recall + 1e-8)\n",
    "                        class_f_beta_scores[i].append(f_beta_score.item())\n",
    "                        intersection = torch.sum(pred_i & label_i).float()\n",
    "                        union = torch.sum(pred_i | label_i).float()\n",
    "                        iou = (intersection + 1e-8) / (union + 1e-8)\n",
    "                        class_mIoU_scores[i].append(iou.item())\n",
    "\n",
    "    avg_loss = val_loss / len(val_loader)\n",
    "    # 에포크별 평균 손실 로깅\n",
    "    wandb.log({'val_epoch_loss': avg_loss, 'epoch': epoch + 1})\n",
    "    \n",
    "    # 각 클래스별 평균 Dice 점수 출력\n",
    "    if epoch % calculate_dice_interval == 0:\n",
    "        print(\"Validation Dice Score\")\n",
    "        all_classes_dice_scores = []\n",
    "        for i in range(n_classes):\n",
    "            mean_dice = np.mean(class_dice_scores[i])\n",
    "            wandb.log({f'class_{i}_dice_score': mean_dice, 'epoch': epoch + 1})\n",
    "            print(f\"Class {i}: {mean_dice:.4f}\", end=\", \")\n",
    "            if i not in [0, 2]:  # 평균에 포함할 클래스만 추가\n",
    "                all_classes_dice_scores.append(mean_dice)\n",
    "            \n",
    "        print()\n",
    "    if epoch % calculate_dice_interval == 0:\n",
    "        print(\"Validation F-beta Score\")\n",
    "        all_classes_fbeta_scores = []\n",
    "        for i in range(n_classes):\n",
    "            mean_fbeta = np.mean(class_f_beta_scores[i])\n",
    "            wandb.log({f'class_{i}_f_beta_score': mean_fbeta, 'epoch': epoch + 1})\n",
    "            print(f\"Class {i}: {mean_fbeta:.4f}\", end=\", \")\n",
    "            if i not in [0, 2]:  # 평균에 포함할 클래스만 추가\n",
    "                all_classes_fbeta_scores.append(mean_fbeta)\n",
    "               \n",
    "        print() \n",
    "    if epoch % calculate_dice_interval == 0:\n",
    "        print(\"Validation mIoU Score\")\n",
    "        all_classes_mIoU_scores = []\n",
    "        for i in range(n_classes):\n",
    "            mean_IoU = np.mean(class_mIoU_scores[i])\n",
    "            wandb.log({f'class_{i}_IoU_score': mean_fbeta, 'epoch': epoch + 1})\n",
    "            print(f\"Class {i}: {mean_IoU:.4f}\", end=\", \")\n",
    "            if i not in [0, 2]:  # 평균에 포함할 클래스만 추가\n",
    "                all_classes_mIoU_scores.append(mean_IoU)\n",
    "                \n",
    "        print()\n",
    "        overall_mean_dice = np.mean(all_classes_dice_scores)\n",
    "        overall_mean_fbeta = np.mean(all_classes_fbeta_scores)\n",
    "        overall_mean_IoU = np.mean(all_classes_mIoU_scores)\n",
    "        wandb.log({'overall_mean_f_beta_score': overall_mean_fbeta, 'overall_mean_dice_score': overall_mean_dice, 'epoch': epoch + 1, 'overall_mean_IoU_score': overall_mean_IoU})\n",
    "        print(f\"\\nOverall Mean Dice Score: {overall_mean_dice:.4f}\\nOverall Mean F-beta Score: {overall_mean_fbeta:.4f}\\nOverall Mean IoU Score: {overall_mean_IoU:.4f}\")\n",
    "\n",
    "    if overall_mean_fbeta is None:\n",
    "        overall_mean_fbeta = 0\n",
    "\n",
    "    final_score = overall_mean_fbeta * (1 - ce_weight) + overall_mean_IoU * ce_weight\n",
    "    \n",
    "    return val_loss / len(val_loader), final_score \n",
    "\n",
    "def train_model(\n",
    "    model, train_loader, val_loader, criterion, optimizer, num_epochs, patience, \n",
    "    device, start_epoch, best_val_loss, best_val_fbeta_score, calculate_dice_interval=1,\n",
    "    accumulation_steps=4, pretrained=False\n",
    "):\n",
    "    \"\"\"\n",
    "    모델을 학습하고 검증하는 함수\n",
    "    Args:\n",
    "        model: 학습할 모델\n",
    "        train_loader: 학습 데이터 로더\n",
    "        val_loader: 검증 데이터 로더\n",
    "        criterion: 손실 함수\n",
    "        optimizer: 최적화 알고리즘\n",
    "        num_epochs: 총 학습 epoch 수\n",
    "        patience: early stopping 기준\n",
    "        device: GPU/CPU 장치\n",
    "        start_epoch: 시작 epoch\n",
    "        best_val_loss: 이전 최적 validation loss\n",
    "        best_val_fbeta_score: 이전 최적 validation f-beta score\n",
    "        calculate_dice_interval: Dice 점수 계산 주기\n",
    "    \"\"\"\n",
    "    epochs_no_improve = 0\n",
    "\n",
    "    for epoch in range(start_epoch, num_epochs):\n",
    "        print(f\"Epoch {epoch + 1}/{num_epochs}\")\n",
    "\n",
    "        # Train One Epoch\n",
    "        train_loss = train_one_epoch(\n",
    "            model=model, \n",
    "            train_loader=train_loader, \n",
    "            criterion=criterion, \n",
    "            optimizer=optimizer, \n",
    "            device=device,\n",
    "            epoch=epoch,\n",
    "            accumulation_steps= accumulation_steps\n",
    "        )\n",
    "        \n",
    "        scheduler.step(train_loss)\n",
    "        # Validate One Epoch\n",
    "        val_loss, overall_mean_fbeta_score = validate_one_epoch(\n",
    "            model=model, \n",
    "            val_loader=val_loader, \n",
    "            criterion=criterion, \n",
    "            device=device, \n",
    "            epoch=epoch, \n",
    "            calculate_dice_interval=calculate_dice_interval,\n",
    "            ce_weight = ce_weight\n",
    "        )\n",
    "\n",
    "        \n",
    "        print(f\"Training Loss: {train_loss:.4f}, Validation Loss: {val_loss:.4f}, Validation hybrid_score: {overall_mean_fbeta_score:.4f}\")\n",
    "\n",
    "        if val_loss < best_val_loss and overall_mean_fbeta_score > best_val_fbeta_score:\n",
    "            best_val_loss = val_loss\n",
    "            best_val_fbeta_score = overall_mean_fbeta_score\n",
    "            epochs_no_improve = 0\n",
    "            if pretrained:\n",
    "                checkpoint_path = os.path.join(checkpoint_dir, 'best_model_pretrained.pt')\n",
    "            else:\n",
    "                checkpoint_path = os.path.join(checkpoint_dir, 'best_model.pt')\n",
    "            torch.save({\n",
    "                'epoch': epoch + 1,\n",
    "                'model_state_dict': model.state_dict(),\n",
    "                'optimizer_state_dict': optimizer.state_dict(),\n",
    "                'best_val_loss': best_val_loss,\n",
    "                'best_val_fbeta_score': best_val_fbeta_score\n",
    "            }, checkpoint_path)\n",
    "            print(f\"========================================================\")\n",
    "            print(f\"SUPER Best model saved. Loss:{best_val_loss:.4f}, Score:{best_val_fbeta_score:.4f}\")\n",
    "            print(f\"========================================================\")\n",
    "\n",
    "        # Early stopping 조건 체크\n",
    "        if val_loss >= best_val_loss and overall_mean_fbeta_score <= best_val_fbeta_score:\n",
    "            epochs_no_improve += 1\n",
    "        else:\n",
    "            epochs_no_improve = 0\n",
    "\n",
    "        if epochs_no_improve >= patience:\n",
    "            print(\"Early stopping\")\n",
    "            checkpoint_path = os.path.join(checkpoint_dir, 'last.pt')\n",
    "            torch.save({\n",
    "                'epoch': epoch + 1,\n",
    "                'model_state_dict': model.state_dict(),\n",
    "                'optimizer_state_dict': optimizer.state_dict(),\n",
    "                'best_val_loss': best_val_loss,\n",
    "                'best_val_fbeta_score': best_val_fbeta_score\n",
    "            }, checkpoint_path)\n",
    "            break\n",
    "        # if epochs_no_improve % 6 == 0 & epochs_no_improve != 0:\n",
    "        #     # 손실이 개선되지 않았으므로 lambda 감소\n",
    "        #     new_lamda = max(criterion.lamda - 0.01, 0.35)  # 최소값은 0.1로 설정\n",
    "        #     criterion.set_lamda(new_lamda)\n",
    "        #     print(f\"Validation loss did not improve. Reducing lambda to {new_lamda:.4f}\")\n",
    "\n",
    "    wandb.finish()\n"
   ]
  },
  {
   "cell_type": "code",
   "execution_count": 11,
   "metadata": {},
   "outputs": [
    {
     "name": "stdout",
     "output_type": "stream",
     "text": [
      "Epoch 9/4000\n"
     ]
    },
    {
     "name": "stderr",
     "output_type": "stream",
     "text": [
      "Training: 100%|██████████| 204/204 [03:10<00:00,  1.07it/s, loss=0.439]\n",
      "Validation: 100%|██████████| 4/4 [00:02<00:00,  1.87it/s, loss=0.475]\n"
     ]
    },
    {
     "name": "stdout",
     "output_type": "stream",
     "text": [
      "Validation Dice Score\n",
      "Class 0: 0.9874, Class 1: 0.5307, Class 2: 0.0000, Class 3: 0.3157, Class 4: 0.6869, Class 5: 0.3269, Class 6: 0.8969, \n",
      "Validation F-beta Score\n",
      "Class 0: 0.9867, Class 1: 0.5791, Class 2: 0.0000, Class 3: 0.5371, Class 4: 0.7487, Class 5: 0.2776, Class 6: 0.9087, \n",
      "Validation mIoU Score\n",
      "Class 0: 0.9751, Class 1: 0.3655, Class 2: 0.0000, Class 3: 0.1890, Class 4: 0.5310, Class 5: 0.1956, Class 6: 0.8138, \n",
      "\n",
      "Overall Mean Dice Score: 0.5514\n",
      "Overall Mean F-beta Score: 0.6103\n",
      "Overall Mean IoU Score: 0.4190\n",
      "Training Loss: 0.4622, Validation Loss: 0.4593, Validation hybrid_score: 0.5338\n",
      "Epoch 10/4000\n"
     ]
    },
    {
     "name": "stderr",
     "output_type": "stream",
     "text": [
      "Training: 100%|██████████| 204/204 [02:43<00:00,  1.24it/s, loss=0.426]\n",
      "Validation: 100%|██████████| 4/4 [00:02<00:00,  1.81it/s, loss=0.455]\n"
     ]
    },
    {
     "name": "stdout",
     "output_type": "stream",
     "text": [
      "Validation Dice Score\n",
      "Class 0: 0.9831, Class 1: 0.5603, Class 2: 0.0000, Class 3: 0.3819, Class 4: 0.6511, Class 5: 0.3437, Class 6: 0.8978, \n",
      "Validation F-beta Score\n",
      "Class 0: 0.9785, Class 1: 0.5558, Class 2: 0.0000, Class 3: 0.5154, Class 4: 0.7683, Class 5: 0.3542, Class 6: 0.9274, \n",
      "Validation mIoU Score\n",
      "Class 0: 0.9668, Class 1: 0.4088, Class 2: 0.0000, Class 3: 0.2377, Class 4: 0.4836, Class 5: 0.2104, Class 6: 0.8168, \n",
      "\n",
      "Overall Mean Dice Score: 0.5670\n",
      "Overall Mean F-beta Score: 0.6242\n",
      "Overall Mean IoU Score: 0.4315\n",
      "Training Loss: 0.4573, Validation Loss: 0.4618, Validation hybrid_score: 0.5471\n",
      "Epoch 11/4000\n"
     ]
    },
    {
     "name": "stderr",
     "output_type": "stream",
     "text": [
      "Training: 100%|██████████| 204/204 [02:55<00:00,  1.16it/s, loss=0.429]\n",
      "Validation: 100%|██████████| 4/4 [00:02<00:00,  1.83it/s, loss=0.457]\n"
     ]
    },
    {
     "name": "stdout",
     "output_type": "stream",
     "text": [
      "Validation Dice Score\n",
      "Class 0: 0.9850, Class 1: 0.6743, Class 2: 0.0000, Class 3: 0.3228, Class 4: 0.7077, Class 5: 0.3966, Class 6: 0.8944, \n",
      "Validation F-beta Score\n",
      "Class 0: 0.9801, Class 1: 0.7434, Class 2: 0.0000, Class 3: 0.5828, Class 4: 0.8330, Class 5: 0.4030, Class 6: 0.9390, \n",
      "Validation mIoU Score\n",
      "Class 0: 0.9705, Class 1: 0.5119, Class 2: 0.0000, Class 3: 0.1948, Class 4: 0.5509, Class 5: 0.2486, Class 6: 0.8096, \n",
      "\n",
      "Overall Mean Dice Score: 0.5992\n",
      "Overall Mean F-beta Score: 0.7002\n",
      "Overall Mean IoU Score: 0.4632\n",
      "Training Loss: 0.4540, Validation Loss: 0.4538, Validation hybrid_score: 0.6054\n",
      "========================================================\n",
      "SUPER Best model saved. Loss:0.4538, Score:0.6054\n",
      "========================================================\n",
      "Epoch 12/4000\n"
     ]
    },
    {
     "name": "stderr",
     "output_type": "stream",
     "text": [
      "Training: 100%|██████████| 204/204 [02:42<00:00,  1.26it/s, loss=0.443]\n",
      "Validation: 100%|██████████| 4/4 [00:02<00:00,  1.91it/s, loss=0.469]\n"
     ]
    },
    {
     "name": "stdout",
     "output_type": "stream",
     "text": [
      "Validation Dice Score\n",
      "Class 0: 0.9832, Class 1: 0.7164, Class 2: 0.0076, Class 3: 0.2907, Class 4: 0.6890, Class 5: 0.3765, Class 6: 0.8861, \n",
      "Validation F-beta Score\n",
      "Class 0: 0.9771, Class 1: 0.7121, Class 2: 0.0041, Class 3: 0.4787, Class 4: 0.8219, Class 5: 0.3983, Class 6: 0.9459, \n",
      "Validation mIoU Score\n",
      "Class 0: 0.9669, Class 1: 0.5600, Class 2: 0.0038, Class 3: 0.1743, Class 4: 0.5267, Class 5: 0.2337, Class 6: 0.7959, \n",
      "\n",
      "Overall Mean Dice Score: 0.5917\n",
      "Overall Mean F-beta Score: 0.6714\n",
      "Overall Mean IoU Score: 0.4581\n",
      "Training Loss: 0.4484, Validation Loss: 0.4579, Validation hybrid_score: 0.5861\n",
      "Epoch 13/4000\n"
     ]
    },
    {
     "name": "stderr",
     "output_type": "stream",
     "text": [
      "Training: 100%|██████████| 204/204 [02:53<00:00,  1.17it/s, loss=0.423]\n",
      "Validation: 100%|██████████| 4/4 [00:02<00:00,  1.74it/s, loss=0.443]\n"
     ]
    },
    {
     "name": "stdout",
     "output_type": "stream",
     "text": [
      "Validation Dice Score\n",
      "Class 0: 0.9860, Class 1: 0.5753, Class 2: 0.0244, Class 3: 0.3701, Class 4: 0.7222, Class 5: 0.3955, Class 6: 0.9192, \n",
      "Validation F-beta Score\n",
      "Class 0: 0.9818, Class 1: 0.4955, Class 2: 0.0144, Class 3: 0.5324, Class 4: 0.8132, Class 5: 0.4599, Class 6: 0.9283, \n",
      "Validation mIoU Score\n",
      "Class 0: 0.9724, Class 1: 0.4083, Class 2: 0.0126, Class 3: 0.2338, Class 4: 0.5667, Class 5: 0.2584, Class 6: 0.8506, \n",
      "\n",
      "Overall Mean Dice Score: 0.5965\n",
      "Overall Mean F-beta Score: 0.6458\n",
      "Overall Mean IoU Score: 0.4636\n",
      "Training Loss: 0.4477, Validation Loss: 0.4557, Validation hybrid_score: 0.5729\n",
      "Epoch 14/4000\n"
     ]
    },
    {
     "name": "stderr",
     "output_type": "stream",
     "text": [
      "Training: 100%|██████████| 204/204 [02:57<00:00,  1.15it/s, loss=0.418]\n",
      "Validation: 100%|██████████| 4/4 [00:02<00:00,  1.80it/s, loss=0.446]\n"
     ]
    },
    {
     "name": "stdout",
     "output_type": "stream",
     "text": [
      "Validation Dice Score\n",
      "Class 0: 0.9848, Class 1: 0.6124, Class 2: 0.1466, Class 3: 0.4258, Class 4: 0.6410, Class 5: 0.3620, Class 6: 0.9178, \n",
      "Validation F-beta Score\n",
      "Class 0: 0.9797, Class 1: 0.6805, Class 2: 0.0969, Class 3: 0.6217, Class 4: 0.7978, Class 5: 0.4003, Class 6: 0.9516, \n",
      "Validation mIoU Score\n",
      "Class 0: 0.9701, Class 1: 0.4433, Class 2: 0.0795, Class 3: 0.2711, Class 4: 0.4763, Class 5: 0.2239, Class 6: 0.8487, \n",
      "\n",
      "Overall Mean Dice Score: 0.5918\n",
      "Overall Mean F-beta Score: 0.6904\n",
      "Overall Mean IoU Score: 0.4526\n",
      "Training Loss: 0.4439, Validation Loss: 0.4499, Validation hybrid_score: 0.5953\n",
      "Epoch 15/4000\n"
     ]
    },
    {
     "name": "stderr",
     "output_type": "stream",
     "text": [
      "Training: 100%|██████████| 204/204 [02:42<00:00,  1.26it/s, loss=0.439]\n",
      "Validation: 100%|██████████| 4/4 [00:02<00:00,  1.78it/s, loss=0.45] \n"
     ]
    },
    {
     "name": "stdout",
     "output_type": "stream",
     "text": [
      "Validation Dice Score\n",
      "Class 0: 0.9867, Class 1: 0.5600, Class 2: 0.1289, Class 3: 0.2761, Class 4: 0.6885, Class 5: 0.4876, Class 6: 0.8906, \n",
      "Validation F-beta Score\n",
      "Class 0: 0.9835, Class 1: 0.5964, Class 2: 0.1050, Class 3: 0.4322, Class 4: 0.7808, Class 5: 0.5112, Class 6: 0.9225, \n",
      "Validation mIoU Score\n",
      "Class 0: 0.9738, Class 1: 0.3913, Class 2: 0.0699, Class 3: 0.1631, Class 4: 0.5274, Class 5: 0.3235, Class 6: 0.8033, \n",
      "\n",
      "Overall Mean Dice Score: 0.5805\n",
      "Overall Mean F-beta Score: 0.6486\n",
      "Overall Mean IoU Score: 0.4417\n",
      "Training Loss: 0.4410, Validation Loss: 0.4449, Validation hybrid_score: 0.5659\n",
      "Epoch 16/4000\n"
     ]
    },
    {
     "name": "stderr",
     "output_type": "stream",
     "text": [
      "Training: 100%|██████████| 204/204 [02:57<00:00,  1.15it/s, loss=0.428]\n",
      "Validation: 100%|██████████| 4/4 [00:02<00:00,  1.69it/s, loss=0.437]\n"
     ]
    },
    {
     "name": "stdout",
     "output_type": "stream",
     "text": [
      "Validation Dice Score\n",
      "Class 0: 0.9825, Class 1: 0.7154, Class 2: 0.1744, Class 3: 0.2736, Class 4: 0.6389, Class 5: 0.5137, Class 6: 0.8761, \n",
      "Validation F-beta Score\n",
      "Class 0: 0.9738, Class 1: 0.7986, Class 2: 0.1743, Class 3: 0.4997, Class 4: 0.8394, Class 5: 0.6155, Class 6: 0.9333, \n",
      "Validation mIoU Score\n",
      "Class 0: 0.9656, Class 1: 0.5574, Class 2: 0.0963, Class 3: 0.1623, Class 4: 0.4724, Class 5: 0.3459, Class 6: 0.7842, \n",
      "\n",
      "Overall Mean Dice Score: 0.6035\n",
      "Overall Mean F-beta Score: 0.7373\n",
      "Overall Mean IoU Score: 0.4645\n",
      "Training Loss: 0.4501, Validation Loss: 0.4408, Validation hybrid_score: 0.6282\n",
      "========================================================\n",
      "SUPER Best model saved. Loss:0.4408, Score:0.6282\n",
      "========================================================\n",
      "Epoch 17/4000\n"
     ]
    },
    {
     "name": "stderr",
     "output_type": "stream",
     "text": [
      "Training: 100%|██████████| 204/204 [02:54<00:00,  1.17it/s, loss=0.435]\n",
      "Validation: 100%|██████████| 4/4 [00:02<00:00,  1.72it/s, loss=0.455]\n"
     ]
    },
    {
     "name": "stdout",
     "output_type": "stream",
     "text": [
      "Validation Dice Score\n",
      "Class 0: 0.9844, Class 1: 0.6265, Class 2: 0.1591, Class 3: 0.4440, Class 4: 0.7505, Class 5: 0.3762, Class 6: 0.8814, \n",
      "Validation F-beta Score\n",
      "Class 0: 0.9788, Class 1: 0.6850, Class 2: 0.1569, Class 3: 0.5872, Class 4: 0.8076, Class 5: 0.5026, Class 6: 0.9144, \n",
      "Validation mIoU Score\n",
      "Class 0: 0.9692, Class 1: 0.4651, Class 2: 0.0885, Class 3: 0.2904, Class 4: 0.6015, Class 5: 0.2351, Class 6: 0.7897, \n",
      "\n",
      "Overall Mean Dice Score: 0.6157\n",
      "Overall Mean F-beta Score: 0.6994\n",
      "Overall Mean IoU Score: 0.4764\n",
      "Training Loss: 0.4465, Validation Loss: 0.4472, Validation hybrid_score: 0.6102\n",
      "Epoch 18/4000\n"
     ]
    },
    {
     "name": "stderr",
     "output_type": "stream",
     "text": [
      "Training: 100%|██████████| 204/204 [02:53<00:00,  1.18it/s, loss=0.401]\n",
      "Validation: 100%|██████████| 4/4 [00:02<00:00,  1.73it/s, loss=0.41] \n"
     ]
    },
    {
     "name": "stdout",
     "output_type": "stream",
     "text": [
      "Validation Dice Score\n",
      "Class 0: 0.9824, Class 1: 0.5743, Class 2: 0.1883, Class 3: 0.3745, Class 4: 0.7298, Class 5: 0.4186, Class 6: 0.8931, \n",
      "Validation F-beta Score\n",
      "Class 0: 0.9752, Class 1: 0.6448, Class 2: 0.1920, Class 3: 0.5625, Class 4: 0.8189, Class 5: 0.5461, Class 6: 0.9189, \n",
      "Validation mIoU Score\n",
      "Class 0: 0.9654, Class 1: 0.4223, Class 2: 0.1048, Class 3: 0.2310, Class 4: 0.5749, Class 5: 0.2697, Class 6: 0.8071, \n",
      "\n",
      "Overall Mean Dice Score: 0.5981\n",
      "Overall Mean F-beta Score: 0.6982\n",
      "Overall Mean IoU Score: 0.4610\n",
      "Training Loss: 0.4461, Validation Loss: 0.4466, Validation hybrid_score: 0.6033\n",
      "Epoch 19/4000\n"
     ]
    },
    {
     "name": "stderr",
     "output_type": "stream",
     "text": [
      "Training: 100%|██████████| 204/204 [02:50<00:00,  1.19it/s, loss=0.422]\n",
      "Validation: 100%|██████████| 4/4 [00:02<00:00,  1.86it/s, loss=0.449]\n"
     ]
    },
    {
     "name": "stdout",
     "output_type": "stream",
     "text": [
      "Validation Dice Score\n",
      "Class 0: 0.9847, Class 1: 0.5948, Class 2: 0.1030, Class 3: 0.2359, Class 4: 0.6373, Class 5: 0.4494, Class 6: 0.9356, \n",
      "Validation F-beta Score\n",
      "Class 0: 0.9777, Class 1: 0.6520, Class 2: 0.1851, Class 3: 0.4397, Class 4: 0.8285, Class 5: 0.5078, Class 6: 0.9564, \n",
      "Validation mIoU Score\n",
      "Class 0: 0.9699, Class 1: 0.4357, Class 2: 0.0548, Class 3: 0.1369, Class 4: 0.4753, Class 5: 0.2958, Class 6: 0.8792, \n",
      "\n",
      "Overall Mean Dice Score: 0.5706\n",
      "Overall Mean F-beta Score: 0.6769\n",
      "Overall Mean IoU Score: 0.4446\n",
      "Training Loss: 0.4437, Validation Loss: 0.4511, Validation hybrid_score: 0.5840\n",
      "Epoch 20/4000\n"
     ]
    },
    {
     "name": "stderr",
     "output_type": "stream",
     "text": [
      "Training: 100%|██████████| 204/204 [02:43<00:00,  1.25it/s, loss=0.431]\n",
      "Validation: 100%|██████████| 4/4 [00:02<00:00,  1.91it/s, loss=0.466]\n"
     ]
    },
    {
     "name": "stdout",
     "output_type": "stream",
     "text": [
      "Validation Dice Score\n",
      "Class 0: 0.9844, Class 1: 0.7259, Class 2: 0.2029, Class 3: 0.3907, Class 4: 0.6366, Class 5: 0.4518, Class 6: 0.9035, \n",
      "Validation F-beta Score\n",
      "Class 0: 0.9767, Class 1: 0.7639, Class 2: 0.2492, Class 3: 0.6520, Class 4: 0.8228, Class 5: 0.5415, Class 6: 0.9532, \n",
      "Validation mIoU Score\n",
      "Class 0: 0.9693, Class 1: 0.5735, Class 2: 0.1184, Class 3: 0.2445, Class 4: 0.4698, Class 5: 0.2954, Class 6: 0.8242, \n",
      "\n",
      "Overall Mean Dice Score: 0.6217\n",
      "Overall Mean F-beta Score: 0.7467\n",
      "Overall Mean IoU Score: 0.4815\n",
      "Training Loss: 0.4423, Validation Loss: 0.4473, Validation hybrid_score: 0.6406\n",
      "Epoch 21/4000\n"
     ]
    },
    {
     "name": "stderr",
     "output_type": "stream",
     "text": [
      "Training: 100%|██████████| 204/204 [02:48<00:00,  1.21it/s, loss=0.426]\n",
      "Validation: 100%|██████████| 4/4 [00:02<00:00,  1.85it/s, loss=0.459]\n"
     ]
    },
    {
     "name": "stdout",
     "output_type": "stream",
     "text": [
      "Validation Dice Score\n",
      "Class 0: 0.9843, Class 1: 0.5142, Class 2: 0.1196, Class 3: 0.3678, Class 4: 0.6217, Class 5: 0.4050, Class 6: 0.8906, \n",
      "Validation F-beta Score\n",
      "Class 0: 0.9774, Class 1: 0.6799, Class 2: 0.2389, Class 3: 0.5779, Class 4: 0.7838, Class 5: 0.4846, Class 6: 0.9529, \n",
      "Validation mIoU Score\n",
      "Class 0: 0.9691, Class 1: 0.3787, Class 2: 0.0638, Class 3: 0.2255, Class 4: 0.4560, Class 5: 0.2589, Class 6: 0.8037, \n",
      "\n",
      "Overall Mean Dice Score: 0.5599\n",
      "Overall Mean F-beta Score: 0.6958\n",
      "Overall Mean IoU Score: 0.4246\n",
      "Training Loss: 0.4419, Validation Loss: 0.4432, Validation hybrid_score: 0.5873\n",
      "Epoch 22/4000\n"
     ]
    },
    {
     "name": "stderr",
     "output_type": "stream",
     "text": [
      "Training: 100%|██████████| 204/204 [02:47<00:00,  1.22it/s, loss=0.393]\n",
      "Validation: 100%|██████████| 4/4 [00:02<00:00,  1.87it/s, loss=0.44] \n"
     ]
    },
    {
     "name": "stdout",
     "output_type": "stream",
     "text": [
      "Validation Dice Score\n",
      "Class 0: 0.9835, Class 1: 0.7115, Class 2: 0.0576, Class 3: 0.4071, Class 4: 0.7065, Class 5: 0.4342, Class 6: 0.9310, \n",
      "Validation F-beta Score\n",
      "Class 0: 0.9797, Class 1: 0.8167, Class 2: 0.0678, Class 3: 0.5680, Class 4: 0.7718, Class 5: 0.5076, Class 6: 0.9251, \n",
      "Validation mIoU Score\n",
      "Class 0: 0.9676, Class 1: 0.5571, Class 2: 0.0303, Class 3: 0.2608, Class 4: 0.5491, Class 5: 0.2795, Class 6: 0.8714, \n",
      "\n",
      "Overall Mean Dice Score: 0.6381\n",
      "Overall Mean F-beta Score: 0.7178\n",
      "Overall Mean IoU Score: 0.5036\n",
      "Training Loss: 0.4392, Validation Loss: 0.4401, Validation hybrid_score: 0.6321\n",
      "========================================================\n",
      "SUPER Best model saved. Loss:0.4401, Score:0.6321\n",
      "========================================================\n",
      "Epoch 23/4000\n"
     ]
    },
    {
     "name": "stderr",
     "output_type": "stream",
     "text": [
      "Training: 100%|██████████| 204/204 [02:52<00:00,  1.18it/s, loss=0.436]\n",
      "Validation: 100%|██████████| 4/4 [00:02<00:00,  1.85it/s, loss=0.443]\n"
     ]
    },
    {
     "name": "stdout",
     "output_type": "stream",
     "text": [
      "Validation Dice Score\n",
      "Class 0: 0.9833, Class 1: 0.7585, Class 2: 0.1709, Class 3: 0.3208, Class 4: 0.6962, Class 5: 0.4421, Class 6: 0.9207, \n",
      "Validation F-beta Score\n",
      "Class 0: 0.9751, Class 1: 0.8188, Class 2: 0.2047, Class 3: 0.5163, Class 4: 0.8344, Class 5: 0.5717, Class 6: 0.9349, \n",
      "Validation mIoU Score\n",
      "Class 0: 0.9671, Class 1: 0.6110, Class 2: 0.0971, Class 3: 0.1938, Class 4: 0.5340, Class 5: 0.2845, Class 6: 0.8532, \n",
      "\n",
      "Overall Mean Dice Score: 0.6277\n",
      "Overall Mean F-beta Score: 0.7352\n",
      "Overall Mean IoU Score: 0.4953\n",
      "Training Loss: 0.4365, Validation Loss: 0.4417, Validation hybrid_score: 0.6393\n",
      "Epoch 24/4000\n"
     ]
    },
    {
     "name": "stderr",
     "output_type": "stream",
     "text": [
      "Training: 100%|██████████| 204/204 [02:51<00:00,  1.19it/s, loss=0.417]\n",
      "Validation: 100%|██████████| 4/4 [00:02<00:00,  1.90it/s, loss=0.442]\n"
     ]
    },
    {
     "name": "stdout",
     "output_type": "stream",
     "text": [
      "Validation Dice Score\n",
      "Class 0: 0.9854, Class 1: 0.6522, Class 2: 0.1223, Class 3: 0.2648, Class 4: 0.7546, Class 5: 0.4700, Class 6: 0.9171, \n",
      "Validation F-beta Score\n",
      "Class 0: 0.9812, Class 1: 0.7423, Class 2: 0.2055, Class 3: 0.3597, Class 4: 0.8345, Class 5: 0.5189, Class 6: 0.9112, \n",
      "Validation mIoU Score\n",
      "Class 0: 0.9711, Class 1: 0.4946, Class 2: 0.0678, Class 3: 0.1549, Class 4: 0.6076, Class 5: 0.3103, Class 6: 0.8474, \n",
      "\n",
      "Overall Mean Dice Score: 0.6117\n",
      "Overall Mean F-beta Score: 0.6733\n",
      "Overall Mean IoU Score: 0.4830\n",
      "Training Loss: 0.4376, Validation Loss: 0.4406, Validation hybrid_score: 0.5972\n",
      "Epoch 25/4000\n"
     ]
    },
    {
     "name": "stderr",
     "output_type": "stream",
     "text": [
      "Training: 100%|██████████| 204/204 [02:48<00:00,  1.21it/s, loss=0.376]\n",
      "Validation: 100%|██████████| 4/4 [00:02<00:00,  1.83it/s, loss=0.433]\n"
     ]
    },
    {
     "name": "stdout",
     "output_type": "stream",
     "text": [
      "Validation Dice Score\n",
      "Class 0: 0.9867, Class 1: 0.7067, Class 2: 0.2482, Class 3: 0.4353, Class 4: 0.7311, Class 5: 0.4527, Class 6: 0.9078, \n",
      "Validation F-beta Score\n",
      "Class 0: 0.9820, Class 1: 0.7937, Class 2: 0.2557, Class 3: 0.6141, Class 4: 0.8198, Class 5: 0.5445, Class 6: 0.9453, \n",
      "Validation mIoU Score\n",
      "Class 0: 0.9738, Class 1: 0.5475, Class 2: 0.1460, Class 3: 0.2789, Class 4: 0.5789, Class 5: 0.2939, Class 6: 0.8344, \n",
      "\n",
      "Overall Mean Dice Score: 0.6467\n",
      "Overall Mean F-beta Score: 0.7435\n",
      "Overall Mean IoU Score: 0.5067\n",
      "Training Loss: 0.4365, Validation Loss: 0.4300, Validation hybrid_score: 0.6488\n",
      "========================================================\n",
      "SUPER Best model saved. Loss:0.4300, Score:0.6488\n",
      "========================================================\n",
      "Epoch 26/4000\n"
     ]
    },
    {
     "name": "stderr",
     "output_type": "stream",
     "text": [
      "Training: 100%|██████████| 204/204 [02:49<00:00,  1.21it/s, loss=0.395]\n",
      "Validation: 100%|██████████| 4/4 [00:02<00:00,  1.85it/s, loss=0.407]\n"
     ]
    },
    {
     "name": "stdout",
     "output_type": "stream",
     "text": [
      "Validation Dice Score\n",
      "Class 0: 0.9870, Class 1: 0.7377, Class 2: 0.2844, Class 3: 0.3854, Class 4: 0.7255, Class 5: 0.4779, Class 6: 0.9156, \n",
      "Validation F-beta Score\n",
      "Class 0: 0.9820, Class 1: 0.8131, Class 2: 0.3797, Class 3: 0.5069, Class 4: 0.8160, Class 5: 0.6154, Class 6: 0.8984, \n",
      "Validation mIoU Score\n",
      "Class 0: 0.9744, Class 1: 0.5877, Class 2: 0.1668, Class 3: 0.2397, Class 4: 0.5696, Class 5: 0.3173, Class 6: 0.8450, \n",
      "\n",
      "Overall Mean Dice Score: 0.6484\n",
      "Overall Mean F-beta Score: 0.7300\n",
      "Overall Mean IoU Score: 0.5118\n",
      "Training Loss: 0.4358, Validation Loss: 0.4230, Validation hybrid_score: 0.6427\n",
      "Epoch 27/4000\n"
     ]
    },
    {
     "name": "stderr",
     "output_type": "stream",
     "text": [
      "Training: 100%|██████████| 204/204 [02:48<00:00,  1.21it/s, loss=0.414]\n",
      "Validation: 100%|██████████| 4/4 [00:02<00:00,  1.75it/s, loss=0.436]\n"
     ]
    },
    {
     "name": "stdout",
     "output_type": "stream",
     "text": [
      "Validation Dice Score\n",
      "Class 0: 0.9841, Class 1: 0.7673, Class 2: 0.2305, Class 3: 0.4335, Class 4: 0.7542, Class 5: 0.4432, Class 6: 0.8300, \n",
      "Validation F-beta Score\n",
      "Class 0: 0.9780, Class 1: 0.8480, Class 2: 0.2269, Class 3: 0.5834, Class 4: 0.8420, Class 5: 0.5441, Class 6: 0.9128, \n",
      "Validation mIoU Score\n",
      "Class 0: 0.9688, Class 1: 0.6276, Class 2: 0.1366, Class 3: 0.2781, Class 4: 0.6064, Class 5: 0.2877, Class 6: 0.7301, \n",
      "\n",
      "Overall Mean Dice Score: 0.6456\n",
      "Overall Mean F-beta Score: 0.7461\n",
      "Overall Mean IoU Score: 0.5060\n",
      "Training Loss: 0.4359, Validation Loss: 0.4315, Validation hybrid_score: 0.6500\n",
      "Epoch 28/4000\n"
     ]
    },
    {
     "name": "stderr",
     "output_type": "stream",
     "text": [
      "Training: 100%|██████████| 204/204 [02:53<00:00,  1.17it/s, loss=0.417]\n",
      "Validation: 100%|██████████| 4/4 [00:02<00:00,  1.83it/s, loss=0.444]\n"
     ]
    },
    {
     "name": "stdout",
     "output_type": "stream",
     "text": [
      "Validation Dice Score\n",
      "Class 0: 0.9854, Class 1: 0.7773, Class 2: 0.2376, Class 3: 0.3812, Class 4: 0.7532, Class 5: 0.4484, Class 6: 0.9136, \n",
      "Validation F-beta Score\n",
      "Class 0: 0.9805, Class 1: 0.8280, Class 2: 0.3367, Class 3: 0.5228, Class 4: 0.8143, Class 5: 0.5493, Class 6: 0.9055, \n",
      "Validation mIoU Score\n",
      "Class 0: 0.9712, Class 1: 0.6365, Class 2: 0.1393, Class 3: 0.2421, Class 4: 0.6042, Class 5: 0.2892, Class 6: 0.8414, \n",
      "\n",
      "Overall Mean Dice Score: 0.6547\n",
      "Overall Mean F-beta Score: 0.7240\n",
      "Overall Mean IoU Score: 0.5227\n",
      "Training Loss: 0.4343, Validation Loss: 0.4371, Validation hybrid_score: 0.6435\n",
      "Epoch 29/4000\n"
     ]
    },
    {
     "name": "stderr",
     "output_type": "stream",
     "text": [
      "Training: 100%|██████████| 204/204 [02:52<00:00,  1.18it/s, loss=0.415]\n",
      "Validation: 100%|██████████| 4/4 [00:02<00:00,  1.91it/s, loss=0.433]\n"
     ]
    },
    {
     "name": "stdout",
     "output_type": "stream",
     "text": [
      "Validation Dice Score\n",
      "Class 0: 0.9847, Class 1: 0.6696, Class 2: 0.1088, Class 3: 0.4559, Class 4: 0.7575, Class 5: 0.5633, Class 6: 0.9038, \n",
      "Validation F-beta Score\n",
      "Class 0: 0.9792, Class 1: 0.8327, Class 2: 0.1298, Class 3: 0.6277, Class 4: 0.8318, Class 5: 0.6373, Class 6: 0.9405, \n",
      "Validation mIoU Score\n",
      "Class 0: 0.9698, Class 1: 0.5167, Class 2: 0.0611, Class 3: 0.2970, Class 4: 0.6121, Class 5: 0.3927, Class 6: 0.8260, \n",
      "\n",
      "Overall Mean Dice Score: 0.6700\n",
      "Overall Mean F-beta Score: 0.7740\n",
      "Overall Mean IoU Score: 0.5289\n",
      "Training Loss: 0.4348, Validation Loss: 0.4239, Validation hybrid_score: 0.6759\n",
      "========================================================\n",
      "SUPER Best model saved. Loss:0.4239, Score:0.6759\n",
      "========================================================\n",
      "Epoch 30/4000\n"
     ]
    },
    {
     "name": "stderr",
     "output_type": "stream",
     "text": [
      "Training: 100%|██████████| 204/204 [02:42<00:00,  1.26it/s, loss=0.405]\n",
      "Validation: 100%|██████████| 4/4 [00:02<00:00,  1.93it/s, loss=0.447]\n"
     ]
    },
    {
     "name": "stdout",
     "output_type": "stream",
     "text": [
      "Validation Dice Score\n",
      "Class 0: 0.9852, Class 1: 0.7652, Class 2: 0.2878, Class 3: 0.4290, Class 4: 0.6361, Class 5: 0.3176, Class 6: 0.9102, \n",
      "Validation F-beta Score\n",
      "Class 0: 0.9783, Class 1: 0.8390, Class 2: 0.3187, Class 3: 0.6057, Class 4: 0.8150, Class 5: 0.4580, Class 6: 0.9332, \n",
      "Validation mIoU Score\n",
      "Class 0: 0.9709, Class 1: 0.6226, Class 2: 0.1687, Class 3: 0.2803, Class 4: 0.4795, Class 5: 0.1930, Class 6: 0.8356, \n",
      "\n",
      "Overall Mean Dice Score: 0.6116\n",
      "Overall Mean F-beta Score: 0.7302\n",
      "Overall Mean IoU Score: 0.4822\n",
      "Training Loss: 0.4330, Validation Loss: 0.4328, Validation hybrid_score: 0.6310\n",
      "Epoch 31/4000\n"
     ]
    },
    {
     "name": "stderr",
     "output_type": "stream",
     "text": [
      "Training: 100%|██████████| 204/204 [02:51<00:00,  1.19it/s, loss=0.41] \n",
      "Validation: 100%|██████████| 4/4 [00:02<00:00,  1.74it/s, loss=0.421]\n"
     ]
    },
    {
     "name": "stdout",
     "output_type": "stream",
     "text": [
      "Validation Dice Score\n",
      "Class 0: 0.9882, Class 1: 0.7256, Class 2: 0.2050, Class 3: 0.4841, Class 4: 0.7624, Class 5: 0.5220, Class 6: 0.9225, \n",
      "Validation F-beta Score\n",
      "Class 0: 0.9843, Class 1: 0.8092, Class 2: 0.2905, Class 3: 0.6393, Class 4: 0.7969, Class 5: 0.6435, Class 6: 0.9195, \n",
      "Validation mIoU Score\n",
      "Class 0: 0.9768, Class 1: 0.5714, Class 2: 0.1167, Class 3: 0.3228, Class 4: 0.6171, Class 5: 0.3538, Class 6: 0.8565, \n",
      "\n",
      "Overall Mean Dice Score: 0.6833\n",
      "Overall Mean F-beta Score: 0.7617\n",
      "Overall Mean IoU Score: 0.5443\n",
      "Training Loss: 0.4335, Validation Loss: 0.4156, Validation hybrid_score: 0.6747\n",
      "Epoch 32/4000\n"
     ]
    },
    {
     "name": "stderr",
     "output_type": "stream",
     "text": [
      "Training: 100%|██████████| 204/204 [02:52<00:00,  1.18it/s, loss=0.437]\n",
      "Validation: 100%|██████████| 4/4 [00:02<00:00,  1.87it/s, loss=0.415]\n"
     ]
    },
    {
     "name": "stdout",
     "output_type": "stream",
     "text": [
      "Validation Dice Score\n",
      "Class 0: 0.9850, Class 1: 0.6598, Class 2: 0.1113, Class 3: 0.4627, Class 4: 0.7359, Class 5: 0.5480, Class 6: 0.8434, \n",
      "Validation F-beta Score\n",
      "Class 0: 0.9803, Class 1: 0.8032, Class 2: 0.1209, Class 3: 0.6176, Class 4: 0.7944, Class 5: 0.6170, Class 6: 0.9075, \n",
      "Validation mIoU Score\n",
      "Class 0: 0.9705, Class 1: 0.5019, Class 2: 0.0613, Class 3: 0.3015, Class 4: 0.5847, Class 5: 0.3777, Class 6: 0.7345, \n",
      "\n",
      "Overall Mean Dice Score: 0.6499\n",
      "Overall Mean F-beta Score: 0.7479\n",
      "Overall Mean IoU Score: 0.5001\n",
      "Training Loss: 0.4327, Validation Loss: 0.4305, Validation hybrid_score: 0.6488\n",
      "Epoch 33/4000\n"
     ]
    },
    {
     "name": "stderr",
     "output_type": "stream",
     "text": [
      "Training: 100%|██████████| 204/204 [02:52<00:00,  1.18it/s, loss=0.419]\n",
      "Validation: 100%|██████████| 4/4 [00:02<00:00,  1.86it/s, loss=0.444]\n"
     ]
    },
    {
     "name": "stdout",
     "output_type": "stream",
     "text": [
      "Validation Dice Score\n",
      "Class 0: 0.9834, Class 1: 0.7129, Class 2: 0.1291, Class 3: 0.4175, Class 4: 0.7021, Class 5: 0.4804, Class 6: 0.9038, \n",
      "Validation F-beta Score\n",
      "Class 0: 0.9762, Class 1: 0.7973, Class 2: 0.2290, Class 3: 0.5663, Class 4: 0.7714, Class 5: 0.6612, Class 6: 0.9009, \n",
      "Validation mIoU Score\n",
      "Class 0: 0.9674, Class 1: 0.5600, Class 2: 0.0710, Class 3: 0.2684, Class 4: 0.5439, Class 5: 0.3198, Class 6: 0.8262, \n",
      "\n",
      "Overall Mean Dice Score: 0.6434\n",
      "Overall Mean F-beta Score: 0.7394\n",
      "Overall Mean IoU Score: 0.5037\n",
      "Training Loss: 0.4326, Validation Loss: 0.4347, Validation hybrid_score: 0.6451\n",
      "Epoch 34/4000\n"
     ]
    },
    {
     "name": "stderr",
     "output_type": "stream",
     "text": [
      "Training: 100%|██████████| 204/204 [02:50<00:00,  1.20it/s, loss=0.395]\n",
      "Validation: 100%|██████████| 4/4 [00:02<00:00,  1.86it/s, loss=0.436]\n"
     ]
    },
    {
     "name": "stdout",
     "output_type": "stream",
     "text": [
      "Validation Dice Score\n",
      "Class 0: 0.9855, Class 1: 0.6702, Class 2: 0.1897, Class 3: 0.3807, Class 4: 0.7414, Class 5: 0.4209, Class 6: 0.9135, \n",
      "Validation F-beta Score\n",
      "Class 0: 0.9801, Class 1: 0.7517, Class 2: 0.2296, Class 3: 0.5764, Class 4: 0.8165, Class 5: 0.5195, Class 6: 0.9230, \n",
      "Validation mIoU Score\n",
      "Class 0: 0.9714, Class 1: 0.5164, Class 2: 0.1061, Class 3: 0.2383, Class 4: 0.5907, Class 5: 0.2752, Class 6: 0.8414, \n",
      "\n",
      "Overall Mean Dice Score: 0.6253\n",
      "Overall Mean F-beta Score: 0.7174\n",
      "Overall Mean IoU Score: 0.4924\n",
      "Training Loss: 0.4339, Validation Loss: 0.4435, Validation hybrid_score: 0.6274\n",
      "Epoch 35/4000\n"
     ]
    },
    {
     "name": "stderr",
     "output_type": "stream",
     "text": [
      "Training: 100%|██████████| 204/204 [02:37<00:00,  1.29it/s, loss=0.416]\n",
      "Validation: 100%|██████████| 4/4 [00:02<00:00,  1.96it/s, loss=0.426]\n"
     ]
    },
    {
     "name": "stdout",
     "output_type": "stream",
     "text": [
      "Validation Dice Score\n",
      "Class 0: 0.9841, Class 1: 0.7145, Class 2: 0.1717, Class 3: 0.4821, Class 4: 0.7387, Class 5: 0.4572, Class 6: 0.8837, \n",
      "Validation F-beta Score\n",
      "Class 0: 0.9767, Class 1: 0.7884, Class 2: 0.1965, Class 3: 0.6126, Class 4: 0.8526, Class 5: 0.6164, Class 6: 0.9257, \n",
      "Validation mIoU Score\n",
      "Class 0: 0.9686, Class 1: 0.5600, Class 2: 0.0994, Class 3: 0.3187, Class 4: 0.5868, Class 5: 0.2970, Class 6: 0.7935, \n",
      "\n",
      "Overall Mean Dice Score: 0.6552\n",
      "Overall Mean F-beta Score: 0.7591\n",
      "Overall Mean IoU Score: 0.5112\n",
      "Training Loss: 0.4330, Validation Loss: 0.4348, Validation hybrid_score: 0.6600\n",
      "Epoch 36/4000\n"
     ]
    },
    {
     "name": "stderr",
     "output_type": "stream",
     "text": [
      "Training: 100%|██████████| 204/204 [02:44<00:00,  1.24it/s, loss=0.4]  \n",
      "Validation: 100%|██████████| 4/4 [00:02<00:00,  1.86it/s, loss=0.447]\n"
     ]
    },
    {
     "name": "stdout",
     "output_type": "stream",
     "text": [
      "Validation Dice Score\n",
      "Class 0: 0.9838, Class 1: 0.7485, Class 2: 0.1648, Class 3: 0.4389, Class 4: 0.6555, Class 5: 0.4394, Class 6: 0.9209, \n",
      "Validation F-beta Score\n",
      "Class 0: 0.9751, Class 1: 0.8632, Class 2: 0.2357, Class 3: 0.6174, Class 4: 0.8481, Class 5: 0.6018, Class 6: 0.9286, \n",
      "Validation mIoU Score\n",
      "Class 0: 0.9682, Class 1: 0.6003, Class 2: 0.0933, Class 3: 0.2849, Class 4: 0.4878, Class 5: 0.2818, Class 6: 0.8538, \n",
      "\n",
      "Overall Mean Dice Score: 0.6407\n",
      "Overall Mean F-beta Score: 0.7718\n",
      "Overall Mean IoU Score: 0.5017\n",
      "Training Loss: 0.4322, Validation Loss: 0.4287, Validation hybrid_score: 0.6638\n",
      "Epoch 37/4000\n"
     ]
    },
    {
     "name": "stderr",
     "output_type": "stream",
     "text": [
      "Training: 100%|██████████| 204/204 [02:43<00:00,  1.25it/s, loss=0.404]\n",
      "Validation: 100%|██████████| 4/4 [00:02<00:00,  1.86it/s, loss=0.441]\n"
     ]
    },
    {
     "name": "stdout",
     "output_type": "stream",
     "text": [
      "Validation Dice Score\n",
      "Class 0: 0.9857, Class 1: 0.7707, Class 2: 0.1118, Class 3: 0.4317, Class 4: 0.6098, Class 5: 0.4475, Class 6: 0.9194, \n",
      "Validation F-beta Score\n",
      "Class 0: 0.9785, Class 1: 0.8804, Class 2: 0.1438, Class 3: 0.6003, Class 4: 0.7467, Class 5: 0.5907, Class 6: 0.9328, \n",
      "Validation mIoU Score\n",
      "Class 0: 0.9718, Class 1: 0.6299, Class 2: 0.0626, Class 3: 0.2784, Class 4: 0.4796, Class 5: 0.2896, Class 6: 0.8520, \n",
      "\n",
      "Overall Mean Dice Score: 0.6358\n",
      "Overall Mean F-beta Score: 0.7502\n",
      "Overall Mean IoU Score: 0.5059\n",
      "Training Loss: 0.4315, Validation Loss: 0.4281, Validation hybrid_score: 0.6525\n",
      "Epoch 38/4000\n"
     ]
    },
    {
     "name": "stderr",
     "output_type": "stream",
     "text": [
      "Training: 100%|██████████| 204/204 [02:49<00:00,  1.21it/s, loss=0.427]\n",
      "Validation: 100%|██████████| 4/4 [00:02<00:00,  1.83it/s, loss=0.437]\n"
     ]
    },
    {
     "name": "stdout",
     "output_type": "stream",
     "text": [
      "Validation Dice Score\n",
      "Class 0: 0.9863, Class 1: 0.7606, Class 2: 0.1690, Class 3: 0.4144, Class 4: 0.6809, Class 5: 0.5118, Class 6: 0.9135, \n",
      "Validation F-beta Score\n",
      "Class 0: 0.9812, Class 1: 0.8464, Class 2: 0.2213, Class 3: 0.6441, Class 4: 0.7659, Class 5: 0.6138, Class 6: 0.9264, \n",
      "Validation mIoU Score\n",
      "Class 0: 0.9729, Class 1: 0.6194, Class 2: 0.0955, Class 3: 0.2654, Class 4: 0.5252, Class 5: 0.3461, Class 6: 0.8429, \n",
      "\n",
      "Overall Mean Dice Score: 0.6562\n",
      "Overall Mean F-beta Score: 0.7593\n",
      "Overall Mean IoU Score: 0.5198\n",
      "Training Loss: 0.4304, Validation Loss: 0.4282, Validation hybrid_score: 0.6635\n",
      "Epoch 39/4000\n"
     ]
    },
    {
     "name": "stderr",
     "output_type": "stream",
     "text": [
      "Training: 100%|██████████| 204/204 [02:43<00:00,  1.25it/s, loss=0.429]\n",
      "Validation: 100%|██████████| 4/4 [00:02<00:00,  1.88it/s, loss=0.411]\n"
     ]
    },
    {
     "name": "stdout",
     "output_type": "stream",
     "text": [
      "Validation Dice Score\n",
      "Class 0: 0.9864, Class 1: 0.7820, Class 2: 0.0872, Class 3: 0.3959, Class 4: 0.7041, Class 5: 0.4515, Class 6: 0.8857, \n",
      "Validation F-beta Score\n",
      "Class 0: 0.9810, Class 1: 0.8396, Class 2: 0.1129, Class 3: 0.5524, Class 4: 0.7958, Class 5: 0.5610, Class 6: 0.8974, \n",
      "Validation mIoU Score\n",
      "Class 0: 0.9731, Class 1: 0.6459, Class 2: 0.0478, Class 3: 0.2480, Class 4: 0.5499, Class 5: 0.2931, Class 6: 0.7963, \n",
      "\n",
      "Overall Mean Dice Score: 0.6438\n",
      "Overall Mean F-beta Score: 0.7292\n",
      "Overall Mean IoU Score: 0.5066\n",
      "Training Loss: 0.4316, Validation Loss: 0.4289, Validation hybrid_score: 0.6402\n",
      "Epoch 40/4000\n"
     ]
    },
    {
     "name": "stderr",
     "output_type": "stream",
     "text": [
      "Training: 100%|██████████| 204/204 [02:51<00:00,  1.19it/s, loss=0.396]\n",
      "Validation: 100%|██████████| 4/4 [00:02<00:00,  1.87it/s, loss=0.403]\n"
     ]
    },
    {
     "name": "stdout",
     "output_type": "stream",
     "text": [
      "Validation Dice Score\n",
      "Class 0: 0.9845, Class 1: 0.7337, Class 2: 0.1494, Class 3: 0.4047, Class 4: 0.7630, Class 5: 0.4992, Class 6: 0.8705, \n",
      "Validation F-beta Score\n",
      "Class 0: 0.9784, Class 1: 0.8329, Class 2: 0.2273, Class 3: 0.6089, Class 4: 0.8343, Class 5: 0.5908, Class 6: 0.9028, \n",
      "Validation mIoU Score\n",
      "Class 0: 0.9695, Class 1: 0.5899, Class 2: 0.0826, Class 3: 0.2579, Class 4: 0.6178, Class 5: 0.3331, Class 6: 0.7721, \n",
      "\n",
      "Overall Mean Dice Score: 0.6542\n",
      "Overall Mean F-beta Score: 0.7539\n",
      "Overall Mean IoU Score: 0.5142\n",
      "Training Loss: 0.4310, Validation Loss: 0.4331, Validation hybrid_score: 0.6580\n",
      "Epoch 41/4000\n"
     ]
    },
    {
     "name": "stderr",
     "output_type": "stream",
     "text": [
      "Training: 100%|██████████| 204/204 [02:48<00:00,  1.21it/s, loss=0.41] \n",
      "Validation: 100%|██████████| 4/4 [00:02<00:00,  1.93it/s, loss=0.439]"
     ]
    },
    {
     "name": "stdout",
     "output_type": "stream",
     "text": [
      "Validation Dice Score\n",
      "Class 0: 0.9854, Class 1: 0.7372, Class 2: 0.2283, Class 3: 0.4611, Class 4: 0.7445, Class 5: 0.4683, Class 6: 0.8770, \n",
      "Validation F-beta Score\n",
      "Class 0: 0.9813, Class 1: 0.8078, Class 2: 0.2788, Class 3: 0.7005, Class 4: 0.7948, Class 5: 0.5460, Class 6: 0.9044, \n",
      "Validation mIoU Score\n",
      "Class 0: 0.9713, Class 1: 0.5892, Class 2: 0.1291, Class 3: 0.3002, Class 4: 0.5947, Class 5: 0.3061, Class 6: 0.7834, \n",
      "\n",
      "Overall Mean Dice Score: 0.6576\n",
      "Overall Mean F-beta Score: 0.7507\n",
      "Overall Mean IoU Score: 0.5147\n",
      "Training Loss: 0.4305, Validation Loss: 0.4261, Validation hybrid_score: 0.6563\n",
      "Early stopping\n"
     ]
    },
    {
     "name": "stderr",
     "output_type": "stream",
     "text": [
      "\n"
     ]
    },
    {
     "data": {
      "text/html": [],
      "text/plain": [
       "<IPython.core.display.HTML object>"
      ]
     },
     "metadata": {},
     "output_type": "display_data"
    },
    {
     "data": {
      "text/html": [
       "<br>    <style><br>        .wandb-row {<br>            display: flex;<br>            flex-direction: row;<br>            flex-wrap: wrap;<br>            justify-content: flex-start;<br>            width: 100%;<br>        }<br>        .wandb-col {<br>            display: flex;<br>            flex-direction: column;<br>            flex-basis: 100%;<br>            flex: 1;<br>            padding: 10px;<br>        }<br>    </style><br><div class=\"wandb-row\"><div class=\"wandb-col\"><h3>Run history:</h3><br/><table class=\"wandb\"><tr><td>class_0_IoU_score</td><td>▂▅▆▇▅▇▄▅▃▄███▄▅▃▇▁▃▂▆▅▄▂▁▄▄▅▅▄▁▂▂</td></tr><tr><td>class_0_dice_score</td><td>▇▂▄▂▅▄▆▁▃▁▄▃▃▂▂▅▆▇▃▅▄▄█▄▂▅▃▃▅▆▆▄▅</td></tr><tr><td>class_0_f_beta_score</td><td>█▄▄▃▅▄▆▁▄▂▃▃▃▄▂▅▅▅▃▅▄▃▇▅▂▄▃▂▄▅▅▃▅</td></tr><tr><td>class_1_IoU_score</td><td>▂▅▆▇▅▇▄▅▃▄███▄▅▃▇▁▃▂▆▅▄▂▁▄▄▅▅▄▁▂▂</td></tr><tr><td>class_1_dice_score</td><td>▁▂▅▆▃▄▂▆▄▃▃▇▁▆▇▅▆▇██▅█▇▅▆▅▆▇█▇█▇▇</td></tr><tr><td>class_1_f_beta_score</td><td>▃▂▆▅▁▄▃▇▄▄▄▆▄▇▇▅▆▇▇▇▇▇▇▇▆▆▆██▇▇▇▇</td></tr><tr><td>class_2_IoU_score</td><td>▂▅▆▇▅▇▄▅▃▄███▄▅▃▇▁▃▂▆▅▄▂▁▄▄▅▅▄▁▂▂</td></tr><tr><td>class_2_dice_score</td><td>▁▁▁▁▂▅▄▅▅▆▄▆▄▂▅▄▇█▇▇▄█▆▄▄▆▅▅▄▅▃▅▇</td></tr><tr><td>class_2_f_beta_score</td><td>▁▁▁▁▁▃▃▄▄▅▄▆▅▂▅▅▆█▅▇▃▇▆▃▅▅▅▅▄▅▃▅▆</td></tr><tr><td>class_3_IoU_score</td><td>▂▅▆▇▅▇▄▅▃▄███▄▅▃▇▁▃▂▆▅▄▂▁▄▄▅▅▄▁▂▂</td></tr><tr><td>class_3_dice_score</td><td>▃▅▃▃▅▆▂▂▇▅▁▅▅▆▃▂▇▅▇▅▇▆█▇▆▅█▇▇▆▆▆▇</td></tr><tr><td>class_3_f_beta_score</td><td>▅▄▆▃▅▆▂▄▆▅▃▇▅▅▄▁▆▄▆▄▇▆▇▆▅▅▆▆▆▇▅▆█</td></tr><tr><td>class_4_IoU_score</td><td>▂▅▆▇▅▇▄▅▃▄███▄▅▃▇▁▃▂▆▅▄▂▁▄▄▅▅▄▁▂▂</td></tr><tr><td>class_4_dice_score</td><td>▅▃▅▅▆▂▅▂▇▆▂▂▂▅▅█▇▆███▂█▇▅▇▇▃▁▄▅█▇</td></tr><tr><td>class_4_f_beta_score</td><td>▁▂▇▆▅▄▃▇▅▆▆▆▃▃▇▇▆▆▇▅▇▆▄▄▃▆██▁▂▄▇▄</td></tr><tr><td>class_5_IoU_score</td><td>▂▅▆▇▅▇▄▅▃▄███▄▅▃▇▁▃▂▆▅▄▂▁▄▄▅▅▄▁▂▂</td></tr><tr><td>class_5_dice_score</td><td>▁▂▃▃▃▂▆▇▃▄▅▅▃▄▅▅▅▆▅▅█▁▇█▆▄▅▄▅▇▅▆▅</td></tr><tr><td>class_5_f_beta_score</td><td>▁▂▃▃▄▃▅▇▅▆▅▆▅▅▆▅▆▇▆▆█▄█▇█▅▇▇▇▇▆▇▆</td></tr><tr><td>class_6_IoU_score</td><td>▂▅▆▇▅▇▄▅▃▄███▄▅▃▇▁▃▂▆▅▄▂▁▄▄▅▅▄▁▂▂</td></tr><tr><td>class_6_dice_score</td><td>▅▅▅▅▇▇▅▄▄▅█▆▅█▇▇▆▇▁▇▆▆▇▂▆▇▅▇▇▇▅▄▄</td></tr><tr><td>class_6_f_beta_score</td><td>▂▅▆▇▅▇▄▅▃▄███▄▅▃▇▁▃▂▆▅▄▂▁▄▄▅▅▄▁▂▂</td></tr><tr><td>epoch</td><td>▁▁▁▁▁▁▁▁▂▂▂▂▃▃▃▄▄▄▄▅▅▅▅▅▆▆▆▆▆▆▆▇▇▇▇█████</td></tr><tr><td>overall_mean_IoU_score</td><td>▁▂▃▃▃▃▂▄▄▃▂▄▁▆▅▅▆▆▆▇▇▅█▆▆▅▆▆▆▇▆▆▆</td></tr><tr><td>overall_mean_dice_score</td><td>▁▂▄▃▃▃▃▄▄▃▂▅▁▆▅▄▆▆▆▆▇▄█▆▆▅▇▆▅▇▆▆▇</td></tr><tr><td>overall_mean_f_beta_score</td><td>▁▂▅▄▃▄▃▆▅▅▄▇▅▆▆▄▇▆▇▆█▆▇▇▇▆▇█▇▇▆▇▇</td></tr><tr><td>train_epoch_loss</td><td>█▇▆▅▅▄▃▅▅▄▄▄▄▃▂▃▂▂▂▂▂▂▂▂▁▂▂▁▁▁▁▁▁</td></tr><tr><td>val_epoch_loss</td><td>██▇▇▇▆▅▅▆▆▆▆▅▅▅▅▃▂▃▄▂▄▁▃▄▅▄▃▃▃▃▄▃</td></tr></table><br/></div><div class=\"wandb-col\"><h3>Run summary:</h3><br/><table class=\"wandb\"><tr><td>class_0_IoU_score</td><td>0.90442</td></tr><tr><td>class_0_dice_score</td><td>0.98544</td></tr><tr><td>class_0_f_beta_score</td><td>0.98134</td></tr><tr><td>class_1_IoU_score</td><td>0.90442</td></tr><tr><td>class_1_dice_score</td><td>0.73724</td></tr><tr><td>class_1_f_beta_score</td><td>0.80777</td></tr><tr><td>class_2_IoU_score</td><td>0.90442</td></tr><tr><td>class_2_dice_score</td><td>0.22828</td></tr><tr><td>class_2_f_beta_score</td><td>0.27882</td></tr><tr><td>class_3_IoU_score</td><td>0.90442</td></tr><tr><td>class_3_dice_score</td><td>0.46109</td></tr><tr><td>class_3_f_beta_score</td><td>0.70052</td></tr><tr><td>class_4_IoU_score</td><td>0.90442</td></tr><tr><td>class_4_dice_score</td><td>0.74453</td></tr><tr><td>class_4_f_beta_score</td><td>0.79477</td></tr><tr><td>class_5_IoU_score</td><td>0.90442</td></tr><tr><td>class_5_dice_score</td><td>0.46834</td></tr><tr><td>class_5_f_beta_score</td><td>0.54596</td></tr><tr><td>class_6_IoU_score</td><td>0.90442</td></tr><tr><td>class_6_dice_score</td><td>0.877</td></tr><tr><td>class_6_f_beta_score</td><td>0.90442</td></tr><tr><td>epoch</td><td>41</td></tr><tr><td>overall_mean_IoU_score</td><td>0.5147</td></tr><tr><td>overall_mean_dice_score</td><td>0.65764</td></tr><tr><td>overall_mean_f_beta_score</td><td>0.75069</td></tr><tr><td>train_epoch_loss</td><td>0.43051</td></tr><tr><td>val_epoch_loss</td><td>0.42608</td></tr></table><br/></div></div>"
      ],
      "text/plain": [
       "<IPython.core.display.HTML object>"
      ]
     },
     "metadata": {},
     "output_type": "display_data"
    },
    {
     "data": {
      "text/html": [
       " View run <strong style=\"color:#cdcd00\">FLEX_IoU_511_241_f48_lr1e-03_a0.52_b16_r4_ce0.4_ac1</strong> at: <a href='https://wandb.ai/limbw/czii_UNet/runs/s09n9uq4' target=\"_blank\">https://wandb.ai/limbw/czii_UNet/runs/s09n9uq4</a><br> View project at: <a href='https://wandb.ai/limbw/czii_UNet' target=\"_blank\">https://wandb.ai/limbw/czii_UNet</a><br>Synced 5 W&B file(s), 0 media file(s), 0 artifact file(s) and 0 other file(s)"
      ],
      "text/plain": [
       "<IPython.core.display.HTML object>"
      ]
     },
     "metadata": {},
     "output_type": "display_data"
    },
    {
     "data": {
      "text/html": [
       "Find logs at: <code>.\\wandb\\run-20250120_170739-s09n9uq4\\logs</code>"
      ],
      "text/plain": [
       "<IPython.core.display.HTML object>"
      ]
     },
     "metadata": {},
     "output_type": "display_data"
    }
   ],
   "source": [
    "train_model(\n",
    "    model=model,\n",
    "    train_loader=train_loader,\n",
    "    val_loader=val_loader,\n",
    "    criterion=criterion,\n",
    "    optimizer=optimizer,\n",
    "    num_epochs=num_epochs,\n",
    "    patience=10,\n",
    "    device=device,\n",
    "    start_epoch=start_epoch,\n",
    "    best_val_loss=best_val_loss,\n",
    "    best_val_fbeta_score=best_val_fbeta_score,\n",
    "    calculate_dice_interval=1,\n",
    "    accumulation_steps = accumulation_steps,\n",
    "    pretrained=True,\n",
    "    ) "
   ]
  },
  {
   "cell_type": "code",
   "execution_count": 8,
   "metadata": {},
   "outputs": [
    {
     "name": "stderr",
     "output_type": "stream",
     "text": [
      "Loading dataset: 100%|██████████| 6/6 [00:00<00:00,  7.05it/s]\n",
      "Loading dataset: 100%|██████████| 1/1 [00:00<00:00, 11.05it/s]\n"
     ]
    },
    {
     "name": "stdout",
     "output_type": "stream",
     "text": [
      "torch.Size([16, 1, 32, 96, 96]) torch.Size([16, 1, 32, 96, 96])\n"
     ]
    }
   ],
   "source": [
    "\n",
    "\n",
    "train_img_dir = './datasets/denoised_data/images'\n",
    "train_label_dir = './datasets/denoised_data/labels'\n",
    "\n",
    "train_loader, val_loader = None, None\n",
    "train_loader, val_loader = create_dataloaders_bw(\n",
    "    train_img_dir, \n",
    "    train_label_dir, \n",
    "    val_img_dir, \n",
    "    val_label_dir, \n",
    "    non_random_transforms = non_random_transforms, \n",
    "    val_non_random_transforms = non_random_transforms,\n",
    "    random_transforms = val_random_transforms, \n",
    "    val_random_transforms=val_random_transforms,\n",
    "    batch_size = loader_batch,\n",
    "    num_workers=0,\n",
    "    train_num_repeat=num_repeat\n",
    "    )\n",
    "\n",
    "batch = next(iter(val_loader))\n",
    "images, labels = batch[\"image\"], batch[\"label\"]\n",
    "print(images.shape, labels.shape)"
   ]
  },
  {
   "cell_type": "code",
   "execution_count": 9,
   "metadata": {},
   "outputs": [],
   "source": [
    "torch.backends.cudnn.benchmark = True"
   ]
  },
  {
   "cell_type": "code",
   "execution_count": 10,
   "metadata": {},
   "outputs": [
    {
     "name": "stdout",
     "output_type": "stream",
     "text": [
      "기존 best model 발견: model_checkpoints\\FLEX_IoU_511_241_f48_lr1e-03_a0.52_b16_r4_ce0.4_ac1\\best_model_pretrained.pt\n",
      "기존 학습된 가중치를 성공적으로 로드했습니다.\n"
     ]
    },
    {
     "name": "stderr",
     "output_type": "stream",
     "text": [
      "C:\\Users\\pook0\\AppData\\Local\\Temp\\ipykernel_20404\\1052671995.py:6: FutureWarning: You are using `torch.load` with `weights_only=False` (the current default value), which uses the default pickle module implicitly. It is possible to construct malicious pickle data which will execute arbitrary code during unpickling (See https://github.com/pytorch/pytorch/blob/main/SECURITY.md#untrusted-models for more details). In a future release, the default value for `weights_only` will be flipped to `True`. This limits the functions that could be executed during unpickling. Arbitrary objects will no longer be allowed to be loaded via this mode unless they are explicitly allowlisted by the user via `torch.serialization.add_safe_globals`. We recommend you start setting `weights_only=True` for any use case where you don't have full control of the loaded file. Please open an issue on GitHub for any issues related to this experimental feature.\n",
      "  checkpoint = torch.load(best_model_path, map_location=device)\n"
     ]
    }
   ],
   "source": [
    "\n",
    "if checkpoint_dir.exists():\n",
    "    best_model_path = checkpoint_dir / 'best_model_pretrained.pt'\n",
    "    if best_model_path.exists():\n",
    "        print(f\"기존 best model 발견: {best_model_path}\")\n",
    "        try:\n",
    "            checkpoint = torch.load(best_model_path, map_location=device)\n",
    "            # 체크포인트 내부 키 검증\n",
    "            required_keys = ['model_state_dict', 'optimizer_state_dict', 'epoch', 'best_val_loss', 'best_val_fbeta_score']\n",
    "            if all(k in checkpoint for k in required_keys):\n",
    "                model.load_state_dict(checkpoint['model_state_dict'])\n",
    "                optimizer.load_state_dict(checkpoint['optimizer_state_dict'])\n",
    "                start_epoch = checkpoint['epoch']\n",
    "                best_val_loss = checkpoint['best_val_loss']\n",
    "                best_val_fbeta_score = checkpoint['best_val_fbeta_score']\n",
    "                print(\"기존 학습된 가중치를 성공적으로 로드했습니다.\")\n",
    "                checkpoint= None\n",
    "            else:\n",
    "                raise ValueError(\"체크포인트 파일에 필요한 key가 없습니다.\")\n",
    "        except Exception as e:\n",
    "            print(f\"체크포인트 파일을 로드하는 중 오류 발생: {e}\")\n",
    "            \n",
    "# lr = lr/10\n",
    "            \n",
    "# optimizer = optim.AdamW(model.parameters(), lr=lr, weight_decay=1e-5)\n",
    "# scheduler = torch.optim.lr_scheduler.ReduceLROnPlateau(optimizer, patience=5, factor=0.5)\n"
   ]
  },
  {
   "cell_type": "code",
   "execution_count": 11,
   "metadata": {},
   "outputs": [
    {
     "name": "stderr",
     "output_type": "stream",
     "text": [
      "\u001b[34m\u001b[1mwandb\u001b[0m: Using wandb-core as the SDK backend.  Please refer to https://wandb.me/wandb-core for more information.\n",
      "\u001b[34m\u001b[1mwandb\u001b[0m: Currently logged in as: \u001b[33mpook0612\u001b[0m (\u001b[33mlimbw\u001b[0m). Use \u001b[1m`wandb login --relogin`\u001b[0m to force relogin\n"
     ]
    },
    {
     "data": {
      "text/html": [
       "Tracking run with wandb version 0.19.1"
      ],
      "text/plain": [
       "<IPython.core.display.HTML object>"
      ]
     },
     "metadata": {},
     "output_type": "display_data"
    },
    {
     "data": {
      "text/html": [
       "Run data is saved locally in <code>d:\\Workspace\\czll\\wandb\\run-20250120_195914-fjnad14k</code>"
      ],
      "text/plain": [
       "<IPython.core.display.HTML object>"
      ]
     },
     "metadata": {},
     "output_type": "display_data"
    },
    {
     "data": {
      "text/html": [
       "Syncing run <strong><a href='https://wandb.ai/limbw/czii_UNet/runs/fjnad14k' target=\"_blank\">FLEX_IoU_511_241_f48_lr1e-03_a0.52_b16_r4_ce0.4_ac1</a></strong> to <a href='https://wandb.ai/limbw/czii_UNet' target=\"_blank\">Weights & Biases</a> (<a href='https://wandb.me/developer-guide' target=\"_blank\">docs</a>)<br>"
      ],
      "text/plain": [
       "<IPython.core.display.HTML object>"
      ]
     },
     "metadata": {},
     "output_type": "display_data"
    },
    {
     "data": {
      "text/html": [
       " View project at <a href='https://wandb.ai/limbw/czii_UNet' target=\"_blank\">https://wandb.ai/limbw/czii_UNet</a>"
      ],
      "text/plain": [
       "<IPython.core.display.HTML object>"
      ]
     },
     "metadata": {},
     "output_type": "display_data"
    },
    {
     "data": {
      "text/html": [
       " View run at <a href='https://wandb.ai/limbw/czii_UNet/runs/fjnad14k' target=\"_blank\">https://wandb.ai/limbw/czii_UNet/runs/fjnad14k</a>"
      ],
      "text/plain": [
       "<IPython.core.display.HTML object>"
      ]
     },
     "metadata": {},
     "output_type": "display_data"
    }
   ],
   "source": [
    "import wandb\n",
    "from datetime import datetime\n",
    "\n",
    "current_time = datetime.now().strftime('%Y%m%d_%H%M%S')\n",
    "run_name = folder_name\n",
    "\n",
    "# wandb 초기화\n",
    "wandb.init(\n",
    "    project='czii_UNet',  # 프로젝트 이름 설정\n",
    "    name=run_name,         # 실행(run) 이름 설정\n",
    "    config={\n",
    "        'num_epochs': num_epochs,\n",
    "        'learning_rate': lr,\n",
    "        'batch_size': batch_size,\n",
    "        'lambda': lamda,\n",
    "        \"cross_entropy_weight\": ce_weight,\n",
    "        'feature_size': feature_size,\n",
    "        'img_size': img_size,\n",
    "        'sampling_ratio': ratios_list,\n",
    "        'device': device.type,\n",
    "        \"checkpoint_dir\": str(checkpoint_dir),\n",
    "        \"class_weights\": class_weights.tolist() if class_weights is not None else None,\n",
    "        # \"use_checkpoint\": use_checkpoint,\n",
    "        \"drop_rate\": drop_rate,\n",
    "        # \"attn_drop_rate\": attn_drop_rate,\n",
    "        # \"use_v2\": use_v2,\n",
    "        \"accumulation_steps\": accumulation_steps,\n",
    "        \"num_repeat\": num_repeat,\n",
    "        # \"num_bottleneck\": num_bottleneck,\n",
    "        \n",
    "        # 필요한 하이퍼파라미터 추가\n",
    "    }\n",
    ")\n",
    "# 모델을 wandb에 연결\n",
    "wandb.watch(model, log='all')"
   ]
  },
  {
   "cell_type": "code",
   "execution_count": 12,
   "metadata": {},
   "outputs": [
    {
     "name": "stdout",
     "output_type": "stream",
     "text": [
      "Epoch 30/4000\n"
     ]
    },
    {
     "name": "stderr",
     "output_type": "stream",
     "text": [
      "Training: 100%|██████████| 24/24 [00:42<00:00,  1.78s/it, loss=0.461]\n",
      "Validation: 100%|██████████| 1/1 [00:00<00:00,  1.65it/s, loss=0.408]\n"
     ]
    },
    {
     "name": "stdout",
     "output_type": "stream",
     "text": [
      "Validation Dice Score\n",
      "Class 0: 0.9869, Class 1: 0.7970, Class 2: 0.1998, Class 3: 0.2868, Class 4: 0.7101, Class 5: 0.5153, Class 6: 0.9027, \n",
      "Validation F-beta Score\n",
      "Class 0: 0.9828, Class 1: 0.8452, Class 2: 0.1802, Class 3: 0.5003, Class 4: 0.7985, Class 5: 0.5693, Class 6: 0.9473, \n",
      "Validation mIoU Score\n",
      "Class 0: 0.9741, Class 1: 0.6625, Class 2: 0.1110, Class 3: 0.1674, Class 4: 0.5505, Class 5: 0.3471, Class 6: 0.8226, \n",
      "\n",
      "Overall Mean Dice Score: 0.6424\n",
      "Overall Mean F-beta Score: 0.7321\n",
      "Overall Mean IoU Score: 0.5100\n",
      "Training Loss: 0.4506, Validation Loss: 0.4078, Validation hybrid_score: 0.6433\n",
      "Epoch 31/4000\n"
     ]
    },
    {
     "name": "stderr",
     "output_type": "stream",
     "text": [
      "Training: 100%|██████████| 24/24 [00:17<00:00,  1.35it/s, loss=0.438]\n",
      "Validation: 100%|██████████| 1/1 [00:00<00:00,  1.77it/s, loss=0.432]\n"
     ]
    },
    {
     "name": "stdout",
     "output_type": "stream",
     "text": [
      "Validation Dice Score\n",
      "Class 0: 0.9860, Class 1: 0.7921, Class 2: 0.0066, Class 3: 0.4165, Class 4: 0.6855, Class 5: 0.4681, Class 6: 0.9034, \n",
      "Validation F-beta Score\n",
      "Class 0: 0.9862, Class 1: 0.9060, Class 2: 0.0137, Class 3: 0.6230, Class 4: 0.6752, Class 5: 0.4216, Class 6: 0.9273, \n",
      "Validation mIoU Score\n",
      "Class 0: 0.9724, Class 1: 0.6557, Class 2: 0.0033, Class 3: 0.2630, Class 4: 0.5215, Class 5: 0.3056, Class 6: 0.8238, \n",
      "\n",
      "Overall Mean Dice Score: 0.6531\n",
      "Overall Mean F-beta Score: 0.7106\n",
      "Overall Mean IoU Score: 0.5139\n",
      "Training Loss: 0.4468, Validation Loss: 0.4318, Validation hybrid_score: 0.6319\n",
      "Epoch 32/4000\n"
     ]
    },
    {
     "name": "stderr",
     "output_type": "stream",
     "text": [
      "Training: 100%|██████████| 24/24 [00:17<00:00,  1.36it/s, loss=0.428]\n",
      "Validation: 100%|██████████| 1/1 [00:00<00:00,  1.82it/s, loss=0.426]\n"
     ]
    },
    {
     "name": "stdout",
     "output_type": "stream",
     "text": [
      "Validation Dice Score\n",
      "Class 0: 0.9870, Class 1: 0.6459, Class 2: 0.3828, Class 3: 0.4661, Class 4: 0.7737, Class 5: 0.5017, Class 6: 0.7488, \n",
      "Validation F-beta Score\n",
      "Class 0: 0.9818, Class 1: 0.8487, Class 2: 0.5445, Class 3: 0.5314, Class 4: 0.8174, Class 5: 0.6545, Class 6: 0.8742, \n",
      "Validation mIoU Score\n",
      "Class 0: 0.9743, Class 1: 0.4770, Class 2: 0.2367, Class 3: 0.3039, Class 4: 0.6309, Class 5: 0.3348, Class 6: 0.5985, \n",
      "\n",
      "Overall Mean Dice Score: 0.6273\n",
      "Overall Mean F-beta Score: 0.7453\n",
      "Overall Mean IoU Score: 0.4690\n",
      "Training Loss: 0.4399, Validation Loss: 0.4261, Validation hybrid_score: 0.6348\n",
      "Epoch 33/4000\n"
     ]
    },
    {
     "name": "stderr",
     "output_type": "stream",
     "text": [
      "Training: 100%|██████████| 24/24 [00:17<00:00,  1.36it/s, loss=0.432]\n",
      "Validation: 100%|██████████| 1/1 [00:00<00:00,  1.79it/s, loss=0.458]\n"
     ]
    },
    {
     "name": "stdout",
     "output_type": "stream",
     "text": [
      "Validation Dice Score\n",
      "Class 0: 0.9874, Class 1: 0.6664, Class 2: 0.1861, Class 3: 0.4162, Class 4: 0.7488, Class 5: 0.3967, Class 6: 0.9111, \n",
      "Validation F-beta Score\n",
      "Class 0: 0.9828, Class 1: 0.8349, Class 2: 0.1404, Class 3: 0.5743, Class 4: 0.8133, Class 5: 0.5496, Class 6: 0.9279, \n",
      "Validation mIoU Score\n",
      "Class 0: 0.9750, Class 1: 0.4997, Class 2: 0.1026, Class 3: 0.2628, Class 4: 0.5984, Class 5: 0.2474, Class 6: 0.8367, \n",
      "\n",
      "Overall Mean Dice Score: 0.6278\n",
      "Overall Mean F-beta Score: 0.7400\n",
      "Overall Mean IoU Score: 0.4890\n",
      "Training Loss: 0.4417, Validation Loss: 0.4575, Validation hybrid_score: 0.6396\n",
      "Epoch 34/4000\n"
     ]
    },
    {
     "name": "stderr",
     "output_type": "stream",
     "text": [
      "Training: 100%|██████████| 24/24 [00:17<00:00,  1.36it/s, loss=0.454]\n",
      "Validation: 100%|██████████| 1/1 [00:00<00:00,  1.83it/s, loss=0.457]\n"
     ]
    },
    {
     "name": "stdout",
     "output_type": "stream",
     "text": [
      "Validation Dice Score\n",
      "Class 0: 0.9853, Class 1: 0.7529, Class 2: 0.1667, Class 3: 0.4422, Class 4: 0.6771, Class 5: 0.3630, Class 6: 0.9037, \n",
      "Validation F-beta Score\n",
      "Class 0: 0.9794, Class 1: 0.8619, Class 2: 0.2579, Class 3: 0.5379, Class 4: 0.7324, Class 5: 0.5321, Class 6: 0.9090, \n",
      "Validation mIoU Score\n",
      "Class 0: 0.9710, Class 1: 0.6037, Class 2: 0.0909, Class 3: 0.2839, Class 4: 0.5118, Class 5: 0.2217, Class 6: 0.8242, \n",
      "\n",
      "Overall Mean Dice Score: 0.6278\n",
      "Overall Mean F-beta Score: 0.7147\n",
      "Overall Mean IoU Score: 0.4891\n",
      "Training Loss: 0.4452, Validation Loss: 0.4569, Validation hybrid_score: 0.6244\n",
      "Epoch 35/4000\n"
     ]
    },
    {
     "name": "stderr",
     "output_type": "stream",
     "text": [
      "Training: 100%|██████████| 24/24 [00:17<00:00,  1.36it/s, loss=0.427]\n",
      "Validation: 100%|██████████| 1/1 [00:00<00:00,  1.80it/s, loss=0.436]\n"
     ]
    },
    {
     "name": "stdout",
     "output_type": "stream",
     "text": [
      "Validation Dice Score\n",
      "Class 0: 0.9877, Class 1: 0.7483, Class 2: 0.0000, Class 3: 0.4553, Class 4: 0.8098, Class 5: 0.3098, Class 6: 0.9124, \n",
      "Validation F-beta Score\n",
      "Class 0: 0.9847, Class 1: 0.8155, Class 2: 0.0000, Class 3: 0.5133, Class 4: 0.8463, Class 5: 0.3485, Class 6: 0.9486, \n",
      "Validation mIoU Score\n",
      "Class 0: 0.9757, Class 1: 0.5978, Class 2: 0.0000, Class 3: 0.2947, Class 4: 0.6805, Class 5: 0.1833, Class 6: 0.8389, \n",
      "\n",
      "Overall Mean Dice Score: 0.6471\n",
      "Overall Mean F-beta Score: 0.6944\n",
      "Overall Mean IoU Score: 0.5190\n",
      "Training Loss: 0.4381, Validation Loss: 0.4363, Validation hybrid_score: 0.6243\n",
      "Epoch 36/4000\n"
     ]
    },
    {
     "name": "stderr",
     "output_type": "stream",
     "text": [
      "Training: 100%|██████████| 24/24 [00:17<00:00,  1.37it/s, loss=0.448]\n",
      "Validation: 100%|██████████| 1/1 [00:00<00:00,  1.87it/s, loss=0.443]\n"
     ]
    },
    {
     "name": "stdout",
     "output_type": "stream",
     "text": [
      "Validation Dice Score\n",
      "Class 0: 0.9870, Class 1: 0.6939, Class 2: 0.2015, Class 3: 0.4534, Class 4: 0.7651, Class 5: 0.5164, Class 6: 0.8960, \n",
      "Validation F-beta Score\n",
      "Class 0: 0.9848, Class 1: 0.8859, Class 2: 0.1876, Class 3: 0.6066, Class 4: 0.7835, Class 5: 0.5609, Class 6: 0.9477, \n",
      "Validation mIoU Score\n",
      "Class 0: 0.9743, Class 1: 0.5313, Class 2: 0.1120, Class 3: 0.2932, Class 4: 0.6195, Class 5: 0.3481, Class 6: 0.8115, \n",
      "\n",
      "Overall Mean Dice Score: 0.6650\n",
      "Overall Mean F-beta Score: 0.7569\n",
      "Overall Mean IoU Score: 0.5207\n",
      "Training Loss: 0.4385, Validation Loss: 0.4426, Validation hybrid_score: 0.6624\n",
      "Epoch 37/4000\n"
     ]
    },
    {
     "name": "stderr",
     "output_type": "stream",
     "text": [
      "Training: 100%|██████████| 24/24 [00:17<00:00,  1.36it/s, loss=0.424]\n",
      "Validation: 100%|██████████| 1/1 [00:00<00:00,  1.82it/s, loss=0.4]\n"
     ]
    },
    {
     "name": "stdout",
     "output_type": "stream",
     "text": [
      "Validation Dice Score\n",
      "Class 0: 0.9891, Class 1: 0.7775, Class 2: 0.1749, Class 3: 0.4950, Class 4: 0.6846, Class 5: 0.6026, Class 6: 0.9346, \n",
      "Validation F-beta Score\n",
      "Class 0: 0.9876, Class 1: 0.8620, Class 2: 0.2240, Class 3: 0.4897, Class 4: 0.7292, Class 5: 0.6257, Class 6: 0.9349, \n",
      "Validation mIoU Score\n",
      "Class 0: 0.9785, Class 1: 0.6360, Class 2: 0.0958, Class 3: 0.3289, Class 4: 0.5205, Class 5: 0.4312, Class 6: 0.8773, \n",
      "\n",
      "Overall Mean Dice Score: 0.6989\n",
      "Overall Mean F-beta Score: 0.7283\n",
      "Overall Mean IoU Score: 0.5588\n",
      "Training Loss: 0.4383, Validation Loss: 0.3999, Validation hybrid_score: 0.6605\n",
      "Epoch 38/4000\n"
     ]
    },
    {
     "name": "stderr",
     "output_type": "stream",
     "text": [
      "Training: 100%|██████████| 24/24 [00:17<00:00,  1.36it/s, loss=0.429]\n",
      "Validation: 100%|██████████| 1/1 [00:00<00:00,  1.80it/s, loss=0.426]\n"
     ]
    },
    {
     "name": "stdout",
     "output_type": "stream",
     "text": [
      "Validation Dice Score\n",
      "Class 0: 0.9883, Class 1: 0.7585, Class 2: 0.1186, Class 3: 0.5262, Class 4: 0.7091, Class 5: 0.4531, Class 6: 0.9016, \n",
      "Validation F-beta Score\n",
      "Class 0: 0.9862, Class 1: 0.8775, Class 2: 0.1113, Class 3: 0.6849, Class 4: 0.7775, Class 5: 0.4333, Class 6: 0.9330, \n",
      "Validation mIoU Score\n",
      "Class 0: 0.9770, Class 1: 0.6110, Class 2: 0.0630, Class 3: 0.3570, Class 4: 0.5493, Class 5: 0.2929, Class 6: 0.8208, \n",
      "\n",
      "Overall Mean Dice Score: 0.6697\n",
      "Overall Mean F-beta Score: 0.7412\n",
      "Overall Mean IoU Score: 0.5262\n",
      "Training Loss: 0.4396, Validation Loss: 0.4256, Validation hybrid_score: 0.6552\n",
      "Epoch 39/4000\n"
     ]
    },
    {
     "name": "stderr",
     "output_type": "stream",
     "text": [
      "Training: 100%|██████████| 24/24 [00:17<00:00,  1.35it/s, loss=0.428]\n",
      "Validation: 100%|██████████| 1/1 [00:00<00:00,  1.86it/s, loss=0.429]\n"
     ]
    },
    {
     "name": "stdout",
     "output_type": "stream",
     "text": [
      "Validation Dice Score\n",
      "Class 0: 0.9871, Class 1: 0.7427, Class 2: 0.0000, Class 3: 0.5739, Class 4: 0.7997, Class 5: 0.5785, Class 6: 0.8400, \n",
      "Validation F-beta Score\n",
      "Class 0: 0.9832, Class 1: 0.8731, Class 2: 0.0000, Class 3: 0.5981, Class 4: 0.9089, Class 5: 0.5820, Class 6: 0.9044, \n",
      "Validation mIoU Score\n",
      "Class 0: 0.9745, Class 1: 0.5907, Class 2: 0.0000, Class 3: 0.4025, Class 4: 0.6662, Class 5: 0.4070, Class 6: 0.7241, \n",
      "\n",
      "Overall Mean Dice Score: 0.7070\n",
      "Overall Mean F-beta Score: 0.7733\n",
      "Overall Mean IoU Score: 0.5581\n",
      "Training Loss: 0.4390, Validation Loss: 0.4288, Validation hybrid_score: 0.6872\n",
      "Epoch 40/4000\n"
     ]
    },
    {
     "name": "stderr",
     "output_type": "stream",
     "text": [
      "Training: 100%|██████████| 24/24 [00:17<00:00,  1.36it/s, loss=0.457]\n",
      "Validation: 100%|██████████| 1/1 [00:00<00:00,  1.89it/s, loss=0.391]\n"
     ]
    },
    {
     "name": "stdout",
     "output_type": "stream",
     "text": [
      "Validation Dice Score\n",
      "Class 0: 0.9883, Class 1: 0.8067, Class 2: 0.2487, Class 3: 0.4982, Class 4: 0.6638, Class 5: 0.6359, Class 6: 0.9381, \n",
      "Validation F-beta Score\n",
      "Class 0: 0.9866, Class 1: 0.8500, Class 2: 0.3167, Class 3: 0.5883, Class 4: 0.7108, Class 5: 0.6234, Class 6: 0.9663, \n",
      "Validation mIoU Score\n",
      "Class 0: 0.9770, Class 1: 0.6760, Class 2: 0.1420, Class 3: 0.3317, Class 4: 0.4968, Class 5: 0.4661, Class 6: 0.8834, \n",
      "\n",
      "Overall Mean Dice Score: 0.7085\n",
      "Overall Mean F-beta Score: 0.7477\n",
      "Overall Mean IoU Score: 0.5708\n",
      "Training Loss: 0.4364, Validation Loss: 0.3905, Validation hybrid_score: 0.6770\n",
      "========================================================\n",
      "SUPER Best model saved. Loss:0.3905, Score:0.6770\n",
      "========================================================\n",
      "Epoch 41/4000\n"
     ]
    },
    {
     "name": "stderr",
     "output_type": "stream",
     "text": [
      "Training: 100%|██████████| 24/24 [00:17<00:00,  1.36it/s, loss=0.419]\n",
      "Validation: 100%|██████████| 1/1 [00:00<00:00,  1.73it/s, loss=0.416]\n"
     ]
    },
    {
     "name": "stdout",
     "output_type": "stream",
     "text": [
      "Validation Dice Score\n",
      "Class 0: 0.9876, Class 1: 0.7697, Class 2: 0.0042, Class 3: 0.5121, Class 4: 0.7333, Class 5: 0.5053, Class 6: 0.9251, \n",
      "Validation F-beta Score\n",
      "Class 0: 0.9854, Class 1: 0.8708, Class 2: 0.0130, Class 3: 0.7815, Class 4: 0.6732, Class 5: 0.6528, Class 6: 0.9492, \n",
      "Validation mIoU Score\n",
      "Class 0: 0.9755, Class 1: 0.6257, Class 2: 0.0021, Class 3: 0.3442, Class 4: 0.5789, Class 5: 0.3381, Class 6: 0.8606, \n",
      "\n",
      "Overall Mean Dice Score: 0.6891\n",
      "Overall Mean F-beta Score: 0.7855\n",
      "Overall Mean IoU Score: 0.5495\n",
      "Training Loss: 0.4381, Validation Loss: 0.4160, Validation hybrid_score: 0.6911\n",
      "Epoch 42/4000\n"
     ]
    },
    {
     "name": "stderr",
     "output_type": "stream",
     "text": [
      "Training: 100%|██████████| 24/24 [00:17<00:00,  1.36it/s, loss=0.454]\n",
      "Validation: 100%|██████████| 1/1 [00:00<00:00,  1.83it/s, loss=0.445]\n"
     ]
    },
    {
     "name": "stdout",
     "output_type": "stream",
     "text": [
      "Validation Dice Score\n",
      "Class 0: 0.9881, Class 1: 0.6616, Class 2: 0.1458, Class 3: 0.4646, Class 4: 0.5387, Class 5: 0.4216, Class 6: 0.9410, \n",
      "Validation F-beta Score\n",
      "Class 0: 0.9833, Class 1: 0.8255, Class 2: 0.3343, Class 3: 0.5813, Class 4: 0.6759, Class 5: 0.5304, Class 6: 0.9690, \n",
      "Validation mIoU Score\n",
      "Class 0: 0.9765, Class 1: 0.4943, Class 2: 0.0786, Class 3: 0.3026, Class 4: 0.3686, Class 5: 0.2671, Class 6: 0.8885, \n",
      "\n",
      "Overall Mean Dice Score: 0.6055\n",
      "Overall Mean F-beta Score: 0.7164\n",
      "Overall Mean IoU Score: 0.4642\n",
      "Training Loss: 0.4361, Validation Loss: 0.4446, Validation hybrid_score: 0.6155\n",
      "Epoch 43/4000\n"
     ]
    },
    {
     "name": "stderr",
     "output_type": "stream",
     "text": [
      "Training: 100%|██████████| 24/24 [00:17<00:00,  1.37it/s, loss=0.437]\n",
      "Validation: 100%|██████████| 1/1 [00:00<00:00,  1.84it/s, loss=0.439]\n"
     ]
    },
    {
     "name": "stdout",
     "output_type": "stream",
     "text": [
      "Validation Dice Score\n",
      "Class 0: 0.9890, Class 1: 0.7932, Class 2: 0.0018, Class 3: 0.4180, Class 4: 0.8046, Class 5: 0.4559, Class 6: 0.9275, \n",
      "Validation F-beta Score\n",
      "Class 0: 0.9848, Class 1: 0.9061, Class 2: 0.0021, Class 3: 0.4847, Class 4: 0.8550, Class 5: 0.6265, Class 6: 0.9309, \n",
      "Validation mIoU Score\n",
      "Class 0: 0.9782, Class 1: 0.6572, Class 2: 0.0009, Class 3: 0.2642, Class 4: 0.6731, Class 5: 0.2953, Class 6: 0.8648, \n",
      "\n",
      "Overall Mean Dice Score: 0.6798\n",
      "Overall Mean F-beta Score: 0.7606\n",
      "Overall Mean IoU Score: 0.5509\n",
      "Training Loss: 0.4349, Validation Loss: 0.4387, Validation hybrid_score: 0.6768\n",
      "Epoch 44/4000\n"
     ]
    },
    {
     "name": "stderr",
     "output_type": "stream",
     "text": [
      "Training: 100%|██████████| 24/24 [00:17<00:00,  1.37it/s, loss=0.403]\n",
      "Validation: 100%|██████████| 1/1 [00:00<00:00,  1.84it/s, loss=0.406]\n"
     ]
    },
    {
     "name": "stdout",
     "output_type": "stream",
     "text": [
      "Validation Dice Score\n",
      "Class 0: 0.9872, Class 1: 0.7897, Class 2: 0.3119, Class 3: 0.4917, Class 4: 0.6804, Class 5: 0.4179, Class 6: 0.9080, \n",
      "Validation F-beta Score\n",
      "Class 0: 0.9828, Class 1: 0.8375, Class 2: 0.3639, Class 3: 0.5846, Class 4: 0.7096, Class 5: 0.5841, Class 6: 0.9606, \n",
      "Validation mIoU Score\n",
      "Class 0: 0.9746, Class 1: 0.6525, Class 2: 0.1848, Class 3: 0.3260, Class 4: 0.5156, Class 5: 0.2641, Class 6: 0.8315, \n",
      "\n",
      "Overall Mean Dice Score: 0.6575\n",
      "Overall Mean F-beta Score: 0.7353\n",
      "Overall Mean IoU Score: 0.5179\n",
      "Training Loss: 0.4384, Validation Loss: 0.4064, Validation hybrid_score: 0.6483\n",
      "Epoch 45/4000\n"
     ]
    },
    {
     "name": "stderr",
     "output_type": "stream",
     "text": [
      "Training: 100%|██████████| 24/24 [00:17<00:00,  1.39it/s, loss=0.449]\n",
      "Validation: 100%|██████████| 1/1 [00:00<00:00,  1.81it/s, loss=0.441]\n"
     ]
    },
    {
     "name": "stdout",
     "output_type": "stream",
     "text": [
      "Validation Dice Score\n",
      "Class 0: 0.9836, Class 1: 0.7448, Class 2: 0.0000, Class 3: 0.4366, Class 4: 0.7175, Class 5: 0.4791, Class 6: 0.8685, \n",
      "Validation F-beta Score\n",
      "Class 0: 0.9802, Class 1: 0.8798, Class 2: 0.0000, Class 3: 0.5161, Class 4: 0.7643, Class 5: 0.4964, Class 6: 0.9309, \n",
      "Validation mIoU Score\n",
      "Class 0: 0.9678, Class 1: 0.5934, Class 2: 0.0000, Class 3: 0.2793, Class 4: 0.5594, Class 5: 0.3150, Class 6: 0.7676, \n",
      "\n",
      "Overall Mean Dice Score: 0.6493\n",
      "Overall Mean F-beta Score: 0.7175\n",
      "Overall Mean IoU Score: 0.5029\n",
      "Training Loss: 0.4370, Validation Loss: 0.4415, Validation hybrid_score: 0.6317\n",
      "Epoch 46/4000\n"
     ]
    },
    {
     "name": "stderr",
     "output_type": "stream",
     "text": [
      "Training: 100%|██████████| 24/24 [00:17<00:00,  1.37it/s, loss=0.434]\n",
      "Validation: 100%|██████████| 1/1 [00:00<00:00,  1.83it/s, loss=0.434]\n"
     ]
    },
    {
     "name": "stdout",
     "output_type": "stream",
     "text": [
      "Validation Dice Score\n",
      "Class 0: 0.9856, Class 1: 0.6599, Class 2: 0.0806, Class 3: 0.4549, Class 4: 0.7582, Class 5: 0.4801, Class 6: 0.9042, \n",
      "Validation F-beta Score\n",
      "Class 0: 0.9815, Class 1: 0.9085, Class 2: 0.2002, Class 3: 0.6008, Class 4: 0.7920, Class 5: 0.5403, Class 6: 0.9557, \n",
      "Validation mIoU Score\n",
      "Class 0: 0.9716, Class 1: 0.4924, Class 2: 0.0420, Class 3: 0.2944, Class 4: 0.6106, Class 5: 0.3159, Class 6: 0.8252, \n",
      "\n",
      "Overall Mean Dice Score: 0.6515\n",
      "Overall Mean F-beta Score: 0.7595\n",
      "Overall Mean IoU Score: 0.5077\n",
      "Training Loss: 0.4301, Validation Loss: 0.4342, Validation hybrid_score: 0.6588\n",
      "Epoch 47/4000\n"
     ]
    },
    {
     "name": "stderr",
     "output_type": "stream",
     "text": [
      "Training: 100%|██████████| 24/24 [00:17<00:00,  1.37it/s, loss=0.441]\n",
      "Validation: 100%|██████████| 1/1 [00:00<00:00,  1.84it/s, loss=0.436]\n"
     ]
    },
    {
     "name": "stdout",
     "output_type": "stream",
     "text": [
      "Validation Dice Score\n",
      "Class 0: 0.9833, Class 1: 0.7847, Class 2: 0.2118, Class 3: 0.6125, Class 4: 0.8010, Class 5: 0.5260, Class 6: 0.7149, \n",
      "Validation F-beta Score\n",
      "Class 0: 0.9797, Class 1: 0.8477, Class 2: 0.2341, Class 3: 0.6748, Class 4: 0.8031, Class 5: 0.6657, Class 6: 0.9198, \n",
      "Validation mIoU Score\n",
      "Class 0: 0.9672, Class 1: 0.6456, Class 2: 0.1185, Class 3: 0.4414, Class 4: 0.6680, Class 5: 0.3568, Class 6: 0.5562, \n",
      "\n",
      "Overall Mean Dice Score: 0.6878\n",
      "Overall Mean F-beta Score: 0.7822\n",
      "Overall Mean IoU Score: 0.5336\n",
      "Training Loss: 0.4398, Validation Loss: 0.4362, Validation hybrid_score: 0.6828\n",
      "Epoch 48/4000\n"
     ]
    },
    {
     "name": "stderr",
     "output_type": "stream",
     "text": [
      "Training: 100%|██████████| 24/24 [00:17<00:00,  1.36it/s, loss=0.433]\n",
      "Validation: 100%|██████████| 1/1 [00:00<00:00,  1.90it/s, loss=0.419]\n"
     ]
    },
    {
     "name": "stdout",
     "output_type": "stream",
     "text": [
      "Validation Dice Score\n",
      "Class 0: 0.9893, Class 1: 0.8068, Class 2: 0.4008, Class 3: 0.4028, Class 4: 0.8011, Class 5: 0.5138, Class 6: 0.8859, \n",
      "Validation F-beta Score\n",
      "Class 0: 0.9873, Class 1: 0.8711, Class 2: 0.3988, Class 3: 0.5264, Class 4: 0.8212, Class 5: 0.5506, Class 6: 0.9124, \n",
      "Validation mIoU Score\n",
      "Class 0: 0.9789, Class 1: 0.6762, Class 2: 0.2506, Class 3: 0.2522, Class 4: 0.6682, Class 5: 0.3457, Class 6: 0.7951, \n",
      "\n",
      "Overall Mean Dice Score: 0.6821\n",
      "Overall Mean F-beta Score: 0.7363\n",
      "Overall Mean IoU Score: 0.5475\n",
      "Training Loss: 0.4364, Validation Loss: 0.4188, Validation hybrid_score: 0.6608\n",
      "Epoch 49/4000\n"
     ]
    },
    {
     "name": "stderr",
     "output_type": "stream",
     "text": [
      "Training: 100%|██████████| 24/24 [00:17<00:00,  1.37it/s, loss=0.429]\n",
      "Validation: 100%|██████████| 1/1 [00:00<00:00,  1.87it/s, loss=0.437]\n"
     ]
    },
    {
     "name": "stdout",
     "output_type": "stream",
     "text": [
      "Validation Dice Score\n",
      "Class 0: 0.9852, Class 1: 0.7079, Class 2: 0.0876, Class 3: 0.6013, Class 4: 0.5970, Class 5: 0.5176, Class 6: 0.9318, \n",
      "Validation F-beta Score\n",
      "Class 0: 0.9799, Class 1: 0.8695, Class 2: 0.1405, Class 3: 0.7115, Class 4: 0.7268, Class 5: 0.5981, Class 6: 0.9622, \n",
      "Validation mIoU Score\n",
      "Class 0: 0.9707, Class 1: 0.5479, Class 2: 0.0458, Class 3: 0.4299, Class 4: 0.4255, Class 5: 0.3492, Class 6: 0.8724, \n",
      "\n",
      "Overall Mean Dice Score: 0.6711\n",
      "Overall Mean F-beta Score: 0.7736\n",
      "Overall Mean IoU Score: 0.5250\n",
      "Training Loss: 0.4351, Validation Loss: 0.4368, Validation hybrid_score: 0.6742\n",
      "Epoch 50/4000\n"
     ]
    },
    {
     "name": "stderr",
     "output_type": "stream",
     "text": [
      "Training: 100%|██████████| 24/24 [00:18<00:00,  1.29it/s, loss=0.415]\n",
      "Validation: 100%|██████████| 1/1 [00:00<00:00,  1.82it/s, loss=0.447]\n"
     ]
    },
    {
     "name": "stdout",
     "output_type": "stream",
     "text": [
      "Validation Dice Score\n",
      "Class 0: 0.9868, Class 1: 0.6776, Class 2: 0.4092, Class 3: 0.6781, Class 4: 0.8163, Class 5: 0.2417, Class 6: 0.8695, \n",
      "Validation F-beta Score\n",
      "Class 0: 0.9801, Class 1: 0.8635, Class 2: 0.4158, Class 3: 0.8454, Class 4: 0.8532, Class 5: 0.4591, Class 6: 0.9500, \n",
      "Validation mIoU Score\n",
      "Class 0: 0.9739, Class 1: 0.5124, Class 2: 0.2573, Class 3: 0.5130, Class 4: 0.6896, Class 5: 0.1375, Class 6: 0.7692, \n",
      "\n",
      "Overall Mean Dice Score: 0.6567\n",
      "Overall Mean F-beta Score: 0.7942\n",
      "Overall Mean IoU Score: 0.5243\n",
      "Training Loss: 0.4389, Validation Loss: 0.4474, Validation hybrid_score: 0.6863\n",
      "Epoch 51/4000\n"
     ]
    },
    {
     "name": "stderr",
     "output_type": "stream",
     "text": [
      "Training: 100%|██████████| 24/24 [00:17<00:00,  1.36it/s, loss=0.409]\n",
      "Validation: 100%|██████████| 1/1 [00:00<00:00,  1.84it/s, loss=0.432]\n"
     ]
    },
    {
     "name": "stdout",
     "output_type": "stream",
     "text": [
      "Validation Dice Score\n",
      "Class 0: 0.9825, Class 1: 0.7418, Class 2: 0.0730, Class 3: 0.3331, Class 4: 0.7113, Class 5: 0.4938, Class 6: 0.9046, \n",
      "Validation F-beta Score\n",
      "Class 0: 0.9805, Class 1: 0.8564, Class 2: 0.0870, Class 3: 0.4284, Class 4: 0.7301, Class 5: 0.4931, Class 6: 0.9580, \n",
      "Validation mIoU Score\n",
      "Class 0: 0.9656, Class 1: 0.5895, Class 2: 0.0379, Class 3: 0.1999, Class 4: 0.5520, Class 5: 0.3279, Class 6: 0.8259, \n",
      "\n",
      "Overall Mean Dice Score: 0.6369\n",
      "Overall Mean F-beta Score: 0.6932\n",
      "Overall Mean IoU Score: 0.4990\n",
      "Training Loss: 0.4369, Validation Loss: 0.4316, Validation hybrid_score: 0.6155\n",
      "Epoch 52/4000\n"
     ]
    },
    {
     "name": "stderr",
     "output_type": "stream",
     "text": [
      "Training: 100%|██████████| 24/24 [00:17<00:00,  1.37it/s, loss=0.428]\n",
      "Validation: 100%|██████████| 1/1 [00:00<00:00,  1.89it/s, loss=0.432]\n"
     ]
    },
    {
     "name": "stdout",
     "output_type": "stream",
     "text": [
      "Validation Dice Score\n",
      "Class 0: 0.9862, Class 1: 0.6997, Class 2: 0.1317, Class 3: 0.3562, Class 4: 0.7695, Class 5: 0.4680, Class 6: 0.9079, \n",
      "Validation F-beta Score\n",
      "Class 0: 0.9807, Class 1: 0.8904, Class 2: 0.1614, Class 3: 0.4525, Class 4: 0.8272, Class 5: 0.6264, Class 6: 0.9629, \n",
      "Validation mIoU Score\n",
      "Class 0: 0.9728, Class 1: 0.5381, Class 2: 0.0705, Class 3: 0.2167, Class 4: 0.6254, Class 5: 0.3055, Class 6: 0.8314, \n",
      "\n",
      "Overall Mean Dice Score: 0.6403\n",
      "Overall Mean F-beta Score: 0.7519\n",
      "Overall Mean IoU Score: 0.5034\n",
      "Training Loss: 0.4324, Validation Loss: 0.4315, Validation hybrid_score: 0.6525\n",
      "Epoch 53/4000\n"
     ]
    },
    {
     "name": "stderr",
     "output_type": "stream",
     "text": [
      "Training: 100%|██████████| 24/24 [00:17<00:00,  1.37it/s, loss=0.436]\n",
      "Validation: 100%|██████████| 1/1 [00:00<00:00,  1.81it/s, loss=0.429]\n"
     ]
    },
    {
     "name": "stdout",
     "output_type": "stream",
     "text": [
      "Validation Dice Score\n",
      "Class 0: 0.9851, Class 1: 0.8086, Class 2: 0.3216, Class 3: 0.4265, Class 4: 0.7768, Class 5: 0.6093, Class 6: 0.8570, \n",
      "Validation F-beta Score\n",
      "Class 0: 0.9832, Class 1: 0.7614, Class 2: 0.3655, Class 3: 0.4282, Class 4: 0.7723, Class 5: 0.7587, Class 6: 0.9349, \n",
      "Validation mIoU Score\n",
      "Class 0: 0.9706, Class 1: 0.6787, Class 2: 0.1916, Class 3: 0.2710, Class 4: 0.6351, Class 5: 0.4381, Class 6: 0.7498, \n",
      "\n",
      "Overall Mean Dice Score: 0.6956\n",
      "Overall Mean F-beta Score: 0.7311\n",
      "Overall Mean IoU Score: 0.5546\n",
      "Training Loss: 0.4332, Validation Loss: 0.4285, Validation hybrid_score: 0.6605\n",
      "Epoch 54/4000\n"
     ]
    },
    {
     "name": "stderr",
     "output_type": "stream",
     "text": [
      "Training: 100%|██████████| 24/24 [00:17<00:00,  1.37it/s, loss=0.413]\n",
      "Validation: 100%|██████████| 1/1 [00:00<00:00,  1.82it/s, loss=0.428]\n"
     ]
    },
    {
     "name": "stdout",
     "output_type": "stream",
     "text": [
      "Validation Dice Score\n",
      "Class 0: 0.9873, Class 1: 0.3261, Class 2: 0.3827, Class 3: 0.5691, Class 4: 0.8050, Class 5: 0.5801, Class 6: 0.8865, \n",
      "Validation F-beta Score\n",
      "Class 0: 0.9851, Class 1: 0.6976, Class 2: 0.3942, Class 3: 0.5541, Class 4: 0.8173, Class 5: 0.6801, Class 6: 0.9533, \n",
      "Validation mIoU Score\n",
      "Class 0: 0.9750, Class 1: 0.1948, Class 2: 0.2366, Class 3: 0.3977, Class 4: 0.6737, Class 5: 0.4085, Class 6: 0.7961, \n",
      "\n",
      "Overall Mean Dice Score: 0.6334\n",
      "Overall Mean F-beta Score: 0.7405\n",
      "Overall Mean IoU Score: 0.4942\n",
      "Training Loss: 0.4396, Validation Loss: 0.4278, Validation hybrid_score: 0.6420\n",
      "Epoch 55/4000\n"
     ]
    },
    {
     "name": "stderr",
     "output_type": "stream",
     "text": [
      "Training: 100%|██████████| 24/24 [00:17<00:00,  1.36it/s, loss=0.44] \n",
      "Validation: 100%|██████████| 1/1 [00:00<00:00,  1.84it/s, loss=0.424]\n"
     ]
    },
    {
     "name": "stdout",
     "output_type": "stream",
     "text": [
      "Validation Dice Score\n",
      "Class 0: 0.9836, Class 1: 0.6315, Class 2: 0.0996, Class 3: 0.5892, Class 4: 0.7875, Class 5: 0.4394, Class 6: 0.8702, \n",
      "Validation F-beta Score\n",
      "Class 0: 0.9823, Class 1: 0.8575, Class 2: 0.1453, Class 3: 0.6572, Class 4: 0.7854, Class 5: 0.4476, Class 6: 0.9538, \n",
      "Validation mIoU Score\n",
      "Class 0: 0.9677, Class 1: 0.4615, Class 2: 0.0524, Class 3: 0.4176, Class 4: 0.6495, Class 5: 0.2815, Class 6: 0.7702, \n",
      "\n",
      "Overall Mean Dice Score: 0.6636\n",
      "Overall Mean F-beta Score: 0.7403\n",
      "Overall Mean IoU Score: 0.5161\n",
      "Training Loss: 0.4355, Validation Loss: 0.4239, Validation hybrid_score: 0.6506\n",
      "Epoch 56/4000\n"
     ]
    },
    {
     "name": "stderr",
     "output_type": "stream",
     "text": [
      "Training: 100%|██████████| 24/24 [00:17<00:00,  1.37it/s, loss=0.441]\n",
      "Validation: 100%|██████████| 1/1 [00:00<00:00,  1.82it/s, loss=0.45]\n"
     ]
    },
    {
     "name": "stdout",
     "output_type": "stream",
     "text": [
      "Validation Dice Score\n",
      "Class 0: 0.9874, Class 1: 0.6958, Class 2: 0.2807, Class 3: 0.1906, Class 4: 0.8162, Class 5: 0.5047, Class 6: 0.9306, \n",
      "Validation F-beta Score\n",
      "Class 0: 0.9846, Class 1: 0.8989, Class 2: 0.3146, Class 3: 0.5296, Class 4: 0.7979, Class 5: 0.6007, Class 6: 0.9561, \n",
      "Validation mIoU Score\n",
      "Class 0: 0.9750, Class 1: 0.5335, Class 2: 0.1633, Class 3: 0.1053, Class 4: 0.6894, Class 5: 0.3375, Class 6: 0.8702, \n",
      "\n",
      "Overall Mean Dice Score: 0.6276\n",
      "Overall Mean F-beta Score: 0.7566\n",
      "Overall Mean IoU Score: 0.5072\n",
      "Training Loss: 0.4328, Validation Loss: 0.4503, Validation hybrid_score: 0.6569\n",
      "Epoch 57/4000\n"
     ]
    },
    {
     "name": "stderr",
     "output_type": "stream",
     "text": [
      "Training: 100%|██████████| 24/24 [00:17<00:00,  1.37it/s, loss=0.447]\n",
      "Validation: 100%|██████████| 1/1 [00:00<00:00,  1.86it/s, loss=0.413]\n"
     ]
    },
    {
     "name": "stdout",
     "output_type": "stream",
     "text": [
      "Validation Dice Score\n",
      "Class 0: 0.9866, Class 1: 0.7058, Class 2: 0.1961, Class 3: 0.4089, Class 4: 0.7307, Class 5: 0.5287, Class 6: 0.8935, \n",
      "Validation F-beta Score\n",
      "Class 0: 0.9816, Class 1: 0.8587, Class 2: 0.2316, Class 3: 0.5740, Class 4: 0.7787, Class 5: 0.6660, Class 6: 0.9180, \n",
      "Validation mIoU Score\n",
      "Class 0: 0.9735, Class 1: 0.5453, Class 2: 0.1087, Class 3: 0.2570, Class 4: 0.5757, Class 5: 0.3594, Class 6: 0.8074, \n",
      "\n",
      "Overall Mean Dice Score: 0.6535\n",
      "Overall Mean F-beta Score: 0.7591\n",
      "Overall Mean IoU Score: 0.5090\n",
      "Training Loss: 0.4360, Validation Loss: 0.4132, Validation hybrid_score: 0.6590\n",
      "Epoch 58/4000\n"
     ]
    },
    {
     "name": "stderr",
     "output_type": "stream",
     "text": [
      "Training: 100%|██████████| 24/24 [00:17<00:00,  1.37it/s, loss=0.441]\n",
      "Validation: 100%|██████████| 1/1 [00:00<00:00,  1.69it/s, loss=0.445]\n"
     ]
    },
    {
     "name": "stdout",
     "output_type": "stream",
     "text": [
      "Validation Dice Score\n",
      "Class 0: 0.9868, Class 1: 0.7781, Class 2: 0.2526, Class 3: 0.4570, Class 4: 0.7573, Class 5: 0.3939, Class 6: 0.9362, \n",
      "Validation F-beta Score\n",
      "Class 0: 0.9836, Class 1: 0.8695, Class 2: 0.2273, Class 3: 0.6104, Class 4: 0.7852, Class 5: 0.4674, Class 6: 0.9604, \n",
      "Validation mIoU Score\n",
      "Class 0: 0.9739, Class 1: 0.6368, Class 2: 0.1446, Class 3: 0.2962, Class 4: 0.6094, Class 5: 0.2452, Class 6: 0.8801, \n",
      "\n",
      "Overall Mean Dice Score: 0.6645\n",
      "Overall Mean F-beta Score: 0.7386\n",
      "Overall Mean IoU Score: 0.5336\n",
      "Training Loss: 0.4377, Validation Loss: 0.4454, Validation hybrid_score: 0.6566\n",
      "Epoch 59/4000\n"
     ]
    },
    {
     "name": "stderr",
     "output_type": "stream",
     "text": [
      "Training: 100%|██████████| 24/24 [00:17<00:00,  1.36it/s, loss=0.422]\n",
      "Validation: 100%|██████████| 1/1 [00:00<00:00,  1.83it/s, loss=0.447]\n"
     ]
    },
    {
     "name": "stdout",
     "output_type": "stream",
     "text": [
      "Validation Dice Score\n",
      "Class 0: 0.9864, Class 1: 0.7543, Class 2: 0.0000, Class 3: 0.4964, Class 4: 0.7054, Class 5: 0.4157, Class 6: 0.9190, \n",
      "Validation F-beta Score\n",
      "Class 0: 0.9814, Class 1: 0.8345, Class 2: 0.0000, Class 3: 0.5167, Class 4: 0.8155, Class 5: 0.5028, Class 6: 0.9620, \n",
      "Validation mIoU Score\n",
      "Class 0: 0.9732, Class 1: 0.6055, Class 2: 0.0000, Class 3: 0.3302, Class 4: 0.5448, Class 5: 0.2624, Class 6: 0.8502, \n",
      "\n",
      "Overall Mean Dice Score: 0.6582\n",
      "Overall Mean F-beta Score: 0.7263\n",
      "Overall Mean IoU Score: 0.5186\n",
      "Training Loss: 0.4346, Validation Loss: 0.4472, Validation hybrid_score: 0.6432\n",
      "Epoch 60/4000\n"
     ]
    },
    {
     "name": "stderr",
     "output_type": "stream",
     "text": [
      "Training: 100%|██████████| 24/24 [00:17<00:00,  1.37it/s, loss=0.425]\n",
      "Validation: 100%|██████████| 1/1 [00:00<00:00,  1.79it/s, loss=0.428]"
     ]
    },
    {
     "name": "stdout",
     "output_type": "stream",
     "text": [
      "Validation Dice Score\n",
      "Class 0: 0.9880, Class 1: 0.7175, Class 2: 0.2954, Class 3: 0.4819, Class 4: 0.7488, Class 5: 0.4187, Class 6: 0.8976, \n",
      "Validation F-beta Score\n",
      "Class 0: 0.9835, Class 1: 0.8817, Class 2: 0.4516, Class 3: 0.4960, Class 4: 0.8249, Class 5: 0.5459, Class 6: 0.9342, \n",
      "Validation mIoU Score\n",
      "Class 0: 0.9763, Class 1: 0.5594, Class 2: 0.1733, Class 3: 0.3175, Class 4: 0.5984, Class 5: 0.2648, Class 6: 0.8142, \n",
      "\n",
      "Overall Mean Dice Score: 0.6529\n",
      "Overall Mean F-beta Score: 0.7365\n",
      "Overall Mean IoU Score: 0.5109\n",
      "Training Loss: 0.4379, Validation Loss: 0.4281, Validation hybrid_score: 0.6463\n",
      "Early stopping\n"
     ]
    },
    {
     "name": "stderr",
     "output_type": "stream",
     "text": [
      "\n"
     ]
    },
    {
     "data": {
      "text/html": [],
      "text/plain": [
       "<IPython.core.display.HTML object>"
      ]
     },
     "metadata": {},
     "output_type": "display_data"
    },
    {
     "data": {
      "text/html": [
       "<br>    <style><br>        .wandb-row {<br>            display: flex;<br>            flex-direction: row;<br>            flex-wrap: wrap;<br>            justify-content: flex-start;<br>            width: 100%;<br>        }<br>        .wandb-col {<br>            display: flex;<br>            flex-direction: column;<br>            flex-basis: 100%;<br>            flex: 1;<br>            padding: 10px;<br>        }<br>    </style><br><div class=\"wandb-row\"><div class=\"wandb-col\"><h3>Run history:</h3><br/><table class=\"wandb\"><tr><td>class_0_IoU_score</td><td>▆▅▁▅▄▆▆▅▅▃█▇█▅▇▅▇▄▄█▇▇█▅▇▇▇▄▇▇▅</td></tr><tr><td>class_0_dice_score</td><td>▅▅▆▆▄▆▆█▇▆▇▆▇█▆▂▄▂█▄▅▁▅▄▆▂▆▅▅▅▇</td></tr><tr><td>class_0_f_beta_score</td><td>▄▇▃▄▁▆▆█▇▄▇▆▄▆▄▂▃▁█▁▂▂▂▄▆▃▅▃▅▃▄</td></tr><tr><td>class_1_IoU_score</td><td>▆▅▁▅▄▆▆▅▅▃█▇█▅▇▅▇▄▄█▇▇█▅▇▇▇▄▇▇▅</td></tr><tr><td>class_1_dice_score</td><td>██▆▆▇▇▆█▇▇█▇▆██▇▆██▇▆▇▆█▁▅▆▇█▇▇</td></tr><tr><td>class_1_f_beta_score</td><td>▆█▆▆▆▅▇▆▇▇▆▇▅█▆▇█▆▇▇▇▆▇▃▁▆█▆▇▆▇</td></tr><tr><td>class_2_IoU_score</td><td>▆▅▁▅▄▆▆▅▅▃█▇█▅▇▅▇▄▄█▇▇█▅▇▇▇▄▇▇▅</td></tr><tr><td>class_2_dice_score</td><td>▄▁█▄▄▁▄▄▃▁▅▁▃▁▆▁▂▅█▂█▂▃▇█▃▆▄▅▁▆</td></tr><tr><td>class_2_f_beta_score</td><td>▃▁█▃▄▁▃▄▂▁▅▁▅▁▆▁▄▄▆▃▆▂▃▆▆▃▅▄▄▁▇</td></tr><tr><td>class_3_IoU_score</td><td>▆▅▁▅▄▆▆▅▅▃█▇█▅▇▅▇▄▄█▇▇█▅▇▇▇▄▇▇▅</td></tr><tr><td>class_3_dice_score</td><td>▂▄▅▄▅▅▅▅▆▇▅▆▅▄▅▅▅▇▄▇█▃▃▄▆▇▁▄▅▅▅</td></tr><tr><td>class_3_f_beta_score</td><td>▂▄▃▃▃▂▄▂▅▄▄▇▄▂▄▂▄▅▃▆█▁▁▁▃▅▃▃▄▂▂</td></tr><tr><td>class_4_IoU_score</td><td>▆▅▁▅▄▆▆▅▅▃█▇█▅▇▅▇▄▄█▇▇█▅▇▇▇▄▇▇▅</td></tr><tr><td>class_4_dice_score</td><td>▅▅▇▆▄█▇▅▅█▄▆▁█▅▆▇██▂█▅▇▇█▇█▆▇▅▆</td></tr><tr><td>class_4_f_beta_score</td><td>▅▁▅▅▃▆▄▃▄█▂▁▁▆▂▄▅▅▅▃▆▃▆▄▅▄▅▄▄▅▆</td></tr><tr><td>class_5_IoU_score</td><td>▆▅▁▅▄▆▆▅▅▃█▇█▅▇▅▇▄▄█▇▇█▅▇▇▇▄▇▇▅</td></tr><tr><td>class_5_dice_score</td><td>▆▅▆▄▃▂▆▇▅▇█▆▄▅▄▅▅▆▆▆▁▅▅█▇▅▆▆▄▄▄</td></tr><tr><td>class_5_f_beta_score</td><td>▅▂▆▄▄▁▅▆▂▅▆▆▄▆▅▄▄▆▄▅▃▃▆█▇▃▅▆▃▄▄</td></tr><tr><td>class_6_IoU_score</td><td>▆▅▁▅▄▆▆▅▅▃█▇█▅▇▅▇▄▄█▇▇█▅▇▇▇▄▇▇▅</td></tr><tr><td>class_6_dice_score</td><td>▇▇▂▇▇▇▇█▇▅████▇▆▇▁▆█▆▇▇▅▆▆█▇█▇▇</td></tr><tr><td>class_6_f_beta_score</td><td>▆▅▁▅▄▆▆▅▅▃█▇█▅▇▅▇▄▄█▇▇█▅▇▇▇▄▇▇▅</td></tr><tr><td>epoch</td><td>▁▁▁▁▂▃▃▃▃▃▄▄▄▄▄▄▄▅▅▅▅▅▅▆▆▆▆▆▆▆▆▇▇▇▇▇▇███</td></tr><tr><td>overall_mean_IoU_score</td><td>▄▄▁▃▃▅▅▇▅▇█▇▁▇▅▄▄▆▆▅▅▃▄▇▃▄▄▄▆▅▄</td></tr><tr><td>overall_mean_dice_score</td><td>▄▄▂▃▃▄▅▇▅██▇▁▆▅▄▄▇▆▅▄▃▃▇▃▅▂▄▅▅▄</td></tr><tr><td>overall_mean_f_beta_score</td><td>▄▂▅▄▂▁▅▃▄▇▅▇▃▆▄▃▆▇▄▇█▁▅▄▄▄▅▆▄▃▄</td></tr><tr><td>train_epoch_loss</td><td>█▇▄▅▆▄▄▄▄▄▃▄▃▃▄▃▁▄▃▃▄▃▂▂▄▃▂▃▄▃▄</td></tr><tr><td>val_epoch_loss</td><td>▃▅▅██▆▆▂▅▅▁▄▇▆▃▆▆▆▄▆▇▅▅▅▅▄▇▃▇▇▅</td></tr></table><br/></div><div class=\"wandb-col\"><h3>Run summary:</h3><br/><table class=\"wandb\"><tr><td>class_0_IoU_score</td><td>0.9342</td></tr><tr><td>class_0_dice_score</td><td>0.988</td></tr><tr><td>class_0_f_beta_score</td><td>0.98351</td></tr><tr><td>class_1_IoU_score</td><td>0.9342</td></tr><tr><td>class_1_dice_score</td><td>0.71748</td></tr><tr><td>class_1_f_beta_score</td><td>0.88165</td></tr><tr><td>class_2_IoU_score</td><td>0.9342</td></tr><tr><td>class_2_dice_score</td><td>0.29536</td></tr><tr><td>class_2_f_beta_score</td><td>0.45163</td></tr><tr><td>class_3_IoU_score</td><td>0.9342</td></tr><tr><td>class_3_dice_score</td><td>0.48192</td></tr><tr><td>class_3_f_beta_score</td><td>0.49604</td></tr><tr><td>class_4_IoU_score</td><td>0.9342</td></tr><tr><td>class_4_dice_score</td><td>0.74879</td></tr><tr><td>class_4_f_beta_score</td><td>0.82486</td></tr><tr><td>class_5_IoU_score</td><td>0.9342</td></tr><tr><td>class_5_dice_score</td><td>0.4187</td></tr><tr><td>class_5_f_beta_score</td><td>0.54587</td></tr><tr><td>class_6_IoU_score</td><td>0.9342</td></tr><tr><td>class_6_dice_score</td><td>0.8976</td></tr><tr><td>class_6_f_beta_score</td><td>0.9342</td></tr><tr><td>epoch</td><td>60</td></tr><tr><td>overall_mean_IoU_score</td><td>0.51087</td></tr><tr><td>overall_mean_dice_score</td><td>0.6529</td></tr><tr><td>overall_mean_f_beta_score</td><td>0.73653</td></tr><tr><td>train_epoch_loss</td><td>0.43789</td></tr><tr><td>val_epoch_loss</td><td>0.42811</td></tr></table><br/></div></div>"
      ],
      "text/plain": [
       "<IPython.core.display.HTML object>"
      ]
     },
     "metadata": {},
     "output_type": "display_data"
    },
    {
     "data": {
      "text/html": [
       " View run <strong style=\"color:#cdcd00\">FLEX_IoU_511_241_f48_lr1e-03_a0.52_b16_r4_ce0.4_ac1</strong> at: <a href='https://wandb.ai/limbw/czii_UNet/runs/fjnad14k' target=\"_blank\">https://wandb.ai/limbw/czii_UNet/runs/fjnad14k</a><br> View project at: <a href='https://wandb.ai/limbw/czii_UNet' target=\"_blank\">https://wandb.ai/limbw/czii_UNet</a><br>Synced 5 W&B file(s), 0 media file(s), 0 artifact file(s) and 0 other file(s)"
      ],
      "text/plain": [
       "<IPython.core.display.HTML object>"
      ]
     },
     "metadata": {},
     "output_type": "display_data"
    },
    {
     "data": {
      "text/html": [
       "Find logs at: <code>.\\wandb\\run-20250120_195914-fjnad14k\\logs</code>"
      ],
      "text/plain": [
       "<IPython.core.display.HTML object>"
      ]
     },
     "metadata": {},
     "output_type": "display_data"
    }
   ],
   "source": [
    "train_model(\n",
    "    model=model,\n",
    "    train_loader=train_loader,\n",
    "    val_loader=val_loader,\n",
    "    criterion=criterion,\n",
    "    optimizer=optimizer,\n",
    "    num_epochs=num_epochs,\n",
    "    patience=10,\n",
    "    device=device,\n",
    "    start_epoch=start_epoch,\n",
    "    best_val_loss=best_val_loss,\n",
    "    best_val_fbeta_score=best_val_fbeta_score,\n",
    "    calculate_dice_interval=1,\n",
    "    accumulation_steps = accumulation_steps,\n",
    "    pretrained=False,\n",
    "    ) "
   ]
  },
  {
   "cell_type": "code",
   "execution_count": 17,
   "metadata": {},
   "outputs": [
    {
     "ename": "SyntaxError",
     "evalue": "invalid syntax (879943805.py, line 1)",
     "output_type": "error",
     "traceback": [
      "\u001b[1;36m  Cell \u001b[1;32mIn[17], line 1\u001b[1;36m\u001b[0m\n\u001b[1;33m    if:\u001b[0m\n\u001b[1;37m      ^\u001b[0m\n\u001b[1;31mSyntaxError\u001b[0m\u001b[1;31m:\u001b[0m invalid syntax\n"
     ]
    }
   ],
   "source": [
    "if:"
   ]
  },
  {
   "cell_type": "markdown",
   "metadata": {},
   "source": [
    "# VAl"
   ]
  },
  {
   "cell_type": "code",
   "execution_count": null,
   "metadata": {},
   "outputs": [
    {
     "data": {
      "text/html": [
       "Finishing last run (ID:fs6utwyo) before initializing another..."
      ],
      "text/plain": [
       "<IPython.core.display.HTML object>"
      ]
     },
     "metadata": {},
     "output_type": "display_data"
    },
    {
     "data": {
      "application/vnd.jupyter.widget-view+json": {
       "model_id": "29cc3ae761af43baae5aca60b5d2e7f4",
       "version_major": 2,
       "version_minor": 0
      },
      "text/plain": [
       "VBox(children=(Label(value='0.009 MB of 0.009 MB uploaded\\r'), FloatProgress(value=1.0, max=1.0)))"
      ]
     },
     "metadata": {},
     "output_type": "display_data"
    },
    {
     "data": {
      "text/html": [
       "<style>\n",
       "    table.wandb td:nth-child(1) { padding: 0 10px; text-align: left ; width: auto;} td:nth-child(2) {text-align: left ; width: 100%}\n",
       "    .wandb-row { display: flex; flex-direction: row; flex-wrap: wrap; justify-content: flex-start; width: 100% }\n",
       "    .wandb-col { display: flex; flex-direction: column; flex-basis: 100%; flex: 1; padding: 10px; }\n",
       "    </style>\n",
       "<div class=\"wandb-row\"><div class=\"wandb-col\"><h3>Run history:</h3><br/><table class=\"wandb\"><tr><td>class_0_dice_score</td><td>▁</td></tr><tr><td>class_0_f_beta_score</td><td>▁</td></tr><tr><td>class_1_dice_score</td><td>▁</td></tr><tr><td>class_1_f_beta_score</td><td>▁</td></tr><tr><td>class_2_dice_score</td><td>▁</td></tr><tr><td>class_2_f_beta_score</td><td>▁</td></tr><tr><td>class_3_dice_score</td><td>▁</td></tr><tr><td>class_3_f_beta_score</td><td>▁</td></tr><tr><td>class_4_dice_score</td><td>▁</td></tr><tr><td>class_4_f_beta_score</td><td>▁</td></tr><tr><td>class_5_dice_score</td><td>▁</td></tr><tr><td>class_5_f_beta_score</td><td>▁</td></tr><tr><td>class_6_dice_score</td><td>▁</td></tr><tr><td>class_6_f_beta_score</td><td>▁</td></tr><tr><td>epoch</td><td>▁▁▁▁▁▁▁▁▁▁▁▁▁▁▁▁</td></tr><tr><td>overall_mean_dice_score</td><td>▁</td></tr><tr><td>overall_mean_f_beta_score</td><td>▁</td></tr><tr><td>val_epoch_loss</td><td>▁</td></tr></table><br/></div><div class=\"wandb-col\"><h3>Run summary:</h3><br/><table class=\"wandb\"><tr><td>class_0_dice_score</td><td>0.65703</td></tr><tr><td>class_0_f_beta_score</td><td>0.50748</td></tr><tr><td>class_1_dice_score</td><td>0.53332</td></tr><tr><td>class_1_f_beta_score</td><td>0.64703</td></tr><tr><td>class_2_dice_score</td><td>0.00286</td></tr><tr><td>class_2_f_beta_score</td><td>0.02334</td></tr><tr><td>class_3_dice_score</td><td>0.23703</td></tr><tr><td>class_3_f_beta_score</td><td>0.23033</td></tr><tr><td>class_4_dice_score</td><td>0.65487</td></tr><tr><td>class_4_f_beta_score</td><td>0.62525</td></tr><tr><td>class_5_dice_score</td><td>0.47899</td></tr><tr><td>class_5_f_beta_score</td><td>0.51448</td></tr><tr><td>class_6_dice_score</td><td>0.42545</td></tr><tr><td>class_6_f_beta_score</td><td>0.47197</td></tr><tr><td>epoch</td><td>1</td></tr><tr><td>overall_mean_dice_score</td><td>0.42708</td></tr><tr><td>overall_mean_f_beta_score</td><td>0.43141</td></tr><tr><td>val_epoch_loss</td><td>0.7152</td></tr></table><br/></div></div>"
      ],
      "text/plain": [
       "<IPython.core.display.HTML object>"
      ]
     },
     "metadata": {},
     "output_type": "display_data"
    },
    {
     "data": {
      "text/html": [
       " View run <strong style=\"color:#cdcd00\">SwinUNETR96_96_lr0.001_lambda0.52_batch2</strong> at: <a href='https://wandb.ai/waooang/czii_SwinUnetR_val/runs/fs6utwyo' target=\"_blank\">https://wandb.ai/waooang/czii_SwinUnetR_val/runs/fs6utwyo</a><br/> View project at: <a href='https://wandb.ai/waooang/czii_SwinUnetR_val' target=\"_blank\">https://wandb.ai/waooang/czii_SwinUnetR_val</a><br/>Synced 4 W&B file(s), 0 media file(s), 3 artifact file(s) and 0 other file(s)"
      ],
      "text/plain": [
       "<IPython.core.display.HTML object>"
      ]
     },
     "metadata": {},
     "output_type": "display_data"
    },
    {
     "data": {
      "text/html": [
       "Find logs at: <code>.\\wandb\\run-20241219_200219-fs6utwyo\\logs</code>"
      ],
      "text/plain": [
       "<IPython.core.display.HTML object>"
      ]
     },
     "metadata": {},
     "output_type": "display_data"
    },
    {
     "data": {
      "text/html": [
       "Successfully finished last run (ID:fs6utwyo). Initializing new run:<br/>"
      ],
      "text/plain": [
       "<IPython.core.display.HTML object>"
      ]
     },
     "metadata": {},
     "output_type": "display_data"
    },
    {
     "data": {
      "text/html": [
       "Tracking run with wandb version 0.18.3"
      ],
      "text/plain": [
       "<IPython.core.display.HTML object>"
      ]
     },
     "metadata": {},
     "output_type": "display_data"
    },
    {
     "data": {
      "text/html": [
       "Run data is saved locally in <code>e:\\Workspace\\czll\\wandb\\run-20241219_200454-121l7bn3</code>"
      ],
      "text/plain": [
       "<IPython.core.display.HTML object>"
      ]
     },
     "metadata": {},
     "output_type": "display_data"
    },
    {
     "data": {
      "text/html": [
       "Syncing run <strong><a href='https://wandb.ai/waooang/czii_SwinUnetR_val/runs/121l7bn3' target=\"_blank\">SwinUNETR96_96_lr0.001_lambda0.52_batch2</a></strong> to <a href='https://wandb.ai/waooang/czii_SwinUnetR_val' target=\"_blank\">Weights & Biases</a> (<a href='https://wandb.me/run' target=\"_blank\">docs</a>)<br/>"
      ],
      "text/plain": [
       "<IPython.core.display.HTML object>"
      ]
     },
     "metadata": {},
     "output_type": "display_data"
    },
    {
     "data": {
      "text/html": [
       " View project at <a href='https://wandb.ai/waooang/czii_SwinUnetR_val' target=\"_blank\">https://wandb.ai/waooang/czii_SwinUnetR_val</a>"
      ],
      "text/plain": [
       "<IPython.core.display.HTML object>"
      ]
     },
     "metadata": {},
     "output_type": "display_data"
    },
    {
     "data": {
      "text/html": [
       " View run at <a href='https://wandb.ai/waooang/czii_SwinUnetR_val/runs/121l7bn3' target=\"_blank\">https://wandb.ai/waooang/czii_SwinUnetR_val/runs/121l7bn3</a>"
      ],
      "text/plain": [
       "<IPython.core.display.HTML object>"
      ]
     },
     "metadata": {},
     "output_type": "display_data"
    },
    {
     "name": "stderr",
     "output_type": "stream",
     "text": [
      "Loading dataset: 100%|██████████| 4/4 [00:06<00:00,  1.58s/it]\n",
      "C:\\Users\\Seungwoo\\AppData\\Local\\Temp\\ipykernel_21000\\1177025787.py:95: FutureWarning: You are using `torch.load` with `weights_only=False` (the current default value), which uses the default pickle module implicitly. It is possible to construct malicious pickle data which will execute arbitrary code during unpickling (See https://github.com/pytorch/pytorch/blob/main/SECURITY.md#untrusted-models for more details). In a future release, the default value for `weights_only` will be flipped to `True`. This limits the functions that could be executed during unpickling. Arbitrary objects will no longer be allowed to be loaded via this mode unless they are explicitly allowlisted by the user via `torch.serialization.add_safe_globals`. We recommend you start setting `weights_only=True` for any use case where you don't have full control of the loaded file. Please open an issue on GitHub for any issues related to this experimental feature.\n",
      "  checkpoint = torch.load(pretrain_path, map_location=device)\n",
      "Validation: 100%|██████████| 4/4 [00:01<00:00,  2.38it/s, loss=0.865]"
     ]
    },
    {
     "name": "stdout",
     "output_type": "stream",
     "text": [
      "Validation Dice Score\n",
      "Class 0: 0.6570, Class 1: 0.5333, Class 2: 0.0029, Class 3: 0.2370, \n",
      "Class 4: 0.6549, Class 5: 0.4790, Class 6: 0.4255, \n",
      "Validation F-beta Score\n",
      "Class 0: 0.5075, Class 1: 0.6470, Class 2: 0.0233, Class 3: 0.2303, \n",
      "Class 4: 0.6252, Class 5: 0.5145, Class 6: 0.4720, \n",
      "Overall Mean Dice Score: 0.4659\n",
      "Overall Mean F-beta Score: 0.4978\n",
      "\n"
     ]
    },
    {
     "name": "stderr",
     "output_type": "stream",
     "text": [
      "\n"
     ]
    },
    {
     "ename": "",
     "evalue": "",
     "output_type": "error",
     "traceback": [
      "\u001b[1;31mnotebook controller is DISPOSED. \n",
      "\u001b[1;31m자세한 내용은 Jupyter <a href='command:jupyter.viewOutput'>로그</a>를 참조하세요."
     ]
    },
    {
     "ename": "",
     "evalue": "",
     "output_type": "error",
     "traceback": [
      "\u001b[1;31mnotebook controller is DISPOSED. \n",
      "\u001b[1;31m자세한 내용은 Jupyter <a href='command:jupyter.viewOutput'>로그</a>를 참조하세요."
     ]
    }
   ],
   "source": [
    "from monai.data import DataLoader, Dataset, CacheDataset\n",
    "from monai.transforms import (\n",
    "    Compose, LoadImaged, EnsureChannelFirstd, NormalizeIntensityd,\n",
    "    Orientationd, CropForegroundd, GaussianSmoothd, ScaleIntensityd,\n",
    "    RandSpatialCropd, RandRotate90d, RandFlipd, RandGaussianNoised,\n",
    "    ToTensord, RandCropByLabelClassesd\n",
    ")\n",
    "from monai.metrics import DiceMetric\n",
    "from monai.networks.nets import UNETR, SwinUNETR\n",
    "from monai.losses import TverskyLoss\n",
    "import torch\n",
    "import numpy as np\n",
    "from tqdm import tqdm\n",
    "import wandb\n",
    "from src.dataset.dataset import make_val_dataloader\n",
    "\n",
    "val_img_dir = \"./datasets/val/images\"\n",
    "val_label_dir = \"./datasets/val/labels\"\n",
    "img_depth = 96\n",
    "img_size = 96  # Match your patch size\n",
    "n_classes = 7\n",
    "batch_size = 2 # 13.8GB GPU memory required for 128x128 img size\n",
    "num_samples = batch_size # 한 이미지에서 뽑을 샘플 수\n",
    "loader_batch = 1\n",
    "lamda = 0.52\n",
    "\n",
    "wandb.init(\n",
    "    project='czii_SwinUnetR_val',  # 프로젝트 이름 설정\n",
    "    name='SwinUNETR96_96_lr0.001_lambda0.52_batch2',         # 실행(run) 이름 설정\n",
    "    config={\n",
    "        'learning_rate': 0.001,\n",
    "        'batch_size': batch_size,\n",
    "        'lambda': lamda,\n",
    "        'img_size': img_size,\n",
    "        'device': 'cuda',\n",
    "        \"checkpoint_dir\": \"./model_checkpoints/SwinUNETR96_96_lr0.001_lambda0.52_batch2\",\n",
    "        \n",
    "    }\n",
    ")\n",
    "\n",
    "non_random_transforms = Compose([\n",
    "    EnsureChannelFirstd(keys=[\"image\", \"label\"], channel_dim=\"no_channel\"),\n",
    "    NormalizeIntensityd(keys=\"image\"),\n",
    "    Orientationd(keys=[\"image\", \"label\"], axcodes=\"RAS\"),\n",
    "    GaussianSmoothd(\n",
    "        keys=[\"image\"],      # 변환을 적용할 키\n",
    "        sigma=[1.0, 1.0, 1.0]  # 각 축(x, y, z)의 시그마 값\n",
    "        ),\n",
    "])\n",
    "random_transforms = Compose([\n",
    "    RandCropByLabelClassesd(\n",
    "        keys=[\"image\", \"label\"],\n",
    "        label_key=\"label\",\n",
    "        spatial_size=[img_depth, img_size, img_size],\n",
    "        num_classes=n_classes,\n",
    "        num_samples=num_samples, \n",
    "        ratios=ratios_list,\n",
    "    ),\n",
    "    RandRotate90d(keys=[\"image\", \"label\"], prob=0.5, spatial_axes=[1, 2]),\n",
    "    RandFlipd(keys=[\"image\", \"label\"], prob=0.5, spatial_axis=0),\n",
    "])\n",
    "\n",
    "val_loader = make_val_dataloader(\n",
    "    val_img_dir, \n",
    "    val_label_dir, \n",
    "    non_random_transforms = non_random_transforms, \n",
    "    random_transforms = random_transforms, \n",
    "    batch_size = loader_batch,\n",
    "    num_workers=0\n",
    ")\n",
    "criterion = TverskyLoss(\n",
    "    alpha= 1 - lamda,  # FP에 대한 가중치\n",
    "    beta=lamda,       # FN에 대한 가중치\n",
    "    include_background=False,  # 배경 클래스 제외\n",
    "    softmax=True\n",
    ")\n",
    "    \n",
    "    \n",
    "from monai.metrics import DiceMetric\n",
    "\n",
    "img_size = 96\n",
    "img_depth = img_size\n",
    "n_classes = 7 \n",
    "\n",
    "device = torch.device(\"cuda\" if torch.cuda.is_available() else \"cpu\")\n",
    "pretrain_path = \"./model_checkpoints/SwinUNETR96_96_lr0.001_lambda0.52_batch2/best_model.pt\"\n",
    "model = SwinUNETR(\n",
    "    img_size=(img_depth, img_size, img_size),\n",
    "    in_channels=1,\n",
    "    out_channels=n_classes,\n",
    "    feature_size=48,\n",
    "    use_checkpoint=True,\n",
    ").to(device)\n",
    "# Pretrained weights 불러오기\n",
    "checkpoint = torch.load(pretrain_path, map_location=device)\n",
    "model.load_state_dict(checkpoint['model_state_dict'])\n",
    "\n",
    "val_loss, overall_mean_fbeta_score = validate_one_epoch(\n",
    "    model=model, \n",
    "    val_loader=val_loader, \n",
    "    criterion=criterion, \n",
    "    device=device, \n",
    "    epoch=0, \n",
    "    calculate_dice_interval=1\n",
    ")"
   ]
  },
  {
   "cell_type": "markdown",
   "metadata": {},
   "source": [
    "# Inference"
   ]
  },
  {
   "cell_type": "code",
   "execution_count": null,
   "metadata": {},
   "outputs": [
    {
     "ename": "",
     "evalue": "",
     "output_type": "error",
     "traceback": [
      "\u001b[1;31mnotebook controller is DISPOSED. \n",
      "\u001b[1;31m자세한 내용은 Jupyter <a href='command:jupyter.viewOutput'>로그</a>를 참조하세요."
     ]
    },
    {
     "ename": "",
     "evalue": "",
     "output_type": "error",
     "traceback": [
      "\u001b[1;31mnotebook controller is DISPOSED. \n",
      "\u001b[1;31m자세한 내용은 Jupyter <a href='command:jupyter.viewOutput'>로그</a>를 참조하세요."
     ]
    }
   ],
   "source": [
    "from src.dataset.preprocessing import Preprocessor"
   ]
  },
  {
   "cell_type": "code",
   "execution_count": null,
   "metadata": {},
   "outputs": [
    {
     "name": "stdout",
     "output_type": "stream",
     "text": [
      "Done.\n"
     ]
    },
    {
     "ename": "",
     "evalue": "",
     "output_type": "error",
     "traceback": [
      "\u001b[1;31mnotebook controller is DISPOSED. \n",
      "\u001b[1;31m자세한 내용은 Jupyter <a href='command:jupyter.viewOutput'>로그</a>를 참조하세요."
     ]
    },
    {
     "ename": "",
     "evalue": "",
     "output_type": "error",
     "traceback": [
      "\u001b[1;31mnotebook controller is DISPOSED. \n",
      "\u001b[1;31m자세한 내용은 Jupyter <a href='command:jupyter.viewOutput'>로그</a>를 참조하세요."
     ]
    }
   ],
   "source": [
    "from monai.inferers import sliding_window_inference\n",
    "from monai.transforms import Compose, EnsureChannelFirstd, NormalizeIntensityd, Orientationd, GaussianSmoothd\n",
    "from monai.data import DataLoader, Dataset, CacheDataset\n",
    "from monai.networks.nets import SwinUNETR\n",
    "from pathlib import Path\n",
    "import numpy as np\n",
    "import copick\n",
    "\n",
    "import torch\n",
    "print(\"Done.\")"
   ]
  },
  {
   "cell_type": "code",
   "execution_count": null,
   "metadata": {},
   "outputs": [
    {
     "name": "stdout",
     "output_type": "stream",
     "text": [
      "Config file written to ./kaggle/working/copick.config\n",
      "file length: 7\n"
     ]
    },
    {
     "ename": "",
     "evalue": "",
     "output_type": "error",
     "traceback": [
      "\u001b[1;31mnotebook controller is DISPOSED. \n",
      "\u001b[1;31m자세한 내용은 Jupyter <a href='command:jupyter.viewOutput'>로그</a>를 참조하세요."
     ]
    },
    {
     "ename": "",
     "evalue": "",
     "output_type": "error",
     "traceback": [
      "\u001b[1;31mnotebook controller is DISPOSED. \n",
      "\u001b[1;31m자세한 내용은 Jupyter <a href='command:jupyter.viewOutput'>로그</a>를 참조하세요."
     ]
    }
   ],
   "source": [
    "config_blob = \"\"\"{\n",
    "    \"name\": \"czii_cryoet_mlchallenge_2024\",\n",
    "    \"description\": \"2024 CZII CryoET ML Challenge training data.\",\n",
    "    \"version\": \"1.0.0\",\n",
    "\n",
    "    \"pickable_objects\": [\n",
    "        {\n",
    "            \"name\": \"apo-ferritin\",\n",
    "            \"is_particle\": true,\n",
    "            \"pdb_id\": \"4V1W\",\n",
    "            \"label\": 1,\n",
    "            \"color\": [  0, 117, 220, 128],\n",
    "            \"radius\": 60,\n",
    "            \"map_threshold\": 0.0418\n",
    "        },\n",
    "        {\n",
    "          \"name\" : \"beta-amylase\",\n",
    "            \"is_particle\": true,\n",
    "            \"pdb_id\": \"8ZRZ\",\n",
    "            \"label\": 2,\n",
    "            \"color\": [255, 255, 255, 128],\n",
    "            \"radius\": 90,\n",
    "            \"map_threshold\": 0.0578  \n",
    "        },\n",
    "        {\n",
    "            \"name\": \"beta-galactosidase\",\n",
    "            \"is_particle\": true,\n",
    "            \"pdb_id\": \"6X1Q\",\n",
    "            \"label\": 3,\n",
    "            \"color\": [ 76,   0,  92, 128],\n",
    "            \"radius\": 90,\n",
    "            \"map_threshold\": 0.0578\n",
    "        },\n",
    "        {\n",
    "            \"name\": \"ribosome\",\n",
    "            \"is_particle\": true,\n",
    "            \"pdb_id\": \"6EK0\",\n",
    "            \"label\": 4,\n",
    "            \"color\": [  0,  92,  49, 128],\n",
    "            \"radius\": 150,\n",
    "            \"map_threshold\": 0.0374\n",
    "        },\n",
    "        {\n",
    "            \"name\": \"thyroglobulin\",\n",
    "            \"is_particle\": true,\n",
    "            \"pdb_id\": \"6SCJ\",\n",
    "            \"label\": 5,\n",
    "            \"color\": [ 43, 206,  72, 128],\n",
    "            \"radius\": 130,\n",
    "            \"map_threshold\": 0.0278\n",
    "        },\n",
    "        {\n",
    "            \"name\": \"virus-like-particle\",\n",
    "            \"is_particle\": true,\n",
    "            \"label\": 6,\n",
    "            \"color\": [255, 204, 153, 128],\n",
    "            \"radius\": 135,\n",
    "            \"map_threshold\": 0.201\n",
    "        },\n",
    "        {\n",
    "            \"name\": \"membrane\",\n",
    "            \"is_particle\": false,\n",
    "            \"label\": 8,\n",
    "            \"color\": [100, 100, 100, 128]\n",
    "        },\n",
    "        {\n",
    "            \"name\": \"background\",\n",
    "            \"is_particle\": false,\n",
    "            \"label\": 9,\n",
    "            \"color\": [10, 150, 200, 128]\n",
    "        }\n",
    "    ],\n",
    "\n",
    "    \"overlay_root\": \"./kaggle/working/overlay\",\n",
    "\n",
    "    \"overlay_fs_args\": {\n",
    "        \"auto_mkdir\": true\n",
    "    },\n",
    "\n",
    "    \"static_root\": \"./kaggle/input/czii-cryo-et-object-identification/test/static\"\n",
    "}\"\"\"\n",
    "\n",
    "copick_config_path = \"./kaggle/working/copick.config\"\n",
    "preprocessor = Preprocessor(config_blob,copick_config_path=copick_config_path)\n",
    "non_random_transforms = Compose([\n",
    "    EnsureChannelFirstd(keys=[\"image\"], channel_dim=\"no_channel\"),\n",
    "    NormalizeIntensityd(keys=\"image\"),\n",
    "    Orientationd(keys=[\"image\"], axcodes=\"RAS\"),\n",
    "    GaussianSmoothd(\n",
    "        keys=[\"image\"],      # 변환을 적용할 키\n",
    "        sigma=[1.0, 1.0, 1.0]  # 각 축(x, y, z)의 시그마 값\n",
    "        ),\n",
    "    ])"
   ]
  },
  {
   "cell_type": "code",
   "execution_count": null,
   "metadata": {},
   "outputs": [
    {
     "name": "stderr",
     "output_type": "stream",
     "text": [
      "c:\\ProgramData\\anaconda3\\envs\\ship\\Lib\\site-packages\\monai\\utils\\deprecate_utils.py:221: FutureWarning: monai.networks.nets.swin_unetr SwinUNETR.__init__:img_size: Argument `img_size` has been deprecated since version 1.3. It will be removed in version 1.5. The img_size argument is not required anymore and checks on the input size are run during forward().\n",
      "  warn_deprecated(argname, msg, warning_category)\n",
      "C:\\Users\\Seungwoo\\AppData\\Local\\Temp\\ipykernel_6248\\2937359115.py:15: FutureWarning: You are using `torch.load` with `weights_only=False` (the current default value), which uses the default pickle module implicitly. It is possible to construct malicious pickle data which will execute arbitrary code during unpickling (See https://github.com/pytorch/pytorch/blob/main/SECURITY.md#untrusted-models for more details). In a future release, the default value for `weights_only` will be flipped to `True`. This limits the functions that could be executed during unpickling. Arbitrary objects will no longer be allowed to be loaded via this mode unless they are explicitly allowlisted by the user via `torch.serialization.add_safe_globals`. We recommend you start setting `weights_only=True` for any use case where you don't have full control of the loaded file. Please open an issue on GitHub for any issues related to this experimental feature.\n",
      "  checkpoint = torch.load(pretrain_path, map_location=device)\n"
     ]
    },
    {
     "data": {
      "text/plain": [
       "<All keys matched successfully>"
      ]
     },
     "execution_count": 15,
     "metadata": {},
     "output_type": "execute_result"
    },
    {
     "ename": "",
     "evalue": "",
     "output_type": "error",
     "traceback": [
      "\u001b[1;31mnotebook controller is DISPOSED. \n",
      "\u001b[1;31m자세한 내용은 Jupyter <a href='command:jupyter.viewOutput'>로그</a>를 참조하세요."
     ]
    },
    {
     "ename": "",
     "evalue": "",
     "output_type": "error",
     "traceback": [
      "\u001b[1;31mnotebook controller is DISPOSED. \n",
      "\u001b[1;31m자세한 내용은 Jupyter <a href='command:jupyter.viewOutput'>로그</a>를 참조하세요."
     ]
    }
   ],
   "source": [
    "img_size = 96\n",
    "img_depth = img_size\n",
    "n_classes = 7 \n",
    "\n",
    "device = torch.device(\"cuda\" if torch.cuda.is_available() else \"cpu\")\n",
    "pretrain_path = \"./model_checkpoints/SwinUNETR96_96_lr0.001_lambda0.52_batch2/best_model.pt\"\n",
    "model = SwinUNETR(\n",
    "    img_size=(img_depth, img_size, img_size),\n",
    "    in_channels=1,\n",
    "    out_channels=n_classes,\n",
    "    feature_size=48,\n",
    "    use_checkpoint=True,\n",
    ").to(device)\n",
    "# Pretrained weights 불러오기\n",
    "checkpoint = torch.load(pretrain_path, map_location=device)\n",
    "model.load_state_dict(checkpoint['model_state_dict'])\n"
   ]
  },
  {
   "cell_type": "code",
   "execution_count": null,
   "metadata": {},
   "outputs": [
    {
     "name": "stderr",
     "output_type": "stream",
     "text": [
      "Validation:   0%|          | 0/4 [00:03<?, ?it/s, loss=0.764]\n"
     ]
    },
    {
     "ename": "ZeroDivisionError",
     "evalue": "integer modulo by zero",
     "output_type": "error",
     "traceback": [
      "\u001b[1;31m---------------------------------------------------------------------------\u001b[0m",
      "\u001b[1;31mZeroDivisionError\u001b[0m                         Traceback (most recent call last)",
      "Cell \u001b[1;32mIn[16], line 1\u001b[0m\n\u001b[1;32m----> 1\u001b[0m val_loss \u001b[38;5;241m=\u001b[39m \u001b[43mvalidate_one_epoch\u001b[49m\u001b[43m(\u001b[49m\n\u001b[0;32m      2\u001b[0m \u001b[43m            \u001b[49m\u001b[43mmodel\u001b[49m\u001b[38;5;241;43m=\u001b[39;49m\u001b[43mmodel\u001b[49m\u001b[43m,\u001b[49m\u001b[43m \u001b[49m\n\u001b[0;32m      3\u001b[0m \u001b[43m            \u001b[49m\u001b[43mval_loader\u001b[49m\u001b[38;5;241;43m=\u001b[39;49m\u001b[43mval_loader\u001b[49m\u001b[43m,\u001b[49m\u001b[43m \u001b[49m\n\u001b[0;32m      4\u001b[0m \u001b[43m            \u001b[49m\u001b[43mcriterion\u001b[49m\u001b[38;5;241;43m=\u001b[39;49m\u001b[43mcriterion\u001b[49m\u001b[43m,\u001b[49m\u001b[43m \u001b[49m\n\u001b[0;32m      5\u001b[0m \u001b[43m            \u001b[49m\u001b[43mdevice\u001b[49m\u001b[38;5;241;43m=\u001b[39;49m\u001b[43mdevice\u001b[49m\u001b[43m,\u001b[49m\u001b[43m \u001b[49m\n\u001b[0;32m      6\u001b[0m \u001b[43m            \u001b[49m\u001b[43mepoch\u001b[49m\u001b[38;5;241;43m=\u001b[39;49m\u001b[38;5;241;43m1\u001b[39;49m\u001b[43m,\u001b[49m\u001b[43m \u001b[49m\n\u001b[0;32m      7\u001b[0m \u001b[43m            \u001b[49m\u001b[43mcalculate_dice_interval\u001b[49m\u001b[38;5;241;43m=\u001b[39;49m\u001b[38;5;241;43m0\u001b[39;49m\n\u001b[0;32m      8\u001b[0m \u001b[43m        \u001b[49m\u001b[43m)\u001b[49m\n",
      "Cell \u001b[1;32mIn[11], line 64\u001b[0m, in \u001b[0;36mvalidate_one_epoch\u001b[1;34m(model, val_loader, criterion, device, epoch, calculate_dice_interval)\u001b[0m\n\u001b[0;32m     61\u001b[0m pbar\u001b[38;5;241m.\u001b[39mset_postfix(loss\u001b[38;5;241m=\u001b[39mloss\u001b[38;5;241m.\u001b[39mitem())\n\u001b[0;32m     63\u001b[0m \u001b[38;5;66;03m# 각 클래스별 Dice 점수 계산\u001b[39;00m\n\u001b[1;32m---> 64\u001b[0m \u001b[38;5;28;01mif\u001b[39;00m \u001b[43mepoch\u001b[49m\u001b[43m \u001b[49m\u001b[38;5;241;43m%\u001b[39;49m\u001b[43m \u001b[49m\u001b[43mcalculate_dice_interval\u001b[49m \u001b[38;5;241m==\u001b[39m \u001b[38;5;241m0\u001b[39m:\n\u001b[0;32m     65\u001b[0m     \u001b[38;5;28;01mfor\u001b[39;00m i \u001b[38;5;129;01min\u001b[39;00m \u001b[38;5;28mrange\u001b[39m(n_classes):\n\u001b[0;32m     66\u001b[0m         pred_i \u001b[38;5;241m=\u001b[39m (preds \u001b[38;5;241m==\u001b[39m i)\n",
      "\u001b[1;31mZeroDivisionError\u001b[0m: integer modulo by zero"
     ]
    },
    {
     "ename": "",
     "evalue": "",
     "output_type": "error",
     "traceback": [
      "\u001b[1;31mnotebook controller is DISPOSED. \n",
      "\u001b[1;31m자세한 내용은 Jupyter <a href='command:jupyter.viewOutput'>로그</a>를 참조하세요."
     ]
    },
    {
     "ename": "",
     "evalue": "",
     "output_type": "error",
     "traceback": [
      "\u001b[1;31mnotebook controller is DISPOSED. \n",
      "\u001b[1;31m자세한 내용은 Jupyter <a href='command:jupyter.viewOutput'>로그</a>를 참조하세요."
     ]
    }
   ],
   "source": [
    "val_loss = validate_one_epoch(\n",
    "            model=model, \n",
    "            val_loader=val_loader, \n",
    "            criterion=criterion, \n",
    "            device=device, \n",
    "            epoch=1, \n",
    "            calculate_dice_interval=0\n",
    "        )"
   ]
  },
  {
   "cell_type": "code",
   "execution_count": null,
   "metadata": {},
   "outputs": [
    {
     "name": "stdout",
     "output_type": "stream",
     "text": [
      "Processing volume 1/7\n"
     ]
    },
    {
     "name": "stderr",
     "output_type": "stream",
     "text": [
      "Loading dataset: 100%|██████████| 1/1 [00:01<00:00,  1.94s/it]\n"
     ]
    },
    {
     "name": "stdout",
     "output_type": "stream",
     "text": [
      "Processing volume 2/7\n"
     ]
    },
    {
     "name": "stderr",
     "output_type": "stream",
     "text": [
      "Loading dataset: 100%|██████████| 1/1 [00:01<00:00,  1.89s/it]\n"
     ]
    },
    {
     "name": "stdout",
     "output_type": "stream",
     "text": [
      "Processing volume 3/7\n"
     ]
    },
    {
     "name": "stderr",
     "output_type": "stream",
     "text": [
      "Loading dataset: 100%|██████████| 1/1 [00:01<00:00,  1.79s/it]\n"
     ]
    },
    {
     "name": "stdout",
     "output_type": "stream",
     "text": [
      "Submission saved to: submission.csv\n"
     ]
    },
    {
     "ename": "",
     "evalue": "",
     "output_type": "error",
     "traceback": [
      "\u001b[1;31mnotebook controller is DISPOSED. \n",
      "\u001b[1;31m자세한 내용은 Jupyter <a href='command:jupyter.viewOutput'>로그</a>를 참조하세요."
     ]
    },
    {
     "ename": "",
     "evalue": "",
     "output_type": "error",
     "traceback": [
      "\u001b[1;31mnotebook controller is DISPOSED. \n",
      "\u001b[1;31m자세한 내용은 Jupyter <a href='command:jupyter.viewOutput'>로그</a>를 참조하세요."
     ]
    }
   ],
   "source": [
    "import torch\n",
    "import numpy as np\n",
    "from scipy.ndimage import label, center_of_mass\n",
    "import pandas as pd\n",
    "from tqdm import tqdm\n",
    "from monai.data import CacheDataset, DataLoader\n",
    "from monai.transforms import Compose, NormalizeIntensity\n",
    "import cc3d\n",
    "\n",
    "def dict_to_df(coord_dict, experiment_name):\n",
    "    all_coords = []\n",
    "    all_labels = []\n",
    "    \n",
    "    for label, coords in coord_dict.items():\n",
    "        all_coords.append(coords)\n",
    "        all_labels.extend([label] * len(coords))\n",
    "    \n",
    "    all_coords = np.vstack(all_coords)\n",
    "    df = pd.DataFrame({\n",
    "        'experiment': experiment_name,\n",
    "        'particle_type': all_labels,\n",
    "        'x': all_coords[:, 0],\n",
    "        'y': all_coords[:, 1],\n",
    "        'z': all_coords[:, 2]\n",
    "    })\n",
    "    return df\n",
    "\n",
    "id_to_name = {1: \"apo-ferritin\", \n",
    "              2: \"beta-amylase\",\n",
    "              3: \"beta-galactosidase\", \n",
    "              4: \"ribosome\", \n",
    "              5: \"thyroglobulin\", \n",
    "              6: \"virus-like-particle\"}\n",
    "BLOB_THRESHOLD = 200\n",
    "CERTAINTY_THRESHOLD = 0.05\n",
    "\n",
    "classes = [1, 2, 3, 4, 5, 6]\n",
    "\n",
    "model.eval()\n",
    "with torch.no_grad():\n",
    "    location_dfs = []  # DataFrame 리스트로 초기화\n",
    "    \n",
    "    for vol_idx, run in enumerate(preprocessor.root.runs):\n",
    "        print(f\"Processing volume {vol_idx + 1}/{len(preprocessor.root.runs)}\")\n",
    "        tomogram = preprocessor.processing(run=run, task=\"task\")\n",
    "        task_files = [{\"image\": tomogram}]\n",
    "        task_ds = CacheDataset(data=task_files, transform=non_random_transforms)\n",
    "        task_loader = DataLoader(task_ds, batch_size=1, num_workers=0)\n",
    "        \n",
    "        for task_data in task_loader:\n",
    "            images = task_data['image'].to(\"cuda\")\n",
    "            outputs = sliding_window_inference(\n",
    "                inputs=images,\n",
    "                roi_size=(96, 96, 96),  # ROI 크기\n",
    "                sw_batch_size=4,\n",
    "                predictor=model.forward,\n",
    "                overlap=0.1,\n",
    "                sw_device=\"cuda\",\n",
    "                device=\"cpu\",\n",
    "                buffer_steps=1,\n",
    "                buffer_dim=-1\n",
    "            )\n",
    "            outputs = outputs.argmax(dim=1).squeeze(0).cpu().numpy()  # 클래스 채널 예측\n",
    "            location = {}  # 좌표 저장용 딕셔너리\n",
    "            for c in classes:\n",
    "                cc = cc3d.connected_components(outputs == c)  # cc3d 라벨링\n",
    "                stats = cc3d.statistics(cc)\n",
    "                zyx = stats['centroids'][1:] * 10.012444  # 스케일 변환\n",
    "                zyx_large = zyx[stats['voxel_counts'][1:] > BLOB_THRESHOLD]  # 크기 필터링\n",
    "                xyz = np.ascontiguousarray(zyx_large[:, ::-1])  # 좌표 스왑 (z, y, x -> x, y, z)\n",
    "\n",
    "                location[id_to_name[c]] = xyz  # ID 이름 매칭 저장\n",
    "\n",
    "            # 데이터프레임 변환\n",
    "            df = dict_to_df(location, run.name)\n",
    "            location_dfs.append(df)  # 리스트에 추가\n",
    "        \n",
    "        # if vol_idx == 2:\n",
    "        #     break\n",
    "    \n",
    "    # DataFrame 병합\n",
    "    final_df = pd.concat(location_dfs, ignore_index=True)\n",
    "    \n",
    "    # ID 추가 및 CSV 저장\n",
    "    final_df.insert(loc=0, column='id', value=np.arange(len(final_df)))\n",
    "    final_df.to_csv(\"submission.csv\", index=False)\n",
    "    print(\"Submission saved to: submission.csv\")\n"
   ]
  }
 ],
 "metadata": {
  "kernelspec": {
   "display_name": "UM",
   "language": "python",
   "name": "python3"
  },
  "language_info": {
   "codemirror_mode": {
    "name": "ipython",
    "version": 3
   },
   "file_extension": ".py",
   "mimetype": "text/x-python",
   "name": "python",
   "nbconvert_exporter": "python",
   "pygments_lexer": "ipython3",
   "version": "3.12.7"
  }
 },
 "nbformat": 4,
 "nbformat_minor": 2
}
