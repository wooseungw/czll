{
 "cells": [
  {
   "cell_type": "code",
   "execution_count": 1,
   "metadata": {},
   "outputs": [
    {
     "name": "stderr",
     "output_type": "stream",
     "text": [
      "c:\\Users\\pook0\\.conda\\envs\\UM\\Lib\\site-packages\\tqdm\\auto.py:21: TqdmWarning: IProgress not found. Please update jupyter and ipywidgets. See https://ipywidgets.readthedocs.io/en/stable/user_install.html\n",
      "  from .autonotebook import tqdm as notebook_tqdm\n"
     ]
    },
    {
     "name": "stdout",
     "output_type": "stream",
     "text": [
      "MONAI version: 1.4.0\n",
      "Numpy version: 1.26.4\n",
      "Pytorch version: 2.4.1+cu121\n",
      "MONAI flags: HAS_EXT = False, USE_COMPILED = False, USE_META_DICT = False\n",
      "MONAI rev id: 46a5272196a6c2590ca2589029eed8e4d56ff008\n",
      "MONAI __file__: c:\\Users\\<username>\\.conda\\envs\\UM\\Lib\\site-packages\\monai\\__init__.py\n",
      "\n",
      "Optional dependencies:\n",
      "Pytorch Ignite version: NOT INSTALLED or UNKNOWN VERSION.\n",
      "ITK version: NOT INSTALLED or UNKNOWN VERSION.\n",
      "Nibabel version: 5.3.2\n",
      "scikit-image version: 0.24.0\n",
      "scipy version: 1.14.1\n",
      "Pillow version: 10.2.0\n",
      "Tensorboard version: 2.18.0\n",
      "gdown version: 5.2.0\n",
      "TorchVision version: 0.19.1+cu121\n",
      "tqdm version: 4.66.5\n",
      "lmdb version: NOT INSTALLED or UNKNOWN VERSION.\n",
      "psutil version: 6.0.0\n",
      "pandas version: 2.2.3\n",
      "einops version: 0.8.0\n",
      "transformers version: NOT INSTALLED or UNKNOWN VERSION.\n",
      "mlflow version: 2.17.2\n",
      "pynrrd version: NOT INSTALLED or UNKNOWN VERSION.\n",
      "clearml version: NOT INSTALLED or UNKNOWN VERSION.\n",
      "\n",
      "For details about installing the optional dependencies, please visit:\n",
      "    https://docs.monai.io/en/latest/installation.html#installing-the-recommended-dependencies\n",
      "\n"
     ]
    }
   ],
   "source": [
    "import os\n",
    "import shutil\n",
    "import tempfile\n",
    "\n",
    "import matplotlib.pyplot as plt\n",
    "from tqdm import tqdm\n",
    "\n",
    "import random\n",
    "import numpy as np\n",
    "import torch\n",
    "\n",
    "from src.models import UNet_CBAM\n",
    "\n",
    "from monai.losses import DiceCELoss\n",
    "from monai.inferers import sliding_window_inference\n",
    "from monai.transforms import (\n",
    "    AsDiscrete,\n",
    "    EnsureChannelFirstd,\n",
    "    Compose,\n",
    "    CropForegroundd,\n",
    "    LoadImaged,\n",
    "    Orientationd,\n",
    "    RandFlipd,\n",
    "    RandCropByPosNegLabeld,\n",
    "    RandShiftIntensityd,\n",
    "    ScaleIntensityRanged,\n",
    "    Spacingd,\n",
    "    RandRotate90d,\n",
    ")\n",
    "\n",
    "from monai.networks.layers.factories import Act, Norm\n",
    "\n",
    "from monai.config import print_config\n",
    "from monai.metrics import DiceMetric\n",
    "# from src.models.swincspunetr import SwinCSPUNETR\n",
    "# from src.models.swincspunetr_unet import SwinCSPUNETR_unet\n",
    "# from src.models.swincspunetr3plus import SwinCSPUNETR3plus\n",
    "\n",
    "from monai.data import (\n",
    "    DataLoader,\n",
    "    CacheDataset,\n",
    "    load_decathlon_datalist,\n",
    "    decollate_batch,\n",
    ")\n",
    "\n",
    "# 랜덤 시드 고정\n",
    "def set_seed(seed):\n",
    "    random.seed(seed)\n",
    "    np.random.seed(seed)\n",
    "    torch.manual_seed(seed)\n",
    "    if torch.cuda.is_available():\n",
    "        torch.cuda.manual_seed_all(seed)\n",
    "\n",
    "set_seed(42)\n",
    "\n",
    "\n",
    "print_config()"
   ]
  },
  {
   "cell_type": "code",
   "execution_count": 2,
   "metadata": {},
   "outputs": [
    {
     "name": "stdout",
     "output_type": "stream",
     "text": [
      "클래스 비율: {0: 0.0, 1: 0.16393442622950818, 2: 0.01639344262295082, 3: 0.2459016393442623, 4: 0.16393442622950818, 5: 0.2459016393442623, 6: 0.16393442622950818}\n",
      "최종 합계: 1.0\n",
      "클래스 비율 리스트: [0.0, 0.16393442622950818, 0.01639344262295082, 0.2459016393442623, 0.16393442622950818, 0.2459016393442623, 0.16393442622950818]\n"
     ]
    }
   ],
   "source": [
    "class_info = {\n",
    "    0: {\"name\": \"background\", \"weight\": 0},  # weight 없음\n",
    "    1: {\"name\": \"apo-ferritin\", \"weight\": 1000},\n",
    "    2: {\"name\": \"beta-amylase\", \"weight\": 100}, # 4130\n",
    "    3: {\"name\": \"beta-galactosidase\", \"weight\": 1500}, #3080\n",
    "    4: {\"name\": \"ribosome\", \"weight\": 1000},\n",
    "    5: {\"name\": \"thyroglobulin\", \"weight\": 1500},\n",
    "    6: {\"name\": \"virus-like-particle\", \"weight\": 1000},\n",
    "}\n",
    "\n",
    "# 가중치에 비례한 비율 계산\n",
    "raw_ratios = {\n",
    "    k: (v[\"weight\"] if v[\"weight\"] is not None else 0.01)  # 가중치 비례, None일 경우 기본값a\n",
    "    for k, v in class_info.items()\n",
    "}\n",
    "total = sum(raw_ratios.values())\n",
    "ratios = {k: v / total for k, v in raw_ratios.items()}\n",
    "\n",
    "# 최종 합계가 1인지 확인\n",
    "final_total = sum(ratios.values())\n",
    "print(\"클래스 비율:\", ratios)\n",
    "print(\"최종 합계:\", final_total)\n",
    "\n",
    "# 비율을 리스트로 변환\n",
    "ratios_list = [ratios[k] for k in sorted(ratios.keys())]\n",
    "print(\"클래스 비율 리스트:\", ratios_list)"
   ]
  },
  {
   "cell_type": "markdown",
   "metadata": {},
   "source": [
    "# 모델 설정"
   ]
  },
  {
   "cell_type": "code",
   "execution_count": 3,
   "metadata": {},
   "outputs": [],
   "source": [
    "from src.dataset.dataset import create_dataloaders, create_dataloaders_bw\n",
    "from monai.transforms import (\n",
    "    Compose, LoadImaged, EnsureChannelFirstd, NormalizeIntensityd,\n",
    "    Orientationd, CropForegroundd, GaussianSmoothd, ScaleIntensityd,\n",
    "    RandSpatialCropd, RandRotate90d, RandFlipd, RandGaussianNoised,\n",
    "    ToTensord, RandCropByLabelClassesd, RandCropd,RandCropByPosNegLabeld, RandGaussianSmoothd\n",
    ")\n",
    "from monai.transforms import CastToTyped\n",
    "import numpy as np\n",
    "\n",
    "train_img_dir = \"./datasets/pretrain_exdata/images\"\n",
    "train_label_dir = \"./datasets/pretrain_exdata/labels\"\n",
    "val_img_dir = \"./datasets/val/images\"\n",
    "val_label_dir = \"./datasets/val/labels\"\n",
    "# DATA CONFIG\n",
    "img_size =  96 # Match your patch size\n",
    "img_depth = 32\n",
    "n_classes = 7\n",
    "batch_size = 16 # 13.8GB GPU memory required for 128x128 img size\n",
    "loader_batch = 1\n",
    "num_samples = batch_size // loader_batch # 한 이미지에서 뽑을 샘플 수\n",
    "num_repeat = 4\n",
    "# MODEL CONFIG\n",
    "num_epochs = 4000\n",
    "lamda = 0.52\n",
    "ce_weight = 0.4\n",
    "lr = 0.001\n",
    "feature_size = 48\n",
    "use_checkpoint = True\n",
    "use_v2 = True\n",
    "drop_rate= 0.25\n",
    "attn_drop_rate = 0.25\n",
    "num_bottleneck = 2\n",
    "# CLASS_WEIGHTS\n",
    "class_weights = None\n",
    "# class_weights = torch.tensor([0.0001, 1, 0.001, 1.1, 1, 1.1, 1], dtype=torch.float32)  # 클래스별 가중치\n",
    "# class_weights = torch.tensor([0.9,1,0.9,1.1,1,1.1,1], dtype=torch.float32)  # 클래스별 가중치\n",
    "# class_weights = torch.tensor([1,1,1,1,1,1,1], dtype=torch.float32)  # 클래스별 가중치\n",
    "sigma = 2.0\n",
    "accumulation_steps = 1\n",
    "# INIT\n",
    "start_epoch = 0\n",
    "best_val_loss = float('inf')\n",
    "best_val_fbeta_score = 0\n",
    "\n",
    "non_random_transforms = Compose([\n",
    "    EnsureChannelFirstd(keys=[\"image\", \"label\"], channel_dim=\"no_channel\"),\n",
    "    NormalizeIntensityd(keys=\"image\"),\n",
    "    Orientationd(keys=[\"image\", \"label\"], axcodes=\"RAS\"),\n",
    "    # GaussianSmoothd(\n",
    "    #     keys=[\"image\"],      # 변환을 적용할 키\n",
    "    #     sigma=[sigma, sigma, sigma]  # 각 축(x, y, z)의 시그마 값\n",
    "    #     ),\n",
    "])\n",
    "random_transforms = Compose([\n",
    "    RandCropByLabelClassesd(\n",
    "        keys=[\"image\", \"label\"],\n",
    "        label_key=\"label\",\n",
    "        spatial_size=[img_depth, img_size, img_size],\n",
    "        num_classes=n_classes,\n",
    "        num_samples=num_samples, \n",
    "        ratios=ratios_list,\n",
    "    ),\n",
    "    RandRotate90d(keys=[\"image\", \"label\"], prob=0.5, spatial_axes=[1, 2]),\n",
    "    RandFlipd(keys=[\"image\", \"label\"], prob=0.5, spatial_axis=0),\n",
    "    RandFlipd(keys=[\"image\", \"label\"], prob=0.5, spatial_axis=1),\n",
    "    RandFlipd(keys=[\"image\", \"label\"], prob=0.5, spatial_axis=2),\n",
    "    RandGaussianSmoothd(\n",
    "    keys=[\"image\"],      # 변환을 적용할 키\n",
    "    sigma_x = (0.0, sigma), # 각 축(x, y, z)의 시그마 값\n",
    "    sigma_y = (0.0, sigma),\n",
    "    sigma_z = (0.0, sigma),\n",
    "    prob=1.0,\n",
    "    ),\n",
    "])\n",
    "val_random_transforms = Compose([\n",
    "    RandCropByLabelClassesd(\n",
    "        keys=[\"image\", \"label\"],\n",
    "        label_key=\"label\",\n",
    "        spatial_size=[img_depth, img_size, img_size],\n",
    "        num_classes=n_classes,\n",
    "        num_samples=num_samples, \n",
    "        ratios=ratios_list,\n",
    "    ),\n",
    "    RandRotate90d(keys=[\"image\", \"label\"], prob=0.5, spatial_axes=[1, 2]),\n",
    "    RandFlipd(keys=[\"image\", \"label\"], prob=0.5, spatial_axis=0),\n",
    "    RandFlipd(keys=[\"image\", \"label\"], prob=0.5, spatial_axis=1),\n",
    "    RandFlipd(keys=[\"image\", \"label\"], prob=0.5, spatial_axis=2),\n",
    "    # RandGaussianSmoothd(\n",
    "    # keys=[\"image\"],      # 변환을 적용할 키\n",
    "    # sigma_x = (0.0, sigma), # 각 축(x, y, z)의 시그마 값\n",
    "    # sigma_y = (0.0, sigma),\n",
    "    # sigma_z = (0.0, sigma),\n",
    "    # prob=1.0,\n",
    "    # ),\n",
    "])\n"
   ]
  },
  {
   "cell_type": "code",
   "execution_count": 4,
   "metadata": {},
   "outputs": [
    {
     "name": "stderr",
     "output_type": "stream",
     "text": [
      "Loading dataset: 100%|██████████| 51/51 [00:05<00:00,  9.42it/s]\n",
      "Loading dataset: 100%|██████████| 1/1 [00:00<00:00,  6.94it/s]\n"
     ]
    }
   ],
   "source": [
    "train_loader, val_loader = None, None\n",
    "train_loader, val_loader = create_dataloaders_bw(\n",
    "    train_img_dir, \n",
    "    train_label_dir, \n",
    "    val_img_dir, \n",
    "    val_label_dir, \n",
    "    non_random_transforms = non_random_transforms, \n",
    "    val_non_random_transforms=non_random_transforms,\n",
    "    random_transforms = random_transforms, \n",
    "    val_random_transforms=val_random_transforms,\n",
    "    batch_size = loader_batch,\n",
    "    num_workers=0,\n",
    "    train_num_repeat=num_repeat,\n",
    "    val_num_repeat=num_repeat,\n",
    "    )"
   ]
  },
  {
   "cell_type": "markdown",
   "metadata": {},
   "source": [
    "https://monai.io/model-zoo.html"
   ]
  },
  {
   "cell_type": "code",
   "execution_count": 5,
   "metadata": {},
   "outputs": [],
   "source": [
    "import torch\n",
    "import torch.nn as nn\n",
    "import torch.nn.functional as F\n",
    "from monai.losses import TverskyLoss\n",
    "\n",
    "device = torch.device(\"cuda\" if torch.cuda.is_available() else \"cpu\")\n",
    "\n",
    "# DynamicTverskyLoss 클래스 정의\n",
    "class DynamicTverskyLoss(TverskyLoss):\n",
    "    def __init__(self, lamda=0.5, **kwargs):\n",
    "        super().__init__(alpha=1 - lamda, beta=lamda, **kwargs)\n",
    "        self.lamda = lamda\n",
    "\n",
    "    def set_lamda(self, lamda):\n",
    "        self.lamda = lamda\n",
    "        self.alpha = 1 - lamda\n",
    "        self.beta = lamda\n",
    "\n",
    "\n",
    "# CombinedCETverskyLoss 클래스\n",
    "class CombinedCETverskyLoss(nn.Module):\n",
    "\n",
    "    \n",
    "    def __init__(self, lamda=0.5, ce_weight=0.5, n_classes=7, class_weights=None, ignore_index=-1, **kwargs):\n",
    "        super().__init__()\n",
    "        self.n_classes = n_classes\n",
    "        self.ce_weight = ce_weight\n",
    "        self.ignore_index = ignore_index\n",
    "        \n",
    "        # CrossEntropyLoss에서 클래스별 가중치를 적용\n",
    "        self.ce = nn.CrossEntropyLoss(ignore_index=self.ignore_index, reduction='mean', **kwargs)\n",
    "        \n",
    "        # TverskyLoss\n",
    "        self.tversky = DynamicTverskyLoss(lamda=lamda, reduction=\"mean\",softmax=True, **kwargs)\n",
    "\n",
    "    def forward(self, inputs, targets):\n",
    "        \n",
    "        # CrossEntropyLoss는 정수형 클래스 인덱스를 사용\n",
    "        ce_loss = self.ce(inputs, targets)\n",
    "\n",
    "        # TverskyLoss 계산 (원핫 인코딩된 라벨을 사용)\n",
    "        \n",
    "        tversky_loss = self.tversky(inputs, targets)\n",
    "\n",
    "        # 최종 손실 계산\n",
    "        final_loss = self.ce_weight * ce_loss + (1 - self.ce_weight) * tversky_loss  # mean()으로 배치에 대해 평균\n",
    "        \n",
    "        return final_loss\n",
    "\n",
    "    def set_lamda(self, lamda):\n",
    "        self.tversky.set_lamda(lamda)\n",
    "\n",
    "    @property\n",
    "    def lamda(self):\n",
    "        return self.tversky.lamda\n",
    "\n",
    "criterion = CombinedCETverskyLoss(\n",
    "    lamda=lamda,\n",
    "    ce_weight=ce_weight,\n",
    "    n_classes=n_classes,\n",
    "    class_weights=class_weights,\n",
    ").to(device)"
   ]
  },
  {
   "cell_type": "code",
   "execution_count": 6,
   "metadata": {},
   "outputs": [
    {
     "name": "stdout",
     "output_type": "stream",
     "text": [
      "기존 best model 발견: model_checkpoints\\FLEX_randGaus_511_241_noclswt_gelu_batch_f48_lr1e-03_a0.52_b16_r4_ce0.4_ac1\\best_model_pretrained.pt\n",
      "기존 학습된 가중치를 성공적으로 로드했습니다.\n"
     ]
    },
    {
     "name": "stderr",
     "output_type": "stream",
     "text": [
      "C:\\Users\\pook0\\AppData\\Local\\Temp\\ipykernel_10132\\3563782419.py:66: FutureWarning: You are using `torch.load` with `weights_only=False` (the current default value), which uses the default pickle module implicitly. It is possible to construct malicious pickle data which will execute arbitrary code during unpickling (See https://github.com/pytorch/pytorch/blob/main/SECURITY.md#untrusted-models for more details). In a future release, the default value for `weights_only` will be flipped to `True`. This limits the functions that could be executed during unpickling. Arbitrary objects will no longer be allowed to be loaded via this mode unless they are explicitly allowlisted by the user via `torch.serialization.add_safe_globals`. We recommend you start setting `weights_only=True` for any use case where you don't have full control of the loaded file. Please open an issue on GitHub for any issues related to this experimental feature.\n",
      "  checkpoint = torch.load(best_model_path, map_location=device)\n"
     ]
    }
   ],
   "source": [
    "import torch.optim as optim\n",
    "from tqdm import tqdm\n",
    "import numpy as np\n",
    "import torch\n",
    "from pathlib import Path\n",
    "from monai.networks.nets import UNet\n",
    "from src.models import *\n",
    "\n",
    "\n",
    "device = torch.device(\"cuda\" if torch.cuda.is_available() else \"cpu\")\n",
    "\n",
    "enc_channels = (32, 64, 128, 256)\n",
    "enc_strides = (2, 2, 2)\n",
    "num_layers_enc = (1, 1, 1, 2)\n",
    "\n",
    "core_channels = 64\n",
    "dec_channels = (128, 64, 32)\n",
    "dec_strides = (2, 2, 2)\n",
    "num_layers_dec = (1, 1, 1)\n",
    "\n",
    "skip_map = {\n",
    "    0: [(\"enc\", 2)],       # 디코더0 => 인코더2\n",
    "    1: [(\"enc\", 3), (\"enc\", 1)],  # 디코더1 => 인코더1 + 디코더0\n",
    "    2: [(\"enc\", 3), (\"dec\", 0), (\"enc\", 0)]   # 디코더2 => 인코더0 + 디코더1\n",
    "}\n",
    "\n",
    "model = FlexibleUNet(\n",
    "    spatial_dims=3,\n",
    "    in_channels=1,\n",
    "    out_channels=7,\n",
    "    encoder_channels=enc_channels,\n",
    "    encoder_strides=enc_strides,\n",
    "    core_channels=core_channels,\n",
    "    decoder_channels=dec_channels,\n",
    "    decoder_strides=dec_strides,\n",
    "    num_layers_encoder=num_layers_enc,\n",
    "    num_layers_decoder=num_layers_dec,\n",
    "    skip_connections=skip_map,\n",
    "    kernel_size=3,\n",
    "    up_kernel_size=3,\n",
    "    act=Act.PRELU,\n",
    "    norm=Norm.INSTANCE,\n",
    "    dropout=drop_rate,\n",
    "    bias=True,\n",
    "    mode=\"trilinear\",\n",
    "    align_corners=False,\n",
    ").to(device)\n",
    "\n",
    "pretrain_str = \"yes\" if use_checkpoint else \"no\"\n",
    "weight_str = \"weighted\" if class_weights is not None else \"\"\n",
    "\n",
    "# 체크포인트 디렉토리 및 파일 설정\n",
    "checkpoint_base_dir = Path(\"./model_checkpoints\")\n",
    "folder_name = f\"FLEX_randGaus_511_241_noclswt_gelu_batch_f{feature_size}_lr{lr:.0e}_a{lamda:.2f}_b{batch_size}_r{num_repeat}_ce{ce_weight}_ac{accumulation_steps}\"\n",
    "checkpoint_dir = checkpoint_base_dir / folder_name\n",
    "optimizer = optim.AdamW(model.parameters(), lr=lr, weight_decay=1e-5)\n",
    "scheduler = torch.optim.lr_scheduler.ReduceLROnPlateau(optimizer, patience=5, factor=0.5)\n",
    "# 체크포인트 디렉토리 생성\n",
    "checkpoint_dir.mkdir(parents=True, exist_ok=True)\n",
    "\n",
    "if checkpoint_dir.exists():\n",
    "    best_model_path = checkpoint_dir / 'best_model_pretrained.pt'\n",
    "    if best_model_path.exists():\n",
    "        print(f\"기존 best model 발견: {best_model_path}\")\n",
    "        try:\n",
    "            checkpoint = torch.load(best_model_path, map_location=device)\n",
    "            # 체크포인트 내부 키 검증\n",
    "            required_keys = ['model_state_dict', 'optimizer_state_dict', 'epoch', 'best_val_loss', 'best_val_fbeta_score']\n",
    "            if all(k in checkpoint for k in required_keys):\n",
    "                model.load_state_dict(checkpoint['model_state_dict'])\n",
    "                optimizer.load_state_dict(checkpoint['optimizer_state_dict'])\n",
    "                start_epoch = checkpoint['epoch']\n",
    "                best_val_loss = checkpoint['best_val_loss']\n",
    "                best_val_fbeta_score = checkpoint['best_val_fbeta_score']\n",
    "                print(\"기존 학습된 가중치를 성공적으로 로드했습니다.\")\n",
    "                checkpoint= None\n",
    "            else:\n",
    "                raise ValueError(\"체크포인트 파일에 필요한 key가 없습니다.\")\n",
    "        except Exception as e:\n",
    "            print(f\"체크포인트 파일을 로드하는 중 오류 발생: {e}\")"
   ]
  },
  {
   "cell_type": "code",
   "execution_count": 7,
   "metadata": {},
   "outputs": [
    {
     "name": "stdout",
     "output_type": "stream",
     "text": [
      "torch.Size([16, 1, 32, 96, 96]) torch.Size([16, 1, 32, 96, 96])\n"
     ]
    }
   ],
   "source": [
    "batch = next(iter(val_loader))\n",
    "images, labels = batch[\"image\"], batch[\"label\"]\n",
    "print(images.shape, labels.shape)"
   ]
  },
  {
   "cell_type": "code",
   "execution_count": 8,
   "metadata": {},
   "outputs": [],
   "source": [
    "torch.backends.cudnn.benchmark = True"
   ]
  },
  {
   "cell_type": "code",
   "execution_count": 9,
   "metadata": {},
   "outputs": [
    {
     "name": "stderr",
     "output_type": "stream",
     "text": [
      "\u001b[34m\u001b[1mwandb\u001b[0m: Using wandb-core as the SDK backend.  Please refer to https://wandb.me/wandb-core for more information.\n",
      "\u001b[34m\u001b[1mwandb\u001b[0m: Currently logged in as: \u001b[33mpook0612\u001b[0m (\u001b[33mlimbw\u001b[0m). Use \u001b[1m`wandb login --relogin`\u001b[0m to force relogin\n"
     ]
    },
    {
     "data": {
      "text/html": [
       "Tracking run with wandb version 0.19.1"
      ],
      "text/plain": [
       "<IPython.core.display.HTML object>"
      ]
     },
     "metadata": {},
     "output_type": "display_data"
    },
    {
     "data": {
      "text/html": [
       "Run data is saved locally in <code>d:\\Workspace\\czll\\wandb\\run-20250119_023555-sg2afohm</code>"
      ],
      "text/plain": [
       "<IPython.core.display.HTML object>"
      ]
     },
     "metadata": {},
     "output_type": "display_data"
    },
    {
     "data": {
      "text/html": [
       "Syncing run <strong><a href='https://wandb.ai/limbw/czii_UNet/runs/sg2afohm' target=\"_blank\">FLEX_randGaus_511_241_noclswt_gelu_batch_f48_lr1e-03_a0.52_b16_r4_ce0.4_ac1</a></strong> to <a href='https://wandb.ai/limbw/czii_UNet' target=\"_blank\">Weights & Biases</a> (<a href='https://wandb.me/developer-guide' target=\"_blank\">docs</a>)<br>"
      ],
      "text/plain": [
       "<IPython.core.display.HTML object>"
      ]
     },
     "metadata": {},
     "output_type": "display_data"
    },
    {
     "data": {
      "text/html": [
       " View project at <a href='https://wandb.ai/limbw/czii_UNet' target=\"_blank\">https://wandb.ai/limbw/czii_UNet</a>"
      ],
      "text/plain": [
       "<IPython.core.display.HTML object>"
      ]
     },
     "metadata": {},
     "output_type": "display_data"
    },
    {
     "data": {
      "text/html": [
       " View run at <a href='https://wandb.ai/limbw/czii_UNet/runs/sg2afohm' target=\"_blank\">https://wandb.ai/limbw/czii_UNet/runs/sg2afohm</a>"
      ],
      "text/plain": [
       "<IPython.core.display.HTML object>"
      ]
     },
     "metadata": {},
     "output_type": "display_data"
    }
   ],
   "source": [
    "import wandb\n",
    "from datetime import datetime\n",
    "\n",
    "current_time = datetime.now().strftime('%Y%m%d_%H%M%S')\n",
    "run_name = folder_name\n",
    "\n",
    "# wandb 초기화\n",
    "wandb.init(\n",
    "    project='czii_UNet',  # 프로젝트 이름 설정\n",
    "    name=run_name,         # 실행(run) 이름 설정\n",
    "    config={\n",
    "        'num_epochs': num_epochs,\n",
    "        'learning_rate': lr,\n",
    "        'batch_size': batch_size,\n",
    "        'lambda': lamda,\n",
    "        \"cross_entropy_weight\": ce_weight,\n",
    "        'feature_size': feature_size,\n",
    "        'img_size': img_size,\n",
    "        'sampling_ratio': ratios_list,\n",
    "        'device': device.type,\n",
    "        \"checkpoint_dir\": str(checkpoint_dir),\n",
    "        \"class_weights\": class_weights.tolist() if class_weights is not None else None,\n",
    "        # \"use_checkpoint\": use_checkpoint,\n",
    "        \"drop_rate\": drop_rate,\n",
    "        # \"attn_drop_rate\": attn_drop_rate,\n",
    "        # \"use_v2\": use_v2,\n",
    "        \"accumulation_steps\": accumulation_steps,\n",
    "        \"num_repeat\": num_repeat,\n",
    "        # \"num_bottleneck\": num_bottleneck,\n",
    "        \n",
    "        # 필요한 하이퍼파라미터 추가\n",
    "    }\n",
    ")\n",
    "# 모델을 wandb에 연결\n",
    "wandb.watch(model, log='all')"
   ]
  },
  {
   "cell_type": "markdown",
   "metadata": {},
   "source": [
    "# 학습"
   ]
  },
  {
   "cell_type": "code",
   "execution_count": 10,
   "metadata": {},
   "outputs": [],
   "source": [
    "from monai.metrics import DiceMetric\n",
    "    \n",
    "def processing(batch_data, model, criterion, device):\n",
    "    images = batch_data['image'].to(device)  # Input 이미지 (B, 1, 96, 96, 96)\n",
    "    labels = batch_data['label'].to(device)  # 라벨 (B, 96, 96, 96)\n",
    "\n",
    "    labels = labels.squeeze(1)  # (B, 1, 96, 96, 96) → (B, 96, 96, 96)\n",
    "    labels = labels.long()  # 라벨을 정수형으로 변환\n",
    "\n",
    "    # 원핫 인코딩 (B, H, W, D) → (B, num_classes, H, W, D)\n",
    "    \n",
    "    labels_onehot = torch.nn.functional.one_hot(labels, num_classes=n_classes)\n",
    "    labels_onehot = labels_onehot.permute(0, 4, 1, 2, 3).float()  # (B, num_classes, H, W, D)\n",
    "\n",
    "    # 모델 예측\n",
    "    outputs = model(images)  # outputs: (B, num_classes, H, W, D)\n",
    "\n",
    "    # Loss 계산\n",
    "    loss = criterion(outputs, labels_onehot)\n",
    "    # loss = loss_fn(criterion(outputs, labels_onehot),class_weights=class_weights, device=device)\n",
    "    return loss, outputs, labels, outputs.argmax(dim=1)\n",
    "\n",
    "def train_one_epoch(model, train_loader, criterion, optimizer, device, epoch, accumulation_steps=4):\n",
    "    model.train()\n",
    "    epoch_loss = 0\n",
    "    optimizer.zero_grad()  # 그래디언트 초기화\n",
    "    with tqdm(train_loader, desc='Training') as pbar:\n",
    "        for i, batch_data in enumerate(pbar):\n",
    "            # 손실 계산\n",
    "            loss, _, _, _ = processing(batch_data, model, criterion, device)\n",
    "\n",
    "            # 그래디언트를 계산하고 누적\n",
    "            loss = loss / accumulation_steps  # 그래디언트 누적을 위한 스케일링\n",
    "            loss.backward()  # 그래디언트 계산 및 누적\n",
    "            \n",
    "            # 그래디언트 업데이트 (accumulation_steps마다 한 번)\n",
    "            if (i + 1) % accumulation_steps == 0 or (i + 1) == len(train_loader):\n",
    "                optimizer.step()  # 파라미터 업데이트\n",
    "                optimizer.zero_grad()  # 누적된 그래디언트 초기화\n",
    "            \n",
    "            # 손실값 누적 (스케일링 복구)\n",
    "            epoch_loss += loss.item() * accumulation_steps  # 실제 손실값 반영\n",
    "            pbar.set_postfix(loss=loss.item() * accumulation_steps)  # 실제 손실값 출력\n",
    "    avg_loss = epoch_loss / len(train_loader)\n",
    "    wandb.log({'train_epoch_loss': avg_loss, 'epoch': epoch + 1})\n",
    "    return avg_loss\n",
    "\n",
    "\n",
    "def validate_one_epoch(model, val_loader, criterion, device, epoch, calculate_dice_interval):\n",
    "    model.eval()\n",
    "    val_loss = 0\n",
    "    \n",
    "    class_dice_scores = {i: [] for i in range(n_classes)}\n",
    "    class_f_beta_scores = {i: [] for i in range(n_classes)}\n",
    "    with torch.no_grad():\n",
    "        with tqdm(val_loader, desc='Validation') as pbar:\n",
    "            for batch_data in pbar:\n",
    "                loss, _, labels, preds = processing(batch_data, model, criterion, device)\n",
    "                val_loss += loss.item()\n",
    "                pbar.set_postfix(loss=loss.item())\n",
    "\n",
    "                # 각 클래스별 Dice 점수 계산\n",
    "                if epoch % calculate_dice_interval == 0:\n",
    "                    for i in range(n_classes):\n",
    "                        pred_i = (preds == i)\n",
    "                        label_i = (labels == i)\n",
    "                        dice_score = (2.0 * torch.sum(pred_i & label_i)) / (torch.sum(pred_i) + torch.sum(label_i) + 1e-8)\n",
    "                        class_dice_scores[i].append(dice_score.item())\n",
    "                        precision = (torch.sum(pred_i & label_i) + 1e-8) / (torch.sum(pred_i) + 1e-8)\n",
    "                        recall = (torch.sum(pred_i & label_i) + 1e-8) / (torch.sum(label_i) + 1e-8)\n",
    "                        f_beta_score = (1 + 4**2) * (precision * recall) / (4**2 * precision + recall + 1e-8)\n",
    "                        class_f_beta_scores[i].append(f_beta_score.item())\n",
    "\n",
    "    avg_loss = val_loss / len(val_loader)\n",
    "    # 에포크별 평균 손실 로깅\n",
    "    wandb.log({'val_epoch_loss': avg_loss, 'epoch': epoch + 1})\n",
    "    \n",
    "    # 각 클래스별 평균 Dice 점수 출력\n",
    "    if epoch % calculate_dice_interval == 0:\n",
    "        print(\"Validation Dice Score\")\n",
    "        all_classes_dice_scores = []\n",
    "        for i in range(n_classes):\n",
    "            mean_dice = np.mean(class_dice_scores[i])\n",
    "            wandb.log({f'class_{i}_dice_score': mean_dice, 'epoch': epoch + 1})\n",
    "            print(f\"Class {i}: {mean_dice:.4f}\", end=\", \")\n",
    "            if i not in [0, 2]:  # 평균에 포함할 클래스만 추가\n",
    "                all_classes_dice_scores.append(mean_dice)\n",
    "            \n",
    "        print()\n",
    "    if epoch % calculate_dice_interval == 0:\n",
    "        print(\"Validation F-beta Score\")\n",
    "        all_classes_fbeta_scores = []\n",
    "        for i in range(n_classes):\n",
    "            mean_fbeta = np.mean(class_f_beta_scores[i])\n",
    "            wandb.log({f'class_{i}_f_beta_score': mean_fbeta, 'epoch': epoch + 1})\n",
    "            print(f\"Class {i}: {mean_fbeta:.4f}\", end=\", \")\n",
    "            if i not in [0, 2]:  # 평균에 포함할 클래스만 추가\n",
    "                all_classes_fbeta_scores.append(mean_fbeta)\n",
    "                \n",
    "        print()\n",
    "        overall_mean_dice = np.mean(all_classes_dice_scores)\n",
    "        overall_mean_fbeta = np.mean(all_classes_fbeta_scores)\n",
    "        wandb.log({'overall_mean_f_beta_score': overall_mean_fbeta, 'overall_mean_dice_score': overall_mean_dice, 'epoch': epoch + 1})\n",
    "        print(f\"\\nOverall Mean Dice Score: {overall_mean_dice:.4f}\\nOverall Mean F-beta Score: {overall_mean_fbeta:.4f}\\n\")\n",
    "\n",
    "    if overall_mean_fbeta is None:\n",
    "        overall_mean_fbeta = 0\n",
    "\n",
    "    return val_loss / len(val_loader), overall_mean_fbeta\n",
    "\n",
    "def train_model(\n",
    "    model, train_loader, val_loader, criterion, optimizer, num_epochs, patience, \n",
    "    device, start_epoch, best_val_loss, best_val_fbeta_score, calculate_dice_interval=1,\n",
    "    accumulation_steps=4, pretrained=False\n",
    "):\n",
    "    \"\"\"\n",
    "    모델을 학습하고 검증하는 함수\n",
    "    Args:\n",
    "        model: 학습할 모델\n",
    "        train_loader: 학습 데이터 로더\n",
    "        val_loader: 검증 데이터 로더\n",
    "        criterion: 손실 함수\n",
    "        optimizer: 최적화 알고리즘\n",
    "        num_epochs: 총 학습 epoch 수\n",
    "        patience: early stopping 기준\n",
    "        device: GPU/CPU 장치\n",
    "        start_epoch: 시작 epoch\n",
    "        best_val_loss: 이전 최적 validation loss\n",
    "        best_val_fbeta_score: 이전 최적 validation f-beta score\n",
    "        calculate_dice_interval: Dice 점수 계산 주기\n",
    "    \"\"\"\n",
    "    epochs_no_improve = 0\n",
    "\n",
    "    for epoch in range(start_epoch, num_epochs):\n",
    "        print(f\"Epoch {epoch + 1}/{num_epochs}\")\n",
    "\n",
    "        # Train One Epoch\n",
    "        train_loss = train_one_epoch(\n",
    "            model=model, \n",
    "            train_loader=train_loader, \n",
    "            criterion=criterion, \n",
    "            optimizer=optimizer, \n",
    "            device=device,\n",
    "            epoch=epoch,\n",
    "            accumulation_steps= accumulation_steps\n",
    "        )\n",
    "        \n",
    "        scheduler.step(train_loss)\n",
    "        # Validate One Epoch\n",
    "        val_loss, overall_mean_fbeta_score = validate_one_epoch(\n",
    "            model=model, \n",
    "            val_loader=val_loader, \n",
    "            criterion=criterion, \n",
    "            device=device, \n",
    "            epoch=epoch, \n",
    "            calculate_dice_interval=calculate_dice_interval\n",
    "        )\n",
    "\n",
    "        \n",
    "        print(f\"Training Loss: {train_loss:.4f}, Validation Loss: {val_loss:.4f}, Validation F-beta: {overall_mean_fbeta_score:.4f}\")\n",
    "\n",
    "        if val_loss < best_val_loss and overall_mean_fbeta_score > best_val_fbeta_score:\n",
    "            best_val_loss = val_loss\n",
    "            best_val_fbeta_score = overall_mean_fbeta_score\n",
    "            epochs_no_improve = 0\n",
    "            if pretrained:\n",
    "                checkpoint_path = os.path.join(checkpoint_dir, 'best_model_pretrained.pt')\n",
    "            else:\n",
    "                checkpoint_path = os.path.join(checkpoint_dir, 'best_model.pt')\n",
    "            torch.save({\n",
    "                'epoch': epoch + 1,\n",
    "                'model_state_dict': model.state_dict(),\n",
    "                'optimizer_state_dict': optimizer.state_dict(),\n",
    "                'best_val_loss': best_val_loss,\n",
    "                'best_val_fbeta_score': best_val_fbeta_score\n",
    "            }, checkpoint_path)\n",
    "            print(f\"========================================================\")\n",
    "            print(f\"SUPER Best model saved. Loss:{best_val_loss:.4f}, Score:{best_val_fbeta_score:.4f}\")\n",
    "            print(f\"========================================================\")\n",
    "\n",
    "        # Early stopping 조건 체크\n",
    "        if val_loss >= best_val_loss and overall_mean_fbeta_score <= best_val_fbeta_score:\n",
    "            epochs_no_improve += 1\n",
    "        else:\n",
    "            epochs_no_improve = 0\n",
    "\n",
    "        if epochs_no_improve >= patience:\n",
    "            print(\"Early stopping\")\n",
    "            checkpoint_path = os.path.join(checkpoint_dir, 'last.pt')\n",
    "            torch.save({\n",
    "                'epoch': epoch + 1,\n",
    "                'model_state_dict': model.state_dict(),\n",
    "                'optimizer_state_dict': optimizer.state_dict(),\n",
    "                'best_val_loss': best_val_loss,\n",
    "                'best_val_fbeta_score': best_val_fbeta_score\n",
    "            }, checkpoint_path)\n",
    "            break\n",
    "        # if epochs_no_improve % 6 == 0 & epochs_no_improve != 0:\n",
    "        #     # 손실이 개선되지 않았으므로 lambda 감소\n",
    "        #     new_lamda = max(criterion.lamda - 0.01, 0.35)  # 최소값은 0.1로 설정\n",
    "        #     criterion.set_lamda(new_lamda)\n",
    "        #     print(f\"Validation loss did not improve. Reducing lambda to {new_lamda:.4f}\")\n",
    "\n",
    "    wandb.finish()\n"
   ]
  },
  {
   "cell_type": "code",
   "execution_count": 11,
   "metadata": {},
   "outputs": [
    {
     "name": "stdout",
     "output_type": "stream",
     "text": [
      "Epoch 6/4000\n"
     ]
    },
    {
     "name": "stderr",
     "output_type": "stream",
     "text": [
      "Training: 100%|██████████| 204/204 [03:25<00:00,  1.01s/it, loss=0.455]\n",
      "Validation: 100%|██████████| 4/4 [00:02<00:00,  1.74it/s, loss=0.488]\n"
     ]
    },
    {
     "name": "stdout",
     "output_type": "stream",
     "text": [
      "Validation Dice Score\n",
      "Class 0: 0.9870, Class 1: 0.2206, Class 2: 0.0000, Class 3: 0.2965, Class 4: 0.6636, Class 5: 0.2697, Class 6: 0.8818, \n",
      "Validation F-beta Score\n",
      "Class 0: 0.9870, Class 1: 0.2572, Class 2: 0.0000, Class 3: 0.4791, Class 4: 0.7301, Class 5: 0.2203, Class 6: 0.8906, \n",
      "\n",
      "Overall Mean Dice Score: 0.4665\n",
      "Overall Mean F-beta Score: 0.5155\n",
      "\n",
      "Training Loss: 0.4814, Validation Loss: 0.4771, Validation F-beta: 0.5155\n",
      "========================================================\n",
      "SUPER Best model saved. Loss:0.4771, Score:0.5155\n",
      "========================================================\n",
      "Epoch 7/4000\n"
     ]
    },
    {
     "name": "stderr",
     "output_type": "stream",
     "text": [
      "Training: 100%|██████████| 204/204 [02:50<00:00,  1.19it/s, loss=0.439]\n",
      "Validation: 100%|██████████| 4/4 [00:02<00:00,  1.83it/s, loss=0.468]\n"
     ]
    },
    {
     "name": "stdout",
     "output_type": "stream",
     "text": [
      "Validation Dice Score\n",
      "Class 0: 0.9836, Class 1: 0.4223, Class 2: 0.0000, Class 3: 0.3646, Class 4: 0.6410, Class 5: 0.3024, Class 6: 0.9021, \n",
      "Validation F-beta Score\n",
      "Class 0: 0.9813, Class 1: 0.4090, Class 2: 0.0000, Class 3: 0.4851, Class 4: 0.7076, Class 5: 0.2963, Class 6: 0.9275, \n",
      "\n",
      "Overall Mean Dice Score: 0.5265\n",
      "Overall Mean F-beta Score: 0.5651\n",
      "\n",
      "Training Loss: 0.4731, Validation Loss: 0.4706, Validation F-beta: 0.5651\n",
      "========================================================\n",
      "SUPER Best model saved. Loss:0.4706, Score:0.5651\n",
      "========================================================\n",
      "Epoch 8/4000\n"
     ]
    },
    {
     "name": "stderr",
     "output_type": "stream",
     "text": [
      "Training: 100%|██████████| 204/204 [02:47<00:00,  1.22it/s, loss=0.443]\n",
      "Validation: 100%|██████████| 4/4 [00:02<00:00,  1.86it/s, loss=0.47] \n"
     ]
    },
    {
     "name": "stdout",
     "output_type": "stream",
     "text": [
      "Validation Dice Score\n",
      "Class 0: 0.9853, Class 1: 0.5726, Class 2: 0.0000, Class 3: 0.3224, Class 4: 0.6935, Class 5: 0.3751, Class 6: 0.8898, \n",
      "Validation F-beta Score\n",
      "Class 0: 0.9817, Class 1: 0.6727, Class 2: 0.0000, Class 3: 0.5664, Class 4: 0.7962, Class 5: 0.3635, Class 6: 0.9166, \n",
      "\n",
      "Overall Mean Dice Score: 0.5707\n",
      "Overall Mean F-beta Score: 0.6631\n",
      "\n",
      "Training Loss: 0.4655, Validation Loss: 0.4619, Validation F-beta: 0.6631\n",
      "========================================================\n",
      "SUPER Best model saved. Loss:0.4619, Score:0.6631\n",
      "========================================================\n",
      "Epoch 9/4000\n"
     ]
    },
    {
     "name": "stderr",
     "output_type": "stream",
     "text": [
      "Training: 100%|██████████| 204/204 [02:48<00:00,  1.21it/s, loss=0.455]\n",
      "Validation: 100%|██████████| 4/4 [00:02<00:00,  1.69it/s, loss=0.472]\n"
     ]
    },
    {
     "name": "stdout",
     "output_type": "stream",
     "text": [
      "Validation Dice Score\n",
      "Class 0: 0.9837, Class 1: 0.6264, Class 2: 0.0000, Class 3: 0.2742, Class 4: 0.6963, Class 5: 0.3337, Class 6: 0.8894, \n",
      "Validation F-beta Score\n",
      "Class 0: 0.9791, Class 1: 0.6644, Class 2: 0.0000, Class 3: 0.4710, Class 4: 0.8001, Class 5: 0.3376, Class 6: 0.9337, \n",
      "\n",
      "Overall Mean Dice Score: 0.5640\n",
      "Overall Mean F-beta Score: 0.6414\n",
      "\n",
      "Training Loss: 0.4570, Validation Loss: 0.4634, Validation F-beta: 0.6414\n",
      "Epoch 10/4000\n"
     ]
    },
    {
     "name": "stderr",
     "output_type": "stream",
     "text": [
      "Training: 100%|██████████| 204/204 [02:51<00:00,  1.19it/s, loss=0.432]\n",
      "Validation: 100%|██████████| 4/4 [00:02<00:00,  1.95it/s, loss=0.452]\n"
     ]
    },
    {
     "name": "stdout",
     "output_type": "stream",
     "text": [
      "Validation Dice Score\n",
      "Class 0: 0.9866, Class 1: 0.5410, Class 2: 0.0000, Class 3: 0.3351, Class 4: 0.7243, Class 5: 0.3683, Class 6: 0.9144, \n",
      "Validation F-beta Score\n",
      "Class 0: 0.9841, Class 1: 0.4900, Class 2: 0.0000, Class 3: 0.5407, Class 4: 0.7813, Class 5: 0.3949, Class 6: 0.9095, \n",
      "\n",
      "Overall Mean Dice Score: 0.5766\n",
      "Overall Mean F-beta Score: 0.6233\n",
      "\n",
      "Training Loss: 0.4551, Validation Loss: 0.4592, Validation F-beta: 0.6233\n",
      "Epoch 11/4000\n"
     ]
    },
    {
     "name": "stderr",
     "output_type": "stream",
     "text": [
      "Training: 100%|██████████| 204/204 [02:43<00:00,  1.24it/s, loss=0.435]\n",
      "Validation: 100%|██████████| 4/4 [00:02<00:00,  1.76it/s, loss=0.449]\n"
     ]
    },
    {
     "name": "stdout",
     "output_type": "stream",
     "text": [
      "Validation Dice Score\n",
      "Class 0: 0.9851, Class 1: 0.5387, Class 2: 0.0016, Class 3: 0.4157, Class 4: 0.6347, Class 5: 0.3143, Class 6: 0.9165, \n",
      "Validation F-beta Score\n",
      "Class 0: 0.9815, Class 1: 0.6042, Class 2: 0.0008, Class 3: 0.5988, Class 4: 0.7662, Class 5: 0.3268, Class 6: 0.9428, \n",
      "\n",
      "Overall Mean Dice Score: 0.5640\n",
      "Overall Mean F-beta Score: 0.6478\n",
      "\n",
      "Training Loss: 0.4585, Validation Loss: 0.4570, Validation F-beta: 0.6478\n",
      "Epoch 12/4000\n"
     ]
    },
    {
     "name": "stderr",
     "output_type": "stream",
     "text": [
      "Training: 100%|██████████| 204/204 [02:47<00:00,  1.21it/s, loss=0.454]\n",
      "Validation: 100%|██████████| 4/4 [00:02<00:00,  1.73it/s, loss=0.453]\n"
     ]
    },
    {
     "name": "stdout",
     "output_type": "stream",
     "text": [
      "Validation Dice Score\n",
      "Class 0: 0.9861, Class 1: 0.5631, Class 2: 0.0544, Class 3: 0.2956, Class 4: 0.6881, Class 5: 0.4954, Class 6: 0.8690, \n",
      "Validation F-beta Score\n",
      "Class 0: 0.9820, Class 1: 0.5345, Class 2: 0.0312, Class 3: 0.4789, Class 4: 0.7994, Class 5: 0.5539, Class 6: 0.9131, \n",
      "\n",
      "Overall Mean Dice Score: 0.5823\n",
      "Overall Mean F-beta Score: 0.6559\n",
      "\n",
      "Training Loss: 0.4537, Validation Loss: 0.4487, Validation F-beta: 0.6559\n",
      "Epoch 13/4000\n"
     ]
    },
    {
     "name": "stderr",
     "output_type": "stream",
     "text": [
      "Training: 100%|██████████| 204/204 [02:41<00:00,  1.26it/s, loss=0.434]\n",
      "Validation: 100%|██████████| 4/4 [00:02<00:00,  1.98it/s, loss=0.438]\n"
     ]
    },
    {
     "name": "stdout",
     "output_type": "stream",
     "text": [
      "Validation Dice Score\n",
      "Class 0: 0.9826, Class 1: 0.7194, Class 2: 0.1359, Class 3: 0.2648, Class 4: 0.6315, Class 5: 0.5189, Class 6: 0.8640, \n",
      "Validation F-beta Score\n",
      "Class 0: 0.9743, Class 1: 0.7543, Class 2: 0.0936, Class 3: 0.4854, Class 4: 0.8448, Class 5: 0.6035, Class 6: 0.9344, \n",
      "\n",
      "Overall Mean Dice Score: 0.5997\n",
      "Overall Mean F-beta Score: 0.7245\n",
      "\n",
      "Training Loss: 0.4537, Validation Loss: 0.4436, Validation F-beta: 0.7245\n",
      "========================================================\n",
      "SUPER Best model saved. Loss:0.4436, Score:0.7245\n",
      "========================================================\n",
      "Epoch 14/4000\n"
     ]
    },
    {
     "name": "stderr",
     "output_type": "stream",
     "text": [
      "Training: 100%|██████████| 204/204 [02:49<00:00,  1.21it/s, loss=0.439]\n",
      "Validation: 100%|██████████| 4/4 [00:02<00:00,  1.89it/s, loss=0.461]\n"
     ]
    },
    {
     "name": "stdout",
     "output_type": "stream",
     "text": [
      "Validation Dice Score\n",
      "Class 0: 0.9847, Class 1: 0.6158, Class 2: 0.1238, Class 3: 0.4243, Class 4: 0.7412, Class 5: 0.3775, Class 6: 0.8980, \n",
      "Validation F-beta Score\n",
      "Class 0: 0.9804, Class 1: 0.6352, Class 2: 0.0960, Class 3: 0.5336, Class 4: 0.7923, Class 5: 0.4832, Class 6: 0.9176, \n",
      "\n",
      "Overall Mean Dice Score: 0.6114\n",
      "Overall Mean F-beta Score: 0.6724\n",
      "\n",
      "Training Loss: 0.4508, Validation Loss: 0.4490, Validation F-beta: 0.6724\n",
      "Epoch 15/4000\n"
     ]
    },
    {
     "name": "stderr",
     "output_type": "stream",
     "text": [
      "Training: 100%|██████████| 204/204 [02:50<00:00,  1.20it/s, loss=0.404]\n",
      "Validation: 100%|██████████| 4/4 [00:02<00:00,  1.88it/s, loss=0.414]\n"
     ]
    },
    {
     "name": "stdout",
     "output_type": "stream",
     "text": [
      "Validation Dice Score\n",
      "Class 0: 0.9834, Class 1: 0.5433, Class 2: 0.1743, Class 3: 0.3389, Class 4: 0.7381, Class 5: 0.4071, Class 6: 0.8914, \n",
      "Validation F-beta Score\n",
      "Class 0: 0.9779, Class 1: 0.5623, Class 2: 0.1681, Class 3: 0.5125, Class 4: 0.8123, Class 5: 0.4949, Class 6: 0.8983, \n",
      "\n",
      "Overall Mean Dice Score: 0.5838\n",
      "Overall Mean F-beta Score: 0.6561\n",
      "\n",
      "Training Loss: 0.4497, Validation Loss: 0.4490, Validation F-beta: 0.6561\n",
      "Epoch 16/4000\n"
     ]
    },
    {
     "name": "stderr",
     "output_type": "stream",
     "text": [
      "Training: 100%|██████████| 204/204 [02:46<00:00,  1.23it/s, loss=0.428]\n",
      "Validation: 100%|██████████| 4/4 [00:02<00:00,  1.79it/s, loss=0.447]\n"
     ]
    },
    {
     "name": "stdout",
     "output_type": "stream",
     "text": [
      "Validation Dice Score\n",
      "Class 0: 0.9849, Class 1: 0.5921, Class 2: 0.0956, Class 3: 0.2327, Class 4: 0.6359, Class 5: 0.4306, Class 6: 0.9327, \n",
      "Validation F-beta Score\n",
      "Class 0: 0.9784, Class 1: 0.6037, Class 2: 0.1512, Class 3: 0.4176, Class 4: 0.8181, Class 5: 0.4861, Class 6: 0.9546, \n",
      "\n",
      "Overall Mean Dice Score: 0.5648\n",
      "Overall Mean F-beta Score: 0.6560\n",
      "\n",
      "Training Loss: 0.4465, Validation Loss: 0.4528, Validation F-beta: 0.6560\n",
      "Epoch 17/4000\n"
     ]
    },
    {
     "name": "stderr",
     "output_type": "stream",
     "text": [
      "Training: 100%|██████████| 204/204 [02:45<00:00,  1.23it/s, loss=0.434]\n",
      "Validation: 100%|██████████| 4/4 [00:02<00:00,  1.66it/s, loss=0.465]\n"
     ]
    },
    {
     "name": "stdout",
     "output_type": "stream",
     "text": [
      "Validation Dice Score\n",
      "Class 0: 0.9848, Class 1: 0.7024, Class 2: 0.1977, Class 3: 0.4000, Class 4: 0.6326, Class 5: 0.4477, Class 6: 0.9033, \n",
      "Validation F-beta Score\n",
      "Class 0: 0.9776, Class 1: 0.7137, Class 2: 0.2149, Class 3: 0.6816, Class 4: 0.8216, Class 5: 0.5108, Class 6: 0.9540, \n",
      "\n",
      "Overall Mean Dice Score: 0.6172\n",
      "Overall Mean F-beta Score: 0.7363\n",
      "\n",
      "Training Loss: 0.4448, Validation Loss: 0.4483, Validation F-beta: 0.7363\n",
      "Epoch 18/4000\n"
     ]
    },
    {
     "name": "stderr",
     "output_type": "stream",
     "text": [
      "Training: 100%|██████████| 204/204 [02:52<00:00,  1.18it/s, loss=0.424]\n",
      "Validation: 100%|██████████| 4/4 [00:02<00:00,  1.79it/s, loss=0.459]\n"
     ]
    },
    {
     "name": "stdout",
     "output_type": "stream",
     "text": [
      "Validation Dice Score\n",
      "Class 0: 0.9844, Class 1: 0.5100, Class 2: 0.1164, Class 3: 0.3745, Class 4: 0.6385, Class 5: 0.3939, Class 6: 0.8888, \n",
      "Validation F-beta Score\n",
      "Class 0: 0.9776, Class 1: 0.6464, Class 2: 0.2295, Class 3: 0.5422, Class 4: 0.7840, Class 5: 0.4969, Class 6: 0.9472, \n",
      "\n",
      "Overall Mean Dice Score: 0.5611\n",
      "Overall Mean F-beta Score: 0.6833\n",
      "\n",
      "Training Loss: 0.4447, Validation Loss: 0.4434, Validation F-beta: 0.6833\n",
      "Epoch 19/4000\n"
     ]
    },
    {
     "name": "stderr",
     "output_type": "stream",
     "text": [
      "Training: 100%|██████████| 204/204 [02:44<00:00,  1.24it/s, loss=0.402]\n",
      "Validation: 100%|██████████| 4/4 [00:02<00:00,  1.82it/s, loss=0.442]\n"
     ]
    },
    {
     "name": "stdout",
     "output_type": "stream",
     "text": [
      "Validation Dice Score\n",
      "Class 0: 0.9824, Class 1: 0.7134, Class 2: 0.1129, Class 3: 0.4021, Class 4: 0.6982, Class 5: 0.4198, Class 6: 0.9046, \n",
      "Validation F-beta Score\n",
      "Class 0: 0.9762, Class 1: 0.8210, Class 2: 0.1435, Class 3: 0.5783, Class 4: 0.8064, Class 5: 0.5083, Class 6: 0.9672, \n",
      "\n",
      "Overall Mean Dice Score: 0.6276\n",
      "Overall Mean F-beta Score: 0.7362\n",
      "\n",
      "Training Loss: 0.4433, Validation Loss: 0.4441, Validation F-beta: 0.7362\n",
      "Epoch 20/4000\n"
     ]
    },
    {
     "name": "stderr",
     "output_type": "stream",
     "text": [
      "Training: 100%|██████████| 204/204 [02:43<00:00,  1.25it/s, loss=0.435]\n",
      "Validation: 100%|██████████| 4/4 [00:02<00:00,  1.93it/s, loss=0.44] \n"
     ]
    },
    {
     "name": "stdout",
     "output_type": "stream",
     "text": [
      "Validation Dice Score\n",
      "Class 0: 0.9837, Class 1: 0.7358, Class 2: 0.1383, Class 3: 0.2802, Class 4: 0.7112, Class 5: 0.4232, Class 6: 0.9173, \n",
      "Validation F-beta Score\n",
      "Class 0: 0.9769, Class 1: 0.8046, Class 2: 0.1601, Class 3: 0.5189, Class 4: 0.7898, Class 5: 0.5428, Class 6: 0.9364, \n",
      "\n",
      "Overall Mean Dice Score: 0.6135\n",
      "Overall Mean F-beta Score: 0.7185\n",
      "\n",
      "Training Loss: 0.4405, Validation Loss: 0.4456, Validation F-beta: 0.7185\n",
      "Epoch 21/4000\n"
     ]
    },
    {
     "name": "stderr",
     "output_type": "stream",
     "text": [
      "Training: 100%|██████████| 204/204 [02:36<00:00,  1.30it/s, loss=0.418]\n",
      "Validation: 100%|██████████| 4/4 [00:02<00:00,  1.92it/s, loss=0.453]\n"
     ]
    },
    {
     "name": "stdout",
     "output_type": "stream",
     "text": [
      "Validation Dice Score\n",
      "Class 0: 0.9851, Class 1: 0.6876, Class 2: 0.1016, Class 3: 0.1728, Class 4: 0.7368, Class 5: 0.4125, Class 6: 0.9173, \n",
      "Validation F-beta Score\n",
      "Class 0: 0.9809, Class 1: 0.7202, Class 2: 0.1936, Class 3: 0.2762, Class 4: 0.8374, Class 5: 0.4086, Class 6: 0.9304, \n",
      "\n",
      "Overall Mean Dice Score: 0.5854\n",
      "Overall Mean F-beta Score: 0.6345\n",
      "\n",
      "Training Loss: 0.4412, Validation Loss: 0.4519, Validation F-beta: 0.6345\n",
      "Epoch 22/4000\n"
     ]
    },
    {
     "name": "stderr",
     "output_type": "stream",
     "text": [
      "Training: 100%|██████████| 204/204 [02:39<00:00,  1.28it/s, loss=0.389]\n",
      "Validation: 100%|██████████| 4/4 [00:02<00:00,  1.91it/s, loss=0.44] \n"
     ]
    },
    {
     "name": "stdout",
     "output_type": "stream",
     "text": [
      "Validation Dice Score\n",
      "Class 0: 0.9868, Class 1: 0.7144, Class 2: 0.1980, Class 3: 0.3779, Class 4: 0.7329, Class 5: 0.4327, Class 6: 0.9081, \n",
      "Validation F-beta Score\n",
      "Class 0: 0.9825, Class 1: 0.7681, Class 2: 0.2107, Class 3: 0.5635, Class 4: 0.8058, Class 5: 0.5059, Class 6: 0.9397, \n",
      "\n",
      "Overall Mean Dice Score: 0.6332\n",
      "Overall Mean F-beta Score: 0.7166\n",
      "\n",
      "Training Loss: 0.4405, Validation Loss: 0.4354, Validation F-beta: 0.7166\n",
      "Epoch 23/4000\n"
     ]
    },
    {
     "name": "stderr",
     "output_type": "stream",
     "text": [
      "Training: 100%|██████████| 204/204 [02:46<00:00,  1.23it/s, loss=0.4]  \n",
      "Validation: 100%|██████████| 4/4 [00:02<00:00,  1.76it/s, loss=0.413]\n"
     ]
    },
    {
     "name": "stdout",
     "output_type": "stream",
     "text": [
      "Validation Dice Score\n",
      "Class 0: 0.9858, Class 1: 0.6909, Class 2: 0.2527, Class 3: 0.3382, Class 4: 0.7124, Class 5: 0.4674, Class 6: 0.9110, \n",
      "Validation F-beta Score\n",
      "Class 0: 0.9786, Class 1: 0.8470, Class 2: 0.3824, Class 3: 0.5356, Class 4: 0.8547, Class 5: 0.5925, Class 6: 0.9392, \n",
      "\n",
      "Overall Mean Dice Score: 0.6240\n",
      "Overall Mean F-beta Score: 0.7538\n",
      "\n",
      "Training Loss: 0.4400, Validation Loss: 0.4285, Validation F-beta: 0.7538\n",
      "========================================================\n",
      "SUPER Best model saved. Loss:0.4285, Score:0.7538\n",
      "========================================================\n",
      "Epoch 24/4000\n"
     ]
    },
    {
     "name": "stderr",
     "output_type": "stream",
     "text": [
      "Training: 100%|██████████| 204/204 [02:44<00:00,  1.24it/s, loss=0.422]\n",
      "Validation: 100%|██████████| 4/4 [00:02<00:00,  1.98it/s, loss=0.447]\n"
     ]
    },
    {
     "name": "stdout",
     "output_type": "stream",
     "text": [
      "Validation Dice Score\n",
      "Class 0: 0.9826, Class 1: 0.7766, Class 2: 0.1732, Class 3: 0.3988, Class 4: 0.7149, Class 5: 0.4080, Class 6: 0.8154, \n",
      "Validation F-beta Score\n",
      "Class 0: 0.9748, Class 1: 0.8506, Class 2: 0.1967, Class 3: 0.5741, Class 4: 0.8673, Class 5: 0.4586, Class 6: 0.9272, \n",
      "\n",
      "Overall Mean Dice Score: 0.6228\n",
      "Overall Mean F-beta Score: 0.7356\n",
      "\n",
      "Training Loss: 0.4389, Validation Loss: 0.4406, Validation F-beta: 0.7356\n",
      "Epoch 25/4000\n"
     ]
    },
    {
     "name": "stderr",
     "output_type": "stream",
     "text": [
      "Training: 100%|██████████| 204/204 [02:39<00:00,  1.28it/s, loss=0.423]\n",
      "Validation: 100%|██████████| 4/4 [00:02<00:00,  1.92it/s, loss=0.446]\n"
     ]
    },
    {
     "name": "stdout",
     "output_type": "stream",
     "text": [
      "Validation Dice Score\n",
      "Class 0: 0.9854, Class 1: 0.7564, Class 2: 0.2226, Class 3: 0.3626, Class 4: 0.7503, Class 5: 0.4361, Class 6: 0.9193, \n",
      "Validation F-beta Score\n",
      "Class 0: 0.9809, Class 1: 0.8275, Class 2: 0.3551, Class 3: 0.5185, Class 4: 0.8141, Class 5: 0.4963, Class 6: 0.9203, \n",
      "\n",
      "Overall Mean Dice Score: 0.6449\n",
      "Overall Mean F-beta Score: 0.7153\n",
      "\n",
      "Training Loss: 0.4376, Validation Loss: 0.4396, Validation F-beta: 0.7153\n",
      "Epoch 26/4000\n"
     ]
    },
    {
     "name": "stderr",
     "output_type": "stream",
     "text": [
      "Training: 100%|██████████| 204/204 [02:44<00:00,  1.24it/s, loss=0.42] \n",
      "Validation: 100%|██████████| 4/4 [00:02<00:00,  1.88it/s, loss=0.442]\n"
     ]
    },
    {
     "name": "stdout",
     "output_type": "stream",
     "text": [
      "Validation Dice Score\n",
      "Class 0: 0.9844, Class 1: 0.6746, Class 2: 0.0835, Class 3: 0.4020, Class 4: 0.7496, Class 5: 0.5385, Class 6: 0.8932, \n",
      "Validation F-beta Score\n",
      "Class 0: 0.9787, Class 1: 0.8557, Class 2: 0.1111, Class 3: 0.6437, Class 4: 0.8457, Class 5: 0.5470, Class 6: 0.9368, \n",
      "\n",
      "Overall Mean Dice Score: 0.6516\n",
      "Overall Mean F-beta Score: 0.7658\n",
      "\n",
      "Training Loss: 0.4381, Validation Loss: 0.4302, Validation F-beta: 0.7658\n",
      "Epoch 27/4000\n"
     ]
    },
    {
     "name": "stderr",
     "output_type": "stream",
     "text": [
      "Training: 100%|██████████| 204/204 [02:39<00:00,  1.28it/s, loss=0.402]\n",
      "Validation: 100%|██████████| 4/4 [00:02<00:00,  1.96it/s, loss=0.445]\n"
     ]
    },
    {
     "name": "stdout",
     "output_type": "stream",
     "text": [
      "Validation Dice Score\n",
      "Class 0: 0.9857, Class 1: 0.7219, Class 2: 0.2729, Class 3: 0.4127, Class 4: 0.6491, Class 5: 0.2990, Class 6: 0.8929, \n",
      "Validation F-beta Score\n",
      "Class 0: 0.9797, Class 1: 0.8418, Class 2: 0.3112, Class 3: 0.6321, Class 4: 0.8076, Class 5: 0.3849, Class 6: 0.9525, \n",
      "\n",
      "Overall Mean Dice Score: 0.5951\n",
      "Overall Mean F-beta Score: 0.7238\n",
      "\n",
      "Training Loss: 0.4355, Validation Loss: 0.4347, Validation F-beta: 0.7238\n",
      "Epoch 28/4000\n"
     ]
    },
    {
     "name": "stderr",
     "output_type": "stream",
     "text": [
      "Training: 100%|██████████| 204/204 [02:48<00:00,  1.21it/s, loss=0.412]\n",
      "Validation: 100%|██████████| 4/4 [00:02<00:00,  1.79it/s, loss=0.428]\n"
     ]
    },
    {
     "name": "stdout",
     "output_type": "stream",
     "text": [
      "Validation Dice Score\n",
      "Class 0: 0.9878, Class 1: 0.7014, Class 2: 0.2001, Class 3: 0.4280, Class 4: 0.7453, Class 5: 0.4989, Class 6: 0.9191, \n",
      "Validation F-beta Score\n",
      "Class 0: 0.9831, Class 1: 0.8282, Class 2: 0.3117, Class 3: 0.6222, Class 4: 0.8117, Class 5: 0.5857, Class 6: 0.9447, \n",
      "\n",
      "Overall Mean Dice Score: 0.6585\n",
      "Overall Mean F-beta Score: 0.7585\n",
      "\n",
      "Training Loss: 0.4366, Validation Loss: 0.4217, Validation F-beta: 0.7585\n",
      "========================================================\n",
      "SUPER Best model saved. Loss:0.4217, Score:0.7585\n",
      "========================================================\n",
      "Epoch 29/4000\n"
     ]
    },
    {
     "name": "stderr",
     "output_type": "stream",
     "text": [
      "Training: 100%|██████████| 204/204 [02:48<00:00,  1.21it/s, loss=0.434]\n",
      "Validation: 100%|██████████| 4/4 [00:02<00:00,  1.86it/s, loss=0.423]\n"
     ]
    },
    {
     "name": "stdout",
     "output_type": "stream",
     "text": [
      "Validation Dice Score\n",
      "Class 0: 0.9840, Class 1: 0.6989, Class 2: 0.1152, Class 3: 0.4241, Class 4: 0.7254, Class 5: 0.5433, Class 6: 0.8446, \n",
      "Validation F-beta Score\n",
      "Class 0: 0.9775, Class 1: 0.8263, Class 2: 0.1400, Class 3: 0.6245, Class 4: 0.8187, Class 5: 0.6162, Class 6: 0.9169, \n",
      "\n",
      "Overall Mean Dice Score: 0.6473\n",
      "Overall Mean F-beta Score: 0.7605\n",
      "\n",
      "Training Loss: 0.4353, Validation Loss: 0.4351, Validation F-beta: 0.7605\n",
      "Epoch 30/4000\n"
     ]
    },
    {
     "name": "stderr",
     "output_type": "stream",
     "text": [
      "Training: 100%|██████████| 204/204 [02:37<00:00,  1.30it/s, loss=0.424]\n",
      "Validation: 100%|██████████| 4/4 [00:02<00:00,  1.98it/s, loss=0.446]\n"
     ]
    },
    {
     "name": "stdout",
     "output_type": "stream",
     "text": [
      "Validation Dice Score\n",
      "Class 0: 0.9820, Class 1: 0.6755, Class 2: 0.1189, Class 3: 0.4107, Class 4: 0.6863, Class 5: 0.4716, Class 6: 0.8873, \n",
      "Validation F-beta Score\n",
      "Class 0: 0.9728, Class 1: 0.8037, Class 2: 0.2509, Class 3: 0.5542, Class 4: 0.7981, Class 5: 0.6554, Class 6: 0.9324, \n",
      "\n",
      "Overall Mean Dice Score: 0.6263\n",
      "Overall Mean F-beta Score: 0.7488\n",
      "\n",
      "Training Loss: 0.4348, Validation Loss: 0.4398, Validation F-beta: 0.7488\n",
      "Epoch 31/4000\n"
     ]
    },
    {
     "name": "stderr",
     "output_type": "stream",
     "text": [
      "Training: 100%|██████████| 204/204 [02:44<00:00,  1.24it/s, loss=0.401]\n",
      "Validation: 100%|██████████| 4/4 [00:02<00:00,  1.88it/s, loss=0.436]\n"
     ]
    },
    {
     "name": "stdout",
     "output_type": "stream",
     "text": [
      "Validation Dice Score\n",
      "Class 0: 0.9860, Class 1: 0.6253, Class 2: 0.1783, Class 3: 0.3534, Class 4: 0.7335, Class 5: 0.4108, Class 6: 0.9107, \n",
      "Validation F-beta Score\n",
      "Class 0: 0.9814, Class 1: 0.6968, Class 2: 0.2305, Class 3: 0.5642, Class 4: 0.8076, Class 5: 0.4601, Class 6: 0.9374, \n",
      "\n",
      "Overall Mean Dice Score: 0.6067\n",
      "Overall Mean F-beta Score: 0.6932\n",
      "\n",
      "Training Loss: 0.4361, Validation Loss: 0.4464, Validation F-beta: 0.6932\n",
      "Epoch 32/4000\n"
     ]
    },
    {
     "name": "stderr",
     "output_type": "stream",
     "text": [
      "Training: 100%|██████████| 204/204 [02:53<00:00,  1.17it/s, loss=0.419]\n",
      "Validation: 100%|██████████| 4/4 [00:02<00:00,  1.73it/s, loss=0.43]\n"
     ]
    },
    {
     "name": "stdout",
     "output_type": "stream",
     "text": [
      "Validation Dice Score\n",
      "Class 0: 0.9831, Class 1: 0.6819, Class 2: 0.1444, Class 3: 0.4571, Class 4: 0.7146, Class 5: 0.4469, Class 6: 0.8863, \n",
      "Validation F-beta Score\n",
      "Class 0: 0.9749, Class 1: 0.7978, Class 2: 0.1933, Class 3: 0.6206, Class 4: 0.8535, Class 5: 0.5935, Class 6: 0.9321, \n",
      "\n",
      "Overall Mean Dice Score: 0.6373\n",
      "Overall Mean F-beta Score: 0.7595\n",
      "\n",
      "Training Loss: 0.4356, Validation Loss: 0.4401, Validation F-beta: 0.7595\n",
      "Epoch 33/4000\n"
     ]
    },
    {
     "name": "stderr",
     "output_type": "stream",
     "text": [
      "Training: 100%|██████████| 204/204 [02:54<00:00,  1.17it/s, loss=0.392]\n",
      "Validation: 100%|██████████| 4/4 [00:02<00:00,  1.85it/s, loss=0.457]\n"
     ]
    },
    {
     "name": "stdout",
     "output_type": "stream",
     "text": [
      "Validation Dice Score\n",
      "Class 0: 0.9832, Class 1: 0.7513, Class 2: 0.1217, Class 3: 0.3735, Class 4: 0.6371, Class 5: 0.4122, Class 6: 0.9195, \n",
      "Validation F-beta Score\n",
      "Class 0: 0.9738, Class 1: 0.8441, Class 2: 0.2255, Class 3: 0.5637, Class 4: 0.8634, Class 5: 0.5295, Class 6: 0.9419, \n",
      "\n",
      "Overall Mean Dice Score: 0.6187\n",
      "Overall Mean F-beta Score: 0.7485\n",
      "\n",
      "Training Loss: 0.4342, Validation Loss: 0.4387, Validation F-beta: 0.7485\n",
      "Epoch 34/4000\n"
     ]
    },
    {
     "name": "stderr",
     "output_type": "stream",
     "text": [
      "Training: 100%|██████████| 204/204 [02:55<00:00,  1.16it/s, loss=0.401]\n",
      "Validation: 100%|██████████| 4/4 [00:02<00:00,  1.80it/s, loss=0.443]\n"
     ]
    },
    {
     "name": "stdout",
     "output_type": "stream",
     "text": [
      "Validation Dice Score\n",
      "Class 0: 0.9849, Class 1: 0.7643, Class 2: 0.1234, Class 3: 0.4005, Class 4: 0.6011, Class 5: 0.4268, Class 6: 0.9066, \n",
      "Validation F-beta Score\n",
      "Class 0: 0.9768, Class 1: 0.8614, Class 2: 0.1752, Class 3: 0.6121, Class 4: 0.7615, Class 5: 0.5525, Class 6: 0.9542, \n",
      "\n",
      "Overall Mean Dice Score: 0.6199\n",
      "Overall Mean F-beta Score: 0.7484\n",
      "\n",
      "Training Loss: 0.4342, Validation Loss: 0.4319, Validation F-beta: 0.7484\n",
      "Epoch 35/4000\n"
     ]
    },
    {
     "name": "stderr",
     "output_type": "stream",
     "text": [
      "Training: 100%|██████████| 204/204 [02:53<00:00,  1.18it/s, loss=0.426]\n",
      "Validation: 100%|██████████| 4/4 [00:02<00:00,  1.86it/s, loss=0.44] \n"
     ]
    },
    {
     "name": "stdout",
     "output_type": "stream",
     "text": [
      "Validation Dice Score\n",
      "Class 0: 0.9860, Class 1: 0.7152, Class 2: 0.1780, Class 3: 0.3832, Class 4: 0.6781, Class 5: 0.5000, Class 6: 0.9131, \n",
      "Validation F-beta Score\n",
      "Class 0: 0.9806, Class 1: 0.8654, Class 2: 0.2290, Class 3: 0.6197, Class 4: 0.7737, Class 5: 0.5922, Class 6: 0.9361, \n",
      "\n",
      "Overall Mean Dice Score: 0.6379\n",
      "Overall Mean F-beta Score: 0.7574\n",
      "\n",
      "Training Loss: 0.4326, Validation Loss: 0.4318, Validation F-beta: 0.7574\n",
      "Epoch 36/4000\n"
     ]
    },
    {
     "name": "stderr",
     "output_type": "stream",
     "text": [
      "Training: 100%|██████████| 204/204 [02:45<00:00,  1.23it/s, loss=0.428]\n",
      "Validation: 100%|██████████| 4/4 [00:02<00:00,  1.88it/s, loss=0.414]\n"
     ]
    },
    {
     "name": "stdout",
     "output_type": "stream",
     "text": [
      "Validation Dice Score\n",
      "Class 0: 0.9849, Class 1: 0.7629, Class 2: 0.0731, Class 3: 0.4008, Class 4: 0.6886, Class 5: 0.4347, Class 6: 0.8680, \n",
      "Validation F-beta Score\n",
      "Class 0: 0.9775, Class 1: 0.8078, Class 2: 0.1075, Class 3: 0.5808, Class 4: 0.8341, Class 5: 0.5605, Class 6: 0.9147, \n",
      "\n",
      "Overall Mean Dice Score: 0.6310\n",
      "Overall Mean F-beta Score: 0.7396\n",
      "\n",
      "Training Loss: 0.4333, Validation Loss: 0.4327, Validation F-beta: 0.7396\n",
      "Epoch 37/4000\n"
     ]
    },
    {
     "name": "stderr",
     "output_type": "stream",
     "text": [
      "Training: 100%|██████████| 204/204 [02:48<00:00,  1.21it/s, loss=0.394]\n",
      "Validation: 100%|██████████| 4/4 [00:02<00:00,  1.86it/s, loss=0.407]\n"
     ]
    },
    {
     "name": "stdout",
     "output_type": "stream",
     "text": [
      "Validation Dice Score\n",
      "Class 0: 0.9842, Class 1: 0.7015, Class 2: 0.1541, Class 3: 0.4032, Class 4: 0.7517, Class 5: 0.4923, Class 6: 0.8704, \n",
      "Validation F-beta Score\n",
      "Class 0: 0.9779, Class 1: 0.8258, Class 2: 0.2441, Class 3: 0.6188, Class 4: 0.8327, Class 5: 0.5678, Class 6: 0.9008, \n",
      "\n",
      "Overall Mean Dice Score: 0.6439\n",
      "Overall Mean F-beta Score: 0.7492\n",
      "\n",
      "Training Loss: 0.4323, Validation Loss: 0.4344, Validation F-beta: 0.7492\n",
      "Epoch 38/4000\n"
     ]
    },
    {
     "name": "stderr",
     "output_type": "stream",
     "text": [
      "Training: 100%|██████████| 204/204 [02:45<00:00,  1.23it/s, loss=0.406]\n",
      "Validation: 100%|██████████| 4/4 [00:02<00:00,  1.94it/s, loss=0.442]\n"
     ]
    },
    {
     "name": "stdout",
     "output_type": "stream",
     "text": [
      "Validation Dice Score\n",
      "Class 0: 0.9851, Class 1: 0.7340, Class 2: 0.2115, Class 3: 0.4293, Class 4: 0.7415, Class 5: 0.4548, Class 6: 0.8607, \n",
      "Validation F-beta Score\n",
      "Class 0: 0.9804, Class 1: 0.8197, Class 2: 0.2852, Class 3: 0.6786, Class 4: 0.8048, Class 5: 0.5179, Class 6: 0.9172, \n",
      "\n",
      "Overall Mean Dice Score: 0.6441\n",
      "Overall Mean F-beta Score: 0.7477\n",
      "\n",
      "Training Loss: 0.4323, Validation Loss: 0.4306, Validation F-beta: 0.7477\n",
      "Epoch 39/4000\n"
     ]
    },
    {
     "name": "stderr",
     "output_type": "stream",
     "text": [
      "Training: 100%|██████████| 204/204 [02:40<00:00,  1.27it/s, loss=0.403]\n",
      "Validation: 100%|██████████| 4/4 [00:02<00:00,  1.89it/s, loss=0.409]\n"
     ]
    },
    {
     "name": "stdout",
     "output_type": "stream",
     "text": [
      "Validation Dice Score\n",
      "Class 0: 0.9852, Class 1: 0.6701, Class 2: 0.0355, Class 3: 0.4363, Class 4: 0.7189, Class 5: 0.5595, Class 6: 0.9032, \n",
      "Validation F-beta Score\n",
      "Class 0: 0.9799, Class 1: 0.8331, Class 2: 0.0676, Class 3: 0.6105, Class 4: 0.7982, Class 5: 0.6429, Class 6: 0.9330, \n",
      "\n",
      "Overall Mean Dice Score: 0.6576\n",
      "Overall Mean F-beta Score: 0.7635\n",
      "\n",
      "Training Loss: 0.4337, Validation Loss: 0.4286, Validation F-beta: 0.7635\n",
      "Epoch 40/4000\n"
     ]
    },
    {
     "name": "stderr",
     "output_type": "stream",
     "text": [
      "Training: 100%|██████████| 204/204 [02:48<00:00,  1.21it/s, loss=0.412]\n",
      "Validation: 100%|██████████| 4/4 [00:02<00:00,  1.75it/s, loss=0.438]\n"
     ]
    },
    {
     "name": "stdout",
     "output_type": "stream",
     "text": [
      "Validation Dice Score\n",
      "Class 0: 0.9846, Class 1: 0.7623, Class 2: 0.1073, Class 3: 0.4394, Class 4: 0.6867, Class 5: 0.4872, Class 6: 0.9108, \n",
      "Validation F-beta Score\n",
      "Class 0: 0.9772, Class 1: 0.8411, Class 2: 0.1795, Class 3: 0.5952, Class 4: 0.8455, Class 5: 0.6120, Class 6: 0.9550, \n",
      "\n",
      "Overall Mean Dice Score: 0.6573\n",
      "Overall Mean F-beta Score: 0.7698\n",
      "\n",
      "Training Loss: 0.4320, Validation Loss: 0.4247, Validation F-beta: 0.7698\n",
      "Epoch 41/4000\n"
     ]
    },
    {
     "name": "stderr",
     "output_type": "stream",
     "text": [
      "Training: 100%|██████████| 204/204 [02:42<00:00,  1.25it/s, loss=0.418]\n",
      "Validation: 100%|██████████| 4/4 [00:02<00:00,  1.91it/s, loss=0.464]\n"
     ]
    },
    {
     "name": "stdout",
     "output_type": "stream",
     "text": [
      "Validation Dice Score\n",
      "Class 0: 0.9845, Class 1: 0.7092, Class 2: 0.1255, Class 3: 0.3555, Class 4: 0.7541, Class 5: 0.4143, Class 6: 0.8800, \n",
      "Validation F-beta Score\n",
      "Class 0: 0.9802, Class 1: 0.8503, Class 2: 0.2555, Class 3: 0.5840, Class 4: 0.8158, Class 5: 0.4250, Class 6: 0.9430, \n",
      "\n",
      "Overall Mean Dice Score: 0.6226\n",
      "Overall Mean F-beta Score: 0.7236\n",
      "\n",
      "Training Loss: 0.4311, Validation Loss: 0.4411, Validation F-beta: 0.7236\n",
      "Epoch 42/4000\n"
     ]
    },
    {
     "name": "stderr",
     "output_type": "stream",
     "text": [
      "Training: 100%|██████████| 204/204 [02:47<00:00,  1.22it/s, loss=0.405]\n",
      "Validation: 100%|██████████| 4/4 [00:02<00:00,  1.84it/s, loss=0.431]\n"
     ]
    },
    {
     "name": "stdout",
     "output_type": "stream",
     "text": [
      "Validation Dice Score\n",
      "Class 0: 0.9854, Class 1: 0.7293, Class 2: 0.1273, Class 3: 0.3398, Class 4: 0.7044, Class 5: 0.4268, Class 6: 0.9319, \n",
      "Validation F-beta Score\n",
      "Class 0: 0.9794, Class 1: 0.8562, Class 2: 0.1963, Class 3: 0.5247, Class 4: 0.8171, Class 5: 0.5198, Class 6: 0.9227, \n",
      "\n",
      "Overall Mean Dice Score: 0.6264\n",
      "Overall Mean F-beta Score: 0.7281\n",
      "\n",
      "Training Loss: 0.4322, Validation Loss: 0.4249, Validation F-beta: 0.7281\n",
      "Epoch 43/4000\n"
     ]
    },
    {
     "name": "stderr",
     "output_type": "stream",
     "text": [
      "Training: 100%|██████████| 204/204 [02:52<00:00,  1.19it/s, loss=0.404]\n",
      "Validation: 100%|██████████| 4/4 [00:02<00:00,  1.87it/s, loss=0.454]\n"
     ]
    },
    {
     "name": "stdout",
     "output_type": "stream",
     "text": [
      "Validation Dice Score\n",
      "Class 0: 0.9870, Class 1: 0.6161, Class 2: 0.1011, Class 3: 0.4607, Class 4: 0.7798, Class 5: 0.5703, Class 6: 0.9061, \n",
      "Validation F-beta Score\n",
      "Class 0: 0.9839, Class 1: 0.8213, Class 2: 0.1944, Class 3: 0.6256, Class 4: 0.8261, Class 5: 0.5893, Class 6: 0.9379, \n",
      "\n",
      "Overall Mean Dice Score: 0.6666\n",
      "Overall Mean F-beta Score: 0.7601\n",
      "\n",
      "Training Loss: 0.4314, Validation Loss: 0.4238, Validation F-beta: 0.7601\n",
      "Epoch 44/4000\n"
     ]
    },
    {
     "name": "stderr",
     "output_type": "stream",
     "text": [
      "Training: 100%|██████████| 204/204 [02:39<00:00,  1.28it/s, loss=0.432]\n",
      "Validation: 100%|██████████| 4/4 [00:02<00:00,  1.94it/s, loss=0.467]\n"
     ]
    },
    {
     "name": "stdout",
     "output_type": "stream",
     "text": [
      "Validation Dice Score\n",
      "Class 0: 0.9846, Class 1: 0.6958, Class 2: 0.1497, Class 3: 0.3601, Class 4: 0.7474, Class 5: 0.4248, Class 6: 0.8986, \n",
      "Validation F-beta Score\n",
      "Class 0: 0.9795, Class 1: 0.8308, Class 2: 0.2495, Class 3: 0.5257, Class 4: 0.7987, Class 5: 0.5362, Class 6: 0.9170, \n",
      "\n",
      "Overall Mean Dice Score: 0.6254\n",
      "Overall Mean F-beta Score: 0.7217\n",
      "\n",
      "Training Loss: 0.4314, Validation Loss: 0.4431, Validation F-beta: 0.7217\n",
      "Epoch 45/4000\n"
     ]
    },
    {
     "name": "stderr",
     "output_type": "stream",
     "text": [
      "Training: 100%|██████████| 204/204 [02:36<00:00,  1.30it/s, loss=0.419]\n",
      "Validation: 100%|██████████| 4/4 [00:02<00:00,  1.86it/s, loss=0.452]\n"
     ]
    },
    {
     "name": "stdout",
     "output_type": "stream",
     "text": [
      "Validation Dice Score\n",
      "Class 0: 0.9861, Class 1: 0.6922, Class 2: 0.1829, Class 3: 0.4084, Class 4: 0.7170, Class 5: 0.4186, Class 6: 0.9243, \n",
      "Validation F-beta Score\n",
      "Class 0: 0.9817, Class 1: 0.8075, Class 2: 0.3224, Class 3: 0.5666, Class 4: 0.8109, Class 5: 0.4636, Class 6: 0.9290, \n",
      "\n",
      "Overall Mean Dice Score: 0.6321\n",
      "Overall Mean F-beta Score: 0.7155\n",
      "\n",
      "Training Loss: 0.4300, Validation Loss: 0.4342, Validation F-beta: 0.7155\n",
      "Epoch 46/4000\n"
     ]
    },
    {
     "name": "stderr",
     "output_type": "stream",
     "text": [
      "Training: 100%|██████████| 204/204 [02:37<00:00,  1.30it/s, loss=0.399]\n",
      "Validation: 100%|██████████| 4/4 [00:02<00:00,  1.91it/s, loss=0.434]\n"
     ]
    },
    {
     "name": "stdout",
     "output_type": "stream",
     "text": [
      "Validation Dice Score\n",
      "Class 0: 0.9845, Class 1: 0.7082, Class 2: 0.1474, Class 3: 0.3868, Class 4: 0.7687, Class 5: 0.4903, Class 6: 0.9184, \n",
      "Validation F-beta Score\n",
      "Class 0: 0.9789, Class 1: 0.7883, Class 2: 0.2183, Class 3: 0.5510, Class 4: 0.8363, Class 5: 0.5862, Class 6: 0.9064, \n",
      "\n",
      "Overall Mean Dice Score: 0.6545\n",
      "Overall Mean F-beta Score: 0.7336\n",
      "\n",
      "Training Loss: 0.4306, Validation Loss: 0.4310, Validation F-beta: 0.7336\n",
      "Epoch 47/4000\n"
     ]
    },
    {
     "name": "stderr",
     "output_type": "stream",
     "text": [
      "Training: 100%|██████████| 204/204 [02:45<00:00,  1.23it/s, loss=0.402]\n",
      "Validation: 100%|██████████| 4/4 [00:02<00:00,  1.82it/s, loss=0.442]\n"
     ]
    },
    {
     "name": "stdout",
     "output_type": "stream",
     "text": [
      "Validation Dice Score\n",
      "Class 0: 0.9857, Class 1: 0.8040, Class 2: 0.1993, Class 3: 0.4375, Class 4: 0.6178, Class 5: 0.5238, Class 6: 0.9076, \n",
      "Validation F-beta Score\n",
      "Class 0: 0.9786, Class 1: 0.9068, Class 2: 0.3208, Class 3: 0.6479, Class 4: 0.7999, Class 5: 0.6475, Class 6: 0.9323, \n",
      "\n",
      "Overall Mean Dice Score: 0.6582\n",
      "Overall Mean F-beta Score: 0.7869\n",
      "\n",
      "Training Loss: 0.4295, Validation Loss: 0.4356, Validation F-beta: 0.7869\n",
      "Epoch 48/4000\n"
     ]
    },
    {
     "name": "stderr",
     "output_type": "stream",
     "text": [
      "Training: 100%|██████████| 204/204 [02:47<00:00,  1.22it/s, loss=0.42] \n",
      "Validation: 100%|██████████| 4/4 [00:02<00:00,  1.80it/s, loss=0.42] \n"
     ]
    },
    {
     "name": "stdout",
     "output_type": "stream",
     "text": [
      "Validation Dice Score\n",
      "Class 0: 0.9844, Class 1: 0.7864, Class 2: 0.0970, Class 3: 0.4240, Class 4: 0.7582, Class 5: 0.4847, Class 6: 0.9096, \n",
      "Validation F-beta Score\n",
      "Class 0: 0.9782, Class 1: 0.8652, Class 2: 0.1943, Class 3: 0.6128, Class 4: 0.8078, Class 5: 0.6340, Class 6: 0.9528, \n",
      "\n",
      "Overall Mean Dice Score: 0.6726\n",
      "Overall Mean F-beta Score: 0.7745\n",
      "\n",
      "Training Loss: 0.4298, Validation Loss: 0.4246, Validation F-beta: 0.7745\n",
      "Epoch 49/4000\n"
     ]
    },
    {
     "name": "stderr",
     "output_type": "stream",
     "text": [
      "Training: 100%|██████████| 204/204 [02:43<00:00,  1.25it/s, loss=0.393]\n",
      "Validation: 100%|██████████| 4/4 [00:02<00:00,  1.95it/s, loss=0.433]\n"
     ]
    },
    {
     "name": "stdout",
     "output_type": "stream",
     "text": [
      "Validation Dice Score\n",
      "Class 0: 0.9859, Class 1: 0.7205, Class 2: 0.2246, Class 3: 0.3647, Class 4: 0.7704, Class 5: 0.5086, Class 6: 0.9033, \n",
      "Validation F-beta Score\n",
      "Class 0: 0.9792, Class 1: 0.8465, Class 2: 0.2703, Class 3: 0.6045, Class 4: 0.8621, Class 5: 0.6344, Class 6: 0.9438, \n",
      "\n",
      "Overall Mean Dice Score: 0.6535\n",
      "Overall Mean F-beta Score: 0.7783\n",
      "\n",
      "Training Loss: 0.4290, Validation Loss: 0.4307, Validation F-beta: 0.7783\n",
      "Epoch 50/4000\n"
     ]
    },
    {
     "name": "stderr",
     "output_type": "stream",
     "text": [
      "Training: 100%|██████████| 204/204 [02:35<00:00,  1.31it/s, loss=0.432]\n",
      "Validation: 100%|██████████| 4/4 [00:02<00:00,  1.86it/s, loss=0.439]\n"
     ]
    },
    {
     "name": "stdout",
     "output_type": "stream",
     "text": [
      "Validation Dice Score\n",
      "Class 0: 0.9849, Class 1: 0.7590, Class 2: 0.1120, Class 3: 0.4400, Class 4: 0.7004, Class 5: 0.4895, Class 6: 0.9218, \n",
      "Validation F-beta Score\n",
      "Class 0: 0.9797, Class 1: 0.8545, Class 2: 0.2154, Class 3: 0.5774, Class 4: 0.7962, Class 5: 0.5628, Class 6: 0.9291, \n",
      "\n",
      "Overall Mean Dice Score: 0.6621\n",
      "Overall Mean F-beta Score: 0.7440\n",
      "\n",
      "Training Loss: 0.4292, Validation Loss: 0.4322, Validation F-beta: 0.7440\n",
      "Epoch 51/4000\n"
     ]
    },
    {
     "name": "stderr",
     "output_type": "stream",
     "text": [
      "Training: 100%|██████████| 204/204 [02:36<00:00,  1.31it/s, loss=0.418]\n",
      "Validation: 100%|██████████| 4/4 [00:02<00:00,  1.99it/s, loss=0.438]\n"
     ]
    },
    {
     "name": "stdout",
     "output_type": "stream",
     "text": [
      "Validation Dice Score\n",
      "Class 0: 0.9838, Class 1: 0.6834, Class 2: 0.1926, Class 3: 0.4535, Class 4: 0.7112, Class 5: 0.5339, Class 6: 0.9049, \n",
      "Validation F-beta Score\n",
      "Class 0: 0.9763, Class 1: 0.8687, Class 2: 0.3008, Class 3: 0.6135, Class 4: 0.8308, Class 5: 0.6428, Class 6: 0.9535, \n",
      "\n",
      "Overall Mean Dice Score: 0.6574\n",
      "Overall Mean F-beta Score: 0.7819\n",
      "\n",
      "Training Loss: 0.4291, Validation Loss: 0.4333, Validation F-beta: 0.7819\n",
      "Epoch 52/4000\n"
     ]
    },
    {
     "name": "stderr",
     "output_type": "stream",
     "text": [
      "Training: 100%|██████████| 204/204 [02:47<00:00,  1.22it/s, loss=0.425]\n",
      "Validation: 100%|██████████| 4/4 [00:02<00:00,  1.82it/s, loss=0.438]\n"
     ]
    },
    {
     "name": "stdout",
     "output_type": "stream",
     "text": [
      "Validation Dice Score\n",
      "Class 0: 0.9842, Class 1: 0.7630, Class 2: 0.1557, Class 3: 0.4490, Class 4: 0.7501, Class 5: 0.4877, Class 6: 0.7763, \n",
      "Validation F-beta Score\n",
      "Class 0: 0.9769, Class 1: 0.8566, Class 2: 0.1668, Class 3: 0.5899, Class 4: 0.8483, Class 5: 0.6702, Class 6: 0.8622, \n",
      "\n",
      "Overall Mean Dice Score: 0.6452\n",
      "Overall Mean F-beta Score: 0.7654\n",
      "\n",
      "Training Loss: 0.4292, Validation Loss: 0.4381, Validation F-beta: 0.7654\n",
      "Epoch 53/4000\n"
     ]
    },
    {
     "name": "stderr",
     "output_type": "stream",
     "text": [
      "Training: 100%|██████████| 204/204 [02:48<00:00,  1.21it/s, loss=0.39] \n",
      "Validation: 100%|██████████| 4/4 [00:02<00:00,  1.95it/s, loss=0.416]\n"
     ]
    },
    {
     "name": "stdout",
     "output_type": "stream",
     "text": [
      "Validation Dice Score\n",
      "Class 0: 0.9849, Class 1: 0.6637, Class 2: 0.1910, Class 3: 0.4906, Class 4: 0.7467, Class 5: 0.5392, Class 6: 0.8955, \n",
      "Validation F-beta Score\n",
      "Class 0: 0.9778, Class 1: 0.7819, Class 2: 0.3464, Class 3: 0.5651, Class 4: 0.8474, Class 5: 0.7052, Class 6: 0.9333, \n",
      "\n",
      "Overall Mean Dice Score: 0.6671\n",
      "Overall Mean F-beta Score: 0.7666\n",
      "\n",
      "Training Loss: 0.4277, Validation Loss: 0.4210, Validation F-beta: 0.7666\n",
      "========================================================\n",
      "SUPER Best model saved. Loss:0.4210, Score:0.7666\n",
      "========================================================\n",
      "Epoch 54/4000\n"
     ]
    },
    {
     "name": "stderr",
     "output_type": "stream",
     "text": [
      "Training: 100%|██████████| 204/204 [02:49<00:00,  1.20it/s, loss=0.401]\n",
      "Validation: 100%|██████████| 4/4 [00:02<00:00,  1.77it/s, loss=0.4]  \n"
     ]
    },
    {
     "name": "stdout",
     "output_type": "stream",
     "text": [
      "Validation Dice Score\n",
      "Class 0: 0.9870, Class 1: 0.8202, Class 2: 0.1932, Class 3: 0.4266, Class 4: 0.6924, Class 5: 0.5136, Class 6: 0.9082, \n",
      "Validation F-beta Score\n",
      "Class 0: 0.9828, Class 1: 0.8393, Class 2: 0.2919, Class 3: 0.5837, Class 4: 0.8051, Class 5: 0.5487, Class 6: 0.9484, \n",
      "\n",
      "Overall Mean Dice Score: 0.6722\n",
      "Overall Mean F-beta Score: 0.7450\n",
      "\n",
      "Training Loss: 0.4298, Validation Loss: 0.4084, Validation F-beta: 0.7450\n",
      "Epoch 55/4000\n"
     ]
    },
    {
     "name": "stderr",
     "output_type": "stream",
     "text": [
      "Training: 100%|██████████| 204/204 [02:50<00:00,  1.20it/s, loss=0.398]\n",
      "Validation: 100%|██████████| 4/4 [00:02<00:00,  1.87it/s, loss=0.425]\n"
     ]
    },
    {
     "name": "stdout",
     "output_type": "stream",
     "text": [
      "Validation Dice Score\n",
      "Class 0: 0.9870, Class 1: 0.8035, Class 2: 0.1367, Class 3: 0.4428, Class 4: 0.6820, Class 5: 0.5460, Class 6: 0.8890, \n",
      "Validation F-beta Score\n",
      "Class 0: 0.9817, Class 1: 0.8660, Class 2: 0.1801, Class 3: 0.5797, Class 4: 0.7885, Class 5: 0.6683, Class 6: 0.9300, \n",
      "\n",
      "Overall Mean Dice Score: 0.6726\n",
      "Overall Mean F-beta Score: 0.7665\n",
      "\n",
      "Training Loss: 0.4285, Validation Loss: 0.4133, Validation F-beta: 0.7665\n",
      "Epoch 56/4000\n"
     ]
    },
    {
     "name": "stderr",
     "output_type": "stream",
     "text": [
      "Training: 100%|██████████| 204/204 [02:36<00:00,  1.30it/s, loss=0.391]\n",
      "Validation: 100%|██████████| 4/4 [00:02<00:00,  1.98it/s, loss=0.437]\n"
     ]
    },
    {
     "name": "stdout",
     "output_type": "stream",
     "text": [
      "Validation Dice Score\n",
      "Class 0: 0.9829, Class 1: 0.7490, Class 2: 0.1914, Class 3: 0.4344, Class 4: 0.7151, Class 5: 0.4841, Class 6: 0.9315, \n",
      "Validation F-beta Score\n",
      "Class 0: 0.9746, Class 1: 0.8652, Class 2: 0.3303, Class 3: 0.5756, Class 4: 0.8280, Class 5: 0.6510, Class 6: 0.9544, \n",
      "\n",
      "Overall Mean Dice Score: 0.6628\n",
      "Overall Mean F-beta Score: 0.7748\n",
      "\n",
      "Training Loss: 0.4280, Validation Loss: 0.4429, Validation F-beta: 0.7748\n",
      "Epoch 57/4000\n"
     ]
    },
    {
     "name": "stderr",
     "output_type": "stream",
     "text": [
      "Training: 100%|██████████| 204/204 [02:41<00:00,  1.26it/s, loss=0.412]\n",
      "Validation: 100%|██████████| 4/4 [00:02<00:00,  1.86it/s, loss=0.432]\n"
     ]
    },
    {
     "name": "stdout",
     "output_type": "stream",
     "text": [
      "Validation Dice Score\n",
      "Class 0: 0.9859, Class 1: 0.7103, Class 2: 0.1847, Class 3: 0.4188, Class 4: 0.7465, Class 5: 0.4816, Class 6: 0.9244, \n",
      "Validation F-beta Score\n",
      "Class 0: 0.9807, Class 1: 0.8593, Class 2: 0.2756, Class 3: 0.5440, Class 4: 0.8199, Class 5: 0.5961, Class 6: 0.9426, \n",
      "\n",
      "Overall Mean Dice Score: 0.6563\n",
      "Overall Mean F-beta Score: 0.7524\n",
      "\n",
      "Training Loss: 0.4276, Validation Loss: 0.4244, Validation F-beta: 0.7524\n",
      "Epoch 58/4000\n"
     ]
    },
    {
     "name": "stderr",
     "output_type": "stream",
     "text": [
      "Training: 100%|██████████| 204/204 [02:47<00:00,  1.22it/s, loss=0.392]\n",
      "Validation: 100%|██████████| 4/4 [00:02<00:00,  1.86it/s, loss=0.406]\n"
     ]
    },
    {
     "name": "stdout",
     "output_type": "stream",
     "text": [
      "Validation Dice Score\n",
      "Class 0: 0.9854, Class 1: 0.7743, Class 2: 0.1402, Class 3: 0.3909, Class 4: 0.7175, Class 5: 0.4826, Class 6: 0.9108, \n",
      "Validation F-beta Score\n",
      "Class 0: 0.9795, Class 1: 0.8371, Class 2: 0.2835, Class 3: 0.5812, Class 4: 0.8195, Class 5: 0.5957, Class 6: 0.9337, \n",
      "\n",
      "Overall Mean Dice Score: 0.6552\n",
      "Overall Mean F-beta Score: 0.7534\n",
      "\n",
      "Training Loss: 0.4260, Validation Loss: 0.4227, Validation F-beta: 0.7534\n",
      "Epoch 59/4000\n"
     ]
    },
    {
     "name": "stderr",
     "output_type": "stream",
     "text": [
      "Training: 100%|██████████| 204/204 [02:44<00:00,  1.24it/s, loss=0.42] \n",
      "Validation: 100%|██████████| 4/4 [00:02<00:00,  1.79it/s, loss=0.432]\n"
     ]
    },
    {
     "name": "stdout",
     "output_type": "stream",
     "text": [
      "Validation Dice Score\n",
      "Class 0: 0.9851, Class 1: 0.7507, Class 2: 0.1638, Class 3: 0.4296, Class 4: 0.7467, Class 5: 0.4437, Class 6: 0.9016, \n",
      "Validation F-beta Score\n",
      "Class 0: 0.9781, Class 1: 0.7816, Class 2: 0.2384, Class 3: 0.6358, Class 4: 0.8473, Class 5: 0.5840, Class 6: 0.9250, \n",
      "\n",
      "Overall Mean Dice Score: 0.6544\n",
      "Overall Mean F-beta Score: 0.7547\n",
      "\n",
      "Training Loss: 0.4266, Validation Loss: 0.4393, Validation F-beta: 0.7547\n",
      "Epoch 60/4000\n"
     ]
    },
    {
     "name": "stderr",
     "output_type": "stream",
     "text": [
      "Training: 100%|██████████| 204/204 [02:51<00:00,  1.19it/s, loss=0.395]\n",
      "Validation: 100%|██████████| 4/4 [00:02<00:00,  1.79it/s, loss=0.403]\n"
     ]
    },
    {
     "name": "stdout",
     "output_type": "stream",
     "text": [
      "Validation Dice Score\n",
      "Class 0: 0.9858, Class 1: 0.7159, Class 2: 0.1736, Class 3: 0.3810, Class 4: 0.6666, Class 5: 0.5357, Class 6: 0.9111, \n",
      "Validation F-beta Score\n",
      "Class 0: 0.9790, Class 1: 0.8364, Class 2: 0.2684, Class 3: 0.5956, Class 4: 0.8038, Class 5: 0.6424, Class 6: 0.9425, \n",
      "\n",
      "Overall Mean Dice Score: 0.6421\n",
      "Overall Mean F-beta Score: 0.7641\n",
      "\n",
      "Training Loss: 0.4277, Validation Loss: 0.4296, Validation F-beta: 0.7641\n",
      "Epoch 61/4000\n"
     ]
    },
    {
     "name": "stderr",
     "output_type": "stream",
     "text": [
      "Training: 100%|██████████| 204/204 [02:38<00:00,  1.29it/s, loss=0.408]\n",
      "Validation: 100%|██████████| 4/4 [00:02<00:00,  1.86it/s, loss=0.406]\n"
     ]
    },
    {
     "name": "stdout",
     "output_type": "stream",
     "text": [
      "Validation Dice Score\n",
      "Class 0: 0.9851, Class 1: 0.7795, Class 2: 0.1987, Class 3: 0.4798, Class 4: 0.7600, Class 5: 0.4051, Class 6: 0.9201, \n",
      "Validation F-beta Score\n",
      "Class 0: 0.9789, Class 1: 0.8907, Class 2: 0.2892, Class 3: 0.6758, Class 4: 0.8666, Class 5: 0.5091, Class 6: 0.9322, \n",
      "\n",
      "Overall Mean Dice Score: 0.6689\n",
      "Overall Mean F-beta Score: 0.7749\n",
      "\n",
      "Training Loss: 0.4264, Validation Loss: 0.4231, Validation F-beta: 0.7749\n",
      "Epoch 62/4000\n"
     ]
    },
    {
     "name": "stderr",
     "output_type": "stream",
     "text": [
      "Training: 100%|██████████| 204/204 [02:46<00:00,  1.22it/s, loss=0.399]\n",
      "Validation: 100%|██████████| 4/4 [00:02<00:00,  1.89it/s, loss=0.43] \n"
     ]
    },
    {
     "name": "stdout",
     "output_type": "stream",
     "text": [
      "Validation Dice Score\n",
      "Class 0: 0.9842, Class 1: 0.6996, Class 2: 0.1519, Class 3: 0.3622, Class 4: 0.7244, Class 5: 0.5479, Class 6: 0.9156, \n",
      "Validation F-beta Score\n",
      "Class 0: 0.9773, Class 1: 0.8141, Class 2: 0.2812, Class 3: 0.5095, Class 4: 0.8637, Class 5: 0.6446, Class 6: 0.9067, \n",
      "\n",
      "Overall Mean Dice Score: 0.6499\n",
      "Overall Mean F-beta Score: 0.7477\n",
      "\n",
      "Training Loss: 0.4275, Validation Loss: 0.4289, Validation F-beta: 0.7477\n",
      "Epoch 63/4000\n"
     ]
    },
    {
     "name": "stderr",
     "output_type": "stream",
     "text": [
      "Training: 100%|██████████| 204/204 [02:45<00:00,  1.23it/s, loss=0.421]\n",
      "Validation: 100%|██████████| 4/4 [00:02<00:00,  1.88it/s, loss=0.421]\n"
     ]
    },
    {
     "name": "stdout",
     "output_type": "stream",
     "text": [
      "Validation Dice Score\n",
      "Class 0: 0.9857, Class 1: 0.7489, Class 2: 0.1452, Class 3: 0.4304, Class 4: 0.7684, Class 5: 0.5024, Class 6: 0.9359, \n",
      "Validation F-beta Score\n",
      "Class 0: 0.9798, Class 1: 0.8508, Class 2: 0.1832, Class 3: 0.6598, Class 4: 0.8527, Class 5: 0.6055, Class 6: 0.9415, \n",
      "\n",
      "Overall Mean Dice Score: 0.6772\n",
      "Overall Mean F-beta Score: 0.7821\n",
      "\n",
      "Training Loss: 0.4260, Validation Loss: 0.4249, Validation F-beta: 0.7821\n",
      "Epoch 64/4000\n"
     ]
    },
    {
     "name": "stderr",
     "output_type": "stream",
     "text": [
      "Training: 100%|██████████| 204/204 [02:48<00:00,  1.21it/s, loss=0.404]\n",
      "Validation: 100%|██████████| 4/4 [00:02<00:00,  1.77it/s, loss=0.423]\n"
     ]
    },
    {
     "name": "stdout",
     "output_type": "stream",
     "text": [
      "Validation Dice Score\n",
      "Class 0: 0.9863, Class 1: 0.7969, Class 2: 0.0941, Class 3: 0.3652, Class 4: 0.7661, Class 5: 0.5061, Class 6: 0.9329, \n",
      "Validation F-beta Score\n",
      "Class 0: 0.9802, Class 1: 0.8916, Class 2: 0.1808, Class 3: 0.6125, Class 4: 0.8272, Class 5: 0.6373, Class 6: 0.9418, \n",
      "\n",
      "Overall Mean Dice Score: 0.6734\n",
      "Overall Mean F-beta Score: 0.7821\n",
      "\n",
      "Training Loss: 0.4260, Validation Loss: 0.4193, Validation F-beta: 0.7821\n",
      "========================================================\n",
      "SUPER Best model saved. Loss:0.4193, Score:0.7821\n",
      "========================================================\n",
      "Epoch 65/4000\n"
     ]
    },
    {
     "name": "stderr",
     "output_type": "stream",
     "text": [
      "Training: 100%|██████████| 204/204 [02:49<00:00,  1.21it/s, loss=0.392]\n",
      "Validation: 100%|██████████| 4/4 [00:02<00:00,  1.75it/s, loss=0.422]\n"
     ]
    },
    {
     "name": "stdout",
     "output_type": "stream",
     "text": [
      "Validation Dice Score\n",
      "Class 0: 0.9854, Class 1: 0.7818, Class 2: 0.1629, Class 3: 0.4184, Class 4: 0.7768, Class 5: 0.4530, Class 6: 0.9037, \n",
      "Validation F-beta Score\n",
      "Class 0: 0.9793, Class 1: 0.8671, Class 2: 0.2473, Class 3: 0.6215, Class 4: 0.8394, Class 5: 0.5732, Class 6: 0.9320, \n",
      "\n",
      "Overall Mean Dice Score: 0.6667\n",
      "Overall Mean F-beta Score: 0.7666\n",
      "\n",
      "Training Loss: 0.4238, Validation Loss: 0.4326, Validation F-beta: 0.7666\n",
      "Epoch 66/4000\n"
     ]
    },
    {
     "name": "stderr",
     "output_type": "stream",
     "text": [
      "Training: 100%|██████████| 204/204 [02:50<00:00,  1.20it/s, loss=0.396]\n",
      "Validation: 100%|██████████| 4/4 [00:02<00:00,  1.96it/s, loss=0.396]\n"
     ]
    },
    {
     "name": "stdout",
     "output_type": "stream",
     "text": [
      "Validation Dice Score\n",
      "Class 0: 0.9865, Class 1: 0.8053, Class 2: 0.1338, Class 3: 0.3742, Class 4: 0.7409, Class 5: 0.5569, Class 6: 0.9165, \n",
      "Validation F-beta Score\n",
      "Class 0: 0.9816, Class 1: 0.8893, Class 2: 0.1781, Class 3: 0.5833, Class 4: 0.8410, Class 5: 0.6246, Class 6: 0.9157, \n",
      "\n",
      "Overall Mean Dice Score: 0.6788\n",
      "Overall Mean F-beta Score: 0.7708\n",
      "\n",
      "Training Loss: 0.4240, Validation Loss: 0.4152, Validation F-beta: 0.7708\n",
      "Epoch 67/4000\n"
     ]
    },
    {
     "name": "stderr",
     "output_type": "stream",
     "text": [
      "Training: 100%|██████████| 204/204 [02:45<00:00,  1.23it/s, loss=0.433]\n",
      "Validation: 100%|██████████| 4/4 [00:02<00:00,  1.90it/s, loss=0.425]\n"
     ]
    },
    {
     "name": "stdout",
     "output_type": "stream",
     "text": [
      "Validation Dice Score\n",
      "Class 0: 0.9852, Class 1: 0.8107, Class 2: 0.1422, Class 3: 0.4194, Class 4: 0.7073, Class 5: 0.4222, Class 6: 0.9171, \n",
      "Validation F-beta Score\n",
      "Class 0: 0.9793, Class 1: 0.8787, Class 2: 0.2423, Class 3: 0.5828, Class 4: 0.7950, Class 5: 0.5423, Class 6: 0.9474, \n",
      "\n",
      "Overall Mean Dice Score: 0.6553\n",
      "Overall Mean F-beta Score: 0.7493\n",
      "\n",
      "Training Loss: 0.4249, Validation Loss: 0.4229, Validation F-beta: 0.7493\n",
      "Epoch 68/4000\n"
     ]
    },
    {
     "name": "stderr",
     "output_type": "stream",
     "text": [
      "Training: 100%|██████████| 204/204 [02:46<00:00,  1.23it/s, loss=0.388]\n",
      "Validation: 100%|██████████| 4/4 [00:02<00:00,  1.82it/s, loss=0.409]\n"
     ]
    },
    {
     "name": "stdout",
     "output_type": "stream",
     "text": [
      "Validation Dice Score\n",
      "Class 0: 0.9863, Class 1: 0.7296, Class 2: 0.2002, Class 3: 0.4762, Class 4: 0.7507, Class 5: 0.5233, Class 6: 0.9239, \n",
      "Validation F-beta Score\n",
      "Class 0: 0.9815, Class 1: 0.8672, Class 2: 0.2359, Class 3: 0.6083, Class 4: 0.8440, Class 5: 0.5688, Class 6: 0.9404, \n",
      "\n",
      "Overall Mean Dice Score: 0.6807\n",
      "Overall Mean F-beta Score: 0.7658\n",
      "\n",
      "Training Loss: 0.4226, Validation Loss: 0.4273, Validation F-beta: 0.7658\n",
      "Epoch 69/4000\n"
     ]
    },
    {
     "name": "stderr",
     "output_type": "stream",
     "text": [
      "Training: 100%|██████████| 204/204 [02:40<00:00,  1.27it/s, loss=0.392]\n",
      "Validation: 100%|██████████| 4/4 [00:02<00:00,  1.88it/s, loss=0.416]\n"
     ]
    },
    {
     "name": "stdout",
     "output_type": "stream",
     "text": [
      "Validation Dice Score\n",
      "Class 0: 0.9861, Class 1: 0.7804, Class 2: 0.1703, Class 3: 0.4991, Class 4: 0.7149, Class 5: 0.4973, Class 6: 0.9103, \n",
      "Validation F-beta Score\n",
      "Class 0: 0.9806, Class 1: 0.8924, Class 2: 0.2993, Class 3: 0.6792, Class 4: 0.8098, Class 5: 0.5784, Class 6: 0.9406, \n",
      "\n",
      "Overall Mean Dice Score: 0.6804\n",
      "Overall Mean F-beta Score: 0.7801\n",
      "\n",
      "Training Loss: 0.4234, Validation Loss: 0.4156, Validation F-beta: 0.7801\n",
      "Epoch 70/4000\n"
     ]
    },
    {
     "name": "stderr",
     "output_type": "stream",
     "text": [
      "Training: 100%|██████████| 204/204 [02:35<00:00,  1.31it/s, loss=0.404]\n",
      "Validation: 100%|██████████| 4/4 [00:02<00:00,  1.94it/s, loss=0.41] \n"
     ]
    },
    {
     "name": "stdout",
     "output_type": "stream",
     "text": [
      "Validation Dice Score\n",
      "Class 0: 0.9861, Class 1: 0.7584, Class 2: 0.2779, Class 3: 0.4988, Class 4: 0.7567, Class 5: 0.4447, Class 6: 0.8830, \n",
      "Validation F-beta Score\n",
      "Class 0: 0.9826, Class 1: 0.8251, Class 2: 0.3171, Class 3: 0.5877, Class 4: 0.8076, Class 5: 0.4950, Class 6: 0.9357, \n",
      "\n",
      "Overall Mean Dice Score: 0.6683\n",
      "Overall Mean F-beta Score: 0.7302\n",
      "\n",
      "Training Loss: 0.4221, Validation Loss: 0.4225, Validation F-beta: 0.7302\n",
      "Epoch 71/4000\n"
     ]
    },
    {
     "name": "stderr",
     "output_type": "stream",
     "text": [
      "Training: 100%|██████████| 204/204 [02:48<00:00,  1.21it/s, loss=0.391]\n",
      "Validation: 100%|██████████| 4/4 [00:02<00:00,  1.85it/s, loss=0.426]\n"
     ]
    },
    {
     "name": "stdout",
     "output_type": "stream",
     "text": [
      "Validation Dice Score\n",
      "Class 0: 0.9869, Class 1: 0.7097, Class 2: 0.0723, Class 3: 0.4929, Class 4: 0.7125, Class 5: 0.5322, Class 6: 0.9150, \n",
      "Validation F-beta Score\n",
      "Class 0: 0.9824, Class 1: 0.8510, Class 2: 0.0903, Class 3: 0.6266, Class 4: 0.8069, Class 5: 0.5902, Class 6: 0.9537, \n",
      "\n",
      "Overall Mean Dice Score: 0.6725\n",
      "Overall Mean F-beta Score: 0.7657\n",
      "\n",
      "Training Loss: 0.4213, Validation Loss: 0.4235, Validation F-beta: 0.7657\n",
      "Epoch 72/4000\n"
     ]
    },
    {
     "name": "stderr",
     "output_type": "stream",
     "text": [
      "Training: 100%|██████████| 204/204 [02:42<00:00,  1.25it/s, loss=0.414]\n",
      "Validation: 100%|██████████| 4/4 [00:02<00:00,  1.96it/s, loss=0.4]  \n"
     ]
    },
    {
     "name": "stdout",
     "output_type": "stream",
     "text": [
      "Validation Dice Score\n",
      "Class 0: 0.9880, Class 1: 0.8292, Class 2: 0.1462, Class 3: 0.4487, Class 4: 0.7429, Class 5: 0.4682, Class 6: 0.8815, \n",
      "Validation F-beta Score\n",
      "Class 0: 0.9839, Class 1: 0.8850, Class 2: 0.2663, Class 3: 0.6182, Class 4: 0.8102, Class 5: 0.5420, Class 6: 0.9244, \n",
      "\n",
      "Overall Mean Dice Score: 0.6741\n",
      "Overall Mean F-beta Score: 0.7560\n",
      "\n",
      "Training Loss: 0.4239, Validation Loss: 0.4248, Validation F-beta: 0.7560\n",
      "Epoch 73/4000\n"
     ]
    },
    {
     "name": "stderr",
     "output_type": "stream",
     "text": [
      "Training: 100%|██████████| 204/204 [02:35<00:00,  1.31it/s, loss=0.391]\n",
      "Validation: 100%|██████████| 4/4 [00:02<00:00,  1.86it/s, loss=0.426]\n"
     ]
    },
    {
     "name": "stdout",
     "output_type": "stream",
     "text": [
      "Validation Dice Score\n",
      "Class 0: 0.9867, Class 1: 0.7145, Class 2: 0.2222, Class 3: 0.4098, Class 4: 0.7435, Class 5: 0.5451, Class 6: 0.9014, \n",
      "Validation F-beta Score\n",
      "Class 0: 0.9840, Class 1: 0.8265, Class 2: 0.2421, Class 3: 0.5497, Class 4: 0.7842, Class 5: 0.6016, Class 6: 0.9256, \n",
      "\n",
      "Overall Mean Dice Score: 0.6629\n",
      "Overall Mean F-beta Score: 0.7375\n",
      "\n",
      "Training Loss: 0.4217, Validation Loss: 0.4399, Validation F-beta: 0.7375\n",
      "Epoch 74/4000\n"
     ]
    },
    {
     "name": "stderr",
     "output_type": "stream",
     "text": [
      "Training: 100%|██████████| 204/204 [02:35<00:00,  1.31it/s, loss=0.406]\n",
      "Validation: 100%|██████████| 4/4 [00:02<00:00,  1.97it/s, loss=0.438]\n"
     ]
    },
    {
     "name": "stdout",
     "output_type": "stream",
     "text": [
      "Validation Dice Score\n",
      "Class 0: 0.9862, Class 1: 0.8185, Class 2: 0.1699, Class 3: 0.3682, Class 4: 0.6813, Class 5: 0.4974, Class 6: 0.9339, \n",
      "Validation F-beta Score\n",
      "Class 0: 0.9804, Class 1: 0.8736, Class 2: 0.2004, Class 3: 0.4661, Class 4: 0.8297, Class 5: 0.6217, Class 6: 0.9544, \n",
      "\n",
      "Overall Mean Dice Score: 0.6599\n",
      "Overall Mean F-beta Score: 0.7491\n",
      "\n",
      "Training Loss: 0.4221, Validation Loss: 0.4317, Validation F-beta: 0.7491\n",
      "Epoch 75/4000\n"
     ]
    },
    {
     "name": "stderr",
     "output_type": "stream",
     "text": [
      "Training: 100%|██████████| 204/204 [02:41<00:00,  1.27it/s, loss=0.4]  \n",
      "Validation: 100%|██████████| 4/4 [00:02<00:00,  1.96it/s, loss=0.443]\n"
     ]
    },
    {
     "name": "stdout",
     "output_type": "stream",
     "text": [
      "Validation Dice Score\n",
      "Class 0: 0.9868, Class 1: 0.6842, Class 2: 0.1185, Class 3: 0.3816, Class 4: 0.7437, Class 5: 0.5233, Class 6: 0.8907, \n",
      "Validation F-beta Score\n",
      "Class 0: 0.9831, Class 1: 0.8559, Class 2: 0.1781, Class 3: 0.5418, Class 4: 0.7980, Class 5: 0.5836, Class 6: 0.9496, \n",
      "\n",
      "Overall Mean Dice Score: 0.6447\n",
      "Overall Mean F-beta Score: 0.7458\n",
      "\n",
      "Training Loss: 0.4218, Validation Loss: 0.4347, Validation F-beta: 0.7458\n",
      "Epoch 76/4000\n"
     ]
    },
    {
     "name": "stderr",
     "output_type": "stream",
     "text": [
      "Training: 100%|██████████| 204/204 [02:41<00:00,  1.26it/s, loss=0.406]\n",
      "Validation: 100%|██████████| 4/4 [00:02<00:00,  1.95it/s, loss=0.43] \n"
     ]
    },
    {
     "name": "stdout",
     "output_type": "stream",
     "text": [
      "Validation Dice Score\n",
      "Class 0: 0.9865, Class 1: 0.7822, Class 2: 0.0862, Class 3: 0.4291, Class 4: 0.7444, Class 5: 0.5250, Class 6: 0.9004, \n",
      "Validation F-beta Score\n",
      "Class 0: 0.9814, Class 1: 0.8908, Class 2: 0.1533, Class 3: 0.5700, Class 4: 0.8325, Class 5: 0.6146, Class 6: 0.9286, \n",
      "\n",
      "Overall Mean Dice Score: 0.6762\n",
      "Overall Mean F-beta Score: 0.7673\n",
      "\n",
      "Training Loss: 0.4217, Validation Loss: 0.4254, Validation F-beta: 0.7673\n",
      "Epoch 77/4000\n"
     ]
    },
    {
     "name": "stderr",
     "output_type": "stream",
     "text": [
      "Training: 100%|██████████| 204/204 [02:41<00:00,  1.27it/s, loss=0.396]\n",
      "Validation: 100%|██████████| 4/4 [00:02<00:00,  1.86it/s, loss=0.436]\n"
     ]
    },
    {
     "name": "stdout",
     "output_type": "stream",
     "text": [
      "Validation Dice Score\n",
      "Class 0: 0.9857, Class 1: 0.6350, Class 2: 0.1119, Class 3: 0.4374, Class 4: 0.7626, Class 5: 0.4402, Class 6: 0.8951, \n",
      "Validation F-beta Score\n",
      "Class 0: 0.9815, Class 1: 0.7742, Class 2: 0.1445, Class 3: 0.5458, Class 4: 0.8047, Class 5: 0.5372, Class 6: 0.9211, \n",
      "\n",
      "Overall Mean Dice Score: 0.6341\n",
      "Overall Mean F-beta Score: 0.7166\n",
      "\n",
      "Training Loss: 0.4228, Validation Loss: 0.4370, Validation F-beta: 0.7166\n",
      "Epoch 78/4000\n"
     ]
    },
    {
     "name": "stderr",
     "output_type": "stream",
     "text": [
      "Training: 100%|██████████| 204/204 [02:40<00:00,  1.27it/s, loss=0.41] \n",
      "Validation: 100%|██████████| 4/4 [00:02<00:00,  1.85it/s, loss=0.423]\n"
     ]
    },
    {
     "name": "stdout",
     "output_type": "stream",
     "text": [
      "Validation Dice Score\n",
      "Class 0: 0.9862, Class 1: 0.7727, Class 2: 0.1946, Class 3: 0.4374, Class 4: 0.7377, Class 5: 0.5335, Class 6: 0.8932, \n",
      "Validation F-beta Score\n",
      "Class 0: 0.9824, Class 1: 0.8858, Class 2: 0.3157, Class 3: 0.5682, Class 4: 0.7888, Class 5: 0.6041, Class 6: 0.9401, \n",
      "\n",
      "Overall Mean Dice Score: 0.6749\n",
      "Overall Mean F-beta Score: 0.7574\n",
      "\n",
      "Training Loss: 0.4219, Validation Loss: 0.4255, Validation F-beta: 0.7574\n",
      "Epoch 79/4000\n"
     ]
    },
    {
     "name": "stderr",
     "output_type": "stream",
     "text": [
      "Training: 100%|██████████| 204/204 [02:45<00:00,  1.23it/s, loss=0.376]\n",
      "Validation: 100%|██████████| 4/4 [00:02<00:00,  1.84it/s, loss=0.451]"
     ]
    },
    {
     "name": "stdout",
     "output_type": "stream",
     "text": [
      "Validation Dice Score\n",
      "Class 0: 0.9879, Class 1: 0.7494, Class 2: 0.2209, Class 3: 0.4159, Class 4: 0.7559, Class 5: 0.4756, Class 6: 0.8696, \n",
      "Validation F-beta Score\n",
      "Class 0: 0.9829, Class 1: 0.9017, Class 2: 0.2909, Class 3: 0.5576, Class 4: 0.8475, Class 5: 0.5795, Class 6: 0.9416, \n",
      "\n",
      "Overall Mean Dice Score: 0.6533\n",
      "Overall Mean F-beta Score: 0.7656\n",
      "\n",
      "Training Loss: 0.4208, Validation Loss: 0.4308, Validation F-beta: 0.7656\n",
      "Early stopping\n"
     ]
    },
    {
     "name": "stderr",
     "output_type": "stream",
     "text": [
      "\n"
     ]
    },
    {
     "data": {
      "text/html": [],
      "text/plain": [
       "<IPython.core.display.HTML object>"
      ]
     },
     "metadata": {},
     "output_type": "display_data"
    },
    {
     "data": {
      "text/html": [
       "<br>    <style><br>        .wandb-row {<br>            display: flex;<br>            flex-direction: row;<br>            flex-wrap: wrap;<br>            justify-content: flex-start;<br>            width: 100%;<br>        }<br>        .wandb-col {<br>            display: flex;<br>            flex-direction: column;<br>            flex-basis: 100%;<br>            flex: 1;<br>            padding: 10px;<br>        }<br>    </style><br><div class=\"wandb-row\"><div class=\"wandb-col\"><h3>Run history:</h3><br/><table class=\"wandb\"><tr><td>class_0_dice_score</td><td>▇▃▃▆▄▄▃▅▇▆▅▃▁▆▂▅▅▄▅▆▅▄▆▄▃▄▇▂▅▅▆▆▅▆▇▇▇▆▅█</td></tr><tr><td>class_0_f_beta_score</td><td>█▆▅▅▁▃▂▅▄▃▅▁▃▅▃▄▆▄▅▄▃▄▃▃▆▄▃▄▃▄▄▄▅▆▆▆▄▆▅▆</td></tr><tr><td>class_1_dice_score</td><td>▁▄▅▄▃▆▃▆▆▆▇▇▅▆▆▅▆▇▅▇▆▄▆▆▇▇▅██▇▆▆▇▇▇█▆▆▅▇</td></tr><tr><td>class_1_f_beta_score</td><td>▄▄▁▂▅▂▃▇▆▅▇▇▇▇▇▆▇▇▇▇▇▇█▇▇▆▇▇▇▇▆▇█▇█▇▇▇██</td></tr><tr><td>class_2_dice_score</td><td>▁▁▁▁▁▂▆▄▄▄▆▇▇▅▅▅▃▆▄▄▅▃▇▄▆▆▄▆▆▅▅▆▅▅▅▆█▇▃▇</td></tr><tr><td>class_2_f_beta_score</td><td>▁▁▁▁▁▄▅▄▄▅██▇▇▄▅▅▃▅▆▄▅▅▇▇▅▇▄▆▄▆▆▄▄▆▆▅▅▄▄</td></tr><tr><td>class_3_dice_score</td><td>▄▅▃▄▆▂▆▆▁▅▆▆▆▆▅▅▆▆▇▇▅▇▅▇▇▇▆▇▅▅▅▆▅██▅▅▆▇▆</td></tr><tr><td>class_3_f_beta_score</td><td>▁▂▄▃▁█▅▃▃▅▆▆▄▆▆█▆▅▃▆▄▇▆▅▄▅▅▇▅▂▆▅▆█▅▆▁▃▄▄</td></tr><tr><td>class_4_dice_score</td><td>▃▂▄▆▂▆▂▂▄▅▆▅▅▂▆▅▂▄▄▆█▇█▁▇▇▄▅▇▃█▇▇▅▆▄▆▆▇▇</td></tr><tr><td>class_4_f_beta_score</td><td>▁▄▅▄▅▅▆▅▄▆█▅▅▄▅▃▆▅▄▇▅▆▅▆▅▄▆▅▄▆▇█▇▇▄▅▅▄▆▅</td></tr><tr><td>class_5_dice_score</td><td>▁▃▂▁▇▄▅▅▄▄▆▄▅▇▆▆▅▄▄▆▄▄▄▆▆▆▇▆▆▆▄█▇▅█▇▆▆▇▆</td></tr><tr><td>class_5_f_beta_score</td><td>▁▂▃▃▄▇▅▅▅▅▅▆▄▆▄▆▃▇▆▆▇▇▆▆▇▆█▇▆▆▇▇▇▇▆▅▆▇▇▆</td></tr><tr><td>class_6_dice_score</td><td>▅▇▄▄▅▅▇▁▇▃▇▇▇▄▄▇▅█▆▇▇▆▆▆█▇▆▇█▆▇▇▇▅▇▆█▆▆▄</td></tr><tr><td>class_6_f_beta_score</td><td>▃▂▄▄▂▇▆▆█▄▅▅▃▄▆▂▄▅▅▇▂▄▇▃▁▆▄▆▇▅▃▄▅▄▆▆▃▃▆▅</td></tr><tr><td>epoch</td><td>▁▁▁▁▁▁▁▂▂▂▂▂▂▂▂▃▃▃▄▄▄▅▅▅▅▅▆▆▆▆▆▆▆▇▇█████</td></tr><tr><td>overall_mean_dice_score</td><td>▁▃▃▃▄▅▆▅▆▅▆▇▄▇▆▅▆▆▇▇▆▇█▇▇▇▇▇▇▇▇▇████▇█▇█</td></tr><tr><td>overall_mean_f_beta_score</td><td>▁▂▅▄▄▅▆▅▅▅▅▇▄▆▇▆▆▇▆▇▇█▆▇▆█████▇█████▇█▆█</td></tr><tr><td>train_epoch_loss</td><td>█▆▅▅▅▄▄▄▄▄▃▃▃▃▃▃▃▃▂▂▂▂▂▂▂▂▂▂▂▂▂▂▁▁▁▁▁▁▁▁</td></tr><tr><td>val_epoch_loss</td><td>█▇▆▆▄▅▅▄▅▃▄▃▂▄▄▃▃▃▃▂▄▂▄▃▃▃▃▂▄▂▂▁▃▂▁▂▃▃▂▃</td></tr></table><br/></div><div class=\"wandb-col\"><h3>Run summary:</h3><br/><table class=\"wandb\"><tr><td>class_0_dice_score</td><td>0.98785</td></tr><tr><td>class_0_f_beta_score</td><td>0.98294</td></tr><tr><td>class_1_dice_score</td><td>0.74941</td></tr><tr><td>class_1_f_beta_score</td><td>0.90166</td></tr><tr><td>class_2_dice_score</td><td>0.22091</td></tr><tr><td>class_2_f_beta_score</td><td>0.29086</td></tr><tr><td>class_3_dice_score</td><td>0.41589</td></tr><tr><td>class_3_f_beta_score</td><td>0.55761</td></tr><tr><td>class_4_dice_score</td><td>0.7559</td></tr><tr><td>class_4_f_beta_score</td><td>0.84749</td></tr><tr><td>class_5_dice_score</td><td>0.47559</td></tr><tr><td>class_5_f_beta_score</td><td>0.57955</td></tr><tr><td>class_6_dice_score</td><td>0.86963</td></tr><tr><td>class_6_f_beta_score</td><td>0.94155</td></tr><tr><td>epoch</td><td>79</td></tr><tr><td>overall_mean_dice_score</td><td>0.65328</td></tr><tr><td>overall_mean_f_beta_score</td><td>0.76557</td></tr><tr><td>train_epoch_loss</td><td>0.42081</td></tr><tr><td>val_epoch_loss</td><td>0.43081</td></tr></table><br/></div></div>"
      ],
      "text/plain": [
       "<IPython.core.display.HTML object>"
      ]
     },
     "metadata": {},
     "output_type": "display_data"
    },
    {
     "data": {
      "text/html": [
       " View run <strong style=\"color:#cdcd00\">FLEX_randGaus_511_241_noclswt_gelu_batch_f48_lr1e-03_a0.52_b16_r4_ce0.4_ac1</strong> at: <a href='https://wandb.ai/limbw/czii_UNet/runs/sg2afohm' target=\"_blank\">https://wandb.ai/limbw/czii_UNet/runs/sg2afohm</a><br> View project at: <a href='https://wandb.ai/limbw/czii_UNet' target=\"_blank\">https://wandb.ai/limbw/czii_UNet</a><br>Synced 5 W&B file(s), 0 media file(s), 0 artifact file(s) and 0 other file(s)"
      ],
      "text/plain": [
       "<IPython.core.display.HTML object>"
      ]
     },
     "metadata": {},
     "output_type": "display_data"
    },
    {
     "data": {
      "text/html": [
       "Find logs at: <code>.\\wandb\\run-20250119_023555-sg2afohm\\logs</code>"
      ],
      "text/plain": [
       "<IPython.core.display.HTML object>"
      ]
     },
     "metadata": {},
     "output_type": "display_data"
    }
   ],
   "source": [
    "train_model(\n",
    "    model=model,\n",
    "    train_loader=train_loader,\n",
    "    val_loader=val_loader,\n",
    "    criterion=criterion,\n",
    "    optimizer=optimizer,\n",
    "    num_epochs=num_epochs,\n",
    "    patience=10,\n",
    "    device=device,\n",
    "    start_epoch=start_epoch,\n",
    "    best_val_loss=best_val_loss,\n",
    "    best_val_fbeta_score=best_val_fbeta_score,\n",
    "    calculate_dice_interval=1,\n",
    "    accumulation_steps = accumulation_steps,\n",
    "    pretrained=True,\n",
    "    ) "
   ]
  },
  {
   "cell_type": "code",
   "execution_count": 12,
   "metadata": {},
   "outputs": [
    {
     "name": "stderr",
     "output_type": "stream",
     "text": [
      "Loading dataset: 100%|██████████| 24/24 [00:04<00:00,  5.50it/s]\n",
      "Loading dataset: 100%|██████████| 1/1 [00:00<00:00,  3.04it/s]\n"
     ]
    },
    {
     "name": "stdout",
     "output_type": "stream",
     "text": [
      "torch.Size([16, 1, 32, 96, 96]) torch.Size([16, 1, 32, 96, 96])\n"
     ]
    }
   ],
   "source": [
    "train_img_dir = './datasets/public_data/images'\n",
    "train_label_dir = './datasets/public_data/labels'\n",
    "\n",
    "train_loader, val_loader = None, None\n",
    "train_loader, val_loader = create_dataloaders_bw(\n",
    "    train_img_dir, \n",
    "    train_label_dir, \n",
    "    val_img_dir, \n",
    "    val_label_dir, \n",
    "    non_random_transforms = non_random_transforms, \n",
    "    val_non_random_transforms=non_random_transforms,\n",
    "    random_transforms = random_transforms, \n",
    "    val_random_transforms=val_random_transforms,\n",
    "    batch_size = loader_batch,\n",
    "    num_workers=0,\n",
    "    train_num_repeat=num_repeat\n",
    "    )\n",
    "\n",
    "batch = next(iter(val_loader))\n",
    "images, labels = batch[\"image\"], batch[\"label\"]\n",
    "print(images.shape, labels.shape)"
   ]
  },
  {
   "cell_type": "code",
   "execution_count": 13,
   "metadata": {},
   "outputs": [],
   "source": [
    "torch.backends.cudnn.benchmark = True"
   ]
  },
  {
   "cell_type": "code",
   "execution_count": 14,
   "metadata": {},
   "outputs": [
    {
     "name": "stdout",
     "output_type": "stream",
     "text": [
      "기존 best model 발견: model_checkpoints\\FLEX_randGaus_511_241_noclswt_gelu_batch_f48_lr1e-03_a0.52_b16_r4_ce0.4_ac1\\best_model_pretrained.pt\n"
     ]
    },
    {
     "name": "stderr",
     "output_type": "stream",
     "text": [
      "C:\\Users\\pook0\\AppData\\Local\\Temp\\ipykernel_10132\\3722362581.py:6: FutureWarning: You are using `torch.load` with `weights_only=False` (the current default value), which uses the default pickle module implicitly. It is possible to construct malicious pickle data which will execute arbitrary code during unpickling (See https://github.com/pytorch/pytorch/blob/main/SECURITY.md#untrusted-models for more details). In a future release, the default value for `weights_only` will be flipped to `True`. This limits the functions that could be executed during unpickling. Arbitrary objects will no longer be allowed to be loaded via this mode unless they are explicitly allowlisted by the user via `torch.serialization.add_safe_globals`. We recommend you start setting `weights_only=True` for any use case where you don't have full control of the loaded file. Please open an issue on GitHub for any issues related to this experimental feature.\n",
      "  checkpoint = torch.load(best_model_path, map_location=device)\n"
     ]
    },
    {
     "name": "stdout",
     "output_type": "stream",
     "text": [
      "기존 학습된 가중치를 성공적으로 로드했습니다.\n"
     ]
    }
   ],
   "source": [
    "\n",
    "if checkpoint_dir.exists():\n",
    "    best_model_path = checkpoint_dir / 'best_model_pretrained.pt'\n",
    "    if best_model_path.exists():\n",
    "        print(f\"기존 best model 발견: {best_model_path}\")\n",
    "        try:\n",
    "            checkpoint = torch.load(best_model_path, map_location=device)\n",
    "            # 체크포인트 내부 키 검증\n",
    "            required_keys = ['model_state_dict', 'optimizer_state_dict', 'epoch', 'best_val_loss', 'best_val_fbeta_score']\n",
    "            if all(k in checkpoint for k in required_keys):\n",
    "                model.load_state_dict(checkpoint['model_state_dict'])\n",
    "                optimizer.load_state_dict(checkpoint['optimizer_state_dict'])\n",
    "                start_epoch = checkpoint['epoch']\n",
    "                best_val_loss = checkpoint['best_val_loss']\n",
    "                best_val_fbeta_score = checkpoint['best_val_fbeta_score']\n",
    "                print(\"기존 학습된 가중치를 성공적으로 로드했습니다.\")\n",
    "                checkpoint= None\n",
    "            else:\n",
    "                raise ValueError(\"체크포인트 파일에 필요한 key가 없습니다.\")\n",
    "        except Exception as e:\n",
    "            print(f\"체크포인트 파일을 로드하는 중 오류 발생: {e}\")\n",
    "            \n",
    "lr = lr/2\n",
    "            \n",
    "optimizer = optim.AdamW(model.parameters(), lr=lr, weight_decay=1e-5)\n",
    "scheduler = torch.optim.lr_scheduler.ReduceLROnPlateau(optimizer, patience=5, factor=0.5)\n"
   ]
  },
  {
   "cell_type": "code",
   "execution_count": 15,
   "metadata": {},
   "outputs": [
    {
     "data": {
      "text/html": [
       "Tracking run with wandb version 0.19.1"
      ],
      "text/plain": [
       "<IPython.core.display.HTML object>"
      ]
     },
     "metadata": {},
     "output_type": "display_data"
    },
    {
     "data": {
      "text/html": [
       "Run data is saved locally in <code>d:\\Workspace\\czll\\wandb\\run-20250119_060304-tpsfulsb</code>"
      ],
      "text/plain": [
       "<IPython.core.display.HTML object>"
      ]
     },
     "metadata": {},
     "output_type": "display_data"
    },
    {
     "data": {
      "text/html": [
       "Syncing run <strong><a href='https://wandb.ai/limbw/czii_UNet/runs/tpsfulsb' target=\"_blank\">FLEX_randGaus_511_241_noclswt_gelu_batch_f48_lr1e-03_a0.52_b16_r4_ce0.4_ac1</a></strong> to <a href='https://wandb.ai/limbw/czii_UNet' target=\"_blank\">Weights & Biases</a> (<a href='https://wandb.me/developer-guide' target=\"_blank\">docs</a>)<br>"
      ],
      "text/plain": [
       "<IPython.core.display.HTML object>"
      ]
     },
     "metadata": {},
     "output_type": "display_data"
    },
    {
     "data": {
      "text/html": [
       " View project at <a href='https://wandb.ai/limbw/czii_UNet' target=\"_blank\">https://wandb.ai/limbw/czii_UNet</a>"
      ],
      "text/plain": [
       "<IPython.core.display.HTML object>"
      ]
     },
     "metadata": {},
     "output_type": "display_data"
    },
    {
     "data": {
      "text/html": [
       " View run at <a href='https://wandb.ai/limbw/czii_UNet/runs/tpsfulsb' target=\"_blank\">https://wandb.ai/limbw/czii_UNet/runs/tpsfulsb</a>"
      ],
      "text/plain": [
       "<IPython.core.display.HTML object>"
      ]
     },
     "metadata": {},
     "output_type": "display_data"
    }
   ],
   "source": [
    "import wandb\n",
    "from datetime import datetime\n",
    "\n",
    "current_time = datetime.now().strftime('%Y%m%d_%H%M%S')\n",
    "run_name = folder_name\n",
    "\n",
    "# wandb 초기화\n",
    "wandb.init(\n",
    "    project='czii_UNet',  # 프로젝트 이름 설정\n",
    "    name=run_name,         # 실행(run) 이름 설정\n",
    "    config={\n",
    "        'num_epochs': num_epochs,\n",
    "        'learning_rate': lr,\n",
    "        'batch_size': batch_size,\n",
    "        'lambda': lamda,\n",
    "        \"cross_entropy_weight\": ce_weight,\n",
    "        'feature_size': feature_size,\n",
    "        'img_size': img_size,\n",
    "        'sampling_ratio': ratios_list,\n",
    "        'device': device.type,\n",
    "        \"checkpoint_dir\": str(checkpoint_dir),\n",
    "        \"class_weights\": class_weights.tolist() if class_weights is not None else None,\n",
    "        # \"use_checkpoint\": use_checkpoint,\n",
    "        \"drop_rate\": drop_rate,\n",
    "        # \"attn_drop_rate\": attn_drop_rate,\n",
    "        # \"use_v2\": use_v2,\n",
    "        \"accumulation_steps\": accumulation_steps,\n",
    "        \"num_repeat\": num_repeat,\n",
    "        # \"num_bottleneck\": num_bottleneck,\n",
    "        \n",
    "        # 필요한 하이퍼파라미터 추가\n",
    "    }\n",
    ")\n",
    "# 모델을 wandb에 연결\n",
    "wandb.watch(model, log='all')"
   ]
  },
  {
   "cell_type": "code",
   "execution_count": 16,
   "metadata": {},
   "outputs": [
    {
     "name": "stdout",
     "output_type": "stream",
     "text": [
      "Epoch 65/4000\n"
     ]
    },
    {
     "name": "stderr",
     "output_type": "stream",
     "text": [
      "Training: 100%|██████████| 96/96 [01:19<00:00,  1.20it/s, loss=0.434]\n",
      "Validation: 100%|██████████| 1/1 [00:00<00:00,  1.93it/s, loss=0.416]\n"
     ]
    },
    {
     "name": "stdout",
     "output_type": "stream",
     "text": [
      "Validation Dice Score\n",
      "Class 0: 0.9867, Class 1: 0.7543, Class 2: 0.0000, Class 3: 0.4627, Class 4: 0.7784, Class 5: 0.4993, Class 6: 0.9357, \n",
      "Validation F-beta Score\n",
      "Class 0: 0.9822, Class 1: 0.8482, Class 2: 0.0000, Class 3: 0.5227, Class 4: 0.8553, Class 5: 0.5658, Class 6: 0.9601, \n",
      "\n",
      "Overall Mean Dice Score: 0.6861\n",
      "Overall Mean F-beta Score: 0.7504\n",
      "\n",
      "Training Loss: 0.4408, Validation Loss: 0.4161, Validation F-beta: 0.7504\n",
      "Epoch 66/4000\n"
     ]
    },
    {
     "name": "stderr",
     "output_type": "stream",
     "text": [
      "Training: 100%|██████████| 96/96 [01:18<00:00,  1.23it/s, loss=0.455]\n",
      "Validation: 100%|██████████| 1/1 [00:00<00:00,  1.89it/s, loss=0.406]\n"
     ]
    },
    {
     "name": "stdout",
     "output_type": "stream",
     "text": [
      "Validation Dice Score\n",
      "Class 0: 0.9871, Class 1: 0.7467, Class 2: 0.2922, Class 3: 0.5460, Class 4: 0.7802, Class 5: 0.4758, Class 6: 0.9176, \n",
      "Validation F-beta Score\n",
      "Class 0: 0.9806, Class 1: 0.8498, Class 2: 0.3442, Class 3: 0.7822, Class 4: 0.8705, Class 5: 0.6579, Class 6: 0.9843, \n",
      "\n",
      "Overall Mean Dice Score: 0.6933\n",
      "Overall Mean F-beta Score: 0.8289\n",
      "\n",
      "Training Loss: 0.4345, Validation Loss: 0.4059, Validation F-beta: 0.8289\n",
      "========================================================\n",
      "SUPER Best model saved. Loss:0.4059, Score:0.8289\n",
      "========================================================\n",
      "Epoch 67/4000\n"
     ]
    },
    {
     "name": "stderr",
     "output_type": "stream",
     "text": [
      "Training: 100%|██████████| 96/96 [01:16<00:00,  1.25it/s, loss=0.462]\n",
      "Validation: 100%|██████████| 1/1 [00:00<00:00,  2.02it/s, loss=0.435]\n"
     ]
    },
    {
     "name": "stdout",
     "output_type": "stream",
     "text": [
      "Validation Dice Score\n",
      "Class 0: 0.9872, Class 1: 0.6392, Class 2: 0.4487, Class 3: 0.3072, Class 4: 0.6218, Class 5: 0.4432, Class 6: 0.8798, \n",
      "Validation F-beta Score\n",
      "Class 0: 0.9826, Class 1: 0.8489, Class 2: 0.5309, Class 3: 0.3653, Class 4: 0.7131, Class 5: 0.5461, Class 6: 0.9137, \n",
      "\n",
      "Overall Mean Dice Score: 0.5783\n",
      "Overall Mean F-beta Score: 0.6774\n",
      "\n",
      "Training Loss: 0.4380, Validation Loss: 0.4347, Validation F-beta: 0.6774\n",
      "Epoch 68/4000\n"
     ]
    },
    {
     "name": "stderr",
     "output_type": "stream",
     "text": [
      "Training: 100%|██████████| 96/96 [01:11<00:00,  1.34it/s, loss=0.454]\n",
      "Validation: 100%|██████████| 1/1 [00:00<00:00,  2.01it/s, loss=0.443]\n"
     ]
    },
    {
     "name": "stdout",
     "output_type": "stream",
     "text": [
      "Validation Dice Score\n",
      "Class 0: 0.9856, Class 1: 0.7192, Class 2: 0.3155, Class 3: 0.5851, Class 4: 0.7651, Class 5: 0.5589, Class 6: 0.9453, \n",
      "Validation F-beta Score\n",
      "Class 0: 0.9804, Class 1: 0.8687, Class 2: 0.4902, Class 3: 0.7065, Class 4: 0.7993, Class 5: 0.7071, Class 6: 0.9662, \n",
      "\n",
      "Overall Mean Dice Score: 0.7147\n",
      "Overall Mean F-beta Score: 0.8096\n",
      "\n",
      "Training Loss: 0.4386, Validation Loss: 0.4426, Validation F-beta: 0.8096\n",
      "Epoch 69/4000\n"
     ]
    },
    {
     "name": "stderr",
     "output_type": "stream",
     "text": [
      "Training: 100%|██████████| 96/96 [01:12<00:00,  1.33it/s, loss=0.439]\n",
      "Validation: 100%|██████████| 1/1 [00:00<00:00,  1.92it/s, loss=0.445]\n"
     ]
    },
    {
     "name": "stdout",
     "output_type": "stream",
     "text": [
      "Validation Dice Score\n",
      "Class 0: 0.9859, Class 1: 0.2858, Class 2: 0.0000, Class 3: 0.4974, Class 4: 0.7486, Class 5: 0.4869, Class 6: 0.8880, \n",
      "Validation F-beta Score\n",
      "Class 0: 0.9838, Class 1: 0.6176, Class 2: 0.0000, Class 3: 0.6832, Class 4: 0.7575, Class 5: 0.5010, Class 6: 0.9648, \n",
      "\n",
      "Overall Mean Dice Score: 0.5813\n",
      "Overall Mean F-beta Score: 0.7048\n",
      "\n",
      "Training Loss: 0.4376, Validation Loss: 0.4451, Validation F-beta: 0.7048\n",
      "Epoch 70/4000\n"
     ]
    },
    {
     "name": "stderr",
     "output_type": "stream",
     "text": [
      "Training: 100%|██████████| 96/96 [01:12<00:00,  1.32it/s, loss=0.433]\n",
      "Validation: 100%|██████████| 1/1 [00:00<00:00,  2.00it/s, loss=0.429]\n"
     ]
    },
    {
     "name": "stdout",
     "output_type": "stream",
     "text": [
      "Validation Dice Score\n",
      "Class 0: 0.9855, Class 1: 0.7318, Class 2: 0.0207, Class 3: 0.4363, Class 4: 0.7310, Class 5: 0.5790, Class 6: 0.9348, \n",
      "Validation F-beta Score\n",
      "Class 0: 0.9825, Class 1: 0.8867, Class 2: 0.0231, Class 3: 0.5587, Class 4: 0.7536, Class 5: 0.6445, Class 6: 0.9652, \n",
      "\n",
      "Overall Mean Dice Score: 0.6826\n",
      "Overall Mean F-beta Score: 0.7617\n",
      "\n",
      "Training Loss: 0.4338, Validation Loss: 0.4293, Validation F-beta: 0.7617\n",
      "Epoch 71/4000\n"
     ]
    },
    {
     "name": "stderr",
     "output_type": "stream",
     "text": [
      "Training: 100%|██████████| 96/96 [01:12<00:00,  1.32it/s, loss=0.44] \n",
      "Validation: 100%|██████████| 1/1 [00:00<00:00,  1.93it/s, loss=0.434]\n"
     ]
    },
    {
     "name": "stdout",
     "output_type": "stream",
     "text": [
      "Validation Dice Score\n",
      "Class 0: 0.9830, Class 1: 0.8525, Class 2: 0.1387, Class 3: 0.5554, Class 4: 0.6837, Class 5: 0.4802, Class 6: 0.9344, \n",
      "Validation F-beta Score\n",
      "Class 0: 0.9762, Class 1: 0.9079, Class 2: 0.1957, Class 3: 0.6885, Class 4: 0.8401, Class 5: 0.5183, Class 6: 0.9704, \n",
      "\n",
      "Overall Mean Dice Score: 0.7012\n",
      "Overall Mean F-beta Score: 0.7850\n",
      "\n",
      "Training Loss: 0.4341, Validation Loss: 0.4335, Validation F-beta: 0.7850\n",
      "Epoch 72/4000\n"
     ]
    },
    {
     "name": "stderr",
     "output_type": "stream",
     "text": [
      "Training: 100%|██████████| 96/96 [01:13<00:00,  1.31it/s, loss=0.433]\n",
      "Validation: 100%|██████████| 1/1 [00:00<00:00,  1.92it/s, loss=0.431]\n"
     ]
    },
    {
     "name": "stdout",
     "output_type": "stream",
     "text": [
      "Validation Dice Score\n",
      "Class 0: 0.9867, Class 1: 0.7753, Class 2: 0.3013, Class 3: 0.5399, Class 4: 0.7286, Class 5: 0.2433, Class 6: 0.9439, \n",
      "Validation F-beta Score\n",
      "Class 0: 0.9813, Class 1: 0.8852, Class 2: 0.5099, Class 3: 0.5608, Class 4: 0.7470, Class 5: 0.3998, Class 6: 0.9559, \n",
      "\n",
      "Overall Mean Dice Score: 0.6462\n",
      "Overall Mean F-beta Score: 0.7098\n",
      "\n",
      "Training Loss: 0.4350, Validation Loss: 0.4312, Validation F-beta: 0.7098\n",
      "Epoch 73/4000\n"
     ]
    },
    {
     "name": "stderr",
     "output_type": "stream",
     "text": [
      "Training: 100%|██████████| 96/96 [01:10<00:00,  1.36it/s, loss=0.443]\n",
      "Validation: 100%|██████████| 1/1 [00:00<00:00,  2.00it/s, loss=0.4]\n"
     ]
    },
    {
     "name": "stdout",
     "output_type": "stream",
     "text": [
      "Validation Dice Score\n",
      "Class 0: 0.9882, Class 1: 0.7729, Class 2: 0.1665, Class 3: 0.5759, Class 4: 0.8200, Class 5: 0.5018, Class 6: 0.9249, \n",
      "Validation F-beta Score\n",
      "Class 0: 0.9824, Class 1: 0.8846, Class 2: 0.3402, Class 3: 0.6973, Class 4: 0.8762, Class 5: 0.6838, Class 6: 0.9702, \n",
      "\n",
      "Overall Mean Dice Score: 0.7191\n",
      "Overall Mean F-beta Score: 0.8224\n",
      "\n",
      "Training Loss: 0.4352, Validation Loss: 0.3999, Validation F-beta: 0.8224\n",
      "Epoch 74/4000\n"
     ]
    },
    {
     "name": "stderr",
     "output_type": "stream",
     "text": [
      "Training: 100%|██████████| 96/96 [01:10<00:00,  1.37it/s, loss=0.444]\n",
      "Validation: 100%|██████████| 1/1 [00:00<00:00,  2.06it/s, loss=0.429]\n"
     ]
    },
    {
     "name": "stdout",
     "output_type": "stream",
     "text": [
      "Validation Dice Score\n",
      "Class 0: 0.9890, Class 1: 0.7777, Class 2: 0.0000, Class 3: 0.5938, Class 4: 0.6883, Class 5: 0.5033, Class 6: 0.9499, \n",
      "Validation F-beta Score\n",
      "Class 0: 0.9859, Class 1: 0.8874, Class 2: 0.0000, Class 3: 0.6914, Class 4: 0.8132, Class 5: 0.5226, Class 6: 0.9622, \n",
      "\n",
      "Overall Mean Dice Score: 0.7026\n",
      "Overall Mean F-beta Score: 0.7753\n",
      "\n",
      "Training Loss: 0.4348, Validation Loss: 0.4289, Validation F-beta: 0.7753\n",
      "Epoch 75/4000\n"
     ]
    },
    {
     "name": "stderr",
     "output_type": "stream",
     "text": [
      "Training: 100%|██████████| 96/96 [01:10<00:00,  1.36it/s, loss=0.425]\n",
      "Validation: 100%|██████████| 1/1 [00:00<00:00,  1.99it/s, loss=0.437]\n"
     ]
    },
    {
     "name": "stdout",
     "output_type": "stream",
     "text": [
      "Validation Dice Score\n",
      "Class 0: 0.9875, Class 1: 0.8700, Class 2: 0.2141, Class 3: 0.3286, Class 4: 0.8254, Class 5: 0.5546, Class 6: 0.8946, \n",
      "Validation F-beta Score\n",
      "Class 0: 0.9843, Class 1: 0.8973, Class 2: 0.3005, Class 3: 0.5377, Class 4: 0.8492, Class 5: 0.6122, Class 6: 0.9437, \n",
      "\n",
      "Overall Mean Dice Score: 0.6947\n",
      "Overall Mean F-beta Score: 0.7680\n",
      "\n",
      "Training Loss: 0.4362, Validation Loss: 0.4372, Validation F-beta: 0.7680\n",
      "Epoch 76/4000\n"
     ]
    },
    {
     "name": "stderr",
     "output_type": "stream",
     "text": [
      "Training: 100%|██████████| 96/96 [01:10<00:00,  1.35it/s, loss=0.431]\n",
      "Validation: 100%|██████████| 1/1 [00:00<00:00,  2.04it/s, loss=0.428]\n"
     ]
    },
    {
     "name": "stdout",
     "output_type": "stream",
     "text": [
      "Validation Dice Score\n",
      "Class 0: 0.9840, Class 1: 0.7896, Class 2: 0.3123, Class 3: 0.4720, Class 4: 0.7242, Class 5: 0.4595, Class 6: 0.8955, \n",
      "Validation F-beta Score\n",
      "Class 0: 0.9820, Class 1: 0.8844, Class 2: 0.4396, Class 3: 0.5973, Class 4: 0.7192, Class 5: 0.5070, Class 6: 0.9360, \n",
      "\n",
      "Overall Mean Dice Score: 0.6681\n",
      "Overall Mean F-beta Score: 0.7288\n",
      "\n",
      "Training Loss: 0.4358, Validation Loss: 0.4275, Validation F-beta: 0.7288\n",
      "Epoch 77/4000\n"
     ]
    },
    {
     "name": "stderr",
     "output_type": "stream",
     "text": [
      "Training: 100%|██████████| 96/96 [01:11<00:00,  1.33it/s, loss=0.45] \n",
      "Validation: 100%|██████████| 1/1 [00:00<00:00,  2.08it/s, loss=0.439]\n"
     ]
    },
    {
     "name": "stdout",
     "output_type": "stream",
     "text": [
      "Validation Dice Score\n",
      "Class 0: 0.9821, Class 1: 0.8183, Class 2: 0.0390, Class 3: 0.0294, Class 4: 0.7401, Class 5: 0.5195, Class 6: 0.9228, \n",
      "Validation F-beta Score\n",
      "Class 0: 0.9786, Class 1: 0.8849, Class 2: 0.0506, Class 3: 0.0348, Class 4: 0.7812, Class 5: 0.5507, Class 6: 0.9584, \n",
      "\n",
      "Overall Mean Dice Score: 0.6060\n",
      "Overall Mean F-beta Score: 0.6420\n",
      "\n",
      "Training Loss: 0.4336, Validation Loss: 0.4387, Validation F-beta: 0.6420\n",
      "Epoch 78/4000\n"
     ]
    },
    {
     "name": "stderr",
     "output_type": "stream",
     "text": [
      "Training: 100%|██████████| 96/96 [01:11<00:00,  1.35it/s, loss=0.445]\n",
      "Validation: 100%|██████████| 1/1 [00:00<00:00,  2.02it/s, loss=0.426]\n"
     ]
    },
    {
     "name": "stdout",
     "output_type": "stream",
     "text": [
      "Validation Dice Score\n",
      "Class 0: 0.9870, Class 1: 0.8244, Class 2: 0.1282, Class 3: 0.3651, Class 4: 0.7634, Class 5: 0.5493, Class 6: 0.8975, \n",
      "Validation F-beta Score\n",
      "Class 0: 0.9821, Class 1: 0.9119, Class 2: 0.2046, Class 3: 0.4866, Class 4: 0.8512, Class 5: 0.6163, Class 6: 0.9531, \n",
      "\n",
      "Overall Mean Dice Score: 0.6799\n",
      "Overall Mean F-beta Score: 0.7638\n",
      "\n",
      "Training Loss: 0.4332, Validation Loss: 0.4263, Validation F-beta: 0.7638\n",
      "Epoch 79/4000\n"
     ]
    },
    {
     "name": "stderr",
     "output_type": "stream",
     "text": [
      "Training: 100%|██████████| 96/96 [01:11<00:00,  1.34it/s, loss=0.442]\n",
      "Validation: 100%|██████████| 1/1 [00:00<00:00,  1.95it/s, loss=0.414]\n"
     ]
    },
    {
     "name": "stdout",
     "output_type": "stream",
     "text": [
      "Validation Dice Score\n",
      "Class 0: 0.9868, Class 1: 0.8209, Class 2: 0.2444, Class 3: 0.5915, Class 4: 0.6950, Class 5: 0.5023, Class 6: 0.9071, \n",
      "Validation F-beta Score\n",
      "Class 0: 0.9815, Class 1: 0.8891, Class 2: 0.2880, Class 3: 0.6647, Class 4: 0.7888, Class 5: 0.6527, Class 6: 0.9623, \n",
      "\n",
      "Overall Mean Dice Score: 0.7034\n",
      "Overall Mean F-beta Score: 0.7915\n",
      "\n",
      "Training Loss: 0.4341, Validation Loss: 0.4138, Validation F-beta: 0.7915\n",
      "Epoch 80/4000\n"
     ]
    },
    {
     "name": "stderr",
     "output_type": "stream",
     "text": [
      "Training: 100%|██████████| 96/96 [01:11<00:00,  1.35it/s, loss=0.446]\n",
      "Validation: 100%|██████████| 1/1 [00:00<00:00,  2.00it/s, loss=0.443]\n"
     ]
    },
    {
     "name": "stdout",
     "output_type": "stream",
     "text": [
      "Validation Dice Score\n",
      "Class 0: 0.9872, Class 1: 0.6817, Class 2: 0.3431, Class 3: 0.5083, Class 4: 0.7964, Class 5: 0.4169, Class 6: 0.9333, \n",
      "Validation F-beta Score\n",
      "Class 0: 0.9833, Class 1: 0.9044, Class 2: 0.7044, Class 3: 0.6548, Class 4: 0.8201, Class 5: 0.5337, Class 6: 0.9557, \n",
      "\n",
      "Overall Mean Dice Score: 0.6673\n",
      "Overall Mean F-beta Score: 0.7737\n",
      "\n",
      "Training Loss: 0.4339, Validation Loss: 0.4432, Validation F-beta: 0.7737\n",
      "Epoch 81/4000\n"
     ]
    },
    {
     "name": "stderr",
     "output_type": "stream",
     "text": [
      "Training: 100%|██████████| 96/96 [01:12<00:00,  1.33it/s, loss=0.398]\n",
      "Validation: 100%|██████████| 1/1 [00:00<00:00,  1.95it/s, loss=0.439]\n"
     ]
    },
    {
     "name": "stdout",
     "output_type": "stream",
     "text": [
      "Validation Dice Score\n",
      "Class 0: 0.9872, Class 1: 0.7665, Class 2: 0.1712, Class 3: 0.5274, Class 4: 0.7236, Class 5: 0.4948, Class 6: 0.9325, \n",
      "Validation F-beta Score\n",
      "Class 0: 0.9849, Class 1: 0.8957, Class 2: 0.1720, Class 3: 0.6867, Class 4: 0.7668, Class 5: 0.4785, Class 6: 0.9779, \n",
      "\n",
      "Overall Mean Dice Score: 0.6890\n",
      "Overall Mean F-beta Score: 0.7611\n",
      "\n",
      "Training Loss: 0.4321, Validation Loss: 0.4389, Validation F-beta: 0.7611\n",
      "Epoch 82/4000\n"
     ]
    },
    {
     "name": "stderr",
     "output_type": "stream",
     "text": [
      "Training: 100%|██████████| 96/96 [01:14<00:00,  1.30it/s, loss=0.439]\n",
      "Validation: 100%|██████████| 1/1 [00:00<00:00,  1.92it/s, loss=0.447]\n"
     ]
    },
    {
     "name": "stdout",
     "output_type": "stream",
     "text": [
      "Validation Dice Score\n",
      "Class 0: 0.9851, Class 1: 0.8412, Class 2: 0.0027, Class 3: 0.3131, Class 4: 0.7419, Class 5: 0.1902, Class 6: 0.9335, \n",
      "Validation F-beta Score\n",
      "Class 0: 0.9782, Class 1: 0.8644, Class 2: 0.0043, Class 3: 0.5580, Class 4: 0.8847, Class 5: 0.2380, Class 6: 0.9611, \n",
      "\n",
      "Overall Mean Dice Score: 0.6040\n",
      "Overall Mean F-beta Score: 0.7013\n",
      "\n",
      "Training Loss: 0.4337, Validation Loss: 0.4474, Validation F-beta: 0.7013\n",
      "Epoch 83/4000\n"
     ]
    },
    {
     "name": "stderr",
     "output_type": "stream",
     "text": [
      "Training: 100%|██████████| 96/96 [01:13<00:00,  1.30it/s, loss=0.434]\n",
      "Validation: 100%|██████████| 1/1 [00:00<00:00,  1.94it/s, loss=0.436]"
     ]
    },
    {
     "name": "stdout",
     "output_type": "stream",
     "text": [
      "Validation Dice Score\n",
      "Class 0: 0.9889, Class 1: 0.7747, Class 2: 0.1371, Class 3: 0.5213, Class 4: 0.7809, Class 5: 0.4775, Class 6: 0.9334, \n",
      "Validation F-beta Score\n",
      "Class 0: 0.9843, Class 1: 0.8838, Class 2: 0.2232, Class 3: 0.6392, Class 4: 0.8528, Class 5: 0.6035, Class 6: 0.9697, \n",
      "\n",
      "Overall Mean Dice Score: 0.6976\n",
      "Overall Mean F-beta Score: 0.7898\n",
      "\n",
      "Training Loss: 0.4337, Validation Loss: 0.4364, Validation F-beta: 0.7898\n",
      "Early stopping\n"
     ]
    },
    {
     "name": "stderr",
     "output_type": "stream",
     "text": [
      "\n"
     ]
    },
    {
     "data": {
      "text/html": [],
      "text/plain": [
       "<IPython.core.display.HTML object>"
      ]
     },
     "metadata": {},
     "output_type": "display_data"
    },
    {
     "data": {
      "text/html": [
       "<br>    <style><br>        .wandb-row {<br>            display: flex;<br>            flex-direction: row;<br>            flex-wrap: wrap;<br>            justify-content: flex-start;<br>            width: 100%;<br>        }<br>        .wandb-col {<br>            display: flex;<br>            flex-direction: column;<br>            flex-basis: 100%;<br>            flex: 1;<br>            padding: 10px;<br>        }<br>    </style><br><div class=\"wandb-row\"><div class=\"wandb-col\"><h3>Run history:</h3><br/><table class=\"wandb\"><tr><td>class_0_dice_score</td><td>▆▆▆▅▅▄▂▆▇█▇▃▁▆▆▆▆▄█</td></tr><tr><td>class_0_f_beta_score</td><td>▅▄▆▄▆▆▁▅▅█▇▅▃▅▅▆▇▂▇</td></tr><tr><td>class_1_dice_score</td><td>▇▇▅▆▁▆█▇▇▇█▇▇▇▇▆▇█▇</td></tr><tr><td>class_1_f_beta_score</td><td>▆▇▆▇▁▇█▇▇▇█▇▇█▇██▇▇</td></tr><tr><td>class_2_dice_score</td><td>▁▆█▆▁▁▃▆▄▁▄▆▂▃▅▆▄▁▃</td></tr><tr><td>class_2_f_beta_score</td><td>▁▄▆▆▁▁▃▆▄▁▄▅▂▃▄█▃▁▃</td></tr><tr><td>class_3_dice_score</td><td>▆▇▄█▇▆█▇██▅▆▁▅█▇▇▅▇</td></tr><tr><td>class_3_f_beta_score</td><td>▆█▄▇▇▆▇▆▇▇▆▆▁▅▇▇▇▆▇</td></tr><tr><td>class_4_dice_score</td><td>▆▆▁▆▅▅▃▅█▃█▅▅▆▄▇▅▅▆</td></tr><tr><td>class_4_f_beta_score</td><td>▇▇▁▅▃▃▆▂█▅▇▁▄▇▄▅▃█▇</td></tr><tr><td>class_5_dice_score</td><td>▇▆▆█▆█▆▂▇▇█▆▇▇▇▅▆▁▆</td></tr><tr><td>class_5_f_beta_score</td><td>▆▇▆█▅▇▅▃█▅▇▅▆▇▇▅▅▁▆</td></tr><tr><td>class_6_dice_score</td><td>▇▅▁█▂▆▆▇▆█▂▃▅▃▄▆▆▆▆</td></tr><tr><td>class_6_f_beta_score</td><td>▆█▁▆▆▆▇▅▇▆▄▃▅▅▆▅▇▆▇</td></tr><tr><td>epoch</td><td>▁▁▁▁▁▁▁▁▂▂▂▂▂▃▃▃▃▃▃▃▃▃▄▄▄▄▅▅▅▅▅▅▆▆▆▆▆▇██</td></tr><tr><td>overall_mean_dice_score</td><td>▆▇▁█▁▆▇▄█▇▇▅▂▆▇▅▇▂▇</td></tr><tr><td>overall_mean_f_beta_score</td><td>▅█▂▇▃▅▆▄█▆▆▄▁▆▇▆▅▃▇</td></tr><tr><td>train_epoch_loss</td><td>█▃▆▆▅▂▃▃▃▃▄▄▂▂▃▂▁▂▂</td></tr><tr><td>val_epoch_loss</td><td>▃▂▆▇█▅▆▆▁▅▆▅▇▅▃▇▇█▆</td></tr></table><br/></div><div class=\"wandb-col\"><h3>Run summary:</h3><br/><table class=\"wandb\"><tr><td>class_0_dice_score</td><td>0.9889</td></tr><tr><td>class_0_f_beta_score</td><td>0.98426</td></tr><tr><td>class_1_dice_score</td><td>0.77472</td></tr><tr><td>class_1_f_beta_score</td><td>0.88382</td></tr><tr><td>class_2_dice_score</td><td>0.13707</td></tr><tr><td>class_2_f_beta_score</td><td>0.22318</td></tr><tr><td>class_3_dice_score</td><td>0.52134</td></tr><tr><td>class_3_f_beta_score</td><td>0.63915</td></tr><tr><td>class_4_dice_score</td><td>0.78092</td></tr><tr><td>class_4_f_beta_score</td><td>0.85282</td></tr><tr><td>class_5_dice_score</td><td>0.47755</td></tr><tr><td>class_5_f_beta_score</td><td>0.60346</td></tr><tr><td>class_6_dice_score</td><td>0.93343</td></tr><tr><td>class_6_f_beta_score</td><td>0.96965</td></tr><tr><td>epoch</td><td>83</td></tr><tr><td>overall_mean_dice_score</td><td>0.69759</td></tr><tr><td>overall_mean_f_beta_score</td><td>0.78978</td></tr><tr><td>train_epoch_loss</td><td>0.43365</td></tr><tr><td>val_epoch_loss</td><td>0.43638</td></tr></table><br/></div></div>"
      ],
      "text/plain": [
       "<IPython.core.display.HTML object>"
      ]
     },
     "metadata": {},
     "output_type": "display_data"
    },
    {
     "data": {
      "text/html": [
       " View run <strong style=\"color:#cdcd00\">FLEX_randGaus_511_241_noclswt_gelu_batch_f48_lr1e-03_a0.52_b16_r4_ce0.4_ac1</strong> at: <a href='https://wandb.ai/limbw/czii_UNet/runs/tpsfulsb' target=\"_blank\">https://wandb.ai/limbw/czii_UNet/runs/tpsfulsb</a><br> View project at: <a href='https://wandb.ai/limbw/czii_UNet' target=\"_blank\">https://wandb.ai/limbw/czii_UNet</a><br>Synced 5 W&B file(s), 0 media file(s), 0 artifact file(s) and 0 other file(s)"
      ],
      "text/plain": [
       "<IPython.core.display.HTML object>"
      ]
     },
     "metadata": {},
     "output_type": "display_data"
    },
    {
     "data": {
      "text/html": [
       "Find logs at: <code>.\\wandb\\run-20250119_060304-tpsfulsb\\logs</code>"
      ],
      "text/plain": [
       "<IPython.core.display.HTML object>"
      ]
     },
     "metadata": {},
     "output_type": "display_data"
    }
   ],
   "source": [
    "train_model(\n",
    "    model=model,\n",
    "    train_loader=train_loader,\n",
    "    val_loader=val_loader,\n",
    "    criterion=criterion,\n",
    "    optimizer=optimizer,\n",
    "    num_epochs=num_epochs,\n",
    "    patience=10,\n",
    "    device=device,\n",
    "    start_epoch=start_epoch,\n",
    "    best_val_loss=best_val_loss,\n",
    "    best_val_fbeta_score=best_val_fbeta_score,\n",
    "    calculate_dice_interval=1,\n",
    "    accumulation_steps = accumulation_steps,\n",
    "    pretrained=False,\n",
    "    ) "
   ]
  },
  {
   "cell_type": "code",
   "execution_count": 17,
   "metadata": {},
   "outputs": [
    {
     "ename": "SyntaxError",
     "evalue": "invalid syntax (879943805.py, line 1)",
     "output_type": "error",
     "traceback": [
      "\u001b[1;36m  Cell \u001b[1;32mIn[17], line 1\u001b[1;36m\u001b[0m\n\u001b[1;33m    if:\u001b[0m\n\u001b[1;37m      ^\u001b[0m\n\u001b[1;31mSyntaxError\u001b[0m\u001b[1;31m:\u001b[0m invalid syntax\n"
     ]
    }
   ],
   "source": [
    "if:"
   ]
  },
  {
   "cell_type": "markdown",
   "metadata": {},
   "source": [
    "# VAl"
   ]
  },
  {
   "cell_type": "code",
   "execution_count": null,
   "metadata": {},
   "outputs": [
    {
     "data": {
      "text/html": [
       "Finishing last run (ID:fs6utwyo) before initializing another..."
      ],
      "text/plain": [
       "<IPython.core.display.HTML object>"
      ]
     },
     "metadata": {},
     "output_type": "display_data"
    },
    {
     "data": {
      "application/vnd.jupyter.widget-view+json": {
       "model_id": "29cc3ae761af43baae5aca60b5d2e7f4",
       "version_major": 2,
       "version_minor": 0
      },
      "text/plain": [
       "VBox(children=(Label(value='0.009 MB of 0.009 MB uploaded\\r'), FloatProgress(value=1.0, max=1.0)))"
      ]
     },
     "metadata": {},
     "output_type": "display_data"
    },
    {
     "data": {
      "text/html": [
       "<style>\n",
       "    table.wandb td:nth-child(1) { padding: 0 10px; text-align: left ; width: auto;} td:nth-child(2) {text-align: left ; width: 100%}\n",
       "    .wandb-row { display: flex; flex-direction: row; flex-wrap: wrap; justify-content: flex-start; width: 100% }\n",
       "    .wandb-col { display: flex; flex-direction: column; flex-basis: 100%; flex: 1; padding: 10px; }\n",
       "    </style>\n",
       "<div class=\"wandb-row\"><div class=\"wandb-col\"><h3>Run history:</h3><br/><table class=\"wandb\"><tr><td>class_0_dice_score</td><td>▁</td></tr><tr><td>class_0_f_beta_score</td><td>▁</td></tr><tr><td>class_1_dice_score</td><td>▁</td></tr><tr><td>class_1_f_beta_score</td><td>▁</td></tr><tr><td>class_2_dice_score</td><td>▁</td></tr><tr><td>class_2_f_beta_score</td><td>▁</td></tr><tr><td>class_3_dice_score</td><td>▁</td></tr><tr><td>class_3_f_beta_score</td><td>▁</td></tr><tr><td>class_4_dice_score</td><td>▁</td></tr><tr><td>class_4_f_beta_score</td><td>▁</td></tr><tr><td>class_5_dice_score</td><td>▁</td></tr><tr><td>class_5_f_beta_score</td><td>▁</td></tr><tr><td>class_6_dice_score</td><td>▁</td></tr><tr><td>class_6_f_beta_score</td><td>▁</td></tr><tr><td>epoch</td><td>▁▁▁▁▁▁▁▁▁▁▁▁▁▁▁▁</td></tr><tr><td>overall_mean_dice_score</td><td>▁</td></tr><tr><td>overall_mean_f_beta_score</td><td>▁</td></tr><tr><td>val_epoch_loss</td><td>▁</td></tr></table><br/></div><div class=\"wandb-col\"><h3>Run summary:</h3><br/><table class=\"wandb\"><tr><td>class_0_dice_score</td><td>0.65703</td></tr><tr><td>class_0_f_beta_score</td><td>0.50748</td></tr><tr><td>class_1_dice_score</td><td>0.53332</td></tr><tr><td>class_1_f_beta_score</td><td>0.64703</td></tr><tr><td>class_2_dice_score</td><td>0.00286</td></tr><tr><td>class_2_f_beta_score</td><td>0.02334</td></tr><tr><td>class_3_dice_score</td><td>0.23703</td></tr><tr><td>class_3_f_beta_score</td><td>0.23033</td></tr><tr><td>class_4_dice_score</td><td>0.65487</td></tr><tr><td>class_4_f_beta_score</td><td>0.62525</td></tr><tr><td>class_5_dice_score</td><td>0.47899</td></tr><tr><td>class_5_f_beta_score</td><td>0.51448</td></tr><tr><td>class_6_dice_score</td><td>0.42545</td></tr><tr><td>class_6_f_beta_score</td><td>0.47197</td></tr><tr><td>epoch</td><td>1</td></tr><tr><td>overall_mean_dice_score</td><td>0.42708</td></tr><tr><td>overall_mean_f_beta_score</td><td>0.43141</td></tr><tr><td>val_epoch_loss</td><td>0.7152</td></tr></table><br/></div></div>"
      ],
      "text/plain": [
       "<IPython.core.display.HTML object>"
      ]
     },
     "metadata": {},
     "output_type": "display_data"
    },
    {
     "data": {
      "text/html": [
       " View run <strong style=\"color:#cdcd00\">SwinUNETR96_96_lr0.001_lambda0.52_batch2</strong> at: <a href='https://wandb.ai/waooang/czii_SwinUnetR_val/runs/fs6utwyo' target=\"_blank\">https://wandb.ai/waooang/czii_SwinUnetR_val/runs/fs6utwyo</a><br/> View project at: <a href='https://wandb.ai/waooang/czii_SwinUnetR_val' target=\"_blank\">https://wandb.ai/waooang/czii_SwinUnetR_val</a><br/>Synced 4 W&B file(s), 0 media file(s), 3 artifact file(s) and 0 other file(s)"
      ],
      "text/plain": [
       "<IPython.core.display.HTML object>"
      ]
     },
     "metadata": {},
     "output_type": "display_data"
    },
    {
     "data": {
      "text/html": [
       "Find logs at: <code>.\\wandb\\run-20241219_200219-fs6utwyo\\logs</code>"
      ],
      "text/plain": [
       "<IPython.core.display.HTML object>"
      ]
     },
     "metadata": {},
     "output_type": "display_data"
    },
    {
     "data": {
      "text/html": [
       "Successfully finished last run (ID:fs6utwyo). Initializing new run:<br/>"
      ],
      "text/plain": [
       "<IPython.core.display.HTML object>"
      ]
     },
     "metadata": {},
     "output_type": "display_data"
    },
    {
     "data": {
      "text/html": [
       "Tracking run with wandb version 0.18.3"
      ],
      "text/plain": [
       "<IPython.core.display.HTML object>"
      ]
     },
     "metadata": {},
     "output_type": "display_data"
    },
    {
     "data": {
      "text/html": [
       "Run data is saved locally in <code>e:\\Workspace\\czll\\wandb\\run-20241219_200454-121l7bn3</code>"
      ],
      "text/plain": [
       "<IPython.core.display.HTML object>"
      ]
     },
     "metadata": {},
     "output_type": "display_data"
    },
    {
     "data": {
      "text/html": [
       "Syncing run <strong><a href='https://wandb.ai/waooang/czii_SwinUnetR_val/runs/121l7bn3' target=\"_blank\">SwinUNETR96_96_lr0.001_lambda0.52_batch2</a></strong> to <a href='https://wandb.ai/waooang/czii_SwinUnetR_val' target=\"_blank\">Weights & Biases</a> (<a href='https://wandb.me/run' target=\"_blank\">docs</a>)<br/>"
      ],
      "text/plain": [
       "<IPython.core.display.HTML object>"
      ]
     },
     "metadata": {},
     "output_type": "display_data"
    },
    {
     "data": {
      "text/html": [
       " View project at <a href='https://wandb.ai/waooang/czii_SwinUnetR_val' target=\"_blank\">https://wandb.ai/waooang/czii_SwinUnetR_val</a>"
      ],
      "text/plain": [
       "<IPython.core.display.HTML object>"
      ]
     },
     "metadata": {},
     "output_type": "display_data"
    },
    {
     "data": {
      "text/html": [
       " View run at <a href='https://wandb.ai/waooang/czii_SwinUnetR_val/runs/121l7bn3' target=\"_blank\">https://wandb.ai/waooang/czii_SwinUnetR_val/runs/121l7bn3</a>"
      ],
      "text/plain": [
       "<IPython.core.display.HTML object>"
      ]
     },
     "metadata": {},
     "output_type": "display_data"
    },
    {
     "name": "stderr",
     "output_type": "stream",
     "text": [
      "Loading dataset: 100%|██████████| 4/4 [00:06<00:00,  1.58s/it]\n",
      "C:\\Users\\Seungwoo\\AppData\\Local\\Temp\\ipykernel_21000\\1177025787.py:95: FutureWarning: You are using `torch.load` with `weights_only=False` (the current default value), which uses the default pickle module implicitly. It is possible to construct malicious pickle data which will execute arbitrary code during unpickling (See https://github.com/pytorch/pytorch/blob/main/SECURITY.md#untrusted-models for more details). In a future release, the default value for `weights_only` will be flipped to `True`. This limits the functions that could be executed during unpickling. Arbitrary objects will no longer be allowed to be loaded via this mode unless they are explicitly allowlisted by the user via `torch.serialization.add_safe_globals`. We recommend you start setting `weights_only=True` for any use case where you don't have full control of the loaded file. Please open an issue on GitHub for any issues related to this experimental feature.\n",
      "  checkpoint = torch.load(pretrain_path, map_location=device)\n",
      "Validation: 100%|██████████| 4/4 [00:01<00:00,  2.38it/s, loss=0.865]"
     ]
    },
    {
     "name": "stdout",
     "output_type": "stream",
     "text": [
      "Validation Dice Score\n",
      "Class 0: 0.6570, Class 1: 0.5333, Class 2: 0.0029, Class 3: 0.2370, \n",
      "Class 4: 0.6549, Class 5: 0.4790, Class 6: 0.4255, \n",
      "Validation F-beta Score\n",
      "Class 0: 0.5075, Class 1: 0.6470, Class 2: 0.0233, Class 3: 0.2303, \n",
      "Class 4: 0.6252, Class 5: 0.5145, Class 6: 0.4720, \n",
      "Overall Mean Dice Score: 0.4659\n",
      "Overall Mean F-beta Score: 0.4978\n",
      "\n"
     ]
    },
    {
     "name": "stderr",
     "output_type": "stream",
     "text": [
      "\n"
     ]
    },
    {
     "ename": "",
     "evalue": "",
     "output_type": "error",
     "traceback": [
      "\u001b[1;31mnotebook controller is DISPOSED. \n",
      "\u001b[1;31m자세한 내용은 Jupyter <a href='command:jupyter.viewOutput'>로그</a>를 참조하세요."
     ]
    },
    {
     "ename": "",
     "evalue": "",
     "output_type": "error",
     "traceback": [
      "\u001b[1;31mnotebook controller is DISPOSED. \n",
      "\u001b[1;31m자세한 내용은 Jupyter <a href='command:jupyter.viewOutput'>로그</a>를 참조하세요."
     ]
    }
   ],
   "source": [
    "from monai.data import DataLoader, Dataset, CacheDataset\n",
    "from monai.transforms import (\n",
    "    Compose, LoadImaged, EnsureChannelFirstd, NormalizeIntensityd,\n",
    "    Orientationd, CropForegroundd, GaussianSmoothd, ScaleIntensityd,\n",
    "    RandSpatialCropd, RandRotate90d, RandFlipd, RandGaussianNoised,\n",
    "    ToTensord, RandCropByLabelClassesd\n",
    ")\n",
    "from monai.metrics import DiceMetric\n",
    "from monai.networks.nets import UNETR, SwinUNETR\n",
    "from monai.losses import TverskyLoss\n",
    "import torch\n",
    "import numpy as np\n",
    "from tqdm import tqdm\n",
    "import wandb\n",
    "from src.dataset.dataset import make_val_dataloader\n",
    "\n",
    "val_img_dir = \"./datasets/val/images\"\n",
    "val_label_dir = \"./datasets/val/labels\"\n",
    "img_depth = 96\n",
    "img_size = 96  # Match your patch size\n",
    "n_classes = 7\n",
    "batch_size = 2 # 13.8GB GPU memory required for 128x128 img size\n",
    "num_samples = batch_size # 한 이미지에서 뽑을 샘플 수\n",
    "loader_batch = 1\n",
    "lamda = 0.52\n",
    "\n",
    "wandb.init(\n",
    "    project='czii_SwinUnetR_val',  # 프로젝트 이름 설정\n",
    "    name='SwinUNETR96_96_lr0.001_lambda0.52_batch2',         # 실행(run) 이름 설정\n",
    "    config={\n",
    "        'learning_rate': 0.001,\n",
    "        'batch_size': batch_size,\n",
    "        'lambda': lamda,\n",
    "        'img_size': img_size,\n",
    "        'device': 'cuda',\n",
    "        \"checkpoint_dir\": \"./model_checkpoints/SwinUNETR96_96_lr0.001_lambda0.52_batch2\",\n",
    "        \n",
    "    }\n",
    ")\n",
    "\n",
    "non_random_transforms = Compose([\n",
    "    EnsureChannelFirstd(keys=[\"image\", \"label\"], channel_dim=\"no_channel\"),\n",
    "    NormalizeIntensityd(keys=\"image\"),\n",
    "    Orientationd(keys=[\"image\", \"label\"], axcodes=\"RAS\"),\n",
    "    GaussianSmoothd(\n",
    "        keys=[\"image\"],      # 변환을 적용할 키\n",
    "        sigma=[1.0, 1.0, 1.0]  # 각 축(x, y, z)의 시그마 값\n",
    "        ),\n",
    "])\n",
    "random_transforms = Compose([\n",
    "    RandCropByLabelClassesd(\n",
    "        keys=[\"image\", \"label\"],\n",
    "        label_key=\"label\",\n",
    "        spatial_size=[img_depth, img_size, img_size],\n",
    "        num_classes=n_classes,\n",
    "        num_samples=num_samples, \n",
    "        ratios=ratios_list,\n",
    "    ),\n",
    "    RandRotate90d(keys=[\"image\", \"label\"], prob=0.5, spatial_axes=[1, 2]),\n",
    "    RandFlipd(keys=[\"image\", \"label\"], prob=0.5, spatial_axis=0),\n",
    "])\n",
    "\n",
    "val_loader = make_val_dataloader(\n",
    "    val_img_dir, \n",
    "    val_label_dir, \n",
    "    non_random_transforms = non_random_transforms, \n",
    "    random_transforms = random_transforms, \n",
    "    batch_size = loader_batch,\n",
    "    num_workers=0\n",
    ")\n",
    "criterion = TverskyLoss(\n",
    "    alpha= 1 - lamda,  # FP에 대한 가중치\n",
    "    beta=lamda,       # FN에 대한 가중치\n",
    "    include_background=False,  # 배경 클래스 제외\n",
    "    softmax=True\n",
    ")\n",
    "    \n",
    "    \n",
    "from monai.metrics import DiceMetric\n",
    "\n",
    "img_size = 96\n",
    "img_depth = img_size\n",
    "n_classes = 7 \n",
    "\n",
    "device = torch.device(\"cuda\" if torch.cuda.is_available() else \"cpu\")\n",
    "pretrain_path = \"./model_checkpoints/SwinUNETR96_96_lr0.001_lambda0.52_batch2/best_model.pt\"\n",
    "model = SwinUNETR(\n",
    "    img_size=(img_depth, img_size, img_size),\n",
    "    in_channels=1,\n",
    "    out_channels=n_classes,\n",
    "    feature_size=48,\n",
    "    use_checkpoint=True,\n",
    ").to(device)\n",
    "# Pretrained weights 불러오기\n",
    "checkpoint = torch.load(pretrain_path, map_location=device)\n",
    "model.load_state_dict(checkpoint['model_state_dict'])\n",
    "\n",
    "val_loss, overall_mean_fbeta_score = validate_one_epoch(\n",
    "    model=model, \n",
    "    val_loader=val_loader, \n",
    "    criterion=criterion, \n",
    "    device=device, \n",
    "    epoch=0, \n",
    "    calculate_dice_interval=1\n",
    ")"
   ]
  },
  {
   "cell_type": "markdown",
   "metadata": {},
   "source": [
    "# Inference"
   ]
  },
  {
   "cell_type": "code",
   "execution_count": null,
   "metadata": {},
   "outputs": [
    {
     "ename": "",
     "evalue": "",
     "output_type": "error",
     "traceback": [
      "\u001b[1;31mnotebook controller is DISPOSED. \n",
      "\u001b[1;31m자세한 내용은 Jupyter <a href='command:jupyter.viewOutput'>로그</a>를 참조하세요."
     ]
    },
    {
     "ename": "",
     "evalue": "",
     "output_type": "error",
     "traceback": [
      "\u001b[1;31mnotebook controller is DISPOSED. \n",
      "\u001b[1;31m자세한 내용은 Jupyter <a href='command:jupyter.viewOutput'>로그</a>를 참조하세요."
     ]
    }
   ],
   "source": [
    "from src.dataset.preprocessing import Preprocessor"
   ]
  },
  {
   "cell_type": "code",
   "execution_count": null,
   "metadata": {},
   "outputs": [
    {
     "name": "stdout",
     "output_type": "stream",
     "text": [
      "Done.\n"
     ]
    },
    {
     "ename": "",
     "evalue": "",
     "output_type": "error",
     "traceback": [
      "\u001b[1;31mnotebook controller is DISPOSED. \n",
      "\u001b[1;31m자세한 내용은 Jupyter <a href='command:jupyter.viewOutput'>로그</a>를 참조하세요."
     ]
    },
    {
     "ename": "",
     "evalue": "",
     "output_type": "error",
     "traceback": [
      "\u001b[1;31mnotebook controller is DISPOSED. \n",
      "\u001b[1;31m자세한 내용은 Jupyter <a href='command:jupyter.viewOutput'>로그</a>를 참조하세요."
     ]
    }
   ],
   "source": [
    "from monai.inferers import sliding_window_inference\n",
    "from monai.transforms import Compose, EnsureChannelFirstd, NormalizeIntensityd, Orientationd, GaussianSmoothd\n",
    "from monai.data import DataLoader, Dataset, CacheDataset\n",
    "from monai.networks.nets import SwinUNETR\n",
    "from pathlib import Path\n",
    "import numpy as np\n",
    "import copick\n",
    "\n",
    "import torch\n",
    "print(\"Done.\")"
   ]
  },
  {
   "cell_type": "code",
   "execution_count": null,
   "metadata": {},
   "outputs": [
    {
     "name": "stdout",
     "output_type": "stream",
     "text": [
      "Config file written to ./kaggle/working/copick.config\n",
      "file length: 7\n"
     ]
    },
    {
     "ename": "",
     "evalue": "",
     "output_type": "error",
     "traceback": [
      "\u001b[1;31mnotebook controller is DISPOSED. \n",
      "\u001b[1;31m자세한 내용은 Jupyter <a href='command:jupyter.viewOutput'>로그</a>를 참조하세요."
     ]
    },
    {
     "ename": "",
     "evalue": "",
     "output_type": "error",
     "traceback": [
      "\u001b[1;31mnotebook controller is DISPOSED. \n",
      "\u001b[1;31m자세한 내용은 Jupyter <a href='command:jupyter.viewOutput'>로그</a>를 참조하세요."
     ]
    }
   ],
   "source": [
    "config_blob = \"\"\"{\n",
    "    \"name\": \"czii_cryoet_mlchallenge_2024\",\n",
    "    \"description\": \"2024 CZII CryoET ML Challenge training data.\",\n",
    "    \"version\": \"1.0.0\",\n",
    "\n",
    "    \"pickable_objects\": [\n",
    "        {\n",
    "            \"name\": \"apo-ferritin\",\n",
    "            \"is_particle\": true,\n",
    "            \"pdb_id\": \"4V1W\",\n",
    "            \"label\": 1,\n",
    "            \"color\": [  0, 117, 220, 128],\n",
    "            \"radius\": 60,\n",
    "            \"map_threshold\": 0.0418\n",
    "        },\n",
    "        {\n",
    "          \"name\" : \"beta-amylase\",\n",
    "            \"is_particle\": true,\n",
    "            \"pdb_id\": \"8ZRZ\",\n",
    "            \"label\": 2,\n",
    "            \"color\": [255, 255, 255, 128],\n",
    "            \"radius\": 90,\n",
    "            \"map_threshold\": 0.0578  \n",
    "        },\n",
    "        {\n",
    "            \"name\": \"beta-galactosidase\",\n",
    "            \"is_particle\": true,\n",
    "            \"pdb_id\": \"6X1Q\",\n",
    "            \"label\": 3,\n",
    "            \"color\": [ 76,   0,  92, 128],\n",
    "            \"radius\": 90,\n",
    "            \"map_threshold\": 0.0578\n",
    "        },\n",
    "        {\n",
    "            \"name\": \"ribosome\",\n",
    "            \"is_particle\": true,\n",
    "            \"pdb_id\": \"6EK0\",\n",
    "            \"label\": 4,\n",
    "            \"color\": [  0,  92,  49, 128],\n",
    "            \"radius\": 150,\n",
    "            \"map_threshold\": 0.0374\n",
    "        },\n",
    "        {\n",
    "            \"name\": \"thyroglobulin\",\n",
    "            \"is_particle\": true,\n",
    "            \"pdb_id\": \"6SCJ\",\n",
    "            \"label\": 5,\n",
    "            \"color\": [ 43, 206,  72, 128],\n",
    "            \"radius\": 130,\n",
    "            \"map_threshold\": 0.0278\n",
    "        },\n",
    "        {\n",
    "            \"name\": \"virus-like-particle\",\n",
    "            \"is_particle\": true,\n",
    "            \"label\": 6,\n",
    "            \"color\": [255, 204, 153, 128],\n",
    "            \"radius\": 135,\n",
    "            \"map_threshold\": 0.201\n",
    "        },\n",
    "        {\n",
    "            \"name\": \"membrane\",\n",
    "            \"is_particle\": false,\n",
    "            \"label\": 8,\n",
    "            \"color\": [100, 100, 100, 128]\n",
    "        },\n",
    "        {\n",
    "            \"name\": \"background\",\n",
    "            \"is_particle\": false,\n",
    "            \"label\": 9,\n",
    "            \"color\": [10, 150, 200, 128]\n",
    "        }\n",
    "    ],\n",
    "\n",
    "    \"overlay_root\": \"./kaggle/working/overlay\",\n",
    "\n",
    "    \"overlay_fs_args\": {\n",
    "        \"auto_mkdir\": true\n",
    "    },\n",
    "\n",
    "    \"static_root\": \"./kaggle/input/czii-cryo-et-object-identification/test/static\"\n",
    "}\"\"\"\n",
    "\n",
    "copick_config_path = \"./kaggle/working/copick.config\"\n",
    "preprocessor = Preprocessor(config_blob,copick_config_path=copick_config_path)\n",
    "non_random_transforms = Compose([\n",
    "    EnsureChannelFirstd(keys=[\"image\"], channel_dim=\"no_channel\"),\n",
    "    NormalizeIntensityd(keys=\"image\"),\n",
    "    Orientationd(keys=[\"image\"], axcodes=\"RAS\"),\n",
    "    GaussianSmoothd(\n",
    "        keys=[\"image\"],      # 변환을 적용할 키\n",
    "        sigma=[1.0, 1.0, 1.0]  # 각 축(x, y, z)의 시그마 값\n",
    "        ),\n",
    "    ])"
   ]
  },
  {
   "cell_type": "code",
   "execution_count": null,
   "metadata": {},
   "outputs": [
    {
     "name": "stderr",
     "output_type": "stream",
     "text": [
      "c:\\ProgramData\\anaconda3\\envs\\ship\\Lib\\site-packages\\monai\\utils\\deprecate_utils.py:221: FutureWarning: monai.networks.nets.swin_unetr SwinUNETR.__init__:img_size: Argument `img_size` has been deprecated since version 1.3. It will be removed in version 1.5. The img_size argument is not required anymore and checks on the input size are run during forward().\n",
      "  warn_deprecated(argname, msg, warning_category)\n",
      "C:\\Users\\Seungwoo\\AppData\\Local\\Temp\\ipykernel_6248\\2937359115.py:15: FutureWarning: You are using `torch.load` with `weights_only=False` (the current default value), which uses the default pickle module implicitly. It is possible to construct malicious pickle data which will execute arbitrary code during unpickling (See https://github.com/pytorch/pytorch/blob/main/SECURITY.md#untrusted-models for more details). In a future release, the default value for `weights_only` will be flipped to `True`. This limits the functions that could be executed during unpickling. Arbitrary objects will no longer be allowed to be loaded via this mode unless they are explicitly allowlisted by the user via `torch.serialization.add_safe_globals`. We recommend you start setting `weights_only=True` for any use case where you don't have full control of the loaded file. Please open an issue on GitHub for any issues related to this experimental feature.\n",
      "  checkpoint = torch.load(pretrain_path, map_location=device)\n"
     ]
    },
    {
     "data": {
      "text/plain": [
       "<All keys matched successfully>"
      ]
     },
     "execution_count": 15,
     "metadata": {},
     "output_type": "execute_result"
    },
    {
     "ename": "",
     "evalue": "",
     "output_type": "error",
     "traceback": [
      "\u001b[1;31mnotebook controller is DISPOSED. \n",
      "\u001b[1;31m자세한 내용은 Jupyter <a href='command:jupyter.viewOutput'>로그</a>를 참조하세요."
     ]
    },
    {
     "ename": "",
     "evalue": "",
     "output_type": "error",
     "traceback": [
      "\u001b[1;31mnotebook controller is DISPOSED. \n",
      "\u001b[1;31m자세한 내용은 Jupyter <a href='command:jupyter.viewOutput'>로그</a>를 참조하세요."
     ]
    }
   ],
   "source": [
    "img_size = 96\n",
    "img_depth = img_size\n",
    "n_classes = 7 \n",
    "\n",
    "device = torch.device(\"cuda\" if torch.cuda.is_available() else \"cpu\")\n",
    "pretrain_path = \"./model_checkpoints/SwinUNETR96_96_lr0.001_lambda0.52_batch2/best_model.pt\"\n",
    "model = SwinUNETR(\n",
    "    img_size=(img_depth, img_size, img_size),\n",
    "    in_channels=1,\n",
    "    out_channels=n_classes,\n",
    "    feature_size=48,\n",
    "    use_checkpoint=True,\n",
    ").to(device)\n",
    "# Pretrained weights 불러오기\n",
    "checkpoint = torch.load(pretrain_path, map_location=device)\n",
    "model.load_state_dict(checkpoint['model_state_dict'])\n"
   ]
  },
  {
   "cell_type": "code",
   "execution_count": null,
   "metadata": {},
   "outputs": [
    {
     "name": "stderr",
     "output_type": "stream",
     "text": [
      "Validation:   0%|          | 0/4 [00:03<?, ?it/s, loss=0.764]\n"
     ]
    },
    {
     "ename": "ZeroDivisionError",
     "evalue": "integer modulo by zero",
     "output_type": "error",
     "traceback": [
      "\u001b[1;31m---------------------------------------------------------------------------\u001b[0m",
      "\u001b[1;31mZeroDivisionError\u001b[0m                         Traceback (most recent call last)",
      "Cell \u001b[1;32mIn[16], line 1\u001b[0m\n\u001b[1;32m----> 1\u001b[0m val_loss \u001b[38;5;241m=\u001b[39m \u001b[43mvalidate_one_epoch\u001b[49m\u001b[43m(\u001b[49m\n\u001b[0;32m      2\u001b[0m \u001b[43m            \u001b[49m\u001b[43mmodel\u001b[49m\u001b[38;5;241;43m=\u001b[39;49m\u001b[43mmodel\u001b[49m\u001b[43m,\u001b[49m\u001b[43m \u001b[49m\n\u001b[0;32m      3\u001b[0m \u001b[43m            \u001b[49m\u001b[43mval_loader\u001b[49m\u001b[38;5;241;43m=\u001b[39;49m\u001b[43mval_loader\u001b[49m\u001b[43m,\u001b[49m\u001b[43m \u001b[49m\n\u001b[0;32m      4\u001b[0m \u001b[43m            \u001b[49m\u001b[43mcriterion\u001b[49m\u001b[38;5;241;43m=\u001b[39;49m\u001b[43mcriterion\u001b[49m\u001b[43m,\u001b[49m\u001b[43m \u001b[49m\n\u001b[0;32m      5\u001b[0m \u001b[43m            \u001b[49m\u001b[43mdevice\u001b[49m\u001b[38;5;241;43m=\u001b[39;49m\u001b[43mdevice\u001b[49m\u001b[43m,\u001b[49m\u001b[43m \u001b[49m\n\u001b[0;32m      6\u001b[0m \u001b[43m            \u001b[49m\u001b[43mepoch\u001b[49m\u001b[38;5;241;43m=\u001b[39;49m\u001b[38;5;241;43m1\u001b[39;49m\u001b[43m,\u001b[49m\u001b[43m \u001b[49m\n\u001b[0;32m      7\u001b[0m \u001b[43m            \u001b[49m\u001b[43mcalculate_dice_interval\u001b[49m\u001b[38;5;241;43m=\u001b[39;49m\u001b[38;5;241;43m0\u001b[39;49m\n\u001b[0;32m      8\u001b[0m \u001b[43m        \u001b[49m\u001b[43m)\u001b[49m\n",
      "Cell \u001b[1;32mIn[11], line 64\u001b[0m, in \u001b[0;36mvalidate_one_epoch\u001b[1;34m(model, val_loader, criterion, device, epoch, calculate_dice_interval)\u001b[0m\n\u001b[0;32m     61\u001b[0m pbar\u001b[38;5;241m.\u001b[39mset_postfix(loss\u001b[38;5;241m=\u001b[39mloss\u001b[38;5;241m.\u001b[39mitem())\n\u001b[0;32m     63\u001b[0m \u001b[38;5;66;03m# 각 클래스별 Dice 점수 계산\u001b[39;00m\n\u001b[1;32m---> 64\u001b[0m \u001b[38;5;28;01mif\u001b[39;00m \u001b[43mepoch\u001b[49m\u001b[43m \u001b[49m\u001b[38;5;241;43m%\u001b[39;49m\u001b[43m \u001b[49m\u001b[43mcalculate_dice_interval\u001b[49m \u001b[38;5;241m==\u001b[39m \u001b[38;5;241m0\u001b[39m:\n\u001b[0;32m     65\u001b[0m     \u001b[38;5;28;01mfor\u001b[39;00m i \u001b[38;5;129;01min\u001b[39;00m \u001b[38;5;28mrange\u001b[39m(n_classes):\n\u001b[0;32m     66\u001b[0m         pred_i \u001b[38;5;241m=\u001b[39m (preds \u001b[38;5;241m==\u001b[39m i)\n",
      "\u001b[1;31mZeroDivisionError\u001b[0m: integer modulo by zero"
     ]
    },
    {
     "ename": "",
     "evalue": "",
     "output_type": "error",
     "traceback": [
      "\u001b[1;31mnotebook controller is DISPOSED. \n",
      "\u001b[1;31m자세한 내용은 Jupyter <a href='command:jupyter.viewOutput'>로그</a>를 참조하세요."
     ]
    },
    {
     "ename": "",
     "evalue": "",
     "output_type": "error",
     "traceback": [
      "\u001b[1;31mnotebook controller is DISPOSED. \n",
      "\u001b[1;31m자세한 내용은 Jupyter <a href='command:jupyter.viewOutput'>로그</a>를 참조하세요."
     ]
    }
   ],
   "source": [
    "val_loss = validate_one_epoch(\n",
    "            model=model, \n",
    "            val_loader=val_loader, \n",
    "            criterion=criterion, \n",
    "            device=device, \n",
    "            epoch=1, \n",
    "            calculate_dice_interval=0\n",
    "        )"
   ]
  },
  {
   "cell_type": "code",
   "execution_count": null,
   "metadata": {},
   "outputs": [
    {
     "name": "stdout",
     "output_type": "stream",
     "text": [
      "Processing volume 1/7\n"
     ]
    },
    {
     "name": "stderr",
     "output_type": "stream",
     "text": [
      "Loading dataset: 100%|██████████| 1/1 [00:01<00:00,  1.94s/it]\n"
     ]
    },
    {
     "name": "stdout",
     "output_type": "stream",
     "text": [
      "Processing volume 2/7\n"
     ]
    },
    {
     "name": "stderr",
     "output_type": "stream",
     "text": [
      "Loading dataset: 100%|██████████| 1/1 [00:01<00:00,  1.89s/it]\n"
     ]
    },
    {
     "name": "stdout",
     "output_type": "stream",
     "text": [
      "Processing volume 3/7\n"
     ]
    },
    {
     "name": "stderr",
     "output_type": "stream",
     "text": [
      "Loading dataset: 100%|██████████| 1/1 [00:01<00:00,  1.79s/it]\n"
     ]
    },
    {
     "name": "stdout",
     "output_type": "stream",
     "text": [
      "Submission saved to: submission.csv\n"
     ]
    },
    {
     "ename": "",
     "evalue": "",
     "output_type": "error",
     "traceback": [
      "\u001b[1;31mnotebook controller is DISPOSED. \n",
      "\u001b[1;31m자세한 내용은 Jupyter <a href='command:jupyter.viewOutput'>로그</a>를 참조하세요."
     ]
    },
    {
     "ename": "",
     "evalue": "",
     "output_type": "error",
     "traceback": [
      "\u001b[1;31mnotebook controller is DISPOSED. \n",
      "\u001b[1;31m자세한 내용은 Jupyter <a href='command:jupyter.viewOutput'>로그</a>를 참조하세요."
     ]
    }
   ],
   "source": [
    "import torch\n",
    "import numpy as np\n",
    "from scipy.ndimage import label, center_of_mass\n",
    "import pandas as pd\n",
    "from tqdm import tqdm\n",
    "from monai.data import CacheDataset, DataLoader\n",
    "from monai.transforms import Compose, NormalizeIntensity\n",
    "import cc3d\n",
    "\n",
    "def dict_to_df(coord_dict, experiment_name):\n",
    "    all_coords = []\n",
    "    all_labels = []\n",
    "    \n",
    "    for label, coords in coord_dict.items():\n",
    "        all_coords.append(coords)\n",
    "        all_labels.extend([label] * len(coords))\n",
    "    \n",
    "    all_coords = np.vstack(all_coords)\n",
    "    df = pd.DataFrame({\n",
    "        'experiment': experiment_name,\n",
    "        'particle_type': all_labels,\n",
    "        'x': all_coords[:, 0],\n",
    "        'y': all_coords[:, 1],\n",
    "        'z': all_coords[:, 2]\n",
    "    })\n",
    "    return df\n",
    "\n",
    "id_to_name = {1: \"apo-ferritin\", \n",
    "              2: \"beta-amylase\",\n",
    "              3: \"beta-galactosidase\", \n",
    "              4: \"ribosome\", \n",
    "              5: \"thyroglobulin\", \n",
    "              6: \"virus-like-particle\"}\n",
    "BLOB_THRESHOLD = 200\n",
    "CERTAINTY_THRESHOLD = 0.05\n",
    "\n",
    "classes = [1, 2, 3, 4, 5, 6]\n",
    "\n",
    "model.eval()\n",
    "with torch.no_grad():\n",
    "    location_dfs = []  # DataFrame 리스트로 초기화\n",
    "    \n",
    "    for vol_idx, run in enumerate(preprocessor.root.runs):\n",
    "        print(f\"Processing volume {vol_idx + 1}/{len(preprocessor.root.runs)}\")\n",
    "        tomogram = preprocessor.processing(run=run, task=\"task\")\n",
    "        task_files = [{\"image\": tomogram}]\n",
    "        task_ds = CacheDataset(data=task_files, transform=non_random_transforms)\n",
    "        task_loader = DataLoader(task_ds, batch_size=1, num_workers=0)\n",
    "        \n",
    "        for task_data in task_loader:\n",
    "            images = task_data['image'].to(\"cuda\")\n",
    "            outputs = sliding_window_inference(\n",
    "                inputs=images,\n",
    "                roi_size=(96, 96, 96),  # ROI 크기\n",
    "                sw_batch_size=4,\n",
    "                predictor=model.forward,\n",
    "                overlap=0.1,\n",
    "                sw_device=\"cuda\",\n",
    "                device=\"cpu\",\n",
    "                buffer_steps=1,\n",
    "                buffer_dim=-1\n",
    "            )\n",
    "            outputs = outputs.argmax(dim=1).squeeze(0).cpu().numpy()  # 클래스 채널 예측\n",
    "            location = {}  # 좌표 저장용 딕셔너리\n",
    "            for c in classes:\n",
    "                cc = cc3d.connected_components(outputs == c)  # cc3d 라벨링\n",
    "                stats = cc3d.statistics(cc)\n",
    "                zyx = stats['centroids'][1:] * 10.012444  # 스케일 변환\n",
    "                zyx_large = zyx[stats['voxel_counts'][1:] > BLOB_THRESHOLD]  # 크기 필터링\n",
    "                xyz = np.ascontiguousarray(zyx_large[:, ::-1])  # 좌표 스왑 (z, y, x -> x, y, z)\n",
    "\n",
    "                location[id_to_name[c]] = xyz  # ID 이름 매칭 저장\n",
    "\n",
    "            # 데이터프레임 변환\n",
    "            df = dict_to_df(location, run.name)\n",
    "            location_dfs.append(df)  # 리스트에 추가\n",
    "        \n",
    "        # if vol_idx == 2:\n",
    "        #     break\n",
    "    \n",
    "    # DataFrame 병합\n",
    "    final_df = pd.concat(location_dfs, ignore_index=True)\n",
    "    \n",
    "    # ID 추가 및 CSV 저장\n",
    "    final_df.insert(loc=0, column='id', value=np.arange(len(final_df)))\n",
    "    final_df.to_csv(\"submission.csv\", index=False)\n",
    "    print(\"Submission saved to: submission.csv\")\n"
   ]
  }
 ],
 "metadata": {
  "kernelspec": {
   "display_name": "UM",
   "language": "python",
   "name": "python3"
  },
  "language_info": {
   "codemirror_mode": {
    "name": "ipython",
    "version": 3
   },
   "file_extension": ".py",
   "mimetype": "text/x-python",
   "name": "python",
   "nbconvert_exporter": "python",
   "pygments_lexer": "ipython3",
   "version": "3.12.7"
  }
 },
 "nbformat": 4,
 "nbformat_minor": 2
}
