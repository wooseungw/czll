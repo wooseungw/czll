{
 "cells": [
  {
   "cell_type": "code",
   "execution_count": 1,
   "metadata": {},
   "outputs": [
    {
     "name": "stdout",
     "output_type": "stream",
     "text": [
      "Updated settings.json with datasets_dir: /Users/seungwoo/Workspace/czll\n"
     ]
    }
   ],
   "source": [
    "import json\n",
    "import os\n",
    "\n",
    "# settings.json 파일 경로\n",
    "settings_path = os.path.expanduser('~/Library/Application Support/Ultralytics/settings.json')\n",
    "\n",
    "# 현재 작업 디렉토리\n",
    "current_dir = os.getcwd()\n",
    "\n",
    "# settings.json 수정\n",
    "settings = {\n",
    "    \"datasets_dir\": current_dir,  # 현재 디렉토리를 기본 데이터셋 경로로 설정\n",
    "    \"weights_dir\": \"weights\",\n",
    "    \"runs_dir\": \"runs\"\n",
    "}\n",
    "\n",
    "# 설정 저장\n",
    "os.makedirs(os.path.dirname(settings_path), exist_ok=True)\n",
    "with open(settings_path, 'w') as f:\n",
    "    json.dump(settings, f, indent=2)\n",
    "\n",
    "print(f\"Updated settings.json with datasets_dir: {current_dir}\")"
   ]
  },
  {
   "cell_type": "code",
   "execution_count": null,
   "metadata": {},
   "outputs": [
    {
     "name": "stdout",
     "output_type": "stream",
     "text": [
      "Current working directory: /Users/seungwoo/Workspace/czll\n",
      "New https://pypi.org/project/ultralytics/8.3.32 available 😃 Update with 'pip install -U ultralytics'\n",
      "Ultralytics 8.3.17 🚀 Python-3.12.2 torch-2.2.1 CPU (Apple M3 Pro)\n",
      "\u001b[34m\u001b[1mengine/trainer: \u001b[0mtask=segment, mode=train, model=yolo11n-seg.pt, data=data.yaml, epochs=300, time=None, patience=10, batch=1, imgsz=630, save=True, save_period=-1, cache=False, device=None, workers=8, project=None, name=s_640_dropout025_more_category_, exist_ok=True, pretrained=True, optimizer=AdamW, verbose=True, seed=0, deterministic=True, single_cls=False, rect=False, cos_lr=False, close_mosaic=10, resume=False, amp=True, fraction=1.0, profile=False, freeze=None, multi_scale=False, overlap_mask=True, mask_ratio=4, dropout=0.25, val=True, split=val, save_json=False, save_hybrid=False, conf=None, iou=0.7, max_det=300, half=False, dnn=False, plots=True, source=None, vid_stride=1, stream_buffer=False, visualize=False, augment=False, agnostic_nms=False, classes=None, retina_masks=False, embed=None, show=False, save_frames=False, save_txt=False, save_conf=False, save_crop=False, show_labels=True, show_conf=True, show_boxes=True, line_width=None, format=torchscript, keras=False, optimize=False, int8=False, dynamic=False, simplify=True, opset=None, workspace=4, nms=False, lr0=0.001, lrf=0.01, momentum=0.937, weight_decay=0.0005, warmup_epochs=3.0, warmup_momentum=0.8, warmup_bias_lr=0.1, box=7.5, cls=0.5, dfl=1.5, pose=12.0, kobj=1.0, label_smoothing=0.0, nbs=64, hsv_h=0.015, hsv_s=0.7, hsv_v=0.4, degrees=0.0, translate=0.1, scale=0.5, shear=0.0, perspective=0.0, flipud=0.0, fliplr=0.5, bgr=0.0, mosaic=1.0, mixup=0.0, copy_paste=0.0, copy_paste_mode=flip, auto_augment=randaugment, erasing=0.4, crop_fraction=1.0, cfg=None, tracker=botsort.yaml, save_dir=runs/segment/s_640_dropout025_more_category_\n"
     ]
    }
   ],
   "source": [
    "from ultralytics import YOLO\n",
    "import os\n",
    "\n",
    "# 현재 작업 디렉토리 확인\n",
    "print(\"Current working directory:\", os.getcwd())\n",
    "\n",
    "model = YOLO(\"yolo11n-seg.pt\")\n",
    "result = model.train(\n",
    "    name=\"s_640_dropout025_more_category_\",  # Model name\n",
    "    data=\"data.yaml\",  # 상대 경로 사용\n",
    "    epochs=300,\n",
    "    patience=10,\n",
    "    batch=1,\n",
    "    imgsz=630,\n",
    "    optimizer='AdamW',\n",
    "    lr0=0.001,\n",
    "    dropout=0.25,\n",
    "    \n",
    "    exist_ok=True  # 기존 결과 폴더가 있어도 진행\n",
    ")"
   ]
  }
 ],
 "metadata": {
  "kernelspec": {
   "display_name": "dust",
   "language": "python",
   "name": "python3"
  },
  "language_info": {
   "codemirror_mode": {
    "name": "ipython",
    "version": 3
   },
   "file_extension": ".py",
   "mimetype": "text/x-python",
   "name": "python",
   "nbconvert_exporter": "python",
   "pygments_lexer": "ipython3",
   "version": "3.12.2"
  }
 },
 "nbformat": 4,
 "nbformat_minor": 2
}
