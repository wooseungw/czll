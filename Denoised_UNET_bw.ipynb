{
 "cells": [
  {
   "cell_type": "code",
   "execution_count": 1,
   "metadata": {},
   "outputs": [
    {
     "name": "stderr",
     "output_type": "stream",
     "text": [
      "c:\\Users\\pook0\\.conda\\envs\\UM\\Lib\\site-packages\\tqdm\\auto.py:21: TqdmWarning: IProgress not found. Please update jupyter and ipywidgets. See https://ipywidgets.readthedocs.io/en/stable/user_install.html\n",
      "  from .autonotebook import tqdm as notebook_tqdm\n"
     ]
    },
    {
     "name": "stdout",
     "output_type": "stream",
     "text": [
      "MONAI version: 1.4.0\n",
      "Numpy version: 1.26.4\n",
      "Pytorch version: 2.4.1+cu121\n",
      "MONAI flags: HAS_EXT = False, USE_COMPILED = False, USE_META_DICT = False\n",
      "MONAI rev id: 46a5272196a6c2590ca2589029eed8e4d56ff008\n",
      "MONAI __file__: c:\\Users\\<username>\\.conda\\envs\\UM\\Lib\\site-packages\\monai\\__init__.py\n",
      "\n",
      "Optional dependencies:\n",
      "Pytorch Ignite version: NOT INSTALLED or UNKNOWN VERSION.\n",
      "ITK version: NOT INSTALLED or UNKNOWN VERSION.\n",
      "Nibabel version: 5.3.2\n",
      "scikit-image version: 0.24.0\n",
      "scipy version: 1.14.1\n",
      "Pillow version: 10.2.0\n",
      "Tensorboard version: 2.18.0\n",
      "gdown version: 5.2.0\n",
      "TorchVision version: 0.19.1+cu121\n",
      "tqdm version: 4.66.5\n",
      "lmdb version: NOT INSTALLED or UNKNOWN VERSION.\n",
      "psutil version: 6.0.0\n",
      "pandas version: 2.2.3\n",
      "einops version: 0.8.0\n",
      "transformers version: NOT INSTALLED or UNKNOWN VERSION.\n",
      "mlflow version: 2.17.2\n",
      "pynrrd version: NOT INSTALLED or UNKNOWN VERSION.\n",
      "clearml version: NOT INSTALLED or UNKNOWN VERSION.\n",
      "\n",
      "For details about installing the optional dependencies, please visit:\n",
      "    https://docs.monai.io/en/latest/installation.html#installing-the-recommended-dependencies\n",
      "\n"
     ]
    }
   ],
   "source": [
    "import os\n",
    "import shutil\n",
    "import tempfile\n",
    "\n",
    "import matplotlib.pyplot as plt\n",
    "from tqdm import tqdm\n",
    "\n",
    "import random\n",
    "import numpy as np\n",
    "import torch\n",
    "\n",
    "\n",
    "from monai.losses import DiceCELoss\n",
    "from monai.inferers import sliding_window_inference\n",
    "from monai.transforms import (\n",
    "    AsDiscrete,\n",
    "    EnsureChannelFirstd,\n",
    "    Compose,\n",
    "    CropForegroundd,\n",
    "    LoadImaged,\n",
    "    Orientationd,\n",
    "    RandFlipd,\n",
    "    RandCropByPosNegLabeld,\n",
    "    RandShiftIntensityd,\n",
    "    ScaleIntensityRanged,\n",
    "    Spacingd,\n",
    "    RandRotate90d,\n",
    ")\n",
    "\n",
    "from monai.config import print_config\n",
    "from monai.metrics import DiceMetric\n",
    "# from src.models.swincspunetr import SwinCSPUNETR\n",
    "# from src.models.swincspunetr_unet import SwinCSPUNETR_unet\n",
    "# from src.models.swincspunetr3plus import SwinCSPUNETR3plus\n",
    "\n",
    "from monai.data import (\n",
    "    DataLoader,\n",
    "    CacheDataset,\n",
    "    load_decathlon_datalist,\n",
    "    decollate_batch,\n",
    ")\n",
    "\n",
    "# 랜덤 시드 고정\n",
    "def set_seed(seed):\n",
    "    random.seed(seed)\n",
    "    np.random.seed(seed)\n",
    "    torch.manual_seed(seed)\n",
    "    if torch.cuda.is_available():\n",
    "        torch.cuda.manual_seed_all(seed)\n",
    "\n",
    "set_seed(42)\n",
    "\n",
    "\n",
    "print_config()"
   ]
  },
  {
   "cell_type": "code",
   "execution_count": 2,
   "metadata": {},
   "outputs": [],
   "source": [
    "# class_info = {\n",
    "#     0: {\"name\": \"background\", \"weight\": 0},  # weight 없음\n",
    "#     1: {\"name\": \"apo-ferritin\", \"weight\": 1000},\n",
    "#     2: {\"name\": \"beta-amylase\", \"weight\": 100}, # 4130\n",
    "#     3: {\"name\": \"beta-galactosidase\", \"weight\": 1500}, #3080\n",
    "#     4: {\"name\": \"ribosome\", \"weight\": 1000},\n",
    "#     5: {\"name\": \"thyroglobulin\", \"weight\": 1500},\n",
    "#     6: {\"name\": \"virus-like-particle\", \"weight\": 1000},\n",
    "# }\n",
    "\n",
    "# # 가중치에 비례한 비율 계산\n",
    "# raw_ratios = {\n",
    "#     k: (v[\"weight\"] if v[\"weight\"] is not None else 0.01)  # 가중치 비례, None일 경우 기본값a\n",
    "#     for k, v in class_info.items()\n",
    "# }\n",
    "# total = sum(raw_ratios.values())\n",
    "# ratios = {k: v / total for k, v in raw_ratios.items()}\n",
    "\n",
    "# # 최종 합계가 1인지 확인\n",
    "# final_total = sum(ratios.values())\n",
    "# print(\"클래스 비율:\", ratios)\n",
    "# print(\"최종 합계:\", final_total)\n",
    "\n",
    "# # 비율을 리스트로 변환\n",
    "# ratios_list = [ratios[k] for k in sorted(ratios.keys())]\n",
    "# print(\"클래스 비율 리스트:\", ratios_list)"
   ]
  },
  {
   "cell_type": "markdown",
   "metadata": {},
   "source": [
    "# 모델 설정"
   ]
  },
  {
   "cell_type": "code",
   "execution_count": null,
   "metadata": {},
   "outputs": [],
   "source": [
    "from src.dataset.dataset import create_dataloaders, create_dataloaders_bw\n",
    "from monai.transforms import (\n",
    "    Compose, LoadImaged, EnsureChannelFirstd, NormalizeIntensityd,\n",
    "    Orientationd, CropForegroundd, GaussianSmoothd, ScaleIntensityd,\n",
    "    RandSpatialCropd, RandRotate90d, RandFlipd, RandGaussianNoised,\n",
    "    ToTensord, RandCropByLabelClassesd, RandCropByPosNegLabeld, RandCropd, RandSpatialCrop,\n",
    ")\n",
    "from monai.transforms import CastToTyped\n",
    "import numpy as np\n",
    "\n",
    "train_img_dir = \"./denoised_datasets/train/images\"\n",
    "train_label_dir = \"./denoised_datasets/train/labels\"\n",
    "val_img_dir = \"./denoised_datasets/val/images\"\n",
    "val_label_dir = \"./denoised_datasets/val/labels\"\n",
    "# DATA CONFIG\n",
    "img_size =  96 # Match your patch size\n",
    "img_depth = img_size\n",
    "n_classes = 1\n",
    "batch_size = 16 # 13.8GB GPU memory required for 128x128 img size\n",
    "loader_batch = 1\n",
    "num_samples = batch_size // loader_batch # 한 이미지에서 뽑을 샘플 수\n",
    "num_repeat = 10\n",
    "# MODEL CONFIG\n",
    "num_epochs = 4000\n",
    "lamda = 0.5\n",
    "ce_weight = 0.4\n",
    "lr = 0.001\n",
    "feature_size = 48\n",
    "use_checkpoint = True\n",
    "use_v2 = True\n",
    "drop_rate= 0.2\n",
    "attn_drop_rate = 0.2\n",
    "num_bottleneck = 2\n",
    "# CLASS_WEIGHTS\n",
    "class_weights = None\n",
    "# class_weights = torch.tensor([0.0001, 1, 0.001, 1.1, 1, 1.1, 1], dtype=torch.float32)  # 클래스별 가중치\n",
    "sigma = 2.0\n",
    "accumulation_steps = 1\n",
    "# INIT\n",
    "start_epoch = 0\n",
    "best_val_loss = float('inf')\n",
    "best_val_fbeta_score = 0\n",
    "\n",
    "non_random_transforms = Compose([\n",
    "    EnsureChannelFirstd(keys=[\"image\", \"label\"], channel_dim=\"no_channel\"),\n",
    "    NormalizeIntensityd(keys=\"image\"),\n",
    "    Orientationd(keys=[\"image\", \"label\"], axcodes=\"RAS\"),\n",
    "])\n",
    "val_non_random_transforms = Compose([\n",
    "    EnsureChannelFirstd(keys=[\"image\", \"label\"], channel_dim=\"no_channel\"),\n",
    "    NormalizeIntensityd(keys=\"image\"),\n",
    "    Orientationd(keys=[\"image\", \"label\"], axcodes=\"RAS\"),\n",
    "])\n",
    "random_transforms = Compose([\n",
    "    RandCropd(\n",
    "        keys=[\"image\", \"label\"],\n",
    "        cropper=RandSpatialCrop(roi_size=[img_depth, img_size, img_size], random_center=True, random_size=False)\n",
    "    ),\n",
    "    RandRotate90d(keys=[\"image\", \"label\"], prob=0.5, spatial_axes=[1, 2]),\n",
    "    RandFlipd(keys=[\"image\", \"label\"], prob=0.5, spatial_axis=0),\n",
    "    RandFlipd(keys=[\"image\", \"label\"], prob=0.5, spatial_axis=1),\n",
    "    RandFlipd(keys=[\"image\", \"label\"], prob=0.5, spatial_axis=2),\n",
    "])\n"
   ]
  },
  {
   "cell_type": "code",
   "execution_count": 4,
   "metadata": {},
   "outputs": [
    {
     "name": "stderr",
     "output_type": "stream",
     "text": [
      "Loading dataset: 100%|██████████| 6/6 [00:00<00:00,  9.87it/s]\n",
      "Loading dataset: 100%|██████████| 1/1 [00:00<00:00,  9.62it/s]\n"
     ]
    }
   ],
   "source": [
    "train_loader, val_loader = None, None\n",
    "train_loader, val_loader = create_dataloaders(\n",
    "    train_img_dir, \n",
    "    train_label_dir, \n",
    "    val_img_dir, \n",
    "    val_label_dir, \n",
    "    non_random_transforms = non_random_transforms, \n",
    "    random_transforms = random_transforms, \n",
    "    batch_size = loader_batch,\n",
    "    num_workers=0,train_num_repeat=num_repeat)"
   ]
  },
  {
   "cell_type": "markdown",
   "metadata": {},
   "source": [
    "https://monai.io/model-zoo.html"
   ]
  },
  {
   "cell_type": "code",
   "execution_count": 5,
   "metadata": {},
   "outputs": [],
   "source": [
    "from monai.losses import TverskyLoss\n",
    "import torch\n",
    "import torch.nn as nn\n",
    "\n",
    "criterion = nn.MSELoss()  # 또는 nn.L1Loss()"
   ]
  },
  {
   "cell_type": "code",
   "execution_count": null,
   "metadata": {},
   "outputs": [],
   "source": [
    "import torch.optim as optim\n",
    "from tqdm import tqdm\n",
    "import numpy as np\n",
    "import torch\n",
    "from pathlib import Path\n",
    "from monai.networks.nets import UNet\n",
    "\n",
    "device = torch.device(\"cuda\" if torch.cuda.is_available() else \"cpu\")\n",
    "\n",
    "\n",
    "model = UNet(\n",
    "    spatial_dims=3,\n",
    "    in_channels=1,\n",
    "    out_channels=n_classes,\n",
    "    channels=(32, 64, 128, 256, 512),\n",
    "    strides=(2, 2, 2, 2),\n",
    "    num_res_units=1,\n",
    "    dropout = drop_rate,\n",
    ").to(device)\n",
    "\n",
    "pretrain_str = \"yes\" if use_checkpoint else \"no\"\n",
    "weight_str = \"weighted\" if class_weights is not None else \"\"\n",
    "\n",
    "# 체크포인트 디렉토리 및 파일 설정\n",
    "checkpoint_base_dir = Path(\"./model_checkpoints\")\n",
    "folder_name = f\"Denoising_UNet5_{weight_str}_f{feature_size}_d{img_depth}s{img_size}_numb{num_bottleneck}_lr{lr:.0e}_a{lamda:.2f}_b{1-lamda:.2f}_b{batch_size}_r{num_repeat}_ce{ce_weight}_ac{accumulation_steps}\"\n",
    "checkpoint_dir = checkpoint_base_dir / folder_name\n",
    "optimizer = optim.AdamW(model.parameters(), lr=lr, weight_decay=1e-5)\n",
    "scheduler = torch.optim.lr_scheduler.ReduceLROnPlateau(optimizer, patience=5, factor=0.5)\n",
    "# 체크포인트 디렉토리 생성\n",
    "checkpoint_dir.mkdir(parents=True, exist_ok=True)\n",
    "\n",
    "if checkpoint_dir.exists():\n",
    "    best_model_path = checkpoint_dir / 'best_model.pt'\n",
    "    if best_model_path.exists():\n",
    "        print(f\"기존 best model 발견: {best_model_path}\")\n",
    "        try:\n",
    "            checkpoint = torch.load(best_model_path, map_location=device)\n",
    "            # 체크포인트 내부 키 검증\n",
    "            required_keys = ['model_state_dict', 'optimizer_state_dict', 'epoch', 'best_val_loss']\n",
    "            if all(k in checkpoint for k in required_keys):\n",
    "                model.load_state_dict(checkpoint['model_state_dict'])\n",
    "                optimizer.load_state_dict(checkpoint['optimizer_state_dict'])\n",
    "                start_epoch = checkpoint['epoch']\n",
    "                best_val_loss = checkpoint['best_val_loss']\n",
    "                print(\"기존 학습된 가중치를 성공적으로 로드했습니다.\")\n",
    "                checkpoint= None\n",
    "            else:\n",
    "                raise ValueError(\"체크포인트 파일에 필요한 key가 없습니다.\")\n",
    "        except Exception as e:\n",
    "            print(f\"체크포인트 파일을 로드하는 중 오류 발생: {e}\")"
   ]
  },
  {
   "cell_type": "code",
   "execution_count": 7,
   "metadata": {},
   "outputs": [
    {
     "name": "stdout",
     "output_type": "stream",
     "text": [
      "torch.Size([1, 1, 96, 96, 96]) torch.Size([1, 1, 96, 96, 96])\n"
     ]
    }
   ],
   "source": [
    "batch = next(iter(val_loader))\n",
    "images, labels = batch[\"image\"], batch[\"label\"]\n",
    "print(images.shape, labels.shape)"
   ]
  },
  {
   "cell_type": "code",
   "execution_count": 8,
   "metadata": {},
   "outputs": [],
   "source": [
    "torch.backends.cudnn.benchmark = True"
   ]
  },
  {
   "cell_type": "code",
   "execution_count": 9,
   "metadata": {},
   "outputs": [
    {
     "name": "stderr",
     "output_type": "stream",
     "text": [
      "\u001b[34m\u001b[1mwandb\u001b[0m: Using wandb-core as the SDK backend.  Please refer to https://wandb.me/wandb-core for more information.\n",
      "\u001b[34m\u001b[1mwandb\u001b[0m: Currently logged in as: \u001b[33mpook0612\u001b[0m (\u001b[33mlimbw\u001b[0m). Use \u001b[1m`wandb login --relogin`\u001b[0m to force relogin\n"
     ]
    },
    {
     "data": {
      "text/html": [
       "Tracking run with wandb version 0.19.1"
      ],
      "text/plain": [
       "<IPython.core.display.HTML object>"
      ]
     },
     "metadata": {},
     "output_type": "display_data"
    },
    {
     "data": {
      "text/html": [
       "Run data is saved locally in <code>d:\\Workspace\\czll\\wandb\\run-20250116_143808-ra63kyzo</code>"
      ],
      "text/plain": [
       "<IPython.core.display.HTML object>"
      ]
     },
     "metadata": {},
     "output_type": "display_data"
    },
    {
     "data": {
      "text/html": [
       "Syncing run <strong><a href='https://wandb.ai/limbw/czii/runs/ra63kyzo' target=\"_blank\">Denoising_UNet__f48_d96s96_numb2_lr1e-03_a0.50_b0.50_b16_r4_ce0.4_ac1</a></strong> to <a href='https://wandb.ai/limbw/czii' target=\"_blank\">Weights & Biases</a> (<a href='https://wandb.me/developer-guide' target=\"_blank\">docs</a>)<br>"
      ],
      "text/plain": [
       "<IPython.core.display.HTML object>"
      ]
     },
     "metadata": {},
     "output_type": "display_data"
    },
    {
     "data": {
      "text/html": [
       " View project at <a href='https://wandb.ai/limbw/czii' target=\"_blank\">https://wandb.ai/limbw/czii</a>"
      ],
      "text/plain": [
       "<IPython.core.display.HTML object>"
      ]
     },
     "metadata": {},
     "output_type": "display_data"
    },
    {
     "data": {
      "text/html": [
       " View run at <a href='https://wandb.ai/limbw/czii/runs/ra63kyzo' target=\"_blank\">https://wandb.ai/limbw/czii/runs/ra63kyzo</a>"
      ],
      "text/plain": [
       "<IPython.core.display.HTML object>"
      ]
     },
     "metadata": {},
     "output_type": "display_data"
    }
   ],
   "source": [
    "import wandb\n",
    "from datetime import datetime\n",
    "\n",
    "current_time = datetime.now().strftime('%Y%m%d_%H%M%S')\n",
    "run_name = folder_name\n",
    "\n",
    "# wandb 초기화\n",
    "wandb.init(\n",
    "    project='czii',  # 프로젝트 이름 설정\n",
    "    name=run_name,         # 실행(run) 이름 설정\n",
    "    config={\n",
    "        'num_epochs': num_epochs,\n",
    "        'learning_rate': lr,\n",
    "        'batch_size': batch_size,\n",
    "        'lambda': lamda,\n",
    "        \"cross_entropy_weight\": ce_weight,\n",
    "        'feature_size': feature_size,\n",
    "        'img_size': img_size,\n",
    "        # 'sampling_ratio': ratios_list,\n",
    "        'device': device.type,\n",
    "        \"checkpoint_dir\": str(checkpoint_dir),\n",
    "        \"class_weights\": class_weights.tolist() if class_weights is not None else None,\n",
    "        \"use_checkpoint\": use_checkpoint,\n",
    "        \"drop_rate\": drop_rate,\n",
    "        \"attn_drop_rate\": attn_drop_rate,\n",
    "        \"use_v2\": use_v2,\n",
    "        \"accumulation_steps\": accumulation_steps,\n",
    "        \"num_repeat\": num_repeat,\n",
    "        \"num_bottleneck\": num_bottleneck,\n",
    "        \n",
    "        # 필요한 하이퍼파라미터 추가\n",
    "    }\n",
    ")\n",
    "# 모델을 wandb에 연결\n",
    "wandb.watch(model, log='all')"
   ]
  },
  {
   "cell_type": "markdown",
   "metadata": {},
   "source": [
    "# 학습"
   ]
  },
  {
   "cell_type": "code",
   "execution_count": 10,
   "metadata": {},
   "outputs": [],
   "source": [
    "# from monai.metrics import DiceMetric\n",
    "from skimage.metrics import peak_signal_noise_ratio as psnr\n",
    "from skimage.metrics import structural_similarity as ssim\n",
    "import matplotlib.pyplot as plt\n",
    "    \n",
    "def processing(batch_data, model, criterion, device):\n",
    "    images = batch_data['image'].to(device)  # Input 이미지 (B, 1, 96, 96, 96)\n",
    "    labels = batch_data['label'].to(device)  # 라벨 (B, 1, 96, 96, 96)\n",
    "    \n",
    "    # print(\"shape:\", images.shape, labels.shape)\n",
    "\n",
    "    labels = labels.float()  # 라벨을 float형으로 변환\n",
    "    # print(\"shape:\", images.shape, labels.shape)\n",
    "\n",
    "    # 모델 예측\n",
    "    outputs = model(images)  # outputs: (B, 1, 96, 96, 96)\n",
    "\n",
    "    # Loss 계산\n",
    "    loss = criterion(outputs, labels)\n",
    "    return loss, outputs, labels\n",
    "\n",
    "def train_one_epoch(model, train_loader, criterion, optimizer, device, epoch, accumulation_steps=4):\n",
    "    model.train()\n",
    "    epoch_loss = 0\n",
    "    optimizer.zero_grad()  # 그래디언트 초기화\n",
    "    with tqdm(train_loader, desc='Training') as pbar:\n",
    "        for i, batch_data in enumerate(pbar):\n",
    "            # 손실 계산\n",
    "            loss, _, _ = processing(batch_data, model, criterion, device)\n",
    "\n",
    "            # 그래디언트를 계산하고 누적\n",
    "            loss = loss / accumulation_steps  # 그래디언트 누적을 위한 스케일링\n",
    "            loss.backward()  # 그래디언트 계산 및 누적\n",
    "            \n",
    "            # 그래디언트 업데이트 (accumulation_steps마다 한 번)\n",
    "            if (i + 1) % accumulation_steps == 0 or (i + 1) == len(train_loader):\n",
    "                optimizer.step()  # 파라미터 업데이트\n",
    "                optimizer.zero_grad()  # 누적된 그래디언트 초기화\n",
    "            \n",
    "            # 손실값 누적 (스케일링 복구)\n",
    "            epoch_loss += loss.item() * accumulation_steps  # 실제 손실값 반영\n",
    "            pbar.set_postfix(loss=loss.item() * accumulation_steps)  # 실제 손실값 출력\n",
    "    avg_loss = epoch_loss / len(train_loader)\n",
    "    wandb.log({'train_epoch_loss': avg_loss, 'epoch': epoch + 1})\n",
    "    return avg_loss\n",
    "\n",
    "# PSNR을 계산하는 함수\n",
    "def calculate_psnr(pred, target):\n",
    "    \"\"\"\n",
    "    PSNR을 계산하는 함수\n",
    "    pred: 예측 이미지 (numpy 배열)\n",
    "    target: 실제 이미지 (numpy 배열)\n",
    "    \"\"\"\n",
    "    pred_np = pred.cpu().numpy()\n",
    "    target_np = target.cpu().numpy()\n",
    "    \n",
    "    # 데이터 범위 확인\n",
    "    data_range = target_np.max() - target_np.min()\n",
    "    # print(\"Data range:\", data_range)\n",
    "    \n",
    "    # NaN 또는 Inf 값 확인\n",
    "    # print(\"NaN in pred:\", np.isnan(pred_np).any())\n",
    "    # print(\"NaN in target:\", np.isnan(target_np).any())\n",
    "    # print(\"Inf in pred:\", np.isinf(pred_np).any())\n",
    "    # print(\"Inf in target:\", np.isinf(target_np).any())\n",
    "    \n",
    "    # MSE 값 확인\n",
    "    mse_value = np.mean((target_np - pred_np) ** 2)\n",
    "    # print(\"MSE:\", mse_value)\n",
    "    \n",
    "    psnr_value = psnr(target_np, pred_np, data_range=data_range)\n",
    "    \n",
    "    return psnr_value\n",
    "\n",
    "# 에포크별 검증 함수\n",
    "def validate_one_epoch(model, val_loader, criterion, device, epoch, calculate_dice_interval):\n",
    "    model.eval()\n",
    "    val_loss = 0\n",
    "    \n",
    "    psnr_scores = []\n",
    "    ssim_scores = []\n",
    "    with torch.no_grad():\n",
    "        with tqdm(val_loader, desc='Validation') as pbar:\n",
    "            for batch_data in pbar:\n",
    "                loss, preds, labels = processing(batch_data, model, criterion, device)\n",
    "                val_loss += loss.item()\n",
    "                pbar.set_postfix(loss=loss.item())\n",
    "\n",
    "                # PSNR, SSIM 계산\n",
    "                if epoch % calculate_dice_interval == 0:\n",
    "                    psnr_value = calculate_psnr(preds, labels)\n",
    "                    \n",
    "                    # PSNR, SSIM 값을 로깅\n",
    "                    wandb.log({'psnr': psnr_value, 'epoch': epoch + 1})\n",
    "                    # wandb.log({'ssim': ssim_value, 'epoch': epoch + 1})\n",
    "                    print(f\"PSNR: {psnr_value:.4f},\", end=\", \")\n",
    "                    \n",
    "                    psnr_scores.append(psnr_value)\n",
    "                    # ssim_scores.append(ssim_value)\n",
    "\n",
    "    avg_loss = val_loss / len(val_loader)\n",
    "    # 에포크별 평균 손실 로깅\n",
    "    wandb.log({'val_epoch_loss': avg_loss, 'epoch': epoch + 1})\n",
    "    \n",
    "    if epoch % calculate_dice_interval == 0:\n",
    "        print(\"Validation PSNR and SSIM Scores\")\n",
    "        overall_mean_psnr = np.mean(psnr_scores)\n",
    "        # overall_mean_ssim = np.mean(ssim_scores)\n",
    "        wandb.log({'overall_mean_psnr': overall_mean_psnr, 'epoch': epoch + 1})\n",
    "        print(f\"\\nOverall Mean PSNR: {overall_mean_psnr:.4f}\\n\")\n",
    "\n",
    "    # if overall_mean_fbeta is None:\n",
    "    #     overall_mean_fbeta = 0\n",
    "\n",
    "    # 시각화 코드\n",
    "    # 예측과 라벨을 시각화\n",
    "    \n",
    "    # preds = preds.cpu().numpy()\n",
    "    # labels = labels.cpu().numpy()\n",
    "    # preds = np.squeeze(preds, axis=0)\n",
    "    # preds = np.squeeze(preds, axis=0)\n",
    "    # labels = np.squeeze(labels, axis=0)\n",
    "    # labels = np.squeeze(labels, axis=0)\n",
    "    # # print(preds.shape, labels.shape)\n",
    "    \n",
    "    # slice_idx = 50\n",
    "    # plt.figure(figsize=(10, 5))\n",
    "\n",
    "    # # Image 1 비교\n",
    "    # plt.subplot(1, 2, 1)\n",
    "    # plt.imshow(preds[slice_idx], cmap=\"gray\")\n",
    "    # plt.title(\"Image: Original\")\n",
    "    # plt.axis(\"off\")\n",
    "\n",
    "    # plt.subplot(1, 2, 2)\n",
    "    # plt.imshow(labels[slice_idx], cmap=\"gray\")\n",
    "    # plt.title(\"Label: denoised\")\n",
    "    # plt.axis(\"off\")\n",
    "    # plt.show()\n",
    "    \n",
    "    return val_loss / len(val_loader), overall_mean_psnr\n",
    "\n",
    "def train_model(\n",
    "    model, train_loader, val_loader, criterion, optimizer, num_epochs, patience, \n",
    "    device, start_epoch, best_val_loss, best_val_fbeta_score=0, calculate_dice_interval=1,\n",
    "    accumulation_steps=4\n",
    "):\n",
    "    \"\"\"\n",
    "    모델을 학습하고 검증하는 함수\n",
    "    Args:\n",
    "        model: 학습할 모델\n",
    "        train_loader: 학습 데이터 로더\n",
    "        val_loader: 검증 데이터 로더\n",
    "        criterion: 손실 함수\n",
    "        optimizer: 최적화 알고리즘\n",
    "        num_epochs: 총 학습 epoch 수\n",
    "        patience: early stopping 기준\n",
    "        device: GPU/CPU 장치\n",
    "        start_epoch: 시작 epoch\n",
    "        best_val_loss: 이전 최적 validation loss\n",
    "        best_val_fbeta_score: 이전 최적 validation f-beta score\n",
    "        calculate_dice_interval: Dice 점수 계산 주기\n",
    "    \"\"\"\n",
    "    epochs_no_improve = 0\n",
    "\n",
    "    for epoch in range(start_epoch, num_epochs):\n",
    "        print(f\"Epoch {epoch + 1}/{num_epochs}\")\n",
    "\n",
    "        # Train One Epoch\n",
    "        train_loss = train_one_epoch(\n",
    "            model=model, \n",
    "            train_loader=train_loader, \n",
    "            criterion=criterion, \n",
    "            optimizer=optimizer, \n",
    "            device=device,\n",
    "            epoch=epoch,\n",
    "            accumulation_steps= accumulation_steps\n",
    "        )\n",
    "        \n",
    "        scheduler.step(train_loss)\n",
    "        # Validate One Epoch\n",
    "        val_loss, overall_mean_psnr = validate_one_epoch(\n",
    "            model=model, \n",
    "            val_loader=val_loader, \n",
    "            criterion=criterion, \n",
    "            device=device, \n",
    "            epoch=epoch, \n",
    "            calculate_dice_interval=calculate_dice_interval\n",
    "        )\n",
    "\n",
    "        \n",
    "        print(f\"Training Loss: {train_loss:.4f}, Validation Loss: {val_loss:.4f}, Validation PSNR: {overall_mean_psnr:.4f}\")\n",
    "\n",
    "        if val_loss < best_val_loss and overall_mean_psnr > best_val_fbeta_score:\n",
    "            best_val_loss = val_loss\n",
    "            best_val_fbeta_score = overall_mean_psnr\n",
    "            epochs_no_improve = 0\n",
    "            checkpoint_path = os.path.join(checkpoint_dir, 'best_model.pt')\n",
    "            torch.save({\n",
    "                'epoch': epoch + 1,\n",
    "                'model_state_dict': model.state_dict(),\n",
    "                'optimizer_state_dict': optimizer.state_dict(),\n",
    "                'best_val_loss': best_val_loss,\n",
    "                'best_val_fbeta_score': best_val_fbeta_score\n",
    "            }, checkpoint_path)\n",
    "            print(f\"========================================================\")\n",
    "            print(f\"SUPER Best model saved. Loss:{best_val_loss:.4f}, Score:{best_val_fbeta_score:.4f}\")\n",
    "            print(f\"========================================================\")\n",
    "\n",
    "        # Early stopping 조건 체크\n",
    "        if val_loss >= best_val_loss and overall_mean_psnr <= best_val_fbeta_score:\n",
    "            epochs_no_improve += 1\n",
    "        else:\n",
    "            epochs_no_improve = 0\n",
    "\n",
    "        if epochs_no_improve >= patience:\n",
    "            print(\"Early stopping\")\n",
    "            checkpoint_path = os.path.join(checkpoint_dir, 'last.pt')\n",
    "            torch.save({\n",
    "                'epoch': epoch + 1,\n",
    "                'model_state_dict': model.state_dict(),\n",
    "                'optimizer_state_dict': optimizer.state_dict(),\n",
    "                'best_val_loss': best_val_loss,\n",
    "                'best_val_fbeta_score': best_val_fbeta_score\n",
    "            }, checkpoint_path)\n",
    "            break\n",
    "        # if epochs_no_improve%6 == 0 & epochs_no_improve != 0:\n",
    "        #     # 손실이 개선되지 않았으므로 lambda 감소\n",
    "        #     new_lamda = max(criterion.lamda - 0.01, 0.35)  # 최소값은 0.1로 설정\n",
    "        #     criterion.set_lamda(new_lamda)\n",
    "        #     print(f\"Validation loss did not improve. Reducing lambda to {new_lamda:.4f}\")\n",
    "\n",
    "    wandb.finish()\n"
   ]
  },
  {
   "cell_type": "code",
   "execution_count": 11,
   "metadata": {},
   "outputs": [
    {
     "name": "stdout",
     "output_type": "stream",
     "text": [
      "Epoch 1/4000\n"
     ]
    },
    {
     "name": "stderr",
     "output_type": "stream",
     "text": [
      "Training: 100%|██████████| 24/24 [00:02<00:00, 11.65it/s, loss=3.26e+4]\n",
      "Validation: 100%|██████████| 3/3 [00:00<00:00, 59.31it/s, loss=3.44e+4]\n"
     ]
    },
    {
     "name": "stdout",
     "output_type": "stream",
     "text": [
      "PSNR: 0.1386,, PSNR: -1.1165,, PSNR: 0.3871,, Validation PSNR and SSIM Scores\n",
      "\n",
      "Overall Mean PSNR: -0.1969\n",
      "\n",
      "Training Loss: 36560.1190, Validation Loss: 33978.0247, Validation PSNR: -0.1969\n",
      "Epoch 2/4000\n"
     ]
    },
    {
     "name": "stderr",
     "output_type": "stream",
     "text": [
      "Training: 100%|██████████| 24/24 [00:00<00:00, 62.53it/s, loss=3.19e+4]\n",
      "Validation: 100%|██████████| 3/3 [00:00<00:00, 57.64it/s, loss=3.23e+4]\n"
     ]
    },
    {
     "name": "stdout",
     "output_type": "stream",
     "text": [
      "PSNR: 0.3600,, PSNR: 1.6411,, PSNR: 1.1806,, Validation PSNR and SSIM Scores\n",
      "\n",
      "Overall Mean PSNR: 1.0606\n",
      "\n",
      "Training Loss: 35872.6355, Validation Loss: 33045.0924, Validation PSNR: 1.0606\n",
      "========================================================\n",
      "SUPER Best model saved. Loss:33045.0924, Score:1.0606\n",
      "========================================================\n",
      "Epoch 3/4000\n"
     ]
    },
    {
     "name": "stderr",
     "output_type": "stream",
     "text": [
      "Training: 100%|██████████| 24/24 [00:00<00:00, 57.82it/s, loss=3.13e+4]\n",
      "Validation: 100%|██████████| 3/3 [00:00<00:00, 58.59it/s, loss=3.13e+4]\n"
     ]
    },
    {
     "name": "stdout",
     "output_type": "stream",
     "text": [
      "PSNR: 0.8941,, PSNR: 0.1370,, PSNR: 1.3257,, Validation PSNR and SSIM Scores\n",
      "\n",
      "Overall Mean PSNR: 0.7856\n",
      "\n",
      "Training Loss: 34976.3107, Validation Loss: 32234.4206, Validation PSNR: 0.7856\n",
      "Epoch 4/4000\n"
     ]
    },
    {
     "name": "stderr",
     "output_type": "stream",
     "text": [
      "Training: 100%|██████████| 24/24 [00:00<00:00, 63.66it/s, loss=3.02e+4]\n",
      "Validation: 100%|██████████| 3/3 [00:00<00:00, 57.77it/s, loss=3.21e+4]\n"
     ]
    },
    {
     "name": "stdout",
     "output_type": "stream",
     "text": [
      "PSNR: -0.7355,, PSNR: -0.1956,, PSNR: 0.1314,, Validation PSNR and SSIM Scores\n",
      "\n",
      "Overall Mean PSNR: -0.2666\n",
      "\n",
      "Training Loss: 34175.1925, Validation Loss: 32010.7083, Validation PSNR: -0.2666\n",
      "Epoch 5/4000\n"
     ]
    },
    {
     "name": "stderr",
     "output_type": "stream",
     "text": [
      "Training: 100%|██████████| 24/24 [00:00<00:00, 60.43it/s, loss=2.96e+4]\n",
      "Validation: 100%|██████████| 3/3 [00:00<00:00, 57.54it/s, loss=3.06e+4]\n"
     ]
    },
    {
     "name": "stdout",
     "output_type": "stream",
     "text": [
      "PSNR: -0.4400,, PSNR: 1.3180,, PSNR: 1.1147,, Validation PSNR and SSIM Scores\n",
      "\n",
      "Overall Mean PSNR: 0.6642\n",
      "\n",
      "Training Loss: 33329.5780, Validation Loss: 30342.9121, Validation PSNR: 0.6642\n",
      "Epoch 6/4000\n"
     ]
    },
    {
     "name": "stderr",
     "output_type": "stream",
     "text": [
      "Training: 100%|██████████| 24/24 [00:00<00:00, 64.84it/s, loss=2.84e+4]\n",
      "Validation: 100%|██████████| 3/3 [00:00<00:00, 53.71it/s, loss=2.95e+4]\n"
     ]
    },
    {
     "name": "stdout",
     "output_type": "stream",
     "text": [
      "PSNR: -0.2766,, PSNR: -0.0999,, PSNR: 0.4094,, Validation PSNR and SSIM Scores\n",
      "\n",
      "Overall Mean PSNR: 0.0110\n",
      "\n",
      "Training Loss: 32269.4501, Validation Loss: 29828.9128, Validation PSNR: 0.0110\n",
      "Epoch 7/4000\n"
     ]
    },
    {
     "name": "stderr",
     "output_type": "stream",
     "text": [
      "Training: 100%|██████████| 24/24 [00:00<00:00, 62.47it/s, loss=2.77e+4]\n",
      "Validation: 100%|██████████| 3/3 [00:00<00:00, 59.07it/s, loss=2.94e+4]\n"
     ]
    },
    {
     "name": "stdout",
     "output_type": "stream",
     "text": [
      "PSNR: 1.5955,, PSNR: 1.7966,, PSNR: 2.2104,, Validation PSNR and SSIM Scores\n",
      "\n",
      "Overall Mean PSNR: 1.8675\n",
      "\n",
      "Training Loss: 31289.2298, Validation Loss: 28833.0742, Validation PSNR: 1.8675\n",
      "========================================================\n",
      "SUPER Best model saved. Loss:28833.0742, Score:1.8675\n",
      "========================================================\n",
      "Epoch 8/4000\n"
     ]
    },
    {
     "name": "stderr",
     "output_type": "stream",
     "text": [
      "Training: 100%|██████████| 24/24 [00:00<00:00, 66.21it/s, loss=2.65e+4]\n",
      "Validation: 100%|██████████| 3/3 [00:00<00:00, 58.57it/s, loss=2.8e+4]\n"
     ]
    },
    {
     "name": "stdout",
     "output_type": "stream",
     "text": [
      "PSNR: 1.8741,, PSNR: 0.9743,, PSNR: 1.8883,, Validation PSNR and SSIM Scores\n",
      "\n",
      "Overall Mean PSNR: 1.5789\n",
      "\n",
      "Training Loss: 30312.4170, Validation Loss: 27310.2122, Validation PSNR: 1.5789\n",
      "Epoch 9/4000\n"
     ]
    },
    {
     "name": "stderr",
     "output_type": "stream",
     "text": [
      "Training: 100%|██████████| 24/24 [00:00<00:00, 61.23it/s, loss=2.56e+4]\n",
      "Validation: 100%|██████████| 3/3 [00:00<00:00, 60.19it/s, loss=2.62e+4]\n"
     ]
    },
    {
     "name": "stdout",
     "output_type": "stream",
     "text": [
      "PSNR: 2.5015,, PSNR: 0.3919,, PSNR: 1.4316,, Validation PSNR and SSIM Scores\n",
      "\n",
      "Overall Mean PSNR: 1.4417\n",
      "\n",
      "Training Loss: 29250.2807, Validation Loss: 26742.7891, Validation PSNR: 1.4417\n",
      "Epoch 10/4000\n"
     ]
    },
    {
     "name": "stderr",
     "output_type": "stream",
     "text": [
      "Training: 100%|██████████| 24/24 [00:00<00:00, 63.01it/s, loss=2.48e+4]\n",
      "Validation: 100%|██████████| 3/3 [00:00<00:00, 62.92it/s, loss=2.54e+4]\n"
     ]
    },
    {
     "name": "stdout",
     "output_type": "stream",
     "text": [
      "PSNR: 0.9364,, PSNR: 2.5548,, PSNR: 1.8018,, Validation PSNR and SSIM Scores\n",
      "\n",
      "Overall Mean PSNR: 1.7644\n",
      "\n",
      "Training Loss: 28142.4178, Validation Loss: 24882.3509, Validation PSNR: 1.7644\n",
      "Epoch 11/4000\n"
     ]
    },
    {
     "name": "stderr",
     "output_type": "stream",
     "text": [
      "Training: 100%|██████████| 24/24 [00:00<00:00, 61.16it/s, loss=2.35e+4]\n",
      "Validation: 100%|██████████| 3/3 [00:00<00:00, 55.01it/s, loss=2.47e+4]\n"
     ]
    },
    {
     "name": "stdout",
     "output_type": "stream",
     "text": [
      "PSNR: 1.9933,, PSNR: 1.0447,, PSNR: 0.7413,, Validation PSNR and SSIM Scores\n",
      "\n",
      "Overall Mean PSNR: 1.2598\n",
      "\n",
      "Training Loss: 26984.0276, Validation Loss: 24685.7624, Validation PSNR: 1.2598\n",
      "Epoch 12/4000\n"
     ]
    },
    {
     "name": "stderr",
     "output_type": "stream",
     "text": [
      "Training: 100%|██████████| 24/24 [00:00<00:00, 65.32it/s, loss=2.19e+4]\n",
      "Validation: 100%|██████████| 3/3 [00:00<00:00, 59.24it/s, loss=2.3e+4]\n"
     ]
    },
    {
     "name": "stdout",
     "output_type": "stream",
     "text": [
      "PSNR: 1.5712,, PSNR: 3.1239,, PSNR: 1.9996,, Validation PSNR and SSIM Scores\n",
      "\n",
      "Overall Mean PSNR: 2.2316\n",
      "\n",
      "Training Loss: 25789.3529, Validation Loss: 23808.2878, Validation PSNR: 2.2316\n",
      "========================================================\n",
      "SUPER Best model saved. Loss:23808.2878, Score:2.2316\n",
      "========================================================\n",
      "Epoch 13/4000\n"
     ]
    },
    {
     "name": "stderr",
     "output_type": "stream",
     "text": [
      "Training: 100%|██████████| 24/24 [00:00<00:00, 59.74it/s, loss=2.14e+4]\n",
      "Validation: 100%|██████████| 3/3 [00:00<00:00, 62.00it/s, loss=2.21e+4]\n"
     ]
    },
    {
     "name": "stdout",
     "output_type": "stream",
     "text": [
      "PSNR: 2.5975,, PSNR: 1.4026,, PSNR: 1.7529,, Validation PSNR and SSIM Scores\n",
      "\n",
      "Overall Mean PSNR: 1.9177\n",
      "\n",
      "Training Loss: 24703.0634, Validation Loss: 22340.1680, Validation PSNR: 1.9177\n",
      "Epoch 14/4000\n"
     ]
    },
    {
     "name": "stderr",
     "output_type": "stream",
     "text": [
      "Training: 100%|██████████| 24/24 [00:00<00:00, 63.19it/s, loss=2.03e+4]\n",
      "Validation: 100%|██████████| 3/3 [00:00<00:00, 58.44it/s, loss=2.15e+4]\n"
     ]
    },
    {
     "name": "stdout",
     "output_type": "stream",
     "text": [
      "PSNR: 1.3105,, PSNR: 1.9940,, PSNR: 2.3378,, Validation PSNR and SSIM Scores\n",
      "\n",
      "Overall Mean PSNR: 1.8808\n",
      "\n",
      "Training Loss: 23564.6806, Validation Loss: 21427.5124, Validation PSNR: 1.8808\n",
      "Epoch 15/4000\n"
     ]
    },
    {
     "name": "stderr",
     "output_type": "stream",
     "text": [
      "Training: 100%|██████████| 24/24 [00:00<00:00, 57.69it/s, loss=1.92e+4]\n",
      "Validation: 100%|██████████| 3/3 [00:00<00:00, 59.30it/s, loss=2.03e+4]\n"
     ]
    },
    {
     "name": "stdout",
     "output_type": "stream",
     "text": [
      "PSNR: 2.7604,, PSNR: 2.3222,, PSNR: 3.0683,, Validation PSNR and SSIM Scores\n",
      "\n",
      "Overall Mean PSNR: 2.7170\n",
      "\n",
      "Training Loss: 22472.0964, Validation Loss: 20387.7266, Validation PSNR: 2.7170\n",
      "========================================================\n",
      "SUPER Best model saved. Loss:20387.7266, Score:2.7170\n",
      "========================================================\n",
      "Epoch 16/4000\n"
     ]
    },
    {
     "name": "stderr",
     "output_type": "stream",
     "text": [
      "Training: 100%|██████████| 24/24 [00:00<00:00, 61.45it/s, loss=1.83e+4]\n",
      "Validation: 100%|██████████| 3/3 [00:00<00:00, 58.31it/s, loss=1.91e+4]\n"
     ]
    },
    {
     "name": "stdout",
     "output_type": "stream",
     "text": [
      "PSNR: 4.7393,, PSNR: 3.9775,, PSNR: 3.2581,, Validation PSNR and SSIM Scores\n",
      "\n",
      "Overall Mean PSNR: 3.9916\n",
      "\n",
      "Training Loss: 21405.8085, Validation Loss: 19376.0820, Validation PSNR: 3.9916\n",
      "========================================================\n",
      "SUPER Best model saved. Loss:19376.0820, Score:3.9916\n",
      "========================================================\n",
      "Epoch 17/4000\n"
     ]
    },
    {
     "name": "stderr",
     "output_type": "stream",
     "text": [
      "Training: 100%|██████████| 24/24 [00:00<00:00, 57.64it/s, loss=1.75e+4]\n",
      "Validation: 100%|██████████| 3/3 [00:00<00:00, 56.02it/s, loss=1.84e+4]\n"
     ]
    },
    {
     "name": "stdout",
     "output_type": "stream",
     "text": [
      "PSNR: 2.4036,, PSNR: 3.8794,, PSNR: 2.9358,, Validation PSNR and SSIM Scores\n",
      "\n",
      "Overall Mean PSNR: 3.0730\n",
      "\n",
      "Training Loss: 20338.1809, Validation Loss: 18051.3014, Validation PSNR: 3.0730\n",
      "Epoch 18/4000\n"
     ]
    },
    {
     "name": "stderr",
     "output_type": "stream",
     "text": [
      "Training: 100%|██████████| 24/24 [00:00<00:00, 62.81it/s, loss=1.65e+4]\n",
      "Validation: 100%|██████████| 3/3 [00:00<00:00, 52.77it/s, loss=1.71e+4]\n"
     ]
    },
    {
     "name": "stdout",
     "output_type": "stream",
     "text": [
      "PSNR: 4.3845,, PSNR: 3.4871,, PSNR: 3.1895,, Validation PSNR and SSIM Scores\n",
      "\n",
      "Overall Mean PSNR: 3.6870\n",
      "\n",
      "Training Loss: 19273.8812, Validation Loss: 17499.7630, Validation PSNR: 3.6870\n",
      "Epoch 19/4000\n"
     ]
    },
    {
     "name": "stderr",
     "output_type": "stream",
     "text": [
      "Training: 100%|██████████| 24/24 [00:00<00:00, 61.13it/s, loss=1.55e+4]\n",
      "Validation: 100%|██████████| 3/3 [00:00<00:00, 55.18it/s, loss=1.63e+4]\n"
     ]
    },
    {
     "name": "stdout",
     "output_type": "stream",
     "text": [
      "PSNR: 3.7605,, PSNR: 4.6614,, PSNR: 3.6847,, Validation PSNR and SSIM Scores\n",
      "\n",
      "Overall Mean PSNR: 4.0355\n",
      "\n",
      "Training Loss: 18298.6650, Validation Loss: 16378.7080, Validation PSNR: 4.0355\n",
      "========================================================\n",
      "SUPER Best model saved. Loss:16378.7080, Score:4.0355\n",
      "========================================================\n",
      "Epoch 20/4000\n"
     ]
    },
    {
     "name": "stderr",
     "output_type": "stream",
     "text": [
      "Training: 100%|██████████| 24/24 [00:00<00:00, 62.31it/s, loss=1.46e+4]\n",
      "Validation: 100%|██████████| 3/3 [00:00<00:00, 55.30it/s, loss=1.49e+4]\n"
     ]
    },
    {
     "name": "stdout",
     "output_type": "stream",
     "text": [
      "PSNR: 3.1219,, PSNR: 3.1974,, PSNR: 4.0323,, Validation PSNR and SSIM Scores\n",
      "\n",
      "Overall Mean PSNR: 3.4505\n",
      "\n",
      "Training Loss: 17258.9014, Validation Loss: 15047.0596, Validation PSNR: 3.4505\n",
      "Epoch 21/4000\n"
     ]
    },
    {
     "name": "stderr",
     "output_type": "stream",
     "text": [
      "Training: 100%|██████████| 24/24 [00:00<00:00, 58.57it/s, loss=1.33e+4]\n",
      "Validation: 100%|██████████| 3/3 [00:00<00:00, 58.21it/s, loss=1.45e+4]\n"
     ]
    },
    {
     "name": "stdout",
     "output_type": "stream",
     "text": [
      "PSNR: 4.4743,, PSNR: 4.2611,, PSNR: 4.4608,, Validation PSNR and SSIM Scores\n",
      "\n",
      "Overall Mean PSNR: 4.3987\n",
      "\n",
      "Training Loss: 16341.8643, Validation Loss: 14282.8665, Validation PSNR: 4.3987\n",
      "========================================================\n",
      "SUPER Best model saved. Loss:14282.8665, Score:4.3987\n",
      "========================================================\n",
      "Epoch 22/4000\n"
     ]
    },
    {
     "name": "stderr",
     "output_type": "stream",
     "text": [
      "Training: 100%|██████████| 24/24 [00:00<00:00, 60.77it/s, loss=1.3e+4] \n",
      "Validation: 100%|██████████| 3/3 [00:00<00:00, 59.78it/s, loss=1.38e+4]\n"
     ]
    },
    {
     "name": "stdout",
     "output_type": "stream",
     "text": [
      "PSNR: 4.3762,, PSNR: 3.3209,, PSNR: 3.2137,, Validation PSNR and SSIM Scores\n",
      "\n",
      "Overall Mean PSNR: 3.6369\n",
      "\n",
      "Training Loss: 15461.2579, Validation Loss: 13915.0046, Validation PSNR: 3.6369\n",
      "Epoch 23/4000\n"
     ]
    },
    {
     "name": "stderr",
     "output_type": "stream",
     "text": [
      "Training: 100%|██████████| 24/24 [00:00<00:00, 58.26it/s, loss=1.21e+4]\n",
      "Validation: 100%|██████████| 3/3 [00:00<00:00, 54.76it/s, loss=1.29e+4]\n"
     ]
    },
    {
     "name": "stdout",
     "output_type": "stream",
     "text": [
      "PSNR: 3.3306,, PSNR: 3.8666,, PSNR: 3.6978,, Validation PSNR and SSIM Scores\n",
      "\n",
      "Overall Mean PSNR: 3.6317\n",
      "\n",
      "Training Loss: 14540.9766, Validation Loss: 13110.4274, Validation PSNR: 3.6317\n",
      "Epoch 24/4000\n"
     ]
    },
    {
     "name": "stderr",
     "output_type": "stream",
     "text": [
      "Training: 100%|██████████| 24/24 [00:00<00:00, 62.23it/s, loss=1.15e+4]\n",
      "Validation: 100%|██████████| 3/3 [00:00<00:00, 57.89it/s, loss=1.22e+4]\n"
     ]
    },
    {
     "name": "stdout",
     "output_type": "stream",
     "text": [
      "PSNR: 5.5348,, PSNR: 5.7384,, PSNR: 2.7134,, Validation PSNR and SSIM Scores\n",
      "\n",
      "Overall Mean PSNR: 4.6622\n",
      "\n",
      "Training Loss: 13764.2172, Validation Loss: 11846.8382, Validation PSNR: 4.6622\n",
      "========================================================\n",
      "SUPER Best model saved. Loss:11846.8382, Score:4.6622\n",
      "========================================================\n",
      "Epoch 25/4000\n"
     ]
    },
    {
     "name": "stderr",
     "output_type": "stream",
     "text": [
      "Training: 100%|██████████| 24/24 [00:00<00:00, 56.75it/s, loss=1.06e+4]\n",
      "Validation: 100%|██████████| 3/3 [00:00<00:00, 53.89it/s, loss=1.08e+4]\n"
     ]
    },
    {
     "name": "stdout",
     "output_type": "stream",
     "text": [
      "PSNR: 5.8392,, PSNR: 5.1293,, PSNR: 5.9278,, Validation PSNR and SSIM Scores\n",
      "\n",
      "Overall Mean PSNR: 5.6321\n",
      "\n",
      "Training Loss: 13006.1862, Validation Loss: 11213.7012, Validation PSNR: 5.6321\n",
      "========================================================\n",
      "SUPER Best model saved. Loss:11213.7012, Score:5.6321\n",
      "========================================================\n",
      "Epoch 26/4000\n"
     ]
    },
    {
     "name": "stderr",
     "output_type": "stream",
     "text": [
      "Training: 100%|██████████| 24/24 [00:00<00:00, 61.11it/s, loss=1.01e+4]\n",
      "Validation: 100%|██████████| 3/3 [00:00<00:00, 56.94it/s, loss=1.06e+4]\n"
     ]
    },
    {
     "name": "stdout",
     "output_type": "stream",
     "text": [
      "PSNR: 5.2417,, PSNR: 4.8147,, PSNR: 7.4040,, Validation PSNR and SSIM Scores\n",
      "\n",
      "Overall Mean PSNR: 5.8201\n",
      "\n",
      "Training Loss: 12223.0023, Validation Loss: 10595.8975, Validation PSNR: 5.8201\n",
      "========================================================\n",
      "SUPER Best model saved. Loss:10595.8975, Score:5.8201\n",
      "========================================================\n",
      "Epoch 27/4000\n"
     ]
    },
    {
     "name": "stderr",
     "output_type": "stream",
     "text": [
      "Training: 100%|██████████| 24/24 [00:00<00:00, 60.29it/s, loss=9.51e+3]\n",
      "Validation: 100%|██████████| 3/3 [00:00<00:00, 51.48it/s, loss=1.03e+4]\n"
     ]
    },
    {
     "name": "stdout",
     "output_type": "stream",
     "text": [
      "PSNR: 5.7293,, PSNR: 6.0848,, PSNR: 6.4331,, Validation PSNR and SSIM Scores\n",
      "\n",
      "Overall Mean PSNR: 6.0824\n",
      "\n",
      "Training Loss: 11627.0233, Validation Loss: 10209.2048, Validation PSNR: 6.0824\n",
      "========================================================\n",
      "SUPER Best model saved. Loss:10209.2048, Score:6.0824\n",
      "========================================================\n",
      "Epoch 28/4000\n"
     ]
    },
    {
     "name": "stderr",
     "output_type": "stream",
     "text": [
      "Training: 100%|██████████| 24/24 [00:00<00:00, 63.13it/s, loss=8.93e+3]\n",
      "Validation: 100%|██████████| 3/3 [00:00<00:00, 54.76it/s, loss=9.47e+3]\n"
     ]
    },
    {
     "name": "stdout",
     "output_type": "stream",
     "text": [
      "PSNR: 6.3766,, PSNR: 4.6825,, PSNR: 6.2151,, Validation PSNR and SSIM Scores\n",
      "\n",
      "Overall Mean PSNR: 5.7580\n",
      "\n",
      "Training Loss: 10936.1445, Validation Loss: 9558.3418, Validation PSNR: 5.7580\n",
      "Epoch 29/4000\n"
     ]
    },
    {
     "name": "stderr",
     "output_type": "stream",
     "text": [
      "Training: 100%|██████████| 24/24 [00:00<00:00, 59.32it/s, loss=8.44e+3]\n",
      "Validation: 100%|██████████| 3/3 [00:00<00:00, 59.28it/s, loss=8.77e+3]\n"
     ]
    },
    {
     "name": "stdout",
     "output_type": "stream",
     "text": [
      "PSNR: 7.8183,, PSNR: 6.7528,, PSNR: 6.2789,, Validation PSNR and SSIM Scores\n",
      "\n",
      "Overall Mean PSNR: 6.9500\n",
      "\n",
      "Training Loss: 10281.7436, Validation Loss: 8263.7842, Validation PSNR: 6.9500\n",
      "========================================================\n",
      "SUPER Best model saved. Loss:8263.7842, Score:6.9500\n",
      "========================================================\n",
      "Epoch 30/4000\n"
     ]
    },
    {
     "name": "stderr",
     "output_type": "stream",
     "text": [
      "Training: 100%|██████████| 24/24 [00:00<00:00, 62.61it/s, loss=7.77e+3]\n",
      "Validation: 100%|██████████| 3/3 [00:00<00:00, 56.90it/s, loss=7.59e+3]\n"
     ]
    },
    {
     "name": "stdout",
     "output_type": "stream",
     "text": [
      "PSNR: 6.9946,, PSNR: 4.7438,, PSNR: 6.9114,, Validation PSNR and SSIM Scores\n",
      "\n",
      "Overall Mean PSNR: 6.2166\n",
      "\n",
      "Training Loss: 9679.3240, Validation Loss: 8181.0804, Validation PSNR: 6.2166\n",
      "Epoch 31/4000\n"
     ]
    },
    {
     "name": "stderr",
     "output_type": "stream",
     "text": [
      "Training: 100%|██████████| 24/24 [00:00<00:00, 58.97it/s, loss=7.46e+3]\n",
      "Validation: 100%|██████████| 3/3 [00:00<00:00, 56.04it/s, loss=7.8e+3]\n"
     ]
    },
    {
     "name": "stdout",
     "output_type": "stream",
     "text": [
      "PSNR: 7.5678,, PSNR: 6.4833,, PSNR: 7.3552,, Validation PSNR and SSIM Scores\n",
      "\n",
      "Overall Mean PSNR: 7.1354\n",
      "\n",
      "Training Loss: 9145.3273, Validation Loss: 7871.2310, Validation PSNR: 7.1354\n",
      "========================================================\n",
      "SUPER Best model saved. Loss:7871.2310, Score:7.1354\n",
      "========================================================\n",
      "Epoch 32/4000\n"
     ]
    },
    {
     "name": "stderr",
     "output_type": "stream",
     "text": [
      "Training: 100%|██████████| 24/24 [00:00<00:00, 62.18it/s, loss=6.76e+3]\n",
      "Validation: 100%|██████████| 3/3 [00:00<00:00, 54.97it/s, loss=7.5e+3]\n"
     ]
    },
    {
     "name": "stdout",
     "output_type": "stream",
     "text": [
      "PSNR: 5.2753,, PSNR: 9.3196,, PSNR: 7.5292,, Validation PSNR and SSIM Scores\n",
      "\n",
      "Overall Mean PSNR: 7.3747\n",
      "\n",
      "Training Loss: 8602.4076, Validation Loss: 7475.5521, Validation PSNR: 7.3747\n",
      "========================================================\n",
      "SUPER Best model saved. Loss:7475.5521, Score:7.3747\n",
      "========================================================\n",
      "Epoch 33/4000\n"
     ]
    },
    {
     "name": "stderr",
     "output_type": "stream",
     "text": [
      "Training: 100%|██████████| 24/24 [00:00<00:00, 58.49it/s, loss=6.53e+3]\n",
      "Validation: 100%|██████████| 3/3 [00:00<00:00, 50.12it/s, loss=7.06e+3]\n"
     ]
    },
    {
     "name": "stdout",
     "output_type": "stream",
     "text": [
      "PSNR: 7.4927,, PSNR: 7.7599,, PSNR: 6.6181,, Validation PSNR and SSIM Scores\n",
      "\n",
      "Overall Mean PSNR: 7.2902\n",
      "\n",
      "Training Loss: 8117.4713, Validation Loss: 7119.8794, Validation PSNR: 7.2902\n",
      "Epoch 34/4000\n"
     ]
    },
    {
     "name": "stderr",
     "output_type": "stream",
     "text": [
      "Training: 100%|██████████| 24/24 [00:00<00:00, 62.44it/s, loss=6.14e+3]\n",
      "Validation: 100%|██████████| 3/3 [00:00<00:00, 50.26it/s, loss=5.87e+3]\n"
     ]
    },
    {
     "name": "stdout",
     "output_type": "stream",
     "text": [
      "PSNR: 9.2935,, PSNR: 7.2467,, PSNR: 7.8443,, Validation PSNR and SSIM Scores\n",
      "\n",
      "Overall Mean PSNR: 8.1282\n",
      "\n",
      "Training Loss: 7618.3514, Validation Loss: 6246.2554, Validation PSNR: 8.1282\n",
      "========================================================\n",
      "SUPER Best model saved. Loss:6246.2554, Score:8.1282\n",
      "========================================================\n",
      "Epoch 35/4000\n"
     ]
    },
    {
     "name": "stderr",
     "output_type": "stream",
     "text": [
      "Training: 100%|██████████| 24/24 [00:00<00:00, 58.24it/s, loss=5.77e+3]\n",
      "Validation: 100%|██████████| 3/3 [00:00<00:00, 54.14it/s, loss=6.23e+3]\n"
     ]
    },
    {
     "name": "stdout",
     "output_type": "stream",
     "text": [
      "PSNR: 6.6228,, PSNR: 6.3558,, PSNR: 6.8659,, Validation PSNR and SSIM Scores\n",
      "\n",
      "Overall Mean PSNR: 6.6149\n",
      "\n",
      "Training Loss: 7200.9048, Validation Loss: 6297.6942, Validation PSNR: 6.6149\n",
      "Epoch 36/4000\n"
     ]
    },
    {
     "name": "stderr",
     "output_type": "stream",
     "text": [
      "Training: 100%|██████████| 24/24 [00:00<00:00, 62.98it/s, loss=5.48e+3]\n",
      "Validation: 100%|██████████| 3/3 [00:00<00:00, 58.05it/s, loss=5.88e+3]\n"
     ]
    },
    {
     "name": "stdout",
     "output_type": "stream",
     "text": [
      "PSNR: 6.9693,, PSNR: 8.2889,, PSNR: 8.6661,, Validation PSNR and SSIM Scores\n",
      "\n",
      "Overall Mean PSNR: 7.9748\n",
      "\n",
      "Training Loss: 6816.8887, Validation Loss: 5722.4312, Validation PSNR: 7.9748\n",
      "Epoch 37/4000\n"
     ]
    },
    {
     "name": "stderr",
     "output_type": "stream",
     "text": [
      "Training: 100%|██████████| 24/24 [00:00<00:00, 59.46it/s, loss=5.21e+3]\n",
      "Validation: 100%|██████████| 3/3 [00:00<00:00, 53.17it/s, loss=5.49e+3]\n"
     ]
    },
    {
     "name": "stdout",
     "output_type": "stream",
     "text": [
      "PSNR: 6.7025,, PSNR: 8.2568,, PSNR: 7.8091,, Validation PSNR and SSIM Scores\n",
      "\n",
      "Overall Mean PSNR: 7.5895\n",
      "\n",
      "Training Loss: 6443.2710, Validation Loss: 5468.5334, Validation PSNR: 7.5895\n",
      "Epoch 38/4000\n"
     ]
    },
    {
     "name": "stderr",
     "output_type": "stream",
     "text": [
      "Training: 100%|██████████| 24/24 [00:00<00:00, 60.17it/s, loss=4.85e+3]\n",
      "Validation: 100%|██████████| 3/3 [00:00<00:00, 54.51it/s, loss=5.2e+3]\n"
     ]
    },
    {
     "name": "stdout",
     "output_type": "stream",
     "text": [
      "PSNR: 7.4747,, PSNR: 9.0752,, PSNR: 8.1385,, Validation PSNR and SSIM Scores\n",
      "\n",
      "Overall Mean PSNR: 8.2294\n",
      "\n",
      "Training Loss: 6063.6162, Validation Loss: 5231.5189, Validation PSNR: 8.2294\n",
      "========================================================\n",
      "SUPER Best model saved. Loss:5231.5189, Score:8.2294\n",
      "========================================================\n",
      "Epoch 39/4000\n"
     ]
    },
    {
     "name": "stderr",
     "output_type": "stream",
     "text": [
      "Training: 100%|██████████| 24/24 [00:00<00:00, 58.23it/s, loss=4.55e+3]\n",
      "Validation: 100%|██████████| 3/3 [00:00<00:00, 54.50it/s, loss=4.87e+3]\n"
     ]
    },
    {
     "name": "stdout",
     "output_type": "stream",
     "text": [
      "PSNR: 9.5670,, PSNR: 8.2049,, PSNR: 8.1862,, Validation PSNR and SSIM Scores\n",
      "\n",
      "Overall Mean PSNR: 8.6527\n",
      "\n",
      "Training Loss: 5736.3174, Validation Loss: 4933.4709, Validation PSNR: 8.6527\n",
      "========================================================\n",
      "SUPER Best model saved. Loss:4933.4709, Score:8.6527\n",
      "========================================================\n",
      "Epoch 40/4000\n"
     ]
    },
    {
     "name": "stderr",
     "output_type": "stream",
     "text": [
      "Training: 100%|██████████| 24/24 [00:00<00:00, 64.33it/s, loss=4.38e+3]\n",
      "Validation: 100%|██████████| 3/3 [00:00<00:00, 55.60it/s, loss=4.72e+3]\n"
     ]
    },
    {
     "name": "stdout",
     "output_type": "stream",
     "text": [
      "PSNR: 9.6541,, PSNR: 7.4654,, PSNR: 7.7136,, Validation PSNR and SSIM Scores\n",
      "\n",
      "Overall Mean PSNR: 8.2777\n",
      "\n",
      "Training Loss: 5453.8465, Validation Loss: 4665.0898, Validation PSNR: 8.2777\n",
      "Epoch 41/4000\n"
     ]
    },
    {
     "name": "stderr",
     "output_type": "stream",
     "text": [
      "Training: 100%|██████████| 24/24 [00:00<00:00, 57.01it/s, loss=4.11e+3]\n",
      "Validation: 100%|██████████| 3/3 [00:00<00:00, 60.41it/s, loss=4.25e+3]\n"
     ]
    },
    {
     "name": "stdout",
     "output_type": "stream",
     "text": [
      "PSNR: 9.2909,, PSNR: 7.8442,, PSNR: 8.9138,, Validation PSNR and SSIM Scores\n",
      "\n",
      "Overall Mean PSNR: 8.6830\n",
      "\n",
      "Training Loss: 5130.0051, Validation Loss: 4259.8566, Validation PSNR: 8.6830\n",
      "========================================================\n",
      "SUPER Best model saved. Loss:4259.8566, Score:8.6830\n",
      "========================================================\n",
      "Epoch 42/4000\n"
     ]
    },
    {
     "name": "stderr",
     "output_type": "stream",
     "text": [
      "Training: 100%|██████████| 24/24 [00:00<00:00, 49.18it/s, loss=3.89e+3]\n",
      "Validation: 100%|██████████| 3/3 [00:00<00:00, 59.49it/s, loss=4.1e+3]\n"
     ]
    },
    {
     "name": "stdout",
     "output_type": "stream",
     "text": [
      "PSNR: 11.2584,, PSNR: 10.1688,, PSNR: 8.9271,, Validation PSNR and SSIM Scores\n",
      "\n",
      "Overall Mean PSNR: 10.1181\n",
      "\n",
      "Training Loss: 4876.5692, Validation Loss: 3951.0430, Validation PSNR: 10.1181\n",
      "========================================================\n",
      "SUPER Best model saved. Loss:3951.0430, Score:10.1181\n",
      "========================================================\n",
      "Epoch 43/4000\n"
     ]
    },
    {
     "name": "stderr",
     "output_type": "stream",
     "text": [
      "Training: 100%|██████████| 24/24 [00:00<00:00, 58.46it/s, loss=3.65e+3]\n",
      "Validation: 100%|██████████| 3/3 [00:00<00:00, 47.86it/s, loss=3.91e+3]\n"
     ]
    },
    {
     "name": "stdout",
     "output_type": "stream",
     "text": [
      "PSNR: 10.8797,, PSNR: 10.6371,, PSNR: 8.6390,, Validation PSNR and SSIM Scores\n",
      "\n",
      "Overall Mean PSNR: 10.0520\n",
      "\n",
      "Training Loss: 4632.1907, Validation Loss: 3654.2729, Validation PSNR: 10.0520\n",
      "Epoch 44/4000\n"
     ]
    },
    {
     "name": "stderr",
     "output_type": "stream",
     "text": [
      "Training: 100%|██████████| 24/24 [00:00<00:00, 64.59it/s, loss=3.51e+3]\n",
      "Validation: 100%|██████████| 3/3 [00:00<00:00, 55.85it/s, loss=3.63e+3]\n"
     ]
    },
    {
     "name": "stdout",
     "output_type": "stream",
     "text": [
      "PSNR: 9.1417,, PSNR: 10.5641,, PSNR: 10.6726,, Validation PSNR and SSIM Scores\n",
      "\n",
      "Overall Mean PSNR: 10.1261\n",
      "\n",
      "Training Loss: 4388.6457, Validation Loss: 3612.2420, Validation PSNR: 10.1261\n",
      "========================================================\n",
      "SUPER Best model saved. Loss:3612.2420, Score:10.1261\n",
      "========================================================\n",
      "Epoch 45/4000\n"
     ]
    },
    {
     "name": "stderr",
     "output_type": "stream",
     "text": [
      "Training: 100%|██████████| 24/24 [00:00<00:00, 61.29it/s, loss=3.32e+3]\n",
      "Validation: 100%|██████████| 3/3 [00:00<00:00, 58.12it/s, loss=3.51e+3]\n"
     ]
    },
    {
     "name": "stdout",
     "output_type": "stream",
     "text": [
      "PSNR: 10.1309,, PSNR: 10.8879,, PSNR: 10.9096,, Validation PSNR and SSIM Scores\n",
      "\n",
      "Overall Mean PSNR: 10.6428\n",
      "\n",
      "Training Loss: 4157.2628, Validation Loss: 3490.2278, Validation PSNR: 10.6428\n",
      "========================================================\n",
      "SUPER Best model saved. Loss:3490.2278, Score:10.6428\n",
      "========================================================\n",
      "Epoch 46/4000\n"
     ]
    },
    {
     "name": "stderr",
     "output_type": "stream",
     "text": [
      "Training: 100%|██████████| 24/24 [00:00<00:00, 62.96it/s, loss=3.18e+3]\n",
      "Validation: 100%|██████████| 3/3 [00:00<00:00, 58.21it/s, loss=3.32e+3]\n"
     ]
    },
    {
     "name": "stdout",
     "output_type": "stream",
     "text": [
      "PSNR: 9.8014,, PSNR: 10.8653,, PSNR: 10.1314,, Validation PSNR and SSIM Scores\n",
      "\n",
      "Overall Mean PSNR: 10.2661\n",
      "\n",
      "Training Loss: 3959.8216, Validation Loss: 3340.7728, Validation PSNR: 10.2661\n",
      "Epoch 47/4000\n"
     ]
    },
    {
     "name": "stderr",
     "output_type": "stream",
     "text": [
      "Training: 100%|██████████| 24/24 [00:00<00:00, 59.15it/s, loss=2.97e+3]\n",
      "Validation: 100%|██████████| 3/3 [00:00<00:00, 57.31it/s, loss=3.11e+3]\n"
     ]
    },
    {
     "name": "stdout",
     "output_type": "stream",
     "text": [
      "PSNR: 11.1878,, PSNR: 10.1360,, PSNR: 10.7789,, Validation PSNR and SSIM Scores\n",
      "\n",
      "Overall Mean PSNR: 10.7009\n",
      "\n",
      "Training Loss: 3762.0394, Validation Loss: 3276.6174, Validation PSNR: 10.7009\n",
      "========================================================\n",
      "SUPER Best model saved. Loss:3276.6174, Score:10.7009\n",
      "========================================================\n",
      "Epoch 48/4000\n"
     ]
    },
    {
     "name": "stderr",
     "output_type": "stream",
     "text": [
      "Training: 100%|██████████| 24/24 [00:00<00:00, 62.04it/s, loss=2.83e+3]\n",
      "Validation: 100%|██████████| 3/3 [00:00<00:00, 54.75it/s, loss=2.92e+3]\n"
     ]
    },
    {
     "name": "stdout",
     "output_type": "stream",
     "text": [
      "PSNR: 13.0573,, PSNR: 10.0489,, PSNR: 10.3475,, Validation PSNR and SSIM Scores\n",
      "\n",
      "Overall Mean PSNR: 11.1512\n",
      "\n",
      "Training Loss: 3570.2843, Validation Loss: 2942.9618, Validation PSNR: 11.1512\n",
      "========================================================\n",
      "SUPER Best model saved. Loss:2942.9618, Score:11.1512\n",
      "========================================================\n",
      "Epoch 49/4000\n"
     ]
    },
    {
     "name": "stderr",
     "output_type": "stream",
     "text": [
      "Training: 100%|██████████| 24/24 [00:00<00:00, 60.11it/s, loss=2.7e+3] \n",
      "Validation: 100%|██████████| 3/3 [00:00<00:00, 58.81it/s, loss=2.93e+3]\n"
     ]
    },
    {
     "name": "stdout",
     "output_type": "stream",
     "text": [
      "PSNR: 11.1721,, PSNR: 12.6728,, PSNR: 10.8999,, Validation PSNR and SSIM Scores\n",
      "\n",
      "Overall Mean PSNR: 11.5816\n",
      "\n",
      "Training Loss: 3420.6454, Validation Loss: 2722.5138, Validation PSNR: 11.5816\n",
      "========================================================\n",
      "SUPER Best model saved. Loss:2722.5138, Score:11.5816\n",
      "========================================================\n",
      "Epoch 50/4000\n"
     ]
    },
    {
     "name": "stderr",
     "output_type": "stream",
     "text": [
      "Training: 100%|██████████| 24/24 [00:00<00:00, 62.70it/s, loss=2.56e+3]\n",
      "Validation: 100%|██████████| 3/3 [00:00<00:00, 60.92it/s, loss=2.5e+3]\n"
     ]
    },
    {
     "name": "stdout",
     "output_type": "stream",
     "text": [
      "PSNR: 10.8214,, PSNR: 9.8743,, PSNR: 12.0426,, Validation PSNR and SSIM Scores\n",
      "\n",
      "Overall Mean PSNR: 10.9128\n",
      "\n",
      "Training Loss: 3247.9824, Validation Loss: 2662.5649, Validation PSNR: 10.9128\n",
      "Epoch 51/4000\n"
     ]
    },
    {
     "name": "stderr",
     "output_type": "stream",
     "text": [
      "Training: 100%|██████████| 24/24 [00:00<00:00, 61.69it/s, loss=2.48e+3]\n",
      "Validation: 100%|██████████| 3/3 [00:00<00:00, 56.84it/s, loss=2.58e+3]\n"
     ]
    },
    {
     "name": "stdout",
     "output_type": "stream",
     "text": [
      "PSNR: 11.9517,, PSNR: 12.6394,, PSNR: 10.9371,, Validation PSNR and SSIM Scores\n",
      "\n",
      "Overall Mean PSNR: 11.8427\n",
      "\n",
      "Training Loss: 3094.5391, Validation Loss: 2598.0312, Validation PSNR: 11.8427\n",
      "========================================================\n",
      "SUPER Best model saved. Loss:2598.0312, Score:11.8427\n",
      "========================================================\n",
      "Epoch 52/4000\n"
     ]
    },
    {
     "name": "stderr",
     "output_type": "stream",
     "text": [
      "Training: 100%|██████████| 24/24 [00:00<00:00, 60.91it/s, loss=2.34e+3]\n",
      "Validation: 100%|██████████| 3/3 [00:00<00:00, 55.56it/s, loss=2.61e+3]\n"
     ]
    },
    {
     "name": "stdout",
     "output_type": "stream",
     "text": [
      "PSNR: 11.6506,, PSNR: 11.9638,, PSNR: 11.3235,, Validation PSNR and SSIM Scores\n",
      "\n",
      "Overall Mean PSNR: 11.6460\n",
      "\n",
      "Training Loss: 2933.4694, Validation Loss: 2489.0087, Validation PSNR: 11.6460\n",
      "Epoch 53/4000\n"
     ]
    },
    {
     "name": "stderr",
     "output_type": "stream",
     "text": [
      "Training: 100%|██████████| 24/24 [00:00<00:00, 58.48it/s, loss=2.21e+3]\n",
      "Validation: 100%|██████████| 3/3 [00:00<00:00, 59.95it/s, loss=2.35e+3]\n"
     ]
    },
    {
     "name": "stdout",
     "output_type": "stream",
     "text": [
      "PSNR: 11.8426,, PSNR: 10.5810,, PSNR: 10.7369,, Validation PSNR and SSIM Scores\n",
      "\n",
      "Overall Mean PSNR: 11.0535\n",
      "\n",
      "Training Loss: 2811.1402, Validation Loss: 2353.7466, Validation PSNR: 11.0535\n",
      "Epoch 54/4000\n"
     ]
    },
    {
     "name": "stderr",
     "output_type": "stream",
     "text": [
      "Training: 100%|██████████| 24/24 [00:00<00:00, 63.98it/s, loss=2.11e+3]\n",
      "Validation: 100%|██████████| 3/3 [00:00<00:00, 54.29it/s, loss=2.2e+3]\n"
     ]
    },
    {
     "name": "stdout",
     "output_type": "stream",
     "text": [
      "PSNR: 10.7680,, PSNR: 11.2705,, PSNR: 11.5751,, Validation PSNR and SSIM Scores\n",
      "\n",
      "Overall Mean PSNR: 11.2045\n",
      "\n",
      "Training Loss: 2674.8175, Validation Loss: 2249.8472, Validation PSNR: 11.2045\n",
      "Epoch 55/4000\n"
     ]
    },
    {
     "name": "stderr",
     "output_type": "stream",
     "text": [
      "Training: 100%|██████████| 24/24 [00:00<00:00, 59.41it/s, loss=2.05e+3]\n",
      "Validation: 100%|██████████| 3/3 [00:00<00:00, 54.63it/s, loss=2.09e+3]\n"
     ]
    },
    {
     "name": "stdout",
     "output_type": "stream",
     "text": [
      "PSNR: 12.5541,, PSNR: 12.5440,, PSNR: 12.5004,, Validation PSNR and SSIM Scores\n",
      "\n",
      "Overall Mean PSNR: 12.5329\n",
      "\n",
      "Training Loss: 2538.4127, Validation Loss: 2107.6932, Validation PSNR: 12.5329\n",
      "========================================================\n",
      "SUPER Best model saved. Loss:2107.6932, Score:12.5329\n",
      "========================================================\n",
      "Epoch 56/4000\n"
     ]
    },
    {
     "name": "stderr",
     "output_type": "stream",
     "text": [
      "Training: 100%|██████████| 24/24 [00:00<00:00, 63.91it/s, loss=1.92e+3]\n",
      "Validation: 100%|██████████| 3/3 [00:00<00:00, 55.31it/s, loss=2.02e+3]\n"
     ]
    },
    {
     "name": "stdout",
     "output_type": "stream",
     "text": [
      "PSNR: 12.5166,, PSNR: 12.6861,, PSNR: 11.8069,, Validation PSNR and SSIM Scores\n",
      "\n",
      "Overall Mean PSNR: 12.3365\n",
      "\n",
      "Training Loss: 2440.4570, Validation Loss: 2023.2836, Validation PSNR: 12.3365\n",
      "Epoch 57/4000\n"
     ]
    },
    {
     "name": "stderr",
     "output_type": "stream",
     "text": [
      "Training: 100%|██████████| 24/24 [00:00<00:00, 58.81it/s, loss=1.83e+3]\n",
      "Validation: 100%|██████████| 3/3 [00:00<00:00, 55.63it/s, loss=1.91e+3]\n"
     ]
    },
    {
     "name": "stdout",
     "output_type": "stream",
     "text": [
      "PSNR: 12.6457,, PSNR: 13.3005,, PSNR: 12.3482,, Validation PSNR and SSIM Scores\n",
      "\n",
      "Overall Mean PSNR: 12.7648\n",
      "\n",
      "Training Loss: 2328.6779, Validation Loss: 1907.0164, Validation PSNR: 12.7648\n",
      "========================================================\n",
      "SUPER Best model saved. Loss:1907.0164, Score:12.7648\n",
      "========================================================\n",
      "Epoch 58/4000\n"
     ]
    },
    {
     "name": "stderr",
     "output_type": "stream",
     "text": [
      "Training: 100%|██████████| 24/24 [00:00<00:00, 64.31it/s, loss=1.84e+3]\n",
      "Validation: 100%|██████████| 3/3 [00:00<00:00, 57.91it/s, loss=1.81e+3]\n"
     ]
    },
    {
     "name": "stdout",
     "output_type": "stream",
     "text": [
      "PSNR: 11.4078,, PSNR: 12.9211,, PSNR: 13.7041,, Validation PSNR and SSIM Scores\n",
      "\n",
      "Overall Mean PSNR: 12.6777\n",
      "\n",
      "Training Loss: 2229.1876, Validation Loss: 1819.9357, Validation PSNR: 12.6777\n",
      "Epoch 59/4000\n"
     ]
    },
    {
     "name": "stderr",
     "output_type": "stream",
     "text": [
      "Training: 100%|██████████| 24/24 [00:00<00:00, 58.00it/s, loss=1.71e+3]\n",
      "Validation: 100%|██████████| 3/3 [00:00<00:00, 51.78it/s, loss=1.79e+3]\n"
     ]
    },
    {
     "name": "stdout",
     "output_type": "stream",
     "text": [
      "PSNR: 12.7208,, PSNR: 14.1823,, PSNR: 13.5354,, Validation PSNR and SSIM Scores\n",
      "\n",
      "Overall Mean PSNR: 13.4795\n",
      "\n",
      "Training Loss: 2180.3556, Validation Loss: 1808.2712, Validation PSNR: 13.4795\n",
      "========================================================\n",
      "SUPER Best model saved. Loss:1808.2712, Score:13.4795\n",
      "========================================================\n",
      "Epoch 60/4000\n"
     ]
    },
    {
     "name": "stderr",
     "output_type": "stream",
     "text": [
      "Training: 100%|██████████| 24/24 [00:00<00:00, 61.19it/s, loss=1.64e+3]\n",
      "Validation: 100%|██████████| 3/3 [00:00<00:00, 54.57it/s, loss=1.62e+3]\n"
     ]
    },
    {
     "name": "stdout",
     "output_type": "stream",
     "text": [
      "PSNR: 12.8874,, PSNR: 11.5751,, PSNR: 13.1880,, Validation PSNR and SSIM Scores\n",
      "\n",
      "Overall Mean PSNR: 12.5501\n",
      "\n",
      "Training Loss: 2061.8925, Validation Loss: 1689.7005, Validation PSNR: 12.5501\n",
      "Epoch 61/4000\n"
     ]
    },
    {
     "name": "stderr",
     "output_type": "stream",
     "text": [
      "Training: 100%|██████████| 24/24 [00:00<00:00, 59.04it/s, loss=1.54e+3]\n",
      "Validation: 100%|██████████| 3/3 [00:00<00:00, 61.01it/s, loss=1.64e+3]\n"
     ]
    },
    {
     "name": "stdout",
     "output_type": "stream",
     "text": [
      "PSNR: 13.5980,, PSNR: 13.1454,, PSNR: 14.6499,, Validation PSNR and SSIM Scores\n",
      "\n",
      "Overall Mean PSNR: 13.7977\n",
      "\n",
      "Training Loss: 1969.9999, Validation Loss: 1620.1221, Validation PSNR: 13.7977\n",
      "========================================================\n",
      "SUPER Best model saved. Loss:1620.1221, Score:13.7977\n",
      "========================================================\n",
      "Epoch 62/4000\n"
     ]
    },
    {
     "name": "stderr",
     "output_type": "stream",
     "text": [
      "Training: 100%|██████████| 24/24 [00:00<00:00, 64.99it/s, loss=1.48e+3]\n",
      "Validation: 100%|██████████| 3/3 [00:00<00:00, 57.71it/s, loss=1.59e+3]\n"
     ]
    },
    {
     "name": "stdout",
     "output_type": "stream",
     "text": [
      "PSNR: 14.5350,, PSNR: 13.8425,, PSNR: 14.7129,, Validation PSNR and SSIM Scores\n",
      "\n",
      "Overall Mean PSNR: 14.3635\n",
      "\n",
      "Training Loss: 1881.1347, Validation Loss: 1544.1419, Validation PSNR: 14.3635\n",
      "========================================================\n",
      "SUPER Best model saved. Loss:1544.1419, Score:14.3635\n",
      "========================================================\n",
      "Epoch 63/4000\n"
     ]
    },
    {
     "name": "stderr",
     "output_type": "stream",
     "text": [
      "Training: 100%|██████████| 24/24 [00:00<00:00, 57.81it/s, loss=1.48e+3]\n",
      "Validation: 100%|██████████| 3/3 [00:00<00:00, 54.73it/s, loss=1.46e+3]\n"
     ]
    },
    {
     "name": "stdout",
     "output_type": "stream",
     "text": [
      "PSNR: 14.2590,, PSNR: 12.6123,, PSNR: 14.2901,, Validation PSNR and SSIM Scores\n",
      "\n",
      "Overall Mean PSNR: 13.7204\n",
      "\n",
      "Training Loss: 1805.7202, Validation Loss: 1492.3101, Validation PSNR: 13.7204\n",
      "Epoch 64/4000\n"
     ]
    },
    {
     "name": "stderr",
     "output_type": "stream",
     "text": [
      "Training: 100%|██████████| 24/24 [00:00<00:00, 63.21it/s, loss=1.35e+3]\n",
      "Validation: 100%|██████████| 3/3 [00:00<00:00, 54.12it/s, loss=1.4e+3]\n"
     ]
    },
    {
     "name": "stdout",
     "output_type": "stream",
     "text": [
      "PSNR: 14.1711,, PSNR: 13.0582,, PSNR: 14.3029,, Validation PSNR and SSIM Scores\n",
      "\n",
      "Overall Mean PSNR: 13.8441\n",
      "\n",
      "Training Loss: 1738.4672, Validation Loss: 1396.4399, Validation PSNR: 13.8441\n",
      "Epoch 65/4000\n"
     ]
    },
    {
     "name": "stderr",
     "output_type": "stream",
     "text": [
      "Training: 100%|██████████| 24/24 [00:00<00:00, 59.89it/s, loss=1.33e+3]\n",
      "Validation: 100%|██████████| 3/3 [00:00<00:00, 57.14it/s, loss=1.31e+3]\n"
     ]
    },
    {
     "name": "stdout",
     "output_type": "stream",
     "text": [
      "PSNR: 14.3440,, PSNR: 14.5284,, PSNR: 13.6275,, Validation PSNR and SSIM Scores\n",
      "\n",
      "Overall Mean PSNR: 14.1666\n",
      "\n",
      "Training Loss: 1669.6437, Validation Loss: 1322.4727, Validation PSNR: 14.1666\n",
      "Epoch 66/4000\n"
     ]
    },
    {
     "name": "stderr",
     "output_type": "stream",
     "text": [
      "Training: 100%|██████████| 24/24 [00:00<00:00, 63.71it/s, loss=1.29e+3]\n",
      "Validation: 100%|██████████| 3/3 [00:00<00:00, 56.22it/s, loss=1.27e+3]\n"
     ]
    },
    {
     "name": "stdout",
     "output_type": "stream",
     "text": [
      "PSNR: 12.9675,, PSNR: 14.6199,, PSNR: 14.2650,, Validation PSNR and SSIM Scores\n",
      "\n",
      "Overall Mean PSNR: 13.9508\n",
      "\n",
      "Training Loss: 1597.2725, Validation Loss: 1272.3323, Validation PSNR: 13.9508\n",
      "Epoch 67/4000\n"
     ]
    },
    {
     "name": "stderr",
     "output_type": "stream",
     "text": [
      "Training: 100%|██████████| 24/24 [00:00<00:00, 59.20it/s, loss=1.32e+3]\n",
      "Validation: 100%|██████████| 3/3 [00:00<00:00, 54.17it/s, loss=1.24e+3]\n"
     ]
    },
    {
     "name": "stdout",
     "output_type": "stream",
     "text": [
      "PSNR: 14.5022,, PSNR: 15.4146,, PSNR: 14.1309,, Validation PSNR and SSIM Scores\n",
      "\n",
      "Overall Mean PSNR: 14.6826\n",
      "\n",
      "Training Loss: 1547.2167, Validation Loss: 1279.4523, Validation PSNR: 14.6826\n",
      "========================================================\n",
      "SUPER Best model saved. Loss:1279.4523, Score:14.6826\n",
      "========================================================\n",
      "Epoch 68/4000\n"
     ]
    },
    {
     "name": "stderr",
     "output_type": "stream",
     "text": [
      "Training: 100%|██████████| 24/24 [00:00<00:00, 61.27it/s, loss=1.23e+3]\n",
      "Validation: 100%|██████████| 3/3 [00:00<00:00, 55.81it/s, loss=1.22e+3]\n"
     ]
    },
    {
     "name": "stdout",
     "output_type": "stream",
     "text": [
      "PSNR: 16.9344,, PSNR: 15.3144,, PSNR: 15.1417,, Validation PSNR and SSIM Scores\n",
      "\n",
      "Overall Mean PSNR: 15.7968\n",
      "\n",
      "Training Loss: 1489.1501, Validation Loss: 1206.2203, Validation PSNR: 15.7968\n",
      "========================================================\n",
      "SUPER Best model saved. Loss:1206.2203, Score:15.7968\n",
      "========================================================\n",
      "Epoch 69/4000\n"
     ]
    },
    {
     "name": "stderr",
     "output_type": "stream",
     "text": [
      "Training: 100%|██████████| 24/24 [00:00<00:00, 59.01it/s, loss=1.14e+3]\n",
      "Validation: 100%|██████████| 3/3 [00:00<00:00, 56.32it/s, loss=1.23e+3]\n"
     ]
    },
    {
     "name": "stdout",
     "output_type": "stream",
     "text": [
      "PSNR: 14.6732,, PSNR: 17.3216,, PSNR: 15.4587,, Validation PSNR and SSIM Scores\n",
      "\n",
      "Overall Mean PSNR: 15.8178\n",
      "\n",
      "Training Loss: 1429.4036, Validation Loss: 1177.2640, Validation PSNR: 15.8178\n",
      "========================================================\n",
      "SUPER Best model saved. Loss:1177.2640, Score:15.8178\n",
      "========================================================\n",
      "Epoch 70/4000\n"
     ]
    },
    {
     "name": "stderr",
     "output_type": "stream",
     "text": [
      "Training: 100%|██████████| 24/24 [00:00<00:00, 63.71it/s, loss=1.11e+3]\n",
      "Validation: 100%|██████████| 3/3 [00:00<00:00, 56.73it/s, loss=1.19e+3]\n"
     ]
    },
    {
     "name": "stdout",
     "output_type": "stream",
     "text": [
      "PSNR: 15.9038,, PSNR: 16.2561,, PSNR: 16.6846,, Validation PSNR and SSIM Scores\n",
      "\n",
      "Overall Mean PSNR: 16.2815\n",
      "\n",
      "Training Loss: 1379.5033, Validation Loss: 1161.3733, Validation PSNR: 16.2815\n",
      "========================================================\n",
      "SUPER Best model saved. Loss:1161.3733, Score:16.2815\n",
      "========================================================\n",
      "Epoch 71/4000\n"
     ]
    },
    {
     "name": "stderr",
     "output_type": "stream",
     "text": [
      "Training: 100%|██████████| 24/24 [00:00<00:00, 59.41it/s, loss=1.11e+3]\n",
      "Validation: 100%|██████████| 3/3 [00:00<00:00, 54.44it/s, loss=1.1e+3]\n"
     ]
    },
    {
     "name": "stdout",
     "output_type": "stream",
     "text": [
      "PSNR: 14.4308,, PSNR: 14.0769,, PSNR: 15.7406,, Validation PSNR and SSIM Scores\n",
      "\n",
      "Overall Mean PSNR: 14.7494\n",
      "\n",
      "Training Loss: 1336.7880, Validation Loss: 1059.8249, Validation PSNR: 14.7494\n",
      "Epoch 72/4000\n"
     ]
    },
    {
     "name": "stderr",
     "output_type": "stream",
     "text": [
      "Training: 100%|██████████| 24/24 [00:00<00:00, 64.56it/s, loss=1.01e+3]\n",
      "Validation: 100%|██████████| 3/3 [00:00<00:00, 57.26it/s, loss=1.01e+3]\n"
     ]
    },
    {
     "name": "stdout",
     "output_type": "stream",
     "text": [
      "PSNR: 15.2940,, PSNR: 14.6467,, PSNR: 14.6843,, Validation PSNR and SSIM Scores\n",
      "\n",
      "Overall Mean PSNR: 14.8750\n",
      "\n",
      "Training Loss: 1292.8677, Validation Loss: 999.3186, Validation PSNR: 14.8750\n",
      "Epoch 73/4000\n"
     ]
    },
    {
     "name": "stderr",
     "output_type": "stream",
     "text": [
      "Training: 100%|██████████| 24/24 [00:00<00:00, 59.47it/s, loss=1.01e+3]\n",
      "Validation: 100%|██████████| 3/3 [00:00<00:00, 56.33it/s, loss=996]\n"
     ]
    },
    {
     "name": "stdout",
     "output_type": "stream",
     "text": [
      "PSNR: 16.2027,, PSNR: 15.6649,, PSNR: 16.3767,, Validation PSNR and SSIM Scores\n",
      "\n",
      "Overall Mean PSNR: 16.0815\n",
      "\n",
      "Training Loss: 1259.9526, Validation Loss: 1024.6183, Validation PSNR: 16.0815\n",
      "Epoch 74/4000\n"
     ]
    },
    {
     "name": "stderr",
     "output_type": "stream",
     "text": [
      "Training: 100%|██████████| 24/24 [00:00<00:00, 61.19it/s, loss=990]    \n",
      "Validation: 100%|██████████| 3/3 [00:00<00:00, 53.72it/s, loss=984]\n"
     ]
    },
    {
     "name": "stdout",
     "output_type": "stream",
     "text": [
      "PSNR: 14.7195,, PSNR: 14.3178,, PSNR: 15.6900,, Validation PSNR and SSIM Scores\n",
      "\n",
      "Overall Mean PSNR: 14.9091\n",
      "\n",
      "Training Loss: 1211.4323, Validation Loss: 953.3125, Validation PSNR: 14.9091\n",
      "Epoch 75/4000\n"
     ]
    },
    {
     "name": "stderr",
     "output_type": "stream",
     "text": [
      "Training: 100%|██████████| 24/24 [00:00<00:00, 55.91it/s, loss=947]    \n",
      "Validation: 100%|██████████| 3/3 [00:00<00:00, 57.60it/s, loss=970]\n"
     ]
    },
    {
     "name": "stdout",
     "output_type": "stream",
     "text": [
      "PSNR: 15.1054,, PSNR: 15.3381,, PSNR: 16.6594,, Validation PSNR and SSIM Scores\n",
      "\n",
      "Overall Mean PSNR: 15.7010\n",
      "\n",
      "Training Loss: 1176.1915, Validation Loss: 926.1995, Validation PSNR: 15.7010\n",
      "Epoch 76/4000\n"
     ]
    },
    {
     "name": "stderr",
     "output_type": "stream",
     "text": [
      "Training: 100%|██████████| 24/24 [00:00<00:00, 63.41it/s, loss=936]    \n",
      "Validation: 100%|██████████| 3/3 [00:00<00:00, 58.33it/s, loss=930]\n"
     ]
    },
    {
     "name": "stdout",
     "output_type": "stream",
     "text": [
      "PSNR: 15.9080,, PSNR: 15.5407,, PSNR: 15.8440,, Validation PSNR and SSIM Scores\n",
      "\n",
      "Overall Mean PSNR: 15.7642\n",
      "\n",
      "Training Loss: 1194.2090, Validation Loss: 926.9315, Validation PSNR: 15.7642\n",
      "Epoch 77/4000\n"
     ]
    },
    {
     "name": "stderr",
     "output_type": "stream",
     "text": [
      "Training: 100%|██████████| 24/24 [00:00<00:00, 57.23it/s, loss=1.05e+3]\n",
      "Validation: 100%|██████████| 3/3 [00:00<00:00, 58.62it/s, loss=938]\n"
     ]
    },
    {
     "name": "stdout",
     "output_type": "stream",
     "text": [
      "PSNR: 15.8305,, PSNR: 17.0258,, PSNR: 16.5561,, Validation PSNR and SSIM Scores\n",
      "\n",
      "Overall Mean PSNR: 16.4708\n",
      "\n",
      "Training Loss: 1132.5956, Validation Loss: 904.5064, Validation PSNR: 16.4708\n",
      "========================================================\n",
      "SUPER Best model saved. Loss:904.5064, Score:16.4708\n",
      "========================================================\n",
      "Epoch 78/4000\n"
     ]
    },
    {
     "name": "stderr",
     "output_type": "stream",
     "text": [
      "Training: 100%|██████████| 24/24 [00:00<00:00, 63.10it/s, loss=961]    \n",
      "Validation: 100%|██████████| 3/3 [00:00<00:00, 58.82it/s, loss=975]\n"
     ]
    },
    {
     "name": "stdout",
     "output_type": "stream",
     "text": [
      "PSNR: 15.8650,, PSNR: 15.8555,, PSNR: 16.6359,, Validation PSNR and SSIM Scores\n",
      "\n",
      "Overall Mean PSNR: 16.1188\n",
      "\n",
      "Training Loss: 1095.2962, Validation Loss: 894.7582, Validation PSNR: 16.1188\n",
      "Epoch 79/4000\n"
     ]
    },
    {
     "name": "stderr",
     "output_type": "stream",
     "text": [
      "Training: 100%|██████████| 24/24 [00:00<00:00, 59.71it/s, loss=912]    \n",
      "Validation: 100%|██████████| 3/3 [00:00<00:00, 59.79it/s, loss=827]\n"
     ]
    },
    {
     "name": "stdout",
     "output_type": "stream",
     "text": [
      "PSNR: 16.6829,, PSNR: 17.1038,, PSNR: 15.5836,, Validation PSNR and SSIM Scores\n",
      "\n",
      "Overall Mean PSNR: 16.4568\n",
      "\n",
      "Training Loss: 1061.8240, Validation Loss: 859.6049, Validation PSNR: 16.4568\n",
      "Epoch 80/4000\n"
     ]
    },
    {
     "name": "stderr",
     "output_type": "stream",
     "text": [
      "Training: 100%|██████████| 24/24 [00:00<00:00, 61.57it/s, loss=854]    \n",
      "Validation: 100%|██████████| 3/3 [00:00<00:00, 57.00it/s, loss=798]\n"
     ]
    },
    {
     "name": "stdout",
     "output_type": "stream",
     "text": [
      "PSNR: 16.5594,, PSNR: 16.1042,, PSNR: 15.8902,, Validation PSNR and SSIM Scores\n",
      "\n",
      "Overall Mean PSNR: 16.1846\n",
      "\n",
      "Training Loss: 1037.5957, Validation Loss: 790.5695, Validation PSNR: 16.1846\n",
      "Epoch 81/4000\n"
     ]
    },
    {
     "name": "stderr",
     "output_type": "stream",
     "text": [
      "Training: 100%|██████████| 24/24 [00:00<00:00, 57.14it/s, loss=809]    \n",
      "Validation: 100%|██████████| 3/3 [00:00<00:00, 57.00it/s, loss=793]\n"
     ]
    },
    {
     "name": "stdout",
     "output_type": "stream",
     "text": [
      "PSNR: 16.6958,, PSNR: 16.2741,, PSNR: 17.2845,, Validation PSNR and SSIM Scores\n",
      "\n",
      "Overall Mean PSNR: 16.7515\n",
      "\n",
      "Training Loss: 1009.1673, Validation Loss: 867.2588, Validation PSNR: 16.7515\n",
      "========================================================\n",
      "SUPER Best model saved. Loss:867.2588, Score:16.7515\n",
      "========================================================\n",
      "Epoch 82/4000\n"
     ]
    },
    {
     "name": "stderr",
     "output_type": "stream",
     "text": [
      "Training: 100%|██████████| 24/24 [00:00<00:00, 56.54it/s, loss=816]    \n",
      "Validation: 100%|██████████| 3/3 [00:00<00:00, 41.65it/s, loss=793]\n"
     ]
    },
    {
     "name": "stdout",
     "output_type": "stream",
     "text": [
      "PSNR: 16.7136,, PSNR: 16.8607,, PSNR: 16.6285,, Validation PSNR and SSIM Scores\n",
      "\n",
      "Overall Mean PSNR: 16.7343\n",
      "\n",
      "Training Loss: 978.7279, Validation Loss: 771.3933, Validation PSNR: 16.7343\n",
      "Epoch 83/4000\n"
     ]
    },
    {
     "name": "stderr",
     "output_type": "stream",
     "text": [
      "Training: 100%|██████████| 24/24 [00:00<00:00, 50.60it/s, loss=761]    \n",
      "Validation: 100%|██████████| 3/3 [00:00<00:00, 53.69it/s, loss=704]\n"
     ]
    },
    {
     "name": "stdout",
     "output_type": "stream",
     "text": [
      "PSNR: 15.8275,, PSNR: 18.0256,, PSNR: 15.9274,, Validation PSNR and SSIM Scores\n",
      "\n",
      "Overall Mean PSNR: 16.5935\n",
      "\n",
      "Training Loss: 946.3623, Validation Loss: 737.0168, Validation PSNR: 16.5935\n",
      "Epoch 84/4000\n"
     ]
    },
    {
     "name": "stderr",
     "output_type": "stream",
     "text": [
      "Training: 100%|██████████| 24/24 [00:00<00:00, 56.31it/s, loss=825]    \n",
      "Validation: 100%|██████████| 3/3 [00:00<00:00, 53.29it/s, loss=706]\n"
     ]
    },
    {
     "name": "stdout",
     "output_type": "stream",
     "text": [
      "PSNR: 17.0408,, PSNR: 16.5826,, PSNR: 17.4464,, Validation PSNR and SSIM Scores\n",
      "\n",
      "Overall Mean PSNR: 17.0233\n",
      "\n",
      "Training Loss: 931.2888, Validation Loss: 767.7400, Validation PSNR: 17.0233\n",
      "========================================================\n",
      "SUPER Best model saved. Loss:767.7400, Score:17.0233\n",
      "========================================================\n",
      "Epoch 85/4000\n"
     ]
    },
    {
     "name": "stderr",
     "output_type": "stream",
     "text": [
      "Training: 100%|██████████| 24/24 [00:00<00:00, 53.05it/s, loss=730]    \n",
      "Validation: 100%|██████████| 3/3 [00:00<00:00, 55.48it/s, loss=707]\n"
     ]
    },
    {
     "name": "stdout",
     "output_type": "stream",
     "text": [
      "PSNR: 17.0713,, PSNR: 17.5766,, PSNR: 17.7852,, Validation PSNR and SSIM Scores\n",
      "\n",
      "Overall Mean PSNR: 17.4777\n",
      "\n",
      "Training Loss: 910.8260, Validation Loss: 716.4131, Validation PSNR: 17.4777\n",
      "========================================================\n",
      "SUPER Best model saved. Loss:716.4131, Score:17.4777\n",
      "========================================================\n",
      "Epoch 86/4000\n"
     ]
    },
    {
     "name": "stderr",
     "output_type": "stream",
     "text": [
      "Training: 100%|██████████| 24/24 [00:00<00:00, 61.40it/s, loss=750]    \n",
      "Validation: 100%|██████████| 3/3 [00:00<00:00, 57.03it/s, loss=677]\n"
     ]
    },
    {
     "name": "stdout",
     "output_type": "stream",
     "text": [
      "PSNR: 18.8075,, PSNR: 15.7201,, PSNR: 17.2216,, Validation PSNR and SSIM Scores\n",
      "\n",
      "Overall Mean PSNR: 17.2497\n",
      "\n",
      "Training Loss: 882.5374, Validation Loss: 663.5878, Validation PSNR: 17.2497\n",
      "Epoch 87/4000\n"
     ]
    },
    {
     "name": "stderr",
     "output_type": "stream",
     "text": [
      "Training: 100%|██████████| 24/24 [00:00<00:00, 56.25it/s, loss=716]    \n",
      "Validation: 100%|██████████| 3/3 [00:00<00:00, 48.66it/s, loss=674]\n"
     ]
    },
    {
     "name": "stdout",
     "output_type": "stream",
     "text": [
      "PSNR: 16.8497,, PSNR: 16.9360,, PSNR: 17.8216,, Validation PSNR and SSIM Scores\n",
      "\n",
      "Overall Mean PSNR: 17.2025\n",
      "\n",
      "Training Loss: 858.2793, Validation Loss: 649.3176, Validation PSNR: 17.2025\n",
      "Epoch 88/4000\n"
     ]
    },
    {
     "name": "stderr",
     "output_type": "stream",
     "text": [
      "Training: 100%|██████████| 24/24 [00:00<00:00, 61.72it/s, loss=709]    \n",
      "Validation: 100%|██████████| 3/3 [00:00<00:00, 58.58it/s, loss=771]\n"
     ]
    },
    {
     "name": "stdout",
     "output_type": "stream",
     "text": [
      "PSNR: 16.8143,, PSNR: 17.1757,, PSNR: 17.7398,, Validation PSNR and SSIM Scores\n",
      "\n",
      "Overall Mean PSNR: 17.2433\n",
      "\n",
      "Training Loss: 837.8230, Validation Loss: 664.6037, Validation PSNR: 17.2433\n",
      "Epoch 89/4000\n"
     ]
    },
    {
     "name": "stderr",
     "output_type": "stream",
     "text": [
      "Training: 100%|██████████| 24/24 [00:00<00:00, 57.54it/s, loss=662]    \n",
      "Validation: 100%|██████████| 3/3 [00:00<00:00, 59.83it/s, loss=614]\n"
     ]
    },
    {
     "name": "stdout",
     "output_type": "stream",
     "text": [
      "PSNR: 17.1275,, PSNR: 16.5549,, PSNR: 17.5542,, Validation PSNR and SSIM Scores\n",
      "\n",
      "Overall Mean PSNR: 17.0788\n",
      "\n",
      "Training Loss: 823.3264, Validation Loss: 612.2615, Validation PSNR: 17.0788\n",
      "Epoch 90/4000\n"
     ]
    },
    {
     "name": "stderr",
     "output_type": "stream",
     "text": [
      "Training: 100%|██████████| 24/24 [00:00<00:00, 61.96it/s, loss=669]    \n",
      "Validation: 100%|██████████| 3/3 [00:00<00:00, 52.27it/s, loss=579]\n"
     ]
    },
    {
     "name": "stdout",
     "output_type": "stream",
     "text": [
      "PSNR: 17.4089,, PSNR: 16.9225,, PSNR: 17.1838,, Validation PSNR and SSIM Scores\n",
      "\n",
      "Overall Mean PSNR: 17.1717\n",
      "\n",
      "Training Loss: 806.7770, Validation Loss: 586.9002, Validation PSNR: 17.1717\n",
      "Epoch 91/4000\n"
     ]
    },
    {
     "name": "stderr",
     "output_type": "stream",
     "text": [
      "Training: 100%|██████████| 24/24 [00:00<00:00, 56.31it/s, loss=633]    \n",
      "Validation: 100%|██████████| 3/3 [00:00<00:00, 58.02it/s, loss=628]\n"
     ]
    },
    {
     "name": "stdout",
     "output_type": "stream",
     "text": [
      "PSNR: 16.5784,, PSNR: 17.9636,, PSNR: 18.4620,, Validation PSNR and SSIM Scores\n",
      "\n",
      "Overall Mean PSNR: 17.6680\n",
      "\n",
      "Training Loss: 793.3599, Validation Loss: 706.7764, Validation PSNR: 17.6680\n",
      "========================================================\n",
      "SUPER Best model saved. Loss:706.7764, Score:17.6680\n",
      "========================================================\n",
      "Epoch 92/4000\n"
     ]
    },
    {
     "name": "stderr",
     "output_type": "stream",
     "text": [
      "Training: 100%|██████████| 24/24 [00:00<00:00, 61.77it/s, loss=668]    \n",
      "Validation: 100%|██████████| 3/3 [00:00<00:00, 53.11it/s, loss=734]\n"
     ]
    },
    {
     "name": "stdout",
     "output_type": "stream",
     "text": [
      "PSNR: 19.3254,, PSNR: 18.1465,, PSNR: 17.8287,, Validation PSNR and SSIM Scores\n",
      "\n",
      "Overall Mean PSNR: 18.4335\n",
      "\n",
      "Training Loss: 771.9325, Validation Loss: 625.0868, Validation PSNR: 18.4335\n",
      "========================================================\n",
      "SUPER Best model saved. Loss:625.0868, Score:18.4335\n",
      "========================================================\n",
      "Epoch 93/4000\n"
     ]
    },
    {
     "name": "stderr",
     "output_type": "stream",
     "text": [
      "Training: 100%|██████████| 24/24 [00:00<00:00, 59.78it/s, loss=643]    \n",
      "Validation: 100%|██████████| 3/3 [00:00<00:00, 53.30it/s, loss=525]\n"
     ]
    },
    {
     "name": "stdout",
     "output_type": "stream",
     "text": [
      "PSNR: 17.6425,, PSNR: 18.9325,, PSNR: 16.5466,, Validation PSNR and SSIM Scores\n",
      "\n",
      "Overall Mean PSNR: 17.7072\n",
      "\n",
      "Training Loss: 758.2474, Validation Loss: 546.5957, Validation PSNR: 17.7072\n",
      "Epoch 94/4000\n"
     ]
    },
    {
     "name": "stderr",
     "output_type": "stream",
     "text": [
      "Training: 100%|██████████| 24/24 [00:00<00:00, 63.84it/s, loss=614]    \n",
      "Validation: 100%|██████████| 3/3 [00:00<00:00, 55.32it/s, loss=559]\n"
     ]
    },
    {
     "name": "stdout",
     "output_type": "stream",
     "text": [
      "PSNR: 17.6435,, PSNR: 17.9798,, PSNR: 18.1491,, Validation PSNR and SSIM Scores\n",
      "\n",
      "Overall Mean PSNR: 17.9241\n",
      "\n",
      "Training Loss: 739.0267, Validation Loss: 565.9888, Validation PSNR: 17.9241\n",
      "Epoch 95/4000\n"
     ]
    },
    {
     "name": "stderr",
     "output_type": "stream",
     "text": [
      "Training: 100%|██████████| 24/24 [00:00<00:00, 58.80it/s, loss=659]    \n",
      "Validation: 100%|██████████| 3/3 [00:00<00:00, 54.84it/s, loss=585]\n"
     ]
    },
    {
     "name": "stdout",
     "output_type": "stream",
     "text": [
      "PSNR: 19.9281,, PSNR: 18.5013,, PSNR: 18.9366,, Validation PSNR and SSIM Scores\n",
      "\n",
      "Overall Mean PSNR: 19.1220\n",
      "\n",
      "Training Loss: 731.8715, Validation Loss: 575.7598, Validation PSNR: 19.1220\n",
      "========================================================\n",
      "SUPER Best model saved. Loss:575.7598, Score:19.1220\n",
      "========================================================\n",
      "Epoch 96/4000\n"
     ]
    },
    {
     "name": "stderr",
     "output_type": "stream",
     "text": [
      "Training: 100%|██████████| 24/24 [00:00<00:00, 61.93it/s, loss=601]    \n",
      "Validation: 100%|██████████| 3/3 [00:00<00:00, 54.25it/s, loss=697]\n"
     ]
    },
    {
     "name": "stdout",
     "output_type": "stream",
     "text": [
      "PSNR: 17.9216,, PSNR: 18.9413,, PSNR: 18.3796,, Validation PSNR and SSIM Scores\n",
      "\n",
      "Overall Mean PSNR: 18.4142\n",
      "\n",
      "Training Loss: 714.2034, Validation Loss: 603.1895, Validation PSNR: 18.4142\n",
      "Epoch 97/4000\n"
     ]
    },
    {
     "name": "stderr",
     "output_type": "stream",
     "text": [
      "Training: 100%|██████████| 24/24 [00:00<00:00, 57.05it/s, loss=575]    \n",
      "Validation: 100%|██████████| 3/3 [00:00<00:00, 57.28it/s, loss=487]\n"
     ]
    },
    {
     "name": "stdout",
     "output_type": "stream",
     "text": [
      "PSNR: 18.8318,, PSNR: 18.0408,, PSNR: 17.7308,, Validation PSNR and SSIM Scores\n",
      "\n",
      "Overall Mean PSNR: 18.2011\n",
      "\n",
      "Training Loss: 698.9139, Validation Loss: 492.2739, Validation PSNR: 18.2011\n",
      "Epoch 98/4000\n"
     ]
    },
    {
     "name": "stderr",
     "output_type": "stream",
     "text": [
      "Training: 100%|██████████| 24/24 [00:00<00:00, 63.05it/s, loss=556]    \n",
      "Validation: 100%|██████████| 3/3 [00:00<00:00, 60.20it/s, loss=471]\n"
     ]
    },
    {
     "name": "stdout",
     "output_type": "stream",
     "text": [
      "PSNR: 19.6830,, PSNR: 19.6077,, PSNR: 17.9768,, Validation PSNR and SSIM Scores\n",
      "\n",
      "Overall Mean PSNR: 19.0892\n",
      "\n",
      "Training Loss: 688.8656, Validation Loss: 505.6460, Validation PSNR: 19.0892\n",
      "Epoch 99/4000\n"
     ]
    },
    {
     "name": "stderr",
     "output_type": "stream",
     "text": [
      "Training: 100%|██████████| 24/24 [00:00<00:00, 59.38it/s, loss=640]    \n",
      "Validation: 100%|██████████| 3/3 [00:00<00:00, 46.11it/s, loss=452]\n"
     ]
    },
    {
     "name": "stdout",
     "output_type": "stream",
     "text": [
      "PSNR: 18.7302,, PSNR: 17.4835,, PSNR: 17.0860,, Validation PSNR and SSIM Scores\n",
      "\n",
      "Overall Mean PSNR: 17.7666\n",
      "\n",
      "Training Loss: 672.4108, Validation Loss: 483.6399, Validation PSNR: 17.7666\n",
      "Epoch 100/4000\n"
     ]
    },
    {
     "name": "stderr",
     "output_type": "stream",
     "text": [
      "Training: 100%|██████████| 24/24 [00:00<00:00, 62.09it/s, loss=563]   \n",
      "Validation: 100%|██████████| 3/3 [00:00<00:00, 56.89it/s, loss=488]\n"
     ]
    },
    {
     "name": "stdout",
     "output_type": "stream",
     "text": [
      "PSNR: 18.3460,, PSNR: 17.9038,, PSNR: 18.5022,, Validation PSNR and SSIM Scores\n",
      "\n",
      "Overall Mean PSNR: 18.2507\n",
      "\n",
      "Training Loss: 663.8096, Validation Loss: 526.3189, Validation PSNR: 18.2507\n",
      "Epoch 101/4000\n"
     ]
    },
    {
     "name": "stderr",
     "output_type": "stream",
     "text": [
      "Training: 100%|██████████| 24/24 [00:00<00:00, 57.05it/s, loss=548]\n",
      "Validation: 100%|██████████| 3/3 [00:00<00:00, 56.82it/s, loss=439]\n"
     ]
    },
    {
     "name": "stdout",
     "output_type": "stream",
     "text": [
      "PSNR: 18.5575,, PSNR: 18.6858,, PSNR: 19.2372,, Validation PSNR and SSIM Scores\n",
      "\n",
      "Overall Mean PSNR: 18.8268\n",
      "\n",
      "Training Loss: 646.8872, Validation Loss: 439.8583, Validation PSNR: 18.8268\n",
      "Epoch 102/4000\n"
     ]
    },
    {
     "name": "stderr",
     "output_type": "stream",
     "text": [
      "Training: 100%|██████████| 24/24 [00:00<00:00, 63.38it/s, loss=550]\n",
      "Validation: 100%|██████████| 3/3 [00:00<00:00, 49.91it/s, loss=451]\n"
     ]
    },
    {
     "name": "stdout",
     "output_type": "stream",
     "text": [
      "PSNR: 18.5495,, PSNR: 19.1094,, PSNR: 18.8451,, Validation PSNR and SSIM Scores\n",
      "\n",
      "Overall Mean PSNR: 18.8347\n",
      "\n",
      "Training Loss: 681.2011, Validation Loss: 473.2521, Validation PSNR: 18.8347\n",
      "Epoch 103/4000\n"
     ]
    },
    {
     "name": "stderr",
     "output_type": "stream",
     "text": [
      "Training: 100%|██████████| 24/24 [00:00<00:00, 57.67it/s, loss=515]\n",
      "Validation: 100%|██████████| 3/3 [00:00<00:00, 52.70it/s, loss=438]\n"
     ]
    },
    {
     "name": "stdout",
     "output_type": "stream",
     "text": [
      "PSNR: 18.2077,, PSNR: 19.7405,, PSNR: 20.4690,, Validation PSNR and SSIM Scores\n",
      "\n",
      "Overall Mean PSNR: 19.4724\n",
      "\n",
      "Training Loss: 638.5616, Validation Loss: 438.4448, Validation PSNR: 19.4724\n",
      "========================================================\n",
      "SUPER Best model saved. Loss:438.4448, Score:19.4724\n",
      "========================================================\n",
      "Epoch 104/4000\n"
     ]
    },
    {
     "name": "stderr",
     "output_type": "stream",
     "text": [
      "Training: 100%|██████████| 24/24 [00:00<00:00, 62.76it/s, loss=513]\n",
      "Validation: 100%|██████████| 3/3 [00:00<00:00, 55.37it/s, loss=443]\n"
     ]
    },
    {
     "name": "stdout",
     "output_type": "stream",
     "text": [
      "PSNR: 18.9514,, PSNR: 19.1591,, PSNR: 19.4256,, Validation PSNR and SSIM Scores\n",
      "\n",
      "Overall Mean PSNR: 19.1787\n",
      "\n",
      "Training Loss: 619.7813, Validation Loss: 426.6493, Validation PSNR: 19.1787\n",
      "Epoch 105/4000\n"
     ]
    },
    {
     "name": "stderr",
     "output_type": "stream",
     "text": [
      "Training: 100%|██████████| 24/24 [00:00<00:00, 57.85it/s, loss=522]\n",
      "Validation: 100%|██████████| 3/3 [00:00<00:00, 46.90it/s, loss=446]\n"
     ]
    },
    {
     "name": "stdout",
     "output_type": "stream",
     "text": [
      "PSNR: 19.7057,, PSNR: 20.6284,, PSNR: 18.8043,, Validation PSNR and SSIM Scores\n",
      "\n",
      "Overall Mean PSNR: 19.7128\n",
      "\n",
      "Training Loss: 613.6087, Validation Loss: 426.8018, Validation PSNR: 19.7128\n",
      "========================================================\n",
      "SUPER Best model saved. Loss:426.8018, Score:19.7128\n",
      "========================================================\n",
      "Epoch 106/4000\n"
     ]
    },
    {
     "name": "stderr",
     "output_type": "stream",
     "text": [
      "Training: 100%|██████████| 24/24 [00:00<00:00, 61.84it/s, loss=478]\n",
      "Validation: 100%|██████████| 3/3 [00:00<00:00, 54.74it/s, loss=394]\n"
     ]
    },
    {
     "name": "stdout",
     "output_type": "stream",
     "text": [
      "PSNR: 19.0726,, PSNR: 19.1637,, PSNR: 19.2452,, Validation PSNR and SSIM Scores\n",
      "\n",
      "Overall Mean PSNR: 19.1605\n",
      "\n",
      "Training Loss: 594.8336, Validation Loss: 407.9549, Validation PSNR: 19.1605\n",
      "Epoch 107/4000\n"
     ]
    },
    {
     "name": "stderr",
     "output_type": "stream",
     "text": [
      "Training: 100%|██████████| 24/24 [00:00<00:00, 58.49it/s, loss=487]\n",
      "Validation: 100%|██████████| 3/3 [00:00<00:00, 56.02it/s, loss=386]\n"
     ]
    },
    {
     "name": "stdout",
     "output_type": "stream",
     "text": [
      "PSNR: 19.7221,, PSNR: 18.5195,, PSNR: 18.6881,, Validation PSNR and SSIM Scores\n",
      "\n",
      "Overall Mean PSNR: 18.9766\n",
      "\n",
      "Training Loss: 587.2854, Validation Loss: 399.5836, Validation PSNR: 18.9766\n",
      "Epoch 108/4000\n"
     ]
    },
    {
     "name": "stderr",
     "output_type": "stream",
     "text": [
      "Training: 100%|██████████| 24/24 [00:00<00:00, 62.85it/s, loss=536]\n",
      "Validation: 100%|██████████| 3/3 [00:00<00:00, 56.47it/s, loss=427]\n"
     ]
    },
    {
     "name": "stdout",
     "output_type": "stream",
     "text": [
      "PSNR: 19.9053,, PSNR: 20.0573,, PSNR: 19.9691,, Validation PSNR and SSIM Scores\n",
      "\n",
      "Overall Mean PSNR: 19.9772\n",
      "\n",
      "Training Loss: 580.2479, Validation Loss: 415.9040, Validation PSNR: 19.9772\n",
      "========================================================\n",
      "SUPER Best model saved. Loss:415.9040, Score:19.9772\n",
      "========================================================\n",
      "Epoch 109/4000\n"
     ]
    },
    {
     "name": "stderr",
     "output_type": "stream",
     "text": [
      "Training: 100%|██████████| 24/24 [00:00<00:00, 59.94it/s, loss=612]\n",
      "Validation: 100%|██████████| 3/3 [00:00<00:00, 56.67it/s, loss=518]\n"
     ]
    },
    {
     "name": "stdout",
     "output_type": "stream",
     "text": [
      "PSNR: 19.0628,, PSNR: 19.8638,, PSNR: 18.8332,, Validation PSNR and SSIM Scores\n",
      "\n",
      "Overall Mean PSNR: 19.2533\n",
      "\n",
      "Training Loss: 589.7145, Validation Loss: 436.0058, Validation PSNR: 19.2533\n",
      "Epoch 110/4000\n"
     ]
    },
    {
     "name": "stderr",
     "output_type": "stream",
     "text": [
      "Training: 100%|██████████| 24/24 [00:00<00:00, 63.56it/s, loss=505]\n",
      "Validation: 100%|██████████| 3/3 [00:00<00:00, 53.99it/s, loss=395]\n"
     ]
    },
    {
     "name": "stdout",
     "output_type": "stream",
     "text": [
      "PSNR: 20.4392,, PSNR: 19.4340,, PSNR: 19.9287,, Validation PSNR and SSIM Scores\n",
      "\n",
      "Overall Mean PSNR: 19.9340\n",
      "\n",
      "Training Loss: 565.5907, Validation Loss: 410.2978, Validation PSNR: 19.9340\n",
      "Epoch 111/4000\n"
     ]
    },
    {
     "name": "stderr",
     "output_type": "stream",
     "text": [
      "Training: 100%|██████████| 24/24 [00:00<00:00, 59.34it/s, loss=505]\n",
      "Validation: 100%|██████████| 3/3 [00:00<00:00, 52.49it/s, loss=335]\n"
     ]
    },
    {
     "name": "stdout",
     "output_type": "stream",
     "text": [
      "PSNR: 18.9687,, PSNR: 19.9922,, PSNR: 19.6661,, Validation PSNR and SSIM Scores\n",
      "\n",
      "Overall Mean PSNR: 19.5423\n",
      "\n",
      "Training Loss: 553.5211, Validation Loss: 354.0480, Validation PSNR: 19.5423\n",
      "Epoch 112/4000\n"
     ]
    },
    {
     "name": "stderr",
     "output_type": "stream",
     "text": [
      "Training: 100%|██████████| 24/24 [00:00<00:00, 60.14it/s, loss=513]\n",
      "Validation: 100%|██████████| 3/3 [00:00<00:00, 55.22it/s, loss=396]\n"
     ]
    },
    {
     "name": "stdout",
     "output_type": "stream",
     "text": [
      "PSNR: 19.8908,, PSNR: 19.6815,, PSNR: 20.3818,, Validation PSNR and SSIM Scores\n",
      "\n",
      "Overall Mean PSNR: 19.9847\n",
      "\n",
      "Training Loss: 542.1109, Validation Loss: 404.2623, Validation PSNR: 19.9847\n",
      "========================================================\n",
      "SUPER Best model saved. Loss:404.2623, Score:19.9847\n",
      "========================================================\n",
      "Epoch 113/4000\n"
     ]
    },
    {
     "name": "stderr",
     "output_type": "stream",
     "text": [
      "Training: 100%|██████████| 24/24 [00:00<00:00, 58.05it/s, loss=467]\n",
      "Validation: 100%|██████████| 3/3 [00:00<00:00, 56.95it/s, loss=471]\n"
     ]
    },
    {
     "name": "stdout",
     "output_type": "stream",
     "text": [
      "PSNR: 19.7847,, PSNR: 19.4161,, PSNR: 19.7183,, Validation PSNR and SSIM Scores\n",
      "\n",
      "Overall Mean PSNR: 19.6397\n",
      "\n",
      "Training Loss: 537.2929, Validation Loss: 444.5973, Validation PSNR: 19.6397\n",
      "Epoch 114/4000\n"
     ]
    },
    {
     "name": "stderr",
     "output_type": "stream",
     "text": [
      "Training: 100%|██████████| 24/24 [00:00<00:00, 62.82it/s, loss=563]\n",
      "Validation: 100%|██████████| 3/3 [00:00<00:00, 55.19it/s, loss=351]\n"
     ]
    },
    {
     "name": "stdout",
     "output_type": "stream",
     "text": [
      "PSNR: 18.2102,, PSNR: 19.6305,, PSNR: 20.2991,, Validation PSNR and SSIM Scores\n",
      "\n",
      "Overall Mean PSNR: 19.3799\n",
      "\n",
      "Training Loss: 537.8744, Validation Loss: 464.6370, Validation PSNR: 19.3799\n",
      "Epoch 115/4000\n"
     ]
    },
    {
     "name": "stderr",
     "output_type": "stream",
     "text": [
      "Training: 100%|██████████| 24/24 [00:00<00:00, 54.54it/s, loss=442]\n",
      "Validation: 100%|██████████| 3/3 [00:00<00:00, 56.94it/s, loss=351]\n"
     ]
    },
    {
     "name": "stdout",
     "output_type": "stream",
     "text": [
      "PSNR: 19.5102,, PSNR: 20.3530,, PSNR: 19.2634,, Validation PSNR and SSIM Scores\n",
      "\n",
      "Overall Mean PSNR: 19.7089\n",
      "\n",
      "Training Loss: 522.0544, Validation Loss: 348.9267, Validation PSNR: 19.7089\n",
      "Epoch 116/4000\n"
     ]
    },
    {
     "name": "stderr",
     "output_type": "stream",
     "text": [
      "Training: 100%|██████████| 24/24 [00:00<00:00, 60.54it/s, loss=422]\n",
      "Validation: 100%|██████████| 3/3 [00:00<00:00, 56.74it/s, loss=339]\n"
     ]
    },
    {
     "name": "stdout",
     "output_type": "stream",
     "text": [
      "PSNR: 20.9074,, PSNR: 19.6169,, PSNR: 19.4077,, Validation PSNR and SSIM Scores\n",
      "\n",
      "Overall Mean PSNR: 19.9773\n",
      "\n",
      "Training Loss: 507.3977, Validation Loss: 327.8435, Validation PSNR: 19.9773\n",
      "Epoch 117/4000\n"
     ]
    },
    {
     "name": "stderr",
     "output_type": "stream",
     "text": [
      "Training: 100%|██████████| 24/24 [00:00<00:00, 57.85it/s, loss=640]\n",
      "Validation: 100%|██████████| 3/3 [00:00<00:00, 60.25it/s, loss=314]\n"
     ]
    },
    {
     "name": "stdout",
     "output_type": "stream",
     "text": [
      "PSNR: 20.1187,, PSNR: 20.3568,, PSNR: 19.5346,, Validation PSNR and SSIM Scores\n",
      "\n",
      "Overall Mean PSNR: 20.0034\n",
      "\n",
      "Training Loss: 518.1987, Validation Loss: 337.1184, Validation PSNR: 20.0034\n",
      "========================================================\n",
      "SUPER Best model saved. Loss:337.1184, Score:20.0034\n",
      "========================================================\n",
      "Epoch 118/4000\n"
     ]
    },
    {
     "name": "stderr",
     "output_type": "stream",
     "text": [
      "Training: 100%|██████████| 24/24 [00:00<00:00, 64.75it/s, loss=489]    \n",
      "Validation: 100%|██████████| 3/3 [00:00<00:00, 59.23it/s, loss=325]\n"
     ]
    },
    {
     "name": "stdout",
     "output_type": "stream",
     "text": [
      "PSNR: 18.4984,, PSNR: 21.0884,, PSNR: 20.1321,, Validation PSNR and SSIM Scores\n",
      "\n",
      "Overall Mean PSNR: 19.9063\n",
      "\n",
      "Training Loss: 549.5461, Validation Loss: 341.8447, Validation PSNR: 19.9063\n",
      "Epoch 119/4000\n"
     ]
    },
    {
     "name": "stderr",
     "output_type": "stream",
     "text": [
      "Training: 100%|██████████| 24/24 [00:00<00:00, 58.46it/s, loss=429]\n",
      "Validation: 100%|██████████| 3/3 [00:00<00:00, 57.12it/s, loss=363]\n"
     ]
    },
    {
     "name": "stdout",
     "output_type": "stream",
     "text": [
      "PSNR: 20.0593,, PSNR: 20.4566,, PSNR: 20.6419,, Validation PSNR and SSIM Scores\n",
      "\n",
      "Overall Mean PSNR: 20.3859\n",
      "\n",
      "Training Loss: 520.5217, Validation Loss: 341.6262, Validation PSNR: 20.3859\n",
      "Epoch 120/4000\n"
     ]
    },
    {
     "name": "stderr",
     "output_type": "stream",
     "text": [
      "Training: 100%|██████████| 24/24 [00:00<00:00, 63.34it/s, loss=434]\n",
      "Validation: 100%|██████████| 3/3 [00:00<00:00, 55.37it/s, loss=338]\n"
     ]
    },
    {
     "name": "stdout",
     "output_type": "stream",
     "text": [
      "PSNR: 20.1301,, PSNR: 19.6085,, PSNR: 20.0056,, Validation PSNR and SSIM Scores\n",
      "\n",
      "Overall Mean PSNR: 19.9148\n",
      "\n",
      "Training Loss: 497.8382, Validation Loss: 318.0895, Validation PSNR: 19.9148\n",
      "Epoch 121/4000\n"
     ]
    },
    {
     "name": "stderr",
     "output_type": "stream",
     "text": [
      "Training: 100%|██████████| 24/24 [00:00<00:00, 58.90it/s, loss=437]\n",
      "Validation: 100%|██████████| 3/3 [00:00<00:00, 58.76it/s, loss=304]\n"
     ]
    },
    {
     "name": "stdout",
     "output_type": "stream",
     "text": [
      "PSNR: 19.9978,, PSNR: 20.7907,, PSNR: 20.2236,, Validation PSNR and SSIM Scores\n",
      "\n",
      "Overall Mean PSNR: 20.3374\n",
      "\n",
      "Training Loss: 490.0659, Validation Loss: 314.6687, Validation PSNR: 20.3374\n",
      "========================================================\n",
      "SUPER Best model saved. Loss:314.6687, Score:20.3374\n",
      "========================================================\n",
      "Epoch 122/4000\n"
     ]
    },
    {
     "name": "stderr",
     "output_type": "stream",
     "text": [
      "Training: 100%|██████████| 24/24 [00:00<00:00, 63.22it/s, loss=500]\n",
      "Validation: 100%|██████████| 3/3 [00:00<00:00, 46.47it/s, loss=298]\n"
     ]
    },
    {
     "name": "stdout",
     "output_type": "stream",
     "text": [
      "PSNR: 20.6912,, PSNR: 21.0756,, PSNR: 20.4590,, Validation PSNR and SSIM Scores\n",
      "\n",
      "Overall Mean PSNR: 20.7419\n",
      "\n",
      "Training Loss: 483.6504, Validation Loss: 288.3969, Validation PSNR: 20.7419\n",
      "========================================================\n",
      "SUPER Best model saved. Loss:288.3969, Score:20.7419\n",
      "========================================================\n",
      "Epoch 123/4000\n"
     ]
    },
    {
     "name": "stderr",
     "output_type": "stream",
     "text": [
      "Training: 100%|██████████| 24/24 [00:00<00:00, 58.80it/s, loss=429]\n",
      "Validation: 100%|██████████| 3/3 [00:00<00:00, 54.80it/s, loss=281]\n"
     ]
    },
    {
     "name": "stdout",
     "output_type": "stream",
     "text": [
      "PSNR: 20.2087,, PSNR: 20.9047,, PSNR: 20.8629,, Validation PSNR and SSIM Scores\n",
      "\n",
      "Overall Mean PSNR: 20.6588\n",
      "\n",
      "Training Loss: 482.9946, Validation Loss: 344.5696, Validation PSNR: 20.6588\n",
      "Epoch 124/4000\n"
     ]
    },
    {
     "name": "stderr",
     "output_type": "stream",
     "text": [
      "Training: 100%|██████████| 24/24 [00:00<00:00, 62.25it/s, loss=471]\n",
      "Validation: 100%|██████████| 3/3 [00:00<00:00, 56.83it/s, loss=271]\n"
     ]
    },
    {
     "name": "stdout",
     "output_type": "stream",
     "text": [
      "PSNR: 21.3801,, PSNR: 20.4938,, PSNR: 20.1227,, Validation PSNR and SSIM Scores\n",
      "\n",
      "Overall Mean PSNR: 20.6655\n",
      "\n",
      "Training Loss: 476.0695, Validation Loss: 289.7870, Validation PSNR: 20.6655\n",
      "Epoch 125/4000\n"
     ]
    },
    {
     "name": "stderr",
     "output_type": "stream",
     "text": [
      "Training: 100%|██████████| 24/24 [00:00<00:00, 57.46it/s, loss=549]\n",
      "Validation: 100%|██████████| 3/3 [00:00<00:00, 59.97it/s, loss=278]\n"
     ]
    },
    {
     "name": "stdout",
     "output_type": "stream",
     "text": [
      "PSNR: 22.3150,, PSNR: 20.1720,, PSNR: 21.3150,, Validation PSNR and SSIM Scores\n",
      "\n",
      "Overall Mean PSNR: 21.2673\n",
      "\n",
      "Training Loss: 475.1828, Validation Loss: 316.3713, Validation PSNR: 21.2673\n",
      "Epoch 126/4000\n"
     ]
    },
    {
     "name": "stderr",
     "output_type": "stream",
     "text": [
      "Training: 100%|██████████| 24/24 [00:00<00:00, 62.36it/s, loss=419]\n",
      "Validation: 100%|██████████| 3/3 [00:00<00:00, 54.81it/s, loss=320]\n"
     ]
    },
    {
     "name": "stdout",
     "output_type": "stream",
     "text": [
      "PSNR: 19.8304,, PSNR: 20.9504,, PSNR: 20.1455,, Validation PSNR and SSIM Scores\n",
      "\n",
      "Overall Mean PSNR: 20.3088\n",
      "\n",
      "Training Loss: 460.1098, Validation Loss: 290.0683, Validation PSNR: 20.3088\n",
      "Epoch 127/4000\n"
     ]
    },
    {
     "name": "stderr",
     "output_type": "stream",
     "text": [
      "Training: 100%|██████████| 24/24 [00:00<00:00, 59.41it/s, loss=376]\n",
      "Validation: 100%|██████████| 3/3 [00:00<00:00, 49.19it/s, loss=361]\n"
     ]
    },
    {
     "name": "stdout",
     "output_type": "stream",
     "text": [
      "PSNR: 22.0013,, PSNR: 21.4280,, PSNR: 20.7045,, Validation PSNR and SSIM Scores\n",
      "\n",
      "Overall Mean PSNR: 21.3779\n",
      "\n",
      "Training Loss: 455.5358, Validation Loss: 321.0233, Validation PSNR: 21.3779\n",
      "Epoch 128/4000\n"
     ]
    },
    {
     "name": "stderr",
     "output_type": "stream",
     "text": [
      "Training: 100%|██████████| 24/24 [00:00<00:00, 63.76it/s, loss=410]\n",
      "Validation: 100%|██████████| 3/3 [00:00<00:00, 55.84it/s, loss=260]\n"
     ]
    },
    {
     "name": "stdout",
     "output_type": "stream",
     "text": [
      "PSNR: 20.3605,, PSNR: 20.7509,, PSNR: 21.0466,, Validation PSNR and SSIM Scores\n",
      "\n",
      "Overall Mean PSNR: 20.7193\n",
      "\n",
      "Training Loss: 456.7785, Validation Loss: 297.6957, Validation PSNR: 20.7193\n",
      "Epoch 129/4000\n"
     ]
    },
    {
     "name": "stderr",
     "output_type": "stream",
     "text": [
      "Training: 100%|██████████| 24/24 [00:00<00:00, 58.51it/s, loss=390]\n",
      "Validation: 100%|██████████| 3/3 [00:00<00:00, 56.37it/s, loss=317]\n"
     ]
    },
    {
     "name": "stdout",
     "output_type": "stream",
     "text": [
      "PSNR: 19.9967,, PSNR: 21.7527,, PSNR: 19.9024,, Validation PSNR and SSIM Scores\n",
      "\n",
      "Overall Mean PSNR: 20.5506\n",
      "\n",
      "Training Loss: 450.0445, Validation Loss: 279.7620, Validation PSNR: 20.5506\n",
      "Epoch 130/4000\n"
     ]
    },
    {
     "name": "stderr",
     "output_type": "stream",
     "text": [
      "Training: 100%|██████████| 24/24 [00:00<00:00, 62.84it/s, loss=387]    \n",
      "Validation: 100%|██████████| 3/3 [00:00<00:00, 61.13it/s, loss=281]\n"
     ]
    },
    {
     "name": "stdout",
     "output_type": "stream",
     "text": [
      "PSNR: 22.4649,, PSNR: 22.3447,, PSNR: 20.4797,, Validation PSNR and SSIM Scores\n",
      "\n",
      "Overall Mean PSNR: 21.7631\n",
      "\n",
      "Training Loss: 476.0939, Validation Loss: 280.6879, Validation PSNR: 21.7631\n",
      "========================================================\n",
      "SUPER Best model saved. Loss:280.6879, Score:21.7631\n",
      "========================================================\n",
      "Epoch 131/4000\n"
     ]
    },
    {
     "name": "stderr",
     "output_type": "stream",
     "text": [
      "Training: 100%|██████████| 24/24 [00:00<00:00, 57.45it/s, loss=373]\n",
      "Validation: 100%|██████████| 3/3 [00:00<00:00, 57.23it/s, loss=267]\n"
     ]
    },
    {
     "name": "stdout",
     "output_type": "stream",
     "text": [
      "PSNR: 21.0138,, PSNR: 21.9009,, PSNR: 20.7016,, Validation PSNR and SSIM Scores\n",
      "\n",
      "Overall Mean PSNR: 21.2054\n",
      "\n",
      "Training Loss: 452.1782, Validation Loss: 297.5640, Validation PSNR: 21.2054\n",
      "Epoch 132/4000\n"
     ]
    },
    {
     "name": "stderr",
     "output_type": "stream",
     "text": [
      "Training: 100%|██████████| 24/24 [00:00<00:00, 63.45it/s, loss=367]\n",
      "Validation: 100%|██████████| 3/3 [00:00<00:00, 58.80it/s, loss=344]\n"
     ]
    },
    {
     "name": "stdout",
     "output_type": "stream",
     "text": [
      "PSNR: 21.5216,, PSNR: 21.0977,, PSNR: 20.8230,, Validation PSNR and SSIM Scores\n",
      "\n",
      "Overall Mean PSNR: 21.1474\n",
      "\n",
      "Training Loss: 435.9809, Validation Loss: 303.0618, Validation PSNR: 21.1474\n",
      "Epoch 133/4000\n"
     ]
    },
    {
     "name": "stderr",
     "output_type": "stream",
     "text": [
      "Training: 100%|██████████| 24/24 [00:00<00:00, 57.66it/s, loss=405]\n",
      "Validation: 100%|██████████| 3/3 [00:00<00:00, 58.05it/s, loss=456]\n"
     ]
    },
    {
     "name": "stdout",
     "output_type": "stream",
     "text": [
      "PSNR: 20.7374,, PSNR: 18.9448,, PSNR: 20.0199,, Validation PSNR and SSIM Scores\n",
      "\n",
      "Overall Mean PSNR: 19.9007\n",
      "\n",
      "Training Loss: 431.3553, Validation Loss: 381.9616, Validation PSNR: 19.9007\n",
      "Epoch 134/4000\n"
     ]
    },
    {
     "name": "stderr",
     "output_type": "stream",
     "text": [
      "Training: 100%|██████████| 24/24 [00:00<00:00, 62.72it/s, loss=497]\n",
      "Validation: 100%|██████████| 3/3 [00:00<00:00, 56.05it/s, loss=444]\n"
     ]
    },
    {
     "name": "stdout",
     "output_type": "stream",
     "text": [
      "PSNR: 21.7024,, PSNR: 21.4565,, PSNR: 19.8845,, Validation PSNR and SSIM Scores\n",
      "\n",
      "Overall Mean PSNR: 21.0145\n",
      "\n",
      "Training Loss: 438.0767, Validation Loss: 323.5040, Validation PSNR: 21.0145\n",
      "Early stopping\n"
     ]
    },
    {
     "data": {
      "text/html": [],
      "text/plain": [
       "<IPython.core.display.HTML object>"
      ]
     },
     "metadata": {},
     "output_type": "display_data"
    },
    {
     "data": {
      "text/html": [
       "<br>    <style><br>        .wandb-row {<br>            display: flex;<br>            flex-direction: row;<br>            flex-wrap: wrap;<br>            justify-content: flex-start;<br>            width: 100%;<br>        }<br>        .wandb-col {<br>            display: flex;<br>            flex-direction: column;<br>            flex-basis: 100%;<br>            flex: 1;<br>            padding: 10px;<br>        }<br>    </style><br><div class=\"wandb-row\"><div class=\"wandb-col\"><h3>Run history:</h3><br/><table class=\"wandb\"><tr><td>epoch</td><td>▁▁▁▁▂▂▂▂▃▃▃▃▃▄▄▄▄▅▅▅▅▅▆▆▆▆▆▆▇▇▇▇▇▇▇█████</td></tr><tr><td>overall_mean_psnr</td><td>▁▂▂▂▂▃▄▄▄▄▄▄▄▄▅▅▆▆▆▆▇▇▇▇▇▇▇█▇█▇█████████</td></tr><tr><td>psnr</td><td>▁▂▂▂▂▂▂▂▃▃▃▃▄▄▄▅▄▅▅▅▅▅▅▅▆▆▆▇▇▇▇▇▇▇▇█████</td></tr><tr><td>train_epoch_loss</td><td>██▇▇▆▆▅▃▃▃▂▂▂▂▂▁▁▁▁▁▁▁▁▁▁▁▁▁▁▁▁▁▁▁▁▁▁▁▁▁</td></tr><tr><td>val_epoch_loss</td><td>███▇▇▆▆▅▅▄▃▃▃▃▃▂▂▂▁▁▁▁▁▁▁▁▁▁▁▁▁▁▁▁▁▁▁▁▁▁</td></tr></table><br/></div><div class=\"wandb-col\"><h3>Run summary:</h3><br/><table class=\"wandb\"><tr><td>epoch</td><td>134</td></tr><tr><td>overall_mean_psnr</td><td>21.01448</td></tr><tr><td>psnr</td><td>19.88451</td></tr><tr><td>train_epoch_loss</td><td>438.07674</td></tr><tr><td>val_epoch_loss</td><td>323.50403</td></tr></table><br/></div></div>"
      ],
      "text/plain": [
       "<IPython.core.display.HTML object>"
      ]
     },
     "metadata": {},
     "output_type": "display_data"
    },
    {
     "data": {
      "text/html": [
       " View run <strong style=\"color:#cdcd00\">Denoising_UNet__f48_d96s96_numb2_lr1e-03_a0.50_b0.50_b16_r4_ce0.4_ac1</strong> at: <a href='https://wandb.ai/limbw/czii/runs/ra63kyzo' target=\"_blank\">https://wandb.ai/limbw/czii/runs/ra63kyzo</a><br> View project at: <a href='https://wandb.ai/limbw/czii' target=\"_blank\">https://wandb.ai/limbw/czii</a><br>Synced 5 W&B file(s), 0 media file(s), 0 artifact file(s) and 0 other file(s)"
      ],
      "text/plain": [
       "<IPython.core.display.HTML object>"
      ]
     },
     "metadata": {},
     "output_type": "display_data"
    },
    {
     "data": {
      "text/html": [
       "Find logs at: <code>.\\wandb\\run-20250116_143808-ra63kyzo\\logs</code>"
      ],
      "text/plain": [
       "<IPython.core.display.HTML object>"
      ]
     },
     "metadata": {},
     "output_type": "display_data"
    }
   ],
   "source": [
    "train_model(\n",
    "    model=model,\n",
    "    train_loader=train_loader,\n",
    "    val_loader=val_loader,\n",
    "    criterion=criterion,\n",
    "    optimizer=optimizer,\n",
    "    num_epochs=num_epochs,\n",
    "    patience=5,\n",
    "    device=device,\n",
    "    start_epoch=start_epoch,\n",
    "    best_val_loss=best_val_loss,\n",
    "    best_val_fbeta_score=best_val_fbeta_score,\n",
    "    calculate_dice_interval=1,\n",
    "    accumulation_steps = accumulation_steps\n",
    "     ) "
   ]
  },
  {
   "cell_type": "code",
   "execution_count": 14,
   "metadata": {},
   "outputs": [
    {
     "name": "stderr",
     "output_type": "stream",
     "text": [
      "C:\\Users\\pook0\\AppData\\Local\\Temp\\ipykernel_13100\\1653190717.py:66: FutureWarning: You are using `torch.load` with `weights_only=False` (the current default value), which uses the default pickle module implicitly. It is possible to construct malicious pickle data which will execute arbitrary code during unpickling (See https://github.com/pytorch/pytorch/blob/main/SECURITY.md#untrusted-models for more details). In a future release, the default value for `weights_only` will be flipped to `True`. This limits the functions that could be executed during unpickling. Arbitrary objects will no longer be allowed to be loaded via this mode unless they are explicitly allowlisted by the user via `torch.serialization.add_safe_globals`. We recommend you start setting `weights_only=True` for any use case where you don't have full control of the loaded file. Please open an issue on GitHub for any issues related to this experimental feature.\n",
      "  checkpoint = torch.load(best_model_path, map_location=device)\n"
     ]
    },
    {
     "name": "stdout",
     "output_type": "stream",
     "text": [
      "기존 best model 발견: model_checkpoints\\Denoising_UNet__f48_d96s96_numb2_lr1e-03_a0.50_b0.50_b16_r4_ce0.4_ac1\\best_model.pt\n",
      "기존 학습된 가중치를 성공적으로 로드했습니다.\n"
     ]
    },
    {
     "name": "stderr",
     "output_type": "stream",
     "text": [
      "Visualizing:  67%|██████▋   | 2/3 [00:00<00:00,  6.21it/s]"
     ]
    },
    {
     "name": "stdout",
     "output_type": "stream",
     "text": [
      "Unique values in predictions: [0]\n"
     ]
    },
    {
     "name": "stderr",
     "output_type": "stream",
     "text": [
      "\n"
     ]
    },
    {
     "data": {
      "image/png": "[encoded data removed]",
      "text/plain": [
       "<Figure size 1500x500 with 3 Axes>"
      ]
     },
     "metadata": {},
     "output_type": "display_data"
    },
    {
     "name": "stdout",
     "output_type": "stream",
     "text": [
      "Unique values in predictions: [0]\n"
     ]
    },
    {
     "data": {
      "image/png": "[encoded data removed]",
      "text/plain": [
       "<Figure size 1500x500 with 3 Axes>"
      ]
     },
     "metadata": {},
     "output_type": "display_data"
    },
    {
     "name": "stdout",
     "output_type": "stream",
     "text": [
      "Unique values in predictions: [0]\n"
     ]
    },
    {
     "data": {
      "image/png": "[encoded data removed]",
      "text/plain": [
       "<Figure size 1500x500 with 3 Axes>"
      ]
     },
     "metadata": {},
     "output_type": "display_data"
    }
   ],
   "source": [
    "import torch\n",
    "import numpy as np\n",
    "import matplotlib.pyplot as plt\n",
    "from tqdm import tqdm\n",
    "\n",
    "# 최적의 모델 불러오기\n",
    "def load_best_model(model, model_path):\n",
    "    model.load_state_dict(torch.load(model_path))\n",
    "    model.eval()\n",
    "    return model\n",
    "\n",
    "# 예측 결과와 실제 라벨 시각화 함수\n",
    "def visualize_predictions(model, val_loader, device, num_images=5):\n",
    "    model.eval()\n",
    "    images, labels, preds = [], [], []\n",
    "    \n",
    "    with torch.no_grad():\n",
    "        for batch_data in tqdm(val_loader, desc='Visualizing'):\n",
    "            image = batch_data['image'].to(device)\n",
    "            label = batch_data['label'].to(device)\n",
    "            \n",
    "            output = model(image)\n",
    "            pred = output.argmax(dim=1, keepdim=True)\n",
    "            \n",
    "            images.append(image.cpu().numpy())\n",
    "            labels.append(label.cpu().numpy())\n",
    "            preds.append(pred.cpu().numpy())\n",
    "            \n",
    "            if len(images) >= num_images:\n",
    "                break\n",
    "    \n",
    "    # 시각화\n",
    "    for i in range(num_images):\n",
    "        fig, axes = plt.subplots(1, 3, figsize=(15, 5))\n",
    "        \n",
    "        axes[0].imshow(images[i][0, 0, :, :, 48], cmap='gray')\n",
    "        axes[0].set_title('Input Image')\n",
    "        axes[0].axis('off')\n",
    "        \n",
    "        axes[1].imshow(labels[i][0, 0, :, 48], cmap='gray')\n",
    "        axes[1].set_title('Ground Truth')\n",
    "        axes[1].axis('off')\n",
    "        \n",
    "        # 예측 값 확인\n",
    "        print(\"Unique values in predictions:\", np.unique(preds[i]))\n",
    "        \n",
    "        # 데이터 범위 설정\n",
    "        axes[2].imshow(preds[i][0, 0, :, 48], cmap='gray', vmin=0, vmax=1)\n",
    "        axes[2].set_title('Prediction')\n",
    "        axes[2].axis('off')\n",
    "        \n",
    "        plt.show()\n",
    "\n",
    "# 모델 학습 후 최적의 모델 불러오기 및 시각화\n",
    "model = model  # 모델 정의\n",
    "val_loader = val_loader  # 검증 데이터 로더\n",
    "device = torch.device('cuda' if torch.cuda.is_available() else 'cpu')\n",
    "model_path = os.path.join(checkpoint_dir, 'best_model.pt')  # 저장된 최적의 모델 경로\n",
    "\n",
    "# 최적의 모델 불러오기\n",
    "if checkpoint_dir.exists():\n",
    "    best_model_path = checkpoint_dir / 'best_model.pt'\n",
    "    if best_model_path.exists():\n",
    "        print(f\"기존 best model 발견: {best_model_path}\")\n",
    "        try:\n",
    "            checkpoint = torch.load(best_model_path, map_location=device)\n",
    "            # 체크포인트 내부 키 검증\n",
    "            required_keys = ['model_state_dict', 'optimizer_state_dict', 'epoch', 'best_val_loss']\n",
    "            if all(k in checkpoint for k in required_keys):\n",
    "                model.load_state_dict(checkpoint['model_state_dict'])\n",
    "                optimizer.load_state_dict(checkpoint['optimizer_state_dict'])\n",
    "                start_epoch = checkpoint['epoch']\n",
    "                best_val_loss = checkpoint['best_val_loss']\n",
    "                print(\"기존 학습된 가중치를 성공적으로 로드했습니다.\")\n",
    "                checkpoint= None\n",
    "            else:\n",
    "                raise ValueError(\"체크포인트 파일에 필요한 key가 없습니다.\")\n",
    "        except Exception as e:\n",
    "            print(f\"체크포인트 파일을 로드하는 중 오류 발생: {e}\")\n",
    "\n",
    "# 예측 결과와 실제 라벨 시각화\n",
    "visualize_predictions(model, val_loader, device, num_images=3)"
   ]
  },
  {
   "cell_type": "code",
   "execution_count": 13,
   "metadata": {},
   "outputs": [
    {
     "ename": "SyntaxError",
     "evalue": "invalid syntax (879943805.py, line 1)",
     "output_type": "error",
     "traceback": [
      "\u001b[1;36m  Cell \u001b[1;32mIn[13], line 1\u001b[1;36m\u001b[0m\n\u001b[1;33m    if:\u001b[0m\n\u001b[1;37m      ^\u001b[0m\n\u001b[1;31mSyntaxError\u001b[0m\u001b[1;31m:\u001b[0m invalid syntax\n"
     ]
    }
   ],
   "source": [
    "if:"
   ]
  },
  {
   "cell_type": "markdown",
   "metadata": {},
   "source": [
    "# VAl"
   ]
  },
  {
   "cell_type": "code",
   "execution_count": null,
   "metadata": {},
   "outputs": [
    {
     "data": {
      "text/html": [
       "Finishing last run (ID:fs6utwyo) before initializing another..."
      ],
      "text/plain": [
       "<IPython.core.display.HTML object>"
      ]
     },
     "metadata": {},
     "output_type": "display_data"
    },
    {
     "data": {
      "application/vnd.jupyter.widget-view+json": {
       "model_id": "29cc3ae761af43baae5aca60b5d2e7f4",
       "version_major": 2,
       "version_minor": 0
      },
      "text/plain": [
       "VBox(children=(Label(value='0.009 MB of 0.009 MB uploaded\\r'), FloatProgress(value=1.0, max=1.0)))"
      ]
     },
     "metadata": {},
     "output_type": "display_data"
    },
    {
     "data": {
      "text/html": [
       "<style>\n",
       "    table.wandb td:nth-child(1) { padding: 0 10px; text-align: left ; width: auto;} td:nth-child(2) {text-align: left ; width: 100%}\n",
       "    .wandb-row { display: flex; flex-direction: row; flex-wrap: wrap; justify-content: flex-start; width: 100% }\n",
       "    .wandb-col { display: flex; flex-direction: column; flex-basis: 100%; flex: 1; padding: 10px; }\n",
       "    </style>\n",
       "<div class=\"wandb-row\"><div class=\"wandb-col\"><h3>Run history:</h3><br/><table class=\"wandb\"><tr><td>class_0_dice_score</td><td>▁</td></tr><tr><td>class_0_f_beta_score</td><td>▁</td></tr><tr><td>class_1_dice_score</td><td>▁</td></tr><tr><td>class_1_f_beta_score</td><td>▁</td></tr><tr><td>class_2_dice_score</td><td>▁</td></tr><tr><td>class_2_f_beta_score</td><td>▁</td></tr><tr><td>class_3_dice_score</td><td>▁</td></tr><tr><td>class_3_f_beta_score</td><td>▁</td></tr><tr><td>class_4_dice_score</td><td>▁</td></tr><tr><td>class_4_f_beta_score</td><td>▁</td></tr><tr><td>class_5_dice_score</td><td>▁</td></tr><tr><td>class_5_f_beta_score</td><td>▁</td></tr><tr><td>class_6_dice_score</td><td>▁</td></tr><tr><td>class_6_f_beta_score</td><td>▁</td></tr><tr><td>epoch</td><td>▁▁▁▁▁▁▁▁▁▁▁▁▁▁▁▁</td></tr><tr><td>overall_mean_dice_score</td><td>▁</td></tr><tr><td>overall_mean_f_beta_score</td><td>▁</td></tr><tr><td>val_epoch_loss</td><td>▁</td></tr></table><br/></div><div class=\"wandb-col\"><h3>Run summary:</h3><br/><table class=\"wandb\"><tr><td>class_0_dice_score</td><td>0.65703</td></tr><tr><td>class_0_f_beta_score</td><td>0.50748</td></tr><tr><td>class_1_dice_score</td><td>0.53332</td></tr><tr><td>class_1_f_beta_score</td><td>0.64703</td></tr><tr><td>class_2_dice_score</td><td>0.00286</td></tr><tr><td>class_2_f_beta_score</td><td>0.02334</td></tr><tr><td>class_3_dice_score</td><td>0.23703</td></tr><tr><td>class_3_f_beta_score</td><td>0.23033</td></tr><tr><td>class_4_dice_score</td><td>0.65487</td></tr><tr><td>class_4_f_beta_score</td><td>0.62525</td></tr><tr><td>class_5_dice_score</td><td>0.47899</td></tr><tr><td>class_5_f_beta_score</td><td>0.51448</td></tr><tr><td>class_6_dice_score</td><td>0.42545</td></tr><tr><td>class_6_f_beta_score</td><td>0.47197</td></tr><tr><td>epoch</td><td>1</td></tr><tr><td>overall_mean_dice_score</td><td>0.42708</td></tr><tr><td>overall_mean_f_beta_score</td><td>0.43141</td></tr><tr><td>val_epoch_loss</td><td>0.7152</td></tr></table><br/></div></div>"
      ],
      "text/plain": [
       "<IPython.core.display.HTML object>"
      ]
     },
     "metadata": {},
     "output_type": "display_data"
    },
    {
     "data": {
      "text/html": [
       " View run <strong style=\"color:#cdcd00\">SwinUNETR96_96_lr0.001_lambda0.52_batch2</strong> at: <a href='https://wandb.ai/waooang/czii_SwinUnetR_val/runs/fs6utwyo' target=\"_blank\">https://wandb.ai/waooang/czii_SwinUnetR_val/runs/fs6utwyo</a><br/> View project at: <a href='https://wandb.ai/waooang/czii_SwinUnetR_val' target=\"_blank\">https://wandb.ai/waooang/czii_SwinUnetR_val</a><br/>Synced 4 W&B file(s), 0 media file(s), 3 artifact file(s) and 0 other file(s)"
      ],
      "text/plain": [
       "<IPython.core.display.HTML object>"
      ]
     },
     "metadata": {},
     "output_type": "display_data"
    },
    {
     "data": {
      "text/html": [
       "Find logs at: <code>.\\wandb\\run-20241219_200219-fs6utwyo\\logs</code>"
      ],
      "text/plain": [
       "<IPython.core.display.HTML object>"
      ]
     },
     "metadata": {},
     "output_type": "display_data"
    },
    {
     "data": {
      "text/html": [
       "Successfully finished last run (ID:fs6utwyo). Initializing new run:<br/>"
      ],
      "text/plain": [
       "<IPython.core.display.HTML object>"
      ]
     },
     "metadata": {},
     "output_type": "display_data"
    },
    {
     "data": {
      "text/html": [
       "Tracking run with wandb version 0.18.3"
      ],
      "text/plain": [
       "<IPython.core.display.HTML object>"
      ]
     },
     "metadata": {},
     "output_type": "display_data"
    },
    {
     "data": {
      "text/html": [
       "Run data is saved locally in <code>e:\\Workspace\\czll\\wandb\\run-20241219_200454-121l7bn3</code>"
      ],
      "text/plain": [
       "<IPython.core.display.HTML object>"
      ]
     },
     "metadata": {},
     "output_type": "display_data"
    },
    {
     "data": {
      "text/html": [
       "Syncing run <strong><a href='https://wandb.ai/waooang/czii_SwinUnetR_val/runs/121l7bn3' target=\"_blank\">SwinUNETR96_96_lr0.001_lambda0.52_batch2</a></strong> to <a href='https://wandb.ai/waooang/czii_SwinUnetR_val' target=\"_blank\">Weights & Biases</a> (<a href='https://wandb.me/run' target=\"_blank\">docs</a>)<br/>"
      ],
      "text/plain": [
       "<IPython.core.display.HTML object>"
      ]
     },
     "metadata": {},
     "output_type": "display_data"
    },
    {
     "data": {
      "text/html": [
       " View project at <a href='https://wandb.ai/waooang/czii_SwinUnetR_val' target=\"_blank\">https://wandb.ai/waooang/czii_SwinUnetR_val</a>"
      ],
      "text/plain": [
       "<IPython.core.display.HTML object>"
      ]
     },
     "metadata": {},
     "output_type": "display_data"
    },
    {
     "data": {
      "text/html": [
       " View run at <a href='https://wandb.ai/waooang/czii_SwinUnetR_val/runs/121l7bn3' target=\"_blank\">https://wandb.ai/waooang/czii_SwinUnetR_val/runs/121l7bn3</a>"
      ],
      "text/plain": [
       "<IPython.core.display.HTML object>"
      ]
     },
     "metadata": {},
     "output_type": "display_data"
    },
    {
     "name": "stderr",
     "output_type": "stream",
     "text": [
      "Loading dataset: 100%|██████████| 4/4 [00:06<00:00,  1.58s/it]\n",
      "C:\\Users\\Seungwoo\\AppData\\Local\\Temp\\ipykernel_21000\\1177025787.py:95: FutureWarning: You are using `torch.load` with `weights_only=False` (the current default value), which uses the default pickle module implicitly. It is possible to construct malicious pickle data which will execute arbitrary code during unpickling (See https://github.com/pytorch/pytorch/blob/main/SECURITY.md#untrusted-models for more details). In a future release, the default value for `weights_only` will be flipped to `True`. This limits the functions that could be executed during unpickling. Arbitrary objects will no longer be allowed to be loaded via this mode unless they are explicitly allowlisted by the user via `torch.serialization.add_safe_globals`. We recommend you start setting `weights_only=True` for any use case where you don't have full control of the loaded file. Please open an issue on GitHub for any issues related to this experimental feature.\n",
      "  checkpoint = torch.load(pretrain_path, map_location=device)\n",
      "Validation: 100%|██████████| 4/4 [00:01<00:00,  2.38it/s, loss=0.865]"
     ]
    },
    {
     "name": "stdout",
     "output_type": "stream",
     "text": [
      "Validation Dice Score\n",
      "Class 0: 0.6570, Class 1: 0.5333, Class 2: 0.0029, Class 3: 0.2370, \n",
      "Class 4: 0.6549, Class 5: 0.4790, Class 6: 0.4255, \n",
      "Validation F-beta Score\n",
      "Class 0: 0.5075, Class 1: 0.6470, Class 2: 0.0233, Class 3: 0.2303, \n",
      "Class 4: 0.6252, Class 5: 0.5145, Class 6: 0.4720, \n",
      "Overall Mean Dice Score: 0.4659\n",
      "Overall Mean F-beta Score: 0.4978\n",
      "\n"
     ]
    },
    {
     "name": "stderr",
     "output_type": "stream",
     "text": [
      "\n"
     ]
    }
   ],
   "source": [
    "from monai.data import DataLoader, Dataset, CacheDataset\n",
    "from monai.transforms import (\n",
    "    Compose, LoadImaged, EnsureChannelFirstd, NormalizeIntensityd,\n",
    "    Orientationd, CropForegroundd, GaussianSmoothd, ScaleIntensityd,\n",
    "    RandSpatialCropd, RandRotate90d, RandFlipd, RandGaussianNoised,\n",
    "    ToTensord, RandCropByLabelClassesd\n",
    ")\n",
    "from monai.metrics import DiceMetric\n",
    "from monai.networks.nets import UNETR, SwinUNETR\n",
    "from monai.losses import TverskyLoss\n",
    "import torch\n",
    "import numpy as np\n",
    "from tqdm import tqdm\n",
    "import wandb\n",
    "from src.dataset.dataset import make_val_dataloader\n",
    "\n",
    "val_img_dir = \"./datasets/val/images\"\n",
    "val_label_dir = \"./datasets/val/labels\"\n",
    "img_depth = 96\n",
    "img_size = 96  # Match your patch size\n",
    "n_classes = 7\n",
    "batch_size = 2 # 13.8GB GPU memory required for 128x128 img size\n",
    "num_samples = batch_size # 한 이미지에서 뽑을 샘플 수\n",
    "loader_batch = 1\n",
    "lamda = 0.52\n",
    "\n",
    "wandb.init(\n",
    "    project='czii_SwinUnetR_val',  # 프로젝트 이름 설정\n",
    "    name='SwinUNETR96_96_lr0.001_lambda0.52_batch2',         # 실행(run) 이름 설정\n",
    "    config={\n",
    "        'learning_rate': 0.001,\n",
    "        'batch_size': batch_size,\n",
    "        'lambda': lamda,\n",
    "        'img_size': img_size,\n",
    "        'device': 'cuda',\n",
    "        \"checkpoint_dir\": \"./model_checkpoints/SwinUNETR96_96_lr0.001_lambda0.52_batch2\",\n",
    "        \n",
    "    }\n",
    ")\n",
    "\n",
    "non_random_transforms = Compose([\n",
    "    EnsureChannelFirstd(keys=[\"image\", \"label\"], channel_dim=\"no_channel\"),\n",
    "    NormalizeIntensityd(keys=\"image\"),\n",
    "    Orientationd(keys=[\"image\", \"label\"], axcodes=\"RAS\"),\n",
    "    GaussianSmoothd(\n",
    "        keys=[\"image\"],      # 변환을 적용할 키\n",
    "        sigma=[1.0, 1.0, 1.0]  # 각 축(x, y, z)의 시그마 값\n",
    "        ),\n",
    "])\n",
    "random_transforms = Compose([\n",
    "    RandCropByLabelClassesd(\n",
    "        keys=[\"image\", \"label\"],\n",
    "        label_key=\"label\",\n",
    "        spatial_size=[img_depth, img_size, img_size],\n",
    "        num_classes=n_classes,\n",
    "        num_samples=num_samples, \n",
    "        ratios=ratios_list,\n",
    "    ),\n",
    "    RandRotate90d(keys=[\"image\", \"label\"], prob=0.5, spatial_axes=[1, 2]),\n",
    "    RandFlipd(keys=[\"image\", \"label\"], prob=0.5, spatial_axis=0),\n",
    "])\n",
    "\n",
    "val_loader = make_val_dataloader(\n",
    "    val_img_dir, \n",
    "    val_label_dir, \n",
    "    non_random_transforms = non_random_transforms, \n",
    "    random_transforms = random_transforms, \n",
    "    batch_size = loader_batch,\n",
    "    num_workers=0\n",
    ")\n",
    "criterion = TverskyLoss(\n",
    "    alpha= 1 - lamda,  # FP에 대한 가중치\n",
    "    beta=lamda,       # FN에 대한 가중치\n",
    "    include_background=False,  # 배경 클래스 제외\n",
    "    softmax=True\n",
    ")\n",
    "    \n",
    "    \n",
    "from monai.metrics import DiceMetric\n",
    "\n",
    "img_size = 96\n",
    "img_depth = img_size\n",
    "n_classes = 7 \n",
    "\n",
    "device = torch.device(\"cuda\" if torch.cuda.is_available() else \"cpu\")\n",
    "pretrain_path = \"./model_checkpoints/SwinUNETR96_96_lr0.001_lambda0.52_batch2/best_model.pt\"\n",
    "model = SwinUNETR(\n",
    "    img_size=(img_depth, img_size, img_size),\n",
    "    in_channels=1,\n",
    "    out_channels=n_classes,\n",
    "    feature_size=48,\n",
    "    use_checkpoint=True,\n",
    ").to(device)\n",
    "# Pretrained weights 불러오기\n",
    "checkpoint = torch.load(pretrain_path, map_location=device)\n",
    "model.load_state_dict(checkpoint['model_state_dict'])\n",
    "\n",
    "val_loss, overall_mean_fbeta_score = validate_one_epoch(\n",
    "    model=model, \n",
    "    val_loader=val_loader, \n",
    "    criterion=criterion, \n",
    "    device=device, \n",
    "    epoch=0, \n",
    "    calculate_dice_interval=1\n",
    ")"
   ]
  },
  {
   "cell_type": "markdown",
   "metadata": {},
   "source": [
    "# Inference"
   ]
  },
  {
   "cell_type": "code",
   "execution_count": null,
   "metadata": {},
   "outputs": [],
   "source": [
    "from src.dataset.preprocessing import Preprocessor"
   ]
  },
  {
   "cell_type": "code",
   "execution_count": null,
   "metadata": {},
   "outputs": [
    {
     "name": "stdout",
     "output_type": "stream",
     "text": [
      "Done.\n"
     ]
    }
   ],
   "source": [
    "from monai.inferers import sliding_window_inference\n",
    "from monai.transforms import Compose, EnsureChannelFirstd, NormalizeIntensityd, Orientationd, GaussianSmoothd\n",
    "from monai.data import DataLoader, Dataset, CacheDataset\n",
    "from monai.networks.nets import SwinUNETR\n",
    "from pathlib import Path\n",
    "import numpy as np\n",
    "import copick\n",
    "\n",
    "import torch\n",
    "print(\"Done.\")"
   ]
  },
  {
   "cell_type": "code",
   "execution_count": null,
   "metadata": {},
   "outputs": [
    {
     "name": "stdout",
     "output_type": "stream",
     "text": [
      "Config file written to ./kaggle/working/copick.config\n",
      "file length: 7\n"
     ]
    }
   ],
   "source": [
    "config_blob = \"\"\"{\n",
    "    \"name\": \"czii_cryoet_mlchallenge_2024\",\n",
    "    \"description\": \"2024 CZII CryoET ML Challenge training data.\",\n",
    "    \"version\": \"1.0.0\",\n",
    "\n",
    "    \"pickable_objects\": [\n",
    "        {\n",
    "            \"name\": \"apo-ferritin\",\n",
    "            \"is_particle\": true,\n",
    "            \"pdb_id\": \"4V1W\",\n",
    "            \"label\": 1,\n",
    "            \"color\": [  0, 117, 220, 128],\n",
    "            \"radius\": 60,\n",
    "            \"map_threshold\": 0.0418\n",
    "        },\n",
    "        {\n",
    "          \"name\" : \"beta-amylase\",\n",
    "            \"is_particle\": true,\n",
    "            \"pdb_id\": \"8ZRZ\",\n",
    "            \"label\": 2,\n",
    "            \"color\": [255, 255, 255, 128],\n",
    "            \"radius\": 90,\n",
    "            \"map_threshold\": 0.0578  \n",
    "        },\n",
    "        {\n",
    "            \"name\": \"beta-galactosidase\",\n",
    "            \"is_particle\": true,\n",
    "            \"pdb_id\": \"6X1Q\",\n",
    "            \"label\": 3,\n",
    "            \"color\": [ 76,   0,  92, 128],\n",
    "            \"radius\": 90,\n",
    "            \"map_threshold\": 0.0578\n",
    "        },\n",
    "        {\n",
    "            \"name\": \"ribosome\",\n",
    "            \"is_particle\": true,\n",
    "            \"pdb_id\": \"6EK0\",\n",
    "            \"label\": 4,\n",
    "            \"color\": [  0,  92,  49, 128],\n",
    "            \"radius\": 150,\n",
    "            \"map_threshold\": 0.0374\n",
    "        },\n",
    "        {\n",
    "            \"name\": \"thyroglobulin\",\n",
    "            \"is_particle\": true,\n",
    "            \"pdb_id\": \"6SCJ\",\n",
    "            \"label\": 5,\n",
    "            \"color\": [ 43, 206,  72, 128],\n",
    "            \"radius\": 130,\n",
    "            \"map_threshold\": 0.0278\n",
    "        },\n",
    "        {\n",
    "            \"name\": \"virus-like-particle\",\n",
    "            \"is_particle\": true,\n",
    "            \"label\": 6,\n",
    "            \"color\": [255, 204, 153, 128],\n",
    "            \"radius\": 135,\n",
    "            \"map_threshold\": 0.201\n",
    "        },\n",
    "        {\n",
    "            \"name\": \"membrane\",\n",
    "            \"is_particle\": false,\n",
    "            \"label\": 8,\n",
    "            \"color\": [100, 100, 100, 128]\n",
    "        },\n",
    "        {\n",
    "            \"name\": \"background\",\n",
    "            \"is_particle\": false,\n",
    "            \"label\": 9,\n",
    "            \"color\": [10, 150, 200, 128]\n",
    "        }\n",
    "    ],\n",
    "\n",
    "    \"overlay_root\": \"./kaggle/working/overlay\",\n",
    "\n",
    "    \"overlay_fs_args\": {\n",
    "        \"auto_mkdir\": true\n",
    "    },\n",
    "\n",
    "    \"static_root\": \"./kaggle/input/czii-cryo-et-object-identification/test/static\"\n",
    "}\"\"\"\n",
    "\n",
    "copick_config_path = \"./kaggle/working/copick.config\"\n",
    "preprocessor = Preprocessor(config_blob,copick_config_path=copick_config_path)\n",
    "non_random_transforms = Compose([\n",
    "    EnsureChannelFirstd(keys=[\"image\"], channel_dim=\"no_channel\"),\n",
    "    NormalizeIntensityd(keys=\"image\"),\n",
    "    Orientationd(keys=[\"image\"], axcodes=\"RAS\"),\n",
    "    GaussianSmoothd(\n",
    "        keys=[\"image\"],      # 변환을 적용할 키\n",
    "        sigma=[1.0, 1.0, 1.0]  # 각 축(x, y, z)의 시그마 값\n",
    "        ),\n",
    "    ])"
   ]
  },
  {
   "cell_type": "code",
   "execution_count": null,
   "metadata": {},
   "outputs": [
    {
     "name": "stderr",
     "output_type": "stream",
     "text": [
      "c:\\ProgramData\\anaconda3\\envs\\ship\\Lib\\site-packages\\monai\\utils\\deprecate_utils.py:221: FutureWarning: monai.networks.nets.swin_unetr SwinUNETR.__init__:img_size: Argument `img_size` has been deprecated since version 1.3. It will be removed in version 1.5. The img_size argument is not required anymore and checks on the input size are run during forward().\n",
      "  warn_deprecated(argname, msg, warning_category)\n",
      "C:\\Users\\Seungwoo\\AppData\\Local\\Temp\\ipykernel_6248\\2937359115.py:15: FutureWarning: You are using `torch.load` with `weights_only=False` (the current default value), which uses the default pickle module implicitly. It is possible to construct malicious pickle data which will execute arbitrary code during unpickling (See https://github.com/pytorch/pytorch/blob/main/SECURITY.md#untrusted-models for more details). In a future release, the default value for `weights_only` will be flipped to `True`. This limits the functions that could be executed during unpickling. Arbitrary objects will no longer be allowed to be loaded via this mode unless they are explicitly allowlisted by the user via `torch.serialization.add_safe_globals`. We recommend you start setting `weights_only=True` for any use case where you don't have full control of the loaded file. Please open an issue on GitHub for any issues related to this experimental feature.\n",
      "  checkpoint = torch.load(pretrain_path, map_location=device)\n"
     ]
    },
    {
     "data": {
      "text/plain": [
       "<All keys matched successfully>"
      ]
     },
     "execution_count": 15,
     "metadata": {},
     "output_type": "execute_result"
    }
   ],
   "source": [
    "img_size = 96\n",
    "img_depth = img_size\n",
    "n_classes = 7 \n",
    "\n",
    "device = torch.device(\"cuda\" if torch.cuda.is_available() else \"cpu\")\n",
    "pretrain_path = \"./model_checkpoints/SwinUNETR96_96_lr0.001_lambda0.52_batch2/best_model.pt\"\n",
    "model = SwinUNETR(\n",
    "    img_size=(img_depth, img_size, img_size),\n",
    "    in_channels=1,\n",
    "    out_channels=n_classes,\n",
    "    feature_size=48,\n",
    "    use_checkpoint=True,\n",
    ").to(device)\n",
    "# Pretrained weights 불러오기\n",
    "checkpoint = torch.load(pretrain_path, map_location=device)\n",
    "model.load_state_dict(checkpoint['model_state_dict'])\n"
   ]
  },
  {
   "cell_type": "code",
   "execution_count": null,
   "metadata": {},
   "outputs": [
    {
     "name": "stderr",
     "output_type": "stream",
     "text": [
      "Validation:   0%|          | 0/4 [00:03<?, ?it/s, loss=0.764]\n"
     ]
    },
    {
     "ename": "ZeroDivisionError",
     "evalue": "integer modulo by zero",
     "output_type": "error",
     "traceback": [
      "\u001b[1;31m---------------------------------------------------------------------------\u001b[0m",
      "\u001b[1;31mZeroDivisionError\u001b[0m                         Traceback (most recent call last)",
      "Cell \u001b[1;32mIn[16], line 1\u001b[0m\n\u001b[1;32m----> 1\u001b[0m val_loss \u001b[38;5;241m=\u001b[39m \u001b[43mvalidate_one_epoch\u001b[49m\u001b[43m(\u001b[49m\n\u001b[0;32m      2\u001b[0m \u001b[43m            \u001b[49m\u001b[43mmodel\u001b[49m\u001b[38;5;241;43m=\u001b[39;49m\u001b[43mmodel\u001b[49m\u001b[43m,\u001b[49m\u001b[43m \u001b[49m\n\u001b[0;32m      3\u001b[0m \u001b[43m            \u001b[49m\u001b[43mval_loader\u001b[49m\u001b[38;5;241;43m=\u001b[39;49m\u001b[43mval_loader\u001b[49m\u001b[43m,\u001b[49m\u001b[43m \u001b[49m\n\u001b[0;32m      4\u001b[0m \u001b[43m            \u001b[49m\u001b[43mcriterion\u001b[49m\u001b[38;5;241;43m=\u001b[39;49m\u001b[43mcriterion\u001b[49m\u001b[43m,\u001b[49m\u001b[43m \u001b[49m\n\u001b[0;32m      5\u001b[0m \u001b[43m            \u001b[49m\u001b[43mdevice\u001b[49m\u001b[38;5;241;43m=\u001b[39;49m\u001b[43mdevice\u001b[49m\u001b[43m,\u001b[49m\u001b[43m \u001b[49m\n\u001b[0;32m      6\u001b[0m \u001b[43m            \u001b[49m\u001b[43mepoch\u001b[49m\u001b[38;5;241;43m=\u001b[39;49m\u001b[38;5;241;43m1\u001b[39;49m\u001b[43m,\u001b[49m\u001b[43m \u001b[49m\n\u001b[0;32m      7\u001b[0m \u001b[43m            \u001b[49m\u001b[43mcalculate_dice_interval\u001b[49m\u001b[38;5;241;43m=\u001b[39;49m\u001b[38;5;241;43m0\u001b[39;49m\n\u001b[0;32m      8\u001b[0m \u001b[43m        \u001b[49m\u001b[43m)\u001b[49m\n",
      "Cell \u001b[1;32mIn[11], line 64\u001b[0m, in \u001b[0;36mvalidate_one_epoch\u001b[1;34m(model, val_loader, criterion, device, epoch, calculate_dice_interval)\u001b[0m\n\u001b[0;32m     61\u001b[0m pbar\u001b[38;5;241m.\u001b[39mset_postfix(loss\u001b[38;5;241m=\u001b[39mloss\u001b[38;5;241m.\u001b[39mitem())\n\u001b[0;32m     63\u001b[0m \u001b[38;5;66;03m# 각 클래스별 Dice 점수 계산\u001b[39;00m\n\u001b[1;32m---> 64\u001b[0m \u001b[38;5;28;01mif\u001b[39;00m \u001b[43mepoch\u001b[49m\u001b[43m \u001b[49m\u001b[38;5;241;43m%\u001b[39;49m\u001b[43m \u001b[49m\u001b[43mcalculate_dice_interval\u001b[49m \u001b[38;5;241m==\u001b[39m \u001b[38;5;241m0\u001b[39m:\n\u001b[0;32m     65\u001b[0m     \u001b[38;5;28;01mfor\u001b[39;00m i \u001b[38;5;129;01min\u001b[39;00m \u001b[38;5;28mrange\u001b[39m(n_classes):\n\u001b[0;32m     66\u001b[0m         pred_i \u001b[38;5;241m=\u001b[39m (preds \u001b[38;5;241m==\u001b[39m i)\n",
      "\u001b[1;31mZeroDivisionError\u001b[0m: integer modulo by zero"
     ]
    }
   ],
   "source": [
    "val_loss = validate_one_epoch(\n",
    "            model=model, \n",
    "            val_loader=val_loader, \n",
    "            criterion=criterion, \n",
    "            device=device, \n",
    "            epoch=1, \n",
    "            calculate_dice_interval=0\n",
    "        )"
   ]
  },
  {
   "cell_type": "code",
   "execution_count": null,
   "metadata": {},
   "outputs": [
    {
     "name": "stdout",
     "output_type": "stream",
     "text": [
      "Processing volume 1/7\n"
     ]
    },
    {
     "name": "stderr",
     "output_type": "stream",
     "text": [
      "Loading dataset: 100%|██████████| 1/1 [00:01<00:00,  1.94s/it]\n"
     ]
    },
    {
     "name": "stdout",
     "output_type": "stream",
     "text": [
      "Processing volume 2/7\n"
     ]
    },
    {
     "name": "stderr",
     "output_type": "stream",
     "text": [
      "Loading dataset: 100%|██████████| 1/1 [00:01<00:00,  1.89s/it]\n"
     ]
    },
    {
     "name": "stdout",
     "output_type": "stream",
     "text": [
      "Processing volume 3/7\n"
     ]
    },
    {
     "name": "stderr",
     "output_type": "stream",
     "text": [
      "Loading dataset: 100%|██████████| 1/1 [00:01<00:00,  1.79s/it]\n"
     ]
    },
    {
     "name": "stdout",
     "output_type": "stream",
     "text": [
      "Submission saved to: submission.csv\n"
     ]
    }
   ],
   "source": [
    "import torch\n",
    "import numpy as np\n",
    "from scipy.ndimage import label, center_of_mass\n",
    "import pandas as pd\n",
    "from tqdm import tqdm\n",
    "from monai.data import CacheDataset, DataLoader\n",
    "from monai.transforms import Compose, NormalizeIntensity\n",
    "import cc3d\n",
    "\n",
    "def dict_to_df(coord_dict, experiment_name):\n",
    "    all_coords = []\n",
    "    all_labels = []\n",
    "    \n",
    "    for label, coords in coord_dict.items():\n",
    "        all_coords.append(coords)\n",
    "        all_labels.extend([label] * len(coords))\n",
    "    \n",
    "    all_coords = np.vstack(all_coords)\n",
    "    df = pd.DataFrame({\n",
    "        'experiment': experiment_name,\n",
    "        'particle_type': all_labels,\n",
    "        'x': all_coords[:, 0],\n",
    "        'y': all_coords[:, 1],\n",
    "        'z': all_coords[:, 2]\n",
    "    })\n",
    "    return df\n",
    "\n",
    "id_to_name = {1: \"apo-ferritin\", \n",
    "              2: \"beta-amylase\",\n",
    "              3: \"beta-galactosidase\", \n",
    "              4: \"ribosome\", \n",
    "              5: \"thyroglobulin\", \n",
    "              6: \"virus-like-particle\"}\n",
    "BLOB_THRESHOLD = 200\n",
    "CERTAINTY_THRESHOLD = 0.05\n",
    "\n",
    "classes = [1, 2, 3, 4, 5, 6]\n",
    "\n",
    "model.eval()\n",
    "with torch.no_grad():\n",
    "    location_dfs = []  # DataFrame 리스트로 초기화\n",
    "    \n",
    "    for vol_idx, run in enumerate(preprocessor.root.runs):\n",
    "        print(f\"Processing volume {vol_idx + 1}/{len(preprocessor.root.runs)}\")\n",
    "        tomogram = preprocessor.processing(run=run, task=\"task\")\n",
    "        task_files = [{\"image\": tomogram}]\n",
    "        task_ds = CacheDataset(data=task_files, transform=non_random_transforms)\n",
    "        task_loader = DataLoader(task_ds, batch_size=1, num_workers=0)\n",
    "        \n",
    "        for task_data in task_loader:\n",
    "            images = task_data['image'].to(\"cuda\")\n",
    "            outputs = sliding_window_inference(\n",
    "                inputs=images,\n",
    "                roi_size=(96, 96, 96),  # ROI 크기\n",
    "                sw_batch_size=4,\n",
    "                predictor=model.forward,\n",
    "                overlap=0.1,\n",
    "                sw_device=\"cuda\",\n",
    "                device=\"cpu\",\n",
    "                buffer_steps=1,\n",
    "                buffer_dim=-1\n",
    "            )\n",
    "            outputs = outputs.argmax(dim=1).squeeze(0).cpu().numpy()  # 클래스 채널 예측\n",
    "            location = {}  # 좌표 저장용 딕셔너리\n",
    "            for c in classes:\n",
    "                cc = cc3d.connected_components(outputs == c)  # cc3d 라벨링\n",
    "                stats = cc3d.statistics(cc)\n",
    "                zyx = stats['centroids'][1:] * 10.012444  # 스케일 변환\n",
    "                zyx_large = zyx[stats['voxel_counts'][1:] > BLOB_THRESHOLD]  # 크기 필터링\n",
    "                xyz = np.ascontiguousarray(zyx_large[:, ::-1])  # 좌표 스왑 (z, y, x -> x, y, z)\n",
    "\n",
    "                location[id_to_name[c]] = xyz  # ID 이름 매칭 저장\n",
    "\n",
    "            # 데이터프레임 변환\n",
    "            df = dict_to_df(location, run.name)\n",
    "            location_dfs.append(df)  # 리스트에 추가\n",
    "        \n",
    "        # if vol_idx == 2:\n",
    "        #     break\n",
    "    \n",
    "    # DataFrame 병합\n",
    "    final_df = pd.concat(location_dfs, ignore_index=True)\n",
    "    \n",
    "    # ID 추가 및 CSV 저장\n",
    "    final_df.insert(loc=0, column='id', value=np.arange(len(final_df)))\n",
    "    final_df.to_csv(\"submission.csv\", index=False)\n",
    "    print(\"Submission saved to: submission.csv\")\n"
   ]
  }
 ],
 "metadata": {
  "kernelspec": {
   "display_name": "UM",
   "language": "python",
   "name": "python3"
  },
  "language_info": {
   "codemirror_mode": {
    "name": "ipython",
    "version": 3
   },
   "file_extension": ".py",
   "mimetype": "text/x-python",
   "name": "python",
   "nbconvert_exporter": "python",
   "pygments_lexer": "ipython3",
   "version": "3.12.7"
  }
 },
 "nbformat": 4,
 "nbformat_minor": 2
}
