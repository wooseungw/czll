{
 "cells": [
  {
   "cell_type": "code",
   "execution_count": null,
   "metadata": {},
   "outputs": [],
   "source": [
    "!pip install zarr"
   ]
  },
  {
   "cell_type": "code",
   "execution_count": null,
   "metadata": {},
   "outputs": [],
   "source": [
    "import os\n",
    "import zarr\n",
    "import matplotlib.pyplot as plt"
   ]
  },
  {
   "cell_type": "code",
   "execution_count": 16,
   "metadata": {},
   "outputs": [],
   "source": [
    "def display_tree(root_dir, indent=\"\"):\n",
    "    print(indent + os.path.basename(root_dir) + \"/\")\n",
    "    indent += \"    \"\n",
    "    \n",
    "    try:\n",
    "        for item in os.listdir(root_dir):\n",
    "            item_path = os.path.join(root_dir, item)\n",
    "            if os.path.isdir(item_path):\n",
    "                display_tree(item_path, indent)\n",
    "            else:\n",
    "                print(indent + item)\n",
    "                \n",
    "    except PermissionError:\n",
    "        print(indent + \"[Access Denied]\")"
   ]
  },
  {
   "cell_type": "code",
   "execution_count": 18,
   "metadata": {},
   "outputs": [
    {
     "name": "stdout",
     "output_type": "stream",
     "text": [
      "TS_5_4/\n",
      "    Picks/\n",
      "        ribosome.json\n",
      "        virus-like-particle.json\n",
      "        beta-galactosidase.json\n",
      "        beta-amylase.json\n",
      "        apo-ferritin.json\n",
      "        thyroglobulin.json\n"
     ]
    }
   ],
   "source": [
    "dir0=\"./kaggle/input/czii-cryo-et-object-identification/train/overlay/ExperimentRuns/TS_5_4\"\n",
    "display_tree(dir0)\n"
   ]
  },
  {
   "cell_type": "code",
   "execution_count": 19,
   "metadata": {},
   "outputs": [
    {
     "data": {
      "text/plain": [
       "['./kaggle/input/czii-cryo-et-object-identification/train/overlay/ExperimentRuns/TS_5_4/Picks/ribosome.json',\n",
       " './kaggle/input/czii-cryo-et-object-identification/train/overlay/ExperimentRuns/TS_5_4/Picks/virus-like-particle.json',\n",
       " './kaggle/input/czii-cryo-et-object-identification/train/overlay/ExperimentRuns/TS_5_4/Picks/beta-galactosidase.json',\n",
       " './kaggle/input/czii-cryo-et-object-identification/train/overlay/ExperimentRuns/TS_5_4/Picks/beta-amylase.json',\n",
       " './kaggle/input/czii-cryo-et-object-identification/train/overlay/ExperimentRuns/TS_5_4/Picks/apo-ferritin.json',\n",
       " './kaggle/input/czii-cryo-et-object-identification/train/overlay/ExperimentRuns/TS_5_4/Picks/thyroglobulin.json']"
      ]
     },
     "execution_count": 19,
     "metadata": {},
     "output_type": "execute_result"
    }
   ],
   "source": [
    "paths=[]\n",
    "for dirname, _, filenames in os.walk(dir0):\n",
    "    for filename in filenames:\n",
    "        paths+=[(os.path.join(dirname, filename))]\n",
    "paths"
   ]
  },
  {
   "cell_type": "code",
   "execution_count": 23,
   "metadata": {},
   "outputs": [
    {
     "data": {
      "text/plain": [
       "defaultdict(int,\n",
       "            {0: 'ribosome',\n",
       "             1: 'virus-like-particle',\n",
       "             2: 'beta-galactosidase',\n",
       "             3: 'beta-amylase',\n",
       "             4: 'apo-ferritin',\n",
       "             5: 'thyroglobulin'})"
      ]
     },
     "execution_count": 23,
     "metadata": {},
     "output_type": "execute_result"
    }
   ],
   "source": [
    "import json\n",
    "\n",
    "def load_from_json(file_path):\n",
    "    with open(file_path, 'r', encoding='utf-8') as f:\n",
    "        data = json.load(f)\n",
    "    return data\n",
    "\n",
    "from collections import defaultdict\n",
    "cnt = defaultdict(int)\n",
    "L=[]\n",
    "for i,path in enumerate(paths):\n",
    "    data=load_from_json(path)\n",
    "    cnt[i]=data['pickable_object_name']\n",
    "    X=[]\n",
    "    Y=[]\n",
    "    Z=[]\n",
    "    Z2=[]\n",
    "    for datai in data['points']:\n",
    "        xyz=datai['location']\n",
    "        X+=[xyz['x']]\n",
    "        Y+=[xyz['y']]\n",
    "        Z+=[xyz['z']]\n",
    "        Z2+=[xyz['z']//170]\n",
    "    L+=[(i,X,Y,Z,Z2)]\n",
    "\n",
    "cnt"
   ]
  },
  {
   "cell_type": "code",
   "execution_count": null,
   "metadata": {},
   "outputs": [],
   "source": [
    "fig = plt.figure(figsize=(13,13))\n",
    "ax = fig.add_subplot(111, projection='3d')\n",
    "\n",
    "for data in L:\n",
    "    i, X, Y, Z, Z2 = data  \n",
    "    scatter = ax.scatter(X, Y, Z, c=[i]*len(X), vmin=0, vmax=5, cmap='viridis', label=cnt[i]) \n",
    "\n",
    "ax.set_xlabel('X Label')\n",
    "ax.set_ylabel('Y Label')\n",
    "ax.set_zlabel('Z Label')\n",
    "cbar = fig.colorbar(scatter, ax=ax)\n",
    "cbar.set_label('Label')\n",
    "ax.legend()\n",
    "plt.show()"
   ]
  },
  {
   "cell_type": "code",
   "execution_count": 1,
   "metadata": {},
   "outputs": [],
   "source": [
    "dir0='./kaggle/input/czii-cryo-et-object-identification/train/static/ExperimentRuns/TS_5_4/VoxelSpacing10.000'"
   ]
  },
  {
   "cell_type": "code",
   "execution_count": null,
   "metadata": {},
   "outputs": [
    {
     "data": {
      "text/plain": [
       "['./kaggle/input/czii-cryo-et-object-identification/train/static/ExperimentRuns/TS_5_4/VoxelSpacing10.000/isonetcorrected.zarr',\n",
       " './kaggle/input/czii-cryo-et-object-identification/train/static/ExperimentRuns/TS_5_4/VoxelSpacing10.000/wbp.zarr',\n",
       " './kaggle/input/czii-cryo-et-object-identification/train/static/ExperimentRuns/TS_5_4/VoxelSpacing10.000/denoised.zarr',\n",
       " './kaggle/input/czii-cryo-et-object-identification/train/static/ExperimentRuns/TS_5_4/VoxelSpacing10.000/ctfdeconvolved.zarr']"
      ]
     },
     "execution_count": 7,
     "metadata": {},
     "output_type": "execute_result"
    }
   ],
   "source": [
    "\n",
    "\n",
    "files=os.listdir(dir0)\n",
    "ZARR=[]\n",
    "for file in files:\n",
    "    ZARR+=[os.path.join(dir0,file)]\n",
    "ZARR"
   ]
  },
  {
   "cell_type": "code",
   "execution_count": null,
   "metadata": {},
   "outputs": [],
   "source": [
    "num = 2\n",
    "for j, dir in enumerate(ZARR[num:num+1]):\n",
    "    print(ZARR[num].split('/')[-1])\n",
    "    data = zarr.open(dir, mode='r')\n",
    "    fig = plt.figure(figsize=(12, 20))\n",
    "\n",
    "    for i in range(35):\n",
    "        ax = plt.subplot(7, 5, i + 1)\n",
    "        plt.axis('off')\n",
    "        image = data[2][i]\n",
    "        min_val, max_val = image.min(), image.max()\n",
    "        simage = ((image - min_val) / (max_val - min_val) * 255).astype('uint8')\n",
    "        plt.imshow(simage)\n",
    "    plt.show()\n"
   ]
  }
 ],
 "metadata": {
  "kernelspec": {
   "display_name": "dust",
   "language": "python",
   "name": "python3"
  },
  "language_info": {
   "codemirror_mode": {
    "name": "ipython",
    "version": 3
   },
   "file_extension": ".py",
   "mimetype": "text/x-python",
   "name": "python",
   "nbconvert_exporter": "python",
   "pygments_lexer": "ipython3",
   "version": "3.12.2"
  }
 },
 "nbformat": 4,
 "nbformat_minor": 2
}
