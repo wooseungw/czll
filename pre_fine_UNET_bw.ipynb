{
 "cells": [
  {
   "cell_type": "code",
   "execution_count": 1,
   "metadata": {},
   "outputs": [
    {
     "name": "stderr",
     "output_type": "stream",
     "text": [
      "c:\\Users\\pook0\\.conda\\envs\\UM\\Lib\\site-packages\\tqdm\\auto.py:21: TqdmWarning: IProgress not found. Please update jupyter and ipywidgets. See https://ipywidgets.readthedocs.io/en/stable/user_install.html\n",
      "  from .autonotebook import tqdm as notebook_tqdm\n"
     ]
    },
    {
     "name": "stdout",
     "output_type": "stream",
     "text": [
      "MONAI version: 1.4.0\n",
      "Numpy version: 1.26.4\n",
      "Pytorch version: 2.4.1+cu121\n",
      "MONAI flags: HAS_EXT = False, USE_COMPILED = False, USE_META_DICT = False\n",
      "MONAI rev id: 46a5272196a6c2590ca2589029eed8e4d56ff008\n",
      "MONAI __file__: c:\\Users\\<username>\\.conda\\envs\\UM\\Lib\\site-packages\\monai\\__init__.py\n",
      "\n",
      "Optional dependencies:\n",
      "Pytorch Ignite version: NOT INSTALLED or UNKNOWN VERSION.\n",
      "ITK version: NOT INSTALLED or UNKNOWN VERSION.\n",
      "Nibabel version: 5.3.2\n",
      "scikit-image version: 0.24.0\n",
      "scipy version: 1.14.1\n",
      "Pillow version: 10.2.0\n",
      "Tensorboard version: 2.18.0\n",
      "gdown version: 5.2.0\n",
      "TorchVision version: 0.19.1+cu121\n",
      "tqdm version: 4.66.5\n",
      "lmdb version: NOT INSTALLED or UNKNOWN VERSION.\n",
      "psutil version: 6.0.0\n",
      "pandas version: 2.2.3\n",
      "einops version: 0.8.0\n",
      "transformers version: NOT INSTALLED or UNKNOWN VERSION.\n",
      "mlflow version: 2.17.2\n",
      "pynrrd version: NOT INSTALLED or UNKNOWN VERSION.\n",
      "clearml version: NOT INSTALLED or UNKNOWN VERSION.\n",
      "\n",
      "For details about installing the optional dependencies, please visit:\n",
      "    https://docs.monai.io/en/latest/installation.html#installing-the-recommended-dependencies\n",
      "\n"
     ]
    }
   ],
   "source": [
    "import os\n",
    "import shutil\n",
    "import tempfile\n",
    "\n",
    "import matplotlib.pyplot as plt\n",
    "from tqdm import tqdm\n",
    "\n",
    "import random\n",
    "import numpy as np\n",
    "import torch\n",
    "\n",
    "from src.models import UNet_CBAM\n",
    "\n",
    "from monai.losses import DiceCELoss\n",
    "from monai.inferers import sliding_window_inference\n",
    "from monai.transforms import (\n",
    "    AsDiscrete,\n",
    "    EnsureChannelFirstd,\n",
    "    Compose,\n",
    "    CropForegroundd,\n",
    "    LoadImaged,\n",
    "    Orientationd,\n",
    "    RandFlipd,\n",
    "    RandCropByPosNegLabeld,\n",
    "    RandShiftIntensityd,\n",
    "    ScaleIntensityRanged,\n",
    "    Spacingd,\n",
    "    RandRotate90d,\n",
    ")\n",
    "\n",
    "from monai.config import print_config\n",
    "from monai.metrics import DiceMetric\n",
    "# from src.models.swincspunetr import SwinCSPUNETR\n",
    "# from src.models.swincspunetr_unet import SwinCSPUNETR_unet\n",
    "# from src.models.swincspunetr3plus import SwinCSPUNETR3plus\n",
    "\n",
    "from monai.data import (\n",
    "    DataLoader,\n",
    "    CacheDataset,\n",
    "    load_decathlon_datalist,\n",
    "    decollate_batch,\n",
    ")\n",
    "\n",
    "# 랜덤 시드 고정\n",
    "def set_seed(seed):\n",
    "    random.seed(seed)\n",
    "    np.random.seed(seed)\n",
    "    torch.manual_seed(seed)\n",
    "    if torch.cuda.is_available():\n",
    "        torch.cuda.manual_seed_all(seed)\n",
    "\n",
    "set_seed(42)\n",
    "\n",
    "\n",
    "print_config()"
   ]
  },
  {
   "cell_type": "code",
   "execution_count": 2,
   "metadata": {},
   "outputs": [
    {
     "name": "stdout",
     "output_type": "stream",
     "text": [
      "클래스 비율: {0: 0.0, 1: 0.16393442622950818, 2: 0.01639344262295082, 3: 0.2459016393442623, 4: 0.16393442622950818, 5: 0.2459016393442623, 6: 0.16393442622950818}\n",
      "최종 합계: 1.0\n",
      "클래스 비율 리스트: [0.0, 0.16393442622950818, 0.01639344262295082, 0.2459016393442623, 0.16393442622950818, 0.2459016393442623, 0.16393442622950818]\n"
     ]
    }
   ],
   "source": [
    "class_info = {\n",
    "    0: {\"name\": \"background\", \"weight\": 0},  # weight 없음\n",
    "    1: {\"name\": \"apo-ferritin\", \"weight\": 1000},\n",
    "    2: {\"name\": \"beta-amylase\", \"weight\": 100}, # 4130\n",
    "    3: {\"name\": \"beta-galactosidase\", \"weight\": 1500}, #3080\n",
    "    4: {\"name\": \"ribosome\", \"weight\": 1000},\n",
    "    5: {\"name\": \"thyroglobulin\", \"weight\": 1500},\n",
    "    6: {\"name\": \"virus-like-particle\", \"weight\": 1000},\n",
    "}\n",
    "\n",
    "# 가중치에 비례한 비율 계산\n",
    "raw_ratios = {\n",
    "    k: (v[\"weight\"] if v[\"weight\"] is not None else 0.01)  # 가중치 비례, None일 경우 기본값a\n",
    "    for k, v in class_info.items()\n",
    "}\n",
    "total = sum(raw_ratios.values())\n",
    "ratios = {k: v / total for k, v in raw_ratios.items()}\n",
    "\n",
    "# 최종 합계가 1인지 확인\n",
    "final_total = sum(ratios.values())\n",
    "print(\"클래스 비율:\", ratios)\n",
    "print(\"최종 합계:\", final_total)\n",
    "\n",
    "# 비율을 리스트로 변환\n",
    "ratios_list = [ratios[k] for k in sorted(ratios.keys())]\n",
    "print(\"클래스 비율 리스트:\", ratios_list)"
   ]
  },
  {
   "cell_type": "markdown",
   "metadata": {},
   "source": [
    "# 모델 설정"
   ]
  },
  {
   "cell_type": "code",
   "execution_count": 3,
   "metadata": {},
   "outputs": [],
   "source": [
    "from src.dataset.dataset import create_dataloaders, create_dataloaders_bw\n",
    "from monai.transforms import (\n",
    "    Compose, LoadImaged, EnsureChannelFirstd, NormalizeIntensityd,\n",
    "    Orientationd, CropForegroundd, GaussianSmoothd, ScaleIntensityd,\n",
    "    RandSpatialCropd, RandRotate90d, RandFlipd, RandGaussianNoised,\n",
    "    ToTensord, RandCropByLabelClassesd, RandCropd,RandCropByPosNegLabeld, RandGaussianSmoothd\n",
    ")\n",
    "from monai.transforms import CastToTyped\n",
    "import numpy as np\n",
    "\n",
    "train_img_dir = \"./datasets/pretrain_exdata/images\"\n",
    "train_label_dir = \"./datasets/pretrain_exdata/labels\"\n",
    "val_img_dir = \"./datasets/val/images\"\n",
    "val_label_dir = \"./datasets/val/labels\"\n",
    "# DATA CONFIG\n",
    "img_size =  96 # Match your patch size\n",
    "img_depth = img_size\n",
    "n_classes = 7\n",
    "batch_size = 16 # 13.8GB GPU memory required for 128x128 img size\n",
    "loader_batch = 1\n",
    "num_samples = batch_size // loader_batch # 한 이미지에서 뽑을 샘플 수\n",
    "num_repeat = 4\n",
    "# MODEL CONFIG\n",
    "num_epochs = 4000\n",
    "lamda = 0.52\n",
    "ce_weight = 0.4\n",
    "lr = 0.001\n",
    "feature_size = 48\n",
    "use_checkpoint = True\n",
    "use_v2 = True\n",
    "drop_rate= 0.25\n",
    "attn_drop_rate = 0.25\n",
    "num_bottleneck = 2\n",
    "# CLASS_WEIGHTS\n",
    "class_weights = None\n",
    "# class_weights = torch.tensor([0.0001, 1, 0.001, 1.1, 1, 1.1, 1], dtype=torch.float32)  # 클래스별 가중치\n",
    "# class_weights = torch.tensor([0.9,1,0.9,1.1,1,1.1,1], dtype=torch.float32)  # 클래스별 가중치\n",
    "class_weights = torch.tensor([1,1,1,1,1,1,1], dtype=torch.float32)  # 클래스별 가중치\n",
    "sigma = 2.0\n",
    "accumulation_steps = 1\n",
    "# INIT\n",
    "start_epoch = 0\n",
    "best_val_loss = float('inf')\n",
    "best_val_fbeta_score = 0\n",
    "\n",
    "non_random_transforms = Compose([\n",
    "    EnsureChannelFirstd(keys=[\"image\", \"label\"], channel_dim=\"no_channel\"),\n",
    "    NormalizeIntensityd(keys=\"image\"),\n",
    "    Orientationd(keys=[\"image\", \"label\"], axcodes=\"RAS\"),\n",
    "    # GaussianSmoothd(\n",
    "    #     keys=[\"image\"],      # 변환을 적용할 키\n",
    "    #     sigma=[sigma, sigma, sigma]  # 각 축(x, y, z)의 시그마 값\n",
    "    #     ),\n",
    "])\n",
    "random_transforms = Compose([\n",
    "    RandCropByLabelClassesd(\n",
    "        keys=[\"image\", \"label\"],\n",
    "        label_key=\"label\",\n",
    "        spatial_size=[img_depth, img_size, img_size],\n",
    "        num_classes=n_classes,\n",
    "        num_samples=num_samples, \n",
    "        ratios=ratios_list,\n",
    "    ),\n",
    "    RandRotate90d(keys=[\"image\", \"label\"], prob=0.5, spatial_axes=[1, 2]),\n",
    "    RandFlipd(keys=[\"image\", \"label\"], prob=0.5, spatial_axis=0),\n",
    "    RandFlipd(keys=[\"image\", \"label\"], prob=0.5, spatial_axis=1),\n",
    "    RandFlipd(keys=[\"image\", \"label\"], prob=0.5, spatial_axis=2),\n",
    "    RandGaussianSmoothd(\n",
    "    keys=[\"image\"],      # 변환을 적용할 키\n",
    "    sigma_x = (0.0, sigma), # 각 축(x, y, z)의 시그마 값\n",
    "    sigma_y = (0.0, sigma),\n",
    "    sigma_z = (0.0, sigma),\n",
    "    prob=1.0,\n",
    "    ),\n",
    "])\n",
    "val_random_transforms = Compose([\n",
    "    RandCropByLabelClassesd(\n",
    "        keys=[\"image\", \"label\"],\n",
    "        label_key=\"label\",\n",
    "        spatial_size=[img_depth, img_size, img_size],\n",
    "        num_classes=n_classes,\n",
    "        num_samples=num_samples, \n",
    "        ratios=ratios_list,\n",
    "    ),\n",
    "    RandRotate90d(keys=[\"image\", \"label\"], prob=0.5, spatial_axes=[1, 2]),\n",
    "    RandFlipd(keys=[\"image\", \"label\"], prob=0.5, spatial_axis=0),\n",
    "    RandFlipd(keys=[\"image\", \"label\"], prob=0.5, spatial_axis=1),\n",
    "    RandFlipd(keys=[\"image\", \"label\"], prob=0.5, spatial_axis=2),\n",
    "    # RandGaussianSmoothd(\n",
    "    # keys=[\"image\"],      # 변환을 적용할 키\n",
    "    # sigma_x = (0.0, sigma), # 각 축(x, y, z)의 시그마 값\n",
    "    # sigma_y = (0.0, sigma),\n",
    "    # sigma_z = (0.0, sigma),\n",
    "    # prob=1.0,\n",
    "    # ),\n",
    "])\n"
   ]
  },
  {
   "cell_type": "code",
   "execution_count": 4,
   "metadata": {},
   "outputs": [
    {
     "name": "stderr",
     "output_type": "stream",
     "text": [
      "Loading dataset: 100%|██████████| 51/51 [00:04<00:00, 10.63it/s]\n",
      "Loading dataset: 100%|██████████| 1/1 [00:00<00:00,  8.40it/s]\n"
     ]
    }
   ],
   "source": [
    "train_loader, val_loader = None, None\n",
    "train_loader, val_loader = create_dataloaders_bw(\n",
    "    train_img_dir, \n",
    "    train_label_dir, \n",
    "    val_img_dir, \n",
    "    val_label_dir, \n",
    "    non_random_transforms = non_random_transforms, \n",
    "    val_non_random_transforms=non_random_transforms,\n",
    "    random_transforms = random_transforms, \n",
    "    val_random_transforms=val_random_transforms,\n",
    "    batch_size = loader_batch,\n",
    "    num_workers=0,\n",
    "    train_num_repeat=num_repeat\n",
    "    )"
   ]
  },
  {
   "cell_type": "markdown",
   "metadata": {},
   "source": [
    "https://monai.io/model-zoo.html"
   ]
  },
  {
   "cell_type": "code",
   "execution_count": 5,
   "metadata": {},
   "outputs": [],
   "source": [
    "import torch\n",
    "import torch.nn as nn\n",
    "import torch.nn.functional as F\n",
    "from monai.losses import TverskyLoss\n",
    "\n",
    "device = torch.device(\"cuda\" if torch.cuda.is_available() else \"cpu\")\n",
    "\n",
    "# DynamicTverskyLoss 클래스 정의\n",
    "class DynamicTverskyLoss(TverskyLoss):\n",
    "    def __init__(self, lamda=0.5, **kwargs):\n",
    "        super().__init__(alpha=1 - lamda, beta=lamda, **kwargs)\n",
    "        self.lamda = lamda\n",
    "\n",
    "    def set_lamda(self, lamda):\n",
    "        self.lamda = lamda\n",
    "        self.alpha = 1 - lamda\n",
    "        self.beta = lamda\n",
    "\n",
    "\n",
    "# CombinedCETverskyLoss 클래스\n",
    "class CombinedCETverskyLoss(nn.Module):\n",
    "    def __init__(self, lamda=0.5, ce_weight=0.5, n_classes=7, class_weights=None, ignore_index=-1, **kwargs):\n",
    "        super().__init__()\n",
    "        self.n_classes = n_classes\n",
    "        self.ce_weight = ce_weight\n",
    "        self.ignore_index = ignore_index\n",
    "        \n",
    "        # CrossEntropyLoss에서 클래스별 가중치를 적용\n",
    "        self.ce = nn.CrossEntropyLoss(weight=class_weights, ignore_index=self.ignore_index, reduction='mean', **kwargs)\n",
    "        \n",
    "        # TverskyLoss\n",
    "        self.tversky = DynamicTverskyLoss(lamda=lamda, reduction=\"none\",softmax=True, **kwargs)\n",
    "\n",
    "    def forward(self, inputs, targets):\n",
    "        \n",
    "        # CrossEntropyLoss는 정수형 클래스 인덱스를 사용\n",
    "        ce_loss = self.ce(inputs, targets)\n",
    "\n",
    "        # TverskyLoss 계산 (원핫 인코딩된 라벨을 사용)\n",
    "        \n",
    "        tversky_loss = self.tversky(inputs, targets)\n",
    "\n",
    "        # 클래스별 가중치 적용 (Tversky 손실에도 가중치를 곱하기)\n",
    "        class_weights = torch.tensor(self.ce.weight)  # CrossEntropy의 weight를 사용\n",
    "\n",
    "        # Tversky 손실이 (B, num_classes) 형태이므로, 가중치를 클래스 차원에 곱합니다.\n",
    "        tversky_loss = tversky_loss * class_weights.view(1, self.n_classes)\n",
    "\n",
    "        # 최종 손실 계산\n",
    "        final_loss = self.ce_weight * ce_loss + (1 - self.ce_weight) * tversky_loss.mean()  # mean()으로 배치에 대해 평균\n",
    "        return final_loss\n",
    "\n",
    "    def set_lamda(self, lamda):\n",
    "        self.tversky.set_lamda(lamda)\n",
    "\n",
    "    @property\n",
    "    def lamda(self):\n",
    "        return self.tversky.lamda\n",
    "\n",
    "criterion = CombinedCETverskyLoss(\n",
    "    lamda=lamda,\n",
    "    ce_weight=ce_weight,\n",
    "    n_classes=n_classes,\n",
    "    class_weights=class_weights,\n",
    ").to(device)"
   ]
  },
  {
   "cell_type": "code",
   "execution_count": 6,
   "metadata": {},
   "outputs": [
    {
     "name": "stdout",
     "output_type": "stream",
     "text": [
      "기존 best model 발견: model_checkpoints\\UNET_randGaus_511_241_noclswt_f48_d96s96_numb2_lr1e-03_a0.52_b0.48_b16_r4_ce0.4_ac1\\best_model.pt\n",
      "기존 학습된 가중치를 성공적으로 로드했습니다.\n"
     ]
    },
    {
     "name": "stderr",
     "output_type": "stream",
     "text": [
      "C:\\Users\\pook0\\AppData\\Local\\Temp\\ipykernel_11996\\3570986466.py:38: FutureWarning: You are using `torch.load` with `weights_only=False` (the current default value), which uses the default pickle module implicitly. It is possible to construct malicious pickle data which will execute arbitrary code during unpickling (See https://github.com/pytorch/pytorch/blob/main/SECURITY.md#untrusted-models for more details). In a future release, the default value for `weights_only` will be flipped to `True`. This limits the functions that could be executed during unpickling. Arbitrary objects will no longer be allowed to be loaded via this mode unless they are explicitly allowlisted by the user via `torch.serialization.add_safe_globals`. We recommend you start setting `weights_only=True` for any use case where you don't have full control of the loaded file. Please open an issue on GitHub for any issues related to this experimental feature.\n",
      "  checkpoint = torch.load(best_model_path, map_location=device)\n"
     ]
    }
   ],
   "source": [
    "import torch.optim as optim\n",
    "from tqdm import tqdm\n",
    "import numpy as np\n",
    "import torch\n",
    "from pathlib import Path\n",
    "from monai.networks.nets import UNet\n",
    "from src.models import DP_UNet\n",
    "\n",
    "device = torch.device(\"cuda\" if torch.cuda.is_available() else \"cpu\")\n",
    "\n",
    "\n",
    "model = UNet(\n",
    "    spatial_dims=3,\n",
    "    in_channels=1,\n",
    "    out_channels=n_classes,\n",
    "    channels=(32, 64, 128, 256),\n",
    "    strides=(2, 2, 2),\n",
    "    dropout = drop_rate,\n",
    ").to(device)\n",
    "\n",
    "pretrain_str = \"yes\" if use_checkpoint else \"no\"\n",
    "weight_str = \"weighted\" if class_weights is not None else \"\"\n",
    "\n",
    "# 체크포인트 디렉토리 및 파일 설정\n",
    "checkpoint_base_dir = Path(\"./model_checkpoints\")\n",
    "folder_name = f\"UNET_randGaus_511_241_noclswt_f{feature_size}_d{img_depth}s{img_size}_numb{num_bottleneck}_lr{lr:.0e}_a{lamda:.2f}_b{1-lamda:.2f}_b{batch_size}_r{num_repeat}_ce{ce_weight}_ac{accumulation_steps}\"\n",
    "checkpoint_dir = checkpoint_base_dir / folder_name\n",
    "optimizer = optim.AdamW(model.parameters(), lr=lr, weight_decay=1e-5)\n",
    "scheduler = torch.optim.lr_scheduler.ReduceLROnPlateau(optimizer, patience=5, factor=0.5)\n",
    "# 체크포인트 디렉토리 생성\n",
    "checkpoint_dir.mkdir(parents=True, exist_ok=True)\n",
    "\n",
    "if checkpoint_dir.exists():\n",
    "    best_model_path = checkpoint_dir / 'best_model.pt'\n",
    "    if best_model_path.exists():\n",
    "        print(f\"기존 best model 발견: {best_model_path}\")\n",
    "        try:\n",
    "            checkpoint = torch.load(best_model_path, map_location=device)\n",
    "            # 체크포인트 내부 키 검증\n",
    "            required_keys = ['model_state_dict', 'optimizer_state_dict', 'epoch', 'best_val_loss']\n",
    "            if all(k in checkpoint for k in required_keys):\n",
    "                model.load_state_dict(checkpoint['model_state_dict'])\n",
    "                optimizer.load_state_dict(checkpoint['optimizer_state_dict'])\n",
    "                start_epoch = checkpoint['epoch']\n",
    "                best_val_loss = checkpoint['best_val_loss']\n",
    "                print(\"기존 학습된 가중치를 성공적으로 로드했습니다.\")\n",
    "                checkpoint= None\n",
    "            else:\n",
    "                raise ValueError(\"체크포인트 파일에 필요한 key가 없습니다.\")\n",
    "        except Exception as e:\n",
    "            print(f\"체크포인트 파일을 로드하는 중 오류 발생: {e}\")"
   ]
  },
  {
   "cell_type": "code",
   "execution_count": 7,
   "metadata": {},
   "outputs": [
    {
     "name": "stdout",
     "output_type": "stream",
     "text": [
      "torch.Size([16, 1, 96, 96, 96]) torch.Size([16, 1, 96, 96, 96])\n"
     ]
    }
   ],
   "source": [
    "batch = next(iter(val_loader))\n",
    "images, labels = batch[\"image\"], batch[\"label\"]\n",
    "print(images.shape, labels.shape)"
   ]
  },
  {
   "cell_type": "code",
   "execution_count": 8,
   "metadata": {},
   "outputs": [],
   "source": [
    "torch.backends.cudnn.benchmark = True"
   ]
  },
  {
   "cell_type": "code",
   "execution_count": 9,
   "metadata": {},
   "outputs": [
    {
     "name": "stderr",
     "output_type": "stream",
     "text": [
      "\u001b[34m\u001b[1mwandb\u001b[0m: Using wandb-core as the SDK backend.  Please refer to https://wandb.me/wandb-core for more information.\n",
      "\u001b[34m\u001b[1mwandb\u001b[0m: Currently logged in as: \u001b[33mpook0612\u001b[0m (\u001b[33mlimbw\u001b[0m). Use \u001b[1m`wandb login --relogin`\u001b[0m to force relogin\n"
     ]
    },
    {
     "data": {
      "text/html": [
       "Tracking run with wandb version 0.19.1"
      ],
      "text/plain": [
       "<IPython.core.display.HTML object>"
      ]
     },
     "metadata": {},
     "output_type": "display_data"
    },
    {
     "data": {
      "text/html": [
       "Run data is saved locally in <code>d:\\Workspace\\czll\\wandb\\run-20250117_023936-vevg32h8</code>"
      ],
      "text/plain": [
       "<IPython.core.display.HTML object>"
      ]
     },
     "metadata": {},
     "output_type": "display_data"
    },
    {
     "data": {
      "text/html": [
       "Syncing run <strong><a href='https://wandb.ai/limbw/czii_UNet/runs/vevg32h8' target=\"_blank\">UNET_randGaus_511_241_noclswt_f48_d96s96_numb2_lr1e-03_a0.52_b0.48_b16_r4_ce0.4_ac1</a></strong> to <a href='https://wandb.ai/limbw/czii_UNet' target=\"_blank\">Weights & Biases</a> (<a href='https://wandb.me/developer-guide' target=\"_blank\">docs</a>)<br>"
      ],
      "text/plain": [
       "<IPython.core.display.HTML object>"
      ]
     },
     "metadata": {},
     "output_type": "display_data"
    },
    {
     "data": {
      "text/html": [
       " View project at <a href='https://wandb.ai/limbw/czii_UNet' target=\"_blank\">https://wandb.ai/limbw/czii_UNet</a>"
      ],
      "text/plain": [
       "<IPython.core.display.HTML object>"
      ]
     },
     "metadata": {},
     "output_type": "display_data"
    },
    {
     "data": {
      "text/html": [
       " View run at <a href='https://wandb.ai/limbw/czii_UNet/runs/vevg32h8' target=\"_blank\">https://wandb.ai/limbw/czii_UNet/runs/vevg32h8</a>"
      ],
      "text/plain": [
       "<IPython.core.display.HTML object>"
      ]
     },
     "metadata": {},
     "output_type": "display_data"
    }
   ],
   "source": [
    "import wandb\n",
    "from datetime import datetime\n",
    "\n",
    "current_time = datetime.now().strftime('%Y%m%d_%H%M%S')\n",
    "run_name = folder_name\n",
    "\n",
    "# wandb 초기화\n",
    "wandb.init(\n",
    "    project='czii_UNet',  # 프로젝트 이름 설정\n",
    "    name=run_name,         # 실행(run) 이름 설정\n",
    "    config={\n",
    "        'num_epochs': num_epochs,\n",
    "        'learning_rate': lr,\n",
    "        'batch_size': batch_size,\n",
    "        'lambda': lamda,\n",
    "        \"cross_entropy_weight\": ce_weight,\n",
    "        'feature_size': feature_size,\n",
    "        'img_size': img_size,\n",
    "        'sampling_ratio': ratios_list,\n",
    "        'device': device.type,\n",
    "        \"checkpoint_dir\": str(checkpoint_dir),\n",
    "        \"class_weights\": class_weights.tolist() if class_weights is not None else None,\n",
    "        \"use_checkpoint\": use_checkpoint,\n",
    "        \"drop_rate\": drop_rate,\n",
    "        \"attn_drop_rate\": attn_drop_rate,\n",
    "        \"use_v2\": use_v2,\n",
    "        \"accumulation_steps\": accumulation_steps,\n",
    "        \"num_repeat\": num_repeat,\n",
    "        \"num_bottleneck\": num_bottleneck,\n",
    "        \n",
    "        # 필요한 하이퍼파라미터 추가\n",
    "    }\n",
    ")\n",
    "# 모델을 wandb에 연결\n",
    "wandb.watch(model, log='all')"
   ]
  },
  {
   "cell_type": "markdown",
   "metadata": {},
   "source": [
    "# 학습"
   ]
  },
  {
   "cell_type": "code",
   "execution_count": 10,
   "metadata": {},
   "outputs": [],
   "source": [
    "from monai.metrics import DiceMetric\n",
    "    \n",
    "def processing(batch_data, model, criterion, device):\n",
    "    images = batch_data['image'].to(device)  # Input 이미지 (B, 1, 96, 96, 96)\n",
    "    labels = batch_data['label'].to(device)  # 라벨 (B, 96, 96, 96)\n",
    "\n",
    "    labels = labels.squeeze(1)  # (B, 1, 96, 96, 96) → (B, 96, 96, 96)\n",
    "    labels = labels.long()  # 라벨을 정수형으로 변환\n",
    "\n",
    "    # 원핫 인코딩 (B, H, W, D) → (B, num_classes, H, W, D)\n",
    "    \n",
    "    labels_onehot = torch.nn.functional.one_hot(labels, num_classes=n_classes)\n",
    "    labels_onehot = labels_onehot.permute(0, 4, 1, 2, 3).float()  # (B, num_classes, H, W, D)\n",
    "\n",
    "    # 모델 예측\n",
    "    outputs = model(images)  # outputs: (B, num_classes, H, W, D)\n",
    "\n",
    "    # Loss 계산\n",
    "    loss = criterion(outputs, labels_onehot)\n",
    "    # loss = loss_fn(criterion(outputs, labels_onehot),class_weights=class_weights, device=device)\n",
    "    return loss, outputs, labels, outputs.argmax(dim=1)\n",
    "\n",
    "def train_one_epoch(model, train_loader, criterion, optimizer, device, epoch, accumulation_steps=4):\n",
    "    model.train()\n",
    "    epoch_loss = 0\n",
    "    optimizer.zero_grad()  # 그래디언트 초기화\n",
    "    with tqdm(train_loader, desc='Training') as pbar:\n",
    "        for i, batch_data in enumerate(pbar):\n",
    "            # 손실 계산\n",
    "            loss, _, _, _ = processing(batch_data, model, criterion, device)\n",
    "\n",
    "            # 그래디언트를 계산하고 누적\n",
    "            loss = loss / accumulation_steps  # 그래디언트 누적을 위한 스케일링\n",
    "            loss.backward()  # 그래디언트 계산 및 누적\n",
    "            \n",
    "            # 그래디언트 업데이트 (accumulation_steps마다 한 번)\n",
    "            if (i + 1) % accumulation_steps == 0 or (i + 1) == len(train_loader):\n",
    "                optimizer.step()  # 파라미터 업데이트\n",
    "                optimizer.zero_grad()  # 누적된 그래디언트 초기화\n",
    "            \n",
    "            # 손실값 누적 (스케일링 복구)\n",
    "            epoch_loss += loss.item() * accumulation_steps  # 실제 손실값 반영\n",
    "            pbar.set_postfix(loss=loss.item() * accumulation_steps)  # 실제 손실값 출력\n",
    "    avg_loss = epoch_loss / len(train_loader)\n",
    "    wandb.log({'train_epoch_loss': avg_loss, 'epoch': epoch + 1})\n",
    "    return avg_loss\n",
    "\n",
    "\n",
    "def validate_one_epoch(model, val_loader, criterion, device, epoch, calculate_dice_interval):\n",
    "    model.eval()\n",
    "    val_loss = 0\n",
    "    \n",
    "    class_dice_scores = {i: [] for i in range(n_classes)}\n",
    "    class_f_beta_scores = {i: [] for i in range(n_classes)}\n",
    "    with torch.no_grad():\n",
    "        with tqdm(val_loader, desc='Validation') as pbar:\n",
    "            for batch_data in pbar:\n",
    "                loss, _, labels, preds = processing(batch_data, model, criterion, device)\n",
    "                val_loss += loss.item()\n",
    "                pbar.set_postfix(loss=loss.item())\n",
    "\n",
    "                # 각 클래스별 Dice 점수 계산\n",
    "                if epoch % calculate_dice_interval == 0:\n",
    "                    for i in range(n_classes):\n",
    "                        pred_i = (preds == i)\n",
    "                        label_i = (labels == i)\n",
    "                        dice_score = (2.0 * torch.sum(pred_i & label_i)) / (torch.sum(pred_i) + torch.sum(label_i) + 1e-8)\n",
    "                        class_dice_scores[i].append(dice_score.item())\n",
    "                        precision = (torch.sum(pred_i & label_i) + 1e-8) / (torch.sum(pred_i) + 1e-8)\n",
    "                        recall = (torch.sum(pred_i & label_i) + 1e-8) / (torch.sum(label_i) + 1e-8)\n",
    "                        f_beta_score = (1 + 4**2) * (precision * recall) / (4**2 * precision + recall + 1e-8)\n",
    "                        class_f_beta_scores[i].append(f_beta_score.item())\n",
    "\n",
    "    avg_loss = val_loss / len(val_loader)\n",
    "    # 에포크별 평균 손실 로깅\n",
    "    wandb.log({'val_epoch_loss': avg_loss, 'epoch': epoch + 1})\n",
    "    \n",
    "    # 각 클래스별 평균 Dice 점수 출력\n",
    "    if epoch % calculate_dice_interval == 0:\n",
    "        print(\"Validation Dice Score\")\n",
    "        all_classes_dice_scores = []\n",
    "        for i in range(n_classes):\n",
    "            mean_dice = np.mean(class_dice_scores[i])\n",
    "            wandb.log({f'class_{i}_dice_score': mean_dice, 'epoch': epoch + 1})\n",
    "            print(f\"Class {i}: {mean_dice:.4f}\", end=\", \")\n",
    "            if i not in [0, 2]:  # 평균에 포함할 클래스만 추가\n",
    "                all_classes_dice_scores.append(mean_dice)\n",
    "            \n",
    "        print()\n",
    "    if epoch % calculate_dice_interval == 0:\n",
    "        print(\"Validation F-beta Score\")\n",
    "        all_classes_fbeta_scores = []\n",
    "        for i in range(n_classes):\n",
    "            mean_fbeta = np.mean(class_f_beta_scores[i])\n",
    "            wandb.log({f'class_{i}_f_beta_score': mean_fbeta, 'epoch': epoch + 1})\n",
    "            print(f\"Class {i}: {mean_fbeta:.4f}\", end=\", \")\n",
    "            if i not in [0, 2]:  # 평균에 포함할 클래스만 추가\n",
    "                all_classes_fbeta_scores.append(mean_fbeta)\n",
    "                \n",
    "        print()\n",
    "        overall_mean_dice = np.mean(all_classes_dice_scores)\n",
    "        overall_mean_fbeta = np.mean(all_classes_fbeta_scores)\n",
    "        wandb.log({'overall_mean_f_beta_score': overall_mean_fbeta, 'overall_mean_dice_score': overall_mean_dice, 'epoch': epoch + 1})\n",
    "        print(f\"\\nOverall Mean Dice Score: {overall_mean_dice:.4f}\\nOverall Mean F-beta Score: {overall_mean_fbeta:.4f}\\n\")\n",
    "\n",
    "    if overall_mean_fbeta is None:\n",
    "        overall_mean_fbeta = 0\n",
    "\n",
    "    return val_loss / len(val_loader), overall_mean_fbeta\n",
    "\n",
    "def train_model(\n",
    "    model, train_loader, val_loader, criterion, optimizer, num_epochs, patience, \n",
    "    device, start_epoch, best_val_loss, best_val_fbeta_score, calculate_dice_interval=1,\n",
    "    accumulation_steps=4\n",
    "):\n",
    "    \"\"\"\n",
    "    모델을 학습하고 검증하는 함수\n",
    "    Args:\n",
    "        model: 학습할 모델\n",
    "        train_loader: 학습 데이터 로더\n",
    "        val_loader: 검증 데이터 로더\n",
    "        criterion: 손실 함수\n",
    "        optimizer: 최적화 알고리즘\n",
    "        num_epochs: 총 학습 epoch 수\n",
    "        patience: early stopping 기준\n",
    "        device: GPU/CPU 장치\n",
    "        start_epoch: 시작 epoch\n",
    "        best_val_loss: 이전 최적 validation loss\n",
    "        best_val_fbeta_score: 이전 최적 validation f-beta score\n",
    "        calculate_dice_interval: Dice 점수 계산 주기\n",
    "    \"\"\"\n",
    "    epochs_no_improve = 0\n",
    "\n",
    "    for epoch in range(start_epoch, num_epochs):\n",
    "        print(f\"Epoch {epoch + 1}/{num_epochs}\")\n",
    "\n",
    "        # Train One Epoch\n",
    "        train_loss = train_one_epoch(\n",
    "            model=model, \n",
    "            train_loader=train_loader, \n",
    "            criterion=criterion, \n",
    "            optimizer=optimizer, \n",
    "            device=device,\n",
    "            epoch=epoch,\n",
    "            accumulation_steps= accumulation_steps\n",
    "        )\n",
    "        \n",
    "        scheduler.step(train_loss)\n",
    "        # Validate One Epoch\n",
    "        val_loss, overall_mean_fbeta_score = validate_one_epoch(\n",
    "            model=model, \n",
    "            val_loader=val_loader, \n",
    "            criterion=criterion, \n",
    "            device=device, \n",
    "            epoch=epoch, \n",
    "            calculate_dice_interval=calculate_dice_interval\n",
    "        )\n",
    "\n",
    "        \n",
    "        print(f\"Training Loss: {train_loss:.4f}, Validation Loss: {val_loss:.4f}, Validation F-beta: {overall_mean_fbeta_score:.4f}\")\n",
    "\n",
    "        if val_loss < best_val_loss and overall_mean_fbeta_score > best_val_fbeta_score:\n",
    "            best_val_loss = val_loss\n",
    "            best_val_fbeta_score = overall_mean_fbeta_score\n",
    "            epochs_no_improve = 0\n",
    "            checkpoint_path = os.path.join(checkpoint_dir, 'best_model.pt')\n",
    "            torch.save({\n",
    "                'epoch': epoch + 1,\n",
    "                'model_state_dict': model.state_dict(),\n",
    "                'optimizer_state_dict': optimizer.state_dict(),\n",
    "                'best_val_loss': best_val_loss,\n",
    "                'best_val_fbeta_score': best_val_fbeta_score\n",
    "            }, checkpoint_path)\n",
    "            print(f\"========================================================\")\n",
    "            print(f\"SUPER Best model saved. Loss:{best_val_loss:.4f}, Score:{best_val_fbeta_score:.4f}\")\n",
    "            print(f\"========================================================\")\n",
    "\n",
    "        # Early stopping 조건 체크\n",
    "        if val_loss >= best_val_loss and overall_mean_fbeta_score <= best_val_fbeta_score:\n",
    "            epochs_no_improve += 1\n",
    "        else:\n",
    "            epochs_no_improve = 0\n",
    "\n",
    "        if epochs_no_improve >= patience:\n",
    "            print(\"Early stopping\")\n",
    "            checkpoint_path = os.path.join(checkpoint_dir, 'last.pt')\n",
    "            torch.save({\n",
    "                'epoch': epoch + 1,\n",
    "                'model_state_dict': model.state_dict(),\n",
    "                'optimizer_state_dict': optimizer.state_dict(),\n",
    "                'best_val_loss': best_val_loss,\n",
    "                'best_val_fbeta_score': best_val_fbeta_score\n",
    "            }, checkpoint_path)\n",
    "            break\n",
    "        # if epochs_no_improve % 6 == 0 & epochs_no_improve != 0:\n",
    "        #     # 손실이 개선되지 않았으므로 lambda 감소\n",
    "        #     new_lamda = max(criterion.lamda - 0.01, 0.35)  # 최소값은 0.1로 설정\n",
    "        #     criterion.set_lamda(new_lamda)\n",
    "        #     print(f\"Validation loss did not improve. Reducing lambda to {new_lamda:.4f}\")\n",
    "\n",
    "    wandb.finish()\n"
   ]
  },
  {
   "cell_type": "code",
   "execution_count": 11,
   "metadata": {},
   "outputs": [
    {
     "name": "stdout",
     "output_type": "stream",
     "text": [
      "Epoch 3/4000\n"
     ]
    },
    {
     "name": "stderr",
     "output_type": "stream",
     "text": [
      "Training:   0%|          | 0/204 [00:00<?, ?it/s]C:\\Users\\pook0\\AppData\\Local\\Temp\\ipykernel_11996\\3379185286.py:44: UserWarning: To copy construct from a tensor, it is recommended to use sourceTensor.clone().detach() or sourceTensor.clone().detach().requires_grad_(True), rather than torch.tensor(sourceTensor).\n",
      "  class_weights = torch.tensor(self.ce.weight)  # CrossEntropy의 weight를 사용\n",
      "Training: 100%|██████████| 204/204 [03:34<00:00,  1.05s/it, loss=0.443]\n",
      "Validation: 100%|██████████| 3/3 [00:01<00:00,  1.60it/s, loss=0.493]\n"
     ]
    },
    {
     "name": "stdout",
     "output_type": "stream",
     "text": [
      "Validation Dice Score\n",
      "Class 0: 0.9893, Class 1: 0.0106, Class 2: 0.0000, Class 3: 0.0929, Class 4: 0.5868, Class 5: 0.2053, Class 6: 0.7578, \n",
      "Validation F-beta Score\n",
      "Class 0: 0.9904, Class 1: 0.0074, Class 2: 0.0000, Class 3: 0.1127, Class 4: 0.5912, Class 5: 0.1896, Class 6: 0.7321, \n",
      "\n",
      "Overall Mean Dice Score: 0.3307\n",
      "Overall Mean F-beta Score: 0.3266\n",
      "\n",
      "Training Loss: 0.4945, Validation Loss: 0.4772, Validation F-beta: 0.3266\n",
      "========================================================\n",
      "SUPER Best model saved. Loss:0.4772, Score:0.3266\n",
      "========================================================\n",
      "Epoch 4/4000\n"
     ]
    },
    {
     "name": "stderr",
     "output_type": "stream",
     "text": [
      "Training: 100%|██████████| 204/204 [03:13<00:00,  1.05it/s, loss=0.437]\n",
      "Validation: 100%|██████████| 3/3 [00:01<00:00,  1.57it/s, loss=0.454]\n"
     ]
    },
    {
     "name": "stdout",
     "output_type": "stream",
     "text": [
      "Validation Dice Score\n",
      "Class 0: 0.9872, Class 1: 0.0614, Class 2: 0.0004, Class 3: 0.1830, Class 4: 0.6311, Class 5: 0.2590, Class 6: 0.8066, \n",
      "Validation F-beta Score\n",
      "Class 0: 0.9853, Class 1: 0.1259, Class 2: 0.0002, Class 3: 0.2293, Class 4: 0.7216, Class 5: 0.2225, Class 6: 0.8508, \n",
      "\n",
      "Overall Mean Dice Score: 0.3882\n",
      "Overall Mean F-beta Score: 0.4300\n",
      "\n",
      "Training Loss: 0.4688, Validation Loss: 0.4616, Validation F-beta: 0.4300\n",
      "========================================================\n",
      "SUPER Best model saved. Loss:0.4616, Score:0.4300\n",
      "========================================================\n",
      "Epoch 5/4000\n"
     ]
    },
    {
     "name": "stderr",
     "output_type": "stream",
     "text": [
      "Training: 100%|██████████| 204/204 [03:09<00:00,  1.08it/s, loss=0.412]\n",
      "Validation: 100%|██████████| 3/3 [00:01<00:00,  1.73it/s, loss=0.443]\n"
     ]
    },
    {
     "name": "stdout",
     "output_type": "stream",
     "text": [
      "Validation Dice Score\n",
      "Class 0: 0.9884, Class 1: 0.3103, Class 2: 0.0441, Class 3: 0.1653, Class 4: 0.6360, Class 5: 0.2493, Class 6: 0.8613, \n",
      "Validation F-beta Score\n",
      "Class 0: 0.9871, Class 1: 0.4572, Class 2: 0.0294, Class 3: 0.3332, Class 4: 0.6903, Class 5: 0.2149, Class 6: 0.8009, \n",
      "\n",
      "Overall Mean Dice Score: 0.4444\n",
      "Overall Mean F-beta Score: 0.4993\n",
      "\n",
      "Training Loss: 0.4563, Validation Loss: 0.4498, Validation F-beta: 0.4993\n",
      "========================================================\n",
      "SUPER Best model saved. Loss:0.4498, Score:0.4993\n",
      "========================================================\n",
      "Epoch 6/4000\n"
     ]
    },
    {
     "name": "stderr",
     "output_type": "stream",
     "text": [
      "Training: 100%|██████████| 204/204 [03:09<00:00,  1.08it/s, loss=0.404]\n",
      "Validation: 100%|██████████| 3/3 [00:01<00:00,  1.65it/s, loss=0.444]\n"
     ]
    },
    {
     "name": "stdout",
     "output_type": "stream",
     "text": [
      "Validation Dice Score\n",
      "Class 0: 0.9888, Class 1: 0.3784, Class 2: 0.0565, Class 3: 0.1738, Class 4: 0.6812, Class 5: 0.2296, Class 6: 0.8341, \n",
      "Validation F-beta Score\n",
      "Class 0: 0.9886, Class 1: 0.4968, Class 2: 0.0587, Class 3: 0.3406, Class 4: 0.6711, Class 5: 0.2020, Class 6: 0.8933, \n",
      "\n",
      "Overall Mean Dice Score: 0.4594\n",
      "Overall Mean F-beta Score: 0.5208\n",
      "\n",
      "Training Loss: 0.4416, Validation Loss: 0.4466, Validation F-beta: 0.5208\n",
      "========================================================\n",
      "SUPER Best model saved. Loss:0.4466, Score:0.5208\n",
      "========================================================\n",
      "Epoch 7/4000\n"
     ]
    },
    {
     "name": "stderr",
     "output_type": "stream",
     "text": [
      "Training: 100%|██████████| 204/204 [03:10<00:00,  1.07it/s, loss=0.389]\n",
      "Validation: 100%|██████████| 3/3 [00:01<00:00,  1.65it/s, loss=0.424]\n"
     ]
    },
    {
     "name": "stdout",
     "output_type": "stream",
     "text": [
      "Validation Dice Score\n",
      "Class 0: 0.9871, Class 1: 0.5472, Class 2: 0.1158, Class 3: 0.1628, Class 4: 0.6257, Class 5: 0.2991, Class 6: 0.8712, \n",
      "Validation F-beta Score\n",
      "Class 0: 0.9831, Class 1: 0.6557, Class 2: 0.1314, Class 3: 0.3148, Class 4: 0.7578, Class 5: 0.2928, Class 6: 0.9062, \n",
      "\n",
      "Overall Mean Dice Score: 0.5012\n",
      "Overall Mean F-beta Score: 0.5854\n",
      "\n",
      "Training Loss: 0.4343, Validation Loss: 0.4216, Validation F-beta: 0.5854\n",
      "========================================================\n",
      "SUPER Best model saved. Loss:0.4216, Score:0.5854\n",
      "========================================================\n",
      "Epoch 8/4000\n"
     ]
    },
    {
     "name": "stderr",
     "output_type": "stream",
     "text": [
      "Training: 100%|██████████| 204/204 [03:09<00:00,  1.08it/s, loss=0.389]\n",
      "Validation: 100%|██████████| 3/3 [00:01<00:00,  1.71it/s, loss=0.424]\n"
     ]
    },
    {
     "name": "stdout",
     "output_type": "stream",
     "text": [
      "Validation Dice Score\n",
      "Class 0: 0.9874, Class 1: 0.6270, Class 2: 0.0770, Class 3: 0.1901, Class 4: 0.6559, Class 5: 0.3308, Class 6: 0.8857, \n",
      "Validation F-beta Score\n",
      "Class 0: 0.9818, Class 1: 0.7152, Class 2: 0.1345, Class 3: 0.4884, Class 4: 0.7915, Class 5: 0.3708, Class 6: 0.8953, \n",
      "\n",
      "Overall Mean Dice Score: 0.5379\n",
      "Overall Mean F-beta Score: 0.6523\n",
      "\n",
      "Training Loss: 0.4262, Validation Loss: 0.4232, Validation F-beta: 0.6523\n",
      "Epoch 9/4000\n"
     ]
    },
    {
     "name": "stderr",
     "output_type": "stream",
     "text": [
      "Training: 100%|██████████| 204/204 [03:08<00:00,  1.08it/s, loss=0.398]\n",
      "Validation: 100%|██████████| 3/3 [00:01<00:00,  1.65it/s, loss=0.417]\n"
     ]
    },
    {
     "name": "stdout",
     "output_type": "stream",
     "text": [
      "Validation Dice Score\n",
      "Class 0: 0.9895, Class 1: 0.6263, Class 2: 0.1007, Class 3: 0.1496, Class 4: 0.6683, Class 5: 0.3033, Class 6: 0.9095, \n",
      "Validation F-beta Score\n",
      "Class 0: 0.9867, Class 1: 0.6609, Class 2: 0.1128, Class 3: 0.2939, Class 4: 0.8111, Class 5: 0.2868, Class 6: 0.9113, \n",
      "\n",
      "Overall Mean Dice Score: 0.5314\n",
      "Overall Mean F-beta Score: 0.5928\n",
      "\n",
      "Training Loss: 0.4213, Validation Loss: 0.4216, Validation F-beta: 0.5928\n",
      "========================================================\n",
      "SUPER Best model saved. Loss:0.4216, Score:0.5928\n",
      "========================================================\n",
      "Epoch 10/4000\n"
     ]
    },
    {
     "name": "stderr",
     "output_type": "stream",
     "text": [
      "Training: 100%|██████████| 204/204 [03:21<00:00,  1.01it/s, loss=0.38] \n",
      "Validation: 100%|██████████| 3/3 [00:01<00:00,  1.61it/s, loss=0.404]\n"
     ]
    },
    {
     "name": "stdout",
     "output_type": "stream",
     "text": [
      "Validation Dice Score\n",
      "Class 0: 0.9863, Class 1: 0.7254, Class 2: 0.1664, Class 3: 0.2721, Class 4: 0.6486, Class 5: 0.3824, Class 6: 0.8847, \n",
      "Validation F-beta Score\n",
      "Class 0: 0.9800, Class 1: 0.7482, Class 2: 0.1809, Class 3: 0.5090, Class 4: 0.8391, Class 5: 0.4228, Class 6: 0.9101, \n",
      "\n",
      "Overall Mean Dice Score: 0.5827\n",
      "Overall Mean F-beta Score: 0.6858\n",
      "\n",
      "Training Loss: 0.4189, Validation Loss: 0.4091, Validation F-beta: 0.6858\n",
      "========================================================\n",
      "SUPER Best model saved. Loss:0.4091, Score:0.6858\n",
      "========================================================\n",
      "Epoch 11/4000\n"
     ]
    },
    {
     "name": "stderr",
     "output_type": "stream",
     "text": [
      "Training: 100%|██████████| 204/204 [03:05<00:00,  1.10it/s, loss=0.397]\n",
      "Validation: 100%|██████████| 3/3 [00:01<00:00,  1.53it/s, loss=0.407]\n"
     ]
    },
    {
     "name": "stdout",
     "output_type": "stream",
     "text": [
      "Validation Dice Score\n",
      "Class 0: 0.9877, Class 1: 0.6641, Class 2: 0.1485, Class 3: 0.1798, Class 4: 0.6811, Class 5: 0.4176, Class 6: 0.8918, \n",
      "Validation F-beta Score\n",
      "Class 0: 0.9833, Class 1: 0.7479, Class 2: 0.1966, Class 3: 0.2976, Class 4: 0.8122, Class 5: 0.4535, Class 6: 0.9428, \n",
      "\n",
      "Overall Mean Dice Score: 0.5669\n",
      "Overall Mean F-beta Score: 0.6508\n",
      "\n",
      "Training Loss: 0.4161, Validation Loss: 0.4025, Validation F-beta: 0.6508\n",
      "Epoch 12/4000\n"
     ]
    },
    {
     "name": "stderr",
     "output_type": "stream",
     "text": [
      "Training: 100%|██████████| 204/204 [03:12<00:00,  1.06it/s, loss=0.338]\n",
      "Validation: 100%|██████████| 3/3 [00:01<00:00,  1.61it/s, loss=0.405]\n"
     ]
    },
    {
     "name": "stdout",
     "output_type": "stream",
     "text": [
      "Validation Dice Score\n",
      "Class 0: 0.9879, Class 1: 0.6628, Class 2: 0.1480, Class 3: 0.1190, Class 4: 0.6645, Class 5: 0.4326, Class 6: 0.8899, \n",
      "Validation F-beta Score\n",
      "Class 0: 0.9835, Class 1: 0.7461, Class 2: 0.1582, Class 3: 0.2980, Class 4: 0.7766, Class 5: 0.4833, Class 6: 0.9226, \n",
      "\n",
      "Overall Mean Dice Score: 0.5538\n",
      "Overall Mean F-beta Score: 0.6453\n",
      "\n",
      "Training Loss: 0.4133, Validation Loss: 0.4105, Validation F-beta: 0.6453\n",
      "Epoch 13/4000\n"
     ]
    },
    {
     "name": "stderr",
     "output_type": "stream",
     "text": [
      "Training: 100%|██████████| 204/204 [03:08<00:00,  1.08it/s, loss=0.377]\n",
      "Validation: 100%|██████████| 3/3 [00:01<00:00,  1.72it/s, loss=0.399]\n"
     ]
    },
    {
     "name": "stdout",
     "output_type": "stream",
     "text": [
      "Validation Dice Score\n",
      "Class 0: 0.9877, Class 1: 0.7300, Class 2: 0.1016, Class 3: 0.1944, Class 4: 0.6294, Class 5: 0.4050, Class 6: 0.9068, \n",
      "Validation F-beta Score\n",
      "Class 0: 0.9828, Class 1: 0.7488, Class 2: 0.1428, Class 3: 0.3602, Class 4: 0.8425, Class 5: 0.3903, Class 6: 0.9396, \n",
      "\n",
      "Overall Mean Dice Score: 0.5731\n",
      "Overall Mean F-beta Score: 0.6563\n",
      "\n",
      "Training Loss: 0.4107, Validation Loss: 0.3841, Validation F-beta: 0.6563\n",
      "Epoch 14/4000\n"
     ]
    },
    {
     "name": "stderr",
     "output_type": "stream",
     "text": [
      "Training: 100%|██████████| 204/204 [03:08<00:00,  1.08it/s, loss=0.368]\n",
      "Validation: 100%|██████████| 3/3 [00:01<00:00,  1.68it/s, loss=0.43] \n"
     ]
    },
    {
     "name": "stdout",
     "output_type": "stream",
     "text": [
      "Validation Dice Score\n",
      "Class 0: 0.9878, Class 1: 0.6763, Class 2: 0.1451, Class 3: 0.1799, Class 4: 0.7009, Class 5: 0.3488, Class 6: 0.8809, \n",
      "Validation F-beta Score\n",
      "Class 0: 0.9839, Class 1: 0.7043, Class 2: 0.1721, Class 3: 0.3343, Class 4: 0.8051, Class 5: 0.3606, Class 6: 0.9017, \n",
      "\n",
      "Overall Mean Dice Score: 0.5574\n",
      "Overall Mean F-beta Score: 0.6212\n",
      "\n",
      "Training Loss: 0.4096, Validation Loss: 0.4231, Validation F-beta: 0.6212\n",
      "Epoch 15/4000\n"
     ]
    },
    {
     "name": "stderr",
     "output_type": "stream",
     "text": [
      "Training: 100%|██████████| 204/204 [03:07<00:00,  1.09it/s, loss=0.383]\n",
      "Validation: 100%|██████████| 3/3 [00:01<00:00,  1.64it/s, loss=0.415]\n"
     ]
    },
    {
     "name": "stdout",
     "output_type": "stream",
     "text": [
      "Validation Dice Score\n",
      "Class 0: 0.9888, Class 1: 0.5303, Class 2: 0.1164, Class 3: 0.1963, Class 4: 0.7161, Class 5: 0.3567, Class 6: 0.8959, \n",
      "Validation F-beta Score\n",
      "Class 0: 0.9851, Class 1: 0.7500, Class 2: 0.1169, Class 3: 0.3482, Class 4: 0.8193, Class 5: 0.3991, Class 6: 0.9256, \n",
      "\n",
      "Overall Mean Dice Score: 0.5391\n",
      "Overall Mean F-beta Score: 0.6484\n",
      "\n",
      "Training Loss: 0.4086, Validation Loss: 0.4139, Validation F-beta: 0.6484\n",
      "Epoch 16/4000\n"
     ]
    },
    {
     "name": "stderr",
     "output_type": "stream",
     "text": [
      "Training: 100%|██████████| 204/204 [03:09<00:00,  1.08it/s, loss=0.371]\n",
      "Validation: 100%|██████████| 3/3 [00:01<00:00,  1.69it/s, loss=0.399]\n"
     ]
    },
    {
     "name": "stdout",
     "output_type": "stream",
     "text": [
      "Validation Dice Score\n",
      "Class 0: 0.9857, Class 1: 0.7203, Class 2: 0.1259, Class 3: 0.2875, Class 4: 0.6603, Class 5: 0.4177, Class 6: 0.9068, \n",
      "Validation F-beta Score\n",
      "Class 0: 0.9787, Class 1: 0.7563, Class 2: 0.1965, Class 3: 0.4339, Class 4: 0.8228, Class 5: 0.5445, Class 6: 0.9296, \n",
      "\n",
      "Overall Mean Dice Score: 0.5985\n",
      "Overall Mean F-beta Score: 0.6974\n",
      "\n",
      "Training Loss: 0.4073, Validation Loss: 0.3907, Validation F-beta: 0.6974\n",
      "========================================================\n",
      "SUPER Best model saved. Loss:0.3907, Score:0.6974\n",
      "========================================================\n",
      "Epoch 17/4000\n"
     ]
    },
    {
     "name": "stderr",
     "output_type": "stream",
     "text": [
      "Training: 100%|██████████| 204/204 [02:58<00:00,  1.14it/s, loss=0.388]\n",
      "Validation: 100%|██████████| 3/3 [00:01<00:00,  1.74it/s, loss=0.424]\n"
     ]
    },
    {
     "name": "stdout",
     "output_type": "stream",
     "text": [
      "Validation Dice Score\n",
      "Class 0: 0.9881, Class 1: 0.7487, Class 2: 0.2102, Class 3: 0.2028, Class 4: 0.6014, Class 5: 0.4406, Class 6: 0.9175, \n",
      "Validation F-beta Score\n",
      "Class 0: 0.9827, Class 1: 0.7791, Class 2: 0.2344, Class 3: 0.4464, Class 4: 0.8029, Class 5: 0.5318, Class 6: 0.9418, \n",
      "\n",
      "Overall Mean Dice Score: 0.5822\n",
      "Overall Mean F-beta Score: 0.7004\n",
      "\n",
      "Training Loss: 0.4032, Validation Loss: 0.4048, Validation F-beta: 0.7004\n",
      "Epoch 18/4000\n"
     ]
    },
    {
     "name": "stderr",
     "output_type": "stream",
     "text": [
      "Training: 100%|██████████| 204/204 [03:06<00:00,  1.09it/s, loss=0.377]\n",
      "Validation: 100%|██████████| 3/3 [00:01<00:00,  1.68it/s, loss=0.427]\n"
     ]
    },
    {
     "name": "stdout",
     "output_type": "stream",
     "text": [
      "Validation Dice Score\n",
      "Class 0: 0.9878, Class 1: 0.6751, Class 2: 0.1251, Class 3: 0.3031, Class 4: 0.6621, Class 5: 0.4331, Class 6: 0.8991, \n",
      "Validation F-beta Score\n",
      "Class 0: 0.9822, Class 1: 0.7982, Class 2: 0.1549, Class 3: 0.5677, Class 4: 0.8245, Class 5: 0.5127, Class 6: 0.9267, \n",
      "\n",
      "Overall Mean Dice Score: 0.5945\n",
      "Overall Mean F-beta Score: 0.7259\n",
      "\n",
      "Training Loss: 0.4031, Validation Loss: 0.4023, Validation F-beta: 0.7259\n",
      "Epoch 19/4000\n"
     ]
    },
    {
     "name": "stderr",
     "output_type": "stream",
     "text": [
      "Training: 100%|██████████| 204/204 [03:07<00:00,  1.09it/s, loss=0.34] \n",
      "Validation: 100%|██████████| 3/3 [00:01<00:00,  1.71it/s, loss=0.377]\n"
     ]
    },
    {
     "name": "stdout",
     "output_type": "stream",
     "text": [
      "Validation Dice Score\n",
      "Class 0: 0.9869, Class 1: 0.7396, Class 2: 0.1249, Class 3: 0.2556, Class 4: 0.6617, Class 5: 0.4493, Class 6: 0.8752, \n",
      "Validation F-beta Score\n",
      "Class 0: 0.9808, Class 1: 0.7867, Class 2: 0.2128, Class 3: 0.5122, Class 4: 0.8133, Class 5: 0.5321, Class 6: 0.9451, \n",
      "\n",
      "Overall Mean Dice Score: 0.5963\n",
      "Overall Mean F-beta Score: 0.7179\n",
      "\n",
      "Training Loss: 0.4019, Validation Loss: 0.3940, Validation F-beta: 0.7179\n",
      "Epoch 20/4000\n"
     ]
    },
    {
     "name": "stderr",
     "output_type": "stream",
     "text": [
      "Training: 100%|██████████| 204/204 [03:07<00:00,  1.09it/s, loss=0.335]\n",
      "Validation: 100%|██████████| 3/3 [00:01<00:00,  1.67it/s, loss=0.401]\n"
     ]
    },
    {
     "name": "stdout",
     "output_type": "stream",
     "text": [
      "Validation Dice Score\n",
      "Class 0: 0.9860, Class 1: 0.7308, Class 2: 0.1529, Class 3: 0.2708, Class 4: 0.6393, Class 5: 0.3843, Class 6: 0.8642, \n",
      "Validation F-beta Score\n",
      "Class 0: 0.9796, Class 1: 0.7657, Class 2: 0.2124, Class 3: 0.5054, Class 4: 0.7956, Class 5: 0.5151, Class 6: 0.9425, \n",
      "\n",
      "Overall Mean Dice Score: 0.5779\n",
      "Overall Mean F-beta Score: 0.7048\n",
      "\n",
      "Training Loss: 0.4002, Validation Loss: 0.3950, Validation F-beta: 0.7048\n",
      "Epoch 21/4000\n"
     ]
    },
    {
     "name": "stderr",
     "output_type": "stream",
     "text": [
      "Training: 100%|██████████| 204/204 [03:08<00:00,  1.08it/s, loss=0.35] \n",
      "Validation: 100%|██████████| 3/3 [00:01<00:00,  1.70it/s, loss=0.39] \n"
     ]
    },
    {
     "name": "stdout",
     "output_type": "stream",
     "text": [
      "Validation Dice Score\n",
      "Class 0: 0.9870, Class 1: 0.7279, Class 2: 0.1668, Class 3: 0.2419, Class 4: 0.7139, Class 5: 0.4133, Class 6: 0.9093, \n",
      "Validation F-beta Score\n",
      "Class 0: 0.9808, Class 1: 0.8401, Class 2: 0.2236, Class 3: 0.4314, Class 4: 0.8240, Class 5: 0.5630, Class 6: 0.9421, \n",
      "\n",
      "Overall Mean Dice Score: 0.6012\n",
      "Overall Mean F-beta Score: 0.7201\n",
      "\n",
      "Training Loss: 0.4013, Validation Loss: 0.4072, Validation F-beta: 0.7201\n",
      "Epoch 22/4000\n"
     ]
    },
    {
     "name": "stderr",
     "output_type": "stream",
     "text": [
      "Training: 100%|██████████| 204/204 [03:12<00:00,  1.06it/s, loss=0.367]\n",
      "Validation: 100%|██████████| 3/3 [00:01<00:00,  1.69it/s, loss=0.362]\n"
     ]
    },
    {
     "name": "stdout",
     "output_type": "stream",
     "text": [
      "Validation Dice Score\n",
      "Class 0: 0.9859, Class 1: 0.7367, Class 2: 0.1571, Class 3: 0.2493, Class 4: 0.6733, Class 5: 0.4018, Class 6: 0.9033, \n",
      "Validation F-beta Score\n",
      "Class 0: 0.9789, Class 1: 0.8017, Class 2: 0.2100, Class 3: 0.4322, Class 4: 0.8229, Class 5: 0.5411, Class 6: 0.9384, \n",
      "\n",
      "Overall Mean Dice Score: 0.5929\n",
      "Overall Mean F-beta Score: 0.7073\n",
      "\n",
      "Training Loss: 0.3989, Validation Loss: 0.3877, Validation F-beta: 0.7073\n",
      "========================================================\n",
      "SUPER Best model saved. Loss:0.3877, Score:0.7073\n",
      "========================================================\n",
      "Epoch 23/4000\n"
     ]
    },
    {
     "name": "stderr",
     "output_type": "stream",
     "text": [
      "Training: 100%|██████████| 204/204 [03:10<00:00,  1.07it/s, loss=0.37] \n",
      "Validation: 100%|██████████| 3/3 [00:01<00:00,  1.67it/s, loss=0.405]\n"
     ]
    },
    {
     "name": "stdout",
     "output_type": "stream",
     "text": [
      "Validation Dice Score\n",
      "Class 0: 0.9868, Class 1: 0.7812, Class 2: 0.2194, Class 3: 0.3055, Class 4: 0.6798, Class 5: 0.4272, Class 6: 0.8910, \n",
      "Validation F-beta Score\n",
      "Class 0: 0.9798, Class 1: 0.8253, Class 2: 0.2678, Class 3: 0.5199, Class 4: 0.8557, Class 5: 0.5720, Class 6: 0.9490, \n",
      "\n",
      "Overall Mean Dice Score: 0.6169\n",
      "Overall Mean F-beta Score: 0.7444\n",
      "\n",
      "Training Loss: 0.3984, Validation Loss: 0.4019, Validation F-beta: 0.7444\n",
      "Epoch 24/4000\n"
     ]
    },
    {
     "name": "stderr",
     "output_type": "stream",
     "text": [
      "Training: 100%|██████████| 204/204 [03:09<00:00,  1.08it/s, loss=0.337]\n",
      "Validation: 100%|██████████| 3/3 [00:01<00:00,  1.66it/s, loss=0.38] \n"
     ]
    },
    {
     "name": "stdout",
     "output_type": "stream",
     "text": [
      "Validation Dice Score\n",
      "Class 0: 0.9879, Class 1: 0.7433, Class 2: 0.1904, Class 3: 0.3306, Class 4: 0.6883, Class 5: 0.4293, Class 6: 0.8237, \n",
      "Validation F-beta Score\n",
      "Class 0: 0.9818, Class 1: 0.8406, Class 2: 0.2351, Class 3: 0.5821, Class 4: 0.8427, Class 5: 0.5473, Class 6: 0.9367, \n",
      "\n",
      "Overall Mean Dice Score: 0.6030\n",
      "Overall Mean F-beta Score: 0.7499\n",
      "\n",
      "Training Loss: 0.3966, Validation Loss: 0.3897, Validation F-beta: 0.7499\n",
      "Epoch 25/4000\n"
     ]
    },
    {
     "name": "stderr",
     "output_type": "stream",
     "text": [
      "Training: 100%|██████████| 204/204 [03:09<00:00,  1.08it/s, loss=0.367]\n",
      "Validation: 100%|██████████| 3/3 [00:01<00:00,  1.70it/s, loss=0.363]\n"
     ]
    },
    {
     "name": "stdout",
     "output_type": "stream",
     "text": [
      "Validation Dice Score\n",
      "Class 0: 0.9877, Class 1: 0.7601, Class 2: 0.1223, Class 3: 0.3340, Class 4: 0.6664, Class 5: 0.4940, Class 6: 0.8861, \n",
      "Validation F-beta Score\n",
      "Class 0: 0.9807, Class 1: 0.8412, Class 2: 0.1831, Class 3: 0.5517, Class 4: 0.8589, Class 5: 0.6477, Class 6: 0.9535, \n",
      "\n",
      "Overall Mean Dice Score: 0.6281\n",
      "Overall Mean F-beta Score: 0.7706\n",
      "\n",
      "Training Loss: 0.3953, Validation Loss: 0.3793, Validation F-beta: 0.7706\n",
      "========================================================\n",
      "SUPER Best model saved. Loss:0.3793, Score:0.7706\n",
      "========================================================\n",
      "Epoch 26/4000\n"
     ]
    },
    {
     "name": "stderr",
     "output_type": "stream",
     "text": [
      "Training: 100%|██████████| 204/204 [03:07<00:00,  1.09it/s, loss=0.392]\n",
      "Validation: 100%|██████████| 3/3 [00:01<00:00,  1.69it/s, loss=0.375]\n"
     ]
    },
    {
     "name": "stdout",
     "output_type": "stream",
     "text": [
      "Validation Dice Score\n",
      "Class 0: 0.9881, Class 1: 0.7652, Class 2: 0.2159, Class 3: 0.3530, Class 4: 0.6729, Class 5: 0.4490, Class 6: 0.9080, \n",
      "Validation F-beta Score\n",
      "Class 0: 0.9815, Class 1: 0.8195, Class 2: 0.2475, Class 3: 0.6181, Class 4: 0.8656, Class 5: 0.6115, Class 6: 0.9314, \n",
      "\n",
      "Overall Mean Dice Score: 0.6296\n",
      "Overall Mean F-beta Score: 0.7692\n",
      "\n",
      "Training Loss: 0.3952, Validation Loss: 0.3782, Validation F-beta: 0.7692\n",
      "Epoch 27/4000\n"
     ]
    },
    {
     "name": "stderr",
     "output_type": "stream",
     "text": [
      "Training: 100%|██████████| 204/204 [03:09<00:00,  1.08it/s, loss=0.359]\n",
      "Validation: 100%|██████████| 3/3 [00:01<00:00,  1.68it/s, loss=0.377]\n"
     ]
    },
    {
     "name": "stdout",
     "output_type": "stream",
     "text": [
      "Validation Dice Score\n",
      "Class 0: 0.9891, Class 1: 0.7827, Class 2: 0.1861, Class 3: 0.3430, Class 4: 0.7150, Class 5: 0.5015, Class 6: 0.8936, \n",
      "Validation F-beta Score\n",
      "Class 0: 0.9849, Class 1: 0.8131, Class 2: 0.2383, Class 3: 0.5721, Class 4: 0.8036, Class 5: 0.5958, Class 6: 0.9331, \n",
      "\n",
      "Overall Mean Dice Score: 0.6471\n",
      "Overall Mean F-beta Score: 0.7435\n",
      "\n",
      "Training Loss: 0.3944, Validation Loss: 0.3787, Validation F-beta: 0.7435\n",
      "Epoch 28/4000\n"
     ]
    },
    {
     "name": "stderr",
     "output_type": "stream",
     "text": [
      "Training: 100%|██████████| 204/204 [03:07<00:00,  1.09it/s, loss=0.349]\n",
      "Validation: 100%|██████████| 3/3 [00:01<00:00,  1.72it/s, loss=0.412]\n"
     ]
    },
    {
     "name": "stdout",
     "output_type": "stream",
     "text": [
      "Validation Dice Score\n",
      "Class 0: 0.9865, Class 1: 0.7752, Class 2: 0.1314, Class 3: 0.2855, Class 4: 0.7010, Class 5: 0.4476, Class 6: 0.8777, \n",
      "Validation F-beta Score\n",
      "Class 0: 0.9793, Class 1: 0.8458, Class 2: 0.2125, Class 3: 0.4866, Class 4: 0.8400, Class 5: 0.6007, Class 6: 0.9620, \n",
      "\n",
      "Overall Mean Dice Score: 0.6174\n",
      "Overall Mean F-beta Score: 0.7470\n",
      "\n",
      "Training Loss: 0.3958, Validation Loss: 0.3989, Validation F-beta: 0.7470\n",
      "Epoch 29/4000\n"
     ]
    },
    {
     "name": "stderr",
     "output_type": "stream",
     "text": [
      "Training: 100%|██████████| 204/204 [03:07<00:00,  1.09it/s, loss=0.367]\n",
      "Validation: 100%|██████████| 3/3 [00:01<00:00,  1.71it/s, loss=0.374]\n"
     ]
    },
    {
     "name": "stdout",
     "output_type": "stream",
     "text": [
      "Validation Dice Score\n",
      "Class 0: 0.9872, Class 1: 0.7199, Class 2: 0.1679, Class 3: 0.2979, Class 4: 0.7132, Class 5: 0.4445, Class 6: 0.9020, \n",
      "Validation F-beta Score\n",
      "Class 0: 0.9805, Class 1: 0.8394, Class 2: 0.2503, Class 3: 0.5210, Class 4: 0.8325, Class 5: 0.6177, Class 6: 0.9462, \n",
      "\n",
      "Overall Mean Dice Score: 0.6155\n",
      "Overall Mean F-beta Score: 0.7513\n",
      "\n",
      "Training Loss: 0.3941, Validation Loss: 0.3858, Validation F-beta: 0.7513\n",
      "Epoch 30/4000\n"
     ]
    },
    {
     "name": "stderr",
     "output_type": "stream",
     "text": [
      "Training: 100%|██████████| 204/204 [03:07<00:00,  1.09it/s, loss=0.347]\n",
      "Validation: 100%|██████████| 3/3 [00:02<00:00,  1.34it/s, loss=0.38] \n"
     ]
    },
    {
     "name": "stdout",
     "output_type": "stream",
     "text": [
      "Validation Dice Score\n",
      "Class 0: 0.9859, Class 1: 0.6913, Class 2: 0.1727, Class 3: 0.3332, Class 4: 0.6830, Class 5: 0.4537, Class 6: 0.8628, \n",
      "Validation F-beta Score\n",
      "Class 0: 0.9787, Class 1: 0.8270, Class 2: 0.2635, Class 3: 0.5701, Class 4: 0.8401, Class 5: 0.5699, Class 6: 0.9383, \n",
      "\n",
      "Overall Mean Dice Score: 0.6048\n",
      "Overall Mean F-beta Score: 0.7491\n",
      "\n",
      "Training Loss: 0.3929, Validation Loss: 0.3790, Validation F-beta: 0.7491\n",
      "Epoch 31/4000\n"
     ]
    },
    {
     "name": "stderr",
     "output_type": "stream",
     "text": [
      "Training: 100%|██████████| 204/204 [03:05<00:00,  1.10it/s, loss=0.348]\n",
      "Validation: 100%|██████████| 3/3 [00:01<00:00,  1.63it/s, loss=0.376]\n"
     ]
    },
    {
     "name": "stdout",
     "output_type": "stream",
     "text": [
      "Validation Dice Score\n",
      "Class 0: 0.9877, Class 1: 0.8052, Class 2: 0.1683, Class 3: 0.2594, Class 4: 0.6185, Class 5: 0.4054, Class 6: 0.8772, \n",
      "Validation F-beta Score\n",
      "Class 0: 0.9813, Class 1: 0.8447, Class 2: 0.2454, Class 3: 0.4407, Class 4: 0.8408, Class 5: 0.5115, Class 6: 0.9545, \n",
      "\n",
      "Overall Mean Dice Score: 0.5931\n",
      "Overall Mean F-beta Score: 0.7184\n",
      "\n",
      "Training Loss: 0.3930, Validation Loss: 0.3875, Validation F-beta: 0.7184\n",
      "Epoch 32/4000\n"
     ]
    },
    {
     "name": "stderr",
     "output_type": "stream",
     "text": [
      "Training: 100%|██████████| 204/204 [03:08<00:00,  1.08it/s, loss=0.358]\n",
      "Validation: 100%|██████████| 3/3 [00:01<00:00,  1.72it/s, loss=0.369]\n"
     ]
    },
    {
     "name": "stdout",
     "output_type": "stream",
     "text": [
      "Validation Dice Score\n",
      "Class 0: 0.9878, Class 1: 0.7466, Class 2: 0.1734, Class 3: 0.2663, Class 4: 0.7096, Class 5: 0.4343, Class 6: 0.9041, \n",
      "Validation F-beta Score\n",
      "Class 0: 0.9816, Class 1: 0.8439, Class 2: 0.2481, Class 3: 0.5713, Class 4: 0.8339, Class 5: 0.5685, Class 6: 0.9611, \n",
      "\n",
      "Overall Mean Dice Score: 0.6122\n",
      "Overall Mean F-beta Score: 0.7557\n",
      "\n",
      "Training Loss: 0.3932, Validation Loss: 0.3856, Validation F-beta: 0.7557\n",
      "Epoch 33/4000\n"
     ]
    },
    {
     "name": "stderr",
     "output_type": "stream",
     "text": [
      "Training: 100%|██████████| 204/204 [03:10<00:00,  1.07it/s, loss=0.371]\n",
      "Validation: 100%|██████████| 3/3 [00:01<00:00,  1.66it/s, loss=0.407]\n"
     ]
    },
    {
     "name": "stdout",
     "output_type": "stream",
     "text": [
      "Validation Dice Score\n",
      "Class 0: 0.9863, Class 1: 0.7378, Class 2: 0.1314, Class 3: 0.3314, Class 4: 0.6424, Class 5: 0.4265, Class 6: 0.8718, \n",
      "Validation F-beta Score\n",
      "Class 0: 0.9787, Class 1: 0.8279, Class 2: 0.2795, Class 3: 0.6096, Class 4: 0.8004, Class 5: 0.5930, Class 6: 0.9416, \n",
      "\n",
      "Overall Mean Dice Score: 0.6020\n",
      "Overall Mean F-beta Score: 0.7545\n",
      "\n",
      "Training Loss: 0.3934, Validation Loss: 0.3958, Validation F-beta: 0.7545\n",
      "Epoch 34/4000\n"
     ]
    },
    {
     "name": "stderr",
     "output_type": "stream",
     "text": [
      "Training: 100%|██████████| 204/204 [03:08<00:00,  1.08it/s, loss=0.343]\n",
      "Validation: 100%|██████████| 3/3 [00:01<00:00,  1.70it/s, loss=0.38] \n"
     ]
    },
    {
     "name": "stdout",
     "output_type": "stream",
     "text": [
      "Validation Dice Score\n",
      "Class 0: 0.9859, Class 1: 0.7373, Class 2: 0.1580, Class 3: 0.3653, Class 4: 0.6851, Class 5: 0.5331, Class 6: 0.8280, \n",
      "Validation F-beta Score\n",
      "Class 0: 0.9779, Class 1: 0.8488, Class 2: 0.2563, Class 3: 0.5810, Class 4: 0.8624, Class 5: 0.6724, Class 6: 0.9448, \n",
      "\n",
      "Overall Mean Dice Score: 0.6297\n",
      "Overall Mean F-beta Score: 0.7819\n",
      "\n",
      "Training Loss: 0.3912, Validation Loss: 0.3833, Validation F-beta: 0.7819\n",
      "Epoch 35/4000\n"
     ]
    },
    {
     "name": "stderr",
     "output_type": "stream",
     "text": [
      "Training: 100%|██████████| 204/204 [03:07<00:00,  1.09it/s, loss=0.346]\n",
      "Validation: 100%|██████████| 3/3 [00:01<00:00,  1.70it/s, loss=0.403]\n"
     ]
    },
    {
     "name": "stdout",
     "output_type": "stream",
     "text": [
      "Validation Dice Score\n",
      "Class 0: 0.9845, Class 1: 0.7395, Class 2: 0.1403, Class 3: 0.3020, Class 4: 0.6419, Class 5: 0.4724, Class 6: 0.8910, \n",
      "Validation F-beta Score\n",
      "Class 0: 0.9753, Class 1: 0.8716, Class 2: 0.2303, Class 3: 0.5465, Class 4: 0.8537, Class 5: 0.6326, Class 6: 0.9423, \n",
      "\n",
      "Overall Mean Dice Score: 0.6094\n",
      "Overall Mean F-beta Score: 0.7693\n",
      "\n",
      "Training Loss: 0.3920, Validation Loss: 0.3863, Validation F-beta: 0.7693\n",
      "Epoch 36/4000\n"
     ]
    },
    {
     "name": "stderr",
     "output_type": "stream",
     "text": [
      "Training: 100%|██████████| 204/204 [03:08<00:00,  1.08it/s, loss=0.357]\n",
      "Validation: 100%|██████████| 3/3 [00:01<00:00,  1.66it/s, loss=0.385]\n"
     ]
    },
    {
     "name": "stdout",
     "output_type": "stream",
     "text": [
      "Validation Dice Score\n",
      "Class 0: 0.9869, Class 1: 0.7027, Class 2: 0.1879, Class 3: 0.3012, Class 4: 0.6661, Class 5: 0.3876, Class 6: 0.8968, \n",
      "Validation F-beta Score\n",
      "Class 0: 0.9795, Class 1: 0.8156, Class 2: 0.2719, Class 3: 0.5266, Class 4: 0.8329, Class 5: 0.5966, Class 6: 0.9439, \n",
      "\n",
      "Overall Mean Dice Score: 0.5909\n",
      "Overall Mean F-beta Score: 0.7431\n",
      "\n",
      "Training Loss: 0.3916, Validation Loss: 0.4026, Validation F-beta: 0.7431\n",
      "Epoch 37/4000\n"
     ]
    },
    {
     "name": "stderr",
     "output_type": "stream",
     "text": [
      "Training: 100%|██████████| 204/204 [03:09<00:00,  1.08it/s, loss=0.349]\n",
      "Validation: 100%|██████████| 3/3 [00:01<00:00,  1.66it/s, loss=0.371]\n"
     ]
    },
    {
     "name": "stdout",
     "output_type": "stream",
     "text": [
      "Validation Dice Score\n",
      "Class 0: 0.9835, Class 1: 0.7052, Class 2: 0.1683, Class 3: 0.3795, Class 4: 0.6436, Class 5: 0.3792, Class 6: 0.8533, \n",
      "Validation F-beta Score\n",
      "Class 0: 0.9725, Class 1: 0.8233, Class 2: 0.3043, Class 3: 0.5752, Class 4: 0.8650, Class 5: 0.6454, Class 6: 0.9465, \n",
      "\n",
      "Overall Mean Dice Score: 0.5921\n",
      "Overall Mean F-beta Score: 0.7711\n",
      "\n",
      "Training Loss: 0.3906, Validation Loss: 0.4003, Validation F-beta: 0.7711\n",
      "Epoch 38/4000\n"
     ]
    },
    {
     "name": "stderr",
     "output_type": "stream",
     "text": [
      "Training: 100%|██████████| 204/204 [03:06<00:00,  1.09it/s, loss=0.366]\n",
      "Validation: 100%|██████████| 3/3 [00:01<00:00,  1.51it/s, loss=0.368]\n"
     ]
    },
    {
     "name": "stdout",
     "output_type": "stream",
     "text": [
      "Validation Dice Score\n",
      "Class 0: 0.9876, Class 1: 0.7514, Class 2: 0.2129, Class 3: 0.3570, Class 4: 0.6991, Class 5: 0.4821, Class 6: 0.8926, \n",
      "Validation F-beta Score\n",
      "Class 0: 0.9817, Class 1: 0.8327, Class 2: 0.2737, Class 3: 0.5726, Class 4: 0.8174, Class 5: 0.6385, Class 6: 0.9391, \n",
      "\n",
      "Overall Mean Dice Score: 0.6365\n",
      "Overall Mean F-beta Score: 0.7601\n",
      "\n",
      "Training Loss: 0.3922, Validation Loss: 0.3845, Validation F-beta: 0.7601\n",
      "Epoch 39/4000\n"
     ]
    },
    {
     "name": "stderr",
     "output_type": "stream",
     "text": [
      "Training: 100%|██████████| 204/204 [03:07<00:00,  1.09it/s, loss=0.368]\n",
      "Validation: 100%|██████████| 3/3 [00:01<00:00,  1.67it/s, loss=0.367]\n"
     ]
    },
    {
     "name": "stdout",
     "output_type": "stream",
     "text": [
      "Validation Dice Score\n",
      "Class 0: 0.9878, Class 1: 0.7747, Class 2: 0.1891, Class 3: 0.3879, Class 4: 0.6441, Class 5: 0.4527, Class 6: 0.9036, \n",
      "Validation F-beta Score\n",
      "Class 0: 0.9812, Class 1: 0.8859, Class 2: 0.2651, Class 3: 0.5607, Class 4: 0.8452, Class 5: 0.6232, Class 6: 0.9541, \n",
      "\n",
      "Overall Mean Dice Score: 0.6326\n",
      "Overall Mean F-beta Score: 0.7738\n",
      "\n",
      "Training Loss: 0.3906, Validation Loss: 0.3641, Validation F-beta: 0.7738\n",
      "========================================================\n",
      "SUPER Best model saved. Loss:0.3641, Score:0.7738\n",
      "========================================================\n",
      "Epoch 40/4000\n"
     ]
    },
    {
     "name": "stderr",
     "output_type": "stream",
     "text": [
      "Training: 100%|██████████| 204/204 [03:08<00:00,  1.08it/s, loss=0.362]\n",
      "Validation: 100%|██████████| 3/3 [00:01<00:00,  1.68it/s, loss=0.372]\n"
     ]
    },
    {
     "name": "stdout",
     "output_type": "stream",
     "text": [
      "Validation Dice Score\n",
      "Class 0: 0.9883, Class 1: 0.7446, Class 2: 0.1488, Class 3: 0.3086, Class 4: 0.6950, Class 5: 0.4132, Class 6: 0.8985, \n",
      "Validation F-beta Score\n",
      "Class 0: 0.9819, Class 1: 0.8743, Class 2: 0.2323, Class 3: 0.5195, Class 4: 0.8794, Class 5: 0.5395, Class 6: 0.9399, \n",
      "\n",
      "Overall Mean Dice Score: 0.6120\n",
      "Overall Mean F-beta Score: 0.7505\n",
      "\n",
      "Training Loss: 0.3899, Validation Loss: 0.3897, Validation F-beta: 0.7505\n",
      "Epoch 41/4000\n"
     ]
    },
    {
     "name": "stderr",
     "output_type": "stream",
     "text": [
      "Training: 100%|██████████| 204/204 [03:11<00:00,  1.07it/s, loss=0.388]\n",
      "Validation: 100%|██████████| 3/3 [00:01<00:00,  1.66it/s, loss=0.408]\n"
     ]
    },
    {
     "name": "stdout",
     "output_type": "stream",
     "text": [
      "Validation Dice Score\n",
      "Class 0: 0.9882, Class 1: 0.7461, Class 2: 0.1542, Class 3: 0.3714, Class 4: 0.6225, Class 5: 0.4450, Class 6: 0.8716, \n",
      "Validation F-beta Score\n",
      "Class 0: 0.9814, Class 1: 0.8346, Class 2: 0.2556, Class 3: 0.5763, Class 4: 0.8186, Class 5: 0.6630, Class 6: 0.9296, \n",
      "\n",
      "Overall Mean Dice Score: 0.6113\n",
      "Overall Mean F-beta Score: 0.7644\n",
      "\n",
      "Training Loss: 0.3902, Validation Loss: 0.3948, Validation F-beta: 0.7644\n",
      "Epoch 42/4000\n"
     ]
    },
    {
     "name": "stderr",
     "output_type": "stream",
     "text": [
      "Training: 100%|██████████| 204/204 [03:03<00:00,  1.11it/s, loss=0.361]\n",
      "Validation: 100%|██████████| 3/3 [00:01<00:00,  1.71it/s, loss=0.385]\n"
     ]
    },
    {
     "name": "stdout",
     "output_type": "stream",
     "text": [
      "Validation Dice Score\n",
      "Class 0: 0.9872, Class 1: 0.7243, Class 2: 0.1961, Class 3: 0.3275, Class 4: 0.6580, Class 5: 0.4278, Class 6: 0.9143, \n",
      "Validation F-beta Score\n",
      "Class 0: 0.9808, Class 1: 0.8624, Class 2: 0.3014, Class 3: 0.5536, Class 4: 0.7982, Class 5: 0.5714, Class 6: 0.9586, \n",
      "\n",
      "Overall Mean Dice Score: 0.6104\n",
      "Overall Mean F-beta Score: 0.7488\n",
      "\n",
      "Training Loss: 0.3902, Validation Loss: 0.3793, Validation F-beta: 0.7488\n",
      "Epoch 43/4000\n"
     ]
    },
    {
     "name": "stderr",
     "output_type": "stream",
     "text": [
      "Training: 100%|██████████| 204/204 [03:04<00:00,  1.11it/s, loss=0.337]\n",
      "Validation: 100%|██████████| 3/3 [00:01<00:00,  1.72it/s, loss=0.389]\n"
     ]
    },
    {
     "name": "stdout",
     "output_type": "stream",
     "text": [
      "Validation Dice Score\n",
      "Class 0: 0.9872, Class 1: 0.7674, Class 2: 0.1191, Class 3: 0.3187, Class 4: 0.6756, Class 5: 0.4417, Class 6: 0.8727, \n",
      "Validation F-beta Score\n",
      "Class 0: 0.9796, Class 1: 0.8555, Class 2: 0.2186, Class 3: 0.5365, Class 4: 0.8601, Class 5: 0.6294, Class 6: 0.9270, \n",
      "\n",
      "Overall Mean Dice Score: 0.6152\n",
      "Overall Mean F-beta Score: 0.7617\n",
      "\n",
      "Training Loss: 0.3911, Validation Loss: 0.3811, Validation F-beta: 0.7617\n",
      "Epoch 44/4000\n"
     ]
    },
    {
     "name": "stderr",
     "output_type": "stream",
     "text": [
      "Training: 100%|██████████| 204/204 [03:11<00:00,  1.06it/s, loss=0.343]\n",
      "Validation: 100%|██████████| 3/3 [00:01<00:00,  1.65it/s, loss=0.415]\n"
     ]
    },
    {
     "name": "stdout",
     "output_type": "stream",
     "text": [
      "Validation Dice Score\n",
      "Class 0: 0.9872, Class 1: 0.7222, Class 2: 0.1508, Class 3: 0.2731, Class 4: 0.6747, Class 5: 0.4966, Class 6: 0.8509, \n",
      "Validation F-beta Score\n",
      "Class 0: 0.9798, Class 1: 0.8483, Class 2: 0.2237, Class 3: 0.5008, Class 4: 0.8613, Class 5: 0.6528, Class 6: 0.9577, \n",
      "\n",
      "Overall Mean Dice Score: 0.6035\n",
      "Overall Mean F-beta Score: 0.7642\n",
      "\n",
      "Training Loss: 0.3905, Validation Loss: 0.3948, Validation F-beta: 0.7642\n",
      "Epoch 45/4000\n"
     ]
    },
    {
     "name": "stderr",
     "output_type": "stream",
     "text": [
      "Training: 100%|██████████| 204/204 [03:09<00:00,  1.08it/s, loss=0.346]\n",
      "Validation: 100%|██████████| 3/3 [00:01<00:00,  1.70it/s, loss=0.343]\n"
     ]
    },
    {
     "name": "stdout",
     "output_type": "stream",
     "text": [
      "Validation Dice Score\n",
      "Class 0: 0.9877, Class 1: 0.7573, Class 2: 0.1770, Class 3: 0.4198, Class 4: 0.7079, Class 5: 0.4897, Class 6: 0.8872, \n",
      "Validation F-beta Score\n",
      "Class 0: 0.9813, Class 1: 0.8506, Class 2: 0.2583, Class 3: 0.6170, Class 4: 0.8541, Class 5: 0.6480, Class 6: 0.9232, \n",
      "\n",
      "Overall Mean Dice Score: 0.6524\n",
      "Overall Mean F-beta Score: 0.7786\n",
      "\n",
      "Training Loss: 0.3919, Validation Loss: 0.3689, Validation F-beta: 0.7786\n",
      "Epoch 46/4000\n"
     ]
    },
    {
     "name": "stderr",
     "output_type": "stream",
     "text": [
      "Training: 100%|██████████| 204/204 [03:29<00:00,  1.03s/it, loss=0.362]\n",
      "Validation: 100%|██████████| 3/3 [00:01<00:00,  1.63it/s, loss=0.397]\n"
     ]
    },
    {
     "name": "stdout",
     "output_type": "stream",
     "text": [
      "Validation Dice Score\n",
      "Class 0: 0.9876, Class 1: 0.7361, Class 2: 0.1818, Class 3: 0.3725, Class 4: 0.7318, Class 5: 0.4157, Class 6: 0.8918, \n",
      "Validation F-beta Score\n",
      "Class 0: 0.9817, Class 1: 0.8204, Class 2: 0.2490, Class 3: 0.6044, Class 4: 0.7946, Class 5: 0.6218, Class 6: 0.8925, \n",
      "\n",
      "Overall Mean Dice Score: 0.6296\n",
      "Overall Mean F-beta Score: 0.7467\n",
      "\n",
      "Training Loss: 0.3934, Validation Loss: 0.3967, Validation F-beta: 0.7467\n",
      "Epoch 47/4000\n"
     ]
    },
    {
     "name": "stderr",
     "output_type": "stream",
     "text": [
      "Training: 100%|██████████| 204/204 [03:18<00:00,  1.03it/s, loss=0.365]\n",
      "Validation: 100%|██████████| 3/3 [00:01<00:00,  1.54it/s, loss=0.417]\n"
     ]
    },
    {
     "name": "stdout",
     "output_type": "stream",
     "text": [
      "Validation Dice Score\n",
      "Class 0: 0.9886, Class 1: 0.6948, Class 2: 0.0755, Class 3: 0.3005, Class 4: 0.7252, Class 5: 0.5189, Class 6: 0.8720, \n",
      "Validation F-beta Score\n",
      "Class 0: 0.9842, Class 1: 0.8357, Class 2: 0.1463, Class 3: 0.5269, Class 4: 0.7982, Class 5: 0.6130, Class 6: 0.9465, \n",
      "\n",
      "Overall Mean Dice Score: 0.6223\n",
      "Overall Mean F-beta Score: 0.7440\n",
      "\n",
      "Training Loss: 0.3887, Validation Loss: 0.4049, Validation F-beta: 0.7440\n",
      "Epoch 48/4000\n"
     ]
    },
    {
     "name": "stderr",
     "output_type": "stream",
     "text": [
      "Training: 100%|██████████| 204/204 [03:10<00:00,  1.07it/s, loss=0.363]\n",
      "Validation: 100%|██████████| 3/3 [00:01<00:00,  1.67it/s, loss=0.358]\n"
     ]
    },
    {
     "name": "stdout",
     "output_type": "stream",
     "text": [
      "Validation Dice Score\n",
      "Class 0: 0.9886, Class 1: 0.7780, Class 2: 0.1930, Class 3: 0.3352, Class 4: 0.7409, Class 5: 0.5193, Class 6: 0.8933, \n",
      "Validation F-beta Score\n",
      "Class 0: 0.9844, Class 1: 0.8850, Class 2: 0.2501, Class 3: 0.4944, Class 4: 0.8149, Class 5: 0.6227, Class 6: 0.9353, \n",
      "\n",
      "Overall Mean Dice Score: 0.6533\n",
      "Overall Mean F-beta Score: 0.7504\n",
      "\n",
      "Training Loss: 0.3867, Validation Loss: 0.3650, Validation F-beta: 0.7504\n",
      "Epoch 49/4000\n"
     ]
    },
    {
     "name": "stderr",
     "output_type": "stream",
     "text": [
      "Training: 100%|██████████| 204/204 [03:08<00:00,  1.08it/s, loss=0.357]\n",
      "Validation: 100%|██████████| 3/3 [00:01<00:00,  1.71it/s, loss=0.351]\n"
     ]
    },
    {
     "name": "stdout",
     "output_type": "stream",
     "text": [
      "Validation Dice Score\n",
      "Class 0: 0.9894, Class 1: 0.7533, Class 2: 0.1765, Class 3: 0.3762, Class 4: 0.7274, Class 5: 0.4858, Class 6: 0.9057, \n",
      "Validation F-beta Score\n",
      "Class 0: 0.9848, Class 1: 0.8409, Class 2: 0.2478, Class 3: 0.5562, Class 4: 0.8297, Class 5: 0.6077, Class 6: 0.9632, \n",
      "\n",
      "Overall Mean Dice Score: 0.6497\n",
      "Overall Mean F-beta Score: 0.7595\n",
      "\n",
      "Training Loss: 0.3871, Validation Loss: 0.3658, Validation F-beta: 0.7595\n",
      "Epoch 50/4000\n"
     ]
    },
    {
     "name": "stderr",
     "output_type": "stream",
     "text": [
      "Training: 100%|██████████| 204/204 [03:10<00:00,  1.07it/s, loss=0.333]\n",
      "Validation: 100%|██████████| 3/3 [00:01<00:00,  1.68it/s, loss=0.392]\n"
     ]
    },
    {
     "name": "stdout",
     "output_type": "stream",
     "text": [
      "Validation Dice Score\n",
      "Class 0: 0.9886, Class 1: 0.7888, Class 2: 0.1383, Class 3: 0.3521, Class 4: 0.7440, Class 5: 0.4161, Class 6: 0.8855, \n",
      "Validation F-beta Score\n",
      "Class 0: 0.9844, Class 1: 0.8753, Class 2: 0.2449, Class 3: 0.5472, Class 4: 0.7756, Class 5: 0.5541, Class 6: 0.9286, \n",
      "\n",
      "Overall Mean Dice Score: 0.6373\n",
      "Overall Mean F-beta Score: 0.7361\n",
      "\n",
      "Training Loss: 0.3857, Validation Loss: 0.3895, Validation F-beta: 0.7361\n",
      "Epoch 51/4000\n"
     ]
    },
    {
     "name": "stderr",
     "output_type": "stream",
     "text": [
      "Training: 100%|██████████| 204/204 [03:08<00:00,  1.08it/s, loss=0.358]\n",
      "Validation: 100%|██████████| 3/3 [00:01<00:00,  1.67it/s, loss=0.359]\n"
     ]
    },
    {
     "name": "stdout",
     "output_type": "stream",
     "text": [
      "Validation Dice Score\n",
      "Class 0: 0.9885, Class 1: 0.7912, Class 2: 0.1107, Class 3: 0.3760, Class 4: 0.6845, Class 5: 0.4521, Class 6: 0.9067, \n",
      "Validation F-beta Score\n",
      "Class 0: 0.9826, Class 1: 0.8919, Class 2: 0.1990, Class 3: 0.5098, Class 4: 0.8193, Class 5: 0.6210, Class 6: 0.9562, \n",
      "\n",
      "Overall Mean Dice Score: 0.6421\n",
      "Overall Mean F-beta Score: 0.7596\n",
      "\n",
      "Training Loss: 0.3849, Validation Loss: 0.3669, Validation F-beta: 0.7596\n",
      "Epoch 52/4000\n"
     ]
    },
    {
     "name": "stderr",
     "output_type": "stream",
     "text": [
      "Training: 100%|██████████| 204/204 [03:08<00:00,  1.08it/s, loss=0.354]\n",
      "Validation: 100%|██████████| 3/3 [00:01<00:00,  1.68it/s, loss=0.365]\n"
     ]
    },
    {
     "name": "stdout",
     "output_type": "stream",
     "text": [
      "Validation Dice Score\n",
      "Class 0: 0.9886, Class 1: 0.7553, Class 2: 0.1899, Class 3: 0.3530, Class 4: 0.6965, Class 5: 0.4629, Class 6: 0.8980, \n",
      "Validation F-beta Score\n",
      "Class 0: 0.9832, Class 1: 0.8736, Class 2: 0.2375, Class 3: 0.5216, Class 4: 0.8457, Class 5: 0.5967, Class 6: 0.9529, \n",
      "\n",
      "Overall Mean Dice Score: 0.6331\n",
      "Overall Mean F-beta Score: 0.7581\n",
      "\n",
      "Training Loss: 0.3836, Validation Loss: 0.3680, Validation F-beta: 0.7581\n",
      "Epoch 53/4000\n"
     ]
    },
    {
     "name": "stderr",
     "output_type": "stream",
     "text": [
      "Training: 100%|██████████| 204/204 [03:07<00:00,  1.09it/s, loss=0.352]\n",
      "Validation: 100%|██████████| 3/3 [00:01<00:00,  1.68it/s, loss=0.377]\n"
     ]
    },
    {
     "name": "stdout",
     "output_type": "stream",
     "text": [
      "Validation Dice Score\n",
      "Class 0: 0.9887, Class 1: 0.6854, Class 2: 0.1658, Class 3: 0.3808, Class 4: 0.7761, Class 5: 0.4872, Class 6: 0.9105, \n",
      "Validation F-beta Score\n",
      "Class 0: 0.9842, Class 1: 0.8601, Class 2: 0.2583, Class 3: 0.5522, Class 4: 0.8377, Class 5: 0.6162, Class 6: 0.9716, \n",
      "\n",
      "Overall Mean Dice Score: 0.6480\n",
      "Overall Mean F-beta Score: 0.7675\n",
      "\n",
      "Training Loss: 0.3865, Validation Loss: 0.3875, Validation F-beta: 0.7675\n",
      "Epoch 54/4000\n"
     ]
    },
    {
     "name": "stderr",
     "output_type": "stream",
     "text": [
      "Training: 100%|██████████| 204/204 [03:07<00:00,  1.09it/s, loss=0.352]\n",
      "Validation: 100%|██████████| 3/3 [00:01<00:00,  1.66it/s, loss=0.42] \n"
     ]
    },
    {
     "name": "stdout",
     "output_type": "stream",
     "text": [
      "Validation Dice Score\n",
      "Class 0: 0.9886, Class 1: 0.7017, Class 2: 0.1968, Class 3: 0.3113, Class 4: 0.6976, Class 5: 0.3947, Class 6: 0.8906, \n",
      "Validation F-beta Score\n",
      "Class 0: 0.9829, Class 1: 0.8514, Class 2: 0.3263, Class 3: 0.5151, Class 4: 0.8007, Class 5: 0.6004, Class 6: 0.9412, \n",
      "\n",
      "Overall Mean Dice Score: 0.5992\n",
      "Overall Mean F-beta Score: 0.7418\n",
      "\n",
      "Training Loss: 0.3837, Validation Loss: 0.4014, Validation F-beta: 0.7418\n",
      "Epoch 55/4000\n"
     ]
    },
    {
     "name": "stderr",
     "output_type": "stream",
     "text": [
      "Training: 100%|██████████| 204/204 [03:09<00:00,  1.08it/s, loss=0.32] \n",
      "Validation: 100%|██████████| 3/3 [00:01<00:00,  1.71it/s, loss=0.36] "
     ]
    },
    {
     "name": "stdout",
     "output_type": "stream",
     "text": [
      "Validation Dice Score\n",
      "Class 0: 0.9890, Class 1: 0.7902, Class 2: 0.1999, Class 3: 0.3765, Class 4: 0.7542, Class 5: 0.4313, Class 6: 0.8952, \n",
      "Validation F-beta Score\n",
      "Class 0: 0.9846, Class 1: 0.8736, Class 2: 0.2996, Class 3: 0.5670, Class 4: 0.7895, Class 5: 0.5914, Class 6: 0.9429, \n",
      "\n",
      "Overall Mean Dice Score: 0.6495\n",
      "Overall Mean F-beta Score: 0.7529\n",
      "\n",
      "Training Loss: 0.3834, Validation Loss: 0.3716, Validation F-beta: 0.7529\n",
      "Early stopping\n"
     ]
    },
    {
     "name": "stderr",
     "output_type": "stream",
     "text": [
      "\n"
     ]
    },
    {
     "data": {
      "text/html": [],
      "text/plain": [
       "<IPython.core.display.HTML object>"
      ]
     },
     "metadata": {},
     "output_type": "display_data"
    },
    {
     "data": {
      "text/html": [
       "<br>    <style><br>        .wandb-row {<br>            display: flex;<br>            flex-direction: row;<br>            flex-wrap: wrap;<br>            justify-content: flex-start;<br>            width: 100%;<br>        }<br>        .wandb-col {<br>            display: flex;<br>            flex-direction: column;<br>            flex-basis: 100%;<br>            flex: 1;<br>            padding: 10px;<br>        }<br>    </style><br><div class=\"wandb-row\"><div class=\"wandb-col\"><h3>Run history:</h3><br/><table class=\"wandb\"><tr><td>class_0_dice_score</td><td>█▅▇▆█▆▆▆▇▄▆▅▄▅▄▆▆▆█▄▄▆▆▄▄▅▁▆▆▇▅▅▅▆▆▇█▇▇▇</td></tr><tr><td>class_0_f_beta_score</td><td>█▆▇▇▅▄▅▅▅▆▅▄▄▄▄▅▄▅▆▄▄▅▃▃▂▁▅▄▅▄▄▄▄▆▆▆▅▅▆▆</td></tr><tr><td>class_1_dice_score</td><td>▁▁▄▆▆▇▇▇▇▇▇█▇▇▇▇█▇██▇▇█▇▇▇▇▇██▇█▇█▇█████</td></tr><tr><td>class_1_f_beta_score</td><td>▁▂▅▅▆▆▇▇▇▇▇▇▇▇▇█▇▇█▇█▇██▇█▇▇████▇███████</td></tr><tr><td>class_2_dice_score</td><td>▁▁▂▃▅▆▆▆▄▆▅█▅▅▆▆█▅█▇▇▇▅▆▅▆█▇▆▆▅▆▇▇▃▇▅▅▇▇</td></tr><tr><td>class_2_f_beta_score</td><td>▁▂▂▄▄▅▆▅▄▅▆▅▆▆▆▆▅▇▆▇▇▇▇▇▆█▇▆▇█▆▇▇▄▇▇▆▆▇█</td></tr><tr><td>class_3_dice_score</td><td>▁▃▃▃▂▂▅▃▂▃▃▅▃▆▄▄▄▆▆▆▅▅▆▅▅▇▇▇▇▆▆▆▅█▇▇▇▇▇▇</td></tr><tr><td>class_3_f_beta_score</td><td>▁▃▃▃▆▆▂▂▃▃▅▅▆▅▅▇▇█▇▆▅▇█▇▇▇▇▆▇▇▆██▆▆▇▆▆▇▇</td></tr><tr><td>class_4_dice_score</td><td>▁▃▃▅▃▄▄▅▄▃▆▄▂▄▃▅▅▅▄▅▆▅▂▆▃▄▃▆▃▆▅▅▆▇▇▇█▅▆█</td></tr><tr><td>class_4_f_beta_score</td><td>▁▄▃▃▅▆▇▆▆▆▇▆▇▆▆▇▇▇██▇▇▇▇▆▇█▆█▇█▇▆▆▆▅▇▇▇▆</td></tr><tr><td>class_5_dice_score</td><td>▁▂▂▃▄▅▆▆▅▄▆▆▆▆▅▅▆▆▇▆▆▆▇▆▆▇▅▅▇▇▆▆▆▇▆█▇▇▇▆</td></tr><tr><td>class_5_f_beta_score</td><td>▁▁▁▁▃▂▅▅▅▄▄▆▆▆▆▇▆▇█▇▇▇▆▇▇▇███▆███▇█▇█▇▇▇</td></tr><tr><td>class_6_dice_score</td><td>▁▃▆▄▆▇▇▇█▆██▇▆▇▄▇█▇▆▆▆▇▆▄▇▅▇▇▆▆▅▇▇▆▇▇██▇</td></tr><tr><td>class_6_f_beta_score</td><td>▁▅▃▆▆▆▆▇▇▇▇▇▇▇▇▇▇█▇█▇█▇▇█▇▇▇▇█▇██▆▇█▇██▇</td></tr><tr><td>epoch</td><td>▁▁▁▁▁▂▂▂▃▃▃▃▃▄▄▄▄▄▄▄▅▅▅▅▅▆▆▆▆▆▆▇▇▇▇▇▇▇▇█</td></tr><tr><td>overall_mean_dice_score</td><td>▁▂▃▄▅▆▆▆▆▆▇▆▇▇▆▇▇▇▇█▇▇▇▇▇▇▇▇██▇▇▇▇█▇███▇</td></tr><tr><td>overall_mean_f_beta_score</td><td>▁▃▄▄▅▆▆▆▆▆▇▇▇▇▇██▇▇█▇████████▇██▇▇█▇████</td></tr><tr><td>train_epoch_loss</td><td>█▆▆▅▄▃▃▃▃▃▃▂▂▂▂▂▂▂▂▂▂▂▂▁▂▁▂▁▁▁▁▂▂▁▁▁▁▁▁▁</td></tr><tr><td>val_epoch_loss</td><td>█▇▇▅▅▄▄▅▅▃▄▃▃▄▃▃▂▂▂▃▃▃▃▂▃▄▂▁▃▂▃▁▃▄▁▃▁▁▃▂</td></tr></table><br/></div><div class=\"wandb-col\"><h3>Run summary:</h3><br/><table class=\"wandb\"><tr><td>class_0_dice_score</td><td>0.98896</td></tr><tr><td>class_0_f_beta_score</td><td>0.98455</td></tr><tr><td>class_1_dice_score</td><td>0.79021</td></tr><tr><td>class_1_f_beta_score</td><td>0.87358</td></tr><tr><td>class_2_dice_score</td><td>0.19994</td></tr><tr><td>class_2_f_beta_score</td><td>0.29959</td></tr><tr><td>class_3_dice_score</td><td>0.37654</td></tr><tr><td>class_3_f_beta_score</td><td>0.56702</td></tr><tr><td>class_4_dice_score</td><td>0.75425</td></tr><tr><td>class_4_f_beta_score</td><td>0.78952</td></tr><tr><td>class_5_dice_score</td><td>0.43133</td></tr><tr><td>class_5_f_beta_score</td><td>0.59139</td></tr><tr><td>class_6_dice_score</td><td>0.89523</td></tr><tr><td>class_6_f_beta_score</td><td>0.94293</td></tr><tr><td>epoch</td><td>55</td></tr><tr><td>overall_mean_dice_score</td><td>0.64951</td></tr><tr><td>overall_mean_f_beta_score</td><td>0.75289</td></tr><tr><td>train_epoch_loss</td><td>0.38342</td></tr><tr><td>val_epoch_loss</td><td>0.37156</td></tr></table><br/></div></div>"
      ],
      "text/plain": [
       "<IPython.core.display.HTML object>"
      ]
     },
     "metadata": {},
     "output_type": "display_data"
    },
    {
     "data": {
      "text/html": [
       " View run <strong style=\"color:#cdcd00\">UNET_randGaus_511_241_noclswt_f48_d96s96_numb2_lr1e-03_a0.52_b0.48_b16_r4_ce0.4_ac1</strong> at: <a href='https://wandb.ai/limbw/czii_UNet/runs/vevg32h8' target=\"_blank\">https://wandb.ai/limbw/czii_UNet/runs/vevg32h8</a><br> View project at: <a href='https://wandb.ai/limbw/czii_UNet' target=\"_blank\">https://wandb.ai/limbw/czii_UNet</a><br>Synced 5 W&B file(s), 0 media file(s), 0 artifact file(s) and 0 other file(s)"
      ],
      "text/plain": [
       "<IPython.core.display.HTML object>"
      ]
     },
     "metadata": {},
     "output_type": "display_data"
    },
    {
     "data": {
      "text/html": [
       "Find logs at: <code>.\\wandb\\run-20250117_023936-vevg32h8\\logs</code>"
      ],
      "text/plain": [
       "<IPython.core.display.HTML object>"
      ]
     },
     "metadata": {},
     "output_type": "display_data"
    }
   ],
   "source": [
    "train_model(\n",
    "    model=model,\n",
    "    train_loader=train_loader,\n",
    "    val_loader=val_loader,\n",
    "    criterion=criterion,\n",
    "    optimizer=optimizer,\n",
    "    num_epochs=num_epochs,\n",
    "    patience=10,\n",
    "    device=device,\n",
    "    start_epoch=start_epoch,\n",
    "    best_val_loss=best_val_loss,\n",
    "    best_val_fbeta_score=best_val_fbeta_score,\n",
    "    calculate_dice_interval=1,\n",
    "    accumulation_steps = accumulation_steps\n",
    "     ) "
   ]
  },
  {
   "cell_type": "code",
   "execution_count": 12,
   "metadata": {},
   "outputs": [
    {
     "name": "stderr",
     "output_type": "stream",
     "text": [
      "Loading dataset: 100%|██████████| 24/24 [00:02<00:00,  8.40it/s]\n",
      "Loading dataset: 100%|██████████| 1/1 [00:00<00:00, 13.90it/s]\n"
     ]
    },
    {
     "name": "stdout",
     "output_type": "stream",
     "text": [
      "torch.Size([16, 1, 96, 96, 96]) torch.Size([16, 1, 96, 96, 96])\n"
     ]
    }
   ],
   "source": [
    "train_img_dir = './datasets/public_data/images'\n",
    "train_label_dir = './datasets/public_data/labels'\n",
    "\n",
    "train_loader, val_loader = None, None\n",
    "train_loader, val_loader = create_dataloaders_bw(\n",
    "    train_img_dir, \n",
    "    train_label_dir, \n",
    "    val_img_dir, \n",
    "    val_label_dir, \n",
    "    non_random_transforms = non_random_transforms, \n",
    "    val_non_random_transforms=non_random_transforms,\n",
    "    random_transforms = random_transforms, \n",
    "    val_random_transforms=val_random_transforms,\n",
    "    batch_size = loader_batch,\n",
    "    num_workers=0,\n",
    "    train_num_repeat=num_repeat\n",
    "    )\n",
    "\n",
    "batch = next(iter(val_loader))\n",
    "images, labels = batch[\"image\"], batch[\"label\"]\n",
    "print(images.shape, labels.shape)"
   ]
  },
  {
   "cell_type": "code",
   "execution_count": 13,
   "metadata": {},
   "outputs": [],
   "source": [
    "torch.backends.cudnn.benchmark = True"
   ]
  },
  {
   "cell_type": "code",
   "execution_count": 14,
   "metadata": {},
   "outputs": [
    {
     "name": "stdout",
     "output_type": "stream",
     "text": [
      "기존 best model 발견: model_checkpoints\\UNET_randGaus_511_241_noclswt_f48_d96s96_numb2_lr1e-03_a0.52_b0.48_b16_r4_ce0.4_ac1\\best_model.pt\n",
      "기존 학습된 가중치를 성공적으로 로드했습니다.\n"
     ]
    },
    {
     "name": "stderr",
     "output_type": "stream",
     "text": [
      "C:\\Users\\pook0\\AppData\\Local\\Temp\\ipykernel_11996\\979331436.py:6: FutureWarning: You are using `torch.load` with `weights_only=False` (the current default value), which uses the default pickle module implicitly. It is possible to construct malicious pickle data which will execute arbitrary code during unpickling (See https://github.com/pytorch/pytorch/blob/main/SECURITY.md#untrusted-models for more details). In a future release, the default value for `weights_only` will be flipped to `True`. This limits the functions that could be executed during unpickling. Arbitrary objects will no longer be allowed to be loaded via this mode unless they are explicitly allowlisted by the user via `torch.serialization.add_safe_globals`. We recommend you start setting `weights_only=True` for any use case where you don't have full control of the loaded file. Please open an issue on GitHub for any issues related to this experimental feature.\n",
      "  checkpoint = torch.load(best_model_path, map_location=device)\n"
     ]
    }
   ],
   "source": [
    "\n",
    "if checkpoint_dir.exists():\n",
    "    best_model_path = checkpoint_dir / 'best_model.pt'\n",
    "    if best_model_path.exists():\n",
    "        print(f\"기존 best model 발견: {best_model_path}\")\n",
    "        try:\n",
    "            checkpoint = torch.load(best_model_path, map_location=device)\n",
    "            # 체크포인트 내부 키 검증\n",
    "            required_keys = ['model_state_dict', 'optimizer_state_dict', 'epoch', 'best_val_loss']\n",
    "            if all(k in checkpoint for k in required_keys):\n",
    "                model.load_state_dict(checkpoint['model_state_dict'])\n",
    "                optimizer.load_state_dict(checkpoint['optimizer_state_dict'])\n",
    "                start_epoch = checkpoint['epoch']\n",
    "                best_val_loss = checkpoint['best_val_loss']\n",
    "                print(\"기존 학습된 가중치를 성공적으로 로드했습니다.\")\n",
    "                checkpoint= None\n",
    "            else:\n",
    "                raise ValueError(\"체크포인트 파일에 필요한 key가 없습니다.\")\n",
    "        except Exception as e:\n",
    "            print(f\"체크포인트 파일을 로드하는 중 오류 발생: {e}\")\n"
   ]
  },
  {
   "cell_type": "code",
   "execution_count": 15,
   "metadata": {},
   "outputs": [
    {
     "data": {
      "text/html": [
       "Tracking run with wandb version 0.19.1"
      ],
      "text/plain": [
       "<IPython.core.display.HTML object>"
      ]
     },
     "metadata": {},
     "output_type": "display_data"
    },
    {
     "data": {
      "text/html": [
       "Run data is saved locally in <code>d:\\Workspace\\czll\\wandb\\run-20250117_052907-3z9ntt2j</code>"
      ],
      "text/plain": [
       "<IPython.core.display.HTML object>"
      ]
     },
     "metadata": {},
     "output_type": "display_data"
    },
    {
     "data": {
      "text/html": [
       "Syncing run <strong><a href='https://wandb.ai/limbw/czii_UNet/runs/3z9ntt2j' target=\"_blank\">UNET_randGaus_511_241_noclswt_f48_d96s96_numb2_lr1e-03_a0.52_b0.48_b16_r4_ce0.4_ac1</a></strong> to <a href='https://wandb.ai/limbw/czii_UNet' target=\"_blank\">Weights & Biases</a> (<a href='https://wandb.me/developer-guide' target=\"_blank\">docs</a>)<br>"
      ],
      "text/plain": [
       "<IPython.core.display.HTML object>"
      ]
     },
     "metadata": {},
     "output_type": "display_data"
    },
    {
     "data": {
      "text/html": [
       " View project at <a href='https://wandb.ai/limbw/czii_UNet' target=\"_blank\">https://wandb.ai/limbw/czii_UNet</a>"
      ],
      "text/plain": [
       "<IPython.core.display.HTML object>"
      ]
     },
     "metadata": {},
     "output_type": "display_data"
    },
    {
     "data": {
      "text/html": [
       " View run at <a href='https://wandb.ai/limbw/czii_UNet/runs/3z9ntt2j' target=\"_blank\">https://wandb.ai/limbw/czii_UNet/runs/3z9ntt2j</a>"
      ],
      "text/plain": [
       "<IPython.core.display.HTML object>"
      ]
     },
     "metadata": {},
     "output_type": "display_data"
    }
   ],
   "source": [
    "import wandb\n",
    "from datetime import datetime\n",
    "\n",
    "current_time = datetime.now().strftime('%Y%m%d_%H%M%S')\n",
    "run_name = folder_name\n",
    "\n",
    "# wandb 초기화\n",
    "wandb.init(\n",
    "    project='czii_UNet',  # 프로젝트 이름 설정\n",
    "    name=run_name,         # 실행(run) 이름 설정\n",
    "    config={\n",
    "        'num_epochs': num_epochs,\n",
    "        'learning_rate': lr,\n",
    "        'batch_size': batch_size,\n",
    "        'lambda': lamda,\n",
    "        \"cross_entropy_weight\": ce_weight,\n",
    "        'feature_size': feature_size,\n",
    "        'img_size': img_size,\n",
    "        'sampling_ratio': ratios_list,\n",
    "        'device': device.type,\n",
    "        \"checkpoint_dir\": str(checkpoint_dir),\n",
    "        \"class_weights\": class_weights.tolist() if class_weights is not None else None,\n",
    "        \"use_checkpoint\": use_checkpoint,\n",
    "        \"drop_rate\": drop_rate,\n",
    "        \"attn_drop_rate\": attn_drop_rate,\n",
    "        \"use_v2\": use_v2,\n",
    "        \"accumulation_steps\": accumulation_steps,\n",
    "        \"num_repeat\": num_repeat,\n",
    "        \"num_bottleneck\": num_bottleneck,\n",
    "        \n",
    "        # 필요한 하이퍼파라미터 추가\n",
    "    }\n",
    ")\n",
    "# 모델을 wandb에 연결\n",
    "wandb.watch(model, log='all')"
   ]
  },
  {
   "cell_type": "code",
   "execution_count": 16,
   "metadata": {},
   "outputs": [
    {
     "name": "stdout",
     "output_type": "stream",
     "text": [
      "Epoch 40/4000\n"
     ]
    },
    {
     "name": "stderr",
     "output_type": "stream",
     "text": [
      "Training:   0%|          | 0/96 [00:00<?, ?it/s]C:\\Users\\pook0\\AppData\\Local\\Temp\\ipykernel_11996\\3379185286.py:44: UserWarning: To copy construct from a tensor, it is recommended to use sourceTensor.clone().detach() or sourceTensor.clone().detach().requires_grad_(True), rather than torch.tensor(sourceTensor).\n",
      "  class_weights = torch.tensor(self.ce.weight)  # CrossEntropy의 weight를 사용\n",
      "Training: 100%|██████████| 96/96 [01:24<00:00,  1.14it/s, loss=0.384]\n",
      "Validation: 100%|██████████| 3/3 [00:01<00:00,  1.72it/s, loss=0.432]\n"
     ]
    },
    {
     "name": "stdout",
     "output_type": "stream",
     "text": [
      "Validation Dice Score\n",
      "Class 0: 0.9793, Class 1: 0.7131, Class 2: 0.3147, Class 3: 0.3278, Class 4: 0.5494, Class 5: 0.3526, Class 6: 0.8205, \n",
      "Validation F-beta Score\n",
      "Class 0: 0.9640, Class 1: 0.8745, Class 2: 0.4542, Class 3: 0.4191, Class 4: 0.8662, Class 5: 0.6779, Class 6: 0.9508, \n",
      "\n",
      "Overall Mean Dice Score: 0.5527\n",
      "Overall Mean F-beta Score: 0.7577\n",
      "\n",
      "Training Loss: 0.4128, Validation Loss: 0.4210, Validation F-beta: 0.7577\n",
      "Epoch 41/4000\n"
     ]
    },
    {
     "name": "stderr",
     "output_type": "stream",
     "text": [
      "Training: 100%|██████████| 96/96 [01:26<00:00,  1.11it/s, loss=0.423]\n",
      "Validation: 100%|██████████| 3/3 [00:01<00:00,  1.73it/s, loss=0.403]\n"
     ]
    },
    {
     "name": "stdout",
     "output_type": "stream",
     "text": [
      "Validation Dice Score\n",
      "Class 0: 0.9843, Class 1: 0.6343, Class 2: 0.2167, Class 3: 0.3624, Class 4: 0.6642, Class 5: 0.4190, Class 6: 0.7874, \n",
      "Validation F-beta Score\n",
      "Class 0: 0.9758, Class 1: 0.8716, Class 2: 0.2931, Class 3: 0.5254, Class 4: 0.8078, Class 5: 0.6112, Class 6: 0.9473, \n",
      "\n",
      "Overall Mean Dice Score: 0.5735\n",
      "Overall Mean F-beta Score: 0.7527\n",
      "\n",
      "Training Loss: 0.4211, Validation Loss: 0.4157, Validation F-beta: 0.7527\n",
      "Epoch 42/4000\n"
     ]
    },
    {
     "name": "stderr",
     "output_type": "stream",
     "text": [
      "Training: 100%|██████████| 96/96 [01:28<00:00,  1.08it/s, loss=0.437]\n",
      "Validation: 100%|██████████| 3/3 [00:01<00:00,  1.69it/s, loss=0.372]\n"
     ]
    },
    {
     "name": "stdout",
     "output_type": "stream",
     "text": [
      "Validation Dice Score\n",
      "Class 0: 0.9877, Class 1: 0.7744, Class 2: 0.3218, Class 3: 0.3681, Class 4: 0.6941, Class 5: 0.4286, Class 6: 0.8976, \n",
      "Validation F-beta Score\n",
      "Class 0: 0.9818, Class 1: 0.8799, Class 2: 0.3553, Class 3: 0.5084, Class 4: 0.8463, Class 5: 0.5578, Class 6: 0.9655, \n",
      "\n",
      "Overall Mean Dice Score: 0.6326\n",
      "Overall Mean F-beta Score: 0.7516\n",
      "\n",
      "Training Loss: 0.4191, Validation Loss: 0.3807, Validation F-beta: 0.7516\n",
      "Epoch 43/4000\n"
     ]
    },
    {
     "name": "stderr",
     "output_type": "stream",
     "text": [
      "Training: 100%|██████████| 96/96 [01:24<00:00,  1.14it/s, loss=0.437]\n",
      "Validation: 100%|██████████| 3/3 [00:01<00:00,  1.62it/s, loss=0.39] \n"
     ]
    },
    {
     "name": "stdout",
     "output_type": "stream",
     "text": [
      "Validation Dice Score\n",
      "Class 0: 0.9882, Class 1: 0.7899, Class 2: 0.1844, Class 3: 0.3285, Class 4: 0.7371, Class 5: 0.4378, Class 6: 0.8349, \n",
      "Validation F-beta Score\n",
      "Class 0: 0.9842, Class 1: 0.8645, Class 2: 0.2687, Class 3: 0.5634, Class 4: 0.7790, Class 5: 0.5455, Class 6: 0.9562, \n",
      "\n",
      "Overall Mean Dice Score: 0.6256\n",
      "Overall Mean F-beta Score: 0.7417\n",
      "\n",
      "Training Loss: 0.4085, Validation Loss: 0.3938, Validation F-beta: 0.7417\n",
      "Epoch 44/4000\n"
     ]
    },
    {
     "name": "stderr",
     "output_type": "stream",
     "text": [
      "Training: 100%|██████████| 96/96 [01:26<00:00,  1.11it/s, loss=0.38] \n",
      "Validation: 100%|██████████| 3/3 [00:01<00:00,  1.70it/s, loss=0.383]\n"
     ]
    },
    {
     "name": "stdout",
     "output_type": "stream",
     "text": [
      "Validation Dice Score\n",
      "Class 0: 0.9884, Class 1: 0.7490, Class 2: 0.1795, Class 3: 0.2979, Class 4: 0.6825, Class 5: 0.4203, Class 6: 0.8586, \n",
      "Validation F-beta Score\n",
      "Class 0: 0.9845, Class 1: 0.8622, Class 2: 0.1752, Class 3: 0.3975, Class 4: 0.7656, Class 5: 0.5174, Class 6: 0.9606, \n",
      "\n",
      "Overall Mean Dice Score: 0.6016\n",
      "Overall Mean F-beta Score: 0.7007\n",
      "\n",
      "Training Loss: 0.4069, Validation Loss: 0.3849, Validation F-beta: 0.7007\n",
      "Epoch 45/4000\n"
     ]
    },
    {
     "name": "stderr",
     "output_type": "stream",
     "text": [
      "Training: 100%|██████████| 96/96 [01:24<00:00,  1.14it/s, loss=0.402]\n",
      "Validation: 100%|██████████| 3/3 [00:01<00:00,  1.70it/s, loss=0.392]\n"
     ]
    },
    {
     "name": "stdout",
     "output_type": "stream",
     "text": [
      "Validation Dice Score\n",
      "Class 0: 0.9877, Class 1: 0.7757, Class 2: 0.1060, Class 3: 0.2840, Class 4: 0.6910, Class 5: 0.4319, Class 6: 0.8838, \n",
      "Validation F-beta Score\n",
      "Class 0: 0.9814, Class 1: 0.8744, Class 2: 0.2407, Class 3: 0.4566, Class 4: 0.8077, Class 5: 0.6014, Class 6: 0.9660, \n",
      "\n",
      "Overall Mean Dice Score: 0.6133\n",
      "Overall Mean F-beta Score: 0.7412\n",
      "\n",
      "Training Loss: 0.4050, Validation Loss: 0.3938, Validation F-beta: 0.7412\n",
      "Epoch 46/4000\n"
     ]
    },
    {
     "name": "stderr",
     "output_type": "stream",
     "text": [
      "Training: 100%|██████████| 96/96 [01:24<00:00,  1.14it/s, loss=0.399]\n",
      "Validation: 100%|██████████| 3/3 [00:01<00:00,  1.78it/s, loss=0.363]\n"
     ]
    },
    {
     "name": "stdout",
     "output_type": "stream",
     "text": [
      "Validation Dice Score\n",
      "Class 0: 0.9906, Class 1: 0.7447, Class 2: 0.2316, Class 3: 0.3594, Class 4: 0.7268, Class 5: 0.4722, Class 6: 0.9133, \n",
      "Validation F-beta Score\n",
      "Class 0: 0.9875, Class 1: 0.8450, Class 2: 0.2825, Class 3: 0.4453, Class 4: 0.7702, Class 5: 0.6046, Class 6: 0.9660, \n",
      "\n",
      "Overall Mean Dice Score: 0.6433\n",
      "Overall Mean F-beta Score: 0.7262\n",
      "\n",
      "Training Loss: 0.4041, Validation Loss: 0.3791, Validation F-beta: 0.7262\n",
      "Epoch 47/4000\n"
     ]
    },
    {
     "name": "stderr",
     "output_type": "stream",
     "text": [
      "Training: 100%|██████████| 96/96 [01:25<00:00,  1.12it/s, loss=0.409]\n",
      "Validation: 100%|██████████| 3/3 [00:01<00:00,  1.70it/s, loss=0.357]\n"
     ]
    },
    {
     "name": "stdout",
     "output_type": "stream",
     "text": [
      "Validation Dice Score\n",
      "Class 0: 0.9894, Class 1: 0.8180, Class 2: 0.2697, Class 3: 0.4423, Class 4: 0.7197, Class 5: 0.4247, Class 6: 0.9093, \n",
      "Validation F-beta Score\n",
      "Class 0: 0.9866, Class 1: 0.8601, Class 2: 0.3265, Class 3: 0.5626, Class 4: 0.7931, Class 5: 0.4615, Class 6: 0.9634, \n",
      "\n",
      "Overall Mean Dice Score: 0.6628\n",
      "Overall Mean F-beta Score: 0.7281\n",
      "\n",
      "Training Loss: 0.4031, Validation Loss: 0.3703, Validation F-beta: 0.7281\n",
      "Epoch 48/4000\n"
     ]
    },
    {
     "name": "stderr",
     "output_type": "stream",
     "text": [
      "Training: 100%|██████████| 96/96 [01:27<00:00,  1.10it/s, loss=0.399]\n",
      "Validation: 100%|██████████| 3/3 [00:01<00:00,  1.69it/s, loss=0.375]\n"
     ]
    },
    {
     "name": "stdout",
     "output_type": "stream",
     "text": [
      "Validation Dice Score\n",
      "Class 0: 0.9881, Class 1: 0.7975, Class 2: 0.2704, Class 3: 0.3806, Class 4: 0.7200, Class 5: 0.4471, Class 6: 0.8869, \n",
      "Validation F-beta Score\n",
      "Class 0: 0.9835, Class 1: 0.8741, Class 2: 0.3963, Class 3: 0.4591, Class 4: 0.7690, Class 5: 0.6008, Class 6: 0.9620, \n",
      "\n",
      "Overall Mean Dice Score: 0.6464\n",
      "Overall Mean F-beta Score: 0.7330\n",
      "\n",
      "Training Loss: 0.4014, Validation Loss: 0.3731, Validation F-beta: 0.7330\n",
      "Epoch 49/4000\n"
     ]
    },
    {
     "name": "stderr",
     "output_type": "stream",
     "text": [
      "Training: 100%|██████████| 96/96 [01:27<00:00,  1.10it/s, loss=0.394]\n",
      "Validation: 100%|██████████| 3/3 [00:01<00:00,  1.72it/s, loss=0.379]\n"
     ]
    },
    {
     "name": "stdout",
     "output_type": "stream",
     "text": [
      "Validation Dice Score\n",
      "Class 0: 0.9891, Class 1: 0.7579, Class 2: 0.2707, Class 3: 0.2696, Class 4: 0.6932, Class 5: 0.5026, Class 6: 0.8920, \n",
      "Validation F-beta Score\n",
      "Class 0: 0.9853, Class 1: 0.8929, Class 2: 0.3348, Class 3: 0.4100, Class 4: 0.7523, Class 5: 0.6121, Class 6: 0.9732, \n",
      "\n",
      "Overall Mean Dice Score: 0.6231\n",
      "Overall Mean F-beta Score: 0.7281\n",
      "\n",
      "Training Loss: 0.4029, Validation Loss: 0.3829, Validation F-beta: 0.7281\n",
      "Epoch 50/4000\n"
     ]
    },
    {
     "name": "stderr",
     "output_type": "stream",
     "text": [
      "Training: 100%|██████████| 96/96 [01:25<00:00,  1.13it/s, loss=0.414]\n",
      "Validation: 100%|██████████| 3/3 [00:01<00:00,  1.73it/s, loss=0.35] \n"
     ]
    },
    {
     "name": "stdout",
     "output_type": "stream",
     "text": [
      "Validation Dice Score\n",
      "Class 0: 0.9904, Class 1: 0.8233, Class 2: 0.1670, Class 3: 0.3752, Class 4: 0.7154, Class 5: 0.4998, Class 6: 0.9031, \n",
      "Validation F-beta Score\n",
      "Class 0: 0.9882, Class 1: 0.8646, Class 2: 0.1900, Class 3: 0.4559, Class 4: 0.7975, Class 5: 0.5329, Class 6: 0.9697, \n",
      "\n",
      "Overall Mean Dice Score: 0.6634\n",
      "Overall Mean F-beta Score: 0.7241\n",
      "\n",
      "Training Loss: 0.4004, Validation Loss: 0.3451, Validation F-beta: 0.7241\n",
      "========================================================\n",
      "SUPER Best model saved. Loss:0.3451, Score:0.7241\n",
      "========================================================\n",
      "Epoch 51/4000\n"
     ]
    },
    {
     "name": "stderr",
     "output_type": "stream",
     "text": [
      "Training: 100%|██████████| 96/96 [01:25<00:00,  1.12it/s, loss=0.402]\n",
      "Validation: 100%|██████████| 3/3 [00:01<00:00,  1.69it/s, loss=0.391]\n"
     ]
    },
    {
     "name": "stdout",
     "output_type": "stream",
     "text": [
      "Validation Dice Score\n",
      "Class 0: 0.9892, Class 1: 0.7533, Class 2: 0.2571, Class 3: 0.3844, Class 4: 0.7429, Class 5: 0.4487, Class 6: 0.8718, \n",
      "Validation F-beta Score\n",
      "Class 0: 0.9866, Class 1: 0.8572, Class 2: 0.3757, Class 3: 0.4794, Class 4: 0.7556, Class 5: 0.5362, Class 6: 0.9603, \n",
      "\n",
      "Overall Mean Dice Score: 0.6402\n",
      "Overall Mean F-beta Score: 0.7177\n",
      "\n",
      "Training Loss: 0.4043, Validation Loss: 0.3883, Validation F-beta: 0.7177\n",
      "Epoch 52/4000\n"
     ]
    },
    {
     "name": "stderr",
     "output_type": "stream",
     "text": [
      "Training: 100%|██████████| 96/96 [01:24<00:00,  1.13it/s, loss=0.388]\n",
      "Validation: 100%|██████████| 3/3 [00:01<00:00,  1.73it/s, loss=0.399]\n"
     ]
    },
    {
     "name": "stdout",
     "output_type": "stream",
     "text": [
      "Validation Dice Score\n",
      "Class 0: 0.9892, Class 1: 0.6726, Class 2: 0.2163, Class 3: 0.3397, Class 4: 0.7481, Class 5: 0.4288, Class 6: 0.9021, \n",
      "Validation F-beta Score\n",
      "Class 0: 0.9848, Class 1: 0.8274, Class 2: 0.2474, Class 3: 0.4020, Class 4: 0.8127, Class 5: 0.5897, Class 6: 0.9711, \n",
      "\n",
      "Overall Mean Dice Score: 0.6183\n",
      "Overall Mean F-beta Score: 0.7206\n",
      "\n",
      "Training Loss: 0.4018, Validation Loss: 0.3918, Validation F-beta: 0.7206\n",
      "Epoch 53/4000\n"
     ]
    },
    {
     "name": "stderr",
     "output_type": "stream",
     "text": [
      "Training: 100%|██████████| 96/96 [01:25<00:00,  1.13it/s, loss=0.388]\n",
      "Validation: 100%|██████████| 3/3 [00:01<00:00,  1.73it/s, loss=0.369]\n"
     ]
    },
    {
     "name": "stdout",
     "output_type": "stream",
     "text": [
      "Validation Dice Score\n",
      "Class 0: 0.9886, Class 1: 0.7909, Class 2: 0.1894, Class 3: 0.4442, Class 4: 0.7280, Class 5: 0.4722, Class 6: 0.8921, \n",
      "Validation F-beta Score\n",
      "Class 0: 0.9845, Class 1: 0.8421, Class 2: 0.2924, Class 3: 0.5485, Class 4: 0.7829, Class 5: 0.6186, Class 6: 0.9622, \n",
      "\n",
      "Overall Mean Dice Score: 0.6655\n",
      "Overall Mean F-beta Score: 0.7509\n",
      "\n",
      "Training Loss: 0.4002, Validation Loss: 0.3600, Validation F-beta: 0.7509\n",
      "Epoch 54/4000\n"
     ]
    },
    {
     "name": "stderr",
     "output_type": "stream",
     "text": [
      "Training: 100%|██████████| 96/96 [01:26<00:00,  1.11it/s, loss=0.415]\n",
      "Validation: 100%|██████████| 3/3 [00:01<00:00,  1.70it/s, loss=0.398]\n"
     ]
    },
    {
     "name": "stdout",
     "output_type": "stream",
     "text": [
      "Validation Dice Score\n",
      "Class 0: 0.9899, Class 1: 0.8061, Class 2: 0.2889, Class 3: 0.2846, Class 4: 0.6608, Class 5: 0.4727, Class 6: 0.8939, \n",
      "Validation F-beta Score\n",
      "Class 0: 0.9858, Class 1: 0.8818, Class 2: 0.3227, Class 3: 0.4386, Class 4: 0.8066, Class 5: 0.5795, Class 6: 0.9719, \n",
      "\n",
      "Overall Mean Dice Score: 0.6236\n",
      "Overall Mean F-beta Score: 0.7357\n",
      "\n",
      "Training Loss: 0.4043, Validation Loss: 0.3827, Validation F-beta: 0.7357\n",
      "Epoch 55/4000\n"
     ]
    },
    {
     "name": "stderr",
     "output_type": "stream",
     "text": [
      "Training: 100%|██████████| 96/96 [01:41<00:00,  1.05s/it, loss=0.398]\n",
      "Validation: 100%|██████████| 3/3 [00:01<00:00,  1.53it/s, loss=0.401]\n"
     ]
    },
    {
     "name": "stdout",
     "output_type": "stream",
     "text": [
      "Validation Dice Score\n",
      "Class 0: 0.9892, Class 1: 0.7689, Class 2: 0.2669, Class 3: 0.4381, Class 4: 0.6991, Class 5: 0.4890, Class 6: 0.8964, \n",
      "Validation F-beta Score\n",
      "Class 0: 0.9846, Class 1: 0.8433, Class 2: 0.3706, Class 3: 0.6392, Class 4: 0.8118, Class 5: 0.6056, Class 6: 0.9568, \n",
      "\n",
      "Overall Mean Dice Score: 0.6583\n",
      "Overall Mean F-beta Score: 0.7713\n",
      "\n",
      "Training Loss: 0.3981, Validation Loss: 0.3756, Validation F-beta: 0.7713\n",
      "Epoch 56/4000\n"
     ]
    },
    {
     "name": "stderr",
     "output_type": "stream",
     "text": [
      "Training: 100%|██████████| 96/96 [01:33<00:00,  1.03it/s, loss=0.412]\n",
      "Validation: 100%|██████████| 3/3 [00:01<00:00,  1.60it/s, loss=0.352]\n"
     ]
    },
    {
     "name": "stdout",
     "output_type": "stream",
     "text": [
      "Validation Dice Score\n",
      "Class 0: 0.9890, Class 1: 0.7814, Class 2: 0.2101, Class 3: 0.3673, Class 4: 0.7058, Class 5: 0.4794, Class 6: 0.8930, \n",
      "Validation F-beta Score\n",
      "Class 0: 0.9850, Class 1: 0.8385, Class 2: 0.3607, Class 3: 0.5210, Class 4: 0.7881, Class 5: 0.5710, Class 6: 0.9632, \n",
      "\n",
      "Overall Mean Dice Score: 0.6454\n",
      "Overall Mean F-beta Score: 0.7364\n",
      "\n",
      "Training Loss: 0.4006, Validation Loss: 0.3734, Validation F-beta: 0.7364\n",
      "Epoch 57/4000\n"
     ]
    },
    {
     "name": "stderr",
     "output_type": "stream",
     "text": [
      "Training: 100%|██████████| 96/96 [01:32<00:00,  1.04it/s, loss=0.423]\n",
      "Validation: 100%|██████████| 3/3 [00:01<00:00,  1.63it/s, loss=0.381]\n"
     ]
    },
    {
     "name": "stdout",
     "output_type": "stream",
     "text": [
      "Validation Dice Score\n",
      "Class 0: 0.9888, Class 1: 0.7910, Class 2: 0.1396, Class 3: 0.3791, Class 4: 0.6912, Class 5: 0.4107, Class 6: 0.8685, \n",
      "Validation F-beta Score\n",
      "Class 0: 0.9854, Class 1: 0.8668, Class 2: 0.1733, Class 3: 0.4846, Class 4: 0.7667, Class 5: 0.5057, Class 6: 0.9573, \n",
      "\n",
      "Overall Mean Dice Score: 0.6281\n",
      "Overall Mean F-beta Score: 0.7162\n",
      "\n",
      "Training Loss: 0.3985, Validation Loss: 0.3776, Validation F-beta: 0.7162\n",
      "Epoch 58/4000\n"
     ]
    },
    {
     "name": "stderr",
     "output_type": "stream",
     "text": [
      "Training: 100%|██████████| 96/96 [01:31<00:00,  1.04it/s, loss=0.401]\n",
      "Validation: 100%|██████████| 3/3 [00:01<00:00,  1.56it/s, loss=0.361]\n"
     ]
    },
    {
     "name": "stdout",
     "output_type": "stream",
     "text": [
      "Validation Dice Score\n",
      "Class 0: 0.9899, Class 1: 0.7593, Class 2: 0.2952, Class 3: 0.3495, Class 4: 0.7467, Class 5: 0.4574, Class 6: 0.9175, \n",
      "Validation F-beta Score\n",
      "Class 0: 0.9872, Class 1: 0.8788, Class 2: 0.3497, Class 3: 0.4666, Class 4: 0.7685, Class 5: 0.5504, Class 6: 0.9616, \n",
      "\n",
      "Overall Mean Dice Score: 0.6461\n",
      "Overall Mean F-beta Score: 0.7252\n",
      "\n",
      "Training Loss: 0.3972, Validation Loss: 0.3849, Validation F-beta: 0.7252\n",
      "Epoch 59/4000\n"
     ]
    },
    {
     "name": "stderr",
     "output_type": "stream",
     "text": [
      "Training: 100%|██████████| 96/96 [01:28<00:00,  1.09it/s, loss=0.434]\n",
      "Validation: 100%|██████████| 3/3 [00:01<00:00,  1.70it/s, loss=0.34] \n"
     ]
    },
    {
     "name": "stdout",
     "output_type": "stream",
     "text": [
      "Validation Dice Score\n",
      "Class 0: 0.9894, Class 1: 0.7875, Class 2: 0.2023, Class 3: 0.3551, Class 4: 0.7163, Class 5: 0.4662, Class 6: 0.8908, \n",
      "Validation F-beta Score\n",
      "Class 0: 0.9866, Class 1: 0.8510, Class 2: 0.2434, Class 3: 0.4587, Class 4: 0.7773, Class 5: 0.5233, Class 6: 0.9633, \n",
      "\n",
      "Overall Mean Dice Score: 0.6432\n",
      "Overall Mean F-beta Score: 0.7147\n",
      "\n",
      "Training Loss: 0.3996, Validation Loss: 0.3672, Validation F-beta: 0.7147\n",
      "Epoch 60/4000\n"
     ]
    },
    {
     "name": "stderr",
     "output_type": "stream",
     "text": [
      "Training: 100%|██████████| 96/96 [01:26<00:00,  1.11it/s, loss=0.373]\n",
      "Validation: 100%|██████████| 3/3 [00:01<00:00,  1.67it/s, loss=0.378]\n"
     ]
    },
    {
     "name": "stdout",
     "output_type": "stream",
     "text": [
      "Validation Dice Score\n",
      "Class 0: 0.9896, Class 1: 0.8106, Class 2: 0.3398, Class 3: 0.3831, Class 4: 0.7506, Class 5: 0.4648, Class 6: 0.8913, \n",
      "Validation F-beta Score\n",
      "Class 0: 0.9858, Class 1: 0.8603, Class 2: 0.4056, Class 3: 0.4614, Class 4: 0.8028, Class 5: 0.6024, Class 6: 0.9603, \n",
      "\n",
      "Overall Mean Dice Score: 0.6601\n",
      "Overall Mean F-beta Score: 0.7374\n",
      "\n",
      "Training Loss: 0.3988, Validation Loss: 0.3779, Validation F-beta: 0.7374\n",
      "Epoch 61/4000\n"
     ]
    },
    {
     "name": "stderr",
     "output_type": "stream",
     "text": [
      "Training: 100%|██████████| 96/96 [01:28<00:00,  1.09it/s, loss=0.394]\n",
      "Validation: 100%|██████████| 3/3 [00:01<00:00,  1.69it/s, loss=0.35] \n"
     ]
    },
    {
     "name": "stdout",
     "output_type": "stream",
     "text": [
      "Validation Dice Score\n",
      "Class 0: 0.9902, Class 1: 0.7933, Class 2: 0.3355, Class 3: 0.4612, Class 4: 0.7342, Class 5: 0.4827, Class 6: 0.8897, \n",
      "Validation F-beta Score\n",
      "Class 0: 0.9866, Class 1: 0.8610, Class 2: 0.4419, Class 3: 0.6220, Class 4: 0.8033, Class 5: 0.6027, Class 6: 0.9567, \n",
      "\n",
      "Overall Mean Dice Score: 0.6722\n",
      "Overall Mean F-beta Score: 0.7691\n",
      "\n",
      "Training Loss: 0.4012, Validation Loss: 0.3646, Validation F-beta: 0.7691\n",
      "Epoch 62/4000\n"
     ]
    },
    {
     "name": "stderr",
     "output_type": "stream",
     "text": [
      "Training: 100%|██████████| 96/96 [01:27<00:00,  1.09it/s, loss=0.407]\n",
      "Validation: 100%|██████████| 3/3 [00:01<00:00,  1.62it/s, loss=0.345]\n"
     ]
    },
    {
     "name": "stdout",
     "output_type": "stream",
     "text": [
      "Validation Dice Score\n",
      "Class 0: 0.9900, Class 1: 0.7833, Class 2: 0.2132, Class 3: 0.4557, Class 4: 0.7212, Class 5: 0.5111, Class 6: 0.9019, \n",
      "Validation F-beta Score\n",
      "Class 0: 0.9856, Class 1: 0.8706, Class 2: 0.2990, Class 3: 0.5576, Class 4: 0.8264, Class 5: 0.6430, Class 6: 0.9590, \n",
      "\n",
      "Overall Mean Dice Score: 0.6746\n",
      "Overall Mean F-beta Score: 0.7713\n",
      "\n",
      "Training Loss: 0.3994, Validation Loss: 0.3580, Validation F-beta: 0.7713\n",
      "Epoch 63/4000\n"
     ]
    },
    {
     "name": "stderr",
     "output_type": "stream",
     "text": [
      "Training: 100%|██████████| 96/96 [01:26<00:00,  1.11it/s, loss=0.423]\n",
      "Validation: 100%|██████████| 3/3 [00:01<00:00,  1.67it/s, loss=0.349]\n"
     ]
    },
    {
     "name": "stdout",
     "output_type": "stream",
     "text": [
      "Validation Dice Score\n",
      "Class 0: 0.9908, Class 1: 0.8062, Class 2: 0.3805, Class 3: 0.4451, Class 4: 0.7506, Class 5: 0.4731, Class 6: 0.9104, \n",
      "Validation F-beta Score\n",
      "Class 0: 0.9872, Class 1: 0.8778, Class 2: 0.4728, Class 3: 0.6083, Class 4: 0.8362, Class 5: 0.5814, Class 6: 0.9493, \n",
      "\n",
      "Overall Mean Dice Score: 0.6771\n",
      "Overall Mean F-beta Score: 0.7706\n",
      "\n",
      "Training Loss: 0.3978, Validation Loss: 0.3541, Validation F-beta: 0.7706\n",
      "Epoch 64/4000\n"
     ]
    },
    {
     "name": "stderr",
     "output_type": "stream",
     "text": [
      "Training: 100%|██████████| 96/96 [01:25<00:00,  1.12it/s, loss=0.404]\n",
      "Validation: 100%|██████████| 3/3 [00:01<00:00,  1.71it/s, loss=0.352]\n"
     ]
    },
    {
     "name": "stdout",
     "output_type": "stream",
     "text": [
      "Validation Dice Score\n",
      "Class 0: 0.9904, Class 1: 0.8352, Class 2: 0.2747, Class 3: 0.4710, Class 4: 0.7440, Class 5: 0.5097, Class 6: 0.9086, \n",
      "Validation F-beta Score\n",
      "Class 0: 0.9873, Class 1: 0.8773, Class 2: 0.3484, Class 3: 0.5923, Class 4: 0.8069, Class 5: 0.5987, Class 6: 0.9603, \n",
      "\n",
      "Overall Mean Dice Score: 0.6937\n",
      "Overall Mean F-beta Score: 0.7671\n",
      "\n",
      "Training Loss: 0.3997, Validation Loss: 0.3598, Validation F-beta: 0.7671\n",
      "Epoch 65/4000\n"
     ]
    },
    {
     "name": "stderr",
     "output_type": "stream",
     "text": [
      "Training: 100%|██████████| 96/96 [01:27<00:00,  1.10it/s, loss=0.416]\n",
      "Validation: 100%|██████████| 3/3 [00:01<00:00,  1.71it/s, loss=0.389]\n"
     ]
    },
    {
     "name": "stdout",
     "output_type": "stream",
     "text": [
      "Validation Dice Score\n",
      "Class 0: 0.9895, Class 1: 0.7923, Class 2: 0.2320, Class 3: 0.3728, Class 4: 0.7452, Class 5: 0.4671, Class 6: 0.9009, \n",
      "Validation F-beta Score\n",
      "Class 0: 0.9862, Class 1: 0.8671, Class 2: 0.3367, Class 3: 0.4750, Class 4: 0.7849, Class 5: 0.5682, Class 6: 0.9677, \n",
      "\n",
      "Overall Mean Dice Score: 0.6557\n",
      "Overall Mean F-beta Score: 0.7326\n",
      "\n",
      "Training Loss: 0.4004, Validation Loss: 0.3776, Validation F-beta: 0.7326\n",
      "Epoch 66/4000\n"
     ]
    },
    {
     "name": "stderr",
     "output_type": "stream",
     "text": [
      "Training: 100%|██████████| 96/96 [01:27<00:00,  1.10it/s, loss=0.411]\n",
      "Validation: 100%|██████████| 3/3 [00:01<00:00,  1.71it/s, loss=0.353]\n"
     ]
    },
    {
     "name": "stdout",
     "output_type": "stream",
     "text": [
      "Validation Dice Score\n",
      "Class 0: 0.9904, Class 1: 0.7672, Class 2: 0.2257, Class 3: 0.4072, Class 4: 0.7514, Class 5: 0.4837, Class 6: 0.8964, \n",
      "Validation F-beta Score\n",
      "Class 0: 0.9877, Class 1: 0.8579, Class 2: 0.2779, Class 3: 0.5488, Class 4: 0.7844, Class 5: 0.5670, Class 6: 0.9552, \n",
      "\n",
      "Overall Mean Dice Score: 0.6612\n",
      "Overall Mean F-beta Score: 0.7427\n",
      "\n",
      "Training Loss: 0.3991, Validation Loss: 0.3641, Validation F-beta: 0.7427\n",
      "Epoch 67/4000\n"
     ]
    },
    {
     "name": "stderr",
     "output_type": "stream",
     "text": [
      "Training: 100%|██████████| 96/96 [01:27<00:00,  1.10it/s, loss=0.416]\n",
      "Validation: 100%|██████████| 3/3 [00:01<00:00,  1.64it/s, loss=0.366]\n"
     ]
    },
    {
     "name": "stdout",
     "output_type": "stream",
     "text": [
      "Validation Dice Score\n",
      "Class 0: 0.9891, Class 1: 0.7417, Class 2: 0.2333, Class 3: 0.4488, Class 4: 0.7324, Class 5: 0.4828, Class 6: 0.8804, \n",
      "Validation F-beta Score\n",
      "Class 0: 0.9860, Class 1: 0.8820, Class 2: 0.2973, Class 3: 0.5583, Class 4: 0.7766, Class 5: 0.5725, Class 6: 0.9449, \n",
      "\n",
      "Overall Mean Dice Score: 0.6572\n",
      "Overall Mean F-beta Score: 0.7469\n",
      "\n",
      "Training Loss: 0.3988, Validation Loss: 0.3580, Validation F-beta: 0.7469\n",
      "Epoch 68/4000\n"
     ]
    },
    {
     "name": "stderr",
     "output_type": "stream",
     "text": [
      "Training: 100%|██████████| 96/96 [01:28<00:00,  1.09it/s, loss=0.402]\n",
      "Validation: 100%|██████████| 3/3 [00:01<00:00,  1.65it/s, loss=0.352]\n"
     ]
    },
    {
     "name": "stdout",
     "output_type": "stream",
     "text": [
      "Validation Dice Score\n",
      "Class 0: 0.9902, Class 1: 0.8358, Class 2: 0.3023, Class 3: 0.4353, Class 4: 0.6781, Class 5: 0.4547, Class 6: 0.8991, \n",
      "Validation F-beta Score\n",
      "Class 0: 0.9863, Class 1: 0.8721, Class 2: 0.3608, Class 3: 0.5872, Class 4: 0.7817, Class 5: 0.5805, Class 6: 0.9608, \n",
      "\n",
      "Overall Mean Dice Score: 0.6606\n",
      "Overall Mean F-beta Score: 0.7565\n",
      "\n",
      "Training Loss: 0.3980, Validation Loss: 0.3560, Validation F-beta: 0.7565\n",
      "Epoch 69/4000\n"
     ]
    },
    {
     "name": "stderr",
     "output_type": "stream",
     "text": [
      "Training: 100%|██████████| 96/96 [01:25<00:00,  1.12it/s, loss=0.39] \n",
      "Validation: 100%|██████████| 3/3 [00:01<00:00,  1.73it/s, loss=0.347]\n"
     ]
    },
    {
     "name": "stdout",
     "output_type": "stream",
     "text": [
      "Validation Dice Score\n",
      "Class 0: 0.9902, Class 1: 0.8119, Class 2: 0.2534, Class 3: 0.4125, Class 4: 0.7488, Class 5: 0.4482, Class 6: 0.9172, \n",
      "Validation F-beta Score\n",
      "Class 0: 0.9870, Class 1: 0.8609, Class 2: 0.3314, Class 3: 0.5665, Class 4: 0.7848, Class 5: 0.5639, Class 6: 0.9662, \n",
      "\n",
      "Overall Mean Dice Score: 0.6677\n",
      "Overall Mean F-beta Score: 0.7485\n",
      "\n",
      "Training Loss: 0.3983, Validation Loss: 0.3675, Validation F-beta: 0.7485\n",
      "Epoch 70/4000\n"
     ]
    },
    {
     "name": "stderr",
     "output_type": "stream",
     "text": [
      "Training: 100%|██████████| 96/96 [01:24<00:00,  1.13it/s, loss=0.391]\n",
      "Validation: 100%|██████████| 3/3 [00:01<00:00,  1.73it/s, loss=0.376]\n"
     ]
    },
    {
     "name": "stdout",
     "output_type": "stream",
     "text": [
      "Validation Dice Score\n",
      "Class 0: 0.9897, Class 1: 0.7621, Class 2: 0.2558, Class 3: 0.4118, Class 4: 0.6858, Class 5: 0.4707, Class 6: 0.8806, \n",
      "Validation F-beta Score\n",
      "Class 0: 0.9861, Class 1: 0.8741, Class 2: 0.4260, Class 3: 0.5871, Class 4: 0.7510, Class 5: 0.5570, Class 6: 0.9474, \n",
      "\n",
      "Overall Mean Dice Score: 0.6422\n",
      "Overall Mean F-beta Score: 0.7433\n",
      "\n",
      "Training Loss: 0.3996, Validation Loss: 0.3746, Validation F-beta: 0.7433\n",
      "Epoch 71/4000\n"
     ]
    },
    {
     "name": "stderr",
     "output_type": "stream",
     "text": [
      "Training: 100%|██████████| 96/96 [01:24<00:00,  1.13it/s, loss=0.397]\n",
      "Validation: 100%|██████████| 3/3 [00:01<00:00,  1.74it/s, loss=0.351]\n"
     ]
    },
    {
     "name": "stdout",
     "output_type": "stream",
     "text": [
      "Validation Dice Score\n",
      "Class 0: 0.9898, Class 1: 0.7805, Class 2: 0.2243, Class 3: 0.4653, Class 4: 0.7446, Class 5: 0.5696, Class 6: 0.8746, \n",
      "Validation F-beta Score\n",
      "Class 0: 0.9872, Class 1: 0.8694, Class 2: 0.2682, Class 3: 0.5584, Class 4: 0.7941, Class 5: 0.6324, Class 6: 0.9583, \n",
      "\n",
      "Overall Mean Dice Score: 0.6869\n",
      "Overall Mean F-beta Score: 0.7625\n",
      "\n",
      "Training Loss: 0.3962, Validation Loss: 0.3587, Validation F-beta: 0.7625\n",
      "Epoch 72/4000\n"
     ]
    },
    {
     "name": "stderr",
     "output_type": "stream",
     "text": [
      "Training: 100%|██████████| 96/96 [01:26<00:00,  1.10it/s, loss=0.402]\n",
      "Validation: 100%|██████████| 3/3 [00:01<00:00,  1.68it/s, loss=0.372]\n"
     ]
    },
    {
     "name": "stdout",
     "output_type": "stream",
     "text": [
      "Validation Dice Score\n",
      "Class 0: 0.9886, Class 1: 0.7921, Class 2: 0.1912, Class 3: 0.4048, Class 4: 0.7045, Class 5: 0.5095, Class 6: 0.9018, \n",
      "Validation F-beta Score\n",
      "Class 0: 0.9843, Class 1: 0.8779, Class 2: 0.2480, Class 3: 0.5506, Class 4: 0.7916, Class 5: 0.6212, Class 6: 0.9530, \n",
      "\n",
      "Overall Mean Dice Score: 0.6625\n",
      "Overall Mean F-beta Score: 0.7589\n",
      "\n",
      "Training Loss: 0.3984, Validation Loss: 0.3610, Validation F-beta: 0.7589\n",
      "Epoch 73/4000\n"
     ]
    },
    {
     "name": "stderr",
     "output_type": "stream",
     "text": [
      "Training: 100%|██████████| 96/96 [01:26<00:00,  1.11it/s, loss=0.391]\n",
      "Validation: 100%|██████████| 3/3 [00:01<00:00,  1.71it/s, loss=0.367]\n"
     ]
    },
    {
     "name": "stdout",
     "output_type": "stream",
     "text": [
      "Validation Dice Score\n",
      "Class 0: 0.9898, Class 1: 0.7698, Class 2: 0.3336, Class 3: 0.3751, Class 4: 0.7166, Class 5: 0.4290, Class 6: 0.8946, \n",
      "Validation F-beta Score\n",
      "Class 0: 0.9857, Class 1: 0.8390, Class 2: 0.4243, Class 3: 0.5643, Class 4: 0.7874, Class 5: 0.5815, Class 6: 0.9609, \n",
      "\n",
      "Overall Mean Dice Score: 0.6370\n",
      "Overall Mean F-beta Score: 0.7466\n",
      "\n",
      "Training Loss: 0.3984, Validation Loss: 0.3804, Validation F-beta: 0.7466\n",
      "Epoch 74/4000\n"
     ]
    },
    {
     "name": "stderr",
     "output_type": "stream",
     "text": [
      "Training: 100%|██████████| 96/96 [01:25<00:00,  1.12it/s, loss=0.413]\n",
      "Validation: 100%|██████████| 3/3 [00:01<00:00,  1.70it/s, loss=0.339]\n"
     ]
    },
    {
     "name": "stdout",
     "output_type": "stream",
     "text": [
      "Validation Dice Score\n",
      "Class 0: 0.9897, Class 1: 0.7513, Class 2: 0.2124, Class 3: 0.4361, Class 4: 0.7441, Class 5: 0.4491, Class 6: 0.8794, \n",
      "Validation F-beta Score\n",
      "Class 0: 0.9859, Class 1: 0.8326, Class 2: 0.2636, Class 3: 0.5294, Class 4: 0.7942, Class 5: 0.6057, Class 6: 0.9527, \n",
      "\n",
      "Overall Mean Dice Score: 0.6520\n",
      "Overall Mean F-beta Score: 0.7429\n",
      "\n",
      "Training Loss: 0.3988, Validation Loss: 0.3723, Validation F-beta: 0.7429\n",
      "Epoch 75/4000\n"
     ]
    },
    {
     "name": "stderr",
     "output_type": "stream",
     "text": [
      "Training: 100%|██████████| 96/96 [01:25<00:00,  1.12it/s, loss=0.411]\n",
      "Validation: 100%|██████████| 3/3 [00:01<00:00,  1.70it/s, loss=0.353]\n"
     ]
    },
    {
     "name": "stdout",
     "output_type": "stream",
     "text": [
      "Validation Dice Score\n",
      "Class 0: 0.9898, Class 1: 0.7866, Class 2: 0.3616, Class 3: 0.4417, Class 4: 0.7379, Class 5: 0.4949, Class 6: 0.8945, \n",
      "Validation F-beta Score\n",
      "Class 0: 0.9867, Class 1: 0.8530, Class 2: 0.3882, Class 3: 0.5494, Class 4: 0.8039, Class 5: 0.5913, Class 6: 0.9582, \n",
      "\n",
      "Overall Mean Dice Score: 0.6711\n",
      "Overall Mean F-beta Score: 0.7512\n",
      "\n",
      "Training Loss: 0.3999, Validation Loss: 0.3666, Validation F-beta: 0.7512\n",
      "Epoch 76/4000\n"
     ]
    },
    {
     "name": "stderr",
     "output_type": "stream",
     "text": [
      "Training: 100%|██████████| 96/96 [01:30<00:00,  1.07it/s, loss=0.407]\n",
      "Validation: 100%|██████████| 3/3 [00:01<00:00,  1.68it/s, loss=0.345]\n"
     ]
    },
    {
     "name": "stdout",
     "output_type": "stream",
     "text": [
      "Validation Dice Score\n",
      "Class 0: 0.9903, Class 1: 0.8242, Class 2: 0.2849, Class 3: 0.4501, Class 4: 0.7084, Class 5: 0.4881, Class 6: 0.9056, \n",
      "Validation F-beta Score\n",
      "Class 0: 0.9863, Class 1: 0.8976, Class 2: 0.3395, Class 3: 0.5507, Class 4: 0.8182, Class 5: 0.6292, Class 6: 0.9629, \n",
      "\n",
      "Overall Mean Dice Score: 0.6753\n",
      "Overall Mean F-beta Score: 0.7717\n",
      "\n",
      "Training Loss: 0.4019, Validation Loss: 0.3436, Validation F-beta: 0.7717\n",
      "========================================================\n",
      "SUPER Best model saved. Loss:0.3436, Score:0.7717\n",
      "========================================================\n",
      "Epoch 77/4000\n"
     ]
    },
    {
     "name": "stderr",
     "output_type": "stream",
     "text": [
      "Training: 100%|██████████| 96/96 [01:25<00:00,  1.12it/s, loss=0.391]\n",
      "Validation: 100%|██████████| 3/3 [00:01<00:00,  1.66it/s, loss=0.353]\n"
     ]
    },
    {
     "name": "stdout",
     "output_type": "stream",
     "text": [
      "Validation Dice Score\n",
      "Class 0: 0.9902, Class 1: 0.7885, Class 2: 0.2732, Class 3: 0.3917, Class 4: 0.7517, Class 5: 0.4362, Class 6: 0.9105, \n",
      "Validation F-beta Score\n",
      "Class 0: 0.9859, Class 1: 0.8734, Class 2: 0.3615, Class 3: 0.5680, Class 4: 0.8541, Class 5: 0.5560, Class 6: 0.9568, \n",
      "\n",
      "Overall Mean Dice Score: 0.6557\n",
      "Overall Mean F-beta Score: 0.7617\n",
      "\n",
      "Training Loss: 0.4005, Validation Loss: 0.3710, Validation F-beta: 0.7617\n",
      "Epoch 78/4000\n"
     ]
    },
    {
     "name": "stderr",
     "output_type": "stream",
     "text": [
      "Training: 100%|██████████| 96/96 [01:27<00:00,  1.10it/s, loss=0.377]\n",
      "Validation: 100%|██████████| 3/3 [00:01<00:00,  1.73it/s, loss=0.389]\n"
     ]
    },
    {
     "name": "stdout",
     "output_type": "stream",
     "text": [
      "Validation Dice Score\n",
      "Class 0: 0.9910, Class 1: 0.7782, Class 2: 0.2944, Class 3: 0.4442, Class 4: 0.6930, Class 5: 0.4858, Class 6: 0.8826, \n",
      "Validation F-beta Score\n",
      "Class 0: 0.9873, Class 1: 0.8624, Class 2: 0.3887, Class 3: 0.5718, Class 4: 0.7732, Class 5: 0.6503, Class 6: 0.9507, \n",
      "\n",
      "Overall Mean Dice Score: 0.6568\n",
      "Overall Mean F-beta Score: 0.7617\n",
      "\n",
      "Training Loss: 0.3983, Validation Loss: 0.3730, Validation F-beta: 0.7617\n",
      "Epoch 79/4000\n"
     ]
    },
    {
     "name": "stderr",
     "output_type": "stream",
     "text": [
      "Training: 100%|██████████| 96/96 [01:27<00:00,  1.09it/s, loss=0.403]\n",
      "Validation: 100%|██████████| 3/3 [00:01<00:00,  1.70it/s, loss=0.371]\n"
     ]
    },
    {
     "name": "stdout",
     "output_type": "stream",
     "text": [
      "Validation Dice Score\n",
      "Class 0: 0.9896, Class 1: 0.7853, Class 2: 0.3060, Class 3: 0.4077, Class 4: 0.6865, Class 5: 0.4583, Class 6: 0.9148, \n",
      "Validation F-beta Score\n",
      "Class 0: 0.9861, Class 1: 0.8627, Class 2: 0.3830, Class 3: 0.5688, Class 4: 0.7740, Class 5: 0.5365, Class 6: 0.9683, \n",
      "\n",
      "Overall Mean Dice Score: 0.6505\n",
      "Overall Mean F-beta Score: 0.7421\n",
      "\n",
      "Training Loss: 0.4004, Validation Loss: 0.3608, Validation F-beta: 0.7421\n",
      "Epoch 80/4000\n"
     ]
    },
    {
     "name": "stderr",
     "output_type": "stream",
     "text": [
      "Training: 100%|██████████| 96/96 [01:26<00:00,  1.11it/s, loss=0.404]\n",
      "Validation: 100%|██████████| 3/3 [00:01<00:00,  1.68it/s, loss=0.369]\n"
     ]
    },
    {
     "name": "stdout",
     "output_type": "stream",
     "text": [
      "Validation Dice Score\n",
      "Class 0: 0.9909, Class 1: 0.8033, Class 2: 0.1804, Class 3: 0.3695, Class 4: 0.7490, Class 5: 0.4975, Class 6: 0.8804, \n",
      "Validation F-beta Score\n",
      "Class 0: 0.9874, Class 1: 0.8842, Class 2: 0.2381, Class 3: 0.5147, Class 4: 0.8108, Class 5: 0.6218, Class 6: 0.9381, \n",
      "\n",
      "Overall Mean Dice Score: 0.6599\n",
      "Overall Mean F-beta Score: 0.7539\n",
      "\n",
      "Training Loss: 0.3989, Validation Loss: 0.3613, Validation F-beta: 0.7539\n",
      "Epoch 81/4000\n"
     ]
    },
    {
     "name": "stderr",
     "output_type": "stream",
     "text": [
      "Training: 100%|██████████| 96/96 [01:27<00:00,  1.10it/s, loss=0.418]\n",
      "Validation: 100%|██████████| 3/3 [00:01<00:00,  1.69it/s, loss=0.402]\n"
     ]
    },
    {
     "name": "stdout",
     "output_type": "stream",
     "text": [
      "Validation Dice Score\n",
      "Class 0: 0.9898, Class 1: 0.7554, Class 2: 0.1747, Class 3: 0.3488, Class 4: 0.7252, Class 5: 0.5089, Class 6: 0.8701, \n",
      "Validation F-beta Score\n",
      "Class 0: 0.9856, Class 1: 0.8552, Class 2: 0.2064, Class 3: 0.4661, Class 4: 0.8302, Class 5: 0.6203, Class 6: 0.9647, \n",
      "\n",
      "Overall Mean Dice Score: 0.6417\n",
      "Overall Mean F-beta Score: 0.7473\n",
      "\n",
      "Training Loss: 0.3993, Validation Loss: 0.3805, Validation F-beta: 0.7473\n",
      "Epoch 82/4000\n"
     ]
    },
    {
     "name": "stderr",
     "output_type": "stream",
     "text": [
      "Training: 100%|██████████| 96/96 [01:26<00:00,  1.11it/s, loss=0.39] \n",
      "Validation: 100%|██████████| 3/3 [00:01<00:00,  1.73it/s, loss=0.324]\n"
     ]
    },
    {
     "name": "stdout",
     "output_type": "stream",
     "text": [
      "Validation Dice Score\n",
      "Class 0: 0.9895, Class 1: 0.7955, Class 2: 0.2612, Class 3: 0.4987, Class 4: 0.7414, Class 5: 0.5123, Class 6: 0.8768, \n",
      "Validation F-beta Score\n",
      "Class 0: 0.9854, Class 1: 0.8728, Class 2: 0.3495, Class 3: 0.6340, Class 4: 0.8279, Class 5: 0.6267, Class 6: 0.9495, \n",
      "\n",
      "Overall Mean Dice Score: 0.6849\n",
      "Overall Mean F-beta Score: 0.7822\n",
      "\n",
      "Training Loss: 0.3984, Validation Loss: 0.3512, Validation F-beta: 0.7822\n",
      "Epoch 83/4000\n"
     ]
    },
    {
     "name": "stderr",
     "output_type": "stream",
     "text": [
      "Training: 100%|██████████| 96/96 [01:25<00:00,  1.12it/s, loss=0.42] \n",
      "Validation: 100%|██████████| 3/3 [00:01<00:00,  1.70it/s, loss=0.377]\n"
     ]
    },
    {
     "name": "stdout",
     "output_type": "stream",
     "text": [
      "Validation Dice Score\n",
      "Class 0: 0.9899, Class 1: 0.7862, Class 2: 0.2824, Class 3: 0.4541, Class 4: 0.7499, Class 5: 0.4635, Class 6: 0.8827, \n",
      "Validation F-beta Score\n",
      "Class 0: 0.9867, Class 1: 0.8510, Class 2: 0.4098, Class 3: 0.6499, Class 4: 0.7666, Class 5: 0.5910, Class 6: 0.9350, \n",
      "\n",
      "Overall Mean Dice Score: 0.6673\n",
      "Overall Mean F-beta Score: 0.7587\n",
      "\n",
      "Training Loss: 0.3959, Validation Loss: 0.3775, Validation F-beta: 0.7587\n",
      "Epoch 84/4000\n"
     ]
    },
    {
     "name": "stderr",
     "output_type": "stream",
     "text": [
      "Training: 100%|██████████| 96/96 [01:21<00:00,  1.18it/s, loss=0.397]\n",
      "Validation: 100%|██████████| 3/3 [00:01<00:00,  1.76it/s, loss=0.409]\n"
     ]
    },
    {
     "name": "stdout",
     "output_type": "stream",
     "text": [
      "Validation Dice Score\n",
      "Class 0: 0.9897, Class 1: 0.7124, Class 2: 0.1024, Class 3: 0.3557, Class 4: 0.7351, Class 5: 0.5482, Class 6: 0.8596, \n",
      "Validation F-beta Score\n",
      "Class 0: 0.9865, Class 1: 0.8449, Class 2: 0.1685, Class 3: 0.5685, Class 4: 0.7830, Class 5: 0.6188, Class 6: 0.9643, \n",
      "\n",
      "Overall Mean Dice Score: 0.6422\n",
      "Overall Mean F-beta Score: 0.7559\n",
      "\n",
      "Training Loss: 0.3977, Validation Loss: 0.3967, Validation F-beta: 0.7559\n",
      "Epoch 85/4000\n"
     ]
    },
    {
     "name": "stderr",
     "output_type": "stream",
     "text": [
      "Training: 100%|██████████| 96/96 [01:26<00:00,  1.10it/s, loss=0.415]\n",
      "Validation: 100%|██████████| 3/3 [00:01<00:00,  1.62it/s, loss=0.358]\n"
     ]
    },
    {
     "name": "stdout",
     "output_type": "stream",
     "text": [
      "Validation Dice Score\n",
      "Class 0: 0.9893, Class 1: 0.8060, Class 2: 0.2213, Class 3: 0.3804, Class 4: 0.7519, Class 5: 0.5198, Class 6: 0.8888, \n",
      "Validation F-beta Score\n",
      "Class 0: 0.9861, Class 1: 0.8903, Class 2: 0.2652, Class 3: 0.4846, Class 4: 0.8094, Class 5: 0.6051, Class 6: 0.9533, \n",
      "\n",
      "Overall Mean Dice Score: 0.6694\n",
      "Overall Mean F-beta Score: 0.7486\n",
      "\n",
      "Training Loss: 0.3988, Validation Loss: 0.3593, Validation F-beta: 0.7486\n",
      "Epoch 86/4000\n"
     ]
    },
    {
     "name": "stderr",
     "output_type": "stream",
     "text": [
      "Training: 100%|██████████| 96/96 [01:27<00:00,  1.09it/s, loss=0.407]\n",
      "Validation: 100%|██████████| 3/3 [00:01<00:00,  1.67it/s, loss=0.337]\n"
     ]
    },
    {
     "name": "stdout",
     "output_type": "stream",
     "text": [
      "Validation Dice Score\n",
      "Class 0: 0.9904, Class 1: 0.7923, Class 2: 0.2510, Class 3: 0.4664, Class 4: 0.7420, Class 5: 0.5006, Class 6: 0.9068, \n",
      "Validation F-beta Score\n",
      "Class 0: 0.9870, Class 1: 0.8532, Class 2: 0.3483, Class 3: 0.5755, Class 4: 0.8240, Class 5: 0.5977, Class 6: 0.9697, \n",
      "\n",
      "Overall Mean Dice Score: 0.6816\n",
      "Overall Mean F-beta Score: 0.7640\n",
      "\n",
      "Training Loss: 0.3980, Validation Loss: 0.3519, Validation F-beta: 0.7640\n",
      "Epoch 87/4000\n"
     ]
    },
    {
     "name": "stderr",
     "output_type": "stream",
     "text": [
      "Training: 100%|██████████| 96/96 [01:27<00:00,  1.09it/s, loss=0.386]\n",
      "Validation: 100%|██████████| 3/3 [00:01<00:00,  1.68it/s, loss=0.385]\n"
     ]
    },
    {
     "name": "stdout",
     "output_type": "stream",
     "text": [
      "Validation Dice Score\n",
      "Class 0: 0.9892, Class 1: 0.8179, Class 2: 0.2239, Class 3: 0.4049, Class 4: 0.7442, Class 5: 0.4213, Class 6: 0.8835, \n",
      "Validation F-beta Score\n",
      "Class 0: 0.9857, Class 1: 0.8682, Class 2: 0.3589, Class 3: 0.5865, Class 4: 0.7831, Class 5: 0.5323, Class 6: 0.9460, \n",
      "\n",
      "Overall Mean Dice Score: 0.6544\n",
      "Overall Mean F-beta Score: 0.7432\n",
      "\n",
      "Training Loss: 0.3993, Validation Loss: 0.3823, Validation F-beta: 0.7432\n",
      "Epoch 88/4000\n"
     ]
    },
    {
     "name": "stderr",
     "output_type": "stream",
     "text": [
      "Training: 100%|██████████| 96/96 [01:26<00:00,  1.11it/s, loss=0.408]\n",
      "Validation: 100%|██████████| 3/3 [00:01<00:00,  1.66it/s, loss=0.349]\n"
     ]
    },
    {
     "name": "stdout",
     "output_type": "stream",
     "text": [
      "Validation Dice Score\n",
      "Class 0: 0.9898, Class 1: 0.8062, Class 2: 0.1358, Class 3: 0.4094, Class 4: 0.7053, Class 5: 0.4712, Class 6: 0.8999, \n",
      "Validation F-beta Score\n",
      "Class 0: 0.9856, Class 1: 0.8773, Class 2: 0.2215, Class 3: 0.5268, Class 4: 0.7871, Class 5: 0.6140, Class 6: 0.9651, \n",
      "\n",
      "Overall Mean Dice Score: 0.6584\n",
      "Overall Mean F-beta Score: 0.7541\n",
      "\n",
      "Training Loss: 0.3983, Validation Loss: 0.3604, Validation F-beta: 0.7541\n",
      "Epoch 89/4000\n"
     ]
    },
    {
     "name": "stderr",
     "output_type": "stream",
     "text": [
      "Training: 100%|██████████| 96/96 [01:25<00:00,  1.12it/s, loss=0.404]\n",
      "Validation: 100%|██████████| 3/3 [00:01<00:00,  1.73it/s, loss=0.358]\n"
     ]
    },
    {
     "name": "stdout",
     "output_type": "stream",
     "text": [
      "Validation Dice Score\n",
      "Class 0: 0.9896, Class 1: 0.7794, Class 2: 0.2480, Class 3: 0.3992, Class 4: 0.7255, Class 5: 0.4605, Class 6: 0.8888, \n",
      "Validation F-beta Score\n",
      "Class 0: 0.9853, Class 1: 0.8813, Class 2: 0.3026, Class 3: 0.5324, Class 4: 0.8341, Class 5: 0.5740, Class 6: 0.9615, \n",
      "\n",
      "Overall Mean Dice Score: 0.6507\n",
      "Overall Mean F-beta Score: 0.7566\n",
      "\n",
      "Training Loss: 0.4010, Validation Loss: 0.3593, Validation F-beta: 0.7566\n",
      "Epoch 90/4000\n"
     ]
    },
    {
     "name": "stderr",
     "output_type": "stream",
     "text": [
      "Training: 100%|██████████| 96/96 [01:24<00:00,  1.14it/s, loss=0.399]\n",
      "Validation: 100%|██████████| 3/3 [00:01<00:00,  1.72it/s, loss=0.372]\n"
     ]
    },
    {
     "name": "stdout",
     "output_type": "stream",
     "text": [
      "Validation Dice Score\n",
      "Class 0: 0.9898, Class 1: 0.7476, Class 2: 0.2487, Class 3: 0.4066, Class 4: 0.7805, Class 5: 0.5046, Class 6: 0.8979, \n",
      "Validation F-beta Score\n",
      "Class 0: 0.9869, Class 1: 0.8600, Class 2: 0.3425, Class 3: 0.5626, Class 4: 0.8180, Class 5: 0.5876, Class 6: 0.9759, \n",
      "\n",
      "Overall Mean Dice Score: 0.6675\n",
      "Overall Mean F-beta Score: 0.7608\n",
      "\n",
      "Training Loss: 0.3980, Validation Loss: 0.3799, Validation F-beta: 0.7608\n",
      "Epoch 91/4000\n"
     ]
    },
    {
     "name": "stderr",
     "output_type": "stream",
     "text": [
      "Training: 100%|██████████| 96/96 [01:27<00:00,  1.10it/s, loss=0.404]\n",
      "Validation: 100%|██████████| 3/3 [00:01<00:00,  1.69it/s, loss=0.409]\n"
     ]
    },
    {
     "name": "stdout",
     "output_type": "stream",
     "text": [
      "Validation Dice Score\n",
      "Class 0: 0.9900, Class 1: 0.7441, Class 2: 0.2954, Class 3: 0.3742, Class 4: 0.7088, Class 5: 0.4217, Class 6: 0.8913, \n",
      "Validation F-beta Score\n",
      "Class 0: 0.9857, Class 1: 0.8428, Class 2: 0.4534, Class 3: 0.5666, Class 4: 0.7836, Class 5: 0.5878, Class 6: 0.9514, \n",
      "\n",
      "Overall Mean Dice Score: 0.6280\n",
      "Overall Mean F-beta Score: 0.7464\n",
      "\n",
      "Training Loss: 0.3991, Validation Loss: 0.3896, Validation F-beta: 0.7464\n",
      "Epoch 92/4000\n"
     ]
    },
    {
     "name": "stderr",
     "output_type": "stream",
     "text": [
      "Training: 100%|██████████| 96/96 [01:27<00:00,  1.10it/s, loss=0.388]\n",
      "Validation: 100%|██████████| 3/3 [00:01<00:00,  1.68it/s, loss=0.355]"
     ]
    },
    {
     "name": "stdout",
     "output_type": "stream",
     "text": [
      "Validation Dice Score\n",
      "Class 0: 0.9895, Class 1: 0.8093, Class 2: 0.2713, Class 3: 0.4178, Class 4: 0.7519, Class 5: 0.4325, Class 6: 0.8945, \n",
      "Validation F-beta Score\n",
      "Class 0: 0.9858, Class 1: 0.8699, Class 2: 0.3837, Class 3: 0.5612, Class 4: 0.7828, Class 5: 0.5757, Class 6: 0.9573, \n",
      "\n",
      "Overall Mean Dice Score: 0.6612\n",
      "Overall Mean F-beta Score: 0.7494\n",
      "\n",
      "Training Loss: 0.3992, Validation Loss: 0.3662, Validation F-beta: 0.7494\n",
      "Early stopping\n"
     ]
    },
    {
     "name": "stderr",
     "output_type": "stream",
     "text": [
      "\n"
     ]
    },
    {
     "data": {
      "text/html": [],
      "text/plain": [
       "<IPython.core.display.HTML object>"
      ]
     },
     "metadata": {},
     "output_type": "display_data"
    },
    {
     "data": {
      "text/html": [
       "<br>    <style><br>        .wandb-row {<br>            display: flex;<br>            flex-direction: row;<br>            flex-wrap: wrap;<br>            justify-content: flex-start;<br>            width: 100%;<br>        }<br>        .wandb-col {<br>            display: flex;<br>            flex-direction: column;<br>            flex-basis: 100%;<br>            flex: 1;<br>            padding: 10px;<br>        }<br>    </style><br><div class=\"wandb-row\"><div class=\"wandb-col\"><h3>Run history:</h3><br/><table class=\"wandb\"><tr><td>class_0_dice_score</td><td>▁▄▆▆▆█▇▆▇▇▇▇▇▇▇▇███▇█▇▇▇▇▇███▇▇▇▇▇▇▇▇▇▇▇</td></tr><tr><td>class_0_f_beta_score</td><td>▁▆▇▇▆█▇▇██▇▇▇▇▇█▇█▇█▇█▇▇██▇▇█▇█▇█▇▇█▇▇█▇</td></tr><tr><td>class_1_dice_score</td><td>▄▁▆▆▅▅▇▇▅█▂▆▇▆▆▅▆▇▇▆▆▆▅█▇▆▆▆▅▆▆▆▆▇▅▄▇▇▆▅</td></tr><tr><td>class_1_f_beta_score</td><td>▅▆▅▄▆▄▆█▄▁▆▃▂▅▆▄▄▅▆▆▄▆▅▄▆▂█▆▄▅▄▆▃▃▇▅▆▆▄▅</td></tr><tr><td>class_2_dice_score</td><td>▆▄▇▃▁▅▅▅▃▅▃▆▅▄▂▄▇▄█▅▄▄▆▅▅▃▇▄█▆▃▅▆▁▄▄▂▅▅▅</td></tr><tr><td>class_2_f_beta_score</td><td>█▄▃▁▃▅▆▅▁▆▄▅▆▅▃▄█▅▅▄▅▅▇▃▇▆▅▅▆▆▂▅▇▁▃▅▂▄▅▆</td></tr><tr><td>class_3_dice_score</td><td>▃▄▄▃▂▄▁▄▅▃▁▆▄▄▃▄▇▇▇▄▆▆▅▅▇▆▆▇▅▅▃█▇▄▄▅▅▅▅▆</td></tr><tr><td>class_3_f_beta_score</td><td>▂▅▄▆▁▂▆▃▁▃▁▅▂█▄▃▃▇▅▆▅▅▆▆▅▆▅▅▅▆▆██▆▃▆▅▅▆▆</td></tr><tr><td>class_4_dice_score</td><td>▁▄▅▅▆▅▆▇▇▆▆▆▅▇▆▇▆▇▇▇▇▅▇▆▆▇▆▇▅▅▆▇▇▇▇▇▆▆█▇</td></tr><tr><td>class_4_f_beta_score</td><td>█▄▇▃▂▂▄▂▁▄▅▃▄▅▃▂▃▄▄▆▄▃▃▃▃▁▄▃▃▄▅▇▂▅▆▃▅▃▆▃</td></tr><tr><td>class_5_dice_score</td><td>▁▃▄▃▄▃▄▆▆▄▅▅▅▅▃▅▅▆▅▆▅▄▄▅█▃▄▆▅▄▄▆▆▆▅▆▆▃▄▄</td></tr><tr><td>class_5_f_beta_score</td><td>█▆▄▃▆▁▆▆▃▃▆▅▆▂▄▆▆▇▅▅▄▅▅▄▇▅▆▅▆▄▃▆▆▅▆▅▆▅▅▅</td></tr><tr><td>class_6_dice_score</td><td>▁▇▂▄▆▇▆▆▇▇▆▆▆▄█▆▆▇▇▇▅▇█▅▅▆▅▇▇▅▅▅▅▅▄▇▆▇▆▆</td></tr><tr><td>class_6_f_beta_score</td><td>▄▃▆▅▅▆▆▆█▇▇▇▅▆▅▆▅▅▅▃▇▄▃▅▃▅▄▅▅▄▂▆▃▁▆▇▆▆█▅</td></tr><tr><td>epoch</td><td>▁▁▁▁▁▂▂▂▂▂▂▂▃▃▃▃▃▃▃▃▃▃▄▄▅▅▆▆▆▆▇▇▇▇▇█████</td></tr><tr><td>overall_mean_dice_score</td><td>▁▅▃▅▆▄▆▅▄▇▆▆▅▆▅▇▇▇█▆▆▆▇▅█▅▆▇▆▆▆▅▇▅▇▆▆▆▇▆</td></tr><tr><td>overall_mean_f_beta_score</td><td>▆▅▅▅▁▃▃▄▃▃▃▅▄▇▂▂▄▇▇▇▄▅▅▆▅▆▆▅▅▇▆▅▆▅█▅▆▆▆▅</td></tr><tr><td>train_epoch_loss</td><td>▆█▄▄▄▃▃▃▂▃▃▂▂▂▂▂▂▂▂▂▂▂▂▂▂▂▂▃▂▂▂▂▁▂▂▂▂▂▂▂</td></tr><tr><td>val_epoch_loss</td><td>██▄▆▅▄▃▄▅▁▅▂▅▄▄▃▄▃▂▂▃▂▂▃▄▃▄▄▃▁▄▃▃▂▄▂▂▃▂▃</td></tr></table><br/></div><div class=\"wandb-col\"><h3>Run summary:</h3><br/><table class=\"wandb\"><tr><td>class_0_dice_score</td><td>0.98954</td></tr><tr><td>class_0_f_beta_score</td><td>0.98581</td></tr><tr><td>class_1_dice_score</td><td>0.80926</td></tr><tr><td>class_1_f_beta_score</td><td>0.8699</td></tr><tr><td>class_2_dice_score</td><td>0.27132</td></tr><tr><td>class_2_f_beta_score</td><td>0.38371</td></tr><tr><td>class_3_dice_score</td><td>0.41778</td></tr><tr><td>class_3_f_beta_score</td><td>0.56121</td></tr><tr><td>class_4_dice_score</td><td>0.75191</td></tr><tr><td>class_4_f_beta_score</td><td>0.78279</td></tr><tr><td>class_5_dice_score</td><td>0.4325</td></tr><tr><td>class_5_f_beta_score</td><td>0.57572</td></tr><tr><td>class_6_dice_score</td><td>0.89448</td></tr><tr><td>class_6_f_beta_score</td><td>0.95729</td></tr><tr><td>epoch</td><td>92</td></tr><tr><td>overall_mean_dice_score</td><td>0.66119</td></tr><tr><td>overall_mean_f_beta_score</td><td>0.74938</td></tr><tr><td>train_epoch_loss</td><td>0.3992</td></tr><tr><td>val_epoch_loss</td><td>0.36618</td></tr></table><br/></div></div>"
      ],
      "text/plain": [
       "<IPython.core.display.HTML object>"
      ]
     },
     "metadata": {},
     "output_type": "display_data"
    },
    {
     "data": {
      "text/html": [
       " View run <strong style=\"color:#cdcd00\">UNET_randGaus_511_241_noclswt_f48_d96s96_numb2_lr1e-03_a0.52_b0.48_b16_r4_ce0.4_ac1</strong> at: <a href='https://wandb.ai/limbw/czii_UNet/runs/3z9ntt2j' target=\"_blank\">https://wandb.ai/limbw/czii_UNet/runs/3z9ntt2j</a><br> View project at: <a href='https://wandb.ai/limbw/czii_UNet' target=\"_blank\">https://wandb.ai/limbw/czii_UNet</a><br>Synced 5 W&B file(s), 0 media file(s), 0 artifact file(s) and 0 other file(s)"
      ],
      "text/plain": [
       "<IPython.core.display.HTML object>"
      ]
     },
     "metadata": {},
     "output_type": "display_data"
    },
    {
     "data": {
      "text/html": [
       "Find logs at: <code>.\\wandb\\run-20250117_052907-3z9ntt2j\\logs</code>"
      ],
      "text/plain": [
       "<IPython.core.display.HTML object>"
      ]
     },
     "metadata": {},
     "output_type": "display_data"
    }
   ],
   "source": [
    "train_model(\n",
    "    model=model,\n",
    "    train_loader=train_loader,\n",
    "    val_loader=val_loader,\n",
    "    criterion=criterion,\n",
    "    optimizer=optimizer,\n",
    "    num_epochs=num_epochs,\n",
    "    patience=10,\n",
    "    device=device,\n",
    "    start_epoch=start_epoch,\n",
    "    best_val_loss=best_val_loss,\n",
    "    best_val_fbeta_score=best_val_fbeta_score,\n",
    "    calculate_dice_interval=1,\n",
    "    accumulation_steps = accumulation_steps\n",
    "     ) "
   ]
  },
  {
   "cell_type": "code",
   "execution_count": 17,
   "metadata": {},
   "outputs": [
    {
     "ename": "SyntaxError",
     "evalue": "invalid syntax (879943805.py, line 1)",
     "output_type": "error",
     "traceback": [
      "\u001b[1;36m  Cell \u001b[1;32mIn[17], line 1\u001b[1;36m\u001b[0m\n\u001b[1;33m    if:\u001b[0m\n\u001b[1;37m      ^\u001b[0m\n\u001b[1;31mSyntaxError\u001b[0m\u001b[1;31m:\u001b[0m invalid syntax\n"
     ]
    }
   ],
   "source": [
    "if:"
   ]
  },
  {
   "cell_type": "markdown",
   "metadata": {},
   "source": [
    "# VAl"
   ]
  },
  {
   "cell_type": "code",
   "execution_count": null,
   "metadata": {},
   "outputs": [
    {
     "data": {
      "text/html": [
       "Finishing last run (ID:fs6utwyo) before initializing another..."
      ],
      "text/plain": [
       "<IPython.core.display.HTML object>"
      ]
     },
     "metadata": {},
     "output_type": "display_data"
    },
    {
     "data": {
      "application/vnd.jupyter.widget-view+json": {
       "model_id": "29cc3ae761af43baae5aca60b5d2e7f4",
       "version_major": 2,
       "version_minor": 0
      },
      "text/plain": [
       "VBox(children=(Label(value='0.009 MB of 0.009 MB uploaded\\r'), FloatProgress(value=1.0, max=1.0)))"
      ]
     },
     "metadata": {},
     "output_type": "display_data"
    },
    {
     "data": {
      "text/html": [
       "<style>\n",
       "    table.wandb td:nth-child(1) { padding: 0 10px; text-align: left ; width: auto;} td:nth-child(2) {text-align: left ; width: 100%}\n",
       "    .wandb-row { display: flex; flex-direction: row; flex-wrap: wrap; justify-content: flex-start; width: 100% }\n",
       "    .wandb-col { display: flex; flex-direction: column; flex-basis: 100%; flex: 1; padding: 10px; }\n",
       "    </style>\n",
       "<div class=\"wandb-row\"><div class=\"wandb-col\"><h3>Run history:</h3><br/><table class=\"wandb\"><tr><td>class_0_dice_score</td><td>▁</td></tr><tr><td>class_0_f_beta_score</td><td>▁</td></tr><tr><td>class_1_dice_score</td><td>▁</td></tr><tr><td>class_1_f_beta_score</td><td>▁</td></tr><tr><td>class_2_dice_score</td><td>▁</td></tr><tr><td>class_2_f_beta_score</td><td>▁</td></tr><tr><td>class_3_dice_score</td><td>▁</td></tr><tr><td>class_3_f_beta_score</td><td>▁</td></tr><tr><td>class_4_dice_score</td><td>▁</td></tr><tr><td>class_4_f_beta_score</td><td>▁</td></tr><tr><td>class_5_dice_score</td><td>▁</td></tr><tr><td>class_5_f_beta_score</td><td>▁</td></tr><tr><td>class_6_dice_score</td><td>▁</td></tr><tr><td>class_6_f_beta_score</td><td>▁</td></tr><tr><td>epoch</td><td>▁▁▁▁▁▁▁▁▁▁▁▁▁▁▁▁</td></tr><tr><td>overall_mean_dice_score</td><td>▁</td></tr><tr><td>overall_mean_f_beta_score</td><td>▁</td></tr><tr><td>val_epoch_loss</td><td>▁</td></tr></table><br/></div><div class=\"wandb-col\"><h3>Run summary:</h3><br/><table class=\"wandb\"><tr><td>class_0_dice_score</td><td>0.65703</td></tr><tr><td>class_0_f_beta_score</td><td>0.50748</td></tr><tr><td>class_1_dice_score</td><td>0.53332</td></tr><tr><td>class_1_f_beta_score</td><td>0.64703</td></tr><tr><td>class_2_dice_score</td><td>0.00286</td></tr><tr><td>class_2_f_beta_score</td><td>0.02334</td></tr><tr><td>class_3_dice_score</td><td>0.23703</td></tr><tr><td>class_3_f_beta_score</td><td>0.23033</td></tr><tr><td>class_4_dice_score</td><td>0.65487</td></tr><tr><td>class_4_f_beta_score</td><td>0.62525</td></tr><tr><td>class_5_dice_score</td><td>0.47899</td></tr><tr><td>class_5_f_beta_score</td><td>0.51448</td></tr><tr><td>class_6_dice_score</td><td>0.42545</td></tr><tr><td>class_6_f_beta_score</td><td>0.47197</td></tr><tr><td>epoch</td><td>1</td></tr><tr><td>overall_mean_dice_score</td><td>0.42708</td></tr><tr><td>overall_mean_f_beta_score</td><td>0.43141</td></tr><tr><td>val_epoch_loss</td><td>0.7152</td></tr></table><br/></div></div>"
      ],
      "text/plain": [
       "<IPython.core.display.HTML object>"
      ]
     },
     "metadata": {},
     "output_type": "display_data"
    },
    {
     "data": {
      "text/html": [
       " View run <strong style=\"color:#cdcd00\">SwinUNETR96_96_lr0.001_lambda0.52_batch2</strong> at: <a href='https://wandb.ai/waooang/czii_SwinUnetR_val/runs/fs6utwyo' target=\"_blank\">https://wandb.ai/waooang/czii_SwinUnetR_val/runs/fs6utwyo</a><br/> View project at: <a href='https://wandb.ai/waooang/czii_SwinUnetR_val' target=\"_blank\">https://wandb.ai/waooang/czii_SwinUnetR_val</a><br/>Synced 4 W&B file(s), 0 media file(s), 3 artifact file(s) and 0 other file(s)"
      ],
      "text/plain": [
       "<IPython.core.display.HTML object>"
      ]
     },
     "metadata": {},
     "output_type": "display_data"
    },
    {
     "data": {
      "text/html": [
       "Find logs at: <code>.\\wandb\\run-20241219_200219-fs6utwyo\\logs</code>"
      ],
      "text/plain": [
       "<IPython.core.display.HTML object>"
      ]
     },
     "metadata": {},
     "output_type": "display_data"
    },
    {
     "data": {
      "text/html": [
       "Successfully finished last run (ID:fs6utwyo). Initializing new run:<br/>"
      ],
      "text/plain": [
       "<IPython.core.display.HTML object>"
      ]
     },
     "metadata": {},
     "output_type": "display_data"
    },
    {
     "data": {
      "text/html": [
       "Tracking run with wandb version 0.18.3"
      ],
      "text/plain": [
       "<IPython.core.display.HTML object>"
      ]
     },
     "metadata": {},
     "output_type": "display_data"
    },
    {
     "data": {
      "text/html": [
       "Run data is saved locally in <code>e:\\Workspace\\czll\\wandb\\run-20241219_200454-121l7bn3</code>"
      ],
      "text/plain": [
       "<IPython.core.display.HTML object>"
      ]
     },
     "metadata": {},
     "output_type": "display_data"
    },
    {
     "data": {
      "text/html": [
       "Syncing run <strong><a href='https://wandb.ai/waooang/czii_SwinUnetR_val/runs/121l7bn3' target=\"_blank\">SwinUNETR96_96_lr0.001_lambda0.52_batch2</a></strong> to <a href='https://wandb.ai/waooang/czii_SwinUnetR_val' target=\"_blank\">Weights & Biases</a> (<a href='https://wandb.me/run' target=\"_blank\">docs</a>)<br/>"
      ],
      "text/plain": [
       "<IPython.core.display.HTML object>"
      ]
     },
     "metadata": {},
     "output_type": "display_data"
    },
    {
     "data": {
      "text/html": [
       " View project at <a href='https://wandb.ai/waooang/czii_SwinUnetR_val' target=\"_blank\">https://wandb.ai/waooang/czii_SwinUnetR_val</a>"
      ],
      "text/plain": [
       "<IPython.core.display.HTML object>"
      ]
     },
     "metadata": {},
     "output_type": "display_data"
    },
    {
     "data": {
      "text/html": [
       " View run at <a href='https://wandb.ai/waooang/czii_SwinUnetR_val/runs/121l7bn3' target=\"_blank\">https://wandb.ai/waooang/czii_SwinUnetR_val/runs/121l7bn3</a>"
      ],
      "text/plain": [
       "<IPython.core.display.HTML object>"
      ]
     },
     "metadata": {},
     "output_type": "display_data"
    },
    {
     "name": "stderr",
     "output_type": "stream",
     "text": [
      "Loading dataset: 100%|██████████| 4/4 [00:06<00:00,  1.58s/it]\n",
      "C:\\Users\\Seungwoo\\AppData\\Local\\Temp\\ipykernel_21000\\1177025787.py:95: FutureWarning: You are using `torch.load` with `weights_only=False` (the current default value), which uses the default pickle module implicitly. It is possible to construct malicious pickle data which will execute arbitrary code during unpickling (See https://github.com/pytorch/pytorch/blob/main/SECURITY.md#untrusted-models for more details). In a future release, the default value for `weights_only` will be flipped to `True`. This limits the functions that could be executed during unpickling. Arbitrary objects will no longer be allowed to be loaded via this mode unless they are explicitly allowlisted by the user via `torch.serialization.add_safe_globals`. We recommend you start setting `weights_only=True` for any use case where you don't have full control of the loaded file. Please open an issue on GitHub for any issues related to this experimental feature.\n",
      "  checkpoint = torch.load(pretrain_path, map_location=device)\n",
      "Validation: 100%|██████████| 4/4 [00:01<00:00,  2.38it/s, loss=0.865]"
     ]
    },
    {
     "name": "stdout",
     "output_type": "stream",
     "text": [
      "Validation Dice Score\n",
      "Class 0: 0.6570, Class 1: 0.5333, Class 2: 0.0029, Class 3: 0.2370, \n",
      "Class 4: 0.6549, Class 5: 0.4790, Class 6: 0.4255, \n",
      "Validation F-beta Score\n",
      "Class 0: 0.5075, Class 1: 0.6470, Class 2: 0.0233, Class 3: 0.2303, \n",
      "Class 4: 0.6252, Class 5: 0.5145, Class 6: 0.4720, \n",
      "Overall Mean Dice Score: 0.4659\n",
      "Overall Mean F-beta Score: 0.4978\n",
      "\n"
     ]
    },
    {
     "name": "stderr",
     "output_type": "stream",
     "text": [
      "\n"
     ]
    },
    {
     "ename": "",
     "evalue": "",
     "output_type": "error",
     "traceback": [
      "\u001b[1;31mnotebook controller is DISPOSED. \n",
      "\u001b[1;31m자세한 내용은 Jupyter <a href='command:jupyter.viewOutput'>로그</a>를 참조하세요."
     ]
    },
    {
     "ename": "",
     "evalue": "",
     "output_type": "error",
     "traceback": [
      "\u001b[1;31mnotebook controller is DISPOSED. \n",
      "\u001b[1;31m자세한 내용은 Jupyter <a href='command:jupyter.viewOutput'>로그</a>를 참조하세요."
     ]
    }
   ],
   "source": [
    "from monai.data import DataLoader, Dataset, CacheDataset\n",
    "from monai.transforms import (\n",
    "    Compose, LoadImaged, EnsureChannelFirstd, NormalizeIntensityd,\n",
    "    Orientationd, CropForegroundd, GaussianSmoothd, ScaleIntensityd,\n",
    "    RandSpatialCropd, RandRotate90d, RandFlipd, RandGaussianNoised,\n",
    "    ToTensord, RandCropByLabelClassesd\n",
    ")\n",
    "from monai.metrics import DiceMetric\n",
    "from monai.networks.nets import UNETR, SwinUNETR\n",
    "from monai.losses import TverskyLoss\n",
    "import torch\n",
    "import numpy as np\n",
    "from tqdm import tqdm\n",
    "import wandb\n",
    "from src.dataset.dataset import make_val_dataloader\n",
    "\n",
    "val_img_dir = \"./datasets/val/images\"\n",
    "val_label_dir = \"./datasets/val/labels\"\n",
    "img_depth = 96\n",
    "img_size = 96  # Match your patch size\n",
    "n_classes = 7\n",
    "batch_size = 2 # 13.8GB GPU memory required for 128x128 img size\n",
    "num_samples = batch_size # 한 이미지에서 뽑을 샘플 수\n",
    "loader_batch = 1\n",
    "lamda = 0.52\n",
    "\n",
    "wandb.init(\n",
    "    project='czii_SwinUnetR_val',  # 프로젝트 이름 설정\n",
    "    name='SwinUNETR96_96_lr0.001_lambda0.52_batch2',         # 실행(run) 이름 설정\n",
    "    config={\n",
    "        'learning_rate': 0.001,\n",
    "        'batch_size': batch_size,\n",
    "        'lambda': lamda,\n",
    "        'img_size': img_size,\n",
    "        'device': 'cuda',\n",
    "        \"checkpoint_dir\": \"./model_checkpoints/SwinUNETR96_96_lr0.001_lambda0.52_batch2\",\n",
    "        \n",
    "    }\n",
    ")\n",
    "\n",
    "non_random_transforms = Compose([\n",
    "    EnsureChannelFirstd(keys=[\"image\", \"label\"], channel_dim=\"no_channel\"),\n",
    "    NormalizeIntensityd(keys=\"image\"),\n",
    "    Orientationd(keys=[\"image\", \"label\"], axcodes=\"RAS\"),\n",
    "    GaussianSmoothd(\n",
    "        keys=[\"image\"],      # 변환을 적용할 키\n",
    "        sigma=[1.0, 1.0, 1.0]  # 각 축(x, y, z)의 시그마 값\n",
    "        ),\n",
    "])\n",
    "random_transforms = Compose([\n",
    "    RandCropByLabelClassesd(\n",
    "        keys=[\"image\", \"label\"],\n",
    "        label_key=\"label\",\n",
    "        spatial_size=[img_depth, img_size, img_size],\n",
    "        num_classes=n_classes,\n",
    "        num_samples=num_samples, \n",
    "        ratios=ratios_list,\n",
    "    ),\n",
    "    RandRotate90d(keys=[\"image\", \"label\"], prob=0.5, spatial_axes=[1, 2]),\n",
    "    RandFlipd(keys=[\"image\", \"label\"], prob=0.5, spatial_axis=0),\n",
    "])\n",
    "\n",
    "val_loader = make_val_dataloader(\n",
    "    val_img_dir, \n",
    "    val_label_dir, \n",
    "    non_random_transforms = non_random_transforms, \n",
    "    random_transforms = random_transforms, \n",
    "    batch_size = loader_batch,\n",
    "    num_workers=0\n",
    ")\n",
    "criterion = TverskyLoss(\n",
    "    alpha= 1 - lamda,  # FP에 대한 가중치\n",
    "    beta=lamda,       # FN에 대한 가중치\n",
    "    include_background=False,  # 배경 클래스 제외\n",
    "    softmax=True\n",
    ")\n",
    "    \n",
    "    \n",
    "from monai.metrics import DiceMetric\n",
    "\n",
    "img_size = 96\n",
    "img_depth = img_size\n",
    "n_classes = 7 \n",
    "\n",
    "device = torch.device(\"cuda\" if torch.cuda.is_available() else \"cpu\")\n",
    "pretrain_path = \"./model_checkpoints/SwinUNETR96_96_lr0.001_lambda0.52_batch2/best_model.pt\"\n",
    "model = SwinUNETR(\n",
    "    img_size=(img_depth, img_size, img_size),\n",
    "    in_channels=1,\n",
    "    out_channels=n_classes,\n",
    "    feature_size=48,\n",
    "    use_checkpoint=True,\n",
    ").to(device)\n",
    "# Pretrained weights 불러오기\n",
    "checkpoint = torch.load(pretrain_path, map_location=device)\n",
    "model.load_state_dict(checkpoint['model_state_dict'])\n",
    "\n",
    "val_loss, overall_mean_fbeta_score = validate_one_epoch(\n",
    "    model=model, \n",
    "    val_loader=val_loader, \n",
    "    criterion=criterion, \n",
    "    device=device, \n",
    "    epoch=0, \n",
    "    calculate_dice_interval=1\n",
    ")"
   ]
  },
  {
   "cell_type": "markdown",
   "metadata": {},
   "source": [
    "# Inference"
   ]
  },
  {
   "cell_type": "code",
   "execution_count": null,
   "metadata": {},
   "outputs": [
    {
     "ename": "",
     "evalue": "",
     "output_type": "error",
     "traceback": [
      "\u001b[1;31mnotebook controller is DISPOSED. \n",
      "\u001b[1;31m자세한 내용은 Jupyter <a href='command:jupyter.viewOutput'>로그</a>를 참조하세요."
     ]
    },
    {
     "ename": "",
     "evalue": "",
     "output_type": "error",
     "traceback": [
      "\u001b[1;31mnotebook controller is DISPOSED. \n",
      "\u001b[1;31m자세한 내용은 Jupyter <a href='command:jupyter.viewOutput'>로그</a>를 참조하세요."
     ]
    }
   ],
   "source": [
    "from src.dataset.preprocessing import Preprocessor"
   ]
  },
  {
   "cell_type": "code",
   "execution_count": null,
   "metadata": {},
   "outputs": [
    {
     "name": "stdout",
     "output_type": "stream",
     "text": [
      "Done.\n"
     ]
    },
    {
     "ename": "",
     "evalue": "",
     "output_type": "error",
     "traceback": [
      "\u001b[1;31mnotebook controller is DISPOSED. \n",
      "\u001b[1;31m자세한 내용은 Jupyter <a href='command:jupyter.viewOutput'>로그</a>를 참조하세요."
     ]
    },
    {
     "ename": "",
     "evalue": "",
     "output_type": "error",
     "traceback": [
      "\u001b[1;31mnotebook controller is DISPOSED. \n",
      "\u001b[1;31m자세한 내용은 Jupyter <a href='command:jupyter.viewOutput'>로그</a>를 참조하세요."
     ]
    }
   ],
   "source": [
    "from monai.inferers import sliding_window_inference\n",
    "from monai.transforms import Compose, EnsureChannelFirstd, NormalizeIntensityd, Orientationd, GaussianSmoothd\n",
    "from monai.data import DataLoader, Dataset, CacheDataset\n",
    "from monai.networks.nets import SwinUNETR\n",
    "from pathlib import Path\n",
    "import numpy as np\n",
    "import copick\n",
    "\n",
    "import torch\n",
    "print(\"Done.\")"
   ]
  },
  {
   "cell_type": "code",
   "execution_count": null,
   "metadata": {},
   "outputs": [
    {
     "name": "stdout",
     "output_type": "stream",
     "text": [
      "Config file written to ./kaggle/working/copick.config\n",
      "file length: 7\n"
     ]
    },
    {
     "ename": "",
     "evalue": "",
     "output_type": "error",
     "traceback": [
      "\u001b[1;31mnotebook controller is DISPOSED. \n",
      "\u001b[1;31m자세한 내용은 Jupyter <a href='command:jupyter.viewOutput'>로그</a>를 참조하세요."
     ]
    },
    {
     "ename": "",
     "evalue": "",
     "output_type": "error",
     "traceback": [
      "\u001b[1;31mnotebook controller is DISPOSED. \n",
      "\u001b[1;31m자세한 내용은 Jupyter <a href='command:jupyter.viewOutput'>로그</a>를 참조하세요."
     ]
    }
   ],
   "source": [
    "config_blob = \"\"\"{\n",
    "    \"name\": \"czii_cryoet_mlchallenge_2024\",\n",
    "    \"description\": \"2024 CZII CryoET ML Challenge training data.\",\n",
    "    \"version\": \"1.0.0\",\n",
    "\n",
    "    \"pickable_objects\": [\n",
    "        {\n",
    "            \"name\": \"apo-ferritin\",\n",
    "            \"is_particle\": true,\n",
    "            \"pdb_id\": \"4V1W\",\n",
    "            \"label\": 1,\n",
    "            \"color\": [  0, 117, 220, 128],\n",
    "            \"radius\": 60,\n",
    "            \"map_threshold\": 0.0418\n",
    "        },\n",
    "        {\n",
    "          \"name\" : \"beta-amylase\",\n",
    "            \"is_particle\": true,\n",
    "            \"pdb_id\": \"8ZRZ\",\n",
    "            \"label\": 2,\n",
    "            \"color\": [255, 255, 255, 128],\n",
    "            \"radius\": 90,\n",
    "            \"map_threshold\": 0.0578  \n",
    "        },\n",
    "        {\n",
    "            \"name\": \"beta-galactosidase\",\n",
    "            \"is_particle\": true,\n",
    "            \"pdb_id\": \"6X1Q\",\n",
    "            \"label\": 3,\n",
    "            \"color\": [ 76,   0,  92, 128],\n",
    "            \"radius\": 90,\n",
    "            \"map_threshold\": 0.0578\n",
    "        },\n",
    "        {\n",
    "            \"name\": \"ribosome\",\n",
    "            \"is_particle\": true,\n",
    "            \"pdb_id\": \"6EK0\",\n",
    "            \"label\": 4,\n",
    "            \"color\": [  0,  92,  49, 128],\n",
    "            \"radius\": 150,\n",
    "            \"map_threshold\": 0.0374\n",
    "        },\n",
    "        {\n",
    "            \"name\": \"thyroglobulin\",\n",
    "            \"is_particle\": true,\n",
    "            \"pdb_id\": \"6SCJ\",\n",
    "            \"label\": 5,\n",
    "            \"color\": [ 43, 206,  72, 128],\n",
    "            \"radius\": 130,\n",
    "            \"map_threshold\": 0.0278\n",
    "        },\n",
    "        {\n",
    "            \"name\": \"virus-like-particle\",\n",
    "            \"is_particle\": true,\n",
    "            \"label\": 6,\n",
    "            \"color\": [255, 204, 153, 128],\n",
    "            \"radius\": 135,\n",
    "            \"map_threshold\": 0.201\n",
    "        },\n",
    "        {\n",
    "            \"name\": \"membrane\",\n",
    "            \"is_particle\": false,\n",
    "            \"label\": 8,\n",
    "            \"color\": [100, 100, 100, 128]\n",
    "        },\n",
    "        {\n",
    "            \"name\": \"background\",\n",
    "            \"is_particle\": false,\n",
    "            \"label\": 9,\n",
    "            \"color\": [10, 150, 200, 128]\n",
    "        }\n",
    "    ],\n",
    "\n",
    "    \"overlay_root\": \"./kaggle/working/overlay\",\n",
    "\n",
    "    \"overlay_fs_args\": {\n",
    "        \"auto_mkdir\": true\n",
    "    },\n",
    "\n",
    "    \"static_root\": \"./kaggle/input/czii-cryo-et-object-identification/test/static\"\n",
    "}\"\"\"\n",
    "\n",
    "copick_config_path = \"./kaggle/working/copick.config\"\n",
    "preprocessor = Preprocessor(config_blob,copick_config_path=copick_config_path)\n",
    "non_random_transforms = Compose([\n",
    "    EnsureChannelFirstd(keys=[\"image\"], channel_dim=\"no_channel\"),\n",
    "    NormalizeIntensityd(keys=\"image\"),\n",
    "    Orientationd(keys=[\"image\"], axcodes=\"RAS\"),\n",
    "    GaussianSmoothd(\n",
    "        keys=[\"image\"],      # 변환을 적용할 키\n",
    "        sigma=[1.0, 1.0, 1.0]  # 각 축(x, y, z)의 시그마 값\n",
    "        ),\n",
    "    ])"
   ]
  },
  {
   "cell_type": "code",
   "execution_count": null,
   "metadata": {},
   "outputs": [
    {
     "name": "stderr",
     "output_type": "stream",
     "text": [
      "c:\\ProgramData\\anaconda3\\envs\\ship\\Lib\\site-packages\\monai\\utils\\deprecate_utils.py:221: FutureWarning: monai.networks.nets.swin_unetr SwinUNETR.__init__:img_size: Argument `img_size` has been deprecated since version 1.3. It will be removed in version 1.5. The img_size argument is not required anymore and checks on the input size are run during forward().\n",
      "  warn_deprecated(argname, msg, warning_category)\n",
      "C:\\Users\\Seungwoo\\AppData\\Local\\Temp\\ipykernel_6248\\2937359115.py:15: FutureWarning: You are using `torch.load` with `weights_only=False` (the current default value), which uses the default pickle module implicitly. It is possible to construct malicious pickle data which will execute arbitrary code during unpickling (See https://github.com/pytorch/pytorch/blob/main/SECURITY.md#untrusted-models for more details). In a future release, the default value for `weights_only` will be flipped to `True`. This limits the functions that could be executed during unpickling. Arbitrary objects will no longer be allowed to be loaded via this mode unless they are explicitly allowlisted by the user via `torch.serialization.add_safe_globals`. We recommend you start setting `weights_only=True` for any use case where you don't have full control of the loaded file. Please open an issue on GitHub for any issues related to this experimental feature.\n",
      "  checkpoint = torch.load(pretrain_path, map_location=device)\n"
     ]
    },
    {
     "data": {
      "text/plain": [
       "<All keys matched successfully>"
      ]
     },
     "execution_count": 15,
     "metadata": {},
     "output_type": "execute_result"
    },
    {
     "ename": "",
     "evalue": "",
     "output_type": "error",
     "traceback": [
      "\u001b[1;31mnotebook controller is DISPOSED. \n",
      "\u001b[1;31m자세한 내용은 Jupyter <a href='command:jupyter.viewOutput'>로그</a>를 참조하세요."
     ]
    },
    {
     "ename": "",
     "evalue": "",
     "output_type": "error",
     "traceback": [
      "\u001b[1;31mnotebook controller is DISPOSED. \n",
      "\u001b[1;31m자세한 내용은 Jupyter <a href='command:jupyter.viewOutput'>로그</a>를 참조하세요."
     ]
    }
   ],
   "source": [
    "img_size = 96\n",
    "img_depth = img_size\n",
    "n_classes = 7 \n",
    "\n",
    "device = torch.device(\"cuda\" if torch.cuda.is_available() else \"cpu\")\n",
    "pretrain_path = \"./model_checkpoints/SwinUNETR96_96_lr0.001_lambda0.52_batch2/best_model.pt\"\n",
    "model = SwinUNETR(\n",
    "    img_size=(img_depth, img_size, img_size),\n",
    "    in_channels=1,\n",
    "    out_channels=n_classes,\n",
    "    feature_size=48,\n",
    "    use_checkpoint=True,\n",
    ").to(device)\n",
    "# Pretrained weights 불러오기\n",
    "checkpoint = torch.load(pretrain_path, map_location=device)\n",
    "model.load_state_dict(checkpoint['model_state_dict'])\n"
   ]
  },
  {
   "cell_type": "code",
   "execution_count": null,
   "metadata": {},
   "outputs": [
    {
     "name": "stderr",
     "output_type": "stream",
     "text": [
      "Validation:   0%|          | 0/4 [00:03<?, ?it/s, loss=0.764]\n"
     ]
    },
    {
     "ename": "ZeroDivisionError",
     "evalue": "integer modulo by zero",
     "output_type": "error",
     "traceback": [
      "\u001b[1;31m---------------------------------------------------------------------------\u001b[0m",
      "\u001b[1;31mZeroDivisionError\u001b[0m                         Traceback (most recent call last)",
      "Cell \u001b[1;32mIn[16], line 1\u001b[0m\n\u001b[1;32m----> 1\u001b[0m val_loss \u001b[38;5;241m=\u001b[39m \u001b[43mvalidate_one_epoch\u001b[49m\u001b[43m(\u001b[49m\n\u001b[0;32m      2\u001b[0m \u001b[43m            \u001b[49m\u001b[43mmodel\u001b[49m\u001b[38;5;241;43m=\u001b[39;49m\u001b[43mmodel\u001b[49m\u001b[43m,\u001b[49m\u001b[43m \u001b[49m\n\u001b[0;32m      3\u001b[0m \u001b[43m            \u001b[49m\u001b[43mval_loader\u001b[49m\u001b[38;5;241;43m=\u001b[39;49m\u001b[43mval_loader\u001b[49m\u001b[43m,\u001b[49m\u001b[43m \u001b[49m\n\u001b[0;32m      4\u001b[0m \u001b[43m            \u001b[49m\u001b[43mcriterion\u001b[49m\u001b[38;5;241;43m=\u001b[39;49m\u001b[43mcriterion\u001b[49m\u001b[43m,\u001b[49m\u001b[43m \u001b[49m\n\u001b[0;32m      5\u001b[0m \u001b[43m            \u001b[49m\u001b[43mdevice\u001b[49m\u001b[38;5;241;43m=\u001b[39;49m\u001b[43mdevice\u001b[49m\u001b[43m,\u001b[49m\u001b[43m \u001b[49m\n\u001b[0;32m      6\u001b[0m \u001b[43m            \u001b[49m\u001b[43mepoch\u001b[49m\u001b[38;5;241;43m=\u001b[39;49m\u001b[38;5;241;43m1\u001b[39;49m\u001b[43m,\u001b[49m\u001b[43m \u001b[49m\n\u001b[0;32m      7\u001b[0m \u001b[43m            \u001b[49m\u001b[43mcalculate_dice_interval\u001b[49m\u001b[38;5;241;43m=\u001b[39;49m\u001b[38;5;241;43m0\u001b[39;49m\n\u001b[0;32m      8\u001b[0m \u001b[43m        \u001b[49m\u001b[43m)\u001b[49m\n",
      "Cell \u001b[1;32mIn[11], line 64\u001b[0m, in \u001b[0;36mvalidate_one_epoch\u001b[1;34m(model, val_loader, criterion, device, epoch, calculate_dice_interval)\u001b[0m\n\u001b[0;32m     61\u001b[0m pbar\u001b[38;5;241m.\u001b[39mset_postfix(loss\u001b[38;5;241m=\u001b[39mloss\u001b[38;5;241m.\u001b[39mitem())\n\u001b[0;32m     63\u001b[0m \u001b[38;5;66;03m# 각 클래스별 Dice 점수 계산\u001b[39;00m\n\u001b[1;32m---> 64\u001b[0m \u001b[38;5;28;01mif\u001b[39;00m \u001b[43mepoch\u001b[49m\u001b[43m \u001b[49m\u001b[38;5;241;43m%\u001b[39;49m\u001b[43m \u001b[49m\u001b[43mcalculate_dice_interval\u001b[49m \u001b[38;5;241m==\u001b[39m \u001b[38;5;241m0\u001b[39m:\n\u001b[0;32m     65\u001b[0m     \u001b[38;5;28;01mfor\u001b[39;00m i \u001b[38;5;129;01min\u001b[39;00m \u001b[38;5;28mrange\u001b[39m(n_classes):\n\u001b[0;32m     66\u001b[0m         pred_i \u001b[38;5;241m=\u001b[39m (preds \u001b[38;5;241m==\u001b[39m i)\n",
      "\u001b[1;31mZeroDivisionError\u001b[0m: integer modulo by zero"
     ]
    },
    {
     "ename": "",
     "evalue": "",
     "output_type": "error",
     "traceback": [
      "\u001b[1;31mnotebook controller is DISPOSED. \n",
      "\u001b[1;31m자세한 내용은 Jupyter <a href='command:jupyter.viewOutput'>로그</a>를 참조하세요."
     ]
    },
    {
     "ename": "",
     "evalue": "",
     "output_type": "error",
     "traceback": [
      "\u001b[1;31mnotebook controller is DISPOSED. \n",
      "\u001b[1;31m자세한 내용은 Jupyter <a href='command:jupyter.viewOutput'>로그</a>를 참조하세요."
     ]
    }
   ],
   "source": [
    "val_loss = validate_one_epoch(\n",
    "            model=model, \n",
    "            val_loader=val_loader, \n",
    "            criterion=criterion, \n",
    "            device=device, \n",
    "            epoch=1, \n",
    "            calculate_dice_interval=0\n",
    "        )"
   ]
  },
  {
   "cell_type": "code",
   "execution_count": null,
   "metadata": {},
   "outputs": [
    {
     "name": "stdout",
     "output_type": "stream",
     "text": [
      "Processing volume 1/7\n"
     ]
    },
    {
     "name": "stderr",
     "output_type": "stream",
     "text": [
      "Loading dataset: 100%|██████████| 1/1 [00:01<00:00,  1.94s/it]\n"
     ]
    },
    {
     "name": "stdout",
     "output_type": "stream",
     "text": [
      "Processing volume 2/7\n"
     ]
    },
    {
     "name": "stderr",
     "output_type": "stream",
     "text": [
      "Loading dataset: 100%|██████████| 1/1 [00:01<00:00,  1.89s/it]\n"
     ]
    },
    {
     "name": "stdout",
     "output_type": "stream",
     "text": [
      "Processing volume 3/7\n"
     ]
    },
    {
     "name": "stderr",
     "output_type": "stream",
     "text": [
      "Loading dataset: 100%|██████████| 1/1 [00:01<00:00,  1.79s/it]\n"
     ]
    },
    {
     "name": "stdout",
     "output_type": "stream",
     "text": [
      "Submission saved to: submission.csv\n"
     ]
    },
    {
     "ename": "",
     "evalue": "",
     "output_type": "error",
     "traceback": [
      "\u001b[1;31mnotebook controller is DISPOSED. \n",
      "\u001b[1;31m자세한 내용은 Jupyter <a href='command:jupyter.viewOutput'>로그</a>를 참조하세요."
     ]
    },
    {
     "ename": "",
     "evalue": "",
     "output_type": "error",
     "traceback": [
      "\u001b[1;31mnotebook controller is DISPOSED. \n",
      "\u001b[1;31m자세한 내용은 Jupyter <a href='command:jupyter.viewOutput'>로그</a>를 참조하세요."
     ]
    }
   ],
   "source": [
    "import torch\n",
    "import numpy as np\n",
    "from scipy.ndimage import label, center_of_mass\n",
    "import pandas as pd\n",
    "from tqdm import tqdm\n",
    "from monai.data import CacheDataset, DataLoader\n",
    "from monai.transforms import Compose, NormalizeIntensity\n",
    "import cc3d\n",
    "\n",
    "def dict_to_df(coord_dict, experiment_name):\n",
    "    all_coords = []\n",
    "    all_labels = []\n",
    "    \n",
    "    for label, coords in coord_dict.items():\n",
    "        all_coords.append(coords)\n",
    "        all_labels.extend([label] * len(coords))\n",
    "    \n",
    "    all_coords = np.vstack(all_coords)\n",
    "    df = pd.DataFrame({\n",
    "        'experiment': experiment_name,\n",
    "        'particle_type': all_labels,\n",
    "        'x': all_coords[:, 0],\n",
    "        'y': all_coords[:, 1],\n",
    "        'z': all_coords[:, 2]\n",
    "    })\n",
    "    return df\n",
    "\n",
    "id_to_name = {1: \"apo-ferritin\", \n",
    "              2: \"beta-amylase\",\n",
    "              3: \"beta-galactosidase\", \n",
    "              4: \"ribosome\", \n",
    "              5: \"thyroglobulin\", \n",
    "              6: \"virus-like-particle\"}\n",
    "BLOB_THRESHOLD = 200\n",
    "CERTAINTY_THRESHOLD = 0.05\n",
    "\n",
    "classes = [1, 2, 3, 4, 5, 6]\n",
    "\n",
    "model.eval()\n",
    "with torch.no_grad():\n",
    "    location_dfs = []  # DataFrame 리스트로 초기화\n",
    "    \n",
    "    for vol_idx, run in enumerate(preprocessor.root.runs):\n",
    "        print(f\"Processing volume {vol_idx + 1}/{len(preprocessor.root.runs)}\")\n",
    "        tomogram = preprocessor.processing(run=run, task=\"task\")\n",
    "        task_files = [{\"image\": tomogram}]\n",
    "        task_ds = CacheDataset(data=task_files, transform=non_random_transforms)\n",
    "        task_loader = DataLoader(task_ds, batch_size=1, num_workers=0)\n",
    "        \n",
    "        for task_data in task_loader:\n",
    "            images = task_data['image'].to(\"cuda\")\n",
    "            outputs = sliding_window_inference(\n",
    "                inputs=images,\n",
    "                roi_size=(96, 96, 96),  # ROI 크기\n",
    "                sw_batch_size=4,\n",
    "                predictor=model.forward,\n",
    "                overlap=0.1,\n",
    "                sw_device=\"cuda\",\n",
    "                device=\"cpu\",\n",
    "                buffer_steps=1,\n",
    "                buffer_dim=-1\n",
    "            )\n",
    "            outputs = outputs.argmax(dim=1).squeeze(0).cpu().numpy()  # 클래스 채널 예측\n",
    "            location = {}  # 좌표 저장용 딕셔너리\n",
    "            for c in classes:\n",
    "                cc = cc3d.connected_components(outputs == c)  # cc3d 라벨링\n",
    "                stats = cc3d.statistics(cc)\n",
    "                zyx = stats['centroids'][1:] * 10.012444  # 스케일 변환\n",
    "                zyx_large = zyx[stats['voxel_counts'][1:] > BLOB_THRESHOLD]  # 크기 필터링\n",
    "                xyz = np.ascontiguousarray(zyx_large[:, ::-1])  # 좌표 스왑 (z, y, x -> x, y, z)\n",
    "\n",
    "                location[id_to_name[c]] = xyz  # ID 이름 매칭 저장\n",
    "\n",
    "            # 데이터프레임 변환\n",
    "            df = dict_to_df(location, run.name)\n",
    "            location_dfs.append(df)  # 리스트에 추가\n",
    "        \n",
    "        # if vol_idx == 2:\n",
    "        #     break\n",
    "    \n",
    "    # DataFrame 병합\n",
    "    final_df = pd.concat(location_dfs, ignore_index=True)\n",
    "    \n",
    "    # ID 추가 및 CSV 저장\n",
    "    final_df.insert(loc=0, column='id', value=np.arange(len(final_df)))\n",
    "    final_df.to_csv(\"submission.csv\", index=False)\n",
    "    print(\"Submission saved to: submission.csv\")\n"
   ]
  }
 ],
 "metadata": {
  "kernelspec": {
   "display_name": "UM",
   "language": "python",
   "name": "python3"
  },
  "language_info": {
   "codemirror_mode": {
    "name": "ipython",
    "version": 3
   },
   "file_extension": ".py",
   "mimetype": "text/x-python",
   "name": "python",
   "nbconvert_exporter": "python",
   "pygments_lexer": "ipython3",
   "version": "3.12.7"
  }
 },
 "nbformat": 4,
 "nbformat_minor": 2
}
