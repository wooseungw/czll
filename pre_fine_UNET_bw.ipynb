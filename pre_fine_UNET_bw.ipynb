{
 "cells": [
  {
   "cell_type": "code",
   "execution_count": 1,
   "metadata": {},
   "outputs": [
    {
     "name": "stderr",
     "output_type": "stream",
     "text": [
      "c:\\Users\\pook0\\.conda\\envs\\UM\\Lib\\site-packages\\tqdm\\auto.py:21: TqdmWarning: IProgress not found. Please update jupyter and ipywidgets. See https://ipywidgets.readthedocs.io/en/stable/user_install.html\n",
      "  from .autonotebook import tqdm as notebook_tqdm\n"
     ]
    },
    {
     "name": "stdout",
     "output_type": "stream",
     "text": [
      "MONAI version: 1.4.0\n",
      "Numpy version: 1.26.4\n",
      "Pytorch version: 2.4.1+cu121\n",
      "MONAI flags: HAS_EXT = False, USE_COMPILED = False, USE_META_DICT = False\n",
      "MONAI rev id: 46a5272196a6c2590ca2589029eed8e4d56ff008\n",
      "MONAI __file__: c:\\Users\\<username>\\.conda\\envs\\UM\\Lib\\site-packages\\monai\\__init__.py\n",
      "\n",
      "Optional dependencies:\n",
      "Pytorch Ignite version: NOT INSTALLED or UNKNOWN VERSION.\n",
      "ITK version: NOT INSTALLED or UNKNOWN VERSION.\n",
      "Nibabel version: 5.3.2\n",
      "scikit-image version: 0.24.0\n",
      "scipy version: 1.14.1\n",
      "Pillow version: 10.2.0\n",
      "Tensorboard version: 2.18.0\n",
      "gdown version: 5.2.0\n",
      "TorchVision version: 0.19.1+cu121\n",
      "tqdm version: 4.66.5\n",
      "lmdb version: NOT INSTALLED or UNKNOWN VERSION.\n",
      "psutil version: 6.0.0\n",
      "pandas version: 2.2.3\n",
      "einops version: 0.8.0\n",
      "transformers version: NOT INSTALLED or UNKNOWN VERSION.\n",
      "mlflow version: 2.17.2\n",
      "pynrrd version: NOT INSTALLED or UNKNOWN VERSION.\n",
      "clearml version: NOT INSTALLED or UNKNOWN VERSION.\n",
      "\n",
      "For details about installing the optional dependencies, please visit:\n",
      "    https://docs.monai.io/en/latest/installation.html#installing-the-recommended-dependencies\n",
      "\n"
     ]
    }
   ],
   "source": [
    "import os\n",
    "import shutil\n",
    "import tempfile\n",
    "\n",
    "import matplotlib.pyplot as plt\n",
    "from tqdm import tqdm\n",
    "\n",
    "import random\n",
    "import numpy as np\n",
    "import torch\n",
    "\n",
    "from src.models import UNet_CBAM\n",
    "\n",
    "from monai.losses import DiceCELoss\n",
    "from monai.inferers import sliding_window_inference\n",
    "from monai.transforms import (\n",
    "    AsDiscrete,\n",
    "    EnsureChannelFirstd,\n",
    "    Compose,\n",
    "    CropForegroundd,\n",
    "    LoadImaged,\n",
    "    Orientationd,\n",
    "    RandFlipd,\n",
    "    RandCropByPosNegLabeld,\n",
    "    RandShiftIntensityd,\n",
    "    ScaleIntensityRanged,\n",
    "    Spacingd,\n",
    "    RandRotate90d,\n",
    ")\n",
    "\n",
    "from monai.networks.layers.factories import Act, Norm\n",
    "\n",
    "from monai.config import print_config\n",
    "from monai.metrics import DiceMetric\n",
    "# from src.models.swincspunetr import SwinCSPUNETR\n",
    "# from src.models.swincspunetr_unet import SwinCSPUNETR_unet\n",
    "# from src.models.swincspunetr3plus import SwinCSPUNETR3plus\n",
    "\n",
    "from monai.data import (\n",
    "    DataLoader,\n",
    "    CacheDataset,\n",
    "    load_decathlon_datalist,\n",
    "    decollate_batch,\n",
    ")\n",
    "\n",
    "# 랜덤 시드 고정\n",
    "def set_seed(seed):\n",
    "    random.seed(seed)\n",
    "    np.random.seed(seed)\n",
    "    torch.manual_seed(seed)\n",
    "    if torch.cuda.is_available():\n",
    "        torch.cuda.manual_seed_all(seed)\n",
    "\n",
    "set_seed(42)\n",
    "\n",
    "\n",
    "print_config()"
   ]
  },
  {
   "cell_type": "code",
   "execution_count": 2,
   "metadata": {},
   "outputs": [
    {
     "name": "stdout",
     "output_type": "stream",
     "text": [
      "클래스 비율: {0: 0.0, 1: 0.16393442622950818, 2: 0.01639344262295082, 3: 0.2459016393442623, 4: 0.16393442622950818, 5: 0.2459016393442623, 6: 0.16393442622950818}\n",
      "최종 합계: 1.0\n",
      "클래스 비율 리스트: [0.0, 0.16393442622950818, 0.01639344262295082, 0.2459016393442623, 0.16393442622950818, 0.2459016393442623, 0.16393442622950818]\n"
     ]
    }
   ],
   "source": [
    "class_info = {\n",
    "    0: {\"name\": \"background\", \"weight\": 0},  # weight 없음\n",
    "    1: {\"name\": \"apo-ferritin\", \"weight\": 1000},\n",
    "    2: {\"name\": \"beta-amylase\", \"weight\": 100}, # 4130\n",
    "    3: {\"name\": \"beta-galactosidase\", \"weight\": 1500}, #3080\n",
    "    4: {\"name\": \"ribosome\", \"weight\": 1000},\n",
    "    5: {\"name\": \"thyroglobulin\", \"weight\": 1500},\n",
    "    6: {\"name\": \"virus-like-particle\", \"weight\": 1000},\n",
    "}\n",
    "\n",
    "# 가중치에 비례한 비율 계산\n",
    "raw_ratios = {\n",
    "    k: (v[\"weight\"] if v[\"weight\"] is not None else 0.01)  # 가중치 비례, None일 경우 기본값a\n",
    "    for k, v in class_info.items()\n",
    "}\n",
    "total = sum(raw_ratios.values())\n",
    "ratios = {k: v / total for k, v in raw_ratios.items()}\n",
    "\n",
    "# 최종 합계가 1인지 확인\n",
    "final_total = sum(ratios.values())\n",
    "print(\"클래스 비율:\", ratios)\n",
    "print(\"최종 합계:\", final_total)\n",
    "\n",
    "# 비율을 리스트로 변환\n",
    "ratios_list = [ratios[k] for k in sorted(ratios.keys())]\n",
    "print(\"클래스 비율 리스트:\", ratios_list)"
   ]
  },
  {
   "cell_type": "markdown",
   "metadata": {},
   "source": [
    "# 모델 설정"
   ]
  },
  {
   "cell_type": "code",
   "execution_count": 3,
   "metadata": {},
   "outputs": [],
   "source": [
    "from src.dataset.dataset import create_dataloaders, create_dataloaders_bw\n",
    "from monai.transforms import (\n",
    "    Compose, LoadImaged, EnsureChannelFirstd, NormalizeIntensityd,\n",
    "    Orientationd, CropForegroundd, GaussianSmoothd, ScaleIntensityd,\n",
    "    RandSpatialCropd, RandRotate90d, RandFlipd, RandGaussianNoised,\n",
    "    ToTensord, RandCropByLabelClassesd, RandCropd,RandCropByPosNegLabeld, RandGaussianSmoothd,\n",
    "    RandShiftIntensityD, RandAdjustContrastD, RandGaussianNoiseD, Rand3DElasticD,\n",
    ")\n",
    "from monai.transforms import CastToTyped\n",
    "import numpy as np\n",
    "\n",
    "train_img_dir = \"./datasets/CBAM_wbp_denoised_data/images\"\n",
    "train_label_dir = \"./datasets/CBAM_wbp_denoised_data/labels\"\n",
    "val_img_dir = \"./datasets/val/images\"\n",
    "val_label_dir = \"./datasets/val/labels\"\n",
    "# DATA CONFIG\n",
    "img_size =  96 # Match your patch size\n",
    "img_depth = 32\n",
    "n_classes = 7\n",
    "batch_size = 16 # 13.8GB GPU memory required for 128x128 img size\n",
    "loader_batch = 1\n",
    "num_samples = batch_size // loader_batch # 한 이미지에서 뽑을 샘플 수\n",
    "num_repeat = 4\n",
    "# MODEL CONFIG\n",
    "num_epochs = 4000\n",
    "lamda = 0.5\n",
    "ce_weight = 0.8\n",
    "lr = 0.001\n",
    "feature_size = 48\n",
    "use_checkpoint = True\n",
    "use_v2 = True\n",
    "drop_rate= 0.2\n",
    "attn_drop_rate = 0.2\n",
    "num_bottleneck = 2\n",
    "# CLASS_WEIGHTS\n",
    "class_weights = None\n",
    "# class_weights = torch.tensor([0.0001, 1, 0.001, 1.1, 1, 1.1, 1], dtype=torch.float32)  # 클래스별 가중치\n",
    "# class_weights = torch.tensor([0.9,1,0.9,1.1,1,1.1,1], dtype=torch.float32)  # 클래스별 가중치\n",
    "# class_weights = torch.tensor([1,1,1,1,1,1,1], dtype=torch.float32)  # 클래스별 가중치\n",
    "sigma = 1.5\n",
    "accumulation_steps = 1\n",
    "# INIT\n",
    "start_epoch = 0\n",
    "best_val_loss = float('inf')\n",
    "best_val_fbeta_score = 0\n",
    "\n",
    "non_random_transforms = Compose([\n",
    "    EnsureChannelFirstd(keys=[\"image\", \"label\"], channel_dim=\"no_channel\"),\n",
    "    NormalizeIntensityd(keys=\"image\"),\n",
    "    Orientationd(keys=[\"image\", \"label\"], axcodes=\"RAS\"),\n",
    "    # GaussianSmoothd(\n",
    "    #     keys=[\"image\"],      # 변환을 적용할 키\n",
    "    #     sigma=[sigma, sigma, sigma]  # 각 축(x, y, z)의 시그마 값\n",
    "    #     ),\n",
    "])\n",
    "random_transforms = Compose([\n",
    "    RandCropByLabelClassesd(\n",
    "        keys=[\"image\", \"label\"],\n",
    "        label_key=\"label\",\n",
    "        spatial_size=[img_depth, img_size, img_size],\n",
    "        num_classes=n_classes,\n",
    "        num_samples=num_samples, \n",
    "        ratios=ratios_list,\n",
    "    ),\n",
    "    RandRotate90d(keys=[\"image\", \"label\"], prob=0.5, spatial_axes=[1, 2]),\n",
    "    RandFlipd(keys=[\"image\", \"label\"], prob=0.5, spatial_axis=0),\n",
    "    RandFlipd(keys=[\"image\", \"label\"], prob=0.5, spatial_axis=1),\n",
    "    RandFlipd(keys=[\"image\", \"label\"], prob=0.5, spatial_axis=2),\n",
    "    # Rand3DElasticD(\n",
    "    #     keys=[\"image\", \"label\"],\n",
    "    #     sigma_range=(3, 5),  # 변형 필드의 부드러움\n",
    "    #     magnitude_range=(50, 100),  # 변형 강도\n",
    "    #     prob=0.5,  # 변형 적용 확률\n",
    "    #     spatial_size=[img_depth, img_size, img_size],  # 출력 크기\n",
    "    #     mode=\"bilinear\",  # 보간 방식\n",
    "    #     padding_mode=\"zeros\"  # 패딩 방식\n",
    "    # ),\n",
    "    # RandGaussianNoiseD(keys=[\"image\"], prob=0.5, mean=0.0, std=0.1),  # 가우시안 노이즈 추가\n",
    "    # RandShiftIntensityD(keys=[\"image\"], prob=0.5, offsets=0.1),  # intensity 값 이동\n",
    "    # RandAdjustContrastD(keys=[\"image\"], prob=0.5, gamma=(0.8, 1.2)),  # contrast 조정\n",
    "    # RandGaussianSmoothd(\n",
    "    # keys=[\"image\"],      # 변환을 적용할 키\n",
    "    # sigma_x = (0.5, sigma), # 각 축(x, y, z)의 시그마 값\n",
    "    # sigma_y = (0.5, sigma),\n",
    "    # sigma_z = (0.5, sigma),\n",
    "    # prob=0.5,\n",
    "    # ),\n",
    "])\n",
    "val_random_transforms = Compose([\n",
    "    RandCropByLabelClassesd(\n",
    "        keys=[\"image\", \"label\"],\n",
    "        label_key=\"label\",\n",
    "        spatial_size=[img_depth, img_size, img_size],\n",
    "        num_classes=n_classes,\n",
    "        num_samples=num_samples, \n",
    "        ratios=ratios_list,\n",
    "    ),\n",
    "    # RandRotate90d(keys=[\"image\", \"label\"], prob=0.5, spatial_axes=[1, 2]),\n",
    "    # RandFlipd(keys=[\"image\", \"label\"], prob=0.5, spatial_axis=0),\n",
    "    # RandFlipd(keys=[\"image\", \"label\"], prob=0.5, spatial_axis=1),\n",
    "    # RandFlipd(keys=[\"image\", \"label\"], prob=0.5, spatial_axis=2),\n",
    "    # RandGaussianSmoothd(\n",
    "    # keys=[\"image\"],      # 변환을 적용할 키\n",
    "    # sigma_x = (0.0, sigma), # 각 축(x, y, z)의 시그마 값\n",
    "    # sigma_y = (0.0, sigma),\n",
    "    # sigma_z = (0.0, sigma),\n",
    "    # prob=1.0,\n",
    "    # ),\n",
    "])\n"
   ]
  },
  {
   "cell_type": "code",
   "execution_count": 4,
   "metadata": {},
   "outputs": [
    {
     "name": "stderr",
     "output_type": "stream",
     "text": [
      "Loading dataset: 100%|██████████| 33/33 [00:04<00:00,  7.71it/s]\n",
      "Loading dataset: 100%|██████████| 1/1 [00:00<00:00,  7.18it/s]\n"
     ]
    }
   ],
   "source": [
    "train_loader, val_loader = None, None\n",
    "train_loader, val_loader = create_dataloaders_bw(\n",
    "    train_img_dir, \n",
    "    train_label_dir, \n",
    "    val_img_dir, \n",
    "    val_label_dir, \n",
    "    non_random_transforms = non_random_transforms, \n",
    "    val_non_random_transforms=non_random_transforms,\n",
    "    random_transforms = random_transforms, \n",
    "    val_random_transforms=val_random_transforms,\n",
    "    batch_size = loader_batch,\n",
    "    num_workers=0,\n",
    "    train_num_repeat=num_repeat,\n",
    "    val_num_repeat=num_repeat,\n",
    "    )"
   ]
  },
  {
   "cell_type": "markdown",
   "metadata": {},
   "source": [
    "https://monai.io/model-zoo.html"
   ]
  },
  {
   "cell_type": "code",
   "execution_count": 5,
   "metadata": {},
   "outputs": [],
   "source": [
    "import torch\n",
    "import torch.nn as nn\n",
    "import torch.nn.functional as F\n",
    "from monai.losses import TverskyLoss\n",
    "\n",
    "device = torch.device(\"cuda\" if torch.cuda.is_available() else \"cpu\")\n",
    "\n",
    "# DynamicTverskyLoss 클래스 정의\n",
    "class DynamicTverskyLoss(TverskyLoss):\n",
    "    def __init__(self, lamda=0.5, **kwargs):\n",
    "        super().__init__(alpha=1 - lamda, beta=lamda, **kwargs)\n",
    "        self.lamda = lamda\n",
    "\n",
    "    def set_lamda(self, lamda):\n",
    "        self.lamda = lamda\n",
    "        self.alpha = 1 - lamda\n",
    "        self.beta = lamda\n",
    "\n",
    "\n",
    "# CombinedCETverskyLoss 클래스\n",
    "class CombinedCETverskyLoss_cl_weight(nn.Module):\n",
    "    \n",
    "    \n",
    "    def __init__(self, lamda=0.5, ce_weight=0.5, n_classes=7, class_weights=None, ignore_index=-1, **kwargs):\n",
    "        super().__init__()\n",
    "        self.n_classes = n_classes\n",
    "        self.ce_weight = ce_weight\n",
    "        self.ignore_index = ignore_index\n",
    "        \n",
    "        # CrossEntropyLoss에서 클래스별 가중치를 적용\n",
    "        self.ce = nn.CrossEntropyLoss(weight=class_weights, ignore_index=self.ignore_index, reduction='mean', **kwargs)\n",
    "        \n",
    "        # TverskyLoss\n",
    "        self.tversky = DynamicTverskyLoss(lamda=lamda, reduction=\"none\",softmax=True, **kwargs)\n",
    "\n",
    "    def forward(self, inputs, targets):\n",
    "        \n",
    "        # CrossEntropyLoss는 정수형 클래스 인덱스를 사용\n",
    "        ce_loss = self.ce(inputs, targets)\n",
    "\n",
    "        # TverskyLoss 계산 (원핫 인코딩된 라벨을 사용)\n",
    "        \n",
    "        tversky_loss = self.tversky(inputs, targets)\n",
    "\n",
    "        # 클래스별 가중치 적용 (Tversky 손실에도 가중치를 곱하기)\n",
    "        class_weights = torch.tensor(self.ce.weight)  # CrossEntropy의 weight를 사용\n",
    "\n",
    "        # Tversky 손실이 (B, num_classes) 형태이므로, 가중치를 클래스 차원에 곱합니다.\n",
    "        tversky_loss = tversky_loss * class_weights.view(1, self.n_classes)\n",
    "\n",
    "        # 최종 손실 계산\n",
    "        final_loss = self.ce_weight * ce_loss + (1 - self.ce_weight) * tversky_loss.mean()  # mean()으로 배치에 대해 평균\n",
    "        return final_loss\n",
    "\n",
    "    def set_lamda(self, lamda):\n",
    "        self.tversky.set_lamda(lamda)\n",
    "\n",
    "    @property\n",
    "    def lamda(self):\n",
    "        return self.tversky.lamda\n",
    "\n",
    "# CombinedCETverskyLoss 클래스\n",
    "class CombinedCETverskyLoss(nn.Module):\n",
    "    \n",
    "    def __init__(self, lamda=0.5, ce_weight=0.5, n_classes=7, class_weights=None, ignore_index=-1, **kwargs):\n",
    "        super().__init__()\n",
    "        self.n_classes = n_classes\n",
    "        self.ce_weight = ce_weight\n",
    "        self.ignore_index = ignore_index\n",
    "        \n",
    "        # CrossEntropyLoss에서 클래스별 가중치를 적용\n",
    "        self.ce = nn.CrossEntropyLoss(ignore_index=self.ignore_index, reduction='mean', **kwargs)\n",
    "        \n",
    "        # TverskyLoss\n",
    "        self.tversky = DynamicTverskyLoss(lamda=lamda, reduction=\"mean\",softmax=True, **kwargs)\n",
    "\n",
    "    def forward(self, inputs, targets):\n",
    "        \n",
    "        # CrossEntropyLoss는 정수형 클래스 인덱스를 사용\n",
    "        ce_loss = self.ce(inputs, targets)\n",
    "\n",
    "        # TverskyLoss 계산 (원핫 인코딩된 라벨을 사용)\n",
    "        \n",
    "        tversky_loss = self.tversky(inputs, targets)\n",
    "\n",
    "        # 최종 손실 계산\n",
    "        final_loss = self.ce_weight * ce_loss + (1 - self.ce_weight) * tversky_loss  # mean()으로 배치에 대해 평균\n",
    "        \n",
    "        return final_loss\n",
    "\n",
    "    def set_lamda(self, lamda):\n",
    "        self.tversky.set_lamda(lamda)\n",
    "\n",
    "    @property\n",
    "    def lamda(self):\n",
    "        return self.tversky.lamda\n",
    "\n",
    "criterion = CombinedCETverskyLoss(\n",
    "    lamda=lamda,\n",
    "    ce_weight=ce_weight,\n",
    "    n_classes=n_classes,\n",
    "    class_weights=class_weights,\n",
    ").to(device)"
   ]
  },
  {
   "cell_type": "code",
   "execution_count": 6,
   "metadata": {},
   "outputs": [
    {
     "name": "stderr",
     "output_type": "stream",
     "text": [
      "c:\\Users\\pook0\\.conda\\envs\\UM\\Lib\\site-packages\\torch\\nn\\init.py:453: UserWarning: Initializing zero-element tensors is a no-op\n",
      "  warnings.warn(\"Initializing zero-element tensors is a no-op\")\n"
     ]
    }
   ],
   "source": [
    "import torch.optim as optim\n",
    "from tqdm import tqdm\n",
    "import numpy as np\n",
    "import torch\n",
    "from pathlib import Path\n",
    "from monai.networks.nets import UNet\n",
    "from src.models import DP_UNet\n",
    "\n",
    "device = torch.device(\"cuda\" if torch.cuda.is_available() else \"cpu\")\n",
    "\n",
    "model=UNet_CBAM(\n",
    "    spatial_dims=3,\n",
    "    in_channels=1,\n",
    "    out_channels=n_classes,\n",
    "    channels=(32, 64, 128, 256),\n",
    "    strides=(2, 2, 2),\n",
    "    dropout = drop_rate,\n",
    "    norm = Norm.INSTANCE,\n",
    "    act = Act.PRELU,\n",
    ").to(device)\n",
    "\n",
    "# model = UNet(\n",
    "#     spatial_dims=3,\n",
    "#     in_channels=1,\n",
    "#     out_channels=n_classes,\n",
    "#     channels=(32, 64, 128, 256),\n",
    "#     strides=(2, 2, 2),\n",
    "#     dropout = drop_rate,\n",
    "#     norm = Norm.INSTANCE,\n",
    "#     act = Act.PRELU,\n",
    "# ).to(device)\n",
    "\n",
    "pretrain_str = \"yes\" if use_checkpoint else \"no\"\n",
    "weight_str = \"weighted\" if class_weights is not None else \"\"\n",
    "\n",
    "# 체크포인트 디렉토리 및 파일 설정\n",
    "checkpoint_base_dir = Path(\"./model_checkpoints\")\n",
    "folder_name = f\"CBAM_CBAM_denoised_noGauss_f{feature_size}_lr{lr:.0e}_a{lamda:.2f}_b{batch_size}_r{num_repeat}_ce{ce_weight}_ac{accumulation_steps}\"\n",
    "checkpoint_dir = checkpoint_base_dir / folder_name\n",
    "optimizer = optim.AdamW(model.parameters(), lr=lr, weight_decay=1e-5)\n",
    "scheduler = torch.optim.lr_scheduler.ReduceLROnPlateau(optimizer, patience=5, factor=0.5)\n",
    "# 체크포인트 디렉토리 생성\n",
    "checkpoint_dir.mkdir(parents=True, exist_ok=True)\n",
    "\n",
    "if checkpoint_dir.exists():\n",
    "    best_model_path = checkpoint_dir / 'best_model_pretrained.pt'\n",
    "    if best_model_path.exists():\n",
    "        print(f\"기존 best model 발견: {best_model_path}\")\n",
    "        try:\n",
    "            checkpoint = torch.load(best_model_path, map_location=device)\n",
    "            # 체크포인트 내부 키 검증\n",
    "            required_keys = ['model_state_dict', 'optimizer_state_dict', 'epoch', 'best_val_loss', 'best_val_fbeta_score']\n",
    "            if all(k in checkpoint for k in required_keys):\n",
    "                model.load_state_dict(checkpoint['model_state_dict'])\n",
    "                optimizer.load_state_dict(checkpoint['optimizer_state_dict'])\n",
    "                start_epoch = checkpoint['epoch']\n",
    "                best_val_loss = checkpoint['best_val_loss']\n",
    "                best_val_fbeta_score = checkpoint['best_val_fbeta_score']\n",
    "                print(\"기존 학습된 가중치를 성공적으로 로드했습니다.\")\n",
    "                checkpoint= None\n",
    "            else:\n",
    "                raise ValueError(\"체크포인트 파일에 필요한 key가 없습니다.\")\n",
    "        except Exception as e:\n",
    "            print(f\"체크포인트 파일을 로드하는 중 오류 발생: {e}\")"
   ]
  },
  {
   "cell_type": "code",
   "execution_count": 7,
   "metadata": {},
   "outputs": [
    {
     "name": "stdout",
     "output_type": "stream",
     "text": [
      "torch.Size([16, 1, 32, 96, 96]) torch.Size([16, 1, 32, 96, 96])\n"
     ]
    }
   ],
   "source": [
    "batch = next(iter(val_loader))\n",
    "images, labels = batch[\"image\"], batch[\"label\"]\n",
    "print(images.shape, labels.shape)"
   ]
  },
  {
   "cell_type": "code",
   "execution_count": 8,
   "metadata": {},
   "outputs": [],
   "source": [
    "torch.backends.cudnn.benchmark = True"
   ]
  },
  {
   "cell_type": "code",
   "execution_count": 9,
   "metadata": {},
   "outputs": [
    {
     "name": "stderr",
     "output_type": "stream",
     "text": [
      "\u001b[34m\u001b[1mwandb\u001b[0m: Using wandb-core as the SDK backend.  Please refer to https://wandb.me/wandb-core for more information.\n",
      "\u001b[34m\u001b[1mwandb\u001b[0m: Currently logged in as: \u001b[33mpook0612\u001b[0m (\u001b[33mlimbw\u001b[0m). Use \u001b[1m`wandb login --relogin`\u001b[0m to force relogin\n"
     ]
    },
    {
     "data": {
      "text/html": [
       "Tracking run with wandb version 0.19.1"
      ],
      "text/plain": [
       "<IPython.core.display.HTML object>"
      ]
     },
     "metadata": {},
     "output_type": "display_data"
    },
    {
     "data": {
      "text/html": [
       "Run data is saved locally in <code>d:\\Workspace\\czll\\wandb\\run-20250124_010043-ppp4atc2</code>"
      ],
      "text/plain": [
       "<IPython.core.display.HTML object>"
      ]
     },
     "metadata": {},
     "output_type": "display_data"
    },
    {
     "data": {
      "text/html": [
       "Syncing run <strong><a href='https://wandb.ai/limbw/czii_UNet/runs/ppp4atc2' target=\"_blank\">CBAM_CBAM_denoised_noGauss_f48_lr1e-03_a0.50_b16_r4_ce0.8_ac1</a></strong> to <a href='https://wandb.ai/limbw/czii_UNet' target=\"_blank\">Weights & Biases</a> (<a href='https://wandb.me/developer-guide' target=\"_blank\">docs</a>)<br>"
      ],
      "text/plain": [
       "<IPython.core.display.HTML object>"
      ]
     },
     "metadata": {},
     "output_type": "display_data"
    },
    {
     "data": {
      "text/html": [
       " View project at <a href='https://wandb.ai/limbw/czii_UNet' target=\"_blank\">https://wandb.ai/limbw/czii_UNet</a>"
      ],
      "text/plain": [
       "<IPython.core.display.HTML object>"
      ]
     },
     "metadata": {},
     "output_type": "display_data"
    },
    {
     "data": {
      "text/html": [
       " View run at <a href='https://wandb.ai/limbw/czii_UNet/runs/ppp4atc2' target=\"_blank\">https://wandb.ai/limbw/czii_UNet/runs/ppp4atc2</a>"
      ],
      "text/plain": [
       "<IPython.core.display.HTML object>"
      ]
     },
     "metadata": {},
     "output_type": "display_data"
    }
   ],
   "source": [
    "import wandb\n",
    "from datetime import datetime\n",
    "\n",
    "current_time = datetime.now().strftime('%Y%m%d_%H%M%S')\n",
    "run_name = folder_name\n",
    "\n",
    "# wandb 초기화\n",
    "wandb.init(\n",
    "    project='czii_UNet',  # 프로젝트 이름 설정\n",
    "    name=run_name,         # 실행(run) 이름 설정\n",
    "    config={\n",
    "        'num_epochs': num_epochs,\n",
    "        'learning_rate': lr,\n",
    "        'batch_size': batch_size,\n",
    "        'lambda': lamda,\n",
    "        \"cross_entropy_weight\": ce_weight,\n",
    "        'feature_size': feature_size,\n",
    "        'img_size': img_size,\n",
    "        'sampling_ratio': ratios_list,\n",
    "        'device': device.type,\n",
    "        \"checkpoint_dir\": str(checkpoint_dir),\n",
    "        \"class_weights\": class_weights.tolist() if class_weights is not None else None,\n",
    "        # \"use_checkpoint\": use_checkpoint,\n",
    "        \"drop_rate\": drop_rate,\n",
    "        # \"attn_drop_rate\": attn_drop_rate,\n",
    "        # \"use_v2\": use_v2,\n",
    "        \"accumulation_steps\": accumulation_steps,\n",
    "        \"num_repeat\": num_repeat,\n",
    "        # \"num_bottleneck\": num_bottleneck,\n",
    "        \n",
    "        # 필요한 하이퍼파라미터 추가\n",
    "    }\n",
    ")\n",
    "# 모델을 wandb에 연결\n",
    "wandb.watch(model, log='all')"
   ]
  },
  {
   "cell_type": "markdown",
   "metadata": {},
   "source": [
    "# 학습"
   ]
  },
  {
   "cell_type": "code",
   "execution_count": 10,
   "metadata": {},
   "outputs": [],
   "source": [
    "from monai.metrics import DiceMetric\n",
    "    \n",
    "def processing(batch_data, model, criterion, device):\n",
    "    images = batch_data['image'].to(device)  # Input 이미지 (B, 1, 96, 96, 96)\n",
    "    labels = batch_data['label'].to(device)  # 라벨 (B, 96, 96, 96)\n",
    "\n",
    "    labels = labels.squeeze(1)  # (B, 1, 96, 96, 96) → (B, 96, 96, 96)\n",
    "    labels = labels.long()  # 라벨을 정수형으로 변환\n",
    "\n",
    "    # 원핫 인코딩 (B, H, W, D) → (B, num_classes, H, W, D)\n",
    "    \n",
    "    labels_onehot = torch.nn.functional.one_hot(labels, num_classes=n_classes)\n",
    "    labels_onehot = labels_onehot.permute(0, 4, 1, 2, 3).float()  # (B, num_classes, H, W, D)\n",
    "\n",
    "    # 모델 예측\n",
    "    outputs = model(images)  # outputs: (B, num_classes, H, W, D)\n",
    "\n",
    "    # Loss 계산\n",
    "    loss = criterion(outputs, labels_onehot)\n",
    "    # loss = loss_fn(criterion(outputs, labels_onehot),class_weights=class_weights, device=device)\n",
    "    return loss, outputs, labels, outputs.argmax(dim=1)\n",
    "\n",
    "def train_one_epoch(model, train_loader, criterion, optimizer, device, epoch, accumulation_steps=4):\n",
    "    model.train()\n",
    "    epoch_loss = 0\n",
    "    optimizer.zero_grad()  # 그래디언트 초기화\n",
    "    with tqdm(train_loader, desc='Training') as pbar:\n",
    "        for i, batch_data in enumerate(pbar):\n",
    "            # 손실 계산\n",
    "            loss, _, _, _ = processing(batch_data, model, criterion, device)\n",
    "\n",
    "            # 그래디언트를 계산하고 누적\n",
    "            loss = loss / accumulation_steps  # 그래디언트 누적을 위한 스케일링\n",
    "            loss.backward()  # 그래디언트 계산 및 누적\n",
    "            \n",
    "            # 그래디언트 업데이트 (accumulation_steps마다 한 번)\n",
    "            if (i + 1) % accumulation_steps == 0 or (i + 1) == len(train_loader):\n",
    "                optimizer.step()  # 파라미터 업데이트\n",
    "                optimizer.zero_grad()  # 누적된 그래디언트 초기화\n",
    "            \n",
    "            # 손실값 누적 (스케일링 복구)\n",
    "            epoch_loss += loss.item() * accumulation_steps  # 실제 손실값 반영\n",
    "            pbar.set_postfix(loss=loss.item() * accumulation_steps)  # 실제 손실값 출력\n",
    "    avg_loss = epoch_loss / len(train_loader)\n",
    "    wandb.log({'train_epoch_loss': avg_loss, 'epoch': epoch + 1})\n",
    "    return avg_loss\n",
    "\n",
    "\n",
    "def validate_one_epoch(model, val_loader, criterion, device, epoch, calculate_dice_interval, ce_weight):\n",
    "    model.eval()\n",
    "    val_loss = 0\n",
    "    \n",
    "    class_dice_scores = {i: [] for i in range(n_classes)}\n",
    "    class_f_beta_scores = {i: [] for i in range(n_classes)}\n",
    "    class_mIoU_scores = {i: [] for i in range(n_classes)}\n",
    "    with torch.no_grad():\n",
    "        with tqdm(val_loader, desc='Validation') as pbar:\n",
    "            for batch_data in pbar:\n",
    "                loss, _, labels, preds = processing(batch_data, model, criterion, device)\n",
    "                val_loss += loss.item()\n",
    "                pbar.set_postfix(loss=loss.item())\n",
    "\n",
    "                # 각 클래스별 Dice 점수 계산\n",
    "                if epoch % calculate_dice_interval == 0:\n",
    "                    for i in range(n_classes):\n",
    "                        pred_i = (preds == i)\n",
    "                        label_i = (labels == i)\n",
    "                        dice_score = (2.0 * torch.sum(pred_i & label_i)) / (torch.sum(pred_i) + torch.sum(label_i) + 1e-8)\n",
    "                        class_dice_scores[i].append(dice_score.item())\n",
    "                        precision = (torch.sum(pred_i & label_i) + 1e-8) / (torch.sum(pred_i) + 1e-8)\n",
    "                        recall = (torch.sum(pred_i & label_i) + 1e-8) / (torch.sum(label_i) + 1e-8)\n",
    "                        f_beta_score = (1 + 4**2) * (precision * recall) / (4**2 * precision + recall + 1e-8)\n",
    "                        class_f_beta_scores[i].append(f_beta_score.item())\n",
    "                        intersection = torch.sum(pred_i & label_i).float()\n",
    "                        union = torch.sum(pred_i | label_i).float()\n",
    "                        iou = (intersection + 1e-8) / (union + 1e-8)\n",
    "                        class_mIoU_scores[i].append(iou.item())\n",
    "\n",
    "    avg_loss = val_loss / len(val_loader)\n",
    "    # 에포크별 평균 손실 로깅\n",
    "    wandb.log({'val_epoch_loss': avg_loss, 'epoch': epoch + 1})\n",
    "    \n",
    "    # 각 클래스별 평균 Dice 점수 출력\n",
    "    if epoch % calculate_dice_interval == 0:\n",
    "        print(\"Validation Dice Score\")\n",
    "        all_classes_dice_scores = []\n",
    "        for i in range(n_classes):\n",
    "            mean_dice = np.mean(class_dice_scores[i])\n",
    "            wandb.log({f'class_{i}_dice_score': mean_dice, 'epoch': epoch + 1})\n",
    "            print(f\"Class {i}: {mean_dice:.4f}\", end=\", \")\n",
    "            if i not in [0, 2]:  # 평균에 포함할 클래스만 추가\n",
    "                all_classes_dice_scores.append(mean_dice)\n",
    "            \n",
    "        print()\n",
    "    if epoch % calculate_dice_interval == 0:\n",
    "        print(\"Validation F-beta Score\")\n",
    "        all_classes_fbeta_scores = []\n",
    "        for i in range(n_classes):\n",
    "            mean_fbeta = np.mean(class_f_beta_scores[i])\n",
    "            wandb.log({f'class_{i}_f_beta_score': mean_fbeta, 'epoch': epoch + 1})\n",
    "            print(f\"Class {i}: {mean_fbeta:.4f}\", end=\", \")\n",
    "            if i not in [0, 2]:  # 평균에 포함할 클래스만 추가\n",
    "                all_classes_fbeta_scores.append(mean_fbeta)\n",
    "               \n",
    "        print() \n",
    "    if epoch % calculate_dice_interval == 0:\n",
    "        print(\"Validation mIoU Score\")\n",
    "        all_classes_mIoU_scores = []\n",
    "        for i in range(n_classes):\n",
    "            mean_IoU = np.mean(class_mIoU_scores[i])\n",
    "            wandb.log({f'class_{i}_IoU_score': mean_fbeta, 'epoch': epoch + 1})\n",
    "            print(f\"Class {i}: {mean_IoU:.4f}\", end=\", \")\n",
    "            if i not in [0, 2]:  # 평균에 포함할 클래스만 추가\n",
    "                all_classes_mIoU_scores.append(mean_IoU)\n",
    "                \n",
    "        print()\n",
    "        overall_mean_dice = np.mean(all_classes_dice_scores)\n",
    "        overall_mean_fbeta = np.mean(all_classes_fbeta_scores)\n",
    "        overall_mean_IoU = np.mean(all_classes_mIoU_scores)\n",
    "        final_score = overall_mean_fbeta * (1 - ce_weight) + overall_mean_IoU * ce_weight\n",
    "        wandb.log({'overall_mean_f_beta_score': overall_mean_fbeta, 'overall_mean_dice_score': overall_mean_dice, 'epoch': epoch + 1, 'overall_mean_IoU_score': overall_mean_IoU, 'final_score': final_score})  \n",
    "        print(f\"\\nOverall Mean Dice Score: {overall_mean_dice:.4f}\\nOverall Mean F-beta Score: {overall_mean_fbeta:.4f}\\nOverall Mean IoU Score: {overall_mean_IoU:.4f}\\nFinal_score: {final_score:.4f}\")\n",
    "\n",
    "    if overall_mean_fbeta is None:\n",
    "        overall_mean_fbeta = 0\n",
    "\n",
    "    \n",
    "    \n",
    "    return val_loss / len(val_loader), final_score \n",
    "\n",
    "def train_model(\n",
    "    model, train_loader, val_loader, criterion, optimizer, num_epochs, patience, \n",
    "    device, start_epoch, best_val_loss, best_val_fbeta_score, calculate_dice_interval=1,\n",
    "    accumulation_steps=4, pretrained=False\n",
    "):\n",
    "    \"\"\"\n",
    "    모델을 학습하고 검증하는 함수\n",
    "    Args:\n",
    "        model: 학습할 모델\n",
    "        train_loader: 학습 데이터 로더\n",
    "        val_loader: 검증 데이터 로더\n",
    "        criterion: 손실 함수\n",
    "        optimizer: 최적화 알고리즘\n",
    "        num_epochs: 총 학습 epoch 수\n",
    "        patience: early stopping 기준\n",
    "        device: GPU/CPU 장치\n",
    "        start_epoch: 시작 epoch\n",
    "        best_val_loss: 이전 최적 validation loss\n",
    "        best_val_fbeta_score: 이전 최적 validation f-beta score\n",
    "        calculate_dice_interval: Dice 점수 계산 주기\n",
    "    \"\"\"\n",
    "    epochs_no_improve = 0\n",
    "\n",
    "    for epoch in range(start_epoch, num_epochs):\n",
    "        print(f\"Epoch {epoch + 1}/{num_epochs}\")\n",
    "\n",
    "        # Train One Epoch\n",
    "        train_loss = train_one_epoch(\n",
    "            model=model, \n",
    "            train_loader=train_loader, \n",
    "            criterion=criterion, \n",
    "            optimizer=optimizer, \n",
    "            device=device,\n",
    "            epoch=epoch,\n",
    "            accumulation_steps= accumulation_steps\n",
    "        )\n",
    "        \n",
    "        scheduler.step(train_loss)\n",
    "        # Validate One Epoch\n",
    "        val_loss, overall_mean_fbeta_score = validate_one_epoch(\n",
    "            model=model, \n",
    "            val_loader=val_loader, \n",
    "            criterion=criterion, \n",
    "            device=device, \n",
    "            epoch=epoch, \n",
    "            calculate_dice_interval=calculate_dice_interval,\n",
    "            ce_weight = ce_weight\n",
    "        )\n",
    "\n",
    "        \n",
    "        print(f\"Training Loss: {train_loss:.4f}, Validation Loss: {val_loss:.4f}, Validation hybrid_score: {overall_mean_fbeta_score:.4f}\")\n",
    "\n",
    "        if val_loss < best_val_loss and overall_mean_fbeta_score > best_val_fbeta_score:\n",
    "            best_val_loss = val_loss\n",
    "            best_val_fbeta_score = overall_mean_fbeta_score\n",
    "            epochs_no_improve = 0\n",
    "            if pretrained:\n",
    "                checkpoint_path = os.path.join(checkpoint_dir, 'best_model_pretrained.pt')\n",
    "            else:\n",
    "                checkpoint_path = os.path.join(checkpoint_dir, 'best_model.pt')\n",
    "            torch.save({\n",
    "                'epoch': epoch + 1,\n",
    "                'model_state_dict': model.state_dict(),\n",
    "                'optimizer_state_dict': optimizer.state_dict(),\n",
    "                'best_val_loss': best_val_loss,\n",
    "                'best_val_fbeta_score': best_val_fbeta_score\n",
    "            }, checkpoint_path)\n",
    "            print(f\"========================================================\")\n",
    "            print(f\"SUPER Best model saved. Loss:{best_val_loss:.4f}, Score:{best_val_fbeta_score:.4f}\")\n",
    "            print(f\"========================================================\")\n",
    "\n",
    "        # Early stopping 조건 체크\n",
    "        if val_loss >= best_val_loss and overall_mean_fbeta_score <= best_val_fbeta_score:\n",
    "            epochs_no_improve += 1\n",
    "        else:\n",
    "            epochs_no_improve = 0\n",
    "\n",
    "        if epochs_no_improve >= patience:\n",
    "            print(\"Early stopping\")\n",
    "            checkpoint_path = os.path.join(checkpoint_dir, 'last.pt')\n",
    "            torch.save({\n",
    "                'epoch': epoch + 1,\n",
    "                'model_state_dict': model.state_dict(),\n",
    "                'optimizer_state_dict': optimizer.state_dict(),\n",
    "                'best_val_loss': best_val_loss,\n",
    "                'best_val_fbeta_score': best_val_fbeta_score\n",
    "            }, checkpoint_path)\n",
    "            break\n",
    "        # if epochs_no_improve % 6 == 0 & epochs_no_improve != 0:\n",
    "        #     # 손실이 개선되지 않았으므로 lambda 감소\n",
    "        #     new_lamda = max(criterion.lamda - 0.01, 0.35)  # 최소값은 0.1로 설정\n",
    "        #     criterion.set_lamda(new_lamda)\n",
    "        #     print(f\"Validation loss did not improve. Reducing lambda to {new_lamda:.4f}\")\n",
    "\n",
    "    wandb.finish()\n"
   ]
  },
  {
   "cell_type": "code",
   "execution_count": 11,
   "metadata": {},
   "outputs": [
    {
     "name": "stdout",
     "output_type": "stream",
     "text": [
      "Epoch 1/4000\n"
     ]
    },
    {
     "name": "stderr",
     "output_type": "stream",
     "text": [
      "Training: 100%|██████████| 132/132 [01:41<00:00,  1.30it/s, loss=0.32] \n",
      "Validation: 100%|██████████| 4/4 [00:02<00:00,  1.96it/s, loss=0.342]\n"
     ]
    },
    {
     "name": "stdout",
     "output_type": "stream",
     "text": [
      "Validation Dice Score\n",
      "Class 0: 0.9836, Class 1: 0.0000, Class 2: 0.0000, Class 3: 0.0000, Class 4: 0.1615, Class 5: 0.0001, Class 6: 0.0003, \n",
      "Validation F-beta Score\n",
      "Class 0: 0.9972, Class 1: 0.0000, Class 2: 0.0000, Class 3: 0.0000, Class 4: 0.1069, Class 5: 0.0001, Class 6: 0.0002, \n",
      "Validation mIoU Score\n",
      "Class 0: 0.9677, Class 1: 0.0000, Class 2: 0.0000, Class 3: 0.0000, Class 4: 0.0892, Class 5: 0.0001, Class 6: 0.0002, \n",
      "\n",
      "Overall Mean Dice Score: 0.0324\n",
      "Overall Mean F-beta Score: 0.0214\n",
      "Overall Mean IoU Score: 0.0179\n",
      "Final_score: 0.0186\n",
      "Training Loss: 0.7077, Validation Loss: 0.3285, Validation hybrid_score: 0.0186\n",
      "========================================================\n",
      "SUPER Best model saved. Loss:0.3285, Score:0.0186\n",
      "========================================================\n",
      "Epoch 2/4000\n"
     ]
    },
    {
     "name": "stderr",
     "output_type": "stream",
     "text": [
      "Training: 100%|██████████| 132/132 [01:23<00:00,  1.59it/s, loss=0.262]\n",
      "Validation: 100%|██████████| 4/4 [00:01<00:00,  2.13it/s, loss=0.268]\n"
     ]
    },
    {
     "name": "stdout",
     "output_type": "stream",
     "text": [
      "Validation Dice Score\n",
      "Class 0: 0.9819, Class 1: 0.0000, Class 2: 0.0000, Class 3: 0.0000, Class 4: 0.2319, Class 5: 0.0002, Class 6: 0.0690, \n",
      "Validation F-beta Score\n",
      "Class 0: 0.9962, Class 1: 0.0000, Class 2: 0.0000, Class 3: 0.0000, Class 4: 0.1610, Class 5: 0.0001, Class 6: 0.0384, \n",
      "Validation mIoU Score\n",
      "Class 0: 0.9645, Class 1: 0.0000, Class 2: 0.0000, Class 3: 0.0000, Class 4: 0.1316, Class 5: 0.0001, Class 6: 0.0358, \n",
      "\n",
      "Overall Mean Dice Score: 0.0602\n",
      "Overall Mean F-beta Score: 0.0399\n",
      "Overall Mean IoU Score: 0.0335\n",
      "Final_score: 0.0348\n",
      "Training Loss: 0.3022, Validation Loss: 0.2907, Validation hybrid_score: 0.0348\n",
      "========================================================\n",
      "SUPER Best model saved. Loss:0.2907, Score:0.0348\n",
      "========================================================\n",
      "Epoch 3/4000\n"
     ]
    },
    {
     "name": "stderr",
     "output_type": "stream",
     "text": [
      "Training: 100%|██████████| 132/132 [01:23<00:00,  1.59it/s, loss=0.253]\n",
      "Validation: 100%|██████████| 4/4 [00:02<00:00,  1.90it/s, loss=0.285]\n"
     ]
    },
    {
     "name": "stdout",
     "output_type": "stream",
     "text": [
      "Validation Dice Score\n",
      "Class 0: 0.9852, Class 1: 0.0000, Class 2: 0.0000, Class 3: 0.0000, Class 4: 0.4005, Class 5: 0.0006, Class 6: 0.4330, \n",
      "Validation F-beta Score\n",
      "Class 0: 0.9945, Class 1: 0.0000, Class 2: 0.0000, Class 3: 0.0000, Class 4: 0.3663, Class 5: 0.0003, Class 6: 0.3457, \n",
      "Validation mIoU Score\n",
      "Class 0: 0.9709, Class 1: 0.0000, Class 2: 0.0000, Class 3: 0.0000, Class 4: 0.2508, Class 5: 0.0003, Class 6: 0.2794, \n",
      "\n",
      "Overall Mean Dice Score: 0.1668\n",
      "Overall Mean F-beta Score: 0.1425\n",
      "Overall Mean IoU Score: 0.1061\n",
      "Final_score: 0.1134\n",
      "Training Loss: 0.2711, Validation Loss: 0.2676, Validation hybrid_score: 0.1134\n",
      "========================================================\n",
      "SUPER Best model saved. Loss:0.2676, Score:0.1134\n",
      "========================================================\n",
      "Epoch 4/4000\n"
     ]
    },
    {
     "name": "stderr",
     "output_type": "stream",
     "text": [
      "Training: 100%|██████████| 132/132 [01:26<00:00,  1.52it/s, loss=0.261]\n",
      "Validation: 100%|██████████| 4/4 [00:01<00:00,  2.12it/s, loss=0.256]\n"
     ]
    },
    {
     "name": "stdout",
     "output_type": "stream",
     "text": [
      "Validation Dice Score\n",
      "Class 0: 0.9845, Class 1: 0.0000, Class 2: 0.0000, Class 3: 0.0588, Class 4: 0.4565, Class 5: 0.0994, Class 6: 0.5808, \n",
      "Validation F-beta Score\n",
      "Class 0: 0.9945, Class 1: 0.0000, Class 2: 0.0000, Class 3: 0.0371, Class 4: 0.3696, Class 5: 0.0611, Class 6: 0.5027, \n",
      "Validation mIoU Score\n",
      "Class 0: 0.9694, Class 1: 0.0000, Class 2: 0.0000, Class 3: 0.0304, Class 4: 0.2960, Class 5: 0.0524, Class 6: 0.4117, \n",
      "\n",
      "Overall Mean Dice Score: 0.2391\n",
      "Overall Mean F-beta Score: 0.1941\n",
      "Overall Mean IoU Score: 0.1581\n",
      "Final_score: 0.1653\n",
      "Training Loss: 0.2561, Validation Loss: 0.2585, Validation hybrid_score: 0.1653\n",
      "========================================================\n",
      "SUPER Best model saved. Loss:0.2585, Score:0.1653\n",
      "========================================================\n",
      "Epoch 5/4000\n"
     ]
    },
    {
     "name": "stderr",
     "output_type": "stream",
     "text": [
      "Training: 100%|██████████| 132/132 [01:23<00:00,  1.57it/s, loss=0.217]\n",
      "Validation: 100%|██████████| 4/4 [00:01<00:00,  2.14it/s, loss=0.238]\n"
     ]
    },
    {
     "name": "stdout",
     "output_type": "stream",
     "text": [
      "Validation Dice Score\n",
      "Class 0: 0.9866, Class 1: 0.0056, Class 2: 0.0000, Class 3: 0.1394, Class 4: 0.6043, Class 5: 0.1997, Class 6: 0.7903, \n",
      "Validation F-beta Score\n",
      "Class 0: 0.9911, Class 1: 0.0032, Class 2: 0.0000, Class 3: 0.1156, Class 4: 0.5546, Class 5: 0.1661, Class 6: 0.7299, \n",
      "Validation mIoU Score\n",
      "Class 0: 0.9736, Class 1: 0.0028, Class 2: 0.0000, Class 3: 0.0756, Class 4: 0.4337, Class 5: 0.1117, Class 6: 0.6537, \n",
      "\n",
      "Overall Mean Dice Score: 0.3479\n",
      "Overall Mean F-beta Score: 0.3139\n",
      "Overall Mean IoU Score: 0.2555\n",
      "Final_score: 0.2672\n",
      "Training Loss: 0.2369, Validation Loss: 0.2349, Validation hybrid_score: 0.2672\n",
      "========================================================\n",
      "SUPER Best model saved. Loss:0.2349, Score:0.2672\n",
      "========================================================\n",
      "Epoch 6/4000\n"
     ]
    },
    {
     "name": "stderr",
     "output_type": "stream",
     "text": [
      "Training: 100%|██████████| 132/132 [01:23<00:00,  1.59it/s, loss=0.198]\n",
      "Validation: 100%|██████████| 4/4 [00:01<00:00,  2.10it/s, loss=0.222]\n"
     ]
    },
    {
     "name": "stdout",
     "output_type": "stream",
     "text": [
      "Validation Dice Score\n",
      "Class 0: 0.9871, Class 1: 0.0007, Class 2: 0.0000, Class 3: 0.2384, Class 4: 0.5343, Class 5: 0.0597, Class 6: 0.8477, \n",
      "Validation F-beta Score\n",
      "Class 0: 0.9949, Class 1: 0.0004, Class 2: 0.0000, Class 3: 0.2006, Class 4: 0.4571, Class 5: 0.0350, Class 6: 0.7888, \n",
      "Validation mIoU Score\n",
      "Class 0: 0.9746, Class 1: 0.0004, Class 2: 0.0000, Class 3: 0.1370, Class 4: 0.3652, Class 5: 0.0310, Class 6: 0.7359, \n",
      "\n",
      "Overall Mean Dice Score: 0.3362\n",
      "Overall Mean F-beta Score: 0.2964\n",
      "Overall Mean IoU Score: 0.2539\n",
      "Final_score: 0.2624\n",
      "Training Loss: 0.2234, Validation Loss: 0.2270, Validation hybrid_score: 0.2624\n",
      "Epoch 7/4000\n"
     ]
    },
    {
     "name": "stderr",
     "output_type": "stream",
     "text": [
      "Training: 100%|██████████| 132/132 [01:23<00:00,  1.59it/s, loss=0.201]\n",
      "Validation: 100%|██████████| 4/4 [00:01<00:00,  2.05it/s, loss=0.226]\n"
     ]
    },
    {
     "name": "stdout",
     "output_type": "stream",
     "text": [
      "Validation Dice Score\n",
      "Class 0: 0.9878, Class 1: 0.0422, Class 2: 0.0001, Class 3: 0.1113, Class 4: 0.5597, Class 5: 0.0294, Class 6: 0.8286, \n",
      "Validation F-beta Score\n",
      "Class 0: 0.9970, Class 1: 0.0289, Class 2: 0.0001, Class 3: 0.1006, Class 4: 0.4254, Class 5: 0.0162, Class 6: 0.7632, \n",
      "Validation mIoU Score\n",
      "Class 0: 0.9758, Class 1: 0.0217, Class 2: 0.0001, Class 3: 0.0594, Class 4: 0.3912, Class 5: 0.0150, Class 6: 0.7077, \n",
      "\n",
      "Overall Mean Dice Score: 0.3142\n",
      "Overall Mean F-beta Score: 0.2669\n",
      "Overall Mean IoU Score: 0.2390\n",
      "Final_score: 0.2446\n",
      "Training Loss: 0.2156, Validation Loss: 0.2264, Validation hybrid_score: 0.2446\n",
      "Epoch 8/4000\n"
     ]
    },
    {
     "name": "stderr",
     "output_type": "stream",
     "text": [
      "Training: 100%|██████████| 132/132 [01:26<00:00,  1.53it/s, loss=0.206]\n",
      "Validation: 100%|██████████| 4/4 [00:01<00:00,  2.09it/s, loss=0.226]\n"
     ]
    },
    {
     "name": "stdout",
     "output_type": "stream",
     "text": [
      "Validation Dice Score\n",
      "Class 0: 0.9863, Class 1: 0.1600, Class 2: 0.0018, Class 3: 0.1688, Class 4: 0.5722, Class 5: 0.2189, Class 6: 0.8349, \n",
      "Validation F-beta Score\n",
      "Class 0: 0.9931, Class 1: 0.1163, Class 2: 0.0010, Class 3: 0.2089, Class 4: 0.4967, Class 5: 0.1497, Class 6: 0.7493, \n",
      "Validation mIoU Score\n",
      "Class 0: 0.9730, Class 1: 0.0876, Class 2: 0.0009, Class 3: 0.0938, Class 4: 0.4017, Class 5: 0.1230, Class 6: 0.7167, \n",
      "\n",
      "Overall Mean Dice Score: 0.3910\n",
      "Overall Mean F-beta Score: 0.3442\n",
      "Overall Mean IoU Score: 0.2846\n",
      "Final_score: 0.2965\n",
      "Training Loss: 0.2102, Validation Loss: 0.2233, Validation hybrid_score: 0.2965\n",
      "========================================================\n",
      "SUPER Best model saved. Loss:0.2233, Score:0.2965\n",
      "========================================================\n",
      "Epoch 9/4000\n"
     ]
    },
    {
     "name": "stderr",
     "output_type": "stream",
     "text": [
      "Training: 100%|██████████| 132/132 [01:22<00:00,  1.59it/s, loss=0.185]\n",
      "Validation: 100%|██████████| 4/4 [00:01<00:00,  2.11it/s, loss=0.25] \n"
     ]
    },
    {
     "name": "stdout",
     "output_type": "stream",
     "text": [
      "Validation Dice Score\n",
      "Class 0: 0.9868, Class 1: 0.2654, Class 2: 0.0010, Class 3: 0.2811, Class 4: 0.6464, Class 5: 0.0779, Class 6: 0.8078, \n",
      "Validation F-beta Score\n",
      "Class 0: 0.9940, Class 1: 0.3607, Class 2: 0.0005, Class 3: 0.2486, Class 4: 0.5500, Class 5: 0.0470, Class 6: 0.7455, \n",
      "Validation mIoU Score\n",
      "Class 0: 0.9740, Class 1: 0.1563, Class 2: 0.0005, Class 3: 0.1649, Class 4: 0.4814, Class 5: 0.0408, Class 6: 0.6871, \n",
      "\n",
      "Overall Mean Dice Score: 0.4157\n",
      "Overall Mean F-beta Score: 0.3904\n",
      "Overall Mean IoU Score: 0.3061\n",
      "Final_score: 0.3230\n",
      "Training Loss: 0.2079, Validation Loss: 0.2216, Validation hybrid_score: 0.3230\n",
      "========================================================\n",
      "SUPER Best model saved. Loss:0.2216, Score:0.3230\n",
      "========================================================\n",
      "Epoch 10/4000\n"
     ]
    },
    {
     "name": "stderr",
     "output_type": "stream",
     "text": [
      "Training: 100%|██████████| 132/132 [01:23<00:00,  1.58it/s, loss=0.201]\n",
      "Validation: 100%|██████████| 4/4 [00:01<00:00,  2.13it/s, loss=0.235]\n"
     ]
    },
    {
     "name": "stdout",
     "output_type": "stream",
     "text": [
      "Validation Dice Score\n",
      "Class 0: 0.9863, Class 1: 0.2590, Class 2: 0.0158, Class 3: 0.2722, Class 4: 0.6204, Class 5: 0.0635, Class 6: 0.8658, \n",
      "Validation F-beta Score\n",
      "Class 0: 0.9950, Class 1: 0.4022, Class 2: 0.0095, Class 3: 0.2873, Class 4: 0.4995, Class 5: 0.0363, Class 6: 0.8039, \n",
      "Validation mIoU Score\n",
      "Class 0: 0.9730, Class 1: 0.1541, Class 2: 0.0080, Class 3: 0.1585, Class 4: 0.4531, Class 5: 0.0328, Class 6: 0.7638, \n",
      "\n",
      "Overall Mean Dice Score: 0.4162\n",
      "Overall Mean F-beta Score: 0.4058\n",
      "Overall Mean IoU Score: 0.3125\n",
      "Final_score: 0.3311\n",
      "Training Loss: 0.2026, Validation Loss: 0.2242, Validation hybrid_score: 0.3311\n",
      "Epoch 11/4000\n"
     ]
    },
    {
     "name": "stderr",
     "output_type": "stream",
     "text": [
      "Training: 100%|██████████| 132/132 [01:24<00:00,  1.57it/s, loss=0.185]\n",
      "Validation: 100%|██████████| 4/4 [00:01<00:00,  2.08it/s, loss=0.192]\n"
     ]
    },
    {
     "name": "stdout",
     "output_type": "stream",
     "text": [
      "Validation Dice Score\n",
      "Class 0: 0.9877, Class 1: 0.2817, Class 2: 0.0259, Class 3: 0.1905, Class 4: 0.6125, Class 5: 0.2272, Class 6: 0.8939, \n",
      "Validation F-beta Score\n",
      "Class 0: 0.9940, Class 1: 0.3340, Class 2: 0.0181, Class 3: 0.1937, Class 4: 0.5350, Class 5: 0.1511, Class 6: 0.8476, \n",
      "Validation mIoU Score\n",
      "Class 0: 0.9757, Class 1: 0.1698, Class 2: 0.0133, Class 3: 0.1082, Class 4: 0.4428, Class 5: 0.1287, Class 6: 0.8087, \n",
      "\n",
      "Overall Mean Dice Score: 0.4412\n",
      "Overall Mean F-beta Score: 0.4123\n",
      "Overall Mean IoU Score: 0.3317\n",
      "Final_score: 0.3478\n",
      "Training Loss: 0.1986, Validation Loss: 0.2111, Validation hybrid_score: 0.3478\n",
      "========================================================\n",
      "SUPER Best model saved. Loss:0.2111, Score:0.3478\n",
      "========================================================\n",
      "Epoch 12/4000\n"
     ]
    },
    {
     "name": "stderr",
     "output_type": "stream",
     "text": [
      "Training: 100%|██████████| 132/132 [01:24<00:00,  1.56it/s, loss=0.182]\n",
      "Validation: 100%|██████████| 4/4 [00:01<00:00,  2.08it/s, loss=0.214]\n"
     ]
    },
    {
     "name": "stdout",
     "output_type": "stream",
     "text": [
      "Validation Dice Score\n",
      "Class 0: 0.9883, Class 1: 0.4565, Class 2: 0.0233, Class 3: 0.3288, Class 4: 0.6212, Class 5: 0.2391, Class 6: 0.9067, \n",
      "Validation F-beta Score\n",
      "Class 0: 0.9908, Class 1: 0.5439, Class 2: 0.0142, Class 3: 0.3778, Class 4: 0.6340, Class 5: 0.1682, Class 6: 0.9230, \n",
      "Validation mIoU Score\n",
      "Class 0: 0.9770, Class 1: 0.2974, Class 2: 0.0118, Class 3: 0.1981, Class 4: 0.4523, Class 5: 0.1365, Class 6: 0.8299, \n",
      "\n",
      "Overall Mean Dice Score: 0.5105\n",
      "Overall Mean F-beta Score: 0.5294\n",
      "Overall Mean IoU Score: 0.3829\n",
      "Final_score: 0.4122\n",
      "Training Loss: 0.1960, Validation Loss: 0.2077, Validation hybrid_score: 0.4122\n",
      "========================================================\n",
      "SUPER Best model saved. Loss:0.2077, Score:0.4122\n",
      "========================================================\n",
      "Epoch 13/4000\n"
     ]
    },
    {
     "name": "stderr",
     "output_type": "stream",
     "text": [
      "Training: 100%|██████████| 132/132 [01:24<00:00,  1.57it/s, loss=0.205]\n",
      "Validation: 100%|██████████| 4/4 [00:01<00:00,  2.15it/s, loss=0.208]\n"
     ]
    },
    {
     "name": "stdout",
     "output_type": "stream",
     "text": [
      "Validation Dice Score\n",
      "Class 0: 0.9878, Class 1: 0.3409, Class 2: 0.0390, Class 3: 0.2962, Class 4: 0.5169, Class 5: 0.0578, Class 6: 0.8461, \n",
      "Validation F-beta Score\n",
      "Class 0: 0.9936, Class 1: 0.4211, Class 2: 0.0333, Class 3: 0.4010, Class 4: 0.4017, Class 5: 0.0328, Class 6: 0.8797, \n",
      "Validation mIoU Score\n",
      "Class 0: 0.9759, Class 1: 0.2247, Class 2: 0.0200, Class 3: 0.1751, Class 4: 0.3499, Class 5: 0.0299, Class 6: 0.7366, \n",
      "\n",
      "Overall Mean Dice Score: 0.4116\n",
      "Overall Mean F-beta Score: 0.4273\n",
      "Overall Mean IoU Score: 0.3032\n",
      "Final_score: 0.3280\n",
      "Training Loss: 0.1952, Validation Loss: 0.2150, Validation hybrid_score: 0.3280\n",
      "Epoch 14/4000\n"
     ]
    },
    {
     "name": "stderr",
     "output_type": "stream",
     "text": [
      "Training: 100%|██████████| 132/132 [01:22<00:00,  1.59it/s, loss=0.185]\n",
      "Validation: 100%|██████████| 4/4 [00:01<00:00,  2.14it/s, loss=0.221]\n"
     ]
    },
    {
     "name": "stdout",
     "output_type": "stream",
     "text": [
      "Validation Dice Score\n",
      "Class 0: 0.9851, Class 1: 0.4850, Class 2: 0.0445, Class 3: 0.3289, Class 4: 0.6345, Class 5: 0.1799, Class 6: 0.8799, \n",
      "Validation F-beta Score\n",
      "Class 0: 0.9920, Class 1: 0.5593, Class 2: 0.0286, Class 3: 0.4038, Class 4: 0.5503, Class 5: 0.1208, Class 6: 0.8845, \n",
      "Validation mIoU Score\n",
      "Class 0: 0.9706, Class 1: 0.3208, Class 2: 0.0230, Class 3: 0.1975, Class 4: 0.4650, Class 5: 0.1002, Class 6: 0.7866, \n",
      "\n",
      "Overall Mean Dice Score: 0.5016\n",
      "Overall Mean F-beta Score: 0.5037\n",
      "Overall Mean IoU Score: 0.3740\n",
      "Final_score: 0.4000\n",
      "Training Loss: 0.1957, Validation Loss: 0.2236, Validation hybrid_score: 0.4000\n",
      "Epoch 15/4000\n"
     ]
    },
    {
     "name": "stderr",
     "output_type": "stream",
     "text": [
      "Training: 100%|██████████| 132/132 [01:22<00:00,  1.61it/s, loss=0.183]\n",
      "Validation: 100%|██████████| 4/4 [00:01<00:00,  2.14it/s, loss=0.219]\n"
     ]
    },
    {
     "name": "stdout",
     "output_type": "stream",
     "text": [
      "Validation Dice Score\n",
      "Class 0: 0.9867, Class 1: 0.4839, Class 2: 0.0337, Class 3: 0.2266, Class 4: 0.6680, Class 5: 0.2264, Class 6: 0.8852, \n",
      "Validation F-beta Score\n",
      "Class 0: 0.9898, Class 1: 0.5970, Class 2: 0.0223, Class 3: 0.3657, Class 4: 0.6148, Class 5: 0.1627, Class 6: 0.8799, \n",
      "Validation mIoU Score\n",
      "Class 0: 0.9738, Class 1: 0.3195, Class 2: 0.0175, Class 3: 0.1285, Class 4: 0.5017, Class 5: 0.1277, Class 6: 0.7945, \n",
      "\n",
      "Overall Mean Dice Score: 0.4980\n",
      "Overall Mean F-beta Score: 0.5240\n",
      "Overall Mean IoU Score: 0.3744\n",
      "Final_score: 0.4043\n",
      "Training Loss: 0.1911, Validation Loss: 0.2120, Validation hybrid_score: 0.4043\n",
      "Epoch 16/4000\n"
     ]
    },
    {
     "name": "stderr",
     "output_type": "stream",
     "text": [
      "Training: 100%|██████████| 132/132 [01:21<00:00,  1.62it/s, loss=0.183]\n",
      "Validation: 100%|██████████| 4/4 [00:01<00:00,  2.16it/s, loss=0.223]\n"
     ]
    },
    {
     "name": "stdout",
     "output_type": "stream",
     "text": [
      "Validation Dice Score\n",
      "Class 0: 0.9864, Class 1: 0.5184, Class 2: 0.0280, Class 3: 0.2345, Class 4: 0.6892, Class 5: 0.3178, Class 6: 0.8846, \n",
      "Validation F-beta Score\n",
      "Class 0: 0.9901, Class 1: 0.6025, Class 2: 0.0173, Class 3: 0.3433, Class 4: 0.6427, Class 5: 0.2378, Class 6: 0.8948, \n",
      "Validation mIoU Score\n",
      "Class 0: 0.9732, Class 1: 0.3651, Class 2: 0.0145, Class 3: 0.1348, Class 4: 0.5272, Class 5: 0.1907, Class 6: 0.7932, \n",
      "\n",
      "Overall Mean Dice Score: 0.5289\n",
      "Overall Mean F-beta Score: 0.5442\n",
      "Overall Mean IoU Score: 0.4022\n",
      "Final_score: 0.4306\n",
      "Training Loss: 0.1918, Validation Loss: 0.2102, Validation hybrid_score: 0.4306\n",
      "Epoch 17/4000\n"
     ]
    },
    {
     "name": "stderr",
     "output_type": "stream",
     "text": [
      "Training: 100%|██████████| 132/132 [01:22<00:00,  1.61it/s, loss=0.183]\n",
      "Validation: 100%|██████████| 4/4 [00:01<00:00,  2.08it/s, loss=0.21] \n"
     ]
    },
    {
     "name": "stdout",
     "output_type": "stream",
     "text": [
      "Validation Dice Score\n",
      "Class 0: 0.9882, Class 1: 0.5110, Class 2: 0.0850, Class 3: 0.3397, Class 4: 0.6884, Class 5: 0.2625, Class 6: 0.8824, \n",
      "Validation F-beta Score\n",
      "Class 0: 0.9901, Class 1: 0.6721, Class 2: 0.0598, Class 3: 0.3471, Class 4: 0.7488, Class 5: 0.1810, Class 6: 0.8644, \n",
      "Validation mIoU Score\n",
      "Class 0: 0.9767, Class 1: 0.3438, Class 2: 0.0447, Class 3: 0.2050, Class 4: 0.5275, Class 5: 0.1511, Class 6: 0.7898, \n",
      "\n",
      "Overall Mean Dice Score: 0.5368\n",
      "Overall Mean F-beta Score: 0.5627\n",
      "Overall Mean IoU Score: 0.4034\n",
      "Final_score: 0.4353\n",
      "Training Loss: 0.1914, Validation Loss: 0.2033, Validation hybrid_score: 0.4353\n",
      "========================================================\n",
      "SUPER Best model saved. Loss:0.2033, Score:0.4353\n",
      "========================================================\n",
      "Epoch 18/4000\n"
     ]
    },
    {
     "name": "stderr",
     "output_type": "stream",
     "text": [
      "Training: 100%|██████████| 132/132 [01:21<00:00,  1.62it/s, loss=0.174]\n",
      "Validation: 100%|██████████| 4/4 [00:01<00:00,  2.12it/s, loss=0.198]\n"
     ]
    },
    {
     "name": "stdout",
     "output_type": "stream",
     "text": [
      "Validation Dice Score\n",
      "Class 0: 0.9893, Class 1: 0.5461, Class 2: 0.0860, Class 3: 0.2988, Class 4: 0.6906, Class 5: 0.2852, Class 6: 0.8906, \n",
      "Validation F-beta Score\n",
      "Class 0: 0.9919, Class 1: 0.6640, Class 2: 0.0547, Class 3: 0.3628, Class 4: 0.6640, Class 5: 0.2095, Class 6: 0.8789, \n",
      "Validation mIoU Score\n",
      "Class 0: 0.9787, Class 1: 0.3843, Class 2: 0.0452, Class 3: 0.1758, Class 4: 0.5293, Class 5: 0.1686, Class 6: 0.8034, \n",
      "\n",
      "Overall Mean Dice Score: 0.5423\n",
      "Overall Mean F-beta Score: 0.5558\n",
      "Overall Mean IoU Score: 0.4123\n",
      "Final_score: 0.4410\n",
      "Training Loss: 0.1898, Validation Loss: 0.1963, Validation hybrid_score: 0.4410\n",
      "========================================================\n",
      "SUPER Best model saved. Loss:0.1963, Score:0.4410\n",
      "========================================================\n",
      "Epoch 19/4000\n"
     ]
    },
    {
     "name": "stderr",
     "output_type": "stream",
     "text": [
      "Training: 100%|██████████| 132/132 [01:22<00:00,  1.60it/s, loss=0.171]\n",
      "Validation: 100%|██████████| 4/4 [00:01<00:00,  2.05it/s, loss=0.222]\n"
     ]
    },
    {
     "name": "stdout",
     "output_type": "stream",
     "text": [
      "Validation Dice Score\n",
      "Class 0: 0.9863, Class 1: 0.5615, Class 2: 0.0532, Class 3: 0.4041, Class 4: 0.7029, Class 5: 0.3008, Class 6: 0.8037, \n",
      "Validation F-beta Score\n",
      "Class 0: 0.9899, Class 1: 0.7358, Class 2: 0.0316, Class 3: 0.4369, Class 4: 0.6518, Class 5: 0.2347, Class 6: 0.8441, \n",
      "Validation mIoU Score\n",
      "Class 0: 0.9730, Class 1: 0.3959, Class 2: 0.0277, Class 3: 0.2537, Class 4: 0.5460, Class 5: 0.1776, Class 6: 0.6929, \n",
      "\n",
      "Overall Mean Dice Score: 0.5546\n",
      "Overall Mean F-beta Score: 0.5807\n",
      "Overall Mean IoU Score: 0.4132\n",
      "Final_score: 0.4467\n",
      "Training Loss: 0.1883, Validation Loss: 0.2097, Validation hybrid_score: 0.4467\n",
      "Epoch 20/4000\n"
     ]
    },
    {
     "name": "stderr",
     "output_type": "stream",
     "text": [
      "Training: 100%|██████████| 132/132 [01:20<00:00,  1.65it/s, loss=0.178]\n",
      "Validation: 100%|██████████| 4/4 [00:01<00:00,  2.17it/s, loss=0.2]  \n"
     ]
    },
    {
     "name": "stdout",
     "output_type": "stream",
     "text": [
      "Validation Dice Score\n",
      "Class 0: 0.9873, Class 1: 0.5978, Class 2: 0.0956, Class 3: 0.3193, Class 4: 0.7246, Class 5: 0.3140, Class 6: 0.8944, \n",
      "Validation F-beta Score\n",
      "Class 0: 0.9900, Class 1: 0.7285, Class 2: 0.0694, Class 3: 0.4293, Class 4: 0.6869, Class 5: 0.2363, Class 6: 0.8968, \n",
      "Validation mIoU Score\n",
      "Class 0: 0.9749, Class 1: 0.4273, Class 2: 0.0510, Class 3: 0.1932, Class 4: 0.5696, Class 5: 0.1885, Class 6: 0.8098, \n",
      "\n",
      "Overall Mean Dice Score: 0.5700\n",
      "Overall Mean F-beta Score: 0.5956\n",
      "Overall Mean IoU Score: 0.4377\n",
      "Final_score: 0.4693\n",
      "Training Loss: 0.1889, Validation Loss: 0.2033, Validation hybrid_score: 0.4693\n",
      "Epoch 21/4000\n"
     ]
    },
    {
     "name": "stderr",
     "output_type": "stream",
     "text": [
      "Training: 100%|██████████| 132/132 [01:25<00:00,  1.54it/s, loss=0.18] \n",
      "Validation: 100%|██████████| 4/4 [00:01<00:00,  2.11it/s, loss=0.207]\n"
     ]
    },
    {
     "name": "stdout",
     "output_type": "stream",
     "text": [
      "Validation Dice Score\n",
      "Class 0: 0.9862, Class 1: 0.5026, Class 2: 0.0407, Class 3: 0.3485, Class 4: 0.7263, Class 5: 0.3010, Class 6: 0.8777, \n",
      "Validation F-beta Score\n",
      "Class 0: 0.9911, Class 1: 0.7386, Class 2: 0.0277, Class 3: 0.4123, Class 4: 0.6833, Class 5: 0.2036, Class 6: 0.8592, \n",
      "Validation mIoU Score\n",
      "Class 0: 0.9728, Class 1: 0.3476, Class 2: 0.0213, Class 3: 0.2140, Class 4: 0.5730, Class 5: 0.1773, Class 6: 0.7830, \n",
      "\n",
      "Overall Mean Dice Score: 0.5512\n",
      "Overall Mean F-beta Score: 0.5794\n",
      "Overall Mean IoU Score: 0.4190\n",
      "Final_score: 0.4511\n",
      "Training Loss: 0.1877, Validation Loss: 0.2043, Validation hybrid_score: 0.4511\n",
      "Epoch 22/4000\n"
     ]
    },
    {
     "name": "stderr",
     "output_type": "stream",
     "text": [
      "Training: 100%|██████████| 132/132 [01:22<00:00,  1.61it/s, loss=0.169]\n",
      "Validation: 100%|██████████| 4/4 [00:01<00:00,  2.05it/s, loss=0.216]\n"
     ]
    },
    {
     "name": "stdout",
     "output_type": "stream",
     "text": [
      "Validation Dice Score\n",
      "Class 0: 0.9890, Class 1: 0.5882, Class 2: 0.1086, Class 3: 0.2886, Class 4: 0.5750, Class 5: 0.1757, Class 6: 0.8998, \n",
      "Validation F-beta Score\n",
      "Class 0: 0.9924, Class 1: 0.7249, Class 2: 0.0856, Class 3: 0.3436, Class 4: 0.5237, Class 5: 0.1262, Class 6: 0.9111, \n",
      "Validation mIoU Score\n",
      "Class 0: 0.9783, Class 1: 0.4231, Class 2: 0.0575, Class 3: 0.1710, Class 4: 0.4113, Class 5: 0.0977, Class 6: 0.8179, \n",
      "\n",
      "Overall Mean Dice Score: 0.5054\n",
      "Overall Mean F-beta Score: 0.5259\n",
      "Overall Mean IoU Score: 0.3842\n",
      "Final_score: 0.4126\n",
      "Training Loss: 0.1870, Validation Loss: 0.2015, Validation hybrid_score: 0.4126\n",
      "Epoch 23/4000\n"
     ]
    },
    {
     "name": "stderr",
     "output_type": "stream",
     "text": [
      "Training: 100%|██████████| 132/132 [01:22<00:00,  1.59it/s, loss=0.163]\n",
      "Validation: 100%|██████████| 4/4 [00:01<00:00,  2.02it/s, loss=0.194]\n"
     ]
    },
    {
     "name": "stdout",
     "output_type": "stream",
     "text": [
      "Validation Dice Score\n",
      "Class 0: 0.9893, Class 1: 0.5450, Class 2: 0.0562, Class 3: 0.3210, Class 4: 0.7144, Class 5: 0.3840, Class 6: 0.8639, \n",
      "Validation F-beta Score\n",
      "Class 0: 0.9911, Class 1: 0.6324, Class 2: 0.0419, Class 3: 0.3526, Class 4: 0.6849, Class 5: 0.3039, Class 6: 0.9115, \n",
      "Validation mIoU Score\n",
      "Class 0: 0.9788, Class 1: 0.3800, Class 2: 0.0297, Class 3: 0.1951, Class 4: 0.5568, Class 5: 0.2378, Class 6: 0.7629, \n",
      "\n",
      "Overall Mean Dice Score: 0.5656\n",
      "Overall Mean F-beta Score: 0.5770\n",
      "Overall Mean IoU Score: 0.4265\n",
      "Final_score: 0.4566\n",
      "Training Loss: 0.1870, Validation Loss: 0.1923, Validation hybrid_score: 0.4566\n",
      "========================================================\n",
      "SUPER Best model saved. Loss:0.1923, Score:0.4566\n",
      "========================================================\n",
      "Epoch 24/4000\n"
     ]
    },
    {
     "name": "stderr",
     "output_type": "stream",
     "text": [
      "Training: 100%|██████████| 132/132 [01:23<00:00,  1.58it/s, loss=0.174]\n",
      "Validation: 100%|██████████| 4/4 [00:01<00:00,  2.06it/s, loss=0.211]\n"
     ]
    },
    {
     "name": "stdout",
     "output_type": "stream",
     "text": [
      "Validation Dice Score\n",
      "Class 0: 0.9861, Class 1: 0.5094, Class 2: 0.0728, Class 3: 0.3761, Class 4: 0.7146, Class 5: 0.4219, Class 6: 0.8349, \n",
      "Validation F-beta Score\n",
      "Class 0: 0.9876, Class 1: 0.6799, Class 2: 0.0494, Class 3: 0.4190, Class 4: 0.7283, Class 5: 0.3398, Class 6: 0.8323, \n",
      "Validation mIoU Score\n",
      "Class 0: 0.9727, Class 1: 0.3451, Class 2: 0.0383, Class 3: 0.2326, Class 4: 0.5579, Class 5: 0.2676, Class 6: 0.7253, \n",
      "\n",
      "Overall Mean Dice Score: 0.5714\n",
      "Overall Mean F-beta Score: 0.5999\n",
      "Overall Mean IoU Score: 0.4257\n",
      "Final_score: 0.4605\n",
      "Training Loss: 0.1849, Validation Loss: 0.2064, Validation hybrid_score: 0.4605\n",
      "Epoch 25/4000\n"
     ]
    },
    {
     "name": "stderr",
     "output_type": "stream",
     "text": [
      "Training: 100%|██████████| 132/132 [01:24<00:00,  1.57it/s, loss=0.168]\n",
      "Validation: 100%|██████████| 4/4 [00:01<00:00,  2.10it/s, loss=0.194]\n"
     ]
    },
    {
     "name": "stdout",
     "output_type": "stream",
     "text": [
      "Validation Dice Score\n",
      "Class 0: 0.9861, Class 1: 0.5367, Class 2: 0.0645, Class 3: 0.3505, Class 4: 0.6608, Class 5: 0.3835, Class 6: 0.8574, \n",
      "Validation F-beta Score\n",
      "Class 0: 0.9867, Class 1: 0.6475, Class 2: 0.0545, Class 3: 0.4682, Class 4: 0.6654, Class 5: 0.3281, Class 6: 0.9002, \n",
      "Validation mIoU Score\n",
      "Class 0: 0.9726, Class 1: 0.3692, Class 2: 0.0341, Class 3: 0.2161, Class 4: 0.4959, Class 5: 0.2386, Class 6: 0.7515, \n",
      "\n",
      "Overall Mean Dice Score: 0.5578\n",
      "Overall Mean F-beta Score: 0.6019\n",
      "Overall Mean IoU Score: 0.4142\n",
      "Final_score: 0.4518\n",
      "Training Loss: 0.1855, Validation Loss: 0.2043, Validation hybrid_score: 0.4518\n",
      "Epoch 26/4000\n"
     ]
    },
    {
     "name": "stderr",
     "output_type": "stream",
     "text": [
      "Training: 100%|██████████| 132/132 [01:22<00:00,  1.60it/s, loss=0.181]\n",
      "Validation: 100%|██████████| 4/4 [00:01<00:00,  2.04it/s, loss=0.204]\n"
     ]
    },
    {
     "name": "stdout",
     "output_type": "stream",
     "text": [
      "Validation Dice Score\n",
      "Class 0: 0.9878, Class 1: 0.5167, Class 2: 0.0861, Class 3: 0.3313, Class 4: 0.7096, Class 5: 0.3050, Class 6: 0.8914, \n",
      "Validation F-beta Score\n",
      "Class 0: 0.9903, Class 1: 0.6483, Class 2: 0.0700, Class 3: 0.3864, Class 4: 0.6665, Class 5: 0.2497, Class 6: 0.9089, \n",
      "Validation mIoU Score\n",
      "Class 0: 0.9759, Class 1: 0.3679, Class 2: 0.0455, Class 3: 0.1999, Class 4: 0.5505, Class 5: 0.1808, Class 6: 0.8042, \n",
      "\n",
      "Overall Mean Dice Score: 0.5508\n",
      "Overall Mean F-beta Score: 0.5720\n",
      "Overall Mean IoU Score: 0.4207\n",
      "Final_score: 0.4509\n",
      "Training Loss: 0.1833, Validation Loss: 0.2027, Validation hybrid_score: 0.4509\n",
      "Epoch 27/4000\n"
     ]
    },
    {
     "name": "stderr",
     "output_type": "stream",
     "text": [
      "Training: 100%|██████████| 132/132 [01:21<00:00,  1.62it/s, loss=0.179]\n",
      "Validation: 100%|██████████| 4/4 [00:02<00:00,  1.98it/s, loss=0.192]\n"
     ]
    },
    {
     "name": "stdout",
     "output_type": "stream",
     "text": [
      "Validation Dice Score\n",
      "Class 0: 0.9871, Class 1: 0.5037, Class 2: 0.0617, Class 3: 0.3661, Class 4: 0.6621, Class 5: 0.3340, Class 6: 0.8263, \n",
      "Validation F-beta Score\n",
      "Class 0: 0.9910, Class 1: 0.6490, Class 2: 0.0503, Class 3: 0.4367, Class 4: 0.6002, Class 5: 0.2544, Class 6: 0.8659, \n",
      "Validation mIoU Score\n",
      "Class 0: 0.9745, Class 1: 0.3451, Class 2: 0.0328, Class 3: 0.2242, Class 4: 0.5045, Class 5: 0.2007, Class 6: 0.7083, \n",
      "\n",
      "Overall Mean Dice Score: 0.5384\n",
      "Overall Mean F-beta Score: 0.5612\n",
      "Overall Mean IoU Score: 0.3966\n",
      "Final_score: 0.4295\n",
      "Training Loss: 0.1838, Validation Loss: 0.2067, Validation hybrid_score: 0.4295\n",
      "Epoch 28/4000\n"
     ]
    },
    {
     "name": "stderr",
     "output_type": "stream",
     "text": [
      "Training: 100%|██████████| 132/132 [01:23<00:00,  1.58it/s, loss=0.185]\n",
      "Validation: 100%|██████████| 4/4 [00:01<00:00,  2.19it/s, loss=0.2]  \n"
     ]
    },
    {
     "name": "stdout",
     "output_type": "stream",
     "text": [
      "Validation Dice Score\n",
      "Class 0: 0.9885, Class 1: 0.6260, Class 2: 0.0638, Class 3: 0.3930, Class 4: 0.6621, Class 5: 0.3301, Class 6: 0.9059, \n",
      "Validation F-beta Score\n",
      "Class 0: 0.9899, Class 1: 0.7749, Class 2: 0.0437, Class 3: 0.3796, Class 4: 0.6723, Class 5: 0.2851, Class 6: 0.8858, \n",
      "Validation mIoU Score\n",
      "Class 0: 0.9774, Class 1: 0.4584, Class 2: 0.0344, Class 3: 0.2458, Class 4: 0.4958, Class 5: 0.1979, Class 6: 0.8289, \n",
      "\n",
      "Overall Mean Dice Score: 0.5834\n",
      "Overall Mean F-beta Score: 0.5995\n",
      "Overall Mean IoU Score: 0.4454\n",
      "Final_score: 0.4762\n",
      "Training Loss: 0.1826, Validation Loss: 0.1940, Validation hybrid_score: 0.4762\n",
      "Epoch 29/4000\n"
     ]
    },
    {
     "name": "stderr",
     "output_type": "stream",
     "text": [
      "Training: 100%|██████████| 132/132 [01:25<00:00,  1.55it/s, loss=0.167]\n",
      "Validation: 100%|██████████| 4/4 [00:01<00:00,  2.10it/s, loss=0.209]\n"
     ]
    },
    {
     "name": "stdout",
     "output_type": "stream",
     "text": [
      "Validation Dice Score\n",
      "Class 0: 0.9888, Class 1: 0.6156, Class 2: 0.0583, Class 3: 0.4218, Class 4: 0.6257, Class 5: 0.3505, Class 6: 0.9091, \n",
      "Validation F-beta Score\n",
      "Class 0: 0.9885, Class 1: 0.7547, Class 2: 0.0388, Class 3: 0.4108, Class 4: 0.6392, Class 5: 0.3602, Class 6: 0.9077, \n",
      "Validation mIoU Score\n",
      "Class 0: 0.9779, Class 1: 0.4554, Class 2: 0.0304, Class 3: 0.2707, Class 4: 0.5003, Class 5: 0.2139, Class 6: 0.8343, \n",
      "\n",
      "Overall Mean Dice Score: 0.5846\n",
      "Overall Mean F-beta Score: 0.6145\n",
      "Overall Mean IoU Score: 0.4549\n",
      "Final_score: 0.4868\n",
      "Training Loss: 0.1813, Validation Loss: 0.1918, Validation hybrid_score: 0.4868\n",
      "========================================================\n",
      "SUPER Best model saved. Loss:0.1918, Score:0.4868\n",
      "========================================================\n",
      "Epoch 30/4000\n"
     ]
    },
    {
     "name": "stderr",
     "output_type": "stream",
     "text": [
      "Training: 100%|██████████| 132/132 [01:21<00:00,  1.61it/s, loss=0.185]\n",
      "Validation: 100%|██████████| 4/4 [00:01<00:00,  2.11it/s, loss=0.188]\n"
     ]
    },
    {
     "name": "stdout",
     "output_type": "stream",
     "text": [
      "Validation Dice Score\n",
      "Class 0: 0.9883, Class 1: 0.6433, Class 2: 0.0889, Class 3: 0.3284, Class 4: 0.6704, Class 5: 0.3310, Class 6: 0.8856, \n",
      "Validation F-beta Score\n",
      "Class 0: 0.9904, Class 1: 0.7446, Class 2: 0.0635, Class 3: 0.4459, Class 4: 0.6513, Class 5: 0.2587, Class 6: 0.8973, \n",
      "Validation mIoU Score\n",
      "Class 0: 0.9770, Class 1: 0.4781, Class 2: 0.0502, Class 3: 0.2020, Class 4: 0.5111, Class 5: 0.2003, Class 6: 0.7986, \n",
      "\n",
      "Overall Mean Dice Score: 0.5717\n",
      "Overall Mean F-beta Score: 0.5996\n",
      "Overall Mean IoU Score: 0.4380\n",
      "Final_score: 0.4703\n",
      "Training Loss: 0.1833, Validation Loss: 0.1979, Validation hybrid_score: 0.4703\n",
      "Epoch 31/4000\n"
     ]
    },
    {
     "name": "stderr",
     "output_type": "stream",
     "text": [
      "Training: 100%|██████████| 132/132 [01:22<00:00,  1.59it/s, loss=0.167]\n",
      "Validation: 100%|██████████| 4/4 [00:02<00:00,  1.87it/s, loss=0.191]\n"
     ]
    },
    {
     "name": "stdout",
     "output_type": "stream",
     "text": [
      "Validation Dice Score\n",
      "Class 0: 0.9883, Class 1: 0.6319, Class 2: 0.0329, Class 3: 0.3855, Class 4: 0.6780, Class 5: 0.3927, Class 6: 0.8677, \n",
      "Validation F-beta Score\n",
      "Class 0: 0.9874, Class 1: 0.8028, Class 2: 0.0242, Class 3: 0.4460, Class 4: 0.7116, Class 5: 0.3805, Class 6: 0.8659, \n",
      "Validation mIoU Score\n",
      "Class 0: 0.9768, Class 1: 0.4663, Class 2: 0.0172, Class 3: 0.2416, Class 4: 0.5200, Class 5: 0.2454, Class 6: 0.7669, \n",
      "\n",
      "Overall Mean Dice Score: 0.5911\n",
      "Overall Mean F-beta Score: 0.6414\n",
      "Overall Mean IoU Score: 0.4480\n",
      "Final_score: 0.4867\n",
      "Training Loss: 0.1815, Validation Loss: 0.1953, Validation hybrid_score: 0.4867\n",
      "Epoch 32/4000\n"
     ]
    },
    {
     "name": "stderr",
     "output_type": "stream",
     "text": [
      "Training: 100%|██████████| 132/132 [01:24<00:00,  1.56it/s, loss=0.168]\n",
      "Validation: 100%|██████████| 4/4 [00:01<00:00,  2.03it/s, loss=0.198]\n"
     ]
    },
    {
     "name": "stdout",
     "output_type": "stream",
     "text": [
      "Validation Dice Score\n",
      "Class 0: 0.9856, Class 1: 0.6370, Class 2: 0.0516, Class 3: 0.3767, Class 4: 0.7380, Class 5: 0.4425, Class 6: 0.8652, \n",
      "Validation F-beta Score\n",
      "Class 0: 0.9838, Class 1: 0.7384, Class 2: 0.0356, Class 3: 0.4927, Class 4: 0.7913, Class 5: 0.4269, Class 6: 0.8672, \n",
      "Validation mIoU Score\n",
      "Class 0: 0.9717, Class 1: 0.4710, Class 2: 0.0269, Class 3: 0.2334, Class 4: 0.5857, Class 5: 0.2844, Class 6: 0.7650, \n",
      "\n",
      "Overall Mean Dice Score: 0.6119\n",
      "Overall Mean F-beta Score: 0.6633\n",
      "Overall Mean IoU Score: 0.4679\n",
      "Final_score: 0.5070\n",
      "Training Loss: 0.1813, Validation Loss: 0.2034, Validation hybrid_score: 0.5070\n",
      "Epoch 33/4000\n"
     ]
    },
    {
     "name": "stderr",
     "output_type": "stream",
     "text": [
      "Training: 100%|██████████| 132/132 [01:23<00:00,  1.58it/s, loss=0.181]\n",
      "Validation: 100%|██████████| 4/4 [00:01<00:00,  2.10it/s, loss=0.209]\n"
     ]
    },
    {
     "name": "stdout",
     "output_type": "stream",
     "text": [
      "Validation Dice Score\n",
      "Class 0: 0.9851, Class 1: 0.5632, Class 2: 0.0798, Class 3: 0.4013, Class 4: 0.7012, Class 5: 0.3701, Class 6: 0.8584, \n",
      "Validation F-beta Score\n",
      "Class 0: 0.9830, Class 1: 0.7641, Class 2: 0.0489, Class 3: 0.4637, Class 4: 0.7583, Class 5: 0.3907, Class 6: 0.8672, \n",
      "Validation mIoU Score\n",
      "Class 0: 0.9706, Class 1: 0.3983, Class 2: 0.0419, Class 3: 0.2513, Class 4: 0.5417, Class 5: 0.2278, Class 6: 0.7540, \n",
      "\n",
      "Overall Mean Dice Score: 0.5788\n",
      "Overall Mean F-beta Score: 0.6488\n",
      "Overall Mean IoU Score: 0.4346\n",
      "Final_score: 0.4775\n",
      "Training Loss: 0.1825, Validation Loss: 0.2108, Validation hybrid_score: 0.4775\n",
      "Epoch 34/4000\n"
     ]
    },
    {
     "name": "stderr",
     "output_type": "stream",
     "text": [
      "Training: 100%|██████████| 132/132 [01:22<00:00,  1.59it/s, loss=0.165]\n",
      "Validation: 100%|██████████| 4/4 [00:02<00:00,  1.79it/s, loss=0.2]  \n"
     ]
    },
    {
     "name": "stdout",
     "output_type": "stream",
     "text": [
      "Validation Dice Score\n",
      "Class 0: 0.9848, Class 1: 0.5918, Class 2: 0.0873, Class 3: 0.4040, Class 4: 0.6965, Class 5: 0.4498, Class 6: 0.8779, \n",
      "Validation F-beta Score\n",
      "Class 0: 0.9823, Class 1: 0.7916, Class 2: 0.0965, Class 3: 0.5752, Class 4: 0.7442, Class 5: 0.4638, Class 6: 0.9243, \n",
      "Validation mIoU Score\n",
      "Class 0: 0.9702, Class 1: 0.4360, Class 2: 0.0467, Class 3: 0.2548, Class 4: 0.5367, Class 5: 0.2907, Class 6: 0.7833, \n",
      "\n",
      "Overall Mean Dice Score: 0.6040\n",
      "Overall Mean F-beta Score: 0.6998\n",
      "Overall Mean IoU Score: 0.4603\n",
      "Final_score: 0.5082\n",
      "Training Loss: 0.1820, Validation Loss: 0.2031, Validation hybrid_score: 0.5082\n",
      "Epoch 35/4000\n"
     ]
    },
    {
     "name": "stderr",
     "output_type": "stream",
     "text": [
      "Training: 100%|██████████| 132/132 [01:24<00:00,  1.56it/s, loss=0.174]\n",
      "Validation: 100%|██████████| 4/4 [00:02<00:00,  1.94it/s, loss=0.199]\n"
     ]
    },
    {
     "name": "stdout",
     "output_type": "stream",
     "text": [
      "Validation Dice Score\n",
      "Class 0: 0.9869, Class 1: 0.6686, Class 2: 0.0764, Class 3: 0.4212, Class 4: 0.6995, Class 5: 0.4530, Class 6: 0.8984, \n",
      "Validation F-beta Score\n",
      "Class 0: 0.9845, Class 1: 0.8100, Class 2: 0.0703, Class 3: 0.4837, Class 4: 0.8023, Class 5: 0.4633, Class 6: 0.9168, \n",
      "Validation mIoU Score\n",
      "Class 0: 0.9741, Class 1: 0.5065, Class 2: 0.0403, Class 3: 0.2671, Class 4: 0.5421, Class 5: 0.2981, Class 6: 0.8175, \n",
      "\n",
      "Overall Mean Dice Score: 0.6282\n",
      "Overall Mean F-beta Score: 0.6952\n",
      "Overall Mean IoU Score: 0.4863\n",
      "Final_score: 0.5281\n",
      "Training Loss: 0.1805, Validation Loss: 0.1965, Validation hybrid_score: 0.5281\n",
      "Epoch 36/4000\n"
     ]
    },
    {
     "name": "stderr",
     "output_type": "stream",
     "text": [
      "Training: 100%|██████████| 132/132 [01:24<00:00,  1.57it/s, loss=0.166]\n",
      "Validation: 100%|██████████| 4/4 [00:01<00:00,  2.12it/s, loss=0.215]\n"
     ]
    },
    {
     "name": "stdout",
     "output_type": "stream",
     "text": [
      "Validation Dice Score\n",
      "Class 0: 0.9851, Class 1: 0.6127, Class 2: 0.0657, Class 3: 0.3783, Class 4: 0.7196, Class 5: 0.3457, Class 6: 0.8828, \n",
      "Validation F-beta Score\n",
      "Class 0: 0.9847, Class 1: 0.7955, Class 2: 0.0584, Class 3: 0.5205, Class 4: 0.7547, Class 5: 0.3016, Class 6: 0.9102, \n",
      "Validation mIoU Score\n",
      "Class 0: 0.9707, Class 1: 0.4449, Class 2: 0.0344, Class 3: 0.2354, Class 4: 0.5624, Class 5: 0.2106, Class 6: 0.7910, \n",
      "\n",
      "Overall Mean Dice Score: 0.5878\n",
      "Overall Mean F-beta Score: 0.6565\n",
      "Overall Mean IoU Score: 0.4489\n",
      "Final_score: 0.4904\n",
      "Training Loss: 0.1808, Validation Loss: 0.2096, Validation hybrid_score: 0.4904\n",
      "Epoch 37/4000\n"
     ]
    },
    {
     "name": "stderr",
     "output_type": "stream",
     "text": [
      "Training: 100%|██████████| 132/132 [01:25<00:00,  1.54it/s, loss=0.166]\n",
      "Validation: 100%|██████████| 4/4 [00:01<00:00,  2.13it/s, loss=0.201]\n"
     ]
    },
    {
     "name": "stdout",
     "output_type": "stream",
     "text": [
      "Validation Dice Score\n",
      "Class 0: 0.9867, Class 1: 0.6517, Class 2: 0.0993, Class 3: 0.3650, Class 4: 0.6967, Class 5: 0.3648, Class 6: 0.8994, \n",
      "Validation F-beta Score\n",
      "Class 0: 0.9834, Class 1: 0.8025, Class 2: 0.0900, Class 3: 0.4647, Class 4: 0.7965, Class 5: 0.3743, Class 6: 0.9349, \n",
      "Validation mIoU Score\n",
      "Class 0: 0.9737, Class 1: 0.4843, Class 2: 0.0550, Class 3: 0.2271, Class 4: 0.5367, Class 5: 0.2251, Class 6: 0.8176, \n",
      "\n",
      "Overall Mean Dice Score: 0.5955\n",
      "Overall Mean F-beta Score: 0.6746\n",
      "Overall Mean IoU Score: 0.4582\n",
      "Final_score: 0.5014\n",
      "Training Loss: 0.1793, Validation Loss: 0.1953, Validation hybrid_score: 0.5014\n",
      "Epoch 38/4000\n"
     ]
    },
    {
     "name": "stderr",
     "output_type": "stream",
     "text": [
      "Training: 100%|██████████| 132/132 [01:24<00:00,  1.57it/s, loss=0.169]\n",
      "Validation: 100%|██████████| 4/4 [00:01<00:00,  2.08it/s, loss=0.207]\n"
     ]
    },
    {
     "name": "stdout",
     "output_type": "stream",
     "text": [
      "Validation Dice Score\n",
      "Class 0: 0.9869, Class 1: 0.5867, Class 2: 0.0811, Class 3: 0.4226, Class 4: 0.7639, Class 5: 0.4652, Class 6: 0.8800, \n",
      "Validation F-beta Score\n",
      "Class 0: 0.9871, Class 1: 0.7949, Class 2: 0.0847, Class 3: 0.5249, Class 4: 0.7430, Class 5: 0.4572, Class 6: 0.8979, \n",
      "Validation mIoU Score\n",
      "Class 0: 0.9742, Class 1: 0.4284, Class 2: 0.0435, Class 3: 0.2686, Class 4: 0.6185, Class 5: 0.3038, Class 6: 0.7865, \n",
      "\n",
      "Overall Mean Dice Score: 0.6237\n",
      "Overall Mean F-beta Score: 0.6836\n",
      "Overall Mean IoU Score: 0.4811\n",
      "Final_score: 0.5216\n",
      "Training Loss: 0.1793, Validation Loss: 0.1957, Validation hybrid_score: 0.5216\n",
      "Epoch 39/4000\n"
     ]
    },
    {
     "name": "stderr",
     "output_type": "stream",
     "text": [
      "Training: 100%|██████████| 132/132 [01:21<00:00,  1.61it/s, loss=0.171]\n",
      "Validation: 100%|██████████| 4/4 [00:01<00:00,  2.02it/s, loss=0.219]\n"
     ]
    },
    {
     "name": "stdout",
     "output_type": "stream",
     "text": [
      "Validation Dice Score\n",
      "Class 0: 0.9858, Class 1: 0.5497, Class 2: 0.1292, Class 3: 0.3470, Class 4: 0.7284, Class 5: 0.3792, Class 6: 0.8681, \n",
      "Validation F-beta Score\n",
      "Class 0: 0.9838, Class 1: 0.7697, Class 2: 0.0930, Class 3: 0.3297, Class 4: 0.7687, Class 5: 0.4031, Class 6: 0.8796, \n",
      "Validation mIoU Score\n",
      "Class 0: 0.9720, Class 1: 0.3811, Class 2: 0.0738, Class 3: 0.2104, Class 4: 0.5762, Class 5: 0.2396, Class 6: 0.7679, \n",
      "\n",
      "Overall Mean Dice Score: 0.5745\n",
      "Overall Mean F-beta Score: 0.6302\n",
      "Overall Mean IoU Score: 0.4350\n",
      "Final_score: 0.4741\n",
      "Training Loss: 0.1800, Validation Loss: 0.2055, Validation hybrid_score: 0.4741\n",
      "Epoch 40/4000\n"
     ]
    },
    {
     "name": "stderr",
     "output_type": "stream",
     "text": [
      "Training: 100%|██████████| 132/132 [01:23<00:00,  1.59it/s, loss=0.18] \n",
      "Validation: 100%|██████████| 4/4 [00:01<00:00,  2.08it/s, loss=0.218]\n"
     ]
    },
    {
     "name": "stdout",
     "output_type": "stream",
     "text": [
      "Validation Dice Score\n",
      "Class 0: 0.9859, Class 1: 0.5290, Class 2: 0.1271, Class 3: 0.3767, Class 4: 0.6650, Class 5: 0.3657, Class 6: 0.8689, \n",
      "Validation F-beta Score\n",
      "Class 0: 0.9832, Class 1: 0.7984, Class 2: 0.1060, Class 3: 0.3307, Class 4: 0.7690, Class 5: 0.3899, Class 6: 0.9215, \n",
      "Validation mIoU Score\n",
      "Class 0: 0.9723, Class 1: 0.3646, Class 2: 0.0690, Class 3: 0.2325, Class 4: 0.5028, Class 5: 0.2239, Class 6: 0.7701, \n",
      "\n",
      "Overall Mean Dice Score: 0.5611\n",
      "Overall Mean F-beta Score: 0.6419\n",
      "Overall Mean IoU Score: 0.4188\n",
      "Final_score: 0.4634\n",
      "Training Loss: 0.1793, Validation Loss: 0.2035, Validation hybrid_score: 0.4634\n",
      "Epoch 41/4000\n"
     ]
    },
    {
     "name": "stderr",
     "output_type": "stream",
     "text": [
      "Training: 100%|██████████| 132/132 [01:24<00:00,  1.57it/s, loss=0.164]\n",
      "Validation: 100%|██████████| 4/4 [00:01<00:00,  2.12it/s, loss=0.209]\n"
     ]
    },
    {
     "name": "stdout",
     "output_type": "stream",
     "text": [
      "Validation Dice Score\n",
      "Class 0: 0.9838, Class 1: 0.6424, Class 2: 0.1200, Class 3: 0.3349, Class 4: 0.7326, Class 5: 0.4185, Class 6: 0.8887, \n",
      "Validation F-beta Score\n",
      "Class 0: 0.9800, Class 1: 0.7958, Class 2: 0.1355, Class 3: 0.4043, Class 4: 0.8005, Class 5: 0.4515, Class 6: 0.8748, \n",
      "Validation mIoU Score\n",
      "Class 0: 0.9681, Class 1: 0.4775, Class 2: 0.0647, Class 3: 0.2029, Class 4: 0.5792, Class 5: 0.2647, Class 6: 0.8004, \n",
      "\n",
      "Overall Mean Dice Score: 0.6034\n",
      "Overall Mean F-beta Score: 0.6654\n",
      "Overall Mean IoU Score: 0.4649\n",
      "Final_score: 0.5050\n",
      "Training Loss: 0.1787, Validation Loss: 0.2091, Validation hybrid_score: 0.5050\n",
      "Epoch 42/4000\n"
     ]
    },
    {
     "name": "stderr",
     "output_type": "stream",
     "text": [
      "Training: 100%|██████████| 132/132 [01:22<00:00,  1.59it/s, loss=0.168]\n",
      "Validation: 100%|██████████| 4/4 [00:01<00:00,  2.08it/s, loss=0.202]\n"
     ]
    },
    {
     "name": "stdout",
     "output_type": "stream",
     "text": [
      "Validation Dice Score\n",
      "Class 0: 0.9867, Class 1: 0.6305, Class 2: 0.1288, Class 3: 0.3752, Class 4: 0.6027, Class 5: 0.4719, Class 6: 0.8939, \n",
      "Validation F-beta Score\n",
      "Class 0: 0.9828, Class 1: 0.8529, Class 2: 0.1550, Class 3: 0.5590, Class 4: 0.7094, Class 5: 0.4992, Class 6: 0.9100, \n",
      "Validation mIoU Score\n",
      "Class 0: 0.9737, Class 1: 0.4612, Class 2: 0.0690, Class 3: 0.2317, Class 4: 0.4462, Class 5: 0.3104, Class 6: 0.8087, \n",
      "\n",
      "Overall Mean Dice Score: 0.5948\n",
      "Overall Mean F-beta Score: 0.7061\n",
      "Overall Mean IoU Score: 0.4516\n",
      "Final_score: 0.5025\n",
      "Training Loss: 0.1798, Validation Loss: 0.2000, Validation hybrid_score: 0.5025\n",
      "Epoch 43/4000\n"
     ]
    },
    {
     "name": "stderr",
     "output_type": "stream",
     "text": [
      "Training: 100%|██████████| 132/132 [01:22<00:00,  1.60it/s, loss=0.17] \n",
      "Validation: 100%|██████████| 4/4 [00:01<00:00,  2.19it/s, loss=0.202]\n"
     ]
    },
    {
     "name": "stdout",
     "output_type": "stream",
     "text": [
      "Validation Dice Score\n",
      "Class 0: 0.9863, Class 1: 0.6620, Class 2: 0.1191, Class 3: 0.4330, Class 4: 0.7213, Class 5: 0.4162, Class 6: 0.8816, \n",
      "Validation F-beta Score\n",
      "Class 0: 0.9861, Class 1: 0.8439, Class 2: 0.1414, Class 3: 0.5036, Class 4: 0.7339, Class 5: 0.3913, Class 6: 0.9079, \n",
      "Validation mIoU Score\n",
      "Class 0: 0.9730, Class 1: 0.4966, Class 2: 0.0646, Class 3: 0.2856, Class 4: 0.5665, Class 5: 0.2637, Class 6: 0.7894, \n",
      "\n",
      "Overall Mean Dice Score: 0.6228\n",
      "Overall Mean F-beta Score: 0.6761\n",
      "Overall Mean IoU Score: 0.4804\n",
      "Final_score: 0.5195\n",
      "Training Loss: 0.1793, Validation Loss: 0.1981, Validation hybrid_score: 0.5195\n",
      "Epoch 44/4000\n"
     ]
    },
    {
     "name": "stderr",
     "output_type": "stream",
     "text": [
      "Training: 100%|██████████| 132/132 [01:21<00:00,  1.63it/s, loss=0.161]\n",
      "Validation: 100%|██████████| 4/4 [00:01<00:00,  2.04it/s, loss=0.191]\n"
     ]
    },
    {
     "name": "stdout",
     "output_type": "stream",
     "text": [
      "Validation Dice Score\n",
      "Class 0: 0.9881, Class 1: 0.6492, Class 2: 0.1221, Class 3: 0.3922, Class 4: 0.7677, Class 5: 0.4392, Class 6: 0.9040, \n",
      "Validation F-beta Score\n",
      "Class 0: 0.9878, Class 1: 0.7506, Class 2: 0.0872, Class 3: 0.4521, Class 4: 0.7939, Class 5: 0.4123, Class 6: 0.9255, \n",
      "Validation mIoU Score\n",
      "Class 0: 0.9764, Class 1: 0.4829, Class 2: 0.0665, Class 3: 0.2538, Class 4: 0.6245, Class 5: 0.2836, Class 6: 0.8252, \n",
      "\n",
      "Overall Mean Dice Score: 0.6305\n",
      "Overall Mean F-beta Score: 0.6669\n",
      "Overall Mean IoU Score: 0.4940\n",
      "Final_score: 0.5286\n",
      "Training Loss: 0.1772, Validation Loss: 0.1930, Validation hybrid_score: 0.5286\n",
      "Epoch 45/4000\n"
     ]
    },
    {
     "name": "stderr",
     "output_type": "stream",
     "text": [
      "Training: 100%|██████████| 132/132 [01:23<00:00,  1.58it/s, loss=0.17] \n",
      "Validation: 100%|██████████| 4/4 [00:01<00:00,  2.10it/s, loss=0.211]\n"
     ]
    },
    {
     "name": "stdout",
     "output_type": "stream",
     "text": [
      "Validation Dice Score\n",
      "Class 0: 0.9843, Class 1: 0.6291, Class 2: 0.0794, Class 3: 0.4334, Class 4: 0.6602, Class 5: 0.3772, Class 6: 0.8869, \n",
      "Validation F-beta Score\n",
      "Class 0: 0.9805, Class 1: 0.8202, Class 2: 0.0691, Class 3: 0.5582, Class 4: 0.8062, Class 5: 0.3309, Class 6: 0.9094, \n",
      "Validation mIoU Score\n",
      "Class 0: 0.9691, Class 1: 0.4597, Class 2: 0.0423, Class 3: 0.2775, Class 4: 0.4966, Class 5: 0.2352, Class 6: 0.7978, \n",
      "\n",
      "Overall Mean Dice Score: 0.5973\n",
      "Overall Mean F-beta Score: 0.6850\n",
      "Overall Mean IoU Score: 0.4534\n",
      "Final_score: 0.4997\n",
      "Training Loss: 0.1771, Validation Loss: 0.2092, Validation hybrid_score: 0.4997\n",
      "Epoch 46/4000\n"
     ]
    },
    {
     "name": "stderr",
     "output_type": "stream",
     "text": [
      "Training: 100%|██████████| 132/132 [01:24<00:00,  1.56it/s, loss=0.164]\n",
      "Validation: 100%|██████████| 4/4 [00:01<00:00,  2.07it/s, loss=0.201]\n"
     ]
    },
    {
     "name": "stdout",
     "output_type": "stream",
     "text": [
      "Validation Dice Score\n",
      "Class 0: 0.9849, Class 1: 0.6314, Class 2: 0.1548, Class 3: 0.3994, Class 4: 0.6900, Class 5: 0.4395, Class 6: 0.8815, \n",
      "Validation F-beta Score\n",
      "Class 0: 0.9827, Class 1: 0.7513, Class 2: 0.1127, Class 3: 0.3859, Class 4: 0.7688, Class 5: 0.4548, Class 6: 0.8596, \n",
      "Validation mIoU Score\n",
      "Class 0: 0.9702, Class 1: 0.4660, Class 2: 0.0865, Class 3: 0.2513, Class 4: 0.5288, Class 5: 0.2878, Class 6: 0.7887, \n",
      "\n",
      "Overall Mean Dice Score: 0.6084\n",
      "Overall Mean F-beta Score: 0.6441\n",
      "Overall Mean IoU Score: 0.4645\n",
      "Final_score: 0.5004\n",
      "Training Loss: 0.1782, Validation Loss: 0.2067, Validation hybrid_score: 0.5004\n",
      "Epoch 47/4000\n"
     ]
    },
    {
     "name": "stderr",
     "output_type": "stream",
     "text": [
      "Training: 100%|██████████| 132/132 [01:23<00:00,  1.58it/s, loss=0.171]\n",
      "Validation: 100%|██████████| 4/4 [00:01<00:00,  2.06it/s, loss=0.208]\n"
     ]
    },
    {
     "name": "stdout",
     "output_type": "stream",
     "text": [
      "Validation Dice Score\n",
      "Class 0: 0.9863, Class 1: 0.6320, Class 2: 0.1045, Class 3: 0.3734, Class 4: 0.7392, Class 5: 0.4687, Class 6: 0.6269, \n",
      "Validation F-beta Score\n",
      "Class 0: 0.9835, Class 1: 0.8309, Class 2: 0.0848, Class 3: 0.4387, Class 4: 0.8050, Class 5: 0.4675, Class 6: 0.7320, \n",
      "Validation mIoU Score\n",
      "Class 0: 0.9729, Class 1: 0.4629, Class 2: 0.0557, Class 3: 0.2359, Class 4: 0.5865, Class 5: 0.3062, Class 6: 0.5291, \n",
      "\n",
      "Overall Mean Dice Score: 0.5680\n",
      "Overall Mean F-beta Score: 0.6548\n",
      "Overall Mean IoU Score: 0.4241\n",
      "Final_score: 0.4703\n",
      "Training Loss: 0.1771, Validation Loss: 0.1997, Validation hybrid_score: 0.4703\n",
      "Epoch 48/4000\n"
     ]
    },
    {
     "name": "stderr",
     "output_type": "stream",
     "text": [
      "Training: 100%|██████████| 132/132 [01:23<00:00,  1.58it/s, loss=0.163]\n",
      "Validation: 100%|██████████| 4/4 [00:02<00:00,  1.97it/s, loss=0.192]\n"
     ]
    },
    {
     "name": "stdout",
     "output_type": "stream",
     "text": [
      "Validation Dice Score\n",
      "Class 0: 0.9873, Class 1: 0.4829, Class 2: 0.1400, Class 3: 0.4632, Class 4: 0.7100, Class 5: 0.4387, Class 6: 0.8274, \n",
      "Validation F-beta Score\n",
      "Class 0: 0.9903, Class 1: 0.6749, Class 2: 0.1085, Class 3: 0.5564, Class 4: 0.6463, Class 5: 0.3501, Class 6: 0.9166, \n",
      "Validation mIoU Score\n",
      "Class 0: 0.9749, Class 1: 0.3259, Class 2: 0.0786, Class 3: 0.3079, Class 4: 0.5506, Class 5: 0.2852, Class 6: 0.7170, \n",
      "\n",
      "Overall Mean Dice Score: 0.5844\n",
      "Overall Mean F-beta Score: 0.6289\n",
      "Overall Mean IoU Score: 0.4373\n",
      "Final_score: 0.4756\n",
      "Training Loss: 0.1768, Validation Loss: 0.1953, Validation hybrid_score: 0.4756\n",
      "Epoch 49/4000\n"
     ]
    },
    {
     "name": "stderr",
     "output_type": "stream",
     "text": [
      "Training: 100%|██████████| 132/132 [01:23<00:00,  1.58it/s, loss=0.169]\n",
      "Validation: 100%|██████████| 4/4 [00:01<00:00,  2.05it/s, loss=0.188]\n"
     ]
    },
    {
     "name": "stdout",
     "output_type": "stream",
     "text": [
      "Validation Dice Score\n",
      "Class 0: 0.9881, Class 1: 0.7255, Class 2: 0.0849, Class 3: 0.4216, Class 4: 0.6940, Class 5: 0.4461, Class 6: 0.8907, \n",
      "Validation F-beta Score\n",
      "Class 0: 0.9877, Class 1: 0.8617, Class 2: 0.0675, Class 3: 0.4654, Class 4: 0.7523, Class 5: 0.4094, Class 6: 0.9282, \n",
      "Validation mIoU Score\n",
      "Class 0: 0.9766, Class 1: 0.5694, Class 2: 0.0452, Class 3: 0.2689, Class 4: 0.5358, Class 5: 0.2895, Class 6: 0.8037, \n",
      "\n",
      "Overall Mean Dice Score: 0.6356\n",
      "Overall Mean F-beta Score: 0.6834\n",
      "Overall Mean IoU Score: 0.4934\n",
      "Final_score: 0.5314\n",
      "Training Loss: 0.1773, Validation Loss: 0.1878, Validation hybrid_score: 0.5314\n",
      "========================================================\n",
      "SUPER Best model saved. Loss:0.1878, Score:0.5314\n",
      "========================================================\n",
      "Epoch 50/4000\n"
     ]
    },
    {
     "name": "stderr",
     "output_type": "stream",
     "text": [
      "Training: 100%|██████████| 132/132 [01:24<00:00,  1.56it/s, loss=0.171]\n",
      "Validation: 100%|██████████| 4/4 [00:01<00:00,  2.17it/s, loss=0.187]\n"
     ]
    },
    {
     "name": "stdout",
     "output_type": "stream",
     "text": [
      "Validation Dice Score\n",
      "Class 0: 0.9890, Class 1: 0.6862, Class 2: 0.1020, Class 3: 0.4203, Class 4: 0.7029, Class 5: 0.4472, Class 6: 0.8728, \n",
      "Validation F-beta Score\n",
      "Class 0: 0.9892, Class 1: 0.8222, Class 2: 0.0790, Class 3: 0.5369, Class 4: 0.7402, Class 5: 0.3830, Class 6: 0.8832, \n",
      "Validation mIoU Score\n",
      "Class 0: 0.9782, Class 1: 0.5242, Class 2: 0.0559, Class 3: 0.2694, Class 4: 0.5451, Class 5: 0.2894, Class 6: 0.7784, \n",
      "\n",
      "Overall Mean Dice Score: 0.6259\n",
      "Overall Mean F-beta Score: 0.6731\n",
      "Overall Mean IoU Score: 0.4813\n",
      "Final_score: 0.5197\n",
      "Training Loss: 0.1796, Validation Loss: 0.1867, Validation hybrid_score: 0.5197\n",
      "Epoch 51/4000\n"
     ]
    },
    {
     "name": "stderr",
     "output_type": "stream",
     "text": [
      "Training: 100%|██████████| 132/132 [01:23<00:00,  1.57it/s, loss=0.162]\n",
      "Validation: 100%|██████████| 4/4 [00:01<00:00,  2.08it/s, loss=0.191]\n"
     ]
    },
    {
     "name": "stdout",
     "output_type": "stream",
     "text": [
      "Validation Dice Score\n",
      "Class 0: 0.9860, Class 1: 0.6577, Class 2: 0.1697, Class 3: 0.4052, Class 4: 0.7056, Class 5: 0.4201, Class 6: 0.9069, \n",
      "Validation F-beta Score\n",
      "Class 0: 0.9859, Class 1: 0.8263, Class 2: 0.1468, Class 3: 0.5218, Class 4: 0.7066, Class 5: 0.4103, Class 6: 0.8875, \n",
      "Validation mIoU Score\n",
      "Class 0: 0.9723, Class 1: 0.4945, Class 2: 0.0937, Class 3: 0.2564, Class 4: 0.5467, Class 5: 0.2673, Class 6: 0.8298, \n",
      "\n",
      "Overall Mean Dice Score: 0.6191\n",
      "Overall Mean F-beta Score: 0.6705\n",
      "Overall Mean IoU Score: 0.4789\n",
      "Final_score: 0.5172\n",
      "Training Loss: 0.1760, Validation Loss: 0.2013, Validation hybrid_score: 0.5172\n",
      "Epoch 52/4000\n"
     ]
    },
    {
     "name": "stderr",
     "output_type": "stream",
     "text": [
      "Training: 100%|██████████| 132/132 [01:23<00:00,  1.58it/s, loss=0.165]\n",
      "Validation: 100%|██████████| 4/4 [00:01<00:00,  2.10it/s, loss=0.196]\n"
     ]
    },
    {
     "name": "stdout",
     "output_type": "stream",
     "text": [
      "Validation Dice Score\n",
      "Class 0: 0.9866, Class 1: 0.6304, Class 2: 0.1156, Class 3: 0.4172, Class 4: 0.6676, Class 5: 0.3895, Class 6: 0.9131, \n",
      "Validation F-beta Score\n",
      "Class 0: 0.9888, Class 1: 0.8299, Class 2: 0.0845, Class 3: 0.4544, Class 4: 0.5912, Class 5: 0.3826, Class 6: 0.9098, \n",
      "Validation mIoU Score\n",
      "Class 0: 0.9737, Class 1: 0.4604, Class 2: 0.0614, Class 3: 0.2656, Class 4: 0.5015, Class 5: 0.2419, Class 6: 0.8403, \n",
      "\n",
      "Overall Mean Dice Score: 0.6036\n",
      "Overall Mean F-beta Score: 0.6336\n",
      "Overall Mean IoU Score: 0.4619\n",
      "Final_score: 0.4963\n",
      "Training Loss: 0.1760, Validation Loss: 0.1985, Validation hybrid_score: 0.4963\n",
      "Epoch 53/4000\n"
     ]
    },
    {
     "name": "stderr",
     "output_type": "stream",
     "text": [
      "Training: 100%|██████████| 132/132 [01:25<00:00,  1.54it/s, loss=0.169]\n",
      "Validation: 100%|██████████| 4/4 [00:01<00:00,  2.12it/s, loss=0.184]\n"
     ]
    },
    {
     "name": "stdout",
     "output_type": "stream",
     "text": [
      "Validation Dice Score\n",
      "Class 0: 0.9866, Class 1: 0.7010, Class 2: 0.1143, Class 3: 0.3793, Class 4: 0.6937, Class 5: 0.4447, Class 6: 0.8861, \n",
      "Validation F-beta Score\n",
      "Class 0: 0.9836, Class 1: 0.8209, Class 2: 0.1050, Class 3: 0.4038, Class 4: 0.8037, Class 5: 0.4921, Class 6: 0.9073, \n",
      "Validation mIoU Score\n",
      "Class 0: 0.9736, Class 1: 0.5436, Class 2: 0.0631, Class 3: 0.2347, Class 4: 0.5338, Class 5: 0.2888, Class 6: 0.7959, \n",
      "\n",
      "Overall Mean Dice Score: 0.6210\n",
      "Overall Mean F-beta Score: 0.6855\n",
      "Overall Mean IoU Score: 0.4794\n",
      "Final_score: 0.5206\n",
      "Training Loss: 0.1774, Validation Loss: 0.1946, Validation hybrid_score: 0.5206\n",
      "Epoch 54/4000\n"
     ]
    },
    {
     "name": "stderr",
     "output_type": "stream",
     "text": [
      "Training: 100%|██████████| 132/132 [01:22<00:00,  1.60it/s, loss=0.168]\n",
      "Validation: 100%|██████████| 4/4 [00:01<00:00,  2.11it/s, loss=0.211]\n"
     ]
    },
    {
     "name": "stdout",
     "output_type": "stream",
     "text": [
      "Validation Dice Score\n",
      "Class 0: 0.9859, Class 1: 0.6192, Class 2: 0.1203, Class 3: 0.4224, Class 4: 0.7324, Class 5: 0.3893, Class 6: 0.8861, \n",
      "Validation F-beta Score\n",
      "Class 0: 0.9822, Class 1: 0.7542, Class 2: 0.0974, Class 3: 0.4709, Class 4: 0.7875, Class 5: 0.4783, Class 6: 0.8778, \n",
      "Validation mIoU Score\n",
      "Class 0: 0.9721, Class 1: 0.4572, Class 2: 0.0655, Class 3: 0.2717, Class 4: 0.5783, Class 5: 0.2430, Class 6: 0.7980, \n",
      "\n",
      "Overall Mean Dice Score: 0.6099\n",
      "Overall Mean F-beta Score: 0.6738\n",
      "Overall Mean IoU Score: 0.4697\n",
      "Final_score: 0.5105\n",
      "Training Loss: 0.1758, Validation Loss: 0.2035, Validation hybrid_score: 0.5105\n",
      "Epoch 55/4000\n"
     ]
    },
    {
     "name": "stderr",
     "output_type": "stream",
     "text": [
      "Training: 100%|██████████| 132/132 [01:25<00:00,  1.54it/s, loss=0.176]\n",
      "Validation: 100%|██████████| 4/4 [00:01<00:00,  2.04it/s, loss=0.19] \n"
     ]
    },
    {
     "name": "stdout",
     "output_type": "stream",
     "text": [
      "Validation Dice Score\n",
      "Class 0: 0.9871, Class 1: 0.5985, Class 2: 0.1136, Class 3: 0.3485, Class 4: 0.6914, Class 5: 0.4329, Class 6: 0.8739, \n",
      "Validation F-beta Score\n",
      "Class 0: 0.9848, Class 1: 0.7601, Class 2: 0.1007, Class 3: 0.4621, Class 4: 0.7612, Class 5: 0.4317, Class 6: 0.9211, \n",
      "Validation mIoU Score\n",
      "Class 0: 0.9746, Class 1: 0.4403, Class 2: 0.0617, Class 3: 0.2131, Class 4: 0.5328, Class 5: 0.2782, Class 6: 0.7779, \n",
      "\n",
      "Overall Mean Dice Score: 0.5891\n",
      "Overall Mean F-beta Score: 0.6672\n",
      "Overall Mean IoU Score: 0.4485\n",
      "Final_score: 0.4922\n",
      "Training Loss: 0.1762, Validation Loss: 0.1975, Validation hybrid_score: 0.4922\n",
      "Epoch 56/4000\n"
     ]
    },
    {
     "name": "stderr",
     "output_type": "stream",
     "text": [
      "Training: 100%|██████████| 132/132 [01:24<00:00,  1.56it/s, loss=0.171]\n",
      "Validation: 100%|██████████| 4/4 [00:01<00:00,  2.06it/s, loss=0.185]\n"
     ]
    },
    {
     "name": "stdout",
     "output_type": "stream",
     "text": [
      "Validation Dice Score\n",
      "Class 0: 0.9869, Class 1: 0.7167, Class 2: 0.1044, Class 3: 0.4523, Class 4: 0.7530, Class 5: 0.3226, Class 6: 0.8996, \n",
      "Validation F-beta Score\n",
      "Class 0: 0.9860, Class 1: 0.8721, Class 2: 0.0823, Class 3: 0.4736, Class 4: 0.8097, Class 5: 0.3175, Class 6: 0.9426, \n",
      "Validation mIoU Score\n",
      "Class 0: 0.9741, Class 1: 0.5596, Class 2: 0.0555, Class 3: 0.2932, Class 4: 0.6065, Class 5: 0.1930, Class 6: 0.8179, \n",
      "\n",
      "Overall Mean Dice Score: 0.6289\n",
      "Overall Mean F-beta Score: 0.6831\n",
      "Overall Mean IoU Score: 0.4940\n",
      "Final_score: 0.5318\n",
      "Training Loss: 0.1761, Validation Loss: 0.1939, Validation hybrid_score: 0.5318\n",
      "Epoch 57/4000\n"
     ]
    },
    {
     "name": "stderr",
     "output_type": "stream",
     "text": [
      "Training: 100%|██████████| 132/132 [01:24<00:00,  1.57it/s, loss=0.158]\n",
      "Validation: 100%|██████████| 4/4 [00:02<00:00,  1.98it/s, loss=0.193]\n"
     ]
    },
    {
     "name": "stdout",
     "output_type": "stream",
     "text": [
      "Validation Dice Score\n",
      "Class 0: 0.9853, Class 1: 0.6083, Class 2: 0.1527, Class 3: 0.3681, Class 4: 0.7078, Class 5: 0.5049, Class 6: 0.8920, \n",
      "Validation F-beta Score\n",
      "Class 0: 0.9821, Class 1: 0.7815, Class 2: 0.1813, Class 3: 0.5156, Class 4: 0.8095, Class 5: 0.4992, Class 6: 0.9135, \n",
      "Validation mIoU Score\n",
      "Class 0: 0.9710, Class 1: 0.4418, Class 2: 0.0850, Class 3: 0.2287, Class 4: 0.5511, Class 5: 0.3402, Class 6: 0.8059, \n",
      "\n",
      "Overall Mean Dice Score: 0.6162\n",
      "Overall Mean F-beta Score: 0.7039\n",
      "Overall Mean IoU Score: 0.4735\n",
      "Final_score: 0.5196\n",
      "Training Loss: 0.1761, Validation Loss: 0.1982, Validation hybrid_score: 0.5196\n",
      "Epoch 58/4000\n"
     ]
    },
    {
     "name": "stderr",
     "output_type": "stream",
     "text": [
      "Training: 100%|██████████| 132/132 [01:24<00:00,  1.57it/s, loss=0.17] \n",
      "Validation: 100%|██████████| 4/4 [00:02<00:00,  1.93it/s, loss=0.196]\n"
     ]
    },
    {
     "name": "stdout",
     "output_type": "stream",
     "text": [
      "Validation Dice Score\n",
      "Class 0: 0.9865, Class 1: 0.6723, Class 2: 0.0894, Class 3: 0.4173, Class 4: 0.7512, Class 5: 0.3971, Class 6: 0.9059, \n",
      "Validation F-beta Score\n",
      "Class 0: 0.9842, Class 1: 0.8500, Class 2: 0.0670, Class 3: 0.4616, Class 4: 0.8126, Class 5: 0.4199, Class 6: 0.9182, \n",
      "Validation mIoU Score\n",
      "Class 0: 0.9733, Class 1: 0.5073, Class 2: 0.0480, Class 3: 0.2644, Class 4: 0.6035, Class 5: 0.2483, Class 6: 0.8286, \n",
      "\n",
      "Overall Mean Dice Score: 0.6288\n",
      "Overall Mean F-beta Score: 0.6925\n",
      "Overall Mean IoU Score: 0.4904\n",
      "Final_score: 0.5308\n",
      "Training Loss: 0.1748, Validation Loss: 0.1969, Validation hybrid_score: 0.5308\n",
      "Epoch 59/4000\n"
     ]
    },
    {
     "name": "stderr",
     "output_type": "stream",
     "text": [
      "Training: 100%|██████████| 132/132 [01:23<00:00,  1.58it/s, loss=0.17] \n",
      "Validation: 100%|██████████| 4/4 [00:01<00:00,  2.01it/s, loss=0.19] \n"
     ]
    },
    {
     "name": "stdout",
     "output_type": "stream",
     "text": [
      "Validation Dice Score\n",
      "Class 0: 0.9892, Class 1: 0.7394, Class 2: 0.0810, Class 3: 0.4035, Class 4: 0.7670, Class 5: 0.4415, Class 6: 0.9071, \n",
      "Validation F-beta Score\n",
      "Class 0: 0.9897, Class 1: 0.8365, Class 2: 0.0737, Class 3: 0.4857, Class 4: 0.7621, Class 5: 0.4041, Class 6: 0.9226, \n",
      "Validation mIoU Score\n",
      "Class 0: 0.9786, Class 1: 0.5868, Class 2: 0.0467, Class 3: 0.2551, Class 4: 0.6243, Class 5: 0.2838, Class 6: 0.8300, \n",
      "\n",
      "Overall Mean Dice Score: 0.6517\n",
      "Overall Mean F-beta Score: 0.6822\n",
      "Overall Mean IoU Score: 0.5160\n",
      "Final_score: 0.5493\n",
      "Training Loss: 0.1740, Validation Loss: 0.1845, Validation hybrid_score: 0.5493\n",
      "========================================================\n",
      "SUPER Best model saved. Loss:0.1845, Score:0.5493\n",
      "========================================================\n",
      "Epoch 60/4000\n"
     ]
    },
    {
     "name": "stderr",
     "output_type": "stream",
     "text": [
      "Training: 100%|██████████| 132/132 [01:22<00:00,  1.60it/s, loss=0.165]\n",
      "Validation: 100%|██████████| 4/4 [00:01<00:00,  2.13it/s, loss=0.19] \n"
     ]
    },
    {
     "name": "stdout",
     "output_type": "stream",
     "text": [
      "Validation Dice Score\n",
      "Class 0: 0.9874, Class 1: 0.6123, Class 2: 0.0658, Class 3: 0.4494, Class 4: 0.7657, Class 5: 0.4234, Class 6: 0.8571, \n",
      "Validation F-beta Score\n",
      "Class 0: 0.9858, Class 1: 0.8040, Class 2: 0.0488, Class 3: 0.5574, Class 4: 0.8038, Class 5: 0.4251, Class 6: 0.9093, \n",
      "Validation mIoU Score\n",
      "Class 0: 0.9751, Class 1: 0.4523, Class 2: 0.0368, Class 3: 0.2909, Class 4: 0.6204, Class 5: 0.2752, Class 6: 0.7580, \n",
      "\n",
      "Overall Mean Dice Score: 0.6216\n",
      "Overall Mean F-beta Score: 0.6999\n",
      "Overall Mean IoU Score: 0.4794\n",
      "Final_score: 0.5235\n",
      "Training Loss: 0.1742, Validation Loss: 0.1956, Validation hybrid_score: 0.5235\n",
      "Epoch 61/4000\n"
     ]
    },
    {
     "name": "stderr",
     "output_type": "stream",
     "text": [
      "Training: 100%|██████████| 132/132 [01:23<00:00,  1.58it/s, loss=0.159]\n",
      "Validation: 100%|██████████| 4/4 [00:01<00:00,  2.01it/s, loss=0.18] \n"
     ]
    },
    {
     "name": "stdout",
     "output_type": "stream",
     "text": [
      "Validation Dice Score\n",
      "Class 0: 0.9866, Class 1: 0.6946, Class 2: 0.0914, Class 3: 0.3369, Class 4: 0.7303, Class 5: 0.5167, Class 6: 0.8934, \n",
      "Validation F-beta Score\n",
      "Class 0: 0.9846, Class 1: 0.8531, Class 2: 0.1080, Class 3: 0.5177, Class 4: 0.7649, Class 5: 0.5109, Class 6: 0.9169, \n",
      "Validation mIoU Score\n",
      "Class 0: 0.9735, Class 1: 0.5330, Class 2: 0.0508, Class 3: 0.2051, Class 4: 0.5772, Class 5: 0.3495, Class 6: 0.8084, \n",
      "\n",
      "Overall Mean Dice Score: 0.6344\n",
      "Overall Mean F-beta Score: 0.7127\n",
      "Overall Mean IoU Score: 0.4947\n",
      "Final_score: 0.5383\n",
      "Training Loss: 0.1747, Validation Loss: 0.1911, Validation hybrid_score: 0.5383\n",
      "Epoch 62/4000\n"
     ]
    },
    {
     "name": "stderr",
     "output_type": "stream",
     "text": [
      "Training: 100%|██████████| 132/132 [01:24<00:00,  1.56it/s, loss=0.164]\n",
      "Validation: 100%|██████████| 4/4 [00:01<00:00,  2.13it/s, loss=0.191]\n"
     ]
    },
    {
     "name": "stdout",
     "output_type": "stream",
     "text": [
      "Validation Dice Score\n",
      "Class 0: 0.9863, Class 1: 0.7136, Class 2: 0.1578, Class 3: 0.4267, Class 4: 0.6923, Class 5: 0.3876, Class 6: 0.9003, \n",
      "Validation F-beta Score\n",
      "Class 0: 0.9834, Class 1: 0.8206, Class 2: 0.1573, Class 3: 0.4894, Class 4: 0.7724, Class 5: 0.4254, Class 6: 0.9113, \n",
      "Validation mIoU Score\n",
      "Class 0: 0.9730, Class 1: 0.5553, Class 2: 0.0881, Class 3: 0.2731, Class 4: 0.5369, Class 5: 0.2479, Class 6: 0.8200, \n",
      "\n",
      "Overall Mean Dice Score: 0.6241\n",
      "Overall Mean F-beta Score: 0.6838\n",
      "Overall Mean IoU Score: 0.4867\n",
      "Final_score: 0.5261\n",
      "Training Loss: 0.1747, Validation Loss: 0.1957, Validation hybrid_score: 0.5261\n",
      "Epoch 63/4000\n"
     ]
    },
    {
     "name": "stderr",
     "output_type": "stream",
     "text": [
      "Training: 100%|██████████| 132/132 [01:24<00:00,  1.56it/s, loss=0.164]\n",
      "Validation: 100%|██████████| 4/4 [00:01<00:00,  2.12it/s, loss=0.193]\n"
     ]
    },
    {
     "name": "stdout",
     "output_type": "stream",
     "text": [
      "Validation Dice Score\n",
      "Class 0: 0.9865, Class 1: 0.6582, Class 2: 0.0995, Class 3: 0.4911, Class 4: 0.7209, Class 5: 0.4125, Class 6: 0.9076, \n",
      "Validation F-beta Score\n",
      "Class 0: 0.9858, Class 1: 0.8328, Class 2: 0.0832, Class 3: 0.5956, Class 4: 0.7716, Class 5: 0.3630, Class 6: 0.9293, \n",
      "Validation mIoU Score\n",
      "Class 0: 0.9733, Class 1: 0.4933, Class 2: 0.0543, Class 3: 0.3308, Class 4: 0.5653, Class 5: 0.2629, Class 6: 0.8309, \n",
      "\n",
      "Overall Mean Dice Score: 0.6381\n",
      "Overall Mean F-beta Score: 0.6985\n",
      "Overall Mean IoU Score: 0.4967\n",
      "Final_score: 0.5370\n",
      "Training Loss: 0.1750, Validation Loss: 0.1992, Validation hybrid_score: 0.5370\n",
      "Epoch 64/4000\n"
     ]
    },
    {
     "name": "stderr",
     "output_type": "stream",
     "text": [
      "Training: 100%|██████████| 132/132 [01:25<00:00,  1.55it/s, loss=0.153]\n",
      "Validation: 100%|██████████| 4/4 [00:02<00:00,  1.97it/s, loss=0.188]\n"
     ]
    },
    {
     "name": "stdout",
     "output_type": "stream",
     "text": [
      "Validation Dice Score\n",
      "Class 0: 0.9875, Class 1: 0.6661, Class 2: 0.0758, Class 3: 0.4873, Class 4: 0.6902, Class 5: 0.3740, Class 6: 0.8793, \n",
      "Validation F-beta Score\n",
      "Class 0: 0.9876, Class 1: 0.8886, Class 2: 0.0631, Class 3: 0.5814, Class 4: 0.7198, Class 5: 0.3195, Class 6: 0.9232, \n",
      "Validation mIoU Score\n",
      "Class 0: 0.9754, Class 1: 0.4999, Class 2: 0.0414, Class 3: 0.3238, Class 4: 0.5279, Class 5: 0.2328, Class 6: 0.7855, \n",
      "\n",
      "Overall Mean Dice Score: 0.6194\n",
      "Overall Mean F-beta Score: 0.6865\n",
      "Overall Mean IoU Score: 0.4740\n",
      "Final_score: 0.5165\n",
      "Training Loss: 0.1737, Validation Loss: 0.1935, Validation hybrid_score: 0.5165\n",
      "Epoch 65/4000\n"
     ]
    },
    {
     "name": "stderr",
     "output_type": "stream",
     "text": [
      "Training: 100%|██████████| 132/132 [01:23<00:00,  1.58it/s, loss=0.159]\n",
      "Validation: 100%|██████████| 4/4 [00:01<00:00,  2.12it/s, loss=0.206]\n"
     ]
    },
    {
     "name": "stdout",
     "output_type": "stream",
     "text": [
      "Validation Dice Score\n",
      "Class 0: 0.9866, Class 1: 0.6731, Class 2: 0.1250, Class 3: 0.4591, Class 4: 0.7185, Class 5: 0.3658, Class 6: 0.8675, \n",
      "Validation F-beta Score\n",
      "Class 0: 0.9879, Class 1: 0.7339, Class 2: 0.1046, Class 3: 0.4511, Class 4: 0.7314, Class 5: 0.3158, Class 6: 0.8874, \n",
      "Validation mIoU Score\n",
      "Class 0: 0.9736, Class 1: 0.5084, Class 2: 0.0683, Class 3: 0.2989, Class 4: 0.5620, Class 5: 0.2261, Class 6: 0.7672, \n",
      "\n",
      "Overall Mean Dice Score: 0.6168\n",
      "Overall Mean F-beta Score: 0.6239\n",
      "Overall Mean IoU Score: 0.4725\n",
      "Final_score: 0.5028\n",
      "Training Loss: 0.1739, Validation Loss: 0.1969, Validation hybrid_score: 0.5028\n",
      "Epoch 66/4000\n"
     ]
    },
    {
     "name": "stderr",
     "output_type": "stream",
     "text": [
      "Training: 100%|██████████| 132/132 [01:24<00:00,  1.56it/s, loss=0.158]\n",
      "Validation: 100%|██████████| 4/4 [00:01<00:00,  2.13it/s, loss=0.194]\n"
     ]
    },
    {
     "name": "stdout",
     "output_type": "stream",
     "text": [
      "Validation Dice Score\n",
      "Class 0: 0.9853, Class 1: 0.6518, Class 2: 0.0974, Class 3: 0.4341, Class 4: 0.6971, Class 5: 0.3939, Class 6: 0.8914, \n",
      "Validation F-beta Score\n",
      "Class 0: 0.9808, Class 1: 0.7994, Class 2: 0.0993, Class 3: 0.5098, Class 4: 0.8003, Class 5: 0.4517, Class 6: 0.9139, \n",
      "Validation mIoU Score\n",
      "Class 0: 0.9709, Class 1: 0.4931, Class 2: 0.0525, Class 3: 0.2780, Class 4: 0.5401, Class 5: 0.2460, Class 6: 0.8043, \n",
      "\n",
      "Overall Mean Dice Score: 0.6137\n",
      "Overall Mean F-beta Score: 0.6950\n",
      "Overall Mean IoU Score: 0.4723\n",
      "Final_score: 0.5168\n",
      "Training Loss: 0.1743, Validation Loss: 0.2027, Validation hybrid_score: 0.5168\n",
      "Epoch 67/4000\n"
     ]
    },
    {
     "name": "stderr",
     "output_type": "stream",
     "text": [
      "Training: 100%|██████████| 132/132 [01:24<00:00,  1.56it/s, loss=0.169]\n",
      "Validation: 100%|██████████| 4/4 [00:01<00:00,  2.07it/s, loss=0.181]\n"
     ]
    },
    {
     "name": "stdout",
     "output_type": "stream",
     "text": [
      "Validation Dice Score\n",
      "Class 0: 0.9871, Class 1: 0.7862, Class 2: 0.1417, Class 3: 0.4677, Class 4: 0.7285, Class 5: 0.3915, Class 6: 0.8526, \n",
      "Validation F-beta Score\n",
      "Class 0: 0.9829, Class 1: 0.8482, Class 2: 0.1376, Class 3: 0.5220, Class 4: 0.7910, Class 5: 0.5036, Class 6: 0.9170, \n",
      "Validation mIoU Score\n",
      "Class 0: 0.9744, Class 1: 0.6478, Class 2: 0.0767, Class 3: 0.3088, Class 4: 0.5750, Class 5: 0.2441, Class 6: 0.7501, \n",
      "\n",
      "Overall Mean Dice Score: 0.6453\n",
      "Overall Mean F-beta Score: 0.7163\n",
      "Overall Mean IoU Score: 0.5051\n",
      "Final_score: 0.5474\n",
      "Training Loss: 0.1740, Validation Loss: 0.1933, Validation hybrid_score: 0.5474\n",
      "Epoch 68/4000\n"
     ]
    },
    {
     "name": "stderr",
     "output_type": "stream",
     "text": [
      "Training: 100%|██████████| 132/132 [01:24<00:00,  1.56it/s, loss=0.166]\n",
      "Validation: 100%|██████████| 4/4 [00:01<00:00,  2.12it/s, loss=0.204]"
     ]
    },
    {
     "name": "stdout",
     "output_type": "stream",
     "text": [
      "Validation Dice Score\n",
      "Class 0: 0.9865, Class 1: 0.5690, Class 2: 0.1405, Class 3: 0.3302, Class 4: 0.7207, Class 5: 0.3690, Class 6: 0.8773, \n",
      "Validation F-beta Score\n",
      "Class 0: 0.9885, Class 1: 0.8328, Class 2: 0.1158, Class 3: 0.5042, Class 4: 0.6847, Class 5: 0.3029, Class 6: 0.8988, \n",
      "Validation mIoU Score\n",
      "Class 0: 0.9734, Class 1: 0.4013, Class 2: 0.0770, Class 3: 0.2003, Class 4: 0.5637, Class 5: 0.2275, Class 6: 0.7839, \n",
      "\n",
      "Overall Mean Dice Score: 0.5732\n",
      "Overall Mean F-beta Score: 0.6447\n",
      "Overall Mean IoU Score: 0.4353\n",
      "Final_score: 0.4772\n",
      "Training Loss: 0.1735, Validation Loss: 0.2044, Validation hybrid_score: 0.4772\n",
      "Early stopping\n"
     ]
    },
    {
     "name": "stderr",
     "output_type": "stream",
     "text": [
      "\n"
     ]
    },
    {
     "data": {
      "text/html": [],
      "text/plain": [
       "<IPython.core.display.HTML object>"
      ]
     },
     "metadata": {},
     "output_type": "display_data"
    },
    {
     "data": {
      "text/html": [
       "<br>    <style><br>        .wandb-row {<br>            display: flex;<br>            flex-direction: row;<br>            flex-wrap: wrap;<br>            justify-content: flex-start;<br>            width: 100%;<br>        }<br>        .wandb-col {<br>            display: flex;<br>            flex-direction: column;<br>            flex-basis: 100%;<br>            flex: 1;<br>            padding: 10px;<br>        }<br>    </style><br><div class=\"wandb-row\"><div class=\"wandb-col\"><h3>Run history:</h3><br/><table class=\"wandb\"><tr><td>class_0_IoU_score</td><td>▁▁▅▆▇▇█████▇█████▇██▇▇█████▇██▇█████████</td></tr><tr><td>class_0_dice_score</td><td>▃▁▄▃▆▅▇▄▆▇▆▅██▅▆▇█▇▇▄▆▆▅▅▆▅▇▃▆█▅▆▅▅▄▅▆▆▅</td></tr><tr><td>class_0_f_beta_score</td><td>██▅▇█▆▅▅▆▅▅▆▅▄▅▅▂▂▃▂▂▄▁▂▂▄▅▃▄▂▃▂▃▅▃▃▄▄▁▄</td></tr><tr><td>class_1_IoU_score</td><td>▁▁▅▆▇▇▇█████▇▇█▇████▇████████▇██████████</td></tr><tr><td>class_1_dice_score</td><td>▁▁▁▁▂▃▄▅▅▆▆▆▆▅▆▆▇▇▇▆▆▆▇▇▇▇▇▇▇▇▆▇▇█▆▇▇▇▇█</td></tr><tr><td>class_1_f_beta_score</td><td>▁▁▂▄▅▆▆▇▇▇▆▆▆▇▇▇▇▇▇▇██▇▇██▇██▇█▇██▇▇██▇█</td></tr><tr><td>class_2_IoU_score</td><td>▁▄▅▇▇▇███▇▇█▇█▇▇██▇▇███▇██▇▆████████████</td></tr><tr><td>class_2_dice_score</td><td>▁▁▁▁▁▂▂▂▃▃▅▅▄▄▅▃▅▂▃▄▄▄▅▄▆▆▆▆▄▇▅█▆▅▄▅█▅▄▇</td></tr><tr><td>class_2_f_beta_score</td><td>▁▁▁▁▁▁▁▂▂▂▂▂▃▃▃▃▂▅▄▃▄▅▅▇▄▅▄▅▄▇▅▅▄█▄▅▇▄▃▅</td></tr><tr><td>class_3_IoU_score</td><td>▁▆▇▇▇████▇▇█▇█▇▇▇▇████▇██▆██████████████</td></tr><tr><td>class_3_dice_score</td><td>▁▁▁▂▃▅▅▄▆▄▆▅▇▆▆▆▆▇▇▆▆▇▇▆▆▇▇▇▆▇▆▇▆▇▇▆████</td></tr><tr><td>class_3_f_beta_score</td><td>▁▃▂▄▄▆▆▆▅▅▆▆▆▇▆▆▆▆▇█▇▇▅▅▆▇█▆▆█▆▆▇▇▇█▇█▆▇</td></tr><tr><td>class_4_IoU_score</td><td>▁▁▄▅▆▇▇▇███▇█▇███▇██▇▇██████████████████</td></tr><tr><td>class_4_dice_score</td><td>▁▄▄▆▅▆▇▆▆▇▇▇▇██▇▇▇▇▆█▇█▇▆▇█▇▇▇▇█▇██▇▇▇▇▇</td></tr><tr><td>class_4_f_beta_score</td><td>▁▃▅▄▄▅▅▆▄▅▆▇▆▆▇▆▆▇█▇█▇█▇█▇███▆▇▇██▇█▇█▇▇</td></tr><tr><td>class_5_IoU_score</td><td>▁▁▄▅▆▇▇███▇▇█▇█▇████▇████▇▆█████████████</td></tr><tr><td>class_5_dice_score</td><td>▁▁▁▂▄▄▂▂▄▂▄▅▅▅▅▆▆▅▆▅▇▇▆▆▇▇▇▇▆▇▇▆▇▅█▇▇█▇▆</td></tr><tr><td>class_5_f_beta_score</td><td>▁▁▃▁▁▂▃▁▃▄▄▄▄▄▃▆▅▅▆▅▇▅▆▇▇▆▇▆▇▇▇██▇▅▇▇▇▅█</td></tr><tr><td>class_6_IoU_score</td><td>▁▁▄▆▇▇▇▇████▇█▇█▇▇████▇██▆██████████████</td></tr><tr><td>class_6_dice_score</td><td>▁▂▅█▇██████▇█████████████▆▇█████████████</td></tr><tr><td>class_6_f_beta_score</td><td>▁▁▄▅▇▇▇▇███▇█▇▇██▇██████████▇▆██████████</td></tr><tr><td>epoch</td><td>▁▁▁▂▂▃▃▃▃▃▄▄▄▄▅▅▅▅▅▅▆▆▆▆▆▆▆▇▇▇▇▇▇▇▇█████</td></tr><tr><td>final_score</td><td>▁▁▃▄▄▅▅▆▆▆▇▆▇▇▇▇▇▇█▇▇▇██▇▇██▇█▇██████▇█▇</td></tr><tr><td>overall_mean_IoU_score</td><td>▁▂▄▄▅▅▆▆▆▆▇▇▇▆▇▇▇▇▇▇▇█▇▇▇█▇▇█▇▇█▇████▇▇█</td></tr><tr><td>overall_mean_dice_score</td><td>▁▃▃▅▄▅▅▆▆▆▇▇▇▇▆▇▇▇▇▇█▇▇▇█▇▇█▇█▇█▇██████▇</td></tr><tr><td>overall_mean_f_beta_score</td><td>▁▃▄▄▃▅▆▅▆▆▆▇▇▇▆▇▇▆▇▇▇█▇█▇████▇████████▇▇</td></tr><tr><td>train_epoch_loss</td><td>█▃▂▂▂▁▁▁▁▁▁▁▁▁▁▁▁▁▁▁▁▁▁▁▁▁▁▁▁▁▁▁▁▁▁▁▁▁▁▁</td></tr><tr><td>val_epoch_loss</td><td>█▆▅▅▃▃▂▂▂▃▂▂▂▁▂▁▁▂▂▂▂▂▂▂▂▁▂▂▂▁▂▂▁▂▁▁▂▁▂▂</td></tr></table><br/></div><div class=\"wandb-col\"><h3>Run summary:</h3><br/><table class=\"wandb\"><tr><td>class_0_IoU_score</td><td>0.89884</td></tr><tr><td>class_0_dice_score</td><td>0.98653</td></tr><tr><td>class_0_f_beta_score</td><td>0.98853</td></tr><tr><td>class_1_IoU_score</td><td>0.89884</td></tr><tr><td>class_1_dice_score</td><td>0.56905</td></tr><tr><td>class_1_f_beta_score</td><td>0.83283</td></tr><tr><td>class_2_IoU_score</td><td>0.89884</td></tr><tr><td>class_2_dice_score</td><td>0.14047</td></tr><tr><td>class_2_f_beta_score</td><td>0.11578</td></tr><tr><td>class_3_IoU_score</td><td>0.89884</td></tr><tr><td>class_3_dice_score</td><td>0.33017</td></tr><tr><td>class_3_f_beta_score</td><td>0.50415</td></tr><tr><td>class_4_IoU_score</td><td>0.89884</td></tr><tr><td>class_4_dice_score</td><td>0.7207</td></tr><tr><td>class_4_f_beta_score</td><td>0.68466</td></tr><tr><td>class_5_IoU_score</td><td>0.89884</td></tr><tr><td>class_5_dice_score</td><td>0.36904</td></tr><tr><td>class_5_f_beta_score</td><td>0.30288</td></tr><tr><td>class_6_IoU_score</td><td>0.89884</td></tr><tr><td>class_6_dice_score</td><td>0.87726</td></tr><tr><td>class_6_f_beta_score</td><td>0.89884</td></tr><tr><td>epoch</td><td>68</td></tr><tr><td>final_score</td><td>0.4772</td></tr><tr><td>overall_mean_IoU_score</td><td>0.43533</td></tr><tr><td>overall_mean_dice_score</td><td>0.57324</td></tr><tr><td>overall_mean_f_beta_score</td><td>0.64467</td></tr><tr><td>train_epoch_loss</td><td>0.17355</td></tr><tr><td>val_epoch_loss</td><td>0.20443</td></tr></table><br/></div></div>"
      ],
      "text/plain": [
       "<IPython.core.display.HTML object>"
      ]
     },
     "metadata": {},
     "output_type": "display_data"
    },
    {
     "data": {
      "text/html": [
       " View run <strong style=\"color:#cdcd00\">CBAM_CBAM_denoised_noGauss_f48_lr1e-03_a0.50_b16_r4_ce0.8_ac1</strong> at: <a href='https://wandb.ai/limbw/czii_UNet/runs/ppp4atc2' target=\"_blank\">https://wandb.ai/limbw/czii_UNet/runs/ppp4atc2</a><br> View project at: <a href='https://wandb.ai/limbw/czii_UNet' target=\"_blank\">https://wandb.ai/limbw/czii_UNet</a><br>Synced 5 W&B file(s), 0 media file(s), 0 artifact file(s) and 0 other file(s)"
      ],
      "text/plain": [
       "<IPython.core.display.HTML object>"
      ]
     },
     "metadata": {},
     "output_type": "display_data"
    },
    {
     "data": {
      "text/html": [
       "Find logs at: <code>.\\wandb\\run-20250124_010043-ppp4atc2\\logs</code>"
      ],
      "text/plain": [
       "<IPython.core.display.HTML object>"
      ]
     },
     "metadata": {},
     "output_type": "display_data"
    }
   ],
   "source": [
    "train_model(\n",
    "    model=model,\n",
    "    train_loader=train_loader,\n",
    "    val_loader=val_loader,\n",
    "    criterion=criterion,\n",
    "    optimizer=optimizer,\n",
    "    num_epochs=num_epochs,\n",
    "    patience=10,\n",
    "    device=device,\n",
    "    start_epoch=start_epoch,\n",
    "    best_val_loss=best_val_loss,\n",
    "    best_val_fbeta_score=best_val_fbeta_score,\n",
    "    calculate_dice_interval=1,\n",
    "    accumulation_steps = accumulation_steps,\n",
    "    pretrained=True,\n",
    "    ) "
   ]
  },
  {
   "cell_type": "code",
   "execution_count": 12,
   "metadata": {},
   "outputs": [
    {
     "ename": "SyntaxError",
     "evalue": "invalid syntax (4110802630.py, line 1)",
     "output_type": "error",
     "traceback": [
      "\u001b[1;36m  Cell \u001b[1;32mIn[12], line 1\u001b[1;36m\u001b[0m\n\u001b[1;33m    if\u001b[0m\n\u001b[1;37m      ^\u001b[0m\n\u001b[1;31mSyntaxError\u001b[0m\u001b[1;31m:\u001b[0m invalid syntax\n"
     ]
    }
   ],
   "source": [
    "if"
   ]
  },
  {
   "cell_type": "code",
   "execution_count": null,
   "metadata": {},
   "outputs": [
    {
     "name": "stderr",
     "output_type": "stream",
     "text": [
      "Loading dataset: 100%|██████████| 6/6 [00:00<00:00, 11.58it/s]\n",
      "Loading dataset: 100%|██████████| 1/1 [00:00<00:00, 10.50it/s]\n"
     ]
    },
    {
     "name": "stdout",
     "output_type": "stream",
     "text": [
      "torch.Size([16, 1, 32, 96, 96]) torch.Size([16, 1, 32, 96, 96])\n"
     ]
    }
   ],
   "source": [
    "# train_img_dir = './datasets/public_data/images'\n",
    "# train_label_dir = './datasets/public_data/labels'\n",
    "train_img_dir = './datasets/denoised_data/images'\n",
    "train_label_dir = './datasets/denoised_data/labels'\n",
    "\n",
    "train_loader, val_loader = None, None\n",
    "train_loader, val_loader = create_dataloaders_bw(\n",
    "    train_img_dir, \n",
    "    train_label_dir, \n",
    "    val_img_dir, \n",
    "    val_label_dir, \n",
    "    non_random_transforms = non_random_transforms, \n",
    "    val_non_random_transforms = non_random_transforms,\n",
    "    random_transforms = val_random_transforms, \n",
    "    val_random_transforms=val_random_transforms,\n",
    "    batch_size = loader_batch,\n",
    "    num_workers=0,\n",
    "    train_num_repeat=num_repeat\n",
    "    )\n",
    "\n",
    "batch = next(iter(val_loader))\n",
    "images, labels = batch[\"image\"], batch[\"label\"]\n",
    "print(images.shape, labels.shape)"
   ]
  },
  {
   "cell_type": "code",
   "execution_count": null,
   "metadata": {},
   "outputs": [],
   "source": [
    "torch.backends.cudnn.benchmark = True"
   ]
  },
  {
   "cell_type": "code",
   "execution_count": null,
   "metadata": {},
   "outputs": [
    {
     "name": "stdout",
     "output_type": "stream",
     "text": [
      "기존 best model 발견: model_checkpoints\\pre_UNET_511_241_prelu_instance_f48_lr1e-03_a0.52_b16_r4_ce0.4_ac1\\best_model_pretrained.pt\n",
      "기존 학습된 가중치를 성공적으로 로드했습니다.\n"
     ]
    },
    {
     "name": "stderr",
     "output_type": "stream",
     "text": [
      "C:\\Users\\pook0\\AppData\\Local\\Temp\\ipykernel_10444\\1145606841.py:6: FutureWarning: You are using `torch.load` with `weights_only=False` (the current default value), which uses the default pickle module implicitly. It is possible to construct malicious pickle data which will execute arbitrary code during unpickling (See https://github.com/pytorch/pytorch/blob/main/SECURITY.md#untrusted-models for more details). In a future release, the default value for `weights_only` will be flipped to `True`. This limits the functions that could be executed during unpickling. Arbitrary objects will no longer be allowed to be loaded via this mode unless they are explicitly allowlisted by the user via `torch.serialization.add_safe_globals`. We recommend you start setting `weights_only=True` for any use case where you don't have full control of the loaded file. Please open an issue on GitHub for any issues related to this experimental feature.\n",
      "  checkpoint = torch.load(best_model_path, map_location=device)\n"
     ]
    }
   ],
   "source": [
    "\n",
    "if checkpoint_dir.exists():\n",
    "    best_model_path = checkpoint_dir / 'best_model_pretrained.pt'\n",
    "    if best_model_path.exists():\n",
    "        print(f\"기존 best model 발견: {best_model_path}\")\n",
    "        try:\n",
    "            checkpoint = torch.load(best_model_path, map_location=device)\n",
    "            # 체크포인트 내부 키 검증\n",
    "            required_keys = ['model_state_dict', 'optimizer_state_dict', 'epoch', 'best_val_loss', 'best_val_fbeta_score']\n",
    "            if all(k in checkpoint for k in required_keys):\n",
    "                model.load_state_dict(checkpoint['model_state_dict'])\n",
    "                optimizer.load_state_dict(checkpoint['optimizer_state_dict'])\n",
    "                start_epoch = checkpoint['epoch']\n",
    "                best_val_loss = checkpoint['best_val_loss']\n",
    "                best_val_fbeta_score = checkpoint['best_val_fbeta_score']\n",
    "                print(\"기존 학습된 가중치를 성공적으로 로드했습니다.\")\n",
    "                checkpoint= None\n",
    "            else:\n",
    "                raise ValueError(\"체크포인트 파일에 필요한 key가 없습니다.\")\n",
    "        except Exception as e:\n",
    "            print(f\"체크포인트 파일을 로드하는 중 오류 발생: {e}\")\n",
    "            \n",
    "# lr = lr/2\n",
    "            \n",
    "# optimizer = optim.AdamW(model.parameters(), lr=lr, weight_decay=1e-5)\n",
    "# scheduler = torch.optim.lr_scheduler.ReduceLROnPlateau(optimizer, patience=5, factor=0.5)\n"
   ]
  },
  {
   "cell_type": "code",
   "execution_count": null,
   "metadata": {},
   "outputs": [
    {
     "name": "stderr",
     "output_type": "stream",
     "text": [
      "\u001b[34m\u001b[1mwandb\u001b[0m: Using wandb-core as the SDK backend.  Please refer to https://wandb.me/wandb-core for more information.\n",
      "\u001b[34m\u001b[1mwandb\u001b[0m: Currently logged in as: \u001b[33mpook0612\u001b[0m (\u001b[33mlimbw\u001b[0m). Use \u001b[1m`wandb login --relogin`\u001b[0m to force relogin\n"
     ]
    },
    {
     "data": {
      "text/html": [
       "Tracking run with wandb version 0.19.1"
      ],
      "text/plain": [
       "<IPython.core.display.HTML object>"
      ]
     },
     "metadata": {},
     "output_type": "display_data"
    },
    {
     "data": {
      "text/html": [
       "Run data is saved locally in <code>d:\\Workspace\\czll\\wandb\\run-20250120_232730-o8iqln63</code>"
      ],
      "text/plain": [
       "<IPython.core.display.HTML object>"
      ]
     },
     "metadata": {},
     "output_type": "display_data"
    },
    {
     "data": {
      "text/html": [
       "Syncing run <strong><a href='https://wandb.ai/limbw/czii_UNet/runs/o8iqln63' target=\"_blank\">pre_UNET_511_241_prelu_instance_f48_lr1e-03_a0.52_b16_r4_ce0.4_ac1</a></strong> to <a href='https://wandb.ai/limbw/czii_UNet' target=\"_blank\">Weights & Biases</a> (<a href='https://wandb.me/developer-guide' target=\"_blank\">docs</a>)<br>"
      ],
      "text/plain": [
       "<IPython.core.display.HTML object>"
      ]
     },
     "metadata": {},
     "output_type": "display_data"
    },
    {
     "data": {
      "text/html": [
       " View project at <a href='https://wandb.ai/limbw/czii_UNet' target=\"_blank\">https://wandb.ai/limbw/czii_UNet</a>"
      ],
      "text/plain": [
       "<IPython.core.display.HTML object>"
      ]
     },
     "metadata": {},
     "output_type": "display_data"
    },
    {
     "data": {
      "text/html": [
       " View run at <a href='https://wandb.ai/limbw/czii_UNet/runs/o8iqln63' target=\"_blank\">https://wandb.ai/limbw/czii_UNet/runs/o8iqln63</a>"
      ],
      "text/plain": [
       "<IPython.core.display.HTML object>"
      ]
     },
     "metadata": {},
     "output_type": "display_data"
    }
   ],
   "source": [
    "import wandb\n",
    "from datetime import datetime\n",
    "\n",
    "current_time = datetime.now().strftime('%Y%m%d_%H%M%S')\n",
    "run_name = folder_name\n",
    "\n",
    "# wandb 초기화\n",
    "wandb.init(\n",
    "    project='czii_UNet',  # 프로젝트 이름 설정\n",
    "    name=run_name,         # 실행(run) 이름 설정\n",
    "    config={\n",
    "        'num_epochs': num_epochs,\n",
    "        'learning_rate': lr,\n",
    "        'batch_size': batch_size,\n",
    "        'lambda': lamda,\n",
    "        \"cross_entropy_weight\": ce_weight,\n",
    "        'feature_size': feature_size,\n",
    "        'img_size': img_size,\n",
    "        'sampling_ratio': ratios_list,\n",
    "        'device': device.type,\n",
    "        \"checkpoint_dir\": str(checkpoint_dir),\n",
    "        \"class_weights\": class_weights.tolist() if class_weights is not None else None,\n",
    "        # \"use_checkpoint\": use_checkpoint,\n",
    "        \"drop_rate\": drop_rate,\n",
    "        # \"attn_drop_rate\": attn_drop_rate,\n",
    "        # \"use_v2\": use_v2,\n",
    "        \"accumulation_steps\": accumulation_steps,\n",
    "        \"num_repeat\": num_repeat,\n",
    "        # \"num_bottleneck\": num_bottleneck,\n",
    "        \n",
    "        # 필요한 하이퍼파라미터 추가\n",
    "    }\n",
    ")\n",
    "# 모델을 wandb에 연결\n",
    "wandb.watch(model, log='all')"
   ]
  },
  {
   "cell_type": "code",
   "execution_count": null,
   "metadata": {},
   "outputs": [
    {
     "name": "stdout",
     "output_type": "stream",
     "text": [
      "Epoch 24/4000\n"
     ]
    },
    {
     "name": "stderr",
     "output_type": "stream",
     "text": [
      "Training: 100%|██████████| 24/24 [00:18<00:00,  1.28it/s, loss=0.463]\n",
      "Validation: 100%|██████████| 1/1 [00:00<00:00,  2.00it/s, loss=0.416]\n"
     ]
    },
    {
     "name": "stdout",
     "output_type": "stream",
     "text": [
      "Validation Dice Score\n",
      "Class 0: 0.9861, Class 1: 0.7892, Class 2: 0.1384, Class 3: 0.2843, Class 4: 0.6754, Class 5: 0.5236, Class 6: 0.8906, \n",
      "Validation F-beta Score\n",
      "Class 0: 0.9821, Class 1: 0.8506, Class 2: 0.1222, Class 3: 0.5436, Class 4: 0.7712, Class 5: 0.5610, Class 6: 0.9190, \n",
      "Validation mIoU Score\n",
      "Class 0: 0.9726, Class 1: 0.6518, Class 2: 0.0744, Class 3: 0.1657, Class 4: 0.5099, Class 5: 0.3546, Class 6: 0.8028, \n",
      "\n",
      "Overall Mean Dice Score: 0.6326\n",
      "Overall Mean F-beta Score: 0.7291\n",
      "Overall Mean IoU Score: 0.4970\n",
      "Final_score: 0.6362\n",
      "Training Loss: 0.4581, Validation Loss: 0.4156, Validation hybrid_score: 0.6362\n",
      "Epoch 25/4000\n"
     ]
    },
    {
     "name": "stderr",
     "output_type": "stream",
     "text": [
      "Training: 100%|██████████| 24/24 [00:13<00:00,  1.84it/s, loss=0.448]\n",
      "Validation: 100%|██████████| 1/1 [00:00<00:00,  2.08it/s, loss=0.447]\n"
     ]
    },
    {
     "name": "stdout",
     "output_type": "stream",
     "text": [
      "Validation Dice Score\n",
      "Class 0: 0.9841, Class 1: 0.7653, Class 2: 0.0000, Class 3: 0.3721, Class 4: 0.6556, Class 5: 0.3996, Class 6: 0.8798, \n",
      "Validation F-beta Score\n",
      "Class 0: 0.9825, Class 1: 0.9082, Class 2: 0.0000, Class 3: 0.6315, Class 4: 0.6796, Class 5: 0.3738, Class 6: 0.9255, \n",
      "Validation mIoU Score\n",
      "Class 0: 0.9687, Class 1: 0.6198, Class 2: 0.0000, Class 3: 0.2285, Class 4: 0.4877, Class 5: 0.2497, Class 6: 0.7854, \n",
      "\n",
      "Overall Mean Dice Score: 0.6145\n",
      "Overall Mean F-beta Score: 0.7037\n",
      "Overall Mean IoU Score: 0.4742\n",
      "Final_score: 0.6119\n",
      "Training Loss: 0.4565, Validation Loss: 0.4466, Validation hybrid_score: 0.6119\n",
      "Epoch 26/4000\n"
     ]
    },
    {
     "name": "stderr",
     "output_type": "stream",
     "text": [
      "Training: 100%|██████████| 24/24 [00:12<00:00,  1.90it/s, loss=0.443]\n",
      "Validation: 100%|██████████| 1/1 [00:00<00:00,  1.98it/s, loss=0.437]\n"
     ]
    },
    {
     "name": "stdout",
     "output_type": "stream",
     "text": [
      "Validation Dice Score\n",
      "Class 0: 0.9857, Class 1: 0.6677, Class 2: 0.2432, Class 3: 0.4317, Class 4: 0.7241, Class 5: 0.4007, Class 6: 0.7253, \n",
      "Validation F-beta Score\n",
      "Class 0: 0.9815, Class 1: 0.8626, Class 2: 0.2705, Class 3: 0.5610, Class 4: 0.7540, Class 5: 0.4719, Class 6: 0.9166, \n",
      "Validation mIoU Score\n",
      "Class 0: 0.9717, Class 1: 0.5012, Class 2: 0.1384, Class 3: 0.2752, Class 4: 0.5676, Class 5: 0.2506, Class 6: 0.5690, \n",
      "\n",
      "Overall Mean Dice Score: 0.5899\n",
      "Overall Mean F-beta Score: 0.7132\n",
      "Overall Mean IoU Score: 0.4327\n",
      "Final_score: 0.6010\n",
      "Training Loss: 0.4517, Validation Loss: 0.4368, Validation hybrid_score: 0.6010\n",
      "Epoch 27/4000\n"
     ]
    },
    {
     "name": "stderr",
     "output_type": "stream",
     "text": [
      "Training: 100%|██████████| 24/24 [00:12<00:00,  1.93it/s, loss=0.44] \n",
      "Validation: 100%|██████████| 1/1 [00:00<00:00,  2.21it/s, loss=0.465]\n"
     ]
    },
    {
     "name": "stdout",
     "output_type": "stream",
     "text": [
      "Validation Dice Score\n",
      "Class 0: 0.9861, Class 1: 0.6423, Class 2: 0.1735, Class 3: 0.3544, Class 4: 0.7264, Class 5: 0.3529, Class 6: 0.8893, \n",
      "Validation F-beta Score\n",
      "Class 0: 0.9805, Class 1: 0.8765, Class 2: 0.1555, Class 3: 0.4457, Class 4: 0.8178, Class 5: 0.5004, Class 6: 0.9350, \n",
      "Validation mIoU Score\n",
      "Class 0: 0.9726, Class 1: 0.4730, Class 2: 0.0950, Class 3: 0.2154, Class 4: 0.5704, Class 5: 0.2143, Class 6: 0.8006, \n",
      "\n",
      "Overall Mean Dice Score: 0.5931\n",
      "Overall Mean F-beta Score: 0.7151\n",
      "Overall Mean IoU Score: 0.4547\n",
      "Final_score: 0.6110\n",
      "Training Loss: 0.4493, Validation Loss: 0.4650, Validation hybrid_score: 0.6110\n",
      "Epoch 28/4000\n"
     ]
    },
    {
     "name": "stderr",
     "output_type": "stream",
     "text": [
      "Training: 100%|██████████| 24/24 [00:12<00:00,  1.88it/s, loss=0.466]\n",
      "Validation: 100%|██████████| 1/1 [00:00<00:00,  2.15it/s, loss=0.46]\n"
     ]
    },
    {
     "name": "stdout",
     "output_type": "stream",
     "text": [
      "Validation Dice Score\n",
      "Class 0: 0.9855, Class 1: 0.7329, Class 2: 0.1324, Class 3: 0.4713, Class 4: 0.6462, Class 5: 0.3896, Class 6: 0.7950, \n",
      "Validation F-beta Score\n",
      "Class 0: 0.9803, Class 1: 0.8632, Class 2: 0.1852, Class 3: 0.5573, Class 4: 0.7197, Class 5: 0.5180, Class 6: 0.8821, \n",
      "Validation mIoU Score\n",
      "Class 0: 0.9713, Class 1: 0.5783, Class 2: 0.0709, Class 3: 0.3083, Class 4: 0.4773, Class 5: 0.2419, Class 6: 0.6598, \n",
      "\n",
      "Overall Mean Dice Score: 0.6070\n",
      "Overall Mean F-beta Score: 0.7081\n",
      "Overall Mean IoU Score: 0.4531\n",
      "Final_score: 0.6061\n",
      "Training Loss: 0.4542, Validation Loss: 0.4599, Validation hybrid_score: 0.6061\n",
      "Epoch 29/4000\n"
     ]
    },
    {
     "name": "stderr",
     "output_type": "stream",
     "text": [
      "Training: 100%|██████████| 24/24 [00:12<00:00,  1.91it/s, loss=0.438]\n",
      "Validation: 100%|██████████| 1/1 [00:00<00:00,  1.89it/s, loss=0.443]\n"
     ]
    },
    {
     "name": "stdout",
     "output_type": "stream",
     "text": [
      "Validation Dice Score\n",
      "Class 0: 0.9880, Class 1: 0.7546, Class 2: 0.0000, Class 3: 0.4267, Class 4: 0.7971, Class 5: 0.3136, Class 6: 0.8921, \n",
      "Validation F-beta Score\n",
      "Class 0: 0.9861, Class 1: 0.8292, Class 2: 0.0000, Class 3: 0.5374, Class 4: 0.7933, Class 5: 0.3395, Class 6: 0.9456, \n",
      "Validation mIoU Score\n",
      "Class 0: 0.9763, Class 1: 0.6059, Class 2: 0.0000, Class 3: 0.2712, Class 4: 0.6627, Class 5: 0.1859, Class 6: 0.8053, \n",
      "\n",
      "Overall Mean Dice Score: 0.6368\n",
      "Overall Mean F-beta Score: 0.6890\n",
      "Overall Mean IoU Score: 0.5062\n",
      "Final_score: 0.6159\n",
      "Training Loss: 0.4479, Validation Loss: 0.4427, Validation hybrid_score: 0.6159\n",
      "Epoch 30/4000\n"
     ]
    },
    {
     "name": "stderr",
     "output_type": "stream",
     "text": [
      "Training: 100%|██████████| 24/24 [00:12<00:00,  1.92it/s, loss=0.455]\n",
      "Validation: 100%|██████████| 1/1 [00:00<00:00,  2.03it/s, loss=0.446]\n"
     ]
    },
    {
     "name": "stdout",
     "output_type": "stream",
     "text": [
      "Validation Dice Score\n",
      "Class 0: 0.9859, Class 1: 0.6384, Class 2: 0.2589, Class 3: 0.4340, Class 4: 0.7328, Class 5: 0.5233, Class 6: 0.7279, \n",
      "Validation F-beta Score\n",
      "Class 0: 0.9832, Class 1: 0.8493, Class 2: 0.2380, Class 3: 0.6191, Class 4: 0.7382, Class 5: 0.5817, Class 6: 0.9330, \n",
      "Validation mIoU Score\n",
      "Class 0: 0.9722, Class 1: 0.4689, Class 2: 0.1487, Class 3: 0.2772, Class 4: 0.5783, Class 5: 0.3544, Class 6: 0.5722, \n",
      "\n",
      "Overall Mean Dice Score: 0.6113\n",
      "Overall Mean F-beta Score: 0.7442\n",
      "Overall Mean IoU Score: 0.4502\n",
      "Final_score: 0.6266\n",
      "Training Loss: 0.4474, Validation Loss: 0.4461, Validation hybrid_score: 0.6266\n",
      "Epoch 31/4000\n"
     ]
    },
    {
     "name": "stderr",
     "output_type": "stream",
     "text": [
      "Training: 100%|██████████| 24/24 [00:12<00:00,  1.90it/s, loss=0.438]\n",
      "Validation: 100%|██████████| 1/1 [00:00<00:00,  2.13it/s, loss=0.406]\n"
     ]
    },
    {
     "name": "stdout",
     "output_type": "stream",
     "text": [
      "Validation Dice Score\n",
      "Class 0: 0.9881, Class 1: 0.7610, Class 2: 0.1258, Class 3: 0.5327, Class 4: 0.6596, Class 5: 0.5713, Class 6: 0.9161, \n",
      "Validation F-beta Score\n",
      "Class 0: 0.9861, Class 1: 0.8721, Class 2: 0.1185, Class 3: 0.5612, Class 4: 0.7402, Class 5: 0.5810, Class 6: 0.9411, \n",
      "Validation mIoU Score\n",
      "Class 0: 0.9766, Class 1: 0.6142, Class 2: 0.0671, Class 3: 0.3631, Class 4: 0.4921, Class 5: 0.3999, Class 6: 0.8451, \n",
      "\n",
      "Overall Mean Dice Score: 0.6881\n",
      "Overall Mean F-beta Score: 0.7391\n",
      "Overall Mean IoU Score: 0.5429\n",
      "Final_score: 0.6606\n",
      "Training Loss: 0.4472, Validation Loss: 0.4063, Validation hybrid_score: 0.6606\n",
      "========================================================\n",
      "SUPER Best model saved. Loss:0.4063, Score:0.6606\n",
      "========================================================\n",
      "Epoch 32/4000\n"
     ]
    },
    {
     "name": "stderr",
     "output_type": "stream",
     "text": [
      "Training: 100%|██████████| 24/24 [00:12<00:00,  1.90it/s, loss=0.448]\n",
      "Validation: 100%|██████████| 1/1 [00:00<00:00,  2.13it/s, loss=0.436]\n"
     ]
    },
    {
     "name": "stdout",
     "output_type": "stream",
     "text": [
      "Validation Dice Score\n",
      "Class 0: 0.9861, Class 1: 0.7491, Class 2: 0.1733, Class 3: 0.4829, Class 4: 0.6653, Class 5: 0.4754, Class 6: 0.7797, \n",
      "Validation F-beta Score\n",
      "Class 0: 0.9813, Class 1: 0.8632, Class 2: 0.1761, Class 3: 0.6894, Class 4: 0.7788, Class 5: 0.4964, Class 6: 0.9233, \n",
      "Validation mIoU Score\n",
      "Class 0: 0.9727, Class 1: 0.5988, Class 2: 0.0949, Class 3: 0.3183, Class 4: 0.4985, Class 5: 0.3118, Class 6: 0.6390, \n",
      "\n",
      "Overall Mean Dice Score: 0.6305\n",
      "Overall Mean F-beta Score: 0.7502\n",
      "Overall Mean IoU Score: 0.4733\n",
      "Final_score: 0.6395\n",
      "Training Loss: 0.4474, Validation Loss: 0.4362, Validation hybrid_score: 0.6395\n",
      "Epoch 33/4000\n"
     ]
    },
    {
     "name": "stderr",
     "output_type": "stream",
     "text": [
      "Training: 100%|██████████| 24/24 [00:12<00:00,  1.98it/s, loss=0.442]\n",
      "Validation: 100%|██████████| 1/1 [00:00<00:00,  2.12it/s, loss=0.433]\n"
     ]
    },
    {
     "name": "stdout",
     "output_type": "stream",
     "text": [
      "Validation Dice Score\n",
      "Class 0: 0.9856, Class 1: 0.7564, Class 2: 0.0044, Class 3: 0.5708, Class 4: 0.7542, Class 5: 0.5418, Class 6: 0.8340, \n",
      "Validation F-beta Score\n",
      "Class 0: 0.9812, Class 1: 0.8815, Class 2: 0.0084, Class 3: 0.6360, Class 4: 0.8604, Class 5: 0.5461, Class 6: 0.9060, \n",
      "Validation mIoU Score\n",
      "Class 0: 0.9715, Class 1: 0.6082, Class 2: 0.0022, Class 3: 0.3994, Class 4: 0.6054, Class 5: 0.3716, Class 6: 0.7152, \n",
      "\n",
      "Overall Mean Dice Score: 0.6915\n",
      "Overall Mean F-beta Score: 0.7660\n",
      "Overall Mean IoU Score: 0.5400\n",
      "Final_score: 0.6756\n",
      "Training Loss: 0.4497, Validation Loss: 0.4325, Validation hybrid_score: 0.6756\n",
      "Epoch 34/4000\n"
     ]
    },
    {
     "name": "stderr",
     "output_type": "stream",
     "text": [
      "Training: 100%|██████████| 24/24 [00:12<00:00,  1.95it/s, loss=0.464]\n",
      "Validation: 100%|██████████| 1/1 [00:00<00:00,  2.07it/s, loss=0.398]\n"
     ]
    },
    {
     "name": "stdout",
     "output_type": "stream",
     "text": [
      "Validation Dice Score\n",
      "Class 0: 0.9882, Class 1: 0.7685, Class 2: 0.3023, Class 3: 0.5044, Class 4: 0.6717, Class 5: 0.5806, Class 6: 0.8917, \n",
      "Validation F-beta Score\n",
      "Class 0: 0.9867, Class 1: 0.7719, Class 2: 0.2913, Class 3: 0.6230, Class 4: 0.6972, Class 5: 0.5690, Class 6: 0.9786, \n",
      "Validation mIoU Score\n",
      "Class 0: 0.9766, Class 1: 0.6241, Class 2: 0.1780, Class 3: 0.3373, Class 4: 0.5056, Class 5: 0.4090, Class 6: 0.8046, \n",
      "\n",
      "Overall Mean Dice Score: 0.6834\n",
      "Overall Mean F-beta Score: 0.7279\n",
      "Overall Mean IoU Score: 0.5361\n",
      "Final_score: 0.6512\n",
      "Training Loss: 0.4449, Validation Loss: 0.3977, Validation hybrid_score: 0.6512\n",
      "Epoch 35/4000\n"
     ]
    },
    {
     "name": "stderr",
     "output_type": "stream",
     "text": [
      "Training: 100%|██████████| 24/24 [00:12<00:00,  1.93it/s, loss=0.433]\n",
      "Validation: 100%|██████████| 1/1 [00:00<00:00,  1.91it/s, loss=0.428]\n"
     ]
    },
    {
     "name": "stdout",
     "output_type": "stream",
     "text": [
      "Validation Dice Score\n",
      "Class 0: 0.9843, Class 1: 0.7584, Class 2: 0.0142, Class 3: 0.5144, Class 4: 0.7112, Class 5: 0.4398, Class 6: 0.8371, \n",
      "Validation F-beta Score\n",
      "Class 0: 0.9784, Class 1: 0.8159, Class 2: 0.0412, Class 3: 0.8419, Class 4: 0.7350, Class 5: 0.6244, Class 6: 0.9171, \n",
      "Validation mIoU Score\n",
      "Class 0: 0.9692, Class 1: 0.6109, Class 2: 0.0072, Class 3: 0.3462, Class 4: 0.5519, Class 5: 0.2819, Class 6: 0.7199, \n",
      "\n",
      "Overall Mean Dice Score: 0.6522\n",
      "Overall Mean F-beta Score: 0.7869\n",
      "Overall Mean IoU Score: 0.5022\n",
      "Final_score: 0.6730\n",
      "Training Loss: 0.4469, Validation Loss: 0.4278, Validation hybrid_score: 0.6730\n",
      "Epoch 36/4000\n"
     ]
    },
    {
     "name": "stderr",
     "output_type": "stream",
     "text": [
      "Training: 100%|██████████| 24/24 [00:12<00:00,  1.92it/s, loss=0.466]\n",
      "Validation: 100%|██████████| 1/1 [00:00<00:00,  2.06it/s, loss=0.457]\n"
     ]
    },
    {
     "name": "stdout",
     "output_type": "stream",
     "text": [
      "Validation Dice Score\n",
      "Class 0: 0.9883, Class 1: 0.7069, Class 2: 0.0839, Class 3: 0.3803, Class 4: 0.5202, Class 5: 0.3762, Class 6: 0.9115, \n",
      "Validation F-beta Score\n",
      "Class 0: 0.9848, Class 1: 0.8214, Class 2: 0.2108, Class 3: 0.4488, Class 4: 0.5668, Class 5: 0.4516, Class 6: 0.9549, \n",
      "Validation mIoU Score\n",
      "Class 0: 0.9769, Class 1: 0.5467, Class 2: 0.0438, Class 3: 0.2348, Class 4: 0.3515, Class 5: 0.2317, Class 6: 0.8374, \n",
      "\n",
      "Overall Mean Dice Score: 0.5790\n",
      "Overall Mean F-beta Score: 0.6487\n",
      "Overall Mean IoU Score: 0.4404\n",
      "Final_score: 0.5654\n",
      "Training Loss: 0.4464, Validation Loss: 0.4568, Validation hybrid_score: 0.5654\n",
      "Epoch 37/4000\n"
     ]
    },
    {
     "name": "stderr",
     "output_type": "stream",
     "text": [
      "Training: 100%|██████████| 24/24 [00:12<00:00,  1.94it/s, loss=0.448]\n",
      "Validation: 100%|██████████| 1/1 [00:00<00:00,  2.10it/s, loss=0.448]\n"
     ]
    },
    {
     "name": "stdout",
     "output_type": "stream",
     "text": [
      "Validation Dice Score\n",
      "Class 0: 0.9863, Class 1: 0.7440, Class 2: 0.0036, Class 3: 0.4482, Class 4: 0.7549, Class 5: 0.3864, Class 6: 0.9018, \n",
      "Validation F-beta Score\n",
      "Class 0: 0.9798, Class 1: 0.9268, Class 2: 0.0046, Class 3: 0.5483, Class 4: 0.8325, Class 5: 0.5974, Class 6: 0.9401, \n",
      "Validation mIoU Score\n",
      "Class 0: 0.9730, Class 1: 0.5923, Class 2: 0.0018, Class 3: 0.2888, Class 4: 0.6062, Class 5: 0.2395, Class 6: 0.8212, \n",
      "\n",
      "Overall Mean Dice Score: 0.6471\n",
      "Overall Mean F-beta Score: 0.7690\n",
      "Overall Mean IoU Score: 0.5096\n",
      "Final_score: 0.6653\n",
      "Training Loss: 0.4444, Validation Loss: 0.4476, Validation hybrid_score: 0.6653\n",
      "Epoch 38/4000\n"
     ]
    },
    {
     "name": "stderr",
     "output_type": "stream",
     "text": [
      "Training: 100%|██████████| 24/24 [00:12<00:00,  1.90it/s, loss=0.416]\n",
      "Validation: 100%|██████████| 1/1 [00:00<00:00,  2.17it/s, loss=0.416]\n"
     ]
    },
    {
     "name": "stdout",
     "output_type": "stream",
     "text": [
      "Validation Dice Score\n",
      "Class 0: 0.9861, Class 1: 0.7852, Class 2: 0.3562, Class 3: 0.4940, Class 4: 0.6819, Class 5: 0.3317, Class 6: 0.8774, \n",
      "Validation F-beta Score\n",
      "Class 0: 0.9807, Class 1: 0.8784, Class 2: 0.3541, Class 3: 0.5859, Class 4: 0.7516, Class 5: 0.4622, Class 6: 0.9563, \n",
      "Validation mIoU Score\n",
      "Class 0: 0.9726, Class 1: 0.6464, Class 2: 0.2167, Class 3: 0.3280, Class 4: 0.5173, Class 5: 0.1988, Class 6: 0.7816, \n",
      "\n",
      "Overall Mean Dice Score: 0.6340\n",
      "Overall Mean F-beta Score: 0.7269\n",
      "Overall Mean IoU Score: 0.4944\n",
      "Final_score: 0.6339\n",
      "Training Loss: 0.4463, Validation Loss: 0.4158, Validation hybrid_score: 0.6339\n",
      "Epoch 39/4000\n"
     ]
    },
    {
     "name": "stderr",
     "output_type": "stream",
     "text": [
      "Training: 100%|██████████| 24/24 [00:12<00:00,  1.95it/s, loss=0.458]\n",
      "Validation: 100%|██████████| 1/1 [00:00<00:00,  2.14it/s, loss=0.448]\n"
     ]
    },
    {
     "name": "stdout",
     "output_type": "stream",
     "text": [
      "Validation Dice Score\n",
      "Class 0: 0.9810, Class 1: 0.7184, Class 2: 0.0000, Class 3: 0.4887, Class 4: 0.6849, Class 5: 0.4235, Class 6: 0.8277, \n",
      "Validation F-beta Score\n",
      "Class 0: 0.9761, Class 1: 0.8737, Class 2: 0.0000, Class 3: 0.5683, Class 4: 0.7410, Class 5: 0.4824, Class 6: 0.9397, \n",
      "Validation mIoU Score\n",
      "Class 0: 0.9628, Class 1: 0.5605, Class 2: 0.0000, Class 3: 0.3234, Class 4: 0.5208, Class 5: 0.2686, Class 6: 0.7060, \n",
      "\n",
      "Overall Mean Dice Score: 0.6286\n",
      "Overall Mean F-beta Score: 0.7210\n",
      "Overall Mean IoU Score: 0.4759\n",
      "Final_score: 0.6230\n",
      "Training Loss: 0.4471, Validation Loss: 0.4478, Validation hybrid_score: 0.6230\n",
      "Epoch 40/4000\n"
     ]
    },
    {
     "name": "stderr",
     "output_type": "stream",
     "text": [
      "Training: 100%|██████████| 24/24 [00:12<00:00,  1.94it/s, loss=0.439]\n",
      "Validation: 100%|██████████| 1/1 [00:00<00:00,  2.12it/s, loss=0.436]\n"
     ]
    },
    {
     "name": "stdout",
     "output_type": "stream",
     "text": [
      "Validation Dice Score\n",
      "Class 0: 0.9858, Class 1: 0.6714, Class 2: 0.1660, Class 3: 0.4393, Class 4: 0.7141, Class 5: 0.5040, Class 6: 0.9023, \n",
      "Validation F-beta Score\n",
      "Class 0: 0.9827, Class 1: 0.8924, Class 2: 0.3209, Class 3: 0.5909, Class 4: 0.7191, Class 5: 0.5588, Class 6: 0.9498, \n",
      "Validation mIoU Score\n",
      "Class 0: 0.9720, Class 1: 0.5054, Class 2: 0.0905, Class 3: 0.2815, Class 4: 0.5553, Class 5: 0.3369, Class 6: 0.8220, \n",
      "\n",
      "Overall Mean Dice Score: 0.6462\n",
      "Overall Mean F-beta Score: 0.7422\n",
      "Overall Mean IoU Score: 0.5002\n",
      "Final_score: 0.6454\n",
      "Training Loss: 0.4419, Validation Loss: 0.4359, Validation hybrid_score: 0.6454\n",
      "Epoch 41/4000\n"
     ]
    },
    {
     "name": "stderr",
     "output_type": "stream",
     "text": [
      "Training: 100%|██████████| 24/24 [00:12<00:00,  1.91it/s, loss=0.447]\n",
      "Validation: 100%|██████████| 1/1 [00:00<00:00,  2.05it/s, loss=0.441]\n"
     ]
    },
    {
     "name": "stdout",
     "output_type": "stream",
     "text": [
      "Validation Dice Score\n",
      "Class 0: 0.9821, Class 1: 0.7561, Class 2: 0.2258, Class 3: 0.6748, Class 4: 0.7600, Class 5: 0.5155, Class 6: 0.6501, \n",
      "Validation F-beta Score\n",
      "Class 0: 0.9804, Class 1: 0.8843, Class 2: 0.2102, Class 3: 0.7025, Class 4: 0.7272, Class 5: 0.6496, Class 6: 0.9255, \n",
      "Validation mIoU Score\n",
      "Class 0: 0.9649, Class 1: 0.6079, Class 2: 0.1273, Class 3: 0.5093, Class 4: 0.6129, Class 5: 0.3473, Class 6: 0.4816, \n",
      "\n",
      "Overall Mean Dice Score: 0.6713\n",
      "Overall Mean F-beta Score: 0.7778\n",
      "Overall Mean IoU Score: 0.5118\n",
      "Final_score: 0.6714\n",
      "Training Loss: 0.4501, Validation Loss: 0.4407, Validation hybrid_score: 0.6714\n",
      "Epoch 42/4000\n"
     ]
    },
    {
     "name": "stderr",
     "output_type": "stream",
     "text": [
      "Training: 100%|██████████| 24/24 [00:12<00:00,  1.93it/s, loss=0.444]\n",
      "Validation: 100%|██████████| 1/1 [00:00<00:00,  2.14it/s, loss=0.42]\n"
     ]
    },
    {
     "name": "stdout",
     "output_type": "stream",
     "text": [
      "Validation Dice Score\n",
      "Class 0: 0.9881, Class 1: 0.7902, Class 2: 0.4311, Class 3: 0.4878, Class 4: 0.7480, Class 5: 0.5388, Class 6: 0.8448, \n",
      "Validation F-beta Score\n",
      "Class 0: 0.9849, Class 1: 0.8801, Class 2: 0.3553, Class 3: 0.6220, Class 4: 0.7847, Class 5: 0.6097, Class 6: 0.9187, \n",
      "Validation mIoU Score\n",
      "Class 0: 0.9765, Class 1: 0.6532, Class 2: 0.2748, Class 3: 0.3225, Class 4: 0.5974, Class 5: 0.3687, Class 6: 0.7314, \n",
      "\n",
      "Overall Mean Dice Score: 0.6819\n",
      "Overall Mean F-beta Score: 0.7631\n",
      "Overall Mean IoU Score: 0.5346\n",
      "Final_score: 0.6717\n",
      "Training Loss: 0.4453, Validation Loss: 0.4204, Validation hybrid_score: 0.6717\n",
      "Epoch 43/4000\n"
     ]
    },
    {
     "name": "stderr",
     "output_type": "stream",
     "text": [
      "Training: 100%|██████████| 24/24 [00:12<00:00,  1.98it/s, loss=0.435]\n",
      "Validation: 100%|██████████| 1/1 [00:00<00:00,  2.05it/s, loss=0.437]\n"
     ]
    },
    {
     "name": "stdout",
     "output_type": "stream",
     "text": [
      "Validation Dice Score\n",
      "Class 0: 0.9851, Class 1: 0.7074, Class 2: 0.0676, Class 3: 0.6236, Class 4: 0.5749, Class 5: 0.5061, Class 6: 0.9337, \n",
      "Validation F-beta Score\n",
      "Class 0: 0.9806, Class 1: 0.8494, Class 2: 0.0817, Class 3: 0.7487, Class 4: 0.7149, Class 5: 0.5674, Class 6: 0.9492, \n",
      "Validation mIoU Score\n",
      "Class 0: 0.9707, Class 1: 0.5473, Class 2: 0.0350, Class 3: 0.4530, Class 4: 0.4034, Class 5: 0.3387, Class 6: 0.8756, \n",
      "\n",
      "Overall Mean Dice Score: 0.6691\n",
      "Overall Mean F-beta Score: 0.7659\n",
      "Overall Mean IoU Score: 0.5236\n",
      "Final_score: 0.6690\n",
      "Training Loss: 0.4442, Validation Loss: 0.4367, Validation hybrid_score: 0.6690\n",
      "Epoch 44/4000\n"
     ]
    },
    {
     "name": "stderr",
     "output_type": "stream",
     "text": [
      "Training: 100%|██████████| 24/24 [00:11<00:00,  2.01it/s, loss=0.424]\n",
      "Validation: 100%|██████████| 1/1 [00:00<00:00,  2.08it/s, loss=0.454]\n"
     ]
    },
    {
     "name": "stdout",
     "output_type": "stream",
     "text": [
      "Validation Dice Score\n",
      "Class 0: 0.9871, Class 1: 0.7215, Class 2: 0.3046, Class 3: 0.5272, Class 4: 0.7722, Class 5: 0.2571, Class 6: 0.7776, \n",
      "Validation F-beta Score\n",
      "Class 0: 0.9825, Class 1: 0.8143, Class 2: 0.2403, Class 3: 0.7840, Class 4: 0.7861, Class 5: 0.3909, Class 6: 0.9251, \n",
      "Validation mIoU Score\n",
      "Class 0: 0.9746, Class 1: 0.5644, Class 2: 0.1797, Class 3: 0.3580, Class 4: 0.6289, Class 5: 0.1475, Class 6: 0.6361, \n",
      "\n",
      "Overall Mean Dice Score: 0.6111\n",
      "Overall Mean F-beta Score: 0.7401\n",
      "Overall Mean IoU Score: 0.4670\n",
      "Final_score: 0.6308\n",
      "Training Loss: 0.4466, Validation Loss: 0.4542, Validation hybrid_score: 0.6308\n",
      "Epoch 45/4000\n"
     ]
    },
    {
     "name": "stderr",
     "output_type": "stream",
     "text": [
      "Training: 100%|██████████| 24/24 [00:12<00:00,  1.87it/s, loss=0.431]\n",
      "Validation: 100%|██████████| 1/1 [00:00<00:00,  2.14it/s, loss=0.432]\n"
     ]
    },
    {
     "name": "stdout",
     "output_type": "stream",
     "text": [
      "Validation Dice Score\n",
      "Class 0: 0.9808, Class 1: 0.8214, Class 2: 0.1269, Class 3: 0.3619, Class 4: 0.6932, Class 5: 0.4894, Class 6: 0.9027, \n",
      "Validation F-beta Score\n",
      "Class 0: 0.9768, Class 1: 0.8586, Class 2: 0.1592, Class 3: 0.5441, Class 4: 0.7173, Class 5: 0.5590, Class 6: 0.9502, \n",
      "Validation mIoU Score\n",
      "Class 0: 0.9623, Class 1: 0.6969, Class 2: 0.0678, Class 3: 0.2209, Class 4: 0.5304, Class 5: 0.3240, Class 6: 0.8227, \n",
      "\n",
      "Overall Mean Dice Score: 0.6537\n",
      "Overall Mean F-beta Score: 0.7259\n",
      "Overall Mean IoU Score: 0.5190\n",
      "Final_score: 0.6431\n",
      "Training Loss: 0.4481, Validation Loss: 0.4315, Validation hybrid_score: 0.6431\n",
      "Epoch 46/4000\n"
     ]
    },
    {
     "name": "stderr",
     "output_type": "stream",
     "text": [
      "Training: 100%|██████████| 24/24 [00:14<00:00,  1.69it/s, loss=0.429]\n",
      "Validation: 100%|██████████| 1/1 [00:00<00:00,  2.03it/s, loss=0.447]\n"
     ]
    },
    {
     "name": "stdout",
     "output_type": "stream",
     "text": [
      "Validation Dice Score\n",
      "Class 0: 0.9831, Class 1: 0.7185, Class 2: 0.1422, Class 3: 0.3700, Class 4: 0.7257, Class 5: 0.3922, Class 6: 0.8760, \n",
      "Validation F-beta Score\n",
      "Class 0: 0.9751, Class 1: 0.9229, Class 2: 0.1533, Class 3: 0.5340, Class 4: 0.8110, Class 5: 0.5828, Class 6: 0.9541, \n",
      "Validation mIoU Score\n",
      "Class 0: 0.9667, Class 1: 0.5607, Class 2: 0.0766, Class 3: 0.2270, Class 4: 0.5695, Class 5: 0.2440, Class 6: 0.7794, \n",
      "\n",
      "Overall Mean Dice Score: 0.6165\n",
      "Overall Mean F-beta Score: 0.7610\n",
      "Overall Mean IoU Score: 0.4761\n",
      "Final_score: 0.6470\n",
      "Training Loss: 0.4422, Validation Loss: 0.4474, Validation hybrid_score: 0.6470\n",
      "Epoch 47/4000\n"
     ]
    },
    {
     "name": "stderr",
     "output_type": "stream",
     "text": [
      "Training: 100%|██████████| 24/24 [00:12<00:00,  1.99it/s, loss=0.442]\n",
      "Validation: 100%|██████████| 1/1 [00:00<00:00,  2.10it/s, loss=0.435]\n"
     ]
    },
    {
     "name": "stdout",
     "output_type": "stream",
     "text": [
      "Validation Dice Score\n",
      "Class 0: 0.9832, Class 1: 0.7996, Class 2: 0.3457, Class 3: 0.4414, Class 4: 0.7333, Class 5: 0.5795, Class 6: 0.7594, \n",
      "Validation F-beta Score\n",
      "Class 0: 0.9813, Class 1: 0.7912, Class 2: 0.4111, Class 3: 0.4601, Class 4: 0.7149, Class 5: 0.7513, Class 6: 0.9392, \n",
      "Validation mIoU Score\n",
      "Class 0: 0.9669, Class 1: 0.6661, Class 2: 0.2090, Class 3: 0.2832, Class 4: 0.5789, Class 5: 0.4079, Class 6: 0.6121, \n",
      "\n",
      "Overall Mean Dice Score: 0.6626\n",
      "Overall Mean F-beta Score: 0.7314\n",
      "Overall Mean IoU Score: 0.5096\n",
      "Final_score: 0.6427\n",
      "Training Loss: 0.4415, Validation Loss: 0.4347, Validation hybrid_score: 0.6427\n",
      "Epoch 48/4000\n"
     ]
    },
    {
     "name": "stderr",
     "output_type": "stream",
     "text": [
      "Training: 100%|██████████| 24/24 [00:11<00:00,  2.01it/s, loss=0.42] \n",
      "Validation: 100%|██████████| 1/1 [00:00<00:00,  2.19it/s, loss=0.439]\n"
     ]
    },
    {
     "name": "stdout",
     "output_type": "stream",
     "text": [
      "Validation Dice Score\n",
      "Class 0: 0.9853, Class 1: 0.3512, Class 2: 0.3500, Class 3: 0.5582, Class 4: 0.7693, Class 5: 0.5199, Class 6: 0.6952, \n",
      "Validation F-beta Score\n",
      "Class 0: 0.9827, Class 1: 0.7348, Class 2: 0.3137, Class 3: 0.5462, Class 4: 0.7930, Class 5: 0.5877, Class 6: 0.9308, \n",
      "Validation mIoU Score\n",
      "Class 0: 0.9710, Class 1: 0.2130, Class 2: 0.2121, Class 3: 0.3871, Class 4: 0.6250, Class 5: 0.3513, Class 6: 0.5328, \n",
      "\n",
      "Overall Mean Dice Score: 0.5787\n",
      "Overall Mean F-beta Score: 0.7185\n",
      "Overall Mean IoU Score: 0.4218\n",
      "Final_score: 0.5998\n",
      "Training Loss: 0.4471, Validation Loss: 0.4387, Validation hybrid_score: 0.5998\n",
      "Epoch 49/4000\n"
     ]
    },
    {
     "name": "stderr",
     "output_type": "stream",
     "text": [
      "Training: 100%|██████████| 24/24 [00:11<00:00,  2.04it/s, loss=0.45] \n",
      "Validation: 100%|██████████| 1/1 [00:00<00:00,  2.13it/s, loss=0.437]\n"
     ]
    },
    {
     "name": "stdout",
     "output_type": "stream",
     "text": [
      "Validation Dice Score\n",
      "Class 0: 0.9818, Class 1: 0.5906, Class 2: 0.0632, Class 3: 0.5803, Class 4: 0.7490, Class 5: 0.3965, Class 6: 0.7990, \n",
      "Validation F-beta Score\n",
      "Class 0: 0.9809, Class 1: 0.8432, Class 2: 0.0800, Class 3: 0.6337, Class 4: 0.7312, Class 5: 0.4031, Class 6: 0.9410, \n",
      "Validation mIoU Score\n",
      "Class 0: 0.9642, Class 1: 0.4190, Class 2: 0.0326, Class 3: 0.4087, Class 4: 0.5987, Class 5: 0.2473, Class 6: 0.6652, \n",
      "\n",
      "Overall Mean Dice Score: 0.6231\n",
      "Overall Mean F-beta Score: 0.7105\n",
      "Overall Mean IoU Score: 0.4678\n",
      "Final_score: 0.6134\n",
      "Training Loss: 0.4449, Validation Loss: 0.4368, Validation hybrid_score: 0.6134\n",
      "Epoch 50/4000\n"
     ]
    },
    {
     "name": "stderr",
     "output_type": "stream",
     "text": [
      "Training: 100%|██████████| 24/24 [00:11<00:00,  2.04it/s, loss=0.443]\n",
      "Validation: 100%|██████████| 1/1 [00:00<00:00,  2.02it/s, loss=0.456]\n"
     ]
    },
    {
     "name": "stdout",
     "output_type": "stream",
     "text": [
      "Validation Dice Score\n",
      "Class 0: 0.9858, Class 1: 0.6639, Class 2: 0.3034, Class 3: 0.1816, Class 4: 0.7793, Class 5: 0.4834, Class 6: 0.9040, \n",
      "Validation F-beta Score\n",
      "Class 0: 0.9826, Class 1: 0.8263, Class 2: 0.2873, Class 3: 0.5318, Class 4: 0.7693, Class 5: 0.5866, Class 6: 0.9684, \n",
      "Validation mIoU Score\n",
      "Class 0: 0.9721, Class 1: 0.4969, Class 2: 0.1788, Class 3: 0.0999, Class 4: 0.6384, Class 5: 0.3188, Class 6: 0.8249, \n",
      "\n",
      "Overall Mean Dice Score: 0.6024\n",
      "Overall Mean F-beta Score: 0.7365\n",
      "Overall Mean IoU Score: 0.4758\n",
      "Final_score: 0.6322\n",
      "Training Loss: 0.4422, Validation Loss: 0.4560, Validation hybrid_score: 0.6322\n",
      "Epoch 51/4000\n"
     ]
    },
    {
     "name": "stderr",
     "output_type": "stream",
     "text": [
      "Training: 100%|██████████| 24/24 [00:12<00:00,  1.99it/s, loss=0.455]\n",
      "Validation: 100%|██████████| 1/1 [00:00<00:00,  2.13it/s, loss=0.423]\n"
     ]
    },
    {
     "name": "stdout",
     "output_type": "stream",
     "text": [
      "Validation Dice Score\n",
      "Class 0: 0.9845, Class 1: 0.6839, Class 2: 0.2143, Class 3: 0.4322, Class 4: 0.7156, Class 5: 0.4675, Class 6: 0.8265, \n",
      "Validation F-beta Score\n",
      "Class 0: 0.9782, Class 1: 0.8586, Class 2: 0.2447, Class 3: 0.6598, Class 4: 0.7632, Class 5: 0.6183, Class 6: 0.9244, \n",
      "Validation mIoU Score\n",
      "Class 0: 0.9695, Class 1: 0.5196, Class 2: 0.1200, Class 3: 0.2757, Class 4: 0.5571, Class 5: 0.3051, Class 6: 0.7043, \n",
      "\n",
      "Overall Mean Dice Score: 0.6251\n",
      "Overall Mean F-beta Score: 0.7649\n",
      "Overall Mean IoU Score: 0.4724\n",
      "Final_score: 0.6479\n",
      "Training Loss: 0.4448, Validation Loss: 0.4228, Validation hybrid_score: 0.6479\n",
      "Epoch 52/4000\n"
     ]
    },
    {
     "name": "stderr",
     "output_type": "stream",
     "text": [
      "Training: 100%|██████████| 24/24 [00:12<00:00,  1.97it/s, loss=0.449]\n",
      "Validation: 100%|██████████| 1/1 [00:00<00:00,  2.16it/s, loss=0.441]\n"
     ]
    },
    {
     "name": "stdout",
     "output_type": "stream",
     "text": [
      "Validation Dice Score\n",
      "Class 0: 0.9865, Class 1: 0.7828, Class 2: 0.2059, Class 3: 0.4987, Class 4: 0.7275, Class 5: 0.4028, Class 6: 0.9179, \n",
      "Validation F-beta Score\n",
      "Class 0: 0.9845, Class 1: 0.8646, Class 2: 0.2126, Class 3: 0.7290, Class 4: 0.7118, Class 5: 0.4544, Class 6: 0.9676, \n",
      "Validation mIoU Score\n",
      "Class 0: 0.9734, Class 1: 0.6432, Class 2: 0.1148, Class 3: 0.3322, Class 4: 0.5717, Class 5: 0.2522, Class 6: 0.8483, \n",
      "\n",
      "Overall Mean Dice Score: 0.6660\n",
      "Overall Mean F-beta Score: 0.7455\n",
      "Overall Mean IoU Score: 0.5295\n",
      "Final_score: 0.6591\n",
      "Training Loss: 0.4458, Validation Loss: 0.4412, Validation hybrid_score: 0.6591\n",
      "Epoch 53/4000\n"
     ]
    },
    {
     "name": "stderr",
     "output_type": "stream",
     "text": [
      "Training: 100%|██████████| 24/24 [00:12<00:00,  1.96it/s, loss=0.438]\n",
      "Validation: 100%|██████████| 1/1 [00:00<00:00,  2.20it/s, loss=0.452]"
     ]
    },
    {
     "name": "stdout",
     "output_type": "stream",
     "text": [
      "Validation Dice Score\n",
      "Class 0: 0.9854, Class 1: 0.7416, Class 2: 0.0000, Class 3: 0.4811, Class 4: 0.6757, Class 5: 0.4361, Class 6: 0.9157, \n",
      "Validation F-beta Score\n",
      "Class 0: 0.9790, Class 1: 0.7876, Class 2: 0.0000, Class 3: 0.5138, Class 4: 0.8160, Class 5: 0.5508, Class 6: 0.9659, \n",
      "Validation mIoU Score\n",
      "Class 0: 0.9712, Class 1: 0.5894, Class 2: 0.0000, Class 3: 0.3167, Class 4: 0.5102, Class 5: 0.2789, Class 6: 0.8445, \n",
      "\n",
      "Overall Mean Dice Score: 0.6500\n",
      "Overall Mean F-beta Score: 0.7268\n",
      "Overall Mean IoU Score: 0.5079\n",
      "Final_score: 0.6393\n",
      "Training Loss: 0.4417, Validation Loss: 0.4521, Validation hybrid_score: 0.6393\n",
      "Early stopping\n"
     ]
    },
    {
     "name": "stderr",
     "output_type": "stream",
     "text": [
      "\n"
     ]
    },
    {
     "data": {
      "text/html": [],
      "text/plain": [
       "<IPython.core.display.HTML object>"
      ]
     },
     "metadata": {},
     "output_type": "display_data"
    },
    {
     "data": {
      "text/html": [
       "<br>    <style><br>        .wandb-row {<br>            display: flex;<br>            flex-direction: row;<br>            flex-wrap: wrap;<br>            justify-content: flex-start;<br>            width: 100%;<br>        }<br>        .wandb-col {<br>            display: flex;<br>            flex-direction: column;<br>            flex-basis: 100%;<br>            flex: 1;<br>            padding: 10px;<br>        }<br>    </style><br><div class=\"wandb-row\"><div class=\"wandb-col\"><h3>Run history:</h3><br/><table class=\"wandb\"><tr><td>class_0_IoU_score</td><td>▄▄▄▅▁▆▅▅▄▃█▄▆▅▆▅▆▄▄▆▄▆▆▅▅▅▇▄▇▇</td></tr><tr><td>class_0_dice_score</td><td>▆▄▆▆▅█▆█▆▅█▄█▆▆▁▆▂█▅▇▁▃▃▅▂▆▄▆▅</td></tr><tr><td>class_0_f_beta_score</td><td>▅▅▅▄▄█▆█▅▅█▃▇▄▄▂▆▄▇▄▅▂▁▅▆▅▆▃▇▃</td></tr><tr><td>class_1_IoU_score</td><td>▄▄▄▅▁▆▅▅▄▃█▄▆▅▆▅▆▄▄▆▄▆▆▅▅▅▇▄▇▇</td></tr><tr><td>class_1_dice_score</td><td>█▇▆▅▇▇▅▇▇▇▇▇▆▇▇▆▆▇█▆▇█▆█▁▅▆▆▇▇</td></tr><tr><td>class_1_f_beta_score</td><td>▅▇▆▆▆▄▅▆▆▆▂▄▄█▆▆▇▆▆▅▄▆█▃▁▅▄▆▆▃</td></tr><tr><td>class_2_IoU_score</td><td>▄▄▄▅▁▆▅▅▄▃█▄▆▅▆▅▆▄▄▆▄▆▆▅▅▅▇▄▇▇</td></tr><tr><td>class_2_dice_score</td><td>▃▁▅▄▃▁▅▃▄▁▆▁▂▁▇▁▄▅█▂▆▃▃▇▇▂▆▄▄▁</td></tr><tr><td>class_2_f_beta_score</td><td>▃▁▆▄▄▁▅▃▄▁▆▂▅▁▇▁▆▅▇▂▅▄▄█▆▂▆▅▅▁</td></tr><tr><td>class_3_IoU_score</td><td>▄▄▄▅▁▆▅▅▄▃█▄▆▅▆▅▆▄▄▆▄▆▆▅▅▅▇▄▇▇</td></tr><tr><td>class_3_dice_score</td><td>▂▄▅▃▅▄▅▆▅▇▆▆▄▅▅▅▅█▅▇▆▄▄▅▆▇▁▅▆▅</td></tr><tr><td>class_3_f_beta_score</td><td>▃▄▃▁▃▃▄▃▅▄▄█▁▃▃▃▄▆▄▆▇▃▃▁▃▄▃▅▆▂</td></tr><tr><td>class_4_IoU_score</td><td>▄▄▄▅▁▆▅▅▄▃█▄▆▅▆▅▆▄▄▆▄▆▆▅▅▅▇▄▇▇</td></tr><tr><td>class_4_dice_score</td><td>▅▄▆▆▄█▆▅▅▇▅▆▁▇▅▅▆▇▇▂▇▅▆▆▇▇█▆▆▅</td></tr><tr><td>class_4_f_beta_score</td><td>▆▄▅▇▅▆▅▅▆█▄▅▁▇▅▅▅▅▆▅▆▅▇▅▆▅▆▆▄▇</td></tr><tr><td>class_5_IoU_score</td><td>▄▄▄▅▁▆▅▅▄▃█▄▆▅▆▅▆▄▄▆▄▆▆▅▅▅▇▄▇▇</td></tr><tr><td>class_5_dice_score</td><td>▇▄▄▃▄▂▇█▆▇█▅▄▄▃▅▆▇▇▆▁▆▄█▇▄▆▆▄▅</td></tr><tr><td>class_5_f_beta_score</td><td>▅▂▃▄▄▁▅▅▄▅▅▆▃▅▃▃▅▆▆▅▂▅▅█▅▂▅▆▃▅</td></tr><tr><td>class_6_IoU_score</td><td>▄▄▄▅▁▆▅▅▄▃█▄▆▅▆▅▆▄▄▆▄▆▆▅▅▅▇▄▇▇</td></tr><tr><td>class_6_dice_score</td><td>▇▇▃▇▅▇▃█▄▆▇▆▇▇▇▅▇▁▆█▄▇▇▄▂▅▇▅██</td></tr><tr><td>class_6_f_beta_score</td><td>▄▄▄▅▁▆▅▅▄▃█▄▆▅▆▅▆▄▄▆▄▆▆▅▅▅▇▄▇▇</td></tr><tr><td>epoch</td><td>▁▁▁▂▂▂▂▂▂▂▃▃▃▃▃▃▃▃▃▃▄▄▄▄▄▄▅▅▅▅▆▆▆▆▆▇▇▇▇█</td></tr><tr><td>final_score</td><td>▆▄▃▄▄▄▅▇▆█▆█▁▇▅▅▆███▅▆▆▆▃▄▅▆▇▆</td></tr><tr><td>overall_mean_IoU_score</td><td>▅▄▂▃▃▆▃█▄██▆▂▆▅▄▆▆█▇▄▇▄▆▁▄▄▄▇▆</td></tr><tr><td>overall_mean_dice_score</td><td>▄▃▂▂▃▅▃█▄█▇▆▁▅▄▄▅▇▇▇▃▆▃▆▁▄▂▄▆▅</td></tr><tr><td>overall_mean_f_beta_score</td><td>▅▄▄▄▄▃▆▆▆▇▅█▁▇▅▅▆█▇▇▆▅▇▅▅▄▅▇▆▅</td></tr><tr><td>train_epoch_loss</td><td>█▇▅▄▆▄▃▃▄▄▂▃▃▂▃▃▁▅▃▂▃▄▁▁▃▂▁▂▃▁</td></tr><tr><td>val_epoch_loss</td><td>▃▆▅█▇▆▆▂▅▅▁▄▇▆▃▆▅▅▃▅▇▅▆▅▅▅▇▄▆▇</td></tr></table><br/></div><div class=\"wandb-col\"><h3>Run summary:</h3><br/><table class=\"wandb\"><tr><td>class_0_IoU_score</td><td>0.96595</td></tr><tr><td>class_0_dice_score</td><td>0.98538</td></tr><tr><td>class_0_f_beta_score</td><td>0.97905</td></tr><tr><td>class_1_IoU_score</td><td>0.96595</td></tr><tr><td>class_1_dice_score</td><td>0.74163</td></tr><tr><td>class_1_f_beta_score</td><td>0.7876</td></tr><tr><td>class_2_IoU_score</td><td>0.96595</td></tr><tr><td>class_2_dice_score</td><td>0</td></tr><tr><td>class_2_f_beta_score</td><td>0.0</td></tr><tr><td>class_3_IoU_score</td><td>0.96595</td></tr><tr><td>class_3_dice_score</td><td>0.48107</td></tr><tr><td>class_3_f_beta_score</td><td>0.5138</td></tr><tr><td>class_4_IoU_score</td><td>0.96595</td></tr><tr><td>class_4_dice_score</td><td>0.67568</td></tr><tr><td>class_4_f_beta_score</td><td>0.816</td></tr><tr><td>class_5_IoU_score</td><td>0.96595</td></tr><tr><td>class_5_dice_score</td><td>0.4361</td></tr><tr><td>class_5_f_beta_score</td><td>0.55077</td></tr><tr><td>class_6_IoU_score</td><td>0.96595</td></tr><tr><td>class_6_dice_score</td><td>0.91569</td></tr><tr><td>class_6_f_beta_score</td><td>0.96595</td></tr><tr><td>epoch</td><td>53</td></tr><tr><td>final_score</td><td>0.63927</td></tr><tr><td>overall_mean_IoU_score</td><td>0.50793</td></tr><tr><td>overall_mean_dice_score</td><td>0.65004</td></tr><tr><td>overall_mean_f_beta_score</td><td>0.72682</td></tr><tr><td>train_epoch_loss</td><td>0.4417</td></tr><tr><td>val_epoch_loss</td><td>0.45209</td></tr></table><br/></div></div>"
      ],
      "text/plain": [
       "<IPython.core.display.HTML object>"
      ]
     },
     "metadata": {},
     "output_type": "display_data"
    },
    {
     "data": {
      "text/html": [
       " View run <strong style=\"color:#cdcd00\">pre_UNET_511_241_prelu_instance_f48_lr1e-03_a0.52_b16_r4_ce0.4_ac1</strong> at: <a href='https://wandb.ai/limbw/czii_UNet/runs/o8iqln63' target=\"_blank\">https://wandb.ai/limbw/czii_UNet/runs/o8iqln63</a><br> View project at: <a href='https://wandb.ai/limbw/czii_UNet' target=\"_blank\">https://wandb.ai/limbw/czii_UNet</a><br>Synced 5 W&B file(s), 0 media file(s), 0 artifact file(s) and 0 other file(s)"
      ],
      "text/plain": [
       "<IPython.core.display.HTML object>"
      ]
     },
     "metadata": {},
     "output_type": "display_data"
    },
    {
     "data": {
      "text/html": [
       "Find logs at: <code>.\\wandb\\run-20250120_232730-o8iqln63\\logs</code>"
      ],
      "text/plain": [
       "<IPython.core.display.HTML object>"
      ]
     },
     "metadata": {},
     "output_type": "display_data"
    }
   ],
   "source": [
    "train_model(\n",
    "    model=model,\n",
    "    train_loader=train_loader,\n",
    "    val_loader=val_loader,\n",
    "    criterion=criterion,\n",
    "    optimizer=optimizer,\n",
    "    num_epochs=num_epochs,\n",
    "    patience=10,\n",
    "    device=device,\n",
    "    start_epoch=start_epoch,\n",
    "    best_val_loss=best_val_loss,\n",
    "    best_val_fbeta_score=best_val_fbeta_score,\n",
    "    calculate_dice_interval=1,\n",
    "    accumulation_steps = accumulation_steps,\n",
    "    pretrained=False,\n",
    "    ) "
   ]
  },
  {
   "cell_type": "code",
   "execution_count": null,
   "metadata": {},
   "outputs": [
    {
     "ename": "SyntaxError",
     "evalue": "invalid syntax (879943805.py, line 1)",
     "output_type": "error",
     "traceback": [
      "\u001b[1;36m  Cell \u001b[1;32mIn[17], line 1\u001b[1;36m\u001b[0m\n\u001b[1;33m    if:\u001b[0m\n\u001b[1;37m      ^\u001b[0m\n\u001b[1;31mSyntaxError\u001b[0m\u001b[1;31m:\u001b[0m invalid syntax\n"
     ]
    }
   ],
   "source": [
    "if:"
   ]
  },
  {
   "cell_type": "markdown",
   "metadata": {},
   "source": [
    "# VAl"
   ]
  },
  {
   "cell_type": "code",
   "execution_count": null,
   "metadata": {},
   "outputs": [
    {
     "data": {
      "text/html": [
       "Finishing last run (ID:fs6utwyo) before initializing another..."
      ],
      "text/plain": [
       "<IPython.core.display.HTML object>"
      ]
     },
     "metadata": {},
     "output_type": "display_data"
    },
    {
     "data": {
      "application/vnd.jupyter.widget-view+json": {
       "model_id": "29cc3ae761af43baae5aca60b5d2e7f4",
       "version_major": 2,
       "version_minor": 0
      },
      "text/plain": [
       "VBox(children=(Label(value='0.009 MB of 0.009 MB uploaded\\r'), FloatProgress(value=1.0, max=1.0)))"
      ]
     },
     "metadata": {},
     "output_type": "display_data"
    },
    {
     "data": {
      "text/html": [
       "<style>\n",
       "    table.wandb td:nth-child(1) { padding: 0 10px; text-align: left ; width: auto;} td:nth-child(2) {text-align: left ; width: 100%}\n",
       "    .wandb-row { display: flex; flex-direction: row; flex-wrap: wrap; justify-content: flex-start; width: 100% }\n",
       "    .wandb-col { display: flex; flex-direction: column; flex-basis: 100%; flex: 1; padding: 10px; }\n",
       "    </style>\n",
       "<div class=\"wandb-row\"><div class=\"wandb-col\"><h3>Run history:</h3><br/><table class=\"wandb\"><tr><td>class_0_dice_score</td><td>▁</td></tr><tr><td>class_0_f_beta_score</td><td>▁</td></tr><tr><td>class_1_dice_score</td><td>▁</td></tr><tr><td>class_1_f_beta_score</td><td>▁</td></tr><tr><td>class_2_dice_score</td><td>▁</td></tr><tr><td>class_2_f_beta_score</td><td>▁</td></tr><tr><td>class_3_dice_score</td><td>▁</td></tr><tr><td>class_3_f_beta_score</td><td>▁</td></tr><tr><td>class_4_dice_score</td><td>▁</td></tr><tr><td>class_4_f_beta_score</td><td>▁</td></tr><tr><td>class_5_dice_score</td><td>▁</td></tr><tr><td>class_5_f_beta_score</td><td>▁</td></tr><tr><td>class_6_dice_score</td><td>▁</td></tr><tr><td>class_6_f_beta_score</td><td>▁</td></tr><tr><td>epoch</td><td>▁▁▁▁▁▁▁▁▁▁▁▁▁▁▁▁</td></tr><tr><td>overall_mean_dice_score</td><td>▁</td></tr><tr><td>overall_mean_f_beta_score</td><td>▁</td></tr><tr><td>val_epoch_loss</td><td>▁</td></tr></table><br/></div><div class=\"wandb-col\"><h3>Run summary:</h3><br/><table class=\"wandb\"><tr><td>class_0_dice_score</td><td>0.65703</td></tr><tr><td>class_0_f_beta_score</td><td>0.50748</td></tr><tr><td>class_1_dice_score</td><td>0.53332</td></tr><tr><td>class_1_f_beta_score</td><td>0.64703</td></tr><tr><td>class_2_dice_score</td><td>0.00286</td></tr><tr><td>class_2_f_beta_score</td><td>0.02334</td></tr><tr><td>class_3_dice_score</td><td>0.23703</td></tr><tr><td>class_3_f_beta_score</td><td>0.23033</td></tr><tr><td>class_4_dice_score</td><td>0.65487</td></tr><tr><td>class_4_f_beta_score</td><td>0.62525</td></tr><tr><td>class_5_dice_score</td><td>0.47899</td></tr><tr><td>class_5_f_beta_score</td><td>0.51448</td></tr><tr><td>class_6_dice_score</td><td>0.42545</td></tr><tr><td>class_6_f_beta_score</td><td>0.47197</td></tr><tr><td>epoch</td><td>1</td></tr><tr><td>overall_mean_dice_score</td><td>0.42708</td></tr><tr><td>overall_mean_f_beta_score</td><td>0.43141</td></tr><tr><td>val_epoch_loss</td><td>0.7152</td></tr></table><br/></div></div>"
      ],
      "text/plain": [
       "<IPython.core.display.HTML object>"
      ]
     },
     "metadata": {},
     "output_type": "display_data"
    },
    {
     "data": {
      "text/html": [
       " View run <strong style=\"color:#cdcd00\">SwinUNETR96_96_lr0.001_lambda0.52_batch2</strong> at: <a href='https://wandb.ai/waooang/czii_SwinUnetR_val/runs/fs6utwyo' target=\"_blank\">https://wandb.ai/waooang/czii_SwinUnetR_val/runs/fs6utwyo</a><br/> View project at: <a href='https://wandb.ai/waooang/czii_SwinUnetR_val' target=\"_blank\">https://wandb.ai/waooang/czii_SwinUnetR_val</a><br/>Synced 4 W&B file(s), 0 media file(s), 3 artifact file(s) and 0 other file(s)"
      ],
      "text/plain": [
       "<IPython.core.display.HTML object>"
      ]
     },
     "metadata": {},
     "output_type": "display_data"
    },
    {
     "data": {
      "text/html": [
       "Find logs at: <code>.\\wandb\\run-20241219_200219-fs6utwyo\\logs</code>"
      ],
      "text/plain": [
       "<IPython.core.display.HTML object>"
      ]
     },
     "metadata": {},
     "output_type": "display_data"
    },
    {
     "data": {
      "text/html": [
       "Successfully finished last run (ID:fs6utwyo). Initializing new run:<br/>"
      ],
      "text/plain": [
       "<IPython.core.display.HTML object>"
      ]
     },
     "metadata": {},
     "output_type": "display_data"
    },
    {
     "data": {
      "text/html": [
       "Tracking run with wandb version 0.18.3"
      ],
      "text/plain": [
       "<IPython.core.display.HTML object>"
      ]
     },
     "metadata": {},
     "output_type": "display_data"
    },
    {
     "data": {
      "text/html": [
       "Run data is saved locally in <code>e:\\Workspace\\czll\\wandb\\run-20241219_200454-121l7bn3</code>"
      ],
      "text/plain": [
       "<IPython.core.display.HTML object>"
      ]
     },
     "metadata": {},
     "output_type": "display_data"
    },
    {
     "data": {
      "text/html": [
       "Syncing run <strong><a href='https://wandb.ai/waooang/czii_SwinUnetR_val/runs/121l7bn3' target=\"_blank\">SwinUNETR96_96_lr0.001_lambda0.52_batch2</a></strong> to <a href='https://wandb.ai/waooang/czii_SwinUnetR_val' target=\"_blank\">Weights & Biases</a> (<a href='https://wandb.me/run' target=\"_blank\">docs</a>)<br/>"
      ],
      "text/plain": [
       "<IPython.core.display.HTML object>"
      ]
     },
     "metadata": {},
     "output_type": "display_data"
    },
    {
     "data": {
      "text/html": [
       " View project at <a href='https://wandb.ai/waooang/czii_SwinUnetR_val' target=\"_blank\">https://wandb.ai/waooang/czii_SwinUnetR_val</a>"
      ],
      "text/plain": [
       "<IPython.core.display.HTML object>"
      ]
     },
     "metadata": {},
     "output_type": "display_data"
    },
    {
     "data": {
      "text/html": [
       " View run at <a href='https://wandb.ai/waooang/czii_SwinUnetR_val/runs/121l7bn3' target=\"_blank\">https://wandb.ai/waooang/czii_SwinUnetR_val/runs/121l7bn3</a>"
      ],
      "text/plain": [
       "<IPython.core.display.HTML object>"
      ]
     },
     "metadata": {},
     "output_type": "display_data"
    },
    {
     "name": "stderr",
     "output_type": "stream",
     "text": [
      "Loading dataset: 100%|██████████| 4/4 [00:06<00:00,  1.58s/it]\n",
      "C:\\Users\\Seungwoo\\AppData\\Local\\Temp\\ipykernel_21000\\1177025787.py:95: FutureWarning: You are using `torch.load` with `weights_only=False` (the current default value), which uses the default pickle module implicitly. It is possible to construct malicious pickle data which will execute arbitrary code during unpickling (See https://github.com/pytorch/pytorch/blob/main/SECURITY.md#untrusted-models for more details). In a future release, the default value for `weights_only` will be flipped to `True`. This limits the functions that could be executed during unpickling. Arbitrary objects will no longer be allowed to be loaded via this mode unless they are explicitly allowlisted by the user via `torch.serialization.add_safe_globals`. We recommend you start setting `weights_only=True` for any use case where you don't have full control of the loaded file. Please open an issue on GitHub for any issues related to this experimental feature.\n",
      "  checkpoint = torch.load(pretrain_path, map_location=device)\n",
      "Validation: 100%|██████████| 4/4 [00:01<00:00,  2.38it/s, loss=0.865]"
     ]
    },
    {
     "name": "stdout",
     "output_type": "stream",
     "text": [
      "Validation Dice Score\n",
      "Class 0: 0.6570, Class 1: 0.5333, Class 2: 0.0029, Class 3: 0.2370, \n",
      "Class 4: 0.6549, Class 5: 0.4790, Class 6: 0.4255, \n",
      "Validation F-beta Score\n",
      "Class 0: 0.5075, Class 1: 0.6470, Class 2: 0.0233, Class 3: 0.2303, \n",
      "Class 4: 0.6252, Class 5: 0.5145, Class 6: 0.4720, \n",
      "Overall Mean Dice Score: 0.4659\n",
      "Overall Mean F-beta Score: 0.4978\n",
      "\n"
     ]
    },
    {
     "name": "stderr",
     "output_type": "stream",
     "text": [
      "\n"
     ]
    },
    {
     "ename": "",
     "evalue": "",
     "output_type": "error",
     "traceback": [
      "\u001b[1;31mnotebook controller is DISPOSED. \n",
      "\u001b[1;31m자세한 내용은 Jupyter <a href='command:jupyter.viewOutput'>로그</a>를 참조하세요."
     ]
    },
    {
     "ename": "",
     "evalue": "",
     "output_type": "error",
     "traceback": [
      "\u001b[1;31mnotebook controller is DISPOSED. \n",
      "\u001b[1;31m자세한 내용은 Jupyter <a href='command:jupyter.viewOutput'>로그</a>를 참조하세요."
     ]
    }
   ],
   "source": [
    "from monai.data import DataLoader, Dataset, CacheDataset\n",
    "from monai.transforms import (\n",
    "    Compose, LoadImaged, EnsureChannelFirstd, NormalizeIntensityd,\n",
    "    Orientationd, CropForegroundd, GaussianSmoothd, ScaleIntensityd,\n",
    "    RandSpatialCropd, RandRotate90d, RandFlipd, RandGaussianNoised,\n",
    "    ToTensord, RandCropByLabelClassesd\n",
    ")\n",
    "from monai.metrics import DiceMetric\n",
    "from monai.networks.nets import UNETR, SwinUNETR\n",
    "from monai.losses import TverskyLoss\n",
    "import torch\n",
    "import numpy as np\n",
    "from tqdm import tqdm\n",
    "import wandb\n",
    "from src.dataset.dataset import make_val_dataloader\n",
    "\n",
    "val_img_dir = \"./datasets/val/images\"\n",
    "val_label_dir = \"./datasets/val/labels\"\n",
    "img_depth = 96\n",
    "img_size = 96  # Match your patch size\n",
    "n_classes = 7\n",
    "batch_size = 2 # 13.8GB GPU memory required for 128x128 img size\n",
    "num_samples = batch_size # 한 이미지에서 뽑을 샘플 수\n",
    "loader_batch = 1\n",
    "lamda = 0.52\n",
    "\n",
    "wandb.init(\n",
    "    project='czii_SwinUnetR_val',  # 프로젝트 이름 설정\n",
    "    name='SwinUNETR96_96_lr0.001_lambda0.52_batch2',         # 실행(run) 이름 설정\n",
    "    config={\n",
    "        'learning_rate': 0.001,\n",
    "        'batch_size': batch_size,\n",
    "        'lambda': lamda,\n",
    "        'img_size': img_size,\n",
    "        'device': 'cuda',\n",
    "        \"checkpoint_dir\": \"./model_checkpoints/SwinUNETR96_96_lr0.001_lambda0.52_batch2\",\n",
    "        \n",
    "    }\n",
    ")\n",
    "\n",
    "non_random_transforms = Compose([\n",
    "    EnsureChannelFirstd(keys=[\"image\", \"label\"], channel_dim=\"no_channel\"),\n",
    "    NormalizeIntensityd(keys=\"image\"),\n",
    "    Orientationd(keys=[\"image\", \"label\"], axcodes=\"RAS\"),\n",
    "    GaussianSmoothd(\n",
    "        keys=[\"image\"],      # 변환을 적용할 키\n",
    "        sigma=[1.0, 1.0, 1.0]  # 각 축(x, y, z)의 시그마 값\n",
    "        ),\n",
    "])\n",
    "random_transforms = Compose([\n",
    "    RandCropByLabelClassesd(\n",
    "        keys=[\"image\", \"label\"],\n",
    "        label_key=\"label\",\n",
    "        spatial_size=[img_depth, img_size, img_size],\n",
    "        num_classes=n_classes,\n",
    "        num_samples=num_samples, \n",
    "        ratios=ratios_list,\n",
    "    ),\n",
    "    RandRotate90d(keys=[\"image\", \"label\"], prob=0.5, spatial_axes=[1, 2]),\n",
    "    RandFlipd(keys=[\"image\", \"label\"], prob=0.5, spatial_axis=0),\n",
    "])\n",
    "\n",
    "val_loader = make_val_dataloader(\n",
    "    val_img_dir, \n",
    "    val_label_dir, \n",
    "    non_random_transforms = non_random_transforms, \n",
    "    random_transforms = random_transforms, \n",
    "    batch_size = loader_batch,\n",
    "    num_workers=0\n",
    ")\n",
    "criterion = TverskyLoss(\n",
    "    alpha= 1 - lamda,  # FP에 대한 가중치\n",
    "    beta=lamda,       # FN에 대한 가중치\n",
    "    include_background=False,  # 배경 클래스 제외\n",
    "    softmax=True\n",
    ")\n",
    "    \n",
    "    \n",
    "from monai.metrics import DiceMetric\n",
    "\n",
    "img_size = 96\n",
    "img_depth = img_size\n",
    "n_classes = 7 \n",
    "\n",
    "device = torch.device(\"cuda\" if torch.cuda.is_available() else \"cpu\")\n",
    "pretrain_path = \"./model_checkpoints/SwinUNETR96_96_lr0.001_lambda0.52_batch2/best_model.pt\"\n",
    "model = SwinUNETR(\n",
    "    img_size=(img_depth, img_size, img_size),\n",
    "    in_channels=1,\n",
    "    out_channels=n_classes,\n",
    "    feature_size=48,\n",
    "    use_checkpoint=True,\n",
    ").to(device)\n",
    "# Pretrained weights 불러오기\n",
    "checkpoint = torch.load(pretrain_path, map_location=device)\n",
    "model.load_state_dict(checkpoint['model_state_dict'])\n",
    "\n",
    "val_loss, overall_mean_fbeta_score = validate_one_epoch(\n",
    "    model=model, \n",
    "    val_loader=val_loader, \n",
    "    criterion=criterion, \n",
    "    device=device, \n",
    "    epoch=0, \n",
    "    calculate_dice_interval=1\n",
    ")"
   ]
  },
  {
   "cell_type": "markdown",
   "metadata": {},
   "source": [
    "# Inference"
   ]
  },
  {
   "cell_type": "code",
   "execution_count": null,
   "metadata": {},
   "outputs": [
    {
     "ename": "",
     "evalue": "",
     "output_type": "error",
     "traceback": [
      "\u001b[1;31mnotebook controller is DISPOSED. \n",
      "\u001b[1;31m자세한 내용은 Jupyter <a href='command:jupyter.viewOutput'>로그</a>를 참조하세요."
     ]
    },
    {
     "ename": "",
     "evalue": "",
     "output_type": "error",
     "traceback": [
      "\u001b[1;31mnotebook controller is DISPOSED. \n",
      "\u001b[1;31m자세한 내용은 Jupyter <a href='command:jupyter.viewOutput'>로그</a>를 참조하세요."
     ]
    }
   ],
   "source": [
    "from src.dataset.preprocessing import Preprocessor"
   ]
  },
  {
   "cell_type": "code",
   "execution_count": null,
   "metadata": {},
   "outputs": [
    {
     "name": "stdout",
     "output_type": "stream",
     "text": [
      "Done.\n"
     ]
    },
    {
     "ename": "",
     "evalue": "",
     "output_type": "error",
     "traceback": [
      "\u001b[1;31mnotebook controller is DISPOSED. \n",
      "\u001b[1;31m자세한 내용은 Jupyter <a href='command:jupyter.viewOutput'>로그</a>를 참조하세요."
     ]
    },
    {
     "ename": "",
     "evalue": "",
     "output_type": "error",
     "traceback": [
      "\u001b[1;31mnotebook controller is DISPOSED. \n",
      "\u001b[1;31m자세한 내용은 Jupyter <a href='command:jupyter.viewOutput'>로그</a>를 참조하세요."
     ]
    }
   ],
   "source": [
    "from monai.inferers import sliding_window_inference\n",
    "from monai.transforms import Compose, EnsureChannelFirstd, NormalizeIntensityd, Orientationd, GaussianSmoothd\n",
    "from monai.data import DataLoader, Dataset, CacheDataset\n",
    "from monai.networks.nets import SwinUNETR\n",
    "from pathlib import Path\n",
    "import numpy as np\n",
    "import copick\n",
    "\n",
    "import torch\n",
    "print(\"Done.\")"
   ]
  },
  {
   "cell_type": "code",
   "execution_count": null,
   "metadata": {},
   "outputs": [
    {
     "name": "stdout",
     "output_type": "stream",
     "text": [
      "Config file written to ./kaggle/working/copick.config\n",
      "file length: 7\n"
     ]
    },
    {
     "ename": "",
     "evalue": "",
     "output_type": "error",
     "traceback": [
      "\u001b[1;31mnotebook controller is DISPOSED. \n",
      "\u001b[1;31m자세한 내용은 Jupyter <a href='command:jupyter.viewOutput'>로그</a>를 참조하세요."
     ]
    },
    {
     "ename": "",
     "evalue": "",
     "output_type": "error",
     "traceback": [
      "\u001b[1;31mnotebook controller is DISPOSED. \n",
      "\u001b[1;31m자세한 내용은 Jupyter <a href='command:jupyter.viewOutput'>로그</a>를 참조하세요."
     ]
    }
   ],
   "source": [
    "config_blob = \"\"\"{\n",
    "    \"name\": \"czii_cryoet_mlchallenge_2024\",\n",
    "    \"description\": \"2024 CZII CryoET ML Challenge training data.\",\n",
    "    \"version\": \"1.0.0\",\n",
    "\n",
    "    \"pickable_objects\": [\n",
    "        {\n",
    "            \"name\": \"apo-ferritin\",\n",
    "            \"is_particle\": true,\n",
    "            \"pdb_id\": \"4V1W\",\n",
    "            \"label\": 1,\n",
    "            \"color\": [  0, 117, 220, 128],\n",
    "            \"radius\": 60,\n",
    "            \"map_threshold\": 0.0418\n",
    "        },\n",
    "        {\n",
    "          \"name\" : \"beta-amylase\",\n",
    "            \"is_particle\": true,\n",
    "            \"pdb_id\": \"8ZRZ\",\n",
    "            \"label\": 2,\n",
    "            \"color\": [255, 255, 255, 128],\n",
    "            \"radius\": 90,\n",
    "            \"map_threshold\": 0.0578  \n",
    "        },\n",
    "        {\n",
    "            \"name\": \"beta-galactosidase\",\n",
    "            \"is_particle\": true,\n",
    "            \"pdb_id\": \"6X1Q\",\n",
    "            \"label\": 3,\n",
    "            \"color\": [ 76,   0,  92, 128],\n",
    "            \"radius\": 90,\n",
    "            \"map_threshold\": 0.0578\n",
    "        },\n",
    "        {\n",
    "            \"name\": \"ribosome\",\n",
    "            \"is_particle\": true,\n",
    "            \"pdb_id\": \"6EK0\",\n",
    "            \"label\": 4,\n",
    "            \"color\": [  0,  92,  49, 128],\n",
    "            \"radius\": 150,\n",
    "            \"map_threshold\": 0.0374\n",
    "        },\n",
    "        {\n",
    "            \"name\": \"thyroglobulin\",\n",
    "            \"is_particle\": true,\n",
    "            \"pdb_id\": \"6SCJ\",\n",
    "            \"label\": 5,\n",
    "            \"color\": [ 43, 206,  72, 128],\n",
    "            \"radius\": 130,\n",
    "            \"map_threshold\": 0.0278\n",
    "        },\n",
    "        {\n",
    "            \"name\": \"virus-like-particle\",\n",
    "            \"is_particle\": true,\n",
    "            \"label\": 6,\n",
    "            \"color\": [255, 204, 153, 128],\n",
    "            \"radius\": 135,\n",
    "            \"map_threshold\": 0.201\n",
    "        },\n",
    "        {\n",
    "            \"name\": \"membrane\",\n",
    "            \"is_particle\": false,\n",
    "            \"label\": 8,\n",
    "            \"color\": [100, 100, 100, 128]\n",
    "        },\n",
    "        {\n",
    "            \"name\": \"background\",\n",
    "            \"is_particle\": false,\n",
    "            \"label\": 9,\n",
    "            \"color\": [10, 150, 200, 128]\n",
    "        }\n",
    "    ],\n",
    "\n",
    "    \"overlay_root\": \"./kaggle/working/overlay\",\n",
    "\n",
    "    \"overlay_fs_args\": {\n",
    "        \"auto_mkdir\": true\n",
    "    },\n",
    "\n",
    "    \"static_root\": \"./kaggle/input/czii-cryo-et-object-identification/test/static\"\n",
    "}\"\"\"\n",
    "\n",
    "copick_config_path = \"./kaggle/working/copick.config\"\n",
    "preprocessor = Preprocessor(config_blob,copick_config_path=copick_config_path)\n",
    "non_random_transforms = Compose([\n",
    "    EnsureChannelFirstd(keys=[\"image\"], channel_dim=\"no_channel\"),\n",
    "    NormalizeIntensityd(keys=\"image\"),\n",
    "    Orientationd(keys=[\"image\"], axcodes=\"RAS\"),\n",
    "    GaussianSmoothd(\n",
    "        keys=[\"image\"],      # 변환을 적용할 키\n",
    "        sigma=[1.0, 1.0, 1.0]  # 각 축(x, y, z)의 시그마 값\n",
    "        ),\n",
    "    ])"
   ]
  },
  {
   "cell_type": "code",
   "execution_count": null,
   "metadata": {},
   "outputs": [
    {
     "name": "stderr",
     "output_type": "stream",
     "text": [
      "c:\\ProgramData\\anaconda3\\envs\\ship\\Lib\\site-packages\\monai\\utils\\deprecate_utils.py:221: FutureWarning: monai.networks.nets.swin_unetr SwinUNETR.__init__:img_size: Argument `img_size` has been deprecated since version 1.3. It will be removed in version 1.5. The img_size argument is not required anymore and checks on the input size are run during forward().\n",
      "  warn_deprecated(argname, msg, warning_category)\n",
      "C:\\Users\\Seungwoo\\AppData\\Local\\Temp\\ipykernel_6248\\2937359115.py:15: FutureWarning: You are using `torch.load` with `weights_only=False` (the current default value), which uses the default pickle module implicitly. It is possible to construct malicious pickle data which will execute arbitrary code during unpickling (See https://github.com/pytorch/pytorch/blob/main/SECURITY.md#untrusted-models for more details). In a future release, the default value for `weights_only` will be flipped to `True`. This limits the functions that could be executed during unpickling. Arbitrary objects will no longer be allowed to be loaded via this mode unless they are explicitly allowlisted by the user via `torch.serialization.add_safe_globals`. We recommend you start setting `weights_only=True` for any use case where you don't have full control of the loaded file. Please open an issue on GitHub for any issues related to this experimental feature.\n",
      "  checkpoint = torch.load(pretrain_path, map_location=device)\n"
     ]
    },
    {
     "data": {
      "text/plain": [
       "<All keys matched successfully>"
      ]
     },
     "execution_count": 15,
     "metadata": {},
     "output_type": "execute_result"
    },
    {
     "ename": "",
     "evalue": "",
     "output_type": "error",
     "traceback": [
      "\u001b[1;31mnotebook controller is DISPOSED. \n",
      "\u001b[1;31m자세한 내용은 Jupyter <a href='command:jupyter.viewOutput'>로그</a>를 참조하세요."
     ]
    },
    {
     "ename": "",
     "evalue": "",
     "output_type": "error",
     "traceback": [
      "\u001b[1;31mnotebook controller is DISPOSED. \n",
      "\u001b[1;31m자세한 내용은 Jupyter <a href='command:jupyter.viewOutput'>로그</a>를 참조하세요."
     ]
    }
   ],
   "source": [
    "img_size = 96\n",
    "img_depth = img_size\n",
    "n_classes = 7 \n",
    "\n",
    "device = torch.device(\"cuda\" if torch.cuda.is_available() else \"cpu\")\n",
    "pretrain_path = \"./model_checkpoints/SwinUNETR96_96_lr0.001_lambda0.52_batch2/best_model.pt\"\n",
    "model = SwinUNETR(\n",
    "    img_size=(img_depth, img_size, img_size),\n",
    "    in_channels=1,\n",
    "    out_channels=n_classes,\n",
    "    feature_size=48,\n",
    "    use_checkpoint=True,\n",
    ").to(device)\n",
    "# Pretrained weights 불러오기\n",
    "checkpoint = torch.load(pretrain_path, map_location=device)\n",
    "model.load_state_dict(checkpoint['model_state_dict'])\n"
   ]
  },
  {
   "cell_type": "code",
   "execution_count": null,
   "metadata": {},
   "outputs": [
    {
     "name": "stderr",
     "output_type": "stream",
     "text": [
      "Validation:   0%|          | 0/4 [00:03<?, ?it/s, loss=0.764]\n"
     ]
    },
    {
     "ename": "ZeroDivisionError",
     "evalue": "integer modulo by zero",
     "output_type": "error",
     "traceback": [
      "\u001b[1;31m---------------------------------------------------------------------------\u001b[0m",
      "\u001b[1;31mZeroDivisionError\u001b[0m                         Traceback (most recent call last)",
      "Cell \u001b[1;32mIn[16], line 1\u001b[0m\n\u001b[1;32m----> 1\u001b[0m val_loss \u001b[38;5;241m=\u001b[39m \u001b[43mvalidate_one_epoch\u001b[49m\u001b[43m(\u001b[49m\n\u001b[0;32m      2\u001b[0m \u001b[43m            \u001b[49m\u001b[43mmodel\u001b[49m\u001b[38;5;241;43m=\u001b[39;49m\u001b[43mmodel\u001b[49m\u001b[43m,\u001b[49m\u001b[43m \u001b[49m\n\u001b[0;32m      3\u001b[0m \u001b[43m            \u001b[49m\u001b[43mval_loader\u001b[49m\u001b[38;5;241;43m=\u001b[39;49m\u001b[43mval_loader\u001b[49m\u001b[43m,\u001b[49m\u001b[43m \u001b[49m\n\u001b[0;32m      4\u001b[0m \u001b[43m            \u001b[49m\u001b[43mcriterion\u001b[49m\u001b[38;5;241;43m=\u001b[39;49m\u001b[43mcriterion\u001b[49m\u001b[43m,\u001b[49m\u001b[43m \u001b[49m\n\u001b[0;32m      5\u001b[0m \u001b[43m            \u001b[49m\u001b[43mdevice\u001b[49m\u001b[38;5;241;43m=\u001b[39;49m\u001b[43mdevice\u001b[49m\u001b[43m,\u001b[49m\u001b[43m \u001b[49m\n\u001b[0;32m      6\u001b[0m \u001b[43m            \u001b[49m\u001b[43mepoch\u001b[49m\u001b[38;5;241;43m=\u001b[39;49m\u001b[38;5;241;43m1\u001b[39;49m\u001b[43m,\u001b[49m\u001b[43m \u001b[49m\n\u001b[0;32m      7\u001b[0m \u001b[43m            \u001b[49m\u001b[43mcalculate_dice_interval\u001b[49m\u001b[38;5;241;43m=\u001b[39;49m\u001b[38;5;241;43m0\u001b[39;49m\n\u001b[0;32m      8\u001b[0m \u001b[43m        \u001b[49m\u001b[43m)\u001b[49m\n",
      "Cell \u001b[1;32mIn[11], line 64\u001b[0m, in \u001b[0;36mvalidate_one_epoch\u001b[1;34m(model, val_loader, criterion, device, epoch, calculate_dice_interval)\u001b[0m\n\u001b[0;32m     61\u001b[0m pbar\u001b[38;5;241m.\u001b[39mset_postfix(loss\u001b[38;5;241m=\u001b[39mloss\u001b[38;5;241m.\u001b[39mitem())\n\u001b[0;32m     63\u001b[0m \u001b[38;5;66;03m# 각 클래스별 Dice 점수 계산\u001b[39;00m\n\u001b[1;32m---> 64\u001b[0m \u001b[38;5;28;01mif\u001b[39;00m \u001b[43mepoch\u001b[49m\u001b[43m \u001b[49m\u001b[38;5;241;43m%\u001b[39;49m\u001b[43m \u001b[49m\u001b[43mcalculate_dice_interval\u001b[49m \u001b[38;5;241m==\u001b[39m \u001b[38;5;241m0\u001b[39m:\n\u001b[0;32m     65\u001b[0m     \u001b[38;5;28;01mfor\u001b[39;00m i \u001b[38;5;129;01min\u001b[39;00m \u001b[38;5;28mrange\u001b[39m(n_classes):\n\u001b[0;32m     66\u001b[0m         pred_i \u001b[38;5;241m=\u001b[39m (preds \u001b[38;5;241m==\u001b[39m i)\n",
      "\u001b[1;31mZeroDivisionError\u001b[0m: integer modulo by zero"
     ]
    },
    {
     "ename": "",
     "evalue": "",
     "output_type": "error",
     "traceback": [
      "\u001b[1;31mnotebook controller is DISPOSED. \n",
      "\u001b[1;31m자세한 내용은 Jupyter <a href='command:jupyter.viewOutput'>로그</a>를 참조하세요."
     ]
    },
    {
     "ename": "",
     "evalue": "",
     "output_type": "error",
     "traceback": [
      "\u001b[1;31mnotebook controller is DISPOSED. \n",
      "\u001b[1;31m자세한 내용은 Jupyter <a href='command:jupyter.viewOutput'>로그</a>를 참조하세요."
     ]
    }
   ],
   "source": [
    "val_loss = validate_one_epoch(\n",
    "            model=model, \n",
    "            val_loader=val_loader, \n",
    "            criterion=criterion, \n",
    "            device=device, \n",
    "            epoch=1, \n",
    "            calculate_dice_interval=0\n",
    "        )"
   ]
  },
  {
   "cell_type": "code",
   "execution_count": null,
   "metadata": {},
   "outputs": [
    {
     "name": "stdout",
     "output_type": "stream",
     "text": [
      "Processing volume 1/7\n"
     ]
    },
    {
     "name": "stderr",
     "output_type": "stream",
     "text": [
      "Loading dataset: 100%|██████████| 1/1 [00:01<00:00,  1.94s/it]\n"
     ]
    },
    {
     "name": "stdout",
     "output_type": "stream",
     "text": [
      "Processing volume 2/7\n"
     ]
    },
    {
     "name": "stderr",
     "output_type": "stream",
     "text": [
      "Loading dataset: 100%|██████████| 1/1 [00:01<00:00,  1.89s/it]\n"
     ]
    },
    {
     "name": "stdout",
     "output_type": "stream",
     "text": [
      "Processing volume 3/7\n"
     ]
    },
    {
     "name": "stderr",
     "output_type": "stream",
     "text": [
      "Loading dataset: 100%|██████████| 1/1 [00:01<00:00,  1.79s/it]\n"
     ]
    },
    {
     "name": "stdout",
     "output_type": "stream",
     "text": [
      "Submission saved to: submission.csv\n"
     ]
    },
    {
     "ename": "",
     "evalue": "",
     "output_type": "error",
     "traceback": [
      "\u001b[1;31mnotebook controller is DISPOSED. \n",
      "\u001b[1;31m자세한 내용은 Jupyter <a href='command:jupyter.viewOutput'>로그</a>를 참조하세요."
     ]
    },
    {
     "ename": "",
     "evalue": "",
     "output_type": "error",
     "traceback": [
      "\u001b[1;31mnotebook controller is DISPOSED. \n",
      "\u001b[1;31m자세한 내용은 Jupyter <a href='command:jupyter.viewOutput'>로그</a>를 참조하세요."
     ]
    }
   ],
   "source": [
    "import torch\n",
    "import numpy as np\n",
    "from scipy.ndimage import label, center_of_mass\n",
    "import pandas as pd\n",
    "from tqdm import tqdm\n",
    "from monai.data import CacheDataset, DataLoader\n",
    "from monai.transforms import Compose, NormalizeIntensity\n",
    "import cc3d\n",
    "\n",
    "def dict_to_df(coord_dict, experiment_name):\n",
    "    all_coords = []\n",
    "    all_labels = []\n",
    "    \n",
    "    for label, coords in coord_dict.items():\n",
    "        all_coords.append(coords)\n",
    "        all_labels.extend([label] * len(coords))\n",
    "    \n",
    "    all_coords = np.vstack(all_coords)\n",
    "    df = pd.DataFrame({\n",
    "        'experiment': experiment_name,\n",
    "        'particle_type': all_labels,\n",
    "        'x': all_coords[:, 0],\n",
    "        'y': all_coords[:, 1],\n",
    "        'z': all_coords[:, 2]\n",
    "    })\n",
    "    return df\n",
    "\n",
    "id_to_name = {1: \"apo-ferritin\", \n",
    "              2: \"beta-amylase\",\n",
    "              3: \"beta-galactosidase\", \n",
    "              4: \"ribosome\", \n",
    "              5: \"thyroglobulin\", \n",
    "              6: \"virus-like-particle\"}\n",
    "BLOB_THRESHOLD = 200\n",
    "CERTAINTY_THRESHOLD = 0.05\n",
    "\n",
    "classes = [1, 2, 3, 4, 5, 6]\n",
    "\n",
    "model.eval()\n",
    "with torch.no_grad():\n",
    "    location_dfs = []  # DataFrame 리스트로 초기화\n",
    "    \n",
    "    for vol_idx, run in enumerate(preprocessor.root.runs):\n",
    "        print(f\"Processing volume {vol_idx + 1}/{len(preprocessor.root.runs)}\")\n",
    "        tomogram = preprocessor.processing(run=run, task=\"task\")\n",
    "        task_files = [{\"image\": tomogram}]\n",
    "        task_ds = CacheDataset(data=task_files, transform=non_random_transforms)\n",
    "        task_loader = DataLoader(task_ds, batch_size=1, num_workers=0)\n",
    "        \n",
    "        for task_data in task_loader:\n",
    "            images = task_data['image'].to(\"cuda\")\n",
    "            outputs = sliding_window_inference(\n",
    "                inputs=images,\n",
    "                roi_size=(96, 96, 96),  # ROI 크기\n",
    "                sw_batch_size=4,\n",
    "                predictor=model.forward,\n",
    "                overlap=0.1,\n",
    "                sw_device=\"cuda\",\n",
    "                device=\"cpu\",\n",
    "                buffer_steps=1,\n",
    "                buffer_dim=-1\n",
    "            )\n",
    "            outputs = outputs.argmax(dim=1).squeeze(0).cpu().numpy()  # 클래스 채널 예측\n",
    "            location = {}  # 좌표 저장용 딕셔너리\n",
    "            for c in classes:\n",
    "                cc = cc3d.connected_components(outputs == c)  # cc3d 라벨링\n",
    "                stats = cc3d.statistics(cc)\n",
    "                zyx = stats['centroids'][1:] * 10.012444  # 스케일 변환\n",
    "                zyx_large = zyx[stats['voxel_counts'][1:] > BLOB_THRESHOLD]  # 크기 필터링\n",
    "                xyz = np.ascontiguousarray(zyx_large[:, ::-1])  # 좌표 스왑 (z, y, x -> x, y, z)\n",
    "\n",
    "                location[id_to_name[c]] = xyz  # ID 이름 매칭 저장\n",
    "\n",
    "            # 데이터프레임 변환\n",
    "            df = dict_to_df(location, run.name)\n",
    "            location_dfs.append(df)  # 리스트에 추가\n",
    "        \n",
    "        # if vol_idx == 2:\n",
    "        #     break\n",
    "    \n",
    "    # DataFrame 병합\n",
    "    final_df = pd.concat(location_dfs, ignore_index=True)\n",
    "    \n",
    "    # ID 추가 및 CSV 저장\n",
    "    final_df.insert(loc=0, column='id', value=np.arange(len(final_df)))\n",
    "    final_df.to_csv(\"submission.csv\", index=False)\n",
    "    print(\"Submission saved to: submission.csv\")\n"
   ]
  }
 ],
 "metadata": {
  "kernelspec": {
   "display_name": "UM",
   "language": "python",
   "name": "python3"
  },
  "language_info": {
   "codemirror_mode": {
    "name": "ipython",
    "version": 3
   },
   "file_extension": ".py",
   "mimetype": "text/x-python",
   "name": "python",
   "nbconvert_exporter": "python",
   "pygments_lexer": "ipython3",
   "version": "3.12.7"
  }
 },
 "nbformat": 4,
 "nbformat_minor": 2
}
