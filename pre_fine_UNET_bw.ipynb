{
 "cells": [
  {
   "cell_type": "code",
   "execution_count": 1,
   "metadata": {},
   "outputs": [
    {
     "name": "stderr",
     "output_type": "stream",
     "text": [
      "c:\\Users\\pook0\\.conda\\envs\\UM\\Lib\\site-packages\\tqdm\\auto.py:21: TqdmWarning: IProgress not found. Please update jupyter and ipywidgets. See https://ipywidgets.readthedocs.io/en/stable/user_install.html\n",
      "  from .autonotebook import tqdm as notebook_tqdm\n"
     ]
    },
    {
     "name": "stdout",
     "output_type": "stream",
     "text": [
      "MONAI version: 1.4.0\n",
      "Numpy version: 1.26.4\n",
      "Pytorch version: 2.4.1+cu121\n",
      "MONAI flags: HAS_EXT = False, USE_COMPILED = False, USE_META_DICT = False\n",
      "MONAI rev id: 46a5272196a6c2590ca2589029eed8e4d56ff008\n",
      "MONAI __file__: c:\\Users\\<username>\\.conda\\envs\\UM\\Lib\\site-packages\\monai\\__init__.py\n",
      "\n",
      "Optional dependencies:\n",
      "Pytorch Ignite version: NOT INSTALLED or UNKNOWN VERSION.\n",
      "ITK version: NOT INSTALLED or UNKNOWN VERSION.\n",
      "Nibabel version: 5.3.2\n",
      "scikit-image version: 0.24.0\n",
      "scipy version: 1.14.1\n",
      "Pillow version: 10.2.0\n",
      "Tensorboard version: 2.18.0\n",
      "gdown version: 5.2.0\n",
      "TorchVision version: 0.19.1+cu121\n",
      "tqdm version: 4.66.5\n",
      "lmdb version: NOT INSTALLED or UNKNOWN VERSION.\n",
      "psutil version: 6.0.0\n",
      "pandas version: 2.2.3\n",
      "einops version: 0.8.0\n",
      "transformers version: NOT INSTALLED or UNKNOWN VERSION.\n",
      "mlflow version: 2.17.2\n",
      "pynrrd version: NOT INSTALLED or UNKNOWN VERSION.\n",
      "clearml version: NOT INSTALLED or UNKNOWN VERSION.\n",
      "\n",
      "For details about installing the optional dependencies, please visit:\n",
      "    https://docs.monai.io/en/latest/installation.html#installing-the-recommended-dependencies\n",
      "\n"
     ]
    }
   ],
   "source": [
    "import os\n",
    "import shutil\n",
    "import tempfile\n",
    "\n",
    "import matplotlib.pyplot as plt\n",
    "from tqdm import tqdm\n",
    "\n",
    "import random\n",
    "import numpy as np\n",
    "import torch\n",
    "\n",
    "from src.models import UNet_CBAM\n",
    "\n",
    "from monai.losses import DiceCELoss\n",
    "from monai.inferers import sliding_window_inference\n",
    "from monai.transforms import (\n",
    "    AsDiscrete,\n",
    "    EnsureChannelFirstd,\n",
    "    Compose,\n",
    "    CropForegroundd,\n",
    "    LoadImaged,\n",
    "    Orientationd,\n",
    "    RandFlipd,\n",
    "    RandCropByPosNegLabeld,\n",
    "    RandShiftIntensityd,\n",
    "    ScaleIntensityRanged,\n",
    "    Spacingd,\n",
    "    RandRotate90d,\n",
    ")\n",
    "\n",
    "from monai.networks.layers.factories import Act, Norm\n",
    "\n",
    "from monai.config import print_config\n",
    "from monai.metrics import DiceMetric\n",
    "# from src.models.swincspunetr import SwinCSPUNETR\n",
    "# from src.models.swincspunetr_unet import SwinCSPUNETR_unet\n",
    "# from src.models.swincspunetr3plus import SwinCSPUNETR3plus\n",
    "\n",
    "from monai.data import (\n",
    "    DataLoader,\n",
    "    CacheDataset,\n",
    "    load_decathlon_datalist,\n",
    "    decollate_batch,\n",
    ")\n",
    "\n",
    "# 랜덤 시드 고정\n",
    "def set_seed(seed):\n",
    "    random.seed(seed)\n",
    "    np.random.seed(seed)\n",
    "    torch.manual_seed(seed)\n",
    "    if torch.cuda.is_available():\n",
    "        torch.cuda.manual_seed_all(seed)\n",
    "\n",
    "set_seed(42)\n",
    "\n",
    "\n",
    "print_config()"
   ]
  },
  {
   "cell_type": "code",
   "execution_count": 2,
   "metadata": {},
   "outputs": [
    {
     "name": "stdout",
     "output_type": "stream",
     "text": [
      "클래스 비율: {0: 0.0, 1: 0.16393442622950818, 2: 0.01639344262295082, 3: 0.2459016393442623, 4: 0.16393442622950818, 5: 0.2459016393442623, 6: 0.16393442622950818}\n",
      "최종 합계: 1.0\n",
      "클래스 비율 리스트: [0.0, 0.16393442622950818, 0.01639344262295082, 0.2459016393442623, 0.16393442622950818, 0.2459016393442623, 0.16393442622950818]\n"
     ]
    }
   ],
   "source": [
    "class_info = {\n",
    "    0: {\"name\": \"background\", \"weight\": 0},  # weight 없음\n",
    "    1: {\"name\": \"apo-ferritin\", \"weight\": 1000},\n",
    "    2: {\"name\": \"beta-amylase\", \"weight\": 100}, # 4130\n",
    "    3: {\"name\": \"beta-galactosidase\", \"weight\": 1500}, #3080\n",
    "    4: {\"name\": \"ribosome\", \"weight\": 1000},\n",
    "    5: {\"name\": \"thyroglobulin\", \"weight\": 1500},\n",
    "    6: {\"name\": \"virus-like-particle\", \"weight\": 1000},\n",
    "}\n",
    "\n",
    "# 가중치에 비례한 비율 계산\n",
    "raw_ratios = {\n",
    "    k: (v[\"weight\"] if v[\"weight\"] is not None else 0.01)  # 가중치 비례, None일 경우 기본값a\n",
    "    for k, v in class_info.items()\n",
    "}\n",
    "total = sum(raw_ratios.values())\n",
    "ratios = {k: v / total for k, v in raw_ratios.items()}\n",
    "\n",
    "# 최종 합계가 1인지 확인\n",
    "final_total = sum(ratios.values())\n",
    "print(\"클래스 비율:\", ratios)\n",
    "print(\"최종 합계:\", final_total)\n",
    "\n",
    "# 비율을 리스트로 변환\n",
    "ratios_list = [ratios[k] for k in sorted(ratios.keys())]\n",
    "print(\"클래스 비율 리스트:\", ratios_list)"
   ]
  },
  {
   "cell_type": "markdown",
   "metadata": {},
   "source": [
    "# 모델 설정"
   ]
  },
  {
   "cell_type": "code",
   "execution_count": null,
   "metadata": {},
   "outputs": [],
   "source": [
    "from src.dataset.dataset import create_dataloaders, create_dataloaders_bw\n",
    "from monai.transforms import (\n",
    "    Compose, LoadImaged, EnsureChannelFirstd, NormalizeIntensityd,\n",
    "    Orientationd, CropForegroundd, GaussianSmoothd, ScaleIntensityd,\n",
    "    RandSpatialCropd, RandRotate90d, RandFlipd, RandGaussianNoised,\n",
    "    ToTensord, RandCropByLabelClassesd, RandCropd,RandCropByPosNegLabeld, RandGaussianSmoothd,\n",
    "    RandShiftIntensityD, RandAdjustContrastD, RandGaussianNoiseD, Rand3DElasticD,\n",
    ")\n",
    "from monai.transforms import CastToTyped\n",
    "import numpy as np\n",
    "\n",
    "train_img_dir = \"./datasets/Aug4_data/images\"\n",
    "train_label_dir = \"./datasets/Aug4_data/labels\"\n",
    "val_img_dir = \"./datasets/val/images\"\n",
    "val_label_dir = \"./datasets/val/labels\"\n",
    "# DATA CONFIG\n",
    "img_size =  96 # Match your patch size\n",
    "img_depth = 96\n",
    "n_classes = 7\n",
    "batch_size = 16 # 13.8GB GPU memory required for 128x128 img size\n",
    "loader_batch = 1\n",
    "num_samples = batch_size // loader_batch # 한 이미지에서 뽑을 샘플 수\n",
    "num_repeat = 1\n",
    "# MODEL CONFIG\n",
    "num_epochs = 4000\n",
    "lamda = 0.5\n",
    "ce_weight = 0.8\n",
    "lr = 0.001\n",
    "feature_size = 48\n",
    "use_checkpoint = True\n",
    "use_v2 = True\n",
    "drop_rate= 0.2\n",
    "attn_drop_rate = 0.2\n",
    "num_bottleneck = 2\n",
    "# CLASS_WEIGHTS\n",
    "class_weights = None\n",
    "# class_weights = torch.tensor([0.0001, 1, 0.001, 1.1, 1, 1.1, 1], dtype=torch.float32)  # 클래스별 가중치\n",
    "# class_weights = torch.tensor([0.9,1,0.9,1.1,1,1.1,1], dtype=torch.float32)  # 클래스별 가중치\n",
    "# class_weights = torch.tensor([1,1,1,1,1,1,1], dtype=torch.float32)  # 클래스별 가중치\n",
    "sigma = 1.5\n",
    "accumulation_steps = 1\n",
    "# INIT\n",
    "start_epoch = 0\n",
    "best_val_loss = float('inf')\n",
    "best_val_fbeta_score = 0\n",
    "\n",
    "non_random_transforms = Compose([\n",
    "    EnsureChannelFirstd(keys=[\"image\", \"label\"], channel_dim=\"no_channel\"),\n",
    "    NormalizeIntensityd(keys=\"image\"),\n",
    "    Orientationd(keys=[\"image\", \"label\"], axcodes=\"RAS\"),\n",
    "    # GaussianSmoothd(\n",
    "    #     keys=[\"image\"],      # 변환을 적용할 키\n",
    "    #     sigma=[sigma, sigma, sigma]  # 각 축(x, y, z)의 시그마 값\n",
    "    #     ),\n",
    "])\n",
    "random_transforms = Compose([\n",
    "    RandCropByLabelClassesd(\n",
    "        keys=[\"image\", \"label\"],\n",
    "        label_key=\"label\",\n",
    "        spatial_size=[img_depth, img_size, img_size],\n",
    "        num_classes=n_classes,\n",
    "        num_samples=num_samples, \n",
    "        ratios=ratios_list,\n",
    "    ),\n",
    "    RandRotate90d(keys=[\"image\", \"label\"], prob=0.5, spatial_axes=[1, 2]),\n",
    "    RandFlipd(keys=[\"image\", \"label\"], prob=0.5, spatial_axis=0),\n",
    "    RandFlipd(keys=[\"image\", \"label\"], prob=0.5, spatial_axis=1),\n",
    "    RandFlipd(keys=[\"image\", \"label\"], prob=0.5, spatial_axis=2),\n",
    "    # Rand3DElasticD(\n",
    "    #     keys=[\"image\", \"label\"],\n",
    "    #     sigma_range=(3, 5),  # 변형 필드의 부드러움\n",
    "    #     magnitude_range=(50, 100),  # 변형 강도\n",
    "    #     prob=0.5,  # 변형 적용 확률\n",
    "    #     spatial_size=[img_depth, img_size, img_size],  # 출력 크기\n",
    "    #     mode=\"bilinear\",  # 보간 방식\n",
    "    #     padding_mode=\"zeros\"  # 패딩 방식\n",
    "    # ),\n",
    "    # RandGaussianNoiseD(keys=[\"image\"], prob=0.5, mean=0.0, std=0.1),  # 가우시안 노이즈 추가\n",
    "    # RandShiftIntensityD(keys=[\"image\"], prob=0.5, offsets=0.1),  # intensity 값 이동\n",
    "    # RandAdjustContrastD(keys=[\"image\"], prob=0.5, gamma=(0.8, 1.2)),  # contrast 조정\n",
    "    # RandGaussianSmoothd(\n",
    "    # keys=[\"image\"],      # 변환을 적용할 키\n",
    "    # sigma_x = (0.5, sigma), # 각 축(x, y, z)의 시그마 값\n",
    "    # sigma_y = (0.5, sigma),\n",
    "    # sigma_z = (0.5, sigma),\n",
    "    # prob=0.5,\n",
    "    # ),\n",
    "])\n",
    "val_random_transforms = Compose([\n",
    "    RandCropByLabelClassesd(\n",
    "        keys=[\"image\", \"label\"],\n",
    "        label_key=\"label\",\n",
    "        spatial_size=[img_depth, img_size, img_size],\n",
    "        num_classes=n_classes,\n",
    "        num_samples=num_samples, \n",
    "        ratios=ratios_list,\n",
    "    ),\n",
    "    # RandRotate90d(keys=[\"image\", \"label\"], prob=0.5, spatial_axes=[1, 2]),\n",
    "    # RandFlipd(keys=[\"image\", \"label\"], prob=0.5, spatial_axis=0),\n",
    "    # RandFlipd(keys=[\"image\", \"label\"], prob=0.5, spatial_axis=1),\n",
    "    # RandFlipd(keys=[\"image\", \"label\"], prob=0.5, spatial_axis=2),\n",
    "    # RandGaussianSmoothd(\n",
    "    # keys=[\"image\"],      # 변환을 적용할 키\n",
    "    # sigma_x = (0.0, sigma), # 각 축(x, y, z)의 시그마 값\n",
    "    # sigma_y = (0.0, sigma),\n",
    "    # sigma_z = (0.0, sigma),\n",
    "    # prob=1.0,\n",
    "    # ),\n",
    "])\n"
   ]
  },
  {
   "cell_type": "code",
   "execution_count": 4,
   "metadata": {},
   "outputs": [],
   "source": [
    "train_loader, val_loader = None, None\n",
    "train_loader, val_loader = create_dataloaders_bw(\n",
    "    train_img_dir, \n",
    "    train_label_dir, \n",
    "    val_img_dir, \n",
    "    val_label_dir, \n",
    "    non_random_transforms = non_random_transforms, \n",
    "    val_non_random_transforms=non_random_transforms,\n",
    "    random_transforms = random_transforms, \n",
    "    val_random_transforms=val_random_transforms,\n",
    "    batch_size = loader_batch,\n",
    "    num_workers=0,\n",
    "    train_num_repeat=num_repeat,\n",
    "    val_num_repeat=num_repeat,\n",
    "    )"
   ]
  },
  {
   "cell_type": "markdown",
   "metadata": {},
   "source": [
    "https://monai.io/model-zoo.html"
   ]
  },
  {
   "cell_type": "code",
   "execution_count": 5,
   "metadata": {},
   "outputs": [],
   "source": [
    "import torch\n",
    "import torch.nn as nn\n",
    "import torch.nn.functional as F\n",
    "from monai.losses import TverskyLoss\n",
    "\n",
    "device = torch.device(\"cuda\" if torch.cuda.is_available() else \"cpu\")\n",
    "\n",
    "# DynamicTverskyLoss 클래스 정의\n",
    "class DynamicTverskyLoss(TverskyLoss):\n",
    "    def __init__(self, lamda=0.5, **kwargs):\n",
    "        super().__init__(alpha=1 - lamda, beta=lamda, **kwargs)\n",
    "        self.lamda = lamda\n",
    "\n",
    "    def set_lamda(self, lamda):\n",
    "        self.lamda = lamda\n",
    "        self.alpha = 1 - lamda\n",
    "        self.beta = lamda\n",
    "\n",
    "\n",
    "# CombinedCETverskyLoss 클래스\n",
    "class CombinedCETverskyLoss_cl_weight(nn.Module):\n",
    "    \n",
    "    \n",
    "    def __init__(self, lamda=0.5, ce_weight=0.5, n_classes=7, class_weights=None, ignore_index=-1, **kwargs):\n",
    "        super().__init__()\n",
    "        self.n_classes = n_classes\n",
    "        self.ce_weight = ce_weight\n",
    "        self.ignore_index = ignore_index\n",
    "        \n",
    "        # CrossEntropyLoss에서 클래스별 가중치를 적용\n",
    "        self.ce = nn.CrossEntropyLoss(weight=class_weights, ignore_index=self.ignore_index, reduction='mean', **kwargs)\n",
    "        \n",
    "        # TverskyLoss\n",
    "        self.tversky = DynamicTverskyLoss(lamda=lamda, reduction=\"none\",softmax=True, **kwargs)\n",
    "\n",
    "    def forward(self, inputs, targets):\n",
    "        \n",
    "        # CrossEntropyLoss는 정수형 클래스 인덱스를 사용\n",
    "        ce_loss = self.ce(inputs, targets)\n",
    "\n",
    "        # TverskyLoss 계산 (원핫 인코딩된 라벨을 사용)\n",
    "        \n",
    "        tversky_loss = self.tversky(inputs, targets)\n",
    "\n",
    "        # 클래스별 가중치 적용 (Tversky 손실에도 가중치를 곱하기)\n",
    "        class_weights = torch.tensor(self.ce.weight)  # CrossEntropy의 weight를 사용\n",
    "\n",
    "        # Tversky 손실이 (B, num_classes) 형태이므로, 가중치를 클래스 차원에 곱합니다.\n",
    "        tversky_loss = tversky_loss * class_weights.view(1, self.n_classes)\n",
    "\n",
    "        # 최종 손실 계산\n",
    "        final_loss = self.ce_weight * ce_loss + (1 - self.ce_weight) * tversky_loss.mean()  # mean()으로 배치에 대해 평균\n",
    "        return final_loss\n",
    "\n",
    "    def set_lamda(self, lamda):\n",
    "        self.tversky.set_lamda(lamda)\n",
    "\n",
    "    @property\n",
    "    def lamda(self):\n",
    "        return self.tversky.lamda\n",
    "\n",
    "# CombinedCETverskyLoss 클래스\n",
    "class CombinedCETverskyLoss(nn.Module):\n",
    "    \n",
    "    def __init__(self, lamda=0.5, ce_weight=0.5, n_classes=7, class_weights=None, ignore_index=-1, **kwargs):\n",
    "        super().__init__()\n",
    "        self.n_classes = n_classes\n",
    "        self.ce_weight = ce_weight\n",
    "        self.ignore_index = ignore_index\n",
    "        \n",
    "        # CrossEntropyLoss에서 클래스별 가중치를 적용\n",
    "        self.ce = nn.CrossEntropyLoss(ignore_index=self.ignore_index, reduction='mean', **kwargs)\n",
    "        \n",
    "        # TverskyLoss\n",
    "        self.tversky = DynamicTverskyLoss(lamda=lamda, reduction=\"mean\",softmax=True, **kwargs)\n",
    "\n",
    "    def forward(self, inputs, targets):\n",
    "        \n",
    "        # CrossEntropyLoss는 정수형 클래스 인덱스를 사용\n",
    "        ce_loss = self.ce(inputs, targets)\n",
    "\n",
    "        # TverskyLoss 계산 (원핫 인코딩된 라벨을 사용)\n",
    "        \n",
    "        tversky_loss = self.tversky(inputs, targets)\n",
    "\n",
    "        # 최종 손실 계산\n",
    "        final_loss = self.ce_weight * ce_loss + (1 - self.ce_weight) * tversky_loss  # mean()으로 배치에 대해 평균\n",
    "        \n",
    "        return final_loss\n",
    "\n",
    "    def set_lamda(self, lamda):\n",
    "        self.tversky.set_lamda(lamda)\n",
    "\n",
    "    @property\n",
    "    def lamda(self):\n",
    "        return self.tversky.lamda\n",
    "\n",
    "criterion = CombinedCETverskyLoss(\n",
    "    lamda=lamda,\n",
    "    ce_weight=ce_weight,\n",
    "    n_classes=n_classes,\n",
    "    class_weights=class_weights,\n",
    ").to(device)"
   ]
  },
  {
   "cell_type": "code",
   "execution_count": null,
   "metadata": {},
   "outputs": [
    {
     "name": "stderr",
     "output_type": "stream",
     "text": [
      "c:\\Users\\pook0\\.conda\\envs\\UM\\Lib\\site-packages\\torch\\nn\\init.py:453: UserWarning: Initializing zero-element tensors is a no-op\n",
      "  warnings.warn(\"Initializing zero-element tensors is a no-op\")\n"
     ]
    }
   ],
   "source": [
    "import torch.optim as optim\n",
    "from tqdm import tqdm\n",
    "import numpy as np\n",
    "import torch\n",
    "from pathlib import Path\n",
    "from monai.networks.nets import UNet\n",
    "from src.models import DP_UNet\n",
    "\n",
    "device = torch.device(\"cuda\" if torch.cuda.is_available() else \"cpu\")\n",
    "\n",
    "model=UNet_CBAM(\n",
    "    spatial_dims=3,\n",
    "    in_channels=1,\n",
    "    out_channels=n_classes,\n",
    "    channels=(32, 64, 128, 256),\n",
    "    strides=(2, 2, 2),\n",
    "    dropout = drop_rate,\n",
    "    norm = Norm.INSTANCE,\n",
    "    act = Act.PRELU,\n",
    ").to(device)\n",
    "\n",
    "# model = UNet(\n",
    "#     spatial_dims=3,\n",
    "#     in_channels=1,\n",
    "#     out_channels=n_classes,\n",
    "#     channels=(32, 64, 128, 256),\n",
    "#     strides=(2, 2, 2),\n",
    "#     dropout = drop_rate,\n",
    "#     norm = Norm.INSTANCE,\n",
    "#     act = Act.PRELU,\n",
    "# ).to(device)\n",
    "\n",
    "pretrain_str = \"yes\" if use_checkpoint else \"no\"\n",
    "weight_str = \"weighted\" if class_weights is not None else \"\"\n",
    "\n",
    "# 체크포인트 디렉토리 및 파일 설정\n",
    "checkpoint_base_dir = Path(\"./model_checkpoints\")\n",
    "folder_name = f\"CBAM_Aug4_noGauss_d{img_depth}_s_{img_size}_f{feature_size}_lr{lr:.0e}_a{lamda:.2f}_b{batch_size}_r{num_repeat}_ce{ce_weight}_ac{accumulation_steps}\"\n",
    "checkpoint_dir = checkpoint_base_dir / folder_name\n",
    "optimizer = optim.AdamW(model.parameters(), lr=lr, weight_decay=1e-5)\n",
    "scheduler = torch.optim.lr_scheduler.ReduceLROnPlateau(optimizer, patience=5, factor=0.5)\n",
    "# 체크포인트 디렉토리 생성\n",
    "checkpoint_dir.mkdir(parents=True, exist_ok=True)\n",
    "\n",
    "if checkpoint_dir.exists():\n",
    "    best_model_path = checkpoint_dir / 'best_model_pretrained.pt'\n",
    "    if best_model_path.exists():\n",
    "        print(f\"기존 best model 발견: {best_model_path}\")\n",
    "        try:\n",
    "            checkpoint = torch.load(best_model_path, map_location=device)\n",
    "            # 체크포인트 내부 키 검증\n",
    "            required_keys = ['model_state_dict', 'optimizer_state_dict', 'epoch', 'best_val_loss', 'best_val_fbeta_score']\n",
    "            if all(k in checkpoint for k in required_keys):\n",
    "                model.load_state_dict(checkpoint['model_state_dict'])\n",
    "                optimizer.load_state_dict(checkpoint['optimizer_state_dict'])\n",
    "                start_epoch = checkpoint['epoch']\n",
    "                best_val_loss = checkpoint['best_val_loss']\n",
    "                best_val_fbeta_score = checkpoint['best_val_fbeta_score']\n",
    "                print(\"기존 학습된 가중치를 성공적으로 로드했습니다.\")\n",
    "                checkpoint= None\n",
    "            else:\n",
    "                raise ValueError(\"체크포인트 파일에 필요한 key가 없습니다.\")\n",
    "        except Exception as e:\n",
    "            print(f\"체크포인트 파일을 로드하는 중 오류 발생: {e}\")"
   ]
  },
  {
   "cell_type": "code",
   "execution_count": 7,
   "metadata": {},
   "outputs": [
    {
     "name": "stdout",
     "output_type": "stream",
     "text": [
      "torch.Size([16, 1, 32, 96, 96]) torch.Size([16, 1, 32, 96, 96])\n"
     ]
    }
   ],
   "source": [
    "batch = next(iter(val_loader))\n",
    "images, labels = batch[\"image\"], batch[\"label\"]\n",
    "print(images.shape, labels.shape)"
   ]
  },
  {
   "cell_type": "code",
   "execution_count": 8,
   "metadata": {},
   "outputs": [],
   "source": [
    "torch.backends.cudnn.benchmark = True"
   ]
  },
  {
   "cell_type": "code",
   "execution_count": 9,
   "metadata": {},
   "outputs": [
    {
     "name": "stderr",
     "output_type": "stream",
     "text": [
      "\u001b[34m\u001b[1mwandb\u001b[0m: Using wandb-core as the SDK backend.  Please refer to https://wandb.me/wandb-core for more information.\n",
      "\u001b[34m\u001b[1mwandb\u001b[0m: Currently logged in as: \u001b[33mpook0612\u001b[0m (\u001b[33mlimbw\u001b[0m). Use \u001b[1m`wandb login --relogin`\u001b[0m to force relogin\n"
     ]
    },
    {
     "data": {
      "text/html": [
       "Tracking run with wandb version 0.19.1"
      ],
      "text/plain": [
       "<IPython.core.display.HTML object>"
      ]
     },
     "metadata": {},
     "output_type": "display_data"
    },
    {
     "data": {
      "text/html": [
       "Run data is saved locally in <code>d:\\Workspace\\czll\\wandb\\run-20250124_171253-9lpbdksd</code>"
      ],
      "text/plain": [
       "<IPython.core.display.HTML object>"
      ]
     },
     "metadata": {},
     "output_type": "display_data"
    },
    {
     "data": {
      "text/html": [
       "Syncing run <strong><a href='https://wandb.ai/limbw/czii_UNet/runs/9lpbdksd' target=\"_blank\">CBAM_Aug4_noGauss_f48_lr1e-03_a0.50_b16_r1_ce0.8_ac1</a></strong> to <a href='https://wandb.ai/limbw/czii_UNet' target=\"_blank\">Weights & Biases</a> (<a href='https://wandb.me/developer-guide' target=\"_blank\">docs</a>)<br>"
      ],
      "text/plain": [
       "<IPython.core.display.HTML object>"
      ]
     },
     "metadata": {},
     "output_type": "display_data"
    },
    {
     "data": {
      "text/html": [
       " View project at <a href='https://wandb.ai/limbw/czii_UNet' target=\"_blank\">https://wandb.ai/limbw/czii_UNet</a>"
      ],
      "text/plain": [
       "<IPython.core.display.HTML object>"
      ]
     },
     "metadata": {},
     "output_type": "display_data"
    },
    {
     "data": {
      "text/html": [
       " View run at <a href='https://wandb.ai/limbw/czii_UNet/runs/9lpbdksd' target=\"_blank\">https://wandb.ai/limbw/czii_UNet/runs/9lpbdksd</a>"
      ],
      "text/plain": [
       "<IPython.core.display.HTML object>"
      ]
     },
     "metadata": {},
     "output_type": "display_data"
    }
   ],
   "source": [
    "import wandb\n",
    "from datetime import datetime\n",
    "\n",
    "current_time = datetime.now().strftime('%Y%m%d_%H%M%S')\n",
    "run_name = folder_name\n",
    "\n",
    "# wandb 초기화\n",
    "wandb.init(\n",
    "    project='czii_UNet',  # 프로젝트 이름 설정\n",
    "    name=run_name,         # 실행(run) 이름 설정\n",
    "    config={\n",
    "        'num_epochs': num_epochs,\n",
    "        'learning_rate': lr,\n",
    "        'batch_size': batch_size,\n",
    "        'lambda': lamda,\n",
    "        \"cross_entropy_weight\": ce_weight,\n",
    "        'feature_size': feature_size,\n",
    "        'img_size': img_size,\n",
    "        'sampling_ratio': ratios_list,\n",
    "        'device': device.type,\n",
    "        \"checkpoint_dir\": str(checkpoint_dir),\n",
    "        \"class_weights\": class_weights.tolist() if class_weights is not None else None,\n",
    "        # \"use_checkpoint\": use_checkpoint,\n",
    "        \"drop_rate\": drop_rate,\n",
    "        # \"attn_drop_rate\": attn_drop_rate,\n",
    "        # \"use_v2\": use_v2,\n",
    "        \"accumulation_steps\": accumulation_steps,\n",
    "        \"num_repeat\": num_repeat,\n",
    "        # \"num_bottleneck\": num_bottleneck,\n",
    "        \n",
    "        # 필요한 하이퍼파라미터 추가\n",
    "    }\n",
    ")\n",
    "# 모델을 wandb에 연결\n",
    "wandb.watch(model, log='all')"
   ]
  },
  {
   "cell_type": "markdown",
   "metadata": {},
   "source": [
    "# 학습"
   ]
  },
  {
   "cell_type": "code",
   "execution_count": 10,
   "metadata": {},
   "outputs": [],
   "source": [
    "from monai.metrics import DiceMetric\n",
    "    \n",
    "def processing(batch_data, model, criterion, device):\n",
    "    images = batch_data['image'].to(device)  # Input 이미지 (B, 1, 96, 96, 96)\n",
    "    labels = batch_data['label'].to(device)  # 라벨 (B, 96, 96, 96)\n",
    "\n",
    "    labels = labels.squeeze(1)  # (B, 1, 96, 96, 96) → (B, 96, 96, 96)\n",
    "    labels = labels.long()  # 라벨을 정수형으로 변환\n",
    "\n",
    "    # 원핫 인코딩 (B, H, W, D) → (B, num_classes, H, W, D)\n",
    "    \n",
    "    labels_onehot = torch.nn.functional.one_hot(labels, num_classes=n_classes)\n",
    "    labels_onehot = labels_onehot.permute(0, 4, 1, 2, 3).float()  # (B, num_classes, H, W, D)\n",
    "\n",
    "    # 모델 예측\n",
    "    outputs = model(images)  # outputs: (B, num_classes, H, W, D)\n",
    "\n",
    "    # Loss 계산\n",
    "    loss = criterion(outputs, labels_onehot)\n",
    "    # loss = loss_fn(criterion(outputs, labels_onehot),class_weights=class_weights, device=device)\n",
    "    return loss, outputs, labels, outputs.argmax(dim=1)\n",
    "\n",
    "def train_one_epoch(model, train_loader, criterion, optimizer, device, epoch, accumulation_steps=4):\n",
    "    model.train()\n",
    "    epoch_loss = 0\n",
    "    optimizer.zero_grad()  # 그래디언트 초기화\n",
    "    with tqdm(train_loader, desc='Training') as pbar:\n",
    "        for i, batch_data in enumerate(pbar):\n",
    "            # 손실 계산\n",
    "            loss, _, _, _ = processing(batch_data, model, criterion, device)\n",
    "\n",
    "            # 그래디언트를 계산하고 누적\n",
    "            loss = loss / accumulation_steps  # 그래디언트 누적을 위한 스케일링\n",
    "            loss.backward()  # 그래디언트 계산 및 누적\n",
    "            \n",
    "            # 그래디언트 업데이트 (accumulation_steps마다 한 번)\n",
    "            if (i + 1) % accumulation_steps == 0 or (i + 1) == len(train_loader):\n",
    "                optimizer.step()  # 파라미터 업데이트\n",
    "                optimizer.zero_grad()  # 누적된 그래디언트 초기화\n",
    "            \n",
    "            # 손실값 누적 (스케일링 복구)\n",
    "            epoch_loss += loss.item() * accumulation_steps  # 실제 손실값 반영\n",
    "            pbar.set_postfix(loss=loss.item() * accumulation_steps)  # 실제 손실값 출력\n",
    "    avg_loss = epoch_loss / len(train_loader)\n",
    "    wandb.log({'train_epoch_loss': avg_loss, 'epoch': epoch + 1})\n",
    "    return avg_loss\n",
    "\n",
    "\n",
    "def validate_one_epoch(model, val_loader, criterion, device, epoch, calculate_dice_interval, ce_weight):\n",
    "    model.eval()\n",
    "    val_loss = 0\n",
    "    \n",
    "    class_dice_scores = {i: [] for i in range(n_classes)}\n",
    "    class_f_beta_scores = {i: [] for i in range(n_classes)}\n",
    "    class_mIoU_scores = {i: [] for i in range(n_classes)}\n",
    "    with torch.no_grad():\n",
    "        with tqdm(val_loader, desc='Validation') as pbar:\n",
    "            for batch_data in pbar:\n",
    "                loss, _, labels, preds = processing(batch_data, model, criterion, device)\n",
    "                val_loss += loss.item()\n",
    "                pbar.set_postfix(loss=loss.item())\n",
    "\n",
    "                # 각 클래스별 Dice 점수 계산\n",
    "                if epoch % calculate_dice_interval == 0:\n",
    "                    for i in range(n_classes):\n",
    "                        pred_i = (preds == i)\n",
    "                        label_i = (labels == i)\n",
    "                        dice_score = (2.0 * torch.sum(pred_i & label_i)) / (torch.sum(pred_i) + torch.sum(label_i) + 1e-8)\n",
    "                        class_dice_scores[i].append(dice_score.item())\n",
    "                        precision = (torch.sum(pred_i & label_i) + 1e-8) / (torch.sum(pred_i) + 1e-8)\n",
    "                        recall = (torch.sum(pred_i & label_i) + 1e-8) / (torch.sum(label_i) + 1e-8)\n",
    "                        f_beta_score = (1 + 4**2) * (precision * recall) / (4**2 * precision + recall + 1e-8)\n",
    "                        class_f_beta_scores[i].append(f_beta_score.item())\n",
    "                        intersection = torch.sum(pred_i & label_i).float()\n",
    "                        union = torch.sum(pred_i | label_i).float()\n",
    "                        iou = (intersection + 1e-8) / (union + 1e-8)\n",
    "                        class_mIoU_scores[i].append(iou.item())\n",
    "\n",
    "    avg_loss = val_loss / len(val_loader)\n",
    "    # 에포크별 평균 손실 로깅\n",
    "    wandb.log({'val_epoch_loss': avg_loss, 'epoch': epoch + 1})\n",
    "    \n",
    "    # 각 클래스별 평균 Dice 점수 출력\n",
    "    if epoch % calculate_dice_interval == 0:\n",
    "        print(\"Validation Dice Score\")\n",
    "        all_classes_dice_scores = []\n",
    "        for i in range(n_classes):\n",
    "            mean_dice = np.mean(class_dice_scores[i])\n",
    "            wandb.log({f'class_{i}_dice_score': mean_dice, 'epoch': epoch + 1})\n",
    "            print(f\"Class {i}: {mean_dice:.4f}\", end=\", \")\n",
    "            if i not in [0, 2]:  # 평균에 포함할 클래스만 추가\n",
    "                all_classes_dice_scores.append(mean_dice)\n",
    "            \n",
    "        print()\n",
    "    if epoch % calculate_dice_interval == 0:\n",
    "        print(\"Validation F-beta Score\")\n",
    "        all_classes_fbeta_scores = []\n",
    "        for i in range(n_classes):\n",
    "            mean_fbeta = np.mean(class_f_beta_scores[i])\n",
    "            wandb.log({f'class_{i}_f_beta_score': mean_fbeta, 'epoch': epoch + 1})\n",
    "            print(f\"Class {i}: {mean_fbeta:.4f}\", end=\", \")\n",
    "            if i not in [0, 2]:  # 평균에 포함할 클래스만 추가\n",
    "                all_classes_fbeta_scores.append(mean_fbeta)\n",
    "               \n",
    "        print() \n",
    "    if epoch % calculate_dice_interval == 0:\n",
    "        print(\"Validation mIoU Score\")\n",
    "        all_classes_mIoU_scores = []\n",
    "        for i in range(n_classes):\n",
    "            mean_IoU = np.mean(class_mIoU_scores[i])\n",
    "            wandb.log({f'class_{i}_IoU_score': mean_fbeta, 'epoch': epoch + 1})\n",
    "            print(f\"Class {i}: {mean_IoU:.4f}\", end=\", \")\n",
    "            if i not in [0, 2]:  # 평균에 포함할 클래스만 추가\n",
    "                all_classes_mIoU_scores.append(mean_IoU)\n",
    "                \n",
    "        print()\n",
    "        overall_mean_dice = np.mean(all_classes_dice_scores)\n",
    "        overall_mean_fbeta = np.mean(all_classes_fbeta_scores)\n",
    "        overall_mean_IoU = np.mean(all_classes_mIoU_scores)\n",
    "        final_score = overall_mean_fbeta * (1 - ce_weight) + overall_mean_IoU * ce_weight\n",
    "        wandb.log({'overall_mean_f_beta_score': overall_mean_fbeta, 'overall_mean_dice_score': overall_mean_dice, 'epoch': epoch + 1, 'overall_mean_IoU_score': overall_mean_IoU, 'final_score': final_score})  \n",
    "        print(f\"\\nOverall Mean Dice Score: {overall_mean_dice:.4f}\\nOverall Mean F-beta Score: {overall_mean_fbeta:.4f}\\nOverall Mean IoU Score: {overall_mean_IoU:.4f}\\nFinal_score: {final_score:.4f}\")\n",
    "\n",
    "    if overall_mean_fbeta is None:\n",
    "        overall_mean_fbeta = 0\n",
    "\n",
    "    \n",
    "    \n",
    "    return val_loss / len(val_loader), final_score \n",
    "\n",
    "def train_model(\n",
    "    model, train_loader, val_loader, criterion, optimizer, num_epochs, patience, \n",
    "    device, start_epoch, best_val_loss, best_val_fbeta_score, calculate_dice_interval=1,\n",
    "    accumulation_steps=4, pretrained=False\n",
    "):\n",
    "    \"\"\"\n",
    "    모델을 학습하고 검증하는 함수\n",
    "    Args:\n",
    "        model: 학습할 모델\n",
    "        train_loader: 학습 데이터 로더\n",
    "        val_loader: 검증 데이터 로더\n",
    "        criterion: 손실 함수\n",
    "        optimizer: 최적화 알고리즘\n",
    "        num_epochs: 총 학습 epoch 수\n",
    "        patience: early stopping 기준\n",
    "        device: GPU/CPU 장치\n",
    "        start_epoch: 시작 epoch\n",
    "        best_val_loss: 이전 최적 validation loss\n",
    "        best_val_fbeta_score: 이전 최적 validation f-beta score\n",
    "        calculate_dice_interval: Dice 점수 계산 주기\n",
    "    \"\"\"\n",
    "    epochs_no_improve = 0\n",
    "\n",
    "    for epoch in range(start_epoch, num_epochs):\n",
    "        print(f\"Epoch {epoch + 1}/{num_epochs}\")\n",
    "\n",
    "        # Train One Epoch\n",
    "        train_loss = train_one_epoch(\n",
    "            model=model, \n",
    "            train_loader=train_loader, \n",
    "            criterion=criterion, \n",
    "            optimizer=optimizer, \n",
    "            device=device,\n",
    "            epoch=epoch,\n",
    "            accumulation_steps= accumulation_steps\n",
    "        )\n",
    "        \n",
    "        scheduler.step(train_loss)\n",
    "        # Validate One Epoch\n",
    "        val_loss, overall_mean_fbeta_score = validate_one_epoch(\n",
    "            model=model, \n",
    "            val_loader=val_loader, \n",
    "            criterion=criterion, \n",
    "            device=device, \n",
    "            epoch=epoch, \n",
    "            calculate_dice_interval=calculate_dice_interval,\n",
    "            ce_weight = ce_weight\n",
    "        )\n",
    "\n",
    "        \n",
    "        print(f\"Training Loss: {train_loss:.4f}, Validation Loss: {val_loss:.4f}, Validation hybrid_score: {overall_mean_fbeta_score:.4f}\")\n",
    "\n",
    "        if val_loss < best_val_loss and overall_mean_fbeta_score > best_val_fbeta_score:\n",
    "            best_val_loss = val_loss\n",
    "            best_val_fbeta_score = overall_mean_fbeta_score\n",
    "            epochs_no_improve = 0\n",
    "            if pretrained:\n",
    "                checkpoint_path = os.path.join(checkpoint_dir, 'best_model_pretrained.pt')\n",
    "            else:\n",
    "                checkpoint_path = os.path.join(checkpoint_dir, 'best_model.pt')\n",
    "            torch.save({\n",
    "                'epoch': epoch + 1,\n",
    "                'model_state_dict': model.state_dict(),\n",
    "                'optimizer_state_dict': optimizer.state_dict(),\n",
    "                'best_val_loss': best_val_loss,\n",
    "                'best_val_fbeta_score': best_val_fbeta_score\n",
    "            }, checkpoint_path)\n",
    "            print(f\"========================================================\")\n",
    "            print(f\"SUPER Best model saved. Loss:{best_val_loss:.4f}, Score:{best_val_fbeta_score:.4f}\")\n",
    "            print(f\"========================================================\")\n",
    "\n",
    "        # Early stopping 조건 체크\n",
    "        if val_loss >= best_val_loss and overall_mean_fbeta_score <= best_val_fbeta_score:\n",
    "            epochs_no_improve += 1\n",
    "        else:\n",
    "            epochs_no_improve = 0\n",
    "\n",
    "        if epochs_no_improve >= patience:\n",
    "            print(\"Early stopping\")\n",
    "            checkpoint_path = os.path.join(checkpoint_dir, 'last.pt')\n",
    "            torch.save({\n",
    "                'epoch': epoch + 1,\n",
    "                'model_state_dict': model.state_dict(),\n",
    "                'optimizer_state_dict': optimizer.state_dict(),\n",
    "                'best_val_loss': best_val_loss,\n",
    "                'best_val_fbeta_score': best_val_fbeta_score\n",
    "            }, checkpoint_path)\n",
    "            break\n",
    "        # if epochs_no_improve % 6 == 0 & epochs_no_improve != 0:\n",
    "        #     # 손실이 개선되지 않았으므로 lambda 감소\n",
    "        #     new_lamda = max(criterion.lamda - 0.01, 0.35)  # 최소값은 0.1로 설정\n",
    "        #     criterion.set_lamda(new_lamda)\n",
    "        #     print(f\"Validation loss did not improve. Reducing lambda to {new_lamda:.4f}\")\n",
    "\n",
    "    wandb.finish()\n"
   ]
  },
  {
   "cell_type": "code",
   "execution_count": 11,
   "metadata": {},
   "outputs": [
    {
     "name": "stdout",
     "output_type": "stream",
     "text": [
      "Epoch 1/4000\n"
     ]
    },
    {
     "name": "stderr",
     "output_type": "stream",
     "text": [
      "Training: 100%|██████████| 132/132 [01:53<00:00,  1.16it/s, loss=0.336]\n",
      "Validation: 100%|██████████| 4/4 [00:02<00:00,  1.65it/s, loss=0.348]\n"
     ]
    },
    {
     "name": "stdout",
     "output_type": "stream",
     "text": [
      "Validation Dice Score\n",
      "Class 0: 0.9820, Class 1: 0.0002, Class 2: 0.0000, Class 3: 0.0002, Class 4: 0.1346, Class 5: 0.0006, Class 6: 0.0010, \n",
      "Validation F-beta Score\n",
      "Class 0: 0.9926, Class 1: 0.0001, Class 2: 0.0000, Class 3: 0.0001, Class 4: 0.2031, Class 5: 0.0003, Class 6: 0.0006, \n",
      "Validation mIoU Score\n",
      "Class 0: 0.9646, Class 1: 0.0001, Class 2: 0.0000, Class 3: 0.0001, Class 4: 0.0779, Class 5: 0.0003, Class 6: 0.0005, \n",
      "\n",
      "Overall Mean Dice Score: 0.0273\n",
      "Overall Mean F-beta Score: 0.0408\n",
      "Overall Mean IoU Score: 0.0158\n",
      "Final_score: 0.0208\n",
      "Training Loss: 0.7020, Validation Loss: 0.3484, Validation hybrid_score: 0.0208\n",
      "========================================================\n",
      "SUPER Best model saved. Loss:0.3484, Score:0.0208\n",
      "========================================================\n",
      "Epoch 2/4000\n"
     ]
    },
    {
     "name": "stderr",
     "output_type": "stream",
     "text": [
      "Training: 100%|██████████| 132/132 [01:36<00:00,  1.37it/s, loss=0.293]\n",
      "Validation: 100%|██████████| 4/4 [00:02<00:00,  1.70it/s, loss=0.273]\n"
     ]
    },
    {
     "name": "stdout",
     "output_type": "stream",
     "text": [
      "Validation Dice Score\n",
      "Class 0: 0.9805, Class 1: 0.0000, Class 2: 0.0000, Class 3: 0.0000, Class 4: 0.2292, Class 5: 0.0002, Class 6: 0.0186, \n",
      "Validation F-beta Score\n",
      "Class 0: 0.9896, Class 1: 0.0000, Class 2: 0.0000, Class 3: 0.0000, Class 4: 0.2521, Class 5: 0.0001, Class 6: 0.0101, \n",
      "Validation mIoU Score\n",
      "Class 0: 0.9618, Class 1: 0.0000, Class 2: 0.0000, Class 3: 0.0000, Class 4: 0.1350, Class 5: 0.0001, Class 6: 0.0094, \n",
      "\n",
      "Overall Mean Dice Score: 0.0496\n",
      "Overall Mean F-beta Score: 0.0524\n",
      "Overall Mean IoU Score: 0.0289\n",
      "Final_score: 0.0336\n",
      "Training Loss: 0.3108, Validation Loss: 0.3036, Validation hybrid_score: 0.0336\n",
      "========================================================\n",
      "SUPER Best model saved. Loss:0.3036, Score:0.0336\n",
      "========================================================\n",
      "Epoch 3/4000\n"
     ]
    },
    {
     "name": "stderr",
     "output_type": "stream",
     "text": [
      "Training: 100%|██████████| 132/132 [01:37<00:00,  1.35it/s, loss=0.257]\n",
      "Validation: 100%|██████████| 4/4 [00:02<00:00,  1.66it/s, loss=0.3]  \n"
     ]
    },
    {
     "name": "stdout",
     "output_type": "stream",
     "text": [
      "Validation Dice Score\n",
      "Class 0: 0.9826, Class 1: 0.0000, Class 2: 0.0000, Class 3: 0.0000, Class 4: 0.2786, Class 5: 0.0000, Class 6: 0.2510, \n",
      "Validation F-beta Score\n",
      "Class 0: 0.9894, Class 1: 0.0000, Class 2: 0.0000, Class 3: 0.0000, Class 4: 0.3473, Class 5: 0.0000, Class 6: 0.1682, \n",
      "Validation mIoU Score\n",
      "Class 0: 0.9658, Class 1: 0.0000, Class 2: 0.0000, Class 3: 0.0000, Class 4: 0.1667, Class 5: 0.0000, Class 6: 0.1450, \n",
      "\n",
      "Overall Mean Dice Score: 0.1059\n",
      "Overall Mean F-beta Score: 0.1031\n",
      "Overall Mean IoU Score: 0.0623\n",
      "Final_score: 0.0705\n",
      "Training Loss: 0.2800, Validation Loss: 0.2844, Validation hybrid_score: 0.0705\n",
      "========================================================\n",
      "SUPER Best model saved. Loss:0.2844, Score:0.0705\n",
      "========================================================\n",
      "Epoch 4/4000\n"
     ]
    },
    {
     "name": "stderr",
     "output_type": "stream",
     "text": [
      "Training: 100%|██████████| 132/132 [01:36<00:00,  1.36it/s, loss=0.253]\n",
      "Validation: 100%|██████████| 4/4 [00:02<00:00,  1.48it/s, loss=0.265]\n"
     ]
    },
    {
     "name": "stdout",
     "output_type": "stream",
     "text": [
      "Validation Dice Score\n",
      "Class 0: 0.9810, Class 1: 0.0005, Class 2: 0.0000, Class 3: 0.0909, Class 4: 0.3670, Class 5: 0.0485, Class 6: 0.4641, \n",
      "Validation F-beta Score\n",
      "Class 0: 0.9866, Class 1: 0.0003, Class 2: 0.0000, Class 3: 0.0669, Class 4: 0.4220, Class 5: 0.0283, Class 6: 0.3605, \n",
      "Validation mIoU Score\n",
      "Class 0: 0.9628, Class 1: 0.0003, Class 2: 0.0000, Class 3: 0.0482, Class 4: 0.2273, Class 5: 0.0251, Class 6: 0.3097, \n",
      "\n",
      "Overall Mean Dice Score: 0.1942\n",
      "Overall Mean F-beta Score: 0.1756\n",
      "Overall Mean IoU Score: 0.1221\n",
      "Final_score: 0.1328\n",
      "Training Loss: 0.2641, Validation Loss: 0.2796, Validation hybrid_score: 0.1328\n",
      "========================================================\n",
      "SUPER Best model saved. Loss:0.2796, Score:0.1328\n",
      "========================================================\n",
      "Epoch 5/4000\n"
     ]
    },
    {
     "name": "stderr",
     "output_type": "stream",
     "text": [
      "Training: 100%|██████████| 132/132 [01:39<00:00,  1.32it/s, loss=0.242]\n",
      "Validation: 100%|██████████| 4/4 [00:02<00:00,  1.68it/s, loss=0.246]\n"
     ]
    },
    {
     "name": "stdout",
     "output_type": "stream",
     "text": [
      "Validation Dice Score\n",
      "Class 0: 0.9830, Class 1: 0.0003, Class 2: 0.0000, Class 3: 0.1727, Class 4: 0.4746, Class 5: 0.1431, Class 6: 0.5363, \n",
      "Validation F-beta Score\n",
      "Class 0: 0.9835, Class 1: 0.0001, Class 2: 0.0000, Class 3: 0.1488, Class 4: 0.5777, Class 5: 0.1021, Class 6: 0.4626, \n",
      "Validation mIoU Score\n",
      "Class 0: 0.9665, Class 1: 0.0001, Class 2: 0.0000, Class 3: 0.0968, Class 4: 0.3115, Class 5: 0.0774, Class 6: 0.4077, \n",
      "\n",
      "Overall Mean Dice Score: 0.2654\n",
      "Overall Mean F-beta Score: 0.2583\n",
      "Overall Mean IoU Score: 0.1787\n",
      "Final_score: 0.1946\n",
      "Training Loss: 0.2465, Validation Loss: 0.2607, Validation hybrid_score: 0.1946\n",
      "========================================================\n",
      "SUPER Best model saved. Loss:0.2607, Score:0.1946\n",
      "========================================================\n",
      "Epoch 6/4000\n"
     ]
    },
    {
     "name": "stderr",
     "output_type": "stream",
     "text": [
      "Training: 100%|██████████| 132/132 [02:11<00:00,  1.01it/s, loss=0.227]\n",
      "Validation: 100%|██████████| 4/4 [00:03<00:00,  1.09it/s, loss=0.24] \n"
     ]
    },
    {
     "name": "stdout",
     "output_type": "stream",
     "text": [
      "Validation Dice Score\n",
      "Class 0: 0.9854, Class 1: 0.0104, Class 2: 0.0000, Class 3: 0.2470, Class 4: 0.5220, Class 5: 0.0862, Class 6: 0.7677, \n",
      "Validation F-beta Score\n",
      "Class 0: 0.9887, Class 1: 0.0147, Class 2: 0.0000, Class 3: 0.2545, Class 4: 0.5703, Class 5: 0.0589, Class 6: 0.6946, \n",
      "Validation mIoU Score\n",
      "Class 0: 0.9711, Class 1: 0.0053, Class 2: 0.0000, Class 3: 0.1419, Class 4: 0.3569, Class 5: 0.0456, Class 6: 0.6271, \n",
      "\n",
      "Overall Mean Dice Score: 0.3267\n",
      "Overall Mean F-beta Score: 0.3186\n",
      "Overall Mean IoU Score: 0.2354\n",
      "Final_score: 0.2520\n",
      "Training Loss: 0.2332, Validation Loss: 0.2409, Validation hybrid_score: 0.2520\n",
      "========================================================\n",
      "SUPER Best model saved. Loss:0.2409, Score:0.2520\n",
      "========================================================\n",
      "Epoch 7/4000\n"
     ]
    },
    {
     "name": "stderr",
     "output_type": "stream",
     "text": [
      "Training: 100%|██████████| 132/132 [02:05<00:00,  1.05it/s, loss=0.206]\n",
      "Validation: 100%|██████████| 4/4 [00:04<00:00,  1.08s/it, loss=0.226]\n"
     ]
    },
    {
     "name": "stdout",
     "output_type": "stream",
     "text": [
      "Validation Dice Score\n",
      "Class 0: 0.9863, Class 1: 0.0163, Class 2: 0.0001, Class 3: 0.1757, Class 4: 0.6344, Class 5: 0.2464, Class 6: 0.8011, \n",
      "Validation F-beta Score\n",
      "Class 0: 0.9878, Class 1: 0.0167, Class 2: 0.0000, Class 3: 0.2119, Class 4: 0.6860, Class 5: 0.1931, Class 6: 0.7805, \n",
      "Validation mIoU Score\n",
      "Class 0: 0.9730, Class 1: 0.0083, Class 2: 0.0000, Class 3: 0.0970, Class 4: 0.4658, Class 5: 0.1409, Class 6: 0.6688, \n",
      "\n",
      "Overall Mean Dice Score: 0.3748\n",
      "Overall Mean F-beta Score: 0.3777\n",
      "Overall Mean IoU Score: 0.2762\n",
      "Final_score: 0.2965\n",
      "Training Loss: 0.2249, Validation Loss: 0.2324, Validation hybrid_score: 0.2965\n",
      "========================================================\n",
      "SUPER Best model saved. Loss:0.2324, Score:0.2965\n",
      "========================================================\n",
      "Epoch 8/4000\n"
     ]
    },
    {
     "name": "stderr",
     "output_type": "stream",
     "text": [
      "Training: 100%|██████████| 132/132 [01:43<00:00,  1.28it/s, loss=0.224]\n",
      "Validation: 100%|██████████| 4/4 [00:02<00:00,  1.56it/s, loss=0.239]\n"
     ]
    },
    {
     "name": "stdout",
     "output_type": "stream",
     "text": [
      "Validation Dice Score\n",
      "Class 0: 0.9816, Class 1: 0.0203, Class 2: 0.0036, Class 3: 0.1687, Class 4: 0.5132, Class 5: 0.2490, Class 6: 0.7876, \n",
      "Validation F-beta Score\n",
      "Class 0: 0.9797, Class 1: 0.0197, Class 2: 0.0019, Class 3: 0.2399, Class 4: 0.6910, Class 5: 0.2012, Class 6: 0.7252, \n",
      "Validation mIoU Score\n",
      "Class 0: 0.9638, Class 1: 0.0104, Class 2: 0.0018, Class 3: 0.0937, Class 4: 0.3523, Class 5: 0.1435, Class 6: 0.6570, \n",
      "\n",
      "Overall Mean Dice Score: 0.3478\n",
      "Overall Mean F-beta Score: 0.3754\n",
      "Overall Mean IoU Score: 0.2514\n",
      "Final_score: 0.2762\n",
      "Training Loss: 0.2185, Validation Loss: 0.2533, Validation hybrid_score: 0.2762\n",
      "Epoch 9/4000\n"
     ]
    },
    {
     "name": "stderr",
     "output_type": "stream",
     "text": [
      "Training: 100%|██████████| 132/132 [03:25<00:00,  1.56s/it, loss=0.21] \n",
      "Validation: 100%|██████████| 4/4 [00:04<00:00,  1.02s/it, loss=0.274]\n"
     ]
    },
    {
     "name": "stdout",
     "output_type": "stream",
     "text": [
      "Validation Dice Score\n",
      "Class 0: 0.9836, Class 1: 0.0478, Class 2: 0.0030, Class 3: 0.2756, Class 4: 0.6150, Class 5: 0.2089, Class 6: 0.7707, \n",
      "Validation F-beta Score\n",
      "Class 0: 0.9851, Class 1: 0.0551, Class 2: 0.0016, Class 3: 0.2809, Class 4: 0.6812, Class 5: 0.1754, Class 6: 0.6986, \n",
      "Validation mIoU Score\n",
      "Class 0: 0.9678, Class 1: 0.0251, Class 2: 0.0015, Class 3: 0.1605, Class 4: 0.4460, Class 5: 0.1200, Class 6: 0.6333, \n",
      "\n",
      "Overall Mean Dice Score: 0.3836\n",
      "Overall Mean F-beta Score: 0.3782\n",
      "Overall Mean IoU Score: 0.2770\n",
      "Final_score: 0.2972\n",
      "Training Loss: 0.2165, Validation Loss: 0.2394, Validation hybrid_score: 0.2972\n",
      "Epoch 10/4000\n"
     ]
    },
    {
     "name": "stderr",
     "output_type": "stream",
     "text": [
      "Training: 100%|██████████| 132/132 [02:02<00:00,  1.08it/s, loss=0.204]\n",
      "Validation: 100%|██████████| 4/4 [00:02<00:00,  1.77it/s, loss=0.25] \n"
     ]
    },
    {
     "name": "stdout",
     "output_type": "stream",
     "text": [
      "Validation Dice Score\n",
      "Class 0: 0.9833, Class 1: 0.0898, Class 2: 0.0063, Class 3: 0.2429, Class 4: 0.6152, Class 5: 0.1485, Class 6: 0.7985, \n",
      "Validation F-beta Score\n",
      "Class 0: 0.9856, Class 1: 0.1252, Class 2: 0.0034, Class 3: 0.2347, Class 4: 0.7083, Class 5: 0.1002, Class 6: 0.7579, \n",
      "Validation mIoU Score\n",
      "Class 0: 0.9672, Class 1: 0.0473, Class 2: 0.0032, Class 3: 0.1391, Class 4: 0.4464, Class 5: 0.0805, Class 6: 0.6681, \n",
      "\n",
      "Overall Mean Dice Score: 0.3790\n",
      "Overall Mean F-beta Score: 0.3853\n",
      "Overall Mean IoU Score: 0.2763\n",
      "Final_score: 0.2981\n",
      "Training Loss: 0.2130, Validation Loss: 0.2391, Validation hybrid_score: 0.2981\n",
      "Epoch 11/4000\n"
     ]
    },
    {
     "name": "stderr",
     "output_type": "stream",
     "text": [
      "Training: 100%|██████████| 132/132 [01:33<00:00,  1.41it/s, loss=0.203]\n",
      "Validation: 100%|██████████| 4/4 [00:02<00:00,  1.34it/s, loss=0.206]\n"
     ]
    },
    {
     "name": "stdout",
     "output_type": "stream",
     "text": [
      "Validation Dice Score\n",
      "Class 0: 0.9853, Class 1: 0.0937, Class 2: 0.0080, Class 3: 0.1800, Class 4: 0.5638, Class 5: 0.2464, Class 6: 0.8300, \n",
      "Validation F-beta Score\n",
      "Class 0: 0.9855, Class 1: 0.1110, Class 2: 0.0048, Class 3: 0.2043, Class 4: 0.6950, Class 5: 0.1765, Class 6: 0.7489, \n",
      "Validation mIoU Score\n",
      "Class 0: 0.9710, Class 1: 0.0497, Class 2: 0.0040, Class 3: 0.1002, Class 4: 0.3985, Class 5: 0.1425, Class 6: 0.7108, \n",
      "\n",
      "Overall Mean Dice Score: 0.3828\n",
      "Overall Mean F-beta Score: 0.3871\n",
      "Overall Mean IoU Score: 0.2803\n",
      "Final_score: 0.3017\n",
      "Training Loss: 0.2109, Validation Loss: 0.2283, Validation hybrid_score: 0.3017\n",
      "========================================================\n",
      "SUPER Best model saved. Loss:0.2283, Score:0.3017\n",
      "========================================================\n",
      "Epoch 12/4000\n"
     ]
    },
    {
     "name": "stderr",
     "output_type": "stream",
     "text": [
      "Training: 100%|██████████| 132/132 [01:33<00:00,  1.41it/s, loss=0.192]\n",
      "Validation: 100%|██████████| 4/4 [00:02<00:00,  1.80it/s, loss=0.241]\n"
     ]
    },
    {
     "name": "stdout",
     "output_type": "stream",
     "text": [
      "Validation Dice Score\n",
      "Class 0: 0.9846, Class 1: 0.3342, Class 2: 0.0252, Class 3: 0.2926, Class 4: 0.5273, Class 5: 0.2321, Class 6: 0.8456, \n",
      "Validation F-beta Score\n",
      "Class 0: 0.9821, Class 1: 0.4206, Class 2: 0.0157, Class 3: 0.3681, Class 4: 0.7196, Class 5: 0.1730, Class 6: 0.8574, \n",
      "Validation mIoU Score\n",
      "Class 0: 0.9697, Class 1: 0.2022, Class 2: 0.0128, Class 3: 0.1738, Class 4: 0.3612, Class 5: 0.1327, Class 6: 0.7358, \n",
      "\n",
      "Overall Mean Dice Score: 0.4463\n",
      "Overall Mean F-beta Score: 0.5077\n",
      "Overall Mean IoU Score: 0.3212\n",
      "Final_score: 0.3585\n",
      "Training Loss: 0.2066, Validation Loss: 0.2360, Validation hybrid_score: 0.3585\n",
      "Epoch 13/4000\n"
     ]
    },
    {
     "name": "stderr",
     "output_type": "stream",
     "text": [
      "Training: 100%|██████████| 132/132 [01:36<00:00,  1.37it/s, loss=0.19] \n",
      "Validation: 100%|██████████| 4/4 [00:02<00:00,  1.64it/s, loss=0.218]\n"
     ]
    },
    {
     "name": "stdout",
     "output_type": "stream",
     "text": [
      "Validation Dice Score\n",
      "Class 0: 0.9861, Class 1: 0.2730, Class 2: 0.0483, Class 3: 0.2775, Class 4: 0.5058, Class 5: 0.1921, Class 6: 0.8434, \n",
      "Validation F-beta Score\n",
      "Class 0: 0.9877, Class 1: 0.3804, Class 2: 0.0329, Class 3: 0.3420, Class 4: 0.6052, Class 5: 0.1317, Class 6: 0.8125, \n",
      "Validation mIoU Score\n",
      "Class 0: 0.9726, Class 1: 0.1658, Class 2: 0.0250, Class 3: 0.1619, Class 4: 0.3484, Class 5: 0.1074, Class 6: 0.7293, \n",
      "\n",
      "Overall Mean Dice Score: 0.4184\n",
      "Overall Mean F-beta Score: 0.4543\n",
      "Overall Mean IoU Score: 0.3026\n",
      "Final_score: 0.3329\n",
      "Training Loss: 0.2034, Validation Loss: 0.2201, Validation hybrid_score: 0.3329\n",
      "========================================================\n",
      "SUPER Best model saved. Loss:0.2201, Score:0.3329\n",
      "========================================================\n",
      "Epoch 14/4000\n"
     ]
    },
    {
     "name": "stderr",
     "output_type": "stream",
     "text": [
      "Training: 100%|██████████| 132/132 [01:33<00:00,  1.41it/s, loss=0.212]\n",
      "Validation: 100%|██████████| 4/4 [00:02<00:00,  1.38it/s, loss=0.226]\n"
     ]
    },
    {
     "name": "stdout",
     "output_type": "stream",
     "text": [
      "Validation Dice Score\n",
      "Class 0: 0.9842, Class 1: 0.4847, Class 2: 0.0420, Class 3: 0.2963, Class 4: 0.6741, Class 5: 0.2093, Class 6: 0.8671, \n",
      "Validation F-beta Score\n",
      "Class 0: 0.9862, Class 1: 0.5228, Class 2: 0.0282, Class 3: 0.3574, Class 4: 0.7279, Class 5: 0.1577, Class 6: 0.8474, \n",
      "Validation mIoU Score\n",
      "Class 0: 0.9689, Class 1: 0.3205, Class 2: 0.0217, Class 3: 0.1741, Class 4: 0.5090, Class 5: 0.1182, Class 6: 0.7657, \n",
      "\n",
      "Overall Mean Dice Score: 0.5063\n",
      "Overall Mean F-beta Score: 0.5226\n",
      "Overall Mean IoU Score: 0.3775\n",
      "Final_score: 0.4065\n",
      "Training Loss: 0.2019, Validation Loss: 0.2270, Validation hybrid_score: 0.4065\n",
      "Epoch 15/4000\n"
     ]
    },
    {
     "name": "stderr",
     "output_type": "stream",
     "text": [
      "Training: 100%|██████████| 132/132 [01:44<00:00,  1.27it/s, loss=0.188]\n",
      "Validation: 100%|██████████| 4/4 [00:02<00:00,  1.48it/s, loss=0.227]\n"
     ]
    },
    {
     "name": "stdout",
     "output_type": "stream",
     "text": [
      "Validation Dice Score\n",
      "Class 0: 0.9836, Class 1: 0.4625, Class 2: 0.0671, Class 3: 0.2183, Class 4: 0.6254, Class 5: 0.3039, Class 6: 0.8565, \n",
      "Validation F-beta Score\n",
      "Class 0: 0.9808, Class 1: 0.5436, Class 2: 0.0460, Class 3: 0.2464, Class 4: 0.7518, Class 5: 0.2903, Class 6: 0.8194, \n",
      "Validation mIoU Score\n",
      "Class 0: 0.9678, Class 1: 0.3032, Class 2: 0.0352, Class 3: 0.1245, Class 4: 0.4557, Class 5: 0.1825, Class 6: 0.7502, \n",
      "\n",
      "Overall Mean Dice Score: 0.4933\n",
      "Overall Mean F-beta Score: 0.5303\n",
      "Overall Mean IoU Score: 0.3632\n",
      "Final_score: 0.3966\n",
      "Training Loss: 0.1991, Validation Loss: 0.2282, Validation hybrid_score: 0.3966\n",
      "Epoch 16/4000\n"
     ]
    },
    {
     "name": "stderr",
     "output_type": "stream",
     "text": [
      "Training: 100%|██████████| 132/132 [01:33<00:00,  1.41it/s, loss=0.197]\n",
      "Validation: 100%|██████████| 4/4 [00:02<00:00,  1.73it/s, loss=0.239]\n"
     ]
    },
    {
     "name": "stdout",
     "output_type": "stream",
     "text": [
      "Validation Dice Score\n",
      "Class 0: 0.9847, Class 1: 0.4331, Class 2: 0.0370, Class 3: 0.2482, Class 4: 0.6702, Class 5: 0.3607, Class 6: 0.8713, \n",
      "Validation F-beta Score\n",
      "Class 0: 0.9845, Class 1: 0.5382, Class 2: 0.0240, Class 3: 0.2480, Class 4: 0.7794, Class 5: 0.3023, Class 6: 0.8858, \n",
      "Validation mIoU Score\n",
      "Class 0: 0.9698, Class 1: 0.2882, Class 2: 0.0193, Class 3: 0.1435, Class 4: 0.5055, Class 5: 0.2238, Class 6: 0.7721, \n",
      "\n",
      "Overall Mean Dice Score: 0.5167\n",
      "Overall Mean F-beta Score: 0.5507\n",
      "Overall Mean IoU Score: 0.3866\n",
      "Final_score: 0.4194\n",
      "Training Loss: 0.1993, Validation Loss: 0.2195, Validation hybrid_score: 0.4194\n",
      "========================================================\n",
      "SUPER Best model saved. Loss:0.2195, Score:0.4194\n",
      "========================================================\n",
      "Epoch 17/4000\n"
     ]
    },
    {
     "name": "stderr",
     "output_type": "stream",
     "text": [
      "Training: 100%|██████████| 132/132 [01:31<00:00,  1.44it/s, loss=0.185]\n",
      "Validation: 100%|██████████| 4/4 [00:02<00:00,  1.69it/s, loss=0.221]\n"
     ]
    },
    {
     "name": "stdout",
     "output_type": "stream",
     "text": [
      "Validation Dice Score\n",
      "Class 0: 0.9861, Class 1: 0.5436, Class 2: 0.0568, Class 3: 0.3537, Class 4: 0.6551, Class 5: 0.3494, Class 6: 0.8619, \n",
      "Validation F-beta Score\n",
      "Class 0: 0.9843, Class 1: 0.5899, Class 2: 0.0364, Class 3: 0.4024, Class 4: 0.7692, Class 5: 0.3444, Class 6: 0.8772, \n",
      "Validation mIoU Score\n",
      "Class 0: 0.9725, Class 1: 0.3743, Class 2: 0.0296, Class 3: 0.2160, Class 4: 0.4910, Class 5: 0.2136, Class 6: 0.7575, \n",
      "\n",
      "Overall Mean Dice Score: 0.5527\n",
      "Overall Mean F-beta Score: 0.5966\n",
      "Overall Mean IoU Score: 0.4105\n",
      "Final_score: 0.4477\n",
      "Training Loss: 0.1981, Validation Loss: 0.2147, Validation hybrid_score: 0.4477\n",
      "========================================================\n",
      "SUPER Best model saved. Loss:0.2147, Score:0.4477\n",
      "========================================================\n",
      "Epoch 18/4000\n"
     ]
    },
    {
     "name": "stderr",
     "output_type": "stream",
     "text": [
      "Training: 100%|██████████| 132/132 [01:32<00:00,  1.43it/s, loss=0.199]\n",
      "Validation: 100%|██████████| 4/4 [00:02<00:00,  1.78it/s, loss=0.207]\n"
     ]
    },
    {
     "name": "stdout",
     "output_type": "stream",
     "text": [
      "Validation Dice Score\n",
      "Class 0: 0.9872, Class 1: 0.5310, Class 2: 0.0779, Class 3: 0.2721, Class 4: 0.6221, Class 5: 0.3087, Class 6: 0.8792, \n",
      "Validation F-beta Score\n",
      "Class 0: 0.9873, Class 1: 0.5752, Class 2: 0.0502, Class 3: 0.3178, Class 4: 0.7075, Class 5: 0.2545, Class 6: 0.8714, \n",
      "Validation mIoU Score\n",
      "Class 0: 0.9747, Class 1: 0.3635, Class 2: 0.0407, Class 3: 0.1585, Class 4: 0.4548, Class 5: 0.1834, Class 6: 0.7849, \n",
      "\n",
      "Overall Mean Dice Score: 0.5226\n",
      "Overall Mean F-beta Score: 0.5453\n",
      "Overall Mean IoU Score: 0.3890\n",
      "Final_score: 0.4203\n",
      "Training Loss: 0.1961, Validation Loss: 0.2074, Validation hybrid_score: 0.4203\n",
      "Epoch 19/4000\n"
     ]
    },
    {
     "name": "stderr",
     "output_type": "stream",
     "text": [
      "Training: 100%|██████████| 132/132 [01:32<00:00,  1.42it/s, loss=0.187]\n",
      "Validation: 100%|██████████| 4/4 [00:02<00:00,  1.70it/s, loss=0.237]\n"
     ]
    },
    {
     "name": "stdout",
     "output_type": "stream",
     "text": [
      "Validation Dice Score\n",
      "Class 0: 0.9839, Class 1: 0.5469, Class 2: 0.0734, Class 3: 0.3242, Class 4: 0.6631, Class 5: 0.2627, Class 6: 0.7536, \n",
      "Validation F-beta Score\n",
      "Class 0: 0.9841, Class 1: 0.6907, Class 2: 0.0453, Class 3: 0.4298, Class 4: 0.6903, Class 5: 0.2287, Class 6: 0.7832, \n",
      "Validation mIoU Score\n",
      "Class 0: 0.9684, Class 1: 0.3793, Class 2: 0.0386, Class 3: 0.1941, Class 4: 0.5040, Class 5: 0.1521, Class 6: 0.6307, \n",
      "\n",
      "Overall Mean Dice Score: 0.5101\n",
      "Overall Mean F-beta Score: 0.5645\n",
      "Overall Mean IoU Score: 0.3720\n",
      "Final_score: 0.4105\n",
      "Training Loss: 0.1945, Validation Loss: 0.2258, Validation hybrid_score: 0.4105\n",
      "Epoch 20/4000\n"
     ]
    },
    {
     "name": "stderr",
     "output_type": "stream",
     "text": [
      "Training: 100%|██████████| 132/132 [01:48<00:00,  1.21it/s, loss=0.187]\n",
      "Validation: 100%|██████████| 4/4 [00:02<00:00,  1.75it/s, loss=0.211]\n"
     ]
    },
    {
     "name": "stdout",
     "output_type": "stream",
     "text": [
      "Validation Dice Score\n",
      "Class 0: 0.9853, Class 1: 0.5799, Class 2: 0.0507, Class 3: 0.2813, Class 4: 0.6938, Class 5: 0.3264, Class 6: 0.8772, \n",
      "Validation F-beta Score\n",
      "Class 0: 0.9845, Class 1: 0.6464, Class 2: 0.0330, Class 3: 0.3419, Class 4: 0.7301, Class 5: 0.2895, Class 6: 0.8723, \n",
      "Validation mIoU Score\n",
      "Class 0: 0.9710, Class 1: 0.4096, Class 2: 0.0271, Class 3: 0.1682, Class 4: 0.5316, Class 5: 0.1982, Class 6: 0.7826, \n",
      "\n",
      "Overall Mean Dice Score: 0.5517\n",
      "Overall Mean F-beta Score: 0.5761\n",
      "Overall Mean IoU Score: 0.4181\n",
      "Final_score: 0.4497\n",
      "Training Loss: 0.1937, Validation Loss: 0.2161, Validation hybrid_score: 0.4497\n",
      "Epoch 21/4000\n"
     ]
    },
    {
     "name": "stderr",
     "output_type": "stream",
     "text": [
      "Training: 100%|██████████| 132/132 [01:34<00:00,  1.39it/s, loss=0.185]\n",
      "Validation: 100%|██████████| 4/4 [00:02<00:00,  1.77it/s, loss=0.216]\n"
     ]
    },
    {
     "name": "stdout",
     "output_type": "stream",
     "text": [
      "Validation Dice Score\n",
      "Class 0: 0.9848, Class 1: 0.5869, Class 2: 0.0284, Class 3: 0.3787, Class 4: 0.6834, Class 5: 0.3423, Class 6: 0.8466, \n",
      "Validation F-beta Score\n",
      "Class 0: 0.9870, Class 1: 0.6871, Class 2: 0.0186, Class 3: 0.4053, Class 4: 0.6920, Class 5: 0.2698, Class 6: 0.8800, \n",
      "Validation mIoU Score\n",
      "Class 0: 0.9700, Class 1: 0.4256, Class 2: 0.0146, Class 3: 0.2354, Class 4: 0.5261, Class 5: 0.2107, Class 6: 0.7362, \n",
      "\n",
      "Overall Mean Dice Score: 0.5676\n",
      "Overall Mean F-beta Score: 0.5868\n",
      "Overall Mean IoU Score: 0.4268\n",
      "Final_score: 0.4588\n",
      "Training Loss: 0.1937, Validation Loss: 0.2128, Validation hybrid_score: 0.4588\n",
      "========================================================\n",
      "SUPER Best model saved. Loss:0.2128, Score:0.4588\n",
      "========================================================\n",
      "Epoch 22/4000\n"
     ]
    },
    {
     "name": "stderr",
     "output_type": "stream",
     "text": [
      "Training: 100%|██████████| 132/132 [01:33<00:00,  1.41it/s, loss=0.184]\n",
      "Validation: 100%|██████████| 4/4 [00:02<00:00,  1.70it/s, loss=0.22] \n"
     ]
    },
    {
     "name": "stdout",
     "output_type": "stream",
     "text": [
      "Validation Dice Score\n",
      "Class 0: 0.9845, Class 1: 0.6172, Class 2: 0.0984, Class 3: 0.3252, Class 4: 0.5046, Class 5: 0.2233, Class 6: 0.8876, \n",
      "Validation F-beta Score\n",
      "Class 0: 0.9809, Class 1: 0.6454, Class 2: 0.0740, Class 3: 0.3850, Class 4: 0.6888, Class 5: 0.2563, Class 6: 0.8958, \n",
      "Validation mIoU Score\n",
      "Class 0: 0.9694, Class 1: 0.4528, Class 2: 0.0520, Class 3: 0.1959, Class 4: 0.3416, Class 5: 0.1287, Class 6: 0.7986, \n",
      "\n",
      "Overall Mean Dice Score: 0.5116\n",
      "Overall Mean F-beta Score: 0.5743\n",
      "Overall Mean IoU Score: 0.3835\n",
      "Final_score: 0.4217\n",
      "Training Loss: 0.1927, Validation Loss: 0.2199, Validation hybrid_score: 0.4217\n",
      "Epoch 23/4000\n"
     ]
    },
    {
     "name": "stderr",
     "output_type": "stream",
     "text": [
      "Training: 100%|██████████| 132/132 [01:32<00:00,  1.43it/s, loss=0.177]\n",
      "Validation: 100%|██████████| 4/4 [00:02<00:00,  1.79it/s, loss=0.207]\n"
     ]
    },
    {
     "name": "stdout",
     "output_type": "stream",
     "text": [
      "Validation Dice Score\n",
      "Class 0: 0.9857, Class 1: 0.5655, Class 2: 0.0297, Class 3: 0.3158, Class 4: 0.6363, Class 5: 0.3860, Class 6: 0.8755, \n",
      "Validation F-beta Score\n",
      "Class 0: 0.9825, Class 1: 0.5698, Class 2: 0.0203, Class 3: 0.3581, Class 4: 0.7541, Class 5: 0.4136, Class 6: 0.8530, \n",
      "Validation mIoU Score\n",
      "Class 0: 0.9718, Class 1: 0.4015, Class 2: 0.0153, Class 3: 0.1917, Class 4: 0.4676, Class 5: 0.2411, Class 6: 0.7792, \n",
      "\n",
      "Overall Mean Dice Score: 0.5558\n",
      "Overall Mean F-beta Score: 0.5897\n",
      "Overall Mean IoU Score: 0.4162\n",
      "Final_score: 0.4509\n",
      "Training Loss: 0.1913, Validation Loss: 0.2113, Validation hybrid_score: 0.4509\n",
      "Epoch 24/4000\n"
     ]
    },
    {
     "name": "stderr",
     "output_type": "stream",
     "text": [
      "Training: 100%|██████████| 132/132 [01:32<00:00,  1.43it/s, loss=0.172]\n",
      "Validation: 100%|██████████| 4/4 [00:02<00:00,  1.79it/s, loss=0.231]\n"
     ]
    },
    {
     "name": "stdout",
     "output_type": "stream",
     "text": [
      "Validation Dice Score\n",
      "Class 0: 0.9829, Class 1: 0.5024, Class 2: 0.0723, Class 3: 0.3651, Class 4: 0.6628, Class 5: 0.3879, Class 6: 0.7015, \n",
      "Validation F-beta Score\n",
      "Class 0: 0.9804, Class 1: 0.6115, Class 2: 0.0593, Class 3: 0.3925, Class 4: 0.7937, Class 5: 0.3603, Class 6: 0.6445, \n",
      "Validation mIoU Score\n",
      "Class 0: 0.9663, Class 1: 0.3383, Class 2: 0.0383, Class 3: 0.2239, Class 4: 0.4990, Class 5: 0.2468, Class 6: 0.5854, \n",
      "\n",
      "Overall Mean Dice Score: 0.5239\n",
      "Overall Mean F-beta Score: 0.5605\n",
      "Overall Mean IoU Score: 0.3787\n",
      "Final_score: 0.4150\n",
      "Training Loss: 0.1915, Validation Loss: 0.2219, Validation hybrid_score: 0.4150\n",
      "Epoch 25/4000\n"
     ]
    },
    {
     "name": "stderr",
     "output_type": "stream",
     "text": [
      "Training: 100%|██████████| 132/132 [01:32<00:00,  1.42it/s, loss=0.181]\n",
      "Validation: 100%|██████████| 4/4 [00:02<00:00,  1.83it/s, loss=0.212]\n"
     ]
    },
    {
     "name": "stdout",
     "output_type": "stream",
     "text": [
      "Validation Dice Score\n",
      "Class 0: 0.9842, Class 1: 0.5005, Class 2: 0.0451, Class 3: 0.2861, Class 4: 0.5863, Class 5: 0.3595, Class 6: 0.8469, \n",
      "Validation F-beta Score\n",
      "Class 0: 0.9828, Class 1: 0.6112, Class 2: 0.0347, Class 3: 0.3716, Class 4: 0.6490, Class 5: 0.3361, Class 6: 0.8283, \n",
      "Validation mIoU Score\n",
      "Class 0: 0.9690, Class 1: 0.3371, Class 2: 0.0235, Class 3: 0.1677, Class 4: 0.4321, Class 5: 0.2268, Class 6: 0.7362, \n",
      "\n",
      "Overall Mean Dice Score: 0.5159\n",
      "Overall Mean F-beta Score: 0.5592\n",
      "Overall Mean IoU Score: 0.3800\n",
      "Final_score: 0.4158\n",
      "Training Loss: 0.1912, Validation Loss: 0.2193, Validation hybrid_score: 0.4158\n",
      "Epoch 26/4000\n"
     ]
    },
    {
     "name": "stderr",
     "output_type": "stream",
     "text": [
      "Training: 100%|██████████| 132/132 [02:14<00:00,  1.02s/it, loss=0.192]\n",
      "Validation: 100%|██████████| 4/4 [00:03<00:00,  1.08it/s, loss=0.211]\n"
     ]
    },
    {
     "name": "stdout",
     "output_type": "stream",
     "text": [
      "Validation Dice Score\n",
      "Class 0: 0.9861, Class 1: 0.5521, Class 2: 0.0938, Class 3: 0.3612, Class 4: 0.6809, Class 5: 0.3459, Class 6: 0.8812, \n",
      "Validation F-beta Score\n",
      "Class 0: 0.9847, Class 1: 0.6315, Class 2: 0.0778, Class 3: 0.3654, Class 4: 0.7605, Class 5: 0.3497, Class 6: 0.8881, \n",
      "Validation mIoU Score\n",
      "Class 0: 0.9726, Class 1: 0.4012, Class 2: 0.0504, Class 3: 0.2231, Class 4: 0.5176, Class 5: 0.2151, Class 6: 0.7877, \n",
      "\n",
      "Overall Mean Dice Score: 0.5643\n",
      "Overall Mean F-beta Score: 0.5990\n",
      "Overall Mean IoU Score: 0.4290\n",
      "Final_score: 0.4630\n",
      "Training Loss: 0.1898, Validation Loss: 0.2114, Validation hybrid_score: 0.4630\n",
      "========================================================\n",
      "SUPER Best model saved. Loss:0.2114, Score:0.4630\n",
      "========================================================\n",
      "Epoch 27/4000\n"
     ]
    },
    {
     "name": "stderr",
     "output_type": "stream",
     "text": [
      "Training: 100%|██████████| 132/132 [02:01<00:00,  1.09it/s, loss=0.196]\n",
      "Validation: 100%|██████████| 4/4 [00:02<00:00,  1.40it/s, loss=0.203]\n"
     ]
    },
    {
     "name": "stdout",
     "output_type": "stream",
     "text": [
      "Validation Dice Score\n",
      "Class 0: 0.9837, Class 1: 0.5574, Class 2: 0.0802, Class 3: 0.3995, Class 4: 0.6751, Class 5: 0.3495, Class 6: 0.8304, \n",
      "Validation F-beta Score\n",
      "Class 0: 0.9799, Class 1: 0.6440, Class 2: 0.0629, Class 3: 0.4857, Class 4: 0.7434, Class 5: 0.3792, Class 6: 0.8565, \n",
      "Validation mIoU Score\n",
      "Class 0: 0.9680, Class 1: 0.3866, Class 2: 0.0455, Class 3: 0.2504, Class 4: 0.5114, Class 5: 0.2140, Class 6: 0.7112, \n",
      "\n",
      "Overall Mean Dice Score: 0.5624\n",
      "Overall Mean F-beta Score: 0.6218\n",
      "Overall Mean IoU Score: 0.4147\n",
      "Final_score: 0.4561\n",
      "Training Loss: 0.1897, Validation Loss: 0.2228, Validation hybrid_score: 0.4561\n",
      "Epoch 28/4000\n"
     ]
    },
    {
     "name": "stderr",
     "output_type": "stream",
     "text": [
      "Training: 100%|██████████| 132/132 [01:38<00:00,  1.33it/s, loss=0.172]\n",
      "Validation: 100%|██████████| 4/4 [00:02<00:00,  1.53it/s, loss=0.217]\n"
     ]
    },
    {
     "name": "stdout",
     "output_type": "stream",
     "text": [
      "Validation Dice Score\n",
      "Class 0: 0.9846, Class 1: 0.6449, Class 2: 0.0864, Class 3: 0.3416, Class 4: 0.5750, Class 5: 0.3186, Class 6: 0.8693, \n",
      "Validation F-beta Score\n",
      "Class 0: 0.9806, Class 1: 0.7981, Class 2: 0.0704, Class 3: 0.3421, Class 4: 0.7976, Class 5: 0.3438, Class 6: 0.8181, \n",
      "Validation mIoU Score\n",
      "Class 0: 0.9697, Class 1: 0.4848, Class 2: 0.0461, Class 3: 0.2071, Class 4: 0.4041, Class 5: 0.1902, Class 6: 0.7707, \n",
      "\n",
      "Overall Mean Dice Score: 0.5499\n",
      "Overall Mean F-beta Score: 0.6199\n",
      "Overall Mean IoU Score: 0.4114\n",
      "Final_score: 0.4531\n",
      "Training Loss: 0.1886, Validation Loss: 0.2144, Validation hybrid_score: 0.4531\n",
      "Epoch 29/4000\n"
     ]
    },
    {
     "name": "stderr",
     "output_type": "stream",
     "text": [
      "Training: 100%|██████████| 132/132 [02:15<00:00,  1.03s/it, loss=0.178]\n",
      "Validation: 100%|██████████| 4/4 [00:04<00:00,  1.02s/it, loss=0.217]\n"
     ]
    },
    {
     "name": "stdout",
     "output_type": "stream",
     "text": [
      "Validation Dice Score\n",
      "Class 0: 0.9872, Class 1: 0.5968, Class 2: 0.0705, Class 3: 0.3820, Class 4: 0.5785, Class 5: 0.3083, Class 6: 0.8899, \n",
      "Validation F-beta Score\n",
      "Class 0: 0.9857, Class 1: 0.7165, Class 2: 0.0524, Class 3: 0.3903, Class 4: 0.6780, Class 5: 0.3307, Class 6: 0.8980, \n",
      "Validation mIoU Score\n",
      "Class 0: 0.9748, Class 1: 0.4442, Class 2: 0.0367, Class 3: 0.2433, Class 4: 0.4445, Class 5: 0.1845, Class 6: 0.8025, \n",
      "\n",
      "Overall Mean Dice Score: 0.5511\n",
      "Overall Mean F-beta Score: 0.6027\n",
      "Overall Mean IoU Score: 0.4238\n",
      "Final_score: 0.4596\n",
      "Training Loss: 0.1888, Validation Loss: 0.2021, Validation hybrid_score: 0.4596\n",
      "Epoch 30/4000\n"
     ]
    },
    {
     "name": "stderr",
     "output_type": "stream",
     "text": [
      "Training: 100%|██████████| 132/132 [03:00<00:00,  1.37s/it, loss=0.186]\n",
      "Validation: 100%|██████████| 4/4 [00:03<00:00,  1.19it/s, loss=0.195]\n"
     ]
    },
    {
     "name": "stdout",
     "output_type": "stream",
     "text": [
      "Validation Dice Score\n",
      "Class 0: 0.9857, Class 1: 0.5717, Class 2: 0.0975, Class 3: 0.3372, Class 4: 0.5829, Class 5: 0.3944, Class 6: 0.8768, \n",
      "Validation F-beta Score\n",
      "Class 0: 0.9842, Class 1: 0.7291, Class 2: 0.0855, Class 3: 0.3787, Class 4: 0.6650, Class 5: 0.3595, Class 6: 0.8528, \n",
      "Validation mIoU Score\n",
      "Class 0: 0.9719, Class 1: 0.4057, Class 2: 0.0527, Class 3: 0.2108, Class 4: 0.4253, Class 5: 0.2491, Class 6: 0.7823, \n",
      "\n",
      "Overall Mean Dice Score: 0.5526\n",
      "Overall Mean F-beta Score: 0.5970\n",
      "Overall Mean IoU Score: 0.4146\n",
      "Final_score: 0.4511\n",
      "Training Loss: 0.1877, Validation Loss: 0.2093, Validation hybrid_score: 0.4511\n",
      "Epoch 31/4000\n"
     ]
    },
    {
     "name": "stderr",
     "output_type": "stream",
     "text": [
      "Training: 100%|██████████| 132/132 [01:45<00:00,  1.25it/s, loss=0.196]\n",
      "Validation: 100%|██████████| 4/4 [00:02<00:00,  1.60it/s, loss=0.196]\n"
     ]
    },
    {
     "name": "stdout",
     "output_type": "stream",
     "text": [
      "Validation Dice Score\n",
      "Class 0: 0.9851, Class 1: 0.6568, Class 2: 0.0416, Class 3: 0.3578, Class 4: 0.6019, Class 5: 0.3530, Class 6: 0.8480, \n",
      "Validation F-beta Score\n",
      "Class 0: 0.9814, Class 1: 0.7227, Class 2: 0.0358, Class 3: 0.5019, Class 4: 0.7507, Class 5: 0.3290, Class 6: 0.8426, \n",
      "Validation mIoU Score\n",
      "Class 0: 0.9707, Class 1: 0.4902, Class 2: 0.0220, Class 3: 0.2201, Class 4: 0.4367, Class 5: 0.2153, Class 6: 0.7371, \n",
      "\n",
      "Overall Mean Dice Score: 0.5635\n",
      "Overall Mean F-beta Score: 0.6294\n",
      "Overall Mean IoU Score: 0.4199\n",
      "Final_score: 0.4618\n",
      "Training Loss: 0.1879, Validation Loss: 0.2130, Validation hybrid_score: 0.4618\n",
      "Epoch 32/4000\n"
     ]
    },
    {
     "name": "stderr",
     "output_type": "stream",
     "text": [
      "Training: 100%|██████████| 132/132 [01:36<00:00,  1.36it/s, loss=0.176]\n",
      "Validation: 100%|██████████| 4/4 [00:02<00:00,  1.74it/s, loss=0.208]\n"
     ]
    },
    {
     "name": "stdout",
     "output_type": "stream",
     "text": [
      "Validation Dice Score\n",
      "Class 0: 0.9828, Class 1: 0.6101, Class 2: 0.0725, Class 3: 0.3467, Class 4: 0.6804, Class 5: 0.4403, Class 6: 0.7803, \n",
      "Validation F-beta Score\n",
      "Class 0: 0.9779, Class 1: 0.7198, Class 2: 0.0679, Class 3: 0.4432, Class 4: 0.8068, Class 5: 0.4394, Class 6: 0.7390, \n",
      "Validation mIoU Score\n",
      "Class 0: 0.9663, Class 1: 0.4406, Class 2: 0.0384, Class 3: 0.2111, Class 4: 0.5174, Class 5: 0.2831, Class 6: 0.6414, \n",
      "\n",
      "Overall Mean Dice Score: 0.5716\n",
      "Overall Mean F-beta Score: 0.6296\n",
      "Overall Mean IoU Score: 0.4187\n",
      "Final_score: 0.4609\n",
      "Training Loss: 0.1878, Validation Loss: 0.2207, Validation hybrid_score: 0.4609\n",
      "Epoch 33/4000\n"
     ]
    },
    {
     "name": "stderr",
     "output_type": "stream",
     "text": [
      "Training: 100%|██████████| 132/132 [01:31<00:00,  1.44it/s, loss=0.179]\n",
      "Validation: 100%|██████████| 4/4 [00:02<00:00,  1.73it/s, loss=0.21] \n"
     ]
    },
    {
     "name": "stdout",
     "output_type": "stream",
     "text": [
      "Validation Dice Score\n",
      "Class 0: 0.9838, Class 1: 0.5927, Class 2: 0.1820, Class 3: 0.4132, Class 4: 0.6722, Class 5: 0.3807, Class 6: 0.8444, \n",
      "Validation F-beta Score\n",
      "Class 0: 0.9806, Class 1: 0.7498, Class 2: 0.1665, Class 3: 0.5624, Class 4: 0.7528, Class 5: 0.3856, Class 6: 0.8474, \n",
      "Validation mIoU Score\n",
      "Class 0: 0.9681, Class 1: 0.4261, Class 2: 0.1007, Class 3: 0.2618, Class 4: 0.5079, Class 5: 0.2357, Class 6: 0.7321, \n",
      "\n",
      "Overall Mean Dice Score: 0.5807\n",
      "Overall Mean F-beta Score: 0.6596\n",
      "Overall Mean IoU Score: 0.4327\n",
      "Final_score: 0.4781\n",
      "Training Loss: 0.1857, Validation Loss: 0.2161, Validation hybrid_score: 0.4781\n",
      "Epoch 34/4000\n"
     ]
    },
    {
     "name": "stderr",
     "output_type": "stream",
     "text": [
      "Training: 100%|██████████| 132/132 [01:31<00:00,  1.44it/s, loss=0.172]\n",
      "Validation: 100%|██████████| 4/4 [00:02<00:00,  1.78it/s, loss=0.208]\n"
     ]
    },
    {
     "name": "stdout",
     "output_type": "stream",
     "text": [
      "Validation Dice Score\n",
      "Class 0: 0.9845, Class 1: 0.5864, Class 2: 0.0649, Class 3: 0.3829, Class 4: 0.6708, Class 5: 0.4308, Class 6: 0.8765, \n",
      "Validation F-beta Score\n",
      "Class 0: 0.9816, Class 1: 0.7481, Class 2: 0.0639, Class 3: 0.4411, Class 4: 0.7373, Class 5: 0.4458, Class 6: 0.9178, \n",
      "Validation mIoU Score\n",
      "Class 0: 0.9695, Class 1: 0.4204, Class 2: 0.0351, Class 3: 0.2384, Class 4: 0.5056, Class 5: 0.2788, Class 6: 0.7812, \n",
      "\n",
      "Overall Mean Dice Score: 0.5895\n",
      "Overall Mean F-beta Score: 0.6580\n",
      "Overall Mean IoU Score: 0.4449\n",
      "Final_score: 0.4875\n",
      "Training Loss: 0.1851, Validation Loss: 0.2119, Validation hybrid_score: 0.4875\n",
      "Epoch 35/4000\n"
     ]
    },
    {
     "name": "stderr",
     "output_type": "stream",
     "text": [
      "Training: 100%|██████████| 132/132 [01:31<00:00,  1.44it/s, loss=0.175]\n",
      "Validation: 100%|██████████| 4/4 [00:02<00:00,  1.73it/s, loss=0.2]  \n"
     ]
    },
    {
     "name": "stdout",
     "output_type": "stream",
     "text": [
      "Validation Dice Score\n",
      "Class 0: 0.9861, Class 1: 0.6891, Class 2: 0.0218, Class 3: 0.3569, Class 4: 0.6033, Class 5: 0.3858, Class 6: 0.7662, \n",
      "Validation F-beta Score\n",
      "Class 0: 0.9847, Class 1: 0.6947, Class 2: 0.0144, Class 3: 0.3974, Class 4: 0.7765, Class 5: 0.3665, Class 6: 0.6696, \n",
      "Validation mIoU Score\n",
      "Class 0: 0.9727, Class 1: 0.5325, Class 2: 0.0113, Class 3: 0.2172, Class 4: 0.4367, Class 5: 0.2484, Class 6: 0.6353, \n",
      "\n",
      "Overall Mean Dice Score: 0.5603\n",
      "Overall Mean F-beta Score: 0.5809\n",
      "Overall Mean IoU Score: 0.4140\n",
      "Final_score: 0.4474\n",
      "Training Loss: 0.1850, Validation Loss: 0.2117, Validation hybrid_score: 0.4474\n",
      "Epoch 36/4000\n"
     ]
    },
    {
     "name": "stderr",
     "output_type": "stream",
     "text": [
      "Training: 100%|██████████| 132/132 [01:31<00:00,  1.44it/s, loss=0.181]\n",
      "Validation: 100%|██████████| 4/4 [00:02<00:00,  1.79it/s, loss=0.216]\n"
     ]
    },
    {
     "name": "stdout",
     "output_type": "stream",
     "text": [
      "Validation Dice Score\n",
      "Class 0: 0.9832, Class 1: 0.6282, Class 2: 0.0747, Class 3: 0.3823, Class 4: 0.6964, Class 5: 0.3467, Class 6: 0.8791, \n",
      "Validation F-beta Score\n",
      "Class 0: 0.9802, Class 1: 0.6611, Class 2: 0.0925, Class 3: 0.4289, Class 4: 0.7799, Class 5: 0.3830, Class 6: 0.8713, \n",
      "Validation mIoU Score\n",
      "Class 0: 0.9670, Class 1: 0.4611, Class 2: 0.0398, Class 3: 0.2369, Class 4: 0.5345, Class 5: 0.2145, Class 6: 0.7867, \n",
      "\n",
      "Overall Mean Dice Score: 0.5866\n",
      "Overall Mean F-beta Score: 0.6248\n",
      "Overall Mean IoU Score: 0.4467\n",
      "Final_score: 0.4824\n",
      "Training Loss: 0.1858, Validation Loss: 0.2174, Validation hybrid_score: 0.4824\n",
      "Epoch 37/4000\n"
     ]
    },
    {
     "name": "stderr",
     "output_type": "stream",
     "text": [
      "Training: 100%|██████████| 132/132 [01:33<00:00,  1.41it/s, loss=0.174]\n",
      "Validation: 100%|██████████| 4/4 [00:02<00:00,  1.79it/s, loss=0.206]\n"
     ]
    },
    {
     "name": "stdout",
     "output_type": "stream",
     "text": [
      "Validation Dice Score\n",
      "Class 0: 0.9861, Class 1: 0.6543, Class 2: 0.0458, Class 3: 0.2423, Class 4: 0.6649, Class 5: 0.2896, Class 6: 0.8837, \n",
      "Validation F-beta Score\n",
      "Class 0: 0.9845, Class 1: 0.7297, Class 2: 0.0354, Class 3: 0.2505, Class 4: 0.7366, Class 5: 0.3283, Class 6: 0.8725, \n",
      "Validation mIoU Score\n",
      "Class 0: 0.9726, Class 1: 0.4889, Class 2: 0.0241, Class 3: 0.1437, Class 4: 0.5000, Class 5: 0.1736, Class 6: 0.7926, \n",
      "\n",
      "Overall Mean Dice Score: 0.5470\n",
      "Overall Mean F-beta Score: 0.5835\n",
      "Overall Mean IoU Score: 0.4198\n",
      "Final_score: 0.4525\n",
      "Training Loss: 0.1863, Validation Loss: 0.2045, Validation hybrid_score: 0.4525\n",
      "Epoch 38/4000\n"
     ]
    },
    {
     "name": "stderr",
     "output_type": "stream",
     "text": [
      "Training: 100%|██████████| 132/132 [01:31<00:00,  1.44it/s, loss=0.178]\n",
      "Validation: 100%|██████████| 4/4 [00:02<00:00,  1.79it/s, loss=0.228]\n"
     ]
    },
    {
     "name": "stdout",
     "output_type": "stream",
     "text": [
      "Validation Dice Score\n",
      "Class 0: 0.9847, Class 1: 0.5188, Class 2: 0.0624, Class 3: 0.4234, Class 4: 0.6925, Class 5: 0.4012, Class 6: 0.8215, \n",
      "Validation F-beta Score\n",
      "Class 0: 0.9830, Class 1: 0.7308, Class 2: 0.0681, Class 3: 0.4181, Class 4: 0.7836, Class 5: 0.3806, Class 6: 0.8314, \n",
      "Validation mIoU Score\n",
      "Class 0: 0.9700, Class 1: 0.3687, Class 2: 0.0326, Class 3: 0.2708, Class 4: 0.5312, Class 5: 0.2541, Class 6: 0.6980, \n",
      "\n",
      "Overall Mean Dice Score: 0.5715\n",
      "Overall Mean F-beta Score: 0.6289\n",
      "Overall Mean IoU Score: 0.4246\n",
      "Final_score: 0.4654\n",
      "Training Loss: 0.1859, Validation Loss: 0.2138, Validation hybrid_score: 0.4654\n",
      "Epoch 39/4000\n"
     ]
    },
    {
     "name": "stderr",
     "output_type": "stream",
     "text": [
      "Training: 100%|██████████| 132/132 [01:32<00:00,  1.43it/s, loss=0.183]\n",
      "Validation: 100%|██████████| 4/4 [00:02<00:00,  1.81it/s, loss=0.225]\n"
     ]
    },
    {
     "name": "stdout",
     "output_type": "stream",
     "text": [
      "Validation Dice Score\n",
      "Class 0: 0.9845, Class 1: 0.5938, Class 2: 0.1658, Class 3: 0.3352, Class 4: 0.6621, Class 5: 0.3377, Class 6: 0.8334, \n",
      "Validation F-beta Score\n",
      "Class 0: 0.9829, Class 1: 0.7329, Class 2: 0.1538, Class 3: 0.3913, Class 4: 0.7203, Class 5: 0.3093, Class 6: 0.8818, \n",
      "Validation mIoU Score\n",
      "Class 0: 0.9694, Class 1: 0.4258, Class 2: 0.0953, Class 3: 0.2036, Class 4: 0.5016, Class 5: 0.2086, Class 6: 0.7166, \n",
      "\n",
      "Overall Mean Dice Score: 0.5524\n",
      "Overall Mean F-beta Score: 0.6071\n",
      "Overall Mean IoU Score: 0.4113\n",
      "Final_score: 0.4504\n",
      "Training Loss: 0.1851, Validation Loss: 0.2154, Validation hybrid_score: 0.4504\n",
      "Epoch 40/4000\n"
     ]
    },
    {
     "name": "stderr",
     "output_type": "stream",
     "text": [
      "Training: 100%|██████████| 132/132 [01:32<00:00,  1.42it/s, loss=0.178]\n",
      "Validation: 100%|██████████| 4/4 [00:02<00:00,  1.68it/s, loss=0.216]\n"
     ]
    },
    {
     "name": "stdout",
     "output_type": "stream",
     "text": [
      "Validation Dice Score\n",
      "Class 0: 0.9845, Class 1: 0.6107, Class 2: 0.1863, Class 3: 0.3613, Class 4: 0.6440, Class 5: 0.3567, Class 6: 0.8677, \n",
      "Validation F-beta Score\n",
      "Class 0: 0.9796, Class 1: 0.7427, Class 2: 0.2028, Class 3: 0.4793, Class 4: 0.7943, Class 5: 0.3810, Class 6: 0.9043, \n",
      "Validation mIoU Score\n",
      "Class 0: 0.9694, Class 1: 0.4525, Class 2: 0.1031, Class 3: 0.2209, Class 4: 0.4767, Class 5: 0.2200, Class 6: 0.7667, \n",
      "\n",
      "Overall Mean Dice Score: 0.5681\n",
      "Overall Mean F-beta Score: 0.6603\n",
      "Overall Mean IoU Score: 0.4273\n",
      "Final_score: 0.4739\n",
      "Training Loss: 0.1845, Validation Loss: 0.2131, Validation hybrid_score: 0.4739\n",
      "Epoch 41/4000\n"
     ]
    },
    {
     "name": "stderr",
     "output_type": "stream",
     "text": [
      "Training: 100%|██████████| 132/132 [01:42<00:00,  1.29it/s, loss=0.177]\n",
      "Validation: 100%|██████████| 4/4 [00:02<00:00,  1.78it/s, loss=0.212]\n"
     ]
    },
    {
     "name": "stdout",
     "output_type": "stream",
     "text": [
      "Validation Dice Score\n",
      "Class 0: 0.9830, Class 1: 0.5984, Class 2: 0.0948, Class 3: 0.3527, Class 4: 0.7049, Class 5: 0.3653, Class 6: 0.8438, \n",
      "Validation F-beta Score\n",
      "Class 0: 0.9801, Class 1: 0.7053, Class 2: 0.0812, Class 3: 0.4106, Class 4: 0.7604, Class 5: 0.3808, Class 6: 0.7795, \n",
      "Validation mIoU Score\n",
      "Class 0: 0.9666, Class 1: 0.4369, Class 2: 0.0514, Class 3: 0.2159, Class 4: 0.5461, Class 5: 0.2262, Class 6: 0.7354, \n",
      "\n",
      "Overall Mean Dice Score: 0.5730\n",
      "Overall Mean F-beta Score: 0.6073\n",
      "Overall Mean IoU Score: 0.4321\n",
      "Final_score: 0.4671\n",
      "Training Loss: 0.1841, Validation Loss: 0.2162, Validation hybrid_score: 0.4671\n",
      "Epoch 42/4000\n"
     ]
    },
    {
     "name": "stderr",
     "output_type": "stream",
     "text": [
      "Training: 100%|██████████| 132/132 [01:31<00:00,  1.45it/s, loss=0.17] \n",
      "Validation: 100%|██████████| 4/4 [00:02<00:00,  1.83it/s, loss=0.204]\n"
     ]
    },
    {
     "name": "stdout",
     "output_type": "stream",
     "text": [
      "Validation Dice Score\n",
      "Class 0: 0.9875, Class 1: 0.7083, Class 2: 0.1260, Class 3: 0.3245, Class 4: 0.5397, Class 5: 0.4219, Class 6: 0.8816, \n",
      "Validation F-beta Score\n",
      "Class 0: 0.9862, Class 1: 0.7436, Class 2: 0.1109, Class 3: 0.4488, Class 4: 0.6452, Class 5: 0.3918, Class 6: 0.8705, \n",
      "Validation mIoU Score\n",
      "Class 0: 0.9754, Class 1: 0.5541, Class 2: 0.0674, Class 3: 0.1978, Class 4: 0.3839, Class 5: 0.2751, Class 6: 0.7913, \n",
      "\n",
      "Overall Mean Dice Score: 0.5752\n",
      "Overall Mean F-beta Score: 0.6200\n",
      "Overall Mean IoU Score: 0.4404\n",
      "Final_score: 0.4763\n",
      "Training Loss: 0.1827, Validation Loss: 0.2029, Validation hybrid_score: 0.4763\n",
      "========================================================\n",
      "SUPER Best model saved. Loss:0.2029, Score:0.4763\n",
      "========================================================\n",
      "Epoch 43/4000\n"
     ]
    },
    {
     "name": "stderr",
     "output_type": "stream",
     "text": [
      "Training: 100%|██████████| 132/132 [01:32<00:00,  1.43it/s, loss=0.189]\n",
      "Validation: 100%|██████████| 4/4 [00:02<00:00,  1.78it/s, loss=0.218]\n"
     ]
    },
    {
     "name": "stdout",
     "output_type": "stream",
     "text": [
      "Validation Dice Score\n",
      "Class 0: 0.9837, Class 1: 0.7190, Class 2: 0.0716, Class 3: 0.3674, Class 4: 0.6667, Class 5: 0.3851, Class 6: 0.8737, \n",
      "Validation F-beta Score\n",
      "Class 0: 0.9810, Class 1: 0.7866, Class 2: 0.0820, Class 3: 0.3792, Class 4: 0.7343, Class 5: 0.4063, Class 6: 0.8876, \n",
      "Validation mIoU Score\n",
      "Class 0: 0.9679, Class 1: 0.5662, Class 2: 0.0377, Class 3: 0.2338, Class 4: 0.5046, Class 5: 0.2402, Class 6: 0.7780, \n",
      "\n",
      "Overall Mean Dice Score: 0.6024\n",
      "Overall Mean F-beta Score: 0.6388\n",
      "Overall Mean IoU Score: 0.4645\n",
      "Final_score: 0.4994\n",
      "Training Loss: 0.1836, Validation Loss: 0.2136, Validation hybrid_score: 0.4994\n",
      "Epoch 44/4000\n"
     ]
    },
    {
     "name": "stderr",
     "output_type": "stream",
     "text": [
      "Training: 100%|██████████| 132/132 [01:30<00:00,  1.45it/s, loss=0.172]\n",
      "Validation: 100%|██████████| 4/4 [00:02<00:00,  1.70it/s, loss=0.196]\n"
     ]
    },
    {
     "name": "stdout",
     "output_type": "stream",
     "text": [
      "Validation Dice Score\n",
      "Class 0: 0.9860, Class 1: 0.6136, Class 2: 0.1109, Class 3: 0.3230, Class 4: 0.7125, Class 5: 0.3843, Class 6: 0.8599, \n",
      "Validation F-beta Score\n",
      "Class 0: 0.9839, Class 1: 0.6621, Class 2: 0.0875, Class 3: 0.3176, Class 4: 0.7845, Class 5: 0.3950, Class 6: 0.8316, \n",
      "Validation mIoU Score\n",
      "Class 0: 0.9725, Class 1: 0.4479, Class 2: 0.0602, Class 3: 0.1959, Class 4: 0.5541, Class 5: 0.2402, Class 6: 0.7561, \n",
      "\n",
      "Overall Mean Dice Score: 0.5787\n",
      "Overall Mean F-beta Score: 0.5982\n",
      "Overall Mean IoU Score: 0.4389\n",
      "Final_score: 0.4707\n",
      "Training Loss: 0.1833, Validation Loss: 0.2060, Validation hybrid_score: 0.4707\n",
      "Epoch 45/4000\n"
     ]
    },
    {
     "name": "stderr",
     "output_type": "stream",
     "text": [
      "Training: 100%|██████████| 132/132 [01:34<00:00,  1.40it/s, loss=0.193]\n",
      "Validation: 100%|██████████| 4/4 [00:02<00:00,  1.79it/s, loss=0.216]\n"
     ]
    },
    {
     "name": "stdout",
     "output_type": "stream",
     "text": [
      "Validation Dice Score\n",
      "Class 0: 0.9836, Class 1: 0.6699, Class 2: 0.0545, Class 3: 0.4252, Class 4: 0.6042, Class 5: 0.3636, Class 6: 0.8894, \n",
      "Validation F-beta Score\n",
      "Class 0: 0.9820, Class 1: 0.7955, Class 2: 0.0625, Class 3: 0.4098, Class 4: 0.7075, Class 5: 0.3369, Class 6: 0.8895, \n",
      "Validation mIoU Score\n",
      "Class 0: 0.9677, Class 1: 0.5074, Class 2: 0.0284, Class 3: 0.2716, Class 4: 0.4374, Class 5: 0.2266, Class 6: 0.8021, \n",
      "\n",
      "Overall Mean Dice Score: 0.5904\n",
      "Overall Mean F-beta Score: 0.6278\n",
      "Overall Mean IoU Score: 0.4490\n",
      "Final_score: 0.4848\n",
      "Training Loss: 0.1834, Validation Loss: 0.2191, Validation hybrid_score: 0.4848\n",
      "Epoch 46/4000\n"
     ]
    },
    {
     "name": "stderr",
     "output_type": "stream",
     "text": [
      "Training: 100%|██████████| 132/132 [01:32<00:00,  1.43it/s, loss=0.17] \n",
      "Validation: 100%|██████████| 4/4 [00:02<00:00,  1.74it/s, loss=0.2]  \n"
     ]
    },
    {
     "name": "stdout",
     "output_type": "stream",
     "text": [
      "Validation Dice Score\n",
      "Class 0: 0.9840, Class 1: 0.6030, Class 2: 0.1425, Class 3: 0.3549, Class 4: 0.6414, Class 5: 0.4935, Class 6: 0.8725, \n",
      "Validation F-beta Score\n",
      "Class 0: 0.9825, Class 1: 0.7289, Class 2: 0.1135, Class 3: 0.3928, Class 4: 0.6691, Class 5: 0.5339, Class 6: 0.8244, \n",
      "Validation mIoU Score\n",
      "Class 0: 0.9684, Class 1: 0.4359, Class 2: 0.0789, Class 3: 0.2178, Class 4: 0.4731, Class 5: 0.3319, Class 6: 0.7742, \n",
      "\n",
      "Overall Mean Dice Score: 0.5930\n",
      "Overall Mean F-beta Score: 0.6298\n",
      "Overall Mean IoU Score: 0.4466\n",
      "Final_score: 0.4832\n",
      "Training Loss: 0.1830, Validation Loss: 0.2131, Validation hybrid_score: 0.4832\n",
      "Epoch 47/4000\n"
     ]
    },
    {
     "name": "stderr",
     "output_type": "stream",
     "text": [
      "Training: 100%|██████████| 132/132 [01:33<00:00,  1.41it/s, loss=0.165]\n",
      "Validation: 100%|██████████| 4/4 [00:02<00:00,  1.73it/s, loss=0.21] \n"
     ]
    },
    {
     "name": "stdout",
     "output_type": "stream",
     "text": [
      "Validation Dice Score\n",
      "Class 0: 0.9847, Class 1: 0.6930, Class 2: 0.0379, Class 3: 0.3456, Class 4: 0.7112, Class 5: 0.4301, Class 6: 0.6666, \n",
      "Validation F-beta Score\n",
      "Class 0: 0.9817, Class 1: 0.7553, Class 2: 0.0243, Class 3: 0.4913, Class 4: 0.7569, Class 5: 0.4894, Class 6: 0.6882, \n",
      "Validation mIoU Score\n",
      "Class 0: 0.9699, Class 1: 0.5359, Class 2: 0.0197, Class 3: 0.2130, Class 4: 0.5522, Class 5: 0.2742, Class 6: 0.6002, \n",
      "\n",
      "Overall Mean Dice Score: 0.5693\n",
      "Overall Mean F-beta Score: 0.6362\n",
      "Overall Mean IoU Score: 0.4351\n",
      "Final_score: 0.4753\n",
      "Training Loss: 0.1823, Validation Loss: 0.2104, Validation hybrid_score: 0.4753\n",
      "Epoch 48/4000\n"
     ]
    },
    {
     "name": "stderr",
     "output_type": "stream",
     "text": [
      "Training: 100%|██████████| 132/132 [01:34<00:00,  1.40it/s, loss=0.182]\n",
      "Validation: 100%|██████████| 4/4 [00:03<00:00,  1.06it/s, loss=0.199]\n"
     ]
    },
    {
     "name": "stdout",
     "output_type": "stream",
     "text": [
      "Validation Dice Score\n",
      "Class 0: 0.9844, Class 1: 0.5711, Class 2: 0.1580, Class 3: 0.4427, Class 4: 0.6919, Class 5: 0.4567, Class 6: 0.8237, \n",
      "Validation F-beta Score\n",
      "Class 0: 0.9800, Class 1: 0.6723, Class 2: 0.1762, Class 3: 0.5108, Class 4: 0.7857, Class 5: 0.4854, Class 6: 0.8545, \n",
      "Validation mIoU Score\n",
      "Class 0: 0.9693, Class 1: 0.4124, Class 2: 0.0863, Class 3: 0.2879, Class 4: 0.5297, Class 5: 0.3031, Class 6: 0.7068, \n",
      "\n",
      "Overall Mean Dice Score: 0.5972\n",
      "Overall Mean F-beta Score: 0.6617\n",
      "Overall Mean IoU Score: 0.4480\n",
      "Final_score: 0.4907\n",
      "Training Loss: 0.1835, Validation Loss: 0.2076, Validation hybrid_score: 0.4907\n",
      "Epoch 49/4000\n"
     ]
    },
    {
     "name": "stderr",
     "output_type": "stream",
     "text": [
      "Training: 100%|██████████| 132/132 [01:34<00:00,  1.40it/s, loss=0.185]\n",
      "Validation: 100%|██████████| 4/4 [00:02<00:00,  1.75it/s, loss=0.194]\n"
     ]
    },
    {
     "name": "stdout",
     "output_type": "stream",
     "text": [
      "Validation Dice Score\n",
      "Class 0: 0.9856, Class 1: 0.6931, Class 2: 0.1313, Class 3: 0.3719, Class 4: 0.6371, Class 5: 0.4255, Class 6: 0.8649, \n",
      "Validation F-beta Score\n",
      "Class 0: 0.9818, Class 1: 0.8284, Class 2: 0.1340, Class 3: 0.4117, Class 4: 0.7778, Class 5: 0.4540, Class 6: 0.8707, \n",
      "Validation mIoU Score\n",
      "Class 0: 0.9715, Class 1: 0.5327, Class 2: 0.0725, Class 3: 0.2319, Class 4: 0.4755, Class 5: 0.2722, Class 6: 0.7639, \n",
      "\n",
      "Overall Mean Dice Score: 0.5985\n",
      "Overall Mean F-beta Score: 0.6685\n",
      "Overall Mean IoU Score: 0.4552\n",
      "Final_score: 0.4979\n",
      "Training Loss: 0.1830, Validation Loss: 0.2031, Validation hybrid_score: 0.4979\n",
      "Epoch 50/4000\n"
     ]
    },
    {
     "name": "stderr",
     "output_type": "stream",
     "text": [
      "Training: 100%|██████████| 132/132 [01:32<00:00,  1.42it/s, loss=0.165]\n",
      "Validation: 100%|██████████| 4/4 [00:02<00:00,  1.72it/s, loss=0.2]  \n"
     ]
    },
    {
     "name": "stdout",
     "output_type": "stream",
     "text": [
      "Validation Dice Score\n",
      "Class 0: 0.9870, Class 1: 0.6889, Class 2: 0.0938, Class 3: 0.3966, Class 4: 0.6400, Class 5: 0.4315, Class 6: 0.8457, \n",
      "Validation F-beta Score\n",
      "Class 0: 0.9851, Class 1: 0.7891, Class 2: 0.0838, Class 3: 0.4957, Class 4: 0.7122, Class 5: 0.4238, Class 6: 0.8640, \n",
      "Validation mIoU Score\n",
      "Class 0: 0.9743, Class 1: 0.5270, Class 2: 0.0506, Class 3: 0.2490, Class 4: 0.4742, Class 5: 0.2793, Class 6: 0.7405, \n",
      "\n",
      "Overall Mean Dice Score: 0.6005\n",
      "Overall Mean F-beta Score: 0.6570\n",
      "Overall Mean IoU Score: 0.4540\n",
      "Final_score: 0.4946\n",
      "Training Loss: 0.1827, Validation Loss: 0.1995, Validation hybrid_score: 0.4946\n",
      "========================================================\n",
      "SUPER Best model saved. Loss:0.1995, Score:0.4946\n",
      "========================================================\n",
      "Epoch 51/4000\n"
     ]
    },
    {
     "name": "stderr",
     "output_type": "stream",
     "text": [
      "Training: 100%|██████████| 132/132 [01:36<00:00,  1.37it/s, loss=0.164]\n",
      "Validation: 100%|██████████| 4/4 [00:02<00:00,  1.41it/s, loss=0.203]\n"
     ]
    },
    {
     "name": "stdout",
     "output_type": "stream",
     "text": [
      "Validation Dice Score\n",
      "Class 0: 0.9843, Class 1: 0.5949, Class 2: 0.1773, Class 3: 0.3717, Class 4: 0.6903, Class 5: 0.3520, Class 6: 0.8851, \n",
      "Validation F-beta Score\n",
      "Class 0: 0.9821, Class 1: 0.7804, Class 2: 0.1853, Class 3: 0.4902, Class 4: 0.7447, Class 5: 0.3721, Class 6: 0.8643, \n",
      "Validation mIoU Score\n",
      "Class 0: 0.9690, Class 1: 0.4237, Class 2: 0.0976, Class 3: 0.2291, Class 4: 0.5280, Class 5: 0.2143, Class 6: 0.7944, \n",
      "\n",
      "Overall Mean Dice Score: 0.5788\n",
      "Overall Mean F-beta Score: 0.6503\n",
      "Overall Mean IoU Score: 0.4379\n",
      "Final_score: 0.4804\n",
      "Training Loss: 0.1814, Validation Loss: 0.2128, Validation hybrid_score: 0.4804\n",
      "Epoch 52/4000\n"
     ]
    },
    {
     "name": "stderr",
     "output_type": "stream",
     "text": [
      "Training: 100%|██████████| 132/132 [01:39<00:00,  1.32it/s, loss=0.168]\n",
      "Validation: 100%|██████████| 4/4 [00:02<00:00,  1.61it/s, loss=0.202]\n"
     ]
    },
    {
     "name": "stdout",
     "output_type": "stream",
     "text": [
      "Validation Dice Score\n",
      "Class 0: 0.9852, Class 1: 0.6819, Class 2: 0.0965, Class 3: 0.3560, Class 4: 0.6830, Class 5: 0.3572, Class 6: 0.8803, \n",
      "Validation F-beta Score\n",
      "Class 0: 0.9836, Class 1: 0.7821, Class 2: 0.0866, Class 3: 0.3710, Class 4: 0.7123, Class 5: 0.3725, Class 6: 0.8970, \n",
      "Validation mIoU Score\n",
      "Class 0: 0.9708, Class 1: 0.5186, Class 2: 0.0517, Class 3: 0.2186, Class 4: 0.5193, Class 5: 0.2183, Class 6: 0.7868, \n",
      "\n",
      "Overall Mean Dice Score: 0.5917\n",
      "Overall Mean F-beta Score: 0.6270\n",
      "Overall Mean IoU Score: 0.4523\n",
      "Final_score: 0.4872\n",
      "Training Loss: 0.1818, Validation Loss: 0.2087, Validation hybrid_score: 0.4872\n",
      "Epoch 53/4000\n"
     ]
    },
    {
     "name": "stderr",
     "output_type": "stream",
     "text": [
      "Training: 100%|██████████| 132/132 [01:42<00:00,  1.29it/s, loss=0.164]\n",
      "Validation: 100%|██████████| 4/4 [00:02<00:00,  1.81it/s, loss=0.19] \n"
     ]
    },
    {
     "name": "stdout",
     "output_type": "stream",
     "text": [
      "Validation Dice Score\n",
      "Class 0: 0.9850, Class 1: 0.6626, Class 2: 0.1214, Class 3: 0.3716, Class 4: 0.6275, Class 5: 0.3611, Class 6: 0.8687, \n",
      "Validation F-beta Score\n",
      "Class 0: 0.9815, Class 1: 0.8104, Class 2: 0.1266, Class 3: 0.4670, Class 4: 0.7475, Class 5: 0.3725, Class 6: 0.8674, \n",
      "Validation mIoU Score\n",
      "Class 0: 0.9704, Class 1: 0.4992, Class 2: 0.0650, Class 3: 0.2308, Class 4: 0.4625, Class 5: 0.2266, Class 6: 0.7688, \n",
      "\n",
      "Overall Mean Dice Score: 0.5783\n",
      "Overall Mean F-beta Score: 0.6530\n",
      "Overall Mean IoU Score: 0.4376\n",
      "Final_score: 0.4807\n",
      "Training Loss: 0.1827, Validation Loss: 0.2072, Validation hybrid_score: 0.4807\n",
      "Epoch 54/4000\n"
     ]
    },
    {
     "name": "stderr",
     "output_type": "stream",
     "text": [
      "Training: 100%|██████████| 132/132 [01:39<00:00,  1.33it/s, loss=0.177]\n",
      "Validation: 100%|██████████| 4/4 [00:02<00:00,  1.74it/s, loss=0.212]\n"
     ]
    },
    {
     "name": "stdout",
     "output_type": "stream",
     "text": [
      "Validation Dice Score\n",
      "Class 0: 0.9846, Class 1: 0.6604, Class 2: 0.0692, Class 3: 0.3347, Class 4: 0.6656, Class 5: 0.3462, Class 6: 0.8699, \n",
      "Validation F-beta Score\n",
      "Class 0: 0.9815, Class 1: 0.7225, Class 2: 0.0744, Class 3: 0.4122, Class 4: 0.7565, Class 5: 0.3692, Class 6: 0.8312, \n",
      "Validation mIoU Score\n",
      "Class 0: 0.9696, Class 1: 0.4974, Class 2: 0.0364, Class 3: 0.2083, Class 4: 0.4997, Class 5: 0.2100, Class 6: 0.7758, \n",
      "\n",
      "Overall Mean Dice Score: 0.5754\n",
      "Overall Mean F-beta Score: 0.6183\n",
      "Overall Mean IoU Score: 0.4383\n",
      "Final_score: 0.4743\n",
      "Training Loss: 0.1813, Validation Loss: 0.2126, Validation hybrid_score: 0.4743\n",
      "Epoch 55/4000\n"
     ]
    },
    {
     "name": "stderr",
     "output_type": "stream",
     "text": [
      "Training: 100%|██████████| 132/132 [01:49<00:00,  1.21it/s, loss=0.172]\n",
      "Validation: 100%|██████████| 4/4 [00:02<00:00,  1.57it/s, loss=0.196]\n"
     ]
    },
    {
     "name": "stdout",
     "output_type": "stream",
     "text": [
      "Validation Dice Score\n",
      "Class 0: 0.9868, Class 1: 0.6154, Class 2: 0.0955, Class 3: 0.3262, Class 4: 0.6194, Class 5: 0.4005, Class 6: 0.8703, \n",
      "Validation F-beta Score\n",
      "Class 0: 0.9856, Class 1: 0.7007, Class 2: 0.0947, Class 3: 0.3459, Class 4: 0.7066, Class 5: 0.3926, Class 6: 0.8685, \n",
      "Validation mIoU Score\n",
      "Class 0: 0.9740, Class 1: 0.4642, Class 2: 0.0518, Class 3: 0.1958, Class 4: 0.4512, Class 5: 0.2523, Class 6: 0.7715, \n",
      "\n",
      "Overall Mean Dice Score: 0.5664\n",
      "Overall Mean F-beta Score: 0.6029\n",
      "Overall Mean IoU Score: 0.4270\n",
      "Final_score: 0.4621\n",
      "Training Loss: 0.1813, Validation Loss: 0.2044, Validation hybrid_score: 0.4621\n",
      "Epoch 56/4000\n"
     ]
    },
    {
     "name": "stderr",
     "output_type": "stream",
     "text": [
      "Training: 100%|██████████| 132/132 [01:37<00:00,  1.35it/s, loss=0.181]\n",
      "Validation: 100%|██████████| 4/4 [00:03<00:00,  1.32it/s, loss=0.195]\n"
     ]
    },
    {
     "name": "stdout",
     "output_type": "stream",
     "text": [
      "Validation Dice Score\n",
      "Class 0: 0.9851, Class 1: 0.6837, Class 2: 0.1420, Class 3: 0.4725, Class 4: 0.7021, Class 5: 0.2573, Class 6: 0.8692, \n",
      "Validation F-beta Score\n",
      "Class 0: 0.9834, Class 1: 0.8290, Class 2: 0.1671, Class 3: 0.5941, Class 4: 0.8097, Class 5: 0.2495, Class 6: 0.8683, \n",
      "Validation mIoU Score\n",
      "Class 0: 0.9707, Class 1: 0.5200, Class 2: 0.0780, Class 3: 0.3109, Class 4: 0.5435, Class 5: 0.1516, Class 6: 0.7718, \n",
      "\n",
      "Overall Mean Dice Score: 0.5969\n",
      "Overall Mean F-beta Score: 0.6701\n",
      "Overall Mean IoU Score: 0.4596\n",
      "Final_score: 0.5017\n",
      "Training Loss: 0.1810, Validation Loss: 0.2071, Validation hybrid_score: 0.5017\n",
      "Epoch 57/4000\n"
     ]
    },
    {
     "name": "stderr",
     "output_type": "stream",
     "text": [
      "Training: 100%|██████████| 132/132 [01:45<00:00,  1.25it/s, loss=0.173]\n",
      "Validation: 100%|██████████| 4/4 [00:02<00:00,  1.77it/s, loss=0.199]\n"
     ]
    },
    {
     "name": "stdout",
     "output_type": "stream",
     "text": [
      "Validation Dice Score\n",
      "Class 0: 0.9841, Class 1: 0.6127, Class 2: 0.1450, Class 3: 0.3544, Class 4: 0.6707, Class 5: 0.4506, Class 6: 0.8962, \n",
      "Validation F-beta Score\n",
      "Class 0: 0.9815, Class 1: 0.7016, Class 2: 0.1910, Class 3: 0.4599, Class 4: 0.7770, Class 5: 0.4363, Class 6: 0.9099, \n",
      "Validation mIoU Score\n",
      "Class 0: 0.9686, Class 1: 0.4501, Class 2: 0.0794, Class 3: 0.2159, Class 4: 0.5098, Class 5: 0.2916, Class 6: 0.8128, \n",
      "\n",
      "Overall Mean Dice Score: 0.5969\n",
      "Overall Mean F-beta Score: 0.6569\n",
      "Overall Mean IoU Score: 0.4560\n",
      "Final_score: 0.4962\n",
      "Training Loss: 0.1812, Validation Loss: 0.2079, Validation hybrid_score: 0.4962\n",
      "Epoch 58/4000\n"
     ]
    },
    {
     "name": "stderr",
     "output_type": "stream",
     "text": [
      "Training: 100%|██████████| 132/132 [01:34<00:00,  1.40it/s, loss=0.177]\n",
      "Validation: 100%|██████████| 4/4 [00:02<00:00,  1.72it/s, loss=0.209]\n"
     ]
    },
    {
     "name": "stdout",
     "output_type": "stream",
     "text": [
      "Validation Dice Score\n",
      "Class 0: 0.9850, Class 1: 0.6447, Class 2: 0.0677, Class 3: 0.4078, Class 4: 0.6685, Class 5: 0.3608, Class 6: 0.8829, \n",
      "Validation F-beta Score\n",
      "Class 0: 0.9833, Class 1: 0.8009, Class 2: 0.0513, Class 3: 0.5254, Class 4: 0.7403, Class 5: 0.3289, Class 6: 0.8911, \n",
      "Validation mIoU Score\n",
      "Class 0: 0.9704, Class 1: 0.4778, Class 2: 0.0357, Class 3: 0.2565, Class 4: 0.5040, Class 5: 0.2234, Class 6: 0.7906, \n",
      "\n",
      "Overall Mean Dice Score: 0.5930\n",
      "Overall Mean F-beta Score: 0.6573\n",
      "Overall Mean IoU Score: 0.4505\n",
      "Final_score: 0.4918\n",
      "Training Loss: 0.1812, Validation Loss: 0.2112, Validation hybrid_score: 0.4918\n",
      "Epoch 59/4000\n"
     ]
    },
    {
     "name": "stderr",
     "output_type": "stream",
     "text": [
      "Training: 100%|██████████| 132/132 [01:32<00:00,  1.43it/s, loss=0.158]\n",
      "Validation: 100%|██████████| 4/4 [00:02<00:00,  1.76it/s, loss=0.204]\n"
     ]
    },
    {
     "name": "stdout",
     "output_type": "stream",
     "text": [
      "Validation Dice Score\n",
      "Class 0: 0.9858, Class 1: 0.6826, Class 2: 0.1005, Class 3: 0.3744, Class 4: 0.6962, Class 5: 0.4086, Class 6: 0.8919, \n",
      "Validation F-beta Score\n",
      "Class 0: 0.9821, Class 1: 0.7929, Class 2: 0.1085, Class 3: 0.5346, Class 4: 0.7981, Class 5: 0.4330, Class 6: 0.9214, \n",
      "Validation mIoU Score\n",
      "Class 0: 0.9720, Class 1: 0.5208, Class 2: 0.0568, Class 3: 0.2331, Class 4: 0.5360, Class 5: 0.2580, Class 6: 0.8051, \n",
      "\n",
      "Overall Mean Dice Score: 0.6107\n",
      "Overall Mean F-beta Score: 0.6960\n",
      "Overall Mean IoU Score: 0.4706\n",
      "Final_score: 0.5157\n",
      "Training Loss: 0.1814, Validation Loss: 0.2032, Validation hybrid_score: 0.5157\n",
      "Epoch 60/4000\n"
     ]
    },
    {
     "name": "stderr",
     "output_type": "stream",
     "text": [
      "Training: 100%|██████████| 132/132 [01:32<00:00,  1.43it/s, loss=0.165]\n",
      "Validation: 100%|██████████| 4/4 [00:02<00:00,  1.72it/s, loss=0.197]\n"
     ]
    },
    {
     "name": "stdout",
     "output_type": "stream",
     "text": [
      "Validation Dice Score\n",
      "Class 0: 0.9856, Class 1: 0.5961, Class 2: 0.0843, Class 3: 0.3929, Class 4: 0.7350, Class 5: 0.3589, Class 6: 0.8441, \n",
      "Validation F-beta Score\n",
      "Class 0: 0.9827, Class 1: 0.7551, Class 2: 0.1260, Class 3: 0.5575, Class 4: 0.7964, Class 5: 0.3495, Class 6: 0.9058, \n",
      "Validation mIoU Score\n",
      "Class 0: 0.9716, Class 1: 0.4326, Class 2: 0.0468, Class 3: 0.2463, Class 4: 0.5812, Class 5: 0.2194, Class 6: 0.7368, \n",
      "\n",
      "Overall Mean Dice Score: 0.5854\n",
      "Overall Mean F-beta Score: 0.6729\n",
      "Overall Mean IoU Score: 0.4433\n",
      "Final_score: 0.4892\n",
      "Training Loss: 0.1803, Validation Loss: 0.2081, Validation hybrid_score: 0.4892\n",
      "Epoch 61/4000\n"
     ]
    },
    {
     "name": "stderr",
     "output_type": "stream",
     "text": [
      "Training: 100%|██████████| 132/132 [01:32<00:00,  1.42it/s, loss=0.172]\n",
      "Validation: 100%|██████████| 4/4 [00:02<00:00,  1.73it/s, loss=0.19] \n"
     ]
    },
    {
     "name": "stdout",
     "output_type": "stream",
     "text": [
      "Validation Dice Score\n",
      "Class 0: 0.9851, Class 1: 0.7333, Class 2: 0.0710, Class 3: 0.3728, Class 4: 0.6532, Class 5: 0.4999, Class 6: 0.8754, \n",
      "Validation F-beta Score\n",
      "Class 0: 0.9816, Class 1: 0.8112, Class 2: 0.0728, Class 3: 0.5021, Class 4: 0.7826, Class 5: 0.5029, Class 6: 0.8871, \n",
      "Validation mIoU Score\n",
      "Class 0: 0.9707, Class 1: 0.5834, Class 2: 0.0385, Class 3: 0.2365, Class 4: 0.4860, Class 5: 0.3357, Class 6: 0.7792, \n",
      "\n",
      "Overall Mean Dice Score: 0.6269\n",
      "Overall Mean F-beta Score: 0.6972\n",
      "Overall Mean IoU Score: 0.4842\n",
      "Final_score: 0.5268\n",
      "Training Loss: 0.1794, Validation Loss: 0.2040, Validation hybrid_score: 0.5268\n",
      "Epoch 62/4000\n"
     ]
    },
    {
     "name": "stderr",
     "output_type": "stream",
     "text": [
      "Training: 100%|██████████| 132/132 [01:31<00:00,  1.44it/s, loss=0.173]\n",
      "Validation: 100%|██████████| 4/4 [00:02<00:00,  1.68it/s, loss=0.196]\n"
     ]
    },
    {
     "name": "stdout",
     "output_type": "stream",
     "text": [
      "Validation Dice Score\n",
      "Class 0: 0.9840, Class 1: 0.6714, Class 2: 0.1338, Class 3: 0.3424, Class 4: 0.6502, Class 5: 0.3601, Class 6: 0.8859, \n",
      "Validation F-beta Score\n",
      "Class 0: 0.9784, Class 1: 0.8586, Class 2: 0.2027, Class 3: 0.4744, Class 4: 0.7955, Class 5: 0.3922, Class 6: 0.8869, \n",
      "Validation mIoU Score\n",
      "Class 0: 0.9685, Class 1: 0.5107, Class 2: 0.0721, Class 3: 0.2099, Class 4: 0.4894, Class 5: 0.2297, Class 6: 0.7990, \n",
      "\n",
      "Overall Mean Dice Score: 0.5820\n",
      "Overall Mean F-beta Score: 0.6815\n",
      "Overall Mean IoU Score: 0.4477\n",
      "Final_score: 0.4945\n",
      "Training Loss: 0.1796, Validation Loss: 0.2122, Validation hybrid_score: 0.4945\n",
      "Epoch 63/4000\n"
     ]
    },
    {
     "name": "stderr",
     "output_type": "stream",
     "text": [
      "Training: 100%|██████████| 132/132 [01:31<00:00,  1.44it/s, loss=0.176]\n",
      "Validation: 100%|██████████| 4/4 [00:02<00:00,  1.77it/s, loss=0.205]\n"
     ]
    },
    {
     "name": "stdout",
     "output_type": "stream",
     "text": [
      "Validation Dice Score\n",
      "Class 0: 0.9843, Class 1: 0.6228, Class 2: 0.1436, Class 3: 0.3759, Class 4: 0.6527, Class 5: 0.4197, Class 6: 0.8911, \n",
      "Validation F-beta Score\n",
      "Class 0: 0.9814, Class 1: 0.8246, Class 2: 0.1455, Class 3: 0.4106, Class 4: 0.7146, Class 5: 0.4464, Class 6: 0.9338, \n",
      "Validation mIoU Score\n",
      "Class 0: 0.9690, Class 1: 0.4561, Class 2: 0.0811, Class 3: 0.2490, Class 4: 0.4928, Class 5: 0.2673, Class 6: 0.8039, \n",
      "\n",
      "Overall Mean Dice Score: 0.5925\n",
      "Overall Mean F-beta Score: 0.6660\n",
      "Overall Mean IoU Score: 0.4538\n",
      "Final_score: 0.4962\n",
      "Training Loss: 0.1798, Validation Loss: 0.2135, Validation hybrid_score: 0.4962\n",
      "Epoch 64/4000\n"
     ]
    },
    {
     "name": "stderr",
     "output_type": "stream",
     "text": [
      "Training: 100%|██████████| 132/132 [01:31<00:00,  1.44it/s, loss=0.176]\n",
      "Validation: 100%|██████████| 4/4 [00:02<00:00,  1.84it/s, loss=0.196]\n"
     ]
    },
    {
     "name": "stdout",
     "output_type": "stream",
     "text": [
      "Validation Dice Score\n",
      "Class 0: 0.9863, Class 1: 0.6691, Class 2: 0.0891, Class 3: 0.4221, Class 4: 0.6479, Class 5: 0.4204, Class 6: 0.8816, \n",
      "Validation F-beta Score\n",
      "Class 0: 0.9853, Class 1: 0.8016, Class 2: 0.0876, Class 3: 0.5429, Class 4: 0.7120, Class 5: 0.3712, Class 6: 0.8900, \n",
      "Validation mIoU Score\n",
      "Class 0: 0.9730, Class 1: 0.5054, Class 2: 0.0479, Class 3: 0.2704, Class 4: 0.4804, Class 5: 0.2681, Class 6: 0.7890, \n",
      "\n",
      "Overall Mean Dice Score: 0.6082\n",
      "Overall Mean F-beta Score: 0.6635\n",
      "Overall Mean IoU Score: 0.4627\n",
      "Final_score: 0.5028\n",
      "Training Loss: 0.1814, Validation Loss: 0.2000, Validation hybrid_score: 0.5028\n",
      "Epoch 65/4000\n"
     ]
    },
    {
     "name": "stderr",
     "output_type": "stream",
     "text": [
      "Training: 100%|██████████| 132/132 [01:32<00:00,  1.43it/s, loss=0.165]\n",
      "Validation: 100%|██████████| 4/4 [00:02<00:00,  1.80it/s, loss=0.223]\n"
     ]
    },
    {
     "name": "stdout",
     "output_type": "stream",
     "text": [
      "Validation Dice Score\n",
      "Class 0: 0.9821, Class 1: 0.6008, Class 2: 0.1725, Class 3: 0.4209, Class 4: 0.6272, Class 5: 0.3606, Class 6: 0.8306, \n",
      "Validation F-beta Score\n",
      "Class 0: 0.9775, Class 1: 0.7854, Class 2: 0.1755, Class 3: 0.5558, Class 4: 0.7660, Class 5: 0.3585, Class 6: 0.8568, \n",
      "Validation mIoU Score\n",
      "Class 0: 0.9649, Class 1: 0.4386, Class 2: 0.0957, Class 3: 0.2668, Class 4: 0.4582, Class 5: 0.2254, Class 6: 0.7107, \n",
      "\n",
      "Overall Mean Dice Score: 0.5680\n",
      "Overall Mean F-beta Score: 0.6645\n",
      "Overall Mean IoU Score: 0.4199\n",
      "Final_score: 0.4688\n",
      "Training Loss: 0.1806, Validation Loss: 0.2223, Validation hybrid_score: 0.4688\n",
      "Epoch 66/4000\n"
     ]
    },
    {
     "name": "stderr",
     "output_type": "stream",
     "text": [
      "Training: 100%|██████████| 132/132 [01:33<00:00,  1.41it/s, loss=0.174]\n",
      "Validation: 100%|██████████| 4/4 [00:02<00:00,  1.77it/s, loss=0.2]  \n"
     ]
    },
    {
     "name": "stdout",
     "output_type": "stream",
     "text": [
      "Validation Dice Score\n",
      "Class 0: 0.9841, Class 1: 0.6155, Class 2: 0.0540, Class 3: 0.3988, Class 4: 0.6560, Class 5: 0.3666, Class 6: 0.8699, \n",
      "Validation F-beta Score\n",
      "Class 0: 0.9796, Class 1: 0.7898, Class 2: 0.0598, Class 3: 0.5168, Class 4: 0.7634, Class 5: 0.3811, Class 6: 0.8971, \n",
      "Validation mIoU Score\n",
      "Class 0: 0.9688, Class 1: 0.4507, Class 2: 0.0285, Class 3: 0.2504, Class 4: 0.4955, Class 5: 0.2251, Class 6: 0.7705, \n",
      "\n",
      "Overall Mean Dice Score: 0.5814\n",
      "Overall Mean F-beta Score: 0.6696\n",
      "Overall Mean IoU Score: 0.4384\n",
      "Final_score: 0.4847\n",
      "Training Loss: 0.1800, Validation Loss: 0.2129, Validation hybrid_score: 0.4847\n",
      "Epoch 67/4000\n"
     ]
    },
    {
     "name": "stderr",
     "output_type": "stream",
     "text": [
      "Training: 100%|██████████| 132/132 [01:33<00:00,  1.41it/s, loss=0.164]\n",
      "Validation: 100%|██████████| 4/4 [00:02<00:00,  1.75it/s, loss=0.184]\n"
     ]
    },
    {
     "name": "stdout",
     "output_type": "stream",
     "text": [
      "Validation Dice Score\n",
      "Class 0: 0.9862, Class 1: 0.7455, Class 2: 0.1016, Class 3: 0.4487, Class 4: 0.7001, Class 5: 0.3676, Class 6: 0.8447, \n",
      "Validation F-beta Score\n",
      "Class 0: 0.9819, Class 1: 0.8082, Class 2: 0.1417, Class 3: 0.5827, Class 4: 0.7683, Class 5: 0.4404, Class 6: 0.8806, \n",
      "Validation mIoU Score\n",
      "Class 0: 0.9727, Class 1: 0.5972, Class 2: 0.0536, Class 3: 0.2902, Class 4: 0.5401, Class 5: 0.2258, Class 6: 0.7404, \n",
      "\n",
      "Overall Mean Dice Score: 0.6213\n",
      "Overall Mean F-beta Score: 0.6961\n",
      "Overall Mean IoU Score: 0.4788\n",
      "Final_score: 0.5222\n",
      "Training Loss: 0.1801, Validation Loss: 0.2009, Validation hybrid_score: 0.5222\n",
      "Epoch 68/4000\n"
     ]
    },
    {
     "name": "stderr",
     "output_type": "stream",
     "text": [
      "Training: 100%|██████████| 132/132 [01:34<00:00,  1.39it/s, loss=0.176]\n",
      "Validation: 100%|██████████| 4/4 [00:02<00:00,  1.67it/s, loss=0.208]\n"
     ]
    },
    {
     "name": "stdout",
     "output_type": "stream",
     "text": [
      "Validation Dice Score\n",
      "Class 0: 0.9852, Class 1: 0.6437, Class 2: 0.1664, Class 3: 0.3457, Class 4: 0.6877, Class 5: 0.4291, Class 6: 0.8983, \n",
      "Validation F-beta Score\n",
      "Class 0: 0.9839, Class 1: 0.8100, Class 2: 0.1667, Class 3: 0.4244, Class 4: 0.7319, Class 5: 0.4213, Class 6: 0.8882, \n",
      "Validation mIoU Score\n",
      "Class 0: 0.9709, Class 1: 0.4770, Class 2: 0.0935, Class 3: 0.2145, Class 4: 0.5249, Class 5: 0.2828, Class 6: 0.8164, \n",
      "\n",
      "Overall Mean Dice Score: 0.6009\n",
      "Overall Mean F-beta Score: 0.6552\n",
      "Overall Mean IoU Score: 0.4631\n",
      "Final_score: 0.5015\n",
      "Training Loss: 0.1786, Validation Loss: 0.2089, Validation hybrid_score: 0.5015\n",
      "Epoch 69/4000\n"
     ]
    },
    {
     "name": "stderr",
     "output_type": "stream",
     "text": [
      "Training: 100%|██████████| 132/132 [01:40<00:00,  1.32it/s, loss=0.174]\n",
      "Validation: 100%|██████████| 4/4 [00:02<00:00,  1.63it/s, loss=0.198]\n"
     ]
    },
    {
     "name": "stdout",
     "output_type": "stream",
     "text": [
      "Validation Dice Score\n",
      "Class 0: 0.9862, Class 1: 0.7365, Class 2: 0.1483, Class 3: 0.3635, Class 4: 0.6095, Class 5: 0.4241, Class 6: 0.9003, \n",
      "Validation F-beta Score\n",
      "Class 0: 0.9830, Class 1: 0.8169, Class 2: 0.1347, Class 3: 0.4475, Class 4: 0.7483, Class 5: 0.4471, Class 6: 0.8906, \n",
      "Validation mIoU Score\n",
      "Class 0: 0.9727, Class 1: 0.5856, Class 2: 0.0816, Class 3: 0.2282, Class 4: 0.4451, Class 5: 0.2705, Class 6: 0.8195, \n",
      "\n",
      "Overall Mean Dice Score: 0.6068\n",
      "Overall Mean F-beta Score: 0.6701\n",
      "Overall Mean IoU Score: 0.4698\n",
      "Final_score: 0.5098\n",
      "Training Loss: 0.1780, Validation Loss: 0.2046, Validation hybrid_score: 0.5098\n",
      "Epoch 70/4000\n"
     ]
    },
    {
     "name": "stderr",
     "output_type": "stream",
     "text": [
      "Training: 100%|██████████| 132/132 [01:33<00:00,  1.42it/s, loss=0.168]\n",
      "Validation: 100%|██████████| 4/4 [00:02<00:00,  1.72it/s, loss=0.21] \n"
     ]
    },
    {
     "name": "stdout",
     "output_type": "stream",
     "text": [
      "Validation Dice Score\n",
      "Class 0: 0.9857, Class 1: 0.6353, Class 2: 0.0875, Class 3: 0.3705, Class 4: 0.6391, Class 5: 0.4603, Class 6: 0.8388, \n",
      "Validation F-beta Score\n",
      "Class 0: 0.9845, Class 1: 0.7470, Class 2: 0.1122, Class 3: 0.5383, Class 4: 0.7162, Class 5: 0.4362, Class 6: 0.8396, \n",
      "Validation mIoU Score\n",
      "Class 0: 0.9718, Class 1: 0.4716, Class 2: 0.0485, Class 3: 0.2332, Class 4: 0.4776, Class 5: 0.2995, Class 6: 0.7272, \n",
      "\n",
      "Overall Mean Dice Score: 0.5888\n",
      "Overall Mean F-beta Score: 0.6555\n",
      "Overall Mean IoU Score: 0.4418\n",
      "Final_score: 0.4845\n",
      "Training Loss: 0.1792, Validation Loss: 0.2079, Validation hybrid_score: 0.4845\n",
      "Epoch 71/4000\n"
     ]
    },
    {
     "name": "stderr",
     "output_type": "stream",
     "text": [
      "Training: 100%|██████████| 132/132 [01:43<00:00,  1.27it/s, loss=0.171]\n",
      "Validation: 100%|██████████| 4/4 [00:05<00:00,  1.39s/it, loss=0.2]  \n"
     ]
    },
    {
     "name": "stdout",
     "output_type": "stream",
     "text": [
      "Validation Dice Score\n",
      "Class 0: 0.9862, Class 1: 0.6909, Class 2: 0.0599, Class 3: 0.3666, Class 4: 0.6993, Class 5: 0.4497, Class 6: 0.8818, \n",
      "Validation F-beta Score\n",
      "Class 0: 0.9835, Class 1: 0.7702, Class 2: 0.0615, Class 3: 0.5029, Class 4: 0.7939, Class 5: 0.4410, Class 6: 0.9088, \n",
      "Validation mIoU Score\n",
      "Class 0: 0.9729, Class 1: 0.5303, Class 2: 0.0315, Class 3: 0.2265, Class 4: 0.5426, Class 5: 0.2923, Class 6: 0.7918, \n",
      "\n",
      "Overall Mean Dice Score: 0.6176\n",
      "Overall Mean F-beta Score: 0.6834\n",
      "Overall Mean IoU Score: 0.4767\n",
      "Final_score: 0.5180\n",
      "Training Loss: 0.1793, Validation Loss: 0.2017, Validation hybrid_score: 0.5180\n",
      "Epoch 72/4000\n"
     ]
    },
    {
     "name": "stderr",
     "output_type": "stream",
     "text": [
      "Training: 100%|██████████| 132/132 [01:47<00:00,  1.23it/s, loss=0.179]\n",
      "Validation: 100%|██████████| 4/4 [00:12<00:00,  3.02s/it, loss=0.213]\n"
     ]
    },
    {
     "name": "stdout",
     "output_type": "stream",
     "text": [
      "Validation Dice Score\n",
      "Class 0: 0.9843, Class 1: 0.5306, Class 2: 0.1360, Class 3: 0.4477, Class 4: 0.7071, Class 5: 0.3604, Class 6: 0.8556, \n",
      "Validation F-beta Score\n",
      "Class 0: 0.9815, Class 1: 0.6565, Class 2: 0.1350, Class 3: 0.5934, Class 4: 0.7750, Class 5: 0.3822, Class 6: 0.8760, \n",
      "Validation mIoU Score\n",
      "Class 0: 0.9692, Class 1: 0.3851, Class 2: 0.0766, Class 3: 0.2888, Class 4: 0.5515, Class 5: 0.2211, Class 6: 0.7516, \n",
      "\n",
      "Overall Mean Dice Score: 0.5803\n",
      "Overall Mean F-beta Score: 0.6566\n",
      "Overall Mean IoU Score: 0.4396\n",
      "Final_score: 0.4830\n",
      "Training Loss: 0.1775, Validation Loss: 0.2092, Validation hybrid_score: 0.4830\n",
      "Epoch 73/4000\n"
     ]
    },
    {
     "name": "stderr",
     "output_type": "stream",
     "text": [
      "Training: 100%|██████████| 132/132 [01:34<00:00,  1.40it/s, loss=0.167]\n",
      "Validation: 100%|██████████| 4/4 [00:03<00:00,  1.18it/s, loss=0.218]\n"
     ]
    },
    {
     "name": "stdout",
     "output_type": "stream",
     "text": [
      "Validation Dice Score\n",
      "Class 0: 0.9847, Class 1: 0.6989, Class 2: 0.1584, Class 3: 0.4184, Class 4: 0.6482, Class 5: 0.4640, Class 6: 0.8879, \n",
      "Validation F-beta Score\n",
      "Class 0: 0.9844, Class 1: 0.7482, Class 2: 0.1711, Class 3: 0.5131, Class 4: 0.6861, Class 5: 0.4585, Class 6: 0.8969, \n",
      "Validation mIoU Score\n",
      "Class 0: 0.9699, Class 1: 0.5410, Class 2: 0.0869, Class 3: 0.2678, Class 4: 0.4818, Class 5: 0.3036, Class 6: 0.8005, \n",
      "\n",
      "Overall Mean Dice Score: 0.6234\n",
      "Overall Mean F-beta Score: 0.6605\n",
      "Overall Mean IoU Score: 0.4789\n",
      "Final_score: 0.5153\n",
      "Training Loss: 0.1776, Validation Loss: 0.2090, Validation hybrid_score: 0.5153\n",
      "Epoch 74/4000\n"
     ]
    },
    {
     "name": "stderr",
     "output_type": "stream",
     "text": [
      "Training: 100%|██████████| 132/132 [01:35<00:00,  1.38it/s, loss=0.17] \n",
      "Validation: 100%|██████████| 4/4 [00:02<00:00,  1.75it/s, loss=0.2]  \n"
     ]
    },
    {
     "name": "stdout",
     "output_type": "stream",
     "text": [
      "Validation Dice Score\n",
      "Class 0: 0.9886, Class 1: 0.6901, Class 2: 0.1636, Class 3: 0.4392, Class 4: 0.7194, Class 5: 0.4453, Class 6: 0.8614, \n",
      "Validation F-beta Score\n",
      "Class 0: 0.9872, Class 1: 0.7929, Class 2: 0.1404, Class 3: 0.5399, Class 4: 0.7715, Class 5: 0.4689, Class 6: 0.8512, \n",
      "Validation mIoU Score\n",
      "Class 0: 0.9775, Class 1: 0.5289, Class 2: 0.0896, Class 3: 0.2821, Class 4: 0.5632, Class 5: 0.2885, Class 6: 0.7579, \n",
      "\n",
      "Overall Mean Dice Score: 0.6311\n",
      "Overall Mean F-beta Score: 0.6849\n",
      "Overall Mean IoU Score: 0.4841\n",
      "Final_score: 0.5243\n",
      "Training Loss: 0.1775, Validation Loss: 0.1941, Validation hybrid_score: 0.5243\n",
      "========================================================\n",
      "SUPER Best model saved. Loss:0.1941, Score:0.5243\n",
      "========================================================\n",
      "Epoch 75/4000\n"
     ]
    },
    {
     "name": "stderr",
     "output_type": "stream",
     "text": [
      "Training: 100%|██████████| 132/132 [01:32<00:00,  1.43it/s, loss=0.172]\n",
      "Validation: 100%|██████████| 4/4 [00:02<00:00,  1.77it/s, loss=0.2]  \n"
     ]
    },
    {
     "name": "stdout",
     "output_type": "stream",
     "text": [
      "Validation Dice Score\n",
      "Class 0: 0.9857, Class 1: 0.7086, Class 2: 0.0761, Class 3: 0.4129, Class 4: 0.6733, Class 5: 0.4027, Class 6: 0.8808, \n",
      "Validation F-beta Score\n",
      "Class 0: 0.9835, Class 1: 0.7551, Class 2: 0.0881, Class 3: 0.4681, Class 4: 0.7117, Class 5: 0.4423, Class 6: 0.8625, \n",
      "Validation mIoU Score\n",
      "Class 0: 0.9718, Class 1: 0.5512, Class 2: 0.0403, Class 3: 0.2619, Class 4: 0.5083, Class 5: 0.2562, Class 6: 0.7875, \n",
      "\n",
      "Overall Mean Dice Score: 0.6157\n",
      "Overall Mean F-beta Score: 0.6479\n",
      "Overall Mean IoU Score: 0.4730\n",
      "Final_score: 0.5080\n",
      "Training Loss: 0.1770, Validation Loss: 0.2016, Validation hybrid_score: 0.5080\n",
      "Epoch 76/4000\n"
     ]
    },
    {
     "name": "stderr",
     "output_type": "stream",
     "text": [
      "Training: 100%|██████████| 132/132 [01:33<00:00,  1.41it/s, loss=0.167]\n",
      "Validation: 100%|██████████| 4/4 [00:04<00:00,  1.06s/it, loss=0.197]\n"
     ]
    },
    {
     "name": "stdout",
     "output_type": "stream",
     "text": [
      "Validation Dice Score\n",
      "Class 0: 0.9861, Class 1: 0.6722, Class 2: 0.1081, Class 3: 0.3439, Class 4: 0.7347, Class 5: 0.3603, Class 6: 0.9055, \n",
      "Validation F-beta Score\n",
      "Class 0: 0.9844, Class 1: 0.8072, Class 2: 0.1322, Class 3: 0.5227, Class 4: 0.7698, Class 5: 0.3733, Class 6: 0.9127, \n",
      "Validation mIoU Score\n",
      "Class 0: 0.9727, Class 1: 0.5155, Class 2: 0.0587, Class 3: 0.2133, Class 4: 0.5830, Class 5: 0.2224, Class 6: 0.8274, \n",
      "\n",
      "Overall Mean Dice Score: 0.6033\n",
      "Overall Mean F-beta Score: 0.6772\n",
      "Overall Mean IoU Score: 0.4723\n",
      "Final_score: 0.5133\n",
      "Training Loss: 0.1775, Validation Loss: 0.2042, Validation hybrid_score: 0.5133\n",
      "Epoch 77/4000\n"
     ]
    },
    {
     "name": "stderr",
     "output_type": "stream",
     "text": [
      "Training: 100%|██████████| 132/132 [01:32<00:00,  1.43it/s, loss=0.165]\n",
      "Validation: 100%|██████████| 4/4 [00:02<00:00,  1.71it/s, loss=0.192]\n"
     ]
    },
    {
     "name": "stdout",
     "output_type": "stream",
     "text": [
      "Validation Dice Score\n",
      "Class 0: 0.9865, Class 1: 0.6828, Class 2: 0.0429, Class 3: 0.3934, Class 4: 0.6630, Class 5: 0.3728, Class 6: 0.8718, \n",
      "Validation F-beta Score\n",
      "Class 0: 0.9847, Class 1: 0.8057, Class 2: 0.0568, Class 3: 0.4740, Class 4: 0.7417, Class 5: 0.3636, Class 6: 0.8904, \n",
      "Validation mIoU Score\n",
      "Class 0: 0.9734, Class 1: 0.5214, Class 2: 0.0221, Class 3: 0.2465, Class 4: 0.5057, Class 5: 0.2344, Class 6: 0.7737, \n",
      "\n",
      "Overall Mean Dice Score: 0.5967\n",
      "Overall Mean F-beta Score: 0.6551\n",
      "Overall Mean IoU Score: 0.4563\n",
      "Final_score: 0.4961\n",
      "Training Loss: 0.1778, Validation Loss: 0.2009, Validation hybrid_score: 0.4961\n",
      "Epoch 78/4000\n"
     ]
    },
    {
     "name": "stderr",
     "output_type": "stream",
     "text": [
      "Training: 100%|██████████| 132/132 [01:40<00:00,  1.32it/s, loss=0.171]\n",
      "Validation: 100%|██████████| 4/4 [00:02<00:00,  1.61it/s, loss=0.201]\n"
     ]
    },
    {
     "name": "stdout",
     "output_type": "stream",
     "text": [
      "Validation Dice Score\n",
      "Class 0: 0.9859, Class 1: 0.7281, Class 2: 0.1418, Class 3: 0.3700, Class 4: 0.6055, Class 5: 0.4676, Class 6: 0.8875, \n",
      "Validation F-beta Score\n",
      "Class 0: 0.9847, Class 1: 0.7700, Class 2: 0.1411, Class 3: 0.4775, Class 4: 0.6712, Class 5: 0.4708, Class 6: 0.9229, \n",
      "Validation mIoU Score\n",
      "Class 0: 0.9722, Class 1: 0.5729, Class 2: 0.0770, Class 3: 0.2293, Class 4: 0.4401, Class 5: 0.3054, Class 6: 0.7978, \n",
      "\n",
      "Overall Mean Dice Score: 0.6117\n",
      "Overall Mean F-beta Score: 0.6625\n",
      "Overall Mean IoU Score: 0.4691\n",
      "Final_score: 0.5078\n",
      "Training Loss: 0.1768, Validation Loss: 0.2009, Validation hybrid_score: 0.5078\n",
      "Epoch 79/4000\n"
     ]
    },
    {
     "name": "stderr",
     "output_type": "stream",
     "text": [
      "Training: 100%|██████████| 132/132 [01:54<00:00,  1.15it/s, loss=0.18] \n",
      "Validation: 100%|██████████| 4/4 [00:02<00:00,  1.46it/s, loss=0.193]\n"
     ]
    },
    {
     "name": "stdout",
     "output_type": "stream",
     "text": [
      "Validation Dice Score\n",
      "Class 0: 0.9844, Class 1: 0.6638, Class 2: 0.0603, Class 3: 0.2597, Class 4: 0.6334, Class 5: 0.4018, Class 6: 0.8638, \n",
      "Validation F-beta Score\n",
      "Class 0: 0.9837, Class 1: 0.7708, Class 2: 0.0532, Class 3: 0.4518, Class 4: 0.6326, Class 5: 0.3821, Class 6: 0.8627, \n",
      "Validation mIoU Score\n",
      "Class 0: 0.9692, Class 1: 0.4973, Class 2: 0.0330, Class 3: 0.1506, Class 4: 0.4705, Class 5: 0.2528, Class 6: 0.7634, \n",
      "\n",
      "Overall Mean Dice Score: 0.5645\n",
      "Overall Mean F-beta Score: 0.6200\n",
      "Overall Mean IoU Score: 0.4269\n",
      "Final_score: 0.4655\n",
      "Training Loss: 0.1766, Validation Loss: 0.2107, Validation hybrid_score: 0.4655\n",
      "Epoch 80/4000\n"
     ]
    },
    {
     "name": "stderr",
     "output_type": "stream",
     "text": [
      "Training: 100%|██████████| 132/132 [02:10<00:00,  1.01it/s, loss=0.165]\n",
      "Validation: 100%|██████████| 4/4 [00:02<00:00,  1.37it/s, loss=0.199]\n"
     ]
    },
    {
     "name": "stdout",
     "output_type": "stream",
     "text": [
      "Validation Dice Score\n",
      "Class 0: 0.9864, Class 1: 0.6776, Class 2: 0.1941, Class 3: 0.5054, Class 4: 0.7047, Class 5: 0.4464, Class 6: 0.8852, \n",
      "Validation F-beta Score\n",
      "Class 0: 0.9845, Class 1: 0.7720, Class 2: 0.1764, Class 3: 0.6008, Class 4: 0.7475, Class 5: 0.4569, Class 6: 0.8732, \n",
      "Validation mIoU Score\n",
      "Class 0: 0.9731, Class 1: 0.5143, Class 2: 0.1135, Class 3: 0.3383, Class 4: 0.5470, Class 5: 0.2927, Class 6: 0.7961, \n",
      "\n",
      "Overall Mean Dice Score: 0.6439\n",
      "Overall Mean F-beta Score: 0.6901\n",
      "Overall Mean IoU Score: 0.4977\n",
      "Final_score: 0.5362\n",
      "Training Loss: 0.1764, Validation Loss: 0.1963, Validation hybrid_score: 0.5362\n",
      "Epoch 81/4000\n"
     ]
    },
    {
     "name": "stderr",
     "output_type": "stream",
     "text": [
      "Training: 100%|██████████| 132/132 [01:34<00:00,  1.40it/s, loss=0.167]\n",
      "Validation: 100%|██████████| 4/4 [00:04<00:00,  1.18s/it, loss=0.215]\n"
     ]
    },
    {
     "name": "stdout",
     "output_type": "stream",
     "text": [
      "Validation Dice Score\n",
      "Class 0: 0.9854, Class 1: 0.6721, Class 2: 0.0747, Class 3: 0.4949, Class 4: 0.7041, Class 5: 0.4646, Class 6: 0.8966, \n",
      "Validation F-beta Score\n",
      "Class 0: 0.9836, Class 1: 0.8091, Class 2: 0.0866, Class 3: 0.5457, Class 4: 0.7662, Class 5: 0.4476, Class 6: 0.9179, \n",
      "Validation mIoU Score\n",
      "Class 0: 0.9712, Class 1: 0.5102, Class 2: 0.0401, Class 3: 0.3317, Class 4: 0.5450, Class 5: 0.3032, Class 6: 0.8134, \n",
      "\n",
      "Overall Mean Dice Score: 0.6464\n",
      "Overall Mean F-beta Score: 0.6973\n",
      "Overall Mean IoU Score: 0.5007\n",
      "Final_score: 0.5400\n",
      "Training Loss: 0.1767, Validation Loss: 0.2022, Validation hybrid_score: 0.5400\n",
      "Epoch 82/4000\n"
     ]
    },
    {
     "name": "stderr",
     "output_type": "stream",
     "text": [
      "Training: 100%|██████████| 132/132 [01:37<00:00,  1.35it/s, loss=0.17] \n",
      "Validation: 100%|██████████| 4/4 [00:02<00:00,  1.52it/s, loss=0.22] \n"
     ]
    },
    {
     "name": "stdout",
     "output_type": "stream",
     "text": [
      "Validation Dice Score\n",
      "Class 0: 0.9859, Class 1: 0.5984, Class 2: 0.2049, Class 3: 0.3879, Class 4: 0.5929, Class 5: 0.4130, Class 6: 0.8671, \n",
      "Validation F-beta Score\n",
      "Class 0: 0.9835, Class 1: 0.7501, Class 2: 0.2065, Class 3: 0.5271, Class 4: 0.7162, Class 5: 0.4198, Class 6: 0.9005, \n",
      "Validation mIoU Score\n",
      "Class 0: 0.9722, Class 1: 0.4356, Class 2: 0.1161, Class 3: 0.2464, Class 4: 0.4509, Class 5: 0.2603, Class 6: 0.7683, \n",
      "\n",
      "Overall Mean Dice Score: 0.5719\n",
      "Overall Mean F-beta Score: 0.6627\n",
      "Overall Mean IoU Score: 0.4323\n",
      "Final_score: 0.4784\n",
      "Training Loss: 0.1765, Validation Loss: 0.2069, Validation hybrid_score: 0.4784\n",
      "Epoch 83/4000\n"
     ]
    },
    {
     "name": "stderr",
     "output_type": "stream",
     "text": [
      "Training: 100%|██████████| 132/132 [01:35<00:00,  1.38it/s, loss=0.171]\n",
      "Validation: 100%|██████████| 4/4 [00:02<00:00,  1.82it/s, loss=0.205]\n"
     ]
    },
    {
     "name": "stdout",
     "output_type": "stream",
     "text": [
      "Validation Dice Score\n",
      "Class 0: 0.9860, Class 1: 0.5485, Class 2: 0.1353, Class 3: 0.4334, Class 4: 0.6869, Class 5: 0.4036, Class 6: 0.8408, \n",
      "Validation F-beta Score\n",
      "Class 0: 0.9834, Class 1: 0.6951, Class 2: 0.1406, Class 3: 0.5250, Class 4: 0.7605, Class 5: 0.4067, Class 6: 0.8701, \n",
      "Validation mIoU Score\n",
      "Class 0: 0.9724, Class 1: 0.3963, Class 2: 0.0729, Class 3: 0.2806, Class 4: 0.5286, Class 5: 0.2609, Class 6: 0.7277, \n",
      "\n",
      "Overall Mean Dice Score: 0.5826\n",
      "Overall Mean F-beta Score: 0.6515\n",
      "Overall Mean IoU Score: 0.4388\n",
      "Final_score: 0.4814\n",
      "Training Loss: 0.1770, Validation Loss: 0.2048, Validation hybrid_score: 0.4814\n",
      "Epoch 84/4000\n"
     ]
    },
    {
     "name": "stderr",
     "output_type": "stream",
     "text": [
      "Training: 100%|██████████| 132/132 [01:32<00:00,  1.43it/s, loss=0.167]\n",
      "Validation: 100%|██████████| 4/4 [00:02<00:00,  1.76it/s, loss=0.196]\n"
     ]
    },
    {
     "name": "stdout",
     "output_type": "stream",
     "text": [
      "Validation Dice Score\n",
      "Class 0: 0.9864, Class 1: 0.6074, Class 2: 0.0964, Class 3: 0.3138, Class 4: 0.6901, Class 5: 0.3354, Class 6: 0.8975, \n",
      "Validation F-beta Score\n",
      "Class 0: 0.9871, Class 1: 0.7286, Class 2: 0.0948, Class 3: 0.4101, Class 4: 0.6621, Class 5: 0.3297, Class 6: 0.9214, \n",
      "Validation mIoU Score\n",
      "Class 0: 0.9732, Class 1: 0.4438, Class 2: 0.0519, Class 3: 0.1883, Class 4: 0.5289, Class 5: 0.2096, Class 6: 0.8144, \n",
      "\n",
      "Overall Mean Dice Score: 0.5688\n",
      "Overall Mean F-beta Score: 0.6104\n",
      "Overall Mean IoU Score: 0.4370\n",
      "Final_score: 0.4717\n",
      "Training Loss: 0.1759, Validation Loss: 0.2017, Validation hybrid_score: 0.4717\n",
      "Epoch 85/4000\n"
     ]
    },
    {
     "name": "stderr",
     "output_type": "stream",
     "text": [
      "Training: 100%|██████████| 132/132 [01:32<00:00,  1.43it/s, loss=0.175]\n",
      "Validation: 100%|██████████| 4/4 [00:02<00:00,  1.81it/s, loss=0.218]\n"
     ]
    },
    {
     "name": "stdout",
     "output_type": "stream",
     "text": [
      "Validation Dice Score\n",
      "Class 0: 0.9841, Class 1: 0.5886, Class 2: 0.1081, Class 3: 0.4200, Class 4: 0.6604, Class 5: 0.3936, Class 6: 0.8871, \n",
      "Validation F-beta Score\n",
      "Class 0: 0.9820, Class 1: 0.7437, Class 2: 0.0900, Class 3: 0.5151, Class 4: 0.7325, Class 5: 0.3758, Class 6: 0.8949, \n",
      "Validation mIoU Score\n",
      "Class 0: 0.9686, Class 1: 0.4229, Class 2: 0.0594, Class 3: 0.2729, Class 4: 0.4936, Class 5: 0.2561, Class 6: 0.7986, \n",
      "\n",
      "Overall Mean Dice Score: 0.5899\n",
      "Overall Mean F-beta Score: 0.6524\n",
      "Overall Mean IoU Score: 0.4488\n",
      "Final_score: 0.4895\n",
      "Training Loss: 0.1760, Validation Loss: 0.2104, Validation hybrid_score: 0.4895\n",
      "Epoch 86/4000\n"
     ]
    },
    {
     "name": "stderr",
     "output_type": "stream",
     "text": [
      "Training: 100%|██████████| 132/132 [01:31<00:00,  1.44it/s, loss=0.162]\n",
      "Validation: 100%|██████████| 4/4 [00:02<00:00,  1.81it/s, loss=0.198]\n"
     ]
    },
    {
     "name": "stdout",
     "output_type": "stream",
     "text": [
      "Validation Dice Score\n",
      "Class 0: 0.9862, Class 1: 0.5782, Class 2: 0.1676, Class 3: 0.4519, Class 4: 0.7061, Class 5: 0.4038, Class 6: 0.9050, \n",
      "Validation F-beta Score\n",
      "Class 0: 0.9825, Class 1: 0.6269, Class 2: 0.1705, Class 3: 0.6197, Class 4: 0.7655, Class 5: 0.4649, Class 6: 0.9350, \n",
      "Validation mIoU Score\n",
      "Class 0: 0.9728, Class 1: 0.4708, Class 2: 0.0940, Class 3: 0.2949, Class 4: 0.5473, Class 5: 0.2553, Class 6: 0.8267, \n",
      "\n",
      "Overall Mean Dice Score: 0.6090\n",
      "Overall Mean F-beta Score: 0.6824\n",
      "Overall Mean IoU Score: 0.4790\n",
      "Final_score: 0.5197\n",
      "Training Loss: 0.1764, Validation Loss: 0.1995, Validation hybrid_score: 0.5197\n",
      "Epoch 87/4000\n"
     ]
    },
    {
     "name": "stderr",
     "output_type": "stream",
     "text": [
      "Training: 100%|██████████| 132/132 [01:39<00:00,  1.32it/s, loss=0.165]\n",
      "Validation: 100%|██████████| 4/4 [00:02<00:00,  1.78it/s, loss=0.21] \n"
     ]
    },
    {
     "name": "stdout",
     "output_type": "stream",
     "text": [
      "Validation Dice Score\n",
      "Class 0: 0.9857, Class 1: 0.7086, Class 2: 0.1819, Class 3: 0.4391, Class 4: 0.6851, Class 5: 0.4769, Class 6: 0.8915, \n",
      "Validation F-beta Score\n",
      "Class 0: 0.9830, Class 1: 0.8143, Class 2: 0.1734, Class 3: 0.5790, Class 4: 0.7836, Class 5: 0.4870, Class 6: 0.8901, \n",
      "Validation mIoU Score\n",
      "Class 0: 0.9718, Class 1: 0.5527, Class 2: 0.1015, Class 3: 0.2832, Class 4: 0.5263, Class 5: 0.3169, Class 6: 0.8044, \n",
      "\n",
      "Overall Mean Dice Score: 0.6402\n",
      "Overall Mean F-beta Score: 0.7108\n",
      "Overall Mean IoU Score: 0.4967\n",
      "Final_score: 0.5395\n",
      "Training Loss: 0.1751, Validation Loss: 0.2002, Validation hybrid_score: 0.5395\n",
      "Epoch 88/4000\n"
     ]
    },
    {
     "name": "stderr",
     "output_type": "stream",
     "text": [
      "Training: 100%|██████████| 132/132 [01:32<00:00,  1.43it/s, loss=0.173]\n",
      "Validation: 100%|██████████| 4/4 [00:02<00:00,  1.75it/s, loss=0.211]\n"
     ]
    },
    {
     "name": "stdout",
     "output_type": "stream",
     "text": [
      "Validation Dice Score\n",
      "Class 0: 0.9847, Class 1: 0.7231, Class 2: 0.0869, Class 3: 0.3357, Class 4: 0.7003, Class 5: 0.4865, Class 6: 0.8854, \n",
      "Validation F-beta Score\n",
      "Class 0: 0.9823, Class 1: 0.8053, Class 2: 0.1149, Class 3: 0.4634, Class 4: 0.7558, Class 5: 0.4635, Class 6: 0.9226, \n",
      "Validation mIoU Score\n",
      "Class 0: 0.9698, Class 1: 0.5679, Class 2: 0.0465, Class 3: 0.2067, Class 4: 0.5397, Class 5: 0.3241, Class 6: 0.7950, \n",
      "\n",
      "Overall Mean Dice Score: 0.6262\n",
      "Overall Mean F-beta Score: 0.6821\n",
      "Overall Mean IoU Score: 0.4867\n",
      "Final_score: 0.5258\n",
      "Training Loss: 0.1759, Validation Loss: 0.2081, Validation hybrid_score: 0.5258\n",
      "Epoch 89/4000\n"
     ]
    },
    {
     "name": "stderr",
     "output_type": "stream",
     "text": [
      "Training: 100%|██████████| 132/132 [01:31<00:00,  1.44it/s, loss=0.168]\n",
      "Validation: 100%|██████████| 4/4 [00:02<00:00,  1.76it/s, loss=0.215]\n"
     ]
    },
    {
     "name": "stdout",
     "output_type": "stream",
     "text": [
      "Validation Dice Score\n",
      "Class 0: 0.9857, Class 1: 0.7194, Class 2: 0.1589, Class 3: 0.4133, Class 4: 0.7076, Class 5: 0.3974, Class 6: 0.8977, \n",
      "Validation F-beta Score\n",
      "Class 0: 0.9837, Class 1: 0.7821, Class 2: 0.1505, Class 3: 0.5229, Class 4: 0.7620, Class 5: 0.4271, Class 6: 0.9199, \n",
      "Validation mIoU Score\n",
      "Class 0: 0.9718, Class 1: 0.5624, Class 2: 0.0867, Class 3: 0.2608, Class 4: 0.5491, Class 5: 0.2514, Class 6: 0.8147, \n",
      "\n",
      "Overall Mean Dice Score: 0.6271\n",
      "Overall Mean F-beta Score: 0.6828\n",
      "Overall Mean IoU Score: 0.4877\n",
      "Final_score: 0.5267\n",
      "Training Loss: 0.1765, Validation Loss: 0.2035, Validation hybrid_score: 0.5267\n",
      "Epoch 90/4000\n"
     ]
    },
    {
     "name": "stderr",
     "output_type": "stream",
     "text": [
      "Training: 100%|██████████| 132/132 [01:32<00:00,  1.42it/s, loss=0.165]\n",
      "Validation: 100%|██████████| 4/4 [00:02<00:00,  1.74it/s, loss=0.225]\n"
     ]
    },
    {
     "name": "stdout",
     "output_type": "stream",
     "text": [
      "Validation Dice Score\n",
      "Class 0: 0.9844, Class 1: 0.6695, Class 2: 0.2165, Class 3: 0.4532, Class 4: 0.7107, Class 5: 0.4200, Class 6: 0.8852, \n",
      "Validation F-beta Score\n",
      "Class 0: 0.9835, Class 1: 0.8673, Class 2: 0.2060, Class 3: 0.5567, Class 4: 0.7366, Class 5: 0.4318, Class 6: 0.9073, \n",
      "Validation mIoU Score\n",
      "Class 0: 0.9693, Class 1: 0.5096, Class 2: 0.1222, Class 3: 0.2955, Class 4: 0.5531, Class 5: 0.2668, Class 6: 0.7971, \n",
      "\n",
      "Overall Mean Dice Score: 0.6277\n",
      "Overall Mean F-beta Score: 0.6999\n",
      "Overall Mean IoU Score: 0.4844\n",
      "Final_score: 0.5275\n",
      "Training Loss: 0.1759, Validation Loss: 0.2084, Validation hybrid_score: 0.5275\n",
      "Epoch 91/4000\n"
     ]
    },
    {
     "name": "stderr",
     "output_type": "stream",
     "text": [
      "Training: 100%|██████████| 132/132 [01:40<00:00,  1.31it/s, loss=0.166]\n",
      "Validation: 100%|██████████| 4/4 [00:02<00:00,  1.79it/s, loss=0.206]\n"
     ]
    },
    {
     "name": "stdout",
     "output_type": "stream",
     "text": [
      "Validation Dice Score\n",
      "Class 0: 0.9866, Class 1: 0.7167, Class 2: 0.0594, Class 3: 0.3292, Class 4: 0.7059, Class 5: 0.4504, Class 6: 0.9016, \n",
      "Validation F-beta Score\n",
      "Class 0: 0.9852, Class 1: 0.8090, Class 2: 0.0900, Class 3: 0.5230, Class 4: 0.8110, Class 5: 0.3930, Class 6: 0.8956, \n",
      "Validation mIoU Score\n",
      "Class 0: 0.9736, Class 1: 0.5635, Class 2: 0.0313, Class 3: 0.1976, Class 4: 0.5568, Class 5: 0.2915, Class 6: 0.8222, \n",
      "\n",
      "Overall Mean Dice Score: 0.6208\n",
      "Overall Mean F-beta Score: 0.6863\n",
      "Overall Mean IoU Score: 0.4863\n",
      "Final_score: 0.5263\n",
      "Training Loss: 0.1764, Validation Loss: 0.2034, Validation hybrid_score: 0.5263\n",
      "Epoch 92/4000\n"
     ]
    },
    {
     "name": "stderr",
     "output_type": "stream",
     "text": [
      "Training: 100%|██████████| 132/132 [01:33<00:00,  1.42it/s, loss=0.169]\n",
      "Validation: 100%|██████████| 4/4 [00:02<00:00,  1.78it/s, loss=0.198]\n"
     ]
    },
    {
     "name": "stdout",
     "output_type": "stream",
     "text": [
      "Validation Dice Score\n",
      "Class 0: 0.9853, Class 1: 0.5952, Class 2: 0.1101, Class 3: 0.3882, Class 4: 0.7223, Class 5: 0.4428, Class 6: 0.8682, \n",
      "Validation F-beta Score\n",
      "Class 0: 0.9839, Class 1: 0.7868, Class 2: 0.1057, Class 3: 0.4928, Class 4: 0.7521, Class 5: 0.4563, Class 6: 0.9211, \n",
      "Validation mIoU Score\n",
      "Class 0: 0.9710, Class 1: 0.4240, Class 2: 0.0594, Class 3: 0.2469, Class 4: 0.5656, Class 5: 0.2849, Class 6: 0.7730, \n",
      "\n",
      "Overall Mean Dice Score: 0.6033\n",
      "Overall Mean F-beta Score: 0.6818\n",
      "Overall Mean IoU Score: 0.4589\n",
      "Final_score: 0.5035\n",
      "Training Loss: 0.1759, Validation Loss: 0.2036, Validation hybrid_score: 0.5035\n",
      "Epoch 93/4000\n"
     ]
    },
    {
     "name": "stderr",
     "output_type": "stream",
     "text": [
      "Training: 100%|██████████| 132/132 [01:33<00:00,  1.41it/s, loss=0.16] \n",
      "Validation: 100%|██████████| 4/4 [00:02<00:00,  1.79it/s, loss=0.22] \n"
     ]
    },
    {
     "name": "stdout",
     "output_type": "stream",
     "text": [
      "Validation Dice Score\n",
      "Class 0: 0.9857, Class 1: 0.6416, Class 2: 0.0661, Class 3: 0.4420, Class 4: 0.6744, Class 5: 0.3876, Class 6: 0.8846, \n",
      "Validation F-beta Score\n",
      "Class 0: 0.9851, Class 1: 0.7221, Class 2: 0.0774, Class 3: 0.5261, Class 4: 0.6958, Class 5: 0.3841, Class 6: 0.8999, \n",
      "Validation mIoU Score\n",
      "Class 0: 0.9718, Class 1: 0.4894, Class 2: 0.0354, Class 3: 0.2878, Class 4: 0.5089, Class 5: 0.2427, Class 6: 0.7952, \n",
      "\n",
      "Overall Mean Dice Score: 0.6060\n",
      "Overall Mean F-beta Score: 0.6456\n",
      "Overall Mean IoU Score: 0.4648\n",
      "Final_score: 0.5010\n",
      "Training Loss: 0.1758, Validation Loss: 0.2047, Validation hybrid_score: 0.5010\n",
      "Epoch 94/4000\n"
     ]
    },
    {
     "name": "stderr",
     "output_type": "stream",
     "text": [
      "Training: 100%|██████████| 132/132 [01:36<00:00,  1.37it/s, loss=0.173]\n",
      "Validation: 100%|██████████| 4/4 [00:02<00:00,  1.51it/s, loss=0.198]\n"
     ]
    },
    {
     "name": "stdout",
     "output_type": "stream",
     "text": [
      "Validation Dice Score\n",
      "Class 0: 0.9869, Class 1: 0.6081, Class 2: 0.0656, Class 3: 0.4515, Class 4: 0.6149, Class 5: 0.3673, Class 6: 0.8641, \n",
      "Validation F-beta Score\n",
      "Class 0: 0.9863, Class 1: 0.7321, Class 2: 0.0640, Class 3: 0.5517, Class 4: 0.7033, Class 5: 0.3190, Class 6: 0.8637, \n",
      "Validation mIoU Score\n",
      "Class 0: 0.9742, Class 1: 0.4480, Class 2: 0.0350, Class 3: 0.2920, Class 4: 0.4563, Class 5: 0.2292, Class 6: 0.7631, \n",
      "\n",
      "Overall Mean Dice Score: 0.5812\n",
      "Overall Mean F-beta Score: 0.6340\n",
      "Overall Mean IoU Score: 0.4377\n",
      "Final_score: 0.4770\n",
      "Training Loss: 0.1749, Validation Loss: 0.1992, Validation hybrid_score: 0.4770\n",
      "Epoch 95/4000\n"
     ]
    },
    {
     "name": "stderr",
     "output_type": "stream",
     "text": [
      "Training: 100%|██████████| 132/132 [01:42<00:00,  1.29it/s, loss=0.172]\n",
      "Validation: 100%|██████████| 4/4 [00:02<00:00,  1.57it/s, loss=0.202]\n"
     ]
    },
    {
     "name": "stdout",
     "output_type": "stream",
     "text": [
      "Validation Dice Score\n",
      "Class 0: 0.9873, Class 1: 0.6619, Class 2: 0.1532, Class 3: 0.4207, Class 4: 0.6491, Class 5: 0.4920, Class 6: 0.8919, \n",
      "Validation F-beta Score\n",
      "Class 0: 0.9873, Class 1: 0.7905, Class 2: 0.1472, Class 3: 0.5233, Class 4: 0.6748, Class 5: 0.4482, Class 6: 0.9066, \n",
      "Validation mIoU Score\n",
      "Class 0: 0.9750, Class 1: 0.5059, Class 2: 0.0858, Class 3: 0.2673, Class 4: 0.4854, Class 5: 0.3271, Class 6: 0.8071, \n",
      "\n",
      "Overall Mean Dice Score: 0.6231\n",
      "Overall Mean F-beta Score: 0.6687\n",
      "Overall Mean IoU Score: 0.4786\n",
      "Final_score: 0.5166\n",
      "Training Loss: 0.1747, Validation Loss: 0.1972, Validation hybrid_score: 0.5166\n",
      "Epoch 96/4000\n"
     ]
    },
    {
     "name": "stderr",
     "output_type": "stream",
     "text": [
      "Training: 100%|██████████| 132/132 [01:41<00:00,  1.30it/s, loss=0.16] \n",
      "Validation: 100%|██████████| 4/4 [00:02<00:00,  1.78it/s, loss=0.194]\n"
     ]
    },
    {
     "name": "stdout",
     "output_type": "stream",
     "text": [
      "Validation Dice Score\n",
      "Class 0: 0.9875, Class 1: 0.6751, Class 2: 0.0556, Class 3: 0.3693, Class 4: 0.6902, Class 5: 0.3392, Class 6: 0.8973, \n",
      "Validation F-beta Score\n",
      "Class 0: 0.9857, Class 1: 0.7646, Class 2: 0.0506, Class 3: 0.4176, Class 4: 0.7602, Class 5: 0.3223, Class 6: 0.9094, \n",
      "Validation mIoU Score\n",
      "Class 0: 0.9753, Class 1: 0.5101, Class 2: 0.0313, Class 3: 0.2396, Class 4: 0.5283, Class 5: 0.2122, Class 6: 0.8138, \n",
      "\n",
      "Overall Mean Dice Score: 0.5942\n",
      "Overall Mean F-beta Score: 0.6348\n",
      "Overall Mean IoU Score: 0.4608\n",
      "Final_score: 0.4956\n",
      "Training Loss: 0.1753, Validation Loss: 0.1957, Validation hybrid_score: 0.4956\n",
      "Epoch 97/4000\n"
     ]
    },
    {
     "name": "stderr",
     "output_type": "stream",
     "text": [
      "Training: 100%|██████████| 132/132 [01:32<00:00,  1.42it/s, loss=0.166]\n",
      "Validation: 100%|██████████| 4/4 [00:04<00:00,  1.08s/it, loss=0.193]\n"
     ]
    },
    {
     "name": "stdout",
     "output_type": "stream",
     "text": [
      "Validation Dice Score\n",
      "Class 0: 0.9871, Class 1: 0.6901, Class 2: 0.0621, Class 3: 0.3655, Class 4: 0.6091, Class 5: 0.3615, Class 6: 0.8946, \n",
      "Validation F-beta Score\n",
      "Class 0: 0.9868, Class 1: 0.7993, Class 2: 0.0651, Class 3: 0.4241, Class 4: 0.6780, Class 5: 0.3172, Class 6: 0.8801, \n",
      "Validation mIoU Score\n",
      "Class 0: 0.9746, Class 1: 0.5288, Class 2: 0.0333, Class 3: 0.2296, Class 4: 0.4491, Class 5: 0.2228, Class 6: 0.8094, \n",
      "\n",
      "Overall Mean Dice Score: 0.5841\n",
      "Overall Mean F-beta Score: 0.6198\n",
      "Overall Mean IoU Score: 0.4479\n",
      "Final_score: 0.4823\n",
      "Training Loss: 0.1753, Validation Loss: 0.1991, Validation hybrid_score: 0.4823\n",
      "Epoch 98/4000\n"
     ]
    },
    {
     "name": "stderr",
     "output_type": "stream",
     "text": [
      "Training: 100%|██████████| 132/132 [01:31<00:00,  1.44it/s, loss=0.162]\n",
      "Validation: 100%|██████████| 4/4 [00:02<00:00,  1.82it/s, loss=0.22] \n"
     ]
    },
    {
     "name": "stdout",
     "output_type": "stream",
     "text": [
      "Validation Dice Score\n",
      "Class 0: 0.9875, Class 1: 0.6661, Class 2: 0.0469, Class 3: 0.3981, Class 4: 0.6581, Class 5: 0.4683, Class 6: 0.8576, \n",
      "Validation F-beta Score\n",
      "Class 0: 0.9874, Class 1: 0.7395, Class 2: 0.0384, Class 3: 0.4638, Class 4: 0.6963, Class 5: 0.4395, Class 6: 0.8925, \n",
      "Validation mIoU Score\n",
      "Class 0: 0.9753, Class 1: 0.5038, Class 2: 0.0246, Class 3: 0.2515, Class 4: 0.4909, Class 5: 0.3116, Class 6: 0.7582, \n",
      "\n",
      "Overall Mean Dice Score: 0.6097\n",
      "Overall Mean F-beta Score: 0.6464\n",
      "Overall Mean IoU Score: 0.4632\n",
      "Final_score: 0.4998\n",
      "Training Loss: 0.1738, Validation Loss: 0.1944, Validation hybrid_score: 0.4998\n",
      "Epoch 99/4000\n"
     ]
    },
    {
     "name": "stderr",
     "output_type": "stream",
     "text": [
      "Training: 100%|██████████| 132/132 [01:34<00:00,  1.40it/s, loss=0.166]\n",
      "Validation: 100%|██████████| 4/4 [00:02<00:00,  1.73it/s, loss=0.191]\n"
     ]
    },
    {
     "name": "stdout",
     "output_type": "stream",
     "text": [
      "Validation Dice Score\n",
      "Class 0: 0.9871, Class 1: 0.6790, Class 2: 0.0731, Class 3: 0.4407, Class 4: 0.7270, Class 5: 0.3874, Class 6: 0.9021, \n",
      "Validation F-beta Score\n",
      "Class 0: 0.9859, Class 1: 0.7636, Class 2: 0.0529, Class 3: 0.5146, Class 4: 0.8029, Class 5: 0.3740, Class 6: 0.9086, \n",
      "Validation mIoU Score\n",
      "Class 0: 0.9746, Class 1: 0.5166, Class 2: 0.0387, Class 3: 0.2840, Class 4: 0.5756, Class 5: 0.2413, Class 6: 0.8230, \n",
      "\n",
      "Overall Mean Dice Score: 0.6272\n",
      "Overall Mean F-beta Score: 0.6727\n",
      "Overall Mean IoU Score: 0.4881\n",
      "Final_score: 0.5250\n",
      "Training Loss: 0.1750, Validation Loss: 0.1975, Validation hybrid_score: 0.5250\n",
      "Epoch 100/4000\n"
     ]
    },
    {
     "name": "stderr",
     "output_type": "stream",
     "text": [
      "Training: 100%|██████████| 132/132 [01:31<00:00,  1.44it/s, loss=0.168]\n",
      "Validation: 100%|██████████| 4/4 [00:02<00:00,  1.84it/s, loss=0.197]\n"
     ]
    },
    {
     "name": "stdout",
     "output_type": "stream",
     "text": [
      "Validation Dice Score\n",
      "Class 0: 0.9860, Class 1: 0.6779, Class 2: 0.0701, Class 3: 0.5276, Class 4: 0.6891, Class 5: 0.3417, Class 6: 0.8806, \n",
      "Validation F-beta Score\n",
      "Class 0: 0.9860, Class 1: 0.7970, Class 2: 0.0823, Class 3: 0.6291, Class 4: 0.7288, Class 5: 0.3240, Class 6: 0.9043, \n",
      "Validation mIoU Score\n",
      "Class 0: 0.9724, Class 1: 0.5152, Class 2: 0.0372, Class 3: 0.3626, Class 4: 0.5257, Class 5: 0.2100, Class 6: 0.7881, \n",
      "\n",
      "Overall Mean Dice Score: 0.6234\n",
      "Overall Mean F-beta Score: 0.6767\n",
      "Overall Mean IoU Score: 0.4803\n",
      "Final_score: 0.5196\n",
      "Training Loss: 0.1744, Validation Loss: 0.1991, Validation hybrid_score: 0.5196\n",
      "Epoch 101/4000\n"
     ]
    },
    {
     "name": "stderr",
     "output_type": "stream",
     "text": [
      "Training: 100%|██████████| 132/132 [01:44<00:00,  1.27it/s, loss=0.179]\n",
      "Validation: 100%|██████████| 4/4 [00:02<00:00,  1.66it/s, loss=0.22] \n"
     ]
    },
    {
     "name": "stdout",
     "output_type": "stream",
     "text": [
      "Validation Dice Score\n",
      "Class 0: 0.9863, Class 1: 0.6721, Class 2: 0.1270, Class 3: 0.3672, Class 4: 0.7290, Class 5: 0.3422, Class 6: 0.8998, \n",
      "Validation F-beta Score\n",
      "Class 0: 0.9885, Class 1: 0.7945, Class 2: 0.1067, Class 3: 0.4791, Class 4: 0.7228, Class 5: 0.2873, Class 6: 0.9075, \n",
      "Validation mIoU Score\n",
      "Class 0: 0.9729, Class 1: 0.5102, Class 2: 0.0698, Class 3: 0.2259, Class 4: 0.5751, Class 5: 0.2094, Class 6: 0.8190, \n",
      "\n",
      "Overall Mean Dice Score: 0.6020\n",
      "Overall Mean F-beta Score: 0.6382\n",
      "Overall Mean IoU Score: 0.4679\n",
      "Final_score: 0.5020\n",
      "Training Loss: 0.1745, Validation Loss: 0.2019, Validation hybrid_score: 0.5020\n",
      "Epoch 102/4000\n"
     ]
    },
    {
     "name": "stderr",
     "output_type": "stream",
     "text": [
      "Training: 100%|██████████| 132/132 [01:36<00:00,  1.36it/s, loss=0.162]\n",
      "Validation: 100%|██████████| 4/4 [00:02<00:00,  1.56it/s, loss=0.202]\n"
     ]
    },
    {
     "name": "stdout",
     "output_type": "stream",
     "text": [
      "Validation Dice Score\n",
      "Class 0: 0.9871, Class 1: 0.6727, Class 2: 0.0555, Class 3: 0.4667, Class 4: 0.6787, Class 5: 0.3679, Class 6: 0.8986, \n",
      "Validation F-beta Score\n",
      "Class 0: 0.9869, Class 1: 0.7692, Class 2: 0.0655, Class 3: 0.6131, Class 4: 0.7083, Class 5: 0.3419, Class 6: 0.8813, \n",
      "Validation mIoU Score\n",
      "Class 0: 0.9744, Class 1: 0.5095, Class 2: 0.0292, Class 3: 0.3059, Class 4: 0.5162, Class 5: 0.2303, Class 6: 0.8163, \n",
      "\n",
      "Overall Mean Dice Score: 0.6169\n",
      "Overall Mean F-beta Score: 0.6627\n",
      "Overall Mean IoU Score: 0.4756\n",
      "Final_score: 0.5131\n",
      "Training Loss: 0.1740, Validation Loss: 0.1990, Validation hybrid_score: 0.5131\n",
      "Epoch 103/4000\n"
     ]
    },
    {
     "name": "stderr",
     "output_type": "stream",
     "text": [
      "Training: 100%|██████████| 132/132 [01:48<00:00,  1.22it/s, loss=0.17] \n",
      "Validation: 100%|██████████| 4/4 [00:02<00:00,  1.82it/s, loss=0.208]\n"
     ]
    },
    {
     "name": "stdout",
     "output_type": "stream",
     "text": [
      "Validation Dice Score\n",
      "Class 0: 0.9873, Class 1: 0.6227, Class 2: 0.0203, Class 3: 0.4348, Class 4: 0.7295, Class 5: 0.3754, Class 6: 0.9076, \n",
      "Validation F-beta Score\n",
      "Class 0: 0.9891, Class 1: 0.7375, Class 2: 0.0171, Class 3: 0.5076, Class 4: 0.7046, Class 5: 0.3490, Class 6: 0.8992, \n",
      "Validation mIoU Score\n",
      "Class 0: 0.9749, Class 1: 0.4681, Class 2: 0.0103, Class 3: 0.2856, Class 4: 0.5751, Class 5: 0.2369, Class 6: 0.8308, \n",
      "\n",
      "Overall Mean Dice Score: 0.6140\n",
      "Overall Mean F-beta Score: 0.6396\n",
      "Overall Mean IoU Score: 0.4793\n",
      "Final_score: 0.5114\n",
      "Training Loss: 0.1750, Validation Loss: 0.1958, Validation hybrid_score: 0.5114\n",
      "Epoch 104/4000\n"
     ]
    },
    {
     "name": "stderr",
     "output_type": "stream",
     "text": [
      "Training: 100%|██████████| 132/132 [02:15<00:00,  1.03s/it, loss=0.165]\n",
      "Validation: 100%|██████████| 4/4 [00:04<00:00,  1.03s/it, loss=0.212]\n"
     ]
    },
    {
     "name": "stdout",
     "output_type": "stream",
     "text": [
      "Validation Dice Score\n",
      "Class 0: 0.9876, Class 1: 0.7130, Class 2: 0.0548, Class 3: 0.4038, Class 4: 0.6778, Class 5: 0.2495, Class 6: 0.9046, \n",
      "Validation F-beta Score\n",
      "Class 0: 0.9873, Class 1: 0.7994, Class 2: 0.0483, Class 3: 0.4475, Class 4: 0.7322, Class 5: 0.2343, Class 6: 0.9040, \n",
      "Validation mIoU Score\n",
      "Class 0: 0.9756, Class 1: 0.5561, Class 2: 0.0294, Class 3: 0.2535, Class 4: 0.5163, Class 5: 0.1439, Class 6: 0.8263, \n",
      "\n",
      "Overall Mean Dice Score: 0.5897\n",
      "Overall Mean F-beta Score: 0.6235\n",
      "Overall Mean IoU Score: 0.4592\n",
      "Final_score: 0.4921\n",
      "Training Loss: 0.1741, Validation Loss: 0.1967, Validation hybrid_score: 0.4921\n",
      "Epoch 105/4000\n"
     ]
    },
    {
     "name": "stderr",
     "output_type": "stream",
     "text": [
      "Training: 100%|██████████| 132/132 [02:04<00:00,  1.06it/s, loss=0.166]\n",
      "Validation: 100%|██████████| 4/4 [00:02<00:00,  1.56it/s, loss=0.195]\n"
     ]
    },
    {
     "name": "stdout",
     "output_type": "stream",
     "text": [
      "Validation Dice Score\n",
      "Class 0: 0.9872, Class 1: 0.7251, Class 2: 0.1047, Class 3: 0.3998, Class 4: 0.6996, Class 5: 0.4143, Class 6: 0.8946, \n",
      "Validation F-beta Score\n",
      "Class 0: 0.9884, Class 1: 0.8488, Class 2: 0.0816, Class 3: 0.5225, Class 4: 0.6832, Class 5: 0.3792, Class 6: 0.9241, \n",
      "Validation mIoU Score\n",
      "Class 0: 0.9746, Class 1: 0.5702, Class 2: 0.0585, Class 3: 0.2561, Class 4: 0.5420, Class 5: 0.2641, Class 6: 0.8099, \n",
      "\n",
      "Overall Mean Dice Score: 0.6267\n",
      "Overall Mean F-beta Score: 0.6716\n",
      "Overall Mean IoU Score: 0.4885\n",
      "Final_score: 0.5251\n",
      "Training Loss: 0.1731, Validation Loss: 0.1968, Validation hybrid_score: 0.5251\n",
      "Epoch 106/4000\n"
     ]
    },
    {
     "name": "stderr",
     "output_type": "stream",
     "text": [
      "Training: 100%|██████████| 132/132 [01:41<00:00,  1.30it/s, loss=0.167]\n",
      "Validation: 100%|██████████| 4/4 [00:02<00:00,  1.56it/s, loss=0.204]\n"
     ]
    },
    {
     "name": "stdout",
     "output_type": "stream",
     "text": [
      "Validation Dice Score\n",
      "Class 0: 0.9875, Class 1: 0.6694, Class 2: 0.1656, Class 3: 0.4693, Class 4: 0.7260, Class 5: 0.3595, Class 6: 0.9134, \n",
      "Validation F-beta Score\n",
      "Class 0: 0.9869, Class 1: 0.8137, Class 2: 0.1329, Class 3: 0.5460, Class 4: 0.7780, Class 5: 0.3275, Class 6: 0.9434, \n",
      "Validation mIoU Score\n",
      "Class 0: 0.9753, Class 1: 0.5039, Class 2: 0.0918, Class 3: 0.3085, Class 4: 0.5712, Class 5: 0.2202, Class 6: 0.8409, \n",
      "\n",
      "Overall Mean Dice Score: 0.6275\n",
      "Overall Mean F-beta Score: 0.6817\n",
      "Overall Mean IoU Score: 0.4889\n",
      "Final_score: 0.5275\n",
      "Training Loss: 0.1738, Validation Loss: 0.1987, Validation hybrid_score: 0.5275\n",
      "Epoch 107/4000\n"
     ]
    },
    {
     "name": "stderr",
     "output_type": "stream",
     "text": [
      "Training: 100%|██████████| 132/132 [01:40<00:00,  1.31it/s, loss=0.159]\n",
      "Validation: 100%|██████████| 4/4 [00:02<00:00,  1.77it/s, loss=0.199]\n"
     ]
    },
    {
     "name": "stdout",
     "output_type": "stream",
     "text": [
      "Validation Dice Score\n",
      "Class 0: 0.9882, Class 1: 0.7129, Class 2: 0.0413, Class 3: 0.3913, Class 4: 0.6919, Class 5: 0.4140, Class 6: 0.8580, \n",
      "Validation F-beta Score\n",
      "Class 0: 0.9877, Class 1: 0.8051, Class 2: 0.0332, Class 3: 0.4557, Class 4: 0.7501, Class 5: 0.3875, Class 6: 0.8755, \n",
      "Validation mIoU Score\n",
      "Class 0: 0.9766, Class 1: 0.5580, Class 2: 0.0213, Class 3: 0.2446, Class 4: 0.5328, Class 5: 0.2663, Class 6: 0.7535, \n",
      "\n",
      "Overall Mean Dice Score: 0.6136\n",
      "Overall Mean F-beta Score: 0.6548\n",
      "Overall Mean IoU Score: 0.4710\n",
      "Final_score: 0.5078\n",
      "Training Loss: 0.1735, Validation Loss: 0.1986, Validation hybrid_score: 0.5078\n",
      "Epoch 108/4000\n"
     ]
    },
    {
     "name": "stderr",
     "output_type": "stream",
     "text": [
      "Training: 100%|██████████| 132/132 [01:32<00:00,  1.43it/s, loss=0.157]\n",
      "Validation: 100%|██████████| 4/4 [00:02<00:00,  1.70it/s, loss=0.188]\n"
     ]
    },
    {
     "name": "stdout",
     "output_type": "stream",
     "text": [
      "Validation Dice Score\n",
      "Class 0: 0.9869, Class 1: 0.7124, Class 2: 0.0905, Class 3: 0.3848, Class 4: 0.6946, Class 5: 0.4121, Class 6: 0.8880, \n",
      "Validation F-beta Score\n",
      "Class 0: 0.9870, Class 1: 0.7985, Class 2: 0.0686, Class 3: 0.4483, Class 4: 0.6788, Class 5: 0.4092, Class 6: 0.9138, \n",
      "Validation mIoU Score\n",
      "Class 0: 0.9742, Class 1: 0.5549, Class 2: 0.0496, Class 3: 0.2399, Class 4: 0.5336, Class 5: 0.2601, Class 6: 0.7994, \n",
      "\n",
      "Overall Mean Dice Score: 0.6184\n",
      "Overall Mean F-beta Score: 0.6497\n",
      "Overall Mean IoU Score: 0.4776\n",
      "Final_score: 0.5120\n",
      "Training Loss: 0.1736, Validation Loss: 0.1970, Validation hybrid_score: 0.5120\n",
      "Epoch 109/4000\n"
     ]
    },
    {
     "name": "stderr",
     "output_type": "stream",
     "text": [
      "Training: 100%|██████████| 132/132 [01:32<00:00,  1.43it/s, loss=0.166]\n",
      "Validation: 100%|██████████| 4/4 [00:02<00:00,  1.72it/s, loss=0.201]\n"
     ]
    },
    {
     "name": "stdout",
     "output_type": "stream",
     "text": [
      "Validation Dice Score\n",
      "Class 0: 0.9859, Class 1: 0.7286, Class 2: 0.1376, Class 3: 0.4477, Class 4: 0.7074, Class 5: 0.3795, Class 6: 0.8778, \n",
      "Validation F-beta Score\n",
      "Class 0: 0.9855, Class 1: 0.8005, Class 2: 0.1534, Class 3: 0.5174, Class 4: 0.7010, Class 5: 0.3810, Class 6: 0.9227, \n",
      "Validation mIoU Score\n",
      "Class 0: 0.9721, Class 1: 0.5789, Class 2: 0.0763, Class 3: 0.2889, Class 4: 0.5516, Class 5: 0.2370, Class 6: 0.7914, \n",
      "\n",
      "Overall Mean Dice Score: 0.6282\n",
      "Overall Mean F-beta Score: 0.6645\n",
      "Overall Mean IoU Score: 0.4896\n",
      "Final_score: 0.5245\n",
      "Training Loss: 0.1735, Validation Loss: 0.2001, Validation hybrid_score: 0.5245\n",
      "Epoch 110/4000\n"
     ]
    },
    {
     "name": "stderr",
     "output_type": "stream",
     "text": [
      "Training: 100%|██████████| 132/132 [01:35<00:00,  1.38it/s, loss=0.163]\n",
      "Validation: 100%|██████████| 4/4 [00:08<00:00,  2.21s/it, loss=0.194]\n"
     ]
    },
    {
     "name": "stdout",
     "output_type": "stream",
     "text": [
      "Validation Dice Score\n",
      "Class 0: 0.9878, Class 1: 0.6486, Class 2: 0.0943, Class 3: 0.4700, Class 4: 0.7001, Class 5: 0.3728, Class 6: 0.8977, \n",
      "Validation F-beta Score\n",
      "Class 0: 0.9869, Class 1: 0.7941, Class 2: 0.0735, Class 3: 0.4918, Class 4: 0.7390, Class 5: 0.3701, Class 6: 0.9140, \n",
      "Validation mIoU Score\n",
      "Class 0: 0.9758, Class 1: 0.4892, Class 2: 0.0505, Class 3: 0.3112, Class 4: 0.5416, Class 5: 0.2328, Class 6: 0.8152, \n",
      "\n",
      "Overall Mean Dice Score: 0.6179\n",
      "Overall Mean F-beta Score: 0.6618\n",
      "Overall Mean IoU Score: 0.4780\n",
      "Final_score: 0.5148\n",
      "Training Loss: 0.1737, Validation Loss: 0.1933, Validation hybrid_score: 0.5148\n",
      "Epoch 111/4000\n"
     ]
    },
    {
     "name": "stderr",
     "output_type": "stream",
     "text": [
      "Training: 100%|██████████| 132/132 [01:34<00:00,  1.40it/s, loss=0.168]\n",
      "Validation: 100%|██████████| 4/4 [00:02<00:00,  1.77it/s, loss=0.206]\n"
     ]
    },
    {
     "name": "stdout",
     "output_type": "stream",
     "text": [
      "Validation Dice Score\n",
      "Class 0: 0.9860, Class 1: 0.6301, Class 2: 0.1220, Class 3: 0.4521, Class 4: 0.7191, Class 5: 0.4242, Class 6: 0.8702, \n",
      "Validation F-beta Score\n",
      "Class 0: 0.9852, Class 1: 0.7567, Class 2: 0.0969, Class 3: 0.5297, Class 4: 0.7296, Class 5: 0.4182, Class 6: 0.8851, \n",
      "Validation mIoU Score\n",
      "Class 0: 0.9724, Class 1: 0.4725, Class 2: 0.0679, Class 3: 0.2949, Class 4: 0.5661, Class 5: 0.2705, Class 6: 0.7715, \n",
      "\n",
      "Overall Mean Dice Score: 0.6192\n",
      "Overall Mean F-beta Score: 0.6638\n",
      "Overall Mean IoU Score: 0.4751\n",
      "Final_score: 0.5129\n",
      "Training Loss: 0.1731, Validation Loss: 0.2035, Validation hybrid_score: 0.5129\n",
      "Epoch 112/4000\n"
     ]
    },
    {
     "name": "stderr",
     "output_type": "stream",
     "text": [
      "Training: 100%|██████████| 132/132 [01:31<00:00,  1.44it/s, loss=0.163]\n",
      "Validation: 100%|██████████| 4/4 [00:02<00:00,  1.73it/s, loss=0.214]\n"
     ]
    },
    {
     "name": "stdout",
     "output_type": "stream",
     "text": [
      "Validation Dice Score\n",
      "Class 0: 0.9857, Class 1: 0.6395, Class 2: 0.1162, Class 3: 0.3936, Class 4: 0.6791, Class 5: 0.3060, Class 6: 0.8973, \n",
      "Validation F-beta Score\n",
      "Class 0: 0.9851, Class 1: 0.8251, Class 2: 0.0916, Class 3: 0.4565, Class 4: 0.7401, Class 5: 0.2850, Class 6: 0.9335, \n",
      "Validation mIoU Score\n",
      "Class 0: 0.9718, Class 1: 0.4707, Class 2: 0.0632, Class 3: 0.2465, Class 4: 0.5188, Class 5: 0.1830, Class 6: 0.8139, \n",
      "\n",
      "Overall Mean Dice Score: 0.5831\n",
      "Overall Mean F-beta Score: 0.6480\n",
      "Overall Mean IoU Score: 0.4466\n",
      "Final_score: 0.4869\n",
      "Training Loss: 0.1738, Validation Loss: 0.2037, Validation hybrid_score: 0.4869\n",
      "Epoch 113/4000\n"
     ]
    },
    {
     "name": "stderr",
     "output_type": "stream",
     "text": [
      "Training: 100%|██████████| 132/132 [01:32<00:00,  1.43it/s, loss=0.169]\n",
      "Validation: 100%|██████████| 4/4 [00:02<00:00,  1.72it/s, loss=0.191]\n"
     ]
    },
    {
     "name": "stdout",
     "output_type": "stream",
     "text": [
      "Validation Dice Score\n",
      "Class 0: 0.9879, Class 1: 0.6864, Class 2: 0.1998, Class 3: 0.3751, Class 4: 0.7205, Class 5: 0.4342, Class 6: 0.9087, \n",
      "Validation F-beta Score\n",
      "Class 0: 0.9873, Class 1: 0.8279, Class 2: 0.2010, Class 3: 0.4488, Class 4: 0.7331, Class 5: 0.4289, Class 6: 0.9323, \n",
      "Validation mIoU Score\n",
      "Class 0: 0.9762, Class 1: 0.5330, Class 2: 0.1115, Class 3: 0.2335, Class 4: 0.5643, Class 5: 0.2774, Class 6: 0.8339, \n",
      "\n",
      "Overall Mean Dice Score: 0.6250\n",
      "Overall Mean F-beta Score: 0.6742\n",
      "Overall Mean IoU Score: 0.4884\n",
      "Final_score: 0.5256\n",
      "Training Loss: 0.1730, Validation Loss: 0.1957, Validation hybrid_score: 0.5256\n",
      "Epoch 114/4000\n"
     ]
    },
    {
     "name": "stderr",
     "output_type": "stream",
     "text": [
      "Training: 100%|██████████| 132/132 [01:39<00:00,  1.33it/s, loss=0.168]\n",
      "Validation: 100%|██████████| 4/4 [00:07<00:00,  1.90s/it, loss=0.189]\n"
     ]
    },
    {
     "name": "stdout",
     "output_type": "stream",
     "text": [
      "Validation Dice Score\n",
      "Class 0: 0.9885, Class 1: 0.6661, Class 2: 0.1055, Class 3: 0.4607, Class 4: 0.7366, Class 5: 0.3948, Class 6: 0.8846, \n",
      "Validation F-beta Score\n",
      "Class 0: 0.9876, Class 1: 0.8089, Class 2: 0.0938, Class 3: 0.5036, Class 4: 0.7945, Class 5: 0.3765, Class 6: 0.8925, \n",
      "Validation mIoU Score\n",
      "Class 0: 0.9772, Class 1: 0.5073, Class 2: 0.0560, Class 3: 0.3004, Class 4: 0.5852, Class 5: 0.2574, Class 6: 0.7959, \n",
      "\n",
      "Overall Mean Dice Score: 0.6286\n",
      "Overall Mean F-beta Score: 0.6752\n",
      "Overall Mean IoU Score: 0.4892\n",
      "Final_score: 0.5264\n",
      "Training Loss: 0.1729, Validation Loss: 0.1901, Validation hybrid_score: 0.5264\n",
      "========================================================\n",
      "SUPER Best model saved. Loss:0.1901, Score:0.5264\n",
      "========================================================\n",
      "Epoch 115/4000\n"
     ]
    },
    {
     "name": "stderr",
     "output_type": "stream",
     "text": [
      "Training: 100%|██████████| 132/132 [01:33<00:00,  1.41it/s, loss=0.16] \n",
      "Validation: 100%|██████████| 4/4 [00:02<00:00,  1.78it/s, loss=0.21] \n"
     ]
    },
    {
     "name": "stdout",
     "output_type": "stream",
     "text": [
      "Validation Dice Score\n",
      "Class 0: 0.9863, Class 1: 0.6546, Class 2: 0.0958, Class 3: 0.4589, Class 4: 0.6804, Class 5: 0.3871, Class 6: 0.8595, \n",
      "Validation F-beta Score\n",
      "Class 0: 0.9850, Class 1: 0.7942, Class 2: 0.0975, Class 3: 0.6518, Class 4: 0.7467, Class 5: 0.3629, Class 6: 0.8795, \n",
      "Validation mIoU Score\n",
      "Class 0: 0.9729, Class 1: 0.4902, Class 2: 0.0516, Class 3: 0.3007, Class 4: 0.5208, Class 5: 0.2430, Class 6: 0.7555, \n",
      "\n",
      "Overall Mean Dice Score: 0.6081\n",
      "Overall Mean F-beta Score: 0.6870\n",
      "Overall Mean IoU Score: 0.4620\n",
      "Final_score: 0.5070\n",
      "Training Loss: 0.1737, Validation Loss: 0.2053, Validation hybrid_score: 0.5070\n",
      "Epoch 116/4000\n"
     ]
    },
    {
     "name": "stderr",
     "output_type": "stream",
     "text": [
      "Training: 100%|██████████| 132/132 [01:32<00:00,  1.43it/s, loss=0.168]\n",
      "Validation: 100%|██████████| 4/4 [00:02<00:00,  1.75it/s, loss=0.212]\n"
     ]
    },
    {
     "name": "stdout",
     "output_type": "stream",
     "text": [
      "Validation Dice Score\n",
      "Class 0: 0.9872, Class 1: 0.7221, Class 2: 0.0415, Class 3: 0.4297, Class 4: 0.7343, Class 5: 0.4505, Class 6: 0.8661, \n",
      "Validation F-beta Score\n",
      "Class 0: 0.9855, Class 1: 0.8412, Class 2: 0.0441, Class 3: 0.5224, Class 4: 0.7735, Class 5: 0.4473, Class 6: 0.9050, \n",
      "Validation mIoU Score\n",
      "Class 0: 0.9748, Class 1: 0.5662, Class 2: 0.0219, Class 3: 0.2743, Class 4: 0.5832, Class 5: 0.2944, Class 6: 0.7651, \n",
      "\n",
      "Overall Mean Dice Score: 0.6406\n",
      "Overall Mean F-beta Score: 0.6979\n",
      "Overall Mean IoU Score: 0.4966\n",
      "Final_score: 0.5369\n",
      "Training Loss: 0.1730, Validation Loss: 0.1939, Validation hybrid_score: 0.5369\n",
      "Epoch 117/4000\n"
     ]
    },
    {
     "name": "stderr",
     "output_type": "stream",
     "text": [
      "Training: 100%|██████████| 132/132 [01:32<00:00,  1.42it/s, loss=0.159]\n",
      "Validation: 100%|██████████| 4/4 [00:02<00:00,  1.76it/s, loss=0.202]\n"
     ]
    },
    {
     "name": "stdout",
     "output_type": "stream",
     "text": [
      "Validation Dice Score\n",
      "Class 0: 0.9888, Class 1: 0.6843, Class 2: 0.0705, Class 3: 0.5474, Class 4: 0.6853, Class 5: 0.3693, Class 6: 0.9042, \n",
      "Validation F-beta Score\n",
      "Class 0: 0.9879, Class 1: 0.7995, Class 2: 0.0643, Class 3: 0.6083, Class 4: 0.7127, Class 5: 0.3909, Class 6: 0.9374, \n",
      "Validation mIoU Score\n",
      "Class 0: 0.9779, Class 1: 0.5294, Class 2: 0.0379, Class 3: 0.3785, Class 4: 0.5277, Class 5: 0.2300, Class 6: 0.8258, \n",
      "\n",
      "Overall Mean Dice Score: 0.6381\n",
      "Overall Mean F-beta Score: 0.6898\n",
      "Overall Mean IoU Score: 0.4983\n",
      "Final_score: 0.5366\n",
      "Training Loss: 0.1727, Validation Loss: 0.1895, Validation hybrid_score: 0.5366\n",
      "========================================================\n",
      "SUPER Best model saved. Loss:0.1895, Score:0.5366\n",
      "========================================================\n",
      "Epoch 118/4000\n"
     ]
    },
    {
     "name": "stderr",
     "output_type": "stream",
     "text": [
      "Training: 100%|██████████| 132/132 [01:32<00:00,  1.43it/s, loss=0.167]\n",
      "Validation: 100%|██████████| 4/4 [00:02<00:00,  1.71it/s, loss=0.195]\n"
     ]
    },
    {
     "name": "stdout",
     "output_type": "stream",
     "text": [
      "Validation Dice Score\n",
      "Class 0: 0.9876, Class 1: 0.6663, Class 2: 0.1128, Class 3: 0.4063, Class 4: 0.6957, Class 5: 0.3824, Class 6: 0.9027, \n",
      "Validation F-beta Score\n",
      "Class 0: 0.9858, Class 1: 0.8230, Class 2: 0.1005, Class 3: 0.4449, Class 4: 0.7695, Class 5: 0.3922, Class 6: 0.9124, \n",
      "Validation mIoU Score\n",
      "Class 0: 0.9755, Class 1: 0.5088, Class 2: 0.0644, Class 3: 0.2558, Class 4: 0.5397, Class 5: 0.2416, Class 6: 0.8234, \n",
      "\n",
      "Overall Mean Dice Score: 0.6107\n",
      "Overall Mean F-beta Score: 0.6684\n",
      "Overall Mean IoU Score: 0.4738\n",
      "Final_score: 0.5128\n",
      "Training Loss: 0.1730, Validation Loss: 0.1961, Validation hybrid_score: 0.5128\n",
      "Epoch 119/4000\n"
     ]
    },
    {
     "name": "stderr",
     "output_type": "stream",
     "text": [
      "Training: 100%|██████████| 132/132 [01:32<00:00,  1.43it/s, loss=0.162]\n",
      "Validation: 100%|██████████| 4/4 [00:02<00:00,  1.81it/s, loss=0.202]\n"
     ]
    },
    {
     "name": "stdout",
     "output_type": "stream",
     "text": [
      "Validation Dice Score\n",
      "Class 0: 0.9864, Class 1: 0.6726, Class 2: 0.0957, Class 3: 0.4684, Class 4: 0.7100, Class 5: 0.3841, Class 6: 0.9077, \n",
      "Validation F-beta Score\n",
      "Class 0: 0.9857, Class 1: 0.7855, Class 2: 0.0777, Class 3: 0.5343, Class 4: 0.7501, Class 5: 0.3429, Class 6: 0.9421, \n",
      "Validation mIoU Score\n",
      "Class 0: 0.9732, Class 1: 0.5143, Class 2: 0.0512, Class 3: 0.3082, Class 4: 0.5535, Class 5: 0.2399, Class 6: 0.8311, \n",
      "\n",
      "Overall Mean Dice Score: 0.6286\n",
      "Overall Mean F-beta Score: 0.6710\n",
      "Overall Mean IoU Score: 0.4894\n",
      "Final_score: 0.5257\n",
      "Training Loss: 0.1728, Validation Loss: 0.2026, Validation hybrid_score: 0.5257\n",
      "Epoch 120/4000\n"
     ]
    },
    {
     "name": "stderr",
     "output_type": "stream",
     "text": [
      "Training: 100%|██████████| 132/132 [01:31<00:00,  1.44it/s, loss=0.165]\n",
      "Validation: 100%|██████████| 4/4 [00:02<00:00,  1.78it/s, loss=0.191]\n"
     ]
    },
    {
     "name": "stdout",
     "output_type": "stream",
     "text": [
      "Validation Dice Score\n",
      "Class 0: 0.9861, Class 1: 0.6421, Class 2: 0.0959, Class 3: 0.4830, Class 4: 0.7221, Class 5: 0.3643, Class 6: 0.8861, \n",
      "Validation F-beta Score\n",
      "Class 0: 0.9847, Class 1: 0.8142, Class 2: 0.0949, Class 3: 0.4956, Class 4: 0.7841, Class 5: 0.3581, Class 6: 0.9076, \n",
      "Validation mIoU Score\n",
      "Class 0: 0.9726, Class 1: 0.4793, Class 2: 0.0516, Class 3: 0.3193, Class 4: 0.5664, Class 5: 0.2273, Class 6: 0.7962, \n",
      "\n",
      "Overall Mean Dice Score: 0.6196\n",
      "Overall Mean F-beta Score: 0.6719\n",
      "Overall Mean IoU Score: 0.4777\n",
      "Final_score: 0.5165\n",
      "Training Loss: 0.1735, Validation Loss: 0.1979, Validation hybrid_score: 0.5165\n",
      "Epoch 121/4000\n"
     ]
    },
    {
     "name": "stderr",
     "output_type": "stream",
     "text": [
      "Training: 100%|██████████| 132/132 [01:31<00:00,  1.44it/s, loss=0.158]\n",
      "Validation: 100%|██████████| 4/4 [00:02<00:00,  1.81it/s, loss=0.212]\n"
     ]
    },
    {
     "name": "stdout",
     "output_type": "stream",
     "text": [
      "Validation Dice Score\n",
      "Class 0: 0.9874, Class 1: 0.5078, Class 2: 0.0877, Class 3: 0.4731, Class 4: 0.6785, Class 5: 0.4497, Class 6: 0.9006, \n",
      "Validation F-beta Score\n",
      "Class 0: 0.9877, Class 1: 0.6411, Class 2: 0.0714, Class 3: 0.5583, Class 4: 0.6983, Class 5: 0.4278, Class 6: 0.9307, \n",
      "Validation mIoU Score\n",
      "Class 0: 0.9750, Class 1: 0.3696, Class 2: 0.0474, Class 3: 0.3202, Class 4: 0.5157, Class 5: 0.2919, Class 6: 0.8197, \n",
      "\n",
      "Overall Mean Dice Score: 0.6019\n",
      "Overall Mean F-beta Score: 0.6512\n",
      "Overall Mean IoU Score: 0.4634\n",
      "Final_score: 0.5010\n",
      "Training Loss: 0.1726, Validation Loss: 0.1969, Validation hybrid_score: 0.5010\n",
      "Epoch 122/4000\n"
     ]
    },
    {
     "name": "stderr",
     "output_type": "stream",
     "text": [
      "Training: 100%|██████████| 132/132 [01:32<00:00,  1.42it/s, loss=0.157]\n",
      "Validation: 100%|██████████| 4/4 [00:02<00:00,  1.49it/s, loss=0.186]\n"
     ]
    },
    {
     "name": "stdout",
     "output_type": "stream",
     "text": [
      "Validation Dice Score\n",
      "Class 0: 0.9869, Class 1: 0.7020, Class 2: 0.1468, Class 3: 0.4429, Class 4: 0.6510, Class 5: 0.4087, Class 6: 0.8735, \n",
      "Validation F-beta Score\n",
      "Class 0: 0.9848, Class 1: 0.7927, Class 2: 0.1310, Class 3: 0.4742, Class 4: 0.7139, Class 5: 0.4345, Class 6: 0.9302, \n",
      "Validation mIoU Score\n",
      "Class 0: 0.9742, Class 1: 0.5416, Class 2: 0.0819, Class 3: 0.2858, Class 4: 0.4868, Class 5: 0.2610, Class 6: 0.7787, \n",
      "\n",
      "Overall Mean Dice Score: 0.6156\n",
      "Overall Mean F-beta Score: 0.6691\n",
      "Overall Mean IoU Score: 0.4708\n",
      "Final_score: 0.5104\n",
      "Training Loss: 0.1724, Validation Loss: 0.1968, Validation hybrid_score: 0.5104\n",
      "Epoch 123/4000\n"
     ]
    },
    {
     "name": "stderr",
     "output_type": "stream",
     "text": [
      "Training: 100%|██████████| 132/132 [01:41<00:00,  1.30it/s, loss=0.165]\n",
      "Validation: 100%|██████████| 4/4 [00:02<00:00,  1.77it/s, loss=0.221]\n"
     ]
    },
    {
     "name": "stdout",
     "output_type": "stream",
     "text": [
      "Validation Dice Score\n",
      "Class 0: 0.9855, Class 1: 0.6163, Class 2: 0.1008, Class 3: 0.3476, Class 4: 0.7133, Class 5: 0.4121, Class 6: 0.8790, \n",
      "Validation F-beta Score\n",
      "Class 0: 0.9837, Class 1: 0.7678, Class 2: 0.0787, Class 3: 0.4045, Class 4: 0.7622, Class 5: 0.4223, Class 6: 0.9073, \n",
      "Validation mIoU Score\n",
      "Class 0: 0.9714, Class 1: 0.4497, Class 2: 0.0546, Class 3: 0.2146, Class 4: 0.5559, Class 5: 0.2620, Class 6: 0.7870, \n",
      "\n",
      "Overall Mean Dice Score: 0.5937\n",
      "Overall Mean F-beta Score: 0.6528\n",
      "Overall Mean IoU Score: 0.4538\n",
      "Final_score: 0.4936\n",
      "Training Loss: 0.1737, Validation Loss: 0.2060, Validation hybrid_score: 0.4936\n",
      "Epoch 124/4000\n"
     ]
    },
    {
     "name": "stderr",
     "output_type": "stream",
     "text": [
      "Training: 100%|██████████| 132/132 [01:32<00:00,  1.43it/s, loss=0.164]\n",
      "Validation: 100%|██████████| 4/4 [00:02<00:00,  1.80it/s, loss=0.185]\n"
     ]
    },
    {
     "name": "stdout",
     "output_type": "stream",
     "text": [
      "Validation Dice Score\n",
      "Class 0: 0.9883, Class 1: 0.7394, Class 2: 0.0613, Class 3: 0.4093, Class 4: 0.7443, Class 5: 0.4562, Class 6: 0.9150, \n",
      "Validation F-beta Score\n",
      "Class 0: 0.9872, Class 1: 0.8037, Class 2: 0.0573, Class 3: 0.4606, Class 4: 0.7561, Class 5: 0.4722, Class 6: 0.9254, \n",
      "Validation mIoU Score\n",
      "Class 0: 0.9769, Class 1: 0.5886, Class 2: 0.0325, Class 3: 0.2578, Class 4: 0.5932, Class 5: 0.2999, Class 6: 0.8436, \n",
      "\n",
      "Overall Mean Dice Score: 0.6528\n",
      "Overall Mean F-beta Score: 0.6836\n",
      "Overall Mean IoU Score: 0.5166\n",
      "Final_score: 0.5500\n",
      "Training Loss: 0.1738, Validation Loss: 0.1883, Validation hybrid_score: 0.5500\n",
      "========================================================\n",
      "SUPER Best model saved. Loss:0.1883, Score:0.5500\n",
      "========================================================\n",
      "Epoch 125/4000\n"
     ]
    },
    {
     "name": "stderr",
     "output_type": "stream",
     "text": [
      "Training: 100%|██████████| 132/132 [01:31<00:00,  1.45it/s, loss=0.166]\n",
      "Validation: 100%|██████████| 4/4 [00:02<00:00,  1.46it/s, loss=0.207]\n"
     ]
    },
    {
     "name": "stdout",
     "output_type": "stream",
     "text": [
      "Validation Dice Score\n",
      "Class 0: 0.9883, Class 1: 0.7254, Class 2: 0.1489, Class 3: 0.4558, Class 4: 0.6783, Class 5: 0.4515, Class 6: 0.6796, \n",
      "Validation F-beta Score\n",
      "Class 0: 0.9878, Class 1: 0.8125, Class 2: 0.1200, Class 3: 0.5442, Class 4: 0.7173, Class 5: 0.4359, Class 6: 0.7006, \n",
      "Validation mIoU Score\n",
      "Class 0: 0.9769, Class 1: 0.5709, Class 2: 0.0814, Class 3: 0.3009, Class 4: 0.5142, Class 5: 0.2960, Class 6: 0.6214, \n",
      "\n",
      "Overall Mean Dice Score: 0.5981\n",
      "Overall Mean F-beta Score: 0.6421\n",
      "Overall Mean IoU Score: 0.4607\n",
      "Final_score: 0.4970\n",
      "Training Loss: 0.1732, Validation Loss: 0.1945, Validation hybrid_score: 0.4970\n",
      "Epoch 126/4000\n"
     ]
    },
    {
     "name": "stderr",
     "output_type": "stream",
     "text": [
      "Training: 100%|██████████| 132/132 [01:37<00:00,  1.35it/s, loss=0.174]\n",
      "Validation: 100%|██████████| 4/4 [00:06<00:00,  1.63s/it, loss=0.197]\n"
     ]
    },
    {
     "name": "stdout",
     "output_type": "stream",
     "text": [
      "Validation Dice Score\n",
      "Class 0: 0.9868, Class 1: 0.6905, Class 2: 0.0878, Class 3: 0.4747, Class 4: 0.7114, Class 5: 0.4596, Class 6: 0.9056, \n",
      "Validation F-beta Score\n",
      "Class 0: 0.9857, Class 1: 0.7781, Class 2: 0.0696, Class 3: 0.5805, Class 4: 0.7669, Class 5: 0.4476, Class 6: 0.9296, \n",
      "Validation mIoU Score\n",
      "Class 0: 0.9740, Class 1: 0.5330, Class 2: 0.0475, Class 3: 0.3129, Class 4: 0.5533, Class 5: 0.2991, Class 6: 0.8283, \n",
      "\n",
      "Overall Mean Dice Score: 0.6484\n",
      "Overall Mean F-beta Score: 0.7006\n",
      "Overall Mean IoU Score: 0.5053\n",
      "Final_score: 0.5444\n",
      "Training Loss: 0.1737, Validation Loss: 0.1962, Validation hybrid_score: 0.5444\n",
      "Epoch 127/4000\n"
     ]
    },
    {
     "name": "stderr",
     "output_type": "stream",
     "text": [
      "Training: 100%|██████████| 132/132 [01:38<00:00,  1.34it/s, loss=0.174]\n",
      "Validation: 100%|██████████| 4/4 [00:02<00:00,  1.78it/s, loss=0.219]\n"
     ]
    },
    {
     "name": "stdout",
     "output_type": "stream",
     "text": [
      "Validation Dice Score\n",
      "Class 0: 0.9857, Class 1: 0.6266, Class 2: 0.0759, Class 3: 0.4140, Class 4: 0.7496, Class 5: 0.3391, Class 6: 0.8991, \n",
      "Validation F-beta Score\n",
      "Class 0: 0.9858, Class 1: 0.8176, Class 2: 0.0583, Class 3: 0.4945, Class 4: 0.7550, Class 5: 0.3219, Class 6: 0.9242, \n",
      "Validation mIoU Score\n",
      "Class 0: 0.9719, Class 1: 0.4606, Class 2: 0.0415, Class 3: 0.2630, Class 4: 0.6016, Class 5: 0.2111, Class 6: 0.8170, \n",
      "\n",
      "Overall Mean Dice Score: 0.6057\n",
      "Overall Mean F-beta Score: 0.6627\n",
      "Overall Mean IoU Score: 0.4707\n",
      "Final_score: 0.5091\n",
      "Training Loss: 0.1735, Validation Loss: 0.2069, Validation hybrid_score: 0.5091\n",
      "Epoch 128/4000\n"
     ]
    },
    {
     "name": "stderr",
     "output_type": "stream",
     "text": [
      "Training: 100%|██████████| 132/132 [01:31<00:00,  1.44it/s, loss=0.165]\n",
      "Validation: 100%|██████████| 4/4 [00:02<00:00,  1.77it/s, loss=0.198]\n"
     ]
    },
    {
     "name": "stdout",
     "output_type": "stream",
     "text": [
      "Validation Dice Score\n",
      "Class 0: 0.9860, Class 1: 0.6457, Class 2: 0.1031, Class 3: 0.4643, Class 4: 0.6969, Class 5: 0.3838, Class 6: 0.8977, \n",
      "Validation F-beta Score\n",
      "Class 0: 0.9838, Class 1: 0.8378, Class 2: 0.0891, Class 3: 0.5381, Class 4: 0.7827, Class 5: 0.3707, Class 6: 0.9509, \n",
      "Validation mIoU Score\n",
      "Class 0: 0.9723, Class 1: 0.4804, Class 2: 0.0550, Class 3: 0.3039, Class 4: 0.5353, Class 5: 0.2380, Class 6: 0.8159, \n",
      "\n",
      "Overall Mean Dice Score: 0.6177\n",
      "Overall Mean F-beta Score: 0.6960\n",
      "Overall Mean IoU Score: 0.4747\n",
      "Final_score: 0.5190\n",
      "Training Loss: 0.1726, Validation Loss: 0.2024, Validation hybrid_score: 0.5190\n",
      "Epoch 129/4000\n"
     ]
    },
    {
     "name": "stderr",
     "output_type": "stream",
     "text": [
      "Training: 100%|██████████| 132/132 [01:32<00:00,  1.43it/s, loss=0.169]\n",
      "Validation: 100%|██████████| 4/4 [00:02<00:00,  1.68it/s, loss=0.197]\n"
     ]
    },
    {
     "name": "stdout",
     "output_type": "stream",
     "text": [
      "Validation Dice Score\n",
      "Class 0: 0.9872, Class 1: 0.6949, Class 2: 0.1013, Class 3: 0.3708, Class 4: 0.7531, Class 5: 0.3861, Class 6: 0.8874, \n",
      "Validation F-beta Score\n",
      "Class 0: 0.9861, Class 1: 0.8680, Class 2: 0.0710, Class 3: 0.4823, Class 4: 0.7782, Class 5: 0.3943, Class 6: 0.9414, \n",
      "Validation mIoU Score\n",
      "Class 0: 0.9748, Class 1: 0.5350, Class 2: 0.0578, Class 3: 0.2319, Class 4: 0.6080, Class 5: 0.2411, Class 6: 0.7978, \n",
      "\n",
      "Overall Mean Dice Score: 0.6185\n",
      "Overall Mean F-beta Score: 0.6928\n",
      "Overall Mean IoU Score: 0.4827\n",
      "Final_score: 0.5248\n",
      "Training Loss: 0.1742, Validation Loss: 0.1964, Validation hybrid_score: 0.5248\n",
      "Epoch 130/4000\n"
     ]
    },
    {
     "name": "stderr",
     "output_type": "stream",
     "text": [
      "Training: 100%|██████████| 132/132 [01:32<00:00,  1.42it/s, loss=0.174]\n",
      "Validation: 100%|██████████| 4/4 [00:02<00:00,  1.67it/s, loss=0.21] \n"
     ]
    },
    {
     "name": "stdout",
     "output_type": "stream",
     "text": [
      "Validation Dice Score\n",
      "Class 0: 0.9858, Class 1: 0.5655, Class 2: 0.1646, Class 3: 0.4706, Class 4: 0.6811, Class 5: 0.4455, Class 6: 0.9046, \n",
      "Validation F-beta Score\n",
      "Class 0: 0.9839, Class 1: 0.7067, Class 2: 0.1606, Class 3: 0.4828, Class 4: 0.7679, Class 5: 0.4479, Class 6: 0.9207, \n",
      "Validation mIoU Score\n",
      "Class 0: 0.9720, Class 1: 0.4038, Class 2: 0.0912, Class 3: 0.3078, Class 4: 0.5183, Class 5: 0.2892, Class 6: 0.8259, \n",
      "\n",
      "Overall Mean Dice Score: 0.6135\n",
      "Overall Mean F-beta Score: 0.6652\n",
      "Overall Mean IoU Score: 0.4690\n",
      "Final_score: 0.5082\n",
      "Training Loss: 0.1726, Validation Loss: 0.1999, Validation hybrid_score: 0.5082\n",
      "Epoch 131/4000\n"
     ]
    },
    {
     "name": "stderr",
     "output_type": "stream",
     "text": [
      "Training: 100%|██████████| 132/132 [01:37<00:00,  1.35it/s, loss=0.163]\n",
      "Validation: 100%|██████████| 4/4 [00:02<00:00,  1.70it/s, loss=0.195]\n"
     ]
    },
    {
     "name": "stdout",
     "output_type": "stream",
     "text": [
      "Validation Dice Score\n",
      "Class 0: 0.9884, Class 1: 0.6092, Class 2: 0.1483, Class 3: 0.4658, Class 4: 0.7209, Class 5: 0.3999, Class 6: 0.8981, \n",
      "Validation F-beta Score\n",
      "Class 0: 0.9869, Class 1: 0.7778, Class 2: 0.1405, Class 3: 0.5519, Class 4: 0.7523, Class 5: 0.4295, Class 6: 0.9325, \n",
      "Validation mIoU Score\n",
      "Class 0: 0.9771, Class 1: 0.4503, Class 2: 0.0849, Class 3: 0.3122, Class 4: 0.5684, Class 5: 0.2508, Class 6: 0.8158, \n",
      "\n",
      "Overall Mean Dice Score: 0.6188\n",
      "Overall Mean F-beta Score: 0.6888\n",
      "Overall Mean IoU Score: 0.4795\n",
      "Final_score: 0.5214\n",
      "Training Loss: 0.1737, Validation Loss: 0.1944, Validation hybrid_score: 0.5214\n",
      "Epoch 132/4000\n"
     ]
    },
    {
     "name": "stderr",
     "output_type": "stream",
     "text": [
      "Training: 100%|██████████| 132/132 [02:31<00:00,  1.15s/it, loss=0.174]\n",
      "Validation: 100%|██████████| 4/4 [00:05<00:00,  1.26s/it, loss=0.211]\n"
     ]
    },
    {
     "name": "stdout",
     "output_type": "stream",
     "text": [
      "Validation Dice Score\n",
      "Class 0: 0.9875, Class 1: 0.6346, Class 2: 0.0874, Class 3: 0.4066, Class 4: 0.7021, Class 5: 0.3937, Class 6: 0.9198, \n",
      "Validation F-beta Score\n",
      "Class 0: 0.9864, Class 1: 0.7657, Class 2: 0.0698, Class 3: 0.4780, Class 4: 0.7164, Class 5: 0.4162, Class 6: 0.9433, \n",
      "Validation mIoU Score\n",
      "Class 0: 0.9753, Class 1: 0.4730, Class 2: 0.0477, Class 3: 0.2612, Class 4: 0.5410, Class 5: 0.2477, Class 6: 0.8518, \n",
      "\n",
      "Overall Mean Dice Score: 0.6113\n",
      "Overall Mean F-beta Score: 0.6639\n",
      "Overall Mean IoU Score: 0.4749\n",
      "Final_score: 0.5127\n",
      "Training Loss: 0.1739, Validation Loss: 0.1973, Validation hybrid_score: 0.5127\n",
      "Epoch 133/4000\n"
     ]
    },
    {
     "name": "stderr",
     "output_type": "stream",
     "text": [
      "Training: 100%|██████████| 132/132 [01:49<00:00,  1.20it/s, loss=0.167]\n",
      "Validation: 100%|██████████| 4/4 [00:02<00:00,  1.58it/s, loss=0.187]\n"
     ]
    },
    {
     "name": "stdout",
     "output_type": "stream",
     "text": [
      "Validation Dice Score\n",
      "Class 0: 0.9864, Class 1: 0.5780, Class 2: 0.1620, Class 3: 0.3697, Class 4: 0.7472, Class 5: 0.4362, Class 6: 0.8556, \n",
      "Validation F-beta Score\n",
      "Class 0: 0.9849, Class 1: 0.7557, Class 2: 0.1156, Class 3: 0.4323, Class 4: 0.7930, Class 5: 0.4355, Class 6: 0.8568, \n",
      "Validation mIoU Score\n",
      "Class 0: 0.9732, Class 1: 0.4152, Class 2: 0.0900, Class 3: 0.2307, Class 4: 0.5978, Class 5: 0.2796, Class 6: 0.7507, \n",
      "\n",
      "Overall Mean Dice Score: 0.5973\n",
      "Overall Mean F-beta Score: 0.6547\n",
      "Overall Mean IoU Score: 0.4548\n",
      "Final_score: 0.4948\n",
      "Training Loss: 0.1735, Validation Loss: 0.2027, Validation hybrid_score: 0.4948\n",
      "Early stopping\n"
     ]
    },
    {
     "data": {
      "text/html": [],
      "text/plain": [
       "<IPython.core.display.HTML object>"
      ]
     },
     "metadata": {},
     "output_type": "display_data"
    },
    {
     "data": {
      "text/html": [
       "<br>    <style><br>        .wandb-row {<br>            display: flex;<br>            flex-direction: row;<br>            flex-wrap: wrap;<br>            justify-content: flex-start;<br>            width: 100%;<br>        }<br>        .wandb-col {<br>            display: flex;<br>            flex-direction: column;<br>            flex-basis: 100%;<br>            flex: 1;<br>            padding: 10px;<br>        }<br>    </style><br><div class=\"wandb-row\"><div class=\"wandb-col\"><h3>Run history:</h3><br/><table class=\"wandb\"><tr><td>class_0_IoU_score</td><td>▁▄▆▇▇▇▆██▇▆▇▇▇█▇████▇█▇▇███▇████████████</td></tr><tr><td>class_0_dice_score</td><td>▁▃▅▂▅▄▅▄▅▄▄▄▅▆▅▄▆▂▆▆▄▅▄▆▅▆▇▇▇▆█▇▆▆█▆▆▅█▆</td></tr><tr><td>class_0_f_beta_score</td><td>▆▆▂█▅▂▃▄▂▅▂▁▁▇▂▃▃▆▃▄▅▄▄▄▇▃▆▆▇▆█▇▆▆▆▅█▅▆▅</td></tr><tr><td>class_1_IoU_score</td><td>▁▁▆▆▇▇▇▆█▇▇██████▇████████▇████████████▇</td></tr><tr><td>class_1_dice_score</td><td>▁▁▁▁▄▅▆▆▆▆▆▇▇▆▇▇███▇█▇▇▇▇▇█▇▇▇▇▇█▇▇▇██▇▇</td></tr><tr><td>class_1_f_beta_score</td><td>▁▁▁▁▄▆▆▇▇▇▇▇▆▇▇▇▇▇▇▇█▇▇▇█▇██▇▇▇▇█▇▇▇▇██▇</td></tr><tr><td>class_2_IoU_score</td><td>▁▇▇▇▇█▇▇▇█▆█▇▇▇██▇▇▇▇█▇███████████████▆▇</td></tr><tr><td>class_2_dice_score</td><td>▁▁▁▁▂▃▄▄▅▄▄▄▅▃▄▂▃█▆▄▇▄▅▄▄▃▇▄▅▆▅▇▆▃▅▅▅▅▅▄</td></tr><tr><td>class_2_f_beta_score</td><td>▁▁▁▁▁▂▃▃▂▃▃▇▃▁▄▃▆▄▇▄▄▄▅▃▆▇▃▆▇▆▄▆█▄▄▃▃▂▄▃</td></tr><tr><td>class_3_IoU_score</td><td>▁▆▆▇▇▇▇▇▇▇█▇▆▇▇▇▇███▇█▇███████▇████▆███▇</td></tr><tr><td>class_3_dice_score</td><td>▁▁▁▂▃▅▅▄▅▆▆▄▆▆▅▆▆▆▅▇▅▆▆▆▆▆▇▇▇▅▇▇▆▆▇▆█▇▇▆</td></tr><tr><td>class_3_f_beta_score</td><td>▁▂▃▄▃▅▆▅▅▅▅▅▄▅▆▅▆▅▇▆▇▆▇▇▆▇▇█▆▇▆▇▆▆██▆▅▇▆</td></tr><tr><td>class_4_IoU_score</td><td>▁▇▇▇▇██▇██▇████▇▇▇████▇███▇▇████████████</td></tr><tr><td>class_4_dice_score</td><td>▁▂▅▅▇▆▇▇▇█▇▇▆█▇▇█▇▇▇▇▇▇▇████▇███▇█▇▇███▇</td></tr><tr><td>class_4_f_beta_score</td><td>▁▃▇▇▇█▇▇▇████▇███▇▇█▇▇▇▆▇▇▇▇▆▇▇▇▇▇█▇▇▇██</td></tr><tr><td>class_5_IoU_score</td><td>▁▂▄▇▆▆▇▆▇▇▆▇▇███▇█▇██▇███████████████▆██</td></tr><tr><td>class_5_dice_score</td><td>▁▂▄▅▄▆▆▇▆▇▆█▇▇▆▆▇▇▇▇▇▇▆▇▇██▇▆▆▆▇▇▆▇▆▇▇▆▇</td></tr><tr><td>class_5_f_beta_score</td><td>▁▂▂▄▃▅▇▆▆▆▇▆▆▆▆▆▆▆▆▄▆█▇▆▆▇▅▆▆▄▅▆▇▆▆█▇▆▆▇</td></tr><tr><td>class_6_IoU_score</td><td>▁▅▆▆▆▇▇▆▇▇▇▇▇▇▇▇▇█▇█▇▇▇▇█▇█▇▇█▇██▇██████</td></tr><tr><td>class_6_dice_score</td><td>▁▁▅▇▇████▆▇████▇████▇███████████████████</td></tr><tr><td>class_6_f_beta_score</td><td>▁▁▄▆▆▇▇█▇█▇▆▇█▇▆▇▇▇▇█▇█▇█████████████▆██</td></tr><tr><td>epoch</td><td>▁▁▂▂▂▂▂▂▃▃▃▃▄▄▄▄▄▄▅▅▅▅▅▅▅▆▆▆▆▆▆▆▆▇▇▇▇▇▇█</td></tr><tr><td>final_score</td><td>▁▆▆▇▆▇▇▇▇▇▇▇▇▇▇▇▇▇▇▇▇▇▇███▇▇▇▇██▇▇██▇███</td></tr><tr><td>overall_mean_IoU_score</td><td>▁▃▅▄▅▅▆▆▆▆▇▇▇▇▇▇▇▇▇▇█▇▇█▇███▇▇███▇██▇▇██</td></tr><tr><td>overall_mean_dice_score</td><td>▁▁▂▃▅▇▇▇▇▇▇▇▇▇▇▇▇▇█▇█▇▇███▇██▇▇█████████</td></tr><tr><td>overall_mean_f_beta_score</td><td>▁▁▂▃▅▆▅▆▇▇▇█▇▇▇▇█████████████▇▇██▇██████</td></tr><tr><td>train_epoch_loss</td><td>█▂▂▂▁▁▁▁▁▁▁▁▁▁▁▁▁▁▁▁▁▁▁▁▁▁▁▁▁▁▁▁▁▁▁▁▁▁▁▁</td></tr><tr><td>val_epoch_loss</td><td>██▄▅▄▃▃▃▃▂▃▃▂▃▂▂▂▂▂▂▂▂▁▂▂▂▁▁▁▁▁▂▁▂▁▁▂▁▂▂</td></tr></table><br/></div><div class=\"wandb-col\"><h3>Run summary:</h3><br/><table class=\"wandb\"><tr><td>class_0_IoU_score</td><td>0.85685</td></tr><tr><td>class_0_dice_score</td><td>0.98639</td></tr><tr><td>class_0_f_beta_score</td><td>0.98487</td></tr><tr><td>class_1_IoU_score</td><td>0.85685</td></tr><tr><td>class_1_dice_score</td><td>0.57798</td></tr><tr><td>class_1_f_beta_score</td><td>0.75565</td></tr><tr><td>class_2_IoU_score</td><td>0.85685</td></tr><tr><td>class_2_dice_score</td><td>0.16203</td></tr><tr><td>class_2_f_beta_score</td><td>0.11563</td></tr><tr><td>class_3_IoU_score</td><td>0.85685</td></tr><tr><td>class_3_dice_score</td><td>0.36966</td></tr><tr><td>class_3_f_beta_score</td><td>0.43234</td></tr><tr><td>class_4_IoU_score</td><td>0.85685</td></tr><tr><td>class_4_dice_score</td><td>0.74719</td></tr><tr><td>class_4_f_beta_score</td><td>0.79296</td></tr><tr><td>class_5_IoU_score</td><td>0.85685</td></tr><tr><td>class_5_dice_score</td><td>0.43617</td></tr><tr><td>class_5_f_beta_score</td><td>0.43553</td></tr><tr><td>class_6_IoU_score</td><td>0.85685</td></tr><tr><td>class_6_dice_score</td><td>0.8556</td></tr><tr><td>class_6_f_beta_score</td><td>0.85685</td></tr><tr><td>epoch</td><td>133</td></tr><tr><td>final_score</td><td>0.49477</td></tr><tr><td>overall_mean_IoU_score</td><td>0.4548</td></tr><tr><td>overall_mean_dice_score</td><td>0.59732</td></tr><tr><td>overall_mean_f_beta_score</td><td>0.65467</td></tr><tr><td>train_epoch_loss</td><td>0.17346</td></tr><tr><td>val_epoch_loss</td><td>0.20267</td></tr></table><br/></div></div>"
      ],
      "text/plain": [
       "<IPython.core.display.HTML object>"
      ]
     },
     "metadata": {},
     "output_type": "display_data"
    },
    {
     "data": {
      "text/html": [
       " View run <strong style=\"color:#cdcd00\">CBAM_Aug4_noGauss_f48_lr1e-03_a0.50_b16_r1_ce0.8_ac1</strong> at: <a href='https://wandb.ai/limbw/czii_UNet/runs/9lpbdksd' target=\"_blank\">https://wandb.ai/limbw/czii_UNet/runs/9lpbdksd</a><br> View project at: <a href='https://wandb.ai/limbw/czii_UNet' target=\"_blank\">https://wandb.ai/limbw/czii_UNet</a><br>Synced 5 W&B file(s), 0 media file(s), 0 artifact file(s) and 0 other file(s)"
      ],
      "text/plain": [
       "<IPython.core.display.HTML object>"
      ]
     },
     "metadata": {},
     "output_type": "display_data"
    },
    {
     "data": {
      "text/html": [
       "Find logs at: <code>.\\wandb\\run-20250124_171253-9lpbdksd\\logs</code>"
      ],
      "text/plain": [
       "<IPython.core.display.HTML object>"
      ]
     },
     "metadata": {},
     "output_type": "display_data"
    }
   ],
   "source": [
    "train_model(\n",
    "    model=model,\n",
    "    train_loader=train_loader,\n",
    "    val_loader=val_loader,\n",
    "    criterion=criterion,\n",
    "    optimizer=optimizer,\n",
    "    num_epochs=num_epochs,\n",
    "    patience=10,\n",
    "    device=device,\n",
    "    start_epoch=start_epoch,\n",
    "    best_val_loss=best_val_loss,\n",
    "    best_val_fbeta_score=best_val_fbeta_score,\n",
    "    calculate_dice_interval=1,\n",
    "    accumulation_steps = accumulation_steps,\n",
    "    pretrained=True,\n",
    "    ) "
   ]
  },
  {
   "cell_type": "code",
   "execution_count": 12,
   "metadata": {},
   "outputs": [
    {
     "ename": "SyntaxError",
     "evalue": "invalid syntax (4110802630.py, line 1)",
     "output_type": "error",
     "traceback": [
      "\u001b[1;36m  Cell \u001b[1;32mIn[12], line 1\u001b[1;36m\u001b[0m\n\u001b[1;33m    if\u001b[0m\n\u001b[1;37m      ^\u001b[0m\n\u001b[1;31mSyntaxError\u001b[0m\u001b[1;31m:\u001b[0m invalid syntax\n"
     ]
    }
   ],
   "source": [
    "if"
   ]
  },
  {
   "cell_type": "code",
   "execution_count": null,
   "metadata": {},
   "outputs": [
    {
     "name": "stderr",
     "output_type": "stream",
     "text": [
      "Loading dataset: 100%|██████████| 6/6 [00:00<00:00, 11.58it/s]\n",
      "Loading dataset: 100%|██████████| 1/1 [00:00<00:00, 10.50it/s]\n"
     ]
    },
    {
     "name": "stdout",
     "output_type": "stream",
     "text": [
      "torch.Size([16, 1, 32, 96, 96]) torch.Size([16, 1, 32, 96, 96])\n"
     ]
    }
   ],
   "source": [
    "# train_img_dir = './datasets/public_data/images'\n",
    "# train_label_dir = './datasets/public_data/labels'\n",
    "train_img_dir = './datasets/denoised_data/images'\n",
    "train_label_dir = './datasets/denoised_data/labels'\n",
    "\n",
    "train_loader, val_loader = None, None\n",
    "train_loader, val_loader = create_dataloaders_bw(\n",
    "    train_img_dir, \n",
    "    train_label_dir, \n",
    "    val_img_dir, \n",
    "    val_label_dir, \n",
    "    non_random_transforms = non_random_transforms, \n",
    "    val_non_random_transforms = non_random_transforms,\n",
    "    random_transforms = val_random_transforms, \n",
    "    val_random_transforms=val_random_transforms,\n",
    "    batch_size = loader_batch,\n",
    "    num_workers=0,\n",
    "    train_num_repeat=num_repeat\n",
    "    )\n",
    "\n",
    "batch = next(iter(val_loader))\n",
    "images, labels = batch[\"image\"], batch[\"label\"]\n",
    "print(images.shape, labels.shape)"
   ]
  },
  {
   "cell_type": "code",
   "execution_count": null,
   "metadata": {},
   "outputs": [],
   "source": [
    "torch.backends.cudnn.benchmark = True"
   ]
  },
  {
   "cell_type": "code",
   "execution_count": null,
   "metadata": {},
   "outputs": [
    {
     "name": "stdout",
     "output_type": "stream",
     "text": [
      "기존 best model 발견: model_checkpoints\\pre_UNET_511_241_prelu_instance_f48_lr1e-03_a0.52_b16_r4_ce0.4_ac1\\best_model_pretrained.pt\n",
      "기존 학습된 가중치를 성공적으로 로드했습니다.\n"
     ]
    },
    {
     "name": "stderr",
     "output_type": "stream",
     "text": [
      "C:\\Users\\pook0\\AppData\\Local\\Temp\\ipykernel_10444\\1145606841.py:6: FutureWarning: You are using `torch.load` with `weights_only=False` (the current default value), which uses the default pickle module implicitly. It is possible to construct malicious pickle data which will execute arbitrary code during unpickling (See https://github.com/pytorch/pytorch/blob/main/SECURITY.md#untrusted-models for more details). In a future release, the default value for `weights_only` will be flipped to `True`. This limits the functions that could be executed during unpickling. Arbitrary objects will no longer be allowed to be loaded via this mode unless they are explicitly allowlisted by the user via `torch.serialization.add_safe_globals`. We recommend you start setting `weights_only=True` for any use case where you don't have full control of the loaded file. Please open an issue on GitHub for any issues related to this experimental feature.\n",
      "  checkpoint = torch.load(best_model_path, map_location=device)\n"
     ]
    }
   ],
   "source": [
    "\n",
    "if checkpoint_dir.exists():\n",
    "    best_model_path = checkpoint_dir / 'best_model_pretrained.pt'\n",
    "    if best_model_path.exists():\n",
    "        print(f\"기존 best model 발견: {best_model_path}\")\n",
    "        try:\n",
    "            checkpoint = torch.load(best_model_path, map_location=device)\n",
    "            # 체크포인트 내부 키 검증\n",
    "            required_keys = ['model_state_dict', 'optimizer_state_dict', 'epoch', 'best_val_loss', 'best_val_fbeta_score']\n",
    "            if all(k in checkpoint for k in required_keys):\n",
    "                model.load_state_dict(checkpoint['model_state_dict'])\n",
    "                optimizer.load_state_dict(checkpoint['optimizer_state_dict'])\n",
    "                start_epoch = checkpoint['epoch']\n",
    "                best_val_loss = checkpoint['best_val_loss']\n",
    "                best_val_fbeta_score = checkpoint['best_val_fbeta_score']\n",
    "                print(\"기존 학습된 가중치를 성공적으로 로드했습니다.\")\n",
    "                checkpoint= None\n",
    "            else:\n",
    "                raise ValueError(\"체크포인트 파일에 필요한 key가 없습니다.\")\n",
    "        except Exception as e:\n",
    "            print(f\"체크포인트 파일을 로드하는 중 오류 발생: {e}\")\n",
    "            \n",
    "# lr = lr/2\n",
    "            \n",
    "# optimizer = optim.AdamW(model.parameters(), lr=lr, weight_decay=1e-5)\n",
    "# scheduler = torch.optim.lr_scheduler.ReduceLROnPlateau(optimizer, patience=5, factor=0.5)\n"
   ]
  },
  {
   "cell_type": "code",
   "execution_count": null,
   "metadata": {},
   "outputs": [
    {
     "name": "stderr",
     "output_type": "stream",
     "text": [
      "\u001b[34m\u001b[1mwandb\u001b[0m: Using wandb-core as the SDK backend.  Please refer to https://wandb.me/wandb-core for more information.\n",
      "\u001b[34m\u001b[1mwandb\u001b[0m: Currently logged in as: \u001b[33mpook0612\u001b[0m (\u001b[33mlimbw\u001b[0m). Use \u001b[1m`wandb login --relogin`\u001b[0m to force relogin\n"
     ]
    },
    {
     "data": {
      "text/html": [
       "Tracking run with wandb version 0.19.1"
      ],
      "text/plain": [
       "<IPython.core.display.HTML object>"
      ]
     },
     "metadata": {},
     "output_type": "display_data"
    },
    {
     "data": {
      "text/html": [
       "Run data is saved locally in <code>d:\\Workspace\\czll\\wandb\\run-20250120_232730-o8iqln63</code>"
      ],
      "text/plain": [
       "<IPython.core.display.HTML object>"
      ]
     },
     "metadata": {},
     "output_type": "display_data"
    },
    {
     "data": {
      "text/html": [
       "Syncing run <strong><a href='https://wandb.ai/limbw/czii_UNet/runs/o8iqln63' target=\"_blank\">pre_UNET_511_241_prelu_instance_f48_lr1e-03_a0.52_b16_r4_ce0.4_ac1</a></strong> to <a href='https://wandb.ai/limbw/czii_UNet' target=\"_blank\">Weights & Biases</a> (<a href='https://wandb.me/developer-guide' target=\"_blank\">docs</a>)<br>"
      ],
      "text/plain": [
       "<IPython.core.display.HTML object>"
      ]
     },
     "metadata": {},
     "output_type": "display_data"
    },
    {
     "data": {
      "text/html": [
       " View project at <a href='https://wandb.ai/limbw/czii_UNet' target=\"_blank\">https://wandb.ai/limbw/czii_UNet</a>"
      ],
      "text/plain": [
       "<IPython.core.display.HTML object>"
      ]
     },
     "metadata": {},
     "output_type": "display_data"
    },
    {
     "data": {
      "text/html": [
       " View run at <a href='https://wandb.ai/limbw/czii_UNet/runs/o8iqln63' target=\"_blank\">https://wandb.ai/limbw/czii_UNet/runs/o8iqln63</a>"
      ],
      "text/plain": [
       "<IPython.core.display.HTML object>"
      ]
     },
     "metadata": {},
     "output_type": "display_data"
    }
   ],
   "source": [
    "import wandb\n",
    "from datetime import datetime\n",
    "\n",
    "current_time = datetime.now().strftime('%Y%m%d_%H%M%S')\n",
    "run_name = folder_name\n",
    "\n",
    "# wandb 초기화\n",
    "wandb.init(\n",
    "    project='czii_UNet',  # 프로젝트 이름 설정\n",
    "    name=run_name,         # 실행(run) 이름 설정\n",
    "    config={\n",
    "        'num_epochs': num_epochs,\n",
    "        'learning_rate': lr,\n",
    "        'batch_size': batch_size,\n",
    "        'lambda': lamda,\n",
    "        \"cross_entropy_weight\": ce_weight,\n",
    "        'feature_size': feature_size,\n",
    "        'img_size': img_size,\n",
    "        'sampling_ratio': ratios_list,\n",
    "        'device': device.type,\n",
    "        \"checkpoint_dir\": str(checkpoint_dir),\n",
    "        \"class_weights\": class_weights.tolist() if class_weights is not None else None,\n",
    "        # \"use_checkpoint\": use_checkpoint,\n",
    "        \"drop_rate\": drop_rate,\n",
    "        # \"attn_drop_rate\": attn_drop_rate,\n",
    "        # \"use_v2\": use_v2,\n",
    "        \"accumulation_steps\": accumulation_steps,\n",
    "        \"num_repeat\": num_repeat,\n",
    "        # \"num_bottleneck\": num_bottleneck,\n",
    "        \n",
    "        # 필요한 하이퍼파라미터 추가\n",
    "    }\n",
    ")\n",
    "# 모델을 wandb에 연결\n",
    "wandb.watch(model, log='all')"
   ]
  },
  {
   "cell_type": "code",
   "execution_count": null,
   "metadata": {},
   "outputs": [
    {
     "name": "stdout",
     "output_type": "stream",
     "text": [
      "Epoch 24/4000\n"
     ]
    },
    {
     "name": "stderr",
     "output_type": "stream",
     "text": [
      "Training: 100%|██████████| 24/24 [00:18<00:00,  1.28it/s, loss=0.463]\n",
      "Validation: 100%|██████████| 1/1 [00:00<00:00,  2.00it/s, loss=0.416]\n"
     ]
    },
    {
     "name": "stdout",
     "output_type": "stream",
     "text": [
      "Validation Dice Score\n",
      "Class 0: 0.9861, Class 1: 0.7892, Class 2: 0.1384, Class 3: 0.2843, Class 4: 0.6754, Class 5: 0.5236, Class 6: 0.8906, \n",
      "Validation F-beta Score\n",
      "Class 0: 0.9821, Class 1: 0.8506, Class 2: 0.1222, Class 3: 0.5436, Class 4: 0.7712, Class 5: 0.5610, Class 6: 0.9190, \n",
      "Validation mIoU Score\n",
      "Class 0: 0.9726, Class 1: 0.6518, Class 2: 0.0744, Class 3: 0.1657, Class 4: 0.5099, Class 5: 0.3546, Class 6: 0.8028, \n",
      "\n",
      "Overall Mean Dice Score: 0.6326\n",
      "Overall Mean F-beta Score: 0.7291\n",
      "Overall Mean IoU Score: 0.4970\n",
      "Final_score: 0.6362\n",
      "Training Loss: 0.4581, Validation Loss: 0.4156, Validation hybrid_score: 0.6362\n",
      "Epoch 25/4000\n"
     ]
    },
    {
     "name": "stderr",
     "output_type": "stream",
     "text": [
      "Training: 100%|██████████| 24/24 [00:13<00:00,  1.84it/s, loss=0.448]\n",
      "Validation: 100%|██████████| 1/1 [00:00<00:00,  2.08it/s, loss=0.447]\n"
     ]
    },
    {
     "name": "stdout",
     "output_type": "stream",
     "text": [
      "Validation Dice Score\n",
      "Class 0: 0.9841, Class 1: 0.7653, Class 2: 0.0000, Class 3: 0.3721, Class 4: 0.6556, Class 5: 0.3996, Class 6: 0.8798, \n",
      "Validation F-beta Score\n",
      "Class 0: 0.9825, Class 1: 0.9082, Class 2: 0.0000, Class 3: 0.6315, Class 4: 0.6796, Class 5: 0.3738, Class 6: 0.9255, \n",
      "Validation mIoU Score\n",
      "Class 0: 0.9687, Class 1: 0.6198, Class 2: 0.0000, Class 3: 0.2285, Class 4: 0.4877, Class 5: 0.2497, Class 6: 0.7854, \n",
      "\n",
      "Overall Mean Dice Score: 0.6145\n",
      "Overall Mean F-beta Score: 0.7037\n",
      "Overall Mean IoU Score: 0.4742\n",
      "Final_score: 0.6119\n",
      "Training Loss: 0.4565, Validation Loss: 0.4466, Validation hybrid_score: 0.6119\n",
      "Epoch 26/4000\n"
     ]
    },
    {
     "name": "stderr",
     "output_type": "stream",
     "text": [
      "Training: 100%|██████████| 24/24 [00:12<00:00,  1.90it/s, loss=0.443]\n",
      "Validation: 100%|██████████| 1/1 [00:00<00:00,  1.98it/s, loss=0.437]\n"
     ]
    },
    {
     "name": "stdout",
     "output_type": "stream",
     "text": [
      "Validation Dice Score\n",
      "Class 0: 0.9857, Class 1: 0.6677, Class 2: 0.2432, Class 3: 0.4317, Class 4: 0.7241, Class 5: 0.4007, Class 6: 0.7253, \n",
      "Validation F-beta Score\n",
      "Class 0: 0.9815, Class 1: 0.8626, Class 2: 0.2705, Class 3: 0.5610, Class 4: 0.7540, Class 5: 0.4719, Class 6: 0.9166, \n",
      "Validation mIoU Score\n",
      "Class 0: 0.9717, Class 1: 0.5012, Class 2: 0.1384, Class 3: 0.2752, Class 4: 0.5676, Class 5: 0.2506, Class 6: 0.5690, \n",
      "\n",
      "Overall Mean Dice Score: 0.5899\n",
      "Overall Mean F-beta Score: 0.7132\n",
      "Overall Mean IoU Score: 0.4327\n",
      "Final_score: 0.6010\n",
      "Training Loss: 0.4517, Validation Loss: 0.4368, Validation hybrid_score: 0.6010\n",
      "Epoch 27/4000\n"
     ]
    },
    {
     "name": "stderr",
     "output_type": "stream",
     "text": [
      "Training: 100%|██████████| 24/24 [00:12<00:00,  1.93it/s, loss=0.44] \n",
      "Validation: 100%|██████████| 1/1 [00:00<00:00,  2.21it/s, loss=0.465]\n"
     ]
    },
    {
     "name": "stdout",
     "output_type": "stream",
     "text": [
      "Validation Dice Score\n",
      "Class 0: 0.9861, Class 1: 0.6423, Class 2: 0.1735, Class 3: 0.3544, Class 4: 0.7264, Class 5: 0.3529, Class 6: 0.8893, \n",
      "Validation F-beta Score\n",
      "Class 0: 0.9805, Class 1: 0.8765, Class 2: 0.1555, Class 3: 0.4457, Class 4: 0.8178, Class 5: 0.5004, Class 6: 0.9350, \n",
      "Validation mIoU Score\n",
      "Class 0: 0.9726, Class 1: 0.4730, Class 2: 0.0950, Class 3: 0.2154, Class 4: 0.5704, Class 5: 0.2143, Class 6: 0.8006, \n",
      "\n",
      "Overall Mean Dice Score: 0.5931\n",
      "Overall Mean F-beta Score: 0.7151\n",
      "Overall Mean IoU Score: 0.4547\n",
      "Final_score: 0.6110\n",
      "Training Loss: 0.4493, Validation Loss: 0.4650, Validation hybrid_score: 0.6110\n",
      "Epoch 28/4000\n"
     ]
    },
    {
     "name": "stderr",
     "output_type": "stream",
     "text": [
      "Training: 100%|██████████| 24/24 [00:12<00:00,  1.88it/s, loss=0.466]\n",
      "Validation: 100%|██████████| 1/1 [00:00<00:00,  2.15it/s, loss=0.46]\n"
     ]
    },
    {
     "name": "stdout",
     "output_type": "stream",
     "text": [
      "Validation Dice Score\n",
      "Class 0: 0.9855, Class 1: 0.7329, Class 2: 0.1324, Class 3: 0.4713, Class 4: 0.6462, Class 5: 0.3896, Class 6: 0.7950, \n",
      "Validation F-beta Score\n",
      "Class 0: 0.9803, Class 1: 0.8632, Class 2: 0.1852, Class 3: 0.5573, Class 4: 0.7197, Class 5: 0.5180, Class 6: 0.8821, \n",
      "Validation mIoU Score\n",
      "Class 0: 0.9713, Class 1: 0.5783, Class 2: 0.0709, Class 3: 0.3083, Class 4: 0.4773, Class 5: 0.2419, Class 6: 0.6598, \n",
      "\n",
      "Overall Mean Dice Score: 0.6070\n",
      "Overall Mean F-beta Score: 0.7081\n",
      "Overall Mean IoU Score: 0.4531\n",
      "Final_score: 0.6061\n",
      "Training Loss: 0.4542, Validation Loss: 0.4599, Validation hybrid_score: 0.6061\n",
      "Epoch 29/4000\n"
     ]
    },
    {
     "name": "stderr",
     "output_type": "stream",
     "text": [
      "Training: 100%|██████████| 24/24 [00:12<00:00,  1.91it/s, loss=0.438]\n",
      "Validation: 100%|██████████| 1/1 [00:00<00:00,  1.89it/s, loss=0.443]\n"
     ]
    },
    {
     "name": "stdout",
     "output_type": "stream",
     "text": [
      "Validation Dice Score\n",
      "Class 0: 0.9880, Class 1: 0.7546, Class 2: 0.0000, Class 3: 0.4267, Class 4: 0.7971, Class 5: 0.3136, Class 6: 0.8921, \n",
      "Validation F-beta Score\n",
      "Class 0: 0.9861, Class 1: 0.8292, Class 2: 0.0000, Class 3: 0.5374, Class 4: 0.7933, Class 5: 0.3395, Class 6: 0.9456, \n",
      "Validation mIoU Score\n",
      "Class 0: 0.9763, Class 1: 0.6059, Class 2: 0.0000, Class 3: 0.2712, Class 4: 0.6627, Class 5: 0.1859, Class 6: 0.8053, \n",
      "\n",
      "Overall Mean Dice Score: 0.6368\n",
      "Overall Mean F-beta Score: 0.6890\n",
      "Overall Mean IoU Score: 0.5062\n",
      "Final_score: 0.6159\n",
      "Training Loss: 0.4479, Validation Loss: 0.4427, Validation hybrid_score: 0.6159\n",
      "Epoch 30/4000\n"
     ]
    },
    {
     "name": "stderr",
     "output_type": "stream",
     "text": [
      "Training: 100%|██████████| 24/24 [00:12<00:00,  1.92it/s, loss=0.455]\n",
      "Validation: 100%|██████████| 1/1 [00:00<00:00,  2.03it/s, loss=0.446]\n"
     ]
    },
    {
     "name": "stdout",
     "output_type": "stream",
     "text": [
      "Validation Dice Score\n",
      "Class 0: 0.9859, Class 1: 0.6384, Class 2: 0.2589, Class 3: 0.4340, Class 4: 0.7328, Class 5: 0.5233, Class 6: 0.7279, \n",
      "Validation F-beta Score\n",
      "Class 0: 0.9832, Class 1: 0.8493, Class 2: 0.2380, Class 3: 0.6191, Class 4: 0.7382, Class 5: 0.5817, Class 6: 0.9330, \n",
      "Validation mIoU Score\n",
      "Class 0: 0.9722, Class 1: 0.4689, Class 2: 0.1487, Class 3: 0.2772, Class 4: 0.5783, Class 5: 0.3544, Class 6: 0.5722, \n",
      "\n",
      "Overall Mean Dice Score: 0.6113\n",
      "Overall Mean F-beta Score: 0.7442\n",
      "Overall Mean IoU Score: 0.4502\n",
      "Final_score: 0.6266\n",
      "Training Loss: 0.4474, Validation Loss: 0.4461, Validation hybrid_score: 0.6266\n",
      "Epoch 31/4000\n"
     ]
    },
    {
     "name": "stderr",
     "output_type": "stream",
     "text": [
      "Training: 100%|██████████| 24/24 [00:12<00:00,  1.90it/s, loss=0.438]\n",
      "Validation: 100%|██████████| 1/1 [00:00<00:00,  2.13it/s, loss=0.406]\n"
     ]
    },
    {
     "name": "stdout",
     "output_type": "stream",
     "text": [
      "Validation Dice Score\n",
      "Class 0: 0.9881, Class 1: 0.7610, Class 2: 0.1258, Class 3: 0.5327, Class 4: 0.6596, Class 5: 0.5713, Class 6: 0.9161, \n",
      "Validation F-beta Score\n",
      "Class 0: 0.9861, Class 1: 0.8721, Class 2: 0.1185, Class 3: 0.5612, Class 4: 0.7402, Class 5: 0.5810, Class 6: 0.9411, \n",
      "Validation mIoU Score\n",
      "Class 0: 0.9766, Class 1: 0.6142, Class 2: 0.0671, Class 3: 0.3631, Class 4: 0.4921, Class 5: 0.3999, Class 6: 0.8451, \n",
      "\n",
      "Overall Mean Dice Score: 0.6881\n",
      "Overall Mean F-beta Score: 0.7391\n",
      "Overall Mean IoU Score: 0.5429\n",
      "Final_score: 0.6606\n",
      "Training Loss: 0.4472, Validation Loss: 0.4063, Validation hybrid_score: 0.6606\n",
      "========================================================\n",
      "SUPER Best model saved. Loss:0.4063, Score:0.6606\n",
      "========================================================\n",
      "Epoch 32/4000\n"
     ]
    },
    {
     "name": "stderr",
     "output_type": "stream",
     "text": [
      "Training: 100%|██████████| 24/24 [00:12<00:00,  1.90it/s, loss=0.448]\n",
      "Validation: 100%|██████████| 1/1 [00:00<00:00,  2.13it/s, loss=0.436]\n"
     ]
    },
    {
     "name": "stdout",
     "output_type": "stream",
     "text": [
      "Validation Dice Score\n",
      "Class 0: 0.9861, Class 1: 0.7491, Class 2: 0.1733, Class 3: 0.4829, Class 4: 0.6653, Class 5: 0.4754, Class 6: 0.7797, \n",
      "Validation F-beta Score\n",
      "Class 0: 0.9813, Class 1: 0.8632, Class 2: 0.1761, Class 3: 0.6894, Class 4: 0.7788, Class 5: 0.4964, Class 6: 0.9233, \n",
      "Validation mIoU Score\n",
      "Class 0: 0.9727, Class 1: 0.5988, Class 2: 0.0949, Class 3: 0.3183, Class 4: 0.4985, Class 5: 0.3118, Class 6: 0.6390, \n",
      "\n",
      "Overall Mean Dice Score: 0.6305\n",
      "Overall Mean F-beta Score: 0.7502\n",
      "Overall Mean IoU Score: 0.4733\n",
      "Final_score: 0.6395\n",
      "Training Loss: 0.4474, Validation Loss: 0.4362, Validation hybrid_score: 0.6395\n",
      "Epoch 33/4000\n"
     ]
    },
    {
     "name": "stderr",
     "output_type": "stream",
     "text": [
      "Training: 100%|██████████| 24/24 [00:12<00:00,  1.98it/s, loss=0.442]\n",
      "Validation: 100%|██████████| 1/1 [00:00<00:00,  2.12it/s, loss=0.433]\n"
     ]
    },
    {
     "name": "stdout",
     "output_type": "stream",
     "text": [
      "Validation Dice Score\n",
      "Class 0: 0.9856, Class 1: 0.7564, Class 2: 0.0044, Class 3: 0.5708, Class 4: 0.7542, Class 5: 0.5418, Class 6: 0.8340, \n",
      "Validation F-beta Score\n",
      "Class 0: 0.9812, Class 1: 0.8815, Class 2: 0.0084, Class 3: 0.6360, Class 4: 0.8604, Class 5: 0.5461, Class 6: 0.9060, \n",
      "Validation mIoU Score\n",
      "Class 0: 0.9715, Class 1: 0.6082, Class 2: 0.0022, Class 3: 0.3994, Class 4: 0.6054, Class 5: 0.3716, Class 6: 0.7152, \n",
      "\n",
      "Overall Mean Dice Score: 0.6915\n",
      "Overall Mean F-beta Score: 0.7660\n",
      "Overall Mean IoU Score: 0.5400\n",
      "Final_score: 0.6756\n",
      "Training Loss: 0.4497, Validation Loss: 0.4325, Validation hybrid_score: 0.6756\n",
      "Epoch 34/4000\n"
     ]
    },
    {
     "name": "stderr",
     "output_type": "stream",
     "text": [
      "Training: 100%|██████████| 24/24 [00:12<00:00,  1.95it/s, loss=0.464]\n",
      "Validation: 100%|██████████| 1/1 [00:00<00:00,  2.07it/s, loss=0.398]\n"
     ]
    },
    {
     "name": "stdout",
     "output_type": "stream",
     "text": [
      "Validation Dice Score\n",
      "Class 0: 0.9882, Class 1: 0.7685, Class 2: 0.3023, Class 3: 0.5044, Class 4: 0.6717, Class 5: 0.5806, Class 6: 0.8917, \n",
      "Validation F-beta Score\n",
      "Class 0: 0.9867, Class 1: 0.7719, Class 2: 0.2913, Class 3: 0.6230, Class 4: 0.6972, Class 5: 0.5690, Class 6: 0.9786, \n",
      "Validation mIoU Score\n",
      "Class 0: 0.9766, Class 1: 0.6241, Class 2: 0.1780, Class 3: 0.3373, Class 4: 0.5056, Class 5: 0.4090, Class 6: 0.8046, \n",
      "\n",
      "Overall Mean Dice Score: 0.6834\n",
      "Overall Mean F-beta Score: 0.7279\n",
      "Overall Mean IoU Score: 0.5361\n",
      "Final_score: 0.6512\n",
      "Training Loss: 0.4449, Validation Loss: 0.3977, Validation hybrid_score: 0.6512\n",
      "Epoch 35/4000\n"
     ]
    },
    {
     "name": "stderr",
     "output_type": "stream",
     "text": [
      "Training: 100%|██████████| 24/24 [00:12<00:00,  1.93it/s, loss=0.433]\n",
      "Validation: 100%|██████████| 1/1 [00:00<00:00,  1.91it/s, loss=0.428]\n"
     ]
    },
    {
     "name": "stdout",
     "output_type": "stream",
     "text": [
      "Validation Dice Score\n",
      "Class 0: 0.9843, Class 1: 0.7584, Class 2: 0.0142, Class 3: 0.5144, Class 4: 0.7112, Class 5: 0.4398, Class 6: 0.8371, \n",
      "Validation F-beta Score\n",
      "Class 0: 0.9784, Class 1: 0.8159, Class 2: 0.0412, Class 3: 0.8419, Class 4: 0.7350, Class 5: 0.6244, Class 6: 0.9171, \n",
      "Validation mIoU Score\n",
      "Class 0: 0.9692, Class 1: 0.6109, Class 2: 0.0072, Class 3: 0.3462, Class 4: 0.5519, Class 5: 0.2819, Class 6: 0.7199, \n",
      "\n",
      "Overall Mean Dice Score: 0.6522\n",
      "Overall Mean F-beta Score: 0.7869\n",
      "Overall Mean IoU Score: 0.5022\n",
      "Final_score: 0.6730\n",
      "Training Loss: 0.4469, Validation Loss: 0.4278, Validation hybrid_score: 0.6730\n",
      "Epoch 36/4000\n"
     ]
    },
    {
     "name": "stderr",
     "output_type": "stream",
     "text": [
      "Training: 100%|██████████| 24/24 [00:12<00:00,  1.92it/s, loss=0.466]\n",
      "Validation: 100%|██████████| 1/1 [00:00<00:00,  2.06it/s, loss=0.457]\n"
     ]
    },
    {
     "name": "stdout",
     "output_type": "stream",
     "text": [
      "Validation Dice Score\n",
      "Class 0: 0.9883, Class 1: 0.7069, Class 2: 0.0839, Class 3: 0.3803, Class 4: 0.5202, Class 5: 0.3762, Class 6: 0.9115, \n",
      "Validation F-beta Score\n",
      "Class 0: 0.9848, Class 1: 0.8214, Class 2: 0.2108, Class 3: 0.4488, Class 4: 0.5668, Class 5: 0.4516, Class 6: 0.9549, \n",
      "Validation mIoU Score\n",
      "Class 0: 0.9769, Class 1: 0.5467, Class 2: 0.0438, Class 3: 0.2348, Class 4: 0.3515, Class 5: 0.2317, Class 6: 0.8374, \n",
      "\n",
      "Overall Mean Dice Score: 0.5790\n",
      "Overall Mean F-beta Score: 0.6487\n",
      "Overall Mean IoU Score: 0.4404\n",
      "Final_score: 0.5654\n",
      "Training Loss: 0.4464, Validation Loss: 0.4568, Validation hybrid_score: 0.5654\n",
      "Epoch 37/4000\n"
     ]
    },
    {
     "name": "stderr",
     "output_type": "stream",
     "text": [
      "Training: 100%|██████████| 24/24 [00:12<00:00,  1.94it/s, loss=0.448]\n",
      "Validation: 100%|██████████| 1/1 [00:00<00:00,  2.10it/s, loss=0.448]\n"
     ]
    },
    {
     "name": "stdout",
     "output_type": "stream",
     "text": [
      "Validation Dice Score\n",
      "Class 0: 0.9863, Class 1: 0.7440, Class 2: 0.0036, Class 3: 0.4482, Class 4: 0.7549, Class 5: 0.3864, Class 6: 0.9018, \n",
      "Validation F-beta Score\n",
      "Class 0: 0.9798, Class 1: 0.9268, Class 2: 0.0046, Class 3: 0.5483, Class 4: 0.8325, Class 5: 0.5974, Class 6: 0.9401, \n",
      "Validation mIoU Score\n",
      "Class 0: 0.9730, Class 1: 0.5923, Class 2: 0.0018, Class 3: 0.2888, Class 4: 0.6062, Class 5: 0.2395, Class 6: 0.8212, \n",
      "\n",
      "Overall Mean Dice Score: 0.6471\n",
      "Overall Mean F-beta Score: 0.7690\n",
      "Overall Mean IoU Score: 0.5096\n",
      "Final_score: 0.6653\n",
      "Training Loss: 0.4444, Validation Loss: 0.4476, Validation hybrid_score: 0.6653\n",
      "Epoch 38/4000\n"
     ]
    },
    {
     "name": "stderr",
     "output_type": "stream",
     "text": [
      "Training: 100%|██████████| 24/24 [00:12<00:00,  1.90it/s, loss=0.416]\n",
      "Validation: 100%|██████████| 1/1 [00:00<00:00,  2.17it/s, loss=0.416]\n"
     ]
    },
    {
     "name": "stdout",
     "output_type": "stream",
     "text": [
      "Validation Dice Score\n",
      "Class 0: 0.9861, Class 1: 0.7852, Class 2: 0.3562, Class 3: 0.4940, Class 4: 0.6819, Class 5: 0.3317, Class 6: 0.8774, \n",
      "Validation F-beta Score\n",
      "Class 0: 0.9807, Class 1: 0.8784, Class 2: 0.3541, Class 3: 0.5859, Class 4: 0.7516, Class 5: 0.4622, Class 6: 0.9563, \n",
      "Validation mIoU Score\n",
      "Class 0: 0.9726, Class 1: 0.6464, Class 2: 0.2167, Class 3: 0.3280, Class 4: 0.5173, Class 5: 0.1988, Class 6: 0.7816, \n",
      "\n",
      "Overall Mean Dice Score: 0.6340\n",
      "Overall Mean F-beta Score: 0.7269\n",
      "Overall Mean IoU Score: 0.4944\n",
      "Final_score: 0.6339\n",
      "Training Loss: 0.4463, Validation Loss: 0.4158, Validation hybrid_score: 0.6339\n",
      "Epoch 39/4000\n"
     ]
    },
    {
     "name": "stderr",
     "output_type": "stream",
     "text": [
      "Training: 100%|██████████| 24/24 [00:12<00:00,  1.95it/s, loss=0.458]\n",
      "Validation: 100%|██████████| 1/1 [00:00<00:00,  2.14it/s, loss=0.448]\n"
     ]
    },
    {
     "name": "stdout",
     "output_type": "stream",
     "text": [
      "Validation Dice Score\n",
      "Class 0: 0.9810, Class 1: 0.7184, Class 2: 0.0000, Class 3: 0.4887, Class 4: 0.6849, Class 5: 0.4235, Class 6: 0.8277, \n",
      "Validation F-beta Score\n",
      "Class 0: 0.9761, Class 1: 0.8737, Class 2: 0.0000, Class 3: 0.5683, Class 4: 0.7410, Class 5: 0.4824, Class 6: 0.9397, \n",
      "Validation mIoU Score\n",
      "Class 0: 0.9628, Class 1: 0.5605, Class 2: 0.0000, Class 3: 0.3234, Class 4: 0.5208, Class 5: 0.2686, Class 6: 0.7060, \n",
      "\n",
      "Overall Mean Dice Score: 0.6286\n",
      "Overall Mean F-beta Score: 0.7210\n",
      "Overall Mean IoU Score: 0.4759\n",
      "Final_score: 0.6230\n",
      "Training Loss: 0.4471, Validation Loss: 0.4478, Validation hybrid_score: 0.6230\n",
      "Epoch 40/4000\n"
     ]
    },
    {
     "name": "stderr",
     "output_type": "stream",
     "text": [
      "Training: 100%|██████████| 24/24 [00:12<00:00,  1.94it/s, loss=0.439]\n",
      "Validation: 100%|██████████| 1/1 [00:00<00:00,  2.12it/s, loss=0.436]\n"
     ]
    },
    {
     "name": "stdout",
     "output_type": "stream",
     "text": [
      "Validation Dice Score\n",
      "Class 0: 0.9858, Class 1: 0.6714, Class 2: 0.1660, Class 3: 0.4393, Class 4: 0.7141, Class 5: 0.5040, Class 6: 0.9023, \n",
      "Validation F-beta Score\n",
      "Class 0: 0.9827, Class 1: 0.8924, Class 2: 0.3209, Class 3: 0.5909, Class 4: 0.7191, Class 5: 0.5588, Class 6: 0.9498, \n",
      "Validation mIoU Score\n",
      "Class 0: 0.9720, Class 1: 0.5054, Class 2: 0.0905, Class 3: 0.2815, Class 4: 0.5553, Class 5: 0.3369, Class 6: 0.8220, \n",
      "\n",
      "Overall Mean Dice Score: 0.6462\n",
      "Overall Mean F-beta Score: 0.7422\n",
      "Overall Mean IoU Score: 0.5002\n",
      "Final_score: 0.6454\n",
      "Training Loss: 0.4419, Validation Loss: 0.4359, Validation hybrid_score: 0.6454\n",
      "Epoch 41/4000\n"
     ]
    },
    {
     "name": "stderr",
     "output_type": "stream",
     "text": [
      "Training: 100%|██████████| 24/24 [00:12<00:00,  1.91it/s, loss=0.447]\n",
      "Validation: 100%|██████████| 1/1 [00:00<00:00,  2.05it/s, loss=0.441]\n"
     ]
    },
    {
     "name": "stdout",
     "output_type": "stream",
     "text": [
      "Validation Dice Score\n",
      "Class 0: 0.9821, Class 1: 0.7561, Class 2: 0.2258, Class 3: 0.6748, Class 4: 0.7600, Class 5: 0.5155, Class 6: 0.6501, \n",
      "Validation F-beta Score\n",
      "Class 0: 0.9804, Class 1: 0.8843, Class 2: 0.2102, Class 3: 0.7025, Class 4: 0.7272, Class 5: 0.6496, Class 6: 0.9255, \n",
      "Validation mIoU Score\n",
      "Class 0: 0.9649, Class 1: 0.6079, Class 2: 0.1273, Class 3: 0.5093, Class 4: 0.6129, Class 5: 0.3473, Class 6: 0.4816, \n",
      "\n",
      "Overall Mean Dice Score: 0.6713\n",
      "Overall Mean F-beta Score: 0.7778\n",
      "Overall Mean IoU Score: 0.5118\n",
      "Final_score: 0.6714\n",
      "Training Loss: 0.4501, Validation Loss: 0.4407, Validation hybrid_score: 0.6714\n",
      "Epoch 42/4000\n"
     ]
    },
    {
     "name": "stderr",
     "output_type": "stream",
     "text": [
      "Training: 100%|██████████| 24/24 [00:12<00:00,  1.93it/s, loss=0.444]\n",
      "Validation: 100%|██████████| 1/1 [00:00<00:00,  2.14it/s, loss=0.42]\n"
     ]
    },
    {
     "name": "stdout",
     "output_type": "stream",
     "text": [
      "Validation Dice Score\n",
      "Class 0: 0.9881, Class 1: 0.7902, Class 2: 0.4311, Class 3: 0.4878, Class 4: 0.7480, Class 5: 0.5388, Class 6: 0.8448, \n",
      "Validation F-beta Score\n",
      "Class 0: 0.9849, Class 1: 0.8801, Class 2: 0.3553, Class 3: 0.6220, Class 4: 0.7847, Class 5: 0.6097, Class 6: 0.9187, \n",
      "Validation mIoU Score\n",
      "Class 0: 0.9765, Class 1: 0.6532, Class 2: 0.2748, Class 3: 0.3225, Class 4: 0.5974, Class 5: 0.3687, Class 6: 0.7314, \n",
      "\n",
      "Overall Mean Dice Score: 0.6819\n",
      "Overall Mean F-beta Score: 0.7631\n",
      "Overall Mean IoU Score: 0.5346\n",
      "Final_score: 0.6717\n",
      "Training Loss: 0.4453, Validation Loss: 0.4204, Validation hybrid_score: 0.6717\n",
      "Epoch 43/4000\n"
     ]
    },
    {
     "name": "stderr",
     "output_type": "stream",
     "text": [
      "Training: 100%|██████████| 24/24 [00:12<00:00,  1.98it/s, loss=0.435]\n",
      "Validation: 100%|██████████| 1/1 [00:00<00:00,  2.05it/s, loss=0.437]\n"
     ]
    },
    {
     "name": "stdout",
     "output_type": "stream",
     "text": [
      "Validation Dice Score\n",
      "Class 0: 0.9851, Class 1: 0.7074, Class 2: 0.0676, Class 3: 0.6236, Class 4: 0.5749, Class 5: 0.5061, Class 6: 0.9337, \n",
      "Validation F-beta Score\n",
      "Class 0: 0.9806, Class 1: 0.8494, Class 2: 0.0817, Class 3: 0.7487, Class 4: 0.7149, Class 5: 0.5674, Class 6: 0.9492, \n",
      "Validation mIoU Score\n",
      "Class 0: 0.9707, Class 1: 0.5473, Class 2: 0.0350, Class 3: 0.4530, Class 4: 0.4034, Class 5: 0.3387, Class 6: 0.8756, \n",
      "\n",
      "Overall Mean Dice Score: 0.6691\n",
      "Overall Mean F-beta Score: 0.7659\n",
      "Overall Mean IoU Score: 0.5236\n",
      "Final_score: 0.6690\n",
      "Training Loss: 0.4442, Validation Loss: 0.4367, Validation hybrid_score: 0.6690\n",
      "Epoch 44/4000\n"
     ]
    },
    {
     "name": "stderr",
     "output_type": "stream",
     "text": [
      "Training: 100%|██████████| 24/24 [00:11<00:00,  2.01it/s, loss=0.424]\n",
      "Validation: 100%|██████████| 1/1 [00:00<00:00,  2.08it/s, loss=0.454]\n"
     ]
    },
    {
     "name": "stdout",
     "output_type": "stream",
     "text": [
      "Validation Dice Score\n",
      "Class 0: 0.9871, Class 1: 0.7215, Class 2: 0.3046, Class 3: 0.5272, Class 4: 0.7722, Class 5: 0.2571, Class 6: 0.7776, \n",
      "Validation F-beta Score\n",
      "Class 0: 0.9825, Class 1: 0.8143, Class 2: 0.2403, Class 3: 0.7840, Class 4: 0.7861, Class 5: 0.3909, Class 6: 0.9251, \n",
      "Validation mIoU Score\n",
      "Class 0: 0.9746, Class 1: 0.5644, Class 2: 0.1797, Class 3: 0.3580, Class 4: 0.6289, Class 5: 0.1475, Class 6: 0.6361, \n",
      "\n",
      "Overall Mean Dice Score: 0.6111\n",
      "Overall Mean F-beta Score: 0.7401\n",
      "Overall Mean IoU Score: 0.4670\n",
      "Final_score: 0.6308\n",
      "Training Loss: 0.4466, Validation Loss: 0.4542, Validation hybrid_score: 0.6308\n",
      "Epoch 45/4000\n"
     ]
    },
    {
     "name": "stderr",
     "output_type": "stream",
     "text": [
      "Training: 100%|██████████| 24/24 [00:12<00:00,  1.87it/s, loss=0.431]\n",
      "Validation: 100%|██████████| 1/1 [00:00<00:00,  2.14it/s, loss=0.432]\n"
     ]
    },
    {
     "name": "stdout",
     "output_type": "stream",
     "text": [
      "Validation Dice Score\n",
      "Class 0: 0.9808, Class 1: 0.8214, Class 2: 0.1269, Class 3: 0.3619, Class 4: 0.6932, Class 5: 0.4894, Class 6: 0.9027, \n",
      "Validation F-beta Score\n",
      "Class 0: 0.9768, Class 1: 0.8586, Class 2: 0.1592, Class 3: 0.5441, Class 4: 0.7173, Class 5: 0.5590, Class 6: 0.9502, \n",
      "Validation mIoU Score\n",
      "Class 0: 0.9623, Class 1: 0.6969, Class 2: 0.0678, Class 3: 0.2209, Class 4: 0.5304, Class 5: 0.3240, Class 6: 0.8227, \n",
      "\n",
      "Overall Mean Dice Score: 0.6537\n",
      "Overall Mean F-beta Score: 0.7259\n",
      "Overall Mean IoU Score: 0.5190\n",
      "Final_score: 0.6431\n",
      "Training Loss: 0.4481, Validation Loss: 0.4315, Validation hybrid_score: 0.6431\n",
      "Epoch 46/4000\n"
     ]
    },
    {
     "name": "stderr",
     "output_type": "stream",
     "text": [
      "Training: 100%|██████████| 24/24 [00:14<00:00,  1.69it/s, loss=0.429]\n",
      "Validation: 100%|██████████| 1/1 [00:00<00:00,  2.03it/s, loss=0.447]\n"
     ]
    },
    {
     "name": "stdout",
     "output_type": "stream",
     "text": [
      "Validation Dice Score\n",
      "Class 0: 0.9831, Class 1: 0.7185, Class 2: 0.1422, Class 3: 0.3700, Class 4: 0.7257, Class 5: 0.3922, Class 6: 0.8760, \n",
      "Validation F-beta Score\n",
      "Class 0: 0.9751, Class 1: 0.9229, Class 2: 0.1533, Class 3: 0.5340, Class 4: 0.8110, Class 5: 0.5828, Class 6: 0.9541, \n",
      "Validation mIoU Score\n",
      "Class 0: 0.9667, Class 1: 0.5607, Class 2: 0.0766, Class 3: 0.2270, Class 4: 0.5695, Class 5: 0.2440, Class 6: 0.7794, \n",
      "\n",
      "Overall Mean Dice Score: 0.6165\n",
      "Overall Mean F-beta Score: 0.7610\n",
      "Overall Mean IoU Score: 0.4761\n",
      "Final_score: 0.6470\n",
      "Training Loss: 0.4422, Validation Loss: 0.4474, Validation hybrid_score: 0.6470\n",
      "Epoch 47/4000\n"
     ]
    },
    {
     "name": "stderr",
     "output_type": "stream",
     "text": [
      "Training: 100%|██████████| 24/24 [00:12<00:00,  1.99it/s, loss=0.442]\n",
      "Validation: 100%|██████████| 1/1 [00:00<00:00,  2.10it/s, loss=0.435]\n"
     ]
    },
    {
     "name": "stdout",
     "output_type": "stream",
     "text": [
      "Validation Dice Score\n",
      "Class 0: 0.9832, Class 1: 0.7996, Class 2: 0.3457, Class 3: 0.4414, Class 4: 0.7333, Class 5: 0.5795, Class 6: 0.7594, \n",
      "Validation F-beta Score\n",
      "Class 0: 0.9813, Class 1: 0.7912, Class 2: 0.4111, Class 3: 0.4601, Class 4: 0.7149, Class 5: 0.7513, Class 6: 0.9392, \n",
      "Validation mIoU Score\n",
      "Class 0: 0.9669, Class 1: 0.6661, Class 2: 0.2090, Class 3: 0.2832, Class 4: 0.5789, Class 5: 0.4079, Class 6: 0.6121, \n",
      "\n",
      "Overall Mean Dice Score: 0.6626\n",
      "Overall Mean F-beta Score: 0.7314\n",
      "Overall Mean IoU Score: 0.5096\n",
      "Final_score: 0.6427\n",
      "Training Loss: 0.4415, Validation Loss: 0.4347, Validation hybrid_score: 0.6427\n",
      "Epoch 48/4000\n"
     ]
    },
    {
     "name": "stderr",
     "output_type": "stream",
     "text": [
      "Training: 100%|██████████| 24/24 [00:11<00:00,  2.01it/s, loss=0.42] \n",
      "Validation: 100%|██████████| 1/1 [00:00<00:00,  2.19it/s, loss=0.439]\n"
     ]
    },
    {
     "name": "stdout",
     "output_type": "stream",
     "text": [
      "Validation Dice Score\n",
      "Class 0: 0.9853, Class 1: 0.3512, Class 2: 0.3500, Class 3: 0.5582, Class 4: 0.7693, Class 5: 0.5199, Class 6: 0.6952, \n",
      "Validation F-beta Score\n",
      "Class 0: 0.9827, Class 1: 0.7348, Class 2: 0.3137, Class 3: 0.5462, Class 4: 0.7930, Class 5: 0.5877, Class 6: 0.9308, \n",
      "Validation mIoU Score\n",
      "Class 0: 0.9710, Class 1: 0.2130, Class 2: 0.2121, Class 3: 0.3871, Class 4: 0.6250, Class 5: 0.3513, Class 6: 0.5328, \n",
      "\n",
      "Overall Mean Dice Score: 0.5787\n",
      "Overall Mean F-beta Score: 0.7185\n",
      "Overall Mean IoU Score: 0.4218\n",
      "Final_score: 0.5998\n",
      "Training Loss: 0.4471, Validation Loss: 0.4387, Validation hybrid_score: 0.5998\n",
      "Epoch 49/4000\n"
     ]
    },
    {
     "name": "stderr",
     "output_type": "stream",
     "text": [
      "Training: 100%|██████████| 24/24 [00:11<00:00,  2.04it/s, loss=0.45] \n",
      "Validation: 100%|██████████| 1/1 [00:00<00:00,  2.13it/s, loss=0.437]\n"
     ]
    },
    {
     "name": "stdout",
     "output_type": "stream",
     "text": [
      "Validation Dice Score\n",
      "Class 0: 0.9818, Class 1: 0.5906, Class 2: 0.0632, Class 3: 0.5803, Class 4: 0.7490, Class 5: 0.3965, Class 6: 0.7990, \n",
      "Validation F-beta Score\n",
      "Class 0: 0.9809, Class 1: 0.8432, Class 2: 0.0800, Class 3: 0.6337, Class 4: 0.7312, Class 5: 0.4031, Class 6: 0.9410, \n",
      "Validation mIoU Score\n",
      "Class 0: 0.9642, Class 1: 0.4190, Class 2: 0.0326, Class 3: 0.4087, Class 4: 0.5987, Class 5: 0.2473, Class 6: 0.6652, \n",
      "\n",
      "Overall Mean Dice Score: 0.6231\n",
      "Overall Mean F-beta Score: 0.7105\n",
      "Overall Mean IoU Score: 0.4678\n",
      "Final_score: 0.6134\n",
      "Training Loss: 0.4449, Validation Loss: 0.4368, Validation hybrid_score: 0.6134\n",
      "Epoch 50/4000\n"
     ]
    },
    {
     "name": "stderr",
     "output_type": "stream",
     "text": [
      "Training: 100%|██████████| 24/24 [00:11<00:00,  2.04it/s, loss=0.443]\n",
      "Validation: 100%|██████████| 1/1 [00:00<00:00,  2.02it/s, loss=0.456]\n"
     ]
    },
    {
     "name": "stdout",
     "output_type": "stream",
     "text": [
      "Validation Dice Score\n",
      "Class 0: 0.9858, Class 1: 0.6639, Class 2: 0.3034, Class 3: 0.1816, Class 4: 0.7793, Class 5: 0.4834, Class 6: 0.9040, \n",
      "Validation F-beta Score\n",
      "Class 0: 0.9826, Class 1: 0.8263, Class 2: 0.2873, Class 3: 0.5318, Class 4: 0.7693, Class 5: 0.5866, Class 6: 0.9684, \n",
      "Validation mIoU Score\n",
      "Class 0: 0.9721, Class 1: 0.4969, Class 2: 0.1788, Class 3: 0.0999, Class 4: 0.6384, Class 5: 0.3188, Class 6: 0.8249, \n",
      "\n",
      "Overall Mean Dice Score: 0.6024\n",
      "Overall Mean F-beta Score: 0.7365\n",
      "Overall Mean IoU Score: 0.4758\n",
      "Final_score: 0.6322\n",
      "Training Loss: 0.4422, Validation Loss: 0.4560, Validation hybrid_score: 0.6322\n",
      "Epoch 51/4000\n"
     ]
    },
    {
     "name": "stderr",
     "output_type": "stream",
     "text": [
      "Training: 100%|██████████| 24/24 [00:12<00:00,  1.99it/s, loss=0.455]\n",
      "Validation: 100%|██████████| 1/1 [00:00<00:00,  2.13it/s, loss=0.423]\n"
     ]
    },
    {
     "name": "stdout",
     "output_type": "stream",
     "text": [
      "Validation Dice Score\n",
      "Class 0: 0.9845, Class 1: 0.6839, Class 2: 0.2143, Class 3: 0.4322, Class 4: 0.7156, Class 5: 0.4675, Class 6: 0.8265, \n",
      "Validation F-beta Score\n",
      "Class 0: 0.9782, Class 1: 0.8586, Class 2: 0.2447, Class 3: 0.6598, Class 4: 0.7632, Class 5: 0.6183, Class 6: 0.9244, \n",
      "Validation mIoU Score\n",
      "Class 0: 0.9695, Class 1: 0.5196, Class 2: 0.1200, Class 3: 0.2757, Class 4: 0.5571, Class 5: 0.3051, Class 6: 0.7043, \n",
      "\n",
      "Overall Mean Dice Score: 0.6251\n",
      "Overall Mean F-beta Score: 0.7649\n",
      "Overall Mean IoU Score: 0.4724\n",
      "Final_score: 0.6479\n",
      "Training Loss: 0.4448, Validation Loss: 0.4228, Validation hybrid_score: 0.6479\n",
      "Epoch 52/4000\n"
     ]
    },
    {
     "name": "stderr",
     "output_type": "stream",
     "text": [
      "Training: 100%|██████████| 24/24 [00:12<00:00,  1.97it/s, loss=0.449]\n",
      "Validation: 100%|██████████| 1/1 [00:00<00:00,  2.16it/s, loss=0.441]\n"
     ]
    },
    {
     "name": "stdout",
     "output_type": "stream",
     "text": [
      "Validation Dice Score\n",
      "Class 0: 0.9865, Class 1: 0.7828, Class 2: 0.2059, Class 3: 0.4987, Class 4: 0.7275, Class 5: 0.4028, Class 6: 0.9179, \n",
      "Validation F-beta Score\n",
      "Class 0: 0.9845, Class 1: 0.8646, Class 2: 0.2126, Class 3: 0.7290, Class 4: 0.7118, Class 5: 0.4544, Class 6: 0.9676, \n",
      "Validation mIoU Score\n",
      "Class 0: 0.9734, Class 1: 0.6432, Class 2: 0.1148, Class 3: 0.3322, Class 4: 0.5717, Class 5: 0.2522, Class 6: 0.8483, \n",
      "\n",
      "Overall Mean Dice Score: 0.6660\n",
      "Overall Mean F-beta Score: 0.7455\n",
      "Overall Mean IoU Score: 0.5295\n",
      "Final_score: 0.6591\n",
      "Training Loss: 0.4458, Validation Loss: 0.4412, Validation hybrid_score: 0.6591\n",
      "Epoch 53/4000\n"
     ]
    },
    {
     "name": "stderr",
     "output_type": "stream",
     "text": [
      "Training: 100%|██████████| 24/24 [00:12<00:00,  1.96it/s, loss=0.438]\n",
      "Validation: 100%|██████████| 1/1 [00:00<00:00,  2.20it/s, loss=0.452]"
     ]
    },
    {
     "name": "stdout",
     "output_type": "stream",
     "text": [
      "Validation Dice Score\n",
      "Class 0: 0.9854, Class 1: 0.7416, Class 2: 0.0000, Class 3: 0.4811, Class 4: 0.6757, Class 5: 0.4361, Class 6: 0.9157, \n",
      "Validation F-beta Score\n",
      "Class 0: 0.9790, Class 1: 0.7876, Class 2: 0.0000, Class 3: 0.5138, Class 4: 0.8160, Class 5: 0.5508, Class 6: 0.9659, \n",
      "Validation mIoU Score\n",
      "Class 0: 0.9712, Class 1: 0.5894, Class 2: 0.0000, Class 3: 0.3167, Class 4: 0.5102, Class 5: 0.2789, Class 6: 0.8445, \n",
      "\n",
      "Overall Mean Dice Score: 0.6500\n",
      "Overall Mean F-beta Score: 0.7268\n",
      "Overall Mean IoU Score: 0.5079\n",
      "Final_score: 0.6393\n",
      "Training Loss: 0.4417, Validation Loss: 0.4521, Validation hybrid_score: 0.6393\n",
      "Early stopping\n"
     ]
    },
    {
     "name": "stderr",
     "output_type": "stream",
     "text": [
      "\n"
     ]
    },
    {
     "data": {
      "text/html": [],
      "text/plain": [
       "<IPython.core.display.HTML object>"
      ]
     },
     "metadata": {},
     "output_type": "display_data"
    },
    {
     "data": {
      "text/html": [
       "<br>    <style><br>        .wandb-row {<br>            display: flex;<br>            flex-direction: row;<br>            flex-wrap: wrap;<br>            justify-content: flex-start;<br>            width: 100%;<br>        }<br>        .wandb-col {<br>            display: flex;<br>            flex-direction: column;<br>            flex-basis: 100%;<br>            flex: 1;<br>            padding: 10px;<br>        }<br>    </style><br><div class=\"wandb-row\"><div class=\"wandb-col\"><h3>Run history:</h3><br/><table class=\"wandb\"><tr><td>class_0_IoU_score</td><td>▄▄▄▅▁▆▅▅▄▃█▄▆▅▆▅▆▄▄▆▄▆▆▅▅▅▇▄▇▇</td></tr><tr><td>class_0_dice_score</td><td>▆▄▆▆▅█▆█▆▅█▄█▆▆▁▆▂█▅▇▁▃▃▅▂▆▄▆▅</td></tr><tr><td>class_0_f_beta_score</td><td>▅▅▅▄▄█▆█▅▅█▃▇▄▄▂▆▄▇▄▅▂▁▅▆▅▆▃▇▃</td></tr><tr><td>class_1_IoU_score</td><td>▄▄▄▅▁▆▅▅▄▃█▄▆▅▆▅▆▄▄▆▄▆▆▅▅▅▇▄▇▇</td></tr><tr><td>class_1_dice_score</td><td>█▇▆▅▇▇▅▇▇▇▇▇▆▇▇▆▆▇█▆▇█▆█▁▅▆▆▇▇</td></tr><tr><td>class_1_f_beta_score</td><td>▅▇▆▆▆▄▅▆▆▆▂▄▄█▆▆▇▆▆▅▄▆█▃▁▅▄▆▆▃</td></tr><tr><td>class_2_IoU_score</td><td>▄▄▄▅▁▆▅▅▄▃█▄▆▅▆▅▆▄▄▆▄▆▆▅▅▅▇▄▇▇</td></tr><tr><td>class_2_dice_score</td><td>▃▁▅▄▃▁▅▃▄▁▆▁▂▁▇▁▄▅█▂▆▃▃▇▇▂▆▄▄▁</td></tr><tr><td>class_2_f_beta_score</td><td>▃▁▆▄▄▁▅▃▄▁▆▂▅▁▇▁▆▅▇▂▅▄▄█▆▂▆▅▅▁</td></tr><tr><td>class_3_IoU_score</td><td>▄▄▄▅▁▆▅▅▄▃█▄▆▅▆▅▆▄▄▆▄▆▆▅▅▅▇▄▇▇</td></tr><tr><td>class_3_dice_score</td><td>▂▄▅▃▅▄▅▆▅▇▆▆▄▅▅▅▅█▅▇▆▄▄▅▆▇▁▅▆▅</td></tr><tr><td>class_3_f_beta_score</td><td>▃▄▃▁▃▃▄▃▅▄▄█▁▃▃▃▄▆▄▆▇▃▃▁▃▄▃▅▆▂</td></tr><tr><td>class_4_IoU_score</td><td>▄▄▄▅▁▆▅▅▄▃█▄▆▅▆▅▆▄▄▆▄▆▆▅▅▅▇▄▇▇</td></tr><tr><td>class_4_dice_score</td><td>▅▄▆▆▄█▆▅▅▇▅▆▁▇▅▅▆▇▇▂▇▅▆▆▇▇█▆▆▅</td></tr><tr><td>class_4_f_beta_score</td><td>▆▄▅▇▅▆▅▅▆█▄▅▁▇▅▅▅▅▆▅▆▅▇▅▆▅▆▆▄▇</td></tr><tr><td>class_5_IoU_score</td><td>▄▄▄▅▁▆▅▅▄▃█▄▆▅▆▅▆▄▄▆▄▆▆▅▅▅▇▄▇▇</td></tr><tr><td>class_5_dice_score</td><td>▇▄▄▃▄▂▇█▆▇█▅▄▄▃▅▆▇▇▆▁▆▄█▇▄▆▆▄▅</td></tr><tr><td>class_5_f_beta_score</td><td>▅▂▃▄▄▁▅▅▄▅▅▆▃▅▃▃▅▆▆▅▂▅▅█▅▂▅▆▃▅</td></tr><tr><td>class_6_IoU_score</td><td>▄▄▄▅▁▆▅▅▄▃█▄▆▅▆▅▆▄▄▆▄▆▆▅▅▅▇▄▇▇</td></tr><tr><td>class_6_dice_score</td><td>▇▇▃▇▅▇▃█▄▆▇▆▇▇▇▅▇▁▆█▄▇▇▄▂▅▇▅██</td></tr><tr><td>class_6_f_beta_score</td><td>▄▄▄▅▁▆▅▅▄▃█▄▆▅▆▅▆▄▄▆▄▆▆▅▅▅▇▄▇▇</td></tr><tr><td>epoch</td><td>▁▁▁▂▂▂▂▂▂▂▃▃▃▃▃▃▃▃▃▃▄▄▄▄▄▄▅▅▅▅▆▆▆▆▆▇▇▇▇█</td></tr><tr><td>final_score</td><td>▆▄▃▄▄▄▅▇▆█▆█▁▇▅▅▆███▅▆▆▆▃▄▅▆▇▆</td></tr><tr><td>overall_mean_IoU_score</td><td>▅▄▂▃▃▆▃█▄██▆▂▆▅▄▆▆█▇▄▇▄▆▁▄▄▄▇▆</td></tr><tr><td>overall_mean_dice_score</td><td>▄▃▂▂▃▅▃█▄█▇▆▁▅▄▄▅▇▇▇▃▆▃▆▁▄▂▄▆▅</td></tr><tr><td>overall_mean_f_beta_score</td><td>▅▄▄▄▄▃▆▆▆▇▅█▁▇▅▅▆█▇▇▆▅▇▅▅▄▅▇▆▅</td></tr><tr><td>train_epoch_loss</td><td>█▇▅▄▆▄▃▃▄▄▂▃▃▂▃▃▁▅▃▂▃▄▁▁▃▂▁▂▃▁</td></tr><tr><td>val_epoch_loss</td><td>▃▆▅█▇▆▆▂▅▅▁▄▇▆▃▆▅▅▃▅▇▅▆▅▅▅▇▄▆▇</td></tr></table><br/></div><div class=\"wandb-col\"><h3>Run summary:</h3><br/><table class=\"wandb\"><tr><td>class_0_IoU_score</td><td>0.96595</td></tr><tr><td>class_0_dice_score</td><td>0.98538</td></tr><tr><td>class_0_f_beta_score</td><td>0.97905</td></tr><tr><td>class_1_IoU_score</td><td>0.96595</td></tr><tr><td>class_1_dice_score</td><td>0.74163</td></tr><tr><td>class_1_f_beta_score</td><td>0.7876</td></tr><tr><td>class_2_IoU_score</td><td>0.96595</td></tr><tr><td>class_2_dice_score</td><td>0</td></tr><tr><td>class_2_f_beta_score</td><td>0.0</td></tr><tr><td>class_3_IoU_score</td><td>0.96595</td></tr><tr><td>class_3_dice_score</td><td>0.48107</td></tr><tr><td>class_3_f_beta_score</td><td>0.5138</td></tr><tr><td>class_4_IoU_score</td><td>0.96595</td></tr><tr><td>class_4_dice_score</td><td>0.67568</td></tr><tr><td>class_4_f_beta_score</td><td>0.816</td></tr><tr><td>class_5_IoU_score</td><td>0.96595</td></tr><tr><td>class_5_dice_score</td><td>0.4361</td></tr><tr><td>class_5_f_beta_score</td><td>0.55077</td></tr><tr><td>class_6_IoU_score</td><td>0.96595</td></tr><tr><td>class_6_dice_score</td><td>0.91569</td></tr><tr><td>class_6_f_beta_score</td><td>0.96595</td></tr><tr><td>epoch</td><td>53</td></tr><tr><td>final_score</td><td>0.63927</td></tr><tr><td>overall_mean_IoU_score</td><td>0.50793</td></tr><tr><td>overall_mean_dice_score</td><td>0.65004</td></tr><tr><td>overall_mean_f_beta_score</td><td>0.72682</td></tr><tr><td>train_epoch_loss</td><td>0.4417</td></tr><tr><td>val_epoch_loss</td><td>0.45209</td></tr></table><br/></div></div>"
      ],
      "text/plain": [
       "<IPython.core.display.HTML object>"
      ]
     },
     "metadata": {},
     "output_type": "display_data"
    },
    {
     "data": {
      "text/html": [
       " View run <strong style=\"color:#cdcd00\">pre_UNET_511_241_prelu_instance_f48_lr1e-03_a0.52_b16_r4_ce0.4_ac1</strong> at: <a href='https://wandb.ai/limbw/czii_UNet/runs/o8iqln63' target=\"_blank\">https://wandb.ai/limbw/czii_UNet/runs/o8iqln63</a><br> View project at: <a href='https://wandb.ai/limbw/czii_UNet' target=\"_blank\">https://wandb.ai/limbw/czii_UNet</a><br>Synced 5 W&B file(s), 0 media file(s), 0 artifact file(s) and 0 other file(s)"
      ],
      "text/plain": [
       "<IPython.core.display.HTML object>"
      ]
     },
     "metadata": {},
     "output_type": "display_data"
    },
    {
     "data": {
      "text/html": [
       "Find logs at: <code>.\\wandb\\run-20250120_232730-o8iqln63\\logs</code>"
      ],
      "text/plain": [
       "<IPython.core.display.HTML object>"
      ]
     },
     "metadata": {},
     "output_type": "display_data"
    }
   ],
   "source": [
    "train_model(\n",
    "    model=model,\n",
    "    train_loader=train_loader,\n",
    "    val_loader=val_loader,\n",
    "    criterion=criterion,\n",
    "    optimizer=optimizer,\n",
    "    num_epochs=num_epochs,\n",
    "    patience=10,\n",
    "    device=device,\n",
    "    start_epoch=start_epoch,\n",
    "    best_val_loss=best_val_loss,\n",
    "    best_val_fbeta_score=best_val_fbeta_score,\n",
    "    calculate_dice_interval=1,\n",
    "    accumulation_steps = accumulation_steps,\n",
    "    pretrained=False,\n",
    "    ) "
   ]
  },
  {
   "cell_type": "code",
   "execution_count": null,
   "metadata": {},
   "outputs": [
    {
     "ename": "SyntaxError",
     "evalue": "invalid syntax (879943805.py, line 1)",
     "output_type": "error",
     "traceback": [
      "\u001b[1;36m  Cell \u001b[1;32mIn[17], line 1\u001b[1;36m\u001b[0m\n\u001b[1;33m    if:\u001b[0m\n\u001b[1;37m      ^\u001b[0m\n\u001b[1;31mSyntaxError\u001b[0m\u001b[1;31m:\u001b[0m invalid syntax\n"
     ]
    }
   ],
   "source": [
    "if:"
   ]
  },
  {
   "cell_type": "markdown",
   "metadata": {},
   "source": [
    "# VAl"
   ]
  },
  {
   "cell_type": "code",
   "execution_count": null,
   "metadata": {},
   "outputs": [
    {
     "data": {
      "text/html": [
       "Finishing last run (ID:fs6utwyo) before initializing another..."
      ],
      "text/plain": [
       "<IPython.core.display.HTML object>"
      ]
     },
     "metadata": {},
     "output_type": "display_data"
    },
    {
     "data": {
      "application/vnd.jupyter.widget-view+json": {
       "model_id": "29cc3ae761af43baae5aca60b5d2e7f4",
       "version_major": 2,
       "version_minor": 0
      },
      "text/plain": [
       "VBox(children=(Label(value='0.009 MB of 0.009 MB uploaded\\r'), FloatProgress(value=1.0, max=1.0)))"
      ]
     },
     "metadata": {},
     "output_type": "display_data"
    },
    {
     "data": {
      "text/html": [
       "<style>\n",
       "    table.wandb td:nth-child(1) { padding: 0 10px; text-align: left ; width: auto;} td:nth-child(2) {text-align: left ; width: 100%}\n",
       "    .wandb-row { display: flex; flex-direction: row; flex-wrap: wrap; justify-content: flex-start; width: 100% }\n",
       "    .wandb-col { display: flex; flex-direction: column; flex-basis: 100%; flex: 1; padding: 10px; }\n",
       "    </style>\n",
       "<div class=\"wandb-row\"><div class=\"wandb-col\"><h3>Run history:</h3><br/><table class=\"wandb\"><tr><td>class_0_dice_score</td><td>▁</td></tr><tr><td>class_0_f_beta_score</td><td>▁</td></tr><tr><td>class_1_dice_score</td><td>▁</td></tr><tr><td>class_1_f_beta_score</td><td>▁</td></tr><tr><td>class_2_dice_score</td><td>▁</td></tr><tr><td>class_2_f_beta_score</td><td>▁</td></tr><tr><td>class_3_dice_score</td><td>▁</td></tr><tr><td>class_3_f_beta_score</td><td>▁</td></tr><tr><td>class_4_dice_score</td><td>▁</td></tr><tr><td>class_4_f_beta_score</td><td>▁</td></tr><tr><td>class_5_dice_score</td><td>▁</td></tr><tr><td>class_5_f_beta_score</td><td>▁</td></tr><tr><td>class_6_dice_score</td><td>▁</td></tr><tr><td>class_6_f_beta_score</td><td>▁</td></tr><tr><td>epoch</td><td>▁▁▁▁▁▁▁▁▁▁▁▁▁▁▁▁</td></tr><tr><td>overall_mean_dice_score</td><td>▁</td></tr><tr><td>overall_mean_f_beta_score</td><td>▁</td></tr><tr><td>val_epoch_loss</td><td>▁</td></tr></table><br/></div><div class=\"wandb-col\"><h3>Run summary:</h3><br/><table class=\"wandb\"><tr><td>class_0_dice_score</td><td>0.65703</td></tr><tr><td>class_0_f_beta_score</td><td>0.50748</td></tr><tr><td>class_1_dice_score</td><td>0.53332</td></tr><tr><td>class_1_f_beta_score</td><td>0.64703</td></tr><tr><td>class_2_dice_score</td><td>0.00286</td></tr><tr><td>class_2_f_beta_score</td><td>0.02334</td></tr><tr><td>class_3_dice_score</td><td>0.23703</td></tr><tr><td>class_3_f_beta_score</td><td>0.23033</td></tr><tr><td>class_4_dice_score</td><td>0.65487</td></tr><tr><td>class_4_f_beta_score</td><td>0.62525</td></tr><tr><td>class_5_dice_score</td><td>0.47899</td></tr><tr><td>class_5_f_beta_score</td><td>0.51448</td></tr><tr><td>class_6_dice_score</td><td>0.42545</td></tr><tr><td>class_6_f_beta_score</td><td>0.47197</td></tr><tr><td>epoch</td><td>1</td></tr><tr><td>overall_mean_dice_score</td><td>0.42708</td></tr><tr><td>overall_mean_f_beta_score</td><td>0.43141</td></tr><tr><td>val_epoch_loss</td><td>0.7152</td></tr></table><br/></div></div>"
      ],
      "text/plain": [
       "<IPython.core.display.HTML object>"
      ]
     },
     "metadata": {},
     "output_type": "display_data"
    },
    {
     "data": {
      "text/html": [
       " View run <strong style=\"color:#cdcd00\">SwinUNETR96_96_lr0.001_lambda0.52_batch2</strong> at: <a href='https://wandb.ai/waooang/czii_SwinUnetR_val/runs/fs6utwyo' target=\"_blank\">https://wandb.ai/waooang/czii_SwinUnetR_val/runs/fs6utwyo</a><br/> View project at: <a href='https://wandb.ai/waooang/czii_SwinUnetR_val' target=\"_blank\">https://wandb.ai/waooang/czii_SwinUnetR_val</a><br/>Synced 4 W&B file(s), 0 media file(s), 3 artifact file(s) and 0 other file(s)"
      ],
      "text/plain": [
       "<IPython.core.display.HTML object>"
      ]
     },
     "metadata": {},
     "output_type": "display_data"
    },
    {
     "data": {
      "text/html": [
       "Find logs at: <code>.\\wandb\\run-20241219_200219-fs6utwyo\\logs</code>"
      ],
      "text/plain": [
       "<IPython.core.display.HTML object>"
      ]
     },
     "metadata": {},
     "output_type": "display_data"
    },
    {
     "data": {
      "text/html": [
       "Successfully finished last run (ID:fs6utwyo). Initializing new run:<br/>"
      ],
      "text/plain": [
       "<IPython.core.display.HTML object>"
      ]
     },
     "metadata": {},
     "output_type": "display_data"
    },
    {
     "data": {
      "text/html": [
       "Tracking run with wandb version 0.18.3"
      ],
      "text/plain": [
       "<IPython.core.display.HTML object>"
      ]
     },
     "metadata": {},
     "output_type": "display_data"
    },
    {
     "data": {
      "text/html": [
       "Run data is saved locally in <code>e:\\Workspace\\czll\\wandb\\run-20241219_200454-121l7bn3</code>"
      ],
      "text/plain": [
       "<IPython.core.display.HTML object>"
      ]
     },
     "metadata": {},
     "output_type": "display_data"
    },
    {
     "data": {
      "text/html": [
       "Syncing run <strong><a href='https://wandb.ai/waooang/czii_SwinUnetR_val/runs/121l7bn3' target=\"_blank\">SwinUNETR96_96_lr0.001_lambda0.52_batch2</a></strong> to <a href='https://wandb.ai/waooang/czii_SwinUnetR_val' target=\"_blank\">Weights & Biases</a> (<a href='https://wandb.me/run' target=\"_blank\">docs</a>)<br/>"
      ],
      "text/plain": [
       "<IPython.core.display.HTML object>"
      ]
     },
     "metadata": {},
     "output_type": "display_data"
    },
    {
     "data": {
      "text/html": [
       " View project at <a href='https://wandb.ai/waooang/czii_SwinUnetR_val' target=\"_blank\">https://wandb.ai/waooang/czii_SwinUnetR_val</a>"
      ],
      "text/plain": [
       "<IPython.core.display.HTML object>"
      ]
     },
     "metadata": {},
     "output_type": "display_data"
    },
    {
     "data": {
      "text/html": [
       " View run at <a href='https://wandb.ai/waooang/czii_SwinUnetR_val/runs/121l7bn3' target=\"_blank\">https://wandb.ai/waooang/czii_SwinUnetR_val/runs/121l7bn3</a>"
      ],
      "text/plain": [
       "<IPython.core.display.HTML object>"
      ]
     },
     "metadata": {},
     "output_type": "display_data"
    },
    {
     "name": "stderr",
     "output_type": "stream",
     "text": [
      "Loading dataset: 100%|██████████| 4/4 [00:06<00:00,  1.58s/it]\n",
      "C:\\Users\\Seungwoo\\AppData\\Local\\Temp\\ipykernel_21000\\1177025787.py:95: FutureWarning: You are using `torch.load` with `weights_only=False` (the current default value), which uses the default pickle module implicitly. It is possible to construct malicious pickle data which will execute arbitrary code during unpickling (See https://github.com/pytorch/pytorch/blob/main/SECURITY.md#untrusted-models for more details). In a future release, the default value for `weights_only` will be flipped to `True`. This limits the functions that could be executed during unpickling. Arbitrary objects will no longer be allowed to be loaded via this mode unless they are explicitly allowlisted by the user via `torch.serialization.add_safe_globals`. We recommend you start setting `weights_only=True` for any use case where you don't have full control of the loaded file. Please open an issue on GitHub for any issues related to this experimental feature.\n",
      "  checkpoint = torch.load(pretrain_path, map_location=device)\n",
      "Validation: 100%|██████████| 4/4 [00:01<00:00,  2.38it/s, loss=0.865]"
     ]
    },
    {
     "name": "stdout",
     "output_type": "stream",
     "text": [
      "Validation Dice Score\n",
      "Class 0: 0.6570, Class 1: 0.5333, Class 2: 0.0029, Class 3: 0.2370, \n",
      "Class 4: 0.6549, Class 5: 0.4790, Class 6: 0.4255, \n",
      "Validation F-beta Score\n",
      "Class 0: 0.5075, Class 1: 0.6470, Class 2: 0.0233, Class 3: 0.2303, \n",
      "Class 4: 0.6252, Class 5: 0.5145, Class 6: 0.4720, \n",
      "Overall Mean Dice Score: 0.4659\n",
      "Overall Mean F-beta Score: 0.4978\n",
      "\n"
     ]
    },
    {
     "name": "stderr",
     "output_type": "stream",
     "text": [
      "\n"
     ]
    },
    {
     "ename": "",
     "evalue": "",
     "output_type": "error",
     "traceback": [
      "\u001b[1;31mnotebook controller is DISPOSED. \n",
      "\u001b[1;31m자세한 내용은 Jupyter <a href='command:jupyter.viewOutput'>로그</a>를 참조하세요."
     ]
    },
    {
     "ename": "",
     "evalue": "",
     "output_type": "error",
     "traceback": [
      "\u001b[1;31mnotebook controller is DISPOSED. \n",
      "\u001b[1;31m자세한 내용은 Jupyter <a href='command:jupyter.viewOutput'>로그</a>를 참조하세요."
     ]
    }
   ],
   "source": [
    "from monai.data import DataLoader, Dataset, CacheDataset\n",
    "from monai.transforms import (\n",
    "    Compose, LoadImaged, EnsureChannelFirstd, NormalizeIntensityd,\n",
    "    Orientationd, CropForegroundd, GaussianSmoothd, ScaleIntensityd,\n",
    "    RandSpatialCropd, RandRotate90d, RandFlipd, RandGaussianNoised,\n",
    "    ToTensord, RandCropByLabelClassesd\n",
    ")\n",
    "from monai.metrics import DiceMetric\n",
    "from monai.networks.nets import UNETR, SwinUNETR\n",
    "from monai.losses import TverskyLoss\n",
    "import torch\n",
    "import numpy as np\n",
    "from tqdm import tqdm\n",
    "import wandb\n",
    "from src.dataset.dataset import make_val_dataloader\n",
    "\n",
    "val_img_dir = \"./datasets/val/images\"\n",
    "val_label_dir = \"./datasets/val/labels\"\n",
    "img_depth = 96\n",
    "img_size = 96  # Match your patch size\n",
    "n_classes = 7\n",
    "batch_size = 2 # 13.8GB GPU memory required for 128x128 img size\n",
    "num_samples = batch_size # 한 이미지에서 뽑을 샘플 수\n",
    "loader_batch = 1\n",
    "lamda = 0.52\n",
    "\n",
    "wandb.init(\n",
    "    project='czii_SwinUnetR_val',  # 프로젝트 이름 설정\n",
    "    name='SwinUNETR96_96_lr0.001_lambda0.52_batch2',         # 실행(run) 이름 설정\n",
    "    config={\n",
    "        'learning_rate': 0.001,\n",
    "        'batch_size': batch_size,\n",
    "        'lambda': lamda,\n",
    "        'img_size': img_size,\n",
    "        'device': 'cuda',\n",
    "        \"checkpoint_dir\": \"./model_checkpoints/SwinUNETR96_96_lr0.001_lambda0.52_batch2\",\n",
    "        \n",
    "    }\n",
    ")\n",
    "\n",
    "non_random_transforms = Compose([\n",
    "    EnsureChannelFirstd(keys=[\"image\", \"label\"], channel_dim=\"no_channel\"),\n",
    "    NormalizeIntensityd(keys=\"image\"),\n",
    "    Orientationd(keys=[\"image\", \"label\"], axcodes=\"RAS\"),\n",
    "    GaussianSmoothd(\n",
    "        keys=[\"image\"],      # 변환을 적용할 키\n",
    "        sigma=[1.0, 1.0, 1.0]  # 각 축(x, y, z)의 시그마 값\n",
    "        ),\n",
    "])\n",
    "random_transforms = Compose([\n",
    "    RandCropByLabelClassesd(\n",
    "        keys=[\"image\", \"label\"],\n",
    "        label_key=\"label\",\n",
    "        spatial_size=[img_depth, img_size, img_size],\n",
    "        num_classes=n_classes,\n",
    "        num_samples=num_samples, \n",
    "        ratios=ratios_list,\n",
    "    ),\n",
    "    RandRotate90d(keys=[\"image\", \"label\"], prob=0.5, spatial_axes=[1, 2]),\n",
    "    RandFlipd(keys=[\"image\", \"label\"], prob=0.5, spatial_axis=0),\n",
    "])\n",
    "\n",
    "val_loader = make_val_dataloader(\n",
    "    val_img_dir, \n",
    "    val_label_dir, \n",
    "    non_random_transforms = non_random_transforms, \n",
    "    random_transforms = random_transforms, \n",
    "    batch_size = loader_batch,\n",
    "    num_workers=0\n",
    ")\n",
    "criterion = TverskyLoss(\n",
    "    alpha= 1 - lamda,  # FP에 대한 가중치\n",
    "    beta=lamda,       # FN에 대한 가중치\n",
    "    include_background=False,  # 배경 클래스 제외\n",
    "    softmax=True\n",
    ")\n",
    "    \n",
    "    \n",
    "from monai.metrics import DiceMetric\n",
    "\n",
    "img_size = 96\n",
    "img_depth = img_size\n",
    "n_classes = 7 \n",
    "\n",
    "device = torch.device(\"cuda\" if torch.cuda.is_available() else \"cpu\")\n",
    "pretrain_path = \"./model_checkpoints/SwinUNETR96_96_lr0.001_lambda0.52_batch2/best_model.pt\"\n",
    "model = SwinUNETR(\n",
    "    img_size=(img_depth, img_size, img_size),\n",
    "    in_channels=1,\n",
    "    out_channels=n_classes,\n",
    "    feature_size=48,\n",
    "    use_checkpoint=True,\n",
    ").to(device)\n",
    "# Pretrained weights 불러오기\n",
    "checkpoint = torch.load(pretrain_path, map_location=device)\n",
    "model.load_state_dict(checkpoint['model_state_dict'])\n",
    "\n",
    "val_loss, overall_mean_fbeta_score = validate_one_epoch(\n",
    "    model=model, \n",
    "    val_loader=val_loader, \n",
    "    criterion=criterion, \n",
    "    device=device, \n",
    "    epoch=0, \n",
    "    calculate_dice_interval=1\n",
    ")"
   ]
  },
  {
   "cell_type": "markdown",
   "metadata": {},
   "source": [
    "# Inference"
   ]
  },
  {
   "cell_type": "code",
   "execution_count": null,
   "metadata": {},
   "outputs": [
    {
     "ename": "",
     "evalue": "",
     "output_type": "error",
     "traceback": [
      "\u001b[1;31mnotebook controller is DISPOSED. \n",
      "\u001b[1;31m자세한 내용은 Jupyter <a href='command:jupyter.viewOutput'>로그</a>를 참조하세요."
     ]
    },
    {
     "ename": "",
     "evalue": "",
     "output_type": "error",
     "traceback": [
      "\u001b[1;31mnotebook controller is DISPOSED. \n",
      "\u001b[1;31m자세한 내용은 Jupyter <a href='command:jupyter.viewOutput'>로그</a>를 참조하세요."
     ]
    }
   ],
   "source": [
    "from src.dataset.preprocessing import Preprocessor"
   ]
  },
  {
   "cell_type": "code",
   "execution_count": null,
   "metadata": {},
   "outputs": [
    {
     "name": "stdout",
     "output_type": "stream",
     "text": [
      "Done.\n"
     ]
    },
    {
     "ename": "",
     "evalue": "",
     "output_type": "error",
     "traceback": [
      "\u001b[1;31mnotebook controller is DISPOSED. \n",
      "\u001b[1;31m자세한 내용은 Jupyter <a href='command:jupyter.viewOutput'>로그</a>를 참조하세요."
     ]
    },
    {
     "ename": "",
     "evalue": "",
     "output_type": "error",
     "traceback": [
      "\u001b[1;31mnotebook controller is DISPOSED. \n",
      "\u001b[1;31m자세한 내용은 Jupyter <a href='command:jupyter.viewOutput'>로그</a>를 참조하세요."
     ]
    }
   ],
   "source": [
    "from monai.inferers import sliding_window_inference\n",
    "from monai.transforms import Compose, EnsureChannelFirstd, NormalizeIntensityd, Orientationd, GaussianSmoothd\n",
    "from monai.data import DataLoader, Dataset, CacheDataset\n",
    "from monai.networks.nets import SwinUNETR\n",
    "from pathlib import Path\n",
    "import numpy as np\n",
    "import copick\n",
    "\n",
    "import torch\n",
    "print(\"Done.\")"
   ]
  },
  {
   "cell_type": "code",
   "execution_count": null,
   "metadata": {},
   "outputs": [
    {
     "name": "stdout",
     "output_type": "stream",
     "text": [
      "Config file written to ./kaggle/working/copick.config\n",
      "file length: 7\n"
     ]
    },
    {
     "ename": "",
     "evalue": "",
     "output_type": "error",
     "traceback": [
      "\u001b[1;31mnotebook controller is DISPOSED. \n",
      "\u001b[1;31m자세한 내용은 Jupyter <a href='command:jupyter.viewOutput'>로그</a>를 참조하세요."
     ]
    },
    {
     "ename": "",
     "evalue": "",
     "output_type": "error",
     "traceback": [
      "\u001b[1;31mnotebook controller is DISPOSED. \n",
      "\u001b[1;31m자세한 내용은 Jupyter <a href='command:jupyter.viewOutput'>로그</a>를 참조하세요."
     ]
    }
   ],
   "source": [
    "config_blob = \"\"\"{\n",
    "    \"name\": \"czii_cryoet_mlchallenge_2024\",\n",
    "    \"description\": \"2024 CZII CryoET ML Challenge training data.\",\n",
    "    \"version\": \"1.0.0\",\n",
    "\n",
    "    \"pickable_objects\": [\n",
    "        {\n",
    "            \"name\": \"apo-ferritin\",\n",
    "            \"is_particle\": true,\n",
    "            \"pdb_id\": \"4V1W\",\n",
    "            \"label\": 1,\n",
    "            \"color\": [  0, 117, 220, 128],\n",
    "            \"radius\": 60,\n",
    "            \"map_threshold\": 0.0418\n",
    "        },\n",
    "        {\n",
    "          \"name\" : \"beta-amylase\",\n",
    "            \"is_particle\": true,\n",
    "            \"pdb_id\": \"8ZRZ\",\n",
    "            \"label\": 2,\n",
    "            \"color\": [255, 255, 255, 128],\n",
    "            \"radius\": 90,\n",
    "            \"map_threshold\": 0.0578  \n",
    "        },\n",
    "        {\n",
    "            \"name\": \"beta-galactosidase\",\n",
    "            \"is_particle\": true,\n",
    "            \"pdb_id\": \"6X1Q\",\n",
    "            \"label\": 3,\n",
    "            \"color\": [ 76,   0,  92, 128],\n",
    "            \"radius\": 90,\n",
    "            \"map_threshold\": 0.0578\n",
    "        },\n",
    "        {\n",
    "            \"name\": \"ribosome\",\n",
    "            \"is_particle\": true,\n",
    "            \"pdb_id\": \"6EK0\",\n",
    "            \"label\": 4,\n",
    "            \"color\": [  0,  92,  49, 128],\n",
    "            \"radius\": 150,\n",
    "            \"map_threshold\": 0.0374\n",
    "        },\n",
    "        {\n",
    "            \"name\": \"thyroglobulin\",\n",
    "            \"is_particle\": true,\n",
    "            \"pdb_id\": \"6SCJ\",\n",
    "            \"label\": 5,\n",
    "            \"color\": [ 43, 206,  72, 128],\n",
    "            \"radius\": 130,\n",
    "            \"map_threshold\": 0.0278\n",
    "        },\n",
    "        {\n",
    "            \"name\": \"virus-like-particle\",\n",
    "            \"is_particle\": true,\n",
    "            \"label\": 6,\n",
    "            \"color\": [255, 204, 153, 128],\n",
    "            \"radius\": 135,\n",
    "            \"map_threshold\": 0.201\n",
    "        },\n",
    "        {\n",
    "            \"name\": \"membrane\",\n",
    "            \"is_particle\": false,\n",
    "            \"label\": 8,\n",
    "            \"color\": [100, 100, 100, 128]\n",
    "        },\n",
    "        {\n",
    "            \"name\": \"background\",\n",
    "            \"is_particle\": false,\n",
    "            \"label\": 9,\n",
    "            \"color\": [10, 150, 200, 128]\n",
    "        }\n",
    "    ],\n",
    "\n",
    "    \"overlay_root\": \"./kaggle/working/overlay\",\n",
    "\n",
    "    \"overlay_fs_args\": {\n",
    "        \"auto_mkdir\": true\n",
    "    },\n",
    "\n",
    "    \"static_root\": \"./kaggle/input/czii-cryo-et-object-identification/test/static\"\n",
    "}\"\"\"\n",
    "\n",
    "copick_config_path = \"./kaggle/working/copick.config\"\n",
    "preprocessor = Preprocessor(config_blob,copick_config_path=copick_config_path)\n",
    "non_random_transforms = Compose([\n",
    "    EnsureChannelFirstd(keys=[\"image\"], channel_dim=\"no_channel\"),\n",
    "    NormalizeIntensityd(keys=\"image\"),\n",
    "    Orientationd(keys=[\"image\"], axcodes=\"RAS\"),\n",
    "    GaussianSmoothd(\n",
    "        keys=[\"image\"],      # 변환을 적용할 키\n",
    "        sigma=[1.0, 1.0, 1.0]  # 각 축(x, y, z)의 시그마 값\n",
    "        ),\n",
    "    ])"
   ]
  },
  {
   "cell_type": "code",
   "execution_count": null,
   "metadata": {},
   "outputs": [
    {
     "name": "stderr",
     "output_type": "stream",
     "text": [
      "c:\\ProgramData\\anaconda3\\envs\\ship\\Lib\\site-packages\\monai\\utils\\deprecate_utils.py:221: FutureWarning: monai.networks.nets.swin_unetr SwinUNETR.__init__:img_size: Argument `img_size` has been deprecated since version 1.3. It will be removed in version 1.5. The img_size argument is not required anymore and checks on the input size are run during forward().\n",
      "  warn_deprecated(argname, msg, warning_category)\n",
      "C:\\Users\\Seungwoo\\AppData\\Local\\Temp\\ipykernel_6248\\2937359115.py:15: FutureWarning: You are using `torch.load` with `weights_only=False` (the current default value), which uses the default pickle module implicitly. It is possible to construct malicious pickle data which will execute arbitrary code during unpickling (See https://github.com/pytorch/pytorch/blob/main/SECURITY.md#untrusted-models for more details). In a future release, the default value for `weights_only` will be flipped to `True`. This limits the functions that could be executed during unpickling. Arbitrary objects will no longer be allowed to be loaded via this mode unless they are explicitly allowlisted by the user via `torch.serialization.add_safe_globals`. We recommend you start setting `weights_only=True` for any use case where you don't have full control of the loaded file. Please open an issue on GitHub for any issues related to this experimental feature.\n",
      "  checkpoint = torch.load(pretrain_path, map_location=device)\n"
     ]
    },
    {
     "data": {
      "text/plain": [
       "<All keys matched successfully>"
      ]
     },
     "execution_count": 15,
     "metadata": {},
     "output_type": "execute_result"
    },
    {
     "ename": "",
     "evalue": "",
     "output_type": "error",
     "traceback": [
      "\u001b[1;31mnotebook controller is DISPOSED. \n",
      "\u001b[1;31m자세한 내용은 Jupyter <a href='command:jupyter.viewOutput'>로그</a>를 참조하세요."
     ]
    },
    {
     "ename": "",
     "evalue": "",
     "output_type": "error",
     "traceback": [
      "\u001b[1;31mnotebook controller is DISPOSED. \n",
      "\u001b[1;31m자세한 내용은 Jupyter <a href='command:jupyter.viewOutput'>로그</a>를 참조하세요."
     ]
    }
   ],
   "source": [
    "img_size = 96\n",
    "img_depth = img_size\n",
    "n_classes = 7 \n",
    "\n",
    "device = torch.device(\"cuda\" if torch.cuda.is_available() else \"cpu\")\n",
    "pretrain_path = \"./model_checkpoints/SwinUNETR96_96_lr0.001_lambda0.52_batch2/best_model.pt\"\n",
    "model = SwinUNETR(\n",
    "    img_size=(img_depth, img_size, img_size),\n",
    "    in_channels=1,\n",
    "    out_channels=n_classes,\n",
    "    feature_size=48,\n",
    "    use_checkpoint=True,\n",
    ").to(device)\n",
    "# Pretrained weights 불러오기\n",
    "checkpoint = torch.load(pretrain_path, map_location=device)\n",
    "model.load_state_dict(checkpoint['model_state_dict'])\n"
   ]
  },
  {
   "cell_type": "code",
   "execution_count": null,
   "metadata": {},
   "outputs": [
    {
     "name": "stderr",
     "output_type": "stream",
     "text": [
      "Validation:   0%|          | 0/4 [00:03<?, ?it/s, loss=0.764]\n"
     ]
    },
    {
     "ename": "ZeroDivisionError",
     "evalue": "integer modulo by zero",
     "output_type": "error",
     "traceback": [
      "\u001b[1;31m---------------------------------------------------------------------------\u001b[0m",
      "\u001b[1;31mZeroDivisionError\u001b[0m                         Traceback (most recent call last)",
      "Cell \u001b[1;32mIn[16], line 1\u001b[0m\n\u001b[1;32m----> 1\u001b[0m val_loss \u001b[38;5;241m=\u001b[39m \u001b[43mvalidate_one_epoch\u001b[49m\u001b[43m(\u001b[49m\n\u001b[0;32m      2\u001b[0m \u001b[43m            \u001b[49m\u001b[43mmodel\u001b[49m\u001b[38;5;241;43m=\u001b[39;49m\u001b[43mmodel\u001b[49m\u001b[43m,\u001b[49m\u001b[43m \u001b[49m\n\u001b[0;32m      3\u001b[0m \u001b[43m            \u001b[49m\u001b[43mval_loader\u001b[49m\u001b[38;5;241;43m=\u001b[39;49m\u001b[43mval_loader\u001b[49m\u001b[43m,\u001b[49m\u001b[43m \u001b[49m\n\u001b[0;32m      4\u001b[0m \u001b[43m            \u001b[49m\u001b[43mcriterion\u001b[49m\u001b[38;5;241;43m=\u001b[39;49m\u001b[43mcriterion\u001b[49m\u001b[43m,\u001b[49m\u001b[43m \u001b[49m\n\u001b[0;32m      5\u001b[0m \u001b[43m            \u001b[49m\u001b[43mdevice\u001b[49m\u001b[38;5;241;43m=\u001b[39;49m\u001b[43mdevice\u001b[49m\u001b[43m,\u001b[49m\u001b[43m \u001b[49m\n\u001b[0;32m      6\u001b[0m \u001b[43m            \u001b[49m\u001b[43mepoch\u001b[49m\u001b[38;5;241;43m=\u001b[39;49m\u001b[38;5;241;43m1\u001b[39;49m\u001b[43m,\u001b[49m\u001b[43m \u001b[49m\n\u001b[0;32m      7\u001b[0m \u001b[43m            \u001b[49m\u001b[43mcalculate_dice_interval\u001b[49m\u001b[38;5;241;43m=\u001b[39;49m\u001b[38;5;241;43m0\u001b[39;49m\n\u001b[0;32m      8\u001b[0m \u001b[43m        \u001b[49m\u001b[43m)\u001b[49m\n",
      "Cell \u001b[1;32mIn[11], line 64\u001b[0m, in \u001b[0;36mvalidate_one_epoch\u001b[1;34m(model, val_loader, criterion, device, epoch, calculate_dice_interval)\u001b[0m\n\u001b[0;32m     61\u001b[0m pbar\u001b[38;5;241m.\u001b[39mset_postfix(loss\u001b[38;5;241m=\u001b[39mloss\u001b[38;5;241m.\u001b[39mitem())\n\u001b[0;32m     63\u001b[0m \u001b[38;5;66;03m# 각 클래스별 Dice 점수 계산\u001b[39;00m\n\u001b[1;32m---> 64\u001b[0m \u001b[38;5;28;01mif\u001b[39;00m \u001b[43mepoch\u001b[49m\u001b[43m \u001b[49m\u001b[38;5;241;43m%\u001b[39;49m\u001b[43m \u001b[49m\u001b[43mcalculate_dice_interval\u001b[49m \u001b[38;5;241m==\u001b[39m \u001b[38;5;241m0\u001b[39m:\n\u001b[0;32m     65\u001b[0m     \u001b[38;5;28;01mfor\u001b[39;00m i \u001b[38;5;129;01min\u001b[39;00m \u001b[38;5;28mrange\u001b[39m(n_classes):\n\u001b[0;32m     66\u001b[0m         pred_i \u001b[38;5;241m=\u001b[39m (preds \u001b[38;5;241m==\u001b[39m i)\n",
      "\u001b[1;31mZeroDivisionError\u001b[0m: integer modulo by zero"
     ]
    },
    {
     "ename": "",
     "evalue": "",
     "output_type": "error",
     "traceback": [
      "\u001b[1;31mnotebook controller is DISPOSED. \n",
      "\u001b[1;31m자세한 내용은 Jupyter <a href='command:jupyter.viewOutput'>로그</a>를 참조하세요."
     ]
    },
    {
     "ename": "",
     "evalue": "",
     "output_type": "error",
     "traceback": [
      "\u001b[1;31mnotebook controller is DISPOSED. \n",
      "\u001b[1;31m자세한 내용은 Jupyter <a href='command:jupyter.viewOutput'>로그</a>를 참조하세요."
     ]
    }
   ],
   "source": [
    "val_loss = validate_one_epoch(\n",
    "            model=model, \n",
    "            val_loader=val_loader, \n",
    "            criterion=criterion, \n",
    "            device=device, \n",
    "            epoch=1, \n",
    "            calculate_dice_interval=0\n",
    "        )"
   ]
  },
  {
   "cell_type": "code",
   "execution_count": null,
   "metadata": {},
   "outputs": [
    {
     "name": "stdout",
     "output_type": "stream",
     "text": [
      "Processing volume 1/7\n"
     ]
    },
    {
     "name": "stderr",
     "output_type": "stream",
     "text": [
      "Loading dataset: 100%|██████████| 1/1 [00:01<00:00,  1.94s/it]\n"
     ]
    },
    {
     "name": "stdout",
     "output_type": "stream",
     "text": [
      "Processing volume 2/7\n"
     ]
    },
    {
     "name": "stderr",
     "output_type": "stream",
     "text": [
      "Loading dataset: 100%|██████████| 1/1 [00:01<00:00,  1.89s/it]\n"
     ]
    },
    {
     "name": "stdout",
     "output_type": "stream",
     "text": [
      "Processing volume 3/7\n"
     ]
    },
    {
     "name": "stderr",
     "output_type": "stream",
     "text": [
      "Loading dataset: 100%|██████████| 1/1 [00:01<00:00,  1.79s/it]\n"
     ]
    },
    {
     "name": "stdout",
     "output_type": "stream",
     "text": [
      "Submission saved to: submission.csv\n"
     ]
    },
    {
     "ename": "",
     "evalue": "",
     "output_type": "error",
     "traceback": [
      "\u001b[1;31mnotebook controller is DISPOSED. \n",
      "\u001b[1;31m자세한 내용은 Jupyter <a href='command:jupyter.viewOutput'>로그</a>를 참조하세요."
     ]
    },
    {
     "ename": "",
     "evalue": "",
     "output_type": "error",
     "traceback": [
      "\u001b[1;31mnotebook controller is DISPOSED. \n",
      "\u001b[1;31m자세한 내용은 Jupyter <a href='command:jupyter.viewOutput'>로그</a>를 참조하세요."
     ]
    }
   ],
   "source": [
    "import torch\n",
    "import numpy as np\n",
    "from scipy.ndimage import label, center_of_mass\n",
    "import pandas as pd\n",
    "from tqdm import tqdm\n",
    "from monai.data import CacheDataset, DataLoader\n",
    "from monai.transforms import Compose, NormalizeIntensity\n",
    "import cc3d\n",
    "\n",
    "def dict_to_df(coord_dict, experiment_name):\n",
    "    all_coords = []\n",
    "    all_labels = []\n",
    "    \n",
    "    for label, coords in coord_dict.items():\n",
    "        all_coords.append(coords)\n",
    "        all_labels.extend([label] * len(coords))\n",
    "    \n",
    "    all_coords = np.vstack(all_coords)\n",
    "    df = pd.DataFrame({\n",
    "        'experiment': experiment_name,\n",
    "        'particle_type': all_labels,\n",
    "        'x': all_coords[:, 0],\n",
    "        'y': all_coords[:, 1],\n",
    "        'z': all_coords[:, 2]\n",
    "    })\n",
    "    return df\n",
    "\n",
    "id_to_name = {1: \"apo-ferritin\", \n",
    "              2: \"beta-amylase\",\n",
    "              3: \"beta-galactosidase\", \n",
    "              4: \"ribosome\", \n",
    "              5: \"thyroglobulin\", \n",
    "              6: \"virus-like-particle\"}\n",
    "BLOB_THRESHOLD = 200\n",
    "CERTAINTY_THRESHOLD = 0.05\n",
    "\n",
    "classes = [1, 2, 3, 4, 5, 6]\n",
    "\n",
    "model.eval()\n",
    "with torch.no_grad():\n",
    "    location_dfs = []  # DataFrame 리스트로 초기화\n",
    "    \n",
    "    for vol_idx, run in enumerate(preprocessor.root.runs):\n",
    "        print(f\"Processing volume {vol_idx + 1}/{len(preprocessor.root.runs)}\")\n",
    "        tomogram = preprocessor.processing(run=run, task=\"task\")\n",
    "        task_files = [{\"image\": tomogram}]\n",
    "        task_ds = CacheDataset(data=task_files, transform=non_random_transforms)\n",
    "        task_loader = DataLoader(task_ds, batch_size=1, num_workers=0)\n",
    "        \n",
    "        for task_data in task_loader:\n",
    "            images = task_data['image'].to(\"cuda\")\n",
    "            outputs = sliding_window_inference(\n",
    "                inputs=images,\n",
    "                roi_size=(96, 96, 96),  # ROI 크기\n",
    "                sw_batch_size=4,\n",
    "                predictor=model.forward,\n",
    "                overlap=0.1,\n",
    "                sw_device=\"cuda\",\n",
    "                device=\"cpu\",\n",
    "                buffer_steps=1,\n",
    "                buffer_dim=-1\n",
    "            )\n",
    "            outputs = outputs.argmax(dim=1).squeeze(0).cpu().numpy()  # 클래스 채널 예측\n",
    "            location = {}  # 좌표 저장용 딕셔너리\n",
    "            for c in classes:\n",
    "                cc = cc3d.connected_components(outputs == c)  # cc3d 라벨링\n",
    "                stats = cc3d.statistics(cc)\n",
    "                zyx = stats['centroids'][1:] * 10.012444  # 스케일 변환\n",
    "                zyx_large = zyx[stats['voxel_counts'][1:] > BLOB_THRESHOLD]  # 크기 필터링\n",
    "                xyz = np.ascontiguousarray(zyx_large[:, ::-1])  # 좌표 스왑 (z, y, x -> x, y, z)\n",
    "\n",
    "                location[id_to_name[c]] = xyz  # ID 이름 매칭 저장\n",
    "\n",
    "            # 데이터프레임 변환\n",
    "            df = dict_to_df(location, run.name)\n",
    "            location_dfs.append(df)  # 리스트에 추가\n",
    "        \n",
    "        # if vol_idx == 2:\n",
    "        #     break\n",
    "    \n",
    "    # DataFrame 병합\n",
    "    final_df = pd.concat(location_dfs, ignore_index=True)\n",
    "    \n",
    "    # ID 추가 및 CSV 저장\n",
    "    final_df.insert(loc=0, column='id', value=np.arange(len(final_df)))\n",
    "    final_df.to_csv(\"submission.csv\", index=False)\n",
    "    print(\"Submission saved to: submission.csv\")\n"
   ]
  }
 ],
 "metadata": {
  "kernelspec": {
   "display_name": "UM",
   "language": "python",
   "name": "python3"
  },
  "language_info": {
   "codemirror_mode": {
    "name": "ipython",
    "version": 3
   },
   "file_extension": ".py",
   "mimetype": "text/x-python",
   "name": "python",
   "nbconvert_exporter": "python",
   "pygments_lexer": "ipython3",
   "version": "3.12.7"
  }
 },
 "nbformat": 4,
 "nbformat_minor": 2
}
