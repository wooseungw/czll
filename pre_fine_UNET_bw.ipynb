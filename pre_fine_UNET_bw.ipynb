{
 "cells": [
  {
   "cell_type": "code",
   "execution_count": 1,
   "metadata": {},
   "outputs": [
    {
     "name": "stderr",
     "output_type": "stream",
     "text": [
      "c:\\Users\\pook0\\.conda\\envs\\UM\\Lib\\site-packages\\tqdm\\auto.py:21: TqdmWarning: IProgress not found. Please update jupyter and ipywidgets. See https://ipywidgets.readthedocs.io/en/stable/user_install.html\n",
      "  from .autonotebook import tqdm as notebook_tqdm\n"
     ]
    },
    {
     "name": "stdout",
     "output_type": "stream",
     "text": [
      "MONAI version: 1.4.0\n",
      "Numpy version: 1.26.4\n",
      "Pytorch version: 2.4.1+cu121\n",
      "MONAI flags: HAS_EXT = False, USE_COMPILED = False, USE_META_DICT = False\n",
      "MONAI rev id: 46a5272196a6c2590ca2589029eed8e4d56ff008\n",
      "MONAI __file__: c:\\Users\\<username>\\.conda\\envs\\UM\\Lib\\site-packages\\monai\\__init__.py\n",
      "\n",
      "Optional dependencies:\n",
      "Pytorch Ignite version: NOT INSTALLED or UNKNOWN VERSION.\n",
      "ITK version: NOT INSTALLED or UNKNOWN VERSION.\n",
      "Nibabel version: 5.3.2\n",
      "scikit-image version: 0.24.0\n",
      "scipy version: 1.14.1\n",
      "Pillow version: 10.2.0\n",
      "Tensorboard version: 2.18.0\n",
      "gdown version: 5.2.0\n",
      "TorchVision version: 0.19.1+cu121\n",
      "tqdm version: 4.66.5\n",
      "lmdb version: NOT INSTALLED or UNKNOWN VERSION.\n",
      "psutil version: 6.0.0\n",
      "pandas version: 2.2.3\n",
      "einops version: 0.8.0\n",
      "transformers version: NOT INSTALLED or UNKNOWN VERSION.\n",
      "mlflow version: 2.17.2\n",
      "pynrrd version: NOT INSTALLED or UNKNOWN VERSION.\n",
      "clearml version: NOT INSTALLED or UNKNOWN VERSION.\n",
      "\n",
      "For details about installing the optional dependencies, please visit:\n",
      "    https://docs.monai.io/en/latest/installation.html#installing-the-recommended-dependencies\n",
      "\n"
     ]
    }
   ],
   "source": [
    "import os\n",
    "import shutil\n",
    "import tempfile\n",
    "\n",
    "import matplotlib.pyplot as plt\n",
    "from tqdm import tqdm\n",
    "\n",
    "import random\n",
    "import numpy as np\n",
    "import torch\n",
    "\n",
    "from src.models import UNet_CBAM\n",
    "\n",
    "from monai.losses import DiceCELoss\n",
    "from monai.inferers import sliding_window_inference\n",
    "from monai.transforms import (\n",
    "    AsDiscrete,\n",
    "    EnsureChannelFirstd,\n",
    "    Compose,\n",
    "    CropForegroundd,\n",
    "    LoadImaged,\n",
    "    Orientationd,\n",
    "    RandFlipd,\n",
    "    RandCropByPosNegLabeld,\n",
    "    RandShiftIntensityd,\n",
    "    ScaleIntensityRanged,\n",
    "    Spacingd,\n",
    "    RandRotate90d,\n",
    ")\n",
    "\n",
    "from monai.config import print_config\n",
    "from monai.metrics import DiceMetric\n",
    "# from src.models.swincspunetr import SwinCSPUNETR\n",
    "# from src.models.swincspunetr_unet import SwinCSPUNETR_unet\n",
    "# from src.models.swincspunetr3plus import SwinCSPUNETR3plus\n",
    "\n",
    "from monai.data import (\n",
    "    DataLoader,\n",
    "    CacheDataset,\n",
    "    load_decathlon_datalist,\n",
    "    decollate_batch,\n",
    ")\n",
    "\n",
    "# 랜덤 시드 고정\n",
    "def set_seed(seed):\n",
    "    random.seed(seed)\n",
    "    np.random.seed(seed)\n",
    "    torch.manual_seed(seed)\n",
    "    if torch.cuda.is_available():\n",
    "        torch.cuda.manual_seed_all(seed)\n",
    "\n",
    "set_seed(42)\n",
    "\n",
    "\n",
    "print_config()"
   ]
  },
  {
   "cell_type": "code",
   "execution_count": 2,
   "metadata": {},
   "outputs": [
    {
     "name": "stdout",
     "output_type": "stream",
     "text": [
      "클래스 비율: {0: 0.0, 1: 0.16393442622950818, 2: 0.01639344262295082, 3: 0.2459016393442623, 4: 0.16393442622950818, 5: 0.2459016393442623, 6: 0.16393442622950818}\n",
      "최종 합계: 1.0\n",
      "클래스 비율 리스트: [0.0, 0.16393442622950818, 0.01639344262295082, 0.2459016393442623, 0.16393442622950818, 0.2459016393442623, 0.16393442622950818]\n"
     ]
    }
   ],
   "source": [
    "class_info = {\n",
    "    0: {\"name\": \"background\", \"weight\": 0},  # weight 없음\n",
    "    1: {\"name\": \"apo-ferritin\", \"weight\": 1000},\n",
    "    2: {\"name\": \"beta-amylase\", \"weight\": 100}, # 4130\n",
    "    3: {\"name\": \"beta-galactosidase\", \"weight\": 1500}, #3080\n",
    "    4: {\"name\": \"ribosome\", \"weight\": 1000},\n",
    "    5: {\"name\": \"thyroglobulin\", \"weight\": 1500},\n",
    "    6: {\"name\": \"virus-like-particle\", \"weight\": 1000},\n",
    "}\n",
    "\n",
    "# 가중치에 비례한 비율 계산\n",
    "raw_ratios = {\n",
    "    k: (v[\"weight\"] if v[\"weight\"] is not None else 0.01)  # 가중치 비례, None일 경우 기본값a\n",
    "    for k, v in class_info.items()\n",
    "}\n",
    "total = sum(raw_ratios.values())\n",
    "ratios = {k: v / total for k, v in raw_ratios.items()}\n",
    "\n",
    "# 최종 합계가 1인지 확인\n",
    "final_total = sum(ratios.values())\n",
    "print(\"클래스 비율:\", ratios)\n",
    "print(\"최종 합계:\", final_total)\n",
    "\n",
    "# 비율을 리스트로 변환\n",
    "ratios_list = [ratios[k] for k in sorted(ratios.keys())]\n",
    "print(\"클래스 비율 리스트:\", ratios_list)"
   ]
  },
  {
   "cell_type": "markdown",
   "metadata": {},
   "source": [
    "# 모델 설정"
   ]
  },
  {
   "cell_type": "code",
   "execution_count": 3,
   "metadata": {},
   "outputs": [],
   "source": [
    "from src.dataset.dataset import create_dataloaders, create_dataloaders_bw\n",
    "from monai.transforms import (\n",
    "    Compose, LoadImaged, EnsureChannelFirstd, NormalizeIntensityd,\n",
    "    Orientationd, CropForegroundd, GaussianSmoothd, ScaleIntensityd,\n",
    "    RandSpatialCropd, RandRotate90d, RandFlipd, RandGaussianNoised,\n",
    "    ToTensord, RandCropByLabelClassesd, RandCropd,RandCropByPosNegLabeld, RandGaussianSmoothd\n",
    ")\n",
    "from monai.transforms import CastToTyped\n",
    "import numpy as np\n",
    "\n",
    "train_img_dir = \"./datasets/pretrain_exdata/images\"\n",
    "train_label_dir = \"./datasets/pretrain_exdata/labels\"\n",
    "val_img_dir = \"./datasets/val/images\"\n",
    "val_label_dir = \"./datasets/val/labels\"\n",
    "# DATA CONFIG\n",
    "img_size =  96 # Match your patch size\n",
    "img_depth = img_size\n",
    "n_classes = 7\n",
    "batch_size = 16 # 13.8GB GPU memory required for 128x128 img size\n",
    "loader_batch = 1\n",
    "num_samples = batch_size // loader_batch # 한 이미지에서 뽑을 샘플 수\n",
    "num_repeat = 4\n",
    "# MODEL CONFIG\n",
    "num_epochs = 4000\n",
    "lamda = 0.52\n",
    "ce_weight = 0.4\n",
    "lr = 0.001\n",
    "feature_size = 48\n",
    "use_checkpoint = True\n",
    "use_v2 = True\n",
    "drop_rate= 0.25\n",
    "attn_drop_rate = 0.25\n",
    "num_bottleneck = 2\n",
    "# CLASS_WEIGHTS\n",
    "class_weights = None\n",
    "# class_weights = torch.tensor([0.0001, 1, 0.001, 1.1, 1, 1.1, 1], dtype=torch.float32)  # 클래스별 가중치\n",
    "# class_weights = torch.tensor([0.9,1,0.9,1.1,1,1.1,1], dtype=torch.float32)  # 클래스별 가중치\n",
    "class_weights = torch.tensor([1,1,1,1,1,1,1], dtype=torch.float32)  # 클래스별 가중치\n",
    "sigma = 2.0\n",
    "accumulation_steps = 1\n",
    "# INIT\n",
    "start_epoch = 0\n",
    "best_val_loss = float('inf')\n",
    "best_val_fbeta_score = 0\n",
    "\n",
    "non_random_transforms = Compose([\n",
    "    EnsureChannelFirstd(keys=[\"image\", \"label\"], channel_dim=\"no_channel\"),\n",
    "    NormalizeIntensityd(keys=\"image\"),\n",
    "    Orientationd(keys=[\"image\", \"label\"], axcodes=\"RAS\"),\n",
    "    # GaussianSmoothd(\n",
    "    #     keys=[\"image\"],      # 변환을 적용할 키\n",
    "    #     sigma=[sigma, sigma, sigma]  # 각 축(x, y, z)의 시그마 값\n",
    "    #     ),\n",
    "])\n",
    "random_transforms = Compose([\n",
    "    RandCropByLabelClassesd(\n",
    "        keys=[\"image\", \"label\"],\n",
    "        label_key=\"label\",\n",
    "        spatial_size=[img_depth, img_size, img_size],\n",
    "        num_classes=n_classes,\n",
    "        num_samples=num_samples, \n",
    "        ratios=ratios_list,\n",
    "    ),\n",
    "    RandRotate90d(keys=[\"image\", \"label\"], prob=0.5, spatial_axes=[1, 2]),\n",
    "    RandFlipd(keys=[\"image\", \"label\"], prob=0.5, spatial_axis=0),\n",
    "    RandFlipd(keys=[\"image\", \"label\"], prob=0.5, spatial_axis=1),\n",
    "    RandFlipd(keys=[\"image\", \"label\"], prob=0.5, spatial_axis=2),\n",
    "    RandGaussianSmoothd(\n",
    "    keys=[\"image\"],      # 변환을 적용할 키\n",
    "    sigma_x = (0.0, sigma), # 각 축(x, y, z)의 시그마 값\n",
    "    sigma_y = (0.0, sigma),\n",
    "    sigma_z = (0.0, sigma),\n",
    "    prob=1.0,\n",
    "    ),\n",
    "])\n",
    "val_random_transforms = Compose([\n",
    "    RandCropByLabelClassesd(\n",
    "        keys=[\"image\", \"label\"],\n",
    "        label_key=\"label\",\n",
    "        spatial_size=[img_depth, img_size, img_size],\n",
    "        num_classes=n_classes,\n",
    "        num_samples=num_samples, \n",
    "        ratios=ratios_list,\n",
    "    ),\n",
    "    RandRotate90d(keys=[\"image\", \"label\"], prob=0.5, spatial_axes=[1, 2]),\n",
    "    RandFlipd(keys=[\"image\", \"label\"], prob=0.5, spatial_axis=0),\n",
    "    RandFlipd(keys=[\"image\", \"label\"], prob=0.5, spatial_axis=1),\n",
    "    RandFlipd(keys=[\"image\", \"label\"], prob=0.5, spatial_axis=2),\n",
    "    # RandGaussianSmoothd(\n",
    "    # keys=[\"image\"],      # 변환을 적용할 키\n",
    "    # sigma_x = (0.0, sigma), # 각 축(x, y, z)의 시그마 값\n",
    "    # sigma_y = (0.0, sigma),\n",
    "    # sigma_z = (0.0, sigma),\n",
    "    # prob=1.0,\n",
    "    # ),\n",
    "])\n"
   ]
  },
  {
   "cell_type": "code",
   "execution_count": 4,
   "metadata": {},
   "outputs": [
    {
     "name": "stderr",
     "output_type": "stream",
     "text": [
      "Loading dataset: 100%|██████████| 51/51 [00:05<00:00,  9.93it/s]\n",
      "Loading dataset: 100%|██████████| 1/1 [00:00<00:00,  9.13it/s]\n"
     ]
    }
   ],
   "source": [
    "train_loader, val_loader = None, None\n",
    "train_loader, val_loader = create_dataloaders_bw(\n",
    "    train_img_dir, \n",
    "    train_label_dir, \n",
    "    val_img_dir, \n",
    "    val_label_dir, \n",
    "    non_random_transforms = non_random_transforms, \n",
    "    val_non_random_transforms=non_random_transforms,\n",
    "    random_transforms = random_transforms, \n",
    "    val_random_transforms=val_random_transforms,\n",
    "    batch_size = loader_batch,\n",
    "    num_workers=0,\n",
    "    train_num_repeat=num_repeat\n",
    "    )"
   ]
  },
  {
   "cell_type": "markdown",
   "metadata": {},
   "source": [
    "https://monai.io/model-zoo.html"
   ]
  },
  {
   "cell_type": "code",
   "execution_count": 5,
   "metadata": {},
   "outputs": [],
   "source": [
    "import torch\n",
    "import torch.nn as nn\n",
    "import torch.nn.functional as F\n",
    "from monai.losses import TverskyLoss\n",
    "\n",
    "device = torch.device(\"cuda\" if torch.cuda.is_available() else \"cpu\")\n",
    "\n",
    "# DynamicTverskyLoss 클래스 정의\n",
    "class DynamicTverskyLoss(TverskyLoss):\n",
    "    def __init__(self, lamda=0.5, **kwargs):\n",
    "        super().__init__(alpha=1 - lamda, beta=lamda, **kwargs)\n",
    "        self.lamda = lamda\n",
    "\n",
    "    def set_lamda(self, lamda):\n",
    "        self.lamda = lamda\n",
    "        self.alpha = 1 - lamda\n",
    "        self.beta = lamda\n",
    "\n",
    "\n",
    "# CombinedCETverskyLoss 클래스\n",
    "class CombinedCETverskyLoss(nn.Module):\n",
    "    def __init__(self, lamda=0.5, ce_weight=0.5, n_classes=7, class_weights=None, ignore_index=-1, **kwargs):\n",
    "        super().__init__()\n",
    "        self.n_classes = n_classes\n",
    "        self.ce_weight = ce_weight\n",
    "        self.ignore_index = ignore_index\n",
    "        \n",
    "        # CrossEntropyLoss에서 클래스별 가중치를 적용\n",
    "        self.ce = nn.CrossEntropyLoss(weight=class_weights, ignore_index=self.ignore_index, reduction='mean', **kwargs)\n",
    "        \n",
    "        # TverskyLoss\n",
    "        self.tversky = DynamicTverskyLoss(lamda=lamda, reduction=\"none\",softmax=True, **kwargs)\n",
    "\n",
    "    def forward(self, inputs, targets):\n",
    "        \n",
    "        # CrossEntropyLoss는 정수형 클래스 인덱스를 사용\n",
    "        ce_loss = self.ce(inputs, targets)\n",
    "\n",
    "        # TverskyLoss 계산 (원핫 인코딩된 라벨을 사용)\n",
    "        \n",
    "        tversky_loss = self.tversky(inputs, targets)\n",
    "\n",
    "        # 클래스별 가중치 적용 (Tversky 손실에도 가중치를 곱하기)\n",
    "        class_weights = torch.tensor(self.ce.weight)  # CrossEntropy의 weight를 사용\n",
    "\n",
    "        # Tversky 손실이 (B, num_classes) 형태이므로, 가중치를 클래스 차원에 곱합니다.\n",
    "        tversky_loss = tversky_loss * class_weights.view(1, self.n_classes)\n",
    "\n",
    "        # 최종 손실 계산\n",
    "        final_loss = self.ce_weight * ce_loss + (1 - self.ce_weight) * tversky_loss.mean()  # mean()으로 배치에 대해 평균\n",
    "        return final_loss\n",
    "\n",
    "    def set_lamda(self, lamda):\n",
    "        self.tversky.set_lamda(lamda)\n",
    "\n",
    "    @property\n",
    "    def lamda(self):\n",
    "        return self.tversky.lamda\n",
    "\n",
    "criterion = CombinedCETverskyLoss(\n",
    "    lamda=lamda,\n",
    "    ce_weight=ce_weight,\n",
    "    n_classes=n_classes,\n",
    "    class_weights=class_weights,\n",
    ").to(device)"
   ]
  },
  {
   "cell_type": "code",
   "execution_count": 6,
   "metadata": {},
   "outputs": [
    {
     "name": "stdout",
     "output_type": "stream",
     "text": [
      "기존 best model 발견: model_checkpoints\\UNET_randGaus_511_241_noclswt_f48_d96s96_numb2_lr1e-03_a0.52_b0.48_b16_r4_ce0.4_ac1\\best_model_pretrained.pt\n",
      "기존 학습된 가중치를 성공적으로 로드했습니다.\n"
     ]
    },
    {
     "name": "stderr",
     "output_type": "stream",
     "text": [
      "C:\\Users\\pook0\\AppData\\Local\\Temp\\ipykernel_16580\\3977683392.py:38: FutureWarning: You are using `torch.load` with `weights_only=False` (the current default value), which uses the default pickle module implicitly. It is possible to construct malicious pickle data which will execute arbitrary code during unpickling (See https://github.com/pytorch/pytorch/blob/main/SECURITY.md#untrusted-models for more details). In a future release, the default value for `weights_only` will be flipped to `True`. This limits the functions that could be executed during unpickling. Arbitrary objects will no longer be allowed to be loaded via this mode unless they are explicitly allowlisted by the user via `torch.serialization.add_safe_globals`. We recommend you start setting `weights_only=True` for any use case where you don't have full control of the loaded file. Please open an issue on GitHub for any issues related to this experimental feature.\n",
      "  checkpoint = torch.load(best_model_path, map_location=device)\n"
     ]
    }
   ],
   "source": [
    "import torch.optim as optim\n",
    "from tqdm import tqdm\n",
    "import numpy as np\n",
    "import torch\n",
    "from pathlib import Path\n",
    "from monai.networks.nets import UNet\n",
    "from src.models import DP_UNet\n",
    "\n",
    "device = torch.device(\"cuda\" if torch.cuda.is_available() else \"cpu\")\n",
    "\n",
    "\n",
    "model = UNet(\n",
    "    spatial_dims=3,\n",
    "    in_channels=1,\n",
    "    out_channels=n_classes,\n",
    "    channels=(32, 64, 128, 256),\n",
    "    strides=(2, 2, 2),\n",
    "    dropout = drop_rate,\n",
    ").to(device)\n",
    "\n",
    "pretrain_str = \"yes\" if use_checkpoint else \"no\"\n",
    "weight_str = \"weighted\" if class_weights is not None else \"\"\n",
    "\n",
    "# 체크포인트 디렉토리 및 파일 설정\n",
    "checkpoint_base_dir = Path(\"./model_checkpoints\")\n",
    "folder_name = f\"UNET_randGaus_511_241_noclswt_f{feature_size}_d{img_depth}s{img_size}_numb{num_bottleneck}_lr{lr:.0e}_a{lamda:.2f}_b{1-lamda:.2f}_b{batch_size}_r{num_repeat}_ce{ce_weight}_ac{accumulation_steps}\"\n",
    "checkpoint_dir = checkpoint_base_dir / folder_name\n",
    "optimizer = optim.AdamW(model.parameters(), lr=lr, weight_decay=1e-5)\n",
    "scheduler = torch.optim.lr_scheduler.ReduceLROnPlateau(optimizer, patience=5, factor=0.5)\n",
    "# 체크포인트 디렉토리 생성\n",
    "checkpoint_dir.mkdir(parents=True, exist_ok=True)\n",
    "\n",
    "if checkpoint_dir.exists():\n",
    "    best_model_path = checkpoint_dir / 'best_model_pretrained.pt'\n",
    "    if best_model_path.exists():\n",
    "        print(f\"기존 best model 발견: {best_model_path}\")\n",
    "        try:\n",
    "            checkpoint = torch.load(best_model_path, map_location=device)\n",
    "            # 체크포인트 내부 키 검증\n",
    "            required_keys = ['model_state_dict', 'optimizer_state_dict', 'epoch', 'best_val_loss', 'best_val_fbeta_score']\n",
    "            if all(k in checkpoint for k in required_keys):\n",
    "                model.load_state_dict(checkpoint['model_state_dict'])\n",
    "                optimizer.load_state_dict(checkpoint['optimizer_state_dict'])\n",
    "                start_epoch = checkpoint['epoch']\n",
    "                best_val_loss = checkpoint['best_val_loss']\n",
    "                best_val_fbeta_score = checkpoint['best_val_fbeta_score']\n",
    "                print(\"기존 학습된 가중치를 성공적으로 로드했습니다.\")\n",
    "                checkpoint= None\n",
    "            else:\n",
    "                raise ValueError(\"체크포인트 파일에 필요한 key가 없습니다.\")\n",
    "        except Exception as e:\n",
    "            print(f\"체크포인트 파일을 로드하는 중 오류 발생: {e}\")"
   ]
  },
  {
   "cell_type": "code",
   "execution_count": 7,
   "metadata": {},
   "outputs": [
    {
     "name": "stdout",
     "output_type": "stream",
     "text": [
      "torch.Size([16, 1, 96, 96, 96]) torch.Size([16, 1, 96, 96, 96])\n"
     ]
    }
   ],
   "source": [
    "batch = next(iter(val_loader))\n",
    "images, labels = batch[\"image\"], batch[\"label\"]\n",
    "print(images.shape, labels.shape)"
   ]
  },
  {
   "cell_type": "code",
   "execution_count": 8,
   "metadata": {},
   "outputs": [],
   "source": [
    "torch.backends.cudnn.benchmark = True"
   ]
  },
  {
   "cell_type": "code",
   "execution_count": 9,
   "metadata": {},
   "outputs": [
    {
     "name": "stderr",
     "output_type": "stream",
     "text": [
      "\u001b[34m\u001b[1mwandb\u001b[0m: Using wandb-core as the SDK backend.  Please refer to https://wandb.me/wandb-core for more information.\n",
      "\u001b[34m\u001b[1mwandb\u001b[0m: Currently logged in as: \u001b[33mpook0612\u001b[0m (\u001b[33mlimbw\u001b[0m). Use \u001b[1m`wandb login --relogin`\u001b[0m to force relogin\n"
     ]
    },
    {
     "data": {
      "text/html": [
       "Tracking run with wandb version 0.19.1"
      ],
      "text/plain": [
       "<IPython.core.display.HTML object>"
      ]
     },
     "metadata": {},
     "output_type": "display_data"
    },
    {
     "data": {
      "text/html": [
       "Run data is saved locally in <code>d:\\Workspace\\czll\\wandb\\run-20250117_183229-qvxjijiy</code>"
      ],
      "text/plain": [
       "<IPython.core.display.HTML object>"
      ]
     },
     "metadata": {},
     "output_type": "display_data"
    },
    {
     "data": {
      "text/html": [
       "Syncing run <strong><a href='https://wandb.ai/limbw/czii_UNet/runs/qvxjijiy' target=\"_blank\">UNET_randGaus_511_241_noclswt_f48_d96s96_numb2_lr1e-03_a0.52_b0.48_b16_r4_ce0.4_ac1</a></strong> to <a href='https://wandb.ai/limbw/czii_UNet' target=\"_blank\">Weights & Biases</a> (<a href='https://wandb.me/developer-guide' target=\"_blank\">docs</a>)<br>"
      ],
      "text/plain": [
       "<IPython.core.display.HTML object>"
      ]
     },
     "metadata": {},
     "output_type": "display_data"
    },
    {
     "data": {
      "text/html": [
       " View project at <a href='https://wandb.ai/limbw/czii_UNet' target=\"_blank\">https://wandb.ai/limbw/czii_UNet</a>"
      ],
      "text/plain": [
       "<IPython.core.display.HTML object>"
      ]
     },
     "metadata": {},
     "output_type": "display_data"
    },
    {
     "data": {
      "text/html": [
       " View run at <a href='https://wandb.ai/limbw/czii_UNet/runs/qvxjijiy' target=\"_blank\">https://wandb.ai/limbw/czii_UNet/runs/qvxjijiy</a>"
      ],
      "text/plain": [
       "<IPython.core.display.HTML object>"
      ]
     },
     "metadata": {},
     "output_type": "display_data"
    }
   ],
   "source": [
    "import wandb\n",
    "from datetime import datetime\n",
    "\n",
    "current_time = datetime.now().strftime('%Y%m%d_%H%M%S')\n",
    "run_name = folder_name\n",
    "\n",
    "# wandb 초기화\n",
    "wandb.init(\n",
    "    project='czii_UNet',  # 프로젝트 이름 설정\n",
    "    name=run_name,         # 실행(run) 이름 설정\n",
    "    config={\n",
    "        'num_epochs': num_epochs,\n",
    "        'learning_rate': lr,\n",
    "        'batch_size': batch_size,\n",
    "        'lambda': lamda,\n",
    "        \"cross_entropy_weight\": ce_weight,\n",
    "        'feature_size': feature_size,\n",
    "        'img_size': img_size,\n",
    "        'sampling_ratio': ratios_list,\n",
    "        'device': device.type,\n",
    "        \"checkpoint_dir\": str(checkpoint_dir),\n",
    "        \"class_weights\": class_weights.tolist() if class_weights is not None else None,\n",
    "        # \"use_checkpoint\": use_checkpoint,\n",
    "        \"drop_rate\": drop_rate,\n",
    "        # \"attn_drop_rate\": attn_drop_rate,\n",
    "        # \"use_v2\": use_v2,\n",
    "        \"accumulation_steps\": accumulation_steps,\n",
    "        \"num_repeat\": num_repeat,\n",
    "        # \"num_bottleneck\": num_bottleneck,\n",
    "        \n",
    "        # 필요한 하이퍼파라미터 추가\n",
    "    }\n",
    ")\n",
    "# 모델을 wandb에 연결\n",
    "wandb.watch(model, log='all')"
   ]
  },
  {
   "cell_type": "markdown",
   "metadata": {},
   "source": [
    "# 학습"
   ]
  },
  {
   "cell_type": "code",
   "execution_count": 10,
   "metadata": {},
   "outputs": [],
   "source": [
    "from monai.metrics import DiceMetric\n",
    "    \n",
    "def processing(batch_data, model, criterion, device):\n",
    "    images = batch_data['image'].to(device)  # Input 이미지 (B, 1, 96, 96, 96)\n",
    "    labels = batch_data['label'].to(device)  # 라벨 (B, 96, 96, 96)\n",
    "\n",
    "    labels = labels.squeeze(1)  # (B, 1, 96, 96, 96) → (B, 96, 96, 96)\n",
    "    labels = labels.long()  # 라벨을 정수형으로 변환\n",
    "\n",
    "    # 원핫 인코딩 (B, H, W, D) → (B, num_classes, H, W, D)\n",
    "    \n",
    "    labels_onehot = torch.nn.functional.one_hot(labels, num_classes=n_classes)\n",
    "    labels_onehot = labels_onehot.permute(0, 4, 1, 2, 3).float()  # (B, num_classes, H, W, D)\n",
    "\n",
    "    # 모델 예측\n",
    "    outputs = model(images)  # outputs: (B, num_classes, H, W, D)\n",
    "\n",
    "    # Loss 계산\n",
    "    loss = criterion(outputs, labels_onehot)\n",
    "    # loss = loss_fn(criterion(outputs, labels_onehot),class_weights=class_weights, device=device)\n",
    "    return loss, outputs, labels, outputs.argmax(dim=1)\n",
    "\n",
    "def train_one_epoch(model, train_loader, criterion, optimizer, device, epoch, accumulation_steps=4):\n",
    "    model.train()\n",
    "    epoch_loss = 0\n",
    "    optimizer.zero_grad()  # 그래디언트 초기화\n",
    "    with tqdm(train_loader, desc='Training') as pbar:\n",
    "        for i, batch_data in enumerate(pbar):\n",
    "            # 손실 계산\n",
    "            loss, _, _, _ = processing(batch_data, model, criterion, device)\n",
    "\n",
    "            # 그래디언트를 계산하고 누적\n",
    "            loss = loss / accumulation_steps  # 그래디언트 누적을 위한 스케일링\n",
    "            loss.backward()  # 그래디언트 계산 및 누적\n",
    "            \n",
    "            # 그래디언트 업데이트 (accumulation_steps마다 한 번)\n",
    "            if (i + 1) % accumulation_steps == 0 or (i + 1) == len(train_loader):\n",
    "                optimizer.step()  # 파라미터 업데이트\n",
    "                optimizer.zero_grad()  # 누적된 그래디언트 초기화\n",
    "            \n",
    "            # 손실값 누적 (스케일링 복구)\n",
    "            epoch_loss += loss.item() * accumulation_steps  # 실제 손실값 반영\n",
    "            pbar.set_postfix(loss=loss.item() * accumulation_steps)  # 실제 손실값 출력\n",
    "    avg_loss = epoch_loss / len(train_loader)\n",
    "    wandb.log({'train_epoch_loss': avg_loss, 'epoch': epoch + 1})\n",
    "    return avg_loss\n",
    "\n",
    "\n",
    "def validate_one_epoch(model, val_loader, criterion, device, epoch, calculate_dice_interval):\n",
    "    model.eval()\n",
    "    val_loss = 0\n",
    "    \n",
    "    class_dice_scores = {i: [] for i in range(n_classes)}\n",
    "    class_f_beta_scores = {i: [] for i in range(n_classes)}\n",
    "    with torch.no_grad():\n",
    "        with tqdm(val_loader, desc='Validation') as pbar:\n",
    "            for batch_data in pbar:\n",
    "                loss, _, labels, preds = processing(batch_data, model, criterion, device)\n",
    "                val_loss += loss.item()\n",
    "                pbar.set_postfix(loss=loss.item())\n",
    "\n",
    "                # 각 클래스별 Dice 점수 계산\n",
    "                if epoch % calculate_dice_interval == 0:\n",
    "                    for i in range(n_classes):\n",
    "                        pred_i = (preds == i)\n",
    "                        label_i = (labels == i)\n",
    "                        dice_score = (2.0 * torch.sum(pred_i & label_i)) / (torch.sum(pred_i) + torch.sum(label_i) + 1e-8)\n",
    "                        class_dice_scores[i].append(dice_score.item())\n",
    "                        precision = (torch.sum(pred_i & label_i) + 1e-8) / (torch.sum(pred_i) + 1e-8)\n",
    "                        recall = (torch.sum(pred_i & label_i) + 1e-8) / (torch.sum(label_i) + 1e-8)\n",
    "                        f_beta_score = (1 + 4**2) * (precision * recall) / (4**2 * precision + recall + 1e-8)\n",
    "                        class_f_beta_scores[i].append(f_beta_score.item())\n",
    "\n",
    "    avg_loss = val_loss / len(val_loader)\n",
    "    # 에포크별 평균 손실 로깅\n",
    "    wandb.log({'val_epoch_loss': avg_loss, 'epoch': epoch + 1})\n",
    "    \n",
    "    # 각 클래스별 평균 Dice 점수 출력\n",
    "    if epoch % calculate_dice_interval == 0:\n",
    "        print(\"Validation Dice Score\")\n",
    "        all_classes_dice_scores = []\n",
    "        for i in range(n_classes):\n",
    "            mean_dice = np.mean(class_dice_scores[i])\n",
    "            wandb.log({f'class_{i}_dice_score': mean_dice, 'epoch': epoch + 1})\n",
    "            print(f\"Class {i}: {mean_dice:.4f}\", end=\", \")\n",
    "            if i not in [0, 2]:  # 평균에 포함할 클래스만 추가\n",
    "                all_classes_dice_scores.append(mean_dice)\n",
    "            \n",
    "        print()\n",
    "    if epoch % calculate_dice_interval == 0:\n",
    "        print(\"Validation F-beta Score\")\n",
    "        all_classes_fbeta_scores = []\n",
    "        for i in range(n_classes):\n",
    "            mean_fbeta = np.mean(class_f_beta_scores[i])\n",
    "            wandb.log({f'class_{i}_f_beta_score': mean_fbeta, 'epoch': epoch + 1})\n",
    "            print(f\"Class {i}: {mean_fbeta:.4f}\", end=\", \")\n",
    "            if i not in [0, 2]:  # 평균에 포함할 클래스만 추가\n",
    "                all_classes_fbeta_scores.append(mean_fbeta)\n",
    "                \n",
    "        print()\n",
    "        overall_mean_dice = np.mean(all_classes_dice_scores)\n",
    "        overall_mean_fbeta = np.mean(all_classes_fbeta_scores)\n",
    "        wandb.log({'overall_mean_f_beta_score': overall_mean_fbeta, 'overall_mean_dice_score': overall_mean_dice, 'epoch': epoch + 1})\n",
    "        print(f\"\\nOverall Mean Dice Score: {overall_mean_dice:.4f}\\nOverall Mean F-beta Score: {overall_mean_fbeta:.4f}\\n\")\n",
    "\n",
    "    if overall_mean_fbeta is None:\n",
    "        overall_mean_fbeta = 0\n",
    "\n",
    "    return val_loss / len(val_loader), overall_mean_fbeta\n",
    "\n",
    "def train_model(\n",
    "    model, train_loader, val_loader, criterion, optimizer, num_epochs, patience, \n",
    "    device, start_epoch, best_val_loss, best_val_fbeta_score, calculate_dice_interval=1,\n",
    "    accumulation_steps=4, pretrained=False\n",
    "):\n",
    "    \"\"\"\n",
    "    모델을 학습하고 검증하는 함수\n",
    "    Args:\n",
    "        model: 학습할 모델\n",
    "        train_loader: 학습 데이터 로더\n",
    "        val_loader: 검증 데이터 로더\n",
    "        criterion: 손실 함수\n",
    "        optimizer: 최적화 알고리즘\n",
    "        num_epochs: 총 학습 epoch 수\n",
    "        patience: early stopping 기준\n",
    "        device: GPU/CPU 장치\n",
    "        start_epoch: 시작 epoch\n",
    "        best_val_loss: 이전 최적 validation loss\n",
    "        best_val_fbeta_score: 이전 최적 validation f-beta score\n",
    "        calculate_dice_interval: Dice 점수 계산 주기\n",
    "    \"\"\"\n",
    "    epochs_no_improve = 0\n",
    "\n",
    "    for epoch in range(start_epoch, num_epochs):\n",
    "        print(f\"Epoch {epoch + 1}/{num_epochs}\")\n",
    "\n",
    "        # Train One Epoch\n",
    "        train_loss = train_one_epoch(\n",
    "            model=model, \n",
    "            train_loader=train_loader, \n",
    "            criterion=criterion, \n",
    "            optimizer=optimizer, \n",
    "            device=device,\n",
    "            epoch=epoch,\n",
    "            accumulation_steps= accumulation_steps\n",
    "        )\n",
    "        \n",
    "        scheduler.step(train_loss)\n",
    "        # Validate One Epoch\n",
    "        val_loss, overall_mean_fbeta_score = validate_one_epoch(\n",
    "            model=model, \n",
    "            val_loader=val_loader, \n",
    "            criterion=criterion, \n",
    "            device=device, \n",
    "            epoch=epoch, \n",
    "            calculate_dice_interval=calculate_dice_interval\n",
    "        )\n",
    "\n",
    "        \n",
    "        print(f\"Training Loss: {train_loss:.4f}, Validation Loss: {val_loss:.4f}, Validation F-beta: {overall_mean_fbeta_score:.4f}\")\n",
    "\n",
    "        if val_loss < best_val_loss and overall_mean_fbeta_score > best_val_fbeta_score:\n",
    "            best_val_loss = val_loss\n",
    "            best_val_fbeta_score = overall_mean_fbeta_score\n",
    "            epochs_no_improve = 0\n",
    "            if pretrained:\n",
    "                checkpoint_path = os.path.join(checkpoint_dir, 'best_model_pretrained.pt')\n",
    "            else:\n",
    "                checkpoint_path = os.path.join(checkpoint_dir, 'best_model.pt')\n",
    "            torch.save({\n",
    "                'epoch': epoch + 1,\n",
    "                'model_state_dict': model.state_dict(),\n",
    "                'optimizer_state_dict': optimizer.state_dict(),\n",
    "                'best_val_loss': best_val_loss,\n",
    "                'best_val_fbeta_score': best_val_fbeta_score\n",
    "            }, checkpoint_path)\n",
    "            print(f\"========================================================\")\n",
    "            print(f\"SUPER Best model saved. Loss:{best_val_loss:.4f}, Score:{best_val_fbeta_score:.4f}\")\n",
    "            print(f\"========================================================\")\n",
    "\n",
    "        # Early stopping 조건 체크\n",
    "        if val_loss >= best_val_loss and overall_mean_fbeta_score <= best_val_fbeta_score:\n",
    "            epochs_no_improve += 1\n",
    "        else:\n",
    "            epochs_no_improve = 0\n",
    "\n",
    "        if epochs_no_improve >= patience:\n",
    "            print(\"Early stopping\")\n",
    "            checkpoint_path = os.path.join(checkpoint_dir, 'last.pt')\n",
    "            torch.save({\n",
    "                'epoch': epoch + 1,\n",
    "                'model_state_dict': model.state_dict(),\n",
    "                'optimizer_state_dict': optimizer.state_dict(),\n",
    "                'best_val_loss': best_val_loss,\n",
    "                'best_val_fbeta_score': best_val_fbeta_score\n",
    "            }, checkpoint_path)\n",
    "            break\n",
    "        # if epochs_no_improve % 6 == 0 & epochs_no_improve != 0:\n",
    "        #     # 손실이 개선되지 않았으므로 lambda 감소\n",
    "        #     new_lamda = max(criterion.lamda - 0.01, 0.35)  # 최소값은 0.1로 설정\n",
    "        #     criterion.set_lamda(new_lamda)\n",
    "        #     print(f\"Validation loss did not improve. Reducing lambda to {new_lamda:.4f}\")\n",
    "\n",
    "    wandb.finish()\n"
   ]
  },
  {
   "cell_type": "code",
   "execution_count": 11,
   "metadata": {},
   "outputs": [
    {
     "name": "stdout",
     "output_type": "stream",
     "text": [
      "Epoch 2/4000\n"
     ]
    },
    {
     "name": "stderr",
     "output_type": "stream",
     "text": [
      "Training:   0%|          | 0/204 [00:00<?, ?it/s]C:\\Users\\pook0\\AppData\\Local\\Temp\\ipykernel_16580\\3379185286.py:44: UserWarning: To copy construct from a tensor, it is recommended to use sourceTensor.clone().detach() or sourceTensor.clone().detach().requires_grad_(True), rather than torch.tensor(sourceTensor).\n",
      "  class_weights = torch.tensor(self.ce.weight)  # CrossEntropy의 weight를 사용\n",
      "Training: 100%|██████████| 204/204 [03:38<00:00,  1.07s/it, loss=0.478]\n",
      "Validation: 100%|██████████| 1/1 [00:00<00:00,  1.48it/s, loss=0.51]\n"
     ]
    },
    {
     "name": "stdout",
     "output_type": "stream",
     "text": [
      "Validation Dice Score\n",
      "Class 0: 0.9885, Class 1: 0.0000, Class 2: 0.0000, Class 3: 0.0000, Class 4: 0.5026, Class 5: 0.0029, Class 6: 0.5404, \n",
      "Validation F-beta Score\n",
      "Class 0: 0.9938, Class 1: 0.0000, Class 2: 0.0000, Class 3: 0.0000, Class 4: 0.5075, Class 5: 0.0015, Class 6: 0.4684, \n",
      "\n",
      "Overall Mean Dice Score: 0.2092\n",
      "Overall Mean F-beta Score: 0.1955\n",
      "\n",
      "Training Loss: 0.5219, Validation Loss: 0.5097, Validation F-beta: 0.1955\n",
      "========================================================\n",
      "SUPER Best model saved. Loss:0.5097, Score:0.1955\n",
      "========================================================\n",
      "Epoch 3/4000\n"
     ]
    },
    {
     "name": "stderr",
     "output_type": "stream",
     "text": [
      "Training: 100%|██████████| 204/204 [03:20<00:00,  1.02it/s, loss=0.458]\n",
      "Validation: 100%|██████████| 1/1 [00:00<00:00,  1.29it/s, loss=0.472]\n"
     ]
    },
    {
     "name": "stdout",
     "output_type": "stream",
     "text": [
      "Validation Dice Score\n",
      "Class 0: 0.9895, Class 1: 0.0439, Class 2: 0.0000, Class 3: 0.0938, Class 4: 0.6798, Class 5: 0.1907, Class 6: 0.6944, \n",
      "Validation F-beta Score\n",
      "Class 0: 0.9881, Class 1: 0.0495, Class 2: 0.0000, Class 3: 0.1549, Class 4: 0.8194, Class 5: 0.1568, Class 6: 0.7992, \n",
      "\n",
      "Overall Mean Dice Score: 0.3405\n",
      "Overall Mean F-beta Score: 0.3960\n",
      "\n",
      "Training Loss: 0.4953, Validation Loss: 0.4716, Validation F-beta: 0.3960\n",
      "========================================================\n",
      "SUPER Best model saved. Loss:0.4716, Score:0.3960\n",
      "========================================================\n",
      "Epoch 4/4000\n"
     ]
    },
    {
     "name": "stderr",
     "output_type": "stream",
     "text": [
      "Training: 100%|██████████| 204/204 [03:23<00:00,  1.00it/s, loss=0.432]\n",
      "Validation: 100%|██████████| 1/1 [00:00<00:00,  1.66it/s, loss=0.485]\n"
     ]
    },
    {
     "name": "stdout",
     "output_type": "stream",
     "text": [
      "Validation Dice Score\n",
      "Class 0: 0.9883, Class 1: 0.0558, Class 2: 0.0000, Class 3: 0.1231, Class 4: 0.4830, Class 5: 0.2464, Class 6: 0.8217, \n",
      "Validation F-beta Score\n",
      "Class 0: 0.9859, Class 1: 0.0914, Class 2: 0.0000, Class 3: 0.2882, Class 4: 0.6010, Class 5: 0.2194, Class 6: 0.8412, \n",
      "\n",
      "Overall Mean Dice Score: 0.3460\n",
      "Overall Mean F-beta Score: 0.4082\n",
      "\n",
      "Training Loss: 0.4725, Validation Loss: 0.4849, Validation F-beta: 0.4082\n",
      "Epoch 5/4000\n"
     ]
    },
    {
     "name": "stderr",
     "output_type": "stream",
     "text": [
      "Training: 100%|██████████| 204/204 [03:15<00:00,  1.04it/s, loss=0.419]\n",
      "Validation: 100%|██████████| 1/1 [00:00<00:00,  1.64it/s, loss=0.463]\n"
     ]
    },
    {
     "name": "stdout",
     "output_type": "stream",
     "text": [
      "Validation Dice Score\n",
      "Class 0: 0.9882, Class 1: 0.0935, Class 2: 0.0510, Class 3: 0.1806, Class 4: 0.6220, Class 5: 0.2116, Class 6: 0.8354, \n",
      "Validation F-beta Score\n",
      "Class 0: 0.9893, Class 1: 0.2143, Class 2: 0.0338, Class 3: 0.3677, Class 4: 0.5822, Class 5: 0.1693, Class 6: 0.8628, \n",
      "\n",
      "Overall Mean Dice Score: 0.3886\n",
      "Overall Mean F-beta Score: 0.4393\n",
      "\n",
      "Training Loss: 0.4553, Validation Loss: 0.4632, Validation F-beta: 0.4393\n",
      "========================================================\n",
      "SUPER Best model saved. Loss:0.4632, Score:0.4393\n",
      "========================================================\n",
      "Epoch 6/4000\n"
     ]
    },
    {
     "name": "stderr",
     "output_type": "stream",
     "text": [
      "Training: 100%|██████████| 204/204 [03:26<00:00,  1.01s/it, loss=0.395]\n",
      "Validation: 100%|██████████| 1/1 [00:00<00:00,  1.55it/s, loss=0.441]\n"
     ]
    },
    {
     "name": "stdout",
     "output_type": "stream",
     "text": [
      "Validation Dice Score\n",
      "Class 0: 0.9874, Class 1: 0.2876, Class 2: 0.0798, Class 3: 0.2125, Class 4: 0.6926, Class 5: 0.3470, Class 6: 0.7559, \n",
      "Validation F-beta Score\n",
      "Class 0: 0.9841, Class 1: 0.5331, Class 2: 0.1101, Class 3: 0.4364, Class 4: 0.7527, Class 5: 0.3610, Class 6: 0.7892, \n",
      "\n",
      "Overall Mean Dice Score: 0.4591\n",
      "Overall Mean F-beta Score: 0.5745\n",
      "\n",
      "Training Loss: 0.4430, Validation Loss: 0.4405, Validation F-beta: 0.5745\n",
      "========================================================\n",
      "SUPER Best model saved. Loss:0.4405, Score:0.5745\n",
      "========================================================\n",
      "Epoch 7/4000\n"
     ]
    },
    {
     "name": "stderr",
     "output_type": "stream",
     "text": [
      "Training: 100%|██████████| 204/204 [03:20<00:00,  1.02it/s, loss=0.392]\n",
      "Validation: 100%|██████████| 1/1 [00:00<00:00,  1.56it/s, loss=0.422]\n"
     ]
    },
    {
     "name": "stdout",
     "output_type": "stream",
     "text": [
      "Validation Dice Score\n",
      "Class 0: 0.9866, Class 1: 0.5820, Class 2: 0.1066, Class 3: 0.1868, Class 4: 0.6182, Class 5: 0.3956, Class 6: 0.9021, \n",
      "Validation F-beta Score\n",
      "Class 0: 0.9821, Class 1: 0.7309, Class 2: 0.1154, Class 3: 0.4199, Class 4: 0.7232, Class 5: 0.4041, Class 6: 0.9328, \n",
      "\n",
      "Overall Mean Dice Score: 0.5369\n",
      "Overall Mean F-beta Score: 0.6422\n",
      "\n",
      "Training Loss: 0.4316, Validation Loss: 0.4216, Validation F-beta: 0.6422\n",
      "========================================================\n",
      "SUPER Best model saved. Loss:0.4216, Score:0.6422\n",
      "========================================================\n",
      "Epoch 8/4000\n"
     ]
    },
    {
     "name": "stderr",
     "output_type": "stream",
     "text": [
      "Training: 100%|██████████| 204/204 [03:18<00:00,  1.03it/s, loss=0.402]\n",
      "Validation: 100%|██████████| 1/1 [00:00<00:00,  1.67it/s, loss=0.435]\n"
     ]
    },
    {
     "name": "stdout",
     "output_type": "stream",
     "text": [
      "Validation Dice Score\n",
      "Class 0: 0.9866, Class 1: 0.6103, Class 2: 0.1362, Class 3: 0.0818, Class 4: 0.6342, Class 5: 0.2630, Class 6: 0.9098, \n",
      "Validation F-beta Score\n",
      "Class 0: 0.9838, Class 1: 0.5507, Class 2: 0.1319, Class 3: 0.1518, Class 4: 0.7933, Class 5: 0.2069, Class 6: 0.9279, \n",
      "\n",
      "Overall Mean Dice Score: 0.4998\n",
      "Overall Mean F-beta Score: 0.5261\n",
      "\n",
      "Training Loss: 0.4253, Validation Loss: 0.4354, Validation F-beta: 0.5261\n",
      "Epoch 9/4000\n"
     ]
    },
    {
     "name": "stderr",
     "output_type": "stream",
     "text": [
      "Training: 100%|██████████| 204/204 [03:14<00:00,  1.05it/s, loss=0.384]\n",
      "Validation: 100%|██████████| 1/1 [00:00<00:00,  1.59it/s, loss=0.41]\n"
     ]
    },
    {
     "name": "stdout",
     "output_type": "stream",
     "text": [
      "Validation Dice Score\n",
      "Class 0: 0.9879, Class 1: 0.6910, Class 2: 0.2154, Class 3: 0.2658, Class 4: 0.6645, Class 5: 0.3443, Class 6: 0.8952, \n",
      "Validation F-beta Score\n",
      "Class 0: 0.9821, Class 1: 0.7088, Class 2: 0.2314, Class 3: 0.4724, Class 4: 0.8687, Class 5: 0.4125, Class 6: 0.8754, \n",
      "\n",
      "Overall Mean Dice Score: 0.5721\n",
      "Overall Mean F-beta Score: 0.6675\n",
      "\n",
      "Training Loss: 0.4225, Validation Loss: 0.4102, Validation F-beta: 0.6675\n",
      "========================================================\n",
      "SUPER Best model saved. Loss:0.4102, Score:0.6675\n",
      "========================================================\n",
      "Epoch 10/4000\n"
     ]
    },
    {
     "name": "stderr",
     "output_type": "stream",
     "text": [
      "Training: 100%|██████████| 204/204 [03:18<00:00,  1.03it/s, loss=0.4]  \n",
      "Validation: 100%|██████████| 1/1 [00:00<00:00,  1.53it/s, loss=0.395]\n"
     ]
    },
    {
     "name": "stdout",
     "output_type": "stream",
     "text": [
      "Validation Dice Score\n",
      "Class 0: 0.9902, Class 1: 0.7075, Class 2: 0.1902, Class 3: 0.2333, Class 4: 0.7352, Class 5: 0.3989, Class 6: 0.8958, \n",
      "Validation F-beta Score\n",
      "Class 0: 0.9872, Class 1: 0.7847, Class 2: 0.2139, Class 3: 0.4193, Class 4: 0.8119, Class 5: 0.4273, Class 6: 0.8888, \n",
      "\n",
      "Overall Mean Dice Score: 0.5941\n",
      "Overall Mean F-beta Score: 0.6664\n",
      "\n",
      "Training Loss: 0.4191, Validation Loss: 0.3948, Validation F-beta: 0.6664\n",
      "Epoch 11/4000\n"
     ]
    },
    {
     "name": "stderr",
     "output_type": "stream",
     "text": [
      "Training: 100%|██████████| 204/204 [03:13<00:00,  1.05it/s, loss=0.341]\n",
      "Validation: 100%|██████████| 1/1 [00:00<00:00,  1.70it/s, loss=0.405]\n"
     ]
    },
    {
     "name": "stdout",
     "output_type": "stream",
     "text": [
      "Validation Dice Score\n",
      "Class 0: 0.9894, Class 1: 0.6834, Class 2: 0.1484, Class 3: 0.3135, Class 4: 0.7186, Class 5: 0.3767, Class 6: 0.9090, \n",
      "Validation F-beta Score\n",
      "Class 0: 0.9848, Class 1: 0.7942, Class 2: 0.2010, Class 3: 0.5784, Class 4: 0.8184, Class 5: 0.4428, Class 6: 0.9509, \n",
      "\n",
      "Overall Mean Dice Score: 0.6002\n",
      "Overall Mean F-beta Score: 0.7169\n",
      "\n",
      "Training Loss: 0.4157, Validation Loss: 0.4046, Validation F-beta: 0.7169\n",
      "========================================================\n",
      "SUPER Best model saved. Loss:0.4046, Score:0.7169\n",
      "========================================================\n",
      "Epoch 12/4000\n"
     ]
    },
    {
     "name": "stderr",
     "output_type": "stream",
     "text": [
      "Training: 100%|██████████| 204/204 [03:10<00:00,  1.07it/s, loss=0.382]\n",
      "Validation: 100%|██████████| 1/1 [00:00<00:00,  1.41it/s, loss=0.436]\n"
     ]
    },
    {
     "name": "stdout",
     "output_type": "stream",
     "text": [
      "Validation Dice Score\n",
      "Class 0: 0.9881, Class 1: 0.6532, Class 2: 0.1064, Class 3: 0.1414, Class 4: 0.7119, Class 5: 0.3165, Class 6: 0.7721, \n",
      "Validation F-beta Score\n",
      "Class 0: 0.9843, Class 1: 0.7227, Class 2: 0.1522, Class 3: 0.3437, Class 4: 0.7843, Class 5: 0.3188, Class 6: 0.9255, \n",
      "\n",
      "Overall Mean Dice Score: 0.5190\n",
      "Overall Mean F-beta Score: 0.6190\n",
      "\n",
      "Training Loss: 0.4125, Validation Loss: 0.4362, Validation F-beta: 0.6190\n",
      "Epoch 13/4000\n"
     ]
    },
    {
     "name": "stderr",
     "output_type": "stream",
     "text": [
      "Training: 100%|██████████| 204/204 [03:18<00:00,  1.03it/s, loss=0.37] \n",
      "Validation: 100%|██████████| 1/1 [00:00<00:00,  1.67it/s, loss=0.414]\n"
     ]
    },
    {
     "name": "stdout",
     "output_type": "stream",
     "text": [
      "Validation Dice Score\n",
      "Class 0: 0.9868, Class 1: 0.7280, Class 2: 0.1357, Class 3: 0.1736, Class 4: 0.7142, Class 5: 0.3519, Class 6: 0.8928, \n",
      "Validation F-beta Score\n",
      "Class 0: 0.9841, Class 1: 0.6430, Class 2: 0.1859, Class 3: 0.3810, Class 4: 0.7632, Class 5: 0.3309, Class 6: 0.9243, \n",
      "\n",
      "Overall Mean Dice Score: 0.5721\n",
      "Overall Mean F-beta Score: 0.6085\n",
      "\n",
      "Training Loss: 0.4115, Validation Loss: 0.4144, Validation F-beta: 0.6085\n",
      "Epoch 14/4000\n"
     ]
    },
    {
     "name": "stderr",
     "output_type": "stream",
     "text": [
      "Training: 100%|██████████| 204/204 [03:11<00:00,  1.06it/s, loss=0.38] \n",
      "Validation: 100%|██████████| 1/1 [00:00<00:00,  1.45it/s, loss=0.406]\n"
     ]
    },
    {
     "name": "stdout",
     "output_type": "stream",
     "text": [
      "Validation Dice Score\n",
      "Class 0: 0.9869, Class 1: 0.6233, Class 2: 0.0757, Class 3: 0.1470, Class 4: 0.6749, Class 5: 0.3345, Class 6: 0.8982, \n",
      "Validation F-beta Score\n",
      "Class 0: 0.9837, Class 1: 0.7520, Class 2: 0.0833, Class 3: 0.2693, Class 4: 0.7555, Class 5: 0.3361, Class 6: 0.9352, \n",
      "\n",
      "Overall Mean Dice Score: 0.5356\n",
      "Overall Mean F-beta Score: 0.6096\n",
      "\n",
      "Training Loss: 0.4098, Validation Loss: 0.4056, Validation F-beta: 0.6096\n",
      "Epoch 15/4000\n"
     ]
    },
    {
     "name": "stderr",
     "output_type": "stream",
     "text": [
      "Training: 100%|██████████| 204/204 [03:13<00:00,  1.05it/s, loss=0.372]\n",
      "Validation: 100%|██████████| 1/1 [00:00<00:00,  1.67it/s, loss=0.406]\n"
     ]
    },
    {
     "name": "stdout",
     "output_type": "stream",
     "text": [
      "Validation Dice Score\n",
      "Class 0: 0.9871, Class 1: 0.7228, Class 2: 0.2061, Class 3: 0.1835, Class 4: 0.6629, Class 5: 0.3656, Class 6: 0.8465, \n",
      "Validation F-beta Score\n",
      "Class 0: 0.9813, Class 1: 0.8213, Class 2: 0.2240, Class 3: 0.3192, Class 4: 0.8312, Class 5: 0.4491, Class 6: 0.8855, \n",
      "\n",
      "Overall Mean Dice Score: 0.5563\n",
      "Overall Mean F-beta Score: 0.6612\n",
      "\n",
      "Training Loss: 0.4086, Validation Loss: 0.4059, Validation F-beta: 0.6612\n",
      "Epoch 16/4000\n"
     ]
    },
    {
     "name": "stderr",
     "output_type": "stream",
     "text": [
      "Training: 100%|██████████| 204/204 [03:05<00:00,  1.10it/s, loss=0.388]\n",
      "Validation: 100%|██████████| 1/1 [00:00<00:00,  1.61it/s, loss=0.402]\n"
     ]
    },
    {
     "name": "stdout",
     "output_type": "stream",
     "text": [
      "Validation Dice Score\n",
      "Class 0: 0.9879, Class 1: 0.7046, Class 2: 0.1633, Class 3: 0.2710, Class 4: 0.5935, Class 5: 0.3906, Class 6: 0.8793, \n",
      "Validation F-beta Score\n",
      "Class 0: 0.9829, Class 1: 0.8086, Class 2: 0.1898, Class 3: 0.4475, Class 4: 0.7372, Class 5: 0.4563, Class 6: 0.9302, \n",
      "\n",
      "Overall Mean Dice Score: 0.5678\n",
      "Overall Mean F-beta Score: 0.6759\n",
      "\n",
      "Training Loss: 0.4046, Validation Loss: 0.4017, Validation F-beta: 0.6759\n",
      "Epoch 17/4000\n"
     ]
    },
    {
     "name": "stderr",
     "output_type": "stream",
     "text": [
      "Training: 100%|██████████| 204/204 [03:16<00:00,  1.04it/s, loss=0.378]\n",
      "Validation: 100%|██████████| 1/1 [00:00<00:00,  1.60it/s, loss=0.417]\n"
     ]
    },
    {
     "name": "stdout",
     "output_type": "stream",
     "text": [
      "Validation Dice Score\n",
      "Class 0: 0.9883, Class 1: 0.6529, Class 2: 0.0783, Class 3: 0.2591, Class 4: 0.7234, Class 5: 0.3572, Class 6: 0.8981, \n",
      "Validation F-beta Score\n",
      "Class 0: 0.9827, Class 1: 0.8577, Class 2: 0.1254, Class 3: 0.5208, Class 4: 0.8179, Class 5: 0.4995, Class 6: 0.9175, \n",
      "\n",
      "Overall Mean Dice Score: 0.5781\n",
      "Overall Mean F-beta Score: 0.7227\n",
      "\n",
      "Training Loss: 0.4041, Validation Loss: 0.4165, Validation F-beta: 0.7227\n",
      "Epoch 18/4000\n"
     ]
    },
    {
     "name": "stderr",
     "output_type": "stream",
     "text": [
      "Training: 100%|██████████| 204/204 [03:09<00:00,  1.08it/s, loss=0.343]\n",
      "Validation: 100%|██████████| 1/1 [00:00<00:00,  1.65it/s, loss=0.396]\n"
     ]
    },
    {
     "name": "stdout",
     "output_type": "stream",
     "text": [
      "Validation Dice Score\n",
      "Class 0: 0.9869, Class 1: 0.7316, Class 2: 0.1270, Class 3: 0.2670, Class 4: 0.6140, Class 5: 0.4973, Class 6: 0.8859, \n",
      "Validation F-beta Score\n",
      "Class 0: 0.9802, Class 1: 0.8355, Class 2: 0.2074, Class 3: 0.4875, Class 4: 0.8028, Class 5: 0.5844, Class 6: 0.9430, \n",
      "\n",
      "Overall Mean Dice Score: 0.5991\n",
      "Overall Mean F-beta Score: 0.7307\n",
      "\n",
      "Training Loss: 0.4034, Validation Loss: 0.3961, Validation F-beta: 0.7307\n",
      "========================================================\n",
      "SUPER Best model saved. Loss:0.3961, Score:0.7307\n",
      "========================================================\n",
      "Epoch 19/4000\n"
     ]
    },
    {
     "name": "stderr",
     "output_type": "stream",
     "text": [
      "Training: 100%|██████████| 204/204 [03:08<00:00,  1.08it/s, loss=0.336]\n",
      "Validation: 100%|██████████| 1/1 [00:00<00:00,  1.64it/s, loss=0.404]\n"
     ]
    },
    {
     "name": "stdout",
     "output_type": "stream",
     "text": [
      "Validation Dice Score\n",
      "Class 0: 0.9865, Class 1: 0.7999, Class 2: 0.0520, Class 3: 0.1870, Class 4: 0.6852, Class 5: 0.3240, Class 6: 0.9044, \n",
      "Validation F-beta Score\n",
      "Class 0: 0.9792, Class 1: 0.7732, Class 2: 0.0765, Class 3: 0.4978, Class 4: 0.8396, Class 5: 0.4625, Class 6: 0.9397, \n",
      "\n",
      "Overall Mean Dice Score: 0.5801\n",
      "Overall Mean F-beta Score: 0.7026\n",
      "\n",
      "Training Loss: 0.4015, Validation Loss: 0.4040, Validation F-beta: 0.7026\n",
      "Epoch 20/4000\n"
     ]
    },
    {
     "name": "stderr",
     "output_type": "stream",
     "text": [
      "Training: 100%|██████████| 204/204 [03:01<00:00,  1.12it/s, loss=0.351]\n",
      "Validation: 100%|██████████| 1/1 [00:00<00:00,  1.74it/s, loss=0.417]\n"
     ]
    },
    {
     "name": "stdout",
     "output_type": "stream",
     "text": [
      "Validation Dice Score\n",
      "Class 0: 0.9880, Class 1: 0.7755, Class 2: 0.1785, Class 3: 0.3218, Class 4: 0.6989, Class 5: 0.2833, Class 6: 0.9223, \n",
      "Validation F-beta Score\n",
      "Class 0: 0.9806, Class 1: 0.7920, Class 2: 0.2481, Class 3: 0.6029, Class 4: 0.8547, Class 5: 0.5241, Class 6: 0.9511, \n",
      "\n",
      "Overall Mean Dice Score: 0.6003\n",
      "Overall Mean F-beta Score: 0.7450\n",
      "\n",
      "Training Loss: 0.4025, Validation Loss: 0.4170, Validation F-beta: 0.7450\n",
      "Epoch 21/4000\n"
     ]
    },
    {
     "name": "stderr",
     "output_type": "stream",
     "text": [
      "Training: 100%|██████████| 204/204 [03:05<00:00,  1.10it/s, loss=0.369]\n",
      "Validation: 100%|██████████| 1/1 [00:00<00:00,  1.62it/s, loss=0.395]\n"
     ]
    },
    {
     "name": "stdout",
     "output_type": "stream",
     "text": [
      "Validation Dice Score\n",
      "Class 0: 0.9872, Class 1: 0.7021, Class 2: 0.1136, Class 3: 0.1913, Class 4: 0.7039, Class 5: 0.4818, Class 6: 0.9226, \n",
      "Validation F-beta Score\n",
      "Class 0: 0.9811, Class 1: 0.7973, Class 2: 0.1617, Class 3: 0.3323, Class 4: 0.8263, Class 5: 0.6325, Class 6: 0.9598, \n",
      "\n",
      "Overall Mean Dice Score: 0.6004\n",
      "Overall Mean F-beta Score: 0.7096\n",
      "\n",
      "Training Loss: 0.4000, Validation Loss: 0.3951, Validation F-beta: 0.7096\n",
      "Epoch 22/4000\n"
     ]
    },
    {
     "name": "stderr",
     "output_type": "stream",
     "text": [
      "Training: 100%|██████████| 204/204 [03:08<00:00,  1.08it/s, loss=0.371]\n",
      "Validation: 100%|██████████| 1/1 [00:00<00:00,  1.67it/s, loss=0.391]\n"
     ]
    },
    {
     "name": "stdout",
     "output_type": "stream",
     "text": [
      "Validation Dice Score\n",
      "Class 0: 0.9868, Class 1: 0.6444, Class 2: 0.1851, Class 3: 0.2986, Class 4: 0.6136, Class 5: 0.4647, Class 6: 0.8831, \n",
      "Validation F-beta Score\n",
      "Class 0: 0.9798, Class 1: 0.8665, Class 2: 0.2301, Class 3: 0.4840, Class 4: 0.8523, Class 5: 0.5914, Class 6: 0.9548, \n",
      "\n",
      "Overall Mean Dice Score: 0.5809\n",
      "Overall Mean F-beta Score: 0.7498\n",
      "\n",
      "Training Loss: 0.3990, Validation Loss: 0.3912, Validation F-beta: 0.7498\n",
      "========================================================\n",
      "SUPER Best model saved. Loss:0.3912, Score:0.7498\n",
      "========================================================\n",
      "Epoch 23/4000\n"
     ]
    },
    {
     "name": "stderr",
     "output_type": "stream",
     "text": [
      "Training: 100%|██████████| 204/204 [03:10<00:00,  1.07it/s, loss=0.337]\n",
      "Validation: 100%|██████████| 1/1 [00:00<00:00,  1.72it/s, loss=0.389]\n"
     ]
    },
    {
     "name": "stdout",
     "output_type": "stream",
     "text": [
      "Validation Dice Score\n",
      "Class 0: 0.9880, Class 1: 0.8495, Class 2: 0.1822, Class 3: 0.3482, Class 4: 0.6537, Class 5: 0.4791, Class 6: 0.8818, \n",
      "Validation F-beta Score\n",
      "Class 0: 0.9826, Class 1: 0.9132, Class 2: 0.2128, Class 3: 0.5075, Class 4: 0.8359, Class 5: 0.5389, Class 6: 0.9689, \n",
      "\n",
      "Overall Mean Dice Score: 0.6424\n",
      "Overall Mean F-beta Score: 0.7529\n",
      "\n",
      "Training Loss: 0.3977, Validation Loss: 0.3889, Validation F-beta: 0.7529\n",
      "========================================================\n",
      "SUPER Best model saved. Loss:0.3889, Score:0.7529\n",
      "========================================================\n",
      "Epoch 24/4000\n"
     ]
    },
    {
     "name": "stderr",
     "output_type": "stream",
     "text": [
      "Training: 100%|██████████| 204/204 [03:04<00:00,  1.10it/s, loss=0.369]\n",
      "Validation: 100%|██████████| 1/1 [00:00<00:00,  1.66it/s, loss=0.404]\n"
     ]
    },
    {
     "name": "stdout",
     "output_type": "stream",
     "text": [
      "Validation Dice Score\n",
      "Class 0: 0.9867, Class 1: 0.7412, Class 2: 0.1900, Class 3: 0.3326, Class 4: 0.7056, Class 5: 0.3415, Class 6: 0.9111, \n",
      "Validation F-beta Score\n",
      "Class 0: 0.9803, Class 1: 0.7958, Class 2: 0.2547, Class 3: 0.5607, Class 4: 0.8516, Class 5: 0.4522, Class 6: 0.9501, \n",
      "\n",
      "Overall Mean Dice Score: 0.6064\n",
      "Overall Mean F-beta Score: 0.7221\n",
      "\n",
      "Training Loss: 0.3959, Validation Loss: 0.4040, Validation F-beta: 0.7221\n",
      "Epoch 25/4000\n"
     ]
    },
    {
     "name": "stderr",
     "output_type": "stream",
     "text": [
      "Training: 100%|██████████| 204/204 [03:10<00:00,  1.07it/s, loss=0.394]\n",
      "Validation: 100%|██████████| 1/1 [00:00<00:00,  1.63it/s, loss=0.383]\n"
     ]
    },
    {
     "name": "stdout",
     "output_type": "stream",
     "text": [
      "Validation Dice Score\n",
      "Class 0: 0.9848, Class 1: 0.7746, Class 2: 0.1806, Class 3: 0.3971, Class 4: 0.6556, Class 5: 0.3925, Class 6: 0.8688, \n",
      "Validation F-beta Score\n",
      "Class 0: 0.9771, Class 1: 0.8123, Class 2: 0.2186, Class 3: 0.6801, Class 4: 0.8179, Class 5: 0.5125, Class 6: 0.9420, \n",
      "\n",
      "Overall Mean Dice Score: 0.6177\n",
      "Overall Mean F-beta Score: 0.7529\n",
      "\n",
      "Training Loss: 0.3958, Validation Loss: 0.3832, Validation F-beta: 0.7529\n",
      "========================================================\n",
      "SUPER Best model saved. Loss:0.3832, Score:0.7529\n",
      "========================================================\n",
      "Epoch 26/4000\n"
     ]
    },
    {
     "name": "stderr",
     "output_type": "stream",
     "text": [
      "Training: 100%|██████████| 204/204 [03:09<00:00,  1.08it/s, loss=0.359]\n",
      "Validation: 100%|██████████| 1/1 [00:00<00:00,  1.70it/s, loss=0.359]\n"
     ]
    },
    {
     "name": "stdout",
     "output_type": "stream",
     "text": [
      "Validation Dice Score\n",
      "Class 0: 0.9863, Class 1: 0.7679, Class 2: 0.2108, Class 3: 0.3143, Class 4: 0.6923, Class 5: 0.4299, Class 6: 0.8730, \n",
      "Validation F-beta Score\n",
      "Class 0: 0.9802, Class 1: 0.8317, Class 2: 0.2878, Class 3: 0.4431, Class 4: 0.7864, Class 5: 0.5885, Class 6: 0.9521, \n",
      "\n",
      "Overall Mean Dice Score: 0.6155\n",
      "Overall Mean F-beta Score: 0.7204\n",
      "\n",
      "Training Loss: 0.3951, Validation Loss: 0.3588, Validation F-beta: 0.7204\n",
      "Epoch 27/4000\n"
     ]
    },
    {
     "name": "stderr",
     "output_type": "stream",
     "text": [
      "Training: 100%|██████████| 204/204 [03:09<00:00,  1.08it/s, loss=0.35] \n",
      "Validation: 100%|██████████| 1/1 [00:00<00:00,  1.67it/s, loss=0.409]\n"
     ]
    },
    {
     "name": "stdout",
     "output_type": "stream",
     "text": [
      "Validation Dice Score\n",
      "Class 0: 0.9876, Class 1: 0.7264, Class 2: 0.1556, Class 3: 0.1992, Class 4: 0.7402, Class 5: 0.4886, Class 6: 0.8959, \n",
      "Validation F-beta Score\n",
      "Class 0: 0.9816, Class 1: 0.8478, Class 2: 0.2257, Class 3: 0.4092, Class 4: 0.8456, Class 5: 0.6312, Class 6: 0.9797, \n",
      "\n",
      "Overall Mean Dice Score: 0.6101\n",
      "Overall Mean F-beta Score: 0.7427\n",
      "\n",
      "Training Loss: 0.3967, Validation Loss: 0.4095, Validation F-beta: 0.7427\n",
      "Epoch 28/4000\n"
     ]
    },
    {
     "name": "stderr",
     "output_type": "stream",
     "text": [
      "Training: 100%|██████████| 204/204 [03:09<00:00,  1.08it/s, loss=0.368]\n",
      "Validation: 100%|██████████| 1/1 [00:00<00:00,  1.61it/s, loss=0.391]\n"
     ]
    },
    {
     "name": "stdout",
     "output_type": "stream",
     "text": [
      "Validation Dice Score\n",
      "Class 0: 0.9846, Class 1: 0.7577, Class 2: 0.1587, Class 3: 0.3766, Class 4: 0.6572, Class 5: 0.3889, Class 6: 0.8831, \n",
      "Validation F-beta Score\n",
      "Class 0: 0.9758, Class 1: 0.8428, Class 2: 0.3145, Class 3: 0.5732, Class 4: 0.8000, Class 5: 0.6100, Class 6: 0.9193, \n",
      "\n",
      "Overall Mean Dice Score: 0.6127\n",
      "Overall Mean F-beta Score: 0.7491\n",
      "\n",
      "Training Loss: 0.3945, Validation Loss: 0.3915, Validation F-beta: 0.7491\n",
      "Epoch 29/4000\n"
     ]
    },
    {
     "name": "stderr",
     "output_type": "stream",
     "text": [
      "Training: 100%|██████████| 204/204 [03:08<00:00,  1.08it/s, loss=0.346]\n",
      "Validation: 100%|██████████| 1/1 [00:00<00:00,  1.71it/s, loss=0.403]\n"
     ]
    },
    {
     "name": "stdout",
     "output_type": "stream",
     "text": [
      "Validation Dice Score\n",
      "Class 0: 0.9873, Class 1: 0.7503, Class 2: 0.1390, Class 3: 0.1942, Class 4: 0.5773, Class 5: 0.5073, Class 6: 0.8768, \n",
      "Validation F-beta Score\n",
      "Class 0: 0.9806, Class 1: 0.8381, Class 2: 0.2181, Class 3: 0.4948, Class 4: 0.7652, Class 5: 0.6466, Class 6: 0.9606, \n",
      "\n",
      "Overall Mean Dice Score: 0.5812\n",
      "Overall Mean F-beta Score: 0.7411\n",
      "\n",
      "Training Loss: 0.3935, Validation Loss: 0.4026, Validation F-beta: 0.7411\n",
      "Epoch 30/4000\n"
     ]
    },
    {
     "name": "stderr",
     "output_type": "stream",
     "text": [
      "Training: 100%|██████████| 204/204 [03:02<00:00,  1.12it/s, loss=0.351]\n",
      "Validation: 100%|██████████| 1/1 [00:00<00:00,  1.74it/s, loss=0.403]\n"
     ]
    },
    {
     "name": "stdout",
     "output_type": "stream",
     "text": [
      "Validation Dice Score\n",
      "Class 0: 0.9880, Class 1: 0.6462, Class 2: 0.1118, Class 3: 0.1829, Class 4: 0.6660, Class 5: 0.4905, Class 6: 0.8902, \n",
      "Validation F-beta Score\n",
      "Class 0: 0.9823, Class 1: 0.8079, Class 2: 0.1829, Class 3: 0.2962, Class 4: 0.8303, Class 5: 0.5802, Class 6: 0.9693, \n",
      "\n",
      "Overall Mean Dice Score: 0.5751\n",
      "Overall Mean F-beta Score: 0.6968\n",
      "\n",
      "Training Loss: 0.3932, Validation Loss: 0.4026, Validation F-beta: 0.6968\n",
      "Epoch 31/4000\n"
     ]
    },
    {
     "name": "stderr",
     "output_type": "stream",
     "text": [
      "Training: 100%|██████████| 204/204 [03:06<00:00,  1.10it/s, loss=0.36] \n",
      "Validation: 100%|██████████| 1/1 [00:00<00:00,  1.71it/s, loss=0.396]\n"
     ]
    },
    {
     "name": "stdout",
     "output_type": "stream",
     "text": [
      "Validation Dice Score\n",
      "Class 0: 0.9854, Class 1: 0.7222, Class 2: 0.2511, Class 3: 0.0911, Class 4: 0.7319, Class 5: 0.4369, Class 6: 0.9217, \n",
      "Validation F-beta Score\n",
      "Class 0: 0.9789, Class 1: 0.8771, Class 2: 0.3025, Class 3: 0.2927, Class 4: 0.8394, Class 5: 0.5459, Class 6: 0.9721, \n",
      "\n",
      "Overall Mean Dice Score: 0.5808\n",
      "Overall Mean F-beta Score: 0.7055\n",
      "\n",
      "Training Loss: 0.3932, Validation Loss: 0.3960, Validation F-beta: 0.7055\n",
      "Epoch 32/4000\n"
     ]
    },
    {
     "name": "stderr",
     "output_type": "stream",
     "text": [
      "Training: 100%|██████████| 204/204 [03:04<00:00,  1.10it/s, loss=0.371]\n",
      "Validation: 100%|██████████| 1/1 [00:00<00:00,  1.78it/s, loss=0.339]\n"
     ]
    },
    {
     "name": "stdout",
     "output_type": "stream",
     "text": [
      "Validation Dice Score\n",
      "Class 0: 0.9871, Class 1: 0.8295, Class 2: 0.2090, Class 3: 0.3061, Class 4: 0.5761, Class 5: 0.4761, Class 6: 0.8982, \n",
      "Validation F-beta Score\n",
      "Class 0: 0.9797, Class 1: 0.8490, Class 2: 0.2668, Class 3: 0.5431, Class 4: 0.8663, Class 5: 0.6132, Class 6: 0.9708, \n",
      "\n",
      "Overall Mean Dice Score: 0.6172\n",
      "Overall Mean F-beta Score: 0.7685\n",
      "\n",
      "Training Loss: 0.3935, Validation Loss: 0.3393, Validation F-beta: 0.7685\n",
      "========================================================\n",
      "SUPER Best model saved. Loss:0.3393, Score:0.7685\n",
      "========================================================\n",
      "Epoch 33/4000\n"
     ]
    },
    {
     "name": "stderr",
     "output_type": "stream",
     "text": [
      "Training: 100%|██████████| 204/204 [03:03<00:00,  1.11it/s, loss=0.34] \n",
      "Validation: 100%|██████████| 1/1 [00:00<00:00,  1.75it/s, loss=0.379]\n"
     ]
    },
    {
     "name": "stdout",
     "output_type": "stream",
     "text": [
      "Validation Dice Score\n",
      "Class 0: 0.9868, Class 1: 0.8041, Class 2: 0.0887, Class 3: 0.3128, Class 4: 0.6609, Class 5: 0.5072, Class 6: 0.8935, \n",
      "Validation F-beta Score\n",
      "Class 0: 0.9796, Class 1: 0.8934, Class 2: 0.1608, Class 3: 0.4137, Class 4: 0.8502, Class 5: 0.6537, Class 6: 0.9590, \n",
      "\n",
      "Overall Mean Dice Score: 0.6357\n",
      "Overall Mean F-beta Score: 0.7540\n",
      "\n",
      "Training Loss: 0.3915, Validation Loss: 0.3795, Validation F-beta: 0.7540\n",
      "Epoch 34/4000\n"
     ]
    },
    {
     "name": "stderr",
     "output_type": "stream",
     "text": [
      "Training: 100%|██████████| 204/204 [03:06<00:00,  1.09it/s, loss=0.346]\n",
      "Validation: 100%|██████████| 1/1 [00:00<00:00,  1.73it/s, loss=0.375]\n"
     ]
    },
    {
     "name": "stdout",
     "output_type": "stream",
     "text": [
      "Validation Dice Score\n",
      "Class 0: 0.9850, Class 1: 0.6934, Class 2: 0.1763, Class 3: 0.3973, Class 4: 0.6592, Class 5: 0.5099, Class 6: 0.8817, \n",
      "Validation F-beta Score\n",
      "Class 0: 0.9759, Class 1: 0.7875, Class 2: 0.2891, Class 3: 0.6523, Class 4: 0.8665, Class 5: 0.6792, Class 6: 0.9645, \n",
      "\n",
      "Overall Mean Dice Score: 0.6283\n",
      "Overall Mean F-beta Score: 0.7900\n",
      "\n",
      "Training Loss: 0.3922, Validation Loss: 0.3747, Validation F-beta: 0.7900\n",
      "Epoch 35/4000\n"
     ]
    },
    {
     "name": "stderr",
     "output_type": "stream",
     "text": [
      "Training: 100%|██████████| 204/204 [03:02<00:00,  1.12it/s, loss=0.36] \n",
      "Validation: 100%|██████████| 1/1 [00:00<00:00,  1.59it/s, loss=0.43]\n"
     ]
    },
    {
     "name": "stdout",
     "output_type": "stream",
     "text": [
      "Validation Dice Score\n",
      "Class 0: 0.9867, Class 1: 0.7573, Class 2: 0.1510, Class 3: 0.2423, Class 4: 0.6795, Class 5: 0.3260, Class 6: 0.9233, \n",
      "Validation F-beta Score\n",
      "Class 0: 0.9798, Class 1: 0.8675, Class 2: 0.2316, Class 3: 0.4339, Class 4: 0.8360, Class 5: 0.4551, Class 6: 0.9545, \n",
      "\n",
      "Overall Mean Dice Score: 0.5857\n",
      "Overall Mean F-beta Score: 0.7094\n",
      "\n",
      "Training Loss: 0.3924, Validation Loss: 0.4296, Validation F-beta: 0.7094\n",
      "Epoch 36/4000\n"
     ]
    },
    {
     "name": "stderr",
     "output_type": "stream",
     "text": [
      "Training: 100%|██████████| 204/204 [03:09<00:00,  1.08it/s, loss=0.349]\n",
      "Validation: 100%|██████████| 1/1 [00:00<00:00,  1.68it/s, loss=0.383]\n"
     ]
    },
    {
     "name": "stdout",
     "output_type": "stream",
     "text": [
      "Validation Dice Score\n",
      "Class 0: 0.9851, Class 1: 0.7651, Class 2: 0.1679, Class 3: 0.3608, Class 4: 0.6637, Class 5: 0.4714, Class 6: 0.8928, \n",
      "Validation F-beta Score\n",
      "Class 0: 0.9765, Class 1: 0.8463, Class 2: 0.2922, Class 3: 0.4969, Class 4: 0.8246, Class 5: 0.6933, Class 6: 0.9455, \n",
      "\n",
      "Overall Mean Dice Score: 0.6307\n",
      "Overall Mean F-beta Score: 0.7613\n",
      "\n",
      "Training Loss: 0.3910, Validation Loss: 0.3831, Validation F-beta: 0.7613\n",
      "Epoch 37/4000\n"
     ]
    },
    {
     "name": "stderr",
     "output_type": "stream",
     "text": [
      "Training: 100%|██████████| 204/204 [03:07<00:00,  1.09it/s, loss=0.368]\n",
      "Validation: 100%|██████████| 1/1 [00:00<00:00,  1.64it/s, loss=0.404]\n"
     ]
    },
    {
     "name": "stdout",
     "output_type": "stream",
     "text": [
      "Validation Dice Score\n",
      "Class 0: 0.9868, Class 1: 0.5895, Class 2: 0.2233, Class 3: 0.4311, Class 4: 0.7692, Class 5: 0.4217, Class 6: 0.8822, \n",
      "Validation F-beta Score\n",
      "Class 0: 0.9823, Class 1: 0.7634, Class 2: 0.3105, Class 3: 0.6370, Class 4: 0.8190, Class 5: 0.5231, Class 6: 0.9173, \n",
      "\n",
      "Overall Mean Dice Score: 0.6187\n",
      "Overall Mean F-beta Score: 0.7319\n",
      "\n",
      "Training Loss: 0.3920, Validation Loss: 0.4037, Validation F-beta: 0.7319\n",
      "Epoch 38/4000\n"
     ]
    },
    {
     "name": "stderr",
     "output_type": "stream",
     "text": [
      "Training: 100%|██████████| 204/204 [03:09<00:00,  1.08it/s, loss=0.37] \n",
      "Validation: 100%|██████████| 1/1 [00:00<00:00,  1.65it/s, loss=0.403]\n"
     ]
    },
    {
     "name": "stdout",
     "output_type": "stream",
     "text": [
      "Validation Dice Score\n",
      "Class 0: 0.9874, Class 1: 0.6403, Class 2: 0.1920, Class 3: 0.2731, Class 4: 0.6646, Class 5: 0.3900, Class 6: 0.8895, \n",
      "Validation F-beta Score\n",
      "Class 0: 0.9808, Class 1: 0.8314, Class 2: 0.2430, Class 3: 0.4096, Class 4: 0.8477, Class 5: 0.5421, Class 6: 0.9565, \n",
      "\n",
      "Overall Mean Dice Score: 0.5715\n",
      "Overall Mean F-beta Score: 0.7175\n",
      "\n",
      "Training Loss: 0.3914, Validation Loss: 0.4025, Validation F-beta: 0.7175\n",
      "Epoch 39/4000\n"
     ]
    },
    {
     "name": "stderr",
     "output_type": "stream",
     "text": [
      "Training: 100%|██████████| 204/204 [03:07<00:00,  1.09it/s, loss=0.357]\n",
      "Validation: 100%|██████████| 1/1 [00:00<00:00,  1.63it/s, loss=0.4]\n"
     ]
    },
    {
     "name": "stdout",
     "output_type": "stream",
     "text": [
      "Validation Dice Score\n",
      "Class 0: 0.9878, Class 1: 0.6273, Class 2: 0.0670, Class 3: 0.3701, Class 4: 0.7394, Class 5: 0.4001, Class 6: 0.8998, \n",
      "Validation F-beta Score\n",
      "Class 0: 0.9815, Class 1: 0.8435, Class 2: 0.1113, Class 3: 0.5187, Class 4: 0.8843, Class 5: 0.5285, Class 6: 0.9602, \n",
      "\n",
      "Overall Mean Dice Score: 0.6073\n",
      "Overall Mean F-beta Score: 0.7470\n",
      "\n",
      "Training Loss: 0.3906, Validation Loss: 0.3998, Validation F-beta: 0.7470\n",
      "Epoch 40/4000\n"
     ]
    },
    {
     "name": "stderr",
     "output_type": "stream",
     "text": [
      "Training: 100%|██████████| 204/204 [03:07<00:00,  1.09it/s, loss=0.387]\n",
      "Validation: 100%|██████████| 1/1 [00:00<00:00,  1.61it/s, loss=0.409]\n"
     ]
    },
    {
     "name": "stdout",
     "output_type": "stream",
     "text": [
      "Validation Dice Score\n",
      "Class 0: 0.9856, Class 1: 0.5579, Class 2: 0.1863, Class 3: 0.3092, Class 4: 0.6953, Class 5: 0.4136, Class 6: 0.8966, \n",
      "Validation F-beta Score\n",
      "Class 0: 0.9774, Class 1: 0.7663, Class 2: 0.2606, Class 3: 0.5205, Class 4: 0.8543, Class 5: 0.6223, Class 6: 0.9635, \n",
      "\n",
      "Overall Mean Dice Score: 0.5745\n",
      "Overall Mean F-beta Score: 0.7454\n",
      "\n",
      "Training Loss: 0.3901, Validation Loss: 0.4086, Validation F-beta: 0.7454\n",
      "Epoch 41/4000\n"
     ]
    },
    {
     "name": "stderr",
     "output_type": "stream",
     "text": [
      "Training: 100%|██████████| 204/204 [03:05<00:00,  1.10it/s, loss=0.36] \n",
      "Validation: 100%|██████████| 1/1 [00:00<00:00,  1.67it/s, loss=0.343]\n"
     ]
    },
    {
     "name": "stdout",
     "output_type": "stream",
     "text": [
      "Validation Dice Score\n",
      "Class 0: 0.9854, Class 1: 0.7740, Class 2: 0.1533, Class 3: 0.3806, Class 4: 0.7058, Class 5: 0.5177, Class 6: 0.9110, \n",
      "Validation F-beta Score\n",
      "Class 0: 0.9788, Class 1: 0.8639, Class 2: 0.2705, Class 3: 0.5635, Class 4: 0.8111, Class 5: 0.6433, Class 6: 0.9642, \n",
      "\n",
      "Overall Mean Dice Score: 0.6579\n",
      "Overall Mean F-beta Score: 0.7692\n",
      "\n",
      "Training Loss: 0.3904, Validation Loss: 0.3428, Validation F-beta: 0.7692\n",
      "Epoch 42/4000\n"
     ]
    },
    {
     "name": "stderr",
     "output_type": "stream",
     "text": [
      "Training: 100%|██████████| 204/204 [03:10<00:00,  1.07it/s, loss=0.339]\n",
      "Validation: 100%|██████████| 1/1 [00:00<00:00,  1.68it/s, loss=0.404]\n"
     ]
    },
    {
     "name": "stdout",
     "output_type": "stream",
     "text": [
      "Validation Dice Score\n",
      "Class 0: 0.9844, Class 1: 0.6794, Class 2: 0.1329, Class 3: 0.3080, Class 4: 0.7382, Class 5: 0.3883, Class 6: 0.9142, \n",
      "Validation F-beta Score\n",
      "Class 0: 0.9755, Class 1: 0.8045, Class 2: 0.2063, Class 3: 0.5329, Class 4: 0.8697, Class 5: 0.6179, Class 6: 0.9512, \n",
      "\n",
      "Overall Mean Dice Score: 0.6056\n",
      "Overall Mean F-beta Score: 0.7553\n",
      "\n",
      "Training Loss: 0.3912, Validation Loss: 0.4043, Validation F-beta: 0.7553\n",
      "Epoch 43/4000\n"
     ]
    },
    {
     "name": "stderr",
     "output_type": "stream",
     "text": [
      "Training: 100%|██████████| 204/204 [03:08<00:00,  1.08it/s, loss=0.343]\n",
      "Validation: 100%|██████████| 1/1 [00:00<00:00,  1.65it/s, loss=0.383]\n"
     ]
    },
    {
     "name": "stdout",
     "output_type": "stream",
     "text": [
      "Validation Dice Score\n",
      "Class 0: 0.9874, Class 1: 0.7703, Class 2: 0.1164, Class 3: 0.4136, Class 4: 0.6501, Class 5: 0.3892, Class 6: 0.8812, \n",
      "Validation F-beta Score\n",
      "Class 0: 0.9800, Class 1: 0.8847, Class 2: 0.2983, Class 3: 0.6102, Class 4: 0.8179, Class 5: 0.5942, Class 6: 0.9424, \n",
      "\n",
      "Overall Mean Dice Score: 0.6209\n",
      "Overall Mean F-beta Score: 0.7699\n",
      "\n",
      "Training Loss: 0.3909, Validation Loss: 0.3834, Validation F-beta: 0.7699\n",
      "Epoch 44/4000\n"
     ]
    },
    {
     "name": "stderr",
     "output_type": "stream",
     "text": [
      "Training: 100%|██████████| 204/204 [03:09<00:00,  1.08it/s, loss=0.342]\n",
      "Validation: 100%|██████████| 1/1 [00:00<00:00,  1.67it/s, loss=0.381]\n"
     ]
    },
    {
     "name": "stdout",
     "output_type": "stream",
     "text": [
      "Validation Dice Score\n",
      "Class 0: 0.9869, Class 1: 0.8229, Class 2: 0.1504, Class 3: 0.2063, Class 4: 0.6644, Class 5: 0.5013, Class 6: 0.9426, \n",
      "Validation F-beta Score\n",
      "Class 0: 0.9813, Class 1: 0.8233, Class 2: 0.2105, Class 3: 0.4165, Class 4: 0.8009, Class 5: 0.5948, Class 6: 0.9656, \n",
      "\n",
      "Overall Mean Dice Score: 0.6275\n",
      "Overall Mean F-beta Score: 0.7202\n",
      "\n",
      "Training Loss: 0.3925, Validation Loss: 0.3810, Validation F-beta: 0.7202\n",
      "Epoch 45/4000\n"
     ]
    },
    {
     "name": "stderr",
     "output_type": "stream",
     "text": [
      "Training: 100%|██████████| 204/204 [03:08<00:00,  1.09it/s, loss=0.353]\n",
      "Validation: 100%|██████████| 1/1 [00:00<00:00,  1.72it/s, loss=0.391]\n"
     ]
    },
    {
     "name": "stdout",
     "output_type": "stream",
     "text": [
      "Validation Dice Score\n",
      "Class 0: 0.9869, Class 1: 0.6658, Class 2: 0.1658, Class 3: 0.1543, Class 4: 0.5105, Class 5: 0.4121, Class 6: 0.8953, \n",
      "Validation F-beta Score\n",
      "Class 0: 0.9789, Class 1: 0.8733, Class 2: 0.2352, Class 3: 0.2979, Class 4: 0.8483, Class 5: 0.5815, Class 6: 0.9705, \n",
      "\n",
      "Overall Mean Dice Score: 0.5276\n",
      "Overall Mean F-beta Score: 0.7143\n",
      "\n",
      "Training Loss: 0.3936, Validation Loss: 0.3909, Validation F-beta: 0.7143\n",
      "Epoch 46/4000\n"
     ]
    },
    {
     "name": "stderr",
     "output_type": "stream",
     "text": [
      "Training: 100%|██████████| 204/204 [03:10<00:00,  1.07it/s, loss=0.363]\n",
      "Validation: 100%|██████████| 1/1 [00:00<00:00,  1.58it/s, loss=0.414]\n"
     ]
    },
    {
     "name": "stdout",
     "output_type": "stream",
     "text": [
      "Validation Dice Score\n",
      "Class 0: 0.9906, Class 1: 0.7934, Class 2: 0.2616, Class 3: 0.4501, Class 4: 0.7069, Class 5: 0.4392, Class 6: 0.9228, \n",
      "Validation F-beta Score\n",
      "Class 0: 0.9865, Class 1: 0.8518, Class 2: 0.3352, Class 3: 0.6777, Class 4: 0.7827, Class 5: 0.6041, Class 6: 0.9458, \n",
      "\n",
      "Overall Mean Dice Score: 0.6625\n",
      "Overall Mean F-beta Score: 0.7724\n",
      "\n",
      "Training Loss: 0.3904, Validation Loss: 0.4139, Validation F-beta: 0.7724\n",
      "Epoch 47/4000\n"
     ]
    },
    {
     "name": "stderr",
     "output_type": "stream",
     "text": [
      "Training: 100%|██████████| 204/204 [03:10<00:00,  1.07it/s, loss=0.361]\n",
      "Validation: 100%|██████████| 1/1 [00:00<00:00,  1.72it/s, loss=0.381]\n"
     ]
    },
    {
     "name": "stdout",
     "output_type": "stream",
     "text": [
      "Validation Dice Score\n",
      "Class 0: 0.9887, Class 1: 0.7934, Class 2: 0.1369, Class 3: 0.3631, Class 4: 0.7354, Class 5: 0.5062, Class 6: 0.9211, \n",
      "Validation F-beta Score\n",
      "Class 0: 0.9851, Class 1: 0.8699, Class 2: 0.1955, Class 3: 0.6082, Class 4: 0.8042, Class 5: 0.5549, Class 6: 0.9620, \n",
      "\n",
      "Overall Mean Dice Score: 0.6638\n",
      "Overall Mean F-beta Score: 0.7598\n",
      "\n",
      "Training Loss: 0.3890, Validation Loss: 0.3806, Validation F-beta: 0.7598\n",
      "Epoch 48/4000\n"
     ]
    },
    {
     "name": "stderr",
     "output_type": "stream",
     "text": [
      "Training: 100%|██████████| 204/204 [03:04<00:00,  1.11it/s, loss=0.352]\n",
      "Validation: 100%|██████████| 1/1 [00:00<00:00,  1.73it/s, loss=0.372]\n"
     ]
    },
    {
     "name": "stdout",
     "output_type": "stream",
     "text": [
      "Validation Dice Score\n",
      "Class 0: 0.9897, Class 1: 0.7186, Class 2: 0.0794, Class 3: 0.3917, Class 4: 0.6885, Class 5: 0.5354, Class 6: 0.9124, \n",
      "Validation F-beta Score\n",
      "Class 0: 0.9845, Class 1: 0.8472, Class 2: 0.1373, Class 3: 0.6944, Class 4: 0.8250, Class 5: 0.6519, Class 6: 0.9689, \n",
      "\n",
      "Overall Mean Dice Score: 0.6493\n",
      "Overall Mean F-beta Score: 0.7975\n",
      "\n",
      "Training Loss: 0.3878, Validation Loss: 0.3716, Validation F-beta: 0.7975\n",
      "Epoch 49/4000\n"
     ]
    },
    {
     "name": "stderr",
     "output_type": "stream",
     "text": [
      "Training: 100%|██████████| 204/204 [03:04<00:00,  1.11it/s, loss=0.336]\n",
      "Validation: 100%|██████████| 1/1 [00:00<00:00,  1.73it/s, loss=0.41]\n"
     ]
    },
    {
     "name": "stdout",
     "output_type": "stream",
     "text": [
      "Validation Dice Score\n",
      "Class 0: 0.9879, Class 1: 0.6218, Class 2: 0.2043, Class 3: 0.3806, Class 4: 0.6636, Class 5: 0.4122, Class 6: 0.8464, \n",
      "Validation F-beta Score\n",
      "Class 0: 0.9820, Class 1: 0.8016, Class 2: 0.2712, Class 3: 0.5309, Class 4: 0.7657, Class 5: 0.6167, Class 6: 0.8871, \n",
      "\n",
      "Overall Mean Dice Score: 0.5849\n",
      "Overall Mean F-beta Score: 0.7204\n",
      "\n",
      "Training Loss: 0.3860, Validation Loss: 0.4098, Validation F-beta: 0.7204\n",
      "Epoch 50/4000\n"
     ]
    },
    {
     "name": "stderr",
     "output_type": "stream",
     "text": [
      "Training: 100%|██████████| 204/204 [03:04<00:00,  1.10it/s, loss=0.357]\n",
      "Validation: 100%|██████████| 1/1 [00:00<00:00,  1.70it/s, loss=0.375]\n"
     ]
    },
    {
     "name": "stdout",
     "output_type": "stream",
     "text": [
      "Validation Dice Score\n",
      "Class 0: 0.9863, Class 1: 0.6943, Class 2: 0.1969, Class 3: 0.3415, Class 4: 0.6739, Class 5: 0.5711, Class 6: 0.8740, \n",
      "Validation F-beta Score\n",
      "Class 0: 0.9804, Class 1: 0.8619, Class 2: 0.2820, Class 3: 0.4706, Class 4: 0.7997, Class 5: 0.6618, Class 6: 0.9572, \n",
      "\n",
      "Overall Mean Dice Score: 0.6309\n",
      "Overall Mean F-beta Score: 0.7503\n",
      "\n",
      "Training Loss: 0.3850, Validation Loss: 0.3751, Validation F-beta: 0.7503\n",
      "Epoch 51/4000\n"
     ]
    },
    {
     "name": "stderr",
     "output_type": "stream",
     "text": [
      "Training: 100%|██████████| 204/204 [03:04<00:00,  1.11it/s, loss=0.355]\n",
      "Validation: 100%|██████████| 1/1 [00:00<00:00,  1.65it/s, loss=0.396]\n"
     ]
    },
    {
     "name": "stdout",
     "output_type": "stream",
     "text": [
      "Validation Dice Score\n",
      "Class 0: 0.9875, Class 1: 0.7009, Class 2: 0.1308, Class 3: 0.3615, Class 4: 0.7145, Class 5: 0.3991, Class 6: 0.8792, \n",
      "Validation F-beta Score\n",
      "Class 0: 0.9828, Class 1: 0.7939, Class 2: 0.3374, Class 3: 0.6508, Class 4: 0.7716, Class 5: 0.4982, Class 6: 0.9520, \n",
      "\n",
      "Overall Mean Dice Score: 0.6110\n",
      "Overall Mean F-beta Score: 0.7333\n",
      "\n",
      "Training Loss: 0.3838, Validation Loss: 0.3959, Validation F-beta: 0.7333\n",
      "Epoch 52/4000\n"
     ]
    },
    {
     "name": "stderr",
     "output_type": "stream",
     "text": [
      "Training: 100%|██████████| 204/204 [03:08<00:00,  1.08it/s, loss=0.355]\n",
      "Validation: 100%|██████████| 1/1 [00:00<00:00,  1.31it/s, loss=0.365]\n"
     ]
    },
    {
     "name": "stdout",
     "output_type": "stream",
     "text": [
      "Validation Dice Score\n",
      "Class 0: 0.9909, Class 1: 0.8199, Class 2: 0.0995, Class 3: 0.3315, Class 4: 0.7047, Class 5: 0.4579, Class 6: 0.9205, \n",
      "Validation F-beta Score\n",
      "Class 0: 0.9865, Class 1: 0.8896, Class 2: 0.2261, Class 3: 0.5984, Class 4: 0.8192, Class 5: 0.5718, Class 6: 0.9631, \n",
      "\n",
      "Overall Mean Dice Score: 0.6469\n",
      "Overall Mean F-beta Score: 0.7684\n",
      "\n",
      "Training Loss: 0.3863, Validation Loss: 0.3652, Validation F-beta: 0.7684\n",
      "Epoch 53/4000\n"
     ]
    },
    {
     "name": "stderr",
     "output_type": "stream",
     "text": [
      "Training: 100%|██████████| 204/204 [03:05<00:00,  1.10it/s, loss=0.349]\n",
      "Validation: 100%|██████████| 1/1 [00:00<00:00,  1.68it/s, loss=0.411]\n"
     ]
    },
    {
     "name": "stdout",
     "output_type": "stream",
     "text": [
      "Validation Dice Score\n",
      "Class 0: 0.9888, Class 1: 0.7027, Class 2: 0.1685, Class 3: 0.3225, Class 4: 0.6761, Class 5: 0.3271, Class 6: 0.7986, \n",
      "Validation F-beta Score\n",
      "Class 0: 0.9833, Class 1: 0.8561, Class 2: 0.2387, Class 3: 0.4757, Class 4: 0.7849, Class 5: 0.5141, Class 6: 0.9269, \n",
      "\n",
      "Overall Mean Dice Score: 0.5654\n",
      "Overall Mean F-beta Score: 0.7115\n",
      "\n",
      "Training Loss: 0.3843, Validation Loss: 0.4106, Validation F-beta: 0.7115\n",
      "Epoch 54/4000\n"
     ]
    },
    {
     "name": "stderr",
     "output_type": "stream",
     "text": [
      "Training: 100%|██████████| 204/204 [03:02<00:00,  1.12it/s, loss=0.32] \n",
      "Validation: 100%|██████████| 1/1 [00:00<00:00,  1.69it/s, loss=0.344]\n"
     ]
    },
    {
     "name": "stdout",
     "output_type": "stream",
     "text": [
      "Validation Dice Score\n",
      "Class 0: 0.9893, Class 1: 0.8693, Class 2: 0.1119, Class 3: 0.3302, Class 4: 0.6925, Class 5: 0.4921, Class 6: 0.9135, \n",
      "Validation F-beta Score\n",
      "Class 0: 0.9852, Class 1: 0.9146, Class 2: 0.2123, Class 3: 0.3961, Class 4: 0.8183, Class 5: 0.5681, Class 6: 0.9641, \n",
      "\n",
      "Overall Mean Dice Score: 0.6595\n",
      "Overall Mean F-beta Score: 0.7322\n",
      "\n",
      "Training Loss: 0.3838, Validation Loss: 0.3441, Validation F-beta: 0.7322\n",
      "Epoch 55/4000\n"
     ]
    },
    {
     "name": "stderr",
     "output_type": "stream",
     "text": [
      "Training: 100%|██████████| 204/204 [03:08<00:00,  1.08it/s, loss=0.355]\n",
      "Validation: 100%|██████████| 1/1 [00:00<00:00,  1.69it/s, loss=0.388]\n"
     ]
    },
    {
     "name": "stdout",
     "output_type": "stream",
     "text": [
      "Validation Dice Score\n",
      "Class 0: 0.9846, Class 1: 0.6878, Class 2: 0.1863, Class 3: 0.2984, Class 4: 0.6910, Class 5: 0.4089, Class 6: 0.9060, \n",
      "Validation F-beta Score\n",
      "Class 0: 0.9785, Class 1: 0.7939, Class 2: 0.2512, Class 3: 0.6197, Class 4: 0.7631, Class 5: 0.5507, Class 6: 0.9650, \n",
      "\n",
      "Overall Mean Dice Score: 0.5984\n",
      "Overall Mean F-beta Score: 0.7385\n",
      "\n",
      "Training Loss: 0.3828, Validation Loss: 0.3880, Validation F-beta: 0.7385\n",
      "Epoch 56/4000\n"
     ]
    },
    {
     "name": "stderr",
     "output_type": "stream",
     "text": [
      "Training: 100%|██████████| 204/204 [03:09<00:00,  1.08it/s, loss=0.361]\n",
      "Validation: 100%|██████████| 1/1 [00:00<00:00,  1.69it/s, loss=0.415]\n"
     ]
    },
    {
     "name": "stdout",
     "output_type": "stream",
     "text": [
      "Validation Dice Score\n",
      "Class 0: 0.9890, Class 1: 0.6641, Class 2: 0.1675, Class 3: 0.3197, Class 4: 0.7623, Class 5: 0.3850, Class 6: 0.9268, \n",
      "Validation F-beta Score\n",
      "Class 0: 0.9856, Class 1: 0.8763, Class 2: 0.2676, Class 3: 0.4393, Class 4: 0.7723, Class 5: 0.4929, Class 6: 0.9712, \n",
      "\n",
      "Overall Mean Dice Score: 0.6116\n",
      "Overall Mean F-beta Score: 0.7104\n",
      "\n",
      "Training Loss: 0.3835, Validation Loss: 0.4153, Validation F-beta: 0.7104\n",
      "Epoch 57/4000\n"
     ]
    },
    {
     "name": "stderr",
     "output_type": "stream",
     "text": [
      "Training: 100%|██████████| 204/204 [03:08<00:00,  1.08it/s, loss=0.354]\n",
      "Validation: 100%|██████████| 1/1 [00:00<00:00,  1.63it/s, loss=0.39]\n"
     ]
    },
    {
     "name": "stdout",
     "output_type": "stream",
     "text": [
      "Validation Dice Score\n",
      "Class 0: 0.9889, Class 1: 0.6867, Class 2: 0.2182, Class 3: 0.2709, Class 4: 0.7501, Class 5: 0.4741, Class 6: 0.8893, \n",
      "Validation F-beta Score\n",
      "Class 0: 0.9846, Class 1: 0.8967, Class 2: 0.2999, Class 3: 0.4785, Class 4: 0.8026, Class 5: 0.5943, Class 6: 0.9484, \n",
      "\n",
      "Overall Mean Dice Score: 0.6142\n",
      "Overall Mean F-beta Score: 0.7441\n",
      "\n",
      "Training Loss: 0.3830, Validation Loss: 0.3902, Validation F-beta: 0.7441\n",
      "Epoch 58/4000\n"
     ]
    },
    {
     "name": "stderr",
     "output_type": "stream",
     "text": [
      "Training: 100%|██████████| 204/204 [03:07<00:00,  1.09it/s, loss=0.351]\n",
      "Validation: 100%|██████████| 1/1 [00:00<00:00,  1.72it/s, loss=0.373]"
     ]
    },
    {
     "name": "stdout",
     "output_type": "stream",
     "text": [
      "Validation Dice Score\n",
      "Class 0: 0.9884, Class 1: 0.7957, Class 2: 0.2717, Class 3: 0.3569, Class 4: 0.7208, Class 5: 0.4820, Class 6: 0.9180, \n",
      "Validation F-beta Score\n",
      "Class 0: 0.9828, Class 1: 0.8724, Class 2: 0.3284, Class 3: 0.5070, Class 4: 0.8456, Class 5: 0.6499, Class 6: 0.9496, \n",
      "\n",
      "Overall Mean Dice Score: 0.6547\n",
      "Overall Mean F-beta Score: 0.7649\n",
      "\n",
      "Training Loss: 0.3850, Validation Loss: 0.3727, Validation F-beta: 0.7649\n",
      "Early stopping\n"
     ]
    },
    {
     "name": "stderr",
     "output_type": "stream",
     "text": [
      "\n"
     ]
    },
    {
     "data": {
      "text/html": [],
      "text/plain": [
       "<IPython.core.display.HTML object>"
      ]
     },
     "metadata": {},
     "output_type": "display_data"
    },
    {
     "data": {
      "text/html": [
       "<br>    <style><br>        .wandb-row {<br>            display: flex;<br>            flex-direction: row;<br>            flex-wrap: wrap;<br>            justify-content: flex-start;<br>            width: 100%;<br>        }<br>        .wandb-col {<br>            display: flex;<br>            flex-direction: column;<br>            flex-basis: 100%;<br>            flex: 1;<br>            padding: 10px;<br>        }<br>    </style><br><div class=\"wandb-row\"><div class=\"wandb-col\"><h3>Run history:</h3><br/><table class=\"wandb\"><tr><td>class_0_dice_score</td><td>▅▅▅▃▃▇▆▅▄▄▅▄▃▅▄▅▄▂▃▅▄▅▂▄▄▂▄▄▅▂▁▄▄▄█▇▅▃█▆</td></tr><tr><td>class_0_f_beta_score</td><td>█▆▅▆▄▄▅▅▄▄▄▄▃▂▃▃▄▃▂▃▁▃▄▂▃▄▃▂▁▃▂▅▅▄▄▄▅▂▅▄</td></tr><tr><td>class_1_dice_score</td><td>▁▁▁▂▃▇▇▆▇▇▆▇▇▆█▇▇▇▇▆█▇▇▇▇▆▆▅▇▆█▆▇▇▆▇█▇█▇</td></tr><tr><td>class_1_f_beta_score</td><td>▁▂▃▅▅▇▇▆▇▇▇▇▇▇█▇▇▇▇▇█▇█▇█▇▇▇█▇▇██▇████▇█</td></tr><tr><td>class_2_dice_score</td><td>▁▁▁▂▄▇▆▅▄▄▆▃▄▂▆▆▆▆▆▆▅▅▇▆▆▅▇▆▃▅▄▅▃▆▄▅▄▆▅█</td></tr><tr><td>class_2_f_beta_score</td><td>▁▁▂▃▃▆▅▅▃▆▅▃▆▄▆▆▇▆█▆▇▄▇▆▇▆▆▇▅▇▆█▄▇▇▆▆▅▆█</td></tr><tr><td>class_3_dice_score</td><td>▁▂▃▄▄▅▆▃▄▃▅▅▅▄▆▆▆▇▆▇▂▆▆▇▅█▅▇▆▆▃█▇▇▆▆▆▆▆▇</td></tr><tr><td>class_3_f_beta_score</td><td>▁▃▄▅▅▆▅▇▄▅▆▆▆▇▄▆▇█▅▆▄▆▅█▅▆▇▆▇▅█▇█▆▆▇▆▇▅▆</td></tr><tr><td>class_4_dice_score</td><td>▁▆▁▄▆▅▅▇▇▇▅▄▇▄▆▆▄▅▆▆▅▃▇▃▅▅█▅▇▆▅▂▆▇▆▇▆▆▆█</td></tr><tr><td>class_4_f_beta_score</td><td>▁▇▃▆▅█▇▇▆▆▇▇▆▇▇▇▇▇▆▆▇█▇█▇▇▇█▇▇▇▆▇▇▇▇▆▆▆▇</td></tr><tr><td>class_5_dice_score</td><td>▁▄▄▆▆▆▆▅▆▆▆▆█▅▅▇▇▆▆▇▆██▇▇█▅▇▇▆█▆██▇▅█▇▆█</td></tr><tr><td>class_5_f_beta_score</td><td>▁▂▄▂▅▃▃▅▅▇▆▇▇▆▅▇▇▇▇▇▇█▅█▆▆▇▇▇▇▇▆▇▇█▆▆▆▅▇</td></tr><tr><td>class_6_dice_score</td><td>▃▆▆▆▆▆▆▃▅▆▆▇▇▅▅▄▅▆▅▅▇▆▆▅▇▅▅▆▆▇█▇▇▇▅▁▇▆▇▇</td></tr><tr><td>class_6_f_beta_score</td><td>▁▆▆▆▅▇▇▇█▇▇▇▇▇███▇███████████▇███▇██████</td></tr><tr><td>epoch</td><td>▁▁▁▁▂▂▂▂▂▂▃▃▃▃▄▄▄▄▄▄▅▅▆▆▆▆▆▆▆▇▇▇▇▇▇▇████</td></tr><tr><td>overall_mean_dice_score</td><td>▁▃▃▄▅▅▇▇▇▆▇▇▇▇▇▇█▇▇▇▇▇▇▇█▇▇▇▇█▇▆███▇▇█▇█</td></tr><tr><td>overall_mean_f_beta_score</td><td>▁▃▄▄▆▇▇▇▆▆▇▇▇▇▇▇███▇██▇▇█▇█▇███▇▇████▇██</td></tr><tr><td>train_epoch_loss</td><td>█▇▆▅▄▃▃▃▃▂▂▂▂▂▂▂▂▂▂▂▂▂▂▁▁▁▁▁▁▁▁▂▁▁▁▁▁▁▁▁</td></tr><tr><td>val_epoch_loss</td><td>█▆▇▆▅▃▄▄▄▄▃▄▄▃▃▄▃▂▄▃▃▁▃▅▃▄▃▄▁▄▃▃▄▃▂▃▄▁▃▂</td></tr></table><br/></div><div class=\"wandb-col\"><h3>Run summary:</h3><br/><table class=\"wandb\"><tr><td>class_0_dice_score</td><td>0.98844</td></tr><tr><td>class_0_f_beta_score</td><td>0.98275</td></tr><tr><td>class_1_dice_score</td><td>0.79574</td></tr><tr><td>class_1_f_beta_score</td><td>0.87241</td></tr><tr><td>class_2_dice_score</td><td>0.2717</td></tr><tr><td>class_2_f_beta_score</td><td>0.32836</td></tr><tr><td>class_3_dice_score</td><td>0.35687</td></tr><tr><td>class_3_f_beta_score</td><td>0.50703</td></tr><tr><td>class_4_dice_score</td><td>0.72082</td></tr><tr><td>class_4_f_beta_score</td><td>0.84556</td></tr><tr><td>class_5_dice_score</td><td>0.482</td></tr><tr><td>class_5_f_beta_score</td><td>0.64995</td></tr><tr><td>class_6_dice_score</td><td>0.91804</td></tr><tr><td>class_6_f_beta_score</td><td>0.94962</td></tr><tr><td>epoch</td><td>58</td></tr><tr><td>overall_mean_dice_score</td><td>0.65469</td></tr><tr><td>overall_mean_f_beta_score</td><td>0.76491</td></tr><tr><td>train_epoch_loss</td><td>0.385</td></tr><tr><td>val_epoch_loss</td><td>0.3727</td></tr></table><br/></div></div>"
      ],
      "text/plain": [
       "<IPython.core.display.HTML object>"
      ]
     },
     "metadata": {},
     "output_type": "display_data"
    },
    {
     "data": {
      "text/html": [
       " View run <strong style=\"color:#cdcd00\">UNET_randGaus_511_241_noclswt_f48_d96s96_numb2_lr1e-03_a0.52_b0.48_b16_r4_ce0.4_ac1</strong> at: <a href='https://wandb.ai/limbw/czii_UNet/runs/qvxjijiy' target=\"_blank\">https://wandb.ai/limbw/czii_UNet/runs/qvxjijiy</a><br> View project at: <a href='https://wandb.ai/limbw/czii_UNet' target=\"_blank\">https://wandb.ai/limbw/czii_UNet</a><br>Synced 5 W&B file(s), 0 media file(s), 0 artifact file(s) and 0 other file(s)"
      ],
      "text/plain": [
       "<IPython.core.display.HTML object>"
      ]
     },
     "metadata": {},
     "output_type": "display_data"
    },
    {
     "data": {
      "text/html": [
       "Find logs at: <code>.\\wandb\\run-20250117_183229-qvxjijiy\\logs</code>"
      ],
      "text/plain": [
       "<IPython.core.display.HTML object>"
      ]
     },
     "metadata": {},
     "output_type": "display_data"
    }
   ],
   "source": [
    "train_model(\n",
    "    model=model,\n",
    "    train_loader=train_loader,\n",
    "    val_loader=val_loader,\n",
    "    criterion=criterion,\n",
    "    optimizer=optimizer,\n",
    "    num_epochs=num_epochs,\n",
    "    patience=10,\n",
    "    device=device,\n",
    "    start_epoch=start_epoch,\n",
    "    best_val_loss=best_val_loss,\n",
    "    best_val_fbeta_score=best_val_fbeta_score,\n",
    "    calculate_dice_interval=1,\n",
    "    accumulation_steps = accumulation_steps,\n",
    "    pretrained=True,\n",
    "     ) "
   ]
  },
  {
   "cell_type": "code",
   "execution_count": 12,
   "metadata": {},
   "outputs": [
    {
     "name": "stderr",
     "output_type": "stream",
     "text": [
      "Loading dataset: 100%|██████████| 24/24 [00:03<00:00,  7.74it/s]\n",
      "Loading dataset: 100%|██████████| 1/1 [00:00<00:00,  7.08it/s]\n"
     ]
    },
    {
     "name": "stdout",
     "output_type": "stream",
     "text": [
      "torch.Size([16, 1, 96, 96, 96]) torch.Size([16, 1, 96, 96, 96])\n"
     ]
    }
   ],
   "source": [
    "train_img_dir = './datasets/public_data/images'\n",
    "train_label_dir = './datasets/public_data/labels'\n",
    "\n",
    "train_loader, val_loader = None, None\n",
    "train_loader, val_loader = create_dataloaders_bw(\n",
    "    train_img_dir, \n",
    "    train_label_dir, \n",
    "    val_img_dir, \n",
    "    val_label_dir, \n",
    "    non_random_transforms = non_random_transforms, \n",
    "    val_non_random_transforms=non_random_transforms,\n",
    "    random_transforms = random_transforms, \n",
    "    val_random_transforms=val_random_transforms,\n",
    "    batch_size = loader_batch,\n",
    "    num_workers=0,\n",
    "    train_num_repeat=num_repeat\n",
    "    )\n",
    "\n",
    "batch = next(iter(val_loader))\n",
    "images, labels = batch[\"image\"], batch[\"label\"]\n",
    "print(images.shape, labels.shape)"
   ]
  },
  {
   "cell_type": "code",
   "execution_count": 13,
   "metadata": {},
   "outputs": [],
   "source": [
    "torch.backends.cudnn.benchmark = True"
   ]
  },
  {
   "cell_type": "code",
   "execution_count": null,
   "metadata": {},
   "outputs": [
    {
     "name": "stdout",
     "output_type": "stream",
     "text": [
      "기존 best model 발견: model_checkpoints\\UNET_randGaus_511_241_noclswt_f48_d96s96_numb2_lr1e-03_a0.52_b0.48_b16_r4_ce0.4_ac1\\best_model_pretrained.pt\n",
      "기존 학습된 가중치를 성공적으로 로드했습니다.\n"
     ]
    },
    {
     "name": "stderr",
     "output_type": "stream",
     "text": [
      "C:\\Users\\pook0\\AppData\\Local\\Temp\\ipykernel_16580\\2378171017.py:6: FutureWarning: You are using `torch.load` with `weights_only=False` (the current default value), which uses the default pickle module implicitly. It is possible to construct malicious pickle data which will execute arbitrary code during unpickling (See https://github.com/pytorch/pytorch/blob/main/SECURITY.md#untrusted-models for more details). In a future release, the default value for `weights_only` will be flipped to `True`. This limits the functions that could be executed during unpickling. Arbitrary objects will no longer be allowed to be loaded via this mode unless they are explicitly allowlisted by the user via `torch.serialization.add_safe_globals`. We recommend you start setting `weights_only=True` for any use case where you don't have full control of the loaded file. Please open an issue on GitHub for any issues related to this experimental feature.\n",
      "  checkpoint = torch.load(best_model_path, map_location=device)\n"
     ]
    }
   ],
   "source": [
    "\n",
    "if checkpoint_dir.exists():\n",
    "    best_model_path = checkpoint_dir / 'best_model_pretrained.pt'\n",
    "    if best_model_path.exists():\n",
    "        print(f\"기존 best model 발견: {best_model_path}\")\n",
    "        try:\n",
    "            checkpoint = torch.load(best_model_path, map_location=device)\n",
    "            # 체크포인트 내부 키 검증\n",
    "            required_keys = ['model_state_dict', 'optimizer_state_dict', 'epoch', 'best_val_loss', 'best_val_fbeta_score']\n",
    "            if all(k in checkpoint for k in required_keys):\n",
    "                model.load_state_dict(checkpoint['model_state_dict'])\n",
    "                optimizer.load_state_dict(checkpoint['optimizer_state_dict'])\n",
    "                start_epoch = checkpoint['epoch']\n",
    "                best_val_loss = checkpoint['best_val_loss']\n",
    "                best_val_fbeta_score = checkpoint['best_val_fbeta_score']\n",
    "                print(\"기존 학습된 가중치를 성공적으로 로드했습니다.\")\n",
    "                checkpoint= None\n",
    "            else:\n",
    "                raise ValueError(\"체크포인트 파일에 필요한 key가 없습니다.\")\n",
    "        except Exception as e:\n",
    "            print(f\"체크포인트 파일을 로드하는 중 오류 발생: {e}\")\n",
    "            \n",
    "lr = lr/2\n",
    "            \n",
    "optimizer = optim.AdamW(model.parameters(), lr=lr, weight_decay=1e-5)\n",
    "scheduler = torch.optim.lr_scheduler.ReduceLROnPlateau(optimizer, patience=5, factor=0.5)\n"
   ]
  },
  {
   "cell_type": "code",
   "execution_count": 15,
   "metadata": {},
   "outputs": [
    {
     "data": {
      "text/html": [
       "Tracking run with wandb version 0.19.1"
      ],
      "text/plain": [
       "<IPython.core.display.HTML object>"
      ]
     },
     "metadata": {},
     "output_type": "display_data"
    },
    {
     "data": {
      "text/html": [
       "Run data is saved locally in <code>d:\\Workspace\\czll\\wandb\\run-20250117_213402-79wwzw0x</code>"
      ],
      "text/plain": [
       "<IPython.core.display.HTML object>"
      ]
     },
     "metadata": {},
     "output_type": "display_data"
    },
    {
     "data": {
      "text/html": [
       "Syncing run <strong><a href='https://wandb.ai/limbw/czii_UNet/runs/79wwzw0x' target=\"_blank\">UNET_randGaus_511_241_noclswt_f48_d96s96_numb2_lr1e-03_a0.52_b0.48_b16_r4_ce0.4_ac1</a></strong> to <a href='https://wandb.ai/limbw/czii_UNet' target=\"_blank\">Weights & Biases</a> (<a href='https://wandb.me/developer-guide' target=\"_blank\">docs</a>)<br>"
      ],
      "text/plain": [
       "<IPython.core.display.HTML object>"
      ]
     },
     "metadata": {},
     "output_type": "display_data"
    },
    {
     "data": {
      "text/html": [
       " View project at <a href='https://wandb.ai/limbw/czii_UNet' target=\"_blank\">https://wandb.ai/limbw/czii_UNet</a>"
      ],
      "text/plain": [
       "<IPython.core.display.HTML object>"
      ]
     },
     "metadata": {},
     "output_type": "display_data"
    },
    {
     "data": {
      "text/html": [
       " View run at <a href='https://wandb.ai/limbw/czii_UNet/runs/79wwzw0x' target=\"_blank\">https://wandb.ai/limbw/czii_UNet/runs/79wwzw0x</a>"
      ],
      "text/plain": [
       "<IPython.core.display.HTML object>"
      ]
     },
     "metadata": {},
     "output_type": "display_data"
    }
   ],
   "source": [
    "import wandb\n",
    "from datetime import datetime\n",
    "\n",
    "current_time = datetime.now().strftime('%Y%m%d_%H%M%S')\n",
    "run_name = folder_name\n",
    "\n",
    "# wandb 초기화\n",
    "wandb.init(\n",
    "    project='czii_UNet',  # 프로젝트 이름 설정\n",
    "    name=run_name,         # 실행(run) 이름 설정\n",
    "    config={\n",
    "        'num_epochs': num_epochs,\n",
    "        'learning_rate': lr,\n",
    "        'batch_size': batch_size,\n",
    "        'lambda': lamda,\n",
    "        \"cross_entropy_weight\": ce_weight,\n",
    "        'feature_size': feature_size,\n",
    "        'img_size': img_size,\n",
    "        'sampling_ratio': ratios_list,\n",
    "        'device': device.type,\n",
    "        \"checkpoint_dir\": str(checkpoint_dir),\n",
    "        \"class_weights\": class_weights.tolist() if class_weights is not None else None,\n",
    "        # \"use_checkpoint\": use_checkpoint,\n",
    "        \"drop_rate\": drop_rate,\n",
    "        # \"attn_drop_rate\": attn_drop_rate,\n",
    "        # \"use_v2\": use_v2,\n",
    "        \"accumulation_steps\": accumulation_steps,\n",
    "        \"num_repeat\": num_repeat,\n",
    "        # \"num_bottleneck\": num_bottleneck,\n",
    "        \n",
    "        # 필요한 하이퍼파라미터 추가\n",
    "    }\n",
    ")\n",
    "# 모델을 wandb에 연결\n",
    "wandb.watch(model, log='all')"
   ]
  },
  {
   "cell_type": "code",
   "execution_count": 16,
   "metadata": {},
   "outputs": [
    {
     "name": "stdout",
     "output_type": "stream",
     "text": [
      "Epoch 33/4000\n"
     ]
    },
    {
     "name": "stderr",
     "output_type": "stream",
     "text": [
      "Training:   0%|          | 0/96 [00:00<?, ?it/s]C:\\Users\\pook0\\AppData\\Local\\Temp\\ipykernel_16580\\3379185286.py:44: UserWarning: To copy construct from a tensor, it is recommended to use sourceTensor.clone().detach() or sourceTensor.clone().detach().requires_grad_(True), rather than torch.tensor(sourceTensor).\n",
      "  class_weights = torch.tensor(self.ce.weight)  # CrossEntropy의 weight를 사용\n",
      "Training: 100%|██████████| 96/96 [01:26<00:00,  1.11it/s, loss=0.432]\n",
      "Validation: 100%|██████████| 1/1 [00:00<00:00,  1.65it/s, loss=0.373]\n"
     ]
    },
    {
     "name": "stdout",
     "output_type": "stream",
     "text": [
      "Validation Dice Score\n",
      "Class 0: 0.9872, Class 1: 0.7159, Class 2: 0.1664, Class 3: 0.4479, Class 4: 0.6881, Class 5: 0.4329, Class 6: 0.8717, \n",
      "Validation F-beta Score\n",
      "Class 0: 0.9819, Class 1: 0.8677, Class 2: 0.2152, Class 3: 0.5129, Class 4: 0.8293, Class 5: 0.5277, Class 6: 0.9593, \n",
      "\n",
      "Overall Mean Dice Score: 0.6313\n",
      "Overall Mean F-beta Score: 0.7394\n",
      "\n",
      "Training Loss: 0.4128, Validation Loss: 0.3729, Validation F-beta: 0.7394\n",
      "Epoch 34/4000\n"
     ]
    },
    {
     "name": "stderr",
     "output_type": "stream",
     "text": [
      "Training: 100%|██████████| 96/96 [01:25<00:00,  1.12it/s, loss=0.395]\n",
      "Validation: 100%|██████████| 1/1 [00:00<00:00,  1.67it/s, loss=0.362]\n"
     ]
    },
    {
     "name": "stdout",
     "output_type": "stream",
     "text": [
      "Validation Dice Score\n",
      "Class 0: 0.9905, Class 1: 0.7669, Class 2: 0.2945, Class 3: 0.3625, Class 4: 0.7913, Class 5: 0.4710, Class 6: 0.8355, \n",
      "Validation F-beta Score\n",
      "Class 0: 0.9866, Class 1: 0.8458, Class 2: 0.2832, Class 3: 0.6070, Class 4: 0.8822, Class 5: 0.5834, Class 6: 0.9302, \n",
      "\n",
      "Overall Mean Dice Score: 0.6454\n",
      "Overall Mean F-beta Score: 0.7697\n",
      "\n",
      "Training Loss: 0.4089, Validation Loss: 0.3618, Validation F-beta: 0.7697\n",
      "Epoch 35/4000\n"
     ]
    },
    {
     "name": "stderr",
     "output_type": "stream",
     "text": [
      "Training: 100%|██████████| 96/96 [01:25<00:00,  1.12it/s, loss=0.389]\n",
      "Validation: 100%|██████████| 1/1 [00:00<00:00,  1.66it/s, loss=0.401]\n"
     ]
    },
    {
     "name": "stdout",
     "output_type": "stream",
     "text": [
      "Validation Dice Score\n",
      "Class 0: 0.9899, Class 1: 0.7148, Class 2: 0.3358, Class 3: 0.2458, Class 4: 0.6464, Class 5: 0.4655, Class 6: 0.8491, \n",
      "Validation F-beta Score\n",
      "Class 0: 0.9863, Class 1: 0.8639, Class 2: 0.4054, Class 3: 0.3601, Class 4: 0.7282, Class 5: 0.5773, Class 6: 0.9123, \n",
      "\n",
      "Overall Mean Dice Score: 0.5843\n",
      "Overall Mean F-beta Score: 0.6883\n",
      "\n",
      "Training Loss: 0.4097, Validation Loss: 0.4006, Validation F-beta: 0.6883\n",
      "Epoch 36/4000\n"
     ]
    },
    {
     "name": "stderr",
     "output_type": "stream",
     "text": [
      "Training: 100%|██████████| 96/96 [01:33<00:00,  1.03it/s, loss=0.408]\n",
      "Validation: 100%|██████████| 1/1 [00:00<00:00,  1.66it/s, loss=0.4]\n"
     ]
    },
    {
     "name": "stdout",
     "output_type": "stream",
     "text": [
      "Validation Dice Score\n",
      "Class 0: 0.9881, Class 1: 0.6989, Class 2: 0.2503, Class 3: 0.4149, Class 4: 0.7318, Class 5: 0.4622, Class 6: 0.8452, \n",
      "Validation F-beta Score\n",
      "Class 0: 0.9844, Class 1: 0.7595, Class 2: 0.3432, Class 3: 0.6162, Class 4: 0.7829, Class 5: 0.5455, Class 6: 0.9714, \n",
      "\n",
      "Overall Mean Dice Score: 0.6306\n",
      "Overall Mean F-beta Score: 0.7351\n",
      "\n",
      "Training Loss: 0.4084, Validation Loss: 0.4002, Validation F-beta: 0.7351\n",
      "Epoch 37/4000\n"
     ]
    },
    {
     "name": "stderr",
     "output_type": "stream",
     "text": [
      "Training: 100%|██████████| 96/96 [01:25<00:00,  1.13it/s, loss=0.413]\n",
      "Validation: 100%|██████████| 1/1 [00:00<00:00,  1.76it/s, loss=0.413]\n"
     ]
    },
    {
     "name": "stdout",
     "output_type": "stream",
     "text": [
      "Validation Dice Score\n",
      "Class 0: 0.9885, Class 1: 0.6596, Class 2: 0.1504, Class 3: 0.3251, Class 4: 0.7363, Class 5: 0.4272, Class 6: 0.8398, \n",
      "Validation F-beta Score\n",
      "Class 0: 0.9848, Class 1: 0.8179, Class 2: 0.1989, Class 3: 0.4908, Class 4: 0.7893, Class 5: 0.5272, Class 6: 0.8724, \n",
      "\n",
      "Overall Mean Dice Score: 0.5976\n",
      "Overall Mean F-beta Score: 0.6995\n",
      "\n",
      "Training Loss: 0.4070, Validation Loss: 0.4131, Validation F-beta: 0.6995\n",
      "Epoch 38/4000\n"
     ]
    },
    {
     "name": "stderr",
     "output_type": "stream",
     "text": [
      "Training: 100%|██████████| 96/96 [01:19<00:00,  1.20it/s, loss=0.421]\n",
      "Validation: 100%|██████████| 1/1 [00:00<00:00,  1.77it/s, loss=0.375]\n"
     ]
    },
    {
     "name": "stdout",
     "output_type": "stream",
     "text": [
      "Validation Dice Score\n",
      "Class 0: 0.9888, Class 1: 0.7418, Class 2: 0.2591, Class 3: 0.3209, Class 4: 0.6847, Class 5: 0.5214, Class 6: 0.9116, \n",
      "Validation F-beta Score\n",
      "Class 0: 0.9854, Class 1: 0.8997, Class 2: 0.2687, Class 3: 0.4750, Class 4: 0.7534, Class 5: 0.5877, Class 6: 0.9727, \n",
      "\n",
      "Overall Mean Dice Score: 0.6361\n",
      "Overall Mean F-beta Score: 0.7377\n",
      "\n",
      "Training Loss: 0.4096, Validation Loss: 0.3747, Validation F-beta: 0.7377\n",
      "Epoch 39/4000\n"
     ]
    },
    {
     "name": "stderr",
     "output_type": "stream",
     "text": [
      "Training: 100%|██████████| 96/96 [01:21<00:00,  1.18it/s, loss=0.413]\n",
      "Validation: 100%|██████████| 1/1 [00:00<00:00,  1.79it/s, loss=0.383]\n"
     ]
    },
    {
     "name": "stdout",
     "output_type": "stream",
     "text": [
      "Validation Dice Score\n",
      "Class 0: 0.9871, Class 1: 0.8096, Class 2: 0.3229, Class 3: 0.3155, Class 4: 0.6740, Class 5: 0.4373, Class 6: 0.9158, \n",
      "Validation F-beta Score\n",
      "Class 0: 0.9825, Class 1: 0.8719, Class 2: 0.2959, Class 3: 0.4393, Class 4: 0.8246, Class 5: 0.4749, Class 6: 0.9747, \n",
      "\n",
      "Overall Mean Dice Score: 0.6304\n",
      "Overall Mean F-beta Score: 0.7171\n",
      "\n",
      "Training Loss: 0.4075, Validation Loss: 0.3832, Validation F-beta: 0.7171\n",
      "Epoch 40/4000\n"
     ]
    },
    {
     "name": "stderr",
     "output_type": "stream",
     "text": [
      "Training: 100%|██████████| 96/96 [01:22<00:00,  1.16it/s, loss=0.417]\n",
      "Validation: 100%|██████████| 1/1 [00:00<00:00,  1.71it/s, loss=0.377]\n"
     ]
    },
    {
     "name": "stdout",
     "output_type": "stream",
     "text": [
      "Validation Dice Score\n",
      "Class 0: 0.9894, Class 1: 0.8032, Class 2: 0.2220, Class 3: 0.3528, Class 4: 0.7249, Class 5: 0.4442, Class 6: 0.9091, \n",
      "Validation F-beta Score\n",
      "Class 0: 0.9844, Class 1: 0.8823, Class 2: 0.2843, Class 3: 0.4458, Class 4: 0.8341, Class 5: 0.6082, Class 6: 0.9550, \n",
      "\n",
      "Overall Mean Dice Score: 0.6468\n",
      "Overall Mean F-beta Score: 0.7451\n",
      "\n",
      "Training Loss: 0.4066, Validation Loss: 0.3772, Validation F-beta: 0.7451\n",
      "Epoch 41/4000\n"
     ]
    },
    {
     "name": "stderr",
     "output_type": "stream",
     "text": [
      "Training: 100%|██████████| 96/96 [01:25<00:00,  1.12it/s, loss=0.38] \n",
      "Validation: 100%|██████████| 1/1 [00:00<00:00,  1.73it/s, loss=0.365]\n"
     ]
    },
    {
     "name": "stdout",
     "output_type": "stream",
     "text": [
      "Validation Dice Score\n",
      "Class 0: 0.9905, Class 1: 0.7446, Class 2: 0.2805, Class 3: 0.4013, Class 4: 0.7743, Class 5: 0.4441, Class 6: 0.9062, \n",
      "Validation F-beta Score\n",
      "Class 0: 0.9872, Class 1: 0.8785, Class 2: 0.3175, Class 3: 0.5587, Class 4: 0.8154, Class 5: 0.5721, Class 6: 0.9515, \n",
      "\n",
      "Overall Mean Dice Score: 0.6541\n",
      "Overall Mean F-beta Score: 0.7552\n",
      "\n",
      "Training Loss: 0.4070, Validation Loss: 0.3649, Validation F-beta: 0.7552\n",
      "Epoch 42/4000\n"
     ]
    },
    {
     "name": "stderr",
     "output_type": "stream",
     "text": [
      "Training: 100%|██████████| 96/96 [01:23<00:00,  1.15it/s, loss=0.41] \n",
      "Validation: 100%|██████████| 1/1 [00:00<00:00,  1.74it/s, loss=0.377]\n"
     ]
    },
    {
     "name": "stdout",
     "output_type": "stream",
     "text": [
      "Validation Dice Score\n",
      "Class 0: 0.9908, Class 1: 0.7523, Class 2: 0.1670, Class 3: 0.4403, Class 4: 0.7586, Class 5: 0.4785, Class 6: 0.9066, \n",
      "Validation F-beta Score\n",
      "Class 0: 0.9872, Class 1: 0.9110, Class 2: 0.2415, Class 3: 0.6454, Class 4: 0.8261, Class 5: 0.5796, Class 6: 0.9797, \n",
      "\n",
      "Overall Mean Dice Score: 0.6673\n",
      "Overall Mean F-beta Score: 0.7883\n",
      "\n",
      "Training Loss: 0.4029, Validation Loss: 0.3768, Validation F-beta: 0.7883\n",
      "Epoch 43/4000\n"
     ]
    },
    {
     "name": "stderr",
     "output_type": "stream",
     "text": [
      "Training: 100%|██████████| 96/96 [01:25<00:00,  1.12it/s, loss=0.412]\n",
      "Validation: 100%|██████████| 1/1 [00:00<00:00,  1.75it/s, loss=0.409]\n"
     ]
    },
    {
     "name": "stdout",
     "output_type": "stream",
     "text": [
      "Validation Dice Score\n",
      "Class 0: 0.9884, Class 1: 0.7665, Class 2: 0.1542, Class 3: 0.3152, Class 4: 0.7362, Class 5: 0.4245, Class 6: 0.7570, \n",
      "Validation F-beta Score\n",
      "Class 0: 0.9844, Class 1: 0.8376, Class 2: 0.2005, Class 3: 0.4930, Class 4: 0.7683, Class 5: 0.5602, Class 6: 0.9468, \n",
      "\n",
      "Overall Mean Dice Score: 0.5999\n",
      "Overall Mean F-beta Score: 0.7212\n",
      "\n",
      "Training Loss: 0.4086, Validation Loss: 0.4090, Validation F-beta: 0.7212\n",
      "Epoch 44/4000\n"
     ]
    },
    {
     "name": "stderr",
     "output_type": "stream",
     "text": [
      "Training: 100%|██████████| 96/96 [01:25<00:00,  1.12it/s, loss=0.414]\n",
      "Validation: 100%|██████████| 1/1 [00:00<00:00,  1.74it/s, loss=0.382]\n"
     ]
    },
    {
     "name": "stdout",
     "output_type": "stream",
     "text": [
      "Validation Dice Score\n",
      "Class 0: 0.9872, Class 1: 0.8498, Class 2: 0.1931, Class 3: 0.3392, Class 4: 0.7351, Class 5: 0.4556, Class 6: 0.8952, \n",
      "Validation F-beta Score\n",
      "Class 0: 0.9838, Class 1: 0.8700, Class 2: 0.2512, Class 3: 0.5207, Class 4: 0.7846, Class 5: 0.5130, Class 6: 0.9491, \n",
      "\n",
      "Overall Mean Dice Score: 0.6550\n",
      "Overall Mean F-beta Score: 0.7275\n",
      "\n",
      "Training Loss: 0.4047, Validation Loss: 0.3824, Validation F-beta: 0.7275\n",
      "Epoch 45/4000\n"
     ]
    },
    {
     "name": "stderr",
     "output_type": "stream",
     "text": [
      "Training: 100%|██████████| 96/96 [01:25<00:00,  1.12it/s, loss=0.408]\n",
      "Validation: 100%|██████████| 1/1 [00:00<00:00,  1.69it/s, loss=0.384]\n"
     ]
    },
    {
     "name": "stdout",
     "output_type": "stream",
     "text": [
      "Validation Dice Score\n",
      "Class 0: 0.9877, Class 1: 0.7149, Class 2: 0.1224, Class 3: 0.2176, Class 4: 0.6971, Class 5: 0.4567, Class 6: 0.9025, \n",
      "Validation F-beta Score\n",
      "Class 0: 0.9842, Class 1: 0.8414, Class 2: 0.1281, Class 3: 0.2844, Class 4: 0.7649, Class 5: 0.5222, Class 6: 0.9632, \n",
      "\n",
      "Overall Mean Dice Score: 0.5978\n",
      "Overall Mean F-beta Score: 0.6752\n",
      "\n",
      "Training Loss: 0.4040, Validation Loss: 0.3837, Validation F-beta: 0.6752\n",
      "Epoch 46/4000\n"
     ]
    },
    {
     "name": "stderr",
     "output_type": "stream",
     "text": [
      "Training: 100%|██████████| 96/96 [01:23<00:00,  1.14it/s, loss=0.417]\n",
      "Validation: 100%|██████████| 1/1 [00:00<00:00,  1.80it/s, loss=0.386]\n"
     ]
    },
    {
     "name": "stdout",
     "output_type": "stream",
     "text": [
      "Validation Dice Score\n",
      "Class 0: 0.9883, Class 1: 0.7728, Class 2: 0.2448, Class 3: 0.2613, Class 4: 0.7225, Class 5: 0.3774, Class 6: 0.8458, \n",
      "Validation F-beta Score\n",
      "Class 0: 0.9838, Class 1: 0.8625, Class 2: 0.2670, Class 3: 0.3605, Class 4: 0.8065, Class 5: 0.5063, Class 6: 0.9397, \n",
      "\n",
      "Overall Mean Dice Score: 0.5960\n",
      "Overall Mean F-beta Score: 0.6951\n",
      "\n",
      "Training Loss: 0.4051, Validation Loss: 0.3864, Validation F-beta: 0.6951\n",
      "Epoch 47/4000\n"
     ]
    },
    {
     "name": "stderr",
     "output_type": "stream",
     "text": [
      "Training: 100%|██████████| 96/96 [01:22<00:00,  1.16it/s, loss=0.422]\n",
      "Validation: 100%|██████████| 1/1 [00:00<00:00,  1.76it/s, loss=0.386]\n"
     ]
    },
    {
     "name": "stdout",
     "output_type": "stream",
     "text": [
      "Validation Dice Score\n",
      "Class 0: 0.9884, Class 1: 0.7279, Class 2: 0.2304, Class 3: 0.3369, Class 4: 0.6078, Class 5: 0.4451, Class 6: 0.8638, \n",
      "Validation F-beta Score\n",
      "Class 0: 0.9832, Class 1: 0.8784, Class 2: 0.2741, Class 3: 0.4377, Class 4: 0.7481, Class 5: 0.5711, Class 6: 0.9581, \n",
      "\n",
      "Overall Mean Dice Score: 0.5963\n",
      "Overall Mean F-beta Score: 0.7187\n",
      "\n",
      "Training Loss: 0.4074, Validation Loss: 0.3857, Validation F-beta: 0.7187\n",
      "Epoch 48/4000\n"
     ]
    },
    {
     "name": "stderr",
     "output_type": "stream",
     "text": [
      "Training: 100%|██████████| 96/96 [01:24<00:00,  1.13it/s, loss=0.423]\n",
      "Validation: 100%|██████████| 1/1 [00:00<00:00,  1.71it/s, loss=0.398]\n"
     ]
    },
    {
     "name": "stdout",
     "output_type": "stream",
     "text": [
      "Validation Dice Score\n",
      "Class 0: 0.9898, Class 1: 0.6665, Class 2: 0.1753, Class 3: 0.3600, Class 4: 0.7392, Class 5: 0.4222, Class 6: 0.9014, \n",
      "Validation F-beta Score\n",
      "Class 0: 0.9855, Class 1: 0.8844, Class 2: 0.2884, Class 3: 0.5932, Class 4: 0.8079, Class 5: 0.5653, Class 6: 0.9407, \n",
      "\n",
      "Overall Mean Dice Score: 0.6178\n",
      "Overall Mean F-beta Score: 0.7583\n",
      "\n",
      "Training Loss: 0.4058, Validation Loss: 0.3976, Validation F-beta: 0.7583\n",
      "Epoch 49/4000\n"
     ]
    },
    {
     "name": "stderr",
     "output_type": "stream",
     "text": [
      "Training: 100%|██████████| 96/96 [01:25<00:00,  1.12it/s, loss=0.414]\n",
      "Validation: 100%|██████████| 1/1 [00:00<00:00,  1.67it/s, loss=0.381]\n"
     ]
    },
    {
     "name": "stdout",
     "output_type": "stream",
     "text": [
      "Validation Dice Score\n",
      "Class 0: 0.9885, Class 1: 0.7568, Class 2: 0.2468, Class 3: 0.3551, Class 4: 0.6445, Class 5: 0.5211, Class 6: 0.8986, \n",
      "Validation F-beta Score\n",
      "Class 0: 0.9833, Class 1: 0.8980, Class 2: 0.3789, Class 3: 0.5278, Class 4: 0.7855, Class 5: 0.6148, Class 6: 0.9616, \n",
      "\n",
      "Overall Mean Dice Score: 0.6352\n",
      "Overall Mean F-beta Score: 0.7575\n",
      "\n",
      "Training Loss: 0.4053, Validation Loss: 0.3814, Validation F-beta: 0.7575\n",
      "Epoch 50/4000\n"
     ]
    },
    {
     "name": "stderr",
     "output_type": "stream",
     "text": [
      "Training: 100%|██████████| 96/96 [01:23<00:00,  1.14it/s, loss=0.394]\n",
      "Validation: 100%|██████████| 1/1 [00:00<00:00,  1.72it/s, loss=0.385]\n"
     ]
    },
    {
     "name": "stdout",
     "output_type": "stream",
     "text": [
      "Validation Dice Score\n",
      "Class 0: 0.9888, Class 1: 0.8395, Class 2: 0.0000, Class 3: 0.2561, Class 4: 0.7306, Class 5: 0.3723, Class 6: 0.9152, \n",
      "Validation F-beta Score\n",
      "Class 0: 0.9840, Class 1: 0.8521, Class 2: 0.0000, Class 3: 0.5353, Class 4: 0.8050, Class 5: 0.5031, Class 6: 0.9623, \n",
      "\n",
      "Overall Mean Dice Score: 0.6228\n",
      "Overall Mean F-beta Score: 0.7316\n",
      "\n",
      "Training Loss: 0.4033, Validation Loss: 0.3853, Validation F-beta: 0.7316\n",
      "Epoch 51/4000\n"
     ]
    },
    {
     "name": "stderr",
     "output_type": "stream",
     "text": [
      "Training: 100%|██████████| 96/96 [01:26<00:00,  1.11it/s, loss=0.403]\n",
      "Validation: 100%|██████████| 1/1 [00:00<00:00,  1.71it/s, loss=0.398]\n"
     ]
    },
    {
     "name": "stdout",
     "output_type": "stream",
     "text": [
      "Validation Dice Score\n",
      "Class 0: 0.9911, Class 1: 0.7854, Class 2: 0.2606, Class 3: 0.3946, Class 4: 0.7459, Class 5: 0.3515, Class 6: 0.9191, \n",
      "Validation F-beta Score\n",
      "Class 0: 0.9869, Class 1: 0.8399, Class 2: 0.3158, Class 3: 0.5889, Class 4: 0.8196, Class 5: 0.5579, Class 6: 0.9646, \n",
      "\n",
      "Overall Mean Dice Score: 0.6393\n",
      "Overall Mean F-beta Score: 0.7542\n",
      "\n",
      "Training Loss: 0.4041, Validation Loss: 0.3980, Validation F-beta: 0.7542\n",
      "Epoch 52/4000\n"
     ]
    },
    {
     "name": "stderr",
     "output_type": "stream",
     "text": [
      "Training: 100%|██████████| 96/96 [01:24<00:00,  1.14it/s, loss=0.389]\n",
      "Validation: 100%|██████████| 1/1 [00:00<00:00,  1.74it/s, loss=0.385]"
     ]
    },
    {
     "name": "stdout",
     "output_type": "stream",
     "text": [
      "Validation Dice Score\n",
      "Class 0: 0.9889, Class 1: 0.7172, Class 2: 0.1463, Class 3: 0.2219, Class 4: 0.7314, Class 5: 0.5195, Class 6: 0.9163, \n",
      "Validation F-beta Score\n",
      "Class 0: 0.9845, Class 1: 0.8499, Class 2: 0.2037, Class 3: 0.3340, Class 4: 0.7941, Class 5: 0.6513, Class 6: 0.9741, \n",
      "\n",
      "Overall Mean Dice Score: 0.6213\n",
      "Overall Mean F-beta Score: 0.7207\n",
      "\n",
      "Training Loss: 0.4039, Validation Loss: 0.3846, Validation F-beta: 0.7207\n",
      "Early stopping\n"
     ]
    },
    {
     "name": "stderr",
     "output_type": "stream",
     "text": [
      "\n"
     ]
    },
    {
     "data": {
      "text/html": [],
      "text/plain": [
       "<IPython.core.display.HTML object>"
      ]
     },
     "metadata": {},
     "output_type": "display_data"
    },
    {
     "data": {
      "text/html": [
       "<br>    <style><br>        .wandb-row {<br>            display: flex;<br>            flex-direction: row;<br>            flex-wrap: wrap;<br>            justify-content: flex-start;<br>            width: 100%;<br>        }<br>        .wandb-col {<br>            display: flex;<br>            flex-direction: column;<br>            flex-basis: 100%;<br>            flex: 1;<br>            padding: 10px;<br>        }<br>    </style><br><div class=\"wandb-row\"><div class=\"wandb-col\"><h3>Run history:</h3><br/><table class=\"wandb\"><tr><td>class_0_dice_score</td><td>▁▇▆▃▃▄▁▅▇▇▃▁▂▃▃▆▄▄█▄</td></tr><tr><td>class_0_f_beta_score</td><td>▁▇▇▄▅▆▂▄██▄▄▄▃▃▆▃▄█▄</td></tr><tr><td>class_1_dice_score</td><td>▃▅▃▂▁▄▇▆▄▄▅█▃▅▄▁▅█▆▃</td></tr><tr><td>class_1_f_beta_score</td><td>▆▅▆▁▄▇▆▇▆█▅▆▅▆▆▇▇▅▅▅</td></tr><tr><td>class_2_dice_score</td><td>▄▇█▆▄▆█▆▇▄▄▅▄▆▆▅▆▁▆▄</td></tr><tr><td>class_2_f_beta_score</td><td>▅▆█▇▄▆▆▆▆▅▄▅▃▆▆▆█▁▆▅</td></tr><tr><td>class_3_dice_score</td><td>█▅▂▇▄▄▄▅▇█▄▅▁▂▅▅▅▂▆▁</td></tr><tr><td>class_3_f_beta_score</td><td>▅▇▂▇▅▅▄▄▆█▅▆▁▂▄▇▆▆▇▂</td></tr><tr><td>class_4_dice_score</td><td>▄█▂▆▆▄▄▅▇▇▆▆▄▅▁▆▂▆▆▆</td></tr><tr><td>class_4_f_beta_score</td><td>▆█▁▃▄▂▅▆▅▅▃▄▃▅▂▅▄▄▅▄</td></tr><tr><td>class_5_dice_score</td><td>▄▆▆▆▄█▅▅▅▆▄▅▅▂▅▄█▂▁█</td></tr><tr><td>class_5_f_beta_score</td><td>▃▅▅▄▃▅▁▆▅▅▄▃▃▂▅▅▇▂▄█</td></tr><tr><td>class_6_dice_score</td><td>▆▄▅▅▅███▇▇▁▇▇▅▆▇▇███</td></tr><tr><td>class_6_f_beta_score</td><td>▇▅▄▇▁██▆▆█▆▆▇▅▇▅▇▇▇█</td></tr><tr><td>epoch</td><td>▁▁▁▁▂▂▂▂▂▂▃▃▃▃▃▄▄▄▄▄▅▅▅▅▅▆▆▆▆▆▆▆▇▇▇█████</td></tr><tr><td>overall_mean_dice_score</td><td>▅▆▁▅▂▅▅▆▇█▂▇▂▂▂▄▅▄▆▄</td></tr><tr><td>overall_mean_f_beta_score</td><td>▅▇▂▅▃▅▄▅▆█▄▄▁▂▄▆▆▄▆▄</td></tr><tr><td>train_epoch_loss</td><td>█▅▆▅▄▆▄▄▄▁▅▂▂▃▄▃▃▁▂▂</td></tr><tr><td>val_epoch_loss</td><td>▃▁▆▆█▃▄▃▁▃▇▄▄▄▄▆▄▄▆▄</td></tr></table><br/></div><div class=\"wandb-col\"><h3>Run summary:</h3><br/><table class=\"wandb\"><tr><td>class_0_dice_score</td><td>0.98888</td></tr><tr><td>class_0_f_beta_score</td><td>0.98445</td></tr><tr><td>class_1_dice_score</td><td>0.71721</td></tr><tr><td>class_1_f_beta_score</td><td>0.84993</td></tr><tr><td>class_2_dice_score</td><td>0.14635</td></tr><tr><td>class_2_f_beta_score</td><td>0.20374</td></tr><tr><td>class_3_dice_score</td><td>0.22187</td></tr><tr><td>class_3_f_beta_score</td><td>0.33405</td></tr><tr><td>class_4_dice_score</td><td>0.73143</td></tr><tr><td>class_4_f_beta_score</td><td>0.79412</td></tr><tr><td>class_5_dice_score</td><td>0.51951</td></tr><tr><td>class_5_f_beta_score</td><td>0.65133</td></tr><tr><td>class_6_dice_score</td><td>0.91629</td></tr><tr><td>class_6_f_beta_score</td><td>0.9741</td></tr><tr><td>epoch</td><td>52</td></tr><tr><td>overall_mean_dice_score</td><td>0.62126</td></tr><tr><td>overall_mean_f_beta_score</td><td>0.72071</td></tr><tr><td>train_epoch_loss</td><td>0.40387</td></tr><tr><td>val_epoch_loss</td><td>0.38456</td></tr></table><br/></div></div>"
      ],
      "text/plain": [
       "<IPython.core.display.HTML object>"
      ]
     },
     "metadata": {},
     "output_type": "display_data"
    },
    {
     "data": {
      "text/html": [
       " View run <strong style=\"color:#cdcd00\">UNET_randGaus_511_241_noclswt_f48_d96s96_numb2_lr1e-03_a0.52_b0.48_b16_r4_ce0.4_ac1</strong> at: <a href='https://wandb.ai/limbw/czii_UNet/runs/79wwzw0x' target=\"_blank\">https://wandb.ai/limbw/czii_UNet/runs/79wwzw0x</a><br> View project at: <a href='https://wandb.ai/limbw/czii_UNet' target=\"_blank\">https://wandb.ai/limbw/czii_UNet</a><br>Synced 5 W&B file(s), 0 media file(s), 0 artifact file(s) and 0 other file(s)"
      ],
      "text/plain": [
       "<IPython.core.display.HTML object>"
      ]
     },
     "metadata": {},
     "output_type": "display_data"
    },
    {
     "data": {
      "text/html": [
       "Find logs at: <code>.\\wandb\\run-20250117_213402-79wwzw0x\\logs</code>"
      ],
      "text/plain": [
       "<IPython.core.display.HTML object>"
      ]
     },
     "metadata": {},
     "output_type": "display_data"
    }
   ],
   "source": [
    "train_model(\n",
    "    model=model,\n",
    "    train_loader=train_loader,\n",
    "    val_loader=val_loader,\n",
    "    criterion=criterion,\n",
    "    optimizer=optimizer,\n",
    "    num_epochs=num_epochs,\n",
    "    patience=10,\n",
    "    device=device,\n",
    "    start_epoch=start_epoch,\n",
    "    best_val_loss=best_val_loss,\n",
    "    best_val_fbeta_score=best_val_fbeta_score,\n",
    "    calculate_dice_interval=1,\n",
    "    accumulation_steps = accumulation_steps,\n",
    "    pretrained=False,\n",
    "    ) "
   ]
  },
  {
   "cell_type": "code",
   "execution_count": 17,
   "metadata": {},
   "outputs": [
    {
     "ename": "SyntaxError",
     "evalue": "invalid syntax (879943805.py, line 1)",
     "output_type": "error",
     "traceback": [
      "\u001b[1;36m  Cell \u001b[1;32mIn[17], line 1\u001b[1;36m\u001b[0m\n\u001b[1;33m    if:\u001b[0m\n\u001b[1;37m      ^\u001b[0m\n\u001b[1;31mSyntaxError\u001b[0m\u001b[1;31m:\u001b[0m invalid syntax\n"
     ]
    }
   ],
   "source": [
    "if:"
   ]
  },
  {
   "cell_type": "markdown",
   "metadata": {},
   "source": [
    "# VAl"
   ]
  },
  {
   "cell_type": "code",
   "execution_count": null,
   "metadata": {},
   "outputs": [
    {
     "data": {
      "text/html": [
       "Finishing last run (ID:fs6utwyo) before initializing another..."
      ],
      "text/plain": [
       "<IPython.core.display.HTML object>"
      ]
     },
     "metadata": {},
     "output_type": "display_data"
    },
    {
     "data": {
      "application/vnd.jupyter.widget-view+json": {
       "model_id": "29cc3ae761af43baae5aca60b5d2e7f4",
       "version_major": 2,
       "version_minor": 0
      },
      "text/plain": [
       "VBox(children=(Label(value='0.009 MB of 0.009 MB uploaded\\r'), FloatProgress(value=1.0, max=1.0)))"
      ]
     },
     "metadata": {},
     "output_type": "display_data"
    },
    {
     "data": {
      "text/html": [
       "<style>\n",
       "    table.wandb td:nth-child(1) { padding: 0 10px; text-align: left ; width: auto;} td:nth-child(2) {text-align: left ; width: 100%}\n",
       "    .wandb-row { display: flex; flex-direction: row; flex-wrap: wrap; justify-content: flex-start; width: 100% }\n",
       "    .wandb-col { display: flex; flex-direction: column; flex-basis: 100%; flex: 1; padding: 10px; }\n",
       "    </style>\n",
       "<div class=\"wandb-row\"><div class=\"wandb-col\"><h3>Run history:</h3><br/><table class=\"wandb\"><tr><td>class_0_dice_score</td><td>▁</td></tr><tr><td>class_0_f_beta_score</td><td>▁</td></tr><tr><td>class_1_dice_score</td><td>▁</td></tr><tr><td>class_1_f_beta_score</td><td>▁</td></tr><tr><td>class_2_dice_score</td><td>▁</td></tr><tr><td>class_2_f_beta_score</td><td>▁</td></tr><tr><td>class_3_dice_score</td><td>▁</td></tr><tr><td>class_3_f_beta_score</td><td>▁</td></tr><tr><td>class_4_dice_score</td><td>▁</td></tr><tr><td>class_4_f_beta_score</td><td>▁</td></tr><tr><td>class_5_dice_score</td><td>▁</td></tr><tr><td>class_5_f_beta_score</td><td>▁</td></tr><tr><td>class_6_dice_score</td><td>▁</td></tr><tr><td>class_6_f_beta_score</td><td>▁</td></tr><tr><td>epoch</td><td>▁▁▁▁▁▁▁▁▁▁▁▁▁▁▁▁</td></tr><tr><td>overall_mean_dice_score</td><td>▁</td></tr><tr><td>overall_mean_f_beta_score</td><td>▁</td></tr><tr><td>val_epoch_loss</td><td>▁</td></tr></table><br/></div><div class=\"wandb-col\"><h3>Run summary:</h3><br/><table class=\"wandb\"><tr><td>class_0_dice_score</td><td>0.65703</td></tr><tr><td>class_0_f_beta_score</td><td>0.50748</td></tr><tr><td>class_1_dice_score</td><td>0.53332</td></tr><tr><td>class_1_f_beta_score</td><td>0.64703</td></tr><tr><td>class_2_dice_score</td><td>0.00286</td></tr><tr><td>class_2_f_beta_score</td><td>0.02334</td></tr><tr><td>class_3_dice_score</td><td>0.23703</td></tr><tr><td>class_3_f_beta_score</td><td>0.23033</td></tr><tr><td>class_4_dice_score</td><td>0.65487</td></tr><tr><td>class_4_f_beta_score</td><td>0.62525</td></tr><tr><td>class_5_dice_score</td><td>0.47899</td></tr><tr><td>class_5_f_beta_score</td><td>0.51448</td></tr><tr><td>class_6_dice_score</td><td>0.42545</td></tr><tr><td>class_6_f_beta_score</td><td>0.47197</td></tr><tr><td>epoch</td><td>1</td></tr><tr><td>overall_mean_dice_score</td><td>0.42708</td></tr><tr><td>overall_mean_f_beta_score</td><td>0.43141</td></tr><tr><td>val_epoch_loss</td><td>0.7152</td></tr></table><br/></div></div>"
      ],
      "text/plain": [
       "<IPython.core.display.HTML object>"
      ]
     },
     "metadata": {},
     "output_type": "display_data"
    },
    {
     "data": {
      "text/html": [
       " View run <strong style=\"color:#cdcd00\">SwinUNETR96_96_lr0.001_lambda0.52_batch2</strong> at: <a href='https://wandb.ai/waooang/czii_SwinUnetR_val/runs/fs6utwyo' target=\"_blank\">https://wandb.ai/waooang/czii_SwinUnetR_val/runs/fs6utwyo</a><br/> View project at: <a href='https://wandb.ai/waooang/czii_SwinUnetR_val' target=\"_blank\">https://wandb.ai/waooang/czii_SwinUnetR_val</a><br/>Synced 4 W&B file(s), 0 media file(s), 3 artifact file(s) and 0 other file(s)"
      ],
      "text/plain": [
       "<IPython.core.display.HTML object>"
      ]
     },
     "metadata": {},
     "output_type": "display_data"
    },
    {
     "data": {
      "text/html": [
       "Find logs at: <code>.\\wandb\\run-20241219_200219-fs6utwyo\\logs</code>"
      ],
      "text/plain": [
       "<IPython.core.display.HTML object>"
      ]
     },
     "metadata": {},
     "output_type": "display_data"
    },
    {
     "data": {
      "text/html": [
       "Successfully finished last run (ID:fs6utwyo). Initializing new run:<br/>"
      ],
      "text/plain": [
       "<IPython.core.display.HTML object>"
      ]
     },
     "metadata": {},
     "output_type": "display_data"
    },
    {
     "data": {
      "text/html": [
       "Tracking run with wandb version 0.18.3"
      ],
      "text/plain": [
       "<IPython.core.display.HTML object>"
      ]
     },
     "metadata": {},
     "output_type": "display_data"
    },
    {
     "data": {
      "text/html": [
       "Run data is saved locally in <code>e:\\Workspace\\czll\\wandb\\run-20241219_200454-121l7bn3</code>"
      ],
      "text/plain": [
       "<IPython.core.display.HTML object>"
      ]
     },
     "metadata": {},
     "output_type": "display_data"
    },
    {
     "data": {
      "text/html": [
       "Syncing run <strong><a href='https://wandb.ai/waooang/czii_SwinUnetR_val/runs/121l7bn3' target=\"_blank\">SwinUNETR96_96_lr0.001_lambda0.52_batch2</a></strong> to <a href='https://wandb.ai/waooang/czii_SwinUnetR_val' target=\"_blank\">Weights & Biases</a> (<a href='https://wandb.me/run' target=\"_blank\">docs</a>)<br/>"
      ],
      "text/plain": [
       "<IPython.core.display.HTML object>"
      ]
     },
     "metadata": {},
     "output_type": "display_data"
    },
    {
     "data": {
      "text/html": [
       " View project at <a href='https://wandb.ai/waooang/czii_SwinUnetR_val' target=\"_blank\">https://wandb.ai/waooang/czii_SwinUnetR_val</a>"
      ],
      "text/plain": [
       "<IPython.core.display.HTML object>"
      ]
     },
     "metadata": {},
     "output_type": "display_data"
    },
    {
     "data": {
      "text/html": [
       " View run at <a href='https://wandb.ai/waooang/czii_SwinUnetR_val/runs/121l7bn3' target=\"_blank\">https://wandb.ai/waooang/czii_SwinUnetR_val/runs/121l7bn3</a>"
      ],
      "text/plain": [
       "<IPython.core.display.HTML object>"
      ]
     },
     "metadata": {},
     "output_type": "display_data"
    },
    {
     "name": "stderr",
     "output_type": "stream",
     "text": [
      "Loading dataset: 100%|██████████| 4/4 [00:06<00:00,  1.58s/it]\n",
      "C:\\Users\\Seungwoo\\AppData\\Local\\Temp\\ipykernel_21000\\1177025787.py:95: FutureWarning: You are using `torch.load` with `weights_only=False` (the current default value), which uses the default pickle module implicitly. It is possible to construct malicious pickle data which will execute arbitrary code during unpickling (See https://github.com/pytorch/pytorch/blob/main/SECURITY.md#untrusted-models for more details). In a future release, the default value for `weights_only` will be flipped to `True`. This limits the functions that could be executed during unpickling. Arbitrary objects will no longer be allowed to be loaded via this mode unless they are explicitly allowlisted by the user via `torch.serialization.add_safe_globals`. We recommend you start setting `weights_only=True` for any use case where you don't have full control of the loaded file. Please open an issue on GitHub for any issues related to this experimental feature.\n",
      "  checkpoint = torch.load(pretrain_path, map_location=device)\n",
      "Validation: 100%|██████████| 4/4 [00:01<00:00,  2.38it/s, loss=0.865]"
     ]
    },
    {
     "name": "stdout",
     "output_type": "stream",
     "text": [
      "Validation Dice Score\n",
      "Class 0: 0.6570, Class 1: 0.5333, Class 2: 0.0029, Class 3: 0.2370, \n",
      "Class 4: 0.6549, Class 5: 0.4790, Class 6: 0.4255, \n",
      "Validation F-beta Score\n",
      "Class 0: 0.5075, Class 1: 0.6470, Class 2: 0.0233, Class 3: 0.2303, \n",
      "Class 4: 0.6252, Class 5: 0.5145, Class 6: 0.4720, \n",
      "Overall Mean Dice Score: 0.4659\n",
      "Overall Mean F-beta Score: 0.4978\n",
      "\n"
     ]
    },
    {
     "name": "stderr",
     "output_type": "stream",
     "text": [
      "\n"
     ]
    },
    {
     "ename": "",
     "evalue": "",
     "output_type": "error",
     "traceback": [
      "\u001b[1;31mnotebook controller is DISPOSED. \n",
      "\u001b[1;31m자세한 내용은 Jupyter <a href='command:jupyter.viewOutput'>로그</a>를 참조하세요."
     ]
    },
    {
     "ename": "",
     "evalue": "",
     "output_type": "error",
     "traceback": [
      "\u001b[1;31mnotebook controller is DISPOSED. \n",
      "\u001b[1;31m자세한 내용은 Jupyter <a href='command:jupyter.viewOutput'>로그</a>를 참조하세요."
     ]
    }
   ],
   "source": [
    "from monai.data import DataLoader, Dataset, CacheDataset\n",
    "from monai.transforms import (\n",
    "    Compose, LoadImaged, EnsureChannelFirstd, NormalizeIntensityd,\n",
    "    Orientationd, CropForegroundd, GaussianSmoothd, ScaleIntensityd,\n",
    "    RandSpatialCropd, RandRotate90d, RandFlipd, RandGaussianNoised,\n",
    "    ToTensord, RandCropByLabelClassesd\n",
    ")\n",
    "from monai.metrics import DiceMetric\n",
    "from monai.networks.nets import UNETR, SwinUNETR\n",
    "from monai.losses import TverskyLoss\n",
    "import torch\n",
    "import numpy as np\n",
    "from tqdm import tqdm\n",
    "import wandb\n",
    "from src.dataset.dataset import make_val_dataloader\n",
    "\n",
    "val_img_dir = \"./datasets/val/images\"\n",
    "val_label_dir = \"./datasets/val/labels\"\n",
    "img_depth = 96\n",
    "img_size = 96  # Match your patch size\n",
    "n_classes = 7\n",
    "batch_size = 2 # 13.8GB GPU memory required for 128x128 img size\n",
    "num_samples = batch_size # 한 이미지에서 뽑을 샘플 수\n",
    "loader_batch = 1\n",
    "lamda = 0.52\n",
    "\n",
    "wandb.init(\n",
    "    project='czii_SwinUnetR_val',  # 프로젝트 이름 설정\n",
    "    name='SwinUNETR96_96_lr0.001_lambda0.52_batch2',         # 실행(run) 이름 설정\n",
    "    config={\n",
    "        'learning_rate': 0.001,\n",
    "        'batch_size': batch_size,\n",
    "        'lambda': lamda,\n",
    "        'img_size': img_size,\n",
    "        'device': 'cuda',\n",
    "        \"checkpoint_dir\": \"./model_checkpoints/SwinUNETR96_96_lr0.001_lambda0.52_batch2\",\n",
    "        \n",
    "    }\n",
    ")\n",
    "\n",
    "non_random_transforms = Compose([\n",
    "    EnsureChannelFirstd(keys=[\"image\", \"label\"], channel_dim=\"no_channel\"),\n",
    "    NormalizeIntensityd(keys=\"image\"),\n",
    "    Orientationd(keys=[\"image\", \"label\"], axcodes=\"RAS\"),\n",
    "    GaussianSmoothd(\n",
    "        keys=[\"image\"],      # 변환을 적용할 키\n",
    "        sigma=[1.0, 1.0, 1.0]  # 각 축(x, y, z)의 시그마 값\n",
    "        ),\n",
    "])\n",
    "random_transforms = Compose([\n",
    "    RandCropByLabelClassesd(\n",
    "        keys=[\"image\", \"label\"],\n",
    "        label_key=\"label\",\n",
    "        spatial_size=[img_depth, img_size, img_size],\n",
    "        num_classes=n_classes,\n",
    "        num_samples=num_samples, \n",
    "        ratios=ratios_list,\n",
    "    ),\n",
    "    RandRotate90d(keys=[\"image\", \"label\"], prob=0.5, spatial_axes=[1, 2]),\n",
    "    RandFlipd(keys=[\"image\", \"label\"], prob=0.5, spatial_axis=0),\n",
    "])\n",
    "\n",
    "val_loader = make_val_dataloader(\n",
    "    val_img_dir, \n",
    "    val_label_dir, \n",
    "    non_random_transforms = non_random_transforms, \n",
    "    random_transforms = random_transforms, \n",
    "    batch_size = loader_batch,\n",
    "    num_workers=0\n",
    ")\n",
    "criterion = TverskyLoss(\n",
    "    alpha= 1 - lamda,  # FP에 대한 가중치\n",
    "    beta=lamda,       # FN에 대한 가중치\n",
    "    include_background=False,  # 배경 클래스 제외\n",
    "    softmax=True\n",
    ")\n",
    "    \n",
    "    \n",
    "from monai.metrics import DiceMetric\n",
    "\n",
    "img_size = 96\n",
    "img_depth = img_size\n",
    "n_classes = 7 \n",
    "\n",
    "device = torch.device(\"cuda\" if torch.cuda.is_available() else \"cpu\")\n",
    "pretrain_path = \"./model_checkpoints/SwinUNETR96_96_lr0.001_lambda0.52_batch2/best_model.pt\"\n",
    "model = SwinUNETR(\n",
    "    img_size=(img_depth, img_size, img_size),\n",
    "    in_channels=1,\n",
    "    out_channels=n_classes,\n",
    "    feature_size=48,\n",
    "    use_checkpoint=True,\n",
    ").to(device)\n",
    "# Pretrained weights 불러오기\n",
    "checkpoint = torch.load(pretrain_path, map_location=device)\n",
    "model.load_state_dict(checkpoint['model_state_dict'])\n",
    "\n",
    "val_loss, overall_mean_fbeta_score = validate_one_epoch(\n",
    "    model=model, \n",
    "    val_loader=val_loader, \n",
    "    criterion=criterion, \n",
    "    device=device, \n",
    "    epoch=0, \n",
    "    calculate_dice_interval=1\n",
    ")"
   ]
  },
  {
   "cell_type": "markdown",
   "metadata": {},
   "source": [
    "# Inference"
   ]
  },
  {
   "cell_type": "code",
   "execution_count": null,
   "metadata": {},
   "outputs": [
    {
     "ename": "",
     "evalue": "",
     "output_type": "error",
     "traceback": [
      "\u001b[1;31mnotebook controller is DISPOSED. \n",
      "\u001b[1;31m자세한 내용은 Jupyter <a href='command:jupyter.viewOutput'>로그</a>를 참조하세요."
     ]
    },
    {
     "ename": "",
     "evalue": "",
     "output_type": "error",
     "traceback": [
      "\u001b[1;31mnotebook controller is DISPOSED. \n",
      "\u001b[1;31m자세한 내용은 Jupyter <a href='command:jupyter.viewOutput'>로그</a>를 참조하세요."
     ]
    }
   ],
   "source": [
    "from src.dataset.preprocessing import Preprocessor"
   ]
  },
  {
   "cell_type": "code",
   "execution_count": null,
   "metadata": {},
   "outputs": [
    {
     "name": "stdout",
     "output_type": "stream",
     "text": [
      "Done.\n"
     ]
    },
    {
     "ename": "",
     "evalue": "",
     "output_type": "error",
     "traceback": [
      "\u001b[1;31mnotebook controller is DISPOSED. \n",
      "\u001b[1;31m자세한 내용은 Jupyter <a href='command:jupyter.viewOutput'>로그</a>를 참조하세요."
     ]
    },
    {
     "ename": "",
     "evalue": "",
     "output_type": "error",
     "traceback": [
      "\u001b[1;31mnotebook controller is DISPOSED. \n",
      "\u001b[1;31m자세한 내용은 Jupyter <a href='command:jupyter.viewOutput'>로그</a>를 참조하세요."
     ]
    }
   ],
   "source": [
    "from monai.inferers import sliding_window_inference\n",
    "from monai.transforms import Compose, EnsureChannelFirstd, NormalizeIntensityd, Orientationd, GaussianSmoothd\n",
    "from monai.data import DataLoader, Dataset, CacheDataset\n",
    "from monai.networks.nets import SwinUNETR\n",
    "from pathlib import Path\n",
    "import numpy as np\n",
    "import copick\n",
    "\n",
    "import torch\n",
    "print(\"Done.\")"
   ]
  },
  {
   "cell_type": "code",
   "execution_count": null,
   "metadata": {},
   "outputs": [
    {
     "name": "stdout",
     "output_type": "stream",
     "text": [
      "Config file written to ./kaggle/working/copick.config\n",
      "file length: 7\n"
     ]
    },
    {
     "ename": "",
     "evalue": "",
     "output_type": "error",
     "traceback": [
      "\u001b[1;31mnotebook controller is DISPOSED. \n",
      "\u001b[1;31m자세한 내용은 Jupyter <a href='command:jupyter.viewOutput'>로그</a>를 참조하세요."
     ]
    },
    {
     "ename": "",
     "evalue": "",
     "output_type": "error",
     "traceback": [
      "\u001b[1;31mnotebook controller is DISPOSED. \n",
      "\u001b[1;31m자세한 내용은 Jupyter <a href='command:jupyter.viewOutput'>로그</a>를 참조하세요."
     ]
    }
   ],
   "source": [
    "config_blob = \"\"\"{\n",
    "    \"name\": \"czii_cryoet_mlchallenge_2024\",\n",
    "    \"description\": \"2024 CZII CryoET ML Challenge training data.\",\n",
    "    \"version\": \"1.0.0\",\n",
    "\n",
    "    \"pickable_objects\": [\n",
    "        {\n",
    "            \"name\": \"apo-ferritin\",\n",
    "            \"is_particle\": true,\n",
    "            \"pdb_id\": \"4V1W\",\n",
    "            \"label\": 1,\n",
    "            \"color\": [  0, 117, 220, 128],\n",
    "            \"radius\": 60,\n",
    "            \"map_threshold\": 0.0418\n",
    "        },\n",
    "        {\n",
    "          \"name\" : \"beta-amylase\",\n",
    "            \"is_particle\": true,\n",
    "            \"pdb_id\": \"8ZRZ\",\n",
    "            \"label\": 2,\n",
    "            \"color\": [255, 255, 255, 128],\n",
    "            \"radius\": 90,\n",
    "            \"map_threshold\": 0.0578  \n",
    "        },\n",
    "        {\n",
    "            \"name\": \"beta-galactosidase\",\n",
    "            \"is_particle\": true,\n",
    "            \"pdb_id\": \"6X1Q\",\n",
    "            \"label\": 3,\n",
    "            \"color\": [ 76,   0,  92, 128],\n",
    "            \"radius\": 90,\n",
    "            \"map_threshold\": 0.0578\n",
    "        },\n",
    "        {\n",
    "            \"name\": \"ribosome\",\n",
    "            \"is_particle\": true,\n",
    "            \"pdb_id\": \"6EK0\",\n",
    "            \"label\": 4,\n",
    "            \"color\": [  0,  92,  49, 128],\n",
    "            \"radius\": 150,\n",
    "            \"map_threshold\": 0.0374\n",
    "        },\n",
    "        {\n",
    "            \"name\": \"thyroglobulin\",\n",
    "            \"is_particle\": true,\n",
    "            \"pdb_id\": \"6SCJ\",\n",
    "            \"label\": 5,\n",
    "            \"color\": [ 43, 206,  72, 128],\n",
    "            \"radius\": 130,\n",
    "            \"map_threshold\": 0.0278\n",
    "        },\n",
    "        {\n",
    "            \"name\": \"virus-like-particle\",\n",
    "            \"is_particle\": true,\n",
    "            \"label\": 6,\n",
    "            \"color\": [255, 204, 153, 128],\n",
    "            \"radius\": 135,\n",
    "            \"map_threshold\": 0.201\n",
    "        },\n",
    "        {\n",
    "            \"name\": \"membrane\",\n",
    "            \"is_particle\": false,\n",
    "            \"label\": 8,\n",
    "            \"color\": [100, 100, 100, 128]\n",
    "        },\n",
    "        {\n",
    "            \"name\": \"background\",\n",
    "            \"is_particle\": false,\n",
    "            \"label\": 9,\n",
    "            \"color\": [10, 150, 200, 128]\n",
    "        }\n",
    "    ],\n",
    "\n",
    "    \"overlay_root\": \"./kaggle/working/overlay\",\n",
    "\n",
    "    \"overlay_fs_args\": {\n",
    "        \"auto_mkdir\": true\n",
    "    },\n",
    "\n",
    "    \"static_root\": \"./kaggle/input/czii-cryo-et-object-identification/test/static\"\n",
    "}\"\"\"\n",
    "\n",
    "copick_config_path = \"./kaggle/working/copick.config\"\n",
    "preprocessor = Preprocessor(config_blob,copick_config_path=copick_config_path)\n",
    "non_random_transforms = Compose([\n",
    "    EnsureChannelFirstd(keys=[\"image\"], channel_dim=\"no_channel\"),\n",
    "    NormalizeIntensityd(keys=\"image\"),\n",
    "    Orientationd(keys=[\"image\"], axcodes=\"RAS\"),\n",
    "    GaussianSmoothd(\n",
    "        keys=[\"image\"],      # 변환을 적용할 키\n",
    "        sigma=[1.0, 1.0, 1.0]  # 각 축(x, y, z)의 시그마 값\n",
    "        ),\n",
    "    ])"
   ]
  },
  {
   "cell_type": "code",
   "execution_count": null,
   "metadata": {},
   "outputs": [
    {
     "name": "stderr",
     "output_type": "stream",
     "text": [
      "c:\\ProgramData\\anaconda3\\envs\\ship\\Lib\\site-packages\\monai\\utils\\deprecate_utils.py:221: FutureWarning: monai.networks.nets.swin_unetr SwinUNETR.__init__:img_size: Argument `img_size` has been deprecated since version 1.3. It will be removed in version 1.5. The img_size argument is not required anymore and checks on the input size are run during forward().\n",
      "  warn_deprecated(argname, msg, warning_category)\n",
      "C:\\Users\\Seungwoo\\AppData\\Local\\Temp\\ipykernel_6248\\2937359115.py:15: FutureWarning: You are using `torch.load` with `weights_only=False` (the current default value), which uses the default pickle module implicitly. It is possible to construct malicious pickle data which will execute arbitrary code during unpickling (See https://github.com/pytorch/pytorch/blob/main/SECURITY.md#untrusted-models for more details). In a future release, the default value for `weights_only` will be flipped to `True`. This limits the functions that could be executed during unpickling. Arbitrary objects will no longer be allowed to be loaded via this mode unless they are explicitly allowlisted by the user via `torch.serialization.add_safe_globals`. We recommend you start setting `weights_only=True` for any use case where you don't have full control of the loaded file. Please open an issue on GitHub for any issues related to this experimental feature.\n",
      "  checkpoint = torch.load(pretrain_path, map_location=device)\n"
     ]
    },
    {
     "data": {
      "text/plain": [
       "<All keys matched successfully>"
      ]
     },
     "execution_count": 15,
     "metadata": {},
     "output_type": "execute_result"
    },
    {
     "ename": "",
     "evalue": "",
     "output_type": "error",
     "traceback": [
      "\u001b[1;31mnotebook controller is DISPOSED. \n",
      "\u001b[1;31m자세한 내용은 Jupyter <a href='command:jupyter.viewOutput'>로그</a>를 참조하세요."
     ]
    },
    {
     "ename": "",
     "evalue": "",
     "output_type": "error",
     "traceback": [
      "\u001b[1;31mnotebook controller is DISPOSED. \n",
      "\u001b[1;31m자세한 내용은 Jupyter <a href='command:jupyter.viewOutput'>로그</a>를 참조하세요."
     ]
    }
   ],
   "source": [
    "img_size = 96\n",
    "img_depth = img_size\n",
    "n_classes = 7 \n",
    "\n",
    "device = torch.device(\"cuda\" if torch.cuda.is_available() else \"cpu\")\n",
    "pretrain_path = \"./model_checkpoints/SwinUNETR96_96_lr0.001_lambda0.52_batch2/best_model.pt\"\n",
    "model = SwinUNETR(\n",
    "    img_size=(img_depth, img_size, img_size),\n",
    "    in_channels=1,\n",
    "    out_channels=n_classes,\n",
    "    feature_size=48,\n",
    "    use_checkpoint=True,\n",
    ").to(device)\n",
    "# Pretrained weights 불러오기\n",
    "checkpoint = torch.load(pretrain_path, map_location=device)\n",
    "model.load_state_dict(checkpoint['model_state_dict'])\n"
   ]
  },
  {
   "cell_type": "code",
   "execution_count": null,
   "metadata": {},
   "outputs": [
    {
     "name": "stderr",
     "output_type": "stream",
     "text": [
      "Validation:   0%|          | 0/4 [00:03<?, ?it/s, loss=0.764]\n"
     ]
    },
    {
     "ename": "ZeroDivisionError",
     "evalue": "integer modulo by zero",
     "output_type": "error",
     "traceback": [
      "\u001b[1;31m---------------------------------------------------------------------------\u001b[0m",
      "\u001b[1;31mZeroDivisionError\u001b[0m                         Traceback (most recent call last)",
      "Cell \u001b[1;32mIn[16], line 1\u001b[0m\n\u001b[1;32m----> 1\u001b[0m val_loss \u001b[38;5;241m=\u001b[39m \u001b[43mvalidate_one_epoch\u001b[49m\u001b[43m(\u001b[49m\n\u001b[0;32m      2\u001b[0m \u001b[43m            \u001b[49m\u001b[43mmodel\u001b[49m\u001b[38;5;241;43m=\u001b[39;49m\u001b[43mmodel\u001b[49m\u001b[43m,\u001b[49m\u001b[43m \u001b[49m\n\u001b[0;32m      3\u001b[0m \u001b[43m            \u001b[49m\u001b[43mval_loader\u001b[49m\u001b[38;5;241;43m=\u001b[39;49m\u001b[43mval_loader\u001b[49m\u001b[43m,\u001b[49m\u001b[43m \u001b[49m\n\u001b[0;32m      4\u001b[0m \u001b[43m            \u001b[49m\u001b[43mcriterion\u001b[49m\u001b[38;5;241;43m=\u001b[39;49m\u001b[43mcriterion\u001b[49m\u001b[43m,\u001b[49m\u001b[43m \u001b[49m\n\u001b[0;32m      5\u001b[0m \u001b[43m            \u001b[49m\u001b[43mdevice\u001b[49m\u001b[38;5;241;43m=\u001b[39;49m\u001b[43mdevice\u001b[49m\u001b[43m,\u001b[49m\u001b[43m \u001b[49m\n\u001b[0;32m      6\u001b[0m \u001b[43m            \u001b[49m\u001b[43mepoch\u001b[49m\u001b[38;5;241;43m=\u001b[39;49m\u001b[38;5;241;43m1\u001b[39;49m\u001b[43m,\u001b[49m\u001b[43m \u001b[49m\n\u001b[0;32m      7\u001b[0m \u001b[43m            \u001b[49m\u001b[43mcalculate_dice_interval\u001b[49m\u001b[38;5;241;43m=\u001b[39;49m\u001b[38;5;241;43m0\u001b[39;49m\n\u001b[0;32m      8\u001b[0m \u001b[43m        \u001b[49m\u001b[43m)\u001b[49m\n",
      "Cell \u001b[1;32mIn[11], line 64\u001b[0m, in \u001b[0;36mvalidate_one_epoch\u001b[1;34m(model, val_loader, criterion, device, epoch, calculate_dice_interval)\u001b[0m\n\u001b[0;32m     61\u001b[0m pbar\u001b[38;5;241m.\u001b[39mset_postfix(loss\u001b[38;5;241m=\u001b[39mloss\u001b[38;5;241m.\u001b[39mitem())\n\u001b[0;32m     63\u001b[0m \u001b[38;5;66;03m# 각 클래스별 Dice 점수 계산\u001b[39;00m\n\u001b[1;32m---> 64\u001b[0m \u001b[38;5;28;01mif\u001b[39;00m \u001b[43mepoch\u001b[49m\u001b[43m \u001b[49m\u001b[38;5;241;43m%\u001b[39;49m\u001b[43m \u001b[49m\u001b[43mcalculate_dice_interval\u001b[49m \u001b[38;5;241m==\u001b[39m \u001b[38;5;241m0\u001b[39m:\n\u001b[0;32m     65\u001b[0m     \u001b[38;5;28;01mfor\u001b[39;00m i \u001b[38;5;129;01min\u001b[39;00m \u001b[38;5;28mrange\u001b[39m(n_classes):\n\u001b[0;32m     66\u001b[0m         pred_i \u001b[38;5;241m=\u001b[39m (preds \u001b[38;5;241m==\u001b[39m i)\n",
      "\u001b[1;31mZeroDivisionError\u001b[0m: integer modulo by zero"
     ]
    },
    {
     "ename": "",
     "evalue": "",
     "output_type": "error",
     "traceback": [
      "\u001b[1;31mnotebook controller is DISPOSED. \n",
      "\u001b[1;31m자세한 내용은 Jupyter <a href='command:jupyter.viewOutput'>로그</a>를 참조하세요."
     ]
    },
    {
     "ename": "",
     "evalue": "",
     "output_type": "error",
     "traceback": [
      "\u001b[1;31mnotebook controller is DISPOSED. \n",
      "\u001b[1;31m자세한 내용은 Jupyter <a href='command:jupyter.viewOutput'>로그</a>를 참조하세요."
     ]
    }
   ],
   "source": [
    "val_loss = validate_one_epoch(\n",
    "            model=model, \n",
    "            val_loader=val_loader, \n",
    "            criterion=criterion, \n",
    "            device=device, \n",
    "            epoch=1, \n",
    "            calculate_dice_interval=0\n",
    "        )"
   ]
  },
  {
   "cell_type": "code",
   "execution_count": null,
   "metadata": {},
   "outputs": [
    {
     "name": "stdout",
     "output_type": "stream",
     "text": [
      "Processing volume 1/7\n"
     ]
    },
    {
     "name": "stderr",
     "output_type": "stream",
     "text": [
      "Loading dataset: 100%|██████████| 1/1 [00:01<00:00,  1.94s/it]\n"
     ]
    },
    {
     "name": "stdout",
     "output_type": "stream",
     "text": [
      "Processing volume 2/7\n"
     ]
    },
    {
     "name": "stderr",
     "output_type": "stream",
     "text": [
      "Loading dataset: 100%|██████████| 1/1 [00:01<00:00,  1.89s/it]\n"
     ]
    },
    {
     "name": "stdout",
     "output_type": "stream",
     "text": [
      "Processing volume 3/7\n"
     ]
    },
    {
     "name": "stderr",
     "output_type": "stream",
     "text": [
      "Loading dataset: 100%|██████████| 1/1 [00:01<00:00,  1.79s/it]\n"
     ]
    },
    {
     "name": "stdout",
     "output_type": "stream",
     "text": [
      "Submission saved to: submission.csv\n"
     ]
    },
    {
     "ename": "",
     "evalue": "",
     "output_type": "error",
     "traceback": [
      "\u001b[1;31mnotebook controller is DISPOSED. \n",
      "\u001b[1;31m자세한 내용은 Jupyter <a href='command:jupyter.viewOutput'>로그</a>를 참조하세요."
     ]
    },
    {
     "ename": "",
     "evalue": "",
     "output_type": "error",
     "traceback": [
      "\u001b[1;31mnotebook controller is DISPOSED. \n",
      "\u001b[1;31m자세한 내용은 Jupyter <a href='command:jupyter.viewOutput'>로그</a>를 참조하세요."
     ]
    }
   ],
   "source": [
    "import torch\n",
    "import numpy as np\n",
    "from scipy.ndimage import label, center_of_mass\n",
    "import pandas as pd\n",
    "from tqdm import tqdm\n",
    "from monai.data import CacheDataset, DataLoader\n",
    "from monai.transforms import Compose, NormalizeIntensity\n",
    "import cc3d\n",
    "\n",
    "def dict_to_df(coord_dict, experiment_name):\n",
    "    all_coords = []\n",
    "    all_labels = []\n",
    "    \n",
    "    for label, coords in coord_dict.items():\n",
    "        all_coords.append(coords)\n",
    "        all_labels.extend([label] * len(coords))\n",
    "    \n",
    "    all_coords = np.vstack(all_coords)\n",
    "    df = pd.DataFrame({\n",
    "        'experiment': experiment_name,\n",
    "        'particle_type': all_labels,\n",
    "        'x': all_coords[:, 0],\n",
    "        'y': all_coords[:, 1],\n",
    "        'z': all_coords[:, 2]\n",
    "    })\n",
    "    return df\n",
    "\n",
    "id_to_name = {1: \"apo-ferritin\", \n",
    "              2: \"beta-amylase\",\n",
    "              3: \"beta-galactosidase\", \n",
    "              4: \"ribosome\", \n",
    "              5: \"thyroglobulin\", \n",
    "              6: \"virus-like-particle\"}\n",
    "BLOB_THRESHOLD = 200\n",
    "CERTAINTY_THRESHOLD = 0.05\n",
    "\n",
    "classes = [1, 2, 3, 4, 5, 6]\n",
    "\n",
    "model.eval()\n",
    "with torch.no_grad():\n",
    "    location_dfs = []  # DataFrame 리스트로 초기화\n",
    "    \n",
    "    for vol_idx, run in enumerate(preprocessor.root.runs):\n",
    "        print(f\"Processing volume {vol_idx + 1}/{len(preprocessor.root.runs)}\")\n",
    "        tomogram = preprocessor.processing(run=run, task=\"task\")\n",
    "        task_files = [{\"image\": tomogram}]\n",
    "        task_ds = CacheDataset(data=task_files, transform=non_random_transforms)\n",
    "        task_loader = DataLoader(task_ds, batch_size=1, num_workers=0)\n",
    "        \n",
    "        for task_data in task_loader:\n",
    "            images = task_data['image'].to(\"cuda\")\n",
    "            outputs = sliding_window_inference(\n",
    "                inputs=images,\n",
    "                roi_size=(96, 96, 96),  # ROI 크기\n",
    "                sw_batch_size=4,\n",
    "                predictor=model.forward,\n",
    "                overlap=0.1,\n",
    "                sw_device=\"cuda\",\n",
    "                device=\"cpu\",\n",
    "                buffer_steps=1,\n",
    "                buffer_dim=-1\n",
    "            )\n",
    "            outputs = outputs.argmax(dim=1).squeeze(0).cpu().numpy()  # 클래스 채널 예측\n",
    "            location = {}  # 좌표 저장용 딕셔너리\n",
    "            for c in classes:\n",
    "                cc = cc3d.connected_components(outputs == c)  # cc3d 라벨링\n",
    "                stats = cc3d.statistics(cc)\n",
    "                zyx = stats['centroids'][1:] * 10.012444  # 스케일 변환\n",
    "                zyx_large = zyx[stats['voxel_counts'][1:] > BLOB_THRESHOLD]  # 크기 필터링\n",
    "                xyz = np.ascontiguousarray(zyx_large[:, ::-1])  # 좌표 스왑 (z, y, x -> x, y, z)\n",
    "\n",
    "                location[id_to_name[c]] = xyz  # ID 이름 매칭 저장\n",
    "\n",
    "            # 데이터프레임 변환\n",
    "            df = dict_to_df(location, run.name)\n",
    "            location_dfs.append(df)  # 리스트에 추가\n",
    "        \n",
    "        # if vol_idx == 2:\n",
    "        #     break\n",
    "    \n",
    "    # DataFrame 병합\n",
    "    final_df = pd.concat(location_dfs, ignore_index=True)\n",
    "    \n",
    "    # ID 추가 및 CSV 저장\n",
    "    final_df.insert(loc=0, column='id', value=np.arange(len(final_df)))\n",
    "    final_df.to_csv(\"submission.csv\", index=False)\n",
    "    print(\"Submission saved to: submission.csv\")\n"
   ]
  }
 ],
 "metadata": {
  "kernelspec": {
   "display_name": "UM",
   "language": "python",
   "name": "python3"
  },
  "language_info": {
   "codemirror_mode": {
    "name": "ipython",
    "version": 3
   },
   "file_extension": ".py",
   "mimetype": "text/x-python",
   "name": "python",
   "nbconvert_exporter": "python",
   "pygments_lexer": "ipython3",
   "version": "3.12.7"
  }
 },
 "nbformat": 4,
 "nbformat_minor": 2
}
