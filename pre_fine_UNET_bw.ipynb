{
 "cells": [
  {
   "cell_type": "code",
   "execution_count": 1,
   "metadata": {},
   "outputs": [
    {
     "name": "stderr",
     "output_type": "stream",
     "text": [
      "c:\\Users\\pook0\\.conda\\envs\\UM\\Lib\\site-packages\\tqdm\\auto.py:21: TqdmWarning: IProgress not found. Please update jupyter and ipywidgets. See https://ipywidgets.readthedocs.io/en/stable/user_install.html\n",
      "  from .autonotebook import tqdm as notebook_tqdm\n"
     ]
    },
    {
     "name": "stdout",
     "output_type": "stream",
     "text": [
      "MONAI version: 1.4.0\n",
      "Numpy version: 1.26.4\n",
      "Pytorch version: 2.4.1+cu121\n",
      "MONAI flags: HAS_EXT = False, USE_COMPILED = False, USE_META_DICT = False\n",
      "MONAI rev id: 46a5272196a6c2590ca2589029eed8e4d56ff008\n",
      "MONAI __file__: c:\\Users\\<username>\\.conda\\envs\\UM\\Lib\\site-packages\\monai\\__init__.py\n",
      "\n",
      "Optional dependencies:\n",
      "Pytorch Ignite version: NOT INSTALLED or UNKNOWN VERSION.\n",
      "ITK version: NOT INSTALLED or UNKNOWN VERSION.\n",
      "Nibabel version: 5.3.2\n",
      "scikit-image version: 0.24.0\n",
      "scipy version: 1.14.1\n",
      "Pillow version: 10.2.0\n",
      "Tensorboard version: 2.18.0\n",
      "gdown version: 5.2.0\n",
      "TorchVision version: 0.19.1+cu121\n",
      "tqdm version: 4.66.5\n",
      "lmdb version: NOT INSTALLED or UNKNOWN VERSION.\n",
      "psutil version: 6.0.0\n",
      "pandas version: 2.2.3\n",
      "einops version: 0.8.0\n",
      "transformers version: NOT INSTALLED or UNKNOWN VERSION.\n",
      "mlflow version: 2.17.2\n",
      "pynrrd version: NOT INSTALLED or UNKNOWN VERSION.\n",
      "clearml version: NOT INSTALLED or UNKNOWN VERSION.\n",
      "\n",
      "For details about installing the optional dependencies, please visit:\n",
      "    https://docs.monai.io/en/latest/installation.html#installing-the-recommended-dependencies\n",
      "\n"
     ]
    }
   ],
   "source": [
    "import os\n",
    "import shutil\n",
    "import tempfile\n",
    "\n",
    "import matplotlib.pyplot as plt\n",
    "from tqdm import tqdm\n",
    "\n",
    "import random\n",
    "import numpy as np\n",
    "import torch\n",
    "\n",
    "from src.models import UNet_CBAM\n",
    "\n",
    "from monai.losses import DiceCELoss\n",
    "from monai.inferers import sliding_window_inference\n",
    "from monai.transforms import (\n",
    "    AsDiscrete,\n",
    "    EnsureChannelFirstd,\n",
    "    Compose,\n",
    "    CropForegroundd,\n",
    "    LoadImaged,\n",
    "    Orientationd,\n",
    "    RandFlipd,\n",
    "    RandCropByPosNegLabeld,\n",
    "    RandShiftIntensityd,\n",
    "    ScaleIntensityRanged,\n",
    "    Spacingd,\n",
    "    RandRotate90d,\n",
    ")\n",
    "\n",
    "from monai.networks.layers.factories import Act, Norm\n",
    "\n",
    "from monai.config import print_config\n",
    "from monai.metrics import DiceMetric\n",
    "# from src.models.swincspunetr import SwinCSPUNETR\n",
    "# from src.models.swincspunetr_unet import SwinCSPUNETR_unet\n",
    "# from src.models.swincspunetr3plus import SwinCSPUNETR3plus\n",
    "\n",
    "from monai.data import (\n",
    "    DataLoader,\n",
    "    CacheDataset,\n",
    "    load_decathlon_datalist,\n",
    "    decollate_batch,\n",
    ")\n",
    "\n",
    "# 랜덤 시드 고정\n",
    "def set_seed(seed):\n",
    "    random.seed(seed)\n",
    "    np.random.seed(seed)\n",
    "    torch.manual_seed(seed)\n",
    "    if torch.cuda.is_available():\n",
    "        torch.cuda.manual_seed_all(seed)\n",
    "\n",
    "set_seed(42)\n",
    "\n",
    "\n",
    "print_config()"
   ]
  },
  {
   "cell_type": "code",
   "execution_count": 2,
   "metadata": {},
   "outputs": [
    {
     "name": "stdout",
     "output_type": "stream",
     "text": [
      "클래스 비율: {0: 0.0, 1: 0.16393442622950818, 2: 0.01639344262295082, 3: 0.2459016393442623, 4: 0.16393442622950818, 5: 0.2459016393442623, 6: 0.16393442622950818}\n",
      "최종 합계: 1.0\n",
      "클래스 비율 리스트: [0.0, 0.16393442622950818, 0.01639344262295082, 0.2459016393442623, 0.16393442622950818, 0.2459016393442623, 0.16393442622950818]\n"
     ]
    }
   ],
   "source": [
    "class_info = {\n",
    "    0: {\"name\": \"background\", \"weight\": 0},  # weight 없음\n",
    "    1: {\"name\": \"apo-ferritin\", \"weight\": 1000},\n",
    "    2: {\"name\": \"beta-amylase\", \"weight\": 100}, # 4130\n",
    "    3: {\"name\": \"beta-galactosidase\", \"weight\": 1500}, #3080\n",
    "    4: {\"name\": \"ribosome\", \"weight\": 1000},\n",
    "    5: {\"name\": \"thyroglobulin\", \"weight\": 1500},\n",
    "    6: {\"name\": \"virus-like-particle\", \"weight\": 1000},\n",
    "}\n",
    "\n",
    "# 가중치에 비례한 비율 계산\n",
    "raw_ratios = {\n",
    "    k: (v[\"weight\"] if v[\"weight\"] is not None else 0.01)  # 가중치 비례, None일 경우 기본값a\n",
    "    for k, v in class_info.items()\n",
    "}\n",
    "total = sum(raw_ratios.values())\n",
    "ratios = {k: v / total for k, v in raw_ratios.items()}\n",
    "\n",
    "# 최종 합계가 1인지 확인\n",
    "final_total = sum(ratios.values())\n",
    "print(\"클래스 비율:\", ratios)\n",
    "print(\"최종 합계:\", final_total)\n",
    "\n",
    "# 비율을 리스트로 변환\n",
    "ratios_list = [ratios[k] for k in sorted(ratios.keys())]\n",
    "print(\"클래스 비율 리스트:\", ratios_list)"
   ]
  },
  {
   "cell_type": "markdown",
   "metadata": {},
   "source": [
    "# 모델 설정"
   ]
  },
  {
   "cell_type": "code",
   "execution_count": 3,
   "metadata": {},
   "outputs": [],
   "source": [
    "from src.dataset.dataset import create_dataloaders, create_dataloaders_bw\n",
    "from monai.transforms import (\n",
    "    Compose, LoadImaged, EnsureChannelFirstd, NormalizeIntensityd,\n",
    "    Orientationd, CropForegroundd, GaussianSmoothd, ScaleIntensityd,\n",
    "    RandSpatialCropd, RandRotate90d, RandFlipd, RandGaussianNoised,\n",
    "    ToTensord, RandCropByLabelClassesd, RandCropd,RandCropByPosNegLabeld, RandGaussianSmoothd\n",
    ")\n",
    "from monai.transforms import CastToTyped\n",
    "import numpy as np\n",
    "\n",
    "train_img_dir = \"./datasets/wbp_denoised_data/images\"\n",
    "train_label_dir = \"./datasets/wbp_denoised_data/labels\"\n",
    "val_img_dir = \"./datasets/val/images\"\n",
    "val_label_dir = \"./datasets/val/labels\"\n",
    "# DATA CONFIG\n",
    "img_size =  96 # Match your patch size\n",
    "img_depth = 32\n",
    "n_classes = 7\n",
    "batch_size = 16 # 13.8GB GPU memory required for 128x128 img size\n",
    "loader_batch = 1\n",
    "num_samples = batch_size // loader_batch # 한 이미지에서 뽑을 샘플 수\n",
    "num_repeat = 4\n",
    "# MODEL CONFIG\n",
    "num_epochs = 4000\n",
    "lamda = 0.5\n",
    "ce_weight = 0.4\n",
    "lr = 0.001\n",
    "feature_size = 48\n",
    "use_checkpoint = True\n",
    "use_v2 = True\n",
    "drop_rate= 0.2\n",
    "attn_drop_rate = 0.2\n",
    "num_bottleneck = 2\n",
    "# CLASS_WEIGHTS\n",
    "class_weights = None\n",
    "# class_weights = torch.tensor([0.0001, 1, 0.001, 1.1, 1, 1.1, 1], dtype=torch.float32)  # 클래스별 가중치\n",
    "# class_weights = torch.tensor([0.9,1,0.9,1.1,1,1.1,1], dtype=torch.float32)  # 클래스별 가중치\n",
    "# class_weights = torch.tensor([1,1,1,1,1,1,1], dtype=torch.float32)  # 클래스별 가중치\n",
    "sigma = 1.5\n",
    "accumulation_steps = 1\n",
    "# INIT\n",
    "start_epoch = 0\n",
    "best_val_loss = float('inf')\n",
    "best_val_fbeta_score = 0\n",
    "\n",
    "non_random_transforms = Compose([\n",
    "    EnsureChannelFirstd(keys=[\"image\", \"label\"], channel_dim=\"no_channel\"),\n",
    "    NormalizeIntensityd(keys=\"image\"),\n",
    "    Orientationd(keys=[\"image\", \"label\"], axcodes=\"RAS\"),\n",
    "    # GaussianSmoothd(\n",
    "    #     keys=[\"image\"],      # 변환을 적용할 키\n",
    "    #     sigma=[sigma, sigma, sigma]  # 각 축(x, y, z)의 시그마 값\n",
    "    #     ),\n",
    "])\n",
    "random_transforms = Compose([\n",
    "    RandCropByLabelClassesd(\n",
    "        keys=[\"image\", \"label\"],\n",
    "        label_key=\"label\",\n",
    "        spatial_size=[img_depth, img_size, img_size],\n",
    "        num_classes=n_classes,\n",
    "        num_samples=num_samples, \n",
    "        ratios=ratios_list,\n",
    "    ),\n",
    "    RandRotate90d(keys=[\"image\", \"label\"], prob=0.5, spatial_axes=[1, 2]),\n",
    "    RandFlipd(keys=[\"image\", \"label\"], prob=0.5, spatial_axis=0),\n",
    "    RandFlipd(keys=[\"image\", \"label\"], prob=0.5, spatial_axis=1),\n",
    "    RandFlipd(keys=[\"image\", \"label\"], prob=0.5, spatial_axis=2),\n",
    "    # RandGaussianSmoothd(\n",
    "    # keys=[\"image\"],      # 변환을 적용할 키\n",
    "    # sigma_x = (0.5, sigma), # 각 축(x, y, z)의 시그마 값\n",
    "    # sigma_y = (0.5, sigma),\n",
    "    # sigma_z = (0.5, sigma),\n",
    "    # prob=0.5,\n",
    "    # ),\n",
    "])\n",
    "val_random_transforms = Compose([\n",
    "    RandCropByLabelClassesd(\n",
    "        keys=[\"image\", \"label\"],\n",
    "        label_key=\"label\",\n",
    "        spatial_size=[img_depth, img_size, img_size],\n",
    "        num_classes=n_classes,\n",
    "        num_samples=num_samples, \n",
    "        ratios=ratios_list,\n",
    "    ),\n",
    "    # RandRotate90d(keys=[\"image\", \"label\"], prob=0.5, spatial_axes=[1, 2]),\n",
    "    # RandFlipd(keys=[\"image\", \"label\"], prob=0.5, spatial_axis=0),\n",
    "    # RandFlipd(keys=[\"image\", \"label\"], prob=0.5, spatial_axis=1),\n",
    "    # RandFlipd(keys=[\"image\", \"label\"], prob=0.5, spatial_axis=2),\n",
    "    # RandGaussianSmoothd(\n",
    "    # keys=[\"image\"],      # 변환을 적용할 키\n",
    "    # sigma_x = (0.0, sigma), # 각 축(x, y, z)의 시그마 값\n",
    "    # sigma_y = (0.0, sigma),\n",
    "    # sigma_z = (0.0, sigma),\n",
    "    # prob=1.0,\n",
    "    # ),\n",
    "])\n"
   ]
  },
  {
   "cell_type": "code",
   "execution_count": 4,
   "metadata": {},
   "outputs": [
    {
     "name": "stderr",
     "output_type": "stream",
     "text": [
      "Loading dataset: 100%|██████████| 33/33 [00:02<00:00, 11.27it/s]\n",
      "Loading dataset: 100%|██████████| 1/1 [00:00<00:00, 13.42it/s]\n"
     ]
    }
   ],
   "source": [
    "train_loader, val_loader = None, None\n",
    "train_loader, val_loader = create_dataloaders_bw(\n",
    "    train_img_dir, \n",
    "    train_label_dir, \n",
    "    val_img_dir, \n",
    "    val_label_dir, \n",
    "    non_random_transforms = non_random_transforms, \n",
    "    val_non_random_transforms=non_random_transforms,\n",
    "    random_transforms = random_transforms, \n",
    "    val_random_transforms=val_random_transforms,\n",
    "    batch_size = loader_batch,\n",
    "    num_workers=0,\n",
    "    train_num_repeat=num_repeat,\n",
    "    val_num_repeat=num_repeat,\n",
    "    )"
   ]
  },
  {
   "cell_type": "markdown",
   "metadata": {},
   "source": [
    "https://monai.io/model-zoo.html"
   ]
  },
  {
   "cell_type": "code",
   "execution_count": 5,
   "metadata": {},
   "outputs": [],
   "source": [
    "import torch\n",
    "import torch.nn as nn\n",
    "import torch.nn.functional as F\n",
    "from monai.losses import TverskyLoss\n",
    "\n",
    "device = torch.device(\"cuda\" if torch.cuda.is_available() else \"cpu\")\n",
    "\n",
    "# DynamicTverskyLoss 클래스 정의\n",
    "class DynamicTverskyLoss(TverskyLoss):\n",
    "    def __init__(self, lamda=0.5, **kwargs):\n",
    "        super().__init__(alpha=1 - lamda, beta=lamda, **kwargs)\n",
    "        self.lamda = lamda\n",
    "\n",
    "    def set_lamda(self, lamda):\n",
    "        self.lamda = lamda\n",
    "        self.alpha = 1 - lamda\n",
    "        self.beta = lamda\n",
    "\n",
    "\n",
    "# CombinedCETverskyLoss 클래스\n",
    "class CombinedCETverskyLoss_cl_weight(nn.Module):\n",
    "    \n",
    "    \n",
    "    def __init__(self, lamda=0.5, ce_weight=0.5, n_classes=7, class_weights=None, ignore_index=-1, **kwargs):\n",
    "        super().__init__()\n",
    "        self.n_classes = n_classes\n",
    "        self.ce_weight = ce_weight\n",
    "        self.ignore_index = ignore_index\n",
    "        \n",
    "        # CrossEntropyLoss에서 클래스별 가중치를 적용\n",
    "        self.ce = nn.CrossEntropyLoss(weight=class_weights, ignore_index=self.ignore_index, reduction='mean', **kwargs)\n",
    "        \n",
    "        # TverskyLoss\n",
    "        self.tversky = DynamicTverskyLoss(lamda=lamda, reduction=\"none\",softmax=True, **kwargs)\n",
    "\n",
    "    def forward(self, inputs, targets):\n",
    "        \n",
    "        # CrossEntropyLoss는 정수형 클래스 인덱스를 사용\n",
    "        ce_loss = self.ce(inputs, targets)\n",
    "\n",
    "        # TverskyLoss 계산 (원핫 인코딩된 라벨을 사용)\n",
    "        \n",
    "        tversky_loss = self.tversky(inputs, targets)\n",
    "\n",
    "        # 클래스별 가중치 적용 (Tversky 손실에도 가중치를 곱하기)\n",
    "        class_weights = torch.tensor(self.ce.weight)  # CrossEntropy의 weight를 사용\n",
    "\n",
    "        # Tversky 손실이 (B, num_classes) 형태이므로, 가중치를 클래스 차원에 곱합니다.\n",
    "        tversky_loss = tversky_loss * class_weights.view(1, self.n_classes)\n",
    "\n",
    "        # 최종 손실 계산\n",
    "        final_loss = self.ce_weight * ce_loss + (1 - self.ce_weight) * tversky_loss.mean()  # mean()으로 배치에 대해 평균\n",
    "        return final_loss\n",
    "\n",
    "    def set_lamda(self, lamda):\n",
    "        self.tversky.set_lamda(lamda)\n",
    "\n",
    "    @property\n",
    "    def lamda(self):\n",
    "        return self.tversky.lamda\n",
    "\n",
    "# CombinedCETverskyLoss 클래스\n",
    "class CombinedCETverskyLoss(nn.Module):\n",
    "    \n",
    "    def __init__(self, lamda=0.5, ce_weight=0.5, n_classes=7, class_weights=None, ignore_index=-1, **kwargs):\n",
    "        super().__init__()\n",
    "        self.n_classes = n_classes\n",
    "        self.ce_weight = ce_weight\n",
    "        self.ignore_index = ignore_index\n",
    "        \n",
    "        # CrossEntropyLoss에서 클래스별 가중치를 적용\n",
    "        self.ce = nn.CrossEntropyLoss(ignore_index=self.ignore_index, reduction='mean', **kwargs)\n",
    "        \n",
    "        # TverskyLoss\n",
    "        self.tversky = DynamicTverskyLoss(lamda=lamda, reduction=\"mean\",softmax=True, **kwargs)\n",
    "\n",
    "    def forward(self, inputs, targets):\n",
    "        \n",
    "        # CrossEntropyLoss는 정수형 클래스 인덱스를 사용\n",
    "        ce_loss = self.ce(inputs, targets)\n",
    "\n",
    "        # TverskyLoss 계산 (원핫 인코딩된 라벨을 사용)\n",
    "        \n",
    "        tversky_loss = self.tversky(inputs, targets)\n",
    "\n",
    "        # 최종 손실 계산\n",
    "        final_loss = self.ce_weight * ce_loss + (1 - self.ce_weight) * tversky_loss  # mean()으로 배치에 대해 평균\n",
    "        \n",
    "        return final_loss\n",
    "\n",
    "    def set_lamda(self, lamda):\n",
    "        self.tversky.set_lamda(lamda)\n",
    "\n",
    "    @property\n",
    "    def lamda(self):\n",
    "        return self.tversky.lamda\n",
    "\n",
    "criterion = CombinedCETverskyLoss(\n",
    "    lamda=lamda,\n",
    "    ce_weight=ce_weight,\n",
    "    n_classes=n_classes,\n",
    "    class_weights=class_weights,\n",
    ").to(device)"
   ]
  },
  {
   "cell_type": "code",
   "execution_count": 6,
   "metadata": {},
   "outputs": [],
   "source": [
    "import torch.optim as optim\n",
    "from tqdm import tqdm\n",
    "import numpy as np\n",
    "import torch\n",
    "from pathlib import Path\n",
    "from monai.networks.nets import UNet\n",
    "from src.models import DP_UNet\n",
    "\n",
    "device = torch.device(\"cuda\" if torch.cuda.is_available() else \"cpu\")\n",
    "\n",
    "\n",
    "model = UNet(\n",
    "    spatial_dims=3,\n",
    "    in_channels=1,\n",
    "    out_channels=n_classes,\n",
    "    channels=(32, 64, 128, 256),\n",
    "    strides=(2, 2, 2),\n",
    "    dropout = drop_rate,\n",
    "    norm = Norm.INSTANCE,\n",
    "    act = Act.PRELU,\n",
    ").to(device)\n",
    "\n",
    "pretrain_str = \"yes\" if use_checkpoint else \"no\"\n",
    "weight_str = \"weighted\" if class_weights is not None else \"\"\n",
    "\n",
    "# 체크포인트 디렉토리 및 파일 설정\n",
    "checkpoint_base_dir = Path(\"./model_checkpoints\")\n",
    "folder_name = f\"UNET_denoised_noGauss_f{feature_size}_lr{lr:.0e}_a{lamda:.2f}_b{batch_size}_r{num_repeat}_ce{ce_weight}_ac{accumulation_steps}\"\n",
    "checkpoint_dir = checkpoint_base_dir / folder_name\n",
    "optimizer = optim.AdamW(model.parameters(), lr=lr, weight_decay=1e-5)\n",
    "scheduler = torch.optim.lr_scheduler.ReduceLROnPlateau(optimizer, patience=5, factor=0.5)\n",
    "# 체크포인트 디렉토리 생성\n",
    "checkpoint_dir.mkdir(parents=True, exist_ok=True)\n",
    "\n",
    "if checkpoint_dir.exists():\n",
    "    best_model_path = checkpoint_dir / 'best_model_pretrained.pt'\n",
    "    if best_model_path.exists():\n",
    "        print(f\"기존 best model 발견: {best_model_path}\")\n",
    "        try:\n",
    "            checkpoint = torch.load(best_model_path, map_location=device)\n",
    "            # 체크포인트 내부 키 검증\n",
    "            required_keys = ['model_state_dict', 'optimizer_state_dict', 'epoch', 'best_val_loss', 'best_val_fbeta_score']\n",
    "            if all(k in checkpoint for k in required_keys):\n",
    "                model.load_state_dict(checkpoint['model_state_dict'])\n",
    "                optimizer.load_state_dict(checkpoint['optimizer_state_dict'])\n",
    "                start_epoch = checkpoint['epoch']\n",
    "                best_val_loss = checkpoint['best_val_loss']\n",
    "                best_val_fbeta_score = checkpoint['best_val_fbeta_score']\n",
    "                print(\"기존 학습된 가중치를 성공적으로 로드했습니다.\")\n",
    "                checkpoint= None\n",
    "            else:\n",
    "                raise ValueError(\"체크포인트 파일에 필요한 key가 없습니다.\")\n",
    "        except Exception as e:\n",
    "            print(f\"체크포인트 파일을 로드하는 중 오류 발생: {e}\")"
   ]
  },
  {
   "cell_type": "code",
   "execution_count": 7,
   "metadata": {},
   "outputs": [
    {
     "name": "stdout",
     "output_type": "stream",
     "text": [
      "torch.Size([16, 1, 32, 96, 96]) torch.Size([16, 1, 32, 96, 96])\n"
     ]
    }
   ],
   "source": [
    "batch = next(iter(val_loader))\n",
    "images, labels = batch[\"image\"], batch[\"label\"]\n",
    "print(images.shape, labels.shape)"
   ]
  },
  {
   "cell_type": "code",
   "execution_count": 8,
   "metadata": {},
   "outputs": [],
   "source": [
    "torch.backends.cudnn.benchmark = True"
   ]
  },
  {
   "cell_type": "code",
   "execution_count": 9,
   "metadata": {},
   "outputs": [
    {
     "name": "stderr",
     "output_type": "stream",
     "text": [
      "\u001b[34m\u001b[1mwandb\u001b[0m: Using wandb-core as the SDK backend.  Please refer to https://wandb.me/wandb-core for more information.\n",
      "\u001b[34m\u001b[1mwandb\u001b[0m: Currently logged in as: \u001b[33mpook0612\u001b[0m (\u001b[33mlimbw\u001b[0m). Use \u001b[1m`wandb login --relogin`\u001b[0m to force relogin\n"
     ]
    },
    {
     "data": {
      "text/html": [
       "Tracking run with wandb version 0.19.1"
      ],
      "text/plain": [
       "<IPython.core.display.HTML object>"
      ]
     },
     "metadata": {},
     "output_type": "display_data"
    },
    {
     "data": {
      "text/html": [
       "Run data is saved locally in <code>d:\\Workspace\\czll\\wandb\\run-20250123_140229-wwnc5eft</code>"
      ],
      "text/plain": [
       "<IPython.core.display.HTML object>"
      ]
     },
     "metadata": {},
     "output_type": "display_data"
    },
    {
     "data": {
      "text/html": [
       "Syncing run <strong><a href='https://wandb.ai/limbw/czii_UNet/runs/wwnc5eft' target=\"_blank\">UNET_denoised_noGauss_f48_lr1e-03_a0.50_b16_r4_ce0.4_ac1</a></strong> to <a href='https://wandb.ai/limbw/czii_UNet' target=\"_blank\">Weights & Biases</a> (<a href='https://wandb.me/developer-guide' target=\"_blank\">docs</a>)<br>"
      ],
      "text/plain": [
       "<IPython.core.display.HTML object>"
      ]
     },
     "metadata": {},
     "output_type": "display_data"
    },
    {
     "data": {
      "text/html": [
       " View project at <a href='https://wandb.ai/limbw/czii_UNet' target=\"_blank\">https://wandb.ai/limbw/czii_UNet</a>"
      ],
      "text/plain": [
       "<IPython.core.display.HTML object>"
      ]
     },
     "metadata": {},
     "output_type": "display_data"
    },
    {
     "data": {
      "text/html": [
       " View run at <a href='https://wandb.ai/limbw/czii_UNet/runs/wwnc5eft' target=\"_blank\">https://wandb.ai/limbw/czii_UNet/runs/wwnc5eft</a>"
      ],
      "text/plain": [
       "<IPython.core.display.HTML object>"
      ]
     },
     "metadata": {},
     "output_type": "display_data"
    }
   ],
   "source": [
    "import wandb\n",
    "from datetime import datetime\n",
    "\n",
    "current_time = datetime.now().strftime('%Y%m%d_%H%M%S')\n",
    "run_name = folder_name\n",
    "\n",
    "# wandb 초기화\n",
    "wandb.init(\n",
    "    project='czii_UNet',  # 프로젝트 이름 설정\n",
    "    name=run_name,         # 실행(run) 이름 설정\n",
    "    config={\n",
    "        'num_epochs': num_epochs,\n",
    "        'learning_rate': lr,\n",
    "        'batch_size': batch_size,\n",
    "        'lambda': lamda,\n",
    "        \"cross_entropy_weight\": ce_weight,\n",
    "        'feature_size': feature_size,\n",
    "        'img_size': img_size,\n",
    "        'sampling_ratio': ratios_list,\n",
    "        'device': device.type,\n",
    "        \"checkpoint_dir\": str(checkpoint_dir),\n",
    "        \"class_weights\": class_weights.tolist() if class_weights is not None else None,\n",
    "        # \"use_checkpoint\": use_checkpoint,\n",
    "        \"drop_rate\": drop_rate,\n",
    "        # \"attn_drop_rate\": attn_drop_rate,\n",
    "        # \"use_v2\": use_v2,\n",
    "        \"accumulation_steps\": accumulation_steps,\n",
    "        \"num_repeat\": num_repeat,\n",
    "        # \"num_bottleneck\": num_bottleneck,\n",
    "        \n",
    "        # 필요한 하이퍼파라미터 추가\n",
    "    }\n",
    ")\n",
    "# 모델을 wandb에 연결\n",
    "wandb.watch(model, log='all')"
   ]
  },
  {
   "cell_type": "markdown",
   "metadata": {},
   "source": [
    "# 학습"
   ]
  },
  {
   "cell_type": "code",
   "execution_count": 10,
   "metadata": {},
   "outputs": [],
   "source": [
    "from monai.metrics import DiceMetric\n",
    "    \n",
    "def processing(batch_data, model, criterion, device):\n",
    "    images = batch_data['image'].to(device)  # Input 이미지 (B, 1, 96, 96, 96)\n",
    "    labels = batch_data['label'].to(device)  # 라벨 (B, 96, 96, 96)\n",
    "\n",
    "    labels = labels.squeeze(1)  # (B, 1, 96, 96, 96) → (B, 96, 96, 96)\n",
    "    labels = labels.long()  # 라벨을 정수형으로 변환\n",
    "\n",
    "    # 원핫 인코딩 (B, H, W, D) → (B, num_classes, H, W, D)\n",
    "    \n",
    "    labels_onehot = torch.nn.functional.one_hot(labels, num_classes=n_classes)\n",
    "    labels_onehot = labels_onehot.permute(0, 4, 1, 2, 3).float()  # (B, num_classes, H, W, D)\n",
    "\n",
    "    # 모델 예측\n",
    "    outputs = model(images)  # outputs: (B, num_classes, H, W, D)\n",
    "\n",
    "    # Loss 계산\n",
    "    loss = criterion(outputs, labels_onehot)\n",
    "    # loss = loss_fn(criterion(outputs, labels_onehot),class_weights=class_weights, device=device)\n",
    "    return loss, outputs, labels, outputs.argmax(dim=1)\n",
    "\n",
    "def train_one_epoch(model, train_loader, criterion, optimizer, device, epoch, accumulation_steps=4):\n",
    "    model.train()\n",
    "    epoch_loss = 0\n",
    "    optimizer.zero_grad()  # 그래디언트 초기화\n",
    "    with tqdm(train_loader, desc='Training') as pbar:\n",
    "        for i, batch_data in enumerate(pbar):\n",
    "            # 손실 계산\n",
    "            loss, _, _, _ = processing(batch_data, model, criterion, device)\n",
    "\n",
    "            # 그래디언트를 계산하고 누적\n",
    "            loss = loss / accumulation_steps  # 그래디언트 누적을 위한 스케일링\n",
    "            loss.backward()  # 그래디언트 계산 및 누적\n",
    "            \n",
    "            # 그래디언트 업데이트 (accumulation_steps마다 한 번)\n",
    "            if (i + 1) % accumulation_steps == 0 or (i + 1) == len(train_loader):\n",
    "                optimizer.step()  # 파라미터 업데이트\n",
    "                optimizer.zero_grad()  # 누적된 그래디언트 초기화\n",
    "            \n",
    "            # 손실값 누적 (스케일링 복구)\n",
    "            epoch_loss += loss.item() * accumulation_steps  # 실제 손실값 반영\n",
    "            pbar.set_postfix(loss=loss.item() * accumulation_steps)  # 실제 손실값 출력\n",
    "    avg_loss = epoch_loss / len(train_loader)\n",
    "    wandb.log({'train_epoch_loss': avg_loss, 'epoch': epoch + 1})\n",
    "    return avg_loss\n",
    "\n",
    "\n",
    "def validate_one_epoch(model, val_loader, criterion, device, epoch, calculate_dice_interval, ce_weight):\n",
    "    model.eval()\n",
    "    val_loss = 0\n",
    "    \n",
    "    class_dice_scores = {i: [] for i in range(n_classes)}\n",
    "    class_f_beta_scores = {i: [] for i in range(n_classes)}\n",
    "    class_mIoU_scores = {i: [] for i in range(n_classes)}\n",
    "    with torch.no_grad():\n",
    "        with tqdm(val_loader, desc='Validation') as pbar:\n",
    "            for batch_data in pbar:\n",
    "                loss, _, labels, preds = processing(batch_data, model, criterion, device)\n",
    "                val_loss += loss.item()\n",
    "                pbar.set_postfix(loss=loss.item())\n",
    "\n",
    "                # 각 클래스별 Dice 점수 계산\n",
    "                if epoch % calculate_dice_interval == 0:\n",
    "                    for i in range(n_classes):\n",
    "                        pred_i = (preds == i)\n",
    "                        label_i = (labels == i)\n",
    "                        dice_score = (2.0 * torch.sum(pred_i & label_i)) / (torch.sum(pred_i) + torch.sum(label_i) + 1e-8)\n",
    "                        class_dice_scores[i].append(dice_score.item())\n",
    "                        precision = (torch.sum(pred_i & label_i) + 1e-8) / (torch.sum(pred_i) + 1e-8)\n",
    "                        recall = (torch.sum(pred_i & label_i) + 1e-8) / (torch.sum(label_i) + 1e-8)\n",
    "                        f_beta_score = (1 + 4**2) * (precision * recall) / (4**2 * precision + recall + 1e-8)\n",
    "                        class_f_beta_scores[i].append(f_beta_score.item())\n",
    "                        intersection = torch.sum(pred_i & label_i).float()\n",
    "                        union = torch.sum(pred_i | label_i).float()\n",
    "                        iou = (intersection + 1e-8) / (union + 1e-8)\n",
    "                        class_mIoU_scores[i].append(iou.item())\n",
    "\n",
    "    avg_loss = val_loss / len(val_loader)\n",
    "    # 에포크별 평균 손실 로깅\n",
    "    wandb.log({'val_epoch_loss': avg_loss, 'epoch': epoch + 1})\n",
    "    \n",
    "    # 각 클래스별 평균 Dice 점수 출력\n",
    "    if epoch % calculate_dice_interval == 0:\n",
    "        print(\"Validation Dice Score\")\n",
    "        all_classes_dice_scores = []\n",
    "        for i in range(n_classes):\n",
    "            mean_dice = np.mean(class_dice_scores[i])\n",
    "            wandb.log({f'class_{i}_dice_score': mean_dice, 'epoch': epoch + 1})\n",
    "            print(f\"Class {i}: {mean_dice:.4f}\", end=\", \")\n",
    "            if i not in [0, 2]:  # 평균에 포함할 클래스만 추가\n",
    "                all_classes_dice_scores.append(mean_dice)\n",
    "            \n",
    "        print()\n",
    "    if epoch % calculate_dice_interval == 0:\n",
    "        print(\"Validation F-beta Score\")\n",
    "        all_classes_fbeta_scores = []\n",
    "        for i in range(n_classes):\n",
    "            mean_fbeta = np.mean(class_f_beta_scores[i])\n",
    "            wandb.log({f'class_{i}_f_beta_score': mean_fbeta, 'epoch': epoch + 1})\n",
    "            print(f\"Class {i}: {mean_fbeta:.4f}\", end=\", \")\n",
    "            if i not in [0, 2]:  # 평균에 포함할 클래스만 추가\n",
    "                all_classes_fbeta_scores.append(mean_fbeta)\n",
    "               \n",
    "        print() \n",
    "    if epoch % calculate_dice_interval == 0:\n",
    "        print(\"Validation mIoU Score\")\n",
    "        all_classes_mIoU_scores = []\n",
    "        for i in range(n_classes):\n",
    "            mean_IoU = np.mean(class_mIoU_scores[i])\n",
    "            wandb.log({f'class_{i}_IoU_score': mean_fbeta, 'epoch': epoch + 1})\n",
    "            print(f\"Class {i}: {mean_IoU:.4f}\", end=\", \")\n",
    "            if i not in [0, 2]:  # 평균에 포함할 클래스만 추가\n",
    "                all_classes_mIoU_scores.append(mean_IoU)\n",
    "                \n",
    "        print()\n",
    "        overall_mean_dice = np.mean(all_classes_dice_scores)\n",
    "        overall_mean_fbeta = np.mean(all_classes_fbeta_scores)\n",
    "        overall_mean_IoU = np.mean(all_classes_mIoU_scores)\n",
    "        final_score = overall_mean_fbeta * (1 - ce_weight) + overall_mean_IoU * ce_weight\n",
    "        wandb.log({'overall_mean_f_beta_score': overall_mean_fbeta, 'overall_mean_dice_score': overall_mean_dice, 'epoch': epoch + 1, 'overall_mean_IoU_score': overall_mean_IoU, 'final_score': final_score})  \n",
    "        print(f\"\\nOverall Mean Dice Score: {overall_mean_dice:.4f}\\nOverall Mean F-beta Score: {overall_mean_fbeta:.4f}\\nOverall Mean IoU Score: {overall_mean_IoU:.4f}\\nFinal_score: {final_score:.4f}\")\n",
    "\n",
    "    if overall_mean_fbeta is None:\n",
    "        overall_mean_fbeta = 0\n",
    "\n",
    "    \n",
    "    \n",
    "    return val_loss / len(val_loader), final_score \n",
    "\n",
    "def train_model(\n",
    "    model, train_loader, val_loader, criterion, optimizer, num_epochs, patience, \n",
    "    device, start_epoch, best_val_loss, best_val_fbeta_score, calculate_dice_interval=1,\n",
    "    accumulation_steps=4, pretrained=False\n",
    "):\n",
    "    \"\"\"\n",
    "    모델을 학습하고 검증하는 함수\n",
    "    Args:\n",
    "        model: 학습할 모델\n",
    "        train_loader: 학습 데이터 로더\n",
    "        val_loader: 검증 데이터 로더\n",
    "        criterion: 손실 함수\n",
    "        optimizer: 최적화 알고리즘\n",
    "        num_epochs: 총 학습 epoch 수\n",
    "        patience: early stopping 기준\n",
    "        device: GPU/CPU 장치\n",
    "        start_epoch: 시작 epoch\n",
    "        best_val_loss: 이전 최적 validation loss\n",
    "        best_val_fbeta_score: 이전 최적 validation f-beta score\n",
    "        calculate_dice_interval: Dice 점수 계산 주기\n",
    "    \"\"\"\n",
    "    epochs_no_improve = 0\n",
    "\n",
    "    for epoch in range(start_epoch, num_epochs):\n",
    "        print(f\"Epoch {epoch + 1}/{num_epochs}\")\n",
    "\n",
    "        # Train One Epoch\n",
    "        train_loss = train_one_epoch(\n",
    "            model=model, \n",
    "            train_loader=train_loader, \n",
    "            criterion=criterion, \n",
    "            optimizer=optimizer, \n",
    "            device=device,\n",
    "            epoch=epoch,\n",
    "            accumulation_steps= accumulation_steps\n",
    "        )\n",
    "        \n",
    "        scheduler.step(train_loss)\n",
    "        # Validate One Epoch\n",
    "        val_loss, overall_mean_fbeta_score = validate_one_epoch(\n",
    "            model=model, \n",
    "            val_loader=val_loader, \n",
    "            criterion=criterion, \n",
    "            device=device, \n",
    "            epoch=epoch, \n",
    "            calculate_dice_interval=calculate_dice_interval,\n",
    "            ce_weight = ce_weight\n",
    "        )\n",
    "\n",
    "        \n",
    "        print(f\"Training Loss: {train_loss:.4f}, Validation Loss: {val_loss:.4f}, Validation hybrid_score: {overall_mean_fbeta_score:.4f}\")\n",
    "\n",
    "        if val_loss < best_val_loss and overall_mean_fbeta_score > best_val_fbeta_score:\n",
    "            best_val_loss = val_loss\n",
    "            best_val_fbeta_score = overall_mean_fbeta_score\n",
    "            epochs_no_improve = 0\n",
    "            if pretrained:\n",
    "                checkpoint_path = os.path.join(checkpoint_dir, 'best_model_pretrained.pt')\n",
    "            else:\n",
    "                checkpoint_path = os.path.join(checkpoint_dir, 'best_model.pt')\n",
    "            torch.save({\n",
    "                'epoch': epoch + 1,\n",
    "                'model_state_dict': model.state_dict(),\n",
    "                'optimizer_state_dict': optimizer.state_dict(),\n",
    "                'best_val_loss': best_val_loss,\n",
    "                'best_val_fbeta_score': best_val_fbeta_score\n",
    "            }, checkpoint_path)\n",
    "            print(f\"========================================================\")\n",
    "            print(f\"SUPER Best model saved. Loss:{best_val_loss:.4f}, Score:{best_val_fbeta_score:.4f}\")\n",
    "            print(f\"========================================================\")\n",
    "\n",
    "        # Early stopping 조건 체크\n",
    "        if val_loss >= best_val_loss and overall_mean_fbeta_score <= best_val_fbeta_score:\n",
    "            epochs_no_improve += 1\n",
    "        else:\n",
    "            epochs_no_improve = 0\n",
    "\n",
    "        if epochs_no_improve >= patience:\n",
    "            print(\"Early stopping\")\n",
    "            checkpoint_path = os.path.join(checkpoint_dir, 'last.pt')\n",
    "            torch.save({\n",
    "                'epoch': epoch + 1,\n",
    "                'model_state_dict': model.state_dict(),\n",
    "                'optimizer_state_dict': optimizer.state_dict(),\n",
    "                'best_val_loss': best_val_loss,\n",
    "                'best_val_fbeta_score': best_val_fbeta_score\n",
    "            }, checkpoint_path)\n",
    "            break\n",
    "        # if epochs_no_improve % 6 == 0 & epochs_no_improve != 0:\n",
    "        #     # 손실이 개선되지 않았으므로 lambda 감소\n",
    "        #     new_lamda = max(criterion.lamda - 0.01, 0.35)  # 최소값은 0.1로 설정\n",
    "        #     criterion.set_lamda(new_lamda)\n",
    "        #     print(f\"Validation loss did not improve. Reducing lambda to {new_lamda:.4f}\")\n",
    "\n",
    "    wandb.finish()\n"
   ]
  },
  {
   "cell_type": "code",
   "execution_count": 11,
   "metadata": {},
   "outputs": [
    {
     "name": "stdout",
     "output_type": "stream",
     "text": [
      "Epoch 1/4000\n"
     ]
    },
    {
     "name": "stderr",
     "output_type": "stream",
     "text": [
      "Training: 100%|██████████| 132/132 [01:15<00:00,  1.75it/s, loss=0.545]\n",
      "Validation: 100%|██████████| 4/4 [00:01<00:00,  2.19it/s, loss=0.568]\n"
     ]
    },
    {
     "name": "stdout",
     "output_type": "stream",
     "text": [
      "Validation Dice Score\n",
      "Class 0: 0.9848, Class 1: 0.0019, Class 2: 0.0002, Class 3: 0.0094, Class 4: 0.3022, Class 5: 0.0193, Class 6: 0.1187, \n",
      "Validation F-beta Score\n",
      "Class 0: 0.9939, Class 1: 0.0010, Class 2: 0.0001, Class 3: 0.0053, Class 4: 0.3077, Class 5: 0.0110, Class 6: 0.0707, \n",
      "Validation mIoU Score\n",
      "Class 0: 0.9701, Class 1: 0.0010, Class 2: 0.0001, Class 3: 0.0047, Class 4: 0.1833, Class 5: 0.0098, Class 6: 0.0633, \n",
      "\n",
      "Overall Mean Dice Score: 0.0903\n",
      "Overall Mean F-beta Score: 0.0792\n",
      "Overall Mean IoU Score: 0.0524\n",
      "Final_score: 0.0685\n",
      "Training Loss: 0.6780, Validation Loss: 0.5593, Validation hybrid_score: 0.0685\n",
      "========================================================\n",
      "SUPER Best model saved. Loss:0.5593, Score:0.0685\n",
      "========================================================\n",
      "Epoch 2/4000\n"
     ]
    },
    {
     "name": "stderr",
     "output_type": "stream",
     "text": [
      "Training: 100%|██████████| 132/132 [01:07<00:00,  1.94it/s, loss=0.513]\n",
      "Validation: 100%|██████████| 4/4 [00:01<00:00,  2.24it/s, loss=0.535]\n"
     ]
    },
    {
     "name": "stdout",
     "output_type": "stream",
     "text": [
      "Validation Dice Score\n",
      "Class 0: 0.9831, Class 1: 0.0001, Class 2: 0.0000, Class 3: 0.0539, Class 4: 0.2875, Class 5: 0.0729, Class 6: 0.5756, \n",
      "Validation F-beta Score\n",
      "Class 0: 0.9942, Class 1: 0.0001, Class 2: 0.0000, Class 3: 0.0350, Class 4: 0.1999, Class 5: 0.0497, Class 6: 0.5351, \n",
      "Validation mIoU Score\n",
      "Class 0: 0.9667, Class 1: 0.0001, Class 2: 0.0000, Class 3: 0.0278, Class 4: 0.1679, Class 5: 0.0380, Class 6: 0.4063, \n",
      "\n",
      "Overall Mean Dice Score: 0.1980\n",
      "Overall Mean F-beta Score: 0.1640\n",
      "Overall Mean IoU Score: 0.1280\n",
      "Final_score: 0.1496\n",
      "Training Loss: 0.5422, Validation Loss: 0.5394, Validation hybrid_score: 0.1496\n",
      "========================================================\n",
      "SUPER Best model saved. Loss:0.5394, Score:0.1496\n",
      "========================================================\n",
      "Epoch 3/4000\n"
     ]
    },
    {
     "name": "stderr",
     "output_type": "stream",
     "text": [
      "Training: 100%|██████████| 132/132 [01:08<00:00,  1.92it/s, loss=0.495]\n",
      "Validation: 100%|██████████| 4/4 [00:01<00:00,  2.27it/s, loss=0.513]\n"
     ]
    },
    {
     "name": "stdout",
     "output_type": "stream",
     "text": [
      "Validation Dice Score\n",
      "Class 0: 0.9851, Class 1: 0.0005, Class 2: 0.0000, Class 3: 0.1510, Class 4: 0.5689, Class 5: 0.2107, Class 6: 0.7571, \n",
      "Validation F-beta Score\n",
      "Class 0: 0.9896, Class 1: 0.0003, Class 2: 0.0000, Class 3: 0.1473, Class 4: 0.5065, Class 5: 0.1925, Class 6: 0.7129, \n",
      "Validation mIoU Score\n",
      "Class 0: 0.9706, Class 1: 0.0003, Class 2: 0.0000, Class 3: 0.0826, Class 4: 0.3979, Class 5: 0.1186, Class 6: 0.6103, \n",
      "\n",
      "Overall Mean Dice Score: 0.3376\n",
      "Overall Mean F-beta Score: 0.3119\n",
      "Overall Mean IoU Score: 0.2419\n",
      "Final_score: 0.2839\n",
      "Training Loss: 0.5098, Validation Loss: 0.5105, Validation hybrid_score: 0.2839\n",
      "========================================================\n",
      "SUPER Best model saved. Loss:0.5105, Score:0.2839\n",
      "========================================================\n",
      "Epoch 4/4000\n"
     ]
    },
    {
     "name": "stderr",
     "output_type": "stream",
     "text": [
      "Training: 100%|██████████| 132/132 [01:09<00:00,  1.90it/s, loss=0.488]\n",
      "Validation: 100%|██████████| 4/4 [00:01<00:00,  2.22it/s, loss=0.515]\n"
     ]
    },
    {
     "name": "stdout",
     "output_type": "stream",
     "text": [
      "Validation Dice Score\n",
      "Class 0: 0.9845, Class 1: 0.0078, Class 2: 0.0000, Class 3: 0.1860, Class 4: 0.5447, Class 5: 0.2319, Class 6: 0.8013, \n",
      "Validation F-beta Score\n",
      "Class 0: 0.9912, Class 1: 0.0057, Class 2: 0.0000, Class 3: 0.2155, Class 4: 0.4313, Class 5: 0.1917, Class 6: 0.8133, \n",
      "Validation mIoU Score\n",
      "Class 0: 0.9694, Class 1: 0.0039, Class 2: 0.0000, Class 3: 0.1032, Class 4: 0.3744, Class 5: 0.1329, Class 6: 0.6719, \n",
      "\n",
      "Overall Mean Dice Score: 0.3543\n",
      "Overall Mean F-beta Score: 0.3315\n",
      "Overall Mean IoU Score: 0.2573\n",
      "Final_score: 0.3018\n",
      "Training Loss: 0.4923, Validation Loss: 0.5030, Validation hybrid_score: 0.3018\n",
      "========================================================\n",
      "SUPER Best model saved. Loss:0.5030, Score:0.3018\n",
      "========================================================\n",
      "Epoch 5/4000\n"
     ]
    },
    {
     "name": "stderr",
     "output_type": "stream",
     "text": [
      "Training: 100%|██████████| 132/132 [01:08<00:00,  1.94it/s, loss=0.47] \n",
      "Validation: 100%|██████████| 4/4 [00:01<00:00,  2.33it/s, loss=0.5]  \n"
     ]
    },
    {
     "name": "stdout",
     "output_type": "stream",
     "text": [
      "Validation Dice Score\n",
      "Class 0: 0.9868, Class 1: 0.0907, Class 2: 0.0062, Class 3: 0.2552, Class 4: 0.6413, Class 5: 0.1042, Class 6: 0.8199, \n",
      "Validation F-beta Score\n",
      "Class 0: 0.9896, Class 1: 0.0922, Class 2: 0.0047, Class 3: 0.4422, Class 4: 0.6142, Class 5: 0.0643, Class 6: 0.8342, \n",
      "Validation mIoU Score\n",
      "Class 0: 0.9739, Class 1: 0.0476, Class 2: 0.0031, Class 3: 0.1480, Class 4: 0.4732, Class 5: 0.0558, Class 6: 0.6952, \n",
      "\n",
      "Overall Mean Dice Score: 0.3823\n",
      "Overall Mean F-beta Score: 0.4094\n",
      "Overall Mean IoU Score: 0.2840\n",
      "Final_score: 0.3592\n",
      "Training Loss: 0.4812, Validation Loss: 0.4960, Validation hybrid_score: 0.3592\n",
      "========================================================\n",
      "SUPER Best model saved. Loss:0.4960, Score:0.3592\n",
      "========================================================\n",
      "Epoch 6/4000\n"
     ]
    },
    {
     "name": "stderr",
     "output_type": "stream",
     "text": [
      "Training: 100%|██████████| 132/132 [01:06<00:00,  1.98it/s, loss=0.433]\n",
      "Validation: 100%|██████████| 4/4 [00:01<00:00,  2.16it/s, loss=0.483]\n"
     ]
    },
    {
     "name": "stdout",
     "output_type": "stream",
     "text": [
      "Validation Dice Score\n",
      "Class 0: 0.9858, Class 1: 0.1414, Class 2: 0.0715, Class 3: 0.3217, Class 4: 0.4728, Class 5: 0.1273, Class 6: 0.8437, \n",
      "Validation F-beta Score\n",
      "Class 0: 0.9899, Class 1: 0.2776, Class 2: 0.0583, Class 3: 0.4758, Class 4: 0.3882, Class 5: 0.0845, Class 6: 0.8691, \n",
      "Validation mIoU Score\n",
      "Class 0: 0.9721, Class 1: 0.0767, Class 2: 0.0372, Class 3: 0.1928, Class 4: 0.3099, Class 5: 0.0696, Class 6: 0.7300, \n",
      "\n",
      "Overall Mean Dice Score: 0.3814\n",
      "Overall Mean F-beta Score: 0.4191\n",
      "Overall Mean IoU Score: 0.2758\n",
      "Final_score: 0.3618\n",
      "Training Loss: 0.4696, Validation Loss: 0.4900, Validation hybrid_score: 0.3618\n",
      "========================================================\n",
      "SUPER Best model saved. Loss:0.4900, Score:0.3618\n",
      "========================================================\n",
      "Epoch 7/4000\n"
     ]
    },
    {
     "name": "stderr",
     "output_type": "stream",
     "text": [
      "Training: 100%|██████████| 132/132 [01:09<00:00,  1.90it/s, loss=0.453]\n",
      "Validation: 100%|██████████| 4/4 [00:03<00:00,  1.11it/s, loss=0.48] \n"
     ]
    },
    {
     "name": "stdout",
     "output_type": "stream",
     "text": [
      "Validation Dice Score\n",
      "Class 0: 0.9874, Class 1: 0.2679, Class 2: 0.1239, Class 3: 0.2010, Class 4: 0.6723, Class 5: 0.2676, Class 6: 0.8383, \n",
      "Validation F-beta Score\n",
      "Class 0: 0.9898, Class 1: 0.4716, Class 2: 0.1246, Class 3: 0.2780, Class 4: 0.6484, Class 5: 0.1858, Class 6: 0.8814, \n",
      "Validation mIoU Score\n",
      "Class 0: 0.9752, Class 1: 0.1569, Class 2: 0.0666, Class 3: 0.1130, Class 4: 0.5080, Class 5: 0.1546, Class 6: 0.7233, \n",
      "\n",
      "Overall Mean Dice Score: 0.4494\n",
      "Overall Mean F-beta Score: 0.4931\n",
      "Overall Mean IoU Score: 0.3312\n",
      "Final_score: 0.4283\n",
      "Training Loss: 0.4630, Validation Loss: 0.4745, Validation hybrid_score: 0.4283\n",
      "========================================================\n",
      "SUPER Best model saved. Loss:0.4745, Score:0.4283\n",
      "========================================================\n",
      "Epoch 8/4000\n"
     ]
    },
    {
     "name": "stderr",
     "output_type": "stream",
     "text": [
      "Training: 100%|██████████| 132/132 [01:07<00:00,  1.97it/s, loss=0.442]\n",
      "Validation: 100%|██████████| 4/4 [00:01<00:00,  2.35it/s, loss=0.464]\n"
     ]
    },
    {
     "name": "stdout",
     "output_type": "stream",
     "text": [
      "Validation Dice Score\n",
      "Class 0: 0.9856, Class 1: 0.4080, Class 2: 0.0832, Class 3: 0.2088, Class 4: 0.6140, Class 5: 0.3420, Class 6: 0.8436, \n",
      "Validation F-beta Score\n",
      "Class 0: 0.9878, Class 1: 0.5208, Class 2: 0.0847, Class 3: 0.3188, Class 4: 0.5804, Class 5: 0.2806, Class 6: 0.8548, \n",
      "Validation mIoU Score\n",
      "Class 0: 0.9715, Class 1: 0.2571, Class 2: 0.0435, Class 3: 0.1189, Class 4: 0.4438, Class 5: 0.2066, Class 6: 0.7299, \n",
      "\n",
      "Overall Mean Dice Score: 0.4833\n",
      "Overall Mean F-beta Score: 0.5111\n",
      "Overall Mean IoU Score: 0.3513\n",
      "Final_score: 0.4471\n",
      "Training Loss: 0.4546, Validation Loss: 0.4685, Validation hybrid_score: 0.4471\n",
      "========================================================\n",
      "SUPER Best model saved. Loss:0.4685, Score:0.4471\n",
      "========================================================\n",
      "Epoch 9/4000\n"
     ]
    },
    {
     "name": "stderr",
     "output_type": "stream",
     "text": [
      "Training: 100%|██████████| 132/132 [01:06<00:00,  2.00it/s, loss=0.431]\n",
      "Validation: 100%|██████████| 4/4 [00:01<00:00,  2.35it/s, loss=0.497]\n"
     ]
    },
    {
     "name": "stdout",
     "output_type": "stream",
     "text": [
      "Validation Dice Score\n",
      "Class 0: 0.9857, Class 1: 0.2801, Class 2: 0.0794, Class 3: 0.3457, Class 4: 0.6440, Class 5: 0.2382, Class 6: 0.8143, \n",
      "Validation F-beta Score\n",
      "Class 0: 0.9887, Class 1: 0.5986, Class 2: 0.0779, Class 3: 0.3524, Class 4: 0.5774, Class 5: 0.1882, Class 6: 0.8626, \n",
      "Validation mIoU Score\n",
      "Class 0: 0.9718, Class 1: 0.1691, Class 2: 0.0421, Class 3: 0.2103, Class 4: 0.4803, Class 5: 0.1369, Class 6: 0.6908, \n",
      "\n",
      "Overall Mean Dice Score: 0.4645\n",
      "Overall Mean F-beta Score: 0.5158\n",
      "Overall Mean IoU Score: 0.3375\n",
      "Final_score: 0.4445\n",
      "Training Loss: 0.4521, Validation Loss: 0.4771, Validation hybrid_score: 0.4445\n",
      "Epoch 10/4000\n"
     ]
    },
    {
     "name": "stderr",
     "output_type": "stream",
     "text": [
      "Training: 100%|██████████| 132/132 [01:13<00:00,  1.81it/s, loss=0.446]\n",
      "Validation: 100%|██████████| 4/4 [00:01<00:00,  2.38it/s, loss=0.45] \n"
     ]
    },
    {
     "name": "stdout",
     "output_type": "stream",
     "text": [
      "Validation Dice Score\n",
      "Class 0: 0.9836, Class 1: 0.3606, Class 2: 0.1089, Class 3: 0.2986, Class 4: 0.6825, Class 5: 0.2831, Class 6: 0.7589, \n",
      "Validation F-beta Score\n",
      "Class 0: 0.9827, Class 1: 0.6324, Class 2: 0.1308, Class 3: 0.4080, Class 4: 0.7056, Class 5: 0.2360, Class 6: 0.8903, \n",
      "Validation mIoU Score\n",
      "Class 0: 0.9678, Class 1: 0.2299, Class 2: 0.0582, Class 3: 0.1764, Class 4: 0.5198, Class 5: 0.1673, Class 6: 0.6161, \n",
      "\n",
      "Overall Mean Dice Score: 0.4767\n",
      "Overall Mean F-beta Score: 0.5745\n",
      "Overall Mean IoU Score: 0.3419\n",
      "Final_score: 0.4815\n",
      "Training Loss: 0.4487, Validation Loss: 0.4707, Validation hybrid_score: 0.4815\n",
      "Epoch 11/4000\n"
     ]
    },
    {
     "name": "stderr",
     "output_type": "stream",
     "text": [
      "Training: 100%|██████████| 132/132 [01:10<00:00,  1.87it/s, loss=0.424]\n",
      "Validation: 100%|██████████| 4/4 [00:01<00:00,  2.33it/s, loss=0.457]\n"
     ]
    },
    {
     "name": "stdout",
     "output_type": "stream",
     "text": [
      "Validation Dice Score\n",
      "Class 0: 0.9854, Class 1: 0.4167, Class 2: 0.1117, Class 3: 0.2501, Class 4: 0.6192, Class 5: 0.3689, Class 6: 0.8742, \n",
      "Validation F-beta Score\n",
      "Class 0: 0.9846, Class 1: 0.5857, Class 2: 0.1602, Class 3: 0.3418, Class 4: 0.6424, Class 5: 0.3993, Class 6: 0.8902, \n",
      "Validation mIoU Score\n",
      "Class 0: 0.9712, Class 1: 0.2736, Class 2: 0.0593, Class 3: 0.1479, Class 4: 0.4499, Class 5: 0.2279, Class 6: 0.7782, \n",
      "\n",
      "Overall Mean Dice Score: 0.5058\n",
      "Overall Mean F-beta Score: 0.5719\n",
      "Overall Mean IoU Score: 0.3755\n",
      "Final_score: 0.4933\n",
      "Training Loss: 0.4432, Validation Loss: 0.4647, Validation hybrid_score: 0.4933\n",
      "========================================================\n",
      "SUPER Best model saved. Loss:0.4647, Score:0.4933\n",
      "========================================================\n",
      "Epoch 12/4000\n"
     ]
    },
    {
     "name": "stderr",
     "output_type": "stream",
     "text": [
      "Training: 100%|██████████| 132/132 [01:07<00:00,  1.96it/s, loss=0.43] \n",
      "Validation: 100%|██████████| 4/4 [00:01<00:00,  2.31it/s, loss=0.482]\n"
     ]
    },
    {
     "name": "stdout",
     "output_type": "stream",
     "text": [
      "Validation Dice Score\n",
      "Class 0: 0.9864, Class 1: 0.4562, Class 2: 0.1573, Class 3: 0.3918, Class 4: 0.6107, Class 5: 0.3546, Class 6: 0.8386, \n",
      "Validation F-beta Score\n",
      "Class 0: 0.9844, Class 1: 0.7313, Class 2: 0.1637, Class 3: 0.4573, Class 4: 0.6795, Class 5: 0.3242, Class 6: 0.9430, \n",
      "Validation mIoU Score\n",
      "Class 0: 0.9731, Class 1: 0.2972, Class 2: 0.0859, Class 3: 0.2488, Class 4: 0.4408, Class 5: 0.2176, Class 6: 0.7251, \n",
      "\n",
      "Overall Mean Dice Score: 0.5304\n",
      "Overall Mean F-beta Score: 0.6271\n",
      "Overall Mean IoU Score: 0.3859\n",
      "Final_score: 0.5306\n",
      "Training Loss: 0.4415, Validation Loss: 0.4654, Validation hybrid_score: 0.5306\n",
      "Epoch 13/4000\n"
     ]
    },
    {
     "name": "stderr",
     "output_type": "stream",
     "text": [
      "Training: 100%|██████████| 132/132 [01:08<00:00,  1.93it/s, loss=0.439]\n",
      "Validation: 100%|██████████| 4/4 [00:01<00:00,  2.25it/s, loss=0.466]\n"
     ]
    },
    {
     "name": "stdout",
     "output_type": "stream",
     "text": [
      "Validation Dice Score\n",
      "Class 0: 0.9864, Class 1: 0.3531, Class 2: 0.0901, Class 3: 0.3377, Class 4: 0.5419, Class 5: 0.2686, Class 6: 0.8302, \n",
      "Validation F-beta Score\n",
      "Class 0: 0.9877, Class 1: 0.5592, Class 2: 0.1394, Class 3: 0.4959, Class 4: 0.4776, Class 5: 0.2117, Class 6: 0.9047, \n",
      "Validation mIoU Score\n",
      "Class 0: 0.9733, Class 1: 0.2373, Class 2: 0.0474, Class 3: 0.2047, Class 4: 0.3741, Class 5: 0.1564, Class 6: 0.7137, \n",
      "\n",
      "Overall Mean Dice Score: 0.4663\n",
      "Overall Mean F-beta Score: 0.5298\n",
      "Overall Mean IoU Score: 0.3373\n",
      "Final_score: 0.4528\n",
      "Training Loss: 0.4408, Validation Loss: 0.4648, Validation hybrid_score: 0.4528\n",
      "Epoch 14/4000\n"
     ]
    },
    {
     "name": "stderr",
     "output_type": "stream",
     "text": [
      "Training: 100%|██████████| 132/132 [01:08<00:00,  1.93it/s, loss=0.423]\n",
      "Validation: 100%|██████████| 4/4 [00:01<00:00,  2.28it/s, loss=0.458]\n"
     ]
    },
    {
     "name": "stdout",
     "output_type": "stream",
     "text": [
      "Validation Dice Score\n",
      "Class 0: 0.9837, Class 1: 0.4880, Class 2: 0.0946, Class 3: 0.4121, Class 4: 0.6601, Class 5: 0.3437, Class 6: 0.8568, \n",
      "Validation F-beta Score\n",
      "Class 0: 0.9855, Class 1: 0.7277, Class 2: 0.0973, Class 3: 0.4778, Class 4: 0.6160, Class 5: 0.3296, Class 6: 0.9194, \n",
      "Validation mIoU Score\n",
      "Class 0: 0.9679, Class 1: 0.3259, Class 2: 0.0505, Class 3: 0.2618, Class 4: 0.4931, Class 5: 0.2083, Class 6: 0.7508, \n",
      "\n",
      "Overall Mean Dice Score: 0.5522\n",
      "Overall Mean F-beta Score: 0.6141\n",
      "Overall Mean IoU Score: 0.4080\n",
      "Final_score: 0.5317\n",
      "Training Loss: 0.4387, Validation Loss: 0.4649, Validation hybrid_score: 0.5317\n",
      "Epoch 15/4000\n"
     ]
    },
    {
     "name": "stderr",
     "output_type": "stream",
     "text": [
      "Training: 100%|██████████| 132/132 [01:08<00:00,  1.91it/s, loss=0.415]\n",
      "Validation: 100%|██████████| 4/4 [00:01<00:00,  2.36it/s, loss=0.46] \n"
     ]
    },
    {
     "name": "stdout",
     "output_type": "stream",
     "text": [
      "Validation Dice Score\n",
      "Class 0: 0.9847, Class 1: 0.5020, Class 2: 0.1264, Class 3: 0.2572, Class 4: 0.6764, Class 5: 0.3408, Class 6: 0.8430, \n",
      "Validation F-beta Score\n",
      "Class 0: 0.9823, Class 1: 0.7517, Class 2: 0.1657, Class 3: 0.5063, Class 4: 0.6846, Class 5: 0.3173, Class 6: 0.9036, \n",
      "Validation mIoU Score\n",
      "Class 0: 0.9698, Class 1: 0.3352, Class 2: 0.0685, Class 3: 0.1491, Class 4: 0.5118, Class 5: 0.2054, Class 6: 0.7298, \n",
      "\n",
      "Overall Mean Dice Score: 0.5239\n",
      "Overall Mean F-beta Score: 0.6327\n",
      "Overall Mean IoU Score: 0.3863\n",
      "Final_score: 0.5341\n",
      "Training Loss: 0.4362, Validation Loss: 0.4609, Validation hybrid_score: 0.5341\n",
      "========================================================\n",
      "SUPER Best model saved. Loss:0.4609, Score:0.5341\n",
      "========================================================\n",
      "Epoch 16/4000\n"
     ]
    },
    {
     "name": "stderr",
     "output_type": "stream",
     "text": [
      "Training: 100%|██████████| 132/132 [01:06<00:00,  1.98it/s, loss=0.416]\n",
      "Validation: 100%|██████████| 4/4 [00:01<00:00,  2.24it/s, loss=0.463]\n"
     ]
    },
    {
     "name": "stdout",
     "output_type": "stream",
     "text": [
      "Validation Dice Score\n",
      "Class 0: 0.9847, Class 1: 0.5786, Class 2: 0.0811, Class 3: 0.2585, Class 4: 0.6996, Class 5: 0.4292, Class 6: 0.8710, \n",
      "Validation F-beta Score\n",
      "Class 0: 0.9830, Class 1: 0.6904, Class 2: 0.1076, Class 3: 0.3924, Class 4: 0.7143, Class 5: 0.4319, Class 6: 0.9356, \n",
      "Validation mIoU Score\n",
      "Class 0: 0.9699, Class 1: 0.4231, Class 2: 0.0437, Class 3: 0.1504, Class 4: 0.5387, Class 5: 0.2739, Class 6: 0.7719, \n",
      "\n",
      "Overall Mean Dice Score: 0.5674\n",
      "Overall Mean F-beta Score: 0.6329\n",
      "Overall Mean IoU Score: 0.4316\n",
      "Final_score: 0.5524\n",
      "Training Loss: 0.4353, Validation Loss: 0.4567, Validation hybrid_score: 0.5524\n",
      "========================================================\n",
      "SUPER Best model saved. Loss:0.4567, Score:0.5524\n",
      "========================================================\n",
      "Epoch 17/4000\n"
     ]
    },
    {
     "name": "stderr",
     "output_type": "stream",
     "text": [
      "Training: 100%|██████████| 132/132 [01:17<00:00,  1.71it/s, loss=0.411]\n",
      "Validation: 100%|██████████| 4/4 [00:01<00:00,  2.28it/s, loss=0.446]\n"
     ]
    },
    {
     "name": "stdout",
     "output_type": "stream",
     "text": [
      "Validation Dice Score\n",
      "Class 0: 0.9868, Class 1: 0.5081, Class 2: 0.1941, Class 3: 0.4166, Class 4: 0.6957, Class 5: 0.3931, Class 6: 0.8470, \n",
      "Validation F-beta Score\n",
      "Class 0: 0.9850, Class 1: 0.7735, Class 2: 0.1976, Class 3: 0.5099, Class 4: 0.7138, Class 5: 0.4113, Class 6: 0.9035, \n",
      "Validation mIoU Score\n",
      "Class 0: 0.9740, Class 1: 0.3415, Class 2: 0.1084, Class 3: 0.2636, Class 4: 0.5359, Class 5: 0.2454, Class 6: 0.7392, \n",
      "\n",
      "Overall Mean Dice Score: 0.5721\n",
      "Overall Mean F-beta Score: 0.6624\n",
      "Overall Mean IoU Score: 0.4251\n",
      "Final_score: 0.5675\n",
      "Training Loss: 0.4342, Validation Loss: 0.4472, Validation hybrid_score: 0.5675\n",
      "========================================================\n",
      "SUPER Best model saved. Loss:0.4472, Score:0.5675\n",
      "========================================================\n",
      "Epoch 18/4000\n"
     ]
    },
    {
     "name": "stderr",
     "output_type": "stream",
     "text": [
      "Training: 100%|██████████| 132/132 [01:09<00:00,  1.90it/s, loss=0.41] \n",
      "Validation: 100%|██████████| 4/4 [00:01<00:00,  2.26it/s, loss=0.431]\n"
     ]
    },
    {
     "name": "stdout",
     "output_type": "stream",
     "text": [
      "Validation Dice Score\n",
      "Class 0: 0.9867, Class 1: 0.5829, Class 2: 0.1663, Class 3: 0.4244, Class 4: 0.6842, Class 5: 0.4184, Class 6: 0.8808, \n",
      "Validation F-beta Score\n",
      "Class 0: 0.9829, Class 1: 0.7604, Class 2: 0.1707, Class 3: 0.5462, Class 4: 0.7810, Class 5: 0.4652, Class 6: 0.8964, \n",
      "Validation mIoU Score\n",
      "Class 0: 0.9737, Class 1: 0.4180, Class 2: 0.0913, Class 3: 0.2702, Class 4: 0.5204, Class 5: 0.2660, Class 6: 0.7877, \n",
      "\n",
      "Overall Mean Dice Score: 0.5981\n",
      "Overall Mean F-beta Score: 0.6898\n",
      "Overall Mean IoU Score: 0.4525\n",
      "Final_score: 0.5949\n",
      "Training Loss: 0.4329, Validation Loss: 0.4403, Validation hybrid_score: 0.5949\n",
      "========================================================\n",
      "SUPER Best model saved. Loss:0.4403, Score:0.5949\n",
      "========================================================\n",
      "Epoch 19/4000\n"
     ]
    },
    {
     "name": "stderr",
     "output_type": "stream",
     "text": [
      "Training: 100%|██████████| 132/132 [01:10<00:00,  1.88it/s, loss=0.423]\n",
      "Validation: 100%|██████████| 4/4 [00:01<00:00,  2.29it/s, loss=0.456]\n"
     ]
    },
    {
     "name": "stdout",
     "output_type": "stream",
     "text": [
      "Validation Dice Score\n",
      "Class 0: 0.9851, Class 1: 0.6168, Class 2: 0.1684, Class 3: 0.4202, Class 4: 0.7082, Class 5: 0.3880, Class 6: 0.7703, \n",
      "Validation F-beta Score\n",
      "Class 0: 0.9854, Class 1: 0.7989, Class 2: 0.1504, Class 3: 0.5227, Class 4: 0.6577, Class 5: 0.3886, Class 6: 0.8571, \n",
      "Validation mIoU Score\n",
      "Class 0: 0.9707, Class 1: 0.4540, Class 2: 0.0952, Class 3: 0.2668, Class 4: 0.5504, Class 5: 0.2423, Class 6: 0.6506, \n",
      "\n",
      "Overall Mean Dice Score: 0.5807\n",
      "Overall Mean F-beta Score: 0.6450\n",
      "Overall Mean IoU Score: 0.4328\n",
      "Final_score: 0.5601\n",
      "Training Loss: 0.4305, Validation Loss: 0.4454, Validation hybrid_score: 0.5601\n",
      "Epoch 20/4000\n"
     ]
    },
    {
     "name": "stderr",
     "output_type": "stream",
     "text": [
      "Training: 100%|██████████| 132/132 [01:07<00:00,  1.96it/s, loss=0.417]\n",
      "Validation: 100%|██████████| 4/4 [00:01<00:00,  2.34it/s, loss=0.456]\n"
     ]
    },
    {
     "name": "stdout",
     "output_type": "stream",
     "text": [
      "Validation Dice Score\n",
      "Class 0: 0.9859, Class 1: 0.5673, Class 2: 0.1521, Class 3: 0.3354, Class 4: 0.7392, Class 5: 0.3900, Class 6: 0.8620, \n",
      "Validation F-beta Score\n",
      "Class 0: 0.9842, Class 1: 0.7732, Class 2: 0.1840, Class 3: 0.5156, Class 4: 0.7480, Class 5: 0.3661, Class 6: 0.9316, \n",
      "Validation mIoU Score\n",
      "Class 0: 0.9722, Class 1: 0.3969, Class 2: 0.0846, Class 3: 0.2053, Class 4: 0.5869, Class 5: 0.2425, Class 6: 0.7587, \n",
      "\n",
      "Overall Mean Dice Score: 0.5788\n",
      "Overall Mean F-beta Score: 0.6669\n",
      "Overall Mean IoU Score: 0.4381\n",
      "Final_score: 0.5754\n",
      "Training Loss: 0.4308, Validation Loss: 0.4528, Validation hybrid_score: 0.5754\n",
      "Epoch 21/4000\n"
     ]
    },
    {
     "name": "stderr",
     "output_type": "stream",
     "text": [
      "Training: 100%|██████████| 132/132 [01:07<00:00,  1.95it/s, loss=0.407]\n",
      "Validation: 100%|██████████| 4/4 [00:01<00:00,  2.26it/s, loss=0.46] \n"
     ]
    },
    {
     "name": "stdout",
     "output_type": "stream",
     "text": [
      "Validation Dice Score\n",
      "Class 0: 0.9846, Class 1: 0.4150, Class 2: 0.0550, Class 3: 0.4415, Class 4: 0.6681, Class 5: 0.4322, Class 6: 0.8433, \n",
      "Validation F-beta Score\n",
      "Class 0: 0.9881, Class 1: 0.7552, Class 2: 0.0506, Class 3: 0.5135, Class 4: 0.5848, Class 5: 0.3780, Class 6: 0.8919, \n",
      "Validation mIoU Score\n",
      "Class 0: 0.9696, Class 1: 0.2715, Class 2: 0.0298, Class 3: 0.2845, Class 4: 0.5041, Class 5: 0.2771, Class 6: 0.7318, \n",
      "\n",
      "Overall Mean Dice Score: 0.5600\n",
      "Overall Mean F-beta Score: 0.6247\n",
      "Overall Mean IoU Score: 0.4138\n",
      "Final_score: 0.5403\n",
      "Training Loss: 0.4297, Validation Loss: 0.4488, Validation hybrid_score: 0.5403\n",
      "Epoch 22/4000\n"
     ]
    },
    {
     "name": "stderr",
     "output_type": "stream",
     "text": [
      "Training: 100%|██████████| 132/132 [01:09<00:00,  1.90it/s, loss=0.416]\n",
      "Validation: 100%|██████████| 4/4 [00:01<00:00,  2.26it/s, loss=0.465]\n"
     ]
    },
    {
     "name": "stdout",
     "output_type": "stream",
     "text": [
      "Validation Dice Score\n",
      "Class 0: 0.9870, Class 1: 0.5807, Class 2: 0.1527, Class 3: 0.3772, Class 4: 0.6226, Class 5: 0.2756, Class 6: 0.8682, \n",
      "Validation F-beta Score\n",
      "Class 0: 0.9849, Class 1: 0.7829, Class 2: 0.1396, Class 3: 0.4448, Class 4: 0.6690, Class 5: 0.3149, Class 6: 0.9256, \n",
      "Validation mIoU Score\n",
      "Class 0: 0.9743, Class 1: 0.4135, Class 2: 0.0830, Class 3: 0.2356, Class 4: 0.4620, Class 5: 0.1604, Class 6: 0.7683, \n",
      "\n",
      "Overall Mean Dice Score: 0.5449\n",
      "Overall Mean F-beta Score: 0.6274\n",
      "Overall Mean IoU Score: 0.4080\n",
      "Final_score: 0.5397\n",
      "Training Loss: 0.4310, Validation Loss: 0.4507, Validation hybrid_score: 0.5397\n",
      "Epoch 23/4000\n"
     ]
    },
    {
     "name": "stderr",
     "output_type": "stream",
     "text": [
      "Training: 100%|██████████| 132/132 [01:08<00:00,  1.91it/s, loss=0.397]\n",
      "Validation: 100%|██████████| 4/4 [00:01<00:00,  2.20it/s, loss=0.444]\n"
     ]
    },
    {
     "name": "stdout",
     "output_type": "stream",
     "text": [
      "Validation Dice Score\n",
      "Class 0: 0.9881, Class 1: 0.5486, Class 2: 0.0932, Class 3: 0.4049, Class 4: 0.7042, Class 5: 0.4339, Class 6: 0.8356, \n",
      "Validation F-beta Score\n",
      "Class 0: 0.9870, Class 1: 0.7792, Class 2: 0.1136, Class 3: 0.4631, Class 4: 0.6799, Class 5: 0.4175, Class 6: 0.9382, \n",
      "Validation mIoU Score\n",
      "Class 0: 0.9764, Class 1: 0.3836, Class 2: 0.0498, Class 3: 0.2577, Class 4: 0.5452, Class 5: 0.2779, Class 6: 0.7228, \n",
      "\n",
      "Overall Mean Dice Score: 0.5855\n",
      "Overall Mean F-beta Score: 0.6556\n",
      "Overall Mean IoU Score: 0.4375\n",
      "Final_score: 0.5683\n",
      "Training Loss: 0.4319, Validation Loss: 0.4405, Validation hybrid_score: 0.5683\n",
      "Epoch 24/4000\n"
     ]
    },
    {
     "name": "stderr",
     "output_type": "stream",
     "text": [
      "Training: 100%|██████████| 132/132 [01:08<00:00,  1.92it/s, loss=0.411]\n",
      "Validation: 100%|██████████| 4/4 [00:01<00:00,  2.25it/s, loss=0.435]\n"
     ]
    },
    {
     "name": "stdout",
     "output_type": "stream",
     "text": [
      "Validation Dice Score\n",
      "Class 0: 0.9853, Class 1: 0.5392, Class 2: 0.0729, Class 3: 0.4221, Class 4: 0.6916, Class 5: 0.5181, Class 6: 0.7348, \n",
      "Validation F-beta Score\n",
      "Class 0: 0.9843, Class 1: 0.8003, Class 2: 0.0706, Class 3: 0.5253, Class 4: 0.6979, Class 5: 0.4896, Class 6: 0.8747, \n",
      "Validation mIoU Score\n",
      "Class 0: 0.9710, Class 1: 0.3748, Class 2: 0.0387, Class 3: 0.2681, Class 4: 0.5310, Class 5: 0.3496, Class 6: 0.5889, \n",
      "\n",
      "Overall Mean Dice Score: 0.5811\n",
      "Overall Mean F-beta Score: 0.6776\n",
      "Overall Mean IoU Score: 0.4225\n",
      "Final_score: 0.5755\n",
      "Training Loss: 0.4273, Validation Loss: 0.4479, Validation hybrid_score: 0.5755\n",
      "Epoch 25/4000\n"
     ]
    },
    {
     "name": "stderr",
     "output_type": "stream",
     "text": [
      "Training: 100%|██████████| 132/132 [01:07<00:00,  1.94it/s, loss=0.395]\n",
      "Validation: 100%|██████████| 4/4 [00:01<00:00,  2.32it/s, loss=0.454]\n"
     ]
    },
    {
     "name": "stdout",
     "output_type": "stream",
     "text": [
      "Validation Dice Score\n",
      "Class 0: 0.9843, Class 1: 0.5547, Class 2: 0.0865, Class 3: 0.3499, Class 4: 0.6779, Class 5: 0.4271, Class 6: 0.8285, \n",
      "Validation F-beta Score\n",
      "Class 0: 0.9805, Class 1: 0.7516, Class 2: 0.1199, Class 3: 0.5238, Class 4: 0.7107, Class 5: 0.4668, Class 6: 0.8965, \n",
      "Validation mIoU Score\n",
      "Class 0: 0.9691, Class 1: 0.3856, Class 2: 0.0458, Class 3: 0.2136, Class 4: 0.5142, Class 5: 0.2731, Class 6: 0.7077, \n",
      "\n",
      "Overall Mean Dice Score: 0.5676\n",
      "Overall Mean F-beta Score: 0.6699\n",
      "Overall Mean IoU Score: 0.4189\n",
      "Final_score: 0.5695\n",
      "Training Loss: 0.4287, Validation Loss: 0.4503, Validation hybrid_score: 0.5695\n",
      "Epoch 26/4000\n"
     ]
    },
    {
     "name": "stderr",
     "output_type": "stream",
     "text": [
      "Training: 100%|██████████| 132/132 [01:09<00:00,  1.89it/s, loss=0.413]\n",
      "Validation: 100%|██████████| 4/4 [00:01<00:00,  2.30it/s, loss=0.453]\n"
     ]
    },
    {
     "name": "stdout",
     "output_type": "stream",
     "text": [
      "Validation Dice Score\n",
      "Class 0: 0.9864, Class 1: 0.5431, Class 2: 0.1289, Class 3: 0.4008, Class 4: 0.7019, Class 5: 0.3884, Class 6: 0.8862, \n",
      "Validation F-beta Score\n",
      "Class 0: 0.9856, Class 1: 0.7409, Class 2: 0.1551, Class 3: 0.4896, Class 4: 0.6763, Class 5: 0.4164, Class 6: 0.9314, \n",
      "Validation mIoU Score\n",
      "Class 0: 0.9732, Class 1: 0.3870, Class 2: 0.0696, Class 3: 0.2529, Class 4: 0.5415, Class 5: 0.2449, Class 6: 0.7960, \n",
      "\n",
      "Overall Mean Dice Score: 0.5841\n",
      "Overall Mean F-beta Score: 0.6509\n",
      "Overall Mean IoU Score: 0.4444\n",
      "Final_score: 0.5683\n",
      "Training Loss: 0.4265, Validation Loss: 0.4555, Validation hybrid_score: 0.5683\n",
      "Epoch 27/4000\n"
     ]
    },
    {
     "name": "stderr",
     "output_type": "stream",
     "text": [
      "Training: 100%|██████████| 132/132 [01:06<00:00,  1.97it/s, loss=0.41] \n",
      "Validation: 100%|██████████| 4/4 [00:01<00:00,  2.36it/s, loss=0.444]"
     ]
    },
    {
     "name": "stdout",
     "output_type": "stream",
     "text": [
      "Validation Dice Score\n",
      "Class 0: 0.9863, Class 1: 0.4420, Class 2: 0.0731, Class 3: 0.4040, Class 4: 0.6748, Class 5: 0.3678, Class 6: 0.7670, \n",
      "Validation F-beta Score\n",
      "Class 0: 0.9891, Class 1: 0.6442, Class 2: 0.0724, Class 3: 0.4381, Class 4: 0.5997, Class 5: 0.3261, Class 6: 0.8385, \n",
      "Validation mIoU Score\n",
      "Class 0: 0.9730, Class 1: 0.2929, Class 2: 0.0396, Class 3: 0.2534, Class 4: 0.5133, Class 5: 0.2257, Class 6: 0.6308, \n",
      "\n",
      "Overall Mean Dice Score: 0.5311\n",
      "Overall Mean F-beta Score: 0.5693\n",
      "Overall Mean IoU Score: 0.3832\n",
      "Final_score: 0.4949\n",
      "Training Loss: 0.4267, Validation Loss: 0.4587, Validation hybrid_score: 0.4949\n",
      "Early stopping\n"
     ]
    },
    {
     "name": "stderr",
     "output_type": "stream",
     "text": [
      "\n"
     ]
    },
    {
     "data": {
      "text/html": [],
      "text/plain": [
       "<IPython.core.display.HTML object>"
      ]
     },
     "metadata": {},
     "output_type": "display_data"
    },
    {
     "data": {
      "text/html": [
       "<br>    <style><br>        .wandb-row {<br>            display: flex;<br>            flex-direction: row;<br>            flex-wrap: wrap;<br>            justify-content: flex-start;<br>            width: 100%;<br>        }<br>        .wandb-col {<br>            display: flex;<br>            flex-direction: column;<br>            flex-basis: 100%;<br>            flex: 1;<br>            padding: 10px;<br>        }<br>    </style><br><div class=\"wandb-row\"><div class=\"wandb-col\"><h3>Run history:</h3><br/><table class=\"wandb\"><tr><td>class_0_IoU_score</td><td>▁▅▆▇▇▇█▇▇█████████▇████▇██▇</td></tr><tr><td>class_0_dice_score</td><td>▃▁▄▃▆▅▇▄▅▂▄▆▆▂▃▃▆▆▄▅▃▆█▄▃▆▆</td></tr><tr><td>class_0_f_beta_score</td><td>██▆▆▆▆▆▅▅▂▃▃▅▄▂▂▃▂▃▃▅▃▄▃▁▄▅</td></tr><tr><td>class_1_IoU_score</td><td>▁▅▆▇▇▇█▇▇█████████▇████▇██▇</td></tr><tr><td>class_1_dice_score</td><td>▁▁▁▁▂▃▄▆▄▅▆▆▅▇▇█▇██▇▆█▇▇▇▇▆</td></tr><tr><td>class_1_f_beta_score</td><td>▁▁▁▁▂▃▅▆▆▇▆▇▆▇█▇█████████▇▇</td></tr><tr><td>class_2_IoU_score</td><td>▁▅▆▇▇▇█▇▇█████████▇████▇██▇</td></tr><tr><td>class_2_dice_score</td><td>▁▁▁▁▁▄▅▄▄▅▅▇▄▄▆▄█▇▇▆▃▇▄▄▄▆▄</td></tr><tr><td>class_2_f_beta_score</td><td>▁▁▁▁▁▃▅▄▄▆▇▇▆▄▇▅█▇▆█▃▆▅▃▅▆▄</td></tr><tr><td>class_3_IoU_score</td><td>▁▅▆▇▇▇█▇▇█████████▇████▇██▇</td></tr><tr><td>class_3_dice_score</td><td>▁▂▃▄▅▆▄▄▆▆▅▇▆█▅▅███▆█▇▇█▇▇▇</td></tr><tr><td>class_3_f_beta_score</td><td>▁▁▃▄▇▇▅▅▅▆▅▇▇▇▇▆█████▇▇██▇▇</td></tr><tr><td>class_4_IoU_score</td><td>▁▅▆▇▇▇█▇▇█████████▇████▇██▇</td></tr><tr><td>class_4_dice_score</td><td>▁▁▅▅▆▄▇▆▇▇▆▆▅▇▇▇▇▇██▇▆▇▇▇▇▇</td></tr><tr><td>class_4_f_beta_score</td><td>▂▁▅▄▆▃▆▆▆▇▆▇▄▆▇▇▇█▇█▆▇▇▇▇▇▆</td></tr><tr><td>class_5_IoU_score</td><td>▁▅▆▇▇▇█▇▇█████████▇████▇██▇</td></tr><tr><td>class_5_dice_score</td><td>▁▂▄▄▂▃▄▆▄▅▆▆▄▆▆▇▆▇▆▆▇▅▇█▇▆▆</td></tr><tr><td>class_5_f_beta_score</td><td>▁▂▄▄▂▂▄▅▄▄▇▆▄▆▅▇▇█▇▆▆▅▇██▇▆</td></tr><tr><td>class_6_IoU_score</td><td>▁▅▆▇▇▇█▇▇█████████▇████▇██▇</td></tr><tr><td>class_6_dice_score</td><td>▁▅▇▇▇███▇▇██▇█████▇████▇▇█▇</td></tr><tr><td>class_6_f_beta_score</td><td>▁▅▆▇▇▇█▇▇█████████▇████▇██▇</td></tr><tr><td>epoch</td><td>▁▁▁▂▂▂▃▃▃▃▃▃▄▄▄▄▄▅▅▅▅▅▅▅▅▆▆▆▆▆▆▆▇▇▇▇▇▇▇█</td></tr><tr><td>final_score</td><td>▁▂▄▄▅▅▆▆▆▆▇▇▆▇▇▇████▇▇████▇</td></tr><tr><td>overall_mean_IoU_score</td><td>▁▂▄▅▅▅▆▆▆▆▇▇▆▇▇█████▇▇█▇▇█▇</td></tr><tr><td>overall_mean_dice_score</td><td>▁▂▄▅▅▅▆▆▆▆▇▇▆▇▇█████▇▇████▇</td></tr><tr><td>overall_mean_f_beta_score</td><td>▁▂▄▄▅▅▆▆▆▇▇▇▆▇▇▇██▇█▇▇████▇</td></tr><tr><td>train_epoch_loss</td><td>█▄▃▃▃▂▂▂▂▂▁▁▁▁▁▁▁▁▁▁▁▁▁▁▁▁▁</td></tr><tr><td>val_epoch_loss</td><td>█▇▅▅▄▄▃▃▃▃▂▂▂▂▂▂▁▁▁▂▁▂▁▁▂▂▂</td></tr></table><br/></div><div class=\"wandb-col\"><h3>Run summary:</h3><br/><table class=\"wandb\"><tr><td>class_0_IoU_score</td><td>0.83848</td></tr><tr><td>class_0_dice_score</td><td>0.98632</td></tr><tr><td>class_0_f_beta_score</td><td>0.98911</td></tr><tr><td>class_1_IoU_score</td><td>0.83848</td></tr><tr><td>class_1_dice_score</td><td>0.44202</td></tr><tr><td>class_1_f_beta_score</td><td>0.64423</td></tr><tr><td>class_2_IoU_score</td><td>0.83848</td></tr><tr><td>class_2_dice_score</td><td>0.07309</td></tr><tr><td>class_2_f_beta_score</td><td>0.0724</td></tr><tr><td>class_3_IoU_score</td><td>0.83848</td></tr><tr><td>class_3_dice_score</td><td>0.40401</td></tr><tr><td>class_3_f_beta_score</td><td>0.4381</td></tr><tr><td>class_4_IoU_score</td><td>0.83848</td></tr><tr><td>class_4_dice_score</td><td>0.67482</td></tr><tr><td>class_4_f_beta_score</td><td>0.59968</td></tr><tr><td>class_5_IoU_score</td><td>0.83848</td></tr><tr><td>class_5_dice_score</td><td>0.36777</td></tr><tr><td>class_5_f_beta_score</td><td>0.32609</td></tr><tr><td>class_6_IoU_score</td><td>0.83848</td></tr><tr><td>class_6_dice_score</td><td>0.76705</td></tr><tr><td>class_6_f_beta_score</td><td>0.83848</td></tr><tr><td>epoch</td><td>27</td></tr><tr><td>final_score</td><td>0.49488</td></tr><tr><td>overall_mean_IoU_score</td><td>0.38323</td></tr><tr><td>overall_mean_dice_score</td><td>0.53113</td></tr><tr><td>overall_mean_f_beta_score</td><td>0.56932</td></tr><tr><td>train_epoch_loss</td><td>0.42674</td></tr><tr><td>val_epoch_loss</td><td>0.45875</td></tr></table><br/></div></div>"
      ],
      "text/plain": [
       "<IPython.core.display.HTML object>"
      ]
     },
     "metadata": {},
     "output_type": "display_data"
    },
    {
     "data": {
      "text/html": [
       " View run <strong style=\"color:#cdcd00\">UNET_denoised_noGauss_f48_lr1e-03_a0.50_b16_r4_ce0.4_ac1</strong> at: <a href='https://wandb.ai/limbw/czii_UNet/runs/wwnc5eft' target=\"_blank\">https://wandb.ai/limbw/czii_UNet/runs/wwnc5eft</a><br> View project at: <a href='https://wandb.ai/limbw/czii_UNet' target=\"_blank\">https://wandb.ai/limbw/czii_UNet</a><br>Synced 5 W&B file(s), 0 media file(s), 0 artifact file(s) and 0 other file(s)"
      ],
      "text/plain": [
       "<IPython.core.display.HTML object>"
      ]
     },
     "metadata": {},
     "output_type": "display_data"
    },
    {
     "data": {
      "text/html": [
       "Find logs at: <code>.\\wandb\\run-20250123_140229-wwnc5eft\\logs</code>"
      ],
      "text/plain": [
       "<IPython.core.display.HTML object>"
      ]
     },
     "metadata": {},
     "output_type": "display_data"
    }
   ],
   "source": [
    "train_model(\n",
    "    model=model,\n",
    "    train_loader=train_loader,\n",
    "    val_loader=val_loader,\n",
    "    criterion=criterion,\n",
    "    optimizer=optimizer,\n",
    "    num_epochs=num_epochs,\n",
    "    patience=10,\n",
    "    device=device,\n",
    "    start_epoch=start_epoch,\n",
    "    best_val_loss=best_val_loss,\n",
    "    best_val_fbeta_score=best_val_fbeta_score,\n",
    "    calculate_dice_interval=1,\n",
    "    accumulation_steps = accumulation_steps,\n",
    "    pretrained=True,\n",
    "     ) "
   ]
  },
  {
   "cell_type": "code",
   "execution_count": 12,
   "metadata": {},
   "outputs": [
    {
     "ename": "SyntaxError",
     "evalue": "invalid syntax (4110802630.py, line 1)",
     "output_type": "error",
     "traceback": [
      "\u001b[1;36m  Cell \u001b[1;32mIn[12], line 1\u001b[1;36m\u001b[0m\n\u001b[1;33m    if\u001b[0m\n\u001b[1;37m      ^\u001b[0m\n\u001b[1;31mSyntaxError\u001b[0m\u001b[1;31m:\u001b[0m invalid syntax\n"
     ]
    }
   ],
   "source": [
    "if"
   ]
  },
  {
   "cell_type": "code",
   "execution_count": null,
   "metadata": {},
   "outputs": [
    {
     "name": "stderr",
     "output_type": "stream",
     "text": [
      "Loading dataset: 100%|██████████| 6/6 [00:00<00:00, 11.58it/s]\n",
      "Loading dataset: 100%|██████████| 1/1 [00:00<00:00, 10.50it/s]\n"
     ]
    },
    {
     "name": "stdout",
     "output_type": "stream",
     "text": [
      "torch.Size([16, 1, 32, 96, 96]) torch.Size([16, 1, 32, 96, 96])\n"
     ]
    }
   ],
   "source": [
    "# train_img_dir = './datasets/public_data/images'\n",
    "# train_label_dir = './datasets/public_data/labels'\n",
    "train_img_dir = './datasets/denoised_data/images'\n",
    "train_label_dir = './datasets/denoised_data/labels'\n",
    "\n",
    "train_loader, val_loader = None, None\n",
    "train_loader, val_loader = create_dataloaders_bw(\n",
    "    train_img_dir, \n",
    "    train_label_dir, \n",
    "    val_img_dir, \n",
    "    val_label_dir, \n",
    "    non_random_transforms = non_random_transforms, \n",
    "    val_non_random_transforms = non_random_transforms,\n",
    "    random_transforms = val_random_transforms, \n",
    "    val_random_transforms=val_random_transforms,\n",
    "    batch_size = loader_batch,\n",
    "    num_workers=0,\n",
    "    train_num_repeat=num_repeat\n",
    "    )\n",
    "\n",
    "batch = next(iter(val_loader))\n",
    "images, labels = batch[\"image\"], batch[\"label\"]\n",
    "print(images.shape, labels.shape)"
   ]
  },
  {
   "cell_type": "code",
   "execution_count": null,
   "metadata": {},
   "outputs": [],
   "source": [
    "torch.backends.cudnn.benchmark = True"
   ]
  },
  {
   "cell_type": "code",
   "execution_count": null,
   "metadata": {},
   "outputs": [
    {
     "name": "stdout",
     "output_type": "stream",
     "text": [
      "기존 best model 발견: model_checkpoints\\pre_UNET_511_241_prelu_instance_f48_lr1e-03_a0.52_b16_r4_ce0.4_ac1\\best_model_pretrained.pt\n",
      "기존 학습된 가중치를 성공적으로 로드했습니다.\n"
     ]
    },
    {
     "name": "stderr",
     "output_type": "stream",
     "text": [
      "C:\\Users\\pook0\\AppData\\Local\\Temp\\ipykernel_10444\\1145606841.py:6: FutureWarning: You are using `torch.load` with `weights_only=False` (the current default value), which uses the default pickle module implicitly. It is possible to construct malicious pickle data which will execute arbitrary code during unpickling (See https://github.com/pytorch/pytorch/blob/main/SECURITY.md#untrusted-models for more details). In a future release, the default value for `weights_only` will be flipped to `True`. This limits the functions that could be executed during unpickling. Arbitrary objects will no longer be allowed to be loaded via this mode unless they are explicitly allowlisted by the user via `torch.serialization.add_safe_globals`. We recommend you start setting `weights_only=True` for any use case where you don't have full control of the loaded file. Please open an issue on GitHub for any issues related to this experimental feature.\n",
      "  checkpoint = torch.load(best_model_path, map_location=device)\n"
     ]
    }
   ],
   "source": [
    "\n",
    "if checkpoint_dir.exists():\n",
    "    best_model_path = checkpoint_dir / 'best_model_pretrained.pt'\n",
    "    if best_model_path.exists():\n",
    "        print(f\"기존 best model 발견: {best_model_path}\")\n",
    "        try:\n",
    "            checkpoint = torch.load(best_model_path, map_location=device)\n",
    "            # 체크포인트 내부 키 검증\n",
    "            required_keys = ['model_state_dict', 'optimizer_state_dict', 'epoch', 'best_val_loss', 'best_val_fbeta_score']\n",
    "            if all(k in checkpoint for k in required_keys):\n",
    "                model.load_state_dict(checkpoint['model_state_dict'])\n",
    "                optimizer.load_state_dict(checkpoint['optimizer_state_dict'])\n",
    "                start_epoch = checkpoint['epoch']\n",
    "                best_val_loss = checkpoint['best_val_loss']\n",
    "                best_val_fbeta_score = checkpoint['best_val_fbeta_score']\n",
    "                print(\"기존 학습된 가중치를 성공적으로 로드했습니다.\")\n",
    "                checkpoint= None\n",
    "            else:\n",
    "                raise ValueError(\"체크포인트 파일에 필요한 key가 없습니다.\")\n",
    "        except Exception as e:\n",
    "            print(f\"체크포인트 파일을 로드하는 중 오류 발생: {e}\")\n",
    "            \n",
    "# lr = lr/2\n",
    "            \n",
    "# optimizer = optim.AdamW(model.parameters(), lr=lr, weight_decay=1e-5)\n",
    "# scheduler = torch.optim.lr_scheduler.ReduceLROnPlateau(optimizer, patience=5, factor=0.5)\n"
   ]
  },
  {
   "cell_type": "code",
   "execution_count": null,
   "metadata": {},
   "outputs": [
    {
     "name": "stderr",
     "output_type": "stream",
     "text": [
      "\u001b[34m\u001b[1mwandb\u001b[0m: Using wandb-core as the SDK backend.  Please refer to https://wandb.me/wandb-core for more information.\n",
      "\u001b[34m\u001b[1mwandb\u001b[0m: Currently logged in as: \u001b[33mpook0612\u001b[0m (\u001b[33mlimbw\u001b[0m). Use \u001b[1m`wandb login --relogin`\u001b[0m to force relogin\n"
     ]
    },
    {
     "data": {
      "text/html": [
       "Tracking run with wandb version 0.19.1"
      ],
      "text/plain": [
       "<IPython.core.display.HTML object>"
      ]
     },
     "metadata": {},
     "output_type": "display_data"
    },
    {
     "data": {
      "text/html": [
       "Run data is saved locally in <code>d:\\Workspace\\czll\\wandb\\run-20250120_232730-o8iqln63</code>"
      ],
      "text/plain": [
       "<IPython.core.display.HTML object>"
      ]
     },
     "metadata": {},
     "output_type": "display_data"
    },
    {
     "data": {
      "text/html": [
       "Syncing run <strong><a href='https://wandb.ai/limbw/czii_UNet/runs/o8iqln63' target=\"_blank\">pre_UNET_511_241_prelu_instance_f48_lr1e-03_a0.52_b16_r4_ce0.4_ac1</a></strong> to <a href='https://wandb.ai/limbw/czii_UNet' target=\"_blank\">Weights & Biases</a> (<a href='https://wandb.me/developer-guide' target=\"_blank\">docs</a>)<br>"
      ],
      "text/plain": [
       "<IPython.core.display.HTML object>"
      ]
     },
     "metadata": {},
     "output_type": "display_data"
    },
    {
     "data": {
      "text/html": [
       " View project at <a href='https://wandb.ai/limbw/czii_UNet' target=\"_blank\">https://wandb.ai/limbw/czii_UNet</a>"
      ],
      "text/plain": [
       "<IPython.core.display.HTML object>"
      ]
     },
     "metadata": {},
     "output_type": "display_data"
    },
    {
     "data": {
      "text/html": [
       " View run at <a href='https://wandb.ai/limbw/czii_UNet/runs/o8iqln63' target=\"_blank\">https://wandb.ai/limbw/czii_UNet/runs/o8iqln63</a>"
      ],
      "text/plain": [
       "<IPython.core.display.HTML object>"
      ]
     },
     "metadata": {},
     "output_type": "display_data"
    }
   ],
   "source": [
    "import wandb\n",
    "from datetime import datetime\n",
    "\n",
    "current_time = datetime.now().strftime('%Y%m%d_%H%M%S')\n",
    "run_name = folder_name\n",
    "\n",
    "# wandb 초기화\n",
    "wandb.init(\n",
    "    project='czii_UNet',  # 프로젝트 이름 설정\n",
    "    name=run_name,         # 실행(run) 이름 설정\n",
    "    config={\n",
    "        'num_epochs': num_epochs,\n",
    "        'learning_rate': lr,\n",
    "        'batch_size': batch_size,\n",
    "        'lambda': lamda,\n",
    "        \"cross_entropy_weight\": ce_weight,\n",
    "        'feature_size': feature_size,\n",
    "        'img_size': img_size,\n",
    "        'sampling_ratio': ratios_list,\n",
    "        'device': device.type,\n",
    "        \"checkpoint_dir\": str(checkpoint_dir),\n",
    "        \"class_weights\": class_weights.tolist() if class_weights is not None else None,\n",
    "        # \"use_checkpoint\": use_checkpoint,\n",
    "        \"drop_rate\": drop_rate,\n",
    "        # \"attn_drop_rate\": attn_drop_rate,\n",
    "        # \"use_v2\": use_v2,\n",
    "        \"accumulation_steps\": accumulation_steps,\n",
    "        \"num_repeat\": num_repeat,\n",
    "        # \"num_bottleneck\": num_bottleneck,\n",
    "        \n",
    "        # 필요한 하이퍼파라미터 추가\n",
    "    }\n",
    ")\n",
    "# 모델을 wandb에 연결\n",
    "wandb.watch(model, log='all')"
   ]
  },
  {
   "cell_type": "code",
   "execution_count": null,
   "metadata": {},
   "outputs": [
    {
     "name": "stdout",
     "output_type": "stream",
     "text": [
      "Epoch 24/4000\n"
     ]
    },
    {
     "name": "stderr",
     "output_type": "stream",
     "text": [
      "Training: 100%|██████████| 24/24 [00:18<00:00,  1.28it/s, loss=0.463]\n",
      "Validation: 100%|██████████| 1/1 [00:00<00:00,  2.00it/s, loss=0.416]\n"
     ]
    },
    {
     "name": "stdout",
     "output_type": "stream",
     "text": [
      "Validation Dice Score\n",
      "Class 0: 0.9861, Class 1: 0.7892, Class 2: 0.1384, Class 3: 0.2843, Class 4: 0.6754, Class 5: 0.5236, Class 6: 0.8906, \n",
      "Validation F-beta Score\n",
      "Class 0: 0.9821, Class 1: 0.8506, Class 2: 0.1222, Class 3: 0.5436, Class 4: 0.7712, Class 5: 0.5610, Class 6: 0.9190, \n",
      "Validation mIoU Score\n",
      "Class 0: 0.9726, Class 1: 0.6518, Class 2: 0.0744, Class 3: 0.1657, Class 4: 0.5099, Class 5: 0.3546, Class 6: 0.8028, \n",
      "\n",
      "Overall Mean Dice Score: 0.6326\n",
      "Overall Mean F-beta Score: 0.7291\n",
      "Overall Mean IoU Score: 0.4970\n",
      "Final_score: 0.6362\n",
      "Training Loss: 0.4581, Validation Loss: 0.4156, Validation hybrid_score: 0.6362\n",
      "Epoch 25/4000\n"
     ]
    },
    {
     "name": "stderr",
     "output_type": "stream",
     "text": [
      "Training: 100%|██████████| 24/24 [00:13<00:00,  1.84it/s, loss=0.448]\n",
      "Validation: 100%|██████████| 1/1 [00:00<00:00,  2.08it/s, loss=0.447]\n"
     ]
    },
    {
     "name": "stdout",
     "output_type": "stream",
     "text": [
      "Validation Dice Score\n",
      "Class 0: 0.9841, Class 1: 0.7653, Class 2: 0.0000, Class 3: 0.3721, Class 4: 0.6556, Class 5: 0.3996, Class 6: 0.8798, \n",
      "Validation F-beta Score\n",
      "Class 0: 0.9825, Class 1: 0.9082, Class 2: 0.0000, Class 3: 0.6315, Class 4: 0.6796, Class 5: 0.3738, Class 6: 0.9255, \n",
      "Validation mIoU Score\n",
      "Class 0: 0.9687, Class 1: 0.6198, Class 2: 0.0000, Class 3: 0.2285, Class 4: 0.4877, Class 5: 0.2497, Class 6: 0.7854, \n",
      "\n",
      "Overall Mean Dice Score: 0.6145\n",
      "Overall Mean F-beta Score: 0.7037\n",
      "Overall Mean IoU Score: 0.4742\n",
      "Final_score: 0.6119\n",
      "Training Loss: 0.4565, Validation Loss: 0.4466, Validation hybrid_score: 0.6119\n",
      "Epoch 26/4000\n"
     ]
    },
    {
     "name": "stderr",
     "output_type": "stream",
     "text": [
      "Training: 100%|██████████| 24/24 [00:12<00:00,  1.90it/s, loss=0.443]\n",
      "Validation: 100%|██████████| 1/1 [00:00<00:00,  1.98it/s, loss=0.437]\n"
     ]
    },
    {
     "name": "stdout",
     "output_type": "stream",
     "text": [
      "Validation Dice Score\n",
      "Class 0: 0.9857, Class 1: 0.6677, Class 2: 0.2432, Class 3: 0.4317, Class 4: 0.7241, Class 5: 0.4007, Class 6: 0.7253, \n",
      "Validation F-beta Score\n",
      "Class 0: 0.9815, Class 1: 0.8626, Class 2: 0.2705, Class 3: 0.5610, Class 4: 0.7540, Class 5: 0.4719, Class 6: 0.9166, \n",
      "Validation mIoU Score\n",
      "Class 0: 0.9717, Class 1: 0.5012, Class 2: 0.1384, Class 3: 0.2752, Class 4: 0.5676, Class 5: 0.2506, Class 6: 0.5690, \n",
      "\n",
      "Overall Mean Dice Score: 0.5899\n",
      "Overall Mean F-beta Score: 0.7132\n",
      "Overall Mean IoU Score: 0.4327\n",
      "Final_score: 0.6010\n",
      "Training Loss: 0.4517, Validation Loss: 0.4368, Validation hybrid_score: 0.6010\n",
      "Epoch 27/4000\n"
     ]
    },
    {
     "name": "stderr",
     "output_type": "stream",
     "text": [
      "Training: 100%|██████████| 24/24 [00:12<00:00,  1.93it/s, loss=0.44] \n",
      "Validation: 100%|██████████| 1/1 [00:00<00:00,  2.21it/s, loss=0.465]\n"
     ]
    },
    {
     "name": "stdout",
     "output_type": "stream",
     "text": [
      "Validation Dice Score\n",
      "Class 0: 0.9861, Class 1: 0.6423, Class 2: 0.1735, Class 3: 0.3544, Class 4: 0.7264, Class 5: 0.3529, Class 6: 0.8893, \n",
      "Validation F-beta Score\n",
      "Class 0: 0.9805, Class 1: 0.8765, Class 2: 0.1555, Class 3: 0.4457, Class 4: 0.8178, Class 5: 0.5004, Class 6: 0.9350, \n",
      "Validation mIoU Score\n",
      "Class 0: 0.9726, Class 1: 0.4730, Class 2: 0.0950, Class 3: 0.2154, Class 4: 0.5704, Class 5: 0.2143, Class 6: 0.8006, \n",
      "\n",
      "Overall Mean Dice Score: 0.5931\n",
      "Overall Mean F-beta Score: 0.7151\n",
      "Overall Mean IoU Score: 0.4547\n",
      "Final_score: 0.6110\n",
      "Training Loss: 0.4493, Validation Loss: 0.4650, Validation hybrid_score: 0.6110\n",
      "Epoch 28/4000\n"
     ]
    },
    {
     "name": "stderr",
     "output_type": "stream",
     "text": [
      "Training: 100%|██████████| 24/24 [00:12<00:00,  1.88it/s, loss=0.466]\n",
      "Validation: 100%|██████████| 1/1 [00:00<00:00,  2.15it/s, loss=0.46]\n"
     ]
    },
    {
     "name": "stdout",
     "output_type": "stream",
     "text": [
      "Validation Dice Score\n",
      "Class 0: 0.9855, Class 1: 0.7329, Class 2: 0.1324, Class 3: 0.4713, Class 4: 0.6462, Class 5: 0.3896, Class 6: 0.7950, \n",
      "Validation F-beta Score\n",
      "Class 0: 0.9803, Class 1: 0.8632, Class 2: 0.1852, Class 3: 0.5573, Class 4: 0.7197, Class 5: 0.5180, Class 6: 0.8821, \n",
      "Validation mIoU Score\n",
      "Class 0: 0.9713, Class 1: 0.5783, Class 2: 0.0709, Class 3: 0.3083, Class 4: 0.4773, Class 5: 0.2419, Class 6: 0.6598, \n",
      "\n",
      "Overall Mean Dice Score: 0.6070\n",
      "Overall Mean F-beta Score: 0.7081\n",
      "Overall Mean IoU Score: 0.4531\n",
      "Final_score: 0.6061\n",
      "Training Loss: 0.4542, Validation Loss: 0.4599, Validation hybrid_score: 0.6061\n",
      "Epoch 29/4000\n"
     ]
    },
    {
     "name": "stderr",
     "output_type": "stream",
     "text": [
      "Training: 100%|██████████| 24/24 [00:12<00:00,  1.91it/s, loss=0.438]\n",
      "Validation: 100%|██████████| 1/1 [00:00<00:00,  1.89it/s, loss=0.443]\n"
     ]
    },
    {
     "name": "stdout",
     "output_type": "stream",
     "text": [
      "Validation Dice Score\n",
      "Class 0: 0.9880, Class 1: 0.7546, Class 2: 0.0000, Class 3: 0.4267, Class 4: 0.7971, Class 5: 0.3136, Class 6: 0.8921, \n",
      "Validation F-beta Score\n",
      "Class 0: 0.9861, Class 1: 0.8292, Class 2: 0.0000, Class 3: 0.5374, Class 4: 0.7933, Class 5: 0.3395, Class 6: 0.9456, \n",
      "Validation mIoU Score\n",
      "Class 0: 0.9763, Class 1: 0.6059, Class 2: 0.0000, Class 3: 0.2712, Class 4: 0.6627, Class 5: 0.1859, Class 6: 0.8053, \n",
      "\n",
      "Overall Mean Dice Score: 0.6368\n",
      "Overall Mean F-beta Score: 0.6890\n",
      "Overall Mean IoU Score: 0.5062\n",
      "Final_score: 0.6159\n",
      "Training Loss: 0.4479, Validation Loss: 0.4427, Validation hybrid_score: 0.6159\n",
      "Epoch 30/4000\n"
     ]
    },
    {
     "name": "stderr",
     "output_type": "stream",
     "text": [
      "Training: 100%|██████████| 24/24 [00:12<00:00,  1.92it/s, loss=0.455]\n",
      "Validation: 100%|██████████| 1/1 [00:00<00:00,  2.03it/s, loss=0.446]\n"
     ]
    },
    {
     "name": "stdout",
     "output_type": "stream",
     "text": [
      "Validation Dice Score\n",
      "Class 0: 0.9859, Class 1: 0.6384, Class 2: 0.2589, Class 3: 0.4340, Class 4: 0.7328, Class 5: 0.5233, Class 6: 0.7279, \n",
      "Validation F-beta Score\n",
      "Class 0: 0.9832, Class 1: 0.8493, Class 2: 0.2380, Class 3: 0.6191, Class 4: 0.7382, Class 5: 0.5817, Class 6: 0.9330, \n",
      "Validation mIoU Score\n",
      "Class 0: 0.9722, Class 1: 0.4689, Class 2: 0.1487, Class 3: 0.2772, Class 4: 0.5783, Class 5: 0.3544, Class 6: 0.5722, \n",
      "\n",
      "Overall Mean Dice Score: 0.6113\n",
      "Overall Mean F-beta Score: 0.7442\n",
      "Overall Mean IoU Score: 0.4502\n",
      "Final_score: 0.6266\n",
      "Training Loss: 0.4474, Validation Loss: 0.4461, Validation hybrid_score: 0.6266\n",
      "Epoch 31/4000\n"
     ]
    },
    {
     "name": "stderr",
     "output_type": "stream",
     "text": [
      "Training: 100%|██████████| 24/24 [00:12<00:00,  1.90it/s, loss=0.438]\n",
      "Validation: 100%|██████████| 1/1 [00:00<00:00,  2.13it/s, loss=0.406]\n"
     ]
    },
    {
     "name": "stdout",
     "output_type": "stream",
     "text": [
      "Validation Dice Score\n",
      "Class 0: 0.9881, Class 1: 0.7610, Class 2: 0.1258, Class 3: 0.5327, Class 4: 0.6596, Class 5: 0.5713, Class 6: 0.9161, \n",
      "Validation F-beta Score\n",
      "Class 0: 0.9861, Class 1: 0.8721, Class 2: 0.1185, Class 3: 0.5612, Class 4: 0.7402, Class 5: 0.5810, Class 6: 0.9411, \n",
      "Validation mIoU Score\n",
      "Class 0: 0.9766, Class 1: 0.6142, Class 2: 0.0671, Class 3: 0.3631, Class 4: 0.4921, Class 5: 0.3999, Class 6: 0.8451, \n",
      "\n",
      "Overall Mean Dice Score: 0.6881\n",
      "Overall Mean F-beta Score: 0.7391\n",
      "Overall Mean IoU Score: 0.5429\n",
      "Final_score: 0.6606\n",
      "Training Loss: 0.4472, Validation Loss: 0.4063, Validation hybrid_score: 0.6606\n",
      "========================================================\n",
      "SUPER Best model saved. Loss:0.4063, Score:0.6606\n",
      "========================================================\n",
      "Epoch 32/4000\n"
     ]
    },
    {
     "name": "stderr",
     "output_type": "stream",
     "text": [
      "Training: 100%|██████████| 24/24 [00:12<00:00,  1.90it/s, loss=0.448]\n",
      "Validation: 100%|██████████| 1/1 [00:00<00:00,  2.13it/s, loss=0.436]\n"
     ]
    },
    {
     "name": "stdout",
     "output_type": "stream",
     "text": [
      "Validation Dice Score\n",
      "Class 0: 0.9861, Class 1: 0.7491, Class 2: 0.1733, Class 3: 0.4829, Class 4: 0.6653, Class 5: 0.4754, Class 6: 0.7797, \n",
      "Validation F-beta Score\n",
      "Class 0: 0.9813, Class 1: 0.8632, Class 2: 0.1761, Class 3: 0.6894, Class 4: 0.7788, Class 5: 0.4964, Class 6: 0.9233, \n",
      "Validation mIoU Score\n",
      "Class 0: 0.9727, Class 1: 0.5988, Class 2: 0.0949, Class 3: 0.3183, Class 4: 0.4985, Class 5: 0.3118, Class 6: 0.6390, \n",
      "\n",
      "Overall Mean Dice Score: 0.6305\n",
      "Overall Mean F-beta Score: 0.7502\n",
      "Overall Mean IoU Score: 0.4733\n",
      "Final_score: 0.6395\n",
      "Training Loss: 0.4474, Validation Loss: 0.4362, Validation hybrid_score: 0.6395\n",
      "Epoch 33/4000\n"
     ]
    },
    {
     "name": "stderr",
     "output_type": "stream",
     "text": [
      "Training: 100%|██████████| 24/24 [00:12<00:00,  1.98it/s, loss=0.442]\n",
      "Validation: 100%|██████████| 1/1 [00:00<00:00,  2.12it/s, loss=0.433]\n"
     ]
    },
    {
     "name": "stdout",
     "output_type": "stream",
     "text": [
      "Validation Dice Score\n",
      "Class 0: 0.9856, Class 1: 0.7564, Class 2: 0.0044, Class 3: 0.5708, Class 4: 0.7542, Class 5: 0.5418, Class 6: 0.8340, \n",
      "Validation F-beta Score\n",
      "Class 0: 0.9812, Class 1: 0.8815, Class 2: 0.0084, Class 3: 0.6360, Class 4: 0.8604, Class 5: 0.5461, Class 6: 0.9060, \n",
      "Validation mIoU Score\n",
      "Class 0: 0.9715, Class 1: 0.6082, Class 2: 0.0022, Class 3: 0.3994, Class 4: 0.6054, Class 5: 0.3716, Class 6: 0.7152, \n",
      "\n",
      "Overall Mean Dice Score: 0.6915\n",
      "Overall Mean F-beta Score: 0.7660\n",
      "Overall Mean IoU Score: 0.5400\n",
      "Final_score: 0.6756\n",
      "Training Loss: 0.4497, Validation Loss: 0.4325, Validation hybrid_score: 0.6756\n",
      "Epoch 34/4000\n"
     ]
    },
    {
     "name": "stderr",
     "output_type": "stream",
     "text": [
      "Training: 100%|██████████| 24/24 [00:12<00:00,  1.95it/s, loss=0.464]\n",
      "Validation: 100%|██████████| 1/1 [00:00<00:00,  2.07it/s, loss=0.398]\n"
     ]
    },
    {
     "name": "stdout",
     "output_type": "stream",
     "text": [
      "Validation Dice Score\n",
      "Class 0: 0.9882, Class 1: 0.7685, Class 2: 0.3023, Class 3: 0.5044, Class 4: 0.6717, Class 5: 0.5806, Class 6: 0.8917, \n",
      "Validation F-beta Score\n",
      "Class 0: 0.9867, Class 1: 0.7719, Class 2: 0.2913, Class 3: 0.6230, Class 4: 0.6972, Class 5: 0.5690, Class 6: 0.9786, \n",
      "Validation mIoU Score\n",
      "Class 0: 0.9766, Class 1: 0.6241, Class 2: 0.1780, Class 3: 0.3373, Class 4: 0.5056, Class 5: 0.4090, Class 6: 0.8046, \n",
      "\n",
      "Overall Mean Dice Score: 0.6834\n",
      "Overall Mean F-beta Score: 0.7279\n",
      "Overall Mean IoU Score: 0.5361\n",
      "Final_score: 0.6512\n",
      "Training Loss: 0.4449, Validation Loss: 0.3977, Validation hybrid_score: 0.6512\n",
      "Epoch 35/4000\n"
     ]
    },
    {
     "name": "stderr",
     "output_type": "stream",
     "text": [
      "Training: 100%|██████████| 24/24 [00:12<00:00,  1.93it/s, loss=0.433]\n",
      "Validation: 100%|██████████| 1/1 [00:00<00:00,  1.91it/s, loss=0.428]\n"
     ]
    },
    {
     "name": "stdout",
     "output_type": "stream",
     "text": [
      "Validation Dice Score\n",
      "Class 0: 0.9843, Class 1: 0.7584, Class 2: 0.0142, Class 3: 0.5144, Class 4: 0.7112, Class 5: 0.4398, Class 6: 0.8371, \n",
      "Validation F-beta Score\n",
      "Class 0: 0.9784, Class 1: 0.8159, Class 2: 0.0412, Class 3: 0.8419, Class 4: 0.7350, Class 5: 0.6244, Class 6: 0.9171, \n",
      "Validation mIoU Score\n",
      "Class 0: 0.9692, Class 1: 0.6109, Class 2: 0.0072, Class 3: 0.3462, Class 4: 0.5519, Class 5: 0.2819, Class 6: 0.7199, \n",
      "\n",
      "Overall Mean Dice Score: 0.6522\n",
      "Overall Mean F-beta Score: 0.7869\n",
      "Overall Mean IoU Score: 0.5022\n",
      "Final_score: 0.6730\n",
      "Training Loss: 0.4469, Validation Loss: 0.4278, Validation hybrid_score: 0.6730\n",
      "Epoch 36/4000\n"
     ]
    },
    {
     "name": "stderr",
     "output_type": "stream",
     "text": [
      "Training: 100%|██████████| 24/24 [00:12<00:00,  1.92it/s, loss=0.466]\n",
      "Validation: 100%|██████████| 1/1 [00:00<00:00,  2.06it/s, loss=0.457]\n"
     ]
    },
    {
     "name": "stdout",
     "output_type": "stream",
     "text": [
      "Validation Dice Score\n",
      "Class 0: 0.9883, Class 1: 0.7069, Class 2: 0.0839, Class 3: 0.3803, Class 4: 0.5202, Class 5: 0.3762, Class 6: 0.9115, \n",
      "Validation F-beta Score\n",
      "Class 0: 0.9848, Class 1: 0.8214, Class 2: 0.2108, Class 3: 0.4488, Class 4: 0.5668, Class 5: 0.4516, Class 6: 0.9549, \n",
      "Validation mIoU Score\n",
      "Class 0: 0.9769, Class 1: 0.5467, Class 2: 0.0438, Class 3: 0.2348, Class 4: 0.3515, Class 5: 0.2317, Class 6: 0.8374, \n",
      "\n",
      "Overall Mean Dice Score: 0.5790\n",
      "Overall Mean F-beta Score: 0.6487\n",
      "Overall Mean IoU Score: 0.4404\n",
      "Final_score: 0.5654\n",
      "Training Loss: 0.4464, Validation Loss: 0.4568, Validation hybrid_score: 0.5654\n",
      "Epoch 37/4000\n"
     ]
    },
    {
     "name": "stderr",
     "output_type": "stream",
     "text": [
      "Training: 100%|██████████| 24/24 [00:12<00:00,  1.94it/s, loss=0.448]\n",
      "Validation: 100%|██████████| 1/1 [00:00<00:00,  2.10it/s, loss=0.448]\n"
     ]
    },
    {
     "name": "stdout",
     "output_type": "stream",
     "text": [
      "Validation Dice Score\n",
      "Class 0: 0.9863, Class 1: 0.7440, Class 2: 0.0036, Class 3: 0.4482, Class 4: 0.7549, Class 5: 0.3864, Class 6: 0.9018, \n",
      "Validation F-beta Score\n",
      "Class 0: 0.9798, Class 1: 0.9268, Class 2: 0.0046, Class 3: 0.5483, Class 4: 0.8325, Class 5: 0.5974, Class 6: 0.9401, \n",
      "Validation mIoU Score\n",
      "Class 0: 0.9730, Class 1: 0.5923, Class 2: 0.0018, Class 3: 0.2888, Class 4: 0.6062, Class 5: 0.2395, Class 6: 0.8212, \n",
      "\n",
      "Overall Mean Dice Score: 0.6471\n",
      "Overall Mean F-beta Score: 0.7690\n",
      "Overall Mean IoU Score: 0.5096\n",
      "Final_score: 0.6653\n",
      "Training Loss: 0.4444, Validation Loss: 0.4476, Validation hybrid_score: 0.6653\n",
      "Epoch 38/4000\n"
     ]
    },
    {
     "name": "stderr",
     "output_type": "stream",
     "text": [
      "Training: 100%|██████████| 24/24 [00:12<00:00,  1.90it/s, loss=0.416]\n",
      "Validation: 100%|██████████| 1/1 [00:00<00:00,  2.17it/s, loss=0.416]\n"
     ]
    },
    {
     "name": "stdout",
     "output_type": "stream",
     "text": [
      "Validation Dice Score\n",
      "Class 0: 0.9861, Class 1: 0.7852, Class 2: 0.3562, Class 3: 0.4940, Class 4: 0.6819, Class 5: 0.3317, Class 6: 0.8774, \n",
      "Validation F-beta Score\n",
      "Class 0: 0.9807, Class 1: 0.8784, Class 2: 0.3541, Class 3: 0.5859, Class 4: 0.7516, Class 5: 0.4622, Class 6: 0.9563, \n",
      "Validation mIoU Score\n",
      "Class 0: 0.9726, Class 1: 0.6464, Class 2: 0.2167, Class 3: 0.3280, Class 4: 0.5173, Class 5: 0.1988, Class 6: 0.7816, \n",
      "\n",
      "Overall Mean Dice Score: 0.6340\n",
      "Overall Mean F-beta Score: 0.7269\n",
      "Overall Mean IoU Score: 0.4944\n",
      "Final_score: 0.6339\n",
      "Training Loss: 0.4463, Validation Loss: 0.4158, Validation hybrid_score: 0.6339\n",
      "Epoch 39/4000\n"
     ]
    },
    {
     "name": "stderr",
     "output_type": "stream",
     "text": [
      "Training: 100%|██████████| 24/24 [00:12<00:00,  1.95it/s, loss=0.458]\n",
      "Validation: 100%|██████████| 1/1 [00:00<00:00,  2.14it/s, loss=0.448]\n"
     ]
    },
    {
     "name": "stdout",
     "output_type": "stream",
     "text": [
      "Validation Dice Score\n",
      "Class 0: 0.9810, Class 1: 0.7184, Class 2: 0.0000, Class 3: 0.4887, Class 4: 0.6849, Class 5: 0.4235, Class 6: 0.8277, \n",
      "Validation F-beta Score\n",
      "Class 0: 0.9761, Class 1: 0.8737, Class 2: 0.0000, Class 3: 0.5683, Class 4: 0.7410, Class 5: 0.4824, Class 6: 0.9397, \n",
      "Validation mIoU Score\n",
      "Class 0: 0.9628, Class 1: 0.5605, Class 2: 0.0000, Class 3: 0.3234, Class 4: 0.5208, Class 5: 0.2686, Class 6: 0.7060, \n",
      "\n",
      "Overall Mean Dice Score: 0.6286\n",
      "Overall Mean F-beta Score: 0.7210\n",
      "Overall Mean IoU Score: 0.4759\n",
      "Final_score: 0.6230\n",
      "Training Loss: 0.4471, Validation Loss: 0.4478, Validation hybrid_score: 0.6230\n",
      "Epoch 40/4000\n"
     ]
    },
    {
     "name": "stderr",
     "output_type": "stream",
     "text": [
      "Training: 100%|██████████| 24/24 [00:12<00:00,  1.94it/s, loss=0.439]\n",
      "Validation: 100%|██████████| 1/1 [00:00<00:00,  2.12it/s, loss=0.436]\n"
     ]
    },
    {
     "name": "stdout",
     "output_type": "stream",
     "text": [
      "Validation Dice Score\n",
      "Class 0: 0.9858, Class 1: 0.6714, Class 2: 0.1660, Class 3: 0.4393, Class 4: 0.7141, Class 5: 0.5040, Class 6: 0.9023, \n",
      "Validation F-beta Score\n",
      "Class 0: 0.9827, Class 1: 0.8924, Class 2: 0.3209, Class 3: 0.5909, Class 4: 0.7191, Class 5: 0.5588, Class 6: 0.9498, \n",
      "Validation mIoU Score\n",
      "Class 0: 0.9720, Class 1: 0.5054, Class 2: 0.0905, Class 3: 0.2815, Class 4: 0.5553, Class 5: 0.3369, Class 6: 0.8220, \n",
      "\n",
      "Overall Mean Dice Score: 0.6462\n",
      "Overall Mean F-beta Score: 0.7422\n",
      "Overall Mean IoU Score: 0.5002\n",
      "Final_score: 0.6454\n",
      "Training Loss: 0.4419, Validation Loss: 0.4359, Validation hybrid_score: 0.6454\n",
      "Epoch 41/4000\n"
     ]
    },
    {
     "name": "stderr",
     "output_type": "stream",
     "text": [
      "Training: 100%|██████████| 24/24 [00:12<00:00,  1.91it/s, loss=0.447]\n",
      "Validation: 100%|██████████| 1/1 [00:00<00:00,  2.05it/s, loss=0.441]\n"
     ]
    },
    {
     "name": "stdout",
     "output_type": "stream",
     "text": [
      "Validation Dice Score\n",
      "Class 0: 0.9821, Class 1: 0.7561, Class 2: 0.2258, Class 3: 0.6748, Class 4: 0.7600, Class 5: 0.5155, Class 6: 0.6501, \n",
      "Validation F-beta Score\n",
      "Class 0: 0.9804, Class 1: 0.8843, Class 2: 0.2102, Class 3: 0.7025, Class 4: 0.7272, Class 5: 0.6496, Class 6: 0.9255, \n",
      "Validation mIoU Score\n",
      "Class 0: 0.9649, Class 1: 0.6079, Class 2: 0.1273, Class 3: 0.5093, Class 4: 0.6129, Class 5: 0.3473, Class 6: 0.4816, \n",
      "\n",
      "Overall Mean Dice Score: 0.6713\n",
      "Overall Mean F-beta Score: 0.7778\n",
      "Overall Mean IoU Score: 0.5118\n",
      "Final_score: 0.6714\n",
      "Training Loss: 0.4501, Validation Loss: 0.4407, Validation hybrid_score: 0.6714\n",
      "Epoch 42/4000\n"
     ]
    },
    {
     "name": "stderr",
     "output_type": "stream",
     "text": [
      "Training: 100%|██████████| 24/24 [00:12<00:00,  1.93it/s, loss=0.444]\n",
      "Validation: 100%|██████████| 1/1 [00:00<00:00,  2.14it/s, loss=0.42]\n"
     ]
    },
    {
     "name": "stdout",
     "output_type": "stream",
     "text": [
      "Validation Dice Score\n",
      "Class 0: 0.9881, Class 1: 0.7902, Class 2: 0.4311, Class 3: 0.4878, Class 4: 0.7480, Class 5: 0.5388, Class 6: 0.8448, \n",
      "Validation F-beta Score\n",
      "Class 0: 0.9849, Class 1: 0.8801, Class 2: 0.3553, Class 3: 0.6220, Class 4: 0.7847, Class 5: 0.6097, Class 6: 0.9187, \n",
      "Validation mIoU Score\n",
      "Class 0: 0.9765, Class 1: 0.6532, Class 2: 0.2748, Class 3: 0.3225, Class 4: 0.5974, Class 5: 0.3687, Class 6: 0.7314, \n",
      "\n",
      "Overall Mean Dice Score: 0.6819\n",
      "Overall Mean F-beta Score: 0.7631\n",
      "Overall Mean IoU Score: 0.5346\n",
      "Final_score: 0.6717\n",
      "Training Loss: 0.4453, Validation Loss: 0.4204, Validation hybrid_score: 0.6717\n",
      "Epoch 43/4000\n"
     ]
    },
    {
     "name": "stderr",
     "output_type": "stream",
     "text": [
      "Training: 100%|██████████| 24/24 [00:12<00:00,  1.98it/s, loss=0.435]\n",
      "Validation: 100%|██████████| 1/1 [00:00<00:00,  2.05it/s, loss=0.437]\n"
     ]
    },
    {
     "name": "stdout",
     "output_type": "stream",
     "text": [
      "Validation Dice Score\n",
      "Class 0: 0.9851, Class 1: 0.7074, Class 2: 0.0676, Class 3: 0.6236, Class 4: 0.5749, Class 5: 0.5061, Class 6: 0.9337, \n",
      "Validation F-beta Score\n",
      "Class 0: 0.9806, Class 1: 0.8494, Class 2: 0.0817, Class 3: 0.7487, Class 4: 0.7149, Class 5: 0.5674, Class 6: 0.9492, \n",
      "Validation mIoU Score\n",
      "Class 0: 0.9707, Class 1: 0.5473, Class 2: 0.0350, Class 3: 0.4530, Class 4: 0.4034, Class 5: 0.3387, Class 6: 0.8756, \n",
      "\n",
      "Overall Mean Dice Score: 0.6691\n",
      "Overall Mean F-beta Score: 0.7659\n",
      "Overall Mean IoU Score: 0.5236\n",
      "Final_score: 0.6690\n",
      "Training Loss: 0.4442, Validation Loss: 0.4367, Validation hybrid_score: 0.6690\n",
      "Epoch 44/4000\n"
     ]
    },
    {
     "name": "stderr",
     "output_type": "stream",
     "text": [
      "Training: 100%|██████████| 24/24 [00:11<00:00,  2.01it/s, loss=0.424]\n",
      "Validation: 100%|██████████| 1/1 [00:00<00:00,  2.08it/s, loss=0.454]\n"
     ]
    },
    {
     "name": "stdout",
     "output_type": "stream",
     "text": [
      "Validation Dice Score\n",
      "Class 0: 0.9871, Class 1: 0.7215, Class 2: 0.3046, Class 3: 0.5272, Class 4: 0.7722, Class 5: 0.2571, Class 6: 0.7776, \n",
      "Validation F-beta Score\n",
      "Class 0: 0.9825, Class 1: 0.8143, Class 2: 0.2403, Class 3: 0.7840, Class 4: 0.7861, Class 5: 0.3909, Class 6: 0.9251, \n",
      "Validation mIoU Score\n",
      "Class 0: 0.9746, Class 1: 0.5644, Class 2: 0.1797, Class 3: 0.3580, Class 4: 0.6289, Class 5: 0.1475, Class 6: 0.6361, \n",
      "\n",
      "Overall Mean Dice Score: 0.6111\n",
      "Overall Mean F-beta Score: 0.7401\n",
      "Overall Mean IoU Score: 0.4670\n",
      "Final_score: 0.6308\n",
      "Training Loss: 0.4466, Validation Loss: 0.4542, Validation hybrid_score: 0.6308\n",
      "Epoch 45/4000\n"
     ]
    },
    {
     "name": "stderr",
     "output_type": "stream",
     "text": [
      "Training: 100%|██████████| 24/24 [00:12<00:00,  1.87it/s, loss=0.431]\n",
      "Validation: 100%|██████████| 1/1 [00:00<00:00,  2.14it/s, loss=0.432]\n"
     ]
    },
    {
     "name": "stdout",
     "output_type": "stream",
     "text": [
      "Validation Dice Score\n",
      "Class 0: 0.9808, Class 1: 0.8214, Class 2: 0.1269, Class 3: 0.3619, Class 4: 0.6932, Class 5: 0.4894, Class 6: 0.9027, \n",
      "Validation F-beta Score\n",
      "Class 0: 0.9768, Class 1: 0.8586, Class 2: 0.1592, Class 3: 0.5441, Class 4: 0.7173, Class 5: 0.5590, Class 6: 0.9502, \n",
      "Validation mIoU Score\n",
      "Class 0: 0.9623, Class 1: 0.6969, Class 2: 0.0678, Class 3: 0.2209, Class 4: 0.5304, Class 5: 0.3240, Class 6: 0.8227, \n",
      "\n",
      "Overall Mean Dice Score: 0.6537\n",
      "Overall Mean F-beta Score: 0.7259\n",
      "Overall Mean IoU Score: 0.5190\n",
      "Final_score: 0.6431\n",
      "Training Loss: 0.4481, Validation Loss: 0.4315, Validation hybrid_score: 0.6431\n",
      "Epoch 46/4000\n"
     ]
    },
    {
     "name": "stderr",
     "output_type": "stream",
     "text": [
      "Training: 100%|██████████| 24/24 [00:14<00:00,  1.69it/s, loss=0.429]\n",
      "Validation: 100%|██████████| 1/1 [00:00<00:00,  2.03it/s, loss=0.447]\n"
     ]
    },
    {
     "name": "stdout",
     "output_type": "stream",
     "text": [
      "Validation Dice Score\n",
      "Class 0: 0.9831, Class 1: 0.7185, Class 2: 0.1422, Class 3: 0.3700, Class 4: 0.7257, Class 5: 0.3922, Class 6: 0.8760, \n",
      "Validation F-beta Score\n",
      "Class 0: 0.9751, Class 1: 0.9229, Class 2: 0.1533, Class 3: 0.5340, Class 4: 0.8110, Class 5: 0.5828, Class 6: 0.9541, \n",
      "Validation mIoU Score\n",
      "Class 0: 0.9667, Class 1: 0.5607, Class 2: 0.0766, Class 3: 0.2270, Class 4: 0.5695, Class 5: 0.2440, Class 6: 0.7794, \n",
      "\n",
      "Overall Mean Dice Score: 0.6165\n",
      "Overall Mean F-beta Score: 0.7610\n",
      "Overall Mean IoU Score: 0.4761\n",
      "Final_score: 0.6470\n",
      "Training Loss: 0.4422, Validation Loss: 0.4474, Validation hybrid_score: 0.6470\n",
      "Epoch 47/4000\n"
     ]
    },
    {
     "name": "stderr",
     "output_type": "stream",
     "text": [
      "Training: 100%|██████████| 24/24 [00:12<00:00,  1.99it/s, loss=0.442]\n",
      "Validation: 100%|██████████| 1/1 [00:00<00:00,  2.10it/s, loss=0.435]\n"
     ]
    },
    {
     "name": "stdout",
     "output_type": "stream",
     "text": [
      "Validation Dice Score\n",
      "Class 0: 0.9832, Class 1: 0.7996, Class 2: 0.3457, Class 3: 0.4414, Class 4: 0.7333, Class 5: 0.5795, Class 6: 0.7594, \n",
      "Validation F-beta Score\n",
      "Class 0: 0.9813, Class 1: 0.7912, Class 2: 0.4111, Class 3: 0.4601, Class 4: 0.7149, Class 5: 0.7513, Class 6: 0.9392, \n",
      "Validation mIoU Score\n",
      "Class 0: 0.9669, Class 1: 0.6661, Class 2: 0.2090, Class 3: 0.2832, Class 4: 0.5789, Class 5: 0.4079, Class 6: 0.6121, \n",
      "\n",
      "Overall Mean Dice Score: 0.6626\n",
      "Overall Mean F-beta Score: 0.7314\n",
      "Overall Mean IoU Score: 0.5096\n",
      "Final_score: 0.6427\n",
      "Training Loss: 0.4415, Validation Loss: 0.4347, Validation hybrid_score: 0.6427\n",
      "Epoch 48/4000\n"
     ]
    },
    {
     "name": "stderr",
     "output_type": "stream",
     "text": [
      "Training: 100%|██████████| 24/24 [00:11<00:00,  2.01it/s, loss=0.42] \n",
      "Validation: 100%|██████████| 1/1 [00:00<00:00,  2.19it/s, loss=0.439]\n"
     ]
    },
    {
     "name": "stdout",
     "output_type": "stream",
     "text": [
      "Validation Dice Score\n",
      "Class 0: 0.9853, Class 1: 0.3512, Class 2: 0.3500, Class 3: 0.5582, Class 4: 0.7693, Class 5: 0.5199, Class 6: 0.6952, \n",
      "Validation F-beta Score\n",
      "Class 0: 0.9827, Class 1: 0.7348, Class 2: 0.3137, Class 3: 0.5462, Class 4: 0.7930, Class 5: 0.5877, Class 6: 0.9308, \n",
      "Validation mIoU Score\n",
      "Class 0: 0.9710, Class 1: 0.2130, Class 2: 0.2121, Class 3: 0.3871, Class 4: 0.6250, Class 5: 0.3513, Class 6: 0.5328, \n",
      "\n",
      "Overall Mean Dice Score: 0.5787\n",
      "Overall Mean F-beta Score: 0.7185\n",
      "Overall Mean IoU Score: 0.4218\n",
      "Final_score: 0.5998\n",
      "Training Loss: 0.4471, Validation Loss: 0.4387, Validation hybrid_score: 0.5998\n",
      "Epoch 49/4000\n"
     ]
    },
    {
     "name": "stderr",
     "output_type": "stream",
     "text": [
      "Training: 100%|██████████| 24/24 [00:11<00:00,  2.04it/s, loss=0.45] \n",
      "Validation: 100%|██████████| 1/1 [00:00<00:00,  2.13it/s, loss=0.437]\n"
     ]
    },
    {
     "name": "stdout",
     "output_type": "stream",
     "text": [
      "Validation Dice Score\n",
      "Class 0: 0.9818, Class 1: 0.5906, Class 2: 0.0632, Class 3: 0.5803, Class 4: 0.7490, Class 5: 0.3965, Class 6: 0.7990, \n",
      "Validation F-beta Score\n",
      "Class 0: 0.9809, Class 1: 0.8432, Class 2: 0.0800, Class 3: 0.6337, Class 4: 0.7312, Class 5: 0.4031, Class 6: 0.9410, \n",
      "Validation mIoU Score\n",
      "Class 0: 0.9642, Class 1: 0.4190, Class 2: 0.0326, Class 3: 0.4087, Class 4: 0.5987, Class 5: 0.2473, Class 6: 0.6652, \n",
      "\n",
      "Overall Mean Dice Score: 0.6231\n",
      "Overall Mean F-beta Score: 0.7105\n",
      "Overall Mean IoU Score: 0.4678\n",
      "Final_score: 0.6134\n",
      "Training Loss: 0.4449, Validation Loss: 0.4368, Validation hybrid_score: 0.6134\n",
      "Epoch 50/4000\n"
     ]
    },
    {
     "name": "stderr",
     "output_type": "stream",
     "text": [
      "Training: 100%|██████████| 24/24 [00:11<00:00,  2.04it/s, loss=0.443]\n",
      "Validation: 100%|██████████| 1/1 [00:00<00:00,  2.02it/s, loss=0.456]\n"
     ]
    },
    {
     "name": "stdout",
     "output_type": "stream",
     "text": [
      "Validation Dice Score\n",
      "Class 0: 0.9858, Class 1: 0.6639, Class 2: 0.3034, Class 3: 0.1816, Class 4: 0.7793, Class 5: 0.4834, Class 6: 0.9040, \n",
      "Validation F-beta Score\n",
      "Class 0: 0.9826, Class 1: 0.8263, Class 2: 0.2873, Class 3: 0.5318, Class 4: 0.7693, Class 5: 0.5866, Class 6: 0.9684, \n",
      "Validation mIoU Score\n",
      "Class 0: 0.9721, Class 1: 0.4969, Class 2: 0.1788, Class 3: 0.0999, Class 4: 0.6384, Class 5: 0.3188, Class 6: 0.8249, \n",
      "\n",
      "Overall Mean Dice Score: 0.6024\n",
      "Overall Mean F-beta Score: 0.7365\n",
      "Overall Mean IoU Score: 0.4758\n",
      "Final_score: 0.6322\n",
      "Training Loss: 0.4422, Validation Loss: 0.4560, Validation hybrid_score: 0.6322\n",
      "Epoch 51/4000\n"
     ]
    },
    {
     "name": "stderr",
     "output_type": "stream",
     "text": [
      "Training: 100%|██████████| 24/24 [00:12<00:00,  1.99it/s, loss=0.455]\n",
      "Validation: 100%|██████████| 1/1 [00:00<00:00,  2.13it/s, loss=0.423]\n"
     ]
    },
    {
     "name": "stdout",
     "output_type": "stream",
     "text": [
      "Validation Dice Score\n",
      "Class 0: 0.9845, Class 1: 0.6839, Class 2: 0.2143, Class 3: 0.4322, Class 4: 0.7156, Class 5: 0.4675, Class 6: 0.8265, \n",
      "Validation F-beta Score\n",
      "Class 0: 0.9782, Class 1: 0.8586, Class 2: 0.2447, Class 3: 0.6598, Class 4: 0.7632, Class 5: 0.6183, Class 6: 0.9244, \n",
      "Validation mIoU Score\n",
      "Class 0: 0.9695, Class 1: 0.5196, Class 2: 0.1200, Class 3: 0.2757, Class 4: 0.5571, Class 5: 0.3051, Class 6: 0.7043, \n",
      "\n",
      "Overall Mean Dice Score: 0.6251\n",
      "Overall Mean F-beta Score: 0.7649\n",
      "Overall Mean IoU Score: 0.4724\n",
      "Final_score: 0.6479\n",
      "Training Loss: 0.4448, Validation Loss: 0.4228, Validation hybrid_score: 0.6479\n",
      "Epoch 52/4000\n"
     ]
    },
    {
     "name": "stderr",
     "output_type": "stream",
     "text": [
      "Training: 100%|██████████| 24/24 [00:12<00:00,  1.97it/s, loss=0.449]\n",
      "Validation: 100%|██████████| 1/1 [00:00<00:00,  2.16it/s, loss=0.441]\n"
     ]
    },
    {
     "name": "stdout",
     "output_type": "stream",
     "text": [
      "Validation Dice Score\n",
      "Class 0: 0.9865, Class 1: 0.7828, Class 2: 0.2059, Class 3: 0.4987, Class 4: 0.7275, Class 5: 0.4028, Class 6: 0.9179, \n",
      "Validation F-beta Score\n",
      "Class 0: 0.9845, Class 1: 0.8646, Class 2: 0.2126, Class 3: 0.7290, Class 4: 0.7118, Class 5: 0.4544, Class 6: 0.9676, \n",
      "Validation mIoU Score\n",
      "Class 0: 0.9734, Class 1: 0.6432, Class 2: 0.1148, Class 3: 0.3322, Class 4: 0.5717, Class 5: 0.2522, Class 6: 0.8483, \n",
      "\n",
      "Overall Mean Dice Score: 0.6660\n",
      "Overall Mean F-beta Score: 0.7455\n",
      "Overall Mean IoU Score: 0.5295\n",
      "Final_score: 0.6591\n",
      "Training Loss: 0.4458, Validation Loss: 0.4412, Validation hybrid_score: 0.6591\n",
      "Epoch 53/4000\n"
     ]
    },
    {
     "name": "stderr",
     "output_type": "stream",
     "text": [
      "Training: 100%|██████████| 24/24 [00:12<00:00,  1.96it/s, loss=0.438]\n",
      "Validation: 100%|██████████| 1/1 [00:00<00:00,  2.20it/s, loss=0.452]"
     ]
    },
    {
     "name": "stdout",
     "output_type": "stream",
     "text": [
      "Validation Dice Score\n",
      "Class 0: 0.9854, Class 1: 0.7416, Class 2: 0.0000, Class 3: 0.4811, Class 4: 0.6757, Class 5: 0.4361, Class 6: 0.9157, \n",
      "Validation F-beta Score\n",
      "Class 0: 0.9790, Class 1: 0.7876, Class 2: 0.0000, Class 3: 0.5138, Class 4: 0.8160, Class 5: 0.5508, Class 6: 0.9659, \n",
      "Validation mIoU Score\n",
      "Class 0: 0.9712, Class 1: 0.5894, Class 2: 0.0000, Class 3: 0.3167, Class 4: 0.5102, Class 5: 0.2789, Class 6: 0.8445, \n",
      "\n",
      "Overall Mean Dice Score: 0.6500\n",
      "Overall Mean F-beta Score: 0.7268\n",
      "Overall Mean IoU Score: 0.5079\n",
      "Final_score: 0.6393\n",
      "Training Loss: 0.4417, Validation Loss: 0.4521, Validation hybrid_score: 0.6393\n",
      "Early stopping\n"
     ]
    },
    {
     "name": "stderr",
     "output_type": "stream",
     "text": [
      "\n"
     ]
    },
    {
     "data": {
      "text/html": [],
      "text/plain": [
       "<IPython.core.display.HTML object>"
      ]
     },
     "metadata": {},
     "output_type": "display_data"
    },
    {
     "data": {
      "text/html": [
       "<br>    <style><br>        .wandb-row {<br>            display: flex;<br>            flex-direction: row;<br>            flex-wrap: wrap;<br>            justify-content: flex-start;<br>            width: 100%;<br>        }<br>        .wandb-col {<br>            display: flex;<br>            flex-direction: column;<br>            flex-basis: 100%;<br>            flex: 1;<br>            padding: 10px;<br>        }<br>    </style><br><div class=\"wandb-row\"><div class=\"wandb-col\"><h3>Run history:</h3><br/><table class=\"wandb\"><tr><td>class_0_IoU_score</td><td>▄▄▄▅▁▆▅▅▄▃█▄▆▅▆▅▆▄▄▆▄▆▆▅▅▅▇▄▇▇</td></tr><tr><td>class_0_dice_score</td><td>▆▄▆▆▅█▆█▆▅█▄█▆▆▁▆▂█▅▇▁▃▃▅▂▆▄▆▅</td></tr><tr><td>class_0_f_beta_score</td><td>▅▅▅▄▄█▆█▅▅█▃▇▄▄▂▆▄▇▄▅▂▁▅▆▅▆▃▇▃</td></tr><tr><td>class_1_IoU_score</td><td>▄▄▄▅▁▆▅▅▄▃█▄▆▅▆▅▆▄▄▆▄▆▆▅▅▅▇▄▇▇</td></tr><tr><td>class_1_dice_score</td><td>█▇▆▅▇▇▅▇▇▇▇▇▆▇▇▆▆▇█▆▇█▆█▁▅▆▆▇▇</td></tr><tr><td>class_1_f_beta_score</td><td>▅▇▆▆▆▄▅▆▆▆▂▄▄█▆▆▇▆▆▅▄▆█▃▁▅▄▆▆▃</td></tr><tr><td>class_2_IoU_score</td><td>▄▄▄▅▁▆▅▅▄▃█▄▆▅▆▅▆▄▄▆▄▆▆▅▅▅▇▄▇▇</td></tr><tr><td>class_2_dice_score</td><td>▃▁▅▄▃▁▅▃▄▁▆▁▂▁▇▁▄▅█▂▆▃▃▇▇▂▆▄▄▁</td></tr><tr><td>class_2_f_beta_score</td><td>▃▁▆▄▄▁▅▃▄▁▆▂▅▁▇▁▆▅▇▂▅▄▄█▆▂▆▅▅▁</td></tr><tr><td>class_3_IoU_score</td><td>▄▄▄▅▁▆▅▅▄▃█▄▆▅▆▅▆▄▄▆▄▆▆▅▅▅▇▄▇▇</td></tr><tr><td>class_3_dice_score</td><td>▂▄▅▃▅▄▅▆▅▇▆▆▄▅▅▅▅█▅▇▆▄▄▅▆▇▁▅▆▅</td></tr><tr><td>class_3_f_beta_score</td><td>▃▄▃▁▃▃▄▃▅▄▄█▁▃▃▃▄▆▄▆▇▃▃▁▃▄▃▅▆▂</td></tr><tr><td>class_4_IoU_score</td><td>▄▄▄▅▁▆▅▅▄▃█▄▆▅▆▅▆▄▄▆▄▆▆▅▅▅▇▄▇▇</td></tr><tr><td>class_4_dice_score</td><td>▅▄▆▆▄█▆▅▅▇▅▆▁▇▅▅▆▇▇▂▇▅▆▆▇▇█▆▆▅</td></tr><tr><td>class_4_f_beta_score</td><td>▆▄▅▇▅▆▅▅▆█▄▅▁▇▅▅▅▅▆▅▆▅▇▅▆▅▆▆▄▇</td></tr><tr><td>class_5_IoU_score</td><td>▄▄▄▅▁▆▅▅▄▃█▄▆▅▆▅▆▄▄▆▄▆▆▅▅▅▇▄▇▇</td></tr><tr><td>class_5_dice_score</td><td>▇▄▄▃▄▂▇█▆▇█▅▄▄▃▅▆▇▇▆▁▆▄█▇▄▆▆▄▅</td></tr><tr><td>class_5_f_beta_score</td><td>▅▂▃▄▄▁▅▅▄▅▅▆▃▅▃▃▅▆▆▅▂▅▅█▅▂▅▆▃▅</td></tr><tr><td>class_6_IoU_score</td><td>▄▄▄▅▁▆▅▅▄▃█▄▆▅▆▅▆▄▄▆▄▆▆▅▅▅▇▄▇▇</td></tr><tr><td>class_6_dice_score</td><td>▇▇▃▇▅▇▃█▄▆▇▆▇▇▇▅▇▁▆█▄▇▇▄▂▅▇▅██</td></tr><tr><td>class_6_f_beta_score</td><td>▄▄▄▅▁▆▅▅▄▃█▄▆▅▆▅▆▄▄▆▄▆▆▅▅▅▇▄▇▇</td></tr><tr><td>epoch</td><td>▁▁▁▂▂▂▂▂▂▂▃▃▃▃▃▃▃▃▃▃▄▄▄▄▄▄▅▅▅▅▆▆▆▆▆▇▇▇▇█</td></tr><tr><td>final_score</td><td>▆▄▃▄▄▄▅▇▆█▆█▁▇▅▅▆███▅▆▆▆▃▄▅▆▇▆</td></tr><tr><td>overall_mean_IoU_score</td><td>▅▄▂▃▃▆▃█▄██▆▂▆▅▄▆▆█▇▄▇▄▆▁▄▄▄▇▆</td></tr><tr><td>overall_mean_dice_score</td><td>▄▃▂▂▃▅▃█▄█▇▆▁▅▄▄▅▇▇▇▃▆▃▆▁▄▂▄▆▅</td></tr><tr><td>overall_mean_f_beta_score</td><td>▅▄▄▄▄▃▆▆▆▇▅█▁▇▅▅▆█▇▇▆▅▇▅▅▄▅▇▆▅</td></tr><tr><td>train_epoch_loss</td><td>█▇▅▄▆▄▃▃▄▄▂▃▃▂▃▃▁▅▃▂▃▄▁▁▃▂▁▂▃▁</td></tr><tr><td>val_epoch_loss</td><td>▃▆▅█▇▆▆▂▅▅▁▄▇▆▃▆▅▅▃▅▇▅▆▅▅▅▇▄▆▇</td></tr></table><br/></div><div class=\"wandb-col\"><h3>Run summary:</h3><br/><table class=\"wandb\"><tr><td>class_0_IoU_score</td><td>0.96595</td></tr><tr><td>class_0_dice_score</td><td>0.98538</td></tr><tr><td>class_0_f_beta_score</td><td>0.97905</td></tr><tr><td>class_1_IoU_score</td><td>0.96595</td></tr><tr><td>class_1_dice_score</td><td>0.74163</td></tr><tr><td>class_1_f_beta_score</td><td>0.7876</td></tr><tr><td>class_2_IoU_score</td><td>0.96595</td></tr><tr><td>class_2_dice_score</td><td>0</td></tr><tr><td>class_2_f_beta_score</td><td>0.0</td></tr><tr><td>class_3_IoU_score</td><td>0.96595</td></tr><tr><td>class_3_dice_score</td><td>0.48107</td></tr><tr><td>class_3_f_beta_score</td><td>0.5138</td></tr><tr><td>class_4_IoU_score</td><td>0.96595</td></tr><tr><td>class_4_dice_score</td><td>0.67568</td></tr><tr><td>class_4_f_beta_score</td><td>0.816</td></tr><tr><td>class_5_IoU_score</td><td>0.96595</td></tr><tr><td>class_5_dice_score</td><td>0.4361</td></tr><tr><td>class_5_f_beta_score</td><td>0.55077</td></tr><tr><td>class_6_IoU_score</td><td>0.96595</td></tr><tr><td>class_6_dice_score</td><td>0.91569</td></tr><tr><td>class_6_f_beta_score</td><td>0.96595</td></tr><tr><td>epoch</td><td>53</td></tr><tr><td>final_score</td><td>0.63927</td></tr><tr><td>overall_mean_IoU_score</td><td>0.50793</td></tr><tr><td>overall_mean_dice_score</td><td>0.65004</td></tr><tr><td>overall_mean_f_beta_score</td><td>0.72682</td></tr><tr><td>train_epoch_loss</td><td>0.4417</td></tr><tr><td>val_epoch_loss</td><td>0.45209</td></tr></table><br/></div></div>"
      ],
      "text/plain": [
       "<IPython.core.display.HTML object>"
      ]
     },
     "metadata": {},
     "output_type": "display_data"
    },
    {
     "data": {
      "text/html": [
       " View run <strong style=\"color:#cdcd00\">pre_UNET_511_241_prelu_instance_f48_lr1e-03_a0.52_b16_r4_ce0.4_ac1</strong> at: <a href='https://wandb.ai/limbw/czii_UNet/runs/o8iqln63' target=\"_blank\">https://wandb.ai/limbw/czii_UNet/runs/o8iqln63</a><br> View project at: <a href='https://wandb.ai/limbw/czii_UNet' target=\"_blank\">https://wandb.ai/limbw/czii_UNet</a><br>Synced 5 W&B file(s), 0 media file(s), 0 artifact file(s) and 0 other file(s)"
      ],
      "text/plain": [
       "<IPython.core.display.HTML object>"
      ]
     },
     "metadata": {},
     "output_type": "display_data"
    },
    {
     "data": {
      "text/html": [
       "Find logs at: <code>.\\wandb\\run-20250120_232730-o8iqln63\\logs</code>"
      ],
      "text/plain": [
       "<IPython.core.display.HTML object>"
      ]
     },
     "metadata": {},
     "output_type": "display_data"
    }
   ],
   "source": [
    "train_model(\n",
    "    model=model,\n",
    "    train_loader=train_loader,\n",
    "    val_loader=val_loader,\n",
    "    criterion=criterion,\n",
    "    optimizer=optimizer,\n",
    "    num_epochs=num_epochs,\n",
    "    patience=10,\n",
    "    device=device,\n",
    "    start_epoch=start_epoch,\n",
    "    best_val_loss=best_val_loss,\n",
    "    best_val_fbeta_score=best_val_fbeta_score,\n",
    "    calculate_dice_interval=1,\n",
    "    accumulation_steps = accumulation_steps,\n",
    "    pretrained=False,\n",
    "    ) "
   ]
  },
  {
   "cell_type": "code",
   "execution_count": null,
   "metadata": {},
   "outputs": [
    {
     "ename": "SyntaxError",
     "evalue": "invalid syntax (879943805.py, line 1)",
     "output_type": "error",
     "traceback": [
      "\u001b[1;36m  Cell \u001b[1;32mIn[17], line 1\u001b[1;36m\u001b[0m\n\u001b[1;33m    if:\u001b[0m\n\u001b[1;37m      ^\u001b[0m\n\u001b[1;31mSyntaxError\u001b[0m\u001b[1;31m:\u001b[0m invalid syntax\n"
     ]
    }
   ],
   "source": [
    "if:"
   ]
  },
  {
   "cell_type": "markdown",
   "metadata": {},
   "source": [
    "# VAl"
   ]
  },
  {
   "cell_type": "code",
   "execution_count": null,
   "metadata": {},
   "outputs": [
    {
     "data": {
      "text/html": [
       "Finishing last run (ID:fs6utwyo) before initializing another..."
      ],
      "text/plain": [
       "<IPython.core.display.HTML object>"
      ]
     },
     "metadata": {},
     "output_type": "display_data"
    },
    {
     "data": {
      "application/vnd.jupyter.widget-view+json": {
       "model_id": "29cc3ae761af43baae5aca60b5d2e7f4",
       "version_major": 2,
       "version_minor": 0
      },
      "text/plain": [
       "VBox(children=(Label(value='0.009 MB of 0.009 MB uploaded\\r'), FloatProgress(value=1.0, max=1.0)))"
      ]
     },
     "metadata": {},
     "output_type": "display_data"
    },
    {
     "data": {
      "text/html": [
       "<style>\n",
       "    table.wandb td:nth-child(1) { padding: 0 10px; text-align: left ; width: auto;} td:nth-child(2) {text-align: left ; width: 100%}\n",
       "    .wandb-row { display: flex; flex-direction: row; flex-wrap: wrap; justify-content: flex-start; width: 100% }\n",
       "    .wandb-col { display: flex; flex-direction: column; flex-basis: 100%; flex: 1; padding: 10px; }\n",
       "    </style>\n",
       "<div class=\"wandb-row\"><div class=\"wandb-col\"><h3>Run history:</h3><br/><table class=\"wandb\"><tr><td>class_0_dice_score</td><td>▁</td></tr><tr><td>class_0_f_beta_score</td><td>▁</td></tr><tr><td>class_1_dice_score</td><td>▁</td></tr><tr><td>class_1_f_beta_score</td><td>▁</td></tr><tr><td>class_2_dice_score</td><td>▁</td></tr><tr><td>class_2_f_beta_score</td><td>▁</td></tr><tr><td>class_3_dice_score</td><td>▁</td></tr><tr><td>class_3_f_beta_score</td><td>▁</td></tr><tr><td>class_4_dice_score</td><td>▁</td></tr><tr><td>class_4_f_beta_score</td><td>▁</td></tr><tr><td>class_5_dice_score</td><td>▁</td></tr><tr><td>class_5_f_beta_score</td><td>▁</td></tr><tr><td>class_6_dice_score</td><td>▁</td></tr><tr><td>class_6_f_beta_score</td><td>▁</td></tr><tr><td>epoch</td><td>▁▁▁▁▁▁▁▁▁▁▁▁▁▁▁▁</td></tr><tr><td>overall_mean_dice_score</td><td>▁</td></tr><tr><td>overall_mean_f_beta_score</td><td>▁</td></tr><tr><td>val_epoch_loss</td><td>▁</td></tr></table><br/></div><div class=\"wandb-col\"><h3>Run summary:</h3><br/><table class=\"wandb\"><tr><td>class_0_dice_score</td><td>0.65703</td></tr><tr><td>class_0_f_beta_score</td><td>0.50748</td></tr><tr><td>class_1_dice_score</td><td>0.53332</td></tr><tr><td>class_1_f_beta_score</td><td>0.64703</td></tr><tr><td>class_2_dice_score</td><td>0.00286</td></tr><tr><td>class_2_f_beta_score</td><td>0.02334</td></tr><tr><td>class_3_dice_score</td><td>0.23703</td></tr><tr><td>class_3_f_beta_score</td><td>0.23033</td></tr><tr><td>class_4_dice_score</td><td>0.65487</td></tr><tr><td>class_4_f_beta_score</td><td>0.62525</td></tr><tr><td>class_5_dice_score</td><td>0.47899</td></tr><tr><td>class_5_f_beta_score</td><td>0.51448</td></tr><tr><td>class_6_dice_score</td><td>0.42545</td></tr><tr><td>class_6_f_beta_score</td><td>0.47197</td></tr><tr><td>epoch</td><td>1</td></tr><tr><td>overall_mean_dice_score</td><td>0.42708</td></tr><tr><td>overall_mean_f_beta_score</td><td>0.43141</td></tr><tr><td>val_epoch_loss</td><td>0.7152</td></tr></table><br/></div></div>"
      ],
      "text/plain": [
       "<IPython.core.display.HTML object>"
      ]
     },
     "metadata": {},
     "output_type": "display_data"
    },
    {
     "data": {
      "text/html": [
       " View run <strong style=\"color:#cdcd00\">SwinUNETR96_96_lr0.001_lambda0.52_batch2</strong> at: <a href='https://wandb.ai/waooang/czii_SwinUnetR_val/runs/fs6utwyo' target=\"_blank\">https://wandb.ai/waooang/czii_SwinUnetR_val/runs/fs6utwyo</a><br/> View project at: <a href='https://wandb.ai/waooang/czii_SwinUnetR_val' target=\"_blank\">https://wandb.ai/waooang/czii_SwinUnetR_val</a><br/>Synced 4 W&B file(s), 0 media file(s), 3 artifact file(s) and 0 other file(s)"
      ],
      "text/plain": [
       "<IPython.core.display.HTML object>"
      ]
     },
     "metadata": {},
     "output_type": "display_data"
    },
    {
     "data": {
      "text/html": [
       "Find logs at: <code>.\\wandb\\run-20241219_200219-fs6utwyo\\logs</code>"
      ],
      "text/plain": [
       "<IPython.core.display.HTML object>"
      ]
     },
     "metadata": {},
     "output_type": "display_data"
    },
    {
     "data": {
      "text/html": [
       "Successfully finished last run (ID:fs6utwyo). Initializing new run:<br/>"
      ],
      "text/plain": [
       "<IPython.core.display.HTML object>"
      ]
     },
     "metadata": {},
     "output_type": "display_data"
    },
    {
     "data": {
      "text/html": [
       "Tracking run with wandb version 0.18.3"
      ],
      "text/plain": [
       "<IPython.core.display.HTML object>"
      ]
     },
     "metadata": {},
     "output_type": "display_data"
    },
    {
     "data": {
      "text/html": [
       "Run data is saved locally in <code>e:\\Workspace\\czll\\wandb\\run-20241219_200454-121l7bn3</code>"
      ],
      "text/plain": [
       "<IPython.core.display.HTML object>"
      ]
     },
     "metadata": {},
     "output_type": "display_data"
    },
    {
     "data": {
      "text/html": [
       "Syncing run <strong><a href='https://wandb.ai/waooang/czii_SwinUnetR_val/runs/121l7bn3' target=\"_blank\">SwinUNETR96_96_lr0.001_lambda0.52_batch2</a></strong> to <a href='https://wandb.ai/waooang/czii_SwinUnetR_val' target=\"_blank\">Weights & Biases</a> (<a href='https://wandb.me/run' target=\"_blank\">docs</a>)<br/>"
      ],
      "text/plain": [
       "<IPython.core.display.HTML object>"
      ]
     },
     "metadata": {},
     "output_type": "display_data"
    },
    {
     "data": {
      "text/html": [
       " View project at <a href='https://wandb.ai/waooang/czii_SwinUnetR_val' target=\"_blank\">https://wandb.ai/waooang/czii_SwinUnetR_val</a>"
      ],
      "text/plain": [
       "<IPython.core.display.HTML object>"
      ]
     },
     "metadata": {},
     "output_type": "display_data"
    },
    {
     "data": {
      "text/html": [
       " View run at <a href='https://wandb.ai/waooang/czii_SwinUnetR_val/runs/121l7bn3' target=\"_blank\">https://wandb.ai/waooang/czii_SwinUnetR_val/runs/121l7bn3</a>"
      ],
      "text/plain": [
       "<IPython.core.display.HTML object>"
      ]
     },
     "metadata": {},
     "output_type": "display_data"
    },
    {
     "name": "stderr",
     "output_type": "stream",
     "text": [
      "Loading dataset: 100%|██████████| 4/4 [00:06<00:00,  1.58s/it]\n",
      "C:\\Users\\Seungwoo\\AppData\\Local\\Temp\\ipykernel_21000\\1177025787.py:95: FutureWarning: You are using `torch.load` with `weights_only=False` (the current default value), which uses the default pickle module implicitly. It is possible to construct malicious pickle data which will execute arbitrary code during unpickling (See https://github.com/pytorch/pytorch/blob/main/SECURITY.md#untrusted-models for more details). In a future release, the default value for `weights_only` will be flipped to `True`. This limits the functions that could be executed during unpickling. Arbitrary objects will no longer be allowed to be loaded via this mode unless they are explicitly allowlisted by the user via `torch.serialization.add_safe_globals`. We recommend you start setting `weights_only=True` for any use case where you don't have full control of the loaded file. Please open an issue on GitHub for any issues related to this experimental feature.\n",
      "  checkpoint = torch.load(pretrain_path, map_location=device)\n",
      "Validation: 100%|██████████| 4/4 [00:01<00:00,  2.38it/s, loss=0.865]"
     ]
    },
    {
     "name": "stdout",
     "output_type": "stream",
     "text": [
      "Validation Dice Score\n",
      "Class 0: 0.6570, Class 1: 0.5333, Class 2: 0.0029, Class 3: 0.2370, \n",
      "Class 4: 0.6549, Class 5: 0.4790, Class 6: 0.4255, \n",
      "Validation F-beta Score\n",
      "Class 0: 0.5075, Class 1: 0.6470, Class 2: 0.0233, Class 3: 0.2303, \n",
      "Class 4: 0.6252, Class 5: 0.5145, Class 6: 0.4720, \n",
      "Overall Mean Dice Score: 0.4659\n",
      "Overall Mean F-beta Score: 0.4978\n",
      "\n"
     ]
    },
    {
     "name": "stderr",
     "output_type": "stream",
     "text": [
      "\n"
     ]
    },
    {
     "ename": "",
     "evalue": "",
     "output_type": "error",
     "traceback": [
      "\u001b[1;31mnotebook controller is DISPOSED. \n",
      "\u001b[1;31m자세한 내용은 Jupyter <a href='command:jupyter.viewOutput'>로그</a>를 참조하세요."
     ]
    },
    {
     "ename": "",
     "evalue": "",
     "output_type": "error",
     "traceback": [
      "\u001b[1;31mnotebook controller is DISPOSED. \n",
      "\u001b[1;31m자세한 내용은 Jupyter <a href='command:jupyter.viewOutput'>로그</a>를 참조하세요."
     ]
    }
   ],
   "source": [
    "from monai.data import DataLoader, Dataset, CacheDataset\n",
    "from monai.transforms import (\n",
    "    Compose, LoadImaged, EnsureChannelFirstd, NormalizeIntensityd,\n",
    "    Orientationd, CropForegroundd, GaussianSmoothd, ScaleIntensityd,\n",
    "    RandSpatialCropd, RandRotate90d, RandFlipd, RandGaussianNoised,\n",
    "    ToTensord, RandCropByLabelClassesd\n",
    ")\n",
    "from monai.metrics import DiceMetric\n",
    "from monai.networks.nets import UNETR, SwinUNETR\n",
    "from monai.losses import TverskyLoss\n",
    "import torch\n",
    "import numpy as np\n",
    "from tqdm import tqdm\n",
    "import wandb\n",
    "from src.dataset.dataset import make_val_dataloader\n",
    "\n",
    "val_img_dir = \"./datasets/val/images\"\n",
    "val_label_dir = \"./datasets/val/labels\"\n",
    "img_depth = 96\n",
    "img_size = 96  # Match your patch size\n",
    "n_classes = 7\n",
    "batch_size = 2 # 13.8GB GPU memory required for 128x128 img size\n",
    "num_samples = batch_size # 한 이미지에서 뽑을 샘플 수\n",
    "loader_batch = 1\n",
    "lamda = 0.52\n",
    "\n",
    "wandb.init(\n",
    "    project='czii_SwinUnetR_val',  # 프로젝트 이름 설정\n",
    "    name='SwinUNETR96_96_lr0.001_lambda0.52_batch2',         # 실행(run) 이름 설정\n",
    "    config={\n",
    "        'learning_rate': 0.001,\n",
    "        'batch_size': batch_size,\n",
    "        'lambda': lamda,\n",
    "        'img_size': img_size,\n",
    "        'device': 'cuda',\n",
    "        \"checkpoint_dir\": \"./model_checkpoints/SwinUNETR96_96_lr0.001_lambda0.52_batch2\",\n",
    "        \n",
    "    }\n",
    ")\n",
    "\n",
    "non_random_transforms = Compose([\n",
    "    EnsureChannelFirstd(keys=[\"image\", \"label\"], channel_dim=\"no_channel\"),\n",
    "    NormalizeIntensityd(keys=\"image\"),\n",
    "    Orientationd(keys=[\"image\", \"label\"], axcodes=\"RAS\"),\n",
    "    GaussianSmoothd(\n",
    "        keys=[\"image\"],      # 변환을 적용할 키\n",
    "        sigma=[1.0, 1.0, 1.0]  # 각 축(x, y, z)의 시그마 값\n",
    "        ),\n",
    "])\n",
    "random_transforms = Compose([\n",
    "    RandCropByLabelClassesd(\n",
    "        keys=[\"image\", \"label\"],\n",
    "        label_key=\"label\",\n",
    "        spatial_size=[img_depth, img_size, img_size],\n",
    "        num_classes=n_classes,\n",
    "        num_samples=num_samples, \n",
    "        ratios=ratios_list,\n",
    "    ),\n",
    "    RandRotate90d(keys=[\"image\", \"label\"], prob=0.5, spatial_axes=[1, 2]),\n",
    "    RandFlipd(keys=[\"image\", \"label\"], prob=0.5, spatial_axis=0),\n",
    "])\n",
    "\n",
    "val_loader = make_val_dataloader(\n",
    "    val_img_dir, \n",
    "    val_label_dir, \n",
    "    non_random_transforms = non_random_transforms, \n",
    "    random_transforms = random_transforms, \n",
    "    batch_size = loader_batch,\n",
    "    num_workers=0\n",
    ")\n",
    "criterion = TverskyLoss(\n",
    "    alpha= 1 - lamda,  # FP에 대한 가중치\n",
    "    beta=lamda,       # FN에 대한 가중치\n",
    "    include_background=False,  # 배경 클래스 제외\n",
    "    softmax=True\n",
    ")\n",
    "    \n",
    "    \n",
    "from monai.metrics import DiceMetric\n",
    "\n",
    "img_size = 96\n",
    "img_depth = img_size\n",
    "n_classes = 7 \n",
    "\n",
    "device = torch.device(\"cuda\" if torch.cuda.is_available() else \"cpu\")\n",
    "pretrain_path = \"./model_checkpoints/SwinUNETR96_96_lr0.001_lambda0.52_batch2/best_model.pt\"\n",
    "model = SwinUNETR(\n",
    "    img_size=(img_depth, img_size, img_size),\n",
    "    in_channels=1,\n",
    "    out_channels=n_classes,\n",
    "    feature_size=48,\n",
    "    use_checkpoint=True,\n",
    ").to(device)\n",
    "# Pretrained weights 불러오기\n",
    "checkpoint = torch.load(pretrain_path, map_location=device)\n",
    "model.load_state_dict(checkpoint['model_state_dict'])\n",
    "\n",
    "val_loss, overall_mean_fbeta_score = validate_one_epoch(\n",
    "    model=model, \n",
    "    val_loader=val_loader, \n",
    "    criterion=criterion, \n",
    "    device=device, \n",
    "    epoch=0, \n",
    "    calculate_dice_interval=1\n",
    ")"
   ]
  },
  {
   "cell_type": "markdown",
   "metadata": {},
   "source": [
    "# Inference"
   ]
  },
  {
   "cell_type": "code",
   "execution_count": null,
   "metadata": {},
   "outputs": [
    {
     "ename": "",
     "evalue": "",
     "output_type": "error",
     "traceback": [
      "\u001b[1;31mnotebook controller is DISPOSED. \n",
      "\u001b[1;31m자세한 내용은 Jupyter <a href='command:jupyter.viewOutput'>로그</a>를 참조하세요."
     ]
    },
    {
     "ename": "",
     "evalue": "",
     "output_type": "error",
     "traceback": [
      "\u001b[1;31mnotebook controller is DISPOSED. \n",
      "\u001b[1;31m자세한 내용은 Jupyter <a href='command:jupyter.viewOutput'>로그</a>를 참조하세요."
     ]
    }
   ],
   "source": [
    "from src.dataset.preprocessing import Preprocessor"
   ]
  },
  {
   "cell_type": "code",
   "execution_count": null,
   "metadata": {},
   "outputs": [
    {
     "name": "stdout",
     "output_type": "stream",
     "text": [
      "Done.\n"
     ]
    },
    {
     "ename": "",
     "evalue": "",
     "output_type": "error",
     "traceback": [
      "\u001b[1;31mnotebook controller is DISPOSED. \n",
      "\u001b[1;31m자세한 내용은 Jupyter <a href='command:jupyter.viewOutput'>로그</a>를 참조하세요."
     ]
    },
    {
     "ename": "",
     "evalue": "",
     "output_type": "error",
     "traceback": [
      "\u001b[1;31mnotebook controller is DISPOSED. \n",
      "\u001b[1;31m자세한 내용은 Jupyter <a href='command:jupyter.viewOutput'>로그</a>를 참조하세요."
     ]
    }
   ],
   "source": [
    "from monai.inferers import sliding_window_inference\n",
    "from monai.transforms import Compose, EnsureChannelFirstd, NormalizeIntensityd, Orientationd, GaussianSmoothd\n",
    "from monai.data import DataLoader, Dataset, CacheDataset\n",
    "from monai.networks.nets import SwinUNETR\n",
    "from pathlib import Path\n",
    "import numpy as np\n",
    "import copick\n",
    "\n",
    "import torch\n",
    "print(\"Done.\")"
   ]
  },
  {
   "cell_type": "code",
   "execution_count": null,
   "metadata": {},
   "outputs": [
    {
     "name": "stdout",
     "output_type": "stream",
     "text": [
      "Config file written to ./kaggle/working/copick.config\n",
      "file length: 7\n"
     ]
    },
    {
     "ename": "",
     "evalue": "",
     "output_type": "error",
     "traceback": [
      "\u001b[1;31mnotebook controller is DISPOSED. \n",
      "\u001b[1;31m자세한 내용은 Jupyter <a href='command:jupyter.viewOutput'>로그</a>를 참조하세요."
     ]
    },
    {
     "ename": "",
     "evalue": "",
     "output_type": "error",
     "traceback": [
      "\u001b[1;31mnotebook controller is DISPOSED. \n",
      "\u001b[1;31m자세한 내용은 Jupyter <a href='command:jupyter.viewOutput'>로그</a>를 참조하세요."
     ]
    }
   ],
   "source": [
    "config_blob = \"\"\"{\n",
    "    \"name\": \"czii_cryoet_mlchallenge_2024\",\n",
    "    \"description\": \"2024 CZII CryoET ML Challenge training data.\",\n",
    "    \"version\": \"1.0.0\",\n",
    "\n",
    "    \"pickable_objects\": [\n",
    "        {\n",
    "            \"name\": \"apo-ferritin\",\n",
    "            \"is_particle\": true,\n",
    "            \"pdb_id\": \"4V1W\",\n",
    "            \"label\": 1,\n",
    "            \"color\": [  0, 117, 220, 128],\n",
    "            \"radius\": 60,\n",
    "            \"map_threshold\": 0.0418\n",
    "        },\n",
    "        {\n",
    "          \"name\" : \"beta-amylase\",\n",
    "            \"is_particle\": true,\n",
    "            \"pdb_id\": \"8ZRZ\",\n",
    "            \"label\": 2,\n",
    "            \"color\": [255, 255, 255, 128],\n",
    "            \"radius\": 90,\n",
    "            \"map_threshold\": 0.0578  \n",
    "        },\n",
    "        {\n",
    "            \"name\": \"beta-galactosidase\",\n",
    "            \"is_particle\": true,\n",
    "            \"pdb_id\": \"6X1Q\",\n",
    "            \"label\": 3,\n",
    "            \"color\": [ 76,   0,  92, 128],\n",
    "            \"radius\": 90,\n",
    "            \"map_threshold\": 0.0578\n",
    "        },\n",
    "        {\n",
    "            \"name\": \"ribosome\",\n",
    "            \"is_particle\": true,\n",
    "            \"pdb_id\": \"6EK0\",\n",
    "            \"label\": 4,\n",
    "            \"color\": [  0,  92,  49, 128],\n",
    "            \"radius\": 150,\n",
    "            \"map_threshold\": 0.0374\n",
    "        },\n",
    "        {\n",
    "            \"name\": \"thyroglobulin\",\n",
    "            \"is_particle\": true,\n",
    "            \"pdb_id\": \"6SCJ\",\n",
    "            \"label\": 5,\n",
    "            \"color\": [ 43, 206,  72, 128],\n",
    "            \"radius\": 130,\n",
    "            \"map_threshold\": 0.0278\n",
    "        },\n",
    "        {\n",
    "            \"name\": \"virus-like-particle\",\n",
    "            \"is_particle\": true,\n",
    "            \"label\": 6,\n",
    "            \"color\": [255, 204, 153, 128],\n",
    "            \"radius\": 135,\n",
    "            \"map_threshold\": 0.201\n",
    "        },\n",
    "        {\n",
    "            \"name\": \"membrane\",\n",
    "            \"is_particle\": false,\n",
    "            \"label\": 8,\n",
    "            \"color\": [100, 100, 100, 128]\n",
    "        },\n",
    "        {\n",
    "            \"name\": \"background\",\n",
    "            \"is_particle\": false,\n",
    "            \"label\": 9,\n",
    "            \"color\": [10, 150, 200, 128]\n",
    "        }\n",
    "    ],\n",
    "\n",
    "    \"overlay_root\": \"./kaggle/working/overlay\",\n",
    "\n",
    "    \"overlay_fs_args\": {\n",
    "        \"auto_mkdir\": true\n",
    "    },\n",
    "\n",
    "    \"static_root\": \"./kaggle/input/czii-cryo-et-object-identification/test/static\"\n",
    "}\"\"\"\n",
    "\n",
    "copick_config_path = \"./kaggle/working/copick.config\"\n",
    "preprocessor = Preprocessor(config_blob,copick_config_path=copick_config_path)\n",
    "non_random_transforms = Compose([\n",
    "    EnsureChannelFirstd(keys=[\"image\"], channel_dim=\"no_channel\"),\n",
    "    NormalizeIntensityd(keys=\"image\"),\n",
    "    Orientationd(keys=[\"image\"], axcodes=\"RAS\"),\n",
    "    GaussianSmoothd(\n",
    "        keys=[\"image\"],      # 변환을 적용할 키\n",
    "        sigma=[1.0, 1.0, 1.0]  # 각 축(x, y, z)의 시그마 값\n",
    "        ),\n",
    "    ])"
   ]
  },
  {
   "cell_type": "code",
   "execution_count": null,
   "metadata": {},
   "outputs": [
    {
     "name": "stderr",
     "output_type": "stream",
     "text": [
      "c:\\ProgramData\\anaconda3\\envs\\ship\\Lib\\site-packages\\monai\\utils\\deprecate_utils.py:221: FutureWarning: monai.networks.nets.swin_unetr SwinUNETR.__init__:img_size: Argument `img_size` has been deprecated since version 1.3. It will be removed in version 1.5. The img_size argument is not required anymore and checks on the input size are run during forward().\n",
      "  warn_deprecated(argname, msg, warning_category)\n",
      "C:\\Users\\Seungwoo\\AppData\\Local\\Temp\\ipykernel_6248\\2937359115.py:15: FutureWarning: You are using `torch.load` with `weights_only=False` (the current default value), which uses the default pickle module implicitly. It is possible to construct malicious pickle data which will execute arbitrary code during unpickling (See https://github.com/pytorch/pytorch/blob/main/SECURITY.md#untrusted-models for more details). In a future release, the default value for `weights_only` will be flipped to `True`. This limits the functions that could be executed during unpickling. Arbitrary objects will no longer be allowed to be loaded via this mode unless they are explicitly allowlisted by the user via `torch.serialization.add_safe_globals`. We recommend you start setting `weights_only=True` for any use case where you don't have full control of the loaded file. Please open an issue on GitHub for any issues related to this experimental feature.\n",
      "  checkpoint = torch.load(pretrain_path, map_location=device)\n"
     ]
    },
    {
     "data": {
      "text/plain": [
       "<All keys matched successfully>"
      ]
     },
     "execution_count": 15,
     "metadata": {},
     "output_type": "execute_result"
    },
    {
     "ename": "",
     "evalue": "",
     "output_type": "error",
     "traceback": [
      "\u001b[1;31mnotebook controller is DISPOSED. \n",
      "\u001b[1;31m자세한 내용은 Jupyter <a href='command:jupyter.viewOutput'>로그</a>를 참조하세요."
     ]
    },
    {
     "ename": "",
     "evalue": "",
     "output_type": "error",
     "traceback": [
      "\u001b[1;31mnotebook controller is DISPOSED. \n",
      "\u001b[1;31m자세한 내용은 Jupyter <a href='command:jupyter.viewOutput'>로그</a>를 참조하세요."
     ]
    }
   ],
   "source": [
    "img_size = 96\n",
    "img_depth = img_size\n",
    "n_classes = 7 \n",
    "\n",
    "device = torch.device(\"cuda\" if torch.cuda.is_available() else \"cpu\")\n",
    "pretrain_path = \"./model_checkpoints/SwinUNETR96_96_lr0.001_lambda0.52_batch2/best_model.pt\"\n",
    "model = SwinUNETR(\n",
    "    img_size=(img_depth, img_size, img_size),\n",
    "    in_channels=1,\n",
    "    out_channels=n_classes,\n",
    "    feature_size=48,\n",
    "    use_checkpoint=True,\n",
    ").to(device)\n",
    "# Pretrained weights 불러오기\n",
    "checkpoint = torch.load(pretrain_path, map_location=device)\n",
    "model.load_state_dict(checkpoint['model_state_dict'])\n"
   ]
  },
  {
   "cell_type": "code",
   "execution_count": null,
   "metadata": {},
   "outputs": [
    {
     "name": "stderr",
     "output_type": "stream",
     "text": [
      "Validation:   0%|          | 0/4 [00:03<?, ?it/s, loss=0.764]\n"
     ]
    },
    {
     "ename": "ZeroDivisionError",
     "evalue": "integer modulo by zero",
     "output_type": "error",
     "traceback": [
      "\u001b[1;31m---------------------------------------------------------------------------\u001b[0m",
      "\u001b[1;31mZeroDivisionError\u001b[0m                         Traceback (most recent call last)",
      "Cell \u001b[1;32mIn[16], line 1\u001b[0m\n\u001b[1;32m----> 1\u001b[0m val_loss \u001b[38;5;241m=\u001b[39m \u001b[43mvalidate_one_epoch\u001b[49m\u001b[43m(\u001b[49m\n\u001b[0;32m      2\u001b[0m \u001b[43m            \u001b[49m\u001b[43mmodel\u001b[49m\u001b[38;5;241;43m=\u001b[39;49m\u001b[43mmodel\u001b[49m\u001b[43m,\u001b[49m\u001b[43m \u001b[49m\n\u001b[0;32m      3\u001b[0m \u001b[43m            \u001b[49m\u001b[43mval_loader\u001b[49m\u001b[38;5;241;43m=\u001b[39;49m\u001b[43mval_loader\u001b[49m\u001b[43m,\u001b[49m\u001b[43m \u001b[49m\n\u001b[0;32m      4\u001b[0m \u001b[43m            \u001b[49m\u001b[43mcriterion\u001b[49m\u001b[38;5;241;43m=\u001b[39;49m\u001b[43mcriterion\u001b[49m\u001b[43m,\u001b[49m\u001b[43m \u001b[49m\n\u001b[0;32m      5\u001b[0m \u001b[43m            \u001b[49m\u001b[43mdevice\u001b[49m\u001b[38;5;241;43m=\u001b[39;49m\u001b[43mdevice\u001b[49m\u001b[43m,\u001b[49m\u001b[43m \u001b[49m\n\u001b[0;32m      6\u001b[0m \u001b[43m            \u001b[49m\u001b[43mepoch\u001b[49m\u001b[38;5;241;43m=\u001b[39;49m\u001b[38;5;241;43m1\u001b[39;49m\u001b[43m,\u001b[49m\u001b[43m \u001b[49m\n\u001b[0;32m      7\u001b[0m \u001b[43m            \u001b[49m\u001b[43mcalculate_dice_interval\u001b[49m\u001b[38;5;241;43m=\u001b[39;49m\u001b[38;5;241;43m0\u001b[39;49m\n\u001b[0;32m      8\u001b[0m \u001b[43m        \u001b[49m\u001b[43m)\u001b[49m\n",
      "Cell \u001b[1;32mIn[11], line 64\u001b[0m, in \u001b[0;36mvalidate_one_epoch\u001b[1;34m(model, val_loader, criterion, device, epoch, calculate_dice_interval)\u001b[0m\n\u001b[0;32m     61\u001b[0m pbar\u001b[38;5;241m.\u001b[39mset_postfix(loss\u001b[38;5;241m=\u001b[39mloss\u001b[38;5;241m.\u001b[39mitem())\n\u001b[0;32m     63\u001b[0m \u001b[38;5;66;03m# 각 클래스별 Dice 점수 계산\u001b[39;00m\n\u001b[1;32m---> 64\u001b[0m \u001b[38;5;28;01mif\u001b[39;00m \u001b[43mepoch\u001b[49m\u001b[43m \u001b[49m\u001b[38;5;241;43m%\u001b[39;49m\u001b[43m \u001b[49m\u001b[43mcalculate_dice_interval\u001b[49m \u001b[38;5;241m==\u001b[39m \u001b[38;5;241m0\u001b[39m:\n\u001b[0;32m     65\u001b[0m     \u001b[38;5;28;01mfor\u001b[39;00m i \u001b[38;5;129;01min\u001b[39;00m \u001b[38;5;28mrange\u001b[39m(n_classes):\n\u001b[0;32m     66\u001b[0m         pred_i \u001b[38;5;241m=\u001b[39m (preds \u001b[38;5;241m==\u001b[39m i)\n",
      "\u001b[1;31mZeroDivisionError\u001b[0m: integer modulo by zero"
     ]
    },
    {
     "ename": "",
     "evalue": "",
     "output_type": "error",
     "traceback": [
      "\u001b[1;31mnotebook controller is DISPOSED. \n",
      "\u001b[1;31m자세한 내용은 Jupyter <a href='command:jupyter.viewOutput'>로그</a>를 참조하세요."
     ]
    },
    {
     "ename": "",
     "evalue": "",
     "output_type": "error",
     "traceback": [
      "\u001b[1;31mnotebook controller is DISPOSED. \n",
      "\u001b[1;31m자세한 내용은 Jupyter <a href='command:jupyter.viewOutput'>로그</a>를 참조하세요."
     ]
    }
   ],
   "source": [
    "val_loss = validate_one_epoch(\n",
    "            model=model, \n",
    "            val_loader=val_loader, \n",
    "            criterion=criterion, \n",
    "            device=device, \n",
    "            epoch=1, \n",
    "            calculate_dice_interval=0\n",
    "        )"
   ]
  },
  {
   "cell_type": "code",
   "execution_count": null,
   "metadata": {},
   "outputs": [
    {
     "name": "stdout",
     "output_type": "stream",
     "text": [
      "Processing volume 1/7\n"
     ]
    },
    {
     "name": "stderr",
     "output_type": "stream",
     "text": [
      "Loading dataset: 100%|██████████| 1/1 [00:01<00:00,  1.94s/it]\n"
     ]
    },
    {
     "name": "stdout",
     "output_type": "stream",
     "text": [
      "Processing volume 2/7\n"
     ]
    },
    {
     "name": "stderr",
     "output_type": "stream",
     "text": [
      "Loading dataset: 100%|██████████| 1/1 [00:01<00:00,  1.89s/it]\n"
     ]
    },
    {
     "name": "stdout",
     "output_type": "stream",
     "text": [
      "Processing volume 3/7\n"
     ]
    },
    {
     "name": "stderr",
     "output_type": "stream",
     "text": [
      "Loading dataset: 100%|██████████| 1/1 [00:01<00:00,  1.79s/it]\n"
     ]
    },
    {
     "name": "stdout",
     "output_type": "stream",
     "text": [
      "Submission saved to: submission.csv\n"
     ]
    },
    {
     "ename": "",
     "evalue": "",
     "output_type": "error",
     "traceback": [
      "\u001b[1;31mnotebook controller is DISPOSED. \n",
      "\u001b[1;31m자세한 내용은 Jupyter <a href='command:jupyter.viewOutput'>로그</a>를 참조하세요."
     ]
    },
    {
     "ename": "",
     "evalue": "",
     "output_type": "error",
     "traceback": [
      "\u001b[1;31mnotebook controller is DISPOSED. \n",
      "\u001b[1;31m자세한 내용은 Jupyter <a href='command:jupyter.viewOutput'>로그</a>를 참조하세요."
     ]
    }
   ],
   "source": [
    "import torch\n",
    "import numpy as np\n",
    "from scipy.ndimage import label, center_of_mass\n",
    "import pandas as pd\n",
    "from tqdm import tqdm\n",
    "from monai.data import CacheDataset, DataLoader\n",
    "from monai.transforms import Compose, NormalizeIntensity\n",
    "import cc3d\n",
    "\n",
    "def dict_to_df(coord_dict, experiment_name):\n",
    "    all_coords = []\n",
    "    all_labels = []\n",
    "    \n",
    "    for label, coords in coord_dict.items():\n",
    "        all_coords.append(coords)\n",
    "        all_labels.extend([label] * len(coords))\n",
    "    \n",
    "    all_coords = np.vstack(all_coords)\n",
    "    df = pd.DataFrame({\n",
    "        'experiment': experiment_name,\n",
    "        'particle_type': all_labels,\n",
    "        'x': all_coords[:, 0],\n",
    "        'y': all_coords[:, 1],\n",
    "        'z': all_coords[:, 2]\n",
    "    })\n",
    "    return df\n",
    "\n",
    "id_to_name = {1: \"apo-ferritin\", \n",
    "              2: \"beta-amylase\",\n",
    "              3: \"beta-galactosidase\", \n",
    "              4: \"ribosome\", \n",
    "              5: \"thyroglobulin\", \n",
    "              6: \"virus-like-particle\"}\n",
    "BLOB_THRESHOLD = 200\n",
    "CERTAINTY_THRESHOLD = 0.05\n",
    "\n",
    "classes = [1, 2, 3, 4, 5, 6]\n",
    "\n",
    "model.eval()\n",
    "with torch.no_grad():\n",
    "    location_dfs = []  # DataFrame 리스트로 초기화\n",
    "    \n",
    "    for vol_idx, run in enumerate(preprocessor.root.runs):\n",
    "        print(f\"Processing volume {vol_idx + 1}/{len(preprocessor.root.runs)}\")\n",
    "        tomogram = preprocessor.processing(run=run, task=\"task\")\n",
    "        task_files = [{\"image\": tomogram}]\n",
    "        task_ds = CacheDataset(data=task_files, transform=non_random_transforms)\n",
    "        task_loader = DataLoader(task_ds, batch_size=1, num_workers=0)\n",
    "        \n",
    "        for task_data in task_loader:\n",
    "            images = task_data['image'].to(\"cuda\")\n",
    "            outputs = sliding_window_inference(\n",
    "                inputs=images,\n",
    "                roi_size=(96, 96, 96),  # ROI 크기\n",
    "                sw_batch_size=4,\n",
    "                predictor=model.forward,\n",
    "                overlap=0.1,\n",
    "                sw_device=\"cuda\",\n",
    "                device=\"cpu\",\n",
    "                buffer_steps=1,\n",
    "                buffer_dim=-1\n",
    "            )\n",
    "            outputs = outputs.argmax(dim=1).squeeze(0).cpu().numpy()  # 클래스 채널 예측\n",
    "            location = {}  # 좌표 저장용 딕셔너리\n",
    "            for c in classes:\n",
    "                cc = cc3d.connected_components(outputs == c)  # cc3d 라벨링\n",
    "                stats = cc3d.statistics(cc)\n",
    "                zyx = stats['centroids'][1:] * 10.012444  # 스케일 변환\n",
    "                zyx_large = zyx[stats['voxel_counts'][1:] > BLOB_THRESHOLD]  # 크기 필터링\n",
    "                xyz = np.ascontiguousarray(zyx_large[:, ::-1])  # 좌표 스왑 (z, y, x -> x, y, z)\n",
    "\n",
    "                location[id_to_name[c]] = xyz  # ID 이름 매칭 저장\n",
    "\n",
    "            # 데이터프레임 변환\n",
    "            df = dict_to_df(location, run.name)\n",
    "            location_dfs.append(df)  # 리스트에 추가\n",
    "        \n",
    "        # if vol_idx == 2:\n",
    "        #     break\n",
    "    \n",
    "    # DataFrame 병합\n",
    "    final_df = pd.concat(location_dfs, ignore_index=True)\n",
    "    \n",
    "    # ID 추가 및 CSV 저장\n",
    "    final_df.insert(loc=0, column='id', value=np.arange(len(final_df)))\n",
    "    final_df.to_csv(\"submission.csv\", index=False)\n",
    "    print(\"Submission saved to: submission.csv\")\n"
   ]
  }
 ],
 "metadata": {
  "kernelspec": {
   "display_name": "UM",
   "language": "python",
   "name": "python3"
  },
  "language_info": {
   "codemirror_mode": {
    "name": "ipython",
    "version": 3
   },
   "file_extension": ".py",
   "mimetype": "text/x-python",
   "name": "python",
   "nbconvert_exporter": "python",
   "pygments_lexer": "ipython3",
   "version": "3.12.7"
  }
 },
 "nbformat": 4,
 "nbformat_minor": 2
}
