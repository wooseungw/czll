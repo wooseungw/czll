{
 "cells": [
  {
   "cell_type": "code",
   "execution_count": null,
   "metadata": {},
   "outputs": [],
   "source": [
    "import os\n",
    "import shutil\n",
    "import tempfile\n",
    "\n",
    "import matplotlib.pyplot as plt\n",
    "from tqdm import tqdm\n",
    "\n",
    "import random\n",
    "import numpy as np\n",
    "import torch\n",
    "torch.backends.cudnn.benchmark = True\n",
    "\n",
    "from monai.networks.layers.factories import Act, Norm\n",
    "from monai.losses import DiceCELoss\n",
    "from monai.inferers import sliding_window_inference\n",
    "from monai.transforms import (\n",
    "    AsDiscrete,\n",
    "    EnsureChannelFirstd,\n",
    "    Compose,\n",
    "    CropForegroundd,\n",
    "    LoadImaged,\n",
    "    Orientationd,\n",
    "    RandFlipd,\n",
    "    RandCropByPosNegLabeld,\n",
    "    RandShiftIntensityd,\n",
    "    ScaleIntensityRanged,\n",
    "    Spacingd,\n",
    "    RandRotate90d,\n",
    ")\n",
    "\n",
    "from monai.config import print_config\n",
    "from monai.metrics import DiceMetric\n",
    "from monai.networks.nets import UNet\n",
    "from src.models import *\n",
    "\n",
    "from src.models import UNet_CBAM\n",
    "\n",
    "from monai.data import (\n",
    "    DataLoader,\n",
    "    CacheDataset,\n",
    "    load_decathlon_datalist,\n",
    "    decollate_batch,\n",
    ")\n",
    "\n",
    "# 랜덤 시드 고정\n",
    "def set_seed(seed):\n",
    "    random.seed(seed)\n",
    "    np.random.seed(seed)\n",
    "    torch.manual_seed(seed)\n",
    "    if torch.cuda.is_available():\n",
    "        torch.cuda.manual_seed_all(seed)\n",
    "\n",
    "set_seed(42)\n",
    "\n",
    "\n",
    "print_config()\n",
    "\n",
    "import torch\n",
    "import torch.nn as nn\n",
    "import torch.nn.functional as F\n",
    "from monai.losses import TverskyLoss\n",
    "\n",
    "# DynamicTverskyLoss 클래스 정의\n",
    "class DynamicTverskyLoss(TverskyLoss):\n",
    "    def __init__(self, lamda=0.5, **kwargs):\n",
    "        super().__init__(alpha=1 - lamda, beta=lamda, **kwargs)\n",
    "        self.lamda = lamda\n",
    "\n",
    "    def set_lamda(self, lamda):\n",
    "        self.lamda = lamda\n",
    "        self.alpha = 1 - lamda\n",
    "        self.beta = lamda\n",
    "\n",
    "\n",
    "# CombinedCETverskyLoss 클래스\n",
    "class CombinedCETverskyLoss(nn.Module):\n",
    "    def __init__(self, lamda=0.5, ce_weight=0.5, n_classes=7, class_weights=None, ignore_index=-1, **kwargs):\n",
    "        super().__init__()\n",
    "        self.n_classes = n_classes\n",
    "        self.ce_weight = ce_weight\n",
    "        self.ignore_index = ignore_index\n",
    "        \n",
    "        # CrossEntropyLoss에서 클래스별 가중치를 적용\n",
    "        self.ce = nn.CrossEntropyLoss(weight=class_weights, ignore_index=self.ignore_index, reduction='mean', **kwargs)\n",
    "        \n",
    "        # TverskyLoss\n",
    "        self.tversky = DynamicTverskyLoss(lamda=lamda, reduction=\"mean\",softmax=True, **kwargs)\n",
    "\n",
    "    def forward(self, inputs, targets):\n",
    "        \n",
    "        # CrossEntropyLoss는 정수형 클래스 인덱스를 사용\n",
    "        ce_loss = self.ce(inputs, targets)\n",
    "\n",
    "        # TverskyLoss 계산 (원핫 인코딩된 라벨을 사용)\n",
    "        \n",
    "        tversky_loss = self.tversky(inputs, targets)\n",
    "\n",
    "        # 최종 손실 계산\n",
    "        final_loss = self.ce_weight * ce_loss + (1 - self.ce_weight) * tversky_loss\n",
    "        return final_loss\n",
    "\n",
    "    def set_lamda(self, lamda):\n",
    "        self.tversky.set_lamda(lamda)\n",
    "\n",
    "    @property\n",
    "    def lamda(self):\n",
    "        return self.tversky.lamda\n",
    "    \n",
    "import torch.optim as optim\n",
    "from tqdm import tqdm\n",
    "import numpy as np\n",
    "import torch\n",
    "from pathlib import Path\n",
    "from monai.metrics import DiceMetric\n",
    "\n"
   ]
  },
  {
   "cell_type": "code",
   "execution_count": 2,
   "metadata": {},
   "outputs": [
    {
     "name": "stdout",
     "output_type": "stream",
     "text": [
      "클래스 비율: {0: 0.0, 1: 0.16393442622950818, 2: 0.01639344262295082, 3: 0.2459016393442623, 4: 0.16393442622950818, 5: 0.2459016393442623, 6: 0.16393442622950818}\n",
      "최종 합계: 1.0\n",
      "클래스 비율 리스트: [0.0, 0.16393442622950818, 0.01639344262295082, 0.2459016393442623, 0.16393442622950818, 0.2459016393442623, 0.16393442622950818]\n"
     ]
    }
   ],
   "source": [
    "class_info = {\n",
    "    0: {\"name\": \"background\", \"weight\": 0},  # weight 없음\n",
    "    1: {\"name\": \"apo-ferritin\", \"weight\": 1000},\n",
    "    2: {\"name\": \"beta-amylase\", \"weight\": 100}, # 4130\n",
    "    3: {\"name\": \"beta-galactosidase\", \"weight\": 1500}, #3080\n",
    "    4: {\"name\": \"ribosome\", \"weight\": 1000},\n",
    "    5: {\"name\": \"thyroglobulin\", \"weight\": 1500},\n",
    "    6: {\"name\": \"virus-like-particle\", \"weight\": 1000},\n",
    "}\n",
    "\n",
    "# 가중치에 비례한 비율 계산\n",
    "raw_ratios = {\n",
    "    k: (v[\"weight\"] if v[\"weight\"] is not None else 0.01)  # 가중치 비례, None일 경우 기본값a\n",
    "    for k, v in class_info.items()\n",
    "}\n",
    "total = sum(raw_ratios.values())\n",
    "ratios = {k: v / total for k, v in raw_ratios.items()}\n",
    "\n",
    "# 최종 합계가 1인지 확인\n",
    "final_total = sum(ratios.values())\n",
    "print(\"클래스 비율:\", ratios)\n",
    "print(\"최종 합계:\", final_total)\n",
    "\n",
    "# 비율을 리스트로 변환\n",
    "ratios_list = [ratios[k] for k in sorted(ratios.keys())]\n",
    "print(\"클래스 비율 리스트:\", ratios_list)"
   ]
  },
  {
   "cell_type": "markdown",
   "metadata": {},
   "source": [
    "# 모델 설정"
   ]
  },
  {
   "cell_type": "code",
   "execution_count": 3,
   "metadata": {},
   "outputs": [],
   "source": [
    "from src.dataset.dataset import create_dataloaders\n",
    "from src.dataset.dataset_csv import create_dataloaders_from_csv\n",
    "from monai.transforms import (\n",
    "    Compose, LoadImaged, EnsureChannelFirstd, NormalizeIntensityd,\n",
    "    Orientationd, CropForegroundd, GaussianSmoothd, ScaleIntensityd,\n",
    "    RandSpatialCropd, RandRotate90d, RandFlipd, RandGaussianNoised,\n",
    "    ToTensord, RandCropByLabelClassesd, RandAdjustContrastd,RandKSpaceSpikeNoised,\n",
    "    RandGaussianSmoothd, RandHistogramShiftd\n",
    ")\n",
    "from monai.transforms import CastToTyped\n",
    "import numpy as np\n",
    "\n",
    "train_csv = './datasets/train.csv'\n",
    "val_csv = './datasets/val.csv'\n",
    "# DATA CONFIG\n",
    "img_size =  96 # Match your patch size\n",
    "img_depth = 32\n",
    "n_classes = 7\n",
    "batch_size = 4 # 13.8GB GPU memory required for 128x128 img size\n",
    "num_samples = batch_size # 한 이미지에서 뽑을 샘플 수\n",
    "loader_batch = 1\n",
    "num_repeat = 20\n",
    "val_num_repeat = 20\n",
    "# MODEL CONFIG\n",
    "num_epochs = 4000\n",
    "lamda = 0.5\n",
    "ce_weight = 0.4\n",
    "lr = 0.001\n",
    "\n",
    "use_checkpoint = False\n",
    "dropout = 0.25\n",
    "enc_channels = (32, 64, 128, 256)\n",
    "enc_strides = (2, 2, 2)\n",
    "num_layers_enc = (1, 1, 1, 2)\n",
    "\n",
    "core_channels = 32\n",
    "dec_channels = (128, 128, 32)\n",
    "dec_strides = (2, 2, 2)\n",
    "num_layers_dec = (2, 1, 1)\n",
    "\n",
    "# 디코더간 스킵 예시:\n",
    "#   디코더0: (\"enc\",2), (\"dec\", ?) -- 가능하지만 보통 dec_? < dec_0\n",
    "#   디코더1: (\"enc\",1), (\"dec\",0)\n",
    "#   디코더2: (\"enc\",0), (\"dec\",1)\n",
    "# 반드시 \"dec\", j => j < i 여야함\n",
    "skip_map = {\n",
    "0: [(\"enc\", 2)],       # 디코더0 => 인코더2\n",
    "1: [(\"enc\", 3), (\"enc\", 1)],  # 디코더1 => 인코더1 + 디코더0\n",
    "2: [(\"enc\", 3), (\"dec\", 0), (\"enc\", 0)]   # 디코더2 => 인코더0 + 디코더1\n",
    "}\n",
    "\n",
    "\n",
    "#conv_op = nn.Conv3d\n",
    "\n",
    "# CLASS_WEIGHTS\n",
    "class_weights = None\n",
    "# class_weights = torch.tensor([1, 1, 1, 1, 1, 1, 1], dtype=torch.float32)  # 클래스별 가중치\n",
    "accumulation_steps = 1\n",
    "# INIT\n",
    "start_epoch = 0\n",
    "best_val_loss = float('inf')\n",
    "best_val_fbeta_score = 0\n",
    "\n",
    "train_non_random_transforms = Compose([\n",
    "    EnsureChannelFirstd(keys=[\"image\", \"label\"], channel_dim=\"no_channel\"),\n",
    "    Orientationd(keys=[\"image\", \"label\"], axcodes=\"RAS\"),\n",
    "    GaussianSmoothd(\n",
    "        keys=[\"image\"],      # 변환을 적용할 키\n",
    "        sigma=[2.0, 2.0, 2.0]  # 각 축(x, y, z)의 시그마 값\n",
    "        ),\n",
    "    NormalizeIntensityd(keys=\"image\"),\n",
    "    ])\n",
    "\n",
    "val_non_random_transforms = Compose([\n",
    "    EnsureChannelFirstd(keys=[\"image\", \"label\"], channel_dim=\"no_channel\"),\n",
    "    Orientationd(keys=[\"image\", \"label\"], axcodes=\"RAS\"),\n",
    "    NormalizeIntensityd(keys=\"image\"),\n",
    "    GaussianSmoothd(\n",
    "        keys=[\"image\"],      # 변환을 적용할 키\n",
    "        sigma=[2.0, 2.0, 2.0]  # 각 축(x, y, z)의 시그마 값\n",
    "        ),\n",
    "    ])\n",
    "\n",
    "train_random_transforms = Compose([\n",
    "    RandCropByLabelClassesd(\n",
    "        keys=[\"image\", \"label\"],\n",
    "        label_key=\"label\",\n",
    "        spatial_size=[img_depth, img_size, img_size],\n",
    "        num_classes=n_classes,\n",
    "        num_samples=num_samples, \n",
    "        ratios=ratios_list,\n",
    "    ),\n",
    "    RandAdjustContrastd(keys=\"image\", prob=0.5, gamma=(0.5, 4.5)),\n",
    "    \n",
    "    RandRotate90d(keys=[\"image\", \"label\"], prob=0.5, spatial_axes=[1, 2]),\n",
    "    RandFlipd(keys=[\"image\", \"label\"], prob=0.5, spatial_axis=0),\n",
    "    RandFlipd(keys=[\"image\", \"label\"], prob=0.5, spatial_axis=1),\n",
    "    RandFlipd(keys=[\"image\", \"label\"], prob=0.5, spatial_axis=2),\n",
    "])\n",
    "\n",
    "val_random_transforms = Compose([\n",
    "    RandCropByLabelClassesd(\n",
    "        keys=[\"image\", \"label\"],\n",
    "        label_key=\"label\",\n",
    "        spatial_size=[img_depth, img_size, img_size],\n",
    "        num_classes=n_classes,\n",
    "        num_samples=num_samples, \n",
    "        ratios=ratios_list,\n",
    "    ),\n",
    "    RandRotate90d(keys=[\"image\", \"label\"], prob=0.5, spatial_axes=[1, 2]),\n",
    "    RandFlipd(keys=[\"image\", \"label\"], prob=0.5, spatial_axis=0),\n",
    "    RandFlipd(keys=[\"image\", \"label\"], prob=0.5, spatial_axis=1),\n",
    "    RandFlipd(keys=[\"image\", \"label\"], prob=0.5, spatial_axis=2),\n",
    "])\n"
   ]
  },
  {
   "cell_type": "code",
   "execution_count": null,
   "metadata": {},
   "outputs": [
    {
     "name": "stderr",
     "output_type": "stream",
     "text": [
      "Loading dataset: 100%|██████████| 26/26 [00:41<00:00,  1.61s/it]\n"
     ]
    }
   ],
   "source": [
    "train_loader, val_loader = None, None\n",
    "train_loader, val_loader = create_dataloaders_from_csv(\n",
    "    train_csv,\n",
    "    val_csv, \n",
    "    train_non_random_transforms = train_non_random_transforms, \n",
    "    val_non_random_transforms=val_non_random_transforms,\n",
    "    train_random_transforms=train_random_transforms,\n",
    "    val_random_transforms=val_random_transforms,\n",
    "    batch_size = loader_batch,\n",
    "    num_workers=0,train_num_repeat=num_repeat, val_num_repeat=val_num_repeat\n",
    "    )"
   ]
  },
  {
   "cell_type": "markdown",
   "metadata": {},
   "source": [
    "https://monai.io/model-zoo.html"
   ]
  },
  {
   "cell_type": "code",
   "execution_count": 5,
   "metadata": {},
   "outputs": [],
   "source": []
  },
  {
   "cell_type": "markdown",
   "metadata": {},
   "source": [
    "# 모델 선언"
   ]
  },
  {
   "cell_type": "code",
   "execution_count": 5,
   "metadata": {},
   "outputs": [],
   "source": [
    "\n",
    "\n",
    "device = torch.device(\"cuda\" if torch.cuda.is_available() else \"cpu\")\n",
    "\n",
    "model = FlexibleUNet(\n",
    "    spatial_dims=3,\n",
    "    in_channels=1,\n",
    "    out_channels=7,\n",
    "    encoder_channels=enc_channels,\n",
    "    encoder_strides=enc_strides,\n",
    "    decoder_channels=dec_channels,\n",
    "    decoder_strides=dec_strides,\n",
    "    num_layers_encoder=num_layers_enc,\n",
    "    num_layers_decoder=num_layers_dec,\n",
    "    skip_connections=skip_map,\n",
    "    kernel_size=3,\n",
    "    up_kernel_size=3,\n",
    "    dropout=dropout,\n",
    "    bias=True,\n",
    "    act=Act.PRELU,\n",
    "    norm=Norm.INSTANCE,\n",
    ").to(device)\n",
    "# Pretrained weights 불러오기\n",
    "# if use_checkpoint:\n",
    "#     pretrain_path = \"./model_checkpoints/UNet_10441_a1_96x96x96_e4000_lr0.001_lamda0.5_ce0.4_no_weighted/best_model.pt\"\n",
    "#     weight = torch.load(pretrain_path, map_location=device)\n",
    "#     # strict=False로 로드하여 불일치하는 부분 무시\n",
    "#     model.load_state_dict(weight, strict=False)\n",
    "#     print(\"Weights loaded successfully. Output layer will be trained from scratch.\")\n",
    "\n",
    "# Load pretrained weights\n",
    "# model.load_from(weights=np.load(config_vit.real_pretrained_path, allow_pickle=True))\n",
    "# TverskyLoss 설정\n",
    "# 사용 예시\n",
    "criterion = CombinedCETverskyLoss(\n",
    "    lamda=lamda,\n",
    "    ce_weight=ce_weight,\n",
    "    n_classes=n_classes,\n",
    "    class_weights=class_weights,\n",
    "    \n",
    ").to(device)\n",
    "\n",
    "pretrain_str = \"yes\" if use_checkpoint else \"no\"\n",
    "weight_str = \"weighted\" if class_weights is not None else \"\"\n",
    "\n",
    "# 체크포인트 디렉토리 및 파일 설정\n",
    "checkpoint_base_dir = Path(\"./model_checkpoints\")\n",
    "folder_name = f\"UNet_flexable_10441_a{accumulation_steps}_{img_size}x{img_size}x{img_size}_e{num_epochs}_lr{lr}_lamda{lamda}_ce{ce_weight}_{pretrain_str}\"\n",
    "checkpoint_dir = checkpoint_base_dir / folder_name\n",
    "optimizer = optim.AdamW(model.parameters(), lr=lr, weight_decay=1e-5)\n",
    "scheduler = torch.optim.lr_scheduler.ReduceLROnPlateau(optimizer, patience=5, factor=0.5)\n",
    "# 체크포인트 디렉토리 생성\n",
    "checkpoint_dir.mkdir(parents=True, exist_ok=True)\n",
    "\n",
    "if checkpoint_dir.exists():\n",
    "    best_model_path = checkpoint_dir / 'best_model.pt'\n",
    "    if best_model_path.exists():\n",
    "        print(f\"기존 best model 발견: {best_model_path}\")\n",
    "        try:\n",
    "            checkpoint = torch.load(best_model_path, map_location=device)\n",
    "            # 체크포인트 내부 키 검증\n",
    "            required_keys = ['model_state_dict', 'optimizer_state_dict', 'epoch', 'best_val_loss']\n",
    "            if all(k in checkpoint for k in required_keys):\n",
    "                model.load_state_dict(checkpoint['model_state_dict'])\n",
    "                optimizer.load_state_dict(checkpoint['optimizer_state_dict'])\n",
    "                start_epoch = checkpoint['epoch']\n",
    "                best_val_loss = checkpoint['best_val_loss']\n",
    "                print(\"기존 학습된 가중치를 성공적으로 로드했습니다.\")\n",
    "                checkpoint= None\n",
    "            else:\n",
    "                raise ValueError(\"체크포인트 파일에 필요한 key가 없습니다.\")\n",
    "        except Exception as e:\n",
    "            print(f\"체크포인트 파일을 로드하는 중 오류 발생: {e}\")"
   ]
  },
  {
   "cell_type": "code",
   "execution_count": 6,
   "metadata": {},
   "outputs": [],
   "source": [
    "# batch = next(iter(val_loader))\n",
    "# images, labels = batch[\"image\"], batch[\"label\"]\n",
    "# print(images.shape, labels.shape)"
   ]
  },
  {
   "cell_type": "code",
   "execution_count": 8,
   "metadata": {},
   "outputs": [],
   "source": []
  },
  {
   "cell_type": "code",
   "execution_count": 7,
   "metadata": {},
   "outputs": [
    {
     "name": "stderr",
     "output_type": "stream",
     "text": [
      "\u001b[34m\u001b[1mwandb\u001b[0m: Currently logged in as: \u001b[33mwoow070840\u001b[0m (\u001b[33mwaooang\u001b[0m). Use \u001b[1m`wandb login --relogin`\u001b[0m to force relogin\n",
      "\u001b[34m\u001b[1mwandb\u001b[0m: Using wandb-core as the SDK backend.  Please refer to https://wandb.me/wandb-core for more information.\n"
     ]
    },
    {
     "data": {
      "text/html": [
       "Tracking run with wandb version 0.19.2"
      ],
      "text/plain": [
       "<IPython.core.display.HTML object>"
      ]
     },
     "metadata": {},
     "output_type": "display_data"
    },
    {
     "data": {
      "text/html": [
       "Run data is saved locally in <code>e:\\Workspace\\czll\\wandb\\run-20250118_040451-hrnqqvpe</code>"
      ],
      "text/plain": [
       "<IPython.core.display.HTML object>"
      ]
     },
     "metadata": {},
     "output_type": "display_data"
    },
    {
     "data": {
      "text/html": [
       "Syncing run <strong><a href='https://wandb.ai/waooang/czii_SwinUnetR/runs/hrnqqvpe' target=\"_blank\">UNet_flexable_10441_a4_96x96x96_e4000_lr0.001_lamda0.5_ce0.4_no_weighted</a></strong> to <a href='https://wandb.ai/waooang/czii_SwinUnetR' target=\"_blank\">Weights & Biases</a> (<a href='https://wandb.me/developer-guide' target=\"_blank\">docs</a>)<br>"
      ],
      "text/plain": [
       "<IPython.core.display.HTML object>"
      ]
     },
     "metadata": {},
     "output_type": "display_data"
    },
    {
     "data": {
      "text/html": [
       " View project at <a href='https://wandb.ai/waooang/czii_SwinUnetR' target=\"_blank\">https://wandb.ai/waooang/czii_SwinUnetR</a>"
      ],
      "text/plain": [
       "<IPython.core.display.HTML object>"
      ]
     },
     "metadata": {},
     "output_type": "display_data"
    },
    {
     "data": {
      "text/html": [
       " View run at <a href='https://wandb.ai/waooang/czii_SwinUnetR/runs/hrnqqvpe' target=\"_blank\">https://wandb.ai/waooang/czii_SwinUnetR/runs/hrnqqvpe</a>"
      ],
      "text/plain": [
       "<IPython.core.display.HTML object>"
      ]
     },
     "metadata": {},
     "output_type": "display_data"
    }
   ],
   "source": [
    "import wandb\n",
    "from datetime import datetime\n",
    "\n",
    "current_time = datetime.now().strftime('%Y%m%d_%H%M%S')\n",
    "run_name = folder_name\n",
    "\n",
    "# wandb 초기화\n",
    "wandb.init(\n",
    "    project='czii_SwinUnetR',  # 프로젝트 이름 설정\n",
    "    name=run_name,         # 실행(run) 이름 설정\n",
    "    config={\n",
    "        'num_epochs': num_epochs,\n",
    "        'learning_rate': lr,\n",
    "        'batch_size': batch_size,\n",
    "        'lambda': lamda,\n",
    "        \"cross_entropy_weight\": ce_weight,\n",
    "        'enc_channels': enc_channels,\n",
    "        'enc_strides': enc_strides,\n",
    "        'dec_channels': dec_channels,\n",
    "        'dec_strides': dec_strides,\n",
    "        'num_layers_enc': num_layers_enc,\n",
    "        'num_layers_dec': num_layers_dec,\n",
    "        'skip_map': skip_map,\n",
    "        'img_size': img_size,\n",
    "        'sampling_ratio': ratios_list,\n",
    "        'device': device.type,\n",
    "        \"checkpoint_dir\": str(checkpoint_dir),\n",
    "        \"use_checkpoint\": use_checkpoint,\n",
    "        \"dropout\": dropout,        \n",
    "        \"accumulation_steps\": accumulation_steps,\n",
    "        \"num_repeat\": num_repeat,\n",
    "        \n",
    "        # 필요한 하이퍼파라미터 추가\n",
    "    }\n",
    ")\n",
    "# 모델을 wandb에 연결\n",
    "wandb.watch(model, log='all')"
   ]
  },
  {
   "cell_type": "markdown",
   "metadata": {},
   "source": [
    "# 학습"
   ]
  },
  {
   "cell_type": "code",
   "execution_count": 8,
   "metadata": {},
   "outputs": [],
   "source": [
    "from monai.metrics import DiceMetric\n",
    "    \n",
    "def processing(batch_data, model, criterion, device):\n",
    "    images = batch_data['image'].to(device)  # Input 이미지 (B, 1, 96, 96, 96)\n",
    "    labels = batch_data['label'].to(device)  # 라벨 (B, 96, 96, 96)\n",
    "\n",
    "    labels = labels.squeeze(1)  # (B, 1, 96, 96, 96) → (B, 96, 96, 96)\n",
    "    labels = labels.long()  # 라벨을 정수형으로 변환\n",
    "\n",
    "    # 원핫 인코딩 (B, H, W, D) → (B, num_classes, H, W, D)\n",
    "    \n",
    "    labels_onehot = torch.nn.functional.one_hot(labels, num_classes=n_classes)\n",
    "    labels_onehot = labels_onehot.permute(0, 4, 1, 2, 3).float()  # (B, num_classes, H, W, D)\n",
    "\n",
    "    # 모델 예측\n",
    "    outputs = model(images)  # outputs: (B, num_classes, H, W, D)\n",
    "\n",
    "    # Loss 계산\n",
    "    loss = criterion(outputs, labels_onehot)\n",
    "    # loss = loss_fn(criterion(outputs, labels_onehot),class_weights=class_weights, device=device)\n",
    "    return loss, outputs, labels, outputs.argmax(dim=1)\n",
    "\n",
    "def train_one_epoch(model, train_loader, criterion, optimizer, device, epoch, accumulation_steps=4):\n",
    "    model.train()\n",
    "    epoch_loss = 0\n",
    "    optimizer.zero_grad()  # 그래디언트 초기화\n",
    "    with tqdm(train_loader, desc='Training') as pbar:\n",
    "        for i, batch_data in enumerate(pbar):\n",
    "            # 손실 계산\n",
    "            loss, _, _, _ = processing(batch_data, model, criterion, device)\n",
    "\n",
    "            # 그래디언트를 계산하고 누적\n",
    "            loss = loss / accumulation_steps  # 그래디언트 누적을 위한 스케일링\n",
    "            loss.backward()  # 그래디언트 계산 및 누적\n",
    "            \n",
    "            # 그래디언트 업데이트 (accumulation_steps마다 한 번)\n",
    "            if (i + 1) % accumulation_steps == 0 or (i + 1) == len(train_loader):\n",
    "                optimizer.step()  # 파라미터 업데이트\n",
    "                optimizer.zero_grad()  # 누적된 그래디언트 초기화\n",
    "            \n",
    "            # 손실값 누적 (스케일링 복구)\n",
    "            epoch_loss += loss.item() * accumulation_steps  # 실제 손실값 반영\n",
    "            pbar.set_postfix(loss=loss.item() * accumulation_steps)  # 실제 손실값 출력\n",
    "    avg_loss = epoch_loss / len(train_loader)\n",
    "    wandb.log({'train_epoch_loss': avg_loss, 'epoch': epoch + 1})\n",
    "    return avg_loss\n",
    "\n",
    "\n",
    "\n",
    "def validate_one_epoch(model, val_loader, criterion, device, epoch, calculate_dice_interval, ce_weight):\n",
    "    model.eval()\n",
    "    val_loss = 0\n",
    "    \n",
    "    class_dice_scores = {i: [] for i in range(n_classes)}\n",
    "    class_f_beta_scores = {i: [] for i in range(n_classes)}\n",
    "    class_mIoU_scores = {i: [] for i in range(n_classes)}\n",
    "    with torch.no_grad():\n",
    "        with tqdm(val_loader, desc='Validation') as pbar:\n",
    "            for batch_data in pbar:\n",
    "                loss, _, labels, preds = processing(batch_data, model, criterion, device)\n",
    "                val_loss += loss.item()\n",
    "                pbar.set_postfix(loss=loss.item())\n",
    "\n",
    "                # 각 클래스별 Dice 점수 계산\n",
    "                if epoch % calculate_dice_interval == 0:\n",
    "                    for i in range(n_classes):\n",
    "                        pred_i = (preds == i)\n",
    "                        label_i = (labels == i)\n",
    "                        dice_score = (2.0 * torch.sum(pred_i & label_i)) / (torch.sum(pred_i) + torch.sum(label_i) + 1e-8)\n",
    "                        class_dice_scores[i].append(dice_score.item())\n",
    "                        precision = (torch.sum(pred_i & label_i) + 1e-8) / (torch.sum(pred_i) + 1e-8)\n",
    "                        recall = (torch.sum(pred_i & label_i) + 1e-8) / (torch.sum(label_i) + 1e-8)\n",
    "                        f_beta_score = (1 + 4**2) * (precision * recall) / (4**2 * precision + recall + 1e-8)\n",
    "                        class_f_beta_scores[i].append(f_beta_score.item())\n",
    "                        intersection = torch.sum(pred_i & label_i).float()\n",
    "                        union = torch.sum(pred_i | label_i).float()\n",
    "                        iou = (intersection + 1e-8) / (union + 1e-8)\n",
    "                        class_mIoU_scores[i].append(iou.item())\n",
    "\n",
    "    avg_loss = val_loss / len(val_loader)\n",
    "    # 에포크별 평균 손실 로깅\n",
    "    wandb.log({'val_epoch_loss': avg_loss, 'epoch': epoch + 1})\n",
    "    \n",
    "    # 각 클래스별 평균 Dice 점수 출력\n",
    "    if epoch % calculate_dice_interval == 0:\n",
    "        print(\"Validation Dice Score\")\n",
    "        all_classes_dice_scores = []\n",
    "        for i in range(n_classes):\n",
    "            mean_dice = np.mean(class_dice_scores[i])\n",
    "            wandb.log({f'class_{i}_dice_score': mean_dice, 'epoch': epoch + 1})\n",
    "            print(f\"Class {i}: {mean_dice:.4f}\", end=\", \")\n",
    "            if i not in [0, 2]:  # 평균에 포함할 클래스만 추가\n",
    "                all_classes_dice_scores.append(mean_dice)\n",
    "            \n",
    "        print()\n",
    "    if epoch % calculate_dice_interval == 0:\n",
    "        print(\"Validation F-beta Score\")\n",
    "        all_classes_fbeta_scores = []\n",
    "        for i in range(n_classes):\n",
    "            mean_fbeta = np.mean(class_f_beta_scores[i])\n",
    "            wandb.log({f'class_{i}_f_beta_score': mean_fbeta, 'epoch': epoch + 1})\n",
    "            print(f\"Class {i}: {mean_fbeta:.4f}\", end=\", \")\n",
    "            if i not in [0, 2]:  # 평균에 포함할 클래스만 추가\n",
    "                all_classes_fbeta_scores.append(mean_fbeta)\n",
    "               \n",
    "        print() \n",
    "    if epoch % calculate_dice_interval == 0:\n",
    "        print(\"Validation mIoU Score\")\n",
    "        all_classes_mIoU_scores = []\n",
    "        for i in range(n_classes):\n",
    "            mean_IoU = np.mean(class_mIoU_scores[i])\n",
    "            wandb.log({f'class_{i}_IoU_score': mean_fbeta, 'epoch': epoch + 1})\n",
    "            print(f\"Class {i}: {mean_IoU:.4f}\", end=\", \")\n",
    "            if i not in [0, 2]:  # 평균에 포함할 클래스만 추가\n",
    "                all_classes_mIoU_scores.append(mean_IoU)\n",
    "                \n",
    "        print()\n",
    "        overall_mean_dice = np.mean(all_classes_dice_scores)\n",
    "        overall_mean_fbeta = np.mean(all_classes_fbeta_scores)\n",
    "        overall_mean_IoU = np.mean(all_classes_mIoU_scores)\n",
    "        wandb.log({'overall_mean_f_beta_score': overall_mean_fbeta, 'overall_mean_dice_score': overall_mean_dice, 'epoch': epoch + 1, 'overall_mean_IoU_score': overall_mean_IoU})\n",
    "        print(f\"\\nOverall Mean Dice Score: {overall_mean_dice:.4f}\\nOverall Mean F-beta Score: {overall_mean_fbeta:.4f}\\nOverall Mean IoU Score: {overall_mean_IoU:.4f}\")\n",
    "\n",
    "    if overall_mean_fbeta is None:\n",
    "        overall_mean_fbeta = 0\n",
    "\n",
    "    final_score = overall_mean_fbeta * (1 - ce_weight) + overall_mean_IoU * ce_weight\n",
    "    return val_loss / len(val_loader), final_score \n",
    "\n",
    "def train_model(\n",
    "    model, train_loader, val_loader, criterion, optimizer, num_epochs, patience, \n",
    "    device, start_epoch, best_val_loss, best_val_fbeta_score, calculate_dice_interval=1,\n",
    "    accumulation_steps=4, pretrained=False\n",
    "):\n",
    "    \"\"\"\n",
    "    모델을 학습하고 검증하는 함수\n",
    "    Args:\n",
    "        model: 학습할 모델\n",
    "        train_loader: 학습 데이터 로더\n",
    "        val_loader: 검증 데이터 로더\n",
    "        criterion: 손실 함수\n",
    "        optimizer: 최적화 알고리즘\n",
    "        num_epochs: 총 학습 epoch 수\n",
    "        patience: early stopping 기준\n",
    "        device: GPU/CPU 장치\n",
    "        start_epoch: 시작 epoch\n",
    "        best_val_loss: 이전 최적 validation loss\n",
    "        best_val_fbeta_score: 이전 최적 validation f-beta score\n",
    "        calculate_dice_interval: Dice 점수 계산 주기\n",
    "    \"\"\"\n",
    "    epochs_no_improve = 0\n",
    "\n",
    "    for epoch in range(start_epoch, num_epochs):\n",
    "        print(f\"Epoch {epoch + 1}/{num_epochs}\")\n",
    "\n",
    "        # Train One Epoch\n",
    "        train_loss = train_one_epoch(\n",
    "            model=model, \n",
    "            train_loader=train_loader, \n",
    "            criterion=criterion, \n",
    "            optimizer=optimizer, \n",
    "            device=device,\n",
    "            epoch=epoch,\n",
    "            accumulation_steps= accumulation_steps\n",
    "        )\n",
    "        \n",
    "        scheduler.step(train_loss)\n",
    "        # Validate One Epoch\n",
    "        val_loss, overall_mean_fbeta_score = validate_one_epoch(\n",
    "            model=model, \n",
    "            val_loader=val_loader, \n",
    "            criterion=criterion, \n",
    "            device=device, \n",
    "            epoch=epoch, \n",
    "            calculate_dice_interval=calculate_dice_interval,\n",
    "            ce_weight=ce_weight\n",
    "        )\n",
    "\n",
    "        \n",
    "        print(f\"Training Loss: {train_loss:.4f}, Validation Loss: {val_loss:.4f}, Validation F-beta: {overall_mean_fbeta_score:.4f}\")\n",
    "\n",
    "        if val_loss < best_val_loss and overall_mean_fbeta_score > best_val_fbeta_score:\n",
    "            best_val_loss = val_loss\n",
    "            best_val_fbeta_score = overall_mean_fbeta_score\n",
    "            epochs_no_improve = 0\n",
    "            if pretrained:\n",
    "                checkpoint_path = os.path.join(checkpoint_dir, 'best_model_pretrained.pt')\n",
    "            else:\n",
    "                checkpoint_path = os.path.join(checkpoint_dir, 'best_model.pt')\n",
    "            torch.save({\n",
    "                'epoch': epoch + 1,\n",
    "                'model_state_dict': model.state_dict(),\n",
    "                'optimizer_state_dict': optimizer.state_dict(),\n",
    "                'best_val_loss': best_val_loss,\n",
    "                'best_val_fbeta_score': best_val_fbeta_score\n",
    "            }, checkpoint_path)\n",
    "            print(f\"========================================================\")\n",
    "            print(f\"SUPER Best model saved. Loss:{best_val_loss:.4f}, Score:{best_val_fbeta_score:.4f}\")\n",
    "            print(f\"========================================================\")\n",
    "\n",
    "        # Early stopping 조건 체크\n",
    "        if val_loss >= best_val_loss and overall_mean_fbeta_score <= best_val_fbeta_score:\n",
    "            epochs_no_improve += 1\n",
    "        else:\n",
    "            epochs_no_improve = 0\n",
    "\n",
    "        if epochs_no_improve >= patience:\n",
    "            print(\"Early stopping\")\n",
    "            checkpoint_path = os.path.join(checkpoint_dir, 'last.pt')\n",
    "            torch.save({\n",
    "                'epoch': epoch + 1,\n",
    "                'model_state_dict': model.state_dict(),\n",
    "                'optimizer_state_dict': optimizer.state_dict(),\n",
    "                'best_val_loss': best_val_loss,\n",
    "                'best_val_fbeta_score': best_val_fbeta_score\n",
    "            }, checkpoint_path)\n",
    "            break\n",
    "        # if epochs_no_improve % 6 == 0 & epochs_no_improve != 0:\n",
    "        #     # 손실이 개선되지 않았으므로 lambda 감소\n",
    "        #     new_lamda = max(criterion.lamda - 0.01, 0.35)  # 최소값은 0.1로 설정\n",
    "        #     criterion.set_lamda(new_lamda)\n",
    "        #     print(f\"Validation loss did not improve. Reducing lambda to {new_lamda:.4f}\")\n",
    "\n",
    "    wandb.finish()\n"
   ]
  },
  {
   "cell_type": "code",
   "execution_count": 9,
   "metadata": {},
   "outputs": [
    {
     "name": "stdout",
     "output_type": "stream",
     "text": [
      "Epoch 1/4000\n"
     ]
    },
    {
     "name": "stderr",
     "output_type": "stream",
     "text": [
      "Training:   0%|          | 0/660 [00:00<?, ?it/s]C:\\Users\\Seungwoo\\AppData\\Local\\Temp\\ipykernel_22388\\4154314419.py:98: UserWarning: To copy construct from a tensor, it is recommended to use sourceTensor.clone().detach() or sourceTensor.clone().detach().requires_grad_(True), rather than torch.tensor(sourceTensor).\n",
      "  class_weights = torch.tensor(self.ce.weight)  # CrossEntropy의 weight를 사용\n",
      "Training: 100%|██████████| 660/660 [08:33<00:00,  1.29it/s, loss=0.649]\n",
      "Validation: 100%|██████████| 20/20 [00:35<00:00,  1.78s/it, loss=0.573]\n"
     ]
    },
    {
     "name": "stdout",
     "output_type": "stream",
     "text": [
      "Validation Dice Score\n",
      "Class 0: 0.9875, Class 1: 0.0000, Class 2: 0.0000, Class 3: 0.0000, Class 4: 0.0000, Class 5: 0.0000, Class 6: 0.0000, \n",
      "Validation F-beta Score\n",
      "Class 0: 0.9985, Class 1: 0.0000, Class 2: 0.1000, Class 3: 0.0000, Class 4: 0.0000, Class 5: 0.0000, Class 6: 0.0500, \n",
      "\n",
      "Overall Mean Dice Score: 0.0000\n",
      "Overall Mean F-beta Score: 0.0100\n",
      "\n",
      "Training Loss: 0.8359, Validation Loss: 0.6045, Validation F-beta: 0.0100\n",
      "========================================================\n",
      "SUPER Best model saved. Loss:0.6045, Score:0.0100\n",
      "========================================================\n",
      "Epoch 2/4000\n"
     ]
    },
    {
     "name": "stderr",
     "output_type": "stream",
     "text": [
      "Training: 100%|██████████| 660/660 [08:21<00:00,  1.32it/s, loss=0.603]\n",
      "Validation: 100%|██████████| 20/20 [00:35<00:00,  1.78s/it, loss=0.576]\n"
     ]
    },
    {
     "name": "stdout",
     "output_type": "stream",
     "text": [
      "Validation Dice Score\n",
      "Class 0: 0.9864, Class 1: 0.0000, Class 2: 0.0000, Class 3: 0.0000, Class 4: 0.0000, Class 5: 0.0000, Class 6: 0.0000, \n",
      "Validation F-beta Score\n",
      "Class 0: 0.9984, Class 1: 0.0000, Class 2: 0.1000, Class 3: 0.0000, Class 4: 0.0000, Class 5: 0.0000, Class 6: 0.0000, \n",
      "\n",
      "Overall Mean Dice Score: 0.0000\n",
      "Overall Mean F-beta Score: 0.0000\n",
      "\n",
      "Training Loss: 0.6153, Validation Loss: 0.5869, Validation F-beta: 0.0000\n",
      "Epoch 3/4000\n"
     ]
    },
    {
     "name": "stderr",
     "output_type": "stream",
     "text": [
      "Training: 100%|██████████| 660/660 [08:21<00:00,  1.32it/s, loss=0.595]\n",
      "Validation: 100%|██████████| 20/20 [00:35<00:00,  1.77s/it, loss=0.591]\n"
     ]
    },
    {
     "name": "stdout",
     "output_type": "stream",
     "text": [
      "Validation Dice Score\n",
      "Class 0: 0.9879, Class 1: 0.0000, Class 2: 0.0000, Class 3: 0.0000, Class 4: 0.0000, Class 5: 0.0000, Class 6: 0.0000, \n",
      "Validation F-beta Score\n",
      "Class 0: 0.9986, Class 1: 0.0500, Class 2: 0.0000, Class 3: 0.0000, Class 4: 0.0000, Class 5: 0.0000, Class 6: 0.1000, \n",
      "\n",
      "Overall Mean Dice Score: 0.0000\n",
      "Overall Mean F-beta Score: 0.0300\n",
      "\n",
      "Training Loss: 0.6017, Validation Loss: 0.5808, Validation F-beta: 0.0300\n",
      "========================================================\n",
      "SUPER Best model saved. Loss:0.5808, Score:0.0300\n",
      "========================================================\n",
      "Epoch 4/4000\n"
     ]
    },
    {
     "name": "stderr",
     "output_type": "stream",
     "text": [
      "Training: 100%|██████████| 660/660 [08:21<00:00,  1.31it/s, loss=0.612]\n",
      "Validation: 100%|██████████| 20/20 [00:35<00:00,  1.76s/it, loss=0.606]\n"
     ]
    },
    {
     "name": "stdout",
     "output_type": "stream",
     "text": [
      "Validation Dice Score\n",
      "Class 0: 0.9873, Class 1: 0.0000, Class 2: 0.0000, Class 3: 0.0000, Class 4: 0.0000, Class 5: 0.0000, Class 6: 0.0000, \n",
      "Validation F-beta Score\n",
      "Class 0: 0.9985, Class 1: 0.0000, Class 2: 0.1500, Class 3: 0.0500, Class 4: 0.0500, Class 5: 0.0000, Class 6: 0.0000, \n",
      "\n",
      "Overall Mean Dice Score: 0.0000\n",
      "Overall Mean F-beta Score: 0.0200\n",
      "\n",
      "Training Loss: 0.5964, Validation Loss: 0.5888, Validation F-beta: 0.0200\n",
      "Epoch 5/4000\n"
     ]
    },
    {
     "name": "stderr",
     "output_type": "stream",
     "text": [
      "Training: 100%|██████████| 660/660 [08:21<00:00,  1.31it/s, loss=0.616]\n",
      "Validation: 100%|██████████| 20/20 [00:35<00:00,  1.77s/it, loss=0.586]\n"
     ]
    },
    {
     "name": "stdout",
     "output_type": "stream",
     "text": [
      "Validation Dice Score\n",
      "Class 0: 0.9874, Class 1: 0.0000, Class 2: 0.0000, Class 3: 0.0000, Class 4: 0.0000, Class 5: 0.0000, Class 6: 0.0000, \n",
      "Validation F-beta Score\n",
      "Class 0: 0.9985, Class 1: 0.1000, Class 2: 0.0000, Class 3: 0.0500, Class 4: 0.0000, Class 5: 0.0000, Class 6: 0.0000, \n",
      "\n",
      "Overall Mean Dice Score: 0.0000\n",
      "Overall Mean F-beta Score: 0.0300\n",
      "\n",
      "Training Loss: 0.5940, Validation Loss: 0.5920, Validation F-beta: 0.0300\n",
      "Epoch 6/4000\n"
     ]
    },
    {
     "name": "stderr",
     "output_type": "stream",
     "text": [
      "Training: 100%|██████████| 660/660 [08:22<00:00,  1.31it/s, loss=0.581]\n",
      "Validation: 100%|██████████| 20/20 [00:35<00:00,  1.77s/it, loss=0.563]\n"
     ]
    },
    {
     "name": "stdout",
     "output_type": "stream",
     "text": [
      "Validation Dice Score\n",
      "Class 0: 0.9880, Class 1: 0.0000, Class 2: 0.0000, Class 3: 0.0000, Class 4: 0.0000, Class 5: 0.0000, Class 6: 0.0000, \n",
      "Validation F-beta Score\n",
      "Class 0: 0.9986, Class 1: 0.0500, Class 2: 0.0000, Class 3: 0.0500, Class 4: 0.0000, Class 5: 0.0000, Class 6: 0.0000, \n",
      "\n",
      "Overall Mean Dice Score: 0.0000\n",
      "Overall Mean F-beta Score: 0.0200\n",
      "\n",
      "Training Loss: 0.5901, Validation Loss: 0.5877, Validation F-beta: 0.0200\n",
      "Epoch 7/4000\n"
     ]
    },
    {
     "name": "stderr",
     "output_type": "stream",
     "text": [
      "Training: 100%|██████████| 660/660 [08:21<00:00,  1.32it/s, loss=0.585]\n",
      "Validation: 100%|██████████| 20/20 [00:35<00:00,  1.77s/it, loss=0.575]\n"
     ]
    },
    {
     "name": "stdout",
     "output_type": "stream",
     "text": [
      "Validation Dice Score\n",
      "Class 0: 0.9862, Class 1: 0.0000, Class 2: 0.0000, Class 3: 0.0000, Class 4: 0.0000, Class 5: 0.0000, Class 6: 0.0000, \n",
      "Validation F-beta Score\n",
      "Class 0: 0.9984, Class 1: 0.0500, Class 2: 0.0500, Class 3: 0.0000, Class 4: 0.0000, Class 5: 0.0000, Class 6: 0.1000, \n",
      "\n",
      "Overall Mean Dice Score: 0.0000\n",
      "Overall Mean F-beta Score: 0.0300\n",
      "\n",
      "Training Loss: 0.5847, Validation Loss: 0.6110, Validation F-beta: 0.0300\n",
      "Epoch 8/4000\n"
     ]
    },
    {
     "name": "stderr",
     "output_type": "stream",
     "text": [
      "Training: 100%|██████████| 660/660 [08:22<00:00,  1.31it/s, loss=0.583]\n",
      "Validation: 100%|██████████| 20/20 [00:35<00:00,  1.76s/it, loss=0.638]\n"
     ]
    },
    {
     "name": "stdout",
     "output_type": "stream",
     "text": [
      "Validation Dice Score\n",
      "Class 0: 0.9867, Class 1: 0.0000, Class 2: 0.0000, Class 3: 0.0000, Class 4: 0.0000, Class 5: 0.0000, Class 6: 0.0000, \n",
      "Validation F-beta Score\n",
      "Class 0: 0.9984, Class 1: 0.0500, Class 2: 0.0000, Class 3: 0.1500, Class 4: 0.0000, Class 5: 0.0000, Class 6: 0.1000, \n",
      "\n",
      "Overall Mean Dice Score: 0.0000\n",
      "Overall Mean F-beta Score: 0.0600\n",
      "\n",
      "Training Loss: 0.5782, Validation Loss: 0.5967, Validation F-beta: 0.0600\n",
      "Epoch 9/4000\n"
     ]
    },
    {
     "name": "stderr",
     "output_type": "stream",
     "text": [
      "Training: 100%|██████████| 660/660 [08:22<00:00,  1.31it/s, loss=0.574]\n",
      "Validation: 100%|██████████| 20/20 [00:35<00:00,  1.76s/it, loss=0.627]\n"
     ]
    },
    {
     "name": "stdout",
     "output_type": "stream",
     "text": [
      "Validation Dice Score\n",
      "Class 0: 0.9888, Class 1: 0.0000, Class 2: 0.0000, Class 3: 0.0000, Class 4: 0.0000, Class 5: 0.0000, Class 6: 0.0000, \n",
      "Validation F-beta Score\n",
      "Class 0: 0.9987, Class 1: 0.0500, Class 2: 0.0500, Class 3: 0.1000, Class 4: 0.0500, Class 5: 0.0000, Class 6: 0.0500, \n",
      "\n",
      "Overall Mean Dice Score: 0.0000\n",
      "Overall Mean F-beta Score: 0.0500\n",
      "\n",
      "Training Loss: 0.5739, Validation Loss: 0.5884, Validation F-beta: 0.0500\n",
      "Epoch 10/4000\n"
     ]
    },
    {
     "name": "stderr",
     "output_type": "stream",
     "text": [
      "Training: 100%|██████████| 660/660 [08:30<00:00,  1.29it/s, loss=0.569]\n",
      "Validation: 100%|██████████| 20/20 [00:37<00:00,  1.87s/it, loss=0.579]\n"
     ]
    },
    {
     "name": "stdout",
     "output_type": "stream",
     "text": [
      "Validation Dice Score\n",
      "Class 0: 0.9880, Class 1: 0.0000, Class 2: 0.0000, Class 3: 0.0000, Class 4: 0.0000, Class 5: 0.0000, Class 6: 0.0000, \n",
      "Validation F-beta Score\n",
      "Class 0: 0.9986, Class 1: 0.1500, Class 2: 0.0500, Class 3: 0.1000, Class 4: 0.0500, Class 5: 0.0000, Class 6: 0.1000, \n",
      "\n",
      "Overall Mean Dice Score: 0.0000\n",
      "Overall Mean F-beta Score: 0.0800\n",
      "\n",
      "Training Loss: 0.5691, Validation Loss: 0.5864, Validation F-beta: 0.0800\n",
      "Epoch 11/4000\n"
     ]
    },
    {
     "name": "stderr",
     "output_type": "stream",
     "text": [
      "Training: 100%|██████████| 660/660 [08:35<00:00,  1.28it/s, loss=0.563]\n",
      "Validation: 100%|██████████| 20/20 [00:36<00:00,  1.81s/it, loss=0.603]\n"
     ]
    },
    {
     "name": "stdout",
     "output_type": "stream",
     "text": [
      "Validation Dice Score\n",
      "Class 0: 0.9884, Class 1: 0.0000, Class 2: 0.0000, Class 3: 0.0000, Class 4: 0.0000, Class 5: 0.0000, Class 6: 0.0000, \n",
      "Validation F-beta Score\n",
      "Class 0: 0.9986, Class 1: 0.0500, Class 2: 0.1000, Class 3: 0.0000, Class 4: 0.0500, Class 5: 0.0000, Class 6: 0.0500, \n",
      "\n",
      "Overall Mean Dice Score: 0.0000\n",
      "Overall Mean F-beta Score: 0.0300\n",
      "\n",
      "Training Loss: 0.5658, Validation Loss: 0.5910, Validation F-beta: 0.0300\n",
      "Epoch 12/4000\n"
     ]
    },
    {
     "name": "stderr",
     "output_type": "stream",
     "text": [
      "Training: 100%|██████████| 660/660 [08:24<00:00,  1.31it/s, loss=0.559]\n",
      "Validation: 100%|██████████| 20/20 [00:36<00:00,  1.82s/it, loss=0.604]\n"
     ]
    },
    {
     "name": "stdout",
     "output_type": "stream",
     "text": [
      "Validation Dice Score\n",
      "Class 0: 0.9882, Class 1: 0.0000, Class 2: 0.0000, Class 3: 0.0000, Class 4: 0.0000, Class 5: 0.0000, Class 6: 0.0000, \n",
      "Validation F-beta Score\n",
      "Class 0: 0.9986, Class 1: 0.0500, Class 2: 0.0000, Class 3: 0.0500, Class 4: 0.0000, Class 5: 0.0000, Class 6: 0.1000, \n",
      "\n",
      "Overall Mean Dice Score: 0.0000\n",
      "Overall Mean F-beta Score: 0.0400\n",
      "\n",
      "Training Loss: 0.5601, Validation Loss: 0.5945, Validation F-beta: 0.0400\n",
      "Epoch 13/4000\n"
     ]
    },
    {
     "name": "stderr",
     "output_type": "stream",
     "text": [
      "Training: 100%|██████████| 660/660 [08:24<00:00,  1.31it/s, loss=0.536]\n",
      "Validation: 100%|██████████| 20/20 [00:36<00:00,  1.82s/it, loss=0.601]\n"
     ]
    },
    {
     "name": "stdout",
     "output_type": "stream",
     "text": [
      "Validation Dice Score\n",
      "Class 0: 0.9864, Class 1: 0.0000, Class 2: 0.0000, Class 3: 0.0000, Class 4: 0.0000, Class 5: 0.0000, Class 6: 0.0000, \n",
      "Validation F-beta Score\n",
      "Class 0: 0.9984, Class 1: 0.1000, Class 2: 0.0000, Class 3: 0.0000, Class 4: 0.0000, Class 5: 0.0000, Class 6: 0.1500, \n",
      "\n",
      "Overall Mean Dice Score: 0.0000\n",
      "Overall Mean F-beta Score: 0.0500\n",
      "\n",
      "Training Loss: 0.5572, Validation Loss: 0.6079, Validation F-beta: 0.0500\n",
      "Epoch 14/4000\n"
     ]
    },
    {
     "name": "stderr",
     "output_type": "stream",
     "text": [
      "Training: 100%|██████████| 660/660 [08:23<00:00,  1.31it/s, loss=0.566]\n",
      "Validation: 100%|██████████| 20/20 [00:36<00:00,  1.81s/it, loss=0.632]\n"
     ]
    },
    {
     "name": "stdout",
     "output_type": "stream",
     "text": [
      "Validation Dice Score\n",
      "Class 0: 0.9864, Class 1: 0.0000, Class 2: 0.0000, Class 3: 0.0000, Class 4: 0.0000, Class 5: 0.0000, Class 6: 0.0000, \n",
      "Validation F-beta Score\n",
      "Class 0: 0.9984, Class 1: 0.0500, Class 2: 0.0500, Class 3: 0.0000, Class 4: 0.0000, Class 5: 0.0000, Class 6: 0.1000, \n",
      "\n",
      "Overall Mean Dice Score: 0.0000\n",
      "Overall Mean F-beta Score: 0.0300\n",
      "\n",
      "Training Loss: 0.5525, Validation Loss: 0.6079, Validation F-beta: 0.0300\n",
      "Epoch 15/4000\n"
     ]
    },
    {
     "name": "stderr",
     "output_type": "stream",
     "text": [
      "Training: 100%|██████████| 660/660 [08:25<00:00,  1.31it/s, loss=0.539]\n",
      "Validation: 100%|██████████| 20/20 [00:36<00:00,  1.83s/it, loss=0.599]\n"
     ]
    },
    {
     "name": "stdout",
     "output_type": "stream",
     "text": [
      "Validation Dice Score\n",
      "Class 0: 0.9881, Class 1: 0.0000, Class 2: 0.0000, Class 3: 0.0000, Class 4: 0.0000, Class 5: 0.0000, Class 6: 0.0000, \n",
      "Validation F-beta Score\n",
      "Class 0: 0.9986, Class 1: 0.1000, Class 2: 0.0000, Class 3: 0.0000, Class 4: 0.0000, Class 5: 0.0000, Class 6: 0.1500, \n",
      "\n",
      "Overall Mean Dice Score: 0.0000\n",
      "Overall Mean F-beta Score: 0.0500\n",
      "\n",
      "Training Loss: 0.5493, Validation Loss: 0.6046, Validation F-beta: 0.0500\n",
      "Epoch 16/4000\n"
     ]
    },
    {
     "name": "stderr",
     "output_type": "stream",
     "text": [
      "Training: 100%|██████████| 660/660 [08:24<00:00,  1.31it/s, loss=0.554]\n",
      "Validation: 100%|██████████| 20/20 [00:36<00:00,  1.82s/it, loss=0.568]\n"
     ]
    },
    {
     "name": "stdout",
     "output_type": "stream",
     "text": [
      "Validation Dice Score\n",
      "Class 0: 0.9885, Class 1: 0.0000, Class 2: 0.0000, Class 3: 0.0000, Class 4: 0.0000, Class 5: 0.0000, Class 6: 0.0000, \n",
      "Validation F-beta Score\n",
      "Class 0: 0.9986, Class 1: 0.1000, Class 2: 0.0000, Class 3: 0.0500, Class 4: 0.0500, Class 5: 0.0000, Class 6: 0.1000, \n",
      "\n",
      "Overall Mean Dice Score: 0.0000\n",
      "Overall Mean F-beta Score: 0.0600\n",
      "\n",
      "Training Loss: 0.5463, Validation Loss: 0.6186, Validation F-beta: 0.0600\n",
      "Epoch 17/4000\n"
     ]
    },
    {
     "name": "stderr",
     "output_type": "stream",
     "text": [
      "Training: 100%|██████████| 660/660 [08:24<00:00,  1.31it/s, loss=0.547]\n",
      "Validation: 100%|██████████| 20/20 [00:36<00:00,  1.82s/it, loss=0.644]\n"
     ]
    },
    {
     "name": "stdout",
     "output_type": "stream",
     "text": [
      "Validation Dice Score\n",
      "Class 0: 0.9888, Class 1: 0.0000, Class 2: 0.0000, Class 3: 0.0000, Class 4: 0.0001, Class 5: 0.0000, Class 6: 0.0000, \n",
      "Validation F-beta Score\n",
      "Class 0: 0.9983, Class 1: 0.0000, Class 2: 0.0500, Class 3: 0.0000, Class 4: 0.0001, Class 5: 0.0000, Class 6: 0.0500, \n",
      "\n",
      "Overall Mean Dice Score: 0.0000\n",
      "Overall Mean F-beta Score: 0.0100\n",
      "\n",
      "Training Loss: 0.5422, Validation Loss: 0.6075, Validation F-beta: 0.0100\n",
      "Epoch 18/4000\n"
     ]
    },
    {
     "name": "stderr",
     "output_type": "stream",
     "text": [
      "Training: 100%|██████████| 660/660 [08:25<00:00,  1.31it/s, loss=0.531]\n",
      "Validation: 100%|██████████| 20/20 [00:36<00:00,  1.82s/it, loss=0.585]\n"
     ]
    },
    {
     "name": "stdout",
     "output_type": "stream",
     "text": [
      "Validation Dice Score\n",
      "Class 0: 0.9871, Class 1: 0.0000, Class 2: 0.0000, Class 3: 0.0000, Class 4: 0.0048, Class 5: 0.0000, Class 6: 0.0000, \n",
      "Validation F-beta Score\n",
      "Class 0: 0.9970, Class 1: 0.1000, Class 2: 0.0500, Class 3: 0.0500, Class 4: 0.0034, Class 5: 0.0000, Class 6: 0.1000, \n",
      "\n",
      "Overall Mean Dice Score: 0.0010\n",
      "Overall Mean F-beta Score: 0.0507\n",
      "\n",
      "Training Loss: 0.5396, Validation Loss: 0.6211, Validation F-beta: 0.0507\n",
      "Epoch 19/4000\n"
     ]
    },
    {
     "name": "stderr",
     "output_type": "stream",
     "text": [
      "Training: 100%|██████████| 660/660 [08:25<00:00,  1.31it/s, loss=0.526]\n",
      "Validation: 100%|██████████| 20/20 [00:36<00:00,  1.81s/it, loss=0.664]\n"
     ]
    },
    {
     "name": "stdout",
     "output_type": "stream",
     "text": [
      "Validation Dice Score\n",
      "Class 0: 0.9872, Class 1: 0.0000, Class 2: 0.0000, Class 3: 0.0000, Class 4: 0.0013, Class 5: 0.0000, Class 6: 0.0000, \n",
      "Validation F-beta Score\n",
      "Class 0: 0.9979, Class 1: 0.0500, Class 2: 0.2000, Class 3: 0.0500, Class 4: 0.0007, Class 5: 0.0000, Class 6: 0.1000, \n",
      "\n",
      "Overall Mean Dice Score: 0.0003\n",
      "Overall Mean F-beta Score: 0.0401\n",
      "\n",
      "Training Loss: 0.5385, Validation Loss: 0.6376, Validation F-beta: 0.0401\n",
      "Epoch 20/4000\n"
     ]
    },
    {
     "name": "stderr",
     "output_type": "stream",
     "text": [
      "Training: 100%|██████████| 660/660 [08:25<00:00,  1.31it/s, loss=0.533]\n",
      "Validation: 100%|██████████| 20/20 [00:36<00:00,  1.81s/it, loss=0.644]\n"
     ]
    },
    {
     "name": "stdout",
     "output_type": "stream",
     "text": [
      "Validation Dice Score\n",
      "Class 0: 0.9824, Class 1: 0.0000, Class 2: 0.0000, Class 3: 0.0000, Class 4: 0.0038, Class 5: 0.0000, Class 6: 0.0000, \n",
      "Validation F-beta Score\n",
      "Class 0: 0.9902, Class 1: 0.1000, Class 2: 0.0500, Class 3: 0.0000, Class 4: 0.0039, Class 5: 0.0000, Class 6: 0.0000, \n",
      "\n",
      "Overall Mean Dice Score: 0.0008\n",
      "Overall Mean F-beta Score: 0.0208\n",
      "\n",
      "Training Loss: 0.5372, Validation Loss: 0.6585, Validation F-beta: 0.0208\n",
      "Epoch 21/4000\n"
     ]
    },
    {
     "name": "stderr",
     "output_type": "stream",
     "text": [
      "Training: 100%|██████████| 660/660 [08:24<00:00,  1.31it/s, loss=0.534]\n",
      "Validation: 100%|██████████| 20/20 [00:36<00:00,  1.82s/it, loss=0.627]\n"
     ]
    },
    {
     "name": "stdout",
     "output_type": "stream",
     "text": [
      "Validation Dice Score\n",
      "Class 0: 0.9842, Class 1: 0.0000, Class 2: 0.0000, Class 3: 0.0000, Class 4: 0.0015, Class 5: 0.0000, Class 6: 0.0000, \n",
      "Validation F-beta Score\n",
      "Class 0: 0.9913, Class 1: 0.0500, Class 2: 0.0000, Class 3: 0.0000, Class 4: 0.0017, Class 5: 0.0000, Class 6: 0.1000, \n",
      "\n",
      "Overall Mean Dice Score: 0.0003\n",
      "Overall Mean F-beta Score: 0.0303\n",
      "\n",
      "Training Loss: 0.5347, Validation Loss: 0.6317, Validation F-beta: 0.0303\n",
      "Epoch 22/4000\n"
     ]
    },
    {
     "name": "stderr",
     "output_type": "stream",
     "text": [
      "Training: 100%|██████████| 660/660 [08:24<00:00,  1.31it/s, loss=0.52] \n",
      "Validation: 100%|██████████| 20/20 [00:36<00:00,  1.82s/it, loss=0.734]\n"
     ]
    },
    {
     "name": "stdout",
     "output_type": "stream",
     "text": [
      "Validation Dice Score\n",
      "Class 0: 0.9869, Class 1: 0.0000, Class 2: 0.0000, Class 3: 0.0000, Class 4: 0.0027, Class 5: 0.0000, Class 6: 0.0000, \n",
      "Validation F-beta Score\n",
      "Class 0: 0.9963, Class 1: 0.1000, Class 2: 0.0500, Class 3: 0.0000, Class 4: 0.0016, Class 5: 0.0000, Class 6: 0.1500, \n",
      "\n",
      "Overall Mean Dice Score: 0.0005\n",
      "Overall Mean F-beta Score: 0.0503\n",
      "\n",
      "Training Loss: 0.5344, Validation Loss: 0.6383, Validation F-beta: 0.0503\n",
      "Epoch 23/4000\n"
     ]
    },
    {
     "name": "stderr",
     "output_type": "stream",
     "text": [
      "Training: 100%|██████████| 660/660 [08:25<00:00,  1.30it/s, loss=0.512]\n",
      "Validation: 100%|██████████| 20/20 [00:36<00:00,  1.82s/it, loss=0.649]\n"
     ]
    },
    {
     "name": "stdout",
     "output_type": "stream",
     "text": [
      "Validation Dice Score\n",
      "Class 0: 0.9858, Class 1: 0.0000, Class 2: 0.0000, Class 3: 0.0000, Class 4: 0.0021, Class 5: 0.0000, Class 6: 0.0000, \n",
      "Validation F-beta Score\n",
      "Class 0: 0.9924, Class 1: 0.0500, Class 2: 0.0500, Class 3: 0.1000, Class 4: 0.0019, Class 5: 0.0000, Class 6: 0.0000, \n",
      "\n",
      "Overall Mean Dice Score: 0.0004\n",
      "Overall Mean F-beta Score: 0.0304\n",
      "\n",
      "Training Loss: 0.5331, Validation Loss: 0.6296, Validation F-beta: 0.0304\n",
      "Epoch 24/4000\n"
     ]
    },
    {
     "name": "stderr",
     "output_type": "stream",
     "text": [
      "Training: 100%|██████████| 660/660 [08:25<00:00,  1.31it/s, loss=0.524]\n",
      "Validation: 100%|██████████| 20/20 [00:36<00:00,  1.80s/it, loss=0.632]\n"
     ]
    },
    {
     "name": "stdout",
     "output_type": "stream",
     "text": [
      "Validation Dice Score\n",
      "Class 0: 0.9807, Class 1: 0.0000, Class 2: 0.0000, Class 3: 0.0000, Class 4: 0.0025, Class 5: 0.0000, Class 6: 0.0000, \n",
      "Validation F-beta Score\n",
      "Class 0: 0.9863, Class 1: 0.1000, Class 2: 0.1000, Class 3: 0.0000, Class 4: 0.0037, Class 5: 0.0000, Class 6: 0.0000, \n",
      "\n",
      "Overall Mean Dice Score: 0.0005\n",
      "Overall Mean F-beta Score: 0.0207\n",
      "\n",
      "Training Loss: 0.5319, Validation Loss: 0.6702, Validation F-beta: 0.0207\n",
      "Epoch 25/4000\n"
     ]
    },
    {
     "name": "stderr",
     "output_type": "stream",
     "text": [
      "Training: 100%|██████████| 660/660 [08:25<00:00,  1.31it/s, loss=0.528]\n",
      "Validation: 100%|██████████| 20/20 [00:36<00:00,  1.82s/it, loss=0.628]\n"
     ]
    },
    {
     "name": "stdout",
     "output_type": "stream",
     "text": [
      "Validation Dice Score\n",
      "Class 0: 0.9815, Class 1: 0.0000, Class 2: 0.0000, Class 3: 0.0000, Class 4: 0.0044, Class 5: 0.0000, Class 6: 0.0000, \n",
      "Validation F-beta Score\n",
      "Class 0: 0.9863, Class 1: 0.0000, Class 2: 0.1500, Class 3: 0.0500, Class 4: 0.0072, Class 5: 0.0000, Class 6: 0.0000, \n",
      "\n",
      "Overall Mean Dice Score: 0.0009\n",
      "Overall Mean F-beta Score: 0.0114\n",
      "\n",
      "Training Loss: 0.5320, Validation Loss: 0.6609, Validation F-beta: 0.0114\n",
      "Epoch 26/4000\n"
     ]
    },
    {
     "name": "stderr",
     "output_type": "stream",
     "text": [
      "Training: 100%|██████████| 660/660 [08:24<00:00,  1.31it/s, loss=0.513]\n",
      "Validation: 100%|██████████| 20/20 [00:36<00:00,  1.82s/it, loss=0.591]\n"
     ]
    },
    {
     "name": "stdout",
     "output_type": "stream",
     "text": [
      "Validation Dice Score\n",
      "Class 0: 0.9833, Class 1: 0.0000, Class 2: 0.0000, Class 3: 0.0000, Class 4: 0.0101, Class 5: 0.0000, Class 6: 0.0000, \n",
      "Validation F-beta Score\n",
      "Class 0: 0.9900, Class 1: 0.0000, Class 2: 0.1500, Class 3: 0.0500, Class 4: 0.0103, Class 5: 0.0000, Class 6: 0.0500, \n",
      "\n",
      "Overall Mean Dice Score: 0.0020\n",
      "Overall Mean F-beta Score: 0.0221\n",
      "\n",
      "Training Loss: 0.5300, Validation Loss: 0.6534, Validation F-beta: 0.0221\n",
      "Epoch 27/4000\n"
     ]
    },
    {
     "name": "stderr",
     "output_type": "stream",
     "text": [
      "Training: 100%|██████████| 660/660 [08:24<00:00,  1.31it/s, loss=0.528]\n",
      "Validation: 100%|██████████| 20/20 [00:36<00:00,  1.82s/it, loss=0.628]\n"
     ]
    },
    {
     "name": "stdout",
     "output_type": "stream",
     "text": [
      "Validation Dice Score\n",
      "Class 0: 0.9683, Class 1: 0.0000, Class 2: 0.0000, Class 3: 0.0000, Class 4: 0.0146, Class 5: 0.0000, Class 6: 0.0000, \n",
      "Validation F-beta Score\n",
      "Class 0: 0.9631, Class 1: 0.0500, Class 2: 0.1000, Class 3: 0.0000, Class 4: 0.0355, Class 5: 0.0000, Class 6: 0.0500, \n",
      "\n",
      "Overall Mean Dice Score: 0.0029\n",
      "Overall Mean F-beta Score: 0.0271\n",
      "\n",
      "Training Loss: 0.5299, Validation Loss: 0.6706, Validation F-beta: 0.0271\n",
      "Epoch 28/4000\n"
     ]
    },
    {
     "name": "stderr",
     "output_type": "stream",
     "text": [
      "Training: 100%|██████████| 660/660 [08:25<00:00,  1.31it/s, loss=0.521]\n",
      "Validation: 100%|██████████| 20/20 [00:36<00:00,  1.82s/it, loss=0.596]\n"
     ]
    },
    {
     "name": "stdout",
     "output_type": "stream",
     "text": [
      "Validation Dice Score\n",
      "Class 0: 0.9742, Class 1: 0.0000, Class 2: 0.0000, Class 3: 0.0000, Class 4: 0.0105, Class 5: 0.0000, Class 6: 0.0000, \n",
      "Validation F-beta Score\n",
      "Class 0: 0.9735, Class 1: 0.0000, Class 2: 0.1000, Class 3: 0.0500, Class 4: 0.0158, Class 5: 0.0000, Class 6: 0.0500, \n",
      "\n",
      "Overall Mean Dice Score: 0.0021\n",
      "Overall Mean F-beta Score: 0.0232\n",
      "\n",
      "Training Loss: 0.5292, Validation Loss: 0.6725, Validation F-beta: 0.0232\n",
      "Epoch 29/4000\n"
     ]
    },
    {
     "name": "stderr",
     "output_type": "stream",
     "text": [
      "Training: 100%|██████████| 660/660 [08:24<00:00,  1.31it/s, loss=0.51] \n",
      "Validation: 100%|██████████| 20/20 [00:36<00:00,  1.82s/it, loss=0.607]\n"
     ]
    },
    {
     "name": "stdout",
     "output_type": "stream",
     "text": [
      "Validation Dice Score\n",
      "Class 0: 0.9752, Class 1: 0.0000, Class 2: 0.0000, Class 3: 0.0000, Class 4: 0.0058, Class 5: 0.0000, Class 6: 0.0000, \n",
      "Validation F-beta Score\n",
      "Class 0: 0.9731, Class 1: 0.0000, Class 2: 0.0500, Class 3: 0.0000, Class 4: 0.0104, Class 5: 0.0000, Class 6: 0.1000, \n",
      "\n",
      "Overall Mean Dice Score: 0.0012\n",
      "Overall Mean F-beta Score: 0.0221\n",
      "\n",
      "Training Loss: 0.5274, Validation Loss: 0.6650, Validation F-beta: 0.0221\n",
      "Epoch 30/4000\n"
     ]
    },
    {
     "name": "stderr",
     "output_type": "stream",
     "text": [
      "Training: 100%|██████████| 660/660 [08:25<00:00,  1.31it/s, loss=0.521]\n",
      "Validation: 100%|██████████| 20/20 [00:36<00:00,  1.81s/it, loss=0.668]\n"
     ]
    },
    {
     "name": "stdout",
     "output_type": "stream",
     "text": [
      "Validation Dice Score\n",
      "Class 0: 0.9748, Class 1: 0.0000, Class 2: 0.0000, Class 3: 0.0000, Class 4: 0.0074, Class 5: 0.0000, Class 6: 0.0000, \n",
      "Validation F-beta Score\n",
      "Class 0: 0.9710, Class 1: 0.0500, Class 2: 0.1000, Class 3: 0.0000, Class 4: 0.0165, Class 5: 0.0000, Class 6: 0.0500, \n",
      "\n",
      "Overall Mean Dice Score: 0.0015\n",
      "Overall Mean F-beta Score: 0.0233\n",
      "\n",
      "Training Loss: 0.5271, Validation Loss: 0.6496, Validation F-beta: 0.0233\n",
      "Epoch 31/4000\n"
     ]
    },
    {
     "name": "stderr",
     "output_type": "stream",
     "text": [
      "Training: 100%|██████████| 660/660 [08:24<00:00,  1.31it/s, loss=0.534]\n",
      "Validation: 100%|██████████| 20/20 [00:36<00:00,  1.82s/it, loss=0.706]\n"
     ]
    },
    {
     "name": "stdout",
     "output_type": "stream",
     "text": [
      "Validation Dice Score\n",
      "Class 0: 0.9645, Class 1: 0.0000, Class 2: 0.0000, Class 3: 0.0000, Class 4: 0.0084, Class 5: 0.0000, Class 6: 0.0000, \n",
      "Validation F-beta Score\n",
      "Class 0: 0.9548, Class 1: 0.0000, Class 2: 0.2000, Class 3: 0.0000, Class 4: 0.0223, Class 5: 0.0000, Class 6: 0.0000, \n",
      "\n",
      "Overall Mean Dice Score: 0.0017\n",
      "Overall Mean F-beta Score: 0.0045\n",
      "\n",
      "Training Loss: 0.5264, Validation Loss: 0.6729, Validation F-beta: 0.0045\n",
      "Epoch 32/4000\n"
     ]
    },
    {
     "name": "stderr",
     "output_type": "stream",
     "text": [
      "Training: 100%|██████████| 660/660 [08:24<00:00,  1.31it/s, loss=0.517]\n",
      "Validation: 100%|██████████| 20/20 [00:36<00:00,  1.82s/it, loss=0.742]\n"
     ]
    },
    {
     "name": "stdout",
     "output_type": "stream",
     "text": [
      "Validation Dice Score\n",
      "Class 0: 0.9687, Class 1: 0.0000, Class 2: 0.0000, Class 3: 0.0000, Class 4: 0.0071, Class 5: 0.0000, Class 6: 0.0000, \n",
      "Validation F-beta Score\n",
      "Class 0: 0.9607, Class 1: 0.0000, Class 2: 0.1500, Class 3: 0.0500, Class 4: 0.0171, Class 5: 0.0000, Class 6: 0.0000, \n",
      "\n",
      "Overall Mean Dice Score: 0.0014\n",
      "Overall Mean F-beta Score: 0.0134\n",
      "\n",
      "Training Loss: 0.5261, Validation Loss: 0.6728, Validation F-beta: 0.0134\n",
      "Epoch 33/4000\n"
     ]
    },
    {
     "name": "stderr",
     "output_type": "stream",
     "text": [
      "Training: 100%|██████████| 660/660 [08:25<00:00,  1.31it/s, loss=0.512]\n",
      "Validation: 100%|██████████| 20/20 [00:36<00:00,  1.82s/it, loss=0.616]\n"
     ]
    },
    {
     "name": "stdout",
     "output_type": "stream",
     "text": [
      "Validation Dice Score\n",
      "Class 0: 0.9529, Class 1: 0.0000, Class 2: 0.0000, Class 3: 0.0000, Class 4: 0.0093, Class 5: 0.0000, Class 6: 0.0000, \n",
      "Validation F-beta Score\n",
      "Class 0: 0.9351, Class 1: 0.0500, Class 2: 0.0000, Class 3: 0.0500, Class 4: 0.0268, Class 5: 0.0000, Class 6: 0.0500, \n",
      "\n",
      "Overall Mean Dice Score: 0.0019\n",
      "Overall Mean F-beta Score: 0.0354\n",
      "\n",
      "Training Loss: 0.5257, Validation Loss: 0.7058, Validation F-beta: 0.0354\n",
      "Epoch 34/4000\n"
     ]
    },
    {
     "name": "stderr",
     "output_type": "stream",
     "text": [
      "Training: 100%|██████████| 660/660 [08:25<00:00,  1.31it/s, loss=0.526]\n",
      "Validation: 100%|██████████| 20/20 [00:36<00:00,  1.82s/it, loss=0.781]\n"
     ]
    },
    {
     "name": "stdout",
     "output_type": "stream",
     "text": [
      "Validation Dice Score\n",
      "Class 0: 0.9721, Class 1: 0.0000, Class 2: 0.0000, Class 3: 0.0000, Class 4: 0.0156, Class 5: 0.0000, Class 6: 0.0000, \n",
      "Validation F-beta Score\n",
      "Class 0: 0.9701, Class 1: 0.0000, Class 2: 0.2000, Class 3: 0.1000, Class 4: 0.0229, Class 5: 0.0000, Class 6: 0.1000, \n",
      "\n",
      "Overall Mean Dice Score: 0.0031\n",
      "Overall Mean F-beta Score: 0.0446\n",
      "\n",
      "Training Loss: 0.5247, Validation Loss: 0.7036, Validation F-beta: 0.0446\n",
      "Epoch 35/4000\n"
     ]
    },
    {
     "name": "stderr",
     "output_type": "stream",
     "text": [
      "Training: 100%|██████████| 660/660 [08:25<00:00,  1.30it/s, loss=0.516]\n",
      "Validation: 100%|██████████| 20/20 [00:36<00:00,  1.82s/it, loss=0.733]\n"
     ]
    },
    {
     "name": "stdout",
     "output_type": "stream",
     "text": [
      "Validation Dice Score\n",
      "Class 0: 0.9628, Class 1: 0.0000, Class 2: 0.0000, Class 3: 0.0000, Class 4: 0.0133, Class 5: 0.0000, Class 6: 0.0000, \n",
      "Validation F-beta Score\n",
      "Class 0: 0.9525, Class 1: 0.0500, Class 2: 0.0000, Class 3: 0.0000, Class 4: 0.0268, Class 5: 0.0000, Class 6: 0.1000, \n",
      "\n",
      "Overall Mean Dice Score: 0.0027\n",
      "Overall Mean F-beta Score: 0.0354\n",
      "\n",
      "Training Loss: 0.5252, Validation Loss: 0.6959, Validation F-beta: 0.0354\n",
      "Epoch 36/4000\n"
     ]
    },
    {
     "name": "stderr",
     "output_type": "stream",
     "text": [
      "Training: 100%|██████████| 660/660 [08:25<00:00,  1.31it/s, loss=0.536]\n",
      "Validation: 100%|██████████| 20/20 [00:36<00:00,  1.82s/it, loss=0.674]\n"
     ]
    },
    {
     "name": "stdout",
     "output_type": "stream",
     "text": [
      "Validation Dice Score\n",
      "Class 0: 0.9618, Class 1: 0.0000, Class 2: 0.0000, Class 3: 0.0000, Class 4: 0.0149, Class 5: 0.0000, Class 6: 0.0000, \n",
      "Validation F-beta Score\n",
      "Class 0: 0.9516, Class 1: 0.0500, Class 2: 0.1000, Class 3: 0.0500, Class 4: 0.0296, Class 5: 0.0000, Class 6: 0.1000, \n",
      "\n",
      "Overall Mean Dice Score: 0.0030\n",
      "Overall Mean F-beta Score: 0.0459\n",
      "\n",
      "Training Loss: 0.5243, Validation Loss: 0.7087, Validation F-beta: 0.0459\n",
      "Epoch 37/4000\n"
     ]
    },
    {
     "name": "stderr",
     "output_type": "stream",
     "text": [
      "Training: 100%|██████████| 660/660 [08:24<00:00,  1.31it/s, loss=0.508]\n",
      "Validation: 100%|██████████| 20/20 [00:36<00:00,  1.81s/it, loss=0.622]\n"
     ]
    },
    {
     "name": "stdout",
     "output_type": "stream",
     "text": [
      "Validation Dice Score\n",
      "Class 0: 0.9662, Class 1: 0.0000, Class 2: 0.0000, Class 3: 0.0000, Class 4: 0.0118, Class 5: 0.0000, Class 6: 0.0000, \n",
      "Validation F-beta Score\n",
      "Class 0: 0.9585, Class 1: 0.1000, Class 2: 0.2000, Class 3: 0.0000, Class 4: 0.0216, Class 5: 0.0500, Class 6: 0.1000, \n",
      "\n",
      "Overall Mean Dice Score: 0.0024\n",
      "Overall Mean F-beta Score: 0.0543\n",
      "\n",
      "Training Loss: 0.5226, Validation Loss: 0.6996, Validation F-beta: 0.0543\n",
      "Epoch 38/4000\n"
     ]
    },
    {
     "name": "stderr",
     "output_type": "stream",
     "text": [
      "Training: 100%|██████████| 660/660 [08:24<00:00,  1.31it/s, loss=0.515]\n",
      "Validation: 100%|██████████| 20/20 [00:36<00:00,  1.82s/it, loss=0.713]\n"
     ]
    },
    {
     "name": "stdout",
     "output_type": "stream",
     "text": [
      "Validation Dice Score\n",
      "Class 0: 0.9614, Class 1: 0.0000, Class 2: 0.0000, Class 3: 0.0000, Class 4: 0.0093, Class 5: 0.0000, Class 6: 0.0000, \n",
      "Validation F-beta Score\n",
      "Class 0: 0.9508, Class 1: 0.1000, Class 2: 0.1500, Class 3: 0.0500, Class 4: 0.0186, Class 5: 0.0000, Class 6: 0.0500, \n",
      "\n",
      "Overall Mean Dice Score: 0.0019\n",
      "Overall Mean F-beta Score: 0.0437\n",
      "\n",
      "Training Loss: 0.5222, Validation Loss: 0.7334, Validation F-beta: 0.0437\n",
      "Epoch 39/4000\n"
     ]
    },
    {
     "name": "stderr",
     "output_type": "stream",
     "text": [
      "Training: 100%|██████████| 660/660 [08:25<00:00,  1.31it/s, loss=0.522]\n",
      "Validation: 100%|██████████| 20/20 [00:36<00:00,  1.83s/it, loss=0.72] \n"
     ]
    },
    {
     "name": "stdout",
     "output_type": "stream",
     "text": [
      "Validation Dice Score\n",
      "Class 0: 0.9676, Class 1: 0.0000, Class 2: 0.0000, Class 3: 0.0000, Class 4: 0.0064, Class 5: 0.0000, Class 6: 0.0000, \n",
      "Validation F-beta Score\n",
      "Class 0: 0.9600, Class 1: 0.0000, Class 2: 0.1000, Class 3: 0.0000, Class 4: 0.0118, Class 5: 0.0000, Class 6: 0.0000, \n",
      "\n",
      "Overall Mean Dice Score: 0.0013\n",
      "Overall Mean F-beta Score: 0.0024\n",
      "\n",
      "Training Loss: 0.5209, Validation Loss: 0.7022, Validation F-beta: 0.0024\n",
      "Epoch 40/4000\n"
     ]
    },
    {
     "name": "stderr",
     "output_type": "stream",
     "text": [
      "Training: 100%|██████████| 660/660 [08:25<00:00,  1.31it/s, loss=0.514]\n",
      "Validation: 100%|██████████| 20/20 [00:36<00:00,  1.81s/it, loss=0.623]\n"
     ]
    },
    {
     "name": "stdout",
     "output_type": "stream",
     "text": [
      "Validation Dice Score\n",
      "Class 0: 0.9655, Class 1: 0.0000, Class 2: 0.0000, Class 3: 0.0000, Class 4: 0.0228, Class 5: 0.0000, Class 6: 0.0000, \n",
      "Validation F-beta Score\n",
      "Class 0: 0.9561, Class 1: 0.0000, Class 2: 0.0500, Class 3: 0.0000, Class 4: 0.0472, Class 5: 0.0000, Class 6: 0.1500, \n",
      "\n",
      "Overall Mean Dice Score: 0.0046\n",
      "Overall Mean F-beta Score: 0.0394\n",
      "\n",
      "Training Loss: 0.5218, Validation Loss: 0.6784, Validation F-beta: 0.0394\n",
      "Epoch 41/4000\n"
     ]
    },
    {
     "name": "stderr",
     "output_type": "stream",
     "text": [
      "Training: 100%|██████████| 660/660 [08:24<00:00,  1.31it/s, loss=0.512]\n",
      "Validation: 100%|██████████| 20/20 [00:36<00:00,  1.81s/it, loss=0.651]\n"
     ]
    },
    {
     "name": "stdout",
     "output_type": "stream",
     "text": [
      "Validation Dice Score\n",
      "Class 0: 0.9533, Class 1: 0.0000, Class 2: 0.0000, Class 3: 0.0000, Class 4: 0.0188, Class 5: 0.0000, Class 6: 0.0000, \n",
      "Validation F-beta Score\n",
      "Class 0: 0.9353, Class 1: 0.0000, Class 2: 0.1000, Class 3: 0.0500, Class 4: 0.0424, Class 5: 0.0000, Class 6: 0.0500, \n",
      "\n",
      "Overall Mean Dice Score: 0.0038\n",
      "Overall Mean F-beta Score: 0.0285\n",
      "\n",
      "Training Loss: 0.5204, Validation Loss: 0.7039, Validation F-beta: 0.0285\n",
      "Epoch 42/4000\n"
     ]
    },
    {
     "name": "stderr",
     "output_type": "stream",
     "text": [
      "Training: 100%|██████████| 660/660 [08:25<00:00,  1.31it/s, loss=0.499]\n",
      "Validation: 100%|██████████| 20/20 [00:36<00:00,  1.82s/it, loss=0.672]\n"
     ]
    },
    {
     "name": "stdout",
     "output_type": "stream",
     "text": [
      "Validation Dice Score\n",
      "Class 0: 0.9614, Class 1: 0.0000, Class 2: 0.0000, Class 3: 0.0000, Class 4: 0.0178, Class 5: 0.0000, Class 6: 0.0000, \n",
      "Validation F-beta Score\n",
      "Class 0: 0.9480, Class 1: 0.0500, Class 2: 0.0500, Class 3: 0.0000, Class 4: 0.0400, Class 5: 0.0000, Class 6: 0.1500, \n",
      "\n",
      "Overall Mean Dice Score: 0.0036\n",
      "Overall Mean F-beta Score: 0.0480\n",
      "\n",
      "Training Loss: 0.5211, Validation Loss: 0.6816, Validation F-beta: 0.0480\n",
      "Epoch 43/4000\n"
     ]
    },
    {
     "name": "stderr",
     "output_type": "stream",
     "text": [
      "Training: 100%|██████████| 660/660 [08:25<00:00,  1.31it/s, loss=0.503]\n",
      "Validation: 100%|██████████| 20/20 [00:36<00:00,  1.81s/it, loss=0.719]\n"
     ]
    },
    {
     "name": "stdout",
     "output_type": "stream",
     "text": [
      "Validation Dice Score\n",
      "Class 0: 0.9619, Class 1: 0.0000, Class 2: 0.0000, Class 3: 0.0000, Class 4: 0.0210, Class 5: 0.0000, Class 6: 0.0000, \n",
      "Validation F-beta Score\n",
      "Class 0: 0.9513, Class 1: 0.0500, Class 2: 0.1500, Class 3: 0.0000, Class 4: 0.0427, Class 5: 0.0000, Class 6: 0.0500, \n",
      "\n",
      "Overall Mean Dice Score: 0.0042\n",
      "Overall Mean F-beta Score: 0.0285\n",
      "\n",
      "Training Loss: 0.5194, Validation Loss: 0.7218, Validation F-beta: 0.0285\n",
      "Epoch 44/4000\n"
     ]
    },
    {
     "name": "stderr",
     "output_type": "stream",
     "text": [
      "Training:  55%|█████▍    | 362/660 [04:36<08:54,  1.79s/it, loss=0.535]"
     ]
    }
   ],
   "source": [
    "train_model(\n",
    "    model=model,\n",
    "    train_loader=train_loader,\n",
    "    val_loader=val_loader,\n",
    "    criterion=criterion,\n",
    "    optimizer=optimizer,\n",
    "    num_epochs=num_epochs,\n",
    "    patience=10,\n",
    "    device=device,\n",
    "    start_epoch=start_epoch,\n",
    "    best_val_loss=best_val_loss,\n",
    "    best_val_fbeta_score=best_val_fbeta_score,\n",
    "    calculate_dice_interval=1,\n",
    "    accumulation_steps = accumulation_steps\n",
    "    )"
   ]
  },
  {
   "cell_type": "markdown",
   "metadata": {},
   "source": [
    "# finetune"
   ]
  },
  {
   "cell_type": "code",
   "execution_count": 8,
   "metadata": {},
   "outputs": [
    {
     "name": "stderr",
     "output_type": "stream",
     "text": [
      "Loading dataset: 100%|██████████| 19/19 [00:28<00:00,  1.52s/it]\n"
     ]
    },
    {
     "name": "stdout",
     "output_type": "stream",
     "text": [
      "Epoch 1/4000\n"
     ]
    },
    {
     "name": "stderr",
     "output_type": "stream",
     "text": [
      "Training:   0%|          | 0/144 [00:00<?, ?it/s]C:\\Users\\Seungwoo\\AppData\\Local\\Temp\\ipykernel_30560\\2632583820.py:97: UserWarning: To copy construct from a tensor, it is recommended to use sourceTensor.clone().detach() or sourceTensor.clone().detach().requires_grad_(True), rather than torch.tensor(sourceTensor).\n",
      "  class_weights = torch.tensor(self.ce.weight)  # CrossEntropy의 weight를 사용\n",
      "Training: 100%|██████████| 144/144 [01:53<00:00,  1.27it/s, loss=0.899]\n",
      "Validation: 100%|██████████| 5/5 [00:09<00:00,  1.93s/it, loss=0.896]\n"
     ]
    },
    {
     "name": "stdout",
     "output_type": "stream",
     "text": [
      "Validation Dice Score\n",
      "Class 0: 0.9784, Class 1: 0.0125, Class 2: 0.0028, Class 3: 0.0063, Class 4: 0.1533, Class 5: 0.0191, Class 6: 0.0204, \n",
      "Validation F-beta Score\n",
      "Class 0: 0.9750, Class 1: 0.0575, Class 2: 0.0094, Class 3: 0.0074, Class 4: 0.1303, Class 5: 0.0134, Class 6: 0.0173, \n",
      "\n",
      "Overall Mean Dice Score: 0.0423\n",
      "Overall Mean F-beta Score: 0.0452\n",
      "\n",
      "Training Loss: 1.1217, Validation Loss: 0.8953, Validation F-beta: 0.0452\n",
      "========================================================\n",
      "SUPER Best model saved. Loss:0.8953, Score:0.0452\n",
      "========================================================\n",
      "Epoch 2/4000\n"
     ]
    },
    {
     "name": "stderr",
     "output_type": "stream",
     "text": [
      "Training: 100%|██████████| 144/144 [01:53<00:00,  1.27it/s, loss=0.714]\n",
      "Validation: 100%|██████████| 5/5 [00:09<00:00,  1.93s/it, loss=0.713]\n"
     ]
    },
    {
     "name": "stdout",
     "output_type": "stream",
     "text": [
      "Validation Dice Score\n",
      "Class 0: 0.9863, Class 1: 0.0120, Class 2: 0.0022, Class 3: 0.0009, Class 4: 0.3152, Class 5: 0.0050, Class 6: 0.0164, \n",
      "Validation F-beta Score\n",
      "Class 0: 0.9900, Class 1: 0.0407, Class 2: 0.0015, Class 3: 0.0005, Class 4: 0.2961, Class 5: 0.0027, Class 6: 0.0092, \n",
      "\n",
      "Overall Mean Dice Score: 0.0699\n",
      "Overall Mean F-beta Score: 0.0698\n",
      "\n",
      "Training Loss: 0.7897, Validation Loss: 0.7148, Validation F-beta: 0.0698\n",
      "========================================================\n",
      "SUPER Best model saved. Loss:0.7148, Score:0.0698\n",
      "========================================================\n",
      "Epoch 3/4000\n"
     ]
    },
    {
     "name": "stderr",
     "output_type": "stream",
     "text": [
      "Training: 100%|██████████| 144/144 [01:51<00:00,  1.29it/s, loss=0.637]\n",
      "Validation: 100%|██████████| 5/5 [00:09<00:00,  1.92s/it, loss=0.64] \n"
     ]
    },
    {
     "name": "stdout",
     "output_type": "stream",
     "text": [
      "Validation Dice Score\n",
      "Class 0: 0.9871, Class 1: 0.0117, Class 2: 0.0000, Class 3: 0.0009, Class 4: 0.3676, Class 5: 0.0008, Class 6: 0.0018, \n",
      "Validation F-beta Score\n",
      "Class 0: 0.9930, Class 1: 0.0302, Class 2: 0.0000, Class 3: 0.0005, Class 4: 0.3292, Class 5: 0.0004, Class 6: 0.0010, \n",
      "\n",
      "Overall Mean Dice Score: 0.0766\n",
      "Overall Mean F-beta Score: 0.0722\n",
      "\n",
      "Training Loss: 0.6720, Validation Loss: 0.6398, Validation F-beta: 0.0722\n",
      "========================================================\n",
      "SUPER Best model saved. Loss:0.6398, Score:0.0722\n",
      "========================================================\n",
      "Epoch 4/4000\n"
     ]
    },
    {
     "name": "stderr",
     "output_type": "stream",
     "text": [
      "Training: 100%|██████████| 144/144 [01:53<00:00,  1.27it/s, loss=0.597]\n",
      "Validation: 100%|██████████| 5/5 [00:09<00:00,  1.98s/it, loss=0.593]\n"
     ]
    },
    {
     "name": "stdout",
     "output_type": "stream",
     "text": [
      "Validation Dice Score\n",
      "Class 0: 0.9900, Class 1: 0.0015, Class 2: 0.0000, Class 3: 0.0002, Class 4: 0.3966, Class 5: 0.0009, Class 6: 0.0040, \n",
      "Validation F-beta Score\n",
      "Class 0: 0.9954, Class 1: 0.0012, Class 2: 0.0000, Class 3: 0.0001, Class 4: 0.3697, Class 5: 0.0005, Class 6: 0.0021, \n",
      "\n",
      "Overall Mean Dice Score: 0.0806\n",
      "Overall Mean F-beta Score: 0.0747\n",
      "\n",
      "Training Loss: 0.6187, Validation Loss: 0.5977, Validation F-beta: 0.0747\n",
      "========================================================\n",
      "SUPER Best model saved. Loss:0.5977, Score:0.0747\n",
      "========================================================\n",
      "Epoch 5/4000\n"
     ]
    },
    {
     "name": "stderr",
     "output_type": "stream",
     "text": [
      "Training: 100%|██████████| 144/144 [01:53<00:00,  1.27it/s, loss=0.587]\n",
      "Validation: 100%|██████████| 5/5 [00:09<00:00,  1.96s/it, loss=0.579]\n"
     ]
    },
    {
     "name": "stdout",
     "output_type": "stream",
     "text": [
      "Validation Dice Score\n",
      "Class 0: 0.9888, Class 1: 0.0000, Class 2: 0.0000, Class 3: 0.0000, Class 4: 0.4099, Class 5: 0.0005, Class 6: 0.0051, \n",
      "Validation F-beta Score\n",
      "Class 0: 0.9951, Class 1: 0.0000, Class 2: 0.0000, Class 3: 0.0000, Class 4: 0.3967, Class 5: 0.0002, Class 6: 0.0027, \n",
      "\n",
      "Overall Mean Dice Score: 0.0831\n",
      "Overall Mean F-beta Score: 0.0799\n",
      "\n",
      "Training Loss: 0.5894, Validation Loss: 0.5791, Validation F-beta: 0.0799\n",
      "========================================================\n",
      "SUPER Best model saved. Loss:0.5791, Score:0.0799\n",
      "========================================================\n",
      "Epoch 6/4000\n"
     ]
    },
    {
     "name": "stderr",
     "output_type": "stream",
     "text": [
      "Training: 100%|██████████| 144/144 [01:51<00:00,  1.30it/s, loss=0.565]\n",
      "Validation: 100%|██████████| 5/5 [00:09<00:00,  1.87s/it, loss=0.56] \n"
     ]
    },
    {
     "name": "stdout",
     "output_type": "stream",
     "text": [
      "Validation Dice Score\n",
      "Class 0: 0.9895, Class 1: 0.0000, Class 2: 0.0000, Class 3: 0.0002, Class 4: 0.4248, Class 5: 0.0014, Class 6: 0.0143, \n",
      "Validation F-beta Score\n",
      "Class 0: 0.9940, Class 1: 0.0000, Class 2: 0.0000, Class 3: 0.0001, Class 4: 0.4785, Class 5: 0.0007, Class 6: 0.0077, \n",
      "\n",
      "Overall Mean Dice Score: 0.0881\n",
      "Overall Mean F-beta Score: 0.0974\n",
      "\n",
      "Training Loss: 0.5712, Validation Loss: 0.5617, Validation F-beta: 0.0974\n",
      "========================================================\n",
      "SUPER Best model saved. Loss:0.5617, Score:0.0974\n",
      "========================================================\n",
      "Epoch 7/4000\n"
     ]
    },
    {
     "name": "stderr",
     "output_type": "stream",
     "text": [
      "Training: 100%|██████████| 144/144 [01:51<00:00,  1.29it/s, loss=0.556]\n",
      "Validation: 100%|██████████| 5/5 [00:09<00:00,  1.88s/it, loss=0.556]\n"
     ]
    },
    {
     "name": "stdout",
     "output_type": "stream",
     "text": [
      "Validation Dice Score\n",
      "Class 0: 0.9888, Class 1: 0.0000, Class 2: 0.0000, Class 3: 0.0000, Class 4: 0.4377, Class 5: 0.0007, Class 6: 0.0273, \n",
      "Validation F-beta Score\n",
      "Class 0: 0.9937, Class 1: 0.0000, Class 2: 0.0000, Class 3: 0.0000, Class 4: 0.4838, Class 5: 0.0004, Class 6: 0.0151, \n",
      "\n",
      "Overall Mean Dice Score: 0.0931\n",
      "Overall Mean F-beta Score: 0.0999\n",
      "\n",
      "Training Loss: 0.5600, Validation Loss: 0.5526, Validation F-beta: 0.0999\n",
      "========================================================\n",
      "SUPER Best model saved. Loss:0.5526, Score:0.0999\n",
      "========================================================\n",
      "Epoch 8/4000\n"
     ]
    },
    {
     "name": "stderr",
     "output_type": "stream",
     "text": [
      "Training: 100%|██████████| 144/144 [01:52<00:00,  1.27it/s, loss=0.542]\n",
      "Validation: 100%|██████████| 5/5 [00:09<00:00,  1.88s/it, loss=0.542]\n"
     ]
    },
    {
     "name": "stdout",
     "output_type": "stream",
     "text": [
      "Validation Dice Score\n",
      "Class 0: 0.9888, Class 1: 0.0000, Class 2: 0.0000, Class 3: 0.0000, Class 4: 0.4658, Class 5: 0.0005, Class 6: 0.0593, \n",
      "Validation F-beta Score\n",
      "Class 0: 0.9939, Class 1: 0.0000, Class 2: 0.0000, Class 3: 0.0000, Class 4: 0.4832, Class 5: 0.0003, Class 6: 0.0339, \n",
      "\n",
      "Overall Mean Dice Score: 0.1051\n",
      "Overall Mean F-beta Score: 0.1035\n",
      "\n",
      "Training Loss: 0.5511, Validation Loss: 0.5443, Validation F-beta: 0.1035\n",
      "========================================================\n",
      "SUPER Best model saved. Loss:0.5443, Score:0.1035\n",
      "========================================================\n",
      "Epoch 9/4000\n"
     ]
    },
    {
     "name": "stderr",
     "output_type": "stream",
     "text": [
      "Training: 100%|██████████| 144/144 [01:51<00:00,  1.30it/s, loss=0.546]\n",
      "Validation: 100%|██████████| 5/5 [00:09<00:00,  1.86s/it, loss=0.54] \n"
     ]
    },
    {
     "name": "stdout",
     "output_type": "stream",
     "text": [
      "Validation Dice Score\n",
      "Class 0: 0.9887, Class 1: 0.0000, Class 2: 0.0000, Class 3: 0.0000, Class 4: 0.4407, Class 5: 0.0006, Class 6: 0.1216, \n",
      "Validation F-beta Score\n",
      "Class 0: 0.9934, Class 1: 0.0000, Class 2: 0.0000, Class 3: 0.0000, Class 4: 0.5007, Class 5: 0.0003, Class 6: 0.0719, \n",
      "\n",
      "Overall Mean Dice Score: 0.1126\n",
      "Overall Mean F-beta Score: 0.1146\n",
      "\n",
      "Training Loss: 0.5446, Validation Loss: 0.5379, Validation F-beta: 0.1146\n",
      "========================================================\n",
      "SUPER Best model saved. Loss:0.5379, Score:0.1146\n",
      "========================================================\n",
      "Epoch 10/4000\n"
     ]
    },
    {
     "name": "stderr",
     "output_type": "stream",
     "text": [
      "Training: 100%|██████████| 144/144 [01:50<00:00,  1.30it/s, loss=0.543]\n",
      "Validation: 100%|██████████| 5/5 [00:09<00:00,  1.86s/it, loss=0.532]\n"
     ]
    },
    {
     "name": "stdout",
     "output_type": "stream",
     "text": [
      "Validation Dice Score\n",
      "Class 0: 0.9894, Class 1: 0.0000, Class 2: 0.0000, Class 3: 0.0000, Class 4: 0.4401, Class 5: 0.0009, Class 6: 0.3090, \n",
      "Validation F-beta Score\n",
      "Class 0: 0.9930, Class 1: 0.0000, Class 2: 0.0000, Class 3: 0.0000, Class 4: 0.4928, Class 5: 0.0005, Class 6: 0.2727, \n",
      "\n",
      "Overall Mean Dice Score: 0.1500\n",
      "Overall Mean F-beta Score: 0.1532\n",
      "\n",
      "Training Loss: 0.5400, Validation Loss: 0.5339, Validation F-beta: 0.1532\n",
      "========================================================\n",
      "SUPER Best model saved. Loss:0.5339, Score:0.1532\n",
      "========================================================\n",
      "Epoch 11/4000\n"
     ]
    },
    {
     "name": "stderr",
     "output_type": "stream",
     "text": [
      "Training: 100%|██████████| 144/144 [01:50<00:00,  1.31it/s, loss=0.534]\n",
      "Validation: 100%|██████████| 5/5 [00:09<00:00,  1.90s/it, loss=0.536]\n"
     ]
    },
    {
     "name": "stdout",
     "output_type": "stream",
     "text": [
      "Validation Dice Score\n",
      "Class 0: 0.9891, Class 1: 0.0000, Class 2: 0.0000, Class 3: 0.0001, Class 4: 0.3872, Class 5: 0.0027, Class 6: 0.4454, \n",
      "Validation F-beta Score\n",
      "Class 0: 0.9924, Class 1: 0.0000, Class 2: 0.0000, Class 3: 0.0000, Class 4: 0.4317, Class 5: 0.0014, Class 6: 0.4781, \n",
      "\n",
      "Overall Mean Dice Score: 0.1671\n",
      "Overall Mean F-beta Score: 0.1823\n",
      "\n",
      "Training Loss: 0.5334, Validation Loss: 0.5263, Validation F-beta: 0.1823\n",
      "========================================================\n",
      "SUPER Best model saved. Loss:0.5263, Score:0.1823\n",
      "========================================================\n",
      "Epoch 12/4000\n"
     ]
    },
    {
     "name": "stderr",
     "output_type": "stream",
     "text": [
      "Training: 100%|██████████| 144/144 [01:51<00:00,  1.29it/s, loss=0.539]\n",
      "Validation: 100%|██████████| 5/5 [00:09<00:00,  1.89s/it, loss=0.527]\n"
     ]
    },
    {
     "name": "stdout",
     "output_type": "stream",
     "text": [
      "Validation Dice Score\n",
      "Class 0: 0.9894, Class 1: 0.0000, Class 2: 0.0000, Class 3: 0.0000, Class 4: 0.4057, Class 5: 0.0093, Class 6: 0.5010, \n",
      "Validation F-beta Score\n",
      "Class 0: 0.9933, Class 1: 0.0000, Class 2: 0.0000, Class 3: 0.0000, Class 4: 0.3945, Class 5: 0.0051, Class 6: 0.6364, \n",
      "\n",
      "Overall Mean Dice Score: 0.1832\n",
      "Overall Mean F-beta Score: 0.2072\n",
      "\n",
      "Training Loss: 0.5270, Validation Loss: 0.5223, Validation F-beta: 0.2072\n",
      "========================================================\n",
      "SUPER Best model saved. Loss:0.5223, Score:0.2072\n",
      "========================================================\n",
      "Epoch 13/4000\n"
     ]
    },
    {
     "name": "stderr",
     "output_type": "stream",
     "text": [
      "Training: 100%|██████████| 144/144 [01:50<00:00,  1.31it/s, loss=0.518]\n",
      "Validation: 100%|██████████| 5/5 [00:08<00:00,  1.78s/it, loss=0.505]\n"
     ]
    },
    {
     "name": "stdout",
     "output_type": "stream",
     "text": [
      "Validation Dice Score\n",
      "Class 0: 0.9890, Class 1: 0.0000, Class 2: 0.0000, Class 3: 0.0000, Class 4: 0.4998, Class 5: 0.0770, Class 6: 0.6611, \n",
      "Validation F-beta Score\n",
      "Class 0: 0.9932, Class 1: 0.0000, Class 2: 0.0000, Class 3: 0.0000, Class 4: 0.4962, Class 5: 0.0475, Class 6: 0.7298, \n",
      "\n",
      "Overall Mean Dice Score: 0.2476\n",
      "Overall Mean F-beta Score: 0.2547\n",
      "\n",
      "Training Loss: 0.5195, Validation Loss: 0.5084, Validation F-beta: 0.2547\n",
      "========================================================\n",
      "SUPER Best model saved. Loss:0.5084, Score:0.2547\n",
      "========================================================\n",
      "Epoch 14/4000\n"
     ]
    },
    {
     "name": "stderr",
     "output_type": "stream",
     "text": [
      "Training: 100%|██████████| 144/144 [01:48<00:00,  1.33it/s, loss=0.518]\n",
      "Validation: 100%|██████████| 5/5 [00:09<00:00,  1.87s/it, loss=0.499]\n"
     ]
    },
    {
     "name": "stdout",
     "output_type": "stream",
     "text": [
      "Validation Dice Score\n",
      "Class 0: 0.9907, Class 1: 0.0000, Class 2: 0.0000, Class 3: 0.0000, Class 4: 0.4962, Class 5: 0.0990, Class 6: 0.7763, \n",
      "Validation F-beta Score\n",
      "Class 0: 0.9937, Class 1: 0.0000, Class 2: 0.0000, Class 3: 0.0000, Class 4: 0.5463, Class 5: 0.0634, Class 6: 0.7171, \n",
      "\n",
      "Overall Mean Dice Score: 0.2743\n",
      "Overall Mean F-beta Score: 0.2654\n",
      "\n",
      "Training Loss: 0.5116, Validation Loss: 0.4994, Validation F-beta: 0.2654\n",
      "========================================================\n",
      "SUPER Best model saved. Loss:0.4994, Score:0.2654\n",
      "========================================================\n",
      "Epoch 15/4000\n"
     ]
    },
    {
     "name": "stderr",
     "output_type": "stream",
     "text": [
      "Training: 100%|██████████| 144/144 [01:51<00:00,  1.29it/s, loss=0.499]\n",
      "Validation: 100%|██████████| 5/5 [00:09<00:00,  1.88s/it, loss=0.495]\n"
     ]
    },
    {
     "name": "stdout",
     "output_type": "stream",
     "text": [
      "Validation Dice Score\n",
      "Class 0: 0.9888, Class 1: 0.0000, Class 2: 0.0000, Class 3: 0.0000, Class 4: 0.5172, Class 5: 0.2485, Class 6: 0.8033, \n",
      "Validation F-beta Score\n",
      "Class 0: 0.9894, Class 1: 0.0000, Class 2: 0.0000, Class 3: 0.0000, Class 4: 0.5869, Class 5: 0.2377, Class 6: 0.7673, \n",
      "\n",
      "Overall Mean Dice Score: 0.3138\n",
      "Overall Mean F-beta Score: 0.3184\n",
      "\n",
      "Training Loss: 0.5052, Validation Loss: 0.4915, Validation F-beta: 0.3184\n",
      "========================================================\n",
      "SUPER Best model saved. Loss:0.4915, Score:0.3184\n",
      "========================================================\n",
      "Epoch 16/4000\n"
     ]
    },
    {
     "name": "stderr",
     "output_type": "stream",
     "text": [
      "Training: 100%|██████████| 144/144 [01:51<00:00,  1.29it/s, loss=0.497]\n",
      "Validation: 100%|██████████| 5/5 [00:09<00:00,  1.91s/it, loss=0.487]\n"
     ]
    },
    {
     "name": "stdout",
     "output_type": "stream",
     "text": [
      "Validation Dice Score\n",
      "Class 0: 0.9890, Class 1: 0.0000, Class 2: 0.0000, Class 3: 0.0000, Class 4: 0.5093, Class 5: 0.2513, Class 6: 0.7798, \n",
      "Validation F-beta Score\n",
      "Class 0: 0.9915, Class 1: 0.0000, Class 2: 0.0000, Class 3: 0.0000, Class 4: 0.4636, Class 5: 0.2669, Class 6: 0.6889, \n",
      "\n",
      "Overall Mean Dice Score: 0.3081\n",
      "Overall Mean F-beta Score: 0.2839\n",
      "\n",
      "Training Loss: 0.4996, Validation Loss: 0.4920, Validation F-beta: 0.2839\n",
      "Epoch 17/4000\n"
     ]
    },
    {
     "name": "stderr",
     "output_type": "stream",
     "text": [
      "Training: 100%|██████████| 144/144 [01:51<00:00,  1.29it/s, loss=0.5]  \n",
      "Validation: 100%|██████████| 5/5 [00:09<00:00,  1.88s/it, loss=0.485]\n"
     ]
    },
    {
     "name": "stdout",
     "output_type": "stream",
     "text": [
      "Validation Dice Score\n",
      "Class 0: 0.9885, Class 1: 0.0000, Class 2: 0.0000, Class 3: 0.0000, Class 4: 0.4785, Class 5: 0.2570, Class 6: 0.7673, \n",
      "Validation F-beta Score\n",
      "Class 0: 0.9903, Class 1: 0.0000, Class 2: 0.0000, Class 3: 0.0000, Class 4: 0.3970, Class 5: 0.3094, Class 6: 0.8406, \n",
      "\n",
      "Overall Mean Dice Score: 0.3006\n",
      "Overall Mean F-beta Score: 0.3094\n",
      "\n",
      "Training Loss: 0.4958, Validation Loss: 0.4846, Validation F-beta: 0.3094\n",
      "Epoch 18/4000\n"
     ]
    },
    {
     "name": "stderr",
     "output_type": "stream",
     "text": [
      "Training: 100%|██████████| 144/144 [01:51<00:00,  1.29it/s, loss=0.506]\n",
      "Validation: 100%|██████████| 5/5 [00:09<00:00,  1.86s/it, loss=0.458]\n"
     ]
    },
    {
     "name": "stdout",
     "output_type": "stream",
     "text": [
      "Validation Dice Score\n",
      "Class 0: 0.9900, Class 1: 0.0000, Class 2: 0.0000, Class 3: 0.0001, Class 4: 0.5499, Class 5: 0.3149, Class 6: 0.8356, \n",
      "Validation F-beta Score\n",
      "Class 0: 0.9904, Class 1: 0.0000, Class 2: 0.0000, Class 3: 0.0000, Class 4: 0.5568, Class 5: 0.3599, Class 6: 0.8419, \n",
      "\n",
      "Overall Mean Dice Score: 0.3401\n",
      "Overall Mean F-beta Score: 0.3517\n",
      "\n",
      "Training Loss: 0.4890, Validation Loss: 0.4744, Validation F-beta: 0.3517\n",
      "========================================================\n",
      "SUPER Best model saved. Loss:0.4744, Score:0.3517\n",
      "========================================================\n",
      "Epoch 19/4000\n"
     ]
    },
    {
     "name": "stderr",
     "output_type": "stream",
     "text": [
      "Training: 100%|██████████| 144/144 [01:51<00:00,  1.30it/s, loss=0.501]\n",
      "Validation: 100%|██████████| 5/5 [00:09<00:00,  1.91s/it, loss=0.471]\n"
     ]
    },
    {
     "name": "stdout",
     "output_type": "stream",
     "text": [
      "Validation Dice Score\n",
      "Class 0: 0.9892, Class 1: 0.0000, Class 2: 0.0000, Class 3: 0.0304, Class 4: 0.5632, Class 5: 0.2729, Class 6: 0.8166, \n",
      "Validation F-beta Score\n",
      "Class 0: 0.9898, Class 1: 0.0000, Class 2: 0.0000, Class 3: 0.0206, Class 4: 0.5407, Class 5: 0.2961, Class 6: 0.8800, \n",
      "\n",
      "Overall Mean Dice Score: 0.3366\n",
      "Overall Mean F-beta Score: 0.3475\n",
      "\n",
      "Training Loss: 0.4861, Validation Loss: 0.4717, Validation F-beta: 0.3475\n",
      "Epoch 20/4000\n"
     ]
    },
    {
     "name": "stderr",
     "output_type": "stream",
     "text": [
      "Training: 100%|██████████| 144/144 [01:50<00:00,  1.30it/s, loss=0.487]\n",
      "Validation: 100%|██████████| 5/5 [00:09<00:00,  1.90s/it, loss=0.483]\n"
     ]
    },
    {
     "name": "stdout",
     "output_type": "stream",
     "text": [
      "Validation Dice Score\n",
      "Class 0: 0.9891, Class 1: 0.0000, Class 2: 0.0000, Class 3: 0.0141, Class 4: 0.6124, Class 5: 0.2653, Class 6: 0.8070, \n",
      "Validation F-beta Score\n",
      "Class 0: 0.9925, Class 1: 0.0000, Class 2: 0.0000, Class 3: 0.0085, Class 4: 0.5832, Class 5: 0.2065, Class 6: 0.8602, \n",
      "\n",
      "Overall Mean Dice Score: 0.3398\n",
      "Overall Mean F-beta Score: 0.3317\n",
      "\n",
      "Training Loss: 0.4827, Validation Loss: 0.4731, Validation F-beta: 0.3317\n",
      "Epoch 21/4000\n"
     ]
    },
    {
     "name": "stderr",
     "output_type": "stream",
     "text": [
      "Training: 100%|██████████| 144/144 [01:50<00:00,  1.30it/s, loss=0.465]\n",
      "Validation: 100%|██████████| 5/5 [00:09<00:00,  1.91s/it, loss=0.473]\n"
     ]
    },
    {
     "name": "stdout",
     "output_type": "stream",
     "text": [
      "Validation Dice Score\n",
      "Class 0: 0.9897, Class 1: 0.0001, Class 2: 0.0000, Class 3: 0.0501, Class 4: 0.5512, Class 5: 0.2794, Class 6: 0.8269, \n",
      "Validation F-beta Score\n",
      "Class 0: 0.9908, Class 1: 0.0000, Class 2: 0.0000, Class 3: 0.0393, Class 4: 0.4857, Class 5: 0.3401, Class 6: 0.8957, \n",
      "\n",
      "Overall Mean Dice Score: 0.3415\n",
      "Overall Mean F-beta Score: 0.3522\n",
      "\n",
      "Training Loss: 0.4812, Validation Loss: 0.4766, Validation F-beta: 0.3522\n",
      "Epoch 22/4000\n"
     ]
    },
    {
     "name": "stderr",
     "output_type": "stream",
     "text": [
      "Training: 100%|██████████| 144/144 [01:53<00:00,  1.27it/s, loss=0.473]\n",
      "Validation: 100%|██████████| 5/5 [00:09<00:00,  1.95s/it, loss=0.454]\n"
     ]
    },
    {
     "name": "stdout",
     "output_type": "stream",
     "text": [
      "Validation Dice Score\n",
      "Class 0: 0.9889, Class 1: 0.0007, Class 2: 0.0000, Class 3: 0.0734, Class 4: 0.5745, Class 5: 0.3493, Class 6: 0.8543, \n",
      "Validation F-beta Score\n",
      "Class 0: 0.9882, Class 1: 0.0004, Class 2: 0.0000, Class 3: 0.0543, Class 4: 0.6046, Class 5: 0.4246, Class 6: 0.8539, \n",
      "\n",
      "Overall Mean Dice Score: 0.3705\n",
      "Overall Mean F-beta Score: 0.3876\n",
      "\n",
      "Training Loss: 0.4777, Validation Loss: 0.4618, Validation F-beta: 0.3876\n",
      "========================================================\n",
      "SUPER Best model saved. Loss:0.4618, Score:0.3876\n",
      "========================================================\n",
      "Epoch 23/4000\n"
     ]
    },
    {
     "name": "stderr",
     "output_type": "stream",
     "text": [
      "Training: 100%|██████████| 144/144 [01:54<00:00,  1.26it/s, loss=0.471]\n",
      "Validation: 100%|██████████| 5/5 [00:09<00:00,  1.97s/it, loss=0.453]\n"
     ]
    },
    {
     "name": "stdout",
     "output_type": "stream",
     "text": [
      "Validation Dice Score\n",
      "Class 0: 0.9900, Class 1: 0.0050, Class 2: 0.0000, Class 3: 0.0926, Class 4: 0.6242, Class 5: 0.3202, Class 6: 0.8446, \n",
      "Validation F-beta Score\n",
      "Class 0: 0.9900, Class 1: 0.0028, Class 2: 0.0000, Class 3: 0.0823, Class 4: 0.5736, Class 5: 0.4003, Class 6: 0.8739, \n",
      "\n",
      "Overall Mean Dice Score: 0.3773\n",
      "Overall Mean F-beta Score: 0.3866\n",
      "\n",
      "Training Loss: 0.4759, Validation Loss: 0.4598, Validation F-beta: 0.3866\n",
      "Epoch 24/4000\n"
     ]
    },
    {
     "name": "stderr",
     "output_type": "stream",
     "text": [
      "Training: 100%|██████████| 144/144 [01:55<00:00,  1.25it/s, loss=0.458]\n",
      "Validation: 100%|██████████| 5/5 [00:09<00:00,  1.98s/it, loss=0.464]\n"
     ]
    },
    {
     "name": "stdout",
     "output_type": "stream",
     "text": [
      "Validation Dice Score\n",
      "Class 0: 0.9901, Class 1: 0.0036, Class 2: 0.0000, Class 3: 0.1310, Class 4: 0.5514, Class 5: 0.3243, Class 6: 0.8157, \n",
      "Validation F-beta Score\n",
      "Class 0: 0.9905, Class 1: 0.0020, Class 2: 0.0000, Class 3: 0.1166, Class 4: 0.5298, Class 5: 0.3656, Class 6: 0.8852, \n",
      "\n",
      "Overall Mean Dice Score: 0.3652\n",
      "Overall Mean F-beta Score: 0.3799\n",
      "\n",
      "Training Loss: 0.4721, Validation Loss: 0.4636, Validation F-beta: 0.3799\n",
      "Epoch 25/4000\n"
     ]
    },
    {
     "name": "stderr",
     "output_type": "stream",
     "text": [
      "Training: 100%|██████████| 144/144 [01:54<00:00,  1.26it/s, loss=0.461]\n",
      "Validation: 100%|██████████| 5/5 [00:09<00:00,  1.92s/it, loss=0.441]\n"
     ]
    },
    {
     "name": "stdout",
     "output_type": "stream",
     "text": [
      "Validation Dice Score\n",
      "Class 0: 0.9902, Class 1: 0.0137, Class 2: 0.0000, Class 3: 0.1275, Class 4: 0.6212, Class 5: 0.3728, Class 6: 0.8296, \n",
      "Validation F-beta Score\n",
      "Class 0: 0.9890, Class 1: 0.0079, Class 2: 0.0000, Class 3: 0.1191, Class 4: 0.6720, Class 5: 0.4181, Class 6: 0.8876, \n",
      "\n",
      "Overall Mean Dice Score: 0.3930\n",
      "Overall Mean F-beta Score: 0.4209\n",
      "\n",
      "Training Loss: 0.4709, Validation Loss: 0.4506, Validation F-beta: 0.4209\n",
      "========================================================\n",
      "SUPER Best model saved. Loss:0.4506, Score:0.4209\n",
      "========================================================\n",
      "Epoch 26/4000\n"
     ]
    },
    {
     "name": "stderr",
     "output_type": "stream",
     "text": [
      "Training: 100%|██████████| 144/144 [01:53<00:00,  1.26it/s, loss=0.468]\n",
      "Validation: 100%|██████████| 5/5 [00:09<00:00,  1.92s/it, loss=0.432]\n"
     ]
    },
    {
     "name": "stdout",
     "output_type": "stream",
     "text": [
      "Validation Dice Score\n",
      "Class 0: 0.9893, Class 1: 0.0170, Class 2: 0.0000, Class 3: 0.1696, Class 4: 0.6133, Class 5: 0.3651, Class 6: 0.8404, \n",
      "Validation F-beta Score\n",
      "Class 0: 0.9895, Class 1: 0.0108, Class 2: 0.0000, Class 3: 0.1726, Class 4: 0.5572, Class 5: 0.4233, Class 6: 0.8712, \n",
      "\n",
      "Overall Mean Dice Score: 0.4011\n",
      "Overall Mean F-beta Score: 0.4070\n",
      "\n",
      "Training Loss: 0.4687, Validation Loss: 0.4545, Validation F-beta: 0.4070\n",
      "Epoch 27/4000\n"
     ]
    },
    {
     "name": "stderr",
     "output_type": "stream",
     "text": [
      "Training: 100%|██████████| 144/144 [01:54<00:00,  1.26it/s, loss=0.467]\n",
      "Validation: 100%|██████████| 5/5 [00:09<00:00,  1.89s/it, loss=0.485]\n"
     ]
    },
    {
     "name": "stdout",
     "output_type": "stream",
     "text": [
      "Validation Dice Score\n",
      "Class 0: 0.9894, Class 1: 0.0097, Class 2: 0.0000, Class 3: 0.1974, Class 4: 0.6206, Class 5: 0.3574, Class 6: 0.8180, \n",
      "Validation F-beta Score\n",
      "Class 0: 0.9896, Class 1: 0.0061, Class 2: 0.0000, Class 3: 0.1784, Class 4: 0.5357, Class 5: 0.4583, Class 6: 0.8748, \n",
      "\n",
      "Overall Mean Dice Score: 0.4006\n",
      "Overall Mean F-beta Score: 0.4107\n",
      "\n",
      "Training Loss: 0.4660, Validation Loss: 0.4641, Validation F-beta: 0.4107\n",
      "Epoch 28/4000\n"
     ]
    },
    {
     "name": "stderr",
     "output_type": "stream",
     "text": [
      "Training: 100%|██████████| 144/144 [01:55<00:00,  1.24it/s, loss=0.473]\n",
      "Validation: 100%|██████████| 5/5 [00:09<00:00,  1.95s/it, loss=0.428]\n"
     ]
    },
    {
     "name": "stdout",
     "output_type": "stream",
     "text": [
      "Validation Dice Score\n",
      "Class 0: 0.9884, Class 1: 0.0270, Class 2: 0.0000, Class 3: 0.2125, Class 4: 0.6418, Class 5: 0.3967, Class 6: 0.8438, \n",
      "Validation F-beta Score\n",
      "Class 0: 0.9883, Class 1: 0.0194, Class 2: 0.0000, Class 3: 0.2115, Class 4: 0.6675, Class 5: 0.4232, Class 6: 0.8878, \n",
      "\n",
      "Overall Mean Dice Score: 0.4244\n",
      "Overall Mean F-beta Score: 0.4419\n",
      "\n",
      "Training Loss: 0.4651, Validation Loss: 0.4471, Validation F-beta: 0.4419\n",
      "========================================================\n",
      "SUPER Best model saved. Loss:0.4471, Score:0.4419\n",
      "========================================================\n",
      "Epoch 29/4000\n"
     ]
    },
    {
     "name": "stderr",
     "output_type": "stream",
     "text": [
      "Training: 100%|██████████| 144/144 [01:52<00:00,  1.28it/s, loss=0.467]\n",
      "Validation: 100%|██████████| 5/5 [00:09<00:00,  1.96s/it, loss=0.445]\n"
     ]
    },
    {
     "name": "stdout",
     "output_type": "stream",
     "text": [
      "Validation Dice Score\n",
      "Class 0: 0.9895, Class 1: 0.0343, Class 2: 0.0000, Class 3: 0.2322, Class 4: 0.6260, Class 5: 0.3415, Class 6: 0.8242, \n",
      "Validation F-beta Score\n",
      "Class 0: 0.9897, Class 1: 0.0215, Class 2: 0.0000, Class 3: 0.2034, Class 4: 0.5876, Class 5: 0.3949, Class 6: 0.8928, \n",
      "\n",
      "Overall Mean Dice Score: 0.4116\n",
      "Overall Mean F-beta Score: 0.4200\n",
      "\n",
      "Training Loss: 0.4625, Validation Loss: 0.4526, Validation F-beta: 0.4200\n",
      "Epoch 30/4000\n"
     ]
    },
    {
     "name": "stderr",
     "output_type": "stream",
     "text": [
      "Training: 100%|██████████| 144/144 [01:55<00:00,  1.25it/s, loss=0.458]\n",
      "Validation: 100%|██████████| 5/5 [00:09<00:00,  1.93s/it, loss=0.429]\n"
     ]
    },
    {
     "name": "stdout",
     "output_type": "stream",
     "text": [
      "Validation Dice Score\n",
      "Class 0: 0.9901, Class 1: 0.0178, Class 2: 0.0000, Class 3: 0.2190, Class 4: 0.6453, Class 5: 0.3698, Class 6: 0.8703, \n",
      "Validation F-beta Score\n",
      "Class 0: 0.9899, Class 1: 0.0122, Class 2: 0.0000, Class 3: 0.2688, Class 4: 0.6330, Class 5: 0.4059, Class 6: 0.9058, \n",
      "\n",
      "Overall Mean Dice Score: 0.4244\n",
      "Overall Mean F-beta Score: 0.4451\n",
      "\n",
      "Training Loss: 0.4607, Validation Loss: 0.4321, Validation F-beta: 0.4451\n",
      "========================================================\n",
      "SUPER Best model saved. Loss:0.4321, Score:0.4451\n",
      "========================================================\n",
      "Epoch 31/4000\n"
     ]
    },
    {
     "name": "stderr",
     "output_type": "stream",
     "text": [
      "Training: 100%|██████████| 144/144 [01:54<00:00,  1.26it/s, loss=0.469]\n",
      "Validation: 100%|██████████| 5/5 [00:10<00:00,  2.01s/it, loss=0.453]\n"
     ]
    },
    {
     "name": "stdout",
     "output_type": "stream",
     "text": [
      "Validation Dice Score\n",
      "Class 0: 0.9899, Class 1: 0.0506, Class 2: 0.0000, Class 3: 0.2338, Class 4: 0.6759, Class 5: 0.4094, Class 6: 0.8463, \n",
      "Validation F-beta Score\n",
      "Class 0: 0.9904, Class 1: 0.0442, Class 2: 0.0000, Class 3: 0.2751, Class 4: 0.6369, Class 5: 0.4415, Class 6: 0.9139, \n",
      "\n",
      "Overall Mean Dice Score: 0.4432\n",
      "Overall Mean F-beta Score: 0.4623\n",
      "\n",
      "Training Loss: 0.4588, Validation Loss: 0.4387, Validation F-beta: 0.4623\n",
      "Epoch 32/4000\n"
     ]
    },
    {
     "name": "stderr",
     "output_type": "stream",
     "text": [
      "Training: 100%|██████████| 144/144 [01:54<00:00,  1.26it/s, loss=0.458]\n",
      "Validation: 100%|██████████| 5/5 [00:10<00:00,  2.03s/it, loss=0.428]\n"
     ]
    },
    {
     "name": "stdout",
     "output_type": "stream",
     "text": [
      "Validation Dice Score\n",
      "Class 0: 0.9898, Class 1: 0.0494, Class 2: 0.0000, Class 3: 0.2618, Class 4: 0.5790, Class 5: 0.3458, Class 6: 0.8588, \n",
      "Validation F-beta Score\n",
      "Class 0: 0.9901, Class 1: 0.0362, Class 2: 0.0000, Class 3: 0.3382, Class 4: 0.5034, Class 5: 0.4393, Class 6: 0.8954, \n",
      "\n",
      "Overall Mean Dice Score: 0.4189\n",
      "Overall Mean F-beta Score: 0.4425\n",
      "\n",
      "Training Loss: 0.4581, Validation Loss: 0.4517, Validation F-beta: 0.4425\n",
      "Epoch 33/4000\n"
     ]
    },
    {
     "name": "stderr",
     "output_type": "stream",
     "text": [
      "Training: 100%|██████████| 144/144 [01:50<00:00,  1.30it/s, loss=0.464]\n",
      "Validation: 100%|██████████| 5/5 [00:09<00:00,  1.96s/it, loss=0.452]\n"
     ]
    },
    {
     "name": "stdout",
     "output_type": "stream",
     "text": [
      "Validation Dice Score\n",
      "Class 0: 0.9889, Class 1: 0.0432, Class 2: 0.0000, Class 3: 0.2138, Class 4: 0.6313, Class 5: 0.3521, Class 6: 0.8796, \n",
      "Validation F-beta Score\n",
      "Class 0: 0.9892, Class 1: 0.0308, Class 2: 0.0000, Class 3: 0.2680, Class 4: 0.5834, Class 5: 0.4065, Class 6: 0.9158, \n",
      "\n",
      "Overall Mean Dice Score: 0.4240\n",
      "Overall Mean F-beta Score: 0.4409\n",
      "\n",
      "Training Loss: 0.4572, Validation Loss: 0.4514, Validation F-beta: 0.4409\n",
      "Epoch 34/4000\n"
     ]
    },
    {
     "name": "stderr",
     "output_type": "stream",
     "text": [
      "Training: 100%|██████████| 144/144 [01:49<00:00,  1.31it/s, loss=0.455]\n",
      "Validation: 100%|██████████| 5/5 [00:09<00:00,  1.88s/it, loss=0.429]\n"
     ]
    },
    {
     "name": "stdout",
     "output_type": "stream",
     "text": [
      "Validation Dice Score\n",
      "Class 0: 0.9884, Class 1: 0.0529, Class 2: 0.0000, Class 3: 0.3100, Class 4: 0.5616, Class 5: 0.3774, Class 6: 0.8809, \n",
      "Validation F-beta Score\n",
      "Class 0: 0.9867, Class 1: 0.0394, Class 2: 0.0000, Class 3: 0.3078, Class 4: 0.5854, Class 5: 0.4691, Class 6: 0.9043, \n",
      "\n",
      "Overall Mean Dice Score: 0.4366\n",
      "Overall Mean F-beta Score: 0.4612\n",
      "\n",
      "Training Loss: 0.4547, Validation Loss: 0.4417, Validation F-beta: 0.4612\n",
      "Epoch 35/4000\n"
     ]
    },
    {
     "name": "stderr",
     "output_type": "stream",
     "text": [
      "Training: 100%|██████████| 144/144 [01:52<00:00,  1.28it/s, loss=0.449]\n",
      "Validation: 100%|██████████| 5/5 [00:09<00:00,  1.82s/it, loss=0.441]\n"
     ]
    },
    {
     "name": "stdout",
     "output_type": "stream",
     "text": [
      "Validation Dice Score\n",
      "Class 0: 0.9878, Class 1: 0.0764, Class 2: 0.0000, Class 3: 0.2373, Class 4: 0.6478, Class 5: 0.4009, Class 6: 0.8382, \n",
      "Validation F-beta Score\n",
      "Class 0: 0.9849, Class 1: 0.0660, Class 2: 0.0000, Class 3: 0.2263, Class 4: 0.6857, Class 5: 0.5113, Class 6: 0.9324, \n",
      "\n",
      "Overall Mean Dice Score: 0.4401\n",
      "Overall Mean F-beta Score: 0.4843\n",
      "\n",
      "Training Loss: 0.4542, Validation Loss: 0.4446, Validation F-beta: 0.4843\n",
      "Epoch 36/4000\n"
     ]
    },
    {
     "name": "stderr",
     "output_type": "stream",
     "text": [
      "Training: 100%|██████████| 144/144 [01:49<00:00,  1.32it/s, loss=0.444]\n",
      "Validation: 100%|██████████| 5/5 [00:09<00:00,  1.88s/it, loss=0.427]\n"
     ]
    },
    {
     "name": "stdout",
     "output_type": "stream",
     "text": [
      "Validation Dice Score\n",
      "Class 0: 0.9889, Class 1: 0.0832, Class 2: 0.0050, Class 3: 0.2711, Class 4: 0.5890, Class 5: 0.3571, Class 6: 0.8465, \n",
      "Validation F-beta Score\n",
      "Class 0: 0.9897, Class 1: 0.0744, Class 2: 0.0027, Class 3: 0.3453, Class 4: 0.5153, Class 5: 0.3996, Class 6: 0.8985, \n",
      "\n",
      "Overall Mean Dice Score: 0.4294\n",
      "Overall Mean F-beta Score: 0.4466\n",
      "\n",
      "Training Loss: 0.4526, Validation Loss: 0.4404, Validation F-beta: 0.4466\n",
      "Epoch 37/4000\n"
     ]
    },
    {
     "name": "stderr",
     "output_type": "stream",
     "text": [
      "Training: 100%|██████████| 144/144 [01:52<00:00,  1.28it/s, loss=0.474]\n",
      "Validation: 100%|██████████| 5/5 [00:09<00:00,  1.87s/it, loss=0.453]\n"
     ]
    },
    {
     "name": "stdout",
     "output_type": "stream",
     "text": [
      "Validation Dice Score\n",
      "Class 0: 0.9888, Class 1: 0.1546, Class 2: 0.0305, Class 3: 0.2615, Class 4: 0.5970, Class 5: 0.3569, Class 6: 0.8838, \n",
      "Validation F-beta Score\n",
      "Class 0: 0.9904, Class 1: 0.1612, Class 2: 0.0189, Class 3: 0.3985, Class 4: 0.5086, Class 5: 0.3696, Class 6: 0.9247, \n",
      "\n",
      "Overall Mean Dice Score: 0.4507\n",
      "Overall Mean F-beta Score: 0.4725\n",
      "\n",
      "Training Loss: 0.4509, Validation Loss: 0.4444, Validation F-beta: 0.4725\n",
      "Epoch 38/4000\n"
     ]
    },
    {
     "name": "stderr",
     "output_type": "stream",
     "text": [
      "Training: 100%|██████████| 144/144 [01:51<00:00,  1.29it/s, loss=0.457]\n",
      "Validation: 100%|██████████| 5/5 [00:09<00:00,  1.91s/it, loss=0.431]\n"
     ]
    },
    {
     "name": "stdout",
     "output_type": "stream",
     "text": [
      "Validation Dice Score\n",
      "Class 0: 0.9906, Class 1: 0.1922, Class 2: 0.0437, Class 3: 0.2216, Class 4: 0.6400, Class 5: 0.3693, Class 6: 0.8360, \n",
      "Validation F-beta Score\n",
      "Class 0: 0.9912, Class 1: 0.2358, Class 2: 0.0295, Class 3: 0.3675, Class 4: 0.5773, Class 5: 0.3678, Class 6: 0.9112, \n",
      "\n",
      "Overall Mean Dice Score: 0.4518\n",
      "Overall Mean F-beta Score: 0.4919\n",
      "\n",
      "Training Loss: 0.4466, Validation Loss: 0.4394, Validation F-beta: 0.4919\n",
      "Epoch 39/4000\n"
     ]
    },
    {
     "name": "stderr",
     "output_type": "stream",
     "text": [
      "Training: 100%|██████████| 144/144 [01:53<00:00,  1.27it/s, loss=0.444]\n",
      "Validation: 100%|██████████| 5/5 [00:09<00:00,  1.92s/it, loss=0.412]\n"
     ]
    },
    {
     "name": "stdout",
     "output_type": "stream",
     "text": [
      "Validation Dice Score\n",
      "Class 0: 0.9897, Class 1: 0.1930, Class 2: 0.0633, Class 3: 0.3524, Class 4: 0.6543, Class 5: 0.4444, Class 6: 0.8781, \n",
      "Validation F-beta Score\n",
      "Class 0: 0.9893, Class 1: 0.1652, Class 2: 0.0446, Class 3: 0.4678, Class 4: 0.6306, Class 5: 0.4960, Class 6: 0.9205, \n",
      "\n",
      "Overall Mean Dice Score: 0.5044\n",
      "Overall Mean F-beta Score: 0.5360\n",
      "\n",
      "Training Loss: 0.4427, Validation Loss: 0.4183, Validation F-beta: 0.5360\n",
      "========================================================\n",
      "SUPER Best model saved. Loss:0.4183, Score:0.5360\n",
      "========================================================\n",
      "Epoch 40/4000\n"
     ]
    },
    {
     "name": "stderr",
     "output_type": "stream",
     "text": [
      "Training: 100%|██████████| 144/144 [01:52<00:00,  1.28it/s, loss=0.452]\n",
      "Validation: 100%|██████████| 5/5 [00:09<00:00,  1.91s/it, loss=0.408]\n"
     ]
    },
    {
     "name": "stdout",
     "output_type": "stream",
     "text": [
      "Validation Dice Score\n",
      "Class 0: 0.9899, Class 1: 0.1861, Class 2: 0.0549, Class 3: 0.3091, Class 4: 0.6626, Class 5: 0.4463, Class 6: 0.8957, \n",
      "Validation F-beta Score\n",
      "Class 0: 0.9880, Class 1: 0.1260, Class 2: 0.0358, Class 3: 0.3411, Class 4: 0.6943, Class 5: 0.5551, Class 6: 0.9013, \n",
      "\n",
      "Overall Mean Dice Score: 0.5000\n",
      "Overall Mean F-beta Score: 0.5236\n",
      "\n",
      "Training Loss: 0.4419, Validation Loss: 0.4133, Validation F-beta: 0.5236\n",
      "Epoch 41/4000\n"
     ]
    },
    {
     "name": "stderr",
     "output_type": "stream",
     "text": [
      "Training: 100%|██████████| 144/144 [01:55<00:00,  1.25it/s, loss=0.426]\n",
      "Validation: 100%|██████████| 5/5 [00:09<00:00,  1.94s/it, loss=0.422]\n"
     ]
    },
    {
     "name": "stdout",
     "output_type": "stream",
     "text": [
      "Validation Dice Score\n",
      "Class 0: 0.9889, Class 1: 0.2143, Class 2: 0.0642, Class 3: 0.3103, Class 4: 0.6715, Class 5: 0.4198, Class 6: 0.8954, \n",
      "Validation F-beta Score\n",
      "Class 0: 0.9869, Class 1: 0.2522, Class 2: 0.0408, Class 3: 0.3845, Class 4: 0.7075, Class 5: 0.5014, Class 6: 0.9389, \n",
      "\n",
      "Overall Mean Dice Score: 0.5022\n",
      "Overall Mean F-beta Score: 0.5569\n",
      "\n",
      "Training Loss: 0.4434, Validation Loss: 0.4243, Validation F-beta: 0.5569\n",
      "Epoch 42/4000\n"
     ]
    },
    {
     "name": "stderr",
     "output_type": "stream",
     "text": [
      "Training: 100%|██████████| 144/144 [01:51<00:00,  1.29it/s, loss=0.422]\n",
      "Validation: 100%|██████████| 5/5 [00:09<00:00,  1.91s/it, loss=0.429]\n"
     ]
    },
    {
     "name": "stdout",
     "output_type": "stream",
     "text": [
      "Validation Dice Score\n",
      "Class 0: 0.9892, Class 1: 0.2763, Class 2: 0.0504, Class 3: 0.2735, Class 4: 0.5633, Class 5: 0.4019, Class 6: 0.8921, \n",
      "Validation F-beta Score\n",
      "Class 0: 0.9892, Class 1: 0.2578, Class 2: 0.0351, Class 3: 0.4000, Class 4: 0.4661, Class 5: 0.4949, Class 6: 0.9250, \n",
      "\n",
      "Overall Mean Dice Score: 0.4814\n",
      "Overall Mean F-beta Score: 0.5088\n",
      "\n",
      "Training Loss: 0.4406, Validation Loss: 0.4274, Validation F-beta: 0.5088\n",
      "Epoch 43/4000\n"
     ]
    },
    {
     "name": "stderr",
     "output_type": "stream",
     "text": [
      "Training: 100%|██████████| 144/144 [01:52<00:00,  1.28it/s, loss=0.441]\n",
      "Validation: 100%|██████████| 5/5 [00:09<00:00,  1.88s/it, loss=0.421]\n"
     ]
    },
    {
     "name": "stdout",
     "output_type": "stream",
     "text": [
      "Validation Dice Score\n",
      "Class 0: 0.9893, Class 1: 0.2984, Class 2: 0.0536, Class 3: 0.2917, Class 4: 0.6441, Class 5: 0.3561, Class 6: 0.8591, \n",
      "Validation F-beta Score\n",
      "Class 0: 0.9892, Class 1: 0.2778, Class 2: 0.0399, Class 3: 0.3845, Class 4: 0.5892, Class 5: 0.4009, Class 6: 0.9122, \n",
      "\n",
      "Overall Mean Dice Score: 0.4899\n",
      "Overall Mean F-beta Score: 0.5129\n",
      "\n",
      "Training Loss: 0.4355, Validation Loss: 0.4236, Validation F-beta: 0.5129\n",
      "Epoch 44/4000\n"
     ]
    },
    {
     "name": "stderr",
     "output_type": "stream",
     "text": [
      "Training: 100%|██████████| 144/144 [01:51<00:00,  1.30it/s, loss=0.446]\n",
      "Validation: 100%|██████████| 5/5 [00:09<00:00,  1.92s/it, loss=0.411]\n"
     ]
    },
    {
     "name": "stdout",
     "output_type": "stream",
     "text": [
      "Validation Dice Score\n",
      "Class 0: 0.9895, Class 1: 0.2955, Class 2: 0.0613, Class 3: 0.3256, Class 4: 0.6337, Class 5: 0.4059, Class 6: 0.8661, \n",
      "Validation F-beta Score\n",
      "Class 0: 0.9880, Class 1: 0.2589, Class 2: 0.0405, Class 3: 0.4588, Class 4: 0.6156, Class 5: 0.5137, Class 6: 0.9053, \n",
      "\n",
      "Overall Mean Dice Score: 0.5053\n",
      "Overall Mean F-beta Score: 0.5504\n",
      "\n",
      "Training Loss: 0.4357, Validation Loss: 0.4264, Validation F-beta: 0.5504\n",
      "Epoch 45/4000\n"
     ]
    },
    {
     "name": "stderr",
     "output_type": "stream",
     "text": [
      "Training: 100%|██████████| 144/144 [01:53<00:00,  1.26it/s, loss=0.462]\n",
      "Validation: 100%|██████████| 5/5 [00:09<00:00,  1.92s/it, loss=0.406]\n"
     ]
    },
    {
     "name": "stdout",
     "output_type": "stream",
     "text": [
      "Validation Dice Score\n",
      "Class 0: 0.9900, Class 1: 0.3426, Class 2: 0.0445, Class 3: 0.3120, Class 4: 0.7224, Class 5: 0.4415, Class 6: 0.8571, \n",
      "Validation F-beta Score\n",
      "Class 0: 0.9883, Class 1: 0.4168, Class 2: 0.0297, Class 3: 0.3429, Class 4: 0.7489, Class 5: 0.5069, Class 6: 0.9186, \n",
      "\n",
      "Overall Mean Dice Score: 0.5351\n",
      "Overall Mean F-beta Score: 0.5868\n",
      "\n",
      "Training Loss: 0.4354, Validation Loss: 0.4039, Validation F-beta: 0.5868\n",
      "========================================================\n",
      "SUPER Best model saved. Loss:0.4039, Score:0.5868\n",
      "========================================================\n",
      "Epoch 46/4000\n"
     ]
    },
    {
     "name": "stderr",
     "output_type": "stream",
     "text": [
      "Training: 100%|██████████| 144/144 [01:53<00:00,  1.27it/s, loss=0.42] \n",
      "Validation: 100%|██████████| 5/5 [00:09<00:00,  1.89s/it, loss=0.434]\n"
     ]
    },
    {
     "name": "stdout",
     "output_type": "stream",
     "text": [
      "Validation Dice Score\n",
      "Class 0: 0.9884, Class 1: 0.3625, Class 2: 0.0491, Class 3: 0.2793, Class 4: 0.6383, Class 5: 0.4428, Class 6: 0.8826, \n",
      "Validation F-beta Score\n",
      "Class 0: 0.9871, Class 1: 0.3123, Class 2: 0.0321, Class 3: 0.3267, Class 4: 0.5722, Class 5: 0.5730, Class 6: 0.9245, \n",
      "\n",
      "Overall Mean Dice Score: 0.5211\n",
      "Overall Mean F-beta Score: 0.5417\n",
      "\n",
      "Training Loss: 0.4344, Validation Loss: 0.4181, Validation F-beta: 0.5417\n",
      "Epoch 47/4000\n"
     ]
    },
    {
     "name": "stderr",
     "output_type": "stream",
     "text": [
      "Training: 100%|██████████| 144/144 [01:51<00:00,  1.29it/s, loss=0.421]\n",
      "Validation: 100%|██████████| 5/5 [00:09<00:00,  1.91s/it, loss=0.398]\n"
     ]
    },
    {
     "name": "stdout",
     "output_type": "stream",
     "text": [
      "Validation Dice Score\n",
      "Class 0: 0.9904, Class 1: 0.4294, Class 2: 0.0602, Class 3: 0.2701, Class 4: 0.6857, Class 5: 0.3882, Class 6: 0.8788, \n",
      "Validation F-beta Score\n",
      "Class 0: 0.9894, Class 1: 0.4683, Class 2: 0.0503, Class 3: 0.4236, Class 4: 0.6655, Class 5: 0.4138, Class 6: 0.9376, \n",
      "\n",
      "Overall Mean Dice Score: 0.5304\n",
      "Overall Mean F-beta Score: 0.5818\n",
      "\n",
      "Training Loss: 0.4333, Validation Loss: 0.4100, Validation F-beta: 0.5818\n",
      "Epoch 48/4000\n"
     ]
    },
    {
     "name": "stderr",
     "output_type": "stream",
     "text": [
      "Training: 100%|██████████| 144/144 [01:52<00:00,  1.28it/s, loss=0.411]\n",
      "Validation: 100%|██████████| 5/5 [00:09<00:00,  1.88s/it, loss=0.433]\n"
     ]
    },
    {
     "name": "stdout",
     "output_type": "stream",
     "text": [
      "Validation Dice Score\n",
      "Class 0: 0.9902, Class 1: 0.3766, Class 2: 0.0701, Class 3: 0.2408, Class 4: 0.6217, Class 5: 0.3372, Class 6: 0.8821, \n",
      "Validation F-beta Score\n",
      "Class 0: 0.9923, Class 1: 0.4453, Class 2: 0.0556, Class 3: 0.3829, Class 4: 0.5139, Class 5: 0.2968, Class 6: 0.8951, \n",
      "\n",
      "Overall Mean Dice Score: 0.4917\n",
      "Overall Mean F-beta Score: 0.5068\n",
      "\n",
      "Training Loss: 0.4314, Validation Loss: 0.4243, Validation F-beta: 0.5068\n",
      "Epoch 49/4000\n"
     ]
    },
    {
     "name": "stderr",
     "output_type": "stream",
     "text": [
      "Training: 100%|██████████| 144/144 [01:50<00:00,  1.30it/s, loss=0.455]\n",
      "Validation: 100%|██████████| 5/5 [00:09<00:00,  1.88s/it, loss=0.388]\n"
     ]
    },
    {
     "name": "stdout",
     "output_type": "stream",
     "text": [
      "Validation Dice Score\n",
      "Class 0: 0.9908, Class 1: 0.4011, Class 2: 0.0737, Class 3: 0.2055, Class 4: 0.6942, Class 5: 0.3968, Class 6: 0.8833, \n",
      "Validation F-beta Score\n",
      "Class 0: 0.9905, Class 1: 0.4791, Class 2: 0.0586, Class 3: 0.3914, Class 4: 0.7158, Class 5: 0.3614, Class 6: 0.9348, \n",
      "\n",
      "Overall Mean Dice Score: 0.5162\n",
      "Overall Mean F-beta Score: 0.5765\n",
      "\n",
      "Training Loss: 0.4304, Validation Loss: 0.4067, Validation F-beta: 0.5765\n",
      "Epoch 50/4000\n"
     ]
    },
    {
     "name": "stderr",
     "output_type": "stream",
     "text": [
      "Training: 100%|██████████| 144/144 [01:52<00:00,  1.28it/s, loss=0.437]\n",
      "Validation: 100%|██████████| 5/5 [00:09<00:00,  1.90s/it, loss=0.417]\n"
     ]
    },
    {
     "name": "stdout",
     "output_type": "stream",
     "text": [
      "Validation Dice Score\n",
      "Class 0: 0.9902, Class 1: 0.4677, Class 2: 0.0662, Class 3: 0.3261, Class 4: 0.6942, Class 5: 0.4218, Class 6: 0.8855, \n",
      "Validation F-beta Score\n",
      "Class 0: 0.9892, Class 1: 0.4712, Class 2: 0.0503, Class 3: 0.3768, Class 4: 0.6818, Class 5: 0.5127, Class 6: 0.9268, \n",
      "\n",
      "Overall Mean Dice Score: 0.5591\n",
      "Overall Mean F-beta Score: 0.5938\n",
      "\n",
      "Training Loss: 0.4296, Validation Loss: 0.3995, Validation F-beta: 0.5938\n",
      "========================================================\n",
      "SUPER Best model saved. Loss:0.3995, Score:0.5938\n",
      "========================================================\n",
      "Epoch 51/4000\n"
     ]
    },
    {
     "name": "stderr",
     "output_type": "stream",
     "text": [
      "Training: 100%|██████████| 144/144 [01:53<00:00,  1.27it/s, loss=0.436]\n",
      "Validation: 100%|██████████| 5/5 [00:09<00:00,  1.97s/it, loss=0.417]\n"
     ]
    },
    {
     "name": "stdout",
     "output_type": "stream",
     "text": [
      "Validation Dice Score\n",
      "Class 0: 0.9886, Class 1: 0.3961, Class 2: 0.1158, Class 3: 0.3151, Class 4: 0.6249, Class 5: 0.3868, Class 6: 0.8944, \n",
      "Validation F-beta Score\n",
      "Class 0: 0.9874, Class 1: 0.3921, Class 2: 0.0967, Class 3: 0.4675, Class 4: 0.6127, Class 5: 0.4682, Class 6: 0.9183, \n",
      "\n",
      "Overall Mean Dice Score: 0.5235\n",
      "Overall Mean F-beta Score: 0.5718\n",
      "\n",
      "Training Loss: 0.4286, Validation Loss: 0.4133, Validation F-beta: 0.5718\n",
      "Epoch 52/4000\n"
     ]
    },
    {
     "name": "stderr",
     "output_type": "stream",
     "text": [
      "Training: 100%|██████████| 144/144 [01:53<00:00,  1.27it/s, loss=0.441]\n",
      "Validation: 100%|██████████| 5/5 [00:09<00:00,  1.84s/it, loss=0.411]\n"
     ]
    },
    {
     "name": "stdout",
     "output_type": "stream",
     "text": [
      "Validation Dice Score\n",
      "Class 0: 0.9894, Class 1: 0.3588, Class 2: 0.1033, Class 3: 0.3165, Class 4: 0.6914, Class 5: 0.4070, Class 6: 0.8470, \n",
      "Validation F-beta Score\n",
      "Class 0: 0.9878, Class 1: 0.3628, Class 2: 0.1049, Class 3: 0.4289, Class 4: 0.6895, Class 5: 0.4676, Class 6: 0.9264, \n",
      "\n",
      "Overall Mean Dice Score: 0.5241\n",
      "Overall Mean F-beta Score: 0.5750\n",
      "\n",
      "Training Loss: 0.4268, Validation Loss: 0.4069, Validation F-beta: 0.5750\n",
      "Epoch 53/4000\n"
     ]
    },
    {
     "name": "stderr",
     "output_type": "stream",
     "text": [
      "Training: 100%|██████████| 144/144 [01:52<00:00,  1.28it/s, loss=0.407]\n",
      "Validation: 100%|██████████| 5/5 [00:09<00:00,  1.87s/it, loss=0.408]\n"
     ]
    },
    {
     "name": "stdout",
     "output_type": "stream",
     "text": [
      "Validation Dice Score\n",
      "Class 0: 0.9880, Class 1: 0.4557, Class 2: 0.1185, Class 3: 0.3338, Class 4: 0.6457, Class 5: 0.4034, Class 6: 0.8766, \n",
      "Validation F-beta Score\n",
      "Class 0: 0.9850, Class 1: 0.4884, Class 2: 0.0871, Class 3: 0.4086, Class 4: 0.6683, Class 5: 0.5476, Class 6: 0.9287, \n",
      "\n",
      "Overall Mean Dice Score: 0.5431\n",
      "Overall Mean F-beta Score: 0.6083\n",
      "\n",
      "Training Loss: 0.4257, Validation Loss: 0.4060, Validation F-beta: 0.6083\n",
      "Epoch 54/4000\n"
     ]
    },
    {
     "name": "stderr",
     "output_type": "stream",
     "text": [
      "Training: 100%|██████████| 144/144 [01:50<00:00,  1.30it/s, loss=0.426]\n",
      "Validation: 100%|██████████| 5/5 [00:09<00:00,  1.90s/it, loss=0.397]\n"
     ]
    },
    {
     "name": "stdout",
     "output_type": "stream",
     "text": [
      "Validation Dice Score\n",
      "Class 0: 0.9910, Class 1: 0.4969, Class 2: 0.0986, Class 3: 0.2594, Class 4: 0.6463, Class 5: 0.3782, Class 6: 0.8896, \n",
      "Validation F-beta Score\n",
      "Class 0: 0.9913, Class 1: 0.5350, Class 2: 0.1189, Class 3: 0.4276, Class 4: 0.5908, Class 5: 0.3697, Class 6: 0.9172, \n",
      "\n",
      "Overall Mean Dice Score: 0.5341\n",
      "Overall Mean F-beta Score: 0.5680\n",
      "\n",
      "Training Loss: 0.4301, Validation Loss: 0.4055, Validation F-beta: 0.5680\n",
      "Epoch 55/4000\n"
     ]
    },
    {
     "name": "stderr",
     "output_type": "stream",
     "text": [
      "Training: 100%|██████████| 144/144 [01:52<00:00,  1.28it/s, loss=0.421]\n",
      "Validation: 100%|██████████| 5/5 [00:09<00:00,  1.88s/it, loss=0.42] \n"
     ]
    },
    {
     "name": "stdout",
     "output_type": "stream",
     "text": [
      "Validation Dice Score\n",
      "Class 0: 0.9890, Class 1: 0.5143, Class 2: 0.1808, Class 3: 0.3089, Class 4: 0.6452, Class 5: 0.4325, Class 6: 0.8636, \n",
      "Validation F-beta Score\n",
      "Class 0: 0.9872, Class 1: 0.5441, Class 2: 0.1511, Class 3: 0.3707, Class 4: 0.7014, Class 5: 0.4880, Class 6: 0.9109, \n",
      "\n",
      "Overall Mean Dice Score: 0.5529\n",
      "Overall Mean F-beta Score: 0.6030\n",
      "\n",
      "Training Loss: 0.4236, Validation Loss: 0.4076, Validation F-beta: 0.6030\n",
      "Epoch 56/4000\n"
     ]
    },
    {
     "name": "stderr",
     "output_type": "stream",
     "text": [
      "Training: 100%|██████████| 144/144 [01:53<00:00,  1.27it/s, loss=0.448]\n",
      "Validation: 100%|██████████| 5/5 [00:09<00:00,  1.86s/it, loss=0.42] \n"
     ]
    },
    {
     "name": "stdout",
     "output_type": "stream",
     "text": [
      "Validation Dice Score\n",
      "Class 0: 0.9886, Class 1: 0.4003, Class 2: 0.1582, Class 3: 0.3186, Class 4: 0.6605, Class 5: 0.4900, Class 6: 0.8968, \n",
      "Validation F-beta Score\n",
      "Class 0: 0.9849, Class 1: 0.3294, Class 2: 0.1280, Class 3: 0.3526, Class 4: 0.7787, Class 5: 0.6125, Class 6: 0.9274, \n",
      "\n",
      "Overall Mean Dice Score: 0.5533\n",
      "Overall Mean F-beta Score: 0.6001\n",
      "\n",
      "Training Loss: 0.4232, Validation Loss: 0.4082, Validation F-beta: 0.6001\n",
      "Epoch 57/4000\n"
     ]
    },
    {
     "name": "stderr",
     "output_type": "stream",
     "text": [
      "Training: 100%|██████████| 144/144 [01:52<00:00,  1.28it/s, loss=0.425]\n",
      "Validation: 100%|██████████| 5/5 [00:09<00:00,  1.88s/it, loss=0.397]\n"
     ]
    },
    {
     "name": "stdout",
     "output_type": "stream",
     "text": [
      "Validation Dice Score\n",
      "Class 0: 0.9900, Class 1: 0.4079, Class 2: 0.1355, Class 3: 0.2627, Class 4: 0.6905, Class 5: 0.4475, Class 6: 0.8596, \n",
      "Validation F-beta Score\n",
      "Class 0: 0.9879, Class 1: 0.5685, Class 2: 0.1570, Class 3: 0.3878, Class 4: 0.7180, Class 5: 0.4988, Class 6: 0.9292, \n",
      "\n",
      "Overall Mean Dice Score: 0.5336\n",
      "Overall Mean F-beta Score: 0.6204\n",
      "\n",
      "Training Loss: 0.4240, Validation Loss: 0.4059, Validation F-beta: 0.6204\n",
      "Epoch 58/4000\n"
     ]
    },
    {
     "name": "stderr",
     "output_type": "stream",
     "text": [
      "Training: 100%|██████████| 144/144 [01:52<00:00,  1.28it/s, loss=0.434]\n",
      "Validation: 100%|██████████| 5/5 [00:09<00:00,  1.86s/it, loss=0.413]\n"
     ]
    },
    {
     "name": "stdout",
     "output_type": "stream",
     "text": [
      "Validation Dice Score\n",
      "Class 0: 0.9893, Class 1: 0.4868, Class 2: 0.1047, Class 3: 0.3126, Class 4: 0.6350, Class 5: 0.4057, Class 6: 0.8590, \n",
      "Validation F-beta Score\n",
      "Class 0: 0.9902, Class 1: 0.5887, Class 2: 0.1337, Class 3: 0.4643, Class 4: 0.5449, Class 5: 0.4438, Class 6: 0.9233, \n",
      "\n",
      "Overall Mean Dice Score: 0.5398\n",
      "Overall Mean F-beta Score: 0.5930\n",
      "\n",
      "Training Loss: 0.4242, Validation Loss: 0.4140, Validation F-beta: 0.5930\n",
      "Epoch 59/4000\n"
     ]
    },
    {
     "name": "stderr",
     "output_type": "stream",
     "text": [
      "Training: 100%|██████████| 144/144 [01:50<00:00,  1.31it/s, loss=0.443]\n",
      "Validation: 100%|██████████| 5/5 [00:09<00:00,  1.86s/it, loss=0.392]\n"
     ]
    },
    {
     "name": "stdout",
     "output_type": "stream",
     "text": [
      "Validation Dice Score\n",
      "Class 0: 0.9900, Class 1: 0.4958, Class 2: 0.1380, Class 3: 0.3082, Class 4: 0.6564, Class 5: 0.4331, Class 6: 0.8800, \n",
      "Validation F-beta Score\n",
      "Class 0: 0.9892, Class 1: 0.5951, Class 2: 0.1455, Class 3: 0.4837, Class 4: 0.6205, Class 5: 0.4673, Class 6: 0.9207, \n",
      "\n",
      "Overall Mean Dice Score: 0.5547\n",
      "Overall Mean F-beta Score: 0.6174\n",
      "\n",
      "Training Loss: 0.4216, Validation Loss: 0.3983, Validation F-beta: 0.6174\n",
      "========================================================\n",
      "SUPER Best model saved. Loss:0.3983, Score:0.6174\n",
      "========================================================\n",
      "Epoch 60/4000\n"
     ]
    },
    {
     "name": "stderr",
     "output_type": "stream",
     "text": [
      "Training: 100%|██████████| 144/144 [01:51<00:00,  1.29it/s, loss=0.417]\n",
      "Validation: 100%|██████████| 5/5 [00:09<00:00,  1.88s/it, loss=0.412]\n"
     ]
    },
    {
     "name": "stdout",
     "output_type": "stream",
     "text": [
      "Validation Dice Score\n",
      "Class 0: 0.9895, Class 1: 0.5392, Class 2: 0.1465, Class 3: 0.3248, Class 4: 0.6767, Class 5: 0.4460, Class 6: 0.8774, \n",
      "Validation F-beta Score\n",
      "Class 0: 0.9858, Class 1: 0.5847, Class 2: 0.1319, Class 3: 0.4001, Class 4: 0.7599, Class 5: 0.5807, Class 6: 0.9353, \n",
      "\n",
      "Overall Mean Dice Score: 0.5728\n",
      "Overall Mean F-beta Score: 0.6522\n",
      "\n",
      "Training Loss: 0.4197, Validation Loss: 0.3948, Validation F-beta: 0.6522\n",
      "========================================================\n",
      "SUPER Best model saved. Loss:0.3948, Score:0.6522\n",
      "========================================================\n",
      "Epoch 61/4000\n"
     ]
    },
    {
     "name": "stderr",
     "output_type": "stream",
     "text": [
      "Training: 100%|██████████| 144/144 [01:51<00:00,  1.30it/s, loss=0.402]\n",
      "Validation: 100%|██████████| 5/5 [00:09<00:00,  1.88s/it, loss=0.416]\n"
     ]
    },
    {
     "name": "stdout",
     "output_type": "stream",
     "text": [
      "Validation Dice Score\n",
      "Class 0: 0.9886, Class 1: 0.4527, Class 2: 0.1541, Class 3: 0.3071, Class 4: 0.6966, Class 5: 0.3840, Class 6: 0.8962, \n",
      "Validation F-beta Score\n",
      "Class 0: 0.9856, Class 1: 0.4052, Class 2: 0.1469, Class 3: 0.4098, Class 4: 0.7218, Class 5: 0.5234, Class 6: 0.9352, \n",
      "\n",
      "Overall Mean Dice Score: 0.5473\n",
      "Overall Mean F-beta Score: 0.5991\n",
      "\n",
      "Training Loss: 0.4215, Validation Loss: 0.4106, Validation F-beta: 0.5991\n",
      "Epoch 62/4000\n"
     ]
    },
    {
     "name": "stderr",
     "output_type": "stream",
     "text": [
      "Training: 100%|██████████| 144/144 [01:49<00:00,  1.32it/s, loss=0.439]\n",
      "Validation: 100%|██████████| 5/5 [00:09<00:00,  1.90s/it, loss=0.404]\n"
     ]
    },
    {
     "name": "stdout",
     "output_type": "stream",
     "text": [
      "Validation Dice Score\n",
      "Class 0: 0.9897, Class 1: 0.4812, Class 2: 0.1456, Class 3: 0.3554, Class 4: 0.6496, Class 5: 0.3925, Class 6: 0.8758, \n",
      "Validation F-beta Score\n",
      "Class 0: 0.9896, Class 1: 0.4425, Class 2: 0.1650, Class 3: 0.5254, Class 4: 0.5894, Class 5: 0.4245, Class 6: 0.9129, \n",
      "\n",
      "Overall Mean Dice Score: 0.5509\n",
      "Overall Mean F-beta Score: 0.5790\n",
      "\n",
      "Training Loss: 0.4221, Validation Loss: 0.4096, Validation F-beta: 0.5790\n",
      "Epoch 63/4000\n"
     ]
    },
    {
     "name": "stderr",
     "output_type": "stream",
     "text": [
      "Training: 100%|██████████| 144/144 [01:51<00:00,  1.30it/s, loss=0.411]\n",
      "Validation: 100%|██████████| 5/5 [00:09<00:00,  1.88s/it, loss=0.417]\n"
     ]
    },
    {
     "name": "stdout",
     "output_type": "stream",
     "text": [
      "Validation Dice Score\n",
      "Class 0: 0.9892, Class 1: 0.5834, Class 2: 0.1935, Class 3: 0.2900, Class 4: 0.5909, Class 5: 0.4543, Class 6: 0.8952, \n",
      "Validation F-beta Score\n",
      "Class 0: 0.9873, Class 1: 0.5829, Class 2: 0.1815, Class 3: 0.3554, Class 4: 0.6423, Class 5: 0.5231, Class 6: 0.9396, \n",
      "\n",
      "Overall Mean Dice Score: 0.5628\n",
      "Overall Mean F-beta Score: 0.6087\n",
      "\n",
      "Training Loss: 0.4174, Validation Loss: 0.3946, Validation F-beta: 0.6087\n",
      "Epoch 64/4000\n"
     ]
    },
    {
     "name": "stderr",
     "output_type": "stream",
     "text": [
      "Training: 100%|██████████| 144/144 [01:51<00:00,  1.30it/s, loss=0.417]\n",
      "Validation: 100%|██████████| 5/5 [00:09<00:00,  1.88s/it, loss=0.412]\n"
     ]
    },
    {
     "name": "stdout",
     "output_type": "stream",
     "text": [
      "Validation Dice Score\n",
      "Class 0: 0.9895, Class 1: 0.5400, Class 2: 0.2268, Class 3: 0.3683, Class 4: 0.6452, Class 5: 0.4142, Class 6: 0.8937, \n",
      "Validation F-beta Score\n",
      "Class 0: 0.9897, Class 1: 0.5449, Class 2: 0.2449, Class 3: 0.5711, Class 4: 0.5855, Class 5: 0.4309, Class 6: 0.9319, \n",
      "\n",
      "Overall Mean Dice Score: 0.5723\n",
      "Overall Mean F-beta Score: 0.6129\n",
      "\n",
      "Training Loss: 0.4175, Validation Loss: 0.3979, Validation F-beta: 0.6129\n",
      "Epoch 65/4000\n"
     ]
    },
    {
     "name": "stderr",
     "output_type": "stream",
     "text": [
      "Training: 100%|██████████| 144/144 [01:49<00:00,  1.31it/s, loss=0.422]\n",
      "Validation: 100%|██████████| 5/5 [00:09<00:00,  1.84s/it, loss=0.386]\n"
     ]
    },
    {
     "name": "stdout",
     "output_type": "stream",
     "text": [
      "Validation Dice Score\n",
      "Class 0: 0.9889, Class 1: 0.4665, Class 2: 0.1319, Class 3: 0.3508, Class 4: 0.6709, Class 5: 0.4046, Class 6: 0.8630, \n",
      "Validation F-beta Score\n",
      "Class 0: 0.9878, Class 1: 0.6878, Class 2: 0.1594, Class 3: 0.5089, Class 4: 0.6404, Class 5: 0.4354, Class 6: 0.9379, \n",
      "\n",
      "Overall Mean Dice Score: 0.5512\n",
      "Overall Mean F-beta Score: 0.6421\n",
      "\n",
      "Training Loss: 0.4175, Validation Loss: 0.3951, Validation F-beta: 0.6421\n",
      "Epoch 66/4000\n"
     ]
    },
    {
     "name": "stderr",
     "output_type": "stream",
     "text": [
      "Training: 100%|██████████| 144/144 [01:51<00:00,  1.29it/s, loss=0.406]\n",
      "Validation: 100%|██████████| 5/5 [00:09<00:00,  1.86s/it, loss=0.404]\n"
     ]
    },
    {
     "name": "stdout",
     "output_type": "stream",
     "text": [
      "Validation Dice Score\n",
      "Class 0: 0.9900, Class 1: 0.5142, Class 2: 0.2028, Class 3: 0.3034, Class 4: 0.6571, Class 5: 0.4116, Class 6: 0.8687, \n",
      "Validation F-beta Score\n",
      "Class 0: 0.9882, Class 1: 0.6255, Class 2: 0.2242, Class 3: 0.4804, Class 4: 0.6249, Class 5: 0.5210, Class 6: 0.9213, \n",
      "\n",
      "Overall Mean Dice Score: 0.5510\n",
      "Overall Mean F-beta Score: 0.6346\n",
      "\n",
      "Training Loss: 0.4150, Validation Loss: 0.4114, Validation F-beta: 0.6346\n",
      "Epoch 67/4000\n"
     ]
    },
    {
     "name": "stderr",
     "output_type": "stream",
     "text": [
      "Training: 100%|██████████| 144/144 [01:50<00:00,  1.31it/s, loss=0.408]\n",
      "Validation: 100%|██████████| 5/5 [00:09<00:00,  1.90s/it, loss=0.407]\n"
     ]
    },
    {
     "name": "stdout",
     "output_type": "stream",
     "text": [
      "Validation Dice Score\n",
      "Class 0: 0.9882, Class 1: 0.4690, Class 2: 0.1359, Class 3: 0.2711, Class 4: 0.6488, Class 5: 0.4140, Class 6: 0.8672, \n",
      "Validation F-beta Score\n",
      "Class 0: 0.9857, Class 1: 0.5494, Class 2: 0.1261, Class 3: 0.3357, Class 4: 0.6581, Class 5: 0.5244, Class 6: 0.9565, \n",
      "\n",
      "Overall Mean Dice Score: 0.5340\n",
      "Overall Mean F-beta Score: 0.6048\n",
      "\n",
      "Training Loss: 0.4172, Validation Loss: 0.4120, Validation F-beta: 0.6048\n",
      "Epoch 68/4000\n"
     ]
    },
    {
     "name": "stderr",
     "output_type": "stream",
     "text": [
      "Training: 100%|██████████| 144/144 [01:51<00:00,  1.29it/s, loss=0.436]\n",
      "Validation: 100%|██████████| 5/5 [00:09<00:00,  1.87s/it, loss=0.382]\n"
     ]
    },
    {
     "name": "stdout",
     "output_type": "stream",
     "text": [
      "Validation Dice Score\n",
      "Class 0: 0.9889, Class 1: 0.5012, Class 2: 0.2192, Class 3: 0.3377, Class 4: 0.6718, Class 5: 0.4283, Class 6: 0.8896, \n",
      "Validation F-beta Score\n",
      "Class 0: 0.9880, Class 1: 0.5366, Class 2: 0.2242, Class 3: 0.4296, Class 4: 0.6551, Class 5: 0.4752, Class 6: 0.9408, \n",
      "\n",
      "Overall Mean Dice Score: 0.5657\n",
      "Overall Mean F-beta Score: 0.6075\n",
      "\n",
      "Training Loss: 0.4144, Validation Loss: 0.3907, Validation F-beta: 0.6075\n",
      "Epoch 69/4000\n"
     ]
    },
    {
     "name": "stderr",
     "output_type": "stream",
     "text": [
      "Training: 100%|██████████| 144/144 [01:51<00:00,  1.29it/s, loss=0.428]\n",
      "Validation: 100%|██████████| 5/5 [00:09<00:00,  1.90s/it, loss=0.413]\n"
     ]
    },
    {
     "name": "stdout",
     "output_type": "stream",
     "text": [
      "Validation Dice Score\n",
      "Class 0: 0.9895, Class 1: 0.5198, Class 2: 0.1847, Class 3: 0.3112, Class 4: 0.6581, Class 5: 0.4325, Class 6: 0.9065, \n",
      "Validation F-beta Score\n",
      "Class 0: 0.9875, Class 1: 0.5616, Class 2: 0.2287, Class 3: 0.4259, Class 4: 0.6432, Class 5: 0.5453, Class 6: 0.9377, \n",
      "\n",
      "Overall Mean Dice Score: 0.5656\n",
      "Overall Mean F-beta Score: 0.6227\n",
      "\n",
      "Training Loss: 0.4131, Validation Loss: 0.4125, Validation F-beta: 0.6227\n",
      "Epoch 70/4000\n"
     ]
    },
    {
     "name": "stderr",
     "output_type": "stream",
     "text": [
      "Training: 100%|██████████| 144/144 [01:52<00:00,  1.28it/s, loss=0.41] \n",
      "Validation: 100%|██████████| 5/5 [00:09<00:00,  1.92s/it, loss=0.416]\n"
     ]
    },
    {
     "name": "stdout",
     "output_type": "stream",
     "text": [
      "Validation Dice Score\n",
      "Class 0: 0.9899, Class 1: 0.5010, Class 2: 0.1936, Class 3: 0.3390, Class 4: 0.6691, Class 5: 0.4655, Class 6: 0.8905, \n",
      "Validation F-beta Score\n",
      "Class 0: 0.9898, Class 1: 0.6606, Class 2: 0.2362, Class 3: 0.4213, Class 4: 0.6096, Class 5: 0.4941, Class 6: 0.9472, \n",
      "\n",
      "Overall Mean Dice Score: 0.5730\n",
      "Overall Mean F-beta Score: 0.6265\n",
      "\n",
      "Training Loss: 0.4150, Validation Loss: 0.3995, Validation F-beta: 0.6265\n",
      "Epoch 71/4000\n"
     ]
    },
    {
     "name": "stderr",
     "output_type": "stream",
     "text": [
      "Training: 100%|██████████| 144/144 [01:51<00:00,  1.30it/s, loss=0.415]\n",
      "Validation: 100%|██████████| 5/5 [00:09<00:00,  1.90s/it, loss=0.381]\n"
     ]
    },
    {
     "name": "stdout",
     "output_type": "stream",
     "text": [
      "Validation Dice Score\n",
      "Class 0: 0.9895, Class 1: 0.5490, Class 2: 0.1260, Class 3: 0.3381, Class 4: 0.6869, Class 5: 0.4590, Class 6: 0.8683, \n",
      "Validation F-beta Score\n",
      "Class 0: 0.9879, Class 1: 0.5405, Class 2: 0.1448, Class 3: 0.4622, Class 4: 0.6611, Class 5: 0.5480, Class 6: 0.9267, \n",
      "\n",
      "Overall Mean Dice Score: 0.5802\n",
      "Overall Mean F-beta Score: 0.6277\n",
      "\n",
      "Training Loss: 0.4134, Validation Loss: 0.3932, Validation F-beta: 0.6277\n",
      "Epoch 72/4000\n"
     ]
    },
    {
     "name": "stderr",
     "output_type": "stream",
     "text": [
      "Training: 100%|██████████| 144/144 [01:49<00:00,  1.31it/s, loss=0.42] \n",
      "Validation: 100%|██████████| 5/5 [00:09<00:00,  1.88s/it, loss=0.422]\n"
     ]
    },
    {
     "name": "stdout",
     "output_type": "stream",
     "text": [
      "Validation Dice Score\n",
      "Class 0: 0.9881, Class 1: 0.5509, Class 2: 0.2889, Class 3: 0.3822, Class 4: 0.6935, Class 5: 0.4064, Class 6: 0.8772, \n",
      "Validation F-beta Score\n",
      "Class 0: 0.9839, Class 1: 0.7034, Class 2: 0.3302, Class 3: 0.4902, Class 4: 0.7683, Class 5: 0.5331, Class 6: 0.9570, \n",
      "\n",
      "Overall Mean Dice Score: 0.5821\n",
      "Overall Mean F-beta Score: 0.6904\n",
      "\n",
      "Training Loss: 0.4162, Validation Loss: 0.4033, Validation F-beta: 0.6904\n",
      "Epoch 73/4000\n"
     ]
    },
    {
     "name": "stderr",
     "output_type": "stream",
     "text": [
      "Training: 100%|██████████| 144/144 [01:52<00:00,  1.28it/s, loss=0.441]\n",
      "Validation: 100%|██████████| 5/5 [00:09<00:00,  1.90s/it, loss=0.386]\n"
     ]
    },
    {
     "name": "stdout",
     "output_type": "stream",
     "text": [
      "Validation Dice Score\n",
      "Class 0: 0.9897, Class 1: 0.5738, Class 2: 0.2024, Class 3: 0.3224, Class 4: 0.6962, Class 5: 0.4506, Class 6: 0.9088, \n",
      "Validation F-beta Score\n",
      "Class 0: 0.9890, Class 1: 0.6471, Class 2: 0.2798, Class 3: 0.4342, Class 4: 0.6396, Class 5: 0.5124, Class 6: 0.9483, \n",
      "\n",
      "Overall Mean Dice Score: 0.5904\n",
      "Overall Mean F-beta Score: 0.6363\n",
      "\n",
      "Training Loss: 0.4156, Validation Loss: 0.4032, Validation F-beta: 0.6363\n",
      "Epoch 74/4000\n"
     ]
    },
    {
     "name": "stderr",
     "output_type": "stream",
     "text": [
      "Training: 100%|██████████| 144/144 [01:50<00:00,  1.30it/s, loss=0.416]\n",
      "Validation: 100%|██████████| 5/5 [00:09<00:00,  1.88s/it, loss=0.401]\n"
     ]
    },
    {
     "name": "stdout",
     "output_type": "stream",
     "text": [
      "Validation Dice Score\n",
      "Class 0: 0.9897, Class 1: 0.5163, Class 2: 0.2058, Class 3: 0.3187, Class 4: 0.6545, Class 5: 0.4274, Class 6: 0.8746, \n",
      "Validation F-beta Score\n",
      "Class 0: 0.9900, Class 1: 0.6101, Class 2: 0.2997, Class 3: 0.4644, Class 4: 0.5978, Class 5: 0.4223, Class 6: 0.9331, \n",
      "\n",
      "Overall Mean Dice Score: 0.5583\n",
      "Overall Mean F-beta Score: 0.6055\n",
      "\n",
      "Training Loss: 0.4141, Validation Loss: 0.4003, Validation F-beta: 0.6055\n",
      "Epoch 75/4000\n"
     ]
    },
    {
     "name": "stderr",
     "output_type": "stream",
     "text": [
      "Training: 100%|██████████| 144/144 [01:50<00:00,  1.30it/s, loss=0.405]\n",
      "Validation: 100%|██████████| 5/5 [00:09<00:00,  1.94s/it, loss=0.394]\n"
     ]
    },
    {
     "name": "stdout",
     "output_type": "stream",
     "text": [
      "Validation Dice Score\n",
      "Class 0: 0.9896, Class 1: 0.6322, Class 2: 0.2813, Class 3: 0.3324, Class 4: 0.6649, Class 5: 0.4270, Class 6: 0.8989, \n",
      "Validation F-beta Score\n",
      "Class 0: 0.9864, Class 1: 0.6397, Class 2: 0.3093, Class 3: 0.4684, Class 4: 0.7245, Class 5: 0.5552, Class 6: 0.9503, \n",
      "\n",
      "Overall Mean Dice Score: 0.5911\n",
      "Overall Mean F-beta Score: 0.6676\n",
      "\n",
      "Training Loss: 0.4102, Validation Loss: 0.3926, Validation F-beta: 0.6676\n",
      "========================================================\n",
      "SUPER Best model saved. Loss:0.3926, Score:0.6676\n",
      "========================================================\n",
      "Epoch 76/4000\n"
     ]
    },
    {
     "name": "stderr",
     "output_type": "stream",
     "text": [
      "Training: 100%|██████████| 144/144 [01:52<00:00,  1.28it/s, loss=0.422]\n",
      "Validation: 100%|██████████| 5/5 [00:09<00:00,  1.88s/it, loss=0.411]\n"
     ]
    },
    {
     "name": "stdout",
     "output_type": "stream",
     "text": [
      "Validation Dice Score\n",
      "Class 0: 0.9885, Class 1: 0.4992, Class 2: 0.2257, Class 3: 0.3584, Class 4: 0.6395, Class 5: 0.4902, Class 6: 0.8731, \n",
      "Validation F-beta Score\n",
      "Class 0: 0.9856, Class 1: 0.6939, Class 2: 0.2748, Class 3: 0.5099, Class 4: 0.6734, Class 5: 0.5699, Class 6: 0.9594, \n",
      "\n",
      "Overall Mean Dice Score: 0.5721\n",
      "Overall Mean F-beta Score: 0.6813\n",
      "\n",
      "Training Loss: 0.4120, Validation Loss: 0.3927, Validation F-beta: 0.6813\n",
      "Epoch 77/4000\n"
     ]
    },
    {
     "name": "stderr",
     "output_type": "stream",
     "text": [
      "Training: 100%|██████████| 144/144 [01:51<00:00,  1.29it/s, loss=0.415]\n",
      "Validation: 100%|██████████| 5/5 [00:09<00:00,  1.91s/it, loss=0.39] \n"
     ]
    },
    {
     "name": "stdout",
     "output_type": "stream",
     "text": [
      "Validation Dice Score\n",
      "Class 0: 0.9903, Class 1: 0.5309, Class 2: 0.1978, Class 3: 0.3457, Class 4: 0.6319, Class 5: 0.4281, Class 6: 0.8804, \n",
      "Validation F-beta Score\n",
      "Class 0: 0.9890, Class 1: 0.5349, Class 2: 0.2694, Class 3: 0.4015, Class 4: 0.6094, Class 5: 0.5138, Class 6: 0.9376, \n",
      "\n",
      "Overall Mean Dice Score: 0.5634\n",
      "Overall Mean F-beta Score: 0.5994\n",
      "\n",
      "Training Loss: 0.4123, Validation Loss: 0.3941, Validation F-beta: 0.5994\n",
      "Epoch 78/4000\n"
     ]
    },
    {
     "name": "stderr",
     "output_type": "stream",
     "text": [
      "Training: 100%|██████████| 144/144 [01:52<00:00,  1.28it/s, loss=0.421]\n",
      "Validation: 100%|██████████| 5/5 [00:09<00:00,  1.90s/it, loss=0.389]\n"
     ]
    },
    {
     "name": "stdout",
     "output_type": "stream",
     "text": [
      "Validation Dice Score\n",
      "Class 0: 0.9903, Class 1: 0.5488, Class 2: 0.1595, Class 3: 0.3542, Class 4: 0.6596, Class 5: 0.4441, Class 6: 0.9153, \n",
      "Validation F-beta Score\n",
      "Class 0: 0.9887, Class 1: 0.5345, Class 2: 0.2129, Class 3: 0.4201, Class 4: 0.6459, Class 5: 0.5528, Class 6: 0.9359, \n",
      "\n",
      "Overall Mean Dice Score: 0.5844\n",
      "Overall Mean F-beta Score: 0.6178\n",
      "\n",
      "Training Loss: 0.4110, Validation Loss: 0.3887, Validation F-beta: 0.6178\n",
      "Epoch 79/4000\n"
     ]
    },
    {
     "name": "stderr",
     "output_type": "stream",
     "text": [
      "Training: 100%|██████████| 144/144 [01:52<00:00,  1.28it/s, loss=0.407]\n",
      "Validation: 100%|██████████| 5/5 [00:09<00:00,  1.87s/it, loss=0.376]\n"
     ]
    },
    {
     "name": "stdout",
     "output_type": "stream",
     "text": [
      "Validation Dice Score\n",
      "Class 0: 0.9897, Class 1: 0.5764, Class 2: 0.1710, Class 3: 0.3429, Class 4: 0.6818, Class 5: 0.4423, Class 6: 0.8913, \n",
      "Validation F-beta Score\n",
      "Class 0: 0.9876, Class 1: 0.6901, Class 2: 0.1909, Class 3: 0.4465, Class 4: 0.7323, Class 5: 0.4737, Class 6: 0.9509, \n",
      "\n",
      "Overall Mean Dice Score: 0.5869\n",
      "Overall Mean F-beta Score: 0.6587\n",
      "\n",
      "Training Loss: 0.4108, Validation Loss: 0.3873, Validation F-beta: 0.6587\n",
      "Epoch 80/4000\n"
     ]
    },
    {
     "name": "stderr",
     "output_type": "stream",
     "text": [
      "Training: 100%|██████████| 144/144 [01:52<00:00,  1.28it/s, loss=0.387]\n",
      "Validation: 100%|██████████| 5/5 [00:09<00:00,  1.92s/it, loss=0.382]\n"
     ]
    },
    {
     "name": "stdout",
     "output_type": "stream",
     "text": [
      "Validation Dice Score\n",
      "Class 0: 0.9897, Class 1: 0.4641, Class 2: 0.1522, Class 3: 0.3269, Class 4: 0.6973, Class 5: 0.4809, Class 6: 0.8608, \n",
      "Validation F-beta Score\n",
      "Class 0: 0.9872, Class 1: 0.7295, Class 2: 0.1493, Class 3: 0.5010, Class 4: 0.7069, Class 5: 0.5614, Class 6: 0.9599, \n",
      "\n",
      "Overall Mean Dice Score: 0.5660\n",
      "Overall Mean F-beta Score: 0.6918\n",
      "\n",
      "Training Loss: 0.4090, Validation Loss: 0.3845, Validation F-beta: 0.6918\n",
      "========================================================\n",
      "SUPER Best model saved. Loss:0.3845, Score:0.6918\n",
      "========================================================\n",
      "Epoch 81/4000\n"
     ]
    },
    {
     "name": "stderr",
     "output_type": "stream",
     "text": [
      "Training: 100%|██████████| 144/144 [01:50<00:00,  1.30it/s, loss=0.413]\n",
      "Validation: 100%|██████████| 5/5 [00:09<00:00,  1.87s/it, loss=0.402]\n"
     ]
    },
    {
     "name": "stdout",
     "output_type": "stream",
     "text": [
      "Validation Dice Score\n",
      "Class 0: 0.9895, Class 1: 0.6021, Class 2: 0.2726, Class 3: 0.3254, Class 4: 0.6910, Class 5: 0.4204, Class 6: 0.8952, \n",
      "Validation F-beta Score\n",
      "Class 0: 0.9884, Class 1: 0.6804, Class 2: 0.3152, Class 3: 0.4079, Class 4: 0.6488, Class 5: 0.5107, Class 6: 0.9373, \n",
      "\n",
      "Overall Mean Dice Score: 0.5868\n",
      "Overall Mean F-beta Score: 0.6370\n",
      "\n",
      "Training Loss: 0.4075, Validation Loss: 0.3858, Validation F-beta: 0.6370\n",
      "Epoch 82/4000\n"
     ]
    },
    {
     "name": "stderr",
     "output_type": "stream",
     "text": [
      "Training: 100%|██████████| 144/144 [01:51<00:00,  1.29it/s, loss=0.414]\n",
      "Validation: 100%|██████████| 5/5 [00:09<00:00,  1.81s/it, loss=0.408]\n"
     ]
    },
    {
     "name": "stdout",
     "output_type": "stream",
     "text": [
      "Validation Dice Score\n",
      "Class 0: 0.9896, Class 1: 0.5435, Class 2: 0.1743, Class 3: 0.3442, Class 4: 0.6610, Class 5: 0.4526, Class 6: 0.9086, \n",
      "Validation F-beta Score\n",
      "Class 0: 0.9866, Class 1: 0.6906, Class 2: 0.2519, Class 3: 0.5410, Class 4: 0.6871, Class 5: 0.5461, Class 6: 0.9590, \n",
      "\n",
      "Overall Mean Dice Score: 0.5820\n",
      "Overall Mean F-beta Score: 0.6848\n",
      "\n",
      "Training Loss: 0.4099, Validation Loss: 0.3997, Validation F-beta: 0.6848\n",
      "Epoch 83/4000\n"
     ]
    },
    {
     "name": "stderr",
     "output_type": "stream",
     "text": [
      "Training: 100%|██████████| 144/144 [01:50<00:00,  1.30it/s, loss=0.403]\n",
      "Validation: 100%|██████████| 5/5 [00:09<00:00,  1.92s/it, loss=0.394]\n"
     ]
    },
    {
     "name": "stdout",
     "output_type": "stream",
     "text": [
      "Validation Dice Score\n",
      "Class 0: 0.9898, Class 1: 0.5627, Class 2: 0.1301, Class 3: 0.2812, Class 4: 0.6093, Class 5: 0.4185, Class 6: 0.8868, \n",
      "Validation F-beta Score\n",
      "Class 0: 0.9908, Class 1: 0.6318, Class 2: 0.1694, Class 3: 0.3699, Class 4: 0.4998, Class 5: 0.4471, Class 6: 0.9417, \n",
      "\n",
      "Overall Mean Dice Score: 0.5517\n",
      "Overall Mean F-beta Score: 0.5781\n",
      "\n",
      "Training Loss: 0.4091, Validation Loss: 0.3936, Validation F-beta: 0.5781\n",
      "Epoch 84/4000\n"
     ]
    },
    {
     "name": "stderr",
     "output_type": "stream",
     "text": [
      "Training: 100%|██████████| 144/144 [01:51<00:00,  1.29it/s, loss=0.437]\n",
      "Validation: 100%|██████████| 5/5 [00:09<00:00,  1.88s/it, loss=0.397]\n"
     ]
    },
    {
     "name": "stdout",
     "output_type": "stream",
     "text": [
      "Validation Dice Score\n",
      "Class 0: 0.9899, Class 1: 0.5463, Class 2: 0.1817, Class 3: 0.2797, Class 4: 0.6510, Class 5: 0.4159, Class 6: 0.8927, \n",
      "Validation F-beta Score\n",
      "Class 0: 0.9886, Class 1: 0.5279, Class 2: 0.2490, Class 3: 0.4115, Class 4: 0.6097, Class 5: 0.5192, Class 6: 0.9333, \n",
      "\n",
      "Overall Mean Dice Score: 0.5571\n",
      "Overall Mean F-beta Score: 0.6003\n",
      "\n",
      "Training Loss: 0.4079, Validation Loss: 0.4043, Validation F-beta: 0.6003\n",
      "Epoch 85/4000\n"
     ]
    },
    {
     "name": "stderr",
     "output_type": "stream",
     "text": [
      "Training: 100%|██████████| 144/144 [01:52<00:00,  1.28it/s, loss=0.406]\n",
      "Validation: 100%|██████████| 5/5 [00:09<00:00,  1.89s/it, loss=0.386]\n"
     ]
    },
    {
     "name": "stdout",
     "output_type": "stream",
     "text": [
      "Validation Dice Score\n",
      "Class 0: 0.9892, Class 1: 0.5883, Class 2: 0.2497, Class 3: 0.3684, Class 4: 0.6868, Class 5: 0.4535, Class 6: 0.9050, \n",
      "Validation F-beta Score\n",
      "Class 0: 0.9852, Class 1: 0.6301, Class 2: 0.3338, Class 3: 0.5628, Class 4: 0.7478, Class 5: 0.5795, Class 6: 0.9491, \n",
      "\n",
      "Overall Mean Dice Score: 0.6004\n",
      "Overall Mean F-beta Score: 0.6938\n",
      "\n",
      "Training Loss: 0.4070, Validation Loss: 0.3906, Validation F-beta: 0.6938\n",
      "Epoch 86/4000\n"
     ]
    },
    {
     "name": "stderr",
     "output_type": "stream",
     "text": [
      "Training: 100%|██████████| 144/144 [01:50<00:00,  1.31it/s, loss=0.396]\n",
      "Validation: 100%|██████████| 5/5 [00:09<00:00,  1.84s/it, loss=0.393]\n"
     ]
    },
    {
     "name": "stdout",
     "output_type": "stream",
     "text": [
      "Validation Dice Score\n",
      "Class 0: 0.9895, Class 1: 0.5565, Class 2: 0.2956, Class 3: 0.3203, Class 4: 0.6767, Class 5: 0.4275, Class 6: 0.8757, \n",
      "Validation F-beta Score\n",
      "Class 0: 0.9863, Class 1: 0.5256, Class 2: 0.3105, Class 3: 0.4144, Class 4: 0.7345, Class 5: 0.5475, Class 6: 0.9328, \n",
      "\n",
      "Overall Mean Dice Score: 0.5714\n",
      "Overall Mean F-beta Score: 0.6310\n",
      "\n",
      "Training Loss: 0.4091, Validation Loss: 0.3903, Validation F-beta: 0.6310\n",
      "Epoch 87/4000\n"
     ]
    },
    {
     "name": "stderr",
     "output_type": "stream",
     "text": [
      "Training: 100%|██████████| 144/144 [01:53<00:00,  1.27it/s, loss=0.387]\n",
      "Validation: 100%|██████████| 5/5 [00:09<00:00,  1.85s/it, loss=0.414]\n"
     ]
    },
    {
     "name": "stdout",
     "output_type": "stream",
     "text": [
      "Validation Dice Score\n",
      "Class 0: 0.9891, Class 1: 0.5770, Class 2: 0.1513, Class 3: 0.3149, Class 4: 0.6674, Class 5: 0.4278, Class 6: 0.8745, \n",
      "Validation F-beta Score\n",
      "Class 0: 0.9878, Class 1: 0.6283, Class 2: 0.2067, Class 3: 0.4152, Class 4: 0.6415, Class 5: 0.5105, Class 6: 0.9450, \n",
      "\n",
      "Overall Mean Dice Score: 0.5723\n",
      "Overall Mean F-beta Score: 0.6281\n",
      "\n",
      "Training Loss: 0.4061, Validation Loss: 0.3903, Validation F-beta: 0.6281\n",
      "Epoch 88/4000\n"
     ]
    },
    {
     "name": "stderr",
     "output_type": "stream",
     "text": [
      "Training: 100%|██████████| 144/144 [01:51<00:00,  1.29it/s, loss=0.415]\n",
      "Validation: 100%|██████████| 5/5 [00:09<00:00,  1.88s/it, loss=0.388]\n"
     ]
    },
    {
     "name": "stdout",
     "output_type": "stream",
     "text": [
      "Validation Dice Score\n",
      "Class 0: 0.9890, Class 1: 0.6224, Class 2: 0.2096, Class 3: 0.3479, Class 4: 0.6622, Class 5: 0.4113, Class 6: 0.8936, \n",
      "Validation F-beta Score\n",
      "Class 0: 0.9858, Class 1: 0.6532, Class 2: 0.2408, Class 3: 0.4007, Class 4: 0.6956, Class 5: 0.5346, Class 6: 0.9577, \n",
      "\n",
      "Overall Mean Dice Score: 0.5875\n",
      "Overall Mean F-beta Score: 0.6484\n",
      "\n",
      "Training Loss: 0.4084, Validation Loss: 0.3867, Validation F-beta: 0.6484\n",
      "Epoch 89/4000\n"
     ]
    },
    {
     "name": "stderr",
     "output_type": "stream",
     "text": [
      "Training: 100%|██████████| 144/144 [01:50<00:00,  1.30it/s, loss=0.406]\n",
      "Validation: 100%|██████████| 5/5 [00:09<00:00,  1.90s/it, loss=0.389]\n"
     ]
    },
    {
     "name": "stdout",
     "output_type": "stream",
     "text": [
      "Validation Dice Score\n",
      "Class 0: 0.9891, Class 1: 0.5907, Class 2: 0.2937, Class 3: 0.3655, Class 4: 0.6649, Class 5: 0.4197, Class 6: 0.8569, \n",
      "Validation F-beta Score\n",
      "Class 0: 0.9874, Class 1: 0.7101, Class 2: 0.3635, Class 3: 0.5229, Class 4: 0.6354, Class 5: 0.4869, Class 6: 0.9414, \n",
      "\n",
      "Overall Mean Dice Score: 0.5796\n",
      "Overall Mean F-beta Score: 0.6594\n",
      "\n",
      "Training Loss: 0.4106, Validation Loss: 0.3913, Validation F-beta: 0.6594\n",
      "Epoch 90/4000\n"
     ]
    },
    {
     "name": "stderr",
     "output_type": "stream",
     "text": [
      "Training: 100%|██████████| 144/144 [01:50<00:00,  1.30it/s, loss=0.419]\n",
      "Validation: 100%|██████████| 5/5 [00:09<00:00,  1.90s/it, loss=0.386]\n"
     ]
    },
    {
     "name": "stdout",
     "output_type": "stream",
     "text": [
      "Validation Dice Score\n",
      "Class 0: 0.9893, Class 1: 0.5257, Class 2: 0.2459, Class 3: 0.3285, Class 4: 0.6492, Class 5: 0.4127, Class 6: 0.8797, \n",
      "Validation F-beta Score\n",
      "Class 0: 0.9886, Class 1: 0.7416, Class 2: 0.3021, Class 3: 0.4431, Class 4: 0.6181, Class 5: 0.4258, Class 6: 0.9465, \n",
      "\n",
      "Overall Mean Dice Score: 0.5592\n",
      "Overall Mean F-beta Score: 0.6350\n",
      "\n",
      "Training Loss: 0.4066, Validation Loss: 0.3878, Validation F-beta: 0.6350\n",
      "Epoch 91/4000\n"
     ]
    },
    {
     "name": "stderr",
     "output_type": "stream",
     "text": [
      "Training: 100%|██████████| 144/144 [01:52<00:00,  1.28it/s, loss=0.417]\n",
      "Validation: 100%|██████████| 5/5 [00:09<00:00,  1.87s/it, loss=0.416]\n"
     ]
    },
    {
     "name": "stdout",
     "output_type": "stream",
     "text": [
      "Validation Dice Score\n",
      "Class 0: 0.9892, Class 1: 0.6367, Class 2: 0.2690, Class 3: 0.3519, Class 4: 0.6909, Class 5: 0.3530, Class 6: 0.8976, \n",
      "Validation F-beta Score\n",
      "Class 0: 0.9857, Class 1: 0.6926, Class 2: 0.3773, Class 3: 0.4961, Class 4: 0.6995, Class 5: 0.5063, Class 6: 0.9575, \n",
      "\n",
      "Overall Mean Dice Score: 0.5860\n",
      "Overall Mean F-beta Score: 0.6704\n",
      "\n",
      "Training Loss: 0.4030, Validation Loss: 0.4042, Validation F-beta: 0.6704\n",
      "Epoch 92/4000\n"
     ]
    },
    {
     "name": "stderr",
     "output_type": "stream",
     "text": [
      "Training: 100%|██████████| 144/144 [01:51<00:00,  1.29it/s, loss=0.411]\n",
      "Validation: 100%|██████████| 5/5 [00:09<00:00,  1.95s/it, loss=0.393]\n"
     ]
    },
    {
     "name": "stdout",
     "output_type": "stream",
     "text": [
      "Validation Dice Score\n",
      "Class 0: 0.9901, Class 1: 0.6269, Class 2: 0.2097, Class 3: 0.3757, Class 4: 0.6862, Class 5: 0.4354, Class 6: 0.8660, \n",
      "Validation F-beta Score\n",
      "Class 0: 0.9885, Class 1: 0.7399, Class 2: 0.3263, Class 3: 0.5719, Class 4: 0.6538, Class 5: 0.5017, Class 6: 0.9177, \n",
      "\n",
      "Overall Mean Dice Score: 0.5980\n",
      "Overall Mean F-beta Score: 0.6770\n",
      "\n",
      "Training Loss: 0.4067, Validation Loss: 0.3882, Validation F-beta: 0.6770\n",
      "Epoch 93/4000\n"
     ]
    },
    {
     "name": "stderr",
     "output_type": "stream",
     "text": [
      "Training: 100%|██████████| 144/144 [01:51<00:00,  1.29it/s, loss=0.399]\n",
      "Validation: 100%|██████████| 5/5 [00:09<00:00,  1.87s/it, loss=0.387]\n"
     ]
    },
    {
     "name": "stdout",
     "output_type": "stream",
     "text": [
      "Validation Dice Score\n",
      "Class 0: 0.9902, Class 1: 0.6231, Class 2: 0.1674, Class 3: 0.3418, Class 4: 0.6725, Class 5: 0.4212, Class 6: 0.8885, \n",
      "Validation F-beta Score\n",
      "Class 0: 0.9880, Class 1: 0.7358, Class 2: 0.2949, Class 3: 0.4687, Class 4: 0.7024, Class 5: 0.4528, Class 6: 0.9421, \n",
      "\n",
      "Overall Mean Dice Score: 0.5894\n",
      "Overall Mean F-beta Score: 0.6604\n",
      "\n",
      "Training Loss: 0.4070, Validation Loss: 0.3853, Validation F-beta: 0.6604\n",
      "Epoch 94/4000\n"
     ]
    },
    {
     "name": "stderr",
     "output_type": "stream",
     "text": [
      "Training: 100%|██████████| 144/144 [01:52<00:00,  1.28it/s, loss=0.403]\n",
      "Validation: 100%|██████████| 5/5 [00:09<00:00,  1.91s/it, loss=0.352]\n"
     ]
    },
    {
     "name": "stdout",
     "output_type": "stream",
     "text": [
      "Validation Dice Score\n",
      "Class 0: 0.9897, Class 1: 0.5776, Class 2: 0.2549, Class 3: 0.3973, Class 4: 0.6871, Class 5: 0.4487, Class 6: 0.9010, \n",
      "Validation F-beta Score\n",
      "Class 0: 0.9862, Class 1: 0.6461, Class 2: 0.3137, Class 3: 0.4356, Class 4: 0.7370, Class 5: 0.6116, Class 6: 0.9556, \n",
      "\n",
      "Overall Mean Dice Score: 0.6023\n",
      "Overall Mean F-beta Score: 0.6772\n",
      "\n",
      "Training Loss: 0.4073, Validation Loss: 0.3742, Validation F-beta: 0.6772\n",
      "Epoch 95/4000\n"
     ]
    },
    {
     "name": "stderr",
     "output_type": "stream",
     "text": [
      "Training: 100%|██████████| 144/144 [01:51<00:00,  1.29it/s, loss=0.423]\n",
      "Validation: 100%|██████████| 5/5 [00:09<00:00,  1.85s/it, loss=0.376]\n"
     ]
    },
    {
     "name": "stdout",
     "output_type": "stream",
     "text": [
      "Validation Dice Score\n",
      "Class 0: 0.9884, Class 1: 0.5871, Class 2: 0.2291, Class 3: 0.3112, Class 4: 0.6798, Class 5: 0.4507, Class 6: 0.8880, \n",
      "Validation F-beta Score\n",
      "Class 0: 0.9838, Class 1: 0.6622, Class 2: 0.2676, Class 3: 0.3367, Class 4: 0.7821, Class 5: 0.6127, Class 6: 0.9559, \n",
      "\n",
      "Overall Mean Dice Score: 0.5834\n",
      "Overall Mean F-beta Score: 0.6699\n",
      "\n",
      "Training Loss: 0.4063, Validation Loss: 0.3962, Validation F-beta: 0.6699\n",
      "Epoch 96/4000\n"
     ]
    },
    {
     "name": "stderr",
     "output_type": "stream",
     "text": [
      "Training: 100%|██████████| 144/144 [01:50<00:00,  1.31it/s, loss=0.41] \n",
      "Validation: 100%|██████████| 5/5 [00:09<00:00,  1.85s/it, loss=0.352]\n"
     ]
    },
    {
     "name": "stdout",
     "output_type": "stream",
     "text": [
      "Validation Dice Score\n",
      "Class 0: 0.9902, Class 1: 0.5698, Class 2: 0.2808, Class 3: 0.3529, Class 4: 0.6993, Class 5: 0.4394, Class 6: 0.8897, \n",
      "Validation F-beta Score\n",
      "Class 0: 0.9898, Class 1: 0.7349, Class 2: 0.3662, Class 3: 0.5315, Class 4: 0.6790, Class 5: 0.4250, Class 6: 0.9436, \n",
      "\n",
      "Overall Mean Dice Score: 0.5902\n",
      "Overall Mean F-beta Score: 0.6628\n",
      "\n",
      "Training Loss: 0.4045, Validation Loss: 0.3822, Validation F-beta: 0.6628\n",
      "Epoch 97/4000\n"
     ]
    },
    {
     "name": "stderr",
     "output_type": "stream",
     "text": [
      "Training: 100%|██████████| 144/144 [01:51<00:00,  1.29it/s, loss=0.42] \n",
      "Validation: 100%|██████████| 5/5 [00:09<00:00,  1.89s/it, loss=0.415]\n"
     ]
    },
    {
     "name": "stdout",
     "output_type": "stream",
     "text": [
      "Validation Dice Score\n",
      "Class 0: 0.9891, Class 1: 0.5137, Class 2: 0.2426, Class 3: 0.3480, Class 4: 0.6388, Class 5: 0.4750, Class 6: 0.8948, \n",
      "Validation F-beta Score\n",
      "Class 0: 0.9866, Class 1: 0.5266, Class 2: 0.2989, Class 3: 0.4093, Class 4: 0.6764, Class 5: 0.5742, Class 6: 0.9500, \n",
      "\n",
      "Overall Mean Dice Score: 0.5741\n",
      "Overall Mean F-beta Score: 0.6273\n",
      "\n",
      "Training Loss: 0.4050, Validation Loss: 0.3871, Validation F-beta: 0.6273\n",
      "Epoch 98/4000\n"
     ]
    },
    {
     "name": "stderr",
     "output_type": "stream",
     "text": [
      "Training: 100%|██████████| 144/144 [01:50<00:00,  1.30it/s, loss=0.429]\n",
      "Validation: 100%|██████████| 5/5 [00:09<00:00,  1.86s/it, loss=0.385]\n"
     ]
    },
    {
     "name": "stdout",
     "output_type": "stream",
     "text": [
      "Validation Dice Score\n",
      "Class 0: 0.9895, Class 1: 0.6813, Class 2: 0.2190, Class 3: 0.3465, Class 4: 0.6845, Class 5: 0.4528, Class 6: 0.8972, \n",
      "Validation F-beta Score\n",
      "Class 0: 0.9868, Class 1: 0.7676, Class 2: 0.3287, Class 3: 0.4670, Class 4: 0.6912, Class 5: 0.5639, Class 6: 0.9526, \n",
      "\n",
      "Overall Mean Dice Score: 0.6124\n",
      "Overall Mean F-beta Score: 0.6885\n",
      "\n",
      "Training Loss: 0.4012, Validation Loss: 0.3896, Validation F-beta: 0.6885\n",
      "Epoch 99/4000\n"
     ]
    },
    {
     "name": "stderr",
     "output_type": "stream",
     "text": [
      "Training: 100%|██████████| 144/144 [01:50<00:00,  1.30it/s, loss=0.41] \n",
      "Validation: 100%|██████████| 5/5 [00:09<00:00,  1.89s/it, loss=0.374]\n"
     ]
    },
    {
     "name": "stdout",
     "output_type": "stream",
     "text": [
      "Validation Dice Score\n",
      "Class 0: 0.9897, Class 1: 0.5973, Class 2: 0.1805, Class 3: 0.3797, Class 4: 0.6635, Class 5: 0.4813, Class 6: 0.9051, \n",
      "Validation F-beta Score\n",
      "Class 0: 0.9876, Class 1: 0.6398, Class 2: 0.2294, Class 3: 0.3933, Class 4: 0.6432, Class 5: 0.6187, Class 6: 0.9532, \n",
      "\n",
      "Overall Mean Dice Score: 0.6054\n",
      "Overall Mean F-beta Score: 0.6496\n",
      "\n",
      "Training Loss: 0.4020, Validation Loss: 0.3899, Validation F-beta: 0.6496\n",
      "Epoch 100/4000\n"
     ]
    },
    {
     "name": "stderr",
     "output_type": "stream",
     "text": [
      "Training: 100%|██████████| 144/144 [01:51<00:00,  1.29it/s, loss=0.419]\n",
      "Validation: 100%|██████████| 5/5 [00:09<00:00,  1.87s/it, loss=0.367]\n"
     ]
    },
    {
     "name": "stdout",
     "output_type": "stream",
     "text": [
      "Validation Dice Score\n",
      "Class 0: 0.9899, Class 1: 0.6381, Class 2: 0.2355, Class 3: 0.3685, Class 4: 0.6805, Class 5: 0.4633, Class 6: 0.9034, \n",
      "Validation F-beta Score\n",
      "Class 0: 0.9875, Class 1: 0.7142, Class 2: 0.2952, Class 3: 0.4928, Class 4: 0.6826, Class 5: 0.5625, Class 6: 0.9540, \n",
      "\n",
      "Overall Mean Dice Score: 0.6108\n",
      "Overall Mean F-beta Score: 0.6812\n",
      "\n",
      "Training Loss: 0.4004, Validation Loss: 0.3691, Validation F-beta: 0.6812\n",
      "Epoch 101/4000\n"
     ]
    },
    {
     "name": "stderr",
     "output_type": "stream",
     "text": [
      "Training: 100%|██████████| 144/144 [01:52<00:00,  1.28it/s, loss=0.412]\n",
      "Validation: 100%|██████████| 5/5 [00:09<00:00,  1.91s/it, loss=0.38] \n"
     ]
    },
    {
     "name": "stdout",
     "output_type": "stream",
     "text": [
      "Validation Dice Score\n",
      "Class 0: 0.9892, Class 1: 0.6197, Class 2: 0.2939, Class 3: 0.3599, Class 4: 0.6885, Class 5: 0.4559, Class 6: 0.9020, \n",
      "Validation F-beta Score\n",
      "Class 0: 0.9867, Class 1: 0.7399, Class 2: 0.3387, Class 3: 0.5054, Class 4: 0.6668, Class 5: 0.5843, Class 6: 0.9560, \n",
      "\n",
      "Overall Mean Dice Score: 0.6052\n",
      "Overall Mean F-beta Score: 0.6905\n",
      "\n",
      "Training Loss: 0.4046, Validation Loss: 0.3854, Validation F-beta: 0.6905\n",
      "Epoch 102/4000\n"
     ]
    },
    {
     "name": "stderr",
     "output_type": "stream",
     "text": [
      "Training: 100%|██████████| 144/144 [01:51<00:00,  1.30it/s, loss=0.42] \n",
      "Validation: 100%|██████████| 5/5 [00:09<00:00,  1.89s/it, loss=0.369]\n"
     ]
    },
    {
     "name": "stdout",
     "output_type": "stream",
     "text": [
      "Validation Dice Score\n",
      "Class 0: 0.9894, Class 1: 0.6309, Class 2: 0.1904, Class 3: 0.3128, Class 4: 0.7210, Class 5: 0.4558, Class 6: 0.8951, \n",
      "Validation F-beta Score\n",
      "Class 0: 0.9872, Class 1: 0.7405, Class 2: 0.2266, Class 3: 0.4059, Class 4: 0.7046, Class 5: 0.5559, Class 6: 0.9429, \n",
      "\n",
      "Overall Mean Dice Score: 0.6031\n",
      "Overall Mean F-beta Score: 0.6699\n",
      "\n",
      "Training Loss: 0.4018, Validation Loss: 0.3889, Validation F-beta: 0.6699\n",
      "Epoch 103/4000\n"
     ]
    },
    {
     "name": "stderr",
     "output_type": "stream",
     "text": [
      "Training: 100%|██████████| 144/144 [01:51<00:00,  1.29it/s, loss=0.423]\n",
      "Validation: 100%|██████████| 5/5 [00:09<00:00,  1.89s/it, loss=0.388]\n"
     ]
    },
    {
     "name": "stdout",
     "output_type": "stream",
     "text": [
      "Validation Dice Score\n",
      "Class 0: 0.9896, Class 1: 0.5993, Class 2: 0.2807, Class 3: 0.3590, Class 4: 0.7052, Class 5: 0.4246, Class 6: 0.8984, \n",
      "Validation F-beta Score\n",
      "Class 0: 0.9871, Class 1: 0.7263, Class 2: 0.3764, Class 3: 0.5412, Class 4: 0.6963, Class 5: 0.5258, Class 6: 0.9519, \n",
      "\n",
      "Overall Mean Dice Score: 0.5973\n",
      "Overall Mean F-beta Score: 0.6883\n",
      "\n",
      "Training Loss: 0.4029, Validation Loss: 0.3979, Validation F-beta: 0.6883\n",
      "Epoch 104/4000\n"
     ]
    },
    {
     "name": "stderr",
     "output_type": "stream",
     "text": [
      "Training: 100%|██████████| 144/144 [01:51<00:00,  1.29it/s, loss=0.418]\n",
      "Validation: 100%|██████████| 5/5 [00:09<00:00,  1.88s/it, loss=0.395]\n"
     ]
    },
    {
     "name": "stdout",
     "output_type": "stream",
     "text": [
      "Validation Dice Score\n",
      "Class 0: 0.9895, Class 1: 0.6562, Class 2: 0.2197, Class 3: 0.3799, Class 4: 0.6943, Class 5: 0.4713, Class 6: 0.8891, \n",
      "Validation F-beta Score\n",
      "Class 0: 0.9867, Class 1: 0.7261, Class 2: 0.2721, Class 3: 0.4188, Class 4: 0.7559, Class 5: 0.5693, Class 6: 0.9486, \n",
      "\n",
      "Overall Mean Dice Score: 0.6181\n",
      "Overall Mean F-beta Score: 0.6837\n",
      "\n",
      "Training Loss: 0.4027, Validation Loss: 0.3779, Validation F-beta: 0.6837\n",
      "Epoch 105/4000\n"
     ]
    },
    {
     "name": "stderr",
     "output_type": "stream",
     "text": [
      "Training: 100%|██████████| 144/144 [01:50<00:00,  1.30it/s, loss=0.39] \n",
      "Validation: 100%|██████████| 5/5 [00:09<00:00,  1.87s/it, loss=0.379]\n"
     ]
    },
    {
     "name": "stdout",
     "output_type": "stream",
     "text": [
      "Validation Dice Score\n",
      "Class 0: 0.9889, Class 1: 0.6158, Class 2: 0.2212, Class 3: 0.3464, Class 4: 0.6943, Class 5: 0.3695, Class 6: 0.9038, \n",
      "Validation F-beta Score\n",
      "Class 0: 0.9857, Class 1: 0.6648, Class 2: 0.2773, Class 3: 0.4729, Class 4: 0.6971, Class 5: 0.5257, Class 6: 0.9561, \n",
      "\n",
      "Overall Mean Dice Score: 0.5860\n",
      "Overall Mean F-beta Score: 0.6633\n",
      "\n",
      "Training Loss: 0.4027, Validation Loss: 0.3945, Validation F-beta: 0.6633\n",
      "Epoch 106/4000\n"
     ]
    },
    {
     "name": "stderr",
     "output_type": "stream",
     "text": [
      "Training: 100%|██████████| 144/144 [01:50<00:00,  1.30it/s, loss=0.422]\n",
      "Validation: 100%|██████████| 5/5 [00:09<00:00,  1.84s/it, loss=0.371]\n"
     ]
    },
    {
     "name": "stdout",
     "output_type": "stream",
     "text": [
      "Validation Dice Score\n",
      "Class 0: 0.9902, Class 1: 0.6221, Class 2: 0.2226, Class 3: 0.3694, Class 4: 0.6566, Class 5: 0.4747, Class 6: 0.9100, \n",
      "Validation F-beta Score\n",
      "Class 0: 0.9881, Class 1: 0.6320, Class 2: 0.2544, Class 3: 0.4388, Class 4: 0.6647, Class 5: 0.5770, Class 6: 0.9422, \n",
      "\n",
      "Overall Mean Dice Score: 0.6066\n",
      "Overall Mean F-beta Score: 0.6509\n",
      "\n",
      "Training Loss: 0.4040, Validation Loss: 0.3870, Validation F-beta: 0.6509\n",
      "Epoch 107/4000\n"
     ]
    },
    {
     "name": "stderr",
     "output_type": "stream",
     "text": [
      "Training: 100%|██████████| 144/144 [01:51<00:00,  1.29it/s, loss=0.391]\n",
      "Validation: 100%|██████████| 5/5 [00:09<00:00,  1.87s/it, loss=0.385]\n"
     ]
    },
    {
     "name": "stdout",
     "output_type": "stream",
     "text": [
      "Validation Dice Score\n",
      "Class 0: 0.9897, Class 1: 0.6426, Class 2: 0.2933, Class 3: 0.3198, Class 4: 0.6630, Class 5: 0.4134, Class 6: 0.8971, \n",
      "Validation F-beta Score\n",
      "Class 0: 0.9875, Class 1: 0.7265, Class 2: 0.3505, Class 3: 0.4117, Class 4: 0.6777, Class 5: 0.5256, Class 6: 0.9513, \n",
      "\n",
      "Overall Mean Dice Score: 0.5872\n",
      "Overall Mean F-beta Score: 0.6586\n",
      "\n",
      "Training Loss: 0.4010, Validation Loss: 0.3862, Validation F-beta: 0.6586\n",
      "Epoch 108/4000\n"
     ]
    },
    {
     "name": "stderr",
     "output_type": "stream",
     "text": [
      "Training: 100%|██████████| 144/144 [01:51<00:00,  1.29it/s, loss=0.423]\n",
      "Validation: 100%|██████████| 5/5 [00:09<00:00,  1.89s/it, loss=0.377]\n"
     ]
    },
    {
     "name": "stdout",
     "output_type": "stream",
     "text": [
      "Validation Dice Score\n",
      "Class 0: 0.9901, Class 1: 0.6382, Class 2: 0.2279, Class 3: 0.3036, Class 4: 0.6317, Class 5: 0.4455, Class 6: 0.9208, \n",
      "Validation F-beta Score\n",
      "Class 0: 0.9880, Class 1: 0.6621, Class 2: 0.3094, Class 3: 0.4189, Class 4: 0.6232, Class 5: 0.5282, Class 6: 0.9487, \n",
      "\n",
      "Overall Mean Dice Score: 0.5880\n",
      "Overall Mean F-beta Score: 0.6362\n",
      "\n",
      "Training Loss: 0.4021, Validation Loss: 0.3847, Validation F-beta: 0.6362\n",
      "Epoch 109/4000\n"
     ]
    },
    {
     "name": "stderr",
     "output_type": "stream",
     "text": [
      "Training: 100%|██████████| 144/144 [01:50<00:00,  1.30it/s, loss=0.39] \n",
      "Validation: 100%|██████████| 5/5 [00:09<00:00,  1.86s/it, loss=0.392]\n"
     ]
    },
    {
     "name": "stdout",
     "output_type": "stream",
     "text": [
      "Validation Dice Score\n",
      "Class 0: 0.9905, Class 1: 0.6175, Class 2: 0.2404, Class 3: 0.3937, Class 4: 0.7330, Class 5: 0.4486, Class 6: 0.8765, \n",
      "Validation F-beta Score\n",
      "Class 0: 0.9888, Class 1: 0.7476, Class 2: 0.3315, Class 3: 0.4741, Class 4: 0.7393, Class 5: 0.5108, Class 6: 0.9512, \n",
      "\n",
      "Overall Mean Dice Score: 0.6139\n",
      "Overall Mean F-beta Score: 0.6846\n",
      "\n",
      "Training Loss: 0.4031, Validation Loss: 0.3789, Validation F-beta: 0.6846\n",
      "Epoch 110/4000\n"
     ]
    },
    {
     "name": "stderr",
     "output_type": "stream",
     "text": [
      "Training: 100%|██████████| 144/144 [01:52<00:00,  1.28it/s, loss=0.398]\n",
      "Validation: 100%|██████████| 5/5 [00:09<00:00,  1.85s/it, loss=0.346]\n"
     ]
    },
    {
     "name": "stdout",
     "output_type": "stream",
     "text": [
      "Validation Dice Score\n",
      "Class 0: 0.9890, Class 1: 0.6454, Class 2: 0.2125, Class 3: 0.3882, Class 4: 0.6768, Class 5: 0.4755, Class 6: 0.9005, \n",
      "Validation F-beta Score\n",
      "Class 0: 0.9882, Class 1: 0.7229, Class 2: 0.3186, Class 3: 0.4397, Class 4: 0.6491, Class 5: 0.5158, Class 6: 0.9564, \n",
      "\n",
      "Overall Mean Dice Score: 0.6172\n",
      "Overall Mean F-beta Score: 0.6568\n",
      "\n",
      "Training Loss: 0.3996, Validation Loss: 0.3754, Validation F-beta: 0.6568\n",
      "Epoch 111/4000\n"
     ]
    },
    {
     "name": "stderr",
     "output_type": "stream",
     "text": [
      "Training: 100%|██████████| 144/144 [01:52<00:00,  1.28it/s, loss=0.419]\n",
      "Validation: 100%|██████████| 5/5 [00:09<00:00,  1.85s/it, loss=0.378]\n"
     ]
    },
    {
     "name": "stdout",
     "output_type": "stream",
     "text": [
      "Validation Dice Score\n",
      "Class 0: 0.9895, Class 1: 0.6135, Class 2: 0.1594, Class 3: 0.3493, Class 4: 0.6845, Class 5: 0.4350, Class 6: 0.8933, \n",
      "Validation F-beta Score\n",
      "Class 0: 0.9886, Class 1: 0.7249, Class 2: 0.2110, Class 3: 0.4365, Class 4: 0.6496, Class 5: 0.4962, Class 6: 0.9543, \n",
      "\n",
      "Overall Mean Dice Score: 0.5951\n",
      "Overall Mean F-beta Score: 0.6523\n",
      "\n",
      "Training Loss: 0.3997, Validation Loss: 0.3829, Validation F-beta: 0.6523\n",
      "Epoch 112/4000\n"
     ]
    },
    {
     "name": "stderr",
     "output_type": "stream",
     "text": [
      "Training: 100%|██████████| 144/144 [01:52<00:00,  1.28it/s, loss=0.41] \n",
      "Validation: 100%|██████████| 5/5 [00:09<00:00,  1.85s/it, loss=0.386]\n"
     ]
    },
    {
     "name": "stdout",
     "output_type": "stream",
     "text": [
      "Validation Dice Score\n",
      "Class 0: 0.9901, Class 1: 0.6374, Class 2: 0.2193, Class 3: 0.4178, Class 4: 0.6502, Class 5: 0.4964, Class 6: 0.8944, \n",
      "Validation F-beta Score\n",
      "Class 0: 0.9877, Class 1: 0.7428, Class 2: 0.2724, Class 3: 0.4778, Class 4: 0.6657, Class 5: 0.6121, Class 6: 0.9425, \n",
      "\n",
      "Overall Mean Dice Score: 0.6193\n",
      "Overall Mean F-beta Score: 0.6882\n",
      "\n",
      "Training Loss: 0.4000, Validation Loss: 0.3705, Validation F-beta: 0.6882\n",
      "Epoch 113/4000\n"
     ]
    },
    {
     "name": "stderr",
     "output_type": "stream",
     "text": [
      "Training: 100%|██████████| 144/144 [01:52<00:00,  1.28it/s, loss=0.424]\n",
      "Validation: 100%|██████████| 5/5 [00:09<00:00,  1.85s/it, loss=0.402]\n"
     ]
    },
    {
     "name": "stdout",
     "output_type": "stream",
     "text": [
      "Validation Dice Score\n",
      "Class 0: 0.9897, Class 1: 0.6673, Class 2: 0.2719, Class 3: 0.2907, Class 4: 0.7032, Class 5: 0.4515, Class 6: 0.9049, \n",
      "Validation F-beta Score\n",
      "Class 0: 0.9874, Class 1: 0.7922, Class 2: 0.3283, Class 3: 0.3626, Class 4: 0.7161, Class 5: 0.5368, Class 6: 0.9659, \n",
      "\n",
      "Overall Mean Dice Score: 0.6035\n",
      "Overall Mean F-beta Score: 0.6747\n",
      "\n",
      "Training Loss: 0.4026, Validation Loss: 0.3808, Validation F-beta: 0.6747\n",
      "Epoch 114/4000\n"
     ]
    },
    {
     "name": "stderr",
     "output_type": "stream",
     "text": [
      "Training: 100%|██████████| 144/144 [01:52<00:00,  1.28it/s, loss=0.398]\n",
      "Validation: 100%|██████████| 5/5 [00:09<00:00,  1.86s/it, loss=0.371]\n"
     ]
    },
    {
     "name": "stdout",
     "output_type": "stream",
     "text": [
      "Validation Dice Score\n",
      "Class 0: 0.9896, Class 1: 0.6074, Class 2: 0.2356, Class 3: 0.4160, Class 4: 0.6502, Class 5: 0.4551, Class 6: 0.8668, \n",
      "Validation F-beta Score\n",
      "Class 0: 0.9877, Class 1: 0.7315, Class 2: 0.2896, Class 3: 0.5010, Class 4: 0.6340, Class 5: 0.5580, Class 6: 0.9331, \n",
      "\n",
      "Overall Mean Dice Score: 0.5991\n",
      "Overall Mean F-beta Score: 0.6715\n",
      "\n",
      "Training Loss: 0.3993, Validation Loss: 0.3753, Validation F-beta: 0.6715\n",
      "Epoch 115/4000\n"
     ]
    },
    {
     "name": "stderr",
     "output_type": "stream",
     "text": [
      "Training: 100%|██████████| 144/144 [01:51<00:00,  1.29it/s, loss=0.426]\n",
      "Validation: 100%|██████████| 5/5 [00:09<00:00,  1.88s/it, loss=0.394]\n"
     ]
    },
    {
     "name": "stdout",
     "output_type": "stream",
     "text": [
      "Validation Dice Score\n",
      "Class 0: 0.9893, Class 1: 0.5921, Class 2: 0.2209, Class 3: 0.3128, Class 4: 0.6827, Class 5: 0.4685, Class 6: 0.8991, \n",
      "Validation F-beta Score\n",
      "Class 0: 0.9862, Class 1: 0.7160, Class 2: 0.3018, Class 3: 0.4392, Class 4: 0.7085, Class 5: 0.5857, Class 6: 0.9596, \n",
      "\n",
      "Overall Mean Dice Score: 0.5910\n",
      "Overall Mean F-beta Score: 0.6818\n",
      "\n",
      "Training Loss: 0.4004, Validation Loss: 0.3902, Validation F-beta: 0.6818\n",
      "Epoch 116/4000\n"
     ]
    },
    {
     "name": "stderr",
     "output_type": "stream",
     "text": [
      "Training: 100%|██████████| 144/144 [01:51<00:00,  1.29it/s, loss=0.417]\n",
      "Validation: 100%|██████████| 5/5 [00:09<00:00,  1.87s/it, loss=0.399]\n"
     ]
    },
    {
     "name": "stdout",
     "output_type": "stream",
     "text": [
      "Validation Dice Score\n",
      "Class 0: 0.9894, Class 1: 0.5977, Class 2: 0.1336, Class 3: 0.3344, Class 4: 0.6954, Class 5: 0.4303, Class 6: 0.8924, \n",
      "Validation F-beta Score\n",
      "Class 0: 0.9877, Class 1: 0.7255, Class 2: 0.1669, Class 3: 0.4071, Class 4: 0.6903, Class 5: 0.4951, Class 6: 0.9460, \n",
      "\n",
      "Overall Mean Dice Score: 0.5901\n",
      "Overall Mean F-beta Score: 0.6528\n",
      "\n",
      "Training Loss: 0.4010, Validation Loss: 0.3812, Validation F-beta: 0.6528\n",
      "Epoch 117/4000\n"
     ]
    },
    {
     "name": "stderr",
     "output_type": "stream",
     "text": [
      "Training: 100%|██████████| 144/144 [01:50<00:00,  1.30it/s, loss=0.396]\n",
      "Validation: 100%|██████████| 5/5 [00:09<00:00,  1.90s/it, loss=0.375]\n"
     ]
    },
    {
     "name": "stdout",
     "output_type": "stream",
     "text": [
      "Validation Dice Score\n",
      "Class 0: 0.9900, Class 1: 0.6445, Class 2: 0.1990, Class 3: 0.3225, Class 4: 0.6784, Class 5: 0.4431, Class 6: 0.9002, \n",
      "Validation F-beta Score\n",
      "Class 0: 0.9885, Class 1: 0.7021, Class 2: 0.2892, Class 3: 0.4185, Class 4: 0.6590, Class 5: 0.5026, Class 6: 0.9546, \n",
      "\n",
      "Overall Mean Dice Score: 0.5977\n",
      "Overall Mean F-beta Score: 0.6474\n",
      "\n",
      "Training Loss: 0.4006, Validation Loss: 0.3830, Validation F-beta: 0.6474\n",
      "Epoch 118/4000\n"
     ]
    },
    {
     "name": "stderr",
     "output_type": "stream",
     "text": [
      "Training: 100%|██████████| 144/144 [01:51<00:00,  1.30it/s, loss=0.425]\n",
      "Validation: 100%|██████████| 5/5 [00:09<00:00,  1.83s/it, loss=0.4]  \n"
     ]
    },
    {
     "name": "stdout",
     "output_type": "stream",
     "text": [
      "Validation Dice Score\n",
      "Class 0: 0.9898, Class 1: 0.6633, Class 2: 0.1941, Class 3: 0.2783, Class 4: 0.6697, Class 5: 0.4646, Class 6: 0.9067, \n",
      "Validation F-beta Score\n",
      "Class 0: 0.9873, Class 1: 0.7596, Class 2: 0.2639, Class 3: 0.3420, Class 4: 0.6665, Class 5: 0.5755, Class 6: 0.9564, \n",
      "\n",
      "Overall Mean Dice Score: 0.5965\n",
      "Overall Mean F-beta Score: 0.6600\n",
      "\n",
      "Training Loss: 0.4034, Validation Loss: 0.3898, Validation F-beta: 0.6600\n",
      "Epoch 119/4000\n"
     ]
    },
    {
     "name": "stderr",
     "output_type": "stream",
     "text": [
      "Training: 100%|██████████| 144/144 [01:49<00:00,  1.31it/s, loss=0.413]\n",
      "Validation: 100%|██████████| 5/5 [00:09<00:00,  1.84s/it, loss=0.389]\n"
     ]
    },
    {
     "name": "stdout",
     "output_type": "stream",
     "text": [
      "Validation Dice Score\n",
      "Class 0: 0.9897, Class 1: 0.6303, Class 2: 0.3387, Class 3: 0.4094, Class 4: 0.6878, Class 5: 0.5007, Class 6: 0.9048, \n",
      "Validation F-beta Score\n",
      "Class 0: 0.9876, Class 1: 0.7820, Class 2: 0.3996, Class 3: 0.5079, Class 4: 0.7051, Class 5: 0.5769, Class 6: 0.9600, \n",
      "\n",
      "Overall Mean Dice Score: 0.6266\n",
      "Overall Mean F-beta Score: 0.7064\n",
      "\n",
      "Training Loss: 0.4002, Validation Loss: 0.3696, Validation F-beta: 0.7064\n",
      "========================================================\n",
      "SUPER Best model saved. Loss:0.3696, Score:0.7064\n",
      "========================================================\n",
      "Epoch 120/4000\n"
     ]
    },
    {
     "name": "stderr",
     "output_type": "stream",
     "text": [
      "Training: 100%|██████████| 144/144 [01:51<00:00,  1.30it/s, loss=0.4]  \n",
      "Validation: 100%|██████████| 5/5 [00:09<00:00,  1.89s/it, loss=0.411]\n"
     ]
    },
    {
     "name": "stdout",
     "output_type": "stream",
     "text": [
      "Validation Dice Score\n",
      "Class 0: 0.9891, Class 1: 0.6506, Class 2: 0.2640, Class 3: 0.4097, Class 4: 0.6594, Class 5: 0.4411, Class 6: 0.8775, \n",
      "Validation F-beta Score\n",
      "Class 0: 0.9876, Class 1: 0.7701, Class 2: 0.3046, Class 3: 0.4887, Class 4: 0.6271, Class 5: 0.5364, Class 6: 0.9443, \n",
      "\n",
      "Overall Mean Dice Score: 0.6077\n",
      "Overall Mean F-beta Score: 0.6733\n",
      "\n",
      "Training Loss: 0.3997, Validation Loss: 0.3779, Validation F-beta: 0.6733\n",
      "Epoch 121/4000\n"
     ]
    },
    {
     "name": "stderr",
     "output_type": "stream",
     "text": [
      "Training: 100%|██████████| 144/144 [01:51<00:00,  1.29it/s, loss=0.418]\n",
      "Validation: 100%|██████████| 5/5 [00:09<00:00,  1.90s/it, loss=0.386]\n"
     ]
    },
    {
     "name": "stdout",
     "output_type": "stream",
     "text": [
      "Validation Dice Score\n",
      "Class 0: 0.9904, Class 1: 0.6640, Class 2: 0.2927, Class 3: 0.3708, Class 4: 0.7095, Class 5: 0.4453, Class 6: 0.9081, \n",
      "Validation F-beta Score\n",
      "Class 0: 0.9885, Class 1: 0.7557, Class 2: 0.3548, Class 3: 0.4679, Class 4: 0.7174, Class 5: 0.5280, Class 6: 0.9493, \n",
      "\n",
      "Overall Mean Dice Score: 0.6195\n",
      "Overall Mean F-beta Score: 0.6837\n",
      "\n",
      "Training Loss: 0.3974, Validation Loss: 0.3678, Validation F-beta: 0.6837\n",
      "Epoch 122/4000\n"
     ]
    },
    {
     "name": "stderr",
     "output_type": "stream",
     "text": [
      "Training: 100%|██████████| 144/144 [01:54<00:00,  1.26it/s, loss=0.398]\n",
      "Validation: 100%|██████████| 5/5 [00:09<00:00,  1.97s/it, loss=0.371]\n"
     ]
    },
    {
     "name": "stdout",
     "output_type": "stream",
     "text": [
      "Validation Dice Score\n",
      "Class 0: 0.9895, Class 1: 0.6433, Class 2: 0.2216, Class 3: 0.4026, Class 4: 0.6972, Class 5: 0.4784, Class 6: 0.8828, \n",
      "Validation F-beta Score\n",
      "Class 0: 0.9874, Class 1: 0.7516, Class 2: 0.2921, Class 3: 0.5303, Class 4: 0.6965, Class 5: 0.5691, Class 6: 0.9368, \n",
      "\n",
      "Overall Mean Dice Score: 0.6209\n",
      "Overall Mean F-beta Score: 0.6968\n",
      "\n",
      "Training Loss: 0.4014, Validation Loss: 0.3704, Validation F-beta: 0.6968\n",
      "Epoch 123/4000\n"
     ]
    },
    {
     "name": "stderr",
     "output_type": "stream",
     "text": [
      "Training: 100%|██████████| 144/144 [01:52<00:00,  1.28it/s, loss=0.405]\n",
      "Validation: 100%|██████████| 5/5 [00:09<00:00,  1.87s/it, loss=0.375]\n"
     ]
    },
    {
     "name": "stdout",
     "output_type": "stream",
     "text": [
      "Validation Dice Score\n",
      "Class 0: 0.9901, Class 1: 0.6395, Class 2: 0.2614, Class 3: 0.3625, Class 4: 0.6956, Class 5: 0.4350, Class 6: 0.8921, \n",
      "Validation F-beta Score\n",
      "Class 0: 0.9878, Class 1: 0.7269, Class 2: 0.3497, Class 3: 0.4906, Class 4: 0.6749, Class 5: 0.5510, Class 6: 0.9505, \n",
      "\n",
      "Overall Mean Dice Score: 0.6049\n",
      "Overall Mean F-beta Score: 0.6788\n",
      "\n",
      "Training Loss: 0.4018, Validation Loss: 0.3823, Validation F-beta: 0.6788\n",
      "Epoch 124/4000\n"
     ]
    },
    {
     "name": "stderr",
     "output_type": "stream",
     "text": [
      "Training: 100%|██████████| 144/144 [01:51<00:00,  1.29it/s, loss=0.398]\n",
      "Validation: 100%|██████████| 5/5 [00:09<00:00,  1.84s/it, loss=0.384]\n"
     ]
    },
    {
     "name": "stdout",
     "output_type": "stream",
     "text": [
      "Validation Dice Score\n",
      "Class 0: 0.9892, Class 1: 0.6242, Class 2: 0.1874, Class 3: 0.3190, Class 4: 0.6510, Class 5: 0.4314, Class 6: 0.8877, \n",
      "Validation F-beta Score\n",
      "Class 0: 0.9872, Class 1: 0.7466, Class 2: 0.2565, Class 3: 0.4607, Class 4: 0.6464, Class 5: 0.5286, Class 6: 0.9526, \n",
      "\n",
      "Overall Mean Dice Score: 0.5826\n",
      "Overall Mean F-beta Score: 0.6670\n",
      "\n",
      "Training Loss: 0.3992, Validation Loss: 0.3906, Validation F-beta: 0.6670\n",
      "Epoch 125/4000\n"
     ]
    },
    {
     "name": "stderr",
     "output_type": "stream",
     "text": [
      "Training: 100%|██████████| 144/144 [01:54<00:00,  1.26it/s, loss=0.422]\n",
      "Validation: 100%|██████████| 5/5 [00:09<00:00,  1.97s/it, loss=0.382]\n"
     ]
    },
    {
     "name": "stdout",
     "output_type": "stream",
     "text": [
      "Validation Dice Score\n",
      "Class 0: 0.9907, Class 1: 0.6406, Class 2: 0.3429, Class 3: 0.4262, Class 4: 0.7398, Class 5: 0.4734, Class 6: 0.8879, \n",
      "Validation F-beta Score\n",
      "Class 0: 0.9879, Class 1: 0.7659, Class 2: 0.4399, Class 3: 0.5436, Class 4: 0.7677, Class 5: 0.6016, Class 6: 0.9422, \n",
      "\n",
      "Overall Mean Dice Score: 0.6336\n",
      "Overall Mean F-beta Score: 0.7242\n",
      "\n",
      "Training Loss: 0.3986, Validation Loss: 0.3728, Validation F-beta: 0.7242\n",
      "Epoch 126/4000\n"
     ]
    },
    {
     "name": "stderr",
     "output_type": "stream",
     "text": [
      "Training: 100%|██████████| 144/144 [01:53<00:00,  1.27it/s, loss=0.412]\n",
      "Validation: 100%|██████████| 5/5 [00:09<00:00,  1.96s/it, loss=0.373]\n"
     ]
    },
    {
     "name": "stdout",
     "output_type": "stream",
     "text": [
      "Validation Dice Score\n",
      "Class 0: 0.9895, Class 1: 0.6054, Class 2: 0.2068, Class 3: 0.3889, Class 4: 0.6778, Class 5: 0.4608, Class 6: 0.9098, \n",
      "Validation F-beta Score\n",
      "Class 0: 0.9879, Class 1: 0.7219, Class 2: 0.2529, Class 3: 0.4632, Class 4: 0.6290, Class 5: 0.5739, Class 6: 0.9619, \n",
      "\n",
      "Overall Mean Dice Score: 0.6085\n",
      "Overall Mean F-beta Score: 0.6700\n",
      "\n",
      "Training Loss: 0.3968, Validation Loss: 0.3808, Validation F-beta: 0.6700\n",
      "Epoch 127/4000\n"
     ]
    },
    {
     "name": "stderr",
     "output_type": "stream",
     "text": [
      "Training: 100%|██████████| 144/144 [01:52<00:00,  1.28it/s, loss=0.379]\n",
      "Validation: 100%|██████████| 5/5 [00:09<00:00,  1.93s/it, loss=0.383]\n"
     ]
    },
    {
     "name": "stdout",
     "output_type": "stream",
     "text": [
      "Validation Dice Score\n",
      "Class 0: 0.9895, Class 1: 0.5737, Class 2: 0.1961, Class 3: 0.4331, Class 4: 0.7139, Class 5: 0.4521, Class 6: 0.8827, \n",
      "Validation F-beta Score\n",
      "Class 0: 0.9874, Class 1: 0.7788, Class 2: 0.2738, Class 3: 0.5197, Class 4: 0.7117, Class 5: 0.5516, Class 6: 0.9371, \n",
      "\n",
      "Overall Mean Dice Score: 0.6111\n",
      "Overall Mean F-beta Score: 0.6998\n",
      "\n",
      "Training Loss: 0.4003, Validation Loss: 0.3938, Validation F-beta: 0.6998\n",
      "Epoch 128/4000\n"
     ]
    },
    {
     "name": "stderr",
     "output_type": "stream",
     "text": [
      "Training: 100%|██████████| 144/144 [01:53<00:00,  1.27it/s, loss=0.413]\n",
      "Validation: 100%|██████████| 5/5 [00:10<00:00,  2.09s/it, loss=0.39] \n"
     ]
    },
    {
     "name": "stdout",
     "output_type": "stream",
     "text": [
      "Validation Dice Score\n",
      "Class 0: 0.9904, Class 1: 0.5952, Class 2: 0.2631, Class 3: 0.2957, Class 4: 0.6960, Class 5: 0.4465, Class 6: 0.9032, \n",
      "Validation F-beta Score\n",
      "Class 0: 0.9881, Class 1: 0.7426, Class 2: 0.3811, Class 3: 0.4279, Class 4: 0.7091, Class 5: 0.5175, Class 6: 0.9559, \n",
      "\n",
      "Overall Mean Dice Score: 0.5873\n",
      "Overall Mean F-beta Score: 0.6706\n",
      "\n",
      "Training Loss: 0.4008, Validation Loss: 0.3913, Validation F-beta: 0.6706\n",
      "Epoch 129/4000\n"
     ]
    },
    {
     "name": "stderr",
     "output_type": "stream",
     "text": [
      "Training: 100%|██████████| 144/144 [01:52<00:00,  1.28it/s, loss=0.395]\n",
      "Validation: 100%|██████████| 5/5 [00:09<00:00,  1.84s/it, loss=0.39] \n"
     ]
    },
    {
     "name": "stdout",
     "output_type": "stream",
     "text": [
      "Validation Dice Score\n",
      "Class 0: 0.9910, Class 1: 0.6232, Class 2: 0.2859, Class 3: 0.3921, Class 4: 0.7230, Class 5: 0.5181, Class 6: 0.8828, \n",
      "Validation F-beta Score\n",
      "Class 0: 0.9884, Class 1: 0.7283, Class 2: 0.3641, Class 3: 0.4897, Class 4: 0.7605, Class 5: 0.6124, Class 6: 0.9490, \n",
      "\n",
      "Overall Mean Dice Score: 0.6278\n",
      "Overall Mean F-beta Score: 0.7080\n",
      "\n",
      "Training Loss: 0.3974, Validation Loss: 0.3696, Validation F-beta: 0.7080\n",
      "Epoch 130/4000\n"
     ]
    },
    {
     "name": "stderr",
     "output_type": "stream",
     "text": [
      "Training: 100%|██████████| 144/144 [01:49<00:00,  1.32it/s, loss=0.386]\n",
      "Validation: 100%|██████████| 5/5 [00:09<00:00,  1.85s/it, loss=0.418]\n"
     ]
    },
    {
     "name": "stdout",
     "output_type": "stream",
     "text": [
      "Validation Dice Score\n",
      "Class 0: 0.9896, Class 1: 0.6217, Class 2: 0.2337, Class 3: 0.3939, Class 4: 0.6593, Class 5: 0.4355, Class 6: 0.9054, \n",
      "Validation F-beta Score\n",
      "Class 0: 0.9869, Class 1: 0.7414, Class 2: 0.3437, Class 3: 0.5340, Class 4: 0.6775, Class 5: 0.5353, Class 6: 0.9617, \n",
      "\n",
      "Overall Mean Dice Score: 0.6032\n",
      "Overall Mean F-beta Score: 0.6900\n",
      "\n",
      "Training Loss: 0.3974, Validation Loss: 0.3916, Validation F-beta: 0.6900\n",
      "Epoch 131/4000\n"
     ]
    },
    {
     "name": "stderr",
     "output_type": "stream",
     "text": [
      "Training: 100%|██████████| 144/144 [01:50<00:00,  1.30it/s, loss=0.41] \n",
      "Validation: 100%|██████████| 5/5 [00:09<00:00,  1.96s/it, loss=0.365]\n"
     ]
    },
    {
     "name": "stdout",
     "output_type": "stream",
     "text": [
      "Validation Dice Score\n",
      "Class 0: 0.9906, Class 1: 0.6360, Class 2: 0.2856, Class 3: 0.3375, Class 4: 0.6800, Class 5: 0.4892, Class 6: 0.8908, \n",
      "Validation F-beta Score\n",
      "Class 0: 0.9887, Class 1: 0.6880, Class 2: 0.3421, Class 3: 0.4512, Class 4: 0.6957, Class 5: 0.5583, Class 6: 0.9521, \n",
      "\n",
      "Overall Mean Dice Score: 0.6067\n",
      "Overall Mean F-beta Score: 0.6691\n",
      "\n",
      "Training Loss: 0.3983, Validation Loss: 0.3704, Validation F-beta: 0.6691\n",
      "Epoch 132/4000\n"
     ]
    },
    {
     "name": "stderr",
     "output_type": "stream",
     "text": [
      "Training: 100%|██████████| 144/144 [01:52<00:00,  1.28it/s, loss=0.406]\n",
      "Validation: 100%|██████████| 5/5 [00:09<00:00,  1.84s/it, loss=0.386]\n"
     ]
    },
    {
     "name": "stdout",
     "output_type": "stream",
     "text": [
      "Validation Dice Score\n",
      "Class 0: 0.9897, Class 1: 0.6159, Class 2: 0.1765, Class 3: 0.4028, Class 4: 0.7007, Class 5: 0.4805, Class 6: 0.8998, \n",
      "Validation F-beta Score\n",
      "Class 0: 0.9874, Class 1: 0.7045, Class 2: 0.2506, Class 3: 0.5752, Class 4: 0.7013, Class 5: 0.5709, Class 6: 0.9566, \n",
      "\n",
      "Overall Mean Dice Score: 0.6199\n",
      "Overall Mean F-beta Score: 0.7017\n",
      "\n",
      "Training Loss: 0.3981, Validation Loss: 0.3791, Validation F-beta: 0.7017\n",
      "Epoch 133/4000\n"
     ]
    },
    {
     "name": "stderr",
     "output_type": "stream",
     "text": [
      "Training: 100%|██████████| 144/144 [01:49<00:00,  1.32it/s, loss=0.39] \n",
      "Validation: 100%|██████████| 5/5 [00:09<00:00,  1.87s/it, loss=0.343]\n"
     ]
    },
    {
     "name": "stdout",
     "output_type": "stream",
     "text": [
      "Validation Dice Score\n",
      "Class 0: 0.9905, Class 1: 0.6275, Class 2: 0.2288, Class 3: 0.3561, Class 4: 0.7151, Class 5: 0.4501, Class 6: 0.8866, \n",
      "Validation F-beta Score\n",
      "Class 0: 0.9877, Class 1: 0.7226, Class 2: 0.3225, Class 3: 0.4317, Class 4: 0.7450, Class 5: 0.5707, Class 6: 0.9479, \n",
      "\n",
      "Overall Mean Dice Score: 0.6071\n",
      "Overall Mean F-beta Score: 0.6836\n",
      "\n",
      "Training Loss: 0.3984, Validation Loss: 0.3829, Validation F-beta: 0.6836\n",
      "Epoch 134/4000\n"
     ]
    },
    {
     "name": "stderr",
     "output_type": "stream",
     "text": [
      "Training: 100%|██████████| 144/144 [01:50<00:00,  1.30it/s, loss=0.396]\n",
      "Validation: 100%|██████████| 5/5 [00:09<00:00,  1.88s/it, loss=0.349]\n"
     ]
    },
    {
     "name": "stdout",
     "output_type": "stream",
     "text": [
      "Validation Dice Score\n",
      "Class 0: 0.9899, Class 1: 0.6663, Class 2: 0.2802, Class 3: 0.3689, Class 4: 0.6956, Class 5: 0.4606, Class 6: 0.9035, \n",
      "Validation F-beta Score\n",
      "Class 0: 0.9875, Class 1: 0.7588, Class 2: 0.3865, Class 3: 0.4768, Class 4: 0.7065, Class 5: 0.5539, Class 6: 0.9495, \n",
      "\n",
      "Overall Mean Dice Score: 0.6190\n",
      "Overall Mean F-beta Score: 0.6891\n",
      "\n",
      "Training Loss: 0.3996, Validation Loss: 0.3735, Validation F-beta: 0.6891\n",
      "Epoch 135/4000\n"
     ]
    },
    {
     "name": "stderr",
     "output_type": "stream",
     "text": [
      "Training: 100%|██████████| 144/144 [01:51<00:00,  1.29it/s, loss=0.387]\n",
      "Validation: 100%|██████████| 5/5 [00:09<00:00,  1.85s/it, loss=0.384]\n"
     ]
    },
    {
     "name": "stdout",
     "output_type": "stream",
     "text": [
      "Validation Dice Score\n",
      "Class 0: 0.9893, Class 1: 0.5648, Class 2: 0.2727, Class 3: 0.2978, Class 4: 0.7192, Class 5: 0.4348, Class 6: 0.8863, \n",
      "Validation F-beta Score\n",
      "Class 0: 0.9866, Class 1: 0.6700, Class 2: 0.3957, Class 3: 0.4023, Class 4: 0.7391, Class 5: 0.5194, Class 6: 0.9568, \n",
      "\n",
      "Overall Mean Dice Score: 0.5806\n",
      "Overall Mean F-beta Score: 0.6575\n",
      "\n",
      "Training Loss: 0.3989, Validation Loss: 0.3899, Validation F-beta: 0.6575\n",
      "Epoch 136/4000\n"
     ]
    },
    {
     "name": "stderr",
     "output_type": "stream",
     "text": [
      "Training: 100%|██████████| 144/144 [01:50<00:00,  1.30it/s, loss=0.406]\n",
      "Validation: 100%|██████████| 5/5 [00:09<00:00,  1.91s/it, loss=0.35] \n"
     ]
    },
    {
     "name": "stdout",
     "output_type": "stream",
     "text": [
      "Validation Dice Score\n",
      "Class 0: 0.9907, Class 1: 0.6969, Class 2: 0.3282, Class 3: 0.3995, Class 4: 0.7070, Class 5: 0.4837, Class 6: 0.8861, \n",
      "Validation F-beta Score\n",
      "Class 0: 0.9879, Class 1: 0.7967, Class 2: 0.3958, Class 3: 0.5039, Class 4: 0.7555, Class 5: 0.5770, Class 6: 0.9417, \n",
      "\n",
      "Overall Mean Dice Score: 0.6346\n",
      "Overall Mean F-beta Score: 0.7150\n",
      "\n",
      "Training Loss: 0.3989, Validation Loss: 0.3538, Validation F-beta: 0.7150\n",
      "========================================================\n",
      "SUPER Best model saved. Loss:0.3538, Score:0.7150\n",
      "========================================================\n",
      "Epoch 137/4000\n"
     ]
    },
    {
     "name": "stderr",
     "output_type": "stream",
     "text": [
      "Training: 100%|██████████| 144/144 [01:49<00:00,  1.32it/s, loss=0.413]\n",
      "Validation: 100%|██████████| 5/5 [00:09<00:00,  1.87s/it, loss=0.357]\n"
     ]
    },
    {
     "name": "stdout",
     "output_type": "stream",
     "text": [
      "Validation Dice Score\n",
      "Class 0: 0.9900, Class 1: 0.6416, Class 2: 0.2373, Class 3: 0.3487, Class 4: 0.7201, Class 5: 0.4567, Class 6: 0.8970, \n",
      "Validation F-beta Score\n",
      "Class 0: 0.9874, Class 1: 0.7885, Class 2: 0.3338, Class 3: 0.4521, Class 4: 0.7210, Class 5: 0.5691, Class 6: 0.9510, \n",
      "\n",
      "Overall Mean Dice Score: 0.6128\n",
      "Overall Mean F-beta Score: 0.6963\n",
      "\n",
      "Training Loss: 0.3988, Validation Loss: 0.3781, Validation F-beta: 0.6963\n",
      "Epoch 138/4000\n"
     ]
    },
    {
     "name": "stderr",
     "output_type": "stream",
     "text": [
      "Training: 100%|██████████| 144/144 [01:51<00:00,  1.30it/s, loss=0.389]\n",
      "Validation: 100%|██████████| 5/5 [00:09<00:00,  1.85s/it, loss=0.385]\n"
     ]
    },
    {
     "name": "stdout",
     "output_type": "stream",
     "text": [
      "Validation Dice Score\n",
      "Class 0: 0.9891, Class 1: 0.6516, Class 2: 0.2622, Class 3: 0.3839, Class 4: 0.6574, Class 5: 0.4480, Class 6: 0.8826, \n",
      "Validation F-beta Score\n",
      "Class 0: 0.9871, Class 1: 0.7923, Class 2: 0.3443, Class 3: 0.4632, Class 4: 0.6161, Class 5: 0.5835, Class 6: 0.9414, \n",
      "\n",
      "Overall Mean Dice Score: 0.6047\n",
      "Overall Mean F-beta Score: 0.6793\n",
      "\n",
      "Training Loss: 0.3976, Validation Loss: 0.3884, Validation F-beta: 0.6793\n",
      "Epoch 139/4000\n"
     ]
    },
    {
     "name": "stderr",
     "output_type": "stream",
     "text": [
      "Training: 100%|██████████| 144/144 [01:49<00:00,  1.31it/s, loss=0.407]\n",
      "Validation: 100%|██████████| 5/5 [00:09<00:00,  1.86s/it, loss=0.406]\n"
     ]
    },
    {
     "name": "stdout",
     "output_type": "stream",
     "text": [
      "Validation Dice Score\n",
      "Class 0: 0.9891, Class 1: 0.5948, Class 2: 0.2369, Class 3: 0.4094, Class 4: 0.7056, Class 5: 0.4594, Class 6: 0.8759, \n",
      "Validation F-beta Score\n",
      "Class 0: 0.9870, Class 1: 0.6866, Class 2: 0.3103, Class 3: 0.4855, Class 4: 0.6926, Class 5: 0.5608, Class 6: 0.9511, \n",
      "\n",
      "Overall Mean Dice Score: 0.6090\n",
      "Overall Mean F-beta Score: 0.6753\n",
      "\n",
      "Training Loss: 0.4004, Validation Loss: 0.3792, Validation F-beta: 0.6753\n",
      "Epoch 140/4000\n"
     ]
    },
    {
     "name": "stderr",
     "output_type": "stream",
     "text": [
      "Training: 100%|██████████| 144/144 [01:52<00:00,  1.28it/s, loss=0.402]\n",
      "Validation: 100%|██████████| 5/5 [00:09<00:00,  1.92s/it, loss=0.37] \n"
     ]
    },
    {
     "name": "stdout",
     "output_type": "stream",
     "text": [
      "Validation Dice Score\n",
      "Class 0: 0.9897, Class 1: 0.6187, Class 2: 0.2543, Class 3: 0.4295, Class 4: 0.7313, Class 5: 0.4791, Class 6: 0.8875, \n",
      "Validation F-beta Score\n",
      "Class 0: 0.9880, Class 1: 0.7346, Class 2: 0.3398, Class 3: 0.4968, Class 4: 0.7260, Class 5: 0.5750, Class 6: 0.9452, \n",
      "\n",
      "Overall Mean Dice Score: 0.6292\n",
      "Overall Mean F-beta Score: 0.6955\n",
      "\n",
      "Training Loss: 0.3973, Validation Loss: 0.3773, Validation F-beta: 0.6955\n",
      "Epoch 141/4000\n"
     ]
    },
    {
     "name": "stderr",
     "output_type": "stream",
     "text": [
      "Training: 100%|██████████| 144/144 [01:52<00:00,  1.28it/s, loss=0.389]\n",
      "Validation: 100%|██████████| 5/5 [00:09<00:00,  1.84s/it, loss=0.365]\n"
     ]
    },
    {
     "name": "stdout",
     "output_type": "stream",
     "text": [
      "Validation Dice Score\n",
      "Class 0: 0.9882, Class 1: 0.6176, Class 2: 0.1013, Class 3: 0.3485, Class 4: 0.6807, Class 5: 0.4357, Class 6: 0.9039, \n",
      "Validation F-beta Score\n",
      "Class 0: 0.9872, Class 1: 0.7262, Class 2: 0.1190, Class 3: 0.4315, Class 4: 0.6451, Class 5: 0.5269, Class 6: 0.9531, \n",
      "\n",
      "Overall Mean Dice Score: 0.5973\n",
      "Overall Mean F-beta Score: 0.6565\n",
      "\n",
      "Training Loss: 0.3989, Validation Loss: 0.3925, Validation F-beta: 0.6565\n",
      "Epoch 142/4000\n"
     ]
    },
    {
     "name": "stderr",
     "output_type": "stream",
     "text": [
      "Training: 100%|██████████| 144/144 [01:52<00:00,  1.28it/s, loss=0.395]\n",
      "Validation: 100%|██████████| 5/5 [00:09<00:00,  1.91s/it, loss=0.39] \n"
     ]
    },
    {
     "name": "stdout",
     "output_type": "stream",
     "text": [
      "Validation Dice Score\n",
      "Class 0: 0.9899, Class 1: 0.6458, Class 2: 0.1773, Class 3: 0.4057, Class 4: 0.7060, Class 5: 0.4774, Class 6: 0.8981, \n",
      "Validation F-beta Score\n",
      "Class 0: 0.9877, Class 1: 0.7882, Class 2: 0.2623, Class 3: 0.5389, Class 4: 0.6979, Class 5: 0.5720, Class 6: 0.9616, \n",
      "\n",
      "Overall Mean Dice Score: 0.6266\n",
      "Overall Mean F-beta Score: 0.7117\n",
      "\n",
      "Training Loss: 0.3992, Validation Loss: 0.3781, Validation F-beta: 0.7117\n",
      "Epoch 143/4000\n"
     ]
    },
    {
     "name": "stderr",
     "output_type": "stream",
     "text": [
      "Training: 100%|██████████| 144/144 [01:53<00:00,  1.27it/s, loss=0.398]\n",
      "Validation: 100%|██████████| 5/5 [00:09<00:00,  1.91s/it, loss=0.359]\n"
     ]
    },
    {
     "name": "stdout",
     "output_type": "stream",
     "text": [
      "Validation Dice Score\n",
      "Class 0: 0.9895, Class 1: 0.6316, Class 2: 0.2739, Class 3: 0.4650, Class 4: 0.7091, Class 5: 0.4729, Class 6: 0.8954, \n",
      "Validation F-beta Score\n",
      "Class 0: 0.9872, Class 1: 0.7415, Class 2: 0.3871, Class 3: 0.5469, Class 4: 0.7011, Class 5: 0.5818, Class 6: 0.9488, \n",
      "\n",
      "Overall Mean Dice Score: 0.6348\n",
      "Overall Mean F-beta Score: 0.7040\n",
      "\n",
      "Training Loss: 0.3964, Validation Loss: 0.3761, Validation F-beta: 0.7040\n",
      "Epoch 144/4000\n"
     ]
    },
    {
     "name": "stderr",
     "output_type": "stream",
     "text": [
      "Training: 100%|██████████| 144/144 [01:50<00:00,  1.31it/s, loss=0.424]\n",
      "Validation: 100%|██████████| 5/5 [00:09<00:00,  1.82s/it, loss=0.373]\n"
     ]
    },
    {
     "name": "stdout",
     "output_type": "stream",
     "text": [
      "Validation Dice Score\n",
      "Class 0: 0.9894, Class 1: 0.6554, Class 2: 0.2272, Class 3: 0.3773, Class 4: 0.6985, Class 5: 0.4813, Class 6: 0.9048, \n",
      "Validation F-beta Score\n",
      "Class 0: 0.9879, Class 1: 0.7772, Class 2: 0.3183, Class 3: 0.4847, Class 4: 0.6821, Class 5: 0.5490, Class 6: 0.9517, \n",
      "\n",
      "Overall Mean Dice Score: 0.6235\n",
      "Overall Mean F-beta Score: 0.6889\n",
      "\n",
      "Training Loss: 0.3982, Validation Loss: 0.3837, Validation F-beta: 0.6889\n",
      "Epoch 145/4000\n"
     ]
    },
    {
     "name": "stderr",
     "output_type": "stream",
     "text": [
      "Training: 100%|██████████| 144/144 [01:51<00:00,  1.29it/s, loss=0.394]\n",
      "Validation: 100%|██████████| 5/5 [00:09<00:00,  1.84s/it, loss=0.351]"
     ]
    },
    {
     "name": "stdout",
     "output_type": "stream",
     "text": [
      "Validation Dice Score\n",
      "Class 0: 0.9896, Class 1: 0.6179, Class 2: 0.1801, Class 3: 0.4041, Class 4: 0.7104, Class 5: 0.4554, Class 6: 0.9035, \n",
      "Validation F-beta Score\n",
      "Class 0: 0.9875, Class 1: 0.7418, Class 2: 0.2617, Class 3: 0.4808, Class 4: 0.7097, Class 5: 0.5338, Class 6: 0.9495, \n",
      "\n",
      "Overall Mean Dice Score: 0.6183\n",
      "Overall Mean F-beta Score: 0.6831\n",
      "\n",
      "Training Loss: 0.3975, Validation Loss: 0.3770, Validation F-beta: 0.6831\n",
      "Early stopping\n"
     ]
    },
    {
     "name": "stderr",
     "output_type": "stream",
     "text": [
      "\n"
     ]
    },
    {
     "data": {
      "text/html": [],
      "text/plain": [
       "<IPython.core.display.HTML object>"
      ]
     },
     "metadata": {},
     "output_type": "display_data"
    },
    {
     "data": {
      "text/html": [
       "<br>    <style><br>        .wandb-row {<br>            display: flex;<br>            flex-direction: row;<br>            flex-wrap: wrap;<br>            justify-content: flex-start;<br>            width: 100%;<br>        }<br>        .wandb-col {<br>            display: flex;<br>            flex-direction: column;<br>            flex-basis: 100%;<br>            flex: 1;<br>            padding: 10px;<br>        }<br>    </style><br><div class=\"wandb-row\"><div class=\"wandb-col\"><h3>Run history:</h3><br/><table class=\"wandb\"><tr><td>class_0_dice_score</td><td>▁▅▆▇▇██▇▇█▇▇▇▇█▇▇█▇▇▇█▇██▇▇█▇▇▇▇▇████▇█▇</td></tr><tr><td>class_0_f_beta_score</td><td>▇█▇▇▆▄▄▅▄▄▅▅▅▄▄▄▄▂▂▄▁▄▃▃▃▂▃▄▃▃▄▃▃▄▃▄▃▄▃▃</td></tr><tr><td>class_1_dice_score</td><td>▁▁▁▁▁▁▁▁▁▁▁▂▁▂▃▃▃▄▆▆▆▆▆▆▆▇▆▇▇▇█▇▇▇▇█▇▇██</td></tr><tr><td>class_1_f_beta_score</td><td>▂▁▁▁▁▁▁▁▁▂▃▄▆▆▆▆▇▆▆▇▆█▇▆█▆█▇▇█▇█████████</td></tr><tr><td>class_2_dice_score</td><td>▁▁▁▁▁▁▁▁▁▁▁▂▂▂▃▄▄▄▅▄▇▅▄▄▄▆▇▅▆▇▆▆▅▆▆█▇▅▇▅</td></tr><tr><td>class_2_f_beta_score</td><td>▁▁▁▁▁▁▁▁▁▁▂▂▂▂▂▃▃▄▅▄▃▃▆▃▅▅▇▆▆▅▄▇▆▇█▆▆▆▇▆</td></tr><tr><td>class_3_dice_score</td><td>▁▁▁▁▁▁▁▃▃▅▅▇▆▆▆▅▆▇▇▆▇▆▆▆▆▇▇▆██▇█▇███▇█▇▇</td></tr><tr><td>class_3_f_beta_score</td><td>▁▁▁▁▁▁▁▁▁▂▃▄▄▅▄▇▆▇▆▇█▅▇▆█▆▇█▇▆▇█▆▆▆▇██▇▇</td></tr><tr><td>class_4_dice_score</td><td>▁▂▃▃▂▄▅▅▆▅▅▆▆▇▇▆▆▆▇▇▇▇▇▇▇▇▇▇█▇▇▇▇█▇▇███▇</td></tr><tr><td>class_4_f_beta_score</td><td>▁▃▅▄▄▇▆▅▆▅▆▇█▇▆▇▆▆▆▆▅▆▇██▇▇▆▇▇▇▇█▇▇▇█▇▆▇</td></tr><tr><td>class_5_dice_score</td><td>▁▁▁▂▂▅▅▅▆▆▆▆▇▆▇▇▇▇██▇▇▇▇▇▇▆▇▇██▇▇▇▇███▇█</td></tr><tr><td>class_5_f_beta_score</td><td>▁▁▁▁▁▂▂▅▅▆▅▆▆▆▆▆▆▆▇▆▆▇▇█▇▇▇▇▇█▇█▇█▇▇▇██▇</td></tr><tr><td>class_6_dice_score</td><td>▁▃▅▇▇▇▇▇▇███▇▇██████████████████████████</td></tr><tr><td>class_6_f_beta_score</td><td>▁▁▁▂▇▇██████████████████████████████████</td></tr><tr><td>epoch</td><td>▁▁▁▁▁▂▂▂▂▂▂▂▃▃▃▃▃▄▄▄▄▄▄▄▅▅▅▅▅▆▆▆▆▆▆▇▇███</td></tr><tr><td>overall_mean_dice_score</td><td>▁▁▂▅▅▅▆▅▆▆▇▇▇▆▇▇▇▇▇▇█▇▇██▇█▇████████████</td></tr><tr><td>overall_mean_f_beta_score</td><td>▁▁▁▂▃▄▄▅▅▅▆▆▆▆▆▇▇▇▇▇▇▇█▇▇▇▇▇▇██▇▇███▇█▇█</td></tr><tr><td>train_epoch_loss</td><td>█▆▅▅▅▄▃▃▃▃▃▂▂▂▂▂▂▁▁▁▁▁▁▁▁▁▁▁▁▁▁▁▁▁▁▁▁▁▁▁</td></tr><tr><td>val_epoch_loss</td><td>█▅▄▄▄▃▃▃▃▂▂▂▂▂▂▂▂▂▂▁▂▂▂▂▂▁▁▁▁▁▁▁▁▁▁▁▁▂▁▁</td></tr></table><br/></div><div class=\"wandb-col\"><h3>Run summary:</h3><br/><table class=\"wandb\"><tr><td>class_0_dice_score</td><td>0.98959</td></tr><tr><td>class_0_f_beta_score</td><td>0.98751</td></tr><tr><td>class_1_dice_score</td><td>0.61789</td></tr><tr><td>class_1_f_beta_score</td><td>0.74178</td></tr><tr><td>class_2_dice_score</td><td>0.18007</td></tr><tr><td>class_2_f_beta_score</td><td>0.26169</td></tr><tr><td>class_3_dice_score</td><td>0.40411</td></tr><tr><td>class_3_f_beta_score</td><td>0.48076</td></tr><tr><td>class_4_dice_score</td><td>0.71044</td></tr><tr><td>class_4_f_beta_score</td><td>0.70973</td></tr><tr><td>class_5_dice_score</td><td>0.45537</td></tr><tr><td>class_5_f_beta_score</td><td>0.53377</td></tr><tr><td>class_6_dice_score</td><td>0.90348</td></tr><tr><td>class_6_f_beta_score</td><td>0.94951</td></tr><tr><td>epoch</td><td>145</td></tr><tr><td>overall_mean_dice_score</td><td>0.61826</td></tr><tr><td>overall_mean_f_beta_score</td><td>0.68311</td></tr><tr><td>train_epoch_loss</td><td>0.39746</td></tr><tr><td>val_epoch_loss</td><td>0.37702</td></tr></table><br/></div></div>"
      ],
      "text/plain": [
       "<IPython.core.display.HTML object>"
      ]
     },
     "metadata": {},
     "output_type": "display_data"
    },
    {
     "data": {
      "text/html": [
       " View run <strong style=\"color:#cdcd00\">UNet_finetune_gus_a1_96x96x96_e4000_lr0.0001_lamda0.5_ce0.4_no_weighted</strong> at: <a href='https://wandb.ai/waooang/czii_SwinUnetR/runs/89j5puyx' target=\"_blank\">https://wandb.ai/waooang/czii_SwinUnetR/runs/89j5puyx</a><br> View project at: <a href='https://wandb.ai/waooang/czii_SwinUnetR' target=\"_blank\">https://wandb.ai/waooang/czii_SwinUnetR</a><br>Synced 5 W&B file(s), 0 media file(s), 0 artifact file(s) and 0 other file(s)"
      ],
      "text/plain": [
       "<IPython.core.display.HTML object>"
      ]
     },
     "metadata": {},
     "output_type": "display_data"
    },
    {
     "data": {
      "text/html": [
       "Find logs at: <code>.\\wandb\\run-20250117_173027-89j5puyx\\logs</code>"
      ],
      "text/plain": [
       "<IPython.core.display.HTML object>"
      ]
     },
     "metadata": {},
     "output_type": "display_data"
    }
   ],
   "source": [
    "from src.dataset.dataset import create_dataloaders\n",
    "from src.dataset.dataset_csv import create_dataloaders_from_csv\n",
    "from monai.transforms import (\n",
    "    Compose, LoadImaged, EnsureChannelFirstd, NormalizeIntensityd,\n",
    "    Orientationd, CropForegroundd, GaussianSmoothd, ScaleIntensityd,\n",
    "    RandSpatialCropd, RandRotate90d, RandFlipd, RandGaussianNoised,\n",
    "    ToTensord, RandCropByLabelClassesd, RandAdjustContrastd,RandKSpaceSpikeNoised,\n",
    "    RandGaussianSmoothd, RandHistogramShiftd\n",
    ")\n",
    "from monai.transforms import CastToTyped\n",
    "import numpy as np\n",
    "\n",
    "device = torch.device(\"cuda\" if torch.cuda.is_available() else \"cpu\")\n",
    "\n",
    "train_csv = './datasets/train2.csv'\n",
    "val_csv = './datasets/val.csv'\n",
    "# DATA CONFIG\n",
    "img_size =  96 # Match your patch size\n",
    "img_depth = 32\n",
    "n_classes = 7\n",
    "batch_size = 16 # 13.8GB GPU memory required for 128x128 img size\n",
    "num_samples = batch_size # 한 이미지에서 뽑을 샘플 수\n",
    "loader_batch = 1\n",
    "num_repeat = 20\n",
    "val_num_repeat = 20\n",
    "# MODEL CONFIG\n",
    "num_epochs = 4000\n",
    "lamda = 0.5\n",
    "ce_weight = 0.4\n",
    "lr = 0.0001\n",
    "\n",
    "use_checkpoint = False\n",
    "dropout = 0.25\n",
    "# 인코더\n",
    "enc_channels = (32, 64, 128, 256)\n",
    "enc_strides = (2, 2, 2)\n",
    "num_layers_enc = (1, 1, 1, 2)\n",
    "\n",
    "core_channels = 32\n",
    "dec_channels = (128, 128, 32)\n",
    "dec_strides = (2, 2, 2)\n",
    "num_layers_dec = (2, 1, 1)\n",
    "\n",
    "# 디코더간 스킵 예시:\n",
    "#   디코더0: (\"enc\",2), (\"dec\", ?) -- 가능하지만 보통 dec_? < dec_0\n",
    "#   디코더1: (\"enc\",1), (\"dec\",0)\n",
    "#   디코더2: (\"enc\",0), (\"dec\",1)\n",
    "# 반드시 \"dec\", j => j < i 여야함\n",
    "skip_map = {\n",
    "0: [(\"enc\", 2)],       # 디코더0 => 인코더2\n",
    "1: [(\"enc\", 3), (\"enc\", 1)],  # 디코더1 => 인코더1 + 디코더0\n",
    "2: [(\"enc\", 3), (\"dec\", 0), (\"enc\", 0)]   # 디코더2 => 인코더0 + 디코더1\n",
    "}\n",
    "\n",
    "\n",
    "\n",
    "#conv_op = nn.Conv3d\n",
    "\n",
    "# CLASS_WEIGHTS\n",
    "class_weights = None\n",
    "# class_weights = torch.tensor([1, 1, 1, 1, 1, 1, 1], dtype=torch.float32)  # 클래스별 가중치\n",
    "accumulation_steps = 4\n",
    "# INIT\n",
    "start_epoch = 0\n",
    "best_val_loss = float('inf')\n",
    "best_val_fbeta_score = 0\n",
    "\n",
    "train_non_random_transforms = Compose([\n",
    "    EnsureChannelFirstd(keys=[\"image\", \"label\"], channel_dim=\"no_channel\"),\n",
    "    Orientationd(keys=[\"image\", \"label\"], axcodes=\"RAS\"),\n",
    "    NormalizeIntensityd(keys=\"image\"),\n",
    "    ])\n",
    "\n",
    "val_non_random_transforms = Compose([\n",
    "    EnsureChannelFirstd(keys=[\"image\", \"label\"], channel_dim=\"no_channel\"),\n",
    "    Orientationd(keys=[\"image\", \"label\"], axcodes=\"RAS\"),\n",
    "    NormalizeIntensityd(keys=\"image\"),\n",
    "    ])\n",
    "\n",
    "train_random_transforms = Compose([\n",
    "    RandCropByLabelClassesd(\n",
    "        keys=[\"image\", \"label\"],\n",
    "        label_key=\"label\",\n",
    "        spatial_size=[img_depth, img_size, img_size],\n",
    "        num_classes=n_classes,\n",
    "        num_samples=num_samples, \n",
    "        ratios=ratios_list,\n",
    "    ),\n",
    "    RandAdjustContrastd(keys=\"image\", prob=0.5, gamma=(0.5, 4.5)),\n",
    "    \n",
    "    RandRotate90d(keys=[\"image\", \"label\"], prob=0.5, spatial_axes=[1, 2]),\n",
    "    RandFlipd(keys=[\"image\", \"label\"], prob=0.5, spatial_axis=0),\n",
    "    RandFlipd(keys=[\"image\", \"label\"], prob=0.5, spatial_axis=1),\n",
    "    RandFlipd(keys=[\"image\", \"label\"], prob=0.5, spatial_axis=2),\n",
    "])\n",
    "\n",
    "val_random_transforms = Compose([\n",
    "    RandCropByLabelClassesd(\n",
    "        keys=[\"image\", \"label\"],\n",
    "        label_key=\"label\",\n",
    "        spatial_size=[img_depth, img_size, img_size],\n",
    "        num_classes=n_classes,\n",
    "        num_samples=num_samples, \n",
    "        ratios=ratios_list,\n",
    "    ),\n",
    "    RandRotate90d(keys=[\"image\", \"label\"], prob=0.5, spatial_axes=[1, 2]),\n",
    "    RandFlipd(keys=[\"image\", \"label\"], prob=0.5, spatial_axis=0),\n",
    "    RandFlipd(keys=[\"image\", \"label\"], prob=0.5, spatial_axis=1),\n",
    "    RandFlipd(keys=[\"image\", \"label\"], prob=0.5, spatial_axis=2),\n",
    "])\n",
    "\n",
    "train_loader, val_loader = None, None\n",
    "train_loader, val_loader = create_dataloaders_from_csv(\n",
    "    train_csv,\n",
    "    val_csv, \n",
    "    train_non_random_transforms = train_non_random_transforms, \n",
    "    val_non_random_transforms=val_non_random_transforms,\n",
    "    train_random_transforms=train_random_transforms,\n",
    "    val_random_transforms=val_random_transforms,\n",
    "    batch_size = loader_batch,\n",
    "    num_workers=0,train_num_repeat=num_repeat, val_num_repeat=val_num_repeat\n",
    "    )\n",
    "\n",
    "model = FlexibleUNet(\n",
    "    spatial_dims=3,\n",
    "    in_channels=1,\n",
    "    out_channels=7,\n",
    "    encoder_channels=enc_channels,\n",
    "    encoder_strides=enc_strides,\n",
    "    decoder_channels=dec_channels,\n",
    "    decoder_strides=dec_strides,\n",
    "    num_layers_encoder=num_layers_enc,\n",
    "    num_layers_decoder=num_layers_dec,\n",
    "    skip_connections=skip_map,\n",
    "    kernel_size=3,\n",
    "    up_kernel_size=3,\n",
    "    dropout=dropout,\n",
    "    bias=True,\n",
    ").to(device)\n",
    "\n",
    "criterion = CombinedCETverskyLoss(\n",
    "    lamda=lamda,\n",
    "    ce_weight=ce_weight,\n",
    "    n_classes=n_classes,\n",
    "    class_weights=class_weights,\n",
    "    \n",
    ").to(device)\n",
    "pretrain_str = \"yes\" if use_checkpoint else \"no\"\n",
    "\n",
    "# Pretrained weights 불러오기\n",
    "if use_checkpoint:\n",
    "    pretrain_path = \"./model_checkpoints/UNet_flexable_10441_a1_96x96x96_e4000_lr0.001_lamda0.5_ce0.4_no_weighted/best_model.pt\"\n",
    "    weight = torch.load(pretrain_path, map_location=device)\n",
    "    # strict=False로 로드하여 불일치하는 부분 무시\n",
    "    model.load_state_dict(weight, strict=False)\n",
    "    print(\"Weights loaded successfully. Output layer will be trained from scratch.\")\n",
    "# 체크포인트 디렉토리 및 파일 설정\n",
    "checkpoint_base_dir = Path(\"./model_checkpoints\")\n",
    "folder_name = f\"UNet_flexable_finetune_gus_a{accumulation_steps}_{img_size}x{img_size}x{img_size}_e{num_epochs}_lr{lr}_lamda{lamda}_ce{ce_weight}_{pretrain_str}\"\n",
    "checkpoint_dir = checkpoint_base_dir / folder_name\n",
    "# 체크포인트 디렉토리 생성\n",
    "checkpoint_dir.mkdir(parents=True, exist_ok=True)\n",
    "\n",
    "optimizer = optim.AdamW(model.parameters(), lr=lr, weight_decay=1e-5)\n",
    "scheduler = torch.optim.lr_scheduler.ReduceLROnPlateau(optimizer, patience=5, factor=0.5)\n",
    "import wandb\n",
    "from datetime import datetime\n",
    "\n",
    "current_time = datetime.now().strftime('%Y%m%d_%H%M%S')\n",
    "run_name = folder_name\n",
    "\n",
    "# wandb 초기화\n",
    "wandb.init(\n",
    "    project='czii_SwinUnetR',  # 프로젝트 이름 설정\n",
    "    name=run_name,         # 실행(run) 이름 설정\n",
    "    config={\n",
    "        'num_epochs': num_epochs,\n",
    "        'learning_rate': lr,\n",
    "        'batch_size': batch_size,\n",
    "        'lambda': lamda,\n",
    "        \"cross_entropy_weight\": ce_weight,\n",
    "        'enc_channels': enc_channels,\n",
    "        'enc_strides': enc_strides,\n",
    "        'dec_channels': dec_channels,\n",
    "        'dec_strides': dec_strides,\n",
    "        'num_layers_enc': num_layers_enc,\n",
    "        'num_layers_dec': num_layers_dec,\n",
    "        'skip_map': skip_map,\n",
    "        'img_size': img_size,\n",
    "        'sampling_ratio': ratios_list,\n",
    "        'device': device.type,\n",
    "        \"checkpoint_dir\": str(checkpoint_dir),\n",
    "        \"use_checkpoint\": use_checkpoint,\n",
    "        \"dropout\": dropout,        \n",
    "        \"accumulation_steps\": accumulation_steps,\n",
    "        \"num_repeat\": num_repeat,\n",
    "        \n",
    "        # 필요한 하이퍼파라미터 추가\n",
    "    }\n",
    ")\n",
    "# 모델을 wandb에 연결\n",
    "wandb.watch(model, log='all')\n",
    "train_model(\n",
    "    model=model,\n",
    "    train_loader=train_loader,\n",
    "    val_loader=val_loader,\n",
    "    criterion=criterion,\n",
    "    optimizer=optimizer,\n",
    "    num_epochs=num_epochs,\n",
    "    patience=10,\n",
    "    device=device,\n",
    "    start_epoch=start_epoch,\n",
    "    best_val_loss=best_val_loss,\n",
    "    best_val_fbeta_score=best_val_fbeta_score,\n",
    "    calculate_dice_interval=1,\n",
    "    accumulation_steps = accumulation_steps\n",
    "    )"
   ]
  },
  {
   "cell_type": "code",
   "execution_count": 12,
   "metadata": {},
   "outputs": [
    {
     "ename": "SyntaxError",
     "evalue": "invalid syntax (879943805.py, line 1)",
     "output_type": "error",
     "traceback": [
      "\u001b[1;36m  Cell \u001b[1;32mIn[12], line 1\u001b[1;36m\u001b[0m\n\u001b[1;33m    if:\u001b[0m\n\u001b[1;37m      ^\u001b[0m\n\u001b[1;31mSyntaxError\u001b[0m\u001b[1;31m:\u001b[0m invalid syntax\n"
     ]
    }
   ],
   "source": [
    "if:"
   ]
  },
  {
   "cell_type": "markdown",
   "metadata": {},
   "source": [
    "# VAl"
   ]
  },
  {
   "cell_type": "code",
   "execution_count": null,
   "metadata": {},
   "outputs": [
    {
     "data": {
      "text/html": [
       "Finishing last run (ID:fs6utwyo) before initializing another..."
      ],
      "text/plain": [
       "<IPython.core.display.HTML object>"
      ]
     },
     "metadata": {},
     "output_type": "display_data"
    },
    {
     "data": {
      "application/vnd.jupyter.widget-view+json": {
       "model_id": "29cc3ae761af43baae5aca60b5d2e7f4",
       "version_major": 2,
       "version_minor": 0
      },
      "text/plain": [
       "VBox(children=(Label(value='0.009 MB of 0.009 MB uploaded\\r'), FloatProgress(value=1.0, max=1.0)))"
      ]
     },
     "metadata": {},
     "output_type": "display_data"
    },
    {
     "data": {
      "text/html": [
       "<style>\n",
       "    table.wandb td:nth-child(1) { padding: 0 10px; text-align: left ; width: auto;} td:nth-child(2) {text-align: left ; width: 100%}\n",
       "    .wandb-row { display: flex; flex-direction: row; flex-wrap: wrap; justify-content: flex-start; width: 100% }\n",
       "    .wandb-col { display: flex; flex-direction: column; flex-basis: 100%; flex: 1; padding: 10px; }\n",
       "    </style>\n",
       "<div class=\"wandb-row\"><div class=\"wandb-col\"><h3>Run history:</h3><br/><table class=\"wandb\"><tr><td>class_0_dice_score</td><td>▁</td></tr><tr><td>class_0_f_beta_score</td><td>▁</td></tr><tr><td>class_1_dice_score</td><td>▁</td></tr><tr><td>class_1_f_beta_score</td><td>▁</td></tr><tr><td>class_2_dice_score</td><td>▁</td></tr><tr><td>class_2_f_beta_score</td><td>▁</td></tr><tr><td>class_3_dice_score</td><td>▁</td></tr><tr><td>class_3_f_beta_score</td><td>▁</td></tr><tr><td>class_4_dice_score</td><td>▁</td></tr><tr><td>class_4_f_beta_score</td><td>▁</td></tr><tr><td>class_5_dice_score</td><td>▁</td></tr><tr><td>class_5_f_beta_score</td><td>▁</td></tr><tr><td>class_6_dice_score</td><td>▁</td></tr><tr><td>class_6_f_beta_score</td><td>▁</td></tr><tr><td>epoch</td><td>▁▁▁▁▁▁▁▁▁▁▁▁▁▁▁▁</td></tr><tr><td>overall_mean_dice_score</td><td>▁</td></tr><tr><td>overall_mean_f_beta_score</td><td>▁</td></tr><tr><td>val_epoch_loss</td><td>▁</td></tr></table><br/></div><div class=\"wandb-col\"><h3>Run summary:</h3><br/><table class=\"wandb\"><tr><td>class_0_dice_score</td><td>0.65703</td></tr><tr><td>class_0_f_beta_score</td><td>0.50748</td></tr><tr><td>class_1_dice_score</td><td>0.53332</td></tr><tr><td>class_1_f_beta_score</td><td>0.64703</td></tr><tr><td>class_2_dice_score</td><td>0.00286</td></tr><tr><td>class_2_f_beta_score</td><td>0.02334</td></tr><tr><td>class_3_dice_score</td><td>0.23703</td></tr><tr><td>class_3_f_beta_score</td><td>0.23033</td></tr><tr><td>class_4_dice_score</td><td>0.65487</td></tr><tr><td>class_4_f_beta_score</td><td>0.62525</td></tr><tr><td>class_5_dice_score</td><td>0.47899</td></tr><tr><td>class_5_f_beta_score</td><td>0.51448</td></tr><tr><td>class_6_dice_score</td><td>0.42545</td></tr><tr><td>class_6_f_beta_score</td><td>0.47197</td></tr><tr><td>epoch</td><td>1</td></tr><tr><td>overall_mean_dice_score</td><td>0.42708</td></tr><tr><td>overall_mean_f_beta_score</td><td>0.43141</td></tr><tr><td>val_epoch_loss</td><td>0.7152</td></tr></table><br/></div></div>"
      ],
      "text/plain": [
       "<IPython.core.display.HTML object>"
      ]
     },
     "metadata": {},
     "output_type": "display_data"
    },
    {
     "data": {
      "text/html": [
       " View run <strong style=\"color:#cdcd00\">SwinUNETR96_96_lr0.001_lambda0.52_batch2</strong> at: <a href='https://wandb.ai/waooang/czii_SwinUnetR_val/runs/fs6utwyo' target=\"_blank\">https://wandb.ai/waooang/czii_SwinUnetR_val/runs/fs6utwyo</a><br/> View project at: <a href='https://wandb.ai/waooang/czii_SwinUnetR_val' target=\"_blank\">https://wandb.ai/waooang/czii_SwinUnetR_val</a><br/>Synced 4 W&B file(s), 0 media file(s), 3 artifact file(s) and 0 other file(s)"
      ],
      "text/plain": [
       "<IPython.core.display.HTML object>"
      ]
     },
     "metadata": {},
     "output_type": "display_data"
    },
    {
     "data": {
      "text/html": [
       "Find logs at: <code>.\\wandb\\run-20241219_200219-fs6utwyo\\logs</code>"
      ],
      "text/plain": [
       "<IPython.core.display.HTML object>"
      ]
     },
     "metadata": {},
     "output_type": "display_data"
    },
    {
     "data": {
      "text/html": [
       "Successfully finished last run (ID:fs6utwyo). Initializing new run:<br/>"
      ],
      "text/plain": [
       "<IPython.core.display.HTML object>"
      ]
     },
     "metadata": {},
     "output_type": "display_data"
    },
    {
     "data": {
      "text/html": [
       "Tracking run with wandb version 0.18.3"
      ],
      "text/plain": [
       "<IPython.core.display.HTML object>"
      ]
     },
     "metadata": {},
     "output_type": "display_data"
    },
    {
     "data": {
      "text/html": [
       "Run data is saved locally in <code>e:\\Workspace\\czll\\wandb\\run-20241219_200454-121l7bn3</code>"
      ],
      "text/plain": [
       "<IPython.core.display.HTML object>"
      ]
     },
     "metadata": {},
     "output_type": "display_data"
    },
    {
     "data": {
      "text/html": [
       "Syncing run <strong><a href='https://wandb.ai/waooang/czii_SwinUnetR_val/runs/121l7bn3' target=\"_blank\">SwinUNETR96_96_lr0.001_lambda0.52_batch2</a></strong> to <a href='https://wandb.ai/waooang/czii_SwinUnetR_val' target=\"_blank\">Weights & Biases</a> (<a href='https://wandb.me/run' target=\"_blank\">docs</a>)<br/>"
      ],
      "text/plain": [
       "<IPython.core.display.HTML object>"
      ]
     },
     "metadata": {},
     "output_type": "display_data"
    },
    {
     "data": {
      "text/html": [
       " View project at <a href='https://wandb.ai/waooang/czii_SwinUnetR_val' target=\"_blank\">https://wandb.ai/waooang/czii_SwinUnetR_val</a>"
      ],
      "text/plain": [
       "<IPython.core.display.HTML object>"
      ]
     },
     "metadata": {},
     "output_type": "display_data"
    },
    {
     "data": {
      "text/html": [
       " View run at <a href='https://wandb.ai/waooang/czii_SwinUnetR_val/runs/121l7bn3' target=\"_blank\">https://wandb.ai/waooang/czii_SwinUnetR_val/runs/121l7bn3</a>"
      ],
      "text/plain": [
       "<IPython.core.display.HTML object>"
      ]
     },
     "metadata": {},
     "output_type": "display_data"
    },
    {
     "name": "stderr",
     "output_type": "stream",
     "text": [
      "Loading dataset: 100%|██████████| 4/4 [00:06<00:00,  1.58s/it]\n",
      "C:\\Users\\Seungwoo\\AppData\\Local\\Temp\\ipykernel_21000\\1177025787.py:95: FutureWarning: You are using `torch.load` with `weights_only=False` (the current default value), which uses the default pickle module implicitly. It is possible to construct malicious pickle data which will execute arbitrary code during unpickling (See https://github.com/pytorch/pytorch/blob/main/SECURITY.md#untrusted-models for more details). In a future release, the default value for `weights_only` will be flipped to `True`. This limits the functions that could be executed during unpickling. Arbitrary objects will no longer be allowed to be loaded via this mode unless they are explicitly allowlisted by the user via `torch.serialization.add_safe_globals`. We recommend you start setting `weights_only=True` for any use case where you don't have full control of the loaded file. Please open an issue on GitHub for any issues related to this experimental feature.\n",
      "  checkpoint = torch.load(pretrain_path, map_location=device)\n",
      "Validation: 100%|██████████| 4/4 [00:01<00:00,  2.38it/s, loss=0.865]"
     ]
    },
    {
     "name": "stdout",
     "output_type": "stream",
     "text": [
      "Validation Dice Score\n",
      "Class 0: 0.6570, Class 1: 0.5333, Class 2: 0.0029, Class 3: 0.2370, \n",
      "Class 4: 0.6549, Class 5: 0.4790, Class 6: 0.4255, \n",
      "Validation F-beta Score\n",
      "Class 0: 0.5075, Class 1: 0.6470, Class 2: 0.0233, Class 3: 0.2303, \n",
      "Class 4: 0.6252, Class 5: 0.5145, Class 6: 0.4720, \n",
      "Overall Mean Dice Score: 0.4659\n",
      "Overall Mean F-beta Score: 0.4978\n",
      "\n"
     ]
    },
    {
     "name": "stderr",
     "output_type": "stream",
     "text": [
      "\n"
     ]
    }
   ],
   "source": [
    "from monai.data import DataLoader, Dataset, CacheDataset\n",
    "from monai.transforms import (\n",
    "    Compose, LoadImaged, EnsureChannelFirstd, NormalizeIntensityd,\n",
    "    Orientationd, CropForegroundd, GaussianSmoothd, ScaleIntensityd,\n",
    "    RandSpatialCropd, RandRotate90d, RandFlipd, RandGaussianNoised,\n",
    "    ToTensord, RandCropByLabelClassesd\n",
    ")\n",
    "from monai.metrics import DiceMetric\n",
    "from monai.networks.nets import UNETR, SwinUNETR\n",
    "from monai.losses import TverskyLoss\n",
    "import torch\n",
    "import numpy as np\n",
    "from tqdm import tqdm\n",
    "import wandb\n",
    "from src.dataset.dataset import make_val_dataloader\n",
    "\n",
    "val_img_dir = \"./datasets/val/images\"\n",
    "val_label_dir = \"./datasets/val/labels\"\n",
    "img_depth = 96\n",
    "img_size = 96  # Match your patch size\n",
    "n_classes = 7\n",
    "batch_size = 2 # 13.8GB GPU memory required for 128x128 img size\n",
    "num_samples = batch_size # 한 이미지에서 뽑을 샘플 수\n",
    "loader_batch = 1\n",
    "lamda = 0.52\n",
    "\n",
    "wandb.init(\n",
    "    project='czii_SwinUnetR_val',  # 프로젝트 이름 설정\n",
    "    name='SwinUNETR96_96_lr0.001_lambda0.52_batch2',         # 실행(run) 이름 설정\n",
    "    config={\n",
    "        'learning_rate': 0.001,\n",
    "        'batch_size': batch_size,\n",
    "        'lambda': lamda,\n",
    "        'img_size': img_size,\n",
    "        'device': 'cuda',\n",
    "        \"checkpoint_dir\": \"./model_checkpoints/SwinUNETR96_96_lr0.001_lambda0.52_batch2\",\n",
    "        \n",
    "    }\n",
    ")\n",
    "\n",
    "non_random_transforms = Compose([\n",
    "    EnsureChannelFirstd(keys=[\"image\", \"label\"], channel_dim=\"no_channel\"),\n",
    "    NormalizeIntensityd(keys=\"image\"),\n",
    "    Orientationd(keys=[\"image\", \"label\"], axcodes=\"RAS\"),\n",
    "    # GaussianSmoothd(\n",
    "    #     keys=[\"image\"],      # 변환을 적용할 키\n",
    "    #     sigma=[1.0, 1.0, 1.0]  # 각 축(x, y, z)의 시그마 값\n",
    "    #     ),\n",
    "])\n",
    "random_transforms = Compose([\n",
    "    RandCropByLabelClassesd(\n",
    "        keys=[\"image\", \"label\"],\n",
    "        label_key=\"label\",\n",
    "        spatial_size=[img_depth, img_size, img_size],\n",
    "        num_classes=n_classes,\n",
    "        num_samples=num_samples, \n",
    "        ratios=ratios_list,\n",
    "    ),\n",
    "    RandRotate90d(keys=[\"image\", \"label\"], prob=0.5, spatial_axes=[1, 2]),\n",
    "    RandFlipd(keys=[\"image\", \"label\"], prob=0.5, spatial_axis=0),\n",
    "])\n",
    "\n",
    "val_loader = make_val_dataloader(\n",
    "    val_img_dir, \n",
    "    val_label_dir, \n",
    "    non_random_transforms = non_random_transforms, \n",
    "    random_transforms = random_transforms, \n",
    "    batch_size = loader_batch,\n",
    "    num_workers=0\n",
    ")\n",
    "criterion = TverskyLoss(\n",
    "    alpha= 1 - lamda,  # FP에 대한 가중치\n",
    "    beta=lamda,       # FN에 대한 가중치\n",
    "    include_background=False,  # 배경 클래스 제외\n",
    "    softmax=True\n",
    ")\n",
    "    \n",
    "    \n",
    "from monai.metrics import DiceMetric\n",
    "\n",
    "img_size = 96\n",
    "img_depth = img_size\n",
    "n_classes = 7 \n",
    "\n",
    "device = torch.device(\"cuda\" if torch.cuda.is_available() else \"cpu\")\n",
    "pretrain_path = \"./model_checkpoints/SwinUNETR96_96_lr0.001_lambda0.52_batch2/best_model.pt\"\n",
    "model = SwinUNETR(\n",
    "    img_size=(img_depth, img_size, img_size),\n",
    "    in_channels=1,\n",
    "    out_channels=n_classes,\n",
    "    feature_size=48,\n",
    "    use_checkpoint=True,\n",
    ").to(device)\n",
    "# Pretrained weights 불러오기\n",
    "checkpoint = torch.load(pretrain_path, map_location=device)\n",
    "model.load_state_dict(checkpoint['model_state_dict'])\n",
    "\n",
    "val_loss, overall_mean_fbeta_score = validate_one_epoch(\n",
    "    model=model, \n",
    "    val_loader=val_loader, \n",
    "    criterion=criterion, \n",
    "    device=device, \n",
    "    epoch=0, \n",
    "    calculate_dice_interval=1\n",
    ")"
   ]
  },
  {
   "cell_type": "markdown",
   "metadata": {},
   "source": [
    "# Inference"
   ]
  },
  {
   "cell_type": "code",
   "execution_count": null,
   "metadata": {},
   "outputs": [],
   "source": [
    "from src.dataset.preprocessing import Preprocessor"
   ]
  },
  {
   "cell_type": "code",
   "execution_count": null,
   "metadata": {},
   "outputs": [
    {
     "name": "stdout",
     "output_type": "stream",
     "text": [
      "Done.\n"
     ]
    }
   ],
   "source": [
    "from monai.inferers import sliding_window_inference\n",
    "from monai.transforms import Compose, EnsureChannelFirstd, NormalizeIntensityd, Orientationd, GaussianSmoothd\n",
    "from monai.data import DataLoader, Dataset, CacheDataset\n",
    "from monai.networks.nets import SwinUNETR\n",
    "from pathlib import Path\n",
    "import numpy as np\n",
    "import copick\n",
    "\n",
    "import torch\n",
    "print(\"Done.\")"
   ]
  },
  {
   "cell_type": "code",
   "execution_count": null,
   "metadata": {},
   "outputs": [
    {
     "name": "stdout",
     "output_type": "stream",
     "text": [
      "Config file written to ./kaggle/working/copick.config\n",
      "file length: 7\n"
     ]
    }
   ],
   "source": [
    "config_blob = \"\"\"{\n",
    "    \"name\": \"czii_cryoet_mlchallenge_2024\",\n",
    "    \"description\": \"2024 CZII CryoET ML Challenge training data.\",\n",
    "    \"version\": \"1.0.0\",\n",
    "\n",
    "    \"pickable_objects\": [\n",
    "        {\n",
    "            \"name\": \"apo-ferritin\",\n",
    "            \"is_particle\": true,\n",
    "            \"pdb_id\": \"4V1W\",\n",
    "            \"label\": 1,\n",
    "            \"color\": [  0, 117, 220, 128],\n",
    "            \"radius\": 60,\n",
    "            \"map_threshold\": 0.0418\n",
    "        },\n",
    "        {\n",
    "          \"name\" : \"beta-amylase\",\n",
    "            \"is_particle\": true,\n",
    "            \"pdb_id\": \"8ZRZ\",\n",
    "            \"label\": 2,\n",
    "            \"color\": [255, 255, 255, 128],\n",
    "            \"radius\": 90,\n",
    "            \"map_threshold\": 0.0578  \n",
    "        },\n",
    "        {\n",
    "            \"name\": \"beta-galactosidase\",\n",
    "            \"is_particle\": true,\n",
    "            \"pdb_id\": \"6X1Q\",\n",
    "            \"label\": 3,\n",
    "            \"color\": [ 76,   0,  92, 128],\n",
    "            \"radius\": 90,\n",
    "            \"map_threshold\": 0.0578\n",
    "        },\n",
    "        {\n",
    "            \"name\": \"ribosome\",\n",
    "            \"is_particle\": true,\n",
    "            \"pdb_id\": \"6EK0\",\n",
    "            \"label\": 4,\n",
    "            \"color\": [  0,  92,  49, 128],\n",
    "            \"radius\": 150,\n",
    "            \"map_threshold\": 0.0374\n",
    "        },\n",
    "        {\n",
    "            \"name\": \"thyroglobulin\",\n",
    "            \"is_particle\": true,\n",
    "            \"pdb_id\": \"6SCJ\",\n",
    "            \"label\": 5,\n",
    "            \"color\": [ 43, 206,  72, 128],\n",
    "            \"radius\": 130,\n",
    "            \"map_threshold\": 0.0278\n",
    "        },\n",
    "        {\n",
    "            \"name\": \"virus-like-particle\",\n",
    "            \"is_particle\": true,\n",
    "            \"label\": 6,\n",
    "            \"color\": [255, 204, 153, 128],\n",
    "            \"radius\": 135,\n",
    "            \"map_threshold\": 0.201\n",
    "        },\n",
    "        {\n",
    "            \"name\": \"membrane\",\n",
    "            \"is_particle\": false,\n",
    "            \"label\": 8,\n",
    "            \"color\": [100, 100, 100, 128]\n",
    "        },\n",
    "        {\n",
    "            \"name\": \"background\",\n",
    "            \"is_particle\": false,\n",
    "            \"label\": 9,\n",
    "            \"color\": [10, 150, 200, 128]\n",
    "        }\n",
    "    ],\n",
    "\n",
    "    \"overlay_root\": \"./kaggle/working/overlay\",\n",
    "\n",
    "    \"overlay_fs_args\": {\n",
    "        \"auto_mkdir\": true\n",
    "    },\n",
    "\n",
    "    \"static_root\": \"./kaggle/input/czii-cryo-et-object-identification/test/static\"\n",
    "}\"\"\"\n",
    "\n",
    "copick_config_path = \"./kaggle/working/copick.config\"\n",
    "preprocessor = Preprocessor(config_blob,copick_config_path=copick_config_path)\n",
    "non_random_transforms = Compose([\n",
    "    EnsureChannelFirstd(keys=[\"image\"], channel_dim=\"no_channel\"),\n",
    "    NormalizeIntensityd(keys=\"image\"),\n",
    "    Orientationd(keys=[\"image\"], axcodes=\"RAS\"),\n",
    "    GaussianSmoothd(\n",
    "        keys=[\"image\"],      # 변환을 적용할 키\n",
    "        sigma=[1.0, 1.0, 1.0]  # 각 축(x, y, z)의 시그마 값\n",
    "        ),\n",
    "    ])"
   ]
  },
  {
   "cell_type": "code",
   "execution_count": null,
   "metadata": {},
   "outputs": [
    {
     "name": "stderr",
     "output_type": "stream",
     "text": [
      "c:\\ProgramData\\anaconda3\\envs\\ship\\Lib\\site-packages\\monai\\utils\\deprecate_utils.py:221: FutureWarning: monai.networks.nets.swin_unetr SwinUNETR.__init__:img_size: Argument `img_size` has been deprecated since version 1.3. It will be removed in version 1.5. The img_size argument is not required anymore and checks on the input size are run during forward().\n",
      "  warn_deprecated(argname, msg, warning_category)\n",
      "C:\\Users\\Seungwoo\\AppData\\Local\\Temp\\ipykernel_6248\\2937359115.py:15: FutureWarning: You are using `torch.load` with `weights_only=False` (the current default value), which uses the default pickle module implicitly. It is possible to construct malicious pickle data which will execute arbitrary code during unpickling (See https://github.com/pytorch/pytorch/blob/main/SECURITY.md#untrusted-models for more details). In a future release, the default value for `weights_only` will be flipped to `True`. This limits the functions that could be executed during unpickling. Arbitrary objects will no longer be allowed to be loaded via this mode unless they are explicitly allowlisted by the user via `torch.serialization.add_safe_globals`. We recommend you start setting `weights_only=True` for any use case where you don't have full control of the loaded file. Please open an issue on GitHub for any issues related to this experimental feature.\n",
      "  checkpoint = torch.load(pretrain_path, map_location=device)\n"
     ]
    },
    {
     "data": {
      "text/plain": [
       "<All keys matched successfully>"
      ]
     },
     "execution_count": 15,
     "metadata": {},
     "output_type": "execute_result"
    }
   ],
   "source": [
    "img_size = 96\n",
    "img_depth = img_size\n",
    "n_classes = 7 \n",
    "\n",
    "device = torch.device(\"cuda\" if torch.cuda.is_available() else \"cpu\")\n",
    "pretrain_path = \"./model_checkpoints/SwinUNETR96_96_lr0.001_lambda0.52_batch2/best_model.pt\"\n",
    "model = SwinUNETR(\n",
    "    img_size=(img_depth, img_size, img_size),\n",
    "    in_channels=1,\n",
    "    out_channels=n_classes,\n",
    "    feature_size=48,\n",
    "    use_checkpoint=True,\n",
    ").to(device)\n",
    "# Pretrained weights 불러오기\n",
    "checkpoint = torch.load(pretrain_path, map_location=device)\n",
    "model.load_state_dict(checkpoint['model_state_dict'])\n"
   ]
  },
  {
   "cell_type": "code",
   "execution_count": null,
   "metadata": {},
   "outputs": [
    {
     "name": "stderr",
     "output_type": "stream",
     "text": [
      "Validation:   0%|          | 0/4 [00:03<?, ?it/s, loss=0.764]\n"
     ]
    },
    {
     "ename": "ZeroDivisionError",
     "evalue": "integer modulo by zero",
     "output_type": "error",
     "traceback": [
      "\u001b[1;31m---------------------------------------------------------------------------\u001b[0m",
      "\u001b[1;31mZeroDivisionError\u001b[0m                         Traceback (most recent call last)",
      "Cell \u001b[1;32mIn[16], line 1\u001b[0m\n\u001b[1;32m----> 1\u001b[0m val_loss \u001b[38;5;241m=\u001b[39m \u001b[43mvalidate_one_epoch\u001b[49m\u001b[43m(\u001b[49m\n\u001b[0;32m      2\u001b[0m \u001b[43m            \u001b[49m\u001b[43mmodel\u001b[49m\u001b[38;5;241;43m=\u001b[39;49m\u001b[43mmodel\u001b[49m\u001b[43m,\u001b[49m\u001b[43m \u001b[49m\n\u001b[0;32m      3\u001b[0m \u001b[43m            \u001b[49m\u001b[43mval_loader\u001b[49m\u001b[38;5;241;43m=\u001b[39;49m\u001b[43mval_loader\u001b[49m\u001b[43m,\u001b[49m\u001b[43m \u001b[49m\n\u001b[0;32m      4\u001b[0m \u001b[43m            \u001b[49m\u001b[43mcriterion\u001b[49m\u001b[38;5;241;43m=\u001b[39;49m\u001b[43mcriterion\u001b[49m\u001b[43m,\u001b[49m\u001b[43m \u001b[49m\n\u001b[0;32m      5\u001b[0m \u001b[43m            \u001b[49m\u001b[43mdevice\u001b[49m\u001b[38;5;241;43m=\u001b[39;49m\u001b[43mdevice\u001b[49m\u001b[43m,\u001b[49m\u001b[43m \u001b[49m\n\u001b[0;32m      6\u001b[0m \u001b[43m            \u001b[49m\u001b[43mepoch\u001b[49m\u001b[38;5;241;43m=\u001b[39;49m\u001b[38;5;241;43m1\u001b[39;49m\u001b[43m,\u001b[49m\u001b[43m \u001b[49m\n\u001b[0;32m      7\u001b[0m \u001b[43m            \u001b[49m\u001b[43mcalculate_dice_interval\u001b[49m\u001b[38;5;241;43m=\u001b[39;49m\u001b[38;5;241;43m0\u001b[39;49m\n\u001b[0;32m      8\u001b[0m \u001b[43m        \u001b[49m\u001b[43m)\u001b[49m\n",
      "Cell \u001b[1;32mIn[11], line 64\u001b[0m, in \u001b[0;36mvalidate_one_epoch\u001b[1;34m(model, val_loader, criterion, device, epoch, calculate_dice_interval)\u001b[0m\n\u001b[0;32m     61\u001b[0m pbar\u001b[38;5;241m.\u001b[39mset_postfix(loss\u001b[38;5;241m=\u001b[39mloss\u001b[38;5;241m.\u001b[39mitem())\n\u001b[0;32m     63\u001b[0m \u001b[38;5;66;03m# 각 클래스별 Dice 점수 계산\u001b[39;00m\n\u001b[1;32m---> 64\u001b[0m \u001b[38;5;28;01mif\u001b[39;00m \u001b[43mepoch\u001b[49m\u001b[43m \u001b[49m\u001b[38;5;241;43m%\u001b[39;49m\u001b[43m \u001b[49m\u001b[43mcalculate_dice_interval\u001b[49m \u001b[38;5;241m==\u001b[39m \u001b[38;5;241m0\u001b[39m:\n\u001b[0;32m     65\u001b[0m     \u001b[38;5;28;01mfor\u001b[39;00m i \u001b[38;5;129;01min\u001b[39;00m \u001b[38;5;28mrange\u001b[39m(n_classes):\n\u001b[0;32m     66\u001b[0m         pred_i \u001b[38;5;241m=\u001b[39m (preds \u001b[38;5;241m==\u001b[39m i)\n",
      "\u001b[1;31mZeroDivisionError\u001b[0m: integer modulo by zero"
     ]
    }
   ],
   "source": [
    "val_loss = validate_one_epoch(\n",
    "            model=model, \n",
    "            val_loader=val_loader, \n",
    "            criterion=criterion, \n",
    "            device=device, \n",
    "            epoch=1, \n",
    "            calculate_dice_interval=0\n",
    "        )"
   ]
  },
  {
   "cell_type": "code",
   "execution_count": null,
   "metadata": {},
   "outputs": [
    {
     "name": "stdout",
     "output_type": "stream",
     "text": [
      "Processing volume 1/7\n"
     ]
    },
    {
     "name": "stderr",
     "output_type": "stream",
     "text": [
      "Loading dataset: 100%|██████████| 1/1 [00:01<00:00,  1.94s/it]\n"
     ]
    },
    {
     "name": "stdout",
     "output_type": "stream",
     "text": [
      "Processing volume 2/7\n"
     ]
    },
    {
     "name": "stderr",
     "output_type": "stream",
     "text": [
      "Loading dataset: 100%|██████████| 1/1 [00:01<00:00,  1.89s/it]\n"
     ]
    },
    {
     "name": "stdout",
     "output_type": "stream",
     "text": [
      "Processing volume 3/7\n"
     ]
    },
    {
     "name": "stderr",
     "output_type": "stream",
     "text": [
      "Loading dataset: 100%|██████████| 1/1 [00:01<00:00,  1.79s/it]\n"
     ]
    },
    {
     "name": "stdout",
     "output_type": "stream",
     "text": [
      "Submission saved to: submission.csv\n"
     ]
    }
   ],
   "source": [
    "import torch\n",
    "import numpy as np\n",
    "from scipy.ndimage import label, center_of_mass\n",
    "import pandas as pd\n",
    "from tqdm import tqdm\n",
    "from monai.data import CacheDataset, DataLoader\n",
    "from monai.transforms import Compose, NormalizeIntensity\n",
    "import cc3d\n",
    "\n",
    "def dict_to_df(coord_dict, experiment_name):\n",
    "    all_coords = []\n",
    "    all_labels = []\n",
    "    \n",
    "    for label, coords in coord_dict.items():\n",
    "        all_coords.append(coords)\n",
    "        all_labels.extend([label] * len(coords))\n",
    "    \n",
    "    all_coords = np.vstack(all_coords)\n",
    "    df = pd.DataFrame({\n",
    "        'experiment': experiment_name,\n",
    "        'particle_type': all_labels,\n",
    "        'x': all_coords[:, 0],\n",
    "        'y': all_coords[:, 1],\n",
    "        'z': all_coords[:, 2]\n",
    "    })\n",
    "    return df\n",
    "\n",
    "id_to_name = {1: \"apo-ferritin\", \n",
    "              2: \"beta-amylase\",\n",
    "              3: \"beta-galactosidase\", \n",
    "              4: \"ribosome\", \n",
    "              5: \"thyroglobulin\", \n",
    "              6: \"virus-like-particle\"}\n",
    "BLOB_THRESHOLD = 200\n",
    "CERTAINTY_THRESHOLD = 0.05\n",
    "\n",
    "classes = [1, 2, 3, 4, 5, 6]\n",
    "\n",
    "model.eval()\n",
    "with torch.no_grad():\n",
    "    location_dfs = []  # DataFrame 리스트로 초기화\n",
    "    \n",
    "    for vol_idx, run in enumerate(preprocessor.root.runs):\n",
    "        print(f\"Processing volume {vol_idx + 1}/{len(preprocessor.root.runs)}\")\n",
    "        tomogram = preprocessor.processing(run=run, task=\"task\")\n",
    "        task_files = [{\"image\": tomogram}]\n",
    "        task_ds = CacheDataset(data=task_files, transform=non_random_transforms)\n",
    "        task_loader = DataLoader(task_ds, batch_size=1, num_workers=0)\n",
    "        \n",
    "        for task_data in task_loader:\n",
    "            images = task_data['image'].to(\"cuda\")\n",
    "            outputs = sliding_window_inference(\n",
    "                inputs=images,\n",
    "                roi_size=(96, 96, 96),  # ROI 크기\n",
    "                sw_batch_size=4,\n",
    "                predictor=model.forward,\n",
    "                overlap=0.1,\n",
    "                sw_device=\"cuda\",\n",
    "                device=\"cpu\",\n",
    "                buffer_steps=1,\n",
    "                buffer_dim=-1\n",
    "            )\n",
    "            outputs = outputs.argmax(dim=1).squeeze(0).cpu().numpy()  # 클래스 채널 예측\n",
    "            location = {}  # 좌표 저장용 딕셔너리\n",
    "            for c in classes:\n",
    "                cc = cc3d.connected_components(outputs == c)  # cc3d 라벨링\n",
    "                stats = cc3d.statistics(cc)\n",
    "                zyx = stats['centroids'][1:] * 10.012444  # 스케일 변환\n",
    "                zyx_large = zyx[stats['voxel_counts'][1:] > BLOB_THRESHOLD]  # 크기 필터링\n",
    "                xyz = np.ascontiguousarray(zyx_large[:, ::-1])  # 좌표 스왑 (z, y, x -> x, y, z)\n",
    "\n",
    "                location[id_to_name[c]] = xyz  # ID 이름 매칭 저장\n",
    "\n",
    "            # 데이터프레임 변환\n",
    "            df = dict_to_df(location, run.name)\n",
    "            location_dfs.append(df)  # 리스트에 추가\n",
    "        \n",
    "        # if vol_idx == 2:\n",
    "        #     break\n",
    "    \n",
    "    # DataFrame 병합\n",
    "    final_df = pd.concat(location_dfs, ignore_index=True)\n",
    "    \n",
    "    # ID 추가 및 CSV 저장\n",
    "    final_df.insert(loc=0, column='id', value=np.arange(len(final_df)))\n",
    "    final_df.to_csv(\"submission.csv\", index=False)\n",
    "    print(\"Submission saved to: submission.csv\")\n"
   ]
  }
 ],
 "metadata": {
  "kernelspec": {
   "display_name": "czii",
   "language": "python",
   "name": "python3"
  },
  "language_info": {
   "codemirror_mode": {
    "name": "ipython",
    "version": 3
   },
   "file_extension": ".py",
   "mimetype": "text/x-python",
   "name": "python",
   "nbconvert_exporter": "python",
   "pygments_lexer": "ipython3",
   "version": "3.12.7"
  }
 },
 "nbformat": 4,
 "nbformat_minor": 2
}
